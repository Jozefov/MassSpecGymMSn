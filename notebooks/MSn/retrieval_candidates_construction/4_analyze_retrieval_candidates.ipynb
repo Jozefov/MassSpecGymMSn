{
 "cells": [
  {
   "cell_type": "code",
   "metadata": {
    "ExecuteTime": {
     "end_time": "2025-01-19T08:21:32.913913Z",
     "start_time": "2025-01-19T08:21:32.901336Z"
    }
   },
   "source": [
    "%load_ext autoreload\n",
    "%autoreload 2"
   ],
   "outputs": [],
   "execution_count": 1
  },
  {
   "cell_type": "code",
   "metadata": {
    "ExecuteTime": {
     "end_time": "2025-01-19T08:21:35.619928Z",
     "start_time": "2025-01-19T08:21:32.920898Z"
    }
   },
   "source": [
    "import json\n",
    "\n",
    "import matplotlib.pyplot as plt\n",
    "import pandas as pd\n",
    "from rdkit import RDLogger\n",
    "from pandarallel import pandarallel\n",
    "\n",
    "import massspecgym.utils as utils"
   ],
   "outputs": [],
   "execution_count": 2
  },
  {
   "cell_type": "code",
   "metadata": {
    "ExecuteTime": {
     "end_time": "2025-01-19T08:21:36.619926Z",
     "start_time": "2025-01-19T08:21:35.658894Z"
    }
   },
   "source": [
    "# Suppress RDKit warnings and errors\n",
    "lg = RDLogger.logger()\n",
    "lg.setLevel(RDLogger.CRITICAL)\n",
    "\n",
    "pandarallel.initialize(nb_workers=6, progress_bar=True)"
   ],
   "outputs": [
    {
     "name": "stdout",
     "output_type": "stream",
     "text": [
      "INFO: Pandarallel will run on 6 workers.\n",
      "INFO: Pandarallel will use standard multiprocessing data transfer (pipe) to transfer data between the main process and workers.\n"
     ]
    }
   ],
   "execution_count": 3
  },
  {
   "cell_type": "code",
   "metadata": {
    "ExecuteTime": {
     "end_time": "2025-01-19T08:23:33.825522Z",
     "start_time": "2025-01-19T08:23:32.817306Z"
    }
   },
   "source": [
    "with open('/Users/macbook/CODE/Majer:MassSpecGym/data/candidates_generation/MassSpecGymMSn_retrieval_candidates_mass.json') as f:\n",
    "# with open('./MassSpecGym_retrieval_candidates_mass.json') as f:\n",
    "    cands_mass = json.load(f)\n",
    "cands_mass = pd.DataFrame({'smiles': cands_mass.keys(), 'cands': cands_mass.values()})\n",
    "\n",
    "with open('/Users/macbook/CODE/Majer:MassSpecGym/data/candidates_generation/MassSpecGymMSn_retrieval_candidates_formula.json') as f:\n",
    "# with open('./MassSpecGym_retrieval_candidates_formula.json') as f:\n",
    "    cands_formula = json.load(f)\n",
    "cands_formula = pd.DataFrame({'smiles': cands_formula.keys(), 'cands': cands_formula.values()})"
   ],
   "outputs": [],
   "execution_count": 7
  },
  {
   "attachments": {},
   "cell_type": "markdown",
   "metadata": {},
   "source": [
    "## Number of candidates"
   ]
  },
  {
   "cell_type": "code",
   "metadata": {
    "ExecuteTime": {
     "end_time": "2025-01-19T08:23:35.583870Z",
     "start_time": "2025-01-19T08:23:35.289710Z"
    }
   },
   "source": [
    "cands_mass['n_cands'] = cands_mass['cands'].apply(len)\n",
    "utils.init_plotting(figsize=(3, 1.5))\n",
    "cands_mass['n_cands'].hist(bins=30)\n",
    "plt.yscale('log')\n",
    "plt.xlabel('Number of candidates with nearly\\nsame mass as the molecule')\n",
    "plt.ylabel('Number of molecules')\n",
    "# plt.savefig('n_cands_mass.svg', bbox_inches='tight')\n",
    "plt.show()\n",
    "cands_mass['n_cands'].value_counts()"
   ],
   "outputs": [
    {
     "data": {
      "text/plain": [
       "<Figure size 300x150 with 1 Axes>"
      ],
      "image/png": "[encoded data removed]"
     },
     "metadata": {},
     "output_type": "display_data"
    },
    {
     "data": {
      "text/plain": [
       "n_cands\n",
       "256    13797\n",
       "106        4\n",
       "188        4\n",
       "243        4\n",
       "203        4\n",
       "       ...  \n",
       "221        1\n",
       "164        1\n",
       "50         1\n",
       "125        1\n",
       "143        1\n",
       "Name: count, Length: 128, dtype: int64"
      ]
     },
     "execution_count": 8,
     "metadata": {},
     "output_type": "execute_result"
    }
   ],
   "execution_count": 8
  },
  {
   "cell_type": "code",
   "metadata": {
    "ExecuteTime": {
     "end_time": "2025-01-19T08:23:38.237948Z",
     "start_time": "2025-01-19T08:23:38.033402Z"
    }
   },
   "source": [
    "cands_formula['n_cands'] = cands_formula['cands'].apply(len)\n",
    "utils.init_plotting(figsize=(3, 1.5))\n",
    "cands_formula['n_cands'].hist(bins=30)\n",
    "plt.yscale('log')\n",
    "plt.xlabel('Number of candidates with the same\\nformula as the molecule')\n",
    "plt.ylabel('Number of molecules')\n",
    "# plt.savefig('n_cands_formula.svg', bbox_inches='tight')\n",
    "plt.show()\n",
    "cands_formula['n_cands'].value_counts()"
   ],
   "outputs": [
    {
     "data": {
      "text/plain": [
       "<Figure size 300x150 with 1 Axes>"
      ],
      "image/png": "[encoded data removed]"
     },
     "metadata": {},
     "output_type": "display_data"
    },
    {
     "data": {
      "text/plain": [
       "n_cands\n",
       "256    10063\n",
       "5         51\n",
       "4         48\n",
       "2         46\n",
       "7         45\n",
       "       ...  \n",
       "233        3\n",
       "214        3\n",
       "255        3\n",
       "144        2\n",
       "232        2\n",
       "Name: count, Length: 256, dtype: int64"
      ]
     },
     "execution_count": 9,
     "metadata": {},
     "output_type": "execute_result"
    }
   ],
   "execution_count": 9
  },
  {
   "attachments": {},
   "cell_type": "markdown",
   "metadata": {},
   "source": [
    "## Number of positive samples among candidates"
   ]
  },
  {
   "cell_type": "code",
   "metadata": {
    "ExecuteTime": {
     "end_time": "2025-01-19T08:27:43.929829Z",
     "start_time": "2025-01-19T08:23:55.195676Z"
    }
   },
   "source": [
    "def n_pos(row):\n",
    "    inchi_true = utils.smiles_to_inchi_key(row['smiles'])\n",
    "    return sum(utils.smiles_to_inchi_key(c) == inchi_true for c in row['cands'])\n",
    "\n",
    "cands_mass['n_pos'] = cands_mass.parallel_apply(n_pos, axis=1)\n",
    "cands_mass['n_pos'].value_counts()"
   ],
   "outputs": [
    {
     "data": {
      "text/plain": [
       "VBox(children=(HBox(children=(IntProgress(value=0, description='0.00%', max=2335), Label(value='0 / 2335'))), …"
      ],
      "application/vnd.jupyter.widget-view+json": {
       "version_major": 2,
       "version_minor": 0,
       "model_id": "41339270d0164d34b2215600c7df5d97"
      }
     },
     "metadata": {},
     "output_type": "display_data"
    },
    {
     "data": {
      "text/plain": [
       "n_pos\n",
       "1    14008\n",
       "Name: count, dtype: int64"
      ]
     },
     "execution_count": 10,
     "metadata": {},
     "output_type": "execute_result"
    }
   ],
   "execution_count": 10
  },
  {
   "metadata": {
    "ExecuteTime": {
     "end_time": "2025-01-19T08:30:30.172715Z",
     "start_time": "2025-01-19T08:30:30.149543Z"
    }
   },
   "cell_type": "code",
   "source": "cands_mass['n_pos'].value_counts()",
   "outputs": [
    {
     "data": {
      "text/plain": [
       "n_pos\n",
       "1    14008\n",
       "Name: count, dtype: int64"
      ]
     },
     "execution_count": 13,
     "metadata": {},
     "output_type": "execute_result"
    }
   ],
   "execution_count": 13
  },
  {
   "cell_type": "code",
   "metadata": {
    "ExecuteTime": {
     "end_time": "2025-01-19T08:30:23.490544Z",
     "start_time": "2025-01-19T08:27:43.951338Z"
    }
   },
   "source": [
    "def n_pos(row):\n",
    "    inchi_true = utils.smiles_to_inchi_key(row['smiles'])\n",
    "    return sum(utils.smiles_to_inchi_key(c) == inchi_true for c in row['cands'])\n",
    "\n",
    "cands_formula['n_pos'] = cands_formula.parallel_apply(n_pos, axis=1)\n",
    "cands_formula['n_pos'].value_counts()"
   ],
   "outputs": [
    {
     "data": {
      "text/plain": [
       "VBox(children=(HBox(children=(IntProgress(value=0, description='0.00%', max=2335), Label(value='0 / 2335'))), …"
      ],
      "application/vnd.jupyter.widget-view+json": {
       "version_major": 2,
       "version_minor": 0,
       "model_id": "1b96ba3e138e423fbb9e891423d4760e"
      }
     },
     "metadata": {},
     "output_type": "display_data"
    },
    {
     "data": {
      "text/plain": [
       "n_pos\n",
       "1    14008\n",
       "Name: count, dtype: int64"
      ]
     },
     "execution_count": 11,
     "metadata": {},
     "output_type": "execute_result"
    }
   ],
   "execution_count": 11
  },
  {
   "metadata": {},
   "cell_type": "code",
   "outputs": [],
   "execution_count": null,
   "source": "cands_formula['n_pos'].value_counts()"
  },
  {
   "attachments": {},
   "cell_type": "markdown",
   "metadata": {},
   "source": [
    "## Analyze InChiKeys of queries"
   ]
  },
  {
   "cell_type": "code",
   "metadata": {
    "ExecuteTime": {
     "end_time": "2025-01-19T08:30:26.540742Z",
     "start_time": "2025-01-19T08:30:23.539592Z"
    }
   },
   "source": [
    "len(cands_mass['smiles']), cands_mass['smiles'].apply(utils.smiles_to_inchi_key).nunique()"
   ],
   "outputs": [
    {
     "data": {
      "text/plain": [
       "(14008, 13709)"
      ]
     },
     "execution_count": 12,
     "metadata": {},
     "output_type": "execute_result"
    }
   ],
   "execution_count": 12
  }
 ],
 "metadata": {
  "kernelspec": {
   "display_name": "massspecgym",
   "language": "python",
   "name": "python3"
  },
  "language_info": {
   "codemirror_mode": {
    "name": "ipython",
    "version": 3
   },
   "file_extension": ".py",
   "mimetype": "text/x-python",
   "name": "python",
   "nbconvert_exporter": "python",
   "pygments_lexer": "ipython3",
   "version": "3.11.9"
  },
  "orig_nbformat": 4
 },
 "nbformat": 4,
 "nbformat_minor": 2
}
