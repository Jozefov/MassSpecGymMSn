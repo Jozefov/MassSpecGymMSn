{
 "cells": [
  {
   "cell_type": "code",
   "metadata": {
    "ExecuteTime": {
     "end_time": "2025-01-15T09:41:11.715264Z",
     "start_time": "2025-01-15T09:41:09.645559Z"
    }
   },
   "source": [
    "import pandas as pd\n",
    "import seaborn as sns\n",
    "import matplotlib.pyplot as plt\n",
    "import json\n",
    "import massspecgym.utils as utils\n",
    "from pandarallel import pandarallel\n",
    "from matchms.importing import load_from_mgf\n",
    "from tqdm import tqdm\n",
    "tqdm.pandas()\n",
    "from rdkit import Chem\n",
    "from rdkit.Chem.rdMolDescriptors import CalcMolFormula, CalcExactMolWt\n",
    "from pandarallel import pandarallel\n",
    "utils.init_plotting(figsize=(4, 4))\n",
    "%reload_ext autoreload\n",
    "%autoreload 2\n",
    "\n",
    "from rdkit import RDLogger\n",
    "\n",
    "# Disable RDKit logging\n",
    "RDLogger.DisableLog('rdApp.*')"
   ],
   "outputs": [],
   "execution_count": 1
  },
  {
   "cell_type": "code",
   "metadata": {
    "ExecuteTime": {
     "end_time": "2025-01-15T09:41:14.362087Z",
     "start_time": "2025-01-15T09:41:11.722548Z"
    }
   },
   "source": [
    "df_1M = pd.read_csv('/Users/macbook/CODE/Majer:MassSpecGym/data/candidates_generation/MassSpecGym_retrieval_molecules_1M.tsv', sep='\\t')\n",
    "df_1M.shape, df_1M.columns"
   ],
   "outputs": [
    {
     "data": {
      "text/plain": [
       "((1032456, 5),\n",
       " Index(['smiles', 'inchi_key_2D', 'inchi', 'formula', 'weight'], dtype='object'))"
      ]
     },
     "execution_count": 2,
     "metadata": {},
     "output_type": "execute_result"
    }
   ],
   "execution_count": 2
  },
  {
   "cell_type": "code",
   "metadata": {
    "ExecuteTime": {
     "end_time": "2025-01-15T09:41:19.615438Z",
     "start_time": "2025-01-15T09:41:14.427052Z"
    }
   },
   "source": [
    "df_4M = pd.read_csv('/Users/macbook/CODE/Majer:MassSpecGym/data/candidates_generation/MassSpecGym_retrieval_molecules_4M.tsv', sep='\\t', na_values=['\\\\N', ''])\n",
    "df_4M.shape, df_4M.columns"
   ],
   "outputs": [
    {
     "data": {
      "text/plain": [
       "((4175091, 4),\n",
       " Index(['smiles', 'inchikey', 'formula', 'weight'], dtype='object'))"
      ]
     },
     "execution_count": 3,
     "metadata": {},
     "output_type": "execute_result"
    }
   ],
   "execution_count": 3
  },
  {
   "metadata": {
    "ExecuteTime": {
     "end_time": "2025-01-15T09:41:20.022749Z",
     "start_time": "2025-01-15T09:41:19.921976Z"
    }
   },
   "cell_type": "code",
   "source": [
    "num_missing_smiles = df_4M['smiles'].isna().sum()\n",
    "print(f\"Number of missing SMILES: {num_missing_smiles}\")"
   ],
   "outputs": [
    {
     "name": "stdout",
     "output_type": "stream",
     "text": [
      "Number of missing SMILES: 2103\n"
     ]
    }
   ],
   "execution_count": 4
  },
  {
   "metadata": {},
   "cell_type": "markdown",
   "source": "**We are missing formula and weight, has to be added**"
  },
  {
   "metadata": {
    "ExecuteTime": {
     "end_time": "2025-01-15T08:54:04.912370Z",
     "start_time": "2025-01-15T08:54:04.878877Z"
    }
   },
   "cell_type": "code",
   "source": [
    "# Initialize pandarallel with all available CPU cores\n",
    "pandarallel.initialize(progress_bar=True)"
   ],
   "outputs": [
    {
     "name": "stdout",
     "output_type": "stream",
     "text": [
      "INFO: Pandarallel will run on 10 workers.\n",
      "INFO: Pandarallel will use standard multiprocessing data transfer (pipe) to transfer data between the main process and workers.\n"
     ]
    }
   ],
   "execution_count": 16
  },
  {
   "metadata": {
    "ExecuteTime": {
     "end_time": "2025-01-15T08:15:10.917609Z",
     "start_time": "2025-01-15T08:15:10.889910Z"
    }
   },
   "cell_type": "code",
   "source": [
    "def compute_formula(smiles):\n",
    "    if pd.isna(smiles):\n",
    "        return None\n",
    "    mol = Chem.MolFromSmiles(smiles)\n",
    "    if mol:\n",
    "        return CalcMolFormula(mol)\n",
    "    else:\n",
    "        return None\n",
    "\n",
    "def compute_weight(smiles):\n",
    "\n",
    "    if pd.isna(smiles):\n",
    "        return None\n",
    "    mol = Chem.MolFromSmiles(smiles)\n",
    "    if mol:\n",
    "        return CalcExactMolWt(mol)\n",
    "    else:\n",
    "        return None"
   ],
   "outputs": [],
   "execution_count": 5
  },
  {
   "metadata": {
    "ExecuteTime": {
     "end_time": "2025-01-15T08:15:11.573259Z",
     "start_time": "2025-01-15T08:15:11.549515Z"
    }
   },
   "cell_type": "code",
   "source": [
    "# Compute the 'formula' column\n",
    "if 'formula' not in df_4M.keys():\n",
    "    print(\"Computing molecular formulas...\")\n",
    "    df_4M['formula'] = df_4M['smiles'].parallel_apply(compute_formula)"
   ],
   "outputs": [],
   "execution_count": 6
  },
  {
   "metadata": {
    "ExecuteTime": {
     "end_time": "2025-01-15T08:15:12.607791Z",
     "start_time": "2025-01-15T08:15:12.579905Z"
    }
   },
   "cell_type": "code",
   "source": [
    "# Compute the 'weight' column\n",
    "if 'weight' not in df_4M.keys():\n",
    "    print(\"Computing exact molecular weights...\")\n",
    "    df_4M['weight'] = df_4M['smiles'].parallel_apply(compute_weight)"
   ],
   "outputs": [],
   "execution_count": 7
  },
  {
   "metadata": {
    "ExecuteTime": {
     "end_time": "2025-01-15T08:15:14.294028Z",
     "start_time": "2025-01-15T08:15:14.176284Z"
    }
   },
   "cell_type": "code",
   "source": [
    "invalid_smiles = df_4M['formula'].isnull() | df_4M['weight'].isnull()\n",
    "num_invalid = invalid_smiles.sum()\n",
    "print(f\"Number of invalid SMILES: {num_invalid}\")\n"
   ],
   "outputs": [
    {
     "name": "stdout",
     "output_type": "stream",
     "text": [
      "Number of invalid SMILES: 2304\n"
     ]
    }
   ],
   "execution_count": 8
  },
  {
   "metadata": {
    "ExecuteTime": {
     "end_time": "2025-01-15T08:15:15.186035Z",
     "start_time": "2025-01-15T08:15:15.158079Z"
    }
   },
   "cell_type": "code",
   "source": "df_4M.shape, df_4M.columns",
   "outputs": [
    {
     "data": {
      "text/plain": [
       "((4175091, 4),\n",
       " Index(['smiles', 'inchikey', 'formula', 'weight'], dtype='object'))"
      ]
     },
     "execution_count": 9,
     "metadata": {},
     "output_type": "execute_result"
    }
   ],
   "execution_count": 9
  },
  {
   "metadata": {
    "ExecuteTime": {
     "end_time": "2025-01-15T08:15:19.979666Z",
     "start_time": "2025-01-15T08:15:19.949323Z"
    }
   },
   "cell_type": "code",
   "source": [
    "output_file_4M = '/Users/macbook/CODE/Majer:MassSpecGym/data/candidates_generation/MassSpecGym_retrieval_molecules_4M.tsv'\n",
    "\n",
    "# df_4M.to_csv(output_file_4M, sep='\\t', index=False)\n",
    "\n",
    "print(f\"Updated DataFrame saved to {output_file_4M}\")"
   ],
   "outputs": [
    {
     "name": "stdout",
     "output_type": "stream",
     "text": [
      "Updated DataFrame saved to /Users/macbook/CODE/Majer:MassSpecGym/data/candidates_generation/MassSpecGym_retrieval_molecules_4M.tsv\n"
     ]
    }
   ],
   "execution_count": 10
  },
  {
   "metadata": {},
   "cell_type": "markdown",
   "source": "# Analyze"
  },
  {
   "cell_type": "code",
   "metadata": {
    "ExecuteTime": {
     "end_time": "2025-01-15T09:47:07.942775Z",
     "start_time": "2025-01-15T09:41:20.533884Z"
    }
   },
   "source": [
    "spectra = list(load_from_mgf('/Users/macbook/CODE/Majer:MassSpecGym/data/MSn/20241211_msn_library_pos_all_lib_MSn.mgf'))\n",
    "smiles = pd.Series([s.metadata['smiles'] for s in spectra])\n",
    "smiles = smiles.apply(lambda x: Chem.MolToSmiles(Chem.MolFromSmiles(x)))\n",
    "smiles = smiles.drop_duplicates()\n",
    "len(spectra), len(smiles)"
   ],
   "outputs": [
    {
     "data": {
      "text/plain": [
       "(803405, 14008)"
      ]
     },
     "execution_count": 5,
     "metadata": {},
     "output_type": "execute_result"
    }
   ],
   "execution_count": 5
  },
  {
   "cell_type": "code",
   "metadata": {
    "ExecuteTime": {
     "end_time": "2025-01-15T09:47:08.013106Z",
     "start_time": "2025-01-15T09:47:07.977777Z"
    }
   },
   "source": [
    "smiles_std = pd.Series(smiles.tolist())\n",
    "len(smiles_std), len(smiles_std.dropna()), len(smiles_std.drop_duplicates())"
   ],
   "outputs": [
    {
     "data": {
      "text/plain": [
       "(14008, 14008, 14008)"
      ]
     },
     "execution_count": 6,
     "metadata": {},
     "output_type": "execute_result"
    }
   ],
   "execution_count": 6
  },
  {
   "cell_type": "code",
   "metadata": {
    "ExecuteTime": {
     "end_time": "2025-01-15T09:47:08.041857Z",
     "start_time": "2025-01-15T09:47:08.020246Z"
    }
   },
   "source": [
    "def get_candidates(query_smiles, df, cand_type='formula'):\n",
    "    candidates = {}\n",
    "    n_queries_absent_in_db = 0\n",
    "    for s in tqdm(query_smiles):\n",
    "        if cand_type == 'formula':\n",
    "            formula = CalcMolFormula(Chem.MolFromSmiles(s))\n",
    "            candidates[s] = df['smiles'][df['formula'] == formula].tolist()\n",
    "        elif cand_type == 'mass':\n",
    "            mass = CalcExactMolWt(Chem.MolFromSmiles(s))\n",
    "            mass_eps = mass * 1e-6 * 10  # 10 ppm\n",
    "            candidates[s] = df['smiles'][(df['weight'] - mass).abs() < mass_eps].tolist()\n",
    "        else:\n",
    "            raise ValueError(f'Unknown candidates type {cand_type}.')\n",
    "\n",
    "        if s not in candidates[s]:\n",
    "            n_queries_absent_in_db += 1\n",
    "            candidates[s].append(s)\n",
    "    print('Number of queries absent in the database:', n_queries_absent_in_db)\n",
    "    return candidates"
   ],
   "outputs": [],
   "execution_count": 7
  },
  {
   "metadata": {
    "ExecuteTime": {
     "end_time": "2025-01-15T09:54:49.818237Z",
     "start_time": "2025-01-15T09:47:08.053348Z"
    }
   },
   "cell_type": "code",
   "source": "cands_formula_1M = get_candidates(smiles, df_1M, cand_type='formula')",
   "outputs": [
    {
     "name": "stderr",
     "output_type": "stream",
     "text": [
      "100%|██████████| 14008/14008 [07:41<00:00, 30.34it/s]"
     ]
    },
    {
     "name": "stdout",
     "output_type": "stream",
     "text": [
      "Number of queries absent in the database: 13975\n"
     ]
    },
    {
     "name": "stderr",
     "output_type": "stream",
     "text": [
      "\n"
     ]
    }
   ],
   "execution_count": 8
  },
  {
   "metadata": {
    "ExecuteTime": {
     "end_time": "2025-01-15T10:26:25.265573Z",
     "start_time": "2025-01-15T09:54:49.942337Z"
    }
   },
   "cell_type": "code",
   "source": "cands_formula_4M = get_candidates(smiles, df_4M, cand_type='formula')",
   "outputs": [
    {
     "name": "stderr",
     "output_type": "stream",
     "text": [
      "100%|██████████| 14008/14008 [31:35<00:00,  7.39it/s]"
     ]
    },
    {
     "name": "stdout",
     "output_type": "stream",
     "text": [
      "Number of queries absent in the database: 14002\n"
     ]
    },
    {
     "name": "stderr",
     "output_type": "stream",
     "text": [
      "\n"
     ]
    }
   ],
   "execution_count": 9
  },
  {
   "metadata": {
    "ExecuteTime": {
     "end_time": "2025-01-15T10:29:04.420257Z",
     "start_time": "2025-01-15T10:26:25.292683Z"
    }
   },
   "cell_type": "code",
   "source": [
    "cands_mass_1M = get_candidates(smiles, df_1M, cand_type='mass')\n",
    "cands_mass_4M = get_candidates(smiles, df_4M, cand_type='mass')"
   ],
   "outputs": [
    {
     "name": "stderr",
     "output_type": "stream",
     "text": [
      "100%|██████████| 14008/14008 [00:33<00:00, 423.04it/s]\n"
     ]
    },
    {
     "name": "stdout",
     "output_type": "stream",
     "text": [
      "Number of queries absent in the database: 13964\n"
     ]
    },
    {
     "name": "stderr",
     "output_type": "stream",
     "text": [
      "100%|██████████| 14008/14008 [02:05<00:00, 111.20it/s]"
     ]
    },
    {
     "name": "stdout",
     "output_type": "stream",
     "text": [
      "Number of queries absent in the database: 14002\n"
     ]
    },
    {
     "name": "stderr",
     "output_type": "stream",
     "text": [
      "\n"
     ]
    }
   ],
   "execution_count": 10
  },
  {
   "metadata": {},
   "cell_type": "code",
   "outputs": [],
   "execution_count": null,
   "source": ""
  },
  {
   "cell_type": "code",
   "metadata": {
    "ExecuteTime": {
     "end_time": "2025-01-15T10:34:19.142954Z",
     "start_time": "2025-01-15T10:34:19.103159Z"
    }
   },
   "source": [
    "num_cands_df = []\n",
    "for cands, db_name, cand_type in [(cands_formula_1M, '1M', 'Formula'), (cands_formula_4M, '4M', 'Formula'), (cands_mass_1M, '1M', 'Mass'), (cands_mass_4M, '4M', 'Mass')]:\n",
    "    num_cands_df.append(pd.DataFrame({\n",
    "        'Num. candidates': [len(cands[s]) - 1 for s in smiles],\n",
    "        'Database': db_name,\n",
    "        'Type': cand_type\n",
    "    }))\n",
    "num_cands_df = pd.concat(num_cands_df)\n",
    "num_cands_df"
   ],
   "outputs": [
    {
     "data": {
      "text/plain": [
       "       Num. candidates Database     Type\n",
       "0                  194       1M  Formula\n",
       "1                  181       1M  Formula\n",
       "2                   11       1M  Formula\n",
       "3                   21       1M  Formula\n",
       "4                   12       1M  Formula\n",
       "...                ...      ...      ...\n",
       "14003               36       4M     Mass\n",
       "14004              377       4M     Mass\n",
       "14005              610       4M     Mass\n",
       "14006              716       4M     Mass\n",
       "14007              228       4M     Mass\n",
       "\n",
       "[56032 rows x 3 columns]"
      ],
      "text/html": [
       "<div>\n",
       "<style scoped>\n",
       "    .dataframe tbody tr th:only-of-type {\n",
       "        vertical-align: middle;\n",
       "    }\n",
       "\n",
       "    .dataframe tbody tr th {\n",
       "        vertical-align: top;\n",
       "    }\n",
       "\n",
       "    .dataframe thead th {\n",
       "        text-align: right;\n",
       "    }\n",
       "</style>\n",
       "<table border=\"1\" class=\"dataframe\">\n",
       "  <thead>\n",
       "    <tr style=\"text-align: right;\">\n",
       "      <th></th>\n",
       "      <th>Num. candidates</th>\n",
       "      <th>Database</th>\n",
       "      <th>Type</th>\n",
       "    </tr>\n",
       "  </thead>\n",
       "  <tbody>\n",
       "    <tr>\n",
       "      <th>0</th>\n",
       "      <td>194</td>\n",
       "      <td>1M</td>\n",
       "      <td>Formula</td>\n",
       "    </tr>\n",
       "    <tr>\n",
       "      <th>1</th>\n",
       "      <td>181</td>\n",
       "      <td>1M</td>\n",
       "      <td>Formula</td>\n",
       "    </tr>\n",
       "    <tr>\n",
       "      <th>2</th>\n",
       "      <td>11</td>\n",
       "      <td>1M</td>\n",
       "      <td>Formula</td>\n",
       "    </tr>\n",
       "    <tr>\n",
       "      <th>3</th>\n",
       "      <td>21</td>\n",
       "      <td>1M</td>\n",
       "      <td>Formula</td>\n",
       "    </tr>\n",
       "    <tr>\n",
       "      <th>4</th>\n",
       "      <td>12</td>\n",
       "      <td>1M</td>\n",
       "      <td>Formula</td>\n",
       "    </tr>\n",
       "    <tr>\n",
       "      <th>...</th>\n",
       "      <td>...</td>\n",
       "      <td>...</td>\n",
       "      <td>...</td>\n",
       "    </tr>\n",
       "    <tr>\n",
       "      <th>14003</th>\n",
       "      <td>36</td>\n",
       "      <td>4M</td>\n",
       "      <td>Mass</td>\n",
       "    </tr>\n",
       "    <tr>\n",
       "      <th>14004</th>\n",
       "      <td>377</td>\n",
       "      <td>4M</td>\n",
       "      <td>Mass</td>\n",
       "    </tr>\n",
       "    <tr>\n",
       "      <th>14005</th>\n",
       "      <td>610</td>\n",
       "      <td>4M</td>\n",
       "      <td>Mass</td>\n",
       "    </tr>\n",
       "    <tr>\n",
       "      <th>14006</th>\n",
       "      <td>716</td>\n",
       "      <td>4M</td>\n",
       "      <td>Mass</td>\n",
       "    </tr>\n",
       "    <tr>\n",
       "      <th>14007</th>\n",
       "      <td>228</td>\n",
       "      <td>4M</td>\n",
       "      <td>Mass</td>\n",
       "    </tr>\n",
       "  </tbody>\n",
       "</table>\n",
       "<p>56032 rows × 3 columns</p>\n",
       "</div>"
      ]
     },
     "execution_count": 17,
     "metadata": {},
     "output_type": "execute_result"
    }
   ],
   "execution_count": 17
  },
  {
   "cell_type": "code",
   "metadata": {
    "ExecuteTime": {
     "end_time": "2025-01-15T10:34:19.341714Z",
     "start_time": "2025-01-15T10:34:19.172591Z"
    }
   },
   "source": [
    "utils.init_plotting(figsize=(3, 3))\n",
    "sns.boxplot(data=num_cands_df, x='Database', y='Num. candidates', hue='Type')"
   ],
   "outputs": [
    {
     "data": {
      "text/plain": [
       "<Axes: xlabel='Database', ylabel='Num. candidates'>"
      ]
     },
     "execution_count": 18,
     "metadata": {},
     "output_type": "execute_result"
    },
    {
     "data": {
      "text/plain": [
       "<Figure size 300x300 with 1 Axes>"
      ],
      "image/png": "[encoded data removed]"
     },
     "metadata": {},
     "output_type": "display_data"
    }
   ],
   "execution_count": 18
  },
  {
   "cell_type": "code",
   "metadata": {
    "ExecuteTime": {
     "end_time": "2025-01-15T10:34:21.457247Z",
     "start_time": "2025-01-15T10:34:21.357980Z"
    }
   },
   "source": [
    "df_cands_at_k = []\n",
    "for k in [1, 5, 10, 20]:\n",
    "    for d in num_cands_df['Database'].unique():\n",
    "        for t in num_cands_df['Type'].unique():\n",
    "            df_subset = num_cands_df[(num_cands_df['Database'] == d) & (num_cands_df['Type'] == t)]\n",
    "            df_cands_at_k.append({\n",
    "                'Num. candidates < k [%]': (df_subset['Num. candidates'] < k).sum() / len(df_subset) * 100,\n",
    "                'Database': d,\n",
    "                'Type': t,\n",
    "                'k': k\n",
    "            })\n",
    "df_cands_at_k = pd.DataFrame(df_cands_at_k)\n",
    "df_cands_at_k"
   ],
   "outputs": [
    {
     "data": {
      "text/plain": [
       "    Num. candidates < k [%] Database     Type   k\n",
       "0                  8.816391       1M  Formula   1\n",
       "1                  0.049971       1M     Mass   1\n",
       "2                  3.119646       4M  Formula   1\n",
       "3                  0.028555       4M     Mass   1\n",
       "4                 37.428612       1M  Formula   5\n",
       "5                  2.205882       1M     Mass   5\n",
       "6                 14.791548       4M  Formula   5\n",
       "7                  0.399772       4M     Mass   5\n",
       "8                 49.621645       1M  Formula  10\n",
       "9                  6.610508       1M     Mass  10\n",
       "10                22.294403       4M  Formula  10\n",
       "11                 1.020845       4M     Mass  10\n",
       "12                62.914049       1M  Formula  20\n",
       "13                15.833809       1M     Mass  20\n",
       "14                32.038835       4M  Formula  20\n",
       "15                 2.627070       4M     Mass  20"
      ],
      "text/html": [
       "<div>\n",
       "<style scoped>\n",
       "    .dataframe tbody tr th:only-of-type {\n",
       "        vertical-align: middle;\n",
       "    }\n",
       "\n",
       "    .dataframe tbody tr th {\n",
       "        vertical-align: top;\n",
       "    }\n",
       "\n",
       "    .dataframe thead th {\n",
       "        text-align: right;\n",
       "    }\n",
       "</style>\n",
       "<table border=\"1\" class=\"dataframe\">\n",
       "  <thead>\n",
       "    <tr style=\"text-align: right;\">\n",
       "      <th></th>\n",
       "      <th>Num. candidates &lt; k [%]</th>\n",
       "      <th>Database</th>\n",
       "      <th>Type</th>\n",
       "      <th>k</th>\n",
       "    </tr>\n",
       "  </thead>\n",
       "  <tbody>\n",
       "    <tr>\n",
       "      <th>0</th>\n",
       "      <td>8.816391</td>\n",
       "      <td>1M</td>\n",
       "      <td>Formula</td>\n",
       "      <td>1</td>\n",
       "    </tr>\n",
       "    <tr>\n",
       "      <th>1</th>\n",
       "      <td>0.049971</td>\n",
       "      <td>1M</td>\n",
       "      <td>Mass</td>\n",
       "      <td>1</td>\n",
       "    </tr>\n",
       "    <tr>\n",
       "      <th>2</th>\n",
       "      <td>3.119646</td>\n",
       "      <td>4M</td>\n",
       "      <td>Formula</td>\n",
       "      <td>1</td>\n",
       "    </tr>\n",
       "    <tr>\n",
       "      <th>3</th>\n",
       "      <td>0.028555</td>\n",
       "      <td>4M</td>\n",
       "      <td>Mass</td>\n",
       "      <td>1</td>\n",
       "    </tr>\n",
       "    <tr>\n",
       "      <th>4</th>\n",
       "      <td>37.428612</td>\n",
       "      <td>1M</td>\n",
       "      <td>Formula</td>\n",
       "      <td>5</td>\n",
       "    </tr>\n",
       "    <tr>\n",
       "      <th>5</th>\n",
       "      <td>2.205882</td>\n",
       "      <td>1M</td>\n",
       "      <td>Mass</td>\n",
       "      <td>5</td>\n",
       "    </tr>\n",
       "    <tr>\n",
       "      <th>6</th>\n",
       "      <td>14.791548</td>\n",
       "      <td>4M</td>\n",
       "      <td>Formula</td>\n",
       "      <td>5</td>\n",
       "    </tr>\n",
       "    <tr>\n",
       "      <th>7</th>\n",
       "      <td>0.399772</td>\n",
       "      <td>4M</td>\n",
       "      <td>Mass</td>\n",
       "      <td>5</td>\n",
       "    </tr>\n",
       "    <tr>\n",
       "      <th>8</th>\n",
       "      <td>49.621645</td>\n",
       "      <td>1M</td>\n",
       "      <td>Formula</td>\n",
       "      <td>10</td>\n",
       "    </tr>\n",
       "    <tr>\n",
       "      <th>9</th>\n",
       "      <td>6.610508</td>\n",
       "      <td>1M</td>\n",
       "      <td>Mass</td>\n",
       "      <td>10</td>\n",
       "    </tr>\n",
       "    <tr>\n",
       "      <th>10</th>\n",
       "      <td>22.294403</td>\n",
       "      <td>4M</td>\n",
       "      <td>Formula</td>\n",
       "      <td>10</td>\n",
       "    </tr>\n",
       "    <tr>\n",
       "      <th>11</th>\n",
       "      <td>1.020845</td>\n",
       "      <td>4M</td>\n",
       "      <td>Mass</td>\n",
       "      <td>10</td>\n",
       "    </tr>\n",
       "    <tr>\n",
       "      <th>12</th>\n",
       "      <td>62.914049</td>\n",
       "      <td>1M</td>\n",
       "      <td>Formula</td>\n",
       "      <td>20</td>\n",
       "    </tr>\n",
       "    <tr>\n",
       "      <th>13</th>\n",
       "      <td>15.833809</td>\n",
       "      <td>1M</td>\n",
       "      <td>Mass</td>\n",
       "      <td>20</td>\n",
       "    </tr>\n",
       "    <tr>\n",
       "      <th>14</th>\n",
       "      <td>32.038835</td>\n",
       "      <td>4M</td>\n",
       "      <td>Formula</td>\n",
       "      <td>20</td>\n",
       "    </tr>\n",
       "    <tr>\n",
       "      <th>15</th>\n",
       "      <td>2.627070</td>\n",
       "      <td>4M</td>\n",
       "      <td>Mass</td>\n",
       "      <td>20</td>\n",
       "    </tr>\n",
       "  </tbody>\n",
       "</table>\n",
       "</div>"
      ]
     },
     "execution_count": 19,
     "metadata": {},
     "output_type": "execute_result"
    }
   ],
   "execution_count": 19
  },
  {
   "cell_type": "code",
   "metadata": {
    "ExecuteTime": {
     "end_time": "2025-01-15T10:34:21.664423Z",
     "start_time": "2025-01-15T10:34:21.474629Z"
    }
   },
   "source": [
    "utils.init_plotting(figsize=(2, 2))\n",
    "for k in df_cands_at_k['k'].unique():\n",
    "    sns.barplot(data=df_cands_at_k[df_cands_at_k['k'] == k], x='Database', y='Num. candidates < k [%]', hue='Type', hue_order=['Formula', 'Mass'])\n",
    "    plt.ylabel(f'Number of candidates < {k} [%]')\n",
    "    plt.show()"
   ],
   "outputs": [
    {
     "data": {
      "text/plain": [
       "<Figure size 200x200 with 1 Axes>"
      ],
      "image/png": "[encoded data removed]"
     },
     "metadata": {},
     "output_type": "display_data"
    },
    {
     "data": {
      "text/plain": [
       "<Figure size 200x200 with 1 Axes>"
      ],
      "image/png": "[encoded data removed]"
     },
     "metadata": {},
     "output_type": "display_data"
    },
    {
     "data": {
      "text/plain": [
       "<Figure size 200x200 with 1 Axes>"
      ],
      "image/png": "[encoded data removed]"
     },
     "metadata": {},
     "output_type": "display_data"
    },
    {
     "data": {
      "text/plain": [
       "<Figure size 200x200 with 1 Axes>"
      ],
      "image/png": "[encoded data removed]"
     },
     "metadata": {},
     "output_type": "display_data"
    }
   ],
   "execution_count": 20
  },
  {
   "cell_type": "code",
   "metadata": {
    "ExecuteTime": {
     "end_time": "2025-01-15T10:39:35.905103Z",
     "start_time": "2025-01-15T10:34:21.681782Z"
    }
   },
   "source": [
    "def smiles_to_inchi2d(smiles):\n",
    "    return Chem.MolToInchiKey(Chem.MolFromSmiles(smiles)).split('-')[0]\n",
    "\n",
    "num_cands_same_inchi = []\n",
    "for k, v in tqdm(cands_formula_4M.items()):\n",
    "    k_inchi = smiles_to_inchi2d(k)\n",
    "    num_cands_same_inchi.append(sum([smiles_to_inchi2d(s) == k_inchi for s in v]))\n",
    "num_cands_same_inchi = pd.Series(num_cands_same_inchi)\n",
    "sns.histplot(num_cands_same_inchi, discrete=True)"
   ],
   "outputs": [
    {
     "name": "stderr",
     "output_type": "stream",
     "text": [
      "100%|██████████| 14008/14008 [05:14<00:00, 44.59it/s] \n"
     ]
    },
    {
     "data": {
      "text/plain": [
       "<Axes: ylabel='Count'>"
      ]
     },
     "execution_count": 21,
     "metadata": {},
     "output_type": "execute_result"
    },
    {
     "data": {
      "text/plain": [
       "<Figure size 200x200 with 1 Axes>"
      ],
      "image/png": "[encoded data removed]"
     },
     "metadata": {},
     "output_type": "display_data"
    }
   ],
   "execution_count": 21
  },
  {
   "cell_type": "code",
   "metadata": {
    "ExecuteTime": {
     "end_time": "2025-01-15T10:34:19.064870Z",
     "start_time": "2025-01-15T10:34:19.041582Z"
    }
   },
   "source": [
    "# with open('../../data/candidates_formula_1M.json', 'w') as f:\n",
    "#     json.dump(cands_formula_1M, f)\n",
    "# with open('../../data/candidates_formula_4M.json', 'w') as f:\n",
    "#     json.dump(cands_formula_4M, f)\n",
    "# with open('../../data/candidates_mass_1M.json', 'w') as f:\n",
    "#     json.dump(cands_mass_1M, f)\n",
    "# with open('../../data/candidates_mass_4M.json', 'w') as f:\n",
    "#     json.dump(cands_mass_4M, f)"
   ],
   "outputs": [],
   "execution_count": 16
  },
  {
   "metadata": {},
   "cell_type": "code",
   "outputs": [],
   "execution_count": null,
   "source": ""
  }
 ],
 "metadata": {
  "kernelspec": {
   "display_name": "massspecgym",
   "language": "python",
   "name": "python3"
  },
  "language_info": {
   "codemirror_mode": {
    "name": "ipython",
    "version": 3
   },
   "file_extension": ".py",
   "mimetype": "text/x-python",
   "name": "python",
   "nbconvert_exporter": "python",
   "pygments_lexer": "ipython3",
   "version": "3.11.0"
  }
 },
 "nbformat": 4,
 "nbformat_minor": 2
}
