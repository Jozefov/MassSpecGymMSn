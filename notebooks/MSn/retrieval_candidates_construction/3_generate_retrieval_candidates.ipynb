{
 "cells": [
  {
   "cell_type": "code",
   "execution_count": 1,
   "metadata": {},
   "outputs": [],
   "source": [
    "import os\n",
    "import logging\n",
    "import random\n",
    "import typing as T\n",
    "import json\n",
    "import multiprocessing\n",
    "import ctypes\n",
    "from multiprocessing import Pool, cpu_count, Array\n",
    "from collections import defaultdict\n",
    "\n",
    "import numpy as np\n",
    "import pandas as pd\n",
    "import seaborn as sns\n",
    "import matplotlib.pyplot as plt\n",
    "from pandarallel import pandarallel\n",
    "from matchms.importing import load_from_mgf\n",
    "from tqdm import tqdm\n",
    "from rdkit import Chem\n",
    "from rdkit import RDLogger\n",
    "from rdkit.Chem.rdMolDescriptors import CalcMolFormula, CalcExactMolWt\n",
    "\n",
    "# import massspecgym.utils as utils"
   ]
  },
  {
   "cell_type": "code",
   "execution_count": 2,
   "metadata": {},
   "outputs": [],
   "source": [
    "random.seed(0)\n",
    "\n",
    "tqdm.pandas()\n",
    "\n",
    "# Suppress RDKit warnings and errors\n",
    "lg = RDLogger.logger()\n",
    "lg.setLevel(RDLogger.CRITICAL)\n",
    "\n",
    "# Configure logging\n",
    "logging.basicConfig(level=logging.INFO, format='%(asctime)s - %(levelname)s - %(message)s')"
   ]
  },
  {
   "cell_type": "code",
   "execution_count": 8,
   "metadata": {},
   "outputs": [],
   "source": [
    "def compute_formula(smiles):\n",
    "    if pd.isna(smiles):\n",
    "        return None\n",
    "    mol = Chem.MolFromSmiles(smiles)\n",
    "    if mol:\n",
    "        return CalcMolFormula(mol)\n",
    "    else:\n",
    "        return None\n",
    "\n",
    "def compute_weight(smiles):\n",
    "\n",
    "    if pd.isna(smiles):\n",
    "        return None\n",
    "    mol = Chem.MolFromSmiles(smiles)\n",
    "    if mol:\n",
    "        return CalcExactMolWt(mol)\n",
    "    else:\n",
    "        return None"
   ]
  },
  {
   "cell_type": "markdown",
   "metadata": {},
   "source": [
    "# computing condidates"
   ]
  },
  {
   "cell_type": "code",
   "execution_count": 3,
   "metadata": {},
   "outputs": [
    {
     "data": {
      "text/plain": [
       "((1032456, 5),\n",
       " Index(['smiles', 'inchi_key_2D', 'inchi', 'formula', 'weight'], dtype='object'))"
      ]
     },
     "execution_count": 3,
     "metadata": {},
     "output_type": "execute_result"
    }
   ],
   "source": [
    "df_1M = pd.read_csv('/storage/plzen1/home/jozefov_147/MSn/candidates/MassSpecGym_retrieval_molecules_1M.tsv', sep='\\t')\n",
    "df_1M.shape, df_1M.columns"
   ]
  },
  {
   "cell_type": "code",
   "execution_count": 4,
   "metadata": {},
   "outputs": [
    {
     "data": {
      "text/plain": [
       "((4175091, 4),\n",
       " Index(['smiles', 'inchikey', 'formula', 'weight'], dtype='object'))"
      ]
     },
     "execution_count": 4,
     "metadata": {},
     "output_type": "execute_result"
    }
   ],
   "source": [
    "df_4M = pd.read_csv('/storage/plzen1/home/jozefov_147/MSn/candidates/MassSpecGym_retrieval_molecules_4M.tsv', sep='\\t')\n",
    "df_4M.shape, df_4M.columns"
   ]
  },
  {
   "cell_type": "code",
   "execution_count": 5,
   "metadata": {},
   "outputs": [
    {
     "data": {
      "text/plain": [
       "((118008573, 4),\n",
       " Index(['smiles', 'formula', 'mass', 'inchi_key_2D'], dtype='object'))"
      ]
     },
     "execution_count": 5,
     "metadata": {},
     "output_type": "execute_result"
    }
   ],
   "source": [
    "df_pubchem = pd.read_csv('/storage/plzen1/home/jozefov_147/MSn/candidates/MassSpecGym_retrieval_molecules_pubchem_118M.tsv', sep='\\t')\n",
    "df_pubchem.shape, df_pubchem.columns"
   ]
  },
  {
   "cell_type": "code",
   "execution_count": 6,
   "metadata": {},
   "outputs": [],
   "source": [
    "df_1M = df_1M.rename(columns={'weight': 'mass'})\n",
    "df_4M = df_4M.rename(columns={'weight': 'mass'})"
   ]
  },
  {
   "cell_type": "code",
   "execution_count": 16,
   "metadata": {},
   "outputs": [],
   "source": [
    "df_4M = df_4M.rename(columns={'inchikey': 'inchi_key_2D'})"
   ]
  },
  {
   "cell_type": "code",
   "execution_count": 7,
   "metadata": {},
   "outputs": [],
   "source": [
    "spectra = list(load_from_mgf('/storage/plzen1/home/jozefov_147/MSn/candidates/20241211_msn_library_pos_all_lib_MSn.mgf'))"
   ]
  },
  {
   "cell_type": "code",
   "execution_count": 13,
   "metadata": {},
   "outputs": [
    {
     "data": {
      "text/plain": [
       "(803405, 14008)"
      ]
     },
     "execution_count": 13,
     "metadata": {},
     "output_type": "execute_result"
    }
   ],
   "source": [
    "smiles = pd.Series([s.metadata['smiles'] for s in spectra])\n",
    "smiles = smiles.drop_duplicates()\n",
    "len(spectra), len(smiles)"
   ]
  },
  {
   "cell_type": "code",
   "execution_count": 22,
   "metadata": {},
   "outputs": [],
   "source": [
    "df_4M = df_4M.rename(columns={'inchi_key_2D\\t': 'inchi_key_2D'})"
   ]
  },
  {
   "cell_type": "code",
   "execution_count": 23,
   "metadata": {},
   "outputs": [
    {
     "data": {
      "text/html": [
       "<div>\n",
       "<style scoped>\n",
       "    .dataframe tbody tr th:only-of-type {\n",
       "        vertical-align: middle;\n",
       "    }\n",
       "\n",
       "    .dataframe tbody tr th {\n",
       "        vertical-align: top;\n",
       "    }\n",
       "\n",
       "    .dataframe thead th {\n",
       "        text-align: right;\n",
       "    }\n",
       "</style>\n",
       "<table border=\"1\" class=\"dataframe\">\n",
       "  <thead>\n",
       "    <tr style=\"text-align: right;\">\n",
       "      <th></th>\n",
       "      <th>smiles</th>\n",
       "      <th>inchi_key_2D</th>\n",
       "      <th>formula</th>\n",
       "      <th>mass</th>\n",
       "    </tr>\n",
       "  </thead>\n",
       "  <tbody>\n",
       "    <tr>\n",
       "      <th>0</th>\n",
       "      <td>CCCCCCC=CCCCC=CCCCCC=O</td>\n",
       "      <td>AMVROEXDYFQCMJ</td>\n",
       "      <td>C18H32O</td>\n",
       "      <td>264.245316</td>\n",
       "    </tr>\n",
       "    <tr>\n",
       "      <th>1</th>\n",
       "      <td>CCCCCCC=CC=CCCCCCCCC(=O)OC(COC(=O)CCCCCCCCCCCC...</td>\n",
       "      <td>BGVVPZDHBNNISC</td>\n",
       "      <td>C72H136O17P2</td>\n",
       "      <td>1334.925276</td>\n",
       "    </tr>\n",
       "    <tr>\n",
       "      <th>2</th>\n",
       "      <td>CCOC(=O)C1=CC=C(C=C1)NC(=S)NNC(=O)COC</td>\n",
       "      <td>SPIWIONSMQIGRJ</td>\n",
       "      <td>C13H17N3O4S</td>\n",
       "      <td>311.093977</td>\n",
       "    </tr>\n",
       "    <tr>\n",
       "      <th>3</th>\n",
       "      <td>CC1=CC=C(C=C1)NC2=NN=C(S2)C3=CC=CC=C3Cl</td>\n",
       "      <td>ZMDVBLUMPUTJMY</td>\n",
       "      <td>C15H12ClN3S</td>\n",
       "      <td>301.044046</td>\n",
       "    </tr>\n",
       "    <tr>\n",
       "      <th>4</th>\n",
       "      <td>C1=CC=C(C(=C1)C2=NC3=C(C=C2)C(=C(S3)C(=O)N)N)F</td>\n",
       "      <td>JJWMIZJMFIBGIJ</td>\n",
       "      <td>C14H10FN3OS</td>\n",
       "      <td>287.052861</td>\n",
       "    </tr>\n",
       "  </tbody>\n",
       "</table>\n",
       "</div>"
      ],
      "text/plain": [
       "                                              smiles    inchi_key_2D  \\\n",
       "0                             CCCCCCC=CCCCC=CCCCCC=O  AMVROEXDYFQCMJ   \n",
       "1  CCCCCCC=CC=CCCCCCCCC(=O)OC(COC(=O)CCCCCCCCCCCC...  BGVVPZDHBNNISC   \n",
       "2              CCOC(=O)C1=CC=C(C=C1)NC(=S)NNC(=O)COC  SPIWIONSMQIGRJ   \n",
       "3            CC1=CC=C(C=C1)NC2=NN=C(S2)C3=CC=CC=C3Cl  ZMDVBLUMPUTJMY   \n",
       "4     C1=CC=C(C(=C1)C2=NC3=C(C=C2)C(=C(S3)C(=O)N)N)F  JJWMIZJMFIBGIJ   \n",
       "\n",
       "        formula         mass  \n",
       "0       C18H32O   264.245316  \n",
       "1  C72H136O17P2  1334.925276  \n",
       "2   C13H17N3O4S   311.093977  \n",
       "3   C15H12ClN3S   301.044046  \n",
       "4   C14H10FN3OS   287.052861  "
      ]
     },
     "execution_count": 23,
     "metadata": {},
     "output_type": "execute_result"
    }
   ],
   "source": [
    "df_4M.head()"
   ]
  },
  {
   "cell_type": "code",
   "execution_count": null,
   "metadata": {},
   "outputs": [],
   "source": []
  },
  {
   "cell_type": "markdown",
   "metadata": {},
   "source": [
    "## Generate retrieval candidates from molecule sets for the spectral library\n"
   ]
  },
  {
   "cell_type": "code",
   "execution_count": 9,
   "metadata": {},
   "outputs": [],
   "source": [
    "def dedup(seq):\n",
    "    \"\"\"Deduplicate list while preserving order (https://stackoverflow.com/a/480227)\"\"\"\n",
    "    seen = set()\n",
    "    seen_add = seen.add\n",
    "    return [x for x in seq if not (x in seen or seen_add(x))]\n",
    "\n",
    "def init(shared_smiles, shared_formula, shared_mass, shared_inchi_key_2D):\n",
    "    global df_smiles, df_formula, df_mass, df_inchi_key_2d\n",
    "    df_smiles = shared_smiles\n",
    "    df_formula = shared_formula\n",
    "    df_mass = shared_mass\n",
    "    df_inchi_key_2d = shared_inchi_key_2D\n",
    "\n",
    "def get_candidates_single(args):\n",
    "    index, smiles, cand_type, max_cands = args\n",
    "    candidates_single = []\n",
    "\n",
    "    # Log the process ID\n",
    "    # logging.info(f'Process ID: {os.getpid()} handling SMILES: {smiles}')\n",
    "\n",
    "    # Add query SMILES as one of the candidates\n",
    "    if not candidates_single:\n",
    "        candidates_single.append(smiles)\n",
    "\n",
    "    # Query is already saturated with candidates\n",
    "    if len(candidates_single) == max_cands:\n",
    "        return candidates_single\n",
    "\n",
    "    # Find new candidates for the query\n",
    "    mol = Chem.MolFromSmiles(smiles)\n",
    "    inchi_key_2D = Chem.MolToInchiKey(mol).split(\"-\")[0]\n",
    "    if cand_type == 'formula':\n",
    "        formula = CalcMolFormula(mol)\n",
    "        new_cands = [\n",
    "            df_smiles[i] for i in range(len(df_smiles))\n",
    "            if df_formula[i] == formula and df_inchi_key_2d[i] != inchi_key_2D\n",
    "        ]\n",
    "    elif cand_type == 'mass':\n",
    "        mass = CalcExactMolWt(mol)\n",
    "        mass_eps = mass * 1e-6 * 10  # 10 ppm\n",
    "        new_cands = [\n",
    "            df_smiles[i] for i in range(len(df_smiles))\n",
    "            if abs(df_mass[i] - mass) < mass_eps and df_inchi_key_2d[i] != inchi_key_2D\n",
    "        ]\n",
    "    else:\n",
    "        raise ValueError(f'Unknown candidates type {cand_type}.')\n",
    "\n",
    "    # Shuffle new candidates to reach a random sample if pruned in the next step\n",
    "    random.shuffle(new_cands)\n",
    "\n",
    "    # Add new candidates until the maximum number is reached\n",
    "    candidates_single.extend(new_cands)\n",
    "    candidates_single = dedup(candidates_single)[:max_cands]\n",
    "\n",
    "    return candidates_single\n",
    "\n",
    "def get_candidates_parallel(\n",
    "        query_smiles: T.Iterable[str],\n",
    "        df: pd.DataFrame,\n",
    "        cand_type: str = 'formula',\n",
    "        max_cands: int = 256,\n",
    "        df_candidates: T.Optional[pd.DataFrame] = None,\n",
    "        max_workers: int = cpu_count() - 2\n",
    "    ) -> pd.DataFrame:\n",
    "    \"\"\"For query SMILES strings, find similar SMILES from the dataframe in parallel\"\"\"\n",
    "    logging.info('Starting get_candidates_parallel')\n",
    "\n",
    "    if df_candidates is None:\n",
    "        df_candidates = pd.DataFrame({'smiles': query_smiles, 'cands': [[] for _ in query_smiles]})\n",
    "        logging.info('Initialized df_candidates with empty candidate lists')\n",
    "\n",
    "    # Convert DataFrame columns to numpy arrays\n",
    "    df_smiles_array = df['smiles'].to_numpy()\n",
    "    df_formula_array = df['formula'].fillna('').to_numpy()\n",
    "    df_mass_array = df['mass'].to_numpy()\n",
    "    df_inchi_key_2d_array = df['inchi_key_2D'].fillna('').to_numpy()\n",
    "\n",
    "    # Create shared arrays not to copy df for each process (critical in the case of whole PubChem)\n",
    "    shared_smiles = Array(ctypes.c_wchar_p, df_smiles_array, lock=False)\n",
    "    shared_formula = Array(ctypes.c_wchar_p, df_formula_array, lock=False)\n",
    "    shared_mass = Array(ctypes.c_double, df_mass_array, lock=False)\n",
    "    shared_inchi_key_2D = Array(ctypes.c_wchar_p, df_inchi_key_2d_array, lock=False)\n",
    "\n",
    "    logging.info(f'Setting up shared arrays with {max_workers} workers')\n",
    "    \n",
    "    with Pool(\n",
    "        processes=max_workers,\n",
    "        initializer=init,\n",
    "        initargs=(shared_smiles, shared_formula, shared_mass, shared_inchi_key_2D)\n",
    "    ) as pool:\n",
    "        args = [(index, row['smiles'], cand_type, max_cands) for index, row in df_candidates.iterrows()]\n",
    "        \n",
    "        # Use tqdm to show the progress bar\n",
    "        results = []\n",
    "        for result in tqdm(pool.imap(get_candidates_single, args), total=len(args)):\n",
    "            results.append(result)\n",
    "        \n",
    "        df_candidates['cands'] = results\n",
    "        logging.info('Finished multiprocessing pool')\n",
    "\n",
    "    logging.info('Completed get_candidates_parallel')\n",
    "    return df_candidates"
   ]
  },
  {
   "cell_type": "code",
   "execution_count": 10,
   "metadata": {},
   "outputs": [
    {
     "name": "stderr",
     "output_type": "stream",
     "text": [
      "2025-01-18 16:35:31,896 - INFO - Starting get_candidates_parallel\n",
      "2025-01-18 16:35:31,908 - INFO - Initialized df_candidates with empty candidate lists\n",
      "2025-01-18 16:35:34,181 - INFO - Setting up shared arrays with 126 workers\n",
      "100%|████████████████████████████████████| 14008/14008 [00:35<00:00, 399.65it/s]\n",
      "2025-01-18 16:37:48,476 - INFO - Finished multiprocessing pool\n",
      "2025-01-18 16:37:51,339 - INFO - Completed get_candidates_parallel\n"
     ]
    },
    {
     "data": {
      "text/plain": [
       "<Axes: >"
      ]
     },
     "execution_count": 10,
     "metadata": {},
     "output_type": "execute_result"
    },
    {
     "data": {
      "image/png": "[encoded data removed]",
      "text/plain": [
       "<Figure size 640x480 with 1 Axes>"
      ]
     },
     "metadata": {},
     "output_type": "display_data"
    }
   ],
   "source": [
    "candidates = get_candidates_parallel(smiles, df_1M, cand_type='mass')\n",
    "candidates['cands'].apply(len).hist(bins=100)"
   ]
  },
  {
   "cell_type": "code",
   "execution_count": 11,
   "metadata": {},
   "outputs": [],
   "source": [
    "candidates.to_pickle('cands_1M_mass.pkl')"
   ]
  },
  {
   "cell_type": "code",
   "execution_count": 24,
   "metadata": {},
   "outputs": [
    {
     "name": "stderr",
     "output_type": "stream",
     "text": [
      "2025-01-18 16:41:49,794 - INFO - Starting get_candidates_parallel\n",
      "2025-01-18 16:42:00,011 - INFO - Setting up shared arrays with 126 workers\n",
      "100%|████████████████████████████████████| 14008/14008 [01:56<00:00, 120.14it/s]\n",
      "2025-01-18 16:45:45,893 - INFO - Finished multiprocessing pool\n",
      "2025-01-18 16:45:49,108 - INFO - Completed get_candidates_parallel\n"
     ]
    },
    {
     "data": {
      "text/plain": [
       "<Axes: >"
      ]
     },
     "execution_count": 24,
     "metadata": {},
     "output_type": "execute_result"
    },
    {
     "data": {
      "image/png": "[encoded data removed]",
      "text/plain": [
       "<Figure size 640x480 with 1 Axes>"
      ]
     },
     "metadata": {},
     "output_type": "display_data"
    }
   ],
   "source": [
    "candidates = get_candidates_parallel(smiles, df_4M, cand_type='mass', df_candidates=candidates)\n",
    "candidates['cands'].apply(len).hist(bins=100)"
   ]
  },
  {
   "cell_type": "code",
   "execution_count": 25,
   "metadata": {},
   "outputs": [],
   "source": [
    "candidates.to_pickle('cands_4M_mass.pkl')"
   ]
  },
  {
   "cell_type": "code",
   "execution_count": 26,
   "metadata": {},
   "outputs": [
    {
     "name": "stderr",
     "output_type": "stream",
     "text": [
      "2025-01-18 16:45:53,382 - INFO - Starting get_candidates_parallel\n",
      "2025-01-18 16:52:14,269 - INFO - Setting up shared arrays with 126 workers\n",
      "100%|█████████████████████████████████████| 14008/14008 [54:54<00:00,  4.25it/s]\n",
      "2025-01-18 17:53:08,190 - INFO - Finished multiprocessing pool\n",
      "2025-01-18 17:53:18,757 - INFO - Completed get_candidates_parallel\n"
     ]
    },
    {
     "data": {
      "text/plain": [
       "<Axes: >"
      ]
     },
     "execution_count": 26,
     "metadata": {},
     "output_type": "execute_result"
    },
    {
     "data": {
      "image/png": "[encoded data removed]",
      "text/plain": [
       "<Figure size 640x480 with 1 Axes>"
      ]
     },
     "metadata": {},
     "output_type": "display_data"
    }
   ],
   "source": [
    "candidates = get_candidates_parallel(smiles, df_pubchem, cand_type='mass', df_candidates=candidates)\n",
    "candidates['cands'].apply(len).hist(bins=100)"
   ]
  },
  {
   "cell_type": "code",
   "execution_count": 27,
   "metadata": {},
   "outputs": [],
   "source": [
    "candidates.to_pickle('cands_pubchem_118M_mass.pkl')"
   ]
  },
  {
   "cell_type": "code",
   "execution_count": 28,
   "metadata": {},
   "outputs": [],
   "source": [
    "# Write candidates dictionary to JSON file\n",
    "with open('MassSpecGymMSn_retrieval_candidates_mass.json', 'w') as json_file:\n",
    "    candidates_dict = dict(zip(candidates['smiles'], candidates['cands']))\n",
    "    json.dump(candidates_dict, json_file)"
   ]
  },
  {
   "cell_type": "markdown",
   "metadata": {},
   "source": [
    "# Genereta Formula"
   ]
  },
  {
   "cell_type": "code",
   "execution_count": 29,
   "metadata": {},
   "outputs": [
    {
     "data": {
      "text/plain": [
       "14008"
      ]
     },
     "execution_count": 29,
     "metadata": {},
     "output_type": "execute_result"
    }
   ],
   "source": [
    "len(smiles)"
   ]
  },
  {
   "cell_type": "code",
   "execution_count": 30,
   "metadata": {},
   "outputs": [
    {
     "name": "stderr",
     "output_type": "stream",
     "text": [
      "2025-01-18 17:54:50,131 - INFO - Starting get_candidates_parallel\n",
      "2025-01-18 17:54:50,143 - INFO - Initialized df_candidates with empty candidate lists\n",
      "2025-01-18 17:54:52,457 - INFO - Setting up shared arrays with 126 workers\n",
      "100%|████████████████████████████████████| 14008/14008 [00:44<00:00, 314.49it/s]\n",
      "2025-01-18 17:57:28,211 - INFO - Finished multiprocessing pool\n",
      "2025-01-18 17:57:31,467 - INFO - Completed get_candidates_parallel\n"
     ]
    },
    {
     "data": {
      "text/plain": [
       "<Axes: >"
      ]
     },
     "execution_count": 30,
     "metadata": {},
     "output_type": "execute_result"
    },
    {
     "data": {
      "image/png": "[encoded data removed]",
      "text/plain": [
       "<Figure size 640x480 with 1 Axes>"
      ]
     },
     "metadata": {},
     "output_type": "display_data"
    }
   ],
   "source": [
    "candidates = get_candidates_parallel(smiles, df_1M, cand_type='formula')\n",
    "candidates['cands'].apply(len).hist(bins=100)"
   ]
  },
  {
   "cell_type": "code",
   "execution_count": 31,
   "metadata": {},
   "outputs": [],
   "source": [
    "candidates.to_pickle('cands_1M_formula.pkl')"
   ]
  },
  {
   "cell_type": "code",
   "execution_count": 32,
   "metadata": {},
   "outputs": [
    {
     "name": "stderr",
     "output_type": "stream",
     "text": [
      "2025-01-18 17:57:32,553 - INFO - Starting get_candidates_parallel\n",
      "2025-01-18 17:57:43,547 - INFO - Setting up shared arrays with 126 workers\n",
      "100%|█████████████████████████████████████| 14008/14008 [02:22<00:00, 98.02it/s]\n",
      "2025-01-18 18:02:10,526 - INFO - Finished multiprocessing pool\n",
      "2025-01-18 18:02:14,038 - INFO - Completed get_candidates_parallel\n"
     ]
    },
    {
     "data": {
      "text/plain": [
       "<Axes: >"
      ]
     },
     "execution_count": 32,
     "metadata": {},
     "output_type": "execute_result"
    },
    {
     "data": {
      "image/png": "[encoded data removed]",
      "text/plain": [
       "<Figure size 640x480 with 1 Axes>"
      ]
     },
     "metadata": {},
     "output_type": "display_data"
    }
   ],
   "source": [
    "candidates = get_candidates_parallel(smiles, df_4M, cand_type='formula', df_candidates=candidates)\n",
    "candidates['cands'].apply(len).hist(bins=100)"
   ]
  },
  {
   "cell_type": "code",
   "execution_count": 33,
   "metadata": {},
   "outputs": [],
   "source": [
    "candidates.to_pickle('cands_4M_formula.pkl')"
   ]
  },
  {
   "cell_type": "code",
   "execution_count": 35,
   "metadata": {},
   "outputs": [
    {
     "name": "stderr",
     "output_type": "stream",
     "text": [
      "2025-01-18 18:29:15,717 - INFO - Starting get_candidates_parallel\n",
      "2025-01-18 18:35:42,154 - INFO - Setting up shared arrays with 126 workers\n",
      "100%|█████████████████████████████████████| 14008/14008 [53:43<00:00,  4.35it/s]\n",
      "2025-01-18 19:41:07,518 - INFO - Finished multiprocessing pool\n",
      "2025-01-18 19:41:24,750 - INFO - Completed get_candidates_parallel\n"
     ]
    },
    {
     "data": {
      "text/plain": [
       "<Axes: >"
      ]
     },
     "execution_count": 35,
     "metadata": {},
     "output_type": "execute_result"
    },
    {
     "data": {
      "image/png": "[encoded data removed]",
      "text/plain": [
       "<Figure size 640x480 with 1 Axes>"
      ]
     },
     "metadata": {},
     "output_type": "display_data"
    }
   ],
   "source": [
    "candidates = get_candidates_parallel(smiles, df_pubchem, cand_type='formula', df_candidates=candidates)\n",
    "candidates['cands'].apply(len).hist(bins=100)"
   ]
  },
  {
   "cell_type": "code",
   "execution_count": 36,
   "metadata": {},
   "outputs": [],
   "source": [
    "candidates.to_pickle('cands_pubchem_118M_formula.pkl')"
   ]
  },
  {
   "cell_type": "code",
   "execution_count": 37,
   "metadata": {},
   "outputs": [],
   "source": [
    "# Write candidates dictionary to JSON file\n",
    "with open('MassSpecGymMSn_retrieval_candidates_formula.json', 'w') as json_file:\n",
    "    candidates_dict = dict(zip(candidates['smiles'], candidates['cands']))\n",
    "    json.dump(candidates_dict, json_file)"
   ]
  },
  {
   "cell_type": "code",
   "execution_count": null,
   "metadata": {},
   "outputs": [],
   "source": []
  },
  {
   "cell_type": "code",
   "execution_count": null,
   "metadata": {},
   "outputs": [],
   "source": []
  },
  {
   "cell_type": "code",
   "execution_count": null,
   "metadata": {},
   "outputs": [],
   "source": []
  },
  {
   "cell_type": "code",
   "execution_count": null,
   "metadata": {},
   "outputs": [],
   "source": []
  },
  {
   "cell_type": "code",
   "execution_count": null,
   "metadata": {},
   "outputs": [],
   "source": []
  },
  {
   "cell_type": "code",
   "execution_count": null,
   "metadata": {},
   "outputs": [],
   "source": []
  },
  {
   "cell_type": "code",
   "execution_count": null,
   "metadata": {},
   "outputs": [],
   "source": []
  },
  {
   "cell_type": "code",
   "execution_count": null,
   "metadata": {},
   "outputs": [],
   "source": []
  },
  {
   "cell_type": "code",
   "execution_count": null,
   "metadata": {},
   "outputs": [],
   "source": []
  },
  {
   "cell_type": "code",
   "execution_count": null,
   "metadata": {},
   "outputs": [],
   "source": []
  },
  {
   "cell_type": "code",
   "execution_count": null,
   "metadata": {},
   "outputs": [],
   "source": []
  },
  {
   "cell_type": "code",
   "execution_count": null,
   "metadata": {},
   "outputs": [],
   "source": []
  },
  {
   "cell_type": "code",
   "execution_count": null,
   "metadata": {},
   "outputs": [],
   "source": []
  },
  {
   "cell_type": "code",
   "execution_count": 9,
   "metadata": {},
   "outputs": [
    {
     "name": "stdout",
     "output_type": "stream",
     "text": [
      "Python 3.6.10\r\n"
     ]
    }
   ],
   "source": [
    "! python -V"
   ]
  },
  {
   "cell_type": "code",
   "execution_count": null,
   "metadata": {},
   "outputs": [],
   "source": []
  },
  {
   "cell_type": "code",
   "execution_count": null,
   "metadata": {},
   "outputs": [],
   "source": []
  },
  {
   "cell_type": "code",
   "execution_count": null,
   "metadata": {},
   "outputs": [],
   "source": []
  },
  {
   "cell_type": "code",
   "execution_count": null,
   "metadata": {},
   "outputs": [],
   "source": []
  },
  {
   "cell_type": "code",
   "execution_count": 12,
   "metadata": {},
   "outputs": [
    {
     "name": "stdout",
     "output_type": "stream",
     "text": [
      "\r\n",
      "CommandNotFoundError: Your shell has not been properly configured to use 'conda activate'.\r\n",
      "To initialize your shell, run\r\n",
      "\r\n",
      "    $ conda init <SHELL_NAME>\r\n",
      "\r\n",
      "Currently supported shells are:\r\n",
      "  - bash\r\n",
      "  - fish\r\n",
      "  - tcsh\r\n",
      "  - xonsh\r\n",
      "  - zsh\r\n",
      "  - powershell\r\n",
      "\r\n",
      "See 'conda init --help' for more information and options.\r\n",
      "\r\n",
      "IMPORTANT: You may need to close and restart your shell after running 'conda init'.\r\n",
      "\r\n",
      "\r\n"
     ]
    }
   ],
   "source": [
    "! conda activate /storage/plzen1/home/jozefov_147/.conda/envs/candidates_env"
   ]
  },
  {
   "cell_type": "code",
   "execution_count": 11,
   "metadata": {},
   "outputs": [],
   "source": [
    "! module add conda-modules-py37"
   ]
  },
  {
   "cell_type": "code",
   "execution_count": null,
   "metadata": {},
   "outputs": [],
   "source": []
  },
  {
   "cell_type": "code",
   "execution_count": null,
   "metadata": {},
   "outputs": [],
   "source": []
  }
 ],
 "metadata": {
  "kernelspec": {
   "display_name": "Python (candidates_env)",
   "language": "python",
   "name": "tmap_env"
  },
  "language_info": {
   "codemirror_mode": {
    "name": "ipython",
    "version": 3
   },
   "file_extension": ".py",
   "mimetype": "text/x-python",
   "name": "python",
   "nbconvert_exporter": "python",
   "pygments_lexer": "ipython3",
   "version": "3.9.21"
  }
 },
 "nbformat": 4,
 "nbformat_minor": 2
}
