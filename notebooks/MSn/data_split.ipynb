{
 "cells": [
  {
   "cell_type": "code",
   "id": "initial_id",
   "metadata": {
    "collapsed": true,
    "ExecuteTime": {
     "end_time": "2024-09-16T05:40:06.533677Z",
     "start_time": "2024-09-16T05:40:06.530879Z"
    }
   },
   "source": [
    "import pandas as pd\n",
    "import numpy as np\n",
    "import pulp\n",
    "import os\n",
    "import h5py\n",
    "from sklearn.model_selection import StratifiedGroupKFold\n",
    "from sklearn.cluster import AgglomerativeClustering\n",
    "from scipy.spatial.distance import squareform\n",
    "from matchms.importing import load_from_mgf\n",
    "from rdkit import Chem\n",
    "from rdkit.Chem import DataStructs\n",
    "from tqdm import tqdm\n",
    "from myopic_mces.myopic_mces import MCES\n",
    "import h5py\n",
    "import massspecgym.utils as utils\n",
    "\n",
    "\n",
    "from massspecgym.utils import (\n",
    "    morgan_fp, init_plotting, smiles_to_scaffold,\n",
    "    train_val_test_split, create_split_file,\n",
    "    MyopicMCES, MyopicMCESNew\n",
    "    )"
   ],
   "outputs": [],
   "execution_count": 30
  },
  {
   "metadata": {
    "ExecuteTime": {
     "end_time": "2024-09-16T05:24:16.402373Z",
     "start_time": "2024-09-16T05:19:45.499702Z"
    }
   },
   "cell_type": "code",
   "source": [
    "# Load the data from MGF file\n",
    "file_path = '/Users/macbook/CODE/MS/data/MSn/MSn/20240914_msn_library_pos_all_lib_MSn.mgf'\n",
    "spectra = list(load_from_mgf(file_path))"
   ],
   "id": "8567bb7c0487e5c5",
   "outputs": [],
   "execution_count": 2
  },
  {
   "metadata": {
    "ExecuteTime": {
     "end_time": "2024-09-16T05:25:57.443425Z",
     "start_time": "2024-09-16T05:24:16.441837Z"
    }
   },
   "cell_type": "code",
   "source": [
    "# Extract unique SMILES\n",
    "unique_smiles = set()\n",
    "for spectrum in spectra:\n",
    "    if 'smiles' in spectrum.metadata:\n",
    "        unique_smiles.add(spectrum.metadata['smiles'])"
   ],
   "id": "300ee3f9a159b882",
   "outputs": [],
   "execution_count": 3
  },
  {
   "metadata": {
    "ExecuteTime": {
     "end_time": "2024-09-16T05:25:57.459239Z",
     "start_time": "2024-09-16T05:25:57.456110Z"
    }
   },
   "cell_type": "code",
   "source": "len(unique_smiles)",
   "id": "8103f9e88673e0e6",
   "outputs": [
    {
     "data": {
      "text/plain": [
       "14008"
      ]
     },
     "execution_count": 4,
     "metadata": {},
     "output_type": "execute_result"
    }
   ],
   "execution_count": 4
  },
  {
   "metadata": {
    "ExecuteTime": {
     "end_time": "2024-09-16T05:25:57.501018Z",
     "start_time": "2024-09-16T05:25:57.498488Z"
    }
   },
   "cell_type": "code",
   "source": [
    "# Convert unique SMILES to a list\n",
    "unique_smiles = list(unique_smiles)"
   ],
   "id": "c6e840297ccabe3a",
   "outputs": [],
   "execution_count": 5
  },
  {
   "metadata": {
    "ExecuteTime": {
     "end_time": "2024-09-16T05:25:57.516705Z",
     "start_time": "2024-09-16T05:25:57.514376Z"
    }
   },
   "cell_type": "code",
   "source": "unique_smiles = unique_smiles[:100]",
   "id": "6888202b23f24cbe",
   "outputs": [],
   "execution_count": 6
  },
  {
   "metadata": {
    "ExecuteTime": {
     "end_time": "2024-09-16T05:25:57.526512Z",
     "start_time": "2024-09-16T05:25:57.524845Z"
    }
   },
   "cell_type": "code",
   "source": [
    "# Initialize the MCES computation instance\n",
    "mces_calculator_new = MyopicMCESNew()"
   ],
   "id": "6825cffada14f84a",
   "outputs": [],
   "execution_count": 7
  },
  {
   "metadata": {},
   "cell_type": "code",
   "outputs": [],
   "execution_count": null,
   "source": "",
   "id": "fb01f9ea96251283"
  },
  {
   "metadata": {
    "ExecuteTime": {
     "end_time": "2024-09-15T11:55:18.228583Z",
     "start_time": "2024-09-15T11:55:18.225947Z"
    }
   },
   "cell_type": "code",
   "source": [
    "# Compute the MCES distance matrix\n",
    "# num_smiles = len(unique_smiles)\n",
    "# dists = np.zeros((num_smiles, num_smiles))"
   ],
   "id": "c756f7232dadcfc8",
   "outputs": [],
   "execution_count": 7
  },
  {
   "metadata": {
    "ExecuteTime": {
     "end_time": "2024-09-15T12:14:05.677521Z",
     "start_time": "2024-09-15T12:14:04.834818Z"
    }
   },
   "cell_type": "code",
   "source": [
    "# hdf5_path = '/Users/macbook/CODE/MS/data/MSn/MSn/mces_distances.hdf5'\n",
    "# \n",
    "# # Initialize or load the distance matrix in HDF5 format\n",
    "# if os.path.exists(hdf5_path):\n",
    "#     hdf5_file = h5py.File(hdf5_path, 'a')\n",
    "#     dists = hdf5_file['mces'][:]\n",
    "# else:\n",
    "#     hdf5_file = h5py.File(hdf5_path, 'w')\n",
    "#     dists = np.full((num_smiles, num_smiles), np.inf)  # Initialize with infinity\n",
    "#     hdf5_file.create_dataset('mces', data=dists)\n"
   ],
   "id": "56f305f46ee9ce59",
   "outputs": [],
   "execution_count": 13
  },
  {
   "metadata": {
    "ExecuteTime": {
     "end_time": "2024-09-16T05:34:44.445294Z",
     "start_time": "2024-09-16T05:34:44.436379Z"
    }
   },
   "cell_type": "code",
   "source": [
    "# Create a DataFrame to keep track of unique SMILES and their indices\n",
    "smiles_df = pd.DataFrame(unique_smiles, columns=['smiles'])\n",
    "\n",
    "# Save unique SMILES and indices to CSV for reference\n",
    "smiles_df_path = '/Users/macbook/CODE/MS/data/MSn/MSn/unique_smiles_small.csv'\n",
    "# smiles_df.to_csv(smiles_df_path, index=False)\n"
   ],
   "id": "43e205d2a52ea662",
   "outputs": [],
   "execution_count": 24
  },
  {
   "metadata": {
    "ExecuteTime": {
     "start_time": "2024-09-15T12:14:57.565685Z"
    }
   },
   "cell_type": "code",
   "source": [
    "# for i in tqdm(range(num_smiles), desc=\"Computing MCES distances\"):\n",
    "#     for j in range(i + 1, num_smiles):\n",
    "#         if np.isinf(dists[i, j]):  # Only compute if not already done\n",
    "#             dist = mces_calculator_new(unique_smiles[i], unique_smiles[j])\n",
    "#             dists[i, j] = dist\n",
    "#             dists[j, i] = dist\n",
    "#         # Save progress every 1000 calculations\n",
    "#         if (i * num_smiles + j) % 1000 == 0:\n",
    "#             hdf5_file['mces'][:] = dists\n",
    "#             hdf5_file.flush()\n"
   ],
   "id": "222bb434c523ef0e",
   "outputs": [
    {
     "name": "stderr",
     "output_type": "stream",
     "text": [
      "Computing MCES distances:   0%|          | 3/14008 [15:30<1207:15:40, 310.33s/it]\n"
     ]
    },
    {
     "ename": "KeyboardInterrupt",
     "evalue": "",
     "output_type": "error",
     "traceback": [
      "\u001B[0;31m---------------------------------------------------------------------------\u001B[0m",
      "\u001B[0;31mKeyboardInterrupt\u001B[0m                         Traceback (most recent call last)",
      "Cell \u001B[0;32mIn[14], line 4\u001B[0m\n\u001B[1;32m      2\u001B[0m \u001B[38;5;28;01mfor\u001B[39;00m j \u001B[38;5;129;01min\u001B[39;00m \u001B[38;5;28mrange\u001B[39m(i \u001B[38;5;241m+\u001B[39m \u001B[38;5;241m1\u001B[39m, num_smiles):\n\u001B[1;32m      3\u001B[0m     \u001B[38;5;28;01mif\u001B[39;00m np\u001B[38;5;241m.\u001B[39misinf(dists[i, j]):  \u001B[38;5;66;03m# Only compute if not already done\u001B[39;00m\n\u001B[0;32m----> 4\u001B[0m         dist \u001B[38;5;241m=\u001B[39m \u001B[43mmces_calculator_new\u001B[49m\u001B[43m(\u001B[49m\u001B[43munique_smiles\u001B[49m\u001B[43m[\u001B[49m\u001B[43mi\u001B[49m\u001B[43m]\u001B[49m\u001B[43m,\u001B[49m\u001B[43m \u001B[49m\u001B[43munique_smiles\u001B[49m\u001B[43m[\u001B[49m\u001B[43mj\u001B[49m\u001B[43m]\u001B[49m\u001B[43m)\u001B[49m\n\u001B[1;32m      5\u001B[0m         dists[i, j] \u001B[38;5;241m=\u001B[39m dist\n\u001B[1;32m      6\u001B[0m         dists[j, i] \u001B[38;5;241m=\u001B[39m dist\n",
      "File \u001B[0;32m~/CODE/Majer:MassSpecGym/massspecgym/utils.py:318\u001B[0m, in \u001B[0;36mMyopicMCESNew.__call__\u001B[0;34m(self, smiles_1, smiles_2)\u001B[0m\n\u001B[1;32m    316\u001B[0m \u001B[38;5;28;01mdef\u001B[39;00m \u001B[38;5;21m__call__\u001B[39m(\u001B[38;5;28mself\u001B[39m, smiles_1: \u001B[38;5;28mstr\u001B[39m, smiles_2: \u001B[38;5;28mstr\u001B[39m) \u001B[38;5;241m-\u001B[39m\u001B[38;5;241m>\u001B[39m \u001B[38;5;28mfloat\u001B[39m:\n\u001B[1;32m    317\u001B[0m     \u001B[38;5;28;01mtry\u001B[39;00m:\n\u001B[0;32m--> 318\u001B[0m         retval \u001B[38;5;241m=\u001B[39m \u001B[43mMCES\u001B[49m\u001B[43m(\u001B[49m\n\u001B[1;32m    319\u001B[0m \u001B[43m            \u001B[49m\u001B[43msmiles1\u001B[49m\u001B[38;5;241;43m=\u001B[39;49m\u001B[43msmiles_1\u001B[49m\u001B[43m,\u001B[49m\u001B[43m  \u001B[49m\u001B[38;5;66;43;03m# Correct parameter name\u001B[39;49;00m\n\u001B[1;32m    320\u001B[0m \u001B[43m            \u001B[49m\u001B[43msmiles2\u001B[49m\u001B[38;5;241;43m=\u001B[39;49m\u001B[43msmiles_2\u001B[49m\u001B[43m,\u001B[49m\u001B[43m  \u001B[49m\u001B[38;5;66;43;03m# Correct parameter name\u001B[39;49;00m\n\u001B[1;32m    321\u001B[0m \u001B[43m            \u001B[49m\u001B[43mthreshold\u001B[49m\u001B[38;5;241;43m=\u001B[39;49m\u001B[38;5;28;43mself\u001B[39;49m\u001B[38;5;241;43m.\u001B[39;49m\u001B[43mthreshold\u001B[49m\u001B[43m,\u001B[49m\n\u001B[1;32m    322\u001B[0m \u001B[43m            \u001B[49m\u001B[43mi\u001B[49m\u001B[38;5;241;43m=\u001B[39;49m\u001B[38;5;28;43mself\u001B[39;49m\u001B[38;5;241;43m.\u001B[39;49m\u001B[43mind\u001B[49m\u001B[43m,\u001B[49m\n\u001B[1;32m    323\u001B[0m \u001B[43m            \u001B[49m\u001B[43msolver\u001B[49m\u001B[38;5;241;43m=\u001B[39;49m\u001B[38;5;28;43mself\u001B[39;49m\u001B[38;5;241;43m.\u001B[39;49m\u001B[43msolver\u001B[49m\u001B[43m,\u001B[49m\n\u001B[1;32m    324\u001B[0m \u001B[43m            \u001B[49m\u001B[43msolver_options\u001B[49m\u001B[38;5;241;43m=\u001B[39;49m\u001B[38;5;28;43mself\u001B[39;49m\u001B[38;5;241;43m.\u001B[39;49m\u001B[43msolver_options\u001B[49m\u001B[43m,\u001B[49m\n\u001B[1;32m    325\u001B[0m \u001B[43m            \u001B[49m\u001B[43mno_ilp_threshold\u001B[49m\u001B[38;5;241;43m=\u001B[39;49m\u001B[38;5;28;43mself\u001B[39;49m\u001B[38;5;241;43m.\u001B[39;49m\u001B[43mno_ilp_threshold\u001B[49m\u001B[43m,\u001B[49m\n\u001B[1;32m    326\u001B[0m \u001B[43m            \u001B[49m\u001B[43malways_stronger_bound\u001B[49m\u001B[38;5;241;43m=\u001B[39;49m\u001B[38;5;28;43mself\u001B[39;49m\u001B[38;5;241;43m.\u001B[39;49m\u001B[43malways_stronger_bound\u001B[49m\u001B[43m,\u001B[49m\n\u001B[1;32m    327\u001B[0m \u001B[43m            \u001B[49m\u001B[43mcatch_errors\u001B[49m\u001B[38;5;241;43m=\u001B[39;49m\u001B[38;5;28;43mself\u001B[39;49m\u001B[38;5;241;43m.\u001B[39;49m\u001B[43mcatch_errors\u001B[49m\n\u001B[1;32m    328\u001B[0m \u001B[43m        \u001B[49m\u001B[43m)\u001B[49m\n\u001B[1;32m    329\u001B[0m         \u001B[38;5;66;03m# Extract the relevant output (distance)\u001B[39;00m\n\u001B[1;32m    330\u001B[0m         dist \u001B[38;5;241m=\u001B[39m retval[\u001B[38;5;241m1\u001B[39m]\n",
      "File \u001B[0;32m~/UTILS/anaconda3/envs/massspecgym/lib/python3.11/site-packages/myopic_mces/myopic_mces.py:61\u001B[0m, in \u001B[0;36mMCES\u001B[0;34m(smiles1, smiles2, threshold, i, solver, solver_options, no_ilp_threshold, always_stronger_bound, catch_errors)\u001B[0m\n\u001B[1;32m     58\u001B[0m \u001B[38;5;28;01mif\u001B[39;00m threshold \u001B[38;5;241m!=\u001B[39m \u001B[38;5;241m-\u001B[39m\u001B[38;5;241m1\u001B[39m:         \u001B[38;5;66;03m# with `-1` always compute exact distance\u001B[39;00m\n\u001B[1;32m     59\u001B[0m     \u001B[38;5;66;03m# filter out if distance is above the threshold\u001B[39;00m\n\u001B[1;32m     60\u001B[0m     \u001B[38;5;28;01mtry\u001B[39;00m:\n\u001B[0;32m---> 61\u001B[0m         distance, compute_mode \u001B[38;5;241m=\u001B[39m \u001B[43mapply_filter\u001B[49m\u001B[43m(\u001B[49m\u001B[43mG1\u001B[49m\u001B[43m,\u001B[49m\u001B[43m \u001B[49m\u001B[43mG2\u001B[49m\u001B[43m,\u001B[49m\u001B[43m \u001B[49m\u001B[43mthreshold\u001B[49m\u001B[43m,\u001B[49m\u001B[43m \u001B[49m\u001B[43malways_stronger_bound\u001B[49m\u001B[38;5;241;43m=\u001B[39;49m\u001B[43malways_stronger_bound\u001B[49m\u001B[43m)\u001B[49m\n\u001B[1;32m     62\u001B[0m         \u001B[38;5;28;01mif\u001B[39;00m distance \u001B[38;5;241m>\u001B[39m threshold:\n\u001B[1;32m     63\u001B[0m             \u001B[38;5;28;01mreturn\u001B[39;00m i, distance, time\u001B[38;5;241m.\u001B[39mtime() \u001B[38;5;241m-\u001B[39m start, compute_mode\n",
      "File \u001B[0;32m~/UTILS/anaconda3/envs/massspecgym/lib/python3.11/site-packages/myopic_mces/filter_MCES.py:243\u001B[0m, in \u001B[0;36mapply_filter\u001B[0;34m(G1, G2, threshold, always_stronger_bound)\u001B[0m\n\u001B[1;32m    218\u001B[0m \u001B[38;5;250m\u001B[39m\u001B[38;5;124;03m\"\"\"\u001B[39;00m\n\u001B[1;32m    219\u001B[0m \u001B[38;5;124;03m Finds a lower bound for the distance\u001B[39;00m\n\u001B[1;32m    220\u001B[0m \n\u001B[0;32m   (...)\u001B[0m\n\u001B[1;32m    240\u001B[0m \n\u001B[1;32m    241\u001B[0m \u001B[38;5;124;03m\"\"\"\u001B[39;00m\n\u001B[1;32m    242\u001B[0m \u001B[38;5;28;01mif\u001B[39;00m always_stronger_bound:\n\u001B[0;32m--> 243\u001B[0m     d\u001B[38;5;241m=\u001B[39m\u001B[43mfilter2\u001B[49m\u001B[43m(\u001B[49m\u001B[43mG1\u001B[49m\u001B[43m,\u001B[49m\u001B[43mG2\u001B[49m\u001B[43m)\u001B[49m\n\u001B[1;32m    244\u001B[0m     \u001B[38;5;28;01mreturn\u001B[39;00m d, \u001B[38;5;241m4\u001B[39m\n\u001B[1;32m    245\u001B[0m \u001B[38;5;28;01melse\u001B[39;00m:\n\u001B[1;32m    246\u001B[0m     \u001B[38;5;66;03m#calculate first lower bound\u001B[39;00m\n",
      "File \u001B[0;32m~/UTILS/anaconda3/envs/massspecgym/lib/python3.11/site-packages/myopic_mces/filter_MCES.py:194\u001B[0m, in \u001B[0;36mfilter2\u001B[0;34m(G1, G2)\u001B[0m\n\u001B[1;32m    192\u001B[0m     \u001B[38;5;28;01mfor\u001B[39;00m k \u001B[38;5;129;01min\u001B[39;00m nodes2:\n\u001B[1;32m    193\u001B[0m         \u001B[38;5;28;01mif\u001B[39;00m G1\u001B[38;5;241m.\u001B[39mnodes[j][\u001B[38;5;124m\"\u001B[39m\u001B[38;5;124matom\u001B[39m\u001B[38;5;124m\"\u001B[39m]\u001B[38;5;241m==\u001B[39mG2\u001B[38;5;241m.\u001B[39mnodes[k][\u001B[38;5;124m\"\u001B[39m\u001B[38;5;124matom\u001B[39m\u001B[38;5;124m\"\u001B[39m]:\n\u001B[0;32m--> 194\u001B[0m             G\u001B[38;5;241m.\u001B[39madd_edge(\u001B[38;5;28mtuple\u001B[39m([\u001B[38;5;241m1\u001B[39m,j]),\u001B[38;5;28mtuple\u001B[39m([\u001B[38;5;241m2\u001B[39m,k]),weight\u001B[38;5;241m=\u001B[39m\u001B[43mget_cost\u001B[49m\u001B[43m(\u001B[49m\u001B[43mG1\u001B[49m\u001B[43m,\u001B[49m\u001B[43mG2\u001B[49m\u001B[43m,\u001B[49m\u001B[43mj\u001B[49m\u001B[43m,\u001B[49m\u001B[43mk\u001B[49m\u001B[43m)\u001B[49m)\n\u001B[1;32m    195\u001B[0m \u001B[38;5;66;03m#Add nodes if one graph has more nodes of type i than the other\u001B[39;00m\n\u001B[1;32m    196\u001B[0m \u001B[38;5;28;01mif\u001B[39;00m \u001B[38;5;28mlen\u001B[39m(nodes1)\u001B[38;5;241m<\u001B[39m\u001B[38;5;28mlen\u001B[39m(nodes2):\n",
      "File \u001B[0;32m~/UTILS/anaconda3/envs/massspecgym/lib/python3.11/site-packages/myopic_mces/filter_MCES.py:109\u001B[0m, in \u001B[0;36mget_cost\u001B[0;34m(G1, G2, i, j)\u001B[0m\n\u001B[1;32m    107\u001B[0m atom_types2\u001B[38;5;241m=\u001B[39m[]\n\u001B[1;32m    108\u001B[0m \u001B[38;5;28;01mfor\u001B[39;00m k \u001B[38;5;129;01min\u001B[39;00m G2\u001B[38;5;241m.\u001B[39mneighbors(j):\n\u001B[0;32m--> 109\u001B[0m     \u001B[38;5;28;01mif\u001B[39;00m \u001B[43mG2\u001B[49m\u001B[38;5;241;43m.\u001B[39;49m\u001B[43mnodes\u001B[49m\u001B[43m[\u001B[49m\u001B[43mk\u001B[49m\u001B[43m]\u001B[49m[\u001B[38;5;124m\"\u001B[39m\u001B[38;5;124matom\u001B[39m\u001B[38;5;124m\"\u001B[39m] \u001B[38;5;129;01mnot\u001B[39;00m \u001B[38;5;129;01min\u001B[39;00m atom_types2:\n\u001B[1;32m    110\u001B[0m         atom_types2\u001B[38;5;241m.\u001B[39mappend(G2\u001B[38;5;241m.\u001B[39mnodes[k][\u001B[38;5;124m\"\u001B[39m\u001B[38;5;124matom\u001B[39m\u001B[38;5;124m\"\u001B[39m])\n\u001B[1;32m    111\u001B[0m type_map2\u001B[38;5;241m=\u001B[39m{}\n",
      "File \u001B[0;32m~/UTILS/anaconda3/envs/massspecgym/lib/python3.11/site-packages/networkx/classes/reportviews.py:188\u001B[0m, in \u001B[0;36mNodeView.__getitem__\u001B[0;34m(self, n)\u001B[0m\n\u001B[1;32m    185\u001B[0m \u001B[38;5;28;01mdef\u001B[39;00m \u001B[38;5;21m__iter__\u001B[39m(\u001B[38;5;28mself\u001B[39m):\n\u001B[1;32m    186\u001B[0m     \u001B[38;5;28;01mreturn\u001B[39;00m \u001B[38;5;28miter\u001B[39m(\u001B[38;5;28mself\u001B[39m\u001B[38;5;241m.\u001B[39m_nodes)\n\u001B[0;32m--> 188\u001B[0m \u001B[38;5;28;01mdef\u001B[39;00m \u001B[38;5;21m__getitem__\u001B[39m(\u001B[38;5;28mself\u001B[39m, n):\n\u001B[1;32m    189\u001B[0m     \u001B[38;5;28;01mif\u001B[39;00m \u001B[38;5;28misinstance\u001B[39m(n, \u001B[38;5;28mslice\u001B[39m):\n\u001B[1;32m    190\u001B[0m         \u001B[38;5;28;01mraise\u001B[39;00m nx\u001B[38;5;241m.\u001B[39mNetworkXError(\n\u001B[1;32m    191\u001B[0m             \u001B[38;5;124mf\u001B[39m\u001B[38;5;124m\"\u001B[39m\u001B[38;5;132;01m{\u001B[39;00m\u001B[38;5;28mtype\u001B[39m(\u001B[38;5;28mself\u001B[39m)\u001B[38;5;241m.\u001B[39m\u001B[38;5;18m__name__\u001B[39m\u001B[38;5;132;01m}\u001B[39;00m\u001B[38;5;124m does not support slicing, \u001B[39m\u001B[38;5;124m\"\u001B[39m\n\u001B[1;32m    192\u001B[0m             \u001B[38;5;124mf\u001B[39m\u001B[38;5;124m\"\u001B[39m\u001B[38;5;124mtry list(G.nodes)[\u001B[39m\u001B[38;5;132;01m{\u001B[39;00mn\u001B[38;5;241m.\u001B[39mstart\u001B[38;5;132;01m}\u001B[39;00m\u001B[38;5;124m:\u001B[39m\u001B[38;5;132;01m{\u001B[39;00mn\u001B[38;5;241m.\u001B[39mstop\u001B[38;5;132;01m}\u001B[39;00m\u001B[38;5;124m:\u001B[39m\u001B[38;5;132;01m{\u001B[39;00mn\u001B[38;5;241m.\u001B[39mstep\u001B[38;5;132;01m}\u001B[39;00m\u001B[38;5;124m]\u001B[39m\u001B[38;5;124m\"\u001B[39m\n\u001B[1;32m    193\u001B[0m         )\n",
      "\u001B[0;31mKeyboardInterrupt\u001B[0m: "
     ]
    }
   ],
   "execution_count": 14
  },
  {
   "metadata": {},
   "cell_type": "code",
   "outputs": [],
   "execution_count": null,
   "source": [
    "# hdf5_file['mces'][:] = dists\n",
    "# hdf5_file.flush()\n",
    "# hdf5_file.close()\n",
    "# \n",
    "# print(\"MCES distance computation completed and saved.\")"
   ],
   "id": "384122f4ed732dcb"
  },
  {
   "metadata": {
    "ExecuteTime": {
     "end_time": "2024-09-16T05:25:57.547144Z",
     "start_time": "2024-09-16T05:25:57.542894Z"
    }
   },
   "cell_type": "code",
   "source": "pulp.listSolvers(onlyAvailable=True)",
   "id": "828bde3b17b03c6f",
   "outputs": [
    {
     "data": {
      "text/plain": [
       "['CPLEX_CMD', 'PULP_CBC_CMD']"
      ]
     },
     "execution_count": 9,
     "metadata": {},
     "output_type": "execute_result"
    }
   ],
   "execution_count": 9
  },
  {
   "metadata": {},
   "cell_type": "markdown",
   "source": "# h5py",
   "id": "2abb984b22438a5"
  },
  {
   "metadata": {
    "ExecuteTime": {
     "end_time": "2024-09-15T13:24:22.525139Z",
     "start_time": "2024-09-15T13:24:20.176271Z"
    }
   },
   "cell_type": "code",
   "source": "df = pd.read_csv('/Users/macbook/CODE/MS/data/MSn/MSn/MassSpecGym.tsv', sep='\\t')",
   "id": "74c28a10d0b1d093",
   "outputs": [],
   "execution_count": 9
  },
  {
   "metadata": {
    "ExecuteTime": {
     "end_time": "2024-09-15T13:24:29.289343Z",
     "start_time": "2024-09-15T13:24:29.286540Z"
    }
   },
   "cell_type": "code",
   "source": "len(df)",
   "id": "481067584d417dc2",
   "outputs": [
    {
     "data": {
      "text/plain": [
       "231104"
      ]
     },
     "execution_count": 10,
     "metadata": {},
     "output_type": "execute_result"
    }
   ],
   "execution_count": 10
  },
  {
   "metadata": {
    "ExecuteTime": {
     "end_time": "2024-09-15T13:25:26.397089Z",
     "start_time": "2024-09-15T13:25:19.920814Z"
    }
   },
   "cell_type": "code",
   "source": [
    "f = h5py.File('/Users/macbook/CODE/MS/data/MSn/MSn/all_smiles_mces.hdf5', 'r')\n",
    "print(list(f.keys()))\n",
    "dists = squareform(f['mces'])\n",
    "dists_smiles = f['mces_smiles_order'][:].astype(str).tolist()\n",
    "dists.shape, len(dists_smiles)\n"
   ],
   "id": "d35614df6dcb2e2",
   "outputs": [
    {
     "name": "stdout",
     "output_type": "stream",
     "text": [
      "['mces', 'mces_smiles_order']\n"
     ]
    },
    {
     "data": {
      "text/plain": [
       "((34731, 34731), 34731)"
      ]
     },
     "execution_count": 11,
     "metadata": {},
     "output_type": "execute_result"
    }
   ],
   "execution_count": 11
  },
  {
   "metadata": {
    "ExecuteTime": {
     "end_time": "2024-09-15T13:26:26.607803Z",
     "start_time": "2024-09-15T13:26:26.604914Z"
    }
   },
   "cell_type": "code",
   "source": "len(dists_smiles)",
   "id": "9977ed540a5b751b",
   "outputs": [
    {
     "data": {
      "text/plain": [
       "34731"
      ]
     },
     "execution_count": 13,
     "metadata": {},
     "output_type": "execute_result"
    }
   ],
   "execution_count": 13
  },
  {
   "metadata": {
    "ExecuteTime": {
     "end_time": "2024-09-15T13:26:39.022082Z",
     "start_time": "2024-09-15T13:26:36.115625Z"
    }
   },
   "cell_type": "code",
   "source": [
    "for s in df['smiles'].unique():\n",
    "    assert s in dists_smiles"
   ],
   "id": "829a6bd88ac435cc",
   "outputs": [],
   "execution_count": 14
  },
  {
   "metadata": {
    "ExecuteTime": {
     "end_time": "2024-09-15T13:28:48.372762Z",
     "start_time": "2024-09-15T13:28:48.295686Z"
    }
   },
   "cell_type": "code",
   "source": [
    "common_smiles = set(unique_smiles) & set(dists_smiles)\n",
    "\n",
    "# Count how many unique_smiles are in dists_smiles\n",
    "count = len(common_smiles)\n",
    "\n",
    "print(f\"Number of unique_smiles in dists_smiles: {count}\")"
   ],
   "id": "2b6e84c31737d7e3",
   "outputs": [
    {
     "name": "stdout",
     "output_type": "stream",
     "text": [
      "Number of unique_smiles in dists_smiles: 62\n"
     ]
    }
   ],
   "execution_count": 16
  },
  {
   "metadata": {},
   "cell_type": "code",
   "outputs": [],
   "execution_count": null,
   "source": "",
   "id": "568c9ab7bfa47e03"
  },
  {
   "metadata": {},
   "cell_type": "code",
   "outputs": [],
   "execution_count": null,
   "source": "",
   "id": "e2e1a653ebab515a"
  },
  {
   "metadata": {
    "ExecuteTime": {
     "end_time": "2024-09-16T05:26:37.239816Z",
     "start_time": "2024-09-16T05:26:37.233494Z"
    }
   },
   "cell_type": "code",
   "source": [
    "# Create computation indices for MCES (all pairs, excluding self-comparisons)\n",
    "computation_indices = []\n",
    "for i in range(len(unique_smiles)):\n",
    "    for j in range(i + 1, len(unique_smiles)):\n",
    "        computation_indices.append([len(computation_indices), i, j])\n",
    "\n",
    "# Save the input HDF5 file\n",
    "with h5py.File('/Users/macbook/CODE/MS/data/MSn/MSn/mces_input_small.hdf5', 'w') as f:\n",
    "    f.create_dataset('smiles', data=np.array(unique_smiles, dtype='S'))\n",
    "    f.create_dataset('computation_indices', data=np.array(computation_indices, dtype='i'))"
   ],
   "id": "5f8e0eecce971c1",
   "outputs": [],
   "execution_count": 10
  },
  {
   "metadata": {},
   "cell_type": "markdown",
   "source": [
    "After running a script:\n",
    "\n",
    "python -m myopic_mces.myopic_mces \\\n",
    "    --threshold 15 \\\n",
    "    --solver CPLEX_CMD \\\n",
    "    --solver_no_msg \\\n",
    "    --solver_onethreaded \\\n",
    "    --choose_bound_dynamically \\\n",
    "    --num_jobs 8 \\\n",
    "    --hide_rdkit_warnings \\\n",
    "    --catch_computation_errors \\\n",
    "    --hdf5_mode \\\n",
    "    /Users/macbook/CODE/MS/data/MSn/MSn/mces_input_small.hdf5 \\\n",
    "    /Users/macbook/CODE/MS/data/MSn/MSn/mces_output_small.hdf5\n"
   ],
   "id": "4973612509b3da3f"
  },
  {
   "metadata": {
    "ExecuteTime": {
     "end_time": "2024-09-16T06:00:19.913778Z",
     "start_time": "2024-09-16T06:00:19.909563Z"
    }
   },
   "cell_type": "code",
   "source": [
    "# There should be all smiles not only unique\n",
    "df = pd.read_csv('/Users/macbook/CODE/MS/data/MSn/MSn/unique_smiles_small.csv', sep='\\t')\n",
    "len(df)"
   ],
   "id": "e1d8940dc088ac98",
   "outputs": [
    {
     "data": {
      "text/plain": [
       "100"
      ]
     },
     "execution_count": 43,
     "metadata": {},
     "output_type": "execute_result"
    }
   ],
   "execution_count": 43
  },
  {
   "metadata": {
    "ExecuteTime": {
     "end_time": "2024-09-16T06:00:26.883455Z",
     "start_time": "2024-09-16T06:00:26.878646Z"
    }
   },
   "cell_type": "code",
   "source": [
    "f = h5py.File('/Users/macbook/CODE/MS/data/MSn/MSn/mces_input_small.hdf5', 'r')\n",
    "print(list(f.keys()))\n",
    "dists = squareform(f['mces'])\n",
    "dists_smiles = f['smiles'][:].astype(str).tolist()\n",
    "dists.shape, len(dists_smiles)"
   ],
   "id": "4918cc2f9bcfcae8",
   "outputs": [
    {
     "name": "stdout",
     "output_type": "stream",
     "text": [
      "['computation_args', 'computation_indices', 'computation_modes', 'computation_times', 'mces', 'smiles']\n"
     ]
    },
    {
     "data": {
      "text/plain": [
       "((100, 100), 100)"
      ]
     },
     "execution_count": 44,
     "metadata": {},
     "output_type": "execute_result"
    }
   ],
   "execution_count": 44
  },
  {
   "metadata": {
    "ExecuteTime": {
     "end_time": "2024-09-16T06:00:28.640190Z",
     "start_time": "2024-09-16T06:00:28.637557Z"
    }
   },
   "cell_type": "code",
   "source": [
    "for s in df['smiles'].unique():\n",
    "    assert s in dists_smiles"
   ],
   "id": "e9f2759c3acfd98a",
   "outputs": [],
   "execution_count": 45
  },
  {
   "metadata": {
    "ExecuteTime": {
     "end_time": "2024-09-16T06:00:29.889623Z",
     "start_time": "2024-09-16T06:00:29.885032Z"
    }
   },
   "cell_type": "code",
   "source": [
    "unique_smiles = df['smiles'].unique()\n",
    "smiles_mask = np.array([s in unique_smiles for s in dists_smiles])\n",
    "print(smiles_mask.shape[0], smiles_mask.sum(), len(unique_smiles))\n",
    "\n",
    "dists = dists[smiles_mask, :][:, smiles_mask]\n",
    "dists_smiles = np.array(dists_smiles)[smiles_mask]\n",
    "\n",
    "from scipy.linalg import issymmetric\n",
    "assert issymmetric(dists)\n",
    "\n",
    "len(dists_smiles), dists.shape"
   ],
   "id": "35e31c591b161fd5",
   "outputs": [
    {
     "name": "stdout",
     "output_type": "stream",
     "text": [
      "100 100 100\n"
     ]
    },
    {
     "data": {
      "text/plain": [
       "(100, (100, 100))"
      ]
     },
     "execution_count": 46,
     "metadata": {},
     "output_type": "execute_result"
    }
   ],
   "execution_count": 46
  },
  {
   "metadata": {},
   "cell_type": "markdown",
   "source": "## Perform agglomerative clustering using MCES distances",
   "id": "180314d6e8ba6572"
  },
  {
   "metadata": {
    "ExecuteTime": {
     "end_time": "2024-09-16T06:00:32.545166Z",
     "start_time": "2024-09-16T06:00:32.540806Z"
    }
   },
   "cell_type": "code",
   "source": [
    "clustering = AgglomerativeClustering(\n",
    "    metric='precomputed',\n",
    "    linkage='single',\n",
    "    distance_threshold=10,\n",
    "    n_clusters=None\n",
    ").fit(dists)\n",
    "clusters = clustering.labels_\n",
    "pd.Series(clusters).value_counts()"
   ],
   "id": "69d03ee8fb33e979",
   "outputs": [
    {
     "data": {
      "text/plain": [
       "90    1\n",
       "33    1\n",
       "42    1\n",
       "38    1\n",
       "29    1\n",
       "     ..\n",
       "72    1\n",
       "74    1\n",
       "71    1\n",
       "98    1\n",
       "0     1\n",
       "Name: count, Length: 100, dtype: int64"
      ]
     },
     "execution_count": 47,
     "metadata": {},
     "output_type": "execute_result"
    }
   ],
   "execution_count": 47
  },
  {
   "metadata": {
    "ExecuteTime": {
     "end_time": "2024-09-16T06:00:35.221071Z",
     "start_time": "2024-09-16T06:00:35.216608Z"
    }
   },
   "cell_type": "code",
   "source": [
    "img = utils.show_mols(\n",
    "    dists_smiles[np.where(clusters == 11)[0]].tolist(),\n",
    "    smiles_in=True, legends=[], mols_per_row=6, svg=True,\n",
    "    save_pth='cluster_example.svg'\n",
    ")\n",
    "img"
   ],
   "id": "97bd47fc60f2b075",
   "outputs": [
    {
     "data": {
      "text/plain": [
       "<IPython.core.display.SVG object>"
      ],
      "image/svg+xml": "<svg xmlns=\"http://www.w3.org/2000/svg\" xmlns:rdkit=\"http://www.rdkit.org/xml\" xmlns:xlink=\"http://www.w3.org/1999/xlink\" version=\"1.1\" baseProfile=\"full\" xml:space=\"preserve\" width=\"1200px\" height=\"200px\" viewBox=\"0 0 1200 200\">\n<!-- END OF HEADER -->\n<rect style=\"opacity:1.0;fill:#FFFFFF;stroke:none\" width=\"1200.0\" height=\"200.0\" x=\"0.0\" y=\"0.0\"> </rect>\n<path class=\"bond-0 atom-0 atom-1\" d=\"M 160.3,103.1 L 143.7,96.4\" style=\"fill:none;fill-rule:evenodd;stroke:#0000FF;stroke-width:2.0px;stroke-linecap:butt;stroke-linejoin:miter;stroke-opacity:1\"/>\n<path class=\"bond-0 atom-0 atom-1\" d=\"M 143.7,96.4 L 127.0,89.7\" style=\"fill:none;fill-rule:evenodd;stroke:#000000;stroke-width:2.0px;stroke-linecap:butt;stroke-linejoin:miter;stroke-opacity:1\"/>\n<path class=\"bond-1 atom-1 atom-2\" d=\"M 127.0,89.7 L 93.8,115.7\" style=\"fill:none;fill-rule:evenodd;stroke:#000000;stroke-width:2.0px;stroke-linecap:butt;stroke-linejoin:miter;stroke-opacity:1\"/>\n<path class=\"bond-2 atom-2 atom-3\" d=\"M 93.8,115.7 L 76.8,108.8\" style=\"fill:none;fill-rule:evenodd;stroke:#000000;stroke-width:2.0px;stroke-linecap:butt;stroke-linejoin:miter;stroke-opacity:1\"/>\n<path class=\"bond-2 atom-2 atom-3\" d=\"M 76.8,108.8 L 59.9,102.0\" style=\"fill:none;fill-rule:evenodd;stroke:#FF7F00;stroke-width:2.0px;stroke-linecap:butt;stroke-linejoin:miter;stroke-opacity:1\"/>\n<path class=\"bond-3 atom-3 atom-4\" d=\"M 50.6,94.9 L 37.1,89.4\" style=\"fill:none;fill-rule:evenodd;stroke:#FF7F00;stroke-width:2.0px;stroke-linecap:butt;stroke-linejoin:miter;stroke-opacity:1\"/>\n<path class=\"bond-3 atom-3 atom-4\" d=\"M 37.1,89.4 L 23.6,84.0\" style=\"fill:none;fill-rule:evenodd;stroke:#FF0000;stroke-width:2.0px;stroke-linecap:butt;stroke-linejoin:miter;stroke-opacity:1\"/>\n<path class=\"bond-3 atom-3 atom-4\" d=\"M 48.2,100.7 L 34.7,95.3\" style=\"fill:none;fill-rule:evenodd;stroke:#FF7F00;stroke-width:2.0px;stroke-linecap:butt;stroke-linejoin:miter;stroke-opacity:1\"/>\n<path class=\"bond-3 atom-3 atom-4\" d=\"M 34.7,95.3 L 21.2,89.8\" style=\"fill:none;fill-rule:evenodd;stroke:#FF0000;stroke-width:2.0px;stroke-linecap:butt;stroke-linejoin:miter;stroke-opacity:1\"/>\n<path class=\"bond-4 atom-3 atom-5\" d=\"M 51.7,107.3 L 46.8,119.5\" style=\"fill:none;fill-rule:evenodd;stroke:#FF7F00;stroke-width:2.0px;stroke-linecap:butt;stroke-linejoin:miter;stroke-opacity:1\"/>\n<path class=\"bond-4 atom-3 atom-5\" d=\"M 46.8,119.5 L 41.9,131.6\" style=\"fill:none;fill-rule:evenodd;stroke:#FF0000;stroke-width:2.0px;stroke-linecap:butt;stroke-linejoin:miter;stroke-opacity:1\"/>\n<path class=\"bond-5 atom-3 atom-6\" d=\"M 57.6,92.5 L 62.5,80.5\" style=\"fill:none;fill-rule:evenodd;stroke:#FF7F00;stroke-width:2.0px;stroke-linecap:butt;stroke-linejoin:miter;stroke-opacity:1\"/>\n<path class=\"bond-5 atom-3 atom-6\" d=\"M 62.5,80.5 L 67.3,68.4\" style=\"fill:none;fill-rule:evenodd;stroke:#FF0000;stroke-width:2.0px;stroke-linecap:butt;stroke-linejoin:miter;stroke-opacity:1\"/>\n<path d=\"M 127.9,90.0 L 127.0,89.7 L 125.4,91.0\" style=\"fill:none;stroke:#000000;stroke-width:2.0px;stroke-linecap:butt;stroke-linejoin:miter;stroke-opacity:1;\"/>\n<path d=\"M 95.5,114.4 L 93.8,115.7 L 92.9,115.3\" style=\"fill:none;stroke:#000000;stroke-width:2.0px;stroke-linecap:butt;stroke-linejoin:miter;stroke-opacity:1;\"/>\n<path class=\"atom-0\" d=\"M 163.6 99.5 L 167.5 105.8 Q 167.9 106.4, 168.5 107.6 Q 169.1 108.7, 169.1 108.8 L 169.1 99.5 L 170.7 99.5 L 170.7 111.4 L 169.1 111.4 L 164.9 104.5 Q 164.4 103.7, 163.9 102.8 Q 163.4 101.8, 163.2 101.5 L 163.2 111.4 L 161.7 111.4 L 161.7 99.5 L 163.6 99.5 \" fill=\"#0000FF\"/>\n<path class=\"atom-0\" d=\"M 173.0 99.5 L 174.6 99.5 L 174.6 104.6 L 180.7 104.6 L 180.7 99.5 L 182.4 99.5 L 182.4 111.4 L 180.7 111.4 L 180.7 105.9 L 174.6 105.9 L 174.6 111.4 L 173.0 111.4 L 173.0 99.5 \" fill=\"#0000FF\"/>\n<path class=\"atom-0\" d=\"M 184.7 111.0 Q 185.0 110.3, 185.7 109.8 Q 186.4 109.4, 187.3 109.4 Q 188.5 109.4, 189.2 110.1 Q 189.9 110.7, 189.9 111.9 Q 189.9 113.0, 189.0 114.1 Q 188.1 115.2, 186.4 116.5 L 190.0 116.5 L 190.0 117.4 L 184.7 117.4 L 184.7 116.7 Q 186.2 115.6, 187.0 114.8 Q 187.9 114.0, 188.3 113.3 Q 188.8 112.6, 188.8 111.9 Q 188.8 111.2, 188.4 110.7 Q 188.0 110.3, 187.3 110.3 Q 186.7 110.3, 186.3 110.6 Q 185.9 110.8, 185.6 111.4 L 184.7 111.0 \" fill=\"#0000FF\"/>\n<path class=\"atom-3\" d=\"M 54.4 93.9 Q 56.4 93.9, 57.4 94.9 Q 58.5 95.8, 58.5 97.4 Q 58.5 99.1, 57.4 100.0 Q 56.3 101.0, 54.4 101.0 L 52.4 101.0 L 52.4 105.9 L 50.8 105.9 L 50.8 93.9 L 54.4 93.9 M 54.4 99.6 Q 55.5 99.6, 56.1 99.1 Q 56.8 98.5, 56.8 97.4 Q 56.8 96.4, 56.1 95.8 Q 55.5 95.3, 54.4 95.3 L 52.4 95.3 L 52.4 99.6 L 54.4 99.6 \" fill=\"#FF7F00\"/>\n<path class=\"atom-4\" d=\"M 10.0 84.2 Q 10.0 81.3, 11.4 79.7 Q 12.8 78.1, 15.5 78.1 Q 18.1 78.1, 19.6 79.7 Q 21.0 81.3, 21.0 84.2 Q 21.0 87.1, 19.5 88.7 Q 18.1 90.4, 15.5 90.4 Q 12.9 90.4, 11.4 88.7 Q 10.0 87.1, 10.0 84.2 M 15.5 89.0 Q 17.3 89.0, 18.3 87.8 Q 19.3 86.6, 19.3 84.2 Q 19.3 81.8, 18.3 80.6 Q 17.3 79.4, 15.5 79.4 Q 13.7 79.4, 12.7 80.6 Q 11.7 81.8, 11.7 84.2 Q 11.7 86.6, 12.7 87.8 Q 13.7 89.0, 15.5 89.0 \" fill=\"#FF0000\"/>\n<path class=\"atom-5\" d=\"M 21.6 133.2 L 23.2 133.2 L 23.2 138.2 L 29.3 138.2 L 29.3 133.2 L 30.9 133.2 L 30.9 145.1 L 29.3 145.1 L 29.3 139.6 L 23.2 139.6 L 23.2 145.1 L 21.6 145.1 L 21.6 133.2 \" fill=\"#FF0000\"/>\n<path class=\"atom-5\" d=\"M 33.4 139.1 Q 33.4 136.2, 34.8 134.6 Q 36.2 133.0, 38.9 133.0 Q 41.5 133.0, 42.9 134.6 Q 44.4 136.2, 44.4 139.1 Q 44.4 142.0, 42.9 143.7 Q 41.5 145.3, 38.9 145.3 Q 36.2 145.3, 34.8 143.7 Q 33.4 142.0, 33.4 139.1 M 38.9 143.9 Q 40.7 143.9, 41.7 142.7 Q 42.7 141.5, 42.7 139.1 Q 42.7 136.7, 41.7 135.6 Q 40.7 134.4, 38.9 134.4 Q 37.0 134.4, 36.0 135.5 Q 35.1 136.7, 35.1 139.1 Q 35.1 141.5, 36.0 142.7 Q 37.0 143.9, 38.9 143.9 \" fill=\"#FF0000\"/>\n<path class=\"atom-6\" d=\"M 64.9 60.8 Q 64.9 57.9, 66.4 56.3 Q 67.8 54.7, 70.4 54.7 Q 73.1 54.7, 74.5 56.3 Q 75.9 57.9, 75.9 60.8 Q 75.9 63.7, 74.5 65.3 Q 73.0 67.0, 70.4 67.0 Q 67.8 67.0, 66.4 65.3 Q 64.9 63.7, 64.9 60.8 M 70.4 65.6 Q 72.2 65.6, 73.2 64.4 Q 74.2 63.2, 74.2 60.8 Q 74.2 58.4, 73.2 57.3 Q 72.2 56.1, 70.4 56.1 Q 68.6 56.1, 67.6 57.2 Q 66.6 58.4, 66.6 60.8 Q 66.6 63.2, 67.6 64.4 Q 68.6 65.6, 70.4 65.6 \" fill=\"#FF0000\"/>\n<path class=\"atom-6\" d=\"M 77.8 54.8 L 79.4 54.8 L 79.4 59.9 L 85.5 59.9 L 85.5 54.8 L 87.1 54.8 L 87.1 66.8 L 85.5 66.8 L 85.5 61.3 L 79.4 61.3 L 79.4 66.8 L 77.8 66.8 L 77.8 54.8 \" fill=\"#FF0000\"/>\n</svg>"
     },
     "execution_count": 48,
     "metadata": {},
     "output_type": "execute_result"
    }
   ],
   "execution_count": 48
  },
  {
   "metadata": {},
   "cell_type": "markdown",
   "source": "## Define train-validation-test split",
   "id": "715e7b04e126e8f9"
  },
  {
   "metadata": {},
   "cell_type": "markdown",
   "source": "### Compute metadata stratification groups",
   "id": "6e31ec10fd658073"
  },
  {
   "metadata": {},
   "cell_type": "markdown",
   "source": "# TO DO notebook 5_split",
   "id": "cacf0b8be24c77cc"
  },
  {
   "metadata": {
    "ExecuteTime": {
     "end_time": "2024-09-16T06:00:48.288955Z",
     "start_time": "2024-09-16T06:00:48.281774Z"
    }
   },
   "cell_type": "code",
   "source": [
    "smiles_to_cluster = dict(zip(dists_smiles, clusters))\n",
    "df['cluster'] = df['smiles'].map(smiles_to_cluster)\n",
    "\n",
    "# top_k_ces = df['collision_energy'].value_counts().index[:5]\n",
    "smiles_vc = df['smiles'].value_counts()\n",
    "\n",
    "# def simple_ce(ce):\n",
    "#     if pd.isnull(ce):\n",
    "#         return 'none'\n",
    "#     if ce in top_k_ces:\n",
    "#         return str(ce)\n",
    "#     return 'other'\n",
    "\n",
    "def simple_smiles_count(smiles):\n",
    "    c = smiles_vc[smiles]\n",
    "    if c < 3:\n",
    "        return '(0, 3)'\n",
    "    elif c <= 5:\n",
    "        return '(3, 5]'\n",
    "    elif c > 100:\n",
    "        return '(100, inf)'\n",
    "    return '(5, 100]'\n",
    "\n",
    "def stratification_group(row):\n",
    "    return str(simple_smiles_count(row['smiles']))\n",
    "\n",
    "# def stratification_group(row):\n",
    "#     return str(row['adduct']) + \\\n",
    "#         str(row['instrument_type']) + \\\n",
    "#         str(simple_ce(row['collision_energy'])) + \\\n",
    "#         str(simple_smiles_count(row['smiles']))\n",
    "\n",
    "df['stratification_group'] = df.apply(stratification_group, axis=1)\n",
    "df['stratification_group'].value_counts()"
   ],
   "id": "963d3553f4add643",
   "outputs": [
    {
     "data": {
      "text/plain": [
       "stratification_group\n",
       "(0, 3)    100\n",
       "Name: count, dtype: int64"
      ]
     },
     "execution_count": 50,
     "metadata": {},
     "output_type": "execute_result"
    }
   ],
   "execution_count": 50
  },
  {
   "metadata": {
    "ExecuteTime": {
     "end_time": "2024-09-16T06:00:54.495439Z",
     "start_time": "2024-09-16T06:00:54.491274Z"
    }
   },
   "cell_type": "code",
   "source": "df",
   "id": "4fe1ff812a66d500",
   "outputs": [
    {
     "data": {
      "text/plain": [
       "                                               smiles  cluster  \\\n",
       "0   CCc1cc(=O)oc2c1ccc(OCC(=O)N[C@@H](Cc1c[nH]c3cc...       90   \n",
       "1                     CN(C)CCN(Cc1ccc(Cl)cc1)c1ccccn1       81   \n",
       "2           CCn1nnc2c1ncnc2N1CCN(C(=O)c2ccc(Br)o2)CC1       79   \n",
       "3   CC(C)Oc1ccc(CNC(=O)c2cc3c(cc2)Oc2ccccc2C(=O)N3...       61   \n",
       "4   COc1c(CC=C(C)C)c(OC)c2C[C@H](c3c(O)c(CC=C(C)C)...       88   \n",
       "..                                                ...      ...   \n",
       "95               CC(C)NC[C@H](O)COc1ccc(CCOCC2CC2)cc1        5   \n",
       "96         CC1CCCCN1C(=O)c1ccc(S(=O)(=O)N2CCCCC2C)cc1        2   \n",
       "97  CCOc1c2cccnc2c(OCC)c2c1C(=O)N(c1c(C)cc(CS(=O)(...        4   \n",
       "98  C[C@H]1O[C@@H](O[C@H]2CC[C@@]3(C)[C@@H](CC[C@]...        1   \n",
       "99  Cc1c(C)c2c(nc(C)n(NC(=O)c3ccc(COCC(F)(F)F)cc3)...        0   \n",
       "\n",
       "   stratification_group  \n",
       "0                (0, 3)  \n",
       "1                (0, 3)  \n",
       "2                (0, 3)  \n",
       "3                (0, 3)  \n",
       "4                (0, 3)  \n",
       "..                  ...  \n",
       "95               (0, 3)  \n",
       "96               (0, 3)  \n",
       "97               (0, 3)  \n",
       "98               (0, 3)  \n",
       "99               (0, 3)  \n",
       "\n",
       "[100 rows x 3 columns]"
      ],
      "text/html": [
       "<div>\n",
       "<style scoped>\n",
       "    .dataframe tbody tr th:only-of-type {\n",
       "        vertical-align: middle;\n",
       "    }\n",
       "\n",
       "    .dataframe tbody tr th {\n",
       "        vertical-align: top;\n",
       "    }\n",
       "\n",
       "    .dataframe thead th {\n",
       "        text-align: right;\n",
       "    }\n",
       "</style>\n",
       "<table border=\"1\" class=\"dataframe\">\n",
       "  <thead>\n",
       "    <tr style=\"text-align: right;\">\n",
       "      <th></th>\n",
       "      <th>smiles</th>\n",
       "      <th>cluster</th>\n",
       "      <th>stratification_group</th>\n",
       "    </tr>\n",
       "  </thead>\n",
       "  <tbody>\n",
       "    <tr>\n",
       "      <th>0</th>\n",
       "      <td>CCc1cc(=O)oc2c1ccc(OCC(=O)N[C@@H](Cc1c[nH]c3cc...</td>\n",
       "      <td>90</td>\n",
       "      <td>(0, 3)</td>\n",
       "    </tr>\n",
       "    <tr>\n",
       "      <th>1</th>\n",
       "      <td>CN(C)CCN(Cc1ccc(Cl)cc1)c1ccccn1</td>\n",
       "      <td>81</td>\n",
       "      <td>(0, 3)</td>\n",
       "    </tr>\n",
       "    <tr>\n",
       "      <th>2</th>\n",
       "      <td>CCn1nnc2c1ncnc2N1CCN(C(=O)c2ccc(Br)o2)CC1</td>\n",
       "      <td>79</td>\n",
       "      <td>(0, 3)</td>\n",
       "    </tr>\n",
       "    <tr>\n",
       "      <th>3</th>\n",
       "      <td>CC(C)Oc1ccc(CNC(=O)c2cc3c(cc2)Oc2ccccc2C(=O)N3...</td>\n",
       "      <td>61</td>\n",
       "      <td>(0, 3)</td>\n",
       "    </tr>\n",
       "    <tr>\n",
       "      <th>4</th>\n",
       "      <td>COc1c(CC=C(C)C)c(OC)c2C[C@H](c3c(O)c(CC=C(C)C)...</td>\n",
       "      <td>88</td>\n",
       "      <td>(0, 3)</td>\n",
       "    </tr>\n",
       "    <tr>\n",
       "      <th>...</th>\n",
       "      <td>...</td>\n",
       "      <td>...</td>\n",
       "      <td>...</td>\n",
       "    </tr>\n",
       "    <tr>\n",
       "      <th>95</th>\n",
       "      <td>CC(C)NC[C@H](O)COc1ccc(CCOCC2CC2)cc1</td>\n",
       "      <td>5</td>\n",
       "      <td>(0, 3)</td>\n",
       "    </tr>\n",
       "    <tr>\n",
       "      <th>96</th>\n",
       "      <td>CC1CCCCN1C(=O)c1ccc(S(=O)(=O)N2CCCCC2C)cc1</td>\n",
       "      <td>2</td>\n",
       "      <td>(0, 3)</td>\n",
       "    </tr>\n",
       "    <tr>\n",
       "      <th>97</th>\n",
       "      <td>CCOc1c2cccnc2c(OCC)c2c1C(=O)N(c1c(C)cc(CS(=O)(...</td>\n",
       "      <td>4</td>\n",
       "      <td>(0, 3)</td>\n",
       "    </tr>\n",
       "    <tr>\n",
       "      <th>98</th>\n",
       "      <td>C[C@H]1O[C@@H](O[C@H]2CC[C@@]3(C)[C@@H](CC[C@]...</td>\n",
       "      <td>1</td>\n",
       "      <td>(0, 3)</td>\n",
       "    </tr>\n",
       "    <tr>\n",
       "      <th>99</th>\n",
       "      <td>Cc1c(C)c2c(nc(C)n(NC(=O)c3ccc(COCC(F)(F)F)cc3)...</td>\n",
       "      <td>0</td>\n",
       "      <td>(0, 3)</td>\n",
       "    </tr>\n",
       "  </tbody>\n",
       "</table>\n",
       "<p>100 rows × 3 columns</p>\n",
       "</div>"
      ]
     },
     "execution_count": 51,
     "metadata": {},
     "output_type": "execute_result"
    }
   ],
   "execution_count": 51
  },
  {
   "metadata": {
    "ExecuteTime": {
     "end_time": "2024-09-16T05:57:55.009082Z",
     "start_time": "2024-09-16T05:57:54.997948Z"
    }
   },
   "cell_type": "code",
   "source": [
    "# X = df['identifier'].values\n",
    "X = df['smiles'].values\n",
    "y = df['stratification_group'].values\n",
    "groups = df['cluster'].values\n",
    "sgkf = StratifiedGroupKFold(n_splits=3)\n",
    "sgkf_split = sgkf.split(X, y, groups)\n",
    "folds = []\n",
    "for i, (train_index, test_index) in enumerate(sgkf_split):\n",
    "    print(f'{len(test_index)} ({len(test_index) / len(X) * 100:.2f} %)')\n",
    "    folds.append(X[test_index])"
   ],
   "id": "ab39814764a71c73",
   "outputs": [
    {
     "name": "stdout",
     "output_type": "stream",
     "text": [
      "34 (34.00 %)\n",
      "33 (33.00 %)\n",
      "33 (33.00 %)\n"
     ]
    }
   ],
   "execution_count": 41
  },
  {
   "metadata": {
    "ExecuteTime": {
     "end_time": "2024-09-16T06:08:41.550912Z",
     "start_time": "2024-09-16T06:08:41.533061Z"
    }
   },
   "cell_type": "code",
   "source": [
    "folds_map = {}\n",
    "for i, fold in enumerate(folds):\n",
    "    for identifier in fold:\n",
    "        folds_map[identifier] = ['train', 'val', 'test'][i]\n",
    "df['fold'] = df['smiles'].map(folds_map)\n",
    "\n",
    "def fold_composition(df_q, percentage=True):\n",
    "    unique_counts = df_q.groupby(['fold']).agg({'smiles': 'nunique', 'cluster': 'nunique'})\n",
    "    if not percentage:\n",
    "        res = unique_counts\n",
    "    else:\n",
    "        total_counts = df_q.agg({'smiles': 'nunique', 'cluster': 'nunique'})\n",
    "        percentage_counts = (unique_counts / total_counts) * 100\n",
    "        res = percentage_counts.round(2)\n",
    "    return res[[ 'smiles', 'cluster']].loc[['train', 'val', 'test']]\n",
    "for percentage in [False, True]:\n",
    "    print(f'Full dataset (percentage={percentage})')\n",
    "    display(fold_composition(df, percentage=percentage))\n",
    "    print(f'All metadata available (percentage={percentage})')\n",
    "    display(fold_composition(df.dropna(), percentage=percentage))"
   ],
   "id": "b586ebee06baf933",
   "outputs": [
    {
     "name": "stdout",
     "output_type": "stream",
     "text": [
      "Full dataset (percentage=False)\n"
     ]
    },
    {
     "data": {
      "text/plain": [
       "       smiles  cluster\n",
       "fold                  \n",
       "train      34       34\n",
       "val        33       33\n",
       "test       33       33"
      ],
      "text/html": [
       "<div>\n",
       "<style scoped>\n",
       "    .dataframe tbody tr th:only-of-type {\n",
       "        vertical-align: middle;\n",
       "    }\n",
       "\n",
       "    .dataframe tbody tr th {\n",
       "        vertical-align: top;\n",
       "    }\n",
       "\n",
       "    .dataframe thead th {\n",
       "        text-align: right;\n",
       "    }\n",
       "</style>\n",
       "<table border=\"1\" class=\"dataframe\">\n",
       "  <thead>\n",
       "    <tr style=\"text-align: right;\">\n",
       "      <th></th>\n",
       "      <th>smiles</th>\n",
       "      <th>cluster</th>\n",
       "    </tr>\n",
       "    <tr>\n",
       "      <th>fold</th>\n",
       "      <th></th>\n",
       "      <th></th>\n",
       "    </tr>\n",
       "  </thead>\n",
       "  <tbody>\n",
       "    <tr>\n",
       "      <th>train</th>\n",
       "      <td>34</td>\n",
       "      <td>34</td>\n",
       "    </tr>\n",
       "    <tr>\n",
       "      <th>val</th>\n",
       "      <td>33</td>\n",
       "      <td>33</td>\n",
       "    </tr>\n",
       "    <tr>\n",
       "      <th>test</th>\n",
       "      <td>33</td>\n",
       "      <td>33</td>\n",
       "    </tr>\n",
       "  </tbody>\n",
       "</table>\n",
       "</div>"
      ]
     },
     "metadata": {},
     "output_type": "display_data"
    },
    {
     "name": "stdout",
     "output_type": "stream",
     "text": [
      "All metadata available (percentage=False)\n"
     ]
    },
    {
     "data": {
      "text/plain": [
       "       smiles  cluster\n",
       "fold                  \n",
       "train      34       34\n",
       "val        33       33\n",
       "test       33       33"
      ],
      "text/html": [
       "<div>\n",
       "<style scoped>\n",
       "    .dataframe tbody tr th:only-of-type {\n",
       "        vertical-align: middle;\n",
       "    }\n",
       "\n",
       "    .dataframe tbody tr th {\n",
       "        vertical-align: top;\n",
       "    }\n",
       "\n",
       "    .dataframe thead th {\n",
       "        text-align: right;\n",
       "    }\n",
       "</style>\n",
       "<table border=\"1\" class=\"dataframe\">\n",
       "  <thead>\n",
       "    <tr style=\"text-align: right;\">\n",
       "      <th></th>\n",
       "      <th>smiles</th>\n",
       "      <th>cluster</th>\n",
       "    </tr>\n",
       "    <tr>\n",
       "      <th>fold</th>\n",
       "      <th></th>\n",
       "      <th></th>\n",
       "    </tr>\n",
       "  </thead>\n",
       "  <tbody>\n",
       "    <tr>\n",
       "      <th>train</th>\n",
       "      <td>34</td>\n",
       "      <td>34</td>\n",
       "    </tr>\n",
       "    <tr>\n",
       "      <th>val</th>\n",
       "      <td>33</td>\n",
       "      <td>33</td>\n",
       "    </tr>\n",
       "    <tr>\n",
       "      <th>test</th>\n",
       "      <td>33</td>\n",
       "      <td>33</td>\n",
       "    </tr>\n",
       "  </tbody>\n",
       "</table>\n",
       "</div>"
      ]
     },
     "metadata": {},
     "output_type": "display_data"
    },
    {
     "name": "stdout",
     "output_type": "stream",
     "text": [
      "Full dataset (percentage=True)\n"
     ]
    },
    {
     "data": {
      "text/plain": [
       "       smiles  cluster\n",
       "fold                  \n",
       "train    34.0     34.0\n",
       "val      33.0     33.0\n",
       "test     33.0     33.0"
      ],
      "text/html": [
       "<div>\n",
       "<style scoped>\n",
       "    .dataframe tbody tr th:only-of-type {\n",
       "        vertical-align: middle;\n",
       "    }\n",
       "\n",
       "    .dataframe tbody tr th {\n",
       "        vertical-align: top;\n",
       "    }\n",
       "\n",
       "    .dataframe thead th {\n",
       "        text-align: right;\n",
       "    }\n",
       "</style>\n",
       "<table border=\"1\" class=\"dataframe\">\n",
       "  <thead>\n",
       "    <tr style=\"text-align: right;\">\n",
       "      <th></th>\n",
       "      <th>smiles</th>\n",
       "      <th>cluster</th>\n",
       "    </tr>\n",
       "    <tr>\n",
       "      <th>fold</th>\n",
       "      <th></th>\n",
       "      <th></th>\n",
       "    </tr>\n",
       "  </thead>\n",
       "  <tbody>\n",
       "    <tr>\n",
       "      <th>train</th>\n",
       "      <td>34.0</td>\n",
       "      <td>34.0</td>\n",
       "    </tr>\n",
       "    <tr>\n",
       "      <th>val</th>\n",
       "      <td>33.0</td>\n",
       "      <td>33.0</td>\n",
       "    </tr>\n",
       "    <tr>\n",
       "      <th>test</th>\n",
       "      <td>33.0</td>\n",
       "      <td>33.0</td>\n",
       "    </tr>\n",
       "  </tbody>\n",
       "</table>\n",
       "</div>"
      ]
     },
     "metadata": {},
     "output_type": "display_data"
    },
    {
     "name": "stdout",
     "output_type": "stream",
     "text": [
      "All metadata available (percentage=True)\n"
     ]
    },
    {
     "data": {
      "text/plain": [
       "       smiles  cluster\n",
       "fold                  \n",
       "train    34.0     34.0\n",
       "val      33.0     33.0\n",
       "test     33.0     33.0"
      ],
      "text/html": [
       "<div>\n",
       "<style scoped>\n",
       "    .dataframe tbody tr th:only-of-type {\n",
       "        vertical-align: middle;\n",
       "    }\n",
       "\n",
       "    .dataframe tbody tr th {\n",
       "        vertical-align: top;\n",
       "    }\n",
       "\n",
       "    .dataframe thead th {\n",
       "        text-align: right;\n",
       "    }\n",
       "</style>\n",
       "<table border=\"1\" class=\"dataframe\">\n",
       "  <thead>\n",
       "    <tr style=\"text-align: right;\">\n",
       "      <th></th>\n",
       "      <th>smiles</th>\n",
       "      <th>cluster</th>\n",
       "    </tr>\n",
       "    <tr>\n",
       "      <th>fold</th>\n",
       "      <th></th>\n",
       "      <th></th>\n",
       "    </tr>\n",
       "  </thead>\n",
       "  <tbody>\n",
       "    <tr>\n",
       "      <th>train</th>\n",
       "      <td>34.0</td>\n",
       "      <td>34.0</td>\n",
       "    </tr>\n",
       "    <tr>\n",
       "      <th>val</th>\n",
       "      <td>33.0</td>\n",
       "      <td>33.0</td>\n",
       "    </tr>\n",
       "    <tr>\n",
       "      <th>test</th>\n",
       "      <td>33.0</td>\n",
       "      <td>33.0</td>\n",
       "    </tr>\n",
       "  </tbody>\n",
       "</table>\n",
       "</div>"
      ]
     },
     "metadata": {},
     "output_type": "display_data"
    }
   ],
   "execution_count": 53
  },
  {
   "metadata": {},
   "cell_type": "markdown",
   "source": "## Additionally move random validation and test clusters to the train fold\n",
   "id": "cf43ae61d5bda85e"
  },
  {
   "metadata": {
    "ExecuteTime": {
     "end_time": "2024-09-16T06:11:33.463743Z",
     "start_time": "2024-09-16T06:11:33.445231Z"
    }
   },
   "cell_type": "code",
   "source": [
    "df_split = df.copy()\n",
    "for f in ['val', 'test']:\n",
    "    df_fold = df[df['fold'] == f].copy()\n",
    "    rand_fold_clusters = df_fold['cluster'].drop_duplicates().sample(n=10, random_state=42).values\n",
    "    df_split.loc[df_split['cluster'].isin(rand_fold_clusters), 'fold'] = 'train'\n",
    "\n",
    "for percentage in [False, True]:\n",
    "    print(f'Full dataset (percentage={percentage})')\n",
    "    display(fold_composition(df_split, percentage=percentage))\n",
    "    print(f'All metadata available (percentage={percentage})')\n",
    "    display(fold_composition(df_split.dropna(), percentage=percentage))"
   ],
   "id": "b14def1d92febbd3",
   "outputs": [
    {
     "name": "stdout",
     "output_type": "stream",
     "text": [
      "Full dataset (percentage=False)\n"
     ]
    },
    {
     "data": {
      "text/plain": [
       "       smiles  cluster\n",
       "fold                  \n",
       "train      54       54\n",
       "val        23       23\n",
       "test       23       23"
      ],
      "text/html": [
       "<div>\n",
       "<style scoped>\n",
       "    .dataframe tbody tr th:only-of-type {\n",
       "        vertical-align: middle;\n",
       "    }\n",
       "\n",
       "    .dataframe tbody tr th {\n",
       "        vertical-align: top;\n",
       "    }\n",
       "\n",
       "    .dataframe thead th {\n",
       "        text-align: right;\n",
       "    }\n",
       "</style>\n",
       "<table border=\"1\" class=\"dataframe\">\n",
       "  <thead>\n",
       "    <tr style=\"text-align: right;\">\n",
       "      <th></th>\n",
       "      <th>smiles</th>\n",
       "      <th>cluster</th>\n",
       "    </tr>\n",
       "    <tr>\n",
       "      <th>fold</th>\n",
       "      <th></th>\n",
       "      <th></th>\n",
       "    </tr>\n",
       "  </thead>\n",
       "  <tbody>\n",
       "    <tr>\n",
       "      <th>train</th>\n",
       "      <td>54</td>\n",
       "      <td>54</td>\n",
       "    </tr>\n",
       "    <tr>\n",
       "      <th>val</th>\n",
       "      <td>23</td>\n",
       "      <td>23</td>\n",
       "    </tr>\n",
       "    <tr>\n",
       "      <th>test</th>\n",
       "      <td>23</td>\n",
       "      <td>23</td>\n",
       "    </tr>\n",
       "  </tbody>\n",
       "</table>\n",
       "</div>"
      ]
     },
     "metadata": {},
     "output_type": "display_data"
    },
    {
     "name": "stdout",
     "output_type": "stream",
     "text": [
      "All metadata available (percentage=False)\n"
     ]
    },
    {
     "data": {
      "text/plain": [
       "       smiles  cluster\n",
       "fold                  \n",
       "train      54       54\n",
       "val        23       23\n",
       "test       23       23"
      ],
      "text/html": [
       "<div>\n",
       "<style scoped>\n",
       "    .dataframe tbody tr th:only-of-type {\n",
       "        vertical-align: middle;\n",
       "    }\n",
       "\n",
       "    .dataframe tbody tr th {\n",
       "        vertical-align: top;\n",
       "    }\n",
       "\n",
       "    .dataframe thead th {\n",
       "        text-align: right;\n",
       "    }\n",
       "</style>\n",
       "<table border=\"1\" class=\"dataframe\">\n",
       "  <thead>\n",
       "    <tr style=\"text-align: right;\">\n",
       "      <th></th>\n",
       "      <th>smiles</th>\n",
       "      <th>cluster</th>\n",
       "    </tr>\n",
       "    <tr>\n",
       "      <th>fold</th>\n",
       "      <th></th>\n",
       "      <th></th>\n",
       "    </tr>\n",
       "  </thead>\n",
       "  <tbody>\n",
       "    <tr>\n",
       "      <th>train</th>\n",
       "      <td>54</td>\n",
       "      <td>54</td>\n",
       "    </tr>\n",
       "    <tr>\n",
       "      <th>val</th>\n",
       "      <td>23</td>\n",
       "      <td>23</td>\n",
       "    </tr>\n",
       "    <tr>\n",
       "      <th>test</th>\n",
       "      <td>23</td>\n",
       "      <td>23</td>\n",
       "    </tr>\n",
       "  </tbody>\n",
       "</table>\n",
       "</div>"
      ]
     },
     "metadata": {},
     "output_type": "display_data"
    },
    {
     "name": "stdout",
     "output_type": "stream",
     "text": [
      "Full dataset (percentage=True)\n"
     ]
    },
    {
     "data": {
      "text/plain": [
       "       smiles  cluster\n",
       "fold                  \n",
       "train    54.0     54.0\n",
       "val      23.0     23.0\n",
       "test     23.0     23.0"
      ],
      "text/html": [
       "<div>\n",
       "<style scoped>\n",
       "    .dataframe tbody tr th:only-of-type {\n",
       "        vertical-align: middle;\n",
       "    }\n",
       "\n",
       "    .dataframe tbody tr th {\n",
       "        vertical-align: top;\n",
       "    }\n",
       "\n",
       "    .dataframe thead th {\n",
       "        text-align: right;\n",
       "    }\n",
       "</style>\n",
       "<table border=\"1\" class=\"dataframe\">\n",
       "  <thead>\n",
       "    <tr style=\"text-align: right;\">\n",
       "      <th></th>\n",
       "      <th>smiles</th>\n",
       "      <th>cluster</th>\n",
       "    </tr>\n",
       "    <tr>\n",
       "      <th>fold</th>\n",
       "      <th></th>\n",
       "      <th></th>\n",
       "    </tr>\n",
       "  </thead>\n",
       "  <tbody>\n",
       "    <tr>\n",
       "      <th>train</th>\n",
       "      <td>54.0</td>\n",
       "      <td>54.0</td>\n",
       "    </tr>\n",
       "    <tr>\n",
       "      <th>val</th>\n",
       "      <td>23.0</td>\n",
       "      <td>23.0</td>\n",
       "    </tr>\n",
       "    <tr>\n",
       "      <th>test</th>\n",
       "      <td>23.0</td>\n",
       "      <td>23.0</td>\n",
       "    </tr>\n",
       "  </tbody>\n",
       "</table>\n",
       "</div>"
      ]
     },
     "metadata": {},
     "output_type": "display_data"
    },
    {
     "name": "stdout",
     "output_type": "stream",
     "text": [
      "All metadata available (percentage=True)\n"
     ]
    },
    {
     "data": {
      "text/plain": [
       "       smiles  cluster\n",
       "fold                  \n",
       "train    54.0     54.0\n",
       "val      23.0     23.0\n",
       "test     23.0     23.0"
      ],
      "text/html": [
       "<div>\n",
       "<style scoped>\n",
       "    .dataframe tbody tr th:only-of-type {\n",
       "        vertical-align: middle;\n",
       "    }\n",
       "\n",
       "    .dataframe tbody tr th {\n",
       "        vertical-align: top;\n",
       "    }\n",
       "\n",
       "    .dataframe thead th {\n",
       "        text-align: right;\n",
       "    }\n",
       "</style>\n",
       "<table border=\"1\" class=\"dataframe\">\n",
       "  <thead>\n",
       "    <tr style=\"text-align: right;\">\n",
       "      <th></th>\n",
       "      <th>smiles</th>\n",
       "      <th>cluster</th>\n",
       "    </tr>\n",
       "    <tr>\n",
       "      <th>fold</th>\n",
       "      <th></th>\n",
       "      <th></th>\n",
       "    </tr>\n",
       "  </thead>\n",
       "  <tbody>\n",
       "    <tr>\n",
       "      <th>train</th>\n",
       "      <td>54.0</td>\n",
       "      <td>54.0</td>\n",
       "    </tr>\n",
       "    <tr>\n",
       "      <th>val</th>\n",
       "      <td>23.0</td>\n",
       "      <td>23.0</td>\n",
       "    </tr>\n",
       "    <tr>\n",
       "      <th>test</th>\n",
       "      <td>23.0</td>\n",
       "      <td>23.0</td>\n",
       "    </tr>\n",
       "  </tbody>\n",
       "</table>\n",
       "</div>"
      ]
     },
     "metadata": {},
     "output_type": "display_data"
    }
   ],
   "execution_count": 56
  },
  {
   "metadata": {},
   "cell_type": "markdown",
   "source": "## Cluster Sizes\n",
   "id": "cdd0adc30e87e194"
  },
  {
   "metadata": {
    "ExecuteTime": {
     "end_time": "2024-09-16T06:12:27.158809Z",
     "start_time": "2024-09-16T06:12:27.143091Z"
    }
   },
   "cell_type": "code",
   "source": "df.drop_duplicates(subset=['inchikey']).groupby(['cluster', 'fold']).agg({'inchikey': 'count'}).sort_values(by='inchikey', ascending=False)\n",
   "id": "a6e16f3631856739",
   "outputs": [
    {
     "ename": "KeyError",
     "evalue": "Index(['inchikey'], dtype='object')",
     "output_type": "error",
     "traceback": [
      "\u001B[0;31m---------------------------------------------------------------------------\u001B[0m",
      "\u001B[0;31mKeyError\u001B[0m                                  Traceback (most recent call last)",
      "\u001B[0;32m/var/folders/bl/73ckjztx5js4cc0cj85qgvlm0000gn/T/ipykernel_32228/1271488693.py\u001B[0m in \u001B[0;36m?\u001B[0;34m()\u001B[0m\n\u001B[0;32m----> 1\u001B[0;31m \u001B[0mdf\u001B[0m\u001B[0;34m.\u001B[0m\u001B[0mdrop_duplicates\u001B[0m\u001B[0;34m(\u001B[0m\u001B[0msubset\u001B[0m\u001B[0;34m=\u001B[0m\u001B[0;34m[\u001B[0m\u001B[0;34m'inchikey'\u001B[0m\u001B[0;34m]\u001B[0m\u001B[0;34m)\u001B[0m\u001B[0;34m.\u001B[0m\u001B[0mgroupby\u001B[0m\u001B[0;34m(\u001B[0m\u001B[0;34m[\u001B[0m\u001B[0;34m'cluster'\u001B[0m\u001B[0;34m,\u001B[0m \u001B[0;34m'fold'\u001B[0m\u001B[0;34m]\u001B[0m\u001B[0;34m)\u001B[0m\u001B[0;34m.\u001B[0m\u001B[0magg\u001B[0m\u001B[0;34m(\u001B[0m\u001B[0;34m{\u001B[0m\u001B[0;34m'inchikey'\u001B[0m\u001B[0;34m:\u001B[0m \u001B[0;34m'count'\u001B[0m\u001B[0;34m}\u001B[0m\u001B[0;34m)\u001B[0m\u001B[0;34m.\u001B[0m\u001B[0msort_values\u001B[0m\u001B[0;34m(\u001B[0m\u001B[0mby\u001B[0m\u001B[0;34m=\u001B[0m\u001B[0;34m'inchikey'\u001B[0m\u001B[0;34m,\u001B[0m \u001B[0mascending\u001B[0m\u001B[0;34m=\u001B[0m\u001B[0;32mFalse\u001B[0m\u001B[0;34m)\u001B[0m\u001B[0;34m\u001B[0m\u001B[0;34m\u001B[0m\u001B[0m\n\u001B[0m\u001B[1;32m      2\u001B[0m \u001B[0;34m\u001B[0m\u001B[0m\n",
      "\u001B[0;32m~/UTILS/anaconda3/envs/massspecgym/lib/python3.11/site-packages/pandas/core/frame.py\u001B[0m in \u001B[0;36m?\u001B[0;34m(self, subset, keep, inplace, ignore_index)\u001B[0m\n\u001B[1;32m   6814\u001B[0m \u001B[0;34m\u001B[0m\u001B[0m\n\u001B[1;32m   6815\u001B[0m         \u001B[0minplace\u001B[0m \u001B[0;34m=\u001B[0m \u001B[0mvalidate_bool_kwarg\u001B[0m\u001B[0;34m(\u001B[0m\u001B[0minplace\u001B[0m\u001B[0;34m,\u001B[0m \u001B[0;34m\"inplace\"\u001B[0m\u001B[0;34m)\u001B[0m\u001B[0;34m\u001B[0m\u001B[0;34m\u001B[0m\u001B[0m\n\u001B[1;32m   6816\u001B[0m         \u001B[0mignore_index\u001B[0m \u001B[0;34m=\u001B[0m \u001B[0mvalidate_bool_kwarg\u001B[0m\u001B[0;34m(\u001B[0m\u001B[0mignore_index\u001B[0m\u001B[0;34m,\u001B[0m \u001B[0;34m\"ignore_index\"\u001B[0m\u001B[0;34m)\u001B[0m\u001B[0;34m\u001B[0m\u001B[0;34m\u001B[0m\u001B[0m\n\u001B[1;32m   6817\u001B[0m \u001B[0;34m\u001B[0m\u001B[0m\n\u001B[0;32m-> 6818\u001B[0;31m         \u001B[0mresult\u001B[0m \u001B[0;34m=\u001B[0m \u001B[0mself\u001B[0m\u001B[0;34m[\u001B[0m\u001B[0;34m-\u001B[0m\u001B[0mself\u001B[0m\u001B[0;34m.\u001B[0m\u001B[0mduplicated\u001B[0m\u001B[0;34m(\u001B[0m\u001B[0msubset\u001B[0m\u001B[0;34m,\u001B[0m \u001B[0mkeep\u001B[0m\u001B[0;34m=\u001B[0m\u001B[0mkeep\u001B[0m\u001B[0;34m)\u001B[0m\u001B[0;34m]\u001B[0m\u001B[0;34m\u001B[0m\u001B[0;34m\u001B[0m\u001B[0m\n\u001B[0m\u001B[1;32m   6819\u001B[0m         \u001B[0;32mif\u001B[0m \u001B[0mignore_index\u001B[0m\u001B[0;34m:\u001B[0m\u001B[0;34m\u001B[0m\u001B[0;34m\u001B[0m\u001B[0m\n\u001B[1;32m   6820\u001B[0m             \u001B[0mresult\u001B[0m\u001B[0;34m.\u001B[0m\u001B[0mindex\u001B[0m \u001B[0;34m=\u001B[0m \u001B[0mdefault_index\u001B[0m\u001B[0;34m(\u001B[0m\u001B[0mlen\u001B[0m\u001B[0;34m(\u001B[0m\u001B[0mresult\u001B[0m\u001B[0;34m)\u001B[0m\u001B[0;34m)\u001B[0m\u001B[0;34m\u001B[0m\u001B[0;34m\u001B[0m\u001B[0m\n\u001B[1;32m   6821\u001B[0m \u001B[0;34m\u001B[0m\u001B[0m\n",
      "\u001B[0;32m~/UTILS/anaconda3/envs/massspecgym/lib/python3.11/site-packages/pandas/core/frame.py\u001B[0m in \u001B[0;36m?\u001B[0;34m(self, subset, keep)\u001B[0m\n\u001B[1;32m   6946\u001B[0m         \u001B[0;31m# Otherwise, raise a KeyError, same as if you try to __getitem__ with a\u001B[0m\u001B[0;34m\u001B[0m\u001B[0;34m\u001B[0m\u001B[0m\n\u001B[1;32m   6947\u001B[0m         \u001B[0;31m# key that doesn't exist.\u001B[0m\u001B[0;34m\u001B[0m\u001B[0;34m\u001B[0m\u001B[0m\n\u001B[1;32m   6948\u001B[0m         \u001B[0mdiff\u001B[0m \u001B[0;34m=\u001B[0m \u001B[0mset\u001B[0m\u001B[0;34m(\u001B[0m\u001B[0msubset\u001B[0m\u001B[0;34m)\u001B[0m \u001B[0;34m-\u001B[0m \u001B[0mset\u001B[0m\u001B[0;34m(\u001B[0m\u001B[0mself\u001B[0m\u001B[0;34m.\u001B[0m\u001B[0mcolumns\u001B[0m\u001B[0;34m)\u001B[0m\u001B[0;34m\u001B[0m\u001B[0;34m\u001B[0m\u001B[0m\n\u001B[1;32m   6949\u001B[0m         \u001B[0;32mif\u001B[0m \u001B[0mdiff\u001B[0m\u001B[0;34m:\u001B[0m\u001B[0;34m\u001B[0m\u001B[0;34m\u001B[0m\u001B[0m\n\u001B[0;32m-> 6950\u001B[0;31m             \u001B[0;32mraise\u001B[0m \u001B[0mKeyError\u001B[0m\u001B[0;34m(\u001B[0m\u001B[0mIndex\u001B[0m\u001B[0;34m(\u001B[0m\u001B[0mdiff\u001B[0m\u001B[0;34m)\u001B[0m\u001B[0;34m)\u001B[0m\u001B[0;34m\u001B[0m\u001B[0;34m\u001B[0m\u001B[0m\n\u001B[0m\u001B[1;32m   6951\u001B[0m \u001B[0;34m\u001B[0m\u001B[0m\n\u001B[1;32m   6952\u001B[0m         \u001B[0;32mif\u001B[0m \u001B[0mlen\u001B[0m\u001B[0;34m(\u001B[0m\u001B[0msubset\u001B[0m\u001B[0;34m)\u001B[0m \u001B[0;34m==\u001B[0m \u001B[0;36m1\u001B[0m \u001B[0;32mand\u001B[0m \u001B[0mself\u001B[0m\u001B[0;34m.\u001B[0m\u001B[0mcolumns\u001B[0m\u001B[0;34m.\u001B[0m\u001B[0mis_unique\u001B[0m\u001B[0;34m:\u001B[0m\u001B[0;34m\u001B[0m\u001B[0;34m\u001B[0m\u001B[0m\n\u001B[1;32m   6953\u001B[0m             \u001B[0;31m# GH#45236 This is faster than get_group_index below\u001B[0m\u001B[0;34m\u001B[0m\u001B[0;34m\u001B[0m\u001B[0m\n",
      "\u001B[0;31mKeyError\u001B[0m: Index(['inchikey'], dtype='object')"
     ]
    }
   ],
   "execution_count": 57
  },
  {
   "metadata": {},
   "cell_type": "code",
   "outputs": [],
   "execution_count": null,
   "source": "",
   "id": "543f94b01fcd76cb"
  },
  {
   "metadata": {},
   "cell_type": "code",
   "outputs": [],
   "execution_count": null,
   "source": "",
   "id": "e820984634771cf7"
  },
  {
   "metadata": {},
   "cell_type": "code",
   "outputs": [],
   "execution_count": null,
   "source": "",
   "id": "629a7bf91d4bb97"
  },
  {
   "metadata": {},
   "cell_type": "code",
   "outputs": [],
   "execution_count": null,
   "source": "",
   "id": "e6cae97df53e05c"
  },
  {
   "metadata": {},
   "cell_type": "code",
   "outputs": [],
   "execution_count": null,
   "source": "",
   "id": "151035db32a1a213"
  },
  {
   "metadata": {},
   "cell_type": "code",
   "outputs": [],
   "execution_count": null,
   "source": [
    "\n",
    "\n",
    "# Prepare MCES or alternative distance matrix for clustering\n",
    "# Here we create a placeholder distance matrix with random values\n",
    "# Replace with your distance calculation logic\n",
    "num_smiles = len(unique_smiles)\n",
    "dists = np.random.rand(num_smiles, num_smiles)\n",
    "dists = (dists + dists.T) / 2  # Symmetrize the matrix to ensure it's valid\n",
    "np.fill_diagonal(dists, 0)  # Set diagonal to zero for self-distance\n",
    "\n",
    "# Check if the matrix is symmetric\n",
    "from scipy.linalg import issymmetric\n",
    "assert issymmetric(dists)\n",
    "\n",
    "# Perform Agglomerative Clustering using the precomputed distances\n",
    "clustering = AgglomerativeClustering(\n",
    "    metric='precomputed',\n",
    "    linkage='single',\n",
    "    distance_threshold=10,\n",
    "    n_clusters=None\n",
    ").fit(dists)\n",
    "\n",
    "# Get cluster labels\n",
    "clusters = clustering.labels_\n",
    "\n",
    "# Create a DataFrame for the SMILES and their clusters\n",
    "df = pd.DataFrame({'smiles': unique_smiles, 'cluster': clusters})\n",
    "\n",
    "# Define a placeholder for collision energies and other metadata for stratification\n",
    "# Here, we add mock data; replace with your actual data extraction logic\n",
    "df['collision_energy'] = np.random.choice(['10.0', '20.0', '30.0', 'other'], size=len(df))\n",
    "df['instrument_type'] = np.random.choice(['ITFT', 'QFT', 'Other'], size=len(df))\n",
    "df['adduct'] = np.random.choice(['[M+H]+', '[M+Na]+'], size=len(df))\n",
    "\n",
    "# Define stratification groups based on the metadata\n",
    "def simple_ce(ce):\n",
    "    if ce in ['10.0', '20.0', '30.0']:\n",
    "        return ce\n",
    "    return 'other'\n",
    "\n",
    "def stratification_group(row):\n",
    "    return str(row['adduct']) + str(row['instrument_type']) + str(simple_ce(row['collision_energy']))\n",
    "\n",
    "df['stratification_group'] = df.apply(stratification_group, axis=1)\n",
    "\n",
    "# Perform the train-validation-test split\n",
    "X = df.index.values  # Use indices as identifiers\n",
    "y = df['stratification_group'].values\n",
    "groups = df['cluster'].values\n",
    "\n",
    "sgkf = StratifiedGroupKFold(n_splits=3)\n",
    "sgkf_split = sgkf.split(X, y, groups)\n",
    "\n",
    "# Assign the splits to the DataFrame\n",
    "folds_map = {}\n",
    "for i, (train_index, test_index) in enumerate(sgkf_split):\n",
    "    fold_name = ['train', 'val', 'test'][i]\n",
    "    for idx in test_index:\n",
    "        folds_map[idx] = fold_name\n",
    "\n",
    "df['fold'] = df.index.map(folds_map)\n",
    "\n",
    "# Show the split composition\n",
    "def fold_composition(df_q, percentage=True):\n",
    "    unique_counts = df_q.groupby(['fold']).agg({'smiles': 'nunique'})\n",
    "    if not percentage:\n",
    "        res = unique_counts\n",
    "    else:\n",
    "        total_counts = df_q.agg({'smiles': 'nunique'})\n",
    "        percentage_counts = (unique_counts / total_counts) * 100\n",
    "        res = percentage_counts.round(2)\n",
    "    return res\n",
    "\n",
    "print('Fold composition:')\n",
    "print(fold_composition(df))\n",
    "\n",
    "# Save the split data to a file\n",
    "df.to_csv('/Users/macbook/CODE/MS/data/MSn/MSn/MassSpecGym_split.tsv', sep='\\t', index=False)"
   ],
   "id": "5895982026a72dc"
  },
  {
   "metadata": {},
   "cell_type": "code",
   "outputs": [],
   "execution_count": null,
   "source": "",
   "id": "ec34258dff05a078"
  },
  {
   "metadata": {},
   "cell_type": "code",
   "outputs": [],
   "execution_count": null,
   "source": "",
   "id": "c45b8c91e7eb274a"
  },
  {
   "metadata": {},
   "cell_type": "code",
   "outputs": [],
   "execution_count": null,
   "source": "",
   "id": "64858324565a33ef"
  },
  {
   "metadata": {},
   "cell_type": "code",
   "outputs": [],
   "execution_count": null,
   "source": "",
   "id": "9ae6af39de5735ff"
  },
  {
   "metadata": {},
   "cell_type": "code",
   "outputs": [],
   "execution_count": null,
   "source": "",
   "id": "da653fc27394923a"
  }
 ],
 "metadata": {
  "kernelspec": {
   "display_name": "Python 3",
   "language": "python",
   "name": "python3"
  },
  "language_info": {
   "codemirror_mode": {
    "name": "ipython",
    "version": 2
   },
   "file_extension": ".py",
   "mimetype": "text/x-python",
   "name": "python",
   "nbconvert_exporter": "python",
   "pygments_lexer": "ipython2",
   "version": "2.7.6"
  }
 },
 "nbformat": 4,
 "nbformat_minor": 5
}
