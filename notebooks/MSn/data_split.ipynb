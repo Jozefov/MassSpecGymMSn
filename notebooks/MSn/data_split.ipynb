{
 "cells": [
  {
   "cell_type": "code",
   "id": "initial_id",
   "metadata": {
    "collapsed": true,
    "ExecuteTime": {
     "end_time": "2024-09-15T16:06:29.054078Z",
     "start_time": "2024-09-15T16:06:26.429091Z"
    }
   },
   "source": [
    "import pandas as pd\n",
    "import numpy as np\n",
    "import pulp\n",
    "import os\n",
    "import h5py\n",
    "from sklearn.model_selection import StratifiedGroupKFold\n",
    "from sklearn.cluster import AgglomerativeClustering\n",
    "from scipy.spatial.distance import squareform\n",
    "from matchms.importing import load_from_mgf\n",
    "from rdkit import Chem\n",
    "from rdkit.Chem import DataStructs\n",
    "from tqdm import tqdm\n",
    "from myopic_mces.myopic_mces import MCES\n",
    "import h5py\n",
    "\n",
    "\n",
    "from massspecgym.utils import (\n",
    "    morgan_fp, init_plotting, smiles_to_scaffold,\n",
    "    train_val_test_split, create_split_file,\n",
    "    MyopicMCES, MyopicMCESNew\n",
    "    )"
   ],
   "outputs": [],
   "execution_count": 1
  },
  {
   "metadata": {
    "ExecuteTime": {
     "end_time": "2024-09-15T16:10:59.375457Z",
     "start_time": "2024-09-15T16:06:29.832425Z"
    }
   },
   "cell_type": "code",
   "source": [
    "# Load the data from MGF file\n",
    "file_path = '/Users/macbook/CODE/MS/data/MSn/MSn/20240914_msn_library_pos_all_lib_MSn.mgf'\n",
    "spectra = list(load_from_mgf(file_path))"
   ],
   "id": "8567bb7c0487e5c5",
   "outputs": [],
   "execution_count": 2
  },
  {
   "metadata": {
    "jupyter": {
     "is_executing": true
    },
    "ExecuteTime": {
     "start_time": "2024-09-15T16:10:59.386489Z"
    }
   },
   "cell_type": "code",
   "source": [
    "# Extract unique SMILES\n",
    "unique_smiles = set()\n",
    "for spectrum in spectra:\n",
    "    if 'smiles' in spectrum.metadata:\n",
    "        unique_smiles.add(spectrum.metadata['smiles'])"
   ],
   "id": "300ee3f9a159b882",
   "outputs": [],
   "execution_count": null
  },
  {
   "metadata": {
    "ExecuteTime": {
     "end_time": "2024-09-15T13:23:06.709046Z",
     "start_time": "2024-09-15T13:23:06.706685Z"
    }
   },
   "cell_type": "code",
   "source": "len(unique_smiles)",
   "id": "8103f9e88673e0e6",
   "outputs": [
    {
     "data": {
      "text/plain": [
       "14008"
      ]
     },
     "execution_count": 5,
     "metadata": {},
     "output_type": "execute_result"
    }
   ],
   "execution_count": 5
  },
  {
   "metadata": {
    "ExecuteTime": {
     "end_time": "2024-09-15T13:23:06.723551Z",
     "start_time": "2024-09-15T13:23:06.721245Z"
    }
   },
   "cell_type": "code",
   "source": [
    "# Convert unique SMILES to a list\n",
    "unique_smiles = list(unique_smiles)"
   ],
   "id": "c6e840297ccabe3a",
   "outputs": [],
   "execution_count": 6
  },
  {
   "metadata": {},
   "cell_type": "code",
   "outputs": [],
   "execution_count": null,
   "source": "unique_smiles = unique_smiles[:100]",
   "id": "6888202b23f24cbe"
  },
  {
   "metadata": {
    "ExecuteTime": {
     "end_time": "2024-09-15T13:23:06.750769Z",
     "start_time": "2024-09-15T13:23:06.749143Z"
    }
   },
   "cell_type": "code",
   "source": [
    "# Initialize the MCES computation instance\n",
    "mces_calculator_new = MyopicMCESNew()"
   ],
   "id": "6825cffada14f84a",
   "outputs": [],
   "execution_count": 7
  },
  {
   "metadata": {},
   "cell_type": "code",
   "outputs": [],
   "execution_count": null,
   "source": "",
   "id": "fb01f9ea96251283"
  },
  {
   "metadata": {
    "ExecuteTime": {
     "end_time": "2024-09-15T11:55:18.228583Z",
     "start_time": "2024-09-15T11:55:18.225947Z"
    }
   },
   "cell_type": "code",
   "source": [
    "# Compute the MCES distance matrix\n",
    "num_smiles = len(unique_smiles)\n",
    "dists = np.zeros((num_smiles, num_smiles))"
   ],
   "id": "c756f7232dadcfc8",
   "outputs": [],
   "execution_count": 7
  },
  {
   "metadata": {
    "ExecuteTime": {
     "end_time": "2024-09-15T12:14:05.677521Z",
     "start_time": "2024-09-15T12:14:04.834818Z"
    }
   },
   "cell_type": "code",
   "source": [
    "hdf5_path = '/Users/macbook/CODE/MS/data/MSn/MSn/mces_distances.hdf5'\n",
    "\n",
    "# Initialize or load the distance matrix in HDF5 format\n",
    "if os.path.exists(hdf5_path):\n",
    "    hdf5_file = h5py.File(hdf5_path, 'a')\n",
    "    dists = hdf5_file['mces'][:]\n",
    "else:\n",
    "    hdf5_file = h5py.File(hdf5_path, 'w')\n",
    "    dists = np.full((num_smiles, num_smiles), np.inf)  # Initialize with infinity\n",
    "    hdf5_file.create_dataset('mces', data=dists)\n"
   ],
   "id": "56f305f46ee9ce59",
   "outputs": [],
   "execution_count": 13
  },
  {
   "metadata": {
    "ExecuteTime": {
     "end_time": "2024-09-15T12:12:37.358090Z",
     "start_time": "2024-09-15T12:12:37.266555Z"
    }
   },
   "cell_type": "code",
   "source": [
    "# Create a DataFrame to keep track of unique SMILES and their indices\n",
    "smiles_df = pd.DataFrame(unique_smiles, columns=['smiles'])\n",
    "smiles_df['index'] = smiles_df.index\n",
    "\n",
    "# Save unique SMILES and indices to CSV for reference\n",
    "smiles_df_path = '/Users/macbook/CODE/MS/data/MSn/MSn/unique_smiles.csv'\n",
    "# smiles_df.to_csv(smiles_df_path, index=False)\n"
   ],
   "id": "43e205d2a52ea662",
   "outputs": [],
   "execution_count": 11
  },
  {
   "metadata": {
    "ExecuteTime": {
     "start_time": "2024-09-15T12:14:57.565685Z"
    }
   },
   "cell_type": "code",
   "source": [
    "for i in tqdm(range(num_smiles), desc=\"Computing MCES distances\"):\n",
    "    for j in range(i + 1, num_smiles):\n",
    "        if np.isinf(dists[i, j]):  # Only compute if not already done\n",
    "            dist = mces_calculator_new(unique_smiles[i], unique_smiles[j])\n",
    "            dists[i, j] = dist\n",
    "            dists[j, i] = dist\n",
    "        # Save progress every 1000 calculations\n",
    "        if (i * num_smiles + j) % 1000 == 0:\n",
    "            hdf5_file['mces'][:] = dists\n",
    "            hdf5_file.flush()\n"
   ],
   "id": "222bb434c523ef0e",
   "outputs": [
    {
     "name": "stderr",
     "output_type": "stream",
     "text": [
      "Computing MCES distances:   0%|          | 3/14008 [15:30<1207:15:40, 310.33s/it]\n"
     ]
    },
    {
     "ename": "KeyboardInterrupt",
     "evalue": "",
     "output_type": "error",
     "traceback": [
      "\u001B[0;31m---------------------------------------------------------------------------\u001B[0m",
      "\u001B[0;31mKeyboardInterrupt\u001B[0m                         Traceback (most recent call last)",
      "Cell \u001B[0;32mIn[14], line 4\u001B[0m\n\u001B[1;32m      2\u001B[0m \u001B[38;5;28;01mfor\u001B[39;00m j \u001B[38;5;129;01min\u001B[39;00m \u001B[38;5;28mrange\u001B[39m(i \u001B[38;5;241m+\u001B[39m \u001B[38;5;241m1\u001B[39m, num_smiles):\n\u001B[1;32m      3\u001B[0m     \u001B[38;5;28;01mif\u001B[39;00m np\u001B[38;5;241m.\u001B[39misinf(dists[i, j]):  \u001B[38;5;66;03m# Only compute if not already done\u001B[39;00m\n\u001B[0;32m----> 4\u001B[0m         dist \u001B[38;5;241m=\u001B[39m \u001B[43mmces_calculator_new\u001B[49m\u001B[43m(\u001B[49m\u001B[43munique_smiles\u001B[49m\u001B[43m[\u001B[49m\u001B[43mi\u001B[49m\u001B[43m]\u001B[49m\u001B[43m,\u001B[49m\u001B[43m \u001B[49m\u001B[43munique_smiles\u001B[49m\u001B[43m[\u001B[49m\u001B[43mj\u001B[49m\u001B[43m]\u001B[49m\u001B[43m)\u001B[49m\n\u001B[1;32m      5\u001B[0m         dists[i, j] \u001B[38;5;241m=\u001B[39m dist\n\u001B[1;32m      6\u001B[0m         dists[j, i] \u001B[38;5;241m=\u001B[39m dist\n",
      "File \u001B[0;32m~/CODE/Majer:MassSpecGym/massspecgym/utils.py:318\u001B[0m, in \u001B[0;36mMyopicMCESNew.__call__\u001B[0;34m(self, smiles_1, smiles_2)\u001B[0m\n\u001B[1;32m    316\u001B[0m \u001B[38;5;28;01mdef\u001B[39;00m \u001B[38;5;21m__call__\u001B[39m(\u001B[38;5;28mself\u001B[39m, smiles_1: \u001B[38;5;28mstr\u001B[39m, smiles_2: \u001B[38;5;28mstr\u001B[39m) \u001B[38;5;241m-\u001B[39m\u001B[38;5;241m>\u001B[39m \u001B[38;5;28mfloat\u001B[39m:\n\u001B[1;32m    317\u001B[0m     \u001B[38;5;28;01mtry\u001B[39;00m:\n\u001B[0;32m--> 318\u001B[0m         retval \u001B[38;5;241m=\u001B[39m \u001B[43mMCES\u001B[49m\u001B[43m(\u001B[49m\n\u001B[1;32m    319\u001B[0m \u001B[43m            \u001B[49m\u001B[43msmiles1\u001B[49m\u001B[38;5;241;43m=\u001B[39;49m\u001B[43msmiles_1\u001B[49m\u001B[43m,\u001B[49m\u001B[43m  \u001B[49m\u001B[38;5;66;43;03m# Correct parameter name\u001B[39;49;00m\n\u001B[1;32m    320\u001B[0m \u001B[43m            \u001B[49m\u001B[43msmiles2\u001B[49m\u001B[38;5;241;43m=\u001B[39;49m\u001B[43msmiles_2\u001B[49m\u001B[43m,\u001B[49m\u001B[43m  \u001B[49m\u001B[38;5;66;43;03m# Correct parameter name\u001B[39;49;00m\n\u001B[1;32m    321\u001B[0m \u001B[43m            \u001B[49m\u001B[43mthreshold\u001B[49m\u001B[38;5;241;43m=\u001B[39;49m\u001B[38;5;28;43mself\u001B[39;49m\u001B[38;5;241;43m.\u001B[39;49m\u001B[43mthreshold\u001B[49m\u001B[43m,\u001B[49m\n\u001B[1;32m    322\u001B[0m \u001B[43m            \u001B[49m\u001B[43mi\u001B[49m\u001B[38;5;241;43m=\u001B[39;49m\u001B[38;5;28;43mself\u001B[39;49m\u001B[38;5;241;43m.\u001B[39;49m\u001B[43mind\u001B[49m\u001B[43m,\u001B[49m\n\u001B[1;32m    323\u001B[0m \u001B[43m            \u001B[49m\u001B[43msolver\u001B[49m\u001B[38;5;241;43m=\u001B[39;49m\u001B[38;5;28;43mself\u001B[39;49m\u001B[38;5;241;43m.\u001B[39;49m\u001B[43msolver\u001B[49m\u001B[43m,\u001B[49m\n\u001B[1;32m    324\u001B[0m \u001B[43m            \u001B[49m\u001B[43msolver_options\u001B[49m\u001B[38;5;241;43m=\u001B[39;49m\u001B[38;5;28;43mself\u001B[39;49m\u001B[38;5;241;43m.\u001B[39;49m\u001B[43msolver_options\u001B[49m\u001B[43m,\u001B[49m\n\u001B[1;32m    325\u001B[0m \u001B[43m            \u001B[49m\u001B[43mno_ilp_threshold\u001B[49m\u001B[38;5;241;43m=\u001B[39;49m\u001B[38;5;28;43mself\u001B[39;49m\u001B[38;5;241;43m.\u001B[39;49m\u001B[43mno_ilp_threshold\u001B[49m\u001B[43m,\u001B[49m\n\u001B[1;32m    326\u001B[0m \u001B[43m            \u001B[49m\u001B[43malways_stronger_bound\u001B[49m\u001B[38;5;241;43m=\u001B[39;49m\u001B[38;5;28;43mself\u001B[39;49m\u001B[38;5;241;43m.\u001B[39;49m\u001B[43malways_stronger_bound\u001B[49m\u001B[43m,\u001B[49m\n\u001B[1;32m    327\u001B[0m \u001B[43m            \u001B[49m\u001B[43mcatch_errors\u001B[49m\u001B[38;5;241;43m=\u001B[39;49m\u001B[38;5;28;43mself\u001B[39;49m\u001B[38;5;241;43m.\u001B[39;49m\u001B[43mcatch_errors\u001B[49m\n\u001B[1;32m    328\u001B[0m \u001B[43m        \u001B[49m\u001B[43m)\u001B[49m\n\u001B[1;32m    329\u001B[0m         \u001B[38;5;66;03m# Extract the relevant output (distance)\u001B[39;00m\n\u001B[1;32m    330\u001B[0m         dist \u001B[38;5;241m=\u001B[39m retval[\u001B[38;5;241m1\u001B[39m]\n",
      "File \u001B[0;32m~/UTILS/anaconda3/envs/massspecgym/lib/python3.11/site-packages/myopic_mces/myopic_mces.py:61\u001B[0m, in \u001B[0;36mMCES\u001B[0;34m(smiles1, smiles2, threshold, i, solver, solver_options, no_ilp_threshold, always_stronger_bound, catch_errors)\u001B[0m\n\u001B[1;32m     58\u001B[0m \u001B[38;5;28;01mif\u001B[39;00m threshold \u001B[38;5;241m!=\u001B[39m \u001B[38;5;241m-\u001B[39m\u001B[38;5;241m1\u001B[39m:         \u001B[38;5;66;03m# with `-1` always compute exact distance\u001B[39;00m\n\u001B[1;32m     59\u001B[0m     \u001B[38;5;66;03m# filter out if distance is above the threshold\u001B[39;00m\n\u001B[1;32m     60\u001B[0m     \u001B[38;5;28;01mtry\u001B[39;00m:\n\u001B[0;32m---> 61\u001B[0m         distance, compute_mode \u001B[38;5;241m=\u001B[39m \u001B[43mapply_filter\u001B[49m\u001B[43m(\u001B[49m\u001B[43mG1\u001B[49m\u001B[43m,\u001B[49m\u001B[43m \u001B[49m\u001B[43mG2\u001B[49m\u001B[43m,\u001B[49m\u001B[43m \u001B[49m\u001B[43mthreshold\u001B[49m\u001B[43m,\u001B[49m\u001B[43m \u001B[49m\u001B[43malways_stronger_bound\u001B[49m\u001B[38;5;241;43m=\u001B[39;49m\u001B[43malways_stronger_bound\u001B[49m\u001B[43m)\u001B[49m\n\u001B[1;32m     62\u001B[0m         \u001B[38;5;28;01mif\u001B[39;00m distance \u001B[38;5;241m>\u001B[39m threshold:\n\u001B[1;32m     63\u001B[0m             \u001B[38;5;28;01mreturn\u001B[39;00m i, distance, time\u001B[38;5;241m.\u001B[39mtime() \u001B[38;5;241m-\u001B[39m start, compute_mode\n",
      "File \u001B[0;32m~/UTILS/anaconda3/envs/massspecgym/lib/python3.11/site-packages/myopic_mces/filter_MCES.py:243\u001B[0m, in \u001B[0;36mapply_filter\u001B[0;34m(G1, G2, threshold, always_stronger_bound)\u001B[0m\n\u001B[1;32m    218\u001B[0m \u001B[38;5;250m\u001B[39m\u001B[38;5;124;03m\"\"\"\u001B[39;00m\n\u001B[1;32m    219\u001B[0m \u001B[38;5;124;03m Finds a lower bound for the distance\u001B[39;00m\n\u001B[1;32m    220\u001B[0m \n\u001B[0;32m   (...)\u001B[0m\n\u001B[1;32m    240\u001B[0m \n\u001B[1;32m    241\u001B[0m \u001B[38;5;124;03m\"\"\"\u001B[39;00m\n\u001B[1;32m    242\u001B[0m \u001B[38;5;28;01mif\u001B[39;00m always_stronger_bound:\n\u001B[0;32m--> 243\u001B[0m     d\u001B[38;5;241m=\u001B[39m\u001B[43mfilter2\u001B[49m\u001B[43m(\u001B[49m\u001B[43mG1\u001B[49m\u001B[43m,\u001B[49m\u001B[43mG2\u001B[49m\u001B[43m)\u001B[49m\n\u001B[1;32m    244\u001B[0m     \u001B[38;5;28;01mreturn\u001B[39;00m d, \u001B[38;5;241m4\u001B[39m\n\u001B[1;32m    245\u001B[0m \u001B[38;5;28;01melse\u001B[39;00m:\n\u001B[1;32m    246\u001B[0m     \u001B[38;5;66;03m#calculate first lower bound\u001B[39;00m\n",
      "File \u001B[0;32m~/UTILS/anaconda3/envs/massspecgym/lib/python3.11/site-packages/myopic_mces/filter_MCES.py:194\u001B[0m, in \u001B[0;36mfilter2\u001B[0;34m(G1, G2)\u001B[0m\n\u001B[1;32m    192\u001B[0m     \u001B[38;5;28;01mfor\u001B[39;00m k \u001B[38;5;129;01min\u001B[39;00m nodes2:\n\u001B[1;32m    193\u001B[0m         \u001B[38;5;28;01mif\u001B[39;00m G1\u001B[38;5;241m.\u001B[39mnodes[j][\u001B[38;5;124m\"\u001B[39m\u001B[38;5;124matom\u001B[39m\u001B[38;5;124m\"\u001B[39m]\u001B[38;5;241m==\u001B[39mG2\u001B[38;5;241m.\u001B[39mnodes[k][\u001B[38;5;124m\"\u001B[39m\u001B[38;5;124matom\u001B[39m\u001B[38;5;124m\"\u001B[39m]:\n\u001B[0;32m--> 194\u001B[0m             G\u001B[38;5;241m.\u001B[39madd_edge(\u001B[38;5;28mtuple\u001B[39m([\u001B[38;5;241m1\u001B[39m,j]),\u001B[38;5;28mtuple\u001B[39m([\u001B[38;5;241m2\u001B[39m,k]),weight\u001B[38;5;241m=\u001B[39m\u001B[43mget_cost\u001B[49m\u001B[43m(\u001B[49m\u001B[43mG1\u001B[49m\u001B[43m,\u001B[49m\u001B[43mG2\u001B[49m\u001B[43m,\u001B[49m\u001B[43mj\u001B[49m\u001B[43m,\u001B[49m\u001B[43mk\u001B[49m\u001B[43m)\u001B[49m)\n\u001B[1;32m    195\u001B[0m \u001B[38;5;66;03m#Add nodes if one graph has more nodes of type i than the other\u001B[39;00m\n\u001B[1;32m    196\u001B[0m \u001B[38;5;28;01mif\u001B[39;00m \u001B[38;5;28mlen\u001B[39m(nodes1)\u001B[38;5;241m<\u001B[39m\u001B[38;5;28mlen\u001B[39m(nodes2):\n",
      "File \u001B[0;32m~/UTILS/anaconda3/envs/massspecgym/lib/python3.11/site-packages/myopic_mces/filter_MCES.py:109\u001B[0m, in \u001B[0;36mget_cost\u001B[0;34m(G1, G2, i, j)\u001B[0m\n\u001B[1;32m    107\u001B[0m atom_types2\u001B[38;5;241m=\u001B[39m[]\n\u001B[1;32m    108\u001B[0m \u001B[38;5;28;01mfor\u001B[39;00m k \u001B[38;5;129;01min\u001B[39;00m G2\u001B[38;5;241m.\u001B[39mneighbors(j):\n\u001B[0;32m--> 109\u001B[0m     \u001B[38;5;28;01mif\u001B[39;00m \u001B[43mG2\u001B[49m\u001B[38;5;241;43m.\u001B[39;49m\u001B[43mnodes\u001B[49m\u001B[43m[\u001B[49m\u001B[43mk\u001B[49m\u001B[43m]\u001B[49m[\u001B[38;5;124m\"\u001B[39m\u001B[38;5;124matom\u001B[39m\u001B[38;5;124m\"\u001B[39m] \u001B[38;5;129;01mnot\u001B[39;00m \u001B[38;5;129;01min\u001B[39;00m atom_types2:\n\u001B[1;32m    110\u001B[0m         atom_types2\u001B[38;5;241m.\u001B[39mappend(G2\u001B[38;5;241m.\u001B[39mnodes[k][\u001B[38;5;124m\"\u001B[39m\u001B[38;5;124matom\u001B[39m\u001B[38;5;124m\"\u001B[39m])\n\u001B[1;32m    111\u001B[0m type_map2\u001B[38;5;241m=\u001B[39m{}\n",
      "File \u001B[0;32m~/UTILS/anaconda3/envs/massspecgym/lib/python3.11/site-packages/networkx/classes/reportviews.py:188\u001B[0m, in \u001B[0;36mNodeView.__getitem__\u001B[0;34m(self, n)\u001B[0m\n\u001B[1;32m    185\u001B[0m \u001B[38;5;28;01mdef\u001B[39;00m \u001B[38;5;21m__iter__\u001B[39m(\u001B[38;5;28mself\u001B[39m):\n\u001B[1;32m    186\u001B[0m     \u001B[38;5;28;01mreturn\u001B[39;00m \u001B[38;5;28miter\u001B[39m(\u001B[38;5;28mself\u001B[39m\u001B[38;5;241m.\u001B[39m_nodes)\n\u001B[0;32m--> 188\u001B[0m \u001B[38;5;28;01mdef\u001B[39;00m \u001B[38;5;21m__getitem__\u001B[39m(\u001B[38;5;28mself\u001B[39m, n):\n\u001B[1;32m    189\u001B[0m     \u001B[38;5;28;01mif\u001B[39;00m \u001B[38;5;28misinstance\u001B[39m(n, \u001B[38;5;28mslice\u001B[39m):\n\u001B[1;32m    190\u001B[0m         \u001B[38;5;28;01mraise\u001B[39;00m nx\u001B[38;5;241m.\u001B[39mNetworkXError(\n\u001B[1;32m    191\u001B[0m             \u001B[38;5;124mf\u001B[39m\u001B[38;5;124m\"\u001B[39m\u001B[38;5;132;01m{\u001B[39;00m\u001B[38;5;28mtype\u001B[39m(\u001B[38;5;28mself\u001B[39m)\u001B[38;5;241m.\u001B[39m\u001B[38;5;18m__name__\u001B[39m\u001B[38;5;132;01m}\u001B[39;00m\u001B[38;5;124m does not support slicing, \u001B[39m\u001B[38;5;124m\"\u001B[39m\n\u001B[1;32m    192\u001B[0m             \u001B[38;5;124mf\u001B[39m\u001B[38;5;124m\"\u001B[39m\u001B[38;5;124mtry list(G.nodes)[\u001B[39m\u001B[38;5;132;01m{\u001B[39;00mn\u001B[38;5;241m.\u001B[39mstart\u001B[38;5;132;01m}\u001B[39;00m\u001B[38;5;124m:\u001B[39m\u001B[38;5;132;01m{\u001B[39;00mn\u001B[38;5;241m.\u001B[39mstop\u001B[38;5;132;01m}\u001B[39;00m\u001B[38;5;124m:\u001B[39m\u001B[38;5;132;01m{\u001B[39;00mn\u001B[38;5;241m.\u001B[39mstep\u001B[38;5;132;01m}\u001B[39;00m\u001B[38;5;124m]\u001B[39m\u001B[38;5;124m\"\u001B[39m\n\u001B[1;32m    193\u001B[0m         )\n",
      "\u001B[0;31mKeyboardInterrupt\u001B[0m: "
     ]
    }
   ],
   "execution_count": 14
  },
  {
   "metadata": {},
   "cell_type": "code",
   "outputs": [],
   "execution_count": null,
   "source": [
    "hdf5_file['mces'][:] = dists\n",
    "hdf5_file.flush()\n",
    "hdf5_file.close()\n",
    "\n",
    "print(\"MCES distance computation completed and saved.\")"
   ],
   "id": "384122f4ed732dcb"
  },
  {
   "metadata": {
    "ExecuteTime": {
     "end_time": "2024-09-15T13:15:05.411008Z",
     "start_time": "2024-09-15T13:15:05.404524Z"
    }
   },
   "cell_type": "code",
   "source": "pulp.listSolvers(onlyAvailable=True)",
   "id": "828bde3b17b03c6f",
   "outputs": [
    {
     "data": {
      "text/plain": [
       "['PULP_CBC_CMD']"
      ]
     },
     "execution_count": 2,
     "metadata": {},
     "output_type": "execute_result"
    }
   ],
   "execution_count": 2
  },
  {
   "metadata": {},
   "cell_type": "markdown",
   "source": "# h5py",
   "id": "2abb984b22438a5"
  },
  {
   "metadata": {
    "ExecuteTime": {
     "end_time": "2024-09-15T13:24:22.525139Z",
     "start_time": "2024-09-15T13:24:20.176271Z"
    }
   },
   "cell_type": "code",
   "source": "df = pd.read_csv('/Users/macbook/CODE/MS/data/MSn/MSn/MassSpecGym.tsv', sep='\\t')",
   "id": "74c28a10d0b1d093",
   "outputs": [],
   "execution_count": 9
  },
  {
   "metadata": {
    "ExecuteTime": {
     "end_time": "2024-09-15T13:24:29.289343Z",
     "start_time": "2024-09-15T13:24:29.286540Z"
    }
   },
   "cell_type": "code",
   "source": "len(df)",
   "id": "481067584d417dc2",
   "outputs": [
    {
     "data": {
      "text/plain": [
       "231104"
      ]
     },
     "execution_count": 10,
     "metadata": {},
     "output_type": "execute_result"
    }
   ],
   "execution_count": 10
  },
  {
   "metadata": {
    "ExecuteTime": {
     "end_time": "2024-09-15T13:25:26.397089Z",
     "start_time": "2024-09-15T13:25:19.920814Z"
    }
   },
   "cell_type": "code",
   "source": [
    "f = h5py.File('/Users/macbook/CODE/MS/data/MSn/MSn/all_smiles_mces.hdf5', 'r')\n",
    "print(list(f.keys()))\n",
    "dists = squareform(f['mces'])\n",
    "dists_smiles = f['mces_smiles_order'][:].astype(str).tolist()\n",
    "dists.shape, len(dists_smiles)\n"
   ],
   "id": "d35614df6dcb2e2",
   "outputs": [
    {
     "name": "stdout",
     "output_type": "stream",
     "text": [
      "['mces', 'mces_smiles_order']\n"
     ]
    },
    {
     "data": {
      "text/plain": [
       "((34731, 34731), 34731)"
      ]
     },
     "execution_count": 11,
     "metadata": {},
     "output_type": "execute_result"
    }
   ],
   "execution_count": 11
  },
  {
   "metadata": {
    "ExecuteTime": {
     "end_time": "2024-09-15T13:26:26.607803Z",
     "start_time": "2024-09-15T13:26:26.604914Z"
    }
   },
   "cell_type": "code",
   "source": "len(dists_smiles)",
   "id": "9977ed540a5b751b",
   "outputs": [
    {
     "data": {
      "text/plain": [
       "34731"
      ]
     },
     "execution_count": 13,
     "metadata": {},
     "output_type": "execute_result"
    }
   ],
   "execution_count": 13
  },
  {
   "metadata": {
    "ExecuteTime": {
     "end_time": "2024-09-15T13:26:39.022082Z",
     "start_time": "2024-09-15T13:26:36.115625Z"
    }
   },
   "cell_type": "code",
   "source": [
    "for s in df['smiles'].unique():\n",
    "    assert s in dists_smiles"
   ],
   "id": "829a6bd88ac435cc",
   "outputs": [],
   "execution_count": 14
  },
  {
   "metadata": {
    "ExecuteTime": {
     "end_time": "2024-09-15T13:28:48.372762Z",
     "start_time": "2024-09-15T13:28:48.295686Z"
    }
   },
   "cell_type": "code",
   "source": [
    "common_smiles = set(unique_smiles) & set(dists_smiles)\n",
    "\n",
    "# Count how many unique_smiles are in dists_smiles\n",
    "count = len(common_smiles)\n",
    "\n",
    "print(f\"Number of unique_smiles in dists_smiles: {count}\")"
   ],
   "id": "2b6e84c31737d7e3",
   "outputs": [
    {
     "name": "stdout",
     "output_type": "stream",
     "text": [
      "Number of unique_smiles in dists_smiles: 62\n"
     ]
    }
   ],
   "execution_count": 16
  },
  {
   "metadata": {},
   "cell_type": "code",
   "outputs": [],
   "execution_count": null,
   "source": "",
   "id": "568c9ab7bfa47e03"
  },
  {
   "metadata": {},
   "cell_type": "code",
   "outputs": [],
   "execution_count": null,
   "source": "",
   "id": "e2e1a653ebab515a"
  },
  {
   "metadata": {
    "ExecuteTime": {
     "end_time": "2024-09-15T13:40:03.816134Z",
     "start_time": "2024-09-15T13:37:19.984200Z"
    }
   },
   "cell_type": "code",
   "source": [
    "# Create computation indices for MCES (all pairs, excluding self-comparisons)\n",
    "computation_indices = []\n",
    "for i in range(len(unique_smiles)):\n",
    "    for j in range(i + 1, len(unique_smiles)):\n",
    "        computation_indices.append([len(computation_indices), i, j])\n",
    "\n",
    "# Save the input HDF5 file\n",
    "with h5py.File('/Users/macbook/CODE/MS/data/MSn/MSn/mces_input.hdf5', 'w') as f:\n",
    "    f.create_dataset('smiles', data=np.array(unique_smiles, dtype='S'))\n",
    "    f.create_dataset('computation_indices', data=np.array(computation_indices, dtype='i'))"
   ],
   "id": "5f8e0eecce971c1",
   "outputs": [],
   "execution_count": 17
  },
  {
   "metadata": {},
   "cell_type": "code",
   "outputs": [],
   "execution_count": null,
   "source": "",
   "id": "4918cc2f9bcfcae8"
  },
  {
   "metadata": {},
   "cell_type": "code",
   "outputs": [],
   "execution_count": null,
   "source": "",
   "id": "e9f2759c3acfd98a"
  },
  {
   "metadata": {},
   "cell_type": "code",
   "outputs": [],
   "execution_count": null,
   "source": [
    "\n",
    "# Verify that the distance matrix is symmetric\n",
    "from scipy.linalg import issymmetric\n",
    "assert issymmetric(dists)"
   ],
   "id": "caa416b87adb9e27"
  },
  {
   "metadata": {},
   "cell_type": "code",
   "outputs": [],
   "execution_count": null,
   "source": "",
   "id": "35e31c591b161fd5"
  },
  {
   "metadata": {},
   "cell_type": "code",
   "outputs": [],
   "execution_count": null,
   "source": [
    "# Verify that the distance matrix is symmetric\n",
    "from scipy.linalg import issymmetric\n",
    "assert issymmetric(dists)"
   ],
   "id": "29ac8646cdfa65c2"
  },
  {
   "metadata": {
    "ExecuteTime": {
     "end_time": "2024-09-15T11:24:02.327862Z",
     "start_time": "2024-09-15T11:24:02.323505Z"
    }
   },
   "cell_type": "code",
   "source": "pulp.listSolvers(onlyAvailable=True)",
   "id": "8f185b97c06696d1",
   "outputs": [
    {
     "data": {
      "text/plain": [
       "['PULP_CBC_CMD']"
      ]
     },
     "execution_count": 12,
     "metadata": {},
     "output_type": "execute_result"
    }
   ],
   "execution_count": 12
  },
  {
   "metadata": {},
   "cell_type": "code",
   "outputs": [],
   "execution_count": null,
   "source": "",
   "id": "69d03ee8fb33e979"
  },
  {
   "metadata": {},
   "cell_type": "code",
   "outputs": [],
   "execution_count": null,
   "source": "",
   "id": "97bd47fc60f2b075"
  },
  {
   "metadata": {},
   "cell_type": "code",
   "outputs": [],
   "execution_count": null,
   "source": "",
   "id": "855f51071cdd3c4b"
  },
  {
   "metadata": {},
   "cell_type": "code",
   "outputs": [],
   "execution_count": null,
   "source": "",
   "id": "151035db32a1a213"
  },
  {
   "metadata": {},
   "cell_type": "code",
   "outputs": [],
   "execution_count": null,
   "source": [
    "\n",
    "\n",
    "# Prepare MCES or alternative distance matrix for clustering\n",
    "# Here we create a placeholder distance matrix with random values\n",
    "# Replace with your distance calculation logic\n",
    "num_smiles = len(unique_smiles)\n",
    "dists = np.random.rand(num_smiles, num_smiles)\n",
    "dists = (dists + dists.T) / 2  # Symmetrize the matrix to ensure it's valid\n",
    "np.fill_diagonal(dists, 0)  # Set diagonal to zero for self-distance\n",
    "\n",
    "# Check if the matrix is symmetric\n",
    "from scipy.linalg import issymmetric\n",
    "assert issymmetric(dists)\n",
    "\n",
    "# Perform Agglomerative Clustering using the precomputed distances\n",
    "clustering = AgglomerativeClustering(\n",
    "    metric='precomputed',\n",
    "    linkage='single',\n",
    "    distance_threshold=10,\n",
    "    n_clusters=None\n",
    ").fit(dists)\n",
    "\n",
    "# Get cluster labels\n",
    "clusters = clustering.labels_\n",
    "\n",
    "# Create a DataFrame for the SMILES and their clusters\n",
    "df = pd.DataFrame({'smiles': unique_smiles, 'cluster': clusters})\n",
    "\n",
    "# Define a placeholder for collision energies and other metadata for stratification\n",
    "# Here, we add mock data; replace with your actual data extraction logic\n",
    "df['collision_energy'] = np.random.choice(['10.0', '20.0', '30.0', 'other'], size=len(df))\n",
    "df['instrument_type'] = np.random.choice(['ITFT', 'QFT', 'Other'], size=len(df))\n",
    "df['adduct'] = np.random.choice(['[M+H]+', '[M+Na]+'], size=len(df))\n",
    "\n",
    "# Define stratification groups based on the metadata\n",
    "def simple_ce(ce):\n",
    "    if ce in ['10.0', '20.0', '30.0']:\n",
    "        return ce\n",
    "    return 'other'\n",
    "\n",
    "def stratification_group(row):\n",
    "    return str(row['adduct']) + str(row['instrument_type']) + str(simple_ce(row['collision_energy']))\n",
    "\n",
    "df['stratification_group'] = df.apply(stratification_group, axis=1)\n",
    "\n",
    "# Perform the train-validation-test split\n",
    "X = df.index.values  # Use indices as identifiers\n",
    "y = df['stratification_group'].values\n",
    "groups = df['cluster'].values\n",
    "\n",
    "sgkf = StratifiedGroupKFold(n_splits=3)\n",
    "sgkf_split = sgkf.split(X, y, groups)\n",
    "\n",
    "# Assign the splits to the DataFrame\n",
    "folds_map = {}\n",
    "for i, (train_index, test_index) in enumerate(sgkf_split):\n",
    "    fold_name = ['train', 'val', 'test'][i]\n",
    "    for idx in test_index:\n",
    "        folds_map[idx] = fold_name\n",
    "\n",
    "df['fold'] = df.index.map(folds_map)\n",
    "\n",
    "# Show the split composition\n",
    "def fold_composition(df_q, percentage=True):\n",
    "    unique_counts = df_q.groupby(['fold']).agg({'smiles': 'nunique'})\n",
    "    if not percentage:\n",
    "        res = unique_counts\n",
    "    else:\n",
    "        total_counts = df_q.agg({'smiles': 'nunique'})\n",
    "        percentage_counts = (unique_counts / total_counts) * 100\n",
    "        res = percentage_counts.round(2)\n",
    "    return res\n",
    "\n",
    "print('Fold composition:')\n",
    "print(fold_composition(df))\n",
    "\n",
    "# Save the split data to a file\n",
    "df.to_csv('/Users/macbook/CODE/MS/data/MSn/MSn/MassSpecGym_split.tsv', sep='\\t', index=False)"
   ],
   "id": "5895982026a72dc"
  },
  {
   "metadata": {},
   "cell_type": "code",
   "outputs": [],
   "execution_count": null,
   "source": "",
   "id": "ec34258dff05a078"
  },
  {
   "metadata": {},
   "cell_type": "code",
   "outputs": [],
   "execution_count": null,
   "source": "",
   "id": "c45b8c91e7eb274a"
  },
  {
   "metadata": {},
   "cell_type": "code",
   "outputs": [],
   "execution_count": null,
   "source": "",
   "id": "64858324565a33ef"
  },
  {
   "metadata": {},
   "cell_type": "code",
   "outputs": [],
   "execution_count": null,
   "source": "",
   "id": "9ae6af39de5735ff"
  },
  {
   "metadata": {},
   "cell_type": "code",
   "outputs": [],
   "execution_count": null,
   "source": "",
   "id": "da653fc27394923a"
  }
 ],
 "metadata": {
  "kernelspec": {
   "display_name": "Python 3",
   "language": "python",
   "name": "python3"
  },
  "language_info": {
   "codemirror_mode": {
    "name": "ipython",
    "version": 2
   },
   "file_extension": ".py",
   "mimetype": "text/x-python",
   "name": "python",
   "nbconvert_exporter": "python",
   "pygments_lexer": "ipython2",
   "version": "2.7.6"
  }
 },
 "nbformat": 4,
 "nbformat_minor": 5
}
