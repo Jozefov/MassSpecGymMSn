{
 "cells": [
  {
   "cell_type": "code",
   "id": "initial_id",
   "metadata": {
    "collapsed": true,
    "ExecuteTime": {
     "end_time": "2024-09-16T14:17:14.647262Z",
     "start_time": "2024-09-16T14:17:12.178156Z"
    }
   },
   "source": [
    "from matchms.importing import load_from_mgf\n",
    "import os\n",
    "from collections import defaultdict\n",
    "import numpy as np\n",
    "from collections import Counter\n",
    "import pandas as pd\n",
    "import json\n",
    "\n",
    "from massspecgym.data.transforms import MolFingerprinter\n",
    "from massspecgym.data.datasets import MSnDataset\n",
    "from massspecgym.utils import (\n",
    "    morgan_fp, init_plotting, smiles_to_scaffold,\n",
    "    train_val_test_split, create_split_file,\n",
    "    MyopicMCES\n",
    "    )"
   ],
   "outputs": [],
   "execution_count": 1
  },
  {
   "metadata": {
    "jupyter": {
     "is_executing": true
    },
    "ExecuteTime": {
     "start_time": "2024-09-16T14:17:14.655765Z"
    }
   },
   "cell_type": "code",
   "source": [
    "fingerprinter = MolFingerprinter()\n",
    "msn_dataset = MSnDataset(pth=\"/Users/macbook/CODE/MS/data/MSn/MSn/20240914_msn_library_pos_all_lib_MSn.mgf\", mol_transform=MolFingerprinter.from_smiles)\n",
    "print(len(msn_dataset))"
   ],
   "id": "fdd079824570a724",
   "outputs": [],
   "execution_count": null
  },
  {
   "metadata": {},
   "cell_type": "code",
   "outputs": [],
   "execution_count": null,
   "source": "",
   "id": "14b75aa4f4422020"
  },
  {
   "metadata": {},
   "cell_type": "code",
   "outputs": [],
   "execution_count": null,
   "source": "",
   "id": "366ddfb7b4694cbb"
  },
  {
   "metadata": {},
   "cell_type": "code",
   "outputs": [],
   "execution_count": null,
   "source": "",
   "id": "19918fbef312dbe4"
  },
  {
   "metadata": {},
   "cell_type": "code",
   "outputs": [],
   "execution_count": null,
   "source": "",
   "id": "fa0a4c97322a46c7"
  }
 ],
 "metadata": {
  "kernelspec": {
   "display_name": "Python 3",
   "language": "python",
   "name": "python3"
  },
  "language_info": {
   "codemirror_mode": {
    "name": "ipython",
    "version": 2
   },
   "file_extension": ".py",
   "mimetype": "text/x-python",
   "name": "python",
   "nbconvert_exporter": "python",
   "pygments_lexer": "ipython2",
   "version": "2.7.6"
  }
 },
 "nbformat": 4,
 "nbformat_minor": 5
}
