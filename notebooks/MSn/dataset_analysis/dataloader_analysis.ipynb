{
 "cells": [
  {
   "cell_type": "code",
   "id": "initial_id",
   "metadata": {
    "collapsed": true,
    "ExecuteTime": {
     "end_time": "2024-12-13T08:11:41.517839Z",
     "start_time": "2024-12-13T08:11:38.396616Z"
    }
   },
   "source": [
    "from massspecgym.data.transforms import MolFingerprinter, MolToInChIKey, MolToFormulaVector\n",
    "from massspecgym.data.datasets import MSnDataset\n",
    "from massspecgym.featurize import SpectrumFeaturizer\n",
    "from massspecgym.data.data_module import MassSpecDataModule"
   ],
   "outputs": [],
   "execution_count": 1
  },
  {
   "metadata": {
    "ExecuteTime": {
     "end_time": "2024-12-13T08:11:41.523584Z",
     "start_time": "2024-12-13T08:11:41.521661Z"
    }
   },
   "cell_type": "code",
   "source": [
    "config = {\n",
    "    'features': ['collision_energy', 'ionmode', 'adduct', 'spectrum_stats', 'atom_counts', 'value', \"retention_time\", 'ion_source', 'binned_peaks'],\n",
    "    'feature_attributes': {\n",
    "        'atom_counts': {\n",
    "            'top_n_atoms': 12,\n",
    "            'include_other': True,\n",
    "        },\n",
    "    },\n",
    "}"
   ],
   "id": "863f7abf9f8cf756",
   "outputs": [],
   "execution_count": 2
  },
  {
   "metadata": {
    "ExecuteTime": {
     "end_time": "2024-12-13T08:11:41.565093Z",
     "start_time": "2024-12-13T08:11:41.563358Z"
    }
   },
   "cell_type": "code",
   "source": "featurizer = SpectrumFeaturizer(config, mode='torch')",
   "id": "773057f3f906724a",
   "outputs": [],
   "execution_count": 3
  },
  {
   "metadata": {
    "ExecuteTime": {
     "end_time": "2024-12-13T08:20:26.587545Z",
     "start_time": "2024-12-13T08:11:41.569442Z"
    }
   },
   "cell_type": "code",
   "source": [
    "# fingerprinter = MolFingerprinter()\n",
    "# mol_transform = MolToFormulaVector()\n",
    "# mol_transform = MolToInChIKey()\n",
    "mol_transform = MolFingerprinter()\n",
    "msn_dataset = MSnDataset(pth=\"/Users/macbook/CODE/Majer:MassSpecGym/data/MSn/20240929_msn_library_pos_all_lib_MSn.mgf\",\n",
    "                         mol_transform=mol_transform,\n",
    "                         featurizer=featurizer,\n",
    "                         max_allowed_deviation=0.005)\n",
    "print(len(msn_dataset))"
   ],
   "id": "ddadbfc7bd92fd9e",
   "outputs": [
    {
     "name": "stdout",
     "output_type": "stream",
     "text": [
      "16476\n"
     ]
    }
   ],
   "execution_count": 4
  },
  {
   "metadata": {
    "ExecuteTime": {
     "end_time": "2024-12-13T08:20:26.596536Z",
     "start_time": "2024-12-13T08:20:26.592369Z"
    }
   },
   "cell_type": "code",
   "source": "msn_dataset[0] ",
   "id": "544c91099399427b",
   "outputs": [
    {
     "data": {
      "text/plain": [
       "{'spec': Data(x=[14, 1039], edge_index=[2, 13]),\n",
       " 'mol': tensor([0., 0., 0.,  ..., 0., 0., 0.])}"
      ]
     },
     "execution_count": 5,
     "metadata": {},
     "output_type": "execute_result"
    }
   ],
   "execution_count": 5
  },
  {
   "metadata": {},
   "cell_type": "markdown",
   "source": "## Test MassSpecDataModule",
   "id": "828ad17d92b3a849"
  },
  {
   "metadata": {
    "ExecuteTime": {
     "end_time": "2024-12-13T08:20:26.612449Z",
     "start_time": "2024-12-13T08:20:26.610669Z"
    }
   },
   "cell_type": "code",
   "source": "BATCH_SIZE = 12",
   "id": "130d8cb9da408095",
   "outputs": [],
   "execution_count": 6
  },
  {
   "metadata": {
    "ExecuteTime": {
     "end_time": "2024-12-13T08:20:26.618498Z",
     "start_time": "2024-12-13T08:20:26.616841Z"
    }
   },
   "cell_type": "code",
   "source": [
    "data_module = MassSpecDataModule(\n",
    "    dataset=msn_dataset,\n",
    "    batch_size=BATCH_SIZE,\n",
    "    num_workers=0,\n",
    "    split_pth=\"/Users/macbook/CODE/Majer:MassSpecGym/data/MSn/20240929_split.tsv\"\n",
    ")"
   ],
   "id": "9ef25a0221e1e18",
   "outputs": [],
   "execution_count": 7
  },
  {
   "metadata": {
    "ExecuteTime": {
     "end_time": "2024-12-13T08:20:26.638175Z",
     "start_time": "2024-12-13T08:20:26.622456Z"
    }
   },
   "cell_type": "code",
   "source": [
    "data_module.prepare_data()\n",
    "data_module.setup()"
   ],
   "id": "e36e53ad526c0585",
   "outputs": [
    {
     "name": "stdout",
     "output_type": "stream",
     "text": [
      "here I am\n",
      "Train dataset size: 12550\n",
      "Val dataset size: 1938\n"
     ]
    }
   ],
   "execution_count": 8
  },
  {
   "metadata": {
    "ExecuteTime": {
     "end_time": "2024-12-13T08:20:26.648415Z",
     "start_time": "2024-12-13T08:20:26.642233Z"
    }
   },
   "cell_type": "code",
   "source": "data_module.setup(\"test\")",
   "id": "ac1654129820834b",
   "outputs": [
    {
     "name": "stdout",
     "output_type": "stream",
     "text": [
      "here I am\n",
      "Train dataset size: 12550\n",
      "Val dataset size: 1938\n"
     ]
    }
   ],
   "execution_count": 9
  },
  {
   "metadata": {
    "ExecuteTime": {
     "end_time": "2024-12-13T08:20:26.654688Z",
     "start_time": "2024-12-13T08:20:26.652544Z"
    }
   },
   "cell_type": "code",
   "source": [
    "train_loader = data_module.train_dataloader()\n",
    "val_loader = data_module.val_dataloader()\n",
    "test_loader = data_module.test_dataloader()\n",
    "\n",
    "print(f\"Number of training samples: {len(data_module.train_dataset)}\")\n",
    "print(f\"Number of validation samples: {len(data_module.val_dataset)}\")\n",
    "print(f\"Number of test samples: {len(data_module.test_dataset)}\")\n",
    "print()\n",
    "print(f\"Number of training batches: {len(train_loader)}\")\n",
    "print(f\"Number of validation batches: {len(val_loader)}\")\n",
    "print(f\"Number of test batches: {len(test_loader)}\")"
   ],
   "id": "a5f6a1894fc1d8d3",
   "outputs": [
    {
     "name": "stdout",
     "output_type": "stream",
     "text": [
      "Number of training samples: 12550\n",
      "Number of validation samples: 1938\n",
      "Number of test samples: 1988\n",
      "\n",
      "Number of training batches: 1046\n",
      "Number of validation batches: 162\n",
      "Number of test batches: 166\n"
     ]
    }
   ],
   "execution_count": 10
  },
  {
   "metadata": {},
   "cell_type": "code",
   "outputs": [],
   "execution_count": null,
   "source": "test_loader = data_module.test_dataloader()",
   "id": "b7e0ce3e098bfda9"
  },
  {
   "metadata": {},
   "cell_type": "code",
   "outputs": [],
   "execution_count": null,
   "source": "len(data_module.test_dataset)",
   "id": "9ab50fb8f8a4af10"
  },
  {
   "metadata": {},
   "cell_type": "code",
   "outputs": [],
   "execution_count": null,
   "source": [
    "for batch in train_loader:\n",
    "    print(\"co\")\n",
    "    # print(batch['spec_tree'])\n",
    "    # print(batch['mol'].shape)\n",
    "    break"
   ],
   "id": "3dd732c1ca5171ca"
  },
  {
   "metadata": {},
   "cell_type": "code",
   "outputs": [],
   "execution_count": null,
   "source": [
    "for batch in val_loader:\n",
    "    print(\"co\")\n",
    "    break"
   ],
   "id": "49e0512dc94bc73d"
  },
  {
   "metadata": {},
   "cell_type": "code",
   "outputs": [],
   "execution_count": null,
   "source": [
    "for batch in val_loader:\n",
    "    print(batch)\n",
    "    break"
   ],
   "id": "d55e4955c1705606"
  },
  {
   "metadata": {},
   "cell_type": "code",
   "outputs": [],
   "execution_count": null,
   "source": [
    "for batch in val_loader:\n",
    "    print(batch.keys())\n",
    "    break"
   ],
   "id": "addd5f5034e6229f"
  },
  {
   "metadata": {},
   "cell_type": "code",
   "outputs": [],
   "execution_count": null,
   "source": "import torch",
   "id": "8fcd89ed034757d7"
  },
  {
   "metadata": {},
   "cell_type": "code",
   "outputs": [],
   "execution_count": null,
   "source": [
    "counter_i = 0\n",
    "for batch in test_loader:\n",
    "    print(\"som tu\")\n",
    "    print(batch['spec'])\n",
    "    print(f\"Type of batch['mol']: {type(batch['mol'])}\")\n",
    "    if isinstance(batch['mol'], torch.Tensor):\n",
    "        print(f\"Shape of batch['mol']: {batch['mol'].shape}\")\n",
    "    elif isinstance(batch['mol'], list):\n",
    "        print(f\"batch['mol'] is a list with length {len(batch['mol'])}\")\n",
    "        print(f\"First element type: {type(batch['mol'][0])}\")\n",
    "    else:\n",
    "        print(\"batch['mol'] is of an unexpected type.\")\n",
    "    counter_i += 1\n",
    "print(counter_i)\n",
    "    "
   ],
   "id": "9392a69662f5d96e"
  },
  {
   "metadata": {},
   "cell_type": "code",
   "outputs": [],
   "execution_count": null,
   "source": "batch[\"mol\"]",
   "id": "df1202a49ba128d7"
  },
  {
   "metadata": {},
   "cell_type": "code",
   "outputs": [],
   "execution_count": null,
   "source": "",
   "id": "d0ca06655c7d7d5d"
  },
  {
   "metadata": {},
   "cell_type": "code",
   "outputs": [],
   "execution_count": null,
   "source": "",
   "id": "61b4bcb02e12b08b"
  },
  {
   "metadata": {},
   "cell_type": "code",
   "outputs": [],
   "execution_count": null,
   "source": "",
   "id": "856e878c524ea534"
  },
  {
   "metadata": {},
   "cell_type": "code",
   "outputs": [],
   "execution_count": null,
   "source": "",
   "id": "ddf376694ef41153"
  }
 ],
 "metadata": {
  "kernelspec": {
   "display_name": "Python 3",
   "language": "python",
   "name": "python3"
  },
  "language_info": {
   "codemirror_mode": {
    "name": "ipython",
    "version": 2
   },
   "file_extension": ".py",
   "mimetype": "text/x-python",
   "name": "python",
   "nbconvert_exporter": "python",
   "pygments_lexer": "ipython2",
   "version": "2.7.6"
  }
 },
 "nbformat": 4,
 "nbformat_minor": 5
}
