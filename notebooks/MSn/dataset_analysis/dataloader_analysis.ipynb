{
 "cells": [
  {
   "cell_type": "code",
   "id": "initial_id",
   "metadata": {
    "collapsed": true,
    "ExecuteTime": {
     "end_time": "2024-11-27T11:43:36.942338Z",
     "start_time": "2024-11-27T11:43:33.272122Z"
    }
   },
   "source": [
    "from massspecgym.data.transforms import MolFingerprinter, MolToInChIKey, MolToFormulaVector\n",
    "from massspecgym.data.datasets import MSnDataset\n",
    "from massspecgym.featurize import SpectrumFeaturizer\n",
    "from massspecgym.data.data_module import MassSpecDataModule"
   ],
   "outputs": [],
   "execution_count": 1
  },
  {
   "metadata": {
    "ExecuteTime": {
     "end_time": "2024-11-27T11:43:36.948367Z",
     "start_time": "2024-11-27T11:43:36.946136Z"
    }
   },
   "cell_type": "code",
   "source": [
    "config = {\n",
    "    'features': ['collision_energy', 'ionmode', 'adduct', 'spectrum_stats', 'atom_counts', 'value', \"retention_time\", 'ion_source', 'binned_peaks'],\n",
    "    'feature_attributes': {\n",
    "        'atom_counts': {\n",
    "            'top_n_atoms': 12,\n",
    "            'include_other': True,\n",
    "        },\n",
    "    },\n",
    "}"
   ],
   "id": "863f7abf9f8cf756",
   "outputs": [],
   "execution_count": 2
  },
  {
   "metadata": {
    "ExecuteTime": {
     "end_time": "2024-11-27T11:43:36.996541Z",
     "start_time": "2024-11-27T11:43:36.994431Z"
    }
   },
   "cell_type": "code",
   "source": "featurizer = SpectrumFeaturizer(config, mode='torch')",
   "id": "773057f3f906724a",
   "outputs": [],
   "execution_count": 3
  },
  {
   "metadata": {
    "ExecuteTime": {
     "end_time": "2024-11-27T11:54:14.225211Z",
     "start_time": "2024-11-27T11:43:37.002587Z"
    }
   },
   "cell_type": "code",
   "source": [
    "# fingerprinter = MolFingerprinter()\n",
    "# mol_transform = MolToFormulaVector()\n",
    "# mol_transform = MolToInChIKey()\n",
    "mol_transform = MolFingerprinter()\n",
    "msn_dataset = MSnDataset(pth=\"/Users/macbook/CODE/Majer:MassSpecGym/data/MSn/20240929_msn_library_pos_all_lib_MSn.mgf\",\n",
    "                         mol_transform=mol_transform,\n",
    "                         featurizer=featurizer,\n",
    "                         max_allowed_deviation=0.005)\n",
    "print(len(msn_dataset))"
   ],
   "id": "ddadbfc7bd92fd9e",
   "outputs": [
    {
     "name": "stdout",
     "output_type": "stream",
     "text": [
      "16476\n"
     ]
    }
   ],
   "execution_count": 4
  },
  {
   "metadata": {
    "ExecuteTime": {
     "end_time": "2024-11-27T11:54:30.459436Z",
     "start_time": "2024-11-27T11:54:30.454045Z"
    }
   },
   "cell_type": "code",
   "source": "msn_dataset[0] ",
   "id": "544c91099399427b",
   "outputs": [
    {
     "data": {
      "text/plain": [
       "{'spec_tree': Data(x=[14, 1039], edge_index=[2, 13]),\n",
       " 'mol': tensor([0., 0., 0.,  ..., 0., 0., 0.])}"
      ]
     },
     "execution_count": 7,
     "metadata": {},
     "output_type": "execute_result"
    }
   ],
   "execution_count": 7
  },
  {
   "metadata": {},
   "cell_type": "markdown",
   "source": "## Test MassSpecDataModule",
   "id": "828ad17d92b3a849"
  },
  {
   "metadata": {
    "ExecuteTime": {
     "end_time": "2024-09-30T13:35:25.019583Z",
     "start_time": "2024-09-30T13:35:25.017736Z"
    }
   },
   "cell_type": "code",
   "source": "BATCH_SIZE = 12",
   "id": "130d8cb9da408095",
   "outputs": [],
   "execution_count": 5
  },
  {
   "metadata": {
    "ExecuteTime": {
     "end_time": "2024-09-30T13:35:25.027796Z",
     "start_time": "2024-09-30T13:35:25.026077Z"
    }
   },
   "cell_type": "code",
   "source": [
    "data_module = MassSpecDataModule(\n",
    "    dataset=msn_dataset,\n",
    "    batch_size=BATCH_SIZE,\n",
    "    num_workers=0,\n",
    "    split_pth=\"/Users/macbook/CODE/Majer:MassSpecGym/data/MSn/20240929_split.tsv\"\n",
    ")"
   ],
   "id": "9ef25a0221e1e18",
   "outputs": [],
   "execution_count": 6
  },
  {
   "metadata": {
    "ExecuteTime": {
     "end_time": "2024-09-30T13:35:25.061677Z",
     "start_time": "2024-09-30T13:35:25.043085Z"
    }
   },
   "cell_type": "code",
   "source": [
    "data_module.prepare_data()\n",
    "data_module.setup()"
   ],
   "id": "e36e53ad526c0585",
   "outputs": [],
   "execution_count": 7
  },
  {
   "metadata": {
    "ExecuteTime": {
     "end_time": "2024-09-30T13:35:25.073754Z",
     "start_time": "2024-09-30T13:35:25.067107Z"
    }
   },
   "cell_type": "code",
   "source": "data_module.setup(\"test\")",
   "id": "ac1654129820834b",
   "outputs": [],
   "execution_count": 8
  },
  {
   "metadata": {
    "ExecuteTime": {
     "end_time": "2024-09-30T13:35:25.081590Z",
     "start_time": "2024-09-30T13:35:25.079059Z"
    }
   },
   "cell_type": "code",
   "source": [
    "train_loader = data_module.train_dataloader()\n",
    "val_loader = data_module.val_dataloader()\n",
    "test_loader = data_module.test_dataloader()\n",
    "\n",
    "print(f\"Number of training samples: {len(data_module.train_dataset)}\")\n",
    "print(f\"Number of validation samples: {len(data_module.val_dataset)}\")\n",
    "print(f\"Number of test samples: {len(data_module.test_dataset)}\")\n",
    "print()\n",
    "print(f\"Number of training batches: {len(train_loader)}\")\n",
    "print(f\"Number of validation batches: {len(val_loader)}\")\n",
    "print(f\"Number of test batches: {len(test_loader)}\")"
   ],
   "id": "a5f6a1894fc1d8d3",
   "outputs": [
    {
     "name": "stdout",
     "output_type": "stream",
     "text": [
      "Number of training samples: 12550\n",
      "Number of validation samples: 1938\n",
      "Number of test samples: 1988\n",
      "\n",
      "Number of training batches: 1046\n",
      "Number of validation batches: 162\n",
      "Number of test batches: 166\n"
     ]
    }
   ],
   "execution_count": 9
  },
  {
   "metadata": {
    "ExecuteTime": {
     "end_time": "2024-09-30T13:35:25.092090Z",
     "start_time": "2024-09-30T13:35:25.090772Z"
    }
   },
   "cell_type": "code",
   "source": "",
   "id": "c647775dad1fd30",
   "outputs": [],
   "execution_count": null
  },
  {
   "metadata": {
    "ExecuteTime": {
     "end_time": "2024-09-30T13:35:25.105440Z",
     "start_time": "2024-09-30T13:35:25.101843Z"
    }
   },
   "cell_type": "code",
   "source": [
    "for batch in test_loader:\n",
    "    print(batch['spec_tree'])\n",
    "    print(batch['mol'].shape)\n",
    "    break "
   ],
   "id": "ce1377ddddee4109",
   "outputs": [
    {
     "name": "stdout",
     "output_type": "stream",
     "text": [
      "DataBatch(x=[104, 1039], edge_index=[2, 92], batch=[104], ptr=[13])\n",
      "torch.Size([12, 2048])\n"
     ]
    }
   ],
   "execution_count": 10
  },
  {
   "metadata": {
    "ExecuteTime": {
     "end_time": "2024-09-30T13:35:25.118003Z",
     "start_time": "2024-09-30T13:35:25.116231Z"
    }
   },
   "cell_type": "code",
   "source": "import torch",
   "id": "f17dd78e9921df9a",
   "outputs": [],
   "execution_count": 11
  },
  {
   "metadata": {
    "ExecuteTime": {
     "end_time": "2024-09-30T13:35:25.126857Z",
     "start_time": "2024-09-30T13:35:25.123536Z"
    }
   },
   "cell_type": "code",
   "source": [
    "for batch in test_loader:\n",
    "    print(batch['spec_tree'])\n",
    "    print(f\"Type of batch['mol']: {type(batch['mol'])}\")\n",
    "    if isinstance(batch['mol'], torch.Tensor):\n",
    "        print(f\"Shape of batch['mol']: {batch['mol'].shape}\")\n",
    "    elif isinstance(batch['mol'], list):\n",
    "        print(f\"batch['mol'] is a list with length {len(batch['mol'])}\")\n",
    "        print(f\"First element type: {type(batch['mol'][0])}\")\n",
    "    else:\n",
    "        print(\"batch['mol'] is of an unexpected type.\")\n",
    "    break"
   ],
   "id": "8eda1ad641b14330",
   "outputs": [
    {
     "name": "stdout",
     "output_type": "stream",
     "text": [
      "DataBatch(x=[104, 1039], edge_index=[2, 92], batch=[104], ptr=[13])\n",
      "Type of batch['mol']: <class 'torch.Tensor'>\n",
      "Shape of batch['mol']: torch.Size([12, 2048])\n"
     ]
    }
   ],
   "execution_count": 12
  },
  {
   "metadata": {
    "ExecuteTime": {
     "end_time": "2024-09-30T13:35:25.151848Z",
     "start_time": "2024-09-30T13:35:25.147715Z"
    }
   },
   "cell_type": "code",
   "source": "batch[\"mol\"]",
   "id": "e7048fa09707929",
   "outputs": [
    {
     "data": {
      "text/plain": [
       "tensor([[0., 0., 0.,  ..., 0., 0., 0.],\n",
       "        [0., 1., 0.,  ..., 0., 0., 0.],\n",
       "        [0., 0., 0.,  ..., 0., 0., 0.],\n",
       "        ...,\n",
       "        [0., 0., 0.,  ..., 0., 0., 0.],\n",
       "        [0., 0., 0.,  ..., 0., 0., 0.],\n",
       "        [0., 1., 0.,  ..., 0., 0., 0.]])"
      ]
     },
     "execution_count": 13,
     "metadata": {},
     "output_type": "execute_result"
    }
   ],
   "execution_count": 13
  }
 ],
 "metadata": {
  "kernelspec": {
   "display_name": "Python 3",
   "language": "python",
   "name": "python3"
  },
  "language_info": {
   "codemirror_mode": {
    "name": "ipython",
    "version": 2
   },
   "file_extension": ".py",
   "mimetype": "text/x-python",
   "name": "python",
   "nbconvert_exporter": "python",
   "pygments_lexer": "ipython2",
   "version": "2.7.6"
  }
 },
 "nbformat": 4,
 "nbformat_minor": 5
}
