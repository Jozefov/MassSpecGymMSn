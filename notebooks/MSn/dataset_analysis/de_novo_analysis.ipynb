{
 "cells": [
  {
   "cell_type": "code",
   "id": "initial_id",
   "metadata": {
    "collapsed": true,
    "ExecuteTime": {
     "end_time": "2025-01-09T06:35:25.468290Z",
     "start_time": "2025-01-09T06:35:21.635843Z"
    }
   },
   "source": [
    "from massspecgym.data.datasets import MSnDataset, MassSpecDataset\n",
    "from massspecgym.data.transforms import MolFingerprinter, SpecTokenizer\n",
    "from massspecgym.data import MassSpecDataModule\n",
    "from massspecgym.featurize import SpectrumFeaturizer\n",
    "import torch"
   ],
   "outputs": [],
   "execution_count": 1
  },
  {
   "metadata": {
    "ExecuteTime": {
     "end_time": "2025-01-09T06:35:25.478479Z",
     "start_time": "2025-01-09T06:35:25.476461Z"
    }
   },
   "cell_type": "code",
   "source": [
    "file_mgf = \"/Users/macbook/CODE/Majer:MassSpecGym/data/MSn/20241211_msn_library_pos_all_lib_MSn.mgf\"\n",
    "file_json = \"/Users/macbook/CODE/Majer:MassSpecGym/data/Retrieval/MassSpecGym_retrieval_candidates_mass.json\"\n",
    "split_file = \"/Users/macbook/CODE/Majer:MassSpecGym/data/MSn/20241211_split.tsv\"\n",
    "pth_massspecgym_original = \"/Users/macbook/CODE/Majer:MassSpecGym/data/MassSpecGym/MassSpecGym.tsv\""
   ],
   "id": "e983ec59668d735b",
   "outputs": [],
   "execution_count": 2
  },
  {
   "metadata": {
    "ExecuteTime": {
     "end_time": "2025-01-09T06:35:37.330043Z",
     "start_time": "2025-01-09T06:35:25.481941Z"
    }
   },
   "cell_type": "code",
   "source": [
    "# Init hyperparameters\n",
    "n_peaks = 60\n",
    "batch_size = 12\n",
    "\n",
    "# Load dataset\n",
    "dataset_original = MassSpecDataset(\n",
    "    pth=pth_massspecgym_original,\n",
    "    spec_transform=SpecTokenizer(n_peaks=n_peaks),\n",
    "    mol_transform=None,\n",
    ")"
   ],
   "id": "ca5594f23feef901",
   "outputs": [],
   "execution_count": 3
  },
  {
   "metadata": {
    "ExecuteTime": {
     "end_time": "2025-01-09T06:35:37.379788Z",
     "start_time": "2025-01-09T06:35:37.377896Z"
    }
   },
   "cell_type": "code",
   "source": [
    "# Init data module\n",
    "data_module_original = MassSpecDataModule(\n",
    "    dataset=dataset_original,\n",
    "    batch_size=batch_size,\n",
    "    num_workers=0,\n",
    ")"
   ],
   "id": "d27545321be5f3c1",
   "outputs": [],
   "execution_count": 4
  },
  {
   "metadata": {
    "ExecuteTime": {
     "end_time": "2025-01-09T06:35:37.439848Z",
     "start_time": "2025-01-09T06:35:37.390738Z"
    }
   },
   "cell_type": "code",
   "source": [
    "data_module_original.prepare_data()\n",
    "data_module_original.setup()\n",
    "\n",
    "train_loader_original = data_module_original.train_dataloader()"
   ],
   "id": "f3a344dd85d8977",
   "outputs": [
    {
     "name": "stdout",
     "output_type": "stream",
     "text": [
      "Train dataset size: 194119\n",
      "Val dataset size: 19429\n"
     ]
    }
   ],
   "execution_count": 5
  },
  {
   "metadata": {
    "ExecuteTime": {
     "end_time": "2025-01-09T06:35:37.495622Z",
     "start_time": "2025-01-09T06:35:37.457717Z"
    }
   },
   "cell_type": "code",
   "source": [
    "tmp_original = []\n",
    "for batch in train_loader_original:\n",
    "    print(batch)\n",
    "    tmp_original = batch\n",
    "    break"
   ],
   "id": "f8b0e9bdf2c20ec0",
   "outputs": [
    {
     "name": "stdout",
     "output_type": "stream",
     "text": [
      "{'spec': tensor([[[2.4616e+02, 1.1000e+00],\n",
      "         [5.3003e+01, 5.5011e-04],\n",
      "         [5.3998e+01, 5.8460e-04],\n",
      "         ...,\n",
      "         [0.0000e+00, 0.0000e+00],\n",
      "         [0.0000e+00, 0.0000e+00],\n",
      "         [0.0000e+00, 0.0000e+00]],\n",
      "\n",
      "        [[7.8459e+02, 1.1000e+00],\n",
      "         [1.6613e+02, 1.3962e-03],\n",
      "         [1.8400e+02, 1.0000e+00],\n",
      "         ...,\n",
      "         [7.8479e+02, 1.7289e-02],\n",
      "         [7.8569e+02, 2.7631e-03],\n",
      "         [7.8685e+02, 5.1936e-04]],\n",
      "\n",
      "        [[3.2414e+02, 1.1000e+00],\n",
      "         [9.6044e+01, 1.5864e-01],\n",
      "         [9.7051e+01, 6.2263e-02],\n",
      "         ...,\n",
      "         [0.0000e+00, 0.0000e+00],\n",
      "         [0.0000e+00, 0.0000e+00],\n",
      "         [0.0000e+00, 0.0000e+00]],\n",
      "\n",
      "        ...,\n",
      "\n",
      "        [[3.5512e+02, 1.1000e+00],\n",
      "         [9.1054e+01, 1.0000e-02],\n",
      "         [1.0704e+02, 1.0000e-02],\n",
      "         ...,\n",
      "         [0.0000e+00, 0.0000e+00],\n",
      "         [0.0000e+00, 0.0000e+00],\n",
      "         [0.0000e+00, 0.0000e+00]],\n",
      "\n",
      "        [[1.7609e+02, 1.1000e+00],\n",
      "         [4.1039e+01, 1.3390e-02],\n",
      "         [4.5045e+01, 5.6500e-03],\n",
      "         ...,\n",
      "         [1.5907e+02, 7.6360e-02],\n",
      "         [1.7609e+02, 3.1162e-01],\n",
      "         [1.7708e+02, 1.1160e-02]],\n",
      "\n",
      "        [[3.0301e+02, 1.1000e+00],\n",
      "         [1.4503e+02, 1.1000e-02],\n",
      "         [1.5703e+02, 1.0000e-02],\n",
      "         ...,\n",
      "         [0.0000e+00, 0.0000e+00],\n",
      "         [0.0000e+00, 0.0000e+00],\n",
      "         [0.0000e+00, 0.0000e+00]]]), 'mol': ['CCCCCCC(=O)NCCC1=NC=CN1', 'CCCCCCCCCCCCCCCC(=O)OC[C@H](COP(=O)([O-])OCC[N+](C)(C)C)OC(=O)CCCCCC/C=C/C/C=C/C/C=C/CCCCC', 'CC(=O)NC1C(C2C(COC(O2)C3=CC=CC=C3)OC1OC)O', 'COC1=C(C2=C(C=C1O)OC(=CC2=O)C3=CC=C(C=C3)O)O', 'C1=CC=C(C(=C1)C(=O)CC(C(=O)O)N)N', 'COC1=C(C=CC(=C1)C2C3(COC(C3(CO2)O)C4=CC(=C(C=C4)O[C@H]5[C@@H]([C@H]([C@@H]([C@H](O5)CO)O)O)O)OC)O)O', 'CN1C(=C(C2=C(S1(=O)=O)C=CS2)O)C(=O)NC3=CC=CC=N3', 'C[C@]12CC[C@@H](C[C@]1(CC[C@@H]3[C@@H]2CC[C@]4([C@@]3(CC[C@@H]4C5=COC(=O)C=C5)O)C)O)O', 'C1=CC=C(C=C1)C[C@@H](C(=O)O)N', 'CC(=O)OC1=CC=C(C=C1)/C=C/C2=CC(=CC(=C2)OC(=O)C)OC(=O)C', 'C/C=C\\\\N1C=NC2=C(N=CN=C21)N', 'C1=C2C3=C(C(=C1O)O)OC(=O)C4=CC(=C(C(=C43)OC2=O)O)O'], 'precursor_mz': tensor([246.1580, 784.5860, 324.1450, 301.0700, 209.0927, 575.1740, 338.0300,\n",
      "        403.2479, 166.0863, 355.1176, 176.0931, 303.0100]), 'adduct': ['[M+Na]+', '[M+H]+', '[M+H]+', '[M+H]+', '[M+H]+', '[M+Na]+', '[M+H]+', '[M+H]+', '[M+H]+', '[M+H]+', '[M+H]+', '[M+H]+'], 'mol_freq': tensor([  3., 304.,   1.,  28.,  98.,   2.,  21.,  13., 138.,  30.,   2., 322.]), 'identifier': ['MassSpecGymID0391910', 'MassSpecGymID0403818', 'MassSpecGymID0398810', 'MassSpecGymID0195961', 'MassSpecGymID0161786', 'MassSpecGymID0193760', 'MassSpecGymID0052238', 'MassSpecGymID0222508', 'MassSpecGymID0067472', 'MassSpecGymID0106450', 'MassSpecGymID0235596', 'MassSpecGymID0167182']}\n"
     ]
    }
   ],
   "execution_count": 6
  },
  {
   "metadata": {
    "ExecuteTime": {
     "end_time": "2025-01-09T06:35:37.519857Z",
     "start_time": "2025-01-09T06:35:37.517485Z"
    }
   },
   "cell_type": "code",
   "source": [
    "# Check the keys in the batch\n",
    "print(tmp_original.keys())\n",
    "\n",
    "# Specifically check if 'batch_ptr' is present\n",
    "if 'batch_ptr' in tmp_original:\n",
    "    print(\"batch_ptr is present:\", tmp_original['batch_ptr'])\n",
    "else:\n",
    "    print(\"batch_ptr is missing\")"
   ],
   "id": "a805a11463cf3fd0",
   "outputs": [
    {
     "name": "stdout",
     "output_type": "stream",
     "text": [
      "dict_keys(['spec', 'mol', 'precursor_mz', 'adduct', 'mol_freq', 'identifier'])\n",
      "batch_ptr is missing\n"
     ]
    }
   ],
   "execution_count": 7
  },
  {
   "metadata": {
    "ExecuteTime": {
     "end_time": "2025-01-09T06:35:37.547937Z",
     "start_time": "2025-01-09T06:35:37.544274Z"
    }
   },
   "cell_type": "code",
   "source": "tmp_original['spec'].shape",
   "id": "11910aecb6d8d3ae",
   "outputs": [
    {
     "data": {
      "text/plain": [
       "torch.Size([12, 61, 2])"
      ]
     },
     "execution_count": 8,
     "metadata": {},
     "output_type": "execute_result"
    }
   ],
   "execution_count": 8
  },
  {
   "metadata": {
    "ExecuteTime": {
     "end_time": "2025-01-09T06:35:37.573070Z",
     "start_time": "2025-01-09T06:35:37.570328Z"
    }
   },
   "cell_type": "code",
   "source": "tmp_original['mol']",
   "id": "600f45898a58faae",
   "outputs": [
    {
     "data": {
      "text/plain": [
       "['CCCCCCC(=O)NCCC1=NC=CN1',\n",
       " 'CCCCCCCCCCCCCCCC(=O)OC[C@H](COP(=O)([O-])OCC[N+](C)(C)C)OC(=O)CCCCCC/C=C/C/C=C/C/C=C/CCCCC',\n",
       " 'CC(=O)NC1C(C2C(COC(O2)C3=CC=CC=C3)OC1OC)O',\n",
       " 'COC1=C(C2=C(C=C1O)OC(=CC2=O)C3=CC=C(C=C3)O)O',\n",
       " 'C1=CC=C(C(=C1)C(=O)CC(C(=O)O)N)N',\n",
       " 'COC1=C(C=CC(=C1)C2C3(COC(C3(CO2)O)C4=CC(=C(C=C4)O[C@H]5[C@@H]([C@H]([C@@H]([C@H](O5)CO)O)O)O)OC)O)O',\n",
       " 'CN1C(=C(C2=C(S1(=O)=O)C=CS2)O)C(=O)NC3=CC=CC=N3',\n",
       " 'C[C@]12CC[C@@H](C[C@]1(CC[C@@H]3[C@@H]2CC[C@]4([C@@]3(CC[C@@H]4C5=COC(=O)C=C5)O)C)O)O',\n",
       " 'C1=CC=C(C=C1)C[C@@H](C(=O)O)N',\n",
       " 'CC(=O)OC1=CC=C(C=C1)/C=C/C2=CC(=CC(=C2)OC(=O)C)OC(=O)C',\n",
       " 'C/C=C\\\\N1C=NC2=C(N=CN=C21)N',\n",
       " 'C1=C2C3=C(C(=C1O)O)OC(=O)C4=CC(=C(C(=C43)OC2=O)O)O']"
      ]
     },
     "execution_count": 9,
     "metadata": {},
     "output_type": "execute_result"
    }
   ],
   "execution_count": 9
  },
  {
   "metadata": {
    "ExecuteTime": {
     "end_time": "2025-01-09T06:35:37.591170Z",
     "start_time": "2025-01-09T06:35:37.587901Z"
    }
   },
   "cell_type": "code",
   "source": "tmp_original['precursor_mz']",
   "id": "5dda63a8256d3806",
   "outputs": [
    {
     "data": {
      "text/plain": [
       "tensor([246.1580, 784.5860, 324.1450, 301.0700, 209.0927, 575.1740, 338.0300,\n",
       "        403.2479, 166.0863, 355.1176, 176.0931, 303.0100])"
      ]
     },
     "execution_count": 10,
     "metadata": {},
     "output_type": "execute_result"
    }
   ],
   "execution_count": 10
  },
  {
   "metadata": {
    "ExecuteTime": {
     "end_time": "2025-01-09T06:35:37.619313Z",
     "start_time": "2025-01-09T06:35:37.616651Z"
    }
   },
   "cell_type": "code",
   "source": "tmp_original['adduct']",
   "id": "10431032c5ca8f92",
   "outputs": [
    {
     "data": {
      "text/plain": [
       "['[M+Na]+',\n",
       " '[M+H]+',\n",
       " '[M+H]+',\n",
       " '[M+H]+',\n",
       " '[M+H]+',\n",
       " '[M+Na]+',\n",
       " '[M+H]+',\n",
       " '[M+H]+',\n",
       " '[M+H]+',\n",
       " '[M+H]+',\n",
       " '[M+H]+',\n",
       " '[M+H]+']"
      ]
     },
     "execution_count": 11,
     "metadata": {},
     "output_type": "execute_result"
    }
   ],
   "execution_count": 11
  },
  {
   "metadata": {
    "ExecuteTime": {
     "end_time": "2025-01-09T06:35:37.650216Z",
     "start_time": "2025-01-09T06:35:37.646849Z"
    }
   },
   "cell_type": "code",
   "source": "tmp_original['mol_freq']",
   "id": "86c6ce4bb37f76ab",
   "outputs": [
    {
     "data": {
      "text/plain": [
       "tensor([  3., 304.,   1.,  28.,  98.,   2.,  21.,  13., 138.,  30.,   2., 322.])"
      ]
     },
     "execution_count": 12,
     "metadata": {},
     "output_type": "execute_result"
    }
   ],
   "execution_count": 12
  },
  {
   "metadata": {
    "ExecuteTime": {
     "end_time": "2025-01-09T06:35:37.670634Z",
     "start_time": "2025-01-09T06:35:37.668305Z"
    }
   },
   "cell_type": "code",
   "source": "tmp_original['identifier']",
   "id": "a9c29ceafa8184e1",
   "outputs": [
    {
     "data": {
      "text/plain": [
       "['MassSpecGymID0391910',\n",
       " 'MassSpecGymID0403818',\n",
       " 'MassSpecGymID0398810',\n",
       " 'MassSpecGymID0195961',\n",
       " 'MassSpecGymID0161786',\n",
       " 'MassSpecGymID0193760',\n",
       " 'MassSpecGymID0052238',\n",
       " 'MassSpecGymID0222508',\n",
       " 'MassSpecGymID0067472',\n",
       " 'MassSpecGymID0106450',\n",
       " 'MassSpecGymID0235596',\n",
       " 'MassSpecGymID0167182']"
      ]
     },
     "execution_count": 13,
     "metadata": {},
     "output_type": "execute_result"
    }
   ],
   "execution_count": 13
  },
  {
   "metadata": {},
   "cell_type": "markdown",
   "source": "# MSn",
   "id": "abf864647e9df3"
  },
  {
   "metadata": {
    "ExecuteTime": {
     "end_time": "2025-01-09T06:36:14.067303Z",
     "start_time": "2025-01-09T06:36:14.064994Z"
    }
   },
   "cell_type": "code",
   "source": [
    "config = {\n",
    "    'features': ['collision_energy', 'ionmode', 'adduct', 'spectrum_stats', 'atom_counts', 'value', \"retention_time\", 'ion_source', 'binned_peaks'],\n",
    "    'feature_attributes': {\n",
    "        'atom_counts': {\n",
    "            'top_n_atoms': 12,\n",
    "            'include_other': True,\n",
    "        },\n",
    "    },\n",
    "}"
   ],
   "id": "ae64bdc7b11443bf",
   "outputs": [],
   "execution_count": 14
  },
  {
   "metadata": {
    "ExecuteTime": {
     "end_time": "2025-01-09T06:36:14.727768Z",
     "start_time": "2025-01-09T06:36:14.725830Z"
    }
   },
   "cell_type": "code",
   "source": "featurizer = SpectrumFeaturizer(config, mode='torch')",
   "id": "bf448b3815dcff8e",
   "outputs": [],
   "execution_count": 15
  },
  {
   "metadata": {
    "ExecuteTime": {
     "end_time": "2025-01-09T06:43:54.914288Z",
     "start_time": "2025-01-09T06:36:15.745911Z"
    }
   },
   "cell_type": "code",
   "source": [
    "# Init hyperparameters\n",
    "batch_size = 12\n",
    "\n",
    "msn_dataset = MSnDataset(\n",
    "    pth=file_mgf,\n",
    "    featurizer=featurizer,\n",
    "    mol_transform=None,\n",
    "    max_allowed_deviation=0.005\n",
    ")"
   ],
   "id": "f4fedf3c8f838eff",
   "outputs": [],
   "execution_count": 16
  },
  {
   "metadata": {
    "ExecuteTime": {
     "end_time": "2025-01-09T06:43:54.920029Z",
     "start_time": "2025-01-09T06:43:54.918067Z"
    }
   },
   "cell_type": "code",
   "source": [
    "data_module_msn = MassSpecDataModule(\n",
    "    dataset=msn_dataset,\n",
    "    batch_size=batch_size,\n",
    "    split_pth=split_file,\n",
    "    num_workers=0,\n",
    ")"
   ],
   "id": "c325b27dbe425ba",
   "outputs": [],
   "execution_count": 17
  },
  {
   "metadata": {
    "ExecuteTime": {
     "end_time": "2025-01-09T06:43:54.964323Z",
     "start_time": "2025-01-09T06:43:54.946444Z"
    }
   },
   "cell_type": "code",
   "source": [
    "data_module_msn.prepare_data()\n",
    "data_module_msn.setup()\n",
    "\n",
    "train_loader_msn = data_module_msn.train_dataloader()"
   ],
   "id": "6fc93e471837d69d",
   "outputs": [
    {
     "name": "stdout",
     "output_type": "stream",
     "text": [
      "Train dataset size: 12536\n",
      "Val dataset size: 1952\n"
     ]
    }
   ],
   "execution_count": 18
  },
  {
   "metadata": {
    "ExecuteTime": {
     "end_time": "2025-01-09T06:43:55.272151Z",
     "start_time": "2025-01-09T06:43:55.039072Z"
    }
   },
   "cell_type": "code",
   "source": [
    "tmp_msn = []\n",
    "for batch in train_loader_msn:\n",
    "    print(batch)\n",
    "    tmp_msn = batch\n",
    "    break"
   ],
   "id": "ecff08dfe2ac8280",
   "outputs": [
    {
     "name": "stdout",
     "output_type": "stream",
     "text": [
      "{'spec': DataBatch(x=[134, 1039], edge_index=[2, 122], batch=[134], ptr=[13]), 'mol': ['COC1=C(C2=C[N+]3=C(C=C2C=C1)C4=CC(=C(C=C4CC3)O)O)OC', 'C1OC2=C(O1)C=C(C=C2)CNC3=C(N=C(O3)CC4=CC=CC5=CC=CC=C54)C#N', 'COC(=O)C1=CC=CC=C1NC(=O)N[C@@H](CC2=CNC3=CC=CC=C32)C(=O)OC', 'C1CN(CCC1=C(C2=CC=C(C=C2)F)C3=CC=C(C=C3)F)CCN4C(=O)C5=CC=CC=C5NC4=S', 'COCC1=CC(=CN=C1)C2=CC3=C(N=C2)N(CCC3)C(=O)N', 'CC[C@@H](C)[C@@H](C(=O)O)NC(=O)C1=CC2=C(C=C1)N(C=C2)C', 'C1=C(C=C(C(=C1O)O)O)C(=O)O[C@@H]2[C@H](O[C@H]([C@@H]([C@H]2OC(=O)C3=CC(=C(C(=C3)O)O)O)OC(=O)C4=CC(=C(C(=C4)O)O)O)OC(=O)C5=CC(=C(C(=C5)O)O)O)CO', 'CCCCN(C)C(=O)CN1C2=CC=CC=C2N=C1CN(C)C(=O)C3=CC=CO3', 'C=C1C(CC2C1C(OC=C2C(=O)O)OC3C(C(C(C(O3)CO)O)O)OC(=O)/C=C/C4=CC=C(C=C4)O)O', 'CO[C@H]1C(O[C@H](CO1)[C@@H](COCC2=CC=CC=C2)OCC3=CC=CC=C3)O', 'CC(C)(C)N1C=C(N=N1)CN(CC2=CN(N=N2)CC(=O)O)CC3=CN(N=N3)C(C)(C)C', 'C1CN2CCC1C3=C2SC(=C3C#N)N=CC4=C(C=C(C=C4)O)O'], 'precursor_mz': tensor([324.1230, 384.1343, 396.1554, 490.1759, 299.1502, 289.1547, 806.1411,\n",
      "        383.2078, 538.1919, 397.1622, 431.2626, 326.0958]), 'adduct': ['[M]+', '[M+H]+', '[M+H]+', '[M+H]+', '[M+H]+', '[M+H]+', '[M+NH4]+', '[M+H]+', '[M+NH4]+', '[M+Na]+', '[M+H]+', '[M+H]+'], 'identifier': ['0091223_0000000', '0047252_0000000', '0049284_0000000', '0087371_0000000', '0080314_0000000', '0050743_0000000', '0003907_0000000', '0042012_0000000', '0004982_0000000', '0045251_0000000', '0058733_0000000', '0039635_0000000'], 'mol_freq': tensor([1., 1., 1., 1., 1., 1., 1., 1., 3., 2., 1., 2.])}\n"
     ]
    }
   ],
   "execution_count": 19
  },
  {
   "metadata": {
    "ExecuteTime": {
     "end_time": "2025-01-09T06:43:55.344658Z",
     "start_time": "2025-01-09T06:43:55.342560Z"
    }
   },
   "cell_type": "code",
   "source": [
    "# Check the keys in the batch\n",
    "print(tmp_msn.keys())\n",
    "\n",
    "# Specifically check if 'batch_ptr' is present\n",
    "if 'batch_ptr' in tmp_msn:\n",
    "    print(\"batch_ptr is present:\", tmp_msn['batch_ptr'])\n",
    "else:\n",
    "    print(\"batch_ptr is missing\")"
   ],
   "id": "653b174d0be66ce8",
   "outputs": [
    {
     "name": "stdout",
     "output_type": "stream",
     "text": [
      "dict_keys(['spec', 'mol', 'precursor_mz', 'adduct', 'identifier', 'mol_freq'])\n",
      "batch_ptr is missing\n"
     ]
    }
   ],
   "execution_count": 20
  },
  {
   "metadata": {
    "ExecuteTime": {
     "end_time": "2025-01-09T06:43:55.378203Z",
     "start_time": "2025-01-09T06:43:55.375734Z"
    }
   },
   "cell_type": "code",
   "source": "tmp_msn['spec']",
   "id": "d7c23f6894abcfbb",
   "outputs": [
    {
     "data": {
      "text/plain": [
       "DataBatch(x=[134, 1039], edge_index=[2, 122], batch=[134], ptr=[13])"
      ]
     },
     "execution_count": 21,
     "metadata": {},
     "output_type": "execute_result"
    }
   ],
   "execution_count": 21
  },
  {
   "metadata": {
    "ExecuteTime": {
     "end_time": "2025-01-09T06:43:55.396682Z",
     "start_time": "2025-01-09T06:43:55.394423Z"
    }
   },
   "cell_type": "code",
   "source": "tmp_msn['mol']",
   "id": "d4d88fd355c8c364",
   "outputs": [
    {
     "data": {
      "text/plain": [
       "['COC1=C(C2=C[N+]3=C(C=C2C=C1)C4=CC(=C(C=C4CC3)O)O)OC',\n",
       " 'C1OC2=C(O1)C=C(C=C2)CNC3=C(N=C(O3)CC4=CC=CC5=CC=CC=C54)C#N',\n",
       " 'COC(=O)C1=CC=CC=C1NC(=O)N[C@@H](CC2=CNC3=CC=CC=C32)C(=O)OC',\n",
       " 'C1CN(CCC1=C(C2=CC=C(C=C2)F)C3=CC=C(C=C3)F)CCN4C(=O)C5=CC=CC=C5NC4=S',\n",
       " 'COCC1=CC(=CN=C1)C2=CC3=C(N=C2)N(CCC3)C(=O)N',\n",
       " 'CC[C@@H](C)[C@@H](C(=O)O)NC(=O)C1=CC2=C(C=C1)N(C=C2)C',\n",
       " 'C1=C(C=C(C(=C1O)O)O)C(=O)O[C@@H]2[C@H](O[C@H]([C@@H]([C@H]2OC(=O)C3=CC(=C(C(=C3)O)O)O)OC(=O)C4=CC(=C(C(=C4)O)O)O)OC(=O)C5=CC(=C(C(=C5)O)O)O)CO',\n",
       " 'CCCCN(C)C(=O)CN1C2=CC=CC=C2N=C1CN(C)C(=O)C3=CC=CO3',\n",
       " 'C=C1C(CC2C1C(OC=C2C(=O)O)OC3C(C(C(C(O3)CO)O)O)OC(=O)/C=C/C4=CC=C(C=C4)O)O',\n",
       " 'CO[C@H]1C(O[C@H](CO1)[C@@H](COCC2=CC=CC=C2)OCC3=CC=CC=C3)O',\n",
       " 'CC(C)(C)N1C=C(N=N1)CN(CC2=CN(N=N2)CC(=O)O)CC3=CN(N=N3)C(C)(C)C',\n",
       " 'C1CN2CCC1C3=C2SC(=C3C#N)N=CC4=C(C=C(C=C4)O)O']"
      ]
     },
     "execution_count": 22,
     "metadata": {},
     "output_type": "execute_result"
    }
   ],
   "execution_count": 22
  },
  {
   "metadata": {
    "ExecuteTime": {
     "end_time": "2025-01-09T06:43:55.417103Z",
     "start_time": "2025-01-09T06:43:55.414064Z"
    }
   },
   "cell_type": "code",
   "source": "tmp_msn['precursor_mz']",
   "id": "2b1f8a3a1f919c94",
   "outputs": [
    {
     "data": {
      "text/plain": [
       "tensor([324.1230, 384.1343, 396.1554, 490.1759, 299.1502, 289.1547, 806.1411,\n",
       "        383.2078, 538.1919, 397.1622, 431.2626, 326.0958])"
      ]
     },
     "execution_count": 23,
     "metadata": {},
     "output_type": "execute_result"
    }
   ],
   "execution_count": 23
  },
  {
   "metadata": {
    "ExecuteTime": {
     "end_time": "2025-01-09T06:43:55.433114Z",
     "start_time": "2025-01-09T06:43:55.430926Z"
    }
   },
   "cell_type": "code",
   "source": "tmp_msn['adduct']",
   "id": "bd5404c4e5538b9c",
   "outputs": [
    {
     "data": {
      "text/plain": [
       "['[M]+',\n",
       " '[M+H]+',\n",
       " '[M+H]+',\n",
       " '[M+H]+',\n",
       " '[M+H]+',\n",
       " '[M+H]+',\n",
       " '[M+NH4]+',\n",
       " '[M+H]+',\n",
       " '[M+NH4]+',\n",
       " '[M+Na]+',\n",
       " '[M+H]+',\n",
       " '[M+H]+']"
      ]
     },
     "execution_count": 24,
     "metadata": {},
     "output_type": "execute_result"
    }
   ],
   "execution_count": 24
  },
  {
   "metadata": {
    "ExecuteTime": {
     "end_time": "2025-01-09T06:43:55.454168Z",
     "start_time": "2025-01-09T06:43:55.451356Z"
    }
   },
   "cell_type": "code",
   "source": "tmp_msn['mol_freq']",
   "id": "326883d71d60723c",
   "outputs": [
    {
     "data": {
      "text/plain": [
       "tensor([1., 1., 1., 1., 1., 1., 1., 1., 3., 2., 1., 2.])"
      ]
     },
     "execution_count": 25,
     "metadata": {},
     "output_type": "execute_result"
    }
   ],
   "execution_count": 25
  },
  {
   "metadata": {
    "ExecuteTime": {
     "end_time": "2025-01-09T06:43:55.473696Z",
     "start_time": "2025-01-09T06:43:55.471366Z"
    }
   },
   "cell_type": "code",
   "source": "tmp_msn['identifier']",
   "id": "1d4e313252d26272",
   "outputs": [
    {
     "data": {
      "text/plain": [
       "['0091223_0000000',\n",
       " '0047252_0000000',\n",
       " '0049284_0000000',\n",
       " '0087371_0000000',\n",
       " '0080314_0000000',\n",
       " '0050743_0000000',\n",
       " '0003907_0000000',\n",
       " '0042012_0000000',\n",
       " '0004982_0000000',\n",
       " '0045251_0000000',\n",
       " '0058733_0000000',\n",
       " '0039635_0000000']"
      ]
     },
     "execution_count": 26,
     "metadata": {},
     "output_type": "execute_result"
    }
   ],
   "execution_count": 26
  },
  {
   "metadata": {
    "ExecuteTime": {
     "end_time": "2025-01-09T06:43:55.486843Z",
     "start_time": "2025-01-09T06:43:55.484501Z"
    }
   },
   "cell_type": "code",
   "source": "tmp_msn['identifier']",
   "id": "eea28ed31f555b19",
   "outputs": [
    {
     "data": {
      "text/plain": [
       "['0091223_0000000',\n",
       " '0047252_0000000',\n",
       " '0049284_0000000',\n",
       " '0087371_0000000',\n",
       " '0080314_0000000',\n",
       " '0050743_0000000',\n",
       " '0003907_0000000',\n",
       " '0042012_0000000',\n",
       " '0004982_0000000',\n",
       " '0045251_0000000',\n",
       " '0058733_0000000',\n",
       " '0039635_0000000']"
      ]
     },
     "execution_count": 27,
     "metadata": {},
     "output_type": "execute_result"
    }
   ],
   "execution_count": 27
  },
  {
   "metadata": {},
   "cell_type": "code",
   "outputs": [],
   "execution_count": null,
   "source": "",
   "id": "a37c439136047a4c"
  }
 ],
 "metadata": {
  "kernelspec": {
   "display_name": "Python 3",
   "language": "python",
   "name": "python3"
  },
  "language_info": {
   "codemirror_mode": {
    "name": "ipython",
    "version": 2
   },
   "file_extension": ".py",
   "mimetype": "text/x-python",
   "name": "python",
   "nbconvert_exporter": "python",
   "pygments_lexer": "ipython2",
   "version": "2.7.6"
  }
 },
 "nbformat": 4,
 "nbformat_minor": 5
}
