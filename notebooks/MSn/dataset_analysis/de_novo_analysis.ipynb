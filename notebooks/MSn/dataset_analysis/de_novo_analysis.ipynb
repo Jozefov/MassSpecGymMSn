{
 "cells": [
  {
   "cell_type": "code",
   "id": "initial_id",
   "metadata": {
    "collapsed": true,
    "ExecuteTime": {
     "end_time": "2024-12-27T17:30:45.983281Z",
     "start_time": "2024-12-27T17:30:45.978357Z"
    }
   },
   "source": [
    "from massspecgym.data.datasets import MSnDataset, MassSpecDataset\n",
    "from massspecgym.data.transforms import MolFingerprinter, SpecTokenizer\n",
    "from massspecgym.data import MassSpecDataModule\n",
    "from massspecgym.featurize import SpectrumFeaturizer\n",
    "import torch"
   ],
   "outputs": [],
   "execution_count": 18
  },
  {
   "metadata": {
    "ExecuteTime": {
     "end_time": "2024-12-27T17:18:24.638208Z",
     "start_time": "2024-12-27T17:18:24.634582Z"
    }
   },
   "cell_type": "code",
   "source": [
    "file_mgf = \"/Users/macbook/CODE/Majer:MassSpecGym/data/MSn/20241211_msn_library_pos_all_lib_MSn.mgf\"\n",
    "file_json = \"/Users/macbook/CODE/Majer:MassSpecGym/data/Retrieval/MassSpecGym_retrieval_candidates_mass.json\"\n",
    "split_file = \"/Users/macbook/CODE/Majer:MassSpecGym/data/MSn/20241211_split.tsv\"\n",
    "pth_massspecgym_original = \"/Users/macbook/CODE/Majer:MassSpecGym/data/MassSpecGym/MassSpecGym.tsv\""
   ],
   "id": "e983ec59668d735b",
   "outputs": [],
   "execution_count": 3
  },
  {
   "metadata": {
    "ExecuteTime": {
     "end_time": "2024-12-27T17:19:56.085147Z",
     "start_time": "2024-12-27T17:19:44.097202Z"
    }
   },
   "cell_type": "code",
   "source": [
    "# Init hyperparameters\n",
    "n_peaks = 60\n",
    "fp_size = 4096\n",
    "batch_size = 12\n",
    "\n",
    "# Load dataset\n",
    "dataset_original = MassSpecDataset(\n",
    "    pth=pth_massspecgym_original,\n",
    "    spec_transform=SpecTokenizer(n_peaks=n_peaks),\n",
    "    mol_transform=MolFingerprinter(fp_size=fp_size),\n",
    ")"
   ],
   "id": "ca5594f23feef901",
   "outputs": [],
   "execution_count": 6
  },
  {
   "metadata": {
    "ExecuteTime": {
     "end_time": "2024-12-27T17:20:03.154445Z",
     "start_time": "2024-12-27T17:20:03.152135Z"
    }
   },
   "cell_type": "code",
   "source": [
    "# Init data module\n",
    "data_module_original = MassSpecDataModule(\n",
    "    dataset=dataset_original,\n",
    "    batch_size=batch_size,\n",
    "    num_workers=0,\n",
    ")"
   ],
   "id": "d27545321be5f3c1",
   "outputs": [],
   "execution_count": 8
  },
  {
   "metadata": {
    "ExecuteTime": {
     "end_time": "2024-12-27T17:20:10.340517Z",
     "start_time": "2024-12-27T17:20:10.289796Z"
    }
   },
   "cell_type": "code",
   "source": [
    "data_module_original.prepare_data()\n",
    "data_module_original.setup()\n",
    "\n",
    "train_loader_original = data_module_original.train_dataloader()"
   ],
   "id": "f3a344dd85d8977",
   "outputs": [
    {
     "name": "stdout",
     "output_type": "stream",
     "text": [
      "Train dataset size: 194119\n",
      "Val dataset size: 19429\n"
     ]
    }
   ],
   "execution_count": 9
  },
  {
   "metadata": {
    "ExecuteTime": {
     "end_time": "2024-12-27T17:20:19.313260Z",
     "start_time": "2024-12-27T17:20:19.291621Z"
    }
   },
   "cell_type": "code",
   "source": [
    "tmp_original = []\n",
    "for batch in train_loader_original:\n",
    "    print(batch)\n",
    "    tmp_original = batch\n",
    "    break"
   ],
   "id": "f8b0e9bdf2c20ec0",
   "outputs": [
    {
     "name": "stdout",
     "output_type": "stream",
     "text": [
      "{'spec': tensor([[[2.4421e+02, 1.1000e+00],\n",
      "         [3.9022e+01, 1.8018e-02],\n",
      "         [4.1038e+01, 1.8018e-02],\n",
      "         ...,\n",
      "         [0.0000e+00, 0.0000e+00],\n",
      "         [0.0000e+00, 0.0000e+00],\n",
      "         [0.0000e+00, 0.0000e+00]],\n",
      "\n",
      "        [[2.5510e+02, 1.1000e+00],\n",
      "         [6.5039e+01, 5.0536e-04],\n",
      "         [6.7055e+01, 3.7217e-04],\n",
      "         ...,\n",
      "         [0.0000e+00, 0.0000e+00],\n",
      "         [0.0000e+00, 0.0000e+00],\n",
      "         [0.0000e+00, 0.0000e+00]],\n",
      "\n",
      "        [[2.8306e+02, 1.1000e+00],\n",
      "         [1.8902e+02, 1.8000e-02],\n",
      "         [2.1105e+02, 6.0000e-03],\n",
      "         ...,\n",
      "         [0.0000e+00, 0.0000e+00],\n",
      "         [0.0000e+00, 0.0000e+00],\n",
      "         [0.0000e+00, 0.0000e+00]],\n",
      "\n",
      "        ...,\n",
      "\n",
      "        [[3.0811e+02, 1.1000e+00],\n",
      "         [6.5039e+01, 5.7057e-02],\n",
      "         [9.1054e+01, 1.7918e-01],\n",
      "         ...,\n",
      "         [0.0000e+00, 0.0000e+00],\n",
      "         [0.0000e+00, 0.0000e+00],\n",
      "         [0.0000e+00, 0.0000e+00]],\n",
      "\n",
      "        [[2.8202e+02, 1.1000e+00],\n",
      "         [7.2080e+01, 3.0030e-03],\n",
      "         [8.6096e+01, 3.0030e-02],\n",
      "         ...,\n",
      "         [0.0000e+00, 0.0000e+00],\n",
      "         [0.0000e+00, 0.0000e+00],\n",
      "         [0.0000e+00, 0.0000e+00]],\n",
      "\n",
      "        [[3.2507e+02, 1.1000e+00],\n",
      "         [2.1501e+02, 5.0000e-03],\n",
      "         [2.1501e+02, 1.8000e-02],\n",
      "         ...,\n",
      "         [0.0000e+00, 0.0000e+00],\n",
      "         [0.0000e+00, 0.0000e+00],\n",
      "         [0.0000e+00, 0.0000e+00]]]), 'mol': tensor([[0., 0., 1.,  ..., 0., 0., 0.],\n",
      "        [0., 0., 0.,  ..., 0., 0., 0.],\n",
      "        [0., 0., 0.,  ..., 0., 0., 0.],\n",
      "        ...,\n",
      "        [0., 0., 0.,  ..., 0., 0., 0.],\n",
      "        [0., 0., 0.,  ..., 1., 0., 0.],\n",
      "        [0., 0., 0.,  ..., 0., 0., 0.]]), 'precursor_mz': tensor([244.2060, 255.1020, 283.0600, 347.1700, 297.1849, 271.1300, 205.1180,\n",
      "        217.0500, 279.1591, 308.1104, 282.0214, 325.0700]), 'adduct': ['[M+H]+', '[M+H]+', '[M+Na]+', '[M+Na]+', '[M+H]+', '[M+Na]+', '[M+H]+', '[M+H]+', '[M+H]+', '[M+H]+', '[M+H]+', '[M+Na]+'], 'mol_freq': tensor([ 14.,   8.,  74., 405.,  54.,   8.,   3., 180.,  46.,  45.,  26., 507.]), 'identifier': ['MassSpecGymID0057420', 'MassSpecGymID0145355', 'MassSpecGymID0151226', 'MassSpecGymID0003159', 'MassSpecGymID0025429', 'MassSpecGymID0166389', 'MassSpecGymID0401869', 'MassSpecGymID0091234', 'MassSpecGymID0067582', 'MassSpecGymID0053953', 'MassSpecGymID0042022', 'MassSpecGymID0124214']}\n"
     ]
    }
   ],
   "execution_count": 10
  },
  {
   "metadata": {
    "ExecuteTime": {
     "end_time": "2024-12-27T17:20:27.398732Z",
     "start_time": "2024-12-27T17:20:27.396495Z"
    }
   },
   "cell_type": "code",
   "source": [
    "# Check the keys in the batch\n",
    "print(tmp_original.keys())\n",
    "\n",
    "# Specifically check if 'batch_ptr' is present\n",
    "if 'batch_ptr' in tmp_original:\n",
    "    print(\"batch_ptr is present:\", tmp_original['batch_ptr'])\n",
    "else:\n",
    "    print(\"batch_ptr is missing\")"
   ],
   "id": "a805a11463cf3fd0",
   "outputs": [
    {
     "name": "stdout",
     "output_type": "stream",
     "text": [
      "dict_keys(['spec', 'mol', 'precursor_mz', 'adduct', 'mol_freq', 'identifier'])\n",
      "batch_ptr is missing\n"
     ]
    }
   ],
   "execution_count": 11
  },
  {
   "metadata": {
    "ExecuteTime": {
     "end_time": "2024-12-27T17:22:26.559152Z",
     "start_time": "2024-12-27T17:22:26.556360Z"
    }
   },
   "cell_type": "code",
   "source": "tmp_original['spec'].shape, tmp_original['mol'].shape, ",
   "id": "11910aecb6d8d3ae",
   "outputs": [
    {
     "data": {
      "text/plain": [
       "(torch.Size([12, 61, 2]), torch.Size([12, 4096]))"
      ]
     },
     "execution_count": 13,
     "metadata": {},
     "output_type": "execute_result"
    }
   ],
   "execution_count": 13
  },
  {
   "metadata": {
    "ExecuteTime": {
     "end_time": "2024-12-27T17:23:46.541921Z",
     "start_time": "2024-12-27T17:23:46.538693Z"
    }
   },
   "cell_type": "code",
   "source": "tmp_original['precursor_mz']",
   "id": "5dda63a8256d3806",
   "outputs": [
    {
     "data": {
      "text/plain": [
       "tensor([244.2060, 255.1020, 283.0600, 347.1700, 297.1849, 271.1300, 205.1180,\n",
       "        217.0500, 279.1591, 308.1104, 282.0214, 325.0700])"
      ]
     },
     "execution_count": 14,
     "metadata": {},
     "output_type": "execute_result"
    }
   ],
   "execution_count": 14
  },
  {
   "metadata": {
    "ExecuteTime": {
     "end_time": "2024-12-27T17:23:57.686113Z",
     "start_time": "2024-12-27T17:23:57.683587Z"
    }
   },
   "cell_type": "code",
   "source": "tmp_original['adduct']",
   "id": "10431032c5ca8f92",
   "outputs": [
    {
     "data": {
      "text/plain": [
       "['[M+H]+',\n",
       " '[M+H]+',\n",
       " '[M+Na]+',\n",
       " '[M+Na]+',\n",
       " '[M+H]+',\n",
       " '[M+Na]+',\n",
       " '[M+H]+',\n",
       " '[M+H]+',\n",
       " '[M+H]+',\n",
       " '[M+H]+',\n",
       " '[M+H]+',\n",
       " '[M+Na]+']"
      ]
     },
     "execution_count": 15,
     "metadata": {},
     "output_type": "execute_result"
    }
   ],
   "execution_count": 15
  },
  {
   "metadata": {
    "ExecuteTime": {
     "end_time": "2024-12-27T17:24:21.743743Z",
     "start_time": "2024-12-27T17:24:21.739229Z"
    }
   },
   "cell_type": "code",
   "source": "tmp_original['mol_freq']",
   "id": "86c6ce4bb37f76ab",
   "outputs": [
    {
     "data": {
      "text/plain": [
       "tensor([ 14.,   8.,  74., 405.,  54.,   8.,   3., 180.,  46.,  45.,  26., 507.])"
      ]
     },
     "execution_count": 16,
     "metadata": {},
     "output_type": "execute_result"
    }
   ],
   "execution_count": 16
  },
  {
   "metadata": {
    "ExecuteTime": {
     "end_time": "2024-12-27T17:24:31.266585Z",
     "start_time": "2024-12-27T17:24:31.263832Z"
    }
   },
   "cell_type": "code",
   "source": "tmp_original['identifier']",
   "id": "a9c29ceafa8184e1",
   "outputs": [
    {
     "data": {
      "text/plain": [
       "['MassSpecGymID0057420',\n",
       " 'MassSpecGymID0145355',\n",
       " 'MassSpecGymID0151226',\n",
       " 'MassSpecGymID0003159',\n",
       " 'MassSpecGymID0025429',\n",
       " 'MassSpecGymID0166389',\n",
       " 'MassSpecGymID0401869',\n",
       " 'MassSpecGymID0091234',\n",
       " 'MassSpecGymID0067582',\n",
       " 'MassSpecGymID0053953',\n",
       " 'MassSpecGymID0042022',\n",
       " 'MassSpecGymID0124214']"
      ]
     },
     "execution_count": 17,
     "metadata": {},
     "output_type": "execute_result"
    }
   ],
   "execution_count": 17
  },
  {
   "metadata": {},
   "cell_type": "markdown",
   "source": "# MSn",
   "id": "abf864647e9df3"
  },
  {
   "metadata": {
    "ExecuteTime": {
     "end_time": "2024-12-27T17:30:56.983442Z",
     "start_time": "2024-12-27T17:30:56.981013Z"
    }
   },
   "cell_type": "code",
   "source": [
    "config = {\n",
    "    'features': ['collision_energy', 'ionmode', 'adduct', 'spectrum_stats', 'atom_counts', 'value', \"retention_time\", 'ion_source', 'binned_peaks'],\n",
    "    'feature_attributes': {\n",
    "        'atom_counts': {\n",
    "            'top_n_atoms': 12,\n",
    "            'include_other': True,\n",
    "        },\n",
    "    },\n",
    "}"
   ],
   "id": "ae64bdc7b11443bf",
   "outputs": [],
   "execution_count": 19
  },
  {
   "metadata": {
    "ExecuteTime": {
     "end_time": "2024-12-27T17:31:33.892599Z",
     "start_time": "2024-12-27T17:31:33.886550Z"
    }
   },
   "cell_type": "code",
   "source": "featurizer = SpectrumFeaturizer(config, mode='torch')",
   "id": "bf448b3815dcff8e",
   "outputs": [],
   "execution_count": 20
  },
  {
   "metadata": {
    "ExecuteTime": {
     "end_time": "2024-12-27T17:43:05.338672Z",
     "start_time": "2024-12-27T17:35:22.797714Z"
    }
   },
   "cell_type": "code",
   "source": [
    "# Init hyperparameters\n",
    "n_peaks = 60\n",
    "fp_size = 4096\n",
    "batch_size = 12\n",
    "\n",
    "msn_dataset = MSnDataset(\n",
    "    pth=file_mgf,\n",
    "    featurizer=featurizer,\n",
    "    mol_transform=MolFingerprinter(fp_size=fp_size),\n",
    "    max_allowed_deviation=0.005\n",
    ")"
   ],
   "id": "f4fedf3c8f838eff",
   "outputs": [],
   "execution_count": 21
  },
  {
   "metadata": {
    "ExecuteTime": {
     "end_time": "2024-12-27T17:43:05.359355Z",
     "start_time": "2024-12-27T17:43:05.357481Z"
    }
   },
   "cell_type": "code",
   "source": [
    "data_module_msn = MassSpecDataModule(\n",
    "    dataset=msn_dataset,\n",
    "    batch_size=batch_size,\n",
    "    split_pth=split_file,\n",
    "    num_workers=0,\n",
    ")"
   ],
   "id": "c325b27dbe425ba",
   "outputs": [],
   "execution_count": 22
  },
  {
   "metadata": {
    "ExecuteTime": {
     "end_time": "2024-12-27T17:43:05.408693Z",
     "start_time": "2024-12-27T17:43:05.390871Z"
    }
   },
   "cell_type": "code",
   "source": [
    "data_module_msn.prepare_data()\n",
    "data_module_msn.setup()\n",
    "\n",
    "train_loader_msn = data_module_msn.train_dataloader()"
   ],
   "id": "6fc93e471837d69d",
   "outputs": [
    {
     "name": "stdout",
     "output_type": "stream",
     "text": [
      "Train dataset size: 12536\n",
      "Val dataset size: 1952\n"
     ]
    }
   ],
   "execution_count": 23
  },
  {
   "metadata": {
    "ExecuteTime": {
     "end_time": "2024-12-27T17:43:06.416164Z",
     "start_time": "2024-12-27T17:43:05.623888Z"
    }
   },
   "cell_type": "code",
   "source": [
    "tmp_msn = []\n",
    "for batch in train_loader_msn:\n",
    "    print(batch)\n",
    "    tmp_msn = batch\n",
    "    break"
   ],
   "id": "ecff08dfe2ac8280",
   "outputs": [
    {
     "name": "stdout",
     "output_type": "stream",
     "text": [
      "{'spec': DataBatch(x=[134, 1039], edge_index=[2, 122], batch=[134], ptr=[13]), 'mol': tensor([[0., 0., 0.,  ..., 0., 0., 0.],\n",
      "        [0., 0., 0.,  ..., 0., 0., 0.],\n",
      "        [0., 0., 0.,  ..., 0., 0., 0.],\n",
      "        ...,\n",
      "        [0., 0., 0.,  ..., 0., 0., 0.],\n",
      "        [0., 0., 0.,  ..., 0., 0., 1.],\n",
      "        [0., 0., 0.,  ..., 0., 0., 0.]]), 'precursor_mz': tensor([ 435.1485, 1065.3082,  466.1205,  620.1131,  303.0499,  865.4427,\n",
      "         319.1666,  405.1113,  291.1856,  449.1078,  488.2310,  418.2350]), 'adduct': ['[M+H]+', '[M+H]+', '[M+H]+', '[M+H]+', '[M+H]+', '[M+H]+', '[M+H]+', '[M+H]+', '[M+H]+', '[M+H]+', '[M+H]+', '[M+H]+'], 'identifier': ['0024427_0000000', '0003980_0000000', '0084088_0000000', '0096920_0000000', '0004159_0000000', '0001584_0000000', '0039720_0000000', '0044544_0000000', '0080851_0000000', '0059397_0000000', '0062342_0000000', '0091534_0000000'], 'mol_freq': tensor([1., 1., 1., 1., 1., 2., 1., 1., 1., 1., 1., 1.])}\n"
     ]
    }
   ],
   "execution_count": 24
  },
  {
   "metadata": {
    "ExecuteTime": {
     "end_time": "2024-12-27T17:43:06.495372Z",
     "start_time": "2024-12-27T17:43:06.493420Z"
    }
   },
   "cell_type": "code",
   "source": [
    "# Check the keys in the batch\n",
    "print(tmp_msn.keys())\n",
    "\n",
    "# Specifically check if 'batch_ptr' is present\n",
    "if 'batch_ptr' in tmp_msn:\n",
    "    print(\"batch_ptr is present:\", tmp_msn['batch_ptr'])\n",
    "else:\n",
    "    print(\"batch_ptr is missing\")"
   ],
   "id": "653b174d0be66ce8",
   "outputs": [
    {
     "name": "stdout",
     "output_type": "stream",
     "text": [
      "dict_keys(['spec', 'mol', 'precursor_mz', 'adduct', 'identifier', 'mol_freq'])\n",
      "batch_ptr is missing\n"
     ]
    }
   ],
   "execution_count": 25
  },
  {
   "metadata": {
    "ExecuteTime": {
     "end_time": "2024-12-27T17:48:18.527595Z",
     "start_time": "2024-12-27T17:48:18.524808Z"
    }
   },
   "cell_type": "code",
   "source": "tmp_msn['spec']",
   "id": "d7c23f6894abcfbb",
   "outputs": [
    {
     "data": {
      "text/plain": [
       "DataBatch(x=[134, 1039], edge_index=[2, 122], batch=[134], ptr=[13])"
      ]
     },
     "execution_count": 27,
     "metadata": {},
     "output_type": "execute_result"
    }
   ],
   "execution_count": 27
  },
  {
   "metadata": {
    "ExecuteTime": {
     "end_time": "2024-12-27T17:49:11.742468Z",
     "start_time": "2024-12-27T17:49:11.739691Z"
    }
   },
   "cell_type": "code",
   "source": "tmp_msn['precursor_mz']",
   "id": "2b1f8a3a1f919c94",
   "outputs": [
    {
     "data": {
      "text/plain": [
       "tensor([ 435.1485, 1065.3082,  466.1205,  620.1131,  303.0499,  865.4427,\n",
       "         319.1666,  405.1113,  291.1856,  449.1078,  488.2310,  418.2350])"
      ]
     },
     "execution_count": 28,
     "metadata": {},
     "output_type": "execute_result"
    }
   ],
   "execution_count": 28
  },
  {
   "metadata": {
    "ExecuteTime": {
     "end_time": "2024-12-27T17:49:13.315819Z",
     "start_time": "2024-12-27T17:49:13.312564Z"
    }
   },
   "cell_type": "code",
   "source": "tmp_msn['adduct']",
   "id": "bd5404c4e5538b9c",
   "outputs": [
    {
     "data": {
      "text/plain": [
       "['[M+H]+',\n",
       " '[M+H]+',\n",
       " '[M+H]+',\n",
       " '[M+H]+',\n",
       " '[M+H]+',\n",
       " '[M+H]+',\n",
       " '[M+H]+',\n",
       " '[M+H]+',\n",
       " '[M+H]+',\n",
       " '[M+H]+',\n",
       " '[M+H]+',\n",
       " '[M+H]+']"
      ]
     },
     "execution_count": 29,
     "metadata": {},
     "output_type": "execute_result"
    }
   ],
   "execution_count": 29
  },
  {
   "metadata": {
    "ExecuteTime": {
     "end_time": "2024-12-27T17:49:15.465635Z",
     "start_time": "2024-12-27T17:49:15.461719Z"
    }
   },
   "cell_type": "code",
   "source": "tmp_msn['mol_freq']",
   "id": "326883d71d60723c",
   "outputs": [
    {
     "data": {
      "text/plain": [
       "tensor([1., 1., 1., 1., 1., 2., 1., 1., 1., 1., 1., 1.])"
      ]
     },
     "execution_count": 30,
     "metadata": {},
     "output_type": "execute_result"
    }
   ],
   "execution_count": 30
  },
  {
   "metadata": {
    "ExecuteTime": {
     "end_time": "2024-12-27T17:49:16.945642Z",
     "start_time": "2024-12-27T17:49:16.941857Z"
    }
   },
   "cell_type": "code",
   "source": "tmp_msn['identifier']",
   "id": "1d4e313252d26272",
   "outputs": [
    {
     "data": {
      "text/plain": [
       "['0024427_0000000',\n",
       " '0003980_0000000',\n",
       " '0084088_0000000',\n",
       " '0096920_0000000',\n",
       " '0004159_0000000',\n",
       " '0001584_0000000',\n",
       " '0039720_0000000',\n",
       " '0044544_0000000',\n",
       " '0080851_0000000',\n",
       " '0059397_0000000',\n",
       " '0062342_0000000',\n",
       " '0091534_0000000']"
      ]
     },
     "execution_count": 31,
     "metadata": {},
     "output_type": "execute_result"
    }
   ],
   "execution_count": 31
  },
  {
   "metadata": {},
   "cell_type": "code",
   "outputs": [],
   "execution_count": null,
   "source": "",
   "id": "eea28ed31f555b19"
  }
 ],
 "metadata": {
  "kernelspec": {
   "display_name": "Python 3",
   "language": "python",
   "name": "python3"
  },
  "language_info": {
   "codemirror_mode": {
    "name": "ipython",
    "version": 2
   },
   "file_extension": ".py",
   "mimetype": "text/x-python",
   "name": "python",
   "nbconvert_exporter": "python",
   "pygments_lexer": "ipython2",
   "version": "2.7.6"
  }
 },
 "nbformat": 4,
 "nbformat_minor": 5
}
