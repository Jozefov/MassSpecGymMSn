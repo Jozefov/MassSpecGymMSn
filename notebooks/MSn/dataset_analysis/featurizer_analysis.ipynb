{
 "cells": [
  {
   "cell_type": "code",
   "id": "initial_id",
   "metadata": {
    "collapsed": true,
    "ExecuteTime": {
     "end_time": "2024-09-25T04:56:13.126286Z",
     "start_time": "2024-09-25T04:56:10.239661Z"
    }
   },
   "source": [
    "from matchms.importing import load_from_mgf\n",
    "import os\n",
    "from collections import defaultdict\n",
    "import numpy as np\n",
    "from collections import Counter\n",
    "import pandas as pd\n",
    "import json\n",
    "import matchms\n",
    "from matchms import Spectrum\n",
    "from matchms.importing import load_from_mgf\n",
    "from matchms.exporting import save_as_mgf\n",
    "from typing import List, Union\n",
    "import matplotlib.pyplot as plt\n",
    "\n",
    "from massspecgym.data.transforms import MolFingerprinter\n",
    "from massspecgym.featurize import SpectrumTransformerFeaturizer, SpectrumFeaturizer\n",
    "from massspecgym.data.datasets import MSnDataset\n",
    "from massspecgym.utils import (\n",
    "    morgan_fp, init_plotting, smiles_to_scaffold,\n",
    "    train_val_test_split, create_split_file,\n",
    "    MyopicMCES\n",
    "    )"
   ],
   "outputs": [],
   "execution_count": 2
  },
  {
   "metadata": {
    "ExecuteTime": {
     "end_time": "2024-09-24T08:20:12.467636Z",
     "start_time": "2024-09-24T08:20:12.462858Z"
    }
   },
   "cell_type": "code",
   "source": [
    "config_transformer = {\n",
    "    'features': ['collision_energy', 'ionmode', 'adduct', 'spectral_data'],\n",
    "    'feature_attributes': {\n",
    "        'collision_energy': {\n",
    "            'encoding': 'continuous',  # Options: 'binning', 'continuous'\n",
    "        },\n",
    "        'spectral_data': {\n",
    "            'max_peaks': 100,  # Limit to top 100 peaks\n",
    "            'output_peak_embedding_dim': '1d',  # Options: '1d', '2d'\n",
    "        },\n",
    "    },\n",
    "    'max_sequence_length': 512,\n",
    "    'embedding_dim': 128,\n",
    "    'cls_token_id': 0,\n",
    "    'sep_token_id': 1,\n",
    "    'pad_token_id': 2,\n",
    "    'spec_start_token_id': 3,  # Optional\n",
    "}"
   ],
   "id": "b6416c0022baf6ea",
   "outputs": [],
   "execution_count": 2
  },
  {
   "metadata": {
    "ExecuteTime": {
     "end_time": "2024-09-23T13:55:25.880110Z",
     "start_time": "2024-09-23T13:55:25.877792Z"
    }
   },
   "cell_type": "code",
   "source": [
    "config_transformer = {\n",
    "    'features': ['spectral_data'],\n",
    "    'feature_attributes': {\n",
    "        'spectral_data': {\n",
    "            'max_peaks': 100,  # Limit to top 100 peaks\n",
    "            'output_peak_embedding_dim': '2d',  # Options: '1d', '2d'\n",
    "        },\n",
    "    },\n",
    "    'max_sequence_length': 512,\n",
    "    'embedding_dim': 128,\n",
    "    'cls_token_id': 0,\n",
    "    'sep_token_id': 1,\n",
    "    'pad_token_id': 2,\n",
    "    'spec_start_token_id': 3,  # Optional\n",
    "}"
   ],
   "id": "836f36c1ac09c9d5",
   "outputs": [],
   "execution_count": 8
  },
  {
   "metadata": {
    "ExecuteTime": {
     "end_time": "2024-09-25T04:56:13.512059Z",
     "start_time": "2024-09-25T04:56:13.509680Z"
    }
   },
   "cell_type": "code",
   "source": [
    "config = {\n",
    "    'features': ['collision_energy', 'ionmode', 'adduct', 'spectrum_stats', 'atom_counts', 'value', \"retention_time\", 'ion_source', 'binned_peaks'],\n",
    "    'feature_attributes': {\n",
    "        'atom_counts': {\n",
    "            'top_n_atoms': 12,\n",
    "            'include_other': True,\n",
    "        },\n",
    "    },\n",
    "}"
   ],
   "id": "440661f8ef43455f",
   "outputs": [],
   "execution_count": 3
  },
  {
   "metadata": {},
   "cell_type": "code",
   "outputs": [],
   "execution_count": null,
   "source": "",
   "id": "f60bd3f6e83749b2"
  },
  {
   "metadata": {
    "ExecuteTime": {
     "end_time": "2024-09-25T04:56:14.693819Z",
     "start_time": "2024-09-25T04:56:14.691901Z"
    }
   },
   "cell_type": "code",
   "source": [
    "fingerprinter = MolFingerprinter()\n",
    "# featurizer = SpectrumTransformerFeaturizer(config)\n",
    "featurizer = SpectrumFeaturizer(config, mode='numpy')"
   ],
   "id": "e7aed3787207cebc",
   "outputs": [],
   "execution_count": 4
  },
  {
   "metadata": {
    "ExecuteTime": {
     "end_time": "2024-09-25T04:56:16.461021Z",
     "start_time": "2024-09-25T04:56:16.404384Z"
    }
   },
   "cell_type": "code",
   "source": [
    "msn_dataset = MSnDataset(pth=\"/Users/macbook/CODE/Majer:MassSpecGym/data/MSn/five_trees.mgf\", mol_transform=MolFingerprinter.from_smiles,\n",
    "                         featurizer=featurizer)\n",
    "print(len(msn_dataset))"
   ],
   "id": "50ad34f9192807ff",
   "outputs": [
    {
     "name": "stdout",
     "output_type": "stream",
     "text": [
      "5\n"
     ]
    }
   ],
   "execution_count": 5
  },
  {
   "metadata": {
    "ExecuteTime": {
     "end_time": "2024-09-25T04:57:26.438094Z",
     "start_time": "2024-09-25T04:57:26.435468Z"
    }
   },
   "cell_type": "code",
   "source": "msn_dataset.pyg_trees",
   "id": "1719f899d7ed98f2",
   "outputs": [
    {
     "data": {
      "text/plain": [
       "[Data(x=[14, 1039], edge_index=[2, 13]),\n",
       " Data(x=[15, 1039], edge_index=[2, 14]),\n",
       " Data(x=[9, 1039], edge_index=[2, 8]),\n",
       " Data(x=[13, 1039], edge_index=[2, 12]),\n",
       " Data(x=[12, 1039], edge_index=[2, 11])]"
      ]
     },
     "execution_count": 9,
     "metadata": {},
     "output_type": "execute_result"
    }
   ],
   "execution_count": 9
  },
  {
   "metadata": {},
   "cell_type": "code",
   "outputs": [],
   "execution_count": null,
   "source": "",
   "id": "9f60dc13051cf7f5"
  },
  {
   "metadata": {},
   "cell_type": "code",
   "outputs": [],
   "execution_count": null,
   "source": "",
   "id": "a38047672f3f4152"
  },
  {
   "metadata": {},
   "cell_type": "code",
   "outputs": [],
   "execution_count": null,
   "source": "",
   "id": "850ccd1fd91fda0"
  },
  {
   "metadata": {},
   "cell_type": "code",
   "outputs": [],
   "execution_count": null,
   "source": "",
   "id": "92e2c66148209b06"
  },
  {
   "metadata": {},
   "cell_type": "code",
   "outputs": [],
   "execution_count": null,
   "source": "",
   "id": "76356eef485a6785"
  }
 ],
 "metadata": {
  "kernelspec": {
   "display_name": "Python 3",
   "language": "python",
   "name": "python3"
  },
  "language_info": {
   "codemirror_mode": {
    "name": "ipython",
    "version": 2
   },
   "file_extension": ".py",
   "mimetype": "text/x-python",
   "name": "python",
   "nbconvert_exporter": "python",
   "pygments_lexer": "ipython2",
   "version": "2.7.6"
  }
 },
 "nbformat": 4,
 "nbformat_minor": 5
}
