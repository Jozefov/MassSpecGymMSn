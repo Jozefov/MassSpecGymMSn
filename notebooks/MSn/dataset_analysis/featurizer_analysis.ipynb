{
 "cells": [
  {
   "cell_type": "code",
   "id": "initial_id",
   "metadata": {
    "collapsed": true,
    "ExecuteTime": {
     "end_time": "2024-09-23T14:56:11.232524Z",
     "start_time": "2024-09-23T14:56:11.229654Z"
    }
   },
   "source": [
    "from matchms.importing import load_from_mgf\n",
    "import os\n",
    "from collections import defaultdict\n",
    "import numpy as np\n",
    "from collections import Counter\n",
    "import pandas as pd\n",
    "import json\n",
    "import matchms\n",
    "from matchms import Spectrum\n",
    "from matchms.importing import load_from_mgf\n",
    "from matchms.exporting import save_as_mgf\n",
    "from typing import List, Union\n",
    "import matplotlib.pyplot as plt\n",
    "\n",
    "from massspecgym.data.transforms import MolFingerprinter\n",
    "from massspecgym.featurize import SpectrumTransformerFeaturizer, SpectrumFeaturizer\n",
    "from massspecgym.data.datasets import MSnDataset\n",
    "from massspecgym.utils import (\n",
    "    morgan_fp, init_plotting, smiles_to_scaffold,\n",
    "    train_val_test_split, create_split_file,\n",
    "    MyopicMCES\n",
    "    )"
   ],
   "outputs": [],
   "execution_count": 12
  },
  {
   "metadata": {
    "ExecuteTime": {
     "end_time": "2024-09-23T13:53:21.435572Z",
     "start_time": "2024-09-23T13:53:21.433313Z"
    }
   },
   "cell_type": "code",
   "source": [
    "config_transformer = {\n",
    "    'features': ['collision_energy', 'ionmode', 'adduct', 'spectral_data'],\n",
    "    'feature_attributes': {\n",
    "        'collision_energy': {\n",
    "            'encoding': 'continuous',  # Options: 'binning', 'continuous'\n",
    "        },\n",
    "        'spectral_data': {\n",
    "            'max_peaks': 100,  # Limit to top 100 peaks\n",
    "            'output_peak_embedding_dim': '1d',  # Options: '1d', '2d'\n",
    "        },\n",
    "    },\n",
    "    'max_sequence_length': 512,\n",
    "    'embedding_dim': 128,\n",
    "    'cls_token_id': 0,\n",
    "    'sep_token_id': 1,\n",
    "    'pad_token_id': 2,\n",
    "    'spec_start_token_id': 3,  # Optional\n",
    "}"
   ],
   "id": "b6416c0022baf6ea",
   "outputs": [],
   "execution_count": 2
  },
  {
   "metadata": {
    "ExecuteTime": {
     "end_time": "2024-09-23T13:55:25.880110Z",
     "start_time": "2024-09-23T13:55:25.877792Z"
    }
   },
   "cell_type": "code",
   "source": [
    "config_transformer = {\n",
    "    'features': ['spectral_data'],\n",
    "    'feature_attributes': {\n",
    "        'spectral_data': {\n",
    "            'max_peaks': 100,  # Limit to top 100 peaks\n",
    "            'output_peak_embedding_dim': '2d',  # Options: '1d', '2d'\n",
    "        },\n",
    "    },\n",
    "    'max_sequence_length': 512,\n",
    "    'embedding_dim': 128,\n",
    "    'cls_token_id': 0,\n",
    "    'sep_token_id': 1,\n",
    "    'pad_token_id': 2,\n",
    "    'spec_start_token_id': 3,  # Optional\n",
    "}"
   ],
   "id": "836f36c1ac09c9d5",
   "outputs": [],
   "execution_count": 8
  },
  {
   "metadata": {
    "ExecuteTime": {
     "end_time": "2024-09-23T14:58:11.742418Z",
     "start_time": "2024-09-23T14:58:11.740139Z"
    }
   },
   "cell_type": "code",
   "source": [
    "config = {\n",
    "    'features': ['collision_energy', 'ionmode', 'adduct', 'spectrum_stats', 'atom_counts'],\n",
    "    'feature_attributes': {\n",
    "        'atom_counts': {\n",
    "            'top_n_atoms': 12,\n",
    "            'include_other': True,\n",
    "        },\n",
    "    },\n",
    "}"
   ],
   "id": "440661f8ef43455f",
   "outputs": [],
   "execution_count": 15
  },
  {
   "metadata": {
    "ExecuteTime": {
     "end_time": "2024-09-23T14:58:13.088406Z",
     "start_time": "2024-09-23T14:58:13.085514Z"
    }
   },
   "cell_type": "code",
   "source": [
    "fingerprinter = MolFingerprinter()\n",
    "# featurizer = SpectrumTransformerFeaturizer(config)\n",
    "featurizer = SpectrumFeaturizer(config)"
   ],
   "id": "e7aed3787207cebc",
   "outputs": [],
   "execution_count": 16
  },
  {
   "metadata": {
    "ExecuteTime": {
     "end_time": "2024-09-23T14:58:14.354375Z",
     "start_time": "2024-09-23T14:58:14.290716Z"
    }
   },
   "cell_type": "code",
   "source": [
    "msn_dataset = MSnDataset(pth=\"/Users/macbook/CODE/Majer:MassSpecGym/data/MSn/five_trees.mgf\", mol_transform=MolFingerprinter.from_smiles,\n",
    "                         featurizer=featurizer)\n",
    "print(len(msn_dataset))"
   ],
   "id": "50ad34f9192807ff",
   "outputs": [
    {
     "name": "stdout",
     "output_type": "stream",
     "text": [
      "5\n"
     ]
    },
    {
     "name": "stderr",
     "output_type": "stream",
     "text": [
      "/Users/macbook/CODE/Majer:MassSpecGym/massspecgym/data/datasets.py:367: UserWarning: Creating a tensor from a list of numpy.ndarrays is extremely slow. Please consider converting the list to a single numpy.ndarray with numpy.array() before converting to a tensor. (Triggered internally at /Users/runner/work/pytorch/pytorch/pytorch/torch/csrc/utils/tensor_new.cpp:281.)\n",
      "  x = torch.tensor(node_features, dtype=torch.float)\n"
     ]
    }
   ],
   "execution_count": 17
  },
  {
   "metadata": {},
   "cell_type": "code",
   "outputs": [],
   "execution_count": null,
   "source": "",
   "id": "1719f899d7ed98f2"
  },
  {
   "metadata": {},
   "cell_type": "code",
   "outputs": [],
   "execution_count": null,
   "source": "",
   "id": "9f60dc13051cf7f5"
  },
  {
   "metadata": {},
   "cell_type": "code",
   "outputs": [],
   "execution_count": null,
   "source": "",
   "id": "a38047672f3f4152"
  },
  {
   "metadata": {},
   "cell_type": "code",
   "outputs": [],
   "execution_count": null,
   "source": "",
   "id": "850ccd1fd91fda0"
  },
  {
   "metadata": {},
   "cell_type": "code",
   "outputs": [],
   "execution_count": null,
   "source": "",
   "id": "92e2c66148209b06"
  },
  {
   "metadata": {},
   "cell_type": "code",
   "outputs": [],
   "execution_count": null,
   "source": "",
   "id": "76356eef485a6785"
  }
 ],
 "metadata": {
  "kernelspec": {
   "display_name": "Python 3",
   "language": "python",
   "name": "python3"
  },
  "language_info": {
   "codemirror_mode": {
    "name": "ipython",
    "version": 2
   },
   "file_extension": ".py",
   "mimetype": "text/x-python",
   "name": "python",
   "nbconvert_exporter": "python",
   "pygments_lexer": "ipython2",
   "version": "2.7.6"
  }
 },
 "nbformat": 4,
 "nbformat_minor": 5
}
