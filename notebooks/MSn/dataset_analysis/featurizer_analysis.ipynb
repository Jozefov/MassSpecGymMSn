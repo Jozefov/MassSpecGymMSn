{
 "cells": [
  {
   "cell_type": "code",
   "id": "initial_id",
   "metadata": {
    "collapsed": true,
    "ExecuteTime": {
     "end_time": "2024-10-19T13:15:10.752093Z",
     "start_time": "2024-10-19T13:15:07.919797Z"
    }
   },
   "source": [
    "from matchms.importing import load_from_mgf\n",
    "import os\n",
    "from collections import defaultdict\n",
    "import numpy as np\n",
    "from collections import Counter\n",
    "import pandas as pd\n",
    "import json\n",
    "import matchms\n",
    "from matchms import Spectrum\n",
    "from matchms.importing import load_from_mgf\n",
    "from matchms.exporting import save_as_mgf\n",
    "from typing import List, Union\n",
    "import matplotlib.pyplot as plt\n",
    "from numba.cuda.printimpl import print_item\n",
    "\n",
    "from massspecgym.data.transforms import MolFingerprinter\n",
    "from massspecgym.featurize import SpectrumTransformerFeaturizer, SpectrumFeaturizer\n",
    "from massspecgym.data.datasets import MSnDataset\n",
    "from massspecgym.utils import (\n",
    "    morgan_fp, init_plotting, smiles_to_scaffold,\n",
    "    train_val_test_split, create_split_file,\n",
    "    MyopicMCES\n",
    "    )"
   ],
   "outputs": [],
   "execution_count": 1
  },
  {
   "metadata": {
    "ExecuteTime": {
     "end_time": "2024-09-30T07:43:29.486049Z",
     "start_time": "2024-09-30T07:43:29.483926Z"
    }
   },
   "cell_type": "code",
   "source": [
    "config = {\n",
    "    'features': ['collision_energy', 'ionmode', 'adduct', 'spectrum_stats', 'atom_counts', 'value', \"retention_time\", 'ion_source', 'binned_peaks'],\n",
    "    'feature_attributes': {\n",
    "        'atom_counts': {\n",
    "            'top_n_atoms': 12,\n",
    "            'include_other': True,\n",
    "        },\n",
    "    },\n",
    "}"
   ],
   "id": "440661f8ef43455f",
   "outputs": [],
   "execution_count": 2
  },
  {
   "metadata": {},
   "cell_type": "code",
   "outputs": [],
   "execution_count": null,
   "source": "",
   "id": "f60bd3f6e83749b2"
  },
  {
   "metadata": {
    "ExecuteTime": {
     "end_time": "2024-09-25T04:56:14.693819Z",
     "start_time": "2024-09-25T04:56:14.691901Z"
    }
   },
   "cell_type": "code",
   "source": [
    "fingerprinter = MolFingerprinter()\n",
    "# featurizer = SpectrumTransformerFeaturizer(config)\n",
    "featurizer = SpectrumFeaturizer(config, mode='torch')"
   ],
   "id": "e7aed3787207cebc",
   "outputs": [],
   "execution_count": 4
  },
  {
   "metadata": {
    "ExecuteTime": {
     "end_time": "2024-09-25T04:56:16.461021Z",
     "start_time": "2024-09-25T04:56:16.404384Z"
    }
   },
   "cell_type": "code",
   "source": [
    "msn_dataset = MSnDataset(pth=\"/Users/macbook/CODE/Majer:MassSpecGym/data/MSn/five_trees.mgf\", mol_transform=MolFingerprinter.from_smiles,\n",
    "                         featurizer=featurizer)\n",
    "print(len(msn_dataset))"
   ],
   "id": "50ad34f9192807ff",
   "outputs": [
    {
     "name": "stdout",
     "output_type": "stream",
     "text": [
      "5\n"
     ]
    }
   ],
   "execution_count": 5
  },
  {
   "metadata": {
    "ExecuteTime": {
     "end_time": "2024-09-25T04:57:26.438094Z",
     "start_time": "2024-09-25T04:57:26.435468Z"
    }
   },
   "cell_type": "code",
   "source": "msn_dataset.pyg_trees",
   "id": "1719f899d7ed98f2",
   "outputs": [
    {
     "data": {
      "text/plain": [
       "[Data(x=[14, 1039], edge_index=[2, 13]),\n",
       " Data(x=[15, 1039], edge_index=[2, 14]),\n",
       " Data(x=[9, 1039], edge_index=[2, 8]),\n",
       " Data(x=[13, 1039], edge_index=[2, 12]),\n",
       " Data(x=[12, 1039], edge_index=[2, 11])]"
      ]
     },
     "execution_count": 9,
     "metadata": {},
     "output_type": "execute_result"
    }
   ],
   "execution_count": 9
  },
  {
   "metadata": {},
   "cell_type": "markdown",
   "source": "# Include DreaMS",
   "id": "9470b40572f4e1fc"
  },
  {
   "metadata": {
    "ExecuteTime": {
     "end_time": "2024-10-19T13:15:10.793965Z",
     "start_time": "2024-10-19T13:15:10.791742Z"
    }
   },
   "cell_type": "code",
   "source": [
    "config = {\n",
    "    'features': [\n",
    "        'spectrum_embedding' \n",
    "    ],\n",
    "    'feature_attributes': {\n",
    "        'spectrum_embedding': {\n",
    "            'path_to_embeddings': \"/Users/macbook/CODE/Majer:MassSpecGym/data/MSn/MSn_DreaMS.h5\", \n",
    "            'identifier_col': 'identifiers',\n",
    "            'embedding_col': 'embeddings',  \n",
    "            'embedding_dim': 1024 \n",
    "        },\n",
    "\n",
    "    },\n",
    "}"
   ],
   "id": "bea2fe6eea371e1",
   "outputs": [],
   "execution_count": 2
  },
  {
   "metadata": {
    "ExecuteTime": {
     "end_time": "2024-10-19T13:15:44.859307Z",
     "start_time": "2024-10-19T13:15:10.990398Z"
    }
   },
   "cell_type": "code",
   "source": [
    "mol_transform = MolFingerprinter()\n",
    "featurizer = SpectrumFeaturizer(config, mode='torch')"
   ],
   "id": "cb6c0b7b125c24c3",
   "outputs": [],
   "execution_count": 3
  },
  {
   "metadata": {
    "ExecuteTime": {
     "end_time": "2024-10-19T13:15:44.927990Z",
     "start_time": "2024-10-19T13:15:44.862951Z"
    }
   },
   "cell_type": "code",
   "source": [
    "msn_dataset = MSnDataset(pth=\"/Users/macbook/CODE/Majer:MassSpecGym/data/MSn/five_trees.mgf\", mol_transform=mol_transform,\n",
    "                         featurizer=featurizer)"
   ],
   "id": "66f2af16901e4176",
   "outputs": [
    {
     "name": "stdout",
     "output_type": "stream",
     "text": [
      "tu som \n",
      "tu som \n",
      "tu som \n",
      "tu som \n",
      "tu som \n",
      "tu som \n",
      "tu som \n",
      "tu som \n",
      "tu som \n",
      "tu som \n",
      "tu som \n",
      "tu som \n",
      "tu som \n",
      "tu som \n",
      "tu som \n",
      "tu som \n",
      "tu som \n",
      "tu som \n",
      "tu som \n",
      "tu som \n",
      "tu som \n",
      "tu som \n",
      "tu som \n",
      "tu som \n",
      "tu som \n",
      "tu som \n",
      "tu som \n",
      "tu som \n",
      "tu som \n",
      "tu som \n",
      "tu som \n",
      "tu som \n",
      "tu som \n",
      "tu som \n",
      "tu som \n",
      "tu som \n",
      "tu som \n",
      "tu som \n",
      "tu som \n",
      "tu som \n",
      "tu som \n",
      "tu som \n",
      "tu som \n",
      "tu som \n",
      "tu som \n",
      "tu som \n",
      "tu som \n",
      "tu som \n",
      "tu som \n",
      "tu som \n",
      "tu som \n",
      "tu som \n",
      "tu som \n",
      "tu som \n",
      "tu som \n",
      "tu som \n",
      "tu som \n",
      "tu som \n",
      "tu som \n",
      "tu som \n",
      "tu som \n",
      "tu som \n",
      "tu som \n"
     ]
    }
   ],
   "execution_count": 4
  },
  {
   "metadata": {
    "ExecuteTime": {
     "end_time": "2024-10-19T13:15:45.012603Z",
     "start_time": "2024-10-19T13:15:45.008974Z"
    }
   },
   "cell_type": "code",
   "source": "msn_dataset.pyg_trees",
   "id": "11aca3d7ef02c287",
   "outputs": [
    {
     "data": {
      "text/plain": [
       "[Data(x=[14, 1024], edge_index=[2, 13]),\n",
       " Data(x=[15, 1024], edge_index=[2, 14]),\n",
       " Data(x=[9, 1024], edge_index=[2, 8]),\n",
       " Data(x=[13, 1024], edge_index=[2, 12]),\n",
       " Data(x=[12, 1024], edge_index=[2, 11])]"
      ]
     },
     "execution_count": 5,
     "metadata": {},
     "output_type": "execute_result"
    }
   ],
   "execution_count": 5
  },
  {
   "metadata": {},
   "cell_type": "markdown",
   "source": "# Transformer encoding UNFINISHED",
   "id": "b8972f777e2e7ec8"
  },
  {
   "metadata": {},
   "cell_type": "code",
   "outputs": [],
   "execution_count": null,
   "source": [
    "config_transformer = {\n",
    "    'features': ['collision_energy', 'ionmode', 'adduct', 'spectral_data'],\n",
    "    'feature_attributes': {\n",
    "        'collision_energy': {\n",
    "            'encoding': 'continuous',  # Options: 'binning', 'continuous'\n",
    "        },\n",
    "        'spectral_data': {\n",
    "            'max_peaks': 100,  # Limit to top 100 peaks\n",
    "            'output_peak_embedding_dim': '1d',  # Options: '1d', '2d'\n",
    "        },\n",
    "    },\n",
    "    'max_sequence_length': 512,\n",
    "    'embedding_dim': 128,\n",
    "    'cls_token_id': 0,\n",
    "    'sep_token_id': 1,\n",
    "    'pad_token_id': 2,\n",
    "    'spec_start_token_id': 3,  # Optional\n",
    "}"
   ],
   "id": "3280a0d5cb1edec3"
  },
  {
   "metadata": {},
   "cell_type": "code",
   "outputs": [],
   "execution_count": null,
   "source": [
    "config_transformer = {\n",
    "    'features': ['spectral_data'],\n",
    "    'feature_attributes': {\n",
    "        'spectral_data': {\n",
    "            'max_peaks': 100,  # Limit to top 100 peaks\n",
    "            'output_peak_embedding_dim': '2d',  # Options: '1d', '2d'\n",
    "        },\n",
    "    },\n",
    "    'max_sequence_length': 512,\n",
    "    'embedding_dim': 128,\n",
    "    'cls_token_id': 0,\n",
    "    'sep_token_id': 1,\n",
    "    'pad_token_id': 2,\n",
    "    'spec_start_token_id': 3,  # Optional\n",
    "}"
   ],
   "id": "37b3804aacb5e5a4"
  },
  {
   "metadata": {},
   "cell_type": "code",
   "outputs": [],
   "execution_count": null,
   "source": "",
   "id": "191c15738228bf99"
  },
  {
   "metadata": {},
   "cell_type": "code",
   "outputs": [],
   "execution_count": null,
   "source": "",
   "id": "4e6b2f4841c23c08"
  }
 ],
 "metadata": {
  "kernelspec": {
   "display_name": "Python 3",
   "language": "python",
   "name": "python3"
  },
  "language_info": {
   "codemirror_mode": {
    "name": "ipython",
    "version": 2
   },
   "file_extension": ".py",
   "mimetype": "text/x-python",
   "name": "python",
   "nbconvert_exporter": "python",
   "pygments_lexer": "ipython2",
   "version": "2.7.6"
  }
 },
 "nbformat": 4,
 "nbformat_minor": 5
}
