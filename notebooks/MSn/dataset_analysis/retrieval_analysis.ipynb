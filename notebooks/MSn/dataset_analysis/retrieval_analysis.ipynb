{
 "cells": [
  {
   "cell_type": "code",
   "execution_count": 1,
   "id": "da6a763cea0be904",
   "metadata": {
    "ExecuteTime": {
     "end_time": "2025-01-26T14:02:31.123365Z",
     "start_time": "2025-01-26T14:02:28.042284Z"
    }
   },
   "outputs": [],
   "source": [
    "from massspecgym.data.datasets import MSnDataset, MSnRetrievalDataset, RetrievalDataset\n",
    "import torch"
   ]
  },
  {
   "cell_type": "code",
   "execution_count": 2,
   "id": "22f3a2d12131cd17",
   "metadata": {
    "ExecuteTime": {
     "end_time": "2025-01-26T14:02:31.127887Z",
     "start_time": "2025-01-26T14:02:31.126180Z"
    }
   },
   "outputs": [],
   "source": [
    "file_mgf = \"/Users/macbook/CODE/Majer:MassSpecGym/data/MSn/20241211_msn_library_pos_all_lib_MSn.mgf\"\n",
    "file_json = \"/Users/macbook/CODE/Majer:MassSpecGym/data/Retrieval/MassSpecGym_retrieval_candidates_mass.json\"\n",
    "split_file = \"/Users/macbook/CODE/Majer:MassSpecGym/data/MSn/20241211_split.tsv\""
   ]
  },
  {
   "cell_type": "code",
   "execution_count": 3,
   "id": "c0a04ca978e09c61",
   "metadata": {
    "ExecuteTime": {
     "end_time": "2025-01-26T14:02:31.167104Z",
     "start_time": "2025-01-26T14:02:31.165241Z"
    }
   },
   "outputs": [],
   "source": [
    "from massspecgym.data.transforms import MolFingerprinter, SpecTokenizer\n",
    "from massspecgym.data import RetrievalDataset, MassSpecDataModule"
   ]
  },
  {
   "cell_type": "code",
   "execution_count": 4,
   "id": "db1094d3df48cd7f",
   "metadata": {
    "ExecuteTime": {
     "end_time": "2025-01-26T14:02:31.172507Z",
     "start_time": "2025-01-26T14:02:31.171007Z"
    }
   },
   "outputs": [],
   "source": [
    "pth_massspecgym_original = \"/Users/macbook/CODE/Majer:MassSpecGym/data/MassSpecGym/MassSpecGym.tsv\""
   ]
  },
  {
   "cell_type": "code",
   "execution_count": 5,
   "id": "5346beea048ce5a5",
   "metadata": {
    "ExecuteTime": {
     "end_time": "2025-01-26T14:02:42.169384Z",
     "start_time": "2025-01-26T14:02:31.176446Z"
    }
   },
   "outputs": [],
   "source": [
    "# Init hyperparameters\n",
    "n_peaks = 60\n",
    "fp_size = 4096\n",
    "batch_size = 12\n",
    "\n",
    "# Load dataset\n",
    "dataset_original = RetrievalDataset(\n",
    "    pth=pth_massspecgym_original,\n",
    "    candidates_pth=file_json,\n",
    "    spec_transform=SpecTokenizer(n_peaks=n_peaks),\n",
    "    mol_transform=MolFingerprinter(fp_size=fp_size),\n",
    ")\n"
   ]
  },
  {
   "cell_type": "code",
   "execution_count": 6,
   "id": "d6ceed9debd5cc51",
   "metadata": {
    "ExecuteTime": {
     "end_time": "2025-01-26T14:02:42.176395Z",
     "start_time": "2025-01-26T14:02:42.174772Z"
    }
   },
   "outputs": [],
   "source": [
    "# Init data module\n",
    "data_module_original = MassSpecDataModule(\n",
    "    dataset=dataset_original,\n",
    "    batch_size=batch_size,\n",
    "    num_workers=0,\n",
    ")"
   ]
  },
  {
   "cell_type": "code",
   "execution_count": 7,
   "id": "c4bfe776ab073f74",
   "metadata": {
    "ExecuteTime": {
     "end_time": "2025-01-26T14:02:42.228794Z",
     "start_time": "2025-01-26T14:02:42.187305Z"
    }
   },
   "outputs": [
    {
     "name": "stdout",
     "output_type": "stream",
     "text": [
      "Train dataset size: 194119\n",
      "Val dataset size: 19429\n"
     ]
    }
   ],
   "source": [
    "data_module_original.prepare_data()\n",
    "data_module_original.setup()\n",
    "\n",
    "train_loader_original = data_module_original.train_dataloader()"
   ]
  },
  {
   "cell_type": "code",
   "execution_count": 24,
   "id": "55185d08a14a11ab",
   "metadata": {
    "ExecuteTime": {
     "end_time": "2025-01-26T14:02:43.217705Z",
     "start_time": "2025-01-26T14:02:42.256407Z"
    }
   },
   "outputs": [
    {
     "name": "stdout",
     "output_type": "stream",
     "text": [
      "I am not here\n",
      "{'spec': tensor([[[5.5926e+02, 1.1000e+00],\n",
      "         [2.5010e+02, 2.1548e-03],\n",
      "         [2.9215e+02, 2.5481e-03],\n",
      "         ...,\n",
      "         [0.0000e+00, 0.0000e+00],\n",
      "         [0.0000e+00, 0.0000e+00],\n",
      "         [0.0000e+00, 0.0000e+00]],\n",
      "\n",
      "        [[1.6799e+02, 1.1000e+00],\n",
      "         [5.0015e+01, 1.4014e-01],\n",
      "         [5.1023e+01, 1.3013e-01],\n",
      "         ...,\n",
      "         [0.0000e+00, 0.0000e+00],\n",
      "         [0.0000e+00, 0.0000e+00],\n",
      "         [0.0000e+00, 0.0000e+00]],\n",
      "\n",
      "        [[1.6605e+02, 1.1000e+00],\n",
      "         [4.6033e+01, 7.6923e-02],\n",
      "         [5.6050e+01, 1.0000e+00],\n",
      "         ...,\n",
      "         [0.0000e+00, 0.0000e+00],\n",
      "         [0.0000e+00, 0.0000e+00],\n",
      "         [0.0000e+00, 0.0000e+00]],\n",
      "\n",
      "        ...,\n",
      "\n",
      "        [[3.4215e+02, 1.1000e+00],\n",
      "         [1.0808e+02, 1.7162e-02],\n",
      "         [1.1807e+02, 6.4569e-02],\n",
      "         ...,\n",
      "         [0.0000e+00, 0.0000e+00],\n",
      "         [0.0000e+00, 0.0000e+00],\n",
      "         [0.0000e+00, 0.0000e+00]],\n",
      "\n",
      "        [[3.2623e+02, 1.1000e+00],\n",
      "         [7.0065e+01, 8.8600e-03],\n",
      "         [7.9021e+01, 2.7500e-03],\n",
      "         ...,\n",
      "         [0.0000e+00, 0.0000e+00],\n",
      "         [0.0000e+00, 0.0000e+00],\n",
      "         [0.0000e+00, 0.0000e+00]],\n",
      "\n",
      "        [[3.8305e+02, 1.1000e+00],\n",
      "         [7.9054e+01, 1.7464e-01],\n",
      "         [8.1070e+01, 7.0622e-01],\n",
      "         ...,\n",
      "         [0.0000e+00, 0.0000e+00],\n",
      "         [0.0000e+00, 0.0000e+00],\n",
      "         [0.0000e+00, 0.0000e+00]]]), 'mol': tensor([[0., 0., 0.,  ..., 0., 0., 0.],\n",
      "        [0., 0., 0.,  ..., 0., 0., 0.],\n",
      "        [0., 0., 0.,  ..., 0., 0., 0.],\n",
      "        ...,\n",
      "        [0., 0., 0.,  ..., 0., 0., 0.],\n",
      "        [0., 0., 0.,  ..., 0., 0., 0.],\n",
      "        [0., 0., 0.,  ..., 0., 0., 0.]]), 'precursor_mz': tensor([559.2603, 167.9936, 166.0521, 133.0608, 325.1911, 522.3560, 854.5700,\n",
      "        323.9880, 539.1200, 342.1547, 326.2339, 383.0497]), 'adduct': ['[M+H]+', '[M+H]+', '[M+H]+', '[M+H]+', '[M+H]+', '[M+H]+', '[M+H]+', '[M+H]+', '[M+Na]+', '[M+H]+', '[M+H]+', '[M+H]+'], 'mol_freq': tensor([ 81.,  24.,  16.,  57., 405., 301.,  73.,  35.,  78.,  63.,   3., 200.]), 'identifier': ['MassSpecGymID0021375', 'MassSpecGymID0057192', 'MassSpecGymID0182360', 'MassSpecGymID0008983', 'MassSpecGymID0092540', 'MassSpecGymID0402719', 'MassSpecGymID0406316', 'MassSpecGymID0051640', 'MassSpecGymID0289194', 'MassSpecGymID0100522', 'MassSpecGymID0229759', 'MassSpecGymID0085557'], 'smiles': ['CC(C)C1=C(C(=C(N1CC[C@H](C[C@H](CC(=O)O)O)O)C2=CC=C(C=C2)F)C3=CC=CC=C3)C(=O)NC4=CC=CC=C4', 'C1=CC=C2C(=C1)NC(=S)S2', 'CS(=O)CC[C@@H](C(=O)O)N', 'C([C@@H](C(=O)O)N)C(=O)N', 'COC1=CC2=C(C=CN=C2C=C1)[C@H]([C@@H]3C[C@@H]4CCN3C[C@@H]4C=C)O', 'CCCCCCCC/C=C\\\\CCCCCCCC(=O)O[C@H](CO)COP(=O)([O-])OCC[N+](C)(C)C', 'CC/C=C\\\\C/C=C\\\\C/C=C\\\\C/C=C\\\\C/C=C\\\\CCCCCC(=O)O[C@H](COC(=O)CCC/C=C\\\\C/C=C\\\\C/C=C\\\\C/C=C\\\\C/C=C\\\\CC)COP(=O)([O-])OCC[N+](C)(C)C', 'C1=CC=C(C=C1)NC(=O)C2=CC=CC=C2I', 'C1C(C(C(CC1(C(=O)O)O)OC(=O)C=CC2=CC(=C(C=C2)O)O)OC(=O)C=CC3=CC(=C(C=C3)O)O)O', 'C[C@H]1C(=O)O[C@@H]2CC[N+]3([C@@H]2C(=CC3)COC(=O)[C@]([C@]1(C)O)(C)O)[O-]', 'CC1=CC=CC=C1N2CCN(CC2)CCC3=NN=C4N3CCCC4', 'CC1(CCCO1)CN(C)S(=O)(=O)C2=CC(=C(C=C2)Cl)S(=O)(=O)N'], 'candidates': tensor([[0., 0., 0.,  ..., 0., 0., 0.],\n",
      "        [0., 0., 0.,  ..., 0., 0., 0.],\n",
      "        [0., 0., 1.,  ..., 0., 0., 0.],\n",
      "        ...,\n",
      "        [0., 0., 0.,  ..., 0., 0., 0.],\n",
      "        [0., 0., 0.,  ..., 0., 0., 0.],\n",
      "        [0., 0., 0.,  ..., 0., 0., 0.]]), 'labels': tensor([ True, False, False,  ..., False, False, False]), 'batch_ptr': tensor([256, 149, 256, 256, 256, 256, 175, 256, 256, 256, 256, 256]), 'candidates_smiles': ['CC(C)C1=C(C(=C(N1CC[C@H](C[C@H](CC(=O)O)O)O)C2=CC=C(C=C2)F)C3=CC=CC=C3)C(=O)NC4=CC=CC=C4', 'COc1ccc(NC(=O)N[C@@H](CCSC)C(=O)N[C@@H](CC(C)C)C(=O)NC(Cc2ccccc2)C(=O)O)cc1', 'O=C(CC1CCCCC1)Nc1cncc(-c2cc3c(cn2)CCN=C3c2nc3c(-c4ccc(F)cc4)cccc3[nH]2)c1', 'C=CCCCCOC(=O)[C@H]1[C@H]2C(=O)N(CCCCO)C(C(=O)N(CC=C)c3ccc(Cl)cc3)C23CC[C@]1(C)O3', 'C=CCOC(=O)[C@@H]1[C@H]2C(=O)N(CCCCCO)C(C(=O)N(CC=C)c3c(C)cccc3Cl)C23CC(C)[C@@]1(C)O3', 'C/N=C(\\\\NCC(C)CN1CCN(C)CC1)NCC(c1cccc(OC)c1)N1CCCC1.I', 'CC(C)C(=O)NS(=O)(=O)N(C)C.CC(C)C(=O)NS(C)(=O)=O.CC(C)C(=O)O.CC(C)c1ncn[nH]1', 'COc1cccc(C2C(C(=O)OC(C)(C)C)=C(C)N=C3SC=C(CC(=O)NCCN4CCOCC4)N32)c1OC', 'C=CC(=O)N1CCC(c2[nH]nc3ncnc(Nc4ccc(Oc5ccnc(N6CC(C)(OC)C6)c5)cc4F)c23)CC1', 'CC(C)(C)c1cc2c3c(c1)N(c1ccccc1)C1c4ccccc4OC1B3c1oc3ccccc3c1N2c1ccccc1', 'CCOc1cc(CN2CC[C@H]3C(Cc4nc5ccccc5o4)CC[C@H]32)cc(OCC)c1-c1ccc(F)cc1.O=C=O', 'Cc1cc(-c2c(OCCN3CCN(C(=O)OC(C)(C)C)CC3)nc(N)nc2-c2ccc(F)cc2)cc(C(F)F)n1', 'Cc1ccc(C2=NN(C(=O)CN(CCN3CCOCC3)C(=O)c3ccco3)[C@@H](c3ccc4c(c3)OCO4)C2)cc1C', 'CC1(C)OB(c2ccc(C[C@@H](NC(=O)[C@H](O)[C@@H](NC(=O)c3ccccc3)c3ccccc3)C(=O)O)cc2)OC1(C)C', 'CCCCc1ccc(C(=O)NNC(=O)CCSCCC(=O)NNC(=O)c2ccc(CCCC)cc2O)c(O)c1', 'Cc1ccccc1NC(=O)C(c1cccc(O)c1)N(CC#N)C(=O)C(Cc1ccc(O)cc1)NC(=O)OC(C)(C)C', 'C=CC(=O)Nc1cccc(-c2cccc3cnc(Nc4cc(F)c(N5CCN(CC(C)(C)O)CC5)cc4F)nc23)c1', 'CCOc1cc(C(=O)NN=C(C)c2c(-c3ccc(OC)cc3)[nH]n(-c3ccccc3)c2=O)cc(OCC)c1OCC', 'CN1CCC(OC(=O)c2ccc(NC(N)=Nc3ncccc3C3=CCN(C(=O)CCC(F)(F)F)CC3)cc2)CC1', 'COc1ccnc(C(=O)N[C@@H](CC(C)C)c2noc(-c3ccc(-c4ccccc4)cc3)n2)c1OC(=O)OCC(C)C', 'COC(=O)CCC(=O)NC(C(=O)N1C[C@H](O)C[C@H]1C(=O)N[C@@H](C)c1ccc(-c2scnc2C)cc1)C(C)(C)C', 'CCOc1ccc(C(=O)N2CCN(c3ccc(-c4cccnc4OCC)nc3CN)C(CC)C2)c(C(F)(F)F)n1', 'CC1(COCCCCCCc2cc[c]s2)COC1.[CH2]CCC.[CH2]CCC.[CH2]CCC.[Sn]', 'CCN/C(=N\\\\Cc1ccc(N2CC(C)OC(C)C2)nc1)NCCCN1CCCCCC1.I', 'CC(C)c1c(C(=O)Nc2ccc(O)cc2)c(-c2ccccc2)c(-c2ccc(F)cc2)n1CC[C@@H](O)CCCC(=O)O', 'C=CCOC(=O)[C@H]1[C@H]2C(=O)N(CCCCCO)C(C(=O)N(CC=C)c3c(C)cccc3Cl)C23CC(C)[C@]1(C)O3', '[2H]C([2H])([2H])C(CCCOc1cc(C)ccc1C)(C(=O)O[C@@H]1O[C@H](C(=O)O)[C@@H](OC(C)=O)[C@H](OC(C)=O)[C@H]1OC(C)=O)C([2H])([2H])[2H]', 'COC[C@@H](NC(=O)c1ccc(-c2ccc([P+](c3ccccc3)(c3ccccc3)c3ccccc3)cc2)cc1)C(C)C', 'CSCCC(NC(=O)C(NC(=O)C(N)Cc1ccccc1)C(C)C)C(=O)NC(Cc1ccc(O)cc1)C(=O)O', 'CC(C)(CCC#N)CN(C[C@@H](O)[C@H](Cc1ccccc1)NC(=O)OC(C)(C)C)S(=O)(=O)c1cccc(N=O)c1', 'CNC(=O)OCc1nc(N(C)C(C)C)cc2c1CN(c1cccc(-c3nncn3[C@@H](C)c3ccccc3F)n1)C2=O', 'COCCCOc1cc(C[C@@H](C[C@H](N)[C@@H](O)CNS(=O)(=O)Cc2ccccc2)C(C)C)ccc1OC.Cl', 'C=C(COCCC(=CCCCC)C(=O)O)C(=O)O.C=CC#N.CCC(=CC=C(C#N)C=C(CC)C(=O)O)C(=O)O', 'COCC1CCN1c1ccc(Nc2cc(-c3ccc4cc(C#N)cnn34)ncc2C(=O)NC[C@@H](F)C(C)(C)O)cn1', 'O=C1NCC[C@H]1C[C@H](NC(=O)[C@@H]1[C@H]2CCC[C@H]2CN1C(=O)c1cc2c(Oc3ccccc3)cccc2[nH]1)C(=O)CO', 'C.CC(F)c1nn(C)nc1CSC1=NOC(C)(C)C1.CC(O)c1nn(C)nc1CSC1=NOC(C)(C)C1', 'NC1=CC(NC(=O)C2CCCCC2)=CC(c2ccc3[nH]nc(-c4cc5c(-c6ccccc6F)cccc5[nH]4)c3n2)=CC1', 'CCc1c(C(=O)NCC2CCC(C)CC2)nn(CC)c1-c1ccc(N[C@H](C)C(F)(F)F)cc1OC.O=S=O', 'CN(c1ccc2ccc(OC[C@H]3O[C@@H](n4cc(-c5ccn(C)n5)c5c(N)ncnc54)[C@@H](F)[C@@H]3O)cc2n1)C1CCC1', 'Cn1c(=O)c2c(nc(Oc3cccc(C4C5=C(CC(C)(C)CC5=O)OC5=C4C(=O)CC(C)(C)C5)c3)n2C)n(C)c1=O', 'C=C(/N=C(\\\\OC)c1cc(C)n(Cc2ccc(NCCN3CCC(O)CC3)nc2)n1)c1ccc(OC(F)(F)F)cc1', 'CCCCCCCCCCN/C(=N\\\\C)NCc1cccnc1N1CCC(C(N)=O)CC1.I', 'NC(=O)CCCCN1CCN(Cc2ncc(-c3ccccn3)o2)CC1(Cc1ccccc1)C(=O)NCC(F)(F)F', 'C=CCCCOC(=O)[C@@H]1[C@H]2C(=O)N([C@@H](CO)[C@@H](C)CC)C(C(=O)N(CC=C)c3ccc(Cl)cc3)C23CC[C@H]1O3', 'CCCOc1ccc(S(=O)(=O)N2CCC(CCO)CC2)cc1-c1nc2c(CCC)c(C=O)n(CC)c2c(=O)[nH]1', 'COC(=O)c1cc(C(F)(F)F)cc2c1CC1C(C)[C@@]3(CC[C@@H](N4CCC(c5ccc(F)cc5)CC4)C3)C(=O)N1C2', 'C=Cc1c2[n-]c(c1C)/C=C1\\\\[N-]C(C3=C4[N-]C(/C=c5\\\\[n-]/c(c(C)c5CC)=C\\\\2)C(C)=C4C(=O)[C@@H]3C(=O)OC)[C@@H](C)[C@@H]1C.[Mg+2]', 'C/N=C(\\\\NCC(C)N1CCN(C)CC1)NCC(c1ccc(OC)cc1)N1CCCCC1.I', 'Cc1ccc(Cl)cc1N1CCN(C(=O)CCC(=O)NC2CCC(Cc3cccc(Cl)c3)(N(C)C)CC2)CC1', 'COc1cc(C)c(S(=O)(=O)N2CCOC[C@@H]2COCCC(=O)NCCc2ccc(C3=NCCN3)cc2)c(C)c1', 'NC(=O)CC[C@H](NC(=O)[C@H](CCC(=O)O)NC(=O)CCc1ccc(-c2ccc(-c3ccccc3)cc2)cc1)C(N)=O', 'CC1CCCN(C2NC(C(F)(F)F)=C(C(=O)Nc3ccc(N4CCC(=O)N(Cc5ccccc5)CC4)nc3)O2)C1', 'CC(C)(C)OC(=O)N1[C@@H]2CC[C@H]1CN(c1nc(OCC34CCCN3C3CCC4C3)nc3c(F)c(Cl)ncc13)C2', 'CC(C)(C)OC(=O)NC1CN(c2nc(-c3nn(Cc4ccccc4F)c4ncccc34)nc3c2C(C)(C)C(=O)N3)C1', 'CC(=O)Nc1ccc(-c2nc(SCc3cccc(CCC(=O)NCCN4CCCCC4)n3)nc(N)c2C#N)cc1', 'C[C@H](NC(=O)OC(C)(C)C)C(=O)O[C@@H](C)C(=O)OC1=CC[C@@]2(O)[C@H]3Cc4ccc(CO)c5c4[C@@]2(CCN3C)[C@H]1O5', 'Cc1ccc(S(=O)(=O)NCCc2ccccc2)cc1C(=O)[C@H](C)[C@H]1NC(=O)[C@@H]1[C@@H](C)O[Si](C)(C)C(C)(C)C', '[H]/N=C(/CCc1ccc2c(c1)[C@@H]1C[C@H](C2)[C@H](O)CO1)C(=O)C/C(CC(=O)C1=C[C@H](c2ccccc2SC)CCC1)=N/[H]', 'CC[C@]12CC[C@@](OCC(=O)O)(C(F)(F)F)C[C@@H]1CCC(C1CCC1)c1cc3c(cnn3-c3ccc(F)cc3)cc12', 'CCOc1cc(C(C)N(CCCCc2ccccc2)C(=O)NC2CC(C(=O)O)C2)c(Cl)c(OCC)c1C(C)=O', 'CC/C(=C\\\\c1ccccc1O)CC[C@H]1OB(O)C[C@H]2C1=C(C(C)C)C[C@H]1C(=O)N(c3cccc([N+](=O)[O-])c3)C(=O)[C@H]12', 'COc1cc(CC(=O)N(C)c2cccc(C(CCC(=O)O)NC(C)=O)c2)ccc1NC(=O)C1CNc2ccccc21', 'CNCc1ccc(O)c2c1C[C@@]1(COCCCCO)C[C@H]3[C@H](N(C)C)C(=O)C(C(C)=O)=C(O)[C@@]3(O)C(=O)C1=C2O', 'COCCCc1cc(CN(C(=O)C2CNCC[C@@]23OC(=O)c2cc(F)c(F)cc23)C2CC2)cc(OCCOC)c1', 'O=C(CCCc1ccc(C2c3[nH]c4ccc(O)cc4c3CCN2C(=O)CCc2ccccc2)cc1)Oc1ccccc1', 'CCN1CCC(C(=O)N(CCCN2CCC(Cc3ccc(C(N)=O)cc3)CC2)c2ccc(Cl)c(Cl)c2)CC1', 'CC(C)c1cnc(N2C[C@@H](CS(C)(=O)=O)[C@@H]2C)c2cnc(Nc3ncnc(N4CC[C@H](O)[C@](C)(F)C4)n3)cc12', 'CCN(CC)CCCN(CC(=O)N(c1ccccc1)c1ccccc1)C(=O)c1ccc(C#N)cc1.O=C(O)C(=O)O', 'C=CCn1c(=O)c2cnc(Nc3cc4c(c(C5CCC5)c3)CCN(C)C4)nc2n1-c1cccc(N=S(C)(C)=O)n1', 'COc1cccc(NC(=O)CN2CN(c3ccccc3)C3(CCN(C(=O)c4ccc(OC)cc4OC)CC3)C2=O)c1', 'C=CCOC(=O)[C@H]1[C@H]2C(=O)N([C@@H](CO)CC(C)C)C(C(=O)N(CC=C)c3c(C)cccc3Cl)C23CC[C@]1(C)O3', 'C=CCCOC(=O)[C@@H]1[C@H]2C(=O)N([C@@H](CO)[C@@H](C)CC)C(C(=O)N(CC=C)c3c(C)cccc3Cl)C23CC[C@H]1O3', 'Cl.[H]/N=C(\\\\N)c1ccc(NC(C(=O)OCC)c2cc(CC)cc(N(Cc3cccnc3)Cc3cccnc3)c2)cc1', 'CN(C)c1cc[n+](-c2ccc(CCc3ccc(C[n+]4c[nH]c5c(SCc6ccccc6)ncnc54)cc3)cc2)cc1', 'CCCCOc1ccc(C[C@H](NC(=O)c2coc(NS(C)(=O)=O)n2)[C@H](O)CNCc2cccc(CC)c2)cc1', 'Cc1c(F)cccc1C1C(C(=O)c2cccc(O)c2)CN(C(=O)CCCN2CCC2)CC1C(=O)c1cccc(O)c1', 'C/N=C(/NCCCN1CCN(Cc2ccccc2)CC1)NCC(C)(C)N1CCOCC1.I', 'C.Cc1c(C#Cc2cccc3cc([C@H](C)NC(=O)c4c(N)nc5cccnn45)n(-c4ccccc4)c(=O)c23)cnn1C', 'CN1CNC23c4c(cccc41)Cc1ccc4c(c12)C1c2c-4ccc4c2C2(NCN(C)c5cccc(c52)C4)[n+]2ccc[n+]3c21', 'Cc1ccnc([C@H]2C[C@@H]2c2ccc3ncc(NCc4cn5cc(C6CC6)cc(N6CC(=O)N(C)C6=O)c5n4)cc3c2)n1', 'CC(C)(C)OC(=O)N(C(=O)OC(C)(C)C)c1ncccc1-c1cc(Cc2ccc(OCc3ccccn3)cc2)no1', 'CSCC[C@H](NC(=O)c1ccc(CN(C(=O)c2ccccc2)C2CCCCC2)cc1-c1ccccc1C)C(=O)O', 'C[C@@H]1C(OC(C)(C)C)OC(CO)C(OC2OC(CO)C(O)[C@H](O[C@H]3OC(CO)[C@H](O)C(O)[C@@H]3O)[C@@H]2O)[C@@H]1O', 'C/N=C(/NCc1ccc(N2CCC(C)CC2)nc1)NCC(CC(C)C)N1CCOCC1.I', 'NC(=O)CCC(NC(=O)C(CCC(N)=O)NC(=O)C(Cc1ccccc1)NC(=O)C(N)Cc1cnc[nH]1)C(=O)O', 'CCCCN1C(=O)C(=O)N(CC(=O)N2N=C3/C(=C/c4ccc(OC)cc4)CCCC3C2c2ccc(OC)cc2)C1=O', 'CCC[C@H](NC(=O)[C@H](C)O)C(=O)O[C@@H](C)C(=O)OC1=CC[C@@]2(O)[C@H]3Cc4ccc(CO)c5c4C2(CCN3C)C1O5', 'CC(C)C(C)c1cccc(Cn2cc(-c3cc(-c4cccc(C#N)c4)nc(NC(=O)COc4ccccc4)n3)nn2)n1', 'C=CCCCOC(=O)[C@@H]1[C@H]2C(=O)N(C(CC)CO)C(C(=O)N(CC=C)c3ccc(Cl)cc3)C23CC(C)[C@@]1(C)O3', 'CCOC(=O)O[C@]1(C(O)S)CCC2[C@@H]3CCC4=C/C(=N\\\\c5ccc(F)cc5)C(=CN)C[C@]4(C)C3C(O)C[C@@]21C', 'CN(C)C/C=C/C(=O)Cc1ccc(C(=O)N2CCCC(Nc3ncc(Cl)c(C4=CNC5CC=CC=C45)n3)C2)cc1', 'CC(O)C(=O)O.Cc1c(/C=C2\\\\C(=O)Nc3ccc(F)cc32)[nH]c2c1C(=O)N(CC(O)CN1CCOCC1)CCC2', 'C=CCCCCOC(=O)[C@H]1[C@H]2C(=O)N(CCCO)C(C(=O)N(CC=C)c3ccccc3Cl)C23CC[C@]1(CC)O3', 'c1ccc2c(c1)-c1ccc(N3CCCn4ccnc43)cc1C21c2ccccc2-c2ccc(N3CCCn4ccnc43)cc21', 'N#Cc1cnc(NCc2ccccc2OC(F)(F)F)nc1NCC12CC3C[C@@H](C1)C(N1CC(O)C(O)C1)[C@@H](C3)C2', 'CSCCC(NC(=O)C(N)C(C)C)C(=O)NC(Cc1ccccc1)C(=O)NC(Cc1ccc(O)cc1)C(=O)O', 'CNC(CCN1CCC2(CC1)NC(=O)Cc1ccccc12)(CN(C)C(=O)C(C)(C)C)c1ccc(Cl)c(Cl)c1', 'CCOc1ccc2c(c1)CCN(C(=O)C1CC(CC(=O)O)C1)[C@H]2C(=O)Nc1cc(F)c(C(C)(C)COC)c(F)c1', 'CCCC(=O)Nc1cncc(-c2ccc3c(c2F)/C(C2=CCc4c(-c5ccccn5)ccc(C)c4N2)=N\\\\C/C=N\\\\C3)c1', 'Cc1ccc(S(=O)(=O)n2nc(CN(C)CCN(C)C(=O)OC(C)(C)C)c3cc(OC4CCOC4)ccc32)cc1', 'COc1cc(-c2cccc(-c3cccc(Nc4nccc5nccnc45)c3C)c2C)cc(F)c1CNCC1=CC=NC1', 'CCN(c1ccccc1)C1Nc2ccc(C#C[C@@](C)(O)c3cc(C)on3)cc2N1c1ncnc(Nc2ccccc2)n1', 'C/C=C(\\\\N=C(/CC)CCCC)C(=O)Nc1cccc(CNc2ncc(Br)c3c2CCO3)c1.CC.CC', 'COc1ccc(OCc2nc3c(C(c4cccnc4)C4CCN(C(=O)OC(C)(C)C)C4=O)ccc(OC)c3[nH]2)cc1', 'Cc1cnc2nc1Nc1ccc(NC(=O)N[C@H]3CCN(C(=O)c4ccc(C#N)cc4)C3)c(c1)CCc1cccc(c1)N2', 'CC(C)(C)OC(=O)N1CCN(c2ccc(NC(=O)C3CCN(c4ccc(C#N)c(C(F)(F)F)c4)CC3)nc2)CC1', 'CC(C)(C)c1ccc(-n2c(-c3cccc(-c4ccccn4)n3)nnc2-c2cccc(-c3cccc4ccccc34)n2)cc1', 'CCCCCC1CCC(COc2cc3oc4cc(-c5ccc(CCC)c(F)c5F)cc(F)c4c3c(F)c2F)CC1', 'COC(=O)C1=C(C(=O)OC)N(c2ccc3c(c2)CCN(C(=O)OC(C)(C)C)CC3)C(N)=C(C#N)C1c1ccccc1', 'CN(C)c1c(CN2CC[C@@H](F)C2)cc(O)c2c1C[C@H]1C[C@H]3[C@H](N(C)C)C(=O)C(C(N)=O)C(=O)[C@@]3(O)C(=O)C1C2=O', 'CCCN(C)Cc1ncc(-c2ccc(-c3ccc(-c4cnc([C@@H]5CCCN5C(=O)CC(C)C)s4)cc3)cc2)s1', 'COc1cc(C)c(S(=O)(=O)N(C)CCS(=O)(=O)CC(=O)N(C)C2CCN(C3CCN(C)CC3)C2)c(C)c1', 'C=CCCCOC(=O)[C@@H]1[C@@H]2CCC3(O2)C(C(=O)N(CC=C)c2ccccc2Cl)N([C@@H](CO)[C@@H](C)CC)C(=O)[C@H]13', 'COc1cc(NN2C(C(O)c3ccc(N(C)C)cc3)C=CC3C(=O)N(c4ccccc4)C(=O)C32)cc(OC)c1OC', 'Cc1nc2c(c(=O)n(CC3CC3)c(=O)n2CCc2ccccc2)n1Cc1ccc(-c2ccccc2-c2nn[nH]n2)cc1', 'NC(=O)Cc1cc(-c2ccc(F)c(F)c2)cc2c(C3CCN(S(=O)(=O)CCCNC4CCCC4)CC3)c[nH]c12', 'CC(C)(C)CC1OC(CO)C(OC2OC(CO)C(OC3OC(CO)C(O)C(O)C3O)C(O)C2O)C(O)C1O', 'C/N=C(/C=C\\\\N)c1ccc(C2CCN(C(=O)c3ccc(Cl)c(NC(=O)c4ccc(NC(C)C)nc4)c3)CC2)cc1', 'COc1cc(Br)cc(CNCCCNCCCCNCCCNCc2cccc3c2C=CCC3)c1O', 'C#Cc1c(F)ccc2cc(O)cc(-c3ncc4c(N(C)C[C@@H]5CCCN5)nc(N5CCC(C)(O)CC5)nc4c3F)c12', 'Cc1ccc(C(C)(C)C)cc1N1C(=O)c2ccc3c4c(ccc(c24)C1=O)C(=O)N(c1cc(C(C)(C)C)ccc1C)C3=O', 'C=CC(=C)N1CCN(c2nc(=O)n(-c3c(C)ccnc3C(C)C)c3nc(-c4c(O)cccc4F)c(F)cc23)[C@@H](C)C1', 'Cc1nn(C)c(C)c1/C=C/c1cccc2nc([C@H](C)NC(=O)c3c(C)nn4cccnc34)n(-c3ccccc3)c(=O)c12', 'C=C/C=C(/c1ccc(C(=C)C)s1)c1cc(-c2[nH]nc3ncc(-c4cncc(NC(=C)C5CCCC5)c4)cc23)[nH]c1C', 'CC.CO.Cc1c(F)cc2nc3c(c4c2c1CCC4)Cn1c-3cc2c(c1=O)COC(=O)C2O.NC(=O)C(N)CO', 'C=N/C(=C\\\\C=N/CNc1ccc(N2CCN(C(=O)c3ccco3)CC2)nc1)c1cnc2ccc(-c3ccccc3)cn12', 'O=C(c1ccc(OCCN2CCCCC2)cc1)c1c2n(c3cc(O)ccc13)CCc1ccc(-c3ccc(O)cc3)cc1-2', 'CNc1sc(-c2cccc(/C=C/CC(NC(=O)OC(C)(C)C)C(=O)OC3CCCC3)c2)cc1C(N)=O.NC=O', 'CCOc1cc2c(cc1OCC)C1C(C(=O)N(Cc3cccs3)C3CCCCC3)c3ccccc3C(=O)N1CC2', 'Cc1cc(-c2n[nH]c3ccc(C(=O)N[C@@H]4CC[C@@H](C(=O)N5CC(F)(F)C5)N(CCc5ccccc5)C4)cc23)ccn1', 'CNC[C@H](O)COc1ccc(Cl)c(-c2nc(N[C@H]3CCN(C4CC4)C[C@H]3F)c(C)c(-c3c(C)noc3C)n2)c1', 'C=CCOC(=O)[C@H]1[C@H]2C(=O)N([C@@H](CO)CC(C)C)C(C(=O)N(CC=C)c3ccccc3Cl)C23CC[C@]1(CC)O3', 'CC(C)(C)OC(=O)NC(Cc1ccc(O)cc1)C(=O)N(CC#N)C(C(=O)NCc1ccccc1)c1ccccc1O', 'C=C1C[C@H]2CNc3cc(OCCCOc4cc5c(cc4OC)C(=O)N4CC(=C)C[C@H]4C=N5)c(OC)cc3C(=O)N2C1', 'CCc1cccc(CC)c1NC(=O)COC(=O)c1c(C)c(-c2ccc(OCc3ccccc3)cc2)nc2ccccc12', 'Cc1ccc(Nc2nccc(-c3cccnc3)n2)cc1N(c1ccc(CNN2CCN(C)CC2)cc1)S(C)(=O)=O', '[2H]c1c([2H])c([2H])c(-c2ccc(-c3cc(-c4ccc(-c5ccccn5)nc4)cc(-c4ccc(-c5ccccn5)nc4)c3C)cn2)c([2H])c1[2H]', 'NC(=O)[C@@H](NC(=O)c1ccc(CNCc2ncc[nH]2)c2ccccc12)c1c[nH]c2ccc(NCc3ccccn3)cc12', 'CCN/C(=N\\\\CCCN1CCN(Cc2ccccc2)CC1)NCCC(=O)N(CC)CC.I', 'Cc1ccc2c(C(=O)N[C@H](C(=O)N3CCCC3C(=O)NC(C=O)CC(=O)O)C(C)C)cc(-c3ccccc3)nc2c1', 'CC[C@@H]1O[C@@H](CO)[C@@H](COC[C@@H]2OC(CO[C@H]3OC(CO)[C@H](O)[C@@H](O)C3O)[C@@H](OC)[C@@H](O)C2O)C(O)C1O', 'O=C1CCN(c2nc(OCC34CCCN3CCC4)nc3c(F)c(-c4cccc5cccc(F)c45)ncc23)CCCN1', 'N#Cc1ccc(CN2CCC(NC(=O)c3ccc(C(=O)N4CCN(Cc5cc(F)cc(F)c5)CC4)cn3)CC2)cc1', 'CCC(C)(C)OC(=O)NCCCCNC(=O)OC(C1COC(=O)O1)C1(N)OC(C(=O)OC)=CCC1NC(C)=O', 'O=CNC1CCCN(c2nc(OCC34CCCN3CCC4)nc3c(F)c(-c4cccc5cccc(F)c45)ncc23)C1', 'Cc1cnc2n1-c1ccccc1C(c1ccccc1)=NC2NC(=O)N1CCC(n2nc(-c3ccccc3)[nH]c2=O)CC1', 'Cc1ncc(Cl)cc1C(=O)NC1CCC(Cn2c(=O)n(C3CCN(c4cccnc4)CC3)c3ccccc32)CC1', 'COc1cc(OC)c2c(c1)OC(c1ccc(OC)c(OC)c1)C1OP(=O)(N3CCCCC3)C21N1CCCCC1', 'CC(C)(C)[S@@](=O)N1Cc2cc(C(=O)NCc3ccc4c(c3)OCO4)nc(CCN3CCOCC3)c2[C@H]1CCO', 'C=C1CC[C@@H]2[C@](C)(CO)[C@H](O)CC[C@@]2(C)[C@@H]1CC1CN(C)[C@@]2(C(=O)Nc3ccc(Cl)cc32)[C@]12C(=O)OC[C@@H]2O', 'COc1ccc([Si](C)(C)[C@@H]2[C@@H](CC(=O)N(CCO)Cc3ccccc3)O[C@]3(C(=O)Nc4ccccc43)[C@H]2C)cc1', 'CCOc1ccc(CN(CCc2c[nH]c3ccccc23)C(=O)CN(CCOC)C(=O)c2cccc([N+](=O)[O-])c2)cc1', 'O=C1CN(C(=O)N2CCC(n3ncc(C(=O)N4CC[C@@H](c5ccccc5C(F)(F)F)C4)c3C3CC3)CC2)CCN1', 'CC(=Cc1coc(CO)n1)[C@@H]1CC=C(C(F)(F)F)CC2NC2[C@H](C)[C@H](O)[C@@H](C)C(=O)C(C)(C)[C@@H](O)CC(=O)O1', 'C=CCCOC(=O)[C@@H]1[C@H]2C(=O)N([C@@H](CO)C(C)C)C(C(=O)N(CC=C)c3ccc(Cl)cc3)C23CC[C@@]1(CC)O3', '[H]/N=C(\\\\NC(=O)OCC)c1ccc(NC(=O)c2ccccc2-c2ccc(C(=O)NCC(C)C)cc2C(=O)OCC)cc1', 'C=CCCCOC(=O)[C@@H]1[C@H]2C(=O)N(CCCCO)C(C(=O)N(CC=C)c3c(C)cccc3Cl)C23CC[C@@]1(C)O3', 'COc1ccc(C(=O)Nc2ccc3c(c2)[C@@H](OC)[C@H](C)[C@@H](C(CC(=O)N2CCC[C@H]2CO)[Si](C)(C)F)O3)cc1', 'Cc1nc(C)nc(-c2cccc(-c3c(-c4cccc(-c5nc(C)nc(C)c5C)c4)cccc3-c3ccccc3C#N)c2)n1', 'CCCCN(CC(=O)N(CCc1ccc(OC)c(OC)c1)Cc1ccc(C)s1)C(=O)c1ccc2ccccc2c1', 'CCN/C(=N\\\\Cc1ccc(CN2CCCN(C)CC2)cc1)NCC(C)N1CCOCC1.I', 'COCCN1CC(=O)N[C@H]2CN(Cc3ccc4c(c3)CCO4)C[C@@H]2OCc2cccc(c2)Oc2cncc(c2)C1=O', 'COc1cccc(-c2cncc3[nH]c(-c4n[nH]c5ccc(-c6cncc(NC(=O)CC7CCCCC7)c6)nc45)nc23)c1', 'CCC1(CC)c2ccccc2-c2ccc(/C(=N\\\\OC(=O)c3ccccc3)C(C)/C(C)=N/OC(=O)c3ccccc3)cc21', 'Cc1nc2c(Oc3ccc(C#N)c(N(C)C)c3)nc(Oc3cccc(C4=NCCN4C)c3)nc2n1Cc1ccccc1', 'O=C(O)CC/C=C\\\\C[C@H]1CO[C@@H](c2ccccc2Cl)OC1c1nc(C(=O)NCCCCC2CCCCC2)co1', 'C=CCOC(=O)[C@H]1[C@H]2C(=O)N([C@@H](CO)CC(C)C)C(C(=O)N(CC=C)c3ccc(Cl)cc3)C23CC[C@]1(CC)O3', 'CNC(=O)c1ccnc2c([C@H](C)CNc3cc(-c4ccc(NCCN5CCCC5=O)nc4)ncn3)cccc12.S', 'C=CC(=O)OCc1ccc(N(C)c2ccc(C=Cc3ccc(N(C)c4ccc(COC(=O)C=C)cc4)cc3)cc2)cc1', 'CCCCCn1c(-c2ccc(C=O)cc2)cc(=O)n2cc(-c3ccc(Cl)cc3)nc12.CNCCc1cncn1C', 'C=CCCCOC(=O)[C@H]1[C@H]2C(=O)N(CCCCO)C(C(=O)N(CC=C)c3c(C)cccc3Cl)C23CC[C@]1(C)O3', 'CC(CO[N+](=O)[O-])NC(=O)CCC/C=C\\\\C[C@@H]1[C@@H](/C=C/[C@@H](O)CCc2cccc(C(F)(F)F)c2)[C@H](O)C[C@@H]1O', 'CSCCC(NC(=O)C(Cc1ccccc1)NC(=O)C(NC(=O)C(N)Cc1ccc(O)cc1)C(C)C)C(=O)O', 'CCOC(=O)/C(=C/c1ccc(OCCc2nc(-c3ccccc3)sc2C)cc1)CC(=O)N1C[C@H]2CCCC[C@H]2C1', 'C=CN.CC=C(C)C.Cc1ccc(NSc2ccc(N3COCCS3)cc2)cc1-c1nccc2ccccc12', 'COc1ccc2c(c(C3=C(c4c[nH]c5cccc(OC)c45)C(=O)NC3=O)cn2CC(O)CN2CCCCC2)c1OC', 'Cc1cc2nc(CC[C@H](NC(=O)OC(C)(C)C)C(=O)OCc3ccccc3)n(-c3cccc([N+](=O)[O-])c3)c2cc1C', 'CC(C)(C)NS(=O)(=O)c1cccc(NC(=O)c2ccc(NC3CC(=C(F)F)C3)cc2N2CCC3(CC2)CC3)c1', 'O=C(Cc1cn(-c2ccc(Nc3ccc(N4CCOCC4)cc3)nn2)c2ccccc12)NCc1nc2ccccc2[nH]1', 'C=CCN(C)c1c(N(C=O)[C@H]2CCC(COC(=O)c3ccc(NNC(=O)OC(C)(C)C)nc3)O2)nc(N)[nH]c1=O', 'CC[C@H](CN1CC[C@H](CNC(=O)c2ccc(Cl)c(Cl)c2)N[C@H](CCN2CCCCC2)C1=O)c1ccccc1', 'O=C(CC1CCNCC1)NC1=CC(c2ccc3[nH]nc(-c4cc5c(-c6cccc(F)c6)cccc5[nH]4)c3c2)=CNC=C1', 'CC(C)n1c(CC[C@@H](O)C[C@@H](O)CC(=O)O)c(-c2ccc(F)cc2)c(-c2ccccc2)c1C(=O)Nc1ccccc1', 'C=CCCOC(=O)[C@@H]1[C@H]2C(=O)N(CCCCCCO)C(C(=O)N(CC=C)c3ccccc3Cl)C23CC[C@@]1(C)O3', 'C[C@@H](Nc1nc(C(=O)O)nc2nc(N3CCOC4(CCCC4)C3)n(Cc3ccc(C(F)(F)F)cc3)c12)C1CCC1', 'COC(=O)c1ccc(CN(c2cccc(C)c2)S(=O)(=O)C2CCN(C3CN(C(=O)OC(C)(C)C)C3)CC2)nc1', 'CCCCCCCCCCCCCCCCOC(=O)C(CC)(CC)C(=O)OC(CBr)C(F)(F)F', 'CCN/C(=N\\\\Cc1cccc(C(=O)NCCN(C)C)c1)NCCCN1CCCCC1C.I', 'CC[C@H](C(=O)NC1CCCCC1)N(Cc1ccccc1C)C(=O)CN(c1cc([N+](=O)[O-])ccc1C)S(C)(=O)=O', 'CCCOc1ccccc1[C@H]1C2=C(C[C@H](c3ccc(OC)cc3)CC2=O)Nc2ccccc2N1C(=O)c1ccccc1', 'CCOc1ccc2c(c1)Oc1cc(O)ccc1C21OC(=O)c2cc(C(=O)N3CCNCCNCCNCC3)ccc21', 'COc1ccc(CN(CC(F)(F)F)c2cc(-c3cnc(OC(C)(C)C)nc3OC(C)(C)C)nn3ccnc23)cc1', 'O=C1CC(c2ccccc2)C/C(=N\\\\CCc2ccccc2)C1=C(O)CCc1noc2c1C(=O)CC(c1ccccc1)C2', 'CCC/N=C(\\\\C)c1c(O)[nH]c2ccc(S(=O)(=O)N(CC(C)C)CC(O)C(Cc3ccccc3)NC(=O)O)cc12', 'CCN(CC)CC1CCN(/C(=N\\\\CC(=O)N(C)C)NCCCN(C)c2ccccc2)C1.I', 'Cc1ncsc1-c1ccc(CNC(=O)[C@@H]2CC(O)CN2C(=O)[C@@H](NC(=O)CCCCC(=O)O)C(C)(C)C)cc1', 'CCCN1C(=O)NC(c2ccc(NC(=O)Nc3ccc(OC)cc3OC)cc2)C(C(=O)OCC)=C1c1ccccc1', 'COc1ccc(CC(C(CCC(C#N)(c2cc(OC)c(OC)c(OC)c2)C(C)C)OC(C)=O)[N+](=O)[O-])cc1OC', 'Cc1oc(-c2ccccc2)nc1COc1ccc(CO/N=C(/CCCCCC(C)C(=O)O)c2ccc(F)cc2)cc1', 'Cc1c(-c2nc3cc(C(C)N4CCC[C@H]4C(=O)O)c(OC(F)F)cc3o2)cccc1C1OCC(C)(C)C(C)(C)O1', 'CCCN1C(=O)NC(c2ccc(NC(=O)Nc3cc(OC)cc(OC)c3)cc2)C(C(=O)OCC)=C1c1ccccc1', 'C[C@@H](NC(=O)c1ccc2c(c1)nc(-c1ccoc1)n2C1CCCCC1)C(=O)Nc1ccc(OC(C)(C)C(=O)O)cc1', 'COCC(=O)N1CCN(Cc2ccc(OCCCN3CC(=O)NC3=O)cc2)CC(O)(COc2ccc(F)cc2)C1', 'CCCCOC(=O)C(C)=NP(=O)(CC[C@@H]1C[C@@H](O)[C@H](n2cnc(C(N)=O)n2)O1)N[C@@H](C)C(=O)OCCCC', 'Cc1cc(-c2cnc(N)nc2)cc2c(N3CCc4ccc(S(=O)(=O)N(C)CC5CCNCC5)cc4C3)ncnc12', 'CNC(=O)CCC(NC(=O)c1ccc(NCC2=CC3=C(O)NC(N)=NC3NC2)cc1)C(=O)O.[H]/N=N/N=N/N=N/N', 'Cc1cc(C2=Cc3c(oc4ccccc34)CC2)ccc1C(C)(C)c1ccc(-c2ccc3oc4ccccc4c3c2)cc1C', 'CC(C)(C)C(CC[P+](c1ccccc1)(c1ccccc1)c1ccccc1)O[Si](c1ccccc1)c1ccccc1', 'CCOc1ccc(OCC2CCC(c3ccc(OCC4CCC(CC)CC4)c(F)c3F)CC2(F)F)c(F)c1F', 'N#CC1COC1N1CCc2oc(C3=NC(N=C4C=CC(OCCN5CCCC5)CC4)N=CC3C(F)(F)F)cc2C1', 'C[C@H]1CN(c2cc(Cl)nc(SCC(=O)N3CCC(Cc4ccccc4)CC3)n2)CCN1C(=O)NC(C)(C)C', 'Cc1nc(N[C@H](C)c2cc(N)cc(C(F)(F)F)c2)c2cc(C3=CCN(C(=O)OC(C)(C)C)CC3)c(=O)n(C)c2n1', 'CCCCC(CC)CN/C(=N\\\\CC(=O)N(C)C)NC1CCN(c2cccc(C)n2)CC1.I', 'COc1ccc(S(=O)(=O)N(CC(=O)Nc2ccc(C(=O)N3CCN(C)CC3)cc2)C2CCCCC2)cc1OC', 'CCC(=O)c1c(-c2ccc(F)cc2)oc2cc(N(CC)CC)c(-c3cccc(C(=O)NCC4(CO)COC4)c3)cc12', 'CCCOc1ccccc1[C@H]1C2=C(C[C@@H](c3ccc(OC)cc3)CC2=O)Nc2ccccc2N1C(=O)c1ccccc1', 'Cc1ccc2c(c1)[C@H](c1cccc3ccccc13)S[C@@H](CC(=O)N1CCC(C(=O)O)CC1)C(=O)N2CC(C)(C)C', 'CNC(=O)c1c(F)cccc1Nc1nc(Nc2cc3c(cc2OC)CCN3C(=O)[C@H]2CCCN2C)nc2[nH]ccc12', 'C=C1/C(=C\\\\C=C2CCC[C@@]3(C)C2CC[C@@H]3[C@H](C)C[C@H](F)C(O)C(O)(C(F)(F)F)C(F)(F)F)C[C@@H](O)C[C@H]1O', 'CCCCCCCCCCCCCC(=O)Nc1ccc(N2N/C(=N/c3cc(C)ccc3Cl)CC2=O)c(Cl)c1', 'CC1(C)OB(c2ccc3c(c2)nc(-c2ccccc2)c2c4ccc(-c5ccc6ccccc6c5)nc4ccc32)OC1(C)C', 'COCCN(CCOC)C(=O)CCN(C)S(=O)(=O)c1ccc(N2CC[C@H](O)C2)c(-c2cc3ccccc3[nH]2)c1', 'CC(C)(C)OC(=O)N[C@@H](Cc1ccccc1)[C@@H](O)CC(Cc1ccccc1)c1ncc(C(O)c2ccccc2)s1', 'CCCON(CCC)C(=O)CN1C[C@H](c2cc(CO)c3c(c2)OCO3)[C@@H](C(=O)O)[C@@H]1COc1ccccc1OC', 'COCCN1CCC(C(=O)NO)(S(=O)(=O)c2ccc(N3CCC(C(=O)N(C)c4ccccc4)CC3)cc2)CC1', 'CC(C)c1ccnc(C(C)C)c1-n1c(=O)nc(N2CCN(C(=O)OC(C)(C)C)C[C@@H]2C)c2cc(F)c(Cl)nc21', 'CCN/C(=N\\\\CC1(CN2CCOCC2)CCCCC1)N1CCC(C)C(n2ccnc2)C1.I', 'C=CCCCOC(=O)[C@@H]1[C@@H]2CCC3(O2)C(C(=O)N(CC=C)c2c(C)cccc2Cl)N(CCCCCO)C(=O)[C@H]13', 'CCOc1ccc2c(c1)n(C1CCCCC1)c(=O)n2S(=O)(=O)c1ccc(NC(=O)N(C)C(C)(C)C)cc1OC', 'CCOC(=O)N1CCN(C(=O)[C@H](CCC(=O)O)NC(=O)c2cc(-c3ccccc3)cc(-c3ccc(C)cc3)n2)CC1', '[H]/N=C(\\\\N)c1ccc(CNC(=O)[C@H](CCCN=C(N)N)NC(=O)CNS(=O)(=O)Cc2ccc(/C(N)=N/[H])cc2)cc1', 'O=C(Nc1cncc(-c2ccc3[nH]nc(/C4=N/c5cncc(-c6ccccc6F)c5CCCC4)c3c2)c1)C1CCCC1', 'CCOC(=O)C1CN(C(c2ccccc2)(c2ccccc2)c2ccccc2)CCN1Cc1ccccc1C(F)(F)F', 'Cc1ccc(N(c2ccc(CNN3CCN(C)CC3)cc2)S(C)(=O)=O)cc1Nc1nccc(-c2cccnc2)n1', 'Cc1c(F)cccc1C1[C@@H](C(=O)c2cccc(O)c2)CN(C(CCC=O)N2CCC2)C[C@H]1C(=O)c1cccc(O)c1', 'CCC(C)(CC(C)(CC(C)(C)C(=O)OC)C(=O)OCCCO)C(=O)OCCOS(=O)(=O)c1ccc(C)cc1', 'CCOc1ccc(/C=C(\\\\NC(=O)c2ccccc2)C(=O)Nc2ccc(C(=O)/C=C/c3ccc(C(C)C)cc3)cc2)cc1', 'COCCCC(NC(=O)[C@@H]1CCCN1C(=O)[C@@H](Cc1ccccc1)NC(=O)OC(C)(C)C)C(=O)c1nccs1', 'CCc1c2c(nc3ccc(OC(=O)N4CCC(N5CCCCC5)CC4)cc13)-c1cc3c(c(=O)n1C2)OCC(=O)[C@H]3O', 'COCCOc1cc2cc(C(=O)Nc3cc(C(=O)NC(CCN)c4ccccc4)ccc3C)c(=O)[nH]c2cc1OC', 'CC(=O)Nc1cccc(NC(=O)c2cc(O)cc(-c3ccc(C(=O)N4CCN(C(=O)OC(C)(C)C)CC4)cc3)c2)c1', 'C[C@@H](Nc1nc(C(=O)O)nc2nc(NC(=O)C3(C)CCCCC3)n(Cc3ccc(C(F)(F)F)cc3)c12)C1CCC1', 'CN(CCc1ccc(-c2ccc(OCc3ccccc3)nc2OCc2ccccc2)cc1)C(=O)OCc1ccccc1', 'CC(C)C[C@H](NC(=O)[C@H](Cc1ccccc1)NC(=O)CSCCNC(=O)[C@@H](N)Cc1ccc(O)cc1)C(=O)O', 'CC(C)Oc1ccccc1N1CCN(C[C@@H](O)CNC(=O)c2ccc3c(c2)C(=O)N(c2ccc(O)cc2)C3=O)CC1', 'C[C@H]1[C@H]([Si](C)(C)O)[C@@H](CC(=O)N(CCO)Cc2ccccc2)O[C@]12C(=O)N(Cc1ccccc1)c1ccccc12', 'Cc1cccc(C2/C(=C(/O)c3ccc(OCc4ccccc4)c(C)c3)C(=O)C(=O)N2c2ccc(N3CCCC3)cc2)c1', 'Cc1ncsc1-c1ccc([C@H](C)NC(=O)C2CC(O)CN2C(=O)[C@@H](NC(=O)CCCC(=O)O)C(C)(C)C)cc1', 'CO[C@@](C(=O)N1CCC2(CC1)CC(=O)NC[C@H]2c1ccc(F)cc1)(c1cccc(C2=CCCCC2)c1)C(F)(F)F', 'NC(N)=NCCC[C@@H]1NC(=O)CNC(=O)C[C@@H](C(=O)O)NC(=O)[C@@H](c2ccccc2)NC(=O)[C@@H]2CCCN2C1=O', 'CC[C@@H](C)Oc1c(OC)cc(C=Nn2c(-c3cc(C(C)C)c(OC)cc3C)nc3ccccc3c2=O)cc1[N+](=O)[O-]', 'O=C(CC(C(=O)c1ccccc1)N1CCN(C(CC(=O)c2ccccc2)C(=O)c2ccccc2)CC1)c1ccccc1', 'CSCC[C@@H]1NC(=O)[C@H](CC(=O)O)NC(=O)CNC(=O)[C@H](CCCN=C(N)N)NC(=O)[C@H](C(C)C)NC1=O', 'CCc1cccc(OC)c1OCCNCCCc1c(CC#N)cc(OC)c(OC)c1OC.O=C(O)/C=C/C(=O)O', 'CCCCOc1ccccc1CC(NC(=O)c1coc(NS(C)(=O)=O)n1)C(O)CNCc1cccc(CC)c1', 'O=C(N[C@@H](CCCCNC(=O)c1ccc(N2CCOCC2)nc1)C(=O)O)OCC1c2ccccc2-c2ccccc21', 'C1=CC=C2C(=C1)NC(=S)S2', 'c1csc(-c2cncs2)c1', 'N#CSc1ccccc1S', 'C=C1SC(=CC#N)SC1=C', 'Sc1cc2ccncc2s1', 'N#Cc1cc2c(s1)CSC2', '[O-][NH+]1CC[Se]CC1', 'c1csc(-c2ccsn2)c1', 'N[C@H]1CC[Se](=O)C1', '[C-]#[N+]C1=CC2SC=CC2S1', '[S-]/C=C(\\\\[S-])c1cccnc1', 'S=C1N=C2C=CC=CC2S1', 'C1=CSc2ccsc2C=N1', 'S=S1N=Cc2ccccc21', 'S=C=Nc1ccc(S)cc1', 'N#Cc1ccc(SS)cc1', '[Si]C(Cl)CCCCCl', 'C1COCCN1.[Se]', 'Sc1cc2cnccc2s1', 'C1=CSSC2=CC=NC2=C1', 'O=C1CC(=O)NC(=O)N1.[K]', 'c1cc(-c2ccsc2)sn1', 'C#Cc1cccc(SS)n1', 'C[Se]C[C@H](N)C=O', 'c1csc(-c2cscn2)c1', 'N#Cc1ccccc1SS', 'N#Cc1ccc(S)c(S)c1', 'S=S1C=Nc2ccccc21', 'C#CSSc1cccnc1', 'N#CSSc1ccccc1', 'CC[Se]CC(N)=O', 'COC(=[Se])N(C)C', 'Cl[Si](Cl)C1CCCC1', 'CS(C)(C)(C)=[As]', '[2H][Sn](C)(C)C', 'O=C(O)C(F)(F)CN=C=S', 'C/C=C(/CC)[Si](Cl)Cl', 'CC(=O)[C@H](N)C[SeH]', 'c1csc(-c2nccs2)c1', 'CC(C)(C[Si])C(Cl)Cl', '[S-]C([S-])=Nc1ccccc1', 'c1cc(-c2cncs2)cs1', 'CC(C)NC(=O)[SeH]', 'c1cc(-c2cnsc2)cs1', 'Sc1cnc2sccc2c1', 'O=Nc1cc(=O)c(=O)c(=O)c1=O', 'C/C(F)=C\\\\C(=O)NSS', 'c1cc(-c2ccsn2)cs1', 'CC/C=C/C[Si](Cl)Cl', 'S=c1[nH]ccc2ccsc12', 'Sc1ccc2sncc2c1', 'O=S(=O)([O-])C(F)(F)F.[NH4+]', 'Sc1ccc2ncsc2c1', 'C1=NSc2ccccc2S1', 'c1csc(-c2ccsc2)n1', 'C=CCCC[Si](Cl)Cl', 'S=C=Nc1cccc(S)c1', 'CCC/C=C/[Si](Cl)Cl', 'Sc1csc2cccnc12', '[S-]/C=C(\\\\[S-])c1ccncc1', 'S=c1[nH]sc2ccccc12', 'CC(=O)C(N)C[SeH]', 'O=C1C=CC(=O)N1S(=O)[O-].[Li]', 'CCCC=C[Si](Cl)Cl', 'S=c1cc[nH]c2ccsc12', 'CCC(C)(C)[S-].[Zn]', '[C-]#[N+]c1cc(S)cc(S)c1', 'CC(C)([Si])CC(Cl)Cl', 'S=C=Nc1ccccc1S', 'S=c1s[nH]c2ccccc12', 'C1=CSc2sccc2N=C1', '[Se-][NH+]1CCOCC1', 'C1=CSc2ncccc2S1', 'S=S1C=Cc2ncccc21', 'FC(F)F.NS(=O)(=O)O', 'CC(C)(C)N=[Se]=O', 'Sc1cccc2ncsc12', 'S=C=NSc1ccccc1', 'S=C1C=CC2=CCC(=S)N12', '[H]/N=c1\\\\ssc2ccccc12', 'CC(Cl)C(C)(Cl)C[Si]', 'O=C(O)C(F)(C(=O)O)[N+](=O)[O-]', 'CCN1CC[Se]O1', 'CCCCC([Si])(Cl)Cl', 'C1=CSN=c2ccsc2=C1', 'N#Cc1cccc(SS)c1', 'S=C1C=CC=C2SCN=C12', 'N#CSc1ccc(S)cc1', 'Cc1nc(C(=O)O)no1.[K]', '[Si]CCCCC(Cl)Cl', 'C1=CCc2scnc2SC=1', 'CC(C)CC([Si])(Cl)Cl', 'CC(C)(C)C([Si])(Cl)Cl', 'S=C1N=CC=C2C=CSC12', '[H]N=c1sc2ccccc2s1', 'c1cc(-c2cscn2)cs1', 'N#Cc1c(S)cccc1S', 'S=CC(=S)c1ccccn1', 'S=C1CN=Cc2ccsc21', 'Sc1cncc2ccsc12', 'N#Cc1cc(S)ccc1S', 'Sc1cnc2ccsc2c1', 'NC(=O)O[P+](=O)OC(N)=O', 'C=C(CCC)[Si](Cl)Cl', 'C1=CC=C2SSN=C2C=C1', 'N#CSc1cccc(S)c1', 'O=C1CSC(F)(F)C(=O)N1', 'S=Cc1ccc2sccn12', '[SiH3]N([SiH3])N[SiH2][B]Cl', 'Sc1ccc2scnc2c1', 'CNC(C=O)C[SeH]', 'N#Cc1cc(S)cc(S)c1', 'Sc1cccc2scnc12', 'Cc1nc([O-])nc(Cl)n1.[Na+]', 'Sc1csc2ccncc12', 'C=CC(CC)[Si](Cl)Cl', 'Sc1cccc2sncc12', 'Cc1nnc([C-]=O)o1.[K+].[OH-]', 'C=CCC(C)[Si](Cl)Cl', 'CCC(C)C([Si])(Cl)Cl', 'C1=NSSc2ccccc21', 'S=C1C=CCc2ncsc21', 'CS(=S)NC(=O)/C=C/F', 'S=c1cc[nH]c2sccc12', 'S=NC(=S)c1ccccc1', 'N#CC1=CC2SC=CC2S1', 'C1=Nc2ccccc2SS1', 'CC(C)/C=C/[Si](Cl)Cl', 'Sc1ccc2nscc2c1', '[C-]#[N+]c1cc2c(s1)CSC2', 'C/C(F)=C/C(=O)NSS', '[S-]/C=C(\\\\[S-])c1ccccn1', 'Cc1nnc(C(=O)O)o1.[K]', 'c1csc(-c2ccns2)c1', 'N#Cc1cccc(S)c1S', 'CCC([Si])CC(Cl)Cl', 'Sc1cc2cccnc2s1', 'CNC(=O)CC[SeH]', 'Cc1noc(C(=O)O)n1.[K]', 'N.O=S(=O)(O)C(F)(F)F', 'C=Cc1nccc2ssc12', 'c1csc(-c2cnsc2)c1', 'CC(C)C(Cl)(Cl)C[Si]', 'C=CC(C)(C)[Si](Cl)Cl', 'N=[N+]=C(C(=O)O)P(=O)(O)O', 'ClC1CCCC[Si]1Cl', 'C1=Cc2ncccc2SS1', 'S=c1[nH]ccc2sccc12', 'Cc1nnc(OC=O)o1.[K]', 'CS(=O)CC[C@@H](C(=O)O)N', 'CCS(=O)(=O)CCC(N)=O', 'CC(=O)CCNS(C)(=O)=O', 'NC1(CO)CCS(=O)(=O)C1', 'O=S(=O)(CCO)C1CNC1', 'NS(=O)(=O)C[C@@H]1CCOC1', 'CC=O.N[C@@H](CS)C(=O)O', 'CCc1ccn2npcc2n1', 'CS(=O)(=O)CCCC(N)=O', 'CNCC(=O)CS(C)(=O)=O', 'N[C@H](C(=O)O)C(S)CCO', 'CC(=NO)C(C)S(C)(=O)=O', 'N[C@H](CCC(O)O)C(=O)S', 'CS(=O)(=O)OC1CC(N)C1', 'C/N=C(\\\\C(C)C)S(=O)(=O)O', 'CCCCS(=O)(=O)NC=O', 'CC(=O)C(C)NS(C)(=O)=O', 'CC(CS(C)(=O)=O)C(N)=O', 'C.O=S(=O)=C1COCCN1', 'CC/C(C)=N\\\\OS(C)(=O)=O', 'CC(O)C(NCS)C(=O)O', 'C=CS(=O)(=O)NCOCC', 'O=S(=O)(O)C1CCNCC1', 'NS(=O)(=O)[C@@H]1CC[C@H](O)C1', 'C=CCS(=O)(=O)NOCC', 'NS(=O)(=O)[C@@H]1CCCOC1', 'CSC(O)C[C@H](N)C(=O)O', 'O=S1(=O)CCN(CO)CC1', 'Cl.Nc1cnn(CCF)c1', 'CCN(CC(=O)O)S(C)=O', 'O=S1(=O)CCCN1CCO', 'CCC(C)(C=O)NS(=O)O', 'CSCC(O)C(N)C(=O)O', 'CSC(N)CC(O)C(=O)O', 'CCS(=O)(=O)NC[C@H]1CO1', 'C[C@@H]1OCC[C@H]1S(N)(=O)=O', 'Nc1cnc2c(ccn2P)c1', 'CC(C1=S(=O)(O)O1)N(C)C', 'C=CCOCCS(N)(=O)=O', 'O=[P+](c1ccccc1)C1CC1', 'N[C@H](CO)[C@H](O)[C@@H](O)C=S', 'COCSC[C@H](N)C(=O)O', '[O-][N+]1(CCO)CCOCS1', '[3H]C(=O)On1nnc2ccccc21', 'O=S(O)NC1CCCOC1', 'NS(=O)(=O)OC1CCCC1', 'O=S(=O)(O)NC1CCCC1', 'NS(=O)(=O)OCCC1CC1', 'C=NOCCS(=O)(=O)CC', 'CCC1COS(=O)(=O)N1C', 'NC1CCS(=O)(=O)CC1O', 'O=S(O)NC[C@H]1CCCO1', 'Cc1cn(P)c2nccnc12', 'O=C(O)[C@H](CO)NCCS', 'C=C(CS(=O)(=O)O)N(C)C', 'O=C(NCCO)C(O)CS', 'NC[C@H]1CS(=O)(=O)CCO1', 'COC(=O)NCC(S)OC', 'CCS(=O)C(CN)C(=O)O', 'CSC(O)CC(N)C(=O)O', 'CCCC(N)CN.[Cu]', 'N[C@@H]1C(S)OC(CO)[C@H]1O', 'CS(=O)(=O)N1CC[C@@H]1CO', '[2H]c1ccc2sc(CN)nc2c1', 'Fc1cccnc1-n1cnnn1', 'CC(C)S(=O)(=O)NCC=O', 'CS(=O)(=O)CC[C@H](N)C=O', 'COC(=O)N(O)CCCS', 'PCn1nnc2ccccc21', 'O=S(O)CC1CNCCO1', 'CCS(=O)(=O)NCCC=O', 'O=Cc1[nH+]cc(F)c2cc[nH]c12', 'CC(C)(C)S(=O)(=O)NC=O', 'CN[C@H]1CS(=O)(=O)C[C@H]1O', 'CC(=O)NCCCS(=O)O', 'CC(C)C(=O)NS(C)(=O)=O', 'N[C@@H](C=S)[C@@H](O)[C@H](O)CO', 'CC(C)(O)C1CNS1(=O)=O', 'CC(=O)N(C(C)C)S(=O)O', 'C=CC[P+](=O)c1ccccc1', 'C=CCN(CO)CS(=O)O', 'CCC(=O)CCS(N)(=O)=O', 'CC(N)(SCCO)C(=O)O', 'CCCS(=O)(=O)CC(N)=O', 'NC(=O)C1CCCS1(O)O', 'NOC1CCCS(=O)(=O)C1', 'N[C@H](CSCCO)C(=O)O', 'COC1CS(=O)(=O)CC1N', 'CSC[C@H](CO)NC(=O)O', 'CCOS(=O)(=O)/C=C/CN', 'CC(O)N[C@@H](CS)C(=O)O', 'CC1CC1COS(N)(=O)=O', 'CS(=O)(=O)N1CCOCC1', 'CC(=O)CSC(C)=O.NO', 'N[C@@H](CC(=O)O)C(=O)O.[SiH4]', 'O=C1CCS(O)(O)CCN1', 'O=S(=O)(O)C1CCCNC1', 'CC(C)C(C=O)NS(=O)O', 'CN(C)C/C=C/S(=O)(=O)O', 'Cl.Cn1c(F)cnc1CN', 'CS(=O)(=O)CCCNC=O', 'COC1CCNS(=O)(=O)C1', 'O=S(O)ON1CCCCC1', 'CNS(=O)(=O)C1(OC)CC1', 'C=CNCCCS(=O)(=O)O', 'NC1COCCS(=O)(=O)C1', 'CSN[C@H](C(=O)O)[C@@H](C)O', 'NCC1(O)CCS(=O)(=O)C1', 'C[C@H]1C[C@H](C)OS(=O)(=O)N1', 'CC(C)S(=O)(=O)CC(N)=O', 'C1CCNCC1.O=S(=O)=O', 'CC(C)(COS)NC(=O)O', 'CCCC(C=O)S(N)(=O)=O', 'CCCC(CON)=S(=O)=O', 'NC[Si](O)(O)CCC(=O)O', 'CCCC(=O)N(C)S(=O)O', 'C[N+]1(S(=O)[O-])CCOCC1', 'Cl.Nc1cn(CCF)cn1', 'CC(N)C(=O)CS(C)(=O)=O', 'COC(=O)C(C)CS(N)=O', 'C[P+](=O)C=Cc1ccccc1', 'C=CCS(=O)(=O)NC(C)O', 'C=CCNC(C)S(=O)(=O)O', 'OC1COCOCC1NS', 'N#[N+]/C=C(\\\\O)c1ccc(F)cc1', 'Cc1cn2cnc(P)cc2n1', 'COCNS(=O)(=O)C1CC1', '[H]/N=C/c1nc(F)nc2nc[nH]c12', 'NCSCCC(O)C(=O)O', 'C[C@@H]1CN(PP)C[C@@H]1O', 'O=S(=O)(O)CC1CCNC1', 'NC=O.O=S1(=O)CCCC1', 'CS(=O)(=O)N[C@H]1CCOC1', 'CNS(=O)(=O)OC1(C)CC1', '[H]/N=C(\\\\C)OCCS(C)(=O)=O', 'O=S(=O)(O)C[C@H]1CCCN1', '[Na+].[O-][B]O.[OH-].c1c[nH+]ccn1', 'CC1(O)CN(S(C)(=O)=O)C1', 'C=CS(=O)(=O)CCC(N)O', 'CS(=O)(=O)N1CCC1CO', 'CSOC[C@H](N)CC(=O)O', 'NC1(O)CCS(=O)(=O)CC1', 'CN(C)S(=O)(=O)C1COC1', 'CS(=O)(=O)OCN1CCC1', 'O=S(=O)(O)CN1CCCC1', 'CC(CO)CCOSN=O', 'CSCCC(NO)C(=O)O', 'CC(C(=O)O)N(C)S(C)=O', 'O=S(=O)(O)N1CCCCC1', 'C[C@@H]1C[C@H](C)NS(=O)(=O)O1', 'CC(N)=O.O=C(O)CCS', 'NS(=O)OCC1CCCO1', 'Cc1nc2cccnc2n1P', 'CC(C)[C@H](N)C(=O)S(=O)O', 'CCCC1COS(=O)(=O)N1', 'CCS(C)(=O)=NC(=O)OC', 'OOOSC1CCNCC1', 'CN(C1CCOC1)S(=O)O', 'C=C(C)OS(=O)(=O)CCN', 'C=CN(C)CCS(=O)(=O)O', 'CSC(CCNO)C(=O)O', 'COCC1CN1S(C)(=O)=O', 'NC1CS(=O)(=O)CC1CO', 'CCCC(=O)NS(C)(=O)=O', '[CH]OCCCNS(C)(=O)=O', 'CCS(=O)(=O)N1CC(O)C1', 'CC(C1COC1)S(N)(=O)=O', 'C[C@H](CS(C)(=O)=O)C(N)=O', 'CCC(NC(=O)O)S(C)=O', 'CC(C)(C=NO)S(C)(=O)=O', 'CC1(C)CCOS(=O)(=O)N1', 'CNS(=O)(=O)C1CCCO1', 'CN(O)C1CCS(=O)(=O)C1', 'CC1(S(=O)(=O)NCO)CC1', 'C=CC(C)CC(Cl)PN', 'CN[C@@H]1CS(=O)(=O)C[C@H]1O', 'CCS(=O)N[C@H](C)C(=O)O', 'C=NOS(=O)(=O)CCCC', 'C=C(O)CCCS(N)(=O)=O', 'CCOC(=O)C(N)CSO', 'O=S(O)N1CCCOCC1', 'O=NC(CO)C(S)CCO', 'CC=S(=O)(O)NC(=O)CC', 'COC1(CN)CS(=O)(=O)C1', 'COC(=O)CCCS(N)=O', 'C[C@H](NS(C)(=O)=O)[C@@H]1CO1', 'COS(=O)(=O)N1CCCC1', 'O=C(O)[C@H](CS)NCCO', 'CS(=O)(=O)N[C@@H]1CCCO1', 'Fc1cncc(-c2nn[nH]n2)c1', 'COC1CCS(=O)(=O)NC1', 'C=C[C@H](CO)NS(C)(=O)=O', 'CSCCONC(=O)CO', 'NC[C@]1(O)CCS(=O)(=O)C1', 'Nc1ccnc2c1ccn2P', '[N-]=[N+]=NCc1ccc(P)cc1', 'CO[C@@H]1CS(=O)(=O)C[C@H]1N', 'CCOC=NS(=O)(=O)CC', 'CS(=O)CCCNC(=O)O', 'PC(P)N1CCOCC1', 'NC1(CCO)CS(=O)(=O)C1', 'CC(C)(O)C(N)C(=O)OS', 'NS(=O)(=O)CC1CCOC1', '[2H]CC1=Cc2ccccc2C1Cl', 'CC(C)(N)/C=C/S(=O)(=O)O', 'CC(C)S(=O)NCC(=O)O', 'COOOSC1CN(C)C1', 'CCC(NS(C)=O)C(=O)O', 'NC[C@@]1(O)CCS(=O)(=O)C1', '[H]N=[S@](C)(=O)CCC(=O)OC', 'O=C(CCCCO)ONS', 'NC1C(O)CCCS1(=O)=O', 'CN(C)S(=O)CCC(=O)O', 'COS(=O)N1CCOCC1', 'NC1(CS(=O)(=O)O)CCC1', 'Clc1ccc([CH+]C2CC2)cc1', 'CC(O)N(C(=O)S)C(C)O', 'NS(=O)(=O)C1(CCO)CC1', 'CC1OCCN1S(C)(=O)=O', 'O=S1(=O)CCCC(CO)N1', 'C[N+]1([O-])CCS(=O)(=O)CC1', 'CC(CN)=C(C)S(=O)(=O)O', 'C=CNS(=O)(=O)COCC', 'NC1CS(=O)(=O)CCC1O', 'CCS(=O)C[C@H](N)C(=O)O', 'CN1CC(OS(C)(=O)=O)C1', 'PNc1nccc2cc[nH]c12', 'C=CS(=O)(=O)CC(O)CN', 'O=S(O)OC1CCCCN1', 'CC(C1OS1(=O)=O)N(C)C', 'CC(O)NC(CS)C(=O)O', 'CS(=O)N1CC(O)C(O)C1', 'O=S(O)CN1CCOCC1', 'CC(=O)N[C@@H](CS)C(O)O', 'O=C(O)C(CCS)NCO', 'CC(=O)N=S(C)(=O)CCO', 'COC1CN(S(C)(=O)=O)C1', 'CSCCC(N)(O)C(=O)O', 'CS(=O)(=O)N[C@H]1CCCO1', 'N[C@@H](CSCCO)C(=O)O', 'CSCOCC(CO)N=O', 'CCC(=O)N(CC)S(=O)O', 'O=S(O)N1CCC(CO)C1', 'NS(=O)(=O)CC(O)C1CC1', 'CC(O)SCC(N)C(=O)O', 'NC(CS)C(=O)OCCO', 'N[C@@H]1CCC[C@H]1S(=O)(=O)O', 'CC1(CS(N)(=O)=O)COC1', 'CCC1CCOS(=O)(=O)N1', 'CN(C)S(=O)(=O)CCC=O', 'CSCCC(ON)C(=O)O', 'CO[C@H]1COC[C@H]1S(N)=O', 'COC(=O)C(CN)S(C)=O', 'O=S(=O)([O-])C[C@@H]1CCC[NH2+]1', 'NC(=O)CSCC(O)CO', 'CN1CCCC1S(=O)(=O)O', 'C([C@@H](C(=O)O)N)C(=O)N', 'CNC(=O)ON(C)C=O', 'C/C(N)=N\\\\OCC(=O)O', 'CCN(N=O)C(=O)OC', '[H]/N=C/NC(=O)OCCO', '[2H]c1ccnc2nccnc12', 'COC(=O)CN(C)N=O', 'COC(=O)NCNC=O', 'CCO.N=C=O.N=C=O', 'CN(CCC(=O)O)N=O', 'CCON(N)C(=O)C=O', 'CN(C)NC(=O)C(=O)O', 'CCNC(=O)NC(=O)O', 'O=C(O)N/N=C/CCO', 'CC1ONCC1[N+](=O)[O-]', 'C=CCNC(=O)N(O)O', 'NNC1CC(=O)OC1O', 'NC(N)(C=O)CC(=O)O', 'COCC1=NC(O)ON1', 'CC(=O)NONC(C)=O', 'O=[N+]([O-])N1CCCCO1', 'O=NCC(CO)CN=O', 'NNC(=O)OC1COC1', 'CCOC(=O)NCN=O', 'O=[N+]([O-])CC1(O)CCN1', 'C=CC(=O)O.NC(N)=O', 'NNC(CC=O)C(=O)O', 'NC(=O)C[C@@H](C=O)NO', 'ON=C[C@H](O)C/C=N\\\\O', 'COC(=O)NN(C)C=O', 'CCON=C(N)C(=O)O', 'NC=NC(=O)OCCO', 'CN1CC(O)(O)C(=O)N1', 'C[Si](N)C[Si](C)N', 'CC(=O)OC(=O)N(C)N', '[B]/C=C/c1ccc(F)cc1', '[H]/N=C/O/C(C)=N/OOC', 'O=C[O-].[NH-]OC1CNC1', 'NCC(N)C(=O)C(=O)O', 'N[C@@H](CO)C(=O)C1NO1', 'CC(C)(C=NO)[N+](=O)[O-]', '[3H]CSOC(=C)/C=C/C', 'NC=O.O=C1NCCO1', 'CC(C)(C=O)N[N+](=O)[O-]', 'NC(=O)CNC(=O)CO', 'C/C(CC(=O)NO)=N/O', '[NH3+]CC(=O)N[CH]C(=O)O', 'CC(CC(N)=O)[N+](=O)[O-]', 'CC(C)(N=O)OC(N)=O', 'CNC(=O)N(O)C(C)=O', 'NC(=O)[C@@H](N)CC(=O)O', 'CNC(=O)C(C)[N+](=O)[O-]', 'O=[N+]([O-])N1CCOCC1', 'C/N=N/C(=O)OCCO', 'NC(=O)N1OCCC1O', 'CC(C(=O)O)N(C)N=O', 'NC(=O)/C=C\\\\C(=O)[O-].[NH4+]', 'CC(C)(C=O)/N=N/OO', 'NCCCC(=O)ON=O', 'CCOC(=O)C=NNO', 'CC(=O)OCNCN=O', 'CN1NCC(O)(O)C1=O', 'C/N=C(/NO)C(=O)OC', 'CCCN1[SiH2]N[SiH2]1', 'NN1CC(CO)OC1=O', 'CCOC(=O)C(N)=NO', 'COC(=O)CC(N)=NO', 'CN(CCN=O)C(=O)O', 'NC(=O)NC(O)/C=C/O', 'C=CC(N)=O.NC(=O)O', 'NC[C@H]1CN(O)C(=O)O1', 'CC(N)(NC=O)C(=O)O', 'CN(N)C(=O)CC(=O)O', 'NC(=O)C(O)[C@H](N)C=O', 'N/C(CCC(=O)O)=N/O', 'NOC(=O)/N=C/CCO', 'COC=NC(C)[N+](=O)[O-]', 'C1=NCC[NH2+]1.O=C([O-])O', 'NC1NC=CO1.O=CO', 'CC(=O)NCC(=O)NO', 'CC(=O)NC(=O)NCO', 'CC(=O)NC(N)C(=O)O', 'C[C@@H](C(=O)O)N(C)N=O', 'COC(C(N)=O)C(N)=O', 'C=CC(N)(N)OC(=O)O', 'CC(=O)NC(=O)CON', 'COC.N=C=O.N=C=O', 'CC(N=O)OC(C)N=O', 'CCO/C=N/NC(=O)O', 'CONC(=O)N(C)C=O', 'COC(=O)C/C(N)=N/O', 'CC(=O)N(O)CNC=O', 'C[C@@](N)(C=O)NC(=O)O', 'NC(N)C(=O)CC(=O)O', 'NC(=O)CCC(=O)NO', 'CC(=O)NCNC(=O)O', 'CC(NO)=C(C)[N+](=O)[O-]', '[H]/N=C/OCNC(=O)OC', 'NC(CCO)C(=O)N=O', 'CCNOC(=O)C=NO', 'COC1NC(=O)ON1C', 'C=C(OC)ONC(N)=O', 'CNC(=O)NCC(=O)O', 'CCC(=O)N(N)C(=O)O', 'CCC(=O)OCNN=O', 'O=C1NCCC(OO)N1', 'NC(=O)[C@H](CO)NC=O', 'CNC(=O)C(CO)N=O', 'CC1=C(CO)NON1O', 'CCNC(O)=C[N+](=O)[O-]', 'CC1C(C)N([O-])ON1[O-]', 'ON=CC[C@@H](O)C=NO', 'O=C(O)O[C@H]1CCNN1', 'O=C(O)C1C[NH+]([O-])CN1', 'NC(CCC=O)[N+](=O)[O-]', 'N[C@H]1COC[C@@H]1[N+](=O)[O-]', 'O=CCNC(=O)NCO', 'COC(=O)C(=O)NCN', 'C1=[NH+]CCC1.O=[N+]([O-])[O-]', 'CON=[N+]([O-])CC(C)=O', 'O=NON1CCOCC1', 'NOCC1CC(=O)NO1', 'CC(NC(N)=O)C(=O)O', 'N.O=C1CC(O)C(=O)N1', 'NC(=O)NC(=O)CCO', 'C/C(=N\\\\CC(=O)O)NO', 'C[C@@H](OC=O)N(C)N=O', 'C/C(=N\\\\O)C(C)[N+](=O)[O-]', 'CC(O)C(CN=O)N=O', 'CNC(=O)NOC(C)=O', 'N.NC(=O)/C=C\\\\C(=O)O', 'ON/C=C/C1OC1NO', 'CON1CC(O)NC1=O', 'CC(=O)CCN[N+](=O)[O-]', 'CN(CC(=O)O)C(N)=O', 'CC(=O)C(NN)C(=O)O', 'CC1C(=O)N(O)CN1O', 'O=C(O)N1CCOCN1', 'CN(C)/C(O)=C/[N+](=O)[O-]', 'CN/N=C(\\\\OC)OC=O', 'OCC1=CNON1CO', 'CCO/C(N)=C\\\\[N+](=O)[O-]', '[H]/N=C/OCN(C)C(=O)O', 'COC(N)C(=O)NC=O', 'C[C@@H](N)C(=O)OC(N)=O', 'CNC(=O)C(N)C(=O)O', 'CCOC(=O)N/C=N/O', 'CN(C)C(=O)C[N+](=O)[O-]', 'CNC(=O)[C@H](O)C(N)=O', 'CNC(=O)CC(=O)NO', 'CC(=NO)C(C)=NOO', 'OC1=CNC(O)NC1O', 'COC(=O)C/C(N)=N\\\\O', 'CC(/C=N/O)NC(=O)O', 'CCOC(=O)N=NOC', 'NC(=O)C1=CNOC1.O', 'CC(O)(C(N)=O)C(N)=O', 'NC(=O)CCOC(N)=O', 'NC(=O)NCCOC=O', 'CC(C/C=N\\\\O)[N+](=O)[O-]', '[NH3+]CC(=O)NCC(=O)[O-]', 'CNC(=O)C(O)C(N)=O', 'C=C(C)CC.[Na+].[Na+].[O-2]', 'NC(=O)NCCC(=O)O', 'O=C1NC(O)CC(O)N1', 'COC(=NC(N)=O)OC', 'CC(=O)CC(N)[N+](=O)[O-]', 'O=[N+]([O-])OC1CCNC1', 'CCOC=NNC(=O)O', 'C[C@H](N)C(=O)OC(N)=O', 'CC(=O)OCC(N)=NO', 'CC(=O)NOC(=O)CN', 'N#CCC[NH3+].O=C([O-])O', 'O=C(/C=N/O)NCCO', 'CN(C)OC(=O)NC=O', 'CC(C(N)=O)N(O)C=O', 'C[C@H](O)C(=O)NC(N)=O', 'NNC(=O)CCC(=O)O', 'NC(N)=O.O=CCC=O', '[NH3+]C1CC(=O)NC1=O.[OH-]', 'CN(CC(N)=O)C(=O)O', 'O=[N+]([O-])C1NCCCO1', 'NC(CC=NO)C(=O)O', 'O=[N+]([O-])OCCN1CC1', 'CNC(=O)NC(=O)CO', 'COC(=O)/N=C(/N)OC', 'CCC(C[N+](=O)[O-])N=O', 'CC(=O)NCC[N+](=O)[O-]', 'CN(O)C(=O)NCC=O', 'CCOC(=O)NC=NO', 'OCCON=CC=NO', 'CN1CC1(CO)[N+](=O)[O-]', 'CCC(=O)NNC(=O)O', 'NC1(N)COC(=O)OC1', 'NC1=NCCO1.O=CO', '[N-]=[NH+][C@@H](CCO)C(=O)O', 'OCCO.c1conn1', 'NCC(=O)NC(=O)CO', 'CC(CC(=O)NO)=NO', 'CC(=O)NN(C)C(=O)O', 'NC(=O)C(N)CC(=O)O', 'O=[N+]([O-])CN1CCCO1', 'N[C@H]1COC[C@H]1[N+](=O)[O-]', 'CN/C(=C\\\\[N+](=O)[O-])OC', 'C/C(COC(N)=O)=N\\\\O', 'C=O.O=C1NCCN1O', 'C1CCOCC1.[Na].[Na]', 'COC(=O)/N=C(\\\\N)OC', '[H]/N=C/OOC(=O)N(C)C', 'CC(N)C(=O)OC(N)=O', 'COC(=O)C(N)C(N)=O', 'N/C=N/C(=O)OCCO', 'C/C(CO)=N/NC(=O)O', 'NC(=O)CCNC(=O)O', 'C[C@@H](NC(=O)O)C(N)=O', 'COC(=O)NNC(C)=O', 'CCOC(=O)NC(N)=O', 'NC(=O)NC1OCCO1', '[H]/N=C(\\\\N)C(OC)C(=O)O', 'C=CNC(C)=O.O=[NH+][O-]', 'CC(=O)NNCC(=O)O', 'O=C(O)OC1CCNN1', 'NC(=O)CCN(O)C=O', 'NC[C@H](NC=O)C(=O)O', 'CCCC(=NO)[N+](=O)[O-]', 'C[C@]1(O)NC(=O)N[C@@H]1O', 'C=[N+]([O-])N(C)C(=O)OC', 'O=C(O)[N+]1([O-])CCNC1', 'N[C@H]1C(=O)N(O)C[C@@H]1O', 'CCONC(=O)C(N)=O', 'CNC(=O)OCC(N)=O', 'CCOC(=NO)C(N)=O', 'O=[N+]([O-])CC1NCCO1', '[2H]C([2H])(O)C([2H])([2H])c1cccs1', 'NC1C(=O)N(O)CC1O', 'CNC(=O)ONC(C)=O', 'C[Si]CCP(C)C', 'COC/C(N)=N/C(=O)O', 'O=C1NNCC1C(O)O', 'C=CCN(O)C(=O)NO', 'COC1(OC)C=NON1', '[H]/N=C/OCOC(=O)NC', 'CC(=O)ONC(=O)CN', 'NC(=O)C(=O)[C@@H](N)CO', 'CC(C)(/C=N\\\\O)[N+](=O)[O-]', 'N.NC(=O)/C=C/C(=O)O', 'CN(C)C(=O)C(=O)NO', 'NC(CNC=O)C(=O)O', 'O=C1N(CO)CN1CO', 'C=O.O=C1NCOCN1', 'COC(=O)CC(=O)NN', 'CC(=O)OC/N=[N+](/C)[O-]', 'O=C1C(CO)NCN1O', 'C/N=N/OCOC(C)=O', 'NOC(=O)N=CCCO', 'O/N=C/C[C@@H](O)/C=N/O', 'COC1=CC2=C(C=CN=C2C=C1)[C@H]([C@@H]3C[C@@H]4CCN3C[C@@H]4C=C)O', 'CCC[C@H](C(=O)NNC(=O)c1ccc(C)cc1C)c1ccccc1', '[H]/N=C(\\\\N)c1ccc(CCC(CC(=O)OCC)c2ccccc2)cc1', 'OP(O)(O)(c1ccccc1C1CCCCC1)C1CCCCC1', 'CCCCN1C(=O)COc2cc(CNc3ccccc3C)ccc21', 'CCC(CNC(=O)N1CCC(OC)CC1)Oc1ccccc1F', 'CC(C)COc1ccccc1-c1ncccc1C(=O)N1CCCC1', 'CC1CN(C(=O)CCCc2ccccn2)C(c2ccccc2)CO1', 'O=C(OCc1ccccc1)N1CCC[C@@H](NCc2ccccc2)C1', 'O=C(NCc1ccc(OCc2ccccc2)cc1)C1CCNCC1', 'O=C([C@H]1CCCO1)N(CCCc1ccccc1)Cc1ccccn1', 'COCc1ccccc1C(=O)Nc1cccc(N2CCCCC2)c1', 'Cc1cc2c(c(-c3ccccn3)c1)O[C@@H](CNC(=O)C(C)(C)C)C2', 'CCN(CC)C(=O)[C@H]1[C@H](c2ccccc2)N1c1ccc(OC)cc1', 'COC(=O)c1cc2c(ccn2C)n1Cc1ccc(C(C)(C)C)cc1', 'CCC(CC)(CO)NC(=O)Nc1ccc(OC2CCC2)c(F)c1', 'CCOC(=O)C1CC[NH+](Cc2cc(OC)c(O)c(OC)c2)CC1', 'O=C(CCCc1ccc(-c2ccc(=O)[nH]c2)cc1)N1CCCCC1', 'O=C([C@@H]1CN(C(=O)C2(F)CCC2)C[C@H]2OCC[C@H]21)N1CCCC1', 'CCCC(=O)Nc1cccc(NC(=O)CCCc2ccccc2)c1', 'CN(Cc1cccc(C(=O)O)n1)CC1(c2ccccc2)CC1(C)C', 'COc1cc(N2CCOCC2)ccc1/C=N/c1cc(C)ccc1C', 'CN(C)c1ccc(-c2ccnc(NCCCc3nn[nH]n3)n2)cc1', 'CCc1ccc(/C=N/NC(=O)COc2c(C)ccc(C)c2C)cc1', 'CC(C)C(=O)N(Cc1ccc2c(c1)CNCCO2)c1ccccc1', 'O=C(Nc1ccc(COCc2ccccc2)cc1)C1CCCNC1', 'CC(C)N1CCN(C(=O)c2cccc(Oc3ccccc3)c2)CC1', '[O-][N+](=Cc1ccccc1)CCCCCC[N+]([O-])=Cc1ccccc1', 'CC(C(=O)Nc1ccccc1)N(CC=Cc1ccccc1)CCO', 'Cc1ccc(CC(=O)NC2CC(C)(C)Oc3ccc(N)cc32)cc1', 'COC(=O)Cc1cccc(-c2ccc(N3CCN(C)CC3)cc2)c1', 'C=C[C@H]1CN2CC[C@H]1C[C@@H]2c1cc(CO)c2cc(OC)ccc2n1', 'CC(C)CC(=O)NC(C(=O)OC(C)c1cncc(F)c1)C(C)C', 'CCCCCCc1cnc(OC(=O)/C=C/Cc2ccccc2)nc1', 'O=C(NCCC(c1ccccc1)c1ccccc1)N1CCOCC1', 'O=C(c1ccoc1)N1CCC2(CCN(Cc3ccccc3)CC2)C1', 'COc1ccc(CN2C[C@H](C)[C@@H](NCc3ccccc3)C2=O)cc1', 'CC(=O)c1cc(-c2ccccc2)n(CC(=O)NC2CCCC2)c1C', 'CC(=O)Nc1ccc(NC(=O)CCc2ccc(C(C)C)cc2)cc1', 'Cc1ccccc1OCCCCn1c([C@H](C)O)nc2ccccc21', 'CC(=O)Nc1ccc([C@H]2CN([C@H](C)c3ccccc3)CCO2)cc1', 'Cc1nnc2ccc(N(C)CC3CCCN3c3cccnn3)nn12', 'CC(=O)N(CC(=O)NCc1cccc(C)c1)Cc1ccccc1C', 'COc1cccc(NC(=O)[C@H](C)N2CCCc3cc(C)ccc32)c1', 'CC[C@@H](C)[C@@H](NC(=O)C(c1ccccc1)c1ccccc1)C(N)=O', 'O=C(c1cc(C2CC2)on1)N1CCCC[C@@H]1CCc1ccccc1', 'CC(CNC(=O)CCNC(=O)Cc1ccccc1)c1ccccc1', 'CCNc1nc(Nc2cnn(C(C)C)c2C)nc2[nH]cc(C#N)c12', 'C=CCN(CC=C)C(=O)c1ccc(C(=O)N(CC=C)CC=C)cc1', 'CCCN(C(=O)c1cccc(NC(=O)CC)c1)c1cccc(C)c1', 'COc1ccc(C(C)NCC2CCC(C(=O)N(C)C)O2)cc1F', 'NC(=O)CCC1(O)CCCN(CCCOc2ccccc2F)C1', 'Cc1ccccc1OCCN(C)C(=O)C1Cc2ccccc2CN1', 'CCOc1ccc(C(C)=O)cc1CN1CC(N)Cc2ccccc21', 'Cc1cc(C)cc(C(c2ccccn2)N2CCCCC2C(=O)O)c1', 'C[C@H]1OC[C@@H]2[C@H]3CC(=O)C4(CCN(C)/C=C/13)c1ccccc1N[C@@H]24', 'CCN(CC)C(=O)c1cccc(C(=O)Nc2cc(C)ccc2C)c1', 'Cc1ccc2nc(C3CC3)cc(C(=O)N(C)CC3CC(O)C3)c2c1', 'C=C/C=C/Cn1c(=O)c(=O)n2c3c(c(C)c(C)cc31)C(C)(C)CC2', 'Cc1cc(C)c(C(C)NC(=O)C(=O)NCc2ccccc2)cc1C', 'COc1ccc(CC(=O)NN2CCC[C@H]2Cc2ccccc2)cc1', 'CN(Cc1ccc(C(=O)O)cc1)[C@H]1CCCN(c2ccccc2)C1', 'CCCNC(=O)c1ccccc1NC(=O)CC(C)c1ccccc1', 'NCCOc1ccc(NC(=O)C2(c3ccccc3)CCCC2)cc1', 'CCCNC(=O)N1CCC(OCCOc2ccc(F)cc2)CC1', 'O=C(NCCC1CCNC1)C(Oc1ccccc1)c1ccccc1', 'CC(C)(C)OC(=O)Nc1ccc(N2CCCc3ccccc32)cc1', 'CCOC(=O)c1ccc(N2CCCC2)c(Nc2ccccc2)c1C', 'Cc1ccc(C)c(NC(=O)NCCOc2ccc3c(c2)CCC3)c1', 'O=C(C1CN(Cc2cccc3ccccc23)CCO1)N1CCCC1', 'NC(=O)CC(CCc1ccccc1)(CCc1ccccc1)C(N)=O', 'CN(CCO)CC1CN(C(=O)Cc2cccc(F)c2)CC1CO', 'CCC(O)c1nc2ccccc2n1CCOc1cccc(C)c1C', 'CC/C(=N/NC(=O)COc1ccccc1C(C)C)c1ccccc1', 'Cc1cc(N2CCC(F)(F)C2)ncc1B1OC(C)(C)C(C)(C)O1', 'COc1ccc(CC2CN(c3cccc(C)n3)C(=O)CC2C)cc1', 'O=C(CCN(CCO)C1CCc2ccccc21)Nc1ccccc1', 'Cc1ccc(C(NC(=O)NC2CCCc3occc32)C2CC2)cc1', 'Cc1ccccc1C1CN(C(=O)CCc2ccccn2)C(C)CO1', 'COc1ccc(CN2CCN(c3ccccc3C)C(=O)[C@H]2C)cc1', 'CC(C(=O)NC(C)c1ccccc1)C(=O)NC(C)c1ccccc1', 'Cc1cc(C)c(NC(=O)CNC(=O)Cc2ccccc2C)c(C)c1', 'CCOC[C@H](O)CN1CCN(C(=O)c2ccc(C)c(F)c2)CC1', 'CCOc1ccccc1C(=O)Nc1ccccc1N1CCCCC1', 'COc1ccc(CN2CCN(CC(=O)c3ccccc3)CC2)cc1', 'CC(=O)N(CC(=O)Nc1ccc(C(C)C)cc1)c1cccc(C)c1', 'COc1ccc(CC(=O)NC2CCN(Cc3ccccc3)C2)cc1', 'Cc1ccc(NCC(=O)NNC(=S)NCCC[NH+](C)C)cc1', 'Cc1cccc(OCCCCn2c([C@@H](C)O)nc3ccccc32)c1', 'CC(C)(CNC(=O)Cc1cccc(F)c1)NC(=O)OC(C)(C)C', 'CC(=O)N(CCC(=O)NCc1ccccc1)C(C)c1ccccc1', 'CCCCCCCCCC(C)c1cc(OC)cc(C(=O)Cl)c1', 'CN(C)C(=O)/C=C\\\\c1ccc(OCCCc2ccccc2)c(N)c1', 'CCC(OC(=O)n1c2ccccc2c2ccccc21)N(CC)CC', 'COc1cc(-c2ccccc2)ccc1C(=O)N(C)CC1CCNC1', 'CC(C)Cc1ccc(C(=O)CCC(=O)Nc2ccccc2N)cc1', 'COc1ccc(NC(=O)c2cc(C3CC3)cc(C(C)(C)C)c2)cn1', 'CCc1ccccc1NC(=O)C(C)(C)C(=O)Nc1ccccc1C', 'CCCCc1c(CCCC)c2c3c(cccc3c1N)C(=O)NC2=O', 'Cc1ccc(O)c(C(=O)NCc2ccc(CN3CCCC3)cc2)c1', 'CC(=O)N(CC(=O)Nc1cccc(C)c1)c1ccc(C(C)C)cc1', 'NC[C@H]1CCC[C@H]1C(=O)NCc1ccccc1Oc1ccccc1', 'CC(C)c1[nH]c(=O)ccc1C(=O)NCc1ccc2c(c1)CCCC2', 'CCCOc1ccc(C(=O)OCC[N+]2(C)CCOCC2)c(O)c1', 'CC(NCc1ccccc1CO)c1cccc(N2CCCC2=O)c1', 'CC(N[C@H](CO)c1ccccc1)c1ccc2c(c1)C(C)(C)C(=O)N2', 'Cc1noc(C)c1-c1ccc2cc(CCN3CCC[C@H]3C)cc-2o1', 'CO[C@@H]1CC[C@H]2N(C(=O)c3cccc4ncccc34)CC[C@@]2(C)C1', 'CCc1ccc(C2CC(c3ccc(OC)c(OC)c3)=NN2C)cc1', 'CC(C)(C)OC(=O)NCC(NCc1cc(F)ccc1O)C1CC1', 'CC(=O)N(CCC(=O)N(C)Cc1ccccc1)c1ccccc1C', 'CCCCCOc1ccccc1/C=N\\\\NC(=O)c1ccc(C)cc1', 'Oc1cc(-c2ccccn2)cc2c1OCCN(C1CCCCC1)C2', 'CC1CC(NC(=O)OCc2ccccc2)CN1Cc1ccccc1', 'Cc1cc(C)c(N2CCN(C(=O)c3ccc(O)cc3)CC2)cc1C', 'Cc1ccc(O[C@H](C)C(=O)N2CCN(c3ccccc3)CC2)cc1', 'c1ccc2c(c1)NNN2N1CCN(N2NNc3ccccc32)CC1', 'COc1ccc(CCC(=O)Nc2cccc(N3CCCC3)c2)cc1', 'CNc1ccc(C(=O)O)c(C2CCN(Cc3ccccc3)CC2)c1', 'CC(C)C(C)(O)CNC(=O)Nc1ccc(OC2CCC2)c(F)c1', 'Cc1cccc(C(=O)NCCC(=O)NCCc2ccccc2C)c1', 'Cc1ccc(O)c(C(=O)N2CCN(CCc3ccccc3)CC2)c1', 'CC(=O)c1[nH]c(C)c(C(=O)N(C)[C@H]2CCCc3ccccc32)c1C', 'CCc1cc(C(=O)N2CCCC(c3ccccc3OC)C2)ccn1', 'CCc1cc(C(=O)N[C@H]2[C@H]3CCCC[C@@H]3[C@@H]2c2ccccc2)on1', 'CC1CNCCN1C(=O)CCOc1ccccc1-c1ccccc1', 'CC(C)NC(=O)CNC[C@H]1CC[C@@H](Oc2cccc(F)c2)[C@@H]1O', 'OC12C[C@H]3C[C@@H](C1)CC(NCc1cc(-c4ccccc4)on1)(C3)C2', 'COc1ccc(N(C/C=C/c2ccc(N(C)C)cc2)C(C)=O)cc1', 'CCOc1ccc(C(=O)N2CCN(c3ccc(C)cc3)CC2)cc1', 'O=C(NCc1ccccc1OCc1ccccc1)C1CCCNC1', 'CC(C)Oc1ccc(C(=O)Nc2ccc3c(c2)CN(C)CC3)cc1', 'COc1ccc(-c2ccc(C(=O)CCN3CCNCC3)cc2)cc1', 'COCCCNC(=O)c1ccc(CN2CCc3ccccc32)cc1', 'O=C1CCCC1c1ccccn1.OC1CCCC1c1ccccn1', 'CCN(CC)C(=O)c1ccc(C(=O)NCc2ccccc2C)cc1', 'COc1ccc(C(=O)N2CCCCC2CN)cc1-c1ccccc1', 'CCC(CC)[C@H](NC(=O)C(=O)Nc1ccccc1)c1ccccc1', 'Cn1cc(NC(=O)C2(c3ccc(C(C)(C)C)cc3)CC2)ccc1=O', 'CC(CNC(=O)N1CCC(C(C)O)CC1)Oc1ccccc1F', 'CN(Cc1ccccc1N1CCCC1)C(=O)Cc1ccc(O)cc1', 'COc1ccc(CN2C(=O)C(C)(C)NCC2c2ccccc2)cc1', 'Cc1cccc(C2CCCN2C(=O)c2noc3c2CCCC3)c1C', 'Cc1cccc(NC(=O)C(NC(=O)c2ccccc2)C(C)C)c1C', 'CCCCN(C(=O)c1cccc(NC(=O)CC)c1)c1ccccc1', 'CCCOc1ccc(F)c(COC(=O)N2CCNC[C@H]2CC)c1', 'CO/N=C(/C)c1cccc(C)c1CO/N=C(\\\\C)c1ccc(C)cc1', 'Cc1ccc(CC(=O)Nc2ccccc2C(=O)NC(C)C)cc1C', 'O=C(CCN1CCN(c2ccccc2)CC1)C(O)c1ccccc1', 'Cc1ccc(C[C@@H](NC(=O)[C@H]2CCCOC2)c2ccccn2)cc1', 'Cc1ccc(OCc2cncc(C(=O)N3CCC(C)CC3)c2)cc1', 'Cc1cccc(Oc2ccccc2CNC(=O)C2CCC(N)C2)c1', 'CC(C)Oc1ccc(C(O)CNC(C)c2ccc(C#N)cc2)cc1', 'COc1ccc(/C=C\\\\C(=O)Nc2ccc(C(C)(C)C)cc2)cc1N', 'O=C(NCCN1CCOCC1)C1CC1c1cccc2ccccc12', 'C[C@H]1CCCCN1CC(=O)Nc1ccccc1Oc1ccccc1', 'CC(=O)Nc1ccc(OC2CCN(C)CC2c2ccccc2)cc1', 'COc1cccc(F)c1C(C)NC(=O)NCC1CCCC(O)C1', 'CN(CCc1cccc([N+](=O)[O-])c1)CC1CCCc2ccccc21', 'NC1CCCN(C(=O)C2CC2c2ccccc2-c2ccoc2)CC1', 'O=C(NC1CCCCCC1)c1cn2c3c(cccc3c1=O)CCC2', 'Cc1ccc(-c2ccc(CCC(=O)N3CC[C@@H]4CNC[C@@H]43)o2)cc1', 'C[C@]12CC[C@H](O)C[C@@H]1CC[C@@H]1[C@@H]2CC[C@]2(C)C(=O)[C@H](Cl)C[C@@H]12', 'COCc1cccc(C(=O)N2CCN(C)CC2c2ccccc2)c1', 'COC(=O)N(Cc1ccccc1)N1CCC(c2ccccc2)CC1', 'COc1ccc(C2(C(=O)NCc3ccccn3)CCCCC2)cc1', 'CC(C)(C)OC(=O)N1CCC(=Cc2cccc3cccnc23)CC1', 'Cc1cc2cc3c(cc2[nH]c1=O)CN(C(=O)C1CCCCC1)CC3', 'COc1ccccc1CC(C)(C)NC(=O)[C@H]1C[C@@H]1c1cccnc1', 'CC1CCC/C(=N/NC(=O)C(C)Oc2ccc3ccccc3c2)C1', 'COC(=O)[C@@H]1CN(Cc2ccccc2)CCN1Cc1ccccc1', 'CCC(C(=O)Nc1ccc(NC(=O)C(C)C)cc1)c1ccccc1', 'CC(NC(=O)N1CCC(CO)C1)c1ccc(-c2ccccc2)cc1', 'Cc1cccc(C(=O)NCC(=O)N[C@@H](C)CCc2ccccc2)c1', 'CCOc1ccccc1NC(=O)C1CCN(Cc2ccccc2)C1', 'Cc1ccc(CN(CC(=O)c2c(C)[nH]c3ccccc23)C(C)C)o1', 'CCC(=O)Oc1ccccc1C(F)C(=O)NCCCCCCN', 'C(CCCCC=NOCc1ccccc1)=NOCc1ccccc1', 'CC(C)(C)OC(=O)Nc1cc(NC2CC(O)C2(C)C)ccc1F', 'NC(=O)CCCCCCC(=O)Nc1cccc(-c2ccccc2)c1', 'CC(C)(C)Oc1ccc2ccccc2c1/C=C1\\\\C(=O)NNC1(C)C', 'CC(NC(CO)c1ccccc1)c1cccc(N2CCCC2=O)c1', 'CCc1ccc(NC(=O)c2ccc(C(=O)NC(C)CC)cc2)cc1', 'CCCCC(C)=NNC(=O)c1ccc(OCc2ccccc2)cc1', 'CN(CC1CCNN1)c1nc(-c2ccncc2)nc2c1cnn2C', 'COc1ccc(CCCC(=O)NN=Cc2ccc(C)cc2)cc1C', 'O=C(Cc1cnc2ccccc2c1)N1CC[C@H](C2CCOCC2)C1', 'CC(C)(C)OC(=O)NCC(c1cccc(F)c1)N1CCOCC1', 'CC(C)(C)OC(=O)C1Cc2cnccc2CN1Cc1ccccc1', 'O=C(/C=C/c1ccccc1)NCC1CCN(Cc2ccco2)CC1', 'Cc1ccc(NC(=O)c2ccc(CN3CCOCC3)cc2)cc1C', 'OC[C@@H]1O[C@@H](CNCc2ccc(F)cc2)[C@H](N2CCCC2)[C@@H]1O', 'CCCCOC[C@H]1CCC(Cl)[C@@H]1CCc1cccc(CO)c1', 'COc1ccc(C(=O)Nc2ccc(N3CCCCC3)cc2)cc1C', 'COc1cc(C)cc(OC)c1C(=O)PCC(C)CC(C)(C)C', 'COc1ccc(C(=O)N[C@H]2CCCN(Cc3ccccc3)C2)cc1', 'CC(Cc1ccc2c(c1)CCCN2)NCc1ccc2c(c1)OCO2', 'CCc1ccc(NC(=O)CN(C(C)=O)C(C)c2ccccc2)cc1', 'Cc1cc(C)c(NC(=O)C(C)(C)C(=O)Nc2ccccc2)c(C)c1', 'CC(O)CC1COCCN1C(=O)NC(C)Cc1cccc(F)c1', 'CC(c1ccccc1)N(C)C(=O)CCNC(=O)Cc1ccccc1', 'CC1(CCC(=O)O)CN(c2ccccc2)CCN1c1ccccc1', 'C=C1c2cc3c(cc2C(=O)N1CCCC)C(=O)N(CCCC)C3=C', 'CC(C)Cc1ccc(C(C)C(=O)N/N=C/c2ccccc2O)cc1', 'Cc1cc(-c2ccc(C(C)N3CCCC3)cc2)nc(C)c1C(=O)O', 'C=C(CC(C)C)NNC(=O)C(O)(c1ccccc1)c1ccccc1', 'COc1ccc2c(c1)CCC(C1=C(C)C(=O)CC1)=C2/C=N\\\\N(C)C', 'Cc1ccccc1CN(Cc1cccnc1)C(=O)C1CCCC1O', 'COCC(=O)N1CCCN(CCc2ccccc2)c2ccccc21', 'O=C(CN(Cc1ccccc1)C1CC1)NCCOc1ccccc1', 'CN(/C=N/C(=C/CCO)Cc1ccccc1)Cc1cccc(O)c1', 'CCCO/C(=N\\\\C(C)c1ccccc1)NC(=O)c1cccc(C)c1', 'C[C@H](O)C[C@@H]1COCCN1C(=O)N[C@H](C)Cc1cccc(F)c1', 'CC(CCCCC(=O)Nc1ccccc1)C(=O)Nc1ccccc1', 'c1ccc(COC2CCC(Nc3[nH+]cnc4[nH]ncc34)CC2)cc1', 'CCNC(=O)C1CCCN(C(=O)c2cccc3ccccc23)CC1', 'COC(CN)CC(=O)NCC1(c2ccc(F)cc2)CCOCC1', 'CC(NC(=O)CCC1CCCO1)c1ccc(-c2cccnc2)cc1', 'NCC1(CC(=O)Nc2ccc(OCc3ccccc3)cc2)CCC1', 'Cc1ccc(NC(=O)N2CCC(C)C2)c(OCc2ccccc2)c1', 'CC[C@@H](C)NC(=O)CNC(=O)C(c1ccccc1)c1ccccc1', 'CC[C@@H]1C[C@@H](CC(=O)Nc2ncccc2-c2ccccc2)CCO1', 'COc1ccc(C(C(=O)N2CCCCCC2)c2ccccn2)cc1', 'CN(CCCc1ccccc1)CC(O)COc1ccc(C#N)cc1', 'Cc1cc(C)cc(C(=O)NCC(=O)Nc2ccc(C(C)C)cc2)c1', 'CCC(C)NC(=O)C(=O)N(Cc1ccccc1)Cc1ccccc1', 'C/N=C(/NCc1cnn(-c2ccccc2)c1)NCc1ncnn1C', 'CC(=O)N(CCCc1ccccc1)CC(=O)Nc1cccc(C)c1', 'O=C(COCc1ccccc1)n1cccc/c1=N\\\\C1CCCCC1', 'CCN(CC)CCNC(=O)C1(O)c2ccccc2-c2ccccc21', 'CN1CC(c2ccccc2)C2(CCN(Cc3ccco3)CC2)C1=O', 'CC[C@@H](C)N1C(=O)c2ccccc2N[C@H]1c1cc(C)c(O)c(C)c1', 'Cc1onc(-c2ccccc2)c1C(=O)N[C@@H](C)[C@H]1C[C@@H]2CC[C@@H]1C2', 'Cc1ccc(CN2CCC2(C)C(=O)Nc2ccc(C)c(O)c2)cc1', 'CC(Oc1ccc(C#N)cc1)C(=O)N1CC2CC3CC(C2)CC1C3', 'C=CN=C.[H]/N=C/C/C(=N\\\\[H])c1cc(Nc2ccnc(N)n2)ccc1N', 'CCCCCCC(=O)c1ccc(/N=N/c2ccc(OC)cc2)cc1', 'COc1ccc(F)cc1[C@H](C)NCC(=O)N1C[C@@H](C)O[C@@H](C)C1', 'CO/N=C(C)/C(=N/OC)c1ccc(CCc2cccc(C)c2)cc1', 'CC(=O)c1cccc(OCCN2CCCCC2c2cccnc2)c1', 'C/C(=N/NC(=O)COc1cc(C)ccc1C(C)C)c1ccccc1', 'NCc1cccc(C2CCN(O/C=C\\\\c3cccc(O)c3)CC2)c1', 'O=C(CCc1ccccc1)N1CC[C@@H](NCc2cccc(O)c2)C1', 'CCCC(=O)N(C)c1ccccc1C(=O)NCCc1ccccc1', 'Cc1ccccc1OCCCNc1ccccc1C1CCC(=O)N1', 'CCC(C)NC(=O)c1cccc(C(=O)N(C)Cc2ccccc2)c1', 'COc1ccc(C2(CNC(=O)NCc3cccc(C)c3)CC2)cc1', 'COCC1(CNC(=O)Cc2ccc(OC)c(F)c2)CCNCC1', 'Cc1c(CC[C@H]2CCC[C@@H](c3ccccc3)C2)ncnc1C(=O)O', 'Cc1ccc(C(=O)N2CCN(CCc3ccccc3)CC2)c(O)c1', 'CC(C)N(Cc1ccccc1)C(=O)C(=O)NCCc1ccccc1', 'CCCCc1ccc(C(=O)OCCCCCCCCCl)cc1', 'CCC1Oc2ccc(C(C)N)cc2N(CCc2ccccc2)C1=O', 'CC(=O)N(Cc1ccccc1)C(=O)CCNCc1cccc(C)c1', 'Cc1cccnc1C(=O)N1C[C@@H](c2ccccc2)O[C@@H](C(C)C)C1', 'C=CC[C@H](NN1C(=O)OC[C@@H]1C(C)C)c1ccc2ccccc2c1', 'CCCCCCCC/C=C\\\\CCCCCCCC(=O)O[C@H](CO)COP(=O)([O-])OCC[N+](C)(C)C', 'COc1cc(CN2CCC3(CC2)C[C@H](N(C)C(=O)OC(C)(C)C)[C@@](C)(O)CO3)ccc1OCCN(C)C', 'CCCCN(CCCC)C(=O)c1cnc2nc(Nc3ccc(OC)cc3)n(CCCN3CCCCC3)c2n1', 'CCCCCCCCCCCCCCCCNc1ccc(C(=O)C(F)(C(=O)OCC)C(=O)OCC)cc1', 'CC(C)CC[C@@H](C)[C@H]1CC[C@H]2[C@@H]3CC([N+](=O)[O-])=C4C[C@@H](OC(=O)c5ccccc5)CC[C@]4(C)[C@H]3CC[C@]12C', 'CCC(CC)N(CCO)C1CCC(NCc2ccc(C(=O)N(Cc3ncc[nH]3)Cc3ncc[nH]3)cc2)CC1', 'CCCCCCCCOc1ccc(C2C3=C(CC(C)(C)CC3=O)N(C)C3=C2C(=O)CC(C)(C)C3)cc1OC', 'Cc1cc2cc(CN(CCN3CCOCC3)[C@H](c3nnnn3C3CCCCC3)C(C)C)c(=O)[nH]c2cc1C', 'COC(=O)C[C@@]12CCC(C)(C)C[C@@H]1[C@H]1C(=O)C[C@@H]3[C@@]4(C)C=C(C#N)C(=O)C(C)(C)[C@@H]4CC[C@@]3(C)[C@]1(C)CC2', 'CCOc1cc(C(=O)NC2CCN(C)CC2)ccc1Nc1ncc2c(n1)N(C1CCCC1)[C@H](CC)CN2C', 'CCCCCCCCCCCCCCCCNc1ccc(C(=O)C(C(=O)OCC)C(=O)OCC)c(F)c1', 'C=C/C=N/C=C(/c1nn2c(c1C(=C)N1CC(C)C1)NC(c1ccc(C3CCCCC3)cc1)=CC2=C)C(C)CC', 'C=C/C(=C\\\\C(=C/C)c1ccc2c(c1)=C(C(=C)Nc1cnccc1NC(=C)C1CC1)N=2)CN1CCCCC1.CC', 'C=C(CC)c1cc2c(cc1N)N(C)C(=CCCC1=Nc3cc4c(cc3C(=C)N1)C(C)(C)C(=CC)N4C)C2(C)C', 'CC(C)CNC(=O)[C@H](C)CC(=O)[C@H](C)NC(=O)[C@H](C)CC(=O)CCCCCN1C(=O)CC(C(C)C)C1=O', '[H]/N=C(\\\\C(=O)N1C[C@@H](C)O[C@@H](C)C1)C1=C([NH2+]CC(=O)CCC2CCN(c3cccc4c3CCC4)CC2)CCC1', '[H]/N=C1/[C@H](c2ccc(C(=O)N(C)C)cc2)[C@@H](CCC)CN1CC(=O)c1cc(C(C)(C)C)c(O)c([N+](C)(C)C)c1', 'Cc1cc2cc(CN(CCN3CCOCC3)C(c3nnnn3C3CCCCC3)C(C)C)c(=O)[nH]c2cc1C', 'CC(C)CC([NH-])C(=O)NC(Cc1ccc(OCc2ccccc2)cc1)C(=O)NC1CC(C)(C)NC(C)(C)C1', 'CCCCCCCC/C=C/CCCCCCCC(=O)OC[C@@H](O)COP(=O)([O-])OCC[N+](C)(C)C', 'C=C(C1CCCCC1)N(/C=C(\\\\C)c1ccc(F)c(C)c1)CC(=O)N1CCN(c2cc(C)ncn2)CC1.CC', 'CCC(C)(CC)OP(=O)(O)CNCC(=O)OC(C)OCC1CCC(COC(C)C(C)(C)CC)CC1', 'CCCCCCCCCCCCCCCCNc1ccc(C(=O)C(C(=O)OCC)C(=O)OCC)cc1F', 'CCCCCCCCN(C(=O)C(CO)NC(=O)OC(C)(C)C)C(C(=O)NC(C)(C)C)c1cccc(O)c1', 'COCCCCOc1ccccc1C(=O)NCC(CC(N)C(O)CNC(=O)C1(OC)CCCC1)C(C)C', 'CCCCCCCN(C(=O)C(CO)NC(=O)OC(C)(C)C)C(C(=O)NCCCC)c1ccc(O)c(C)c1', 'Nc1nnc(-c2ccccc2O)cc1N1CCN(C(=O)CCN2CCN(CCC3CCCCC3)CC2)CC1', 'CC(=O)OC[C@]12CCC(C)(C)C[C@@H]1[C@H]1C(=O)C[C@@H]3[C@@]4(C)C=C(C#N)C(=O)C(C)(C)[C@@H]4CC[C@@]3(C)[C@]1(C)CC2', 'C#CC.CCCOC.COc1ccccc1C1CC(=O)C2=C(C1)NC(C)=C(C=O)C2C1CCCCCCC1', 'Cc1cc(C(C(=O)NC(C)(C)C)N(C(=O)C(CO)NC(=O)OC(C)(C)C)C(C)CCC(C)C)ccc1O', 'CC1(C)CC[C@]2([C@H]3COCO3)CC[C@]3(C)[C@H](C(=O)C[C@@H]4[C@@]5(C)C=C(C#N)C(=O)C(C)(C)[C@@H]5CC[C@]43C)[C@@H]2C1', 'CCCCCCCCCC(N[C@@H](CCCCN)C(=O)O)C(C[C@@H](N)Cc1ccccc1C(=O)O)C(=O)O', 'CC(C)CCCC[C@H]1CCC2C3CC=C4CC(OC(=O)c5ccc([N+](=O)[O-])cc5)CC[C@]4(C)C3CC[C@@]21C', 'C[C@H](CCO[Si](c1ccccc1)(c1ccccc1)C(C)(C)C)[C@@H](B1OC(C)(C)C(C)(C)O1)[C@@H]1CCCN1', 'C#C.C=C1CC(/C(N)=C\\\\C)=C/C(=C)c2cnn(C)c2CN(C)Cc2cccc(c2)-c2cccc(c2C)N1.CC', 'COCCCOc1cc(C(=O)N(C[C@@H]2CNC[C@H]2CNCC(=O)C(O)CC(C)C)C(C)C)ccc1OC', 'CC[C@H](C)[C@@H](C(=O)OC)N(C)C[C@@]1(C)CC[C@@H]2c3ccc(OCc4ccccc4)cc3CC[C@H]2[C@@H]1CCO', 'CC(C)[Si](O[C@H]1C[C@H](N(C)c2ncncc2C=O)C[C@@H]1CO[Si](C)(C)C(C)(C)C)(C(C)C)C(C)C', 'O=C(CC[C@H]1CN(Cc2ccccn2)CC[C@H]1N1CCN(c2ccccc2F)CC1)NCC1CCCCC1', 'CC(C)CNC(=O)c1cnc(N2CCN(C(=O)NCCC3CCN(Cc4ccccc4)CC3)[C@H](C)C2)nc1', 'C=C1C(=CC=C2CCC[C@]3(C)[C@@H]([C@@H](C)C=C[C@@H](O)C4(c5ncc(CCC)o5)CC4)CC[C@@H]23)CC(O)CC1O', 'CCCCCCCCCCCCCCCCn1c(N)[n+](CC(=O)c2ccc([N+](=O)[O-])cc2)c2ccccc21', 'C/C=C\\\\C=C(C(\\\\C)=C(/CNC(=O)Nc1sc2c(c1C)CCCC2)C1=C(CCCC)CNCC1)/C1CCC1', 'CCCCCCCCCCCCCCNC(=O)C(O)(C(=O)NC(C(C)=O)c1ccccn1)C(C)(O)CO', 'CCCNC(=O)[C@]1(C)CC[C@]2(C)CC[C@]3(C)C4=CC=C5C(=CC(=O)C(=O)[C@@]5(C)OC)[C@]4(C)CC[C@@]3(C)[C@@H]2C1', 'CCC(C)=CC(C)c1cc(C)c(-c2cccc3c(N)nc(NC4=CC(C)C(=C(C)CC)C(C)=N4)nc23)c(C)c1', 'CN(C)C(=O)NC1CCC(CCN2CCN(c3cc(-c4ccccn4)cc(N4CCOCC4)n3)CC2)CC1', 'CC(C)=CCC/C(C)=C/CC/C(C)=C/CC/C(C)=C/CSCC(Nc1ncccc1C)C1=COC=CN1', 'C=C/C(=N\\\\C=C/C)Nc1cc(CCc2cc(-c3ccnc(C(C)(C)C#CCC)c3)ccc2C)nn1C(C)(C)C', 'CCCCCCCCN(C(=O)C(CO)NC(=O)OC(C)(C)C)C(C(=O)NCCCC)c1cccc(O)c1', 'COCCN1CCN(c2cccc(CC(C)(C)C(=O)NCc3cnc(C#N)nc3NCC(C)(C)C)c2)CC1', 'C=C(c1ccccc1)N1CCC(CN(C(=C)C2CCCCC2)c2cc(NCc3cccnc3)cc(C)n2)CC1', 'CCC1=C(C)c2nc1cc1[nH]c(cc3[nH]c(cc4nc(c2CNC)C(CC)=C4C)c(CC)c3C)c(CC)c1C', 'COCCCOc1cc(C[C@@H](C/C(=N/[C@@H](C)c2ccccc2)[C@@H]2C[C@@H](C(C)C)C(=O)O2)C(C)C)ccc1C', 'CCCCC/C=C\\\\CCCCCCCCOCC(COP(=O)(O)OCCN)OC(=O)CCCCC', 'CCC1CN(C)c2cnc(Nc3ccc(C(=O)NC4CCN(C)CC4)cc3OC)nc2N(C2CCCC2)C1', 'CC(C)=CCc1c(C(O)C2OC2(C)C)ccc2c1C1CC3CCC4(O)C(C)(C)C(=O)CCC4(C)C3(C)C1N2', 'CCCCCCCCC/C=C\\\\CCCCCCCCCC(=O)OCC(O)COP(=O)(O)OCCN', '[C-]#[N+]C1=C[C@]2(C)[C@H]3CC(=O)[C@@H]4[C@@H]5CC(C)(C)CC[C@]5(C5COCO5)CC[C@@]4(C)[C@]3(C)CC[C@H]2C(C)(C)C1=O', 'CCCN(CCCOC)C1CCC(NCc2ccc(C(=O)N(Cc3ncc[nH]3)Cc3ncc[nH]3)cc2)CC1', 'C=CC(=O)OCCCCCCCCCCCCOc1ccc(-c2ccc(COC3CCCCC3)cc2)nc1', 'C#C/C=C(C#N)\\\\C=C/CC1CCN(C(=C)c2ccc(C(C)CCC)c(-c3nc4c([nH]3)CCN(C)CC4)c2)CC1', 'CC(C)c1cc(C(C)C)c([C@@H](C)O[C@H]2CC(=O)N(C(=O)OC(C)(C)C)[C@H]2Cc2ccccc2)c(C(C)C)c1', 'C=CC(=O)OCCCCCCOc1ccc(/C=N/c2ccc(OCCCCCCCCCCC)cc2)cc1', 'CC(C)C[C@H](NC(=O)[C@H](Cc1ccccc1)NCC(O)[C@H](C)NC(=O)OC(C)(C)C)C(=O)OC(C)(C)C', 'O=C(CC[C@@H]1CN(Cc2ccccn2)CC[C@@H]1N1CCN(c2ccccc2F)CC1)NCC1CCCCC1', 'CCCN(Cc1nc2cc(CNCCCN3CCCCC3C)ccc2n1CCC)C(=O)c1cccc(F)c1', 'CCCCCCOCCCCc1ccccc1C1OC=C(c2ccc(OCCCCCCC3CC3)nc2)O1', 'CCCCCCCC/C=C\\\\CCCCCCCCOc1ccc(/C=N/c2ccccc2C(=O)O)cc1OC', 'CC(C)CC[C@H](C)[C@H]1CC[C@H]2[C@@H]3CC([N+](=O)[O-])=C4C[C@H](OC(=O)c5ccccc5)CC[C@]4(C)[C@H]3CC[C@]12C', 'CCCc1c(CCC)c([Si](c2ccccc2)(c2ccccc2)C(C)(C)C)n(-c2ccccc2)c1C(C)(C)C', 'CC(=O)Oc1c(C#N)cc(C(C)(C)C)cc1C(C)(C)C.CC(=O)c1cc(C(C)(C)C)cc(C(C)(C)C)c1O', 'CC1(C)CC[C@]2(C3COCO3)CC[C@]3(C)[C@@H](C(=O)C[C@@H]4[C@@]5(C)C=C(C#N)C(=O)C(C)(C)[C@@H]5CC[C@]43C)C2C1', 'CCN(CC)C1CCN(c2ccc(Nc3ncc4c(n3)N3CCC[C@H]3CC(=O)N4C)c(OC(C)C)c2)CC1', 'CCCCCCCC1CCC2CC(c3cc(F)c(-c4ccc(C5=NC(C)(C)CO5)cc4)c(F)c3)CCC2C1', 'CN(CCCCNc1c2c(nc3ccccc13)CCCC2)CCCNc1c2c(nc3ccccc13)CCCC2', 'CCCCCCCCN(C(=O)C(CO)NC(=O)OC(C)(C)C)C(C(=O)NC(C)C)c1ccc(O)c(C)c1', 'CCCCCCCCCCCCN(C)c1ccc(C=CC(C)=CC=CC=C(C)C=C(C(=O)O)C(=O)O)cc1', 'COC(=O)C[C@]12CCC(C)(C)C[C@H]1[C@H]1C(=O)C=C3[C@@]4(C)Cc5cnoc5C(C)(C)C4CC[C@@]3(C)[C@]1(C)CC2', 'C=CN1C[C@H](CN(CC)CCC)N(CC(=O)N2CC(C)(C)c3ncc(Cc4ccc(F)cc4)cc32)CC1C', 'C/C=C/C1CCc2cc(OC(C)(C)C)ccc2C1c1ccc(N2CCC(CC(OC)OC)(OC)CC2)cc1', 'CC/C=C\\\\C/C=C\\\\C/C=C\\\\C/C=C\\\\C/C=C\\\\C/C=C\\\\CCC(=O)N(CCC)[C@@H]1CCc2nc(N)sc2C1', 'CCCCCNc1nc(N)nc2ccn(Cc3ccc(CN4CCOC5(C4)CN(C(C)C)C5)cc3OC)c12', 'C=C(C)C(=C\\\\C)/C(=N\\\\N(C(=C)/C=C(\\\\C)c1ccc(C2CCCCC2)cc1)C(C)CC)n1nnc2ccccc21', 'C=CCNC(CNc1nc(C)nc(N2CCC(c3ccc4c(n3)NCCC4)CC2)c1C)C(=O)OC(C)(C)C', 'CCN(CC)c1ccc([C@H]2C[C@]3(C)C(=O)CC[C@H]3[C@@H]3CC[C@@]4(O)CC5(CCC4=C32)OCC(C)(C)CO5)cc1', 'C=C1C(=CC=C2CCC[C@]3(C)[C@@H]([C@@H](C)C=C[C@H](O)C4(c5nc(CCC)co5)CC4)CC[C@@H]23)C[C@@H](O)C[C@@H]1O', 'CC(=O)OC[C@]12CCC(C)(C)CC1[C@@H]1C(=O)CC3[C@@]4(C)C=C(C#N)C(=O)C(C)(C)C4CC[C@@]3(C)[C@]1(C)CC2', 'COC(=O)C[C@]12CCC(C)(C)CC1C1C(=O)C=C3[C@@]4(C)CC(C#N)C(=O)C(C)(C)C4CC[C@@]3(C)[C@]1(C)CC2', 'COc1ccc(C(O)CN(CCCCCCOCCCCC2=CCCC=C2)Cc2ccccc2)cc1CO', 'CC(C)n1cnc2c(Nc3cccc(CNC(=O)OC(C)(C)C)c3)nc(CC3CCC(N(C)C)CC3)nc21', 'CC1=C(O)C(=O)C=C2C1=CC=C1[C@@]2(C)CC[C@@]2(C)[C@@H]3C[C@](C)(NC(=O)OC(C)(C)C)CC[C@]3(C)CC[C@]12C', 'CCCCCNC(=O)CCC(=O)N1CCN(CCn2c(CCCC)nc3c(N)nc4ccccc4c32)CC1', 'CCCCCCCC/C=C\\\\CCCCCCCC(=O)OC[C@H](O)COP(=O)([O-])OCC[N+](C)(C)C', 'C=C1C(=CC=C2CCC[C@]3(C)[C@@H]([C@H](C)C=C[C@@H](O)C4(c5ncc(CCC)o5)CC4)CC[C@@H]23)C[C@@H](O)C[C@@H]1O', 'CCCCO[C@@H]1[C@@H](OCCCC)[C@@H](On2nnc3ccccc32)[C@@H](O)[C@H](OCCCC)[C@H]1OCCCC', 'CCCCCCCCCCCCCCCC(=O)OCC(COP([O-])OCC[N+](C)(C)C)OC(C)=O', 'CC.CCCCC(CC)NC(=O)c1ccc(C2CC2)cc1.Cc1cnc(C(N)=O)c(Nc2cnn(C)c2)n1', 'COC(=O)C[C@]12CCC(C)(C)C[C@@H]1[C@H]1C(=O)CC3[C@@]4(C)C=C(C#N)C(=O)C(C)(C)[C@@H]4CC[C@@]3(C)[C@]1(C)CC2', 'CCCCCCCCCCCCCCC/C=C/C(O)OCCCOP(=O)(O)OCCNC(=O)CC', 'C=C1/C(=C\\\\C=C2/CCC[C@]3(C)[C@@H]([C@@H](C)/C=C/[C@@H](O)C4(c5ncc(CCC)o5)CC4)CC[C@@H]23)C[C@@H](O)C[C@@H]1O', 'CCCCCCN(C(=O)C(CO)NC(=O)OC(C)(C)C)C(C(=O)NC(C)CCC)c1cccc(C)c1O', 'CCCCCCCC/C=C\\\\CCCCCCCC(=O)C(OP(=O)([O-])OCC[N+](C)(C)C)[C@@H](O)CO', 'CCC(C)=CC(C)c1cc(C)c(-c2cc(C)cc3c(N)nc(NC4=NC(C)C(=C(C)CC)C=C4)nc23)c(C)c1', 'CCCCCCCCOCOC1=C(CC2CCN(Cc3ccccc3)CC2)Cc2cc(OC)c(OC)cc21', 'CCc1cc(O)ccc1C1CCC2C(C1)NNC2c1nc2c([nH]1)CN(CC)[C@H](C(=O)N1CC(N(C)C)C1)C2', 'Cc1[nH]c2ccc(CNC(=O)C(CCc3ccccc3)NC(=O)C(N)CCN(CCN)CCN)cc2c1C', 'C[C@@H]1CC[C@@]2(OC1)O[C@H]1C[C@H]3[C@@H]4CCc5cc(OC(=O)NC6CCCCC6)ccc5[C@H]4CC[C@]3(C)[C@H]1[C@@H]2C', 'CC(C)C[C@H](O)[C@H](O)[C@@H](N)CC1CCCCC1.C[N+](C)(C)CCOC(=O)C(O)(CC(=O)O)CC(=O)O', '[H]/N=C(/c1nc(N[C@H](C)C2CCC2)c2c(n1)nc(C(=C)C(C)(C)C)n2C(=C)C1CCC(C)CC1)N(C)C(=O)O', 'COC(=O)[C@@]1(CCC(C)(C)C)CC[C@]2(C)[C@H](C(=O)C=C3[C@@]4(C)C=C(C#N)C(=O)C(C)(C)[C@@H]4CC[C@]32C)[C@@H]1C', 'CCCC(C=O)N(C)Cc1c(C=O)cccc1NC(=O)CCCCCNCCOCCOCCOCC', 'CC[C@]1(C)c2oncc2C[C@]2(C)C3=CC(=O)C4C5CC(C)(C)CC[C@]5(C(=O)OC)CC[C@@]4(C)[C@]3(C)CC[C@H]21', 'C=C(CC=Cc1ccccc1)C(=O)OCCCCCCCCCCCC.C=C[n+]1ccccc1.CC(=O)[O-]', 'CCC1=C(C)c2cc3[nH]c(cc4[nH]c(c(C)c4CC)c(CNC)c4nc(cc1n2)C(C)=C4CC)c(C)c3CC', '[C-]#[N+]C1=C[C@]2(C)[C@H]3CC(=O)[C@@H]4[C@@H]5CC(C)(C)CC[C@]5(C(=O)COC)CC[C@@]4(C)[C@]3(C)CC[C@H]2C(C)(C)C1=O', 'COC(=O)C1(C)CCC2(C)CCC3(C)C(=CC(=O)C4C5(C)Cc6cnoc6C(C)(C)C5CCC43C)C2(C)C1', 'CCCCCCCCCCCCCCCCCC(=O)C(CCCC)OC(=O)CC[C@H](N)C(=O)[O-].[K+]', 'C=CCN1C[C@H](C)N([C@H](c2ccc(C(=O)N(C)C)cc2)c2cccc(O[Si](C)(C)C(C)(C)C)c2)C[C@H]1C', 'CC[C@]1(C)CN(C(=O)COCc2ccccc2)C[C@H]1c1ccc(OC)c(OC2CCC(C(C)(C)C)CC2)c1', 'CNC(=O)Nc1ccc(Nc2nc3ccc(C(=O)N(CCC(C)C)CCC(C)C)cc3n2CCCN)cc1', 'CCCCCCCN(C(=O)C(CO)NC(=O)OC(C)(C)C)C(C(=O)NC(C)CCC)c1ccccc1O', '[C-]#[N+]C1=C(O)C(C)(C)[C@@H]2CC[C@]3(C)C(=CC(=O)C4[C@@H]5CC(C)(C)CC[C@]5(C(=O)OCC)CC[C@]43C)[C@@]2(C)C1', 'C=CCN[C@@H](CNc1nc(C)nc(N2CCC(c3ccc4c(n3)NCCC4)CC2)c1C)C(=O)OC(C)(C)C', 'CCOCCN(C)C/C(=N/OC)[C@H]1CC[C@@]2(O)C3=C/C(=N\\\\OC)[C@@H]4C[C@@H](O)[C@@H](O)C[C@]4(C)C3CC[C@]12C', 'CC(C)[C@@H]1CC[C@@H](C)C[C@H]1OC(=O)[C@@H](C)C[C@H](Cc1ccc(-c2ccccc2)cc1)NC(=O)OC(C)(C)C', 'C=C(NCc1ccccc1)NC1CCCN(C(=C)c2cccc(N/C(C)=N/[C@H](CC)c3ccccc3)c2C)C1', '[2H]C([2H])([2H])c1cc(-c2cc(-c3cccc4c3oc3c(C([2H])([2H])[2H])cccc34)ncc2C([2H])([2H])[2H])c(C([2H])([2H])[2H])cc1-c1ccc(C(C)(C)C)cc1', 'CCCCCCCCCCCCCCCNC(=O)OCC1OCC(COC(=O)NCc2ccccn2)O1', 'CCCCCCCCCCCCCCCCCC(=O)OC(=O)[C@H](CCC(=O)[O-])NCCCCC.[K+]', 'C=C(C(NC(S)N(C(=O)c1ccc(C)cc1C)c1ccc(C)cc1)=C(C)C)C(CC)CCN(CC)CC', 'CCOC(=O)[C@]1(CC[C@]2(C)CC(=O)C=C3[C@@]4(C)C=C(C#N)C(=O)[C@@H](C)[C@@H]4CC[C@]32C)CCC(C)(C)CC1C', 'COCOC[C@]12CCC(C)(C)C[C@H]1[C@H]1C(=O)C=C3[C@@]4(C)C=C(C#N)C(=O)C(C)(C)[C@@H]4CC[C@@]3(C)[C@]1(C)CC2', 'CCCCCCCCCCCCC/C=C/[C@@H](O)[C@H](CO)NC(=O)OCC1c2ccccc2-c2ccccc21', 'C.CSCCCNc1nc(C(C)(C)C)ncc1C(=O)N(CC(C)C)[C@@H]1CNC[C@H](N2CCNC2=O)C1', 'C=C1C(=CC=C2CCC[C@]3(C)[C@@H]([C@@H](C)C=C[C@H](O)C4(c5ncc(CCC)o5)CC4)CC[C@@H]23)C[C@@H](O)C[C@@H]1O', 'C=CC1=NC2C(C=C)C[n+]3ccc(C(C)C4CCCCC4)cc3/C(C(=C)OC)=C(/C)CCC2c2ccccc21', 'CCc1nc2c(C)cc(C(C)(C(=C(\\\\C)N)/C(C)=N/C)c3cnc(C)n3C)cc2c(C)c1CCc1ccccc1', 'Cc1nc2ccccc2n1C1CC2CCC(C1)N2CCC1(c2ccccc2)CCN(C#N)C(C2CCCC2)C1', 'CC[C@@H]1C(=O)N(C)c2cnc(Nc3ccc(N4CCN(C5CCCCC5)CC4)cc3OC)nc2N1C(C)C', 'CC(C)SC1CC(=O)N(C(C)C)C1=O.CC(C)c1cn(C(C)C)nn1.CC(C)c1cnnn1C(C)C', 'CC(C)(C)OC(=O)NCCCOCCOCCOCCCNC(=O)c1ccc(C#CC#N)cc1.CCC.[H][H].[H][H]', 'CC(C)(C)c1cn(C(C)(C)C)nn1.CC(C)(C)c1cn(C(C)(C)C)nn1.CSC1CC(=O)N(C)C1=O', 'CC(C)=CCc1c([C@H](O)C2OC2(C)C)ccc2[nH]c3c(c12)C[C@@H]1CC[C@@]2(O)C(C)(C)[C@H](O)CC[C@]2(C)[C@@]31C', 'CC(CCc1nc2ccccc2o1)C1CCC2C3CCC4CC(OCCC(=O)O)CCC4(C)C3CCC12C', 'COC(=O)[C@]12CCC(C)(C)CC1C1C(=O)C[C@@H]3[C@@]4(C)[C@H]5C[C@@]5(C#N)C(=O)C(C)(C)[C@@H]4CC[C@@]3(C)[C@]1(C)CC2', 'CCCCCCCCCCCCCCCCCC(=O)C(CCCC)OC(=O)C(N)CCC(=O)[O-].[K+]', 'CN(C)CCCNc1c2ccccc2c(-c2nc3ccccn3c2NC(C)(C)CC(C)(C)C)c2ccccc12', 'CCN(CC)CCOc1ccc(/C=C2\\\\C[C@H]3[C@@H]4CC=C5C[C@@H](O)CC[C@]5(C)[C@H]4CC[C@]3(C)C2=O)cc1OC', 'CCCCCCCCCCCCC=CC(CC)OC(=O)[C@H](O)[C@@H](NC(=O)c1ccccc1)c1ccccc1', 'CC(=O)N[C@H]1CCN(C(=O)C[C@@H]2[C@H](O)CC[C@H]3[C@](C)(CO)[C@H](OC(=O)NC4CCCCC4)CC[C@]32C)C1', 'CCOC(=O)C[C@@H]1CC[C@@H](N(CC2CCCCC2)CC2CCCCC2)[C@H](c2ccc(C(F)(F)F)cc2)C1', 'CCCCCCCCOc1c(OCc2ccccc2)c2ccc(OC)cc2n(CCCCCCCC)c1=O', 'CC(=O)C(O)[C@@H]1CCCCCCCCC[C@H](NC(=O)OC(C)(C)C)C(=O)N2C[C@H]3[C@@H]([C@H]2C(=O)N1)C3(C)C', 'C/C=C(\\\\C=C/C(C)O)NC1CCN(C(=O)C(CCC/C(C)=C/C=C(\\\\CC)OCC)C(O)C(=O)NO)CC1', 'CCCCCNC(=O)C(c1cccc(O)c1)N(C(=O)C(CO)NC(=O)OC(C)(C)C)C(C)CCC(C)C', 'CCCCCCCC1CC[C@@H]2C[C@H](c3cc(F)c(-c4ccc(C5=NC(C)(C)CO5)cc4)c(F)c3)CC[C@@H]2C1', '[C-]#[N+]C1=C(O)[C@@H](C)[C@@H]2CC[C@]3(C)C(=CC(=O)[C@@H]4[C@@H]5CC(C)(C)CC[C@]5(CCC(=O)OC)CC[C@]43C)[C@@]2(C)C1', 'CC/C=C\\\\C/C=C\\\\C/C=C\\\\C/C=C\\\\C/C=C\\\\CCCC(=O)N1CCC[C@@H]1CNC(=O)c1c[nH]c(C)c[n+]1=O', 'C=CC(=O)Nc1cc(/N=C(\\\\N)N(C)C(C)C2Cc3ccccc3N2CC)c(OC)cc1N(C)CCN(C)C', 'CC(=O)c1ccccc1NC(=O)CC[C@@H](C)[C@H]1CCC2C3CCC4C[C@H](OC=O)CCC4(C)C3CCC21C', 'CC1Cc2cc(O)cc(F)c2C1.CC=O.CCC(C)=O.CCCC(N)CC.COc1cc(C)ccc1O', 'CCN1CCN(C2C=CC(c3cc4n(c3)N=CCC4N3CCN(C(=O)N4CC5(COC5)C4)CC3)CC2)CC1', 'CC.N#CCC1CCC(n2c(CC(=O)N3CCC(N4CCOCC4)CC3)nc3cnc4[nH]ccc4c32)CC1.[H][H]', 'CC12CC[C@H](O)[C@H](Oc3ccccc3)[C@]1(C)CC[C@H]1[C@@H]3[C@@H]4C[C@@H]4CN(C(=O)[C@H]4CCCCO4)[C@@]3(C)CC[C@@H]12', 'CC(C)=CCc1c([C@H](O)C2OC2(C)C)ccc2[nH]c3c(c12)C[C@@H]1CC[C@@]2(O)C(C)(C)[C@@H](O)CC[C@]2(C)[C@@]31C', 'C=C1C(=O)C(C#N)=C[C@]2(C)/C(=C/C(C)=O)[C@](C)(C(C)(C)CC[C@@]3(C(=O)OC)CCC(C)(C)CC3C)CC[C@@H]12', 'CC(C)CC([NH-])C(=O)NC(Cc1ccc(OCc2ccccc2)cc1)C(=O)NCCCN1CCCCC1C', 'CO[C@]12CC[C@@]3(C[C@@H]1C(C)(O)C(C)(C)C)[C@H]1Cc4ccc(OCC5CC5)c5c4[C@@]3(CCN1CC1CC1)[C@H]2O5', 'C/C(=C(/c1ccnc(NCc2ccc(C(C)(C)C)cc2)n1)N1C=CC(CN(C)C)=CC1C)c1ccc(C)cc1', 'CC(C)C(=O)N1CC=C(C2CCCN=C2/N=C(\\\\N)Nc2ccc(C(=O)N(C)C3CCN(C)CC3)cc2)CC1', 'CCOC(=O)[C@]12CCC(C)(C)C[C@H]1C1C(=O)C=C3[C@@]4(C)CC(C#N)=C(O)C(C)(C)[C@@H]4CC[C@@]3(C)[C@]1(C)CC2', 'CCC=CCC=CCC=CCC=CCC=CCC=CCC(C(=O)NCCC)[C@@H]1CCc2nc(N)sc2C1', 'CCCCCCCCCCCCCCCCOc1ccc(C(=O)Oc2ccc(N/C=C\\\\C(C)=O)cc2)cc1', 'CC(C)(N)C(=O)N1CCN(c2ccn(-c3ccc(CCCN4CCC5(CC4)CC(N)C5)cc3)c(=O)n2)CC1', 'COc1ccc2c3c1O[C@H]1[C@@]4(OC)CC[C@@]5(C[C@@H]4[C@@H](O)CCC4CCCCC4)[C@@H](C2)N(CC2CC2)CC[C@]315', 'CCCN1C[C@@]2(CC[C@H]3c4ccc(cc4C(=O)C4CCCCC4)C[C@@H](O)CCC(C)=CCC[C@@]32C)OC1=O', 'CCCCCCCCN(C(=O)C(CO)NC(=O)OC(C)(C)C)C(C(=O)NC(C)C)c1cccc(C)c1O', 'Cc1ccc(-c2cc(CNCCN3CCN(C(c4ccccc4)c4ccccc4)CC3)nn2C(C)(C)C)cc1', 'CCC1=C(C(N)=O)/C(=N/c2ccc(C3CCN(C)CC3)cc2)N=C(N2CCCC(NC(=O)N(C)C)C2)CC1', 'CC1(C)C/C=C/COCC2(CN(C(=O)OC(C)(C)C)CCO2)C(=O)NC2(CCCCCC2)CNC(=O)C1', 'CCCCCCCCCCC/C=C\\\\CCCCC(=O)OC[C@@H](O)COP(=O)([O-])OCC[N+](C)(C)C', 'CCCN1C[C@@]2(CC[C@H]3[C@]45C=C[C@@]6(C=C4C(=O)C4CCCCC4)C[C@@H](O)CC[C@]6(C)[C@H]5CC[C@@]32C)OC1=O', 'CC(C)=CCCC(C)=CCCC(C)=CCCC(C)=CCSCC(=Nc1ncccc1C)C1COCC=N1', 'COCCCOc1cc(C[C@@H](C[C@H](N)[C@@H](O)C[C@@H](C)C(=O)NCC2CCC(=O)N2)C(C)C)ccc1OC', 'CC(=O)C(CC1CC1)NC(=O)C1[C@@H](CC(C)O)CCN1C(=O)C(NC(=O)OC(C)(C)C)C1CCCCC1', 'Cc1ccc2c(ccn2C(=O)CC[C@@H](C)[C@H]2CC[C@H]3[C@@H]4[C@H](O)C[C@@H]5C[C@H](O)CC[C@]5(C)[C@H]4C[C@H](O)[C@]23C)c1', 'CNC(=O)[C@H]1C[C@@H]2C[C@H](C2(C)C)[C@@]1(C)Nc1nc(Nc2ccc(N3CCN(CCO)CC3)cc2)ncc1C', '[C-]#[N+]C1=C[C@]2(C)[C@H]3CC(=O)[C@@H]4[C@@H]5CC(C)(C)CC[C@]5(C(=O)OCC)CC[C@@]4(C)[C@]3(C)CC[C@H]2C(C)(C)C1=O', 'CCC(CC)OC(=O)C[C@H]1CC[C@@H](N(Cc2ccccc2)[C@H](C)c2ccccc2)[C@@H]1C(=O)OC(CC)CC', 'CC.CCCCN(CCC)c1nc(/C=N/Nc2ccc3ccccc3c2)nc(OCCN2CCOCC2)n1', 'C#Cc1ccc(-c2ccc(/N=C/C)c(/C(=C\\\\CC(CCCC)c3ccccc3F)C(CC)CCCC)c2)cc1', 'CCCCCCCC/C=C/CCCCCCCC(=O)N(O)C1CC(n2cc(C)c(=O)[nH]c2=O)OC1CO', 'CC(C)(N)C(=O)N1CCN(c2ccn(-c3ccc4c(c3)CCC(N3CCC(CCN)CC3)C4)c(=O)n2)CC1', 'CO[C@H]1C(C2(C)O[C@@H]2CC=C(C)C)[C@]2(CC[C@H]1OC(=O)N[C@@H](C(=O)NCCN1CCCC1)C(C)C)CO2', 'CCCCC[C@@H](CC(=O)N(Cc1ccccc1)OCc1ccccc1)C(=O)O[C@@H]1C[C@H](C)CC[C@H]1C(C)C', 'C=C1/C(=C\\\\C=C2/CCC[C@]3(C)[C@@H]([C@@H](C)/C=C/[C@H](O)C4(c5ncc(CCC)o5)CC4)CC[C@@H]23)C[C@@H](O)C[C@@H]1O', 'CCC(CC)(c1ccc(/C=C/C(O)(CC)C(C)(C)C)c(C)c1)c1ccc(C(=O)NC(C)(C)C(=O)O)c(C)c1', 'CCCCCCCCCCN1C2=C(C(=O)CC(C)(C)C2)C(c2ccc(O)c(O)c2)C2=C1CC(C)(C)CC2=O', 'CCC(C)N1CCN(c2ccc(NC(=O)[C@@H](NC(=O)c3ccnn3C)C(C3CCC3)C3(C)CC3)cn2)CC1', 'CC.CC(C)NC(=O)CN(C)CCCCC(C)c1cc(Nc2ncc(C#N)s2)ncn1.CCC.CO', 'CC(CCCCCC[C@@H](C)C(C)C)C(C)C(C)CCCCCC[C@H](C)C(C)NI', 'C=C1/C(=C/C=C2/CCC[C@]3(C)[C@@H]([C@H](C)/C=C/[C@H](O)C4(c5ncc(CCC)o5)CC4)CC[C@@H]23)C[C@@H](O)C[C@@H]1O', 'CN(C)CCNC(=O)c1cc(C(N)=O)c(OCCCCCN=C(N)N)cc1OCCCCCN=C(N)N', '[C-]#[N+]C1=C(O)[C@@](C)(CC)[C@@H]2CC[C@]3(C)C(=CC(=O)[C@@H]4[C@@H]5CC(C)(C)CC[C@]5(C(=O)OC)CC[C@]43C)[C@@]2(C)C1', 'CN(C)c1ccc(C(NC(c2ccc(N(C)C)cc2)c2ccc(N(C)C)cc2)c2ccc(N(C)C)cc2)cc1', 'CCCC1(N2CCN(CCCS(=O)(=O)c3nnc(C)n3C)CC2)C=C(C(C)(C)C)NC(C(C)(C)C)=N1', 'C=CCCCCCCCCc1ccc(COC(=O)CC2=CC(=O)NC2=O)c(CCCCCCCCC=C)c1', 'CC(=O)O[C@H]1C[C@@]2(C)C(C[C@@H](N)[C@H]3[C@@]4(C)CC[C@@H](O)[C@@H](C)[C@@H]4CC[C@@]32C)/C1=C(\\\\Cc1ccccc1)C(C)=O', 'CCCCCCN(C(=O)C(CO)NC(=O)OC(C)(C)C)C(C(=O)NCCCCC)c1cccc(C)c1O', 'Cc1ccc(C(c2ccc(C)cc2)N2CCN(Cc3nc(N4CCC(C)CC4)c4c(n3)=CCCC=4)CC2)cc1', 'Nc1cccc2c(NCCCCCCCCNc3c4c(nc5ccccc35)CCCC4)c3c(nc12)CCCC3', 'CCC(C)=CC(C)c1cc(C)c(-c2cccc3c(N)nc(NC4=CC(C)(C)C(=C(C)CC)C=N4)nc23)c(C)c1', 'CC(CCc1nc2ccccc2o1)C1CCC2C3CC[C@@H]4CC(OCCC(=O)O)CC[C@]4(C)C3CC[C@]12C', 'CC(C)[C@@H]1CC[C@@H](C)C[C@H]1OC(=O)[C@H](C)C[C@H](Cc1ccc(-c2ccccc2)cc1)NC(=O)OC(C)(C)C', '[2H]C1([2H])CC23CCC(C)C(C)(C2C1=O)[C@H](OC(=O)C([2H])([2H])SC1C[C@H]2CC[C@H](C1)N2C)C[C@@](C)(C=C)[C@@H](O)[C@@H]3C', 'CC1(C)CC[C@]2(CCC(=O)O)CC[C@]3(C)C(C(=O)C=C4[C@@]5(C)C=C(C#N)C(O)C(C)(C)[C@@H]5CC[C@]43C)C2C1', 'CCCCCCCCCCCCCCCCCCOc1ccc(C(=O)C=Cc2ccc([N+](=O)[O-])cc2)cc1', 'CCCCCCCCC=CCCCCCCCC(=O)N(O)C1CC(n2cc(C)c(=O)[nH]c2=O)OC1CO', 'CCC[C@@H](C)[C@H]1CCC2C3CCC4CC(Oc5ccc(-c6nnc(N)s6)cc5)CC[C@]4(C)C3CC[C@@]21C', 'CCCC/C=C\\\\CCCCCCCCOCC(COP(=O)([O-])OCC[N+](C)(C)C)OC(=O)CCC', 'C/C=C/N1C(C)(C)CC(C2=CCC(c3ccc(-c4ccc(OCCCC)c(F)c4F)cc3)CC2)CC1(C)C', 'C=CCCCCCCCCCCCCCCCC(=O)OC[C@@H](O)COP(=O)([O-])OCC[N+](C)(C)C', 'C=C/C=C(/C)C=C.CC.CC.CNC(=O)CN(C)C(=O)CNC(C)=O.Cc1ccc(OCC(=O)O)cc1', 'CCCCCCCCCCCC[C@H](NC(=O)OCC1c2ccccc2-c2ccccc21)C(=O)OC(C)(C)C', 'CCOC(=O)CC1CCCCN1C(=O)[C@@H]1CCCN(C(=O)CCC2CCN(C(=O)OC(C)(C)C)CC2)C1', 'CN(C)C(=O)NC1CCC(CCN2CCN(c3cc(-c4cccnc4)cc(N4CCOCC4)n3)CC2)CC1', 'CCc1cnc([N+]2(C)CCC(COc3ccc(C4=CCC(C(=O)NCCCCCO)CC4)cc3)CC2)nc1', 'CCCCOCCOCCOCCOCCNC(=O)CSC(C)(C)CN1CCN(CCOC)CC1', 'CCCCCC/C=C/CCCCCCCCCC(=O)OC[C@@H](O)COP(=O)([O-])OCC[N+](C)(C)C', 'CC1Cc2ccc(C3CCN(C(=O)OC(C)(C)C)CC3)cc2CN1c1cc(N2CCN(C)CC2)nc(N)n1', 'CC.CCN.[H]/N=C(/c1cc(C(N)N(c2ccc(N3CCOCC3)c(F)c2)C(N)O)c(O)cc1N)C(C)C', 'CN1CCN(c2ncc(N3CC4(CCC(c5ccccc5)(N(C)CC5CCOC5)CC4)NC3O)cn2)CC1', 'COC(=O)[C@]1(CC[C@]2(C)CC(=O)C=C3[C@@]4(C)C=C(C#N)C(=O)C(C)(C)[C@@H]4CC[C@]32C)CCC(C)(C)CC1C', 'COc1cc(C=C2C[C@H]3[C@@H]4CC=C5C[C@@H](N6CCCC6)CC[C@]5(C)[C@H]4CC[C@]3(C)[C@H]2O)cc(OC)c1OC', 'CCCCCC/C=C\\\\CCCCCCCCOC[C@H](COP(=O)([O-])OCC[N+](C)(C)C)OC(C)=O', 'CO[C@H]1CC2[C@@H](CC[C@@H]3C[C@H](O)CC[C@]23C)[C@@H]2CC[C@H]([C@H](C)CCc3nc4c(C)cccc4c(=O)o3)[C@@]12C', 'CO[C@@H]1[C@H](OC(=O)N[C@@H](C(=O)NCCN2CCCC2)C(C)C)CC[C@]2(CO2)[C@H]1[C@@]1(C)O[C@@H]1CC=C(C)C', 'COCCCOc1cc(C[C@@H](C/C(=N/[C@@H](C)c2ccccc2)C2C[C@@H](C(C)C)C(=O)O2)C(C)C)ccc1C', 'COCCCOc1cc(C(=O)N(C[C@@H]2CNC[C@H]2CN(C)C(=O)[C@@H](OC)C(C)C)C(C)C)ccc1OC', 'CCCCCCCC/C=C\\\\CCCCCCCCOCCCCCOP(=O)(O)OC[C@H](N)C(=O)O', 'CCC=CCC=CCC=CCC=CCC=CCC=CCCC(=O)Nc1nc2c(s1)C[C@H](NCCC)CC2', 'CCc1nccn1CC(c1ccccc1)(C1CCCC1)C1CCN(CC2CN(c3ccc(C#N)cc3)C2)CC1', 'CC(C)CCNc1nc(NCCOCCOCCN)nc(NCCC(c2ccccc2)c2ccccc2)n1', 'C=C(Nc1ccccc1NC(=O)c1ccc(CN(CCCN2CCN(C)CC2)C(=C)N)cn1)OC(C)(C)C', 'C=C1/C(=C\\\\C=C2/CCC[C@]3(C)[C@@H]([C@H](C)/C=C/[C@H](O)C4(c5ncc(CCC)o5)CC4)CC[C@@H]23)C[C@@H](O)C[C@@H]1O', 'CCCN1CC2(CCC3C45C=CC6(C=C4C(=O)C4CCCCC4)CC(O)CCC6(C)C5CCC32C)OC1=O', 'CC1=C[C@@H](C2=C(C)[C@@H]3/C=C(/C)[C@@H](O)CC(C)[C@H]4C[C@@H](C)[C@@H](O4)/C(C)=C/CCC4=NCCC[C@@]43CC2)OC1=O', 'Cc1ccc(C(=O)OC(C)(C)C)cc1[C@@](C)(C(=O)O[C@H]1C[C@H](C)CC[C@H]1C(C)(C)c1ccccc1)N(C)C', 'Cn1c(-c2ccc(OC(C)(C)CC(C)(O)OC(=O)C(C)(CC(C)(C)C)C(C)(C)C)cc2)cc2ccccc21', 'CCCC(C)(NCCOCCOCCNC(=O)CCC(=O)C(C)(CC)NC)C(=O)OCc1ccccc1', 'CCOC(=O)/C(C)=C/C(C(C)C)N(C)OC(NOC(NC)C(C)(C)c1ccc(C(=O)O)cc1)C(C)(C)C', 'CCN(CC)CCNC(=O)CC1CN(C(=O)O[C@@H]2CC[C@]3(CO3)C(C3(C)O[C@@H]3CC=C(C)C)[C@@H]2OC)C1', 'C=CCCCC[C@H](NC(=O)[C@@H]1[C@@H](C)CCN1C(=O)[C@H](CCCC=C)NC(=O)OC(C)(C)C)C(=O)OCC', '[C-]#[N+]C1=C[C@]2(C)[C@H]3CC(=O)[C@@H]4[C@@H]5CC(C)(C)CC[C@]5(COC(C)=O)CC[C@@]4(C)[C@]3(C)CC[C@H]2C(C)(C)C1=O', 'CN(C)C1(c2ccccc2)CCC2(CC1)CN(CCC(=O)N1CCn3ncnc3C1)C(O)N2CC1CCC1', 'CC/C=C\\\\C/C=C\\\\C/C=C\\\\C/C=C\\\\C/C=C\\\\CCCCCC(=O)O[C@H](COC(=O)CCC/C=C\\\\C/C=C\\\\C/C=C\\\\C/C=C\\\\C/C=C\\\\CC)COP(=O)([O-])OCC[N+](C)(C)C', 'CC/C=C\\\\C/C=C\\\\C/C=C\\\\C/C=C\\\\C/C=C\\\\C/C=C\\\\C/C=C\\\\CCCC(=O)OC(COC(=O)CCCCC/C=C\\\\C/C=C\\\\C/C=C\\\\CC)COP(=O)([O-])OCC[N+](C)(C)C', 'CC(C)CCC[C@@H](C)[C@H]1CC[C@H]2[C@@H]3CC=C4C[C@@H](OC(=O)NCCCCCCO[C@H]5O[C@H](CO)[C@@H](O[C@@H]6O[C@H](CO)[C@@H](O)[C@H](O)[C@H]6O)[C@H](O)[C@H]5O)CC[C@]4(C)[C@H]3CC[C@]12C', '[2H]C([2H])([2H])C(c1cc(-c2nc3c(-c4cc(-c5cc(-c6ccc(-c7ccccc7)cc6)ccn5)cc(C(C)(C)C)c4)cccc3n2-c2ccc(-c3ccccc3)cc2)c(O)c(C(C([2H])([2H])[2H])(C([2H])([2H])[2H])C([2H])([2H])[2H])c1)(C([2H])([2H])[2H])C([2H])([2H])[2H]', 'CC/C=C\\\\C/C=C\\\\C/C=C\\\\C/C=C\\\\C/C=C\\\\CCCCCCCC(=O)OC(COC(=O)C/C=C\\\\C/C=C\\\\C/C=C\\\\C/C=C\\\\C/C=C\\\\CC)COP(=O)([O-])OCC[N+](C)(C)C', 'CC(C)CCC[C@@H](C)[C@H]1CC[C@H]2[C@@H]3CC=C4C[C@@H](OC(=O)NCCCCCCO[C@@H]5O[C@H](CO)[C@@H](O[C@H]6O[C@H](CO)[C@@H](O)[C@H](O)[C@H]6O)[C@H](O)[C@H]5O)CC[C@]4(C)[C@H]3CC[C@]12C', 'CNC(=O)[C@H](CCCN=C(N)N)NC(=O)C(CCCN=C(N)N)NC(=O)[C@H](CCCN=C(N)N)NC(=O)C(CCCN=C(N)N)NC(=O)[C@H](CCCN=C(N)N)NC(C)=O', 'CC[C@H](C)N([C@@H](CC(=O)N1CCC[C@H]1[C@H](OC)[C@@H](C)C(=O)N[C@@H](Cc1ccccc1)C(=O)OC)OC)N(C)C(=O)[C@@H](NC(O)C(C(C)C)N(C)Cc1cccc(N)c1)C(C)C', 'CC/C=C\\\\C/C=C\\\\C/C=C\\\\C/C=C\\\\CCCCC(=O)NC(COC1OC(CO)C(OC2OC(CO)C(O)C(O)C2O)C(O)C1O)C(O)/C=C/CCCCCCCCCCC', 'CCCCC(CC)COc1ccc2c(N(c3ccccc3)c3cccc4c(B5OC(C)(C)C(C)(C)O5)c(OCC(CC)CCCC)ccc34)cccc2c1B1OC(C)(C)C(C)(C)O1', 'CC/C=C/C/C=C/C/C=C/C/C=C/C/C=C/C/C=C/CCC(=O)O[C@H](COC(=O)CCCCC/C=C/C/C=C/C/C=C/C/C=C/CCC)COP(=O)([O-])OCC[N+](C)(C)C', 'CC/C=C\\\\C/C=C\\\\C/C=C\\\\C/C=C\\\\C/C=C\\\\CCCCCC(=O)OC(COC(=O)CC/C=C\\\\C/C=C\\\\C/C=C\\\\C/C=C\\\\C/C=C\\\\CCCCC)COP(=O)(O)OCCNC', 'CC/C=C\\\\C/C=C\\\\C/C=C\\\\C/C=C\\\\C/C=C\\\\CCCCCC(=O)OCC(COP(=O)(O)OCCNC)OC(=O)CC/C=C\\\\C/C=C\\\\C/C=C\\\\C/C=C\\\\C/C=C\\\\CCCCC', '[2H]C([2H])([2H])C(c1cc(-c2nc3c(-c4cc(-c5ccccc5)cc(-c5cc(-c6ccccc6)ccn5)c4)cccc3n2-c2ccc(CC(C)C)cc2-c2ccccc2)c(O)c(C(C([2H])([2H])[2H])(C([2H])([2H])[2H])C([2H])([2H])[2H])c1)(C([2H])([2H])[2H])C([2H])([2H])[2H]', 'C=C(/C(C)=c1/cccc/c1=C1\\\\C=CCCC1)c1ccc2ccccc2c1C.C=C/C=C1/C2=CC(c3ccc(C4=CCCC=C4)cc3)C(NC3=CC=C(C)CC3)C=C2C(C)(C)/C1=C/C.CC', 'CC(C)(C)c1cc(/C=N/[C@@H]2CN(C(=O)OCCCCCCCCCCOC(=O)Oc3ccccc3)C[C@H]2/N=C/c2cc(C(C)(C)C)cc(C(C)(C)C)c2O)c(O)c(C(C)(C)C)c1', '[H]/N=C(\\\\C)C(CC(C)C)C(=O)NC(CCCN)C(=O)NC(Cc1ccccc1)C(=O)[N+]1=C(C(=O)NC(CCCN)C(=O)NC(C=O)(CNC(CCCN)C(C)=O)C(C)C)CCC1', 'CCC/C=C/CC/C=C/CC/C=C/C(O)C(COC1OC(CO)C(OC2OC(CO)C(O)C(O)C2O)C(O)C1O)NC(=O)CCCCCCC/C=C\\\\C/C=C\\\\CCCCC', 'CC/C=C\\\\C/C=C\\\\C/C=C\\\\C/C=C\\\\C/C=C\\\\CCCCCC(=O)NC(COC1OC(CO)C(OC2OC(CO)C(O)C(O)C2O)C(O)C1O)C(O)CCCCCCCCC', 'CCC/C=C/CC/C=C/C(O)C(COC1OC(CO)C(OC2OC(CO)C(O)C(O)C2O)C(O)C1O)NC(=O)CCCCCCCC/C=C\\\\C/C=C\\\\C/C=C\\\\CCCCC', 'CC/C=C\\\\C/C=C\\\\C/C=C\\\\C/C=C\\\\C/C=C\\\\CC(=O)NC(COC1OC(CO)C(OC2OC(CO)C(O)C(O)C2O)C(O)C1O)C(O)CCCCCCCCCCCCC', 'CCOC(=O)C(CC(C)C)NC(=O)C(NC(=O)C(Cc1c[nH]c2ccccc12)NC(=O)C1CCCN1C(=O)C(CCCCN)NC(=O)C(CCCN=C(N)N)NC)C(C)(C)C', 'CC1=CCC[C@@]2(C)[C@@H](CC[C@@]2(O)CN(CC23CC4CC(CC(C4)C2)C3)C(=O)O[C@H]2C[C@@H](C)CCC2C(C)C)c2ccc(cc2C(=O)c2ccccc2-c2ccccc2)C[C@@H](O)CC1', 'CCCCN(CCCC)Cc1cc2c(OCCC)c(c1)Cc1cc(-c3cc(C)cc(C)c3)cc(c1OCCC)Cc1cccc(c1OCCC)Cc1cc(O)cc(c1OCCC)C2', 'CC/C=C\\\\C/C=C\\\\C/C=C\\\\C/C=C\\\\C/C=C\\\\CCCCCCCCCC(=O)NC(COC1OC(CO)C(OC2OC(CO)C(O)C(O)C2O)C(O)C1O)C(O)CCCCC', 'CC[C@H](C)[C@@H]([C@@H](CC(=O)N1CCC[C@H]1[C@H](OC)[C@@H](C)C(=O)CC(Cc1ccccc1)C(=O)O)OC)N(C)C(=O)[C@@H](NC(=O)[C@@H]1[C@H]2CC[C@@H](C2)N1C(=O)CCCCCN)C(C)C', 'C/C=C\\\\C=C/CC.C=CC(=C)c1ccc(C)cc1C(CC)c1ccccc1.CC.Cc1ccc2c(c1)-c1ccccc1C21c2ccccc2C(C)(C)c2ccccc21.Nc1ccccc1', 'CCCCCC[C@H](OC(N)=O)[C@@H](C)[C@@H](CC/C=C\\\\[C@H](C)[C@@H](OCc1ccc(OC)cc1)[C@@H](C)/C=C\\\\CC[C@@H]1O[C@@H](OC)[C@H](C)[C@@H](OCOC)[C@@H]1C)OCc1ccc(OC)cc1', 'CC/C=C\\\\C/C=C\\\\C/C=C\\\\C/C=C\\\\CCC(=O)NC(COC1OC(CO)C(OC2OC(CO)C(O)C(O)C2O)C(O)C1O)C(O)/C=C/CCCCCCCCCCCCC', 'CC1=CCCC2(C)C(CCC2(O)CN(CC23CC4CC(CC(C4)C2)C3)C(=O)OC2CC(C)CCC2C(C)C)c2ccc(cc2C(=O)c2ccccc2-c2ccccc2)CC(O)CC1', 'CCCCCCCCCCCCCCCC(=O)NCC(=O)N[C@@H](CO)C(=O)N[C@H](CCC(N)=O)C(=O)N[C@@H](C/C(N)=C/N)C(=O)N[C@@H](CO)C(=O)N[C@@H](CCCC)C(C)=O', 'CC[C@H](C)[C@@H]([C@@H](CC(=O)N1CCC[C@H]1[C@H](OC)[C@@H](C)C(=O)C[C@@H](Cc1c[nH]c2ccccc12)C(N)=O)OC)N(C)C(=O)[C@@H](CC(=O)[C@H](C(C)C)N(C)CCCC(=O)O)C(C)C', 'CC/C=C/C/C=C/C/C=C/C/C=C/C/C=C/C/C=C/CCC(=O)OC[C@H](COP(=O)([O-])OCC[N+](C)(C)C)OC(=O)CCC/C=C/C/C=C/C/C=C/C/C=C/CCCCC', 'CCCCC/C=C\\\\C/C=C\\\\C/C=C\\\\C/C=C\\\\C/C=C\\\\CCC(=O)OCC(COP(=O)(O)OCCNC)OC(=O)CC/C=C\\\\C/C=C\\\\C/C=C\\\\C/C=C\\\\C/C=C\\\\CCCCC', 'CC/C=C\\\\C/C=C\\\\C/C=C\\\\CCCCCCCC(=O)NC(COC1OC(CO)C(OC2OC(CO)C(O)C(O)C2O)C(O)C1O)C(O)/C=C/CC/C=C/CCCCCCC', '[2H]C([2H])([2H])C(c1cc(-c2nc3c(-c4cc(-c5ccccc5)cc(-c5cc(-c6ccccc6)ccn5)c4)cccc3n2-c2ccc(-c3ccccc3)cc2C(C)(C)C)c(O)c(C(C([2H])([2H])[2H])(C([2H])([2H])[2H])C([2H])([2H])[2H])c1)(C([2H])([2H])[2H])C([2H])([2H])[2H]', 'CCCCCCCCCCCCCCCCCC(=O)O[C@@]12C3C(OC)C4[C@]5(COC)CC[C@H](OC)[C@]4(C4C[C@@](O)(C(OC(=O)c6ccccc6)C41)[C@@H](OC)C2O)C3N(CC)C5', 'CC=C(C)C(=O)O[C@H]1CC2C(O)C3C(=O)CC(CO)OC3C3C2O[C@@]1(C)[C@H](CC1C[NH2+]C2N[C@H](C)C=CC2C1)CC1CCC2CCC(O)CC2C(CO)C3C2CCNC(N)C12', 'C=C1N=C(N)C=CN1C(C)C.C=C1NC(=O)C=CN1C(C)C.C=C1NC(N)C(C)=CN1C(C)C.Cc1nc(N)c2ncn(C(C)C)c2n1.Cc1nc2c(ncn2C(C)C)c(=O)[nH]1', 'CC/C=C\\\\C/C=C\\\\C/C=C\\\\C/C=C\\\\CCCCCCC(=O)NC(COC1OC(CO)C(OC2OC(CO)C(O)C(O)C2O)C(O)C1O)C(O)/C=C/CCCCCCCCC', 'CC/C=C\\\\C/C=C\\\\C/C=C\\\\C/C=C\\\\C/C=C\\\\CCCCCC(=O)OC[C@H](COP(=O)([O-])OCC[N+](C)(C)C)OC(=O)CCC/C=C\\\\C/C=C\\\\C/C=C\\\\C/C=C\\\\C/C=C\\\\CC', 'CC(C)(C)c1ccc2c(c1)C(C)(C)c1cc(C(C)(C)C)cc(N(c3ccc(-c4ccc(-c5ccccc5)cc4)cc3)c3cc(C(C)(C)C)cc4c3-c3ccc(C(C)(C)C)cc3C4(C)C)c1-2', 'CC/C=C/C=C/C=C/CCCCCCCC(=O)OC(COC(=O)CCC/C=C/C/C=C/C/C=C/C/C=C/C/C=C/C/C=C/C/C=C/CC)COP(=O)([O-])OCC[N+](C)(C)C', 'C#CC.C=C.C=C.C=C/C(=C\\\\C)Cc1ccccc1.C=CCC(/C=C\\\\C)=C(\\\\C)c1ccc(-c2cc3c4c(c2)c2cc(-c5ccccc5)cc5c2n4C/C(=C\\\\C=C/CC3(C)C)C5(C)C)cc1', 'CCCCCCCCCCCCCC(=O)O.CCCCCCCCCCCCCC(=O)O.CCCCCCCCCCCCCC(=O)O.[Tm]', 'C/C=C/CC/C=C/CC/C=C/C(O)C(COC1OC(CO)C(OC2OC(CO)C(O)C(O)C2O)C(O)C1O)NC(=O)CCCCCCCCC/C=C\\\\C/C=C\\\\CCCCC', 'CNC(=O)C(CCCN=C(N)N)NC(=O)[C@@H](CCCN=C(N)N)NC(=O)C(CCCN=C(N)N)NC(=O)[C@@H](CCCN=C(N)N)NC(=O)C(CCCN=C(N)N)NC(C)=O', 'C=CC(/C=C/C=C(/c1ccc(CC)cc1)N(C)c1ccc(-c2c(-c3ccccc3)cc(/C3=C/C=CCC[C@H](C)C3)c(-c3ccccc3)c2/C(=C/CC)C/C=C\\\\CC)cc1)=C\\\\C=C(/C)CC', 'C=C(C)[C@@H]1CCC2(C(=O)N3C[C@H](OCCOC)C[C@H]3c3ncc(-c4ccccc4)[nH]3)CC[C@]3(C)C(CC[C@@H]4C5(C)CC[C@H](OC(=O)CC(C)(C)C(=O)O)C(C)(C)[C@@H]5CCC43C)[C@@H]12', 'CNCc1cc(O)cc(C2CC3(C)C(C(NCC(C)O)CC4(CCO)C3CCC3=C(C(C)CC(O)C5OC5(C)C5CCCC5c5cccc(N)c5)C(=O)CC34C)C(C)(C)C2=O)c1', '[2H]C([2H])([2H])c1cc2c3c(c1)N(c1ccc(C(C)(C)C)cc1-c1ccccc1-c1ccccc1)c1cc4c(cc1B3c1ccc(C(C)(C)C)cc1N2c1cccc(C(C)(C)C)c1)C(C)(C)CC4(C)C', 'CC[C@H]1OC(=O)[C@H](C)[C@@H](O[C@H]2C[C@@](C)(OC)[C@@H](O)[C@H](C)O2)[C@H](C)[C@@H](O[C@@H]2O[C@H](C)C[C@H](N(C)CCCc3cccnc3)[C@H]2O)[C@](C)(O)C[C@@H](C)CN(C)[C@H](C)[C@@H](O)[C@]1(C)O', 'CC/C=C\\\\C/C=C\\\\C/C=C\\\\C/C=C\\\\C/C=C\\\\C/C=C\\\\CCCCCCC(=O)OC(COC(=O)CC/C=C\\\\C/C=C\\\\C/C=C\\\\C/C=C\\\\CC)COP(=O)([O-])OCC[N+](C)(C)C', 'CC(C)[C@H](NC(=O)[C@H](CCCN=C(N)N)NC(=O)[C@@H](NC(=O)[C@H](C)NC(=O)[C@H](CCCCN)NC(=O)[C@H](CCC(N)=O)NC(=O)[C@@H](C)CCCN=C(N)N)C(C)C)C(N)=O', 'CC/C=C/CC/C=C/CC/C=C/C(O)C(COC1OC(CO)C(OC2OC(CO)C(O)C(O)C2O)C(O)C1O)NC(=O)CCCCCCC/C=C\\\\C/C=C\\\\CCCCCC', 'CCCCCCOc1ccc(C(c2ccc(N(C)C)cc2)c2ccc(N(C)C)cc2)cc1.CCNc1ccc(C(c2ccc(N(C)C)cc2)c2ccc(N(C)C)cc2)c2ccccc12', 'CCC(C)C(C(CC(O)N1CCCC1C(OC)C(C)C(=O)NC(Cc1ccccc1)C(=O)O)OC)N(C)C(=O)C(NC(=O)C(C(C)C)N(C)CCc1ccc(O)cc1)C(C)C', 'CC1=CCC[C@@]2(C)[C@@H](CC[C@@]2(O)CN(CC23CC4CC(CC(C4)C2)C3)C(=O)O[C@H]2C[C@@H](C)CCC2C(C)C)c2ccc(cc2C(=O)c2ccc(-c3ccccc3)cc2)C[C@@H](O)CC1', 'CC/C=C\\\\C/C=C\\\\C/C=C\\\\C/C=C\\\\C/C=C\\\\C/C=C\\\\CCC(=O)OCC(COP(=O)(O)OCCNC)OC(=O)CCCCC/C=C\\\\C/C=C\\\\C/C=C\\\\C/C=C\\\\CCCCC', 'CCC=CC=Cc1cc(C=CC2=CC2)c(C)c2ccc(-c3ccccc3C3C=CC=CC(c4ccccc4/C(CCC(C)=C(CCC)C4=CC=CCC4)=N/C(C)C4CC=CCC4)C3)cc12', '[2H]C([2H])([2H])c1cc2c3c(c1)N(c1ccc(C(C)(C)C)cc1-c1ccccc1)c1cc4c(cc1B3c1ccc(C(C)(C)c3ccccc3)cc1N2c1cccc(C(C)(C)C)c1)C(C)(C)CCC4(C)C', 'CC(C)(C)c1ccc2c(c1)C(C)(C)c1cc(C(C)(C)C)cc(N(c3cc(-c4ccccc4)cc(-c4ccccc4)c3)c3cc(C(C)(C)C)cc4c3-c3ccc(C(C)(C)C)cc3C4(C)C)c1-2', 'CC/C=C\\\\C/C=C\\\\C/C=C\\\\C/C=C\\\\C/C=C\\\\C/C=C\\\\CCCCC(=O)OC(COC(=O)CCCC/C=C\\\\C/C=C\\\\C/C=C\\\\C/C=C\\\\CC)COP(=O)([O-])OCC[N+](C)(C)C', 'CC/C=C\\\\C/C=C\\\\C/C=C\\\\C/C=C\\\\C/C=C\\\\CCCCCCCC(=O)NC(COC1OC(CO)C(OC2OC(CO)C(O)C(O)C2O)C(O)C1O)C(O)CCCCCCC', 'CC/C=C\\\\C/C=C\\\\C/C=C\\\\C/C=C\\\\C/C=C\\\\C/C=C\\\\CCC(=O)O[C@H](COC(=O)CCCCCC/C=C\\\\C/C=C\\\\C/C=C\\\\C/C=C\\\\CC)COP(=O)([O-])OCC[N+](C)(C)C', 'CC/C=C/C/C=C/C/C=C/C/C=C/C/C=C/CCCCCC(=O)OC[C@H](COP(=O)([O-])OCC[N+](C)(C)C)OC(=O)CCC/C=C/C/C=C/C/C=C/C/C=C/C/C=C/CC', 'CC/C=C\\\\C/C=C\\\\C/C=C\\\\C/C=C\\\\C/C=C\\\\C/C=C\\\\CCC(=O)OC(COC(=O)CCC/C=C\\\\C/C=C\\\\C/C=C\\\\C/C=C\\\\CCCCC)COP(=O)([O-])OCC[N+](C)(C)C', 'CCOC(=O)[C@H](CC(C)C)NC(=O)[C@@H](NC(=O)[C@H](Cc1c[nH]c2ccccc12)NC(=O)[C@@H]1CCCN1C(=O)[C@H](CCCCN)NC(=O)[C@H](CCCN=C(N)N)NC)C(C)(C)C', 'CC/C=C/C=C/C=C/C=C/CCCCCC(=O)OC(COC(=O)CCCCCC/C=C/C/C=C/C/C=C/C/C=C/C/C=C/C/C=C/CC)COP(=O)([O-])OCC[N+](C)(C)C', 'CCC(CCCCCCCCCC(=O)OC(C)(C)C)CCCNC(=O)OC(C)(C)C.CCC(CCCN)CCCCCCCCN.ClCCl.O=C(O)C(F)(F)F', 'CNC(=O)[C@@H](CCCN=C(N)N)NC(=O)[C@@H](CCCN=C(N)N)NC(=O)[C@@H](CCCN=C(N)N)NC(=O)[C@@H](CCCN=C(N)N)NC(=O)[C@@H](CCCN=C(N)N)NC(C)=O', 'CC/C=C\\\\C/C=C\\\\C/C=C\\\\C/C=C\\\\C/C=C\\\\C/C=C\\\\CCC(=O)OC(COC(=O)CCCCC/C=C\\\\C/C=C\\\\C/C=C\\\\C/C=C\\\\CCCCC)COP(=O)(O)OCCNC', '[2H]C([2H])([2H])c1cc2c3c(c1)N(c1ccc(C(C)(C)c4ccccc4)cc1-c1ccccc1)c1cc4c(cc1B3c1cc(C(C)(C)C)ccc1N2c1ccc(C(C)(C)C)cc1)C(C)(C)CCC4(C)C', 'CC(C)(C)c1ccc(N(c2ccccc2)c2cc(-c3ccc4c(c3)C(C)(C)c3cc(C(C)(C)C)ccc3-4)c(C(C)(C)C)c(-c3ccc4c(c3)C(C)(C)c3cc(C(C)(C)C)ccc3-4)c2)cc1', '[2H]C([2H])([2H])C(c1cc(-c2nc3c(-c4cc(-c5ccccc5)cc(-c5cc(-c6ccccc6)ccn5)c4)cccc3n2-c2ccc(C(C)(C)C)cc2-c2ccccc2)c(O)c(C(C([2H])([2H])[2H])(C([2H])([2H])[2H])C([2H])([2H])[2H])c1)(C([2H])([2H])[2H])C([2H])([2H])[2H]', '[H]/N=C/C(N)C[C@H](NC(=O)[C@@H](CCC(N)=O)NC(=O)[C@H](CO)NC(=O)CNC(=O)CCCCCCCCCCCCCCC)C(=O)N[C@@H](CO)C(=O)N[C@@H](CCCC)C(C)=O', 'CC/C=C\\\\C/C=C\\\\C/C=C\\\\C/C=C\\\\C/C=C\\\\C/C=C\\\\C/C=C\\\\C/C=C\\\\C/C=C\\\\C/C=C\\\\CCCCC(=O)OC(COC(=O)CCCCCCCC)COP(=O)(O)OCCN', 'COc1cc2nc(NCCCCCCC3CCN(CCCOc4cc5nc(N6CCCC6)nc(N[C@H]6CCCNC6)c5cc4OC)CC3)nc(N[C@H]3CCCNC3)c2cc1OC', 'C=C/C(=C\\\\C=C/Cn1c2c(c3cc(/C(=C/C=C\\\\CC)CC)ccc31)C(C)C=C(C(/C=C\\\\C)=C/C(C)C)C=C2)c1ccc2c(c1)C(C)(C)C=C2/C(SC(/C=C\\\\CC)CC)=C(C)\\\\C=C/C', 'CCCCCCCCN1c2cccc3c2C2(C#Cc4ccc(/N=N/c5ccc(OC)cc5)cc4)c4c1cccc4N(CCCCCCCC)c1cccc(c12)N3CCCCCCCC', 'CC[C@H](C)[C@H]1C(=O)O[C@H](C(C)(C)C)C[C@@H](C)C[C@H](O)[C@H](C)C2=N[C@@H](/C=C(\\\\C)C(=O)N[C@@H](Cc3ccc(OC)cc3)C(=O)N(C)[C@@H](C)C(=O)N(C)[C@@H]([C@@H](C)CC)C(=O)N1C)CO2', 'CC/C=C\\\\C/C=C\\\\C/C=C\\\\C/C=C\\\\C/C=C\\\\CCCC(=O)O[C@H](COC(=O)CC/C=C\\\\C/C=C\\\\C/C=C\\\\C/C=C\\\\C/C=C\\\\CCCCC)COP(=O)([O-])OCC[N+](C)(C)C', 'CCCCCCCC/C=C/CCCCCCCC(=O)OC(COC(=O)CCCCCCCCCCCCCCC)COP(=O)([O-])OC1C(O)C(O)C(O)C(O)C1O.[NH4+]', 'CC(C)(C)c1nc(C2CCC2)cc(N2CCN(CCCC(N)=O)CC2)n1.CC(C)(C)c1nc(C2CCC2)cc(N2CCN(CCCCNC(=O)c3ccc([N+](=O)[O-])cc3)CC2)n1', 'CC1=CCCC2(C)C(CCC2(O)CN(CC23CC4CC(CC(C4)C2)C3)C(=O)OC2CC(C)CCC2C(C)C)c2ccc(cc2C(=O)c2ccc(-c3ccccc3)cc2)CC(O)CC1', 'CC1(C)CC(OC(=O)C(CC(=O)OC2CC(C)(C)N(O)C(C)(C)C2)C(CC(=O)OC2CC(C)(C)N(O)C(C)(C)C2)C(=O)OC2CC(C)(C)N(O)C(C)(C)C2)CC(C)(C)N1[O-]', 'C=C(C)C(=O)OC1CCCCC1Nc1ccc(C(c2ccc(N(CCC)c3c(CC)cccc3CC)cc2)c2ccc(N(CCC)c3c(CC)cccc3CC)cc2)c2ccccc12', 'CCCCCCCCCCCCCCCC(=O)OC[C@H](COP(=O)(O)OCCNC[C@@]1(O)OC[C@@H](O)[C@@H](O)[C@@H]1O)OC(=O)CCCCCCCCCCCCCCC', '[2H]C([2H])([2H])C(c1cc(-c2nc3c(-c4cc(-c5cc(-c6ccccc6)ccn5)cc(C(C)(C)C)c4)cccc3n2-c2ccc(-c3ccccc3)cc2-c2ccccc2)c(O)c(C(C([2H])([2H])[2H])(C([2H])([2H])[2H])C([2H])([2H])[2H])c1)(C([2H])([2H])[2H])C([2H])([2H])[2H]', 'CC/C=C/C/C=C/C/C=C/C/C=C/C/C=C/C/C=C/CCC(=O)O[C@H](COC(=O)CCC/C=C/C/C=C/C/C=C/C/C=C/CCCCC)COP(=O)([O-])OCC[N+](C)(C)C', 'CC/C=C/C=C/C=C/C=C/C=C/CCCC(=O)OC(COC(=O)CCCCCCCCC/C=C/C/C=C/C/C=C/C/C=C/C/C=C/CC)COP(=O)([O-])OCC[N+](C)(C)C', '[2H]c1c([2H])c(C(C([2H])([2H])[2H])(C([2H])([2H])[2H])C([2H])([2H])[2H])c([2H])c([2H])c1-c1cc[n+]2c(c1)-c1cc(C(C)(C)C)cc3c1C21Oc2c(cc(C(C)(C)C)cc2C(C)(C)C)C2N(c4ccc(C)cc4-c4ccccc4)c4cccc-3c4N21', 'C.C.C.C.C.C.C.C.C.C.C.C.CNC(=O)CNCSC.CNC(=O)CSC.COC(=O)CSC.CSCNC(C)=O.CSCNS(C)(=O)=O', 'C=C1C[C@H](O)/C(C)=C/[C@@H](C)C(=O)C[C@@H]([C@H](C)C[C@@H]2CC[C@@H](O)[C@H](O)C2)OC(=O)[C@@H]2CCCCN2C(=O)C[C@]2(O)O[C@@H](CC[C@H]2C)C[C@H](OC)/C(C)=C/C=C/C=C\\\\[C@@H](C)C[C@H]1C', 'CCCN1C(=CC=C2CCC(=CCC3N(CCC)c4ccccc4C3(C)C)C2=[N+]2CCC(COC(=O)NCCC[Si](OCC)(OCC)OCC)CC2)C(C)(C)c2ccccc21', 'CC(C)[C@H]1CC[C@H](C)C[C@@H]1OC(=O)N(CC12CC3CC(CC(C3)C1)C2)C[C@]1(O)CC[C@H]2[C@]34C=C[C@@]5(C=C3C(=O)c3ccc(-c6ccccc6)cc3)CC(O)CC[C@]5(C)[C@H]4CC[C@@]21C', 'C=C/C=C\\\\C.C=C/C=C\\\\c1c2c(cc3ccccc13)C(=C)/C(=C\\\\c1c(C)c(-c3ccc(C)c(CC)c3)c3c(c1-c1ccc(C#N)cc1)C(=C/C)/C(=C(CC)/C(C)=C\\\\C)C3=C)C2.CC.CC', 'CCCC[C@@H]1OC(=O)[C@H](C)C(=O)[C@H](C)[C@@H](OC2O[C@H](C)C[C@H](N(C)C)[C@H]2O)[C@@](C)(OC)C[C@@H](C)C(NCC)[C@@H](C)C2N(NCCCc3ccnc4ccccc34)C(=O)O[C@@]21C', 'CC.CC.CC.CC.CC.Cc1cnc2c(c1)C=CC2.Cc1cnc2c(cnn2C)c1.Cc1cnc2ccccc2c1.Cc1cnc2ccnn2c1.Cc1cnc2ccsc2c1', 'Cn1nnc(CNC(=O)[C@H](CCCCCC(=O)COCC(=O)OC(C)(C)C)NC(=O)C[N+](C)(C)C)n1.Cn1nnc(CNC(=O)[C@H](CCCCN)NC(=O)C[N+](C)(C)C)n1', 'CN(C)CCC=C1c2ccccc2C=Cc2ccccc21.CN1[C@@H]2CC[C@H]1CC(OC(c1ccccc1)c1ccccc1)C2.COc1ccc2c(c1)[C@]13CCCC[C@@H]1[C@H](C2)N(C)CC3', 'CC=C(C)C(=O)OC1CC2C(O)C3C(=O)CC(CO)OC3C3C2OC1(C)C(CC1C[NH2+]C2NC(C)C=CC2C1)CC1CCC2CCC(O)CC2C(CO)C3C2CCNC(N)C12', 'CC[C@H](C)[C@@H]([C@@H](CC(=O)N1CCC[C@H]1[C@H](OC)[C@@H](C)C(=O)N[C@@H](Cc1c[nH]c2ccccc12)C(=O)N1CCCCO1)OC)N(C)C(=O)[C@@H](NC(=O)[C@H](C(C)C)N(C)C)C(C)C', 'CC/C=C/C/C=C/C/C=C/C/C=C/C/C=C/C/C=C/CCC(=O)OC[C@H](COP(=O)([O-])OCC[N+](C)(C)C)OC(=O)CCCCC/C=C/C/C=C/C/C=C/C/C=C/CCC', 'CC1CCC(C(C)C)C(OC(=O)N(CC23CC4CC(CC(C4)C2)C3)CC2(O)CCC3C45C=CC6(C=C4C(=O)c4ccccc4-c4ccccc4)CC(O)CCC6(C)C5CCC32C)C1', 'CC[C@H](C)[C@H](NC)C(=O)N[C@H](C(=O)N[C@@H](CC(C)C)C(=O)N1CCC[C@H]1C(=O)N[C@@H](CC(C)C)C(=O)N[C@@H](CO)C(=O)N[C@@H](CC(C)C)C(=O)N[C@@H](CO)C(N)=O)C(C)C', 'CC(C)(C)c1cc(N)cc(C(C)(C)C)c1.CC(C)(C)c1cc(NCCNc2cc(C(C)(C)C)cc(C(C)(C)C)c2)cc(C(C)(C)C)c1.CC1CCCO1.O=C(Cl)C(=O)Cl', 'CC[C@H](C)[C@@H]([C@@H](CC(=O)N1CCC[C@H]1[C@H](OC)[C@@H](C)C(=O)N[C@@H](Cc1ccccc1)C(O)OC)OC)N(C)C(=O)[C@@H](NC(=O)[C@H](C(C)C)N(C)Cc1ccnc(N)c1)C(C)C', 'COC(=O)CCCCCCCCCCCCCc1cccc(C(=O)OC)c1.COC(=O)CCCCCCCN(CCCCCc1cccc(C(=O)OC)c1)C(=O)OC(C)(C)C', 'CCCCN(CCCC)Cc1cc2c(OCCC)c(c1)Cc1cc(-c3cc(C)cc(C)c3)cc(c1OCCC)Cc1cc(O)cc(c1OCCC)Cc1cccc(c1OCCC)C2', 'C.C.C.C.C.C.C.C.C.C.C.C.C.C.C.C.C.C.C.C.C.C.C.C.CI.I.[CH3-].[W]', 'CCCCCCCCC1(CCCCCCCC)c2ccccc2-c2ccc(-c3ccc4c(c3)C(C)(C)c3cc(-c5ccc(-c6ccc(Nc7ccc(C)cc7C)cc6)cc5)ccc3-4)cc21', '[2H]C([2H])([2H])C(c1cc(-c2nc3c(-c4cc(-c5cc(-c6ccc(-c7ccccc7)cc6)ccn5)cc(C(C)(C)C)c4)cccc3n2-c2ccccc2-c2ccccc2)c(O)c(C(C([2H])([2H])[2H])(C([2H])([2H])[2H])C([2H])([2H])[2H])c1)(C([2H])([2H])[2H])C([2H])([2H])[2H]', 'CC/C=C\\\\C/C=C\\\\C/C=C\\\\C/C=C\\\\C/C=C\\\\C/C=C\\\\CCC(=O)O[C@H](COC(=O)CCC/C=C\\\\C/C=C\\\\C/C=C\\\\C/C=C\\\\CCCCC)COP(=O)([O-])OCC[N+](C)(C)C', 'CC[C@H](C)[C@@H]([C@@H](CC(=O)N1CCC[C@H]1[C@H](OC)[C@@H](C)C(=O)C[C@@H](Cc1c[nH]c2ccccc12)C(N)=O)OC)N(C)C(=O)[C@@H](CC(=O)C(C(C)C)N(C)CCCC(=O)O)C(C)C', 'CC/C=C/C/C=C/C/C=C/C/C=C/C/C=C/CCCC(=O)OC[C@H](COP(=O)([O-])OCC[N+](C)(C)C)OC(=O)CC/C=C/C/C=C/C/C=C/C/C=C/C/C=C/CCCCC', 'C#CN(C(C)=O)C(F)(F)F.C/C=C/N(CC)C(C)=O.C/C=N\\\\OC.CC#CON=C(C)C.CC(=O)N(C)CO.CCC(C)=NO.CCC(CC)=NNC.CON=C(C)C', 'CCCC[C@@H](C)CC1COCN(C)[C@@](C=O)(CC(C)C)NC(CC(C)C)C(=O)N(C)C(Cc2ccccc2)C(=O)NC(CC)C(=O)N(C)C(C)C(=O)O[C@H](CCC#N)C(=O)N1', 'CC/C=C\\\\C/C=C\\\\C/C=C\\\\CCCCCC(=O)NC(COC1OC(CO)C(OC2OC(CO)C(O)C(O)C2O)C(O)C1O)C(O)/C=C/CC/C=C/CCCCCCCCC', 'CNCc1cc(O)cc([C@H]2C[C@@]3(C)[C@H]4CCC5=C([C@H](C)C[C@@H](O)[C@H]6O[C@]6(C)[C@H]6CCC[C@@H]6c6cccc(N)c6)C(=O)C[C@]5(C)[C@@]4(CCO)C[C@H](NC[C@H](C)O)[C@H]3C(C)(C)C2=O)c1', 'CC/C=C\\\\C/C=C\\\\C/C=C\\\\C/C=C\\\\C/C=C\\\\C/C=C\\\\CCC(=O)OC[C@H](COP(=O)([O-])OCC[N+](C)(C)C)OC(=O)CCCCCC/C=C\\\\C/C=C\\\\C/C=C\\\\C/C=C\\\\CC', 'CNCCC[C@@H](CNC(=O)C(CCCNC(=O)[C@H](CCNC(=O)[C@@H]1Cc2cccc(c2)-c2ccc(O)c(c2)C[C@H](NC)C(=O)N[C@@H](C[C@@H](O)CNC)C(=O)N1)NC)NC)NC', 'CC1(C)CC(OC(=O)CC(C(=O)OC2CC(C)(C)N(O)C(C)(C)C2)C(CC(=O)OC2CC(C)(C)N(O)C(C)(C)C2)C(=O)OC2CC(C)(C)N(O)C(C)(C)C2)CC(C)(C)C1O', 'CC/C=C\\\\C/C=C\\\\C/C=C\\\\C/C=C\\\\C/C=C\\\\C/C=C\\\\C/C=C\\\\C/C=C\\\\C/C=C\\\\CCCC(=O)OC(COC(=O)CCCCCCC/C=C\\\\CCC)COP(=O)(O)OCCN', 'C1CCCCC1.CCCCC(NC)C(=O)C(=O)NCC(=O)NC(C(=O)OC(C)(C)CC)c1ccccc1.CCCCCCn1cnc(CC(C=O)NC(=O)CNC(=O)CC)c1', 'CC(C1=CC=C(C2=CC=C(N(C3=CCC(C4=CCCC=C4)C=C3)C3C=CC(C4C=CC=CC4)=CC3)CC2)CC1)C(CC1=CCC(C2=CCCC=C2)C=C1)C1C=CC(C2C=CC=CC2)=CC1', 'CC/C=C\\\\C/C=C\\\\C/C=C\\\\C/C=C\\\\CCCCCCCCC(=O)NC(COC1OC(CO)C(OC2OC(CO)C(O)C(O)C2O)C(O)C1O)C(O)/C=C/CCCCCCC', 'CC/C=C\\\\C/C=C\\\\C/C=C\\\\C/C=C\\\\C/C=C\\\\C/C=C\\\\CCC(=O)OC(COC(=O)CCCCCC/C=C\\\\C/C=C\\\\C/C=C\\\\C/C=C\\\\CC)COP(=O)([O-])OCC[N+](C)(C)C', 'CCCC[C@H]1OC(=O)[C@H](C)C(=O)[C@H](C)[C@@H](OC2O[C@H](C)C[C@H](N(C)C)[C@H]2O)[C@@](C)(OC)C[C@@H](C)C(NCC)[C@H](C)C2N(NCCCc3ccnc4ccccc34)C(=O)O[C@@]21C', '[2H]C([2H])([2H])c1cc2c3c(c1)N(c1cc(-c4ccccc4)c(C(C)(C)C)cc1-c1ccccc1)c1cc4c(cc1B3c1ccc(C(C)(C)C)cc1N2c1cccc(C(C)(C)C)c1)C(C)(C)CC4(C)C', 'CC(=O)CN1CCC(CCN2CCN(c3cccc(C(C)(C)C)c3)CC2)CC1.N#CCCCC(=O)NC1CCC(CCN2CCN(c3cc(F)cc(C(F)(F)F)c3)CC2)CC1', 'CC/C=C/C/C=C/C/C=C/C/C=C/C/C=C/CCCC(=O)O[C@H](COC(=O)CC/C=C/C/C=C/C/C=C/C/C=C/C/C=C/CCCCC)COP(=O)([O-])OCC[N+](C)(C)C', 'CC/C=C\\\\C/C=C\\\\C/C=C\\\\CCCCCCCCCC(=O)NC(COC1OC(CO)C(OC2OC(CO)C(O)C(O)C2O)C(O)C1O)C(O)/C=C/CC/C=C/CCCCC', 'CC(C)CCC[C@@H](C)[C@H]1CC[C@H]2[C@@H]3CC[C@H]4CC(c5ccc(-n6c7ccccc7c7cc8c(cc76)-c6ccccc6C8(c6ccccc6)c6ccccc6)cc5)CC[C@]4(C)[C@H]3CC[C@]12C', 'CC(C)(C)c1ccc(N(c2ccc(C(C)(C)C)cc2)c2cc(-c3ccc4c(c3)C(C)(C)c3cc(C(C)(C)C)ccc3-4)cc(-c3ccc4c(c3)C(C)(C)c3cc(C(C)(C)C)ccc3-4)c2)cc1', 'CC[C@H](C)[C@@H]([C@H](OC)OC(=O)OC(C)(C)C)N(C)C(=O)[C@@H](CC(=O)OCc1ccccc1)C(C)C.CC[C@H](C)[C@@H]([C@H](OC)OC(=O)OC(C)(C)C)N(C)C(=O)[C@@H](N)C(C)C', 'CC(C)CCC[C@@H](C)[C@H]1CCC2[C@@H]3CCC4CC(c5ccc(-n6c7ccccc7c7cc8c(cc76)-c6ccccc6C8(c6ccccc6)c6ccccc6)cc5)CC[C@]4(C)C3CC[C@@]21C', '[2H]C([2H])([2H])c1cc2c3c(c1)N(c1ccc(C(C)(C)C)cc1-c1ccc(-c4ccccc4)cc1)c1cc4c(cc1B3c1ccc(C(C)(C)C)cc1N2c1cccc(C(C)(C)C)c1)C(C)(C)CC4(C)C', 'CC/C=C\\\\C/C=C\\\\C/C=C\\\\C/C=C\\\\C/C=C\\\\CCCC(=O)NC(COC1OC(CO)C(OC2OC(CO)C(O)C(O)C2O)C(O)C1O)C(O)CCCCCCCCCCC', 'CC/C=C\\\\C/C=C\\\\C/C=C\\\\C/C=C\\\\CCCCCCCCCCCCC(=O)NC(COC1OC(CO)C(OC2OC(CO)C(O)C(O)C2O)C(O)C1O)C(O)/C=C/CCC', 'CC/C=C\\\\C/C=C\\\\C/C=C\\\\C/C=C\\\\C/C=C\\\\CCCCCC(=O)OCC(COP(=O)(O)OCCNC)OC(=O)CCCCC/C=C\\\\C/C=C\\\\C/C=C\\\\C/C=C\\\\C/C=C\\\\CC', 'CCCCN(CCCC)Cc1cc2c(OCCC)c(c1)Cc1cc(O)cc(c1OCCC)Cc1cc(-c3cc(C)cc(C)c3)cc(c1OCCC)Cc1cccc(c1OCCC)C2', 'CC(=O)NC(CCCCN)C(=O)NCCOCCOCCOCCOCCC(=O)NCC(=O)NCCOCCOCCOCCOCCC(=O)O.CCCCC(C)CC', 'CC(C)[C@H]1CC[C@H](C)C[C@@H]1OC(=O)N(CC12CC3CC(CC(C3)C1)C2)C[C@]1(O)CC[C@H]2[C@]34C=C[C@@]5(C=C3C(=O)c3ccccc3-c3ccccc3)CC(O)CC[C@]5(C)[C@H]4CC[C@@]21C', 'CO[C@H]1CCCC(C[C@@H](C)CCC(=O)[C@H](C)/C=C(\\\\C)C[C@@H](OC)C(=O)[C@H](C)C[C@H](C)/C=C/C=C/C=C(\\\\C)CC[C@@H]2CC[C@@H](C)[C@](O)(C(=O)C(=O)N3CCCCC3C(=O)O)O2)C1', 'CCCCCCCCOc1cc(C)cc(OCCCCCCCC)c1O.CNc1cc(O)c(NC(=O)c2ccc(C)cc2)cc1C.Cc1cc(C)c2c(c1O)C(C)(C)CC(=O)N2', 'C=C1/C=C\\\\C(C2(c3ccccc3)C3=C(C=CC3)c3ccccc32)=C/N(CC)c2cc(-c3ccccc3)ccc21.CC.CC.CC.CC1=CCCC(c2ccccc2)=C1.Cc1ccccc1', 'C.C=Cc1ccc(-c2ccc(N(c3ccccc3)c3ccc(-c4ccc5c(c4)C(CCCCCCCC)(CCCCCCCC)c4cc(-c6ccc(C=C)cc6)ccc4-5)cc3)cc2)cc1', 'CCCCCCCCCCCCCCCCCC(=O)O[C@]12C(O)[C@H](OC)[C@@]3(O)C[C@H]([C@@H]1[C@H]3OC(=O)c1ccccc1)[C@@]13[C@@H](OC)CC[C@@]4(COC)CN(CC)[C@@H]1[C@@H]2[C@H](OC)[C@H]43', 'CC/C=C\\\\C/C=C\\\\C/C=C\\\\C/C=C\\\\CCCCCCCCCCC(=O)NC(COC1OC(CO)C(OC2OC(CO)C(O)C(O)C2O)C(O)C1O)C(O)/C=C/CCCCC', '[2H]C([2H])([2H])c1cc2c3c(c1)N(c1ccc(C(C)(C)C)cc1-c1ccc(-c4ccccc4)cc1)c1cc4c(cc1B3c1cc(C(C)(C)C)ccc1N2c1ccc(C(C)(C)C)cc1)C(C)(C)CC4(C)C', 'CC[C@H]1OC(=O)[C@H](C)[C@@H](O[C@H]2C[C@@](C)(OC)[C@@](O)(CNCc3ccccc3)[C@H](C)O2)[C@H](C)[C@@H](O[C@@H]2O[C@H](C)C[C@H](N(C)C)[C@H]2O)[C@@](C)(O)C[C@@H](C)CN[C@H](C)[C@@H](O)[C@]1(C)O', 'C=C(C)[C@@H]1CC[C@]2(C(=O)N3C[C@H](OCCOC)C[C@H]3c3ncc(-c4ccccc4)[nH]3)CC[C@]3(C)[C@H](CC[C@@H]4[C@@]5(C)CC[C@H](OC(=O)CC(C)(C)C(=O)O)C(C)(C)[C@@H]5CC[C@]43C)[C@@H]12', '[2H]C([2H])([2H])C(c1cc(-c2nc3c(-c4cc(-c5ccccc5)cc(-c5cc(-c6ccccc6)ccn5)c4)cccc3n2-c2ccc(-c3ccccc3)c(CC(C)C)c2)c(O)c(C(C([2H])([2H])[2H])(C([2H])([2H])[2H])C([2H])([2H])[2H])c1)(C([2H])([2H])[2H])C([2H])([2H])[2H]', 'CC[C@@H]1OC(=O)[C@H](C)[C@@H](O[C@H]2C[C@@](C)(OC)[C@@](O)(CNCc3ccccc3)[C@H](C)O2)[C@H](C)[C@@H](O[C@@H]2O[C@H](C)C[C@H](N(C)C)[C@H]2O)[C@@](C)(O)C[C@@H](C)CN[C@@H](C)[C@@H](O)[C@]1(C)O', 'CN(C)CCC=C1c2ccccc2C=Cc2ccccc21.CN1C2CCC1CC(OC(c1ccccc1)c1ccccc1)C2.COc1ccc2c(c1)[C@]13CCCC[C@@H]1[C@H](C2)N(C)CC3', 'CCCN1/C(=C/C=C2\\\\CC/C(=C\\\\CC3N(CCC)c4ccccc4C3(C)C)C2=[N+]2CCC(COC(=O)NCCC[Si](OCC)(OCC)OCC)CC2)C(C)(C)c2ccccc21', 'CC/C=C\\\\C/C=C\\\\C/C=C\\\\C/C=C\\\\C/C=C\\\\C/C=C\\\\CCC(=O)OC[C@H](COP(=O)([O-])OCC[N+](C)(C)C)OC(=O)CCC/C=C\\\\C/C=C\\\\C/C=C\\\\C/C=C\\\\CCCCC', 'CC/C=C\\\\C/C=C\\\\C/C=C\\\\C/C=C\\\\C/C=C\\\\CCCC(=O)OC[C@H](COP(=O)([O-])OCC[N+](C)(C)C)OC(=O)CC/C=C\\\\C/C=C\\\\C/C=C\\\\C/C=C\\\\C/C=C\\\\CCCCC', 'C=CC.C=CCn1nc(C(C)C)c2c(=O)[nH]c(Cc3ccc(OCCN4CCOCC4)cc3)nc21.CC.CC.CC(C)(Cl)/C=C/Cl.CC(C)=O.CCC(C)C.COC', '[2H]C([2H])([2H])c1cc2c3c(c1)N(c1c(-c4ccccc4)cc(C(C)(C)C)cc1-c1ccccc1)c1cc4c(cc1B3c1cc(C(C)(C)C)ccc1N2c1ccc(C(C)(C)C)cc1)C(C)(C)CC4(C)C', 'CC(=O)N[C@H](C(=O)C[C@@H](CC(C)C)C(=O)N[C@H](C#N)C[C@@H]1CCCCC1=O)C(C)(C)C.CC(=O)N[C@H](C(=O)C[C@@H](CC(C)C)C(=O)N[C@H](C#N)C[C@@H]1CCNC1=O)C(C)(C)C', 'CCCC/C=C\\\\C/C=C\\\\CCCCCCCC(=O)NC(COC1OC(CO)C(OC2OC(CO)C(O)C(O)C2O)C(O)C1O)C(O)/C=C/CC/C=C/CC/C=C/CCCC', 'CCC/C=C\\\\C/C=C\\\\CCCCCCCC(=O)NC(COC1OC(CO)C(OC2OC(CO)C(O)C(O)C2O)C(O)C1O)C(O)/C=C/CC/C=C/CC/C=C/CCCCC', 'CC[C@H]1OC(=O)C[C@H]2OCC(O)(CO)COCCC(C[C@@H](C)C(=O)/C=C/C(C)=C/[C@@H]1CO[C@@H]1O[C@H](C)[C@@H](C)[C@@H](OC)[C@H]1OC)[C@H](O[C@@H]1O[C@H](C)[C@@H](C)[C@H](N(C)C)[C@H]1C)[C@H]2C', 'C/C(=C/C[C@H](OCOCC[Si](C)(C)C)/C(C)=C/c1csc(C)n1)CCC[C@H](C)[C@H](O[Si](C)(C)C(C)(C)C)[C@@H](C)C(=O)C(C)(C)[C@H](CCO)O[Si](C)(C)C(C)(C)C', 'CC(C)CCC(=O)N(C)C(=O)N(C)C(=O)N(C)[C@@H](C[C@H](C)CCO)C(=O)NC(=O)N(C)CC(=O)N(C)[C@@H](CC(C)C)C(=O)N[C@H](C(=O)N(C)[C@@H](CC(C)C)C(N)=O)C(C)C', 'C/C=C(\\\\C=C/CC)C(OC(=O)c1ccc(C(C)=O)cc1)C(C)NC(=O)C(C)C(OC)C1CCCN1C(=O)CC(OC)C(C(C)CC)N(C)C(=O)CNC(=O)C(C(C)C)N(C)C', '[2H]C([2H])([2H])C(c1cc(-c2nc3c(-c4cc(-c5ccccc5)cc(-c5cc(-c6ccccc6)ccn5)c4)cccc3n2-c2ccc(-c3ccccc3)c(C(C)(C)C)c2)c(O)c(C(C([2H])([2H])[2H])(C([2H])([2H])[2H])C([2H])([2H])[2H])c1)(C([2H])([2H])[2H])C([2H])([2H])[2H]', '[2H]C([2H])([2H])c1cc2c3c(c1)N(c1ccc(C(C)(C)C)cc1-c1ccccc1)c1cc4c(cc1B3c1cc(C(C)(C)c3ccccc3)ccc1N2c1ccc(C(C)(C)C)cc1)C(C)(C)CCC4(C)C', 'CCCCCCCCC/C=C\\\\CCCCCCC(=O)N[C@H]1[C@H](OC(=O)CCC(=O)O)O[C@H](CO)[C@@H](OC(=O)CCC(=O)O)[C@@H]1OC(=O)CCCCCCCCCCCCC', 'C=C(C)C(=O)OC1CCCCC1Nc1ccc(C(c2ccc(N(CCCC)c3c(C)cc(C)cc3C)cc2)c2ccc(N(CCCC)c3c(C)cc(C)cc3C)cc2)c2ccccc12', 'COc1ccc(-c2cc(=O)c(C)c(C34CCC5(C)C(C)(CCC6C7(C)CCC(OC(=O)CC(C)(C)C(=O)O)C(C)(C)C7CCC65C)C3=C(C(C)C)C(=O)C4)n2CCN(C)C)nc1', 'Cc1cc2c3c(c1)N(c1cc(C(C)(C)C)cc(C(C)(C)C)c1)c1sc(-c4ccc(C(C)(C)C)cc4)nc1B3c1cc(C(C)(C)C)ccc1N2c1cc(C(C)(C)C)cc(C(C)(C)C)c1', 'CC1CCC(C(C)C)C(OC(=O)N(CC23CC4CC(CC(C4)C2)C3)CC2(O)CCC3C45C=CC6(C=C4C(=O)c4ccc(-c7ccccc7)cc4)CC(O)CCC6(C)C5CCC32C)C1', 'C1=CC=C(C=C1)NC(=O)C2=CC=CC=C2I', 'COc1ccccc1NC(=O)c1coc(=O)c(Br)c1', 'COc1ccc(Oc2cc(C(=O)O)ccn2)c(Br)c1', 'Nc1nc2nc(-c3ccc(Br)c(F)c3)[nH]c2c(=O)[nH]1', 'COc1cc(S(=O)(=O)NC[C@H](C)O)ccc1Br', 'CC(=O)OC1=C(C(=O)CCl)N2C(=O)[C@](C)(Cl)[C@@H]2SC1', 'Oc1ccc(S)cc1.[Au+]', 'Cc1cc(Br)ccc1NC(=O)c1cc(C(=O)O)co1', '[H]N=P(O)(OSSC1CCCCC1)OP(=O)(O)O', 'CN(CCC#N)c1ccc2cc(Br)cc(Cl)c2n1', 'C=CCCNS(=O)(=O)c1cc(Cl)cc(C(=O)O)c1Cl', 'CCOc1cc(Br)c(S(N)(=O)=O)cc1OCC', 'O=[N+]([O-])c1ccc(Oc2ccc(CO)cc2Br)cc1', 'COC1CC(C(=O)O)N(C(=O)c2cc(Cl)sc2Cl)C1', 'Fc1ccc(-c2noc(Cn3cncn3)n2)cc1Br', 'Nc1nc(-c2ccc(Br)c(Cl)c2)nc2c1CCC2', 'O=C(O)c1cnc(CCl)c(C(F)(F)F)c1OC(F)(F)F', 'CC(C)C(S)C(=O)Nc1cc(Br)c(F)cc1F', '[B]N1C(=O)CCCC1COCc1cc[c-]s1.[Y]', 'COC(=O)C(Br)COc1c(C#N)oc2ccccc12', 'IN1c2ccccc2COc2ccccc21', 'Cc1ccncc1C(=O)c1cccc(I)c1', 'Cc1c([N+](=O)[O-])cc(Br)c(-c2ccc(C=O)o2)c1C', 'O=C(O)C1(CNS(=O)(=O)c2ccc(Cl)c(Cl)c2)CC1', 'O=C(O)c1cc(C(F)(F)F)c(CCl)nc1OC(F)(F)F', 'Cc1nn(C2CCS(=O)(=O)C2)c(S(=O)(=O)Cl)c1C#N', 'COC(=O)c1ccc(NC(=O)c2ccco2)c(Br)c1', 'CC(O)(CO)CNS(=O)(=O)c1ccccc1Br', 'N#Cc1ccc(Oc2nc(NN)ncc2Br)cc1F', 'O=[N+]([O-])c1ccc(OCc2ccc(Br)cc2)c(O)c1', 'COC(=O)CN(C)S(=O)(=O)c1c(Cl)nc2sccn12', 'Cc1ccc(Br)cc1S(=O)(=O)NCC(O)CO', 'COCCONS(=O)(=O)c1ccc(C)cc1Br', 'CCCc1nn(-c2ccccc2Br)c(Cl)c1C#N', 'Clc1ccc(-c2ncc3c(n2)CCNC3)cc1Br', 'O=C(O)C1C2C(=O)N(Cc3cccc(Br)c3)C(=O)C12', 'Nc1nc(-c2ccc(Br)cc2Cl)nc2c1CCC2', 'CCNS(=O)(=O)c1cc2c(cc1Cl)NC=NS2(=O)=O', 'O=C(O)c1nc(-c2cccs2)oc1-c1cccc(Cl)c1F', 'CC(C)S(=O)(=O)CCn1cc(C(=O)O)cc1Br', 'O=S1CCN(c2c(F)cc(CBr)cc2F)CC1', 'O=C(O)/C=C/c1cccc(Br)c1OCc1ccno1', 'O=c1c(F)c2oc3c(F)c(F)c(F)c(F)c3nc-2c(F)c1F', 'Oc1cccc(/N=C/c2ccccc2I)c1', 'O=C(Nc1ccc2c(c1)OCCO2)c1ccoc1Br', 'Cc1ccncc1C(=O)c1ccc(I)cc1', 'COC(=O)c1cc(Br)ccc1NC(=O)c1ccco1', 'COCCNC(=O)c1cc(F)ccc1I', 'CC1(C)C(=O)NC(=O)CN1S(=O)(=O)c1cnc(Cl)s1', 'COc1ccc(CNS(=O)(=O)CBr)cc1OC', 'COC(COc1c(Br)cc(F)cc1[N+](=O)[O-])OC', 'CN(CC=CC(=O)O)S(=O)(=O)c1cccc(Cl)c1Cl', 'NN/C(=N\\\\c1ccccc1)c1ccc(Br)c(Cl)c1', 'O=C(NC(C(=O)O)c1ccccc1)c1ccc(Br)o1', 'O=C=NC1(c2cc(Br)c(C=O)c3c2OCCO3)CC1', 'CC(CC(=O)O)/N=C1\\\\Nc2sc(Cl)cc2S(=O)(=O)N1', 'O=C(O)c1cc(Cl)cc(Cl)c1N1CCS(=O)(=O)CC1', 'O=C(c1cc(Cl)sc1Cl)N1CCC(O)(C(=O)O)CC1', 'Fc1cc(NC2CSc3ccccc32)ccc1Br', 'ClC(Cl)(Cl)c1cnnnc1-c1cccc2ccccc12', 'Nc1nc(Oc2cc(F)ccc2Br)c2cn[nH]c2n1', 'Cc1ccc(C(=O)Nc2ccc(C(=O)O)cc2Br)o1', 'Clc1ccc(-n2nncc2-c2c(Cl)cccc2Cl)cc1', 'O=C(O)c1nc(CCl)c(C(F)(F)F)cc1OC(F)(F)F', 'Oc1cc(-c2cc3cccc[n+]3o2)cc(O)c1O.[Br-]', 'Cc1cc(O)cc(Oc2cc(Br)ccc2[N+](=O)[O-])c1', 'O=C(O)c1c(Cl)ccc(S(=O)(=O)NCC2CC2)c1Cl', 'Cc1nnc(S(=O)(=O)CCS(=O)(=O)Cl)c(C#N)c1C', 'Clc1ccc(Nc2nc(Cl)nc3ccccc23)c(Cl)c1', 'NS(=O)(=O)c1cc2c(cc1Cl)NC(CC(=O)O)NS2', 'COC(=O)CCNc1ccc(F)cc1I', 'Nc1cc2c(cc1I)-c1ccccc1[C@@H]2O', 'O=C(O)c1coc(-c2csc(-c3ccc(F)c(Cl)c3)n2)c1', 'N#Cc1c(Cl)c(-c2cccnc2Cl)n2c1C=C(Cl)CC2', 'O=C(O)CC1CN(S(=O)(=O)c2ccc(Cl)c(Cl)c2)C1', 'Nc1cc(Br)c(F)cc1Oc1nccn2cnnc12', 'CC(=O)O[IH-](OC(C)=O)c1ccccc1', 'Cc1ccc(C(=O)c2ccc(I)cc2)nc1', 'Cc1c(O)cccc1Oc1cc(Br)ccc1[N+](=O)[O-]', 'O=C(O)C1(CNS(=O)(=O)c2c(Cl)cccc2Cl)CC1', 'CCc1nn(Cc2cccc(Br)c2)c(Cl)c1C#N', 'S=c1[nH]nc(-c2cnccn2)n1-c1cc(Cl)cc(Cl)c1', 'Cc1cc(Br)cc(NC(=O)c2ccc(C(=O)O)o2)c1', 'O=C1CCC(=O)N1Br.O=c1ccc2ccccc2o1', 'O=C(O)c1cnc(C(F)(F)F)c(CCl)c1OC(F)(F)F', 'O=C(NCCCO)c1ccc(F)cc1I', 'COc1cccc(Oc2ccccc2Br)c1[N+](=O)[O-]', 'O=C(O)Cc1c(C(F)(F)F)cc(OC(F)(F)F)nc1Cl', 'Clc1cncnc1NC1CCc2c(Br)cccc21', 'Cc1cc(C(=O)Nc2cc(C(=O)O)ccc2Br)co1', 'Nc1cc(C(F)(F)F)ccc1SCc1ccc(Cl)s1', 'O=[N+]([O-])c1cc(CO)ccc1Oc1ccccc1Br', 'COC(=O)/C=C1/C(=O)N(C(C)=O)c2ccc(Br)cc21', 'Cc1cc(Cl)c2cnnc(-c3ccc(Cl)cc3Cl)c2n1', 'O=C(O)[C@@H]1CCCN1S(=O)(=O)c1ccc(Cl)cc1Cl', 'C=CCN(C)S(=O)(=O)c1ccc(Cl)c(C(=O)O)c1Cl', 'Clc1cccc(-n2nncc2-c2c(Cl)cccc2Cl)c1', 'O=C1CC(S(=O)(=O)F)CN1c1ccnc(Cl)c1[N+](=O)[O-]', 'Fc1ccc(C[n+]2csc3ccccc32)cc1.[Br-]', 'CC(C)C(S)C(=O)Nc1cc(F)c(Br)cc1F', 'O=Cc1cc[nH]c1C(=O)O.[W]', 'CC1(c2ccccc2)C=C(Cl)n2ncc(Br)c2N1', 'Clc1cc(Cl)c(/N=N/c2c[nH]c3ccccc23)c(Cl)c1', 'Oc1ccc(/C=N/c2ccccc2)cc1I', 'O=C(Nc1ncc([N+](=O)[O-])s1)c1cnc2sccn2c1=O', 'NC(=O)c1cccc(-c2ccccc2)c1I', 'Cc1ccc(-n2nc(C)c(CC#N)c2Br)cc1Cl', 'CC1CCCN1S(=O)(=O)c1cc(CO)oc1Br', 'COCCCS(=O)(=O)Nc1cccc(Br)c1O', 'COC(=O)c1ccccc1NC(=O)c1ccoc1Br', 'O=CC=C/C=C(\\\\C=[W])[N+](=O)[O-]', 'OB(O)c1ccc(CSc2ccc(Br)cn2)cc1', 'O=S1CCC(Nc2c(F)cc(F)cc2Br)CC1', 'CC(CO)NC(=O)c1c(F)cccc1I', 'Cc1cc(I)cc(C(=O)c2ccccn2)c1', 'C=CCc1c(Cl)ncnc1Nc1ccc(Br)cc1', 'CC1(O)c2cccc3c([N+](=O)[O-])ccc(c23)OC1Br', 'CCOC(=O)/C(C#N)=C/c1cc(Br)c2c(c1)OCO2', 'Clc1ccc(-c2ncnn2-c2ccc(Cl)cc2Cl)cc1', 'O=C(O)[C@H]1CCCN1S(=O)(=O)c1cc(Cl)ccc1Cl', 'Cc1cc(NC(=O)c2occc2Br)ccc1C(=O)O', 'CC1(C(=O)O)CCN1S(=O)(=O)c1cc(Cl)cc(Cl)c1', 'CCS(=O)(=O)c1nc2ccc(Cl)cn2c1S(N)(=O)=O', 'COc1cc(O)c(C(=O)c2ncccc2O)cc1Br', 'COCCOc1ccc(NS(=O)(=O)CBr)cc1', 'O=C(c1cc(S(=O)(=O)Cl)ccc1Cl)N1CCOCC1', 'CC(=O)Cc1ccc(-c2cc([N+](=O)[O-])ccc2Br)o1', 'O=C(O)c1c(OC(F)(F)F)cnc(CCl)c1C(F)(F)F', 'O=C([O-])CN1C(=O)/C(=C\\\\c2ccc([N+](=O)[O-])cc2)SC1=S', 'COC(=O)c1cc(=O)[nH]c2ccc(C(=O)CBr)cc12', 'N#CC(C#N)=C(C#N)Nc1ccc2ncccc2c1Br', 'O=C(O)C1(CNS(=O)(=O)c2cc(Cl)ccc2Cl)CC1', 'Clc1ccc(-n2ncnc2-c2ccc(Cl)cc2Cl)cc1', 'COC(=O)[C@@H]1[C@@H](c2ccc(S(N)(=O)=O)cc2)C1(Cl)Cl', 'CC(=O)SCC(Br)C(=O)OC(=O)[C@@H]1CCCN1', 'CC(C)n1cc(C#Cc2cc(Cl)ncc2Br)cn1', 'COc1ccc(Oc2cc(C(=O)O)ccc2Br)nc1', 'CC(C)c1nn(-c2cccc(Br)c2)c(Cl)c1C#N', 'Nc1nc(Oc2ccc(Br)cc2F)c2cn[nH]c2n1', 'Clc1ccc2c(Nc3ccc(Cl)c(Cl)c3)ncnc2c1', 'Cc1cc(O)cc(Oc2ccc(Br)cc2[N+](=O)[O-])c1', 'Nc1nc(Oc2cc(F)cc(Br)c2)c2[nH]cnc2n1', 'C[C@@H](CO)NC(=O)c1ccc(F)cc1I', 'C=CC(C)NS(=O)(=O)c1ccc(Cl)c(C(=O)O)c1Cl', 'N#Cc1ccc(/C=N\\\\Nc2c(Cl)cc(Cl)cc2Cl)cc1', 'Nc1nc2nc(-c3ccc(Br)cc3F)[nH]c2c(=O)[nH]1', 'O=C(O)[C@@H]1CCCN1S(=O)(=O)c1c(Cl)cccc1Cl', 'O[C@H]1[C@@H](Nc2nc(Cl)ncc2Br)CCC[C@@H]1F', 'C/C(N)=N\\\\C=C(/N)c1cnn(PI)c1', 'Nc1nc(-c2cc(Br)ccc2Cl)nc2c1CCC2', 'CC(C)(C)S(=O)N=Cc1cc(F)cc(Br)c1F', 'CC1(OCC(=O)O)CN(C(=O)c2cc(Cl)sc2Cl)C1', 'Clc1ccccc1Nc1cc(Br)nc(C2CC2)n1', 'NN/C(=N\\\\c1ccccc1)c1ccc(Br)cc1Cl', 'O=C(O)[C@]1(Cl)C(Cl)CCN1S(=O)(=O)c1ccccc1', 'CN(C)S(=O)(=O)c1cc2c(cc1Cl)NC=NS2(=O)=O', 'COC(=O)c1ccc(Cl)c(S(=O)(=O)NNC(N)=S)c1', 'O=C(O)c1ccc(CNC(=O)c2ccccc2Br)o1', 'CC1Cc2ccccc2N1c1ncnc(Cl)c1Br', 'Clc1cc(Cl)cc(Nc2nc(Cl)c3ccccc3n2)c1', '[I-].c1ccc(-c2[nH+]c3ccccc3o2)cc1', 'Cc1cc(Oc2ccccc2O)c(Br)cc1[N+](=O)[O-]', 'COc1cc(NS(=O)(=O)CCCO)ccc1Br', 'O=C(O)CONC(=O)c1ccc2cc(Br)ccc2c1', 'N#Cc1ccc(C=NNc2c(Cl)cc(Cl)cc2Cl)cc1', '[O-][N+](=Cc1ccccc1)c1ccccc1I', 'COc1ccc(Br)cc1S(=O)(=O)NCCCO', 'Nc1nc(-c2cccc(Cl)c2)nc2c(Cl)cc(Cl)cc12', 'CSc1nnc(Sc2ccc(C(F)(F)F)cc2N)s1', 'O=C(c1ccccc1)c1ccc(NI)cc1', 'COc1ccc(Oc2ccccc2[N+](=O)[O-])c(Br)c1', 'Cc1ccc(-n2nc(C)c(CC#N)c2Cl)cc1Br', 'O=C1CCN(S(=O)(=O)c2cc(Cl)c(O)c(Cl)c2)CC1', 'O=C(NC1CCOC1)c1ccc(Cl)c(S(=O)(=O)Cl)c1', 'Nc1c(C=O)cccc1-c1ccc(I)cc1', 'O=C(O)c1c(OC(F)(F)F)ncc(CCl)c1C(F)(F)F', 'CC.COC(=O)c1c(O)c(Br)cc([N+](=O)[O-])c1F', 'Cc1cc(O)c(C(=O)Nc2ccc(Br)cc2)c(=O)o1', 'Nc1cc(I)c(F)cc1OC1CCOC1', 'CC/C=C(\\\\C(=O)O)N1C(=O)c2cccc(Br)c2C1=O', 'NN/C(=N\\\\c1ccccc1)c1ccc(Cl)c(Br)c1', 'O=C(NC1CS(=O)(=O)CC1Cl)Oc1cccc(Cl)c1', 'CCc1nn(Cc2ccc(Br)cc2)c(Cl)c1C#N', 'COC(=O)NS(=O)(=O)Nc1cc(C(N)=S)ccc1Cl', 'O=[N+]([O-])c1ccc(Br)c(Oc2ccc(CO)cc2)c1', 'O=C(O)c1cnc(OC(C(F)(F)F)C(F)(F)F)c(Cl)c1', 'COc1cc(Oc2cccc(Br)c2)ccc1[N+](=O)[O-]', 'COc1ccc(Br)c(Oc2ccccc2)c1[N+](=O)[O-]', 'O=C(c1cc(Cl)cc(S(=O)(=O)Cl)c1)N1CCOCC1', 'CN(C)C1=NN=C(c2ccc(Cl)cc2Cl)CS1.Cl', 'COc1ccc(Oc2ncc(Br)cc2C(=O)O)cc1', 'CCc1c(Cl)ccc(-c2c(Br)cnn2C)c1C#N', 'O=C(O)/C=C/c1cccc(Br)c1OCc1cnoc1', 'C=CCC(NS(=O)(=O)c1c(Cl)cccc1Cl)C(=O)O', 'C=CCCNS(=O)(=O)c1ccc(Cl)c(C(=O)O)c1Cl', 'O=C(O)c1coc(-c2csc(-c3c(F)cccc3Cl)n2)c1', 'CC(C)(C)OC(=O)c1cc(F)cnc1I', 'O=C(O)C(NS(=O)(=O)c1cc(Cl)cc(Cl)c1)C1CC1', 'COC(=O)C1COCCN1C(=O)c1cc(Cl)sc1Cl', 'CS(=O)(=O)c1cc(Br)ccc1NCC(O)CO', 'O=C(O)C1CC(N2C(=O)c3cccc(Br)c3C2=O)C1', 'COc1cc(-n2cc(C(=O)O)ccc2=O)ccc1Br', 'O=C(O)c1cc(OC(F)(F)F)c(C(F)(F)F)nc1CCl', 'COc1ccc(C(=O)NCCI)cc1F', 'CCN(I)CCCCOP(=O)(O)O', 'NS(=O)(=O)c1cc(Cl)cc(C(=O)OC2CCC2)c1Cl', 'O=C=NC1=C2C(I)CCC2C=C2C=CC=C21', 'O=C(O)c1cc(Cl)c(N2CCCCS2(=O)=O)c(Cl)c1', 'NS(=O)(=O)CCOCCOc1ccc(Br)cc1', 'COc1ccc(Oc2ccncc2Br)c(C(=O)O)c1', 'NN/C(=N\\\\c1ccccc1)c1ccc(Cl)cc1Br', 'O=C(O)C1(NS(=O)(=O)c2ccc(Cl)c(Cl)c2)CCC1', 'Clc1cc(Cl)c(Nc2cccc3cccnc23)nc1Cl', 'Cc1cc(NC(=O)c2ccc(Br)o2)ccc1C(=O)O', 'Cc1cc(Oc2cccc(O)c2)c(Br)cc1[N+](=O)[O-]', 'O=C(Nc1ccc2c(c1)OCCO2)c1occc1Br', 'NC(=O)c1ccccc1-c1ccccc1I', 'O=C(NCCCI)c1cc(F)ccc1O', 'Cc1nn(C)c(CC(N)c2cc(Cl)sc2Cl)c1Cl', 'CC(C)C(S)C(=O)Nc1c(F)cc(Br)cc1F', 'COc1ccc(Oc2cccnc2C(=O)O)c(Br)c1', 'O=C1NC(=O)/C(=C\\\\c2ccc(-c3ccc(F)c(Cl)c3)o2)S1', 'O=C(O)c1c(C(F)(F)F)cc(CCl)nc1OC(F)(F)F', 'CC(C)(C#N)CNS(=O)(=O)c1cc([N+](=O)[O-])c(Cl)s1', 'Cc1cncc(C(=O)c2ccc(I)cc2)c1', 'Nc1nc(Oc2ccc(Br)cc2F)c2[nH]cnc2n1', 'COC(=O)C(C)NS(=O)(=O)c1c(Cl)nc2sccn12', 'Clc1cc(Nc2cccc(Br)c2)nc(C2CC2)n1', 'O=C(O)CC1CN(S(=O)(=O)c2c(Cl)cccc2Cl)C1', 'C=C(C)C(=O)[O-].C=C(C)C(=O)[O-].[Eu+2]', 'O=C(NC1CCC(F)(F)CC1)c1cc(Br)cs1', 'NC1=N/C(=N\\\\c2ccc(Cl)c(Cl)c2Cl)c2ccccc21', 'CCOC(=O)NC(=C(Cl)Cl)S(=O)(=O)c1ccccc1', 'O=C(c1ccoc1)c1c(Br)cc2n1CCC2C(=O)O', 'Cc1cnccc1-c1nc(Cl)c(Br)c(C2CC2)n1', 'CCOC(=O)c1c[nH]c2c(=O)c(Br)cccc2c1=O', 'Clc1ccc(-c2n[nH]nc2-c2ccc(Cl)cc2Cl)cc1', 'COC(=O)c1cc(C(=O)OC)c2cccc(Br)c2n1', 'C[C@H](CO)NC(=O)c1ccc(F)cc1I', 'O=C(O)c1c(OC(F)(F)F)ncc(C(F)(F)F)c1CCl', 'O=C(O)[C@@H]1CCN(S(=O)(=O)c2ccc(Cl)c(Cl)c2)C1', 'COc1ccc(S(=O)(=O)NCCCO)cc1Br', 'CCS(=O)(=O)C([N+](=O)[O-])(S(C)(=O)=O)S(=O)(=O)CC', 'O=C([O-])/C=C1/c2ccccc2NCCC1(F)F.[Rb+]', 'O=C(O)CN(C1CC1)S(=O)(=O)c1c(Cl)cccc1Cl', 'COc1ccc(Br)cc1S(=O)(=O)N[C@@H](C)CO', 'CN1C(=O)CCC(NS(=O)(=O)c2cnc(Cl)s2)C1=O', 'NC1=Nc2ccc(Cl)c[n+]2Cc2ccccc21.[Br-]', 'Fc1cccc(Br)c1NC1CSc2ccccc21', 'O=C(Cc1ccccn1)c1ccc(I)cc1', 'COCCOc1cccc(NS(=O)(=O)CBr)c1', 'Cl.NC(CC1=CS(=O)(=O)c2ccc(Cl)cc21)C(=O)O', '[H]/N=C(\\\\N)N(Cl)Cc1ccc(OCCF)c(Br)c1', 'O=C(O)CCSc1nc(Cl)nc(SCCC(=O)O)n1', 'Cc1nn(-c2cccc(Cl)c2C)c(Br)c1CC#N', 'Cl[Pt+2]Cl.[CH2-]C.[CH2-]C', 'C1C(C(C(CC1(C(=O)O)O)OC(=O)C=CC2=CC(=C(C=C2)O)O)OC(=O)C=CC3=CC(=C(C=C3)O)O)O', 'N#CC1(NC(=O)[C@H](CS(=O)(=O)NCc2ccc(F)cc2)N[C@@H](c2ccc(F)cc2)C(F)(F)F)CC1', 'CC(C)C(NP(=O)(OC[C@H]1SC(n2ccc(N)nc2=O)[C@@H](F)[C@@H]1O)Oc1ccccc1)C(=O)O', 'CCOC(=O)N1C[C@H]2NS(=O)(=O)c3cn(C)c(C(=O)Nc4cc(F)c(F)c(F)c4)c3OC[C@@]2(C)C1', 'O=S(=O)(c1ccc(F)c(C(F)(F)F)c1)N1CCN(c2ccc(-c3ccc4ccccc4c3)nn2)CC1', 'C[C@@H](Oc1ccccc1-c1ccc(Oc2nc3ccc(Cl)cc3o2)cc1)C(=O)N(C)c1ccc(F)cc1', 'CCCNC(=O)c1c(NC(=O)c2cc(C(F)(F)F)nn2-c2ncccc2Cl)c(C)cc2ncccc12', 'C/N=C(\\\\NCCCCn1ccnc1C)N1CCN(c2ccccc2Cl)CC1.I', 'C=CCN(C(=O)C1N(CCO)C(=O)[C@@H]2[C@@H](C(=O)OCC)[C@@H]3SC12CC3Br)C(C)CCC', 'C[C@@H]1C[C@H]2[C@@H]3C[C@H](F)C4=CC(=O)C=C[C@@]4(C)[C@H]3[C@@H](O)C[C@]2(C)[C@@]1(O)C(=O)COP(=O)([O-])[O-].[Na+].[Na+]', 'CC(C)CCN(CC(=O)N1CCc2sccc2[C@@H]1COc1ccc(Cl)cc1)C(=O)c1cccs1', 'Cc1cccc(N(CC(=O)NCCCSCc2cccc(Cl)c2)S(=O)(=O)c2ccccc2)c1C', 'O=C(/C=C/c1ccc(O)c(O)c1)OC1C[C@](OC(=O)/C=C/c2ccc(O)c(O)c2)(C(=O)O)C[C@@H](O)[C@H]1O', 'COC[C@@H](C)COc1ccc(C(C)(C)c2cc(Cl)c(OC[C@@H](CCl)OC(C)=O)c(Cl)c2)cc1', 'CCOc1ccc([C@H]2/C(=C(\\\\O)c3ccc(Br)cc3)C(=O)C(=O)N2CCCN(C)C)cc1OC', 'Cc1noc(C)c1-c1ccc2c(c1)NC(=O)CN1CCN(S(=O)(=O)c3cccc(Cl)c3)C[C@@H]1CO2', '[C-]#[N+]/C(=C\\\\c1cc(/C=C(\\\\C#N)c2ccc(F)cn2)cc(/C=C(\\\\C#N)c2ccc(F)cn2)c1)c1ccc(F)cn1', 'COc1cc(C(=O)/N=c2\\\\sn(-c3ccc(Cl)cc3)nc2C(=O)N2CCCCC2)cc(OC)c1OC', 'O=C(CN1C(=O)N[C@@]2(CCCc3ccccc32)C1=O)Nc1cc(S(=O)(=O)N2CCCC2)ccc1Cl', 'O=C(/C=C/c1ccc(O)c(O)c1)OC(=O)[C@@]1(O)C[C@@H](O)[C@H](O)[C@H](OC(=O)/C=C/c2cccc(O)c2O)C1', 'Cc1c(Cl)c(C(F)(F)F)nn1CC(=O)N1CCC(C(=O)N2CCCC2)(c2ccc(Cl)cc2)CC1', 'Cc1ccc(C(O)c2ccc(C(c3ccc(C#C[Si](C)(C)C)cc3)c3ccc(Br)[nH]3)[nH]2)cc1', 'C=CCN(C(=O)C1N(CCO)C(=O)[C@@H]2[C@H](C(=O)OCC)[C@H]3SC12CC3Br)C(C)CCC', 'COC(=O)/C(O)=C(\\\\O)C(=O)OC.[C-]#[N+]C1=CCN=C1N.[C-]#[N+]C1=CCn2c1nc(C(=O)OC)c(O)c2=O', 'C/N=C(/NCc1nnc2n1CCCC2)NCC(C)(C)Cc1cccc(Cl)c1.I', 'C1CC[N-]CC1.Cc1cccc(Nc2ccc(O)cc2N)c1.S.[W]', 'FC(F)(F)c1cc(C2ON=C(c3ccco3)N2Cc2ccccc2-c2ccccc2)cc(C(F)(F)F)c1', 'CN(C)C(=O)[C@H](N)Cc1ccc(Oc2ccc(Nc3ccc(C(F)(F)F)cn3)cc2)cc1.Cl.Cl', 'CN(C(=O)CSc1ncnc2c1sc1nc(-c3ccco3)c3c(c12)CC(C)(C)OC3)c1ccccc1', 'Nc1n[nH]c(=S)s1.O=C(OCCCN1CCN(CCCO[N+](=O)[O-])CC1)c1ccc(S)cc1', 'COc1ccc2ncc(Cl)c([C@@H](O)CC[C@H]3CCN(CC#Cc4sccc4F)C[C@H]3C(=O)O)c2c1', 'CC(=O)NCC(=O)Nc1ccc(Br)cc1C(=C(F)B1OC(C)(C)C(C)(C)O1)c1ccccc1', 'COCC1C=C(C(N)=O)C2CN1C(=O)N2OS(=O)(=O)ON1C(=O)N2CC1C(C(N)=O)=CC2COC', 'CC[C@@H](CSSC[C@H](CC)NS(=O)(=O)c1ccc(C)cc1)NS(=O)(=O)c1ccc(C)cc1', 'CCCCCOc1ccc(Nc2nc(-c3ccc(Cl)cc3)c(-c3ccccc3)s2)cc1C(F)(F)F', 'CN1CCC(C(=O)NC(O)c2c(F)ccc(OCc3nc4cc(C(F)(F)F)cnc4s3)c2F)CC1', 'Cn1cnc2c(Cl)nc(N)nc21.Cn1cnc2c(N)nc(N)nc21.Nc1nc(Cl)c2[nH]cnc2n1', 'O=C1OC2(c3ccc(Nc4ccccc4)cc3Oc3ccc(Nc4cccc(Cl)c4)cc32)c2ccccc21', 'O[C@@H]1COC2C1OC[C@H]2Oc1nc2nc(-c3ccc(-c4ccc(-c5ncc[nH]5)nc4)cc3)c(Cl)cc2[nH]1', 'CCCOc1ccc(C(=O)N/N=C/c2cc(Cl)c(OCc3cccc(Cl)c3)c(OC)c2)cc1OC', 'C[N+]1(C)C2CC(OC(=O)C(COC(=O)Nc3ccccc3)c3ccccc3)CC1C1OC12.[Br-]', 'O=C(c1ccccc1)C1CC(Cl)CCN1CCN1c2ccccc2Sc2ccc(C(F)(F)F)cc21', 'CCN/C(=N\\\\Cc1ccc(OC)c(C(=O)OC)c1)NCc1cc(C(C)C)no1.I', 'CC(=O)NCCc1ccccc1-c1occ(C2CNC(C)CC2c2ccc(F)c(F)c2)c1Br', 'Cc1ccc(NS(=O)(=O)c2nnc(NC(=O)C(C)(C)C)s2)cc1S(=O)(=O)N1CCN(C)CC1', 'CCc1ccccc1N(CC(=O)NCCSCc1ccccc1Cl)S(=O)(=O)c1ccc(C)cc1', 'CC(C)N(Cc1ccccc1)S(=O)(=O)c1ccc(C(=O)Nc2nc(-c3ccc(C#N)cc3)cs2)cc1', 'Cc1ccc(S(=O)(=O)N(CC(=O)NCCCSCc2ccccc2C)c2cccc(Cl)c2)cc1', 'Cl.Clc1ccc(OCCCN2CCN(C3=Nc4cc(Cl)ccc4Nc4ccccc43)CC2)cc1', 'O[C@@H]1CO[C@H]2[C@@H]1OC[C@H]2Oc1nc2nc(-c3ccc(-c4ccc(-c5ncn[nH]5)cc4)cc3)c(Cl)cc2[nH]1', 'Cc1cc(C)c2nc(N3C(=O)C(=O)/C(=C(\\\\O)c4ccc(Cl)cc4)C3c3ccc(C(C)C)cc3)sc2c1', 'CCc1cnc(CN/C(=N\\\\C)NCCN2CCN(c3ncccn3)CC2)s1.I', 'CO/N=C(\\\\C(=O)N[C@@H]1C(=O)N2C(C(=O)[O-])=C(C[N+]3(C)C=C4CCCC4=C3)CS[C@H]12)c1csc(N)n1', 'COc1ccc(C(=O)[C@H](C)N(C(=O)c2ccc(Cl)cc2Cl)N2C(=O)[C@H]3C[C@H](C)CC[C@H]3C2=O)cc1', 'COC(=O)c1oc2cc(O[C@H]3O[C@H](CO)[C@@H](O)[C@@H](O)[C@H]3O)ccc2c(=O)c1-c1ccc2c(c1)OCCO2', 'COc1ccc(C2=C[C@@](c3ccc(OCCCC(F)(F)F)cc3)(C(F)(F)F)NC(=O)C2(F)C#N)cc1', 'C/N=C(/NCCc1ccc2c(c1)OCO2)N1CCN(C(=O)C2CCCO2)CC1.I', 'O=C(C[C@@H]1SC(N2N=C(c3ccccc3)C[C@H]2c2ccc(F)cc2)=NC1=O)Nc1ccc2c(c1)OCO2', 'COc1cccc(C(=O)Nc2cccc(SC(C(=O)Nc3ccc(C)c(Cl)c3)c3ccccc3)c2)c1', 'Cc1ccc(S(=O)(=O)N(CC(=O)NCCSCc2ccccc2C)c2cc(Cl)ccc2C)cc1', 'CCOC(=O)C1=C(N)N2C(=O)C(C)SC2=C(C(=O)OCC)C1c1c(C)nn(-c2ccccc2)c1Cl', 'C/N=C(\\\\NCc1ccc(CN(C)C)cc1)NCc1ccc(F)cc1CSC.I', 'CCN/C(=N\\\\Cc1c(C)nn(C)c1C)N1CCN(c2cccc(Cl)c2)CC1.I', 'CN(C)CCOc1cncc(-c2ccc3[nH]nc(-c4nc5nccc(-c6ccc(Cl)s6)c5[nH]4)c3n2)c1', 'O=C(NCc1cn[nH]n1)c1cc(NC(=O)c2cc(-c3ccccn3)c(F)cc2Cl)n(-c2ccccc2)n1', 'CCc1nncn1CCN/C(=N\\\\CCc1cccc(Cl)c1)NC1CCCC1.I', 'CC(C)(Cc1ccc(Cl)cc1)NC(=O)[C@H](CCC(=O)O)NC(=O)c1ccc(-c2ccc(F)cc2)s1', 'O=C(NC1NC(c2ccccc2)NS1)c1ccccc1NS(=O)(=O)c1ccc(-c2ccccc2)cc1', 'CC(C)(Cc1ccc(S(=O)(=O)c2ccc(OCC(=O)[O-])cc2)cc1)NC[C@H](O)c1cccc(Cl)c1', 'Cl.NC1C(=O)N2C(C(=S)OC(c3ccccc3)c3ccccc3)=C(CC3CCCCO3)CS[C@H]12', 'O=C(NCCOc1ccc2ccccc2c1)c1ccc([C@H]2SCC(=O)N2Cc2ccc(Cl)cc2)cc1', 'COc1ccccc1NC(=O)COc1ccccc1/C=C1/C(=O)NC(=O)N(c2ccc([N+](=O)[O-])cc2)C1=O', 'Cc1ccc(S(=O)(=O)N(CC(=O)NCCSc2ccc(Cl)cc2)c2ccc(C(C)C)cc2)cc1', 'Cn1cc(S(N)(=O)=O)cc1C(=O)N1CC2CN(C(=O)OCc3ccc(OC(F)(F)F)cc3)CC2C1', 'COc1cc(C2N=C(NC#N)Nc3nc(N)c(C#N)c(N)c32)ccc1Oc1ccc([N+](=O)[O-])cc1[N+](=O)[O-]', 'COc1cc(Oc2ccc(C)c(F)c2)ccc1N(c1ccncn1)S(=O)(=O)c1ccc2cnccc2c1', 'COCC(=O)Nc1ccc(N2C(=S)N[C@@H](c3ccccn3)[C@@H]2c2ccc(Sc3ccccc3)o2)cc1', 'O=C(NCc1ncn[nH]1)c1cc(NC(=O)c2cc(-c3ccccn3)c(F)cc2Cl)n(-c2ccccc2)n1', 'CCCCCN(SSN(CCCCC)S(=O)(=O)c1ccccc1)S(=O)(=O)c1ccccc1', 'FC(F)(F)c1cc(-c2c3ccccc3c(-c3ccc4ccccc4c3)c3ccccc23)cc(C(F)(F)F)c1', 'O=C(C=Cc1ccc(O)c(O)c1)OC(=O)[C@@]1(O)C[C@@H](O)[C@H](O)[C@@H](OC(=O)C=Cc2cccc(O)c2O)C1', 'CCCCN1C(=O)C(=O)/C(=C(/O)c2cc(Cl)c(OC)c(Cl)c2OC)C1c1cn(C)c2ccccc12', 'C=CCN(C(=O)C1(C)c2c(oc3ccc(Cl)cc3c2=O)C(=O)N1Cc1ccc(F)cc1)c1ccccc1', 'O=C(Cc1ccc(C(F)(F)F)c(F)c1)Nc1c(Cl)ccc2c1CCN(C(=O)/C=C/c1ccccc1)C2', 'CO.Cn1cc2c3c(c[nH]c3c1=O)CN(c1ncc(F)cc1F)c1cc(C=O)c(CS(C)(=O)=O)cc1-2', 'COc1cccc(C[C@@H](C(=O)NO)N2C=C(CNS(=O)(=O)c3ccc(-c4ccccn4)s3)NN2)c1', 'CC.Cc1ccccc1-c1c(O)c(CC(C)C)nn(Cc2ccc(Cl)cc2)c1=O.[CH3-].[Y]', 'C=CCc1cc(/C=c2\\\\sc3nc4cc(C)c(C)cc4n3c2=O)cc(OC)c1OCc1ccc(Cl)cc1', 'Cc1ccc(SCCCNC(=O)CN(c2cccc(Cl)c2C)S(=O)(=O)c2ccc(C)cc2)cc1', 'C=CCC(NC(=O)OCc1ccccc1)C(=O)N(CC(=C)Br)Cc1ccc(OC)cc1OC', 'COc1cc(/C=C2\\\\C(=O)NC(=O)N(c3ccc([N+](=O)[O-])cc3)C2=O)ccc1OCC(=O)Nc1ccccc1', 'CCOC(=O)c1ccc(NC(=O)C[C@H]2C(=O)N(c3cccc(Cl)c3)C(=S)N2CCNC(C)=O)cc1', 'O=c1c2ccccc2c(Cc2ccc(Cl)cc2)nn1C1CC[NH+](Cc2cccc[nH+]2)CC1.[Cl-].[Cl-]', 'CC1=C(C(=O)Nc2cc(C(=O)O)ccn2)C(c2ccccc2Cl)N=C(Nc2nc3cccc(C)c3o2)N1', 'Cc1cc(C)cc(S(=O)(=O)N(CP(=O)(O)O)c2ccc3c(c2)CCN3C(=O)Nc2cccnc2)c1', 'O=C(O)CCNC(=O)[C@H](Cc1ccc(-c2ccc(Cl)cc2)cc1)NCP(=O)(O)Oc1ccccc1', 'Cn1nnnc1SCCCc1cccnc1S(=O)c1ncccc1CCCSc1nnnn1C', 'O=C(C=Cc1cc(Cl)ccc1-n1cnnn1)N[C@@H](Cc1ccccc1)C(=O)Nc1cccc(C(=O)O)c1', 'C#CC#CC#CC#CC(=O)OCC(OC(C)=O)C(OC(C)=O)C(OC(C)=O)C(COC(C)=O)OC(C)=O', 'CSc1nc(N)nc(N[C@@H](CCCNS(C)(=O)=O)C(=O)Cc2cccc(C(F)(F)F)c2)c1C#N', 'CCOc1ccc(C(=O)N/N=C/c2cc(Cl)c(OCc3cccc(Cl)c3)c(OC)c2)cc1OCC', 'CC(=O)OCC1OC(n2cnc3c(Sc4ccc(C)cc4)nc(=O)[nH]c32)C(OC(C)=O)C1OC(C)=O', 'O=c1[nH]cnn1-c1ccc(-c2ccc(-c3nc4nc(OC5CO[C@@H]6CCO[C@H]56)[nH]c4cc3Cl)cc2)cc1', 'COc1ccc(C(=O)[C@H](C)N(C(=O)c2ccc(Cl)c(Cl)c2)N2C(=O)[C@H]3C[C@@H](C)CC[C@H]3C2=O)cc1', 'C/N=C(\\\\NCc1c(C)nn(C)c1C)N1CCN(Cc2cccc(Cl)c2)CC1.I', 'O=C(CCN(/N=C/c1cc2c(cc1Cl)OCO2)C1=NS(=O)(=O)c2ccccc21)NC1CCCCC1', 'COC(=O)C1CN(C(=O)Oc2ccc(C[C@H](NC(=O)c3ccccc3Cl)C(=O)O)cc2)CC(C)C1=O', 'COc1cc(OCc2cccc(-c3ccc(F)c(C)n3)c2)c2cc(-c3cn4nc(OC)sc4n3)oc2c1', 'COc1ccc2ncc(Cl)c([C@@H](O)CC[C@H]3CCN(CC#Cc4cc(F)cs4)C[C@H]3C(=O)O)c2c1', 'O=C(CNC(=O)C(c1nc2ccc(-c3cncnc3)cc2s1)S(=O)(=O)N1CCOCC1)NC1CC1', 'O=S(=O)(c1ccc(F)c(C(F)(F)F)c1)N1CCN(c2ccc(-c3cccc4ccccc34)nn2)CC1', 'COC(=O)C1[C@H](c2cc(OC)c(OC)c(OC)c2)OC(=O)C1(C(=O)OC)C(=O)c1ccc2c(c1)OCO2', 'C=CCN(CCCC)C(=O)C1N([C@H](C)CO)C(=O)[C@@H]2[C@@H](C(=O)OCC)[C@@H]3SC12CC3Br', 'Cc1nc(-c2ccc(CN3C(=O)[C@@H](N)CS(=O)(=O)c4ccc(C(=O)CC5CC5(F)F)cc43)cc2)no1', 'O=C(COc1cc(O)c2c(=O)c(-c3ccc4c(c3)OCCO4)coc2c1)N[C@@H](Cc1ccccc1)C(=O)[O-]', 'O=C(NC(Cl)Cc1ccc(Cl)cc1)c1ccc(N2CCCNCC2)c(Nc2cccc(Cl)c2)c1', 'Cc1ncc(Oc2nc(S(C)(=O)=O)nc3[nH]c4c(NC(=O)OC(C)(C)C)cc(F)c(C=O)c4c23)cn1', 'COc1ccc(C(=O)Nc2cccc(SC(C(=O)Nc3cc(Cl)ccc3C)c3ccccc3)c2)cc1', 'Cc1ncc(-c2nn([C@H](C)c3nc4ccc(F)cn4c(=O)c3-c3cccc(F)c3)c3ncnc(N)c23)s1', 'O=C(C[C@@H]1CC[C@@H](c2nnc(C3CC(OC(F)(F)F)C3)o2)OC1)[C@@H]1C[C@H](O)c2cc(Cl)ccc2O1', 'O=C(/C=C/c1ccc(O)c(O)c1)O[C@@H]1C[C@@H](O)[C@H](O)[C@H](OC(=O)/C=C/c2ccc(O)c(O)c2)C1.O=C=O', 'CCOC(=O)N1CCN(CC2=CC(C)(C)N3C(=O)/C(=C4\\\\SC(=S)NC4=O)c4cc(F)cc2c43)CC1', 'c1ccc(-c2cc(-n3c4ccccc4c4ccccc43)nc3c2oc2c3ccc3c4ccccc4sc32)cc1', 'Cc1ccc(S(=O)(=O)N(CC(=O)NCCSCc2ccccc2Cl)c2ccc(C)c(C)c2)cc1', 'C=CCOc1ccc(C([O-])=C2C(=O)C(=O)N(CC[NH+]3CCOCC3)C2c2ccc(Cl)c(Cl)c2)cc1', 'CC(C)C(=O)Nc1cncc(-c2cnc3n[nH]c(-c4nc5nccc(-c6ccc(F)s6)c5[nH]4)c3c2F)c1', '[H]/N=C(\\\\c1ccc(N2CCN(C)CC2)nc1)c1ccc(/C=C2/C(=O)Nc3ccc(Br)cc32)cc1N', 'C/N=C/C1=C(N)CC2c3ccc(-c4ccc(F)cc4)cc3C1N2S(=O)(=O)c1ccc(C(F)(F)F)nc1', 'COc1cccc(-n2c(SCC(=O)Nc3ccc(C#N)cc3)nc3sc4c(c3c2=O)CCCCC4)c1', 'FC(F)(F)c1ccc(-c2cc3cc(-c4ccc(C(F)(F)F)cc4)c4ccccc4c3c3ccccc23)cc1', 'COc1ccc(C(O)CN2CCN(C(c3ccc(F)cc3)c3ccc(F)cc3)CC2)cc1Br', 'Cc1cc(C)n(-c2cc(Oc3ccc(NC(=O)Nc4ccc(Cl)c(C(F)(F)F)c4)cc3)nc(C)n2)n1', 'CC(=O)O.NC1=NC(c2ccncc2)(c2cccc(-c3cc(Cl)cnc3F)c2)C2=NCC(F)(F)CN12', 'CCOC(=O)c1cc(C#Cc2ccc(-c3cc4c(=O)n(C)oc4c4ccccc34)nc2)cc(C(F)(F)F)c1', 'CCN1C(=O)[C@@H]2[C@@H](c3ccc(-c4ccc(Cl)c(Cl)c4)c(OC)c3)N3CCC[C@@]3(C(=O)OC)[C@@H]2C1=O', 'CCOC(=O)c1ccc(NC(=O)CSc2nc3c([nH]c4ccccc43)c(=O)n2-c2ccc(F)cc2)cc1', 'CO/N=C(\\\\C(=O)NC1C(=O)N2C(C(=O)O)=C(C[C@]34C#CC[C@H](CC3)N4C)CS[C@H]12)c1csc(N)n1', 'CC(C)(Cc1ccc(F)cc1)N(C(=O)c1ccc(-c2ccc(Cl)cc2)s1)[C@@H](CCC(=O)O)C(N)=O', 'CCN(CC)CCN1C(=O)C(=O)/C(=C(\\\\O)c2ccc(OC)c(Br)c2)C1c1ccc(OC)cc1', 'CCOc1ccc(/N=C(\\\\SCC(=O)Nc2ccc(C)c(Cl)c2)c2c(O)n(C)c(=O)n(C)c2=O)cc1', 'c1ccc(-c2ccc3c(c2)c2c4ccccc4ccc2n3-c2nc3c(ccc4sc5ccccc5c43)o2)cc1', 'CCc1nncn1CC/N=C(/NC1CCCC1)N(C)Cc1cccc(Cl)c1.I', 'C[N+]1(CCCC(=O)c2ccc(F)cc2)CC[C@@H](OC(=O)C(OC=O)(c2cccs2)c2cccs2)C1', 'CC(=O)NCCNC(=O)Cc1nccc2nn(Cc3cnc(OCC(F)(F)C(F)F)c(Cl)c3)cc12', 'C[C@H](N)C(=O)N1CCC(CCn2c(Sc3nc4cccc(Cl)c4s3)nc3c(N)ncnc32)CC1', 'Cc1c2cc(Nc3nc(=O)n(-c4cncc(Cl)c4)c(=O)n3Cc3ccc(F)c(C#N)c3)ccc2nn1C', 'CCN/C(=N\\\\Cc1cn2cc(Cl)ccc2n1)NC1CCN(C2CCCC2)C1.I', 'COc1ccc(C(=O)Nc2cccc(SC(C(=O)Nc3ccc(C)c(Cl)c3)c3ccccc3)c2)cc1', 'O=C(OC(C(F)(F)F)C(F)(F)F)N1CCN(Cc2cccc(Cl)c2C2(C(=O)O)CCCC2)CC1', 'COC(=O)Cc1cccc(C(c2ccc(Cl)cc2)N2CCN(S(=O)(=O)c3ccc(F)cc3)CC2)c1', 'CN(C)CCN(C(=O)c1cc(-c2cccs2)nc2ccccc12)c1nc2cc3c(cc2s1)OCCO3', 'CCOc1cc(/C=C2\\\\C(=O)NC(=O)N([C@H](C)C34CC5CC(CC(C5)C3)C4)C2=O)cc(Br)c1O', 'Cc1ccc(-c2cc3c(cc2Sc2nc4c(N)ncnc4n2CCNS(=O)(=O)C(C)C)OCO3)o1', 'FC(F)(Cn1cc(-c2ccccc2)nn1)C(F)(F)C(F)(F)C(F)(F)Cn1cc(-c2ccccc2)nn1', 'CS(=O)(=O)Oc1ccc(OCCc2ccc(CC(SCCc3ccc(O)cc3)C(=O)O)cc2)cc1', 'Cc1cn([C@@H]2C[C@H](O)[C@@H](CNC(=S)Nc3ccc(OCc4ccc(Cl)cc4)cc3)O2)c(=O)[nH]c1=O', 'COC(=O)c1cc(NC(=O)COC(=O)C2CCN(C(=O)c3ccc(Cl)cc3)CC2)cc(C(=O)OC)c1', 'CCOCCCN(CC(=O)N1CCc2sccc2C1c1ccc(Cl)cc1)C(=O)Cc1cccs1', 'C=C(CCl)C(C(=O)OC(c1ccccc1)c1ccccc1)N1C(=O)C2N=C(Cc3ccccc3)SC21', 'CC(=O)Nc1cccc(O)c1OCC(CN1CCC(Oc2ccc(Cl)cc2)C1)OC(=O)C(F)(F)F', 'COc1cc2c(c3c(CO)cc4c(c13)C(C)(C)c1cc(C)sc1-4)C(C)(C)c1c-2sc2cc(C)sc12', 'COC(=O)[C@H]1Cc2c([nH]c3ccccc23)[C@H](c2ccc(C(=O)OC(C)(C)C)cc2)N1C(=O)C(Cl)Cl', 'COc1c(Cl)ccc(C(Nc2cccc3nc(C)ccc23)C(O)(CSC(C)C)C(F)(F)F)c1F', 'C/N=C(/NCc1cc(N(C)C)nc2ccccc12)NCc1nnc2ccccn12.I', 'COc1ccc(C(=O)CSc2nnc3n(-c4ccccc4)c(=O)c4c5c(sc4n23)C[C@@H](C)CC5)cc1', 'CC(=O)Nc1ccc(C(=O)NC(C)C(=O)N2CC(F)(F)CC2C(=O)NC(C=O)CC(=O)O)cc1Cl', 'CCc1ccc2nc(N3C(=O)C(=O)/C(=C(/O)c4ccc(Cl)cc4)C3c3ccc(C(C)C)cc3)sc2c1', 'COc1ccc(/C=C(\\\\NC(=O)c2ccc(Br)cc2)C(=O)N2CCCC(C)C2)c(OC)c1OC', 'CCc1c(S(=O)(=O)CC)cc2c(c1CC)C(F)(F)C(F)(F)c1ccccc1C2C(C(=O)O)C(=O)O', 'CO/N=C(/C(=O)N[C@@H]1C(=O)N2C(C(=O)O)=C(CN3C=CC=C4CCCC43)CS[C@H]12)c1csc(N)n1', 'CCOC(=O)C1=C(CSc2nc3ccccc3c(=O)n2-c2ccc(OC(F)F)cc2)NC(=O)N[C@@H]1C', 'Cc1ccc(CSCCNC(=O)CN(c2cc(Cl)ccc2C)S(=O)(=O)c2ccc(C)cc2)cc1', 'COc1ccc(C(=O)[C@H](C)N(C(=O)c2ccc(Cl)cc2Cl)N2C(=O)[C@H]3C[C@@H](C)CC[C@H]3C2=O)cc1', 'CC(=O)c1ccc(NC(=O)c2ccc(CSc3nnc(NC(=O)CCc4ccccc4)s3)cc2)cc1', 'C=N[N+](N)(CCOc1cc(C)cc(OS(=O)(=O)c2cc(Cl)ccc2OC)c1)/N=N/C.CC(=O)O', 'CC(C)n1cnnc1-c1cccc(NC(=O)c2cc(NC(=O)c3ccc(F)c(F)c3)ccc2F)n1.Cl', 'C=CCN(CCCC)C(=O)C1N(CCCCCO)C(=O)[C@@H]2[C@@H](C(=O)O)[C@@H]3SC12CC3Br', 'CCc1nncn1CCN/C(=N\\\\C)NCC1(c2ccc(Cl)cc2)CCCC1.I', 'CS(=O)(=O)N1CCC(Cn2cc(-c3cn(S(=O)(=O)c4ccccc4)c4cc(F)ccc34)cn2)CC1', 'O=C(Nc1oc(-c2ccc(-c3cccc4ccccc34)cc2O)nc1-c1cccc(Cl)c1)c1ccccc1', 'COc1ccc(CC(C)(C)NC[C@@H](O)COc2ccc(S(=O)(=O)NC3C(Cl)C3Cl)cc2)cc1', 'CCCCN(SSN(CCCC)S(=O)(=O)c1cccc(C)c1)S(=O)(=O)c1cccc(C)c1', 'CC(=O)O[C@@H]1[C@@H](Oc2c(-c3ccc(O)cc3)oc3cc(O)cc(O)c3c2=O)O[C@H](C)[C@@H](OC(C)=O)[C@@H]1O', 'CC(C)(Cc1ccc(F)cc1)N(C(=O)c1ccc(-c2ccc(Cl)s2)cc1)[C@@H](CCC(=O)O)C(N)=O', 'CCOC(=O)[C@H](Cc1ccc(-c2c(OC)cccc2OC)c(N)c1)NC(=O)c1c(Cl)cccc1Cl', 'CCOc1ccc([C@@H]2C(=C(O)c3ccc(Br)cc3)C(=O)C(=O)N2CCCN(C)C)cc1OC', 'O=C(NCCOc1cccc2ccccc12)c1ccc(C2SCC(=O)N2Cc2ccc(Cl)cc2)cc1', 'CN(Cc1cccc(Cl)c1)c1nc(-c2ccc(NC(=O)Nc3ccccc3Cl)cc2)cn2ccnc12', 'COC(=O)c1cc2c(OCCCc3ccccc3NC(=O)OC(C)(C)C)ccc(Br)c2n1C', 'c1ccc2cc(-c3cc4nc(-n5c6ccccc6c6ccccc65)sc4c4c3oc3ccccc34)ccc2c1', 'COc1ccc(-n2c(=O)c3c4c(sc3n3c(SCC(=O)c5ccccc5)nnc23)C[C@@H](C)CC4)cc1', 'Cc1ccc(S(=O)(=O)N(CC(=O)NCCCSc2ccc(Cl)cc2)c2ccc(C)cc2C)cc1', 'Cl.O=c1ccc2ccc(OCCCCN3CCN(c4cccc(Cl)c4C(F)(F)F)CC3)nc2[nH]1', 'Cc1ccc(S(=O)(=O)N(CC(=O)NCCCSCc2ccccc2)c2ccc(Cl)cc2C)cc1', 'CCCCOc1c(Cl)cc(C(C)(C)c2ccc(OC(F)(F)C(=O)CC(=O)OCC)cc2)cc1Cl', 'Cn1nc(C(F)(F)F)c(C(=O)NC2(c3ccc(N(O)O)cc3)CC2)c1Oc1ccc(C(F)(F)F)cc1', 'COC(=O)c1cccnc1NC(=O)Nc1cc2c(cc1F)OC(F)(F)C(=O)N2Cc1ccc(OC)cc1', 'Cc1ccc(C(=O)N2CCSC23CCN(C(=O)c2cc(C(F)(F)F)cc(C(F)(F)F)c2)CC3)cc1', 'CCN(CC)CCCN1C(=O)C(=O)/C(=C(/O)c2cc(Br)ccc2O)C1c1ccc(OC)cc1', 'CCCCN1C(=O)c2oc3ccc(F)cc3c(=O)c2C12C(=O)N(Cc1ccc(Cl)cc1)c1ccccc12', '[H]/N=C(\\\\C1=C(NS(=O)c2ccc(C)cc2)CNC=C1Cl)N1CCN(c2ccc(Cl)cn2)CC12CC2', 'c1ccc2c(c1)oc1ccc(-c3ccc4c(c3)c3ccccc3n4-c3ccc4sc5ncccc5c4c3)cc12', 'Cc1cc(C(=O)Nc2cccc(OCc3ccc(F)cc3Cl)c2)c(C)n1-c1ccccc1C(F)(F)F', 'CN1CCC(NP(=O)(OCC2OC(n3ccc(=O)[nH]c3=O)C(F)(F)C2O)Oc2ccccc2)C1=O', 'Cc1ccc(S(=O)(=O)N(CC(=O)NCCCSc2ccc(Cl)cc2)c2cc(C)ccc2C)cc1', 'COC(=O)C1=C(C(=O)OC)N(c2cc(OC(F)(F)F)ccc2C(N)=O)C(N)=C(C#N)C1c1ccccc1', 'O=C(c1cccc(C2=NC3(CCN(S(=O)(=O)c4cccc(Cl)c4)CC3)C(=O)N2)c1)N1CCOCC1', 'CCc1cc(C)cc(P(=O)(OC)c2c(C(=O)NCc3ccc[n+](O)c3)[nH]c3ccc(Cl)c(F)c23)c1', 'C#CCN(c1ncnc2c(C(F)(F)F)cc(C(F)(F)F)cc12)C(C)c1ncnn1-c1ccc(C#N)cn1', 'CCOc1cc(C=C2C(=O)NC(=O)N(C3CCCCC3)C2=O)ccc1OCc1ccc(Cl)c(Cl)c1', 'CCCC#CC(=O)N(c1ccccc1I)C(C(=O)NC(C)(C)C)c1ccc(C)cc1', 'Cc1cc(OCC(=O)NN2C(=O)C(CC(=O)O)SC2c2cccc([N+](=O)[O-])c2)c(C(C)C)cc1N=O', 'COc1cccc(NC(=O)CSC2=C(C#N)C(c3cccs3)C(C(=O)Nc3ccccc3)=C(C)N2)c1', 'C/N=C(/NCCCN1CCN(c2ncccn2)CC1)NCc1ncc(C)s1.I', 'Cl.O=C(NN1CCCCC1)c1nn(-c2ccc(Cl)cc2Cl)c2c1CCc1cc(C3CC3)ccc1-2', 'O=C(/C=C/C=C(c1ccc(C(F)(F)F)cc1)c1ccc(C(F)(F)F)cc1)Nc1cccc2c1C(=O)NC2', 'O[C@@H]1COC2C1OC[C@H]2Oc1nc2nc(-c3ccc(-c4ccc(-c5ncn[nH]5)cc4)cc3)c(Cl)cc2[nH]1', 'O=C(Cc1ccccc1)CS(=O)(=O)c1cn(Cc2cccc(-c3cccnc3)c2)c2cc(F)cc(F)c12', '[2H]C([2H])(O[P@](=O)(C[C@@H](C)C(=O)OC)Oc1ccccc1)[C@H]1O[C@@H](n2ccc(=O)[nH]c2=S)C(C)(O)[C@H]1O', 'C=C1CN2CCc3c(n(C(=O)OC(C)(C)C)c4cc(OC)ccc34)[C@H]2C/C1=C(\\\\Br)C(=O)OC', 'COC(=O)c1csc(NC(=O)C(CC2CCOCC2)N2C(=O)NC(c3ccc4c(c3)OCO4)C2=O)n1', 'Cc1cc(C)c2nc(N3C(=O)C(=O)/C(=C(/O)c4ccc(Cl)cc4)C3c3ccc(C(C)C)cc3)sc2c1', 'CC(C)(C)OC(=O)CC(=O)OC1CCC(NC(=O)c2noc(-c3ccc(C(F)(F)F)cc3)c2Cl)C1', 'C=CC(N)=Cc1ccc(/C(=C2/C=CC(C=C3C=CC(C(=[Zn])c4ccccc4)=N3)=N2)c2ccccc2)[nH]1', 'CCN/C(=N\\\\CCN1CCS(=O)(=O)CC1)N1CCCC(C(=O)OCC)C1.I', 'O=C(/C=C/c1ccccc1)N1CCCC(c2cc(NCc3cccnc3)n3ncc(Br)c3n2)C1', 'O[C@@H]1COC2[C@H](Oc3nc4nc(-c5ccc(-c6ccc(-n7cccn7)nc6)cc5)c(Cl)cc4[nH]3)CO[C@@H]21', 'O=C1S/C(=C\\\\c2cn(CCCOc3ccccc3Cl)c3ccccc23)C(=O)N1CCc1ccccc1', 'COc1ccc(-c2coc3cc(OC4OC(COC(=O)CC(=O)O)C(O)C(O)C4O)ccc3c2=O)cc1', 'Cc1sc(-c2ccccc2)nc1-c1cc2nccc(N[C@@H]3C[C@H](COS(N)(=O)=O)[C@@H](O)[C@H]3O)n2n1', 'COc1ccccc1-c1cc(-c2cn(S(=O)(=O)c3ccccc3)c3ncccc23)nc2c(C#N)cccc12', 'C#C[C@H](N)c1oc(-c2ccc(OC)c3nc(C(F)(F)F)ccc23)nc1C(=O)NCc1ccc(F)c(F)c1', 'Cc1ccc(NC(=O)C(Sc2ccc(NC(=O)COc3ccccc3)cc2)c2ccccc2)cc1Cl', 'C[C@@]1(c2cc(=O)c(Cl)c[nH]2)C(=O)Nc2nc(-c3cn4ccnc4c(Cc4ccc(F)cc4)n3)nc(N)c21', 'CCOc1ccc(OCC)c(N/C(N)=N/CCCNC(=O)c2occc2C)c1.I', 'Cc1nc(N2CCC3(CC2)Cc2ccncc2[C@H]3N[S@](=O)C(C)(C)C)c2ccnn2c1Br', 'COc1n[nH]c2cc(OCCNCC(O)c3cccc(NS(=O)(=O)c4cccc(Cl)c4)c3)ccc12', 'CCCCN(NC(=O)C1=NN(c2ccc(Cl)cc2Cl)C(c2ccc(Cl)cc2)C1)C1=CCCC=C1', 'Cc1cccc2c(CCCN3CCCCC3)c(COc3ccc(Cl)cc3Cl)n(C)c12.Cl.Cl', 'CCOc1ccc(-n2c(SCC(=O)Nc3ccccc3C(F)(F)F)nnc2-c2ccc(F)cc2)cc1', 'CCCOc1ccc(N2C[C@H](C(=O)OCC(=O)Nc3c(C)cc(Br)cc3CC)CC2=O)cc1', 'C=Cc1cc(OCCCCCCCCBr)cc(OCCCCCCCCBr)c1', 'O[C@@H]1CO[C@H]2C1OC[C@H]2Oc1nc2nc(-c3ccc(-c4ccc(-n5cccn5)cn4)cc3)c(Cl)cc2[nH]1', 'CCN(CC)CCN1C(=O)C(=O)C(=C(O)c2ccc(Br)cc2)C1c1ccc(OC)c(OC)c1', 'CCN/C(=N\\\\CC1CCS(=O)(=O)C1)N1CCC(NC(=O)OC(C)(C)C)C1.I', 'Cc1ccc(-n2c(C)cc(/C=C3\\\\SC(=O)N(CCOc4cccc5ccccc45)C3=O)c2C)cc1Cl', '[H]/N=C1C(=C/c2ccc(OCCCOc3ccc(C)cc3C)cc2)/C(=O)N=C2SC(c3cccs3)=NN2/1', 'Cc1cc(COc2ccc(C(=O)NC3CNC(=O)NC3=O)c(OC(=O)C(F)(F)F)c2)c2ccccc2n1', 'Cc1ccc(OCCCn2cc(/C=C3\\\\SC(=O)N(Cc4ccccc4Cl)C3=O)c3ccccc32)cc1', 'O=C(Cc1ccc(C(F)(F)F)c(F)c1)Nc1c(Cl)ccc2c1CCN(C(=O)C=Cc1ccccc1)C2', 'CCc1cccc2c(/C=C3\\\\SC(=O)N(CCOc4ccccc4)C3=O)cn(Cc3ccc(Cl)cc3)c12', 'COCCN(CC(=O)N1CCc2sccc2C1COc1ccc(F)cc1)C(=O)c1ccccc1Cl', 'Cc1ccc(S(=O)(=O)N(SSN(C(C)(C)C)S(=O)(=O)c2ccc(C)cc2)C(C)(C)C)cc1', 'O=C(CN1C(=O)NC2(CCCc3ccccc32)C1=O)Nc1cc(S(=O)(=O)N2CCCC2)ccc1Cl', 'O=C(C=Cc1ccc(O)c(O)c1)OC1C(O)CCC(OC(=O)C=Cc2ccc(O)c(O)c2)(C(=O)O)C1O', 'CCCOc1ccc(C(=O)C(Cc2ccc3nc[nH]c3c2)=C(C(=O)O)c2ccc3nsnc3c2)cc1F', 'C[C@H]1C(=O)O[C@@H]2CC[N+]3([C@@H]2C(=CC3)COC(=O)[C@]([C@]1(C)O)(C)O)[O-]', 'COc1ccc(CCNC(=O)Cn2cnc3c2ncc(=O)n3C)cc1', '[H]/N=c1\\\\ccn(CC2(O)CCN(C(=O)OC(C)(C)C)CC2)c(Cl)c1', 'Cc1cc(-c2cc(C(=O)N3[C@@H]4CC[C@H]3CC(C(=O)O)C4)[nH]n2)ncn1', 'COc1ccnc(N2C[C@@H]3OCC(=O)N(Cc4ccccn4)[C@@H]3C2)n1', 'CCc1nc(N)nc(N)c1OCc1cc(-c2ccc(OC)cc2)no1', 'Cc1cc(C)n2nc(CC(=O)N3CCCC(C(F)(F)F)C3)nc2n1', 'CCOC(=O)c1cnn2ccc(N[C@H](C)c3cccnc3OC)nc12', 'O=C(c1csc2c1CCCC2)N1CCC(O)(c2ccccc2)CC1', 'Cc1ccc([C@@H]2CN(C(=O)NCc3nnc4ccccn34)CCO2)o1', 'Cc1ccc(OCC(=O)N(CC2CCCS2)c2ccccc2)cc1', 'CCCCCC(O)c1ccc(COc2ccnc3ccccc23)s1', 'O=C(O)NCc1cc(N2CCC(C(=O)Nc3ccccc3)C2)ncn1', 'COc1ccc(B2OC(C)(C)C(C)(C)O2)cc1S(=O)(=O)N(C)C', 'CC(C)(C)OC(=O)N[C@H]1c2ccccc2C[C@@H]1Sc1ccccc1', 'CC(C)(C)OC(=O)N1CCCC[C@H]1CCOc1nccc(Cl)n1', 'COc1cc2cc(C(=O)N3CCn4ncnc4C3)n(C)c2cc1OC', 'CN(C(=O)OC(C)(C)C)C1COCCN(c2cnccc2Cl)C1', 'CCOc1cc(N)c(Cl)cc1C(=O)OC1CN(C)CCN(C)C1', 'C[C@@H]1CN(C(C)(C)CNc2ccc([N+](=O)[O-])cc2Cl)C[C@H](C)O1', 'Cc1cccc(C)c1N(C(=S)Cc1ccccc1)C(C)(C)C(=O)O', 'CC(C)(C)OC(=O)NC1(C(=O)NN)c2cccnc2-c2ncccc21', 'CC(=O)C1(Sc2cccc(Oc3ccccc3)c2)CCN(C)CC1', 'C=C[C@@H]1[C@H](Cc2ccccc2)N1S(=O)(=O)c1c(C)cc(C)cc1C', 'C/C1=C/CN(S(=O)(=O)c2ccc(C)cc2)Cc2ccccc2CC1', 'Cc1nc(C)c(C(=O)Nc2cccc(C3CC(=O)N(C)C(N)=N3)c2)o1', 'CCOC(=O)C[C@@H]1C=CN(C(=O)OC(C)(C)C)C(=O)C1C(=O)OC', 'COc1ccc(F)cc1C[S@@](=O)CC(=O)NC1CCC(C)CC1', 'C[C@H]1C[C@@H](C(=O)NCCNC(=O)c2ccc(O)cc2)CCN1.Cl', 'Cc1nc(C(=O)Nc2cccc(C3(C)CC(=O)N(C)C(N)=N3)c2)co1', 'C=CCN[C@H](c1ccc(C)cc1)[C@H](C=C)S(=O)(=O)c1ccccc1', 'COc1cccc(-c2cn3nc(CO)nc3c(N3CCOCC3)n2)c1', 'COc1cc(B2OC(C)(C)C(C)(C)O2)cc(NS(C)(=O)=O)c1C', 'NC(=O)c1nccnc1N1CCCN(C(=O)Oc2ccccc2)CC1', 'COCC(N)C(=O)NCc1ccc(CN2CCCC2=O)cc1.Cl', 'CC(C)(C)NC(=O)c1ccc(NC(=O)C2CC(O)CN2)cc1.Cl', 'C/N=C(\\\\NCCCSC)NC1CCN(c2ncccc2Cl)C1', 'CCNC(=O)[C@@H]1CCN(c2nccc(-c3cc(C(=O)O)ccn3)n2)C1', 'O=C(O)Cn1nc(-c2c[nH]c3ccccc23)nc1C[C@H]1COCCN1', 'Fc1ccc(CCNc2cnnc(NCc3ccccc3F)n2)cc1', 'O=C(O)c1ccc(CNCC2(Sc3ccccc3)CCCC2)cc1', 'O=C(NCc1ccc(N2CCCC2=O)cc1)[C@H]1CC=CC[C@H]1C(=O)[O-]', 'CC[C@@H]1CCCCN1C(=O)c1ccc(-c2ccsc2C(C)=O)cc1', 'CC(C)S(=O)(=O)CC1CCN(C(=O)Cc2cccc(F)c2)CC1', 'Cc1cc(C(F)(F)F)nn1CCNc1cc([C@@H]2CCOC2)ncn1', 'Cc1ccc(C(=O)CCC(=O)NCC2(c3ccccc3)CCC2)s1', 'CCc1nn(CC)c(CC2(N)CCC(CC)CC2)c1Br', 'Cc1nn(C)c(C)c1C(=O)C(=O)Nc1ccc(N2CCNC2=O)cc1', 'CCc1nn(CC)c(CC(C)(C)CCNC2CC2)c1Br', 'OC1c2ccccc2Sc2cc(OCCN3CCCCC3)ccc21', 'CN1C(=O)NC2(CCN(C(=O)Cc3[nH]nc4ccccc34)CC2)C1=O', 'O=C(c1ncccc1O)N1CCc2c(ncnc2N2CCOCC2)C1', 'COc1ccc(C2CCCCCN2C(=O)/C=C/c2cccs2)cc1', 'Cl.O=C(COCC1CCOC1)N1CCNCC1c1cccnc1', 'Cc1nnc([C@H]2CN(C(=O)[C@@H](C)n3cnc4ccccc43)CCO2)o1', 'Cc1nn(C)c(Cl)c1CC(=O)C1CCN(C(=O)OC(C)(C)C)C1', 'COc1cc(C(NC(=O)OC(C)(C)C)C(=O)O)cc(OC)c1OC', 'Cc1cccc(C[S@@](=O)CC(=O)NCC2(c3ccccc3)CC2)c1', 'Fc1cccc(F)c1Nc1nncc(NCCCc2ccccc2)n1', 'C=CCOC(=O)NCCOCC[N+](C)(C)CCOP(=O)(O)O', 'COc1cccc(CNCC2CCCO2)c1OC.O=C(O)C(=O)O', 'O=C(Nc1ccc2c(c1)OCO2)Nc1cc(N2CCCCC2)ncn1', 'COc1ccc(C)c(-n2c(N)c(C(N)=O)c3[nH]c(=O)c(C)nc32)c1C', 'Cc1cnc(-c2nc3c(c(=O)[nH]2)CCN(C(=O)[C@H]2CCOC2)C3)cn1', 'COC(=O)c1c(N)c(C#N)cn1-c1cccc(NC(=O)CN(C)C)c1', 'CC1CCNCC1NC(=O)CNC(=O)COc1ccccc1.Cl', 'CCCC(=O)OC(C)c1ccc2c(c1)Sc1ccccc1N2CC', 'CC(C)c1nnc(C2COCCN2C(=O)c2cccc3nccn23)o1', 'Cc1noc(C)c1CNC(=O)c1nc(-c2ccc(N(C)C)cc2)no1', 'CCN(Cc1ccccc1)c1nncc(Nc2ccc(F)cc2F)n1', 'C/C(=N\\\\NC(=S)NCC[NH+]1CCOCC1)c1cc(F)ccc1O', 'CCCC[N+](CCCC)(CCCC)CCCCl.[Br-]', 'COC(=O)c1ccccc1OCC(O)Cn1c[n+](C)c2ccccc21', 'O=C(NC[C@@H]1CCCO1)c1ccc(CSCc2ccccc2)cc1', 'CCCOc1ccccc1NC(=O)Cn1cnc2c(cnn2C)c1=O', 'CC(C)c1nc(CN(C)C(=O)c2cc(=O)n(-c3ccccc3)[nH]2)no1', 'CC(C)(C)c1ccccc1OCC(=O)Nc1nc2nc[nH]c2c(=O)[nH]1', 'CC1CCC(C(=O)O)CN1Cc1ccc(Sc2ccccc2)cc1', 'CC1(C)CN(C(=O)c2ccc(SCc3ccccc3)cc2)CCO1', 'CCCS(=O)(=O)NCC1CC2c3ccccc3C1c1ccccc12', 'CCCCn1nc(C)c(/C=C/C(=O)O[C@@H](C)C(=O)NCC)c1Cl', 'Cn1c([C@@H]2CCCN2C(=O)CN2C(=O)CNC2=O)nc2ccccc21', 'CC(C)C(=O)OCC1(OC(=O)On2c(O)ccc2O)CCCCC1', 'CC(=O)NCCc1ccc(OC2OC(CO)C(O)C(O)C2O)cc1', 'Cc1cc([N+](=O)[O-])ccc1NC(=O)NC1CCN(c2ccccn2)C1', 'Cc1cc(C[C@@H]2COC[C@@H]2NC(=O)c2cnc3cnn(C)c3c2)on1', 'Cc1nc(-c2cccc(C(=O)NCC(C)(O)c3cnn(C)c3)c2)no1', 'O=C(NCCS(=O)Cc1ccccc1)C1(c2ccccc2)CCC1', 'CC1NC(=O)N(c2ccccc2NC(=O)CCc2ccnn2C)C1=O', 'CCCCCc1ccc(C(=O)C/C(=C/c2cccs2)C(N)=O)cc1', 'N#Cc1ccc2ncc(=O)n(CCN3CCC(NC(=O)O)CC3)c2c1', 'COc1n[nH]c2cc(NC(=O)NC(CO)c3ccccc3)nc(C)c12', 'Cc1nnc([C@@H]2COCCN2C(=O)[C@H](C)n2cnc3ccccc32)o1', 'Nc1nc2nc3c1[nH]c(=O)n3CCc1cccc(c1)OCCCCO2', 'CCS(=O)(=O)Nc1ccc(B2OC(C)(C)C(C)(C)O2)c(OC)c1', 'CCn1c(=O)c2c(nc3n2CCN3c2cccc(OC)c2)n(C)c1=O', 'Nc1nc2ccccc2c2c1nc1n2[C@@H](CCCNC(=O)O)COC1', 'Fc1ccccc1CCNc1nncc(NCc2ccccc2F)n1', 'O=C(O)C12COC3(O)C4CC[NH+](CCC13)C4c1c2[nH]c2ccccc12', 'CC(C)[C@H](NC(=O)c1cnccn1)C(=O)CNC(=O)c1ccncc1', 'CCn1cc(O[C@@H]2CN(C(=O)c3ccc4nccn4c3)C[C@H]2O)cn1', 'CC1CC(=O)Nc2ccccc2N1C(=O)CN(C)c1cc(=O)[nH]cn1', 'Cc1cc(N2CCC(Nc3nc(C(F)(F)F)co3)CC2)nc(C)n1', 'CO.O=CCCC(=O)OCC1CCC(N2C=CCC(C(=O)O)=C2)O1', 'CC(C)(C)c1ccc(C(=O)NCC2CCCN2)cc1[N+](=O)[O-].Cl', 'CCNC(c1c(Br)cnn1C)C1CCC(C(C)C)CC1', 'Cc1ccc(/C(=C/N2CCCC2)S(=O)(=O)c2ccc(C)cc2)cc1', 'Cc1cccc2c1-c1sc(C(=O)N[C@H]3CCCC[C@@H]3C)cc1CO2', 'Cc1ccccc1C1(C(=O)N2CCc3sccc3C2)CCOCC1', 'C[C@@H]1CN(C(=O)[C@@H](Sc2ccccc2)c2ccccc2)C[C@H](C)O1', 'CC(CNC(=O)CNC(=O)[C@@H](N)C(C)C)Oc1cccc(Cl)c1', 'CCCC1=C(CCC)N(c2ccccc2)S(=O)(=O)c2ccccc21', 'Cc1cc(O)c(C(C)C)cc1N1C(=O)C(C)SC1c1ccccc1', 'CC(C)C(=O)OCC1(OC(=O)ON2C(=O)CCC2=O)CCCCC1', 'CCOC(=O)Cc1cc(=O)n2[nH]c(NCc3ccc(C)cc3)nc2n1', 'CCNc1nc2ccccc2[nH]1.O=CN/N=C/c1ccc(O)c(O)c1', 'CNC(=O)c1ccc(NC(=O)NCCCOCC(C)C)cc1Cl', 'CC(N)C(C)C(=O)Nc1ccccc1C(=O)N1CCOCC1.Cl', 'Cc1ccc(N2NC(C(=O)N(C)Cc3cc(C)on3)=NCC2=O)cc1', 'Cn1c(=O)c2[nH]c(NCC3CCCO3)nc2n(-c2ccccc2)c1=O', 'COc1cccc(-c2noc([C@@H](C)NC(=O)[C@@H](C)n3cccn3)n2)c1', 'CN(C)C(=O)COc1cccc(CNC(=O)C2CCCN2)c1.Cl', 'O=C(O)C1CC12CCN(C(=O)Cn1nnc(-c3ccccc3)n1)CC2', 'CCc1cc(C(=O)N2CCC(c3cc(=O)n4[nH]ccc4n3)CC2)no1', '[H]/N=c1\\\\c(C(=O)NCC)cc2c(=O)n3ccccc3nc2n1CCOC', 'CC1(C)C(=O)NC(=O)N1CC(=O)NCc1ccccc1-n1ccnc1', 'Cc1nc(COc2ccc(C(=O)N(C)Cc3cnn(C)c3)cc2)no1', 'C=CC(C)(CNCC(C)C)Cc1c(Br)c(CC)nn1C', 'O=C1C[C@H](c2ccc(OCC(=O)N3CCCC3)cc2)n2ncnc2N1', 'CC(SCC(=O)Nc1ccc(F)cc1)C(=O)OCCC(C)(C)C', 'CCCNCc1cc(Br)ccc1N(C)CCCN(C)C', 'O=C(CCc1cc(Cl)no1)N1CCN([C@H]2CCCC[C@@H]2O)CC1', 'CN(C(=O)c1cc(Cl)c[nH]1)C1CCN(C(=O)OC(C)(C)C)CC1', 'CCc1nc(C2CCCN2C(=O)c2ccc3c(c2)[nH]c(=O)n3C)no1', 'COc1cc(Nc2ncnc(-c3cccn3C)n2)cc(OC)c1OC', 'CN(Cc1nc2ccccc2o1)C(=O)c1cn(C[C@H]2CCCO2)nn1', 'CN(Cc1nccn1CC(F)(F)F)C(=O)C1CCc2cncn2C1', 'Cc1cc2oc(=O)cc(CN(C)Cc3ccsc3)c2cc1C(C)C', 'COc1ccc(-c2noc(N[C@H]3C[C@@H](O)[C@@H]3n3cc(C)cn3)n2)cc1', 'CC(=O)N1c2ccc(-c3cnn(C4CC4)c3)nc2N(C(=O)O)C[C@@H]1C', 'CC(C)(C)OC(=O)N1CCC(S(=O)Cc2ccccc2F)CC1', 'O=C(c1ccn(C2CCCNC2)n1)N1CCc2c1cccc2[N+](=O)[O-]', 'COc1ccc(N2CC(C(=O)NCCCCN)CC2=O)cc1.Cl', 'COc1cc(C2=CCN(C)CC2)c([N+](=O)[O-])cc1-c1ccnc(N)n1', 'Cc1ccc(C(=O)Nc2cc(N3CCCCC3)ncn2)cc1[N+](=O)[O-]', 'CCOC(=O)c1cnn2ccc(NC(C)c3cccnc3OC)nc12', 'CC(N)CCC(=O)NCCN1C(=O)C2C3C=CC(C3)C2C1=O.Cl', 'COc1cc(CN2CC(CN)CC2C)cc(Cl)c1OCC(N)=O', 'CC(C)(O)CONC(=O)Nc1ccc(N2CCCCC2)c(Cl)c1', 'CC1(NS(=O)(=O)c2ccccc2)C2CCC1Cc1ccccc1C2', 'COc1ccc(C(C#N)O[Si](C)(C)C)cc1OCc1ccccc1', 'N/N=N\\\\NCC1=CC=C(C(=O)Nc2cccc(CC(=O)O)c2)C=CC1', 'Cc1ccc([C@@H](O)Cc2noc(Cn3ncc(N)c(C)c3=O)n2)cc1', 'O=C(CCc1nc(-c2ccco2)no1)N1CCC[C@H](n2cccn2)C1', 'C=C(C)Cn1c(=O)c2c(nc3n2CCN3Cc2ccco2)n(C)c1=O', 'O=C(Nc1cccc(C[S@@](=O)Cc2ccccc2)c1)C1CCCC1', 'CC(C)(C)OC(=O)N1CCCC(COCC(F)(F)F)(C(=O)O)C1', 'COC(=O)C[C@@H]1NN(c2ccccc2)C(=O)/C1=C(\\\\C)Nc1ccn[nH]1', 'CCN(C(=O)O)c1cc2c(c(N)n1)N=C(c1ccc(OC)cc1)CN2', 'CCCC[C@@H]1C(NS(=O)(=O)c2ccc(C)cc2)=Cc2ccccc21', 'CC(C)[C@@H]1CSC[C@@H]2C1=CC[C@@H]1C(=O)N(c3ccccc3)C(=O)[C@@H]12', 'Cc1ccccc1CS(=O)CC(=O)NCC1(c2ccccc2)CC1', 'O=C(NC1CC(N2C=C(CO)NN2)C1)c1cc(-c2ccccc2)no1', 'CC(C)(C)OC(=O)Nc1cccc(-c2noc(Cn3ccnc3)n2)c1', 'N#Cc1ccc(CN2CCN(C(=O)C[C@H]3NC(=O)NC3=O)CC2)cc1', 'Cn1cc(Cl)cc1CNC(=O)N1CCC[C@@H](C2(C)OCCO2)C1', 'CN1c2nc(C(=O)O)ccc2N2CCC1C2.O=CNc1ccccn1', 'CCc1nn(CC)c(CNCC2CCCC(C)C2)c1Br', 'CC(CN)C(=O)NC1CC(=O)N(CCOc2ccccc2)C1.Cl', 'COC(=O)c1c(NC(=O)CCn2ncc3ccccc32)c(C)nn1C', 'Cl.NC(=O)CCOc1ccccc1NC(=O)CC1CCNCC1', 'Cc1cc(NC(=O)c2c[nH]c3ccc(OC4CCN(C)C4)nc23)no1', 'COCC(N)C(=O)NC(C)c1ccc(NC(=O)C2CC2)cc1.Cl', 'CCn1nc(C)c(Br)c1CC1CC(C)(C)CCC1CN', 'Cc1ccc(S(=O)(=O)NC(c2ccccc2)C2C=CCCC2)cc1', 'Cc1cc(=O)n2c(n1)NC(N1CCOCC1)=N[C@@H]2c1ccc(O)cc1', 'Cc1cn2c(n1)C(CNC(=O)c1cc(C(F)(F)F)nn1C)CCC2', 'CC(C)C1CCCCC1.CNc1nc(C)c(N)cc1Br', 'COC(CN)CC(=O)NCc1ccc(N2CCCC2=O)cc1.Cl', 'Cc1ccc(CN(Cc2ccco2)C[C@H](O)Cc2ccccc2)s1', 'C=CC(=O)Nc1ccc(C(=O)Nc2c(C(N)=O)n[nH]c2C(C)C)cc1', 'O=C([O-])CN(CCc1ccccc1)C(=O)CCCOc1ccncc1', 'O=C(CCC1NC(=O)NC1=O)NCc1cccc(Cn2ccnc2)c1', 'CCCc1ccc(C(=O)CCC(=O)N2CCc3sccc3C2)cc1', 'COc1ccc(CNC(=O)CNC(=O)C2CCC(N)C2)cc1.Cl', 'CC[C@@H](NC(=O)c1cc(-c2ccc(OC)cc2)n[nH]1)c1noc(C)n1', 'O=C([O-])C(=O)O.Oc1ccc(CC[NH2+]CCCC2OCCO2)cc1', 'NC(=O)Nc1c(CCC(=O)O)cccc1-c1cccc(N=C(N)N)c1', 'O=C(CCC1CCS(=O)(=O)C1)NCCCCc1ccccc1F', 'Cn1cc(O[C@@H]2CN(C(=O)Cc3[nH]nc4ccccc34)C[C@H]2O)cn1', 'Cc1cccc(N2CCN(c3ncccc3C(N)=O)CC2)c1[N+](=O)[O-]', 'CN(C)C(C(=O)Cc1cccc([N+](=O)[O-])c1)C1CCCCN1.Cl', 'CCc1noc(CN2CCN(c3ccc(C(F)(F)F)cn3)CC2)n1', 'CN(Cc1ccccc1)C(=O)CNC(=O)C1(N)CCOCC1.Cl', 'Cc1ccc(S(=O)(=O)N[C@H]2C(C(C)(C)C)=Cc3ccccc32)cc1', 'C=CCOC1CCN(c2nn3c(C(F)(F)F)nnc3c(C)c2C)C1', 'Cn1nc(N2CCC(=O)NC2=O)c2ccc(N3CCC(=O)CC3)cc21', 'CC(=O)c1ccc(NC(=O)C(C)SCc2cc(C)ccc2C)cc1', 'CC(N)C(C)C(=O)N1CCN(C(=O)c2cccc(O)c2)CC1.Cl', 'Cc1cc(C(F)(F)F)n2ncc(C(=O)N(C)[C@H]3CCN(C)C3)c2n1', 'CCOCCN1CCNC(CC(=O)Nc2ccccc2)C1=O.Cl', 'CC[C@@](C)(c1nnnn1-c1ccc(C)cc1)N(C)C(=O)C(F)(F)F', 'CC(C)Oc1nc(N)nc2c1ncn2[C@@H]1O[C@H](CO)[C@@H](O)[C@@]1(C)F', 'C[C@@H](CS(C)(=O)=O)C(=O)N1CCC(Cc2ccc(F)cc2)CC1', 'CCCNC(c1c(Br)cnn1C)C1CCC(C)(C)CC1', 'CCc1ccc(NC(=O)CSCC(=O)c2ccc(C)c(C)c2)cc1', 'Cc1n[nH]nc1C(=O)N1CCN2C(=O)OCC2(Cc2ccccc2)C1', 'CC1Cc2cc(NC(=O)Cn3cc(NC(=O)C4CC4)nn3)ccc2O1', 'CC(=O)NC(CC(=O)NCC1CNCC1O)c1ccccc1.Cl', 'COCCN(C)c1ccc2nc(-c3ccc(N)c([N+](=O)[O-])c3)[nH]c2c1', 'O=C(O)COCCOCCOCCNC(=O)OCc1ccccc1', 'Cc1nn(C)c(NC(=O)CCn2c(=O)[nH]c(=O)c3ccccc32)c1C', 'COC(=O)CCCOc1ccc(Nc2cc(C)nc3ncnn23)cc1', 'C[C@@H]1CC=CC2(N(c3ccccc3)S(=O)(=O)C3=CCCC=C3)CC12', 'CCCNC(C)C1(Cc2c(Br)c(CC)nn2CC)CC1', 'CNCCCC(=O)Nc1ccc(NC(=O)C2CCCO2)cc1.Cl', 'O=C(CN1C(=O)C2CCCCC2C1=O)NCc1nnc2ccccn12', 'CN(Cc1ccc(C#CC(C)(C)O)s1)CC1Cc2ccccc2O1', 'CC(=O)N(CCc1nc(Cc2noc(C)n2)no1)Cc1ccccc1', 'Cc1ccccc1-c1noc([C@@H](C)NC(=O)Cc2c(C)[nH][nH]c2=O)n1', 'COc1ccc(C(=O)NCCNC(=O)CNCC2CC2)cc1.Cl', 'CCCCN(C(=O)CCc1ccc(F)cc1)C1CCS(=O)(=O)C1', 'O=C1CCCc2c1sc(N1CCOCC1)c2CCc1ccccc1', 'Cc1ccn(CCNC(=O)C(=O)N[C@H]2C(=O)N(C)c3ccccc32)n1', 'COc1cccc(C2CCCN2C(=O)c2cc3c(s2)CCCC3)c1', 'COc1ccc([N+](=O)[O-])c([C@@](CO)(CCO)C(=O)OC(C)(C)C)c1', 'Cn1ccc(CNC(=O)CCn2nc(C(F)(F)F)cc2C2CC2)n1', 'COc1ccc(C)cc1NC(=O)C1CCCN1C(=O)[C@@H](C)N.Cl', 'Cl.NCCCCNC(=O)COc1cccc(NC(=O)C2CC2)c1', 'CCNC(Cc1c(Br)c(CC)nn1CC)CC1CCC1', 'CC(C)N(Cc1ccc([N+](=O)[O-])cc1)C(=O)CC1CCCN1.Cl', 'FCCn1cnc(-c2ccc(F)cc2)c1-c1ccnc(NC2CC2)n1', 'CCCNCC1(Cc2c(Br)c(C)nn2CC)CCCC1', 'CC1CN(C(=O)Cc2ccccc2)c2ccc(C(C)(C)O)cc2S1', 'C[C@@H](Cn1cnc2ccccc2c1=O)NCCn1[nH]c(=O)ccc1=O', 'Cc1ccc(C(=O)N2CCOCC2)cc1NC(=O)c1cnc(N)cn1', 'CN1C(=O)CC(CN/C=C(\\\\C#N)C(=O)Nc2ccccc2)N(C)C1=O', 'CN(C)C(=O)c1c(C=NNC(=O)Nc2ccccc2)n(C)ccc1=O', 'COc1cccc(CNc2nc3nc4c(c(=O)n3[nH]2)CCC4)c1OC', 'OCCn1cnc2c(N3CCOCC3)nc(-c3ccccc3O)nc21', 'O=C(/C=C/c1ccco1)NCC(=O)N1CCN(c2ncccn2)CC1', 'CC[C@@H](C)c1cc(C(=O)NCCc2noc(-c3ccccn3)n2)on1', 'Fc1ccc(N2CCC(CNc3ncnc4ccncc34)C2)cc1F', 'Cl.NCC1(NC(=O)CCOc2ccc(C(N)=O)cc2)CCCC1', 'O=C1CCC(C(=O)NCC(=O)N2CCn3c2nc2ccccc23)CN1', 'C[C@@H]1CCC[C@@H](C)N1C(=O)CS(=O)(=O)[C@@H](C)c1cccc(F)c1', 'C=C1CCC(=O)N1OC(=O)Cc1nnn(C(C)(C)c2ccccc2)n1', 'CCCCc1ccc(C(=O)CSc2ccc(NC(C)=O)cc2)cc1', 'Cl.NCC(=O)NCC(=O)N1CCC(COc2ccccc2)CC1', 'Cc1ccc(-c2cc(C(=O)NC(Cc3cnc[nH]3)C(=O)O)c(C)[nH]2)[nH]1', 'CC1(C(=O)OC[C@]2(C#N)CC[C@H](c3ccc4c(N)ncnn34)O2)CC1', 'COc1ccc(NC(=O)NC(C)(C)c2nc(C)no2)c2cccnc12', 'CCC1CN(S(=O)(=O)c2ccc(C)cc2)C/C1=C\\\\c1ccccc1', 'CC(c1ccccc1)N(C)C(=O)CS(=O)C/C=C/c1ccccc1', 'CCOC(=O)Nc1cc2c(c(N)n1)N=C(c1cccc(OC)c1)CN2', 'CCOC(CN1C(c2ccccc2)=CSc2ccccc21)OCC', 'CC1=CC=CC=C1N2CCN(CC2)CCC3=NN=C4N3CCCC4', 'NCCC(N)C1=NC=C2CC3(CCNCC3)C3C=CC=CC3=C2N1', 'N/C(=N\\\\CCc1ccc(-n2cccn2)cc1)NC1CCCCCC1', 'C#CCn1cc(CN(C)Cc2cn(C)nc2C2CCCCC2)cn1', 'c1ccc(CN2CCC[C@@H](NC[C@H]3CNc4ccnn4C3)C2)cc1', 'Cc1cc(C)n(-c2ccccc2C/N=C(\\\\N)N2CCC(C)CC2)n1', 'O=C(C1CCC1)[N+]1(CC2CC2)CC2(CCNCC2)c2ccccc21', 'CCN/C(=N\\\\Cc1nc2ccccc2n1C)N1CCC2(CCC2)C1', 'Cc1nc(C(C)NC2CCN(c3ccc4c(c3)CCC4)CC2)n[nH]1', 'C=CCOC(=O)N1CCC(C(=O)OCCCCCCCC)CC1', 'C1=CCCCC1.CC.CCC[C@H]1C(=O)NC2(CO)C(=O)O[C@@]12C', 'Cc1nc(NCc2ccccn2)nc(NC2CCCCCC2)c1C', 'Cc1nc(C2CCN(CC3CC3)CCN2Cc2ccccc2)n[nH]1', 'CCn1ccnc1CN(Cc1ccncc1)[C@H]1CC12CCNCC2', 'CCCCNc1nc(N)nc2c1CN(CCc1ccccc1)CC2', 'CCN/C(=N\\\\Cc1cc(N(C)C)nc2ccccc12)NCC1CC1', 'CC(C)C(c1nnnn1C1CCCC1)N1c2ccccc2CC1C', 'CC(C)CC(C)(CC(=O)O)C(=O)N1CCC2(CCOCC2)CC1', 'CCC(C)(C)OC(=O)N1CCC(C(=O)OC2CCCCC2)CC1', 'C/N=C(\\\\NCCCCNc1ccccn1)NCc1ccccc1C', 'Cc1cc(C)c(NC(=O)C[NH+](C)Cc2cc(C)ccc2C)c(C)c1', 'CCC(CC)c1cc[n+](CC(=O)Nc2c(C)cc(C)cc2C)cc1', 'CCN(CC)c1ccc(Nc2ccnc(N3CCCCC3)n2)cc1', 'C/N=C(/NCCc1ccc(-n2cccn2)cc1)N1CCC(C)CC1', 'CCO[C@H]1OC(C(=O)NCC2CC2)=C[C@@H](C(C)C)[C@@H]1CCCO', 'C/C=C/CC/N=C(\\\\NCC)N(C)Cc1ncc(-c2ccccc2)[nH]1', 'Cc1cccnc1Nc1cncc(C2CCCN2CC(C)(C)C)n1', 'C=C[C@@](C)(CCC=C(C)C)[C@H](NC(=O)OC(C)(C)C)C(=O)OC', 'CCCCCNc1cc(N2CCN(c3ccccc3)CC2)ncn1', 'CCCCCCCCCCCCCC(=O)ON1C(=O)CCC1=O', 'CC(C)C(=O)OC1CC(=O)N1C(=O)C(CC(C)(C)C)C(C)(C)C', 'Cc1ccc(CNc2ncnc(NC3CCCCCC3)c2N)cc1', 'CN1CCN(Cc2ccccn2)CCN(Cc2ccccn2)CC1', 'CCCCCCC[N+](C)(C)CCCCCC.O=S(=O)([O-])[O-].[H+]', 'CCN/C(=N\\\\CC1CC1c1ccccc1)NCCCn1cccn1', 'c1ccc(-n2nnnc2CNC(C2CCCC2)C2CCCC2)cc1', 'C/N=C(\\\\NCCCc1cnn(C)c1)N1CCC(c2ccccc2)C1', 'CC[NH+](CC(=O)NC(C)(C)C)Cc1ccc(-c2ccccc2)cc1', 'C[C@@H]1CCC[C@H](O[C@@H](C)C(=O)N2CCC[C@@H](CCC(=O)O)C2)C1', 'CN(CC(=O)C(C)(C)C)C(=O)CCC(=O)CCC(=O)C(C)(C)C', 'COC(=O)[C@@H]1CC2[NH2+]CN(C)C2CN1C1CCN(C(C)=O)CC1', 'CCN1CCN(C2CCN(c3ncnc4ccc(C)cc34)C2)CC1', 'CC1CCC(C(C)C)C(OCC(=O)NC2(CC(=O)O)CCC2)C1', 'Cc1cccnc1Nc1cncc(C2CCCN(CC(C)C)C2)n1', 'Cc1ccc2nc(C(NCc3nc(C)c(C)n3C)C(C)C)[nH]c2c1', 'CCN1CCN(c2nnc([C@@H]3C[C@H]3c3ccccc3)n2C)CC1C', 'CCCC(C#N)(C(=O)OCC)C(CCCC(C)C)C(=O)OCC', 'CN(C)c1ccnc(N2CCN(CCCc3ccccc3)CC2)n1', 'COCC1(C(=O)O)CCCN(C(=O)C(C)CC2CCCCC2)C1', 'c1ccc(CN2CCN(CCN3CCc4nc[nH]c4C3)CC2)cc1', 'CCC[C@H](Nc1ccc(N2CCN(C)CC2)nc1)c1ccccn1', 'Cc1cc(CC2CCN(Cc3cnc(N(C)C)nc3)CC2)ccn1', 'CC(C)N.CCCCCCCCCCCCOS(=O)(=O)O', 'Cc1cc(NC(C)C)nc(N2CCN(Cc3ccccc3)CC2)n1', 'CCO[C@@H]1OC(C(=O)N(C)C)=C[C@H](C2CCCC2)[C@H]1CCCO', 'CN(C)CCC1CCCCN1Cc1cnc(-c2ccccn2)nc1', 'Nc1nc(N2CCCC(N3CCCCCC3)C2)nc2ccccc12', 'CC(=O)NC(CC(C)C)[C@@H]1C[C@@H](C(=O)OC(C)(C)C)C[C@H]1C=O', 'CC(C)C(=O)C1CCC(CNC(=O)C(C)CC(C)C(=O)O)CC1', 'CC(=O)O.CCCCCCCCNCC(O)c1ccc(O)cc1', 'CC[NH+](CC)Cc1ccccc1CNC(=O)c1cc(C)ccc1C', '[H]/N=C(\\\\CC)CCOCCOCCOCC/C=C/C(=O)CCC=C', 'Cc1ccc(C(c2nnnn2C2CCCCC2)N2CCCC2)cc1', 'CCc1cc(C(C)(C)F)cc(C)c1CC(C)N(C)CCSC', 'Cc1cc(NC[C@@H]2CCCN(C3CC3)[C@H]2c2ccnn2C)ccn1', 'CCC(C)Nc1cc(N2CCN(c3cccc(C)c3)CC2)ncn1', 'CCN/C(=N\\\\Cc1nccn1CC(C)C)N1CCc2ccccc21', 'CCc1ccc(CN2CCC(c3nnc4n3CCNC4)CC2)cc1', 'CC(C)N(CC12CCC(C(=O)O)(CC1)CC2)C(=O)OC(C)(C)C', 'CCC(OC1CCCCC1)C(=O)N1CCCC(CCC(=O)O)C1', 'C=C(Cc1nc2cccc(NCCC3CCCN3C)n2n1)C1CC1', 'CCN(Cc1ccccc1)c1nc(C)cc(N2CCN(C)CC2)n1', 'Nc1ccc2c(CN3CCCCC3)cc(N3CCCCC3)nc2n1', 'CCCCCCCCCCCC(CC)c1ncc(N)nc1Cl', 'Cc1cccc(Nc2nccc(NCCCN3CCCCC3)n2)c1', 'CCCCCCCCC(=O)NC1=CC(C)(OC)C(O)C(OC)=C1', 'Cc1ccc(CN2CCCC2c2nc(C)ncc2CN(C)C)cn1', 'CCOC(=O)C(=O)C(CC)NC(=O)C1CCC(C(C)(C)C)CC1', 'CN(C)C1CN(Cc2nnc(-c3ccccc3)n2C)C2(CCC2)C1', 'C1CC(COC[C@@H]2CC[C@H]3[C@H](CCN3C3CCOC3)O2)CCO1', 'CCN(CC)c1nccc(NC[C@@H]2CCCN2c2ccccc2)n1', 'CCC1CCCCN1c1ncnc(Nc2ccc(C)cc2C)c1N', 'Cc1cccc(-c2cc(NCCN3CCCCC3)nc(N)n2)c1C', 'CC(NCC1CN(c2ccc(C(C)(C)C)nn2)C1)c1cccnc1', 'C=CCO[C@@H](CC=C)CC1COC(C)(C)N1C(=O)OC(C)(C)C', 'O=C(O)CCCCCCC/C=C/C/C=C/CCCCC[N+](=O)[O-]', 'CCCCC[C@@H](O)[C@@H](C)/C=C(\\\\C)C(=O)N1C(=O)OC[C@@H]1C(C)C', 'C=CCCCCCCCCCOC(=O)C1CCCN1C(=O)OC', 'CCCCCCOC[C@H](O)CNCCOc1ccccc1OC', 'N/C(=N\\\\Cc1cccc(Cn2ccnc2)c1)NC1CCCCCC1', 'C[C@@H](Cc1cnccn1)N(C)Cc1cnc(C2CCCCC2)nc1', 'CCC1CCCCN1c1cc(N(C)CCc2ccncc2)ncn1', 'CCCCCCCCCCCCCCCOS(=O)(=O)O.N', 'CCC(C)(C)O.CCC(C)(C)OC(=O)N(O)C1=CC=CCC=C1', 'C/N=C(\\\\NCCn1cccc1)NCC(C)N1CCc2ccccc21', 'C/C=C(C)/C(=C/OC(=O)N(C(C)C)C(C)C)C(C)C(=O)OCC', 'CCN1CCN(c2cc(Nc3cccc(C)c3C)nc(C)n2)CC1', 'CCCCCN(CCCCC)C(=O)[C@H]1[C@@H](C(=O)O)[C@@H]2CC[C@H]1O2', 'C=CCC1(O)CCC(CC(=O)OC)(NC(=O)CCCCC)CC1', 'CN1CCN(c2nn(C3CCCCC3)cc2-c2ccncc2)CC1', 'CCC1CCCC(C(=O)C2COCCN2C(=O)OC(C)(C)C)C1', 'C#CCCOC(=O)N(C)[C@@H](CC(C)C)C(=O)OCCCCCC', 'COc1ccc(N2CC[NH+](Cc3ccc(C(C)C)cc3)CC2)cc1', 'COc1ccc2[nH]c3c(c2c1)CC[NH2+][C@@H]3[C@@H]1CC(C)=C(C)C[C@H]1C', 'CN(C)C1CCC(COOC2CCC(C=COC=O)CC2)CC1', 'CC(C)C(=O)OC1CCC2(CCN(C(=O)OC(C)(C)C)CC2)C1', 'C[C@H](c1ccncn1)N(C)CCN1CCN(c2ccccc2)CC1', 'Cc1nc(NCc2ccccn2)nc(NC2CCCCC2C)c1C', 'C=C(C)C(=O)OC1CC(C)(C)N(C(=O)OC(C)(C)C)C(C)(C)C1', 'CCc1cccc(C)c1Nc1cnnc(N2CCCCC2CC)n1', 'CCOC1CC(NC(=O)C(C)CC2CCCC2)(C(=O)O)C1(C)C', 'Cc1c([C@H](C)NCC(C)(C)N(C)C)cnn1-c1ccc(C#N)cc1', 'CCc1ccc([C@@H]([NH2+]CC(=O)Nc2ccccc2C)C(C)C)cc1', 'C=Cc1ccc2c(c1)C(C)N(N=C(C)C)C(N1CCN(C)CC1)=N2', 'c1ccc(CN2CCCC(NCC3CNc4ccnn4C3)C2)cc1', 'CCCCCC/C=C\\\\CCCC(O)CC(=O)NC1CCOC1=O', 'CCN(CC)c1ncnc(N2CCC(c3ccccc3)CC2)c1N', 'CN(C)C(=O)C1=C[C@H](C2CCCCC2)C[C@H](OCCCCO)O1', 'CCOC(=O)CC[C@H]1CC[C@]2(CCCN(C(=O)C(C)(C)C)C2)O1', 'C/N=C(/NCc1ccc(C)cc1C)N1CCC(c2cnn(C)c2)C1', 'CC(=NN(C)C)c1ccc2cccc(NCC3CCNCC3)c2n1', 'CCCCNc1cc(N2CCN(Cc3ccccc3)CC2)ncn1', 'CC(C)(C)Nc1cc(Nc2ccc(N3CCCCC3)cc2)ncn1', 'CCOC(=O)/C(C)=C/C(C)C1CCN(C(=O)OC(C)(C)C)CC1', 'CCN(CCN/C(=N/C)NCc1ccccn1)c1cccc(C)c1', 'C=CCC1C=C(C)NC(Nc2ccc(N3CCN(C)CC3)cc2)=N1', 'CN(C)Cc1cn(C2CCN(C/C=C/c3ccccc3)CC2)nn1', 'CCOCCC1(CNC(=O)C2CCC(C(=O)O)CC2)CCCC1', 'C/N=C(\\\\NCCc1cnn(-c2ccccc2)c1)N1CCC(C)CC1', 'C=CC(CC)C[C@H](CC1CCCCC1)C(NC(=O)O)OC(C)=O', 'CC(O)COCCCN(CCCOCC(C)O)c1ccccc1', 'Cn1cc(CN2CCC3(CC2)CCN(Cc2cccnc2)C3)cn1', 'CCC(C)c1nccc(NCc2cc(C)nc(N3CCCC3)c2)n1', 'C=CCOC(=O)CCC(C)CC(C)(C)CCNC(=O)OCC=C', 'CC.CC.CCOC(=O)c1ccccc1NC(=O)OCC(C)C', 'Cc1cc(N2CCC=N2)ccc1/C(N)=C/C=C(\\\\N)C1CCNCC1', 'Cc1cc(N2CC(CN)CCC2C)nc(N(C)c2ccccc2)n1', 'c1ccc(NC2CCC(NCc3cc4n(n3)CCCC4)CC2)nc1', 'CCCCNc1cc(C)nc(N2CCN(c3ccccc3)CC2)n1', 'CC(C)(C)OC(=O)N1CCC[C@@H](CC2CCCCC2)[C@H]1C(=O)O', 'Cc1ccccc1CNC(=O)C[NH+](C)Cc1ccc(C(C)C)cc1', 'CCCCC[C@@H]1C(=O)CC[C@@H]1CC(=O)N[C@H](C(=O)O)[C@@H](C)CC', 'Cc1cccc(C2(CNC(C)c3nnnn3C3CC3)CCCC2)c1', 'CCCC[C@@H](C)/C=C(\\\\C)[C@H](O)[C@@H](C)C(=O)N1CCC[C@H]1C(=O)O', 'C(=N/N1CCCCC1)\\\\c1ccc(CNCCCn2ccnc2)cc1', 'CC(C)CNc1cnnc(N2CCC(Cc3ccccc3)CC2)n1', 'Cc1cccc(Nc2cncc(C3CCN(CC(C)C)CC3)n2)n1', 'CC[C@H]1CN(Cc2cnc(-c3ccccn3)nc2)CCN1C(C)C', 'CC.CCCC(C)CCNc1c(N)c(Cl)nc2c1CCCC2', 'CCCCCCCCC#CCC(C(O)CCCCC=O)[N+](=O)[O-]', 'C/N=C(\\\\NCc1cccc(Cn2cccn2)c1)NC1CCCCC1', 'COCC(NC=O)C(C)OC(C)(C)C.COCc1ccccc1', 'C1=CC2CC2C=C1.CC.CC.CC.O=CON1C(=O)CCC1=O', 'CC(C)(C)OC(=O)N1CCC[C@H](CC2CCCCC2)[C@H]1C(=O)O', 'CCN(CC)CCNc1c2ccccc2nc2c1c(C)nn2CC', 'Cc1cccc(C)c1NC(=O)C[N+](C)(C)CCCc1ccccc1', 'CCc1cnc(N)nc1NCC1(c2ccccc2)CCN(C)CC1', 'CC.CC.CON(Cc1ccccc1C)C1C(=O)OC(C)C1O', 'CCCCC/C=C(\\\\C/C=C/CCCCCCCC(=O)O)[N+](=O)[O-]', 'CC(C)c1ncc(CN2CCCN(Cc3ccccn3)CC2)cn1', 'C=CCC[C@H]1CC[C@@H](C(=O)OC(C)(C)C)N1C(=O)OC(C)(C)C', 'C=CCCCN(C)/C(=N/Cc1ccn(-c2ccccc2)n1)NCC', 'CNc1cc(C)nc(N[C@H]2CCCN(CCc3ccccc3)C2)n1', 'C=CCCC(C)(C)COC(=O)N[C@H](C(=O)O)C1(C)CCCCC1', 'CCc1ccccc1CN/C(=N/C)N1CCC(c2cnn(C)c2)C1', 'c1cc2nnc(C3CCN(C4CCCCC4)CC3)n2nc1C1CC1', 'CC1(C)CC(NC(=O)Cc2cccc3ccccc23)CC(C)(C)[NH2+]1', 'C/N=C(\\\\NCc1cnn(-c2ccccc2)c1)N1CC(C)CC(C)C1', 'Cc1nccn1Cc1cccc(C/N=C(\\\\N)N2CCC(C)CC2)c1', 'c1ccc(CN2CCc3ncc(CN4CCCCC4)n3CC2)nc1', 'COc1ccc(N(CC[N+]2(C)CCCCC2)c2ccccc2)cc1', 'N/C(=N\\\\CCc1nccn1Cc1ccccc1)NC1CCCCC1', 'CC.CC.CC.COC(=O)c1cc2c(c(OC)c1)NC(=O)CC2', 'CC(C)c1ccccc1NC(=O)C[NH2+][C@H](c1ccccc1)C(C)C', 'Cc1nc(NCC(C)N2CCCCC2C)cc(-c2ccccn2)n1', 'CCOc1ccc(C[NH+]2CCN(c3cc(C)ccc3C)CC2)cc1', 'CCc1nccn1-c1cncc(C2CCCN2C2CCCCC2)n1', 'Cc1cccc(CC2CCCN(Cc3cnc(N(C)C)nc3)C2)n1', 'CCN1CCN(c2cc(C)nc(Nc3c(C)cccc3C)n2)CC1', 'CN1CCN(c2ccnc(Nc3ccccc3C(C)(C)C)n2)CC1', 'CCN(Cc1ccccc1)c1cc(N2CCN(C)CC2)nc(C)n1', '[H]/N=C(\\\\C=C(/CN/C=C\\\\N=C)N1CCCCC1)c1cc(C)cnc1C', 'C=C1C[C@](O)(CC(=O)NCC2CCC(C)(C)CO2)OC(C)C1C', 'CCC(C)Nc1cc(Nc2ccc(N3CCCC3)cc2)nc(C)n1', 'OCCN(CCO)CCCCCCCCOc1ccccc1O', 'CCN/C(=N\\\\Cc1c(C)nn(Cc2ccccc2)c1C)NC1CC1', 'CCCCNc1ccnc(N2CCN(Cc3ccccc3)CC2)n1', 'CC(C)(C)OC(=O)N(CC1CCCC1)C1CCC(C(=O)O)CC1', 'CCC(CC)([NH2+]Cc1ccccc1)C(=O)Nc1c(C)cccc1C', 'C=CCC1C(C(C)C)C[C@H](C(=O)OCC)N1C(=O)OC(C)(C)C', 'CCC1CCCCN1c1cnnc(N(CC)Cc2ccccc2)n1', 'CC(C)c1cc(NCc2ccc(N3CCCCCC3)nc2)ncn1', 'CC1CC2(CCNCC2)CN1Cc1cn(C)nc1-c1ccncc1', 'Cc1cccnc1Nc1cncc([C@@H]2CCCN2CC(C)(C)C)n1', 'CC(=O)N[C@H]1COC(C2CCC(CCC3CCC3)C2)C(O)C1O', 'Cc1cccc(C(C)C)c1Nc1ccnc(N2CCN(C)CC2)n1', 'CCN/C(=N\\\\CCCc1cn(-c2ccccc2)nc1C)NC1CC1', 'CC(C)(C)[C@H]1C=C(C(=O)NC2CCC2)O[C@@H](OCCCCO)C1', 'CCc1cnnn1Cc1ccc2[nH]cc(CCCCN(C)C)c2c1', 'CC1CCC(C2(C(=O)O)CCN(C(=O)OC(C)(C)C)C2)CC1C', 'C=CCC(NC(=O)OC=C)C(=O)OCCCCCCCCCC', 'Cc1cc(NCC(C)(C)CN2CCCC2)nc(-c2cccnc2)n1', 'CCCCC/C=C\\\\C/C=C(\\\\CCCCCCCC(=O)O)[N+](=O)[O-]', 'C=C(C)C[C@@H](C(=O)OCC1=CCCC=C1)N(C)O.CC(C)(C)O', 'Cn1ncc(-c2ccnc(CC3CCC(N)CC3)n2)c1CC1CC1', 'C=C(C)C(=O)OCCOC=O.C=C/C(=C\\\\C(N)=C/C)CC.CC', 'CC.CCC.CCc1cnc(C)c(OC(C)=O)c1COC(C)=O', 'CCCNc1nc(C)cc(N2CCN(Cc3ccccc3)CC2)n1', 'CCCCC(c1c(OC)cc(OC)cc1OC)N(O)C(C)(C)C', 'C=C(C)CO/C=C(\\\\N)C[C@@H]1C=C(C)CC([C@H](O)[C@H](O)CO)[C@@H]1C', 'CCN1CCN(c2cc(C)nc(NCc3ccccc3C)n2)CC1', 'COc1ccc(C[NH2+]Cc2ccc(N3CCCCCC3)cc2)cc1', 'CC(OC1CCCCCC1)C(=O)N1CCCC(CCC(=O)O)C1', 'CC1(C)O[C@@H]([C@@](C)(O)C2CC2)[C@H](CC2CCCCC2)N1C(=O)O', 'CCCCN(C)c1nccc(Nc2ccc(N3CCCC3)cc2)n1', 'CCN(CC)CC.Cc1ccc(N)cc1C#Cc1cnc(N)nc1', 'CC(=O)O[C@H]1C[C@@H]2C[C@H](OC(=O)CCCCC(C)C)C[C@H]1N2C', 'C/N=C(/NCc1ccccc1-n1nc(C)cc1C)NC1CCCC1', 'CCN/C(=N\\\\Cc1ccccc1Cn1cccn1)NCCC1CC1', 'C/N=C(\\\\NCc1cnn(C)c1)N1CCC(Cc2ccccc2)CC1', 'C=C/C=C(\\\\C=C)N1C(c2cnccn2)=CC(N(CC)CCC)N1C', 'CN(C)[C@@H]1CCN(c2nc(N)nc3c2=CCCC2CCC=CC=32)C1', 'Nc1cccc(CC2CNCC2NC[C@@H](N)Cc2ccccc2)n1', '[H]/N=C(/c1cc(-c2ccnn2C)c(C(C)C)cc1C)N(NC)C(=C)C', 'C=C1C=C(c2ccncn2)N=C(N2CCCC(CCCC)C2)N1C', 'C=CCCC(C)(C)COC(=O)NC(C(=O)OC)C1CCCCC1', 'CCCCCC=CCC=CCCCCCCC(C(=O)O)[N+](=O)[O-]', 'CNc1ncnc2c1ncn2C12CC3CC(CC(C(C)C)(C3)C1)C2', 'CN1CCN(C)CCN(C(c2ccccn2)c2ccccn2)CC1', 'CCC1CCCC(CC)N1C(=O)OC1CCC(C(=O)OC)CC1', 'C/N=C(\\\\NCCCn1ccnc1)N1CCC(Cc2ccccc2)C1', 'Cc1cccc(C(C)C)c1Nc1cnnc(NC2CCCCC2)n1', 'CC1NNC(C)C1Cc1nc(C2CC2)nn1CCc1ccccc1', 'CCCCN1C(=O)NC(=O)[C@@H](/C(C)=N/CC[NH+](CC)CC)C1=O', 'Cc1cccc(C(C)C)c1Nc1cc(N2CCN(C)CC2)ncn1', 'CCOC1OC(C(=O)NC2CC2)=CC(C(C)(C)C)C1CCCO', 'Cc1cccc(N2CCN(c3ccnc(NCC(C)C)n3)CC2)c1', 'Cc1cccc(-n2cc(CN3CCN4CCN(C)CC4C3)cn2)c1', 'COC[C@H](C)NC[C@@H](O)COc1ccc(OC)cc1C(C)(C)C', 'O=C(C[NH+]1CCc2ccccc2C1)NC12CC3CC(CC(C3)C1)C2', 'CC(=O)NCCCCC[C@@]1(C(=O)OC(C)(C)C)CC[C@@H](C=O)C1', 'CNCc1cc(NC)nc([C@H]2CCCN2Cc2ccccc2C)n1', 'N/C(=N\\\\Cc1nc2ccccc2n1C1CC1)NC1CCCCCC1', 'CCCNc1ncc(CN2CCN(C)[C@@H](c3ccccc3)C2)cn1', 'CC(O)CS(=O)(=O)O.CCCCN(CCCC)CCCC', 'CCc1nc(C(C)C)ccc1CN1CCC(Nc2ncccn2)C1', 'CCN1CCN(c2ccc3c(C4CCNCC4)ncnc3c2)CC1', 'CCc1cc(CC)nc(NCc2ccc(C)nc2N2CCCC2)n1', 'C=N/C(=C\\\\C)C1CN2CCN(C(/C=C(/C#N)CCC)=C/C)CC2=N1', 'Cc1cccc(N2CCN(c3cc(NC(C)C)nc(C)n3)CC2)c1', 'CC.CC.CC.COC(=O)c1cc(O)c2c(c1)C(=O)NCCC2', 'Cc1ccc(-n2nnnc2C2(NC3CCCCC3)CCCC2)cc1', 'Cc1cccc(CN2C[C@H]3CC[C@@H]2CN(Cc2nc[nH]c2C)C3)n1', 'C/N=C(\\\\NCC(C)Cn1cccn1)NCC1(c2ccccc2)CC1', 'C[N+]1(C)CCN(CCOC(c2ccccc2)c2ccccc2)CC1', 'O=C(O)CCCC1CCC(NC(=O)OCC2CCCCC2)CC1', 'CC1(CCCO1)CN(C)S(=O)(=O)C2=CC(=C(C=C2)Cl)S(=O)(=O)N', 'CN(c1ccccc1)c1ccc(C(=O)Nc2ccc(Br)cn2)cn1', 'Cc1ccc(Cl)cc1S(=O)(=O)N(CCN)[C@H]1CS(=O)(=O)C[C@H]1O', 'O=c1c2cc(C(F)(F)F)ccc2oc2ccc3cccc(C(F)(F)F)c3c12', 'C=CCn1c(N/N=C\\\\c2cccc(Br)c2)nc2ccccc2c1=O', 'CCc1ccc2c(c1)N1c3ncccc3S(=O)c3cccc(c31)S2(=O)=O', 'COC(=O)c1c(NC(=O)COC(=O)c2cc(Cl)ccn2)sc(C)c1C', 'CCOC(=O)c1ccsc1NC(=O)COc1cc(Cl)ccc1C(N)=O', 'CC(=NNC(=O)c1cc(-c2ccc(Br)cc2)n[nH]1)c1ccccc1', 'O=S(=O)(CC(F)(F)F)N1CCc2onc(-c3ccc(F)c(F)c3)c2C1', 'Cc1cccc(C(=O)Nc2ccc(Nc3ccc(Br)cc3)nn2)c1', 'COC(=O)c1ccc(Cl)c(NC(=O)NS(=O)(=O)c2ccc(C)cc2)c1', 'Cc1nc2scc(-c3cccs3)c2c(=O)n1Cc1cccc(C(=O)O)c1', 'O=C(NCC1c2ccccc2-c2cncn21)Nc1cccc(Br)c1', 'O=c1c2c(C(F)(F)F)cccc2oc2ccc3cccc(C(F)(F)F)c3c12', 'COC(=O)C(COC(C)(C)C)c1cccc(C(F)(F)F)c1Br', 'Cc1ccc(S(=O)(=O)Oc2ccc(C#Cc3ccccc3)c(Cl)c2)cc1', 'C[C@@H](c1ccc(Cl)cc1)[C@@H](F)c1noc(Cn2nccc(Cl)c2=O)n1', 'COC(=O)CC1=CCCC[C@H]1Oc1c(OC)ccc(C=O)c1Br', 'O=C(Nc1cccnc1-n1cccn1)C1CC1c1ccc(Br)cc1', 'CCOc1cc(C=C2SC(=S)N(c3cccc(C#N)c3)C2=O)ccc1O', 'COC(=O)/C=C/C(=O)OCc1ccc(OC(=O)/C=C/C(=O)OC)cc1Cl', 'Nc1cc(C2CCN(C(=O)Nc3ccc(Br)cc3F)CC2)no1', 'O=C(C1=C(O)C(=O)N(Cc2cccs2)C1c1ccncc1)c1cccs1', 'O=C(NCc1cccnc1)c1cc(Nc2ccc(Br)cc2)ccn1', 'COC(=O)C(C)CC1(F)C(F)(F)C(F)(F)C(F)(F)C(F)(F)C1(F)F', 'O=C(Nc1cc(C(F)(F)F)ccc1Cl)c1nn(-c2ccccc2)c(=O)[nH]1', 'N#Cc1cccc(NC(=O)c2ccc(Nc3cccc(Cl)c3Cl)nc2)c1', 'COC(=O)c1cc(=O)[nH]c(=O)n1[C@@H]1O[C@H](COP(=O)(O)O)[C@@H](O)[C@H]1O', 'O=C1C[N+](=O)c2c(CN3CCCC(C(=O)O)C3)cc(Br)cc2N1', 'CCn1c(=O)oc2cc(NS(=O)(=O)c3ccc(OC)c(Cl)c3)ccc21', '[C-]#[N+]c1cccc(N2C(=O)C(=Cc3ccc(O)c(OCC)c3)SC2=S)c1', 'Cc1ccc(-c2[nH]ncc2/C=N\\\\NC(=O)c2ccc(Br)cc2)cc1', 'CN(C)c1nc2sc(C(=O)NCC3CCCN3)cc2s1.Cl.Cl', 'CCOc1cc(F)cc(F)c1-c1c(Cl)nc(C)n1-c1ccc(Cl)cc1', 'COC(=O)C(C)(C)C(=O)C1CCC(=O)OC1c1ccc(Br)cc1', 'N#Cc1c(C(F)(F)F)cc(-c2cccs2)nc1SC1CCCCC1=O', 'CCCCOC(=O)CCCOS(=O)(=O)Cc1ccc(Cl)c(Cl)c1', 'Cl.NC1(c2noc(-c3csc(-c4ccccc4Cl)n3)n2)CCCC1', 'COC(=O)c1ccc(Cl)c(NC(=O)c2ccc(NS(C)(=O)=O)cc2)c1', 'Cl.O=C(CCCc1cc(Cl)sc1Cl)NC1CC2CCC(C1)N2', 'CN(CC(=O)Nc1cc(Cl)c(Cl)cc1Cl)[C@H]1CCc2ccccc21', 'CSC(=O)CNP(=O)(Oc1ccccc1)Oc1ccc([N+](=O)[O-])cc1', 'C[N+](C)(C)c1ccc(/C=N/Nc2nc(Cl)c(C#N)c(Cl)c2Cl)cc1', 'O=C(Nc1ccc(Br)cc1)c1cc(NCc2ccccn2)ccn1', 'Cc1cccc(C(=O)Nc2ccc(Nc3cccc(Br)c3)nn2)c1', 'COc1ccccc1CNS(=O)(=O)c1cc2c(cc1Cl)NC(=O)CO2', 'NS(=O)(=O)c1cc(F)c(-c2ncccc2-c2ccc(F)c(F)c2)cc1F', 'CC1=CC([CH-]C2C=C(C)C=C2C)C(C)=C1.C[Si](C)=[Zr+2].[Cl-]', 'COC(=O)c1ccc(NC(=O)CNS(=O)(=O)c2cccc(Cl)c2)cc1', 'COc1ccc(N2C(=O)/C(=C3\\\\C(=O)N(C)c4ccccc43)SC2=S)cc1', 'COc1ccc(Cl)cc1S(=O)(=O)Nc1cccc2c1OCC(=O)N2C', 'C#CC(I)OC(=O)Cc1ccc(C2CCCCC2)cc1', 'O=C(Nc1ccccc1Br)c1cc(NCc2ccccn2)ccn1', 'O=C(Nc1cnc(-n2nccn2)c(Cl)c1)c1cc(-c2ccccc2)ns1', 'O=C(COC(=O)c1ccc2nc(Cl)ccc2c1)NC1CCS(=O)(=O)C1', 'C=CC(=O)OCCC(F)(F)C(F)(F)C(F)(F)CC(F)(F)C(F)(F)F', 'O=C1CCC(Nc2nnc(-c3cc(Cl)cc(Cl)c3)s2)C(C2CC2)N1', 'Cc1ccc(F)c([C@@H](N2CCNCC2)C(F)(F)F)c1Cl.Cl.Cl', 'CCCCC(NC(=O)CNS(=O)(=O)c1ccc(Cl)s1)C(=O)OC', 'COc1ccc(Cl)cc1COC(=O)C1=CC=CN2CCS(=O)(=O)N=C12', 'C[C@H](c1cc(C(F)(F)F)cc(Cl)c1F)N1CCNCC1.Cl.Cl', 'N#C/C(=C\\\\c1cnn(-c2ccccc2)c1)C(=O)Nc1cc(Cl)cc(Cl)c1', 'Cc1ccccc1Nc1ncc(C(=O)Nc2cccc(Br)c2)cn1', 'Cc1nc(-c2ccsc2)sc1C(=O)Nc1ccc2c(C)cc(=O)oc2c1', 'CC(C)(C)n1nnc(CC(=O)Nc2nc(-c3ccc(Cl)s3)cs2)n1', 'FC(F)Sc1ccc(NC(=S)N[C@H]2CCSc3ccccc32)cc1', 'O=C(CNS(=O)(=O)c1cccc(Cl)c1O)N1CCOc2ccccc21', 'Cc1cc(-c2cc(F)cc(F)c2)cc(C(=O)Oc2nc(C(F)F)cs2)n1', 'Cc1ccccc1C(=O)NN1C(=O)/C(=C/c2ccc(C=O)cc2)SC1=S', 'O=C(NCc1ccccn1)c1ccc(Nc2ccccc2Br)nc1', 'O=c1ccn2c(n1)O[C@H]1C(Oc3ccc(S(F)(F)(F)(F)F)cc3)[C@@H]1C2', 'Cc1ccc(S(=O)(=O)ON=C2C=CC(=C(C#N)c3ccccc3)S2)cc1', 'Cc1nnc(N2CCN(C(=O)/C=C/c3ccc(Cl)cc3Cl)CC2)s1', 'SC(CBr)C(c1ccccc1)(c1ccccc1)c1ccccc1', 'CC(=O)Nc1ccc(S(=O)(=O)Nc2c(C)ccc(Cl)c2C(=O)O)cc1', 'CN(CCOc1ccccc1)Cn1nc2c(Cl)cc(Cl)cn2c1=S', 'O=C1CC(c2cccc(-c3cncnc3)c2)=Nc2cc(Cl)c(Cl)cc2N1', 'CCn1cc2nc(SCc3c(Cl)cccc3Cl)n(CC)c(=O)c2n1', 'O=C(Nc1nc(-c2ccc(Cl)cc2)cs1)c1ccccc1-n1cnnn1', 'CC(C)(C)c1csc(CNC(=O)c2csc(CN)n2)n1.Cl.Cl', 'CCOC(=O)NC(=O)c1ccsc1NC(=O)COc1ccc(Cl)cc1', 'COc1ccc2nc(/C=C3/SC(=S)N(Cc4ccco4)C3=O)ccc2c1', 'O=C(N/N=C/c1cccn1-c1ccccc1)Nc1cccc(Br)c1', 'CS(=O)(=O)c1ccc(C(=O)NCCc2ccc(Cl)cc2)cc1[N+](=O)[O-]', 'CS(=O)(=O)c1ccc([Si]2(c3ccccc3)N=CC(C(F)(F)F)=N2)cc1', 'NC(=O)CNS(=O)(=O)c1ccc(C(=O)OCc2ccc(Cl)cc2)cc1', 'O=C(Nc1cccc(Cl)c1)c1ccc2nnc(-c3ccc(Cl)cc3)n2c1', 'N#C/C(=C/Nc1cccc2cccnc12)C(=O)Nc1ccc(Cl)cc1Cl', 'CS(=O)(=O)c1ccc(OC(=O)CCC(=O)Nc2ccc(Cl)cn2)cc1', 'Cc1nc(-c2ccc(F)cc2)sc1C(=O)ON1C(=O)c2ccccc2C1=O', 'O=[N+]([O-])C1([N+](=O)[O-])C=CC(c2ccccc2)=CC1(C(F)(F)F)C(F)(F)F', 'COc1ccc(S(=O)(=O)OCC(=O)CCC(Cl)C(C)(C)Cl)cc1', 'O=C(O)c1cc2c(-c3c([O-])c(O)cc4cc(C(=O)O)[nH]c34)c([O-])c(O)cc2[nH]1', 'CC1(C)c2cc(Br)ccc2-c2c1cc(CCS)c1ccccc21', 'COc1ccc(OC)c(C(O)c2ccc(OC)c(OC)c2Br)c1', 'O=C(NO)c1ccc(CNC(=O)c2cc3sc4ccccc4c3s2)cc1', 'COc1ccc(CSc2nc(-c3cccs3)cc(C(F)(F)F)n2)cc1', 'CC(=O)Nc1cccc(OCC(=O)NS(=O)(=O)c2ccc(Cl)cc2)c1', '[N-]=[N+]=N[C@H]1C=C(c2ccc(Br)cc2)N(C(=O)c2ccccc2)CC1', 'O=C(COC(=O)CSc1ccc([N+](=O)[O-])cc1)Nc1cc(F)ccc1F', 'Cl.FC(F)(F)c1cc([C@@H](N2CCNCC2)C(F)(F)F)ccc1Cl', 'Cl.Clc1ccc(COc2ccc(CCn3ccnc3)cc2)c(Cl)c1', 'COC(=O)CNC(=O)c1ccc(NS(=O)(=O)c2ccccc2Cl)cc1', 'Clc1ccc2nc(/N=C3/C[C@@]4(CN5CCC4CC5)ON3)sc2c1Cl', 'C=C1CC[C@@](F)(C(=O)NCc2c(F)cc(Cl)cc2Cl)c2cccnc21', 'N#Cc1ccccc1NC(=O)c1ccnc(Nc2cccc(Cl)c2Cl)c1', 'CS(=O)(=O)Nc1ccccc1CNC(=O)c1cc(Cl)c2c(c1)OCO2', 'CN(C)c1ccc(C2SCC(=O)N2Nc2ncc(Cl)cc2Cl)cc1', 'CC(C(=O)O)n1c(-c2ccccc2)nc2scc(-c3cccs3)c2c1=O', 'CN(C)CCCNc1ccccc1Oc1ccc(Cl)cc1Br', 'Cc1nc(-c2cccs2)sc1C(=O)Nc1ccc2c(C)cc(=O)oc2c1', 'Cc1ccccc1Nc1nccc(C(=O)Nc2cccc(Br)c2)n1', 'COc1cc(OC)c(Cc2cc(Br)c(OC)cc2O)c(OC)c1', 'CC(C)OC(=O)C(=O)/C=C(/C(=O)OC(C)C)c1ccc(Br)cc1', 'C[C@H]1CS(=O)(=O)N(c2ccc(C(=O)NCc3ccco3)c(Cl)c2)C1=O', 'O=C(/C=C/c1ccc(OC(F)F)cc1)OCc1cc(Cl)c2c(c1)OCO2', 'COc1ccc(NS(=O)(=O)c2cc3c(cc2Cl)NC(=O)C3)cc1OC', 'Nc1nc2ccc(S(=O)(=O)Oc3ccc(-c4ccccc4)cc3)cc2s1', 'C#CCn1/c(=N/C(=O)c2ccccc2SC)sc2cc3c(cc21)OCO3', 'COc1ccc2cc(-c3csc(NC(=O)/C=C/c4cccs4)n3)oc2c1', 'C[C@@H]([NH2+]Cc1cc(=O)oc2cc(O)ccc12)c1cc(F)c(Cl)cc1Cl', 'O=C(Nc1ccccc1)Nc1ccc(Nc2cccc(Br)c2)cn1', 'O=C(NCc1ccccc1)c1cnc(Nc2cccc(Br)c2)nc1', 'O=C(CSc1cc(N2CCCC2)ncn1)Nc1cccc(Cl)c1Cl', 'O=C(CCSc1c(F)c(F)c(F)c(F)c1F)c1ccc2ccccc2c1', 'CC(=O)SC(CCCc1ccccc1)C(P(=O)(O)O)P(=O)(O)O', 'COc1c(C(O)c2cccc(C)c2I)ccc(C)c1C', 'O=c1c2cc3c(C(F)(F)F)cccc3cc2oc2cccc(C(F)(F)F)c12', 'CCC(C)(NC(=O)c1csc(CN)n1)c1nc(C)cs1.Cl.Cl', 'COc1cc(C#N)ccc1Oc1cc(F)c(C(=O)NS(C)(=O)=O)cc1F', 'Cc1ccc(N2C(=O)/C(=C\\\\C=C\\\\c3ccccc3[N+](=O)[O-])SC2=S)cc1', 'CN(Cc1nc2ccccc2s1)C(=O)c1ccc(SC(F)(F)F)cc1', 'CS(=O)(=O)c1ccccc1C(=O)Nc1cc(C(N)=O)c(NC(N)=O)s1', 'O=C1C(=CC=Cc2ccc([N+](=O)[O-])cc2)SC(=S)N1Cc1ccccc1', 'C[Si](OCc1ccc(Br)cc1)(c1ccccc1)c1ccccc1', 'N#CC1=C(c2ccc(C(=O)O)c(C(=O)O)c2C#N)C=CC(C(=O)O)(C(=O)O)C1', 'N#Cc1cccc(NC(=O)c2ccnc(Nc3cc(Cl)ccc3Cl)c2)c1', 'COc1ccc(-c2nc(CSc3ccc(C(F)(F)F)cn3)cs2)cc1', 'CC(=O)ON1C(=O)c2ccc3c4c(ccc(c24)C1=O)C(=O)N(OC(C)=O)C3=O', 'O=c1c2cc3c(C(F)(F)F)cccc3cc2oc2c(C(F)(F)F)cccc12', 'C1COCCOCCOCCOCCOCCO1.[Br-].[K+]', 'C=C(C=C(Cl)C(=CCl)SOOO)C(=O)OCCC1CCCCC1', 'C[C@H](OC(=O)c1cccc(S(=O)(=O)Nc2cccc(Cl)c2)c1)C(N)=O', 'Cn1nc(-c2ccc(F)cc2)c(Br)c1N1CCN(C(=O)O)CC1', 'Cc1cnc(C(C)(C)NC(=O)c2csc(CCN)n2)s1.Cl.Cl', 'CCCN/C(=N/Cc1ccc(Cl)nc1)NCC.I', 'O=C(Nc1ccc(-c2nc3ccccc3[nH]2)cc1)c1cnc(Cl)c(Cl)c1', 'Cc1cccc(NC(=O)c2ccnc(Nc3ccc(Br)cc3)n2)c1', 'Cc1nn(C)c(-c2ccc(Cl)cc2Cl)c1C(O)c1ccc(F)cc1F', 'Cc1c(Cl)cccc1NC(=O)CNS(=O)(=O)c1ccc2c(c1)OCO2', 'N#Cc1ccccc1Nc1ccc(NC(=O)c2ccc(Cl)c(Cl)c2)nc1', 'Cl.Cl.FC[C@H](c1cc(Cl)cc(C(F)(F)F)c1)N1CCNCC1', 'Cl.O=C(CSc1cc(Cl)ccc1Cl)NCCC1CCCNC1', 'CC(=O)[C@@H](Cc1ccc(Cl)cc1)NS(=O)(=O)c1ccc([N+](=O)[O-])cc1', 'C=C/C=C(\\\\C=[W])c1c[nH]c2ncnc(N)c12', 'CC(CP(S)(=[Se])CC(C)c1ccccc1)c1ccccc1', 'Cc1c(C(=O)[O-])ccc2c1N[C@H](c1cccc(Br)c1)[C@H]1CC=C[C@@H]21', 'NC(=O)c1ccc(Cl)c(NS(=O)(=O)c2ccc3c(c2)OCCCO3)c1', 'O=C(Nc1ccc(-c2cnc3n2CCC3)cc1)c1cncc(Br)c1', 'Cc1cc(/C=C2/SC(=S)NC2=O)c(C)n1-c1cccc(C(F)(F)F)c1', 'Cc1ccc(-c2cc(C(=O)N/N=C\\\\c3ccccc3Br)[nH]n2)cc1', 'COc1ccc2c(c1)/C(=C/c1sc(=S)n(-c3cccc(O)c3)c1O)C=N2', 'CCN/C(=N/CCc1ccc(Cl)nc1)N(C)C.I', 'CSc1ccc(C(=O)OCC(=O)Nc2c(F)cccc2F)cc1[N+](=O)[O-]', 'N#Cc1ccc(NC(Cc2c[nH]c3ccccc23)C(N)=O)cc1Br', 'CNC1CCCN(C(=O)c2ccc3cc(Br)ccc3c2)C1.Cl', 'COc1ccc(C2=C[C@H](c3cccc(Br)c3)n3ncnc3N2)cc1', 'CCOC(=O)c1sc(C)c(C)c1NC(=O)c1ccc(Cl)c([N+](=O)[O-])c1', 'N#Cc1ccc(Nc2ccnc(C(=O)Nc3cccc(Cl)c3Cl)c2)cc1', 'COCC(=O)Nc1ccc(S(=O)(=O)NC(=O)c2ccccc2Cl)cc1', 'Cc1nc(-c2ccccc2)c(C(=O)OCc2coc(-c3cccs3)n2)s1', 'COC(=O)c1ccsc1NC(=O)c1cnc(OC2CCOC2)c(Cl)c1', 'O=C(O)Cn1c(=O)c([As]CCc2ccccc2)cc2ccccc21', 'N#Cc1ccc(Cl)c(-c2cc(=O)c3c(F)c(-n4ccnc4)c(F)cc3[nH]2)c1', 'CCCC#CCSC(N)=S.Cl.[H]/N=C1\\\\SCC(=CCCC)S1', 'CC(=O)Nc1ccc(S(=O)(=O)CCOC(=O)c2cccc(Cl)c2)nc1', 'Cc1ccc(C(=O)COC(=O)c2cccnc2SC(F)F)cc1[N+](=O)[O-]', 'O=C(O)[C@H]1CN(C(=O)O)CCN1S(=O)(=O)c1ccc(C(F)(F)F)cc1', 'O=C(Nc1nc(-c2ccc(Cl)cc2)cs1)c1cccc(-n2cnnn2)c1', 'NS(=O)(=O)c1cccc(NC(=O)COC(=O)Cc2ccccc2Cl)c1', 'Cc1ccc(Nc2cnc(C(=O)Nc3ccccc3)cn2)c(Br)c1', 'O=c1cc(/C=C/c2cccnc2)nc2ccn(-c3ccc(Cl)cc3Cl)n12', 'CNS(=O)(=O)c1ccc(C(=O)OCC(=O)Nc2ccc(Cl)cc2)cc1', 'CC(C)CN(CCC(N)=NO)S(=O)(=O)c1c(Br)nnn1C', 'Cc1nc(Nc2ccccc2)cc(C(=O)Nc2cccc(Br)c2)n1', 'Cc1nc(-c2ccccc2F)sc1C(=O)ON1C(=O)c2ccccc2C1=O', 'Cc1cc2nc(NC(=O)c3csc(N=C(N)N)n3)sc2cc1C.Cl', 'CCOC(=O)c1cc(CC)sc1NC(=O)c1ccc(Cl)c([N+](=O)[O-])c1', 'O=C(COC(=O)c1ccccc1SC(F)F)Nc1ccc([N+](=O)[O-])cc1', 'C#CCn1c(=O)sc2cc(F)c(-c3ccc(C(F)(F)F)n(C)c3=O)cc21', 'CCCS(=O)(=O)c1ccccc1C(=O)Nc1ccc(Cl)c([N+](=O)[O-])c1', 'COc1ccc(COC(C)(CI)c2ccccc2)cc1', 'CCCN/C(=N\\\\C)NCCc1ccc(Cl)nc1.I', 'O=C(NCCc1ccc(-c2ccsc2)s1)c1ccc(C(F)(F)F)nc1', 'CCc1ccc(NC(=O)c2cc(Cl)c3c(c2)OCO3)cc1S(N)(=O)=O', 'O=C(NCc1ccccn1)c1ccc(Nc2cccc(Br)c2)cn1', 'O=C(/C=C/c1cccc([N+](=O)[O-])c1)Nc1ccc(S(=O)(=O)C(F)F)cc1', 'COc1cccc(C(=O)OCc2noc(-c3cccs3)n2)c1OC(F)F', 'C[C@@]12CCCN(C(=O)c3nsc(Cl)c3Cl)[C@H]1CCc1cncnc12', 'O=C(Nc1ccc2oc(=O)[nH]c2c1)c1ccccc1SCc1cccs1', 'O.O.O.O.O=C(O)C[N-]C(=O)C/N=C/c1ccc(O)cc1O.[Co]', 'CCc1c(C)sc(NC(=O)c2cc(Cl)ccc2[N+](=O)[O-])c1C(=O)OC', 'O=C(Nc1ccc(-n2cncn2)cc1)C1(c2cccc(Br)c2)CC1', 'N#Cc1cccc(S(=O)(=O)N2CC[NH+](Cc3ccc(Cl)s3)CC2)c1', 'O=C(CCOc1ccc(Cl)cc1Cl)NCc1nc2nc(F)ccc2[nH]1', 'CN(C(=O)c1cnc(Nc2cccc(Br)c2)cn1)c1ccccc1', 'CC(OC(=O)c1ccccc1S(C)(=O)=O)C(=O)Nc1ccc(Cl)cn1', 'Cc1ccccc1NC(=O)c1ccc(Nc2cccc(Br)c2)nn1', 'N#Cc1cccc(NC(=O)c2ccc(Nc3cccc(Cl)c3Cl)cn2)c1', 'CN(C)S(=O)(=O)c1cc(C(=O)Oc2cccc(C(N)=O)c2)ccc1Cl', 'COC(=O)c1ccccc1NC(=O)COC(=O)CSc1nnc(N)s1', 'N#CC1=C(N)Oc2n[nH]c(-c3ccccc3)c2[C@@H]1c1c(Cl)cccc1Cl', 'NC(=O)c1cc(NS(=O)(=O)c2ccc3c(c2)OCCCO3)ccc1Cl', 'CO/N=C(/C(=O)NS(C)(=O)=O)c1ccccc1Oc1cc(=S)nc[nH]1', 'CC(NC(=O)c1cc(Cl)c2c(c1)OCO2)c1cccc(S(N)(=O)=O)c1', 'CN(C(=O)c1ccnc(Nc2cccc(Br)c2)n1)c1ccccc1', 'N#Cc1cccc(NC(=O)c2cc(Nc3cc(Cl)cc(Cl)c3)ccn2)c1', 'N#Cc1ccc(NC(=O)c2ccc(Nc3cc(Cl)ccc3Cl)nc2)cc1', 'CC1(C)Oc2ccc(S(=O)(=O)NC(=O)Nc3ccccc3Cl)cc2O1', 'O=C(COc1ccccc1)NC1C(=O)N2C(C(=O)O)=C(CCl)CS[C@H]12', 'C=C(C)C(=O)OC(C)C(F)(F)C(F)(F)C(F)(F)C(F)(F)C(F)(F)F', 'CN(Cc1ccc(-c2ccnc3[nH]c(=O)ccc23)c(F)c1)S(=O)[O-].Cl', 'CC/C(=C/NCc1ccc(Cl)cc1)C(=O)Nc1ccc(Cl)cc1Cl', 'C[C@H]1Cc2ccccc2N1C(=O)c1cn(-c2cccc(Br)c2)nn1', 'O=C(ON1C(=O)c2ccccc2C1=O)c1ccc(CNC(=O)C(F)(F)F)o1', 'O=C(N[C@@H]1C[C@H]1c1cccnc1)c1cc(-c2ccc(Br)cc2)n[nH]1', 'O=C(Nc1ccc(Cl)cc1)c1ccn2ncc(-c3cccc(Cl)c3)c2n1', 'COC(=O)c1nn(CCOCCCC(F)F)c2c(Cl)nc(Cl)nc12', 'CC1(C)SC2N(C(=O)C23OC3(Cl)C(=O)Nc2ccccc2)C1C(=O)O', 'O=C(Nc1ccc(Br)cc1)c1cncc(NCc2ccccn2)c1', 'CCOC(=O)c1c(C)sc(Sc2ccccc2N([O-])O)c1OC(C)=O', 'O=c1cc(C(F)(F)F)c2ccc(NC(=S)Nc3ccccc3F)cc2o1', 'COC(=O)c1cc(S(=O)(=O)Nc2ccc(NC(C)=O)cc2)ccc1Cl', 'Cc1ccc(-c2cc(C(=O)NN=Cc3cccc(Br)c3)[nH]n2)cc1', 'C[C@H](O)CON1C=C2C=NC=C(Nc3ccc(Br)cc3F)N2C1', 'O=C(c1ccc(Cl)c(Cl)c1)N1CCN(Cc2ccc(Cl)cc2)CC1', 'Cl.Cl.FC[C@@H](c1cc(C(F)(F)F)ccc1Cl)N1CCNCC1', 'N#Cc1ccc(Nc2ccnc(C(=O)Nc3cc(Cl)ccc3Cl)c2)cc1', 'CC(NC(=O)C(C)N1C(=O)/C(=C/c2ccc(F)cc2)SC1=S)C(=O)O', 'O=P([O-])(O)C(O)(CC[S+]1CCC(c2ccccc2)C1)P(=O)(O)O', 'Cc1cc(C(=O)OCCNC(=O)c2ccc([N+](=O)[O-])cc2Cl)sc1C', 'N#Cc1cccc(Nc2cncc(C(=O)Nc3ccc(Cl)cc3Cl)c2)c1', 'CS(=O)(=O)c1ccc(C(=O)c2c(CC(N)=O)noc2C2CC2)c(Cl)c1', 'COc1cc2nc(OC)c(S(=O)(=O)c3nnc(C)s3)nc2cc1OC', 'Cc1cc(NN=Cc2ccc(Br)cc2)nc(-c2ccccc2O)n1', 'O=C(Nc1cccc(Br)c1)c1ccnc(NCc2cccnc2)c1', 'O=C1C(SCc2ccco2)=C(c2cccs2)C(=O)N1Cc1ccncc1', 'O=C(Nc1ccc(Cl)c(C(F)(F)F)c1)OCc1cccc(-n2c3nn2-3)c1', 'Cc1sc(NC(=O)CSCC(=O)O)c(C(N)=O)c1-c1ccc(F)cc1', 'CN(Cc1ccccc1C(F)(F)F)C(=O)c1csc(-c2cccs2)n1', 'CCCCOc1ccc(Br)cc1C=C1C(=O)OC(C)(C)OC1=O', 'O=C(CNC(=O)Nc1ccc(Cl)c(Cl)c1)N/N=C/c1cccc(F)c1', 'O=CC=Cn1nc(C(=O)O)c2c1CC(c1ccsc1)(c1ccsc1)C=C2', 'CCOC(=O)c1c(NC(=O)c2ccc(Cl)cc2[N+](=O)[O-])sc(C)c1C', 'CC(C)(C)OC(=O)C(C)(C)Oc1cc(Br)cc(C(F)(F)F)c1']}\n"
     ]
    }
   ],
   "source": [
    "tmp_original = []\n",
    "for batch in train_loader_original:\n",
    "    print(batch)\n",
    "    tmp_original = batch\n",
    "    break"
   ]
  },
  {
   "cell_type": "code",
   "execution_count": 25,
   "id": "f279211477cf5d0b",
   "metadata": {
    "ExecuteTime": {
     "end_time": "2025-01-26T14:02:43.240360Z",
     "start_time": "2025-01-26T14:02:43.238110Z"
    }
   },
   "outputs": [
    {
     "name": "stdout",
     "output_type": "stream",
     "text": [
      "dict_keys(['spec', 'mol', 'precursor_mz', 'adduct', 'mol_freq', 'identifier', 'smiles', 'candidates', 'labels', 'batch_ptr', 'candidates_smiles'])\n",
      "batch_ptr is present: tensor([256, 149, 256, 256, 256, 256, 175, 256, 256, 256, 256, 256])\n"
     ]
    }
   ],
   "source": [
    "# Check the keys in the batch\n",
    "print(tmp_original.keys())\n",
    "\n",
    "# Specifically check if 'batch_ptr' is present\n",
    "if 'batch_ptr' in tmp_original:\n",
    "    print(\"batch_ptr is present:\", tmp_original['batch_ptr'])\n",
    "else:\n",
    "    print(\"batch_ptr is missing\")"
   ]
  },
  {
   "cell_type": "code",
   "execution_count": 26,
   "id": "82cf5fad037c8ffe",
   "metadata": {
    "ExecuteTime": {
     "end_time": "2025-01-26T14:02:43.282139Z",
     "start_time": "2025-01-26T14:02:43.279170Z"
    }
   },
   "outputs": [
    {
     "data": {
      "text/plain": [
       "dict_keys(['spec', 'mol', 'precursor_mz', 'adduct', 'mol_freq', 'identifier', 'smiles', 'candidates', 'labels', 'batch_ptr', 'candidates_smiles'])"
      ]
     },
     "execution_count": 26,
     "metadata": {},
     "output_type": "execute_result"
    }
   ],
   "source": [
    "tmp_original.keys()"
   ]
  },
  {
   "cell_type": "code",
   "execution_count": 27,
   "id": "8a967c5745662a1f",
   "metadata": {
    "ExecuteTime": {
     "end_time": "2025-01-26T14:02:43.319214Z",
     "start_time": "2025-01-26T14:02:43.316715Z"
    }
   },
   "outputs": [
    {
     "data": {
      "text/plain": [
       "(torch.Size([12, 61, 2]), torch.Size([12, 4096]))"
      ]
     },
     "execution_count": 27,
     "metadata": {},
     "output_type": "execute_result"
    }
   ],
   "source": [
    "tmp_original['spec'].shape, tmp_original['mol'].shape, "
   ]
  },
  {
   "cell_type": "code",
   "execution_count": 28,
   "id": "f4541b8ff18abfc5",
   "metadata": {
    "ExecuteTime": {
     "end_time": "2025-01-26T14:02:43.358649Z",
     "start_time": "2025-01-26T14:02:43.356032Z"
    }
   },
   "outputs": [
    {
     "data": {
      "text/plain": [
       "tensor([559.2603, 167.9936, 166.0521, 133.0608, 325.1911, 522.3560, 854.5700,\n",
       "        323.9880, 539.1200, 342.1547, 326.2339, 383.0497])"
      ]
     },
     "execution_count": 28,
     "metadata": {},
     "output_type": "execute_result"
    }
   ],
   "source": [
    "tmp_original['precursor_mz']"
   ]
  },
  {
   "cell_type": "code",
   "execution_count": 29,
   "id": "d33f02e95d06defc",
   "metadata": {
    "ExecuteTime": {
     "end_time": "2025-01-26T14:02:43.398833Z",
     "start_time": "2025-01-26T14:02:43.396724Z"
    }
   },
   "outputs": [
    {
     "data": {
      "text/plain": [
       "(['[M+H]+',\n",
       "  '[M+H]+',\n",
       "  '[M+H]+',\n",
       "  '[M+H]+',\n",
       "  '[M+H]+',\n",
       "  '[M+H]+',\n",
       "  '[M+H]+',\n",
       "  '[M+H]+',\n",
       "  '[M+Na]+',\n",
       "  '[M+H]+',\n",
       "  '[M+H]+',\n",
       "  '[M+H]+'],)"
      ]
     },
     "execution_count": 29,
     "metadata": {},
     "output_type": "execute_result"
    }
   ],
   "source": [
    "tmp_original['adduct'], "
   ]
  },
  {
   "cell_type": "code",
   "execution_count": 30,
   "id": "f2246bafe4c779ae",
   "metadata": {
    "ExecuteTime": {
     "end_time": "2025-01-26T14:02:43.433805Z",
     "start_time": "2025-01-26T14:02:43.431213Z"
    }
   },
   "outputs": [
    {
     "data": {
      "text/plain": [
       "tensor([ 81.,  24.,  16.,  57., 405., 301.,  73.,  35.,  78.,  63.,   3., 200.])"
      ]
     },
     "execution_count": 30,
     "metadata": {},
     "output_type": "execute_result"
    }
   ],
   "source": [
    "tmp_original['mol_freq']"
   ]
  },
  {
   "cell_type": "code",
   "execution_count": 31,
   "id": "69b44a8f863047a4",
   "metadata": {
    "ExecuteTime": {
     "end_time": "2025-01-26T14:02:43.474777Z",
     "start_time": "2025-01-26T14:02:43.472110Z"
    }
   },
   "outputs": [
    {
     "data": {
      "text/plain": [
       "tensor([ True, False, False,  ..., False, False, False])"
      ]
     },
     "execution_count": 31,
     "metadata": {},
     "output_type": "execute_result"
    }
   ],
   "source": [
    "tmp_original['labels']"
   ]
  },
  {
   "cell_type": "code",
   "execution_count": 32,
   "id": "6514ce8596d69758",
   "metadata": {
    "ExecuteTime": {
     "end_time": "2025-01-26T14:02:43.523141Z",
     "start_time": "2025-01-26T14:02:43.513438Z"
    }
   },
   "outputs": [
    {
     "data": {
      "text/plain": [
       "tensor(12)"
      ]
     },
     "execution_count": 32,
     "metadata": {},
     "output_type": "execute_result"
    }
   ],
   "source": [
    "sum(tmp_original['labels'])"
   ]
  },
  {
   "cell_type": "code",
   "execution_count": 33,
   "id": "2c9d2d7a5c16ed90",
   "metadata": {
    "ExecuteTime": {
     "end_time": "2025-01-26T14:02:43.557679Z",
     "start_time": "2025-01-26T14:02:43.554942Z"
    }
   },
   "outputs": [
    {
     "data": {
      "text/plain": [
       "tensor([   0,  256,  405,  661,  917, 1173, 1429, 1604, 1860, 2116, 2372, 2628])"
      ]
     },
     "execution_count": 33,
     "metadata": {},
     "output_type": "execute_result"
    }
   ],
   "source": [
    "torch.nonzero(tmp_original['labels'], as_tuple=False).squeeze()"
   ]
  },
  {
   "cell_type": "code",
   "execution_count": 34,
   "id": "2e83bcb489cae86a",
   "metadata": {
    "ExecuteTime": {
     "end_time": "2025-01-26T14:02:43.590381Z",
     "start_time": "2025-01-26T14:02:43.588554Z"
    }
   },
   "outputs": [
    {
     "data": {
      "text/plain": [
       "2884"
      ]
     },
     "execution_count": 34,
     "metadata": {},
     "output_type": "execute_result"
    }
   ],
   "source": [
    "len(tmp_original['labels'])"
   ]
  },
  {
   "cell_type": "code",
   "execution_count": 35,
   "id": "8623ad0307ee1f18",
   "metadata": {
    "ExecuteTime": {
     "end_time": "2025-01-26T14:02:43.625841Z",
     "start_time": "2025-01-26T14:02:43.623285Z"
    }
   },
   "outputs": [
    {
     "data": {
      "text/plain": [
       "tensor([256, 149, 256, 256, 256, 256, 175, 256, 256, 256, 256, 256])"
      ]
     },
     "execution_count": 35,
     "metadata": {},
     "output_type": "execute_result"
    }
   ],
   "source": [
    "tmp_original['batch_ptr']"
   ]
  },
  {
   "cell_type": "code",
   "execution_count": 36,
   "id": "153e8fd767c6cc73",
   "metadata": {
    "ExecuteTime": {
     "end_time": "2025-01-26T14:02:43.667332Z",
     "start_time": "2025-01-26T14:02:43.664850Z"
    }
   },
   "outputs": [
    {
     "data": {
      "text/plain": [
       "tensor(2884)"
      ]
     },
     "execution_count": 36,
     "metadata": {},
     "output_type": "execute_result"
    }
   ],
   "source": [
    "sum(tmp_original['batch_ptr'])"
   ]
  },
  {
   "cell_type": "code",
   "execution_count": 37,
   "id": "57abe1cdad7d1e03",
   "metadata": {
    "ExecuteTime": {
     "end_time": "2025-01-26T14:02:43.701172Z",
     "start_time": "2025-01-26T14:02:43.699128Z"
    }
   },
   "outputs": [
    {
     "data": {
      "text/plain": [
       "2884"
      ]
     },
     "execution_count": 37,
     "metadata": {},
     "output_type": "execute_result"
    }
   ],
   "source": [
    "len(tmp_original['candidates'])"
   ]
  },
  {
   "cell_type": "code",
   "execution_count": 38,
   "id": "6a5c6ecd1c18994e",
   "metadata": {
    "ExecuteTime": {
     "end_time": "2025-01-26T14:02:43.734161Z",
     "start_time": "2025-01-26T14:02:43.732259Z"
    }
   },
   "outputs": [
    {
     "data": {
      "text/plain": [
       "torch.Size([4096])"
      ]
     },
     "execution_count": 38,
     "metadata": {},
     "output_type": "execute_result"
    }
   ],
   "source": [
    "tmp_original['candidates'][5].shape"
   ]
  },
  {
   "cell_type": "code",
   "execution_count": 39,
   "id": "3f7ec6537b665b0c",
   "metadata": {
    "ExecuteTime": {
     "end_time": "2025-01-26T14:02:43.774038Z",
     "start_time": "2025-01-26T14:02:43.771793Z"
    }
   },
   "outputs": [
    {
     "data": {
      "text/plain": [
       "2884"
      ]
     },
     "execution_count": 39,
     "metadata": {},
     "output_type": "execute_result"
    }
   ],
   "source": [
    "len(tmp_original['candidates_smiles'])"
   ]
  },
  {
   "cell_type": "markdown",
   "id": "effa503f7496c1bb",
   "metadata": {},
   "source": [
    "# MSnRetrieval"
   ]
  },
  {
   "cell_type": "code",
   "execution_count": 40,
   "id": "81578a73d8e57643",
   "metadata": {
    "ExecuteTime": {
     "end_time": "2025-01-26T14:02:43.800977Z",
     "start_time": "2025-01-26T14:02:43.799313Z"
    }
   },
   "outputs": [],
   "source": [
    "from massspecgym.featurize import SpectrumFeaturizer"
   ]
  },
  {
   "cell_type": "code",
   "execution_count": 41,
   "id": "5df6778634ce3906",
   "metadata": {
    "ExecuteTime": {
     "end_time": "2025-01-26T14:02:43.816454Z",
     "start_time": "2025-01-26T14:02:43.814795Z"
    }
   },
   "outputs": [],
   "source": [
    "config = {\n",
    "    'features': ['collision_energy', 'ionmode', 'adduct', 'spectrum_stats', 'atom_counts', 'value', \"retention_time\", 'ion_source', 'binned_peaks'],\n",
    "    'feature_attributes': {\n",
    "        'atom_counts': {\n",
    "            'top_n_atoms': 12,\n",
    "            'include_other': True,\n",
    "        },\n",
    "    },\n",
    "}"
   ]
  },
  {
   "cell_type": "code",
   "execution_count": 42,
   "id": "3e4d2d35f3c5e077",
   "metadata": {
    "ExecuteTime": {
     "end_time": "2025-01-26T14:02:43.828776Z",
     "start_time": "2025-01-26T14:02:43.827297Z"
    }
   },
   "outputs": [],
   "source": [
    "featurizer = SpectrumFeaturizer(config, mode='torch')"
   ]
  },
  {
   "cell_type": "code",
   "execution_count": 43,
   "id": "b1baf406d4a19229",
   "metadata": {
    "ExecuteTime": {
     "end_time": "2025-01-26T14:02:44.386607Z",
     "start_time": "2025-01-26T14:02:44.384470Z"
    }
   },
   "outputs": [],
   "source": [
    "file_json = \"/Users/macbook/CODE/Majer:MassSpecGym/data/candidates_generation/MassSpecGymMSn_retrieval_candidates_formula.json\""
   ]
  },
  {
   "cell_type": "code",
   "execution_count": 44,
   "id": "4abdab9e026ffb09",
   "metadata": {
    "ExecuteTime": {
     "end_time": "2025-01-26T14:09:16.598133Z",
     "start_time": "2025-01-26T14:02:45.089552Z"
    }
   },
   "outputs": [
    {
     "name": "stdout",
     "output_type": "stream",
     "text": [
      "Warning: No candidates for 0 SMILES. Skipping them.\n",
      "Total valid indices: 16476\n",
      "MSnRetrievalDataset length: 16476\n"
     ]
    }
   ],
   "source": [
    "# Init hyperparameters\n",
    "n_peaks = 60\n",
    "fp_size = 4096\n",
    "batch_size = 12\n",
    "\n",
    "# Load dataset\n",
    "dataset_msn = MSnRetrievalDataset(\n",
    "    pth=file_mgf,\n",
    "    candidates_pth=file_json,\n",
    "    featurizer=featurizer,\n",
    "    mol_transform=MolFingerprinter(fp_size=fp_size),\n",
    "    max_allowed_deviation=0.005\n",
    ")\n"
   ]
  },
  {
   "cell_type": "code",
   "execution_count": 45,
   "id": "313e58fab0155c4b",
   "metadata": {
    "ExecuteTime": {
     "end_time": "2025-01-26T14:09:39.690421Z",
     "start_time": "2025-01-26T14:09:39.688534Z"
    }
   },
   "outputs": [],
   "source": [
    "# Init data module\n",
    "data_module_msn = MassSpecDataModule(\n",
    "    dataset=dataset_msn,\n",
    "    batch_size=batch_size,\n",
    "    split_pth=split_file,\n",
    "    num_workers=0,\n",
    ")"
   ]
  },
  {
   "cell_type": "code",
   "execution_count": 46,
   "id": "af9eb30cc9d0b54f",
   "metadata": {
    "ExecuteTime": {
     "end_time": "2025-01-26T14:09:42.288467Z",
     "start_time": "2025-01-26T14:09:42.264476Z"
    }
   },
   "outputs": [
    {
     "name": "stdout",
     "output_type": "stream",
     "text": [
      "Train dataset size: 12536\n",
      "Val dataset size: 1952\n"
     ]
    }
   ],
   "source": [
    "data_module_msn.prepare_data()\n",
    "data_module_msn.setup()\n",
    "\n",
    "train_loader_msn = data_module_msn.train_dataloader()"
   ]
  },
  {
   "cell_type": "code",
   "execution_count": 47,
   "id": "511d947bf9b25fcd",
   "metadata": {
    "ExecuteTime": {
     "end_time": "2025-01-26T14:09:43.800551Z",
     "start_time": "2025-01-26T14:09:42.559594Z"
    }
   },
   "outputs": [
    {
     "name": "stdout",
     "output_type": "stream",
     "text": [
      "{'spec': DataBatch(x=[128, 1039], edge_index=[2, 232], batch=[128], ptr=[13]), 'mol': tensor([[0., 0., 0.,  ..., 0., 0., 0.],\n",
      "        [0., 0., 0.,  ..., 0., 0., 0.],\n",
      "        [0., 0., 0.,  ..., 0., 0., 0.],\n",
      "        ...,\n",
      "        [0., 0., 0.,  ..., 0., 0., 0.],\n",
      "        [0., 0., 0.,  ..., 0., 0., 0.],\n",
      "        [0., 0., 0.,  ..., 0., 0., 0.]]), 'precursor_mz': tensor([1096.6262,  750.3531,  419.0939,  456.1321,  435.1133,  414.1248,\n",
      "         334.1397,  389.1408,  285.1921,  578.3501,  612.3603,  339.2166]), 'adduct': ['[M+NH4]+', '[M+H]+', '[M+H]+', '[M+H]+', '[M+H]+', '[M+H]+', '[M+H]+', '[M+H]+', '[M+H]+', '[M+H]+', '[M+H]+', '[M+H-H2O]+'], 'identifier': ['0009772_0000000', '0094731_0000000', '0043678_0000000', '0048544_0000000', '0039329_0000000', '0021262_0000000', '0069271_0000000', '0070623_0000000', '0085579_0000000', '0053616_0000000', '0007343_0000000', '0006342_0000000'], 'mol_freq': tensor([2., 2., 1., 1., 1., 1., 1., 2., 2., 3., 3., 4.]), 'smiles': ['CC(=CCC[C@@](C)([C@H]1CC[C@@]2(C1[C@@H](CC3[C@]2(CCC4[C@@]3(CC[C@@H](C4(C)C)O[C@H]5[C@@H]([C@H]([C@@H]([C@H](O5)CO)O)O)O[C@H]6[C@@H]([C@H]([C@@H]([C@H](O6)CO)O)O)O)C)C)O)C)O[C@H]7[C@@H]([C@H]([C@@H]([C@H](O7)CO[C@H]8[C@@H]([C@H]([C@H](CO8)O)O)O)O)O)O)C', 'C1[C@H]2[C@@H]([C@@H](S1)CCCCC(=O)NCCOCCOCCOCCOCCC(=O)NCCC(=O)N3CC4=CC=CC=C4C#CC5=CC=CC=C53)NC(=O)N2', 'CCC1(CC2=C(CO1)SC3=C2C(=O)N(N=N3)CC(=O)NC4=CC(=CC=C4)Cl)C', 'CCC(C(=O)O)NC(=O)C(CC1=CC(=O)NC2=CC=CC=C21)NC(=O)C3=CC=C(C=C3)Cl', 'CC1=C(C=C(O1)C2=C(C=NN2)C(=O)N3CCOCC3)S(=O)(=O)NC4=CC(=CC=C4)F', 'COC1=CC=CC=C1C2=NOC(=N2)C3=CN(C(=O)C4=CC=CC=C43)C5=CC(=CC=C5)F', 'C1=CC=C2C(=C1)C(=CN2)C[C@@H](C(=O)O)NC(=O)CC[C@H](C(=O)O)N', 'C1=CC=C(C=C1)C2=NC(C(=O)NC3=CC=CC=C32)NC(=O)NC4=CC=CC=C4F', 'CC(C)C[C@@H](C(=O)NCC(=O)N)NC(=O)[C@@H]1CCCN1', 'CC(C)NC(=O)C1CCC(CC1)N2C3=C(C=CC(=C3)CN4CCC(CC4)C(C)(C)O)N=C2NC(=O)C5=CC=C(C=C5)F', 'CCC(C)C1C(=O)N(C(C(=O)N(C(C(=O)NCCC(=O)OC(C(=O)N2CCCC2C(=O)N1)CC(CO)O)C)C)C(C)C)C', 'CC(CCCCC(C(CO)C(=O)OC)O)C/C(=C/C(=C/C(=O)O)/C)/C'], 'candidates': tensor([[0., 0., 0.,  ..., 0., 0., 0.],\n",
      "        [0., 0., 0.,  ..., 0., 0., 0.],\n",
      "        [0., 0., 0.,  ..., 0., 0., 0.],\n",
      "        ...,\n",
      "        [0., 0., 0.,  ..., 0., 0., 0.],\n",
      "        [0., 0., 0.,  ..., 0., 0., 0.],\n",
      "        [0., 0., 0.,  ..., 0., 0., 0.]]), 'labels': tensor([ True, False, False,  ..., False, False, False]), 'batch_ptr': tensor([140,  85, 256, 256, 197, 177, 256, 256, 256,  55,  36, 256],\n",
      "       dtype=torch.int32), 'candidates_smiles': ['CC(=CCC[C@@](C)([C@H]1CC[C@@]2(C1[C@@H](CC3[C@]2(CCC4[C@@]3(CC[C@@H](C4(C)C)O[C@H]5[C@@H]([C@H]([C@@H]([C@H](O5)CO)O)O)O[C@H]6[C@@H]([C@H]([C@@H]([C@H](O6)CO)O)O)O)C)C)O)C)O[C@H]7[C@@H]([C@H]([C@@H]([C@H](O7)CO[C@H]8[C@@H]([C@H]([C@H](CO8)O)O)O)O)O)O)C', 'CC(C)=CCC[C@](C)(O[C@@H]1O[C@H](CO[C@@H]2OC[C@@H](O)[C@H](O)[C@H]2O)[C@@H](O)[C@H](O)[C@H]1O)[C@H]1CC[C@]2(C)[C@@H]1[C@H](O)C[C@@H]1[C@@]3(C)CC[C@H](O)C(C)(C)[C@@H]3[C@@H](O[C@@H]3O[C@H](CO)[C@@H](O)[C@H](O)[C@H]3O[C@@H]3O[C@@H](C)[C@H](O)[C@@H](O)[C@H]3O)C[C@]12C', 'CC(C)=CCC[C@@](C)(O[C@@H]1O[C@H](CO[C@H]2O[C@H](CO)[C@@H](O)[C@@H]2O)[C@@H](O)[C@H](O)[C@H]1O)[C@H]1CC[C@]2(C)C1C(O)CC1[C@@]3(C)CC[C@H](O[C@@H]4O[C@H](CO)[C@@H](O)[C@H](O)[C@H]4O[C@@H]4O[C@H](CO)[C@@H](O)[C@H](O)[C@H]4O)C(C)(C)[C@@H]3CC[C@]12C', 'CC(C)=CCCC(C)(OC1OC(CO)C(O)C(O)C1OC1OC(CO)C(O)C1O)C1CCC2(C)C1C(O)CC1C3(C)CCC(OC4OC(CO)C(O)C(O)C4OC4OC(CO)C(O)C(O)C4O)C(C)(C)C3CCC12C', 'CC(C)=CCC[C@](C)(O[C@@H]1O[C@H](CO[C@@H]2O[C@@H](CO)[C@H](O)[C@H]2O)[C@@H](O)[C@H](O)[C@H]1O)[C@H]1CC[C@]2(C)[C@@H]1[C@H](O)CC1[C@@]3(C)CC[C@H](O[C@@H]4O[C@H](CO)[C@@H](O)[C@H](O)[C@H]4O[C@@H]4O[C@H](CO)[C@@H](O)[C@H](O)[C@H]4O)C(C)(C)[C@@H]3CC[C@]12C', 'CC(C)=CCCC(C)(OC1OC(COC2OC(CO)C(O)C2O)C(O)C(O)C1O)C1CCC2(C)C1C(O)CC1C3(C)CCC(OC4OC(CO)C(O)C(O)C4OC4OC(CO)C(O)C(O)C4O)C(C)(C)C3CCC12C', 'CC(C)=CCCC(O)(COC1OC(CO)C(O)C(O)C1O)C1CCC2(C)C1CCC1C3(CO)CCC(OC4OC(CO)C(O)C(OC5OCC(O)C(O)C5O)C4OC4OC(C)C(O)C(O)C4O)C(C)(C)C3CCC12C', 'CC(C)=CCC[C@](C)(O[C@@H]1O[C@H](CO[C@@H]2O[C@@H](CO)[C@H](O)[C@H]2O)[C@@H](O)[C@H](O)[C@H]1O)[C@H]1CC[C@]2(C)[C@@H]1C(O)C[C@@H]1[C@@]3(C)CCC(O[C@@H]4O[C@H](CO)[C@@H](O)[C@H](O)[C@H]4O[C@@H]4O[C@H](CO)[C@@H](O)[C@H](O)[C@H]4O)C(C)(C)[C@@H]3CC[C@]12C', 'CC(C)=CCC[C@](C)(OC1OC(OCC2OCC(O)C(O)C2O)C(O)C(O)C1O)[C@H]1CC[C@]2(C)[C@@H]1[C@H](O)C[C@@H]1[C@@]3(C)CC[C@H](OC4OC(CO)C(O)C(O)C4OC4OC(CO)C(O)C(O)C4O)C(C)(C)[C@@H]3CC[C@]12C', 'CC(C)=CCC[C@@](C)(O[C@H]1O[C@@H](CO)[C@H](O)[C@@H](O)[C@@H]1O[C@H]1O[C@@H](CO)[C@H](O)[C@@H](O)[C@@H]1O)[C@@H]1CC[C@@]2(C)[C@H]1[C@@H](O)C[C@H]1[C@]3(C)CC[C@@H](O[C@@H]4O[C@@H](CO[C@H]5OC[C@H](O)[C@@H](O)[C@@H]5O)[C@H](O)[C@@H](O)[C@@H]4O)C(C)(C)[C@H]3CC[C@@]12C', 'CC(C)=CCC[C@](C)(O[C@@H]1O[C@H](CO[C@@H]2O[C@H](CO)[C@@H](O)[C@@H]2O)[C@@H](O)[C@H](O)[C@H]1O)[C@H]1CC[C@]2(C)[C@@H]1[C@H](O)C[C@@H]1[C@@]3(C)CC[C@H](O[C@@H]4O[C@H](CO)[C@@H](O)[C@H](O)[C@H]4O[C@@H]4O[C@H](CO)[C@@H](O)[C@H](O)[C@H]4O)C(C)(C)[C@@H]3CC[C@]12C', 'CC/C(C)=C\\\\CC[C@](C)(O[C@H]1O[C@H](CO[C@H]2OC[C@@H](O)[C@@H](O)[C@H]2O)[C@@H](O)[C@@H](O)[C@H]1O)[C@H]1CC[C@@]2(C)C1[C@@H](O)C[C@H]1[C@H]2CC[C@H]2C(C)(C)[C@H](O[C@H]3O[C@H](CO)[C@@H](O)[C@@H](O)[C@H]3O[C@H]3O[C@H](CO)[C@@H](O)[C@@H](O)[C@H]3O)CC[C@@]12C', 'CC(C)=CCC[C@](C)(O[C@@H]1O[C@H](CO[C@@H]2OC[C@H](O)[C@H](O)[C@H]2O)[C@@H](O)[C@H](O)[C@H]1O)[C@@H]1CC[C@]2(C)[C@@H]1[C@H](O)C[C@@H]1[C@@]3(C)CC[C@H](O)C(C)(C)[C@@H]3[C@@H](O[C@@H]3O[C@H](CO)[C@@H](O)[C@H](O)[C@H]3O[C@@H]3O[C@@H](C)[C@H](O)[C@@H](O)[C@H]3O)C[C@]12C', 'CC(C)=CCCC(C)(OC1OC(COC2OCC(O)C(O)C2O)C(O)C(O)C1O)C1CCC2(C)C1CCC1C3(CO)CCC(OC4OC(CO)C(O)C(O)C4OC4OC(CO)C(O)C(O)C4O)C(C)(C)C3CCC12C', 'C[C@H](CC[C@@H](O[C@@H]1OC[C@@H](O[C@H]2O[C@@H](CO)C[C@@H](O)[C@@H]2O)[C@H](O)[C@H]1O)C(C)(C)O)C1CC[C@@]2(C)C3CC=C4[C@@H](CC[C@H](O[C@@H]5O[C@H](CO[C@@H]6O[C@H](CO)[C@@H](O)[C@H](O)[C@H]6O)[C@@H](O)[C@H](O)[C@H]5O)C4(C)C)[C@]3(C)[C@H](O)C[C@]12C', 'CC(C)=CCC[C@](C)(O[C@@H]1O[C@H](CO[C@@H]2O[C@@H](CO)[C@H](O)[C@H]2O)[C@@H](O)[C@H](O)[C@H]1O)[C@H]1CC[C@]2(C)[C@@H]1[C@H](O)C[C@@H]1[C@@]3(C)CC[C@H](O[C@@H]4O[C@H](CO)[C@@H](O)[C@H](O)[C@H]4O[C@@H]4O[C@H](CO)[C@@H](O)[C@H](O)[C@H]4O)C(C)(C)C3CC[C@]12C', 'CC(C)=CCC[C@](C)(O[C@@H]1O[C@H](CO[C@H]2OC[C@@H](O)[C@H](O)[C@H]2O)[C@@H](O)[C@H](O)[C@H]1O)[C@H]1CC[C@]2(C)[C@@H]1CC[C@@H]1[C@]3(CO)CC[C@@H](O[C@@H]4O[C@H](CO)[C@@H](O)[C@H](O)[C@H]4O[C@@H]4O[C@H](CO)[C@@H](O)[C@H](O)[C@H]4O)C(C)(C)[C@H]3CC[C@]12C', 'CC[C@H]1[C@@H](O[C@@](C)(CC[C@@H](C)CO[C@@H]2OC(CO)[C@@H](O)[C@H](O)C2O)OC)C[C@H]2[C@@H]3CC=C4C[C@@H](O[C@@H]5OC(CO)[C@@H](O[C@@H]6OC(C)[C@H](O)C(O)[C@@H]6O)[C@H](O)C5O[C@@H]5OC(C)[C@H](O)C(O)[C@@H]5O)CC[C@]4(C)[C@H]3CC[C@@]21C', 'CC(C)=CCC[C@](C)(O[C@@H]1O[C@H](CO[C@@H]2O[C@@H](CO)[C@H](O)[C@H]2O)[C@@H](O)[C@H](O)[C@H]1O)[C@H]1CC[C@]2(C)[C@@H]1[C@H](O)C[C@@H]1[C@@]3(C)CC[C@H](O)C(C)(C)[C@@H]3[C@@H](O[C@@H]3O[C@H](CO)[C@@H](O)[C@H](O)[C@H]3O[C@@H]3O[C@@H](C)[C@H](O)[C@@H](O)[C@H]3O)C[C@]12C', 'CC/C(C)=C/CC[C@@](C)(O[C@@H]1O[C@H](CO[C@@H]2OC[C@@H](O)[C@H](O)[C@H]2O)[C@@H](O)[C@@H](O)[C@H]1O)C1CC[C@]2(C)C3CCC4C(C)(C)C(O[C@@H]5O[C@H](CO)[C@@H](O)[C@H](O)[C@H]5O[C@@H]5O[C@H](CO)[C@@H](O)[C@H](O)[C@H]5O)CC[C@]4(C)C3C[C@H](O)C12', 'CC(C)=CCC[C@](C)(OC1OC(COC2OC(CO)C(O)C2O)C(O)C(O)C1O)[C@H]1CC[C@]2(C)[C@@H]1[C@H](O)C[C@@H]1[C@@]3(C)CC[C@H](OC4OC(CO)C(O)C(O)C4OC4OC(CO)C(O)C(O)C4O)C(C)(C)[C@@H]3CC[C@]12C', 'CC(C)=CCC[C@](C)(O[C@H]1O[C@H](CO[C@H]2OC[C@H](O)[C@H](O)[C@H]2O)[C@@H](O)[C@H](O)[C@H]1O)[C@H]1CC[C@]2(C)[C@@H]1[C@H](O)C[C@@H]1[C@@]3(C)CC[C@H](O)C(C)(C)[C@H]3[C@@H](O[C@H]3O[C@H](CO)[C@@H](O)[C@H](O)[C@H]3O[C@H]3O[C@@H](C)[C@H](O)[C@@H](O)[C@H]3O)C[C@]12C', 'CC(C)=CCC[C@@](O)(CO[C@H]1O[C@@H](CO)[C@H](O)[C@@H](O)[C@@H]1O)[C@@H]1CC[C@]2(C)[C@H]1CC[C@@H]1[C@]3(CO)CC[C@@H](O[C@@H]4O[C@H](CO)[C@@H](O)[C@H](O[C@H]5OC[C@H](O)[C@@H](O)[C@@H]5O)[C@H]4O[C@H]4O[C@@H](C)[C@H](O)[C@@H](O)[C@@H]4O)C(C)(C)[C@@H]3CC[C@]12C', 'CC(C)=CCC[C@](C)(O[C@@H]1O[C@H](CO[C@@H]2O[C@H](CO)[C@@H](O)[C@@H]2O)[C@@H](O)[C@H](O)[C@H]1O)[C@H]1CC[C@]2(C)[C@@H]1[C@H](O)C[C@@H]1[C@@]3(C)CC[C@H](O)C(C)(C)[C@@H]3[C@@H](O[C@@H]3O[C@H](CO)[C@@H](O)[C@H](O)[C@H]3O[C@@H]3O[C@@H](C)[C@H](O)[C@@H](O)[C@H]3O)C[C@]12C', 'CC(C)=CCC[C@](C)(O[C@H]1O[C@@H](CO[C@H]2O[C@H](CO)[C@@H](O)[C@H](O)[C@H]2O)[C@H](O)[C@@H](O)[C@@H]1O)[C@H]1CC[C@]2(C)[C@@H]1[C@H](O)C[C@@H]1[C@@]3(C)CC[C@H](O[C@H]4O[C@H](CO)[C@@H](O)[C@H](O)[C@H]4O[C@H]4OC[C@@H](O)[C@H](O)[C@H]4O)C(C)(C)[C@H]3CC[C@]12C', 'CC(C)=CCCC(C)(O[C@@H]1O[C@H](CO[C@H]2OC[C@@H](O)[C@H](O)[C@H]2O)[C@@H](O)[C@H](O)[C@H]1O)C1CCC2(C)C1CCC1C3(CO)CCC(O[C@@H]4O[C@H](CO)[C@@H](O)[C@H](O)[C@H]4O[C@@H]4O[C@H](CO)[C@@H](O)[C@H](O)[C@H]4O)C(C)(C)C3CCC12C', 'C[C@H](CC[C@@H](O[C@@H]1OC[C@@H](O)[C@H](O)[C@H]1O[C@H]1O[C@@H](CO)[C@H](O)[C@@H](O)[C@@H]1O)C(C)(C)O)C1CC[C@@]2(C)C3CC=C4C(CC[C@H](O[C@@H]5O[C@H](CO)[C@@H](C6O[C@H](CO)[C@@H](O)[C@H](O)[C@H]6O)[C@H](O)[C@H]5O)C4(C)C)[C@]3(C)[C@H](O)C[C@]12C', 'CC(C)=CCC[C@](C)(O[C@@H]1O[C@H](CO)[C@@H](O)[C@H](O)[C@H]1O)[C@H]1CC[C@]2(C)[C@@H]1[C@H](O)C[C@@H]1[C@@]3(C)CC[C@H](O[C@@H]4O[C@H](CO)[C@@H](O)[C@H](O)[C@H]4O[C@@H]4O[C@H](CO)[C@@H](O)[C@H](O)[C@H]4O[C@@H]4OC[C@@H](O)[C@H](O)[C@H]4O)C(C)(C)[C@H]3CC[C@]12C', 'CC(C)=CCC[C@](C)(O[C@@H]1O[C@H](CO[C@@H]2O[C@H](CO)[C@@H](O)[C@H](O)[C@H]2O)[C@@H](O)[C@H](O)[C@H]1O)[C@H]1CC[C@]2(C)[C@@H]1[C@H](O)C[C@@H]1[C@@]3(C)CC[C@H](O[C@@H]4O[C@H](CO)[C@@H](O)[C@H](O)[C@H]4O[C@@H]4OC[C@@H](O)[C@H](O)[C@H]4O)C(C)(C)[C@H]3CC[C@]12C', 'CC(C)=CCC[C@](C)(O[C@@H]1O[C@H](CO)[C@@H](O)[C@H](O)[C@H]1O)[C@H]1CC[C@]2(C)[C@@H]1[C@H](O)C[C@@H]1[C@@]3(C)CC[C@H](O)C(C)(C)[C@@H]3[C@@H](O[C@@H]3O[C@H](CO)[C@@H](O[C@@H]4OC[C@@H](O)[C@H](O)[C@H]4O)[C@H](O)[C@H]3O[C@@H]3O[C@@H](C)[C@H](O)[C@@H](O)[C@H]3O)C[C@]12C', 'CC(C)=CCC[C@](C)(O[C@@H]1O[C@H](CO[C@@H]2OC[C@@H](O)[C@@H](O)[C@@H]2O)[C@@H](O)[C@H](O)[C@H]1O)[C@H]1CC[C@]2(C)[C@@H]1[C@H](O)C[C@@H]1[C@@]3(C)CC[C@H](O)C(C)(C)[C@@H]3[C@@H](O[C@@H]3O[C@H](CO)[C@@H](O)[C@H](O)[C@H]3O[C@@H]3O[C@@H](C)[C@H](O)[C@@H](O)[C@H]3O)C[C@]12C', 'CC(C)=CCC[C@](C)(O[C@@H]1OC(OC[C@@H]2OC[C@H](O)[C@@H](O)C2O)[C@@H](O)[C@@H](O)C1O)[C@H]1CC[C@]2(C)[C@@H]1[C@H](O)C[C@@H]1[C@@]3(C)CC[C@H](O[C@@H]4OC(CO)[C@@H](O)[C@@H](O)C4O[C@@H]4OC(CO)[C@@H](O)[C@@H](O)C4O)C(C)(C)[C@@H]3CC[C@]12C', 'CC(C)=CCCC(C)(OC1OC(CO)C(O)C(O)C1OC1OCC(O)C(O)C1O)C1CCC2(C)C1C(O)CC1C3(C)CCC(OC4OC(CO)C(O)C(O)C4OC4OC(CO)C(O)C(O)C4O)C(C)(C)C3CCC12C', 'CC(C)=CCC[C@](C)(O[C@@H]1O[C@H](CO[C@@H]2O[C@@H](CO)[C@H](O)[C@H]2O)[C@@H](O)[C@H](O)[C@H]1O)C1CC[C@]2(C)C1[C@H](O)CC1[C@@]3(C)CC[C@H](O[C@@H]4O[C@H](CO)[C@@H](O)[C@H](O)[C@H]4O[C@@H]4O[C@H](CO)[C@@H](O)[C@H](O)[C@H]4O)C(C)(C)C3CC[C@]12C', 'CC(C)=CCC[C@](CO)(O[C@@H]1O[C@H](CO[C@@H]2OC[C@@H](O)[C@H](O)[C@H]2O)[C@@H](O)[C@H](O)[C@H]1O)[C@H]1CC[C@]2(C)[C@@H]1CC[C@@H]1[C@@]3(C)CCC(O[C@@H]4O[C@H](CO)[C@@H](O)[C@H](O)[C@H]4O[C@@H]4O[C@H](CO)[C@@H](O)[C@H](O)[C@H]4O)C(C)(C)[C@@H]3CC[C@]12C', 'CC(C)=CCC[C@](C)(O[C@@H]1O[C@H](CO[C@@H]2OC[C@@H](O)[C@H](O)[C@H]2O)[C@@H](O)[C@H](O)[C@H]1O)[C@H]1CC[C@@]2(C)[C@@H]3CC[C@H]4C(C)(C)[C@@H](O[C@@H]5O[C@H](CO)[C@@H](O)[C@H](O)[C@H]5O[C@@H]5O[C@H](CO)[C@@H](O)[C@H](O)[C@H]5O)CC[C@]4(C)[C@H]3C[C@@H](O)[C@]12C', 'CC(C)=CCC[C@](C)(O[C@@H]1O[C@H](COC2O[C@@H](CO)[C@H](O)[C@H]2O)[C@@H](O)[C@H](O)[C@H]1O)[C@H]1CCC2(C)C1[C@H](O)C[C@@H]1[C@@]3(C)CC[C@H](O[C@@H]4O[C@H](CO)[C@@H](O)[C@H](O)[C@H]4O[C@@H]4O[C@H](CO)[C@@H](O)[C@H](O)[C@H]4O)C(C)(C)C3CC[C@]12C', 'CC(C)=CCC[C@@](O)(CO[C@@H]1O[C@H](CO)[C@@H](O)[C@H](O)[C@H]1O)[C@H]1CC[C@]2(C)[C@@H]1CC[C@@H]1[C@@]3(CO)CC[C@H](O[C@@H]4O[C@H](CO)[C@@H](O)[C@H](O[C@@H]5OC[C@@H](O)[C@H](O)[C@H]5O)[C@H]4O[C@@H]4O[C@@H](C)[C@H](O)[C@@H](O)[C@H]4O)C(C)(C)C3CC[C@]12C', 'CC[C@H]1[C@@H](O[C@@](C)(CC[C@@H](C)CO[C@@H]2OC(CO)[C@@H](O)[C@H](O)C2O)OC)C[C@H]2[C@@H]3CC=C4C[C@@H](O[C@@H]5OC(CO)[C@@H](O)[C@H](O[C@H]6C[C@@H](O)[C@H](O)C(CO)O6)C5O[C@@H]5OC(C)[C@H](O)C(O)[C@@H]5O)CC[C@]4(C)[C@H]3CC[C@@]21C', 'CC(C)=CCC[C@](C)(OC1OC(COC2OC(CO)C(O)C2O)C(O)C(O)C1O)[C@H]1CC[C@]2(C)[C@H]1C(O)C[C@@H]1[C@]3(C)CCC(O[C@H]4OC(CO)C(O)C(O)C4O[C@H]4OC(CO)C(O)C(O)C4O)C(C)(C)[C@@H]3CC[C@]12C', 'CC(C)=CCCC(C)(OC1OC(COC2OCC(O)C(O)C2O)C(O)C(O)C1O)C1CCC2(C)C3CCC4C(C)(C)C(OC5OC(CO)C(O)C(O)C5OC5OC(CO)C(O)C(O)C5O)CCC4(C)C3CC(O)C12C', 'CC(C)=CCC[C@](C)(O[C@@H]1O[C@H](CO)[C@@H](O)[C@H](O)[C@H]1O)[C@H]1CC[C@]2(C)[C@@H]1[C@H](O)C[C@@H]1[C@@]3(C)CC[C@H](O)C(C)(C)[C@@H]3[C@@H](O[C@@H]3O[C@H](CO[C@@H]4OC[C@@H](O)[C@H](O)[C@H]4O)[C@@H](O)[C@H](O)[C@H]3O[C@@H]3O[C@@H](C)[C@H](O)[C@@H](O)[C@H]3O)C[C@]12C', 'CC(C)(O)/C=C/C[C@](C)([C@@H]1O[C@H](CO[C@@H]2OC[C@@H](O)[C@H](O)[C@H]2O)[C@@H](O)[C@H](O)[C@H]1O)[C@H]1CC[C@]2(C)[C@@H]1[C@H](O)C[C@@H]1[C@@]3(C)CC[C@H](O[C@@H]4O[C@H](CO)[C@@H](O)[C@H](O)[C@H]4O[C@@H]4O[C@H](CO)[C@@H](O)[C@H](O)[C@H]4O)C(C)(C)[C@@H]3CC[C@]12C', 'CC(C)=CCC[C@](C)(O[C@@H]1O[C@H](CO[C@H]2O[C@@H](CO)[C@@H](O)[C@@H]2O)[C@@H](O)[C@H](O)[C@H]1O)C1CC[C@]2(C)C1[C@H](O)CC1[C@@]3(C)CC[C@H](O[C@@H]4O[C@H](CO)[C@@H](O)[C@H](O)[C@H]4O[C@@H]4O[C@H](CO)[C@@H](O)[C@H](O)[C@H]4O)C(C)(C)C3CC[C@]12C', 'CC(C)=CCC[C@](C)(O[C@@H]1O[C@H](CO)[C@@H](O)[C@H](O)[C@H]1O)C1CC[C@]2(C)C1[C@H](O)C[C@@H]1[C@@]3(C)CC[C@H](O[C@@H]4O[C@H](CO)[C@@H](O)[C@H](O)[C@H]4O[C@@H]4O[C@H](CO)[C@@H](O)[C@H](O)[C@H]4O[C@@H]4OC[C@@H](O)[C@H](O)[C@H]4O)C(C)(C)C3CC[C@]12C', 'CC(C)=CCC[C@](C)(O[C@@H]1O[C@H](CO[C@@H]2O[C@H](CO)[C@@H](O)[C@H](O)[C@H]2O)[C@@H](O)[C@H](O)[C@H]1O)[C@H]1CC[C@]2(C)[C@@H]1[C@H](O)C[C@@H]1[C@@]3(C)CC[C@H](O[C@@H]4O[C@H](CO)[C@@H](O)[C@H](O)[C@H]4O[C@@H]4OC[C@@H](O)[C@H](O)[C@H]4O)C(C)(C)C3CC[C@]12C', 'CC(C)=CCC[C@](C)(O[C@@H]1O[C@H](CO[C@@H]2O[C@@H](CO)[C@H](O)[C@H]2O)[C@@H](O)[C@H](O)[C@H]1O)[C@H]1CC[C@]2(C)[C@H]1[C@H](O)C[C@H]1[C@@]3(C)CC[C@H](O[C@@H]4O[C@H](CO)[C@@H](O)[C@H](O)[C@H]4O[C@@H]4O[C@H](CO)[C@@H](O)[C@H](O)[C@H]4O)C(C)(C)[C@@H]3CC[C@@]12C', 'CC(C)=CCC[C@](C)(O[C@@H]1O[C@H](CO[C@@H]2O[C@@H](CO)[C@H](O)[C@H]2O)[C@@H](O)[C@H](O)[C@H]1O)[C@H]1CC[C@]2(C)[C@H]1[C@H](O)C[C@@H]1[C@@]3(C)CC[C@H](O[C@@H]4O[C@H](CO)[C@@H](O)[C@H](O)[C@H]4O[C@@H]4O[C@H](CO)[C@@H](O)[C@H](O)[C@H]4O)C(C)(C)[C@@H]3CC[C@]12C', 'C[C@H](CC[C@@H](O[C@@H]1OC[C@@H](O[C@H]2O[C@@H](CO)C[C@@H](O)[C@@H]2O)[C@H](O)[C@H]1O)C(C)(C)O)C1CC[C@@]2(C)C3CC=C4C(CC[C@H](O[C@@H]5O[C@H](CO[C@@H]6O[C@H](CO)[C@@H](O)[C@H](O)[C@H]6O)[C@@H](O)[C@H](O)[C@H]5O)C4(C)C)[C@]3(C)[C@H](O)C[C@]12C', 'CC(C)=CCC[C@](C)(O[C@@H]1O[C@H](CO[C@@H]2O[C@@H](CO)[C@@H](O)[C@@H]2O)[C@@H](O)[C@H](O)[C@H]1O)[C@H]1CC[C@]2(C)[C@@H]1[C@H](O)C[C@@H]1[C@@]3(C)CC[C@H](O[C@@H]4O[C@H](CO)[C@@H](O)[C@H](O)[C@H]4O[C@@H]4O[C@H](CO)[C@@H](O)[C@H](O)[C@H]4O)C(C)(C)[C@@H]3CC[C@]12C', 'CC(C)C[C@H](O)C[C@@H](C)[C@H]1CC[C@@]2(C)C3=C(CC[C@]12C)[C@@]1(C)CC[C@H](O[C@@H]2O[C@H](CO)[C@@H](O)[C@H](O[C@@H]4O[C@@H](C)[C@H](O)[C@@H](O)[C@H]4O)[C@H]2O[C@@H]2O[C@@H](C)[C@H](O)[C@@H](O[C@@H]4O[C@H](CO)[C@@H](O)[C@H](O)[C@H]4O)[C@H]2O)[C@](O)(CO)[C@@H]1CC3', 'CC(C)=CCC[C@](C)(O[C@@H]1O[C@H](CO[C@@H]2O[C@H](CO)[C@H](O)[C@H]2O)[C@@H](O)[C@H](O)[C@H]1O)[C@H]1CC[C@]2(C)[C@@H]1[C@H](O)C[C@@H]1[C@@]3(C)CC[C@H](O[C@@H]4O[C@H](CO)[C@H](O)[C@@H](O)[C@H]4O[C@@H]4O[C@H](CO)[C@H](O)[C@@H](O)[C@H]4O)C(C)(C)[C@H]3CC[C@]12C', 'CC(C)=CCC[C@](C)(O[C@H]1O[C@H](CO[C@@H]2O[C@H](CO)[C@@H](O)[C@@H]2O)[C@@H](O)[C@H](O)[C@H]1O)[C@H]1CC[C@]2(C)[C@@H]1[C@H](O)C[C@@H]1[C@@]3(C)CC[C@H](O)C(C)(C)[C@H]3[C@@H](O[C@H]3O[C@H](CO)[C@@H](O)[C@H](O)[C@H]3O[C@H]3O[C@@H](C)[C@H](O)[C@@H](O)[C@H]3O)C[C@]12C', 'CC(C)=CCC[C@](C)(O[C@@H]1O[C@H](CO[C@@H]2O[C@@H](C)[C@@H](O)[C@@H](O)[C@H]2O)[C@@H](O)[C@H](O)[C@H]1O)C1CCC2(C)C1C(O)CC1C3CCC(O[C@@H]4O[C@H](CO)[C@@H](O)[C@H](O)[C@H]4O[C@@H]4O[C@H](CO)[C@@H](O)[C@H](O)[C@H]4O)C(C)(C)C3CCC12C', 'CC(C)=CCC[C@](C)(O[C@H]1O[C@@H](CO[C@@H]2O[C@@H](CO)[C@H](O)[C@H]2O)[C@H](O)[C@@H](O)[C@@H]1O)[C@H]1CC[C@]2(C)[C@@H]1[C@H](O)C[C@@H]1[C@@]3(C)CC[C@H](O[C@@H]4O[C@H](CO)[C@@H](O)[C@H](O)[C@H]4O[C@H]4O[C@@H](CO)[C@H](O)[C@@H](O)[C@@H]4O)C(C)(C)[C@H]3CC[C@]12C', 'CCC1C(OC(C)(CCC(C)COC2OC(CO)C(O)C(O)C2O)OC)CC2C3CC=C4CC(OC5OC(CO)C(O)C(OC6CC(O)C(O)C(CO)O6)C5OC5OC(C)C(O)C(O)C5O)CCC4(C)C3CCC12C', 'CC(C)=CCCC(C)(O[C@@H]1O[C@H](CO[C@@H]2O[C@H](C)[C@@H](O)[C@@H](O)[C@H]2O)[C@@H](O)[C@H](O)[C@H]1O)C1CCC2(C)C1C(O)CC1C3CCC(O[C@@H]4O[C@H](CO)[C@@H](O)[C@H](O)[C@H]4O[C@@H]4O[C@H](CO)[C@@H](O)[C@H](O)[C@H]4O)C(C)(C)C3CCC12C', 'CC(C)=CCC[C@@](C)(O[C@H]1O[C@@H](CO[C@H]2O[C@H](CO)[C@@H](O)[C@@H]2O)[C@H](O)[C@@H](O)[C@@H]1O)[C@@H]1CC[C@@]2(C)[C@H]1[C@@H](O)C[C@H]1[C@]3(C)CC[C@@H](O[C@H]4O[C@@H](CO)[C@H](O)[C@@H](O)[C@@H]4O[C@H]4O[C@@H](CO)[C@H](O)[C@@H](O)[C@@H]4O)C(C)(C)[C@H]3CC[C@@]12C', 'CC(C)=CCC[C@](C)(O[C@@H]1O[C@H](CO)[C@@H](O)[C@H](O)[C@H]1O[C@@H]1O[C@@H](CO)[C@H](O)[C@H]1O)[C@H]1CC[C@]2(C)[C@@H]1[C@H](O)C[C@@H]1[C@@]3(C)CC[C@H](O)C(C)(C)[C@@H]3[C@@H](O[C@@H]3O[C@H](CO)[C@@H](O)[C@H](O)[C@H]3O[C@@H]3O[C@@H](C)[C@H](O)[C@@H](O)[C@H]3O)C[C@]12C', 'CC(C)=CCC[C@](C)(O[C@@H]1O[C@H](CO)[C@@H](O)[C@H](O)[C@H]1O[C@@H]1O[C@H](CO)[C@@H](O)[C@H](O)[C@H]1O)[C@H]1CC[C@]2(C)[C@@H]1[C@H](O)C[C@@H]1[C@@]3(C)CC[C@H](O[C@H]4O[C@H](CO[C@@H]5OC[C@@H](O)[C@H](O)[C@H]5O)[C@@H](O)[C@H](O)[C@H]4O)C(C)(C)[C@@H]3CC[C@]12C', 'CC(C)=CCCC(C)(OC1OC(CO)C(O)C(O)C1O)C1CCC2(C)C1C(O)CC1C3(C)CCC(OC4OC(CO)C(O)C(O)C4OC4OC(CO)C(O)C(O)C4OC4OCC(O)C(O)C4O)C(C)(C)C3CCC12C', 'CC(C)=CCC[C@](C)(O[C@@H]1O[C@H](CO[C@@H]2O[C@H](C)[C@@H](O)[C@@H](O)[C@H]2O)[C@@H](O)[C@H](O)[C@H]1O)C1CCC2(C)C1C(O)CC1C3CCC(O[C@@H]4O[C@H](CO)[C@@H](O)[C@H](O)[C@H]4O[C@@H]4O[C@H](CO)[C@@H](O)[C@H](O)[C@H]4O)C(C)(C)C3CCC12C', 'CC(C)=CCCC(C)(OC1OC(COC2OC(CO)C(O)C2O)C(O)C(O)C1O)C1CCC2(C)C1C(O)CC1[C@@]3(C)CCC(OC4OC(CO)C(O)C(O)C4OC4OC(CO)C(O)C(O)C4O)C(C)(C)C3CC[C@]12C', 'CC(C)=CCC[C@](C)(O[C@H]1O[C@@H](CO[C@H]2O[C@@H](C)[C@H](O)[C@@H](O)[C@@H]2O)[C@H](O)[C@@H](O)[C@@H]1O)[C@@H]1CC[C@@]2(C)[C@H]1[C@@H](O)C[C@H]1[C@@H]3CC[C@H](O[C@H]4O[C@@H](CO)[C@H](O)[C@@H](O)[C@@H]4O[C@H]4O[C@@H](CO)[C@H](O)[C@@H](O)[C@@H]4O)C(C)(C)[C@@H]3CC[C@@]12C', 'CC(C)=CCC[C@](C)(O[C@@H]1O[C@H](CO)[C@@H](O)[C@H](O)[C@H]1O[C@@H]1O[C@@H](CO)[C@H](O)[C@H]1O)[C@H]1CC[C@]2(C)[C@@H]1[C@H](O)C[C@@H]1[C@@]3(C)CC[C@H](O[C@@H]4O[C@H](CO)[C@@H](O)[C@H](O)[C@H]4O[C@@H]4O[C@H](CO)[C@@H](O)[C@H](O)[C@H]4O)C(C)(C)[C@@H]3CC[C@]12C', 'CC(C)=CCCC(C)(O[C@@H]1O[C@H](CO[C@@H]2O[C@@H](CO)[C@@H](O)[C@H]2O)[C@@H](O)[C@@H](O)[C@H]1O)C1CCC2(C)[C@@H]1C(O)CC1[C@@]3(C)CC[C@H](O[C@@H]4O[C@H](CO)[C@@H](O)[C@@H](O)[C@H]4O[C@@H]4O[C@H](CO)[C@@H](O)[C@@H](O)[C@H]4O)C(C)(C)C3CC[C@]12C', 'CC(C)=CCC[C@](C)(O[C@@H]1O[C@H](CO[C@@H]2O[C@H](CO)[C@@H](O)[C@H](O)[C@H]2O)[C@@H](O)[C@H](O)[C@H]1O)[C@H]1CC[C@]2(C)[C@@H]1[C@H](O)C[C@@H]1[C@@]3(C)CC[C@H](O[C@@H]4O[C@H](CO[C@@H]5OC[C@@H](O)[C@H](O)[C@H]5O)[C@@H](O)[C@H](O)[C@H]4O)C(C)(C)C3CC[C@]12C', 'C=C(C)C(O)CC[C@](C)([C@@H]1O[C@H](CO[C@@H]2OC[C@@H](O)[C@H](O)[C@H]2O)[C@@H](O)[C@H](O)[C@H]1O)[C@H]1CC[C@]2(C)[C@@H]1[C@H](O)C[C@@H]1[C@@]3(C)CC[C@H](O[C@@H]4O[C@H](CO)[C@@H](O)[C@H](O)[C@H]4O[C@@H]4O[C@H](CO)[C@@H](O)[C@H](O)[C@H]4O)C(C)(C)[C@@H]3CC[C@]12C', 'CC(C)=CCC[C@](C)(O[C@@H]1O[C@H](CO[C@@H]2O[C@H](CO)[C@H](O)[C@H]2O)[C@@H](O)[C@H](O)[C@H]1O)[C@H]1CC[C@]2(C)[C@@H]1[C@H](O)C[C@@H]1[C@@]3(C)CC[C@H](O[C@@H]4O[C@H](CO)[C@@H](O)[C@H](O)[C@H]4O[C@@H]4O[C@H](CO)[C@@H](O)[C@H](O)[C@H]4O)C(C)(C)C3CC[C@]12C', 'CC(C)=CCC[C@](C)(O[C@@H]1O[C@@H](CO[C@H]2O[C@H](CO)[C@H](O)[C@@H]2O)[C@H](O)[C@@H](O)[C@@H]1O)[C@@H]1CC[C@]2(C)[C@H]1[C@H](O)C[C@H]1[C@]3(C)CC[C@@H](O[C@H]4O[C@@H](CO)[C@@H](O)[C@@H](O)[C@@H]4O[C@@H]4O[C@H](CO)[C@H](O)[C@H](O)[C@H]4O)C(C)(C)[C@@H]3CC[C@@]12C', 'CC(C)=CCC[C@](C)(O[C@@H]1O[C@H](CO[C@@H]2O[C@H](CO)[C@H](O)[C@H]2O)[C@@H](O)[C@H](O)[C@H]1O)[C@H]1CC[C@]2(C)[C@@H]1[C@H](O)C[C@@H]1[C@@]3(C)CC[C@H](O)C(C)(C)[C@@H]3[C@@H](O[C@@H]3O[C@H](CO)[C@@H](O)[C@H](O)[C@H]3O[C@@H]3O[C@@H](C)[C@H](O)[C@@H](O)[C@H]3O)C[C@]12C', 'CC(C)=CCC[C@@](O)(CO[C@@H]1O[C@H](CO)[C@@H](O)[C@H](O)[C@H]1O)[C@H]1CC[C@]2(C)[C@@H]1CC[C@@H]1[C@@]3(CO)CC[C@H](O[C@@H]4O[C@H](CO)[C@@H](O)[C@H](O[C@@H]5OC[C@@H](O)[C@H](O)[C@H]5O)[C@H]4O[C@@H]4O[C@@H](C)[C@H](O)[C@@H](O)[C@H]4O)C(C)(C)[C@H]3CC[C@]12C', 'CC(C)=CCC[C@@](C)(O[C@H]1O[C@@H](CO[C@H]2O[C@H](CO)[C@@H](O)[C@@H]2O)[C@H](O)[C@@H](O)[C@@H]1O)C1CC[C@@]2(C)C1[C@@H](O)CC1[C@]3(C)CC[C@@H](O[C@H]4O[C@@H](CO)[C@H](O)[C@@H](O)[C@@H]4O[C@H]4O[C@@H](CO)[C@H](O)[C@@H](O)[C@@H]4O)C(C)(C)C3CC[C@@]12C', 'CC/C(C)=C/CCC(C)(OC1OC(COC2OCC(O)C(O)C2O)C(O)C(O)C1O)C1CCC2(C)C3CCC4C(C)(C)C(OC5OC(CO)C(O)C(O)C5OC5OC(CO)C(O)C(O)C5O)CCC4(C)C3CC(O)C12', 'CC(C)=CCC[C@](C)(O[C@@H]1O[C@H](CO[C@@H]2O[C@@H](CO)[C@H](O)[C@H]2O)[C@@H](O)[C@H](O)[C@H]1O)[C@H]1CC[C@@]2(C)[C@H]1[C@@H](O)CC1[C@@]3(C)CC[C@@H](O[C@@H]4O[C@H](CO)[C@@H](O)[C@H](O)[C@H]4O[C@@H]4O[C@H](CO)[C@@H](O)[C@H](O)[C@H]4O)C(C)(C)C3CC[C@]12C', 'CC(C)=CCC[C@@](C)(O[C@H]1O[C@@H](CO[C@H]2O[C@H](CO)[C@@H](O)[C@@H]2O)[C@H](O)[C@@H](O)[C@@H]1O)[C@@H]1CC[C@@]2(C)[C@H]1[C@@H](O)C[C@H]1[C@]3(C)CC[C@@H](O[C@@H]4O[C@H](CO)[C@@H](O)[C@H](O)[C@H]4O[C@@H]4O[C@H](CO)[C@@H](O)[C@H](O)[C@H]4O)C(C)(C)[C@H]3CC[C@@]12C', 'CC(C)=CCC[C@](C)(O[C@@H]1O[C@H](OC[C@@H]2OC[C@H](O)[C@H](O)[C@H]2O)[C@@H](O)[C@H](O)[C@H]1O)[C@H]1CC[C@]2(C)[C@@H]1[C@H](O)C[C@@H]1[C@@]3(C)CC[C@H](O[C@@H]4O[C@H](CO)[C@@H](O)[C@H](O)[C@H]4O[C@@H]4O[C@H](CO)[C@@H](O)[C@H](O)[C@H]4O)C(C)(C)[C@@H]3CC[C@]12C', 'CC(C)=CCC[C@](C)(O[C@@H]1O[C@H](CO[C@@H]2OC[C@@H](O)[C@H](O)[C@H]2O)[C@@H](O)[C@H](O)[C@H]1O)[C@H]1CC[C@]2(C)[C@@H]1CCC1[C@@]3(C)C[C@@H](O)[C@H](O[C@@H]4O[C@H](CO)[C@@H](O)[C@H](O)[C@H]4O[C@@H]4O[C@H](CO)[C@@H](O)[C@H](O)[C@H]4O)C(C)(C)C3CC[C@]12C', 'CC(C)=CCC[C@](C)(O[C@@H]1O[C@H](CO)[C@@H](O)[C@H](O)[C@H]1O[C@@H]1OC[C@H](O)[C@H](O)[C@H]1O)[C@H]1CC[C@]2(C)[C@@H]1[C@H](O)C[C@@H]1[C@@]3(C)CC[C@H](O[C@@H]4O[C@H](CO)[C@@H](O)[C@H](O)[C@H]4O[C@@H]4O[C@H](CO)[C@@H](O)[C@H](O)[C@H]4O)C(C)(C)[C@@H]3CC[C@]12C', 'CCC(C)=CCCC(C)(OC1OC(COC2OCC(O)C(O)C2O)C(O)C(O)C1O)C1CCC2(C)C3CCC4C(C)(C)C(OC5OC(CO)C(O)C(O)C5OC5OC(CO)C(O)C(O)C5O)CCC4(C)C3CC(O)C12', 'CC(C)=CCC[C@](C)(O[C@@H]1O[C@H](CO[C@H]2O[C@@H](CO)[C@H](O)[C@H]2O)[C@@H](O)[C@H](O)[C@H]1O)[C@H]1CC[C@]2(C)[C@@H]1[C@H](O)C[C@@H]1[C@@]3(C)CC[C@H](O[C@@H]4O[C@H](CO)[C@@H](O)[C@H](O)[C@H]4O[C@@H]4O[C@H](CO)[C@@H](O)[C@H](O)[C@H]4O)C(C)(C)[C@@H]3CC[C@]12C', 'CC(C)=CCC[C@](C)(O[C@H]1O[C@H](CO[C@@H]2O[C@H](CO)[C@@H](O)[C@@H]2O)[C@@H](O)[C@H](O)[C@H]1O)[C@H]1CC[C@]2(C)[C@@H]1[C@H](O)C[C@@H]1[C@@]3(C)CC[C@H](O[C@H]4O[C@H](CO)[C@@H](O)[C@H](O)[C@H]4O[C@H]4O[C@H](CO)[C@@H](O)[C@H](O)[C@H]4O)C(C)(C)[C@H]3CC[C@]12C', 'Cc1c(C)c2c(c(C)c1O[C@@H]1O[C@H](CO)[C@@H](OC3O[C@H](CO)[C@@H](OC4O[C@H](CO)[C@@H](OC5O[C@H](CO)[C@@H](O)[C@H](O)[C@H]5O)C(O)[C@H]4O)[C@H](O)[C@H]3O)[C@H](O)[C@H]1O)CC[C@@](C)(CCC[C@H](C)CCC[C@H](C)CCCC(C)C)O2', 'C[C@H](CC[C@@H](O[C@@H]1O[C@H](CO[C@@H]2OC[C@@H](O)C[C@H]2O)[C@@H](O)[C@H](O)[C@H]1O)C(C)(C)O)C1CC[C@@]2(C)C3CC=C4C(CC[C@H](O[C@@H]5O[C@H](CO[C@@H]6O[C@H](CO)[C@@H](O)[C@H](O)[C@H]6O)[C@@H](O)[C@H](O)[C@H]5O)C4(C)C)[C@]3(C)[C@H](O)C[C@]12C', 'C[C@H](CC[C@@H](O[C@@H]1OC[C@@H](O)[C@H](O)[C@H]1O[C@H]1O[C@@H](CO)[C@H](O[C@H]2O[C@@H](CO)[C@H](O)C[C@@H]2O)[C@@H](O)[C@@H]1O)C(C)(C)O)C1CC[C@@]2(C)C3CC=C4C(CC[C@H](O[C@@H]5O[C@H](CO)[C@@H](O)[C@H](O)[C@H]5O)C4(C)C)[C@]3(C)[C@H](O)C[C@]12C', 'CC(C)=CCC[C@](C)(O[C@@H]1O[C@@H](CO[C@@H]2OC[C@@H](O)[C@H](O)[C@@H]2O)[C@@H](O)[C@H](O)[C@@H]1O)[C@@H]1CC[C@]2(C)[C@H]1CC[C@@H]1[C@]3(CO)CC[C@H](O[C@@H]4O[C@H](CO)[C@@H](O)[C@H](O)[C@H]4O[C@@H]4O[C@H](CO)[C@@H](O)[C@@H](O)[C@@H]4O)C(C)(C)[C@@H]3CC[C@]12C', 'CC(C)=CCC[C@@](O)(CO[C@@H]1O[C@H](CO)[C@@H](O)[C@H](O)[C@H]1O)[C@@]1(O)CC[C@]2(C)[C@@H]1CC[C@@H]1[C@@]3(C)CC[C@H](O[C@@H]4O[C@H](CO)[C@@H](O)[C@H](O[C@@H]5OC[C@@H](O)[C@H](O)[C@H]5O)[C@H]4O[C@@H]4O[C@@H](C)[C@H](O)[C@@H](O)[C@H]4O)C(C)(C)[C@@H]3CC[C@]12C', 'CC(C)=CCC[C@@](O)(CO[C@@H]1O[C@H](CO)[C@@H](O)[C@H](O)[C@H]1O)[C@H]1CC[C@]2(C)[C@@H]1CC[C@@H]1[C@@]3(CO)CC[C@H](O[C@@H]4O[C@H](CO)[C@@H](O)[C@H](O[C@@H]5OC[C@@H](O)[C@H](O)[C@H]5O)[C@H]4O[C@@H]4O[C@@H](C)[C@H](O)[C@@H](O)[C@H]4O)C(C)(C)[C@@H]3CC[C@]12C', 'CC(C)=CCC[C@](C)(O[C@@H]1O[C@H](CO[C@@H]2O[C@@H](CO)[C@H](O)[C@H]2O)[C@@H](O)[C@H](O)[C@H]1O)[C@H]1CC[C@]2(C)[C@@H]1[C@H](O)C[C@@H]1[C@@]3(C)CC[C@H](O[C@@H]4O[C@H](CO)[C@@H](O)[C@H](O)[C@H]4O[C@@H]4O[C@H](CO)[C@@H](O)[C@H](O)[C@H]4O)C(C)(C)[C@@H]3CC[C@]12C', 'CC(C)(C)/C=C/C[C@H](O[C@H]1O[C@@H](COC2OC[C@H](O)[C@@H](O)[C@@H]2O)[C@H](O)[C@@H](O)[C@@H]1O)[C@H]1CC[C@]2(C)[C@@H]1[C@H](O)C[C@@H]1[C@@]3(C)CC[C@H](O[C@@H]4O[C@H](CO)[C@@H](O)[C@H](O)[C@H]4O[C@H]4O[C@H](CO)[C@@H](O)[C@H](O)[C@H]4O)C(C)(C)[C@@H]3CC[C@]12C', 'CC(C)=CCC[C@](C)(O[C@@H]1OC(CO[C@H]2O[C@@H](CO)[C@@H](O)C2O)[C@@H](O)[C@@H](O)C1O)[C@H]1CC[C@]2(C)[C@@H]1[C@H](O)C[C@@H]1[C@@]3(C)CC[C@H](O[C@@H]4OC(CO)[C@@H](O)[C@@H](O)C4O[C@@H]4OC(CO)[C@@H](O)[C@@H](O)C4O)C(C)(C)[C@@H]3CC[C@]12C', 'CC(C)=CCCC(C)(O[C@@H]1O[C@H](CO[C@@H]2O[C@@H](C)[C@@H](O)[C@@H](O)[C@H]2O)[C@@H](O)[C@H](O)[C@H]1O)C1CCC2(C)C1C(O)CC1C3CCC(O[C@@H]4O[C@H](CO)[C@@H](O)[C@H](O)[C@H]4O[C@@H]4O[C@H](CO)[C@@H](O)[C@H](O)[C@H]4O)C(C)(C)C3CCC12C', 'CC(C)=CCCC(C)(OC1OC(COC2OCC(O)C(O)C2O)C(O)C(O)C1O)C1CCC2(C)C1CCC1C3(C)CC(O)C(OC4OC(CO)C(O)C(O)C4OC4OC(CO)C(O)C(O)C4O)C(C)(C)C3CCC12C', 'CC(C)=CCC[C@](C)(O[C@@H]1O[C@H](CO[C@@H]2O[C@@H](CO)[C@H](O)[C@H]2O)[C@@H](O)[C@H](O)[C@H]1O)[C@H]1CC[C@]2(C)[C@@H]1[C@H](O)C[C@@H]1[C@@]3(C)CC[C@H](O[C@@H]4O[C@H](CO)[C@@H](O)[C@H](O)[C@H]4O[C@@H]4O[C@H](CO)[C@@H](O)[C@H](O)[C@H]4O)C(C)(C)[C@H]3CC[C@]12C', 'CC(C)=CCC[C@](C)(OC1OC(CO)C(O)C(O)C1OC1OC(CO)C(O)C(O)C1O)C1CC[C@]2(C)C1C(O)CC1[C@@]3(C)CCC(OC4OC(COC5OCC(O)C(O)C5O)C(O)C(O)C4O)C(C)(C)C3CC[C@]12C', 'CC(C)=CCCC(C)(OC1OC(CO)C(O)C(O)C1OC1OC(CO)C(O)C(O)C1O)C1CCC2(C)C1C(O)CC1C3(C)CCC(OC4OC(COC5OCC(O)C(O)C5O)C(O)C(O)C4O)C(C)(C)C3CCC12C', 'CC(C)=CCCC(C)(OC1OC(COC2OC(CO)C(O)C(O)C2O)C(O)C(O)C1O)C1CCC2(C)C1C(O)CC1C3(C)CCC(OC4OC(COC5OCC(O)C(O)C5O)C(O)C(O)C4O)C(C)(C)C3CCC12C', 'CC(C)(O)/C=C/C[C@](C)([C@@H]1O[C@H](CO[C@@H]2O[C@@H](CO)[C@H](O)[C@H]2O)[C@@H](O)[C@H](O)[C@H]1O)[C@H]1CC[C@]2(C)[C@@H]1[C@H](O)C[C@@H]1[C@@]3(C)CC[C@H](O[C@@H]4O[C@H](CO)[C@@H](O)[C@H](O)[C@H]4O[C@@H]4O[C@H](CO)[C@@H](O)[C@H](O)[C@H]4O)C(C)(C)[C@@H]3CC[C@]12C', 'C=C(C)C(O)CC[C@](C)([C@@H]1O[C@H](CO[C@@H]2O[C@@H](CO)[C@H](O)[C@H]2O)[C@@H](O)[C@H](O)[C@H]1O)[C@H]1CC[C@]2(C)[C@@H]1[C@H](O)C[C@@H]1[C@@]3(C)CC[C@H](O[C@@H]4O[C@H](CO)[C@@H](O)[C@H](O)[C@H]4O[C@@H]4O[C@H](CO)[C@@H](O)[C@H](O)[C@H]4O)C(C)(C)[C@@H]3CC[C@]12C', 'CC(C)=CCC[C@](C)(O[C@@H]1O[C@H](CO[C@@H]2O[C@H](CO)[C@@H](O)[C@H](O)[C@H]2O)[C@@H](O)[C@H](O)[C@H]1O)[C@H]1CC[C@]2(C)[C@@H]1[C@H](O)C[C@@H]1[C@@]3(C)CC[C@H](O[C@@H]4O[C@H](CO[C@@H]5OC[C@@H](O)[C@H](O)[C@H]5O)[C@@H](O)[C@H](O)[C@H]4O)C(C)(C)[C@@H]3CC[C@]12C', 'CC(C)CC(O)CC(C)C1CCC2(C)C3=C(CCC12C)C1(C)CCC(OC2OC(CO)C(O)C(OC4OC(C)C(O)C(O)C4O)C2OC2OC(C)C(O)C(OC4OC(CO)C(O)C(O)C4O)C2O)C(O)(CO)C1CC3', 'CC(C)=CCC[C@](C)(O[C@@H]1O[C@H](CO[C@H]2OC[C@@H](O)[C@@H](O)[C@H]2O)[C@@H](O)[C@H](O)[C@H]1O)[C@H]1CC[C@]2(C)[C@@H]1[C@H](O)C[C@@H]1[C@@]3(C)CC[C@H](O)C(C)(C)[C@@H]3[C@@H](O[C@@H]3O[C@H](CO)[C@@H](O)[C@H](O)[C@H]3O[C@@H]3O[C@@H](C)[C@H](O)[C@@H](O)[C@H]3O)C[C@]12C', 'CC(C)=CCC[C@](CO)(O[C@@H]1O[C@H](CO[C@@H]2OC[C@H](O)[C@H](O)[C@H]2O)[C@@H](O)[C@H](O)[C@H]1O)[C@H]1CC[C@]2(C)[C@@H]1CC[C@@H]1[C@@]3(C)CCC(O[C@@H]4O[C@H](CO)[C@@H](O)[C@H](O)[C@H]4O[C@@H]4O[C@H](CO)[C@@H](O)[C@H](O)[C@H]4O)C(C)(C)[C@@H]3CC[C@]12C', 'CC(C)=CCCC(O)(COC1OC(CO)C(O)C(O)C1O)C1(O)CCC2(C)C1CCC1C3(C)CCC(OC4OC(CO)C(O)C(OC5OCC(O)C(O)C5O)C4OC4OC(C)C(O)C(O)C4O)C(C)(C)C3CCC12C', 'CC(C)=CCCC(C)(OC1OC(COC2OCC(O)C(O)C2O)C(O)C(O)C1O)C1CCC2(C)C1C(O)CC1C3(C)CCC(O)C(C)(C)C3C(OC3OC(CO)C(O)C(O)C3OC3OC(C)C(O)C(O)C3O)CC12C', 'CC(C)=CCC[C@](C)(O[C@@H]1O[C@H](CO[C@@H]2O[C@@H](CO)[C@H](O)[C@H]2O)[C@@H](O)[C@H](O)[C@H]1O)[C@H]1CC[C@]2(C)[C@@H]1C(O)C[C@@H]1[C@@]3(C)CC[C@H](O[C@@H]4O[C@H](CO)[C@@H](O)[C@H](O)[C@H]4O[C@@H]4O[C@H](CO)[C@@H](O)[C@H](O)[C@H]4O)C(C)(C)[C@@H]3CC[C@]12C', 'CC(C)=CCC[C@](C)(O[C@@H]1O[C@H](COC2O[C@@H](CO)[C@H](O)[C@H]2O)[C@@H](O)[C@H](O)[C@H]1O)[C@H]1CC[C@]2(C)[C@H]1[C@H](O)C[C@@H]1[C@@]3(C)CC[C@H](O[C@@H]4O[C@H](CO)[C@@H](O)[C@H](O)[C@H]4O[C@@H]4O[C@H](CO)[C@@H](O)[C@H](O)[C@H]4O)C(C)(C)[C@@H]3CC[C@]12C', 'CCC(CCC(C)C1CCC2C3CC=C4CC(O[C@@H]5O[C@H](CO)[C@@H](O)[C@H](O)[C@H]5O)CCC4(C)C3CCC12C)C(C)CO[C@@H]1O[C@H](CO[C@@H]2O[C@H](CO[C@@H]3O[C@H](CO)[C@@H](O)[C@H](O)[C@H]3O)[C@@H](O)[C@H](O)[C@H]2O)[C@@H](O)[C@H](O)[C@H]1O', 'CC(C)=CCCC(C)(OC1OC(COC2OC(C)C(O)C(O)C2O)C(O)C(O)C1O)C1CCC2(C)C1C(O)CC1C3CCC(OC4OC(CO)C(O)C(O)C4OC4OC(CO)C(O)C(O)C4O)C(C)(C)C3CCC12C', 'CC(C)=CCC[C@](C)(O[C@@H]1O[C@H](CO)[C@@H](O)[C@H](O)[C@H]1O)[C@H]1CC[C@]2(C)[C@@H]1[C@H](O)C[C@@H]1[C@@]3(C)CC[C@H](O[C@@H]4O[C@H](CO)[C@@H](O)[C@H](O)[C@H]4O[C@@H]4O[C@H](CO)[C@@H](O)[C@H](O)[C@H]4O[C@@H]4OC[C@@H](O)[C@H](O)[C@H]4O)C(C)(C)[C@@H]3CC[C@]12C', 'CC(C)=CCC[C@](C)(O[C@@H]1O[C@H](CO[C@@H]2OC[C@H](O)[C@H](O)[C@H]2O)[C@@H](O)[C@H](O)[C@H]1O)[C@H]1CC[C@]2(C)[C@@H]1[C@H](O)C[C@@H]1[C@@]3(C)CC[C@H](O)C(C)(C)[C@@H]3[C@@H](O[C@@H]3O[C@H](CO)[C@@H](O)[C@H](O)[C@H]3O[C@@H]3O[C@@H](C)[C@H](O)[C@@H](O)[C@H]3O)C[C@]12C', 'CC(C)=CCC[C@](C)(O[C@@H]1O[C@H](CO[C@@H]2O[C@H](CO)[C@@H](O)[C@H](O)[C@H]2O)[C@@H](O)[C@H](O)[C@H]1O)[C@H]1CC[C@]2(C)[C@@H]1[C@H](O)C[C@@H]1[C@@]3(C)CC[C@H](O[C@@H]4O[C@H](CO)[C@@H](O)[C@H](O)[C@H]4O[C@@H]4OC[C@@H](O)[C@H](O)[C@H]4O)C(C)(C)[C@@H]3CC[C@]12C', 'CC(C)=CCCC(C)(O[C@@H]1O[C@H](CO[C@@H]2O[C@@H](CO)[C@H](O)[C@H]2O)[C@@H](O)[C@H](O)[C@H]1O)[C@H]1CC[C@]2(C)[C@@H]1[C@H](O)C[C@@H]1[C@@]3(C)CC[C@H](O[C@@H]4O[C@H](CO)[C@@H](O)[C@H](O)[C@H]4O[C@@H]4O[C@H](CO)[C@@H](O)[C@H](O)[C@H]4O)C(C)(C)[C@@H]3CC[C@]12C', 'CC(C)=CCC[C@](C)(O[C@@H]1O[C@H](CO)[C@@H](O)[C@H](O)[C@H]1O)[C@H]1CC[C@]2(C)[C@@H]1[C@H](O)C[C@@H]1[C@@]3(C)CC[C@H](O[C@@H]4O[C@H](CO[C@@H]5OC[C@@H](O)[C@H](O)[C@H]5O)[C@@H](O)[C@H](O)[C@H]4O[C@@H]4O[C@H](CO)[C@@H](O)[C@H](O)[C@H]4O)C(C)(C)[C@@H]3CC[C@]12C', 'CC(C)=CCCC(C)(OC1OC(COC2OC(CO)C(O)C(O)C2O)C(O)C(O)C1O)C1CCC2(C)C1C(O)CC1C3(C)CCC(OC4OC(CO)C(O)C(O)C4OC4OCC(O)C(O)C4O)C(C)(C)C3CCC12C', 'CCCCCCCCCCCCCCCCC1(C)CCc2c(C)c(O[C@@H]3OC(CO)[C@H](O[C@@H]4OC(CO)[C@H](O[C@@H]5OC(CO)[C@H](O[C@@H]6OC(CO)[C@H](O)[C@H](O)C6O)C(O)C5O)[C@H](O)C4O)[C@H](O)C3O)c(C)c(C)c2O1', 'CC(C)=CCC[C@](C)(O[C@@H]1O[C@H](CO[C@@H]2O[C@@H](CO)[C@@H](O)[C@H]2O)[C@@H](O)[C@H](O)[C@H]1O)[C@H]1CC[C@]2(C)[C@@H]1[C@H](O)C[C@@H]1[C@@]3(C)CC[C@H](O[C@@H]4O[C@H](CO)[C@@H](O)[C@H](O)[C@H]4O[C@@H]4O[C@H](CO)[C@@H](O)[C@H](O)[C@H]4O)C(C)(C)[C@@H]3CC[C@]12C', 'CC(C)=CCC[C@](C)(O[C@@H]1O[C@H](CO[C@@H]2O[C@@H](CO)[C@H](O)[C@H]2O)[C@@H](O)[C@H](O)[C@H]1O)[C@@H]1CC[C@]2(C)[C@@H]1[C@H](O)C[C@@H]1[C@@]3(C)CC[C@H](O)C(C)(C)[C@@H]3[C@@H](O[C@@H]3O[C@H](CO)[C@@H](O)[C@H](O)[C@H]3O[C@@H]3O[C@@H](C)[C@H](O)[C@@H](O)[C@H]3O)C[C@]12C', 'C[C@@H]1O[C@@H](O[C@@](C)(C/C=C/C(C)(O)CO[C@@H]2O[C@H](CO)[C@@H](O)[C@H](O)[C@H]2O)[C@H]2CC[C@]3(C)[C@@H]2CC[C@@H]2[C@@]4(C)CC[C@H](O[C@@H]5OC[C@H](O)[C@H](O)[C@H]5O[C@@H]5O[C@H](CO)[C@@H](O)[C@H](O)[C@H]5O)C(C)(C)[C@@H]4CC[C@]23C)[C@H](O)[C@H](O)[C@H]1O', 'CC(C)=CCC[C@](C)(O[C@@H]1O[C@H](CO)[C@@H](O)[C@H](O)[C@H]1O)[C@H]1CC[C@]2(C)C1C(O)C[C@@H]1[C@@]3(C)CC[C@H](O[C@@H]4O[C@H](CO)[C@@H](O)[C@H](O)[C@H]4O[C@@H]4O[C@H](CO)[C@@H](O)[C@H](O)[C@H]4O[C@@H]4OC[C@@H](O)[C@H](O)[C@H]4O)C(C)(C)C3CC[C@]12C', 'CC(C)=CCCC(C)(O[C@@H]1O[C@H](CO[C@@H]2O[C@@H](CO)[C@H](O)[C@H]2O)[C@@H](O)[C@H](O)[C@H]1O)C1CCC2(C)[C@@H]1C(O)CC1[C@@]3(C)CC[C@H](O[C@@H]4O[C@H](CO)[C@@H](O)[C@H](O)[C@H]4O[C@@H]4O[C@H](CO)[C@@H](O)[C@H](O)[C@H]4O)C(C)(C)C3CC[C@]12C', 'CC(C)=CCC[C@](C)(O[C@@H]1O[C@H](CO[C@@H]2OC[C@H](O)[C@H](O)[C@@H]2O)[C@@H](O)[C@H](O)[C@H]1O)[C@H]1CC[C@]2(C)[C@@H]1[C@H](O)C[C@@H]1[C@@]3(C)CC[C@H](O)C(C)(C)[C@@H]3[C@@H](O[C@@H]3O[C@H](CO)[C@@H](O)[C@H](O)[C@H]3O[C@@H]3O[C@@H](C)[C@H](O)[C@@H](O)[C@H]3O)C[C@]12C', 'CC(C)=CCCC(C)(O)C1CCC2(C)C3CCC4C(C)(C)C(OC5OC(CO)C(O)C(O)C5OC5OC(CO)C(O)C(O)C5O)CCC4(C)C3CC(OC3OC(COC4OCC(O)C(O)C4O)C(O)C(O)C3O)C12C', 'CC(C)=CCC[C@](C)(OC1OC(COC2OC(CO)C(O)C2O)C(O)C(O)C1O)C1CC[C@]2(C)C1C(O)CC1[C@@]3(C)CCC(OC4OC(CO)C(O)C(O)C4OC4OC(CO)C(O)C(O)C4O)C(C)(C)C3CC[C@]12C', 'CC(C)C[C@H](O)C[C@@H](C)[C@H]1CC[C@@]2(C)C3=C(CC[C@]12C)[C@@]1(C)CC[C@H](O[C@@H]2O[C@H](CO)[C@@H](O)[C@H](O[C@@H]4O[C@@H](C)[C@H](O)[C@@H](O)[C@H]4O)[C@H]2O[C@@H]2O[C@@H](C)[C@H](O)[C@@H](O[C@@H]4O[C@H](CO)[C@@H](O)[C@H](O)[C@H]4O)[C@H]2O)[C@](O)(CO)C1CC3', 'CC(C)=CCC[C@@](C)(O[C@@H]1O[C@H](CO[C@H]2O[C@H](CO)[C@@H](O)[C@@H]2O)[C@@H](O)[C@H](O)[C@H]1O)C1CC[C@]2(C)C1[C@H](O)CC1[C@@]3(C)CC[C@H](O[C@@H]4O[C@H](CO)[C@@H](O)[C@H](O)[C@H]4O[C@@H]4O[C@H](CO)[C@@H](O)[C@H](O)[C@H]4O)C(C)(C)[C@@H]3CC[C@]12C', 'CC(C)=CCC[C@](C)(O[C@@H]1O[C@H](CO)[C@@H](O)[C@H](O)[C@H]1O[C@@H]1O[C@H](CO)[C@@H](O)[C@H](O)[C@H]1O)[C@H]1CC[C@]2(C)[C@@H]1[C@H](O)C[C@@H]1[C@@]3(C)CC[C@@H](O[C@H]4O[C@H](CO[C@@H]5OC[C@@H](O)[C@H](O)[C@H]5O)[C@@H](O)[C@H](O)[C@H]4O)C(C)(C)[C@@H]3CC[C@]12C', 'CC(C)=CCC[C@](C)(O[C@@H]1O[C@H](CO[C@@H]2OC[C@@H](O)[C@H](O)[C@H]2O)[C@@H](O)[C@H](O)[C@H]1O)[C@H]1CC[C@]2(C)[C@@H]1CC[C@@H]1[C@@]3(C)C[C@@H](O)[C@H](O[C@@H]4O[C@H](CO)[C@@H](O)[C@H](O)[C@H]4O[C@@H]4O[C@H](CO)[C@@H](O)[C@H](O)[C@H]4O)C(C)(C)[C@@H]3CC[C@]12C', 'CCC(C)=CCC[C@@](C)(O[C@@H]1O[C@H](CO[C@@H]2OC[C@@H](O)[C@H](O)[C@H]2O)[C@@H](O)[C@@H](O)[C@H]1O)C1CC[C@]2(C)C3CCC4C(C)(C)C(O[C@@H]5O[C@H](CO)[C@@H](O)[C@H](O)[C@H]5O[C@@H]5O[C@H](CO)[C@@H](O)[C@H](O)[C@H]5O)CC[C@]4(C)C3C[C@H](O)C12', 'CC(C)=CCC[C@@](C)(O[C@@H]1O[C@@H](CO[C@H]2O[C@@H](CO)[C@H](O)[C@H]2O)[C@H](O)[C@@H](O)[C@H]1O)[C@@H]1CC[C@@]2(C)[C@H]1[C@@H](O)C[C@H]1[C@@]3(C)CC[C@@H](O[C@@H]4O[C@@H](CO)[C@H](O)[C@@H](O)[C@H]4O[C@H]4O[C@@H](CO)[C@H](O)[C@@H](O)[C@@H]4O)C(C)(C)[C@H]3CC[C@@]12C', 'CC(C)=CCC[C@](C)(O[C@@H]1O[C@H](CO[C@@H]2O[C@@H](C)[C@H](O)[C@@H](O)[C@H]2O)[C@@H](O)[C@H](O)[C@H]1O)[C@H]1CC[C@]2(C)[C@@H]1[C@H](O)C[C@@H]1[C@@H]3CC[C@@H](O[C@@H]4O[C@H](CO)[C@@H](O)[C@H](O)[C@H]4O[C@@H]4O[C@H](CO)[C@@H](O)[C@H](O)[C@H]4O)C(C)(C)[C@H]3CC[C@]12C', 'CC(C)=CCC[C@](C)(O[C@@H]1O[C@H](CO[C@@H]2O[C@@H](CO)[C@H](O)[C@H]2O)[C@@H](O)[C@H](O)[C@H]1O)C1CC[C@]2(C)C1[C@H](O)C[C@@H]1[C@@]3(C)CC[C@H](O[C@@H]4O[C@H](CO)[C@@H](O)[C@H](O)[C@H]4O[C@@H]4O[C@H](CO)[C@@H](O)[C@H](O)[C@H]4O)C(C)(C)[C@@H]3CC[C@]12C', 'CC(C)=CCC[C@](C)(O[C@H]1O[C@@H](CO[C@H]2O[C@@H](CO)[C@H](O)[C@@H](O)[C@@H]2O)[C@H](O)[C@@H](O)[C@@H]1O)[C@@H]1CC[C@]2(C)[C@H]1[C@@H](O)C[C@H]1[C@@]3(C)CC[C@H](O[C@H]4O[C@@H](CO)[C@H](O)[C@@H](O)[C@@H]4O[C@H]4OC[C@H](O)[C@@H](O)[C@@H]4O)C(C)(C)[C@@H]3CC[C@@]12C', 'CC(C)C[C@H](O)C[C@@H](C)[C@H]1CC[C@@]2(C)C3=C(CC[C@]12C)[C@@]1(C)CC[C@H](O[C@@H]2OC(CO)[C@@H](O)C(OC4O[C@@H](C)C(O)[C@H](O)[C@@H]4O)[C@@H]2OC2O[C@@H](C)C(O)[C@H](O[C@@H]4OC(CO)[C@@H](O)C(O)[C@@H]4O)[C@@H]2O)[C@](O)(CO)C1CC3', 'C[C@H](CC[C@@H](O[C@@H]1OC[C@@H](O)[C@H](O)[C@H]1O[C@H]1O[C@@H](CO)[C@H](O)[C@@H](O)[C@@H]1O)C(C)(C)O)C1CC[C@@]2(C)C3CC=C4C(CC[C@H](O[C@@H]5O[C@H](CO)C(C6O[C@H](CO)[C@@H](O)[C@H](O)[C@H]6O)[C@H](O)[C@H]5O)C4(C)C)[C@]3(C)[C@H](O)C[C@]12C', 'COC1CC(OC2CCC3(C)C(CCC4(O)C3CC(OC(=O)CC(C)C)C3(C)C(O)(C(C)O)CCC43O)C2)OC(C)C1OC1CC(OC)C(OC2OC(C)C(OC3OC(CO)C(O)C(O)C3O)C(OC)C2O)C(C)O1', 'C=C(C)C(CC[C@@](O)(CO[C@@H]1O[C@H](CO)[C@@H](O)[C@H](O)[C@H]1O)[C@H]1CC[C@]2(C)[C@@H]1CC[C@@H]1[C@@]3(C)CC[C@H](O[C@@H]4OC[C@H](O)[C@H](O)[C@H]4O[C@@H]4O[C@H](CO)[C@@H](O)[C@H](O)[C@H]4O)C(C)(C)[C@@H]3CC[C@]12C)O[C@@H]1O[C@@H](C)[C@H](O)[C@@H](O)[C@H]1O', 'CC(C)=CCCC(C)(OC1OC(COC2OC(CO)C(O)C2O)C(O)C(O)C1O)C1CCC2(C)C1C(O)CC1C3(C)CCC(O)C(C)(C)C3C(OC3OC(CO)C(O)C(O)C3OC3OC(C)C(O)C(O)C3O)CC12C', 'CC(C)=CCC[C@](C)(O)[C@H]1CC[C@@]2(C)[C@@H]3CC[C@H]4C(C)(C)[C@@H](O[C@@H]5O[C@H](CO)[C@@H](O)[C@H](O)[C@H]5O[C@@H]5O[C@H](CO)[C@@H](O)[C@H](O)[C@H]5O)CC[C@]4(C)[C@H]3C[C@@H](O[C@@H]3O[C@H](CO[C@@H]4OC[C@H](O)[C@H](O)[C@H]4O)[C@@H](O)[C@H](O)[C@H]3O)[C@]12C', 'CC(C)=CCC[C@](C)(O[C@@H]1O[C@H](CO)[C@@H](O)[C@H](O)[C@H]1O[C@@H]1OC[C@H](O)[C@H](O)[C@H]1O)[C@H]1CC[C@]2(C)[C@@H]1[C@H](O)C[C@@H]1[C@@]3(C)CC[C@H](O)C(C)(C)[C@@H]3[C@@H](O[C@@H]3O[C@H](CO)[C@@H](O)[C@H](O)[C@H]3O[C@@H]3O[C@@H](C)[C@H](O)[C@@H](O)[C@H]3O)C[C@]12C', 'C1[C@H]2[C@@H]([C@@H](S1)CCCCC(=O)NCCOCCOCCOCCOCCC(=O)NCCC(=O)N3CC4=CC=CC=C4C#CC5=CC=CC=C53)NC(=O)N2', 'CCOCCn1c(N2CCCN(CCC3(c4ccccc4)CCN(C(=O)c4cc(OC)c(OC)c(OC)c4)C3OS(C)(=O)=O)CC2)nc2ccccc21', 'COC(=O)C1=Cc2cc(OC)ccc2-c2c(C3CCCCC3)c3ccc(C(=O)NS(=O)(=O)N(C)CCN4CCN(C(=O)OC(C)(C)C)CC4)cc3n2C1', 'CCOCCn1c(NC2CCN(CCC3(c4ccccc4)CCN(C(=O)c4cc(OC)c(OC)c(OC)c4)C3OS(C)(=O)=O)CC2)nc2ccccc21', 'C=C[C@@H]1C[C@]1(NC(=O)[C@@H]1C[C@@H]2CN1C(=O)[C@H](C1CCCCC1)NC(=O)CCCCCC=Cc1cccc3c1CN(C3)C(=O)O2)C(=O)NS(=O)(=O)C1CC1', 'C=C[C@@H]1C[C@]1(NC(=O)[C@@H]1C[C@@H](N2Cc3cccc4c(OC)ccc(c34)C2)CN1C(=O)[C@@H](NC(=O)OC1CCCC1)C(C)(C)C)C(=O)NS(=O)(=O)C1CC1', 'C=C[C@@H]1C[C@]1(NC(=O)[C@@H]1C[C@@H]2CN1C(=O)[C@H](C1CCCCC1)NC(=O)OCC(C)(C)CCCc1ccc3ccnc(c3c1)O2)C(=O)NS(=O)(=O)C1CC1', 'CC(C)(C)N(C(=O)O)[C@H]1CCCCC/C=C/[C@@H]2C[C@@]2(C(=O)NS(=O)(=O)C2CC2)NC(=O)[C@@H]2C[C@@H](Oc3nc4ccccc4c4c3CCCC4)CN2C1=O', 'Cc1nc2ccccc2c2c1O[C@@]1(CC2)C[C@H]2C(=O)N[C@]3(C(=O)NS(=O)(=O)C4(C)CC4)C[C@H]3/C=C\\\\CCCCC[C@H](NC(=O)OC(C)(C)C)C(=O)N2C1', 'C=C[C@@H]1C[C@]1(NC(=O)[C@@H]1C[C@@](OC)(c2ccc(-c3ccnc(C)c3)cc2)CN1C(=O)[C@@H](NC(=O)OC1CCCC1)C(C)(C)C)C(=O)NS(=O)(=O)C1CC1', 'CCOCCn1c(NC2CCN(CCC3(c4ccccc4)C(=O)N(Cc4cc(OC)c(OC)c(OC)c4)CC3OS(C)(=O)=O)CC2)nc2ccccc21', 'CC(C)(C)OC(=O)N[C@H]1CCCCC/C=C\\\\C2C[C@@]2(C(=O)NS(=O)(=O)C2CC2)NC(=O)[C@@H]2C[C@@H](Oc3nc4ccccc4c4c3CCCC4)CN2C1=O', 'Cc1ccc2nc(C)c3c(c2c1)CC[C@]1(C[C@H]2C(=O)N[C@]4(C(=O)NS(=O)(=O)C5(C)CC5)C[C@H]4/C=C\\\\CCCCC[C@H](N(C(=O)O)C(C)C)C(=O)N2C1)O3', 'Cc1nc2ccccc2c2c1O[C@]1(CC2)C[C@H]2C(=O)N[C@]3(C(=O)NS(=O)(=O)C4(C)CC4)C[C@H]3/C=C\\\\CCCCC[C@H](NC(=O)OCC(C)C)C(=O)N2C1', 'C=C[C@@H]1C[C@@]1(NC(=O)[C@@H]1C[C@@H](O/N=C/C2=CCCC=C2c2ccccc2)CN1C(=O)[C@@H](NC(=O)OC1CCCC1)C(C)(C)C)C(=O)NS(=O)(=O)C1CC1', 'Cc1nc2ccccc2c2c1OC1(CC2)CC2C(=O)NC3(C(=O)NS(=O)(=O)C4(C)CC4)CC3C=CCCCCCC(NC(=O)OCC(C)C)C(=O)N2C1', 'CCS(=O)(=O)NC1C(C(=O)NN(Cc2ccc(-c3ccccn3)cc2)C[C@H](O)[C@H](Cc2ccccc2)NC(=O)O[C@H]2CO[C@H]3OCC[C@H]32)CCC1(C)C', 'C=C[C@@H]1C[C@]1(NC(=O)[C@@H]1C[C@@](OC)(c2ccc(-c3ccc(C)nc3)cc2)CN1C(=O)[C@@H](NC(=O)OC1CCCC1)C(C)(C)C)C(=O)NS(=O)(=O)C1CC1', 'COc1ccc(C2CCCCC2)c2c1cc1n2CC2=C(C(=O)NS(=O)(=O)N(C)CCN3CCN(C(=O)OC(C)(C)C)CC3)C2=C2C=CC[C@@H](C(=O)O)C21', 'CC(C)(C)OC(=O)N[C@H]1CCCCC/C=C\\\\[C@@H]2C[C@@]2(C(=O)NS(=O)(=O)C2CC2)NC(=O)[C@@H]2C[C@@H](Oc3nc4ccccc4c4c3CCCC4)CN2C1=O', 'C=C[C@@H]1C[C@@]1(NC(=O)[C@@H]1C[C@H]2Cc3nccc4cc(OC)c(cc34)CCCCCOC(=O)N[C@@H](C3CCCCC3)C(=O)N1C2)C(=O)NS(=O)(=O)C1CC1', 'C=CC1C[C@]1(NC(=O)[C@@H]1C[C@@H]2CN1C(=O)[C@H](C1CCCC1)NC(=O)OCC(C)(C)CCCCc1ccc3ccnc(c3c1)O2)C(=O)NS(=O)(=O)C1CC1', 'COc1ccc2c(c1)C1CC1(C(=O)O)Cn1c-2c(C2CCCCC2)c2ccc(C(=O)NS(=O)(=O)N(C)CCN3CCN(C(=O)OC(C)(C)C)CC3)cc21', 'Cc1nc2ccccc2c2c1OC1(CC2)CC2C(=O)NC3(C(=O)NS(=O)(=O)C4(C)CC4)CC3C=CCCCCCC(NC(=O)OC(C)(C)C)C(=O)N2C1', 'COc1cc2c3c(cccc3c1)CN([C@@H]1CC3C(=O)NC4(C(=O)NS(=O)(=O)C5CC5)CC4/C=C/CCCCCC(NC(=O)OC(C)(C)C)C(=O)N3C1)C2', 'C=C[C@@H]1C[C@]1(NC(=O)[C@@H]1C[C@@](OC)(c2ccc(-c3cnccc3C)cc2)CN1C(=O)[C@@H](NC(=O)OC1CCCC1)C(C)(C)C)C(=O)NS(=O)(=O)C1CC1', 'Cc1ccc2nc(C)c3c(c2c1)CCC1(CC2C(=O)NC4(C(=O)NS(=O)(=O)C5CC5)CC4C=CCCCCCC(NC(=O)OC(C)(C)C)C(=O)N2C1)O3', 'C=CCC(NC(=O)[C@@H]1C[C@@H]2CN1C(=O)[C@H](C1CCCCC1)NC(=O)O[C@@H]1CCC[C@H]1CCCc1ccc3ccnc(c3c1)O2)C(=O)NS(=O)(=O)C1CC1', 'Cc1ccc([S@@](=O)NC(=O)[C@@]23C[C@H]2CCCCCCC[C@H](NC(=O)OC(C)(C)C)C(=O)N2C[C@H](OC(=O)N4Cc5ccccc5C4)C[C@H]2C(=O)N3)cc1', 'Cc1nc2ccccc2c2c1O[C@]1(CC2)C[C@H]2C(=O)N[C@]3(C(=O)NS(=O)(=O)C4(C)CC4)C[C@H]3/C=C\\\\CCCCC[C@H](NC(=O)OC(C)(C)C)C(=O)N2C1', 'Cc1ccc2nc(C)c3c(c2c1)CC[C@]1(C[C@H]2C(=O)N[C@]4(C(=O)NS(=O)(=O)C5CC5)C[C@H]4/C=C\\\\CCCCC[C@H](NC(=O)OC(C)(C)C)C(=O)N2C1)O3', 'C=C[C@@H]1C[C@]1(NC(=O)[C@@H]1C[C@@H]2CN1C(=O)[C@H](C(C)(C)C)CC(=O)O[C@@]1(C)C[C@@H]1CCCCCc1nc3ccccc3nc1O2)C(=O)NS(=O)(=O)C1CC1', 'C=C[C@@H]1C[C@]1(CC(=O)[C@@H]1CC2CN1C(=O)[C@H](C(C)(C)C)NC(=O)O[C@@H]1C[C@H]1CCCCCc1nc3ccc(C)cc3nc1O2)C(=O)NS(=O)(=O)C1CC1', 'C=CCC(NC(=O)[C@@H]1C[C@@H]2CN1C(=O)[C@H](C1CCCCC1)NC(=O)O[C@H]1CCC[C@@H]1CCCc1ccc3ccnc(c3c1)O2)C(=O)NS(=O)(=O)C1CC1', 'COc1nn(C)cc1C(=O)NS1(=O)=NC(=O)c2ccc3c(c2)N(C[C@@H]2CC[C@H]2[C@@H](OC)[C@H](O)[C@@H](O)C[C@H](C)C1)C[C@@]1(CCCc2cc(C)ccc21)CO3', 'Cc1ccc2nc(C)c3c(c2c1)CC[C@]1(C[C@H]2C(=O)N[C@]4(C(=O)NS(=O)(=O)C5CC5)C[C@@H]4/C=C\\\\CCCCC[C@H](NC(=O)OC(C)(C)C)C(=O)N2C1)O3', 'CC(C)(C)OC(=O)N[C@H]1CCCCCC=C[C@@H]2C[C@@]2(C(=O)NS(=O)(=O)C2CC2)NC(=O)[C@@H]2C[C@@H](Oc3nc4c(c5ccccc35)CCCC4)CN2C1=O', 'C=C[C@@H]1C[C@]1(NC(=O)[C@@H]1C[C@@H](Oc2cc(-c3csc(NC(C)C)n3)nc3cc(OC)ccc23)CN1C(=O)[C@@H](CC(=O)OC(C)(C)C)C(C)(C)C)C(=O)O', 'Cc1ccc([S@](=O)NC(=O)[C@@]23C[C@H]2CCCCCCC[C@H](NC(=O)OC(C)(C)C)C(=O)N2C[C@H](OC(=O)N4Cc5ccccc5C4)C[C@H]2C(=O)N3)cc1', 'C=C[C@@H]1C[C@]1(NC(=O)[C@@H]1C[C@@](OC)(c2ccc(-c3cccc(C)n3)cc2)CN1C(=O)[C@@H](NC(=O)OC1CCCC1)C(C)(C)C)C(=O)NS(=O)(=O)C1CC1', 'C=CC1C[C@@]1(NC(=O)C1CC2Cc3nccc4cc(OC)c(cc34)CCCCCOC(=O)NC(C3CCCCC3)C(=O)N1C2)C(=O)NS(=O)(=O)C1CC1', 'Cc1nc2ccccc2c2c1O[C@]1(CC2)C[C@H]2C(=O)N[C@]3(C(=O)NS(=O)(=O)C4(C)CC4)C[C@@H]3/C=C\\\\CCCCC[C@H](NC(=O)OC(C)(C)C)C(=O)N2C1', 'C=C[C@@H]1C[C@]1(NC(=O)[C@@H]1C[C@@H]2CN1C(=O)[C@H](C1CCCCC1)NC(=O)CCCCC/C=C\\\\c1cccc3c1CN(C3)C(=O)O2)C(=O)NS(=O)(=O)C1CC1', 'C=C[C@@H]1C[C@]1(NC(=O)[C@@H]1C[C@@](OC)(c2ccc(-c3ccccn3)c(C)c2)CN1C(=O)[C@@H](NC(=O)OC1CCCC1)C(C)(C)C)C(=O)NS(=O)(=O)C1CC1', 'C=C[C@@H]1C[C@]1(NC(=O)[C@@H]1C[C@@](OC)(c2ccc(-c3ccc(C)cn3)cc2)CN1C(=O)[C@@H](NC(=O)OC1CCCC1)C(C)(C)C)C(=O)NS(=O)(=O)C1CC1', 'Cc1nc2ccccc2c2c1O[C@]1(CC2)C[C@H]2C(=O)N[C@]3(C(=O)NS(=O)(=O)C4(C)CC4)CC3/C=C\\\\CCCCC[C@H](NC(=O)OC(C)(C)C)C(=O)N2C1', 'C=C[C@@H]1CC1(NC(=O)[C@@H]1C[C@@H]2CN1C(=O)[C@H](C1CCCCC1)NC(=O)OCCCCCCCc1ccc3ccnc(c3c1)O2)C(=O)NS(=O)(=O)C1CC1', 'CCCCc1nc(C)c(CC(=O)N(C)C2CCOCC2)c(=O)n1Cc1ccc(-c2ccccc2S(=O)(=O)N(COC)c2nocc2C)c(OCCC)c1', 'C=C[C@H]1C[C@]1(NC(=O)[C@@H]1C[C@@H]2CN1C(=O)[C@H](C(C)(C)C)NC(=O)N1CCC[C@H]1CC/C=C\\\\c1cccc3c1CN(C3)C(=O)O2)C(=O)CS(=O)(=O)C1CC1', 'CC(C)CN(CC(O)C(Cc1ccccc1)NC(=O)C(NC(=O)CNC(=O)c1cccc(N)c1)C(C)(C)C)S(=O)(=O)C1=COC(Cc2ccccc2)O1', 'CC(=O)O.O=C(Nc1cccc(COCCOCCCCCCNC[C@H](O)c2ccc(O)c(CO)c2)c1)c1cccc(NCc2cn3c(n2)SCC3)c1', 'C=C[C@@H]1C[C@]1(NC(=O)[C@@H]1C[C@@H]2CN1C(=O)[C@H](C(C)(C)C)CC(=O)O[C@]1(C)C[C@H]1CCCCCc1nc3ccccc3nc1O2)C(=O)NS(=O)(=O)C1CC1', 'CC(C)(C)OC(=O)N[C@H]1CCCCC/C=C\\\\C2C[C@@]2(C(=O)NS(=O)(=O)C2CC2)NC(=O)[C@@H]2C[C@@H](Oc3nc4c(c5ccccc35)CCCC4)CN2C1=O', 'COc1ccc2c(O[C@@H]3CC4C(=O)NC5(C(=O)O)CC5CCCCCCCC(NC(=O)OC(C)(C)C)C(=O)N4C3)cc(-c3ncc(C(C)C)s3)nc2c1', 'CC(C)(C)N(C(=O)O)[C@H]1CCCCC/C=C/[C@@H]2C[C@@]2(C(=O)NS(=O)(=O)C2CC2)NC(=O)[C@@H]2C[C@@H](Oc3nc4c(c5ccccc35)CCCC4)CN2C1=O', 'CC(C)COC(=O)NC1CCCCCC=CC2CCC2(C(=O)NS(=O)(=O)C2(C)CC2)NC(=O)C2CC3(CCc4c(cnc5ccccc45)O3)CN2C1=O', 'O=C(N[C@H]1CCCCC/C=C\\\\[C@@H]2C[C@@]2(C(=O)NSC2CC2)NC(=O)[C@@H]2C[C@@H](OC(=O)N3Cc4ccccc4C4(CCC4)C3)CN2C1=O)O[C@@H]1CCOC1', 'C=C[C@@H]1CC1(NC(=O)[C@@H]1C[C@@H]2CN1C(=O)[C@H](C1CCCCC1)NC(=O)OCC(C)(C)CCCc1ccc3ccnc(c3c1)O2)C(=O)NS(=O)(=O)C1CC1', 'C=C[C@@H]1C[C@]1(NC(=O)[C@@H]1C[C@@H]2CN1C(=O)[C@H](C(C)(C)C)NC(=O)N1CCC[C@H]1CC/C=C\\\\c1cccc3c1CN(C3)C(=O)O2)C(=O)CS(=O)(=O)C1CC1', 'COc1cc(CN2C[C@H]3CN4C(=O)[C@H](CC(=O)OC(C)(C)C)CCCC/C=C\\\\[C@@H]5C[C@@]5(C(=O)NS(=O)(=O)C5CC5)NC(=O)[C@@H]4[C@H]3C2)c2ccccc2n1', 'Cc1nc2ccccc2c2c1O[C@]1(CC2)C[C@H]2C(=O)N[C@]3(C(=O)NS(=O)(=O)C4(C)CC4)C[C@H]3/C=C\\\\CCCCC[C@H](N(CC(C)C)C(=O)O)C(=O)N2C1', 'C=C[C@@H]1C[C@]1(NC(=O)[C@@H]1C[C@@H]2CN1C(=O)[C@H](C1CCCC1)NC(=O)OCC(C)(C)CCCCc1ccc3ccnc(c3c1)O2)C(=O)NS(=O)(=O)C1CC1', 'CC(C)(C)OC(=O)N[C@H]1CCCCC/C=C\\\\[C@@H]2C[C@@]2(C(=O)NS(=O)(=O)C2CC2)NC(=O)[C@@H]2C[C@@H](Oc3nc4c(c5ccccc35)CCCC4)CN2C1=O', 'C=C[C@@H]1C[C@]1(NC(=O)[C@@H]1C[C@@](OC)(c2ccc(-c3ncccc3C)cc2)CN1C(=O)[C@@H](NC(=O)OC1CCCC1)C(C)(C)C)C(=O)NS(=O)(=O)C1CC1', 'CC(C)CN(CC(O)C(Cc1ccccc1)NC(=O)C(NC(=O)CNC(=O)c1ccccc1N)C(C)(C)C)S(=O)(=O)C1=COC(Cc2ccccc2)O1', 'CC(C)CN(CC(O)C(Cc1ccccc1)NC(=O)C(NC(=O)CNC(=O)c1ccc(N)cc1)C(C)(C)C)S(=O)(=O)C1=COC(Cc2ccccc2)O1', 'C=C[C@H]1C[C@@]1(NC(=O)[C@@H]1C[C@@H]2CN1C(=O)[C@H](C(C)(C)C)NC(=O)OCCCCCCCc1c(-c3ccccc3)ccnc1O2)C(=O)NS(=O)(=O)C1CC1', 'Cc1ccc2nc(C)c3c(c2c1)CC[C@]1(C[C@H]2C(=O)N[C@]4(C(=O)NS(=O)(=O)C5(C)CC5)C[C@H]4/C=C\\\\CCCCC[C@H](NC(=O)OC(C)C)C(=O)N2C1)O3', 'Cc1nc2ccccc2c2c1OC1(CC2)CC2C(=O)NC3(C(=O)NS(=O)(=O)C4(C)CC4)CCC3C=CCCCCCC(NC(=O)OC(C)C)C(=O)N2C1', 'C=C[C@@H]1C[C@]1(NC(=O)[C@@H]1C[C@@](OC)(c2ccc(-c3cc(C)ccn3)cc2)CN1C(=O)[C@@H](NC(=O)OC1CCCC1)C(C)(C)C)C(=O)NS(=O)(=O)C1CC1', 'Cc1nc2ccccc2c2c1O[C@]1(CC2)C[C@H]2C(=O)N[C@]3(C(=O)NS(=O)(=O)C4(C)CC4)CC3/C=C\\\\CCCCC[C@H](NC(=O)OCC(C)C)C(=O)N2C1', 'C=C[C@@H]1CC[C@]1(NC(=O)[C@@H]1C[C@@H]2CN1C(=O)[C@H](C1CCCC1)NC(=O)OCC(C)(C)CCCc1ccc3ccnc(c3c1)O2)C(=O)NS(=O)(=O)C1CC1', 'C=C[C@@H]1C[C@@]1(NC(=O)[C@@H]1C[C@@H]2CN1C(=O)[C@H](C1CCCCC1)NC(=O)CCCCC/C=C\\\\c1cccc3c1CN(C3)C(=O)O2)C(=O)NS(=O)(=O)C1CC1', 'C=C[C@@H]1C[C@]1(NC(=O)[C@@H]1C[C@@H](N2Cc3cccc4cccc(c34)C2)CN1C(=O)[C@@H](NCC(=O)OC1CCOCC1)C(C)(C)C)C(=O)NS(=O)(=O)C1CC1', 'C=C[C@H]1C[C@]1(NC(=O)[C@@H]1C[C@@H]2CN1C(=O)[C@H](C1CCCCC1)NC(=O)CCCCC/C=C\\\\c1cccc3c1CN(C3)C(=O)O2)C(=O)NS(=O)(=O)C1CC1', 'C=C[C@@H]1C[C@]1(NC(=O)[C@@H]1C[C@@](OC)(c2ccc(-c3cccnc3C)cc2)CN1C(=O)[C@@H](NC(=O)OC1CCCC1)C(C)(C)C)C(=O)NS(=O)(=O)C1CC1', 'CC(C)(C)OC(=O)N[C@H]1CCCCC/C=C\\\\[C@@H]2C[C@@]2(C(=O)NS(=O)(=O)C2CC2)NC(=O)C2C[C@@H](Oc3nc4c(c5ccccc35)CCCC4)CN2C1=O', 'Cc1nc2ccccc2c2c1O[C@@]1(CC2)C[C@H]2C(=O)N[C@]3(C(=O)NS(=O)(=O)C4(C)CC4)C[C@@H]3/C=C\\\\CCCCC[C@H](NC(=O)OC(C)(C)C)C(=O)N2C1', 'C=C[C@@H]1C[C@]1(NC(=O)[C@@H]1C[C@@](OC)(c2ccc(-c3ccncc3)c(C)c2)CN1C(=O)[C@@H](NC(=O)OC1CCCC1)C(C)(C)C)C(=O)NS(=O)(=O)C1CC1', 'CC(C)(C)OC(=O)N[C@H]1CCCCCC=C[C@@H]2C[C@@]2(C(=O)NS(=O)(=O)C2CC2)NC(=O)[C@@H]2C[C@@H](Oc3nc4ccccc4c4c3CCCC4)CN2C1=O', 'C=CC1C[C@]1(CC(=O)[C@@H]1CC2CN1C(=O)[C@H](C(C)(C)C)NC(=O)O[C@@H]1C[C@H]1CCCCCc1nc3ccc(C)cc3nc1O2)C(=O)NS(=O)(=O)C1CC1', 'C=CC1C[C@]1(CC(=O)[C@@H]1CC2CN1C(=O)C(C(C)(C)C)NC(=O)O[C@@H]1C[C@H]1CCCCCc1nc3ccc(C)cc3nc1O2)C(=O)NS(=O)(=O)C1CC1', 'C=C[C@@H]1CC1(NC(=O)[C@@H]1C[C@@H]2CN1C(=O)[C@H](C1CCCC1)NC(=O)OCC(C)(C)CCCCc1ccc3ccnc(c3c1)O2)C(=O)NS(=O)(=O)C1CC1', 'C=CC1C[C@]1(NC(=O)[C@@H]1C[C@@H]2CN1C(=O)[C@H](C1CCCCC1)NC(=O)OCCCCCCCc1ccc3ccnc(c3c1)O2)C(=O)NS(=O)(=O)C1CC1', 'COc1ccc2c(O[C@@H]3CC4C(=O)NC5(C(=O)O)CC5CCCCCCCC(NC(=O)OC(C)(C)C)C(=O)N4C3)cc(-c3cnc(C(C)C)s3)nc2c1', 'CCC1(CC2=C(CO1)SC3=C2C(=O)N(N=N3)CC(=O)NC4=CC(=CC=C4)Cl)C', 'N#Cc1cccc(S(=O)(=O)NCC(=O)N2CCN(c3cccc(Cl)c3)CC2)c1', 'Cc1nc(C)c(-c2ccc(=O)n(CCNC(=O)COc3ccccc3Cl)n2)s1', 'CS(=O)(=O)Nc1ccc(CCNC(=O)c2cn[nH]c2-c2ccc(Cl)cc2)cc1', 'Cn1cnc(S(=O)(=O)N2CCO[C@@H](c3ccc(-c4cccc(Cl)c4)cn3)C2)c1', 'N#Cc1ccc(NC(=O)CNc2cccc(S(=O)(=O)N3CCCC3)c2)cc1Cl', 'C[C@H](NC(=O)c1ccccc1NS(=O)(=O)c1cnc(Cl)n1C)c1ccccc1', 'COc1cc(Cl)c(C)cc1NC(=O)C[C@@H]1S/C(=N/Nc2ccccc2)NC1=O', 'O=S(=O)(c1ccc(Cl)cc1)N1CCN(Cc2nnc(-c3ccccc3)o2)CC1', 'CN(C(=O)C1CCN(S(=O)(=O)c2cccnc2Cl)CC1)c1cccc(C#N)c1', 'CCCNC(=O)c1cc(-c2ccc(Cl)cc2)n(-c2ccc(S(N)(=O)=O)cc2)n1', 'CC(Sc1nc2ccccc2c(=O)n1CCCO)C(=O)Nc1ccc(Cl)cn1', 'O=S(=O)(c1cc(-c2ncc(-c3ccccn3)[nH]2)ccc1Cl)N1CCC(O)CC1', 'Cc1ccc(NC(=O)CSc2c(C)cnc3c2c(=O)n(C)c(=O)n3C)cc1Cl', 'O=C(Nc1ccccn1)C1CCN(C(=O)C2CC(c3ccc(Cl)s3)=NO2)CC1', 'Cc1ccc(S(=O)(=O)O[C@@]23C[C@H](CN2c2ccc(Cl)nc2)N(CC#N)C3)cc1', 'COc1cc(C)c(NC(=O)Cn2c(-c3ccc(Cl)cc3)n[nH]c2=S)cc1OC', 'Cc1ccnn1-c1cccc(NC(=O)[C@H](C)NS(=O)(=O)c2ccc(Cl)cc2)c1', 'Cc1[nH]n(-c2ccc(Cl)cc2)c(=O)c1/C=N/c1ccc(S(=O)(=O)N(C)C)cc1', 'CC(C)(C)NC(=O)NC(=O)COc1ncnc2scc(-c3ccc(Cl)cc3)c12', 'Cc1nc(C(=O)N[C@@H](C)c2ccc(S(C)(=O)=O)cc2)nn1-c1ccc(Cl)cc1', 'CNS(=O)(=O)c1ccc(/N=C/c2c(C)[nH]n(-c3ccc(C)c(Cl)c3)c2=O)cc1', 'CC1(C)C(C#N)=C(SCC(=O)NCCOc2ccc(Cl)cc2)NC(=O)[C@H]1C#N', 'CC(Oc1ccccc1Cl)c1nnc(SCC(=O)Nc2ccccc2O)n1C', 'CC(C)NS(=O)(=O)c1ccc(NC(=O)c2cnn(-c3cccc(Cl)c3)c2)cc1', 'Cn1c(C(=O)Nc2cccc(N3CCCCS3(=O)=O)c2)nc2cc(Cl)ccc21', 'COc1ccc(-n2c(CNc3ccc(C)c(Cl)c3)nnc2SCC(=O)O)cc1', 'CC(NC(=O)c1cn[nH]c1-c1cccc(Cl)c1)c1ccc(NS(C)(=O)=O)cc1', 'Cc1nn(C)c(C)c1NC(=O)c1ccc(S(=O)(=O)Nc2ccccc2Cl)cc1', 'CCCCc1nc(C=C2S/C(=N/c3ccc(CC(=O)O)cc3)NC2=O)c(Cl)[nH]1', 'Cc1ccc(S(=O)(=O)N(C)C)cc1NC(=O)c1cnn(-c2cccc(Cl)c2)c1', 'O=S(=O)(c1ccc(Cl)cc1)N1CCN(Cc2noc(-c3ccccc3)n2)CC1', 'C=CCn1c(SC(CC)C(=O)Nc2cc(C)on2)nc2cc(Cl)ccc2c1=O', 'COc1ccccc1NC(=O)CSc1nnc(-c2cc(Cl)ccc2OC)n1C', 'CCOc1ccc2nc(NC(=O)CNC(=O)NCc3ccc(Cl)cc3)sc2c1', 'CC1CN(C(=O)c2ccccc2)CCN1S(=O)(=O)c1c[nH]c2c(Cl)nccc12', 'N#C/C(=C/NCCc1ccc(S(N)(=O)=O)cc1)C(=O)NCc1ccc(Cl)cc1', 'COc1ccc(Cl)cc1NC(=O)CSc1nnc(COc2ccccc2)n1C', 'O=C(CSc1cnn(CC(=O)N2CCc3ccccc32)c(=O)c1Cl)NC1CC1', 'CCc1cnc2c(c1SCC(=O)Nc1ccc(Cl)cc1)c(=O)n(C)c(=O)n2C', 'C[C@H]1COCCN1c1cc(C2(S(=O)(=O)c3ccc(C#N)cc3)CC2)nc(Cl)n1', 'COc1ccc(N2CCOCC2)c2sc(NC(=O)c3ccnc(CCl)c3)nc12', 'CCOc1ccc(OCc2nnc(SCC(N)=O)n2-c2ccc(Cl)cc2)cc1', 'COc1cc(/C=N\\\\NC(=O)c2ccc3nc(SC(C)C)[nH]c3c2)cc(Cl)c1O', 'Cn1nccc1NC(=O)c1ccc(N(Cc2ccccc2Cl)S(C)(=O)=O)cc1', 'CCOc1c(Cl)cc(/C=N\\\\n2c(COc3ccccc3)n[nH]c2=S)cc1OC', 'COc1ccc(Cl)cc1NC(=O)Cn1nnc2sc3c(c2c1=O)CC[C@@H](C)C3', 'COc1ccc(NC(=O)[C@H](C)SC2=C(C#N)C(C)(C)[C@H](C#N)C(=O)N2)cc1Cl', 'Cc1cc(NC(=O)CN2CCN(C(=O)c3sc4ccccc4c3Cl)CC2)no1', 'CCOC(=O)N1CCN(C(=O)c2csc3nc(-c4cccc(Cl)c4)cn23)CC1', 'CS(=O)(=O)c1ccc(Cl)c(C(=O)N2CCC(c3nnc4ccccn34)CC2)c1', 'CCOc1ccccc1-c1n[nH]c(=S)n1/N=C\\\\c1cc(Cl)c(OC)c(OC)c1', 'CC(C)(C)NC(=O)C=Cc1c(Cl)nnc2c1ccn2S(=O)(=O)c1ccccc1', 'CC(=O)Nc1cccc(NS(=O)(=O)c2c(C)nn(-c3ccc(Cl)cc3)c2C)c1', 'COC[C@H](C)n1c(SCC(=O)Nc2cccnc2Cl)nc2ccccc2c1=O', 'COc1cc(/C=N\\\\NC(=O)[C@@H](C)Nc2nc3ccccc3s2)cc(Cl)c1OC', 'Cc1nn(-c2ccccc2)c(Cl)c1C(=O)NCc1ccccc1NS(C)(=O)=O', 'CC(C)C1C(=O)Nc2cc(Cl)ccc2N1CC1=NS(=O)(=O)c2ccccc2N1', 'CNS(=O)(=O)Cc1ccc(CNC(=O)c2cnn(-c3ccc(Cl)cc3)c2)cc1', 'O=C(CC[C@H]1CN(c2ccc(N3CCN=CN3)cc2)C(=O)O1)c1ccc(Cl)s1', 'COc1cccc(C2(C)NC(=O)N(NC(=S)Nc3cccc(Cl)c3C)C2=O)c1', 'Cc1nc2ccc(C(=O)NCCNS(=O)(=O)c3cccc(Cl)c3)cc2nc1C', 'O=C(NC(=S)Nc1ccccc1N1CCCCC1)c1ccc([N+](=O)[O-])cc1Cl', 'O=C(CCc1nc(-c2cccs2)no1)Nc1cc(Cl)ccc1N1CCOCC1', 'CSCc1nc2ccccc2n1CC(=O)O[C@@H](C)C(=O)Nc1cccnc1Cl', 'COc1ccc(Cl)cc1-c1ncnc2[nH]c(C3=CCN(S(C)(=O)=O)CC3)cc12', 'COCCn1nc(C(=O)Nc2ncc(Cc3ccc(C)c(Cl)c3)s2)ccc1=O', 'CC(C)C(=O)Nc1ccc(C(=O)NNC(=S)NC(=O)c2ccccc2Cl)cc1', 'CC(C)(C)OC(=O)Nc1nc2ccc(CNC(=O)c3cccc(Cl)n3)cc2s1', 'COCCn1c(S[C@@H](C)C(=O)Nc2ccc(Cl)cn2)nc2ccccc2c1=O', 'Cc1cc(S(=O)(=O)C(C)C)c2ncc(C(N)=O)c(Nc3cncc(Cl)c3)c2c1', 'Cc1nccn1-c1ccc(CNC(=O)c2ccc(NS(C)(=O)=O)c(Cl)c2)cc1', 'Cc1sc2ncn(CC(=O)N(C)CC(=O)Nc3ccccc3Cl)c(=O)c2c1C', 'CN1CCN(S(=O)(=O)c2cccc(C(=O)Nc3ccc(Cl)c(C#N)c3)c2)CC1', 'C=CCN(C)S(=O)(=O)c1ccc(NCc2nc(-c3ccc(Cl)cc3)no2)cc1', 'Cc1nc(C(NS(=O)(=O)c2cc(Cl)c3c(c2)CC(C)O3)c2ccccc2)n[nH]1', 'N#Cc1ccc(NC(=O)CN2CCN(S(=O)(=O)c3ccccc3Cl)CC2)cc1', 'CC(C)Oc1ncccc1CNC(=O)CSc1nnc(-c2ccc(Cl)cc2)o1', 'CN(CC1=NS(=O)(=O)c2ccccc2N1)C1CCN(c2ccccc2Cl)C1=O', 'O=C(NCc1cn2cc(Cl)ccc2n1)c1cccc(S(=O)(=O)N2CCCC2)c1', 'CCOc1ccc(NC(=O)CSc2nnc(-c3cc(Cl)ccc3O)n2C)cc1', 'COC(=O)CSc1nnc(CNc2ccc(OC)cc2)n1-c1cccc(Cl)c1', 'O=C(NCCCS(=O)(=O)Cc1ccccc1)c1cn(-c2ccccc2Cl)nn1', 'C[C@H](OC(=O)c1c(Cl)nc2sccn12)C(=O)N1CCN(c2ccccc2)CC1', 'CN(C)C(=O)CCc1ccc(Oc2ccnc3sc(C(N)=O)c(N)c23)c(Cl)c1', 'CC(C)(C)/N=C/CC(=O)c1c(Cl)nnc2c1ccn2S(=O)(=O)c1ccccc1', 'O=C(Cn1ccc2ccc(Cl)cc21)N1CCN(S(=O)(=O)c2cccnc2)CC1', 'CCCNC(=O)Cn1cnc2sc(C(=O)Nc3cccc(Cl)c3)c(C)c2c1=O', 'C=c1[nH]n(-c2ccc(Cl)cc2)c(=O)/c1=C\\\\Nc1ccc(S(=O)(=O)N(C)C)cc1', 'COc1cc(Cl)ccc1-c1cc(Nc2cccc(CNS(C)(=O)=O)c2)ncn1', 'CCn1nccc1NC(=O)c1cc(S(=O)(=O)N(C)c2ccccc2)ccc1Cl', 'Cc1cc(-c2cnc(C)nc2C2CCCN2S(=O)(=O)c2cccc(Cl)c2)on1', 'CN(CC(=O)NCc1ccc(-n2ccnc2)cc1)S(=O)(=O)c1ccc(Cl)cc1', 'COc1ccc(Cl)cc1C(=O)NCCn1nc(-c2cccs2)n(C2CC2)c1=O', 'CS(=O)(=O)N1CCCC1C(=O)Nc1ccc2nc(-c3ccccc3Cl)[nH]c2c1', 'Cc1nn(C)cc1-c1ccc(NC(=O)Cc2ccccc2Cl)cc1S(N)(=O)=O', 'O=S(=O)(c1ccccc1)N1CCN(Cc2nnc(-c3ccc(Cl)cc3)o2)CC1', 'CCn1nccc1NC(=O)c1cccc(S(=O)(=O)N(C)c2cccc(Cl)c2)c1', 'Cc1cc(OCCCC(=O)Nc2nc(-c3c[nH]c(C(N)=O)c3)cs2)ccc1Cl', 'O=C(NCCCn1cccn1)c1cccc(S(=O)(=O)Nc2cccc(Cl)c2)c1', 'CC(C)NS(=O)(=O)c1ccc(C(=O)Nc2cc(Cl)ccc2-n2cccn2)cc1', 'COc1ccc(Cl)cc1S(=O)(=O)c1cnc(N(C)Cc2ccccc2)nc1N', 'CCN1c2ccccc2C2CN(S(=O)(=O)c3ccc(Cl)c4nonc34)CCC21', 'COc1ccc(NC(=O)CSc2nnc(C3CC3)n2Cc2ccco2)cc1Cl', 'Cc1ccc2cc(CN3CCc4nc(S(C)(=O)=O)[nH]c(=O)c4C3)c(Cl)nc2c1', 'CCc1c(C(=O)NCc2cccc(S(N)(=O)=O)c2)cnn1-c1cccc(Cl)c1', 'O=[N+]([O-])c1ccc2nc(NCC(c3ccccc3Cl)N3CCOCC3)sc2c1', 'O=C(Cn1cc(Cl)cn1)N1CCN(S(=O)(=O)c2ccc3ccccc3c2)CC1', 'O=C(NCCCn1ccnc1)c1ccc(NS(=O)(=O)c2ccccc2)c(Cl)c1', 'O=C(NCC1CN(c2cccc(CC3=NCCN3)c2)C(=O)O1)c1ccc(Cl)s1', 'Cn1c(=O)c2cc(C(=O)N3CCN(c4cccc(Cl)c4)CC3)sc2n(C)c1=O', 'COc1cc(NC(=O)CSc2nnc(-c3cccc(Cl)c3)n2C)cc(OC)c1', 'Cc1cc2nc3n(c2cc1C)CCCN3C(=O)NS(=O)(=O)c1ccc(Cl)cc1', 'O=C(Nc1nc2ccccc2[nH]1)C1CCN(S(=O)(=O)c2ccc(Cl)cc2)CC1', 'CC(NC(=O)CCS(=O)(=O)c1ccc(Cl)cc1)c1ccc(-n2cncn2)cc1', 'CSc1nc(C)c(CCC(=O)OCc2nc(-c3ccc(Cl)cc3)no2)c(C)n1', 'CCN(c1ccccc1)S(=O)(=O)c1ccc(Cl)c(C(=O)Nc2ccn(C)n2)c1', 'CCc1ccc2[nH]c(SC(C)C(=O)Nc3ncc(C)cc3Cl)nc2c1.O=C=O', 'Nc1nc(-c2c(Cl)cc3c4c(cccc24)COC3)nc(C(S)C(CO)CO)n1', 'COC(=O)c1ccc(Cl)c(C2=CC=C(NC(=O)Nc3snnc3C)CC2C)c1', 'CCN(CC(=O)NCc1cccs1)C(=O)Cn1cnc2ccc(Cl)cc2c1=O', 'Cc1ccc(NC(=O)c2c(C)nn(-c3ccccc3)c2Cl)cc1NS(C)(=O)=O', 'O=S(=O)(c1ccc(Oc2ccccc2Cl)cc1)N1CCC(n2ccnn2)CC1', 'CCCc1noc(C2=C(C)CS[C@@H]3[C@H](NC(=O)c4ccc(Cl)cc4)C(=O)N23)n1', 'COc1cc(/C=N\\\\n2c(COc3ccccc3)nnc2SC)cc(Cl)c1OC', 'O=C(CCc1nc(-c2cccs2)no1)Nc1cccc(Cl)c1N1CCOCC1', 'CN(CC(O)CO)C1=C2c3ncn(-c4ccc(Cl)cc4)c(=O)c3SC2NC=C1', 'COc1ccc(S(=O)(=O)N2CCC(n3cc(-c4ccccc4)nn3)C2)cc1Cl', 'Cc1ccc(Cl)c2sc(N(CCCn3ccnc3)C(=O)C3=COCCO3)nc12', 'CCC(=O)Nc1nc2c(C)cc(NC(=O)Nc3cc(Cl)ccc3OC)cc2s1', 'Cc1csc(=O)n1CCC(=O)N(Cc1nnc(-c2ccc(Cl)cc2)o1)C1CC1', 'Cc1cn(-c2ccc(C(C(N)=O)c3ccccc3Cl)cc2S(N)(=O)=O)c(C)n1', 'COc1ccc([C@H]2C(C(=O)OC(C)C)=C(C)N=C3SC(C#N)=C(N)N32)cc1Cl', 'COc1ccc(NC2Nc3cc(-c4ccc(OC)c(OC)c4)nn3S2)cc1Cl', 'COc1cc(OC)c(NC(=O)Nc2nnc(CCc3ccccc3)s2)cc1Cl', 'CC1(C2CC2)NC(=O)N(CC(=O)Nc2ncc(Cc3ccccc3Cl)s2)C1=O', 'N#Cc1ccc(N2CCC(C(=O)Nc3ccc(S(N)(=O)=O)cc3)CC2)cc1Cl', 'Cc1cc(Cl)cc2sc(N(CCN(C)C)C(=O)c3cccc([N+](=O)[O-])c3)nc12', 'CN1CC(NS(=O)(=O)c2ccc(Cl)cc2)CC1c1nc(-c2ccccc2)no1', 'COc1ccc(Cl)cc1NC(=O)CCSc1n[nH]c(/C=C/c2ccc(C)o2)n1', 'O=C(NC(=S)Nc1ccc(Cl)cc1)c1ccc(N2CCCCC2)c([N+](=O)[O-])c1', 'COc1ccccc1NC(=O)[C@@H](C)Sc1n[nH]c(-c2cc(Cl)ccc2OC)n1', 'Cl.Nc1ccccc1NC(=O)c1ccc(NS(=O)(=O)c2ccccc2N)cc1', 'CCOc1ccc2nc(NC(=O)C[C@@H](NC(N)=O)c3ccccc3Cl)sc2c1', 'O=C(CSc1nc2ccccc2o1)NC1CCC(Oc2ncc(Cl)cn2)CC1', 'O=C(CCN1C(=O)S/C(=C\\\\c2ccc(Cl)cc2)C1=O)NCCCn1ccnc1', 'Cc1nc(-c2ccc(Cl)cc2)sc1C(=O)NN1C(=O)NC2(CCCCC2)C1=O', 'COc1ccc(Cl)cc1NC(=O)N1CCC[C@@H](c2nnc(-c3cccs3)o2)C1', 'O=C(CSc1nnc(COc2ccc(Cl)cc2)n1Cc1ccco1)NC1CC1', 'O=C(CSc1nnc(N2CCOCC2)n1Cc1ccco1)c1ccc(Cl)cc1', 'CCC(=O)Nc1nc2c(OC)cc(NC(=O)Nc3cc(Cl)ccc3C)cc2s1', 'CC(C)c1sc(Cl)nc1C(=O)Nc1ccc2c(c1)C(=O)N1CCC[C@@H]1C(=O)N2', 'COCCCn1c(SCc2ccc([N+](=O)[O-])cc2)nnc1-c1ccc(Cl)cc1', 'Cc1nccn1-c1ccccc1CNC(=O)c1ccc(NS(C)(=O)=O)cc1Cl', 'CS(=O)(=O)Nc1ccccc1CC(=O)Nc1nccn1Cc1ccccc1Cl', 'Cc1ccc(NC(=O)c2cc(-c3cc(Cl)ccc3C)n[nH]2)cc1NS(C)(=O)=O', 'Cc1sc(NC(=O)CN2C(=O)NC3(CCCC3)C2=O)nc1-c1ccc(Cl)cc1', 'COc1cc(OC)c(NC(=O)Cn2c(-c3ccc(C)cc3)n[nH]c2=S)cc1Cl', 'O=c1c2ccccc2cnn1CN1CCN(S(=O)(=O)c2ccccc2Cl)CC1', 'Cc1[nH]n(-c2cccc(Cl)c2)c(=O)c1/C=N/c1ccc(S(=O)(=O)N(C)C)cc1', 'CN1CCN(c2ccc(C3=NOC(CNC(=O)c4ccc(Cl)s4)C3)cc2)C1=O', 'COC[C@@H](C)n1c(SCC(=O)Nc2ccc(Cl)cn2)nc2ccccc2c1=O', 'Cc1cccc(NS(=O)(=O)c2ccc(Cl)c(C(=O)NCc3cnn(C)c3)c2)c1', 'N#Cc1cccc(Cl)c1N1CCC(C(=O)Nc2ccc(S(N)(=O)=O)cc2)CC1', 'COc1ccccc1C(=O)n1nc(C2CCCO2)nc1NCc1ccc(Cl)s1', 'C=CCn1c(COc2ccc(Cl)cc2)nnc1SCC(=O)NCc1ccco1', 'Cc1ccc(Cl)cc1S(=O)(=O)N1CCN(c2ccc(-c3ccco3)nn2)CC1', 'COc1ccc(N(CCC(N)=O)C(=O)CSc2nc3ccc(Cl)cc3[nH]2)cc1', 'N#Cc1ccccc1NC(=O)CN1CCN(S(=O)(=O)c2ccc(Cl)cc2)CC1', 'N#Cc1ccccc1S(=O)(=O)N1CCN(CC(=O)Nc2cccc(Cl)c2)CC1', 'Cn1ccc2c(Nc3cccc(Cl)c3)ncc(C(=O)N3CCS(=O)(=O)CC3)c21', 'Cc1cc(C)c(NC(=S)NNC(=O)CN2C(=O)COc3ccccc32)c(Cl)c1', 'Cc1ccc(S(=O)(=O)NCCNC(=O)c2cnn(-c3ccccc3Cl)c2)cc1', 'O=C(Nc1ccc(S(=O)(=O)N2CCCCC2)cc1)c1n[nH]c2ccc(Cl)cc12', 'COc1ccc(Cl)cc1-c1nc(S/C(=C\\\\c2cc(C)n(C)c2C)C(=O)O)n[nH]1', 'CS(=O)(=O)N1CCc2c(cccc2NCc2cc(=O)n3cc(Cl)ccc3n2)C1', 'Cc1ccc(C(=O)NC(=S)N2CCN(c3c(Cl)cccc3[N+](=O)[O-])CC2)cc1', 'CN(C)CCCN(C(=O)c1ccc([N+](=O)[O-])cc1)c1nc2c(Cl)cccc2s1', 'CCC(C(N)=O)n1c(Cc2ccc(Cl)cc2)nc2sc(C(N)=O)c(C)c2c1=O', 'C[C@@]1(C2CC2)NC(=O)N(CC(=O)Nc2ncc(Cc3ccc(Cl)cc3)s2)C1=O', 'CCn1cc(-n2cc(-c3ccc(NS(=O)(=O)C4CC4)cc3Cl)cn2)ccc1=O', 'CS(=O)(=O)N(CC(=O)NCc1ccccc1-n1ccnc1)c1ccccc1Cl', 'Cc1[nH]n(-c2nc(-c3ccc(Cl)cc3)cs2)c(=O)c1CC(=O)N1CCOCC1', 'O=C(CCn1c(=O)oc2ccccc21)NNC(=S)NCCc1ccc(Cl)cc1', 'CC(C)(C)NC(=O)[C@@H](c1ccco1)N(C(=O)c1csnn1)c1cccc(Cl)c1', 'O=C(C=Cc1c(Cl)nc2ccccn12)NCCS(=O)(=O)NCc1ccccc1', 'COc1ccc(Cl)cc1CC(=O)NNC(=O)c1sc2nc(C)cc(C)c2c1N', 'O=C(NCc1ccco1)c1cc(C2CCN(C(=O)c3ccc(Cl)s3)CC2)[nH]n1', 'CN(C)C(=O)Nc1cccc(CN2N=C(c3cc(Cl)ccc3O)CSC2=O)c1', 'CCCCNC(=O)NC(=O)Cn1cnc2scc(-c3ccc(Cl)cc3)c2c1=O', 'O=c1n(CCNS(=O)(=O)c2ccc(Cl)cc2)nc(-c2ccccc2)n1C1CC1', 'Cc1ccc(NS(=O)(=O)c2ccc(Cl)c(C(=O)Nc3ccn(C)n3)c2)cc1C', 'NC(=NOC(=O)c1cc(Cl)c[nH]1)C1CCC2CSc3ccccc3C(=O)N2C1', 'CC(NC(=O)c1cc(-c2cccc(Cl)c2)n[nH]1)c1ccccc1NS(C)(=O)=O', 'COc1ccc2nc(SCC(=O)N(C)CC(=O)Nc3ccccc3Cl)[nH]c2c1', 'CC(C)(C)N(C(=O)O)c1cc(-c2nnc(SCc3ccc(Cl)cc3)o2)ccn1', 'Cc1cc(-c2cnc(C)nc2C2CCCN2S(=O)(=O)c2ccccc2Cl)on1', 'CC(=O)Nc1ccc(S(=O)(=O)Nc2ccc(-n3nc(C)c(Cl)c3C)cc2)cc1', 'Cc1cccc(C(=O)NC(=S)N2CCN(c3c(Cl)cccc3[N+](=O)[O-])CC2)c1', 'COc1ccc(-c2nc(S[C@H](C)C(=O)Nc3cc(Cl)ccc3OC)n[nH]2)cc1', 'Cc1c[nH]c2c(Nc3cccc(Cl)c3)ncc(C(=O)N3CCS(=O)(=O)CC3)c12', 'CC(=O)Nc1ccc(S(=O)(=O)Nc2ncc(C)n2Cc2ccccc2Cl)cc1', 'CC(C)c1sc(Cl)nc1C(=O)Nc1ccc2c(c1)C(=O)N1CCCC1C(=O)N2', 'Cc1ccc(-n2ccnc(NCCc3ccc(S(N)(=O)=O)cc3)c2=O)cc1Cl', 'C[C@H](Nc1cccc(N2CCCS2(=O)=O)n1)c1cc2cc(Cl)ccc2[nH]c1=O', 'COCCn1nc(C(=O)Nc2ncc(Cc3cccc(C)c3Cl)s2)ccc1=O', 'O=c1n(CCNS(=O)(=O)c2ccccc2Cl)nc(-c2ccccc2)n1C1CC1', 'CC(=O)Nc1cc(C)nn1-c1ccc(NS(=O)(=O)c2ccc(C)cc2Cl)cc1', 'Cc1ccc(C(=O)NC(=S)N2CCN(c3cccc(Cl)c3)CC2)cc1[N+](=O)[O-]', 'CN(C)C(=O)c1cc(NC(=O)c2ccc(CSc3nccn3C)o2)ccc1Cl', 'CCOc1ccc(S(=O)(=O)N/N=C/c2c(C)nn(-c3ccccc3)c2Cl)cc1', 'Cc1occc1-c1nnc(SCC(=O)N2CCOCC2)n1-c1cccc(Cl)c1', 'Cc1c(Cl)cccc1NC(=O)CCC(=O)NNC(=S)NC(=O)c1ccccc1', 'COCCCN1CN(S(=O)(=O)c2ccc(Cl)cc2)c2nc3ccccc3nc21', 'Cc1c(C(=O)NC(=S)Nc2ccc(N3CCCC3)c(Cl)c2)cccc1[N+](=O)[O-]', 'O=C(CSc1nnc(-c2ccc(Cl)cc2)n1Cc1ccco1)N1CCOCC1', 'COc1ccc(-c2nc(SC(C)C(=O)Nc3ccc(Cl)cc3)n[nH]2)c(OC)c1', 'C[C@@H](c1ccc(-n2cncn2)cc1)N(C)C(=O)CS(=O)(=O)c1ccc(Cl)cc1', 'COC(=O)CSc1nc2n(n1)[C@H](c1ccc(Cl)cc1)C1=C(C[C@@H](C)CC1=O)N2', 'O=C(COc1ccc(Cl)cc1)N1CCN(C(=O)Cc2cn3ccsc3n2)CC1', 'CCCn1c(SCC(=O)Nc2c(C)cccc2[N+](=O)[O-])nc2cc(Cl)ccc21', 'CCN(C(C)=O)c1nc(/C=C(\\\\C#N)C(=O)Nc2cc(C)c(Cl)cc2OC)cs1', 'O=C(/C=C/c1c(Cl)nc2ccccn12)NCCS(=O)(=O)NCc1ccccc1', 'Cc1cc(-c2cnc(C)nc2[C@H]2CCCN2S(=O)(=O)c2ccc(Cl)cc2)on1', 'NC(=O)c1[nH]c2ccc(Cc3ccc(Cl)cn3)cc2c1S(=O)(=O)N1CCCC1', 'COc1cc(/C=N/n2cnn(Cc3ccccc3Cl)c2=S)cc(OC)c1OC', 'CC[C@H](C)[C@H](NC(=O)c1ccco1)C(=O)Nc1nnc(-c2ccc(Cl)cc2)s1', 'CS(=O)(=O)Nc1cc(C(=O)NCCc2ccc(-n3cccn3)cc2)ccc1Cl', 'O=C(CSc1nnc(-c2ccco2)n1-c1cccc(Cl)c1)NC[C@@H]1CCCO1', 'COc1ccc(C)cc1-n1nnnc1SCc1cc(Cl)c2c(c1)OCCCO2', 'O=S(=O)(c1cccc(Cl)c1)N1CCN(Cc2nc(-c3ccccc3)no2)CC1', 'Cc1ccc(C(=O)NC(=S)N2CCN(c3ccc([N+](=O)[O-])cc3Cl)CC2)cc1', 'CCn1ncc(NC(=O)c2sc3ccccc3c2Cl)c1C(=O)N1CCOCC1', 'Cc1nn([C@@H]2CCS(=O)(=O)C2)c(C)c1/C=C(\\\\C#N)C(=O)Nc1ccc(Cl)cc1', 'CC(Sc1nc2nc(-c3ccc(N4CCOCC4)cc3)c(Cl)cc2[nH]1)C(=O)O', 'Cc1ccc(C(=O)NCc2cnn(C)c2)cc1NS(=O)(=O)c1ccc(Cl)cc1', 'CC(c1cccc(S(N)(=O)=O)c1)N(C)C(=O)c1cnn(-c2ccc(Cl)cc2)c1', 'O=C(NNC(=O)C1=CCCN(CC(=O)c2cccs2)C1)Nc1ccc(Cl)cc1', 'O=C(CSc1nnc(-c2ccco2)o1)Nc1cc(Cl)ccc1N1CCCCC1', 'COC(=O)c1nc(NC(=O)c2cc(-c3ccccc3Cl)nn2C)sc1C(C)C', 'O=C(C/N=C1\\\\NS(=O)(=O)c2ccccc21)N1CCN(c2cccc(Cl)c2)CC1', 'O=C(CCN1C(=O)S/C(=C/c2ccccc2Cl)C1=O)NCCCn1ccnc1', 'C[C@@H](NC(=O)c1cc(-c2ccc(Cl)cc2)nn(-c2cnsc2)c1=O)C(C)(C)O', 'N#Cc1ccc(S(=O)(=O)NCC(=O)N2CCN(c3cccc(Cl)c3)CC2)cc1', 'CCOC(=O)c1ccc2nc(SC(C)C(=O)Nc3ncc(C)cc3Cl)[nH]c2c1', 'COc1cc(NS(C)(=O)=O)ccc1Nc1cc[nH]c2ccc3nccc3c12.Cl', 'CSc1nc(C)c(CCC(=O)OCC(=O)Nc2cc(Cl)ccc2C#N)c(C)n1', 'Cn1c(=O)c(=O)n(C2CCN(C(=O)Cc3cccs3)CC2)c2ncc(Cl)cc21', 'Cn1c(CNC(=O)c2ccc(Cl)c(S(=O)(=O)NC3CC3)c2)nc2ccccc21', 'Cc1nccn1-c1ccccc1CNC(=O)c1cc(NS(C)(=O)=O)ccc1Cl', 'O=C(CCN1C(=O)SC(=Cc2ccc(Cl)cc2)C1=O)NCCCn1ccnc1', 'O=C(CCCc1nnc(C(=O)Nc2cccc(Cl)c2)s1)NCCc1ccco1', 'CCCn1nnc(C(=O)c2ccc(Cl)cc2)c1NS(=O)(=O)c1ccc(C)cc1', 'COc1cccc(-c2nnc(SCC(=O)Nc3cc(Cl)ccc3OC)n2C)c1', 'Cc1ccc2[nH]nc(C(=O)N3CCN(S(=O)(=O)c4cccc(Cl)c4)CC3)c2c1', 'CCNC(=O)Nc1cccc(CN2N=C(c3cc(Cl)ccc3O)CSC2=O)c1', 'CCC(C(=O)O)NC(=O)C(CC1=CC(=O)NC2=CC=CC=C21)NC(=O)C3=CC=C(C=C3)Cl', 'Cc1ccc(C(CC(=O)O)NC(=O)Nc2c(O)ccn(Cc3ccccc3Cl)c2=O)cc1', 'COc1cc(CNc2cccc([N+](=O)[O-])c2)ccc1OCC(=O)Nc1ccc(C)c(Cl)c1', 'CCOc1ccccc1[C@H]1NC(=O)N(CC(=O)Nc2ccc(C)c(Cl)c2)C2=C1C(=O)OC2', 'COc1cc(Cl)c(CCN2C(=O)COc3c2cnn(Cc2ccccc2)c3=O)cc1OC', 'CCCCOc1ccc(C(=O)NCC(=O)N/N=C\\\\c2coc3ccc(Cl)cc3c2=O)cc1', 'COC(=O)c1ccc(NC(=O)Cn2c(-c3cccc(Cl)c3)nc(C)c(CCO)c2=O)cc1', 'CC1=C(C(N)=O)C(c2cccc(Cl)c2)C(C(=O)OC/C=C/c2ccccc2OO)=C(N)N1', 'Cc1ccc([C@H](CC(=O)O)NC(=O)Nc2cccn(Cc3cc(O)ccc3Cl)c2=O)cc1', 'COc1ccc(CN2C(=O)C3C(C(C)O)NC4(C(=O)Nc5c(Cl)cccc54)C3C2=O)cc1', 'COC(=O)c1ccc(C2c3c(-c4ccc(Cl)cc4)n[nH]c3C(=O)N2CC(OC)OC)cc1', 'COc1c(/C=C(\\\\Cl)c2ccc([N+](=O)[O-])cc2)cc(-n2ccc(=O)[nH]c2=O)cc1C(C)(C)C', 'Cc1cc2oc3c(c(=O)c2cc1Cl)C(c1cccc([N+](=O)[O-])c1)N(CCCN(C)C)C3=O', 'CC1(C(=O)N(CC(=O)O)Cc2ccc(Cl)cc2)CCN1C(=O)Cc1noc2ccccc12', 'COc1ccc(CN2C(=O)[C@@H]3[C@@H]([C@@H](C)O)N[C@]4(C(=O)Nc5ccc(Cl)cc54)[C@@H]3C2=O)cc1', 'O=C(CN1C(=O)N(Cc2ccc3c(c2)OCO3)C(=O)C2NCCCC21)c1ccc(Cl)cc1', 'Cc1ccc([C@H](CC(=O)O)NC(=O)Nc2c(O)ccn(Cc3cccc(Cl)c3)c2=O)cc1', 'Cc1nn(Cc2ccccc2Cl)c(C)c1C(=O)OCC(=O)Nc1ccc2c(c1)OCCO2', 'C=CCOC(=O)NC(=O)C(C(C)C=C)n1cc(OC)c(-c2cc(Cl)ccc2C#N)cc1=O', 'CC(=O)c1ccc(Cl)c(NC(=O)C(C(C)=O)N2C(=O)C(C)N(Cc3ccccc3)C2=O)c1', 'COc1cc(/C=C(/C#N)C(=O)NC2CCCC2)cc(Cl)c1OCc1cccc([N+](=O)[O-])c1', 'COc1ccc(-n2nc(C(C)C(=O)N(OC(C)=O)C(C)=O)cc2-c2ccc(Cl)cc2)cc1', 'N#C/C(=C/c1cccc(OCCC(=O)O)c1)C(=O)Nc1cc(Cl)ccc1N1CCOCC1', 'COc1ccc2c(c1)C(=O)N(CC1(C#Cc3cc(Cl)cc(C)c3OC)NC(O)NC1=O)C2', 'CCC(OC(=O)c1ccc(-c2nc(C)c(C)[nH]2)cc1)C(=O)Nc1ccc(Cl)c(C(=O)O)c1', 'COc1ccc(C(=O)N2CCN(C(=O)c3cc(-c4cccc(Cl)c4)on3)CC2)cc1OC', 'COc1cc(-n2cnc3ccc(-c4ccc(Cl)cc4)n3c2=O)ccc1OCC(C)(O)CO', 'C=CCOc1c(Cl)cc(/C=C2\\\\NC(=O)N(CC(=O)Nc3ccc(C)cc3)C2=O)cc1OC', 'COc1cccc(OC)c1C(=O)NC(=O)Nc1ccc(Oc2cc(C)c(Cl)c(C)c2)nc1', 'COc1cc(C(=O)NC[C@@H]2Cc3cc(-c4cncnc4)cc(Cl)c3O2)cc(OC)c1OC', 'O=C1CN(C(=O)[C@H](O)[C@H](Cc2ccccc2)NC(=O)n2ccc3cc(Cl)ccc32)C[C@@H]1O', 'Cl.O=C1c2ccccc2-c2c1c1ccc([N+](=O)[O-])cc1c(=O)n2CCCN1CCOCC1', 'C[C@@H]1CN(Cc2ccccc2)[C@@H](C)CN1C(=O)c1nc2c(C(=O)C(=O)O)occ2cc1Cl', 'CC1=C(C(=O)N2CCOCC2)C(c2ccccc2Cl)NC(=O)N1c1ccc(C(=O)O)cc1', 'CCOC(=O)c1nn(-c2ccc(C)cc2)c(=O)cc1OCC(=O)NCc1ccc(Cl)cc1', 'CCOc1ccccc1C1NC(=O)N(CC(=O)Nc2ccc(C)c(Cl)c2)C2=C1C(=O)OC2', 'Cc1c(Cl)cccc1N1C(=O)C(c2ccc([N+](=O)[O-])cc2)=C(N2CC(C)OC(C)C2)C1=O', 'Cn1cncc1COC(=O)N1CCc2ccccc2[C@H]1c1cc(Cl)ccc1OCC(=O)O', 'CC[C@@]1(O)C(=O)OCc2c1cc1n(c2=O)Cc2c-1nc1ccc(O)c3c1c2C(N)CC3.Cl', 'COC(=O)c1ccc2[nH]cc(C(=O)C(O)NC3CCN(c4ccc(C)cc4Cl)C3=O)c2c1', 'CCOC(=O)c1cnc2n1CC(=O)N(Cc1ccc(OC)cc1OC)c1cc(Cl)ccc1-2', 'C[C@@H]1CC[C@H]2C(=O)N(N(Cc3ccc(Cl)cc3)C(=O)c3ccccc3[N+](=O)[O-])C(=O)[C@@H]2C1', 'CCOc1ccc2nc(Cl)c(C3CC(c4ccco4)=NN3C(=O)CCCC(=O)O)cc2c1', 'COc1ccc(CN2C(=O)[C@@H]3[C@H]([C@@H](C)O)N[C@@]4(C(=O)Nc5ccc(Cl)cc54)[C@@H]3C2=O)cc1', 'Cc1ncnc2c1ccn2[C@@H]1O[C@H]([C@@H]2OC(=O)Cc3cc(Cl)ccc32)[C@H]2OC(C)(C)O[C@H]21', 'O=C(O)CCCNC(=O)[C@H](Cc1cc(=O)[nH]c2ccccc12)NC(=O)c1ccc(Cl)cc1', 'C[C@@H]1CC[C@H]2C(=O)N(N(Cc3ccccc3Cl)C(=O)c3cccc([N+](=O)[O-])c3)C(=O)[C@@H]2C1', 'O=C1N/C(=C\\\\c2ccc(OCc3ccc([N+](=O)[O-])cc3)c(Cl)c2)C(=O)N1C1CCCCC1', 'C[C@@H]1CC[C@H]2C(=O)N(N(Cc3ccc([N+](=O)[O-])cc3)C(=O)c3ccccc3Cl)C(=O)[C@@H]2C1', 'COc1ccc(NC(=O)CNC(=O)CN(Cc2ccco2)C(=O)c2ccc(Cl)cc2)cc1', 'CCOC(=O)c1c(/N=N/c2cccc(Cl)c2)c(O)n2c1-c1cc(OC)c(OC)cc1CC2', 'COc1cc(N2CCn3cc(-c4ccc(Cl)cc4)cc3C2=O)ccc1OCCNC(=O)O', 'COc1ccc(/C=C/C(=O)Nc2ccc(Oc3cccc(C(N)=O)c3)nc2)c(OC)c1.Cl', 'C[C@@H](CC(Cc1ccc(-c2cccc(Cl)c2)cc1)NC(=O)c1cc(C(=O)O)[nH]n1)C(=O)O', 'COc1cc2cc(C(=O)N3C[C@H](CCl)c4c3cc(O)c3[nH]ccc43)[nH]c2c(OC)c1OC', 'C[C@@H]1CC[C@H]2C(=O)N(N(Cc3ccc(Cl)cc3)C(=O)c3cccc([N+](=O)[O-])c3)C(=O)[C@@H]2C1', 'O=C(NCC(O)c1cc(Cl)c2c(c1)OCCO2)Nc1ccc(=O)n(Cc2ccccc2)c1', 'COc1ccc(NC(=O)Cn2c(=O)cc(C(=O)N3CCOCC3)c3ccccc32)cc1Cl', 'O=C(Nc1ccc(-c2ccc(CO)o2)c(Cl)c1)c1ccc(N2CCCCC2)c([N+](=O)[O-])c1', 'COc1ccc(/C([O-])=C2\\\\C(=O)C(=O)N(CCC[n+]3cc[nH]c3)C2c2ccc(C)o2)cc1Cl', 'COC(=O)c1ccc(NC(=O)COC(=O)c2c(C)nn(Cc3ccccc3Cl)c2C)cc1', 'Cc1c(NC(=O)COC(=O)CCC(=O)c2ccc(Cl)cc2)c(=O)n(-c2ccccc2)n1C', 'COCCN1C(=O)[C@H]2[C@@H]([C@H](O)c3ccc(Cl)cc3)N[C@@]3(C(=O)Nc4ccccc43)[C@H]2C1=O', 'O=C([C@H]1COc2ccccc2O1)N1CCN([C@@H]2CC(=O)N(c3ccc(Cl)cc3)C2=O)CC1', 'COc1ccc(CN2C(=O)[C@@H]3[C@@H]([C@H](C)O)N[C@@]4(C(=O)Nc5c(Cl)cccc54)[C@@H]3C2=O)cc1', 'Cc1ccc(C(C)C)c(OCC(=O)NN=Cc2ccc(-c3ccc([N+](=O)[O-])cc3Cl)o2)c1', 'O=C1O[C@]2(CCN(C(=O)c3ccc(N4CCN(C(=O)O)CC4)cc3Cl)C2)c2ccccc21', 'C[C@@H]1CC[C@@H]2C(=O)N(N(Cc3ccc([N+](=O)[O-])cc3)C(=O)c3ccc(Cl)cc3)C(=O)[C@H]2C1', 'CCOC(=O)c1nn(-c2ccccc2Cl)c(=O)cc1OCC(=O)NCc1ccc(C)cc1', 'COc1ccc2c(c1)C1(CCN(C(=O)/C=C\\\\C(=O)Nc3ccccc3Cl)CC1)OC(=O)N2', 'COc1cc(C(=O)OCC(=O)Nc2cc(C3CC3)nn2-c2ccccc2)cc(Cl)c1OC', 'COc1ccccc1CN1C(=O)[C@@H]2[C@H]([C@H](C)O)N[C@@]3(C(=O)Nc4ccc(Cl)cc43)[C@@H]2C1=O', 'COc1cc(OC)c(OC)cc1/C=N\\\\NC(=O)c1cccn(Cc2ccc(Cl)cc2)c1=O', 'O=C(Nc1ccc(Cl)c(-c2ccc(CO)o2)c1)c1cc([N+](=O)[O-])ccc1N1CCCCC1', 'COc1cc(N2CCCC2)c(OC)cc1/C=C1\\\\C(=O)NC(=O)N(c2cccc(Cl)c2)C1=O', 'COc1cc(Cl)cc2cc(C(=O)C3=C(O)C(=O)N(CCN(C)C)C3c3ccccn3)oc12', 'COCCN1C(=O)[C@H]2[C@@H](C1=O)[C@]1(N[C@@H]2Cc2ccc(O)cc2)C(=O)Nc2c(Cl)cccc21', 'COc1cc(/C=N\\\\NC(=O)c2cccn(Cc3cccc(Cl)c3)c2=O)cc(OC)c1OC', 'CC[C@@H](C)c1ccc(OCC(=O)N/N=C\\\\c2ccc(-c3ccc([N+](=O)[O-])cc3Cl)o2)cc1', 'COc1ccc(CN2C(=O)[C@H]3[C@H]([C@H](C)O)N[C@]4(C(=O)Nc5c(Cl)cccc54)[C@@H]3C2=O)cc1', 'COCCOc1ccc2[nH]c(C(=O)N3CC(CCl)c4c3cc(O)c3oc(C)nc43)cc2c1', 'O=C(O)C1CN(Cc2ccc(-c3nc(-c4ccc(O[C@@H]5CCOC5)c(Cl)c4)no3)cc2)C1', 'CC1=C(C(=O)OC(C)(C)C)[C@@H](c2cc3cc4c(cc3nc2Cl)OCCO4)C(C#N)=C(N)O1', 'C=CCN1C(=O)N(c2cccc(Cl)c2)C(=O)[C@H]1CC(=O)Nc1ccc(C(=O)OCC)cc1', 'Cc1cccc(Cl)c1C(=O)NC(Cc1ccc(-c2cn(C)c(=O)n(C)c2=O)cc1)C(=O)O', 'O=C(Nc1ccc(OCc2cc(C(=O)NCC3CCCO3)no2)cc1)c1ccc(Cl)cc1', 'COc1ccc(C(=O)NCC(=O)c2ccc(OC)c(-c3c(C)ccnc3Cl)n2)cc1OC', 'CC(=O)N1CC(CCl)c2c1cc(O)c1[nH]c(C(=O)N[C@@H](Cc3ccccc3)C(=O)O)cc21', 'O=C1[C@H]2[C@@H](c3ccccc3[N+](=O)[O-])N(c3ccc(Cl)cc3)O[C@H]2C(=O)N1C1CCCCC1', 'Cc1cc(NC(=O)C(C)OC(=O)CC(NC(=O)c2ccccc2Cl)c2ccccc2)no1', 'COC(=O)C1=C(C)N(c2ccc(Cl)cc2)C(=O)CC1C(=O)Nc1ccc(NC(C)=O)cc1', 'CCOc1ccccc1[C@H]1NC(=O)N(CC(=O)Nc2c(C)cccc2Cl)C2=C1C(=O)OC2', 'Cc1ccc(Cl)cc1N1C(=O)C(c2ccc([N+](=O)[O-])cc2)=C(N2CC(C)OC(C)C2)C1=O', 'COc1cc(N2CCOCC2)ccc1/C=C1/C(=O)NC(=O)N(c2ccc(C)c(Cl)c2)C1=O', 'COC(=O)c1c(-c2ccc(Cl)cc2)noc1N1CCN(Cc2ccc3c(c2)OCO3)CC1', 'O=C(Nc1ccccc1Cl)N(Cc1cc2cc3c(cc2[nH]c1=O)OCO3)C[C@@H]1CCCO1', 'COc1cccc(N2C(=O)C(Cl)=C(N3CCN(Cc4ccc5c(c4)OCO5)CC3)C2=O)c1', 'COc1ccccc1CN1C(=O)[C@@H]2[C@H]([C@@H](C)O)N[C@@]3(C(=O)Nc4ccc(Cl)cc43)[C@@H]2C1=O', 'CCn1ncc(C(=O)/C=C/c2ccc(OC)c(COc3ccc([N+](=O)[O-])cc3Cl)c2)c1C', 'CCOC(=O)C[C@@H](Cc1ccc(-c2cccc(Cl)c2)cc1)NC(=O)c1cc(C(=O)O)[nH]n1', 'C[C@@H]1CC[C@@H]2C(=O)N(N(Cc3ccccc3[N+](=O)[O-])C(=O)c3ccc(Cl)cc3)C(=O)[C@H]2C1', 'COc1ccc(N/N=C/c2cc(OC)c(OCc3ccccc3C)c([N+](=O)[O-])c2)cc1Cl', 'CCCOc1c(Cl)cc(C(=O)OCC(O)=C(C#N)c2nc3ccccc3[nH]2)cc1OCC', 'O=C(Nc1ccc(Cl)c(-c2ccc(CO)o2)c1)c1ccc(N2CCCCC2)c([N+](=O)[O-])c1', 'CCN(CC)CCN1C(=O)c2oc3ccc(Cl)cc3c(=O)c2[C@@H]1c1cccc([N+](=O)[O-])c1', 'COc1ccc(OCC(=O)N/N=C/c2cc(C)n(-c3ccc(C(=O)O)c(Cl)c3)c2C)cc1', 'CCOC(=O)c1nc(C)n(-c2ccc(Cl)cc2/C(=N/O)c2ccccc2)c1C(=O)OCC', 'Cn1c(COC(=O)C[C@@H](NC(=O)c2ccccc2Cl)c2ccccc2)cc(=O)n(C)c1=O', 'COc1ccc2c(c1)CN(OCCOc1ccc(Cl)cc1)N2Cc1cccc([N+](=O)[O-])c1', 'CCOc1cc(-c2cc(NCCc3cc(Cl)c4c(c3)OCCO4)ncn2)ccc1C(=O)O', 'COc1ccccc1CN1C(=O)C2C(C(C)O)NC3(C(=O)Nc4ccc(Cl)cc43)C2C1=O', 'COCCN1C(=O)[C@H]2[C@@H](C1=O)[C@@]1(N[C@@H]2Cc2ccc(O)cc2)C(=O)Nc2c(Cl)cccc21', 'CC(=O)c1cc(C(=O)N[C@H](Cc2ccc(-c3ccccc3)cc2Cl)C[C@@H](O)C(=O)O)[nH]n1', 'Cc1ccc([C@H](CC(=O)O)NC(=O)Nc2c(O)ccn(Cc3ccc(Cl)cc3)c2=O)cc1', 'O=C(c1cccc(Cl)c1)N1CCN(C(=O)C2CC(=O)N(c3ccc4c(c3)OCO4)C2)CC1', 'O=C(COc1ccc2ccc(=O)oc2c1)NCC(=O)N1CCN(c2cccc(Cl)c2)CC1', 'COc1ccc(C(=O)NC(=O)COC(=O)c2c(C)nn(Cc3ccc(C)cc3)c2Cl)cc1', 'CCOc1ccccc1NC(=O)C(C)OC(=O)c1nn(-c2ccc(Cl)cc2)c(C)cc1=O', 'Cc1cc(Cl)c2cc(CNc3ccc(C(=O)N[C@@H](CCC(=O)O)C(=O)O)cc3)ccc2n1', 'O=C(O)[C@@H](c1c[nH]c2ccc(Cl)cc12)N1CCN(C(=O)[C@H]2COc3ccccc3O2)CC1', 'CCN1CCOc2cc(=O)n(C)cc2-c2cc([N+](=O)[O-])ccc2Oc2ccc(Cl)cc2C1', 'Cc1cc(O)c(NC(=O)N[C@@H](CC(=O)O)c2cccc(-c3cccc(Cl)c3)c2)c(=O)n1C', 'CCCOc1ccc(-c2cc(-c3ccc4oc(C(N)(CO)CN=O)cc4c3)no2)cc1Cl', 'C=CCN(C(=O)c1ccc(Cl)c([N+](=O)[O-])c1)C1CC(=O)N(c2ccc(C(C)C)cc2)C1=O', 'CC(C)Cn1c(N)c(C(=O)COc2ccc(C(=O)c3ccc(Cl)cc3)cc2)c(=O)[nH]c1=O', 'Cc1ccc([C@@H](CC(C)(C)C)Nc2c(Nc3ccc(Cl)c4c3C(=O)NC4=O)c(=O)c2=O)o1', 'COC(=O)CCN(CCC(=O)OC)c1ccc(/N=C2\\\\C=CC(=O)c3ncccc32)c(Cl)c1', 'CCC1(O)C(=O)OCc2c1cc1n(c2=O)Cc2c-1nc1ccc(CN)c3c1c2CCO3.Cl', 'COc1cc(C(=O)OCC(=O)N(CCC#N)CCC#N)ccc1OCc1ccc(Cl)cc1', 'COCCOc1oc(=O)c2cc(NC(=O)C(N)Cc3c[nH]c4ccccc34)ccc2c1Cl', 'COc1nc2ccc(O[C@H]3CCN4C(=O)OC[C@@H]4C3)cc2c(=O)n1Cc1ccc(Cl)cc1', 'COc1ccccc1CN1C(=O)[C@@H]2[C@H]([C@H](C)O)N[C@]3(C(=O)Nc4ccc(Cl)cc43)[C@@H]2C1=O', 'CCOC(=O)CN1C(=O)C2(C(C#N)=C(N)OC3=C2C(=O)CC(C)(C)C3)c2cc(Cl)ccc21', 'CCN(CC)CCN1C(=O)c2oc3ccc(Cl)cc3c(=O)c2[C@H]1c1cccc([N+](=O)[O-])c1', 'C[C@H](C[C@@H](Cc1ccc(-c2cccc(Cl)c2)cc1)NC(=O)c1cc(C(=O)O)[nH]n1)C(=O)O', 'O=C(c1ccc(COc2ccc([N+](=O)[O-])cc2)o1)N1CCN(Cc2ccccc2Cl)CC1', 'COCCN1C(=O)[C@@H]2[C@H](Cc3ccc(O)cc3)N[C@@]3(C(=O)Nc4ccc(Cl)cc43)[C@@H]2C1=O', 'Cc1ccc(C(C)C)c(OCC(=O)NN=Cc2ccc(-c3cc([N+](=O)[O-])ccc3Cl)o2)c1', 'Cc1cn(C)c(=O)c(NC(=O)NC(CC(=O)O)c2cccc(-c3ccccc3Cl)c2)c1O', 'CN(C)c1ccc(OC(CCc2ccc(Cl)cc2)Cn2cc3nc2OC(=O)C(=O)O3)cc1', 'Cc1cc(Oc2cc(NC(=O)c3ccc(CN4CCCC4)o3)cc([N+](=O)[O-])c2)ccc1Cl', 'Cc1ccc(C(C)C)c(OCC(=O)N/N=C\\\\c2ccc(-c3ccc([N+](=O)[O-])cc3Cl)o2)c1', 'COC(=O)CNC(=O)Cc1ccc(NC(=O)CCc2ncc(-c3ccccc3Cl)o2)cc1', 'CC=CC(=O)N(NC(=O)c1ccc(OC)cc1)C1CC(=O)N(c2cc(Cl)ccc2C)C1=O', 'COc1ccccc1CN1C(=O)[C@H]2[C@@H]([C@H](C)O)N[C@]3(C(=O)Nc4ccc(Cl)cc43)[C@@H]2C1=O', 'O=C(COc1ccc(/C=C2\\\\NC(=O)N(Cc3ccccc3Cl)C2=O)cc1)N1CCOCC1', 'COC(=O)c1cccc(NC(=O)COC(=O)c2c(C)nn(Cc3ccc(C)cc3)c2Cl)c1', 'C[C@@H](COc1cc(Cl)c(NC(=O)c2ccc(OCc3ccccc3)cc2)cn1)NC(=O)O', 'COCCN1C(=O)[C@@H]2[C@H](Cc3ccc(O)cc3)N[C@]3(C(=O)Nc4ccc(Cl)cc43)[C@@H]2C1=O', 'Cc1cc(OCc2ccc(C(=O)NNC(=O)CCNC(=O)c3ccoc3)cc2)ccc1Cl', 'COC(=O)[C@H]1N[C@@H](c2ccc(Cl)cc2)[C@@H](c2onc(C)c2[N+](=O)[O-])[C@@H]1c1cccc(C)c1', 'CC(C)N(CC=O)c1ccc(OC(=O)c2cccnc2)c(OC(=O)c2cccnc2)c1.Cl', 'O=C(c1ccc(COc2ccccc2[N+](=O)[O-])o1)N1CCN(Cc2cccc(Cl)c2)CC1', 'COC1C=CC(CNC(=O)c2cc3cccnc3n(Cc3ccc(Cl)cc3)c2=O)(OC)O1', 'COc1ccc(/C=C/C(=O)c2nn(C)cc2[N+](=O)[O-])cc1COc1cc(C)c(Cl)c(C)c1', 'COc1cc(CNc2cccc([N+](=O)[O-])c2)cc(Cl)c1OCC(=O)Nc1cccc(C)c1', 'COc1ccc([C@H](CC(=O)O)NC(=O)Nc2cccn(Cc3ccccc3Cl)c2=O)cc1', 'CCC(C)c1ccc(OCC(=O)N/N=C\\\\c2ccc(-c3cc([N+](=O)[O-])ccc3Cl)o2)cc1', 'CCCC1=C(C(=O)OCC)[C@H](c2cc3cc4c(cc3nc2Cl)OCCO4)C(C#N)=C(N)O1', 'COC(CN(C(=O)Cc1ccc(Cl)cc1)C1CC(=O)N(c2ccc(C#N)cc2)C1=O)OC', 'COc1nc2ccn(Cc3ccc(Cl)cc3)c(=O)c2cc1O[C@H]1CCN2C(=O)OC[C@@H]2C1', 'COc1ccc(Cn2cccc(C(=O)N/N=C\\\\c3ccc(OC)c(OC)c3Cl)c2=O)cc1', 'COc1cc(/C=C(\\\\C#N)C(=O)Nc2cc(Cl)ccc2N2CCOCC2)cc2c1OCCO2', 'Cc1ncnc2c1ccn2[C@@H]1O[C@H](C2OC(=O)Cc3cc(Cl)ccc32)[C@H]2OC(C)(C)O[C@H]21', 'COc1cc(Cl)c(N[C@H]2c3ncccc3C(=O)N2c2cc(OC)ccc2OC)c(OC)c1', 'COC(=O)CCNc1nc(Cl)c(-c2ccccc2)n(CC(=O)OCc2ccccc2)c1=O', 'O=C(Nc1ccccc1Cl)N(Cc1cc2cc3c(cc2[nH]c1=O)OCO3)C[C@H]1CCCO1', 'CCOC(=O)c1ccc(NC(=O)[C@H](C)Oc2ccc(=O)n(-c3cc(Cl)ccc3C)n2)cc1', 'C[C@@H]1CC[C@H]2C(=O)N(N(Cc3ccc(Cl)cc3)C(=O)c3cccc([N+](=O)[O-])c3)C(=O)[C@H]2C1', 'CC(C)Oc1ccc(-c2nc(-c3ccc(OCCCCC(=O)O)cc3Cl)no2)cc1C#N', 'Cc1ccc(C(C)C)c(OCC(=O)N/N=C/c2ccc(-c3ccc([N+](=O)[O-])cc3Cl)o2)c1', 'COc1ccc(CN2C(=O)C3C(C(C)O)NC4(C(=O)Nc5ccc(Cl)cc54)C3C2=O)cc1', 'COc1ccc(-n2nc(CCC(=O)N(OC(C)=O)C(C)=O)cc2-c2ccc(Cl)cc2)cc1', 'C[C@@H]1CC[C@H]2C(=O)N(N(Cc3ccc([N+](=O)[O-])cc3)C(=O)c3ccc(Cl)cc3)C(=O)[C@@H]2C1', 'Cc1noc(C)c1CN1C(=O)C(C)Oc2ccc(NC(=O)COc3ccccc3Cl)cc21', 'COC(=O)C1=C(C)N(c2ccc(Cl)cc2)C(=O)C[C@H]1C(=O)Nc1ccc(NC(C)=O)cc1', 'COc1ccc(N/N=C/c2cc(OC)c(OCc3ccc(C)cc3)c([N+](=O)[O-])c2)cc1Cl', 'COc1ccccc1C(=O)NC(=O)COC(=O)c1c(C)nn(Cc2ccccc2Cl)c1C', 'COCCN1C(=O)[C@@H]2[C@H]([C@H](O)c3ccc(Cl)cc3)N[C@@]3(C(=O)Nc4ccccc43)[C@H]2C1=O', 'CCOC(=O)c1nn(-c2ccccc2Cl)c(=O)cc1OCC(=O)Nc1cccc(C)c1C', 'CCOC(=O)c1nn(-c2ccccc2Cl)c(=O)cc1OCC(=O)Nc1ccc(CC)cc1', 'CN(C)CCCN1C(=O)c2c3cc(Cl)ccc3nc3cccc1c23.O=CO/C=C/C(=O)O', 'CCC(C)c1ccc(OCC(=O)NN=Cc2ccc(-c3ccc([N+](=O)[O-])cc3Cl)o2)cc1', 'CCCOC(=O)c1cc(/N=C/c2c(O)n(-c3ccccc3CC)c(=O)[nH]c2=O)ccc1Cl', 'CCC(=O)c1cc(NC(=O)Nc2ccc(OC)c(OC)c2)ccc1Oc1cncc(Cl)c1', 'O=C(CCCNC(=O)c1ccc(Cl)cc1)NNC(=O)c1ccc(COc2ccccc2)o1', 'CC(C)(O)C#Cc1ccc(-c2nc3nc(OC4COC5C(O)COC45)[nH]c3cc2Cl)cc1', 'COC(=O)c1cc(NC(=O)c2cccc(Cn3nc(C)c(Cl)c3C)c2)cc(C(=O)OC)c1', 'COC(=O)c1cc2cc(Cl)cc(CNC(=O)CC(=O)NCc3ccccc3)c2nc1OC', 'CC[C@@]1(O)C(=O)OCc2c1cc1n(c2=O)Cc2cc3c(CNC)c(OC)c(Cl)cc3nc2-1', 'CC1=C(C(=O)N2CCOCC2)[C@@H](c2ccccc2Cl)NC(=O)N1c1ccc(C(=O)O)cc1', 'COc1cccc(NC(=O)CN(C)C(=O)COC(=O)c2cc3cc(Cl)ccc3nc2C)c1', 'COc1ccc(Cl)cc1NC(=O)CN(C)C(=O)c1ccc(C)c(NC(=O)c2ccco2)c1', 'COc1cc(-c2cc(C(=O)NCC#CCOc3ccccc3Cl)[nH]n2)cc(OC)c1OC', 'C[C@@H]1CC[C@@H]2C(=O)N(N(Cc3ccc(Cl)cc3)C(=O)c3ccccc3[N+](=O)[O-])C(=O)[C@H]2C1', 'C[C@@H]1CC[C@@H]2C(=O)N(N(Cc3ccc([N+](=O)[O-])cc3)C(=O)c3ccc(Cl)cc3)C(=O)[C@@H]2C1', 'CCN(CC)CCN1C(=O)c2oc3ccc(Cl)cc3c(=O)c2C1c1cccc([N+](=O)[O-])c1', 'CC1CN(C2=C(c3ccc([N+](=O)[O-])cc3)C(=O)N(Cc3ccccc3Cl)C2=O)CC(C)O1', 'CCOc1cc(/C=N\\\\NC(=O)C(=O)NCc2ccco2)ccc1OCc1ccc(Cl)cc1', 'C[C@@H]1CC[C@@H]2C(=O)N(N(Cc3ccc(Cl)cc3)C(=O)c3cccc([N+](=O)[O-])c3)C(=O)[C@@H]2C1', 'C[C@@H]1CC[C@@H]2C(=O)N(N(Cc3ccccc3Cl)C(=O)c3ccc([N+](=O)[O-])cc3)C(=O)[C@H]2C1', 'Cn1cc(C(=O)NCc2ccc(Cl)cc2)c(=O)c2cc(CNCC(O)c3ccoc3)oc21', 'C[C@@H]1CC[C@@H]2C(=O)N(N(Cc3ccccc3Cl)C(=O)c3ccccc3[N+](=O)[O-])C(=O)[C@H]2C1', 'Cc1ccc(Cn2nc(C(=O)N[C@@H](CC(=O)O)Cc3ccccc3Cl)cc2C(=O)O)cc1', 'C[C@H]1CN(C(=O)c2ccc3c(Cl)cc(-c4ccc(O)c(CO)c4)nc3c2)CCN1C(=O)O', 'COc1ccccc1C(=O)NC(=O)COC(=O)c1c(C)nn(Cc2ccc(C)cc2)c1Cl', 'COc1ccc(Cl)c2c(=O)c3c([nH]c12)CCN(CC(=O)Nc1ccc2c(c1)OCCO2)C3', 'COc1ccc(CN2C(=O)[C@@H]3[C@H]([C@H](C)O)N[C@@]4(C(=O)Nc5ccc(Cl)cc54)[C@@H]3C2=O)cc1', 'Cl.NCCCn1c2c(c3ccc(NC(=O)CCC(=O)O)cc3c1=O)C(=O)c1ccccc1-2', 'COCCN1C(=O)[C@@H]2[C@H](Cc3ccc(O)cc3)N[C@@]3(C(=O)Nc4c(Cl)cccc43)[C@@H]2C1=O', 'CCC(OC(=O)c1ccc(-c2nc(C)c(C)[nH]2)cc1)C(=O)Nc1cc(C(=O)O)ccc1Cl', 'COc1ccc(CNC(=O)c2ccc(NCc3ccccc3Cl)c([N+](=O)[O-])c2)cc1OC', 'Cc1cc(OCc2ccc(C(=O)NNC(=O)CN(C)C(=O)c3ccco3)cc2)ccc1Cl', 'COc1nc(Cl)ncc1C(O)C(O)CNC(=O)OCC1c2ccccc2-c2ccccc21', 'COc1cc(C(=O)c2c(O)[nH]c3cc(Cl)c(-c4ccc(N(C)CCCO)cc4)cc23)on1', 'CCC(Nc1c(Nc2cccc(C(=O)N(C)C)c2Cl)c(=O)c1=O)c1ccc2c(c1)OCO2', 'Cc1ccc(-[n+]2c3ccccc3nc3ccc(N4CCOCC4)cc32)cc1.[O-][Cl+3]([O-])([O-])[O-]', 'CC[C@@H](Oc1ccc(=O)n(-c2cc(Cl)ccc2C)n1)C(=O)NCc1ccc2c(c1)OCO2', 'COc1ccc(CN2C(=O)[C@H]3[C@@H]([C@@H](C)O)N[C@]4(C(=O)Nc5c(Cl)cccc54)[C@@H]3C2=O)cc1', 'CC1(C)O[C@H]2O[C@H](Cn3nnc(C(=O)c4ccccc4)c3-c3ccc(Cl)cc3)[C@H](O)[C@H]2O1', 'COc1ccc(Cl)cc1NC(=O)C(C)OC(=O)C(=O)c1c(C)nn(-c2ccccc2)c1C', 'CNC(=O)C1=C(C(=O)Nc2ccc(CC(=O)c3ccc(OC)c(OC)c3Cl)cc2)CC=N1', 'COc1cc(NC(=O)C/C(C)=N/NC(=O)c2cc3ccccc3cc2O)c(OC)cc1Cl', 'CN(O)C(=O)N1CCC(C(=O)O)(c2nc(-c3ccc(Cl)cc3)c(-c3ccccc3)o2)CC1', 'C=CCOc1ccc(C2c3c(-c4cc(Cl)ccc4O)n[nH]c3C(=O)N2CCO)cc1OC', 'COC(=O)C1=C(C(=O)OC)N(c2ccc(C)cc2)C(N)=C(C(N)=O)[C@@H]1c1ccc(Cl)cc1', 'CCOc1cc(C(c2c(C)[nH]oc2=O)c2c(C)[nH]n(-c3ccccc3)c2=O)cc(Cl)c1O', 'COc1ccc(CN2C(=O)[C@@H]3[C@@H]([C@@H](C)O)N[C@]4(C(=O)Nc5c(Cl)cccc54)[C@@H]3C2=O)cc1', 'Cc1nn(Cc2ccccc2)c(Cl)c1C(=O)O[C@@H](C)C(=O)Nc1ccc2c(c1)OCCO2', 'CC(C)(C)c1ccccc1OCC(=O)N/N=C\\\\c1ccc(-c2cc([N+](=O)[O-])ccc2Cl)o1', 'CCCn1c(N)c(C(=O)COc2ccc(C(=O)c3ccc(Cl)cc3)cc2)c(=O)n(C)c1=O', 'COC(=O)c1ccc(NC(=O)COC(=O)c2c(C)nn(Cc3ccc(C)cc3)c2Cl)cc1', 'Cc1cc(-n2ccc(NC[C@H](O)c3cccc(Cl)c3)c(C(=O)O)c2=O)cc(C)c1C(N)=O', 'COc1cccc(N2CC(C(=O)OCC(=O)N(CCC#N)c3cccc(Cl)c3)CC2=O)c1', 'COc1ccc2c(c1)C1(CCN(C(=O)/C=C/C(=O)Nc3ccccc3Cl)CC1)OC(=O)N2', 'Cc1ccc(N(C)C(=O)Oc2ccc3c(c2)C(=O)N(C2CCCC(=O)NC2=O)C3)cc1Cl', 'C=CCN1C(=O)c2ccccc2N2C(=O)CC[C@@]12C(=O)Nc1cc(OC)c(Cl)cc1OC', 'COc1cc(C(C#N)NC(=O)CCc2ncc(-c3ccc(Cl)cc3)o2)cc(OC)c1OC', 'COC(=O)CN(Cc1ccc(Cl)cc1)C(=O)CN1C(=O)NC2(CCc3ccccc32)C1=O', 'CCOc1ccc(NC(=O)C(=O)Nn2c(CCC(=O)O)ccc2-c2ccc(Cl)cc2)cc1', 'O=C(O)CCC(CCc1ccc(-c2cccc(Cl)c2)cc1)NC(=O)c1cc(C(=O)O)[nH]n1', 'Cc1cc(/C=C2/C(=O)NC(=O)N(C3CCCC3)C2=O)c(C)n1-c1ccc(Cl)c(C(=O)O)c1', 'COc1ccc2nc(C)c(C(=O)OCC(=O)N(C)CC(=O)Nc3ccccc3Cl)cc2c1', 'COc1ccc(N2C(=O)C(Cl)=C(Nc3cccc(C(=O)N4CCCC4)c3)C2=O)c(OC)c1', 'CCOc1ccc(/C(O)=C2\\\\C(=O)C(=O)N(CCCn3ccnc3)[C@@H]2c2ccco2)cc1Cl', 'COc1cc(OC)c(OC)cc1/C=N\\\\NC(=O)c1cccn(Cc2ccccc2Cl)c1=O', 'COc1ccc(CN2C(=O)[C@@H]3[C@@H]([C@H](C)O)N[C@@]4(C(=O)Nc5ccc(Cl)cc54)[C@@H]3C2=O)cc1', 'COC(=O)C(Cc1ccccc1)NC(=O)COC(=O)c1cnn(Cc2ccccc2Cl)c1', 'COC(=O)c1ccc(NC(=O)CN2CCc3[nH]c4c(OC)ccc(Cl)c4c(=O)c3C2)cc1', 'CCOc1ccc(-c2nonc2NC(=O)c2oc3cc(C)c(Cl)cc3c2C)cc1OCC', 'O=C1CC(N(C(=O)c2ccc(Cl)c([N+](=O)[O-])c2)C2CCCCC2)C(=O)N1c1ccccc1', 'CCOC(=O)C1CCN(c2oc(-c3ccc(COc4ccccc4Cl)o3)nc2C#N)CC1', 'COC(=O)c1ccc(CNC(=O)COC(=O)c2ccc(-n3nc(C)c(Cl)c3C)cc2)cc1', 'COc1ccccc1CN1C(=O)[C@@H]2[C@@H]([C@H](C)O)N[C@@]3(C(=O)Nc4ccc(Cl)cc43)[C@@H]2C1=O', 'C=CCN(C(=O)O)C(=O)C(C(C)C=C)n1cc(OC)c(-c2cc(Cl)ccc2C#N)cc1=O', 'C[C@@H]1CC[C@@H]2C(=O)N(N(Cc3ccc([N+](=O)[O-])cc3)C(=O)c3ccccc3Cl)C(=O)[C@@H]2C1', 'CC1=C(C=C(O1)C2=C(C=NN2)C(=O)N3CCOCC3)S(=O)(=O)NC4=CC(=CC=C4)F', 'CCN(CC)S(=O)(=O)c1ccc(F)c(C(=O)OCn2nnc3ccccc3c2=O)c1', 'COc1cccc(-c2noc(CNC(=O)CN(c3ccccc3F)S(C)(=O)=O)n2)c1', 'CCOC(=O)c1csc(NC(=O)CC[C@@H]2NC(=O)N(Cc3cccc(F)c3)C2=O)n1', 'O=C(N/N=C\\\\c1ccc([N+](=O)[O-])cc1)C1CCN(S(=O)(=O)c2ccc(F)cc2)CC1', 'O=C(O)CCCOc1ccc(S(=O)(=O)Nc2ccn(Cc3ccccn3)n2)cc1F', 'CCC1(c2ccc(F)cc2)NC(=O)N(CC(=O)Nc2ccc(S(N)(=O)=O)cc2)C1=O', 'NC(=O)c1ccc(SCC(=O)NCCNC(=O)Cc2cccc(F)c2)c([N+](=O)[O-])c1', 'CC[C@]1(c2ccc(F)cc2)NC(=O)N(CC(=O)Nc2ccc(S(N)(=O)=O)cc2)C1=O', 'CCOC(=O)c1nc(Cc2ccc(OC)cc2)n(-c2ccc(S(N)(=O)=O)cc2F)n1', 'CCCC(Cc1ccc(C(N)=O)c(F)c1C(=O)c1c[nH]c2ncncc12)S(=O)(=O)O', 'CN(C)S(=O)(=O)c1cc(C(=O)Nc2cccc(C3(C)NC(=O)NC3=O)c2)ccc1F', 'COc1ccc(-c2noc(CNC(=O)CN(c3ccccc3F)S(C)(=O)=O)n2)cc1', 'Cc1c(F)cc(C(=O)Nc2cccc(S(=O)(=O)/N=C3\\\\CCCN3C)c2)cc1[N+](=O)[O-]', 'C=C[C@@H](O)[C@@]1(C)COc2c(cn(C)c2C(=O)Nc2ccc(F)c(C#N)c2)S(=O)(=O)N1', 'C[C@@H]1CN(S(=O)(=O)c2ccc(O)cn2)C[C@@H]1n1nc(CC(=O)O)c2ccc(F)cc21', 'O=C(O)Nc1cnc2c(c1)N(S(=O)(=O)c1ccc(F)cc1)CC(N1CCCC1=O)C2', 'C=C[C@H](O)[C@@]1(C)COc2c(cn(C)c2C(=O)Nc2ccc(F)c(C#N)c2)S(=O)(=O)N1', 'C=C[C@H](O)[C@]1(C)COc2c(cn(C)c2C(=O)Nc2ccc(F)c(C#N)c2)S(=O)(=O)N1', 'CS(=O)(=O)c1ccc(Nc2ncnc3c(C4CCN(C(=O)O)CC4)coc23)c(F)c1', 'N#Cc1ccc(OCC(=O)NNC(=O)CCCNS(=O)(=O)c2ccc(F)cc2)cc1', 'CCOC(=O)c1ccc(S(=O)(=O)N2CCN(c3ncnc4cccc(F)c34)CC2)o1', 'O=C(N/N=C\\\\c1cccc([N+](=O)[O-])c1)C1CCN(S(=O)(=O)c2ccc(F)cc2)CC1', 'C=C[C@@](C)(O)[C@@H]1COc2c(cn(C)c2C(=O)Nc2ccc(F)c(C#N)c2)S(=O)(=O)N1', 'COC(=O)c1nc(S(=O)(=O)N(C)C)c2cc(Cc3ccc(F)cc3)c(N)nc2c1O', 'CN(C)S(=O)(=O)c1cccc(C(=O)NNC(=O)C2CC(c3cccc(F)c3)=NO2)c1', 'C=C1C[C@]1(CO)COc1c(S(N)(=O)=O)cn(C)c1C(=O)Nc1ccc(F)c(C#N)c1', 'C=C[C@](C)(O)[C@H]1COc2c(cn(C)c2C(=O)Nc2ccc(F)c(C#N)c2)S(=O)(=O)N1', 'CNS(=O)(=O)c1cc(C(=O)Nc2ccc(F)c(NC(=O)c3ccoc3C)c2)n(C)c1', 'C=C[C@@]1([C@H](C)O)COc2c(cn(C)c2C(=O)Nc2ccc(F)c(C#N)c2)S(=O)(=O)N1', 'COC(=O)c1cn(C[C@H]2CN(c3ccc(C4=CC[S@](=O)CC4)c(F)c3)C(=O)O2)nn1', 'COc1ccc(NC(=O)Cn2cnc3ccc(F)cc3c2=O)cc1S(=O)(=O)N(C)C', 'C=CC(C)(O)[C@H]1COc2c(cn(C)c2C(=O)Nc2ccc(F)c(C#N)c2)S(=O)(=O)N1', 'C[C@@H]1CN(S(=O)(=O)c2ccc(O)cc2)C[C@@H]1n1nc(CC(=O)O)c2cnc(F)cc21', 'COc1cccc(-c2noc(CNC(=O)CN(c3ccc(F)cc3)S(C)(=O)=O)n2)c1', 'COc1ccc(CN(c2ccncn2)S(=O)(=O)c2cc(O)c(N)cc2F)c(OC)c1', 'NC(=O)c1ccc(SCC(=O)Nc2ccc(N3CCOCC3)c(F)c2)c([N+](=O)[O-])c1', 'Cc1onc(-c2ccccc2)c1C(F)(ONC(=O)c1cccnc1)S(=O)(=O)N(C)C', 'CC(C)[C@H](NS(=O)(=O)c1ccccc1F)C(=O)Nc1cccc(-c2noc(=O)[nH]2)c1', 'O=C(CO)N1CC=C(c2ccc(N3C[C@H](COc4cnsn4)OC3=O)cc2F)CC1', 'CC(C)(CCn1cc(F)c(-c2ccc3nccnc3c2)cc1=O)C(=O)NO.O=S=O', 'COC(=O)c1nc(NS(=O)(=O)N(C)C)c2cc(Cc3ccc(F)cc3)cnc2c1O', 'C=COCCONC(=O)c1ccc2cncn2c1Nc1ccc(S(C)(=O)=O)cc1F', 'CCOc1ccc(S(=O)(=O)c2cc(COC(=O)NC)nn2-c2ccccc2F)cn1', 'C=CCC(O)C1COc2c(cn(C)c2C(=O)Nc2ccc(F)c(C#N)c2)S(=O)(=O)N1', 'CC(=O)NS(=O)(=O)c1ccc(NC(=O)NC2CC(=O)N(c3cccc(F)c3)C2)cc1', 'CCOC(=O)Cc1csc(NC(=O)C[C@H]2NC(=O)N(Cc3cccc(F)c3)C2=O)n1', 'CCN(CC)S(=O)(=O)c1cc(C(=O)Nc2cccc(-c3noc(=O)[nH]3)c2)ccc1F', 'Cn1cc2c(c1C(=O)Nc1ccc(F)c(C#N)c1)OC[C@H](C(O)C1CC1)NS2(=O)=O', 'CNSNc1cccc(Cn2c(=O)oc3cc(OC(=O)N(C)C)ccc3c2=O)c1F', 'O=C(CCCN1C(=O)CNC1=O)Nc1ccc(NS(=O)(=O)c2ccc(F)cc2)cc1', 'Cc1ccc(F)cc1NS(=O)(=O)c1ccc(-c2[nH]ncc2C(=O)N2CCOCC2)o1', 'COc1ccc(F)c(N2CCN(C(=O)c3ccc4c(c3)S(=O)(=O)NC(=O)N4)CC2)c1', 'COc1ccc(NS(=O)(=O)c2ccc(-c3[nH]ncc3C(=O)N3CCCC3)o2)cc1F', 'O=C1COc2ccc(S(=O)(=O)N3CCN(C(=O)Nc4ccc(F)cc4)CC3)cc2N1', 'CCc1nc(OCC(=O)N[C@@H]2CCS(=O)(=O)C2)c2c(-c3ccc(F)cc3)noc2n1', 'CCOC(=O)c1csc(NC(=O)CC[C@H]2NC(=O)N(Cc3cccc(F)c3)C2=O)n1', 'C[C@@](CCn1cc(F)c(-c2ccc3nccnc3c2)cc1=O)(C(=O)NO)S(C)(=O)=O', 'CN(CC(=O)Nc1ccccc1F)S(=O)(=O)c1ccc2c(c1)c(=O)n(C)c(=O)n2C', 'Cc1nn(CC(C)C)c2sc(C(=O)OCC(=O)Nc3ccc(F)cc3[N+](=O)[O-])cc12', 'C=C[C@@H](O)[C@]1(C)COc2c(cn(C)c2C(=O)Nc2ccc(F)c(C#N)c2)S(=O)(=O)N1', 'Cc1cc(/N=C(\\\\NO)c2nonc2OCCCS(=O)(=O)c2ccccc2)ccc1F', 'COC(=O)c1nsc(C(=O)c2cn(COC(=O)C(N)C(C)C)c3ccc(F)cc23)n1', 'Cc1ccc(S(=O)(=O)N2CCC(n3c(=O)n(CC(=O)O)c4cccnc43)C2)c(F)c1', 'COc1ccc(CNC(=O)c2cn[nH]c2S(=O)(=O)Nc2ccc(F)cc2)c(OC)c1', 'C=CC[C@@H](O)[C@@H]1COc2c(cn(C)c2C(=O)Nc2ccc(F)c(C#N)c2)S(=O)(=O)N1', 'Cc1oc(-c2[nH]ncc2C(=O)N2CCOCC2)cc1S(=O)(=O)Nc1ccc(F)cc1', 'COC(=O)c1cn(CC2CN(c3ccc(C4=CCS(=O)CC4)c(F)c3)C(=O)O2)nn1', '[C-]#[N+]c1ncc(NC(=O)[C@@](C)(O)CS(=O)(=O)c2ccc(C(=O)NC)c(F)c2)cc1C', 'CCOC(=O)c1csc(NC(=O)CCC2NC(=O)N(Cc3cccc(F)c3)C2=O)n1', 'C=C[C@]1([C@H](C)O)COc2c(cn(C)c2C(=O)Nc2ccc(F)c(C#N)c2)S(=O)(=O)N1', 'CN1CCn2c(c(O)c3c(=O)n(Cc4ccc(F)cc4)nc(CS(C)(=O)=O)c32)C1=O', '[H]/N=C(\\\\c1cc(-c2cnc(C(=O)OCC)s2)no1)c1cc(F)c(OCCOC)cc1N', 'COC(=O)c1cn(C[C@H]2CN(c3ccc(C4=CCS(=O)CC4)c(F)c3)C(=O)O2)nn1', 'C=CC[C@@H](O)[C@H]1COc2c(cn(C)c2C(=O)Nc2ccc(F)c(C#N)c2)S(=O)(=O)N1', 'Cc1oc(-c2[nH]ncc2C(=O)N2CCOCC2)cc1S(=O)(=O)Nc1ccccc1F', 'C#CC(=O)NCCOCc1cc(C)nc(C(=O)NNS(=O)(=O)c2ccccc2F)c1', 'C=CC1(C(C)O)COc2c(cn(C)c2C(=O)Nc2ccc(F)c(C#N)c2)S(=O)(=O)N1', 'Cc1onc(-c2ccccc2)c1COc1cc(F)c(C(=O)NS(=O)(=O)N(C)C)cn1', 'C=C[C@@H](O)CCOc1c(S(=O)(=O)N=C)cn(C)c1C(=O)Nc1ccc(F)c(C#N)c1', 'CC(C)(F)c1cc(NC(=O)Nc2ccc(-c3ccc(CS(=O)(=O)O)nc3)cc2)on1', 'NCCSc1nnc(COc2ccccc2F)n1-c1ccccc1.O=C(O)C(=O)O', 'CC(=O)N(c1nc(COC(=O)CN2C(=O)NC(C)(C)C2=O)cs1)c1ccccc1F', 'Cn1cc2c(c1C(=O)Nc1ccc(F)c(C#N)c1)OCC(C(O)C1CC1)NS2(=O)=O', 'CS(=O)(=O)c1nccc(-c2[nH]c(C3(CO)OCCCO3)nc2-c2ccc(F)cc2)n1', 'O=C(CSc1ccccc1F)NNC(=O)c1ccc(N2CCOCC2)c([N+](=O)[O-])c1', 'CN(CCCC(=O)Nc1cccc(-c2noc(=O)[nH]2)c1)S(=O)(=O)c1ccc(F)cc1', 'CC(C)[C@H](NS(=O)(=O)c1ccccc1F)C(=O)OCc1nc(-c2cccnc2)no1', 'CCOC(=O)c1sc(NC(=O)CN2C(=O)NC(C)(c3ccc(F)cc3)C2=O)nc1C', 'CC1(c2cccc(CNC(=O)Nc3ccc(F)c(S(C)(=O)=O)c3)c2)NC(=O)NC1=O', 'CCOc1ccc(S(=O)(=O)c2cc(CN(C)C(=O)O)nn2-c2ccccc2F)cn1', 'CS(=O)(=O)N1CN=CC=C1c1c(-c2ccc(F)cc2)c(=O)n2n1CCCC2C(=O)O', 'COc1ccc(-c2noc(CNC(=O)CN(c3cccc(F)c3)S(C)(=O)=O)n2)cc1', 'CCOC(=O)Cc1csc(NC(=O)C[C@@H]2NC(=O)N(Cc3cccc(F)c3)C2=O)n1', 'O=C(O)N[C@@H](Cc1ccc(C2CC(=O)NS2(O)O)c(F)c1)c1nc2ccccc2[nH]1', 'CCOc1ccc(S(=O)(=O)c2cc(CCNC(=O)O)nn2-c2ccccc2F)cn1', '[C-]#[N+]c1cnc(NC(=O)[C@@](C)(O)CS(=O)(=O)c2ccc(C(=O)NC)c(F)c2)cc1C', 'C=C[C@]1([C@@H](C)O)COc2c(cn(C)c2C(=O)Nc2ccc(F)c(C#N)c2)S(=O)(=O)N1', 'Cn1c(=O)c2cc(S(=O)(=O)NCCC(=O)Nc3ccccc3F)ccc2n(C)c1=O', 'COc1ccc(-c2noc(CNC(=O)CN(c3ccc(F)cc3)S(C)(=O)=O)n2)cc1', 'CSc1noc2c(F)c3c(cc12)CC1(C(=O)NC(=O)NC1=O)[C@@H]1[C@@H](C)O[C@@H](C)CN31', 'CCN(CC)S(=O)(=O)c1ccc(F)c(C(=O)OCc2nc(-c3cccnc3)no2)c1', 'CCOC(=O)Cc1csc(NC(=O)CC2NC(=O)N(Cc3cccc(F)c3)C2=O)n1', 'CC(Oc1ccc(F)cc1)C(=O)NNC(=O)[C@H](C)/N=C1\\\\NS(=O)(=O)c2ccccc21', 'CCOC(=O)c1sc(NC(=O)C[C@H]2NC(=O)N(Cc3cccc(F)c3)C2=O)nc1C', 'CCN(CC)S(=O)(=O)c1ccc(F)c(C(=O)Nc2cccc(-c3noc(=O)[nH]3)c2)c1', 'CC(=O)NS(=O)(=O)c1ccc(NC(=O)CN2CCN(c3ccccc3F)C2=O)cc1', 'N#Cc1ccccc1OCC(=O)NNC(=O)CCCNS(=O)(=O)c1ccc(F)cc1', 'COc1ccc(S(=O)(=O)N(C)C)cc1NC(=O)Cn1cnc2ccc(F)cc2c1=O', 'Cc1cc(-c2nnc(NS(=O)(=O)c3ccc(C(=O)N4CCCC4)c(F)c3)o2)c(C)o1', 'Cc1ccc(S(=O)(=O)Nc2cc(C(N)=O)ccc2CN2C(=O)CN(C)C2=O)cc1F', 'O=C(NO)c1cc2cc(S(=O)(=O)Nc3cc(F)cnc3N3CCCCC3)ccc2o1', 'Cc1cc(S(=O)(=O)Nc2ccc(-n3cncn3)c(F)c2)ccc1OCCCC(=O)O', 'COc1ccc(S(=O)(=O)N2CCN(Cc3cc(C#N)ccc3F)CC2)cc1[N+](=O)[O-]', 'CC(=O)NS(=O)(=O)c1ccc(NC(=O)NC2CC(=O)N(c3ccc(F)cc3)C2)cc1', 'CC#C[C@@H](O)CCOc1c(S(N)(=O)=O)cn(C)c1C(=O)Nc1ccc(F)c(C#N)c1', 'CNS(=O)(=O)c1ccc(C(=O)N2CCCC(c3nc(-c4cccc(F)c4)no3)C2)o1', 'CCOC(=O)c1nc(Cc2cccc(OC)c2)n(-c2ccc(S(N)(=O)=O)cc2F)n1', 'O=C1CCC(=O)N1c1ccc(S(=O)(=O)N2CCCC(Oc3ncc(F)cn3)C2)cc1', 'COCCNC(=O)NC(=O)COC(=O)c1cc2c(C)nn(-c3ccc(F)cc3)c2s1', 'COC(=O)c1nc(NC(=O)CC[C@@H]2NC(=O)N(Cc3cccc(F)c3)C2=O)sc1C', 'COc1cccc(NC2(S(C)(=O)=O)C=CC=CC2Nc2nc(F)ncc2C(=O)O)c1', 'CCOC(=O)c1nc(COCc2ccccc2)n(-c2ccc(S(N)(=O)=O)cc2F)n1', 'COc1cccc(-c2noc(CNC(=O)CN(c3cccc(F)c3)S(C)(=O)=O)n2)c1', 'CSc1noc2c(F)c3c(cc12)CC1(C(=O)NC(=O)NC1=O)[C@H]1[C@H](C)O[C@H](C)CN31', 'CN(C)S(=O)(=O)c1cccc(C(=O)NNC(=O)[C@H]2CC(c3cccc(F)c3)=NO2)c1', 'CC1(c2ccc(F)cc2)NC(=O)N(CC(=O)Nc2cccc(CS(N)(=O)=O)c2)C1=O', 'O=C(c1ccc([N+](=O)[O-])o1)N(CCCN1CCOCC1)c1nc2ccc(F)cc2s1', 'COC(=O)c1cc(OCCOc2nsnc2N2CCOCC2)c2cc(F)ccc2n1', 'CCc1nc(OCC(=O)NC2CCS(=O)(=O)C2)c2c(-c3ccc(F)cc3)noc2n1', 'COC(=O)c1nc(NC(=O)CC[C@H]2NC(=O)N(Cc3cccc(F)c3)C2=O)sc1C', 'CN(CCCC(=O)OCc1nc(-c2cccnc2)no1)S(=O)(=O)c1ccc(F)cc1', 'C=CC(O)C1(C)COc2c(cn(C)c2C(=O)Nc2ccc(F)c(C#N)c2)S(=O)(=O)N1', 'O=C(NO)c1cc2ccc(S(=O)(=O)Nc3cc(F)cnc3N3CCCCC3)cc2o1', 'COC(=O)c1csc(N2C(=O)[C@@H](N(C=O)C(=O)NCc3cccc(F)c3)CC2C)n1', 'CCc1nc(OCC(=O)N[C@H]2CCS(=O)(=O)C2)c2c(-c3ccc(F)cc3)noc2n1', 'CN(CC(=O)OCCCc1nc(-c2cccnc2)no1)S(=O)(=O)c1ccc(F)cc1', 'CC(C)C[C@@H](C(=O)Nc1nc(C(=O)O)cs1)N1C(=O)NC(c2cccc(F)c2)C1=O', 'CN(CC(=O)Nc1ccc(F)cc1)S(=O)(=O)c1ccc2c(c1)n(C)c(=O)c(=O)n2C', 'COc1ccc(CNC(=O)c2cn[nH]c2S(=O)(=O)Nc2ccc(F)cc2)cc1OC', 'CN(CC(=O)Nc1cccc(F)c1)S(=O)(=O)c1ccc2c(c1)n(C)c(=O)c(=O)n2C', 'C=C[C@@]1([C@@H](C)O)COc2c(cn(C)c2C(=O)Nc2ccc(F)c(C#N)c2)S(=O)(=O)N1', 'C=C[C@@](C)(O)[C@H]1COc2c(cn(C)c2C(=O)Nc2ccc(F)c(C#N)c2)S(=O)(=O)N1', 'CS(=O)(=O)c1nccc(-c2[nH]c(C3OCC(CO)CO3)nc2-c2ccc(F)cc2)n1', 'Cc1ccc(S(=O)(=O)N2CC[C@@H](n3c(=O)n(CC(=O)O)c4cccnc43)C2)c(F)c1', 'CON(C)S(=O)(=O)c1cccc(C(=O)NC(C)c2nc(-c3ccc(F)cc3)no2)c1', 'CN(CC(=O)Nc1ccccc1F)S(=O)(=O)c1ccc2c(c1)n(C)c(=O)c(=O)n2C', 'COCCOc1ccc(F)cc1S(=O)(=O)Nc1cnc2c(c1)-c1ccnn1CCO2', '[C-]#[N+]c1ncc(NC(=O)C(C)(O)CS(=O)(=O)c2ccc(C(=O)NC)c(F)c2)cc1C', 'COc1ccc(NC(=O)Cn2cnc3cc(F)ccc3c2=O)cc1S(=O)(=O)N(C)C', 'CN(C)S(=O)(=O)c1cccc(C(=O)NNC(=O)C2CC(=O)Nc3cc(F)ccc32)c1', 'COC(=O)c1nc(NC(=O)CCC2NC(=O)N(Cc3cccc(F)c3)C2=O)sc1C', 'CC[C@@]1(c2ccc(F)cc2)NC(=O)N(CC(=O)Nc2ccc(S(N)(=O)=O)cc2)C1=O', 'C[C@@](CCn1cc(F)c(-c2ccc(-n3nccn3)cc2)cc1=O)(C(=O)O)S(C)(=O)=O', 'COc1cc(F)c(S(=O)(=O)Nc2cc(C(N)=O)ccc2-n2cc(C)cn2)cc1OC', 'CC(=O)NS(=O)(=O)c1ccc(NC(=O)CN2CCN(c3ccc(F)cc3)C2=O)cc1', 'NC(=O)c1ccc(SCC(=O)NCCNC(=O)Cc2ccc(F)cc2)c([N+](=O)[O-])c1', 'COCCOc1ccc(S(=O)(=O)NNC(=O)c2cncn2-c2ccc(F)cc2)cc1', 'Cc1ccc(F)c(S(=O)(=O)Nc2cc(C(N)=O)ccc2CN2C(=O)CN(C)C2=O)c1', 'COc1cc(S(=O)(=O)Nc2ccccc2F)cc(C(=O)Nc2cnn(C)c2)c1OC', 'C=CC[C@H](O)[C@H]1COc2c(cn(C)c2C(=O)Nc2ccc(F)c(C#N)c2)S(=O)(=O)N1', 'CC#C[C@H](O)CCOc1c(S(N)(=O)=O)cn(C)c1C(=O)Nc1ccc(F)c(C#N)c1', 'C=CC[C@H](O)[C@@H]1COc2c(cn(C)c2C(=O)Nc2ccc(F)c(C#N)c2)S(=O)(=O)N1', 'CCOCCc1nn2c(=O)cc(COC(=O)CNC(=O)c3ccc(F)cc3)nc2s1', 'CC(C)C[C@@H](C(=O)Nc1nc(C(=O)O)cs1)N1C(=O)NC(c2ccccc2F)C1=O', 'CCOc1cc(C(=O)NCc2ccc(S(C)(=O)=O)cc2)c2[nH]c(C(N)=O)nc2c1F', 'CC(CCn1cc(F)c(-c2ccc3nccnc3c2)cc1=O)(C(=O)NO)S(C)(=O)=O', 'Cn1cnnc1-c1cccc(NS(=O)(=O)c2ccc(OCCCC(=O)O)c(F)c2)c1', 'CC(Oc1ccc(F)cc1)C(=O)NNC(=O)CC/N=C1\\\\NS(=O)(=O)c2ccccc21', 'Nc1cc(F)ccc1C(=O)OCC(=O)Nc1cccc(S(=O)(=O)NC2=NCCC2)c1', 'Cc1cc(NS(=O)(=O)c2ccc(-c3[nH]ncc3C(=O)N3CCOCC3)o2)ccc1F', 'C=C[C@H](O)CCOc1c(S(=O)(=O)N=C)cn(C)c1C(=O)Nc1ccc(F)c(C#N)c1', 'CN(CC(=O)Nc1cccc(F)c1)S(=O)(=O)c1ccc2c(c1)c(=O)n(C)c(=O)n2C', 'CCN(CC)S(=O)(=O)c1cc(C(=O)OCn2nnc3ccccc3c2=O)ccc1F', 'CS(=O)(=O)c1ccc(Nc2ncnc3c(C4CCCCN4C(=O)O)coc23)c(F)c1', 'O=C(c1ccc([N+](=O)[O-])o1)N(CCCN1CCOCC1)c1nc2c(F)cccc2s1', 'CC(C)C[C@@H](C(=O)Nc1nc(C(=O)O)cs1)N1C(=O)NC(c2ccc(F)cc2)C1=O', 'CS(=O)(=O)c1ccc(-c2cnn3c(OC4CCN(C(=O)O)CC4)ccnc23)c(F)c1', 'CCOc1ccc(NS(=O)(=O)c2[nH]ncc2C(=O)Nc2ccc(OC)cc2F)cc1', 'C=CC(C)(O)[C@@H]1COc2c(cn(C)c2C(=O)Nc2ccc(F)c(C#N)c2)S(=O)(=O)N1', 'O=C(COc1ccc(S(=O)(=O)F)cc1)NCC1CCN(c2nc3ncccc3o2)C1', 'CCOC(=O)c1sc(NC(=O)C[C@@H]2NC(=O)N(Cc3cccc(F)c3)C2=O)nc1C', 'O=C(O)Cn1c(=O)n(C2CCN(S(=O)(=O)c3ccc(F)cc3)CC2)c2ncccc21', 'O=C(O)CCCOc1ccc(S(=O)(=O)Nc2ccn(Cc3ccncc3)n2)cc1F', '[C-]#[N+]c1ccc(NC(=O)[C@@](C)(O)CS(=O)(=O)c2ccc(C(=O)NC)c(F)c2)nc1C', 'CC#CC(O)CCOc1c(S(N)(=O)=O)cn(C)c1C(=O)Nc1ccc(F)c(C#N)c1', 'O=C(Nc1ccc(F)c(S(=O)(=O)N2CCOCC2)c1)c1ccc(Cn2cccn2)o1', 'O=C(N/N=C\\\\c1ccccc1[N+](=O)[O-])C1CCN(S(=O)(=O)c2ccc(F)cc2)CC1', 'COc1ccc(NC(=O)C2=NN(C)C(=O)CC2)cc1NS(=O)(=O)c1ccc(F)cc1', 'COC(=O)c1ccc(-c2noc(-c3ccc(N(C)C)c(NS(C)(=O)=O)c3)n2)cc1F', 'Cc1[nH]c2ccc(F)cc2c1CC(=O)NCCNS(=O)(=O)c1cccc([N+](=O)[O-])c1', 'CCOC(=O)c1cn(-c2nccs2)c2nc(N3CC(OCCO)C3)c(F)cc2c1=O', 'CN(C)S(=O)(=O)c1cccc(C(=O)NNC(=O)[C@@H]2CC(c3cccc(F)c3)=NO2)c1', 'CCOC(=O)c1sc(NC(=O)CC2NC(=O)N(Cc3cccc(F)c3)C2=O)nc1C', 'CN(CC(=O)Nc1ccc(F)cc1)S(=O)(=O)c1ccc2c(c1)c(=O)n(C)c(=O)n2C', 'COC(=O)C(OC)Oc1nn(-c2ncccc2S(C)=O)c(-c2ccc(F)nc2)c1C', 'C=CC(C)(O)C1COc2c(cn(C)c2C(=O)Nc2ccc(F)c(C#N)c2)S(=O)(=O)N1', 'COC1=CC=CC=C1C2=NOC(=N2)C3=CN(C(=O)C4=CC=CC=C43)C5=CC(=CC=C5)F', 'O=C(NCc1ccccc1)c1ccc2onc(-c3coc(-c4ccc(F)cc4)n3)c2c1', 'N#CC(NC(=O)c1ccc2c(c1)C(=O)N(Cc1ccccc1)C2=O)c1ccccc1F', 'O=C1C(=O)N(c2cccc(F)c2)C(c2c[nH]c3ccccc23)/C1=C(\\\\O)c1ccncc1', 'Cc1ccccc1-c1nnc(-c2ccc(C(=O)OCc3cc(C#N)ccc3F)cc2)o1', 'O=C1C(=O)N(c2cccc(F)c2)C(c2ccncc2)/C1=C(/O)c1c[nH]c2ccccc12', 'N#C/C(=C/c1ccccc1OCc1ccc(C(=O)O)cc1)c1nc2ccc(F)cc2[nH]1', 'O=C(O)c1ccc(N2C(=O)c3[nH]nc(-c4ccccc4)c3[C@@H]2c2cccc(F)c2)cc1', 'O=C(NCc1ccc2oc(-c3ccc(F)cc3)nc2c1)c1c[nH]c(=O)c2ccccc12', 'COc1cc(C=C(C#N)c2nc3ccccc3[nH]2)ccc1OC(=O)c1ccc(F)cc1', 'O=C1c2ccccc2C(=O)N1CCc1nc2ccccc2c(=O)n1-c1ccc(F)cc1', 'COc1ccc(C2C3=C(COC3=O)Nc3c2c2cccnc2c2ncccc32)cc1F', 'O=C1NC(=O)c2c1c1c3ccc(F)cc3[nH]c1c1c2c2cccc3c2n1CC(CO)C3', 'COc1cccc(-c2noc(-c3cn(-c4ccc(F)cc4)c(=O)c4ccccc34)n2)c1', 'N#Cc1ccc([C@@H]2[C@H]3C(=O)N(c4ccc(F)cc4)C(=O)[C@H]3ON2c2ccccc2)cc1', 'O=C(O)c1ccc(/C=N\\\\NC(=O)c2cc(-c3ccc(F)cc3)nc3ccccc23)cc1', 'COc1ccccc1-c1noc(-c2cn(-c3ccc(F)cc3)c(=O)c3ccccc23)n1', 'O=C(O)c1ccc(N2C(=O)c3[nH]nc(-c4ccccc4)c3[C@@H]2c2ccc(F)cc2)cc1', 'O=C(O)c1ccc(N2C(=O)c3[nH]nc(-c4ccccc4)c3[C@H]2c2ccccc2F)cc1', 'COc1c(-c2ccc(C(=O)O)cc2)nc2cc3[nH]ncc3cc2c1-c1ccc(F)cc1', 'O=C1C(=O)N(c2ccc(F)cc2)C(c2ccccn2)/C1=C(/O)c1c[nH]c2ccccc12', 'N#CC1=C[C@@H]2[C@@H]3C(=O)N(c4ccc(F)cc4)C(=O)[C@@H]3[C@H](C(=O)c3ccccc3)N2C=C1', 'O=C(NC1c2ccccc2Oc2ccccc21)c1ccc(=O)n(-c2ccc(F)cc2)n1', 'Cn1c(C(=O)Nc2ccc(C#N)cc2C(=O)O)cc2cccc(-c3ccccc3F)c21', 'N#CC1=CC2C3C(=O)N(c4ccc(F)cc4)C(=O)C3C(C(=O)c3ccccc3)N2C=C1', 'Cc1cc(/C(O)=C2/C(=O)C(=O)N(c3ccc(C#N)cc3)C2c2ccccn2)ccc1F', 'O=C(C1=NN(c2ccccc2)[C@H]2C(=O)N(c3ccc(F)cc3)C(=O)[C@H]12)c1ccccc1', 'Fc1cccc(OCc2cccc(-c3noc(-c4ccc(-c5ccon5)cc4)n3)c2)c1', '[C-]#[N+]c1ccc(N2N=C3c4ccc(C(=O)O)cc4OC[C@@H]3[C@@H]2c2ccc(F)cc2)cc1', 'Cc1cc(/C(O)=C2/C(=O)C(=O)N(c3ccc(C#N)cc3)C2c2ccncc2)ccc1F', 'COc1cccc2oc(-c3nc4ccccc4c(=O)n3N=Cc3ccc(F)cc3)cc12', 'O=C(O)c1cc2c([nH]c3cc(F)ccc32)c(-c2ccc(OCc3ccncc3)cc2)n1', 'Cc1cccc2c1NC(=O)C(N1C(=O)c3ccccc3C1=O)N=C2c1ccccc1F', 'O=C(C1=NN(c2ccccc2)[C@@H]2C(=O)N(c3ccc(F)cc3)C(=O)[C@H]12)c1ccccc1', 'CCc1nc2ccc(F)cn2c1C(=O)Nc1cccc2c1C(=O)c1ccccc1C2=O', 'O=C(/C=C\\\\c1cn(-c2ccccc2)nc1-c1ccc(F)cc1)c1ccc([N+](=O)[O-])cc1', 'COc1ccc(-n2cc(-c3nc(-c4cccc(F)c4)no3)c3ccccc3c2=O)cc1', 'Cc1c(NC(=O)c2ccc(-c3cccc(F)c3)o2)cccc1-c1nc2ncccc2o1', 'N#CC1=C[C@@H]2[C@@H]3C(=O)N(c4ccc(F)cc4)C(=O)[C@H]3[C@H](C(=O)c3ccccc3)N2C=C1', 'N#Cc1ccc([C@@H]2[C@H]3C(=O)N(c4ccc(F)cc4)C(=O)[C@@H]3ON2c2ccccc2)cc1', 'O=C1NC(c2ccc3c(c2)OCO3)c2c1nn(-c1ccc(F)cc1)c2-c1ccccc1', 'C#Cc1cccc(NC(=O)c2nc3ccccc3nc2Oc2ccc(F)cc2OC)c1', 'CC(NC(=O)c1ccc2c(c1)C(=O)c1ccccc1-2)c1nc(-c2ccc(F)cc2)no1', 'O=C(O)c1cn(Cc2ccc(-n3ccc4ncccc43)cc2)c2cccc(F)c2c1=O', 'O=C(O)c1cn(Cc2ccc(-n3ccc4cccnc43)cc2)c2cccc(F)c2c1=O', 'COc1cccc(F)c1-c1ccc2c(=O)n(-c3cncc4ccccc34)c(=O)[nH]c2c1', 'O=C(O)c1cn(Cc2ccc(-c3ccc4[nH]ccc4c3)nc2)c2c(F)cccc2c1=O', 'N#Cc1ccc(N2C(=O)[C@@H]3[C@@H](c4ccccc4F)N(c4ccccc4)O[C@H]3C2=O)cc1', 'N#Cc1ccc(N2N=C3c4ccc(C(=O)O)cc4OC[C@@H]3[C@@H]2c2ccc(F)cc2)cc1', 'Cc1ccc(-c2nc3ncccc3o2)cc1NC(=O)c1ccc(-c2ccc(F)cc2)o1', 'O=c1[nH]c(-c2c(O)c3ccccc3n(Cc3ccccc3F)c2=O)nc2ccccc12', 'O=C(O)c1ccccc1/C=N/NC(=O)c1cc(-c2ccc(F)cc2)nc2ccccc12', 'O=C(O)c1ccc(N2C(=O)c3[nH]nc(-c4ccccc4)c3C2c2ccc(F)cc2)cc1', 'O=[N+]([O-])c1ccc(Oc2ccnc(N=C(c3ccccc3)c3ccccc3)c2)c(F)c1', 'O=C(NCc1ccco1)c1cc(-c2ccccc2)nc2onc(-c3ccccc3F)c12', 'O=C(O)c1ccc(N2C(=O)c3[nH]nc(-c4ccccc4)c3[C@H]2c2ccc(F)cc2)cc1', 'Cc1nc2cc(NC(=O)c3ccccc3-c3ncc(-c4ccccc4F)o3)ccc2o1', 'COc1ccc(-c2nn(-c3ccc(F)cc3)c3c2cnc2cc4c(cc23)OCO4)cc1', 'N#Cc1ccc(N2N=C3c4ccc(C(=O)O)cc4OCC3C2c2ccc(F)cc2)cc1', 'O=C1C(=O)N(c2ccc(F)cc2)C(c2cccnc2)/C1=C(/O)c1c[nH]c2ccccc12', 'N#Cc1cccc(COc2cccc(NC(=O)c3cc(-c4ccccc4F)on3)c2)c1', 'N#CC1=C[C@@H]2[C@@H]3C(=O)N(c4ccc(F)cc4)C(=O)[C@@H]3[C@@H](C(=O)c3ccccc3)N2C=C1', 'N#Cc1ccc(N2C(=O)[C@@H]3[C@@H](ON(c4ccccc4)[C@H]3c3ccccc3F)C2=O)cc1', 'N#Cc1ccc(N2C(=O)[C@H]3[C@@H](ON(c4ccccc4)[C@H]3c3ccccc3F)C2=O)cc1', 'O=c1[nH]c(=O)c2cnc(-c3cc(OCc4ccccc4)cc4ccccc34)c(F)c2[nH]1', 'O=C(O)c1cn(Cc2ccc(-n3cnc4ccccc43)cc2)c2cccc(F)c2c1=O', 'CC1=C(C#N)C(=O)N(Cc2cccnc2)C(=O)/C1=C/c1ccc(-c2ccc(F)cc2)o1', 'N#CC(NC(=O)c1ccc(CN2C(=O)c3ccccc3C2=O)cc1)c1ccccc1F', 'Cc1ccc(-c2cc(C(=O)Nc3nc(-c4ccccc4F)co3)c3ccccc3n2)o1', 'Cn1c(=O)oc2ccc(NC(=O)c3cc(-c4ccccc4)nc4cc(F)ccc34)cc21', 'Cc1cc(NC(=O)c2ccc(C#N)cc2F)ccc1NC(=O)c1cc2ccccc2o1', 'O=C(/C=C/c1cn(-c2ccccc2)nc1-c1cccc([N+](=O)[O-])c1)c1ccc(F)cc1', 'O=C(NCc1cccc(F)c1)c1ccc2nc(-c3ccco3)c(-c3ccco3)nc2c1', 'COc1cccc2oc(-c3nc4ccccc4c(=O)n3N=Cc3cccc(F)c3)cc12', 'O=C(NCc1ccco1)c1cc(-c2ccc(F)cc2)nc2onc(-c3ccccc3)c12', 'O=C1C(=O)N(c2nc3ccccc3[nH]2)C(c2ccc(F)cc2)/C1=C(\\\\O)c1ccccc1', 'O=C1NC(=O)C(c2cc(F)cc3ccoc23)=C1c1c[nH]ccn2c3c(cccc13)CC2', 'O=C(N/N=C/c1ccc2c(c1)OCO2)c1cc(-c2ccc(F)cc2)nc2ccccc12', 'COc1cc(/C=C(\\\\C#N)c2nc3ccccc3[nH]2)ccc1OC(=O)c1ccc(F)cc1', 'O=C(O)c1ccc(Cn2cnc3cnc(C#CCc4cccc(F)c4)cc3c2=O)cc1', 'O=C(N/N=C\\\\c1ccc2c(c1)OCO2)c1cc(-c2ccc(F)cc2)nc2ccccc12', 'COc1ccc(/C=C/C(=O)Nc2ccc(-c3nc4ccccc4o3)cc2F)cc1C#N', 'O=C(/C=C/c1cn(-c2ccccc2)nc1-c1ccc(F)cc1)c1ccc([N+](=O)[O-])cc1', 'COc1ccc2c(=O)n(CC(=O)c3ccccn3)c(C#N)c(-c3cccc(F)c3)c2c1', 'O=C1NC(=O)c2c1c1c3ccc(F)cc3[nH]c1c1c2c2cccc3c2n1C(CO)CC3', 'CC1Cc2cccc3c2N1C=CN=C3C1=C(c2cc(F)cc3ccoc23)C(=O)NC1=O', 'N#CC1=C[C@@H]2[C@@H]3C(=O)N(c4ccc(F)cc4)C(=O)[C@H]3[C@@H](C(=O)c3ccccc3)N2C=C1', 'O=C(Nc1ccc(F)cc1)C(c1ccccc1)n1cnc2c(oc3ccccc32)c1=O', 'O=C(NC1N=C(c2ccccc2F)c2ccccc2NC1=O)c1cc2ccccc2o1', 'O=C1C(=O)N(c2cccc(F)c2)C(c2ccccn2)/C1=C(/O)c1c[nH]c2ccccc12', 'COc1ccc(C2=C(Nc3cccc(F)c3)C(=O)N(c3ccc(C#N)cc3)C2=O)cc1', 'O=C(O)c1cc2c([nH]c3cc(F)ccc32)c(-c2ccc(OCc3ccccn3)cc2)n1', 'N#Cc1ccc(N2N=C3c4ccc(C(=O)O)cc4OC[C@H]3C2c2ccc(F)cc2)cc1', 'O=C1CC(c2cccc(-c3ccno3)c2)=Nc2cc(O)c(-c3ccccc3F)cc2N1', 'O=C(C1=NN(c2ccccc2)C2C(=O)N(c3ccc(F)cc3)C(=O)C12)c1ccccc1', 'CC(C(=O)c1c(-c2ccc(F)cc2)nn2ccccc12)N1C(=O)c2ccccc2C1=O', 'O=C(C=Cc1cn(-c2ccccc2)nc1-c1cccc([N+](=O)[O-])c1)c1ccc(F)cc1', 'O=C(NCc1ccc(F)cc1)c1ccc2nc(-c3ccco3)c(-c3ccco3)nc2c1', 'O=C1c2ccccc2C(=O)c2c1n[n+]([O-])n2CCc1ccc(-c2ccc(F)cc2)cc1', 'O=C(O)c1ccc(N2C(=O)c3[nH]nc(-c4ccccc4)c3[C@H]2c2cccc(F)c2)cc1', 'O=C(O)c1ccc(N2C(=O)c3[nH]nc(-c4ccccc4)c3C2c2cccc(F)c2)cc1', 'COc1ccc2cc1Oc1ccccc1C1c3c-2n[nH]c3C(=O)N1c1ccc(F)cc1', 'O=C(NCc1ccco1)c1cc(-c2ccccc2)nc2onc(-c3ccc(F)cc3)c12', 'O=C1C(=O)N(c2nc3ccc(F)cc3[nH]2)C(c2ccccc2)/C1=C(\\\\O)c1ccccc1', 'COc1cccc(NC2=C(c3ccc(F)cc3)C(=O)N(c3ccc(C#N)cc3)C2=O)c1', 'C[C@H](OC(=O)c1ccccc1-c1ccccc1C#N)c1nnc(-c2ccc(F)cc2)o1', 'Cc1c(NC(=O)c2ccc(-c3ccc(F)cc3)o2)cccc1-c1nc2ncccc2o1', 'COc1cccc(-n2cc(-c3nc(-c4cccc(F)c4)no3)c3ccccc3c2=O)c1', 'N#C/C(=C/c1ccc(OCc2cccc(C(=O)O)c2)cc1)c1nc2ccc(F)cc2[nH]1', 'Cc1ccccc1Oc1cc(-n2c(=O)cc(-c3ccccc3)[nH]c2=O)c(F)cc1C#N', 'O=C(O)c1cc2c([nH]c3cc(F)ccc32)c(-c2ccc(OCc3cccnc3)cc2)n1', 'Cc1cc2c(cc1Oc1cncnc1)-c1c(-c3ccccc3F)cnc(C(=O)O)c1C2', 'O=C(NCc1ccc(F)cc1)c1ccc2nc(-c3ccoc3)c(-c3ccoc3)nc2c1', 'Cn1c(C(=O)Nc2ccc(C#N)cc2C(=O)O)cc2ccc(-c3ccccc3F)cc21', 'O=C(NCc1ccccc1F)c1ccc2nc(-c3ccco3)c(-c3ccco3)nc2c1', 'O=C(O)c1cn(Cc2ccc(-c3ccc4[nH]ccc4c3)cn2)c2c(F)cccc2c1=O', 'COc1ccccc1C1=C(Nc2ccc(F)cc2)C(=O)N(c2ccc(C#N)cc2)C1=O', 'Cc1cccc2c1NC(=O)[C@H](N1C(=O)c3ccccc3C1=O)N=C2c1ccccc1F', 'O=C(O)c1c(-c2ccc[nH]c2=O)c2c3ncccc3ccc2n1Cc1ccccc1F', 'C#Cc1ccc(NC(=O)c2nc3ccccc3nc2Oc2ccc(F)cc2OC)cc1', 'N#Cc1ccc(C2C3C(=O)N(c4ccc(F)cc4)C(=O)C3ON2c2ccccc2)cc1', 'O=C(O)c1ccc(N2C(=O)c3[nH]nc(-c4ccccc4)c3C2c2ccccc2F)cc1', 'O=C(O)c1ccc(C=NNC(=O)c2cc(-c3ccc(F)cc3)nc3ccccc23)cc1', 'CCc1nc2ccc(F)cn2c1C(=O)Nc1ccc2c(c1)C(=O)c1ccccc1C2=O', 'O=C1C(=O)N(c2ccc(F)cc2)C(c2c[nH]c3ccccc23)/C1=C(\\\\O)c1ccncc1', 'O=C(/C=C/c1cn(-c2ccccc2)nc1-c1ccc(F)cc1)c1cccc([N+](=O)[O-])c1', 'O=C(NN=Cc1ccc2c(c1)OCO2)c1cc(-c2ccc(F)cc2)nc2ccccc12', 'Cc1nc2ccccc2c(=O)n1-c1ccc(C(=O)OCc2cc(C#N)ccc2F)cc1', 'N#CC1=C[C@@H]2[C@H]3C(=O)N(c4ccc(F)cc4)C(=O)[C@H]3[C@@H](C(=O)c3ccccc3)N2C=C1', 'N#Cc1ccc(N2C(=O)[C@H]3[C@@H](c4ccccc4F)N(c4ccccc4)O[C@H]3C2=O)cc1', 'Cc1cc(-c2nc3ncccc3o2)ccc1NC(=O)c1ccc(-c2cccc(F)c2)o1', 'COc1cc(/C=C(\\\\C#N)c2nc3ccccc3[nH]2)ccc1OC(=O)c1ccccc1F', 'O=C(/C=C/c1cn(-c2ccccc2)nc1-c1ccc(F)cc1)c1ccccc1[N+](=O)[O-]', 'O=C1C(=O)N(c2ccc(F)cc2)C(c2ccncc2)/C1=C(/O)c1c[nH]c2ccccc12', 'COc1cccc(-c2noc(-c3cn(-c4cccc(F)c4)c(=O)c4ccccc34)n2)c1', 'Cc1ccc(O)c(C(=O)c2cnc3c(c2)c(-c2ccc(F)cc2)c(C#N)c(=O)n3C)c1', 'N#Cc1ccc(N2C(=O)[C@H]3[C@H](ON(c4ccccc4)[C@H]3c3ccccc3F)C2=O)cc1', 'N#C/C(=C/c1ccc(OCc2ccc(C(=O)O)cc2)cc1)c1nc2ccc(F)cc2[nH]1', 'O=C(O)c1ccc(N2C(=O)c3[nH]nc(-c4ccccc4)c3[C@@H]2c2ccccc2F)cc1', 'Cc1cccc2nc(CN3C(=O)c4ccccc4C3=O)c(-c3cccc(F)c3)c(=O)n12', 'O=C1C(=O)N(c2nc3ccccc3[nH]2)C(c2ccccc2F)/C1=C(\\\\O)c1ccccc1', 'O=C1/C(=C/c2ccco2)N=C2C(Cc3ccccc3)=NC(c3cc(O)cc(F)c3)=CN12', 'Cn1c(C(=O)n2nc(-c3ccc(C(=O)O)cc3F)c3ccccc32)cc2ccccc21', 'N#Cc1ccc([C@H]2[C@H]3C(=O)N(c4ccc(F)cc4)C(=O)[C@@H]3ON2c2ccccc2)cc1', '[C-]#[N+]c1ccc(N2N=C3c4ccc(C(=O)O)cc4OCC3C2c2ccc(F)cc2)cc1', 'O=C(N[C@H]1N=C(c2ccccc2F)c2ccccc2NC1=O)c1occ2ccccc12', 'O=C(NCc1ccco1)c1cc(-c2ccccc2F)nc2onc(-c3ccccc3)c12', '[N-]=[N+]=C(C(=O)OCC#Cc1ccccc1NC(=O)c1ccccc1)c1ccc(F)cc1', 'O=C1c2nc3cc4c(cc3c(-c3ccc(F)cc3)c2CN1Cc1ccncc1)OCO4', 'Cc1ccc(-c2nc3ncccc3o2)cc1NC(=O)c1ccc(-c2cccc(F)c2)o1', 'O=C(C1=NN(c2ccccc2)[C@@H]2C(=O)N(c3ccc(F)cc3)C(=O)[C@@H]12)c1ccccc1', 'COc1ccc(F)c(-c2ccc3c(=O)n(-c4cncc5ccccc45)c(=O)[nH]c3c2)c1', 'N#Cc1ccc(N2C(=O)[C@@H]3[C@H](ON(c4ccccc4)[C@H]3c3ccccc3F)C2=O)cc1', 'O=C1/C(=C/c2ccc(F)cc2)N=C(/C=C/c2ccc([N+](=O)[O-])cc2)N1c1ccccc1', 'O=C(c1ccc(F)cc1)c1ccc(Oc2ccc(C(=O)Nc3ccccc3)nn2)cc1', 'Cc1cc(/C(O)=C2/C(=O)C(=O)N(c3ccc(C#N)cc3)C2c2cccnc2)ccc1F', 'O=C1C(=O)N(c2nc3ccccc3[nH]2)C(c2ccccc2)/C1=C(\\\\O)c1ccc(F)cc1', 'COc1ccc(C(=O)c2cn(Cc3cccc(C#N)n3)c3ccccc3c2=O)cc1F', 'C[C@@H](OC(=O)c1ccccc1-c1ccccc1C#N)c1nnc(-c2ccc(F)cc2)o1', 'COC(=O)c1c(C)nc2ccn(-c3ccccc3C#N)c(=O)c2c1-c1ccc(F)cc1', 'N#Cc1ccc([C@@H]2[C@@H]3C(=O)N(c4ccc(F)cc4)C(=O)[C@H]3ON2c2ccccc2)cc1', 'N#Cc1ccc(N2C(=O)C3ON(c4ccccc4)C(c4ccccc4F)C3C2=O)cc1', 'O=C(/C=C\\\\c1cn(-c2ccccc2)nc1-c1cccc([N+](=O)[O-])c1)c1ccc(F)cc1', 'O=C1C(=O)N(c2cccc(F)c2)C(c2cccnc2)/C1=C(/O)c1c[nH]c2ccccc12', 'COc1ccccc1NC1=C(c2ccc(F)cc2)C(=O)N(c2ccc(C#N)cc2)C1=O', 'O=C(O)c1ccc(Cn2cnc3cnc(C#CCc4ccc(F)cc4)cc3c2=O)cc1', 'N#Cc1ccc([C@@H]2[C@@H]3C(=O)N(c4ccc(F)cc4)C(=O)[C@@H]3ON2c2ccccc2)cc1', 'C=CCn1cc(C(=O)c2cc(F)ccc2OCc2ccc(C#N)cc2)cc(C#N)c1=O', 'COc1ccccc1C1=C(Nc2cccc(F)c2)C(=O)N(c2ccc(C#N)cc2)C1=O', 'O=C(C1=NN(c2ccccc2)[C@H]2C(=O)N(c3ccc(F)cc3)C(=O)[C@@H]12)c1ccccc1', 'COc1ccc(NC2=C(c3ccc(F)cc3)C(=O)N(c3ccc(C#N)cc3)C2=O)cc1', 'O=C(O)c1cn(Cc2ccc(-n3ccc4cnccc43)cc2)c2cccc(F)c2c1=O', 'O=C1COc2ccc(NC(=O)c3cc(-c4ccc(F)cc4)nc4ccccc34)cc2N1', '[C-]#[N+]c1ccc(N2N=C3c4ccc(C(=O)O)cc4OC[C@H]3[C@H]2c2ccc(F)cc2)cc1', 'N#Cc1ccc(N2N=C3c4ccc(C(=O)O)cc4OC[C@H]3[C@H]2c2ccc(F)cc2)cc1', 'COc1ccc(C2=C(Nc3ccc(F)cc3)C(=O)N(c3ccc(C#N)cc3)C2=O)cc1', 'COc1ccc(F)c(C2C3=C(COC3=O)Nc3c2c2cccnc2c2ncccc32)c1', 'C1=CC=C2C(=C1)C(=CN2)C[C@@H](C(=O)O)NC(=O)CC[C@H](C(=O)O)N', 'CCOc1ccc(-c2noc(CCC(=O)N[C@@H](C)C(=O)O)n2)cc1', 'O=C(Nc1ccc(N2CCOCC2=O)cc1)C1CCCN1C(=O)O', 'COC(=O)[C@@H](CNC(=O)Nc1cc(C)on1)Cc1ccc(O)cc1', 'COc1ccc(CNC(=O)[C@H](C)OC(=O)C2=NNC(=O)CC2)cc1', 'Cc1oc(-c2ccco2)nc1CC(=O)NCCCN1CCOC1=O', 'COc1ccccc1[C@@H](CNC(=O)C(=O)Nc1cc(C)on1)OC', 'C[C@H](NC(=O)c1c(O)c2cc3c(n2n(C)c1=O)CCCC3)C(=O)O', 'COC(=O)C1=C(C)N(C(C)C)C(=O)N[C@H]1c1cccc([N+](=O)[O-])c1', 'CC1(C)OC2C(CO)OC(N=C(NC#N)Oc3ccccc3)C2O1', 'O=C(c1cc([N+](=O)[O-])cc([N+](=O)[O-])c1)N1CCC[C@H]2CCCC[C@@H]21', 'Cc1noc([C@@H](C)OC(=O)[C@@H]2CCCCN2C(=O)c2ccco2)n1', 'COC(=O)c1ccc(N/C=C(/C#N)C(=O)N(CCO)CCO)cc1', 'COC(=O)N1CCN(C(=O)c2ccc3c(c2)NC(=O)CCO3)CC1', 'CCOC(=O)C(=[N+]=[N-])[C@H]1C[C@@H](C(=O)OCC)N(c2ccccc2)O1', 'CCCC(NC(=O)c1ccc(N2NC(=O)CCC2=O)cc1)C(=O)O', 'CCn1c(=O)[nH]c2cc(C(=O)NC(C(=O)O)C(C)C)ccc2c1=O', 'CC(C)C(NC(=O)CCn1c(=O)[nH]c2ccccc2c1=O)C(=O)O', 'CCOC(=O)C1=C(C)N(C)C(=O)N(C)C1c1cccc([N+](=O)[O-])c1', 'COc1ccc(C(=O)CCCC(=O)NN2CC(=O)N(C)C2=O)cc1', 'O=C(c1cccc([N+](=O)[O-])c1)N1CCN(C(=O)C2CCCO2)CC1', 'CC(C)Oc1ccc(C(=O)N2CC(CN3C(=O)COC3=O)C2)cn1', 'O=C(O)CC1(NC(=O)CCc2nc(-c3ccco3)no2)CCCC1', 'CC(CN(C)C(=O)c1cccc(C2(C)NC(=O)NC2=O)c1)C(=O)O', 'O=C(CO)Nc1ccc2oc(=O)n(CC(=O)N3CCCCC3)c2c1', 'CCCc1nc2ccccn2c1C(=O)NC(CCC(=O)O)C(=O)O', 'O=C(O)CNC(=O)CCCCCn1c(=O)[nH]c2ccccc2c1=O', 'COCCc1nc(CNC(=O)c2ccc(C#CC(C)(C)O)o2)no1', 'CCOC(=O)c1noc(-c2ccc(NC(=O)OC(C)(C)C)cc2)n1', 'COc1ccccc1C(=O)N1CCN2C(=O)[C@H](CO)NC(=O)[C@H]2C1', 'COC(=O)c1cccc(NC(=O)NC2=C(CN(C)C)C(=O)OC2)c1', 'CC(C)CCN(C(=O)O)C(=O)N(C)C(=O)c1nc2ccccc2o1', 'O=[N+]([O-])c1cccc(CCc2nc(COC3CCOCC3)no2)c1', 'CC(=O)NNC(=O)COCC(C)(C)N1C(=O)c2ccccc2C1=O', 'CC(C)(C)NC(=O)CCCN1C(=O)c2cccc([N+](=O)[O-])c2C1=O', 'Cc1nc(COc2cccc(C(=O)N(C)CC(C)C(=O)O)c2)no1', 'NC(=O)C1=NC(c2ccccc2)=CN([C@@]2(O)CO[C@H](CO)[C@H]2O)C1', 'COC(=O)c1cc(N[C@@H](C)c2c(C)noc2C)cc(C)c1[N+](=O)[O-]', 'Cc1cc(NC(=O)[C@H](C)Oc2cccc(C(=O)NCCO)c2)no1', 'COc1ccc(C(=O)N(C)CC(=O)Nc2cc(C)on2)c(OC)c1', 'O=C(/C=C/c1cc([N+](=O)[O-])cc2c1OCOC2)NN1CCCCC1', 'CC1CCN(C(=O)CN2C(=O)COc3ccc([N+](=O)[O-])cc32)CC1', 'NCCCCNC(=O)NCc1cc(=O)oc2cc3c(cc12)OCO3', 'NC1(C(=O)C(O)c2ccccc2)C=C([N+](=O)[O-])C=CC1NCCO', 'NC(Cc1ccccc1)C(=O)C(N)(C(=O)O)C(=O)C1CCC(=O)N1', 'CNC(=O)C(C)N1C(=O)NC(C)(Cc2ccc3c(c2)OCO3)C1=O', 'COC(=O)/C=C/c1ccc(N2CCCC(C(N)=O)C2)c([N+](=O)[O-])c1', 'CC1=NO[C@H]2OC(=O)N(NC(=O)OC(C)(C)C)[C@@]12c1ccccc1', 'CC(=O)OC[C@@H]1O[C@H](n2nc3ccccc3n2)CC[C@@H]1OC(C)=O', 'CCCCC(C(=O)O)N1C(=O)C=CC1=O.NC(=O)c1cccnc1', 'CC(C)(NC(=O)[C@@H]1CC(=O)N(c2ccc3c(c2)OCO3)C1)C(N)=O', 'CCOC(=O)N(C(=O)C(C)C)c1nc2ccccc2n1C(=O)OC', 'COc1ccc(OC)c(C(C)NC(=O)c2c(C(=O)O)cnn2C)c1', 'O=C(NC[C@H]1CCCO1)[C@@H]1CC(=O)N(c2ccc([N+](=O)[O-])cc2)C1', 'COc1ccc(N(CC(=O)Nc2cc(C)on2)C(C)=O)c(OC)c1', 'CO[C@@]12[C@H](COC(N)=O)C3=C(C(=O)C(C)=C(C)C3=O)N1C[C@@H]1N[C@@H]12', 'COc1cc(C(=O)Nc2cc(C(=O)O)nn2C)ccc1OC(C)C', 'COc1cc(NC(=O)c2cc3n(n2)CCCO3)cc(OC)c1OC', 'COc1cc([C@@H]2NC(=O)NC3=C2C(=O)N(CCCO)C3)ccc1O', 'NC(C(=O)OCc1ccccc1)C(=O)N1C[C@@H]2C[C@H]1CN2C(=O)O', 'COc1ccc2c(c1)n(C)c(=O)c(=O)n2C1CCN(C(=O)O)CC1', 'CC(=O)NNC(=O)COC(=O)[C@H](C)NC(=O)/C=C/c1ccccc1', 'CCCOC(=O)C1=C(C)N(C)C(=O)N[C@H]1c1ccccc1[N+](=O)[O-]', 'CC1OCC2OC(C)C(N=[N+]=[N-])[C@@H](OC(=O)c3ccccc3)[C@H]2O1', 'Cc1ccc(C(CNC(=O)C(=O)Nc2ccon2)OCCO)cc1', 'C[C@@H](NC(=O)c1ccc([N+](=O)[O-])cc1[N+](=O)[O-])[C@@H]1C[C@H]2CC[C@H]1C2', 'CCOC(=O)NC(=O)C(/C=N/c1ccc(NC(C)=O)cc1)=C(/C)O', 'CC1(C2CC2)NC(=O)N(CCCOc2ccc([N+](=O)[O-])cc2)C1=O', 'CCc1ccc(-[n+]2cc([N-]C(=O)OC(C)(C)C)on2)cc1.O=C=O', 'COC(=O)C=Cc1ccc(N2CC(NC3COC3)C2)c([N+](=O)[O-])c1', 'C[C@@H]1N=C(N2CCN(C(=O)O)C(C(=O)O)C2)O[C@H]1c1ccccc1', 'CCN1C[C@H](C)n2c(c(OC)c3c(=O)[nH]cc(C(=O)OC)c32)C1=O', 'COC(=O)/C=C/c1ccc(N2CC(NC3COC3)C2)c([N+](=O)[O-])c1', 'COCCN1CC(C(=O)Nc2oc(C)c(C(C)=O)c2C#N)CC1=O', 'Nc1ccc([N+](=O)[O-])cc1C(=O)N1C(C(=O)O)CC2CCCCC21', 'COCCNC(=O)c1ccc(NC2=CC(=O)N(CCO)C2=O)cc1', 'C[C@H](CN(C)C(=O)c1ccc([C@@]2(C)NC(=O)NC2=O)cc1)C(=O)O', 'CCCC1(c2ccccc2)NC(=O)N(CC(=O)NCC(=O)O)C1=O', 'Cc1ccc(NC(=O)CCC(=O)NNC(=O)/C=C/C(=O)O)cc1C', 'CCNC(=O)CN1C(=O)N[C@@](C)(c2ccc3c(c2)OCCO3)C1=O', 'CCCC[C@H](NC(=O)c1noc(-c2cccc(OC)c2)n1)C(=O)O', 'O=C(O)C[C@@H]1CN(C(=O)c2ccc(N3CCNC3=O)cc2)CCO1', 'C[C@H]1CCCCN1C(=O)CN1C(=O)C(=O)N(Cc2ccco2)C1=O', 'CCC(O)c1ccc(N)cc1.Nc1ccc(C(=O)O)cc1[N+](=O)[O-]', 'Cc1cc(C(=O)NCC(C)(O)c2ccc(C)o2)c(N)c([N+](=O)[O-])c1', 'CC(=O)NCC1CN(c2ccc3c(c2)CC(CO)N3C=O)C(=O)O1', 'C[C@@H]1CN(C(=O)Cn2c(=O)n(C)c3ccccc32)CC(C(=O)O)O1', 'CNC(=O)C1(C(=O)Nc2ccc(C(=O)NCCC(=O)O)cc2)CC1', 'Cc1cc(-n2c(C)cc(C(=O)N3CCOC[C@@H]3C(=O)O)c2C)no1', 'CC1(C)OC2C(CO)OC(/N=C(\\\\NC#N)Oc3ccccc3)C2O1', 'CNC(=O)c1c(O)c(O)c(C(=O)N(C)C)n1-c1ccc(OC)cc1', 'Cc1ccc(C(=O)NCC(=O)OC(C)C(=O)N2CCNC2=O)cc1', 'O=C(COc1ccccc1[N+](=O)[O-])N1CCN(C(=O)C2CC2)CC1', 'O=C(O)CO[C@@H]1COCC[C@H]1NC(=O)Cn1ncc2ccccc21', 'COc1cc(CNC(=O)Nc2c[nH]ccc2=O)cc(OC)c1OC', 'COc1ccc(C)cc1NC(=O)[C@@H](C)OC(=O)C1=NNC(=O)CC1', 'CC(=O)c1c(C)[nH]c(C(=O)O[C@H](C)C(=O)Nc2cc(C)on2)c1C', 'Cc1ccc(NC(=O)CCC(=O)NNC(=O)/C=C/C(=O)O)c(C)c1', 'NC(=O)N/N=C1\\\\CCC(OC(=O)c2ccccc2)CC1CC(=O)O', 'COC(=O)c1cn(CC2CCC(C(=O)O)CC2)cc2c(=O)[nH]nc1-2', 'Cc1cc(-c2cnoc2C2CCCN(C(=O)CCC(=O)O)C2)on1', 'CCOC(=O)NC(=O)CN1C(=O)N[C@](C)(c2ccc(C)cc2)C1=O', 'Cc1ccc([N+](=O)[O-])cc1-c1cc(CNC(=O)OC(C)(C)C)on1', 'COC(=O)c1cccc(NC(=O)CCN2C(=O)NC(C)(C)C2=O)c1', 'CCNC(N)=O.CCc1nc2cc3c(cc2cc1C(=O)O)OCO3', 'CCCC(NC(=O)c1ccc2c(=O)n(CC)c(=O)[nH]c2c1)C(=O)O', 'CCN1C[C@]2([N+](=O)[O-])CC=C(Oc3ccccc3)[C@]([N+](=O)[O-])(C1)C2', 'CCCN1C(=O)C(=O)N(CC(=O)NCc2ccccc2OC)C1=O', 'CC(=O)N1CCC2(CC1)OC(=O)C(C)=C2C(=O)Nc1cc(C)on1', 'COc1ccc(OC)c(-c2cc(C(=O)NCCCC(N)=O)no2)c1', 'CC(O)(CNC(=O)CCNc1ccccc1[N+](=O)[O-])c1ccco1', 'COc1ccc(OC)c(/N=C(\\\\C)c2c(O)n(C)c(=O)n(C)c2=O)c1', 'COC(=O)NN(C(C)=O)[C@@H]1c2cc(C#N)ccc2OC(C)(C)[C@H]1O', 'CCOC(=O)N1CCCC(C(=O)Nc2ccc3oc(=O)[nH]c3c2)C1', 'CCOC(=O)C(CCn1cc([N+](=O)[O-])cn1)c1ccc(OC)cc1', 'CCC(NC(=O)COCc1nc(C)no1)(C(=O)O)c1ccccc1', 'NC(Cc1c[nH]c2ccccc12)C(=O)NC(CCC(=O)O)C(=O)O', 'CCn1c(=O)n(CC(=O)N2CCOCC2C(=O)O)c2ccccc21', 'CCOC(=O)C1=C(COc2ccc(C(=O)NC)cc2)NC(=O)NC1', 'COc1nn(C)cc1C(=O)NCC(O)c1ccc2c(c1)OCCO2', 'CC(C)(C)OC(=O)N1CCN(c2ccc3[nH]c(=O)oc3c2)C(=O)C1', 'COc1cc(N2CC(c3nc(C)no3)CC2=O)cc(OC)c1OC', 'Cc1ccc([N+](=O)[O-])c(OCC(=O)Nc2cc(C(C)(C)C)no2)c1', 'CC1(C)C(=O)NC(=O)N1CC(=O)N[C@@H](Cc1ccccc1)C(=O)O', 'CCCOC(=O)C1=C(C)N(C)C(=O)NC1c1ccccc1[N+](=O)[O-]', 'CC(C)[C@@H](NC(=O)CCn1c(=O)[nH]c(=O)c2ccccc21)C(=O)O', 'CC1CN(Cc2cc([N+](=O)[O-])cc3ccoc23)C(C)(C(=O)O)CN1', 'CC(C)C(OC(=O)c1ccc2c(c1)CCC(=O)N2)C(=O)NC(N)=O', 'COc1cc(OCC#N)cc(C(=O)NC2CCN(C(=O)O)CC2)c1', 'CCOC(=O)C1=C(C)N=C(OC)N(C)C1c1ccc([N+](=O)[O-])cc1', 'CCn1cc(C(=O)OCN(C)C(=O)OC)c(=O)c2ccc(C)nc21', 'COc1ccc(N2C(=O)CC(N3CCN(C(=O)O)CC3)C2=O)cc1', 'Cc1c(CO)c(=O)n(-c2ccc(C[C@H](N)C(=O)O)cc2)c(=O)n1C', 'COC(=O)[C@@H](NC(=O)CNN1C(=O)c2ccccc2C1=O)C(C)C', 'CC(C)N1C(=O)C(c2ccc([N+](=O)[O-])cc2)=C(N(C)CCO)C1=O', 'CCC1(CC)NC(=O)N(CC(=O)Nc2ccc3c(c2)OCO3)C1=O', 'N#CC1(NC(=O)COC(=O)CNC(=O)c2ccco2)CCCCC1', 'CCOC(=O)C(C)(C)c1cc(C(=O)OC)c(NC(=O)CC#N)cn1', 'C[C@H](NC(=O)COC(=O)CN1C(=O)CN(C)C1=O)c1ccccc1', 'CCc1nc(COc2ccc(C(=O)NCCCC(=O)O)cc2)no1', 'C=C(C)ON=C1CCC(NC(=O)Oc2ccc([N+](=O)[O-])cc2)CC1', 'O=C(NC1CC1)c1ccc(N2CCC(C(=O)O)CC2)c([N+](=O)[O-])c1', 'C[C@@H]1Oc2c(cccc2C(=O)NC[C@@H]2CC[C@@H](C(N)=O)O2)NC1=O', 'CC(C)(CCNC(=O)Cn1ccc2cc([N+](=O)[O-])ccc21)C(=O)O', 'COC(=O)c1c(C)[nH]c(C(=O)NCC(=O)NCc2ccco2)c1C', 'CC(C)C(NC(=O)c1cccc(C2(C)NC(=O)NC2=O)c1)C(=O)O', 'O=c1ccn([C@@H]2O[C@H](CO)[C@H](NCc3ccccc3)[C@H]2O)c(=O)[nH]1', 'COC1=CC[C@]2([N+](=O)[O-])CN(Cc3ccccc3)C[C@@]1([N+](=O)[O-])C2', 'CN(C(=O)c1coc(=O)[nH]1)C1CCC(NC(=O)c2ccco2)CC1', 'CCOC(=O)c1n[nH]nc1-c1cccc(OCCC2OCCO2)c1', 'O=CNCCCNC(=O)C1CC(=O)N(c2ccc3c(c2)OCO3)C1', 'COc1cc(C(=O)O)cc(NC(=O)c2cc(C(C)C)[nH]n2)c1OC', 'CC(C)(C)OC(=O)N1CC2ON=C(c3ccc([N+](=O)[O-])cc3)C2C1', 'C=CCN1C(=O)NC(c2ccc(OC)c(OC)c2)C([N+](=O)[O-])=C1C', 'COc1ccc(OCCNC(=O)CC(=O)Nc2cc(C)on2)cc1', 'CC[C@@H](C)[C@H](NC(=O)Cn1nc(-c2ccco2)ccc1=O)C(=O)O', 'COCCc1noc([C@H](C)NC(=O)Cc2ccc3c(c2)OCO3)n1', 'C[C@H](OC(=O)c1ccc(NC2CC2)c([N+](=O)[O-])c1)C(=O)NC1CC1', 'CC(=O)NC[C@H]1CN(c2ccc3c(c2)CCN3C(=O)CO)C(=O)O1', 'CC(=O)N[C@@H](Cc1ccccc1)C(=O)[C@H]1C(=O)N(N)[C@H]1OC(C)=O', 'CCOC(=O)CN(C)C(=O)Cn1c(-c2ccccc2C)noc1=O', 'CC[C@]1(c2ccccc2)NC(=O)N(CC(=O)NCCC(=O)O)C1=O', 'COc1ccc(C(=O)N2CCOC[C@@H]2c2nnc(C)o2)c(OC)c1', 'CC[C@H](C)NC(=O)COC(=O)Cn1[nH]c(=O)c2ccccc2c1=O', 'CNC(=O)Cn1ccc2ccc(NC(=O)C(C)(OC)C(=O)O)cc21', 'COc1cc(C)c(O)c(C)c1.NNC(=O)c1ccccc1[N+](=O)[O-]', 'COC(=O)Nc1ccc(Nc2cc(OC)c(OC)c(OC)c2)nc1', 'Cc1ccc(C(C)(O)CNC(=O)NCc2cccc([N+](=O)[O-])c2)o1', 'CCOc1ccc(/C=N\\\\OCC(=O)Nc2cc(C)on2)cc1OC', 'COCCn1c(C)cc(C(=O)Cn2cc([N+](=O)[O-])ccc2=O)c1C', 'O=C(Nc1cccc(C(=O)N2CCOCC2C(=O)O)c1)NC1CC1', 'CC(C)[C@H](NC(=O)CCn1[nH]c(=O)c2ccccc2c1=O)C(=O)O', 'CC(=O)NC[C@H]1CN(c2ccc3c(c2)OC(C)C(=O)N3C)C(=O)O1', 'CC(C#N)NC(=O)C(Cc1ccc(O)cc1)NC(=O)CCC(=O)O', 'C[C@@H]1CN([C@@H]2CC(=O)N(c3ccc([N+](=O)[O-])cc3)C2=O)C[C@H](C)O1', 'CCOC(=O)CCC(=O)NC(=CC(=O)NCC=O)c1ccccn1', 'COc1cc(C2NC(=O)NC3=C2C(=O)N(C)C3)cc(OC)c1OC', 'CC(=O)NC[C@H]1CN(c2ccc3c(c2)CC(CO)N3C=O)C(=O)O1', 'Cc1nc(COc2cccc(C(=O)N(C)C(C)(C)C(=O)O)c2)no1', 'COC(=O)c1ncn([C@@H]2CO[C@H](COCc3ccccc3)[C@@H]2O)n1', 'CCN(Cc1ccc2c(c1)OCO2)C(=O)CC[C@@H]1NC(=O)NC1=O', 'COc1ccc(OC)c(C2NC(=O)NC3=C2C(=O)N(CCO)C3)c1', 'CCOc1ccc(NC(=O)CN2C(=O)C(=O)N(C(C)C)C2=O)cc1', 'CC/C(=N\\\\Cc1cc(OC)cc(OC)c1)C1C(=O)NC(=O)NC1=O', 'Cc1nc(C)c2ccn([C@@H]3O[C@H](C(=O)O)[C@H]4OC(C)(C)O[C@H]43)c2n1', 'COc1ccc(Cn2c(=O)c(CC(=O)CO)c(N)n(C)c2=O)cc1', 'COCCC(NC(=O)c1cc(C2CC2)nc2onc(C)c12)C(=O)O', 'CC(C)c1nc(C2CCCN(C(=O)c3ccc(C(=O)O)o3)C2)no1', 'Cc1ccc(-n2nc(C3CC3)cc2NC(=O)OCC(O)(O)O)cc1', 'Cn1c(=O)n(C2CCC(=O)NC2=O)c2cccc(COCCO)c21', 'CCC(C)(C)c1ccc(OCn2cc([N+](=O)[O-])c(C(=O)O)n2)cc1', 'COc1ccc(CCNC(=O)c2nn(C)cc2C(=O)O)cc1OC', 'COC(=O)N1CCCN(C(=O)Cc2ccc3oc(=O)[nH]c3c2)CC1', 'O=C(Cn1nc(-c2ccco2)oc1=O)N1CCO[C@@H]2CCCC[C@@H]21', 'CCOC(C)c1noc(CN(C)C(=O)c2cccc(C(=O)O)c2)n1', 'O=C(N[C@@H]1CN2CCC1CC2)c1noc2ccc(O)cc12.O=CO', 'Cc1ccc(OC(=O)N[C@H]2C[C@H]3C(=O)N[C@@H](CO)C(=O)N3C2)cc1', 'CCOC(=O)c1c(C)oc(Nc2ccc(C)nn2)c1C(=O)OCC', 'COc1cccc2c1ccn2CCC(=O)NCC(=O)NCC(=O)O', 'Cc1ccc(-c2cc(C(=O)NC3(CC(=O)O)CCOCC3)n[nH]2)o1', 'CC1=C(C(=O)OC(C)(C)C)[C@@H](c2cccc([N+](=O)[O-])c2)NC(=O)N1', 'CCOc1cncc(N2CCCNCC23OC(=O)C=CC(=O)O3)c1', 'Cc1cc(-n2c(C)cc(C(=O)N3CCOC[C@H]3C(=O)O)c2C)no1', 'COc1ccccc1OCC(=O)N(C)CC(=O)Nc1cc(C)on1', 'O=C(OCC(=O)N1CCCC1)c1ccc(NC2CC2)c([N+](=O)[O-])c1', 'N[C@@H](CNC(=O)C1(OC(=O)O)COC1)Cc1c[nH]c2ccccc12', 'COCCN(CC(=O)O)C(=O)Cc1nn(C)c(=O)c2ccccc12', 'COc1ccccc1C(=O)N1CCN2C(=O)[C@@H](CO)NC(=O)[C@H]2C1', 'CN(C(=O)c1c(C=O)cccc1NCCO)C1CCC(=O)NC1=O', 'CCOCCOC(=O)/C(C#N)=C(/CC)Nc1ccc([N+](=O)[O-])cc1', 'O=C(Cn1c(=O)oc2ccc([N+](=O)[O-])cc21)NCC1CCCCC1', 'CC[C@@]1(c2ccccc2)NC(=O)N(CC(=O)NCCC(=O)O)C1=O', 'O=C1N[C@H](CO)C(=O)N2CCN(C(=O)OCc3ccccc3)C[C@H]12', 'CCNC(=O)C(C)N1C(=O)NC(C)(c2ccc3c(c2)OCO3)C1=O', 'CC1(C)NC(=O)N(CC(=O)N[C@@H](Cc2ccccc2)C(=O)O)C1=O', 'CC(C)C(NC(=O)CCn1[nH]c(=O)c2ccccc2c1=O)C(=O)O', 'CC(C)[C@H](NC(=O)c1ccc(C2(C)NC(=O)NC2=O)cc1)C(=O)O', 'O=C(O)C1CCN(C2CCN(c3cccc([N+](=O)[O-])c3)C2=O)CC1', 'CC(=O)NC[C@H]1CN(c2ccc3c(c2)C[C@@H](C)N3C(=O)O)C(=O)O1', 'COC(=O)CNC(=O)C1CC(=O)N(c2ccc(NC(C)=O)cc2)C1', 'C[C@@H](NC(=O)c1cc([N+](=O)[O-])cc([N+](=O)[O-])c1)[C@H]1C[C@@H]2CC[C@@H]1C2', 'CCOC(=O)c1cn(C[C@H](O)c2ccc(OC)cc2)c(C(N)=O)n1', 'CNC(=O)C(C)(NC(=O)c1ccc(C#CCCO)cc1)C(=O)NO', 'CC(C)(C)OC(=O)N(C(N)=O)[C@@H](Cc1ccc(C#N)cc1)C(=O)O', 'CCOC(=O)N1CCN(C(=O)C=Cc2cccc([N+](=O)[O-])c2)CC1', 'Cc1ccc(NC(=O)[C@@H](C)OC(=O)CC[C@H]2NC(=O)NC2=O)cc1', 'CC1(c2ccc([N+](=O)[O-])cc2)NC(=O)N(CC2CCCCO2)C1=O', 'Cc1ccc(C)c(NC(=O)CCC(=O)NNC(=O)/C=C/C(=O)O)c1', 'CC(=O)[C@@H]1O[C@H](CO)[C@H](O)[C@H](n2cc(-c3ccccc3)nn2)[C@H]1O', 'COc1cccc2c1OCC(CNC(=O)CN1C(=O)CNC1=O)C2', 'NC(=O)[C@H](CC(=O)OCc1ccccc1)NC(=O)[C@H]1CCC(=O)N1', 'COc1ccc(C(=O)N[C@H](C)C(=O)Nc2cc(C)on2)cc1OC', 'CCOC(=O)C1CCCN(C(=O)c2c(C)oc3nc[nH]c(=O)c23)C1', 'CCOc1cncc(N2CCN(C)CC23OC(=O)C=CC(=O)O3)c1', 'Cc1noc(COCC(=O)N(Cc2ccccc2)C(C)C(=O)O)n1', 'CCOC(=O)Nc1cccc(O[C@H](C)C(=O)Nc2cc(C)on2)c1', 'CO[C@H](C(=O)N[C@@H](CCC(=O)C=[N+]=[N-])C(=O)O)c1ccc(C)cc1', 'NC(=O)[C@@H]1CCCN1C(=O)[C@@H]1Cc2ccc(O)cc2CN1C(=O)O', 'CCOC(=O)c1cc(C(=O)OCC)c(=O)[nH]c1-n1nc(C)cc1C', 'COc1ccc([N+](=O)[O-])cc1OC(=O)CCc1c(C)nn(C)c1C', 'COc1cc(/C=N/NC(=O)c2ccncc2)cc(OC)c1OC.O', 'NC(=O)N/N=C1\\\\CC[C@@H](OC(=O)c2ccccc2)C[C@H]1CC(=O)O', 'COCC(C)n1c(O)c(C2=NCCOC2)c2cc([N+](=O)[O-])ccc21', 'COc1cccc2c1OC[C@@H](C(=O)NCCOc1nonc1C)C2', 'Cc1noc([C@@H](C)OC(=O)[C@H]2CCCCN2C(=O)c2ccco2)n1', 'C[C@@H]1CCCCN1C(=O)CN1C(=O)C(=O)N(Cc2ccco2)C1=O', 'COc1ccccc1C(CNC(=O)c1ccc([N+](=O)[O-])o1)N(C)C', 'CC12CCC(C(=O)NNc3ccc([N+](=O)[O-])cc3)(OC1=O)C2(C)C', 'Cc1ccc(OC(=O)N2CCN3C(=O)[C@@H](CO)NC(=O)[C@H]3C2)cc1', 'CCCC(NC(=O)CCn1c(=O)[nH]c(=O)c2ccccc21)C(=O)O', 'COc1cccc(C(CNC(=O)C(=O)Nc2cc(C)on2)OC)c1', 'CCOC(=O)CN/C=C(/C#N)C(=O)Nc1cc(OC)ccc1OC', 'NCCCOc1ccc2ccc(C(=O)NCCC(=O)O)c(=O)n2c1', 'C[C@@H]1CC(=O)N(c2ccc(NC[C@H]3CCCO3)c([N+](=O)[O-])c2)C1=O', 'COc1cn(-c2ccccc2)nc1C(=O)N(OC)C(C)CC(=O)O', 'Cc1cc(C(C)(O)CNC(=O)c2cccc([N+](=O)[O-])c2N)c(C)o1', 'C1=CC=C(C=C1)C2=NC(C(=O)NC3=CC=CC=C32)NC(=O)NC4=CC=CC=C4F', 'O=C(NCc1ccc(Oc2cccnc2)c(F)c1)c1cc(-c2ccccc2)n[nH]1', 'CN(C(=O)c1nc(C(=O)Nc2ccccc2F)n2ccccc12)c1ccccc1', 'C#C.C(#Cc1cnccn1)c1ccccn1.O=C1NC[C@H](c2ccc(F)cc2)O1', 'Cc1cc2c(c(=O)n1Cc1ccccn1)C(c1ccc(F)cc1)C(C#N)=C(N)O2', 'NC(=O)c1cn(-c2ccc(F)cc2)c2ccc(NCc3cccnc3)cc2c1=O', 'O=C(CNC(=O)c1ccccc1F)Nc1ccc(-c2cn3ccccc3n2)cc1', 'O=C(Cc1ccc(O)cc1)Nc1n[nH]c(-c2ccc(F)cc2)c1-c1ccncc1', 'O=C(CNC(=O)c1ccccc1F)Nc1ccc(-n2cnc3ccccc32)cc1', 'NC(=O)c1cccc(-c2ccc3nc(C(=O)NCc4ccccc4F)cn3c2)c1', 'CN(Cc1ccccn1)c1nc2cc(C(=O)O)ccc2nc1-c1ccc(F)cc1', 'Cc1cc(-n2c(C)nc3ncccc3c2=O)ccc1NC(=O)c1ccccc1F', 'Cc1ccccc1NC(=O)c1nc(C(=O)Nc2ccccc2F)c2ccccn12', 'O=C(NCc1cccnc1)c1cc2cccnc2n(Cc2ccc(F)cc2)c1=O', 'Cc1cc(F)ccc1N1CN(c2ccc(=O)[nH]c2C)C(=O)c2ccc(C#N)cc21', 'Nc1cccnc1-c1c(-c2ccc(F)cc2)noc1NC(=O)Cc1ccccc1', 'O=C1C=CC(=O)N1Cc1cc(-c2ccc3ncnc(NC4CC4)c3c2)ccc1F', 'Cc1nc2ccccc2c(=O)n1-c1ccc(C(=O)N(C)c2ccc(F)cn2)cc1', 'O=C(NCc1ccc(Oc2ccc(F)cc2)cc1)c1ccc(-n2ccnc2)nc1', 'O=C(Nc1cccc(F)c1)Nc1cc2ncncc2cc1OCc1ccccc1', 'O=C(N[C@H]1CCOc2cccc(F)c21)c1ccc(-c2ccnc3[nH]ccc23)nc1', 'C=CCN1C(=O)C2(CC(=O)Nc3c2cnn3-c2ccc(F)cc2)c2ccccc21', 'N#Cc1ccc(NC(=O)c2ccnc(C(=O)NCCc3ccccc3F)c2)cc1', 'N#Cc1ccccc1NC(=O)c1cncc(C(=O)NCCc2ccc(F)cc2)c1', 'Cc1ccc(OCc2ncccc2F)cc1N1Cc2c(C#N)cccc2NC1=O', 'Cc1ccc(NC(=O)Nc2cccc(-c3nnc(-c4ccccc4)o3)c2)cc1F', 'O=C(C(=O)N1CCn2c(-c3ccccc3)cnc2C1)c1c[nH]c2cccc(F)c12', 'O=C(NCc1ccccc1)c1nc(C(=O)Nc2cccc(F)c2)n2ccccc12', 'Cc1cc2c(c(=O)n1Cc1cccnc1)[C@@H](c1cccc(F)c1)C(C#N)=C(N)O2', 'N#Cc1cc(Oc2ccc(NC3CCc4cc(C(N)=O)ccc43)c(F)c2)ccn1', 'O=C(Nc1ccccc1F)c1nc(C(=O)NCc2ccccc2)n2ccccc12', 'O=C(Nc1ccccc1F)Nc1cc2ncncc2cc1OCc1ccccc1', 'O=C1C2C(=NN1c1ccccc1)N=C1CCCC1C21C(=O)Nc2ccc(F)cc21', 'Cc1cc2c(c(=O)n1Cc1ccccn1)[C@H](c1ccccc1F)C(C#N)=C(N)O2', 'Cc1c(O)ccc(/C=N/Nc2nc(-c3ccccc3F)nc3ccccc23)c1O', 'CNC(=O)c1ccc(C(=O)Nc2ccc3[nH]nc(-c4ccc(F)cc4)c3c2)cc1', 'COc1ccc(C2CC(=O)c3cn4nc(-c5ccc(F)cc5)nc4nc3C2)cc1', 'Cc1noc(C)c1-c1ccc2c(c1)ncc1[nH]c(=O)n(Cc3ccccc3F)c12', 'O=C(Nc1ccccc1)Nc1cccc(-c2noc(Cc3ccc(F)cc3)n2)c1', 'O=C1NN=C2CN(C(=O)C3(c4ccccc4)CC3)Cc3[nH]c4cc(F)cc1c4c32', 'Cc1cccc(NC(=O)c2nc(C(=O)Nc3cccc(F)c3)c3ccccn23)c1', 'O=C(NCc1cccc(Oc2ccc(F)cc2)c1)c1cnn(-c2ccccc2)n1', 'Cc1ccc(F)c(NC(=O)Nc2cccc(C#CNC(=O)c3cccnc3)c2)c1', 'CC(C)c1cc(Oc2ccc(-n3c(=O)[nH]c4cccnc43)cc2F)ccc1C#N', 'O=C(NCc1nn(Cc2ccccn2)c(=O)c2ccccc12)c1cccc(F)c1', 'Nc1ncnc2ccc(NC(=O)c3ccccc3COc3ccc(F)cc3)cc12', 'O=C(NO)c1cc(F)c2c(c1)-n1c(nc3ccccc31)N(Cc1ccccc1)C2', 'COc1ccc(-c2c(F)ccc3c(N)c4c(O)n(C5=CC=C5)cc4nc23)c(C)n1', 'O=C(Nc1ccc(F)cc1)c1nc(C(=O)NCc2ccccc2)n2ccccc12', 'O=C(c1[nH]cnc1-c1ccccc1)N1CCc2onc(-c3cccc(F)c3)c2C1', 'N#Cc1cccnc1-c1cccc(C(=O)NCCNC(=O)c2ccccc2F)c1', 'CN(c1ccncc1)c1ccc2c(c1)c(=O)c(C(N)=O)cn2-c1ccc(F)cc1', 'CC(=O)Nc1ccc(-c2cccc(-c3cccc(-c4ncn[nH]4)c3)c2O)cc1F', 'O=C(NCc1cccnc1Oc1cccc(F)c1)c1ccn(-c2ccccc2)n1', 'NC(=O)c1nn(-c2cc([C@]3(O)CCc4ccccc43)ccn2)c2cc(F)ccc12', 'O=C(Cc1ccc(F)cc1)Nc1ccc(Oc2cc(-n3cccc3)ncn2)cc1', 'Cc1cccc(NC(=O)c2nc(C(=O)Nc3ccc(F)cc3)c3ccccn23)c1', 'COc1ccc(-n2nc(C(=O)Nc3ccc(F)cc3)nc2-c2ccccc2)cc1', 'N#Cc1ccccc1NC(=O)c1cccc(C(=O)NCCc2ccc(F)cc2)n1', 'CC(=O)c1cnn(-c2cc(Oc3ccccc3F)nc(-c3ccccc3)n2)c1C', 'O=C(NCc1cccnc1)c1cc2cccnc2n(Cc2ccccc2F)c1=O', 'COc1ccccc1NC(=O)c1cc(-c2cccnc2)n(-c2ccc(F)cc2)n1', 'COc1ccccc1NC(=O)c1nc(-c2ccc(F)cc2)n(-c2ccccc2)n1', 'NC(=O)c1nn(Cc2cccc(NC(=O)c3cccc(F)c3)c2)c2ccccc12', 'Cc1ccc(NC(=O)c2nc(C(=O)Nc3ccccc3F)n3ccccc23)cc1', 'Cc1cc(F)ccc1Oc1ccc2c(-c3cc(C(N)=O)ccc3C)nncc2n1', 'COc1cccc(NC(=O)c2ccc(-n3nncc3-c3ccc(F)cc3)cc2)c1', 'Cc1cc2c(c(=O)n1Cc1ccccn1)[C@@H](c1ccccc1F)C(C#N)=C(N)O2', 'NC(=O)Nc1c(-c2nccnc2OCc2cccc(F)c2)ccc2ccccc12', 'COc1ccccc1NC(=O)c1nc(-c2ccccc2)n(-c2ccc(F)cc2)n1', 'C[C@H]1Cc2cccc3c(=O)c(C(=O)Nc4cc(-c5cccc(F)c5)[nH]n4)cn1c23', 'COc1ccc(-c2cncc(C#N)c2Nc2ccc3[nH]ccc3c2F)cc1OC', 'CCn1c(=O)c(-c2ccc(C(=O)Nc3ccccc3F)cc2)nc2cccnc21', 'O=C(Nc1ccccc1)c1nc(C(=O)NCc2ccccc2F)n2ccccc12', 'COc1ccc(NC(=O)c2ccc(-n3nncc3-c3ccc(F)cc3)cc2)cc1', 'Cc1ccccc1NC(=O)Nc1ccc(F)c(-c2nnc(-c3ccccc3)o2)c1', 'N#Cc1cccc(NC(=O)c2cc(C(=O)NCCc3ccccc3F)ccn2)c1', 'N#Cc1c(-c2ccc(F)cc2)cc(-c2ccccn2)nc1OC[C@@H]1CCC(=O)N1', 'O=C(NCc1ccc(Oc2cccc(F)c2)nc1)c1cn[nH]c1-c1ccccc1', 'O=C(Nc1cccc(OCc2ccc(F)cc2)c1)c1ccc(-n2cccn2)nc1', 'NC(=O)N[C@H]1N=C(c2ccccc2)c2ccccc2N(c2ccccc2F)C1=O', 'Cc1ccc(C(=O)Nc2ccc(Oc3ccc(-n4cccc4)nn3)cc2)cc1F', 'Cc1nc2ccc(NC(=O)c3ccncc3)cc2c(=O)n1Cc1ccc(F)cc1', 'COc1ccc(-c2nc3nc4c(cn3n2)C(=O)C[C@@H](c2ccc(F)cc2)C4)cc1', 'Cc1c(C(=O)Nc2cccc(Oc3ccncc3)c2)cnn1-c1ccccc1F', 'CC(=O)c1ccc(NC(=O)c2cnn(-c3cccc(F)c3)c2-n2cccc2)cc1', 'O=C(O)/C=C/c1cccc(-c2cnn3c(NCc4ccc(F)cc4)ccnc23)c1', 'O=C(NCCn1cnc(-c2ccc(F)cc2)cc1=O)c1ccc2ccccc2n1', 'N#Cc1cnc(-c2ccc(F)cc2)n(CC(=O)NC2CCc3ccccc32)c1=O', 'O=C(Cn1cccc1-c1nc(-c2ccc(F)cc2)no1)N1CCc2ccccc21', 'C=CCN1C(=O)[C@]2(CC(=O)Nc3c2cnn3-c2ccc(F)cc2)c2ccccc21', 'O=C(NCc1ccnc(Oc2ccc(F)cc2)c1)c1cc(-c2ccccc2)n[nH]1', 'COc1ccc(NC(=O)c2cc(-c3cccnc3)n(-c3ccc(F)cc3)n2)cc1', 'Nc1cc(F)ccc1NC(=O)c1ccc(C(=O)Nc2cccc3[nH]ccc23)cc1', 'O=C(NCc1cccc(Oc2ccccn2)c1)c1cc(-c2ccc(F)cc2)n[nH]1', 'CC(NC(=O)O)c1nc2ccc(F)cc2c(-c2ccccn2)c1-c1ccccn1', '[C-]#[N+]c1ccc2c(c1)C(=O)N(c1ccc(=O)[nH]c1C)CN2c1ccc(F)cc1C', 'CNc1ccc2c(=O)n(-c3ccc(NC=O)cc3F)cc(-c3ccncc3)c2c1', 'CC(=O)Nc1cc(C(=O)Nc2ccc(-n3cnc4ccccc43)cc2)ccc1F', 'Cc1c(Oc2ccnc3cc(F)ccc23)cccc1C(=O)NCc1ccnnc1', 'Nc1c(C(=O)c2cccc(OCc3ccccn3)c2)cnn1-c1ccc(F)cc1', 'O=C(Cc1cccc(F)c1)Nc1ccc(C(=O)Nc2ccc3cn[nH]c3c2)cc1', 'COc1cccc(NC(=O)c2nc(-c3ccc(F)cc3)n(-c3ccccc3)n2)c1', 'O=C(c1ccccc1)N1CCc2[nH]c(=O)n3cc(-c4cccc(F)c4)nc3c2C1', 'O=C(Nc1ccc(F)cc1)OCc1cn(-c2ccccc2)nc1-c1cccnc1', 'O=C(Nc1cccc(COc2cccc(F)c2)c1)c1cccc(-n2cncn2)c1', 'O=C1CCC(C(=O)Nc2cc(-c3nc4ccccc4[nH]3)ccc2F)n2cccc21', 'Fc1ccc(C2(Cn3cncn3)COC(c3ccc(-c4ccoc4)cc3)=N2)cc1', '[C-]#[N+]c1ccc2c(c1)N(c1ccc(F)cc1C)CN(c1ccc(OC)nc1)C2=O', 'O=c1c(CN2CCc3nc(-c4cccnc4)ncc3C2)coc2ccc(F)cc12', 'COc1ccc(NC(=O)c2cn(-c3ccccc3)nc2-c2ccc(F)cc2)cn1', 'O=C(N[C@H]1c2ccccc2C[C@H]1O)c1cc(F)cc(-c2cncc3nccn23)c1', 'CNc1cc(Oc2ccc3c(C(=O)Nc4cccc(F)c4)cccc3c2)ncn1', 'CN(c1cccnc1)c1ccc2c(c1)c(=O)c(C(N)=O)cn2-c1ccc(F)cc1', 'O=C(O)NCCc1nc2ccc(F)cc2c(-c2ccccn2)c1-c1ccccn1', 'Cn1cc(-c2ccc3c(ncn3C)c2Oc2ccccc2F)c2cc[nH]c2c1=O', 'NC(=O)CNc1nc(-c2ccc(Oc3ccc(F)cc3)cc2)c2ccccc2n1', 'O=C(c1cnc2ccccn2c1=O)N(Cc1ccccn1)Cc1ccccc1F', 'C=CCN1C(=O)[C@@]2(CC(=O)Nc3c2cnn3-c2ccc(F)cc2)c2ccccc21', 'Cc1cc(-n2c(C)nc3ncccc3c2=O)ccc1NC(=O)c1ccc(F)cc1', 'Cc1c(CC#N)nc2ccc(-c3c(OCc4ccc(F)cc4)cc[nH]c3=O)cn12', 'CC(C(=O)Nc1cccc2cccnc12)n1nc(-c2ccc(F)cc2)ccc1=O', 'Cc1ccc(NC(=O)Nc2ccc(F)c(-c3nnc(-c4ccccc4)o3)c2)cc1', 'Cc1cc2c(Oc3ccc(NC(=O)Nc4ccccc4)cc3)ncnc2cc1F', 'COc1ccc(N2CN(c3ccc(F)cc3C)c3cc(C#N)ccc3C2=O)cn1', 'Cc1c(C(=O)Nc2cccc(Oc3ccccn3)c2)cnn1-c1ccccc1F', 'CCOC(=O)c1ncn2c1C(C)N=C(c1ccccc1F)c1cc(C#N)ccc1-2', 'CC(=O)N(c1ccccc1)c1onc(-c2cc(C)ccc2F)c1-c1ccncn1', 'O=C(NCc1nc2ccccc2[nH]1)c1cc2occc2n1Cc1cccc(F)c1', 'Cc1nn(-c2ccccc2)c2nc3c(cc12)CN(Cc1ccc(F)cc1)C(=O)O3', 'O=C1CC[C@H](C(=O)Nc2cc3c(-c4ccc5ccccc5c4)n[nH]c3cc2F)N1', 'CC(=O)Nc1cccc(C(=O)Nc2ccc3nc(-c4cccc(F)c4)[nH]c3c2)c1', 'O=C(NCc1ccn2ccnc2c1)c1ccc(NC(=O)c2ccccc2F)cc1', 'O=C(Cc1ccc(F)cc1)N/N=C\\\\c1cn(-c2ccccc2)nc1-c1ccco1', 'O=C(COc1cccc2cccnc12)N/N=C\\\\c1cccn1-c1ccc(F)cc1', 'Cc1nn(-c2ccc(C#N)cc2)c(C)c1COc1ccc(F)cc1-c1ccno1', 'N#Cc1cc(Oc2ccc(NN(C=O)c3ccc4c(c3)CCC4)c(F)c2)ccn1', 'O=C(c1ncccc1F)N1CCC2(C(=O)Nc3ccccc32)C1c1cccnc1', 'CCN(C(=O)O)c1nc2ccc(F)cc2c(-c2ccccn2)c1-c1ccccn1', 'Cc1ccc(Oc2ccc(NC(=O)c3cc(F)cc4nccnc34)cn2)cc1C', 'Cc1cc(-c2cncnc2-c2ccc(CNC(=O)c3ccccc3F)cc2)on1', 'Cc1nc(Oc2ccccc2F)nc(C)c1NC(=O)c1ccc2ccccc2n1', 'CC(C)c1nc2ccc(F)cc2c2c1C(=O)N(Cc1nc3ccccc3[nH]1)C2=O', 'O=C(Cc1ccccc1F)Nc1ccc(Oc2cc(-n3cccc3)ncn2)cc1', 'O=C(CCc1ncc(-c2ccccc2F)o1)Nc1cnc(-c2ccccc2)nc1', 'O=C(Nc1ccc(F)cc1)c1cc(NCc2ccco2)nc(-c2ccccc2)n1', 'N#Cc1ccccc1NC(=O)c1ccnc(C(=O)NCCc2ccc(F)cc2)c1', 'Cc1cc2c(c(=O)n1Cc1cccnc1)[C@@H](c1ccc(F)cc1)C(C#N)=C(N)O2', 'O=C(Cn1nc(Cc2ccncc2)c2ccccc2c1=O)Nc1ccc(F)cc1', 'COc1ccc(C2Nc3ccccc3-c3c(C(N)=O)cnn4ccc2c34)cc1F', '[C-]#[N+]c1cc(C#N)cc(Oc2c(CC)ccc(Cc3cc(C)c(=O)[nH]n3)c2F)c1', 'COC(OC)c1ccn2c(-c3ccc(F)c(-c4ccccc4C#N)c3)cnc2n1', 'COc1ccc(-n2nc(C(=O)Nc3ccccc3F)nc2-c2ccccc2)cc1', 'Cc1c(C(=O)Nc2ccc(Oc3ccccc3)cc2)nnn1-c1ccccc1F', 'CCOc1ccc(F)cc1-c1cnc2[nH]c(=O)n(Cc3ccccc3C#N)c2c1', 'O=C(Nc1cc(-c2cccc(F)c2)[nH]n1)c1cn2c3c(cccc3c1=O)CCC2', 'O=C(c1ccncc1)N(Cc1ccc(F)cc1)Cc1nc2ccccc2c(=O)[nH]1', 'O=[N+]([O-])c1cccc([C@H]2C[C@@H](c3ccccc3F)n3c(nc4ccccc43)N2)c1', 'CNC(=O)c1c(-c2ccc(F)cc2)nn2ccc(-c3cccc(C(N)=O)c3)cc12', 'Cc1cc(-c2noc(NC(=O)Cc3ccccc3)c2-c2ccncn2)ccc1F', 'COc1ccc(-c2nc(C(=O)Nc3ccccc3F)nn2-c2ccccc2)cc1', 'COc1cc(C=NNc2nc(-c3ccccc3F)nc3ccccc23)ccc1O', 'O=Cc1ccc2[nH]nc(-c3cccc(NC(=O)NCc4ccc(F)cc4)c3)c2c1', 'N#Cc1cccc(NC(=O)CNc2ccccc2C(=O)Nc2ccc(F)cc2)c1', 'COc1cc(-c2ccccc2F)cc2c(NC(C)=O)nc(-c3cccnc3)nc12', 'O=[N+]([O-])c1cccc([C@H]2C[C@H](c3ccccc3F)n3c(nc4ccccc43)N2)c1', 'O=C(Nc1ccc2c(c1)CC(Nc1ncnc3ccc(F)cc13)C2)c1ccco1', 'O=C(c1cc(-c2ccc(F)cc2)n[nH]1)N1CC(Oc2ccc3ccccc3n2)C1', 'Cc1nc(-c2cccc(F)c2)ccc1C(=O)/N=N/c1c(O)n(C)c2ccccc12', 'O=C(NCc1ccc(Oc2ccc(F)cc2)cc1)c1ccc(-n2cncn2)cc1', 'Cc1ccc2ncccc2c1-c1cc(-c2c(C)noc2C)c(F)c2[nH]c(=O)[nH]c12', 'O=C(O)c1ccc2c(c1)nc(NC1CC1)c1nc(Cc3ccc(F)cc3)ncc12', 'COc1ccc(CN2Cc3cc(-n4ccc5cncnc54)cc(F)c3C2=O)cc1', 'Nc1ccc(F)cc1NC(=O)c1ccc(NC(=O)c2cc3ccccc3[nH]2)cc1', 'O=C(CN1C(=O)CC(c2ccccc2)=Nc2cccnc21)Nc1ccccc1F', 'O=C(NCc1nc2ccccc2[nH]1)c1cc2occc2n1Cc1ccc(F)cc1', 'N#CCn1c(O)c2n(c1=O)Cc1c(c3ccccc3n1Cc1ccc(F)cc1)C2', 'N#Cc1cccc(NC(=O)c2cc(C(=O)NCCc3ccc(F)cc3)ccn2)c1', 'NCCn1cc(C2=C(c3c[nH]c4ccccc34)C(=O)NC2=O)c2cccc(F)c21', 'COc1ccc(NC(=O)c2cc(-c3ccncc3)n(-c3ccc(F)cc3)n2)cc1', 'CNc1nc(-c2cccnc2)nc2c(OC)cc(-c3ccc(F)c(C=O)c3)cc12', 'NC(=O)c1ccc2[nH]nc(-c3cccc(NC(=O)Cc4ccc(F)cc4)c3)c2c1', 'CC(=O)Nc1ccc(NC(=O)c2nn(-c3ccc(F)cc3)c3ccccc23)cc1', 'O=[N+]([O-])c1cccc([C@@H]2C[C@@H](c3ccccc3F)n3c(nc4ccccc43)N2)c1', 'NC(=O)Nc1c(-c2nccnc2OCc2ccc(F)cc2)ccc2ccccc12', 'O=C1O[C@H](c2ccc(F)cc2)[C@@H](n2nnc3ccccc32)N1Cc1ccccc1', 'Cc1nc(C(=O)Nc2cc(-c3cccc4[nH]ccc34)cc3c2C(F)=NC3)c(C)o1', 'N#Cc1ccc(NC(=O)c2ccnc(C(=O)NCCc3ccc(F)cc3)c2)cc1', 'Cc1cccc(NC(=O)c2cc3cccnc3n(Cc3ccccc3F)c2=O)n1', 'N#Cc1cccc(NC(=O)c2cccc(C(=O)NCCc3ccc(F)cc3)n2)c1', 'COc1ccc([C@@H]2CC(=O)c3cn4nc(-c5ccc(F)cc5)nc4nc3C2)cc1', 'NCC(Oc1ccc2ncc(-c3cc4ccccc4o3)n2n1)c1ccc(F)cc1', 'Fc1cc(-c2nc(N3CCOCC3)c3oc4ccccc4c3n2)c2cc[nH]c2c1', 'O=C(O)C1=Nc2nc(-c3ccc(F)cc3)c(N3CCCc4ccccc43)nc2C1', 'CNc1ccc2nc(-c3ccc4c(c3)OCO4)c(F)c(Nc3ccncc3)c2c1', 'Cc1ccccc1-n1nccc(-c2cnn3c2OCC3c2ccc(F)cc2)c1=O', 'COC(=O)c1ccc2nc(-c3ccc(F)cc3)c(NCc3ccccn3)nc2c1', 'O=C(Cn1ncc2ccccc2c1=O)N(Cc1ccccn1)c1ccc(F)cc1', 'Cc1ccc(-c2nn(-c3ccccc3)cc2/C=N\\\\NC(=O)c2ccc(F)cc2)o1', 'O=C(NCc1ccc(F)cc1)c1nc2cccnc2n(Cc2ccccc2)c1=O', 'CC(=O)N(c1ccccc1F)c1onc(-c2ccccc2C)c1-c1ccncn1', 'O=C(Nc1ccccc1F)c1cc(NCc2ccco2)nc(-c2ccccc2)n1', 'Cc1nc(-c2ccc(F)cc2)ccc1C(=O)/N=N/c1c(O)n(C)c2ccccc12', 'O=C(NCc1nc2ccccc2c(=O)n1-c1ccc(F)cc1)Nc1ccccc1', 'Cc1c[nH]c(=O)c2ccc(-c3nc(-c4ccc5c(c4)CCO5)c(F)nc3N)cc12', 'O=C(Nc1ccccc1Oc1ccc(F)cc1)c1cccc(Cn2cncn2)c1', 'O=C(Nc1ccc(OCc2ccccc2F)cc1)c1ccc(-n2cnnc2)cc1', 'O=C(Nc1ccc(Nc2ccc(F)cc2)c2ccncc12)c1cc(C2CC2)on1', 'CC(NC(=O)c1ccccc1C(=O)c1ccc(F)cc1)c1nnc2ccccn12', 'Cc1occc1C(=O)N/N=C\\\\c1cn(-c2ccccc2)nc1-c1ccc(F)cc1', 'COC(=O)c1cc(-c2ccc3ncnc(C)c3c2)c(-c2ccc(F)cc2)nc1N', 'COc1ccc(CN2C(=O)C(N=[N+]=[N-])c3ccccc3-c3cccc(F)c32)cc1', 'CNc1cc(Oc2ccc3c(C(=O)Nc4ccc(F)cc4)cccc3c2)ncn1', 'CNc1nc(-c2cccnc2)nc2ccc(-c3cc(CC(=O)O)ccc3F)cc12', 'N#Cc1cccc(NC(=O)c2cccc(NC(=O)NCc3ccc(F)cc3)c2)c1', 'O=C(NCc1cccnc1Oc1cccc(F)c1)Nc1cccc2cccnc12', 'CC(=O)n1nc(-c2ccc(F)cc2)c2cc(N(C=O)Cc3ccncc3)ccc21', 'Cc1ccnc(NC(=O)c2cc3cccnc3n(Cc3ccc(F)cc3)c2=O)c1', 'Cc1ccc(-c2noc(NC(=O)Cc3ccccc3)c2-c2ccncn2)cc1F', 'Cc1cc(-n2c(C)nc3ncccc3c2=O)ccc1NC(=O)c1cccc(F)c1', 'Fc1cc2c(c(Cn3nnc(-c4ccccc4)n3)c1)OC(c1ccccc1)OC2', 'O=C(NCc1ccccc1F)c1nc2cccnc2n(Cc2ccccc2)c1=O', 'COc1ccccc1-c1cc2cnccc2nc1NC(=O)Nc1ccc(F)cc1', 'O=C(Nc1ncn(Cc2ccc(F)cc2)n1)c1cccc(Oc2ccccc2)c1', 'O=C(c1ccc(-c2ncc3cnc(-c4cccc(F)c4)cn23)cc1)N1CC(O)C1', 'COc1cccc(-c2nn(-c3ccc(F)cc3)cc2C(=O)Nc2ccncc2)c1', 'COc1nnc(C#CCO)c2c(-c3ccncc3)c(-c3ccc(F)cc3)n(C)c12', 'Cc1c(C(=O)Nc2ccc(Oc3ccccc3)cc2)nnn1-c1ccc(F)cc1', 'O=C(Nc1cnc2[nH]cc(C(=O)NCc3ccc(F)cc3)c2c1)c1ccccc1', 'O=C(NNC(=O)c1cc2ccccc2n1Cc1ccccc1F)c1cccnc1', 'Nc1ccc(CC(=O)Nc2onc(-c3ccc(F)cc3)c2-c2ccncc2)cc1', 'NC(=O)c1nn(Cc2cccc(NC(=O)c3ccc(F)cc3)c2)c2ccccc12', 'CC(=O)N(c1ccccc1C)c1onc(-c2ccc(F)cc2)c1-c1ccncn1', 'CC(C)c1onc(-c2cnc(-c3ccc(F)cc3)nc2)c1C(=O)c1cccnc1', 'N#Cc1cc(Oc2ccc(NC(=O)Nc3ccc4c(c3)CCC4)c(F)c2)ccn1', 'Cc1cc2c(c(=O)n1Cc1cccnc1)C(c1cccc(F)c1)C(C#N)=C(N)O2', 'Cc1cccnc1NC(=O)c1cc2cccnc2n(Cc2ccc(F)cc2)c1=O', 'COc1cc(C)c(-c2c(F)ccc3c(N)c4c(O)n(C5=CC=C5)cc4nc23)cn1', 'O=C(Cc1coc(-c2ccc(F)cc2)n1)Nc1ccccc1Nc1ccncc1', 'COc1ccc2c(OCc3cn(C)cn3)nc(C#N)c(-c3cccc(F)c3)c2c1', 'O=C(Nc1cccc(OCc2ccc(F)cc2)c1)c1ccc(-n2ccnc2)nc1', 'Fc1cccc(Oc2ccc(Nc3ncnc4ccc5c(c34)OCCN5)cc2)c1', 'N#Cc1cccc(NC(=O)c2cccc(NC(=O)NCc3cccc(F)c3)c2)c1', 'O=C1CCC(C(=O)Nc2ccc3[nH]nc(-c4ccc5ccccc5c4)c3c2F)N1', 'Cc1cc2c(c(=O)n1Cc1cccnc1)[C@H](c1ccc(F)cc1)C(C#N)=C(N)O2', 'COc1ccc(NC(=O)c2cnn(-c3cccc(F)c3)c2-c2ccncc2)cc1', 'Cc1ccccc1NC(=O)c1nc(C(=O)Nc2ccc(F)cc2)c2ccccn12', 'O=C(Cc1ccc(F)cc1)NNC(=O)c1ccc(-n2cnc3ccccc32)cc1', 'Cc1nc(Oc2ccc(NC(=O)c3ccc(F)cc3)cc2)cc(-n2cccc2)n1', 'O=C1NCC(Cc2ccccc2)c2cc(-n3c(=O)[nH]c4ncc(F)cc43)ccc21', 'O=C(Nc1ccccc1F)NN1C(=O)CN=C(c2ccccc2)c2ccccc21', 'N#Cc1ccc(NC(=O)c2cccc(C(=O)NCCc3ccc(F)cc3)n2)cc1', 'COc1ccc(-c2nc3nc4c(cn3n2)C(=O)C[C@H](c2ccc(F)cc2)C4)cc1', 'Cc1c(O)ccc(C=NNc2nc(-c3ccccc3F)nc3ccccc23)c1O', 'COc1ccc(NC(=O)c2nc(-c3ccccc3)n(-c3ccc(F)cc3)n2)cc1', 'Nc1ccc(Oc2ccc(-c3ccc(F)cc3)c(Oc3ccc(N)cn3)c2)nc1', 'CC(C)C[C@@H](C(=O)NCC(=O)N)NC(=O)[C@@H]1CCCN1', 'CC(C)[C@H](N)C(=O)NCC(=O)N1CCC(C(N)=O)CC1', 'CCC(CC)(C(=O)N1CCNC(=O)C1(C)C)C(N)=NO', 'COCCCNC(=O)Cn1cnc(CNCCOC)c1', 'CCCCn1c(N)c(NCCCC(C)O)c(=O)[nH]c1=O', 'CCNC(=O)CN1CCN(C(=O)N2CCOCC2)CC1', 'CCCCn1c(N)c(N(C)CCCCO)c(=O)[nH]c1=O', 'COCCNCc1cc(NC(=O)OC(C)(C)C)nn1C', 'CCC(=O)N1CCC(N/C(=N/C)NCCC(=O)OC)C1', 'Cn1ncnc1CC(C)(CO)CNC(=O)OC(C)(C)C', 'O=C(O)CCN1CCN(C(=O)NN2CCCCC2)CC1', 'CCCNc1nc(OCC)nc(OCCOCCC)n1', 'CCn1nc(C)c([N+](=O)[O-])c1NCCCOCC(C)C', '[H]/N=C(\\\\OC)N(C(=O)NC)C(=O)NC1CCCCCCC1', 'Cc1nn(C(C)C)c(NCC(C)(C)CCO)c1[N+](=O)[O-]', 'CCN[C@H](C)CNC(=O)CCCN1C(=O)CN(C)C1=O', 'CCC1C(=O)NCCN1C(=O)C(CC)(CC)C(N)=NO', 'C/N=C(\\\\NCCOCCOC)NCc1nc(C)c(C)o1', 'CCC1CC1NC(=O)/N=C(/NC(=O)NC(C)(C)C)OC', 'COCCNCc1cnc(N(C)CC(O)COC)nc1', 'CCCc1noc(CN(C)CC(=O)NCCCOC)n1', 'CC(C)COCCNc1c([N+](=O)[O-])c(C(C)C)nn1C', 'CNC(=O)CN(C)CC(=O)NC1CCN(C(C)=O)CC1', 'CCCCON1C(=O)N2C[C@H]1CC[C@H]2C(=O)NN(C)C', 'CCCn1c(N)c(NCC(C)(C)CO)c(=O)n(C)c1=O', 'CCCC[C@H](N)C(=O)C1CC[C@@H](C(=O)NCC(N)=O)N1', 'CCC(C)(C(=O)N1CCC(C)(C(=O)NC)C1)C(N)=NO', 'COCCOc1nc(COC)nc(NCC(C)C)c1N', 'CCOC(OCC)c1cn(C(C)C(=O)NC(C)C)nn1', 'CCCCn1c(N)c(NC(C)CCCO)c(=O)[nH]c1=O', 'CC(O)CCN(C)C(=O)NCc1noc(C(C)(C)C)n1', 'CN1CCN(C(=O)C(=O)NCCN2CCOCC2)CC1', 'COCCNc1nc(COC)nc(OCC(C)C)c1N', 'COC(=O)N(C)/C(=N/C(=O)NC1CCCCC1)N(C)C', 'CCCc1nc(C(=O)N(CCCOC)CCOC)n[nH]1', 'CCCCOCCNc1c([N+](=O)[O-])c(C(C)C)nn1C', 'CC(=O)NCCNC(=O)NC1CC(=O)N(C(C)(C)C)C1', 'COC1(C(C)N=[N+]=[N-])CCN(C(=O)OC(C)(C)C)CC1', 'CC(=O)N1CCN(CCC(N)=O)C[C@@H](C(=O)N(C)C)C1', 'CCNC(=O)CN(C)C(=O)C1(C(N)=NO)CCCCC1', 'NCCCC[C@@H](C=O)NC=CN[C@H](C=O)CCC(N)=O', 'COC(=O)N1CCN(C(=O)CN2CCCNCC2)CC1', 'COCCNCc1nnc(NC(C)C2CCOCC2)o1', 'CCn1cnnc1CNCC(O)COCC1CCCO1', 'CCCn1c(N)c(NC(C)COCC)c(=O)n(C)c1=O', 'CCNC(C)c1nnc(N(C)CC2(O)CCOCC2)o1', 'COCCNc1nn(CCC(C)C)c(N)c1C(=O)OC', 'CC1CCC(NC(=O)NC2CCOC2)(C(N)=NO)CC1', 'CN(C)C(=O)C1CCC(C/N=C(\\\\N)N2CCOCC2)O1', 'CCC(CC)N(CCO)CCn1c([N+](=O)[O-])cnc1C', 'CCN1CCC2(CC1)NC(=O)N(CCOCCN)C2=O', 'O=C(O)[C@@H]1CCCN(C(=O)NCCN2CCNCC2)C1', 'NC(CN1CCC(NC(=O)C2CCCCO2)CC1)=NO', 'CCC(CC)(CCO)CNC(=O)Cn1ncn(C)c1=O', 'CC(C)NCc1nnc(N2CC(CO)OC(C)(C)C2)o1', 'CCCN1CCOC(c2noc(CC(N)COC)n2)C1', 'COCCOCCCNC(=O)c1n[nH]c(C(C)(C)C)n1', 'CCCN1CC(=O)N(CCCCCC(=O)NN)CC1=O', 'CCCCON1C(=O)N2CC1CC[C@H]2C(=O)NN(C)C', 'CCCNc1cc(NCC(O)COC)nc(COC)n1', 'CC1OCCC1C(=O)N1CCN(C(C)C(N)=NO)CC1', 'CCOCCCNC(=O)NCCc1nc(C(C)C)no1', 'Cn1cc(CC(C)(CO)CNC(=O)OC(C)(C)C)nn1', 'CCOC(=O)c1nnn(CCOCCC(C)C)c1CN', 'CCCCC(N=[N+]=[N-])C(O)C(=O)N[C@H]1CCCC[C@@H]1O', 'CN(C)C(=O)N1CCN(C(=O)CC2COCCN2)CC1', 'CC(C)(C(=O)N1CC(O)CC1C(N)=O)N1CCNCC1', 'CN(C)C(=O)CN1CCN(C(=O)C2CC(O)CN2)CC1', 'CO/N=C(\\\\C)C1(NO)C(=O)N(C(C)C)N=C1C(C)(C)C', 'CCCNc1cc(NC(CO)CO)nc(COCC)n1', 'COCC1CC[C@@H](N=[N+]=[N-])[C@@H](NC(=O)OC(C)(C)C)C1', '[2H]C1(C(N)=O)CCCN1[C@@H](CC(C)C)C(=O)NCC(N)=O', 'CC(C)(C)CC(=O)N1CC(N)CC1C(=O)NCC(N)=O', 'CNCCC(=O)NCCCC(=O)C1(C(N)=O)CCCN1', 'CCc1nc(C(=O)OC)c(N)n1CCN(C)CCOC', 'CC(C)(C)OC(=O)N1CCC[C@@H]([C@](C)(O)CN=[N+]=[N-])C1', 'CNC(=O)COCC(N)CCOCCCn1ccnc1', 'O=C(NCCNC(=O)C1CC1)NCCN1CCOCC1', 'CC1CCC(C(=O)N2CCN(C(C)C(N)=NO)CC2)O1', 'COCCN(C(=O)c1n[nH]c(C(C)C)n1)C(C)COC', 'CC(C(=O)O)N1CCN(C(=O)NC2CCN(C)C2)CC1', 'NC(=O)NCC1CCCN(C(=O)NCC2CCCO2)C1', 'CCCC1CC(=O)N(C(CCCNC(N)=O)C(N)=O)C1', 'COCCOCCCCNC(=O)c1cn(CCN)cn1', 'CN(C)C(=O)N1CCN(C(=O)CC2CNCCO2)CC1', 'CCOCCN(CCOCC)C(=O)c1n[nH]c(C)c1N', 'CCCNC(COC)Cc1c([N+](=O)[O-])c(C)nn1CC', 'CCC1(CC)NC(=O)N(CC(=O)NCC(C)NC)C1=O', 'CC/C=C(\\\\CC)N(C)C(=O)CNC(=O)CNC(=O)CN', 'CC.COc1ccc([N+](=O)[O-])c(N(CCN)C(C)C)n1', 'CCN(CC(=O)NC)C(=O)C1(C(N)=NO)CCCCC1', 'Cc1nc(CN(C)CC2(CO)CCCC2)n[nH]1.O=CO', 'CCC(N)(CC)COc1c([N+](=O)[O-])c(C)nn1C(C)C', 'CCOC(=O)N1CCN(C(=O)CN2CCNCC2)CC1', 'COC(=O)NC1CCN(CC(=O)N2CCCNCC2)C1', 'CCC(CC)C(O)CNC(=O)NCCc1nc(C)no1', 'CC(C)(N)CN1C(=O)NC2(CCN(CCO)CC2)C1=O', 'CC(C)CNCC(=O)NCC(=O)NC(=O)[C@H]1CCCN1', 'CN(C)C(=O)CN1CCN(C(=O)C2CNCCO2)CC1', 'CNc1nc(C(C)C)nc(NC(CO)(CO)CO)c1C', 'CC(C)(C)OC(=O)N1CC(/N=C(\\\\N)N2CCOCC2)C1', 'CCC(C)(C(=O)N(C)CC(=O)N1CCCC1)C(N)=NO', '[2H]C([2H])([2H])C([2H])(C([2H])([2H])[2H])C([2H])([2H])[C@@]([2H])(C(=O)NCC(N)=O)N1CCCC1C(N)=O', 'CCCN(CC(=O)N(C)C)C(=O)C1(C(N)=NO)CCC1', 'CCN1CCN(C(=O)N2CCN(CC(=O)O)CC2)CC1', 'CC1COCCN1CC(=O)N1CCC(C(=O)NN)CC1', 'CN1CCC(NC(=O)N2CCN(CCC(=O)O)CC2)C1', 'CN(C)C(=O)N1CCC(C(=O)O)(N2CCNCC2)CC1', 'CC(C)(C)OC(=O)NCCCCC(N)C(=O)NCC#N', 'CNC(=O)NC(=O)C(C)N1CCC(N(C)C(C)=O)CC1', 'CCC(CO)NC(=O)NCCCc1nc(C(C)C)no1', 'CC(C)(C)OC(=O)N1CCC[C@H]([C@](C)(O)CN=[N+]=[N-])C1', 'COCC(C)Cc1nc(C(N)CN2CCOCC2)no1', 'NC(=NO)C(NC(=O)NC1CCOC1)C1CCCCC1', 'CC(C)(NC(=O)C1(C(N)=NO)CCCCCC1)C(N)=O', 'CC1CCOC1C(=O)NC1(C(N)=NO)CCN(C)CC1', 'CCCCCCCn1nc(NCCO)c(=O)n(C)c1=O', 'CCn1nc(C)c([N+](=O)[O-])c1NCC(O)CC(C)(C)C', 'Cc1nn(C(C)C)c(NCCOCC(C)C)c1[N+](=O)[O-]', 'CCO[C@@H](C)c1noc(CNC(=O)NC(C)(C)CC)n1', 'CC(C)(C)OC(=O)NOCCCCNCc1ncc[nH]1', 'C=C(CCN)C(=O)N[C@H](CC(C)C)C(=O)NCC(N)=O', 'CCCn1c(N)c(NC(CCO)C(C)C)c(=O)[nH]c1=O', 'CC(C)c1noc(CCCNC(=O)N(C)C(C)CO)n1', '[H]/N=C(\\\\N)C1CC(C)CN1C(=O)[C@@H](NC(=O)OC)C(C)C', 'CCc1nn(C)c(NCC(CC)(CC)CO)c1[N+](=O)[O-]', 'CC(C(=O)NN)C(C)N1CCOCC1C(=O)NC1CC1', 'CNC(=O)C(C)CN(C)C(=O)C(=O)N1CCCNCC1', 'CC(=O)NC1N(CC(C)(C)C(=O)O)CC2CNCCN21', 'CC(C)NCc1nnc(N2CCC(OCCO)CC2)o1', 'CCCN1CCOC(c2noc(CC(CN)OC)n2)C1', 'CC(C)Cn1c(N)c(NCCOC(C)C)c(=O)[nH]c1=O', 'CCCCn1c(N)c(N[C@H](CO)C(C)C)c(=O)[nH]c1=O', 'CCCC(COC)Nc1c([N+](=O)[O-])c(C)nn1C(C)C', 'COCCN(CCO)CC(=O)Nc1c(C)nn(C)c1C', 'CNC1COCC1C(=O)NC1CCN(CC(N)=O)CC1', 'CCC/C=C/CNC(=O)/N=C(\\\\N(C)C)N(C)C(=O)OC', 'COCCOc1ncnc(NCCCOC(C)C)c1N', 'CC(C)CC(CN)NC(=O)CCCN1C(=O)CNC1=O', 'CCCC(C(=O)N1CCC(CC(N)=O)CC1)C(N)=NO', 'NCCC1CCCC(C(=O)N(CC(N)=O)CC(N)=O)C1', 'COCC(CNC(=O)c1cnn(CCCN)c1C)OC', 'CCOC(=O)NC(C/N=C(\\\\N)N1CCOCC1)C1CC1', 'COCCC(C)Nc1c(N)n(CC(C)C)c(=O)[nH]c1=O', 'CCCc1nn(C)c(N(C)CCCCCO)c1[N+](=O)[O-]', 'O=C(O)CCCNC(=O)CN1CC(N2CCNCC2)C1', 'CCCC(O)CNC(=O)NCCc1nc(C(C)C)no1', 'CNCCCCN1C(=O)C(=O)N(CCCCNC)C1=O', 'CC1CC(C(=O)NC(C)C(=O)NC(C)C)(C(N)=NO)C1', 'NCC1CN(CC(=O)N2CCCC(C(N)=O)C2)CCO1', 'CC(C)Cn1c(N)c(NCCC(C)O)c(=O)n(C)c1=O', 'CNC1COCC1C(=O)N1CCN(C(=O)N(C)C)CC1', 'CC(CCO)CNC(=O)NCCc1nc(C(C)C)no1', 'CN1CCN(C(=O)CN2CCN(CC(=O)O)CC2)CC1', 'NC1CCN(C(=O)N2CCN(CCC(=O)O)CC2)CC1', 'CCCCn1c(N)c(N(C)CC(O)CC)c(=O)[nH]c1=O', 'CCCn1c(N)c(NC(C)CCCO)c(=O)n(C)c1=O', 'CCCC(C(=O)N1CCCC(C(=O)NC)C1)C(N)=NO', 'C=C(C(=O)O)[C@@H]1CN(C(=O)C(C)(C)N)CCN1N(C)C', 'C/C(=C/N(C=O)C1CCC(CN)O1)C(=O)N(C)CCN', 'O=C(O)CC1CN(C(=O)NCCCN2CCNCC2)C1', 'CCCNc1ncnc(NC(CC)(CO)CO)c1OC', 'COCC(=O)N1CCN(C(=O)CN2CCNCC2)CC1', 'CCCNC(=O)C(N)CNC(=O)C1CCCN1C(C)=O', 'CC1CN(CC(=O)N2CCC(C(=O)NN)CC2)CCO1', 'CO.[H]/N=N/C1CC(N2C=C(C)C(=C)NC2C)OC1CO', 'CCCCC1(C)NC(=O)N(CC(C)(C)C(=O)NN)C1=O', 'COC(=O)CCN1CCN(CCN2CCNC2=O)CC1', 'CC1(C)CN(C/C(N)=N/OCC(=O)NC2CC2)CCO1', 'CN(C)CCN(CC(=O)O)Cc1noc(C(C)(C)C)n1', 'CCC1(C(=O)O)CCN(C(=O)NN2CCN(C)CC2)C1', 'C[C@@H](N)C(=O)NC1CC(=O)N(CCN2CCOCC2)C1', 'CCOC(=O)C1(NCCCN=[N+]=[N-])CCC(OC)CC1', '[2H]C([2H])(C(C)C)[C@@H](C(=O)NCC(N)=O)N1CCCC1C(N)=O', 'CC(C)(C)OC(=O)N[C@H](CN=[N+]=[N-])CC1CCCOC1', 'CCOCc1nc(N)cc(N(CCOC)CCOC)n1', 'CCCC(C)(N)C(=O)N(C)Cc1nc(C(C)OC)no1', 'CC[C@@H](C)[C@@H](NC(=O)CNC1CC1)C(=O)NCC(N)=O', 'CN1CCC(NC(=O)C2CCCOC2)(C(N)=NO)CC1', 'COCCc1noc(CN2CCN(C[C@@H](C)O)CC2)n1', 'CCNC(=O)C1CNCCN1CC(=O)N1CCOCC1', 'CCN(CC)C(=O)CNC(=O)C(=O)N1CCCNCC1', 'CC(C)C(C)(CN)NC(=O)CCCN1C(=O)CNC1=O', 'CCC1C(=O)NCCN1C(=O)C(CC(C)C)NC(N)=O', 'CC(C)(C)OC(=O)N[C@@H](CCCCN)C(=O)NCC#N', 'C=CCN(CC(=O)O)C(=O)NCCCN1CCNCC1', 'CN1CCN(C(=O)N2CCCN(CC(=O)O)CC2)CC1', 'CC(C)(C)OC(=O)N/C1=N/CCCCCCNC(=O)N1', 'CN(C)CCCNC(=O)CC(=O)N1CCN(C=O)CC1', 'CCC(CC)n1nc(NCCOC)c(C(=O)OC)c1N', 'CCNC(=O)C1CCN(C(C)C(=O)NC(=O)NC)CC1', 'NC(=O)CN1CCCC(CN2CCN(C(=O)O)CC2)C1', 'CCOCCN(CCOCC)C(=O)c1n[nH]c(CC)n1', 'CN1CCN(C(=O)CNC(=O)NC2CCOCC2)CC1', 'OCCn1cc(CNCCCOCC2CCCO2)nn1', 'CN1CCC(NC(=O)N2CCCN(CC(=O)O)CC2)C1', 'COCCCOCCn1ncc(N(C)CCN)cc1=O', 'CCCC1CC(NCCN=[N+]=[N-])(C(=O)OCC)CCO1', 'CC(C)(C)OC(=O)N1CCC([C@](C)(O)CN=[N+]=[N-])CC1', 'CNC(=O)CN1CCN(C(=O)CN2CCOCC2)CC1', 'COCCNCc1cncn1C(C)C(=O)NCCOC', 'CCC(C)(C(=O)N1CCC(C(=O)NC)CC1)C(N)=NO', 'CC(C(=O)O)N1CCN(C(=O)N2CCCC(N)C2)CC1', 'CC(=O)N1CCN(C(=O)CNC(=O)[C@@H](N)C(C)C)CC1', 'CCOC(CNC(=O)c1n[nH]c(C(C)(C)C)n1)OCC', 'CC1CCC(NC(=O)N2CCOCC2)(C(N)=NO)CC1', 'CC(C)CN(CC(N)=O)C(=O)C1(C(N)=NO)CC(C)C1', 'Cc1nn(CC(O)CNC(C)C(C)C)c(C)c1[N+](=O)[O-]', 'CCCc1nc(NC)c(C)c(NC(CO)(CO)CO)n1', 'NC1CCN(C(=O)N2CCCN(CC(=O)O)CC2)CC1', 'CCCn1c(N)c(NCCOCC(C)C)c(=O)[nH]c1=O', 'CCNC(=O)NC(=O)C(C)N1CCCC1C(=O)N(C)C', 'CC(C)(CNC(=O)C1CNC(=O)CN1)N1CCOCC1', 'CCC(COC)Nc1c(N)n(CC(C)C)c(=O)[nH]c1=O', 'CCNC(=O)N1CCN(C(=O)C2(N)CCOCC2)CC1', 'CCC1C(=O)NC(=O)CN1CCC(=O)N(C)CCCN', 'CCCn1c(N)c(NCC(C)COC)c(=O)n(C)c1=O', 'CNC(=O)CN(C)CC(=O)NCCCN1CCCC1=O', 'CCc1nn(C)c(NCCCCOC(C)C)c1[N+](=O)[O-]', 'NC(=O)CN1CCC(NC(=O)NC[C@H]2CCCO2)CC1', 'CC(O)CCNC(=O)NC(C)c1nc(C(C)(C)C)no1', 'CCOCc1nc(NN)cc(OCCOC(C)(C)C)n1', 'CCOCc1nc(NC)cc(NC(CCO)COC)n1', 'NCCCCC(N)C(=O)N1CC2CC(C1)N2CC(=O)O', 'CCOC(OCC)c1cn(CCCC(=O)N(C)C)nn1', 'CCOCc1nc(NC)cc(N(CCO)CCOC)n1', '[H]/N=C(\\\\O/C(C)=N/[H])N1CCCN(C(=O)OC(C)(C)C)CC1', 'CC(C)Cn1c(N)c(NC(C)(C)CCO)c(=O)[nH]c1=O', 'CCCNCc1nnc(N(C)CC2(O)CCOCC2)o1', 'CCC(CC)(C(=O)N1CCCN(C)C(=O)C1)C(N)=NO', 'CCN(CC(N)=O)C(=O)C1(C(N)=NO)CCCCCC1', 'Cc1nn(CC(O)CNCCC(C)C)c(C)c1[N+](=O)[O-]', 'CCN/C(=N\\\\CC(=O)N1CCCC1)NCCC(=O)OC', 'CN(C)c1cc(CCOCCO)nn1CCC(N)C=O', 'COCN1CCNC(=O)CN2CCC[C@H]2C(=O)NCC1', 'COCCNCc1nnc(NCC2(CCOC)CC2)o1', 'CCCn1nc(C)c([N+](=O)[O-])c1NC(C)(C)C(C)(C)O', 'COCCOCCOCCn1cc(CNC2CC2)nn1', 'CC(C)N(CC(N)=O)C(=O)C1(C(N)=NO)CCCCC1', 'CC(C)C(N)CCN(C)C(=O)CN1CCC(=O)NC1=O', 'CCNc1nc(OCC)nc(OCCOC(C)(C)C)n1', 'CCC(C)(C(=O)N1CCCC(C(=O)NC)C1)C(N)=NO', 'NC(=NO)C1(NC(=O)N2CCOCC2)CCCCCC1', 'C/N=C(\\\\N)C1CCCN1C(=O)[C@@H](NC(=O)OC)C(C)C', 'CCNC(=O)N1CCN(C(=O)[C@@H]2CC[C@H](CN)O2)CC1', 'CCCN1CCOC(c2noc(CNCCOC)n2)C1', 'CC(C)(C)N1CC(NC(=O)N(C=O)CCCN)CC1=O', 'CCc1nn(C)c(NCC(O)CC(C)(C)C)c1[N+](=O)[O-]', 'CC(C)[C@H](N)C(=O)NCC(=O)NC1CCC(=O)N(C)C1', 'COCCNCC(=O)NC(C)c1nc(C(C)(C)C)no1', 'CN[C@@H](C)[C@H](O)[C@H](C)CC(=O)ONCCc1cnc[nH]1', 'CCC1(CC)NC(=O)N(CC(=O)NC(C)(C)CN)C1=O', 'CNC(=O)NC(=O)C(C)NCCC(=O)N1CCCCC1', 'CN1CCN(C)C(CNC(=O)N2CCCC2C(=O)O)C1', 'CC(=O)C[C@H](NC(=O)[C@@H](C)CCCN=C(N)N)C(C)=O', 'CCCCN(CC(N)=O)C(=O)C1(C(N)=NO)CC(C)C1', 'CC(C)NC(=O)C1CCC(CC1)N2C3=C(C=CC(=C3)CN4CCC(CC4)C(C)(C)O)N=C2NC(=O)C5=CC=C(C=C5)F', 'CC1(C)CC(=O)n2c(c(-c3ccc(C(N)=O)c(NC4CCCCC4)c3)c3ccc(F)cc32)C1.CCCNCC(=O)NC', 'CC.CCC.CCCc1c(Cc2ccc(-c3ccccc3/C(C)=N/OC(C)=O)cc2F)c(=O)n(CC)c2nc(C)nn12', 'Cc1cncc2c1c(C[C@H]1CCN(CC3CCN(C(=O)[C@@H](C)O)CC3)C1)cn2-c1ccc(F)cc1C(=O)N(C)C(C)C', 'CC.CCc1ccccc1.COc1ccc2[nH]c(C(=O)NCCNC=O)cc2c1.Fc1ccc(N2CCNCC2)cc1', 'CC(=O)N1CCC([C@H](CO)N2CC[C@@H](Cc3cn(-c4ccc(F)cc4C(=O)N(C)C(C)C)c4cncc(C)c34)C2)CC1', 'CC(C)(C)OC(=O)C(c1cccc2cnn(C3COC3)c12)N1CCC(C(F)CCCCc2ccc3c(n2)NCCC3)C1', 'CC(C)C(=O)NC1CCC(n2c(NC(=O)c3ccc(F)cc3)nc3ccc(CN4CCC(C(C)(C)O)CC4)cc32)CC1', 'COCC(=O)N1CCC(CN2CC[C@H](Cc3cn(-c4ccc(F)cc4C(=O)N(C)C(C)C)c4cncc(C)c34)C2)CC1', 'CC(CC(N)CNC(=O)c1cc(C(=O)N2CCCC2)ccn1)C(=O)Nc1ccc(F)cc1.CCC.Cc1ccccc1', 'CNCC(Cc1ccc2ccccc2c1)N1CCN(C(=O)C(Cc2ccc(F)cc2)NC(=O)C(C)(C)N)C(COC)C1', 'CCN(C(C)C)C(C)C.O=C(CC1CCCO1)N1C[C@@H]2CN(c3cccc4c3cnn4-c3ccccc3F)C(=O)[C@H]2C1', 'CC[C@]1(F)CN(C(=O)c2cc3nc(C4CCC(C)(C)CC4)cc(N(C)c4c(C)cccc4C)n3n2)CC[C@H]1CC(=O)O', 'CC(C)C(=O)NC1CCC(n2c(NC(=O)c3cccc(F)c3)nc3ccc(CN4CCC(C(C)(C)O)CC4)cc32)CC1', 'Cc1ncnc(C)c1C(=O)N1C=C2CN(C(C)CC(c3cccc(F)c3)C3CCN(C(=O)OC(C)(C)C)CC3)CC2C1', 'CCCC1CCCCN1C(=O)c1cc(C(=O)N[C@@H](Cc2ccccc2)[C@@H](O)CNCc2ccc(F)c(C)c2)nn1CC', 'Cc1cncc2c1c(C[C@H]1CCN(CC3(C)CCN(C(=O)CO)CC3)C1)cn2-c1ccc(F)cc1C(=O)N(C)C(C)C', 'C#C.CC/C=C(\\\\C)c1cc(C2CCN(C(=O)OC(C)(C)C)CC2)n2ncnc(N)c12.FC/C=C/OCc1ccccc1', 'CC.CC1(C)C[C@@H]1C(=O)N1CC2(CCN(C(=O)c3cnn(Cc4ccccc4)c3)C2)C1.O=CNCc1cccc(F)c1.[H][H]', 'C=C(C(CN1C[C@@H]2CC1C(=O)N2C(c1ccc(F)cc1)C1CCCCC1)NC(=O)OC(C)(C)C)N1C(C#N)CC2CC21', 'C=C(C(CN1C[C@@H]2CC1C(=O)N2[C@H](c1ccc(F)cc1)C1CCCCC1)NC(=O)OC(C)(C)C)N1C(C#N)CC2CC21', 'Cc1c(Cc2ccc(C(=O)NO)cc2)c2ccccc2n1CC1CCN(CC2(F)CCN(C(=O)NC(C)C)CC2)CC1', 'CC1CNCCN1C(=O)CCC(CCC(=O)Cc1cc2ccccc2cn1)N(C)C.Cc1c(F)cccc1CNC=O', 'CC(=O)N1CCC(CN2CC[C@@H](Cc3cn(-c4ccc(F)cc4C(=O)N(CCO)C(C)C)c4cncc(C)c34)C2)CC1', 'CC(C)C(=O)NC1CCC(N2/C(=N/C(=O)c3ccc(F)cc3)Cc3cnc(CN4CCC(C(C)(C)O)CC4)cc32)CC1', 'Cc1cncc2c1c(C[C@H]1CCN(CC3CCN(C(=O)CCO)CC3)C1)cn2-c1ccc(F)cc1C(=O)N(C)C(C)C', 'Cc1cncc2c1c(C[C@H]1CCN(CC3CCN(C(=O)[C@H](C)O)CC3)C1)cn2-c1ccc(F)cc1C(=O)N(C)C(C)C', 'CC(C)(C)OC(=O)C(c1cccc2cnn(C3COC3)c12)N1CC[C@@H](C(F)CCCCc2ccc3c(n2)NCCC3)C1', 'CCOC(=O)CC1CCN(C(=O)c2cc3nc(C4CCC(C)(C)CC4)cc(N(C)c4c(C)cccc4C)n3n2)CC1F', 'CC.CO.Cc1ccc(N2CC(C)(C)c3nc(C(=O)N4CCN(c5cc(CC=O)ccn5)CC4(C)C)ccc32)cc1F', 'Cc1cncc2c1c(CC1CN(CC3CCN(C(=O)OC(C)(C)C)C3)C1)cn2-c1ccc(F)cc1C(=O)N(C)C(C)C', 'CC1CCC(c2cc(C(=O)N3CCN(C(=O)c4cc(F)cc(N5CCNCC5)c4)CC3)ccc2O[C@H]2CCNC2)CC1', 'C=Cc1ccc(F)cc1-c1cn(Cc2ccccc2)c([C@H](N(CC[C@H](N)COC)C(=O)N2CCOCC2)C(C)(C)C)n1', 'C[C@@H]1CC(OC(=O)N2CCc3c([nH]c4c3CCC=C4)C2C2C=CC(OCCCCCCN3CN=CN3)CC2)=CC=C1F', 'CCOC(=O)C[C@@H]1CCN(C(=O)c2cc3nc(C4CCC(C)(C)CC4)cc(N(C)c4c(C)cccc4C)n3n2)C[C@@H]1F', 'CC(C)NC(=O)C1CCC(n2c(NC(=O)c3ccccc3)nc3c(F)cc(CN4CCC(C(C)(C)O)CC4)cc32)CC1', 'CC(C)NC(=O)C1CCC(n2c(NC(=O)c3cccc(F)c3)nc3ccc(CN4CCC(C(C)(C)O)CC4)cc32)CC1', 'C=C(F)C(=O)N1CCN(c2nc(OCC3CCCN3C)nc3c2CCC2(CCc4c(C)cccc4C2)C3)CC1COC', 'Cc1cncc2c1c(CC1CN(CC3CCN(C(=O)C(C)(C)O)CC3)C1)cn2-c1ccc(F)cc1C(=O)N(C)C(C)C', 'COCCOc1ccc(N(Cc2cnccc2C)C2CCN(C(C)CCNC(=O)c3c(C)cc(F)nc3C)CC2)cc1', 'Cc1nn(C)c(N2CCN(C)CC2)c1CC1=C(O)CC(CCc2ccc(C(C)(C)C#N)c(F)c2)(C2CCCC2)OC1=O', 'COCC(=O)N1CCC(CN2CC[C@@H](Cc3cn(-c4ccc(F)cc4C(=O)N(C)C(C)C)c4cncc(C)c34)C2)CC1', 'C=C(F)C(=O)N1CCN(c2nc(OC[C@@H]3CCCN3C)nc3c2CC[C@]2(CCc4c(C)cccc4C2)C3)C[C@@H]1COC', 'C=C(C(CN1C[C@@H]2CC1C(=O)N2C(c1ccc(F)cc1)C1CCCCC1)NC(=O)OC(C)(C)C)N1C(C#N)CC2C[C@@H]21', 'CC(C)N(C)C(=O)c1cc(F)ccc1-n1cc(C2CCC(N(C)CC3CCC(NC(=O)O)CC3)CC2)c2ccncc21', 'CC(C)N(C(=O)c1cc(F)ccc1Oc1cncnc1N1CCC2(CCN(C(=O)[C@H]3CC4CCC3CC4)C2)C1)C(C)C', 'C=C(F)C(=O)N1CCN(c2nc(OC[C@@H]3CCCN3C)nc3c2CC[C@@]2(CCc4c(C)cccc4C2)C3)C[C@@H]1COC', 'Cc1cn(-c2ccc(F)cc2C(=O)N(C)C(C)C)c2cncc(CC3CCN(CC4CCN(C(=O)CCO)CC4)C3)c12', 'N[C@H](CF)C1CCC(C(=O)N2CC[C@@H](C3CCCCC3)[C@H]2C(=O)Nc2ccc(C(=O)NCc3ccccn3)cc2)CC1', 'Cc1nn(C)c(N2CCN(C)CC2)c1CC1C(=O)CC(CCc2ccc(C(C)(C)C#N)c(F)c2)(C2CCCC2)OC1=O', 'COc1ccccc1C(=C/C=O)/N=C/N(C)C.O=C(N1CCCC2(CCCC2)C1)N1CCNCC1c1cccc(F)c1', 'NC1CCN(C2C(F)CC3C(=O)C(C(=O)N4CCC(c5ccccn5)C4)=CN4C5CC6CCCCC6CC5OC2C34)C1', 'NC1CCN(C2C(F)CC3C(=O)C(C(=O)N4CCC(c5cccnc5)C4)=CN4C5CC6CCCCC6CC5OC2C34)C1', 'CCCC1CCCCN1C(=O)c1cc(C(=O)N[C@@H](Cc2ccccc2)[C@H](O)CNCc2ccc(F)c(C)c2)nn1CC', 'COCCOc1ccc(N(Cc2cnccc2C)C2CCN([C@H](C)CCNC(=O)c3c(C)cc(F)nc3C)CC2)cc1', 'CCC(C)C1C(=O)N(C(C(=O)N(C(C(=O)NCCC(=O)OC(C(=O)N2CCCC2C(=O)N1)CC(CO)O)C)C)C(C)C)C', 'COC(=O)[C@H]1C[C@@H](OCc2cn(CCCCCOC(=O)N[C@H](C(=O)OC(C)(C)C)C(C)C)nn2)CN1C(=O)OC(C)(C)C', 'CCCCCCCC(=O)OCC[C@H](OC)[C@@H]1OC(C(=O)OC2(OC(=O)[C@@H](N)C(C)C)CC2)=C[C@H](N=C(N)N)[C@H]1NC(C)=O', 'CC(C)C(=O)[C@H](CCCNC(N)=O)CC(=O)[C@@H](NC(=O)CCOCCOCCNC(=O)CCN1C(=O)CCC1=O)C(C)C', 'CCC(CC)C(=O)N[C@@](C)(CC)C(=O)N[C@@H](CC(=O)N1CCCC1)C(=O)N[C@@H](CC(=O)O)C(=O)N[C@@H](CC(C)C)C(=O)O', 'CC(C)COC(=O)NCC(=O)N[C@@H](CC(C)C)C(=O)NC(CC(C)C)C(=O)C(=O)NCC(=O)N[C@H](C(=O)O)C1CCCC1', 'CCC(=O)NCCOCCOCC(=O)NCCOCCOCC(=O)CCCCC[C@H](CC(=O)CCc1cnc[nH]1)C(N)=O', 'CCC(CC)C(=O)NC(C(=O)NC(CC(=O)N1CCCC1)C(=O)NC(CC(=O)O)C(=O)NC(CC(C)C)C(=O)O)C(C)C', 'C=CCn1c(=O)n(C)c(=O)n(C)c1=O.CCC(O)CN1C(=O)N(CC(O)CC)C(C)(C)C1=O.COC(=O)C1CCCCC1', 'CCC(C)[C@H](NC(=O)CC(C)C)C(=O)N[C@@H](CC(=O)N1CCCC1)C(=O)N[C@@H](CC(=O)O)C(=O)N[C@@H](CC(C)C)C(=O)O', 'CCCC(NC(=O)C1CCCN1C(=O)[C@@H](NC(=O)OCC(C)C)C(C)C)C(=O)C(=O)NCC(=O)N[C@H](C(=O)O)C(C)CC', 'CC1=C[C@@H](N(O)C(=O)OC(C)(C)C)CN(C(=O)OC(C)(C)C)[C@@H]1C(N)=O.C[C@@H]1C=CCN(C(=O)OC(C)(C)C)[C@@H]1C(N)=O', 'COC(=O)[C@@H]1C[C@@H](OCc2cn(CCCCCOC(=O)N[C@H](C(=O)OC(C)(C)C)C(C)C)nn2)CN1C(=O)OC(C)(C)C', 'CCCCCCC1CC(=O)N(CCCC(=O)CN2CCN(CC(=O)O)CCN(CC(=O)O)CCN(CC(=O)O)CC2)C1=O', 'CNC(=O)COCCOCCNC(=O)COCCOCCNC(=O)[C@H](CCCCN)CC(=O)[C@@H](N)Cc1ccc(O)cc1', 'CCOCCOCC(=O)NCCOCCOCC(=O)NCCCCC(CC(=O)[C@@H](N)Cc1cnc[nH]1)C(=O)CCC(C)=O', 'C/C=C\\\\C(=O)N(C=O)CCCC(=O)N[C@@H](CCCCNC(=O)COC(C)(C)COC)C(=O)NC(C(=O)NCC=O)C(C)C', 'CCCC(NC(=O)[C@@H]1CCCN1C(=O)[C@@H](NC(=O)OCC(C)C)C(C)C)C(=O)C(=O)NCC(=O)N[C@H](C(=O)O)[C@@H](C)CC', 'CC(C)(C)OC(=O)CC(N)C(=O)CC(CC(=O)OC(C)(C)C)C(=O)NC(CC(=O)OC(C)(C)C)C(=O)CCCCN=[N+]=[N-]', 'CC(=O)CN1CCN(CC(=O)ON2C(=O)CCC2=O)CCN(CC(=O)OC(C)(C)C)CCN(CC(=O)OC(C)(C)C)CC1', 'CCC(CC)C(=O)N[C@H](C(=O)N[C@@H](CC(=O)N1CCCC1)C(=O)N[C@@H](CC(=O)O)C(=O)N[C@@H](CC(C)C)C(=O)O)C(C)C', 'CC(C)(C)OC(C(=O)O)N1CCN(C(OC(C)(C)C)C(=O)O)Cc2cc(N)cc(n2)CN(C(OC(C)(C)C)C(=O)O)CC1', 'CC[C@H](C)[C@@H]1NC(=O)[C@@H](CC(C)C)NC(=O)[C@H]([C@@H](C)O)NC(=O)[C@H](CO)NC(=O)[C@@H](CC(C)C)NC(=O)CCC(=O)C1=O', 'COCCOC[C@@H]1CCCN([C@@H]2C=C(C(=O)O)C[C@H](N=C(NC(=O)OC(C)(C)C)NC(=O)OC(C)(C)C)[C@H]2NC(C)=O)C1', 'CCOCCOCCOCCOCCC(=O)N[C@H](C(=O)N[C@@H](CCCNC(N)=O)C(=O)Nc1ccc(CO)cc1)C(C)C', 'CCCC(NC(=O)C1CCCN1C(=O)[C@@H](NC(=O)OCC(C)C)C(C)C)C(=O)C(=O)NCC(=O)N[C@H](C(=O)O)[C@H](C)CC', 'CCC(C)C(NC(=O)CC(C)C)C(=O)NC(CC(=O)N1CCCC1)C(=O)NC(CC(=O)O)C(=O)NC(CC(C)C)C(=O)O', 'CC(C)(C)OC(=O)CN1CC2(CCN(C(=O)CCCCN=C(NC(=O)OC(C)(C)C)NC(=O)OC(C)(C)C)CC2)OC1=O', 'CC(C)[C@H](CCOCCOCCOCCOCCC(N)=O)C(=O)N[C@@H](CCCNC(N)=O)C(=O)Nc1ccc(CO)cc1', 'CC[C@H](C)[C@H](NC(=O)CC(C)C)C(=O)N[C@@H](CC(=O)N1CCCC1)C(=O)N[C@@H](CC(=O)O)C(=O)N[C@@H](CC(C)C)C(=O)O', 'CC(C)[C@@H]1NC(=O)[C@@H]2[C@@H](C)CCN2C(=O)[C@@H](C[C@@H](O)CO)OC(=O)CCNC(=O)[C@H](C)N(C)C(=O)[C@H](C(C)C)N(C)C1=O', 'CC(C)[C@H](NC(=O)OCCCCCn1cc(CO[C@H]2CN(C(=O)OC(C)(C)C)[C@](C)(C(=O)O)C2)nn1)C(=O)OC(C)(C)C', 'CC(C)COC(=O)NCC(=O)N[C@@H](CC(C)C)C(=O)NC(CC(C)C)C(=O)C(=O)NCC(=O)NC(C(=O)O)C1CCCC1', 'CCC(C)(C)OC(=O)CCNC(=O)C(=O)CNC(=O)C1CCCN1C(=O)C(NC(=O)NC(C)C(=O)OC(C)C)C(C)(C)C', 'CCCC(NC(=O)C1CCCN1C(=O)C(NC(=O)OCC(C)C)C(C)C)C(=O)C(=O)NCC(=O)NC(C(=O)O)C(C)CC', 'CC(=O)NCCOCCOCC(=O)NCCOCCOCC(=O)CCCCC[C@H](NCC(=O)CCc1cnc[nH]1)C(C)=O', 'CC(CCCCC(C(CO)C(=O)OC)O)C/C(=C/C(=C/C(=O)O)/C)/C', 'CCC(C)(C)C(=O)OC1C(C2COC(C)(C)O2)CC2OC(C)(C)OC21', 'C[C@H]1[C@@H](OCCCCO)O[C@@H]2O[C@@]3(C)CC[C@H]4[C@H](C)CC[C@@H]1[C@@]24OO3', 'C=C(C)C(=O)OC(CCCCCCCCCCCC)(C(=O)O)C(=O)O', 'CCCCc1c(CCC)cccc1OCC(O)C(O)C(O)C(O)CO', 'O=C1OCCC1CCCCOCCCOCCCCC1CCOC1=O', 'O=CCCCCCOOCCCCCC(=O)OCC1CCC2OC2C1', 'COCCOCC(CC1(C(C)=O)CCCCC1=O)C(=O)OC(C)(C)C', 'C=C(CC(=O)O[C@@H](C)CCCCCC)C(=O)OCC(=O)OC(C)(C)C', 'CC=C(C)C(=O)OC(COC(C)=O)COC(=O)CCCCCCCC', 'C=COCCCCC(CCCCOC=C)(CCCCC(=O)O)C(=O)O', 'CC(=O)OC1CCC(C(C)(C)C2CCC(OC(C)=O)C(O)C2)CC1O', 'CCCCOCc1cc2c(cc1CCC)OCO2.OCCOCCO', 'C[C@@H]1OC(OC2(CC/C=C/C(=O)OC(C)(C)C)CCC2)[C@H](O)CC1O', 'CCCOCC(O)C=C[C@H]1[C@@H]2CC(CCOCC(=O)O)C[C@H]2C[C@@H]1O', 'CC1(C)CC2(C3COC(C)(C)O3)CCOC2C(C2COC(C)(C)O2)O1', 'C=C(CC1COC(C)O1)C(=O)O.C=CC(=O)OCC(CC)CCCC', 'CCCCCC(OC(=O)OC1CCCCC1)OC(=O)OC1CCCC1', 'CC(C)(CCC(=O)CCCC(=O)CCCCC(=O)O)C(C)(C)C(=O)O', 'CCCCCCCCCCCC=CC=CC(OO)=C(OO)C(=O)OC', 'C=C(C)C(=O)OCC(=O)OCC(C)(C)C1OC(C)C(C)(C)C(C)(C)O1', 'C=COCCCCOCC(COC(=O)C(=C)C)OCCCCOC=C', 'C=C(C)C(=O)OCCCC(=O)OC(C)CC(CC(C)=O)CC(O)CC', 'CCCCCCCCCC/C=C/C(CC(=O)O)C(=O)OC(C)C(=O)O', 'CCC(CCOC(=O)C(C)OCC1CC1)OC(=O)C(C)OCC1CC1', 'CC=C(C)OCCOCCOCCOC(=O)CCC1OC=CC1(C)C', 'C(CC1CO1)CC(CCCC1CO1)(COCC1CO1)COCC1CO1', 'CC1(C)CC(=O)C(O)C(C)(CCC2(C)OCCO2)CC2(C1)OCCO2', 'C/C=C/C(CC(/C=C/C=C\\\\CCCCCCCC(=O)OC)OO)OO', 'OCCCOCC(COCCCO)(COCCCO)c1ccccc1', 'C=CC.C=CC.C=CC(=O)OCCOCC(C)OCCOC(=O)C=C', 'CCCCC(O)CC=C[C@H]1[C@H](O)CC(=O)[C@@H]1CCCCOCC(=O)O', 'CCCCCOC(=O)C1CC(C(=O)O)CC(C(=O)OCCCCC)C1', 'C[C@H](CCC1C=C[C@@H]1C(=O)OC(C)(C)C)O[C@@H]1O[C@@H](C)[C@H](O)C[C@H]1O', 'CC(C)CC(=O)O.CCC(=O)OCc1ccccc1.CCC=O.CO', 'O=C1OCCCC1CCC(O)CCCC(O)CCC1CCCOC1=O', 'CC(C)C(CC(=O)OC(C)(C)C)C(O)C1CC2(CCC1=O)OCCO2', 'C=C(C)C(=O)OC(O)(OC(=O)C(=C)C)C(CC(CO)C(C)C)C(C)C', 'COC(=O)C(C)(C)CCC(=O)CCCC(=O)CCC(C)(C)COC=O', 'C=COCCCCCOC(=O)CCCC(=O)OCCCCCOC=C', 'C=C(C=O)CO.C=C(CO)C(=O)OCC(CO)C1CCC(CC)CC1', 'C=COC(=O)C(C)C.C=COC(=O)CCC.C=COC(=O)CCCC', 'CCCC(C)(C)COC(=O)C1(C(=O)OCC(C)(C)CCC)OC=CO1', 'CCCCCCOC(=O)CC(CCCCCC)=C(CC(=O)O)C(=O)O', 'C[C@H]1O[C@H](C2COC3(CCCCC3)O2)C(O)[C@H]1OC1(O)CCCCC1', 'CCOC(=O)/C=C(\\\\C)C[C@@H]1OC[C@H](C/C=C\\\\[C@@H](C)[C@H](C)O)[C@@H](O)[C@H]1O', 'CCCCCCCCCCCCCOC(=O)C=C(CC(=O)O)C(=O)O', 'C[C@H]1[C@@H](OCCCCO)O[C@@H]2OC3(C)CC[C@H]4[C@H](C)CC[C@@H]1[C@@]24OO3', 'C=CC[C@H]1O[C@H]2[C@H](OCO[C@@H]2COC(=O)C(C)(C)C)[C@@H](OC)C1(C)C', 'C=C(CCO)C(=O)O.C=C(CCO)C(=O)OC1(C)CCCC(C)(C)C1', 'C=C(C)C(=O)OCC(C)OCC(C)(C)COC(C)COC(=O)C(=C)C', 'CC(O)COCCc1ccc(OCC(C)O)cc1CCOCC(C)O', 'COCCOCCOCCOCCOc1ccc(CCCCO)cc1', 'CCOCCOCCOCCOCCOCCOCc1ccccc1', 'CC(=O)OC/C=C/CC[C@@H](COC1CCCCO1)OC1CCCCO1', 'C=COCCCCCC(CCCCCOC=C)(CCC(=O)O)C(=O)O', 'C=C(C)C(=O)OCCCCCCOC(=O)CCCCCCCC(=O)O', 'C=CC(=O)OC(C)(C)C.CC=C(C)C(=O)O.CCCCC=CC(=O)O', 'O=C(CC(=O)OCC1CCC(CO)CC1)OCC1CCC(CO)CC1', 'CCCC(=O)OC[C@@H]1C[C@H](COC(=O)C(C)(C)C)[C@H]2OC(C)(C)O[C@@H]12', 'CC1=C(/C=C/C(C)OC2OC(CO)C(O)C(O)C2O)C(C)(C)CCC1', 'CC(C)[C@@H](O)C[C@@H]1O[C@]1(C)C(=O)[C@@H](C)[C@@H]1CC[C@H](C)[C@H](O)CC(=O)O1', 'COC(=O)CCC/C=C\\\\C[C@H]1[C@H](CO)[C@@H](OC2CCCCO2)C[C@H]1O', 'C=C(CCCCCC(C)C)C(=O)O.C=CC(=O)O.C=CC(=O)OCC', 'CC=CC(CC(C)CC)(C(=O)O)C(CC(C(=O)O)C(C)CC)C(=O)O', 'CCCCCCCC1(C(=O)O)OC(=O)CCCCCCCCC(=O)O1', 'CCOC(=O)CC1(OC(=O)C(C)(C)CC)COC2(CCCCC2)OC1', 'CC(C)(C)CCC(=O)OCCCCOC(=O)C1CCCCC1C(=O)O', 'CC[C@H]1[C@@H](C(=O)OC(C)(C)C)[C@H]([C@H]2COC(C)(C)O2)[C@@H]2CC[C@@]1(O)O2', 'C[C@H](CC[C@H]1C=C[C@@H]1C(=O)OC(C)(C)C)O[C@@H]1O[C@@H](C)[C@H](O)C[C@H]1O', 'C=C(C)C(=O)OCC(COC(=O)CCCCC)OC(=O)CCCCC', 'C=CC(=O)OCCOC(=O)C(CC)C(C(C)C)C(C)C(=O)OC(C)C', 'CCCC[C@H](O)C=C[C@@H]1[C@@H](CC(=O)CCCCC(=O)O)[C@@H](O)C[C@H]1O', 'C=C(C)C(=O)OC(O)(OC(=O)C(=C)C)C(CCC)CC(CO)CCC', 'CO[C@@H](CCCC[C@@H](C)C/C(C)=C/C(C)=C/C(=O)O)C(CO)C(=O)O', 'C=C(CCCCCCCCCOCOCC(=C)C(=O)OC)C(=O)OC', 'CCCCC(CC)CC(COC(=O)C1CCCCC1C(=O)O)C(=O)O', 'COC(=O)CCCCCC[C@@H]1[C@@H](C=O)[C@H](OC2CCCCO2)C[C@@H]1O', 'CC[C@H]1[C@H](C(=O)OC(C)(C)C)[C@H]([C@H]2COC(C)(C)O2)[C@@H]2CC[C@@]1(O)O2', 'OCC1CCC2(CC1)OCC1(CO2)COC2(CCC(CO)CC2)OC1', 'C[C@@H](CO)[C@@H](O)[C@@H]1C[C@H](C)[C@H]([C@]2(C)CC[C@H]([C@]3(C)CCC(=O)O3)O2)O1', 'C[C@H]1[C@@H](OOC(C)(C)C)OC2O[C@@]3(C)CC[C@H]4[C@H](C)CC[C@@H]1[C@@]24OO3', 'CCOCCOc1cc(OCCOCC)cc(OCCOC(C)C)c1', 'O=C1CCC(CCCC(O)CCCC(O)CCCC2CCC(=O)O2)O1', 'C/C(=C\\\\C(=O)O)C[C@@H]1OC[C@H](C[C@@H]2CC[C@H]2[C@@H](C)C(C)O)[C@@H](O)[C@H]1O', 'OC(O)C1OC(C2CCCCC2)OC2COC(C3CCCCC3)OC21', 'CC[C@H]1[C@H](O)C[C@@]2(O[C@@H]([C@@H](C)/C=C/C(=O)O)[C@@H](C)[C@@H](O)[C@@H]2C)O[C@@H]1C', 'C=C(C)C(=O)OC(O)(CCCCCCCCCCO)OC(=O)C(=C)C', 'COCCOC(=O)C1CCC(C(=O)OCCOC2CCCCC2)CC1', 'C=CCOCC1(CC)COC2(OC1)OCC(CC)(COCC=C)CO2', 'CCOC(=O)C1CCC2(CC1)OOC1(CCC(C(C)(C)C)CC1)OO2', 'C=C(C)C(=O)OCC(C)C.C=C(C)C(=O)OCCCC.C=CC(=O)O', 'C=C(C)C(=O)OC(C)(C)OC(=O)CCCCCCCCCCC(=O)O', 'C[C@]12CC[C@@H](O)[C@H](O)[C@@H]1[C@@H](O)[C@H](O)[C@@H]1[C@@H]2CC[C@]2(CO)[C@@H](O)CC[C@@H]12', 'CC(C)(C=O)COC(=O)CCCCCCCC(=O)OCC(C)(C)C=O', 'CCC1CC(C(=O)O)C(CC)O1.CCC1OC(CC)C2C(=O)OCC12', 'CC1=CCCC(C)(C)C1/C=C/C(C)O[C@@H]1O[C@H](CO)[C@@H](O)[C@H](O)[C@H]1O', 'CCC(OO)[C@H]1C[C@@H](/C=C/C=C\\\\CCCCCCCC(=O)OC)OO1', 'C=CC(=O)OCCCC(=O)OC1CCCCC1OC(C)=O.CCCC', 'C=C(C)C(=O)OC(C)COCC(C)(C)COCC(C)OC(=O)C(=C)C', 'O=C(O)CCCCCC(=O)CCCCCC(=O)CCCCCC(=O)O', 'CCOCCO[C@@H]1O[C@@H]2O[C@]3(C)CC[C@H]4[C@H](C)CC[C@@H]([C@H]1C)[C@@]24OO3', 'C=CCC[C@@H](OCOC)C(=O)O[C@H](CCC)[C@H]1OC(C)(C)O[C@H]1C=C', 'CCCCCC1(CC[C@@H]2CCC(=O)O[C@H](C)C[C@@H]2OC=O)OCCO1', 'C=C(C(=O)OC(C)(C)C)C(CC(=O)OC(C)(C)C)C(=O)OC(C)(C)C', 'CC(C)CCOC(=O)C1CCC(C(=O)OCCC(C)C)C(C(=O)O)C1', 'C=C(C(=O)OCCCC)C(CC(=O)OCCCC)C(=O)OCCCC', 'COCCOCCOCCOCCOCCOCCc1ccccc1', 'CC/C=C/CC1C=CC(C(CCCCCCCC(=O)OC)OO)OO1', 'CC(=O)C(CCC(=O)OC(C)(C)C)(CCC(=O)OC(C)(C)C)C(C)=O', 'C/C(=C\\\\C(=O)O)C[C@@H]1OC[C@H](C[C@@H]2CCC2[C@@H](C)[C@H](C)O)[C@@H](O)[C@H]1O', 'C=C(C)C(=O)O.C=CC(=O)OC.C=CC(=O)OCCCCCCCC', 'CCCC[C@H](C)[C@H](CC(=O)O)OC(=O)CCC(=O)OC1CCCCC1', 'CCCCCOC(=O)C1CCCC(C(=O)O)C1C(=O)OCCCCC', 'CCC(O)CO[C@H]1OC2O[C@]3(C)CCC4[C@H](C)CCC([C@H]1C)[C@@]24OO3', 'CC(C)CCCCC1(C(=O)O)OC(=O)CCCCCCCCC(=O)O1', 'CC[C@@H]1[C@H](/C=C/[C@H](CCCCCCCC(=O)OC)OO)[C@@H]2C[C@H]1OO2', 'C=CC(=O)CCCOCCOC(C)(C)OCCOCCCC(=O)C=C', 'C[C@H]1[C@@H](OCCCCO)O[C@@H]2O[C@]3(C)CC[C@H]4[C@H](C)CC[C@@H]1[C@@]24OO3', 'CC(C)(C)OC(=O)OC[C@H]1O[C@]1(C)CC[C@H]1O[C@@H]1CC[C@H]1OC1(C)C', 'CCCCC[C@H](/C=C/[C@@H]1[C@H](CCCCC(=O)OC)[C@@H]2C[C@H]1OO2)OO', 'CCC(COC(=O)CCC(=O)OCC1CCCC(O)C1)CC1OC1C', 'CC1CCC(OC(=O)OOC(=O)OC2CCC(C(C)(C)C)CC2)CC1', 'CC(OC1CC1)[C@@H](OC1CC1)[C@@H](O)[C@H](O)[C@@H](COC1CC1)OC1CC1', 'C=C(C)C(=O)O.C=C(C)C(=O)OCC(C)C.C=CC(=O)OCC(C)C', 'CCC=CC=CC(CC(C=CCCCCCCC(=O)OC)OO)OO', 'CCCCCCCCCCCC1(C)OC[C@@H]([C@H]2OC(=O)C(O)=C2O)O1', 'CCCCCCCCC(=O)CCC(=O)OCCOC(=O)CCC(C)=O', 'CC[C@@H](O)[C@@](C)(OCOC)[C@H](OCc1ccc(OC)cc1)[C@@H](C)CO', 'CCCOCCOCCOc1ccc(OCCOCCOCC)cc1', 'CCC(=O)C=C(C)C[C@@H]1OC[C@H](C[C@@H]2O[C@H]2[C@@H](C)[C@H](C)O)[C@@H](O)[C@H]1O', 'CCCCCC/C=C/C(C(=O)OCC)C(C(=O)OCC)C1OCCO1', 'C[C@H](CCC(=O)O)CC(=O)OC1CCC(OC2CCC(O)CC2)CC1', 'CC(=O)O[C@@H]1[C@H](C)[C@@H]2[C@@H](OC(C)=O)[C@H]([C@H](C)CO)CC[C@@]2(C)C[C@@H]1O', 'CC=CC[C@@H](O)C[C@@H](O)CC(=O)O.CC=CC[C@@H]1C[C@@H](C)CC(=O)O1', 'C1COCCOCC23CC4CC(C2)CC(COCCOCCO1)(C4)O3', 'CC(=C\\\\C(=O)O)/C=C(\\\\C)C[C@@H](C)CCCCC[C@H](O)C(CO)C(=O)O', 'CCOC(=O)CCCCC(=O)CCCCCC(=O)CCCCC(=O)O', 'CCCCCCOC(=O)/C=C(/C)C(=O)OCC(=O)OCCCCCC', 'CC(=O)OC[C@H]1C[C@@H](C)C[C@@H](C)[C@@H](OC(C)=O)C12O[C@H](C)C[C@H](C)O2', 'C[C@]12CC[C@H]3[C@@H](CCC4C[C@@H](O)C(O)C(O)(O)[C@@]43C)[C@@H]1C[C@H](O)[C@@H]2O', 'CCCOCOC(=O)CC1CCCC(COC(=O)C(C)(C)CC)C1=O', 'CCC(/C=C/C=C\\\\CC(/C=C/CCCCCCC(=O)OC)OO)OO', 'CC1OC(C)(C)C(C)C(O)C1COCC1CC(C(=O)O)=CC(O)C1C', 'CCOC(=O)/C=C/[C@@H]1OC(C)(C)O[C@@H]1CCCCC[C@H](C)OC(C)=O', 'C.CC.CCC(=O)OC.CCC(=O)Oc1cccc(OC(=O)CC)c1', 'CC(CCCCCCCC1OC1C1OC1CCCCC(=O)O)C(=O)O', 'CCC(C)C(=O)OCCOC(=O)C1CCCCC1C(=O)OC(C)(C)C', 'CCOC(=O)[C@H](C)[C@@H]1C[C@@H](C)[C@@H]2CC[C@@](C)(OCC)OO[C@@]2(C=O)C1', 'CC(=O)OCC=C1CC[C@@H](OC(C)=O)C(C)(CCCC(C)CO)OC1', 'CCC(=O)/C=C(\\\\C)C[C@@H]1OC[C@H](C[C@@H]2O[C@H]2[C@@H](C)[C@H](C)O)[C@@H](O)[C@H]1O', 'C=C(C)C(=O)OCCCC.C=CC(=O)OC.C=CC(=O)OCCCC', 'CCCCCCOC1CCC(C=C(C(=O)OC)C(=O)OC)CC1OC', 'CC(=C\\\\C(=O)O)/C=C(\\\\C)C[C@@H](C)CCCCC[C@@H](O)C(CO)C(=O)O', 'CCCCCCCCCC[C@H](C(=O)OC)[C@]1(C(=O)OC)CCC(=O)O1', 'CC1CC(C)[C@H]2OCOC2[C@@H]1C[C@H]1OC2[C@@H](OCO[C@@H]2C)C(O)[C@@H]1C', 'C/C=C(\\\\C)C(=O)O.C=C(CC(CC)CCCC)C(=O)O.C=CC(=O)O', 'C=C(C)C(=O)O.C=CC(=O)OCCCCCC(C)C.C=COC(C)=O', 'O=C1CCCC(CCC(O)CCCC(O)CCC2CCCC(=O)O2)O1', 'C=CC[C@@H]1OC(C)(C)O[C@@H]1[C@@H](OC(=O)C(C)(C)C)[C@@H]1COC(C)(C)O1', 'CCCOC[C@H](O)/C=C/[C@@H]1[C@@H](C/C=C\\\\CCCC(=O)O)[C@@H](O)C[C@H]1O', 'CCOC(C)CC(CC)C(=O)OC(C)COC(=O)C1CCC2OC2C1', 'CO[C@@H]1O[C@H](CCC[C@H]2O[C@@H](OC)[C@H](C)C(=O)[C@H]2C)[C@H](C)C(=O)[C@H]1C', 'CCC(CC1OC1C)C(=O)OCCCCOC(=O)C1CCCC(O)C1', 'C=C(CC(=O)OC(CCC)CCCC)C(=O)OCC(=O)OC(C)(C)C', 'CC(O)CO.CC1=CCC(C(=O)O)CC1.CC1=CCC(C(=O)O)CC1', 'CCC(C)C.CCC(C)OCCOc1ccccc1.O=C(O)C(=O)O', 'CCOC(C[C@H]1CC(OC2CCCCC2)OC=C1C(=O)OC)OCC', 'CC(C)(C)COC1CCC(OC(=O)C2CC(O)CCC2C(=O)O)CC1', 'CCCCCCCCCCCCC#CC(OCC(=O)O)OCC(=O)O', 'C=C(CC(=O)OCC(=O)OCCCCCC)C(=O)OCCCCCC', 'CC(CCCC(=O)O)C(=O)OC1(C2CCC(O)CC2)CCC(O)CC1', 'CC(=O)O.CC1CC[C@@H]2C1CC1(C(C)C)CC(OC(=O)CO)C2(C)O1', 'CC(C)CC/C=C/[C@@]1(O)[C@@H]([C@H]2COC(C)(C)O2)O[C@@H]2OC(C)(C)O[C@@H]21', 'CC[C@H](CCOC(=O)[C@H](C)OCC1CC1)OC(=O)[C@H](C)OCC1CC1', 'CCC(C)(C)C(=O)OCCOC(=O)C1CCCCC1C(=O)OC(C)C', 'CCCCCC(O)/C=C/C1C(=O)CC(O)C1CCOCCCC(=O)O', 'COCCCOC1O[C@@H]2OC3(C)CCC4[C@H](C)CCC([C@H]1C)[C@]42OO3', 'CC(=O)C[C@H](C)C(=O)C[C@@H](CC(=O)OC(C)(C)C)C(=O)OC(C)(C)C', 'CCOC(=O)[C@H](C)[C@@H]1CC[C@@H](C)[C@@H]2CC[C@@]3(C)OO[C@]21[C@@H](OCC)O3', 'CC/C=C\\\\C=C\\\\C(CC(/C=C/CCCCCCC(=O)OC)OO)OO', 'CC(=O)/C=C\\\\C(C)=O.CC(=O)CC(C)=O.CCC(C)=O.CCC1CO1', 'C=CCC[C@@H](OCOC)C(=O)O[C@H](CCC)[C@H]1OC(C)(C)O[C@@H]1C=C', 'CC(=O)O/C=C(\\\\C)CCCC(C(=O)OC(C)(C)C)C(=O)OC(C)(C)C', 'O=C1CCC(CCC(O)CCCC(O)CCC2CCC(=O)OC2)CO1', 'CC(=O)OOOC(C)=O.CC(C)=CCC/C(C)=C/CC/C(C)=C/CO', 'C=C(C)C(=O)OC(C)COC(=O)CCCCCCCCCCC(=O)O', 'CCC(OO)C1CC(/C=C/C=C/CCCCCCCC(=O)OC)OO1', 'COCCOCCOC(=O)C1CCC(C2CCC(C(=O)O)CC2)CC1', 'CCCCC(CC)CC(CC(=O)O)C1(C(=O)O)CCCCC1C(=O)O', 'C=CC(=O)OCCOC(=O)C(C)(C)CC(C)(CC)C(=O)OCCCC', 'CC.CC.O=C(CCC1OC(O)C(O)C(O)C1O)Cc1ccccc1', 'CC(=CC(C)=C(C)C(=O)O)CC(C)CCCCC(O)C(CO)C(=O)O', 'CCCCCCC(O)CC1CC(O)CC2(CC3OC(=O)CCC3O2)O1', 'C=C(C)C(=O)OCCCCCCCCCCCCC(C(=O)O)C(=O)O', 'C=C(C(=O)OC(C)CC)C(CC(=O)OC(C)CC)C(=O)OC(C)CC', 'CC(C)C(=O)O.CCCC(C)(C)C(C)(O)O.O=C(O)c1ccccc1', 'CC=C(C)C(=O)OCC(CC)(COC(=O)C(C)C)COC(=O)C(C)C', 'CC(C)(CCC(=O)CCCC(=O)CCC(C)(C)CC(=O)O)CC(=O)O', 'CC1(COCC2(C)OC(CO)C(CO)O2)C=C2CCCC(CO)(C2)C1', 'C/C(=C\\\\C(=O)O)C[C@@H]1OC[C@H](C[C@@H]2CC[C@H]2[C@@H](C)[C@H](C)O)[C@@H](O)[C@H]1O', 'CC1CCCC2(C)OC2CCOC(=O)CC(O)C(C)C(=O)C(C)C1O', 'C1CCCCCCCCC1.C=CC(=O)O.C=CC(=O)O.C=CC(=O)O', 'CCC(C=CC1C2CC(OO2)C1CCCCCCCC(=O)OC)OO', 'CC(C)(C)O[C@@H]1C(=O)OC2[C@H]3OC(C(C)(C)C)(C(C)(C)C)O[C@H]3O[C@@H]21', 'COC1CCC(OC(=O)C2CCC(OCOC(=O)C(C)C)CC2)CC1', 'CC[C@H](CCOC(=O)[C@H](C)OCC1CC1)OC(=O)[C@@H](C)OCC1CC1', 'C[C@H]1CCC[C@@]2(C)O[C@H]2CCOC(=O)C[C@H](O)[C@@H](C)C(=O)[C@H](C)[C@H]1O', 'C.C=CC(=O)OCC(C)(C)COC(=O)C=C.C=CC(=O)OCCCC', 'C[C@@]12CCC[C@H]1[C@@H]1CC[C@H]3CC(O)(O)C(O)(O)C(O)(O)[C@]3(C)[C@H]1CC2', 'CCC(C)(C)C(=O)OCCCOCOC1C2C=CC(CC2)C1C(O)O', 'C=C(C)C(=O)OC(CCCCCC)CCCCCC(C(=O)O)C(=O)O', 'C[C@@H]1O[C@@H](OC2(CC/C=C/C(=O)OC(C)(C)C)CCC2)[C@H](O)C[C@H]1O', 'CCCCC[C@H](O)/C=C/[C@H]1C(=O)C[C@H](O)[C@@H]1CCOCCCC(=O)O', 'CCCC[C@H](O)/C=C/[C@@H]1[C@@H](CC(=O)CCCCC(=O)O)[C@@H](O)C[C@H]1O', 'O=C(CCCCC(=O)OC1CCC2OC2C1)OCC1CCC2OC2C1.[H][H].[H][H]', 'C=C(C)C(=O)OC(CCCCCCC)C(O)(O)OC(=O)C(C)=C(C)C', 'C#CCCC(=O)CCCOCCOCCOCCC(=O)OC(C)(C)C', 'C=CC(=O)OC(O)(CCCCCCCCCCCCO)OC(=O)C=C', 'CCC(C)(C)C(=O)O.CCC(C)(C)C(=O)OC1C(=O)OC2CCCC21', 'C=C(C(=O)O)C(CCCCCC)(CC(=O)OCCCCCC)C(=O)O', 'CC(=O)O.CC(=O)O.CCCCCCCCCc1cc(O)cc(O)c1', 'CCCC(O)(O)O.CCOC(C)OCC.O=C/C=C\\\\c1ccccc1', 'C=C(C)C(=O)OCCCCCCCCOC(=O)CCCCCC(=O)O', 'C=COCCCCOC(=O)CCCCCC(=O)OCCCCOC=C', 'C=CC(CCC(/C=C\\\\C)OC(=O)OC(C)(C)C)OC(=O)OC(C)(C)C', 'CCCCCCCCCCO[C@H]1C=C(COC(C)=O)C(=O)[C@H](O)[C@H]1O', 'CCC[C@H]1C[C@@H](OC)CCC[C@@H]2CC3(C[C@H](CC(=O)O1)O2)OCCO3', 'C=C(C)C(=O)O.C=C(CCCC)C(=O)O.C=C(CCCCC)C(=O)O', 'COCCCC/C=C/[C@H]1CCC[C@@H]1C/C=C\\\\CC(O)C(O)(O)C(=O)O', 'O[C@H]1[C@H](O)[C@@H]2OCCCCCCCO[C@@H]2[C@H]2OC3(CCCCC3)O[C@H]12', 'CCCCC[C@H](O)/C=C/C1C(=O)C[C@H](O)[C@@H]1CCOCCCC(=O)O', 'CCC(C=CC=CC=CC(CCCCCCCC(=O)OC)OO)OO', 'C=CCO[C@H]1C[C@H](C(=O)OC(C)(C)C)[C@@H](C(=O)OC(C)(C)C)C[C@@H]1O', 'COCCOCC(CC1CCCCC1=O)(C(C)=O)C(=O)OC(C)(C)C', 'O=C1CCCC(CCCOCCCOCCCC2CCCC(=O)O2)O1', 'CC1CCC2C(C)C(OOC(C)(C)C)OC3OC4(C)CCC1C32OO4', 'C=C(C)C(=O)O.C=C(C)C(=O)OC.C=C(C)C(=O)OCCCCCC', 'CCC1(CC2CC2)OCC(C(O)C(O)C2COC(CC)(C3CC3)O2)O1', 'CC(C)CC(C(=O)OCCOC(=O)C1CCCCC1C(=O)O)C(C)C', 'C=CCOC(=O)CCC(=O)OCCOC(=O)C(C)(C)CC(C)(C)CC', 'CC(=O)O.CC(C(=O)OC1CC2CCC1C2)C(C)C(=O)OC(C)(C)C', 'C/C=C\\\\C(C)CC(C)C(=O)OCC(COC(C)=O)OC(=O)CC(C)C', 'C=CCOC(=O)C(C)(CC(C)(C)C(=O)OCC)CC(C)(CC)C(=O)O', 'CC(C)OC(=O)C(C(=O)OC(C)C)[C@@H]1CCCC2(C1)O[C@H](C)[C@@H](C)O2', 'C=CC(=O)OCCOCCOC(C)(OC1CCCC1)OC1CCCC1', 'CC(C)C(O)C(C)(C)CO.CCCC(=O)O.O=C(O)c1ccccc1', 'CCCCC(CC)CC(CC(=O)O)OC(=O)C1CCCCC1C(=O)O', 'CC[C@H]1[C@@H](/C=C/[C@H](CCCCCCCC(=O)OC)OO)[C@H]2C[C@@H]1OO2', 'C/C=C(/C)C(=O)O[C@@H](COC(C)=O)COC(=O)CCCCCCCC', 'CCOCCOc1cc(CC)cc(OCCOCCOC)c1OCC', 'CC[C@@H]1[C@H](/C=C/[C@H](CCCCCCCC(=O)OC)OO)[C@H]2C[C@@H]1OO2', 'CCC(C)(CC(C)C)C(O)OCC(O)OC1C2CC3C(=O)OC1C3C2', 'CO[C@@H]([C@H](O)[C@@H](COC1CC1)OC1CC1)[C@@H](COC1CC1)OC1CC1', 'COC(CCCCC(C)CC(C)=CC(C)=CC(=O)O)C(CO)C(=O)O', 'CC(=O)OC[C@H]1CC(C)CC(C)[C@H](OC(C)=O)C12O[C@H](C)C[C@H](C)O2']}\n"
     ]
    }
   ],
   "source": [
    "tmp_msn = []\n",
    "for batch in train_loader_msn:\n",
    "    print(batch)\n",
    "    tmp_msn = batch\n",
    "    break"
   ]
  },
  {
   "cell_type": "code",
   "execution_count": 48,
   "id": "9e1dd97c544da443",
   "metadata": {
    "ExecuteTime": {
     "end_time": "2025-01-26T14:09:43.881011Z",
     "start_time": "2025-01-26T14:09:43.878449Z"
    }
   },
   "outputs": [
    {
     "name": "stdout",
     "output_type": "stream",
     "text": [
      "dict_keys(['spec', 'mol', 'precursor_mz', 'adduct', 'identifier', 'mol_freq', 'smiles', 'candidates', 'labels', 'batch_ptr', 'candidates_smiles'])\n",
      "batch_ptr is present: tensor([140,  85, 256, 256, 197, 177, 256, 256, 256,  55,  36, 256],\n",
      "       dtype=torch.int32)\n"
     ]
    }
   ],
   "source": [
    "# Check the keys in the batch\n",
    "print(tmp_msn.keys())\n",
    "\n",
    "# Specifically check if 'batch_ptr' is present\n",
    "if 'batch_ptr' in tmp_msn:\n",
    "    print(\"batch_ptr is present:\", tmp_msn['batch_ptr'])\n",
    "else:\n",
    "    print(\"batch_ptr is missing\")"
   ]
  },
  {
   "cell_type": "code",
   "execution_count": 49,
   "id": "f3934a3f-2f70-4faf-ad4a-216e621e3bff",
   "metadata": {},
   "outputs": [
    {
     "name": "stdout",
     "output_type": "stream",
     "text": [
      "Data types in tmp_original:\n",
      "  spec: <class 'torch.Tensor'>\n",
      "  mol: <class 'torch.Tensor'>\n",
      "  precursor_mz: <class 'torch.Tensor'>\n",
      "  adduct: <class 'list'>\n",
      "  mol_freq: <class 'torch.Tensor'>\n",
      "  identifier: <class 'list'>\n",
      "  smiles: <class 'list'>\n",
      "  candidates: <class 'torch.Tensor'>\n",
      "  labels: <class 'torch.Tensor'>\n",
      "  batch_ptr: <class 'torch.Tensor'>\n",
      "  candidates_smiles: <class 'list'>\n",
      "Data types in tmp_msn:\n",
      "  spec: <class 'abc.DataBatch'>\n",
      "  mol: <class 'torch.Tensor'>\n",
      "  precursor_mz: <class 'torch.Tensor'>\n",
      "  adduct: <class 'list'>\n",
      "  identifier: <class 'list'>\n",
      "  mol_freq: <class 'torch.Tensor'>\n",
      "  smiles: <class 'list'>\n",
      "  candidates: <class 'torch.Tensor'>\n",
      "  labels: <class 'torch.Tensor'>\n",
      "  batch_ptr: <class 'torch.Tensor'>\n",
      "  candidates_smiles: <class 'list'>\n"
     ]
    }
   ],
   "source": [
    "def print_key_types(obj, obj_name):\n",
    "    print(f\"Data types in {obj_name}:\")\n",
    "    for key, value in obj.items():\n",
    "        print(f\"  {key}: {type(value)}\")\n",
    "\n",
    "# Print data types for both objects\n",
    "print_key_types(tmp_original, \"tmp_original\")\n",
    "print_key_types(tmp_msn, \"tmp_msn\")"
   ]
  },
  {
   "cell_type": "markdown",
   "id": "ef424072a9118b2d",
   "metadata": {},
   "source": [
    "#### Shold be dict_keys(['spec', 'mol', 'precursor_mz', 'adduct', 'mol_freq', 'identifier', 'smiles', 'candidates', 'labels', 'batch_ptr', 'candidates_smiles'])"
   ]
  },
  {
   "cell_type": "code",
   "execution_count": 34,
   "id": "a4498cf09b5c3638",
   "metadata": {
    "ExecuteTime": {
     "end_time": "2025-01-26T14:09:43.988566Z",
     "start_time": "2025-01-26T14:09:43.986227Z"
    }
   },
   "outputs": [
    {
     "data": {
      "text/plain": [
       "dict_keys(['spec', 'mol', 'precursor_mz', 'adduct', 'identifier', 'mol_freq', 'smiles', 'candidates', 'labels', 'batch_ptr', 'candidates_smiles'])"
      ]
     },
     "execution_count": 34,
     "metadata": {},
     "output_type": "execute_result"
    }
   ],
   "source": [
    "tmp_msn.keys()"
   ]
  },
  {
   "cell_type": "code",
   "execution_count": 35,
   "id": "843fe9326df72b03",
   "metadata": {
    "ExecuteTime": {
     "end_time": "2025-01-26T14:09:44.060212Z",
     "start_time": "2025-01-26T14:09:44.058107Z"
    }
   },
   "outputs": [
    {
     "data": {
      "text/plain": [
       "DataBatch(x=[139, 1039], edge_index=[2, 254], batch=[139], ptr=[13])"
      ]
     },
     "execution_count": 35,
     "metadata": {},
     "output_type": "execute_result"
    }
   ],
   "source": [
    "tmp_msn['spec'] "
   ]
  },
  {
   "cell_type": "code",
   "execution_count": 36,
   "id": "fc8ed10da30f9581",
   "metadata": {
    "ExecuteTime": {
     "end_time": "2025-01-26T14:09:44.116680Z",
     "start_time": "2025-01-26T14:09:44.113941Z"
    }
   },
   "outputs": [
    {
     "data": {
      "text/plain": [
       "tensor([395.2078, 472.1359, 196.0968, 250.0202, 340.1292, 342.0707, 393.2072,\n",
       "        774.2968, 586.2177, 454.0486, 392.1969, 350.1266])"
      ]
     },
     "execution_count": 36,
     "metadata": {},
     "output_type": "execute_result"
    }
   ],
   "source": [
    "tmp_msn['precursor_mz']"
   ]
  },
  {
   "cell_type": "code",
   "execution_count": 37,
   "id": "dfecc66a8137880d",
   "metadata": {
    "ExecuteTime": {
     "end_time": "2025-01-26T14:09:44.542604Z",
     "start_time": "2025-01-26T14:09:44.539467Z"
    }
   },
   "outputs": [
    {
     "data": {
      "text/plain": [
       "tensor([1., 1., 1., 1., 1., 1., 2., 2., 1., 1., 1., 1.])"
      ]
     },
     "execution_count": 37,
     "metadata": {},
     "output_type": "execute_result"
    }
   ],
   "source": [
    "tmp_msn['mol_freq']"
   ]
  },
  {
   "cell_type": "code",
   "execution_count": 38,
   "id": "f3cce6c85a13d606",
   "metadata": {
    "ExecuteTime": {
     "end_time": "2025-01-26T14:09:44.687710Z",
     "start_time": "2025-01-26T14:09:44.685606Z"
    }
   },
   "outputs": [
    {
     "data": {
      "text/plain": [
       "['0038826_0000000',\n",
       " '0059300_0000000',\n",
       " '0098836_0000000',\n",
       " '0071484_0000000',\n",
       " '0051910_0000000',\n",
       " '0031829_0000000',\n",
       " '0094508_0000000',\n",
       " '0012337_0000000',\n",
       " '0060572_0000000',\n",
       " '0075294_0000000',\n",
       " '0050280_0000000',\n",
       " '0059260_0000000']"
      ]
     },
     "execution_count": 38,
     "metadata": {},
     "output_type": "execute_result"
    }
   ],
   "source": [
    "tmp_msn['identifier']"
   ]
  },
  {
   "cell_type": "code",
   "execution_count": 39,
   "id": "f51053f8670e729f",
   "metadata": {
    "ExecuteTime": {
     "end_time": "2025-01-26T14:09:44.850983Z",
     "start_time": "2025-01-26T14:09:44.848292Z"
    }
   },
   "outputs": [
    {
     "data": {
      "text/plain": [
       "['[M+H]+',\n",
       " '[M+H]+',\n",
       " '[M+H]+',\n",
       " '[M+H]+',\n",
       " '[M+H]+',\n",
       " '[M+H]+',\n",
       " '[M+H]+',\n",
       " '[M+NH4]+',\n",
       " '[M+H]+',\n",
       " '[M+H]+',\n",
       " '[M+H]+',\n",
       " '[M+H]+']"
      ]
     },
     "execution_count": 39,
     "metadata": {},
     "output_type": "execute_result"
    }
   ],
   "source": [
    "tmp_msn['adduct']"
   ]
  },
  {
   "cell_type": "code",
   "execution_count": 40,
   "id": "1874faafb955f9d4",
   "metadata": {
    "ExecuteTime": {
     "end_time": "2025-01-26T14:09:45.017903Z",
     "start_time": "2025-01-26T14:09:45.015397Z"
    }
   },
   "outputs": [
    {
     "data": {
      "text/plain": [
       "torch.Size([12, 4096])"
      ]
     },
     "execution_count": 40,
     "metadata": {},
     "output_type": "execute_result"
    }
   ],
   "source": [
    "tmp_msn['mol'].shape"
   ]
  },
  {
   "cell_type": "code",
   "execution_count": 41,
   "id": "26e13e52cabf0dac",
   "metadata": {
    "ExecuteTime": {
     "end_time": "2025-01-26T14:09:45.166081Z",
     "start_time": "2025-01-26T14:09:45.163471Z"
    }
   },
   "outputs": [
    {
     "data": {
      "text/plain": [
       "['CC1=CC=C(C=C1)N2CCN(C2=O)CC(=O)N3CCC(C3)OC4=NC=C(C=C4)C',\n",
       " 'CC1=CC=C(C=C1)S(=O)(=O)N2CCCC[C@@H]2C(=O)NC3=NC(=CS3)C4=CC=C(C=C4)OC',\n",
       " 'C[C@](CC1=CC=C(C=C1)O)(C(=O)O)N',\n",
       " 'C1CSC(=O)C1NC(=O)CSCC(=O)O',\n",
       " 'CC1=CC(=NO1)NC(=O)[C@H](CC2=CC=CC=C2)NC(=O)C3=CC=CO3',\n",
       " 'C1C(=O)N(N=C2N1C3=CC=CC=C3S2)CC(=O)C4=CC=C(C=C4)F',\n",
       " 'C[C@@H]1C[C@H]2[C@@H]3CCC4=CC(=O)C=C[C@@]4([C@]3([C@H](C[C@@]2([C@]1(C(=O)CO)O)C)O)F)C',\n",
       " 'C1CC(C=C1)C(=O)OCC2C(C(C(C(O2)OC3=C(C=C(C=C3)O)COC(=O)C4(C(CCC(=O)C4OC(=O)C5CCC=C5)O)O)OC(=O)C6CCC=C6)O)O',\n",
       " 'CC(C)(C1=CC=CC=C1CC[C@H](C2=CC=CC(=C2)/C=C/C3=NC4=C(C=CC(=C4)Cl)C=C3)SCC5(CC5)CC(=O)O)O',\n",
       " 'C=CC1=C(N2[C@@H]([C@@H](C2=O)NC(=O)/C(=N/OCC(=O)O)/C3=CSC(=N3)N)SC1)C(=O)O',\n",
       " 'COCCN1C2=CC=CC=C2C=C1C(=O)NCCC3=CNC4=C3C=C(C=C4)OC',\n",
       " 'CN1C(=O)COC2=C(C=C(C=C21)Cl)C(=O)NC3CN4CCC3CC4']"
      ]
     },
     "execution_count": 41,
     "metadata": {},
     "output_type": "execute_result"
    }
   ],
   "source": [
    "tmp_msn['smiles']"
   ]
  },
  {
   "cell_type": "code",
   "execution_count": 42,
   "id": "e519fe7ed5121dcc",
   "metadata": {
    "ExecuteTime": {
     "end_time": "2025-01-26T14:09:45.345887Z",
     "start_time": "2025-01-26T14:09:45.343339Z"
    }
   },
   "outputs": [
    {
     "data": {
      "text/plain": [
       "tensor([ True, False, False,  ..., False, False, False])"
      ]
     },
     "execution_count": 42,
     "metadata": {},
     "output_type": "execute_result"
    }
   ],
   "source": [
    "tmp_msn['labels']"
   ]
  },
  {
   "cell_type": "code",
   "execution_count": 43,
   "id": "61de3b3ad4572c7a",
   "metadata": {
    "ExecuteTime": {
     "end_time": "2025-01-26T14:09:45.507683Z",
     "start_time": "2025-01-26T14:09:45.499212Z"
    }
   },
   "outputs": [
    {
     "data": {
      "text/plain": [
       "tensor(12)"
      ]
     },
     "execution_count": 43,
     "metadata": {},
     "output_type": "execute_result"
    }
   ],
   "source": [
    "sum(tmp_msn['labels'])"
   ]
  },
  {
   "cell_type": "code",
   "execution_count": 44,
   "id": "86224621a407862f",
   "metadata": {
    "ExecuteTime": {
     "end_time": "2025-01-26T14:09:45.684944Z",
     "start_time": "2025-01-26T14:09:45.681948Z"
    }
   },
   "outputs": [
    {
     "data": {
      "text/plain": [
       "tensor([   0,  256,  512,  768, 1024, 1280, 1523, 1779, 1798, 1882, 1918, 2174])"
      ]
     },
     "execution_count": 44,
     "metadata": {},
     "output_type": "execute_result"
    }
   ],
   "source": [
    "torch.nonzero(tmp_msn['labels'], as_tuple=False).squeeze()"
   ]
  },
  {
   "cell_type": "code",
   "execution_count": 45,
   "id": "df3c85be4bd961ae",
   "metadata": {
    "ExecuteTime": {
     "end_time": "2025-01-26T14:09:45.846982Z",
     "start_time": "2025-01-26T14:09:45.844508Z"
    }
   },
   "outputs": [
    {
     "data": {
      "text/plain": [
       "2430"
      ]
     },
     "execution_count": 45,
     "metadata": {},
     "output_type": "execute_result"
    }
   ],
   "source": [
    "len(tmp_msn['labels'])"
   ]
  },
  {
   "cell_type": "code",
   "execution_count": 46,
   "id": "e30895af70b971cf",
   "metadata": {
    "ExecuteTime": {
     "end_time": "2025-01-26T14:09:46.046226Z",
     "start_time": "2025-01-26T14:09:46.043541Z"
    }
   },
   "outputs": [
    {
     "data": {
      "text/plain": [
       "tensor([256, 256, 256, 256, 256, 243, 256,  19,  84,  36, 256, 256],\n",
       "       dtype=torch.int32)"
      ]
     },
     "execution_count": 46,
     "metadata": {},
     "output_type": "execute_result"
    }
   ],
   "source": [
    "tmp_msn['batch_ptr']"
   ]
  },
  {
   "cell_type": "code",
   "execution_count": 47,
   "id": "cd6581b0abe8464d",
   "metadata": {
    "ExecuteTime": {
     "end_time": "2025-01-26T14:09:46.564081Z",
     "start_time": "2025-01-26T14:09:46.561215Z"
    }
   },
   "outputs": [
    {
     "data": {
      "text/plain": [
       "tensor(2430, dtype=torch.int32)"
      ]
     },
     "execution_count": 47,
     "metadata": {},
     "output_type": "execute_result"
    }
   ],
   "source": [
    "sum(tmp_msn['batch_ptr'])"
   ]
  },
  {
   "cell_type": "code",
   "execution_count": 48,
   "id": "bac322d4444ee5ea",
   "metadata": {
    "ExecuteTime": {
     "end_time": "2025-01-26T14:09:46.742119Z",
     "start_time": "2025-01-26T14:09:46.739777Z"
    }
   },
   "outputs": [
    {
     "data": {
      "text/plain": [
       "2430"
      ]
     },
     "execution_count": 48,
     "metadata": {},
     "output_type": "execute_result"
    }
   ],
   "source": [
    "len(tmp_msn['candidates'])"
   ]
  },
  {
   "cell_type": "code",
   "execution_count": 49,
   "id": "5240b59230576227",
   "metadata": {
    "ExecuteTime": {
     "end_time": "2025-01-26T14:09:46.904383Z",
     "start_time": "2025-01-26T14:09:46.902008Z"
    }
   },
   "outputs": [
    {
     "data": {
      "text/plain": [
       "torch.Size([4096])"
      ]
     },
     "execution_count": 49,
     "metadata": {},
     "output_type": "execute_result"
    }
   ],
   "source": [
    "tmp_msn['candidates'][5].shape"
   ]
  },
  {
   "cell_type": "markdown",
   "id": "8fabb6d3fa7fd1ec",
   "metadata": {},
   "source": [
    "### Compare Shapes"
   ]
  },
  {
   "cell_type": "code",
   "execution_count": 50,
   "id": "1569a73db41d79ad",
   "metadata": {
    "ExecuteTime": {
     "end_time": "2025-01-26T14:09:47.239455Z",
     "start_time": "2025-01-26T14:09:47.237177Z"
    }
   },
   "outputs": [
    {
     "data": {
      "text/plain": [
       "True"
      ]
     },
     "execution_count": 50,
     "metadata": {},
     "output_type": "execute_result"
    }
   ],
   "source": [
    "tmp_msn.keys() == tmp_original.keys()"
   ]
  },
  {
   "cell_type": "code",
   "execution_count": 51,
   "id": "e05b0a2b1e4ecf17",
   "metadata": {
    "ExecuteTime": {
     "end_time": "2025-01-26T14:09:47.438583Z",
     "start_time": "2025-01-26T14:09:47.436466Z"
    }
   },
   "outputs": [
    {
     "data": {
      "text/plain": [
       "True"
      ]
     },
     "execution_count": 51,
     "metadata": {},
     "output_type": "execute_result"
    }
   ],
   "source": [
    "tmp_msn['batch_ptr'].shape == tmp_original['batch_ptr'].shape"
   ]
  },
  {
   "cell_type": "code",
   "execution_count": 52,
   "id": "b606c035c765f275",
   "metadata": {
    "ExecuteTime": {
     "end_time": "2025-01-26T14:09:47.602278Z",
     "start_time": "2025-01-26T14:09:47.599955Z"
    }
   },
   "outputs": [
    {
     "data": {
      "text/plain": [
       "False"
      ]
     },
     "execution_count": 52,
     "metadata": {},
     "output_type": "execute_result"
    }
   ],
   "source": [
    "tmp_msn['batch_ptr'].dtype == tmp_original['batch_ptr'].dtype"
   ]
  },
  {
   "cell_type": "code",
   "execution_count": 68,
   "id": "2217b21a37932e30",
   "metadata": {
    "ExecuteTime": {
     "end_time": "2025-01-26T14:13:34.631369Z",
     "start_time": "2025-01-26T14:13:34.629025Z"
    }
   },
   "outputs": [
    {
     "data": {
      "text/plain": [
       "torch.int64"
      ]
     },
     "execution_count": 68,
     "metadata": {},
     "output_type": "execute_result"
    }
   ],
   "source": [
    "tmp_original['batch_ptr'].dtype"
   ]
  },
  {
   "cell_type": "code",
   "execution_count": 67,
   "id": "782a345bcd3a68db",
   "metadata": {
    "ExecuteTime": {
     "end_time": "2025-01-26T14:13:22.931706Z",
     "start_time": "2025-01-26T14:13:22.922641Z"
    }
   },
   "outputs": [
    {
     "data": {
      "text/plain": [
       "torch.int32"
      ]
     },
     "execution_count": 67,
     "metadata": {},
     "output_type": "execute_result"
    }
   ],
   "source": [
    "tmp_msn['batch_ptr'].dtype"
   ]
  },
  {
   "cell_type": "code",
   "execution_count": 53,
   "id": "f9dae4c8aaa7564b",
   "metadata": {
    "ExecuteTime": {
     "end_time": "2025-01-26T14:09:47.774336Z",
     "start_time": "2025-01-26T14:09:47.771485Z"
    }
   },
   "outputs": [
    {
     "data": {
      "text/plain": [
       "(tensor(2430, dtype=torch.int32), 2430)"
      ]
     },
     "execution_count": 53,
     "metadata": {},
     "output_type": "execute_result"
    }
   ],
   "source": [
    "sum(tmp_msn['batch_ptr']), len(tmp_msn['candidates_smiles'])"
   ]
  },
  {
   "cell_type": "code",
   "execution_count": 54,
   "id": "67eeb6830a02639a",
   "metadata": {
    "ExecuteTime": {
     "end_time": "2025-01-26T14:09:47.942548Z",
     "start_time": "2025-01-26T14:09:47.940125Z"
    }
   },
   "outputs": [
    {
     "data": {
      "text/plain": [
       "(tensor(2994), 2994)"
      ]
     },
     "execution_count": 54,
     "metadata": {},
     "output_type": "execute_result"
    }
   ],
   "source": [
    "sum(tmp_original['batch_ptr']), len(tmp_original['candidates_smiles'])"
   ]
  },
  {
   "cell_type": "code",
   "execution_count": 55,
   "id": "da6f7d53ce907f18",
   "metadata": {
    "ExecuteTime": {
     "end_time": "2025-01-26T14:09:48.103318Z",
     "start_time": "2025-01-26T14:09:48.101065Z"
    }
   },
   "outputs": [
    {
     "data": {
      "text/plain": [
       "True"
      ]
     },
     "execution_count": 55,
     "metadata": {},
     "output_type": "execute_result"
    }
   ],
   "source": [
    "tmp_msn['labels'].dtype == tmp_original['labels'].dtype"
   ]
  },
  {
   "cell_type": "code",
   "execution_count": 56,
   "id": "29f2304a3eb0d784",
   "metadata": {
    "ExecuteTime": {
     "end_time": "2025-01-26T14:09:48.260879Z",
     "start_time": "2025-01-26T14:09:48.258837Z"
    }
   },
   "outputs": [
    {
     "data": {
      "text/plain": [
       "True"
      ]
     },
     "execution_count": 56,
     "metadata": {},
     "output_type": "execute_result"
    }
   ],
   "source": [
    "tmp_msn['candidates'].dtype == tmp_original['candidates'].dtype"
   ]
  },
  {
   "cell_type": "code",
   "execution_count": 57,
   "id": "bf61a76af4db9b5a",
   "metadata": {
    "ExecuteTime": {
     "end_time": "2025-01-26T14:09:48.433295Z",
     "start_time": "2025-01-26T14:09:48.430979Z"
    }
   },
   "outputs": [
    {
     "data": {
      "text/plain": [
       "True"
      ]
     },
     "execution_count": 57,
     "metadata": {},
     "output_type": "execute_result"
    }
   ],
   "source": [
    "tmp_msn['candidates'][0].shape == tmp_original['candidates'][0].shape"
   ]
  },
  {
   "cell_type": "code",
   "execution_count": 58,
   "id": "e28ea4d96f687f0f",
   "metadata": {
    "ExecuteTime": {
     "end_time": "2025-01-26T14:09:48.599192Z",
     "start_time": "2025-01-26T14:09:48.597148Z"
    }
   },
   "outputs": [
    {
     "data": {
      "text/plain": [
       "True"
      ]
     },
     "execution_count": 58,
     "metadata": {},
     "output_type": "execute_result"
    }
   ],
   "source": [
    "tmp_msn['candidates'][5].shape == tmp_original['candidates'][5].shape"
   ]
  },
  {
   "cell_type": "code",
   "execution_count": 59,
   "id": "68573c7361e436dd",
   "metadata": {
    "ExecuteTime": {
     "end_time": "2025-01-26T14:09:48.780483Z",
     "start_time": "2025-01-26T14:09:48.778287Z"
    }
   },
   "outputs": [
    {
     "data": {
      "text/plain": [
       "True"
      ]
     },
     "execution_count": 59,
     "metadata": {},
     "output_type": "execute_result"
    }
   ],
   "source": [
    "type(tmp_msn['smiles']) == type(tmp_original['smiles'])"
   ]
  },
  {
   "cell_type": "code",
   "execution_count": 60,
   "id": "44b90cb38ece920e",
   "metadata": {
    "ExecuteTime": {
     "end_time": "2025-01-26T14:09:48.928996Z",
     "start_time": "2025-01-26T14:09:48.926865Z"
    }
   },
   "outputs": [
    {
     "data": {
      "text/plain": [
       "True"
      ]
     },
     "execution_count": 60,
     "metadata": {},
     "output_type": "execute_result"
    }
   ],
   "source": [
    "type(tmp_msn['smiles'][0]) == type(tmp_original['smiles'][0])"
   ]
  },
  {
   "cell_type": "code",
   "execution_count": 61,
   "id": "8493612e08e9479e",
   "metadata": {
    "ExecuteTime": {
     "end_time": "2025-01-26T14:09:49.109966Z",
     "start_time": "2025-01-26T14:09:49.107657Z"
    }
   },
   "outputs": [
    {
     "data": {
      "text/plain": [
       "True"
      ]
     },
     "execution_count": 61,
     "metadata": {},
     "output_type": "execute_result"
    }
   ],
   "source": [
    "len(tmp_msn['smiles']) == len(tmp_original['smiles'])"
   ]
  },
  {
   "cell_type": "code",
   "execution_count": 62,
   "id": "b604f8942bf1362d",
   "metadata": {
    "ExecuteTime": {
     "end_time": "2025-01-26T14:09:49.304870Z",
     "start_time": "2025-01-26T14:09:49.302709Z"
    }
   },
   "outputs": [
    {
     "data": {
      "text/plain": [
       "True"
      ]
     },
     "execution_count": 62,
     "metadata": {},
     "output_type": "execute_result"
    }
   ],
   "source": [
    "type(tmp_msn['candidates_smiles']) == type(tmp_original['candidates_smiles'])"
   ]
  },
  {
   "cell_type": "code",
   "execution_count": 63,
   "id": "1a9910cd68400224",
   "metadata": {
    "ExecuteTime": {
     "end_time": "2025-01-26T14:09:49.476990Z",
     "start_time": "2025-01-26T14:09:49.474772Z"
    }
   },
   "outputs": [
    {
     "data": {
      "text/plain": [
       "True"
      ]
     },
     "execution_count": 63,
     "metadata": {},
     "output_type": "execute_result"
    }
   ],
   "source": [
    "type(tmp_msn['candidates_smiles'][0]) == type(tmp_original['candidates_smiles'][0])"
   ]
  },
  {
   "cell_type": "code",
   "execution_count": 64,
   "id": "65f8205061648068",
   "metadata": {
    "ExecuteTime": {
     "end_time": "2025-01-26T14:09:49.656680Z",
     "start_time": "2025-01-26T14:09:49.654355Z"
    }
   },
   "outputs": [
    {
     "data": {
      "text/plain": [
       "2430"
      ]
     },
     "execution_count": 64,
     "metadata": {},
     "output_type": "execute_result"
    }
   ],
   "source": [
    "len(tmp_msn['candidates_smiles'])"
   ]
  },
  {
   "cell_type": "code",
   "execution_count": null,
   "id": "6f62755f6c500d5f",
   "metadata": {},
   "outputs": [],
   "source": []
  }
 ],
 "metadata": {
  "kernelspec": {
   "display_name": "Python 3 (ipykernel)",
   "language": "python",
   "name": "python3"
  },
  "language_info": {
   "codemirror_mode": {
    "name": "ipython",
    "version": 3
   },
   "file_extension": ".py",
   "mimetype": "text/x-python",
   "name": "python",
   "nbconvert_exporter": "python",
   "pygments_lexer": "ipython3",
   "version": "3.11.9"
  }
 },
 "nbformat": 4,
 "nbformat_minor": 5
}
