{
 "cells": [
  {
   "cell_type": "code",
   "id": "initial_id",
   "metadata": {
    "collapsed": true,
    "ExecuteTime": {
     "end_time": "2024-12-04T10:36:38.184848Z",
     "start_time": "2024-12-04T10:36:35.582201Z"
    }
   },
   "source": [
    "import json\n",
    "from matchms.importing import load_from_mgf\n",
    "from rdkit import Chem\n",
    "import os"
   ],
   "outputs": [],
   "execution_count": 1
  },
  {
   "metadata": {
    "ExecuteTime": {
     "end_time": "2024-12-04T10:38:46.057395Z",
     "start_time": "2024-12-04T10:38:46.055408Z"
    }
   },
   "cell_type": "code",
   "source": [
    "file_mgf = \"/Users/macbook/CODE/Majer:MassSpecGym/data/MSn/20240929_msn_library_pos_all_lib_MSn.mgf\"\n",
    "file_json = \"/Users/macbook/CODE/Majer:MassSpecGym/data/Retrieval/MassSpecGym_retrieval_candidates_mass.json\""
   ],
   "id": "c7d63f12ba45ad36",
   "outputs": [],
   "execution_count": 2
  },
  {
   "metadata": {
    "ExecuteTime": {
     "end_time": "2024-12-04T10:38:56.158049Z",
     "start_time": "2024-12-04T10:38:56.155218Z"
    }
   },
   "cell_type": "code",
   "source": [
    "def canonicalize_smiles(smiles):\n",
    "    \"\"\"\n",
    "    Canonicalize a SMILES string using RDKit.\n",
    "    Returns the canonical SMILES or None if invalid.\n",
    "    \"\"\"\n",
    "    mol = Chem.MolFromSmiles(smiles)\n",
    "    if mol:\n",
    "        return Chem.MolToSmiles(mol, canonical=True)\n",
    "    else:\n",
    "        return None"
   ],
   "id": "fdb9db200bdb4b15",
   "outputs": [],
   "execution_count": 3
  },
  {
   "metadata": {
    "ExecuteTime": {
     "end_time": "2024-12-04T10:43:47.025071Z",
     "start_time": "2024-12-04T10:39:02.542950Z"
    }
   },
   "cell_type": "code",
   "source": [
    "print(\"Loading spectra from MGF file...\")\n",
    "spectra = list(load_from_mgf(file_mgf))\n",
    "print(f\"Total number of spectra loaded: {len(spectra)}\")"
   ],
   "id": "600953354e6f50d0",
   "outputs": [
    {
     "name": "stdout",
     "output_type": "stream",
     "text": [
      "Loading spectra from MGF file...\n",
      "Total number of spectra loaded: 803405\n"
     ]
    }
   ],
   "execution_count": 4
  },
  {
   "metadata": {
    "ExecuteTime": {
     "end_time": "2024-12-04T10:57:10.561990Z",
     "start_time": "2024-12-04T10:56:03.627275Z"
    }
   },
   "cell_type": "code",
   "source": [
    "print(\"Filtering spectra with SPECTYPE=ALL_ENERGIES and MS_LEVEL=2...\")\n",
    "filtered_spectra = [\n",
    "    s for s in spectra\n",
    "    if s.metadata.get(\"spectype\") == \"ALL_ENERGIES\" and int(s.metadata[\"ms_level\"]) == 2\n",
    "]\n",
    "print(f\"Number of spectra after filtering: {len(filtered_spectra)}\")"
   ],
   "id": "8e2a53b6466286ba",
   "outputs": [
    {
     "name": "stdout",
     "output_type": "stream",
     "text": [
      "Filtering spectra with SPECTYPE=ALL_ENERGIES and MS_LEVEL=2...\n",
      "Number of spectra after filtering: 16476\n"
     ]
    }
   ],
   "execution_count": 25
  },
  {
   "metadata": {
    "ExecuteTime": {
     "end_time": "2024-12-04T10:57:13.468744Z",
     "start_time": "2024-12-04T10:57:10.578314Z"
    }
   },
   "cell_type": "code",
   "source": [
    "print(\"Extracting and canonicalizing SMILES from filtered spectra...\")\n",
    "smiles_set = set()\n",
    "invalid_smiles_mgf = set()\n",
    "\n",
    "for spectrum in filtered_spectra:\n",
    "    smiles = spectrum.get(\"smiles\")\n",
    "    if smiles:\n",
    "        canonical_smiles = canonicalize_smiles(smiles)\n",
    "        if canonical_smiles:\n",
    "            smiles_set.add(canonical_smiles)\n",
    "        else:\n",
    "            invalid_smiles_mgf.add(smiles)"
   ],
   "id": "263ba253112611b1",
   "outputs": [
    {
     "name": "stdout",
     "output_type": "stream",
     "text": [
      "Extracting and canonicalizing SMILES from filtered spectra...\n"
     ]
    }
   ],
   "execution_count": 26
  },
  {
   "metadata": {
    "ExecuteTime": {
     "end_time": "2024-12-04T11:08:02.440842Z",
     "start_time": "2024-12-04T11:08:02.438185Z"
    }
   },
   "cell_type": "code",
   "source": [
    "if len(invalid_smiles_mgf) > 0:\n",
    "    print(f\"Number of invalid SMILES skipped from MGF: {len(invalid_smiles_mgf)}\")\n",
    "else:\n",
    "    print(\"No valid SMILES skipped from MGF\")"
   ],
   "id": "cd3d86bcf80e0e5d",
   "outputs": [],
   "execution_count": 35
  },
  {
   "metadata": {
    "ExecuteTime": {
     "end_time": "2024-12-04T11:08:35.727303Z",
     "start_time": "2024-12-04T11:08:30.505406Z"
    }
   },
   "cell_type": "code",
   "source": [
    "with open(file_json, 'r') as f:\n",
    "    smiles_dict = json.load(f)\n",
    "\n",
    "json_keys_set = set()\n",
    "invalid_smiles_json = set()\n",
    "\n",
    "for key in smiles_dict.keys():\n",
    "    canonical_key = canonicalize_smiles(key)\n",
    "    if canonical_key:\n",
    "        json_keys_set.add(canonical_key)\n",
    "    else:\n",
    "        invalid_smiles_json.add(key)\n",
    "if len(invalid_smiles_json) > 0:\n",
    "    print(f\"Number of invalid SMILES skipped from JSON: {len(invalid_smiles_json)}\")\n",
    "else:\n",
    "    print(\"No valid SMILES skipped from JSON\")\n"
   ],
   "id": "bbfc4bcfc9adfd19",
   "outputs": [
    {
     "name": "stdout",
     "output_type": "stream",
     "text": [
      "No valid SMILES skipped from JSON\n"
     ]
    }
   ],
   "execution_count": 36
  },
  {
   "metadata": {
    "ExecuteTime": {
     "end_time": "2024-12-04T11:04:48.376642Z",
     "start_time": "2024-12-04T11:04:48.370460Z"
    }
   },
   "cell_type": "code",
   "source": [
    "print(\"Comparing SMILES from MGF with JSON keys...\")\n",
    "smiles_in_json = smiles_set.intersection(json_keys_set)\n",
    "smiles_not_in_json = smiles_set.difference(json_keys_set)\n",
    "\n",
    "all_present = len(smiles_not_in_json) == 0\n",
    "\n",
    "print(\"\\n--- Comparison Results ---\")\n",
    "if all_present:\n",
    "    print(\"All SMILES from the filtered MGF file are present in the JSON file.\")\n",
    "else:\n",
    "    print(f\"Not all SMILES from the filtered MGF file are present in the JSON file.\")\n",
    "    print(f\"Number of SMILES present in JSON: {len(smiles_in_json)}\")\n",
    "    print(f\"Number of SMILES NOT present in JSON: {len(smiles_not_in_json)}\")\n",
    "\n",
    "print(\"\\n--- Detailed Summary ---\")\n",
    "print(f\"Total SMILES extracted from MGF: {len(smiles_set)}\")\n",
    "print(f\"Total SMILES in JSON: {len(json_keys_set)}\")\n",
    "print(f\"SMILES present in JSON: {len(smiles_in_json)}\")\n",
    "print(f\"SMILES not present in JSON: {len(smiles_not_in_json)}\")"
   ],
   "id": "9cd36f3a0a32f77f",
   "outputs": [
    {
     "name": "stdout",
     "output_type": "stream",
     "text": [
      "Comparing SMILES from MGF with JSON keys...\n",
      "\n",
      "--- Comparison Results ---\n",
      "Not all SMILES from the filtered MGF file are present in the JSON file.\n",
      "Number of SMILES present in JSON: 12786\n",
      "Number of SMILES NOT present in JSON: 1198\n",
      "\n",
      "--- Detailed Summary ---\n",
      "Total SMILES extracted from MGF: 13984\n",
      "Total SMILES in JSON: 32010\n",
      "SMILES present in JSON: 12786\n",
      "SMILES not present in JSON: 1198\n"
     ]
    }
   ],
   "execution_count": 34
  },
  {
   "metadata": {},
   "cell_type": "code",
   "outputs": [],
   "execution_count": null,
   "source": "",
   "id": "be4b0e6a00fe952b"
  }
 ],
 "metadata": {
  "kernelspec": {
   "display_name": "Python 3",
   "language": "python",
   "name": "python3"
  },
  "language_info": {
   "codemirror_mode": {
    "name": "ipython",
    "version": 2
   },
   "file_extension": ".py",
   "mimetype": "text/x-python",
   "name": "python",
   "nbconvert_exporter": "python",
   "pygments_lexer": "ipython2",
   "version": "2.7.6"
  }
 },
 "nbformat": 4,
 "nbformat_minor": 5
}
