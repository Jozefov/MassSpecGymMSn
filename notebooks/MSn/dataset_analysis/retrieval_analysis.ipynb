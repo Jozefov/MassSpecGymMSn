{
 "cells": [
  {
   "metadata": {
    "ExecuteTime": {
     "end_time": "2024-12-27T17:34:48.605884Z",
     "start_time": "2024-12-27T17:34:48.603933Z"
    }
   },
   "cell_type": "code",
   "source": [
    "from massspecgym.data.datasets import MSnDataset, MSnRetrievalDataset, RetrievalDataset\n",
    "import torch"
   ],
   "id": "da6a763cea0be904",
   "outputs": [],
   "execution_count": 45
  },
  {
   "metadata": {
    "ExecuteTime": {
     "end_time": "2024-12-27T17:34:48.739031Z",
     "start_time": "2024-12-27T17:34:48.737028Z"
    }
   },
   "cell_type": "code",
   "source": [
    "file_mgf = \"/Users/macbook/CODE/Majer:MassSpecGym/data/MSn/20241211_msn_library_pos_all_lib_MSn.mgf\"\n",
    "file_json = \"/Users/macbook/CODE/Majer:MassSpecGym/data/Retrieval/MassSpecGym_retrieval_candidates_mass.json\"\n",
    "split_file = \"/Users/macbook/CODE/Majer:MassSpecGym/data/MSn/20241211_split.tsv\""
   ],
   "id": "22f3a2d12131cd17",
   "outputs": [],
   "execution_count": 46
  },
  {
   "metadata": {
    "ExecuteTime": {
     "end_time": "2024-12-27T17:34:48.901355Z",
     "start_time": "2024-12-27T17:34:48.899392Z"
    }
   },
   "cell_type": "code",
   "source": [
    "from massspecgym.data.transforms import MolFingerprinter, SpecTokenizer\n",
    "from massspecgym.data import RetrievalDataset, MassSpecDataModule"
   ],
   "id": "c0a04ca978e09c61",
   "outputs": [],
   "execution_count": 47
  },
  {
   "metadata": {
    "ExecuteTime": {
     "end_time": "2024-12-27T17:34:49.051038Z",
     "start_time": "2024-12-27T17:34:49.049263Z"
    }
   },
   "cell_type": "code",
   "source": "pth_massspecgym_original = \"/Users/macbook/CODE/Majer:MassSpecGym/data/MassSpecGym/MassSpecGym.tsv\"",
   "id": "db1094d3df48cd7f",
   "outputs": [],
   "execution_count": 48
  },
  {
   "metadata": {
    "ExecuteTime": {
     "end_time": "2024-12-27T17:35:01.320992Z",
     "start_time": "2024-12-27T17:34:49.189451Z"
    }
   },
   "cell_type": "code",
   "source": [
    "# Init hyperparameters\n",
    "n_peaks = 60\n",
    "fp_size = 4096\n",
    "batch_size = 12\n",
    "\n",
    "# Load dataset\n",
    "dataset_original = RetrievalDataset(\n",
    "    pth=pth_massspecgym_original,\n",
    "    candidates_pth=file_json,\n",
    "    spec_transform=SpecTokenizer(n_peaks=n_peaks),\n",
    "    mol_transform=MolFingerprinter(fp_size=fp_size),\n",
    ")\n"
   ],
   "id": "5346beea048ce5a5",
   "outputs": [],
   "execution_count": 49
  },
  {
   "metadata": {
    "ExecuteTime": {
     "end_time": "2024-12-27T17:35:01.326071Z",
     "start_time": "2024-12-27T17:35:01.324403Z"
    }
   },
   "cell_type": "code",
   "source": [
    "# Init data module\n",
    "data_module_original = MassSpecDataModule(\n",
    "    dataset=dataset_original,\n",
    "    batch_size=batch_size,\n",
    "    num_workers=0,\n",
    ")"
   ],
   "id": "d6ceed9debd5cc51",
   "outputs": [],
   "execution_count": 50
  },
  {
   "metadata": {
    "ExecuteTime": {
     "end_time": "2024-12-27T17:35:01.388623Z",
     "start_time": "2024-12-27T17:35:01.337465Z"
    }
   },
   "cell_type": "code",
   "source": [
    "data_module_original.prepare_data()\n",
    "data_module_original.setup()\n",
    "\n",
    "train_loader_original = data_module_original.train_dataloader()"
   ],
   "id": "c4bfe776ab073f74",
   "outputs": [
    {
     "name": "stdout",
     "output_type": "stream",
     "text": [
      "Train dataset size: 194119\n",
      "Val dataset size: 19429\n"
     ]
    }
   ],
   "execution_count": 51
  },
  {
   "metadata": {
    "ExecuteTime": {
     "end_time": "2024-12-27T17:35:02.332173Z",
     "start_time": "2024-12-27T17:35:01.412580Z"
    }
   },
   "cell_type": "code",
   "source": [
    "tmp_original = []\n",
    "for batch in train_loader_original:\n",
    "    print(batch)\n",
    "    tmp_original = batch\n",
    "    break"
   ],
   "id": "55185d08a14a11ab",
   "outputs": [
    {
     "name": "stdout",
     "output_type": "stream",
     "text": [
      "I am not here\n",
      "{'spec': tensor([[[4.4112e+02, 1.1000e+00],\n",
      "         [9.1055e+01, 9.1700e-01],\n",
      "         [1.0507e+02, 8.6500e-01],\n",
      "         ...,\n",
      "         [0.0000e+00, 0.0000e+00],\n",
      "         [0.0000e+00, 0.0000e+00],\n",
      "         [0.0000e+00, 0.0000e+00]],\n",
      "\n",
      "        [[3.4911e+02, 1.1000e+00],\n",
      "         [5.2018e+01, 6.4900e-03],\n",
      "         [5.3039e+01, 1.9750e-02],\n",
      "         ...,\n",
      "         [0.0000e+00, 0.0000e+00],\n",
      "         [0.0000e+00, 0.0000e+00],\n",
      "         [0.0000e+00, 0.0000e+00]],\n",
      "\n",
      "        [[3.5212e+02, 1.1000e+00],\n",
      "         [3.2110e+02, 1.0000e-02],\n",
      "         [3.2815e+02, 7.0000e-03],\n",
      "         ...,\n",
      "         [0.0000e+00, 0.0000e+00],\n",
      "         [0.0000e+00, 0.0000e+00],\n",
      "         [0.0000e+00, 0.0000e+00]],\n",
      "\n",
      "        ...,\n",
      "\n",
      "        [[3.0904e+02, 1.1000e+00],\n",
      "         [2.8706e+02, 2.0000e-02],\n",
      "         [3.0919e+02, 3.7200e-01],\n",
      "         ...,\n",
      "         [0.0000e+00, 0.0000e+00],\n",
      "         [0.0000e+00, 0.0000e+00],\n",
      "         [0.0000e+00, 0.0000e+00]],\n",
      "\n",
      "        [[2.9109e+02, 1.1000e+00],\n",
      "         [9.5048e+01, 1.1011e-02],\n",
      "         [1.2304e+02, 2.4124e-01],\n",
      "         ...,\n",
      "         [0.0000e+00, 0.0000e+00],\n",
      "         [0.0000e+00, 0.0000e+00],\n",
      "         [0.0000e+00, 0.0000e+00]],\n",
      "\n",
      "        [[3.5114e+02, 1.1000e+00],\n",
      "         [1.5108e+02, 6.2963e-03],\n",
      "         [1.6707e+02, 7.0370e-03],\n",
      "         ...,\n",
      "         [0.0000e+00, 0.0000e+00],\n",
      "         [0.0000e+00, 0.0000e+00],\n",
      "         [0.0000e+00, 0.0000e+00]]]), 'mol': tensor([[0., 0., 0.,  ..., 0., 0., 0.],\n",
      "        [0., 0., 0.,  ..., 0., 0., 0.],\n",
      "        [0., 0., 0.,  ..., 0., 0., 0.],\n",
      "        ...,\n",
      "        [0., 0., 0.,  ..., 0., 0., 0.],\n",
      "        [0., 0., 0.,  ..., 0., 0., 0.],\n",
      "        [0., 0., 0.,  ..., 0., 0., 0.]]), 'precursor_mz': tensor([441.1200, 349.1132, 352.1200, 323.1177, 535.3272, 321.0192, 138.0550,\n",
      "        411.9655, 524.3720, 309.0400, 291.0863, 351.1440]), 'adduct': ['[M+Na]+', '[M+H]+', '[M+Na]+', '[M+H]+', '[M+H]+', '[M+H]+', '[M+H]+', '[M+H]+', '[M+H]+', '[M+Na]+', '[M+H]+', '[M+H]+'], 'mol_freq': tensor([121.,   3.,  23.,   3.,  10.,  42.,  48.,   3., 200., 141., 427.,   8.]), 'identifier': ['MassSpecGymID0171682', 'MassSpecGymID0203983', 'MassSpecGymID0334130', 'MassSpecGymID0213893', 'MassSpecGymID0181360', 'MassSpecGymID0022792', 'MassSpecGymID0129825', 'MassSpecGymID0234600', 'MassSpecGymID0184516', 'MassSpecGymID0065848', 'MassSpecGymID0107822', 'MassSpecGymID0186280'], 'smiles': ['C1=CC2=C(C(=C1)O)C(=O)C3=C(C2C4C(C(C(C(O4)CO)O)O)O)C=C(C=C3O)CO', 'C1=CC=C2C(=C1)N=C(N2CCNC3=NN4C(=NN=N4)C=C3)C(F)(F)F', 'COC1=C(C=CC(=C1)C=CC(=O)NCC(C2=CC=C(C=C2)O)O)O', 'C1C[C@H](C(=O)N(C[C@@H]1C2=C(C(=CC=C2)F)F)CC(F)(F)F)N', 'C[C@H]1[C@@H]([C@H]([C@@H]([C@@H](O1)O[C@H]2CC[C@]3([C@@H](C2)CC[C@@H]4[C@@H]3CC[C@]5([C@@]4(CC[C@@H]5C6=CC(=O)OC6)O)C)C)O)OC)O', 'C1=CC=C(C(=C1)C2=NC(C(=O)NC3=C2C=C(C=C3)Cl)O)Cl', 'C1=CC(=CC=C1C(=O)O)N', 'CC(C)C1=CC(=C(C(=C1)Br)NC(=O)NC2=CN=CC=C2)Br', 'CCCCCCCCCCCCCCCCCC(=O)O[C@H](CO)COP(=O)([O-])OCC[N+](C)(C)C', 'C1=CC(=C(C=C1C2=CC(=O)C3=C(C=C(C=C3O2)O)O)O)O', 'C1[C@@H]([C@@H](OC2=CC(=CC(=C21)O)O)C3=CC(=C(C=C3)O)O)O', 'COC1=CC2=C(C(=C1)OC)C(=O)C=C(O2)CC(CCCCC(=O)O)O'], 'candidates': tensor([[0., 0., 0.,  ..., 0., 0., 0.],\n",
      "        [0., 0., 0.,  ..., 0., 0., 0.],\n",
      "        [0., 0., 0.,  ..., 0., 0., 0.],\n",
      "        ...,\n",
      "        [0., 0., 0.,  ..., 0., 0., 0.],\n",
      "        [0., 0., 0.,  ..., 0., 0., 0.],\n",
      "        [0., 0., 0.,  ..., 0., 0., 0.]]), 'labels': tensor([ True, False, False,  ..., False, False, False]), 'batch_ptr': tensor([256,  23, 256, 101, 256, 256, 256, 256,  67, 256, 256, 256]), 'candidates_smiles': ['C1=CC2=C(C(=C1)O)C(=O)C3=C(C2C4C(C(C(C(O4)CO)O)O)O)C=C(C=C3O)CO', 'C/C(=C\\\\[C@@H](O)C[C@@](C)(O)[C@H](O)COc1c2ccoc2cc2oc(=O)ccc12)C(=O)O', 'C[C@@H]1O[C@@H](OC2=Cc3c(O)cc(O)cc3OC2c2ccc(O)cc2)[C@@H](O)[C@H](O)[C@H]1O', 'CCOC(=O)COc1ccc(C(=O)c2ccc(OCC(=O)OCC)cc2O)c(O)c1', 'O=C(C=Cc1ccc(O)cc1)c1ccc(O)c([C@@H]2O[C@H](CO)[C@@H](O)[C@H](O)[C@H]2O)c1O', 'COCOc1cc(O)c2c(=O)c(OCOC)c(-c3ccc(OC)c(OC)c3)oc2c1', 'COC(=O)C[C@@H](c1cc(OC)c(OC(C)=O)c(OC)c1)c1cc2c(cc1O)OCO2', 'O=C1C[C@@H](c2ccccc2)Oc2c1c(O)cc(O)c2[C@@H]1O[C@H](CO)[C@@H](O)[C@H](O)[C@H]1O', 'C=C(CO)C(=O)O[C@H]1C[C@H](C)C2=CC(=O)[C@](C)(C=C3OC(=O)C(COC(C)=O)=C31)O2', 'C=C(C)C(=O)O[C@H]1[C@@H]2[C@@H](/C=C(/C)C3=CC(=O)[C@](C)(O3)[C@H]1OC(C)=O)OC(=O)[C@@]21CO1', 'O=C(O)[C@H]1O[C@@H](Oc2ccc3c(c2)OC[C@@H](c2ccc(O)cc2)C3)[C@H](O)[C@@H](O)[C@@H]1O', 'O=C1CC(c2ccc(O[C@@H]3OC(CO)[C@@H](O)[C@@H](O)C3O)cc2)Oc2cc(O)ccc21', 'O=C(CCc1ccccc1)c1cc(O)ccc1OC1OC(C(=O)O)C(O)C(O)C1O', 'COC(=O)C[C@H](c1cc(OC)c(OC(C)=O)c(OC)c1)c1cc2c(cc1O)OCO2', 'COC(=O)[C@H]1O[C@@H](Oc2ccc(/C=C\\\\c3cc(O)cc(O)c3)cc2)[C@H](O)[C@@H](O)[C@@H]1O', 'O=C(C=Cc1ccc(O)cc1)OC[C@@H]1O[C@@H](Oc2ccc(O)cc2)[C@H](O)[C@@H](O)[C@@H]1O', 'Cc1cc(=O)c2c(O)c3c(CO[C@@H]4O[C@H](CO)[C@@H](O)[C@H](O)[C@H]4O)cccc3cc2o1', 'COc1cc(C(C2=C(O)COC2O)c2cc3c(cc2O)OCO3)cc(OC)c1OC', 'COC(=O)CC1CC2=C(C(=O)c3c(O)cccc3C2=O)C2(OC(C)CC(O)C2O)O1', 'Cc1ccccc1C(=O)OOC(C)OC(=O)OC(C)OOC(=O)c1ccccc1C', 'O=C1C[C@@H](c2ccc(O[C@H]3O[C@@H](CO)[C@H](O)[C@@H](O)[C@@H]3O)cc2)Oc2cc(O)ccc21', 'O=C1C[C@H](c2ccc(O[C@@H]3O[C@H](CO)[C@@H](O)[C@H](O)[C@H]3O)cc2)Oc2cc(O)ccc21', 'COc1cc(-c2oc3c(O)c(OC)cc(OC)c3c(=O)c2OC)cc(OC)c1OC', 'O=C(C=Cc1ccc(O)cc1)OC1C(Oc2ccc(O)cc2)OC(CO)C(O)C1O', 'O=C1CC(c2ccccc2)Oc2cc(O[C@@H]3O[C@H](CO)[C@@H](O)C(O)C3O)cc(O)c21', 'O=C(/C=C/c1ccc(O[C@@H]2O[C@H](CO)[C@@H](O)[C@@H](O)[C@@H]2O)cc1)c1cccc(O)c1O', 'COc1cc(O)cc(/C=C/c2ccc(O[C@H]3O[C@@H](C(=O)O)[C@H](O)[C@@H](O)[C@@H]3O)cc2)c1', 'O=C(C=Cc1ccc(O)cc1)OC1C(CO)OC(Oc2ccccc2O)C(O)C1O', 'O=C(/C=C/c1ccc(O[C@H]2O[C@@H](CO)[C@H](O)[C@@H](O)[C@@H]2O)cc1)c1ccc(O)cc1O', 'COc1cccc(-c2oc3c(OC)c(O)c(OC)c(OC)c3c(=O)c2OC)c1OC', 'Cc1c(O[C@@H]2O[C@@H](COC(=O)C=Cc3ccccc3)[C@@H](O)[C@H](O)[C@@H]2O)occc1=O', 'COc1c(O)ccc2c1C(=O)c1c(O)cc(C)cc1C2C1OC(O)C(O)C(O)C1O', 'OC[C@H]1O[C@@H](Oc2cc(O)c3c(c2)OC(c2ccc(O)cc2)C=C3)[C@@H](O)[C@@H](O)[C@@H]1O', 'O=C1C[C@H](c2ccccc2)Oc2cc(O)cc(O[C@H]3O[C@@H](CO)[C@@H](O)[C@@H](O)[C@H]3O)c21', 'O=C1CC(c2ccccc2)Oc2cc(OOC3O[C@H](CO)[C@@H](O)[C@H](O)[C@H]3O)ccc21', 'COc1ccc(-c2oc3cc(OC)c(OC)c(O)c3c(=O)c2OC)c(OC)c1OC', 'OC[C@H]1O[C@H](Oc2c(O)ccc3cc(Cc4ccc(O)cc4)oc23)[C@H](O)[C@@H](O)[C@@H]1O', 'O=C1CC(c2ccccc2)Oc2c1c(O)cc(O)c2[C@@H]1O[C@H](CO)[C@@H](O)[C@H](O)[C@H]1O', 'O=C(O)C1OC(Oc2ccc3c(c2)OCC(c2ccc(O)cc2)C3)C(O)C(O)C1O', 'O=C(C=Cc1ccc(O)cc1)c1ccc(O[C@@H]2O[C@H](CO)[C@@H](O)[C@H](O)[C@H]2O)cc1O', 'O=C(O)c1c(O)cccc1C=Cc1ccc(OC2OC(CO)C(O)C(O)C2O)cc1', 'O=C(C=Cc1ccc(O[C@@H]2O[C@@H](CO)[C@@H](O)[C@@H](O)[C@H]2O)cc1)c1ccc(O)cc1O', 'C[C@@H]1O[C@H](Oc2cc(O)c3c(c2)O[C@H](c2ccc(O)cc2)CC3=O)[C@@H](O)[C@@H](O)[C@H]1O', 'O=C1c2ccc(O[C@H]3O[C@H](CO)[C@@H](O)[C@H](O)[C@@H]3O)cc2OC[C@@H]1c1ccc(O)cc1', 'COCOc1c(OC)c(OC)c2oc(-c3ccc(OC)cc3)c(O)c(=O)c2c1OC', 'CC(C)(OOC(=O)c1ccccc1)OC(=O)OC(C)(C)OOC(=O)c1ccccc1', 'Cc1cc(O)c2c(c1)C(=O)c1cc([C@@H]3O[C@H](C)[C@@H](O)[C@H](O)[C@@H]3O)cc(O)c1C2=O.O', 'O=C1CC(c2ccc(O)cc2)Oc2c1ccc(O)c2C1OC(CO)C(O)C(O)C1O', 'COc1cc(C=CC(=O)c2c(O)cc3c(c2OC)OCO3)c(OC)c(OC)c1OC', 'O=C(/C=C/c1ccc(O)cc1)c1ccc(O)cc1O[C@H]1O[C@H](CO)[C@H](O)[C@H](O)[C@H]1O', 'Cc1c(O)cc(C(=O)O[C@H]2CCCC[C@H]2OC(=O)c2cc(O)c(O)c(O)c2)cc1O', 'Cc1cc(O)c2c(c1)[C@@](O)(C1O[C@H](CO)[C@@H](O)[C@H](O)[C@H]1O)c1cccc(O)c1C2=O', 'O=C1C[C@@H](c2ccc(OC3OC(CO)C(O)C(O)C3O)cc2)Oc2cc(O)ccc21', 'O=C1C[C@@H](c2ccc(O)cc2)Oc2c1ccc(O)c2[C@@H]1O[C@@H](CO)[C@H](O)[C@H](O)[C@H]1O', 'O=C(C=Cc1ccc(O[C@@H]2O[C@H](CO)[C@@H](O)[C@H](O)[C@H]2O)cc1)c1ccc(O)cc1O', 'O=C(O)C[C@H]1[C@@H](Oc2ccccc2-c2cccc(C(=O)O)c2)O[C@H](CO)[C@H](O)[C@@H]1O', 'C=C(CO)C(=O)O[C@H]1C[C@H](C)C2=CC(=O)[C@](C)(/C=C3/OC(=O)C(COC(C)=O)=C31)O2', 'C[C@@H]1O[C@H](Oc2cc(O)cc(O)c2C(=O)/C=C/c2ccc(O)cc2)[C@@H](O)[C@H](O)[C@H]1O', 'Cc1cc(O)c2c(c1)C(C1OC(CO)C(O)C(O)C1O)c1ccc(O)c(O)c1C2=O', 'C=C(COC(C)=O)C(=O)O[C@H]1CC(=C)[C@@H]2C[C@@H]3OC(=O)O[C@@H]3[C@@H]2[C@H]2OC(=O)C(=C)[C@@H]21', 'CC1OC(Oc2cc(O)c3c(c2)OC(c2ccc(O)cc2)CC3=O)C(O)C(O)C1O', 'COc1ccc(C(=O)OCC(=O)COC(=O)c2ccc(OC)c(OC)c2)cc1OC', 'COc1ccc(OC)c(C(=O)OCC(=O)COC(=O)c2cc(OC)ccc2OC)c1', 'O=C1CC(c2ccc(OC3OC(CO)C(O)C(O)C3O)cc2)Oc2cc(O)ccc21', 'O=c1c2ccccc2oc2cc(O)c([C@@H]3COC[C@H](CO)[C@H](O)[C@H](O)[C@@H]3O)c(O)c12', 'COc1cc(-c2cc(=O)c3c(OC)c(OC)c(OC)c(OC)c3o2)cc(OC)c1O', 'COc1cc(O[C@@H]2O[C@H](CO)[C@@H](O)[C@H](O)[C@H]2O)cc2cc(O)c3cccc(O)c3c12', 'CC(=O)OC[C@H]1O[C@@H](Oc2cc3ccccc3cc2O)C(OC(C)=O)[C@H]1OC(C)=O', 'COc1cc(-c2oc3c(OC)c(OC)c(OC)c(OC)c3c(=O)c2OC)ccc1O', 'O=C(/C=C/c1ccc(O)cc1)c1ccc(O)cc1O[C@H]1O[C@@H](CO)[C@@H](O)[C@@H](O)[C@H]1O', 'CC[C@](Cc1ccc(O)c(O)c1CO)(OC(=O)C=Cc1ccc(O)c(O)c1)C(=O)O', 'O=C1CC(c2ccc(O)c(O)c2)Oc2cc(OC3CC(O)CC(CO)O3)cc(O)c21', 'CC1O[C@@H](Oc2ccc([C@@H]3CC(=O)c4c(O)cc(O)cc4O3)cc2)[C@@H](O)C(O)[C@H]1O', 'COc1cc(O)c2c(c1)OC(c1ccc(OC3OCC(O)C(O)C3O)cc1)CC2=O', 'C[C@@H]1O[C@H](Oc2cc(O)c3c(c2)O[C@H](c2ccc(O)cc2)CC3=O)[C@H](O)[C@H](O)[C@H]1O', 'O=C(O[C@@H]1O[C@H](CO)[C@@H](O)[C@H](O)[C@H]1O)c1c(O)cc(O)cc1/C=C/c1ccccc1', 'CC(C(=O)O[C@@H]1O[C@H](C(=O)O)[C@@H](O)[C@H](O)[C@H]1O)c1cccc(Oc2ccccc2)c1', 'Cc1cc(O)c2c(c1)C(C1OC(CO)C(O)C(O)C1O)c1cc(O)cc(O)c1C2=O', 'O=C1O[C@@H](c2ccc(O)cc2)Cc2cccc(O[C@@H]3O[C@H](CO)[C@@H](O)[C@H](O)[C@H]3O)c21', 'CCOC(=O)c1cc2ccc(OC3OC(C)(C)[C@H](C)[C@@H]4OC(=O)O[C@H]34)cc2oc1=O', 'O=C1C[C@H](c2ccccc2)Oc2cc(O[C@H]3O[C@@H](CO)[C@H](O)[C@@H](O)[C@@H]3O)cc(O)c21', 'O=C1C[C@H](c2ccc(O[C@@H]3O[C@H](CO)[C@H](O)[C@H](O)[C@@H]3O)cc2)Oc2cc(O)ccc21', 'CC(=O)O.CC(=O)O.CC(=O)Oc1ccc(C2=CCc3c(O)cc(O)cc3O2)cc1', 'O=C1c2ccc(O[C@@H]3O[C@H](CO)[C@@H](O)[C@H](O)[C@H]3O)cc2OC[C@@H]1c1ccc(O)cc1', 'COC(=O)OCC(COC(=O)c1ccc(OC)cc1)OC(=O)c1ccc(OC)cc1', 'O=C(O[C@H]1O[C@@H](CO)[C@@H](O)[C@H](O)[C@@H]1O)c1c(O)cc(O)cc1C=Cc1ccccc1', 'O=C(O)c1c(O)cc(OC2OC(CO)C(O)C(O)C2O)cc1C=Cc1ccccc1', 'COC(=O)C1(OC)OC(=O)C2=C3OC(C)C(C)(C)C3(O)C(=O)c3c(C)cc(O)c1c32', 'O=C(/C=C/c1ccc(O)cc1)c1ccc(O)cc1O[C@H]1O[C@H](CO)[C@H](O)[C@@H](O)[C@@H]1O', 'CC(=O)OC[C@H]1O[C@@H](Oc2cc3ccccc3cc2O)[C@@H](OC(C)=O)C1OC(C)=O', 'O=C(/C=C(\\\\O)c1ccccc1)c1ccc(O[C@@H]2O[C@H](CO)[C@@H](O)[C@H](O)[C@H]2O)cc1O', 'COCOc1ccc2c(=O)c(OCOC)c(-c3ccc(O)c(OCOC)c3)oc2c1', '[2H]C1=C(CO)C([2H])=C2C(=C(O)c3c(O)c([2H])cc([2H])c3C2[C@@H]2O[C@H](CO)[C@@H](O)[C@H](O)[C@H]2O)C1=O', 'COc1cc(-c2oc3c(OC)c(OC)cc(O)c3c(=O)c2OC)cc(OC)c1OC', 'COC(=O)c1cc(OC)cc(OC)c1C(=O)c1coc(C[C@H](C)OC(C)=O)cc1=O', 'O=C(O[C@@H]1O[C@@H](CO)[C@@H](O)[C@@H](O)[C@@H]1O)c1c(O)cc(O)cc1C=Cc1ccccc1', 'O=C(C=Cc1ccc(OC2OC(CO)C(O)C(O)C2O)cc1)c1ccc(O)cc1O', 'COc1cccc(OC)c1C(=O)OCC(=O)COC(=O)c1c(OC)cccc1OC', 'COc1cc(-c2c(O)c3c(OC)c(OC)c(OC)cc3oc2=O)cc(OC)c1OC', 'Cc1cc(=O)c2c(O)c3c(COC4OC(CO)C(O)C(O)C4O)cccc3cc2o1', 'Cc1cc(O)c2c(c1)[C@H]([C@@H]1O[C@H](CO)[C@@H](O)[C@H](O)[C@H]1O)c1cc(O)cc(O)c1C2=O', 'O=C(/C=C/c1ccc(O)cc1)c1ccc(O[C@H]2O[C@H](CO)[C@@H](O)[C@H](O)[C@H]2O)cc1O', 'O=C1C[C@@H](c2ccccc2)Oc2cc(O[C@@H]3OC(CO)[C@@H](O)[C@H](O)C3O)cc(O)c21', 'O=C(/C=C/c1ccc(O[C@@H]2OC(CO)[C@@H](O)[C@H](O)C2O)cc1)c1cccc(O)c1O', 'O=C1C[C@H](c2ccccc2)Oc2cc(O)cc(O[C@H]3O[C@@H](CO)[C@@H](O)[C@@H](O)[C@@H]3O)c21', 'COC12CC(=O)C(C(C)=O)=C(O)C1(C)c1c(OC(C)=O)c(C)c(O)c(C(C)=O)c1O2', 'COc1cc(OC)c(-c2oc3cc(OC)c(OC)c(O)c3c(=O)c2OC)cc1OC', 'O=c1c2ccccc2oc2cc(O)c([C@H]3COC[C@H](CO)[C@H](O)[C@H](O)[C@@H]3O)c(O)c12', 'COc1cc(-c2cc(=O)c3c(OC)c(OC)c(OC)cc3o2)c(OC)c(O)c1OC', 'O=C1CC(c2ccc(O)cc2)Oc2cc(OC3OC(CO)C(O)C(O)C3O)ccc21', 'O=C(C=Cc1ccc(O)cc1)OC[C@H]1O[C@@H](Oc2ccc(O)cc2)[C@H](O)[C@@H](O)[C@@H]1O', 'COc1cc(O)c2c(c1)OC(c1ccc(O[C@@H]3OC[C@@H](O)[C@H](O)[C@H]3O)cc1)CC2=O', 'O=C(/C=C/c1ccc(O)cc1)c1ccc(O)c([C@@H]2OC(CO)[C@@H](O)[C@H](O)C2O)c1O', 'Cc1cc2oc3cc(O)cc(OC4OC(CO)C(O)C(O)C4O)c3c(=O)c2cc1C', 'O=C(/C=C/c1ccc(O)cc1)c1ccc(O[C@@H]2O[C@H](CO)[C@@H](O)[C@@H](O)[C@H]2O)cc1O', 'O=C(C=Cc1ccccc1)c1c(O)cc(O)cc1O[C@@H]1O[C@H](CO)[C@@H](O)[C@H](O)[C@H]1O', 'O=C1O[C@@H](c2ccc(O[C@@H]3O[C@H](CO)[C@@H](O)[C@H](O)[C@H]3O)cc2)Cc2cccc(O)c21', 'O=C(/C(O)=C(\\\\c1ccccc1)[C@]1(O)[C@@H](O)[C@@H](CO)OC(O)(O)[C@@H]1O)c1ccccc1', 'C/C(=C\\\\[C@H](O)C[C@@](C)(O)[C@@H](O)COc1c2ccoc2cc2oc(=O)ccc12)C(=O)O', 'O=C1C[C@@H](c2ccc(O)cc2)Oc2c1ccc(O)c2[C@@H]1O[C@H](CO)[C@@H](O)[C@H](O)[C@H]1O', 'O=C1C[C@H](c2ccccc2)Oc2cc(O)cc(O[C@H]3O[C@H](CO)[C@H](O)[C@H](O)[C@H]3O)c21', 'Cc1cc(O)c2c(c1)[C@](O)(C1O[C@H](CO)[C@@H](O)[C@H](O)[C@H]1O)c1cccc(O)c1C2=O', 'COc1cc(C=O)c2c(c1O)OC1(C)OC2(C)C(O)=C2C1=C(O)C(=O)C(OC)C2C', 'C[C@@H]1O[C@@H](c2c(O)cc(O)c3c2OC(c2ccc(O)cc2)CC3=O)[C@H](O)[C@H](O)[C@H]1O', 'O=C(O)[C@H]1OC(Oc2ccc3c(c2)OCC(c2ccc(O)cc2)C3)[C@H](O)[C@@H](O)[C@@H]1O', 'O=C(C=Cc1ccc(O)cc1)O[C@H]1[C@H](O)[C@@H](O)[C@H](Oc2ccccc2O)O[C@@H]1CO', 'COCOc1cc2c(cc1/C=C/C(=O)c1ccc(OCOC)c(OC)c1O)OCO2', 'Cc1cc(O)c2c(c1)C(OC1OC(CO)C(O)C(O)C1O)c1cccc(O)c1C2=O', 'COc1ccc(C2CC(=O)c3c(O)cc(OC4OCC(O)C(O)C4O)cc3O2)cc1', 'O=C1C[C@H](c2ccccc2)Oc2cc(O)cc(O[C@H]3O[C@H](CO)[C@H](O)[C@@H](O)[C@H]3O)c21', 'O=C(C=Cc1ccc(O[C@H]2O[C@H](CO)[C@@H](O)[C@H](O)[C@H]2O)cc1)c1ccc(O)cc1O', 'COc1ccc(-c2oc3c(O)c(OC)c(OC)c(OC)c3c(=O)c2OC)cc1OC', 'C=C(C)C(=O)OC1C(OC(C)=O)C2(C)OC(=CC2=O)C(C)=CC2OC(=O)C3(CO3)C21', 'Cc1cc(O)c2c(C)cc3cc(=O)cc(O[C@H]4O[C@H](CO)[C@H](O)[C@@H](O)[C@H]4O)c3c2o1', 'COc1ccc(C2Oc3cc(C4O[C@H](CO)[C@@H](O)[C@H](O)[C@H]4O)cc(O)c3C2=O)cc1', 'O=C1c2ccc(O[C@@H]3O[C@H](CO)[C@@H](O)[C@H](O)[C@H]3O)cc2OC[C@H]1c1ccc(O)cc1', 'O=C1O[C@H](c2ccc(O)cc2)Cc2cccc(O[C@@H]3O[C@H](CO)[C@@H](O)[C@H](O)[C@H]3O)c21', 'O=C1OC(c2ccc(O[C@@H]3O[C@H](CO)[C@@H](O)[C@H](O)[C@H]3O)cc2)Cc2cccc(O)c21', 'C[C@@H]1O[C@@H](Oc2cc(O)c3c(c2)O[C@H](c2ccc(O)cc2)CC3=O)[C@H](O)[C@H](O)[C@H]1O', 'Cc1cc2oc3cc(C)c([C@@H]4O[C@H](CO)[C@@H](O)[C@H](O)[C@H]4O)c(O)c3c(=O)c2cc1O', 'O=C(/C=C\\\\c1ccc(O)cc1)c1ccc(O[C@@H]2O[C@H](CO)[C@@H](O)[C@H](O)[C@H]2O)cc1O', 'CCC1CC(OC(C)=O)CC(Oc2c(O)c(O)cc3c2oc2cc(C)oc(=O)c23)O1', 'O=C1C[C@H](c2ccc(O[C@H]3O[C@@H](CO)[C@@H](O)[C@@H](O)[C@H]3O)cc2)Oc2cc(O)ccc21', 'Cc1cc(=O)c2c(C)cc3cc(O[C@@H]4O[C@H](CO)[C@@H](O)[C@H](O)[C@H]4O)cc(O)c3c2o1', 'COc1c(OC(C)=O)c(OC(C)=O)c2oc(=O)ccc2c1C/C=C(\\\\C)COC(C)=O', 'OCC1O[C@@H](Oc2cc(O)c3c(c2)OC=C(c2ccc(O)cc2)C3)C(O)C(O)[C@@H]1O', 'O=C1CC(c2ccc(O)c(O[C@@H]3O[C@H](CO)[C@@H](O)[C@H](O)[C@H]3O)c2)Oc2ccccc21', 'COc1cc(C2c3cc4c(c(O)c3CC(CO)C2C(=O)O)OCO4)cc(OC)c1O', 'COC(=O)[C@H]1OC(Oc2ccc(/C=C/c3cc(O)cc(O)c3)cc2)[C@H](O)[C@@H](O)[C@@H]1O', 'Cc1ccc(COc2ccc(O[C@@H]3OC(C(=O)O)[C@@H](O)[C@H](O)C3O)c(C=O)c2)cc1', 'O=C1C[C@@H](c2ccc(O)cc2)Oc2cc(O[C@@H]3O[C@H](CO)[C@@H](O)[C@H](O)[C@H]3O)ccc21', 'CCOC(=O)c1cc2ccc(OC3OC(C)(C)[C@H](C)[C@H]4OC(=O)O[C@H]34)cc2oc1=O', 'O=C1C[C@H](c2ccc(O)cc2)Oc2cc(O[C@H]3O[C@@H](CO)[C@H](O)[C@H](O)[C@@H]3O)ccc21', 'COC(=O)[C@H]1OC(Oc2cc(O)cc(/C=C/c3ccc(O)cc3)c2)[C@H](O)[C@@H](O)[C@@H]1O', 'COc1ccc(-c2oc3c(OC)c(OC)c(OC)c(O)c3c(=O)c2OC)cc1CO', 'O=C1C[C@H](c2ccccc2)Oc2cc(O)cc(O[C@@H]3O[C@H](CO)[C@@H](O)[C@H](O)[C@H]3O)c21', 'CC(=C[C@H](O)C[C@](C)(O)[C@@H](O)COc1c2ccoc2cc2oc(=O)ccc12)C(=O)O', 'O=C1OC(Cc2ccc(OC3OC(CO)C(O)C(O)C3O)cc2)c2cccc(O)c21', 'O=C1C[C@H](c2ccc(O)cc2)Oc2cc(O[C@H]3O[C@H](CO)[C@@H](O)[C@H](O)[C@H]3O)ccc21', 'O=C(C=Cc1ccc(O)cc1)O[C@H]1O[C@@H](Oc2ccccc2CO)[C@H](O)[C@@H](O)[C@@H]1O', 'Cc1cc(C)cc(C(=O)OOCOC(=O)OCOOC(=O)c2cc(C)cc(C)c2)c1', 'O=C1C[C@@H](c2ccc(O)cc2)Oc2cc(O[C@H]3O[C@H](CO)[C@@H](O)[C@H](O)[C@H]3O)ccc21', 'CO[C@@]12CC(=O)C(C(C)=O)=C(O)[C@]1(C)c1c(OC(C)=O)c(C)c(O)c(C(C)=O)c1O2', 'O=C(C=Cc1ccc(O[C@H]2O[C@@H](CO)[C@@H](O)[C@@H](O)[C@@H]2O)cc1)c1ccc(O)cc1O', 'O=C(/C=C/c1ccc(O)cc1)c1ccc(O)cc1O[C@H]1O[C@H](CO)[C@H](O)[C@H](O)[C@@H]1O', 'O=C(/C=C\\\\c1ccc(O)cc1)c1ccc(O[C@@H]2O[C@@H](CO)[C@@H](O)[C@@H](O)[C@@H]2O)cc1O', 'COc1ccc(/C=C/C(=O)OC[C@@H](OC(C)=O)[C@H]2OC(=O)C=C[C@H]2OC(C)=O)cc1', 'COc1cc([C@@H]2CC(=O)c3c(OC)c(OC)c(OC)c(OC)c3O2)cc2c1OCO2', 'C[C@@H]1O[C@@H](c2c(O)cc3c(c2O)C(=O)CC(c2ccc(O)cc2)O3)[C@H](O)[C@H](O)[C@H]1O', 'O=C(O)C1O[C@@H](Oc2ccc3c(c2)OCC(c2ccc(O)cc2)C3)[C@@H](O)[C@@H](O)[C@@H]1O', 'COc1cc2oc3cc(O)c(C4C[C@H](CO)C[C@H](O)[C@H]4O)c(O)c3c(=O)c2cc1O', 'C[C@@H]1O[C@H](Oc2cc(O)cc(O)c2C(=O)/C=C/c2ccc(O)cc2)[C@@H](O)[C@H](O)[C@@H]1O', 'O=C1CC(c2ccc(O[C@@H]3OC(CO)[C@@H](O)C(O)C3O)cc2)Oc2cc(O)ccc21', 'COc1cccc(OC)c1C(C(=O)O)C(=O)C(C(=O)O)c1c(OC)cccc1OC', 'C=C(C)C1[C@@H](C)C2OC(=O)C34OC5OC(=O)[C@H](OC)C51C23C(O)C1OC(=O)C(C)=C14', 'CC(=O)c1ccc(O[C@@H]2O[C@H](COC(=O)c3ccc(O)cc3)[C@@H](O)[C@H](O)[C@H]2O)cc1', 'O=C1C[C@H](c2ccc(O[C@@H]3O[C@@H](CO)[C@@H](O)[C@@H](O)[C@H]3O)cc2)Oc2cc(O)ccc21', 'COCCOCC(O)CO.O=CCC(=O)c1cc2c(o1)C(=O)c1ccccc1C2=O', 'O=C1CC(c2ccccc2)Oc2cc(O)c([C@@H]3O[C@H](CO)[C@@H](O)[C@H](O)[C@H]3O)c(O)c21', 'COCOc1ccc(-c2oc3cc(OCOC)cc(O)c3c(=O)c2OCOC)cc1', 'C[C@@H]1O[C@@H](Oc2ccc([C@@H]3CC(=O)c4c(O)cc(O)cc4O3)cc2)[C@@H](O)[C@H](O)[C@H]1O', 'O=C(/C=C/c1ccc(O)cc1)O[C@H]1[C@H](Oc2ccc(O)cc2)O[C@H](CO)[C@@H](O)[C@@H]1O', 'CCOC(=O)COc1ccc(C(=O)c2ccc(OCOC(=O)CC)cc2O)c(O)c1', 'C[C@@H]1O[C@@H](Oc2cc(O)cc3c2C(=O)C[C@@H](c2ccc(O)cc2)O3)[C@H](O)[C@@H](O)[C@H]1O', 'O=C(/C=C/c1ccc(O)cc1O)c1ccc(O[C@H]2O[C@@H](CO)[C@H](O)[C@@H](O)[C@@H]2O)cc1', 'CC1=C[C@H]2C(=O)c3cccc(O[C@H]4O[C@H](CO)[C@@H](O)[C@H](O)[C@H]4O)c3C(=O)[C@@H]2C(O)=C1', 'O=C(/C=C/c1ccc(O)cc1)c1ccc(O)c([C@@H]2O[C@H](CO)[C@H](O)[C@H](O)[C@H]2O)c1O', 'CC(=C1CC(C2=CC(O)OC2=O)OC1=O)C1(C)OC2(O)CCC=C3C(=O)OC1C32C', 'O=C(C=Cc1ccc(O[C@@H]2O[C@@H](CO)[C@@H](O)[C@@H](O)[C@@H]2O)cc1)c1ccc(O)cc1O', 'CC(C(=O)OC1O[C@H](C(=O)O)[C@@H](O)[C@H](O)[C@H]1O)c1cccc(Oc2ccccc2)c1', 'O=C(/C=C/c1ccc(O)cc1)c1ccc(O)cc1O[C@H]1O[C@@H](CO)[C@@H](O)[C@H](O)[C@H]1O', 'Cc1ccc(C(=O)OOC(C)OC(=O)OC(C)OOC(=O)c2ccc(C)cc2)cc1', 'O=C(/C=C\\\\c1ccc(O)cc1)OC[C@H]1O[C@H](Oc2ccc(O)cc2)[C@H](O)[C@@H](O)[C@@H]1O', 'O=C(/C=C/c1ccc(O)cc1)OC[C@H]1O[C@@H](Oc2ccc(O)cc2)[C@H](O)[C@@H](O)[C@@H]1O', 'O=C1C[C@@H](c2ccc(O[C@@H]3O[C@@H](CO)[C@H](O)[C@@H](O)[C@@H]3O)cc2)Oc2cc(O)ccc21', 'O=C(CC(=O)c1ccc(O[C@@H]2O[C@H](CO)[C@@H](O)[C@H](O)[C@H]2O)cc1O)c1ccccc1', 'O=C(C=Cc1ccc(O[C@H]2O[C@@H](CO)[C@H](O)[C@H](O)[C@@H]2O)cc1)c1ccc(O)cc1O', 'COc1cc(O)c2c(=O)cc(-c3c(OC)c(OC)c(OC)c(OC)c3OC)oc2c1', 'COc1cc(-c2cc(=O)c3c(OC)c(OC)c(OC)c(O)c3o2)cc(OC)c1OC', '[2H]c1c([2H])c(/C=C/c2cc(O)cc(O[C@@H]3O[C@H](CC(=O)O)[C@@H](O)[C@H](O)[C@H]3O)c2)c([2H])c([2H])c1O', 'O=C1C[C@@H](c2ccc(O[C@@H]3O[C@@H](CO)[C@@H](O)[C@@H](O)[C@H]3O)cc2)Oc2cc(O)ccc21', 'C[C@@H]1O[C@@H](Oc2cc(O)cc3c2C(=O)C[C@H](c2ccc(O)cc2)O3)[C@H](O)[C@H](O)[C@H]1O', 'O=C(/C=C/c1ccc(O[C@@H]2O[C@@H](CO)[C@H](O)[C@H](O)[C@@H]2O)cc1)c1ccc(O)cc1O', 'COC(=O)[C@H]1O[C@@H](Oc2cc(O)cc(/C=C\\\\c3ccc(O)cc3)c2)[C@H](O)[C@@H](O)[C@@H]1O', 'CCc1ccc(C(=O)OOCOC(=O)OCOOC(=O)c2ccc(CC)cc2)cc1', 'CC(C)C(C)Cc1cccc(C(=O)OOC(=O)OOC(=O)c2ccccc2O)c1O', 'O=C(O)c1c(C=Cc2ccccc2)cc(O)cc1OC1OC(CO)C(O)C(O)C1O', 'O=C1c2cc(O)cc(O)c2C(=O)c2c(O)cc(COCCOCCOCCO)cc21', 'O=C(/C=C/c1ccc(O)cc1)c1ccc(OC2OC(CO)[C@@H](O)[C@H](O)[C@H]2O)cc1O', 'O=C1c2c(O)cccc2C(C2(O)CC(O)C(O)C(CO)O2)c2cc(CO)cc(O)c21', 'COC(=O)COC(=O)C(C)c1ccc2cc(OC(C(=O)OC)C(=O)OC)ccc2c1', 'O=C(/C=C/c1ccc(O[C@H]2O[C@@H](CO)[C@H](O)[C@H](O)[C@@H]2O)cc1)c1ccc(O)cc1O', 'O=C(O[C@@H]1O[C@H](CO)[C@@H](O)[C@H](O)[C@@H]1O)c1c(O)cc(O)cc1C=Cc1ccccc1', 'COC(=O)C1OC(Oc2cc(O)cc(/C=C\\\\c3ccc(O)cc3)c2)C(O)C(O)C1O', 'O=C1C[C@@H](c2ccccc2)Oc2cc(O)cc(O[C@H]3O[C@@H](CO)[C@@H](O)[C@@H](O)[C@H]3O)c21', 'O=C1CC(c2ccc(O)cc2)Oc2cc(O[C@@H]3O[C@H](CO)[C@@H](O)[C@H](O)[C@H]3O)ccc21', 'O=C(O)c1c(O)cc(O[C@@H]2O[C@@H](CO)[C@@H](O)[C@@H](O)[C@@H]2O)cc1C=Cc1ccccc1', 'COC(=O)[C@]1(OC)OC(=O)C2=C3O[C@H](C)C(C)(C)[C@]3(O)C(=O)c3c(C)cc(O)c1c32', 'O=C(C=Cc1ccc(O)cc1)OC[C@H]1O[C@@H](Oc2ccccc2O)[C@H](O)[C@@H](O)[C@@H]1O', 'OCc1cc(O)c2c(O)c3c(O)cccc3c([C@@H]3OC(CO)[C@@H](O)[C@H](O)C3O)c2c1', 'O=C1O[C@H](c2ccc(O[C@@H]3O[C@H](CO)[C@@H](O)[C@H](O)[C@H]3O)cc2)Cc2cccc(O)c21', 'O=c1oc2cc(O[C@@H]3O[C@H](CO)[C@H](O)[C@H](O)[C@H]3O)c(O)cc2c2c1C1=C2CCCC1', 'C[C@@H]1O[C@@H](Oc2ccc(C3CC(=O)c4c(O)cc(O)cc4O3)cc2)[C@H](O)[C@H](O)[C@H]1O', 'CC(=O)OCC1OC(Oc2cc3ccccc3cc2O)C(OC(C)=O)C1OC(C)=O', 'O=C(C=Cc1ccc(O[C@@H]2O[C@H](CO)[C@@H](O)[C@H](O)[C@@H]2O)cc1)c1cccc(O)c1O', 'Cc1cc2oc3cc(O)cc(O[C@H]4O[C@H](CO)[C@@H](O)[C@H](O)[C@H]4O)c3c(=O)c2cc1C', 'COc1cc(/C=C/C(=O)OCCc2coc(CO)cc2=O)cc(OC)c1OC(C)=O', 'C=C(CO)C(=O)OC1CC(C)C2=CC(=O)C(C)(C=C3OC(=O)C(COC(C)=O)=C31)O2', 'OCc1cc(O)c2c(O)c3c(O)cccc3c([C@@H]3OC(CO)[C@@H](O)[C@@H](O)C3O)c2c1', 'Cc1cc(O)cc(O)c1C(=O)O[C@@H]1CC2=C(COC(CCC(=O)O)=C2)C(=O)[C@]1(C)O', 'O=C(C=Cc1ccc(O)cc1)c1ccc(O[C@@H]2O[C@H](CO)[C@@H](O)[C@@H](O)[C@@H]2O)cc1O', 'COc1ccc(C2CC(=O)c3c(O)cc(O[C@@H]4OC[C@@H](O)[C@H](O)[C@H]4O)cc3O2)cc1', 'O=C(OC[C@H]1O[C@@H](O[C@@H](C(=O)O)c2ccccc2)[C@H](O)[C@@H](O)[C@@H]1O)c1ccccc1', 'O=c1c2ccccc2oc2cc(O)c([C@@H]3COC[C@@H](CO)[C@@H](O)[C@@H](O)[C@H]3O)c(O)c12', 'O=C(C=Cc1ccc(O)cc1)c1ccc(O[C@H]2O[C@H](CO)[C@@H](O)[C@H](O)[C@H]2O)cc1O', 'CC1O[C@@H](Oc2cc(O)cc3c2C(=O)CC(c2ccc(O)cc2)O3)[C@@H](O)C(O)[C@H]1O', 'O=C(/C=C/c1ccccc1)c1c(O)cc(O)cc1O[C@@H]1O[C@H](CO)[C@@H](O)[C@H](O)[C@H]1O', 'O=C1C[C@H](c2ccccc2)Oc2cc(O)cc(O[C@H]3O[C@H](CO)[C@H](O)[C@H](O)[C@@H]3O)c21', 'O=C(O)[C@H]1O[C@@H](Oc2ccc3c(c2)OC[C@H](c2ccc(O)cc2)C3)[C@H](O)[C@@H](O)[C@@H]1O', 'O=C(C=Cc1ccc(O)cc1)c1ccc(O)c([C@H]2O[C@@H](CO)[C@H](O)[C@@H](O)[C@@H]2O)c1O', 'COc1cc([C@@H]2c3cc4c(cc3[C@H](O)C[C@@H]2C(=O)OCO)OCO4)cc(OC)c1O', 'CC1OC(OC2=Cc3c(O)cc(O)cc3OC2c2ccc(O)cc2)C(O)C(O)C1O', 'Cc1ccc(COc2ccc(O[C@@H]3OC(C(=O)O)[C@H](O)[C@H](O)C3O)c(C=O)c2)cc1', 'O=C(O)c1c(/C=C/c2ccccc2)cc(O)cc1O[C@@H]1O[C@H](CO)[C@@H](O)[C@H](O)[C@H]1O', 'C[C@@H]1O[C@@H](Oc2cc(O)c3c(c2)OC(c2ccc(O)cc2)CC3=O)[C@H](O)[C@H](O)[C@H]1O', 'O=C1C[C@@H](c2ccccc2)Oc2cc(O)cc(O[C@H]3O[C@@H](CO)[C@@H](O)[C@@H](O)[C@@H]3O)c21', 'O=C(O)c1c(O)cc(O[C@@H]2O[C@@H](CO)[C@@H](O)[C@@H](O)[C@H]2O)cc1C=Cc1ccccc1', 'O=C(OCc1ccccc1)c1ccccc1C(=O)OC1O[C@H](CO)[C@@H](O)[C@H](O)[C@H]1O', 'O=C1OC(c2ccc(O)cc2)Cc2cccc(O[C@@H]3O[C@H](CO)[C@@H](O)[C@H](O)[C@H]3O)c21', 'CC(=O)c1ccc(O[C@@H]2O[C@H](CO)[C@H](O)[C@H](O)[C@H]2O)c(C(=O)c2ccccc2)c1O', 'O=C(/C=C/c1ccc(O)cc1)c1ccc(O)cc1O[C@H]1O[C@H](CO)[C@H](O)[C@@H](O)[C@H]1O', 'O=C(O)c1c(O)cccc1C=Cc1ccc(O[C@@H]2O[C@H](CO)[C@@H](O)[C@H](O)[C@H]2O)cc1', 'Cc1cc(O)cc(O)c1C(=O)O[C@H]1CC2=C(COC(CCC(=O)O)=C2)C(=O)[C@@]1(C)O', 'CC(C)(CO)CO.O=C(O)c1cccc(C(=O)OC(=O)c2cccc(C(=O)O)c2)c1', 'O=C1C[C@@H](c2ccc(OC3O[C@H](CO)[C@@H](O)[C@H](O)[C@H]3O)cc2)Oc2cc(O)ccc21', 'C.COc1cc2c(c(O)c1O)C1(C)Oc3c(O)c(OC)cc(C=O)c3C(C)(O1)C2=O', 'C1=CC=C2C(=C1)N=C(N2CCNC3=NN4C(=NN=N4)C=C3)C(F)(F)F', 'Nc1cccc(-c2nc(N)nc(Nc3cncc(C(F)(F)F)c3)n2)n1', 'Cc1nn(-c2nn[nH]n2)c(C)c1-c1cc(C(F)(F)F)cc2[nH]ncc12', 'N#Cc1cc2nc(N3CCNCC3)c3nnnn3c2cc1C(F)(F)F', 'Cc1c(-c2cc(C(F)(F)F)cc3c2C=NC3)c(N)nn1-c1nn[nH]n1', 'C[C@H](Nc1ccc2nnc(C(F)(F)F)n2n1)c1nnc2ccccn12', 'C[C@@H](Nc1ccc2nnc(C(F)(F)F)n2n1)c1nnc2ccccn12', 'FC(F)(F)Cn1cc2c(NCc3ccc4n[nH]nc4c3)ncnc2n1', 'N#Cc1cc2c(cc1C(F)(F)F)nc(N1CCNCC1)c1nnnn12', 'Cc1cc(NCc2ccnc3ccnn23)n2nc(C(F)(F)F)nc2n1', 'FC(F)(F)c1nnc2ccc(NCCc3nnc4ccccn34)nn12', 'N#Cc1cc(C(F)(F)F)cc2c1nc(N1CCNCC1)c1nnnn12', 'N#Cc1cccnc1NCCNc1cc(C(F)(F)F)nc2ncnn12', 'CC(Nc1ccc2nnc(C(F)(F)F)n2n1)c1nnc2ccccn12', '[H]/N=C(\\\\c1n[nH]c(C(F)(F)F)n1)c1cccnc1NCc1cncnc1', 'Cn1c(Cn2cc(-c3cnc4[nH]ccc4c3)nn2)nnc1C(F)(F)F', 'Cc1cc(Nc2nc(N)nc(-c3cccc(C(F)(F)F)n3)n2)cnn1', 'Nc1cccc(-c2nc(N)nc(Nc3ccnc(C(F)(F)F)c3)n2)n1', 'NNc1ccc(F)c(-c2nc(N)nc(Nc3cc(F)cc(F)c3)n2)n1', 'CN(Cc1nnc2ccccn12)c1cc(C(F)(F)F)nc2ncnn12', 'N#Cc1cnn(C2CCN(c3ccc4nnc(C(F)(F)F)n4n3)C2)c1', 'Cc1ccc2nnc(CNc3ccc4nnc(C(F)(F)F)n4n3)n2c1', 'FC(F)(F)c1cc(C2CC2)n(Cc2nc3c4cn[nH]c4ncn3n2)n1', 'COC1=C(C=CC(=C1)C=CC(=O)NCC(C2=CC=C(C=C2)O)O)O', 'COc1ncc(C(=O)O)cc1C1(O)CC(OCc2ccccc2)C1', 'COC(=O)CC[C@H](NC(=O)c1cccc2ccccc12)C(=O)OC', 'COC(=O)c1cnc(COC(C)=O)c(OCc2ccccc2)c1C', 'Cc1cc(O)c(C(=O)C=Cc2cccc(OCCO)c2)c(=O)n1C', 'CC(C)(C)NC(=O)COC(=O)c1ccc(C(=O)c2ccccc2)o1', 'COc1ccc2c(c1)c(C(=O)O[C@H]1CCOC1=O)c(C)n2C1CC1', 'CCOC(=O)/C(=C\\\\c1c(OC(C)=O)cn2c(C)cccc12)C(C)=O', 'COc1ccccc1CCC(=O)O[C@@H](C)c1cccc([N+](=O)[O-])c1', 'COc1ccc(/C(C)=N/OCc2cccc(C(=O)O)c2)cc1OC', 'C[C@](O)(CNC(=O)/C=C/c1ccc2c(c1)OCO2)Cc1ccco1', 'CCCc1ccc(OC(=O)COc2ccc([N+](=O)[O-])c(C)c2)cc1', 'Cc1ccc(Oc2ccc(OCC(=O)NC(C)C(=O)O)cc2)cc1', 'COc1ccc(COc2cc(OC)ccc2/C=C/C(=O)NO)cc1', 'COC(=O)CCNC(=O)c1ccc(Oc2ccc(OC)cc2)cc1', 'COC(=O)c1cccc(NC(=O)[C@@H](C)Oc2ccc(OC)cc2)c1', 'COc1ccc(C)cc1NC(=O)COC(=O)c1ccccc1OC', 'CCOC(=O)C(O)CC#Cc1cn(C(=O)OCC)c2ccccc12', 'CC1CCN(C(=O)c2ccc(Oc3ccccc3)o2)C(C(=O)O)C1', 'COc1c(C)c2c(c(C#N)c1CCC(C)/C=C/C(=O)O)C(=O)OC2', 'CCOc1ccccc1NC(=O)COC(=O)c1ccc(OC)cc1', 'CCOC(=O)c1ccc(NC(=O)COc2ccccc2OC)cc1', 'Cc1oc(CN(C)C(=O)C2CCOc3ccccc32)cc1C(=O)O', 'CC1(C)CC(=O)C(=C(O)/C=C\\\\Nc2ccccc2C(=O)O)C(=O)C1', 'Cc1c(O)c(O)cc(/N=C/CCC(=O)OCc2ccccc2)c1O', 'COc1ccc(C(=O)N(C)Cc2ccc3c(c2)OCO3)cc1OC', 'C=CCOC/C=C1\\\\O[C@@H]2CC(=O)N2[C@@]1(Cc1ccccc1)C(=O)O', 'COc1ccc(CNC(=O)Cc2ccc3c(c2)OCO3)cc1OC', 'COC(=O)C(O)C(NC(=O)OCc1ccccc1)c1ccccc1', 'CC(=O)OC(C)C1C(=O)N2C(C(=O)OCc3ccccc3)=CCC12', 'COc1ccccc1OCC(=O)N(C)Cc1ccc(C(=O)O)cc1', 'O=C(O)CC(CNC(=O)OCc1ccccc1)c1ccccc1O', 'COc1cc2c(cc1CNc1cccc(CCC(=O)O)c1)OCO2', 'O=C(N[C@H](Cc1cccc2ccccc12)C(=O)O)[C@@H]1COCCO1', 'COc1ccc(Oc2ccc(CNC(=O)CCC(=O)O)cc2)cc1', 'CCOCCOc1ccccc1C(=O)Nc1ccccc1C(=O)O', 'COC(=O)c1ccc(C)c(NC(=O)COc2cccc(OC)c2)c1', 'O=C(O)CC1CN(C(=O)COc2cccc3ccccc23)CCO1', 'COc1cc(NC(=O)[C@H]2Cc3ccccc3O2)cc(OC)c1OC', 'Cc1ccc(OCC(=O)Nc2cc(CC(=O)O)ccc2O)cc1C', 'CC1(C)OC(=O)C(C2C(=O)C=CC2CNc2ccccc2)=C(O)O1', 'COC(=O)c1cccc(NC(=O)C(C)Oc2ccc(OC)cc2)c1', 'COc1ccc(NC(=O)c2ccc3c(c2)OCCCO3)c(OC)c1', 'O=C(O)c1ccc(CNC(=O)C2CCCOC2c2ccccc2)o1', 'O=C(O)c1ccc(C(=O)N2CCOC(CCc3ccccc3)C2)o1', 'CCOC(=O)C(NC(=O)OCc1ccccc1)c1cccc(O)c1', 'O=C(c1cccc(NCC(O)CO)c1)c1ccc2c(c1)OCCO2', 'COc1ccc([C@@H]2OC(=O)N(C)[C@]2(O)c2ccc(OC)cc2)cc1', 'COc1cccc(NC(=O)COC(=O)COc2cccc(C)c2)c1', 'COCC(=O)Nc1cccc(OC)c1C(=O)c1ccc(OC)cc1', 'COc1c2c(cc3c1[C@H]1[C@H]4C(=CC[C@H]1OC3=O)CCN4C)OCO2', 'CCOc1ccc(C(C)=O)cc1NC(=O)C1=CCCC=C1C(=O)O', 'CCOC(=O)[C@]12CC(=O)[C@@H]3C[C@@]1(O)C(=O)N(C)[C@@]32c1ccccc1', 'O=C(O)CCC1CCCCN1C(=O)c1cc2ccccc2oc1=O', 'CC(O)c1oc(=O)c2ccccc2c1C1=CCC(NC(=O)O)CC1', 'Cc1cc(OC(=O)COc2ccc(C(C)C)cc2)ccc1[N+](=O)[O-]', 'O=C([O-])C1[NH2+]CC(OCc2cccc(Oc3ccccc3)c2)C1O', 'CCc1ccc(C2CN(C(=O)c3ccc(C(=O)O)o3)CCO2)cc1', 'COc1c(C(=O)O)cc(-c2ccc3c(n2)CCC3)c(OC)c1OC', 'COc1ccc([C@@H]2CC(=O)Nc3cc(OC)c(OC)cc32)cc1O', 'CC1=C(C(=O)OC2CCCC2)[C@]2(O)C(=O)c3ccccc3[C@@]2(O)N1', 'CC(C)(C)OC(=O)c1cc(COc2ccccc2)ccc1[N+](=O)[O-]', 'C[C@@H]1CN(C(=O)COc2cccc3ccccc23)CC(C(=O)O)O1', 'COc1ccc(O[C@@H]2C(=O)N(c3ccc(OC)cc3)[C@@H]2CO)cc1', 'C=C(C)C(=O)OCCNC(=O)Oc1ccc2cc(OC)ccc2c1', 'CC[C@@H](Oc1cccc(OC)c1)C(=O)Nc1ccc2c(c1)OCO2', 'COc1ccccc1C(=O)NCCOC(=O)c1ccccc1OC', 'COC(=O)[C@@H](NC(=O)c1ccc(OC)c(OC)c1)c1ccccc1', 'COc1ccc(NC(=O)[C@@H](C)OC(=O)Cc2ccc(O)cc2)cc1', 'CCOC(=O)[C@@H](Nc1ccc(OC)cc1)c1ccc2c(c1)OCO2', 'COc1ccc(CNC(=O)COC(=O)c2ccc(OC)cc2)cc1', 'COc1cc(C(=O)/N=C2\\\\C=CC(=O)C(C)=C2C)cc(OC)c1OC', 'C=C1CCC(N2C(=O)c3cccc(OCCOC)c3C2=O)C(=O)C1', 'COc1c(CCNC(=O)OCc2ccccc2)cccc1C(=O)O', 'COC(=O)CNC(=O)CCCC1=C(C)C(=O)c2ccccc2C1=O', 'COc1cccc(C(=O)OC(C)C(=O)Nc2ccc(C)cc2)c1O', 'COC(=O)c1ccc(CO/N=C\\\\c2ccc(OC)cc2OC)cc1', 'COc1cc2c(cc1O)CC[NH2+][C@@]2(Cc1ccc(O)cc1)C(=O)[O-]', 'COc1ccc(COc2ccc(/C=C/C(=O)NO)c(OC)c2)cc1', 'CN1C2Cc3ccc(O)c4c3C35C2CC1C3(O)C(O)CC(=O)[C@@H]5O4', 'COc1ccccc1C(C)NC(=O)COC(=O)c1cccc(O)c1', 'CCOC(=O)C1=CC[C@@H]2C(=O)N(Cc3ccc(OC)cc3)C(=O)[C@H]12', 'O=C(O)CC1COCCN1C(=O)COc1ccc2ccccc2c1', 'C=CC/C(CO)=C1\\\\O[C@@H]2CC(=O)N2C1C(=O)OCc1ccccc1', 'O=C(O)c1cn(CC2(CO)CCC2)cc(Oc2ccccc2)c1=O', 'CCOc1ccc(NC(=O)COC(=O)c2ccc(CO)cc2)cc1', 'Cc1ccc2oc(C(=O)OCC(=O)NC3CCCC3)cc(=O)c2c1', 'COc1ccc(C(=O)CN2C(=O)[C@H]3CC=CC[C@H]3C2=O)cc1OC', 'COc1cccc(C(=O)N[C@@H](CC(=O)O)c2ccccc2)c1OC', 'NC=O.O=C(CC(=O)OCc1ccccc1)OCc1ccccc1', 'CN1CC[C@]23c4c5c(C(=O)O)cc(O)c4O[C@H]2[C@@H](O)C=C[C@H]3[C@H]1C5', 'COc1cc(C)cc(/C=N/CC(=O)c2ccc(O)c(O)c2)c1OC', 'CCc1oc(C(=O)NCCc2ccc3c(c2)CCO3)cc1C(=O)O', 'COC(=O)[C@]12c3ccccc3N(C)C(=O)[C@H]1CC=C[C@H]2OC(C)=O', 'COc1ccc(OC)c(COC(=O)CNC(=O)c2ccccc2)c1', 'COC(=O)Nc1ccc(OCc2cc3c(cc2C)OCO3)cc1C', 'CO/N=C1/c2cc(OC)ccc2O[C@@H](c2cccc(OC)c2)[C@H]1O', 'O=C(O)CCN(C(=O)[C@@H]1[C@@H](C(=O)O)[C@H]2C=C[C@@H]1C2)c1ccccc1', 'COc1ccc(C(=O)NC(C)c2ccc3c(c2)OCO3)c(OC)c1', 'CCOC(=O)c1cc(OCc2ccccc2)cc(C(=O)OCC)n1', 'COc1ccc([C@H](CC(=O)O)NC(=O)c2ccccc2)cc1OC', 'COC(=O)C(Oc1c(C)c(C)cc(C)c1[N+](=O)[O-])c1ccccc1', 'C=CCC(CO)=C1OC2CC(=O)N2C1C(=O)OCc1ccccc1', 'CCOC(=O)C[C@H](NC(=O)Cc1ccc2ccccc2c1)C(=O)O', 'O=C(O)NCCC#Cc1ccc2cc(OCC(O)CO)ccc2c1', 'CC(C)Oc1ccc(C(=O)O)cc1NC(=O)OCc1ccccc1', 'CC(=O)O[C@H]1C=C[C@]23c4cc5c(cc4CN(C[C@H]2O)[C@@H]3C1)OCO5', 'COC/C=C/Cn1c(C)c(C(=O)O)c(-c2ccccc2)c1C(=O)O', 'CCOC(=O)c1cccc(-c2cc(=O)cc(N3CCOCC3)o2)c1', 'COC(=O)c1ccc(NC(=O)CCc2ccc(O)c(OC)c2)cc1', 'CCOc1ccccc1OCC(=O)Nc1ccc2c(c1)OCCO2', 'O=C(NC[C@H](O)C(=O)OCc1ccccc1)OCc1ccccc1', 'COCc1ccc(C(=O)N2CC(C(=O)O)C(c3ccccc3)C2)o1', 'CCC(=O)c1ccc(OCCCOc2ccccc2)c([N+](=O)[O-])c1', 'O=C(CC(NCCO)C(=O)O)c1ccc(Oc2ccccc2)cc1', 'CCCc1c(OCc2ccc([N+](=O)[O-])cc2)ccc(CC=O)c1O', 'CC(=O)OCc1cccc(-c2cc(=O)cc(N3CCOCC3)o2)c1', 'COC(=O)N[C@@H](c1ccc2ccccc2c1)C(C(C)=O)C(=O)OC', 'CCc1ccc(NC(=O)COC(=O)c2cc(OC)ccc2O)cc1', 'CC(=O)O[C@@H]1C#C/C=C\\\\C#CC[C@H]2C(=O)N(C(=O)OC(C)(C)C)C12', 'COc1ccc(C)cc1NC(=O)COc1c(C=O)cccc1OC', 'COCCN(C(=O)OCc1ccccc1)c1ccc(C(=O)O)cc1', 'COc1cccc(C2CCN(C(=O)c3ccc(C(=O)O)o3)CC2)c1', 'COC(=O)C1=C(N)OC2=C(C(=O)CCC2)C1c1ccccc1OC', 'CCCCCOc1ccc(C(=O)Oc2cccc([N+](=O)[O-])c2)cc1', 'COC(=O)CC(=O)Nc1cccc(COc2cccc(OC)c2)c1', 'CNC(=O)OC1Cc2cccc(-c3ccc(OC)cc3OC)c2O1', 'CC(C)COc1ccc(C(=O)N/C(=C\\\\c2ccco2)C(=O)O)cc1', 'CCOC(=O)c1cc(OCC)c(-c2ccccc2)nc(=O)c1OC', 'COc1ccc2c(c1)CCCC2CNC(=O)c1ccc(C(=O)O)o1', 'CCOC(=O)C(NC(=O)c1cccc(O)c1)C(O)c1ccccc1', 'COc1cc(C(=O)OC(C(N)=O)C2(C)CO2)c2cccc(C)c2c1', 'CC(Cc1ccc(O)c(O)c1)C(=O)Nc1ccc2c(c1)OCCO2', 'O=C(N[C@@H](C(=O)O)[C@H]1CCCOC1)c1cccc(-c2ccoc2)c1', 'O=C(NCCOCc1ccccc1C(=O)O)OCc1ccccc1', 'CCOc1ccccc1NC(=O)COC(=O)c1cccc(C)c1O', 'COC(=O)C(C(=O)OC)c1cc(C(=O)c2ccc(C)cc2)n(C)c1', 'COc1ccc(CNC(=O)[C@H](C)OC(=O)/C=C/c2ccco2)cc1', 'COc1ccccc1NC(=O)[C@@H](C)OC(=O)c1ccc(C)c(O)c1', 'CC(=O)O[C@H]1C2c3cc4c(cc3CN3CCC(=C[C@@H]1O)C23)OCO4', 'CCOC(=O)Nc1ccc(Cc2cc3c(cc2O)OCCO3)cc1', 'O=C(NC[C@H]1COC2(CCCC2)O1)c1cc2ccccc2oc1=O', 'CCOc1ccc(NC(=O)c2ccc(OCCC(=O)O)cc2)cc1', 'COc1ccc(C)cc1NC(=O)COc1cc(C)ccc1C(=O)O', 'COc1ccc(C(=O)O[C@H](C)C(=O)Nc2ccccc2OC)cc1', 'COC(=O)[C@H](Cc1ccc(O)cc1)N(C=O)OCc1ccccc1', 'COC(=O)c1ccc(C(=O)NCc2ccc(OC)c(OC)c2)cc1', 'COc1ccccc1CNC(=O)COc1cc(C=O)ccc1OC', 'CO[C@H]1C=C2CCN(C)[C@H]2[C@@H]2c3cc4c(cc3C(=O)O[C@H]21)OCO4', 'COc1ccc(CCC(=O)Nc2ccc(C(=O)O)cc2)cc1OC', 'C=CC(=O)OCCCCOc1ccc(/C=C(\\\\C#N)C=O)cc1OC', 'COC1(OC)c2ccc(-c3ccc([N+](=O)[O-])cc3)cc2CCC1O', 'O=C(O)C1CCC1C(=O)Nc1cccc(COCc2ccco2)c1', 'COC(=O)C(C)c1c(C)[nH]c(C(=O)OC(=O)c2ccccc2)c1C', 'COc1cc(N(C)C)cc(C(=O)c2ccc(C(=O)O)cc2)c1OC', 'COc1ccc(C=CC(=O)NCCc2cc(O)c(O)c(O)c2)cc1', 'CC(O)(CNC(=O)C=Cc1ccc2c(c1)OCO2)Cc1ccco1', 'Cc1cc(C)c(C)c(O[C@H](Cc2cccc([N+](=O)[O-])c2)C(=O)O)c1', 'COc1c2ccoc2nc2c(OC)c(OC[C@@H]3OC3(C)C)ccc12', 'CC[C@@H](OC(=O)c1cc(O)cc([N+](=O)[O-])c1)[C@H](C)c1ccccc1', 'Cc1cc2cccc(C(=O)N3C[C@@H]4CCOC[C@]4(C(=O)O)C3)c2o1', 'CCOc1ccc(OCC)c(NC(=O)c2ccc3c(c2)OCO3)c1', 'COC(=O)/C=C(\\\\c1ccc(OC2CCCCO2)cc1)c1ncco1', 'CO[C@@H]1C=C2CCN(C)[C@@H]2C2c3cc4c(cc3C(=O)OC21)OCO4', 'COc1ccc(C(=O)N(CC2=CCCO2)Cc2ccco2)c(O)c1', 'CCCOc1ccc(N2C(=O)[C@H]3[C@@H](C2=O)[C@]2(CO)C=C[C@H]3O2)cc1', 'COc1ccc([N+](=O)[O-])cc1OCC(=O)c1ccc(C(C)C)cc1', 'CC(=O)Oc1ccc(C(O)CNC(=O)OCc2ccccc2)cc1', 'CCOc1ccc(NC(=O)COC(=O)c2cccc(C)c2O)cc1', 'CCOC(=O)C1=C2OC(=O)CCC2N(C(=O)c2ccccc2)CC1', 'COc1ccc(C2NC(c3ccccc3)C(C(=O)O)O2)c(OC)c1', 'COc1cc(OC)cc(C(=O)Nc2cc3c(cc2C)OCCO3)c1', 'CC(=O)OCc1[nH]c(C(=O)OCc2ccccc2)c(C(C)=O)c1C', 'COc1ccc(C2c3ccccc3ON2CCC(=O)O)cc1OC', 'CCCc1occc1C(=O)NC(C(=O)O)c1ccc2c(c1)CCO2', 'COc1cccc(O[C@H](C)C(=O)NCc2ccc3c(c2)OCO3)c1', 'Cc1cc(O)cc(C)c1N(C(=O)C(=O)O)c1c(C)cc(O)cc1C', 'O=C(NC(=O)c1ccccc1)O[C@@H](CCCO)c1ccc(O)cc1', 'COc1ccc(C(=O)c2ccccc2)c2c1OCC(CO)(CO)N2', 'C=CCN1C(=O)C(=Cc2ccc(O)c(OC)c2)C(C(=O)OC)=C1C', 'CCOC(=O)C(O)(C(=O)OCC)c1cncc(-c2ccccc2)c1', 'CN(CCC(Oc1cccc2c1OCO2)c1ccccc1)C(=O)O', 'COc1cc([13C](=O)[13C](=O)NCc2ccccc2)cc(OC)c1OC', 'CC1COC(c2ccccc2)C(C)N1C(=O)c1ccc(C(=O)O)o1', 'CCc1oc(C(=O)NCC2CCOc3ccccc32)cc1C(=O)O', 'CNCCC(O)(OC(=O)c1ccccc1)OC(=O)c1ccccc1', 'COc1cc(/C=C/C(=O)c2c(C)[nH]c(C(=O)O)c2C)cc(OC)c1', 'COc1c2ccoc2nc2c(OC)c(OCC3OC3(C)C)ccc12', 'CCN(CCOc1cc(C(=O)O)cc(C(=O)O)c1)c1ccccc1', 'CCOC(=O)c1ccccc1NC(=O)[C@H]1[C@@H](C(=O)O)[C@H]2C=C[C@@H]1C2', 'CC1OCC1(C)COC(=O)Cc1ccc(N2C(=O)C=CC2=O)cc1', 'CCOC(=O)CC(=O)c1ccccc1.Nc1ccccc1C(=O)O', 'COCOc1ccccc1-c1ccc2c(c1)OCCC2NC(=O)O', 'COC(=O)[C@@H]1C=C2C=C[C@@H](O)CC2N1C(=O)OCc1ccccc1', 'COc1cc(C(=O)O[C@H](C(N)=O)C2(C)CO2)c2cccc(C)c2c1', 'C=CC(=O)Oc1ccc2c(C)cc(=O)oc2c1CN1CCOCC1', 'CCC(=O)Oc1ccc(C(=O)Nc2cc(OC)ccc2OC)cc1', 'COC(=O)C(NC(=O)c1ccc(OC)c(OC)c1)c1ccccc1', 'COc1cc(/C=C/C(=O)N[C@@H](C)c2ccco2)cc2c1OCCO2', 'O=C(O)c1ccc(C2CCN(C(=O)OCc3ccccc3)CC2)o1', 'O=C(O)[C@]12COc3ccccc3[C@H]1CN(C(=O)[C@]13C[C@@H](O)[C@H]1C3)C2', 'Cc1cccc(C)c1NC(=O)COC(=O)c1c(C)cc(=O)oc1C', 'COc1cccc2c1OC(O)C(Cc1ccccc1)C2C[N+](=O)[O-]', 'C[C@@]1(C(=O)O)N[C@H](C(=O)O)[C@@H](c2ccc3ccccc3c2)[C@@H]1CO', 'COC(=O)[C@@H](Cc1cccc(OC)c1)NC(=O)c1ccc(O)cc1', 'CCc1ccc(NC(=O)COC(=O)c2ccc(C)c(O)c2O)cc1', 'CC12CCC(C(=O)Nc3ccc4c(c3)OCO4)(C(=O)C1=O)C2(C)C', 'COc1ccc(C(=O)OCC(=O)NC(C)c2ccccc2)c(O)c1', 'C[C@H](C(=O)OCCOc1cccnc1)c1ccc2c(c1)OCCO2', 'COC(=O)c1c(NC(=O)COc2ccccc2)oc2c1CCCC2', 'C=CCOc1ccc(/C=C2\\\\N=C(C)C(C(=O)OC)=C2O)cc1OC', 'C.COc1ccc2cc(CC(=O)ON3C(=O)CCC3=O)ccc2c1', 'COC(=O)[C@H](NC(=O)OCc1ccccc1)c1ccc(OC)cc1', 'COc1ccc(O)c(C(=O)OC(C(=O)N(C)C)c2ccccc2)c1', 'C[C@@]1(C(=O)O)CCN(C(=O)c2ccc(COc3ccccc3)o2)C1', 'COc1ccc(C(=O)N[C@@H](CO)C(=O)OCc2ccccc2)cc1', 'Cc1ccc(OC(CC(N)OC(=O)C(=O)O)c2ccccc2)cc1', 'COc1ccc(C)cc1NC(=O)COc1ccc2c(c1)OCCO2', 'CC(=O)N1C(=O)C(O)(C2=C(O)CC(C)(C)CC2=O)c2ccccc21', 'CCCOc1cccc(C(=O)Nc2cc(C(=O)OC)ccc2O)c1', 'COC(=O)C(NC(=O)c1ccc(C#CC#C[C@H](C)O)cc1)C(C)O', 'COC(=O)C1(C/C=C/c2ccccc2)/C(=C/CO)O[C@@H]2CC(=O)N21', 'CC(=O)OCc1[nH]c(C(=O)OCc2ccccc2)c(C)c1C(C)=O', 'CC1=CC(=O)N(c2ccc(C(=O)OCC3(C)COC3C)cc2)C1=O', 'C=CCC1(C(=O)OCc2ccccc2)/C(=C/CO)O[C@@H]2CC(=O)N21', 'COc1cc(NC(=O)/C=C/c2cccc(O)c2)cc(OC)c1OC', 'COC(=O)c1ccc(C(=O)OCC(=O)c2cc(C)n(C)c2C)cc1', 'CC[C@](CO)(C(=O)OC(c1ccccc1)c1ccccc1)[N+](=O)[O-]', 'COc1cc(/C=C/C(=O)NCCc2ccccc2O)cc(O)c1O', 'COc1cc(C#N)cc(C)c1O.COc1cc(C=O)cc(C)c1O', 'COc1ccc(NC(=O)COC(=O)c2ccccc2C)cc1OC', 'COc1cc(C(=O)O)ccc1OCC(=O)NC(C)c1ccccc1', 'COC(=O)c1c(C)cccc1NC(=O)c1ccc(OC)c(OC)c1', 'COC(=O)C(C)(C)c1cccc([N+](=O)[O-])c1OCc1ccccc1', 'O=C(O)[C@@H]1NC[C@H](OCc2cccc(Oc3ccccc3)c2)[C@H]1O', 'COc1c2c(nc3occc13)C(=O)CC1CC(C)(C)C(=O)C21OC', 'O=C(NCCOc1cccc2ccccc12)[C@@H]1CC[C@H](C(=O)O)O1', 'O=C(OCC(=O)N1CCCC1)c1ccc(COc2ccccc2)o1', 'COc1cc(OC)cc(N(CC(=O)c2ccccc2O)C(C)=O)c1', 'COc1ccc(C(=O)c2cc(N(C)C)ccc2C(=O)O)c(OC)c1', 'COC(=O)C1=COC(OCc2ccccc2)=C2C(CN=O)CCC12', 'COc1ccc(C2(NC(=O)c3ccc(C(=O)O)o3)CCCC2)cc1', 'COc1cccc(N(Cc2ccc(OC)cc2OC)C(=O)C=O)c1', 'Cc1ccc(OC2CCN(C(=O)c3cc(C(=O)O)co3)CC2)cc1', 'NC(Cc1ccc(O)cc1)c1ccccc1.O=C(O)/C=C\\\\C(=O)O', 'COc1cc(C(=O)/C=C/Nc2ccccc2O)cc(OC)c1OC', 'CCC(Oc1ccccc1)C(=O)OCNC(=O)Oc1ccccc1', 'COc1cc(OC)cc(C(/C=C/c2ccc(OC)c(O)c2)=N/O)c1', 'CON=C1c2cc(OC)ccc2O[C@H](c2cccc(OC)c2)[C@H]1O', 'COc1ccc(C(=O)O[C@@H](C)C(=O)Nc2cccc(OC)c2)cc1', 'CCCCNC(=O)Oc1ccc(C(=O)Oc2ccc(O)cc2)cc1', 'CC[C@H]1Cc2cc(OC)c(OC)cc2-c2cc(=O)c(C(=O)O)cn21', 'CCOC(=O)C(=CNc1cccc2c(O)cccc12)C(=O)OCC', 'COc1c(OC)c(OC)c2c(c1OC)c(=O)c1ccccc1n2C', 'COc1cccc(CC(=O)N2CC(Oc3cc(C)oc(=O)c3)C2)c1', 'O=C(OCC(=O)N1CC=C(c2ccccc2)CC1)C1=COCCO1', 'C1C[C@H](C(=O)N(C[C@@H]1C2=C(C(=CC=C2)F)F)CC(F)(F)F)N', 'Cc1ccnc(NCCCC(=O)/C=C/C(F)(F)C(F)(F)F)c1', 'CN(C(=O)C(F)(F)F)[C@@H]1CCN[C@H](c2ccc(F)cc2F)C1', 'N[C@@H]1CC[C@@H](C(c2cccc(F)c2F)C(F)(F)F)CNC1=O', 'O=C(CCC(F)(F)F)N1CCC(c2ncc(F)cc2F)CC1', 'CNC(=O)C1CCN(Cc2c(F)c(F)c(F)c(F)c2F)CC1', 'CCCC(=O)N1CCN(c2c(F)c(F)c(F)c(F)c2F)CC1', 'CN(Cc1ccccc1C(F)(F)F)C(=O)C1CC(F)(F)CN1', 'C=CCNC(=O)c1c(F)cc(NC(CC)C(F)(F)F)cc1F', 'CCN1CC(NC(=O)c2ccc(C(F)(F)F)cc2)C(F)(F)C1', 'O=C(NCc1cc(C2CCNCC2)c(F)cc1F)C(F)(F)F', 'C=C(CCNC(=O)NCc1cccc(C(F)F)c1)C(F)(F)F', 'O=C(NCc1cc(N2CCCCC2)c(F)cc1F)C(F)(F)F', 'NC(=O)[C@@H]1CN(CCc2ccc(F)c(F)c2)C[C@H]1C(F)(F)F', '[H]/N=C(\\\\C(F)F)N(C)/C=C(\\\\C)c1ccc(OC(F)(F)F)cc1C', 'CN1CCN(CC(=O)c2ccc(C(F)(F)F)c(F)c2F)CC1', 'CN1CCC[C@@H]1C(=O)N[C@H](c1c(F)cccc1F)C(F)(F)F', 'Cc1cccnc1C(F)(F)C(=O)N(CC1CC1)CC(F)(F)F', 'CCCN1CCN(C(=O)c2c(F)c(F)c(F)c(F)c2F)CC1', 'NC1CCC(c2cccc(F)c2F)=C[N+]([O-])(CC(F)(F)F)C1', 'COc1nc(C(F)(F)F)ccc1C(F)(F)C1CC2(CNC2)C1', 'O=C(Nc1ccc(F)c(F)c1)NC1CCC(C(F)(F)F)CC1', 'CN(C(=O)C(F)(F)F)[C@@H]1CCN[C@H](c2cc(F)ccc2F)C1', 'O=C(CCC1CCCC1)NNc1c(F)c(F)c(F)c(F)c1F', 'O=C(CN1CCC(F)(F)CC1)Nc1cccc(C(F)(F)F)c1', 'CC(C)CCC1(C(F)(F)F)NC(=O)Nc2ccc(F)c(F)c21', 'CC1CN(C(=O)c2ccc(F)cc2F)CC(C(F)(F)F)N1C', 'NC1CCC(C(F)(F)F)N(C(=O)Cc2ccc(F)cc2F)C1', 'O=C(CN1CCCC(C(F)(F)F)C1)Nc1ccc(F)cc1F', 'CC(=O)N1CCCN(Cc2c(F)c(F)c(F)c(F)c2F)CC1', 'NC1CCC(C(F)(F)F)N(C(=O)Cc2cccc(F)c2F)C1', 'CN(C(=O)C(F)(F)F)[C@@H]1CCN[C@H](c2ccc(F)c(F)c2)C1', 'O=C(NCc1cccc(C(F)(F)F)c1)NC1CC(C(F)F)C1', 'O=C(Nc1ccc(CCC(F)(F)F)cc1)C1CC(F)(F)CN1', 'CN(C(=O)C(F)(F)F)C1CCNC(c2cc(F)cc(F)c2)C1', 'O=C(CCC(F)(F)F)N1CCC(F)(c2ccnc(F)c2)CC1', 'CC1CN(c2cc(F)c(C(=O)N[C@@H](C)C(F)(F)F)cc2F)C1', 'O=C(CCC(F)(F)F)N1CCC(c2ccc(F)nc2F)CC1', 'CN1CCCC1C(=O)NC(c1c(F)cccc1F)C(F)(F)F', 'CN1CCC[C@H]1C(=O)N[C@H](c1c(F)cccc1F)C(F)(F)F', 'O=C(NCc1ccccc1C(F)(F)F)N1CCC(F)(F)CC1', 'O=C(CN1CCC[C@@H](C(F)(F)F)C1)Nc1ccc(F)cc1F', 'CN(Cc1ccc(F)c(F)c1)[C@H]1CCN(CC(F)(F)F)C1=O', 'O=C(CNCC(F)(F)F)N[C@@H](c1cc(F)ccc1F)C1CC1', 'NC(=O)C(c1ccc(C(F)(F)F)cc1)N1CCC(F)(F)CC1', 'O=C(CCC(F)(F)F)N1CCC(c2cnc(F)c(F)c2)CC1', 'FC1(F)CCN(c2ccc(C3CC3)c(OC(F)(F)F)n2)CC1', 'CN(C(=O)C(F)(F)F)[C@@H]1CCN[C@H](c2cccc(F)c2F)C1', 'O=C(NCCc1c(F)cccc1F)[C@@H]1CNC[C@H]1C(F)(F)F', 'CN1CCC[C@H]1C(=O)N[C@@H](c1c(F)cccc1F)C(F)(F)F', 'O=C(NCc1cccc(C(F)F)c1)NC1(C(F)(F)F)CCC1', 'CC1(NC(=O)NCc2cccc(C(F)(F)F)c2)CC(F)(F)C1', 'O=C(CC(F)(F)F)NC1CNCCC1c1ccc(F)c(F)c1', 'O=C(NCCc1ccccc1C(F)(F)F)C1CC(F)(F)CN1', 'CCc1ccc(F)c(C2(CF)CC(C(F)(F)F)OC(N)=N2)c1', 'O=C(NC(c1ccc(F)cc1F)C1CCCNC1)C(F)(F)F', 'NC1C=CC(C(=O)NC2C=C(F)C(C(F)(F)F)=C(F)C2)CC1', 'CN(CC(F)(F)F)C(=O)CN1CCCc2cc(F)cc(F)c21', 'COc1ncc(C(F)(F)F)cc1C(F)(F)C1CC2(CNC2)C1', 'O=C(NCC1CCN(CC(F)(F)F)C1)c1c(F)cccc1F', 'O=C(CCC(F)(F)F)N1CCC(F)(c2ccc(F)nc2)CC1', 'O=C1CN(CCc2ccc(F)c(F)c2)CN1CCC(F)(F)F', 'CCN1CCC(NC(=O)c2c(F)c(F)c(F)c(F)c2F)CC1', 'CN(C(=O)C(F)(F)F)[C@@H]1CCN[C@H](c2cc(F)cc(F)c2)C1', 'O=C(NC(Cc1ccccc1)C(F)(F)F)C1CC(F)(F)CN1', 'C=C(CCNC(=O)NCc1cccc(C(F)(F)F)c1)C(F)F', 'CN(Cc1ccc(F)c(F)c1)[C@@H]1CCN(CC(F)(F)F)C1=O', 'O=C(CN1CCC[C@H](C(F)(F)F)C1)Nc1c(F)cccc1F', 'O=C(NCC1CCCN1c1ccccc1)C(F)(F)C(F)(F)F', 'Cc1cc(CNC(=O)[C@@H]2CC(F)(F)CN2)cc(C(F)(F)F)c1', 'CC(NC(=O)C1CC(F)(F)CN1)c1ccc(C(F)(F)F)cc1', 'NCC(F)(F)CNC(=O)C1CC1c1cccc(C(F)(F)F)c1', 'CN1CCN(CC(=O)c2ccc(F)c(C(F)(F)F)c2F)CC1', 'CC1CC(F)(F)CN1C(=O)C(N)c1ccc(C(F)(F)F)cc1', 'NCC(F)(F)CNC(=O)C1(c2cccc(C(F)(F)F)c2)CC1', 'O=C(CN1CCC[C@@H](C(F)(F)F)C1)Nc1c(F)cccc1F', 'C[C@@H](NC(=O)[C@H]1CC(F)(F)CN1)c1ccc(C(F)(F)F)cc1', 'CN(Cc1ccc(F)c(F)c1)C1CCN(CC(F)(F)F)C1=O', 'O=C(N1CCN(Cc2ccccc2)CC1)C(F)(F)C(F)(F)F', 'CC(NC(=O)C1CC(F)(F)CN1)c1cccc(C(F)(F)F)c1', 'O=C(Nc1ccc(C(F)(F)F)c(F)c1F)NC1CCCCC1', 'NC1CC(Cc2cccc(F)c2F)CN(CC(F)(F)F)C1=O', 'O=C(CNCC(F)(F)F)NC(c1cc(F)ccc1F)C1CC1', 'O=C(NCCN1CCCCC1)c1c(F)c(F)c(F)c(F)c1F', 'O=C(CN1CCC[C@H](C(F)(F)F)C1)Nc1ccc(F)cc1F', 'O=C(Nc1cccc(CCC(F)(F)F)c1)C1CC(F)(F)CN1', 'N[C@H]1C[C@@H](c2cccc(F)c2F)CN(CCC(F)(F)F)C1=O', 'CC(C)C(=O)N1CCN(c2c(F)c(F)c(F)c(F)c2F)CC1', 'O=C(CN1CCCC(C(F)(F)F)C1)Nc1c(F)cccc1F', 'Cc1cc(C(=O)N2CC(N)CCC2C(F)(F)F)c(F)cc1F', 'O=C(NC1CCCN(CCF)C1)c1cc(F)c(F)c(F)c1F', 'CC1CCN(CC(=O)Nc2c(F)c(F)c(F)c(F)c2F)CC1', 'CC(NC(=O)C1CC(F)(F)CN1)c1ccccc1C(F)(F)F', 'NC1CCC(C(F)(F)F)N(C(=O)Cc2c(F)cccc2F)C1', 'C=C(CCC(F)F)NC(=O)NCc1cccc(C(F)(F)F)c1', 'NC1CCC(C(F)(F)F)N(C(=O)Cc2cc(F)ccc2F)C1', 'O=C(CNCC(F)(F)F)N[C@H](c1cc(F)ccc1F)C1CC1', 'CN1CCC[C@@H]1C(=O)N[C@@H](c1c(F)cccc1F)C(F)(F)F', 'CN(Cc1cccc(C(F)(F)F)c1)C(=O)C1CC(F)(F)CN1', 'CCC(Nc1cc(C2CC2(F)F)cc(C(F)(F)F)c1)C(N)=O', 'O=C(CCC(F)(F)F)N1CCN(c2ccc(F)cc2F)CC1', 'C[C@H]1[C@@H]([C@H]([C@@H]([C@@H](O1)O[C@H]2CC[C@]3([C@@H](C2)CC[C@@H]4[C@@H]3CC[C@]5([C@@]4(CC[C@@H]5C6=CC(=O)OC6)O)C)C)O)OC)O', 'CC(CC(O)CC(C)(O)C1CC(=O)C2(C)C3=C(C(=O)CC12C)C1(C)CCC(O)C(C)(C)C1CC3O)C(=O)O', 'COCCCCOc1cc2cccc(OCCCCOC)c2c(OC(=O)C(C)(C)C)c1OCCCCOC', 'CCC(C)(CC(C)(CC(C)(C)C(=O)OC1CCOC1=O)C(=O)OC1(C)C2CC3CC(C2)CC1C3)C(=O)OC', 'CC1(C)C(=O)[C@H](O)C[C@@H]2C1=CC[C@@H]1[C@@]2(C)C(=O)C[C@]2(C)[C@@H]([C@@](C)(O)C(=O)C[C@@H](O)C(C)(C)O)[C@@H](O)C[C@@]12C', 'CC(=O)OC(COC(=O)/C=C/c1ccccc1)COC(=O)CC(O)CCCCCCCCCCCCCO', 'CCC(=O)C(C)C1OC1CC(C)/C=C/C=C(\\\\C)C1OC(=O)CC(O)CCC(C)(O)C(OC(C)=O)/C=C/C1C', 'CO[C@H]1C[C@H](O[C@H]2CC[C@@]3(C)[C@H](CC[C@@H]4[C@@H]3CC[C@]3(C)[C@@H](C5=CC(=O)OC5)[C@@H](O)C[C@]43O)C2)O[C@H](C)[C@@H]1O', 'CC1CCC2(C(=O)O)CCC3(C)C(=CCC4C5(C)CC(O)C(O)C(CO)(C(=O)O)C5CCC43C)C2C1(C)O', 'COCCOC(=O)O[C@H](CC[C@@H]1[C@H]2Cc3cccc(OCC(=O)O)c3C[C@H]2C[C@H]1O)C(C)(C)CC(C)(C)C', 'CC(=O)O[C@H]1CC[C@@]2(C)[C@H](C1)C[C@@H](OC(C)=O)[C@@H]1[C@@H]2C[C@@H](OC(C)=O)[C@]2(C)[C@@H]([C@H](C)CCC(=O)O)CC[C@@H]12', 'CO[C@H]1[C@H](O)[C@H](O[C@H]2CC[C@@]3(C)[C@H](CC[C@H]4[C@H]5CC[C@@H]6[C@@]7(COC(=O)C7)OC[C@]56CC[C@@H]43)C2)O[C@@H](C)[C@@H]1O', 'CCCCCCCC(=O)OCC[C@@H]1C[C@H](OCOC)[C@H](C)C/C=C/Cc2cccc(OCOC)c2C(=O)O1', 'CCC(O)C(C)C1OC1CC(C)/C=C/C=C(\\\\C)C1OC(=O)CC(O)CCC2(CO2)C(OC(C)=O)/C=C/C1C', 'CC(OCCOCCOCCOC(C)Oc1ccc(C(C)(C)C)cc1O)Oc1ccc(C(C)(C)C)cc1O', 'CC(C)(O)CCC(=O)C(C)(O)C1[C@H](O)C(=O)[C@@]2(C)[C@@H]3CC=C4[C@@H](C[C@H](O)[C@@H](O)C4(C)C)[C@]3(C)C(=O)C[C@]12C', 'CO[C@@H]1CC(OC2CCC3(C)C(CCC4C3CCC3(C)C(C5=CC(=O)OC5)C(O)CC43O)C2)O[C@H](C)[C@@H]1O', 'CO[C@H]1C[C@](O)(O[C@H]2CC[C@@]3(C)[C@H](CC[C@@H]4[C@@H]3CC[C@]3(C)[C@H](C5=CC(=O)OC5)CC[C@]43O)C2)O[C@H](C)[C@H]1O', 'C[C@]12C[C@@H](O)[C@H](O)[C@](C)(CO)[C@@H]1CC[C@]1(C)[C@@H]2CC=C2[C@@H]3C[C@](C)(C(=O)O)[C@@H](O)C[C@]3(C(=O)O)CC[C@]21C', 'CC(C[C@@H](O)C[C@](C)(O)C1CC(=O)[C@@]2(C)C3C(=O)CC4C(C)(C)[C@@H](O)CC[C@]4(C)C3C(=O)C[C@]12C)C(=O)O', 'CC(OCCCCOCc1ccccc1)OCC1CO1.OCC1CO1.OCCCCOCc1ccccc1', 'CCCCCCOC(=O)C(C)CCOC(=O)c1ccccc1C(=O)OCCC(C)C(=O)OCCCCCC', 'CC(C)CCCCCCCOC(=O)c1cc(C(=O)O)c(C(=O)O)cc1C(=O)OCCCCCCCC(C)C', 'COC(=O)CC[C@@H](C)[C@H]1CC[C@H]2[C@@H]3C(=O)C[C@@H]4CC5(CC[C@]4(C)[C@H]3CC(=O)[C@]12C)OCC(CO)(CO)CO5', 'COC(=O)C[C@@H](C)[C@H]1CC[C@H]2[C@@H]3[C@H](OC(C)=O)C[C@@H]4C[C@H](OC(C)=O)CC[C@]4(C)[C@H]3C[C@H](OC(C)=O)[C@]12C', 'CC(C)(O)[C@@H](O)CC(=O)[C@](C)(O)[C@H]1[C@H](O)C[C@@]2(C)[C@@H]3CC=C4[C@@H](CC(=O)[C@@H](O)C4(C)C)[C@]3(C)C(=O)C[C@]12C', 'COC(=O)CCC(C)C1CCC2C3C(OC(C)=O)CC4CC(OC(C)=O)CCC4(C)C3CC(O)C12C(C)=O', 'CC(OCCCCC1CO1)C(C)(C)OC(=O)c1ccc(C(=O)OC(C)(C)C(C)OCCCCC2CO2)cc1', 'CO[C@@H]1C[C@H](O[C@H]2CC[C@]3(C)[C@H]4CC[C@]5(C)[C@@H](C6=CC(=O)OC6)CC[C@]5(O)[C@@H]4CC[C@]3(O)C2)O[C@H](C)[C@@H]1O', 'CO[C@H]1[C@H](O[C@H]2CC[C@@]3(C)[C@H](CC[C@@H]4[C@@H]3CC[C@]3(C)[C@@H](C5=CC(=O)OC5)CC[C@]43O)C2)O[C@H](C)[C@@H](O)[C@@H]1O', 'C[C@]1(CO)C[C@H](O)[C@]2(C(=O)O)CC[C@]34C[C@]3(C=C[C@H]3[C@@]5(C)[C@@H](O)[C@@H](O)[C@H](O)[C@@](C)(CO)[C@@H]5CC[C@]34C)[C@H]2C1', 'CC(C)(O)CCC(=O)[C@](C)(O)[C@H]1[C@H](O)C(=O)[C@@]2(C)[C@@H]3CC=C4[C@@H](C[C@H](O)[C@@H](O)C4(C)C)[C@]3(C)C(=O)C[C@]12C', 'O=C(CC(C(=O)OC1CCCCC1)(C(=O)OC1CCCCC1)C(=O)OC1CCCCC1)OC1CCCCC1', 'C=CC[C@H](C)OC(=O)c1c(CCC[C@H](OCOC)[C@@H]2OC(C)(C)O[C@@H]2/C=C/CCC)cc(OC)cc1OC', 'CO[C@H]1C[C@](O)(O[C@H]2CC[C@@]3(C)C(CCC4C3CCC3(C)C(C5=CC(=O)OC5)CC[C@]43O)C2)O[C@H](C)[C@H]1O', 'CC(=O)CC[C@@H]1/C(=C\\\\OC23C(O)OC(=O)[C@H](C)[C@@H]2CC[C@@H](C)[C@@H]3CCC(C)=O)[C@H]([C@@H](C)C(=O)O)CC[C@H]1C', 'CC(=O)Oc1ccccc1C(=O)OC(COC(=O)CCCCCCCCC(=O)OC(C)(C)C)CC(C)(C)C', 'CO[C@H]1CCCC[C@@H](c2ccccc2)OC(=O)[C@@H](C)[C@@]2(OC)O[C@H]([C@@H](C)[C@H](O)[C@H]2OC)[C@@H](C)/C=C\\\\[C@H]1OC', 'CC(C)(CCCCC1=CC(O)C=C(CCC2=CC(O)C=C(CCCCC(C)(C)C(=O)O)C2O)C1O)C(=O)O', 'CCC1(C)C(C(=O)O)C2C(C)(O[C@H]3CO[C@H]4[C@@H]3OC[C@@H]4OC3(C)C4C(C(=O)O)C(C)(CC)C43C(C)C)C21C', 'COC(=O)CC(C)C1CCC2C3C(OC(C)=O)CC4CC(OC(C)=O)CCC4(C)C3CC(OC(C)=O)C12C', 'C[C@]12CCC3c4ccc(O)cc4CC(CCCCOCCOCCOCCOCC(=O)O)C3C1CCC2O', 'CO[C@@H]1CC(O[C@H]2CC[C@@]3(C)[C@H](CC[C@@H]4[C@@H]3[C@H](O)C[C@]3(C)[C@@H](C5=CC(=O)OC5)CC[C@]43O)C2)O[C@H](C)[C@@H]1O', 'CC(C)(C)COC(=O)c1cc(C(=O)OCC(C)(C)C)c(C(=O)OCC(C)(C)C)cc1C(=O)OCC(C)(C)C', 'C=C1[C@@H](OC(C)=O)CC[C@@]2(C)C[C@H](OC)C3=C(C)C[C@H](OC(=O)[C@@H](C)[C@@H](C)O)[C@@H]([C@@H](OC(C)=O)[C@H]12)C3(C)C', 'C[C@]1(CO)C[C@H](O)[C@]2(C(=O)O)CC[C@]34C[C@]3(C=C[C@@H]3[C@]5(C)[C@H](CC[C@]34C)[C@@](C)(CO)[C@@H](O)[C@H](O)[C@@H]5O)[C@H]2C1', 'CC[C@H](C)[C@@H](OC(C)=O)[C@@H](C)c1cc(O)c2c(c1O)O[C@]1(C)CC[C@H]3O[C@@H](C(C)(C)O)CC[C@]3(C)[C@H]1[C@@H]2O', 'COC1C[C@@H](O[C@H]2CC[C@]3(C)C4C(O)C[C@]5(C)[C@@H](C6=CC(=O)OC6)CC[C@]5(O)C4CC[C@@H]3C2)OC(C)[C@H]1O', 'CC(=O)O[C@@H]1CC[C@@]2(C)[C@H](C1)C[C@@H](OC(C)=O)[C@@H]1[C@@H]2C[C@H](OC(C)=O)[C@@]2(C)[C@H]1CC[C@H]2[C@H](C)CCC(=O)O', 'CC1CCC2(C(=O)O)CCC3(C)C(=CCC4C5(CO)CC(O)C(O)C(C)(C(=O)O)C5CCC43C)C2C1(C)O', 'CC(C[C@@H](O)C[C@](C)(O)C1CC(=O)[C@@]2(C)C3=C(C(=O)C[C@]12C)[C@@]1(C)CC[C@H](O)C(C)(C)C1C[C@@H]3O)C(=O)O', 'CO[C@@H]1C[C@H](O[C@H]2CC[C@]3(C)C4CC[C@]5(C)[C@@H](C6=CC(=O)OC6)CC[C@]5(O)[C@@H]4CC[C@]3(O)C2)O[C@H](C)[C@@H]1O', 'C[C@H](CC(=O)CC(C)(O)[C@@H]1C[C@H](O)[C@@]2(C)C3=C(C(=O)C[C@]12C)[C@@]1(C)CC[C@H](O)C(C)(C)[C@@H]1C[C@@H]3O)C(=O)O', 'CO[C@@H]1C[C@H](O[C@H]2CC[C@@]3(C)[C@H](CC[C@@H]4[C@@H]3[C@H](O)C[C@]3(C)[C@@H](C5=CC(=O)OC5)CC[C@]43O)C2)O[C@H](C)[C@@H]1O', 'COC1C[C@@H](O[C@H]2CC[C@]3(C)C4CC[C@]5(C)[C@@H](C6=CC(=O)OC6)[C@@H](O)C[C@]5(O)C4CC[C@@H]3C2)OC(C)[C@H]1O', 'CC(CC(O)C[C@](C)(O)C1CC(=O)[C@@]2(C)C3=C(C(=O)C[C@]12C)[C@@]1(C)CCC(O)C(C)(C)C1CC3O)C(=O)O', 'CO[C@@H]1C[C@H](O[C@H]2CC[C@@]3(C)[C@H](CCC(=O)[C@@H]3CC[C@]3(C)[C@@H](C4=CC(=O)OC4)CC[C@@H]3O)C2)O[C@H](C)[C@@H]1O', 'CC1(C)CC[C@]2(C(=O)O)[C@H](O)C[C@]3(C)C(=CC[C@@H]4[C@@]5(C)C[C@H](O)[C@H](O)C(CO)(C(=O)O)C5CC[C@]43C)[C@H]2C1', 'CC(C)(O)CCC(=O)C(C)(O)C1C(O)C(=O)C2(C)C3CC=C4C(CC(O)C(O)C4(C)C)C3(C)C(=O)CC12C', 'CC1(CO)CC(O)[C@]2(C(=O)O)CCC34CC3(C=CC3[C@@]5(C)C[C@@H](O)[C@H](O)C(CO)(CO)C5CC[C@]34C)C2C1', 'CC(C)=CCC/C(C)=C/COC(=O)CCC(=O)OCCOC(=O)CCC(=O)OC/C=C(\\\\C)CCC=C(C)C', 'CCC1=CC(C(C)=CC(C)(O)CCC(OC)C(C)C(O)C(C)C=C2OC(C)=CC2=O)OC(C(C)C(=O)O)C1', 'CC(=O)C1CC[C@H]2C3CC[C@H]4C[C@H](OC(=O)OC(C)OC(=O)CC(C)CC(=O)O)CC[C@]4(C)[C@H]3CCC12C', 'CCC(O)COc1ccc2c(OCC(O)CC)cccc2c1.COC(=O)CCCCCCCCC(=O)OC', 'CC(=O)OCC(=O)[C@@]1(O)CC[C@H]2[C@@H]3C[C@H](C)C4=CC(=O)C=C[C@]4(C)[C@H]3[C@@H](O)C[C@@]21C.CCOC(C)OCC', 'CCCCCCCCCCC(CCCCCCCC)COC(=O)c1cc(C(=O)O)c(C(=O)O)cc1C(=O)O', 'CC(=O)O[C@H]1CC[C@@]2(C)[C@H](C1)C[C@@H](OC(C)=O)[C@H]1[C@H]2C[C@@H](OC(C)=O)[C@]2(C)[C@@H]1CC[C@H]2[C@@H](C)CCC(=O)O', 'CC(C)(O)C(O)CC(=O)C(C)(O)C1[C@H](O)C[C@@]2(C)[C@@H]3CC=C4[C@@H](CC(=O)[C@@H](O)C4(C)C)[C@]3(C)C(=O)C[C@]12C', 'CO[C@H]1[C@H](O[C@H]2CC[C@@]3(C)[C@@H](CC[C@@H]4[C@H]3CC[C@]3(C)[C@H](C5=CC(=O)OC5)CC[C@]43O)C2)O[C@@H](C)[C@H](O)[C@H]1O', 'CCCCCCC(=O)Oc1c(O)c(O)c(C(=O)CCCCCC)c(C(=O)OCC)c1C(=O)CCCCCC', 'COC1CC(OC2CC[C@]3(C)[C@@H]4CC[C@]5(C)C(C6=CC(=O)OC6)CC[C@]5(O)[C@@H]4CC[C@]3(O)C2)OC(C)C1O', 'CCCCCCCC(=O)OCCC1C[C@H](OCOC)[C@H](C)C/C=C/Cc2cccc(OCOC)c2C(=O)O1', 'CC(C)CCCCCCCOC(=O)c1cc(C(=O)OCCCCCCCC(C)C)c(C(=O)O)cc1C(=O)O', 'C/C=C(/C)C(=O)OCC1=C[C@@H]2C(O)[C@]3(C=C(C)[C@H](O)[C@@]3(O)[C@@H]1O)[C@H](C)C[C@@](OC(=O)CCC)(C(C)C)[C@H]2C', 'C[C@@H](C[C@H](O)C[C@@](C)(O)[C@@H]1CC(=O)[C@]2(C)C3=C(C(=O)C[C@@]12C)[C@]1(C)CC[C@@H](O)C(C)(C)[C@H]1C[C@H]3O)C(=O)O', 'CO[C@H]1[C@H](O)[C@H](O[C@H]2CC[C@@]3(C)[C@@H](CC[C@@H]4[C@@H]3CC[C@]3(C)[C@H](C5=CCOC5=O)CC[C@]43O)C2)O[C@@H](C)[C@@H]1O', 'CCCCCCCC(=O)OCC[C@@H]1C[C@H](OCOC)[C@H](C)CC=CCc2cccc(OCOC)c2C(=O)O1', 'CCC(/C=C(/C)[C@@H]1CC(=O)C[C@H](O)C(C)(C)c2cccc(c2)C[C@@H](OCOC)[C@H](OCOC)C(=O)O1)CC', 'CC1(CO)CC(O)[C@@]2(C(=O)O)CCC34CC3(C=CC3[C@@]5(C)C(CC[C@@]34C)C(C)(CO)[C@H](O)[C@@H](O)[C@H]5O)C2C1', 'CC.CC.CC.CC.COc1ccc(C(=O)O[C@H]2CO[C@@H]3[C@H]2OC[C@@H]3OC(=O)c2ccc(OC)cc2)cc1', 'CC(C)(O)C(O)CC(=O)[C@](C)(O)[C@H]1[C@H](O)C[C@@]2(C)[C@@H]3CC=C4[C@@H](CC(=O)C(O)C4(C)C)[C@]3(C)C(=O)C[C@]12C', 'Cc1cc(-c2cc(C)c(OCCOCCOCC(C)O)c(C)c2)cc(C)c1OCCOCCOCC(C)O', 'CCCCCC(=O)O[C@@H]1[C@@H]2C=C(COC(=O)C(C)(C)C)[C@@H](O)[C@]3(O)[C@@H](O)C(C)=C[C@@]3(C2=O)[C@H](C)CC1(C)C', 'CO[C@@H]1C[C@H](O[C@H]2CC[C@]3(C)[C@H]4CC[C@]5(C)[C@@H](C6=CC(=O)OC6)CC[C@]5(O)[C@@H]4CC[C@]3(O)C2)O[C@H](C)[C@H]1O', 'CC(=O)OC1CC[C@@]2(C)[C@@H](C1)CC(OC(C)=O)[C@@H]1[C@@H]2CC(OC(C)=O)[C@]2(C)[C@@H]([C@H](C)CCC(=O)O)CC[C@@H]12', 'CO[C@@H]1C[C@H](O[C@H]2CC[C@]3(C)[C@@H]4CC[C@]5(C)[C@@H](C6=CC(=O)OC6)CC[C@]5(O)[C@@H]4CC[C@]3(O)C2)O[C@@H](C)[C@@H]1O', 'C[C@@]1(CO)C[C@@H]2[C@@](C(=O)O)(CC[C@]34C[C@]23C=C[C@@H]2[C@]3(C)[C@H](CC[C@]24C)[C@](C)(CO)[C@@H](O)[C@H](O)[C@@H]3O)[C@@H](O)C1', 'CO[C@H]1[C@@H](O)[C@@H](C)O[C@@H](O[C@H]2CC[C@@]3(C)[C@H](CC[C@@H]4[C@@H]3CC[C@]3(C)[C@@H]([C@@H]5C=CC(=O)O5)CC[C@]43O)C2)[C@@H]1O', 'CC(CC(=O)CC(C)(O)[C@H]1C[C@H](O)[C@@]2(C)C3=C(C(=O)C[C@]12C)[C@@]1(C)CC[C@H](O)C(C)(C)[C@@H]1C[C@@H]3O)C(=O)O', 'CC(=O)C1C(O)CC2CC(O)C3C4CCC(C(C)CCC(=O)O)C4(C)C(O)CC3C2(C)C1(C(C)=O)C(C)=O', 'CCCCCCCC(=O)O[C@@]12C[C@@H](C)[C@]34C=C(C)[C@H](O)[C@@]3(O)[C@H](O)C(COC(C)=O)=C[C@H](C4O)[C@@H]1C2(C)C', 'CC(=O)OC1C[C@@H]2C[C@H](OC(C)=O)CC[C@]2(C)C2C[C@H](OC(C)=O)[C@@]3(C)C(CCC3[C@H](C)CCC(=O)O)C12', 'COC(=O)CC[C@@H](C)[C@H]1CC[C@H]2[C@@H]3C(=O)C[C@H]4CC5(CC[C@]4(C)[C@H]3CC(=O)[C@]12C)OCC(CO)(CO)CO5', 'CO[C@H]1CCCC[C@@H](c2ccc(C)cc2)OC(=O)[C@@H](C)[C@@]2(O)O[C@H]([C@@H](C)[C@H](O)[C@H]2OC)[C@@H](C)/C=C\\\\[C@H]1OC', 'CC(=O)OC1C2C(C)(CCC3C(C)(O)C(C)=CC(OC(C)=O)C32C)C2C(C)OCC2(C(C)C)C1OC(C)=O', 'CC(C)OC(=O)CCC/C=C/C[C@@H]1[C@@H](CC[C@@H](O)CCc2ccccc2)[C@H](OC(=O)C(CO)CO)C[C@H]1O', 'C[C@]1(OC2O[C@H](CO)[C@@H](O)[C@H](O)[C@H]2O)CC[C@@]2(C)[C@H](CC[C@@H]3[C@@H]2CC[C@]2(C)[C@@H](C4=CC(=O)OC4)CC[C@@H]32)C1', 'CC(=O)OC1CC2C[C@H](OC(C)=O)CC[C@]2(C)C2C[C@H](OC(C)=O)[C@]3(C)[C@@H]([C@H](C)CCC(=O)O)CC[C@H]3C12', 'CC(=O)OC1CC[C@@]2(C)C(C1)CC(OC(C)=O)[C@H]1[C@@H]3CC[C@H]([C@H](C)CCC(=O)O)[C@@]3(C)C(OC(C)=O)C[C@@H]12', 'CO[C@H]1C[C@H](O[C@H]2CC[C@]3(C)C4C(O)C[C@]5(C)[C@@H](C6=CC(=O)OC6)CC[C@]5(O)[C@@H]4CC[C@@H]3C2)O[C@H](C)[C@@H]1O', 'CO[C@H]1C[C@H](O[C@H]2CC[C@]3(C)C4C(O)C[C@]5(C)[C@@H](C6=CC(=O)OC6)CC[C@]5(O)[C@@H]4CC[C@@H]3C2)O[C@@H](C)[C@@H]1O', 'Cc1cc(CCC(=O)O)cc(C(C)(C)C)c1O.Cc1cc(CCC(=O)O)cc(C(C)(C)C)c1O.OCCO', 'C[C@]1(CO)C[C@H](O)[C@]2(C(=O)O)CC[C@]34C[C@]3(C=C[C@@H]3[C@@]5(C)[C@@H](O)[C@@H](O)[C@H](O)[C@@](C)(CO)[C@@H]5CC[C@]34C)[C@H]2C1', 'CC(=O)OC1CC[C@@]2(C)[C@@H](C1)CC(OC(C)=O)[C@@H]1[C@@H]2CC(OC(C)=O)[C@]2(C)[C@@H](C(C)CCC(=O)O)CC[C@@H]12', 'CO[C@@H]1[C@@H](O)[C@H](O)[C@@H](O[C@H]2CC[C@@]3(C)[C@@H](CC[C@@H]4[C@H]3CC[C@]3(C)[C@@H](C5=CC(=O)OC5)CC[C@]43O)C2)O[C@H]1C', 'CC1(C)CCC2(C(=O)O)C(O)CC3(C)C(=CCC4C5(C)CC(O)C(O)C(CO)(C(=O)O)C5CCC43C)C2C1', 'CC(=O)C1[C@@H](O)C[C@H]2C[C@@H](O)[C@H]3[C@@H]4CC[C@H]([C@H](C)CCC(=O)O)[C@@]4(C)[C@@H](O)C[C@@H]3[C@@]2(C)C1(C(C)=O)C(C)=O', 'C=CCc1ccc(OCCOCCOCCOCCOCCOCCOCCOC2=CC=C(C)CC2)cc1', 'C/C=C(/C)C(=O)OC1C(C)=C2C(OC(C)=O)C(C)CCC(C)(OC(C)=O)C2C1OC(=O)CCCCCCC', 'COC1C(O)C(C)OC(OC2CCC3(C)C(CCC4C3CCC3(C)C5CCC43OC3OC(=O)CC35)C2)C1O', 'CC1(C)C(=O)[C@@H](O)C[C@@H]2C1=CC[C@@H]1[C@@]2(C)C(=O)C[C@]2(C)[C@@H]([C@@](C)(O)C(=O)CC(O)C(C)(C)O)[C@H](O)C[C@@]12C', 'CCCCCCCCCCOC(=O)c1ccc(C(=O)O)c(C(=O)O)c1C(=O)OCCCCCCCCCC', 'CO[C@@H]1C[C@H](O[C@H]2CC[C@@]3(C)[C@@H](CC[C@@H]4[C@@H]3CC[C@]3(C)[C@@H](C5=CC(=O)OC5)C[C@H](O)[C@]43O)C2)O[C@H](C)[C@@H]1O', 'CCC(=O)C(C)CC(=O)CC(C)C=CC=C(C)C1OC(=O)CC(O)CCC(C)(O)C(OC(C)=O)C=CC1C', 'COC1C(OC2CCC3(C)C(CCC4C3CCC3(C)C(C5=CC(=O)OC5)CCC43O)C2)OC(C)C(O)C1O', 'CCCc1ccc(OCCOCCOCCOCCOCCOCCOCCOc2ccc(C)cc2)cc1', 'CO[C@@H]1[C@H](O)[C@H](O[C@@H]2CC[C@@]3(C)[C@H](CC[C@@H]4[C@@H]3CC[C@]3(C)[C@@H]5CC[C@@]43O[C@H]3OC(=O)C[C@H]35)C2)O[C@H](C)[C@H]1O', 'CC.CC.COC[C@H]1OC(Oc2cccc(OC)c2C(=O)CCc2ccccc2)C(OC)C(OC)C1OC', 'C[C@@H]1CC[C@]2(C(=O)O)CC[C@]3(C)C(=CC[C@@H]4[C@@]5(CO)C[C@@H](O)[C@@H](O)[C@@](C)(C(=O)O)[C@@H]5CC[C@]43C)[C@@H]2[C@]1(C)O', 'C[C@]1(CO)C[C@H](O)[C@]2(C(=O)O)CC[C@]34C[C@]3(C=C[C@H]3[C@]5(C)[C@H](CC[C@]34C)[C@](C)(CO)[C@@H](O)[C@H](O)[C@@H]5O)[C@H]2C1', 'CC(=O)O[C@H]1CC[C@@]2(C)[C@H](C1)C[C@@H](OC(C)=O)[C@H]1[C@H]2C[C@@H](OC(C)=O)[C@@]2(C)[C@@H]1CC[C@H]2[C@@H](C)CCC(=O)O', 'C[C@@H]1CC[C@]2(C(=O)O)CC[C@]3(C)C(=CC[C@@H]4[C@@]5(C)C[C@@H](O)[C@H](O)[C@@](CO)(C(=O)O)[C@H]5CC[C@]43C)[C@@H]2[C@]1(C)O', 'CC(C)OC(=O)CCC/C=C/C[C@@H]1[C@@H](CCC(CCc2ccccc2)OC(=O)C(CO)CO)[C@H](O)C[C@@H]1O', 'CC1(C)C[C@H]2C3=CC[C@@H]4[C@@]5(C)C[C@H](O)[C@H](O)[C@](C)(C(=O)O)[C@@H]5CC[C@@]4(C)[C@]3(C)C[C@H](O)[C@@]2(C(=O)O)C[C@@H]1O', 'CCCCC(Cc1ccc(CC(CCCC)(C(=O)OCC)C(=O)OCC)cc1)(C(=O)OCC)C(=O)OCC', 'COC1CC(O[C@H]2CC[C@]3(C)C4CC[C@]5(C)[C@@H](C6=CC(=O)OC6)CC[C@]5(O)[C@@H]4CC[C@]3(O)C2)OC(C)C1O', 'CO[C@@H]1[C@H](O)[C@H](O[C@@H]2CC[C@@]3(C)[C@H](CC[C@@H]4[C@@H]3CC[C@]3(C)[C@@H]5CC[C@@]43O[C@H]3OC(=O)C[C@H]35)C2)O[C@@H](C)[C@H]1O', 'CC(C)(O)CCC(=O)[C@](C)(O)[C@H]1[C@H](O)C[C@@]2(C)[C@@H]3CC=C4[C@@H](C[C@H](O)C(=O)C4(C)C)[C@]3(CO)C(=O)C[C@]12C', 'CO[C@@H]1C[C@H](O[C@H]2CC[C@]3(C)[C@@H]4CC[C@]5(C)[C@@H](C6=CC(=O)OC6)CC[C@]5(O)[C@@H]4CC[C@]3(O)C2)O[C@H](C)[C@@H]1O', 'CC1OC(CO[C@@H]2CC[C@]3(C)C(CCC4C3C[C@H](O)[C@@]3(C)C(C5=CC(=O)OC5)CC[C@@]43O)C2)CC(O)C1O', 'O=C1CCCCCCCCCCCCCCCCCCC(=O)OC(COC(=O)Oc2ccc(O)cc2)CO1', 'CC(C)(O)CCC(=O)C(C)(O)C1C(O)CC2(C)C3C(=O)C=C4C(CC(O)C(O)C4(C)C)C3(C)C(=O)CC12C', 'CC.CC/C(C)=C(/C=C/C(C)=C/C=C/C1=C/COC(=O)CO/C(C(OC)C(O)CO)=C(/C=O)O1)C(C)(C)C', 'CC(=O)O[C@H]1CC[C@@]2(C)[C@H](C1)C[C@@H](OC(C)=O)[C@H]1[C@H]2C[C@@H](OC(C)=O)[C@@]2(C)[C@@H]1CC[C@H]2[C@H](C)CCC(=O)O', 'C[C@@H]1O[C@@H](O[C@@]2(C)CC[C@@]3(C)[C@H](CC[C@@H]4[C@@H]3CC[C@]3(C)[C@@H](C5=CC(=O)OC5)CC[C@]43O)C2)[C@H](O)[C@H](O)[C@H]1O', 'CC(=O)O[C@H]1C[C@H](O)CC2=CC[C@H]3[C@@H]4CC[C@H]([C@@](C)(O)[C@H](O)C[C@@H]5COC(=O)[C@@]5(C)O)[C@@]4(C)CC[C@@H]3[C@]21C', 'C=C(CO)C(=O)OCC(COC(=O)C(C)(C)CO)C1OCC(CCc2ccc(CCCC(C)C)cc2)CO1', 'COC1C(O)C(C)OC(OC2CC[C@@]3(C)C(CCC4C3CC[C@]3(C)C(C5C=CC(=O)O5)CC[C@]43O)C2)C1O', 'CCC[C@@H](OC)Oc1cc2cccc(O[C@@H](CCC)OC)c2c(OC(=O)C(C)(C)C)c1O[C@@H](CCC)OC', 'CO[C@@H]1C[C@H](O[C@H]2CC[C@@]3(C)[C@H](CC[C@]4(O)[C@@H]3CC[C@]3(C)[C@@H](C5=CC(=O)OC5)CC[C@@]34O)C2)O[C@H](C)[C@@H]1O', 'CCCCC(CC)C(=O)OCC(C)(C)C(=O)OCC(C)(C)C(=O)OCC(C)(C)COC(=O)c1ccccc1', 'CC(C)(O)C(O)CC(=O)C(C)(O)C1C(O)CC2(C)C3CC=C4C(CC(=O)C(O)C4(C)C)C3(C)C(=O)CC12C', 'CC(=O)O[C@H]1CC[C@@]2(C)[C@H](C1)C[C@@H](OC(C)=O)[C@@H]1[C@@H]2C[C@@H](OC(C)=O)[C@]2(C)[C@@H]([C@@H](C)CCC(=O)O)CC[C@@H]12', 'CO[C@@H]1[C@H](O)[C@H](O[C@@H]2CC[C@@]3(C)[C@H](CC[C@@H]4[C@@H]3CC[C@]3(C)[C@@H]5CC[C@@]43O[C@H]3OC(=O)C[C@H]35)C2)O[C@H](C)[C@@H]1O', 'O=C(OC1CCCCC1)C(C(=O)OC1CCCCC1)C(C(=O)OC1CCCCC1)C(=O)OC1CCCCC1', 'CC(C)OC(=O)C=CCCCC[C@@H]1[C@@H](CC[C@@H](O)CCc2ccccc2)[C@H](OC(=O)CC(O)CO)C[C@@H]1O', 'CC1(C)C(=O)C(O)CC2C1=CCC1C2(C)C(=O)CC2(C)C(C(C)(O)C(=O)CC(O)C(C)(C)O)C(O)CC12C', 'CC1(C)CC[C@]2(C(=O)O)CC[C@]3(C)C(=CCC4[C@@]5(C)C[C@@H](O)[C@H](O)[C@@](CO)(C(=O)O)C5CC[C@]43C)[C@@H]2[C@@H]1O', 'C=C(C)C12CC(C)C3(OCCCCCCCCC)C(C1OCO2)C1OC1(CO)C(O)C1(O)C(=O)C(C)=CC13', 'C=C1CC[C@H](C#CCC(C)CCCOC)[C@H]1C[C@@H]1OC1CCC(OC1CCCO1)(OC1CCCO1)C(=O)O', 'COC(=O)CCC(=O)OC/C=C(\\\\C)CC[C@@]1(C)[C@H](C)CC[C@@]2(COC(=O)CCC(=O)OC)C(C)=CCC[C@@H]21', 'CCCCC(=O)OC1COC(CC(O)CCc2ccccc2)C(OC(=O)CCCC)[C@H]1OC(=O)CCCC', 'CCC(=O)C(C)C1OC1CC(C)/C=C/C=C(\\\\C)C1OC(=O)CC(O)CCC(C)(O)C(OC(C)=O)/C=C\\\\C1C', 'CC[C@H](C)[C@@H](OC(C)=O)[C@H](C)c1cc(O)c2c(c1O)O[C@]1(C)CC[C@H]3O[C@@H](C(C)(C)O)CC[C@]3(C)[C@H]1[C@@H]2O', 'CCCCC(CC)COC(=O)C(C)OC(=O)c1ccccc1C(=O)OC(C)C(=O)OCC(CC)CCCC', 'COC1C[C@H](O[C@H]2CC[C@]3(C)C4CC[C@]5(C)[C@@H](C6=CC(=O)OC6)[C@@H](O)C[C@]5(O)C4CC[C@@H]3C2)OC(C)[C@H]1O', 'CC1(C(=O)O)C2CC[C@]3(C)[C@H](CC=C4[C@H]5[C@](C(=O)O)(CC[C@@H](CO)[C@@]5(C)O)CC[C@]43C)[C@@]2(C)C[C@@H](O)[C@@H]1O', 'CO[C@H]1[C@@H](O)[C@H](O[C@H]2CC[C@@]3(C)[C@@H](CC[C@H]4[C@H]3CC[C@]3(C)[C@H]5CC[C@]43O[C@H]3OC(=O)C[C@@H]35)C2)O[C@@H](C)[C@H]1O', 'C[C@H]1O[C@@H](OC[C@H]2CC[C@]3(C)[C@H]4CC[C@]5(C)[C@H](C6=CC(=O)OC6)CC[C@]5(O)[C@@H]4CC[C@]3(O)C2)C[C@H](O)[C@@H]1O', 'CC(C)(CCCC(=O)OCC1CCCO1)c1cc(O)c(C(C)(C)CCCC(=O)OCC2CCCO2)cc1O', 'C=CCC(CC/C=C(C)/C(C)=C/CCC(CC=C)(C(=O)OCC)C(=O)OCC)(C(=O)OCC)C(=O)OCC', 'CC1(C)C(=O)[C@H](O)C[C@H]2C1=CC[C@H]1[C@]2(C)C(=O)C[C@]2(C)[C@H]([C@](C)(O)C(=O)C[C@@H](O)C(C)(C)O)[C@H](O)C[C@]12C', 'C=C(C)C(=O)OCCCCCCCCCCOC(=O)C(=C)C.C=CC(=O)OC1CCC(OC(=O)C=C)CC1', 'CCC1OC(COC(C)=O)C(OC2OC(C(=O)OC)C(C)C(OCc3ccccc3)C2C(C)C)CCC1C', 'CC1CCCC(OC2CCC3(C=O)C4CCC5(C)C(C6=CC(=O)OC6)CCC5(O)C4CCC3(O)C2)O1.CO', 'C=C1C[C@H](O)[C@@H](CC[C@H]2CC[C@]3(OC2)O[C@@]2(O)CC[C@]3(C)OC2(C)C)C(C)(C)[C@H]1C/C=C1\\\\C(=O)OC[C@@H]1O', 'COC1CC(OC2CCC3(C)C4CCC5(C)C(C6=CC(=O)OC6)CCC5(O)C4CCC3(O)C2)OC(C)C1O', 'CCC1=C[C@@H](/C(C)=C/C(C)(O)CCC(OC)C(C)C(O)C(C)/C=C2\\\\OC(C)=CC2=O)O[C@@H](C(C)C(=O)O)C1', 'COC1CC(O)(OC2CCC3(C)C(CCC4C3CCC3(C)C(C5=CC(=O)OC5)CCC43O)C2)OC(C)C1O', 'CO[C@H]1C[C@H](O[C@H]2CC[C@]3(C)C4CC[C@]5(C)[C@@H](C6=CC(=O)OC6)CC[C@]5(O)C4CC[C@]3(O)C2)O[C@H](C)[C@H]1O', 'CC(CC(=O)C[C@@H](C)[C@H]1C[C@H](O)[C@@]2(C)C3=C(C(=O)C[C@]12C)[C@@]1(C)CC[C@H](O)[C@@](C)(CO)[C@@H]1C[C@@H]3O)C(=O)O', 'CO[C@H]1[C@@H](O)[C@@H](C)O[C@@H](O[C@H]2CC[C@@]3(C)[C@H](CC[C@@H]4[C@@H]3CC[C@]3(C)[C@@H](C5=COC(=O)C5)CC[C@]43O)C2)[C@@H]1O', 'C.CCC(C)OCc1ccc2c(c1)C(=O)c1ccccc1C2=O.CCC(O)CC(O)CC(O)CC(C)O.O', 'CC1(C)CC[C@]2(C(=O)O)CC[C@]3(C)C(=CC[C@@H]4[C@@]5(C)CC[C@H](O)C(CO)(C(=O)O)C5(O)CC[C@]43C)[C@H]2[C@@H]1O', 'CC(C)(C)OC(Cc1ccccc1)C(=O)C(C)(C)C(C)(C)OCC(=O)OC(CCC(=O)O)C(=O)C(C)(C)C', 'CC1(C)CC[C@]2(C(=O)O)CC[C@]3(C)C(=CC[C@@H]4[C@@]5(C)C[C@@H](O)[C@H](O)[C@](CO)(C(=O)O)[C@@H]5CC[C@]43C)[C@@H]2[C@@H]1O', 'C[C@H](CC(=O)C[C@](C)(O)[C@@H]1C[C@H](O)[C@@]2(C)C3=C(C(=O)C[C@]12C)[C@@]1(C)CC[C@H](O)C(C)(C)[C@@H]1C[C@@H]3O)C(=O)O', 'C=CC(C)(O)CCC1C(C)=CC(OC2OCC(O)C(OC(=O)C(C)=CC)C2O)C2C(C)(C=O)CCCC12C', 'CC(C)OC(=O)CCC/C=C/C[C@@H]1[C@@H](CCC(O)CCc2ccccc2)[C@H](OC(=O)C(CO)CO)C[C@@H]1O', 'C=C(C=O)CO.C=C(CO)C(=O)OCCOc1cc(OCCOC)cc(C2CCC(CCCCC)CC2)c1', 'CO[C@@H]1CC(O[C@H]2CC[C@]3(C)[C@H]4CC[C@]5(C)[C@@H](C6=CC(=O)OC6)CC[C@]5(O)[C@@H]4CC[C@]3(O)C2)O[C@H](C)[C@@H]1O', 'COCCOCCOCCOCCOCCOCCOCCOc1ccc(-c2cc(C)ccc2C)cc1C', 'C=C(C=O)CO.C=C(CO)C(=O)OCC(CO)C1CCC(C=O)CC1.CCCCCc1ccc(OC)cc1', 'CCCCC/C=C\\\\C/C=C\\\\CCCCCCCC(=O)Oc1ccc(O[C@@H](C=O)[C@@H](O)[C@H](O)[C@H](O)CO)cc1', 'CCCCC/C=C\\\\C/C=C\\\\CCCCCCCC(=O)Oc1ccc([C@@]2(O)O[C@H](CO)[C@@H](O)[C@H](O)[C@H]2O)cc1', 'CC(=O)O[C@@H]1CC[C@@]2(C)[C@@H](C1)C[C@@H](OC(C)=O)[C@@H]1[C@@H]2C[C@H](OC(C)=O)[C@]2(C)[C@@H]([C@@H](C)CCC(=O)O)CC[C@@H]12', 'CC(=O)[C@H]1CC[C@H]2[C@@H]3CC[C@H]4C[C@H](OC(=O)OC(C)OC(=O)CC(C)CC(=O)O)CC[C@]4(C)[C@H]3CC[C@]12C', 'CCC(=O)[C@H](C)[C@H]1O[C@H]1C[C@@H](C)/C=C/C=C(\\\\C)[C@H]1OC(=O)C[C@@H](O)CC[C@@](C)(O)[C@@H](OC(C)=O)/C=C/[C@@H]1C', 'C=C1CC[C@@H](CC[C@@H]2CC[C@]3(OC2)O[C@@]2(O)CC[C@]3(C)OC2(C)C)C(C)(C)[C@H]1[C@H](O)/C=C1/C(=O)OC[C@@H]1O', 'C/C=C(\\\\C)C(=O)O[C@H](C(C)C1C(C)[C@@H]2C[C@]2(CO)[C@@H](O)[C@]2(O)C(=O)C(C)=C[C@@H]12)C(C)(C)OC(=O)C(C)CC', 'CO[C@@H]1C[C@H](O[C@H]2CC[C@@]3(C)[C@H](CCC(=O)[C@@H]3CC[C@]3(C)[C@@H](C4=COC(=O)C4)CC[C@@H]3O)C2)O[C@H](C)[C@@H]1O', 'C[C@@H]1O[C@@](C)(O[C@H]2CC[C@@]3(C)[C@H](CC[C@@H]4[C@@H]3CC[C@]3(C)[C@@H](C5=CC(=O)OC5)CC[C@]43O)C2)[C@H](O)[C@H](O)[C@H]1O', 'CC(=O)OC1CC[C@@]2(C)C(CC[C@H]3[C@@H]4CC[C@H]([C@H](C)CCC(=O)O)[C@@]4(C)CC(OC(C)=O)[C@@]32OC(C)=O)C1', 'CC1(C)CC[C@]2(C(=O)O)[C@H](O)C[C@]3(C)C(=CC[C@H]4[C@@]5(C)C[C@H](O)[C@H](O)[C@](CO)(C(=O)O)[C@H]5CC[C@]43C)[C@@H]2C1', 'CC(=O)O[C@@H]1CC[C@@]2(C)[C@@H](C1)C[C@@H](OC(C)=O)[C@@H]1[C@@H]2C[C@H](OC(C)=O)[C@]2(C)[C@@H]([C@H](C)CCC(=O)O)CC[C@@H]12', 'CCOC(=O)/C(CC=O)=C1/C[C@@H](C)O[C@H](C2CC2)C1.CCOC(=O)[C@@H](CC=O)[C@H]1C[C@@H](C)O[C@H](C2CC2)C1', 'CO[C@H]1C[C@H](O[C@H]2CC[C@@]3(C)[C@H](CC[C@@H]4[C@@H]3[C@H](O)C[C@]3(C)[C@@H](C5=CC(=O)OC5)CC[C@]43O)C2)O[C@H](C)[C@@H]1O', 'CC(CC(O)CC(C)(O)[C@H]1CC(=O)[C@@]2(C)C3=C(C(=O)C[C@]12C)[C@@]1(C)CC[C@H](O)C(C)(C)[C@@H]1C[C@@H]3O)C(=O)O', 'CO[C@H]1C[C@H](O[C@H]2CC[C@]3(C)[C@H]4CC[C@]5(C)[C@@H](C6=CC(=O)OC6)CC[C@]5(O)[C@@H]4CC[C@]3(O)C2)O[C@H](C)[C@H]1O', 'CC(=O)O[C@@H]1CC[C@@]2(C)[C@H](C1)C[C@@H](OC(C)=O)[C@@H]1[C@@H]2C[C@H](OC(C)=O)[C@@]2(C)[C@H]1CC[C@H]2[C@@H](C)CCC(=O)O', 'CC(=O)O[C@H]1CC[C@@]2(C)[C@H](C1)C[C@@H](OC(C)=O)[C@H]1[C@H]2C[C@@H](OC(C)=O)[C@]2(C)[C@@H]1CC[C@H]2[C@H](C)CCC(=O)O', 'CCC(C)(CC(C)(CC(C)(C)C(=O)OC1COC(=O)C1)C(=O)OC)C(=O)OC1(C)C2CC3CC(C2)CC1C3', 'CC1OC(OC2CCC3(C)C(CCC4C3C(O)CC3(C)C(C5=CC(=O)CC5)CCC43O)C2)C(O)C(O)C1O', 'COC1CC(OC2CC[C@]3(C)[C@H]4CC[C@]5(C)[C@@H](C6=CC(=O)OC6)CC[C@]5(O)[C@@H]4CCC3(O)C2)OC(C)C1O', 'CO[C@@H]1C[C@@H](O[C@H]2CC[C@@]3(C)[C@H](CC[C@]4(O)[C@@H]3CC[C@]3(C)[C@@H](C5=CCOC5=O)CC[C@@]34O)C2)O[C@H](C)[C@@H]1O', 'CC.CC.CC.CC.COc1ccc(C(=O)O[C@H]2CO[C@H]3[C@@H]2OC[C@H]3OC(=O)c2ccc(OC)cc2)cc1', 'CCOC(=O)C1(C(=O)OCC)CCCC1/C=C/C(C)C(C)/C=C/C1CCCC1(C(=O)OCC)C(=O)OCC', 'CC(=O)O[C@@H]1CC[C@@]2(C)[C@H](C1)C[C@@H](OC(C)=O)[C@@H]1[C@@H]2C[C@H](OC(C)=O)[C@]2(C)[C@@H]([C@@H](C)CCC(=O)O)CC[C@@H]12', 'CO[C@H]1C[C@@H](O[C@H]2CC[C@]3(CO)C4CC[C@]5(C)[C@@H](C6=CC(=O)OC6)CC[C@]5(O)C4CC[C@@H]3C2)O[C@@H](C)[C@@H]1O', 'COC1CC(OC2CCC3(C)C(CCC4C3C(O)CC3(C)C(C5=CC(=O)OC5)CCC43O)C2)OC(C)C1O', 'CCCCCCCCCCCCCCCCC=COCC(O)COC(=O)c1ccc(C(=O)O)cc1C(=O)O', 'CO[C@H]1CC(O[C@H]2CC[C@@]3(C)[C@H](CC[C@@H]4[C@@H]3CC[C@]3(C)[C@@H](C5=CC(=O)OC5)[C@@H](O)C[C@]43O)C2)O[C@H](C)[C@H]1O', 'COC1C[C@H](O[C@@H]2CC[C@]3(C)C4C(O)C[C@]5(C)[C@@H](C6=CC(=O)OC6)CC[C@]5(O)C4CC[C@@H]3C2)OC(C)[C@H]1O', 'CC(C)(C)OC(=O)CCC(CCC(=O)OC(C)(C)C)(CCC(=O)OC(C)(C)C)C(=O)OCc1ccccc1', 'CC.CC.CC.CC.COc1ccc(C(=O)O[C@H]2CO[C@@H]3[C@H]2OC[C@H]3OC(=O)c2ccc(OC)cc2)cc1', 'CC(C)CCCCCCCc1c(C(=O)O)c(C(=O)O)c(CCCCCCCC(C)C)c(C(=O)O)c1C(=O)O', 'CCCCCOC(=O)c1cc(O)c(OC(=O)CCCCC)c(OC(=O)CCCCC)c1C(=O)CCCCC', 'CO[C@H]1CC(O[C@H]2CC[C@@]3(C)[C@H](CC[C@@H]4[C@@H]3[C@H](O)C[C@]3(C)[C@@H](C5=CC(=O)OC5)CC[C@]43O)C2)O[C@@H](C)[C@@H]1O', 'CC(CC(=O)C[C@](C)(O)[C@H]1CC(=O)[C@@]2(C)[C@@H]3C(O)C[C@H]4C(C)(C)C(O)CC[C@]4(C)[C@H]3C(=O)C[C@]12C)C(=O)O', 'CC1(C)C[C@H]2C3=CC[C@@H]4[C@@]5(C)C[C@H](O)[C@H](O)[C@](C)(C(=O)O)[C@H]5CC[C@@]4(C)[C@]3(C)C[C@H](O)[C@@]2(C(=O)O)C[C@@H]1O', 'CCC(CC1CO1)OCCC(C)(C)c1c(C(=O)O)ccc(C(=O)O)c1C(C)(C)CCOC(CC)CC1CO1', 'CC(C)C(OC(=O)CCCCC(=O)OC(C)(C)C)C(C)(C)COC(=O)c1cccc(C(=O)OC(C)(C)C)c1', 'CCC(O)C(C)C1OC1CC(C)C=CC=C(C)C1OC(=O)CC(O)C=CC(C)(O)C(OC(C)=O)C=CC1C', 'CCCOCC(CCCC(CCCc1ccc(C(=O)OCC)cc1)(C(C)=O)C(=O)OC(C)(C)C)OC(C)=O', 'CC(C)(O)CCC(=O)C(C)(O)C1C(O)CC2(C)C3CC=C4C(CC(O)C(=O)C4(C)C)C3(CO)C(=O)CC12C', 'CC(C)C[C@@H](OCC(=O)c1cccc(C(=O)CO[C@H](CC(C)C)C(=O)OC(C)(C)C)c1)C(=O)OC(C)(C)C', 'CCC(C)C(OC(C)=O)C(C)c1cc(O)c2c(c1O)OC1(C)CCC3OC(C(C)(C)O)CCC3(C)C1C2O', 'O=C1CCCCCCCCCCCCCCCCCCC(=O)OC(COC(=O)Oc2ccccc2O)CO1', 'CC1(CO)CC(O)[C@]2(C(=O)O)CCC34CC3(C=CC3[C@]5(C)C(CC[C@]34C)C(C)(CO)[C@@H](O)[C@H](O)[C@@H]5O)C2C1', 'CC(=O)OC12COC1CC(O)C1(C)C(=O)[C@H](C)C3=C(C)C(OC(=O)C(C)C(C)C)CC(O)(C(C)C21)C3(C)C', 'CC(CC(O)C[C@](C)(O)[C@H]1CC(=O)[C@@]2(C)C3=C(C(=O)C[C@]12C)[C@@]1(C)CC[C@H](O)C(C)(C)[C@@H]1C[C@@H]3O)C(=O)O', 'COC(=O)CCC(=O)OCC=C(C)CCC1(C)C(C)CCC2(COC(=O)CCC(=O)OC)C(C)=CCCC21', 'COC1C[C@H](O[C@@H]2CC[C@]3(C)C4CC[C@]5(C)[C@@H](C6=CC(=O)OC6)CC[C@]5(O)C4CC[C@]3(O)C2)OC(C)[C@H]1O', 'CO[C@H]1C[C@H](O[C@H]2CC[C@@]3(C)[C@H](CC[C@@H]4[C@@H]3CC[C@]3(C)[C@@H](C5=CC(=O)OC5)[C@@H](O)C[C@]43O)C2)O[C@@H](C)[C@@H]1O', 'CC(=O)OC1CC(O)CC2=CCC3C4CCC(C(C)(O)C(O)CC5COC(=O)C5(C)O)C4(C)CCC3C21C', 'CC(C)OC(=O)CCC/C=C/C[C@@H]1[C@@H](CC[C@@H](O)CCc2ccccc2)[C@H](OC(=O)C(CO)CO)C[C@@H]1O', 'CO[C@H]1C[C@H](O[C@H]2CC[C@@]3(C)[C@H](CC[C@@H]4[C@@H]3[C@H](O)C[C@]3(C)[C@H](C5=CC(=O)OC5)CC[C@]43O)C2)O[C@@H](C)[C@H]1O', 'C=C(C(CC1OC1(C)C)OC/C(C)=C\\\\C)[C@H]1C[C@H](OC(=O)/C(C)=C\\\\C)[C@@](C)(O)[C@@H](OC(=O)/C(C)=C\\\\C)C1O', 'CC(CCO)OC1OC2C[C@@H]3CC[C@H]4C(CCC5(C)C(C6=CC(=O)OC6)CCC45O)C3(C)CC2OC1(C)O', 'CC[C@H](C)[C@H](OC(C)=O)[C@@H](C)c1cc(O)c2c(c1O)O[C@]1(C)CC[C@H]3O[C@@H](C(C)(C)O)CC[C@]3(C)[C@H]1[C@@H]2O', 'CC.CC.CC.CC.COc1ccc(C(=O)OC2CO[C@@H]3C(OC(=O)c4ccc(OC)cc4)CO[C@H]23)cc1', 'CCCCC/C=C\\\\C/C=C\\\\CCCCCCCC(=O)Oc1ccc(O[C@@H]2O[C@H](CO)[C@@H](O)[C@H](O)[C@H]2O)cc1', 'CC(C)(O)[C@H](O)CC(=O)[C@](C)(O)[C@H]1[C@H](O)C[C@@]2(C)[C@@H]3CC=C4[C@@H](CC(=O)[C@@H](O)C4(C)C)[C@]3(C)C(=O)C[C@]12C', 'CC(C)C(C)(C(=O)OC1CCOC1=O)C(C)(C)C(C)(C)C(C)(C(=O)OC1C2CC3C(=O)OC1C3C2)C(C)C', 'CCCC1CCC(CCCCc2ccc(C3O[C@H](OC(=O)OC(C)C)[C@@H](OC(=O)OC(C)C)O3)cc2)CC1', 'CO[C@@H]1C[C@H](O[C@H]2CC[C@@]3(C)[C@H](CC[C@@H]4[C@H]3[C@H](O)C[C@]3(C)[C@@H](C5=CC(=O)OC5)CC[C@]43O)C2)O[C@H](C)[C@H]1O', 'CO[C@@H]1C[C@H](O[C@H]2CC[C@]3(C)C4CC[C@]5(C)C(C6=CC(=O)OC6)CC[C@]5(O)C4CC[C@]3(O)C2)O[C@H](C)[C@@H]1O', 'CC(=O)O[C@@H]1CC[C@@]2(C)[C@@H](C1)C[C@@H](OC(C)=O)[C@@H]1[C@@H]2C[C@H](OC(C)=O)[C@]2(C)C([C@H](C)CCC(=O)O)CC[C@@H]12', 'CCCCCCCCCCOC(=O)c1cc(C(=O)OCCCCCCCCCC)c(C(=O)O)cc1C(=O)O', 'COC1CC(OC2CCC3(CO)C(CCC4C3CCC3(C)C(C5=CC(=O)OC5)CCC43O)C2)OC(C)C1O', 'C=CC(=O)OCCCCCOC(=O)C1CCC(C2CCC(C(=O)OCCCCCOC(=O)C=C)CC2)CC1', 'COC1C[C@H](O[C@@H]2CC[C@]3(C)C4CC[C@]5(C)[C@@H](C6=CC(=O)OC6)[C@@H](O)C[C@]5(O)C4CC[C@@H]3C2)OC(C)[C@H]1O', 'CO[C@H]1CC(O[C@H]2CC[C@@]3(C)[C@H](CC[C@@H]4[C@@H]3CC[C@]3(C)[C@@H](C5=CC(=O)OC5)[C@@H](O)C[C@]43O)C2)O[C@@H](C)[C@@H]1O', 'CCCCCCCCC[C@@H](CC[C@@H]1[C@H]2Cc3cccc(OCC(=O)O)c3C[C@H]2C[C@H]1O)OC(=O)OCCO', 'COC(=O)C1CCC(C)CC1C(=O)OCC(O)COc1cc(C(C)(C)C)c(OCC2CO2)cc1C(C)(C)C', 'CCC(=O)[C@@H](C)[C@@H]1O[C@H]1C[C@@H](C)/C=C/C=C(\\\\C)[C@@H]1OC(=O)C[C@@H](O)CC[C@@](C)(O)[C@@H](OC(C)=O)/C=C\\\\[C@H]1C', 'C1=CC=C(C(=C1)C2=NC(C(=O)NC3=C2C=C(C=C3)Cl)O)Cl', 'Clc1cccc(OCc2nc(-c3ccccc3Cl)no2)c1', 'Cc1nc2c(C(=O)O)cccc2n1-c1ccc(Cl)cc1Cl', 'N#Cc1ccc(OCC(=O)Nc2cccc(Cl)c2Cl)cc1', 'Cn1nc2c(-c3cc(Cl)ccc3Cl)cccc2c1C(=O)O', 'COc1c(Cl)cc(Cl)cc1C(=O)Nc1ccccc1C#N', 'N#CC(=Cc1ccc(Cl)cc1Cl)C(=O)NCc1ccco1', 'Oc1ccc(-c2nc(Cc3ccccc3Cl)no2)cc1Cl', 'N#CCN(c1ccccc1C(=O)O)c1c(Cl)cccc1Cl', 'O=C(Nc1cc(Cl)c(O)c(Cl)c1)c1cccc2cc[nH]c12', 'O=C1Nc2ccc(Cl)cc2[C@H](c2ccccc2Cl)NC1=O', 'Cc1ccc(/C=C(/C#N)C(=O)Nc2cc(Cl)ccc2Cl)o1', 'COC(=O)C(=[N+]=[N-])c1ccccc1-c1cc(Cl)cc(Cl)c1', 'COc1cccc(C#N)c1NC(=O)c1ccc(Cl)c(Cl)c1', 'O=C1CN(c2ccc(Cl)cc2)C(=O)N1c1ccccc1Cl', 'O=c1cc(O)n(-c2cccc(Cl)c2)n1-c1cccc(Cl)c1', 'Cc1ccc(/C=C(\\\\C#N)C(=O)Nc2c(Cl)cccc2Cl)o1', 'Oc1ccc(-c2nc(Cc3ccc(Cl)cc3Cl)no2)cc1', 'NC(=O)Cc1cccc(-c2nc3cc(Cl)cc(Cl)c3o2)c1', 'Cc1nc2ccc(C(=O)O)cc2n1-c1c(Cl)cccc1Cl', 'Cc1cc(-c2nc3cc(Cl)c(Cl)cc3[nH]2)ccc1C(=O)O', 'O=C(NC1C(=O)Nc2ccccc21)c1ccc(Cl)c(Cl)c1', 'O=C(Nc1ccc(Cl)cc1Cl)C1C(=O)Nc2ccccc21', 'O=C(O)Cc1c(-c2ccccc2)nc2c(Cl)cc(Cl)cn12', 'N#Cc1ccc(OCC(=O)Nc2ccc(Cl)cc2)cc1Cl', 'O=C(Nc1ccc(Cl)cc1Cl)c1ccc(C#CCO)cn1', 'O=C1C=CC(=C2c3cc(Cl)ccc3N=C(CCl)N2O)C=C1', 'COc1cccc(C#N)c1NC(=O)c1ccc(Cl)cc1Cl', 'Cc1nc2c(C(=O)O)cccc2n1-c1cc(Cl)cc(Cl)c1', 'Nc1cccc2c1C(=O)N(Cc1c(Cl)cccc1Cl)C2=O', 'O=c1cc(COc2ccc(Cl)cc2Cl)nc2ccccn12', 'NNc1ccc2cc(-c3ccc(Cl)cc3Cl)c(=O)oc2c1', '[H]/N=C(\\\\c1cc2cc(Cl)ccc2o1)N(O)c1cccc(Cl)c1', 'Clc1cccc(OCc2nc(-c3cccc(Cl)c3)no2)c1', 'O=c1[nH]c2cc(Cl)cc(Cl)c2c(=O)n1Cc1ccccc1', 'COc1cc(Cl)c(-c2n[nH]c(=O)c3ccccc23)cc1Cl', 'Nc1cccc2c1C(=O)N(Cc1cccc(Cl)c1Cl)C2=O', 'COc1ccc(-c2noc(-c3ccc(Cl)c(Cl)c3)n2)cc1', 'ClCc1nc2c(Cl)cccc2n1-c1ccc2c(c1)OCO2', 'CC(=O)N1C(=O)C(=C(Cl)c2ccc[nH]2)c2ccc(Cl)cc21', 'O=[N+]([O-])c1ccc(Cl)cc1Cn1ccc2ccc(Cl)cc21', 'O=C1Cc2ccccc2C(=O)N1Cc1cnc(Cl)cc1Cl', 'Cc1ccc2nc(-c3ccc(Cl)c(Cl)c3)c(C(=O)O)n2c1', 'COc1ccc(Cl)cc1C(=O)Nc1cc(Cl)ccc1C#N', 'O=C(Nc1cccc(Cl)c1Cl)c1ccc(C#CCO)cn1', 'N#Cc1ccccc1NC(=O)COc1cccc(Cl)c1Cl', 'O=[N+]([O-])c1cccc(Cn2ccc3c(Cl)cc(Cl)cc32)c1', 'COc1cc(Cl)ccc1C(=O)Nc1cc(C#N)ccc1Cl', 'NC(=O)Cc1ccc(-c2nc3cc(Cl)ccc3o2)cc1Cl', 'NC(=O)Cn1c2ccccc2c(=O)c2ccc(Cl)c(Cl)c21', 'N#CCOc1cccc(NC(=O)c2ccc(Cl)c(Cl)c2)c1', 'Cc1nc2cc(C(=O)Nc3c(Cl)cccc3Cl)ccc2o1', 'N#Cc1ccc(NC(=O)COc2cc(Cl)cc(Cl)c2)cc1', 'N#Cc1ccc(COC(=O)c2ccc(Cl)cc2N)c(Cl)c1', 'Clc1cc2nc(C3COc4ccccc4O3)[nH]c2cc1Cl', 'Clc1ccc(-c2nc(COc3cccc(Cl)c3)no2)cc1', 'Cc1ccc2oc(C(=O)Nc3ccc(Cl)cc3Cl)cc2n1', 'O=C1N(c2ccccc2)C(=O)C(Cl)(Cl)N1c1ccccc1', 'Cc1cc(O)ccc1-c1nc(-c2cc(Cl)cc(Cl)c2)no1', 'Oc1ccc(-c2noc(Cc3ccc(Cl)c(Cl)c3)n2)cc1', 'O=C(Cn1cnc2ccccc21)Oc1ccc(Cl)cc1Cl', 'N#CC(Nc1ccc(Cl)c(Cl)c1)c1cccc(C(=O)O)c1', 'O=C(CO)c1ccc2nc(-c3ccc(Cl)c(Cl)c3)[nH]c2c1', 'O=C1COC(c2ccccc2)=NN1c1c(Cl)cccc1Cl', 'O=C(O)c1cccc2[nH]c(Cc3ccc(Cl)c(Cl)c3)nc12', 'N#Cc1ccc(OCC(=O)Nc2ccccc2Cl)cc1Cl', 'O=C1c2ccc(Cl)cc2NC2C(O)c3cc(Cl)ccc3N12', 'N#CCOC(=O)c1ccccc1Nc1cc(Cl)cc(Cl)c1', 'O=Nc1c(O)n(Cc2ccc(Cl)c(Cl)c2)c2ccccc12', 'O=C(Nc1cc(C#CCO)ccn1)c1cccc(Cl)c1Cl', 'ClCc1nc2cc(Cl)ccc2n1-c1ccc2c(c1)OCO2', 'Clc1ccccc1OCc1nnc(-c2ccccc2Cl)o1', 'N#Cc1ccc(NC(=O)COc2ccc(Cl)cc2)c(Cl)c1', 'Cc1nc2cc(C(=O)Nc3cc(Cl)ccc3Cl)ccc2o1', 'Nc1cc(Cl)ccc1C(=O)Oc1c[nH]c2cc(Cl)ccc12', 'N#CCOc1ccccc1NC(=O)c1cc(Cl)cc(Cl)c1', 'Oc1cc(Cl)ccc1-c1nc(Cc2ccccc2Cl)no1', 'N#CC(=Cc1cccc(Cl)c1Cl)C(=O)NCc1ccco1', 'O=[N+]([O-])c1cccc2ccn(Cc3ccc(Cl)c(Cl)c3)c12', 'O=C1CN(C(=O)c2cc(Cl)cc(Cl)c2)c2ccccc2N1', 'Clc1cccc(Cl)c1OCc1nnc(-c2ccccc2)o1', 'O=[N+]([O-])c1cc(Cl)c(/N=C/C=C\\\\c2ccccc2)c(Cl)c1', 'N#Cc1ccc(OCC(=O)Nc2ccccc2Cl)c(Cl)c1', 'N#CCOc1cccc(NC(=O)c2ccc(Cl)cc2Cl)c1', 'Oc1ccc(Cl)c(-c2nc(Cc3cccc(Cl)c3)no2)c1', 'COC(=O)c1ccc(-c2nc3c(Cl)ccc(Cl)c3[nH]2)cc1', 'N#Cc1cc(COC(=O)c2ccccc2)c(Cl)c(N)c1Cl', 'O=c1[nH]c(COc2ccc(Cl)cc2Cl)nc2ccccc12', 'O=C1N(c2ccccc2)N(c2ccccc2)C(=O)C1(Cl)Cl', 'COC(=O)c1cccc2[nH]c(-c3cccc(Cl)c3Cl)nc12', 'CNC(=O)/C(C#N)=C/c1ccc(-c2ccc(Cl)c(Cl)c2)o1', 'O=C(CO)c1ccc2nc(-c3ccc(Cl)cc3Cl)[nH]c2c1', 'Nc1cc(Cl)c(Oc2ccc3c(=O)[nH]ccc3c2)c(Cl)c1', 'N#Cc1ccc(OCC(=O)Nc2c(Cl)cccc2Cl)cc1', 'O=c1cc(-c2ccc(O)cc2)[nH]n1-c1cc(Cl)cc(Cl)c1', 'N#CCC(=O)Nc1ccc(Oc2ccc(Cl)cc2Cl)cc1', 'N#Cc1cccc(OCC(=O)Nc2ccc(Cl)cc2Cl)c1', 'Cc1ccc(-c2nn(-c3ccc(Cl)cc3Cl)cc2C=O)o1', 'O=[N+]([O-])c1cccc2ccn(Cc3cccc(Cl)c3Cl)c12', 'O=c1[nH]c(COc2ccc(Cl)cc2)nc2ccc(Cl)cc12', 'O=[N+]([O-])c1ccc(Cn2ccc3cccc(Cl)c32)c(Cl)c1', 'Clc1ccc(OCc2nnc(-c3cccc(Cl)c3)o2)cc1', 'O=C(Nc1cc(Cl)cc(Cl)c1O)c1ccc2[nH]ccc2c1', 'CC(=O)Nc1ccc(C#N)c(Cl)c1Oc1ccc(Cl)cc1', 'N#Cc1ccccc1OCC(=O)Nc1cc(Cl)cc(Cl)c1', 'N#Cc1ccc(OCC(=O)Nc2ccc(Cl)c(Cl)c2)cc1', 'COc1ccc(-c2noc(-c3cc(Cl)ccc3Cl)n2)cc1', 'N#Cc1c(Cl)cc(Cl)cc1NC(=O)OCc1ccccc1', 'N#Cc1cc(NCc2cc(Cl)c3c(c2)OCO3)ccc1Cl', 'O=C1Cc2cc(C(=O)Nc3cc(Cl)ccc3Cl)ccc2N1', 'Cc1nc(Cl)c(C#N)c(COc2ccccc2)c1C(=O)Cl', 'Cc1ccn2c(C(=O)O)c(-c3ccc(Cl)c(Cl)c3)nc2c1', 'Cc1cccc(-c2c(=O)[nH]c3cc(Cl)c(Cl)cc3[n+]2[O-])c1', 'Clc1ccc(-c2noc(COc3ccccc3Cl)n2)cc1', 'O=Nc1c(O)n(Cc2ccc(Cl)cc2)c2ccc(Cl)cc12', 'N#Cc1ccc(COC(=O)c2cc(N)ccc2Cl)c(Cl)c1', 'Nc1ccc2oc(C(=O)Nc3cccc(Cl)c3Cl)cc2c1', 'Clc1cccc(OCc2nnc(-c3ccccc3)o2)c1Cl', 'N#CC(=NO)c1ccccc1COc1ccc(Cl)cc1Cl', 'COc1ccc(/C(C#N)=C2/C=C(Cl)/C(=N\\\\O)C=C2Cl)cc1', 'Clc1cccc(OCc2nnc(-c3ccccc3Cl)o2)c1', 'Cc1ccc(-c2nc(-c3ccc(Cl)c(Cl)c3)no2)cc1O', 'CC1=NNC(=O)/C1=C\\\\c1ccc(-c2cc(Cl)cc(Cl)c2)o1', 'COc1ccc(Cl)cc1C(=O)Nc1ccc(C#N)c(Cl)c1', 'N#CCOc1ccc(Cl)cc1C(=O)Nc1ccc(Cl)cc1', 'CC(=O)N1C(=O)/C(=C(/Cl)c2ccc[nH]2)c2ccc(Cl)cc21', 'CC(=O)Nc1ccc2oc(-c3ccc(Cl)c(Cl)c3)nc2c1', 'Cc1cc(Cl)c(N2C(=O)c3cccc(N)c3C2=O)cc1Cl', 'N#Cc1cccc(NC(=O)COc2cc(Cl)cc(Cl)c2)c1', 'Cc1nc2ccc(C(=O)O)cc2n1-c1cc(Cl)cc(Cl)c1', 'CN1C(=O)C(=Cc2ccco2)N=C1c1ccc(Cl)cc1Cl', 'O=C(C(=C\\\\O)/N=N/c1ccc(Cl)cc1)c1ccc(Cl)cc1', 'Nc1c(Cl)cccc1C(=O)Oc1c[nH]c2c(Cl)cccc12', 'O=c1[nH]c2cccc(Cl)c2n(Cc2ccccc2Cl)c1=O', 'COc1cc(Cl)ccc1C(=O)Nc1ccc(C#N)cc1Cl', 'COc1cc(C#N)ccc1NC(=O)c1cc(Cl)cc(Cl)c1', 'N#Cc1ccc(Cl)c(NC(=O)COc2ccc(Cl)cc2)c1', 'N#CC(Nc1ccc(Cl)cc1)c1cc(Cl)c2c(c1)OCO2', 'Oc1ccccc1-c1nc(Cc2ccc(Cl)cc2Cl)no1', 'COc1ccc(-c2noc(-c3cc(Cl)cc(Cl)c3)n2)cc1', 'N#Cc1ccccc1OCC(=O)Nc1cccc(Cl)c1Cl', 'COC(=O)c1ccc2nc(-c3ccc(Cl)cc3)c(Cl)n2c1', 'O=c1cc(COc2cc(Cl)cc(Cl)c2)nc2ccccn12', 'O=C1NC(c2ccccc2)C(=O)N1c1ccc(Cl)c(Cl)c1', 'N#Cc1ccc(NC(C(=O)O)c2ccc(Cl)c(Cl)c2)cc1', 'N#Cc1cc(NC(=O)COc2ccccc2Cl)ccc1Cl', 'Oc1ccc(Cl)cc1-c1nc(Cc2cccc(Cl)c2)no1', 'O=C(C=NNC(=O)c1ccc(Cl)cc1Cl)c1ccccc1', 'O=c1[nH]c2ccccc2nc1COc1ccc(Cl)c(Cl)c1', 'COC(=O)c1cc2nccn2cc1-c1ccc(Cl)cc1Cl', 'Oc1cccc(-c2noc(Cc3ccc(Cl)c(Cl)c3)n2)c1', 'Clc1ccc(OCc2nc(-c3ccccc3Cl)no2)cc1', 'Nc1cccc2c1C(=O)N(Cc1ccc(Cl)c(Cl)c1)C2=O', '[H]/N=c1\\\\ccccn1C(=O)C1=Cc2cc(Cl)cc(Cl)c2OC1', 'O=[N+]([O-])c1cccc2c1ccn2Cc1ccc(Cl)cc1Cl', 'O=[N+]([O-])c1cc(Cl)ccc1Cn1ccc2ccc(Cl)cc21', 'O=C(CCl)Nc1ccc(-c2nc3cc(Cl)ccc3o2)cc1', 'O=C(Cc1noc2ccccc12)Nc1ccc(Cl)c(Cl)c1', 'COC(=O)c1ncc2cccn2c1-c1ccc(Cl)cc1Cl', 'O=Nc1c(O)n(Cc2ccccc2)c2c(Cl)c(Cl)ccc12', 'O=[N+]([O-])c1ccc2ccn(Cc3cc(Cl)ccc3Cl)c2c1', 'N#CC(Cc1ccc([N+](=O)[O-])cc1Cl)c1ccc(Cl)cc1', 'Oc1cccc(Cc2nc(-c3cc(Cl)cc(Cl)c3)no2)c1', 'COc1ccc(C(C#N)=C2C=C(Cl)C(=NO)C=C2Cl)cc1', 'COc1ccc(Cl)cc1C(=O)c1c[nH]c2nccc(Cl)c12', 'Cc1cc(Cl)c(NC(=O)c2noc3ccccc23)cc1Cl', 'Nc1cc(Cl)c(Cl)cc1Oc1nccc2ccc(O)cc12', 'COc1cc(Cl)ccc1-c1nc(Cl)c2cc(O)ccc2n1', 'O=C(O)C1N=C(c2ccccc2Cl)c2cc(Cl)ccc2N1', 'O=C1Cc2ccccc2C(=O)N1Cc1nc(Cl)ccc1Cl', 'CC(=O)Nc1ccc(Cl)cc1-c1nc2cc(Cl)ccc2o1', 'Clc1ccc(-c2nc(COc3ccccc3Cl)no2)cc1', 'N#Cc1ccc(Cl)cc1OCC(=O)Nc1ccc(Cl)cc1', 'Nc1oc(=O)c2ccccc2c1Nc1ccc(Cl)c(Cl)c1', 'COC(=O)c1cccc2[nH]c(-c3cc(Cl)ccc3Cl)nc12', 'O=C(O)C1=NC(c2ccccc2Cl)c2cc(Cl)ccc2N1', 'O=[N+]([O-])c1cccc2ccn(Cc3cc(Cl)ccc3Cl)c12', 'COc1ccccc1-c1nnc(-c2c(Cl)cccc2Cl)o1', 'N#Cc1ccc(COC(=O)c2c(N)cccc2Cl)c(Cl)c1', 'O=C(OCc1cccc(Cl)c1Cl)c1ccnc2[nH]ccc12', 'Cc1ccc(/C=C(\\\\C#N)C(=O)Nc2ccc(Cl)c(Cl)c2)o1', 'Oc1ccc(-c2cc(-c3c(Cl)cc(O)cc3Cl)[nH]n2)cc1', 'O=C(OCc1ccc(Cl)cc1Cl)c1cn2ccccc2n1', 'N#CC(Nc1cccc(Cl)c1)c1cc(Cl)c2c(c1)OCO2', 'Cn1c(-c2cc(Cl)ccc2Cl)nc2cc(C(=O)O)ccc21', 'Clc1cccc(-c2nc3cc4c(cc3[nH]2)OCCO4)c1Cl', 'N#CCOc1cccc(NC(=O)c2cc(Cl)ccc2Cl)c1', 'O=C=NC1(N=C=O)C=CC(Cc2ccccc2)=CC1(Cl)Cl', 'O=Nc1c(O)n(Cc2ccc(Cl)cc2Cl)c2ccccc12', 'Cn1c(-c2ccc(Cl)c(Cl)c2)nc2cc(C(=O)O)ccc21', 'O=C(Nc1cc(Cl)ccc1O)c1cc2cc(Cl)ccc2[nH]1', 'O=C1CN(C(=O)c2cc(Cl)ccc2Cl)c2ccccc2N1', 'O=C1CC(COc2cc(Cl)cc(Cl)c2)=Nc2cnccc21', 'COc1c(Cl)cc(Cl)cc1-c1nc2ccccc2c(=O)[nH]1', 'Nc1ccc(-c2c(O)c3c(Cl)cc(Cl)cc3[nH]c2=O)cc1', 'Oc1ccc(Cc2nc(-c3ccc(Cl)c(Cl)c3)no2)cc1', 'N#CCC(=O)Nc1ccccc1Oc1cc(Cl)ccc1Cl', 'O=C1NC(c2ccccc2)C(=O)N1c1cc(Cl)cc(Cl)c1', 'O=C1Cc2ccc(C(=O)Nc3cccc(Cl)c3Cl)cc2N1', 'Cc1nc2cc(C(=O)O)ccc2n1-c1c(Cl)cccc1Cl', 'COc1c(Cl)cc(Cl)cc1-c1nnc(-c2ccccc2)o1', 'CN1C(=O)/C(=C\\\\c2ccco2)N=C1c1ccc(Cl)cc1Cl', 'O=C(Nc1cc(Cl)c(O)c(Cl)c1)c1c[nH]c2ccccc12', 'COc1ccc(C#N)cc1NC(=O)c1ccc(Cl)cc1Cl', 'N#Cc1cccc(OCC(=O)Nc2cc(Cl)ccc2Cl)c1', 'O=C(Nc1cc(C#CCO)ccn1)c1ccc(Cl)c(Cl)c1', 'Cn1c(=O)n(-c2cccc(Cl)c2)c(=O)c2ccc(Cl)cc21', 'COc1ccc(/C(C#N)=C2/C=C(Cl)/C(=N/O)C=C2Cl)cc1', 'O=Nc1c(O)n(Cc2ccccc2)c2c(Cl)cc(Cl)cc12', 'O=C(CCl)Nc1ccc2oc(-c3ccc(Cl)cc3)nc2c1', 'Oc1ccc(-c2cc(-c3ccc(O)cc3Cl)[nH]n2)c(Cl)c1', 'Clc1ccc(-c2nnc(COc3ccccc3Cl)o2)cc1', 'CC(=O)Nc1cc2c(cc1Cl)[nH]c(=O)c1cc(Cl)ccc12', 'O=C(OCc1c(Cl)cccc1Cl)c1n[nH]c2ccccc12', 'O=C(Nc1cccc(Cl)c1Cl)c1ncccc1C#CCO', 'C.O=C=Nc1ccc(-c2ccc(N=C=O)c(Cl)c2)cc1Cl', 'COC(=O)c1ccc2nc(-c3ccc(Cl)c(Cl)c3)cn2c1', 'Oc1ccc(-c2nc(Cc3ccc(Cl)c(Cl)c3)no2)cc1', 'Cc1nc2cc(NC(=O)c3cccc(Cl)c3Cl)ccc2o1', 'Clc1cc(Cl)c2nc(-c3ccc4c(c3)OCCO4)cn2c1', 'O=C1c2cc(Cl)c(Cl)cc2C(=O)N1CCc1ccccn1', 'Clc1cc(Cl)c2oc(-c3cccc4c3OCCN4)nc2c1', 'O=C1CC(=O)N(c2ccccc2Cl)c2cc(Cl)ccc2N1', 'O=c1cc(NNc2ccc(Cl)c(Cl)c2)c2ccccc2o1', 'COc1ccc2c(c1)C(=O)N/C2=C\\\\c1c(Cl)cncc1Cl', 'O=C1Nc2ccc(Cl)cc2C(c2ccccc2Cl)=CN1O', 'O=c1cc(COc2cc(Cl)ccc2Cl)nc2ccccn12', 'O=C1Nc2cccc(Cl)c2N(C(=O)CCl)c2ccccc21', 'Cc1nc2cc(NC(=O)c3ccc(Cl)c(Cl)c3)ccc2o1', 'CC1=NN(c2cc(Cl)cc(Cl)c2)C(=O)C1=Cc1ccco1', 'O=C(Nc1cc(C#CCO)ccn1)c1ccc(Cl)cc1Cl', 'O=C(Nc1cc(Cl)cc(Cl)c1O)c1c[nH]c2ccccc12', 'Clc1ccc(COc2ccc(-c3nnco3)cc2)c(Cl)c1', 'O=C1Cc2ccc(Cl)nc2C(c2ccccc2Cl)=NC1O', 'O=C(O)c1ccnc2cc(Cc3ccc(Cl)cc3Cl)[nH]c12', 'N#Cc1ccccc1COC(=O)c1cc(N)c(Cl)c(Cl)c1', 'Nc1c(Cl)c(N=O)c2c(c1=C(O)CCl)=c1ccccc1=C2', 'O=C(OCc1nc2ccccc2[nH]1)c1ccc(Cl)cc1Cl', 'O=C1CN(C(=O)c2cccc(Cl)c2Cl)c2ccccc2N1', 'Clc1cccc(OCc2nc(-c3ccccc3)no2)c1Cl', 'Cc1cc(C)n(C(=O)c2c(Cl)cccc2Cl)c(=O)c1C#N', 'N#Cc1ccc(NC(=O)COc2cccc(Cl)c2)c(Cl)c1', 'Cn1c(-c2ccc3c(c2)OCO3)nc2cc(Cl)c(Cl)cc21', 'O=C1C[N+]([O-])=C(c2ccccc2Cl)c2ccccc2N1Cl', 'Oc1ccccc1-c1nc(Cc2c(Cl)cccc2Cl)no1', 'Cc1cc(Cl)c(-n2cnc3cccc(C(=O)O)c32)cc1Cl', 'Cc1ccc(-c2nc3c(Cl)cc(Cl)cc3c(=O)n2O)cc1', 'COc1c(Cl)cc(C(=O)Nc2ccccc2C#N)cc1Cl', 'O=C1C(=O)N(CCc2ccccn2)c2c(Cl)ccc(Cl)c21', 'Nc1cc(C(=O)OCC#Cc2ccccc2Cl)cnc1Cl', 'O=C1CN(O)C(c2ccccc2)=c2cc(Cl)c(Cl)cc2=N1', 'NC(=O)N1c2ccccc2C(=O)C(Cl)(Cl)c2ccccc21', 'O=C(Cc1cccc(Cl)c1Cl)n1[nH]c(=O)c2ccccc21', 'N#Cc1ccccc1NC(=O)COc1ccc(Cl)c(Cl)c1', 'O=C1NC(c2ccccc2)C(=O)N1c1cc(Cl)ccc1Cl', 'N#Cc1c(Cl)cccc1OCC(=O)Nc1ccccc1Cl', 'C1=CC(=CC=C1C(=O)O)N', 'C=C(C/C=C/C#N)C(=O)O', 'Cc1cc(O)cc(N=O)c1', 'Nc1ccc2c(c1)OCO2', 'Cc1ccc(C=O)[n+]([O-])c1', 'O=C1CNCc2ccoc21', 'O=c1cc(NC2CC2)c1=O', 'O=C1CC2=NCCC=C2O1', 'OCN1c2cccc1c2O', 'C=CC(=O)N1CC=CC1=O', 'C/N=C/c1ccc(C=O)o1', 'O=C1NC(=O)C2C=CC1C2', 'N#CC1=CC(OC=O)CC1', 'CC(N=C=O)c1ccoc1', 'C#CCn1c(O)ccc1O', 'CC(=O)c1ccncc1O', 'N/C(=C/C=O)c1ccoc1', 'Cc1cc[n+]([O-])cc1C=O', 'OCCC#Cc1cnoc1', 'C1=CNC=C2OCOC2=C1', 'O=C(O)/C=C/n1cccc1', 'O=Cc1coc(C2CC2)n1', 'Cc1ccc(N=O)c(O)c1', 'O=c1ccc(C2CO2)c[nH]1', '[2H]c1c([2H])c([2H])c(C(=O)O)c(N)c1[2H]', 'CC(=O)c1c[nH]cc1C=O', 'C#CC(O)c1cc(C)on1', 'C1=C\\\\C=C\\\\C=C/OO\\\\N=C/1', 'C=CC(=C)c1cc(=O)[nH]o1', '[2H]c1nc([2H])c(C(=O)OC)c([2H])c1[2H]', 'C=CCN1C(=O)C=CC1=O', 'O=C(O)Nc1ccccc1', 'Nc1ccc2c(c1)OOC2', 'C#N.Oc1ccc(O)cc1', 'O=Cc1cc[nH]c1C=CO', 'O=CNc1ccc(O)cc1', 'O=C1CCNc2occc21', 'C=C1CC=CC=C1[N+](=O)[O-]', 'O=c1[nH]ccc2c1CCO2', 'N#CCC(O)c1ccco1', 'COC(=O)/C=C/C=C/C#N', 'O=C1CC2C=CC(N1)C2=O', 'CC(=O)c1cncc(O)c1', 'Nc1ccc(O)c(=O)cc1', 'C=COC(=O)CC(=C)C#N', 'Cn1cccc1C(=O)C=O', '[2H]C([2H])([2H])C(=O)c1ccc[nH]c1=O', 'O=C1OCN2CC=CC=C12', 'C#CCOC(=O)CCC#N', 'OC1(c2ccccn2)CO1', 'O=CC1(c2ccon2)CC1', 'O=C1NCCc2occc21', 'O=C1CCCc2cnoc21', 'N#C/C(=C/C1CC1)C(=O)O', 'C=C(C#N)C=CC(=O)OC', 'Cc1ccc(C(=O)O)nc1', '[3H]c1ccc(N)c(C(=O)O)c1', 'CC=C1Oc2c[nH]cc2O1', 'O=C(c1cocn1)C1CC1', 'N#CC1(C(=O)O)CC12CC2', 'Nc1c(O)cccc1C=O', 'CC(=O)c1cc[nH]c1C=O', '[2H]NC(=O)Oc1ccccc1', 'C=C(O)/C=C(/C#N)C(=C)O', 'C#CCNC(=O)OCC#C', 'O=C(O)/C=C\\\\c1ccc[nH]1', 'N#CC1=CC=C[C@@H](O)[C@H]1O', 'COc1ccncc1C=O', '[2H]c1cc(C(=O)O)c(N)c([2H])c1[2H]', 'C=COC(=O)C(C#N)C=C', 'O=C(c1cnoc1)C1CC1', 'O=C(O)C1=CC=CC=CN1', 'Oc1ccc2c(c1)NCO2', 'N#C[C@@H]1C[C@@H]2O[C@H]1[C@H]1O[C@H]12', 'CNC1=CC(=O)C=CC1=O', '[2H]c1nc([2H])c(C([2H])([2H])[2H])c(C(=O)O)c1[2H]', '[2H]c1nc(CC(=O)O)c([2H])c([2H])c1[2H]', 'CC(=O)C=Cc1cnco1', 'Cc1cccc(OC=O)n1', 'Nc1cccc2c1OCO2', '[2H]c1ccc(N)c(C(=O)O)c1', 'C1=NC(c2ccco2)OC1', 'O=C(O)C1=CC=CCC=N1', 'Cc1cccnc1OC=O', '[H]/N=C1/C(=O)C(=O)C=CC1C', 'OOC1Cc2cccnc21', 'Cc1cc(O)cnc1C=O', '[H]/N=C(\\\\C)C(=O)c1ccco1', 'O=C1/C(=N\\\\O)C2C=CCC12', 'N#CC1=C(C(=O)O)CCC1', 'N#CC1=CC=C[C@H](O)[C@@H]1O', 'NC(=O)/C=C\\\\c1ccco1', 'O=C1C[C@H](c2ccco2)N1', 'O=CC1=CCCC(C=O)=N1', 'Cc1oncc1/C=C/C=O', 'C1=NCC(c2ccco2)O1', 'Cc1[nH]ccc(=O)c1C=O', 'O[C@H]1C=CN2C=COC2=C1', 'Cc1cc2oc(N)cc2o1', 'Cc1cncc(C(=O)O)c1', 'CC(=O)c1ncccc1O', 'O=[N+]([O-])/C=C/C1=CC=CC1', 'O=CC1=CC[C@@H]2CC(=O)N12', 'O=C1C=CC2(CC2)C(=O)N1', 'O=C1COCc2[nH]ccc21', 'O=C1OCCc2cc[nH]c21', 'C=C(C(=O)O)c1cc[nH]c1', 'NC(=O)/C=C\\\\c1ccoc1', '[O-][n+]1cccc([C@@H]2CO2)c1', 'C#CCC1NC(=O)CC1=O', 'O=C(O)C1=CCC=NC=C1', 'Cc1ccncc1OC=O', 'ON(O)c1ccc2c(c1)C2', '[O-][n+]1ccc2c(c1)OCC2', 'O=Cc1cc(C2CC2)no1', 'Cc1ncc(C=O)cc1O', 'Cc1[nH]c(C=O)cc1C=O', 'O=CC1=CNC=CC1C=O', 'O=C1CNc2cocc2C1', 'Cc1ccc(ON=O)cc1', 'CC(=O)C1C=CC=NC1=O', 'O=C1CNCc2occc21', 'C=C(C#N)/C=C/C(=O)OC', 'COC(=O)c1cccnc1', 'C=C/C=C(\\\\C#N)CC(=O)O', 'C#Cc1nc(C(C)O)co1', 'C=C(C#N)C=C(C)C(=O)O', 'O=C(O)C1=CN=CCC=C1', 'O=C(NO)c1ccccc1', 'C=Cc1ccc(C(=O)O)[nH]1', 'Oc1[nH]c(O)c2c1C=CC2', 'O=CCc1ncccc1O', 'C=C1C=C(C)OC=C1N=O', 'Nc1cccc(C=O)c1O', 'c1coc(C2=NCCO2)c1', '[H]/N=C/c1cc(O)ccc1O', 'C=Cc1[nH]ccc1C(=O)O', 'O=C(O)C1=CCC=CN=C1', 'CC=CC=CC(=O)OC#N', 'NOc1cccc(C=O)c1', '[2H]C([2H])([2H])c1ccc([N+](=O)[O-])cc1', 'C=CC(=O)Nc1ccoc1', 'C=C1OC(=O)CC1C1C=N1', 'CO/C=C/C=C(\\\\C#N)C=O', 'Nc1cccc(C(=O)O)c1', 'Cc1nc(C=O)ccc1O', 'O=C(O)Cc1ccncc1', 'CC(=O)C(=O)n1cccc1', 'O=C(O)C=Cn1cccc1', 'Nc1ccc(C=O)c(O)c1', 'C#CCONC(=O)C#CC', 'Cc1ccccn1.O=C=O', 'C=CC/C=C/C(=O)N=C=O', 'O=C1NC2CC=CC=C2O1', 'C=C(C)C1=CC(=O)NC1=O', '[O-][n+]1cccc([C@H]2CO2)c1', 'Cc1cc(C=O)[nH]c1C=O', '[H]/N=C1\\\\C=CC2=C(C1)OCO2', 'O=c1[nH]c2c(o1)C=CCC2', 'NC(=O)C1=CCC(=O)C=C1', 'O=CC1=CCCC(N=O)=C1', 'O=CC1=CNCC(C=O)=C1', 'C=CCC(=C)C(=O)N=C=O', 'O=C1CCc2oncc2C1', 'O=CCc1cccc(=O)[nH]1', 'CC1CC(=C=C=N)C(=O)O1', 'Nc1cccooc2c1C2', 'ON1OC1c1ccccc1', 'C=C(C)N1C(=O)C=CC1=O', 'O=C(O)C1=CC=CC=NC1', 'C#CCC(C#N)C(=O)OC', 'O=[N+]([O-])C=C1C=CC=CC1', 'N#C/C=C/C=C/CC(=O)O', 'N#CCOCc1ccco1', 'OCc1cc2occc2[nH]1', 'Cc1ccc(C(=O)O)cn1', 'O=c1[nH]ccc2c1COC2', 'CC(=O)c1cccn1C=O', 'C#C[C@@H](O)c1coc(C)n1', 'C=C1CC(C#N)(C(=O)O)C1', 'C=C(C=CC#N)C(=O)OC', 'C1=CC2=C(CC=N1)OCO2', '[2H]c1ccnc(C(=O)OC)c1', '[2H]Oc1ccccc1C(=O)N([2H])[2H]', 'C=CC1=CN2C(=O)C[C@H]2O1', 'O=C(O)C1=CC=CN2CC12', 'CC#CN1C(=O)CCC1=O', 'Nc1ccc(C=CC=O)o1', 'O=C(O)Cc1ccccn1', '[OH-].c1ccc2o[nH+]cc2c1', '[2H]c1c([2H])c(N)c([2H])c(C(=O)O)c1[2H]', 'O=C1CC=CC=C1C=NO', '[2H]c1cccc(C(=O)O)c1N', 'C=C1C=CC([N+](=O)[O-])=CC1', 'O=c1[nH]c2ccccc2o1.[H][H]', 'Cc1ccc2c(n1)OCO2', 'Cc1cc[11c]([N+](=O)[O-])cc1', 'CNC1=CC(=O)C(=O)C=C1', 'NC(C=C=O)c1ccoc1', 'O=[N+]([O-])CC=C1C=CC=C1', 'CC1=C(C#N)C(=O)OC1C', 'O=C1N=CC=C2CCOC12', '[C-]#[N+]C(=C)C(=O)CC1CO1', 'Cc1cc(C=O)cc[n+]1[O-]', 'O=C1C=C2CCC(=O)N2C1', 'C#CC(O)c1ncc(C)o1', 'N#Cc1ccccc1.OO', 'C#Cc1cc(COC)on1', 'C1=C[C@]23OCC(=CN2C1)O3', 'O=C1OCN2C=CC=CC12', 'N#CC1CCOCC1=C=O', 'Cc1ccc(C=O)c(=O)[nH]1', 'CC(=O)OC1=C(C#N)CC1', 'O=C1C=C2CCCN1C2=O', 'O/N=C\\\\C=C\\\\c1ccco1', 'C=c1cc(C(=O)O)[nH]c1=C', 'CC=CC=C(C#N)C(=O)O', 'C#N.Oc1ccccc1O', 'O=C(O)C=Cc1ccc[nH]1', 'O=C1CN2CC=CC=C2O1', 'O=C1N=CC=C2OCCC12', 'O=COCc1cccnc1', 'O=C(O)C=C1C=CC=CN1', 'OC1OC1c1cccnc1', 'CC1C(C=O)=CC=C1N=O', 'NC(=O)c1ccc(O)cc1', 'O=NCc1ccc(O)cc1', 'O=CN(O)c1ccccc1', '[H]/N=C1\\\\CC(=O)C=C(C)C1=O', 'O=C1CCc2ccc(O)n21', 'C=CC(=O)C(C=C)N=C=O', 'COc1cccc(N=O)c1', 'N#CC[C@@H](O)c1ccco1', 'COC(=O)C1C=C(C#N)C1', '[H]/N=C1\\\\C=CC(O)C(C=O)=C1', 'C=CCOC(=O)/C=C/C#N', 'O=NC1=C=CC2(CC1)CO2', 'Cc1cccc(N=O)c1O', 'O=C=NC1CC2C=CC1O2', 'N#C[C@@H]1CO[C@@H]2C=CO[C@H]12', 'Cc1ccc[11c]([N+](=O)[O-])c1', 'C1=CN2C=COCC2=CO1', 'N#CC1=CC=C[C@H](O)[C@H]1O', '[2H]C([2H])([2H])[n+]1ccccc1C(=O)[O-]', '[H]/N=C/c1cccc(O)c1O', 'C=CC(=O)/C=C/CN=C=O', 'O/N=C/C=C/c1ccco1', 'CC1=C(C#N)C(O)CC1=O', '[2H]c1nc([2H])c(CC(=O)O)c([2H])c1[2H]', 'Cc1coc(C)c1N=C=O', 'N#CC12OC1CCCC2=O', '[2H]c1c([2H])c([2H])c([N+](=O)[O-])c(C)c1[2H]', 'C=C(OC=CC)C(=O)C#N', 'CO/N=C1/C=CC=CC1=O', 'N#CC1COCCC1=C=O', 'C=C1CC(=C)C(=O)NC1=O', 'CC(C)C1=CC(=C(C(=C1)Br)NC(=O)NC2=CN=CC=C2)Br', 'O=C(CCc1cccnc1)N1CCc2[nH]c(Br)c(Br)c2C1', 'Brc1cnc(Nc2ccc(N3CCOCC3)cc2)c(Br)c1', 'CN(CC(=O)Nc1ccccc1Br)c1ccc(Br)cc1N', 'CCNc1cc(C)ncc1C(=O)Nc1c(Br)cccc1Br', 'Cc1nc2ccccc2n1CCNCc1cc(Br)c(Br)o1', 'COc1cc(N/C(N)=N/Cc2ccccc2)c(Br)cc1Br', 'Cc1nn(C)c(CC(N)c2cc3cccc(Br)c3o2)c1Br', 'CC(N)c1ccc(NC(=O)Nc2ccc(Br)cc2Br)cc1', 'CN(CC(=O)Nc1ccc(Br)cc1)c1ccc(Br)cc1N', 'CN(C)c1ccc(C(=O)Nc2ccc(Br)cc2Br)cc1N', 'O=C(NC1CCCC1n1ccnc1)c1ccc(Br)cc1Br', 'CC(Nc1c(Br)cccc1Br)c1ccc(NC(N)=O)cc1', 'CCCNc1cnccc1C(=O)Nc1c(Br)cccc1Br', 'CCCNc1ccc(C(=O)Nc2ccc(Br)cc2Br)nc1', 'COc1c(Br)cc(Br)cc1-c1n[nH]c2c1N1CCC2CC1', 'CCCNc1ncccc1C(=O)Nc1c(Br)cccc1Br', 'CN(C)C(=O)c1ccc(Nc2c(Br)cccc2Br)c(N)c1', 'Cc1ccc(Br)cc1NC(=O)CCNc1ccc(Br)cn1', 'CCNC(=O)c1ccc(N)c(Nc2ccc(Br)cc2Br)c1', 'Cn1ccnc1CN(C(=O)c1ccc(Br)cc1Br)C1CC1', 'CN(CC(=O)Nc1cccc(Br)c1)c1ccc(Br)cc1N', 'CCCC(C(=O)Nc1ccc(Br)cn1)c1cncc(Br)c1', 'Cc1ccc(O)cc1N/C(N)=N/c1c(C)ccc(Br)c1Br', 'COc1cc(NCc2cc(C#N)n(C)c2C)c(Br)cc1Br', 'CCCNc1ccncc1C(=O)Nc1ccc(Br)cc1Br', 'CN(Cc1ccc(Br)cc1)c1ccc(/C(N)=N/O)c(Br)c1', 'Cc1cc(Br)c(NC(=O)c2cc(C)ccc2NN)c(Br)c1', 'Cc1nn(-c2ccccn2)c2c1C(=O)C(Br)(Br)C(C)(C)C2', 'CCNc1cc(Oc2ccc(Br)cc2Br)nc(C2CC2)n1', 'Cc1nc(Oc2ccc(Br)cc2Br)ncc1CNC1CC1', 'Cc1[nH]c2ccccc2c1C=NNC(=O)[C@@]1(C)CC1(Br)Br', 'CC(C)c1[nH]nc(C(=O)N2CCc3cc(Br)ccc32)c1Br', 'CNc1cc(C(=O)Nc2c(Br)cc(C)cc2Br)cc(C)n1', 'CC(C)(C)c1ccc(C(=O)Nc2ncc(Br)nc2Br)cc1', 'CN(C)C(=O)c1ccc(Nc2cc(Br)ccc2Br)c(N)c1', 'O=C(c1cc(Br)ccc1Br)N1CCCC(c2ccn[nH]2)C1', 'O=C(CCc1cccnc1)n1c(Br)c(Br)c2c1CCNC2', 'CCNc1ncccc1C(=O)Nc1c(Br)cc(C)cc1Br', 'CCNc1ncc(Br)cc1C(=O)Nc1ccc(C)cc1Br', 'CCNc1cc(C(=O)Nc2ccc(Br)cc2Br)cc(C)n1', 'CCCNc1ncc(Br)cc1C(=O)Nc1ccc(Br)cc1', 'COc1c(Br)cc2c(c1Br)CC(C)(C)c1c(N)ncnc1-2', 'NC(CC(Nc1cc(Br)ccc1Br)c1ccccc1)=NO', 'O=C(Cc1ccn(C2CCCC2)n1)c1ncc(Br)cc1Br', 'CCNc1cccc(C(=O)Nc2c(Br)cc(C)cc2Br)n1', 'CCc1nn(CC)c(COc2ccc(Br)cc2C#N)c1Br', 'CN(C)C(=O)c1ccc(Nc2ccc(Br)cc2Br)c(N)c1', 'NNC(c1cccc(OC2CC2)c1)c1ncc(Br)cc1Br', 'CN(C)C(=O)c1ccc(N)c(Nc2ccc(Br)cc2Br)c1', 'CN(C)c1ccc(C(=O)Nc2c(N)cc(Br)cc2Br)cc1', 'Cc1[nH]c2ccccc2c1C=NNC(=O)C1(C)CC1(Br)Br', 'CN(Cc1cccc(Br)c1)c1ccc(Br)cc1/C(N)=N/O', 'OC1(c2ccc(Br)cc2)C[n+]2cccnc2N1C1CC1.[Br-]', 'CN(C)C(=O)c1ccc(N)cc1Nc1ccc(Br)cc1Br', 'CNC(=O)c1cccc(NCc2ncc(Br)cc2Br)c1C', 'Brc1cnc(Nc2ccc([C@H]3CNCCO3)cc2)c(Br)c1', 'Brc1cnc(Oc2ccc(N3CCNCC3)cc2)c(Br)c1', 'O=C(CCc1ccncc1)N1CCc2[nH]c(Br)c(Br)c2C1', 'CN(Cc1ccccc1Br)c1ccc(/C(N)=N/O)cc1Br', 'CCCNc1ccnc(C(=O)Nc2ccc(Br)cc2Br)c1', 'CCCNc1ccc(C(=O)Nc2cc(Br)ccc2Br)cn1', 'CCNc1cc(C)ncc1C(=O)Nc1ccc(Br)cc1Br', 'CN(Cc1ccccc1Br)c1cccc(Br)c1/C(N)=N/O', 'Cc1cc(Br)c(NC(=O)c2ccc(NN)c(C)c2)c(Br)c1', 'Cc1cc(/C(N)=N/O)ccc1CNc1c(Br)cccc1Br', 'CN(C)c1cccc(C(=O)Nc2c(N)cc(Br)cc2Br)c1', 'CCCNc1cccc(C(=O)Nc2cc(Br)ccc2Br)n1', 'CCNC(=O)c1cccc(NCc2ncc(Br)cc2Br)c1', 'O=C(NCCCNc1ccc(Br)cn1)c1ccc(Br)cc1', 'CN(C)c1ccc(Br)cc1NC(=O)c1cc(N)ccc1Br', 'Brc1ccc(NC2=NCCOC2)c(Br)n1.c1ccccc1', 'CN(C)c1ccc(Br)cc1NC(=O)c1ccc(N)c(Br)c1', 'CC(NCC(=O)Nc1ccc(Br)cn1)c1ccccc1Br', 'CCCNc1ccnc(C(=O)Nc2c(Br)cccc2Br)c1', 'O=C(NC1CCCC1n1ccnc1)c1cc(Br)ccc1Br', 'Brc1cc(Nc2cccc(N3CCOCC3)c2)cc(Br)n1', 'CNC(=O)Cc1ccc(NCc2ncc(Br)cc2Br)cc1', 'Oc1cccc(N2CCN(c3c(Br)cncc3Br)CC2)c1', 'CC(C)c1cc(C(=O)Nc2ccc(Br)cc2Br)cc(N)n1', 'Cn1c(Br)nc2c1CN(C(=O)Cc1ccccc1Br)CC2', 'CCC(=O)Nc1cccc(NCc2ncc(Br)cc2Br)c1', 'NC1CCc2nn(Cc3c(Br)cccc3Br)c(=O)cc2C1', 'CNc1nc(-c2cc(Br)ccc2OC)nc(C2CC2)c1Br', 'CCc1cc(C(=O)Nc2c(Br)cc(C)cc2Br)cc(N)n1', 'CCNc1cc(C(=O)Nc2cc(Br)ccc2Br)cc(C)n1', 'Cc1[nH]c2ccccc2c1/C=N/NC(=O)[C@@]1(C)CC1(Br)Br', 'CCNC(c1cc2cccc(Br)c2o1)c1c(Br)cnn1C', 'CN(Cc1ccc(Br)cc1)c1cc(Br)ccc1/C(N)=N/O', 'Cn1c(Br)nc2c1CN(C(=O)Cc1cccc(Br)c1)CC2', 'CC(C)n1ncc(Br)c1C(N)c1cc2cccc(Br)c2o1', 'CNc1ncc(Br)cc1C(=O)Nc1c(C)cc(C)cc1Br', 'O=C(NC1CCCC1n1ccnc1)c1cc(Br)cc(Br)c1', 'O=C(NCCCNc1ccc(Br)cn1)c1cccc(Br)c1', 'CCNC(=O)c1ccc(N)c(Nc2cc(Br)ccc2Br)c1', 'CCc1cc(C(=O)Nc2ccc(Br)cc2Br)cc(NC)n1', 'Cc1cc(Br)c(NCc2ccccc2C(N)=NO)c(Br)c1', 'O[C@H]1CCCN[C@@H]1C#CCn1cnc2cc(Br)c(Br)cc21', 'CCCC(C(=O)Nc1ccc(Br)cn1)c1ccnc(Br)c1', 'CCCc1cc(C(=O)Nc2c(Br)cccc2Br)cc(N)n1', 'CCNc1ccnc(C(=O)Nc2c(Br)cc(C)cc2Br)c1', 'CCNc1ncc(Br)cc1C(=O)NCc1ccccc1Br', 'Cc1c(Br)cc(C(=O)N2CCCc3cnn(C)c32)cc1Br', 'N/C(CC(Nc1c(Br)cccc1Br)c1ccccc1)=N/O', 'CC(=O)Nc1cccc(C(C)Nc2ncc(Br)cc2Br)c1', 'Cc1cc(Br)c(NCc2ccc(C(N)=NO)cc2)c(Br)c1', 'CCNc1cc(C(=O)Nc2c(Br)cccc2Br)cc(C)n1', 'CC(C)(C)c1ccccc1C(=O)Nc1ncc(Br)nc1Br', 'CN(C)c1ccc(C(=O)NNc2c(Br)cccc2Br)cc1', 'Cc1cc(/C(N)=N/O)ccc1CNc1ccc(Br)cc1Br', 'CCCNc1ccc(C(=O)Nc2ccc(Br)cc2Br)cn1', 'CNc1ncc(Br)cc1C(=O)N(C)Cc1cccc(Br)c1', 'CCCNc1ccc(C(=O)Nc2c(Br)cccc2Br)cn1', 'Cn1ncc2c1CCCC2NC(=O)c1ccc(Br)cc1Br', 'CN(Cc1ccccc1Br)c1ccc(Br)cc1/C(N)=N/O', 'Cc1[nH]c2ccccc2c1/C=N\\\\NC(=O)[C@@]1(C)CC1(Br)Br', 'CCc1cc(Br)ccc1NC(=O)c1cc(Br)cnc1NC', 'CCNc1ncc(Br)cc1C(=O)Nc1cccc(Br)c1C', 'NC(CC(Nc1ccc(Br)cc1Br)c1ccccc1)=NO', 'CN(Cc1cccc(Br)c1)c1cccc(Br)c1/C(N)=N/O', 'CCNc1ncc(Br)cc1C(=O)Nc1ccc(C)c(Br)c1', 'CNC(=O)Nc1ccc(NCc2ccc(Br)c(Br)c2)cc1', 'CCNC(=O)c1ccc(N)c(Nc2c(Br)cccc2Br)c1', 'O=c1c(Br)c(NCc2ccccc2Br)cnn1CC1CC1', 'CN(Cc1cccc(Br)c1)c1ccc(/C(N)=N/O)c(Br)c1', 'CCCNc1ncccc1C(=O)Nc1cc(Br)ccc1Br', 'CN(Cc1ccc(Br)cc1)c1ccc(/C(N)=N/O)cc1Br', 'CNC(=O)Cc1ccccc1NCc1ncc(Br)cc1Br', 'O=C(CNCc1ncc(Br)cc1Br)NCc1ccccc1', 'CN(C)c1ccc(Br)cc1NC(=O)c1ccc(Br)cc1N', 'CN(C)C(=O)c1ccc(N)c(Nc2c(Br)cccc2Br)c1', 'NNC(c1cccc2c1OCCC2)c1ncc(Br)cc1Br', 'CNc1ncc(Br)cc1C(=O)Nc1cc(C)c(Br)c(C)c1', 'CNc1cc(C)ncc1C(=O)Nc1c(Br)cc(C)cc1Br', 'CCNc1cc(C(=O)Nc2c(Br)cc(C)cc2Br)ccn1', 'CCCNc1cc(C(=O)Nc2cc(Br)ccc2Br)ccn1', 'CCNC(=O)c1ccc(Nc2c(Br)cccc2Br)c(N)c1', 'O=C(CCc1ccccn1)n1c(Br)c(Br)c2c1CCNC2', 'Nc1ccc(Nc2c(Br)cccc2Br)nc1OCC1CC1', 'O=c1c(Br)c(NCc2cccc(Br)c2)cnn1CC1CC1', 'CC(Nc1cccc(NC(N)=O)c1)c1ccc(Br)cc1Br', 'Cc1ccc(C(=O)NCCNc2ncc(Br)cc2Br)cc1', 'CCNc1nc(-c2ccc(Br)c(Br)c2)nc2c1COCC2', 'CCCNc1ccncc1C(=O)Nc1cc(Br)ccc1Br', 'CCCn1ncc(Br)c1C(N)c1cc2cccc(Br)c2o1', 'Cc1nn(-c2ccccn2)c2c1C(=O)C(Br)C(C)(C)C2Br', 'CN(Cc1ccc(Br)cc1)c1cccc(Br)c1/C(N)=N/O', 'Brc1cnc(N2CCC(Oc3cccc(Br)c3)CC2)nc1', 'CNc1ncc(Br)cc1C(=O)N(C)Cc1ccccc1Br', 'CN(C)c1cccc(C(=O)Nc2c(Br)cc(N)cc2Br)c1', 'Cn1ccnc1CN(C(=O)c1cc(Br)cc(Br)c1)C1CC1', 'CNc1ncc(Br)cc1C(=O)NC(C)c1cccc(Br)c1', 'CNc1ncc(Br)cc1C(=O)NC(C)c1ccc(Br)cc1', 'CCC(=O)Nc1ccc(NCc2ncc(Br)cc2Br)cc1', 'CCNc1ncc(Br)cc1C(=O)Nc1cc(C)cc(Br)c1', 'O=C(CCc1ccncc1)n1c(Br)c(Br)c2c1CCNC2', 'CN(C)c1ccc(N)cc1C(=O)Nc1c(Br)cccc1Br', 'CCNc1ncc(Br)cc1C(=O)Nc1cccc(C)c1Br', '[H]/N=C(\\\\C)c1nc(Br)cc(Br)c1NCc1ccc(OC)cc1', 'O=C(c1cc(Br)cc(Br)c1)N1CCCC(c2ccn[nH]2)C1', 'CCNc1ncc(Br)cc1C(=O)Nc1cc(Br)ccc1C', 'O=C(c1ccc(Br)cc1Br)N1CCCC(c2ccn[nH]2)C1', 'CCn1ncc(Br)c1C(NC)c1cc2cccc(Br)c2o1', 'CN(C)c1ccc(C(=O)Nc2c(Br)cccc2Br)cc1N', 'CNC(=O)c1ccc(CNCc2ncc(Br)cc2Br)cc1', 'Cc1cc(Br)ccc1NC(=O)CN(C)c1ccc(Br)cn1', 'N/C(=N/O)C(CNc1c(Br)cccc1Br)c1ccccc1', 'CC(N)c1cccc(NC(=O)Nc2cc(Br)ccc2Br)c1', 'NNC(Cc1cc(Br)cc2c1OCC2)c1ncccc1Br', 'CCn1cc(C=CC(=O)Nc2ccc(Br)cc2Br)c(C)n1', 'CCNC(=O)c1ccc(N)cc1Nc1cc(Br)ccc1Br', 'CCCNc1cccc(C(=O)Nc2ccc(Br)cc2Br)n1', 'CCNC(=O)c1ccc(Nc2cc(Br)ccc2Br)c(N)c1', 'NNCC(O)Cn1c2ccc(Br)cc2c2cc(Br)ccc21', 'CN(C)c1ccc(Br)cc1NC(=O)c1cc(Br)ccc1N', 'Cc1[nH]c2ccccc2c1/C=N/NC(=O)[C@]1(C)CC1(Br)Br', 'CN(C)c1ncc(Br)cc1C(=O)NCc1ccc(Br)cc1', 'NNC(Cc1cc(Br)cc2c1OCC2)c1cncc(Br)c1', 'Cn1ccnc1CN(C(=O)c1cc(Br)ccc1Br)C1CC1', 'CCCNc1ncccc1C(=O)Nc1ccc(Br)cc1Br', 'CC(C)c1cc(C(=O)Nc2cc(Br)ccc2Br)cc(N)n1', 'Brc1cnc(Nc2ccc(C3CNCCO3)cc2)c(Br)c1', 'C[C@@]1(C(=O)Nc2cnn(Cc3ccccc3)c2)CC1(Br)Br', 'CCNC(=O)c1ccc(N)cc1Nc1ccc(Br)cc1Br', 'Cc1cc(Br)c(NC(=O)c2cc(N)cn2C2CC2)c(Br)c1', 'Brc1cc(CNCCCn2cnc3ccccc32)oc1Br', 'CCNc1ncc(Br)cc1C(=O)NCc1ccc(Br)cc1', 'CCCNc1ccc(C(=O)Nc2c(Br)cccc2Br)nc1', 'CC(N)c1ccc(NC(=O)Nc2cc(Br)ccc2Br)cc1', 'CCCNc1ncc(Br)cc1C(=O)Nc1cccc(Br)c1', 'Cc1c(N)cnc(NCc2cc(Br)cc3c2OCC3)c1Br', 'Cc1[nH]nc(N2CC(CBr)CC2=O)c1-c1ccc(Br)cc1', 'CCCNc1ccnc(C(=O)Nc2cc(Br)ccc2Br)c1', 'CC(Nc1ccc(NC(N)=O)cc1)c1ccc(Br)cc1Br', 'CCc1cc(C(=O)Nc2c(Br)cccc2Br)cc(NC)n1', 'CCCNc1ncc(Br)cc1C(=O)Nc1ccccc1Br', 'CN(C)c1ccc(N)cc1C(=O)Nc1ccc(Br)cc1Br', 'CCCNc1cccc(C(=O)Nc2c(Br)cccc2Br)n1', 'CCCNc1cnccc1C(=O)Nc1cc(Br)ccc1Br', 'CN(Cc1ccccc1Br)c1cc(Br)ccc1/C(N)=N/O', 'CCNc1ccc(C(=O)Nc2c(Br)cc(C)cc2Br)nc1', 'CC(N)c1cccc(NC(=O)Nc2ccc(Br)cc2Br)c1', 'Nc1ccc(Nc2ccc(Br)cc2Br)nc1OCC1CC1', 'Cc1[nH]c2ccccc2c1/C=N\\\\NC(=O)C1(C)CC1(Br)Br', 'C[C@]1(C(=O)Nc2cnn(Cc3ccccc3)c2)CC1(Br)Br', 'Cc1[nH]c2ccccc2c1/C=N\\\\NC(=O)[C@]1(C)CC1(Br)Br', 'CC(C)C(C(=O)Nc1ccc(Br)cn1)c1cncc(Br)c1', 'CN(Cc1cccc(Br)c1)c1ccc(/C(N)=N/O)cc1Br', 'NC(=NO)C(CNc1ccc(Br)cc1Br)c1ccccc1', 'CN(Cc1ccccc1Br)c1ccc(/C(N)=N/O)c(Br)c1', 'CCCNc1cnccc1C(=O)Nc1ccc(Br)cc1Br', 'NNC(Cc1cc(Br)cc2c1OCC2)c1ccc(Br)cn1', 'CNC(=O)c1ccc(NCc2ncc(Br)cc2Br)c(C)c1', 'CC(N)c1ccc(NC(=O)Nc2c(Br)cccc2Br)cc1', 'O=C(CCc1ccccn1)N1CCc2[nH]c(Br)c(Br)c2C1', 'CCCNc1cc(C(=O)Nc2c(Br)cccc2Br)ccn1', 'CCNC(=O)c1ccc(Nc2ccc(Br)cc2Br)c(N)c1', 'CNc1nc(C2CC2)nc(Oc2ccc(Br)cc2Br)c1C', 'CNc1ncc(Br)cc1C(=O)N(C)Cc1ccc(Br)cc1', 'CCn1cc(/C=C/C(=O)Nc2ccc(Br)cc2Br)c(C)n1', 'O=C1CC(CBr)CN1c1ccnn1Cc1ccc(Br)cc1', 'O=c1c(Br)c(NCc2ccc(Br)cc2)cnn1CC1CC1', 'CN(C)C(=O)c1ccc(N)c(Nc2cc(Br)ccc2Br)c1', 'CN(C)C(=O)c1cccc(NCc2ncc(Br)cc2Br)c1', 'CC1(C(=O)Nc2cnn(Cc3ccccc3)c2)CC1(Br)Br', 'CCNc1ncc(Br)cc1C(=O)Nc1cc(C)ccc1Br', 'CCc1cc(C(=O)Nc2cc(Br)ccc2Br)cc(NC)n1', 'CCCNc1ccc(C(=O)Nc2cc(Br)ccc2Br)nc1', 'CNc1nc(-c2ccc(OC)c(Br)c2)nc(C2CC2)c1Br', 'CN(C)C(=O)c1ccccc1NCc1ncc(Br)cc1Br', 'CN(C)c1ccc(C(=O)Nc2cc(Br)ccc2Br)cc1N', 'Nc1c(Br)cc(Br)cc1-c1nc(C2CC3CCC2C3)no1', 'CCc1c(C(C)C)[nH]c2nc3cc(Br)c(Br)cc3n2c1=O', 'CCCC(C(=O)Nc1cccc(Br)n1)c1cncc(Br)c1', 'CCn1cc(/C=C\\\\C(=O)Nc2ccc(Br)cc2Br)c(C)n1', 'Cc1ncc(Br)cc1C(=O)N(c1ccc(Br)cn1)C(C)C', 'Nc1ccc(Nc2cc(Br)ccc2Br)nc1OCC1CC1', 'CN(C)c1ccc(Br)cc1NC(=O)c1ccc(Br)c(N)c1', 'Brc1cc(CNC2CC2)cc(Br)c1OCc1ncccn1', 'CCCNc1ccncc1C(=O)Nc1c(Br)cccc1Br', 'CC(=O)Nc1cc(NCc2ncc(Br)cc2Br)ccc1C', 'CCNc1ccncc1C(=O)Nc1c(Br)cc(C)cc1Br', 'CNc1ncc(Br)cc1C(=O)Nc1c(C)cc(Br)cc1C', 'Cc1cc(Br)c(NC(=O)c2ccc(C)cc2NN)c(Br)c1', 'CN(C)C(=O)c1ccc(N)cc1Nc1c(Br)cccc1Br', 'CCNc1ncc(Br)cc1C(=O)Nc1ccc(Br)cc1C', 'CCCc1cc(C(=O)Nc2ccc(Br)cc2Br)cc(N)n1', 'C=CCn1ncc(NC(C)c2cccc(Br)c2)c(Br)c1=O', 'CCNC(=O)c1ccc(NCc2ncc(Br)cc2Br)cc1', 'Nc1ccc(Br)cc1.O=C1NCCN1c1ccc(Br)cc1', 'CCCCn1c(=O)c2nc(Br)n(C)c2c2cc(Br)ccc21', 'Cc1[nH]c2ccccc2c1/C=N/NC(=O)C1(C)CC1(Br)Br', 'CCNc1cnccc1C(=O)Nc1c(Br)cc(C)cc1Br', 'CC(N)c1cccc(NC(=O)Nc2c(Br)cccc2Br)c1', 'CC(=O)N/N=C\\\\c1c(Br)c(C)n(-c2ccc(Br)cc2)c1C', 'CN(Cc1ccc(Br)cc1)c1ccc(Br)cc1/C(N)=N/O', 'CCCCCCCCCCCCCCCCCC(=O)O[C@H](CO)COP(=O)([O-])OCC[N+](C)(C)C', 'CCCCCCCCCCCCCCCCOCC(COP(=O)(OC)OCCN(C)C)OC(C)=O', 'CCCCCCCCCCCCCOCC(COP(=O)([O-])OCC[N+](C)(C)C)OC(=O)CCCC', 'CCCCCCC(=O)CCCCCCCCCOCC(COP(=O)([O-])OCC[N+](C)(C)C)OCC', 'CCCCCCCCCCCCCCCCOC(COC(C)=O)COP(=O)([O-])OCC[N+](C)(C)C', 'CCCCCCCCCCCCCCCOCC(COP(=O)(O)OCCN)OC(=O)CCCCC', 'CCCCCCCCCCCCCCCCC(OP(=O)([O-])OCC[N+](C)(C)C)[C@H](CO)OC(C)=O', 'CCCCCCCCCCCCCCCCOCC(COP(=O)([O-])OCC[N+](C)(C)C)OC(C)=O', 'CCCCCCCCCCCCC(CCC)C(=O)OCCOCCOP(=O)([O-])OCC[N+](C)(C)C', 'CCCCCC(=O)CCCCCCCCCCCOCC(COP(=O)([O-])OCC[N+](C)(C)C)OC', 'CCCCCCCCCCCCCCCC(=O)OC[C@H](COP(=O)([O-])OCC[N+](C)(C)C)OCC', 'CCCCCCCCCCCCCCCC(=O)OCC(COP(=O)([O-])OCC[N+](C)(C)C)OCC', 'CCCCCCCCCCCCCCCCOC[C@H](COP(=O)([O-])OCC[N+](C)(C)C)OC(C)=O', 'CCCCCCCCCCCCCCCCCC(=O)OC[C@H](O)COP(=O)([O-])OCC[N+](C)(C)C', '[2H]C([2H])([2H])[N+](CCOP(=O)([O-])OC[C@H](O)COC(=O)CCCCCCCCCCCCCCCCC)(C([2H])([2H])[2H])C([2H])([2H])[2H]', 'CCCCCCCCCCCC(=O)OC(COCCCCCCCCC)COP(=O)(O)OCCN', 'CCCCCCCCCCCCCCCCCC(=O)CC(O)C(O)C(C[N+](C)(C)C)OP(=O)([O-])O', 'CCCCCCCCCCCCCCCCCC(=O)OCC(O)COP(=O)([O-])OCC[N+](C)(C)C', 'CCCCCCCCCCOCC(COP(=O)([O-])OCC[N+](C)(C)C)OC(=O)CCCCCCC', 'CCCCCCCCCC(=O)OC(COCCCCCCCC)COP(=O)([O-])OCC[N+](C)(C)C', 'CCCCCCCCCCCCCCCOCC(COP(=O)([O-])OCC[N+](C)(C)C)OC(=O)CC', 'CCCCCCCCCCCCCCOCC(COP(=O)([O-])OCC[N+](C)(C)C)OC(=O)CCC', 'CC(C)CCCCCCCCCCCCCCC(=O)C(OP(=O)([O-])OCC[N+](C)(C)C)[C@@H](O)CO', 'CCCCCCCCCCCCCCCCC=COC[C@H](COP(=O)([O-])OCC[N+](C)(C)C)OO', 'CCCCCCCCCCCCCCCCOC[C@H](CO[32P](=O)([O-])OCC[N+](C)(C)C)OC(C)=O', 'CCCCCCCCCCOCC(COP(=O)(O)OCCN)OC(=O)CCCCCCCCCC', '[2H]C([2H])(CCCCCCCC)C([2H])([2H])CCCCCCOC[C@H](COP(=O)([O-])OCC[N+](C)(C)C)OC(C)=O', 'CCCCCCCCCCCCCCCCCOCC(COP(=O)(O)OCCN)OC(=O)CCC', 'CCCCCCCCCCCCCCCCOC[C@@H](COP(=O)([O-])OCC[N+](C)(C)C)OC(C)=O', 'CCCCCCCCCCCC(=O)C(N)C(O)C(=O)CCCCCCCCCCC.O=P(O)(O)O', 'CCCCCCCCCCCCCCCCCCOCC(COP(=O)(O)OCCN)OC(=O)CC', 'CCCCCCCCCCCCCCCCCCO[C@@H](C)C(C)(C)OC(=O)[C@H](C)NOP(=O)(O)O', 'CCCCCCCCCCCCCCCCCCOCCCCOP(=O)(O)O[C@H](C)[C@H](N)C(=O)O', 'CCCCCCCCCCCCCCCCCC(=O)C(C)(O)C(O)C(C[N+](C)(C)C)OP(=O)([O-])O', 'CCCCCCCCCCCCC(CCC)C(=O)OCCOCCC(C[N+](C)(C)C)OP(=O)([O-])O', 'CCCCCCCCCCCCCCCCC(COC(=O)OC)COP(=O)([O-])OCC[N+](C)(C)C', 'CCCCCCCCCCCCCCOCC(COP(=O)(O)OCCN)OC(=O)CCCCCC', 'CCCCCCCCCCCCCCCCCCCCC(=O)OC[C@@H](O)COP(=O)(O)OCCN', 'CCCCCCCCCCCCCCCCCCCCC(=O)OCC(O)COP(=O)(O)OCCN', 'CCCCCCCCCCCCCCCCOCC(COP(=O)(O)OCCN)OC(=O)CCCC', 'CCCCCCCCCCCCCCCCCC1OCC(COP(=O)(O)OCC([O-])[N+](C)(C)C)O1', 'CCCCCCCCCCCCCOCC(COP(=O)(O)OCCN)OC(=O)CCCCCCC', 'CCCCCCCCCCCCCCCCOC[C@H](COP(=O)([O-])OCC[N+](C)(C)[11CH3])OC(C)=O', 'CCCCCCCCCCCOCC(COP(=O)(O)OCCN)OC(=O)CCCCCCCCC', 'CCCCCCCCCCCCCCCCOC[C@H](COC(C)=O)OP(=O)([O-])OCC[N+](C)(C)C', 'CCCCCCCCCCCCCCCCOCC(COP(=O)([O-])OCC[N+](C)(C)C)C(=O)OC', 'CCCCCCCCCCCCCCCCCC(=O)OC[C@@H](O)COP(=O)([O-])OCC[N+](C)(C)C', 'CCCCCCCCCCCC(=O)CCCCCCOCC(O)COP(=O)([O-])OCC[N+](C)(C)C', 'CCCCCCCCCCCCCCCCOCC(OCP(=O)([O-])OCC[N+](C)(C)C)OC(C)=O', 'CCCCCCCCCCCCC(=O)OC(COCCCCCCCC)COP(=O)(O)OCCN', 'CCCCCCCCCCCCOCC(COP(=O)(O)OCCN)OC(=O)CCCCCCCC', '[3H]C(CCCCCCCCCCCCCC)C([3H])OC[C@H](COP(=O)([O-])OCC[N+](C)(C)C)OC(C)=O', 'CCCCCCCCCCCOCC(COP(=O)([O-])OCC[N+](C)(C)C)OC(=O)CCCCCC', 'CCCCCCCCCCCCCCCCCC(=O)C(O)[C@@H](O)COP(=O)([O-])OCC[N+](C)(C)C', 'CCCCCCCCCOCC(COP(=O)([O-])OCC[N+](C)(C)C)OC(=O)CCCCCCCC', '[2H]C([2H])([2H])C([2H])([2H])C([2H])([2H])C([2H])([2H])C([2H])([2H])C([2H])([2H])C([2H])([2H])C([2H])([2H])C([2H])([2H])C([2H])([2H])C([2H])([2H])C([2H])([2H])C([2H])([2H])C([2H])([2H])C([2H])([2H])C([2H])([2H])C([2H])([2H])C(=O)OC[C@@H](O)COP(=O)([O-])OCC[N+](C)(C)C', 'CCCCCCCCCCCCCCO[C@@H](CCCCC)C(C)(C)OC(=O)[C@H](C)NOP(=O)(O)O', 'CCCCCCCCCCCCCCOC[C@H](COP(=O)([O-])OCC[N+](C)(C)C)OC(=O)CCC', 'CCCCCCCCCCCCCCCCC(COP(=O)([O-])OCC[N+](C)(C)C)OC(=O)OCC', 'CCCCCCCCCCC/C=C/CC(CCOC[C@@H](O)COP(=O)([O-])OCC[N+](C)(C)C)OC', 'CCCCCCCCCCCCOCC(COP(=O)([O-])OCC[N+](C)(C)C)OC(=O)CCCCC', 'CCCCCCCCCCCCCCCCCC(=O)C(OP(=O)([O-])OCC[N+](C)(C)C)[C@@H](O)CO', 'CCCCCCCCCCCCCCCCCCCOCC(COP(=O)(O)OCCN)OC(C)=O', '[2H]C([2H])([2H])C(=O)O[C@H](COCCCCCCCCCCCCCCCC)COP(=O)([O-])OCC[N+](C)(C)C', 'CCCCCCCCCCCCCCCCCC(=O)OC[C@H](CO)OP(=O)([O-])OCC[N+](C)(C)C', 'CCCCCCCCCCCCCCCC(=O)COCC(COP(=O)([O-])OCC[N+](C)(C)C)OC', 'CCCCCCCCCCCCCCCCC(COC(=O)OCC)OP(=O)([O-])OCC[N+](C)(C)C', 'C1=CC(=C(C=C1C2=CC(=O)C3=C(C=C(C=C3O2)O)O)O)O', 'O=C(O)/C=C\\\\C(=O)OC(=O)c1ccc(O)c2ccccc12', 'O=C1C(=O)[C@H](c2ccc(O)c(O)c2)Oc2cc(O)ccc21', 'O=COc1ccc(C(=O)c2ccccc2O)c(OC=O)c1', 'O=C1Cc2ccc(O)c(O)c2C(=O)c2c(O)ccc(O)c21', 'O=C(O)c1ccc(C(=O)O)c(-c2ccccc2C(=O)O)c1', '[2H]c1c([2H])c(-c2oc3c([2H])c(O)c([2H])c(=O)c-3c(O)c2[2H])c([2H])c(O)c1O', 'O=C(O)C(=O)Oc1ccc(C(=O)c2ccccc2)c(O)c1', 'O=C(O)c1ccc(OC(=O)c2ccc(C(=O)O)cc2)cc1', 'COC(=O)c1cc(O)cc2oc3cccc(O)c3c(=O)c12', 'COc1c2occc2c(/C=C/C(=O)O)c2ccc(=O)oc12', 'O=C(O)c1cccc(-c2ccc(C(=O)O)cc2C(=O)O)c1', 'CCOC(=O)c1cc2c(=O)oc3ccccc3c2oc1=O', 'O=C(O)c1ccc(-c2ccc(C(=O)O)cc2C(=O)O)cc1', 'Cc1ccc2c(c1)C(=O)c1c(O)c(O)c(O)c(O)c1C2=O', 'COc1ccc2c(c1O)C(=O)c1c(O)ccc(O)c1C2=O', 'O=c1oc2cccc(O)c2c(O)c1-c1cc(O)ccc1O', 'COC1OC(OC=O)=CC2=C1C(=O)c1ccccc1C2=O', 'COc1cc(O)c2c(c1)C(=O)c1cc(O)c(O)cc1C2=O', 'CO[C@@H]1Oc2c(O)ccc3c(=O)oc4c(O)ccc1c4c23', 'O=C(O)c1ccc(-c2ccc(C(=O)O)c3c2OCO3)cc1', 'O=C(O)Cc1cc2ccoc2c(C(=O)c2ccco2)c1O', 'O=C1C=CC(=C2Oc3cc(O)cc(O)c3CC2=O)CC1=O', 'COc1c(O)ccc2c1C(=O)c1c(O)ccc(O)c1C2=O', 'Cc1cc(O)cc2oc3cc(O)c4c(c3c12)[C@@H](O)OC4=O', 'O=C(O)c1cc(O)c2c(c1O)C(O)c1ccccc1C2=O', 'O=C1c2cccc(O)c2C(=O)c2c1cc(O)c(CO)c2O', 'O=C1/C(=C/c2ccc(O)c(O)c2)Oc2ccc(O)c(O)c21', 'O=c1oc(-c2ccc(O)c(O)c2)cc2cc(O)cc(O)c12', 'O=c1cc(-c2ccc(O)cc2O)oc2cc(O)c(O)cc12', 'O=C(OOC(=O)c1ccccc1)c1ccccc1.O=C=O', 'O=c1c(O)c(-c2ccc(O)cc2O)oc2cc(O)ccc12', 'O=c1c(O)c(-c2ccccc2)oc2cc(O)c(O)c(O)c12', 'O=C(O)COc1ccc2oc(-c3ccco3)cc(=O)c2c1', 'O=c1c(O)c(-c2cc(O)c(O)c(O)c2)oc2ccccc12', 'COC(=O)C1=CC2=C(C(=O)c3ccccc3C2=O)[C@@H](O)O1', 'Cc1cc(O)c2c(c1O)C(=O)c1c(O)cc(O)cc1C2=O', 'O=c1oc2cc(O)ccc2c(O)c1-c1cc(O)ccc1O', 'O=C1c2c(O)cccc2C(=O)c2c(O)c(CO)cc(O)c21', 'COC(=O)C#CCOC(=O)C#Cc1ccc2c(c1)OCO2', 'C=C1C(=O)OC(=O)C2CC=C3C(=O)OC(=O)/C(=C/C)C3=C12', 'O=C1/C(=C\\\\c2ccc(O)c(O)c2)Oc2cc(O)cc(O)c21', 'O=C1Oc2ccc(O)cc2C1=Cc1cc(O)c(O)c(O)c1', '[2H]c1c([2H])c(-c2oc3cc(O)c(O)c(O)c3c(=O)c2[2H])c([2H])c([2H])c1O', 'O=c1c(O)c(-c2ccc(O)c(O)c2)oc2c(O)cccc12', 'O=C1C(=Cc2ccc(O)cc2O)Oc2cc(O)cc(O)c21', 'O=C1C=C(O)C(C(=O)/C=C/c2ccc(O)cc2)=C(O)C1=O', 'O=c1c(O)c(-c2ccc(O)cc2)oc2cc(O)c(O)cc12', 'O=C1CCC(=O)c2c1c(O)c1cccc(C(=O)O)c1c2O', 'COc1cccc2c1C(=O)c1cc(O)c(O)c(O)c1C2=O', '[2H]c1c([2H])c([2H])c(-c2oc3cc(O)cc(O)c3c(=O)c2O)c(O)c1[2H]', 'COc1ccc2c(c1C=O)Oc1ccc(O)c(C=O)c1O2', 'CC(=O)OC1OC(=O)c2cc3cccc(C(=O)O)c3cc21', 'O=C(O)c1cccc(-c2ccc(C(=O)O)c(C(=O)O)c2)c1', 'O=C(O)C(=O)c1ccc(Oc2cccc(C(=O)O)c2)cc1', 'O=C1C(=Cc2cc(O)cc(O)c2)Oc2c1ccc(O)c2O', 'O=C(c1ccc(O)cc1)c1oc2cc(O)cc(O)c2c1O', 'COC(=O)c1ccc(C(=O)OC2=CC(=O)C=CC2=O)cc1', 'O=C(O)c1cc(C(=O)O)c(O)c(C(=O)c2ccccc2)c1', 'O=c1c(-c2ccc(O)cc2O)coc2cc(O)cc(O)c12', 'COc1cccc2c(=O)c(C(=O)O)c(-c3ccco3)oc12', 'COOOC12OC1C=CC1=C2C(=O)c2ccccc2C1=O', 'O=C1c2ccccc2C(=O)c2c1cccc2C(O)(O)OO', 'O=C(O)c1ccc(-c2cccc(C(=O)O)c2C(=O)O)cc1', 'O=c1c(O)c(-c2cc(O)ccc2O)oc2ccc(O)cc12', 'C=COc1cc2oc3cc(O)c(O)cc3c(=O)c2cc1O', 'O=c1cc(-c2ccc(O)cc2)oc2c(O)c(O)cc(O)c12', 'O=c1cc(OCc2cc(=O)c(O)co2)c2ccccc2o1', 'O=C1C(=Cc2ccc(O)cc2O)Oc2c1ccc(O)c2O', 'C=CC(=O)Oc1cc2ccccc2c(C(=O)O)c1C(=O)O', 'COC(=O)CC#Cc1ccc2oc(=O)c(C(=O)O)cc2c1', 'Cc1cc(O)c2c(c1)C(=O)C1=CC(O)C(=O)C(=O)C1=C2O', 'C=C1C2=C(OCCO2)C(=O)c2c1oc1cc(O)cc(O)c21', 'O=C(O)C1=C[C@@H]2C(=O)c3cccc(O)c3C(=O)[C@H]2C(O)=C1', 'COc1c(C=O)cc(O)c2oc3cccc(O)c3c(=O)c12', 'O=C1Oc2cc(O)cc(O)c2C2Oc3cc(O)ccc3C12', 'O=C(O)c1cc(OC(=O)c2ccccc2)cc(C(=O)O)c1', 'Cc1ccc2c(c1O)C(=O)c1c(cc(O)c(O)c1O)C2=O', 'O=C(O)Cc1cc2ccoc2c(C(=O)c2ccoc2)c1O', 'COC(=O)c1c(O)ccc2oc3cccc(O)c3c(=O)c12', 'O=c1cc(-c2cccc(O)c2O)oc2c(O)c(O)ccc12', '[2H]Oc1c(-c2ccc(O)cc2)oc2cc(O)cc(O)c2c1=O', 'O=c1cc(-c2cc(O)ccc2O)oc2cc(O)cc(O)c12', 'COc1ccc2c(c1O)C(=O)c1oc(C(C)=O)cc1C2=O', 'O=C1CC(C2C3C4C(=O)OC(=O)C4C4C#CC423)CC(=O)O1', 'Cc1cc(O)cc2oc3cc(O)c4c(c3c12)C(O)OC4=O', 'O=C1C(=O)C(c2cc(O)c(O)cc2O)Oc2ccccc21', 'O=Cc1cccc(-c2cc(C=O)c(O)c(OC(=O)O)c2)c1', 'Cc1cc2c(c(O)c1O)C(=O)c1c(O)cc(O)cc1C2=O', 'O=C1/C(=C/c2ccc(O)c(O)c2O)Oc2cc(O)ccc21', 'O=c1oc2cc(O)c(O)cc2cc1-c1ccc(O)c(O)c1', '[2H]c1c([2H])c(-c2oc3c([2H])c(O)c(O)c(O)c3c(=O)c2[2H])c([2H])c([2H])c1O', 'O=c1cc(-c2cc(O)cc(O)c2)oc2cc(O)cc(O)c12', 'Cc1c(C(=O)O)c(O)cc2oc3cc(O)cc(C=O)c3c12', 'O=C1c2ccc(CO)c(O)c2C(=O)c2cc(O)cc(O)c21', 'O=c1oc2cc(O)cc(O)c2c(O)c1-c1ccc(O)cc1', 'O=c1c(O)c(-c2cccc(O)c2)oc2c(O)c(O)ccc12', 'O=C(O)COc1c(-c2ccco2)oc2ccccc2c1=O', 'O=C(O)c1ccc(-c2ccccc2)c(C(=O)O)c1C(=O)O', 'O=c1cc(-c2ccccc2O)oc2c(O)c(O)c(O)cc12', 'O=c1cc2oc(-c3ccc(O)c(O)c3)c(O)cc-2c(O)c1', 'O=C1c2ccccc2C(=O)C1(O)c1c(O)cc(O)cc1O', 'O=C(O)COc1ccc2c(c1)OC(=Cc1ccco1)C2=O', 'COc1c(O)cc2c(c1O)C(=O)c1c(O)cccc1C2=O', 'O=C1OOCOOC(=O)c2ccccc2-c2ccccc21', 'C#CCOC(=O)Oc1cccc(OC(=O)c2ccco2)c1', 'O=C(c1cc(O)ccc1O)c1oc2cc(O)ccc2c1O', 'O=C(O)c1ccccc1-c1c(C(=O)O)ccc2c1OCO2', 'Cc1c(O)cc2c(c1O)C(=O)c1ccc(O)c(O)c1C2=O', 'O=C(O)c1cc(C(=O)O)c(C(=O)O)c(-c2ccccc2)c1', 'CC(=O)c1c(O)c2c(=O)oc3c(C)cccc3c2oc1=O', 'O=C(O)c1cc(C(=O)O)cc(-c2ccccc2C(=O)O)c1', 'COC(=O)c1ccc2c(c1)Oc1cc(C(=O)O)ccc1O2', 'O=C(O)c1ccc(C(=O)O)c(-c2ccccc2)c1C(=O)O', 'O=C1c2cccc(O)c2C(=O)c2c(O)c(CO)cc(O)c21', 'COc1cc(O)c2c(c1)C(=O)c1c(coc1C(C)=O)C2=O', 'COC(=O)c1ccc(O)c2c1oc1c(C(=O)O)cccc12', 'O=C(O)c1ccc(-c2c(C(=O)O)cccc2C(=O)O)cc1', 'COc1c(O)cc(O)c2c1C(=O)c1cccc(O)c1C2=O', 'COc1ccc2c(c1O)C(=O)c1ccc(O)c(O)c1C2=O', 'O=c1oc2ccc(O)cc2c(O)c1-c1cc(O)ccc1O', 'Cc1cc(O)c2c(c1O)C(=O)c1c(O)ccc(O)c1C2=O', 'CC(=O)C1C(=O)Oc2c(c(=O)oc3cc(C)ccc23)C1=O', 'COc1ccc(Oc2ccc(O)c3c2C(=O)OC3=O)cc1', 'COC(=O)c1cc2c(=O)oc3ccc(C)cc3c2oc1=O', 'Cc1cc(=O)oc2cc(Oc3ccc(C(=O)O)o3)ccc12', 'O=c1c(O)c(-c2ccccc2O)oc2cc(O)cc(O)c12', 'O=C(O)c1ccccc1-c1c(C(=O)O)cccc1C(=O)O', 'CCOC(=O)C#Cc1ccc2oc(C(=O)O)cc(=O)c2c1', 'CCOC(=O)C#Cc1ccc2oc(=O)c(C(=O)O)cc2c1', 'O=C(O)c1cc(C(=O)O)c(-c2ccccc2)c(C(=O)O)c1', 'COc1ccc2oc3ccc(O)c(C(=O)O)c3c(=O)c2c1', 'O=C1c2cc(O)cc(O)c2C(=O)c2c(O)cc(CO)cc21', 'O=C(O)c1cc(O)c2c(c1O)C(=O)c1ccccc1C2O', 'O=c1c(O)c(-c2ccccc2O)oc2c(O)c(O)ccc12', 'O=Cc1ccc(-c2cc(C(=O)O)cc(C(=O)O)c2)cc1O', 'COc1c(O)cc2c(c1O)C(=O)c1cccc(O)c1C2=O', 'O=C1/C(=C/c2ccc(O)cc2)Oc2cc(O)c(O)c(O)c21', 'O=c1oc2cc(O)c(O)c(O)c2c(O)c1-c1ccccc1', 'O=C(O)Cc1cc2cc3cccc(=O)c3c(O)c2c(O)o1', 'Cc1cc(O)cc2c1C(=O)c1c(cc(O)c(O)c1O)C2=O', 'COC1=CC(=O)c2c(cc3cc(C)oc(=O)c3c2O)C1=O', 'O=c1c(O)c(-c2ccc(O)c(O)c2)oc2cccc(O)c12', 'O=C1C=C(O)C2=CC(=O)C(c3ccc(O)c(O)c3)OC2=C1', 'Cc1cc(O)c2c(c1)C(=O)c1c(O)c(O)cc(O)c1C2=O', 'O=C1/C(=C/c2ccc(O)cc2)Oc2c(O)c(O)cc(O)c21', 'CCC12C3(C)C4=CC15C(=O)OC(=O)C52C=C3C(=O)OC4=O', 'O=c1c(-c2ccc(O)cc2)coc2c(O)cc(O)c(O)c12', 'O=C1C(=O)C(c2ccc(O)c(O)c2)Oc2cc(O)ccc21', 'O=C1/C(=C/c2ccc(O)c(O)c2)Oc2cc(O)cc(O)c21', 'COC1=c2c(cc3c4c2=CC=CC4C(=O)OC3=O)OCO1', 'COc1cc2c(cc1OC)C(=O)c1oc(C=O)cc1C2=O', 'O=C(O)c1ccc(OC(=O)c2ccccc2C(=O)O)cc1', 'C=Cc1c(C(=O)O)c(C(=O)O)c(C(=O)O)c2ccccc12', 'Cc1cc2c(c(O)c1O)C(=O)c1cc(O)cc(O)c1C2=O', 'O=c1c(O)c(-c2ccc(O)cc2)oc2c(O)cc(O)cc12', 'O=C(OO)c1cccc(C(=O)c2ccccc2)c1C(=O)O', 'O=c1cc(-c2cc(O)cc(O)c2)oc2cc(O)c(O)cc12', 'O=C(O)OOC(=O)c1ccccc1C(=O)c1ccccc1', 'O=Cc1cc(O)c2c(c1)C(O)c1cc(O)cc(O)c1C2=O', 'O=c1cc(-c2ccc(O)c(O)c2)oc2cc(O)c(O)cc12', 'O=C(O)c1cccc(C(=O)OC(=O)c2ccc(O)cc2)c1', 'O=C(O)c1c(C(=O)O)c2c3c(cccc3c1C(=O)O)CC2', 'O=C(O)COc1cc(O)c2c(=O)c3ccccc3oc2c1', 'O=C(O)c1ccccc1-c1ccc2c(c1C(=O)O)OCO2', 'CO[C@H]1Oc2c(O)ccc3c(=O)oc4c(O)ccc1c4c23', 'O=C1C(=Cc2cc(O)c(O)c(O)c2)Oc2cc(O)ccc21', 'CCC12C3=CC45C(=O)OC(=O)C4(C=C1C(=O)OC3=O)C25C', 'O=c1c(O)c(-c2cccc(O)c2O)oc2cc(O)ccc12', 'Cc1cc(C(=O)O)c2c(=O)c3c(O)cc(O)cc3oc2c1', 'COC1Oc2c(O)ccc3c(=O)oc4c(O)ccc1c4c23', 'O=C1/C(=C/c2ccc(O)cc2O)Oc2c1ccc(O)c2O', 'O=c1c(O)c(-c2ccccc2)oc2c(O)c(O)cc(O)c12', 'O=c1c(O)c(-c2ccc(O)c(O)c2)oc2cc(O)ccc12', 'O=c1c(-c2ccc(O)cc2)coc2c(O)c(O)c(O)cc12', 'O=C1/C(=C/c2cc(O)cc(O)c2)Oc2c1ccc(O)c2O', 'O=C1C(=Cc2ccc(O)cc2)Oc2c(O)c(O)cc(O)c21', 'O=c1c(O)c(-c2ccc(O)cc2)oc2c(O)c(O)ccc12', 'O=c1c(-c2ccc(OO)cc2)coc2cc(O)cc(O)c12', 'O=C(O)c1cc(C(=O)c2ccccc2)c(C(=O)O)cc1O', 'O=C1C(=O)C(c2ccc(O)c(O)c2O)Oc2ccccc21', 'O=C(O)c1cccc2oc3cc(CO)cc(O)c3c(=O)c12', 'O=C(O)c1ccc(COc2ccc3ccc(=O)oc3c2)o1', 'O=c1cc(-c2ccccc2O)oc2c(O)c(O)cc(O)c12', 'COC(=O)c1c(O)ccc2c(=O)c3c(O)cccc3oc12', 'O=c1c(O)c(-c2ccc(O)c(O)c2)oc2ccc(O)cc12', 'O=c1c(O)c(-c2cc(O)cc(O)c2)oc2cc(O)ccc12', 'O=C(O)c1ccc(C(=O)c2ccc(C(=O)O)cc2O)cc1', 'C#CC#CC#CC#CCC(=O)[C@H](O)[C@H]1OC(=O)[C@@H](O)[C@H]1O', 'O=C(O)c1cccc(-c2cccc(C(=O)O)c2C(=O)O)c1', 'O=C1Oc2ccc(O)cc2/C1=C/c1cc(O)c(O)c(O)c1', '[2H]Oc1c(-c2ccc(O)cc2)oc2c([2H])c(O)c([2H])c(O[2H])c2c1=O', 'O=C1C2=C(C(=O)c3ccccc31)C(O)(C(=O)O)C(O)C=C2', 'C#CCOC(=O)Oc1ccccc1OC(=O)c1ccco1', 'O=c1c(O)c(-c2ccc(O)cc2)o[13c]2[13cH][13c](O)[13cH][13c](O)[13c]12', 'COC(=O)c1ccc2oc3c(O)cc(O)cc3c(=O)c2c1', 'O=C1c2c(O)cc(O)cc2OC2Oc3cc(O)ccc3C12', 'CC(=O)OC(=O)c1cc(C(=O)O)c2c(C=O)cccc2c1', 'O=c1oc2c(O)c(O)c(O)cc2cc1-c1ccc(O)cc1', 'O=C(c1ccccc1)c1ccc(O)c(C(=O)O)c1C(=O)O', 'O=c1cc(-c2ccc(O)c(O)c2)c2c(O)cc(O)cc2o1', 'O=C(O)c1ccc(O)c2oc(-c3ccc(O)c(O)c3)cc12', 'O=c1cc(-c2ccccc2O)oc2cc(O)c(O)c(O)c12', 'O=C(O)c1ccc(C(=O)c2ccc(O)c(C(=O)O)c2)cc1', 'O=c1cc(Oc2ccc(O)cc2)oc2cc(O)cc(O)c12', 'O=c1cc(-c2ccc(O)c(O)c2)c2ccc(O)c(O)c2o1', 'Cc1cc(O)c2c(=O)c3c(C(=O)O)c(O)ccc3oc2c1', 'O=c1cc(-c2ccc(O)cc2)oc2cc(O)c(O)c(O)c12', 'O=C(O)C1=CC2C(=O)c3cccc(O)c3C(=O)C2C(O)=C1', 'COC1=c2c3c(cc4c2=COCO4)C(=O)OC(=O)C3=CC1', 'O=c1cc(-c2c(O)cccc2O)oc2cc(O)cc(O)c12', 'OC1=CC2=Cc3oc4cc(O)cc(O)c4c3OC2C=C1O', 'CC(=O)C1C(=O)Oc2c(c(=O)oc3c(C)cccc23)C1=O', 'O=C1C(=O)C(c2ccc(O)cc2)Oc2ccc(O)c(O)c21', 'O=c1c(O)c(-c2ccc(O)cc2O)oc2cccc(O)c12', 'Cc1oc2cc(O)ccc2c(=O)c1-c1ccc(C(=O)O)o1', 'Cc1c(O)cc2c(c1O)C(=O)c1c(O)cc(O)cc1C2=O', 'O=C(O)c1cc(O)c2c(O)c3c(O)cc(O)cc3cc2c1', 'O=c1c(O)c(-c2ccc(O)cc2)oc2c(O)ccc(O)c12', 'O=C(O)c1cc(C(=O)O)c(-c2ccccc2)cc1C(=O)O', 'O=c1c(O)c(-c2ccc(O)cc2)oc2cc(O)cc(O)c12', 'O=c1c(-c2ccc(O)cc2)coc2c(O)c(O)cc(O)c12', 'O=C(O)c1ccc(C(=O)Oc2ccccc2)c(C(=O)O)c1', 'O=c1cc(-c2cc(O)ccc2O)oc2cc(O)c(O)cc12', 'O=c1oc2cc(O)ccc2cc1-c1cc(O)c(O)c(O)c1', 'COc1ccc2c(c1)OC(=O)c1ccc(O)c(C=O)c1O2', 'COc1c(O)cc(O)c2c1C(=O)c1c(O)cccc1C2=O', 'O=C(O)c1ccccc1-c1cccc(C(=O)O)c1C(=O)O', 'O=C(O)c1ccccc1-c1cc2c(cc1C(=O)O)OCO2', 'O=C(O)c1ccc(C(=O)c2ccccc2C(=O)O)c(O)c1', '[2H]c1c([2H])c(-c2oc3c([2H])c(O)ccc3c(=O)c2O)c([2H])c(O)c1O', 'O=C1C2=C(C(=O)c3ccccc31)C(O)(C(=O)O)CC=C2O', 'O=C=C1OC=C(CCOc2ccc3ccc(=O)oc3c2)O1', 'COC1=CC(=O)c2c(oc3c(OC)cccc3c2=O)C1=O', 'Cc1c(O)c(O)c2c(c1O)C(=O)c1c(O)cccc1C2=O', 'O=C1/C(=C/c2cc(O)c(O)c(O)c2)Oc2c(O)cccc21', 'COc1cc(O)c2c3c(c(O)cc(C)c13)C(=O)C(=O)C2=O', 'O=C1/C(=C/c2cc(O)c(O)c(O)c2)Oc2cccc(O)c21', 'O=C1CC2C3CC(C4=C5C=C(C(=O)OC5=O)C43)C2C(=O)O1', 'O=C1/C(=C/c2cc(O)c(O)c(O)c2)Oc2cc(O)ccc21', 'O=C(O)C1=CC(=Cc2ccc(O)c(C(=O)O)c2)C=CC1=O', 'CC(=O)c1c(O)c2c(=O)oc3cc(C)ccc3c2oc1=O', 'O=C1c2cccc(O)c2C(=O)c2c1cc(CO)c(O)c2O', 'O=Cc1cc(C(=O)O)ccc1Oc1ccc(C(=O)O)cc1', '[2H]c1c(O)cc2oc(-c3ccc(O)cc3)c(O)c(=O)c2c1O', 'O=c1oc2cc(O)cc(O)c2cc1-c1ccc(O)c(O)c1', 'O=C(O)OC(=O)Oc1ccc(C(=O)c2ccccc2)cc1', 'Cc1cc(O)c2c(c1O)C(=O)c1ccc(O)c(O)c1C2=O', 'O=C1c2ccc(O)cc2C(=O)c2c(O)c(CO)cc(O)c21', 'Cc1cc(O)c2c(c1O)C(=O)c1cc(O)cc(O)c1C2=O', 'COc1c2c(cc3oc4ccc(O)cc4c(=O)c13)OCO2', 'O=C(O)c1cc2ccccc2c2c1C(=O)OCCOC2=O', 'O=C(O)COc1ccc2occ(C(=O)c3ccco3)c2c1', 'O=C1CC(C2c3ccccc3C3C(=O)OC(=O)C32)C(=O)O1', 'O=C(O)c1ccc(C(=O)Oc2ccccc2C(=O)O)cc1', 'Cc1cc(O)c2c(=O)c3c(C(=O)O)cc(O)cc3oc2c1', 'C1[C@@H]([C@@H](OC2=CC(=CC(=C21)O)O)C3=CC(=C(C=C3)O)O)O', 'COC(=O)C1(O)CCc2oc(=O)c3c(O)cc(C)cc3c21', 'O=C(/C=C/c1ccc2c(c1)OCCO2)O[C@@H]1CCOC1=O', 'Oc1cc(O)c2c(c1)O[C@H](c1ccc(O)c(O)c1)CC2O', 'C=C(C)C(=O)OCCOC(=O)c1ccc2c(c1)COC2=O', 'Oc1ccc(C2Oc3cc(O)c(O)cc3CC2O)cc1O', 'C=CCOC(=O)c1ccc(C(=O)O)cc1C(=O)OCC=C', 'Oc1ccc([C@H]2Oc3c(ccc(O)c3O)[C@@H](O)[C@@H]2O)cc1', 'CCOC(=O)c1c(OC)c(C(=O)O)c(O)c2ccccc12', 'CC(=O)Cc1ccc(O)c2oc(C(=O)CCO)cc(=O)c12', 'COC(=O)[C@]1(O)CCc2oc(=O)c3c(O)cc(C)cc3c21', 'O=C(O)c1c(O)cccc1CCc1cc(O)c(O)cc1O', 'COC(=O)c1ccc(C(=O)c2c(OC)cccc2OC)o1', 'C=C(C)C(=O)Oc1ccc(C(=O)O)cc1OC(=O)C(=C)C', 'Oc1ccc2c(c1)O[C@@H](c1ccc(O)c(O)c1)[C@H](O)[C@H]2O', 'COc1ccc(C(=O)OO)c(-c2cc(O)c(O)cc2C)c1', 'C#Cc1ccc(C2O[C@@H](C(=O)OC)[C@H](C(=O)OC)O2)cc1', 'C[C@H]1O[C@H](C)[C@@H](O)C2=C1C(=O)c1c(O)cc(O)cc1C2=O', 'COc1ccc2c(c1C(C)=O)C[C@@H](/C=C/C(=O)O)OC2=O', 'COc1cc2oc(=O)ccc2cc1[C@H]1O[C@@H](O)[C@]2(C)O[C@H]12', 'O=C(c1ccc(O)cc1O)[C@@H](O)[C@@H](O)c1ccc(O)cc1', 'C=COOCCc1cc2cccc(OCC(=O)C=O)c2o1', 'Oc1ccc(-c2c(O)cc(O)c3c2OCC(O)C3)cc1O', 'C/C(=C\\\\COc1c2c(cc3oc(=O)ccc13)OCO2)CO', 'CC(Oc1ccccc1O)(Oc1ccccc1O)C(=O)O', 'CC(=O)OC1=C(c2ccccc2)C(CCC(=O)O)OC1=O', 'Oc1cc(O)c2c(c1)O[C@H](c1cc(O)c(O)c(O)c1)CC2', 'COC(=O)c1ccc(COC(=O)c2ccc(C)cc2O)o1', 'Cc1oc(C)c(C(=O)O)c1COc1ccccc1C(=O)O', 'O=C(/C=C/C1C(O)=CC(O)(O)C(O)=C1O)c1ccccc1', 'Oc1ccc([C@H]2Oc3c(ccc(O)c3O)[C@H](O)[C@@H]2O)cc1', 'COc1cccc(OC(=O)Oc2ccc(OC)c(O)c2)c1', 'C/C=C1\\\\C(=O)O[C@@]23C=C[C@H]4C(C(=O)OC)=CO[C@@H](O[C@@H]12)[C@@H]43', 'COc1ccc(OC)c(C=CC(=O)C2C(=O)COC2=O)c1', 'COc1cc(O)c2c(c1)C(=O)C1=C(CO[C@](C)(O)C1)C2=O', 'COc1cc(O)c(C(=O)c2cccc(OC)c2O)cc1O', 'C=C(C)C(=O)Oc1cc(OC(=O)C(=C)C)cc(C(=O)O)c1', 'CCc1cc(C(=O)c2ccc(O)cc2O)c(O)c(O)c1O', 'CC(=O)c1cc(C)c(C)c2cc(OCC(=O)O)c(=O)oc12', 'O=C1CC2C3CC(C2C(=O)O1)C1C2CC(C(=O)OC2=O)C31', 'COc1ccc(OC(=O)Oc2c(C)cccc2O)cc1O', 'COC(=O)CC(=O)Cc1cc(=O)c2c(C)cc(O)cc2o1', 'C=C1C(=O)OC2CC3(C)OC3C3O[C@@H]3C3=C[C@@H](OC3=O)C12', 'COc1c(O)cc(C)c2c1Oc1c(O)cc(C)c(O)c1O2', 'C=CC1=C(C(=O)O)C(C=C)(C(=O)O)C(C=C)(C(=O)O)C=C1', 'CC1OC(C)C(O)C2=C1C(=O)c1c(O)cc(O)cc1C2=O', 'O=C1OC(=O)C2=C1C[C@]1(CCO)C(=O)O[C@H]3C1=CCC[C@H]23', 'Oc1ccc2c(c1)O[C@@H](c1cc(O)c(O)c(O)c1)[C@@H](O)C2', 'C=C/C(O)=C(O)\\\\C=C\\\\c1oc(/C=C/O)c(C=C)c(=O)c1O', 'Cc1oc(COCc2ccc3c(c2)OCO3)cc1C(=O)O', 'COC(=O)C(CC=O)c1ccccc1C1CC(=O)OC1=O', 'COC(=O)c1ccc(C(=O)c2cc(OC)cc(OC)c2)o1', 'COc1ccc(C(=O)O)cc1.O=C(O)c1ccccc1O', 'CCOC(=O)C(C(=O)OCC)=C1OC(=O)c2ccccc21', 'COC(=O)c1coc(=O)c(C(O)c2ccc(OC)cc2)c1', 'C=CCc1c(OC(=O)C(=C)C)ccc(C(=O)O)c1C(=O)O', 'Oc1cc(O)c(O)c(C[C@@H]2O[C@@H]2c2ccc(O)c(O)c2)c1', 'CC(=O)OCc1c(OC(C)=O)ccc2c(C)cc(=O)oc12', 'O=C1C2=C(C[C@@H](O)[C@@H](O)C2)C(=O)c2c(O)cc(CO)cc21', 'COc1cc2c(OC(C)=O)ccc(C(=O)O)c2cc1OC', 'Oc1ccc(C2Oc3c(ccc(O)c3O)C[C@H]2O)cc1O', 'CC(C)OC(=O)c1cc(O)c(=O)c2c(O)c(O)ccc2c1', 'Oc1cc2c(cc1O)OCC(c1ccc(O)c(O)c1O)C2', 'C=CCOC(=O)c1cc(C(=O)O)c(C(C)=O)cc1C(C)=O', 'COC(=O)c1cc(OC)c(OC)cc1-c1ccc(C=O)o1', 'CCOc1ccc(C(=O)OCc2cc(=O)c(O)co2)cc1', 'COC1=C(OC)C(=O)C(C)=CC1=O.O=C1C=CC(=O)C=C1', 'COc1ccc2cc(C(C)(OC(=O)O)C(=O)O)ccc2c1', 'COc1ccc2c(CC(=O)O[C@H]3CCOC3=O)coc2c1', 'COC(=O)/C(C)=C1/OC(=O)C(c2ccc(OC)cc2)=C1O', 'COc1ccc(/C=C/C(=O)[C@H]2C(=O)COC2=O)cc1OC', 'COC(=O)c1cccc(C2=C[C@]3(O)C[C@@H](OC3=O)[C@@H]2O)c1', 'COCCOCOc1c2occc2cc2ccc(=O)oc12', 'Oc1cc(O)c2c(c1)O[C@H](c1ccc(O)c(O)c1)C[C@@H]2O', 'C[C@@H]1O[C@H](C)C2=C(C(=O)c3cc(O)cc(O)c3C2=O)[C@H]1O', 'CCOC(=O)C1=C(C)O[C@@]2(O)c3ccccc3C(=O)[C@]12O', 'O=C1OC(=O)[C@H]2[C@@H]1[C@H]1C[C@@H]2C2C[C@H]3C(=O)OC(=O)[C@H]3CC21', 'CCOC(=O)CC(C(=O)c1ccco1)C(=O)c1ccco1', 'COc1ccc2c(c1CO)Oc1ccc(O)c(CO)c1O2', 'COCOc1cc2oc(=O)ccc2cc1[C@H]1O[C@H]1C(C)=O', 'Oc1ccc([C@@H]2Oc3c(ccc(O)c3O)C[C@H]2O)cc1O', 'CC(=O)c1c(OCC2CO2)ccc2c1C(=O)C(C(C)=O)O2', 'C=CCc1cc(C(=O)O)c(C(=O)O)c(CC=C)c1C(=O)O', 'COC1=C2CO[C@@H](CC(=O)O)[C@]2(O)C(=O)c2ccccc21', 'Cc1cc(=O)c2c(O)cc3c(c2o1)C=C[C@@](O)(CO)CO3', 'COc1ccc2c(c1C(C)=O)CC(C=CC(=O)O)OC2=O', 'COC(=O)Oc1cc(C)c(OC(=O)OC)c2ccccc12', 'Oc1cc(O)c2c(c1)OC(c1cc(O)c(O)c(O)c1)CC2', 'O=C(O)c1cc(CC2(O)C=CC=CC2C(=O)O)ccc1O', 'O=C1C2CC=C(O)C=C2OC(c2ccc(O)cc2)C1(O)O', 'Cc1cc(O)c(O)c(Oc2cc(C)c(C(=O)O)c(O)c2)c1', 'CC1(CCOc2ccc3ccc(=O)oc3c2)COC(=O)O1', 'COc1c(OO)ccc(C(=O)O)c1OCc1ccccc1', 'COC(=O)C1C(C(=O)OC)[C@@H]2c3cc4c(cc3C12)OCO4', 'COc1cc2oc(=O)ccc2cc1[C@@H]1O[C@H](O)[C@@]2(C)O[C@@H]12', 'CCOc1cc(O)cc(O)c1C(=O)c1ccc(O)cc1O', 'COC(=O)c1ccoc1COc1ccc(C=O)cc1OC', 'Cc1cccc(COC(=O)c2cc(O)c(O)c(O)c2)c1O', 'O=C1CC(=O)C2C(c3ccc(O)c(O)c3)C3CC1C2(O)O3', 'O=C1C=C(O)C2C[C@H](O)C(c3ccc(O)c(O)c3)C1C2=O', 'C[C@@H]1O[C@H](C)C2=C(C(=O)c3cc(O)cc(O)c3C2=O)[C@@H]1O', 'COC(=O)C1=CCC(=O)C=C1.O=C1C=CC(C(=O)O)=CC1', 'O=C(O)[C@@H]1[C@@H]2O[C@@](CO)(C=CC2=O)[C@H]1c1ccc(O)cc1', 'COc1cc(OC)c2c(c1)C(=O)C(=O)C(CC(C)=O)=C2O', 'C=C(CO)C1COc2cc3oc(=O)ccc3c(OC)c2O1', 'COC(=O)c1c(C(=O)OC)c(OC)c2ccccc2c1O', 'O=C[C@H](O)[C@@H](O)COc1cc2ccccc2cc1C(=O)O', 'Oc1ccc([C@H]2Oc3cc(O)cc(O)c3[C@H](O)[C@H]2O)cc1', 'Oc1cccc([C@H]2Oc3cc(O)cc(O)c3C(O)[C@H]2O)c1', 'O=C(O)c1ccccc1.O=C(O)c1ccccc1.O=CO', 'CCOC(=O)c1ccc(CC(=O)c2ccc(O)cc2O)o1', 'COC(=O)c1ccc2c(c1)[C@H]1OC(=O)C[C@@]1(C(=O)OC)C2', 'COC(=O)c1ccc(COc2ccccc2C(=O)OC)o1', 'O=CCCCCCOC(=O)c1ccc2c(c1)C(=O)OC2=O', 'COC1=CC(=O)c2c(cc3c(c2O)COC(C)(O)C3)C1=O', 'COc1cc([C@H](C=O)c2c(O)cc(O)cc2O)ccc1O', 'COC(=O)/C=C/C=C(\\\\C(=O)OC)c1ccc2c(c1)OCO2', 'COc1ccc([C@@H]2CC3C(=O)C(O)=CC(O)=C3O2)cc1O', 'O=CC1(O)C(O)=C(O)C=CC1C(=O)C(O)c1ccccc1', 'COc1cc(C=Cc2cc(O)cc(=O)o2)cc(OC)c1O', 'COC(=O)CC1OC(=O)C=C1C=Cc1cc(O)cc(O)c1', 'CC(C)C(=O)COc1cc2c(c3oc(=O)ccc13)OCO2', 'COC1=C2c3cc(OC)cc(O)c3C(=O)OC2(C)CC1=O', 'COC(=O)C=CC(=O)CC(=O)COC(=O)c1ccccc1', 'O=C1C=CC(OCOC(O)O)=C2Oc3ccccc3CC12', 'COC(=O)/C(=C1/OC(=O)C(C)=C1O)c1ccc(OC)cc1', 'C/C=C(/C(=O)OC(C)=O)C(=O)C1=C(C)C(=O)C(C)=CC1=O', 'COCCOC(=O)c1cccc(OC(=O)c2ccco2)c1', 'CCOC(=O)c1cc(C(=O)O)c(OCO)c2ccccc12', 'O=C(OCCc1ccc(O)cc1)c1cc(O)c(O)c(O)c1', 'O=C(O)C[C@H](OC(=O)/C=C/C=C/c1ccccc1)C(=O)O', 'C=C(C)C(=O)Oc1cccc(C(=O)O)c1OC(=O)C(=C)C', 'CC12C=CC(CC(C(=O)O)C(=O)O)(OO1)c1ccccc12', 'C=C(C)C(=O)OC1CC(C(=O)Oc2ccccc2)OC1=O', 'Oc1ccc([C@H]2Oc3cc(O)c(O)cc3C[C@H]2O)cc1O', 'C/C=C1/C(=O)O[C@]23C=C[C@@H]4C(C(=O)OC)=CO[C@H](O[C@H]12)[C@@H]43', 'COc1ccc(C(=O)Cc2ccc(O)c(O)c2)c(O)c1O', 'COC(=O)C1(C)OC(=O)C(C)=C1OC(=O)c1ccccc1', 'COCc1cc(=O)c2c(OC)c3ccoc3c(OC)c2o1', 'COc1cc(O)c(C=O)c2oc(C)c(CC(C)=O)c(=O)c12', 'COC(=O)[C@@H]1C[C@@H](C(=O)OC)C(=O)c2ccccc2C1=O', 'CC(=O)Oc1ccc(OC(C)=O)c2c1C(=O)CCCC2=O', 'COc1ccc(OC)c(/C=C/C(O)=C2\\\\C(=O)COC2=O)c1', 'CC1=CC=C(C(=O)O)C(=O)C1.O=C(O)c1ccccc1O', 'COC(=O)c1ccoc1COC(=O)c1cc(C)ccc1O', 'CCOC(=O)c1ccoc1COC(=O)c1cccc(O)c1', 'O=C(O)c1cccc(CC2(O)C=CC=CC2C(=O)O)c1O', 'C=C1C(=O)OC2CC3(C)OC3C3OC3C3=CC(OC3=O)C12', 'COc1ccc2ccc(=O)oc2c1[C@@H]1O[C@@H](O)[C@@]2(C)O[C@@H]12', 'C=C(C)C(=O)OC(=O)c1c(CCC=O)cccc1C(=O)O', 'Oc1ccc(C2(O)CCc3c(O)cc(O)cc3O2)c(O)c1', 'COc1c(O)cc2cc3c(c(O)c2c1OC)C(C)OC3=O', 'CC1=CC(=O)O[C@H]1COC(=O)/C=C/c1ccc(O)c(O)c1', 'O=C(O)/C=C/C(=O)O.O=C(O)/C=C/C=C/c1ccccc1', 'C=C1C(=O)O[C@H]2C[C@@]3(C)O[C@H]3[C@H]3O[C@@H]3C3=C[C@H](OC3=O)[C@@H]12', 'CC(CO)(CO)C(=O)OC1=CC(=O)c2ccccc2C1=O', 'Cc1cc(C(=O)O)ccc1C=C1C(=O)OC(C)(C)OC1=O', 'O=C(O)CCC(=O)O.O=C(O)c1cccc2ccccc12', 'COC1=CC(=O)c2c(cc3c(c2O)CO[C@@](C)(O)C3)C1=O', 'O.O=C1CC(c2ccc(O)cc2)Oc2cc(O)cc(O)c21', 'COC(=O)c1occ(CO)c(=O)c1OCc1ccccc1', 'CC1(O)Cc2c(O)c3c(c(O)c2CC1O)C(=O)C=CC3=O', 'COC(=O)c1ccccc1C=C1C(=O)OC(C)(C)OC1=O', 'O=C1C=C(O)C2CC(O)C(c3ccc(O)c(O)c3)C1C2=O', 'COc1cc2oc(=O)ccc2cc1[C@H]1O[C@@H](O)[C@@]2(C)O[C@H]12', 'COc1ccc(OC)c(/C=C/C(O)=C2C(=O)COC2=O)c1', 'O=C1C[C@@]23CC[C@@H](O)[C@@]2(COC3=O)c2c(O)ccc(O)c21', 'O=C1C=CC=C(O)C1=O.Oc1cc(O)c2c(c1)OCCC2', 'Cc1cc(O)c2c(c1)C(=O)C1=C(C2=O)[C@H](O)[C@@H](O)[C@@H](O)C1', 'Cc1cc(=O)c2c(O)c3c(cc2o1)OCC(O)(CO)C=C3', 'C/C=C1\\\\C(=O)O[C@]23C=C[C@@H]4C(C(=O)OC)=CO[C@H](O[C@@H]12)[C@@H]43', 'COC(=O)c1cc2ccc(=O)oc2cc1OC(=O)C(C)C', 'COC(=O)C[C@@H](O)CC1=CC(=O)c2c(O)cccc2C1=O', 'CCOC(=O)Oc1cc2c(cc1OCC)C(=O)C=CC2=O', 'C[C@]1(O)CC(=O)C=C(/C=C/c2ccc(O)c(O)c2)OC1=O', 'CCC(=O)Oc1cccc2c1C(=O)C(OC(=O)CC)C2=O', 'Oc1ccc(C2(c3ccc(O)cc3O)OCCO2)c(O)c1', 'CC1=C(C[C@H](O)CC(=O)O)C(=O)c2cccc(O)c2C1=O', 'COC(=O)c1cc(COC(=O)c2cccc(O)c2)oc1C', 'Oc1cc(O)c(/C=C/C(O)c2cccc(O)c2O)c(O)c1', 'CC1Cc2c(O)c3c(c(O)c2C(C)O1)C(O)=CC(=O)C3=O', 'COc1cccc(C(Cc2ccc(C(=O)O)o2)C(=O)O)c1', 'O=C(O)COc1ccccc1.O=C(O)c1ccccc1O', 'COc1c2ccoc2c(OCCO)c2oc(C)cc(=O)c12', 'CCOC(=O)C1(C(=O)OCC)C(=O)c2ccccc2C1=O', 'Oc1cc(O)c2c(c1)OC(O)(c1ccccc1)C(O)C2O', 'COc1ccccc1C(=O)Oc1ccccc1.O=C(O)O', 'Oc1cc(O)c2c(c1)O[C@@H](c1ccc(O)c(O)c1)C[C@@H]2O', 'COc1c(O)cc(C(=O)O)cc1Oc1cc(C)cc(O)c1', 'COc1c(C(C)=O)cc2oc(C)c(C(=O)O)c2c1C(C)=O', 'C=c1c(O)c2c(O)cc(OC)c(O)c2c(O)c1=CC(C)=O', 'COC(=O)c1ccc2cc(O)c(OC)cc2c1C(=O)OC', 'C/C(=C\\\\OC(=O)/C=C\\\\C(=O)O)C(=O)OCc1ccccc1', 'COC(=O)/C=C\\\\C=C(\\\\C(=O)OC)c1ccc2c(c1)OCO2', 'O=C(c1ccc(O)c(O)c1)[C@@H](CO)c1ccc(O)c(O)c1', 'Oc1ccc([C@H]2Oc3cc(O)cc(O)c3[C@H](O)[C@@H]2O)cc1', 'C/C=C1/C(=O)OC23C=C[C@@H]4C(C(=O)OC)=CO[C@H](O[C@@H]12)[C@@H]43', 'COc1cccc2c(O)c(COC=O)c(C(C)=O)c(O)c12', 'O=C(c1c(O)cc(O)cc1O)C(O)Cc1ccc(O)cc1', 'O=C(CCc1ccc(O)c(O)c1)c1c(O)cc(O)cc1O', 'COC1=CC(=O)C=CC1=O.COc1cc(C=O)ccc1O', 'COC(=O)c1cc2cccc(OC)c2c(O)c1C(=O)OC', 'COc1cc(C)c(C(=O)Cc2ccc(C(=O)O)o2)c(O)c1', 'CCC(=O)c1c(OCC(=O)O)ccc2c(C)cc(=O)oc12', 'O=C(C=CC1C=CC(O)=C(O)C1)c1ccc(O)c(O)c1O', 'Cc1cc(C(=O)O)ccc1O.O=C(O)c1ccc(O)cc1', 'Oc1ccc(C2Oc3cc(O)cc(O)c3CC2(O)O)cc1', 'Cc1cc(O)cc(O)c1C(=O)c1c(O)cc(O)c(O)c1C', 'CCOC1(C)Oc2cc3cccc(O)c(=O)c3c(O)c2O1', 'Oc1cc(O)c2c(c1)OC(c1cccc(O)c1O)C(O)C2', 'C=C(C)C(=O)Oc1ccc(OC(=O)C(=C)C)c(C(=O)O)c1', 'C=C1C(=O)O[C@@H]2C[C@]3(C)O[C@H]3[C@H]3O[C@@H]3C3=C[C@H](OC3=O)[C@@H]12', 'COc1ccc(/C=C/c2oc(CO)cc(=O)c2O)cc1O', 'CC(=O)CC(=O)OCCOc1cc(=O)oc2ccccc12', 'O=C1CC(C2OCCO2)=C(COC(=O)c2ccccc2)O1', 'Oc1ccc([C@@H]2Oc3cc(O)cc(O)c3[C@@H](O)[C@H]2O)cc1', 'CCOc1cc(C(=O)O)c(-c2ccc(C=O)o2)cc1OC', 'COc1cc(O)cc(OC)c1C(=O)c1ccc(O)c(O)c1', 'O=C(OCCc1cccc(O)c1)c1cc(O)c(O)c(O)c1', 'Oc1cc(O)c2c(c1)CC(c1ccc(O)c(O)c1)C(O)O2', 'O=C(O)c1cc(Cc2ccc(O)c(C(O)O)c2)ccc1O', 'COc1cc2oc(=O)ccc2cc1[C@H]1OC(O)[C@]2(C)OC12', 'COC(=O)c1ccc([C@@H](C)OC(=O)c2ccc(O)cc2)o1', 'COC(=O)Cc1cc(OC)c(O)c(-c2ccc(C=O)o2)c1', 'COC(=O)C(=O)CC(=O)c1c(C)oc2ccc(OC)cc12', 'COC(=O)c1ccc(OCc2occc2C(=O)OC)cc1', 'Oc1cc(O)c2c(c1)O[C@H](c1c(O)cccc1O)[C@@H](O)C2', 'COC(=O)CCc1oc2cc(C)cc(O)c2c(=O)c1C=O', 'COC(=O)C1=C(C(=O)OC)C2(OC)OC1c1ccccc12', 'O=C(O)/C=C/c1ccc(O)c(O)c1.Oc1ccc(O)cc1', 'C=C(C)C(=O)OCC1CO1.O=C1OC(=O)c2ccccc21', 'C/C=C1/C(=O)OC23C=CC4C(C(=O)OC)=COC(OC12)C43', 'COc1cc2c(=O)oc3c(c2c(OC)c1OC)CCC3=O', 'CCOC(=O)C1=Cc2c(OC)ccc(OC)c2C(=O)C1=O', 'CC=C1C(=O)O[C@@]23C=C[C@H]4C(C(=O)OC)=CO[C@@H](O[C@H]12)[C@H]43', 'COC1=CC(=O)c2c(C)cc(O)c3c2C1C(OC)OC3=O', 'COc1ccc2c(c1)CC(=O)C(C=C(C(C)=O)C(=O)O)O2', 'Oc1ccc2c(c1)OCC(c1cc(O)c(O)c(O)c1O)C2', 'O=C1c2c(O)cc(O)cc2OC[C@H]1O.Oc1ccccc1', 'C/C=C1/C(=O)O[C@]23C=CC4C(C(=O)OC)=COC(O[C@@H]12)C43', 'O=C1C[C@@]23C(=O)OC[C@@]2(CC[C@H]3O)c2c(O)ccc(O)c21', 'COC(=O)C1(C(=O)OC)C=C1c1ccccc1OC(C)=O', 'CCCCC(=O)Oc1ccc2cc(C(=O)O)c(=O)oc2c1', 'COC(=O)c1cccc(OCc2ccc(C(=O)OC)o2)c1', 'COC(=O)c1coc(-c2ccc(OC)cc2)c1C(=O)OC', 'COc1ccc(C(=O)Oc2c(C)occc2=O)cc1OC', 'Oc1ccc([C@H]2Oc3cccc(O)c3[C@H](O)[C@H]2O)c(O)c1', 'CC1(C)OC1COc1cc2oc(=O)ccc2c2c1OCO2', 'COc1ccc(C(=O)COC(=O)c2ccco2)c(OC)c1', 'Oc1cc(O)c2c(c1)O[C@@H](c1cc(O)ccc1O)[C@@H](O)C2', 'CC(=O)Oc1cccc2c1C(=O)C(OC(=O)C(C)C)C2=O', 'COc1cc2c(cc1OC(C)=O)C(=O)C1COC(=O)C1C2', 'CCOC(=O)Cc1c(C)c2cc3c(cc2oc1=O)OCO3', 'COC(=O)c1ccc(C(C)Oc2ccc3c(c2)OCO3)o1', 'COc1cc(O)c2c(O)c3c(cc2c1O)C[C@H](C)OC3=O', 'C=CCOC(=O)c1c(C=O)c(OC)c2occc2c1OC', 'COC1=CC2=C(C(=C1)OC)C(=O)C=C(O2)CC(CCCCC(=O)O)O', 'COC(=O)/C=C(\\\\CC1OC2C(O)CO[C@@H]2C(O)C1O)c1ccccc1', 'COc1cc(Oc2cc(OC)c(OC)c(OC)c2)cc(OC)c1OC', 'C=C(C)C(=O)OCC(CC(=O)Oc1ccc(C(=O)OCC)cc1)OC', 'C#CCO[C@H](C)c1cc(OC)c(OC)c(OC)c1C(=O)CCC(=O)O', 'C=C(C)C(=O)OC1C2CC3C1OC(=O)C3C2C(=O)OC1CCCCO1', 'CCCCCCCOc1c(O)c2ccc(OCC(=O)O)cc2oc1=O', 'COC(=O)C[C@H]1[C@H]2OC(C)(C)O[C@H]2O[C@@H]1COC(=O)c1ccccc1', 'COc1ccccc1OC(CO)C(O)c1cc(OC)c(O)c(OC)c1', 'COC(=O)[C@H]1CC=CC[C@H]1C(=O)OC.O=C1OC(=O)[C@@H]2CC=CC[C@H]12', 'COc1c2c(cc3oc(CO)c(CCO)c(=O)c13)OC(C(C)(C)O)C2', 'COc1c(C)c2c(c(OC)c1CC=C(C)[C@@H](O)CC(=O)O)C(=O)OC2', 'COC(=O)C(C/C=C/COC(C)=O)(Cc1ccc(O)cc1)C(=O)OC', 'C=Cc1cc(OC2CCC[C@@H](CO)O2)c(O)c(O)c1C(=O)/C(O)=C\\\\C', 'C/C=C/c1cc(O)cc(O)c1C(=O)OC(C)C/C=C\\\\C(=O)[C@@H](O)CO', 'COCOC(=O)C1CCC(C(=O)Oc2ccc(C(=O)OC)cc2)CC1', 'C=C(C)C(=O)OC1C2CC3C(=O)OC1C3(C(=O)OC1CCCCO1)C2', 'CO[C@@H]1O[C@H]2[C@@H](O[C@H](c3ccccc3)C[C@H]2OC(C)=O)[C@H]1OC(C)=O', 'CCOc1c(O)c2ccc(OCCC3COC(C)(C)O3)cc2oc1=O', 'C=CC(=O)OCCCCCCOC(=O)Oc1ccc(C(=O)OC)cc1', 'COc1ccc([C@@H](O)[C@H](O)c2cc(OC)c(OC)c(OC)c2)cc1O', 'C#CCO[C@H]1[C@@H](O)[C@@H](CO)O[C@@]2(CCc3cc(OC)ccc3O2)[C@@H]1O', 'CCCCCCOc1c(O)c2cccc(OCCC(=O)O)c2oc1=O', 'CC[C@H]1O[C@H]2O[C@@H]3CO[C@H](c4ccccc4)O[C@@H]3[C@H](OC(C)=O)[C@H]2O1', 'CCCOc1ccc(C2C(C(=O)O)C(=O)CC(C)(O)C2C(=O)O)cc1', 'O=C1CC2(CCCC2)OC(=O)C1CC1C(=O)OC2(CCCC2)OC1=O', 'CCC(COC(=O)/C=C/C(=O)O)Oc1ccc(C(=O)C(C)(C)O)cc1', 'CC=C(C)C(=O)O[C@@H](C)[C@H](OC(C)=O)c1cc(OC)c2c(c1)OCO2', 'CC.CC1(C)OC2O[C@@H]3C(OC(=O)c4ccccc4)C(=O)O[C@@H]3C2O1', 'O=C(CC1CC=C(C(=O)O)CC1)OC(=O)CC1CC=C(C(=O)O)CC1', 'C=CCC1C(OCOC)CC2Oc3c(OCC(=O)O)cccc3OC21', 'CCOC(=O)/C=C/C=C(/O[C@H]1OC[C@@H](O)[C@H](O)[C@H]1O)c1ccccc1', 'CCc1oc(=O)cc2c1C[C@H]1OC(=O)[C@@]3(C)[C@@H](O)[C@H]4O[C@H]4[C@@]2(C)[C@@H]13.O', 'CCOC(=O)CC1(C(=O)OCC)CC2=CC=C(C(=O)OC)CC2C1=O', 'CC1(C)O[C@H]2[C@@H](O1)[C@H](C(=O)Oc1ccccc1)O[C@@H]1OC(C)(C)O[C@@H]12', 'CCCCOc1c(O)c2cc(OCCCCC(=O)O)ccc2oc1=O', 'C[C@H]1C/C=C\\\\[C@H](O)[C@H]2CC[C@H](O2)[C@H](O)c2cc(O)cc(O)c2C(=O)O1', 'CC(C)(CC1=C(OCc2ccccc2)[C@@H]([C@@H](O)CO)OC1=O)C(=O)O', 'Cc1c(C)c2c(c(C)c1OC(=O)CCC(=O)O)CCC(C)(C(=O)O)O2', 'CC(=O)O.CC(=O)O.COc1cc(C#CCO)c(C)cc1C#CCO', 'C[C@H]1CCCC(=O)[C@@H](O)[C@H](O)C/C=C/c2cc(O)cc(O)c2C(=O)O1', 'COc1c(O)ccc2c1OCC(C1C(=O)CC(OC)C(=O)C1OC)C2', 'COc1c(C)c2c(c(O)c1CC=C(C)C(CC(=O)O)OC)C(=O)OC2', 'C=C(CO)C(=O)OC1CC(=C)C2CC(O)C(O)C2C2OC(=O)C(=C)C12', 'CC(=O)OC[C@@]1(O)C[C@@H](OC(C)=O)[C@@H]2OC(c3ccccc3)O[C@@H]2C1', 'C=C(C)C(=O)OC(CCC)C(=O)Oc1cc(C(=O)OCC)ccc1O', 'CCC(COC(=O)/C=C\\\\C(=O)O)Oc1ccc(C(=O)C(C)(C)O)cc1', 'COc1c(C)c2c(c(O)c1CC=C(C)CCC(=O)O)C(=O)O[C@@H]2OC', 'CC(C)C1OC(=O)C2=C1C(O)C1OC(=O)C3(C)C(O)C4OC4C2(C)C13', 'COC(=O)C(CCc1ccc(C(=O)CCCC(=O)O)cc1)C(=O)OC', 'OCC(O)C(Oc1ccccc1)OC(Oc1ccccc1)C(O)CO', 'CCOC1C=CC(O)C(OC(C)=O)C1(O)COC(=O)c1ccccc1', 'O=C(/C=C\\\\C(=O)OC(=O)C1CCC2OC2C1)OCC1CCC2OC2C1', 'COc1cc(O)c([C@@H]2C=C[C@H](OC(C)=O)[C@@H](COC(C)=O)O2)cc1C', 'COC(=O)[C@H]1C(=O)C[C@@](C)(O)[C@H](C(=O)OC)[C@@H]1c1cccc(OC)c1', 'CCOC(=O)C(=O)CC(=O)c1ccc(OCC2COC(C)(C)O2)cc1', 'C=C1C(=O)O[C@@H]2/C=C(\\\\CO)CC/C=C(\\\\C)C[C@H](OC(=O)C(=O)CO)[C@@H]12', 'CC(=O)O[C@@H]1[C@@H](OC(C)=O)[C@@H](c2ccccc2)O[C@@H](C)[C@H]1OC(C)=O', 'O=C(O)C1=C(C(=O)OC(=O)C2=C(C(=O)O)CCCCC2)CCCCC1', 'CC(=O)O[C@@H]1[C@@H](OC(C)=O)[C@H](C)O[C@@H](c2ccccc2)[C@@H]1OC(C)=O', 'Cc1cc(=O)oc2c3c(ccc12)OCCOCCOCCOCCO3', 'C#Cc1c(OCC)cc(OCC(=O)OCC)cc1OCC(=O)OCC', 'C=CC(=O)OCCCCCCOc1ccc(OC=O)cc1C(=O)OC', 'COc1ccc([C@H](O)[C@@H](O)c2cc(OC)c(OC)c(OC)c2)cc1O', 'COc1c(C)c(OC)c(OC)c(Oc2ccc(C)c(O)c2O)c1OC', 'CCOC(=O)OC[C@H]1O[C@H](c2ccccc2)C=C[C@H]1OC(=O)OCC', 'COC(=O)C(Cc1ccccc1)(C(=O)OC)[C@@H](/C=C/CO)OC(C)=O', 'C[C@]1(C(=O)OC(=O)[C@]2(C)CC=C[C@H](C(=O)O)C2)CC=C[C@@H](C(=O)O)C1', 'CCOC(=O)C1(C(=O)OCC)OC(=O)c2ccccc2C1(O)C(C)C', 'CCOC(=O)C(C(=O)OCC)(c1ccccc1)[C@@H]1CC(=O)O[C@H]1OC', 'COc1c2c(cc(OC(C)=O)c1C(C)=O)OC(C)(C)C(OC(C)=O)C2', 'C[C@H]1C/C=C/[C@H](O)[C@@H](O)[C@@H](O)C/C=C/c2cc(O)cc(O)c2C(=O)O1', 'C[C@@H]1C[C@@H](O)[C@@H]2CC[C@H](CC(=O)Cc3cc(O)cc(O)c3C(=O)O1)O2', 'O=C(O)C1(CO)C(=O)C[C@@H](O)[C@@H]1/C=C/[C@@H](O)CCOc1ccccc1', 'C/C(C(=O)O)=C(/C)C(=O)OCCOc1ccc(C(=O)C(C)(C)O)cc1', 'C=C(C)C(=O)OCC(=O)OCC(=O)OC12CC3CC(C1)C(=O)C(C3)C2', 'CC1(C)O[C@@H]2O[C@H](C(=O)Oc3ccccc3)[C@@H]3OC(C)(C)O[C@@H]3[C@@H]2O1', 'C=CCCC(=C)C(=O)OC(=O)C(=C)CCC=C.O=C(O)/C=C\\\\C(=O)O', 'C=C(CC(=O)OCc1ccc(OCC2CO2)c(OC)c1)C(=O)OCC', 'COC1(C)Cc2c(C=O)c(OC/C=C(\\\\C)CO)c(C)c(O)c2C(=O)O1', 'CC1(C)O[C@@H](COC(=O)c2ccccc2)[C@H](C(=O)CC2OCCO2)O1', 'COc1cc(C(O)C(O)c2cc(OC)c(O)c(OC)c2)cc(C)c1O', 'COc1cc(O)c2c(c1)/C=C/C[C@@H](O)[C@H](O)C(O)/C=C/CCOC2=O', 'COC(=O)[C@H]1C(=O)C[C@](C)(O)[C@@H](C(=O)OC)[C@@H]1c1cccc(OC)c1', 'COC(=O)[C@@H](OC(=O)c1ccccc1)[C@@]1(OC)CC(=O)[C@@H](C)[C@@H](C)O1', 'C=C(CC(=O)O)C(=O)OCC(C)Oc1ccc(C(=O)C(C)(C)O)cc1', 'CC1O[C@@H]2[C@@H](OC(=O)c3ccccc3)[C@@H]3OC(C)(C)O[C@H]3[C@H](O)[C@H]2O1', 'CC(C)Oc1ccc(C2C(C(=O)O)C(=O)CC(C)(O)C2C(=O)O)cc1', 'COc1ccc(OC)c2c1CC(OC(C)=O)(C(C)=O)CC21OCCO1', 'CCOC(=O)[C@@H](O)[C@@]12C=C[C@@H](C(C(=O)OC)=C1C(=O)OC)C2=C(C)C', 'COC(O)(OC)c1ccccc1.COc1cc(CC(=O)O)ccc1O', 'COc1ccc(C(O)C(O)c2cc(OC)c(OC)c(OC)c2)cc1O', 'C=C(Cc1cc(C)c([C@H]2OC(=O)C[C@@H]2C2OCCO2)o1)C(=O)OCC', 'C=C1[C@@H](OC(C)=O)C[C@@H](O)C2CCC3=C(COC(C)=O)C(=O)O[C@@H]3[C@@H]12', 'CCc1cc(=O)oc2cc(OC(CO)OC3(O)CC(O)C3C)ccc12', 'COC(=O)C(C(=O)OC)C(CC(=O)C(=O)OC(C)C)c1ccccc1', 'COC(=O)CC1Cc2c(C)c(OC(=O)CCC(=O)O)c(C)c(C)c2O1', 'C[C@H]1CCCC(=O)[C@@H](O)[C@@H](O)C/C=C/c2cc(O)cc(O)c2C(=O)O1', 'C=CCO[C@H]1O[C@@H]2COC(c3ccccc3)O[C@H]2[C@H](OC(C)=O)[C@H]1O', 'COC(=O)[C@@]1(O)C[C@@H](OC(=O)c2ccccc2)[C@@H]2OC(C)(C)O[C@@H]2C1', 'COC1=CC(=O)C=C(OC)C1(OC)c1cc(OC)c(OC)cc1OC', 'COc1ccc(C23C[C@@]4(O)[C@H](O[C@@H]5OC(C)(C)O[C@@H]54)[C@@H](CO2)O3)cc1', 'C=C[C@@H]1OC(O)[C@H](OC(C)=O)[C@@H](OCc2ccccc2)[C@@H]1OC(C)=O', 'COC(=O)[C@H]1C(=O)C[C@@](C)(O)[C@@H](C(=O)OC)[C@@H]1c1ccc(OC)cc1', 'C=CC(=O)OCCOCCOc1ccccc1OCCOC(=O)C=C', 'OCc1ccc(Oc2ccc(CO)c(CO)c2CO)c(CO)c1CO', 'CC=C(C)C(=O)OC1C2=C(C)C(=O)OC2(O)CC2(O)CCC(=O)CC12', 'COC(=O)[C@@H]1C(=O)C[C@@](C)(O)[C@H](C(=O)OC)[C@@H]1c1ccc(OC)cc1', 'CCOC(=O)CCC(=O)/C=C/c1ccc(C(=O)CCC(=O)OCC)o1', 'C=C(C)C(=O)OC(CC(C)O)C(C)OC(=O)c1ccccc1C(=O)O', 'O=C(CC1(C(=O)O)CC=CCC1)OC(=O)CC1(C(=O)O)CC=CCC1', 'CC1=C(C(=O)OC(=O)C2=C(C)C(C)C2)CC1C.O=C(O)/C=C\\\\C(=O)O', 'CC(=O)O[C@@H]1[C@@H](OC(C)=O)[C@H](c2ccccc2)O[C@@H](C)[C@H]1OC(C)=O', 'CCOC1=C(OCC)C(CC(=O)OCc2ccccc2)(OC)OC1=O', 'CC(C)c1oc(=O)cc2c1C(O)C1OC(=O)C3CC(O)C(O)C2(C)C31', 'COC(=O)Oc1c(C)cc(C(=O)OC2CCC(C(=O)O)CC2)cc1C', 'CCOC(=O)C1C(O)=CC(=O)CC1c1cc(OC)c(OC)c(OC)c1', 'C[C@@H]1C/C=C\\\\C(=O)[C@@H](O)[C@@H](O)CCCc2cc(O)cc(O)c2C(=O)O1', 'COC(=O)/C=C/c1cc(OC)ccc1[C@H](OC(=O)C(C)(C)C)C(=O)O', 'COC(=O)C[C@@H]1O[C@@H]2CO[C@@H](c3ccc(OC)cc3)O[C@H]2C=C[C@H]1O', 'COC(=O)[C@@H]1C(=O)C[C@](C)(O)[C@H](C(=O)OC)[C@@H]1c1cccc(OC)c1', 'COC1=CC(=O)CC(C)[C@]1(C)Oc1c(O)c(OC)cc(OC)c1C=O', 'COC(=O)C1=CCC2(OCCO2)C2=CC(O)C3CC1C2C3OC(C)=O', 'C=CC(=O)OC1(CC(=O)OC2C3CC4C(=O)OC2C4O3)CCCCC1', 'COC(=O)C[C@H]1C[C@@H](C)O[C@@H](c2cc(C)c(OC)c3c2COC3=O)O1', 'CO[C@H]1O[C@@H]2CO[C@@H](c3ccccc3)O[C@H]2[C@@]2(OC(C)=O)CCO[C@@H]12', 'COC(=O)C12OC(C(=O)OC)(C3C4CCC(O4)C31)C1C3CCC(O3)C12', 'COC(=O)CC1c2ccc(OC)cc2/C=C(/C(=O)OC)COC1OC', 'OC[C@@H](O)[C@@H](O)[C@@H](O)[C@H](O)C(c1ccc(O)cc1)c1ccc(O)cc1', 'CCCCOc1c(O)c2cccc(OCCC(=O)OCC)c2oc1=O', 'O=C(OC(=O)C1[C@H]2CC[C@H](C2)[C@H]1C(=O)O)C1[C@H]2CC[C@H](C2)[C@H]1C(=O)O', 'COc1ccc(/C=C/C(=O)CC2OC[C@@H](O)[C@H](O)[C@H]2OC(C)=O)cc1', 'COC(=O)/C=C\\\\[C@@H]1OC(C)(C)O[C@@H]1[C@@H](CO)OC(=O)c1ccccc1', '[CH]/C(C)=C/Cc1c(C)c(O)c(OC)c(OC)c1OC(=O)CC(=O)OC', 'COc1ccc(CO[C@@H]2C=C[C@H](OC(C)=O)[C@@H](COC(C)=O)O2)cc1', 'C=C1Oc2cc(OC3OC(CO)C(O)C(O)C3O)ccc2C(C)=C1C', 'CC(C)OC(=O)CC(C(=O)C(=O)OC(C)C)c1ccc2c(c1)OCO2', 'CC(=O)O[C@H]1[C@H](Oc2ccccc2C=O)O[C@H](C)[C@@H](C)[C@@H]1OC(C)=O', 'C=CC(=O)OCCC(=O)OCCOc1ccc(C(=O)C(C)(C)O)cc1', 'CO[C@H]1O[C@H](COC(=O)CC(=O)c2ccccc2)[C@H]2OC(C)(C)O[C@@H]12', 'Cc1cc(O)c2c(=O)c(O)c(C3CCCC(O)C(O)C(O)C3)oc2c1', 'O=C1CCCC2=C1C(C1O[C@H](CO)[C@@H](O)[C@@H]1O)C1=C(CCCC1=O)O2', 'COc1cc(C)c(Oc2c(C)cc(OC)c(O)c2OC)c(OC)c1O', 'CC1=C2C(OC1=O)[C@H](O)[C@@]13[C@@H]4[C@H](C(C)(C)C)C[C@H]1OC(=O)[C@]23O[C@@H]4O', 'CCCC/C=C/Oc1c(O)c2c(OCC(O)CO)cccc2oc1=O', 'COc1cc(COCc2cc(OC)c(O)c(OC)c2)cc(OC)c1O', 'COC(=O)C1(C(=O)OC)COC[C@@]23C[C@]4(C(=O)OC)CCC=C4[C@]12C3', 'COc1ccc(C#C[C@]2(O)[C@@H]([C@H](O)CO)O[C@@H]3OC(C)(C)O[C@@H]32)cc1', 'Cc1c(O)cc(O)c2c1CC(=O)/C=C/CCC(O)C(O)CCOC2=O', 'CCCCCC(CC)OC(=O)Oc1cc(=O)c2c(O)cc(O)cc2o1', 'CC1CC2OC(CCC2O)CC(=O)Cc2cc(O)cc(O)c2C(=O)O1', 'COc1cc([C@@H](O)[C@H](CO)Oc2c(OC)cccc2OC)ccc1O', 'C=CCO[C@@H]1O[C@@H](C)[C@H](OC(=O)c2ccccc2)[C@@H](OC(C)=O)[C@H]1O', 'COC(=O)C1=C2CCCCCCC2=C(C(=O)OC)C2(C(=O)OC)OC12', 'C=C1C(=O)O[C@H](C2=C(C)[C@@H](OC)CC2=O)[C@H]1C[C@H](OC(C)=O)C(C)=O', 'CC(=O)OC1O[C@](C)(COC(=O)c2ccccc2)[C@H]2OC(C)(C)O[C@@H]12', 'C=C(C)C(=O)O[C@@H]1[C@@H](O)[C@@H](OC)O[C@@H]2COC(c3ccccc3)O[C@@H]12', 'CCCCCCCOc1c(O)c2cccc(OCC(=O)O)c2oc1=O', 'COC(=O)/C=C/[C@@H]1O[C@@H]2CO[C@@H](c3ccc(OC)cc3)O[C@H]2C[C@H]1O', 'C=C(C)C(=O)OCCOC(=O)CCC(=O)OCCc1ccc(O)cc1', 'COC(=O)[C@@H]1C(=O)C[C@](C)(O)[C@@H](C(=O)OC)[C@H]1c1cccc(OC)c1', 'COC(=O)[C@H]1OC2(CCCC2)O[C@]1(C(=O)OC)[C@@H](O)c1ccccc1', 'CCOC(=O)/C=C/c1ccccc1O[C@@](C)(C(=O)OC)C(=O)OCC', 'CCCCC(CC)Oc1c(O)c2cccc(OCC(=O)O)c2oc1=O', 'COC(=O)[C@H]1C(=O)C[C@@](C)(O)[C@@H](C(=O)OC)[C@H]1c1cccc(OC)c1', 'CC(C)c1oc(=O)cc2c1[C@@H](O)[C@H]1OC(=O)[C@H]3C[C@@H](O)[C@@H](O)[C@@]2(C)[C@@H]13', 'COc1cc(-c2cc(OC)c(OC)c(OC)c2O)c(O)c(C)c1OC', 'COC(=O)CCCc1cc(=O)oc2c(OC)c(OC)c(C)c(OC)c12', 'CC1(C)OC2OC(C(=O)Oc3ccccc3)C3OC(C)(C)OC3C2O1', 'CC(=O)O[C@]12CO[C@H](O1)[C@H](OCc1ccccc1)[C@H]1OC(C)(C)O[C@H]12', 'CCOC(=O)C(C(=O)OCC)C(CC(=O)C(=O)OC)c1ccccc1', 'CC1(C)O[C@@H]2O[C@H](C(=O)Oc3ccccc3)[C@@H]3OC(C)(C)O[C@H]3[C@@H]2O1', 'OC[C@@H](O)[C@@H](O)[C@H](O)[C@@H](O)C(c1ccc(O)cc1)c1ccc(O)cc1', 'CCO[C@H]1OC(C(=O)O)=C[C@@H](c2ccc3c(c2)OCO3)[C@@H]1CCCO', 'C[C@H]1C/C=C/[C@@H](O)[C@@H](O)CCC(=O)Cc2cc(O)cc(O)c2C(=O)O1', 'CC(=O)OC[C@H]1O[C@@H](c2ccccc2)C[C@@H](OC(C)=O)[C@@H]1OC(C)=O', 'CC1(C(=O)OC(=O)C2(C)CC=CCC2C(=O)O)CC=CCC1C(=O)O', 'COCCCOc1cc(C=C2C(=O)OC(C)(C)OC2=O)ccc1OC', 'COc1cc(C(O)C(CO)Oc2c(OC)cccc2OC)ccc1O', 'CC(=O)OC[C@@]12COC(C[C@H](OC(C)=O)O1)[C@@H]2OCc1ccccc1', 'CCC(OC(=O)c1ccccc1)[C@@H]1C[C@@H](OC(C)=O)C(OC(C)=O)O1', 'C[C@H]1C/C=C\\\\[C@H](O)[C@@H](O)[C@@H](O)C/C=C\\\\c2cc(O)cc(O)c2C(=O)O1', 'CC1(C(=O)O)CCC(O)(COc2cc(/C=C/C(=O)O)ccc2O)CC1', 'COC(=O)c1ccc([C@H]2C=C(C(=O)O)O[C@@H](OCCCCO)C2)cc1', 'C=C(C)C(=O)OC(CC)C(=O)Oc1ccc(C(=O)OCC)cc1OC', 'CC1(C)O[C@@H]2O[C@@H](C(=O)Oc3ccccc3)[C@H]3OC(C)(C)O[C@@H]3[C@H]2O1', 'CC1=CCC(C(=O)O)(C(=O)OC(=O)C2(C(=O)O)CC=C(C)CC2)CC1', 'COc1cc(O)cc([C@@H](O)[C@H](CO)c2cc(OC)c(O)c(OC)c2)c1', 'C=CC(=O)OC(C)COC(=O)CCC(=O)OCCc1ccc(O)cc1', 'COc1cc([C@@H](O)[C@H](CO)c2cc(OC)c(O)c(OC)c2)ccc1O', 'OCC(O)COc1ccc(Oc2ccc(OCC(O)CO)cc2)cc1', 'C=C(C)C(=O)OC(CC)C(=O)OC(=O)Cc1cc(OC)ccc1OC', 'C=C(C)C(=O)OC1(CC(=O)OC2C3CC4C(=O)OC2C4O3)CCCC1', 'COc1ccc(O[C@@H]2C=C[C@H](OC(C)=O)[C@@H](COC(C)=O)O2)c(C)c1', 'C=C(C)C(=O)OC(CCCCO)COC(=O)c1ccccc1C(=O)O', 'CCC1=C[C@@H](C(=O)O)[C@@H]2C(=O)C(C(=O)OC)=C(CC)[C@@H]2[C@@H]1C(=O)OC', 'O=C(O)C1C2CCC(C2)C1C(=O)OC(=O)C1C2CCC(C2)C1C(=O)O', 'COC(=O)/C=C(\\\\C[C@@H]1OC2C(O)CO[C@@H]2C(O)C1O)c1ccccc1', 'COC(=O)[C@H]1C(=O)C[C@@](C)(O)[C@H](C(=O)OC)[C@H]1c1cccc(OC)c1', 'CC(C)(C)OCCOC(=O)C1(C(=O)O)OC=C(Cc2ccccc2)O1', 'CC1(C)OC[C@@H]([C@H]2OC(=O)C(O)=C2OCCCOc2ccccc2)O1', 'COCCOC(=O)c1c(C)oc2ccc(OCC(=O)OC(C)C)cc12', 'CCCCCCCOc1c(O)c2cc(OCC(=O)O)ccc2oc1=O', 'C=C(C)C(=O)OCC(=O)OCC(=O)OC1(c2ccco2)CCCCC1', 'CCOC(=O)CCc1c(C)c2c(OCCOC)cc(O)cc2oc1=O', 'CC1CCCC(O)/C=C/C(O)C(=O)c2c(O)cc(O)cc2CC(=O)O1', 'CCOC(=O)C1C2O[C@@H]3COC(c4cccc(OC)c4)O[C@H]3[C@H](O)C21', 'CC1(C)O[C@H]2[C@@H](O1)[C@@H](C(=O)Oc1ccccc1)O[C@H]1OC(C)(C)O[C@@H]12', 'COCCC(=O)OC(=O)CC1CC=CC=C1C(=O)C1=CCCOC1O', 'COCCOCCOCCOc1ccc2cc(C(C)=O)c(=O)oc2c1', 'CC1=CC(=O)O[C@@]12[C@@H]1COC[C@@]13CCC(=O)[C@]2(C(=O)OC(C)(C)C)O3', 'COC(=O)/C=C/COC(=O)[C@H]1CCCC[C@H]1C(=O)OCc1ccco1', 'CCC(=O)OCCOCCOCCOc1cc2ccccc2oc1=O', 'C=CCO[C@H]1OC2COC(c3ccccc3)O[C@H]2C(O)C1OC(C)=O', 'COC(=O)C(C(=O)OC)C1c2cccc(OC)c2OCC1CC(C)=O', 'CCC(OC(=O)CC(C)=O)(OC(=O)CC(C)=O)c1ccc(OC)cc1', 'CC(=O)CCC(=O)O[C@H]1[C@@H](OCc2ccccc2)O[C@H]2[C@@H]1OC[C@H]2O', 'COc1ccc(OC(O)C(CO)Oc2ccccc2OC)cc1OC', 'CC1C=CCC(C(=O)O)C1C(=O)OC(=O)C1C(C)C=CCC1C(=O)O', 'CC(=O)O[C@@]12CO[C@H](O1)[C@H](OCc1ccccc1)[C@H]1OC(C)(C)O[C@H]12', 'COc1ccc([C@@H]2OC(=O)C(CCC(C)=O)(C(=O)O)[C@@H]2C)cc1OC', 'COC(=O)CCC(C)=CCc1c(O)c2c(c(C)c1OC)C(O)OC2=O', 'O=C(OC1CCOCC1)c1cc(O)cc(C(=O)OC2CCOCC2)c1', 'C=C[C@@H]1O[C@H](O)[C@H](OC(C)=O)[C@@H](OCc2ccccc2)[C@@H]1OC(C)=O', 'CCCc1c(O)ccc2c1OC(CCC(=O)OC)(C(=O)OC)CC2=O', 'CC1CCCC(C(=O)O)=C1C(=O)O.CC1CCCC2=C1C(=O)OC2=O', 'COc1c(O)ccc2c1OC[C@H]([C@@H]1C(=O)C[C@H](OC)C(=O)[C@H]1OC)C2', 'COCC(OC(C)=O)C(OC(C)=O)C1CC1OC(=O)c1ccccc1', 'C#CCOc1cc(OC2CC(O)CC(CO)O2)ccc1COC(C)=O', 'CCOC(=O)C1C2O[C@@H]3COC(c4ccc(OC)cc4)O[C@H]3[C@H](O)C21', 'COC(=O)[C@@H]1C(=O)C[C@@](C)(O)[C@H](C(=O)OC)[C@H]1c1cccc(OC)c1', 'COC(=O)[C@@H]1C(=O)C[C@](C)(O)[C@@H](C(=O)OC)[C@H]1c1ccc(OC)cc1', 'CCC(C)CCCOc1c(O)c2cccc(OCC(=O)O)c2oc1=O', 'Cc1ccc2c(O)cc(C)c(O[C@@H]3O[C@H](CO)[C@@H](O)[C@H](O)[C@H]3O)c2c1', 'CC(=O)OC1OC2COC(c3ccccc3)O[C@@H]2C(C)C1OC(C)=O', 'COC(=O)/C=C/[C@H]1O[C@@H]1C[C@@H]1O[C@H](c2ccc(OC)cc2)OC[C@H]1O', 'C=C(C)C(=O)OCCC(CC)C(O)OC(=O)c1ccccc1C(=O)O', 'COC(=O)CCC(C)=CCc1c(O)c2c(c(C)c1OC)[C@@H](O)OC2=O', 'CCOC(=O)CC(=O)CC(CC(=O)OCC)c1ccc2c(c1)OCO2', 'CC(=O)O[C@@H]1[C@@H](OC(C)=O)[C@H](C)O[C@H](c2ccccc2)[C@H]1OC(C)=O', 'C=C(C)C(=O)OCCCCOC(=O)C(=O)OCc1ccc(OC)cc1', 'C=CC(=O)CCC(COC(=O)C=C)(COC(=O)C=C)COC(=O)C=C', 'COC1(OC)Cc2c3c(c4c(c21)C(OC)(OC)C4)C(OC)(OC)C3=O', 'CCCC1C2C(=O)OC(=O)C23CCC12C(=O)OC(=O)C2CC(C)C3O', 'COc1cc(C)cc([C@@H]2C=C[C@H](OC(C)=O)[C@@H](COC(C)=O)O2)c1O', 'COC(=O)C1C(=O)CC(C)(O)C(C(=O)OC)C1c1ccccc1OC', 'CCOCCOc1cc(C=C2C(=O)OC(C)(C)OC2=O)ccc1OC', 'O=C(O)CC1(CC(=O)OC(=O)CC2(CC(=O)O)C=CCC2)C=CCC1', 'C=CCO[C@H]1O[C@@H]2CO[C@@H](c3ccccc3)O[C@H]2[C@H](OC(C)=O)[C@@H]1O', 'COC1(C)C2Oc3c(C)c(O)cc(C)c3C(=O)OC2=C(C)C(O)C1O', 'C=CC(=O)OCC(C)OC(=O)CCC(=O)OCCc1ccc(O)cc1', 'C=CC(=O)OCc1cccc(C(=O)OC(CO)COC(=O)C(C)C)c1', 'COC(=O)C(C)C(O)/C=C/Cc1c(O)c2c(c(C)c1OC)COC2=O', 'C=C(C)C(=O)OCC(O)CCC(=O)Oc1cccc(C(=O)OCC)c1', 'O=C(OCCOCCOC(=O)C1=CC2OC2CC1)C1=CC2OC2CC1', 'CC(=O)C1(C(C)=O)CCC(=O)C(C(C)=O)(C(C)=O)C1(C(C)=O)C(C)=O']}\n"
     ]
    }
   ],
   "execution_count": 52
  },
  {
   "metadata": {
    "ExecuteTime": {
     "end_time": "2024-12-27T17:35:02.341288Z",
     "start_time": "2024-12-27T17:35:02.338739Z"
    }
   },
   "cell_type": "code",
   "source": [
    "# Check the keys in the batch\n",
    "print(tmp_original.keys())\n",
    "\n",
    "# Specifically check if 'batch_ptr' is present\n",
    "if 'batch_ptr' in tmp_original:\n",
    "    print(\"batch_ptr is present:\", tmp_original['batch_ptr'])\n",
    "else:\n",
    "    print(\"batch_ptr is missing\")"
   ],
   "id": "f279211477cf5d0b",
   "outputs": [
    {
     "name": "stdout",
     "output_type": "stream",
     "text": [
      "dict_keys(['spec', 'mol', 'precursor_mz', 'adduct', 'mol_freq', 'identifier', 'smiles', 'candidates', 'labels', 'batch_ptr', 'candidates_smiles'])\n",
      "batch_ptr is present: tensor([256,  23, 256, 101, 256, 256, 256, 256,  67, 256, 256, 256])\n"
     ]
    }
   ],
   "execution_count": 53
  },
  {
   "metadata": {
    "ExecuteTime": {
     "end_time": "2024-12-27T17:35:02.349513Z",
     "start_time": "2024-12-27T17:35:02.347487Z"
    }
   },
   "cell_type": "code",
   "source": "tmp_original.keys()",
   "id": "82cf5fad037c8ffe",
   "outputs": [
    {
     "data": {
      "text/plain": [
       "dict_keys(['spec', 'mol', 'precursor_mz', 'adduct', 'mol_freq', 'identifier', 'smiles', 'candidates', 'labels', 'batch_ptr', 'candidates_smiles'])"
      ]
     },
     "execution_count": 54,
     "metadata": {},
     "output_type": "execute_result"
    }
   ],
   "execution_count": 54
  },
  {
   "metadata": {
    "ExecuteTime": {
     "end_time": "2024-12-27T17:35:02.367210Z",
     "start_time": "2024-12-27T17:35:02.364462Z"
    }
   },
   "cell_type": "code",
   "source": "tmp_original['spec'].shape, tmp_original['mol'].shape, ",
   "id": "8a967c5745662a1f",
   "outputs": [
    {
     "data": {
      "text/plain": [
       "(torch.Size([12, 61, 2]), torch.Size([12, 4096]))"
      ]
     },
     "execution_count": 55,
     "metadata": {},
     "output_type": "execute_result"
    }
   ],
   "execution_count": 55
  },
  {
   "metadata": {
    "ExecuteTime": {
     "end_time": "2024-12-27T17:35:02.378577Z",
     "start_time": "2024-12-27T17:35:02.375602Z"
    }
   },
   "cell_type": "code",
   "source": "tmp_original['precursor_mz']",
   "id": "f4541b8ff18abfc5",
   "outputs": [
    {
     "data": {
      "text/plain": [
       "tensor([441.1200, 349.1132, 352.1200, 323.1177, 535.3272, 321.0192, 138.0550,\n",
       "        411.9655, 524.3720, 309.0400, 291.0863, 351.1440])"
      ]
     },
     "execution_count": 56,
     "metadata": {},
     "output_type": "execute_result"
    }
   ],
   "execution_count": 56
  },
  {
   "metadata": {
    "ExecuteTime": {
     "end_time": "2024-12-27T17:35:02.387301Z",
     "start_time": "2024-12-27T17:35:02.385049Z"
    }
   },
   "cell_type": "code",
   "source": "tmp_original['adduct'], ",
   "id": "d33f02e95d06defc",
   "outputs": [
    {
     "data": {
      "text/plain": [
       "(['[M+Na]+',\n",
       "  '[M+H]+',\n",
       "  '[M+Na]+',\n",
       "  '[M+H]+',\n",
       "  '[M+H]+',\n",
       "  '[M+H]+',\n",
       "  '[M+H]+',\n",
       "  '[M+H]+',\n",
       "  '[M+H]+',\n",
       "  '[M+Na]+',\n",
       "  '[M+H]+',\n",
       "  '[M+H]+'],)"
      ]
     },
     "execution_count": 57,
     "metadata": {},
     "output_type": "execute_result"
    }
   ],
   "execution_count": 57
  },
  {
   "metadata": {
    "ExecuteTime": {
     "end_time": "2024-12-27T17:35:02.396004Z",
     "start_time": "2024-12-27T17:35:02.393155Z"
    }
   },
   "cell_type": "code",
   "source": "tmp_original['mol_freq']",
   "id": "f2246bafe4c779ae",
   "outputs": [
    {
     "data": {
      "text/plain": [
       "tensor([121.,   3.,  23.,   3.,  10.,  42.,  48.,   3., 200., 141., 427.,   8.])"
      ]
     },
     "execution_count": 58,
     "metadata": {},
     "output_type": "execute_result"
    }
   ],
   "execution_count": 58
  },
  {
   "metadata": {
    "ExecuteTime": {
     "end_time": "2024-12-27T17:35:02.403959Z",
     "start_time": "2024-12-27T17:35:02.401478Z"
    }
   },
   "cell_type": "code",
   "source": "tmp_original['labels']",
   "id": "69b44a8f863047a4",
   "outputs": [
    {
     "data": {
      "text/plain": [
       "tensor([ True, False, False,  ..., False, False, False])"
      ]
     },
     "execution_count": 59,
     "metadata": {},
     "output_type": "execute_result"
    }
   ],
   "execution_count": 59
  },
  {
   "metadata": {
    "ExecuteTime": {
     "end_time": "2024-12-27T17:35:02.424681Z",
     "start_time": "2024-12-27T17:35:02.415205Z"
    }
   },
   "cell_type": "code",
   "source": "sum(tmp_original['labels'])",
   "id": "6514ce8596d69758",
   "outputs": [
    {
     "data": {
      "text/plain": [
       "tensor(12)"
      ]
     },
     "execution_count": 60,
     "metadata": {},
     "output_type": "execute_result"
    }
   ],
   "execution_count": 60
  },
  {
   "metadata": {
    "ExecuteTime": {
     "end_time": "2024-12-27T17:35:02.433709Z",
     "start_time": "2024-12-27T17:35:02.430900Z"
    }
   },
   "cell_type": "code",
   "source": "torch.nonzero(tmp_original['labels'], as_tuple=False).squeeze()",
   "id": "2c9d2d7a5c16ed90",
   "outputs": [
    {
     "data": {
      "text/plain": [
       "tensor([   0,  256,  279,  535,  636,  892, 1148, 1404, 1660, 1727, 1983, 2239])"
      ]
     },
     "execution_count": 61,
     "metadata": {},
     "output_type": "execute_result"
    }
   ],
   "execution_count": 61
  },
  {
   "metadata": {
    "ExecuteTime": {
     "end_time": "2024-12-27T17:35:02.441888Z",
     "start_time": "2024-12-27T17:35:02.439706Z"
    }
   },
   "cell_type": "code",
   "source": "len(tmp_original['labels'])",
   "id": "2e83bcb489cae86a",
   "outputs": [
    {
     "data": {
      "text/plain": [
       "2495"
      ]
     },
     "execution_count": 62,
     "metadata": {},
     "output_type": "execute_result"
    }
   ],
   "execution_count": 62
  },
  {
   "metadata": {
    "ExecuteTime": {
     "end_time": "2024-12-27T17:35:02.449967Z",
     "start_time": "2024-12-27T17:35:02.447754Z"
    }
   },
   "cell_type": "code",
   "source": "tmp_original['batch_ptr']",
   "id": "8623ad0307ee1f18",
   "outputs": [
    {
     "data": {
      "text/plain": [
       "tensor([256,  23, 256, 101, 256, 256, 256, 256,  67, 256, 256, 256])"
      ]
     },
     "execution_count": 63,
     "metadata": {},
     "output_type": "execute_result"
    }
   ],
   "execution_count": 63
  },
  {
   "metadata": {
    "ExecuteTime": {
     "end_time": "2024-12-27T17:35:02.458497Z",
     "start_time": "2024-12-27T17:35:02.455936Z"
    }
   },
   "cell_type": "code",
   "source": "sum(tmp_original['batch_ptr'])",
   "id": "153e8fd767c6cc73",
   "outputs": [
    {
     "data": {
      "text/plain": [
       "tensor(2495)"
      ]
     },
     "execution_count": 64,
     "metadata": {},
     "output_type": "execute_result"
    }
   ],
   "execution_count": 64
  },
  {
   "metadata": {
    "ExecuteTime": {
     "end_time": "2024-12-27T17:35:02.466960Z",
     "start_time": "2024-12-27T17:35:02.464735Z"
    }
   },
   "cell_type": "code",
   "source": "len(tmp_original['candidates'])",
   "id": "57abe1cdad7d1e03",
   "outputs": [
    {
     "data": {
      "text/plain": [
       "2495"
      ]
     },
     "execution_count": 65,
     "metadata": {},
     "output_type": "execute_result"
    }
   ],
   "execution_count": 65
  },
  {
   "metadata": {
    "ExecuteTime": {
     "end_time": "2024-12-27T17:35:02.475Z",
     "start_time": "2024-12-27T17:35:02.472771Z"
    }
   },
   "cell_type": "code",
   "source": "tmp_original['candidates'][5].shape",
   "id": "6a5c6ecd1c18994e",
   "outputs": [
    {
     "data": {
      "text/plain": [
       "torch.Size([4096])"
      ]
     },
     "execution_count": 66,
     "metadata": {},
     "output_type": "execute_result"
    }
   ],
   "execution_count": 66
  },
  {
   "metadata": {
    "ExecuteTime": {
     "end_time": "2024-12-27T17:35:02.482649Z",
     "start_time": "2024-12-27T17:35:02.480743Z"
    }
   },
   "cell_type": "code",
   "source": "len(tmp_original['candidates_smiles'])",
   "id": "3f7ec6537b665b0c",
   "outputs": [
    {
     "data": {
      "text/plain": [
       "2495"
      ]
     },
     "execution_count": 67,
     "metadata": {},
     "output_type": "execute_result"
    }
   ],
   "execution_count": 67
  },
  {
   "metadata": {},
   "cell_type": "markdown",
   "source": "# MSnRetrieval",
   "id": "effa503f7496c1bb"
  },
  {
   "metadata": {
    "ExecuteTime": {
     "end_time": "2024-12-27T17:25:30.581200Z",
     "start_time": "2024-12-27T17:25:30.578559Z"
    }
   },
   "cell_type": "code",
   "source": "from massspecgym.featurize import SpectrumFeaturizer",
   "id": "81578a73d8e57643",
   "outputs": [],
   "execution_count": 20
  },
  {
   "metadata": {
    "ExecuteTime": {
     "end_time": "2024-12-27T17:25:30.811331Z",
     "start_time": "2024-12-27T17:25:30.809118Z"
    }
   },
   "cell_type": "code",
   "source": [
    "config = {\n",
    "    'features': ['collision_energy', 'ionmode', 'adduct', 'spectrum_stats', 'atom_counts', 'value', \"retention_time\", 'ion_source', 'binned_peaks'],\n",
    "    'feature_attributes': {\n",
    "        'atom_counts': {\n",
    "            'top_n_atoms': 12,\n",
    "            'include_other': True,\n",
    "        },\n",
    "    },\n",
    "}"
   ],
   "id": "5df6778634ce3906",
   "outputs": [],
   "execution_count": 21
  },
  {
   "metadata": {
    "ExecuteTime": {
     "end_time": "2024-12-27T17:25:31.038525Z",
     "start_time": "2024-12-27T17:25:31.036690Z"
    }
   },
   "cell_type": "code",
   "source": "featurizer = SpectrumFeaturizer(config, mode='torch')",
   "id": "3e4d2d35f3c5e077",
   "outputs": [],
   "execution_count": 22
  },
  {
   "metadata": {
    "ExecuteTime": {
     "end_time": "2024-12-27T17:33:36.609417Z",
     "start_time": "2024-12-27T17:25:31.220846Z"
    }
   },
   "cell_type": "code",
   "source": [
    "# Init hyperparameters\n",
    "n_peaks = 60\n",
    "fp_size = 4096\n",
    "batch_size = 12\n",
    "\n",
    "# Load dataset\n",
    "dataset_msn = MSnRetrievalDataset(\n",
    "    pth=file_mgf,\n",
    "    candidates_pth=file_json,\n",
    "    featurizer=featurizer,\n",
    "    mol_transform=MolFingerprinter(fp_size=fp_size),\n",
    "    max_allowed_deviation=0.005\n",
    ")\n"
   ],
   "id": "4abdab9e026ffb09",
   "outputs": [
    {
     "name": "stdout",
     "output_type": "stream",
     "text": [
      "Warning: No candidates for 710 smiles. Skipping.\n",
      "Total valid indices: 15674\n",
      "Dataset length: 15674\n"
     ]
    }
   ],
   "execution_count": 23
  },
  {
   "metadata": {
    "ExecuteTime": {
     "end_time": "2024-12-27T17:33:36.616693Z",
     "start_time": "2024-12-27T17:33:36.613149Z"
    }
   },
   "cell_type": "code",
   "source": [
    "# Init data module\n",
    "data_module_msn = MassSpecDataModule(\n",
    "    dataset=dataset_msn,\n",
    "    batch_size=batch_size,\n",
    "    split_pth=split_file,\n",
    "    num_workers=0,\n",
    ")"
   ],
   "id": "313e58fab0155c4b",
   "outputs": [],
   "execution_count": 24
  },
  {
   "metadata": {
    "ExecuteTime": {
     "end_time": "2024-12-27T17:33:40.027226Z",
     "start_time": "2024-12-27T17:33:36.627926Z"
    }
   },
   "cell_type": "code",
   "source": [
    "data_module_msn.prepare_data()\n",
    "data_module_msn.setup()\n",
    "\n",
    "train_loader_msn = data_module_msn.train_dataloader()"
   ],
   "id": "af9eb30cc9d0b54f",
   "outputs": [
    {
     "name": "stdout",
     "output_type": "stream",
     "text": [
      "Warning: Some identifiers in the split file are not found in the dataset. Taking intersection.\n",
      "Train dataset size: 11883\n",
      "Val dataset size: 1899\n"
     ]
    }
   ],
   "execution_count": 25
  },
  {
   "metadata": {
    "ExecuteTime": {
     "end_time": "2024-12-27T17:33:41.864432Z",
     "start_time": "2024-12-27T17:33:40.033527Z"
    }
   },
   "cell_type": "code",
   "source": [
    "tmp_msn = []\n",
    "for batch in train_loader_msn:\n",
    "    print(batch)\n",
    "    tmp_msn = batch\n",
    "    break"
   ],
   "id": "511d947bf9b25fcd",
   "outputs": [
    {
     "name": "stdout",
     "output_type": "stream",
     "text": [
      "in collate_fn\n",
      "{'spec': DataBatch(x=[133, 1039], edge_index=[2, 121], batch=[133], ptr=[13]), 'mol': tensor([[0., 0., 0.,  ..., 0., 0., 0.],\n",
      "        [0., 0., 0.,  ..., 0., 0., 0.],\n",
      "        [0., 0., 0.,  ..., 0., 0., 0.],\n",
      "        ...,\n",
      "        [0., 0., 0.,  ..., 0., 0., 0.],\n",
      "        [0., 0., 0.,  ..., 0., 0., 0.],\n",
      "        [0., 0., 0.,  ..., 0., 0., 0.]]), 'precursor_mz': tensor([297.1121, 331.1451, 369.1782, 386.2326, 455.0955, 470.0839, 517.1340,\n",
      "        351.1358, 327.1551, 624.2673, 377.2686, 308.1030]), 'adduct': ['[M+H]+', '[M+Na]+', '[M+H]+', '[M+H]+', '[M+H]+', '[M+H]+', '[M+H]+', '[M+H]+', '[M+H]+', '[M+H]+', '[M+H-2H2O]+', '[M+H]+'], 'identifier': ['0073967_0000000', '0029647_0000000', '0073834_0000000', '0014621_0000000', '0025270_0000000', '0036154_0000000', '0005041_0000000', '0005023_0000000', '0004557_0000000', '0082596_0000000', '0002898_0000000', '0091031_0000000'], 'mol_freq': tensor([1., 1., 1., 1., 1., 1., 1., 1., 2., 1., 3., 1.]), 'smiles': ['C1COC2=C(O1)C=CC(=C2)C(=O)CCC(=O)C3=CC=CC=C3', 'C1CCC(C1)(CNC(=O)NCC2CCCO2)C3=CSC=C3', 'CC1=CC(=NO1)C2=NN=CC3=C(C(=NN32)OCC4=NC=NN4C)C(C)(C)C', 'C[C@@H]1CCC2[C@@]([C@@]13CC4=C(C=C5C(=C4O3)CNC5=O)O)(CC[C@H](C2(C)C)O)C', 'CC1=NN=C2N1N=C(S2)C3=CC(=CC=C3)NC(=S)NC(=O)C4=C(C=CC=C4OC)OC', 'CC1=CC=CC=C1C2=NOC(=N2)C3=C(C=CS3)S(=O)(=O)N(C)C4=CC5=C(C=C4)OCCO5', 'COC1=CC=C(C=C1)C2=COC3=C(C2=O)C=CC(=C3)O[C@H]4[C@@H]([C@H]([C@@H]([C@H](O4)COC(=O)CC(=O)O)O)O)O', 'CCC(C)/C=C(\\\\C)/C=C/C1=CC2=C(C(=O)C(C(C2=CO1)O)(C)O)Cl', 'CC(C(C12CC1CC=CC2=O)O)NC(=O)C(CC(C(=O)O)O)N', 'CC1=CC(=C(C=C1SC2=CN=C(S2)NC(=O)C3=CC=C(C=C3)CNC(C)C(C)(C)C)C(=O)N4CCN(CC4)C(=O)C)OC', 'CC(CC(C)C(C)O)CC(CC(C)/C=C(\\\\C)/C=C(/CC(C)C(=O)O)\\\\C(=O)O)CO', 'COC1=CC2=C(C=C1)NC(=C2C3=C(C4=CC=CC=C4N3)N=O)O'], 'candidates': tensor([[0., 0., 0.,  ..., 0., 0., 0.],\n",
      "        [0., 0., 0.,  ..., 0., 0., 0.],\n",
      "        [0., 0., 0.,  ..., 0., 0., 0.],\n",
      "        ...,\n",
      "        [0., 0., 0.,  ..., 0., 0., 0.],\n",
      "        [0., 0., 0.,  ..., 0., 0., 0.],\n",
      "        [0., 0., 0.,  ..., 0., 0., 0.]]), 'labels': tensor([ True, False, False,  ..., False, False, False]), 'batch_ptr': tensor([256, 256, 256, 256, 244, 256, 256, 150, 256,  27, 256, 256]), 'candidates_smiles': ['C1COC2=C(O1)C=CC(=C2)C(=O)CCC(=O)C3=CC=CC=C3', 'COc1ccc(C2=Cc3ccc(OC(C)=O)cc3OC2)cc1', 'C=Cc1cc(OC)c2oc(-c3ccc(O)c(OC)c3)cc2c1', 'C#C.CC(C(=O)c1ccc(O)cc1)C(=O)c1ccc(O)cc1', 'Cc1ccc(C)c(Oc2c(C)oc3cc(O)ccc3c2=O)c1', 'O=C(O)C1(Oc2ccccc2)CC1c1ccc2c(c1)COC2', 'COc1cc(/C=C2\\\\Cc3c(O)cccc3C2=O)cc(OC)c1', 'CCOc1ccc(C)cc1-c1oc2ccccc2c(=O)c1O', 'O=C(O)C1=CC2=C(CC1)c1cc3c(cc1OC2)C(=O)CCC3', 'CCOC(=O)C=Cc1ccc(C(=O)c2ccc(O)cc2)cc1', 'COC(=O)C(OC(=O)/C=C/c1ccccc1)c1ccccc1', 'O=C(O)C1=C/C2=C/C=C3\\\\C=C(C(=O)O)/C(=C\\\\C=C1CC2)CC3', 'O=C(O)CCC=C(C(=O)Oc1ccccc1)c1ccccc1', 'O=C(O)C(C(=O)O)C1c2ccccc2CCc2ccccc21', 'O=c1oc2cc(O)ccc2c2cc(OC3CCCC3)ccc12', 'O=CC1(C(=O)OCc2cccc(Oc3ccccc3)c2)CC1', 'O=C(CC(CC(=O)c1ccccc1)C(=O)O)c1ccccc1', 'COCOC(=O)Cc1cc(-c2ccccc2)c2cccoc1-2', 'O=C(O)/C(CC=Cc1ccccc1)=C(\\\\O)c1ccc(O)cc1', 'CC(=O)O[C@H]1C=Cc2ccc3ccccc3c2[C@@H]1OC(C)=O', 'CCCCc1ccc2c(=O)c3cc(C(=O)O)ccc3oc2c1', 'CCOC(=O)C(=O)CC(=O)c1ccc(-c2ccccc2)cc1', 'O=C1c2ccccc2C(=O)C2C(O)=C3CCCCC3=C(O)C12', 'O=C(O)C[C@@H](C(=O)O)/C(=C/c1ccccc1)c1ccccc1', 'Cc1ccccc1-c1cc(=O)oc2cc(CC(O)O)ccc12', 'OC1C=Cc2ccccc2O1.OC1OC=Cc2ccccc21', 'O=C1CCc2ccc(O)c(c2)Oc2ccc(cc2)C=CCO1', 'Oc1ccc(-c2ccccc2)c2c1C1OC1COCC1OC21', 'O=C(O)/C=C/C=C/C=C\\\\c1ccccc1/C=C/C=C/C(=O)O', 'O=C(C=Cc1ccc(O)c(O)c1)OCC=Cc1ccccc1', 'Cc1cc(C)c(O)c(C(=O)C=Cc2ccc(C(=O)O)cc2)c1', 'O=C(O)CC(C(=O)O)C(=Cc1ccccc1)c1ccccc1', 'O=C1CCC(=O)c2cccc(c2)OCCOc2cccc1c2', 'C[C@@H]1[C@H]2O[C@H]3c4ccc(=O)cc5c4[C@@H]4[C@H]3[C@H]2OC(=O)[C@]14CC5', 'O=C(O)COc1ccc2cc(C3=CC(=O)CCC3)ccc2c1', 'C=CCC1OC(=O)c2cc(OC)c(Oc3ccccc3)cc21', 'OC/C=c1\\\\cccc2c(O)c3/c(=C/CO)cccc3c(O)c12', 'O=C(OCc1ccccc1)c1cccc([C@@H]2C[C@H]2C(=O)O)c1', 'Cc1ccc(OCCOc2ccc3ccc(=O)oc3c2)cc1', 'CCOC(=O)/C=C1\\\\c2ccccc2-c2ccc(OCO)cc21', 'CCc1ccc(/C=C2\\\\Oc3cc(OC)cc(O)c3C2=O)cc1', 'CC(=O)OC(=Cc1ccccc1)c1ccc(OC(C)=O)cc1', 'CCOC(=O)C1=C(O)[C@H]2Oc3ccc4ccccc4c3[C@H]2C1', 'Cc1cc(O)c2c(=O)c(C)c(-c3ccc(O)c(C)c3)oc2c1', 'C=C(Cc1ccc2cccc(CC(=C)C(=O)O)c2c1)C(=O)O', 'O=C1Oc2ccc(OC(=O)C3CCCCC3)c3cccc1c23', 'O=c1oc2c(c3c(=O)oc4c(c13)[C@@H]1CC[C@@H]4C1)[C@@H]1CC[C@H]2C1', 'C=CCOC(=O)c1ccc2cc(CC=C)ccc2c1C(=O)O', 'COC(=O)C1COc2c(C(=O)c3ccccc3)cc(C)cc21', 'CCOC(=O)c1c(Cc2ccccc2)oc2ccc(O)cc12', 'O=C(O)CCC(=O)c1ccc2c(c1)[C@@H](CO)c1ccccc1-2', 'O=C(O)C[C@H]1CC(=O)OC1(c1ccccc1)c1ccccc1', 'O=C(O)CCOc1ccc(C=CC(=O)c2ccccc2)cc1', 'COC(=O)/C(=C/c1ccccc1)c1ccccc1C(=O)OC', 'CCOC(=O)C(=Cc1ccc(O)cc1)C(=O)c1ccccc1', 'COc1cccc(COc2ccc3c(C)cc(=O)oc3c2)c1', 'O=C(O)C=CC=CC=Cc1ccccc1C=CC=CC(=O)O', 'CC(=O)Cc1ccc(O)c(C(=O)CC(=O)c2ccccc2)c1', 'O=C(O)C1(C(=O)O)CC(c2ccccc2)(c2ccccc2)C1', 'CC(=O)OC(C(=O)c1ccccc1)C(=O)c1ccc(C)cc1', 'CCOC(=O)c1oc2ccccc2c1OCc1ccccc1', 'COc1ccc2ccc3ccc(OC)c(OC(C)=O)c3c2c1', 'COc1ccc(C2=CC(=O)O[C@H](c3ccccc3)CO2)cc1', 'CC/C(=C\\\\C(=O)O)c1ccc(-c2ccc3c(c2)OCO3)cc1', 'CC(C)(C)OOC(=O)c1ccc2c(c1)C(=O)c1ccccc1-2', 'C=C1/C=C\\\\C=C/C(C)/C(OC=O)=c2/cccc/c2=C/1OC=O', 'Cc1ccc(COc2ccc(C(=O)/C=C/C(=O)O)cc2)cc1', 'COc1ccc2c(c1)C(=O)C(C(=O)OCc1ccccc1)C2', 'O=C1CC[C@@H]2C(=O)O[C@@H](Oc3ccc4ccccc4c3)[C@@H]2C1', 'OC1c2cc3ccc4ccccc4c3cc2C(O)C(O)C1O', 'C=C(C)C(=O)OCc1ccc(C(=O)Oc2ccccc2)cc1', 'COC(=O)c1ccc2c(c1C(=O)OC)[C@H]1C=C[C@@H]3C=C[C@H]2[C@@H]31', 'O=C(O)CC/C(=C(/C(=O)O)c1ccccc1)c1ccccc1', 'COc1ccc(CC2C(=O)c3ccccc3C2=O)cc1OC', 'Cc1c(C2CC3C=CC2C3)oc2c(C(=O)O)cccc2c1=O', 'C=CC(=O)Oc1ccc(C2=CCC(OC(=O)C=C)C=C2)cc1', 'Cc1ccc(-c2ccc(C3OC(=O)C(O)=C3O)cc2)cc1C', 'COc1cc(C=O)c(C#Cc2ccccc2)c(OC)c1OC', 'Cc1ccc(C(O)COc2ccc3ccc(=O)oc3c2)cc1', 'O=C(/C=C/C=C/c1ccccc1)OCc1ccc(O)c(O)c1', 'C=CCc1cc(-c2cc(/C=C/C=O)ccc2O)c(O)cc1O', 'O=C(CO)CC(=O)OCC1c2ccccc2-c2ccccc21', 'COC1(OC)c2ccccc2C2(O)c3ccccc3C(=O)C12', 'O=C(O)c1ccc2c(c1)/C(=C\\\\CCO)c1ccccc1CO2', 'COC(=O)c1ccc(OC)c2oc(Cc3ccccc3)cc12', 'C=CC(=O)OC(C)c1ccccc1-c1cccc(C(=O)O)c1', 'C=CC(C)(C)Oc1ccc2c(=O)c3ccccc3oc2c1O', 'O=C(Oc1ccccc1)C1(C(=O)Oc2ccccc2)CCC1', 'CC(=CC(=O)O)c1ccc(OC(=O)c2ccc(C)cc2)cc1', 'O=COc1ccc([C@@H]2CC[C@H]2c2ccc(C(=O)O)cc2)cc1', 'O=C(O)CCOc1ccc(/C=C/C(=O)c2ccccc2)cc1', 'COc1cccc(/C=C/C(=O)Oc2ccc(C(C)=O)cc2)c1', 'COC(=O)C1=C(C(=O)OC)c2c(cc3cccccc2-3)CC1', 'COC(=O)CC1(C(=O)OC)c2ccccc2-c2ccccc21', 'COc1cccc(C(=O)/C=C/c2cc(C)c3c(c2)OCO3)c1', 'CC(=O)O/C(=C\\\\c1cccc(OC(C)=O)c1)c1ccccc1', 'CCOC(=O)C=Cc1ccc(C=CC(=O)O)c2ccccc12', 'COc1ccccc1COC(=O)C1=Cc2ccccc2OC1', 'Cc1ccc(C(=O)C=Cc2ccc(OCC(=O)O)cc2)cc1', 'COc1cc(/C=C2\\\\COc3ccccc3C2=O)cc(OC)c1', 'C=C(C(=O)O[C@@H](Cc1ccccc1)C(=O)O)c1ccccc1', 'O[13C@@H]1[13C@@H](O)[13C@@H](O)c2cc3c(ccc4ccccc43)cc2[13C@H]1O', 'CCOC(=O)C1OC1(C)c1ccc2oc3ccccc3c2c1', 'COC(=O)c1ccc(OC(=O)/C=C/c2ccc(C)cc2)cc1', 'COC(=O)C(C)c1ccc2c(c1)C(c1ccccc1)C(=O)O2', 'Cc1cc2c(c3ccc4c(c13)C1OC1C(O)C4O)CCC2=O', 'COc1ccc(-c2oc3c(CC(=O)O)cccc3c2C)cc1', 'C=CCC(C(=O)Oc1ccccc1)C(=O)Oc1ccccc1', 'C#Cc1ccc2c(C(=O)OCC)cc(C(=O)OCC)c-2cc1', 'O=C1CC2C(c3ccc(O)cc3)Oc3ccc(O)cc3[C@H]2C1', 'COc1ccc(O)c2c(=O)cc(CCc3ccccc3)oc12', 'COc1ccc2oc(C(=O)Oc3ccc(C)cc3)c(C)c2c1', 'CC(=O)O/C(=C(\\\\CC(=O)O)c1ccccc1)c1ccccc1', 'COc1ccc(OC)c(C2(O)C=CC(=O)c3ccccc32)c1', 'COC(=O)C(c1ccccc1)c1cc2cccc(OC)c2o1', 'Cc1ccc(-c2ccccc2C(=O)OC2CCOC2=O)cc1', 'COc1ccc2c(Cc3ccc(O)cc3)c(C)c(=O)oc2c1', 'COC(=O)c1ccccc1C#Cc1ccc(OC)c(OC)c1', 'COC(=O)C(CC(=O)c1ccccc1)C(=O)c1ccccc1', 'CC(=O)C1=C(O)CCCC1C1=CC(=O)c2ccccc2C1=O', 'CCOC(=O)C(=Cc1ccc2c(c1)OCO2)c1ccccc1', 'COc1cc(C=Cc2cc(O)c3ccoc3c2)cc(OC)c1', 'C(\\\\Oc1ccc(-c2ccc(OCC3CO3)cc2)cc1)=C1/CO1', 'C=CC(=O)Oc1ccc(Cc2ccc(OC(C)=O)cc2)cc1', 'O=Cc1cc2c(cc1O)Cc1ccccc1[C@@H](CC(=O)O)C2', 'CCCc1oc2cc(O)ccc2c(=O)c1Oc1ccccc1', 'CC(=O)c1cc(/C=C\\\\c2ccc(O)c(C(C)=O)c2)ccc1O', 'O=c1cc(-c2ccccc2)oc2c(CC(O)CO)cccc12', 'COC(=O)C#Cc1ccc(OC)cc1OCc1ccccc1', 'CC(=O)OC(C(=O)c1ccccc1)C(=O)c1cccc(C)c1', 'COC[C@@H]1C(=O)CC1C#CC#Cc1ccc(C(=O)OC)cc1', '[2H]c1c([2H])c([2H])c2c(c1[2H])c([2H])c([2H])c1c([2H])c3c(c([2H])c12)[C@H](O)[C@@]([2H])(O)[C@H](O)[C@H]3O', 'CCC1Oc2cc(O)ccc2C2=C1c1ccc(O)cc1OC2', 'COc1ccc(/C=C\\\\C(=O)c2ccccc2CC(=O)O)cc1', 'Cc1ccc(O)c(C/C=C\\\\C(=O)c2ccc3c(c2)OCO3)c1', 'CC(C(=O)OC(=O)/C=C/c1ccccc1)c1ccccc1O', 'COc1ccc(-c2coc3cc(C)cc(OC)c3c2=O)cc1', 'O=C1CC2[C@H](C1)c1cc(O)ccc1O[C@@H]2c1ccc(O)cc1', 'CC(=O)CC1Oc2cc(O)ccc2C=C1c1ccc(O)cc1', 'COc1cc2oc(=O)cc(-c3ccc(C)cc3)c2cc1OC', 'COC(=O)[C@H]1CC(c2ccccc2)(c2ccccc2)OC1=O', 'COc1cc(C=O)ccc1OC(=O)C=Cc1ccc(C)cc1', 'C=CC(=O)OC1(OC(=O)C=C)C=CC(c2ccccc2)=CC1', 'COc1ccc(C(=O)CC(=O)c2ccc(C(C)=O)cc2)cc1', 'CCOC1(c2ccc(OC)cc2)C(=O)c2ccccc2C1=O', 'C=CCc1ccc2c(c1)OC(OC(=O)c1ccccc1C)O2', 'COc1ccc([C@@H]2O[C@]23Cc2ccccc2C3=O)cc1OC', 'CC(=O)O/C(=C/c1ccccc1)c1cccc(OC(C)=O)c1', 'COc1ccc(C(=O)C(C(C)=O)C(=O)c2ccccc2)cc1', 'Cc1ccc(Cc2ccccc2)cc1C(=O)CC(=O)C(=O)O', 'O=C(C=CC(=O)OCc1ccccc1)OCc1ccccc1', 'COc1ccc(/C=C/C(=O)/C=C(\\\\O)c2ccc(O)cc2)cc1', 'O=CC=Cc1ccc2c(c1)[C@H](CO)[C@@H](c1ccc(O)cc1)O2', 'C/C(=C\\\\c1ccc2ccc(/C=C(\\\\C)C(=O)O)cc2c1)C(=O)O', 'O=C(COc1ccccc1)OC1CCc2ccccc2C1=O', 'O=C(CC(=O)c1cc2c(cc1O)CCCO2)c1ccccc1', 'COc1cc(/C=C2\\\\CC/C(=C\\\\c3ccco3)C2=O)ccc1O', 'Cc1ccc2c(c1)C(=O)C[C@@H](c1ccc3c(c1)OCCO3)O2', 'COc1ccc(/C=C/C(=O)CC(=O)c2ccccc2O)cc1', 'CC(=O)Oc1cccc2c1Cc1c(cccc1OC(C)=O)C2', 'CC(C)=CCc1cc2c(=O)c3ccc(O)cc3oc2cc1O', 'CC(=O)C(=O)c1ccccc1.CC(=O)C(=O)c1ccccc1', 'CC(C)=CCc1c(O)cc2oc3ccccc3c(=O)c2c1O', 'CC[C@@H](c1ccc(O)cc1)c1c(O)c2ccccc2oc1=O', 'Oc1cccc2c1O2.Oc1ccccc1.Oc1ccccc1', '[CH2+]C(C)(c1ccc(C(=O)OC)cc1)c1ccccc1C(=O)[O-]', 'C=C(C)C(=O)Oc1ccc(C(=O)c2ccccc2)c(OC)c1', 'COC(=O)c1cccc([C@H]2CC(=O)c3ccc(C)cc3O2)c1', 'COc1c(C)c(C)c(OC)c2c1C(=O)c1ccccc1C2=O', 'O=C1CCc2ccc(O)c(c2)Oc2ccc(cc2)/C=C\\\\CO1', 'C=Cc1cccc(CC(=O)OCOC(=O)c2ccccc2)c1', 'O=C1O[C@H](Cc2ccccc2)C(=O)C1OCc1ccccc1', 'C=CC(OC(=O)c1ccccc1C(=O)O)c1ccccc1C', 'C=CC(=O)Oc1ccc(C(=O)c2ccccc2)c(OCC)c1', 'CC(=C(C)c1cccc(C(=O)O)c1)c1cccc(C(=O)O)c1', 'COC(=O)[C@@H]1CC(=O)OC1(c1ccccc1)c1ccccc1', 'CC(C)=CCOc1ccc2c(c1)O/C(=C/c1ccco1)C2=O', 'CC1(c2ccccc2)OC(=O)C(OCc2ccccc2)=C1O', 'C#CCOC(=O)c1ccc(OCc2ccccc2)c(OC)c1', 'O=C1c2c(c(O)c3ccccc3c2O)C(=O)C2CCCCC12', 'O=C(O)COc1cc(-c2ccccc2)cc2c1CCCC2=O', 'COc1cc(/C=C/c2cc(O)c3ccoc3c2)cc(OC)c1', 'COc1cccc(C(=O)c2ccc3c(c2)CC(C(=O)O)C3)c1', 'COc1ccc(C(=O)[C@@H]2C[C@H]2c2ccc3c(c2)OCO3)cc1', 'Cc1ccc(CO)c2c1C(=O)C1=C(C2=O)C(C)(C)C=CC1=O', 'CC1=C(O)C(Oc2ccc(-c3ccccc3)cc2)COC1=O', 'CCOC(=O)C(O)c1c(O)c2ccccc2c2ccccc12', 'CCOc1ccc2c(=O)c(-c3ccccc3OC)coc2c1', 'O=C(O[C@H]1CCOC1=O)C(c1ccccc1)c1ccccc1', 'C=C(C)COc1ccc2c(c1)OC(=Cc1ccc(C)o1)C2=O', 'COc1ccc(C(=O)COC(=O)/C=C/c2ccccc2)cc1', 'O=C(C/C=C\\\\CC(=O)Oc1ccccc1)Oc1ccccc1', 'CCCCC#Cc1ccc(C(=O)O)c2cccc(C(=O)O)c12', 'O=C1c2ccccc2C(=O)c2c(CCOCCO)cccc21', 'COC(=O)c1ccc2c(c1)C[C@@](C)(c1ccccc1)OC2=O', 'O=C(OCc1ccccc1)c1ccccc1C1CC1C(=O)O', 'O=C1C=C(O)CC(COc2ccc(-c3ccccc3)cc2)O1', 'COc1cccc(/C=C2\\\\Oc3cc(OC)cc(C)c3C2=O)c1', 'O=C(O)c1ccccc1C(=O)O[C@H]1CCCc2ccccc21', 'COC(=O)C(=O)CC(=O)c1cccc(Cc2ccccc2)c1', 'Cc1c(COC(=O)C2CC2c2ccco2)oc2ccccc12', 'Cc1ccc(/C(=C/c2ccc(C(=O)O)cc2)C(=O)O)cc1C', 'CCC(=O)Oc1cc(O)c2c(c1)CCc1ccccc1C2=O', 'CCCOc1cc(/C=C2\\\\Oc3ccccc3C2=O)ccc1O', 'COc1ccc2c(c1)C/C(=C\\\\c1ccc(O)c(OC)c1)C2=O', 'C=Cc1ccc(C(=O)OCC(=O)c2ccc(OC)cc2)cc1', 'COc1cccc2c1C(=O)OC1(C2)Cc2cccc(OC)c21', 'Cc1cccc2c3c(ccc12)C(O)=C(C(C)CO)C(=O)C3=O', 'O=C(CC(=O)c1ccc2c(c1)COCCO2)c1ccccc1', 'CC1=CC(c2ccccc2)=C2CC(=O)CC(CC(=O)O)=C2O1', 'O=C(COC(=O)c1cccc(O)c1)c1ccc2c(c1)CCC2', 'CC(C(=O)O)(C(=O)O)c1cccc(C=Cc2ccccc2)c1', 'Oc1ccc2c(c1)OCC1[C@@H]2c2cc(O)c(O)cc2C12CC2', 'CCOc1cccc(-c2ccc(/C=C/C(=O)C(=O)O)cc2)c1', 'COc1ccc(/C=C/C(=O)/C=C(\\\\O)c2ccccc2O)cc1', 'CCOC(=O)c1oc2cc(OC)ccc2c1-c1ccccc1', 'CCOC(=O)c1ccc2c(c1)CC(=O)C(c1ccccc1)O2', 'C=CC(=O)Oc1cc(C)c(OC(=O)C=C)c2ccc(C)cc12', 'CC(=O)c1ccc(C(=O)OCc2cccc(C(C)=O)c2)cc1', 'COc1ccccc1CCc1cc(=O)c2cc(O)ccc2o1', 'COCc1ccc2c(c1)C(=O)c1ccc(COC)cc1C2=O', 'O=Cc1ccc(OC/C=C\\\\COc2ccc(C=O)cc2)cc1', 'COc1ccc(Cc2cc(=O)c3cc(OC)ccc3o2)cc1', 'COCCc1ccc(OC(=O)c2cc3ccccc3o2)cc1', 'CC(C)c1oc2cc(O)ccc2c(=O)c1-c1ccc(O)cc1', 'COC(=O)c1ccc(OC)c(OC)c1C#Cc1ccccc1', 'CCOC(=O)c1ccc(C(=O)CC(=O)c2ccccc2)cc1', 'C=C(C)C(=O)Oc1cccc2c(C(C)=O)c(C(C)=O)ccc12', 'COC1=C(C)C(=O)c2c(oc(-c3ccccc3)cc2=O)C1C', 'Cc1cccc(C)c1Oc1c(C)oc2cc(O)ccc2c1=O', 'COC(=O)/C=C/C(=O)c1ccc(Oc2ccccc2)cc1C', 'CC(OC(=O)C=CC(=O)O)(c1ccccc1)c1ccccc1', 'COC(=O)c1ccc(C#Cc2cc(OC)cc(OC)c2)cc1', 'CCOC(=O)c1ccc(OCc2cc3ccccc3o2)cc1', '[2H]c1c(C)c(C([2H])([2H])[2H])c2oc3c(C([2H])([2H])C(=O)O)c(C)ccc3c(=O)c2c1[2H]', 'COc1ccc(-c2cc(O)c3ccccc3c2O)c(OC)c1', 'Cc1ccc(C(=O)C=Cc2ccc3c(c2)OCCO3)c(O)c1', 'CC(=O)c1ccc(-c2ccc3c(c2)C(=O)OC(C)(C)O3)cc1', 'CO[C@H]1OC(=O)C(c2ccccc2)=C1C(O)c1ccccc1', 'C[C@H](OC(=O)/C=C/c1ccc2c(c1)OCO2)c1ccccc1', 'COC(=O)c1ccccc1OC(=O)C=Cc1ccc(C)cc1', 'CC(=O)OC(OC(C)=O)C1c2ccccc2-c2ccccc21', 'O=C(O)c1ccccc1C(=O)O[C@@H]1CCc2ccccc2C1', 'CCOc1cc(/C=C2/COc3ccccc3C2=O)ccc1O', 'O=C(CCC(=O)c1cccc2c1OCCO2)c1ccccc1', 'COC(=O)c1cccc(/C=C/c2ccccc2C(=O)OC)c1', 'COC(=O)c1ccc(/C=C/C(=O)c2ccccc2OC)cc1', 'CC(C)Oc1ccc(-c2cc3ccccc3o2)cc1C(=O)O', 'O=C(C1=CCC(C=Cc2ccco2)C1)c1ccc(OO)cc1', 'O=C(O)C#Cc1ccccc1.O=C(O)CCc1ccccc1', 'O=C(O)/C(Cc1ccccc1)=C(\\\\Cc1ccccc1)C(=O)O', 'COC[C@H]1C(=O)C[C@@H]1C#CC#Cc1ccc(C(=O)OC)cc1', 'COc1ccc(-c2oc3cc(C)c(O)cc3c(=O)c2C)cc1', 'C=CCc1c(O)ccc(C(=O)/C=C/c2ccc(O)cc2)c1O', 'C=C(OCC)OC(=O)c1ccccc1C(=O)c1ccccc1', 'COc1cc(C)ccc1C(=O)C=Cc1ccc(C(=O)O)cc1', 'C1CCC(C1)(CNC(=O)NCC2CCCO2)C3=CSC=C3', 'CC1CCc2sc(C(=O)N3CCN(CCO)CC3)cc2C1', 'CC(C)(C)CCS(=O)(=O)NCc1ccccc1C#CCN', 'CCC(CSC)N(C)CC(O)COc1cccc(C#N)c1', 'CCN1CC2C(C1)C2(CC)c1cccc(NS(C)(=O)=O)c1', 'Cc1cc(N)cc(S(=O)(=O)N2CCC3(CCCC3)CC2)c1', 'CN1C[C@H]2COC[C@@H]1CN(C(=O)CCCc1cccs1)C2', 'COc1ccc(CN2CCNCC2)cc1OC1CCSC1', 'CCSC(=O)NC(CNC(=O)c1ccc(C)cc1)C(C)C', 'Cc1ccc(S(=O)(=O)N2CCN(CC3CC3)CC2)cc1C', 'CCCNc1cc(CSCC2CCCC2)ccc1[N+](=O)[O-]', 'CCS(=O)C1CCCC(NC(=O)Cc2ccc(N)cc2)C1', 'O=C(c1cccs1)N1CCCC[C@H]1CCN1CCOCC1', 'COCCNCc1cccc(SCC(=O)N2CCCC2)c1', 'CCC(C)(C)C1CCC(C(=O)O)C(Sc2cnccn2)C1', 'Cc1cc(CN)ccc1S(=O)(=O)NCC(C1CC1)C1CC1', 'Cc1ccc(S(=O)(=O)N2CCC(CNC3CC3)CC2)cc1', 'CCc1cc(C#CCN)ccc1NS(=O)(=O)CCC(C)C', 'CCS[C@H]1CC[C@@H](NC(=O)N(C)Cc2ccc(O)cc2)C1', 'O=C1CC(=O)N(C2CCCCC2)C(=S)N1C1CCCCC1', 'C[C@H](CNC(=O)N[C@H]1CCO[C@H](C2CC2)C1)c1ccsc1', 'COC(=O)c1sc(N2CCC(C)(C)CC2)c(C2CC2)c1N', 'Cc1ccc(S(=O)(=O)N2CCCC2C)cc1CNC1CC1', 'CCC1(C)NC(=O)C(C(C)C)N(C(C)c2ccsc2)C1=O', 'CCOC(=O)c1c(C)nsc1NC(C)C1CC2CCC1C2', 'CC1(C)CC2CC(C)(CN2S(=O)(=O)c2ccc(N)cc2)C1', 'CCC(CC)(NC(=O)c1cc2c(s1)CC[C@@H](C)C2)C(N)=O', 'CS(=O)(=O)c1ccc(N2CCNCC23CCCCC3)cc1', 'CSCCCN1CC[C@@H](NC(=O)c2ccccc2)[C@H](O)C1', 'CC(C)Oc1ccc(NC(=O)CSC2CCNCC2)cc1', 'CC(C)N(CCNC(=O)c1ccc(C#CCO)s1)C(C)C', 'C[C@@H]1CCN(C(=O)Nc2ccccc2C[S@@](C)=O)C[C@H]1C', 'CN(CCOCC1CC1)CCOc1cccc(C(N)=S)c1', 'CCC1(CC)CCN(S(=O)(=O)c2ccc3c(c2)CCN3)C1', 'Cc1ccc(S(=O)(=O)N2CCCC(C3CCCN3)C2)cc1', 'CC1Cc2ccccc2N1S(=O)(=O)CCC1CCCCN1', 'CCC(CC)[C@H](NC(=O)CN1CCCC1=O)c1cccs1', 'CC(c1ccc(S(C)(=O)=O)cc1)N1CC2CCC(N)C2C1', 'COc1cccc(CCNC(=O)CSC2CCNCC2)c1', 'C[C@H]1[C@@H](NC(=O)[C@@H](C)Sc2cccc[n+]2[O-])CCC[C@@H]1C', 'CCN(C(=O)CC1CSCCN1)C(C)c1cccc(O)c1', 'COCCN1CCC2(CCCN(Cc3cccs3)C2)C1=O', 'CC(CNCCS(=O)(=O)c1cccc(C#N)c1)C(C)(C)C', 'CCNC1(C(=O)OCC)CCCC(Sc2ccccn2)C1', 'COc1cccc(SCC(=O)NC[C@@H]2CCCN(C)C2)c1', 'CCCC1C(=O)NC(CC(C)C)C(=O)N1Cc1cccs1', 'Cc1ccc(C(C)N2C(=O)C(C(C)(C)C)NC(=O)C2C)s1', 'CCSc1ccc(C(C)NC(=O)[C@@H]2CC[C@H](CN)O2)cc1', 'CC1CCN(S(=O)(=O)Cc2cccc(CNC3CC3)c2)C1', 'CCC(C)NC(=O)CCNC(=O)C(S)Cc1ccccc1', 'NCC(NC(=O)CSc1ccc(O)cc1)C1CCCCC1', 'CCSc1cccc(N2CCCN(C)CC2C)c1C(=O)O', 'C=CCN1CCOC[C@@]2(C1)CN(Cc1cccs1)CCO2', 'COCC1(C(=O)N2CCCC2c2cccs2)CCNCC1', 'CC(C)(C)OC(=O)N1CCC(CSCc2ccncc2)C1', 'C=CCN(CC=C)S(=O)(=O)c1cc(CNC)cc(C)c1C', 'Cc1ccc(CN)cc1S(=O)(=O)N1CCC2CCCCC21', 'COc1ccc(NC(=S)NC2(C)CCCCC2)c(OC)c1', 'Cc1cc(C)c(S(=O)(=O)N2CCCC2)cc1CNC1CC1', 'CCC1(C)NC(=O)C(CC)(CC)N(Cc2ccsc2)C1=O', 'Cc1ccc(C2NC3(CC3)C(=O)N2CCOCC(C)C)s1', 'CC(C)Sc1ccccc1NC(=O)N1CCC(C)C(O)C1', 'CCCC1NC(=O)C(CC)N(Cc2ccc(CC)s2)C1=O', 'CCCCCCC(C)NS(=O)(=O)c1ccc(CC#N)cc1', 'CCC1NC(c2cccs2)N(CCOC2CCCC2)C1=O', 'COc1ccc(CCCNC(=O)N2CCCSCC2)cc1', 'COc1cc2c(cc1OC)CN(CC1CSCCN1)CC2', 'CCCCCCCC(=O)Nc1c(OC)cccc1C(N)=S', 'CC(C)(C)OC(=O)N1CCNC(c2cc3c(s2)CCC3)C1', 'CCC1(CC)NC(=O)CC(C)N(CCc2ccsc2)C1=O', 'NCc1ccccc1S(=O)(=O)N1CCC2(CCCC2)CC1', 'CC(=O)N1CC[C@@]2(CO)CN(Cc3ccc(C)s3)C[C@H]2C1', 'C=C(C)CN(C)S(=O)(=O)Cc1ccc(CNC2CC2)cc1', 'CCCN1CCCN(S(=O)(=O)/C=C/c2ccccc2)CC1', 'CC(C)C1NC(=O)C(C)N(CC(C)(C)c2cccs2)C1=O', 'CC(C)(C)S(=O)(=O)CCn1ccc2c(CCN)cccc21', 'C=C(C)CC1(CCO)S/C(=N/[C@H]2C[C@@H]3CC[C@H]2C3)NC1=O', 'Cc1cccc(S(=O)(=O)N2CCN(C3CCCC3)CC2)c1', 'COCC(=O)N1CCCN(Cc2ccc(SC)cc2)CC1', 'CC(c1ccc(C(=O)N2CCSCC2)o1)N1CCCCC1', 'C#CCN(CC)S(=O)(=O)c1cc(CNC(C)C)ccc1C', 'CCCC1NC(=O)C(CC)N(Cc2sccc2CC)C1=O', 'C[C@@H](c1cccs1)N(C)C(=O)CCN1CCCCCC1=O', 'COc1ccc(CN2CCCCC2CCO)cc1C(N)=S', 'CCCS(=O)(=O)c1ccccc1N1CC2CNCC2C1C', 'CSC[C@H](C)C(=O)N1CCC(COc2ccccn2)CC1', 'COc1cc(C(N)=S)ccc1NC(=O)CC(C)C(C)(C)C', 'O=S(=O)(Nc1ccc(CNC2CC2)cc1)C1CCCCC1', 'CCc1ccc(NC(=S)NCCCCCC(=O)OC)cc1', 'CSc1ccc([C@H](C)NC(=O)[C@H](NC(C)=O)C(C)C)cc1', 'Cc1ccc(SCCC(=O)NCC(=O)NC(C)(C)C)cc1', 'Cc1ccsc1C(=O)N1CCCC[C@@H]1CN1CCOCC1', 'CCCCN(CC)C(=O)c1ccc(OC2CCSC2)nc1', 'CCOC(=O)CCCCCN(C)c1ccc(C(N)=S)cc1', 'CC(C)CC(CO)NC(=O)NC1CCSc2ccccc21', 'CC(C)(C)c1ncc(C=CC(=O)NCC2(O)CCCC2)s1', 'Cc1cc(SC(C)(C)C)ccc1NC(=O)N1CC[C@@H](O)C1', 'CS(=O)(=O)N1CCCC(Cc2cccc3c2CCNC3)C1', 'CSc1ccccc1NC(=O)NC1CCCCCC1CO', 'CS(=O)CCNC(=O)NCC1(Cc2ccccc2)CCC1', 'CC(C)S(=O)(=O)N1CCC(N2CCc3ccccc3C2)C1', 'C[C@H]1C[C@@H](C(=O)NCCS(=O)Cc2ccccc2)CCN1', 'COCC1(CNC(=O)C2CCCc3sccc32)CCCN1', 'Cc1cc(C)c(CNC(=O)NC[C@@]2(O)CCSC2)c(C)c1', 'CSc1cc(C)ccc1CNC(=O)C1(CN)CCOCC1', 'O=C(CSCc1ccccn1)NC1CCCCCC1CO', 'CCOc1cccc(C2SCC(=O)N2CCCN(C)C)c1', 'COCC1(C(=O)N2CCc3sccc3C2C)CCNCC1', 'COc1cc(C)c(CSC2=NCC(C)(C)CN2)cc1OC', 'O=C(O)C1CCCN(Cc2cc(CN3CCCC3)cs2)C1', 'CCC1C(=O)NC(C)(CC)C(=O)N1C(CC)c1cccs1', 'CCC(CC)(CC)NCCS(=O)(=O)c1cccc(C#N)c1', 'CS(=O)(=O)N1CCC2(CCN(Cc3ccccc3)CC2)C1', 'CCC(N)C(SCC1(CC(=O)OC)CC1)c1ccncc1', 'CSc1ccc([C@H](C)NC(=O)[C@@H](NC(C)=O)C(C)C)cc1', 'CCS(=O)(=O)c1ccc(NC2CC3CCC(C2)N3C)cc1', 'COCCCNC(=S)NC(=O)c1ccc(C(C)(C)C)cc1', 'CC1(C)CCCCC1NS(=O)(=O)c1ccc2c(c1)CNC2', 'Cc1ccc(CSCC(=O)N2CCN(CCO)CC2)cc1', 'CC(C)CCOCCNC(=O)Cc1ccc(C(N)=S)cc1', 'CC(C)CCC(C)NS(=O)(=O)c1ccc(C#CCN)cc1', 'C=C(C)CN(CC)C(=O)C(NC(=O)c1cccs1)C(C)C', 'CC(C)CCC(C)NS(=O)(=O)c1cccc(C#CCN)c1', 'CC(=O)c1sc(NC(C2CC2)C2CC2)c(OC(C)C)c1N', 'O=S(=O)(CC1CCCCC1)Nc1cccc2c1CCCN2', 'CCc1ccsc1CN1CCC(=O)NC(CC)(CC)C1=O', 'CS(=O)(=O)c1cccc(N2CCC3(CCCC3)CC2)c1N', 'CCSc1ccc(NC(=O)N2CCCC[C@H]2COC)cc1', 'CNC(C)c1ccc(SCC(=O)NC2CCOCC2)cc1', 'CCOC1CC(N2C(=O)C(C)NC2c2ccsc2)C1(C)C', 'CSCC(C)N(C)CC(O)COc1cccc2[nH]ccc12', 'CCCC1CN=C(Nc2ccc(OCC)c(OCC)c2)S1', 'CCCCCCNC(=S)N(C)c1ccccc1C(=O)OC', 'Cc1ccc(CCNC(=O)NCC2(O)CCSC2)c(C)c1', 'CCC(C)C1NC(=O)CCN(C(CC)c2cccs2)C1=O', 'Nc1ccc(CS(=O)(=O)N2CCC3(CCCC3)CC2)cc1', 'CSCC(C)(O)CNC(=O)NCc1ccc2c(c1)CCC2', 'Cc1csc(N2CCCC(C(=O)C3CCOCC3)CC2)n1', 'CCCOc1cccc(C(=O)N(CC)CC(C)C(N)=S)c1', 'COC(=O)CCc1csc(NC(C)C2CC3CCC2C3)n1', 'CCCNS(=O)(=O)c1ccc(NCC2(C3CC3)CC2)cc1', 'Cc1ccc(C2NCC(=O)N2CCOC2CCCCC2)s1', 'Cc1csc(CNC(=O)N2CC[C@H](C3CCOCC3)C2)c1', 'CCNCc1ccc(CS(=O)(=O)N2CC=C(C)CC2)cc1', 'CC(C)(C)OC(=O)N1CCCC1CSCc1ccccn1', 'COC1CCCC1N1C(=O)C(C(C)C)NC1c1ccsc1', 'COCCN(C(=O)CCc1ccc(N)cc1)C1CCSC1', 'CSC1(CNc2cc(C(=O)O)cc(C(C)C)n2)CCCC1', 'Cc1cccc(S(=O)(=O)N2CC[C@@]3(CCCN(C)C3)C2)c1', 'CCN(CC)C(=O)CSCC(=O)Nc1ccc(C)cc1C', 'CCOc1c(N)cccc1C(=O)NCC1(SC)CCCC1', 'CC1(CNS(=O)(=O)c2cccc3c2CCNC3)CCCC1', 'NCc1cccc(S(=O)(=O)N2CCC3CCCCC3C2)c1', 'O=C(O)C1CNCCN(Cc2ccc(C3CCCC3)s2)C1', 'CCNCc1cc(S(=O)(=O)N2CC=CCC2)ccc1CC', 'CSc1cccc(NC(=O)CN(C)CC2CCCC2O)c1', 'COCCC1(CNCC(=O)N2CCc3sccc3C2)CC1', 'CCOC(=O)CCc1csc(NCC2CC3CCC2C3)n1', 'CC(C)NS(=O)(=O)c1ccccc1NCCC1=CCCC1', 'Cc1cc(C(=O)N2CCN([C@@H]3CCC[C@H]3O)CC2)c(C)s1', 'CCOc1ccc(NC(=O)CSC2CCNCC2)c(C)c1', 'CCN(C1CC1)S(=O)(=O)Cc1cccc(CNC2CC2)c1', 'CC(=O)c1cc(CN2C[C@H](O)[C@@H](N3CCCCC3)C2)cs1', 'CCOc1cc2c(cc1CNC(=S)NC(C)C)O[C@H](C)C2', 'O=S(=O)(CCCNC1CC1)N1CCCc2ccccc2C1', 'C[C@H](C1CC1)N(C)S(=O)(=O)N[C@@H]1CCc2ccccc2C1', 'C=CCSc1ccccc1NC(=O)CN(C)CC(C)(C)O', 'CC(S)C1(C)CNC[C@H]1CN(C)OC(=O)c1ccccc1', 'Cc1ccccc1CN1CCCC(NS(=O)(=O)C2CC2)C1', 'CC(C)c1ccc(S(=O)(=O)N2C(C)CC3CNCC32)cc1', 'CN(CC(=O)O)C1CCN(CCSc2ccccc2)CC1', 'CC(=O)N[C@@H](C(=O)NCCSc1ccc(C)cc1)C(C)C', 'CCC(NC(=O)N1CCCSCC1)c1ccc(OC)cc1', 'CCCCC1NC(c2cccs2)N(C2CCCOC2)C1=O', 'Nc1cccc(NC(=O)CCCS(=O)CC2CCCC2)c1', 'CSc1ccccc1NC(=O)CCN1CCC(C(C)O)C1', 'COC1(c2nc(C3CC3)c(CNC3CC3)s2)CCOCC1', 'CC(C)(C)S(=O)N1CCCC[C@H]1C(=O)Nc1ccccc1', 'CC(C)(C)c1ccccc1OCCNC(=O)C1CSCN1', 'CC(NS(=O)(=O)c1ccc2c(c1)CCC2)C1CCCCN1', 'CC(C)c1ccc(SCC(=O)NC(=O)NC(C)(C)C)cc1', 'Cc1ccc(S(=O)(=O)N2CCC[C@H]3CCCC[C@H]32)c(N)c1', 'Cc1cc(N)cc(C)c1S(=O)(=O)NCC1CC2CCC1C2', 'CSC1CCC(NC(=O)CCOc2ccccc2N)CC1', 'Cc1ccc(C(C)(C)C)cc1S(=O)(=O)NC1C2CNCC21', 'CCCC(c1cccs1)N1CC(=O)NC(CC)(CC)C1=O', 'C[C@@H]1CCCN(S(=O)(=O)N2CCC[C@@H]2c2ccccc2)C1', 'CCc1ccsc1CN1C(=O)C(C(C)C)NC(=O)C1CC', 'Cc1nc(C(C)C)sc1C(=O)N1C[C@@H]2CCC[C@]2(CO)C1', 'Cc1ncsc1CN1CC[C@]2(C[C@@H](OCC3CC3)CO2)C1', 'O=C(CN1CCCC(CO)C1)NCCSc1ccccc1', 'O=S(=O)(Cc1cccc(CNC2CC2)c1)NC1CCCC1', 'C=CCN(Cc1cccs1)C(=O)CN1CCCC(CO)C1', 'CC(C)CCc1nc(CN2C3CCC2C(C(=O)O)C3)cs1', 'CSc1cc(C)ccc1CNC(=O)N(C)CC(O)C1CC1', 'CCOC1CC(N2C(=O)CNC2c2ccc(C)s2)C1(C)C', 'CSc1cccc(N[C@H](C)C(=O)N2C[C@H](C)O[C@@H](C)C2)c1', 'CCOC(=O)CCN(CC(C)C)C(=S)Nc1ccccc1', 'Cc1ccc(S(=O)(=O)N2C[C@H]3CCC(N)C[C@H]3C2)c(C)c1', 'CC1(C)CC2(CCO1)S/C(=N\\\\[C@H]1C[C@@H]3CCC1C3)NC2=O', 'O=C(O)c1ccc(CN2CCC(CN3CCCC3)CC2)s1', 'Cc1csc(=O)n1CC(=O)N[C@@H]1C[C@@H]2CC[C@]1(C)C2(C)C', 'CCCc1nc(CN2[C@@H]3CCCC[C@@H]3C[C@H]2C(=O)O)cs1', 'CC(O)c1cccc(NC(=O)N2CCSC(C)(C)CC2)c1', 'CCCCCCOCCC(=O)Nc1cccc(C(N)=S)c1', 'CC(C)(C)C1CCN(c2nc(C3CC3)c(C(=O)O)s2)CC1', 'CC(O)C1CCN(CC(=O)N2CCCC2c2cccs2)C1', 'CC.CCC(=O)[C@@H]1CCCN1C(=O)c1ccc(SN)cc1', 'Cc1cc(N)cc(S(=O)(=O)NCC2CC3CCC2C3)c1C', 'O=C(CCc1cccs1)N1CCN([C@H]2CCC[C@H]2O)CC1', 'CC(CO)(NC(=O)NCCCSc1ccccc1)C1CC1', 'CC[S@@](=O)CCNC(=O)[C@@H]1CCCN1Cc1ccccc1', 'CC(C)(C)OC(=O)N1CCC[C@@H](CSc2ccccn2)C1', 'CN(CCOc1ccccc1)C(=O)CSC1CCNCC1', 'CSC[C@@H]1CCCN([C@@H](C)c2cc([N+](=O)[O-])ccc2C)C1', 'COC(=O)Cc1ccccc1CN(CCC(N)=S)C(C)C', 'CCC1CCC(NC(=O)CCc2ccco2)(C(N)=S)CC1', 'CN(C)C1(CNC2CCS(=O)(=O)c3ccccc32)CCC1', 'O=C(CC1COCCN1)NC(c1cccs1)C1CCCC1', 'CC(C)(C)C1CCN(c2nc3c(s2)CCCC3C(=O)O)C1', 'Cc1cc(N)cc(S(=O)(=O)N(C)CC2CC3CCC2C3)c1', 'O=S(=O)(CCCNC1CC1)Nc1cccc2c1CCCC2', 'CC(N)C1CCCCN1S(=O)(=O)c1ccc2c(c1)CCC2', 'O=C(CSc1ccncc1)NC(CCO)C1CCCCC1', 'CCCCOCCCN1C(=O)C2(CC2)NC1c1ccsc1', 'CCOC(=O)C(c1ccc(SC)cc1)N1CCCNCC1', 'O=C(S)C1CCCN1C(=O)NC12CC3CC(CC(C3)C1)C2', 'Cc1ccc(S(=O)(=O)N2CCC(N3CCCC3)CC2)cc1', 'O=S1(=O)CCCC(Nc2ccc(CN3CCCC3)cc2)C1', 'COc1c(CN2CCNCC2)cccc1OC1CCSC1', 'CCCCCCC(=O)NC(=S)Nc1ccc(OCC)cc1', 'CC(C)c1cc(C(N)=O)c(NC(=O)C2CCCCCC2)s1', 'CC(C)C1(O)CN(CC(=O)N2CCCC2c2cccs2)C1', 'CCOc1cccc(CNC(=O)CSC2CCNCC2)c1', 'O=S(=O)(NCC[C@H]1CCCN1)c1ccc2c(c1)CCCC2', 'CN(CC1CCCC1)S(=O)(=O)c1cccc2c1CCCN2', 'O=C(NCC1(c2cccs2)CCCCC1)C1CNCCO1', 'C#CCN(CCC)S(=O)(=O)c1ccc(C)c(CNCC)c1', 'COc1cc(SC)ccc1C(=O)N(C)C1CCN(C)CC1', 'Cc1ncsc1CCOCc1occc1CNCC(C)C', 'CC.CSc1cccc2c(CC(N)C(=O)O)c(C)n(C)c12', 'COCC(C)CN1C(=O)C2(CCCC2)NC1c1cccs1', 'CC(C)C(C)CNCC(O)COc1cccc2sncc12', 'CCC(C)N(CC(O)COc1cccc2[nH]ccc12)SC', 'O=C([C@H]1CCCCN1)N(Cc1cccs1)CC1CCCO1', 'O=C([C@@H]1CSCN1C(=O)C1CCC1)N1C[C@H]2CCC[C@@H]2C1', 'CCCNC(C)(CO)CCCSc1nc2ccccc2o1', 'COCc1cccc(C(=O)N2CCN(CCSC)CC2)c1', 'C=CCOC[C@@]12CCCO[C@H]1CCN(Cc1nccs1)C2', 'CC1CCCCN1CC(O)COc1cccc(C(N)=S)c1', 'Cc1cc(C(=O)N[C@H]2CN(CCO)C[C@@H]2C2CC2)sc1C', 'CCC(CC)C1CN=C(Nc2ccc(OC)cc2OC)S1', 'CC1(N2CCCNC(c3ccccc3)C2)CCS(=O)(=O)C1', 'O=C(NCCCC(=O)N1CCCCCCC1)c1cccs1', 'O=C(c1cccs1)N1CCCC[C@@H]1CCN1CCOCC1', 'CCCC[C@H]1C(=O)N(C)CCN1C(=O)CCc1cccs1', 'CC1=CC(=NO1)C2=NN=CC3=C(C(=NN32)OCC4=NC=NN4C)C(C)(C)C', 'Cc1noc(CN2CCC[C@@H](C(=O)Nc3cccc(-n4cnnn4)c3)C2)n1', '[H]/N=C(N)/C=C\\\\NNC(=O)c1nc(-c2ccc(C(=O)N(C)C)cc2)cnc1N', 'Cn1cc(Nc2ncc(C(N)=O)c(N[C@H]3[C@@H](C(N)=O)[C@H]4C=C[C@H]3C4)n2)cn1', 'Cn1c(Cn2ccnc2)nnc1C1CCN(C(=O)c2c[nH]c(=O)cn2)CC1', 'CC1NNC(C)C1NC(=O)Cn1nnc2c(cnn2-c2ccccc2)c1=O', 'CC(Nc1nc(-c2cccc3[nH]ncc23)nc(N2CCOCC2)n1)C(N)=O', 'CNC(=O)c1nnc(Nc2ccc(C#N)nc2)cc1NC[C@H]1CNCCO1', 'COc1ccc(NC(=O)C2(n3cccn3)CCNCC2)cc1-n1cnnn1', 'CCC(C)c1cc2nnc(-c3cc(C)on3)n2nc1OCc1ncnn1C', 'Cc1nc(NCCNC(=O)COc2ncccn2)cc(-n2ccnc2C)n1', 'Cc1ccc(-n2cnnn2)c(NC(=O)N(C)Cc2noc(C3CCC3)n2)c1', 'CCn1c(C2CCCN(C(=O)c3cccc(-n4cnnc4)n3)C2)n[nH]c1=O', 'COc1cc(-c2cnn(CC(=O)Nc3cc(C4CC4)nn3C)c2)nc(N)n1', 'CCn1cnnc1CNC(=O)N1CC(C)(c2nnc(-c3ccccn3)o2)C1', 'C[C@H](Nc1n/c(=N\\\\C2CC2)n2nc/c(=C\\\\c3[nH]c(=O)[nH]c3O)c2n1)C1CC1', 'Cc1cc(=O)n2[nH]c(CC(=O)N[C@@H]3CCCN(c4ncccn4)C3)nc2n1', '[N-]=[N+]=Nc1ccc(-c2nc(N3CCOCC3)nc(N3CCOCC3)n2)cc1', 'COc1ccc(C(=O)N2CCCN(c3ccc4nnc(C)n4n3)CC2)nn1', 'C=CC(=O)Nc1ccc(C(NCc2nnc(CC)o2)c2nnnn2C)cc1', 'COc1ccccc1N1CCN(C(=O)c2cn[nH]c2-n2cnnn2)C(C)C1', 'CCOc1ccccc1NC(=O)N1CC(n2cc(Cn3nccn3)nn2)C1', 'COc1ccc2nc(C(=O)Nc3nn[nH]n3)cc(N3CCN(C)CC3)c2c1', 'CNc1cc(Nc2cccc(N3CCCC3O)n2)nc2c(C(N)=O)cnn12', 'Cc1cc(N2Cc3ccnn3[C@H](C(=O)N3CCCCO3)C2)n2ncnc2n1', 'CNC(=O)c1nnc(Nc2ccc(C#N)nc2)cc1NC[C@@H]1CNCCO1', 'COc1cc(NC(=O)N2CCCn3nc(C)cc3C2)cc(-n2cnnn2)c1', 'COc1ccc(-n2nc(C(=O)N3CCN(C)CC3)cc2-c2cn[nH]n2)cn1', 'NC1CCN(c2nc(NC3CC3)n3ncc(/C=C4\\\\CC(=O)NC4=O)c3n2)C1', 'C=C1C(n2ccnn2)=CNN1c1cc(N2CCC(C(=O)OC)CC2)ncn1', 'CN1CCN(Nc2cc(N)c([N+](=O)[O-])c(-c3ccc4cn[nH]c4c3)n2)CC1', 'COc1nc(Nc2ccc3cn[nH]c3c2)nc(N2CCC(C(N)=O)CC2)n1', 'C/N=C(\\\\NCCNc1ccccc1[N+](=O)[O-])NCc1nnc2ccccn12', 'Cn1c(N2CCN(c3ccc(-n4cccn4)nn3)CC2)cc(=O)n(C)c1=O', 'Cc1noc(CN2CCCC(C(=O)Nc3cccc(-n4cnnn4)c3)C2)n1', 'CCc1nc(-c2ccc(N3CCN(C(=O)c4cn(C)nn4)CC3)nc2)no1', 'Cc1c(C(=O)NC2CCN(c3cc(=O)[nH]c(N)n3)CC2)cnc2ccnn12', 'CCOc1ccc(NC(=O)N2CC(n3cc(Cn4nccn4)nn3)C2)cc1', 'O=c1cc(-n2ccnn2)[nH]n1-c1cc(N2CCC3(CCOC3)CC2)ncn1', 'Cc1cc(C)n(-c2ccc(NCCNC(=O)c3ccc(=O)n(C)n3)nn2)n1', 'CC1NCCC23C(C(=O)On4nnc5ccccc54)=C(N)NN2C=NCC13', 'Cn1ncc2c(=O)[nH]c(N3CCC(n4cc(N5CCCC5=O)cn4)C3)nc21', 'C=CC(=O)N1CCC[C@@H](Nc2ncnc(N)c2N(C=O)c2ncccn2)C1', 'CC(=O)NCc1ccn2cc(CNC(=O)c3ncnn3CC3CC3)nc2n1', 'CCOC(=O)N1CCN(c2ncnc(-n3nnc4ccccc43)c2N)CC1', 'Cc1nc(CNC(=O)Cn2nnnc2CN2CCc3ccccc3C2)no1', 'Cc1nc([C@H]2CCCN(C(=O)Nc3ccc(-n4nnnc4C)cc3)C2)no1', 'Cn1nnc(-c2ccc(C(=O)NC3CC(c4nnc(CO)n4C)C3)cc2)n1', 'COc1ccc(-n2nnc3cnc(N[C@@H]4CC[C@H](/C(N)=N/O)C4)nc32)cc1', 'Cn1c(Nc2ccccc2C(N)=O)nc2nc(N3CCNCC3)[nH]c2c1=O', 'CC(C)n1ncnc1-c1cn2c(n1)-c1cnc(NCC(N)=O)cc1OCC2', 'COc1nc(Nc2ccc3[nH]ncc3c2)nc(N2CCC(C(N)=O)CC2)n1', 'CCc1nc(C2CN(C(=O)Cc3ccc(-n4cnnn4)cc3)CCO2)n[nH]1', 'Cc1c(C(C)(C)C)c(OCc2cn(C)nn2)nn2c(-c3ccon3)nnc12', 'COc1nn(C)cc1C(=O)NCCNc1ccc(Nc2cccnc2)nn1', 'NC1CCC(n2cc(C(=O)NCc3nc(-c4cccnc4)no3)nn2)CC1', 'CCn1c(-c2nonc2N)nc2c(-c3cc[nH]c3)ncc(OCCCN)c21', 'Nc1n[nH]c(C2CCN(C(=O)CCc3nc(-c4cccnc4)no3)CC2)n1', 'O=c1[nH]c(O)c(/C=c2/cnn3/c(=N/C4CC4)cc(N4CCNCC4)nc23)[nH]1', 'COc1ccc(Cc2n[nH]c3c2CN(C(=O)Cn2nnnc2N)CC3)cc1', 'CCC(C(N)=O)N(C)c1cnc(C(N)=O)c(Nc2ccc3nccn3c2)n1', 'Cc1cc(C)n2nc(C(=O)N3CCCC[C@H]3c3cc(C(N)=O)n[nH]3)nc2n1', 'COc1cc(OC)nc(N2CCN(c3cc(-n4cccn4)ncn3)CC2)n1', 'O=c1[nH]c(O)c(C=c2cnn3/c(=N/C4CC4)nc(N4CCCCC4)nc23)[nH]1', 'COCc1noc(N2CC3CN(c4cc(-n5cccn5)ncn4)CC3C2)n1', 'CN1CCN(CC(=O)Nc2cc(-n3cccn3)nc(-c3ncco3)n2)CC1', 'C[C@@H]1CN(Cc2n[nH]c(=O)[nH]2)C[C@H]1NC(=O)c1ccc(-n2ccnn2)cc1', 'CCNC(=O)Nc1nc2c(-c3ncccn3)cc(NC(=O)N(C)C)cc2[nH]1', 'CCCCc1cc2nnc(-c3cc(C)on3)n2nc1OCc1ncn(C)n1', 'COCc1nnc2n1[C@@H](C)CN(C(=O)c1ccc(Cn3cnnn3)cc1)C2', 'CC(C)C(=O)N1CCn2nc(CNC(=O)c3ccn4nnnc4c3)cc2C1', 'N#Cc1cnc(Nc2cc(NC[C@H]3CNCCO3)c(OC3CC3)nn2)cn1', 'Cc1cc(CNC(=O)COc2ccc(-n3cccn3)nn2)nc(N(C)C)n1', 'Cn1cc(COc2nn3c(-c4ccon4)nnc3cc2CC(C)(C)C)nn1', 'O=C(NC1CN(Cc2cnn(Cc3ncco3)c2)C1)c1cn(C2CC2)nn1', 'CCC(C(N)=O)N(C)c1ncc(C(N)=O)c(Nc2ccc3cn[nH]c3c2)n1', 'Cc1cc(-c2nnc3c(C(C)(C)C)cc(OCc4cn(C)nn4)nn23)no1', 'CC(C)[C@@H]1c2nc(-c3cccnc3)nn2CCN1C(=O)c1nn(C)c(=O)[nH]1', 'CCCc1c(C(=O)N/N=C/c2ccc(CC)cc2)nnn1-c1nonc1N', 'Cc1cc(-c2nnc3cc(C(C)(C)C)c(OCc4ncnn4C)nn23)on1', 'CCn1c(-c2cnc(C)nc2)nc2c(NOC(=O)N3CCCC3)ncnc21', 'Cc1cc(Nc2cc(N)n3ncc(C(N)=O)c3n2)cc(N2CC[C@@H](O)C2)n1', 'C[C@H]1OCCn2c1nc1c(N3CCOCC3)nc(-c3cnc(N)nc3)nc12', 'Cc1nc(N)nc(N2CCC3(CC2)NC(=O)NC3=O)c1-c1ccc(N)nc1', 'CCC(C(N)=O)N(C)c1ncc(C(N)=O)c(Nc2ccc3[nH]ncc3c2)n1', 'CN1CCC(N(C)c2ncnc(-n3nnc4ccccc43)c2[N+](=O)[O-])CC1', 'O=C(NCC1CCCN(C(=O)Cn2cnnn2)C1)c1n[nH]c2ccccc12', 'C[C@H]1CC[C@@H](c2ccn[nH]2)N(C(=O)C(=O)Nc2cnc(N)c3cn[nH]c23)C1', 'COc1nc(NC(=O)c2cnc(N3CCNCC3)cn2)cn2cc(C)nc12', 'COc1ccccc1-n1nc(CC(N)=O)nc1[C@H]1CCCCn2nnnc21', 'Cc1cc(-c2nnc3c(C(C)(C)C)cc(OCc4ncn(C)n4)nn23)no1', 'CC/N=C(C(/O)=C(/C)N)\\\\c1nc(-c2nc(C(N)=O)n3cc(C)ccc23)n[nH]1', 'O=c1ccc(-n2cccn2)nn1CCNc1cc(N2CCOCC2)ncn1', 'COc1ccccc1-n1nc(CC(N)=O)nc1C1CCCCn2nnnc21', 'CCc1ccccc1Nc1nc(N)nc(Cn2nc(C)c([N+](=O)[O-])c2C)n1', 'CCNn1cnc2cc(O)c(N(N)c3cc4c(cc3O)ncn4NC)cc21', 'O=C(N[C@H]1CCCN(Cc2cccc(O)c2)C1)c1cn[nH]c1-n1cnnn1', 'C/C=C(\\\\NNC(=O)c1nnn(-c2nonc2N)c1C(C)C)c1ccccc1', 'COc1ccccc1N1CCN(C(=O)c2cn[nH]c2-n2cnnn2)[C@H](C)C1', 'Nc1ncc(-c2nc(N3CCOCC3)nc3c2ncn3C2CCOC2)cn1', 'Cc1nc(C2CN(C(=O)NCc3ccnc(-n4cccn4)c3)CCO2)n[nH]1', 'COC(=O)Cn1cc(CN2CCc3nnc(-c4cnn(C)c4)cc3C2)nn1', 'COc1nn(C)cc1C(=O)NCCNc1ccc(Nc2ccncc2)nn1', 'Cn1cc(Nc2ncc(C(N)=O)c(N[C@H]3[C@@H](C(N)=O)[C@@H]4C=C[C@H]3C4)n2)cn1', 'Cn1cc2c(=O)n(C)c(N3CC(n4cc(N5CCCC5=O)cn4)C3)nc2n1', 'Cc1cc(C)n2c(C(=O)N3CCN(c4cnn(C)c(=O)c4)CC3)nnc2n1', 'Cc1cc(C)n(CCNC(=O)C(=O)Nc2cccc(-n3nnnc3C)c2)n1', 'COc1ccc(NC(=O)[C@H]2CNC[C@@H]2c2cnn(C)c2)cc1-n1cnnn1', 'Cn1nc(C2CCN(C(=O)Cn3ncnn3)CC2)n(-c2ccccc2)c1=O', 'O=C(Cn1cnnn1)N1CCCN(Cc2noc(-c3ccccc3)n2)CC1', 'O=c1c(-n2ccnn2)c[nH]n1-c1cc(N2CCC3(CCOC3)CC2)ncn1', 'O=C(Cn1cnnn1)NCC1CCN(c2nc(-c3ccccc3)no2)CC1', 'Cc1noc(C)c1CC(=O)N1CCN(c2ccc(-n3cncn3)nn2)CC1', 'Cn1cc(N(C(=O)OC(C)(C)C)c2nccc(-c3cnc(N)nc3)n2)cn1', 'Cc1ncn(-c2cc(NCCNC(=O)c3ccc(=O)n(C)n3)ncn2)c1C', 'Cc1ccn(-c2cc(N3CCN(c4cc(=O)n(C)c(=O)[nH]4)CC3)ncn2)n1', 'N#Cc1cnc(Nc2cc(NCC3CCCN(C(=O)O)C3)c(N)cn2)cn1', 'CN(C)c1nc2ccc(NC(=O)c3c(C(=O)N4CCC4)cnn3C)cn2n1', 'CN(C)c1nc(CNC(=O)c2cc(-c3cccnc3)on2)nc(N(C)C)n1', 'COc1ccc(NC(=O)N2CCN(c3ncnc4c3nnn4C)CC2)cc1', 'CNc1cc(Nc2cccc(N3CCCOC3)n2)nc2c(C(N)=O)cnn12', 'Cc1cc(=O)n(CC(=O)NCCNc2cc(-n3ccc(C)n3)ncn2)cn1', 'Cc1nnnn1-c1cccc(C(=O)NC2CC(c3nnc(CO)n3C)C2)c1', 'CC(=CC(C)C)NNC(=O)c1nnn(-c2nonc2N)c1-c1ccccc1', 'CCCc1c(C(=O)NN=Cc2ccc(CC)cc2)nnn1-c1nonc1N', 'Cn1c(Cn2cncn2)nnc1C1CCN(C(=O)c2ccc[nH]c2=O)CC1', 'CNC(=O)Nc1ccc(-c2nc(N3CCOCC3)c3[nH]nc(N)c3n2)cc1', 'CNC(=O)c1cn(-c2cc(Nc3nc(C)cc(NC)n3)ccc2OC)nn1', 'Cc1cc(=O)n(CC(=O)NCCNc2cc(-n3cccn3)nc(C)n2)cn1', 'Cc1cc(-c2nncc3c(C(C)(C)C)c(OCc4cn(C)nn4)nn23)no1', 'CCc1noc(-c2cn([C@H]3CCN(C(=O)c4cc(C5CC5)[nH]n4)C3)nn2)n1', 'Cc1ccn2c(C(=O)NCC3CCN(c4cnn(C)c(=O)c4)C3)nnc2n1', '[H]/N=C\\\\[C@@H]1CCNC[C@@H]1n1[nH]c(NC(=O)CO/C=N/[H])c2cnc3nccc3c21', 'O=C(NC1CCCN(Cc2cccc(O)c2)C1)c1cn[nH]c1-n1cnnn1', 'N#Cc1ccc(Nc2nc(N3CCOCC3)nc(N3CCOCC3)n2)cn1', 'CCOc1ccc(C(=O)N2CCCN(c3ccc4nncn4n3)CC2)nn1', 'CN(CC(=O)Nc1ccc(N2CCOCC2)cc1)c1ccc2nnnn2n1', 'Cc1ncnc(C(=O)NCC2Cn3nnc(-c4cnn(C)c4)c3CO2)c1C', 'CCc1nc(CN2CCN(C(=O)c3cccc(-n4cnnn4)c3)CC2)no1', 'CNC(=O)/C(=C/c1ccnc(N2CCN(c3ncccn3)CC2)n1)NC=O', 'CNC(=O)c1nnc(Nc2ccc(C#N)cn2)cc1NC[C@H]1CNCCO1', 'COc1ccccc1N1CCN(C(=O)c2cn[nH]c2-n2cnnn2)[C@@H](C)C1', 'O=c1[nH]c(O)c(/C=c2/cnn3/c(=N/C4CC4)nc(NC4CCCC4)nc23)[nH]1', 'Cc1cnnn1Cc1nnn2c1CN(C(=O)c1cccc(=O)n1C)CCC2', 'CC/N=C(C(/O)=C(/C)N)\\\\c1n[nH]c(-c2cc(C(N)=O)c3cc(C)ncn23)n1', 'C[C@@]1(O)CCN(C(=O)/C=C/c2cnc[nH]2)C[C@H]1n1cnc2c(N)ncnc21', 'CNC(=O)c1n[nH]nc1NC(=O)c1cc(C2CC2)nc2c1cnn2C(C)C', 'CCc1cc(N2CCN(C(=O)c3cnc4nc(C)[nH]n4c3=O)CC2)ncn1', 'O=C(NC[C@@H]1CCCN(C(=O)Cn2cnnn2)C1)c1n[nH]c2ccccc12', 'COc1cccc2c(C(/C=N/Cc3ccn(CCO)n3)=N/N)nc(N)nc12', 'O=c1[nH]c(O)c(C=c2cnn3/c(=N/C4CC4)cc(N4CCNCC4)nc23)[nH]1', 'NCCn1cc(C(=O)N2CCC[C@@H](c3nc(-c4cccnc4)no3)C2)nn1', 'CCn1nccc1C(=O)N1CCC(n2cc(COc3cnccn3)nn2)C1', 'CCOc1ncccc1CNc1nc(Nc2cnn(C)c2)ncc1C(N)=O', 'COc1ccc(-n2nnc3cnc(NC4CCC(C(N)=NO)C4)nc32)cc1', 'O=C1C/C(=C\\\\c2cnn3c(NC4CC4)nc(NN4CCCC4)nc23)C(=O)N1', 'CNC(=O)C1CCCN(c2cc(-n3[nH]cc(-n4ccnc4)c3=O)ncn2)C1', 'COc1ccc(Nc2nc(N3CCC(C(N)=O)CC3)nc3n[nH]nc23)cc1', 'CN(C)C(=O)N1CCn2nc(CNC(=O)c3cn4cccnc4n3)cc2C1', 'COCCn1cc(-c2nn3c(-c4cn[nH]c4)cnc3c(=O)n2C(C)C)cn1', 'Cc1cc(C)n(-c2ccc(NCCNC(=O)COc3ncccn3)nn2)n1', 'CC(C)(C)n1nc(C(O)Nc2cc(-c3ccco3)[nH]n2)c2c(N)ncnc21', 'Cn1ccnc1CN1CCN(C(=O)c2ccc(-n3cnnn3)cc2O)CC1', 'Cc1cc(C)n2nc(C(=O)N3CCc4c(nc(N(C)C)[nH]c4=O)C3)nc2n1', 'COc1c(C(C)(C)C)c(-c2ncnn2C)nn2c(-c3cc(C)no3)nnc12', 'CCn1c(-c2cnc(C)nc2)nc2c(N[C@H]3CCN(C(=O)O)C3)ncnc21', 'Cn1c(Cn2cccn2)nnc1C1CCCN(C(=O)c2c[nH]c(=O)cn2)C1', 'Cc1nc(OCC(=O)NCc2nccc(N(C)C)n2)cc(-n2cccn2)n1', 'Cc1cc(=O)n(CC(=O)NCCNc2cc(-n3ccnc3C)ncn2)cn1', 'Cc1nc([C@@H]2CCCN(C(=O)Nc3ccc(-n4nnnc4C)cc3)C2)no1', 'CCCc1nc(NC(=O)N2CCC[C@@H]2c2nc(-c3ccncc3)no2)n[nH]1', 'Cc1cc(CN2CCN(C(=O)Nc3ccc(-n4cncn4)nc3)CC2)on1', 'CCCCc1c(OCc2ncnn2C)nn2c(-c3nocc3C)nncc12', 'CNC(=O)c1cc(OC2CCCN(c3ncnc4c3nnn4C)C2)ccn1', 'CCCc1nc(NC(=O)N2CCCC2c2nc(-c3ccncc3)no2)n[nH]1', 'CCCCCNC(=O)Nc1nc2nn(C)cc2c2nc(-c3ccco3)nn12', 'Cc1ccc(NC(=O)Nc2cn[nH]c2C)cc1NC(=O)Nc1cn[nH]c1C', 'CNNc1nc(N2CCOCC2)c2[nH]c(C(=O)Nc3ccncc3)cc2n1', '[H]/N=C/c1c(NC)cc(C(N)=O)nc1C1=CCC(c2c(O)c(N)cn2CN)=N1', 'C/N=C/C(=C\\\\N)c1ccc(Nc2nc(NCC(N)=O)cnc2C(N)=O)cc1', 'CCC(C)c1cc2nnc(-c3cc(C)on3)n2nc1OCc1ncn(C)n1', 'Cc1cnc(C)c(N2CCN(C(=O)COc3ccc4nncn4n3)CC2)n1', 'N#Cc1cnc(Nc2cc(NCC3CNCCO3)c(OC3CC3)nn2)cn1', 'CN(c1cc(=O)n(C)c(=O)[nH]1)C1CN(c2ccc3nnc(C4CC4)n3n2)C1', 'CCCn1cc2c(nc(NC(=O)NC(C)C)n3nc(-c4ccco4)nc23)n1', 'Cc1cc(C)n2nc(C(=O)N3CCCC[C@@H]3c3cc(C(N)=O)n[nH]3)nc2n1', 'Cc1ccn2c(C(=O)NC[C@H]3CCN(c4cnn(C)c(=O)c4)C3)nnc2n1', 'COc1cc(NC(=O)NC(c2nccn2C)C2CC2)cc(-n2cnnn2)c1', 'CNC(=O)c1nnc(Nc2cnc(C#N)cn2)cc1NC1CCC(O)CC1', 'CC(=O)Nc1cn2nc(-c3cnc(N)c(OC4CCNCC4)n3)ccc2n1', 'Cc1cc(C)n2nc(C(=O)N3CCCCC3c3cc(C(N)=O)n[nH]3)nc2n1', 'Cc1cc(=O)n(CC(=O)NCCNc2ccc(-n3ccc(C)n3)nn2)cn1', 'Nc1ncc(-c2nc(N3CCOCC3)nc3c2ncn3[C@@H]2CCOC2)cn1', 'Cc1cnn(CC(=O)N2CCC(n3cc(COc4cnccn4)nn3)C2)c1', 'CCCc1c(C(=O)NN=C(C)c2ccc(C)cc2)nnn1-c1nonc1N', 'Cn1nnnc1-c1cccc(NC(=O)Cn2nc3n(c2=O)CCCCC3)c1', 'Cc1ncn(CC(=O)NCCNc2ccc(-n3cccn3)nn2)c(=O)c1C', 'CN1CCN(CC(=O)Nc2cc(-n3cccn3)nc(-c3cnco3)n2)CC1', '[NH2+]=Nc1nccc(NCCCNC(=O)c2cc(-c3ccccc3)on2)n1.[NH2-]', 'CCn1cc(Nc2ncc(C(N)=O)c(NCc3cccnc3OC)n2)cn1', 'COC[C@H]1Cn2cc(-c3nc(Nc4ccnn4C)ncc3C)nc2C(=O)N1', 'Cn1nccc1[C@H]1CCCCN1C(=O)C(=O)Nc1cnc(N)c2cn[nH]c12', 'CC(C)(C)c1cc(NC(=O)C2CN(c3cc(-n4cncn4)ncn3)C2)on1', 'CCc1nc(CN2CCN(C(=O)c3ccc(-n4cnnn4)cc3)CC2)no1', 'CN1CCN(Nc2ccc([N+](=O)[O-])c(Nc3ccc4cn[nH]c4c3)n2)CC1', 'Cc1nc(CN2CCN(C(=O)C(c3ccccc3)n3cnnn3)CC2)no1', 'CN(c1ccccc1)c1nc(N)nc(-c2noc(N3CCC(O)CC3)n2)n1', 'O=c1[nH]c(O)c(/C=c2/cnn3/c(=N/C4CC4)nc(N4CCCCC4)nc23)[nH]1', 'C/C(CC(C)C)=N/NC(=O)c1nnn(-c2nonc2N)c1-c1ccccc1', 'CC(C)C1(C#N)CCN(c2ccnc(Nc3cnn(CC(N)=O)c3)n2)C1=O', 'C[C@H]1CN(C(=O)c2n[nH]c3c2COCC3)Cc2nnc(-c3cnn(C)c3)n21', 'Cc1nc(NCCNC(=O)Cn2ncccc2=O)cc(-n2ccnc2C)n1', 'CC(NC(=O)c1cn(CC(=O)N(C)C)nn1)c1ccc(-n2cncn2)cc1', 'NC(=O)c1nnc(N[C@@H]2CCCC[C@@H]2N)nc1Nc1cccc2ocnc12', 'CN1CN(COc2nn3c(-c4ccon4)nnc3cc2C2(C)CCC2)C=N1', 'Cc1nc(C2CCCN(C(=O)Nc3cccc(-c4nnn(C)n4)c3)C2)no1', 'CCCc1c(C(=O)N/N=C(/CC)c2ccccc2)nnn1-c1nonc1N', 'COc1ccc(-n2nnc3cnc(N[C@@H]4CC[C@H](/C(N)=N\\\\O)C4)nc32)cc1', 'O=C(CCc1nc(-c2ncccn2)no1)Nc1ncn(C2CCCCC2)n1', 'C[C@@H]1CCN(C(=O)N2CCC=N2)C[C@@H]1n1c(=O)[nH]c2nnc3[nH]ccc3c21', 'Cc1cc(C)n(-c2ccc(NCCNC(=O)Cn3ncccc3=O)nn2)n1', 'CCn1c(C2CCN(C(=O)c3ccnc(-n4cnnc4)c3)CC2)n[nH]c1=O', 'CCn1c(C2CCN(C(=O)c3ccc(-n4cnnc4)nc3)CC2)n[nH]c1=O', '[N-]=[N+]=NCCCCCOc1nc(N)c2[nH]c(=O)n(Cc3ccccc3)c2n1', 'Cc1cc(C)n(-c2cc(NCCNC(=O)Cn3ncccc3=O)ncn2)n1', 'CCOc1ccc(-n2nnc3cnc(N[C@@H]4CC[C@@H](C(N)=O)C4)nc32)cn1', 'CC(=O)NCc1ccc2c(N3CCOCC3)nc(-c3cnc(N)nc3)nn12', 'C[C@@H]1OCCn2c1nc1c(N3CCOCC3)nc(-c3cnc(N)nc3)nc12', 'Cn1cc(Nc2nccc(-c3cnn(C4CCN(C(=O)CO)C4)c3)n2)cn1', 'O=C(CCc1nc(-c2cccnc2)no1)Nc1nc(N2CCCCC2)n[nH]1', 'Nc1ncc(-c2nc(C3CCOC3)nc3ncn(N4CCOCC4)c23)cn1', 'CCOc1ccc(-n2nnc3cnc(NC4CC[C@@H](C(N)=O)C4)nc32)cn1', 'Cc1ccn2c(C(=O)N3CCCC(c4nccn4CC(N)=O)C3)nnc2n1', 'COC1CCN(c2nc(-c3nc(N)nc(Nc4ccccc4)n3)no2)CC1', 'CC/C(=N\\\\NC(=O)c1nnn(-c2nonc2N)c1C(C)C)c1ccccc1', 'Cc1nc(NCCNC(=O)c2ccc(=O)n(C)n2)cc(-n2ccnc2C)n1', 'CN1CCN(c2ncccc2CNC(=O)c2cnc3nc[nH]n3c2=O)CC1', 'CCCc1c(C(=O)N/N=C(\\\\CC)c2ccccc2)nnn1-c1nonc1N', 'Cc1cc(-c2nnc3cc(C(C)(C)C)c(OCc4ncn(C)n4)nn23)no1', 'Cc1c(C(=O)N2CCN(C3CC3)CC2)nnn1-c1nn2cccc2c(=O)[nH]1', 'CC(=O)N1CCCn2nc(CNC(=O)c3nnc4nc(C)ccn34)cc2C1', 'O=C(COc1cccc(-n2cnnn2)c1)NCc1cc2n(n1)CCCNC2', 'CC[C@@H](Nc1cnc(C(N)=O)c(Nc2ccc3nccnc3c2)n1)C(N)O', 'N#Cc1cnc(Nc2cc(NC[C@@H]3CNCCO3)c(OC3CC3)nn2)cn1', 'CN1C=C(c2cnn3c(N)cc(N4CCC5(C4)NC(=O)NC5=O)nc23)CC1', 'N#Cc1cnc(Nc2cc(NCC3CCN(C(=O)O)CC3)c(N)cn2)cn1', 'Cc1ccn(-c2ccc(N3CCN(c4cc(=O)n(C)c(=O)[nH]4)CC3)nn2)n1', 'O=c1c(-n2ccnn2)c[nH]n1-c1cc(N2CC[C@H](O)C[C@@H]3CCC32)ncn1', 'CCOC(=O)c1ccc(N2CCCN(c3ccc4nnnn4n3)CC2)nc1', 'C/N=C(\\\\NCCNc1ccc([N+](=O)[O-])cc1)NCc1nnc2ccccn12', 'Cn1nccc1C(=O)NC[C@@H]1CO[C@H]2CN(c3ccc4nncn4n3)C[C@@H]12', 'Cc1ccc(-c2noc(CN3CCN(C(=O)Cn4cnnn4)CC3)n2)cc1', 'Cn1ncnc1Cc1nn2c(-c3cc(CO)on3)nncc2c1C(C)(C)C', 'Nc1ncc(-c2nc(N3CC4CCC3CO4)nc3c2cnn3CCO)cn1', 'Cc1nnnn1-c1cccc(NC(=O)CN(C)C(=O)C(C)n2cccn2)c1', 'CCc1cc(N(C)C[C@@H](C)c2nn[nH]n2)nc(-c2ccc([N+](=O)[O-])cc2)n1', 'C[C@@H]1CCC2[C@@]([C@@]13CC4=C(C=C5C(=C4O3)CNC5=O)O)(CC[C@H](C2(C)C)O)C', 'Cc1cc(C)c2c(c1)C=CCC1OC(C)(C)OC1C(O)C=CC(C)CNC2=O', 'C[C@]12CCC3C(C[C@H](CO)C4=C/C(=N/O)CC[C@@H]43)C1[C@H]1C[C@H]1[C@@]21C=CC(O)O1', 'CCOc1ccc([C@H](C)NC(=O)[C@H](CC)Oc2ccccc2C)cc1OCC', 'CC(C)(C)OC(=O)N1CC(OCc2ccc3ccccc3c2)CC1CCCO', 'CCc1ccc(CCOc2ccc(C(OC(C)C)(C(=O)O)C(C)C)cc2)nc1', 'C=CCN(C)CCCCCCCCCC(=O)C1C(=O)Oc2ccccc2C1=O', 'CCCC1COC2(CCC3(CC2)NC(=O)C(c2c(C)cc(C)cc2C)=C3O)O1', 'CC(C)[C@@H](CC(=O)C12CC3CC(CC(O)(C3)C1)C2)c1ccc(C(=O)NO)cc1', 'CCC(c1ccccc1)C1CCCN(C(=O)C(=O)C2CCCCC2)C1C(=O)O', 'CC(C)CC(CN)c1cccc(OC(C)OCCOC(=O)c2ccccc2)c1', 'Cc1cc(C)cc(C2(C(=O)OCC(=O)N3CCO[C@H]4CCCC[C@@H]43)CCC2)c1', 'C/C=C/c1ccc(OCC(O)CN(Cc2ccco2)C2CCCC2)c(OC)c1', 'COC[C@@H]1CCCN1C(=O)[C@]1(CCCOCc2ccccc2)C=CCCC1=O', 'NC(=O)c1ccc2c(c1O)C13CCC(CC4CCC4)[C@H](C2)[C@]1(O)CC[C@@H](O)C3', 'COc1ccc(CN(C)C(=O)[C@H](C)Oc2ccc(C(C)(C)C)cc2)cc1OC', 'CC(C)(C)OC(=O)NCCCOc1cccc(C(O)CCc2ccccc2)c1', 'CCCCOc1ccc(C(=O)c2ccc(N(CCOC)CCOC)cc2)cc1', 'CC[C@H](Oc1cc(C)ccc1C)C(=O)NCc1ccc(OC(C)C)c(OC)c1', 'CC[C@H](NC(=O)[C@H](C)Oc1cc(C)cc(C)c1C)c1ccc(OC)c(OC)c1', 'COc1ccc(C23CC4CC(CC(C(=O)NCCCCC(=O)O)(C4)C2)C3)cc1', 'COC(=O)c1ccc(COc2ccc(C(C)(C)C)cc2CNCCCO)cc1', 'O=C(CC12CC3CC(CC(O)(C3)C1)C2)N1CCO[C@H](CO)[C@H]1c1ccccc1', 'CCOC(=O)/C=C/CC/C=C(/CCC/C=C/C(=O)OCC)Nc1ccccc1', 'COc1cc(CNC(=O)COc2ccc(C)cc2C)ccc1OCCC(C)C', 'O=C(O)OC(Oc1ccc2c(c1)[C@@]13CCCC[C@H]1[C@@H](C2)NCC3)C1CCCC1', 'CCOc1ccc([C@@H](C)NC(=O)CCc2ccc(OC)c(C)c2)cc1OCC', 'CCCCOc1c(OC)ccc2c1[C@@]13CCN(C)[C@@H](C2)[C@H]1C=C(OC)C(=O)C3', 'CC[C@@H](C)[C@H]1O[C@@H](c2c(O)c(-c3ccccc3)cn(OC)c2=O)[C@H](C)C[C@@H]1C', 'O=C(O)CCC/C=C\\\\CN1C(=O)C[C@@H]1c1ccc(C(O)C2CCCCC2)cc1', 'CCOc1ccc(CNC(=O)[C@H](CC)Oc2cc(C)cc(C)c2)cc1OCC', 'CC/C=C(\\\\C)C[C@H](C)C[C@H](C)/C(O)=C1\\\\C(=O)N[C@H](Cc2ccc(O)cc2)C1=O', 'O=C(CCC1CCOC1)c1cc(CCCCCCOCc2ccccc2)on1', 'CC(C)(C)OC(=O)C(COCCCCCc1ccc2ccccc2c1)C(N)=O', 'C/C=C/c1ccc(OCC(O)CN(C)Cc2ccc(OCC)cc2)c(OC)c1', 'COc1ccccc1CNC[C@H]1C(=O)O[C@@H]2C[C@@]3(C)CCC[C@]4(CO4)[C@H]3C[C@H]21', 'CCCCOc1cc2c(c3ccccc13)[C@H](C(C)O)CN2C(=O)OC(C)(C)C', 'CCCOc1ccc(CNC(=O)c2ccccc2OCCC(C)C)cc1OC', 'CCN(CC)CC(COc1ccccc1CCc1ccccc1)OCC(=O)O', 'CC(OC(=O)CCC(=O)c1ccc2c(c1)CCCC2)C(=O)N1CCCCCC1', 'COc1cccc(CN(C[C@@H](O)COc2ccccc2C)C[C@H]2CCCO2)c1', 'CNCCC(CCC1(c2cc(OC)cc(OC)c2)OCCO1)c1ccccc1', 'CCCOc1ccc(CNC(=O)COc2cc(C)ccc2C(C)C)cc1OC', 'C[C@@H]1C[NH+](C[C@@H](Cc2ccccc2)C(=O)[O-])CC[C@]1(C)c1cccc(O)c1.O', 'C[C@H]1CC[C@H]2C(C)(C)[C@H](O)CC[C@]23Oc2c(c(O)cc4c2CNC4=O)C[C@]13C', 'COc1ccc(CCN(C)C(=O)C(c2ccc(OC)c(OC)c2)C(C)C)cc1', 'COc1cc(C2NCCc3c2ccc(OC)c3OC)ccc1OCCC(C)C', 'O=C(O)CCNCCc1cccc(OCCCCCOCc2ccccc2)c1', 'O=C(O)c1ccc(CCN2C(=O)CC[C@@H]2C=C[C@@H](O)CCC2CCCC2)cc1', 'CC(C)CCN(CCC(C)C)C(=O)COc1c(C(=O)O)ccc2ccccc12', 'Cc1cccc(OC(C)(C)C(=O)NC2C3CC4CC(C3)CC2(C(=O)O)C4)c1C', 'CCOc1ccccc1C(=O)OCC(=O)NC(C)C12CC3CC(CC(C3)C1)C2', 'CCOc1cc(CNC(CC(C)C)C(=O)O)ccc1OCc1ccccc1C', 'CCOc1ccc([C@@H](C)NC(=O)[C@@H](CC)Oc2ccccc2C)cc1OCC', 'CCCCCOc1c(OC)ccc(C(=O)NCCc2ccccc2)c1CCO', 'COc1ccccc1OC[C@H](C)NC(=O)[C@@H](C)Oc1cc(C)ccc1C(C)C', 'CCOc1ccc(C2NCCc3cc(OCC)c(OCC)cc32)cc1OCC', 'CN(C)c1ccc(C(=O)/C=C/C2CCC(=O)C2CCCCCCC(=O)O)cc1', 'COc1cc(CNC(=O)[C@H](C)Oc2ccccc2C(C)C)ccc1OC(C)C', 'C#C[C@]1(OC(C)=O)CCC2C3C[C@H](O)C4=C/C(=N/O)CCC4C3CC[C@@]21CC', 'CC(C)(C)C(CO)/N=C/c1coc2cccc(OCC3CCCCC3)c2c1=O', 'O=C(O)c1ccc(CCN2C(=O)CC[C@@H]2C=C[C@H](O)CCC2CCCC2)cc1', 'CC[C@@H](NC(=O)CCOc1ccc(C)cc1)[C@H](O)c1ccc(OC(C)C)cc1', 'CCOc1ccc(C2C(C(=O)CC(C)C)=C(O)C(=O)N2C2CCCCC2)cc1', 'O=C(CC1(Cc2cccc(O)c2)CCC2CC3CC(CC31)C2O)N1CC(O)C1', 'NC(=O)c1ccc2c(c1O)C13CCCCC1(O)C(C2)C(CC1CCCO1)CC3', 'CCO[C@@H]1CNC[C@H](O)[C@H]1c1ccc(OCCCOCc2ccccc2)cc1', 'COc1ccc2c(c1)[C@]13CCN(CC4CCCO4)[C@H](C2)[C@]1(OC)CCC(=O)C3', 'COc1ccc2cc([C@H](C)C(=O)N[C@@H](C(=O)OC(C)(C)C)C(C)C)ccc2c1', 'CCOc1cc(C(=O)N(C)c2cccc(C(C)C)c2)cc(OCC)c1OCC', 'Cc1cccc(C)c1OCC(=O)OCC(=O)NCC12CC3CC(CC(C3)C1)C2', 'O=C(O)[C@@H](CCCCCCCCN1C(=O)c2ccccc2C1=O)C1CCCC1', 'CCOc1ccccc1OCCN(CCOc1ccccc1OCC)C1CC1', 'C/C=C/c1ccc(OCC(O)CN(C)CCOc2ccccc2C)c(OC)c1', 'COC1=C2C/C(C)=C/CCCCCCC/C=C/CCC(=O)NC(=CC1=O)C2=O', 'CCC/C(=N\\\\OCC)C1=C(O)CC(c2c(C)c(C)c(C)c3c2OCC3)CC1=O', 'COC(=O)C1=C2CCC3=C2C2(C1)C1(C)CCC4C(C)CN(CC1CC3O)C42O', 'COc1ccc(OC)c(CN2Cc3cc(OC)c(OC)cc3C(C(C)C)C2)c1', 'CCCOc1ccccc1CCCNC(=O)[C@H](CC)Oc1cccc(OC)c1', 'NCc1cc(C2CCC3(CC2)OOC2(O3)C3CC4CC(C3)CC2C4)ccc1O', 'CCO[C@H](C)COCC(Cc1ccc(O)cc1)NC(=O)CCc1ccccc1', 'CCNC(C)/C=C(\\\\C)C(=O)Oc1ccccc1C(=O)OCC1CC2CCC1C2', 'CC(C)=C=CC(O)C(C)(C)C(O)C#Cc1ccccc1/N=C(\\\\O)OC(C)(C)C', 'COc1ccc(CCN(C)C(=O)C(C)Oc2cccc(C(C)C)c2)cc1OC', 'CCCOc1cc(C(=O)OC[C@H](Cc2ccccc2)N(CC)CC)ccc1O', 'COc1ccc(NC(=O)C(C)(C)CCCOc2cc(C)ccc2C)cc1OC', 'COc1ccc(O[C@H](C)C(=O)N[C@@H](C)c2cc(C(C)C)c(OC)cc2C)cc1', 'CCCCCCC#CC(=O)[C@@H]1OC[C@H](c2ccccc2)N1C(=O)OC(C)(C)C', 'COC(Cc1ccc(OCc2ccccc2)cc1)C(=O)[O-].[NH3+]C1CCCCC1', 'CC(C)[C@@H](OCc1ccccc1)[C@@H](NC(=O)OCc1ccccc1)C(C)(C)O', 'C=C1[C@H]2C[C@@H]3C4N5C[C@]6(C)CCC[C@@]47[C@@H]6[C@@]5(O)C[C@]3([C@@H]1OC(=O)CC)[C@H]7[C@H]2O', 'O=C(OCOc1ccc2c(c1)[C@@]13CCCC[C@H]1[C@@H](C2)NCC3)OC1CCCC1', 'COc1cc(C(C)=O)ccc1OCC(=O)NC(C)C12CC3CC(CC(C3)C1)C2', 'COC(=O)[C@@H]1C[C@@]23C(=O)[C@H]4C[C@H]5N(C[C@@H](C[C@@H](O)C6=C2[C@@H]1CC6)[C@]53C)C[C@H]4C', 'COc1ccc(C)cc1CC(=O)OCC(=O)NCC12CC3CC(CC(C3)C1)C2', 'O=C(NC1CC2CCC1C2)C1=C[C@H](c2ccccc2)C[C@H](OCCCCO)O1', 'CC(COc1ccccc1)NC(C)C(O)c1ccc(OC(=O)C(C)(C)C)cc1', 'CN1CCC(OC(=O)CC2(c3ccccc3)CC3(CCCCC3)C(=O)O2)CC1', 'CCC(C)(C)c1ccc(OCCCC(=O)Nc2ccc(OC)c(OC)c2)cc1', 'Cc1noc(C)c1COc1ccc([C@@H]2OC(C)(C)C3CC2[C@H](C)[C@@H](O)C3)cc1', 'CC.CC(C(=O)C=O)C(C)N(C)C(=O)c1ccccc1.COc1ccccc1', 'COc1cc(CCCOc2ccc([C@@H]3CC[C@@](N)(CO)C3)cc2)cc(OC)c1', 'CNc1ccc(OCC2(C)CCc3c(C)c(OCOC)c(C)c(C)c3O2)cc1', 'COc1ccc(CCNC(=O)C(C)Oc2ccc(C(C)(C)C)cc2)cc1OC', 'COc1cccc(CC(OCC(O)CNC(C)(C)C)C(=O)c2ccccc2)c1', 'CCOC(=O)OC1=C(c2c(CC)cccc2CC)C(=O)NC12CCC(C)CC2', 'CC(C)CC(=O)Cc1ccc(OCCNCC(O)COc2ccccc2)cc1', 'COc1ccc(COC2CNCC(OCc3ccc(OC)c(C)c3)C2)cc1C', 'COCCN(CCCc1ccccc1)C(=O)C(C)OCc1cccc(OC)c1', 'CC.CCC(C)Oc1ccc(OCc2ccno2)cc1.COc1ccccc1', 'O=C(CCCCCCCCCO)NC(Cc1ccc2ccccc2c1)C(=O)O', 'COc1ccc2c(c1)C[C@@H](C(=O)NCCOC13CC4CC(CC(C4)C1)C3)CO2', 'CCOc1ccc([C@@H]2NCCc3cc(OCC)c(OCC)cc32)cc1OCC', 'CN(CC(O)COc1ccc(C(C)(C)C)cc1)CC1COc2ccccc2O1', 'COc1ccc([C@@H](C)NC(=O)[C@@H](C)Oc2ccc(C(C)(C)C)cc2)cc1OC', 'CCOc1cc(C=O)ccc1OCC(=O)N[C@H](C)C12CC3CC(CC(C3)C1)C2', 'COC(=O)[C@@H]1C[C@@]23C4=C(CCC5CN6C[C@@H](C)C(C=CC52CO)C63O)CC[C@@H]41', 'CCOC(=O)C(NC(=O)CC12CC3CC(CC(C3)C1)C2)C(O)c1ccccc1', 'CCCOc1ccc(C(=O)NCc2ccccc2COC(C)C)cc1OCC', 'CC[C@H](Oc1cc(C)ccc1C)C(=O)N[C@H](CC)c1ccc(OC)c(OC)c1', 'CCOc1cc(C(=O)N[C@H](C)c2ccc(CC)cc2)cc(OCC)c1OCC', 'CCCCN1C(=O)[C@H]([C@H]2C=CC[C@@H](C(=O)OCC)C2)[C@@H]1c1ccc(OC)cc1', 'CC(=CC(=CC1CC(C)(C)N(Cc2ccccc2)C(C)(C)C1)C(=O)O)C(=O)O', 'CC1=C(C(=O)OCC(C)C)C(c2ccccc2)C(C(=O)OCC(C)C)=C(C)N1', 'COc1ccc(CN(CC(O)Cc2ccccc2)CC2CCCO2)cc1OC', 'COc1cc(CNC(=O)C(C)OCc2ccccc2)ccc1OCCC(C)C', 'COc1ccc2c(C)c(CCC(=O)NCCCC3CCCCC3)c(=O)oc2c1', 'CC1CCC=C2CC3OC(=O)C(CNCCc4ccc(O)cc4)C3C(O)C21C', 'COc1cc(CC2(CCCO)c3ccccc3CCN2C)cc(OC)c1OC', 'CCOc1cc(C=O)ccc1OCC(=O)N[C@@H](C)C12CC3CC(CC(C3)C1)C2', 'CC(C)CC(=O)[C@H](O)[C@H](Cc1ccc2ccccc2c1)NC(=O)OC(C)(C)C', 'CCCCOc1cccc(OCCCC)c1NC[C@H]1COc2ccccc2O1', 'CCCCN1C(=O)[C@@H]([C@@H]2C=CC[C@@H](C(=O)OCC)C2)[C@H]1c1ccc(OC)cc1', 'NC(=O)c1ccc2c(c1O)[C@]13CCC(CC4CCC4)[C@H](C2)[C@]1(O)CC[C@H](O)C3', 'CC[C@@H](Oc1ccc(OC)cc1)C(=O)NCCOc1ccc(C(C)(C)C)cc1', 'CCOCCOc1ccc(NC(=O)COc2ccc(C(C)(C)CC)cc2)cc1', 'COc1ccc2c(c1)C13CCN(CC4CC4)C(C2)C1(O)CCC1(C3)OCCO1', 'CCOC(=O)[C@@H](Cc1ccc(OCCN)cc1)Oc1ccc(C(C)(C)C)cc1', 'CCOc1cc(C(=O)NCCCCc2ccccc2)cc(OCC)c1OCC', 'COCCOc1cccc(CNC(=O)C(C)Oc2cc(C)ccc2C(C)C)c1', 'CCc1ccc(C(NC(=O)COc2ccc(CCC(C)=O)cc2)C(C)(C)C)o1', 'COc1ccc([C@H]2[C@@H]3CCCC[C@@H]3[C@@H]2NC(=O)C[C@@H]2CC(C)(C)OC2=O)cc1', 'C[C@H](CCc1ccccc1)NC(=O)COC(=O)C12C[C@H]3C[C@@H](CC(O)(C3)C1)C2', 'COC(=O)[C@@H]1C[C@@]23C4=C(CC[C@@H]5CN6C[C@@H](C)[C@@H](C=C[C@@]52CO)[C@]63O)CC[C@@H]41', 'CC12CCC(/C(=C/c3ccc(OCCN4CCOCC4)cc3)C1=O)C(C)(C)O2', 'COc1ccc2c3c1O[C@H]1[C@@]4(OC)CC[C@@]5(C[C@@H]4C(C)O)[C@@H](C2)N(C)CC[C@]315', 'CC1C[C@@]2(O)[C@H]3Cc4ccc(O)c5c4[C@@]2(CC[N@+]3(C)CC2CC2)[C@@H](O5)C1=O.[CH3-]', 'CCN(CC)CCOC(=O)C(O)(c1ccccc1)c1ccc(OC(C)C)cc1', 'COc1cccc(CC2(C(=O)N3CCC(C(=O)O)C(C)C3)CC3CCC2C3)c1', 'COCCOc1ccc2c(c1)CC(NC[C@H](O)COc1ccccc1)CCC2', 'C#C[C@@]1(O)CC[C@@H]2[C@H]3CCC4=CC(=NOCC(=O)O)CC[C@]4(C)[C@@H]3CC[C@@]21C', 'COc1ccc(OC[C@H](O)CN(Cc2cccc(C)c2)C[C@@H]2CCCO2)cc1', 'CC(=O)[C@H](CCc1ccccc1)C[C@@H](C)C(=O)N1[C@H](C(=O)O)C[C@H]2CCC[C@@H]21', 'CC[C@@H](Oc1ccccc1)C(=O)OCC(=O)NCC12CC3CC(CC(C3)C1)C2', 'C1=C(c2ccc(OCC3CC3)c(OC3CCCCCC3)c2)NOC12CCOC2', 'CCOC(=O)C1(CCc2ccccc2)CCN(Cc2ccc(COC)o2)CC1', 'Cc1ccc(OCCC(=O)O[C@@H](C)C(=O)NC23CC4CC(CC(C4)C2)C3)cc1', 'CC[C@H](Oc1ccccc1OC)C(=O)NCCCc1cccc(OC(C)C)c1', 'CC(=O)OCC1=CCC2C(CCC3(C)C(OC(C)=O)CCC23)C1(C)/C=C/C#N', 'CC(C)CC(=O)C1=C(O)C(=O)N(C2CCCC2)C1c1ccc(OC(C)C)cc1', 'CCOC(=O)[C@@]1(Cc2ccccc2)C[C@H]2CC[C@@H]1N2C(=O)C1CCC(O)CC1', 'C[C@]12CCC3C(C[C@H](CO)C4=C/C(=N/O)CC[C@@H]43)C1[C@H]1C[C@H]1[C@@]21CCC(=O)O1', 'CCOc1cc(C(=O)Nc2ccccc2[C@H](C)CC)cc(OCC)c1OCC', 'COC(=O)C1C[C@]23C(=O)C4CC5[C@@]2(C)C(CCC2=C3C1CC2)C[N+]5([O-])CC4C', 'CCC(=O)O[C@@H](COc1ccccc1CCc1cccc(OC)c1)CN(C)C', 'COc1ccc(/C=C/C(=O)NCC2(OC)C3CC4CC(C3)CC2C4)cc1OC', 'CCOc1cc(CNC(=O)[C@H](C)Oc2cc(C)ccc2C(C)C)ccc1OC', 'CC1(C)O[C@]2(C)CC[C@H]1[C@H](OC(=O)C1(C=O)CCCN1Cc1ccccc1)C2', 'CCC1([C@@H](O)C/C=C/C2CCC(=O)N2CCc2ccc(C(=O)O)cc2)CCC1', 'CCOC(=O)c1c(CC(C)C)c(C)n2c1-c1cc(OC)c(C(C)O)cc1CC2', 'COCC(=O)N1CCC(CC2CC(=O)C(c3c(C)cc(C)cc3C)C2=O)CC1', 'COc1cc(C(C)NC(=O)CCOc2cccc(C)c2C)ccc1OC(C)C', 'CC(C)(C)N(CCCc1cccc(OCCOCc2ccccc2)c1)C(=O)O', 'CCCC(=NOCC)C1=C(O)CC(c2c(C)c(C)c3c(c2C)CCO3)CC1=O', 'COc1ccc(OCC(O)CN(Cc2ccc(C)cc2)CC2CCCO2)cc1', 'CCC(Oc1cc(C)cc(C)c1)C(=O)NC(CC)c1ccc(OC)c(OC)c1', 'COc1cc(CNC(=O)C(C)OCCC(C)C)ccc1OCc1ccccc1', 'COc1cc(CCN(C)C(=O)c2ccc(C(C)(C)C)cc2)cc(OC)c1OC', 'COc1cc(CN2CCC[C@@](CO)(Cc3ccccc3C)C2)cc(OC)c1O', 'COc1ccc(OC)c([C@H](C)NC(=O)[C@H](C)Oc2ccc(C(C)(C)C)cc2)c1', 'CCCCCCCOC(=O)c1ccc(/N=C/C2=C(O)CC(C)(C)CC2=O)cc1', 'CC1(C)Oc2ccccc2[C@@H]2O[C@@H]3CCN(C(=O)CC4CCOCC4)[C@@H]3C[C@H]21', 'CC(=O)c1ccc([C@H](C)NC(=O)[C@H](OCCOc2ccccc2)C(C)C)cc1.[H][H]', 'CC.CC(C)C(=O)c1cc(-c2ccccc2)ccc1OCCN(C)CC(=O)O', 'CC[C@H](Oc1ccccc1)C(=O)OCC(=O)NCC12CC3CC(CC(C3)C1)C2', 'COc1ccc2c3c1O[C@H]1[C@](C)(OC)[C@@H](C(C)=O)C[C@]4(C)[C@@H](C2)N(C)CC[C@]314', 'O=C(O)CCC/C=C\\\\CC1C(=O)CCN1CCC(O)C1(c2ccccc2)CC1', 'CCC=COCCCCCOc1ccc(OCOc2ccc(NC)cc2)cc1', 'Cc1ccc(Oc2cc(C(O)CNC(C)C)ccc2OC(=O)CC(C)C)cc1', 'COc1cc(CNC(=O)COc2ccc(C(C)(C)C)cc2)ccc1OC(C)C', 'COc1ccccc1CNC[C@H]1C(=O)O[C@@H]2C[C@@]3(C)CCC[C@@]4(CO4)[C@H]3C[C@H]21', 'C=C(C)C(=O)CCCCCCCCCC(O)N1C(=O)c2ccc(C)cc2C1=O', 'CC[C@@H](Oc1ccccc1)C(=O)O[C@@H](C)C(=O)NC12CC3CC(CC(C3)C1)C2', 'CCCCOc1ccc(CNC(=O)C(CC)Oc2cccc(C)c2)cc1OC', 'CCCCC(C)C(O)c1cccc(OCc2ccc3c(n2)CC(O)C(O)C3)c1', 'C[C@@H]1ON2[C@@H]3[C@H]4CC[C@@](C)([C@@H]3O[C@@]2(C)[C@H]1C(=O)OCc1ccccc1)C4(C)C', 'C[C@H]1CCC=C2C[C@H]3OC(=O)[C@@H](CNCCc4ccc(O)cc4)[C@H]3[C@@H](O)[C@@]21C', 'CCOc1ccc(C(=O)OCC(=O)N[C@@H](C)C23CC4CC(CC(C4)C2)C3)cc1', 'CN(CC(=O)OC(C)(C)C)[C@H](CO)Cc1ccc(OCc2ccccc2)cc1', 'CCN(Cc1ccc(OC)c(OC)c1)C(=O)COc1cc(C)ccc1C(C)C', 'CCOc1ccc(CCC(=O)NCCOc2ccc(C)c(C)c2)cc1OCC', 'CC(C)CO[C@H]1CC[C@H](OC(=O)N[C@H](C)c2cccc3ccccc23)[C@@H](C)O1', 'CCOC(=O)C1(Cc2ccc(OC)cc2)CCN(C(=O)C2CC23CCC3)CC1', 'C=C(CC(C(=O)OCC)C1CCN(C(=O)OCc2ccccc2)CC1)C1CC1', 'CC(C)COc1ccc(C(=O)OCC(=O)NC23CC4CC(CC(C4)C2)C3)cc1', 'CCCCCCCC(=O)NC(OC)Oc1ccc(OCc2ccccc2)cc1', 'CCC(Oc1ccc(C)cc1C)C(=O)NCc1ccc(OC(C)C)c(OC)c1', 'CCOc1ccc(CCCNC(=O)[C@@H](C)Oc2ccccc2CC)cc1OC', 'COC(=O)[C@@H]1C[C@]23C(=O)[C@@H]4C[C@@H]5[C@@]2(C)[C@H](CCC2=C3[C@@H]1CC2)C[N@+]5([O-])C[C@H]4C', 'COc1c2c(c(OC)c(C(C)C)c1OC)C=CC1=C(CCCC1(C)C(N)=O)C2', 'COc1ccc(OC)c(C(C)NC(=O)C(C)Oc2ccc(C(C)(C)C)cc2)c1', 'CC(C)[C@H]1CC[C@@H](C)C[C@@H]1OC(=O)COC(=O)CCc1c[nH]c2ccccc12', 'C[C@H](Oc1ccccc1)C(=O)N(C)C[C@@H](O)COc1ccc(C(C)(C)C)cc1', 'CN(Cc1ccc2c(c1)OCCO2)C[C@@H](O)COc1ccc(C(C)(C)C)cc1', 'COc1ccc(CC(C)NC(=O)OC(C)(C)C)cc1OCCc1ccccc1', 'Cc1ccc(CN(Cc2ccc3c(c2)OCO3)C(=O)C[C@H](C)CC(C)(C)C)o1', 'C=CC1OC2(CC[C@@]3(c4ccc(OC)c(OC)c4)CCN(C)[C@H]3C2)OC1C=C', 'CCOc1ccc([C@H](C)NC(=O)CCOc2cc(C)ccc2C)cc1OCC', 'CCCC(=O)c1c(C)ccc(C2CC(=O)C(/C(CC)=N/OCC)=C(O)C2)c1C', 'CCOC(=O)Cc1ccc(OCC(O)CNC(C)CCc2ccccc2)cc1', 'O=C(O)c1ccc(CCN2C(=O)CC[C@@H]2/C=C/[C@@H](O)CC2CCCCC2)cc1', 'Cc1oc(-c2ccccc2)cc1C(=O)NCCCCCCCCCCC(=O)O', 'CCCCCCCN(OCc1ccccc1)C(=O)Cc1ccc(O)c(OC)c1', 'C/C(=C\\\\C=C\\\\C(C)C)CC/C=C(\\\\C)CCOc1c(O)cc2c(c1O)CNC2=O', 'COc1cc(CNC(=O)COc2ccccc2C(C)(C)C)ccc1OC(C)C', 'COc1ccc(C(c2ccc(OC)c(C)c2)[C@H](C)OC[C@](C)(N)C=O)cc1C', 'CC(C)N(Cc1ccccc1)CC(O)COc1cccc2c1C[C@H](O)[C@H](O)C2', 'CCOC(=O)CCCCCCN1C(=O)CCC1/C=C/C(=O)Cc1ccccc1', 'COc1ccc(CC(C)CCC(O)c2ccc(O)c(N(C=O)C(C)C)c2)cc1', 'Cc1ccc(CN(Cc2ccc3c(c2)OCO3)C[C@H](O)COCC(C)C)cc1', 'O=C(O)CCNCCCc1ccc(OCCCCOCc2ccccc2)cc1', 'COCCCC[C@@](O)(c1ccccc1Oc1ccccc1C)C1CNCCO1', 'CCC=C(C)C[C@H](C)C[C@H](C)C(O)=C1C(=O)N[C@@H](Cc2ccc(O)cc2)C1=O', 'CCN(CCC(=O)O)C(=O)C12CC3CC(C1)CC(c1ccc(OC)cc1)(C3)C2', 'CCCO[C@@]12CCC[C@@H]3Oc4c(O)ccc5c4C31CC[N+]([O-])(CC1CC1)[C@@H]2C5', 'COC(=O)c1ccc2c(c1)C(C)(C/C=C/CC1CCCCC1)CN2C(=O)OC', 'CC(C)C(=O)N[C@H]1C(C)(C)[C@@H]2C[C@@H]3[C@@H](c4cccc(C(=O)O)c4)OCCC31C2', 'CC(NC(=O)C1=CC=CC(=O)C1)C(=O)CC(CC1CCCC1)C(=O)C1(C)CC1', 'CN(C(=O)c1cccc(OC2CCOCC2)c1)C1C2CC3CC1CC(O)(C3)C2', 'COc1ccc([C@H]2C[C@@H]3CC(C(=O)N(C)OC)=C[C@@H]3C2)cc1OC1CCCC1', 'COc1ccccc1C1=COC2C(CCC(O)C2CN2CCCCCC2)C1=O', 'CC(C)C(CC(O)C(COCc1ccccc1)NCc1ccccc1)C(=O)O', 'C=C1[C@H]2C[C@@H]3[C@H]4N5C[C@]6(C)CCC[C@]47[C@H]([C@H]2O)[C@]3(C[C@@]5(O)[C@H]67)[C@@H]1OC(=O)CC', 'COCc1ccc(CCOc2ccc(CC(CO)NC(=O)C(C)C)cc2)cc1', 'CCOc1ccc(CCC(=O)NCc2ccc(OC(C)C)cc2)cc1OCC', 'COc1cc(CN)cc(CCC2(C)CCc3c(C)c(O)c(C)c(C)c3O2)c1O', 'COc1cc2c(cc1OC)C1(CCN(C(=O)C3CC34CCCC4)CC1)OCC2', 'C#CCOc1ccc(N[C@H](C(=O)OCC)[C@@H](C=O)C/C=C/CCCCC)cc1', 'COc1cccc([C@]23CCN(CC4CC4)C(=O)[C@@]2(C)CCC2(C3)OCCO2)c1', 'CCC1=CC[C@]2(CO1)[C@@H]1CCC3=C4[C@H](CC3=O)[C@H](C(=O)OC)C[C@@]42CN(C)C1', 'COc1ccc(OC[C@@H](O)CN(Cc2cccc(C)c2)C[C@@H]2CCCO2)cc1', 'CN(Cc1ccc(OCC(=O)O)cc1)C(=O)C12CC3CC(C)(CC(C)(C3)C1)C2', 'Cc1cccc(O[C@@H](C)C(=O)O[C@@H](C)C(=O)NC23CC4CC(CC(C4)C2)C3)c1', 'COC1(OC)CC[C@@]2(O)[C@H]3Cc4ccc(C)c5c4[C@@]2(CCN3CC2CC2)C1O5', 'CCOc1cc(CNC(=O)C(C)Oc2cc(C)ccc2C(C)C)ccc1OC', 'C=CCOCCOCc1ccccc1OCC(O)CNCCc1ccccc1', 'CC1=NN=C2N1N=C(S2)C3=CC(=CC=C3)NC(=S)NC(=O)C4=C(C=CC=C4OC)OC', 'O=C(Cn1c(-c2cccs2)n[nH]c1=S)Nc1ccc(NC(=O)NCc2ccco2)cc1', 'CC(Sc1nnc(CNC(=O)c2ccco2)n1-c1ccccc1)C(=O)Nc1nccs1', 'NC(CNS(=O)(=O)c1cccc2nsnc12)c1ccc(C(=O)Nc2ccncc2)cc1', 'O=C(Nc1nc(-c2ccsc2)nc2c1cnn2C1CCCCC1)c1ccc([N+](=O)[O-])s1', 'Cc1ncccc1Oc1cc(Sc2ccccn2)cnc1Nc1nc(C(O)CO)ns1', 'Cn1c(=O)c2c(ncn2CC(=O)N2N=C(c3cccs3)C[C@H]2c2cccs2)n(C)c1=O', 'COc1ccc(C(=O)NC(=S)Nc2cccc(-c3nn4c(C)nnc4s3)c2)c(OC)c1', 'O=C(Nc1ccc(-n2cncn2)nc1)c1ccc(S(=O)(=O)NCCc2cccs2)cc1', 'COc1ccccc1Nc1nc(N)nc(COC(=O)c2sc(-c3cccs3)nc2C)n1', 'Cc1cccc(Nc2nnc(SC(C)c3nnc(-c4ccc([N+](=O)[O-])cc4)o3)s2)c1C', 'CC1(c2ccccc2)NC(=O)N(NC(=O)CSc2nnc(Nc3ccccc3)s2)C1=O', 'Cc1ccccc1-c1nc(SCC(=O)Nc2nccs2)c2c(=O)n(C)c(=O)n(C)c2n1', 'N#Cc1cccc(CN2CC[C@H](NS(=O)(=O)c3ccc(-c4ccnc(N)n4)s3)C2=O)c1', 'COc1ccc(C(=O)NC(=S)Nc2ccc(-c3nn4c(C)nnc4s3)cc2)cc1OC', 'Cc1nc2c(C#N)cnn2c(C)c1CCC(=O)Nc1nc2ccc(S(C)(=O)=O)cc2s1', 'COc1ccc(-n2cnnc2SCC(=O)Nc2ccc3nc(NC(C)=O)sc3c2)cc1', 'O=C(NCc1cc(NS(=O)(=O)C2CC2)ccn1)c1ncc(-c2cnn3cccc3c2)s1', 'NC(N)=Nc1ccc(-c2ccc(-c3ccc(N=C(N)N)c(OC=S)c3)o2)cc1OC=S', 'Cn1c(=O)c2c(ncn2CC(=O)N2N=C(c3cccs3)C[C@@H]2c2cccs2)n(C)c1=O', 'Cc1c(-c2csc(C(=O)O)c2)sc2c(N3CCOCC3)nc(-c3cnc(N)nc3)nc12', 'CNS(=O)(=O)c1ccc(NC(=O)c2c(C)nsc2Nc2cnc3ccccc3n2)cc1', 'Cc1cccc(NS(=O)(=O)c2cc(NC(=O)c3sccc3-n3cnnn3)ccc2C)c1', 'O=C(CSc1nnc2sc3ccccc3n12)N1CCN(c2ccc([N+](=O)[O-])cc2)CC1', '[H]/N=C1C(=C/c2cc(C)n(-c3cc([N+](=O)[O-])ccc3C)c2C)/C(=O)N=C2SC(SC)=NN2/1', 'Cn1c(CNC(=O)c2ccco2)nnc1SCC(=O)Nc1nc(-c2ccccc2)cs1', 'COc1ccccc1OCc1nnc(SCC(=O)Nc2nncs2)n1-c1ccccc1', 'CC1=NN(c2nc(-c3ccc(C)cc3)cs2)C(=O)[C@H]1/N=N/c1ccc(S(N)(=O)=O)cc1', 'Cc1cccc(-c2nc(SCC(=O)Nc3nccs3)c3c(=O)n(C)c(=O)n(C)c3n2)c1', 'C[C@@H](Sc1nnc(Cc2cccs2)n1C1CC1)c1nnc(-c2ccc([N+](=O)[O-])cc2)o1', 'C[C@H](Sc1nnc(Cc2cccs2)n1C1CC1)c1nnc(-c2ccc([N+](=O)[O-])cc2)o1', 'COCCn1c(-c2cnc(-c3ccc4scnc4c3)[nH]2)nc2cc(NS(=O)O)ccc21', 'Cc1nc(NC(=O)c2ccc(NC(C)c3ccccn3)c([N+](=O)[O-])c2)sc1SCC#N', 'C=CCn1c(Cc2csc(NC(=O)CCN3C(=O)c4ccccc4C3=O)n2)n[nH]c1=S', 'CC(Sc1nc(C2CC2)nc2c1c(=O)[nH]c(=O)n2C1CC1)C(=O)Nc1sccc1C#N', 'C[C@@]1(c2ccccc2)NC(=O)N(NC(=O)CSc2nnc(Nc3ccccc3)s2)C1=O', 'CCOC(=O)c1sc2nc(C(C)Sc3n[nH]c4nc5ccccc5n34)[nH]c(=O)c2c1C', 'Cc1cccc(C(=O)Nc2nnc(S(=O)(=O)NCc3ccc(-n4ccnc4)cc3)s2)c1', 'Cc1ccc(Nc2nnc(SC(C)c3nnc(-c4ccc([N+](=O)[O-])cc4)o3)s2)cc1C', 'CSc1ccc(/C=C2\\\\SC(=O)N(CCNC(=O)c3nc4nccc(C)n4n3)C2=O)cc1', 'Cc1cccc(C(=O)Nc2cccc(-c3noc(-c4sc(NS(C)=O)nc4N)n3)c2)c1', 'O=S(=O)(c1cccs1)N1CCN(c2cncc(-c3nnc(-c4ccccc4)o3)n2)CC1', 'CC1=NN(c2nc(-c3ccc(C)cc3)cs2)C(=O)C1/N=N/c1ccc(S(N)(=O)=O)cc1', 'COc1ccccc1Nc1nc(N)nc(COC(=O)c2sc(-c3ccsc3)nc2C)n1', 'COCC(=O)Cc1csc(NC(=O)CSc2ncnc3c2cnn3-c2ccccc2)n1', 'Cc1csc(C(C#N)C(=O)CSc2nc(C3CC3)nc3c2c(=O)[nH]c(=O)n3C2CC2)n1', 'COc1ccccc1-c1nc(NC(=O)Cc2csc(NC(=O)Cc3cccs3)n2)n[nH]1', 'Cc1cc(C)c2c(N)c(C(=O)Nc3ccc(S(=O)(=O)Nc4ncccn4)cc3)sc2n1', 'Cc1nc(-c2cccs2)sc1-c1ccc(=O)n(CCNC(=O)Cn2ncccc2=O)n1', 'Cc1cccc(-n2c(CNC(=O)c3ccco3)nnc2SCC(=O)Nc2nccs2)c1', 'O=C(NCc1ccccc1Cn1cncn1)c1ccc2c(c1)SC1=NS(=O)(=O)CCN12', 'CSc1ccc(C=C2SC(=O)N(CCNC(=O)c3nc4nccc(C)n4n3)C2=O)cc1', 'Cc1cc(C(=O)Nc2nc3c(s2)CN(CC(=O)Nc2nc4ccccc4s2)CC3)no1', 'CC(C)(C)c1nc(/N=C2\\\\NC(=O)/C(=C/c3cccc([N+](=O)[O-])c3)S2)sc1-n1ccnc1', 'COc1ccc(-n2nnnc2SCC(=O)Nc2nc(-c3ccccc3)cs2)cc1OC', 'Cc1ccc(C)c(OCc2nnc(SCc3nnc4n(C)c(=O)c5sccc5n34)o2)c1', 'Cc1ccc(C#N)c(SCCC(=O)Nc2ccc(S(=O)(=O)Nc3ncccn3)cc2)n1', 'NC(=O)CCn1c(SCC(=O)Nc2nc(-c3ccccc3)cs2)nnc1-c1ccco1', 'COc1ccccc1NC(=O)Nc1nnc(SCc2cc(=O)n3cccc(C)c3n2)s1', 'Cn1c(N)c(C(=O)CSc2nnc(-c3cccs3)n2-c2ccccc2)c(=O)n(C)c1=O', 'Cc1occc1C(=O)Nc1nc(CC(=O)Nc2ccc(Sc3nncn3C)cc2)cs1', 'COc1cc(OC)cc(C(=O)NC(=S)Nc2cccc(-c3nn4c(C)nnc4s3)c2)c1', 'CCNC(=O)Nc1nc(-c2ccncc2)c2cc(-c3nc(C(=O)OCC)cs3)sc2n1', 'CSc1nnc(COc2ccccc2)n1NC(=O)CSc1nnc(-c2ccccc2)o1', 'N#Cc1sc(NC(=O)c2cccc(S(=O)(=O)N3CCNCC3)c2)nc1-c1ccccn1', 'COc1ccc(OCc2nnc(SCC(=O)Nc3nncs3)n2-c2ccccc2)cc1', 'O=C(Nc1cccnc1-n1cncn1)c1ccc(S(=O)(=O)NCCc2cccs2)cc1', 'Cc1nc(SCC(=O)Nc2ccc(S(N)(=O)=O)cc2)c2cnn(-c3ccccc3)c2n1', 'Cc1cccc(-c2nc(N)sc2Oc2ccnc(Nc3cccc(S(N)(=O)=O)c3)c2)n1', 'COc1cc(OC)cc(C(=O)NC(=S)Nc2ccc(-c3nn4c(C)nnc4s3)cc2)c1', 'Cc1cc(C)c(C#N)c(SCC(=O)Nc2ccc(S(=O)(=O)Nc3ncccn3)cc2)n1', 'Cc1ccc(C(=O)Nc2nnc(S(=O)(=O)NCc3ccc(-n4ccnc4)cc3)s2)cc1', 'CN(C(=O)CSc1ncnc2sccc12)c1c(N)n(Cc2ccccc2)c(=O)[nH]c1=O', 'Cn1cnnc1Sc1ccc(C(=O)Nc2sc3c(c2C#N)CCCCC3)cc1[N+](=O)[O-]', 'COc1ccccc1-c1noc(CSc2nnc(Nc3cccc(NC(C)=O)c3)s2)n1', 'COc1cccc(-c2csc(C(C#N)=CNc3ccc(S(=O)(=O)N=C(N)N)cc3)n2)c1', 'O=C(NCc1cc(NS(=O)(=O)C2CC2)ccn1)c1ncc(-c2cnn3ccccc23)s1', 'CC(Sc1ncnc2c1cnn2-c1ccccc1)C(=O)Nc1cccc(S(N)(=O)=O)c1', 'CC1=NN(c2nc(-c3ccc(C)cc3)cs2)C(=O)[C@@H]1/N=N/c1ccc(S(N)(=O)=O)cc1', 'Cc1occc1-c1nnc(SCC(=O)N2N=C(c3ccco3)CC2c2cccs2)n1N', 'Cc1cccc(-n2nnnc2SCC(=O)Nc2nc3cc4c(cc3s2)OCCO4)c1C', 'Cc1csc(SCc2ccccc2C(=O)O[C@@H](C)C(=O)Nc2ncnc3nc[nH]c23)n1', 'Cc1ccc(-c2csc(-n3[nH]c(C)c(/N=N/c4ccc(S(N)(=O)=O)cc4)c3=O)n2)cc1', 'CC(=O)NCc1ccc(-c2csc(NC(=O)CCc3nc(-c4cccnc4)no3)n2)s1', 'COc1cccc(NC(=O)Nc2nnc(SCc3cc(=O)n4cc(C)ccc4n3)s2)c1', 'O=C(c1ccc(-n2cccn2)cc1)N1CCN(S(=O)(=O)c2cccc3nsnc23)CC1', 'Cc1ccc(-n2ncc3c(SCC(=O)Nc4ccc(S(N)(=O)=O)cc4)ncnc32)cc1', 'CN(C)[n+]1cc(/N=C(/[O-])CSC2=N/C(=C/c3cccs3)C(=O)N2c2ccccc2)on1', 'Nc1ncnc2cc(CN3CCN(S(=O)(=O)c4cc5ncccc5s4)CC3=O)ccc12', 'CSc1ncc2ccc(=O)n(Cc3ccc(S(=O)(=O)n4cnc(C5CC5)n4)cc3)c2n1', 'Cc1ccc(S(=O)(=O)Nc2cnccc2C(=O)Nc2nc(-c3cnn(C)c3)cs2)cc1', 'CS(=O)(=NC(=O)O)c1cccc(CNc2ccc3c(Nc4nccs4)ncnc3c2)c1', 'O=C(NCc1cccc(Cn2cncn2)c1)c1ccc2c(c1)SC1=NS(=O)(=O)CCN12', 'CCc1nnc(NC(=O)Cn2cnc3sc(C(=O)Nc4ccccc4)c(C)c3c2=O)s1', 'O=S(=O)(c1ccsc1)N1CCN(c2cncc(-c3nnc(-c4ccccc4)o3)n2)CC1', 'COc1ccc(-c2csc(C(C#N)=CNc3ccc(S(=O)(=O)N=C(N)N)cc3)n2)cc1', 'Cc1ccc2c(c1)c(=O)n(C)c1nnc(COC(=O)c3cc4sc(N(C)C)nc4s3)n21', 'COc1cccc(CNC(=O)Nc2nnc(SCc3nc4ccccc4[nH]c3=O)s2)c1', 'COC(=O)c1ccc(NC(=O)CSc2nnc(-c3sc4ncccc4c3N)n2C)cc1', 'O=C(Nc1nc2ccc(S(=O)(=O)N3CCCC3)cc2s1)c1ccc(-n2cccn2)nc1', 'Cn1c(=O)c2c(ncn2CC(=O)N2N=C(c3cccs3)CC2c2cccs2)n(C)c1=O', 'O=C(CSc1nc2ccccc2[nH]1)N1CCN(c2nc3ccc([N+](=O)[O-])cc3s2)CC1', 'COC(=O)C1CCN(c2ccc(C(=O)Nc3nc(-c4nccs4)c(C#N)s3)cn2)CC1', 'Cc1ccnc(NS(=O)(=O)c2ccc(NC(=O)CSc3nc4ccccc4[nH]3)cc2)n1', 'Cc1csc(SCc2ccccc2C(=O)O[C@H](C)C(=O)Nc2ncnc3nc[nH]c23)n1', 'Cc1ncccc1Oc1cc(Sc2ccccn2)cnc1Nc1nc([C@@H](O)CO)ns1', 'COCCCn1c(=O)c2ccccc2n2c(SCc3noc(-c4ccsc4)n3)nnc12', 'C[C@@H](Sc1nc(C2CC2)nc2c1c(=O)[nH]c(=O)n2C1CC1)C(=O)Nc1sccc1C#N', 'Cc1ccccc1C(=O)Nc1nnc(S(=O)(=O)NCc2ccc(-n3ccnc3)cc2)s1', 'Cc1nc(-c2ccc(CCNC(=O)c3nnn(-c4cccc([N+](=O)[O-])c4)c3C)s2)cs1', 'Cc1cccc(-c2nn(-c3ccccc3)cc2C(=O)Nc2nnc(NS(C)(=O)=O)s2)c1', 'Cc1ccc(C)c(NC(=O)Cc2nc(COC(=O)c3sccc3-n3cnnn3)cs2)c1', 'Cc1ncccc1Oc1cc(Sc2ccccn2)cnc1Nc1nc([C@H](O)CO)ns1', 'CC(=O)Nc1cccc(NC(=O)C(=O)NCCc2csc3nc(-c4cccs4)nn23)c1', 'CCSc1nnc(N2C(N)=C(C#N)C(c3ccc([N+](=O)[O-])cc3)C3=C2CCCC3=O)s1', 'CC(C)c1ccc(Nc2nnc(SCC(=O)Nc3ccc([N+](=O)[O-])cc3C#N)s2)cc1', 'COc1cccc(OC)c1C(=O)NC(=S)Nc1ccc(-c2nn3c(C)nnc3s2)cc1', 'Cn1c(N)c(-c2csc(N3N=C(c4cccs4)C[C@H]3c3ccco3)n2)c(=O)n(C)c1=O', 'C[C@@H](Sc1nnc(CNC(=O)c2ccco2)n1-c1ccccc1)C(=O)Nc1nccs1', 'CCN(CC)c1ccc(/N=N/c2nc3sc(C=C4C(=O)NC(=O)NC4=O)cc3s2)cc1', 'Cn1c(=O)c2sccc2n2c(CSc3nc4ccccc4c(=O)n3CCCO)nnc12', 'Cn1c(N)c(-c2csc(N3N=C(c4cccs4)C[C@@H]3c3ccco3)n2)c(=O)n(C)c1=O', 'CCOc1ccccc1Nc1nnc(SCC(=O)Nc2nnc(-c3ccccc3)o2)s1', 'CCn1cc(-c2nn(CNc3ccc([N+](=O)[O-])cc3)c(=S)s2)c(=O)c2ccc(C)nc21', 'N#Cc1c(N)nc(SCc2csc(N3CCOCC3)n2)nc1-c1ccc2c(c1)OCO2', 'Cn1c(SCC(=O)Nc2sc3c(c2C#N)CCCC3)nnc1-c1ccc([N+](=O)[O-])cc1', 'CC(Sc1nnc(Cc2cccs2)n1C1CC1)c1nnc(-c2ccc([N+](=O)[O-])cc2)o1', 'CCOC(=O)Cc1csc(NC(=O)CSc2ncnc3c2cnn3-c2ccccc2)n1', 'Cc1nnccc1Oc1cc(Sc2ccccn2)cnc1Nc1nc(C(O)CO)cs1', 'CCSc1nnc(NC(=O)Cn2c(=O)n(Cc3ccccc3)c(=O)c3ncccc32)s1', 'Cc1occc1-c1nnc(SCC(=O)N2N=C(c3cccs3)CC2c2ccco2)n1N', 'Cn1c(=O)c(C(=O)CSc2n[nH]c(-c3cccs3)n2)c(N)n(Cc2ccccc2)c1=O', 'Cc1ncccc1C(N)C(=O)N1Cc2cn(S(=O)(=O)c3ccc4ncsc4c3)nc2C1', 'CN(c1ccccc1)S(=O)(=O)c1cccc(NC(=O)Cn2nnc(-c3cccs3)n2)c1', 'Cc1nc(SCC(=O)Nc2nc3ccccc3s2)n(Nc2ccc([N+](=O)[O-])cc2)c1C', 'COCCS(=O)c1sc2nc(-c3cnc4c(c3)OCCN4)cc3c2c1[nH]n1nccc31', 'COc1cccc(NC(=O)Nc2nnc(SCc3cc(=O)n4cccc(C)c4n3)s2)c1', 'O=C(CSc1nnc2sc3ccccc3n12)N1CCN(c2ccccc2[N+](=O)[O-])CC1', 'Cc1ccc(-c2nc(SCC(=O)Nc3nccs3)c3c(=O)n(C)c(=O)n(C)c3n2)cc1', 'Cn1c(=O)c2c(SCC(=O)Nc3nc4ccccc4s3)nc(C3CC3)nc2n(C)c1=O', 'COc1ccccc1-c1cc(Nc2ccc(S(=O)(=O)Nc3nnc(C)s3)cc2)ncn1', 'COCCCn1c(=O)c2ccccc2n2c(SCc3nc(-c4ccsc4)no3)nnc12', 'Cc1cc(C)c2c(N)c(C(=O)Nc3ccc(S(=O)(=O)[N-]c4ncccn4)cc3)sc2[nH+]1', 'COc1ccc(C(=O)NC(=S)Nc2cccc(-c3nn4c(C)nnc4s3)c2)cc1OC', 'Cc1nnc(NC(=O)Cn2cnc3sc(C(=O)Nc4ccccc4C)c(C)c3c2=O)s1', 'Cc1nc(SCC(=O)Nc2cccc(S(N)(=O)=O)c2)c2cnn(-c3ccccc3)c2n1', 'Cc1ccc(Cn2ccs/c2=N\\\\C(=O)COC(=O)Cn2nnc(-c3cccs3)n2)cc1', 'Cc1nccn1-c1ccc(CNS(=O)(=O)c2nnc(NC(=O)c3ccccc3)s2)cc1', 'C=CCn1c2ccccc2c2nnc(SCC(=O)Nc3ccc(S(N)(=O)=O)cc3)nc21', 'COc1ccc(-c2csc(NC(=O)CSc3nnnn3-c3ccccc3OC)n2)cc1', 'CCn1c(SCC(=O)NNC(=O)c2cc(-c3ccccc3)on2)nnc1-c1cccs1', 'C[C@H]1CNc2c(sc3ccc4nc(Nc5ccnc(S(C)(=O)=O)n5)ccc4c23)C(=O)N1', 'O=C(CCSc1nc2ccccc2[nH]1)Nc1ccc(S(=O)(=O)Nc2ncccn2)cc1', 'CNc1nc2oc(-c3cccc(CNS(=O)(=O)c4ccsc4)c3)nc2c2c1ncn2C', 'O=C(Nc1nc(-c2cccs2)nc2c1cnn2C1CCCCC1)c1ccc([N+](=O)[O-])s1', 'CC(Sc1nc2ccccc2[nH]1)C(=O)Nc1ccc(S(=O)(=O)Nc2ncccn2)cc1', 'COCCn1c(-c2cnc(-c3ccc4scnc4c3)[nH]2)nc2cc(S(N)(=O)=O)ccc21', 'COc1ccc2nc(NC(=O)c3cccc(NC(=O)CSc4nncn4C)c3)sc2c1', 'COc1ccc(-c2csc(NC(=O)CSc3nnnn3-c3ccccc3)n2)cc1OC', 'Cc1csc(NC(=O)CSc2nnc(CNC(=O)c3ccco3)n2-c2ccccc2)n1', 'CS(=O)(=O)Nc1nnc(NC(=O)c2ccccc2-c2ccc(Cn3cccn3)cc2)s1', 'CSc1nc2c(c(=O)n1C)C1(C(=O)Nc3ccccc31)c1c(nc(SC)n(C)c1=O)N2', 'COc1ccc(-n2cnnc2SCC(=O)Nc2nc3ccc(NC(C)=O)cc3s2)cc1', 'O=C(c1sccc1-n1cnnn1)N1CCN(S(=O)(=O)c2ccc3ccccc3c2)CC1', 'CN(CC(=O)Nc1ccc(S(=O)(=O)Nc2ncccn2)cc1)c1nc2ccccc2s1', 'Cc1cc(C)nc(NS(=O)(=O)c2ccc(NC(=O)c3cc(-c4cccs4)[nH]n3)cc2)n1', 'C=CCn1c(SCc2nn3c(=O)cc(C)nc3s2)nnc1C1COc2ccccc2O1', 'O=c1ccc(N2CCN(S(=O)(=O)c3cccc4nsnc34)CC2)nn1-c1ccccc1', 'COc1cnc(Sc2c(-c3ccc(S(C)(=O)=O)nc3)nc(-c3ccccn3)n2C)nc1', 'CCOC(=O)c1sc2nc([C@H](C)Sc3n[nH]c4nc5ccccc5n34)[nH]c(=O)c2c1C', 'Cn1c(N)c(-c2csc(N3N=C(c4cccs4)CC3c3ccco3)n2)c(=O)n(C)c1=O', '[H]/N=N/NC(=O)c1sc(Oc2ccc(N(C)C(=O)C3CC3)nc2)c2c1CCc1cnsc1-2', 'COc1ccc(-c2csc(NC(=O)CSc3nnnn3-c3ccccc3)n2)c(OC)c1', 'C/C(=N\\\\NC(=O)c1sc(N)c(C#N)c1N)c1ccc(NS(=O)(=O)c2ccccc2)cc1', 'CC1CCc2c(sc3nc(SCc4nc(-c5ccc([N+](=O)[O-])cc5)no4)nc(N)c23)C1', 'N#Cc1sc(NC(=O)c2ccc(S(=O)(=O)N3CCNCC3)cc2)nc1-c1ccccn1', 'COc1ccccc1Nc1nnc(SCc2nc3ccccc3c(=O)n2CC(N)=O)s1', 'Cc1nccn1-c1ccccc1CNS(=O)(=O)c1nnc(NC(=O)c2ccccc2)s1', 'Cc1ccc(C#N)c(SC(C)C(=O)Nc2ccc(S(=O)(=O)Nc3ncccn3)cc2)n1', 'NC(=O)c1cc(-c2csc(NC(=O)CCc3nc4sc5c(c4c(=O)[nH]3)CCC5)n2)c[nH]1', 'CCOC(=O)c1c(-c2ccccc2)csc1NC(=O)CSc1nc2ncnc(N)c2[nH]1', 'CCOc1ccc(NC(=O)Nc2nnc(SCc3cc(=O)n4ccccc4n3)s2)cc1', 'COc1ccc(C(=O)NCc2nc(SCC(=O)Nc3nc4ccccc4s3)n[nH]2)cc1', 'COc1ccccc1-c1ccnc(Nc2ccc(S(=O)(=O)Nc3nnc(C)s3)cc2)n1', 'Cc1nc(-c2cccs2)sc1-c1ccc(=O)n(CCNC(=O)c2ccc(=O)n(C)n2)n1', 'O=C(C1CCCN1S(=O)(=O)c1cccc2nsnc12)N1CCn2c1nc1ccccc12', '[H]/N=C1/C(=Cc2cc(C)n(-c3cc([N+](=O)[O-])ccc3C)c2C)C(=O)N=C2SC(SC)=NN21', 'NS(=O)(=O)c1ccc(NC(=O)CSc2ncnc3c2cnn3Cc2ccccc2)cc1', 'COc1ccccc1NC(=O)Nc1nnc(SCc2cc(=O)n3ccc(C)cc3n2)s1', 'COc1ccccc1NC(=O)Nc1nnc(SCc2cc(=O)n3cc(C)ccc3n2)s1', 'C=CCn1c2ccccc2c2nnc(SCC(=O)Nc3cccc(S(N)(=O)=O)c3)nc21', 'COc1cccc(OC)c1C(=O)NC(=S)Nc1ccccc1-c1nn2c(C)nnc2s1', '[H]/N=C1C(=C\\\\c2cc(C)n(-c3cc([N+](=O)[O-])ccc3C)c2C)/C(=O)N=C2SC(SC)=NN2/1', 'O=C(Nc1nc2ccc(Sc3nnc4ccc(OC5CCOC5)nn34)cc2s1)C1CC1', 'CCOC(=O)c1sc2nc([C@@H](C)Sc3n[nH]c4nc5ccccc5n34)[nH]c(=O)c2c1C', 'Cc1nccn1-c1cc(CNC(=O)c2ccc3c(c2)SC2=NS(=O)(=O)CCN23)ccn1', 'C[C@]1(c2ccccc2)NC(=O)N(NC(=O)CSc2nnc(Nc3ccccc3)s2)C1=O', 'Cn1c(SCC(=O)Nc2sc3c(c2C#N)CCCC3)nnc1-c1cccc([N+](=O)[O-])c1', 'Cc1ncccc1[C@@H](N)C(=O)N1Cc2cn(S(=O)(=O)c3ccc4ncsc4c3)nc2C1', 'Cc1c(C(=O)Nc2ncc(Cc3ccc(S(N)(=O)=O)cc3)s2)nnn1-c1ccccc1', 'C=CCn1c(CNC(=O)c2ccco2)nnc1SCC(=O)Nc1nc2ccccc2s1', 'C[C@H](Sc1nc(C2CC2)nc2c1c(=O)[nH]c(=O)n2C1CC1)C(=O)Nc1sccc1C#N', 'COc1ccc(OC)c(-n2nnnc2SCc2csc(-c3ccc(C(N)=O)cc3)n2)c1', 'CC(Sc1ncnc2c1cnn2-c1ccccc1)C(=O)Nc1ccc(S(N)(=O)=O)cc1', 'COc1cc(OC)cc(-c2nnc(SCC3CSc4nnc(-c5cccnc5)n43)o2)c1', 'COc1ccc(-c2csc(/C(C#N)=C/Nc3ccc(S(=O)(=O)N=C(N)N)cc3)n2)cc1', 'C=CCn1c(SCc2nn3c(=O)cc(C)nc3s2)nnc1[C@@H]1COc2ccccc2O1', 'Cc1c(C(=O)Nc2ccc(S(=O)(=O)Nc3nccs3)cc2)nnn1Cc1ccccc1', 'Cc1ccnc([N-]S(=O)(=O)c2ccc(NC(=O)CSc3[nH]c4ccccc4[nH+]3)cc2)n1', 'CCOC(=O)c1sc(NC(=O)CSc2ncnc3c2cnn3-c2ccccc2)nc1C', 'Cc1csc(SCc2ccccc2C(=O)OC(C)C(=O)Nc2ncnc3nc[nH]c23)n1', 'CCSc1nnc(N2C(N)=C(C#N)C(c3cccc([N+](=O)[O-])c3)C3=C2CCCC3=O)s1', 'Cc1ncccc1[C@H](N)C(=O)N1Cc2cn(S(=O)(=O)c3ccc4ncsc4c3)nc2C1', 'CS(=O)(=O)Nc1ccc(-c2csc(NC(=O)c3ccc(Cn4cncn4)cc3)n2)cc1', 'CN1C(=O)C2C(N=CN2CC(=O)Nc2sccc2-c2nc3ccccc3s2)N(C)C1=O', 'Cn1nnnc1-c1cccc(NC(=O)Cc2ccc(NS(=O)(=O)c3cccs3)cc2)c1', 'COc1ccc(C(=O)NC(=S)Nc2ccccc2-c2nn3c(C)nnc3s2)cc1OC', 'CN(C)c1nc2sc(C(=O)N3CCN(c4oc(-c5ccco5)nc4C#N)CC3)cc2s1', 'COc1cc(OC)cc(C(=O)NC(=S)Nc2ccccc2-c2nn3c(C)nnc3s2)c1', 'COC1=NCC(c2ccc3nc(Cc4nnc(CC(=O)NC5(C#N)CC5)o4)sc3c2)S1', 'COC(=O)CSc1nnc(N2C(N)=C(C#N)C(c3cccnc3)C3=C2CCCC3=O)s1', 'CC(=O)NCc1ccc(-c2csc(NC(=O)c3ccc(CSc4ncn[nH]4)cc3)n2)o1', 'COc1cccc(-c2csc(/C(C#N)=C/Nc3ccc(S(=O)(=O)N=C(N)N)cc3)n2)c1', 'Cc1ccnc(NS(=O)(=O)c2ccc(NC(=O)CSc3nc(C)ccc3C#N)cc2)n1', 'C[C@H](Sc1nnc(CNC(=O)c2ccco2)n1-c1ccccc1)C(=O)Nc1nccs1', 'COc1ccc(-c2csc(NC(=O)CSc3nnnn3-c3ccc(OC)cc3)n2)cc1', 'C=CCn1c(SCc2nn3c(=O)cc(C)nc3s2)nnc1[C@H]1COc2ccccc2O1', 'COc1ccc(CSc2nnc(NC(=O)CCc3nc(-c4ccccn4)no3)s2)cc1', 'CSc1nc2c(c(=O)n1C)C1(C(=O)N2)c2ccccc2Nc2nc(SC)n(C)c(=O)c21', 'Cc1cc(C)c(C#N)c(SCC(=O)Nc2ccc(S(=O)(=O)[N-]c3ncccn3)cc2)[nH+]1', 'CC(=O)Nc1ccc(NC(=O)C(=O)NCCc2csc3nc(-c4cccs4)nn23)cc1', 'NC(CNS(=O)(=O)c1nccc2sncc12)c1ccc(C(=O)Nc2ccncc2)cc1', 'CSc1ccc(/C=C2/SC(=O)N(CCNC(=O)c3nc4nccc(C)n4n3)C2=O)cc1', 'COCCCn1c(=O)c2ccccc2n2c(SCc3nc4ccsc4c(=O)[nH]3)nnc12', 'Cn1cnnc1SCc1ccc(C(=O)NNC(=O)c2ccc3c(c2)NC(=O)CS3)cc1', 'Cc1csc(NC(=O)CSc2nc(-c3ccccc3)nc3c2c(=O)n(C)c(=O)n3C)n1', 'CN(c1ccccc1)S(=O)(=O)c1cccc(NC(=O)Cn2nnc(-c3ccsc3)n2)c1', 'Cc1cc(C(=O)Nc2nc3c(s2)CN(C(=O)c2sc(-n4cccc4)nc2C)CC3)no1', 'CC(NC(=O)c1ccc2c(c1)SC1=NS(=O)(=O)CCN12)c1ccc(-n2cncn2)cc1', 'CC(=O)Nc1ccc(-c2nc(SCc3csc(CCC(=O)O)n3)nc(N)c2C#N)cc1', 'Cn1c(SCC(=O)NCc2ccc3c(c2)OCO3)nnc1-c1sc2ncccc2c1N', 'C[C@@H]1CNc2c(sc3ccc4nc(Nc5ccnc(S(C)(=O)=O)n5)ccc4c23)C(=O)N1', 'Cn1ncc2cccc(NS(=O)(=O)c3ccc(-c4cnc(N5C=COCC5)s4)nc3)c21', 'CN(C)[n+]1cc(/N=C(\\\\[O-])CSC2=N/C(=C/c3cccs3)C(=O)N2c2ccccc2)on1', 'CC1=CC=CC=C1C2=NOC(=N2)C3=C(C=CS3)S(=O)(=O)N(C)C4=CC5=C(C=C4)OCCO5', 'COc1ccc(S(=O)(=O)Oc2ccc3ccccc3c2C=NN=C2NC(=O)C(C)S2)cc1', 'CCOC(=O)C1=C(C)N=c2s/c(=C\\\\Nc3cccc(C(=O)O)c3)c(=O)n2[C@@H]1c1cccs1', 'COC(=O)c1ccc(NC(=O)CSC(C)c2nc3scc(-c4ccco4)c3c(=O)[nH]2)cc1', 'O=C(c1sccc1S(=O)(=O)N1CCc2ccccc2C1)N1CCc2ccc([N+](=O)[O-])cc21', 'COc1ccc(OC)c2sc(NC(=O)c3ccc(NS(=O)(=O)c4ccccc4)cc3)nc12', 'CSCCn1/c(=N/C(=O)c2ccc(N3C(=O)CCC3=O)cc2)sc2cc3c(cc21)OCO3', 'CC(NC(=O)CCN(C(=O)c1cccs1)c1nc(-c2cc3ccccc3o2)cs1)C(=O)O', 'COc1ccc(OC)c(S(=O)(=O)Oc2cccc(Nc3nc(-c4ccccn4)cs3)c2)c1', 'O=C1N[C@@H]2CCN(S(=O)(=O)c3cccs3)[C@H]2C(=O)N1c1ccc(Oc2ccccc2)cc1', 'O=C(COC(=O)CCn1nc(-c2cccs2)oc1=O)NC(c1ccccc1)c1cccs1', 'Cc1csc(Sc2ccc([N+](=O)[O-])cc2C(=O)OCC(=O)N2c3ccccc3CC2C)n1', 'COc1cccc(-n2c(SCC(=O)Nc3ccc4c(c3)OCO4)nc3c(c2=O)SCC3)c1', 'CCOC(=O)c1c(NC2=NS(=O)(=O)c3ccccc32)sc(C(=O)Nc2ccccc2)c1C', 'Cc1ccc(-c2nnc(C(C)OC(=O)c3ccc(NS(=O)(=O)c4cccs4)cc3)o2)cc1', 'CCOc1ccc(/N=C2\\\\NC(=O)SC2=Cc2ccc(-c3ccc(S(N)(=O)=O)cc3)o2)cc1', 'Cc1csc(Sc2ccc(C(=O)OCC(=O)N3CCc4ccccc4C3)cc2[N+](=O)[O-])n1', 'CSc1ccc(/C=C2/SC(=O)N(CCNC(=O)Cn3c(=O)oc4ccccc43)C2=O)cc1', 'Cc1ccc(NC(=O)Cn2c3c(sc2=O)[C@@H]2c4cc([N+](=O)[O-])ccc4OC[C@H]2CS3)cc1', 'COc1cc(OC)cc(C(=O)N(Cc2nc(C(=O)O)cs2)Cc2nc3ccccc3s2)c1', 'COc1ccc2sc(OC3CCN(C(=O)c4cc5cc([N+](=O)[O-])ccc5s4)CC3)nc2c1', 'O=C(N[C@@H]1CCSc2ccccc21)c1ccc(NS(=O)(=O)c2cccc([N+](=O)[O-])c2)cc1', 'COc1cc(C(=O)Nn2c(O)c(C=C3C=Nc4ccccc43)sc2=S)cc(OC)c1OC', 'Cc1ccc(S(=O)(=O)Nc2ccc(C(=O)OCc3cc(=O)n4ccsc4n3)cc2)cc1C', 'CC1=C(C(=O)OC(C)C)[C@H](c2cccs2)n2c(s/c(=C/c3ccc([N+](=O)[O-])cc3)c2=O)=N1', 'Cc1nc(C)c(C(=O)C2=C(O)C(=O)N(c3ccc(S(N)(=O)=O)cc3)C2c2ccccc2)s1', 'Cc1occc1-c1nnc(SCC(=O)N(Cc2cccs2)c2ccc3c(c2)OCCO3)o1', 'COc1cc(/C=N\\\\N=C2\\\\S/C(=C\\\\c3cccs3)C(=O)N2Cc2ccco2)cc(OC)c1O', 'Cc1ccc(S(=O)(=O)N(C)c2ccc(C(=O)OCc3cc(=O)n4ccsc4n3)cc2)cc1', 'CN1C(=O)C(c2ccc(OS(C)(=O)=O)cc2)(c2cccc(-c3ccc(C=O)s3)c2)N=C1N', 'COc1ccc(/C=C2\\\\SC(=S)N(CCC(=O)c3c(C)c(C#N)c(=O)n(C)c3O)C2=O)cc1', 'CCOC(=O)C1=C(C)N=c2s/c(=C/c3cccs3)c(=O)n2[C@@H]1c1ccc(C)c([N+](=O)[O-])c1', 'CON(C)S(=O)(=O)c1ccc(C(=O)Nc2nc3ccc(Oc4ccccc4)cc3s2)cc1', 'CCOC(=O)Cn1/c(=N/C(=O)c2ccc3ncsc3c2)sc2cc(C(=O)OCC)ccc21', 'CC1=C(C(=O)OC(C)C)[C@@H](c2cccs2)n2c(s/c(=C/c3cccc([N+](=O)[O-])c3)c2=O)=N1', 'Cc1ccc(NC(=O)CNC(=O)CN2C(=O)/C(=C\\\\c3ccc4c(c3)OCO4)SC2=S)cc1', 'Cc1csc(Sc2ccc([N+](=O)[O-])cc2C(=O)OCC(=O)N2c3ccccc3C[C@@H]2C)n1', 'CCOC(=O)c1nn(-c2cccc(OC)c2)c(=O)c2c(NC(=O)c3cc(C)cs3)scc12', 'Cc1sc2nc(COC(=O)c3ccc(S(=O)(=O)Nc4ccccc4)cc3)[nH]c(=O)c2c1C', 'COc1ccc(NS(=O)(=O)c2ccc(C)c(C(=O)Nc3nc(-c4ccco4)cs3)c2)cc1', 'CCN(c1ccccc1)S(=O)(=O)c1cccc(C(=O)OCc2noc(-c3ccsc3)n2)c1', 'COc1c(S(=O)(=O)N2CCCc3ccccc32)csc1-n1c(=O)[nH]c2ccccc2c1=O', 'CC(=O)c1ccc(-c2n[nH]c3ccc(NS(=O)(=O)c4ccccc4S(C)(=O)=O)cc23)cc1', 'CCOC(=O)c1sccc1NC(=O)CSc1nc2ccccc2c(=O)n1Cc1ccco1', 'Cc1ccc(-c2noc(-c3sccc3S(=O)(=O)N(C)c3ccc4c(c3)OCCO4)n2)cc1', 'CCOC(=O)c1cccc(NS(=O)(=O)c2cc(-c3nc(-c4ccccc4)no3)sc2C)c1', 'COc1ccc(/C=C2/SC(=O)N(CCNC(=O)CSc3nc4ccccc4o3)C2=O)cc1', 'Cc1ccc(N(C)S(=O)(=O)c2ccsc2-c2nc(-c3ccc4c(c3)OCO4)no2)cc1C', 'CC(=Cc1ccccc1)/C=C1\\\\SC(=S)N(CCC(=O)Nc2cc([N+](=O)[O-])ccc2O)C1=O', 'N#CCCN(C(=O)COC(=O)c1ccc(NS(=O)(=O)c2cccs2)cc1)c1ccccc1', 'N#CCCN(C(=O)COC(=O)c1ccccc1NS(=O)(=O)c1cccs1)c1ccccc1', 'CSCCn1/c(=N/C(=O)CN2C(=O)c3ccccc3C2=O)sc2cc3c(cc21)OCCO3', 'COc1ccc(-c2nc(CSc3nnc(C4COc5ccccc5O4)o3)cs2)c(OC)c1', 'O=[N+]([O-])c1cccc(N2C/C(=C/c3ccc(OCc4ccccc4)cc3)S(=O)(=O)N2S)c1', 'Cc1cccc(NS(=O)(=O)c2cc(C(=O)OCC(=O)Nc3sccc3C#N)ccc2C)c1', 'COc1cc(/C=C2\\\\SC(=O)N(CC(=O)Nc3cccc(SC)c3)C2=O)ccc1OCC#N', 'CC(=O)c1sc(N2C(=O)C(O)=C(C(=O)c3sc(C)nc3C)C2c2cccc(O)c2)nc1C', 'COC(=O)c1ccc2c(c1)s/c(=N\\\\C(=O)CN1C(=O)c3ccccc3C1=O)n2CCSC', 'COc1ccc(S(=O)(=O)Nc2ccc3nc(NC(=O)c4ccccc4)sc3c2)cc1OC', 'C#CCNS(=O)(=O)c1cccc(C(=O)OCc2csc(N(C(C)=O)c3ccccc3)n2)c1', 'CNS(=O)(=O)c1ccc(NS(=O)(=O)c2ccc(-c3ncc(-c4ccccc4)o3)cc2)cc1', 'COC(=O)CCn1/c(=N/C(=O)c2ccc3ccccc3c2)sc2cc(S(N)(=O)=O)ccc21', 'CCOC(=O)c1sc(NC(=O)c2cccc(NS(=O)(=O)c3ccccc3)c2)c(C#N)c1C', 'Cc1cccc(NS(=O)(=O)c2cc(C(=O)OCc3cc(=O)n4ccsc4n3)ccc2C)c1', 'Cc1csc2nc(COC(=O)c3ccccc3S(=O)(=O)N(C)c3ccccc3)cc(=O)n12', 'CS(=O)(=O)N1Cc2ccccc2CC1C(=O)Nc1nc(-c2ccco2)c(-c2ccco2)s1', 'C=C(C)C(C(=O)OCc1ccc([N+](=O)[O-])cc1)N1C(=O)C[C@@H]1Sc1nc2ccccc2s1', 'CC1=C(C(=O)OC(C)C)C(c2cccs2)n2c(sc(=Cc3cccc([N+](=O)[O-])c3)c2=O)=N1', 'Cc1ccc(NS(=O)(=O)c2cccc(C(=O)OC(C)C(=O)Nc3sccc3C#N)c2)cc1', 'CC(/C=C1\\\\SC(=S)N(CCC(=O)Nc2cc([N+](=O)[O-])ccc2O)C1=O)=C\\\\c1ccccc1', 'COc1ccc(S(=O)(=O)Oc2cccc(Nc3nc(-c4ccccn4)cs3)c2)cc1OC', 'Cc1ccc(NS(=O)(=O)c2cccc(C(=O)OC(C)c3nnc(-c4cccs4)o3)c2)cc1', 'COc1ccccc1NC(=O)C(C)OC(=O)Cn1cnc2scc(-c3cccs3)c2c1=O', 'COc1cc(Oc2cc(NC(C)=O)ncc2-c2cc3ccccc3s2)nc(S(C)(=O)=O)c1', 'COc1ccc(NS(=O)(=O)c2ccc(NS(=O)(=O)c3cccc4cccnc34)cc2)cc1', 'CC(=O)Nc1ccc(C(=O)NCCN2C(=O)/C(=C/c3ccc4c(c3)OCO4)SC2=S)cc1', 'Cc1c(C(=O)NNC(=O)c2ccc(S(=O)(=O)NCc3cccs3)cc2)oc2ccccc12', 'Cc1ccc(S(=O)(=O)N(NC2=NS(=O)(=O)c3ccccc32)C(=O)Cc2ccccc2)cc1', 'O=C(CSc1ccc([C@H]2N[C@H](C(=O)O)CS2)cc1[N+](=O)[O-])Nc1ccc2ccccc2c1', 'CCOC(=O)C(Oc1ccc(S(=O)(=O)Nc2ccccc2)cc1)c1ccc2nsnc2c1', 'O=C(Nc1cccc(S(=O)(=O)N2CCOCC2)c1)c1ccc(-c2nc3ccccc3s2)o1', 'COC(=O)CNC(=O)CCN(C(=O)c1cccs1)c1nc(-c2cc3ccccc3o2)cs1', 'COc1ccc(S(=O)(=O)c2ccc(CNC(=O)c3cc4ccncc4s3)nc2)cc1OC', 'CCS(=O)(=O)c1cccc(S(=O)c2ccc(CNC(=O)c3cc4ccncc4o3)nc2)c1', 'COc1ccc(S(=O)(=O)Oc2ccc3ccccc3c2/C=N\\\\N=C2\\\\NC(=O)[C@@H](C)S2)cc1', 'CCOc1ccc(/N=C2\\\\NC(=O)S\\\\C2=C/c2ccc(-c3ccc(S(N)(=O)=O)cc3)o2)cc1', 'NC(=O)C1CN(C(=O)OCCc2ccccc2)c2cc(/C=C3/SC(=S)NC3=O)ccc2O1', 'CS(=O)(=O)c1cccc(S(=O)(=O)c2ccc(CNC(=O)c3ccc4nccn4c3)cc2)c1', '[H]/N=C1\\\\C(=Cc2ccc(OS(C)(=O)=O)c(OCC)c2)C(=O)N=C2SC=C(c3ccccc3)N21', 'COCCN1C(=O)/C(=C/c2c(Oc3ccccc3OC)nc3ccccn3c2=O)SC1=S', 'O=C(COc1ccc(C2SCCS2)cc1)N/N=C/c1ccc(-c2ccc([N+](=O)[O-])cc2)o1', 'COc1ccc(S(=O)(=O)Oc2ccc3ccccc3c2/C=N\\\\N=C2/NC(=O)[C@@H](C)S2)cc1', 'CCOC(=O)c1nn(-c2ccc(OC)cc2)c(=O)c2c(NC(=O)c3cc(C)cs3)scc12', 'C=CCn1/c(=N/C(=O)c2cccc(N3C(=O)CCC3=O)c2)sc2cc(S(C)(=O)=O)ccc21', 'Cc1ccc(S(=O)(=O)n2c(O)c(/N=N/S(=O)(=O)c3ccccc3)c3cc(C)ccc32)cc1', 'COC(=O)C1=C(C)N=C2SC(C(=O)Nc3ccc(OC)cc3)=CC(=O)N2C1c1cccs1', 'CCOC(=O)c1sc(-c2ccc(OC)cc2)cc1NC(=O)Cn1cnc2sccc2c1=O', 'CCOC(=O)Cn1/c(=N/C(=O)c2cc3cc([N+](=O)[O-])ccc3s2)sc2cc(C)c(C)cc21', 'CSCCn1/c(=N/C(=O)c2cccc(N3C(=O)CCC3=O)c2)sc2cc3c(cc21)OCO3', 'NC(C(=O)NC1C(=O)N2C(C(=O)O)=C(C(=O)Sc3ccccc3)CS[C@H]12)c1ccccc1', 'Cc1ccc(N(C)S(=O)(=O)c2cccc(C(=O)OCc3nc(-c4cccs4)no3)c2)cc1', 'CC1=C(C(=O)OC(C)C)[C@H](c2cccs2)n2c(s/c(=C\\\\c3ccc([N+](=O)[O-])cc3)c2=O)=N1', 'Cc1[nH]c(=O)sc1S(=O)(=O)N1CCN(C(=O)c2ccc3c(c2)C(=O)c2ccccc2-3)CC1', 'CCN(C(=O)COC(=O)c1sc(NC(=O)c2ccco2)cc1C)c1nc2ccccc2s1', 'CCN(c1ccccc1)S(=O)(=O)c1cccc(C(=O)OCc2nc(-c3ccsc3)no2)c1', 'CN1C(=O)C(c2ccc(OS(C)(=O)=O)cc2)(c2cccc(-c3ccsc3C=O)c2)N=C1N', 'O=C(c1cccs1)N1CCN(c2oc(-c3ccco3)nc2S(=O)(=O)c2ccccc2)CC1', 'COc1ccc(NC(=O)COC(=O)c2cc3sc(Nc4ccccc4)nc3s2)c(OC)c1', 'COC(=O)c1sc(NC=C(C#N)c2nc(-c3ccc(OC)cc3)cs2)c(C(=O)OC)c1C', 'COc1cccc(/C=C2/SC(=S)N(CCNC(=O)/C=C/c3ccc([N+](=O)[O-])cc3)C2=O)c1', 'Cc1nc2sccn2c1C(=O)c1ccc(NS(=O)(=O)c2ccc3c(c2)OCCCO3)cc1', 'CS(=O)c1ccc(CC(=O)Nc2nc3c(s2)C(=O)N(c2cccc(C(=O)O)c2)CC3)cc1', 'COc1cccc(NS(=O)(=O)c2ccc(NC(=O)Cn3c(=O)sc4ccccc43)cc2)c1', 'CC(/C=C1\\\\SC(=S)N(CCC(=O)Nc2ccc([N+](=O)[O-])cc2O)C1=O)=C\\\\c1ccccc1', 'COc1ccc(S(=O)(=O)Oc2ccc3ccccc3c2C=NN=C2NC(=O)[C@@H](C)S2)cc1', 'CCOC(=O)c1nn(-c2ccc(OCC)cc2)c(=O)c2c(NC(=O)c3cccs3)scc12', 'Cc1ccc(C)c(S(=O)(=O)Nc2ccccc2C(=O)OCC(=O)Nc2sccc2C#N)c1', 'COc1ccc(NS(=O)(=O)c2ccc(NC(=O)Cn3c(=O)sc4ccccc43)cc2)cc1', 'CCN(c1ccccc1)S(=O)(=O)c1ccc(C(=O)OCc2cc(=O)n3ccsc3n2)cc1', 'COC(=O)c1ccccc1NC(=O)Cn1c(=O)n(CCc2cccs2)c(=O)c2sccc21', 'COC(=O)c1ccc(NC(=O)Cn2c(=O)n(CCc3cccs3)c(=O)c3sccc32)cc1', 'COc1ccc(C=C2SC(=O)N(CCNC(=O)c3nc4ccccc4s3)C2=O)cc1OC', 'COc1ccc(-c2nc(NC(=O)c3ccc4c(c3)S(=O)(=O)N(C3CC3)C4=O)sc2C)cc1', 'O=C(CCCn1c(=O)oc2cc([N+](=O)[O-])ccc21)N1CCc2sccc2C1c1cccs1', 'Cc1csc(Sc2ccc([N+](=O)[O-])cc2C(=O)OCC(=O)N2c3ccccc3C[C@H]2C)n1', 'COC(=O)Cn1/c(=N/C(=O)c2cc3cc([N+](=O)[O-])ccc3s2)sc2cc(C(C)C)ccc21', 'O=C(COc1ccc(C2SCCS2)cc1)N/N=C/c1ccc(-c2ccccc2[N+](=O)[O-])o1', 'CCOC(=O)c1c(-c2ccco2)csc1NC(=O)Cn1nc(-c2ccc(C)s2)ccc1=O', 'CCOC(=O)Cn1/c(=N/C(=O)c2cccc3ccccc23)sc2cc(S(N)(=O)=O)ccc21', 'O=C1C(C2=NS(=O)(=O)c3ccccc3N2)=C(O)C2C(CO)=CSC2N1Cc1ccccc1', 'CS(=O)(=O)Cc1nc2ccccc2n1CC(=O)Oc1ccc(NC(=O)c2cccs2)cc1', 'CN1C2=C(N=C(C#CCc3ccccc3)C2)S(=O)(=O)N(Cc2ccc(C(=O)O)cc2)S1=O', 'COc1ccccc1N(C(C)=O)c1nc(COC(=O)CSc2nc3ccccc3o2)cs1', 'COc1ccccc1C(=O)Nc1cc(OC)c2nc(NS(=O)(=O)c3ccccc3)sc2c1', 'O=c1[nH]c2csc(CO)c2c(=O)n1-c1cccc(S(=O)(=O)N2CCCc3ccccc32)c1', 'Cc1ccc(S(=O)(=O)C2=C(C(=O)Nc3ccccn3)N(C)S(=O)(=O)c3ccccc32)cc1', 'COc1ccc(S(=O)(=O)Oc2ccc3ccccc3c2C=NN=C2NC(=O)[C@H](C)S2)cc1', 'O=C1NC(=O)/C(=C\\\\c2cc3cncc(-c4ccc(S(=O)(=O)N5CCCCC5)cc4)c3o2)S1', 'Cc1cc(C)cc(N(C)S(=O)(=O)c2ccsc2-c2nc(-c3ccc4c(c3)OCO4)no2)c1', 'CC(=O)Nc1ccc(C(=O)NCCN2C(=O)C(=Cc3ccc4c(c3)OCO4)SC2=S)cc1', 'Cc1ccc(NC(=O)Cn2c3c(sc2=O)[C@H]2c4cc([N+](=O)[O-])ccc4OC[C@H]2CS3)cc1', 'CC1=C(C(=O)OC(C)C)C(c2cccs2)n2c(s/c(=C\\\\c3ccccc3[N+](=O)[O-])c2=O)=N1', 'COC(=O)Cn1/c(=N/C(=O)Cc2ccc3ccccc3c2)sc2cc(S(N)(=O)=O)ccc21', 'COC(=O)c1cccc(C(=O)NC(=S)Nc2ccc(S(=O)(=O)Nc3ccccc3)cc2)c1', 'Cc1ccc(N(Cc2nnc(-c3cccs3)o2)S(=O)(=O)c2ccc3c(c2)OCCO3)cc1', 'CC(=O)Nc1cccc(C(=O)NCCN2C(=O)C(=Cc3ccc4c(c3)OCO4)SC2=S)c1', 'C=CCn1/c(=N/C(=O)c2ccc(N3C(=O)CCC3=O)cc2)sc2cc(S(C)(=O)=O)ccc21', 'CCOC(=O)c1c(-c2ccco2)csc1NC(=O)CSc1nnc(Cc2ccccc2)o1', 'O=C(Nc1cccc(S(=O)(=O)NCc2ccco2)c1)c1ccc(OCc2cscn2)cc1', 'O=C1NC2CCN(S(=O)(=O)c3cccs3)C2C(=O)N1c1ccc(Oc2ccccc2)cc1', 'COc1cc(/C=C2\\\\S/C(=N\\\\N=C\\\\c3cccs3)N(Cc3ccco3)C2=O)cc(OC)c1O', 'CC1=C(C(=O)OC(C)C)[C@@H](c2cccs2)n2c(s/c(=C\\\\c3ccc([N+](=O)[O-])cc3)c2=O)=N1', 'COc1ccc(S(=O)(=O)Oc2ccc3ccccc3c2C=N/N=C2/NC(=O)C(C)S2)cc1', 'CC1=C(C(=O)OC(C)C)[C@H](c2cccs2)n2c(s/c(=C/c3ccccc3[N+](=O)[O-])c2=O)=N1', 'COc1ccc2[nH]cc(-c3ccc(NC(=O)NS(=O)(=O)c4ccc(C)s4)cc3)c(=O)c2c1', 'O=Cc1ncc(-c2ccc(CCN(CCc3ccc(O)c4[nH]c(=O)sc34)C(=O)O)cc2)s1', 'COC(=O)c1ccccc1NC(=O)CSc1nc2sc(C)cc2c(=O)n1Cc1ccco1', 'O=C1C(=Cc2ccc(N3CCCCC3)c([N+](=O)[O-])c2)SC(=S)N1c1ccc2c(c1)OCO2', 'O=C1N[C@@H]2CCN(S(=O)(=O)c3cccs3)[C@@H]2C(=O)N1c1ccc(Oc2ccccc2)cc1', 'COc1ccc(OC(=O)c2ccc(NC(=O)c3cc4sc(NCCO)nc4s3)cc2)cc1', 'O=C(CCCN1C(=O)C(=CC=Cc2ccccc2)SC1=S)Nc1ccc([N+](=O)[O-])cc1O', 'COC(=O)c1ccc(-c2nc(CSc3nnc(-c4ccc(OC)c(OC)c4)o3)cs2)cc1', '[C-]#[N+]c1ccc(CC(=O)c2ccnc(S(=O)(=O)N(C)c3ccc(S(C)(=O)=O)cc3)c2)cc1', 'COc1ccc(S(=O)(=O)Nc2nc3ccc(C(=O)Nc4cc(C)ccc4O)cc3s2)cc1', 'NS(=O)(=O)c1ccc(N2C(=O)CC(N(Cc3ccccc3)C(=O)c3cccs3)C2=O)cc1', 'CC(C)OC(=O)C1=c2oc(=O)/c(=C\\\\c3cccs3)n2-c2oc(N)nc2[C@@H]1Cc1cccs1', 'C[C@H]1Sc2ccc(C(=O)Nc3ccc(S(=O)(=O)Nc4ccc(O)cc4)cc3)cc2NC1=O', 'Cc1ccccc1OCc1ccc(C(=O)Nc2ccc(S(=O)(=O)Nc3nccs3)cc2)o1', 'COc1ccc(/N=C2\\\\SC3C(=O)NC(=O)C3C(c3cccs3)C2C2CC(=O)NC2=O)cc1', 'COc1ccc(OC)c(S(=O)(=O)Nc2ccc3sc(NC(=O)c4ccccc4)nc3c2)c1', 'O=C(O)C1(S(=O)(=O)c2ccc3nc(-c4ncc(-c5ccccc5)[nH]4)sc3c2)CCOCC1', 'O=C(Nc1nc(-c2cc3ccccc3o2)cs1)c1ccc(S(=O)(=O)N2CCOCC2)cc1', 'COc1ccc(-c2csc(NC(=O)CSc3cccc(NC(=O)/C=C/C(=O)O)c3)n2)cc1', 'Cc1sc2nc(SCC(=O)Nc3ccc4c(c3)OCO4)n(Cc3ccco3)c(=O)c2c1C', 'CCOC(=O)C1=C(C)N=c2s/c(=C\\\\Nc3ccc(C(=O)O)cc3)c(=O)n2[C@H]1c1cccs1', 'CS(=O)(=O)N1Cc2ccccc2C[C@@H]1C(=O)Nc1nc(-c2ccco2)c(-c2ccco2)s1', 'O=C(CCCN1C(=O)/C(=C/C=C/c2ccccc2)SC1=S)Nc1ccc([N+](=O)[O-])cc1O', 'Cc1cccc(NS(=O)(=O)c2ccc(C)c(C(=O)OCc3cc(=O)n4ccsc4n3)c2)c1', 'O=C(NC1CCSc2ccccc21)c1ccc(NS(=O)(=O)c2cccc([N+](=O)[O-])c2)cc1', 'COc1ccc2nc(NC(=O)c3ccc(S(=O)(=O)Nc4ccccc4OC)cc3)sc2c1', 'COCCN1C(=O)/C(=C\\\\c2c(Oc3ccc(OC)cc3)nc3ccccn3c2=O)SC1=S', 'CC1Sc2ccc(C(=O)Nc3ccc(S(=O)(=O)Nc4ccc(O)cc4)cc3)cc2NC1=O', 'CN1C(=O)C(c2ccc(CS(=O)(=O)O)cc2)(c2cccc(-c3ccc(C=O)s3)c2)N=C1N', 'CC(=C/c1ccccc1)/C=C1/SC(=S)N(CCC(=O)Nc2cc([N+](=O)[O-])ccc2O)C1=O', 'COc1cc2ncn(-c3cc(OCc4ccccc4S(C)(=O)=O)c(C#N)s3)c2cc1OC', 'CC1=C(C(=O)OC(C)C)[C@@H](c2cccs2)n2c(s/c(=C/c3ccccc3[N+](=O)[O-])c2=O)=N1', 'CS(=O)(=O)c1ccccc1S(=O)(=O)N(N)C(=O)c1ccc2[nH]c(-c3ccccc3)cc2c1', 'CCOC(=O)CSc1nc2c(sc3ccc([N+](=O)[O-])cc32)c(=O)n1Cc1ccc(C)cc1', 'C=CCN(C(=O)Cn1c(=O)oc2ccccc21)c1nc(-c2ccc(S(C)(=O)=O)cc2)cs1', 'COc1cccc(-c2cc(C3(C(=O)Nc4nc5ccc(S(C)(=O)=O)cc5s4)CC3)no2)c1', 'Cc1ccc(C)c(S(=O)(=O)Nc2ccccc2C(=O)OCc2nc(-c3ccsc3)no2)c1', 'COc1ccc(-c2nc(C(=O)OCC(=O)Nc3sc4c(c3C#N)CCC4)cs2)cc1OC', 'O=C1/C(=C\\\\c2ccc(N3CCCCC3)c([N+](=O)[O-])c2)SC(=S)N1c1ccc2c(c1)OCO2', 'COCc1nc(OC)c2c(C)c(C(=O)Oc3ccc(NC(=O)c4cccs4)cc3)sc2n1', 'O=C(CCCN1C(=O)/C(=C/c2ccc3c(c2)OCO3)SC1=S)NNC(=O)c1ccccc1', 'Cc1cccc(COn2cccc(C(=O)Nc3nc4ccc(S(C)(=O)=O)cc4s3)c2=O)c1', 'COc1ccc(-c2nc(CSc3nnc([C@H]4COc5ccccc5O4)o3)cs2)cc1OC', 'CCOC(=O)c1c(-c2ccccc2)csc1NC(=O)COC(=O)Cc1cn2ccsc2n1', 'Cc1ccc(C)c(S(=O)(=O)N(NC2=NS(=O)(=O)c3ccccc32)C(=O)c2ccccc2)c1', 'CCc1ccc(N(C)S(=O)(=O)c2ccsc2-c2nc(-c3ccc4c(c3)OCO4)no2)cc1', 'CCOC(=O)C1=C(C)N=c2s/c(=C/c3cccs3)c(=O)n2[C@H]1c1ccc(C)c([N+](=O)[O-])c1', 'COC(=O)C1=C(C(=O)OC)N(c2ccc(Sc3nccc(-c4cccs4)n3)cc2)COC1', 'O=C(COc1ccc(C2SCCS2)cc1)N/N=C\\\\c1ccc(-c2cccc([N+](=O)[O-])c2)o1', 'CNc1ccc2c(=O)c(-c3ccc(NC(=O)NS(=O)(=O)c4ccc(C)s4)cc3)coc2c1', 'O=C(CCCN1C(=O)C(=Cc2ccc3c(c2)OCO3)SC1=S)NNC(=O)c1ccccc1', 'CCc1ccc(-c2noc(-c3sccc3S(=O)(=O)N(C)c3ccc4c(c3)OCO4)n2)cc1', 'Cc1ccc(N(C)S(=O)(=O)c2cccc(C(=O)OCc3noc(-c4ccsc4)n3)c2)cc1', 'COc1cc(C(=O)Nn2c(O)c(/C=C3\\\\C=Nc4ccccc43)sc2=S)cc(OC)c1OC', 'CCOC(=O)Cn1/c(=N/C(=O)c2cc3cc([N+](=O)[O-])ccc3s2)sc2cc(CC)ccc21', 'CCOc1cc(/C=C2\\\\SC(=S)N(NC(=O)c3ccc(OC)cc3)C2=O)ccc1OCC#N', 'CC(=O)Nc1cccc(C(=O)NCCN2C(=O)/C(=C/c3ccc4c(c3)OCO4)SC2=S)c1', 'NC(=O)c1c(NC(=O)COC(=O)c2ccc(NC(=O)c3cccs3)cc2)sc2c1CCC2', 'CCOC(=O)CCn1/c(=N/C(=O)c2nc3ccccc3s2)sc2cc3c(cc21)OCCO3', 'O=C(Nc1ccc(S(=O)(=O)NCc2ccco2)cc1)c1ccc(OCc2cscn2)cc1', 'O=[N+]([O-])c1ccc(N2C/C(=C/c3cccc(OCc4ccccc4)c3)S(=O)(=O)N2S)cc1', 'COc1ccc(Cn2c(S(=O)(=O)c3ccccc3)nnc2S(=O)(=O)c2ccccc2)cc1', 'CC1=C(C(=O)OC(C)C)[C@@H](c2cccs2)n2c(s/c(=C/c3ccc([N+](=O)[O-])cc3)c2=O)=N1', 'O=C(CCCN1C(=O)C(=CC=Cc2ccccc2)SC1=S)Nc1cc([N+](=O)[O-])ccc1O', 'Cc1csc2nc(COC(=O)c3cccc(S(=O)(=O)NCc4ccccc4)c3)cc(=O)n12', 'COc1ccc(C(=O)Nc2ccc3nc(NS(=O)(=O)c4ccccc4)sc3c2)cc1OC', 'COc1ccc(-c2nc(CSc3nnc([C@@H]4COc5ccccc5O4)o3)cs2)cc1OC', 'Cc1cccc(-c2noc(-c3sccc3S(=O)(=O)N(C)c3ccc4c(c3)OCCO4)n2)c1', 'O=C(NCCNC(=O)c1cc2ccccc2cc1NS(=O)(=O)c1cccs1)c1ccco1', 'Cc1ccc(-c2cc(C(=O)OCC(=O)NCCN3C(=O)CSC3=S)c3ccccc3n2)o1', 'Cc1ccc(C)c(S(=O)(=O)Nc2ccc(C(=O)OCc3cc(=O)n4ccsc4n3)cc2)c1', 'COc1ccc(-c2csc(NC(=O)CSc3ccc(NC(=O)/C=C/C(=O)O)cc3)n2)cc1', 'COc1cc(/C=C2\\\\S/C(=N/N=C\\\\c3cccs3)N(Cc3ccco3)C2=O)cc(OC)c1O', 'C#CCn1/c(=N/C(=O)c2ccc(S(=O)(=O)N(C)C3CC3)cc2)sc2cc3c(cc21)OCO3', 'NS(=O)(=O)c1cccc(S(=O)(=O)c2ccc(CCC(=O)c3ccc4nccn4c3)cc2)c1', 'COc1cccc(-c2csc(NC(=O)CSc3cccc(NC(=O)/C=C/C(=O)O)c3)n2)c1', 'COc1cccc(-c2c(C)sc3nc(C)cc(NS(=O)(=O)c4cccc([N+](=O)[O-])c4)c23)c1', 'COc1ccc2c(c1)CC(=O)N(c1ccc(NC(=O)NS(=O)c3ccc(C)s3)cc1)C2=O', 'COc1ccc(/C=C/c2nc(-c3ccc(NS(=O)(=O)c4cccs4)cc3)no2)cc1OC', 'Cc1ccc(S(=O)(=O)N(C)c2ccc(C(=O)OCC(=O)Nc3sccc3C#N)cc2)cc1', 'O=C(Cn1c(=O)n(CCc2cccs2)c(=O)c2sccc21)Nc1ccc2c(c1)OCCO2', 'Cc1ccc(NS(=O)(=O)c2ccc(C(=O)OCc3cc(=O)n4c(C)csc4n3)cc2)cc1', 'Cc1cccc2nc(COC(=O)c3cccc(S(=O)(=O)NCc4cccs4)c3)cc(=O)n12', 'CCN(c1ccccc1)S(=O)(=O)c1cccc(C(=O)OCc2nc(-c3cccs3)no2)c1', 'CCN(c1ccccc1)S(=O)(=O)c1cccc(C(=O)OCc2nc3ccsc3c(=O)[nH]2)c1', 'CC(=O)Nc1ccc(C(=O)NCCN2C(=O)/C(=C\\\\c3ccc4c(c3)OCO4)SC2=S)cc1', 'NS(=O)(=O)c1ccc(NC=C2C(=O)c3ccccc3N(Cc3ccccc3)S2(=O)=O)cc1', 'COc1ccc(-c2nc(C(=O)OCC(=O)Nc3ccccc3SCC#N)cs2)cc1OC', 'O=C(Cn1c(=O)n(CCc2cccs2)c(=O)c2sccc21)NCc1ccc2c(c1)OCO2', 'CS(=O)(=O)c1ccccc1S(=O)(=O)Nc1ccc2n[nH]c(C3Cc4ccccc4O3)c2c1', 'CCOC(=O)c1nn(-c2cccc(OC)c2)c(=O)c2c(NC(=O)Cc3cccs3)scc12', 'COc1cc(C(=O)Nn2c(O)c(/C=C3/C=Nc4ccccc43)sc2=S)cc(OC)c1OC', 'COc1ccccc1-c1csc(NC(=O)CSc2ccc(NC(=O)/C=C/C(=O)O)cc2)n1', 'COc1ccc(NC(=O)CN2C(=O)C(=C3SC(=S)N(C)C3=O)c3ccccc32)c(OC)c1', 'CCOC(=O)c1sc(NC(=O)c2ccc(NS(=O)(=O)c3ccccc3)cc2)c(C#N)c1C', 'O=C(c1cc2c(s1)-c1ccccc1S(=O)(=O)C2)N1CCN(c2ccc([N+](=O)[O-])cc2)CC1', 'O=C(Nc1nc2ccc(S(=O)(=O)N3CCCCC3)cc2s1)c1cc2ccccc2oc1=O', 'COc1cc2nc(NC(=O)c3cccc(NS(=O)(=O)c4ccccc4)c3)sc2cc1OC', 'CS(=O)(=O)c1ccc(S(=O)(=O)c2ccc(CNC(=O)c3cc4cnccc4[nH]3)cc2)cc1', 'CCOC(=O)c1c(-c2ccco2)csc1NC(=O)CSc1nc2ccccc2c(=O)n1C', 'Cc1ccc(C)c(S(=O)(=O)Nc2ccc(C(=O)OCc3noc(-c4ccsc4)n3)cc2)c1', 'Cc1cccc2cc(S(=O)(=O)Nc3cccc4c3CN(C3CCC(=O)NC3=O)C4=O)sc12', 'COC1=CC=C(C=C1)C2=COC3=C(C2=O)C=CC(=C3)O[C@H]4[C@@H]([C@H]([C@@H]([C@H](O4)COC(=O)CC(=O)O)O)O)O', 'O=C(/C=C/c1ccc(O)c(O)c1)O[C@H]1[C@@H](O)[C@@](OC(=O)/C=C/c2ccc(O)c(O)c2)(C(=O)O)CC[C@@H]1O', 'O=C(/C=C/c1ccc(O)c(O)c1)O[C@H]1[C@H](O)CC(O)(C(=O)O)C[C@H]1OC(=O)/C=C/c1ccc(O)c(O)c1', 'O=C(C=Cc1ccc(O)c(O)c1)O[C@@H]1CC[C@](O)(C(=O)O)[C@@H](OC(=O)C=Cc2ccc(O)c(O)c2)[C@H]1O', 'O=C(/C=C/c1ccc(O)c(O)c1)O[C@@H]1[C@H](O)C[C@@](O)(C(=O)O)C[C@@H]1OC(=O)/C=C/c1ccc(O)c(O)c1', 'O=C(/C=C/c1ccc(O)c(O)c1)OC1C(O)C[C@@](O)(C(=O)O)C[C@H]1OC(=O)/C=C/c1ccc(O)c(O)c1', 'O=C(/C=C/c1ccc(O)c(O)c1)O[C@H]1C[C@](OC(=O)/C=C/c2ccc(O)c(O)c2)(C(=O)O)C[C@H](O)[C@H]1O', 'O=C(/C=C/c1ccc(O)c(O)c1)O[C@@H]1C[C@@H](OC(=O)/C=C/c2ccc(O)c(O)c2)[C@H](O)[C@@](O)(C(=O)O)C1', 'O=C(/C=C/c1ccc(O)c(O)c1)O[C@H]1C[C@@](O)(C(=O)O)CC(O)[C@@H]1OC(=O)/C=C/c1ccc(O)c(O)c1', 'COC(=O)C1C(c2ccc3c(c2)OCO3)OC(=O)C1(C(=O)OC)C(=O)c1cc(OC)c(OC)c(OC)c1', 'O=C(C=Cc1ccc(O)c(O)c1)O[C@@H]1[C@@H](OC(=O)C=Cc2ccc(O)c(O)c2)C[C@@](O)(C(=O)O)C[C@@H]1O', 'O=C(O)CCC(=O)OC[C@H]1O[C@@H](Oc2cc(O)c3c(=O)cc(-c4ccccc4)oc3c2)[C@H](O)[C@@H](O)[C@@H]1O', 'CC(=O)OC1[C@H](C)OC(Oc2c(-c3ccc(O)cc3)oc3cc(O)cc(O)c3c2=O)[C@H](OC(C)=O)[C@@H]1O', 'O=C(/C=C/c1ccc(O)c(O)c1)O[C@@H]1C[C@@H](O)[C@H](O)[C@H](OC(=O)/C=C/c2ccc(O)c(O)c2)C1.O=C=O', 'COC(=O)c1oc2cc(O[C@@H]3O[C@H](CO)[C@@H](O)[C@@H](O)[C@H]3O)ccc2c(=O)c1-c1ccc2c(c1)OCCO2', 'O=C(/C=C/c1ccc(O)c(O)c1)O[C@@H]1C[C@](OC(=O)/C=C/c2ccc(O)c(O)c2)(C(=O)O)C[C@H](O)[C@@H]1O', 'O=C(/C=C/c1ccc(O)c(O)c1)OC1C[C@@](O)(C(=O)O)C[C@@H](O)[C@H]1OC(=O)/C=C/c1ccc(O)c(O)c1', 'O=C(C=Cc1ccc(O)c(O)c1)OC1C(O)CC(OC(=O)C=Cc2cccc(O)c2O)(C(=O)O)CC1O', 'CC(=O)OC1C(C)OC(Oc2c(-c3ccc(O)cc3)oc3cc(O)cc(O)c3c2=O)C(OC(C)=O)C1O', 'O=C(C=Cc1ccc(O)c(O)c1)O[C@H]1[C@H](O)CC[C@](O)(C(=O)O)[C@H]1OC(=O)C=Cc1ccc(O)c(O)c1', 'O=C(O)C1(O)C[C@](O)(C(=O)/C=C/c2ccc(O)c(O)c2)C(O)[C@@](O)(C(=O)/C=C/c2ccc(O)c(O)c2)C1', 'CC(=O)O/C=C1/OCC(C2=CC(=O)c3cccc(O)c3C2=O)[C@H](OC(C)=O)[C@@H](OC(C)=O)[C@@H]1OC(C)=O', 'O=C(C=Cc1ccc(O)c(O)c1)O[C@H]1C[C@](OC(=O)C=Cc2ccc(O)c(O)c2)(C(=O)O)C[C@H](O)[C@H]1O', 'O=C(C=Cc1ccc(O)c(O)c1)O[C@H]1CC(O)(C(=O)O)C[C@H](OC(=O)C=Cc2ccc(O)c(O)c2)C1O', 'CC(=O)O[C@H]1[C@H](Oc2cc(O)c3c(=O)cc(-c4ccc(O)cc4)oc3c2)O[C@@H](CO)[C@@H](O)[C@@H]1OC(C)=O', 'O=C(C=Cc1ccc(O)c(O)c1)O[C@@H]1C[C@](OC(=O)C=Cc2ccc(O)c(O)c2)(C(=O)O)C[C@@H](O)[C@@H]1O', 'O=C(/C=C/c1ccc(O)c(O)c1)O[C@H]1C[C@](OC(=O)/C=C/c2ccc(O)c(O)c2)(C(=O)O)C[C@@H](O)[C@H]1O', 'O=C(/C=C/c1ccc(O)c(O)c1)OC1C[C@](O)(C(=O)O)CC(O)[C@H]1OC(=O)/C=C/c1ccc(O)c(O)c1', 'O=C(C=Cc1ccc(O)c(O)c1)OC1C[C@@](OC(=O)C=Cc2ccc(O)c(O)c2)(C(=O)O)CC(O)C1O', 'O=C(/C=C/c1ccc(O)c(O)c1)O[C@H]1C[C@@H](O)[C@H](O)C[C@]1(OC(=O)/C=C/c1ccc(O)c(O)c1)C(=O)O', 'O=C(/C=C/c1ccc(O)c(O)c1)O[C@H]1C[C@](OC(=O)/C=C/c2ccc(O)c(O)c2)(C(=O)O)C[C@H](O)[C@@H]1O', 'COC(=O)COC(=O)COc1ccc(C2COc3cc(OCC(=O)OCC(=O)OC)ccc3C2=O)cc1', 'COc1ccc(-c2coc3cc(OC4OC(CO)C(OC(=O)CC(=O)O)C(O)C4O)ccc3c2=O)cc1', 'O=C(/C=C/c1ccc(O)c(O)c1)O[C@H]1CC(O)(C(=O)O)C[C@@H](OC(=O)/C=C/c2ccc(O)c(O)c2)C1O', 'O=C(/C=C\\\\c1ccc(O)c(O)c1)OC1C(O)CC(OC(=O)/C=C/c2ccc(O)c(O)c2)(C(=O)O)CC1O', 'CC(=O)OC1C(O)[C@H](Oc2c(-c3ccc(O)cc3)oc3cc(O)cc(O)c3c2=O)OC(C)[C@@H]1OC(C)=O', 'CC(=O)CC(=O)OCC1O[C@H](Oc2c(C)cc3c(c2O)C(=O)c2c(O)cccc2C3=O)[C@@H](O)C(O)[C@@H]1O', 'O=C(/C=C/c1ccc(O)c(O)c1)OC1(C(=O)O)C[C@@H](O)C(C(=O)O/C=C/c2ccc(O)c(O)c2)[C@H](O)C1', 'O=C(/C=C/c1ccc(O)c(O)c1)OC(=O)[C@@]1(O)C[C@@H](O)[C@H](O)[C@H](OC(=O)/C=C/c2cccc(O)c2O)C1', 'COc1cc(-c2oc3cc(=O)cc4occc(c2OC2OC(CO)C(O)C(O)C2O)c43)cc(OC)c1O', 'CO[C@H]1[C@H](O[C@@H]2OC[C@@H](O)[C@H](O)[C@H]2O)c2c(cc3c(c2O)C(=O)c2c(O)cccc2C3=O)C(=O)[C@@]1(C)O', 'O=C(C=Cc1ccc(O)c(O)c1)OC1C[C@@](O)(C(=O)O)CC(O)[C@@H]1OC(=O)C=Cc1ccc(O)c(O)c1', 'COc1cc2ccc(=O)oc2cc1OC1OC(CO)C(OC(=O)C=Cc2ccc(O)c(O)c2)C(O)C1O', 'O=C(C=Cc1ccc(O)c(O)c1)OC1C(O)CC(OC(=O)/C=C/c2ccc(O)c(O)c2)(C(=O)O)CC1O', 'O=C(/C=C/c1ccc(O)c(O)c1)O[C@@H]1[C@H](O)CC[C@](O)(C(=O)O)[C@H]1OC(=O)/C=C/c1ccc(O)c(O)c1', 'O=C(/C=C/c1ccc(O)c(O)c1)OC1C[C@](OC(=O)/C=C/c2ccc(O)c(O)c2)(C(=O)O)CC(O)[C@@H]1O', 'O=C(/C=C/c1ccc(O)c(O)c1)OC1C[C@](O)(C(=O)O)C[C@@H](O)[C@H]1OC(=O)/C=C/c1ccc(O)c(O)c1', 'CC(=O)CC(=O)OCC1O[C@H](Oc2c(C)cc3c(c2O)C(=O)c2c(O)cccc2C3=O)[C@H](O)C(O)[C@H]1O', 'COc1cc(-c2oc3cc(=O)cc4occc(c2O[C@@H]2O[C@H](CO)[C@@H](O)[C@H](O)[C@H]2O)c43)cc(OC)c1O', 'O=C(/C=C\\\\c1ccc(O)c(O)c1)O[C@@H]1CC(O)(C(=O)O)C[C@@H](OC(=O)/C=C/c2ccc(O)c(O)c2)C1O', 'O=C(C=Cc1ccc(O)c(O)c1)OC1CC(O)(C(=O)O)CC(O)C1OC(=O)C=Cc1ccc(O)c(O)c1', 'O=C(/C=C/c1ccc(O)c(O)c1)O[C@@H]1[C@H](O)CC[C@@](OC(=O)/C=C/c2ccc(O)c(O)c2)(C(=O)O)[C@@H]1O', 'O=C(/C=C\\\\c1ccc(O)c(O)c1)O[C@@H]1C[C@](OC(=O)/C=C/c2ccc(O)c(O)c2)(C(=O)O)C[C@H](O)[C@@H]1O', 'O=C(O)CC(=O)OCC1OC(Oc2ccc3c(=O)c(-c4ccc(O)cc4)coc3c2)C(O)CC(O)C1O', 'COc1cc(-c2oc3cc(OC)c(OC(C)=O)c(OC(C)=O)c3c(=O)c2OC)cc(OC(C)=O)c1OC', 'COc1cc(-c2oc3c(OC)c(OC)c(OC(C)=O)c(OC(C)=O)c3c(=O)c2OC)ccc1OC(C)=O', 'O=C(C=Cc1cc(O)cc(O)c1)O[C@@H]1[C@H](O)C[C@@](O)(C(=O)O)C[C@H]1OC(=O)C=Cc1ccc(O)c(O)c1', 'O=C(/C=C/c1ccc(O)c(O)c1)O[C@@H]1CC(OC(=O)/C=C/c2ccc(O)c(O)c2)(C(=O)O)C[C@@H](O)[C@@H]1O', 'O=C(/C=C/c1ccc(O)c(O)c1)O[C@@H]1CC(O)(C(=O)O)C[C@@H](OC(=O)/C=C/c2ccc(O)c(O)c2)C1O', 'O=COC1(O)CCC(OC(=O)/C=C/c2ccc(O)c(O)c2)C(OOC(=O)/C=C/c2ccc(O)c(O)c2)C1', 'O=C(O)CCC(=O)OC[C@H]1O[C@@H](Oc2ccc3c(=O)c(-c4ccc(O)cc4)coc3c2)[C@H](O)[C@@H](O)[C@@H]1O', 'O=C(/C=C/c1ccc(O)c(O)c1)O[C@H]1[C@@H](OC(=O)/C=C/c2ccc(O)c(O)c2)C[C@](O)(C(=O)O)C[C@@H]1O', 'CC(=O)Oc1cc(OC(C)=O)c2c(c1)O[C@H](c1ccc(OC(C)=O)c(OC(C)=O)c1)[C@@H](OC(C)=O)[C@@H]2O', 'CC(C(=O)O)(C(=O)OCC(=O)OCc1ccccc1)C(C(=O)O)C(=O)OCC(=O)OCc1ccccc1', 'O=C(C=Cc1ccc(O)c(O)c1)OC(=O)C1(O)CC(O)C(O)C(OC(=O)C=Cc2cccc(O)c2O)C1', 'O=C(O)CC(=O)OCC1O[C@@H](Oc2ccc3c(=O)c(-c4ccc(O)cc4)coc3c2)C(O)CC(O)[C@@H]1O', 'CC(=O)OC1C(Oc2cc(O)c3c(=O)cc(-c4ccc(O)cc4)oc3c2)OC(CO)C(O)C1OC(C)=O', 'CC(=O)OC1C(Oc2c(-c3ccc(O)cc3)oc3cc(O)cc(O)c3c2=O)OC(C)C(O)C1OC(C)=O', 'CC(=O)O[C@@H]1[C@H](O)[C@@H](OC(C)=O)[C@H](Oc2c(-c3ccc(O)cc3)oc3cc(O)cc(O)c3c2=O)O[C@H]1C', 'O=C(/C=C/c1ccc(O)c(O)c1)OC1[C@@H](O)CC(OC(=O)/C=C/c2ccc(O)c(O)c2)(C(=O)O)C[C@@H]1O', 'O=C(C=Cc1ccc(O)c(O)c1)OC1C[C@](O)(C(=O)O)CC(O)C1OC(=O)C=Cc1cc(O)cc(O)c1', 'CC(=O)O[C@@H]1[C@@H](O)[C@H](C)O[C@@H](Oc2c(-c3ccc(O)cc3)oc3cc(O)cc(O)c3c2=O)[C@@H]1OC(C)=O', 'CC(=O)O[C@@H]1[C@@H](OC(C)=O)[C@@H](O)[C@H](Oc2c(-c3ccc(O)cc3)oc3cc(O)cc(O)c3c2=O)O[C@H]1C', 'O=C(C=Cc1ccc(O)c(O)c1)O[C@H]1[C@@H](O)[C@H](O)CC(C(=O)O)[C@H]1OC(=O)C=Cc1ccc(O)c(O)c1', 'O=C(/C=C/c1ccc(O)c(O)c1)OOC1CC(O)(C(=O)O)CCC1OC(=O)/C=C/c1ccc(O)c(O)c1', 'O=C(/C=C/c1ccc(O)c(O)c1)OC1C(O)CC(OC(=O)/C=C/c2ccc(O)c(O)c2)(C(=O)O)C[C@H]1O', 'O=C(O)c1cc(CCCCCCCc2cc(C(=O)O)cc(C(=O)O)c2C(=O)O)c(C(=O)O)c(C(=O)O)c1', 'O=C(/C=C/c1ccc(O)c(O)c1)O[C@@H]1C[C@@](OC(=O)/C=C/c2ccc(O)c(O)c2)(C(=O)O)C[C@H](O)[C@@H]1O', 'O=C(/C=C\\\\c1ccc(O)c(O)c1)OC1[C@H](O)CC(OC(=O)/C=C/c2ccc(O)c(O)c2)(C(=O)O)C[C@@H]1O', 'COc1cc2ccc(=O)oc2cc1O[C@@H]1O[C@H](CO)[C@@H](OC(=O)/C=C/c2ccc(O)c(O)c2)[C@H](O)[C@H]1O', 'CC(=O)O[C@@H]1[C@@H](OC(C)=O)[C@H](O)[C@H](Oc2c(-c3ccc(O)cc3)oc3cc(O)cc(O)c3c2=O)O[C@H]1C', 'O=C(/C=C/c1ccc(O)c(O)c1)O[C@H]1CC(O)(C(=O)O)C[C@H](OC(=O)/C=C/c2ccc(O)c(O)c2)C1O', 'CC(=O)OC1C(C)OC(Oc2c(-c3ccc(O)cc3)oc3cc(O)cc(O)c3c2=O)C(O)C1OC(C)=O', 'O=C(/C=C/c1ccc(O)c(O)c1)O[C@H]1C[C@@](OC(=O)/C=C/c2ccc(O)c(O)c2)(C(=O)O)C[C@@H](O)[C@@H]1O', 'O=C(/C=C/c1ccc(O)c(O)c1)O[C@@H]1C[C@](OC(=O)/C=C/c2ccc(O)c(O)c2)(C(=O)O)C[C@H](O)[C@H]1O', 'CC(=O)O[C@@H]1[C@@H](O)[C@H](Oc2cc(O)c3c(=O)cc(-c4ccc(O)cc4)oc3c2)O[C@@H](CO)[C@H]1OC(C)=O', 'CO[C@H]1[C@H](O[C@@H]2OC[C@@H](O)[C@@H](O)[C@H]2O)c2c(cc3c(c2O)C(=O)c2c(O)cccc2C3=O)C(=O)[C@@]1(C)O', 'CC(=O)OC1[C@H](Oc2cc(O)c3c(=O)cc(-c4ccc(O)cc4)oc3c2)OC(CO)[C@@H](O)[C@@H]1OC(C)=O', 'CC(=O)OC1[C@@H](OC(C)=O)C(C)O[C@@H](Oc2c(-c3ccc(O)cc3)oc3cc(O)cc(O)c3c2=O)[C@H]1O', 'COc1cc(-c2cc(=O)c3c(OC(C)=O)c(OC)c(OC(C)=O)c(OC)c3o2)cc(OC(C)=O)c1OC', 'O=C(/C=C/c1ccc(O)c(O)c1)O[C@@H]1[C@H](O)C[C@@](O)(C(=O)O)C[C@H]1OC(=O)/C=C/c1ccc(O)c(O)c1', 'O=C(C=Cc1ccc(O)c(O)c1)OC1[C@@H](O)CC(OC(=O)C=Cc2ccc(O)c(O)c2)(C(=O)O)C[C@@H]1O', 'O=C(/C=C/c1ccc(O)c(O)c1)O[C@H]1[C@H](OC(=O)/C=C/c2ccc(O)c(O)c2)CC[C@](O)(C(=O)O)[C@H]1O', 'O=C(C=Cc1ccc(O)c(O)c1)O[C@@H]1C[C@@](OC(=O)C=Cc2ccc(O)c(O)c2)(C(=O)O)C[C@@H](O)[C@H]1O', 'O=C(/C=C/c1ccc(O)c(O)c1)O[C@H]1[C@H](O)[C@H](OC(=O)/C=C/c2ccc(O)c(O)c2)CC(C(=O)O)[C@@H]1O', 'O=C(/C=C/c1ccc(O)c(O)c1)O[C@H]1[C@H](O)CC[C@](O)(C(=O)O)[C@H]1OC(=O)/C=C/c1ccc(O)c(O)c1', 'O=C(/C=C\\\\c1ccc(O)c(O)c1)OC1C(O)CC(OC(=O)/C=C\\\\c2ccc(O)c(O)c2)(C(=O)O)CC1O', 'O=C(C=Cc1ccc(O)c(O)c1)OC1C(O)CCC(O)(C(=O)O)C1OC(=O)C=Cc1ccc(O)c(O)c1', 'COC(=O)[C@H]1[C@@H](C(=O)OC(=O)c2cc(OC)c(OC)c(OC)c2)C(=O)O[C@]1(C)c1ccc2c(c1)OCO2', 'CC(=O)O[C@@H]1[C@H](Oc2c(-c3ccc(O)cc3)oc3cc(O)cc(O)c3c2=O)O[C@H](C)[C@@H](OC(C)=O)[C@@H]1O', 'O=C(/C=C\\\\c1ccc(O)c(O)c1)OC1[C@H](O)CC(OC(=O)/C=C\\\\c2ccc(O)c(O)c2)(C(=O)O)C[C@@H]1O', 'CC(=O)OCC1O[C@@H](c2c(O)cc3oc(-c4ccc(O)cc4)cc(=O)c3c2O)C(OC(C)=O)[C@@H](O)[C@@H]1O', 'COC(=O)c1oc2cc(OC3OC(CO)C(O)C(O)C3O)ccc2c(=O)c1-c1ccc2c(c1)OCCO2', 'CC(=O)OC1C(CO)OC(Oc2cc(O)c3c(=O)cc(-c4ccc(O)cc4)oc3c2)C(O)C1OC(C)=O', 'O=C(/C=C\\\\c1ccc(O)c(O)c1)OC1CC(O)(C(=O)O)CC(O)C1OC(=O)/C=C\\\\c1ccc(O)c(O)c1', 'O=C(OCCCCCCCOC(=O)c1ccc(C(=O)O)c(C(=O)O)c1)c1ccc(C(=O)O)c(C(=O)O)c1', 'CC(=O)OC1[C@@H](OC(C)=O)C(O)[C@H](Oc2c(-c3ccc(O)cc3)oc3cc(O)cc(O)c3c2=O)O[C@H]1C', 'O=C(C=Cc1ccc(O)c(O)c1)O[C@@H]1C[C@@](OC(=O)C=Cc2ccc(O)c(O)c2)(C(=O)O)C[C@H](O)[C@@H]1O', 'CC(=O)O[C@@H]1[C@@H](O)[C@@H](OC(C)=O)C(Oc2c(-c3ccc(O)cc3)oc3cc(O)cc(O)c3c2=O)O[C@H]1C', 'O=C(/C=C/c1ccc(O)c(O)c1)OC1CC(O)(C(=O)O)C[C@H](OC(=O)/C=C/c2ccc(O)c(O)c2)C1O', 'CC(=O)O[C@H]1[C@H](Oc2cc(O)c3c(=O)cc(-c4ccc(O)cc4)oc3c2)O[C@H](CO)[C@@H](OC(C)=O)[C@@H]1O', 'COC(=O)C1C(c2cc(OC)c(OC)c(OC)c2)OC(=O)C1(C(=O)OC)C(=O)c1ccc2c(c1)OCO2', 'O=C(/C=C\\\\c1ccc(O)c(O)c1)O[C@@]1(C(=O)O)C[C@H](O)[C@H](O)[C@H](OC(=O)/C=C/c2ccc(O)c(O)c2)C1', 'O=C(/C=C/c1ccc(O)c(O)c1)O[C@@H]1[C@H](O)CC(O)(C(=O)O)C[C@H]1OC(=O)/C=C/c1ccc(O)c(O)c1', 'O=C(C=Cc1ccc(O)c(O)c1)O[C@H]1[C@H](O)C[C@](O)(C(=O)O)C[C@@H]1OC(=O)C=Cc1ccc(O)c(O)c1', 'O=C(C=Cc1ccc(O)c(O)c1)OC1CC(O)(C(=O)O)CC(OC(=O)C=Cc2ccc(O)c(O)c2)C1O', 'CC(=O)O[C@@H]1[C@H](O)[C@H](Oc2c(-c3ccc(O)cc3)oc3cc(O)cc(O)c3c2=O)O[C@@H](C)[C@H]1OC(C)=O', 'O=C(C=Cc1ccc(O)c(O)c1)OC1CC(O)(C(=O)O)CC(O)C1OC(=O)C=Cc1cccc(O)c1O', 'CC(=O)O[C@H]1[C@@H](O)[C@H](Oc2c(-c3ccc(O)cc3)oc3cc(O)cc(O)c3c2=O)O[C@@H](C)[C@H]1OC(C)=O', 'COCOC(=O)Oc1ccc(C(=O)OC2COC3C(OC(=O)c4ccc(OC(C)=O)cc4)COC23)cc1', 'O=C(/C=C/c1ccc(O)c(O)c1)OC1C[C@](O)(C(=O)O)CC(O)[C@@H]1OC(=O)/C=C/c1ccc(O)c(O)c1', 'O=C(/C=C/c1ccc(O)c(O)c1)OC1C[C@](OC(=O)/C=C/c2ccc(O)c(O)c2)(C(=O)O)C[C@@H](O)[C@H]1O', 'O=C(/C=C/c1ccc(O)c(O)c1)OC1C[C@@](OC(=O)/C=C/c2ccc(O)c(O)c2)(C(=O)O)C[C@@H](O)[C@@H]1O', 'CC(=O)O[C@@H]1[C@H](Oc2c(-c3ccc(O)cc3)oc3cc(O)cc(O)c3c2=O)O[C@@H](C)[C@H](OC(C)=O)[C@H]1O', 'O=C(/C=C/c1ccc(O)c(O)c1)O[C@@H]1[C@H](O)CC[C@](OC(=O)/C=C/c2ccc(O)c(O)c2)(C(=O)O)[C@H]1O', 'CC(=O)Cc1cc(=O)c2c(C)cc(O)c([C@@H]3O[C@H](CO)[C@@H](O)[C@H](O)[C@H]3OC(=O)c3ccc(=O)oc3)c2o1', 'O=C(C=Cc1ccc(O)c(O)c1)O[C@@H]1[C@@H](O)C[C@@](O)(C(=O)O)C[C@H]1OC(=O)C=Cc1ccc(O)c(O)c1', 'O=C(/C=C/c1ccc(O)c(O)c1)O[C@@H]1CC[C@@](OC(=O)/C=C/c2ccc(O)c(O)c2)(C(=O)O)[C@@H](O)[C@@H]1O', 'O=C(C=Cc1ccc(O)c(O)c1)OC1CCC(O)(C(=O)O)C(OC(=O)C=Cc2ccc(O)c(O)c2)C1O', 'CC(=O)OC1=CC(=O)C(OC(C)=O)=C(CCCCCC2=C(OC(C)=O)C(=O)C=C(OC(C)=O)C2=O)C1=O', 'O=C(C=Cc1cccc(O)c1O)O[C@@H]1[C@H](O)C[C@@](O)(C(=O)O)C[C@H]1OC(=O)C=Cc1ccc(O)c(O)c1', 'O=C(/C=C/c1ccc(O)c(O)c1)O[C@@H]1[C@H](O)C[C@](O)(C(=O)O)C[C@H]1OC(=O)/C=C/c1ccc(O)c(O)c1', 'O=C(/C=C/c1ccc(O)c(O)c1)O[C@H]1[C@@H](O)C[C@@](O)(C(=O)O)C[C@H]1OC(=O)/C=C/c1ccc(O)c(O)c1', 'O=C(/C=C/c1ccc(O)c(O)c1)O[C@H]1C[C@](OC(=O)/C=C/c2ccc(O)c(O)c2)(C(=O)O)C[C@@H](O)[C@@H]1O', 'COC(=O)c1oc2cc(O[C@H]3O[C@H](CO)[C@@H](O)[C@@H](O)[C@H]3O)ccc2c(=O)c1-c1ccc2c(c1)OCCO2', 'COc1cc2ccc(=O)oc2cc1OC1OC(CO)C(OC(=O)/C=C/c2ccc(O)c(O)c2)C(O)C1O', 'CC(=O)O[C@@H]1[C@H](O)[C@@H](Oc2c(-c3ccc(O)cc3)oc3cc(O)cc(O)c3c2=O)O[C@H](C)[C@H]1OC(C)=O', 'O=C(C=Cc1ccc(O)c(O)c1)O[C@H]1[C@H](O)C[C@](O)(C(=O)O)C[C@H]1OC(=O)C=Cc1ccc(O)c(O)c1', 'CCOC(=O)C(C)OC(=O)C(C(=O)O)c1cc(OC)c(C)c2c1Oc1c(C=O)c(O)cc(C)c1C(=O)O2', 'O=C(/C=C\\\\c1ccc(O)c(O)c1)OC1CC(OC(=O)/C=C\\\\c2ccc(O)c(O)c2)(C(=O)O)CC(O)C1O', 'O=C(C=Cc1ccc(O)c(O)c1)O[C@H]1C[C@@](OC(=O)C=Cc2ccc(O)c(O)c2)(C(=O)O)C[C@H](O)[C@@H]1O', 'O=C(/C=C/c1ccc(O)c(O)c1)OC1C(O)CCC(OC(=O)/C=C/c2ccc(O)c(O)c2)(C(=O)O)C1O', 'O=C(/C=C/c1ccc(O)c(O)c1)O[C@H]1[C@H](O)C[C@](O)(C(=O)O)C[C@H]1OC(=O)/C=C/c1ccc(O)c(O)c1', 'O=C(O)CC(C(=O)O)C(C(=O)OCC(=O)OCc1ccccc1)C(=O)OCC(=O)OCc1ccccc1', 'O=C(/C=C/c1ccc(O)c(O)c1)OC1CC(OC(=O)/C=C/c2ccc(O)c(O)c2)(C(=O)O)C[C@@H](O)[C@H]1O', 'O=C(O)C1(O)CC(O)(C(=O)/C=C/c2ccc(O)c(O)c2)C(O)C(O)(C(=O)/C=C/c2ccc(O)c(O)c2)C1', 'O=C(/C=C/c1ccc(O)c(O)c1)OC1C[C@](OC(=O)/C=C/c2ccc(O)c(O)c2)(C(=O)O)CC(O)[C@H]1O', 'O=C(C=Cc1ccc(O)c(O)c1)O[C@@H]1C[C@@](OC(=O)C=Cc2ccc(O)c(O)c2)(C(=O)O)C[C@@H](O)[C@@H]1O', 'O=C(/C=C/c1ccc(O)c(O)c1)O[C@@H]1C(O)C[C@@](O)(C(=O)O)C[C@H]1OC(=O)/C=C/c1ccc(O)c(O)c1', 'O=C(/C=C\\\\c1ccc(O)c(O)c1)OC1(C(=O)O)C[C@@H](O)C(OC(=O)/C=C/c2ccc(O)c(O)c2)[C@@H](O)C1', 'O=C(/C=C/c1ccc(O)c(O)c1)O[C@@H]1[C@@H](O)C[C@@](O)(C(=O)O)C[C@H]1OC(=O)/C=C/c1ccc(O)c(O)c1', 'CC(=O)O[C@@H]1[C@@H](O)[C@@H](Oc2c(-c3ccc(O)cc3)oc3cc(O)cc(O)c3c2=O)O[C@@H](C)[C@H]1OC(C)=O', 'O=C(/C=C/c1cc(O)cc(O)c1)O[C@@H]1[C@H](O)C[C@@](O)(C(=O)O)C[C@H]1OC(=O)/C=C/c1ccc(O)c(O)c1', 'CC(=O)[C@]1(O)C(Oc2cc(O)c3c(=O)cc(-c4ccc(O)cc4)oc3c2)O[C@H](CO)[C@@H](O)[C@@]1(O)C(C)=O', 'O=C(C=Cc1ccc(O)c(O)c1)OC1CCC(OC(=O)C=Cc2ccc(O)c(O)c2)(C(=O)O)C(O)C1O', 'O=C(/C=C/c1ccc(O)c(O)c1)OC1C[C@@H](O)[C@H](O)C[C@]1(OC(=O)/C=C/c1ccc(O)c(O)c1)C(=O)O', 'CC(=O)O[C@@H]1[C@@H](OC(C)=O)[C@@H](O)[C@@H](Oc2c(-c3ccc(O)cc3)oc3cc(O)cc(O)c3c2=O)O[C@H]1C', 'O=C(/C=C/c1cc(O)cc(O)c1)OC1CC(O)(C(=O)O)CC(O)C1OC(=O)/C=C/c1cc(O)cc(O)c1', 'O=C(/C=C/c1ccc(O)c(O)c1)OC1[C@H](O)CC(OC(=O)/C=C/c2ccc(O)c(O)c2)(C(=O)O)C[C@H]1O', 'COc1ccc(-c2coc3cc(O[C@@H]4O[C@H](CO)[C@@H](OC(=O)CC(=O)O)[C@H](O)[C@H]4O)ccc3c2=O)cc1', 'O=C(/C=C/c1ccc(O)c(O)c1)OC1C[C@@](O)(C(=O)O)C[C@@H](O)[C@@H]1OC(=O)/C=C/c1ccc(O)c(O)c1', 'O=C(/C=C/c1ccc(O)c(O)c1)O[C@H]1CC(OC(=O)/C=C/c2ccc(O)c(O)c2)(C(=O)O)CC(O)C1O', 'O=C(C=Cc1ccc(O)c(O)c1)OC1C[C@](O)(C(=O)O)CC(O)[C@H]1OC(=O)C=Cc1ccc(O)c(O)c1', 'O=C(/C=C\\\\c1ccc(O)c(O)c1)OC1(C(=O)O)C[C@H](O)C(OC(=O)/C=C/c2ccc(O)c(O)c2)[C@@H](O)C1', 'O=C(C=Cc1ccc(O)c(O)c1)OC1CC(O)(C(=O)O)CC(O)C1OC(=O)/C=C\\\\c1ccc(O)c(O)c1', 'O=C(C=Cc1ccc(O)c(O)c1)OC1CC(OC(=O)C=Cc2ccc(O)c(O)c2)(C(=O)O)CC(O)C1O', 'CC(=O)O[C@@H]1[C@@H](Oc2c(-c3ccc(O)cc3)oc3cc(O)cc(O)c3c2=O)O[C@H](C)[C@@H](OC(C)=O)[C@@H]1O', 'O=C(/C=C/c1ccc(O)c(O)c1)OC1CC(O)(C(=O)O)C[C@@H](OC(=O)/C=C/c2ccc(O)c(O)c2)C1O', 'C=C(C(=O)O[C@H]1[C@H](O)C[C@](O)(C(=O)O)C[C@H]1OC(=O)C(=C)c1ccc(O)c(O)c1)c1ccc(O)c(O)c1', 'O=C(/C=C/c1ccc(O)c(O)c1)OC1[C@H](O)C[C@](O)(C(=O)O)C[C@H]1OC(=O)/C=C/c1ccc(O)c(O)c1', 'O=C(/C=C/c1ccc(O)c(O)c1)O[C@H]1[C@H](O)CC[C@](OC(=O)/C=C/c2ccc(O)c(O)c2)(C(=O)O)[C@@H]1O', 'CC(=O)O[C@H]1C(C)O[C@@H](Oc2c(-c3ccc(O)cc3)oc3cc(O)cc(O)c3c2=O)[C@@H](OC(C)=O)C1O', 'O=C(/C=C/c1ccc(O)c(O)c1)O[C@H]1[C@@H](O)C[C@](O)(C(=O)O)C[C@H]1OC(=O)/C=C/c1ccc(O)c(O)c1', 'O=C(/C=C/c1ccc(O)c(O)c1)O[C@H]1[C@H](O)C[C@@](O)(C(=O)O)C[C@H]1OC(=O)/C=C/c1ccc(O)c(O)c1', 'O=C(/C=C/c1cc(O)cc(O)c1)O[C@@H]1[C@@H](O)C[C@](O)(C(=O)O)C[C@H]1OC(=O)/C=C/c1ccc(O)c(O)c1', 'O=C(C=Cc1ccc(O)c(O)c1)OC1C[C@](O)(C(=O)O)CC(O)C1OC(=O)C=Cc1ccc(O)c(O)c1', 'COc1c(OC(C)=O)cc(-c2cc(=O)c3c(OC(C)=O)c(OC)c(OC)c(OC)c3o2)cc1OC(C)=O', 'O=COC1(O)CC(OC(=O)/C=C/c2ccc(O)c(O)c2)C(O)C(OC(=O)/C=C/c2ccc(O)c(O)c2)C1', 'O=C(/C=C/c1ccc(O)c(O)c1)O[C@@H]1C[C@](OC(=O)/C=C/c2ccc(O)c(O)c2)(C(=O)O)C[C@@H](O)[C@@H]1O', 'O=C(/C=C/c1ccc(O)c(O)c1)OC1CC(C(=O)O)[C@H](O)[C@@H](OC(=O)/C=C/c2ccc(O)c(O)c2)[C@@H]1O', 'O=C(C=Cc1ccc(O)c(O)c1)O[C@H]1[C@H](O)C[C@@](O)(C(=O)O)C[C@H]1OC(=O)C=Cc1ccc(O)c(O)c1', 'O=C(/C=C/c1ccc(O)c(O)c1)O[C@@H]1[C@@H](OC(=O)/C=C/c2ccc(O)c(O)c2)C[C@@](O)(C(=O)O)C[C@@H]1O', 'O=C(/C=C\\\\c1ccc(O)c(O)c1)O[C@H]1C[C@](OC(=O)/C=C/c2ccc(O)c(O)c2)(C(=O)O)C[C@H](O)[C@H]1O', 'CC(=O)O[C@H]1[C@H](O)[C@@H](Oc2c(-c3ccc(O)cc3)oc3cc(O)cc(O)c3c2=O)O[C@@H](C)[C@H]1OC(C)=O', 'O=C(/C=C/c1cc(O)cc(O)c1)OC1CC(O)(C(=O)O)CC(OC(=O)/C=C/c2cc(O)cc(O)c2)C1O', 'O=C(/C=C\\\\c1ccc(O)c(O)c1)O[C@H]1[C@H](O)C[C@@](O)(C(=O)O)C[C@H]1OC(=O)/C=C/c1ccc(O)c(O)c1', 'O=C(/C=C/c1ccc(O)c(O)c1)OC1CC(OC(=O)/C=C/c2ccc(O)c(O)c2)(C(=O)O)CC(O)C1O', 'O=C(C=Cc1ccc(O)c(O)c1)OC1[C@H](O)CC(OC(=O)C=Cc2cccc(O)c2O)(C(=O)O)C[C@@H]1O', 'CC(=O)O[C@@H]1[C@H](O)[C@H](Oc2c(-c3ccc(O)cc3)oc3cc(O)cc(O)c3c2=O)O[C@H](C)[C@H]1OC(C)=O', 'CC(=O)O[C@@H]1[C@@H](O)[C@H](Oc2c(-c3ccc(O)cc3)oc3cc(O)cc(O)c3c2=O)O[C@@H](C)[C@@H]1OC(C)=O', 'O=C(O)CCC(=O)Oc1ccc2c(=O)c(-c3ccc(O)cc3)coc2c1[C@@H]1O[C@H](CO)[C@@H](O)[C@H](O)[C@H]1O', 'O=C(C=Cc1ccc(O)c(O)c1)O[C@H]1CC[C@](O)(C(=O)O)[C@@H](OC(=O)C=Cc2ccc(O)c(O)c2)[C@@H]1O', 'O=C(/C=C/c1ccc(O)c(O)c1)OC1CC(O)(C(=O)O)CC(O)C1OC(=O)/C=C/c1ccc(O)c(O)c1', 'CO[C@H]1[C@H](O)[C@@H](O)[C@H](Oc2cc(O)c3c(c2)C(=O)c2cc4c(c(O)c2C3=O)[C@@H]2CCO[C@@H]2O4)O[C@@H]1CO', 'CC(=O)O[C@@H]1[C@@H](OC(C)=O)[C@@H](O)C(Oc2c(-c3ccc(O)cc3)oc3cc(O)cc(O)c3c2=O)O[C@H]1C', 'COc1cc(-c2oc3c(OC)c(OC)c(OC)c(OC(C)=O)c3c(=O)c2OC(C)=O)ccc1OC(C)=O', 'O=C(/C=C/c1cc(O)cc(O)c1)O[C@@H]1C[C@](O)(C(=O)O)C[C@@H](OC(=O)/C=C/c2ccc(O)c(O)c2)[C@H]1O', 'O=C(/C=C/c1ccc(O)c(O)c1)O[C@@H]1C[C@@](O)(C(=O)O)CC(O)[C@@H]1OC(=O)/C=C/c1ccc(O)c(O)c1', 'CC(=O)O[C@H]1[C@H](OC(C)=O)[C@@H](C)OC(Oc2c(-c3ccc(O)cc3)oc3cc(O)cc(O)c3c2=O)[C@H]1O', 'O=C(C=Cc1ccc(O)c(O)c1)O[C@@H]1C[C@](OC(=O)C=Cc2ccc(O)c(O)c2)(C(=O)O)C[C@@H](O)[C@H]1O', 'COC(=O)[C@@H]1[C@H](c2cc(OC)c(OC)c(OC)c2)OC(=O)C1(C(=O)OC)C(=O)c1ccc2c(c1)OCO2', 'O=C(C=Cc1ccc(O)c(O)c1)O[C@@H]1C[C@](OC(=O)C=Cc2ccc(O)c(O)c2)(C(=O)O)C[C@H](O)[C@@H]1O', 'O=C(C=Cc1ccc(O)c(O)c1)O[C@@H]1CC[C@@](OC(=O)C=Cc2ccc(O)c(O)c2)(C(=O)O)[C@@H](O)[C@@H]1O', 'CC(=O)O[C@@H]1[C@H](O)[C@H](Oc2c(-c3ccc(O)cc3)oc3cc(O)cc(O)c3c2=O)O[C@@H](C)[C@@H]1OC(C)=O', 'O=C(/C=C\\\\c1ccc(O)c(O)c1)O[C@]1(C(=O)O)C[C@@H](O)[C@H](O)[C@H](OC(=O)/C=C/c2ccc(O)c(O)c2)C1', 'O=C(/C=C/c1ccc(O)c(O)c1)O[C@@H]1[C@@H](O)C[C@](O)(C(=O)O)C[C@H]1OC(=O)/C=C/c1ccc(O)c(O)c1', 'O=C(/C=C\\\\c1ccc(O)c(O)c1)O[C@@H]1C[C@@](OC(=O)/C=C\\\\c2ccc(O)c(O)c2)(C(=O)O)C[C@@H](O)[C@@H]1O', 'COc1cc(OC(C)=O)c(-c2oc3cc(OC)c(OC)c(OC(C)=O)c3c(=O)c2OC)cc1OC(C)=O', 'O=C(/C=C/c1ccc(O)c(O)c1)O[C@H]1C[C@@](OC(=O)/C=C/c2ccc(O)c(O)c2)(C(=O)O)C[C@H](O)[C@@H]1O', 'O=C(C=Cc1ccc(O)c(O)c1)O[C@H]1C[C@](OC(=O)C=Cc2ccc(O)c(O)c2)(C(=O)O)C[C@@H](O)[C@H]1O', 'O=C(C=Cc1ccc(O)c(O)c1)O[C@@H]1[C@H](O)C[C@@](O)(C(=O)O)C[C@@H]1OC(=O)C=Cc1ccc(O)c(O)c1', 'O=C(/C=C/c1ccc(O)c(O)c1)O[C@@H]1[C@H](O)CC[C@](OC(=O)/C=C/c2ccc(O)c(O)c2)(C(=O)O)[C@@H]1O', 'O=C(/C=C\\\\c1ccc(O)c(O)c1)OC1CC(O)(C(=O)O)CC(OC(=O)/C=C\\\\c2ccc(O)c(O)c2)C1O', 'O=C(/C=C/c1ccc(O)c(O)c1)O[C@H]1C[C@@](OC(=O)/C=C/c2ccc(O)c(O)c2)(C(=O)O)C[C@@H](O)[C@H]1O', 'O=C(/C=C\\\\c1ccc(O)c(O)c1)O[C@@H]1[C@H](O)C[C@@](O)(C(=O)O)C[C@H]1OC(=O)/C=C\\\\c1ccc(O)c(O)c1', 'O=C(/C=C/c1ccc(O)c(O)c1)OC1C[C@@](O)(C(=O)O)CC(O)[C@@H]1OC(=O)/C=C/c1ccc(O)c(O)c1', 'O=C(C=Cc1ccc(O)c(O)c1)O[C@H]1C[C@](OC(=O)/C=C/c2ccc(O)c(O)c2)(C(=O)O)C[C@H](O)[C@H]1O', 'CC(=O)O[C@@H]1[C@@H](O)[C@H](Oc2c(-c3ccc(O)cc3)oc3cc(O)cc(O)c3c2=O)O[C@@H](C)[C@H]1OC(C)=O', 'O=C(O)CCC(=O)OC(C(=O)OCC(=O)OCc1ccccc1)C(=O)OCC(=O)OCc1ccccc1', 'O=C(/C=C/c1ccc(O)c(O)c1)OC1[C@H](O)CC(OC(=O)/C=C/c2ccc(O)c(O)c2)(C(=O)O)C[C@@H]1O', 'Cc1ccc(-c2coc3cc(O[C@@H]4OC(COC(=O)CC(=O)O)[C@@H](O)[C@H](O)C4O)cc(O)c3c2=O)cc1', 'CC(=O)O[C@H]1[C@H](Oc2cc(O)c3c(=O)cc(-c4ccc(O)cc4)oc3c2)O[C@H](CO)[C@@H](O)[C@@H]1OC(C)=O', 'COc1ccc(-c2coc3cc(O[C@@H]4O[C@H](CO)[C@@H](O)[C@H](O)[C@H]4OC(=O)CC(=O)O)ccc3c2=O)cc1', 'CC(=O)O[C@@H]1[C@@H](O)[C@H](Oc2cc(O)c3c(=O)cc(-c4ccc(O)cc4)oc3c2)O[C@H](CO)[C@H]1OC(C)=O', 'O=C(/C=C/c1ccc(O)c(O)c1)O[C@@H]1[C@H](O)C[C@](O)(C(=O)O)C[C@@H]1OC(=O)/C=C/c1ccc(O)c(O)c1', 'O=C(C=Cc1ccc(O)c(O)c1)O[C@H]1C[C@@](OC(=O)C=Cc2ccc(O)c(O)c2)(C(=O)O)C[C@@H](O)[C@@H]1O', 'O=C(/C=C/c1ccc(O)c(O)c1)O[C@H]1[C@@H](O)[C@H](O)CC(C(=O)O)[C@H]1OC(=O)/C=C/c1ccc(O)c(O)c1', 'O=C(O)C1(O)C[C@@H](O)C(O)(C(=O)/C=C/c2ccc(O)c(O)c2)[C@@](O)(C(=O)/C=C/c2ccc(O)c(O)c2)C1', 'O=C(C=Cc1ccc(O)c(O)c1)OC1CC(O)(C(=O)O)CC(OC(=O)/C=C\\\\c2ccc(O)c(O)c2)C1O', 'O=C(/C=C/c1ccc(O)c(O)c1)O[C@@H]1[C@H](O)CC[C@@](OC(=O)/C=C/c2ccc(O)c(O)c2)(C(=O)O)[C@H]1O', 'COc1cc(-c2oc3c(OC)c(OC)c(OC(C)=O)c(OC)c3c(=O)c2OC(C)=O)ccc1OC(C)=O', 'O=C(/C=C\\\\c1ccc(O)c(O)c1)OC1[C@@H](O)CC(OC(=O)/C=C\\\\c2ccc(O)c(O)c2)(C(=O)O)C[C@@H]1O', 'CC(=O)O[C@@H]1[C@H](O)[C@@H](Oc2c(-c3ccc(O)cc3)oc3cc(O)cc(O)c3c2=O)O[C@@H](C)[C@H]1OC(C)=O', 'O=C(C=Cc1cc(O)cc(O)c1)OC1C[C@](O)(C(=O)O)CC(OC(=O)C=Cc2ccc(O)c(O)c2)C1O', 'O=C(C=Cc1ccc(O)c(O)c1)OC1CCC(O)(C(=O)O)C(O)C1OC(=O)C=Cc1ccc(O)c(O)c1', 'O=C(C=Cc1ccc(O)c(O)c1)OC1[C@H](O)CC(OC(=O)C=Cc2ccc(O)c(O)c2)(C(=O)O)C[C@H]1O', 'O=C(/C=C/c1ccc(O)c(O)c1)O[C@@H]1CC[C@](O)(C(=O)O)[C@@H](OC(=O)/C=C/c2ccc(O)c(O)c2)[C@H]1O', 'O=C(C=Cc1ccc(O)c(O)c1)OC(=O)[C@@]1(O)C[C@@H](O)[C@H](O)[C@@H](OC(=O)C=Cc2cccc(O)c2O)C1', 'O=C(C=Cc1ccc(O)c(O)c1)O[C@H]1CC(O)(C(=O)O)C[C@@H](OC(=O)C=Cc2ccc(O)c(O)c2)C1O', 'CC(=O)OC[C@H]1O[C@@H](c2c(O)cc3oc(-c4ccc(O)cc4)cc(=O)c3c2O)[C@H](OC(C)=O)[C@@H](O)[C@@H]1O', 'O=C(/C=C/c1ccc(O)c(O)c1)O[C@@H]1[C@@H](O)[C@@](OC(=O)/C=C/c2ccc(O)c(O)c2)(C(=O)O)CC[C@@H]1O', 'O=C(/C=C/c1ccc(O)c(O)c1)O[C@@H]1C[C@](OC(=O)/C=C/c2ccc(O)c(O)c2)(C(=O)O)C[C@@H](O)[C@H]1O', 'CC(=O)O[C@@H]1[C@H](O)[C@H](Oc2c(-c3ccc(O)cc3)oc3cc(O)cc(O)c3c2=O)O[C@H](C)[C@@H]1OC(C)=O', 'O=C(C=Cc1ccc(O)c(O)c1)OC1C[C@](OC(=O)C=Cc2ccc(O)c(O)c2)(C(=O)O)CC(O)C1O', 'O=C(O)CCC(=O)OCC1OC(Oc2ccc3c(=O)c(-c4ccc(O)cc4)coc3c2)C(O)C(O)C1O', 'CC(=O)OCC1OC(c2c(O)cc3oc(-c4ccc(O)cc4)cc(=O)c3c2O)C(OC(C)=O)C(O)C1O', 'O=C(C=Cc1ccc(O)c(O)c1)O[C@@H]1[C@H](O)C[C@](O)(C(=O)O)C[C@H]1OC(=O)C=Cc1ccc(O)c(O)c1', 'O=C(/C=C/c1ccc(O)c(O)c1)OC1[C@H](O)C[C@@](O)(C(=O)O)C[C@H]1OC(=O)/C=C/c1ccc(O)c(O)c1', 'CC(=O)O[C@@H]1C(CO)O[C@@H](Oc2cc(O)c3c(=O)cc(-c4ccc(O)cc4)oc3c2)C(O)[C@H]1OC(C)=O', 'C#CC#CC#CC#CC(=O)OCC(OC(C)=O)C(OC(C)=O)C(OC(C)=O)C(COC(C)=O)OC(C)=O', 'CC(=O)O[C@H]1[C@@H](O)[C@@H](Oc2c(-c3ccc(O)cc3)oc3cc(O)cc(O)c3c2=O)O[C@@H](C)[C@H]1OC(C)=O', 'O=C(C=Cc1ccc(O)c(O)c1)OC1C[C@](OC(=O)C=Cc2ccc(O)c(O)c2)(C(=O)O)CC(O)[C@H]1O', 'COC(=O)C1[C@H](c2cc(OC)c(OC)c(OC)c2)OC(=O)C1(C(=O)OC)C(=O)c1ccc2c(c1)OCO2', 'CC(=O)OC1C(OC(C)=O)[C@H](C)OC(Oc2c(-c3ccc(O)cc3)oc3cc(O)cc(O)c3c2=O)[C@@H]1O', 'O=C(O)CC(=O)OCC1O[C@@H](COc2ccc3c(=O)c(-c4ccc(O)cc4)coc3c2)C(O)C(O)[C@@H]1O', 'CC(=O)O[C@H]1[C@H](Oc2c(-c3ccc(O)cc3)oc3cc(O)cc(O)c3c2=O)O[C@@H](C)[C@H](O)[C@@H]1OC(C)=O', 'CCC(C)/C=C(\\\\C)/C=C/C1=CC2=C(C(=O)C(C(C2=CO1)O)(C)O)Cl', 'COC(=O)C[C@@H](O)C[C@@H](O)[C@@H](Cl)Cc1c(C)ccc2ccccc12', 'COc1ccccc1OCCOCCOc1cc(C)c(Cl)cc1C', 'COc1cc(Cl)cc(C)c1C1C(=O)CC(CC2CCOCC2)C1=O', 'C/C(=C\\\\COc1ccc2ccc(=O)oc2c1)CCC(O)C(C)(C)Cl', 'CCOC(=O)C(Cl)CC1(OCc2ccc(OC)cc2)C=CC=CC1', 'O=C(OCCOc1ccccc1Cl)C12CC3CC(CC(O)(C3)C1)C2', 'COCCOCCOc1ccc(-c2ccc(Cl)cc2)c(COC)c1', 'CCOC(OC1CCCCO1)c1cc(Cl)cc2c1O[C@@H]1CC=C[C@H]21', 'Oc1cccc(C2(OCCCl)OOC23C2CC4CC(C2)CC3C4)c1', 'COc1ccc(Cl)cc1C1=C(O)CC(CC2CCOCC2)CC1=O', 'O=C(OCCOc1ccc(Cl)cc1)C12C[C@@H]3C[C@@H](CC(O)(C3)C1)C2', 'COC(=O)/C=C/C=C/C(=O)[C@H](Cl)[C@@H](C)[C@H](C)OCc1ccccc1', 'COc1ccc(CCC2CC(=O)C(C3CCCC3)C(=O)O2)cc1Cl', 'CC.COc1ccc(CC(=O)c2c(Cl)cc(OC)cc2OC)cc1', 'O=C(O)C1(c2c3c(c(Cl)c4c2OCCC4)OCCC3)CCCCC1', 'CC(=CCOc1ccc2ccc(=O)oc2c1)CCC(O)C(C)(C)Cl', 'CCCCOC1CCC2C(=O)C(Oc3ccccc3Cl)=COC2C1', 'COc1ccc(-c2cc(CCCO)cc(Cl)c2O)cc1CCCO', 'CCc1ccc(OC)c(OC)c1.COc1cc(Cl)ccc1C(C)=O', 'CC1(C)CC(C/C=C/C(=O)Cl)CC(OC(=O)c2ccccc2O)C1', 'COc1cccc(OC)c1OC(=O)C12C[C@@H]3C[C@@H](CC(Cl)(C3)C1)C2', 'CCOC(=O)c1ccc(Cc2cc(Cl)ccc2OC(CC)CC)o1', 'CCCCC1CC2=C(C(=O)OC(C)(C)O2)C(c2ccc(Cl)cc2)O1', 'CCC1(C)C=C(c2ccc(Cl)cc2)C(COC(C)(C)C(=O)O)=CO1', 'CCCCC1CC(O)C(=O)C2C(=O)c3c(OC)ccc(Cl)c3CC12', 'COc1ccc(COC[C@H](OCc2ccccc2Cl)[C@@H](C)O)cc1', 'CCOC1=CC(=O)/C(=C/[C@@H](Cl)[C@@H](O)COCc2ccccc2)CC1', 'CCC1=C(C)CC[C@@H](C)[C@]12Oc1c(Cl)c(OC)cc(OC)c1C2=O', 'CCCCCC#CC(O)C(O)(/C=C/c1ccc(Cl)cc1)C(=O)OC', 'Cc1cc(OC(=O)C2CC=CCC2C(=O)OCC(C)C)ccc1Cl', 'O=C(OCCOc1ccccc1Cl)C12C[C@@H]3C[C@@H](CC(O)(C3)C1)C2', 'CCOc1ccc(Cc2cc(C(O)CC(O)CO)ccc2Cl)cc1', 'COc1ccc(CCC2(C3CCCC3)CC(=O)C(Cl)C(=O)O2)cc1', 'CCOc1ccccc1OCCOCCOc1ccc(C)cc1Cl', 'CC(=O)/C(C)=C/CC/C(C)=C/Cc1c(O)c(Cl)c(C)c(C=O)c1O', 'CCOC(=O)Cc1ccccc1OCc1coc(C(C)Cl)c1CC', 'CCCCc1cc(=O)oc2cc(OCC(=O)C(C)(C)C)c(Cl)cc12', 'CO[C@H](c1ccc(Cl)cc1)[C@H](C)C1C(=O)OC2(CCCCC2)C1=O', 'COC(=O)/C=C/C=C/C(=O)C(Cl)C(C)[C@H](C)OCc1ccccc1', 'C=C(C)C(=O)OCCCCCCOc1ccc(/C=C/C(=O)Cl)cc1', 'CCc1cc(C)c(OCC2=C(Cl)C=CCC2OC(=O)OC)cc1C', 'CCC(c1ccc(OC)cc1)C(C(=O)O)c1ccc(OC)cc1.Cl', 'CC(Cl)c1cc2c(c(O)c1O)C13CCCC(C)(C)[C@@H]1CC2OC3=O', 'Cc1c(OCCCCl)cccc1C(O)c1ccc(O)c(C)c1CO', 'CCOC(=O)[C@@H](OC(C)(C)C)c1c(C)cc2cc(Cl)ccc2c1O', 'CC(=O)/C(C)=C/CC/C(C)=C/Cc1c(C)c(Cl)c(O)c(C=O)c1O', 'O=C(O)C1Oc2ccc(Cl)cc2C(C2CCCC2)(C2CCCC2)O1', 'CC1(C)CC(C/C=C\\\\C(=O)Cl)CC(OC(=O)c2ccccc2O)C1', 'CCc1cc(OCCOCCOc2cccc(OC)c2)ccc1Cl', 'COC(=O)C1(C)CCCC2(C)c3cc(OC)ccc3C(=O)C(Cl)C12', 'CCOC1=CC(=O)/C(=C/[C@H](Cl)[C@@H](O)COCc2ccccc2)CC1', 'CCOC(=O)c1ccc(Cc2cc(Cl)ccc2OCCC(C)C)o1', 'COc1ccc(Cl)cc1C1C(=O)CC(CC2CCOCC2)CC1=O', 'COC(=O)C1(C(=O)O)CCc2cc(C3CCCCCC3)c(Cl)cc21', 'COc1ccc(Cl)cc1COC(=O)C12C[C@@H]3C[C@@H](CC(O)(C3)C1)C2', 'COC(=O)[C@@]1(C)CCC[C@]2(C)c3cc(OC)ccc3C(=O)[C@H](Cl)[C@@H]12', 'CO[C@H](c1ccccc1Cl)[C@H](C)C1=C(O)C2(CCCCC2)OC1=O', 'O=C(O)CCc1ccc(OCC2=C(C3CCC3)CCOC2)cc1Cl', 'C/C(=C\\\\COC(=O)c1ccccc1)CC/C=C(\\\\C)COC(=O)CCl', 'CC(C)C[C@@H]1CC2=C(C(=O)OC(C)(C)O2)[C@H](c2ccc(Cl)cc2)O1', 'C/C=C/[C@@H]1CC(C(=O)OCC)(C(=O)OCC)Cc2ccc(Cl)cc21', 'CC(=O)Oc1c(Cl)cc(C=O)c(O)c1C/C=C(\\\\C)CCC=C(C)C', 'C=C(c1cc(OC[C@H](O)CC)cc(C(=O)O)c1)C1CC1/C(Cl)=C\\\\C', 'O=C(OCCOc1ccccc1Cl)C12C[C@H]3C[C@@H](CC(O)(C3)C1)C2', 'COC(=O)C1(CC(=O)Cc2c(C)cc(Cl)cc2C)CCC(=O)CC1', 'CCOC1CCC2C(=O)C(Oc3cc(C)c(Cl)c(C)c3)=COC2C1', 'CCCCCCCCCC(=O)c1c(O)c2cc(Cl)ccc2oc1=O', 'CC(C)=C[C@H]1[C@H](C(=O)O[C@@H](C)c2cc3c(cc2Cl)OCO3)C1(C)C', 'O=C(OCCOc1ccc(Cl)cc1)C12C[C@H]3C[C@@H](CC(O)(C3)C1)C2', 'COc1cccc(OC)c1OCCCOc1ccc(Cl)c(C)c1C', 'COC(=O)[C@]1(C)CCC[C@@]2(C)c3cc(OC)ccc3C(=O)[C@@H](Cl)[C@@H]12', 'CCOC(=O)c1oc(Cc2cc(Cl)ccc2OCC(C)C)cc1C', 'CC(=CCOc1ccc2ccc(=O)oc2c1)CC[C@@H](O)C(C)(C)Cl', 'CCOC(=O)/C(C[C@@H]1CC(=O)O1)=C(\\\\Cl)c1ccc(C(C)(C)C)cc1', 'COC(Cl)(OC)c1ccccc1CCOCCOc1ccccc1', 'CCCCCCCCOC(=O)c1cc2cc(CCl)ccc2oc1=O', 'Cc1cc(Cl)c(O)c(O)c1CC[C@@H]1C(=O)CC[C@]2(C)C(=O)CC[C@@H]12', 'COC(=O)[C@@]1(C)CCC[C@@]2(C)c3cc(OC)ccc3C(=O)[C@@H](Cl)[C@H]21', 'CCOC(=O)CC(C1=C(O)CC(C)(C)CC1=O)c1ccccc1Cl', 'COC(=O)C(C(=O)OC)[C@@H]1CC[C@H]2[C@@H]1CC[C@@H]2c1ccc(Cl)cc1', 'COc1cc(OC)c2c(c1Cl)O[C@@]1(CC3CCCC3C[C@H]1C)C2=O', 'COc1cc(C)ccc1OCCOCCOc1cc(C)ccc1Cl', 'O=C(O)C(=Cc1ccc(Cl)cc1)C(=O)COCCC1CCCCC1', 'ClCc1c2c(cc3c1OC1(CCCCC1)O3)OC1(CCCCC1)O2', 'COC1CCC2(CC1)OC(=O)C(Cl)(c1cc(C)c(C)cc1C)C2=O', 'CCOC(=O)C(C(=O)OCC)C1CCC/C1=C(\\\\Cl)c1ccccc1', 'COC(=O)[C@]1(C)CCC[C@]2(C)c3cc(OC)ccc3C(=O)[C@@H](Cl)[C@@H]12', 'C[C@]12CC[C@@H]3c4ccc(OC(=O)Cl)cc4CC[C@H]3[C@@H]1C[C@@H](O)[C@@H]2O', 'ClC12CC3CC(C1)C1(OOC1OCCOc1ccccc1)C(C3)C2', 'C=C1C[C@]23C[C@H]1CC[C@H]2[C@@]12CC[C@H](Cl)[C@@](C)(C(=O)O1)[C@H]2[C@@H]3C(=O)O', 'CO[C@H](c1ccc(Cl)cc1)[C@H](C)C1=C(O)C2(CCCCC2)OC1=O', 'COC(=O)[C@@]1(C)CCC[C@]2(C)c3cc(OC)ccc3C(=O)[C@@H](Cl)[C@@H]12', 'CCOc1ccccc1OCCOCCOc1ccc(Cl)cc1C', 'CO[C@H](c1cccc(Cl)c1)[C@H](C)C1=C(O)C2(CCCCC2)OC1=O', 'C=C(C)Oc1cc(C(=O)[C@H]2C[C@@H]2C(=O)OCCCC)cc(Cl)c1C', 'O=C(Cl)/C=C/C=C/CCCCCCCOc1ccc2c(c1)OCO2', 'COc1cccc(OC)c1OCCCOc1cc(C)c(Cl)c(C)c1', 'CC(C)=C[C@H]1[C@H](C(=O)O[C@H](C)c2cc3c(cc2Cl)OCO3)C1(C)C', 'COc1c2c(c(Cl)c(C)c1C(=O)O)OC(C)(CCC=C(C)C)C=C2', 'COc1ccc(CCC2(C3CCCC3)CC(O)=C(Cl)C(=O)O2)cc1', 'CC(=O)C(C)/C=C/CC(C)=CCc1c(O)c(Cl)c(C)c(C=O)c1O', 'COc1ccc(COC[C@H](OCc2ccc(Cl)cc2)[C@@H](C)O)cc1', 'Cc1ccccc1C1C(=O)OC2(CCCCC2)C1(C)OC(=O)CCl', 'O=C(OCCOc1ccc(Cl)cc1)C12CC3CC(CC(O)(C3)C1)C2', 'COc1ccc(CCC2(C3CC(=O)CC(=O)O3)CCCC2)cc1Cl', 'CC(O)COc1ccc(Cc2ccc(OCC(O)CCl)cc2)cc1', 'CCCCOC(=O)C1CC=CCC1C(=O)Oc1ccc(Cl)c(C)c1', 'O=C(O)C(=Cc1cccc(Cl)c1)C(=O)COCCC1CCCCC1', 'CCOC(=O)C(OC(C)(C)C)c1c(C)cc2cc(Cl)ccc2c1O', 'CCOC(=O)C(C(=O)OCC)C1CCC/C1=C(/Cl)c1ccccc1', 'CC1(C)C2CCC1(C)C(OC(=O)/C=C/c1cc(O)c(O)c(Cl)c1)C2', 'CCOC(=O)CC(C)(C)CCC(=O)c1cc(Cl)cc2cc(C)oc12', 'COC1(OC)C=CC(OC)(OC)C(/C=C/c2cccc(Cl)c2C)=C1', 'CCc1cc(OCCOCCOc2ccccc2OC)ccc1Cl', 'C=O.CC(C)(c1ccc(O)cc1)c1ccc(O)cc1.ClCC1CO1', 'COc1ccc(CCl)cc1.COc1ccc(COCC2CO2)cc1', 'COc1ccc(CCC2(C3CCCC3)CC(=O)CC(=O)O2)cc1Cl', 'CC.COC(=O)c1ccc(Cl)cc1COc1ccc(CCO)cc1', 'CC(C)(C)OC(=O)[C@]12O[C@](C)(CCC1=O)CC2c1ccc(Cl)cc1', 'CCCC[C@@H]1CC2=C(C(=O)OC(C)(C)O2)[C@@H](c2ccc(Cl)cc2)O1', 'CC1Cc2c(c(Cl)c3c(c2C2(C(=O)O)CCCCC2)OC(C)C3)O1', 'COc1ccc(CCC2C(=O)CC(C3CCCC3)OC2=O)cc1Cl', 'C=CC(C)[C@@H](C)OC(=O)c1ccc(O)c(Cl)c1CC(=O)/C=C/CC', 'CCOC(=O)C(OC(C)(C)C)c1c(C)cc2ccc(Cl)cc2c1O', 'COc1ccc(OCCOCCOc2c(C)cc(C)cc2Cl)cc1', 'COc1cc(C)ccc1OCCOCCOc1ccc(Cl)c(C)c1', 'CCOc1ccc(OCCOCCOc2cc(C)ccc2Cl)cc1', 'C/C(=C\\\\COc1ccc2ccc(=O)oc2c1)CC[C@@H](O)C(C)(C)Cl', 'CC(C)=CC1C(C(=O)OC(C)c2cc3c(cc2Cl)OCO3)C1(C)C', 'CC(C)=C[C@H]1[C@@H](C(=O)O[C@H](C)c2cc3c(cc2Cl)OCO3)C1(C)C', 'Cc1cc(O)cc(Cl)c1OCCCOc1ccc(OC(C)C)cc1', 'CCOC(OCC)C(C)Oc1ccc(Oc2ccc(Cl)cc2)cc1', 'CCOc1cccc(OCCOCCOc2ccc(Cl)c(C)c2)c1', 'CC1(C)C=C(c2ccc(Cl)cc2)C(CCOC(C)(C)C(=O)O)=CO1', 'CC[C@@H](C)Oc1cccc(CCl)c1.COC(=O)c1cccc(O)c1', 'C=C/C=C\\\\C(=C/C)C(=O)/C(=C/C(=C)Cl)C(=CC)OCC(=O)OCC', 'CCC(O)COc1ccc(-c2ccc(OCC(O)CCl)cc2)cc1', 'OCCCOc1ccc(Cc2ccc(OCC(O)CCl)cc2)cc1', 'CC1=C(COC(=O)CCCC(=O)Oc2cccc(Cl)c2)CCCC1', 'CCCC[C@@]1(C2C(=O)OC(C)(C)OC2=O)CCc2cc(Cl)ccc21', 'CC1=C(COC(=O)CCC(=O)Oc2ccc(Cl)c(C)c2)CCCC1', 'COc1ccc(COC[C@H](OCc2cccc(Cl)c2)[C@@H](C)O)cc1', 'COC(=O)C(C(=O)OC)[C@H]1CC[C@@H]2[C@H]1CC[C@H]2c1ccc(Cl)cc1', 'C=C1Cc2cc(O)cc(O)c2C(=O)O[C@H](C)C/C=C/CCC(Cl)C1', 'CCOC(=O)C12CCC(OCCc3ccc(Cl)cc3)(CC1)CC2=O', 'CC(C)=C[C@H]1[C@@H](C(=O)O[C@@H](C)c2cc3c(cc2Cl)OCO3)C1(C)C', 'C/C(=C/C1CCCC(CCOC(=O)c2ccccc2O)C1)C(=O)Cl', 'C[C@]12CCC[C@@]3(COC1=O)[C@@H]1CC[C@@H]4C[C@]1(CC4=O)[C@@H](C(=O)Cl)[C@@H]32', 'CCC(=O)C(C(=O)CC)C1(C)CC=C(Cc2ccc(O)cc2Cl)O1', 'CC(C(C12CC1CC=CC2=O)O)NC(=O)C(CC(C(=O)O)O)N', 'CC(=O)Oc1ccccc1C(=O)[O-].C[N+](C)(C)NCCC(=O)O', 'CCOc1nc(=O)c(C)cn1[C@@H]1O[C@H](CO)[C@H]2OC(C)(C)O[C@H]21', 'COC(=O)c1ncccc1C(O)C(O)CNC(=O)OC(C)(C)C', 'C=CC(=O)OCC(C)(C)C(=O)C(=O)N1CCN(C)CC1C(=O)O', 'CCCC/C=C/OC1C(O)[C@H](CO)O[C@@H]1n1ccc(=O)[nH]c1=O', 'CN1CCOCCOCCOCCOc2cc([N+](=O)[O-])ccc21', 'CC(=O)Oc1ccccc1C(=O)[O-].NC(CCCC[NH3+])C(=O)O', 'COC(=O)/C=C\\\\C(=O)NCC(C)(C)CNC(=O)/C=C\\\\C(=O)OC', 'COCCNCC(=O)NCC(O)COc1ccc2c(c1)OCO2', 'CC(=O)NC1CN(/C(C(=O)OC(C)(C)C)=C(\\\\C)COC=O)C1=O', 'C[C@@H](O)[C@H](O)[C@H](O)[C@@H](O)C(=O)N[C@@H](Cc1ccccc1)C(N)=O', 'COC(=O)c1cc(C(=O)OC)n(CCNC(=O)OC(C)(C)C)c1', 'CC(=O)CCC[C@]1(n2cc(C)c(=O)[nH]c2=O)C[C@H](O)[C@@H](CO)O1', 'COc1cc(OCC(=O)NN2CCOCC2)cc(OC)c1OC', 'C=COC(=O)[C@H]1[C@H]2[C@@H]1[C@@](NC(=O)[C@H](C)N)(C(=O)OCC)C[C@@H]2O', 'Cc1cn([C@H]2C[C@H](O)[C@H](COC(=O)C(C)(C)C)O2)c(=O)[nH]c1=O', 'COc1ccc(C(CN(C)N)OC)cc1.O=C(O)/C=C/C(=O)O', 'COC(=O)c1c(C(=O)OC)c(C)n(NC(=O)OC(C)(C)C)c1C', 'COC(=O)C1=C(C)N(C(=O)OC(C)(C)C)N=C(C)C1C(=O)OC', 'CCCCCCC(ON1C(=O)CCC1=O)ON1C(=O)CCC1=O', 'COc1ccc(OCC(=O)NCCCOC(C)C)c([N+](=O)[O-])c1', 'CN(C)C(=O)C1C(=O)C(N(C)C)C2C(O)CCC(=O)[C@]2(O)C1=O', 'CC.CCOC(=O)c1cc2occc2n1COC(=O)C(N)CO', 'CC(=O)OC(=O)c1ccccc1O.NCCCC[C@@H](N)C(=O)O', 'CCOC(=O)[C@@]1(NC(=O)OC(C)(C)C)[C@@H]([N+](=O)[O-])[C@@H]2C=C[C@H]1C2', 'COc1cc(C(N)C(=O)O)cc(NC(=O)OC(C)(C)C)c1OC', 'COc1ccc(OC)c(NC(=O)C[C@@H]([NH2+]C[C@H](C)O)C(=O)[O-])c1', 'CCOC(=O)[C@]1(NC(=O)OC(C)(C)C)[C@H]2C=C[C@H](C2)[C@H]1[N+](=O)[O-]', 'Cc1cn(C2CC(O)C(COC(=O)C(C)(C)C)O2)c(=O)[nH]c1=O', 'C=C(C)C(=O)O.C=CC#N.C=CC=C.N.O=C(O)/C=C/C(=O)O', 'CC(C)(C)OC(=O)N1CCCC[C@@H]1C(=O)ON1C(=O)CCC1=O', 'CCC(O)(O)N(C(C)(O)O)C(O)(O)Cc1c[nH]c2ccccc12', 'C=CCOCOC1CC(n2cc(C)c(=O)[nH]c2=O)OC1COC', 'CC(C)(C)OC[C@H](N)C(=O)NCCC1=C(O)C(=O)C=C(O)C1=O', 'CCOc1ccc(C(=O)N[C@@H]2CCN(C(=O)COC)C[C@H]2O)o1', 'COCCNC(=O)CC(=O)Nc1cc(OC)c(OC)c(OC)c1', 'COc1ccc(CCNC(=O)NCCC(=O)O)c(OC)c1OC', 'CCc1oc(C(=O)N(C)CC(=O)NCCCOC)cc1C(=O)O', 'CC(=O)N1C[C@H](O)C[C@H]1C(=O)N[C@@H](C(=O)O)[C@H]1CCCC(=O)C1', 'CC.COC(=O)CC(C[N+](=O)[O-])c1c(C)ccc([N+](=O)[O-])c1C', 'C#CCC(N)C(=O)O.C#CCC(NC(=O)OC(C)(C)C)C(=O)O', 'CN1CCCC1c1cccn(O[C@@H]2O[C@H](CO)[C@@H](O)[C@H]2O)c1=O', 'COc1ccc(C[C@H](NC(=O)N(C)CC(O)CO)C(=O)O)cc1', 'CC(C)(C)OC(=O)N1CCCC(C(=O)C2CC(=O)N(O)C2=O)C1', 'CCOC1=NOC2(C1)C[C@H]1CC[C@@H](C2)N1.O=C(O)/C=C/C(=O)O', 'COc1cc(OC)cc(C(C)(C)OC(=O)N[C@@H](CN)C(=O)O)c1', 'CCCC/C(O)=C/c1ccn([C@@H]2O[C@H](CO)[C@@H](O)[C@H]2O)c(=O)n1', 'CC(C)(C)OC(=O)NCCOc1cc(CCC(=O)O)ncc1O', 'O=C(NCCO)[C@H]1CCCN1C(=O)C1=C[C@H]2OCO[C@H]2[C@H](O)C1', 'CN1CCCC1c1ccc(=O)n(O[C@@H]2O[C@@H](CO)[C@@H](O)[C@H]2O)c1', 'COc1ccc(CC(CC(N)=O)[C@H](N)C(=O)O)c(OC)c1OC', 'COc1ccc(COCC(=O)N[C@@H]2C[C@H](CO)[C@@H](O)[C@H]2O)cn1', 'N[C@@H](Cc1ccc(OCC(=O)NCCOCCO)cc1)C(=O)O', 'CCCCOc1c(C(=O)O)n(NC(=O)OC(C)(C)C)ccc1=O', 'CN1CCCC1c1cccn(O[C@@H]2O[C@H](CO)[C@@H](O)[C@@H]2O)c1=O', 'COCCNCC(=O)Nc1cc(OC)c(OC)cc1C(=O)OC', 'COCC[NH2+][C@H](CC(=O)Nc1cc(OC)ccc1OC)C(=O)[O-]', 'CCOC(=O)C1=C(COC(=O)[C@H]2CCCO2)NC(=O)N[C@@H]1CC', 'Cc1cc(C(O)C(O)CNC(=O)OC(C)(C)C)ccc1[N+](=O)[O-]', 'Cc1ccccc1C[C@H](N)C(=O)O.O=C(O)CCNCC(=O)O', 'COCCN[C@H](CC(=O)Nc1cc(OC)ccc1OC)C(=O)O', 'COc1cccc(COCCNC(=O)OC(C)(C)C)c1[N+](=O)[O-]', 'COCCNC(=O)NC(C(=O)OC)C(O)c1ccc(OC)cc1', 'Cc1ccc(C(C)C(CO)(CO)CO)cc1N=C=O.NC(=O)O', 'CC(C)(C)OC(=O)N1CCC[C@@H](C(=O)ON2C(=O)CCC2=O)C1', 'CC(C)C(N=C=O)C(=O)OCCCOC(=O)C(N=C=O)C(C)C', 'COc1ccc(OC2OC(CO)C(N)C(O)C2NC(C)=O)cc1', 'Cc1cn([C@H]2C[C@H](O)[C@](CO)(C(=O)C(C)(C)C)O2)c(=O)[nH]c1=O', 'C=CCOC(=O)O[C@H]1CN[C@H]([C@@H]2CON(C(=O)OCC=C)C2)C1', 'CC(C)(C)OC(=O)N1CCC(C(=O)C2CC(=O)N(O)C2=O)CC1', 'CC(NCC(=O)O)c1ccc(O)c(CC(CO)NCC(=O)O)c1', 'CC(C)(C)OC(=O)N[C@H](CO)C(=O)O.NC(=O)c1ccccc1', 'CN1CCC[C@H]1c1cccn(O[C@@H]2O[C@H](CO)[C@@H](O)[C@H]2O)c1=O', 'CCOC(=O)NCCNC(=O)c1cc(OC)c(OC)c(OC)c1', 'COC(=O)C1C(=O)NC2CCN(C(=O)OC(C)(C)C)CC2C1=O', 'COc1ccc(NC(=O)C[C@@H]([NH2+]C[C@@H](C)O)C(=O)[O-])c(OC)c1', 'COc1cc(/C=C/C(=O)O)ccc1O.NCCCC(N)C(=O)O', 'CCOC(=O)CCC(=O)N(Cc1nc(C(=O)OC)co1)C(C)C', 'O=C(O)CN1C[C@@H]2COC[C@H](C1)N(Cc1ccoc1)C2.O=CO', 'COc1cc(C(=O)NCCCOC(C)C)c([N+](=O)[O-])cc1OC', 'COCC[NH2+][C@@H](CC(=O)Nc1cc(OC)ccc1OC)C(=O)[O-]', 'COc1cccc(C(CN(C)N)OC)c1.O=C(O)/C=C/C(=O)O', 'COc1cc(OC)c(OC)cc1CNC(=O)NCCCC(=O)O', 'CCOCCn1ccc(=O)c(OC(=O)NCC(=O)OCC)c1C', 'C#CCOCCOCCOCCn1nc(COC)cc1C(=O)O', 'CCCOC(=O)/C=C/C(=O)NN(C)C(=O)/C=C/C(=O)OCCC', 'COC(=O)CCC1=NO[C@H](C[C@@H]2CC(CCC(=O)OC)=NO2)C1', 'CCOC1CC(NC(=O)c2cc(COC)on2)(C(=O)O)C1(C)C', 'C=CC(=O)NC(=O)OCC(C)C(CCC)OC(=O)NC(=O)C=C', 'CC(C)(C)OC(=O)N(CCO)CC(O)c1ccc([N+](=O)[O-])cc1', 'CC(C)[C@@H](C(=O)N1C[C@H](O)C[C@H]1C)c1cc(OCC(=O)O)no1', 'CC(C)(C)OC(=O)N1CCC(C(=O)ON2C(=O)CCC2=O)CC1', 'COc1ccc(NC(=O)OC(C)(C)C)cc1C(O)C(N)C(=O)O', 'O=C(O)[C@H](O)[C@@H](O)C(=O)O.c1ccc(CN2CCNCC2)cc1', 'CC1(OC2(O)CCCC2)CC(CO)OC1n1ccc(=O)[nH]c1=O', 'O=C(NCCc1ccccc1)N[C@@H]1O[C@H](CO)[C@@H](O)[C@H](O)[C@H]1O', 'COC(=O)c1ccncc1C(O)C(O)CNC(=O)OC(C)(C)C', 'COCCCC(=O)NCCc1cc(OC)c(OC)cc1[N+](=O)[O-]', 'COC(=O)NC(=O)[C@@H](C)OC(=O)[C@H]1CC(=O)N(C2CCCC2)C1', 'COCCC(NC(=O)C(NC(=O)c1ccco1)C(C)C)C(=O)O', 'O=C(O)CCC1CCCCN1C(=O)NC1C[C@@H]2OC(=O)O[C@@H]2C1', 'CC1CCC(C)C(N=O)(C(=O)C(=O)N2CCCCC2C(=O)O)O1', 'COC1=NOC2(C1)C[C@H]1CC[C@@H](C2)N1C.O=C(O)/C=C/C(=O)O', 'CCCOC[C@H]1O[C@@H](n2ccc(=O)[nH]c2=O)C2OC(C)(C)O[C@H]21', 'CC[C@H](C)[C@H](NCCOc1ccc(OC)cc1[N+](=O)[O-])C(=O)O', 'COc1cc(OC)c(OC)cc1CNC(=O)N(C)CCC(=O)O', 'CC(C)(C)OC(=O)NCC(O)C(O)c1ccc(CC(=O)O)nc1', 'C#CCOC1C[C@@H](COC)O[C@H]1n1cc(C)c(=O)[nH]c1=O.CO', 'CCCOC[C@H]1O[C@@H](n2ccc(=O)[nH]c2=O)[C@H]2OC(C)(C)OC12', 'COC[C@@H](C)NC(=O)c1cc(OC)c(OCC(N)=O)c(OC)c1', 'CC(O)N(CC(NC(=O)OCc1ccccc1)C(=O)O)[C@@H](C)O', 'CC(C)NCC(O)COc1cccc2c1CC(O[N+](=O)[O-])CO2', 'COc1c(C)c(O)c(C=CCCCCNO[N+](=O)[O-])c(C)c1O', 'CN(C)c1ccc(C(=O)N[C@H]2C(O)O[C@H](CO)[C@@H](O)[C@@H]2O)cc1', 'COC(=O)NCCN(C(C)=O)c1cc(OC)c(OC)c(OC)c1', 'CCOC(=O)c1[nH]c(C)c(C(=O)OCC(=O)NCCOC)c1C', 'COCC(C)(O)CNC(=O)C(=O)Nc1ccc(OC)cc1OC', 'O=C(O)C(O)C(O)C(=O)O.c1ccc(CN2CCNCC2)cc1', 'COC(=O)C1CCCN1C(=O)CC(=O)N1CCCC1C(=O)CO', 'COc1ccc(NC(=O)C[C@H]([NH2+]C[C@@H](C)O)C(=O)[O-])c(OC)c1', 'CCOC(=O)[C@H](C)N[C@H](COOC)Cc1ccc([N+](=O)[O-])cc1', 'CC(C)(C)OC(=O)NC(CCCCN1C(=O)C=CC1=O)C(=O)O', 'CC(C)(C)OC(=O)N1CCC(CC(=O)ON2C(=O)CCC2=O)C1', 'C=CCCCOC1C(O)C(COC)OC1n1ccc(=O)[nH]c1=O', 'COc1ccc(NC(=O)CC(=O)N(C)C[C@@H](O)CO)c(OC)c1', 'CC(C)C(OCC1COc2ccc([N+](=O)[O-])cc2O1)C(O)CN', 'COC(=O)[C@H]1N=C(C(C)(C)C2=N[C@H](C(=O)OC)[C@@H](C)O2)O[C@@H]1C', 'CCOC(=O)[C@H](C)N[C@@H](COOC)Cc1ccc([N+](=O)[O-])cc1', 'CC(C)C(N)C(O)COc1cccc2c1OCC(O[N+](=O)[O-])C2', 'CC(C)(C)OC(=O)N1CCC(C(=O)O)(N2CC(=O)CC2=O)CC1', 'CC(=O)N[C@@H](C#N)[C@H]1O[C@@H]2OC(C)(C)O[C@@H]2[C@H]2OC(C)(C)O[C@H]21', 'Cc1cc(NCCOC(=O)c2ccc(=O)oc2C)oc1C.N.O', 'COC(=O)[C@H](Cc1ccc([NH+]([O-])O)cc1)NC(=O)OC(C)(C)C', 'CC(C)(C)OC(=O)NNC(C)(Cc1ccc(O)c(O)c1)C(=O)O', 'COC(=O)c1cc(OC)c(OC)cc1NC(=O)CC(CN)OC', 'COc1ccc(N)c(OC[C@H](NC(=O)OC(C)(C)C)C(=O)O)c1', 'COC(=O)C[C@@H]1NC2(CCCCC2)C(=O)N(CC(=O)OC)C1=O', 'CCOCCC(=O)NNC(=O)c1cc(OC)c(OC)c(OC)c1', 'CCCOC(=O)/C=C/C(=O)NCNC(=O)/C=C/C(=O)OCCC', 'CCCC(N)(C(=O)OCC)c1cc(OC)c(OC)cc1[N+](=O)[O-]', 'CCOC(=O)C[C@@H](C(=O)OCC)c1c(C)n(C)c(=O)n(C)c1=O', 'COc1ccc(OCC(NC(=O)OC(C)(C)C)C(=O)O)c(N)c1', 'COCO[C@@]1(Cc2cc(=O)cc[nH]2)C(=O)N(COC)C1CCO', 'COc1cc(OC)c(CNC(=O)CC[C@H](N)C(=O)O)c(OC)c1', 'Cc1ccc(C(O)C(O)CNC(=O)OC(C)(C)C)cc1[N+](=O)[O-]', 'Cc1c([N+](=O)[O-])cc([C@@H](C)CCCC(C)(C)O)c(O)c1[N+](=O)[O-]', 'COc1ccc(OC)c(NC(=O)C[C@H](NC[C@@H](C)O)C(=O)O)c1', 'C/C=C\\\\C(=O)N(C=O)CCCCCC(=O)NC(C=O)CC(=O)O', 'Cc1ccc(C(CO)C(CO)CCO)cc1N=C=O.NC(=O)O', 'CC(C)(COC(OCC(C)(C)[N+](=O)[O-])c1ccccc1)[N+](=O)[O-]', 'CCOC(=O)C(CC(=O)OC(C)C)c1cn(C)c(=O)n(C)c1=O', '[2H]C([3H])OCC1OC(n2cc(CCCC(C)=O)c(=O)[nH]c2=O)CC1O', 'C#CCOCCOCCOCCOCCn1ccc(C(=O)O)n1', 'CCCN(Cc1nc(C(=O)OC)co1)C(=O)CCC(=O)OCC', 'CCOC(=O)CC(=O)CC1NC(=O)N(C)C(C)=C1C(=O)OCC', 'CCC[C@]1(C(=O)O)CCN(C(=O)c2ccc[nH]2)C[C@@H]1O.O=CO', 'CCOC(=O)C1COC(=O)N1C1CCN(C(=O)C2(O)CC2)CC1', 'C=COCCOCCOCCOc1cc([N+](=O)[O-])ccc1NC', 'CCCn1c(=O)ccn([C@@H]2O[C@H](CO)[C@H]3OC(C)(C)O[C@H]32)c1=O', 'COc1cc(/C=C/C(=O)O)ccc1O.NCCC[C@H](N)C(=O)O', 'CC[C@H](NNC=O)[C@H](C)OCc1ccccc1.O=C(O)C(=O)O', 'CCOC(=O)C(CC#CCNC(C)=O)(NC(C)=O)C(=O)OCC', 'CCOC(=O)NN(C(=O)OCC)c1ccc(OC)c(C)c1OC', 'CC(C)(C)OC(=O)n1c(O)cc(OC(=O)N2CCCCC2)c1O', 'CC(C)(C)OC(=O)N(CCO)C[C@@H](O)c1ccc([N+](=O)[O-])cc1', 'O=C1C=CCN(OC2CCCCO2)C(=O)N1OC1CCCCO1', 'Cc1cn(C(=O)OC(C)(C)C)c(=O)n(C(=O)OC(C)(C)C)c1=O', 'CCOC(=O)C1=C(O)C(=O)N(C2CN(C(=O)OC(C)(C)C)C2)C1', 'COCCOCC(=O)N[C@H](Cc1ccc(OC)nc1)C(=O)OC', 'O=C(NC[C@H]1N[C@H](CO)[C@H](O)[C@H](O)[C@H]1O)[C@@H](O)c1ccccc1', 'COc1cc(OC)c(CCNC(=O)NCCC(=O)O)c(OC)c1', 'CCCCNC(=O)c1cccn([C@@H]2O[C@H](CO)[C@@H](O)[C@H]2O)c1=O', 'CC(O)N(CC(NC(=O)OCc1ccccc1)C(=O)O)[C@H](C)O', 'O=C1C=CC(=O)N1CCCCCCOCO.O=C1CCC(=O)N1', 'CCCCC=CO[C@@H]1[C@H](O)[C@@H](CO)O[C@H]1n1ccc(=O)[nH]c1=O', 'C[C@H](NC(=O)C1CCCC1C(=O)O)C(=O)N1CCC[C@H]1C(=O)O', 'COC(=O)CC1C(=O)NCCN1CC(O)COCc1ccco1', 'COc1cc(OC)cc(OCCNC(=O)NCCCC(=O)O)c1', 'CC(=O)NCCC(C)(C)C1=C(C(=O)O)N2C(=O)[C@H]([C@@H](C)O)[C@H]2O1', 'CCOC(=O)C[C@H](C(=O)OCC)c1c(C)n(C)c(=O)n(C)c1=O', 'CC(C)(C(=O)NCc1ccc(C(=O)O)o1)N1CCCC1.O=CO', 'C=CC(=O)OCC(C)(C)C(=O)C(=O)N1CCN(C)C[C@H]1C(=O)O', 'CN1[C@@H]2CC[C@H]1CC1(CC(CO)=NO1)C2.O=C(O)/C=C/C(=O)O', 'CC(C)(C)OC(=O)NCC(O)C(O)c1cc(N)cc(C(=O)O)c1', 'O=C(CCN1C(=O)C2=C(CCCC2)C1=O)NC(CO)(CO)CO', 'O=C(NCCNC1CCCCC1)c1ccco1.O=C(O)C(=O)O', 'CN(C)c1ccc(C(=O)N[C@@H](C=O)[C@@H](O)[C@@H](O)[C@H](O)CO)cc1', 'COc1cc(C(N)CC(=O)O)cc(NC(=O)OC(C)(C)C)c1O', 'CCOCCCNC(=O)c1cc(OC)c(OCC)cc1[N+](=O)[O-]', 'CCCC/C(O)=C\\\\c1nc(=O)ccn1[C@@H]1O[C@H](CO)[C@@H](O)[C@@H]1O', 'COC(=O)NNC(=O)CCCc1cc(OC)c(OC)c(OC)c1', 'CC(C)(C)OC(=O)C1(C(=O)C2CCCNC2)CC(=O)N(O)C1=O', 'COCCOc1cc(C(=O)NC(C)(COC)CC(=O)O)ccn1', 'COC(=O)NC(=O)[C@@H](C)OC(=O)[C@@H]1CC(=O)N(C2CCCC2)C1', 'CC(=O)Oc1ccccc1C(=O)O.C[N+](C)(C)NCCC(=O)[O-]', 'CCN1C(=O)CC2(CCN(C)CC2)C1=O.O=C(O)/C=C/C(=O)O', 'CC(C)(C)OC(=O)N(CCO)C[C@H](O)c1ccc([N+](=O)[O-])cc1', 'CC(=O)C1=CN([C@@H]2O[C@H](COC(=O)[C@H](C)N)[C@@H](O)[C@H]2O)C=CC1', 'CCOC(=O)CNC(=O)Cn1ccc(O)c1C(=O)OC(C)(C)C', 'Cc1cn([C@@H]2C3CCCCO[C@H]2C(O)[C@@H](CO)O3)c(=O)[nH]c1=O', 'CCOC(=O)NC(NC(=O)OCC)c1ccc(OC)c(OC)c1', 'CC(C)C(C(=O)O)n1cc(O)c(=O)cc1CN(C)CCC(=O)O', 'COCCNC(=O)CNC(=O)c1cc(OC)c(OC)c(OC)c1', 'CN(C)c1ccc(C(=O)N[C@@H](C=O)[C@H](O)[C@@H](O)[C@H](O)CO)cc1', 'COc1ccc(CNNC(=O)OC(C)(C)C)c(OCC(=O)O)c1', 'O=C(O)CN1C[C@H]2COC[C@@H]1CN(Cc1ccoc1)C2.O=CO', 'C/C(C(=O)O)=C(/C)C(=O)N1C(=O)[C@@H](NC(=O)OC(C)(C)C)[C@@H]1C', 'CCCC/C(O)=C/c1nc(=O)ccn1[C@@H]1O[C@H](CO)[C@@H](O)[C@@H]1O', 'COC(=O)c1cncc(C(CCO)N(O)C(=O)OC(C)(C)C)c1', 'C[C@H](O)[C@](C)(O)[C@@]1(O)O[C@H]1CC(=O)C(=O)CCc1cnn(C)c1', 'Cc1cn(C2CC(OC3CCCCO3)C(CO)O2)c(=O)[nH]c1=O', 'O=c1ccn2c(=O)n1CCCCCCOC[C@H]1O[C@@H]2[C@H](O)[C@@H]1O', 'O=C(O)C=CC(=O)NCCCCCCCNC(=O)C=CC(=O)O', 'Cc1oc(C(=O)[C@@H](NC(=O)OC(C)(C)C)C(C)C)nc1C(=O)O', 'CCOC(=O)c1cc(OC[C@@H]2CCN2C(=O)OC(C)(C)C)on1', 'C/C(CCC(=O)O)=N\\\\CC(=O)CC(=O)C/N=C(\\\\C)CCC(=O)O', 'C[C@H]1CCCC[C@@H]1NC(=O)NC(=O)COC(=O)C1=COCCO1', 'CC1CCCC(NC(=O)C2C(C(=O)O)C(C(N)=O)C2C(=O)O)C1', 'COCC(C)NC(=O)c1cc(OC)c(OCC(N)=O)c(OC)c1', 'COc1cc(CNC(=O)NCCCC(=O)O)cc(OC)c1OC', 'COC(=O)/C=C/C(=O)C(=O)N1CCN(C(=O)OC(C)(C)C)CC1', 'CC(C)(C)N(CC(O)c1ccc([N+](=O)[O-])cc1)C(=O)OCCO', 'CNC1[C@@H](C)OC(COC(=O)c2cc(N)ccc2O)[C@H](O)[C@H]1O', 'CCC(C(=O)N1CCCC(OC)(C(=O)O)C1)N1C(=O)CCC1=O', 'CC(C)(C)OC(=O)NCC(O)C(O)c1c(N)cccc1C(=O)O', 'CC(C)NC(=O)CC1OC(CNC(=O)c2ccco2)C(O)C1O', 'C=CCOC(=O)O[C@H]1CN[C@H]([C@H]2CON(C(=O)OCC=C)C2)C1', 'C[C@H](O)N(C[C@@H](NC(=O)OCc1ccccc1)C(=O)O)[C@@H](C)O', 'COc1ccc(NC(=O)CC(NCC(C)O)C(=O)O)c(OC)c1', 'CCCCCC(=O)C(O)[C@H]1O[C@@H](n2ccc(=O)[nH]c2=O)C[C@@H]1O', 'C[C@@H](OC(C)(C)C)[C@H](N)C(=O)NCC1=C(O)C(=O)C=C(O)C1=O', 'CN(CN1C(O)[C@H](O)[C@@H](O)[C@H](O)[C@H]1CO)C(=O)c1ccccc1', 'CC(C)N(O)CCCO[C@H]1Oc2ccccc2CC1O[N+](=O)[O-]', 'C=C(C)C(=O)CC[C@H](NC(=O)[C@@H](N)COC(=O)C(=C)C)C(=O)O', 'CCC[C@@]1(C(=O)O)O[C@@]2(O)[C@@H]3CCCN3C(=O)C(C)(C)N2C1=O', 'COC(=O)/C=C/C(=O)NCCCCCNC(=O)/C=C/C(=O)OC', 'COc1cccc(OCCN2CCNCC2)c1.O=C(O)C(=O)O', 'Cc1ccc([N+](=O)[O-])cc1C(O)C(O)CNC(=O)OC(C)(C)C', 'CCOC(=O)CCC(=O)N1CCC(N2CC(C(=O)O)CC2=O)C1', 'NC(N)COC1OC2COC(c3ccccc3)OC2C(O)C1O', 'COCCN[C@@H](CC(=O)Nc1ccc(OC)cc1OC)C(=O)O', 'CC(=O)c1cccc(C(=O)O)c1O.NCCCCC(N)C(=O)O', 'C[C@H](OC(=O)C1=COCCO1)C(=O)NC(=O)NC1CCCCC1', 'COc1ccc(OCCNC(=O)C(=O)NCC(OC)OC)cc1', 'C=CCCCCO[C@H]1[C@@H](O)[C@H](n2ccc(=O)[nH]c2=O)O[C@@H]1CO', 'C[C@H](NC(=O)N[C@@H]1O[C@H](CO)[C@@H](O)[C@H](O)[C@H]1O)c1ccccc1', 'COC(=O)C1=C(C)C(C(=O)NC(C)(C)C)(C(=O)N(C)C)OC1=O', 'Cc1cc(C)c(C(=O)O)c(N2CC[C@H](CO)[C@H](O)C2)n1.O=CO', 'COc1cc(OC)cc(OCCCNC(=O)NCCC(=O)O)c1', 'CN(CC(O)C(O)C(O)C(O)CO)c1ccc(N)c2occc12', 'CCCC/C=C/OC1C(O)[C@@H](n2ccc(=O)[nH]c2=O)O[C@H]1CO', 'CCNC[C@@H](OC)[C@H](COC)OC(=O)c1ccc([N+](=O)[O-])cc1', 'CCCCCCCCNC(=O)c1c(O)cc(O)c([N+](=O)[O-])c1O', 'C=C1N(CCC(=O)O)C(=O)C(CC)(CC)C(=O)N1CCC(=O)O', 'CC1CN(C(=O)NC(=O)C2C(C(=O)O)[C@@H]3CC[C@H]2O3)CC(C)O1', 'CC1=CC(=C(C=C1SC2=CN=C(S2)NC(=O)C3=CC=C(C=C3)CNC(C)C(C)(C)C)C(=O)N4CCN(CC4)C(=O)C)OC', 'Cc1ccc(S(=O)(=O)N=C(CN2CCCCC2)N2CCN(S(=O)(=O)c3ccc(C)cc3)[C@H]2c2ccc(N(C)C)cc2)cc1', 'C.CCn1nnc2c(C)c([C@@H](CC(=O)O)c3ccc(C)c(CN4C[C@@H]5CCCN5c5ccccc5S4(=O)=O)c3)ccc21.S', 'CCC(C)=C(S/C(=N/C)NC(O)Cc1cccc(OC)c1)C1CCC(c2nnc(NC(=O)Cc3cccc(OC)c3)s2)C1', 'CC(C)(C)C1CN=C(CSc2cnc(NC(=O)Cc3ccc(OCCCCCCC(=O)Nc4ccccc4N)cc3)s2)O1', 'CC(=O)N1CCN(C(=O)c2cc(CSc3cnc(NC(=O)c4ccc(CNC(CO)C(C)C)cc4)s3)cc(C)c2C)CC1', 'CC(C)(C)/N=S(\\\\O)c1cc(NC(=O)NCc2ccccc2)ccc1-c1cnc(C2=CCC(NC(=O)OC(C)(C)C)CC2)s1', 'CCN1CCc2c(sc(NC(=O)c3ccc(S(=O)(=O)N4CC5(C)CC4CC(C)(C)C5)cc3)c2C(=O)n2nc(C)cc2C)C1', 'C.CCn1nnc2c(C)c([C@H](CC(=O)O)c3ccc(C)c(CN4C[C@@H]5CCCN5c5ccccc5S4(=O)=O)c3)ccc21.S', 'Cc1ccc(S(=O)(=O)N=C(CN2CCCCC2)N2CCN(S(=O)(=O)c3ccc(C)cc3)C2c2ccc(N(C)C)cc2)cc1', 'CC(C)(C)[C@@H](CN1CCCCC1)NC(=S)N[C@@H](c1ccccc1)[C@@H](NS(=O)(=O)c1ccc([N+](=O)[O-])cc1)c1ccccc1', 'C=CC(=O)N1CCN(C(=O)c2cc(Sc3cnc(NC(=O)C4=CCC(C)C(CN(C)C)=C4)s3)c(C)cc2OC)C[C@H]1CC', 'Cc1ccc(S(=O)(=O)N=C(CN2CCCCC2)N2CCN(S(=O)(=O)c3ccc(C)cc3)[C@@H]2c2ccc(N(C)C)cc2)cc1', 'CC.CN(C)C(=O)Nc1cc(-c2cccs2)ccc1N.Nc1ccc(-c2cccs2)cc1NC(=O)OCC1CCOCC1', 'COc1cc(C)c(S(=O)(=O)Nc2ccc3ccn(CC(=O)NCCN4CCC(c5cccs5)(N(C)C)CC4)c3c2)c(C)c1', 'CC(C)(C)NS(=O)c1cc(NC(=O)NCc2ccccc2)ccc1-c1cnc(C2=CCC(NC(=O)OC(C)(C)C)CC2)s1', 'O=C(NS(=O)(=O)c1ccc(N[C@H](CCN2CCCOCC2)CSc2ccccc2)cc1)c1ccc(N2CCNCC2)cc1', 'CC1CN(CC[C@H](CSc2ccccc2)Nc2ccc(S(=O)(=O)NC(=O)c3ccc(N4CCNCC4)cc3)cc2)CCO1', 'CC(=O)N1CCN(C(=O)c2cc(CSc3cnc(NC(=O)c4ccc(CN[C@H](CO)C(C)C)cc4)s3)cc(C)c2C)CC1', 'Cc1ccc(S(=O)(=O)/N=C(/CN2CCCCC2)N2CCN(S(=O)(=O)c3ccc(C)cc3)C2c2ccc(N(C)C)cc2)cc1', 'CC1CN(CCCS(=O)(=O)c2cccc(-c3n[nH]c4ccc(NC(=O)C(C5C=CSC5)N5CCCC5)cc34)c2)CC(C)O1', 'C=O.CN.[H]/N=C(\\\\N)c1csc([C@@H](C)NC(=O)C2C[C@@H](OSC)CN2C(=O)Cc2ccc3c(c2)-c2ccccc2C3(C)C)c1', 'CCCC(O)C(C)(C)NCc1ccc(C(=O)Nc2ncc(SCc3cccc(C(=O)N4CCN(C(C)=O)CC4)c3)s2)cc1', 'COc1cc(C)c(-c2sc(NC(=O)c3ccc(CNC(C)C(C)(C)C)cc3)nc2S)cc1C(=O)N1CCN(C(C)=O)CC1', 'CCC(CC(=S)c1ccc(OCC(=O)Nc2nc3ccccc3s2)c(OC)c1)C(=O)N1CCC(N2CCN(C)CC2)CC1', 'COc1cc(C)c(S(=O)(=O)Nc2cccc3ccn(CC(=O)NCCN4CCC(c5cccs5)(N(C)C)CC4)c23)c(C)c1', 'COc1cc(CSc2cnc(NC(=O)c3ccc(CNC(C)C(C)(C)C)cc3)s2)ccc1C(=O)N1CCN(C(C)=O)CC1', 'CC(CC(C)C(C)O)CC(CC(C)/C=C(\\\\C)/C=C(/CC(C)C(=O)O)\\\\C(=O)O)CO', 'CCCCCCCCCc1ccccc1OC(O)COCCOCCOCCO', 'CCCCCCCC/C=C\\\\CCCCCCCC(=O)OC(CCC(=O)O)C(=O)O', 'C=C(C)C(=O)OC1(CCOC(C)OCC)CC2CCCC(OC(C)OCC)(C2)C1', 'CCOC(=O)C1(C(=O)OCC)C[C@H](C)C2(C1)O[C@H](C(C)(C)C)C[C@H](C(C)(C)C)O2', 'CCCCCC1(CC[C@H]2C(O)C[C@H](O)[C@@H]2CC=CCCCC(=O)OC)OCCO1', 'CCC(=O)C(C)CCCC(C)(C[C@@H](C)C(=O)[C@H](C)C1OC(=O)O[C@]1(C)CC)OC', 'CCCCCC1(CC[C@H]2C(O)CC(O)[C@@H]2CC=CCCCC(=O)OC)OCCO1', 'CC[C@H](OC)[C@@H](C)C1O[C@@H]1[C@H](O)[C@@H](C)/C=C/C=C(\\\\C)[C@H]1O[C@@H](OC)CC[C@H]1OC', 'C.C=C[C@@H]1OC(C)(C)O[C@@H]1[C@@](O)(C=C)CC.CC[C@]1(O)C=C[C@@H]2OC(C)(C)O[C@@H]21', 'CCC(CC1OC1CC)C(=O)OC(C)(C)CC(C)(C)OC(=O)C1CCOC(C)C1', 'CCCCCCCCCCCCCCCC(=O)OCC(C)C1OC(=O)C(O)=C1O', 'C=CC(=O)OCC(C)(COC(C)=O)COC(=O)C=C.CCCCC(C)(C)C(C)C', 'CCCCCC1OC1C/C=C\\\\CCCCCCCC(=O)OC[C@@H](O)COC(C)=O', 'CCCCCC1(CC[C@@H]2C(CC=CCCCC(=O)OC)C(O)C[C@H]2O)OCCO1', 'CC(COC(=O)C1CCCCC1C(=O)O)OC(=O)C(C)(CC(C)(C)C)C(C)(C)C', 'CC(C)OC(=O)CCC[C@H]1CC[C@@H]2[C@@H](CCO)[C@H](OC3CCCCO3)C[C@@H]2OC1', 'CC(CCOC(=O)CC(=O)O)CCC1C(C)(O)CCC2C(C)(CO)CCCC12C', 'CCCCC/C=C\\\\C/C=C\\\\CCCCCCCC(=O)OC1OC[C@@H](O)[C@H](O)[C@H]1O', 'CCC(C)C(=O)OC1CCCC2CCC(C)C(CCC(O)CC(O)CC(=O)O)C21', 'CC(=O)CCC(CC(=O)CCCCCCCCCCCCCCC(=O)O)C(=O)O', 'CC[C@H](OC)[C@@H](C)[C@H]1O[C@@H]1[C@H](O)[C@@H](C)/C=C/C=C(\\\\C)[C@@H]1O[C@@H](OC)CC[C@H]1OC', 'CCCCCC1(CC[C@@H]2[C@@H](C/C=C\\\\CCCC(=O)OC)[C@@H](O)C[C@H]2O)OCCO1', 'CCCCCCCCCCC/C=C/C(=O)CC12COC1C(O)C(O)C(CO)CO2', 'C=C(C)C1CC2(OCC(CC)(CO)CO2)C(CC)CC12OCC(CC)(CO)CO2', 'CC(C)COCC(C)(C)C(O)/C=C/[C@@H]1[C@@H](C/C=C\\\\CCCC(=O)O)[C@@H](O)C[C@H]1O', 'CC/C=C\\\\C/C=C\\\\C/C=C\\\\CCCCCCCC(=O)OC([C@H](O)CO)[C@@H](O)CO', 'CCCCCC1(CCC2C(O)CC(O)C2C/C=C/CCCC(=O)OC)OCCO1', 'O=C(O)OCCCCCCCCC=CCC=CCCCCCCCCOC(=O)O', 'CCCCCC[C@H](O)C/C=C\\\\CCCCCC/C(C(=O)OC)=C(/O)C(=O)OCC', 'CC(C)(CCCC1CCC(CCCC2CCC(CC(C)(C)C(=O)O)O2)O1)C(=O)O', 'CCC(C)(C)C(=O)OCC(=O)OCC(=O)OC(CC1CCCCC1)CC(C)(C)C', 'CCCCC/C=C\\\\C/C=C\\\\CCCCCCCC(=O)O[C@H](C=O)[C@H](O)[C@H](O)CO', 'CCC(CC(CC(C)C(=O)OC1(CC)CCCCC1)C(=O)O)C(=O)OCC(C)C', 'CCC(C)(C)C(=O)OC1COC2C(OCOC3C(C)(C)CCCC3(C)C)COC12', 'O=C1CCCCCCCCCCCCCCCCCCC(=O)O[C@@H](C(=O)O)CO1', 'CCCCCCC=C[C@@H]1[C@@H](CCCCCC(O)(O)C(=O)O)C[C@H]2OC(C)(C)O[C@@H]12', 'CCCCC[C@H](O)CC[C@@H]1C(CCCCCCC(=O)OC)=C(OC(C)=O)C[C@H]1O', 'CCOC(=O)COC1CCC(C(C)(C)C2CCC(OCC(=O)OCC)CC2)CC1', 'CCCOCOC12CC3CC(OCOCC)(C1)CC(OC(=O)C(C)(C)CC)(C3)C2', 'CCCCCCCCC=CCCCCCCCC(=O)OC(CC(=O)O)CC(=O)O', 'C1CC2CCC1O2.C1CC2OCCC2O1.C1CCC2OC2C1.C1CO1.C1COC1', 'CC(=O)OCC(O)COC1CCC(C(C)(C)C2CCC(OCC3CO3)CC2)CC1', 'CCCCCCC(O)CC=CCCCCCC/C(C(=O)OC)=C(/O)C(=O)OCC', 'CC(C)(C)OCC1CC(CC(=O)O)C1C1CC(OC(C)(C)C)CCC1CC(=O)O', 'CO[C@H]1CC[C@@](C)(OC(C)=O)C2OC(C[C@]1(C)O)[C@@H]1[C@H]2[C@@H](C(C)C)CC[C@@]1(C)O', 'CCCCCCCC(/C=C/CCCCCCCC(=O)O)C(CC(=O)O)C(=O)OC', 'CCCC1OC1(CC)COC(=O)CCCCCC(=O)OCC1(CC)OC1CCC', 'CCC(C)(C)C(=O)OCCCCCCCCCCCCC(=O)OC1CCOC1=O', 'CCCCCC1OC1C/C=C\\\\CCCCCCCC(=O)OC[C@H](O)COC(C)=O', 'CCCCC(CCCC)c1cccc(OC(O)COCCOCCOCCO)c1', 'C=C(C)C(=O)OC.C=CC(=O)O.C=CC(=O)OCCCCCCCCCCCC', 'CCCC[C@H](C)C[C@H](O)/C=C/[C@H]1[C@H](O)CC(=O)[C@@H]1CCCC[C@@H](CC(=O)O)OC', 'C=C[C@@]1(C)CC(=O)OC2C(OCOCCCC)C(C)CC[C@@]21OCOCCCC', 'CC/C=C\\\\C/C=C\\\\C/C=C\\\\CCCCCCCC(=O)C(O)([C@H](O)CO)[C@@H](O)CO', 'CCCCCCCCCCCCCCCC(=O)OC[C@H](O)[C@H]1OC(=O)C(C)=C1O', 'CC(C)[C@@H]1CC[C@@H](C)C[C@@]12OCC[C@@H](C[C@H]1CCC[C@@H](C[C@@H](O)CC(=O)O)O1)O2', 'CCCCCC1(CC[C@@H]2[C@@H](C/C=C\\\\CCCC(=O)OC)[C@@H](O)C[C@@H]2O)OCCO1', 'CCC(C)C(=O)OC(C)(C)CCC1CC2CC(O)OC2C1OC(=O)C(C)(C)CC', 'C=CC(=O)OCC.C=CC(=O)OCC(CC)CCCC.C=CC(=O)OCCCC', 'CC[C@H]1C[C@H]1CCCC[C@H]1CCC(=O)[C@@H]1CCCCCC(O)(OCCO)C(=O)O', 'CC(C)(OCC1CCC(OCC2CO2)CC1)OCC1CCC(OCC2CO2)CC1', 'CC(C)(C)CC(C)(C(=O)OCC(=O)OC[C@@H]1OC(O)C2(C)CCCC12)C(C)(C)C', 'CCCCCCCCOCC[C@]1([C@@]2([C@]3(C(=O)O)CCCO3)CCCO2)CCCO1', 'CC1CC[C@@H](C(C)C)C2(C1)OCC[C@@H](C[C@H]1CCC[C@@H](C[C@@H](O)CC(=O)O)O1)O2', 'CC[C@H](OC)[C@@H](C)[C@H]1O[C@@H]1[C@H](O)[C@@H](C)/C=C/C=C(\\\\C)[C@@H]1O[C@H](OC)CC[C@@H]1OC', 'CCCCC(C(=O)OCC)C(CCC1CCCCC1)(C(=O)OCC)C(=O)OCC', 'CCCCCCC=C[C@H]1CCC[C@@H]1CCCCC(O)C(O)(O)C(=O)COC(C)=O', 'CC[C@@H]1C/C=C(/C)[C@H](O)[C@@H](C)[C@@]2(O)O[C@@H]([C@@H](C)[C@H](O)[C@@H](C)C(=O)O1)[C@@H](C)C[C@H]2C', 'CCCCCC1(CC[C@@H]2C(C/C=C\\\\CCCC(=O)OC)C(O)C[C@H]2O)OCCO1', 'C=CC[C@@H](OC(=O)CC[C@@H]1OC(C)(C)O[C@H]1C=C)[C@@H](CCCCCC)OCOC', 'C=CC(C)(C)C(C(=O)OOC(=O)C1(C(C)CC(C)(C)C)OO1)C(C)CC(C)(C)C', 'CCC=CCC(O)C=C[C@H]1CC[C@H](O)[C@@H]1CCCCCC(COCCO)C(=O)O', 'CCCC[C@@](C)(OC)[C@H](O)/C=C/[C@H]1[C@H](O)CC(=O)[C@@H]1CCCCCCC(=O)OC', 'CCCCC1CC(C)CCCC2(C)OC2C(O)C(O)OC(=O)CCC(C)(C)C1=O', 'C=C(CC(CC)CCCC)C(=O)O.C=C(CC)C(=O)O.C=C(CCCC)C(=O)O', 'CCCCCC1(CC[C@@H]2[C@@H](CC=CCCCC(=O)OC)[C@@H](O)C[C@H]2O)OCCO1', 'CCCCCC(C/C=C/C(CCCC(=O)OCC)OC1CCCCO1)OC(C)=O', 'CCCCCCCCCCCCCCC(=O)CC(CCC(C)=O)C(=O)O.O=C=O', 'CC(C)OC(=O)COC/C=C\\\\C[C@@H]1[C@@H](CC[C@@H](O)C2CCCCC2)[C@H](O)C[C@@H]1O', 'COCO[C@@H]1C[C@@](C)(C(O)CO)C(=O)[C@H](C)C23CCC(OC)C2[C@@]1(C)[C@H](C)CC3', 'C=C(C)C(=O)OC(C)COC(C)(C)CC(C)OC(C)(C)CC(C)OC(=O)C(=C)C', 'CC=CC(CCC(O)CCCCC)C(CCCCCCC(=O)O)(C(C)=O)C(=O)O', 'C=C(C)C(=O)OC12CC(C)CC(OC(C)OCC)(CC(C)(OC(C)OCC)C1)C2', 'CCOC(=O)CCCOC1=CCCC(CCCCCCO)C1/C=C/C(O)OCC', 'CC(C)(C)CC(C)(C(=O)OCCOC(=O)CC1(CC(=O)O)CCCC1)C(C)(C)C', 'C=CC(=O)OCCCC.C=COC(=O)CCCCCCC(C)C.C=COC(C)=O', 'C=C(C=O)CO.C=C(CO)C(=O)OCC(COC)C1CCC(CCCCC)CC1', 'CCCCCCC=C[C@H]1CCC(=O)[C@@H]1CCCCCC(OCOCCO)C(=O)O', 'CCCCC(C)(OC)C(O)C=CC1C(O)CC(=O)C1CCCCCCC(=O)OC', 'CCCCCCCOC(=O)C1CC(C(=O)O)CC(C(=O)OCCCCCCC)C1', 'C[C@H]1[C@H](OCCCCCCCCO)O[C@@H]2O[C@]3(C)CC[C@H]4[C@H](C)CC[C@@H]1[C@@]24OO3', 'CC[C@H](OC)[C@@H](C)[C@@H]1O[C@H]1[C@H](O)[C@@H](C)/C=C/C=C(\\\\C)[C@@H]1O[C@@H](OC)CC[C@H]1OC', 'CC(=O)C(C)(C)COCCCC(=O)CCCC(=O)CCCOCC(C)(C)C(C)=O', 'C=C1C[C@H](C)[C@@H]2OC(C)(C)O[C@@H]([C@@H]2C)[C@@H](C)C(=O)O[C@H](C)[C@H](C)[C@H](O)[C@@H](C)[C@H]1O', 'CCCCCCCCCCCCCCCC(=O)C1C(=O)OC(CCOOC)C1=O', 'CC(=O)OC(C)(C)CC(C(=O)OC1CCCCC1)C(C)C(OO)C1CCCCC1', 'CCCCCCCCCc1ccc(OC(O)COCCOCCOCCO)cc1', 'CCC1=CCC(C)C(OC2C(C)CC(C)C(OC3OCC(C)(C)CC3O)C2O)O1', 'CCCCC(C)CC(O)C=CC1C(O)CC(=O)C1CCCCC(CC(=O)O)OC', 'CCCCC(C)C(O)CCC[C@H]1[C@H](O)CC(=O)[C@@H]1CCCCC=C(O)C(=O)CO', 'CCCCCCCCCCCCCCOC1=C(O)C(=O)O[C@@H]1[C@@H]1COC(C)(C)O1', 'C=C(C(=O)OCC(COC(=O)C(C)O)CC1CCC(CCCCC)CC1)C(C)O', 'CCCC[C@@H]([C@H](C)OCc1ccc(OC)cc1)[C@@H](CO)OCC(OCC)OCC', 'CCCCCC1OC1COC(=O)C(CCCCC(=O)O)CC1OC1CCCCC', 'CCCCCC/C=C\\\\CCCCCCCC(=O)OC(C=C(C)C(=O)O)C(O)CO', 'CC[C@H](C)C(=O)O[C@H]1CCC[C@@H]2CC[C@H](C)[C@H](CC[C@@H](O)C[C@@H](O)CC(=O)O)[C@H]21', 'CCC1C(C)C=CC2=CCCCC21.CC[C@H](C)C(=O)O.O=C(O)CC(O)CCO', 'CCCCCCCCCc1ccc(OOCCOCCOCCOCCO)cc1', 'CC(=CCCCOC1C(=O)C(=O)OC1C(O)CO)CCCC(C)CCCC(C)C', 'CO[C@H]1CC[C@@](C)(OC(C)=O)[C@H]2O[C@H](C[C@]1(C)O)[C@@H]1[C@H]2[C@@H](C(C)C)CC[C@@]1(C)O', 'C=CC(=O)OC(COC(=O)C(C)(C)CC(C)(C)C(=O)OC(C)(C)C)CC(C)(C)C', 'CC[C@H](OC)[C@@H](C)C1C[C@@](O)([C@@H](C)/C=C/C=C(\\\\C)[C@H]2O[C@@H](OC)CC[C@H]2OC)O1', 'CCCCC/C=C\\\\C/C=C\\\\CCCCCCCC(=O)OC1OC[C@@H](O)[C@@H](O)[C@@H]1O', 'CC[C@H]1OC(=O)[C@H](C)[C@@H](O[C@@H]2CC[C@H](O)[C@@H](C)O2)[C@@H](C)C[C@@H](C)C(=O)CC[C@H]1C', 'CCCC[C@H](C)C[C@H](O)/C=C/[C@H]1[C@H](O)CC(=O)[C@@H]1CCCCC(CC(=O)O)OC', 'CC[C@H](C)C(=O)O[C@H]1CCC[C@@H]2CC[C@H](C)[C@@H](CC[C@@H](O)C[C@@H](O)CC(=O)O)[C@H]21', 'C=C(C)C(=O)OC(O)(OC(=O)C(=C)C)C(CC)(CCCC)C(O)CCCCCC', 'CCCCCCCC/C=C\\\\CCCCCCCC(=O)OC(CC(=O)O)CC(=O)O', 'CCCCC(=O)OCC1CCCC(COC(=O)CCCC)C1OC(=O)CCCC', 'C=CCOC(=O)C(O)(O)C(O)(O)CCCC[C@H]1CCC[C@@H]1C=CCCCCCC', 'CC[C@H](OC)[C@@H](C)[C@@H]1O[C@H]1[C@H](O)[C@@H](C)/C=C/C=C(\\\\C)[C@@H]1O[C@@H](OC)CC[C@@H]1OC', 'CCCCC/C=C\\\\CC1OC1CCCCCCCC(=O)OC[C@H](O)COC(C)=O', 'C=CC(O)(CC=C(O)[C@H]1[C@H](O)CC(=O)[C@@H]1CCCCCCC(O)CO)CCCC', 'C=C(C)C(=O)OCCCC(O)C(CCOC(=O)C(=C)C)OCC(CC)CCCC', 'CCCc1cc2c(cc1CC(CCC)C(O)COCCO)OCO2.CCOCC', 'C=C(C)C(=O)OCCCCCCCCCCCCCCCCC(C(=O)O)C(=O)O', 'CC[C@@H](C)OC(=O)C1CCCC2CC[C@H](C)[C@H](CC[C@@H](O)C[C@@H](O)CC(=O)O)[C@H]21', 'CCC(C)(C)CC(C)(C(=O)OCC(C)OC(=O)C1CCCCC1C(=O)O)C(C)C', 'CC[C@H](OC)[C@@H](C)C1O[C@@H]1[C@H](O)[C@@H](C)/C=C/C=C(\\\\C)[C@H]1O[C@@H](OC)CC[C@@H]1OC', 'COCCOCC(COCCOC)C(C)OCCC(C)(C)OCc1ccccc1', 'CCCCCCCC/C=C/C(CCCCCCC(=O)O)C(CC(=O)O)C(=O)OC', 'CCCCC(C)CC(O)C=C[C@H]1C(O)CC(=O)C1CCCCC(CC(=O)O)OC', 'CC[C@H](OC)[C@@H](C)C1C[C@@](O)([C@@H](C)/C=C/C=C(\\\\C)[C@@H]2O[C@H](OC)CC[C@@H]2OC)O1', 'CCCCCC(/C=C/C(CCCCCCCCC(=O)OC)OC(C)=O)OC(C)=O', 'CCCCCCCCOCC[C@@]1([C@@]2([C@@]3(C(=O)O)CCCO3)CCCO2)CCCO1', 'C=CC(=O)OC(CC)CCCCC.C=CC(=O)OCC.C=CC(=O)OCCCC', 'CCC[C@@H](CC[C@@H]1[C@H]2CC(O)O[C@H]2C[C@H]1OC1CCCCO1)OC1CCCCO1', 'C=C(C(=O)O)C(C)(C)C.C=C(C)C(=O)O.CCCCC(CC)C/C=C(\\\\C)C(=O)O', 'CCOC(=O)C1(C(=O)OCC)CC(C)C2(C1)OC(C(C)(C)C)CC(C(C)(C)C)O2', 'CCCC[C@](C)(OC)[C@H](O)/C=C/C1[C@H](O)C[C@H](O)[C@@H]1C/C=C\\\\CCCC(=O)OC', 'C=C(C)C(=O)OC(CCCCCCCCCCCCC)C(O)(O)OC(=O)C(=C)C', 'CC(CCC(=O)C(C)C[C@H](C)[C@H]1CCCC(CC(=O)O)O1)CC(C)[C@H](O)/C=C\\\\O', 'C=C(C)C(=O)OC.C=CC(=O)OCCCC.C=CC(=O)OCCCCCCCC', 'CCOC(=O)C1CCCCC1C(=O)OCCOC(=O)C(CC(C)(C)C)C(C)(C)C', 'CCCCCCCOC(=O)C1CCCC(C(=O)OCCCCCCC)C1C(=O)O', 'CCCCC(C)(OC)C(O)C=C[C@H]1C(O)CC(=O)[C@@H]1CCCCCCC(=O)OC', 'CCCCC[C@H](O)/C=C/[C@@H]1[C@@H](C/C=C\\\\CCCCOC(=O)COC)[C@@H](O)C[C@H]1O', 'C=CCCCCCCCCCOC1OC(COC(C)=O)C(OC(C)=O)C(C)C1C', 'O=C(CCCCCCCC(=O)OCCC[C@H]1CCCO1)OCCC[C@@H]1CCCO1', 'C/C1=C\\\\[C@H](C)[C@@H](C)OC(=O)[C@H](C)[C@@H](O)[C@H](C)[C@H]2O[C@](O)([C@H](C)C[C@@H]2C)[C@H](C)[C@H]1O', 'CCCCCCCC(=O)O[C@@H]1C=C(CO)[C@](O)(CO)[C@]2(C)[C@@H](O)CCC(C)(C)[C@H]12', 'CCCCCC(O)/C=C/[C@@H](C(OC)OC)[C@H](C/C=C\\\\CCCC(=O)OC)C(C)=O', 'O=C(O)C(=O)CCCCCCCCCCCCCCCCCCCC(=O)C(=O)O', 'C=C(CC)C(=O)O.C=CC(=O)OCC(CC)CCCC.C=CC(=O)OCCCC', 'CCCCC[C@@H]1CCCCC[C@@H](OCOC)C[C@@H]2OC(C)(C)O[C@@H]2/C=C/C(=O)O1', 'CCC(C)(C)C(=O)OC1CCCC(CC2CCCC(OC(=O)C(C)(C)CC)O2)O1', 'C=C(CCCC(C)CCCC(C)CCCC(C)C)C1O[C@@H](C(=O)O)[C@H](C(=O)O)O1', 'CCCC(C)(C(=O)OC12CC3CC(OCCO)(CC(OCCO)(C3)C1)C2)C(C)C', 'CCCCCC(OC(C)=O)C(CC=CCCCCCCCC(=O)OC)OC(C)=O', 'CCCOC(=O)COC1CCC(C(C)(C)C2CCC(OCC(=O)OC)CC2)CC1', 'CCCC(=O)C(O)=C(O)C1CCCCC1.CCCCC(=O)C(O)=C(O)CCCC', 'CCCCC/C=C\\\\CC1OC1CCCCCCCC(=O)OC[C@H](CO)OC(C)=O', 'CCCCCCCCCCCCCC(=O)OCC1(CO)C/C(=C/C(=O)OC)CO1', 'CC(C)CCCCOC(=O)C1CCCC(C(=O)O)C1C(=O)OCCCCC(C)C', 'OC[C@H]1O[C@@H](CCCCCCOCC23CC4CC(CC(C4)C2)C3)[C@H](O)[C@@H](O)[C@@H]1O', 'CCC(OC)C(C)C1OC1C(O)C(C)/C=C/C=C(\\\\C)C1OCCC(OC)C1OC', 'CCCCCCCCCCCCCC(=O)OCC1(CO)C/C(=C\\\\C(=O)OC)CO1', 'CCCCC[C@H]1C[C@@H]2CCCC(C[C@@H](OC)CC3C[C@H](O)C[C@@H](CC(=O)O1)O3)O2', 'CCOOC[C@@]1(C)C2CCC(CC)C(CC)[C@@]2(C)C[C@@H](CC(=O)O)[C@@H]1CC(=O)O', 'C=C(C)C(=O)OCC(COC(=O)CCCCCCC)OC(=O)CCCCCCC', 'C=CO.CCCC[C@H](O)CCC[C@H]1CCC(=O)[C@@H]1CCCCC=C(O)C(=O)CO', 'COC1CCC(=O)CC1.COC1CCC2(CC1)CO2.COC1CCC2(CC1)CO2', 'CCCCCC(CC)OC(=O)CC(CC=CCCCCCCCC(=O)O)C(=O)O', 'C=C(C)COCCCCCCOC(=O)CC(=O)OCCCCCCOCC(=C)C', 'CCCCCCC=C[C@H]1CCC(=O)[C@@H]1CCCCCC(C(=O)O)C(O)OCCO', 'CC1C=CC2=CC(O)CCC2C1.CCC(C)C(=O)O.CCCCC(O)CC(=O)O', 'CCC(C)CC(C)(O)CC(CO)CC(C)C=C(C)C=C(CC(C)C(=O)O)C(=O)O', 'C=CCC[C@H]1OC(=O)[C@H](C)[C@@H](O)[C@H](C)[C@@H](O)[C@@H](C)C[C@@H](C)C(=O)[C@H](C)[C@@H](O)[C@H]1C', 'COC(=O)CCCCCC/C=C/CC(CC(=O)OCC(C)C)C(=O)OCC(C)C', 'CCCCC[C@H](O)CC[C@@H]1[C@@H](CCC/C=C/C=C/OC(=O)COC)[C@@H](O)C[C@H]1O', 'CC(CCC(=O)C(C)C[C@H](C)C1CCCC(CC(=O)O)O1)CC(C)[C@H](O)/C=C\\\\O', 'CC[C@H](OC)[C@@H](C)C1C[C@@](O)([C@@H](C)/C=C/C=C(\\\\C)[C@H]2O[C@H](OC)CC[C@@H]2OC)O1', 'CCCCCCCC(=O)O[C@@H]1C=C(CO)[C@](O)(CO)[C@]2(C)[C@H](O)CCC(C)(C)[C@H]12', 'CCOC(C)OC12CC3CC(OC(=O)C(C)(C)CC)(CC(OC(C)OC)(C3)C1)C2', 'C=CC(=O)OC(O)(CCCCCCCCCCCCCCCCO)OC(=O)C=C', 'CCCCCCCCCCCCc1ccc(OC(O)(CO)C(O)C(O)CO)cc1', 'C=C(C)C(=O)OCCCCCCCCCCOC(=O)CCCCCCCC(=O)O', 'C=CCC.C=CCC.O=C(CC(=O)OC1CCCCC1O)OC1CCCCC1O', 'CCC(CCCCCCCCCCCCCCCC(=O)O)C(=O)OC1OC2OC12', 'CCCCCCCC(CC(=O)CC(CCCCCC(C)=O)C(=O)OC)C(=O)OC', 'C=C(CC(C)C)C(=O)O.C=C(CCC(C)C)C(=O)O.C=C(CCCCC)C(=O)O', 'CCCCCC1(CC[C@@H]2C(C/C=C\\\\CCCC(=O)OC)[C@@H](O)C[C@@H]2O)OCCO1', 'C=CO.CCCCC(O)CCC[C@H]1CCC(=O)[C@@H]1CCCCC=C(O)C(=O)CO', 'CC(CCOC(C)C)CC(O)C=C[C@H]1[C@@H]2CC(CCOCC(=O)O)C[C@H]2C[C@@H]1O', 'C1CC(COCC2CCC3(CC2)OCCO3)C1.OCC1CCC2(CC1)OCCO2', 'C=C(C)C(=O)OC(O)(CCCCCCCCCCCCCCO)OC(=O)C(=C)C', 'COCC(CC12C3CC(C(C)(C)C)C14C(OC[C@@H]4OC)OC2CO3)OCC(C)C', 'CC(C)OC(=O)CCCCC/C=C\\\\CC1C(O)CC(OC2CCCCO2)[C@@H]1CO', 'CCCCCCC/C(=C\\\\C(CCCCCCCC(=O)OC)OC(C)=O)OC(C)=O', 'C=C1O[C@H]([C@@H](O)COC(=O)CCCCCCCCCCCCCCC)C(O)=C1O', 'CCCCCCCCCCCCCC=CCCC(=O)C(=O)C(=O)OCC(O)CO', 'CCCCCCC=C[C@H]1CC[C@H](OC(C)=O)[C@@H]1CCCCCC(O)(O)C(=O)OC', 'CCCCCC[C@H](O)C/C=C/CCCCCC/C(C(=O)OC)=C(/O)C(=O)OCC', 'CCCCCCCCCC[C@@H](O)[C@H]1CC[C@@H]([C@@H]2CC[C@H](C(=O)COC(C)=O)O2)O1', 'CCCCCCCCCCCCCCCC(=O)OCC(O)C1OC(=O)C(C)=C1O', 'CCCCCC(C)OC(=O)C1CC(C(=O)O)CC(C(=O)OC(C)CCCCC)C1', 'CCCCCC1(CC[C@H]2C(O)CC(O)[C@@H]2C/C=C\\\\CCCC(=O)OC)OCCO1', 'CCC(C)(C)C(=O)OC1CCOC1=O.CCC1(OC(=O)C(C)(C)CC)CCCC1', 'C=CCC.C=CCC(C(C)=O)C(=O)OC(C)(C)C.CC(=O)CC(=O)OC(C)(C)C', 'CCCC[C@@](C)(OC)[C@H](O)/C=C/C1[C@H](O)C[C@H](O)[C@@H]1C/C=C\\\\CCCC(=O)OC', 'CO[C@H]1CC[C@@](C)(OC(C)=O)[C@@H]2O[C@H](C[C@]1(C)O)[C@@H]1[C@H]2[C@@H](C(C)C)CC[C@@]1(C)O', 'COc1c(C)c(C(O)CCCCCCCCCCCO)c(OC)c(OC)c1OC', 'CCCCCCCCCCCCC(OCCCCC(=O)OC)C1=CC(=O)OC1O', 'CCCCC(C)(OC)C(O)CC[C@H]1[C@H](O)CC(=O)[C@@H]1CCCCC=CC(=O)OC', 'C=C(CC(CC)CCCC)C(=O)O.CCCCOC(=O)/C=C/C(=O)OCCCC', 'C=C(C)C(=O)O.C=C(C)C(=O)O.OCC(CO)(C1CCCCC1)C1CCCCC1', 'CC(C)/C=C/[C@@H](C)C1CCC2[C@@H](O[C@H]3O[C@H](CO)[C@H](O)[C@H](O)[C@H]3O)CCC[C@]12C', 'COC1CCC(C)(O)C2OC(CC1(C)O)C1C2C(C(C)C)CCC1(C)OC(C)=O', 'C=C(C(=O)OCCCCCCCC)C(CC(=O)O)C(=O)OCCCCCCCC', 'CCCCC(C)(OC)[C@H](O)/C=C/[C@H]1[C@H](O)CC(=O)[C@@H]1CCCCCCC(=O)OC', 'CCCCCC1(CC[C@H]2C(O)CC(O)C2C/C=C\\\\CCCC(=O)OC)OCCO1', 'CCCC(C)(C)C(O)CCC[C@H]1[C@H](O)CC(=O)[C@@H]1CCCCC=C(O)C(=O)CO', 'C/C=C/C(=O)OC(C)(C)C.C=C(C)C(=O)OC(C)(C)C.C=CC(=O)OC(C)(C)C', 'CC(C)[C@@H]1CCCC[C@H]1OC(=O)C(O)C(O)C(=O)O[C@@H]1C[C@H](C)CC[C@H]1C(C)C', 'CCC1OC(=O)C(C)C(C)C(C)C(=O)C(C)(O)CC(C)C(C)C(C)C(=O)C1(C)O', 'CCCCCCCOC(=O)C1CCCC(C(=O)O)C1C(=O)OCCCCCCC', 'CCCCCCCC/C=C/CCCCCCCC(=O)OC(CCC(=O)O)C(=O)O', 'CCCC[C@@](C)(OC)[C@H](O)C=C[C@H]1[C@H](O)CC(=O)[C@@H]1CCCCCCC(=O)OC', 'CC[C@H](OC)[C@@H](C)[C@@H]1O[C@H]1[C@H](O)[C@@H](C)/C=C/C=C(\\\\C)[C@H]1O[C@H](OC)CC[C@@H]1OC', 'CCOC(=O)CCCOC1=CCCC(CCCCCCO)[C@@H]1CCC(=O)OCC', 'C[C@H]1[C@@H](OCCCCCCCCO)O[C@@H]2O[C@]3(C)CC[C@H]4[C@H](C)CC[C@@H]1[C@@]24OO3', 'COC(=O)CC[C@@H](C)[C@@H]1O[C@]2(CC[C@@H](C)[C@H](CCC(C)OC(C)=O)O2)CC[C@@H]1C', 'CCCCC[C@H]1C[C@@H]2CCC[C@@H](C[C@@H](OC)C[C@@H]3C[C@H](O)C[C@H](CC(=O)O1)O3)O2', 'CCCCCCCCCCCCC#CC(OCCCC(=O)O)OCCCC(=O)O', 'C=CC(=O)OCCCCCCOC1CCC(C(OO)C2CCC(OC)CC2)CC1', 'CCOC(=O)CCC1=C(CCCCCCO)CCC=C1OCCCC(O)OCC', 'CCCCCC=CCC=CCCCCCCCC(=O)O[C@@H](C=O)[C@@H](O)[C@H](O)CO', 'CCC[C@H]1CCCC[C@H](CC(=O)OC(C)(C)C)C(=O)O[C@@H](C)[C@@H]1OC(=O)C(C)C', 'CC[C@H](OC)[C@@H](C)[C@@H]1O[C@H]1[C@H](O)[C@@H](C)/C=C/C=C(\\\\C)[C@H]1O[C@@H](OC)CC[C@@H]1OC', 'C[C@@H]1CC[C@H]2[C@@H](C)C(OCCCCCCCCO)O[C@@H]3O[C@@]4(C)CC[C@@H]1[C@]32OO4', 'CCCCCCCC(=O)O[C@H]1C=C(CO)[C@@](O)(CO)[C@@]2(C)[C@@H](O)CCC(C)(C)[C@H]12', 'CCCCCCCC(=O)O[C@H]1C=C(CO)[C@](O)(CO)[C@@]2(C)[C@@H](O)CCC(C)(C)[C@H]12', 'COC(C)COC(C)COC(C)COC(C)COC(C)COCc1ccccc1', 'CCCCCCCC(=O)O[C@@H]1C=C(CO)[C@](O)(CO)[C@@]2(C)[C@@H](O)CCC(C)(C)[C@H]12', 'CCOC(C)Oc1cc(CC(C)(C)C)cc(OC(C)OCC)c1OC(C)OCC', 'CC(COC(=O)/C=C/CCCCCCCO)OC(=O)/C=C/CCCCCCCO', 'CCCCCC(C)(/C=C/C(C)C(C(=O)OCC)C(=O)OCC)OC1CCCCO1', 'CCCCCCCOC(=O)C1CCC(C(=O)OCCCCCCC)C(C(=O)O)C1', 'CC(=CCCCOC1=C(O)[C@@H]([C@@H](O)CO)OC1=O)CCCC(C)CCCC(C)C', 'C=C(C(=O)O)C(CC(=O)OCCCCCCCC)C(=O)OCCCCCCCC', 'CC(C)OC(=O)COC/C=C\\\\CC1C(CC[C@H](O)C2CCCCC2)[C@@H](O)C[C@@H]1O', 'C=CC[C@H](OC(=O)CC[C@H]1OC(C)(C)O[C@@H]1C=C)[C@H](CCCCCC)OCOC', 'CC(C)OC(=O)COC/C=C\\\\CC1C(CC[C@H](O)C2CCCCC2)[C@@H](O)C[C@H]1O', 'CCCC[C@](C)(OC)[C@H](O)/C=C/[C@H]1[C@H](O)CC(=O)[C@@H]1CCCCCCC(=O)OC', 'CC1(C)CC(=O)CCCO1.CC1(C)CC(=O)CCO1.CC1(C)CCC(=O)CCO1', 'COC1=CC2=C(C=C1)NC(=C2C3=C(C4=CC=CC=C4N3)N=O)O', 'COc1nnc(/C=C/c2ccc([N+](=O)[O-])cc2)c2ccccc12', 'Cc1ccccc1NC(=O)/C(C#N)=C/c1ccccc1[N+](=O)[O-]', 'COc1ccc(-n2cnc3cc(OC)cc(C#N)c3c2=O)cc1', 'COc1ccc2oc(-c3noc(-c4ccncc4)n3)c(C)c2c1', 'COc1ccccc1-c1noc(COc2cccc(C#N)c2)n1', 'N#Cc1cccc(CN2C(=O)CCc3cc([N+](=O)[O-])ccc32)c1', 'COc1ccc2cc3c(=O)n4ccccc4nc3nc2c1OC', 'Cn1c(C(=O)c2ccccc2C(=O)O)nnc1-c1ccccc1', 'CC1Oc2cc(C(=O)Nc3ccccc3C#N)ccc2NC1=O', 'Cc1nc(NC(=O)C2c3ccccc3Oc3ccccc32)no1', 'C[C@@H](OC(=O)c1ccn2cncc2c1)c1nc2ccccc2o1', 'NC(=O)C1=NN(c2ccccc2)C(=O)/C1=C/c1ccc(O)cc1', 'NC(=O)c1ccc(NC(=O)c2c(O)ccc3ccccc23)nc1', 'CC(=O)Nc1ccc(C=Cc2ccc([N+](=O)[O-])cc2C#N)cc1', 'N#Cc1cccc(C(=O)Nc2ccc(C3CNC(=O)O3)cc2)c1', 'COc1ccc(Cn2cc3c(=O)c4cnccc4oc3n2)cc1', 'CCOC(=O)c1cc(C#N)c(N)n2c1cc(=O)c1ccccc12', 'Cc1ccccc1NC(=O)NN=c1c(=O)c2ccccc2c1=O', 'Cc1nn(-c2cccc(N)c2)c2oc3cc(O)ccc3c(=O)c12', 'O=C(Cn1ccc([N+](=O)[O-])n1)c1ccc(-c2ccccc2)cc1', 'C=C(O)c1ccc(-n2cc(-c3ccccc3[N+](=O)[O-])cn2)cc1', 'Cc1ccn2c(C=O)c(-c3ccc4c(c3)NC(=O)CO4)nc2c1', 'Cc1oc(-n2cccc2)c(C#N)c1C(=O)Nc1ccccc1O', 'Cc1ccc(C(=O)/C(C#N)=N/Nc2ccccc2C(=O)O)cc1', 'O=C1NCCN1c1cccc(N2C(=O)c3ccccc3C2=O)c1', 'COc1ccc(-n2[nH]c3c(=O)[nH]c4ccccc4c3c2=O)cc1', 'Cc1ccc(/C=C(\\\\C#N)C(=O)Nc2ccc([N+](=O)[O-])cc2)cc1', 'C#CCOc1ccccc1OC(=O)c1c(C)nn2cccnc12', 'CC(=O)c1nnn(-c2ccc3c(c2)OCO3)c1-c1ccccc1', 'CC(=O)Oc1oc(-c2ccccc2)nc1C=Nc1ccccn1', 'C=CCNC(=O)c1cccc(N2C(=O)c3cccnc3C2=O)c1', 'N#Cc1ccc(N2CCN(c3ccccc3C(=O)O)C2=O)cc1', 'COc1cc(C#N)ccc1OCc1cc(=O)n2ccccc2n1', 'CC(=O)N1c2ccccc2C(=O)NC12C(=O)Nc1ccccc12', 'NC(=O)c1ccc(NC(=O)c2cc(-c3ccccc3)on2)cc1', 'O=C1CN(C(=O)Cc2noc3ccccc23)c2ccccc2N1', 'O=C(C=Cc1ccco1)Nc1cccc(Oc2cnccn2)c1', 'CC(=NNC(=O)c1ccc2c(c1)OCO2)c1ccc(C#N)cc1', 'O=Nc1ccc(CNC(=O)c2ccc3cccnc3c2O)cc1', 'N#Cc1cccc(NC(=O)C2(c3ccc([N+](=O)[O-])cc3)CC2)c1', 'C=CC(=O)NC(=O)c1c(-n2ccnc2)c(O)cc2ccccc12', 'NC(=O)c1ccc(O)c(NC(=O)c2ccc3ncccc3c2)c1', 'COC(=O)c1c(N)c(C#N)cn1-c1ccccc1-c1ccco1', 'Nc1ccc(/N=N/c2ccc(O)c(C(=O)O)c2)c2ccccc12', 'Cc1nc(C(=O)Nc2ccc3c(c2)OCO3)c2ccccc2n1', 'O=C(C=Cc1ccco1)Nc1cccc(Oc2ncccn2)c1', 'C/C(=N/NC(=O)c1ccncc1)c1cc2ccccc2oc1=O', 'Cc1cccc(NC(=O)/C(C#N)=C/c2cccc([N+](=O)[O-])c2)c1', 'COc1cc2c(Nc3ccc4occc4c3)ncnc2cc1O', 'C=C(O)C(=O)c1ccc(CC=O)c(-n2nc3ccccc3n2)c1', 'O=C(Cc1ccc2[nH]ccc2c1)Nc1cccc2[nH]c(=O)oc12', 'O=C(Cc1ccc2[nH]ccc2c1)Nc1ccc2[nH]c(=O)oc2c1', 'Cc1ccc(C=C(C#N)C(=O)Nc2ccc([N+](=O)[O-])cc2)cc1', 'O=[N+]([O-])c1ccccc1N/N=C/c1c(O)ccc2ccccc12', 'COc1ccc(/N=N/c2cc(C=O)c(O)c3ncccc23)cc1', 'O=C(/C=C\\\\c1ccco1)Nc1cccc(Oc2ncccn2)c1', 'N#C/C(=C\\\\c1cccc(Oc2ccccc2)c1)C(=O)NC(N)=O', 'NC(=O)C1=NN(c2ccccc2)C(=O)C1=Cc1ccc(O)cc1', 'O=C(N/N=C/c1ccc(O)cc1O)c1cccc2ncccc12', 'NC(=O)N1N=C(c2ccccc2)[C@H]2C(=O)c3ccccc3[C@]21O', 'Cc1cc(C(=O)N2CC(=O)Nc3cccc4cccc2c34)on1', 'Cn1ccc2cccc(C(=O)Nc3ccc4[nH]c(=O)oc4c3)c21', 'Cc1cccc(/[N+]([O-])=N/c2ccc([N+](=O)[O-])c3ccccc23)c1', 'O=C(O)c1cn2c(cc1=O)-c1cc(-c3ccccc3)nn1CC2', 'O=C(Nc1cnc2ccccc2nc1=O)OCc1ccccc1', 'Cc1ccc(NC(=O)C(C#N)=Cc2cccc([N+](=O)[O-])c2)cc1', 'O=C(NCc1ccc([N+](=O)[O-])cc1)c1ccc2ccccc2n1', 'O=C(Nc1cn(C(=O)c2ccccc2)[nH]c1=O)c1ccccc1', 'CCn1cc(C(=O)O)c(=O)n2cc(-c3ccccc3)c(C#N)c12', '[H]/N=C(\\\\C=O)c1cc(-c2ccc(NC(C)=O)cc2)c(C#N)cc1O', 'Cc1ccc(/C=C/c2nc3ccccc3[nH]c2=O)cc1[N+](=O)[O-]', 'Cc1ccc(-c2nnc(/C=C/c3ccc([N+](=O)[O-])cc3)o2)cc1', 'Cc1ccc(C(=O)[C@H](C#N)/N=N/c2ccccc2C(=O)O)cc1', 'COC(=O)c1ccc(/C=N\\\\NC(=O)c2ccc(C#N)cc2)cc1', 'O=C(O)c1cccnc1Oc1ccc(Nc2ccccn2)cc1', 'N#Cc1ccc(C(O)COc2ccc(-c3nnco3)cc2)cc1', 'O=CN(NCC=C1C(=O)c2ccccc2C1=O)c1ccncc1', 'Cc1ccc(C(=O)Nc2cccc3ncccc23)cc1[N+](=O)[O-]', 'CC1NC(=O)c2ccccc2-n2c1nc1c(O)cccc1c2=O', 'O=Cc1cncn1Cc1ccc(-c2ccccc2)cc1[N+](=O)[O-]', 'O=[N+]([O-])c1ccc(N/N=C\\\\c2c(O)ccc3ccccc23)cc1', 'CN1C(=O)[C@@H]2C=C(C#N)[C@H]1[C@H]1C(=O)N(c3ccccc3)C(=O)[C@H]12', 'OCCOc1ccccc1-c1nnc(C#Cc2cccnc2)o1', 'N#CCC(=O)N/N=C\\\\c1ccc(OC(=O)c2ccccc2)cc1', 'O=C(Nc1ccccc1C(=O)Nc1ccccn1)c1ccco1', 'O=C(N/N=C\\\\c1cc2ccccc2[nH]c1=O)c1ccc(O)cc1', 'N#Cc1ccc(OCCOc2ccc(-c3nnco3)cc2)cc1', 'O=C1[C@@H]2CN=N[C@H]2C(=O)N1c1ccc(Oc2ccccc2)cc1', 'COC(=O)c1ccc2nc3c4ccccc4[nH]c(=O)n3c2c1C', 'CN(N=O)c1ccccc1C1=CC(=O)N(c2ccccc2)C1=O', 'N#C/C(=C\\\\c1ccc(O)cc1)C(=O)Nc1cccc(C(N)=O)c1', 'O=C1Nc2ccccc2N2C(=O)N(Cc3ccccc3)C(=O)C12', 'Cc1ccccc1NC(=O)C(C#N)=Cc1ccc([N+](=O)[O-])cc1', 'O=c1cc(COc2ccccc2)nc2cc(-c3ccco3)[nH]n12', '[C-]#[N+]c1ccc(Oc2ccc3c(c2)CCN(CC=O)C3=O)nc1', 'O=C(Nc1ccc2c(c1)OCCO2)c1cc2ccccc2nn1', 'O=C(O/N=C1/CCCc2nonc21)c1cccc2ccccc12', 'Cc1cc(C(=O)Nc2cccc3ncccc23)ccc1[N+](=O)[O-]', 'NC(C(=O)O)c1nc(-c2ccccc2)c2ccccc2nc1=O', 'O=C(Nc1nc(C(=O)Nc2ccccc2)co1)c1ccccc1', 'N#C/C(=C\\\\c1cc(O)ccc1N=O)C(=O)NCc1ccccc1', 'N#CCC1(O)C(=O)Nc2c(NC(=O)c3ccccc3)cccc21', 'N#Cc1ccccc1NC(=O)C1NC(=O)OC1c1ccccc1', 'O=C(Nc1ccccc1Oc1ccccc1)c1cnc[nH]c1=O', 'COc1cc(O)ccc1-c1cc(-c2ccco2)nc(N)c1C#N', 'N#Cc1ccc(-n2c(O)c3n(c2=O)CC[C@@H]3O)c2ccccc12', 'O=C1N[C@H](c2cncc(-c3ccccc3)c2)[C@H](c2ncco2)O1', 'O=C(COC(=O)c1ccc(-c2ncc[nH]2)cc1)c1cccnc1', 'O=C1NC(Nc2ccc(C(=O)O)cc2)=NC1=Cc1ccccc1', 'O=[N+]([O-])c1cccc(-c2cc(-c3ccccc3)nnc2CO)c1', 'NC(=O)c1ccc(C(=O)Nc2cccc3c(O)cccc23)nc1', 'O=C1c2ccccc2N[C@H](c2ccco2)N1/N=C\\\\c1ccco1', 'Cn1c(C=Cc2ccc([N+](=O)[O-])cc2)nc2ccccc2c1=O', 'Nc1ccc2c(c1)oc(=O)n2C(=O)Cc1ccc2cc[nH]c2c1', 'O=C(Nc1ccc2[nH]c(=O)[nH]c2c1)C1=Cc2ccccc2OC1', 'Cc1nc2c(C=Nc3ccccn3)ccc(O)c2cc1C(=O)O', 'COc1ccc(NC(=O)/C(C#N)=C2\\\\Nc3ccccc3O2)cc1', 'O=C(O)c1ccccc1C(=O)Nc1cc(-c2ccccc2)[nH]n1', 'O=C(O)Nc1ccc(NC(=O)c2nccc3ccccc23)cc1', 'O=C(NN=Cc1ccccc1)c1[nH]c(=O)c2ccccc2c1O', 'COc1cccc(-c2nc3cc(NC(=O)CC#N)ccc3o2)c1', 'O=C(C[C@@H]1OC(=O)c2ccccc21)Nc1nc2ccccc2[nH]1', 'C#CCn1c(O)c(/N=N/C(=O)c2ccoc2C)c2ccccc21', 'Cc1ccc2occ(/C=N/NC(=O)c3ccncc3)c(=O)c2c1', 'C[C@@H](Nc1ccc(C#N)cc1[N+](=O)[O-])c1cc2ccccc2o1', 'O=C(Nc1ccc2nccnc2c1)[C@H]1COc2ccccc2O1', 'CC1Oc2c(cccc2C(=O)Nc2cccc(C#N)c2)NC1=O', 'CCOC(=O)c1c2cccccc2c2c(O)c3cnnc3[nH]c12', 'Cn1ccc2ccc(C(=O)Nc3cccc4[nH]c(=O)oc34)cc21', 'N#Cc1ccc(OCCCN2C(=O)c3ccccc3C2=O)nc1', 'COc1ccc2c(c1)c1nc3ccccc3nc1n2CC(=O)O', 'O=C(O)/C=C/C(=O)Nc1ccc(-c2cn3ccccc3n2)cc1', 'Nc1ncnc2c1C(c1ccc(O)cc1)c1ccc(O)cc1O2', 'Cc1ccc(/C=C(\\\\C#N)C(=O)Nc2ccccc2[N+](=O)[O-])cc1', 'N#Cc1cc2c(=O)n(CCc3ccc(O)cc3)ccc2[nH]c1=O', 'COc1ccc2c(ccn2-c2cc3c(C(=O)O)ccnc3[nH]2)c1', 'Cn1c(=O)oc2ccc(CC(=O)Nc3cccc(C#N)c3)cc21', 'NC(=O)c1ccc(C(=O)Nc2ccc3ncccc3c2)cc1O', 'O=C(/C=C/c1nc2ccccc2o1)NNC(=O)c1ccccc1', 'N#Cc1ccc(/C=N/NC(=O)C2COc3ccccc3O2)cc1', 'COC(=O)c1ccc(/C=C/C(=O)n2nnc3ccccc32)cc1', 'O=C(Nc1ccc2c(c1)OCO2)c1ccccc1-n1cccn1', 'N/C(=N\\\\NC(=O)c1ccccc1)c1cc2ccccc2oc1=O', 'O=C(NO)c1ccc(C(=O)Nc2cccc3cccnc23)cc1', 'Cc1ccc(-c2nc3n(c2[N+](=O)[O-])-c2ccccc2OC3)cc1', 'O=C(NC(=O)c1ccccc1)Nc1ccc2cccnc2c1O', 'C#CCOc1ncccc1C(=O)Nc1ccc2c(c1)CC(=O)N2', 'O=C(Nc1ccc2c(c1)OCCO2)c1cnc2ccccc2n1', 'CCOC(=O)c1c(-c2ccc[nH]2)[nH]c2c(C#N)cccc2c1=O', 'O=c1[nH]/c(=C\\\\c2ccc(O)cn2)c(=O)[nH]/c1=C\\\\c1ccccc1', 'O=C(O)c1ccc(NC(=O)c2cnn(-c3ccccc3)c2)cc1', 'Cc1nc2ccccn2c1C(=O)/C=C/c1cccc([N+](=O)[O-])c1', 'N#C[C@H](C(=O)CCn1c(=O)oc2ccccc21)c1ccccn1', 'Cc1ccc2occ(/C=C/C(=O)Nc3ncccn3)c(=O)c2c1', 'NC(=O)c1c(Nc2ccccc2C=O)c2ccccc2[nH]c1=O', 'CN1C(=O)NCc2cc(N3C(=O)c4ccccc4C3=O)ccc21', 'N#C/C(=C/c1ccc2c(c1)OCO2)C(=O)NCc1cccnc1', 'C#CCOC(=O)Nc1ccc(C)c(-c2nc3ncccc3o2)c1', 'O=[N+]([O-])c1ccc2nc(NC3COc4ccccc43)ccc2c1', 'COc1ccnc2[nH]c3c4c(c5c(c3c12)C(=O)NC5=O)CCC4', 'O=c1[nH]cc(Nc2ccccc2)cc1-c1ccccc1[N+](=O)[O-]', 'Cc1cccc(-n2nc(-c3cccc([N+](=O)[O-])c3)ccc2=O)c1', 'O=C(NC(C(=O)O)c1cnc2ccccc2n1)c1ccccc1', 'O=C(N/N=C/c1ccc2cccc(O)c2n1)c1ccccc1O', 'Cn1ccc2cc(N3Cc4cc([N+](=O)[O-])ccc4C3=O)ccc21', 'Cc1ccc(NC(=O)/C(C#N)=C\\\\c2cccc([N+](=O)[O-])c2)cc1', 'CCOC(=O)c1ccc(-c2c(O)[nH]c3ccc(C#N)cc23)nc1', 'N#Cc1cccc(NC(=O)CN2CC(=O)Oc3ccccc32)c1', 'O=C(Cc1ccc([N+](=O)[O-])cc1)Nc1cccc2cccnc12', 'CC1Oc2cccc(NC(=O)c3cccc(C#N)c3)c2NC1=O', 'COc1cccc2oc(-c3cc4cccn4cn3)c/c(=N/O)c12', 'CN1C(=O)/C(=N/N=C\\\\c2ccc(C(=O)O)cc2)c2ccccc21', 'O=c1cc(O)c2c(-c3ccco3)nn(Cc3ccccc3)c2[nH]1', 'O=C(Nc1ccccc1)c1nc(-c2ccccc2)[nH]c(=O)c1O', 'COC(=O)/C(=C/c1ccccc1C(=O)c1ccccc1)N=[N+]=[N-]', 'Cc1ccc(-n2cc(C=O)c(-c3ccccc3[N+](=O)[O-])n2)cc1', 'Cc1ccc(C(=O)C(C#N)=NNc2ccccc2C(=O)O)cc1', 'N#Cc1nn(CC(=O)O)c2ccc(OCc3ccccc3)cc12', 'O=C1c2ccccc2NC(c2ccco2)N1/N=C\\\\c1ccco1', 'Cc1nc2cc(-c3nc4ccccc4o3)ccc2n1CC(=O)O', 'O=C1c2ccccc2N[C@@H](c2ccco2)N1/N=C\\\\c1ccco1', 'Cc1cc2c(NC(=O)c3ccccc3C(=O)O)cccc2nn1', 'O=C(NNC(=O)c1occc1-c1ccccc1)c1ccccn1', '[H]/N=C(\\\\N)c1cccc(-c2cnc3c(O)ccc(C(=O)O)c3c2)c1', 'CN(C)c1c#cccc1-c1nnc(-c2ccc(C(=O)O)cc2)o1', 'O=C(Nc1cc2ccccc2nn1)c1ccc2c(c1)OCCO2', 'COc1c(C#N)c(C)cc2c3c([nH]c4ccccc43)c(OO)n12', 'COc1ccc2nc(C(C#N)=Cc3ccc(C)o3)[nH]c(=O)c2c1', '[H]/N=c1\\\\oc2cc(C)[nH]c(=O)c2c(-c2ccc(OC)cc2)c1C#N', 'O=C(NNC(=O)c1cc2ccccc2c(=O)[nH]1)c1ccccc1', 'N#Cc1ccc(OCCn2c(-c3ccccc3)noc2=O)cc1', 'O=C1NC(c2ccccc2)C(=O)N1Cc1noc2ccccc12', 'N#Cc1ccc(NC2C(=O)C(=O)C2Nc2ccccc2)c(O)c1', 'Cc1c(C(=O)Nc2cccc3ncccc23)cccc1[N+](=O)[O-]', 'COC(=O)c1ccc(C=NN=C2C(=O)Nc3ccccc32)cc1', 'N#C/C(=C\\\\c1ccccc1O)C(=O)N/N=C\\\\c1ccccc1O', 'N#C/C(=C\\\\c1cccnc1)C(=O)Nc1ccc2c(c1)OCCO2', 'Cc1ccc(-n2c(O)c3c(=O)[nH]c4ccccc4n3c2=O)cc1', 'COc1ccc(Cn2ncc3c(=O)c4ncccc4oc32)cc1', 'O=[N+]([O-])c1ccc(NN=Cc2c(O)ccc3ccccc23)cc1', 'O=C(COC(=O)c1ccc2nccnc2c1)Nc1ccccc1', 'N#Cc1ccc(/C=N\\\\NC(=O)[C@@H]2COc3ccccc3O2)cc1', 'C[C@@]1(c2ccc([N+](=O)[O-])cc2)O[C@@H]1c1cnc2ccccc2n1', 'N#Cc1ccccc1NC(=O)CN1CC(=O)Oc2ccccc21', 'Cc1oc(-c2ccco2)nc1CC(=O)Nc1ccccc1C#N', 'NC(=O)c1ccccc1NC(=O)c1ccc(-c2cnco2)cc1', 'COc1ccc([N+](=O)[O-])cc1/N=N/c1cccc2ccccc12', 'O=C(N/N=C/c1cc(O)ccc1O)c1ccc2ccccc2n1', 'CNc1ccc(/C=C/C(=O)c2cccc(C#N)c2)cc1[N+](=O)[O-]', 'N#Cc1ccc(NC(=O)CN2C(=O)COc3ccccc32)cc1', 'Cc1nc2ccccc2c(=O)n1/N=C/c1ccccc1C(=O)O', 'C=C(NNC(=O)c1ccc2c(c1)OCO2)c1ccc(C#N)cc1', 'CCOn1c2ccccc2c2nc3ccccc3c([N+](=O)[O-])c21', 'COc1ccc2c(c1)C=C(c1nc(-c3ccncc3)no1)CO2', 'CN1C(=O)C=C(c2ccccc2/[N+]([O-])=N/c2ccccc2)C1=O', 'COc1ccc2c(c1)n([O-])c(C#N)c(-c1ccc(C)cc1)[n+]2=O', 'O=C(Cc1cccc2ccccc12)Nc1ccc([N+](=O)[O-])cn1', 'Cc1cc2c(c(-n3c(O)c4ccccc4c3O)c1C)=NC(=O)N=2', 'O=C1N/C(=N/c2ccccc2C(=O)O)N=C1Cc1ccccc1', 'N#Cc1ccc(OCC(=O)N2CC(=O)Nc3ccccc32)cc1', 'COc1ccc2ccc(C34C=CC=CC3C(=O)NC4=O)nc2n1', 'O=C(N[C@H]1COc2ccccc2C1=O)c1cnc2ccccn12', 'CN(Cc1cc2ccccc2o1)c1ccc(C#N)cc1[N+](=O)[O-]', 'COC(=O)c1ncccc1C(=O)c1ccc(-n2ccnc2)cc1', 'O=C1CN=C(c2ccccc2)c2cc([N+](=O)[O-])cc3c2N1CC3', 'Cc1ccc(C=C(C#N)C(=O)Nc2ccccc2[N+](=O)[O-])cc1', 'COc1cccc2cc(C(=O)Nc3ccc4cn[nH]c4c3)oc12', 'Oc1ccc(-c2[nH]ncc2Oc2ccc3cc[nH]c3c2)c(O)c1', 'O=C1NC(Nc2ccccc2)=NC1=Cc1ccc2c(c1)OCO2', 'O=C(NCc1ccc2occc2c1)c1cn[nH]c1-c1ccco1', 'Cc1ccc(C(=O)C(C#N)/N=N/c2ccccc2C(=O)O)cc1', 'O=C1CC(C=Cc2ccc([N+](=O)[O-])cc2)=Nc2ccccc2N1', 'C=[N+]([O-])c1ccc(-n2ccc(-c3cccc(C(=O)O)c3)n2)cc1', 'N#C/C(=C\\\\c1ccc2c(c1)OCCO2)C(=O)Nc1ccccn1', 'O=[N+]([O-])c1ccc(OC(c2ccccc2)c2ccccc2)nn1', 'O=C1c2ccccc2C(=O)N1c1ccc2c(c1)ncn2CCO', 'NC1=NC(=C(C(=O)c2ccc(O)cc2)c2ccc(O)cc2)C=N1', 'O=C1Nc2ccccc2NCC1N1C(=O)c2ccccc2C1=O', 'O=C(N/N=C/c1ccc(O)cc1O)c1ccc2ncccc2c1', 'CN1C(=O)NCc2c1cccc2N1C(=O)c2ccccc2C1=O', 'O=C(/C=C/c1cnc2ccccn12)Nc1ccc2c(c1)OCO2', 'O=C(Nc1cccc(Oc2cnccn2)c1)c1ccccc1O', 'Cc1ccccc1-c1nnc(/C=C/c2ccc([N+](=O)[O-])cc2)o1', 'O=C(c1ccc2cc[nH]c2c1)N1CCc2ccc([N+](=O)[O-])cc21', 'Cc1ccc(-c2nc(-c3ccc4c(c3)oc(=O)n4C)no2)cc1', 'N#Cc1cccc(NC(=O)c2ccc3c(c2)NC(=O)CCO3)c1', 'Nc1nc2cnc(C(=O)Oc3ccccc3)cc2c2c1COC2', 'CC1=NN(c2ccccc2)C(=O)/C1=C\\\\c1cccc([N+](=O)[O-])c1', 'Cn1c(C(=O)/C=C/c2ccc([N+](=O)[O-])cc2)nc2ccccc21', 'O=C(/C=C/c1n[nH]c2ccccc12)Nc1ccc(C(=O)O)cc1', 'C1=C\\\\Oc2[nH]ncc2-c2cncc(c2)OCc2ccccc2O/1', 'O=C(NCc1ncco1)c1ccc2c(c1)OCc1cnccc1-2', 'O=C(N/N=C/c1ccc2c(c1)OCO2)c1c[nH]c2ccccc12', 'COc1nc(-c2ccccc2)c([N+](=O)[O-])c(-c2ccccc2)n1', 'COc1ccc(-c2ccnc(-c3cccc([N+](=O)[O-])c3)n2)cc1']}\n"
     ]
    }
   ],
   "execution_count": 26
  },
  {
   "metadata": {
    "ExecuteTime": {
     "end_time": "2024-12-27T17:33:41.878066Z",
     "start_time": "2024-12-27T17:33:41.876064Z"
    }
   },
   "cell_type": "code",
   "source": [
    "# Check the keys in the batch\n",
    "print(tmp_msn.keys())\n",
    "\n",
    "# Specifically check if 'batch_ptr' is present\n",
    "if 'batch_ptr' in tmp_msn:\n",
    "    print(\"batch_ptr is present:\", tmp_msn['batch_ptr'])\n",
    "else:\n",
    "    print(\"batch_ptr is missing\")"
   ],
   "id": "9e1dd97c544da443",
   "outputs": [
    {
     "name": "stdout",
     "output_type": "stream",
     "text": [
      "dict_keys(['spec', 'mol', 'precursor_mz', 'adduct', 'identifier', 'mol_freq', 'smiles', 'candidates', 'labels', 'batch_ptr', 'candidates_smiles'])\n",
      "batch_ptr is present: tensor([256, 256, 256, 256, 244, 256, 256, 150, 256,  27, 256, 256])\n"
     ]
    }
   ],
   "execution_count": 27
  },
  {
   "metadata": {},
   "cell_type": "markdown",
   "source": "#### Shold be dict_keys(['spec', 'mol', 'precursor_mz', 'adduct', 'mol_freq', 'identifier', 'smiles', 'candidates', 'labels', 'batch_ptr', 'candidates_smiles'])",
   "id": "ef424072a9118b2d"
  },
  {
   "metadata": {
    "ExecuteTime": {
     "end_time": "2024-12-27T17:33:41.921018Z",
     "start_time": "2024-12-27T17:33:41.917381Z"
    }
   },
   "cell_type": "code",
   "source": "tmp_msn.keys()",
   "id": "a4498cf09b5c3638",
   "outputs": [
    {
     "data": {
      "text/plain": [
       "dict_keys(['spec', 'mol', 'precursor_mz', 'adduct', 'identifier', 'mol_freq', 'smiles', 'candidates', 'labels', 'batch_ptr', 'candidates_smiles'])"
      ]
     },
     "execution_count": 28,
     "metadata": {},
     "output_type": "execute_result"
    }
   ],
   "execution_count": 28
  },
  {
   "metadata": {
    "ExecuteTime": {
     "end_time": "2024-12-27T17:33:41.958031Z",
     "start_time": "2024-12-27T17:33:41.955553Z"
    }
   },
   "cell_type": "code",
   "source": "tmp_msn['spec'] ",
   "id": "843fe9326df72b03",
   "outputs": [
    {
     "data": {
      "text/plain": [
       "DataBatch(x=[133, 1039], edge_index=[2, 121], batch=[133], ptr=[13])"
      ]
     },
     "execution_count": 29,
     "metadata": {},
     "output_type": "execute_result"
    }
   ],
   "execution_count": 29
  },
  {
   "metadata": {
    "ExecuteTime": {
     "end_time": "2024-12-27T17:33:41.989722Z",
     "start_time": "2024-12-27T17:33:41.986849Z"
    }
   },
   "cell_type": "code",
   "source": "tmp_msn['precursor_mz']",
   "id": "fc8ed10da30f9581",
   "outputs": [
    {
     "data": {
      "text/plain": [
       "tensor([297.1121, 331.1451, 369.1782, 386.2326, 455.0955, 470.0839, 517.1340,\n",
       "        351.1358, 327.1551, 624.2673, 377.2686, 308.1030])"
      ]
     },
     "execution_count": 30,
     "metadata": {},
     "output_type": "execute_result"
    }
   ],
   "execution_count": 30
  },
  {
   "metadata": {
    "ExecuteTime": {
     "end_time": "2024-12-27T17:33:42.015641Z",
     "start_time": "2024-12-27T17:33:42.012617Z"
    }
   },
   "cell_type": "code",
   "source": "tmp_msn['mol_freq']",
   "id": "dfecc66a8137880d",
   "outputs": [
    {
     "data": {
      "text/plain": [
       "tensor([1., 1., 1., 1., 1., 1., 1., 1., 2., 1., 3., 1.])"
      ]
     },
     "execution_count": 31,
     "metadata": {},
     "output_type": "execute_result"
    }
   ],
   "execution_count": 31
  },
  {
   "metadata": {
    "ExecuteTime": {
     "end_time": "2024-12-27T17:33:42.049538Z",
     "start_time": "2024-12-27T17:33:42.047421Z"
    }
   },
   "cell_type": "code",
   "source": "tmp_msn['identifier']",
   "id": "f3cce6c85a13d606",
   "outputs": [
    {
     "data": {
      "text/plain": [
       "['0073967_0000000',\n",
       " '0029647_0000000',\n",
       " '0073834_0000000',\n",
       " '0014621_0000000',\n",
       " '0025270_0000000',\n",
       " '0036154_0000000',\n",
       " '0005041_0000000',\n",
       " '0005023_0000000',\n",
       " '0004557_0000000',\n",
       " '0082596_0000000',\n",
       " '0002898_0000000',\n",
       " '0091031_0000000']"
      ]
     },
     "execution_count": 32,
     "metadata": {},
     "output_type": "execute_result"
    }
   ],
   "execution_count": 32
  },
  {
   "metadata": {
    "ExecuteTime": {
     "end_time": "2024-12-27T17:33:42.080758Z",
     "start_time": "2024-12-27T17:33:42.078391Z"
    }
   },
   "cell_type": "code",
   "source": "tmp_msn['adduct']",
   "id": "f51053f8670e729f",
   "outputs": [
    {
     "data": {
      "text/plain": [
       "['[M+H]+',\n",
       " '[M+Na]+',\n",
       " '[M+H]+',\n",
       " '[M+H]+',\n",
       " '[M+H]+',\n",
       " '[M+H]+',\n",
       " '[M+H]+',\n",
       " '[M+H]+',\n",
       " '[M+H]+',\n",
       " '[M+H]+',\n",
       " '[M+H-2H2O]+',\n",
       " '[M+H]+']"
      ]
     },
     "execution_count": 33,
     "metadata": {},
     "output_type": "execute_result"
    }
   ],
   "execution_count": 33
  },
  {
   "metadata": {
    "ExecuteTime": {
     "end_time": "2024-12-27T17:33:42.122741Z",
     "start_time": "2024-12-27T17:33:42.120681Z"
    }
   },
   "cell_type": "code",
   "source": "tmp_msn['mol'].shape",
   "id": "1874faafb955f9d4",
   "outputs": [
    {
     "data": {
      "text/plain": [
       "torch.Size([12, 4096])"
      ]
     },
     "execution_count": 34,
     "metadata": {},
     "output_type": "execute_result"
    }
   ],
   "execution_count": 34
  },
  {
   "metadata": {
    "ExecuteTime": {
     "end_time": "2024-12-27T17:33:42.145901Z",
     "start_time": "2024-12-27T17:33:42.143783Z"
    }
   },
   "cell_type": "code",
   "source": "tmp_msn['smiles']",
   "id": "26e13e52cabf0dac",
   "outputs": [
    {
     "data": {
      "text/plain": [
       "['C1COC2=C(O1)C=CC(=C2)C(=O)CCC(=O)C3=CC=CC=C3',\n",
       " 'C1CCC(C1)(CNC(=O)NCC2CCCO2)C3=CSC=C3',\n",
       " 'CC1=CC(=NO1)C2=NN=CC3=C(C(=NN32)OCC4=NC=NN4C)C(C)(C)C',\n",
       " 'C[C@@H]1CCC2[C@@]([C@@]13CC4=C(C=C5C(=C4O3)CNC5=O)O)(CC[C@H](C2(C)C)O)C',\n",
       " 'CC1=NN=C2N1N=C(S2)C3=CC(=CC=C3)NC(=S)NC(=O)C4=C(C=CC=C4OC)OC',\n",
       " 'CC1=CC=CC=C1C2=NOC(=N2)C3=C(C=CS3)S(=O)(=O)N(C)C4=CC5=C(C=C4)OCCO5',\n",
       " 'COC1=CC=C(C=C1)C2=COC3=C(C2=O)C=CC(=C3)O[C@H]4[C@@H]([C@H]([C@@H]([C@H](O4)COC(=O)CC(=O)O)O)O)O',\n",
       " 'CCC(C)/C=C(\\\\C)/C=C/C1=CC2=C(C(=O)C(C(C2=CO1)O)(C)O)Cl',\n",
       " 'CC(C(C12CC1CC=CC2=O)O)NC(=O)C(CC(C(=O)O)O)N',\n",
       " 'CC1=CC(=C(C=C1SC2=CN=C(S2)NC(=O)C3=CC=C(C=C3)CNC(C)C(C)(C)C)C(=O)N4CCN(CC4)C(=O)C)OC',\n",
       " 'CC(CC(C)C(C)O)CC(CC(C)/C=C(\\\\C)/C=C(/CC(C)C(=O)O)\\\\C(=O)O)CO',\n",
       " 'COC1=CC2=C(C=C1)NC(=C2C3=C(C4=CC=CC=C4N3)N=O)O']"
      ]
     },
     "execution_count": 35,
     "metadata": {},
     "output_type": "execute_result"
    }
   ],
   "execution_count": 35
  },
  {
   "metadata": {
    "ExecuteTime": {
     "end_time": "2024-12-27T17:33:42.181474Z",
     "start_time": "2024-12-27T17:33:42.178677Z"
    }
   },
   "cell_type": "code",
   "source": "tmp_msn['labels']",
   "id": "e519fe7ed5121dcc",
   "outputs": [
    {
     "data": {
      "text/plain": [
       "tensor([ True, False, False,  ..., False, False, False])"
      ]
     },
     "execution_count": 36,
     "metadata": {},
     "output_type": "execute_result"
    }
   ],
   "execution_count": 36
  },
  {
   "metadata": {
    "ExecuteTime": {
     "end_time": "2024-12-27T17:33:42.226933Z",
     "start_time": "2024-12-27T17:33:42.216513Z"
    }
   },
   "cell_type": "code",
   "source": "sum(tmp_msn['labels'])",
   "id": "61de3b3ad4572c7a",
   "outputs": [
    {
     "data": {
      "text/plain": [
       "tensor(12)"
      ]
     },
     "execution_count": 37,
     "metadata": {},
     "output_type": "execute_result"
    }
   ],
   "execution_count": 37
  },
  {
   "metadata": {
    "ExecuteTime": {
     "end_time": "2024-12-27T17:33:42.245873Z",
     "start_time": "2024-12-27T17:33:42.243016Z"
    }
   },
   "cell_type": "code",
   "source": "torch.nonzero(tmp_msn['labels'], as_tuple=False).squeeze()",
   "id": "86224621a407862f",
   "outputs": [
    {
     "data": {
      "text/plain": [
       "tensor([   0,  256,  512,  768, 1024, 1268, 1524, 1780, 1930, 2186, 2213, 2469])"
      ]
     },
     "execution_count": 38,
     "metadata": {},
     "output_type": "execute_result"
    }
   ],
   "execution_count": 38
  },
  {
   "metadata": {
    "ExecuteTime": {
     "end_time": "2024-12-27T17:33:42.283599Z",
     "start_time": "2024-12-27T17:33:42.281322Z"
    }
   },
   "cell_type": "code",
   "source": "len(tmp_msn['labels'])",
   "id": "df3c85be4bd961ae",
   "outputs": [
    {
     "data": {
      "text/plain": [
       "2725"
      ]
     },
     "execution_count": 39,
     "metadata": {},
     "output_type": "execute_result"
    }
   ],
   "execution_count": 39
  },
  {
   "metadata": {
    "ExecuteTime": {
     "end_time": "2024-12-27T17:33:42.322903Z",
     "start_time": "2024-12-27T17:33:42.320106Z"
    }
   },
   "cell_type": "code",
   "source": "tmp_msn['batch_ptr']",
   "id": "e30895af70b971cf",
   "outputs": [
    {
     "data": {
      "text/plain": [
       "tensor([256, 256, 256, 256, 244, 256, 256, 150, 256,  27, 256, 256])"
      ]
     },
     "execution_count": 40,
     "metadata": {},
     "output_type": "execute_result"
    }
   ],
   "execution_count": 40
  },
  {
   "metadata": {
    "ExecuteTime": {
     "end_time": "2024-12-27T17:33:42.360235Z",
     "start_time": "2024-12-27T17:33:42.357484Z"
    }
   },
   "cell_type": "code",
   "source": "sum(tmp_msn['batch_ptr'])",
   "id": "cd6581b0abe8464d",
   "outputs": [
    {
     "data": {
      "text/plain": [
       "tensor(2725)"
      ]
     },
     "execution_count": 41,
     "metadata": {},
     "output_type": "execute_result"
    }
   ],
   "execution_count": 41
  },
  {
   "metadata": {
    "ExecuteTime": {
     "end_time": "2024-12-27T17:33:42.383604Z",
     "start_time": "2024-12-27T17:33:42.381287Z"
    }
   },
   "cell_type": "code",
   "source": "len(tmp_msn['candidates'])",
   "id": "bac322d4444ee5ea",
   "outputs": [
    {
     "data": {
      "text/plain": [
       "2725"
      ]
     },
     "execution_count": 42,
     "metadata": {},
     "output_type": "execute_result"
    }
   ],
   "execution_count": 42
  },
  {
   "metadata": {
    "ExecuteTime": {
     "end_time": "2024-12-27T17:33:42.403239Z",
     "start_time": "2024-12-27T17:33:42.400976Z"
    }
   },
   "cell_type": "code",
   "source": "tmp_msn['candidates'][5].shape",
   "id": "5240b59230576227",
   "outputs": [
    {
     "data": {
      "text/plain": [
       "torch.Size([4096])"
      ]
     },
     "execution_count": 43,
     "metadata": {},
     "output_type": "execute_result"
    }
   ],
   "execution_count": 43
  },
  {
   "metadata": {},
   "cell_type": "markdown",
   "source": "### Compare Shapes",
   "id": "8fabb6d3fa7fd1ec"
  },
  {
   "metadata": {
    "ExecuteTime": {
     "end_time": "2024-12-27T17:35:02.491198Z",
     "start_time": "2024-12-27T17:35:02.488863Z"
    }
   },
   "cell_type": "code",
   "source": "tmp_msn.keys() == tmp_original.keys()",
   "id": "1569a73db41d79ad",
   "outputs": [
    {
     "data": {
      "text/plain": [
       "True"
      ]
     },
     "execution_count": 68,
     "metadata": {},
     "output_type": "execute_result"
    }
   ],
   "execution_count": 68
  },
  {
   "metadata": {
    "ExecuteTime": {
     "end_time": "2024-12-27T17:35:02.500889Z",
     "start_time": "2024-12-27T17:35:02.498713Z"
    }
   },
   "cell_type": "code",
   "source": "tmp_msn['batch_ptr'].shape == tmp_original['batch_ptr'].shape",
   "id": "e05b0a2b1e4ecf17",
   "outputs": [
    {
     "data": {
      "text/plain": [
       "True"
      ]
     },
     "execution_count": 69,
     "metadata": {},
     "output_type": "execute_result"
    }
   ],
   "execution_count": 69
  },
  {
   "metadata": {
    "ExecuteTime": {
     "end_time": "2024-12-27T17:35:02.509448Z",
     "start_time": "2024-12-27T17:35:02.507130Z"
    }
   },
   "cell_type": "code",
   "source": "tmp_msn['batch_ptr'].dtype == tmp_original['batch_ptr'].dtype",
   "id": "b606c035c765f275",
   "outputs": [
    {
     "data": {
      "text/plain": [
       "True"
      ]
     },
     "execution_count": 70,
     "metadata": {},
     "output_type": "execute_result"
    }
   ],
   "execution_count": 70
  },
  {
   "metadata": {
    "ExecuteTime": {
     "end_time": "2024-12-27T17:35:02.518204Z",
     "start_time": "2024-12-27T17:35:02.515583Z"
    }
   },
   "cell_type": "code",
   "source": "sum(tmp_msn['batch_ptr']), len(tmp_msn['candidates_smiles'])",
   "id": "f9dae4c8aaa7564b",
   "outputs": [
    {
     "data": {
      "text/plain": [
       "(tensor(2725), 2725)"
      ]
     },
     "execution_count": 71,
     "metadata": {},
     "output_type": "execute_result"
    }
   ],
   "execution_count": 71
  },
  {
   "metadata": {
    "ExecuteTime": {
     "end_time": "2024-12-27T17:35:02.526739Z",
     "start_time": "2024-12-27T17:35:02.524158Z"
    }
   },
   "cell_type": "code",
   "source": "sum(tmp_original['batch_ptr']), len(tmp_original['candidates_smiles'])",
   "id": "67eeb6830a02639a",
   "outputs": [
    {
     "data": {
      "text/plain": [
       "(tensor(2495), 2495)"
      ]
     },
     "execution_count": 72,
     "metadata": {},
     "output_type": "execute_result"
    }
   ],
   "execution_count": 72
  },
  {
   "metadata": {
    "ExecuteTime": {
     "end_time": "2024-12-27T17:35:02.537889Z",
     "start_time": "2024-12-27T17:35:02.535596Z"
    }
   },
   "cell_type": "code",
   "source": "tmp_msn['labels'].dtype == tmp_original['labels'].dtype",
   "id": "da6f7d53ce907f18",
   "outputs": [
    {
     "data": {
      "text/plain": [
       "True"
      ]
     },
     "execution_count": 73,
     "metadata": {},
     "output_type": "execute_result"
    }
   ],
   "execution_count": 73
  },
  {
   "metadata": {
    "ExecuteTime": {
     "end_time": "2024-12-27T17:35:02.547226Z",
     "start_time": "2024-12-27T17:35:02.544697Z"
    }
   },
   "cell_type": "code",
   "source": "tmp_msn['candidates'].dtype == tmp_original['candidates'].dtype",
   "id": "29f2304a3eb0d784",
   "outputs": [
    {
     "data": {
      "text/plain": [
       "True"
      ]
     },
     "execution_count": 74,
     "metadata": {},
     "output_type": "execute_result"
    }
   ],
   "execution_count": 74
  },
  {
   "metadata": {
    "ExecuteTime": {
     "end_time": "2024-12-27T17:35:02.560725Z",
     "start_time": "2024-12-27T17:35:02.558117Z"
    }
   },
   "cell_type": "code",
   "source": "tmp_msn['candidates'][0].shape == tmp_original['candidates'][0].shape",
   "id": "bf61a76af4db9b5a",
   "outputs": [
    {
     "data": {
      "text/plain": [
       "True"
      ]
     },
     "execution_count": 75,
     "metadata": {},
     "output_type": "execute_result"
    }
   ],
   "execution_count": 75
  },
  {
   "metadata": {
    "ExecuteTime": {
     "end_time": "2024-12-27T17:35:02.571663Z",
     "start_time": "2024-12-27T17:35:02.569229Z"
    }
   },
   "cell_type": "code",
   "source": "tmp_msn['candidates'][5].shape == tmp_original['candidates'][5].shape",
   "id": "e28ea4d96f687f0f",
   "outputs": [
    {
     "data": {
      "text/plain": [
       "True"
      ]
     },
     "execution_count": 76,
     "metadata": {},
     "output_type": "execute_result"
    }
   ],
   "execution_count": 76
  },
  {
   "metadata": {
    "ExecuteTime": {
     "end_time": "2024-12-27T17:35:02.581979Z",
     "start_time": "2024-12-27T17:35:02.579613Z"
    }
   },
   "cell_type": "code",
   "source": "type(tmp_msn['smiles']) == type(tmp_original['smiles'])",
   "id": "68573c7361e436dd",
   "outputs": [
    {
     "data": {
      "text/plain": [
       "True"
      ]
     },
     "execution_count": 77,
     "metadata": {},
     "output_type": "execute_result"
    }
   ],
   "execution_count": 77
  },
  {
   "metadata": {
    "ExecuteTime": {
     "end_time": "2024-12-27T17:35:02.590750Z",
     "start_time": "2024-12-27T17:35:02.588490Z"
    }
   },
   "cell_type": "code",
   "source": "type(tmp_msn['smiles'][0]) == type(tmp_original['smiles'][0])",
   "id": "44b90cb38ece920e",
   "outputs": [
    {
     "data": {
      "text/plain": [
       "True"
      ]
     },
     "execution_count": 78,
     "metadata": {},
     "output_type": "execute_result"
    }
   ],
   "execution_count": 78
  },
  {
   "metadata": {
    "ExecuteTime": {
     "end_time": "2024-12-27T17:35:02.599238Z",
     "start_time": "2024-12-27T17:35:02.596769Z"
    }
   },
   "cell_type": "code",
   "source": "len(tmp_msn['smiles']) == len(tmp_original['smiles'])",
   "id": "8493612e08e9479e",
   "outputs": [
    {
     "data": {
      "text/plain": [
       "True"
      ]
     },
     "execution_count": 79,
     "metadata": {},
     "output_type": "execute_result"
    }
   ],
   "execution_count": 79
  },
  {
   "metadata": {
    "ExecuteTime": {
     "end_time": "2024-12-27T17:35:02.607842Z",
     "start_time": "2024-12-27T17:35:02.605625Z"
    }
   },
   "cell_type": "code",
   "source": "type(tmp_msn['candidates_smiles']) == type(tmp_original['candidates_smiles'])",
   "id": "b604f8942bf1362d",
   "outputs": [
    {
     "data": {
      "text/plain": [
       "True"
      ]
     },
     "execution_count": 80,
     "metadata": {},
     "output_type": "execute_result"
    }
   ],
   "execution_count": 80
  },
  {
   "metadata": {
    "ExecuteTime": {
     "end_time": "2024-12-27T17:35:02.621336Z",
     "start_time": "2024-12-27T17:35:02.618873Z"
    }
   },
   "cell_type": "code",
   "source": "type(tmp_msn['candidates_smiles'][0]) == type(tmp_original['candidates_smiles'][0])",
   "id": "1a9910cd68400224",
   "outputs": [
    {
     "data": {
      "text/plain": [
       "True"
      ]
     },
     "execution_count": 81,
     "metadata": {},
     "output_type": "execute_result"
    }
   ],
   "execution_count": 81
  },
  {
   "metadata": {
    "ExecuteTime": {
     "end_time": "2024-12-27T17:35:02.628468Z",
     "start_time": "2024-12-27T17:35:02.626301Z"
    }
   },
   "cell_type": "code",
   "source": "len(tmp_msn['candidates_smiles'])",
   "id": "65f8205061648068",
   "outputs": [
    {
     "data": {
      "text/plain": [
       "2725"
      ]
     },
     "execution_count": 82,
     "metadata": {},
     "output_type": "execute_result"
    }
   ],
   "execution_count": 82
  },
  {
   "metadata": {},
   "cell_type": "code",
   "outputs": [],
   "execution_count": null,
   "source": "",
   "id": "6f62755f6c500d5f"
  }
 ],
 "metadata": {
  "kernelspec": {
   "display_name": "Python 3",
   "language": "python",
   "name": "python3"
  },
  "language_info": {
   "codemirror_mode": {
    "name": "ipython",
    "version": 2
   },
   "file_extension": ".py",
   "mimetype": "text/x-python",
   "name": "python",
   "nbconvert_exporter": "python",
   "pygments_lexer": "ipython2",
   "version": "2.7.6"
  }
 },
 "nbformat": 4,
 "nbformat_minor": 5
}
