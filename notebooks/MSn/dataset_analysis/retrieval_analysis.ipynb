{
 "cells": [
  {
   "cell_type": "code",
   "execution_count": 1,
   "id": "da6a763cea0be904",
   "metadata": {
    "ExecuteTime": {
     "end_time": "2025-02-14T13:39:38.965337Z",
     "start_time": "2025-02-14T13:39:35.571421Z"
    }
   },
   "outputs": [],
   "source": [
    "from massspecgym.data.datasets import MSnDataset, MSnRetrievalDataset, RetrievalDataset\n",
    "import torch"
   ]
  },
  {
   "cell_type": "code",
   "execution_count": 2,
   "id": "22f3a2d12131cd17",
   "metadata": {
    "ExecuteTime": {
     "end_time": "2025-02-14T13:39:51.884938Z",
     "start_time": "2025-02-14T13:39:51.882519Z"
    }
   },
   "outputs": [],
   "source": [
    "file_mgf = \"/Users/macbook/CODE/Majer:MassSpecGym/data/MSn/20241211_msn_library_pos_all_lib_MSn.mgf\"\n",
    "file_json = \"/Users/macbook/CODE/Majer:MassSpecGym/data/Retrieval/MassSpecGym_retrieval_candidates_mass.json\"\n",
    "split_file = \"/Users/macbook/CODE/Majer:MassSpecGym/data/MSn/20241211_split.tsv\""
   ]
  },
  {
   "cell_type": "code",
   "execution_count": 3,
   "id": "c0a04ca978e09c61",
   "metadata": {
    "ExecuteTime": {
     "end_time": "2025-02-14T13:39:52.207660Z",
     "start_time": "2025-02-14T13:39:52.204508Z"
    }
   },
   "outputs": [],
   "source": [
    "from massspecgym.data.transforms import MolFingerprinter, SpecTokenizer\n",
    "from massspecgym.data import RetrievalDataset, MassSpecDataModule"
   ]
  },
  {
   "cell_type": "code",
   "execution_count": 4,
   "id": "db1094d3df48cd7f",
   "metadata": {
    "ExecuteTime": {
     "end_time": "2025-02-14T13:39:54.026800Z",
     "start_time": "2025-02-14T13:39:54.024230Z"
    }
   },
   "outputs": [],
   "source": [
    "pth_massspecgym_original = \"/Users/macbook/CODE/Majer:MassSpecGym/data/MassSpecGym/MassSpecGym.tsv\""
   ]
  },
  {
   "cell_type": "code",
   "execution_count": 5,
   "id": "5346beea048ce5a5",
   "metadata": {
    "ExecuteTime": {
     "end_time": "2025-02-14T13:40:09.021407Z",
     "start_time": "2025-02-14T13:39:55.891926Z"
    }
   },
   "outputs": [],
   "source": [
    "# Init hyperparameters\n",
    "n_peaks = 60\n",
    "fp_size = 4096\n",
    "batch_size = 12\n",
    "\n",
    "# Load dataset\n",
    "dataset_original = RetrievalDataset(\n",
    "    pth=pth_massspecgym_original,\n",
    "    candidates_pth=file_json,\n",
    "    spec_transform=SpecTokenizer(n_peaks=n_peaks),\n",
    "    mol_transform=MolFingerprinter(fp_size=fp_size),\n",
    ")\n"
   ]
  },
  {
   "cell_type": "code",
   "execution_count": 6,
   "id": "d6ceed9debd5cc51",
   "metadata": {
    "ExecuteTime": {
     "end_time": "2025-02-14T13:40:09.027498Z",
     "start_time": "2025-02-14T13:40:09.025542Z"
    }
   },
   "outputs": [],
   "source": [
    "# Init data module\n",
    "data_module_original = MassSpecDataModule(\n",
    "    dataset=dataset_original,\n",
    "    batch_size=batch_size,\n",
    "    num_workers=0,\n",
    ")"
   ]
  },
  {
   "cell_type": "code",
   "execution_count": 7,
   "id": "c4bfe776ab073f74",
   "metadata": {
    "ExecuteTime": {
     "end_time": "2025-02-14T13:40:09.081160Z",
     "start_time": "2025-02-14T13:40:09.034062Z"
    }
   },
   "outputs": [
    {
     "name": "stdout",
     "output_type": "stream",
     "text": [
      "Train dataset size: 194119\n",
      "Val dataset size: 19429\n"
     ]
    }
   ],
   "source": [
    "data_module_original.prepare_data()\n",
    "data_module_original.setup()\n",
    "\n",
    "train_loader_original = data_module_original.train_dataloader()"
   ]
  },
  {
   "cell_type": "code",
   "execution_count": 8,
   "id": "55185d08a14a11ab",
   "metadata": {
    "ExecuteTime": {
     "end_time": "2025-02-14T13:40:10.370715Z",
     "start_time": "2025-02-14T13:40:09.086940Z"
    }
   },
   "outputs": [
    {
     "name": "stdout",
     "output_type": "stream",
     "text": [
      "I am not here\n",
      "{'spec': tensor([[[3.2114e+02, 1.1000e+00],\n",
      "         [4.1038e+01, 1.0710e-02],\n",
      "         [4.2034e+01, 1.5940e-02],\n",
      "         ...,\n",
      "         [2.3407e+02, 6.6300e-03],\n",
      "         [2.3608e+02, 1.5070e-02],\n",
      "         [2.6206e+02, 1.7320e-02]],\n",
      "\n",
      "        [[7.8565e+02, 1.1000e+00],\n",
      "         [9.8984e+01, 8.0546e-03],\n",
      "         [1.0411e+02, 7.5243e-03],\n",
      "         ...,\n",
      "         [1.8436e+02, 1.4384e-03],\n",
      "         [2.6225e+02, 2.7558e-03],\n",
      "         [5.8458e+02, 1.9532e-03]],\n",
      "\n",
      "        [[1.5612e+02, 1.1000e+00],\n",
      "         [4.4049e+01, 8.4590e-02],\n",
      "         [4.4053e+01, 2.4700e-03],\n",
      "         ...,\n",
      "         [0.0000e+00, 0.0000e+00],\n",
      "         [0.0000e+00, 0.0000e+00],\n",
      "         [0.0000e+00, 0.0000e+00]],\n",
      "\n",
      "        ...,\n",
      "\n",
      "        [[2.6714e+02, 1.1000e+00],\n",
      "         [2.4516e+02, 1.4000e-02],\n",
      "         [2.5109e+02, 7.0000e-03],\n",
      "         ...,\n",
      "         [0.0000e+00, 0.0000e+00],\n",
      "         [0.0000e+00, 0.0000e+00],\n",
      "         [0.0000e+00, 0.0000e+00]],\n",
      "\n",
      "        [[5.0610e+02, 1.1000e+00],\n",
      "         [3.2511e+02, 1.0200e-01],\n",
      "         [3.2610e+02, 3.8300e-01],\n",
      "         ...,\n",
      "         [0.0000e+00, 0.0000e+00],\n",
      "         [0.0000e+00, 0.0000e+00],\n",
      "         [0.0000e+00, 0.0000e+00]],\n",
      "\n",
      "        [[3.3818e+02, 1.1000e+00],\n",
      "         [5.8065e+01, 6.8068e-02],\n",
      "         [8.4081e+01, 5.3053e-02],\n",
      "         ...,\n",
      "         [0.0000e+00, 0.0000e+00],\n",
      "         [0.0000e+00, 0.0000e+00],\n",
      "         [0.0000e+00, 0.0000e+00]]]), 'mol': tensor([[0., 0., 0.,  ..., 0., 0., 0.],\n",
      "        [0., 0., 0.,  ..., 0., 0., 0.],\n",
      "        [0., 0., 0.,  ..., 0., 0., 0.],\n",
      "        ...,\n",
      "        [0., 0., 0.,  ..., 0., 0., 0.],\n",
      "        [0., 0., 0.,  ..., 0., 0., 0.],\n",
      "        [0., 0., 0.,  ..., 0., 0., 0.]]), 'precursor_mz': tensor([321.1380, 785.6540, 156.1244, 241.0963, 703.3660, 248.0706, 502.1773,\n",
      "        209.1280, 579.1500, 267.1400, 506.1000, 338.1751]), 'adduct': ['[M+H]+', '[M+H]+', '[M+H]+', '[M+H]+', '[M+Na]+', '[M+H]+', '[M+H]+', '[M+H]+', '[M+H]+', '[M+Na]+', '[M+Na]+', '[M+H]+'], 'mol_freq': tensor([ 3., 26.,  3., 48.,  2.,  6.,  4., 80., 31.,  7., 27., 36.]), 'identifier': ['MassSpecGymID0210403', 'MassSpecGymID0412339', 'MassSpecGymID0223085', 'MassSpecGymID0053840', 'MassSpecGymID0164142', 'MassSpecGymID0181691', 'MassSpecGymID0202689', 'MassSpecGymID0122125', 'MassSpecGymID0302483', 'MassSpecGymID0349661', 'MassSpecGymID0323016', 'MassSpecGymID0032051'], 'smiles': ['CC(C)NC(=O)N1CCCC(C1)C2=NN=C(O2)C3=CC=CS3', 'CCCCCCCCCCCCCCCCCCCCCC(=O)N[C@@H](COP(=O)([O-])OCC[N+](C)(C)C)[C@@H](/C=C/CCCCCCCC/C=C\\\\CCC)O', 'C[C@@H]1N=C(NC(=N1)N(C)C)N', 'CCNC1=NC(=NC(=N1)Cl)NC(C)(C)C#N', 'C[C@@]12CCC3[C@@](C1CC=C4[C@]2(CC[C@@]5(C4C(C(CC5)(C)C)O)C(=O)O[C@H]6[C@@H]([C@H]([C@@H]([C@H](O6)CO)O)O)O)C)(C[C@H]([C@@H]([C@]3(C)C(=O)O)O)O)C', 'CCS(=O)(=O)CCN1C(=NC=C1[N+](=O)[O-])C', 'COC1=CC2=C(C=CN=C2C=C1OC)OC3=CC=C(C=C3)NC(=O)C4(CC4)C(=O)NC5=CC=C(C=C5)F', 'CCC1C(COC1=O)CC2=CN=CN2C', 'C1=CC(=CC=C1C=CC(=O)OC2C(C(C(OC2C3=C(C=C(C4=C3OC(=CC4=O)C5=CC=C(C=C5)O)O)O)CO)O)O)O', 'C1CCN2CC3CC(C2C1)CN4C3=CC=CC4=O', 'COC1=CC2=C(C=C1)NC(=O)C(=C2)C3CC(=O)OC4=C3C5=C(C=C4)C(=O)C(=CO5)C6=CC=CC=C6F', 'CN(C)CC/C=C\\\\1/C2=CC=CC=C2COC3=C1C=C(C=C3)CC(=O)O'], 'candidates': tensor([[0., 0., 0.,  ..., 0., 0., 0.],\n",
      "        [0., 0., 0.,  ..., 0., 0., 0.],\n",
      "        [0., 0., 0.,  ..., 0., 0., 0.],\n",
      "        ...,\n",
      "        [0., 0., 0.,  ..., 0., 0., 0.],\n",
      "        [0., 0., 0.,  ..., 0., 0., 0.],\n",
      "        [0., 0., 0.,  ..., 0., 0., 0.]]), 'labels': tensor([ True, False, False,  ..., False, False, False]), 'batch_ptr': tensor([256, 214, 256, 256, 256, 256, 256, 256, 256, 256, 256, 256]), 'candidates_smiles': ['CC(C)NC(=O)N1CCCC(C1)C2=NN=C(O2)C3=CC=CS3', 'CNC(=O)N/C(C)=C(\\\\C=O)SNc1ccc2c(c1)CNCC2', 'Cc1ncsc1C(=O)N1CCN(Cc2c(C)noc2C)CC1', 'NC(=O)C1CN(C(=O)C2(Cc3cccc(Cl)c3)CCCC2)C1', 'O=S(=O)(NC1CC1)C1CCN(Cc2cnn3ccccc23)C1', 'C=CC(=O)N1CCc2c([nH]c3ccccc23)C1c1cccc(F)c1', 'CC(=O)Nc1ccc(/C=N\\\\NC(=S)NC[C@H]2CCCO2)cc1', 'COc1cccc(F)c1C(=O)NC[C@H]1CC[C@@H](c2ncn[nH]2)O1', 'Cc1ccc(NC(=O)c2cc(C3CC3)nc3ccccc23)cc1F', 'CC(C)NC(=O)N1CCC(c2nnc(-c3ccco3)s2)CC1', 'COCCOC1CCN(c2ccnc3ccc(Cl)cc23)CC1', 'Cc1sc2ncn(CC(=O)NCC(N)C3CC3)c(=O)c2c1C', 'CCc1cnc(N2CCN(C(=O)c3coc(CN)c3)CC2)s1', 'CC1CCc2nc(NC(=O)N3CCOC(C)(C#N)C3)sc2C1', 'CCOC(=O)C1=C(CNC(N)=S)NC(C)=C(C#N)C1C1CC1', 'C=Cn1c(C#CC#CC#Cc2ccc(C#N)cc2)cc2c1CCCC2', 'CC(C)(C)c1noc(C2(c3ccc(Cl)cc3)CCOCC2)n1', 'Cc1ccc(Nc2ccc(NS(=O)(=O)N(C)C)nc2)c(C)c1', 'Nc1ccc(NC(=O)C2CSCN2C(=O)C2CCCC2)cn1', 'Cl.NC1CCN(C(=O)COc2ccc3ccccc3c2)CC1', 'Cc1cc(Cl)c2c(OCCN3CCOCC3)ccc(C)c2n1', 'CCC(C)Nc1ccc(NS(=O)(=O)c2ccccc2C)nn1', 'Cc1ccn(C)c1C(=O)N1C[C@H](O)C[C@H]1c1cc(F)ccc1F', 'CNC(=O)CN(C)C(=O)c1cc(COc2cccc(F)c2)[nH]n1', 'COCC(N)C(=O)N1CCN(c2nc3ccccc3s2)CC1', 'CCN(CC1CCCNC1)C(=O)C(C(F)(F)F)C(F)(F)F', 'Cc1ccc(CN(C)CC(=O)N[C@@H](C)c2ccc(Cl)cc2)o1', 'Cc1csc2c(=O)n(CCC(=O)N3CCN(C)CC3)cnc12', 'Cc1nc(C)c(C#N)c(SCC(=O)N2CC(C)OC(C)C2)n1', 'CCOc1ccccc1NCCNc1ccc(OC)c(Cl)c1', 'CNC(=O)CNCC(=O)Nc1sc2c(c1C#N)CC[C@@H](C)C2', 'C=C(C)CN1CCN(C(=O)[C@@H]2Cc3cc(Cl)ccc3O2)CC1', 'CCn1cnnc1S[C@@H](C)C(=O)Nc1cc(C)ccc1OC', 'Cc1cc(Cl)ccc1NC(=O)[C@@H]1CCCN(C(=O)C2CC2)C1', 'Cc1onc(-c2ccccc2Cl)c1C(=O)N[C@H](C)C(C)(C)C', 'CC(C)(Cc1[nH]c(=O)c(C#N)c2ccc(F)cc12)c1ccccc1', 'Cc1cccc2cc3c(nc12)N(C(=O)Cc1ccc(F)cc1)CC3', 'C#CCN1CCC(C(=O)NCc2cc(Cl)ccc2OC)CC1', 'Cc1c(C(=O)N2C[C@H]3CNC[C@H]3C2)oc2c(C)cccc12.Cl', 'Cn1cc(-c2nc(C(=O)NCC3(C)CCOCC3)cs2)cn1', 'CC1(C)NC(=O)N(CCC(=O)N/N=C\\\\c2ccc(F)cc2)C1=O', 'CCN(C(=O)Cn1nc(C)c([N+](=O)[O-])c1C)c1ccc(F)cc1', 'CC(C)(C)S(=O)(=O)Nc1ccc(CNc2ncccn2)cc1', 'CCC(=O)Oc1c(C)c(C)nn1C(C)c1ccc(C)c(Cl)c1', 'COc1cc(CNC(C)C)cc(Cl)c1OCc1cccnc1', 'CC1(C)C[C@H]2c3cccc(C(=O)[O-])c3C(=O)N2Cc2ccccc21', 'CCOc1ccc(-c2n[nH]c(=S)n2CCC(=O)N(C)C)cc1', 'O=C(c1cc2ccccc2cn1)N1CC(Cc2ccc(F)cc2)C1', 'O=C(N[C@@H]1CC(=O)N(C2CC2)C1)N[C@H](c1nccs1)C1CC1', 'c1ccc2cc(-c3ccc(-c4cn5ccccc5n4)cc3)ccc2c1', 'CCCOc1ccc(C=NNc2nc(N)cs2)cc1OCC', 'C[C@@]1(C2CCCCC2)NC(=O)N(Cc2ccccc2Cl)C1=O', 'C[C@H]([C@@H](C)c1ccc(Cl)cc1)N(C)C(=O)c1ccc(CN)o1', 'Cc1ccccc1-c1ncc(-c2cccc3ccccc23)cc1C#N', 'CCCC(N)C(=O)Nc1nnc(Cc2cccc(OC)c2)s1', 'CO[C@H]1C[C@H](c2nnc(C)o2)N(Cc2cnc(C3CC3)s2)C1', 'CCn1cnnc1S[C@@H](C)C(=O)NCc1ccc(OC)cc1', 'CCCCS(=O)(=O)Nc1ccc(NCc2cccnc2)cn1', 'O=C(O)NCC1CC(NC2CC23CCc2ccc(Cl)cc23)C1', 'CC[C@H]1C[C@@H](C2=CCc3c(Cl)ncnc32)[C@H](OC(C)=O)[C@H]1C', 'O=C(NCc1nc(COc2cccc(F)c2)no1)C1CCCN1', 'Cc1noc(CCCC(=O)N2CCCCC2c2nccs2)n1', 'CCOC(=O)N1N=C(c2ccccc2)[C@H](Cl)[C@H]2CCCC[C@H]21', 'CCCC(Sc1nc2ccccc2[nH]1)C(CC(N)=O)C(N)=O', 'Cc1c(C(=O)N2CCC(C(C)N)CC2)oc2ccc(Cl)cc12', 'c1ccc(-c2ncccc2-n2c3ccccc3c3ccccc32)cc1', 'COCPC(c1ccccc1)(c1ccccc1)c1ccccc1', 'Cc1ccc(Cl)cc1NC(=O)[C@@H]1CC(=O)N(C2CCCC2)C1', 'Cc1cc2nccc(Cl)c2cc1CCNC(=O)OC(C)(C)C', 'ClC(Cc1ccccc1)(Cc1ccccc1)Cc1ccccc1', 'CSC(=S)OCC1CCC(O[Si](C)(C)C(C)(C)C)C1', 'Cc1cc(C(=O)O)nn1Cc1cc(Cl)ccc1CCC(C)C', 'Cc1[nH]c2c(Cl)cccc2c(=O)c1CN1C[C@@H](C)O[C@@H](C)C1', 'CC(O)(CNC(=O)CCc1cccnc1)c1ccc(F)cc1F', 'COc1ccc(C(=O)N2CCO[C@H](c3nncn3C)C2)c(F)c1', 'Cc1noc(C)c1-c1ccc2ccn(Cc3ccc(F)cc3)c2c1', 'CCCOC(=O)/C=C(\\\\C(=O)OCCC)[Si](OC)(OC)OC', 'Cc1cc(=O)[nH]c([C@H](C)N2CCO[C@H](c3nc(C)cs3)C2)n1', 'N#Cc1ccc(S(=O)(=O)N2CCC(N3CCCC3)CC2)cn1', 'CCCOC(=O)C(C)Sc1nnnn1-c1ccc(C)c(C)c1', 'O=C(Nc1ccc(Cl)cc1)C1CCCC=C1N1CCOCC1', 'Cc1ccc(F)cc1NC(=O)C(C)Cn1nc([N+](=O)[O-])cc1C', 'COc1ncccc1NC(=O)C12CC3CC(CC(Cl)(C3)C1)C2', 'CCn1cc(CNC(=S)Nc2ccc(OC)c(OC)c2)cn1', 'CC(=O)c1cc(CC(=O)N[C@H](C)c2nncn2C(C)C)cs1', 'CC1CC(CN)CN1C(=O)c1occc1-c1ccccc1.Cl', 'CC(NC(=O)c1cccc(OCCN)c1)c1cc(F)cc(F)c1', 'COc1ccc(-n2c(C)nnc2SCC(=O)NC(C)C)cc1', 'CC(C)(C)CNc1ccc(S(=O)(=O)Nc2ncccn2)cc1', 'c1cc(-c2nc3ccccc3[nH]2)cc(-c2cccc3ccccc23)c1', 'COc1ccc(-c2nc(SCC(=O)NCC(C)C)n[nH]2)cc1', 'CCc1ccccc1-n1nccc1S(=O)(=O)N1CCNCC1', 'Cc1nn2c(NC(=O)CCC3CCCCC3)csc2nc1=O', 'CN1CCc2c(c3cc(Cl)ccc3n2CC2(O)CCOC2)C1', 'O=C(CN1CSCC1=O)N1CCN(Cc2cccnc2)CC1', 'COc1ccc(OCCN2CCNc3ccccc32)cc1.Cl', 'CCN(CC)c1ncc(S(=O)(=O)c2cccc(C)c2)c(N)n1', 'COC(=O)c1sc2nc(C)nc(N3CCN(C)CC3)c2c1C', 'NC(Oc1ccccc1)C(O)CCCNc1ccccc1Cl', 'COc1ncc(NC(=O)COc2ccccc2F)c(N(C)C)n1', 'CC(C)CC(CNCc1ccc(Cl)c2cccnc12)C(=O)O', 'CC[C@H](NC(=O)c1cc2ccc(Cl)cc2n1C)C1CC(O)C1', 'CCCn1c(S[C@H](C)C(=O)Nc2ccc(C)cc2)n[nH]c1=O', 'COCCCCNC(=O)c1cc2cc(C)cc(C)c2nc1Cl', 'CCN1CCN(C(=O)c2cnc3sc(C)c(C)n3c2=O)CC1', 'C#CCCn1cnc(C#Cc2ccccc2)c1C#Cc1ccccc1', 'Cc1cccc(CNc2ccc(NS(=O)(=O)N(C)C)cn2)c1', 'CC1CN(CCNC(=O)Nc2snc3ccccc23)CCO1', 'CCCCOC(=O)c1cc(N)ccc1Sc1n[nH]c(CC)n1', 'COc1ccc2c(c1)[C@H]1C=CC[C@@H]1[C@H](c1ccc(C(=O)[O-])cc1)N2', 'Cc1nc2ccccc2nc1NC1CCCN(S(C)(=O)=O)C1', '[H]/N=C(\\\\N)N(Cc1c(OC)cccc1OC)c1nc(CC)cs1', 'Cc1csc2nc(CN(CC(N)=O)C3CCCC3)cc(=O)n12', 'CCCNC(=O)C(C)Sc1n[nH]c(-c2ccc(OC)cc2)n1', 'CC(Cl)C(=O)CC(C)C(O)c1cnn(Cc2ccccc2)c1', 'Cc1ccc(/C=C/C(=O)c2cnn(-c3ccc(F)cc3)c2C)cc1', 'OCCCc1ccc(P(c2ccccc2)c2ccccc2)cc1', 'CCn1ncc(NC(=S)Nc2ccc(OC)c(OC)c2)c1C', 'Cc1ccc(-c2nccn2C2CCC(C(=O)O)CC2)c(F)c1F', 'COC(=O)[C@H]1CC[C@@H](Nc2cc(C)nc3c(F)c(F)ccc23)C1', 'CNCC(=O)c1cc(C(C)(C)O)c(F)c(-c2ccc(F)cc2)n1', 'O=C(NCCCn1ccnc1)Nc1cc(F)cc2c1OCOC2', 'C#C.Cc1cccc(Cc2nnc(/C=C/c3ccc(F)cc3)o2)c1', 'NC(=O)c1c(-c2ccccc2)c(CC2CC2)nc2ccc(F)cc12', 'Cc1cc(N2CCO[C@@]3(CCOC3)C2)c2ccc(F)c(F)c2n1', 'COc1ccc(NC(=O)NC[C@H](C)c2nc(C)cs2)c(C)n1', 'O=C(C1Cc2cc(Cl)ccc2O1)N1CCC2(CCNC2)CC1', 'CCC(C)c1ccc(S(=O)(=O)NCCCNC)cc1.Cl', 'CCN1N=C(C(=O)N2CCC[C@H](c3nccs3)C2)CCC1=O', 'COc1ccc2cc3[n+](cc2c1C)CCc1cc2c(cc1-3)OCO2', 'Cc1nnc(CN2CCCC(CNC(=O)c3ccoc3)C2)s1', 'Cc1cccc(C2CCCN2C(=O)c2coc(CN)c2)c1.Cl', 'Cc1nc(-c2cnn(C)c2)sc1C(=O)NC1CCC(O)CC1', 'C[C@H]1CN(C(=O)NCc2ccnn2C)C[C@@H](c2ccsc2)O1', 'Cc1n[nH]c(C)c1S(=O)(=O)N1C[C@@H](N)[C@H](c2ccccc2)C1', 'Cc1ccc2cc3c(nc2c1)N(C(=O)Cc1ccc(F)cc1)CC3', 'C/C=C/C=C/C(=O)N(CC)CC(=O)NCc1ccc(Cl)cc1', 'O=C(O)N1CCC2(CC1)CN(C1CC1)C2c1ccc(Cl)cc1', 'CCc1ncsc1NC(=O)c1c(C)nc(C(C)(C)C)[nH]c1=O', 'CC(C)CC(CN)NC(=O)c1ccc(-c2ccccc2Cl)o1', 'CCO[P+]([O-])(OCC)C12CC1CNC2c1ccc(C#N)cc1', 'CCOc1cc(CNCCc2ccccn2)cc(Cl)c1OC', 'CCOC(OCC)c1ccc(Nc2c(C)cccc2Cl)cn1', 'Cc1noc(CCCC(=O)Nc2nc3c(s2)C[C@@H](C)CC3)n1', 'C[C@@H](C1CCC(c2cccc(Cl)c2)N1C=O)N1CCCC1=O', 'Cc1cc(Cl)cc2c(=O)n(CCCCC3CCCO3)cnc12', 'CC(C)CC(=O)N1CC(=O)N2CCc3ccc(Cl)cc3C2C1', 'COCCNC(=O)N1CCN(c2nc3ccccc3s2)CC1', 'CC1(C)Cc2nc(NC(=O)NC3CC=CCC3)sc2C(=O)N1', 'O=C1CCC(C(=O)NC(c2ccc(Cl)cc2)C2CCCC2)N1', 'N[C@@H]1CN(C(=O)O)CC[C@@H]1NC(=O)c1cc2cc(F)ccc2[nH]1', 'CCCCc1cc(-c2c(F)cccc2F)nnc1CC(=O)OC', 'CCN/C(=N\\\\Cc1ccc(C(N)=O)o1)NC(C)c1cccs1', 'CC(C)CS(=O)(=O)N1CC(n2cc(-c3ccccc3)nn2)C1', 'Cc1nc([C@H]2CCCCN2S(=O)(=O)c2ccccc2C)n[nH]1', 'Clc1ccc(N2CCN(CCOCc3ccco3)CC2)cc1', 'O=C(CN1CCO[C@H](Cn2cccn2)C1)NCc1cccs1', 'CC(C)(C)OC(=O)N1CCN(/C(C#N)=C/c2nccs2)CC1', 'CN1Cc2nccn2CC(CNS(=O)(=O)c2ccccc2)C1', 'Clc1ccc2c(c1)-c1ccccc1C21C2CC3CC(C2)CC1C3', 'CN(CCc1nccs1)C(=O)[C@@H]1CCO[C@H]1c1ccnn1C', 'Cn1cnnc1CC1CCN(S(=O)(=O)Cc2ccccc2)C1', 'COc1ccc(C(=O)N2CCC[C@@](O)(c3cn[nH]n3)C2)cc1F', 'C[C@@H]1CN2CCC[C@@H]2CN1S(=O)(=O)c1c[nH]c2ncccc12', 'COc1ccc(N(CCC(N)=O)Cc2cccc(F)c2F)cc1', 'Cc1cc(C)cc(OCCNC(=O)Nc2ccc(F)cc2F)c1', 'COCCN1C[C@H](Nc2ncnc3sc(C)c(C)c23)CC1=O', 'Cn1c2cc3c(cc2c2c4ccccc4ccc21)[nH]c1ccccc13', 'COc1cccc(CCNCC(=O)Nc2ccc(F)cc2F)c1', 'O=C(NC1CC1)C1CCN(C(=O)Cc2ccc(Cl)cc2)CC1', 'CCS(=O)(CC)=Nc1cnc(-c2cccc(N)c2OC)cn1', 'COc1ccc2cc(CN3C[C@@H](C)O[C@H](C)C3)c(Cl)nc2c1', 'Cc1cc2occ(CC(=O)N3CCN(C)CC3)c2c(C)c1Cl', 'COc1cc(C)ccc1NC(=O)NCCc1ccc(F)cc1F', 'CN(C)CC(=O)Nc1ccc(OCc2ccccc2)cc1.Cl', 'O=c1sn(CCN2CCNCC2)c(=O)n1Cc1ccccc1', 'CCN(CC)C(=O)Cn1c(-c2ccc(OC)cc2)n[nH]c1=S', 'CN(C)S(=O)(=O)c1ccc2c(c1)CCN2Cc1ccnn1C', 'CC(N)(CN)Cc1ccc(S(=O)(=O)Nc2ccccc2)cn1', 'CCc1nnc(SCC(=O)Nc2ccccc2OC)n1CC', 'Cc1ccc(C(=O)C[C@H](C(=O)[O-])c2cn(C)c3ccccc23)cc1', 'c1ccc(-c2ccc3c(n2)c2ccccc2n3-c2ccccc2)cc1', 'CC(NC(=O)N1CC2C3CCC(O3)C2C1)c1cccc(Cl)c1', 'CCC(=O)NC1CCCN(C(=O)C=Cc2cccc(Cl)c2)C1', 'Cc1ccccc1OCCN(C)C(=O)Nc1ccc(F)cc1F', 'O=C1CC[C@@H](C(=O)N[C@H](c2ccc(Cl)cc2)C2CCCC2)N1', 'CN(C)CCN(Cc1cccc(O)c1)C(=O)Nc1nccs1', 'Cc1nc(-c2cccc3ccccc23)nc2cc3ccccc3cc12', 'CCc1cc2c(N[C@H]3CCCN(CCO)C3=O)ncnc2s1', 'N#CCCN(CC1CCC1)C(=O)CCOc1ccccc1Cl', 'CC(CN(C)C(=O)c1cn(Cc2cccc(F)c2)nn1)C(=O)O', 'COc1cc(S(=O)c2cnc(N)nc2N)c(C(C)C)cc1C', 'Cc1ncc(OC[C@@]2(c3cc(F)cc(F)c3)C[C@H]2CO)c(C)n1', 'Cc1cc(C)c(C(=O)N2C[C@@H](O)C[C@@H]2c2cc(F)ccc2F)[nH]1', 'O=C(Nc1cccc(Cl)c1N1CCOCC1)[C@H]1CC=CCC1', 'CCc1nc(N2CCCN(C(=O)Cc3ccsc3)CC2)no1', 'CCCC/N=C1\\\\SCC(c2ccc(C)c([N+](=O)[O-])c2)=NN1C', 'CCCCNC(=O)CSC1=C(C#N)C(C)(C)[C@H](C#N)C(=O)N1', 'CC1=C/C(=N\\\\NC(=O)c2sc(N3CCOCC3)nc2C)CC1', 'c1ccc(-c2cccc(-c3cccc4[nH]c5cccnc5c34)c2)cc1', 'O[C@H]1C[C@H](c2cc(F)ccc2F)N(Cc2cnoc2C2CC2)C1', 'CCc1nnsc1C(=O)NC[C@H](c1ccco1)N1CCCC1', 'Cc1c(C(=O)N2CC[C@@H](CN(C)C)C2)oc2ccc(Cl)cc12', 'CNCCCN1c2ccncc2N(c2ccccc2)S1(O)O', 'CCNc1nc(NC2CCCC2SC)cc(C(F)(F)F)n1', 'CCn1cc(S(=O)(=O)N2CCC[C@@H]2c2ccccn2)c(C)n1', 'CCc1cccc(NC(=O)NCc2ccc(OC(F)F)cc2)c1', 'COc1ccc(C(C)(C)C)cc1NC(=O)CSc1ncn[nH]1', 'O=C(NCc1ccccc1)NCc1cccc(OCC(F)F)c1', 'O=C(Cc1ccc(F)cc1)Nc1cccc(Nc2ccccc2)c1', 'O=S(=O)(CCn1cc(-c2ccncc2)nn1)C1CCCCC1', 'CNS(=O)(=O)N(C)c1cccc2c1CCCC2c1cnc[nH]1', 'NC(Cc1cnc[nH]1)C(=O)NC(Cc1ccc(F)cc1)C(=O)O', 'CCn1nc(C)cc1C(=O)NCC(=O)NCCc1cccs1', 'c1ccc2c(-c3ccn(-c4cccc5ccccc45)n3)cccc2c1', 'CC(C)(C)C(=Cn1ccnc1)OCCOc1ccc(Cl)cc1', 'CCn1ncnc1[C@@H](C)NC(=O)CSc1cccc(OC)c1', 'CN(CCC1CCCCN1)C(=O)C(C(F)(F)F)C(F)(F)F', 'Cc1cc([C@@H]2CCCCCN2Cc2cc(Cl)ccc2O)on1', 'O=C(c1cccc(F)c1)N1CC=C(c2c[nH]c3ccccc23)CC1', 'CC(C)(C)OC(=O)N1CCN(c2ccncc2N=C=S)CC1', 'CCCCOC(=O)CSc1nnnn1-c1ccc(C)cc1C', 'CCC(N)(CC)CNS(=O)(=O)c1cc(C)ccc1C.Cl', 'CC(C)(C)OC(=O)c1ccc(NCc2ccc(F)cc2F)nc1', 'Cc1nc(S(=O)(=O)N2C[C@@H](N)[C@H](c3ccccc3)C2)cn1C', 'CC1(C2c3ccccc3-c3ccccc32)C(=O)CCCN1C(=O)[O-]', 'CC(C)=CCN(Cc1ccc(Cl)cc1)C(=O)C1CCC(=O)N1', 'CNc1ccc2oc3ccc(NCc4ccccc4F)cc3c2c1', 'Cc1nc(CN2CCC[C@H](c3ccnn3CC(=O)O)C2)cs1', 'COC(=O)c1ccnc2ccc(N3CCC(F)(F)CC3C)cc12', 'CCOP(=O)(OCC)C(Nc1ccccc1)c1ccncc1', 'CC(C)CNCc1c(N(C)CC(F)(F)F)nc2sccn12', 'Cc1nc2cc3cc4ccccc4cc3cc2nc1-c1ccccc1', 'CCC(C1CC1)n1cc(-c2ccc(OC)cc2Cl)nc1OC', 'Cc1cnccc1C(=O)N(Cc1ccccc1)c1ccccc1F', 'Nc1ncn([C@H]2C[C@H](O)[C@@H](CO)O2)c(=O)n1.OCC(O)CO', 'CCc1noc(C)c1C(=O)Nc1nnc(C2CCCCC2)s1', 'COCC1CN(C(=O)c2ccc3ccccc3n2)CCC1(F)F', 'COCCNC(=O)[C@H](C)Sc1nnc(C)n1-c1ccccc1', 'Cc1ccc(NC(=O)C2CCN(C(=O)C3CC3)CC2)c(Cl)c1', 'CCCN(CCC)C(=O)c1c(-c2ccccc2Cl)noc1C', 'CC[C@H](CO)N(Cc1ccccn1)C(=O)c1ccc(F)c(F)c1', 'CCc1cc(C(=O)N2CCCC2c2nc(C)c(F)c(=O)[nH]2)on1', 'C=CCNc1ncnc2sc(C(=O)N[C@H](C)COC)c(C)c12', 'Nc1nc2c3ccccc3cc(-c3ccccc3)c2c2ccccc12', 'CC(C)(C(=O)NCC1CCCO1)c1c[nH]c2cc(Cl)ccc12', 'COCCNC(=O)[C@H]1CN(Cc2ccsc2)Cc2cncn21', 'FC(F)Cn1nc(-c2ccn[nH]2)nc1C1CC(n2ccnn2)C1', 'Cc1cc(N(C)C(C)CS(C)(=O)=O)nc(-c2ccncc2)n1', 'CC(C)(C)OC(=O)N1C[C@H]2CC=C(c3ccc(Cl)nc3)[C@H]2C1', 'Cc1nn(-c2ccccc2)c(C)c1C(=O)/C=C/c1cccc(F)c1', 'CC(C)(C)c1nc(-c2ccc(NS(C)(=O)=O)cc2)cnc1N', 'O=C1C=C(n2cc3c(n2)CN(CC2CCCCC2)C3)S(=O)N1', 'O=C(c1ccco1)N1CCC(NCc2c(F)cccc2F)CC1', 'CCS(=O)(=O)Nc1ccc(Nc2ccc(N(C)C)cc2)nc1', 'CC1CCC(C(N)=O)CN1C(=O)C1CC1c1cccc(Cl)c1', 'CCCCCCCCCCCCCCCCCCCCCC(=O)N[C@@H](COP(=O)([O-])OCC[N+](C)(C)C)[C@@H](/C=C/CCCCCCCC/C=C\\\\CCC)O', 'CCCCc1cccc(C(C)Cc2ccc(O)c(CC(C)c3cccc(CCCC)c3CCCC)c2CC(C)c2cccc(CCCC)c2CCCC)c1CCCC', 'CCCCCCCCC/C=C/CC/C=C/C(O)C(COP(=O)([O-])OCC[N+](C)(C)C)NC(=O)CCCCCCCCCCCCCCCCCCCCC', 'CCCCCCCCCCCC/C=C/CC/C=C/C(O)C(COP(=O)(O)OCCN)NC(=O)CCCCCCCCCCCCCCCCCCCCC', 'CCC/C=C/CC/C=C/C(O)C(COP(=O)([O-])OCC[N+](C)(C)C)NC(=O)CCCCCCCCCCCCCCCCCCCCCCCCCCC', 'CCCCCCCCCCCCCCCCCCOC(=O)OCC(C)(COC(=O)OCCCO)C(=O)OCCCCCCCCCCCCCCCCCC', 'CCCCCCCCc1ccccc1C(C)Cc1ccc(O)c(CC(C)c2ccccc2CCCCCCCC)c1CC(C)c1ccccc1CCCCCCCC', 'CCCCC/C=C\\\\CCCCCCCC(=O)OC(COCCCCCCCCCCCCCCCCCCCCCC)COC1OC(CO)C(O)C(O)C1O', 'CCCCC/C=C\\\\C/C=C\\\\CCCCCCCCOC(=O)[C@H](CNC(=O)CN1CCN(CCO)CC1)NC(=O)CCCCCCC/C=C\\\\C/C=C\\\\CCCCC', 'CCCCCCCC/C=C\\\\CCCCCCCCCCCCCC(=O)N[C@@H](COP(=O)([O-])OCC[N+](C)(C)C)[C@H](O)/C=C/CCCCCCCCCCC', 'CCCCCCCCCCC/C=C\\\\C/C=C\\\\CCCCCCCCCC(=O)NC(COP(=O)([O-])OCC[N+](C)(C)C)C(O)CCCCCCCCCCC', 'CCCCCCCCCCCCCC(=O)OC(C)C(OC(=O)CCCCCCCCCCCCC)(OC(=O)CCCCCCCCCCCCC)C(O)(O)O', 'CCCCc1cccc(CC(C)c2ccc(O)c(C(C)Cc3cccc(CCCC)c3CCCC)c2C(C)Cc2cccc(CCCC)c2CCCC)c1CCCC', 'CC(C)(C)CC(=O)C(C)(C)C.CC(C)(C)CC(=O)OCC(=O)C(C)(C)C.CC(C)(C)CCOC(=O)C(C)(C)C.CC(OC(=O)CC(C)(C)C)C(=O)C(C)(C)C', 'CCCCCCCCCC=CCCC=CC(O)C(COP(=O)([O-])OCC[N+](C)(C)C)NC(=O)CCCCCCCCCCCCCCCCCCCCC', 'CCCCCCCCC/C=C/C=C/[C@@H](O)[C@H](COP(=O)([O-])OCC[N+](C)(C)C)NC(=O)CCCCCCCCCCCCCCCCCCCCCCC', 'CCCCCCCCCC(=O)NCCCCCCCC(=O)NCc1cc(COC(=O)CCCCCCCNC(=O)CCCCCCCCC)cc(CN(C)C)c1', 'CCCCC/C=C/CCCC[C@@H](O)[C@H](COP(=O)([O-])OCC[N+](C)(C)C)NC(=O)CCCCCCCCCCCCCCC/C=C/CCCCCCCC', 'CCCCCCC/C=C/CCCC[C@@H](O)[C@H](COP(=O)([O-])OCC[N+](C)(C)C)NC(=O)CCCCCCCCCCCCC/C=C/CCCCCCCC', 'CCC/C=C\\\\CCCCCCCCOCC(COC1OC(CO)C(O)C(O)C1O)OC(=O)CCCCCCCCCCCCCCCCCCCCCCC', 'CCCC/C=C/CC/C=C/C(O)C(COP(=O)([O-])OCC[N+](C)(C)C)NC(=O)CCCCCCCCCCCCCCCCCCCCCCCCCC', 'CCCCCCCC/C=C\\\\CCCCCCCCCC(=O)NC(COP(=O)(O)OCCN)C(O)/C=C/CCCCCCCCCCCCCCCCCC', 'CCCCCCC/C=C\\\\C/C=C\\\\CCCCCCCCCCCC(=O)NC(COP(=O)([O-])OCC[N+](C)(C)C)C(O)CCCCCCCCCCCCC', 'CCCCC/C=C/C/C=C/CCCCCCCC(=O)N[C@@H](COP(=O)([O-])OCC[N+](C)(C)C)[C@H](O)CCCCCCCCCCCCCCCCCCC', 'CCCCCCCCCCCCCCCCCCCCCCCC/C=C/CC/C=C/C(O)C(COP(=O)([O-])OCC[N+](C)(C)C)NC(=O)CCCCCC', 'CCCCCCCCCCCCCCCCCCCCCC/C=C/CC/C=C/C(O)C(COP(=O)([O-])OCC[N+](C)(C)C)NC(=O)CCCCCCCC', 'CCCCCCC/C=C\\\\C/C=C\\\\CCCCCCCCCCCCCCCC(=O)NC(COP(=O)([O-])OCC[N+](C)(C)C)C(O)CCCCCCCCC', 'CCCC/C=C\\\\CCCCCCCCOCC(COC1OC(CO)C(O)C(O)C1O)OC(=O)CCCCCCCCCCCCCCCCCCCCCC', 'CCCCCCCCCCCCCCCCCC(=O)OC[C@H](CC[C@@H]1O[C@H](CO)[C@@H](O)[C@H](O)[C@H]1O)OC(=O)CCCCCCCCCCCCCCCCC', 'CCCCCCC/C=C\\\\CCCCCCCC(=O)NC(COP(=O)([O-])OCC[N+](C)(C)C)C(O)/C=C/CCCCCCCCCCCCCCCCCC', 'CCCCCCCCCCCCCCCCCCCCCCCCCC/C=C/CC/C=C/C(O)C(COP(=O)([O-])OCC[N+](C)(C)C)NC(=O)CCCC', 'CCCCCCCCC/C=C\\\\CCCCCCCC(=O)NC(COP(=O)([O-])OCC[N+](C)(C)C)C(O)/C=C/CCCCCCCCCCCCCCCC', 'CCCCCCCCC/C=C\\\\CCCCCCCCCC(=O)NC(COP(=O)(O)OCCN)C(O)/C=C/CCCCCCCCCCCCCCCCC', 'CCCCCCCCCCCCCCCCCCCC[C@@H](O)C(=O)[C@@H](CO[C@@H]1O[C@H](CO)[C@H](O)[C@H](O)[C@H]1O)[C@H](O)/C=C/CCCCCCCCCC(C)CC', 'CCCCCCCCCCCCCC=CC(O)C(COP(=O)([O-])OCC[N+](C)(C)C)NC(=O)CCC=CCCCCCCCCCCCCCCCCC', 'CCCCCCCCCC/C=C\\\\CCCCCCCCCC(=O)NC(COP(=O)([O-])OCC[N+](C)(C)C)C(O)/C=C/CCCCCCCCCCCCC', 'CCCCCCCCCCC/C=C/CC/C=C/[C@@H](O)[C@H](COP(=O)([O-])OCC[N+](C)(C)C)NC(=O)CCCCCCCCCCCCCCCCCCC', 'CCCCCCCC/C=C/CCCCCCCCCCCC(=O)N[C@@H](COP(=O)([O-])OCC[N+](C)(C)C)[C@H](O)/C=C/CCCCCCCCCCCCC', 'CCCCCCCC/C=C\\\\CCCCCCCCCCOCC(COC1OC(CO)C(O)C(O)C1O)OC(=O)CCCCCCCCCCCCCCCC', 'CCCCCCC/C=C\\\\C/C=C\\\\CCCCCCCCCCCC(=O)NC(COP(=O)(O)OCCN)C(O)CCCCCCCCCCCCCCCC', 'CCCCCCC/C=C\\\\C/C=C\\\\CCCCCCCCCCCCCCCCCC(=O)NC(COP(=O)([O-])OCC[N+](C)(C)C)C(O)CCCCCCC', 'CCCCCC/C=C\\\\CCCCCCCC(=O)OC(COCCCCCCCCCCCCCCCCCCCCC)COC1OC(CO)C(O)C(O)C1O', 'CCCCCCCCCCCCCCCCCCCCC[C@@H](O)C(=O)[C@@H](CO[C@@H]1O[C@H](CO)[C@H](O)[C@H](O)[C@H]1O)[C@H](O)/C=C/CCCCCCCCC(C)CC', 'CCCCCCCCCCCC/C=C/[C@@H](O)[C@H](CO[C@@H]1O[C@H](CO)[C@H](O)[C@H](O)[C@H]1O)C(=O)[C@H](O)CCCCCCCCCCCCCCCCCCCCC', 'CCCCCCCCCCc1cc2c3cc(CCCCCCCC)c(CCCCCCCC)cc3c3nc(C#N)c(C#N)nc3c2cc1CCCCCCCCCC', 'CCC/C=C\\\\CCCCCCCC(=O)NC(COP(=O)([O-])OCC[N+](C)(C)C)C(O)/C=C/CCCCCCCCCCCCCCCCCCCCCC', 'CC.CC.CC=O.CC[C@H](C)[C@H](C)[C@@H](OC1CC(N(C)C)CC(C)O1)[C@](C)(O)C[C@@H](C)CN(C)COC=O.COC.COC(C)=O.CO[C@H](C)[C@]1(C)CO1', 'CCCCCCCCCCC(CCCCCCCCCC)CCCN=[N+]=[N-].[N-]=[N+]=NCCCC(CCCN=[N+]=[N-])N=[N+]=[N-].[N-]=[N+]=NCCCCCCCN=[N+]=[N-]', 'CCCCCCCCCCCCCCCCCCCCCCCCCCCC/C=C/CC/C=C/C(O)C(COP(=O)([O-])OCC[N+](C)(C)C)NC(=O)CC', 'CCCCCCCCCC/C=C\\\\CCCCCCCCCCCC(=O)OC(COCCCCCCCCCCCCC)COC1OC(CO)C(O)C(O)C1O', 'CCCC(Cc1ccccc1)NC(=O)CCCCCCCCCCNC(=O)[C@]12CC[C@@H](C)[C@H](C)C1C1=CCC3[C@@]4(C)CC[C@H](O)C(C)(C)C4CC[C@@]3(C)[C@]1(C)CC2', 'CCCCC/C=C\\\\C/C=C\\\\CCCCCCCCCC(=O)NC(COP(=O)(O)OCCN)C(O)CCCCCCCCCCCCCCCCCCCC', 'C=O.CCCCCCCCCCCCCc1c(CCCCCCCCCCCCC)c(S(=O)(=O)O)c2ccccc2c1CCCCCCCCCCCCC', 'CCCCCCC/C=C\\\\CCCCCCCC(=O)OC(COCCCCCCCCCCCCCCCCCCCC)COC1OC(CO)C(O)C(O)C1O', 'CCCCCCCC/C=C\\\\C/C=C\\\\CCC(=O)NC(COP(=O)([O-])OCC[N+](C)(C)C)C(O)CCCCCCCCCCCCCCCCCCCCC', 'CCCCCCCCCC/C=C/CC/C=C/C(O)C(COP(=O)([O-])OCC[N+](C)(C)C)NC(=O)CCCCCCCCCCCCCCCCCCCC', 'CCCCCCCC/C=C\\\\CCCCCCCCCC(=O)OC(COCCCCCCCCCCCCCCCCC)COC1OC(CO)C(O)C(O)C1O', 'CCCCCCCCCCCCCCCCCCCCCC[C@@H](O)C(=O)[C@@H](CO[C@@H]1O[C@H](CO)[C@H](O)[C@H](O)[C@H]1O)[C@H](O)/C=C/CCCCCCCCC(C)C', 'CCCCCCCCC/C=C\\\\CCCCCCCC(=O)NC(COP(=O)(O)OCCN)C(O)/C=C/CCCCCCCCCCCCCCCCCCC', 'CCCCCCCCCCCCCCCCCCCCC/C=C/CC/C=C/C(O)C(COP(=O)([O-])OCC[N+](C)(C)C)NC(=O)CCCCCCCCC', 'CCCCCCCCCCCCCCCCCCC(=O)OC[C@H](CO[C@H]1OC[C@@H](O)[C@H](O)[C@H]1O)OC(=O)CCCCCCCCCCCCCCCCCC', 'CCCCCCCCC/C=C\\\\CCCCCCCCCCOCC(COC1OC(CO)C(O)C(O)C1O)OC(=O)CCCCCCCCCCCCCCC', 'CCCCC/C=C/C(O)C(COP(=O)([O-])OCC[N+](C)(C)C)NC(=O)CCCCCCCCCCCCCCCCC/C=C\\\\CCCCCCCCCC', 'CCCCC/C=C\\\\C/C=C\\\\CCCCCCCCCCCC(=O)NC(COP(=O)([O-])OCC[N+](C)(C)C)C(O)CCCCCCCCCCCCCCC', 'CCCCCCCCCCCCCCCC/C=C/CC/C=C/C(O)C(COP(=O)(O)OCCN)NC(=O)CCCCCCCCCCCCCCCCC', 'CCCCCCCCCOCC/C=C\\\\CCCCCCC(=O)O.CCCCCCCCCOCC/C=C\\\\CCCCCCC(=O)OCCOCCOCCO', 'CCCCC/C=C\\\\C=C/CCCCCCCCCCCCC(=O)NC(COP(=O)([O-])OCC[N+](C)(C)C)C(O)CCCCCCCCCCCCCCC', 'CCCCCCCCCCCCCC/C=C/CC/C=C/C(O)C(COP(=O)(O)OCCN)NC(=O)CCCCCCCCCCCCCCCCCCC', 'CCC(C)CCCCCCCC/C=C/[C@@H](O)[C@H](CO[C@@H]1O[C@H](CO)[C@H](O)[C@H](O)[C@H]1O)C(=O)[C@H](O)CCCCCCCCCCCCCCCCCC(C)CC', 'CCCCCCCCC/C=C\\\\CCCCCCCC(=O)OC(COCCCCCCCCCCCCCCCCCC)COC1OC(CO)C(O)C(O)C1O', 'CCCCCCCC/C=C/C=C/[C@@H](O)[C@H](COP(=O)([O-])OCC[N+](C)(C)C)NC(=O)CCCCCCCCCCCCCCCCCCCCCCCC', 'CCCCCCCC/C=C/CCCCCCCC(=O)N[C@@H](COP(=O)([O-])OCC[N+](C)(C)C)[C@H](O)CCCC/C=C/CCCCCCCCCCCCC', 'CC1CC(C2CCC3C(C2)C2CC4C(CC2N3C2CCC(C3CCNC5CCCNC53)CC2)SC2CCCCC24)CC2C3CCCCC3N(C3CCCCC3)C12', 'CCCCC/C=C\\\\C/C=C\\\\CCCCCCCC(=O)NC(COP(=O)([O-])OCC[N+](C)(C)C)C(O)CCCCCCCCCCCCCCCCCCC', 'CCCCCCCCCCCCCN(CCC(=O)O[C@H]1CC[C@@]2(C)C(=CCC3C2CC[C@@]2(C)C3CC[C@@H]2[C@H](C)CCCC(C)C)C1)C(=O)SCC(C)N(C)C', 'CCCCCCCCC/C=C/C(O)C(COP(=O)([O-])OCC[N+](C)(C)C)NC(=O)CCCCCCCCC/C=C\\\\CCCCCCCCCCCCCC', 'CCCCCCCCCC/C=C\\\\CCCCCCCCCCCCCCCC(=O)OC(COCCCCCCCCC)COC1OC(CO)C(O)C(O)C1O', 'CC/C=C\\\\C/C=C\\\\CCCCCCCCCCCCCCCCC(=O)NC(COP(=O)([O-])OCC[N+](C)(C)C)C(O)CCCCCCCCCCCCC', 'CCCCCCCCCCCCC=CC[C@@H](O)[C@H](COP(=O)([O-])OCC[N+](C)(C)C)NC(=O)CC=CCCCCCCCCCCCCCCCCCC', 'CCCC/C=C\\\\C/C=C\\\\CCCCCCCC(=O)NC(COP(=O)([O-])OCC[N+](C)(C)C)C(O)CCCCCCCCCCCCCCCCCCCC', 'CCCCCCCCCCCCCCCCCCCC/C=C/CC/C=C/C(O)C(COP(=O)([O-])OCC[N+](C)(C)C)NC(=O)CCCCCCCCCC', 'CCCCCCCCCCCCCCCCCC/C=C/CC/C=C/C(O)C(COP(=O)([O-])OCC[N+](C)(C)C)NC(=O)CCCCCCCCCCCC', 'CCCCCCCCCC/C=C\\\\CCCCCCCCCCCCCC(=O)OC(COCCCCCCCCCCC)COC1OC(CO)C(O)C(O)C1O', 'CCCCCCCC/C=C\\\\CCCCCCCCC(CCCCCCC/C=C\\\\CCCCCCCC)OC(=O)C(CCC(=O)O)NC(=O)C(N)Cc1cnc[nH]1', 'CCCCCCCCCC/C=C/CC/C=C/[C@@H](O)[C@H](COP(=O)([O-])OCC[N+](C)(C)C)NC(=O)CCCCCCCCCCCCCCCCCCCC', 'CCCCCCCCCCCCC/C=C/[C@H](O)[C@@H](COP(=O)([O-])OCC[N+](C)(C)C)NC(=O)CC/C=C\\\\CCCCCCCCCCCCCCCCC', 'CCCCCCCCCC/C=C\\\\CCCCCCCCCCCCCCOCC(COC1OC(CO)C(O)C(O)C1O)OC(=O)CCCCCCCCCC', 'CCCCCCCCCCCCC/C=C/CC/C=C/C(O)C(COP(=O)([O-])OCC[N+](C)(C)C)NC(=O)CCCCCCCCCCCCCCCCC', 'CCCCCCCCCCCCCCCCC/C=C/CC/C=C/C(O)C(COP(=O)([O-])OCC[N+](C)(C)C)NC(=O)CCCCCCCCCCCCC', 'CCCCCCCCCCCCCCCCCCSCCC1OCC2(CO1)COC(CCSCCCCCCCCCCCCCCCCCC)OC2', 'CCCCCC/C=C\\\\C/C=C\\\\CCCCCCCC(=O)NC(COP(=O)(O)OCCN)C(O)CCCCCCCCCCCCCCCCCCCCC', 'CCCCCCCCCCCC/C=C/CC/C=C/C(O)C(COP(=O)([O-])OCC[N+](C)(C)C)NC(=O)CCCCCCCCCCCCCCCCCC', 'CCCC/C=C\\\\CCCCCCCC(=O)OC(COCCCCCCCCCCCCCCCCCCCCCCC)COC1OC(CO)C(O)C(O)C1O', 'CCCCCCCCCC/C=C\\\\CCCCCCCCCCCCCC(=O)NC(COP(=O)(O)OCCN)C(O)/C=C/CCCCCCCCCCCC', 'CCCCCCCCCC/C=C/C(O)C(COP(=O)([O-])OCC[N+](C)(C)C)NC(=O)CCCCCCCCC/C=C\\\\CCCCCCCCCCCCC', 'CCCCCCCCC/C=C\\\\CCCCCCCCOCC(COC1OC(CO)C(O)C(O)C1O)OC(=O)CCCCCCCCCCCCCCCCC', 'CCCCCCCCCCCCCCCCCC(=O)OC[C@H](CC[C@@H]1O[C@H](CO)[C@H](O)[C@H](O)[C@H]1O)OC(=O)CCCCCCCCCCCCCCCCC', 'CCC/C=C\\\\C/C=C\\\\CCCCCCCC(=O)NC(COP(=O)([O-])OCC[N+](C)(C)C)C(O)CCCCCCCCCCCCCCCCCCCCC', 'CCCCCCCCCCCC/C=C/CC/C=C/[C@@H](O)[C@H](COP(=O)([O-])OCC[N+](C)(C)C)NC(=O)CCCCCCCCCCCCCCCCCC', 'CCCC/C=C\\\\C/C=C\\\\CCCCCCCC(=O)NC(COP(=O)(O)OCCN)C(O)CCCCCCCCCCCCCCCCCCCCCCC', 'CCCCCCCC/C=C\\\\CCCCCCCC(=O)NC(COP(=O)([O-])OCC[N+](C)(C)C)C(O)/C=C/CCCCCCCCCCCCCCCCC', 'CCCCCCCCc1ccccc1CC(C)c1ccc(O)c(C(C)Cc2ccccc2CCCCCCCC)c1C(C)Cc1ccccc1CCCCCCCC', 'CCCCC/C=C\\\\C/C=C\\\\CCCCCCCCCC(=O)NC(COP(=O)([O-])OCC[N+](C)(C)C)C(O)CCCCCCCCCCCCCCCCC', 'CCCCCCCCC/C=C/CC/C=C/C(O)C(COP(=O)(O)OCCN)NC(=O)CCCCCCCCCCCCCCCCCCCCCCCC', 'C1CCC2C(C1)C1CCCCC1N2C1NCCC2C1CCN2C1CCC2C(N1)OC1NC(N3CCC4C3CCNC4N3C4CCCCC4C4CCCCC43)CCC12', 'CCCCCCCCCCCCCCCC/C=C/CC/C=C/C(O)C(COP(=O)([O-])OCC[N+](C)(C)C)NC(=O)CCCCCCCCCCCCCC', 'CCC[C@@]1(C)C[C@@H](C)[C@H](O)[C@@H]1O.CCC[C@@]1(C2CC2)C[C@@H](C)[C@H](O)[C@@H]1O.CCC[C@@]1(C2CCC2)C[C@@H](C)[C@H](O)[C@@H]1O.CCC[C@@]1(CCO)C[C@@H](C)[C@H](O)[C@@H]1O', 'CCCC/C=C\\\\CCCCCCC(=O)NC(COP(=O)([O-])OCC[N+](C)(C)C)C(O)/C=C/CCCCCCCCCCCCCCCCCCCCCC', 'CCCCCCCCCC/C=C\\\\CCCCCCCCCCCCCCCCOCC(COC1OC(CO)C(O)C(O)C1O)OC(=O)CCCCCCCC', 'CCCCCCCC/C=C\\\\CCCCCCCCOCC(COC1OC(CO)C(O)C(O)C1O)OC(=O)CCCCCCCCCCCCCCCCCC', 'CCCCCCC/C=C/C=C/[C@@H](O)[C@H](COP(=O)([O-])OCC[N+](C)(C)C)NC(=O)CCCCCCCCCCCCCCCCCCCCCCCCC', 'CC(C)N1C=CCN1.CC(C)N1CCC=N1.CC(C)N1CCCN1.CC(C)N1CCN=N1.CC(C)n1ccnn1.CC(C)n1cnnc1.CC(C)n1nccn1', 'CCCCC/C=C/CC/C=C/[C@@H](O)[C@H](COP(=O)([O-])OCC[N+](C)(C)C)NC(=O)CCCCCCCCCCCCCCCCCCCCCCCCC', 'CCCCCCCCCCC/C=C/CC/C=C/C(O)C(COP(=O)(O)OCCN)NC(=O)CCCCCCCCCCCCCCCCCCCCCC', 'CCCCCCCCCCCCCCCCC/C=C/CC/C=C/C(O)C(COP(=O)(O)OCCN)NC(=O)CCCCCCCCCCCCCCCC', 'CC1NC(N2C3C=CCCC3C3CCC(C4CCC5C6C=CCCC6N(C6CC(C7C=CCC8C=CCCC87)CC(C7CCCCC7)N6)C5C4)CC32)C2C=CCCC12', 'CCCCCCCCCCCCCC/C=C/CC/C=C/C(O)C(COP(=O)([O-])OCC[N+](C)(C)C)NC(=O)CCCCCCCCCCCCCCCC', 'CCCCCCCCCCCCCCCC(=O)NCCC[C@H](NC(=O)CCCCCCCCCCCCCCC)C(=O)NCCNC(=O)OCc1ccccc1', 'CCCCCCCCCCCCCCCCCC(=O)OC[C@@H](CC[C@@H]1O[C@H](CO)[C@@H](O)[C@H](O)[C@H]1O)OC(=O)CCCCCCCCCCCCCCCCC', 'C=CC(C)(C)CC(C)(C)[Si](OC(C)(C)C)(OC(C)(C)C)OC(C)(C)CCC(C)(CC)O[Si](OC(C)(C)CC)(OC(C)(C)CC)C(C)(C)CC(C)(C)C=C', 'CCC(C)CCCCCCCCCCCCCCC[C@@H](O)C(=O)[C@@H](CO[C@@H]1O[C@H](CO)[C@H](O)[C@H](O)[C@H]1O)[C@H](O)/C=C/CCCCCCCCCCCC(C)C', 'CCCCCCCCCC/C=C\\\\CCCCCCCCCCCC(=O)NC(COP(=O)([O-])OCC[N+](C)(C)C)C(O)/C=C/CCCCCCCCCCC', 'CCCCCCC/C=C\\\\CCCCCCCC(=O)NC(COP(=O)(O)OCCN)C(O)/C=C/CCCCCCCCCCCCCCCCCCCCC', 'CCCCCCCCCCCCCCCCCCC(=O)OC[C@H](CO[C@@H]1OC[C@@H](O)[C@H](O)[C@H]1O)OC(=O)CCCCCCCCCCCCCCCCCC', 'CCCCCCCCCCCCCCCCCCC1CC(=O)N(NC(=O)CCN2C(=O)C3(CC(C)(C)NC(C)(C)C3)OC23CCCCCCCCCCC3)C1=O', 'CCCCCCCC/C=C\\\\CCCCCCCCCCCC(=O)NC(COP(=O)(O)OCCN)C(O)/C=C/CCCCCCCCCCCCCCCC', 'CC(=O)C(C)C.CC(C)C(=O)N(C)C.CC(C)C(=O)N1CCCCC1.CC(C)C(=O)N1CCN(C)CC1.CC(C)C(=O)N1CCOCC1.CNC(=O)C(C)C', 'CCCCCC/C=C\\\\CCCCCCCCCC(=O)NC(COP(=O)([O-])OCC[N+](C)(C)C)C(O)/C=C/CCCCCCCCCCCCCCCCC', 'CCCCCCCCCCCCCCCCCCCCCCCCC/C=C/CC/C=C/C(O)C(COP(=O)([O-])OCC[N+](C)(C)C)NC(=O)CCCCC', 'CCCCCc1cccc(Cc2ccc(O)c(Cc3cccc(CCCCC)c3CCCCC)c2Cc2cccc(CCCCC)c2CCCCC)c1CCCCC', 'CCCCCCCCCCC/C=C\\\\CCCCCCCCCC(=O)NC(COP(=O)([O-])OCC[N+](C)(C)C)C(O)/C=C/CCCCCCCCCCCC', 'CCCCCCCC/C=C\\\\CCCCCCCC(=O)OC(COCCCCCCCCCCCCCCCCCCC)COC1OC(CO)C(O)C(O)C1O', 'CC(C)c1ncc2c(c1C(C)C)C2.CC(C)c1ncc2c(c1C(C)C)CC2.CC(C)c1ncc2c(c1C(C)C)CCC2.CC(C)c1ncc2c(c1C(C)C)CCCC2', 'CCCCCC/C=C\\\\C/C=C\\\\CCCCCCCCCC(=O)NC(COP(=O)(O)OCCN)C(O)CCCCCCCCCCCCCCCCCCC', 'CCCCCCC/C=C\\\\C/C=C\\\\CCCCCCCCCCCCCC(=O)NC(COP(=O)([O-])OCC[N+](C)(C)C)C(O)CCCCCCCCCCC', 'O=C(OCCCN(CCCOC(=O)C(Br)Br)CCCOC(=O)C(Br)Br)C(Br)Br', 'CCCCC/C=C\\\\C/C=C\\\\CCCCCCCCOC(=O)C(CNC(=O)CCCCCCC/C=C\\\\C/C=C\\\\CCCCC)NC(=O)CCN1CCN(CO)CC1', 'CCCCC/C=C/CC/C=C/C(O)C(COP(=O)([O-])OCC[N+](C)(C)C)NC(=O)CCCCCCCCCCCCCCCCCCCCCCCCC', 'CCCCCCCCCCCCCCCCCCCCCCC/C=C/CC/C=C/C(O)C(COP(=O)([O-])OCC[N+](C)(C)C)NC(=O)CCCCCCC', 'CCCCCCC/C=C\\\\C/C=C\\\\CCCCCCCCCCCCCCCCCCCC(=O)NC(COP(=O)([O-])OCC[N+](C)(C)C)C(O)CCCCC', 'CCCCCCCc1ccccc1C(C)C(C)c1ccc(O)c(C(C)C(C)c2ccccc2CCCCCCC)c1C(C)C(C)c1ccccc1CCCCCCC', 'CCCCCC/C=C\\\\CCCC(=O)NC(COP(=O)([O-])OCC[N+](C)(C)C)C(O)/C=C/CCCCCCCCCCCCCCCCCCCCCCC', 'CCCCCCCC/C=C\\\\CCCCCC(=O)NC(COP(=O)([O-])OCC[N+](C)(C)C)C(O)/C=C/CCCCCCCCCCCCCCCCCCC', 'CCCCCCCC/C=C\\\\CCCCCCCC(=O)OC[C@H](CO[14C](=O)C12CC3CC(CC(C3)C1)C2)OC(=O)CCCCCCC/C=C\\\\CCCCCCCC', 'CCCCCCCCCCCC/C=C/[C@@H](O)[C@H](CO[C@@H]1O[C@H](CO)[C@H](O)[C@H](O)[C@H]1O)C(=O)[C@H](O)CCCCCCCCCCCCCCCCCC(C)CC', 'CCCCCCCC/C=C/CCCCCCCCCCCCCC(=O)N[C@@H](COP(=O)([O-])OCC[N+](C)(C)C)[C@H](O)/C=C/CCCCCCCCCCC', 'CCCCCCCCN(CCCCCCCC)c1cc2c(ccc3c2ccc2c4ccc5[nH]c(N(CCCCCCCC)CCCCCCCC)cc5c4ccc32)[nH]1', 'CCCCCCCCC/C=C\\\\CCCCCCCCCC(=O)OC(COCCCCCCCCCCCCCCCC)COC1OC(CO)C(O)C(O)C1O', 'CCCCC/C=C\\\\C/C=C\\\\CCCCCCCC(=O)NC(COP(=O)(O)OCCN)C(O)CCCCCCCCCCCCCCCCCCCCCC', 'CC(C)CCCCCCCC/C=C/[C@@H](O)[C@H](CO[C@@H]1O[C@H](CO)[C@H](O)[C@H](O)[C@H]1O)C(=O)[C@H](O)CCCCCCCCCCCCCCCCCCCC(C)C', 'CCCCCCCC/C=C/CCCCCCCCCCCCCCCC(=O)N[C@@H](COP(=O)([O-])OCC[N+](C)(C)C)[C@H](O)/C=C/CCCCCCCCC', 'CCCCCCCC/C=C\\\\CCCCCCCCCCCC(=O)N[C@@H](COP(=O)([O-])OCC[N+](C)(C)C)[C@H](O)/C=C/CCCCCCCCCCCCC', 'CCCCCCCC/C=C\\\\CCCCCCCCCCCCOCC(COC1OC(CO)C(O)C(O)C1O)OC(=O)CCCCCCCCCCCCCC', 'CC.CCC12C(C)C(C)CN3CCC4(c5cc(C6(C)CC7(C)CN(CCC8=C6C(C)c6ccccc68)C(C#N)C(C)(C)C7(C)C)c(C)cc5N(C)C4C(C)(C)C1C)C32', 'CCCCCCCCCCc1ccccc1Cc1ccc(O)c(Cc2ccccc2CCCCCCCCCC)c1Cc1ccccc1CCCCCCCCCC', 'CCCCC/C=C\\\\C/C=C\\\\CCCCCCCCOC(=O)[C@@H](CNC(=O)CCCCCCC/C=C\\\\C/C=C\\\\CCCCC)NC(=O)CCN1CCN(CO)CC1', 'CCCCCCCC/C=C/CCCCCCCCCC(=O)N[C@@H](COP(=O)([O-])OCC[N+](C)(C)C)[C@H](O)CCCC/C=C/CCCCCCCCCCC', 'CCCCCCC/C=C/CC/C=C/C(O)C(COP(=O)([O-])OCC[N+](C)(C)C)NC(=O)CCCCCCCCCCCCCCCCCCCCCCC', 'CCCCCCCCCCCCC/C=C/CC/C=C/[C@@H](O)[C@H](COP(=O)([O-])OCC[N+](C)(C)C)NC(=O)CCCCCCCCCCCCCCCCC', 'CCCCCCCC/C=C/CC/C=C/C(O)C(COP(=O)([O-])OCC[N+](C)(C)C)NC(=O)CCCCCCCCCCCCCCCCCCCCCC', 'CCCCCCCCCCC/C=C/CC/C=C/C(O)C(COP(=O)([O-])OCC[N+](C)(C)C)NC(=O)CCCCCCCCCCCCCCCCCCC', 'CCCCCCCC/C=C/CC/C=C/C(O)C(COP(=O)(O)OCCN)NC(=O)CCCCCCCCCCCCCCCCCCCCCCCCC', 'CCCCC/C=C\\\\CCCCCCCC(=O)NC(COP(=O)([O-])OCC[N+](C)(C)C)C(O)/C=C/CCCCCCCCCCCCCCCCCCCC', 'O=C1CC(C2CCCCC2)OC2C1CC(C1CCC(C3CCC(N(C4CCCCC4)C4CCCCC4)CC3)CC1)CC2N1C2CCCCC2C(=O)C2CCCCC21', 'CCCCCCCCCCCCC/C=C/CC/C=C/C(O)C(COP(=O)(O)OCCN)NC(=O)CCCCCCCCCCCCCCCCCCCC', 'CCCCCCCC/C=C/CCCCCCCCCC(=O)N[C@@H](COP(=O)([O-])OCC[N+](C)(C)C)[C@H](O)/C=C/CCCCCCCCCCCCCCC', 'CCCCCC/C=C/CC/C=C/[C@@H](O)[C@H](COP(=O)([O-])OCC[N+](C)(C)C)NC(=O)CCCCCCCCCCCCCCCCCCCCCCCC', 'CCCCCCCC/C=C\\\\CCCCCCCC(=O)NC(COP(=O)(O)OCCN)C(O)/C=C/CCCCCCCCCCCCCCCCCCCC', 'CCCCCCCC/C=C\\\\CCCCCCCCCCCC(=O)OC(COCCCCCCCCCCCCCCC)COC1OC(CO)C(O)C(O)C1O', 'CCCCCCC/C=C/CC/C=C/[C@@H](O)[C@H](COP(=O)([O-])OCC[N+](C)(C)C)NC(=O)CCCCCCCCCCCCCCCCCCCCCCC', 'C[NH+](C)CC[NH+](C)CC[NH+](C)C.C[NH+](C)CC[NH+](C)CC[NH+](C)C.[Li+].[Li+].[O-]/C(=C\\\\c1ccccc1)Cc1ccccc1.[O-]/C(=C\\\\c1ccccc1)Cc1ccccc1', 'CCCCCCCC/C=C\\\\CCCCCCCCOCC(CN(C)C(=O)CCCCCCC/C=C\\\\CCCCCCCC)OP(=O)([O-])OCC[N+](C)(C)C', 'CCCCCCCCCC/C=C\\\\CCCCCCCCCCCCOCC(COC1OC(CO)C(O)C(O)C1O)OC(=O)CCCCCCCCCCCC', 'CCCCCCCc1ccccc1C(C)(C)Cc1ccc(O)c(CC(C)(C)c2ccccc2CCCCCCC)c1CC(C)(C)c1ccccc1CCCCCCC', 'CCCCCC/C=C\\\\C/C=C\\\\CCCCCCCC(=O)NC(COP(=O)([O-])OCC[N+](C)(C)C)C(O)CCCCCCCCCCCCCCCCCC', 'CCCCCCCCCCC/C=C\\\\CCCCCCCC(=O)NC(COP(=O)([O-])OCC[N+](C)(C)C)C(O)/C=C/CCCCCCCCCCCCCC', 'CCCCC/C=C\\\\C/C=C\\\\CCCCCCCCCCCC(=O)NC(COP(=O)(O)OCCN)C(O)CCCCCCCCCCCCCCCCCC', 'CCCCCCCCCCCCCCCCNC(=O)C[C@H](NC(=O)C[C@H](N)C(=O)OCc1ccccc1)C(=O)NCCCCCCCCCCCCCCCC', 'CCCCCCCCCCCCCCC/C=C/CC/C=C/C(O)C(COP(=O)(O)OCCN)NC(=O)CCCCCCCCCCCCCCCCCC', 'CCCCCCCCC/C=C/C(O)C(COP(=O)([O-])OCC[N+](C)(C)C)NC(=O)CCCCCCCCCCCCC/C=C\\\\CCCCCCCCCC', 'CCCCC/C=C\\\\C=C/CCCCCCCCC(=O)NC(COP(=O)([O-])OCC[N+](C)(C)C)C(O)CCCCCCCCCCCCCCCCCCC', 'CCCCCCC/C=C\\\\C/C=C\\\\CCCCCCCCCCCCCC(=O)NC(COP(=O)(O)OCCN)C(O)CCCCCCCCCCCCCC', 'CCCCCC/C=C\\\\CCCCCCCC(=O)NC(COP(=O)([O-])OCC[N+](C)(C)C)C(O)/C=C/CCCCCCCCCCCCCCCCCCC', 'CCCCCCCCC/C=C/CC/C=C/[C@@H](O)[C@H](COP(=O)([O-])OCC[N+](C)(C)C)NC(=O)CCCCCCCCCCCCCCCCCCCCC', 'CCCCCCCC/C=C/CC/C=C/[C@@H](O)[C@H](COP(=O)([O-])OCC[N+](C)(C)C)NC(=O)CCCCCCCCCCCCCCCCCCCCCC', 'CCCCCCCC/C=C\\\\CCCCCCCCCC(=O)NC(COP(=O)([O-])OCC[N+](C)(C)C)C(O)/C=C/CCCCCCCCCCCCCCC', 'CCCCCCCCCCCCCCCCCCc1cc(O)n(NC(=O)CCN2C(=O)C3(CC(C)(C)NC(C)(C)C3)OC23CCCCCCCCCCC3)c1O', 'CC1(C)CC2(CC(C)(C)N1)OC1(CCCCCCCCCCC1)N(CC(O)CN1C(=O)C3(CC(C)(C)NC(C)(C)C3)OC13CCCCCCCCCCC3)C2=O', 'CCCCCCC/C=C\\\\CCCCCCCCOCC(COC1OC(CO)C(O)C(O)C1O)OC(=O)CCCCCCCCCCCCCCCCCCC', 'CCCCCC/C=C\\\\CCCCCCCCOCC(COC1OC(CO)C(O)C(O)C1O)OC(=O)CCCCCCCCCCCCCCCCCCCC', 'C=C.CC.CC.CC.CC.CC.CCC.CCc1c(C)ccc2c(C)c(C)c(S(=O)(=O)O)cc12.CCc1cc(C)ccc1C.COc1cc(C)c(C)cc1C', 'CCCCCCCCCC/C=C\\\\CCCCCCCCCCCC(=O)NC(COP(=O)(O)OCCN)C(O)/C=C/CCCCCCCCCCCCCC', 'CCCCCCCC/C=C/CCCCCCCCCCCC(=O)N[C@@H](COP(=O)([O-])OCC[N+](C)(C)C)[C@H](O)CCCC/C=C/CCCCCCCCC', 'CCCC/C=C\\\\CCCCCCCC(=O)NC(COP(=O)([O-])OCC[N+](C)(C)C)C(O)/C=C/CCCCCCCCCCCCCCCCCCCCC', 'CCCCCC/C=C/CC/C=C/C(O)C(COP(=O)([O-])OCC[N+](C)(C)C)NC(=O)CCCCCCCCCCCCCCCCCCCCCCCC', 'CCCCC/C=C\\\\CCCCCCCCOCC(COC1OC(CO)C(O)C(O)C1O)OC(=O)CCCCCCCCCCCCCCCCCCCCC', 'CCCCCCCCP(O)CCCCCCCC.CCCCCCCCP(O)CCCCCCCC.C[CH-]C.C[CH-]C.C[CH-]C.C[CH-]C.O=[Ti]', 'CCC/C=C\\\\CCCCCCCC(=O)OC(COCCCCCCCCCCCCCCCCCCCCCCCC)COC1OC(CO)C(O)C(O)C1O', 'CCCCCCCC/C=C\\\\CCCCCCCCCCCC(=O)NC(COP(=O)([O-])OCC[N+](C)(C)C)C(O)/C=C/CCCCCCCCCCCCC', 'CCCCCCCCCCCCCCCCCCC/C=C/CC/C=C/C(O)C(COP(=O)([O-])OCC[N+](C)(C)C)NC(=O)CCCCCCCCCCC', 'CCCCCCCCCCCCCCC/C=C/CC/C=C/C(O)C(COP(=O)([O-])OCC[N+](C)(C)C)NC(=O)CCCCCCCCCCCCCCC', 'CCCCCCCCC/C=C/CC/C=C/[C@H](O)[C@@H](COP(=O)([O-])OCC[N+](C)(C)C)NC(=O)CCCCCCCCCCCCCCCCCCCCC', 'CCCCCCCCCCC/C=C/C(O)C(COP(=O)([O-])OCC[N+](C)(C)C)NC(=O)CCCCCCCCC/C=C\\\\CCCCCCCCCCCC', 'CCC/C=C/C(O)C(COP(=O)([O-])OCC[N+](C)(C)C)NC(=O)CCCCCCCCCCCCCCCCCCC/C=C\\\\CCCCCCCCCC', 'CCCCCC/C=C\\\\C/C=C\\\\CCCCCCCCCC(=O)NC(COP(=O)([O-])OCC[N+](C)(C)C)C(O)CCCCCCCCCCCCCCCC', 'CCCCCCC/C=C/C(O)C(COP(=O)([O-])OCC[N+](C)(C)C)NC(=O)CCCCCCCCCCCCCCC/C=C\\\\CCCCCCCCCC', 'CCCCCCCC/C=C/CCCCCCCC(=O)N[C@@H](COP(=O)([O-])OCC[N+](C)(C)C)[C@H](O)/C=C/CCCCCCCCCCCCCCCCC', 'CCCCCCCCCCCCCCCCCCC[C@@H](O)C(=O)[C@@H](CO[C@@H]1O[C@H](CO)[C@H](O)[C@H](O)[C@H]1O)[C@H](O)/C=C/CCCCCCCCCCCC(C)C', 'CCCCCCCCC/C=C\\\\CCCCCCCCCC(=O)NC(COP(=O)([O-])OCC[N+](C)(C)C)C(O)/C=C/CCCCCCCCCCCCCC', 'C.C=C(C)CC.C=C1CCC2C3CCc4cc(OC(=O)N5CCC(N(CCC)CCC)CC5)c(C)cc4C3CCC12C.CC.[B]C([B])(C)C([B])(C)CCCSC', 'CCCCCCCCCCCCCCCCCCCCCCCCCCC/C=C/CC/C=C/C(O)C(COP(=O)([O-])OCC[N+](C)(C)C)NC(=O)CCC', 'CC(C)c1ccc(N2CCC(C(C)C)CC2)cc1F.CC(C)c1cnc(N2CCC(C(C)C)C(C)C2)nc1.Cc1cc(C(C)C)cnc1N1CCC(C(C)C)CC1', 'CCCCCCCCCC/C=C/CC/C=C/C(O)C(COP(=O)(O)OCCN)NC(=O)CCCCCCCCCCCCCCCCCCCCCCC', 'CCCCCCCCCCCCCC(=O)OCC(CO)OC(=O)C(CCCCCC)(CCCCCCCCCCCCCCCCCC(=O)O)CC(O)CO', 'C[C@@H]1N=C(NC(=N1)N(C)C)N', 'CNC(C)Cc1nnn(C)n1', 'CN(C)c1nc(CN)nn1C', 'CC(CC#N)N(C)C(N)=NN', 'CNC(C)Cn1cc(N)nn1', 'NCCc1cn(CCN)nn1', '[2H]C([2H])([2H])C([2H])([2H])c1ccc(B(O)O)cc1', 'C[N+]12CCC(CC1)C(=NO)C2', 'CCC(NN)c1cn[nH]c1N', 'Cn1nncc1NCCCN', 'O=[N+]1CCCC2CCCN1C2', 'CCCCNc1nnnn1C', 'C[C@]12CCC(=O)N1CCC[NH2+]2', 'Cc1nc(C)n(CCNN)n1', 'CCn1ccc[n+]1CCOC', 'CC[N+]1(C)CCN=CCC1=O', 'CCC(C)Cn1nnnc1N', 'Cc1c(C(C)(C)C)no[n+]1C', 'CC(C)NCc1n[nH]nc1N', 'C/N=C1\\\\N[C@@H](C)N=C(N)N1C', 'CC.[H]/N=N/c1nc[nH]c1CN', 'CCC(NC)c1nnn(C)n1', 'CC1CCC2CN1[N+](C)=C2O', '[H]/N=C(\\\\N)C1CCCN1/C(N)=N/[H]', 'C[N+](C)(C)CCOC1=NC=C1', 'CC(C)NCc1nnn(C)n1', '[H]/N=C(\\\\N)[C+]1CCCC(CO)C1', 'CC[C@H](C)[C@H](N)c1nn[nH]n1', 'COCCn1cc[n+](C)c1C', 'C/N=C/N/C(C)=C(\\\\N)N=CN', 'CCCNCc1nnn(C)n1', 'CCNc1n[nH]nc1N(C)C', 'NCCCCNc1cn[nH]n1', '[H]/N=N/C(NC#N)N(C)CCC', 'CN(C)Cc1nc(N)n(C)n1', 'CN(C)NCc1ncnn1C', 'CC(C)C(CN)c1nn[nH]n1', 'CC(C)=C(C)[NH2+]C=CC(N)=O', 'CC(C)CNCc1nn[nH]n1', 'C1CNCCN1.c1cn[nH]n1', '[H]/N=C(\\\\N)[C+]1CCC(OC)CC1', 'CCN(CC)n1cnc(N)n1', 'CC[n+]1cc[nH]c1CCCO', 'CC[C@H](C)CNc1nn[nH]n1', 'CCC(N)(CC)c1nn[nH]n1', 'C[N+]1(N)[C@@H]2CC[C@H]1CC(=O)C2', 'C/N=N/N=C(N)[C@@H]1CCNC1', 'CC(C)c1c[nH][n+](CCO)c1', 'Cc1[nH]c(CCCO)c[n+]1C', 'CCCC[C@H](N)c1nn[nH]n1', 'CNc1nnnn1CC(C)C', 'C[N+]12CCCC1C(=O)NCC2', 'CCCn1ncnc1CNN', 'Cc1n(CC(C)O)cc[n+]1C', 'CCCn1nnnc1NCC', 'C=CCC1=[N+](C(C)O)CCN1', 'CN1C(N)=NC(N)=NC1(C)C', 'CCCN[C@@H](C)c1nn[nH]n1', 'CC1=NC(CCCO)=C[NH+]1C', 'CNCC1C=CC=C[NH+]1OC', '[H]/N=C(\\\\N=C(N)N)N(C)C1CC1', 'CC(N)C(C)c1nnnn1C', 'CC(=O)CC/[NH+]=C(\\\\C)C=CN', 'C=[N+](C)CC(=O)N1CCCC1', 'CC(C)C1=CN=[N+](CCO)C1', 'Cc1nnn(CC(C)(C)N)n1', 'C=CC(N)CCC1=NNNN1', '[2H]C([2H])([2H])C([2H])([2H])c1cccc(B(O)O)c1', 'CC#[N+]CCN1CCOCC1', 'NCCN1NN=C(C2CC2)N1', 'CC(C)(N)CCn1cnnn1', 'CNc1nnc(C(C)N)n1C', 'C[N+]1(C)CCC=C(/C=N\\\\O)C1', 'NC1(N)C2C=CC(N2)C1(N)N', 'CCC(C)NCc1nn[nH]n1', 'CCC1N=C(N)N/C(=N/C)N1', '[N-]=[N+]=NCCN1CCNCC1', 'CC[N+]1(CC#N)CCOCC1', 'CC(C)(CCN)c1nn[nH]n1', 'CC.Cc1nc(N)nc(N)n1', 'CN1CCN=C(N=C(N)N)C1', '[H]/N=C(N=C(N)N)\\\\N=C\\\\CCC', 'C=C(N)N/C(N)=C\\\\C(N)=N\\\\C', 'CN1CCNC(CN=[N+]=[N-])C1', 'CNCc1nn(C)c(N)c1N', 'CCCC(NN)c1cn[nH]n1', 'CC[C@@H](C)n1nc(N)nc1N', 'CCn1c(CN)nnc1NC', 'CNCCCn1ncc(N)n1', 'COC1=[N+](C)N=C(C(C)C)C1', 'NCCCn1cc(CN)nn1', 'C/N=c1\\\\ncncn1N.CC', 'C[C@H](N)Cn1cc(CN)nn1', 'CC(=O)[N+]12CCNCC1CC2', 'CC(=O)CN1CC[N+](C)=C1C', 'CC1C(N)=NC(N)=C(N)[C@@H]1N', 'CC1=C(N)C(N)=NC(C)N1N', 'CCCNC(C)c1nn[nH]n1', 'CCNc1nnnn1C(C)C', 'CCc1nnn(CCCN)n1', 'CCN(C)c1nnnn1CC', 'C=CC(C)/N=C(\\\\N)N=C(N)N', 'CCCNc1nnc(N)n1C', 'CC(C)C[C@H](N)c1nn[nH]n1', 'NCCCCc1nc(N)n[nH]1', 'C#[N+]C(=O)[C@H](C(C)C)N(C)C', '[H]/N=C(\\\\C)C(=NN=NN)C(C)C', 'CNNC(C)c1nncn1C', 'CNCC(C)n1ncc(N)n1', 'CC(C)c1nnc(NN)n1C', 'Cc1nnnn1CCN(C)C', 'CC(C)C(C)C[n+]1ncco1', 'Cn1ncnc1CNCCN', 'C[N+](C)(N)C1C=CC(O)=CC1', 'CO.Cc1cc(N)ccc1[NH3+]', 'CCCCN(C)c1nn[nH]n1', 'Cc1c(CO)[n+](C)c(C)n1C', 'CN(C)[NH+]1CCCC2C(=O)C21', 'CC(C)(C)/C=[N+]1/CCC(=O)N1', 'CCC(C)C1=NNC(N)=NN1', 'CC(C)n1cc[n+](CCO)c1', 'CC(C)(C)c1nnc(N)n1N', 'C=NC(C(N)N)C(N)C#CN', '[CH2]C(=C)C(C)NC(=O)N(C)C', 'CCC(C)Nc1n[nH]c(N)n1', 'C[N@+]12CCC[C@@H]1CNC(=O)C2', 'C=CCNC(=O)C1CCC[NH2+]1', 'CCCC(NN)c1ncn[nH]1', 'CC[C@@H](N)c1nc(N)n(C)n1', 'CN(C)c1n[nH]nc1N(C)C', 'CC(C)n1cc(NN)c(N)n1', 'CC(O)CCc1[nH]cc[n+]1C', 'CC1([C@@H]2CCCN2)N=NNN1', 'CCc1nc(NCCN)n[nH]1', 'CC(C)CCn1nnnc1N', 'CC(N)Cn1cc(CN)nn1', 'CNCC(C)(C)c1nn[nH]n1', 'CCCCCNc1nn[nH]n1', 'C/C(=C\\\\O)C1=[N+](C)CCN1C', 'CNCCc1nc(N)n(C)n1', 'N#CC1CC[NH+](CCO)CC1', 'CC(C)Nn1ncc(N)c1N', 'CCCNC1=NCN=C(N)N1', 'CCC(C)Nc1nnnn1C', 'C[n+]1ccn(CCCCO)c1', 'C[N@@+]12CCC[C@H]1C(=O)NCC2', 'COC(C)n1cc[n+](C)c1C', 'CC(C)N1CN=C(N)N=C1N', 'CN(C)CCCc1nn[nH]n1', 'CC(C)CNc1n[nH]c(N)n1', 'C=C(C#N)C[N+](C)(C)CCO', 'CC(CN)Cc1nnn(C)n1', 'CC(=O)C1(C)CNC(C)=[N+]1C', 'CCNCCc1nnn(C)n1', 'CC(C)(C#N)[NH+]1CCOCC1', 'NC1=CC(N)C(N)=C(N)C1N', 'CCC(C)(N)c1nnnn1C', 'CC1N=CNC(N)=C(N)C1N', 'CC(C)C(O)n1cc[n+](C)c1', 'CC[n+]1ccn(C(C)(C)O)c1', 'CC(C)C1=CC(N)=NN(N)N1', 'Cc1cc(C[N+](C)(C)C)on1', 'CCn1cc[n+](CCCO)c1', 'N#CC(N)CCCN=C(N)N', 'CC1([NH3+])CN(C(=O)C2CC2)C1', 'NC(N)=N/C(N)=N/CC1CC1', 'CN(C)Cc1nc(N)nn1C', 'NC(=[NH2+])O[C@H]1C[C@@H]2CC[C@H]1C2', 'CC(C)CC=[N+]=CCC(N)=O', 'CCn1c(C)cc(OC)[n+]1C', 'CN(C)NCc1nncn1C', 'C/C=N\\\\N/C(=N/C)N/N=C/C', 'CNc1nnc([C@@H](C)N)n1C', 'CNCc1cn(CNC)nn1', 'CC(C)C(NN)c1cn[nH]n1', 'Cn1cnnc1NCCCN', 'CNc1nc(N(C)C)nn1C', '[H]/N=N/N=C(/N)C1CCCNC1', 'CCC(N)Cc1nnnn1C', 'CCCc1nnnn1CCN', 'C[N@@+]12CCC[C@H]1CNC(=O)C2', 'CN(C)/C=C(\\\\C=O)C=[N+](C)C', 'C1CCNC1.N#CN=C(N)N', 'CN(C)C1=NCN=C(N)N1C', 'CC(O)CCn1cc[n+](C)c1', 'CC1=NNC(NN)=NC1(C)C', 'CC1(/N=C(\\\\N)N=C(N)N)CC1', 'C/N=C1/NC(N)=NCC(C)N1', 'C/N=C(\\\\NC#N)N(C)CCN', 'CCn1nnnc1CCCN', 'C[C@H](O)CCn1cc[n+](C)c1', '[H]/N=C(\\\\N=C(N)N)N1CCCC1', 'C1=CNNC1.NN1CC=CN1', 'NC(N)=NNC1=NCCCC1', '[H]/N=C(N)/C(N)=C(C)\\\\N=C(/C)N', 'CC(C)Nc1n[nH]c(CN)n1', 'CC1=[N+](O)C=NC1(C)C(C)C', 'CC(CCN)c1nnn(C)n1', 'CN(N)C(N)Cc1cnc[nH]1', 'NC1N2CN3CN(C2)CN1C3', 'CN(C)/C(=N\\\\CCN)NC#N', 'CCNc1nnc(N)n1CC', 'CC1=CC(C)N(C)C(=O)[NH+]1C', 'C=C(C)C/N=C(\\\\N)N=C(N)N', 'NCCCc1c(N)n[nH]c1N', 'CC(C)Nn1c(N)cnc1N', 'C/N=C1\\\\NC(C)N=C(N)N1C', 'C1CCNCC1.c1nn[nH]n1', 'CCn1nnc(C(C)CN)n1', 'CC(N)c1nnnn1C(C)C', 'C=[N+](C)C1CNC2(COC2)C1', 'C1CCc2nnnn2CC1.N', 'CC(=O)[N+]1=CCN(C)CC1C', 'CC(C)C1(N)N=CNC(N)=N1', 'CNCC(C)c1nnnn1C', 'C[C@@]12CCC(=O)N1CCC[NH2+]2', 'COCCC[N+]1(C)C=CN=C1', 'CCCCCNn1cnnn1', 'COCn1c(C)cc(C)[n+]1C', 'CC(C)(N)Cn1cc(N)nn1', '[B]=CN1CCN(C)CC(F)C1', 'Cc1n(CCCO)cc[n+]1C', 'CN(C)NCc1cn(C)nn1', 'CNCCn1cc(CN)nn1', 'CP(C)C1CCCCC1.[B]', 'C=C1NC(C)(C)N([O])C1(C)C', 'CCCCc1nc(NN)n[nH]1', 'CC/N=C1/NC(N)=NC(C)N1', 'CN1C(N)=NC(C)(C)N=C1N', 'CCC(C)c1onc(C)[n+]1C', '[H]/N=C/N=C/[C@H](C)[C@H](C)/N=N/N', 'CCOn1cc[n+](C(C)C)c1', 'CCC(N)Cc1nnn(C)n1', 'NC(N)=N/C(N)=N/C1CCC1', 'CC1=NC(C)(C)C(C)(C)N1[O]', 'COCCCn1cc[n+](C)c1', 'CCn1nc(N)c(CN)c1N', 'NCC[N+]12C[C@@H]1CCCC2=O', 'COC(C)Cc1[nH]cc[n+]1C', 'CC(C)[C@@H](N)c1nc(N)n[nH]1', 'CN1[NH+]=CC(C(C)(C)C)C1=O', 'CNNC1CCC1CN=[N+]=[N-]', 'CCC(NN)c1cnn(C)n1', 'CCCn1cc[n+](COC)c1', '[2H]CC#CCNC(=O)CCCN', 'CNC(N)C(C)n1nccn1', 'Cc1n[nH]nc1N(N)C(C)C', 'C=C(/N=C\\\\NN)/N=C/N(C)C', 'CCn1nncc1NN(C)C', 'CCC(NN)c1cnnn1C', 'CC(C)n1cc(CNN)nn1', 'Cc1nc(N(C)CCN)n[nH]1', 'CC(=O)[N+]12CCN(CC1)CC2', 'CCCN(N)c1n[nH]nc1C', 'CC[C@H](O)Cn1cc[n+](C)c1', '[3H]C(C)CC([3H])(O)c1ccccn1', 'CCNC1=NC(=NC(=N1)Cl)NC(C)(C)C#N', 'Cc1ccc(OCc2nc3ncccc3o2)cc1', 'CCC(OC(=O)c1ccc(N)c(F)c1)C(N)=O', 'C=COCCOc1ccccc1C=C(C#N)C#N', 'NC(=O)c1cccc(/C(=N\\\\O)c2ccccc2)c1', 'Cc1c(C(=O)c2cnn(C)c2)oc2ccccc12', 'COc1cc2c(cc1O)C=Nc1ccccc1N2', 'CC(C)N(CCC#N)C(=O)C(F)(F)C(F)F', 'CC(N)CC(=O)CCC(N)OP(=O)(O)O', 'Cc1nc(-c2ccc(C(F)(F)F)cc2)[nH]c1C', 'Cc1cc(C=O)nc(C2Cc3ccccc3O2)n1', 'Cc1ccc(F)c(NC(=O)C(N)CC(=O)O)c1', 'Cc1cc2nc3cccc(O)c3[n+]([O-])c2cc1C', 'NCC#Cc1ccc(N2C(=O)C3CC3C2=O)cc1', 'O/N=C(C(=N/O)\\\\c1ccccc1)/c1ccccc1', 'N[C@H]1C2C3C([C@@H]32)[C@H]1N1C(=O)c2ccccc2C1=O', 'CC1OCCC1Nc1cccc(F)c1[N+](=O)[O-]', 'CCC/C(C#N)=C(/N)c1cc(F)c(F)c(F)c1', 'COC1(Cc2cc(F)ccc2[N+](=O)[O-])CNC1', 'CCOC(=O)c1cccn2c1nc1ccccc12', 'O=[N+]([O-])c1cc(F)cc(NC2(CO)CCC2)c1', 'COc1cccc(-c2ccn(C)c(=O)c2C#N)c1', 'CCOC(=O)/C(C#N)=C/c1cc2ccccc2[nH]1', 'CCc1cn(-c2ccc(C(F)(F)F)cc2)cn1', 'O=C(c1cccc(=O)[nH]1)N1CCc2ccccc21', 'Cc1ccc2oc(C(O)c3ccnnc3)cc2c1', 'O=C(N1C[C@H](CF)NCC12CC2)C(F)(F)F', 'O=[N+]([O-])c1ccc(N2CCCC(O)C2)c(F)c1', 'Cc1cccc2cc(C(O)c3cncnc3)oc12', 'Nc1ccc2c(c1)c(O)c(O)c1cc(N)ccc12', 'Cc1cccc2[nH]c(-c3cccc(O)c3O)nc12', 'NC1CCC(Oc2ccc(F)cc2[N+](=O)[O-])C1', 'NN=Cc1ccc(OC(=O)c2ccccc2)cc1', 'N#CCc1ccccc1Cn1cccc1C(=O)O', 'N#Cc1cc(OC2CCOC2)nc2ccccc12', 'C#C[C@@H](C)OC(=O)c1cccc(-n2cccn2)c1', '[Cl-].[H]/N=c1\\\\n(CC)c2ccccc2n1CCO', 'Oc1ccccc1C=NN=Cc1ccccc1O', 'Cc1ccc(-c2nc3c(C)cccc3c(=O)[nH]2)o1', 'Nc1cc2ccc3cc(N)c(O)cc3c2cc1O', 'CC1=C(C(=O)NC2CCC(=O)NC2=O)C[C@H]1F', 'Cn1ccc(-c2nc3c4cn[nH]c4ncn3n2)n1', 'COC(=O)CC#Cc1ccc(-n2cccn2)cc1', 'N#CC1CCCC1Nc1c(F)cc(F)cc1F', 'CC#CCOc1cc(Oc2ccccc2)ncn1', 'O=C(O)C[N+](O)(CC(=O)O)Cc1ccccc1', 'Cl.[H]/N=C(\\\\N)CC(N)Nc1ccc(C#N)cn1', 'Cc1ccc(-c2nccc(/C=C/C(=O)O)n2)cc1', 'CN(CC(F)(F)F)CC1(CC(N)=S)CC1', 'C=CCOc1cc(C#N)c(C#N)cc1OCC=C', 'NCCCC(=O)Nc1ccc(C(=O)O)cc1F', 'CCc1ccc(-c2ccn(C(F)(F)F)n2)cc1', 'CC(N)c1ccc2c(C(F)(F)F)cncc2c1', 'O=c1cccnn1Cc1ccc(C#CCO)cc1', 'Nc1ccc2cc3c(cc2c1)C(=O)C(N)C(=O)C3', 'O=C(NCc1ccoc1)c1cccc2cc[nH]c12', 'COc1ccc2c(C)cc3nc(C=O)cn3c2c1', 'Cc1cc(O)cc(=O)n1Cc1cccc(C#N)c1', 'C[C@H](NCC(=O)Nc1cccc(F)c1)C(=O)O', 'C1=NCCC[NH2+]1.C1=NCCC[NH2+]1.[Cl-].[Cl-]', 'O=C(Nc1ccc2c(c1)CCO2)c1cccnc1', 'Nc1ccc(F)cc1.Nc1ccc(F)cc1F', 'OC(c1ccoc1)c1ccn(-c2ccccc2)n1', 'Nc1ccccc1C1OC(=O)c2cccc(N)c21', 'COCC(=O)c1nccc2c1[nH]c1ccccc12', 'COCCOC(=O)c1ccccc1ON(C)[O-]', 'C=C/C=c1\\\\c(=C)nc(-c2ccccc2O)[nH]c1=O', 'C=CC(=C)C=Cc1nc2c(N)cccc2c(=O)o1', 'CN(CCO)C(=O)C(=O)Nc1cccc(F)c1', 'Cc1ccnc(-c2cc(/C=C/C(=O)O)ccn2)c1', 'O=Nc1ccc(/C=C/c2ccc(NO)cc2)cc1', 'CC(C)c1cnc2cccc(C(F)(F)F)c2n1', 'O=C(O)c1ccnc(C2CCc3ccccc32)n1', 'O=[N+]([O-])c1cc(C2CCNCC2)c(O)cc1F', 'Cc1cc(NC(=O)C(N)CC(=O)O)ccc1F', 'COC(=O)OC1(N)CCN(OC)CC1.Cl', '[H]/N=N/C(=O)C(O)(c1ccccc1)c1ccccc1', 'CC(CCC(=O)O)NC(=O)c1ccc(F)nc1', 'CNc1nc(Cl)nc(NCC(C)(C)C#N)n1', 'Nc1cccc(C=Cc2ccc([N+](=O)[O-])cc2)c1', 'CC[C@@H](NC(=O)c1ccc(N)cc1F)C(=O)O', 'COc1nc2[nH]c(C)cc(=O)c2c2ccccc12', 'Cc1ccnc(N[C@@H]2OC(=O)c3ccccc32)c1', 'COc1ccc(Cn2cccc2C=O)cc1C#N', 'C1=C(Nc2cccc(-c3ccccc3)n2)OCO1', 'Cc1nn(C)c(NN)c1Cn1cc(Cl)cn1', 'COc1cc(C=O)nc2c3ccccc3n(C)c12', 'CCOC(=O)C(=C=[N-])[n+]1cccc2ccccc21', 'COP(O)OCC(CO)NC(=O)CCN', 'C[C@@H](O)c1ccc(Oc2ccccc2C#N)nc1', 'COc1cc(-c2ccncc2)cc(C#N)c1OC', 'O=C(O)c1ccnc(N2CCCC2CO)c1F', 'Nc1cc([N+](=O)[O-])ccc1/C=C/c1ccccc1', 'O=C1CCNC(=O)c2[nH]c(-c3ccccc3)cc21', 'CN(C(=O)c1cc2occc2[nH]1)c1ccccc1', 'Cc1cn(Cc2ccccc2C(F)(F)F)cn1', 'Cc1cc2cc(C(=O)N3CC(C#N)C3)ccc2o1', 'NC(=O)C(O)CNC(=O)Cc1ccccc1F', 'COc1cccc(Oc2ccc(N)cc2C#N)c1', 'COc1ccc(-n2c(C)ccc(C#N)c2=O)cc1', 'C[C@@H]1CCn2c1nc1cc(C(F)(F)F)ccc12', 'CC1CN(c2cccc(F)c2[N+](=O)[O-])CCO1', 'N[C@H]1C[C@@H]2CC[C@H]([C@H]1F)N2C(=O)C(F)(F)F', 'O=C(Nc1ccccc1)C(=NO)c1ccccc1', 'Cl.N[C@@H](CCCCNC(=O)CO)C(=O)O', 'CC(=O)NC1CNC(CO)C(O)C1O.Cl', 'CCCC1(C(=O)[O-])/C(=C/CO)O[C@@H]2CC(=O)N21', 'O=C1CCc2cc(-c3cccnc3)c(O)cc2N1', 'FC(F)(F)c1cccc(CCn2ccnc2)c1', 'O=C(NO)n1c2c(c3ccccc31)CC=CC=C2', 'COc1nc(C)c(C#Cc2ccccc2)c(=O)[nH]1', 'Cc1cc(C(F)(F)F)nn1Cc1ccccc1', 'C#CCN(C)C(=O)c1coc(-c2ccccc2)n1', 'Cc1cnc(-c2ccc(C(F)(F)F)cc2)n1C', 'Cc1cc(OC2CCNC2)c(F)cc1[N+](=O)[O-]', 'FC(F)(F)[C@H]1NCCc2c1[nH]c1ccccc21', 'O=[N+]([O-])c1ccc(CC2(O)CCNC2)cc1F', 'CCNc1ccc2c3c(cccc13)C(=O)NC2=O', 'Cc1cc2c(cc1-c1cc(C#N)c(C)[nH]1)OCO2', 'O=[N+]([O-])c1ccc(F)cc1CNC1CCOC1', 'FC(F)(F)c1ccc2ncn(C3CCC3)c2c1', 'Cc1nc2c(=O)n3c4c(cccc4c2o1)CCC3', 'CC(c1ccccc1)n1c(=O)oc2cccnc21', 'O=Nc1ccc(CCc2ccc(N=O)cc2)cc1', 'Cc1ccc(NC2(C(F)(F)F)CC2)c(C#N)c1', 'Cc1cc(-c2ccn[nH]2)nc(-c2ccnn2[O-])c1', 'O=[N+]([O-])c1ccc([N+]2([O-])CCCCC2)c(F)c1', 'Cn1c(N)ccc1-c1ccccc1C(F)(F)F', 'C=CNC(=O)c1cc2ccccc2cc1C(N)=O', 'COc1cccc(-n2c(=O)[nH]c3ccccc32)c1', 'O=C(O)C(=NNc1ccccc1)c1ccccc1', 'NC1(c2cc3cccc(C(F)(F)F)c3[nH]2)CC1', 'NC(=NOC(=O)c1ccccc1)c1ccccc1', 'Cc1ccc(C#N)cc1Oc1ncccc1CO', 'CC(C(=O)O)C(C)C(=O)Nc1ccc(F)nc1', '[H]/N=C/c1cccc(-c2ccccc2NC(=O)O)c1', 'N#Cc1cccc2c1N[C@@H](C(=O)O)[C@H]1CC=C[C@H]21', 'N#Cc1ccncc1OCCOc1ccccc1', 'Cc1cc(C)n(-c2nnc(C(C#N)C#N)nn2)n1', 'O=C(c1ncccn1)c1cccc2c1OCCC2', 'C=C1CC(c2cn3ccccc3cc2=O)C(=O)N1', 'NC(=O)C1=CC=CC2Oc3ccc(N)cc3C2=C1', 'N#CC(c1ccc(O)cc1)N(O)c1ccccc1', 'Cc1ccc(C2(O)C(=O)Nc3ccccc32)nc1', 'C#CCC/C(O)=C(\\\\C#N)C(=O)Nc1ccccc1', 'FC(F)(F)c1ccc(NCc2cc[nH]c2)cc1', 'CN1OCc2nc(-c3ccccc3)ccc2C1=O', 'COc1ccc2cc(C3=NNC(=O)C3)ccc2c1', 'Cn1nnnc1SCC[NH2+]Cc1ccco1', 'COc1cccc2oc(-c3ccccc3N)nc12', 'COC(=O)c1cc2[nH]c3ccccc3c2c(C)n1', 'Cc1nn(C)c(Cl)c1CC(N)c1cn[nH]n1', 'COC(=O)CCNC(=O)c1cc(N)ccc1F', 'C[C@@H]1CN(c2cc(F)cc([N+](=O)[O-])c2)CCO1', 'COc1ccc2c(c1)[nH]c1cccc(C(N)=O)c12', 'Oc1ccc(O)c(Cc2nc3ccccc3[nH]2)c1', 'CC1=NC(c2ccccc2)C=C(C(F)(F)F)N1', 'COc1cc(C)ccc1Oc1cc(C#N)ccn1', 'NNc1nn2nnnc2c2[nH]c3ccccc3c12', 'Cc1cc[nH]c1/C=C1\\\\C(=O)Nc2ccc(O)cc21', 'COc1ccccc1Cc1ccc(C#N)c(=O)[nH]1', 'Cc1cc(C(=O)O)nc(C2Cc3ccccc32)n1', 'CCc1nc2c([nH]1)C(=O)C1OC1c1ccccc1-2', 'COc1ccccc1-c1cn2ccc(=O)cc2[nH]1', '[C-]#[N+]c1ccc(OCc2ccc(OC)cc2)cn1', 'CCCNc1ccnc2cc(F)c(F)c(F)c12', 'COc1nc2c(C)cccc2c2c(O)cncc12', 'Cc1nc(C)c2[nH]c3ccccc3c2c1C(=O)O', 'COC(=O)CN(C)C(=O)[C@@H](N)[C@@H](C)O.Cl', 'Cc1c(C(F)(F)F)nc2c(C)cccc2c1N', 'N#Cc1cc(O)c(O)c(C#N)c1C1C=CCCC1', 'Cc1c[nH]c(C=C2C(=O)Nc3ccc(O)cc32)c1', 'O=[N+]([O-])c1cc(F)cc(N(CCO)C2CC2)c1', 'Cn1cnc2ccc(Oc3ccccc3O)cc21', 'C#CCCNC(=O)C(=O)c1c[nH]c2ccccc12', 'CC1=C(C)C(=O)N(Cc2cccc(C#N)c2)C1=O', 'CC(CN)C(=O)Nc1ccc(C(=O)O)cc1F', 'O=C(c1ccc(=O)[nH]c1)N1Cc2ccccc2C1', 'COc1cc(OC)nc(C#Cc2ccccc2)n1', 'Cc1cc2ccccc2nc1NCC(F)(F)F', 'COc1ccc(Oc2cccc(C#N)c2)cc1N', 'C=CCC[C@@H](N)c1cc(F)cc([N+](=O)[O-])c1O', 'CCCNc1ccnc2c(F)cc(F)c(F)c12', 'CN(CC(=O)c1ccco1)c1ccccc1C#N', 'OCC1(CO)COC(Nc2ccccc2F)=N1', 'CC(CC(=O)O)Nc1ccc(C(N)=O)cc1F', 'NC1CCCc2[nH]c3c(F)cc(F)c(F)c3c21', 'Nc1c(O)cccc1C#Cc1cccc(O)c1N', 'Cc1ccccc1-n1c(=O)[nH]c2cccc(O)c21', 'CN(C)C(=O)[C@]1(C#N)C=C1c1ccccc1C=O', 'Cc1cc(F)cc(NC(=O)N(C)CC(=O)O)c1', '[H]/N=C(\\\\OCC)c1occ(-c2ccccc2)c1C#N', 'CC(=O)NCCNc1ccc(F)c(C(=O)O)c1', 'COC(=O)c1ccc2c3cnccc3n(C)c2c1', 'CC(C)/C=C/C=C\\\\C(C(C)Cl)C(F)(F)F', 'COc1ccc(-c2nc3ccccc3o2)c(N)c1', 'COc1ccc(COc2cccnc2C#N)cc1', 'CCCCCCC[Si](Cl)(Cl)CCC', 'COc1cc(C#N)ncc1Oc1ccc(C)cc1', 'COC(=O)CCN(C)C(=O)c1cccnc1F', 'C#CC1CC(=O)N(c2cccc3oc(C)nc23)C1', 'CC(=O)CC(=O)Nc1ccc(C#CCC#N)cc1', 'CN1C(=O)COc2cc(-c3ccccc3)cnc21', 'COc1cc(-c2cnc3ccccn23)ccc1O', 'CCn1c2ccccc2c2cc([N+](=O)[O-])ccc21', 'CN(c1cc(F)cc([N+](=O)[O-])c1)C1CCOC1', 'CCOC(=O)n1ccc2nc3ccccc3cc21', 'COc1cccc(-c2ncc(C)cc2N=C=O)c1', 'O=C(N1C[C@H]2CNC[C@H]2C1)C(F)(F)C(F)F', 'CC1CN=C(NC(C)CC(F)(F)F)SC1', 'Cn1c(=O)oc2c(N)cc(-c3ccccc3)cc21', 'O=[N+]([O-])c1ccc(N2CCCC2CO)c(F)c1', 'O=Cc1ccc[n+]([C@@H]2O[C@H](CO)[C@@H](O)[C@H]2O)c1', 'Cc1ccc(-c2nc3ccc(N)cc3o2)c(O)c1', 'CC(=O)NC(CNc1ccc(F)cc1)C(=O)O', 'O=[N+]([O-])c1c(F)cccc1N1CCC[C@@H](O)C1', 'CN(C)C=C(C#N)C(=O)c1cc2ccccc2o1', 'CN(C)/C=C(\\\\C#N)c1cccc(C(F)(F)F)c1', 'CCB(Cl)c1cccc2c1Cc1ccccc1-2', 'Cn1cnc2cc(Cc3ccc(C=O)o3)ccc21', 'NC(=O)c1ccc(/C=C/C(=O)c2ccc[nH]2)cc1', 'C=C(CNC)COc1c(F)cccc1[N+](=O)[O-]', 'COC(C)C(=O)Nc1ccc(F)c(C(N)=O)c1', 'CC1(C)OC(=O)C(C#N)C1(C#N)c1ccccc1', 'CC(Nc1ccc(C#N)c2ccccc12)C(=O)O', 'N#CC(C#N)=C(O)C1CCOc2ccccc2C1', 'Cc1cc(C(=O)c2c[nH]c3ncccc23)c(C)o1', 'CN(C)CC(=O)Nc1cc(F)ccc1C(=O)O', 'C=Nc1ccc(Cc2cc(C(=O)O)ccn2)cc1', 'Cc1nc(C)c(-c2cc3cccc(C=O)n3c2)o1', 'N#Cc1ncccc1Oc1ccccc1CCO', 'O=C(NCC1(O)CCOC1)c1cncc(F)c1', 'Cc1ccnc(C2=CCC(C(F)(F)F)C=C2)n1', 'Cc1nc2cc(C)c3ccccc3n2c1C(=O)O', 'COc1ccccc1C(C#N)c1cncc(O)c1', 'CCC(CC(=O)O)NC(=O)c1ccnc(F)c1', 'Cc1ccc(C2=CCCC2)c(N=C=O)c1N=C=O', 'Cc1ccc(NC(=O)C(=O)c2ccccc2)cn1', 'Cc1ccc(/N=N/c2ccc(O)c(C=O)c2)cc1', 'COCOc1cc(C#N)ccc1-c1ccccn1', 'O=[N+]([O-])/C(=C\\\\Nc1ccccc1)c1ccccc1', 'O=C(NCc1ccoc1)c1ccc2cc[nH]c2c1', 'Oc1cccc(C2CN=C(c3ccccn3)O2)c1', 'CCc1cc(N)nc2cc(C(F)(F)F)ccc12', 'O=C1NCCc2oc3c(c21)CCc1cnccc1-3', 'O=[N+]([O-])c1c(F)cccc1NCC1CCOC1', 'C[C@@H](O)c1ccc(Oc2ccccc2C#N)cn1', 'COC(=O)C(C)NC(=O)c1cc(N)cc(F)c1', 'CCOC(=O)c1cnn2c1ccc1ccccc12', 'O=CC1=CC=C(/N=N/c2ccc(C=O)cc2)CC1', 'O=[N+]([O-])c1ccccc1/C=N/Cc1ccccc1', 'c1ccc2c(c1)N[C@H]([C@H]1Nc3ccccc3O1)O2', 'Cc1ccc(C(=O)NC(C#N)c2ccco2)cc1', 'Cc1ccc(C)c(C2=NN=C(C(F)(F)F)C2)c1', 'CCOc1cccc(Oc2cccc(C#N)n2)c1', 'Cc1ccc2oc(-c3ccc(N)cc3O)nc2c1', 'C[C@@]12CCC3[C@@](C1CC=C4[C@]2(CC[C@@]5(C4C(C(CC5)(C)C)O)C(=O)O[C@H]6[C@@H]([C@H]([C@@H]([C@H](O6)CO)O)O)O)C)(C[C@H]([C@@H]([C@]3(C)C(=O)O)O)O)C', 'CCCCCCCOc1ccc(-c2cnc(-c3ccc(C[C@H](CC(=O)c4ccc(C(C)(C)C)s4)C(=O)N4CC(CCN)C4)cc3)nc2)cc1', 'CC(C)Cc1ccc(-c2cc(C(C)(C)C)cc3sc(-c4ccc5ccccc5c4/N=C/c4cc(C(C)(C)C)cc(C(C)(C)C)c4O)nc23)cc1', 'CCC(C)(CC(O)COc1ccc(Cc2ccc(OC(C)(CC)CC3CO3)cc2)cc1)Oc1ccc(Cc2ccc(OCC3CO3)cc2)cc1', 'CCCCCC[C@H](C)OC(=O)c1ccc2cc(OC(=O)c3ccc(-c4ccc(OCCCCCCOC(=O)CCCC)cc4)cc3)ccc2c1', 'C=Cc1cc(Nc2nc(N3CCC(N4CCC5(CCN(c6ccc7c(c6)C(=C)N(C)C7=O)CC5)C4)CC3)ncc2Cl)ccc1N(C)C(C)C', 'C=CCCC(=O)N(C)[C@H](C)[C@H](OC(=O)[C@@H]1[C@H]2C(=O)N(CCCO)[C@H](C(=O)N(CC=C)CCN3CCOCC3)[C@]23CC[C@H]1O3)c1ccccc1', 'C=CC(C)(C)OCC1OC(OC2C3=CC(C(C)COC(C)=O)C(O)C3(C)C=C3C(COC)CCC3C(C)C2O)C(OC(C)=O)C(O)C1O', 'CCCCCC/C=C\\\\CCCCCCCC(=O)O[C@]1(C(=O)SCF)[C@H](C)CC2C3C[C@H](F)C4=CC(=O)C=C[C@]4(C)[C@@]3(F)[C@@H](O)C[C@@]21C', 'C=CC(C)(C)OC[C@H]1O[C@H](O[C@@H]2C3=CC([C@@H](C)COC(C)=O)[C@H](O)[C@]3(C)/C=C3/[C@@H](COC)CC[C@H]3[C@@H](C)[C@H]2O)[C@H](O)[C@@H](OC(C)=O)[C@@H]1O', 'Cc1noc(-c2ccc(C3=CCN(C(=O)CN4CC[C@]5(CCN(C6CCC7NNC(c8ccc(OC(C)C)nc8)C7C6)C5=O)C4)CC3)cc2)n1', 'CCCCN(CCCC)CCCc1c(C(=O)O)ccc2c1C(CCCN(CCCC)CCCC)c1cc(C(=O)O)ccc1O2.Cl.Cl', 'C=CC(C)(C)OC[C@@H]1O[C@H](O[C@@H]2C3=C([C@H](C)COC(C)=O)C[C@H](O)[C@@]3(C)C=C3[C@@H](COC)CC[C@@H]3[C@H](C)[C@@H]2O)[C@@H](O)[C@H](OC(C)=O)[C@H]1O', 'Cc1cccc(-c2cc(C(C)(C)C)cc(CSC3CCCCCC[C@@H]3SCc3cc(C(C)(C)C)cc(-c4cccc(C)c4)c3O)c2O)c1', 'C=CC(C=C)OC(=O)CCCCCCCOc1ccc(-c2cnc(-c3ccc(OCCCCCCCC(=O)OC(C=C)C=C)cc3)nc2)cc1', 'CCCCN(CCCC)CCCc1cc2c(c(CCCN(CCCC)CCCC)c1C(=O)O)Cc1cc(C(=O)O)ccc1O2.Cl.Cl', 'C=CCCC(=O)N[C@@H](C)[C@H](OC(=O)[C@@H]1[C@@H]2CC[C@]3(O2)[C@H](C(=O)N(CC=C)CCN2CCOCC2)N(C(CC)CO)C(=O)[C@@H]13)c1ccccc1', 'CCC(C)NCC(=O)N1CCC[C@H]1c1ncc(-c2ccc(-c3ccc(-c4cnc([C@@H]5CCCN5C(=O)CC(C)CNC(=O)O)[nH]4)cc3)cc2)[nH]1', 'COC1CC(OC2CCC3(C)C(CCC4C3CCC3(C)C(C5=CC(=O)OC5)CCC43O)C2)OC(C)C1OC1OC(CO)C(O)C(O)C1O', '[N-]=[N+]=NCCOCCOCCOCCN(CCOCCOCCOCCNC(=O)CN=[N+]=[N-])CCOCCOCCOCCC(=O)O', 'CCCCCCCCCCCCCCCCCCCC(=O)[O-].Cc1ccc(C(=O)[O-])cc1.[CH2]CCC.[CH2]CCC.[Sn+2]', 'Cc1ccc(N(C)C)cc1-c1ccc(C[C@H](NC(=O)C2CCC(CNC(=O)OC(C)(C)C)CC2)C(=O)Nc2ccc(-c3nn[nH]n3)cc2)cc1', 'C=C(C)c1cnc(Nc2cc(C3CC3)c(N3CCC(N4CCN(C)CC4)CC3)cc2OC)nc1Nc1ccc2nccnc2c1N(C)SC', 'C[C@@H]1[C@H]2C3=CC[C@@H]4[C@@]5(C)C[C@@H](O)[C@H](O)[C@](C)(C(=O)O[C@@H]6O[C@H](CO)[C@H](O)[C@H](O)[C@H]6O)[C@@H]5CC[C@@]4(C)[C@]3(C)CC[C@@]2(C(=O)O)CC[C@]1(C)O', 'CCOC(=O)[C@@H](OC(C)(C)C)c1c(C)c2c(c(C)c1-c1cc(F)c3c(c1C)CCCO3)CN(C1CCN(C(=O)OC(C)(C)C)CC1)C(=O)C2', 'CC(C)(C)OC(=O)N(Cc1ccc(-c2ccc(CN(Cc3cccnc3)C(=O)Nc3ccccc3-c3ccccc3)cc2)cc1)C1CCCCC1', 'CCC(NC(CCN)OC(=O)C(F)(F)F)c1cc(C)c(C)cc1C1CCN(C(=O)[C@@H]2CN(C(C)(C)C)C[C@H]2c2ccc(F)cc2F)CC1', 'CN(C)CCN1CCN(c2ncc3cc(-c4ccccc4)c(-c4ccc(CN5CCC(c6nc(-c7ncccn7)n[nH]6)CC5)cc4)nc3n2)CC1', 'CC(C)(C)OC(=O)N1CC(OC2CCN(C(=O)OCc3ccccc3)CC2)C1.O=C(OCc1ccccc1)N1CCC(OC2CNC2)CC1', 'CC1(C)C(=O)[C@@H](O[C@@H]2O[C@H](CO)[C@@H](O)[C@H](O)[C@H]2O)C[C@@H]2C1=CC[C@@H]1[C@@]2(C)C(=O)C[C@]2(C)[C@@H]([C@]3(C)CCC(C(C)(O)CO)O3)[C@H](O)C[C@@]12C', 'CCCCCOc1ccc2cc(OC(=O)/C=C/c3ccc(OCCCCCCCCCCCc4c(N)cc(N)cc4C(=O)O)cc3)ccc2c1', 'COC(=O)N[C@H](C(=O)N1C[C@H](C)C[C@H]1c1ncc(C#Cc2ccc(C#Cc3cnc([C@@H]4C[C@@H](C)CN4C(=O)[C@@H](N)C(C)C)[nH]3)cc2)[nH]1)C(C)C', 'CCC(=O)O[C@H]1C[C@@H]2CC[C@@H]3[C@H](CC[C@@]4(C)[C@H]3C[C@H]([N+]3(C)CCCCCC3)[C@@H]4OC(=O)CC)[C@@]2(C)C[C@@H]1N1CCOCC1.[Br-]', '[H]/N=C/C=C(\\\\N)C(=O)N1CCC(CC)(C(=O)N(CC(=O)Nc2ccc(CC)c(CC(=O)Nc3ccccn3)c2)Cc2ccccc2CNC)CC1', 'COc1ccc2[nH]c3ccc4cc[n+](CCN(C)CCCCCN(C)CC[n+]5ccc6ccc7[nH]c8ccc(OC)cc8c7c6c5)cc4c3c2c1', 'CCc1c(SC)[nH]c2c(CN3CCN(CCNC(=O)CCCCCNC(=O)C4CCC(CN5C(=O)C=CC5=O)CC4)CC3)c(O)ccc12', 'C[C@H]1CCCCO[C@@H](CN(C)C(=O)Nc2ccc3c(c2)OCO3)[C@@H](C)CN([C@@H](C)CO)C(=O)c2cc(NC(=O)C3CCCCC3)ccc2O1', 'C=C1C=CC(OC2CCN(CC(F)(F)F)CC2)=CC=C1C(=O)Nc1ccc(CCCC(=O)CCCC2=CCC(C)OC(C(C)(C)C)=C2)cc1', 'C[C@@H]1CN([C@@H](C)CO)C(=O)c2cc(NC(=O)Nc3ccc4c(c3)OCO4)ccc2O[C@@H](C)CCCCO[C@@H]1CN(C)C(=O)C1CCCCC1', 'CC(C)[C@](O)(COCc1ccccc1)[C@@H](OCc1ccccc1)[C@H](OCc1ccccc1)[C@@H](OCc1ccccc1)C(=O)N1CCN(C)CC1', 'COc1ccc(NC(=O)N(CC2CCCO2)CC2(O)CCC3C45C=CC6(C=C4C(=O)c4ccccc4)CC(O)CCC6(C)C5CCC32C)cc1', 'CC(C)C[C@@H](/C=C/S(C)(=O)=O)NC(=O)[C@H](Cc1ccc(O)cc1)NC(=O)[C@H](CC(C)C)NC(=O)[C@H](CC(C)C)NC(=O)OC(C)(C)C', 'CCCCCCN(Cc1ccc(C#Cc2ccc(CCCC)cc2)cc1)c1ccc(F)c(C(=O)[O-])c1.C[NH2+]C[C@H](O)[C@@H](O)[C@H](O)[C@H](O)CO', 'Cc1cc(C)c(C)c(OCCc2ccc(C3=C(C(=O)N(CCc4ccc(F)cc4)C4CC4)[C@H]4CN(C(=O)CCCC(N)=O)C[C@@H](C3)N4)cc2)c1', '[C-]#[N+]c1cnn(C2CCCCN2)c1/N=N/c1c(C)nn(C2CC(n3nc(C)c(/N=N/c4c(C#N)cnn4C4CCCCN4)c3N)NCN2)c1N', 'C[C@H](CO)N1C[C@H](C)[C@H](CN(C)C(=O)C2CCCCC2)OCCCC[C@H](C)Oc2ccc(NC(=O)Nc3ccc4c(c3)OCO4)cc2C1=O', 'C=CC(C)(C)OC[C@H]1O[C@H](OC2C3=C(C(C)COC(C)=O)C[C@H](O)[C@]3(C)C=C3[C@@H](COC)CC[C@H]3[C@@H](C)C2O)C(O)[C@@H](OC(C)=O)C1O', 'CC1CC(CN2CC[C@@H](SC3=C(C(=O)O)N4C(=O)[C@H]([C@@H](C)O)[C@H]4[C@H]3C)C2)CCN1.COC(=O)C1CCN(C(=O)OC(C)(C)C)C(C)C1', 'Cc1cc(=O)[nH]c(N)n1.Cc1cc(=O)[nH]c(NC(=O)NCCCCCCN=C=O)n1.N#COCCCCCCN=C=O.NCN.OCO', 'C=C(C)/C=C(\\\\C)[C@@H]1C/C=C/C=C/[C@@H](O)C(C)[C@@H](O)CC(=O)N[C@@H](C(C)C)C(=O)N[C@@H](Cc2cccc(O)c2)C(=O)N2CCC[C@H](N2)C(=O)O1', 'CCCCCCCC(=O)O[C@@H]1[C@H](OC(O)[C@@H]2OC(C)(C)O[C@H]2[C@H]2OC(C)(C)O[C@@H]2CO[Si](C)(C)C(C)(C)C)O[C@H](CO)[C@@H](O)[C@@H]1O', 'NC1=C(/C=C/c2ccccc2O)N2CCN(CC3CCN(CC4CN(c5ccc6c(c5)C(=O)N(C5CCC(=O)NC5=O)C6)C4)CC3)CC2CN1', 'Cc1ccc(-c2cc(C(C)(C)C)cc(CSC3CCCCCC[C@@H]3SCc3cc(C(C)(C)C)cc(-c4ccc(C)cc4)c3O)c2O)cc1', 'C=CCCC(=O)N(C)[C@@H](C)[C@@H](OC(=O)[C@@H]1[C@H]2C(=O)N(CCCO)[C@H](C(=O)N(CC=C)CCN3CCOCC3)[C@]23CC[C@H]1O3)c1ccccc1', 'CC(C)CC(=O)N1CCCC1.CC1=CC(c2ncc(-c3ccc(C#Cc4ccc(-c5cnc[nH]5)cc4)cc3)[nH]2)N(C)C1.O=CCc1ccccc1', 'C=CCCC(=O)OC[C@@H](NC(=O)[C@@H]1[C@@H]2CC[C@]3(O2)[C@H](C(=O)N(CC=C)CCN2CCOCC2)N([C@@H](CO)C(C)C)C(=O)[C@@H]13)c1ccccc1', 'Cc1ccc(N(CCCN2CC3CN(C(=O)c4c(C)ncnc4C)CC3C2)C(=O)C2CCN(CCCC(=O)OC(C)(C)C)CC2)cc1Cl', 'C/C=C(\\\\C=C/C(=C/CC)NCCNC/C=C/C(=O)N1CCOCC1)C(=C(/CC(F)(F)F)c1ccccc1)/c1ccc(N)c(/C(F)=C/CC)c1', 'CCC(COCC(C)OC(=O)C1CCC2OC2C1)(COCC(C)OC(=O)C1CCC2OC2C1)COCC(C)OC(=O)C1CCC2OC2C1', 'CCCC[B-](c1cccc(C)c1)(c1cccc(C)c1)c1cccc(C)c1.c1ccc([P+](c2ccccc2)(c2ccccc2)c2ccccc2)cc1', 'CC(C)[C@H]1CCC(O[C@@H]2OC(COCc3ccccc3)[C@@H](OCc3ccccc3)C(OCc3ccccc3)C2OCc2ccccc2)C[C@@H]1O', 'Cc1cc(C)c(C)c(OCCc2ccc(C3=C(C(=O)N(CCc4ccc(F)cc4)C4CC4)C4CN(C(=O)CCCC(N)=O)CC(C3)N4)cc2)c1', 'C=CCCC(=O)NC[C@@H](OC(=O)[C@@H]1[C@H]2C(=O)N([C@@H](CO)C(C)C)[C@H](C(=O)N(CC=C)CCN3CCOCC3)[C@]23CC[C@H]1O3)c1ccccc1', 'CC(C)C[C@H](NC(=O)C(CCc1ccccc1)CC(=O)CCN1CCCCC1)C(=O)C[C@@H](Cc1ccccc1)C(=O)OC(=O)c1ccccc1', 'CCCCCN1C(=CC2=C([O-])C(=CC3=[N+](C)c4ccc(C(=O)O)cc4C3(C)C)C2=O)C(CCCC)(CCCC)c2cc(C(=O)OCC)ccc21', 'CC(C)(Sc1cc(C(C)(C)C)c(O)c(C(C)(C)C)c1)Sc1ccc(C(C)(C)C)c(OCC(O)C(O)C(O)C(O)CO)c1C(C)(C)C', 'COc1ccc(C(=O)c2cc3ccc2C2CCC(O)(CN(CC4CCCO4)C(=O)Nc4ccccc4)C2(C)CCC=C(C)CCC(O)C3)cc1', 'CC(C)CC(=O)N1CCCC1c1nc2ccc(-c3ccc4ccc(-c5ccc6c(c5)N=CC(C5CCCN5C(=O)CC(C)C)N6)cc4c3)cc2[nH]1', 'CCCCCCCCCC(=O)OC[C@H](NC(=O)OCc1ccccc1)C(=O)NC[C@@H]1CC2c3cccc4c3c(cn4C)C[C@H]2N(C)C1.Cl', 'CC(C)(O)CC[C@H](O)[C@](C)(O)[C@H]1[C@H](O)C[C@@]2(C)[C@@H]3CC=C4[C@@H](C=C(O[C@@H]5O[C@H](CO)[C@@H](O)[C@H](O)[C@H]5O)C(=O)C4(C)C)[C@]3(C)C(=O)C[C@]12C', 'CC(C)(Sc1cc(C(C)(C)C)c(O)c(C(C)(C)C)c1)Sc1cc(C(C)(C)C)c(OC[C@@H](O)[C@@H](O)[C@H](O)[C@@H](O)CO)c(C(C)(C)C)c1', 'CCC(CC)Cc1cc2[n+](cc1-c1ccccc1)C(CC)(CC)C(c1cc3cc4oc5ccccc5c4cc3c3cc(C)cc[n+]13)c1ccccc1-2', 'CCN(CC)C(OC(=O)C(=O)OC(C(O)CC(c1ccccc1)c1ccccc1)N(CC)CC)C(O)CC(c1ccccc1)c1ccccc1', 'CC(=O)N[C@@H](CC(=O)OC(C)(C)C)C(=O)N[C@@H](CCc1ccccc1)C(=O)NCc1cc(OC2CCN(C(=O)OC(C)(C)C)C2)ccc1C', 'CC(C)NCC(=O)N1CCC[C@H]1c1ncc(-c2ccc(-c3ccc(-c4cnc([C@@H]5CCCN5C(=O)[C@H](C(C)C)N(C)C(=O)O)[nH]4)cc3)cc2)[nH]1', 'CCCC(=O)OC1C([N+]2(CC)CCCCC2)C[C@H]2[C@@H]3CCC4CC(OC(C)=O)C(N5CCOCC5)C[C@]4(C)[C@@H]3CC[C@]12C.[Br-]', 'C[C@@H](C(=O)N[C@H](C(=O)N1C[C@@H](N)C[C@H]1CN(CCc1ccc(F)cc1)C(=O)c1cn2cccnc2n1)C(C)(C)C)N(C)C(=O)OC(C)(C)C', 'COc1cc(Nc2ncc(C(=O)Nc3c(C)cccc3C)c(Oc3ccc(N4CCNCC4)cc3)n2)ccc1OCCCN1CCN(C)CC1', '[GaH3].[GaH3].[GaH3].[Nb].[Nb].[Nb].[Nb].[Nb]', 'CC(C)=CCc1c(-c2ccc(OC3(C(C)(C)C)C=C(C(C)(C)C)C(=O)C(C(C)(C)C)=C3)cc2O)oc2c3c(cc(O)c2c1=O)OC(C)(C)C=C3', 'CC[C@H]1CN2CC[C@]3(C(=O)N(CCCCCCCOc4ccc(OCc5ccccc5)cc4)c4ccccc43)C2C[C@@H]1/C(=C\\\\OC)C(=O)OC', 'CC[C@@H](CC(C(=O)N1CCC[C@H]1c1nc2c(ccc3c4c(ccc32)-c2ccc(B3OC(C)(C)C(C)(C)O3)cc2CO4)[nH]1)C(C)C)NC(=O)OC', 'CC(C)N(c1nnc2ccc(O[C@@H]3CC[C@H](NC(=O)Nc4cc(C(C)(C)C)nn4-c4cccc(OCCO)c4)c4ccccc43)cn12)C(C)C', 'C[C@@H]1N=C(N2CCN(C(=O)[C@@H](CCCCN3CCCCC3)NC(=O)OC(C)(C)C)[C@H](C(=O)NCc3cccs3)C2)O[C@H]1c1ccccc1', 'COc1ccc(NC(=O)N(C[C@H]2CCCO2)C[C@]2(O)CC[C@H]3c4ccc(cc4C(=O)c4ccccc4)C[C@@H](O)CCC(C)=CCC[C@@]32C)cc1', 'COCCN1CCC(Nc2cc(C3(Cc4nncn4C)CCC3)cc(N3Cc4c(cc(CNC5(C)CCC5)cc4C(F)(F)F)C3=O)n2)CC1', 'CC(=O)CC(O)(CCCCC(C)(C)[Si](O)(c1ccccc1)c1ccccc1)CCCO[Si](c1ccccc1)(c1ccccc1)C(C)(C)C', 'CC1(C)CCC2(C(=O)O)CC[C@]3(CO)C(=CCC4[C@@]5(C)CC(O)C(O[C@@H]6O[C@H](CO)[C@@H](O)[C@H](O)[C@H]6O)[C@@](C)(C(=O)O)C5CC[C@]43C)C2C1', 'CC(C)(c1ccc(OCC2CO2)cc1)c1ccc(OC(C)(C)C(O)COc2ccc(C(C)(C)c3ccc(OC(C)(C)C4CO4)cc3)cc2)cc1', 'C/C=N/CCCC.CC(C)(C)[Si](C)(C)OCc1ccc(C(=O)Cl)cc1.[C-]#[N+]CC(=O)c1ccc(CO[Si](C)(C)C(C)(C)C)cc1.[H-].[Li+]', 'C=Cc1cnc(Nc2cc(CC)c(N3CCC(N4CCN(C)CC4)CC3)cc2OC)nc1Nc1ccc2nccnc2c1N(C)SC1CC1', 'CC1(C)CC[C@]2(C(=O)O[C@H]3OC(CO)[C@H](O)C(O)[C@H]3O)CC[C@]3(C)C(=CCC4[C@@]5(C)C[C@@H](O)[C@H](O)[C@](C)(OC=O)C5CC[C@]43C)[C@@H]2[C@@H]1O', 'C=CC(C)(C)OC[C@H]1O[C@H](O[C@@H]2C3=C([C@H](C)COC(C)=O)C[C@H](O)[C@]3(C)/C=C3/[C@@H](COC)CC[C@H]3[C@@H](C)[C@H]2O)[C@H](O)[C@@H](OC(C)=O)[C@@H]1O', 'COC1C=CC(C2=CCC3C(=C2)/C(C)=C(N(C2=CCCC=C2)c2cccc(C4C=CC=CC4)c2)\\\\C=C/CN3c2ccc(-c3ccccc3)cc2)=CC1', 'COC(=O)C[C@H]1CCC[C@@H]1[C@](CNC(C)=O)(c1cccc(F)c1)C1CCN(CC2CN(c3ccc(C(=O)O)c(CN4CC(F)C4)c3)C2)CC1', 'NCCCC[C@@H]1NC(=O)[C@H](Cc2ccc(O)c(N)c2)NC(=O)Cc2cccc(c2)CNC(=O)CNC(=O)[C@H](N=C(N)N)CCCCNC1=O', 'COc1ccc(C(=O)C2=C[C@@]34C=C[C@@]25[C@@H]2CC[C@@](O)(CN(C[C@H]6CCCO6)C(=O)Nc6ccccc6)[C@@]2(C)CC[C@@H]5[C@@]3(C)CCC(O)C4)cc1', 'O=C(CCCCCOC(=O)CCCCOC(=O)CCCCOC(=O)C1CCC2OC2C1)OCCCCCC(=O)OCC1CCC2OC2C1', 'C[C@@H]1CN([C@H](C)CO)C(=O)c2cc(NC(=O)C3CCCCC3)ccc2O[C@@H](C)CCCCO[C@@H]1CN(C)C(=O)Nc1ccc2c(c1)OCO2', 'CCOC(=O)C1CC=C(c2nc(C)cc(Cc3cc(C)[nH]n3)n2)CC1.CCOC(=O)C1CC=C(c2nc(C)cc(Cc3cc(C)[nH]n3)n2)CC1', 'C[C@@H]1CCCCO[C@@H](CN(C)C(=O)C2CCCCC2)[C@H](C)CN([C@@H](C)CO)C(=O)c2cc(NC(=O)Nc3ccc4c(c3)OCO4)ccc2O1', '[H]/N=C1/c2c(-c3ccccc3)c(-c3ccccc3)n(Cc3cccc(C#CCCCN4CCN(C(=O)CCCCCC(N)=O)CC4)c3)c2N=C[N+]1=C', 'COc1c(CN2O[C@@H](CO)[C@@H]([C@H](C)O)C2C(=O)N[C@H]2C[C@H]3C[C@@H]([C@@H]2C)C3(C)C)cccc1-c1cc2c(c(C(=O)NCCN(C)C)c1)OCO2', 'CC(C)C[C@@H](C(=O)NC(Cc1ccccc1)C(=O)O)N(COC(=O)C(C)(C)C)C(=O)[C@H](CCc1ccccc1)NC(=O)CN1CCOCC1', 'CCCCCCCNC(=O)N(C)c1cccc(-c2ccc(C[C@H](Nc3ccccc3C(=O)c3ccccc3)C(=O)NCc3ccccc3)cc2)c1', 'CC(C)[C@@H]1C2=C(Oc3c1c(OCCCc1ccccc1)cc1c3[C@@H](C(C)C)C3=C(O1)C(C)(C)C(=O)C(C)(C)C3=O)C(C)(C)C(=O)C(C)(C)C2=O', 'N/C=C(\\\\C=N\\\\C1CCN(C2CCC(CC(=O)NCc3ccc4c(c3)CN(C(C=O)CCC(N)=O)C4=O)CC2)CC1)C1=Nc2ccccc2NC1', 'CCCC(NC(=O)[C@@H](NC(=O)[C@@H](NC(=O)OC(C)(C)C)C1CCCCC1)c1ccccc1)C(O)C(=O)NCC(=O)OCc1ccc(C)cc1', 'COc1cc(Cn2c(-c3ccc(OCCN4CCCC4)cc3)nc3cc(OS(C)(C)C(C)(C)C)ccc32)ccc1CNCc1ccccc1', 'Cc1ccc(N(C)C)cc1-c1ccc(CC(NC(=O)C2CCC(CNC(=O)OC(C)(C)C)CC2)C(=O)Nc2ccc(-c3nn[nH]n3)cc2)cc1', 'CC/N=C(\\\\N)c1c(-c2ccc(NC(=O)/C(C)=C3\\\\CCCCN3N(C=O)c3ccc(OC)nc3)cc2)cc(C2CCN(C(=O)C3CC3)CC2)n1C', 'CC(C)(C)c1cc(-c2cc(-c3cc(C(C)(C)C)cc(C(C)(C)C)c3)ccn2)cc(-c2cc(C(C)(C)C)cc3sc(-c4ccccc4O)nc23)c1', 'CCC.CCCC.COC(C)CCCCn1c(=O)c2c(ncn2C)n(C)c1=O.COc1ccc(-c2coc3cc(O)cc(O)c3c2=O)cc1', 'CO[C@@H]1C[C@H](O[C@H]2CC[C@@]3(C)[C@@H](CC[C@@H]4[C@@H]3CC[C@]3(C)[C@H](C5=CC(=O)OC5)CC[C@]43O)C2)O[C@H](C)[C@H]1O[C@H]1O[C@@H](CO)[C@H](O)[C@@H](O)[C@@H]1O', 'CCCN(CCC)C(=O)c1cc(C(=O)N[C@@H](Cc2cc(F)cc(F)c2)[C@H](O)CNCc2cccc(OC)c2)cc(/C(C)=N/OCC(C)C)c1', 'CCCCOCCOc1ccc(-c2ccc3c(c2)C=C(C(=O)Nc2ccc(SCc4cncn4CCCC)cc2)CCN3CC(C)C)cc1', 'CC.CCC(C)n1ncn(-c2ccc(N3CCN(c4ccc(OCC5COC(Cn6nccn6)(c6ccccc6C)O5)cc4)CC3)cc2)c1=O', 'CC(C)CCNC(=O)[C@H](Cc1ccc(O)cc1)N1CC2N(C(=O)OCCC(C)C)O[C@H](CC(C)C)C(=O)N2[C@@H](Cc2ccc(O)cc2)C1=O', 'CC(C)c1c(C(=O)Nc2ccccc2)c(-c2ccccc2)c(-c2ccc(F)cc2)n1CC[C@@H]1C[C@H](CB2OC(C)(C)C(C)(C)O2)OC(C)(C)O1', 'CO[C@@H]1C[C@H](O[C@H]2CC[C@@]3(C)[C@H](CC[C@@H]4[C@@H]3CC[C@]3(C)[C@@H](C5=CC(=O)OC5)CC[C@]43O)C2)O[C@H](C)[C@@H]1O[C@@H]1O[C@H](CO)[C@@H](O)[C@H](O)[C@H]1O', 'O=C1C2C3C=CC(C2C(=O)N1CCCCN1CCN(c2ccccn2)CC1)C1C(=O)N(CCCCN2CCN(c4ccccn4)CC2)C(=O)C31', 'C=CC(C)(C)OC[C@@H]1O[C@H](O[C@@H]2C3=C([C@H](C)COC(C)=O)C[C@H](O)[C@@]3(C)C=C3[C@@H](COC)CC[C@H]3[C@H](C)[C@@H]2O)[C@@H](O)[C@H](OC(C)=O)[C@H]1O', 'C=CC(C)(C)OCC1OC(OC2C3=C(C(C)COC(C)=O)CC(O)[C@]3(C)C=C3C(COC)CCC3C(C)C2O)C(O)C(OC(C)=O)C1O', 'CC(C)(C)c1cc(-c2cc(O)cc(N3c4ccccc4C(c4ccccc4)(c4ccccc4)c4ccccc43)c2)c2c(c1)C1(C)CCCCC1(C)N2', 'C=CCNC(=O)[C@@H](NC(=O)[C@H](Cc1ccc(OC(C)(C)C)cc1)NC(=O)[C@H](CC(=O)OC(C)(C)C)NC(=O)OCc1ccccc1)C(C)C', 'COc1ccc(/C=C/C(=O)NCCN(CCCN(CCNC(=O)OC(C)(C)C)C(=O)OC(C)(C)C)C(=O)/C=C/c2ccc(OC)cc2)cc1', 'C=CCCC(NC(=O)C1C2C(CN1C(=O)C(NC(=O)OC(C)(C)C)C1CCCCC1)C2(C)C)C(=O)C(=O)NCCS(=O)(=O)C(C)(C)C', 'C[C@@H]1CCCCO[C@H](CN(C)C(=O)C2CCCCC2)[C@H](C)CN([C@@H](C)CO)C(=O)c2cc(NC(=O)Nc3ccc4c(c3)OCO4)ccc2O1', 'CC(C)OB(OC(C)C)OC(C)C.COc1c(C)c(C)cc2sc(B(O)O)cc12.COc1c(C)c(C)cc2sccc12.[CH2-]CCC.[Li+]', 'COc1ccc2c(c1)C1CC1(C(=O)N(C)CC1CN(C)CCN1)Cn1c-2c(C2CCCCC2)c2ccc(C(=O)NS(=O)(=O)N(C)C)cc21.[H][H].[H][H]', 'COc1cc(C)c(OC2CCC(C)(C(=O)OCc3cccc4ccccc34)CC2)cc1C(=O)N[C@@H]1[C@H]2CC[C@H](C2)[C@@H]1C(=O)NCC1(C)CCC1', 'CC(C)C[C@@H](C(=O)NC(Cc1ccccc1)C(=O)O)N(COC(=O)C(C)(C)C)C(=O)C(CCc1ccccc1)NC(=O)CN1CCOCC1', 'CC1[C@@H](Oc2nc3c(-c4nc(C5CCCCC5)cs4)cccc3n2C(C)C)CN(C(=O)[C@@H](NC(=O)OC(C)(C)C)C(C)(C)C)[C@@H]1C(N)=O', 'CC1(C)CC[C@]2(C(=O)O)CC[C@]3(C)C(=CC[C@@H]4[C@@]5(C)C[C@H](O)[C@H](O[C@@H]6O[C@H](C(=O)O)[C@@H](O)[C@H](O)[C@H]6O)[C@@](C)(CO)[C@@H]5[C@H](O)C[C@]43C)[C@@H]2C1', 'CN(C)CCN1CCN(c2ccc3nc(-c4ccccc4)c(-c4ccc(CN5CCC(c6nc(-c7ncccn7)n[nH]6)CC5)cc4)nc3n2)CC1', 'C[C@@H]1CC[C@]2(C(=O)OC3OC(CO)C(O)C(O)C3O)CC[C@]3(C)C(=CCC4[C@@]5(C)C[C@@H](O)[C@H](O)[C@@](C)(C(=O)O)C5CC[C@]43C)C2[C@]1(C)O', 'C[C@@H]1CC[C@]2(C(=O)O[C@@H]3O[C@H](CO)[C@@H](O)[C@H](O)[C@H]3O)CC[C@]3(C)C(=CC[C@@H]4[C@@]5(C)C[C@@H](O)[C@H](O)[C@@](C)(C(=O)O)[C@@H]5CC[C@]43C)[C@@H]2[C@]1(C)O', 'C=C1CCC(Nc2ccc(C3CCN(CCNC(=O)CNCc4c(OC)cc(C5=CN(C)C(=C)c6[nH]ncc65)cc4OC)CC3)cc2)C(=O)N1', 'C[C@@]1(C(=O)O)CC[C@]2(C(=O)O)CC[C@]3(C)C(=CC[C@@H]4[C@@]5(C)C[C@H](O)[C@H](O[C@@H]6O[C@H](CO)[C@@H](O)[C@H](O)[C@H]6O)[C@@](C)(CO)[C@@H]5CC[C@]43C)[C@@H]2C1', 'CC(C)(O)CCC(=O)C(C)(O)C1C(O)CC2(C)C3CC=C4C(CC(OC5OC(CO)C(O)C(O)C5O)C(=O)C4(C)C)C3(C)C(=O)CC12C', 'CC.Cc1cc(-c2ccnc(Cl)n2)ccc1C(C)C.Cc1cc(-c2ccnc(Nc3cnn(C)c3)n2)ccc1C(C)C.Cn1cc(N)cn1', 'CO[C@@H]1CC(O[C@H]2CC[C@@]3(C)C(CC[C@@H]4[C@@H]3CC[C@]3(C)[C@@H](C5=CC(=O)OC5)CC[C@]43O)C2)O[C@H](C)[C@@H]1O[C@@H]1O[C@H](CO)[C@@H](O)[C@H](O)[C@H]1O', 'CC(C)C1CC(=O)OC([C@H](C)C2=CC(=O)C3C4CCC5C[C@H](OC(=O)c6ccccc6)C[C@H](OC(=O)c6ccccc6)[C@]5(C)C4CC[C@]23C)C1', 'Cc1c(C(=O)NC2CCC(NC(=O)OC(C)(C)C)CC2)c2nccc(-c3cc(F)ccc3OCC3CC3)c2n1CCOCC[Si](C)(C)C', 'C=CC(C)(C)OC[C@H]1O[C@H](O[C@@H]2C3=C(C(C)COC(C)=O)C[C@H](O)[C@]3(C)C=C3[C@@H](COC)CC[C@H]3[C@@H](C)[C@H]2O)[C@H](O)[C@@H](OC(C)=O)[C@@H]1O', 'CC1CCCC(Cc2cc3c(cc2Oc2ccc(-c4nnc(C(C)C)s4)cc2)/N=C(/C2CCN(C4CCOCC4)CC2)CCC=C3)C(=O)C1', 'CCN(CC)[C@H](C)C(=O)N1CCC[C@H]1c1ncc(-c2ccc(-c3ccc(-c4cnc([C@@H]5CCCN5C(=O)[C@H](C)NC(=O)OC)[nH]4)cc3)cc2)[nH]1', 'CCCC[C@]1(CC)CSc2ccccc2C(c2ccccc2)[C@H]1O.CCCC[C@]1(CC)CSc2ccccc2[C@H](c2ccccc2)[C@@H]1O', 'CC(C)(CCCCc1ccc(OCC(O)COc2ccc(C(C)(C)c3ccc(OCC4CO4)cc3)cc2)cc1)c1ccc(OCC2CO2)cc1', 'CCC(C)C(NCC(=O)CC(=O)C(Cc1ccccc1)NC(=O)C(NC(=O)Cc1ccccc1OC)C(C)C)C(=O)NC(C(=O)O)C(C)C', 'CC(C)CNC(=O)[C@H](Cc1ccccc1)NC(=O)[C@H](Cc1c[nH]c2ccccc12)NC(=O)[C@H](CCCN=C(N)N)NC(=O)Cc1ccccc1', 'CCCCCCC(=O)NC(C(=O)NC(CCCNC(N)=O)C(=O)Nc1ccc(COC(=O)N2C[C@@H](O)[C@@H](O)[C@H](O)[C@H]2CO)cc1)C(C)C', 'Cc1cc(C)c([Si](c2ccc3c(c2)C(C)(C)c2cc(C)ccc2-3)(c2ccc3c(c2)C(C)(C)c2cc(C)ccc2-3)c2c(C)cc(C)cc2C)c(C)c1', 'CCN(CC)CCNCC(=O)Oc1ccc(/C=C/C(=O)CC(=O)/C=C/c2ccc(OC(=O)CNCCN(CC)CC)c(OC)c2)cc1OC', 'CC1COC1.CCCC(NCCC/N=C(/N)CN)c1ccc(-n2cc3cc(-c4cc(CCCC(C)N)cc(Cl)c4F)[nH]c3nc2=O)cc1', 'COC(=O)N[C@H]1CCC[C@@H]1C(CN1CCCCC1)(c1cccc(F)c1)C1CCN(CC2CN(c3ccc(S(=O)(=O)C4CC4)cc3)C2)CC1', 'CCCCOCCOc1ccc(-c2ccc3c(c2)C=C(C(=O)Nc2ccc(SCc4nccn4C(C)CC)cc2)CCN3CC(C)C)cc1', 'CC[C@H]1CN2CC[C@]3(C(=O)N(CCCCCCCOc4ccc(OCc5ccccc5)cc4)c4ccccc43)[C@@H]2C[C@@H]1/C(=C\\\\OC)C(=O)OC', 'CCCCC(=O)OC1(C(=O)COC(=O)CC(C)C(=O)OCC(C)CC)CCC2C3CC(F)C4=CCOCC=CC4(C)C3(F)C(O)CC21C', 'CCCCCCCCCCCCCCCCC(=O)[O-].CCCCc1ccccc1C(=O)[O-].[CH2]CCC.[CH2]CCC.[Sn+2]', 'CCC(C)CCCC(C)CCC(Oc1ccc(C(=O)O)c(C(=O)O)c1OCc1ccc(Oc2cccc(Cc3ccccc3)c2)cc1)C(C)C', 'C[C@@H]1CN([C@@H](C)CO)C(=O)c2cc(NC(=O)C3CCCCC3)ccc2O[C@@H](C)CCCCO[C@H]1CN(C)C(=O)Nc1ccc2c(c1)OCO2', 'CCCCC/C=C\\\\C/C=C\\\\CCCCCCCCOCC(COC1OC(CO)C(O)C(OS(=O)(=O)O)C1O)OC(=O)CCCCC', 'C=CC(C)(C)OCC1OC(OC2C3=C(C(C)COC(C)=O)CC(O)C3(C)/C=C3/C(COC)CCC3C(C)C2O)C(O)C(OC(C)=O)C1O', 'Cc1c(C2CCN(c3ccc(C(=O)NCCN(C)C)cc3NC(=O)C3CC3)CC2)ncn1C(c1ccccc1)(c1ccccc1)c1ccccc1', 'CC(C)C[C@@H](NC(=O)[C@@H](Cc1ccccc1)NC(=O)[C@H](N)Cc1ccccc1)C(=O)N[C@H](CCCN=C(N)N)C(=O)N1CCCSCC1', 'C[C@@H]1CN([C@H](C)CO)C(=O)c2cc(NC(=O)Nc3ccc4c(c3)OCO4)ccc2O[C@@H](C)CCCCO[C@H]1CN(C)C(=O)C1CCCCC1', 'CC(C)(C)OC(=O)N1[C@H](CO)[C@@H](c2ccccc2)OC1(C)C.COC(=O)[C@@H]1[C@@H](c2ccccc2)OC(C)(C)N1C(=O)OC(C)(C)C.[AlH3].[H-].[Li+]', 'CC[C@H]1CN2CC[C@]3(C(=O)N(CCCCCCCOc4ccc(OCc5ccccc5)cc4)c4ccccc43)C2CC1/C(=C\\\\OC)C(=O)OC', 'CC1OC(OC2C(CO)OC(OC3CC[C@@]4(C)C(=CCC5C6CC7OC8(CCCCO8)CC7C6CCC54)C3)[C@@H](O)[C@@H]2O)[C@@H](O)[C@@H](O)C1O', 'C=CCCC(=O)OC[C@H](NC(=O)[C@@H]1[C@@H]2CC[C@]3(O2)[C@H](C(=O)N(CC=C)CCN2CCOCC2)N(CCCCCO)C(=O)[C@@H]13)c1ccccc1', 'C=CC(C)(C)OC[C@H]1O[C@H](O[C@H]2C3=C([C@H](C)COC(C)=O)C[C@H](O)[C@]3(C)/C=C3/[C@@H](COC)CC[C@H]3[C@@H](C)[C@H]2O)[C@@H](O)[C@H](O)[C@@H]1OC(C)=O', 'CCC(C)(C)Oc1[c-]cnc(OC(C)(C)CC)n1.CCC(C)(C)Oc1[c-]cnc(OC(C)(C)CC)n1.[Ti+4].c1cc[cH-]c1.c1cc[cH-]c1', 'CCCN(CCC)C(=O)c1cc(C(=O)N[C@@H](Cc2cc(F)cc(F)c2)[C@H](O)CNCc2cccc(OC)c2)cc(/C(C)=N\\\\OCC(C)C)c1', 'CC(C)(C)OC(=O)N[C@@H](Cc1ccccc1)C(=O)N[C@@H](Cc1cnc[nH]1)C(=O)N[C@@H](CC1CCCCC1)[C@@H](O)Cc1nnnn1CC(N)=O', 'CCCN(CC(=O)Cc1ccc2c(c1)CCc1c-2[nH]c2ccc(N(C)C(=O)C3CCCN3CCc3ccccc3)cc12)C(=O)Cc1ccccc1', 'CCCCCCCCCc1cnc(-c2ccc(/N=N/c3ccc(C(=O)Oc4ccc(C(=O)O[C@@H](C)CCCCCC)cc4F)cc3)cc2)nc1', 'CC(Oc1ccc(C(C)(C)c2ccc(OCC3CO3)cc2)cc1)C(O)COc1ccc(C(C)(C)c2ccc(C(C)(C)OCC3CO3)cc2)cc1', 'CC(F)(F)C(=O)O.CN1CCN(C2CCN(Cc3ccc(C(=O)NN(c4nc(C#N)nc5c4ncn5C)C4CCCCC4)cc3)CC2)CC1', 'CO[C@@H]1C[C@@H](O[C@H]2CC[C@@]3(C)C(CC[C@@H]4[C@@H]3CC[C@]3(C)[C@@H](C5=CC(=O)OC5)CC[C@]43O)C2)O[C@@H](C)[C@@H]1O[C@@H]1O[C@H](CO)[C@@H](O)[C@H](O)[C@H]1O', 'Cc1c(O)c(O)cc2c1CC=C1C2(C)CCC2(C)C3CC(C)(C(=O)O)CCC3(C)CCC12C.Oc1ccc(C=Cc2cc(O)cc(O)c2)cc1', 'CCCCOCCOc1ccc(C2CCC(C(=O)Nc3ccc(SCc4cncn4CCC)cc3)=Cc3ccccc3N2CC(C)C)cc1', 'C/N=C/N/C=C(\\\\C)C(NC(=O)OC1(C(C)C)CC1)C1C2=C(C=CC(Cl)C2C)C(N2CCN(C(=O)OC(C)C)CC2)c2ncccc2C1C', 'CCCc1n[nH]c(CNC(=O)OCc2ccccc2)n1.CCCc1nc(CN)n(Cc2ccc(-c3ccccc3C(=O)OC(C)(C)C)cc2)n1', 'CO[C@H]1C[C@H](O[C@H]2CC[C@@]3(C)[C@H](CC[C@@H]4[C@@H]3CC[C@]3(C)[C@@H](C5=CC(=O)OC5)CC[C@]43O)C2)O[C@H](C)[C@H]1O[C@@H]1O[C@H](CO)[C@@H](O)[C@H](O)[C@H]1O', 'CC(C)C[C@@H](C(=O)N[C@@H](Cc1ccccc1)C(=O)O)N(COC(=O)C(C)(C)C)C(=O)[C@H](CCc1ccccc1)NC(=O)CN1CCOCC1', 'CCCN(CCC)C(=O)CC[C@H](NC(=O)OCc1ccccc1)C(=O)N(Cc1cccc(CC)c1)C[C@@H](O)[C@@H](N)Cc1cc(F)cc(F)c1', 'C=CCC[C@@H](NC(=O)[C@@H]1[C@@H]2[C@H](CN1C(=O)[C@@H](NC(=O)OC(C)(C)C)C1CCCCC1)C2(C)C)C(=O)C(=O)NCCS(=O)(=O)C(C)(C)C', 'CCCCOCCOc1ccc(-c2ccc3c(c2)C=C(C(=O)Nc2ccc(SCc4ncn(CCC)c4C)cc2)CCN3CC(C)C)cc1', 'C=C(C[Se]c1ccccc1)[C@@H]1CC[C@]2(COC3CCCCO3)CC[C@]3(C)[C@H](CC[C@@H]4[C@@]5(C)CCC(=O)C(C)(C)[C@@H]5CC[C@]43C)[C@@H]12', 'C[C@@H]1CC[C@]2(C(=O)OC3OC(CO)C(O)C(O)C3O)CC[C@]3(C)C(=CCC4[C@@]5(C)C[C@@H](O)[C@H](O)[C@@](C)(OC=O)C5CC[C@]43C)C2[C@]1(C)O', 'C[C@@H]1CC[C@@]2(C(=O)O[C@H]3O[C@@H](CO)[C@@H](O)[C@@H](O)[C@H]3O)CC[C@]3(C)C(=CC[C@H]4[C@@]5(C)C[C@H](O)[C@H](O)[C@@](C)(C(=O)O)[C@@H]5CC[C@@]43C)[C@@H]2[C@@]1(C)O', 'CCCN(CCC)C1CCc2cccc(-c3ccco3)c2C1OC(=O)C(=O)OC1c2c(cccc2-c2ccco2)CCC1N(CCC)CCC', 'COc1ccc(C2CCC(CN(C(=O)C3CCC(OC(=O)NCC(F)(F)CO)CC3)c3cccc(-c4cnn(C(C)C)c4)c3)CC2)cc1C', 'C=CCCCC(Cc1ccccc1)C(=O)OCC1CCCN1C(=O)C(CC=C)CC(=O)NC(CO)Cc1ccc(OCc2ccccc2)cc1', 'CC(C)(O)/C=C/C(=O)[C@](C)(O)[C@H]1[C@H](O)C[C@@]2(C)[C@@H]3CC=C4[C@@H](C[C@@H](O[C@@H]5O[C@H](CO)[C@@H](O)[C@H](O)[C@H]5O)[C@@H](O)C4(C)C)[C@]3(C)C(=O)C[C@]12C', 'CCCCOCCOc1ccc(-c2ccc3c(c2)C=C(C(=O)Nc2ccc(SCc4cncn4CCC)cc2)CCCN3CC(C)C)cc1', 'CCCC[n+]1cc2cccc(-c3cn(-c4ccc(N(C)C)cc4)nn3)n2c1.c1ccc([B-](c2ccccc2)(c2ccccc2)c2ccccc2)cc1', 'CO[C@H]([C@@H](C)[C@H](/C=C/c1cccc(COC(=O)[C@@H]2CCCN(C(=O)[C@H](Cc3cccc(O)c3)NC(=O)[C@@H](N)C(C)C)N2)c1)OC)[C@@H](C)C=O', 'CCCCN(CCCC)C(=O)c1cc(C)n(-c2ccc(NC(=O)c3cnc(N4CCCC4)nc3)cc2C(O)N2Cc3ccccc3C[C@H]2O)n1', 'CCCC[B-](c1ccc(C)cc1)(c1ccc(C)cc1)c1ccc(C)cc1.c1ccc([P+](c2ccccc2)(c2ccccc2)c2ccccc2)cc1', 'CC(C)(C)c1cc(-c2cc(-c3cc(C(C)(C)C)ccn3)cc(-c3cc(C(C)(C)C)cc4sc(-c5ccccc5O)nc34)c2)cc(C(C)(C)C)c1', 'C=CC.CC12CCCC1C1CCC3C(C)(CCC4C(C)(C)C(OS(=O)(=O)C(F)(F)F)=CCC43C)C1CC2.O=COCc1ccccc1', 'CC1(O)C[C@@H](C=C(CO)CO)O[C@@H]2C[C@@]3(C)[C@@H]4CC=C5[C@@H](CC(O)[C@@H](O[C@@H]6O[C@H](CO)[C@@H](O)[C@H](O)[C@H]6O)C5(C)C)[C@@]4(C)C(=O)C[C@]3(C)C21', 'C=CCCC(Cc1ccccc1)C(=O)OCC(Cc1ccc(OCc2ccccc2)cc1)NC(=O)C(CC=C)CC(=O)NC1(CO)CCCC1', 'CC(C)(C)OC(=O)CCC(CCC(=O)OC(C)(C)C)(CCC(=O)OC(C)(C)C)NC(=O)Cc1ccc(OCc2ccccc2)c2ncnn12', 'C=CC(C)(C)OC[C@H]1O[C@H](O[C@@H]2C3=C([C@H](C)COC(C)=O)C[C@H](O)[C@]3(C)/C=C3/[C@@H](COC)CC[C@H]3[C@@H](C)[C@H]2O)[C@H](OC(C)=O)[C@@H](O)[C@@H]1O', 'CCCC(CO)C1CC(Cc2ccnc(NCCCO)c2)CC2C#CC(c3ccccc3)c3cc(O)c(OC)cc3CCC(=O)CC(=O)C2C1', 'C=CC(C)(C)OC[C@@H]1O[C@H](O[C@H]2C3=C([C@H](C)COC(C)=O)C[C@@H](O)[C@]3(C)C=C3[C@H](COC)CC[C@@H]3[C@@H](C)[C@@H]2O)[C@@H](O)[C@H](OC(C)=O)[C@H]1O', 'CO[C@H]1C[C@H](O[C@H]2CC[C@@]3(C)[C@@H](CC[C@@H]4[C@@H]3CC[C@]3(C)[C@H](C5=CC(=O)OC5)CC[C@]43O)C2)O[C@H](C)[C@@H]1O[C@@H]1O[C@H](CO)[C@@H](O)[C@H](O)[C@H]1O', 'CN[C@@H]1[C@@H](O)[C@@H](O[C@H]2[C@H](NC(=O)C3(O)CC3N=C(N)N)C[C@H](N)C(O[C@H]3O[C@H](CNCCCN)[C@@H](O)[C@H](O)[C@H]3O)[C@@H]2O)OC[C@]1(C)O', 'C=Cc1cc(Nc2ncc(C)c(Nc3ccc4nccnc4c3N(SC)C3CC3)n2)c(OCC)cc1N1CCC(N2CCN(C)CC2)CC1', 'CC1(C)C(=O)[C@@H](O[C@@H]2O[C@H](CO)[C@@H](O)[C@H](O)[C@H]2O)C[C@@H]2C1=CC[C@@H]1[C@@]2(C)C(=O)C[C@]2(C)[C@@H]([C@@]3(C)CC[C@@H]([C@@](C)(O)CO)O3)[C@H](O)C[C@@]12C', 'CCN(CC)[C@H](C)C(=O)N1CCC[C@H]1c1ncc(-c2ccc(-c3ccc(-c4cnc([C@@H]5CCCN5C(=O)[C@H](C)N(C)C(=O)O)[nH]4)cc3)cc2)[nH]1', 'C=Cc1cnc(Nc2cc(CC3CC3)c(N3CCC(N4CCN(C)CC4)CC3)cc2OC)nc1Nc1ccc2nccnc2c1N(C)SC', 'C=C(N)c1cc(N/C(=C\\\\C(=C\\\\CC)C(F)(F)F)C(=O)CCC)ccc1/C=C\\\\C.Cc1cc(C(CCC2CC2)N2C=CN=CC2O)ccc1F', 'C[C@@H]1CCCCO[C@@H](CN(C)C(=O)C2CCCCC2)[C@@H](C)CN([C@H](C)CO)C(=O)c2cc(NC(=O)Nc3ccc4c(c3)OCO4)ccc2O1', 'COc1ccc(CC(=O)NCCCC(CCCN2CCCCC23CCc2cc(OC)ccc2C3)(c2ccccc2)c2ccccc2)cc1.Cl', 'C=CCCCCC[C@H](NC(=O)OC(C)(C)C)C(=O)N1C[C@H](OC(=O)N2Cc3cc4c(cc3C2)OCCO4)C[C@H]1C(=O)N[C@]1(CC)C[C@H]1C=C', 'Cc1cccc(C)c1COc1cc(OCc2cccc(-c3cccc(OCCCN4CCCC4)c3C)c2C)c(Cl)cc1CN1CCCCC1', 'CC1(C)CC[C@]2(C(=O)O)CC[C@]3(CO)C(=CC[C@@H]4[C@@]5(C)C[C@H](O)[C@H](O[C@@H]6O[C@H](CO)[C@@H](O)[C@H](O)[C@@H]6O)[C@@](C)(C(=O)O)[C@@H]5CC[C@]43C)[C@H]2C1', 'CC(C)(CCc1ccccc1)NCC(OC(=O)CCC(=O)OC(CNC(C)(C)CCc1ccccc1)c1ccc(O)cc1)c1ccc(O)cc1', 'COc1ccc2c(c1)[C@H](CN[C@@H](C)CN(C)C)C(C(=O)N(C)C)Cn1c-2c(C2CCCCC2)c2ccc(C(=O)NS(=O)(=O)N(C)C)cc21', 'C=CC(C)(C)OC[C@@H]1O[C@H](O[C@@H]2C3=C([C@H](C)COC(C)=O)C[C@H](O)[C@@]3(C)C=C3[C@H](COC)CC[C@@H]3[C@H](C)[C@@H]2O)[C@@H](O)[C@H](OC(C)=O)[C@H]1O', 'C=C(C)C(=O)OCc1cc(-c2ccc(C3CCC(C4CCC([Si](C)(C)CCCC)CC4)CC3)c(F)c2F)cc(COC(=O)C(=C)C)c1O', 'CCCC(CC1CC(=O)c2c(C)c(CC3C(=O)C/C=C\\\\C=C/CC3=O)cc(CC3C(=O)C/C=C\\\\C=C/CC3=O)c2C1)C(CC)C(=O)CC(C)=O', 'CC1(CC2CCC2)CC(=O)N(CC2CCC(C(=O)NCCOCCOCCC(=O)Nc3ccc(CCC(=O)N4CCC4=O)cc3)CC2)C1=O', 'Cc1ncsc1-c1ccc(C(C)NC(=O)[C@@H]2C[C@@H](O)CN2C(=O)C(NC(=O)CCCCC(=O)N2CCC3(CC2)CNC3)C(C)(C)C)cc1', 'C=C[C@@H](CO)CO[Si](c1ccccc1)(c1ccccc1)C(C)(C)C.C=C[C@H](CO)CO[Si](c1ccccc1)(c1ccccc1)C(C)(C)C', 'CN[C@@H]1[C@@H](O)[C@@H](O[C@H]2[C@H](NC(=O)C3(O)CC3N=C(N)N)C[C@H](N)C(C3O[C@H](CNCC(N)CO)[C@@H](O)[C@H](O)C3O)[C@@H]2O)OC[C@]1(C)O', 'C=CCCC(=O)N[C@H](C)[C@@H](OC(=O)[C@@H]1[C@@H]2CC[C@]3(O2)[C@H](C(=O)N(CC=C)CCN2CCOCC2)N(CCCCO)C(=O)[C@@H]13)c1ccccc1', 'CCCCCCC1=C(c2cc(CCCCCC)cs2)CC(C2=CC(CCCCCC)=C(c3cc(CCCCCC)cs3)S2(=O)=O)=C1', '[H]/N=C(\\\\N)c1ccc(OCCCCCOc2ccc(/C(N)=N/[H])cc2)cc1.[H]/N=C(\\\\N)c1ccc(OCCCCCOc2ccc(/C(N)=N/[H])cc2)cc1', 'CCCC[C@@H](NC(=O)[C@@H](Cc1ccccc1)NC(=O)[C@H](N)Cc1ccccc1)C(=O)N[C@H](CCCN=C(N)N)C(=O)N1CCCSCC1', 'NC(=O)c1ncc(N2CCCCC2)nc1Cc1ccc(C2CCN(CC3CCN(c4ccc(OC5CCC(=O)NC5=O)nc4)CC3)CC2)cc1', 'CC1CCC2(C(=O)OC3OC(CO)C(O)C(O)C3O)CCC3(C)C(=CCC4C(C)(CC(=O)O)C(C(C)(C)C(=O)O)CCC43C)C2C1(C)O', 'CC1(C)CCC2(C(=O)O)CCC3(CO)C(=CCC4C5(C)CC(O)C(OC6OC(CO)C(O)C(O)C6O)C(C)(C(=O)O)C5CCC43C)C2C1', 'C=C(C)C(=O)O.C=C(CC)C(=O)O.C=Cc1ccccc1.COCN(COC)c1nc(N(COC)COC)nc(N(COC)COC)n1', 'CC(C)(SC1=CC(C(C)(C)C)=C(OCC2OC(O)C(O)C(O)C2O)C(C(C)(C)C)C1)Sc1cc(C(C)(C)C)c(O)c(C(C)(C)C)c1', 'CC(C)(O)CCC(=O)[C@](C)(O)[C@H]1[C@H](O)C[C@@]2(C)[C@@H]3CC=C4[C@@H](C[C@H](O[C@@H]5O[C@H](CO)[C@@H](O)[C@H](O)[C@H]5O)C(=O)C4(C)C)[C@]3(C)C(=O)C[C@]12C', 'CC1(C)CCCCCOc2cccc(n2)NC2=NCC3=C2CN(C3)C1=O.CC1(C)CCCOc2cccc(n2)NC2=NCC3=C2CN(C3)C1=O', 'C=CC(C)(C)OCC1OC(OC2C3=C(C(C)COC(C)=O)CC(O)C3(C)C=C3C(COC)CCC3C(C)C2O)C(O)C(O)C1OC(C)=O', 'CCCC(C(=O)N(C)C(Cc1ccccc1)C(=O)O)N(COC(=O)C(C)(C)C)C(=O)C(CCc1ccccc1)NC(=O)CN1CCOCC1', 'OC1(Cc2cccc(F)c2)CCCCCC1CN1CCCC1.OC1(c2ccc(Cl)c(C(F)(F)F)c2)CCCCCC1CN1CCCC1', 'COCCN1CCC(Oc2c(CCC/C=C/[C@@H]3CC3OC(=O)N[C@H](C(=O)N3CCC[C@H]3C(=O)O)C(C)(C)C)c(=O)[nH]c3ccccc23)CC1', 'CCCC/C=C/CCCCCCCC(=O)O[C@H](COC(=O)CCCCCCCCC)CO[C@H]1O[C@H](CS(=O)(=O)O)[C@@H](O)C(O)C1O', 'CCC.Cc1ccc2c(c1)C(C)(C)c1cc(C3=NC4C=CC=CC4=C(c4ccccc4)N3)ccc1-2.Cc1ccccc1-c1cc2ccoc2cc1C', 'C#CCOCCC(=O)CNCCOCCOCCNC(=O)NCCOCCOCCNC(=O)NC[C@@H](Cc1ccc(OC)cc1)C(N)=O', 'CCCCN(CCCC)C(=O)c1cc(C)n(-c2ccc(NC(=O)c3cnc(N4CCCC4)nc3)cc2C(O)N2Cc3ccccc3CC2O)n1', 'C[C@@H](OC(=O)[C@]1(N=[N+]=[N-])CN(c2c(N(C)CCNC(=O)OC(C)(C)C)c(=O)c2=O)C[C@@H]1CCCB1OC(C)(C)C(C)(C)O1)c1ccccc1', 'C[C@@H]1CC[C@@]2(C(=O)O[C@H]3O[C@@H](CO)[C@H](O)[C@@H](O)[C@@H]3O)CC[C@@]3(C)C(=CC[C@@H]4[C@]5(C)C[C@H](O)[C@H](O)[C@@](C)(C(=O)O)[C@@H]5CC[C@@]43C)[C@@H]2[C@]1(C)O', 'CC1(C)CCC2(C(=O)O)CCC3(C)C(=CCC4C3(C)CCC3(O)C4(CO)CCC(OC4OC(CO)C(O)C(O)C4O)C3(C)C(=O)O)C2C1', 'C[C@@H]1CC[C@]2(C(=O)O[C@@H]3O[C@H](CO)[C@@H](O)[C@H](O)[C@H]3O)CC[C@]3(C)C(=CC[C@@H]4[C@@]5(C)C[C@@H](O)[C@H](O)[C@@](C)(C(=O)O)[C@H]5CC[C@]43C)[C@@H]2[C@]1(C)O', 'CC(C)(Sc1cc(C(C)(C)C)c(O)c(C(C)(C)C)c1)Sc1cc(C(C)(C)C)c(OC[C@H](O)[C@@H](O)[C@H](O)[C@H](O)CO)c(C(C)(C)C)c1', 'CCCCC[C@H]1Cc2cc(O)c(CC(C)C)cc2-c2c(OC)cc3c(c21)C[C@@H](O)[C@H](c1ccc2c(c1)O[C@@H]1C[C@@H](CO)CC[C@@H]1CC#CO2)O3', 'CCC(C)[C@H](OC(N)=O)C(=O)N1CCC[C@H]1c1ncc(-c2ccc(-c3ccc(-c4cnc([C@@H]5CCCN5C(=O)CNC(C)C)[nH]4)cc3)cc2)[nH]1', 'CCS(=O)(=O)CCN1C(=NC=C1[N+](=O)[O-])C', 'O=C1CC(c2ccc(F)cc2C(F)(F)F)CN1', 'CCC(N)c1cn2ccccc2n1.Cl.Cl', 'CCCCNS(=O)(=O)c1[nH]ncc1C(=O)O', 'O=C(O)c1cn2c3c(cc(F)cc3c1=O)CCC2', 'O=C1c2ccccc2C(=O)c2c1cn1ccccc21', 'COc1cncc(-c2ccc(F)cc2C(=O)O)c1', 'CCC(C)C(C)Nc1cc(Cl)nnc1Cl', 'N#Cc1ccccc1-c1cccc(C(F)(F)F)c1', 'CC1(C)CN([n+]2cc([O-])on2)CCS1(=O)=O', 'COc1cc(C(=O)O)ccc1-c1ccnc(F)c1', 'Nc1ncc(SCCN2CC[C@@H](F)C2)s1', 'O=C(O)c1ccc(=O)n(Cc2ccccc2F)c1', 'CCn1cncc1S(=O)(=O)N[C@H](C)C(=O)O', 'NS(=O)(=O)c1cn(CCCCC(=O)O)cn1', 'Nc1cccc(C#Cc2ccc(F)c(F)c2F)c1', 'NC(=O)c1cc(F)ccc1Oc1ccc(O)cc1', 'CNc1c(-c2cn[nH]c2)cnc2[nH]cc(Cl)c12', 'CC1CN(c2cccc(Cl)n2)CCN1.Cl', 'Cl.NC(CO)Cc1ccc(O)c(C(=O)O)c1', 'Cl.Cl.NCCCc1ncc2ccccn12', 'Fc1cccc(OCc2ccc3c(c2)OCO3)n1', 'CC(N)Cc1cnc2ccccn12.Cl.Cl', 'COC(=O)CCCS(=O)(=O)Nc1ncc[nH]1', 'CCOC(=O)c1cn[nH]c1S(=O)(=O)N(C)C', 'CC(C#N)N1CCN(CC(Cl)=CCl)CC1', 'CN(C(C)(C)C(=O)O)S(=O)(=O)c1cn[nH]c1', 'Cc1ccc(Oc2ccc(F)cc2)cc1[N+](=O)[O-]', 'Cc1cccc(Oc2nccc(C(=O)O)c2F)c1', 'COc1ccc(-c2ccc(C(=O)O)c(F)c2)cn1', 'Nc1cc(Cl)nnc1N/N=C\\\\c1ccccc1', 'O=[N+]([O-])c1nccn1[C@@H]1OC(CO)[C@@H](F)[C@@H]1O', 'Cc1cccc(C#N)c1OCC(F)(F)C(F)F', 'CC(N)C1CSc2cccc(C(F)(F)F)c21', 'CN1CCC(c2nc(Cl)c(Cl)n2C)CC1', 'N#Cc1ccc([C@@H](F)c2cccc(F)c2)c(F)c1', 'O=C(O)c1c2c(nc3cc(F)ccc13)CCOC2', 'O=C(O)Cc1ccc(Oc2ccncc2)c(F)c1', 'N#CCc1ccc(-c2ccc(F)c(F)c2F)cc1', 'COCNC(=O)NCCN1C(=O)CSC1=O', 'Cn1cc(-c2cc3c(N)ccnc3[nH]2)c(Cl)n1', 'CCC[Si]1CC(C)O[Si](C)O[Si](C)O1', 'Cc1cc(Oc2cccc(C(=O)O)n2)ccc1F', 'O=CC1CC(c2c(F)c(F)cc(F)c2F)CN1', 'CC(Nc1cc(Cl)ccc1C#N)c1ncn[nH]1', 'Cc1ccc(F)cc1-c1ccc(O)c([N+](=O)[O-])c1', 'COc1ccc(F)c(-c2ccncc2C(=O)O)c1', 'COc1cc([C@@H](N)CC(=O)O)ccc1O.Cl', 'COC(OC)C(C)NC(=O)c1ccc(Cl)o1', 'CCn1cc(S(=O)(=O)NCC(=O)O)nc1C', 'Cc1nn(-c2ccccc2N=[N+]=[N-])c(C)c1Cl', 'NC1(Cc2ccc(SC(F)(F)F)cc2)CC1', 'O=C(O)c1ncn([C@@H]2O[C@H](CO)[C@@H](O)[C@H]2F)n1', 'CCN(CC(=O)O)S(=O)(=O)c1cn[nH]c1C', 'CCCCS(=O)(=O)c1nc(C)c([N+](=O)[O-])[nH]1', 'Nc1ccc(C(F)(F)F)cc1C=CCCS', 'N#Cc1cccc2c1C(=CC(=O)O)c1ccccc1-2', 'O=C1Cc2cc(C(O)c3ccco3)cc(F)c2N1', 'CCOC(=O)c1nc(CS(C)(=O)=O)n(C)n1', 'N#CC[NH2+]Cc1ccc(-c2cccc(Cl)c2)o1', 'N#Cc1c(F)cccc1OCCCC(F)(F)F', 'COc1cc(C(=O)O)ccc1OCCN.Cl', 'O=C(O)C(c1ccccc1)n1cc(F)ccc1=O', 'Cc1nc(C(C)CS(C)(=O)=O)c([N+](=O)[O-])[nH]1', 'COc1cc(-c2cc(C(=O)O)ccn2)ccc1F', 'O=C(O)c1ccnc(OCc2ccccc2)c1F', 'Cc1nc([N+](=O)[O-])c(SCC(O)CO)n1C', 'Cn1cc(-c2nc3c(Cl)cccn3c2N)cn1', 'CCCC(=O)NCc1nnc(S(C)(=O)=O)o1', 'Cc1cc(NC(=O)[C@@H](C)NS(C)(=O)=O)no1', 'Cn1cc(CCNS(=O)(=O)CC(=O)O)cn1', 'O=C1C(C#Cc2ccccc2)=[N+]([O-])c2ccccc21', 'Cc1[nH]c(=O)[nH]c(=O)c1S(=O)(=O)NC(C)C', 'N#Cc1cc(Cl)ccc1NCCn1ccnn1', 'Fc1ccc2ccn(COCC(F)(F)F)c2c1', 'N#Cc1cccc(Cl)c1NCCn1ccnn1', '[H]/N=c1\\\\ccc(Cl)nn1/C(N)=N/c1ccccc1', 'Cn1cc(S(=O)(=O)NCCO)cc1C(N)=O', 'O=C(Nc1cccc(O)c1)c1cc(F)ccc1O', 'N#Cc1ccc(NCCn2ccnn2)c(Cl)c1', 'Cc1cc(C(=O)O)cnc1Oc1cccc(F)c1', 'CCn1cnc(S(=O)(=O)N[C@H](C)C(=O)O)c1', 'O=S(=O)(O)CCC1CCC(O)C(O)C1.[Na+]', '[H]/N=C(C(=O)OCC)/C(=C(\\\\C)Cl)C1OCCO1', 'NC(=O)c1cc[n+](Cc2ccccc2Cl)cc1', 'O=C1C=Cc2ccc3c([nH]c4ccccc43)c2C1=O', 'CCc1cc(NS(=O)(=O)C(C)C(=O)O)n[nH]1', 'Cc1cc(C)n2cc(CN)nc2c1.Cl.Cl', 'C=CCC(NSc1ccccc1)C(F)(F)F', 'COC(=O)c1c[nH]c(=O)cc1-c1ccc(F)cc1', 'CC(=O)Oc1cc(F)ccc1Oc1ccccn1', 'C=CC(=O)CCOC(=O)c1ccccc1C(=O)[O-]', 'CCN(CC(=O)OC)S(=O)(=O)c1cnc[nH]1', 'CC(C)/N=C/c1ccccc1SC(F)(F)F', 'Cn1cc(S(=O)(=O)N2C[C@@H](O)[C@@H](O)C2)cn1', 'FC(F)(F)c1ccc(C2NCCCS2)cc1', 'CCCCNc1nc(NC)c(Cl)cc1Cl', 'O=C1C(=O)N(CC(=O)C2CC2)c2c(F)cccc21', 'C#CC1CC(=O)N(c2ccc(F)cc2C(=O)O)C1', 'Cn1ccc(CNc2nccc(C#N)c2Cl)n1', 'CC(c1nc2ccc(Cl)cc2[nH]1)n1cncn1', 'Cc1cccc([NH+]=Cc2cc(Cl)ccc2O)n1', 'COc1cnc([C@@H](O)[C@@H](C)S(N)(=O)=O)cn1', 'NCc1cn2[nH]c(-c3ccccc3Cl)nc2n1', 'O=C(Nc1ccc(F)cc1)c1cc(O)ccc1O', 'CCC(C)(CC)Nc1nc(Cl)ncc1Cl', 'FC(F)(F)c1cccc(CN2CC(S)C2)c1', 'O=C(O)c1cc(=O)c2ccc(F)cc2n1C1CC1', 'CCOc1ccc2[nH]c(C(F)(F)F)cc2c1F', 'O=C(Cc1ccccc1F)c1c[nH]c(C(=O)O)c1', 'Cc1cc(NC(=O)CN(C)S(C)(=O)=O)no1', 'CC(=O)OC[Si](COC(C)=O)COC(C)=O', 'COC(=O)c1ccc(=O)n(-c2ccccc2F)c1', 'O=C(O)c1ccc(OCc2ccc(F)cn2)cc1', 'O=C(O)c1cc2ccc3cccc4cnc(c1)c2c34', 'N#Cc1cc(F)cc(COCCC(F)(F)F)c1', 'COCC(O)CN(C)C(=O)c1ccc(Cl)o1', 'CCC(CCl)(CCl)Nc1ccnc(C)n1', 'COc1cccnc1-c1cc(F)ccc1C(=O)O', 'Cc1cc(C(=O)O)cc([C@@H](N)CO)c1O.Cl', 'O=C1CCC(=O)N1c1ccc(C#CCO)cc1F', 'O=[N+]([O-])c1cccc(OCc2ccc(F)cc2)c1', 'O=C(O)CCS(=O)(=O)NCCc1ncc[nH]1', 'C#Cc1ccccc1N1C(=O)c2ccccc2C1=O', 'N#Cc1cccc(-c2coc3ccccc3c2=O)c1', 'NC(N)=NCc1ccccc1.O=S(=O)(O)O', 'O=C(NCc1ccccc1)c1cccnc1.[Cl-]', 'CC(C)(C)C(Cl)CNc1ncc(Cl)cn1', 'Cc1[nH]ncc1-c1nc2c(N)cc(Cl)cc2[nH]1', 'O=C(O)c1cncc(OCc2ccccc2F)c1', 'FC(F)(F)Sc1cccc(C2CCCN2)c1', 'CCNC(=S)N/N=C(/CCC(=O)O)C(=O)O', 'O=C(O)Cc1ccccc1Oc1ccc(F)cn1', 'C/C=C(C(=N\\\\C)\\\\c1cc(C)cs1)/C(F)(F)F', 'CC(C)[C@H](NS(=O)(=O)c1cnc[nH]1)C(=O)O', 'CCCc1cc(NS(=O)(=O)CC(=O)O)n[nH]1', 'Cc1ccccc1Oc1cc(F)cc([N+](=O)[O-])c1', 'CCc1[nH]nc(C(=O)OC)c1S(=O)(=O)NC', 'CCN(CC(=O)O)S(=O)(=O)c1ccnn1C', 'O=c1cnn([C@@H]2O[C@H](CO)C(F)[C@@H]2O)c(=O)[nH]1', 'Cl.Clc1ccc(CN2CCNCC2)nc1', 'CN1CCN(c2cccc(Cl)n2)CC1.Cl', 'Cc1ncc([N+](=O)[O-])n1C(C)CS(C)(=O)=O', 'O=C1C(=O)c2c([nH]c3ccccc23)-c2ccccc21', 'NCC(=O)C(=O)C(S)(C(=O)CN)C(=O)CN', 'Cn1cc(-n2c(CCl)nc3cnccc32)cn1', 'COc1cccc(-c2ncccc2C(=O)O)c1F', 'Cn1cc(-n2c(N)nc3cccc(Cl)c32)cn1', 'O=C(O)c1c[nH]cc(Cc2ccc(F)cc2)c1=O', 'O=C(OCc1cccc(=O)[nH]1)c1ccc(F)cc1', 'CC(C)c1c(Cl)nc(CN(C)C)nc1Cl', 'Cl.NCC1CCCN1c1cccc(Cl)n1', 'CCOC(=O)c1c(NS(C)(=O)=O)cnn1C', 'O=C(Nc1ccccc1F)c1cc(O)ccc1O', 'Nc1nc(CCCCl)ncc1CCCCl', 'O=C(OCC(=O)c1ccc[nH]1)c1cccc(F)c1', 'COc1ccc(C(OC)(OC)OC)c(Cl)n1', 'CNc1nc(N(C)C(C)C)c(Cl)cc1Cl', 'CNc1cn2ccnc2c(Sc2ncn[nH]2)n1', 'Nc1cn[nH]c1-c1nc2ccc(CCl)cc2[nH]1', 'NCCCC[C@@H](N)c1ccc(Cl)nc1Cl', 'CC1C(N)NNC1c1ccccc1Cl.Cl', 'C#Cc1ccc(CNc2n[nH]c(N)n2)cc1Cl', 'C=CCC1C(O)CN(C(=O)CCl)C1C(=O)O', 'CC(NS(=O)(=O)c1cnc[nH]1)C(C)C(=O)O', 'O=C(O)c1cc(F)ccc1COc1cccnc1', 'COC(=O)c1cc(C(=O)c2ccc(F)cc2)c[nH]1', 'Cc1cc(Oc2cnccc2C(=O)O)ccc1F', 'CNCC#Cc1cc(OC(F)(F)F)ccc1F', 'Cn1cc(-n2c(N)nc3cc(Cl)ccc32)cn1', 'Cc1cnc(C)c(NC(C)(CCl)CCl)n1', 'Cc1ccc(C(=O)O)c(Oc2cccc(F)c2)n1', 'N#CCc1cc(F)ccc1-c1cccc(F)c1F', 'Nc1ccc(Oc2ccc(F)cc2)c(C(=O)O)c1', 'CSc1ccc([S+](C)c2ccccc2)cc1', 'Nc1ccc(F)cc1Oc1ccc2c(c1)OCO2', 'Cn1nc(-c2cccs2)nc1-c1nc(N)n[nH]1', 'COc1ncc(-c2ccc(F)cc2)cc1C(=O)O', 'CC1=C(C)C(N)C=CC1=[N+]=[N-].O=S(=O)(O)O', 'Cc1cc(F)ccc1-n1cc(C(=O)O)ccc1=O', 'CCCOC(=O)c1n[nH]c(C)c1S(N)(=O)=O', 'COC(=O)[C@@H]([NH3+])Cc1ccc(O)c(O)c1.[Cl-]', 'Cn1ccc(S(=O)(=O)NCC(O)C(N)=O)c1', 'Nc1nc(N)nc(/C=C/c2ccccc2Cl)n1', 'CCOC(=O)c1c(C)oc2cccc(C(=O)[O-])c12', 'CNc1n[nH]c(Nc2cccc(Cl)c2)c1C#N', 'CN(C)C(=NS(=O)(=O)C(F)(F)F)N(C)C', 'C[C@H]1CNSc2ccc(C(F)(F)F)cc2C1', 'Cl.Oc1cc(O)c([C@H]2COCCN2)c(O)c1', 'CCn1nccc1S(=O)(=O)N[C@@H](C)C(=O)O', 'O=[N+]([O-])c1nccn1C1O[C@H](CO)[C@@H](F)[C@@H]1O', 'O=C1CC(c2ccc(C(F)(F)F)c(F)c2)CN1', 'Cc1ccc(F)c(C(=O)c2c[nH]c(C(=O)O)c2)c1', 'CCCNc1cc(C(F)(F)F)ccc1C=S', 'CC1C=NNC(S)N1C(CC(=O)O)C(=O)O', 'O=C1c2ccccc2-c2noc(-c3ccccc3)c21', 'C=CC[n+]1c(C)cccc1C.[O-][Cl+3]([O-])([O-])[O-]', 'COC(=O)NS(=O)(=O)c1cnn(C(C)C)c1', 'CNCc1nc2c(C)cccc2[nH]1.Cl.Cl', 'CC.CCl.O=COc1ccc([N+](=O)[O-])cc1', 'CC(NCc1c(Cl)nc(Cl)n1C)C1CC1', 'O=c1oc2nc3ccccc3cc2c2ccccc12', 'O=S(=O)(NCC(F)(F)F)N[C@H]1CCNC1', 'COc1cccc(-c2cccc(C(=O)O)n2)c1F', 'O=C(O)c1ccncc1OCc1cccc(F)c1', 'CCc1ncc(S(=O)(=O)NCC(=O)OC)[nH]1', 'Cc1cccc(Oc2cccc(F)c2C(=O)O)n1', 'CCOC(=O)C1C=Nc2ccc(F)cc2C1=C=O', 'COc1cnc(C(O)C(C)S(N)(=O)=O)cn1', 'CC(C#N)C(O)c1cc(F)cc(C(F)(F)F)c1', 'CCc1c(N)ccc(O[Cl+3]([O-])([O-])[O-])c1CC', 'O=C1CC(c2cc(C(F)(F)F)ccc2F)CN1', 'Cc1ccc(Oc2ccc(F)cc2C(=O)O)nc1', 'CCC(CCl)(CCl)Nc1cc(C)cnn1', 'CCOC1=NS(=O)(=O)C(C(=O)N(C)C)=C1N', 'Nc1cccc(C(=O)O)c1Oc1ccc(F)cc1', 'O=C(OF)c1cn(C2CC2)c2ccccc2c1=O', 'O=C1NC(=O)c2c1c1ccccc1c1ccccc21', 'O=C(O)c1ccc(OCc2ccc(F)cc2)cn1', 'CSc1c(F)cc(C2(N)CCC2)c(F)c1F', 'COC(=O)[C@@H](N)c1ccc(O)c(OC)c1.Cl', 'Cc1c(/C=C/C(=O)O)c(=O)[nH]c2ccc(F)cc12', 'FC(F)(F)c1ccc(C2CSCCN2)cc1', 'O=C(O)Cc1[nH]c(=O)ccc1-c1ccc(F)cc1', 'Cc1csc(CNc2cncc3nnnn23)n1', 'O=C1CCCNc2c(F)cc(C(F)(F)F)cc21', 'CCC(=O)NCCc1nnc(S(C)(=O)=O)o1', 'NC(=CC(=O)c1ccccc1)C(F)(F)C(F)F', 'CCC(NS(=O)(=O)c1cnn(C)c1)C(=O)O', 'COC(=O)/C(C#N)=C1/CCc2cc(F)ccc2O1', 'Cl.Cl.NCCCc1cn2ccccc2n1', 'CC1=C(C(=O)O)C2(CCNCC2)OC1=O.Cl', 'O=C(O)c1ccc(Cn2ccccc2=O)c(F)c1', 'Cn1ncc(-c2ccc3c(Cl)[nH]nc3c2)c1N', 'C[C@@]1(CSCCNC(=O)O)NC(=O)NC1=O', 'CCOC(C#N)c1ccc(F)cc1C(F)(F)F', 'CCC(CC)CNc1nc(Cl)ncc1Cl', 'N#CCC[n+]1ccc(-c2ncccn2)cn1.[Cl-]', 'N#CCC1(Cn2ncc3ncc(Cl)nc32)CC1', 'CC(CCNS(=O)(=O)c1cn[nH]c1)C(=O)O', 'Nc1c(Cl)ncnc1NN=Cc1ccccc1', 'O=Cc1cc2c(cc1F)CN(CC(F)(F)F)C2', 'COC(=O)c1cc(C(=O)c2ccccc2F)c[nH]1', 'O=C(c1ccco1)N1CCOc2cc(F)ccc21', 'O=C1N=C2C(=O)c3ccccc3C2c2ccccc21', 'O=C(O)c1ccc(F)c(Nc2ccc(O)cc2)c1', 'O=c1oc2ccc3cccnc3c2c2ccccc12', 'CC(CS(=O)(=O)Cc1ncnn1C)C(=O)O', 'CCc1nc(S(N)(=O)=O)cn1CCC(=O)O', 'Cn1cc(C(=O)O)c(-c2ccc(F)cc2)cc1=O', 'COC(=O)[C@H]1NCC[C@@H]1C(F)(F)C(F)(F)F', 'Cc1nc(Sc2ncnc3nc[nH]c23)c(N)[nH]1', 'COc1ccc(-c2ccc(C(=O)O)cn2)c(F)c1', 'O/N=C/c1cc(-c2ccc(O)c(F)c2)ccc1O', 'O=S(=O)(c1cn[nH]c1)N1CCOC(CO)C1', 'COC(=O)c1ccc(-c2cc[nH]c(=O)c2)cc1F', 'COC1=CC2=C(C=CN=C2C=C1OC)OC3=CC=C(C=C3)NC(=O)C4(CC4)C(=O)NC5=CC=C(C=C5)F', 'COc1ccccc1NC(=O)N(Cc1cccc(C(F)(F)F)c1)CC1CC(c2cccc(F)c2)=NO1', 'CCN(C(=O)c1ccc(-n2nc(C(F)(F)F)c3c2-c2ccoc2CC3)cc1)c1cccc2ccccc12', 'O=P(N=P(c1ccccc1)(c1ccccc1)c1ccccc1)(Nc1ccccc1)N1CCOCC1', 'CN(c1c2c(c(O)c3ncc(Cc4ccc(F)cc4)cc13)C(=O)N(CCC(C)(C)O)C2)S(C)(=O)=O', 'CCOC(=O)c1ccc(-n2c(C)cc(/C=C3\\\\C(=O)NC(=S)N(c4ccc(C)c(C)c4)C3=O)c2C)cc1', 'CCCCCOc1ccc(C2c3c(oc4ccc(Cl)cc4c3=O)C(=O)N2c2ccc(CC)cc2)cc1', 'C#CN(C(=O)C(CO)NC(=O)OC(C)(C)C)C(C(=O)Nc1c(C)cccc1Cl)c1ccc(O)cc1', 'CCN(CC12CC[C@@H](c3cc(-c4c(F)cccc4F)nnc31)C2(C)C)S(=O)(=O)c1ccccc1F', 'COc1ccc(S(=O)(=O)Nc2ccccc2CCc2ccc(C(=O)Nc3ccccc3N)cc2)cc1', 'CC1(C)c2ccccc2P(=S)(c2ccccc2)c2ccc(N(c3ccccc3)c3ccccc3)cc21', '[CH2]c1oc(-c2ccccc2)nc1COc1cccc(CN(CC(=O)O)C(=O)Oc2ccc(OC)cc2)c1', 'CCOc1ccccc1N(CC(=O)N/N=C\\\\c1cccc2ccccc12)S(=O)(=O)c1ccc(C)cc1', 'CCCCOc1ccc(C(=O)Nc2cc(C)nn2-c2ncnc3c2cnn3-c2cccc(Cl)c2)cc1', 'O=C(N[C@@H](CCO)c1ccc(Cl)cc1)C1CN(c2ncnn3cc(C4=CCC(F)(F)CC4)cc23)C1', 'c1ccc(N(c2cccc(-c3ccc4oc5ccccc5c4c3)c2)c2cccc3oc4ccccc4c23)cc1', 'Cc1nc2sc([C@@H](c3cccs3)N3CCN(C(c4ccccc4)c4ccccc4)CC3)c(O)n2n1', 'Cc1oc2c(c(C)cc3oc(=O)c(CC(=O)N[C@H](Cc4c[nH]c5ccc(O)cc45)C(=O)[O-])c(C)c32)c1C', 'CCCc1cn(-c2c(Cl)cccc2OC)c(=O)n1Cc1ccc(-c2ccccc2-c2nn[nH]n2)cn1', 'CCn1nc(C)c(Br)c1C(=O)N1CCC2(CCN(C(=O)Nc3ccc(C)cc3C)CC2)C1', 'C=Cc1c(NS(=O)(=O)c2ccc(OC)c(OC)c2)cc(Cc2cccc3cccnc23)c(N)c1C=C', 'CC(C)N(CC(=O)NC(c1ccc(C(F)(F)F)cc1)C1CCNC1)S(=O)(=O)c1ccc(F)cc1', 'c1ccc(-c2ccc(-c3ccc4c(c3)Oc3cccc5c3N4c3ccc(-c4ccccc4)cc3O5)cc2)cc1', 'COc1cccc(C2(c3cccc(OC)c3)C=Cc3c(N)nn(S(=O)(=O)c4ccc(C)cc4)c3C2)c1', 'C[C@@H](O)C(=O)N1CCN(c2cc(-c3cc(C(F)(F)F)c4c(N)ncnn34)ccc2C#N)C(=O)C1(C)C', 'C[C@H](c1ccccc1)N1[C@@H]2CC[C@@H](C2)[C@H]1CNC(=S)Nc1cc(C(F)(F)F)cc(C(F)(F)F)c1', 'Cc1cc(Nc2cc(N3CCC[C@@H]3CN)nc3c(-c4cn[nH]c4)cnn23)sc1S(=O)(=O)N(C)C', 'c1ccc(-c2ccc3ccc4c(-n5c6ccccc6c6cccnc65)nc(-c5ccncn5)nc4c3n2)cc1', 'Cc1ncsc1C(CNC(=O)c1c(F)cccc1Cl)N1CCC(OCC2=CCC=CC=C2)CC1', 'CS(=O)(=O)c1cnc2cc(N3CCOCC3)nc(OC3CCC(NC(=O)c4ncco4)CC3)c2c1', 'COc1ccc(S(=O)(=O)N(CC(=O)NCc2ccc(N(C)C)cc2)c2ccc(F)cc2)cc1OC', 'COc1cc2ncnc(N(C)c3ccc(F)c(Cl)c3F)c2cc1N1CC2(CCN(C)CC2)CC1=O', 'Cc1nnc(C/N=C(\\\\NCc2cc(C(C)C)no2)NC2CCCCC2)n1C.I', 'CC(C)(C)OC(=O)N[C@@H](CSCc1ccc(NC(=O)Cn2ccc3cc(F)ccc32)cc1)C(=O)O', 'O=C1CCC(N2Cc3c(OCc4ccc(CN5CCc6sccc6C5)cc4)cccc3C2=O)C(=O)N1', 'CC1=CC(=O)[C@@H]2C[C@@H]3C(=CCn4c(=O)n(-c5ccccc5)c(=O)n43)[C@H](c3ccc(O)c(F)c3)[C@]2(C)C1=O', 'Cc1cccn2c(NCc3ccccc3)c(-c3cccc(OC(=O)c4ccc(C(F)(F)F)cc4)c3)nc12', 'CCOC(=O)c1ccc(NC(=O)CC2C(=O)N(c3ccccc3)C(=S)N2CCc2ccccc2)cc1', '[O-]C(=NC(=Cc1ccc(F)cc1)[P+](c1ccccc1)(c1ccccc1)c1ccccc1)c1ccccc1', 'COc1ccccc1N1CCN(C(=O)c2ccc(NS(=O)(=O)c3ccc4ccccc4c3)cc2)CC1', 'Cc1ccc([C@@H](C(=O)NCc2ccco2)N(C(=O)CNC(=O)c2cccs2)c2ccccc2C)cc1', 'CC(C)(CC(F)F)NC(=O)O[C@@H]1CC[C@H](c2cnc(Nc3ccc(S(N)(=O)=O)cc3F)nc2)C1', 'CCCc1ccc(S(=O)(=O)Nc2cccc(-n3ncc(C(=O)O)c3[C@H]3C[C@@H]3c3ccccc3)c2)cc1', 'COc1ccc(NC(=O)CN2C(=O)N(c3cccc(Cl)c3)C(=O)C3CC(OC)C(OC)CC32)cc1', 'O=C(O)C1(C(=O)O)CCN(Cc2ccc(-c3nc(-c4ccc(-c5ccccc5)c(F)c4)no3)cc2)CC1', 'COc1cc(/C=C2/S/C(=N\\\\c3ccc(C)cc3)N(CCc3ccccc3)C2=O)ccc1OCC(N)=O', 'CC(=O)NC[C@H]1CN(c2ccc(N3C[C@@H]4C(N(C)C(=O)c5ccc([N+](=O)[O-])o5)[C@@H]4C3)c(F)c2)C(=O)O1', 'COc1ccc(CN2C(=O)N(c3ccc(F)cc3)C(=O)C2Cc2cc(-c3ccccc3)no2)cc1OC', 'COc1ccc(CN(Cc2ccc(OC)cc2OC)c2nc(SC)nc(N)c2[N+](=O)[O-])c(OC)c1', 'CC(C)Oc1c(C2C(C(=O)Nc3ccnc(C(N)=O)c3)OC(C)(C(F)(F)F)C2C)ccc(F)c1F', 'O=C(Nc1ccc(S(=O)(=O)N2CCN(C(c3ccccc3)c3ccccc3)CC2)cc1)c1ccco1', 'C=CC[C@@]1(C)CC(c2cccc(Cl)c2)[C@@H](c2ccc(Cl)cc2)N(C(CSCC)C2CC2)C1=O', 'O=C(Nc1ccc(Oc2ccccc2)cc1)C(=O)N1CCN(Cc2cc(F)ccc2C(F)(F)F)CC1', 'C=C(S/C(Nc1ccc(NC)cc1)=C(\\\\C)CC)C(=O)c1sc2cc(Cl)ccc2c1C.CCN', 'N[C@H](Cc1cc(F)c(F)cc1F)C(F)(F)C(=O)N1CC2CCCC2C[C@H]1C(=O)NCC(F)(F)F', 'CCc1ccc(-c2cc(C(=O)Nc3sc(C(=O)N(C)C)c(C)c3C(=O)OC)c3ccccc3n2)cc1', 'C/C=N/C=C\\\\CCC1(c2ccc(Oc3ccc(C(F)(F)F)cc3)cc2C(F)(F)F)OCC(CC)O1', 'COC(=O)CCc1cccc(CN(Cc2ccc(-c3ncccn3)cc2)S(=O)(=O)c2ccccc2)c1', 'COc1cccc(NC(=S)N(Cc2ccc(C)cc2)Cc2cc3cc4c(cc3[nH]c2=O)OCCO4)c1', 'COC(=O)c1cccc(C2CC2c2ccc(OCc3c(-c4ccccc4)noc3C(C)C)cc2Cl)c1', 'CCN/C(=N\\\\CC(C)N1CCOCC1)NCCCc1nnc2ccccn12.I', 'Cc1cc2nnc(C(=O)N3CCC(c4nc(C(=O)Nc5nc6ccccc6[nH]5)cs4)CC3)c(C)n2n1', 'CC(C)Oc1c([C@H]2[C@@H](C)[C@](C)(C(F)(F)F)O[C@H]2C(=O)Nc2ccnc(C(N)=O)c2)ccc(F)c1F', 'COC(=O)C1(c2nc(-c3ccc(CO)cc3)c(-c3ccc(F)c(F)c3)o2)CCN(C(=O)N(C)O)CC1', 'NC(N)c1ccc(CNC(=O)c2ccc3c(c2)[C@@H]2O[C@H]3c3ccc(-c4ccc(F)cc4F)cc32)cc1F', 'CCOC(=O)Cc1ccc(-c2nc(NCc3ccc4c(c3)OCO4)c3c4c(sc3n2)CCCC4)cc1', 'Cc1cccc(CNc2cc(CC(=O)N(C)C)c3ncc(C#N)c(Nc4ccc(F)c(Cl)c4)c3c2)c1', 'CC(C)(C)OC(=O)N[C@@H]1CC[C@H](Nc2c([N+](=O)[O-])cnc3c2ccn3S(=O)(=O)c2ccccc2)C1', 'COC(=O)C1CCC(C(=C\\\\c2nc3ccccc3s2)/C=C2\\\\C=Cc3cc([N+](=O)[O-])ccc3N2C)CC1', 'CCCCOc1ccc(C2c3c(oc4cc(C)cc(C)c4c3=O)C(=O)N2Cc2ccccc2Cl)cc1', 'C/N=C(/NCCc1noc(-c2ccccn2)n1)NCCN(C(C)C)C(C)C.I', 'COc1ccc2nc(-c3ccccc3)cc(C(=O)NN=Cc3ccc(OC(=O)c4ccccc4)cc3)c2c1', 'O=C(N/C(=C\\\\c1ccc2c(c1)OCO2)C(=O)N1CC2CC(C1)c1cccc(=O)n1C2)c1ccc(F)cc1', 'CN(CCC(=O)Cc1sc2c(c1-c1nc3cnccc3s1)CCNC2)Cc1ccc2[nH]ccc2c1', 'COc1cc(NC(C)=O)c(O)c2c1C[C@H]1C[C@H]3[C@H](N(C)C)C(=O)C(C(N)=O)=C(O)[C@@]3(O)C(=O)C1=C2O', 'C[C@@H](C1CCN(c2cccc(C(F)(F)F)c2)CC1)n1ncc2nc(-n3cc(C(=O)O)cn3)[nH]c(=O)c21', 'COC(=O)C1=C(N)Oc2cc(C)n(C3CC3)c(=O)c2C12C(=O)N(Cc1cccc(F)c1)c1ccccc12', 'CN(O)Cc1ccc(CSCCNC(=C[N+](=O)[O-])NCCSCc2ccc(CN(C)O)o2)o1', 'CCOC(=O)C(OC(C)(C)C)c1c(C)cc2nc(C#N)sc2c1-c1ccc2c3c(ccnc13)CCO2', 'CCN(CC(=O)Nc1cc(C(C)(C)C)nn1-c1cccc(C)c1)C(=O)Nc1cccc(Cl)c1Cl', 'CCC(/C=C1\\\\Oc2ccc(OC)cc2N1CC)=C\\\\c1oc2ccc(OC)cc2[n+]1CCS(=O)(=O)O', 'C=C/N=C1\\\\C(=C)C=CC(CC)=C1S(=O)(=O)Nc1ccccc1C#Cc1cnc(C(=O)OC)c(CC)c1', 'CCOc1cc(/C=C2/NC(=O)N(CC(=O)Nc3ccccc3OC)C2=O)cc(Cl)c1O[C@H](C)CC', 'O=C(/C=C/c1cc(O)c(O)c(O)c1)NCc1cc2c([nH]c3ccccc32)c(-c2cccc3ccccc23)n1', 'CC/C(=C\\\\c1ccc(O)cc1Cl)CC[C@H]1OB(O)C[C@H]2C1=C(C)C[C@H]1C(=O)N(C(=O)OC)C(=O)[C@H]12', 'COc1ccc(C)cc1-c1nn(CC(=O)N(C)CC(F)(F)F)cc1NC(=O)c1cnn2cccnc12', 'COc1ccc2nc(N(CCN3CCOCC3)C(=O)C3c4ccccc4Oc4ccccc43)sc2c1', 'O=C(CCCc1nc(-c2ccc(C(F)(F)F)cn2)no1)NCCCNc1n[nH]c(=O)c2ccccc12', 'N#C/C(=C/c1c(O)ccc2c1CCCC2)C(N)=S.N#C/C(=C/c1cc(O)c2c(c1)CCCC2)C(=O)O', 'O=C(Cc1ccccn1)Nc1ccc(C2CCN(c3nnc(C(=O)NCc4ccccn4)s3)C2)nn1', 'COC(=O)c1cccc(-n2c(C)cc(/C=C3\\\\C(=O)NC(=S)N(c4cccc(C)c4C)C3=O)c2C)c1C', 'Cc1ccc(C(=O)O)cc1-n1c(C)cc(/C=C2/C(=O)NC(=S)N(c3ccc(C(C)C)cc3)C2=O)c1C', 'CC(C)(c1ccccc1)c1ccc(OCC(=O)Nc2ccc(S(=O)(=O)Nc3ccccn3)cc2)cc1', 'COC(=O)C1=C(C)N(Cc2cccnc2)C(=O)/C1=C\\\\c1ccc(OCC(=O)Nc2ccc(F)cc2)cc1', 'CC(NC(=O)C(C)(Cc1c[nH]c2ccccc12)NC(=O)OCc1cc2ccccc2o1)c1ccsc1', 'C1=CC2Oc3ccccc3C2C(c2cccc3c2oc2cc(-n4c5ccccc5c5ccccc54)ccc23)=C1', 'C[C@@H]1CN2c3c(cc4c(OC[C@@H]5CNC(=O)C5)noc4c3F)CC3(C(=O)NC(=O)NC3=O)[C@H]2[C@H](C)O1', 'Cc1ccc(C(=O)Nc2cccc(CF)c2)cc1N1CCc2nc(Nc3ccc(Cl)cc3)ncc2C1', 'COc1cccc(N2CCN(CCCn3cnc4c(cnc5ccccc54)c3=O)CC2)c1.Cl.Cl', 'CC(C)(C)OC(=O)c1sc(N(C(=O)OCc2ccccc2)c2ccccc2)c2c1CCc1cn[nH]c1-2', 'CC(=O)NCCNc1cc(Cn2nc(-c3nc(-c4ccc(OC(F)(F)F)cc4)no3)cc2C)ccn1', 'COc1ccc(N2C(=O)C(Nc3ccccc3)=C(Sc3cccc(NC(=O)CC(C)C)c3)C2=O)cc1', 'COC(=O)[C@@H]1C[C@H](SC(C)=O)CN1C(=O)[C@@H]1CCCN1C(=O)[C@]1(C)CCCN1C(=O)[C@H](C)Cl', 'CCC(NC(=O)Cn1ncc(N[C@@H]2C[C@@H]3C[C@H]([C@H]2C)C3(C)C)c(Br)c1=O)c1ccncc1', 'CS(=O)(=O)c1ccc(C(=O)N2C=CC(c3ccc(NC(=O)N4Cc5ccccc5C4)cc3)CC2)cc1', 'CCN(CC(=O)Nc1cc(C(C)(C)C)nn1-c1ccc(C)cc1)C(=O)Nc1c(Cl)cccc1Cl', 'O=C(CCC1c2c(F)cccc2C(=O)N1Cc1ccc(F)cc1)Nc1ccc(-c2ccc(F)cc2)cn1', 'CCS(=O)(=O)Nc1cc(-c2cc(-c3ccc(C(=O)OC)c(F)c3)no2)ccc1N1CCCCC1C', 'CCC(OC)O/N=C(/C(=O)O)c1csc(NC(c2ccccc2)(c2ccccc2)c2ccccc2)n1', 'Cc1cc(COC2CCN(S(=O)(=O)CC(c3ccc(F)cc3)N(O)C=O)CC2)c2ccccc2n1', 'CCC1=NCC2=CC=CC(N3CCNC(=O)C3)=NC2=C1N(C)c1nc(-c2ccc(F)cc2)c(C#N)s1', 'C=CCc1cc(/C=C2/C(=O)NN(c3ccccc3)C2=O)cc(OC)c1OCC(=O)Nc1cccc(F)c1', 'C#CC(O/N=C1\\\\c2cc(OC)c(OC)cc2-c2[nH]c3ccc(OCCN(C)C)cc3c21)c1cccs1', '[2H]C([2H])([2H])Oc1cc(Cl)c(-c2nc(N(CC#C)[C@@H](CC3CC3)c3ccc(CO)c(F)c3)sc2C)cc1C', 'C[C@@H](CC(F)(F)F)NC(=O)OCC1CC(c2cnc(Nc3ccc(NS(C)(=O)=O)cc3)nc2)C1', 'C[C@H](C(=O)O)[C@H](c1cccc(OCC2CN(c3cc(C(F)(F)F)ccc3C(F)(F)F)C2)c1)C1CC1', 'CCN(C=O)/C(CO)=N\\\\N(C)c1nc(OCC(F)(F)F)c(C(=O)Nc2cn[nH]c2C2CC2)cc1F', 'CNC(=O)c1c(-c2ccc(C)cc2)oc2cc(N(CCCC#N)S(C)(=O)=O)c(-c3ccccc3)cc12', 'COc1ccc(C2=CC(=NOCC(=O)NO)CCc3c2cc(OC)c(OC)c3OC)cc1NC(=O)O', 'CCN(CC)CCCN1C(=O)C(=O)/C(=C(/O)c2ccc(OC)c(Cl)c2)C1c1cccc([N+](=O)[O-])c1', 'CS(=O)(=O)N(CCCCO)c1cc2oc(-c3ccc(F)cc3)c(C3=NCCON3)c2cc1C1CC1', 'C=C/C(=C\\\\C=C(/C)C(F)(F)F)[C@@H](C)NC(=O)c1cc(-c2ccc(F)cn2)cc(C(N)C(F)(F)F)c1', 'CC[C@@]1(OC(C)=O)C(=O)N(C(C(=O)OCOC(=O)C(C)(C)C)=C(C)C)[C@@H]1SC(=O)COC(C)=O', 'CCCCOc1ccc(C(=O)Nc2nc(-c3ccc(C)cc3C)c(-c3ccc([N+](=O)[O-])cc3)s2)cc1', 'C[C@H](Oc1cccc(CCCn2cc(C(c3ccccc3)c3ccccc3)cc(Cl)c2=O)c1)C(=O)O', 'CCCCCCOc1ccc(C2c3c(oc4ccc(C)cc4c3=O)C(=O)N2c2cccc(Cl)c2)cc1', 'C[C@@H](C1CCN(c2ccc(C(F)(F)F)cc2)CC1)n1ncc2nc(-n3cc(C(=O)O)cn3)[nH]c(=O)c21', 'CC[C@@H](CC(=O)N1CC(=O)NC[C@@H](Cc2cc(Cl)ccc2OC)C1=O)c1ccc(C(=O)O)c(N)c1', 'Cc1nn(-c2ccc(NCCNC(=O)Nc3cc(C(F)(F)F)cc(C(F)(F)F)c3)nn2)c(C)c1C', 'C[C@H]1CC2=C(Cc3ccccc32)[C@H](c2c(F)cc(/C=C/C(=O)O)cc2F)N1C12CC(C(F)(F)F)(C1)C2', 'COc1ccc(-n2c(C)cc(/C=C3\\\\SC(=O)N(CC(=O)N4CCc5ccccc5C4)C3=O)c2C)cc1', 'Nc1n[nH]c2c1c(=O)n(-c1ccc(CCl)cc1)c1nc(NCC[C@H]3CCc4ccccc4O3)ncc21', 'C=CC(=O)NC1CC2CCN(S(=O)(=O)c3ccc(C(=O)NCCc4ccccc4)c(F)c3)CC2O1', 'Cc1cccc(S(=O)(=O)N2C[C@H](CCC(=O)C3(C#N)CC3)Oc3ccc(-c4cccc(C)n4)cc32)c1', 'CCOc1ccc(-c2ccc(C3C(c4ccccn4)NC(=S)N3c3ccc(OC)cc3OC)o2)cc1', 'CCOc1nc(=O)n([C@H]2CC[C@@H](COP(=O)(NCC(OC)OC)Oc3ccccc3)O2)cc1F', 'CCOc1ccc(N2C(=O)C(Cc3ccc(C)c(C)c3)S/C2=C(/C#N)C(=O)NCc2ccco2)cc1', 'COc1ccc(-n2c(SCc3ccccc3C)nc3cc(C(=O)N4CCOCC4)ccc3c2=O)cc1', 'COc1ncnc2c1c(C(=O)NCc1c(C)cc(N)nc1C)cn2Cc1ccc2ncc(Cl)cc2c1', 'COc1ccc([C@@H]2CC(=O)N(Cc3cc(C(F)(F)F)cc(C(F)(F)F)c3)C2)cc1OC1CCCC1', 'C#CC(O/N=C1\\\\c2cc(OC)c(OC)cc2-c2[nH]c3ccc(OCCN(C)C)cc3c21)c1ccsc1', 'CCC[C@H](O)CCOc1nc(N)c2cc(Br)n(Cc3ccc(CN4CCCC4)cc3)c2n1', 'O=CN(c1cccnc1)c1c(OCc2ccccc2)c2ccccc2n1Cc1ccc(C(F)(F)F)cc1', 'COc1ccc([C@@H](Oc2ccc3c(cnn3-c3ccc(F)cc3)c2)[C@H](C)NC(=O)C(C)(F)F)cc1F', 'C[C@H]1C(CN(C)CCNC(=O)c2ccc(O)c(O)c2C(F)(F)F)=C(C(=O)O)N2C(=O)[C@H]([C@@H](C)O)C12', 'CN1C(=O)c2cccc3c(C#Cc4c5ccccc5c(/C=C/C5C=CC=C5)c5ccccc45)ccc(c23)C1=O', 'CC(C)Oc1c([C@@H]2[C@@H](C(=O)Nc3ccnc(C(N)=O)c3)O[C@](C)(C(F)(F)F)[C@@H]2C)ccc(F)c1F', 'CN(C)c1cc(C=O)c(O)c2c1C[C@H]1C[C@@]3(O)[C@H](N(C)C)C(=O)C(C(N)=O)=C(O)[C@@]3(O)C(=O)C1=C2O', 'C1=CC2c3ccccc3OC2C(c2ccc3c(c2)oc2ccc(-n4c5ccccc5c5ccccc54)cc23)=C1', 'CN1CCN(c2nc(C(F)F)c(C(=O)N3CCc4[nH]cnc4[C@H]3c3nc4cc(F)ccc4o3)o2)CC1', 'O=C(Cn1nc(Cc2ccc(Cl)cc2)n(CCc2c[nH]c3ccccc23)c1=O)N/N=C\\\\c1ccc[nH]1', 'CCOC(=O)C1=C(C)N(c2cccc(C(F)(F)F)c2)C([NH3+])=C(C(=O)OCC)C1c1ccc(C#N)cn1', 'Cc1ccc(C(=O)c2c(C)n(C/C=C/c3cccc(CO[C@H](C)C(=O)O)c3)c3ccc(Cl)cc23)cc1', 'Cc1cccc(N(C)/C(=N/c2cccc(Cl)c2C=O)[C@@H]2CCCN2c2ncnc3nc[nH]c(=O)c23)c1', 'CC(C)(C)C(C(=O)O)n1nnc(-c2cnc(N3CCC4(CCN(c5ccccc5Cl)C4)C3)s2)n1', 'O=C1O[C@@H](Cn2cc(CN3CCCCCC3)nn2)[C@H](c2cc(F)cc(F)c2)N1c1ccc(Cl)cc1', 'O=C1NCCOc2cc3nc(-c4cnn5ccc(N6CCC[C@@H]6c6cc(F)ccc6F)nc45)[nH]c3cc21', 'Cc1ccc(NC2=C(Sc3cccc(NC(=O)C4CCCC4)c3)C(=O)N(Cc3ccco3)C2=O)cc1', 'C[C@@H]1O[C@H](C)C(F)N2c3cc4onc(N5C(=O)O[C@H](C)[C@@H]5C)c4cc3CC3(C(=O)NC(=O)NC3=O)[C@@H]12', 'O=C(/C=C/c1cn(S(=O)(=O)c2cccc3ccccc23)c2ccccc12)NCCCN1CCCC1=O', 'c1ccc(-c2c(N(c3ccccc3)c3ccccc3)c3oc4ccccc4c3c3oc4ccccc4c23)cc1', 'Cc1ccc(S(=O)(=O)N2CCc3c2ncc2nnc([C@@H]4CC[C@H](Nc5cnc(C#N)cn5)C4)n32)cc1', 'C/N=C(\\\\NCC(C)Cn1nc(C)cc1C)N1CCOC(c2cnn(C)c2)C1.I', 'C/C=C\\\\c1c(-c2ccc(OCc3c[c-]ccc3)cc2)ccc(F)c1OC.O=C(O)C1CCCN1.[K+]', 'CC(C)(C)OC(=O)N1CCCC(N(c2c([N+](=O)[O-])cnc3[nH]ccc23)S(=O)(=O)c2ccccc2)C1', 'Cc1noc(C)c1-c1ccc2nc(C(=O)CCc3cncn3C)nc(NCc3cncc(Cl)c3)c2c1', 'CCOC(=O)C1=C(C)N=c2s/c(=C\\\\c3ccccc3OCC#N)c(=O)n2[C@H]1c1ccc(C(C)C)cc1', 'CC(=O)Nc1cc(N(C)C)c2c(c1O)C(=O)C1C(=O)[C@]3(O)C(=O)C(C(N)=O)C(=O)C[C@@H]3C[C@@H]1[C@@]2(C)O', 'Cc1c(Br)cccc1C(=O)N(CC1CCNCC1)c1ccnc(NC2CCC(O)CC2)n1', 'Fc1cnc(N2CC3(C2)CN(c2nnc4n2-c2ccc(Cl)cc2CN(CC2(F)CC2)C4)C3)c(F)c1', 'CC1CN(c2ccc(OC(F)(F)F)cc2)CN1Cc1ccnc(NS(=O)(=O)N2CCOCC2)c1', 'CCOc1cc(Cc2cnc(N)nc2N)cc(OS(=O)(=O)N(C)C)c1-c1ccc(CC(=O)O)cc1', 'CCOC(=O)c1ccccc1NC(=O)CSc1nc2ccccc2c(=O)n1-c1ccc(C(C)C)cc1', 'O=C1C(=Cc2ccc(N(c3ccccc3)c3cccc4ccccc34)cc2)C(=O)c2cc3ccccc3cc21', 'COc1ccc(S(=O)(=O)N2CC(C(=O)N(C)CCc3ccccn3)c3ccccc32)c2ccccc12', 'O=C(Nn1ccc2ccccc21)c1ccc[n+](CCCCN2CCN(CCO)CC2)c1.[Br-]', 'Cc1cn2nc(COC(F)(F)F)cc2c(Nc2cc([C@H]3OC[C@@H](OC(=O)NC(C)C)[C@@H]3F)[nH]n2)n1', 'C=CCOc1ccc(C2c3c(oc4cc(C)c(C)cc4c3=O)C(=O)N2c2nnc(CC(C)C)s2)cc1', 'Cc1ncc(-c2ccnc(NC(=O)N3c4nc(C(=O)NC(C)C(F)(F)F)ccc4N4CC[C@H]3C4)c2)o1', 'CCCN(CCC)CCCn1nc2n(c1=O)-c1ccc(Cl)cc1N(c1ccccc1Cl)C(=O)C2', 'CCS(=O)(=O)N1CC2(CN(C(=O)c3ccc(F)cc3)[C@@H](CO)c3c2c2ccc(OC)cc2n3C)C1', 'CCN/C(=N\\\\CCCn1nc2n(c1=O)CCCC2)N(C)Cc1cccn1C.I', 'CC.O[C@H](CN(Cc1cccc(OC(F)(F)F)c1)c1cccc(Oc2ccccc2)c1)C(F)(F)F', 'CC(Oc1nc(-c2ccc(C(=O)N3C[C@@H](C)N[C@@H](C)C3)cc2)cnc1N)c1c(F)ccc(F)c1Cl', 'CN1CCN(c2ccc(Nc3ncc(Cl)c(Nc4ccccc4S(=O)(=O)N(C)C)n3)cc2)CC1', 'Cc1cccc(COc2cc(-c3ccc(F)c(C(F)(F)F)c3)n3ncnc3c2C(=O)OC(C)(C)C)c1', 'CCN/C(=N\\\\Cc1ccnc(-n2cccn2)c1)NCCN(C)CCCOC.I', 'C[N+](C)(CCNCCc1ccc(/N=N/c2ccc([N+](=O)[O-])cc2Cl)cc1)Cc1ccccc1.[Cl-]', 'O=C(O)CCCN1CCCc2cc3cc(-c4ccc[n+](CCCCS(=O)(=O)O)c4)c(=O)oc3cc21', 'CCn1cc(S(=O)NC2CCCN(C(C)=O)C2)c(F)c1C(=O)Nc1ccc(F)c(F)c1.NC=O', 'COc1ccc(NC(=O)c2cccnc2-c2ccc(C)cc2)cc1S(=O)(=O)Nc1c(C)cccc1C', 'CCCCc1nnc(SCc2ccccc2C(=O)O)n1Cc1ccc(-c2ccccc2C(=O)O)cc1', 'CC1CCN(C(=O)Cn2cc(/C=C3\\\\SC(=O)N(CC(=O)c4ccccc4)C3=O)c3ccccc32)CC1', 'CCCOCn1cc(NS(=O)(=O)C2(CC(O)CO)CC2)c(Nc2ccc(C)cc2F)c(F)c1=O', 'CCOc1ccc2nc(NC(=O)CC(c3ccccc3C)N3C(=O)C4C5C=CC(C5)C4C3=O)sc2c1', 'CC(=O)SC1CN(Cc2ccc(F)cc2)C1.c1ccc(P(c2ccccc2)c2ccccc2)cc1', 'CCCCCc1nc(C(F)(F)F)ccc1/C=C/C(=O)NCc1cc(C)c(NS(C)(=O)=O)c(F)c1', 'CCN(CC(=O)Nc1cc(C(C)(C)C)nn1-c1ccc(Cl)c(Cl)c1)C(=O)Nc1ccc(C)cc1', 'CN1C=CN(C)C1NC1CN(c2cnc(-c3ccc(C(F)(F)F)cc3)c(-c3ccncc3Cl)n2)C1', 'COCc1cc(C2SCC(=O)Nc3c2c(-c2ccccc2)nn3-c2ccccc2)cc(OC)c1OC', 'CCc1ccc(N(C(=O)Nc2c(CC)c(N)cc(Cl)c2CC)[C@@H](C)c2ccc(Cl)cc2)cc1F', 'Cc1nn(C)c(-n2ccc3cc(C(F)(F)F)cnc32)c1CC(CCC(C)C)S(=O)(=O)OC(N)=O', 'CCC(Sc1nnc2cc(C)c3cc(C)cc(C)c3n12)C(=O)Nc1nc(-c2ccc(C)cc2)cs1', 'COC(=O)c1ccc(-n2c(C)cc(/C=C3\\\\C(=O)NC(=S)N(c4cc(C)ccc4C)C3=O)c2C)c(C)c1', 'CCCCCc1nc(C(F)(F)F)ccc1/C=C\\\\C(=O)N[C@H](C)c1ccc(NS(C)(=O)=O)c(F)c1', 'c1ccc(N(c2ccc(-c3ccc4oc5ccccc5c4c3)cc2)c2cccc3oc4ccccc4c23)cc1', 'COc1ccc(N2C(=O)N(c3c(C)cccc3Cl)C(C)c3cnc(Nc4ccc(N)cc4)nc32)nc1', 'C[C@H]1c2c(NC(=O)CN(C)C)ccc(O)c2C(=O)C2C(=O)[C@]3(O)C(=O)C(C(N)=O)C(=O)C[C@@H]3[C@@H](O)[C@@H]21', 'CCN(CC(=O)Nc1cc(C(C)(C)C)nn1-c1ccccc1C)C(=O)Nc1ccc(Cl)c(Cl)c1', 'CCCCN(Cc1cccn1Cc1cccc(C(F)(F)F)c1)S(=O)(=O)c1cccc2cccnc12', 'Cl.Cl.Cl.OC[C@@H]1O[C@H](CNC2CCOCC2)[C@H](N2CCN(c3ncccn3)CC2)[C@@H]1O', 'CNC(=O)[C@H](Cc1ccc(OC)cc1)NC(=O)[C@H](CC(C(F)(F)F)C(F)(F)F)N[C@H](C)C(=O)O', 'CCC(Sc1cccc(NC(=O)/C=C/C(=O)O)c1)C(=O)Nc1ccc2c(c1)c1ccccc1n2CC', 'CCOC(=O)C1=C(C)N=c2s/c(=C\\\\c3cc(C)[nH]c3C)c(=O)n2C1c1ccc(OC)c2ccccc12', 'Cc1cc(/C=C2/C(=O)NC(=S)N(c3ccc(C(=O)O)cc3)C2=O)c(C)n1-c1ccc(C(C)(C)C)cc1', 'CCCN(CC(=O)Nc1cc(C(C)(C)C)nn1-c1ccccc1)C(=O)Nc1cccc(Cl)c1Cl', 'CCn1cc(NC(=O)c2cnn3c(C(F)F)cc(-c4ccccc4)nc23)c(C(=O)Nc2ccccc2)n1', 'Cn1c(-c2cccc(Oc3ccccc3)c2)nc2cc(C(=O)NCc3cccc(C(F)(F)F)c3)ccc21', 'O=c1[nH]cnc2ncnc(N3CCCC3c3nc4c(c(=O)n3C3=CCCC=C3)CC/C(Cl)=C\\\\C=C/4)c12', 'O=Cc1ccc(-c2cnc3[nH]cc(C(=O)C4C(F)C=C/C(=N\\\\CCc5cccc(F)c5)C4F)c3c2)cc1', 'CCOc1ccc(/C(O)=C2\\\\C(=O)C(=O)N(c3nc4ccccc4[nH]3)C2c2cccs2)cc1C(C)(C)C', 'COCC(=O)NC(C)C(Oc1ccc2c(cnn2-c2ccc(F)cc2)c1)c1ccc(C(F)(F)F)cc1', 'CCCC(O)CN(C)c1nc(Nc2ccnc(C(F)(F)F)c2)nc(-c2cccc(C(F)(F)F)n2)n1', 'CN(C)CCCN(C(=O)c1ccc(C(=O)c2ccccc2)cc1)c1nc2cc3c(cc2s1)OCCO3', 'CCOC(=O)c1c(NC(=O)CCCl)sc2c1[C@@]1(C)CC[C@H]3c4ccc(OC)cc4CC[C@H]3[C@H]1C2', 'NC(=NO)c1ccc(CNC(=O)C2C=CCN2C(=O)[C@@H](CO)NS(=O)(=O)Cc2ccccc2)cc1', 'CNC(=O)Cn1ccc2c(Nc3nccc(-c4cc(C#N)c5c(c4)C(C)(CO)CN5)n3)cc(Cl)cc21', 'Cc1cc(NC(=O)c2ccccc2-c2ccoc2)ccc1C(=O)N1Cc2cccnc2Oc2ccccc21', 'C.CC(=O)N(C)c1ccc(Nc2ncc3c(n2)-c2ccc(Cl)cc2C(c2ccccc2F)=NC3)cc1', 'CCc1nc(Nc2ncc(C(=O)Nc3c(C)cccc3Cl)s2)cc(N2CCN(CCO)CC2)n1', 'CCc1ccc(N2C(=O)/C(=C/c3cc(C)n(-c4cc(C(=O)OC)ccc4C)c3C)C(=O)NC2=S)cc1', 'C#CCNC12CC(NC(=O)N3CCc4ccccc4[C@@]3(OC(=O)C(F)(F)F)c3ccc(F)cc3)(C1)C2', 'O=C(CCc1ccc(S(=O)(=O)c2cccc(C(=O)NC3CCCC3)c2)cc1)c1ccc2nccn2c1', 'O=C(O)CCCC[C@@H]1SC[C@@H]2NC(=O)N[C@@H]21.[H]/N=C(/CCC[C@@H]1SC[C@@H]2NC(=O)N[C@@H]21)C(=O)O', 'COc1ccc(C2/C(=C(\\\\O)c3cc(F)ccc3OC)C(=O)C(=O)N2c2nc3cc(C)c(C)cc3[nH]2)cc1', 'Cc1ccc(C(=O)N/N=C\\\\c2ccc(CN(Cc3ccccc3)S(=O)(=O)c3ccc(C)cc3)o2)cc1', 'O=C(CCCNC(=O)c1ccc(C2CC2)c(Cl)c1)c1ccc(OC2CCC(C(=O)O)CC2)c(F)c1', 'CN1CCN(/N=N/c2ccc(-c3cc(-c4cccc([N+](=O)[O-])c4)c4c(N)[nH]c(=S)nc4n3)cc2)CC1', 'COc1cc2nccc(Oc3ccc(CC(=O)C4(C(=O)Cc5ccc(F)cc5)CC4)cn3)c2nc1OC', 'CC(Oc1nc(-c2cccc(C(=O)N3C[C@@H](C)N[C@@H](C)C3)c2)cnc1N)c1c(F)ccc(F)c1Cl', 'CCOC(=O)C1=C(C)N=c2s/c(=C\\\\c3cc(C)[nH]c3C)c(=O)n2[C@H]1c1ccc(OC)c2ccccc12', 'O=C(Nc1cccc(C(F)(F)F)c1)c1ccc(NC(=S)NC(=O)C23CC4CC(CC(C4)C2)C3)cc1', 'C=C1CN2C(=O)CN(C)N(C(=C)NCc3ccc(OC)cc3)C2CN1Cc1ccc(Cl)cc1Cl', 'Clc1cccc2c(-n3c(C4CCCO4)nc4c(-c5ncn[nH]5)cc(N5CCOCC5)cc43)ccnc12', 'CC[C@H](C)N1C(=O)/C(=C\\\\c2ccccc2OCc2ccc([N+](=O)[O-])cc2)S/C1=N\\\\c1ccc(C)cc1', 'CCN1C(=O)/C(=c2\\\\sc3n(c2=O)[C@@H](c2ccc(C)cc2)C(C(=O)OC(C)C)=C(C)N=3)c2ccccc21', 'CCOc1ccc(-c2ccc([C@@H]3[C@@H](c4ccccn4)NC(=S)N3c3ccc(OC)cc3OC)o2)cc1', 'N#Cc1ccc2ncn(CC3CCCC4(C3)CN(Cc3cn(-c5cccc(Cl)c5)nn3)C(=O)O4)c2c1', 'CC1(C)c2ccccc2P2(=S)c3ccccc3C(C)(C)c3cc(-c4ccc5ccccc5n4)cc1c32', 'CC1(C#Cc2cccnc2[C@@H](NC(=O)c2ccc3ncccc3c2)c2ccc(C(F)(F)F)cc2)COC1', 'COc1ccc(C[Se]CC(NC(=O)CNC(=O)OC(C)(C)C)C(=O)NC(C)(C)C)cc1', 'COc1ccc(OC)c(-c2cs/c(=N\\\\Cc3ccccc3)n2N=C(C)c2ccc3c(c2)OCCO3)c1', 'CCCSc1n[n+]2c(c(=O)[nH]1)-c1ccccc1N(C(C)=O)[C@H]2c1cn(C(C)=O)nc1-c1ccccc1', 'C[C@]1(CCC(=O)O)Oc2ccccc2[C@@H]2OC[C@]3(CCCN(C(=O)c4ccc(F)c(Cl)c4)C3)C[C@H]21', 'O=C(Cc1ccc(F)cc1)Nc1cccc(N2CCCN(Cc3cccc(OC(F)(F)F)c3)C2=O)c1', 'COC(=O)c1cc2c(s1)c1ncc(-c3c(C)noc3C)cc1n2C(c1ccccc1)C1CCOCC1', 'CCC1C(COC1=O)CC2=CN=CN2C', 'CC(Cc1c(C2CC2)cnn1C)C(=O)O', 'C=CCCCn1c(C(=O)OC)cnc1C', 'CC(=O)c1cnn(C2CCCCC2O)c1', 'CCc1nc(C)c(CN2CCC(=O)C2)o1', 'O=C1C2CCCCCN2C(=O)N1C1CC1', 'CCNc1ccc(CCNC(=O)O)cc1', 'Cc1cccc(C(=O)NC(C)CON)c1', 'CN1C(=O)C(C)(C)C(=O)N2CCCC=C12', 'COc1ccc(CCC(=O)NN)cc1C', 'NCc1ccc(CN2CCCCC2=O)o1', 'CNC(=O)CCCn1cccc1C(C)=O', 'CCCCNNC(=O)Oc1ccccc1', 'COc1ccc(N)c(NC(=O)C(C)C)c1', 'CC(C(=O)NCc1ccco1)C1CNC1', 'O=C(CC1CCCN1)NCc1ccoc1', 'CC(C)n1ncc2c1CC(C(=O)O)CC2', 'CCc1cc(N(C)CCC(=O)O)ccn1', 'CC(Cc1cnccc1N(C)C)C(=O)O', 'CCC(C)OC(=O)c1ccc(N)cc1N', 'CCN(Cc1ccncc1)C(=O)COC', 'CCCN(CC)C(=O)c1cccc(=O)[nH]1', 'CC1CC(O)(c2cccnc2N)CCO1', 'CCCNc1cccc(OC2COC2)n1', 'CC(CC(=O)O)N[C@H](C)c1ccncc1', 'Cc1ccc(C)c(OCC(=O)N(C)N)c1', 'CCCCCC(=O)Nc1ncccc1O', 'CCCCCc1cc[nH]c(=O)c1C(N)=O', 'CNC(=O)OC[C@@H](N)Cc1ccccc1', 'COc1c(O)c(N)cc2c1CCCN2C', 'CC(C)(C)N1C(=C=O)C2CCC1C(=O)N2', 'CC[C@H](N)CNc1ccc2c(c1)OCO2', 'NCCNCCc1ccc(C(=O)O)cc1', 'CCCCNC(=O)Oc1cccc(N)c1', 'COCCNC(=O)c1cccc(C)c1N', 'COc1ccc(C[C@@H]2CNCCO2)cn1', 'CC(=O)c1coc(C2CCCCN2C)n1', 'CNCCC(C)(C(=O)O)c1ccncc1', 'C#CCCC[C@@H](NC(=O)C1CC1)C(N)=O', 'C[C@H](N)CN(Cc1ccccc1)C(=O)O', 'COC(C1CC1)C(O)c1cccnc1N', 'Cc1cc(CN2CCCCC2C=O)on1', 'CCCc1cnc(CCC(=O)OC)nc1', 'COc1ccc(C)cc1.NC1=NCCO1', 'CC(CC(=O)O)NC(C)c1ccncc1', 'COC1CCN(C(=O)C2(C#N)CC2)CC1', 'CCC(C)(C)NC(=O)c1cc[nH]c(=O)c1', 'CCOCc1ccccc1C/C(N)=N/O', 'COc1ccc(C(N)CC(N)=O)cc1C', 'Cc1ccc(C(N)C(=O)O)c(N(C)C)c1', 'CCN(CC)C(=O)c1ccc(NO)cc1', 'CCCC(Nc1cc(C)ccn1)C(=O)O', 'Oc1ccc(O)c(CN2CCNCC2)c1', 'Cc1ccc(CN(C)C(=O)C2CNC2)o1', 'CNc1cc(C(=O)OC)cc(C(C)C)n1', 'N[C@H](CNCC(=O)O)Cc1ccccc1', 'C#CC[C@H](C)N1C(=O)CN(C(C)C)C1=O', 'CNc1cc([N+](=O)[O-])ccc1C(C)(C)C', 'CC(C)C(=O)N(N)Cc1ccccc1O', 'CC1CCCCC1NC(=O)c1cnoc1', 'NC[C@@H]1CCN(CC(=O)c2ccco2)C1', 'CCCC(=O)Cc1cc(OC)nc(C)n1', 'COc1ccnc(CNC2CC2)c1OC', 'CCc1nc(C)n2c1CCC(C(=O)O)C2', 'CCOc1cncc(OC[C@@H]2CCN2)c1', 'N#CC1(C(=O)NC2CCC2)CCOCC1', 'COc1c(N)cccc1C(=O)NC(C)C', 'CN(CC1(CO)COC1)c1cccnc1', 'CCNC(=O)Nc1ccccc1OCC', 'CC(C)(CO)NC(=O)Cc1cccnc1', 'c1ccn(CN(CC2CO2)CC2CO2)c1', 'CNC(CN)c1ccc2c(c1)OCCO2', 'COc1cc(OC)nc(C2CCNC2)c1', 'CNC(C)C(=O)N(C)c1cccc(O)c1', 'CC(C)(CC(=O)O)C(N)c1ccccn1', 'CC(C)(C)ON(C=O)c1cccc(N)c1', 'CC(=O)N1CCNc2ccccc2C1.O', 'C=Cc1nc(NC(C)=O)oc1C=C.CC', 'CCn1cc(CC2COCCC2=O)cn1', 'CC(=O)N(C)c1cccc(OCCN)c1', 'Cc1ccc(C(=O)NCC(C)O)cc1N', 'Cc1nc(C2CCOC2)ncc1[C@@H](C)O', 'Cc1ccc([C@H](C)N)c(OCC(N)=O)c1', 'Cc1cc(C(=O)C2CCCOC2)n(C)n1', 'NCC1(Nc2ccc(O)cc2)CCOC1', 'CCC(N)C(CC(=O)O)c1ccncc1', 'COc1cc(N)cc(N2CCC(O)C2)c1', 'CCC(C)NC(=O)c1cc(C2CC2)on1', 'COc1ccc(CCN(C)C(C)=O)cn1', 'CCc1cnc(CN2CCC(=O)CC2)o1', 'CCN(C)C(=O)c1ccc(N)cc1OC', 'COC(=O)[C@H](N)Cc1cc(C)ccc1N', 'CC(C)(C)OC(=O)/C(C#N)=C1\\\\CCCN1', 'CC[C@H](CO)NC(=O)c1cccnc1C', 'COc1ccc([C@@H]2CNCCN2)c(O)c1', 'CCC(=CCn1ccnc1C)C(=O)OC', 'CC(C)(C)c1nn2c(c1C=O)OCCC2', 'CC(CC(=O)O)NC(C)c1ccccn1', 'Cc1cc(=O)n(CC2CCOCC2)cn1', 'CNC(C)(C)Cc1cccc([N+](=O)[O-])c1', 'CCC[C@](O)(C(=O)NN)c1ccccc1', 'CCN(c1ncccc1C(=O)O)C(C)C', 'CCN1CCc2[nH]c(=O)c(CO)cc2C1', 'Nc1cc(CO)ccc1N1CCOCC1', 'CC1(CC(N)c2cccnc2)OCCO1', 'CN(CCC(N)c1ccccc1)C(=O)O', 'COC(=O)CC(c1cccnc1)C(C)N', 'CC(O)CNC(=O)Cc1cccc(N)c1', 'CCn1ccc(=O)n(CCC2CC2)c1=O', 'O=C(O)CCc1cncn1C1CCCC1', 'CN[C@@H](CO)C(=O)NCc1ccccc1', 'Cc1ccc(C)c(NC(=O)NCCO)c1', 'CC(C)(C)O[C@H]1CC(=O)[C@@H]1n1cccn1', 'CC=CCn1c(=O)ccn(CCC)c1=O', 'NNC(c1ccco1)C1CC2CCC1O2', 'COC(C)(C)P(=O)(OC)C(C)(C)C', 'CCCc1noc(C2CCCCC2=O)n1', 'CCCCCOP(OCC)OCC', 'CCOc1ccn(C2CCCC2)c(=O)n1', 'CCN(CC)c1cc(O)c(N=O)cc1C', 'C=C(CNCC)CN1C(=O)C2CC2C1=O', 'CNC(=O)CNC(=O)C1CC2C=CC1C2', 'c1nc(C2CCC2)oc1C1COCCN1', 'C#CCN1C(=O)C(C)(CC)NC(=O)C1C', 'CC1CCC(n2ccnc2C(=O)O)CC1', 'CC[P+](CC)(CC)CC.O=C([O-])O', 'Cc1ccccc1OC(=O)NCC(C)N', 'CN(C)c1ncccc1C(C)(C)C(=O)O', 'CCOC(=O)C(N)CCc1ccncc1', 'COc1ccc2c(c1)NC(C)C(CN)O2', 'CC(=NOCCCO)c1cccc(C)n1', 'Cc1cccc(C)c1NC(=O)NCCO', 'CN(C)C1CCN(c2ccc(C=O)o2)C1', 'OC[C@@H](c1cccnc1)N1CCOCC1', 'CCCOc1ccc(CNC(N)=O)cc1', 'CC=CC=CC(=O)N1CCCNC(=O)C1', 'CN(C)c1ccc(C(C)(N)C(=O)O)cc1', 'O=C(O)CCCC1(n2cccn2)CCC1', 'COc1cc(N)ccc1CC(=O)N(C)C', 'COC(=O)c1cccc(NCC(C)C)n1', 'C[C@H](CO)NC(=O)Cc1cccc(N)c1', 'Cc1ccc(NCC(C)(C)C(=O)O)nc1', 'NC1(CCc2onc3c2COCC3)CC1', 'COC(C)c1nc2c(c(=O)[nH]1)CCCC2', 'CNCCc1cc2c(cc1N)OCCO2', 'CCc1cccc(C[C@H](N)C(=O)OC)n1', 'O=C(NCCc1ccco1)N1CCCC1', 'OCC1COCCN1Cc1ccncc1', 'NCC(O)C1=CC=CC2C=C(CO)NC12', 'CC(CCNCc1cccnc1)C(=O)O', 'CC(=O)Nc1ccccc1C(O)CCN', 'C#CC(CCC)NC(=O)C1CNC(=O)C1', 'CC(=O)c1cc(CC2CCCNC2)on1', 'CC(=O)Nc1ccc(NCCCO)cc1', 'C=C(C)CN1CC(=O)NC(C2CC2)C1=O', 'COC(=O)C1(n2cc(C)cn2)CCCC1', 'O=C(O)CCc1cn[nH]c1C1CCCC1', 'CN(C)[C@@H](CN)c1ccc2c(c1)OCO2', 'NCc1cccc(NC(=O)CCCO)c1', 'Cn1ncc2c1CCC(C)(C)C2C(=O)O', 'CN(C)Cc1cccc(COC(N)=O)c1', 'Cc1cc(/C(N)=N/O)ccc1OC(C)C', 'CC(C)Nc1ccncc1CCC(=O)O', 'CNc1c(O)ccc2c1CC[C@H](N)[C@H]2O', 'CC1(Cn2cccc(CN)c2=O)COC1', 'CCC(Oc1cccc(C)c1)C(N)=NO', 'Cc1c(C)c(N(C)N=O)c(C)c(C)c1O', 'CCOC(C(=O)NC)c1ccc(N)cc1', 'COc1ccnc(CC2(O)CCNC2)c1', 'CC(=O)c1ccc(NC(C)CO)cc1N', 'CC(C)(C)[C@H](Nc1cccnc1)C(=O)O', 'COCCCNc1ccc(C(N)=O)cc1', 'CC(OCc1ccccc1)C(N)C(N)=O', 'CCn1ccnc1C(=O)[C@@H]1CCCOC1', 'CC(NC(=O)CCCO)c1ccncc1', 'CCN(CC)c1ccc(CC(=O)O)cn1', 'C=CCN1CCC(=O)NC(C2CC2)C1=O', 'NCC1CCCN(C(=O)c2ccco2)C1', 'Cc1nc(C)c(C(=O)O)c(C(C)C)c1N', 'CCOC(=O)C(N)c1ccc(CC)cn1', 'Cc1cccc(OCCNC(=O)CN)c1', 'COC(=O)C1CCc2c(C)nn(C)c2C1', 'CC(C)C(c1ccncc1)C(N)C(=O)O', 'COc1ccc(CNC2(CO)CC2)cn1', 'COc1ccccc1CCC(=O)N(C)N', 'CCc1cccc(NC(=O)NCCO)c1', 'CNOC1=CC=CC(C)=CC(ONC)=C1', 'CCOc1cccnc1NC1CC(O)C1', '[H]/N=N/C(c1ccc(C)o1)C1(C)CCCO1', 'O=C1C2CCCC2=NN1C1CCCC1O', 'NCC(O)C1=CC=CC2NC=C(CO)C12', 'OC1(CNc2ccccn2)CCOCC1', 'Cc1cccnc1CNCC(C)C(=O)O', 'CC(=O)c1nc(C2CCCN2C)oc1C', 'CN(C)c1cccc(C[C@H](N)C(=O)O)c1', 'CCNCC(=O)Nc1cccc(CO)c1', 'C#CCCN1CCN(C(C)C)C(=O)C1=O', 'COc1ccc([C@H](N)CC(N)=O)cc1C', 'Oc1ccc(NCC2(O)CCNC2)cc1', 'COc1cc(NC2(C)CCOC2)ccn1', 'CN1CCNCC1(O)Oc1ccccc1', 'CNCC[C@H](OC(C)=O)c1cccnc1', 'COc1cccc(/C=N/CC(C)N)c1O', 'CCCOC(=O)N(N)c1cccc(C)c1', 'CC(C)CC(=O)Nc1cnccc1CO', 'CC(O)CN(C)NC(=O)c1ccccc1', 'COc1nccnc1C(O)C1CCCC1', 'CCOc1ccc(C2COCCN2)cn1', 'CCN(CC)C(=O)c1ccnc(OC)c1', 'CCCOC(C(N)=NO)c1ccccc1', 'COCCCC(=O)Nc1cc(C)ccn1', 'CCCC(C)(Nc1ccncc1)C(=O)O', 'CCOC(=O)c1cnc(C(C)(C)C)nc1', 'CC(C)CNCc1ccccc1[N+](=O)[O-]', 'COC(=O)CC(CN)c1ccc(C)cn1', 'CCOP(OCC)OCC(C)(C)C', 'NC1CCC(NC(=O)c2ccco2)CC1', 'CNC(=O)CNCC(O)c1ccccc1', 'COCCn1nc(C=O)c2c1CCCC2', 'CCC(Oc1cc(N)ccc1C)C(N)=O', 'Cc1cc(N2CCOCC2)c(C)c(=O)[nH]1', 'Cc1ccc(OCC(N)C(N)=O)c(C)c1', 'CCOC(=O)NC(C)c1ccccc1N', 'OCC1COCCN1Cc1ccccn1', 'O=C1NC2CCCCC3CC3C2NC1=O', 'CC(C)Cn1nccc1C1(C(=O)O)CC1', 'CC(C)OC(=O)CCNc1ccccn1', 'COC(=O)C(N)CCCc1ccccn1', 'C=C(CC)Cn1cc(CC)c(=O)[nH]c1=O', 'Nc1ccc(CC(=O)NCCCO)cc1', 'Cc1cnn(C)c1C1(C(=O)O)CCCC1', 'COC(=O)C(C)NCc1ccc(C)nc1', 'Cn1ccnc1CC(=O)C1CCCCO1', 'Cc1ccc(OCC/C(N)=N/O)cc1C', 'C=CCNC(=O)CC(CN)c1ccco1', 'COC(=O)C(N)Cc1ccccc1CN', 'O=C(O)c1cn[nH]c1C1CCCCCC1', 'CCOC(=O)c1ncn(C2CC2)c1CC', 'COC(=O)CCN(C)Cc1cccnc1', 'CC(C)Cn1nccc1[C@H]1C[C@@H]1C(=O)O', 'O[C@@H]1CN(CCc2cccnc2)C[C@@H]1O', '[H]/N=C(\\\\N)Cc1ccc(OC)cc1OCC', 'Cc1cc(N)ccc1[N+]1([O-])CCOCC1', 'CCCCCCC(O)COCCCl', 'CCN(CC)C1C(=O)NC1c1ccco1', 'CC(=O)C1CCN(Cc2ccno2)CC1', 'CC(C)C1CCCC(N=C=O)(N=C=O)C1', 'CN(C)C(=O)NCCc1ccccc1O', 'Cc1ncc2n1CCCC2CCC(=O)O', 'CCC1OCCC1C(O)c1cncnc1', 'CC(C)(C)NCc1cc(C(=O)O)ccn1', 'CC(C)(C)OC(=O)Cc1ccnc(N)c1', 'CCOCCN(C)c1ncccc1C=O', 'CCC(C)n1c(=O)[nH]c2c(c1=O)CCC2', 'CCON(C(=O)N(C)C)c1ccccc1', 'O=C=NCCCC1CCC(N=C=O)CC1', 'C1=CC(=CC=C1C=CC(=O)OC2C(C(C(OC2C3=C(C=C(C4=C3OC(=CC4=O)C5=CC=C(C=C5)O)O)O)CO)O)O)O', 'COc1ccc(Oc2ccc(CNC(=O)C3(NC(=O)c4cncnc4)CCS(=O)(=O)CC3)cc2)c(C(F)(F)F)c1', 'CC1(C)CC(=O)C2=C(C1)N(c1nnc(SCC(=O)Nc3ccc(F)cc3)s1)C(N)=C(C#N)C2c1ccc(F)cc1', 'O=C(N/N=C/c1ccc(OC(=O)c2ccc([N+](=O)[O-])cc2)cc1)/C(=C\\\\c1ccc2c(c1)OCO2)NC(=O)c1ccccc1', 'O=C(NCCc1ccccn1)c1cccc(CSc2nc(Cl)cc(N3CCN(c4ccccc4Cl)CC3)n2)c1', 'O=C(/C=C/c1ccc(O)cc1)O[C@@H]1C(O)[C@H](Oc2cc(O)c3c(=O)cc(-c4ccc(O)cc4)oc3c2)OC(CO)[C@H]1O', 'C[C@@H](C1=C(P(c2ccccc2)c2ccccc2)CC=C1)N(C)C(=S)Nc1cc(C(F)(F)F)cc(C(F)(F)F)c1', 'CC(F)(F)Oc1ccc(F)c(CNC(=O)c2cn(CC(F)CCc3nnc(NC(=O)c4ccccn4)s3)nn2)c1', 'CCCCCS(=O)(=O)NC(=O)C=Cc1ccc(OCCC(C)(C)O)cc1Oc1ncc(C(F)(F)F)cc1Cl', 'CCC(Sc1cccc(NC(=S)Nc2ccc(C)cc2)c1)C(=O)Nc1nc(-c2ccc(OC)c(OC)c2)cs1', 'CC(=O)OC[C@H]1O[C@@H](Oc2ccc(-c3ccc(S(C)(=O)=O)cc3)cc2)[C@@H](OC(C)=O)[C@@H](OC(C)=O)[C@@H]1OC(C)=O', 'Cc1ccc(Cl)c2sc(N(CCCN3CCOCC3)C(=O)c3ccc(S(=O)(=O)N4CCOCC4)cc3)nc12', 'O=C(O)c1cccc2c1OB(O)[C@@H](NC(=O)C(NC(=O)N1CCN(CCF)C(=O)C1=O)c1c(F)cc(O)cc1F)C2', 'C=CC1=CC[C@H]2C(=O)N(Nc3ccc(Cl)cc3Cl)C(=O)[C@@]2(c2ccc(OC)cc2)[C@H]1c1ccccc1OCCO', 'c1ccc2c(c1)oc1ccc(-c3ccnc(-c4cccc5c4sc4cc6c7ccccc7c7ccccc7c6cc45)n3)cc12', 'COc1ccc(Oc2ccc(CNC(=O)C(CCC(=O)OCc3ccccc3)NC(=O)C(F)(F)F)cc2)c(Cl)c1', 'COC(=O)C1=C(N)OC2=C(C(=O)CC(C)(C)C2)C1c1cc(Cl)ccc1OCC(=O)Nc1cccc(C(F)(F)F)c1', 'CN(c1ccc(Cl)cc1)c1ccc(C(=O)c2ccc(C(=O)c3ccc(F)cc3)c(C(=O)C(O)c3ccccc3)c2)nc1', 'Cc1ccc(S(=O)(=O)N(Cc2ccc(Cl)cc2)c2ccccc2C(=O)NCCSCc2ccccc2C)cc1', 'Cc1cn([C@H]2C[C@H](OCOC(=O)CCCC[C@@H]3SC[C@@H]4NC(=O)N[C@@H]43)[C@@H](COP(=O)(O)O)O2)c(=O)[nH]c1=O', 'C=CCN(C(=O)C1N(CCCCCCO)C(=O)[C@@H]2[C@@H](C(=O)O)[C@@H]3SC12CC3Br)c1c(C)cccc1C', 'Cc1c(Cl)cccc1-c1ccc([C@@H]2C(CF)N3C/C=C\\\\CN(S(=O)(=O)c4ccccc4C(F)(F)F)C[C@@H]23)cc1', 'CCOc1cc(Br)c(/C=C2\\\\C(=O)NC(=O)N(c3ccc(C45CC6CC(CC(C6)C4)C5)cc3)C2=O)cc1OC', 'CC(C)(C[C@@H]1CCN(c2ccc(S(=O)(=O)Nc3nccs3)cn2)C1=O)[Si](O)(c1ccccc1)c1ccccc1', 'O=C(NCCc1ccccn1)c1ccc(CSc2nc(Cl)cc(N3CCN(c4cccc(Cl)c4)CC3)n2)cc1', 'CNC(=O)CN1CCN(C2=NC(O)C(=Cc3ccc4c(cnn4Cc4ccc(Cl)cc4C(F)(F)F)c3)S2)CC1', 'Cc1ccc(C(C)C)c(Oc2ccc(N3C[C@H](C(=O)OCC(=O)Nc4ccc(Br)c(C)c4)CC3=O)cc2)c1', 'CCOC(=O)[C@H]1[C@H]2C(=O)N([C@@H](CO)Cc3ccccc3)C(C(=O)NC3CCCCC3)C23CC(Br)[C@@H]1S3', 'N/C(=N/O)C1C2CN(c3ccc(Cl)cc3)CC21.N/C(=N/OC(=O)CCl)C1C2CN(c3ccc(Cl)cc3)CC21', 'CN(C)CC(=O)N(c1ccc(OCCCCc2cccs2)c(C(F)(F)F)c1)c1nc(-c2cccnc2)c(F)s1', 'CC(F)COc1cc(NC(=O)NCc2cc(N3CC(F)(F)C3)c(-c3cn(C)nc3C(F)(F)F)nn2)cc(Cl)n1', 'CCCC(c1nn[nH]n1)N1C(=O)C(Cc2ccc(C#N)c(F)c2)OC(c2ccc(Cl)cc2)C1c1ccc(Cl)cc1', 'COC(=O)C(C)(C)C#Cc1ccc2c(c1)N(C)C(=O)[C@@H](NC(=O)c1cn3c(-c4ccc(F)cc4F)csc3n1)CO2', 'NS(=O)(=O)c1ccc(Cc2c(-c3ccc(F)c(C#CC4CC4)c3)nn(-c3nc(C(=O)O)co3)c2CC2CC2)cc1F', 'CC(=O)CC(C)=O.CN1[CH-]N2c3[c-]cc4ccccc4c3N(C)c3cccc1c32.[Ir]', 'COCCN1C[C@@H](NC(=O)Nc2c(Br)c(-c3ccccc3)nn2-c2ccccc2)[C@H](c2cncc(F)c2)C1', 'COc1ccc2nc(Cc3cc(Cc4ccccc4)nc(Nc4ccc(S(N)(=O)=O)cc4C)n3)sc2n1.O=CO', 'Cc1cn(CCN([C@]2(C(=O)O)C[C@H]2c2ccccc2)S(=O)(=O)c2ccc(-c3ccc(Cl)cc3)cc2)c(C(N)=O)n1', 'CCOC(=O)COc1cc(Cl)c(-n2c(=O)[nH]c3c(OC)nc(CC)nc32)cc1OCc1c(OC)ccc(F)c1F', 'Oc1cc(O)c2c(c1)OC(c1c(O)cc(O)c3c1OC(c1ccc(O)c(O)c1)C(O)C3)C(O)C2c1ccc(O)c(O)c1', 'O=C(c1cccc2c1N[C@H](c1ccc([N+](=O)[O-])cc1)[C@@H]1C[C@H](Sc3ccccc3[N+](=O)[O-])[C@H](Cl)[C@H]21)N1CCCC1', 'CCOc1c(Br)cc(C2Nc3ccccc3NC3=C2C(=O)CC(c2ccc(OC)c(OC)c2)C3)cc1OC', 'CC#CC#CC#CC#CC#CC#CC#CC#CC(=O)OCCC[NH2+]CCCOC(=O)C#CC#CC#CC#CC#CC#CC#CC', 'CCOC(=O)Sc1cccc2cccc(C(C)OC(=O)OC(C)c3cccc4cccc(SC(=O)OCC)c34)c12', 'COc1ccc(/C=C/c2nc3s/c(=C\\\\c4cn(-c5ccccc5)nc4-c4ccc([N+](=O)[O-])cc4)c(=O)n3n2)cc1OC', 'Cc1cc(C(O)(C(F)(F)F)C(F)(F)F)ccc1-c1sc(-c2nnc(C(C)(C)O)o2)nc1C(=O)N1CCC[C@@H]1C', 'COc1ccc(OC)c(NC(=O)[C@H](C(C)C)N2C(=O)[C@@H]3[C@@H](C2=O)C2(Cl)c4ccccc4C3(Cl)c3ccccc32)c1', 'Oc1cc(O)c2c(c1)OC(c1ccc(O)c(O)c1-c1c(O)cc(O)c3c1OC(c1ccc(O)c(O)c1)C(O)C3)C(O)C2', 'O=C(/C=C/c1ccc(O)cc1)OC1C(Oc2cc(O)c3c(=O)c(-c4ccc(O)cc4)coc3c2)OC(CO)C(O)C1O', 'C[C@H](C(=O)N(Cc1cccs1)[C@@H](C(=O)NCc1ccc(F)cc1)c1ccc(F)cc1)n1nnc(-c2cccs2)n1', 'C=CCN(C(=O)C1N([C@@H](CO)Cc2ccccc2)C(=O)[C@@H]2[C@H](C(=O)OCC)[C@H]3SC12CC3Br)C(C)C', 'C=CC(=C)N[C@H]1COC[C@H]1Nc1ncc2cc(-c3c(Cl)c(OC)cc(OC)c3Cl)nc(N3CC(F)(F)C3)c2n1', 'NC(N)=Nc1nc(-c2ccc(OCCCC(=O)NC3CCN(Cc4ccc(Cl)c(Cl)c4)CC3)cc2F)cs1', 'C=CCN(C(=O)C1N(C(CO)CC(C)C)C(=O)[C@@H]2[C@H](C(=O)O)[C@H]3SC12CC3Br)c1c(C)cccc1C', 'C=CCCn1c(=O)c2ccc(C(=O)NCc3ccc4c(c3)OCO4)cc2n(CC(=O)Nc2ccc(F)c(Cl)c2)c1=O', 'COC(=O)c1c(NC(=O)CSc2nnc(CSc3ccc(C)cc3)n2-c2ccccc2)sc2c1CCC(C)C2', 'O=C(/C=C/c1ccccc1)OC[C@H]1O[C@@H](c2c(-c3ccc(O)c(O)c3)oc3cc(O)cc(O)c3c2=O)[C@H](O)[C@@H](O)[C@@H]1O', 'C=CCn1c(SCC(=O)Nc2sc3c(c2C(=O)OCC)CCCC3)nnc1-c1csc(C)c1-c1ccccc1', 'Fc1cc(-c2ccc3c(-c4cccc5ccccc45)c4ccccc4c(-c4cccc(C(F)(F)F)c4)c3c2)cc(F)c1F', 'Cc1ccc(CN(Cc2ccc(/C=N/NC(=O)C(=O)Nc3ccc(Cl)cc3)o2)S(=O)(=O)c2ccc(C)cc2)cc1', 'O=C1C=C2OC3(c4ccc(O)c(O)c4)Oc4cc(O)cc(O)c4C(C2C2OC(c4ccc(O)c(O)c4)C(O)CC12)C3O', 'Oc1cc(O)c2c(c1)OC(c1ccc(O)c(O)c1)[C@H](O)[C@H]2c1c(O)cc(O)c2c1O[C@H](c1ccc(O)c(O)c1)[C@H](O)C2', 'CS(=O)(=O)c1ccccc1-c1ccc(CNC(=O)C2CCC[C@H]2C(=O)NCc2ccc(-c3cccs3)s2)cc1', 'Cc1noc(NS(=O)(=O)c2ccccc2-c2ccc(-c3ncco3)cc2CN(C)C(=O)c2cc(F)cc(F)c2)c1C', 'Cc1ccc(C(F)(F)F)cc1S(=O)(=O)Nc1ccc(F)c(-c2ccc3nc(NC(=O)C(C)(C)C)ncc3c2)c1F', 'O=C(NCc1ccc(Cl)cc1)C1CN(C(=O)COc2ccccc2)CCN1S(=O)(=O)c1cccc2cccnc12', 'c1ccc2c(c1)sc1cc(-c3cncc(-c4cccc5c4oc4cc6c7ccccc7c7ccccc7c6cc45)n3)ccc12', '[H]/N=C(\\\\c1c(Cl)cccc1NS(=O)(=O)c1ccc(C(F)(F)CC)cc1)N1CCN(c2ncc(F)cn2)CC12CC2', 'CC(=O)N(Nc1nc(NN(C(C)=O)S(=O)(=O)c2ccc(N)cc2)nc(N(C)C)n1)S(=O)(=O)c1ccc(N)cc1', 'Oc1cc(O)c2c(c1)O[C@@H](c1ccc(O)c(O)c1)[C@H](O)[C@H]2c1c(O)cc(O)c2c1O[C@@H](c1ccc(O)c(O)c1)[C@H](O)C2', 'C#Cc1cccc(N2C(=O)c3ccc(C(C)(C)c4ccc5c(c4)C(=O)N(c4cc(C#C)cc(C(=O)O)c4)C5=O)cc3C2=O)c1', 'CC(=O)N[C@@H](Cc1c[nH]c2cc(Br)ccc12)C(=O)NC1(C(=O)N[C@@H](CCC(=O)O)C(=O)O)CCCCC1', 'NC(N)=NCCC(=O)N(CCc1c[nH]c2ccccc12)C(C(=O)Nc1ccc(F)cc1)c1ccccc1Br', 'CCOc1cc(/C=N/NC(=O)c2ccc(OCc3ccccc3)c(OC)c2)cc(Cl)c1OCc1ccc(Cl)cc1', 'COc1cc2c(Oc3c(F)cc(NC(=O)C4=C(F)CC=CC=C4OCC(F)F)cc3F)ccnc2cc1OCCO', 'Cc1c(NC(=O)CSc2nnc(-c3cccc(S(=O)(=O)N4CCCC4)c3)n2-c2ccccc2)cccc1[N+](=O)[O-]', 'CCN1/C(=C/C=c2\\\\s/c(=C/c3sc4c5ccccc5ccc4[n+]3C)n(CC)c2=O)Sc2ccc3ccccc3c21', 'C=CC.CSc1ccc(C(=O)Nc2ccc(Cl)c(-c3cc4ccccc4[nH]3)c2)c(-c2ccc(C(F)(F)F)cc2)c1', 'CC(C)(C)[N-]C1CCCCC1.CC(C)(C)[N-]C1CCCCC1.I.[Nd]', 'O=C(CCCCCCCCCCC(=O)OCC(Cl)(Cl)Cl)OC[C@@H]1CC[C@H](n2cnc3c(=O)[nH]cnc32)O1', 'COc1ccc(C(=O)NCc2cccc(C(=O)Nc3nc4c(s3)C[C@H](N)CC4)c2)c(OC(=O)C(F)(F)F)c1OC', 'Oc1ccc([C@H]2Oc3c(cc(-c4cc5c(c(O)c4O)O[C@@H](c4ccc(O)cc4)[C@H](O)[C@H]5O)c(O)c3O)[C@@H](O)[C@H]2O)cc1', 'c1ccc2c(c1)oc1cc(-c3nc(-c4ccc5c6ccccc6c6ccccc6c5c4)nc4c3sc3ccccc34)ccc12', 'O=C(/C=C/c1ccc(O)cc1)OC[C@@H]1O[C@@H](Oc2cc(O)c3c(=O)cc(-c4ccc(O)cc4)oc3c2)[C@@H](O)[C@@H](O)[C@H]1O', 'COC(=O)c1ccccc1C(=O)OCC(COC(=O)c1ccccc1C(=O)OC)OC(=O)c1ccccc1C(=O)CO', 'COC(=O)c1cccc(Cn2ccc3cc(OCc4c(COc5c(Cl)cccc5Cl)noc4C(C)C)ccc32)c1', 'CCOC(=O)C1=C(C)NC(C)=C(C(=O)OCC)C1c1c(-c2ccccc2)noc1CCc1cccc(Br)c1', 'CCc1cccc2sc(NC(=O)c3ccc(Oc4ccc(C(=O)Nc5nc6c(CC)cccc6s5)cc4)cc3)nc12', 'O=C(Cc1ccccc1)N[C@@H]1C(=O)N2C(C(=S)OC(c3ccccc3)c3ccccc3)=C(c3ncccn3)CS[C@H]12', 'O=C(/C=C/c1ccc(O)cc1)OC[C@H]1O[C@@H](Oc2cc(O)c3c(=O)cc(-c4ccc(O)cc4)oc3c2)[C@H](O)[C@@H](O)[C@@H]1O', 'CC1OC(Oc2cc(O)c3c(=O)c(O)c(-c4ccc(O)cc4)oc3c2)C(OC(=O)C=Cc2ccc(O)cc2)C(O)C1O', 'O=C(/C=C/c1ccc(O)cc1)Oc1ccc(-c2cc(=O)c3c(O)cc(O[C@@H]4OC(CO)[C@@H](O)[C@H](O)C4O)cc3o2)cc1', 'CNC(=O)c1cnn(CCC2(c3ccccc3)C(S(=O)(=O)c3ccc(-c4ccc(Cl)cc4)cc3)C2(N)C(=O)O)c1', 'C/C=C1/C=CC(C(C(=O)OCC(F)(F)F)=c2ccc(=Cc3ccc(C(C(=O)OCC(F)(F)F)=C4C=CC=N4)[nH]3)[nH]2)=N1', 'COc1ccc(-c2csc(NC(=O)C(C)Sc3nc(-c4ccccc4)cc(-c4ccc(OC)cc4)c3C#N)n2)cc1', 'COc1ccccc1[C@H]1c2c(C)nn(-c3ccccc3)c2N=C2/C(=N/c3ccc(Cl)cc3Cl)Nc3ccccc3N21', 'CC(=O)N1CCCC(Nc2ncc3nc(Nc4c(Cl)cc(Cl)cc4Cl)n(C4CCC(C(N)=O)CC4)c3n2)C1', 'COC(=O)C1=C(CN2C3COCC2CC(CC(=O)OCO)C3)NC(c2nccs2)=NC1c1ccc(F)cc1Cl', 'c1ccc(-c2cc(-c3ccc4c(c3)oc3ccccc34)nc(-c3ccc4sc5cccc6c7ccccc7c3c4c56)n2)cc1', 'COC(=O)CCCOc1ccc(-c2cccc(/C=C/c3nc(-c4ccc(Cl)cc4Cl)cn3CC(=O)OC)c2)cc1', 'COc1cc(Nc2nc3n(n2)CC[C@](C)(OC(=O)C(F)(F)F)C[C@@H]3c2ccc(F)cc2)ccc1-n1cnc(Cl)c1', 'CCOC(=O)COc1c(Cl)cc(/C=N\\\\NC(=O)c2ccc(-c3csc(Nc4ccc(C)cc4)n3)cc2)cc1OC', 'CCOc1cc(C2Nc3ccccc3NC3=C2C(=O)CC(c2cc(OC)ccc2OC)C3)cc(Br)c1OC', 'COc1ccc(Cl)cc1N(CC(=O)Nc1ccccc1C(=O)NCc1cccnc1)S(=O)(=O)c1ccc(C)cc1', 'O=C(O)c1cc2cc(CC(=O)C(Cc3ccccc3)n3ccc(-c4cc(Cl)ccc4-n4cnnn4)cc3=O)ccc2[nH]1', 'CCCCCCCCCCCCS(=O)(=O)NCc1ccccc1S(=O)(=O)Nc1cc(Cl)c(O)c(Cl)c1', 'COCc1cnc2c(-c3nc4c(C5CC5)cc(OCCNS(=O)(=O)c5ccc(F)cc5)cc4s3)cc(C)cc2n1', 'CC(C)(C)OC(=O)NC1CCC(C2=C(C(=O)O)C(c3ccc(F)cc3Cl)N(C(=O)O)C(c3nccs3)=N2)CC1', 'Oc1cc(O)c2c(c1)OC(c1cc(O)c(O)cc1-c1c(O)cc3c(c1O)C[C@H](O)C(c1ccc(O)c(O)c1)O3)[C@@H](O)C2', 'CCOC(=O)COc1c(Br)cc(C=C2S/C(=N\\\\C3CCCCC3)N(C3CCCCC3)C2=O)cc1OC', 'O=C(OCOCC1CO1)c1ccc(OC(=O)c2ccc(OC(=O)c3ccc(C(=O)OCOCC4CO4)cc3)cc2)cc1', 'C=CCN(C(=O)C1N(CCCCO)C(=O)[C@@H]2[C@H](C(=O)OCC)[C@H]3SC12CC3Br)c1c(C)cccc1C', 'CO[C@@H](C(=O)N1Cc2c([As]C(=O)c3ccc(N4CCN(C)CC4)cc3)nn(C(=O)O)c2C1)c1ccccc1', 'COc1cncc2c1C1(O)C(CN3CC4(COC4)C3)C(CO)C(c3ccccc3)C1(c1ccc(Br)cc1)O2', 'CC(C)(C)[Si](C)(C)O[C@@H]1[C@H](O[Si](C)(C)C(C)(C)C)[C@@H](CO)[Se][C@H]1n1cnc2c(Cl)ncnc21', 'COc1ccc(C(=O)[C@@H]2[C@H](C(=O)c3ccc(Cl)cc3)N3C=Cc4ccccc4[C@@H]3[C@]23C(=O)Nc2ccccc23)cc1F', 'C[C@H](Nc1ncnc2[nH]ccc(=O)c12)c1c(Cl)c2cccc(-c3cnc4c(c3)OCCO4)c2c(=O)n1-c1ccccc1', 'CC1OC(Oc2c(-c3ccc(O)cc3)oc3cc(O)cc(O)c3c2=O)C(O)C(O)C1OC(=O)C=Cc1cccc(O)c1', 'CC[C@H](C)n1c(CCOc2c(F)c(F)c(F)c(F)c2F)ccc1C(=O)Nc1cc(CC(=O)O)ccc1C(F)(F)F', 'O=C(C=Cc1ccc(O)cc1)COC1OC(Oc2cc(O)c3c(=O)cc(-c4ccc(O)cc4)oc3c2)C(O)C(O)C1O', 'CCOc1cc(Cl)c(C(=O)Nc2nc3ccc(S(=O)(=O)C4CCN(C)CC4)cc3s2)cc1N1CCOCC1', 'CCOC(=O)CCC(CCC(=O)OCC)(C(=O)OC(C)C)S(=O)(=O)c1cc(C(F)(F)F)cc(C(F)(F)F)c1', 'COc1ccc(NC2=Nc3ccccc3N3C2=Nc2c(c(C)nn2-c2ccccc2)[C@@H]3c2cccc(Cl)c2)cc1Cl', 'COc1cc(C(=O)Oc2ccc([N+](=O)[O-])cc2C=Nn2c(-c3ccccc3)nc3ccccc3c2=O)ccc1OC(C)=O', 'Cc1c(F)c(F)c(F)c(OC(=O)CCSCCOCCOCCSCCS(=O)(=O)CCC(C)C)c1F', 'CCOC(=O)C1=C(C)N=c2s/c(=C\\\\c3c(Cl)nn(-c4ccccc4)c3C)c(=O)n2[C@H]1c1ccc(OC)c(OC)c1', 'CC1=[C-]C(C)C(C)=C1C.C[GeH]C.[NH-]C12CC3C(C1)C3C2.[Zr+2].c1ccc(-c2ccccc2)cc1', 'C=CC[C@@]1(C(=O)NCc2ccc(OC)cc2)N=C(c2ccc(OCCCO)cc2)O[C@@H]1c1ccccc1Br', 'O=C1CCc2c(Oc3ccc(O)c([C@@H]4[C@@H]5C[C@@]45NC(=O)Nc4cc(C(F)(F)F)cc(C(F)(F)F)c4)c3)ccnc2N1', 'O=C(NCc1ccco1)c1ccc(N2CC3CC(C2)c2cccc(=O)n2C3)c(NS(=O)(=O)c2ccc(Cl)cc2)c1', 'CC(C)(C)c1cc[b-](-c2ccccc2)cc1.CC(C)(C)c1cc[b-](-c2ccccc2)cc1.Cl[Zr+2]Cl', 'C=CCN(C(=O)C1N(CCCCCCO)C(=O)[C@@H]2[C@H](C(=O)O)[C@H]3SC12CC3Br)c1c(C)cccc1C', 'CCOC(=O)C1=C(F)N(S(=O)(=O)c2ccc(C)cc2)C(C(=O)OCC)(C(=O)OCC)C1c1ccc([N+](=O)[O-])cc1', 'FCCOc1ccc(/C=N/Nc2nc(NCc3ccc(Cl)nc3)nc(Nc3ccc(F)c(C(F)(F)F)c3)n2)cc1', 'Cc1cccc(-n2nc3c(c2NC(=O)CS(C)(=O)=O)C(=O)N[C@@]2(CCOc4cc(OCC(F)(F)F)ccc42)C3)c1', 'Nc1ncnn2c(CN3CCS(=O)(=O)CC3)cc(-c3ccc(NC(=O)Nc4cc(C(F)(F)F)ccn4)c(F)c3)c12', 'COc1ccc(S(=O)(=O)NC2N=C(c3ccccc3)c3ccccc3N(CC(=O)N[C@H](C=O)CC(=O)O)C2=O)cc1', 'CC(CCCN(C)C)N(C(=O)OCCCC(=O)NC(P(O)O)P(=O)(O)O)c1ccnc2cc(Cl)ccc12', 'Oc1cc(O)c2c(c1)O[C@H](c1cc(O)c(O)cc1-c1c(O)cc(O)c3c1O[C@H](c1ccc(O)c(O)c1)[C@H](O)C3)[C@@H](O)C2', 'COc1cc(NC(=O)CSc2nnc(N3C(N)=C(C#N)C(c4ccc(C)o4)C4=C3CCCC4=O)s2)cc(OC)c1', 'CC(c1ccnc(CO)c1)C1(C(C)c2ccnc(CO)c2)NC(=O)N(c2ccc(S(=O)(=O)C(F)(F)F)cc2)C1=O', 'Cc1cc(C(O)(C(F)(F)F)C(F)(F)F)ccc1-c1sc(-c2noc(C(C)(C)O)n2)nc1C(=O)N1CCC[C@@H]1C', 'S=P(C/C=C/CC(c1ccccc1)P(=S)(c1ccccc1)c1ccccc1)(c1ccccc1)c1ccccc1', 'C=CC(=O)Nc1ccc(C(=O)N2CC[C@@H](Nc3ncc(Br)cn3)C2)cc1OCCN1CCCC(F)(F)C1', 'NC(=O)c1cn(CCC(F)CCc2nnc(NC(=O)Cc3cc(-c4cccc(OC(F)(F)F)c4)ccn3)s2)nn1', 'CC(=O)N[C@H]1CO[C@H](CO)[C@@H](O[C@@H]2O[C@H](O)[C@H](OS(=O)(=O)[O-])[C@H](O)[C@H]2O)[C@@H]1O[C@@H]1O[C@@H](C)[C@@H](O)[C@@H](O)[C@@H]1O', 'CCCCOC1[C@@H]2OC(C)(C)O[C@H]2O[C@@]1(COS(=O)(=O)C(F)(F)F)CC(F)(F)P(=O)(OCC)OCC', 'N#Cc1c(N2C(=O)C[C@H](Sc3cccc(NC(=O)Nc4ccccc4)c3)C2=O)sc2c1CC[C@@H](c1ccccc1)C2', 'C1=Cc2cc3c(-c4ncco4)c(-c4ncco4)c(c(-c4ncco4)c4nc(cc5ccc(cc1n2)[nH]5)C=C4)n3-c1ncco1', 'CC(C)Nc1cnc(-c2ccc(Cl)c(Cl)c2)n(CC(=O)N[C@@H](CCCN=C(N)N)C(=O)c2nccs2)c1=O', 'CCNC(=O)[C@H]1O[C@@H](n2cnc3c(NCc4cc(C(F)(F)F)ccn4)nc(-c4cncc(Cl)c4)nc32)[C@H](O)[C@@H]1O', 'CN(C(=O)c1ccccc1)c1ccc2c(c1)nc(NC(=O)c1ccc(-c3cnco3)s1)n2CCN(C)S(C)(=O)=O', 'COc1cccc(COC(CN2CCN(S(=O)(=O)c3sc(NC(C)=O)nc3C)CC2)c2ccc(Cl)cc2)c1', 'COc1ccc(-c2cnc(N)c(-c3ccc(N(F)C4=CNC=C(C/N=C/C(Br)=C\\\\N)C4)cc3)c2)cc1OC', 'Oc1cc(O)c2c(c1)O[C@H](c1ccc(O)c(O)c1)[C@H](O)[C@H]2c1c(O)cc(O)c2c1OC(c1ccc(O)c(O)c1)[C@H](O)C2', 'COc1cc(C2=NOC(c3ccc(C)c(OCC(=O)Nc4nc5ccc([N+](=O)[O-])cc5s4)c3)C2)cc(OC)c1OC', 'CNC(=O)c1cn(CC(F)CCc2nnc(NC(=O)Cc3cncc(-c4cccc(OC(F)(F)F)c4)c3)s2)nn1', 'CC(=O)OCCOc1ccc(C(=O)N2CC(=O)N(Cc3nnc(-c4ccccc4F)o3)Cc3ccccc32)c(Cl)c1', 'COc1cc(NC(C(=O)c2c[nH]c3cc(C)c(OC(F)(F)F)cc23)c2ccc(Cl)cc2OC)cc(OCCO)c1', 'Cc1ccc(CN(Cc2ccc(/C=N/NC(=O)C(=O)NCc3ccccc3)o2)S(=O)(=O)c2ccc(Cl)cc2)cc1', 'O=C(/C=C/c1ccc(O)cc1)O[C@@H]1[C@@H](O)[C@H](Oc2ccc(-c3cc(=O)c4c(O)cc(O)cc4o3)cc2)O[C@H](CO)[C@H]1O', 'O=C1CCCc2c(OCc3cccc(-c4c5cccc(C(F)(F)F)c5nn4Cc4ccc(Cl)cc4F)c3)cccc21', 'CCOC(=O)c1c(NC(=O)C(=O)N/N=C(\\\\C)c2ccccc2OC(=O)c2ccccc2[N+](=O)[O-])sc2c1CCCC2', 'CCOC(=O)c1c(NC(=O)C(=O)N/N=C/c2cccc(OC(=O)c3ccccc3[N+](=O)[O-])c2)sc2c1CCCCC2', 'CC(C)c1onc(-c2c(Cl)cccc2Cl)c1COc1ccc(-c2ccc3c(OC(=O)O)cn(C(C)C)c3c2)cc1', 'COc1ccc(-c2nn(-c3ccccc3)cc2C=c2sc3nc(=O)c(Cc4ccc(C)cc4)nn3c2=O)cc1[N+](=O)[O-]', 'COc1ccc(-n2nc3c(c2NC(=O)CS(C)(=O)=O)C(=O)N[C@@]2(CCc4cc(OCC(F)(F)F)ccc42)C3)cc1', 'COc1cc(OCCO)cc(N(C)C(C(=O)c2c[nH]c3ccc(OC(F)(F)F)cc23)c2ccc(Cl)cc2OC)c1', 'CCC[C@H]1C(=O)N(S(=O)(=O)c2cccc3ccccc23)C2=CCN(S(=O)(=O)Cc3cccc(-c4nn[nH]n4)c3)[C@@H]21', 'CNC(=O)c1nc(-c2cccc(CBr)c2)cnc1N.CNC(=O)c1nc(-c2cccc(CO)c2)cnc1N', 'O=C(CN1C(=O)CS(=O)(=O)C[C@H]1c1cc(F)cc(F)c1)Nc1ccc2c(c1)CC1(C2)N=C(c2ccccc2)NC1=O', 'CC1=C(N(/N=C/C(N)=O)c2ccc3c(c2)OCCO3)c2cc(NC(=O)c3ccc(S(C)=O)cc3Cl)ccc2CC1', 'Fc1cc(-c2c3ccccc3c(-c3cccc4ccccc34)c3ccc(-c4cccc(C(F)(F)F)c4)cc23)cc(F)c1F', 'Oc1cc(O)c2c(c1)OC(c1ccc(O)c(O)c1)[C@H](O)C2c1c(O)cc(O)c2c1OC(c1ccc(O)c(O)c1)[C@H](O)C2', 'O=C(O)CC(NC(=O)c1ccc(CNS(=O)(=O)c2ccc(O)c(C(=O)O)c2)cc1)C(=O)CSC1CCCCC1', 'CC(O)CC(C)O.COc1ccc[c-]c1-c1nnc(-c2ccccc2OC)o1.[Ir]', 'C[C@@H](C(=O)N(Cc1cccs1)[C@H](C(=O)NCc1ccc(F)cc1)c1ccc(F)cc1)n1nnc(-c2cccs2)n1', 'CCOC(=O)c1ccc(C(=O)OCCOC(=O)c2ccc(C(=O)OCCOC(=O)c3ccc(C(=O)O)cc3)cc2)cc1', 'COc1ccccc1OCC(=O)OCC(=O)N1N=C2C(=Cc3cccc(Cl)c3)CCCC2C1c1ccc(Cl)cc1', 'CCCCCCOCc1cccc(C2=CSC(NC(=O)c3cc(Cl)c(/C=C(\\\\C)C(=O)O)c(Cl)c3)N2)c1OC', 'O=C1NC(=O)N(c2cccc(O)c2)C(=O)C1=CC=C(C=Cc1c(O)[nH]c(=O)n(-c2cccc(O)c2)c1=O)c1ccccc1', 'COc1cc(/C=C/C(=O)O)cc(/C(=C/c2cc(OC)c(O)c(-c3cc(/C=C/C(=O)O)cc(OC)c3O)c2)C(=O)O)c1O', 'C=CC(=O)N1CCn2nc(-c3nc(C(F)(F)F)c4ccsc4c3-c3c(F)cc(F)cc3OCCOC)cc2[C@H]1C', 'COc1cc(C2C(C#N)=C(N)Oc3cc(OC(=O)/C=C/c4ccc(Cl)cc4Cl)ccc32)ccc1OCCC(C)C', 'C=CCn1c(SCC(=O)Nc2sc3c(c2C(=O)OC)CCCCC3)nnc1-c1csc(C)c1-c1ccccc1', 'C[C@H](NC(=O)C(=O)N/N=C/c1ccc(CN(Cc2ccc(Cl)cc2)S(=O)(=O)c2ccccc2)o1)c1ccccc1', 'COC(=O)c1scc(Br)c1OC1CCN(C(=O)C2CCN(Cc3ccnc(NB(C)O)c3)CC2)CC1', 'Oc1cc(O)c2c(c1)O[C@H](c1ccc(O)c(O)c1)[C@@H](O)[C@H]2c1c(O)cc(O)c2c1O[C@@H](c1ccc(O)c(O)c1)[C@@H](O)C2', 'O=C(/C=C/c1ccc(O)cc1)O[C@@H]1[C@@H](O)[C@H](Oc2cc(O)c3c(=O)cc(-c4ccc(O)cc4)oc3c2)O[C@H](CO)[C@H]1O', 'COc1ccc(C(=O)[C@H]2[C@@H](C(=O)c3ccc(Cl)cc3)N3C=Cc4ccccc4[C@@H]3[C@]23C(=O)Nc2ccccc23)cc1F', 'O=C(/C=C/c1ccc(O)cc1)OC[C@H]1O[C@@H](c2c(-c3ccc(O)cc3)oc3cc(O)cc(O)c3c2=O)[C@H](O)[C@@H](O)[C@@H]1O', 'Cc1ccc2c(-c3cccs3)cc(Cc3ccc4c(-c5ccco5)cccc4c3-c3ccco3)cc2c1-c1cccs1', 'COc1cccc(CO[C@@H](CN2CCN(S(=O)(=O)c3sc(NC(C)=O)nc3C)CC2)c2ccc(Cl)cc2)c1', 'O=C1C=C2C(=CC1=O)/C1=N/c3[nH]c(c4ccccc34)Nc3[nH]c(c4ccccc34)Nc3[nH]/c(c4c3C=C(O)C(=O)C=4)=N\\\\C2=N1', 'C=P(c1cc(F)c(F)c(F)c1)(c1ccc2ccc3cccc4ccc1c2c34)c1ccc2ccc3cccc4ccc1c2c34', 'COC(=O)C1=C(CN2C3COCC2CC(C(O)C(=O)OC)C3)NC(c2nccs2)=NC1c1ccc(F)cc1Cl', 'O=C(CCCCCCCCC(=O)Oc1cc(C(F)(F)F)ccc1C(=O)O)Oc1cc(C(F)(F)F)ccc1C(=O)O', 'CC[Si](=[Hf+2])CC.Cc1c[c-](C)c(C)c1C.Cc1c[c-](C)c(C)c1C.[Cl-].[Cl-]', 'O=C1c2ccccc2C(=O)c2c(N(C(=O)O)c3cccc4ccccc34)ccc(N(C(=O)O)c3cccc4ccccc34)c21', 'Nc1ncc(CCCc2cc(-c3cc(OCCC4CCCCC4)ccc3Br)nc(-c3cnccn3)n2)s1', 'C=CC1=CCC2C(=O)N(Nc3ccc(Cl)cc3Cl)C(=O)C2(c2ccc(OC)cc2)C1c1ccccc1OCCO', 'CCOc1cc(C=C2S/C(=N\\\\C3CCCCC3)N(C3CCCCC3)C2=O)cc(Br)c1OCC(=O)OC', 'CN(C1CC[C@@]2(O)[C@H]3Cc4ccc(O)c5c4[C@@]2(CCN3CC2CC2)C1O5)S(=O)(=O)Cc1ccc(Cl)c(Cl)c1', 'CCC(CN(C)S(=O)(=O)C1CC1)N1C(=O)[C@@]2(CC(c3cccc(Cl)c3)C1c1ccc(Cl)cc1)CC2C(=O)O', 'O=C(C=Cc1ccc(O)cc1)OC[C@@H]1O[C@H](Oc2cc(O)c3c(=O)cc(-c4ccc(O)cc4)oc3c2)[C@H](O)[C@@H](O)[C@@H]1O', 'Oc1cc(O)c2c(c1)O[C@H](c1ccc(O)c(O)c1)C(O)[C@@H]2c1c(O)cc(O)c2c1O[C@H](c1ccc(O)c(O)c1)[C@@H](O)C2', 'Oc1ccc([C@H]2c3c(cc(O)c4c3O[C@H](c3ccc(O)c(O)c3)[C@@H](O)C4)O[C@H](c3cc(O)c(O)c(O)c3)[C@H]2O)c(O)c1', 'CNC(=O)c1c(-c2ccc(Cl)cc2)oc2cc(N(CCC3OB(O)c4ccccc43)S(C)(=O)=O)c(C3CC3)cc12', 'CCOC(=O)Cc1cc(C(=O)c2cc(CC(=O)OCC)c(-c3ccc(OC)cc3)s2)sc1-c1ccc(OC)cc1', 'COc1ccc(Cl)cc1[C@H]1C(C(=O)OC(C)C)=C(C)N=c2s/c(=C\\\\[C@H]3C(=O)N(c4ccccc4)N=C3C)c(=O)n21', 'C=CCN(Cc1ccccc1)C(=O)C1N([C@@H](CO)C(C)C)C(=O)[C@@H]2[C@H](C(=O)OCC)[C@H]3SC12CC3Br', 'COc1ccc(N(CC(=O)N/N=C\\\\c2ccc(-c3ccc([N+](=O)[O-])cc3)o2)S(=O)(=O)c2ccc(C)cc2)cc1OC', 'CCOC(=O)C1CCCC(Nc2nc3c(c(=O)n(Cc4ccc(Cl)c(Cl)c4)c(=O)n3C)n2CC(=O)C(N)=O)C1', 'c1ccc(-c2nc(-c3ccc(-c4ccc5c6ccccc6c6cccc7oc4c5c76)cc3)nc3c2sc2ccccc23)cc1', 'Cc1c(-c2ccccc2)ccc(CC(NS(=O)(=O)c2ccccc2Cl)C(=O)O)c1NC(=O)NCc1cccnc1', 'CC(=O)Oc1ccc(C(=O)OCC(COC(=O)c2ccc(OC(C)=O)cc2)OC(=O)c2ccc(OC(C)=O)cc2)cc1', 'CCn1c(=O)/c(=C/C=C2\\\\Sc3ccc4ccccc4c3N2C)s/c1=C/c1sc2ccc3ccccc3c2[n+]1CC', 'CC(C)c1ccc2c(c1)c(=O)c1ccccc1[s+]2C.CCC(=O)COc1ccccc1.F[P-](F)(F)(F)(F)F', 'CC(NC(=O)C1CCCN1C(=O)CN1CCCC(NS(=O)(=O)/C=C/c2ccc(Cl)s2)C1=O)c1ccccc1', 'CN(C)c1cccc2cc(S(=O)(=O)[C@H]3OC(CO)[C@H](O)C(n4cc(-c5cc(F)c(F)c(F)c5)nn4)[C@@H]3O)ccc12', 'CN1CC[C@@](F)(C#CC#Cc2cc3n(c2)C(=O)N(CCC(C)(C(=O)NO)S(C)(=O)=O)C3)C1.O=C(O)C(F)(F)F', 'C[Si]12c3ccccc3Oc3cccc(c31)Oc1c2ccc2c3c(ccc12)[Si]1(C)c2ccccc2OC2=CC=CC(O3)C21', 'Oc1ccc(C2(OC3Cc4c(O)cc(O)cc4OC3c3ccc(O)c(O)c3)Oc3cc(O)cc(O)c3C(O)C2O)cc1', 'C[C@H]1O[C@H](Oc2c(-c3ccc(O)cc3)oc3cc(O)cc(O)c3c2=O)[C@@H](O)[C@@H](O)[C@@H]1OC(=O)/C=C/c1ccc(O)cc1', 'CCCCCCCCCCN1CC(C(=O)O)N(S(=O)(=O)c2ccc(-c3ccc(Br)cc3)cc2)CC1=O', 'CCOC(=O)CO.O=C(CN1CCC(NC(=O)c2ccc(Cl)s2)C1)Nc1ccc(-n2ccccc2=O)cc1F', 'CCOC(=O)C1=C(C)N=C(C)C(C(=O)OCC)C1c1c(-c2ccccc2)noc1CCc1cccc(Br)c1', 'Oc1cc(O)c2c(c1)O[C@@H](c1ccc(O)c(O)c1)[C@@H](O)[C@@H]2c1c(O)cc2c(c1O)C[C@H](O)[C@H](c1ccc(O)c(O)c1)O2', '[H]/N=C(\\\\Nc1cccc(O)c1)c1c(C(=O)Nc2cccc(OC(C)=O)c2)ccc(-c2ccc3c(c2)C(=O)NC3=O)c1C(=O)O', 'COc1ccc(NC2=Nc3ccccc3N3C2=Nc2c(c(C)nn2-c2ccccc2)C3c2cccc(Cl)c2)cc1Cl', 'CCCCC(CCSc1ccc(OOC(=O)CCC)c(C(F)(F)F)c1)c1cc2ccc(C(F)(F)F)cc2s1', 'CCOc1ccc(C2CC(=O)C3=C(C2)Nc2ccccc2NC3c2cc(OC)c(Br)cc2OC)cc1OC', 'CN1CCC[C@H]1COc1nc(N2CCN(C(=O)OC(C)(C)C)[C@@H](CC#N)C2)c2cc(Cl)c(Br)cc2n1', 'COC(=O)CCCN(C)CCCC(C(=S)Nc1cc(Cl)c(Cl)cc1C(F)(F)F)c1ccc(C)c(OC)c1', 'Cc1cc2cc(C(=O)c3cnn(-c4cnc(Oc5ccccc5F)cc4C)c3N)[nH]c2cc1NS(=O)(=O)CC(=O)O', 'CCC(CN(C)S(=O)(=O)C1CC1)N1C(=O)C2(CC(c3cccc(Cl)c3)C1c1ccc(Cl)cc1)CC2C(=O)O', 'COC(=O)c1c(NC(=O)C2S/C(=N\\\\c3ccc(F)cc3)C(C(=O)NCc3ccccc3)=C2N)sc2c1CCCC2', 'CC(Cc1ccc(C(F)(F)F)cc1)C(=O)C(C)(CCN1CCN(S(C)(=O)=O)CC1)c1ccc(Cl)c(Cl)c1', 'CN([C@@H]1CC[C@@]2(O)[C@H]3Cc4ccc(O)c5c4[C@@]2(CCN3CC2CC2)[C@H]1O5)S(=O)(=O)Cc1ccc(Cl)c(Cl)c1', 'O=C(Cn1cc(/C=C2\\\\SC(=O)N(CC(=O)Nc3cccc4ccccc34)C2=O)c2ccccc21)Nc1ccc(F)cc1', 'CCCCc1[nH]c(=O)c(-c2nnc(Cc3csc(-c4ccc(Cl)cc4)n3)o2)c(O)c1-c1c(OC)cccc1OC', 'CN1CCN(CCC(=O)Nc2c(OC(F)F)ccc(-c3c(C#N)c(N)nc4sc(C(N)=O)c(N)c34)c2Cl)CC1', 'Cc1c(/N=N/C2C(=O)NN(C(=O)c3cnn(-c4ccc(S(N)(=O)=O)cc4)c3N)C2=O)c(=O)n(-c2ccccc2)n1C', 'Fc1cc(F)c(Cn2nc3c(C(F)(F)F)cccc3c2-c2cccc(CCc3ccccc3C(F)(F)F)c2)c(F)c1', 'CS(=O)(=O)CNCCn1c(NC(=O)c2ccc(-c3cnco3)s2)nc2cc(NCC(=O)c3ccccc3)ccc21', 'O=C1/C(=C/c2cn(-c3ccccc3)nc2-c2cccc(S(=O)(=O)N3CCCC3)c2)SC(=S)N1C1CCCCC1', 'CCOc1cc([C@@H]2Nc3ccccc3NC3=C2C(=O)C[C@H](c2ccc(OC)c(OC)c2)C3)cc(Br)c1OC', 'O=P(O)(O)c1ccc(-c2ccc([C@@H]3[C@H](CC[C@H](O)c4ccc(F)cc4)NC(=S)N3c3ccccc3)c(O)c2)cc1', 'CCN(C(=O)C(C)(C)Oc1ccc(NC(=O)Cc2ccc(S(=O)(=O)CC)cc2)cc1F)c1ccc(Cl)c(F)c1', 'CC(Oc1ccc(S(=O)(=O)C2CC(C(=O)NC3(C#N)CC3)CC(C(=O)OC(C)(C)C)C2)c(Cl)c1)C(F)(F)F', 'CC1(C(=O)N2CC3CCC(C2)O3)CC[C@@H](Cc2ncc3c(Br)nn(-c4cc(F)c5ncccc5c4)c3n2)C1', 'NC(=O)c1nn(CC(=O)N2C[C@H](F)C[C@H]2C(=O)Nc2cccc(-c3cnc4nc[nH]c4c3Cl)c2F)c2ccccc12', 'C=CC[C@@]1(C(=O)NCc2ccc(OC)cc2)N=C(c2ccc(OCCCO)cc2)O[C@@H]1c1ccc(Br)cc1', 'O=P(O)(O)c1ccc(-c2ccc([C@@H]3[C@@H](CC[C@H](O)c4ccc(F)cc4)NC(=S)N3c3ccccc3)c(O)c2)cc1', 'CC(C)(Cc1csc(C2(C)C(=O)Nc3nc(-c4nn(CCC(F)(F)F)c5ncc(F)cc45)nc(N)c32)n1)C(=O)O', 'CC[C@@H]1CN(c2nc(Cl)nc3ccc(Cl)nc23)[C@@H](C)CN1C(c1ccc(F)cc1)c1ccc(C(F)(F)F)cn1', 'C1CCN2CC3CC(C2C1)CN4C3=CC=CC4=O', 'CCCOc1cc(N2C3C=CCC2CC3)ccn1', 'Cc1ccc(CN(C)c2ccc(CCN)cc2)o1', 'CC(N)CC1C2=C(CC=C3OC=CC=C32)NC1C', 'C#CC(NC(=O)C(CN)c1ccccc1)C(C)C', 'O=C(CN1Cc2ccccc2C1)C1CCNCC1', 'CC1COCCC1NCc1c[nH]c2ccccc12', 'COc1c(C2(CN)CCC2)ccc2c1ccn2C', 'CC1(C)C(O)CCN1Cc1c[nH]c2ccccc12', 'C[C@@H]1CC[C@@H](c2ccc3c(c2)CCC(=O)N3)NC1', 'C#CC(CCC)NCc1ccc(C(N)=O)cc1C', 'C=CCN(CC=C)CC(=O)N(C)c1ccccc1', 'CC1(C)CCC(OC2CC(Cl)C2(C)C)CC1', 'N#Cc1cccc(C(CN)C2(CO)CCCC2)c1', 'CCC(CC#N)NC(C)c1ccc2c(c1)CCO2', 'CCNC(C)c1ccn(Cc2ccc(O)cc2)c1', 'CCCNC(c1ccc(C)nc1)c1coc(C)c1', 'CC(C)NCCCn1ccc(=O)c2ccccc21', 'CCc1c(-c2ccccc2)c(=O)[nH]n1CC(C)C', 'O=C(c1ccncc1)N1CC[C@@H]2CCCC[C@H]2C1', 'CCCn1nc(CC)c(O)c1-c1cccc(C)c1', 'Cc1ccc(N2CCCC2)cc1N1CCCC1=O', 'Cc1ccccc1CC(=O)N1C[C@@H]2CCN[C@@H]2C1', 'O=C(C[C@@H]1C[C@H]2CC[C@H]1C2)NCc1cccnc1', 'CN(C)CCC1OCCc2c1[nH]c1ccccc21', 'Cc1cc(C(C)(C)C#N)cc(C(C)(C)C(N)=O)c1', 'COc1ccc2c(C)cc(CC(C)(C)N)nc2c1', 'C[C@@H](NC(=O)C1CN2CCC1C2)c1ccccc1', 'COc1cccc2c(C[C@H]3CCCN3C)c[nH]c12', 'CCC(C)(C#N)C(=O)NCC(C)c1ccccc1', 'CC1CCCC1(O)Cc1nn(C)c2ccccc12', 'CCCc1ccc(N(C)C(=O)C(C#N)CC)cc1', 'CC1C(C)(C)c2ccccc2C12CN(C)C(=O)N2', 'CN(CC(C)(C)C)C(=O)C(C#N)c1ccccc1', 'CCc1cc(CC(O)Cc2ccccc2)n(C)n1', 'CCn1c(=O)c(C(C)(C)CN)cc2ccccc21', 'CC(C)c1cccc2nc(C3CCNCC3)oc12', 'NC1CC1c1cccc(C(=O)NC2CCCC2)c1', 'Cc1ccc(C(=O)N2CC[C@H]3CNC[C@H]32)c(C)c1', 'C[C@@H]1CNC[C@H]1C(=O)NC1CCc2ccccc21', 'CC(C)CNCC(O)c1cncc2ccccc12', 'CCc1cccc2c(C(=O)CNC)c(C)n(C)c12', 'CNC(COC)Cc1nc2ccccc2cc1C', 'CCC[C@@H]1N[C@@H](CO)Cc2c1[nH]c1ccccc21', 'CC1CN(Cc2cc3ccccc3o2)CC(C)N1', 'Cc1cc(C)c2c(c1)C(NC(C)C1CC1)C(=O)N2', 'COc1ccc(CCNC2CCCC2C#N)cc1', 'C=C(CNC(C)(C)C)COc1ccccc1C#N', 'Cc1ccnc2oc(CCC3CCCCC3)nc12', 'Cc1cccc(C)c1Cn1nc(C)c(CO)c1C', 'CCOc1ccc2c(c1)c1c(n2C)CCC(N)C1', 'CCCOc1ncnc2ccc(C(C)(C)C)cc12', 'CNC(C#N)CCOC1CCCc2ccccc21', 'CC[C@@H](C)[C@@H](CC(=O)[O-])NC(=O)OC(C)(C)C', 'CCNC(c1ccc(C)nc1)c1ccoc1CC', 'CNC(C(=O)c1cn(C)c2ccccc12)C(C)C', 'CCCc1ccc(CNCC2(C#N)COC2)cc1', 'O=C(CNCC1CC1)NC1CCc2ccccc21', 'CC[C@H](NC(=O)[C@@H](NC(C)=O)C(C)C)B(O)O', 'CCc1ccc(N(C)Cc2cc(CN)co2)cc1', 'CCOc1cccc(C(C)(C#N)N2CCCC2)c1', 'CNc1nc(C)c(CCc2cc(C)ccc2C)o1', 'CCNC(C#N)(COc1ccccc1C)C1CC1', 'N#Cc1ccccc1CNCC1CCCC1CO', 'CCCCCN(C)c1[nH]c2ccccc2c1C=O', 'Cc1cc2ccc(=O)n(CCC(C)C)c2nc1C', 'Cc1cc(C(C)Nc2ccc(N)cc2C)c(C)o1', 'Cn1cc(C2(CN)CCCC2)c2c(O)cccc21', 'CCCCn1c(C2CC2)nc2cc(OC)ccc21', 'CCCNC(CCc1cccnc1)c1ccco1', 'CCc1nn(-c2cccc(C)c2)c(C(C)C)c1O', 'Cc1ccc(CCc2noc(N)c2C(C)C)cc1', 'Cc1ccc2cc(C3CCNCCO3)n(C)c2c1', 'CCC(C)Nc1cc(C)nc2cc(OC)ccc12', 'CC1(CNC(=O)c2cccc3c2CCCN3)CC1', 'C#CCN(CCC)C(=O)CCc1ccccc1N', 'CCC[C@@H]1COCCN1Cc1ccccc1C#N', 'CN(C(=O)C=Cc1ccccc1)C1CCCNC1', 'CCCNCc1cnoc1-c1ccc(C)cc1C', 'CCCNC1CCc2c(OC(C)C#N)cccc21', 'CCc1c(C)nn(CC(O)c2ccccc2)c1C', 'CCC1CNCCC1(O)c1cccc2[nH]ccc12', 'COc1ccc(CNCc2ccc(C)n2C)cc1', 'CC(C)(C)OC(=O)N1CC(CN2CC(F)C2)C1', 'Cc1cc(C#CCN)ccc1NC(=O)CC(C)C', 'NCc1ccc2ccn(CC3CCOCC3)c2c1', 'NC(C(=O)NC(C1CC1)C1CC1)c1ccccc1', 'COc1ccc2c3c(n(C)c2c1)CC(C)(C)NC3', 'COc1ccc2c3c([nH]c2c1)CC(C)N(C)CC3', 'O=C(C1CNCc2ccccc21)N1CCCCC1', 'Cc1cc(C#N)ccc1CNCC1(CCO)CC1', 'CC(C)Oc1ccc(C(C#N)NCC2CC2)cc1', 'CCc1noc(N)c1-c1ccc(C(C)(C)C)cc1', 'Cc1ccc(CCC(=O)NC2C3CNCC32)cc1', 'COc1ccc2nc(C)ccc2c1CC(C)CN', 'CN(C)c1ccc(NC(=O)C[C@H]2C=CCC2)cc1', '[C-]#[N+]c1cc(C)c(NC(=O)C(C)CCC)c(C)c1', 'C=CCN(CC)C(=O)c1ccc2c(c1)CNCC2', 'CNCC(=O)c1c(C)n(C)c2c(C)ccc(C)c12', 'CCCc1ccc(C(O)Cn2cc(C)cn2)cc1', 'CCCCC(CC)C(=O)n1cnc2ccccc21', 'CC(=O)N/N=C1\\\\CCCC[C@@H](c2ccccc2)C1', 'C#C[C@H]1CC[C@@H](C#N)N1C(=O)CC1CCCCC1', 'CCc1cccc(C(NN)c2cc(C)oc2C)c1', 'CNCc1ccc2ccn(COCC3CC3)c2c1', 'C#CCN(CC1CC1)c1ccc(C(O)CC)nc1', 'NCC1CCCC1C(=O)N1CCc2ccccc21', 'Cc1cc(C#N)ccc1OCCN1CCCCC1', 'CC(NCC1CCCOC1)c1ccc(C#N)cc1', 'Cc1cccc(N(C)C)c1C1(N=C=O)CCCC1', 'CCN(CC(C)(C)O)c1ccnc2ccccc12', 'Cc1ccc(C#N)cc1OCC(C)CNC1CC1', 'CCc1nc(N)oc1-c1cc(C(C)C)ccc1C', 'C=CCN(C(=O)/C=C/c1ccc(N)cc1)C(C)C', 'Cc1ccc(CCNc2cc(C)c(C)cc2N)o1', 'CCCc1c(CO)cnn1-c1cc(C)cc(C)c1', 'CC1CCC(O)(CNc2ccccc2C#N)CC1', 'CN1C(=O)Cc2c(CC3CCCCN3)cccc21', 'CCCc1ccc(C(NN)c2coc(C)c2)cc1', 'Cc1cc2ccccc2nc1NCCOC(C)C', 'NC(CCc1ccccc1)C(=O)NC1CC=CC1', 'COC1CCCC1NCc1c[nH]c2ccccc12', 'Cc1ccoc1CNc1ccccc1CN(C)C', 'N#CC1=C(N)OC2=C(CCCC2)C12CCCCC2', 'CCC(C)(C)Oc1ncc(CN)c2ccccc12', 'Cc1ccc(C)c(-c2cc(CNC(C)C)no2)c1', 'CC(C(=O)NC(C)c1ccc(C)cc1)=C1CNC1', 'C#C.CO.N#Cc1ccc(N2CCCCC2)cc1', 'CC1(C)CC1NC(=O)c1cccc2c1CCCN2', 'O=C1CCC(CNc2cccc3c2CCCC3)N1', 'CCN(Cc1cccc(C)c1)Cc1ncoc1C', 'CCCCC(=O)Cc1c[nH]c2c1=CC=C(N)CC=2', 'CC(C)c1ccc2c(c1)CC1CNCC1C(=O)N2', 'Cc1ccc(-c2c(CC(C)C)noc2N)cc1C', 'Cc1cc(C#N)ccc1CNCCC1CCOC1', 'Cc1cccc(CC(O)CCc2cnn(C)c2)c1', 'Cc1cc(C)c(C)c(-c2oc(CN)nc2C)c1C', 'Cc1ccccc1C=CC(=O)N1CCNCC1C', 'Cc1ccc(CCC(O)c2nc[nH]c2C)c(C)c1', 'CCCCCC(O)c1cn[nH]c1-c1ccccc1', 'CCc1ccc2c(cnn2C2CCCCO2)c1C', 'O=C(CC1Cc2ccccc21)CN1CCNCC1', 'OCC(Cc1c[nH]c2ccccc12)NC1CCC1', 'CC(C)C(C(=O)Nc1ccccc1C#N)C(C)C', 'CCC(O)(CCc1ccnn1C)c1ccccc1', 'CCCC(C#N)CCC(=O)Nc1cccc(C)c1', 'CCCNc1cc(C)nc2c(COC)cccc12', 'CCNC(COC)Cc1nccc2ccccc12', 'COc1ccc2cc(C3(C(C)(C)N)CC3)[nH]c2c1', 'COc1cccc2c(CC3CCCN3C)c[nH]c12', 'COc1ccc(CCNCc2cccn2C)cc1', 'OC1CCCCCC1Cc1cn2ccccc2n1', 'CC1(C)CCN2C(=O)c3ccccc3NC[C@@H]2C1', 'NCCc1ccc2ccoc2c1N1CCCCC1', 'Cc1ccc(CCCCC(=O)N(C)CC#N)cc1', 'O=C(CC1CNC1)N1CCCc2ccccc2C1', 'COc1ccc2c(c1)[C@H](C/C=N/CC(C)C)C=N2', 'CC(C)Oc1ccc2c(C(C)(C)C)ncnc2c1', 'CCNCC(N)c1ccc2cc(OC)ccc2c1', 'CC(C)CN1C(=O)C2(CCNC2)c2ccccc21', 'Cc1cccc2nc(C3(C(C)C)CCNC3)oc12', 'Cc1nc2c(cc1C=O)CCC1(CCCC1)N2C', 'Cc1cccc(CN2CC[C@@]3(CCNC3)C2=O)c1', 'CCC(C)(CN)OCc1ccc2ncccc2c1', 'CCOCc1ccccc1NCc1ccn(C)c1', 'Cc1cc(C)c2oc(C3CCNCC3)nc2c1C', 'CN1C(=O)CCC12N(C)c1ccccc1C2(C)C', 'CCCOCCC(N)c1cccc2ncccc12', 'CCCCCN(C(C)=O)[C@H](C#N)c1ccccc1', 'CCCCc1c(C)[nH]n(-c2ccc(C)cc2)c1=O', 'Cc1ccc(OCC(C)NCc2ccc[nH]2)cc1', 'CC(=O)C(Cc1nn(C)c2ccccc12)C(C)C', 'Cc1ccc([C@@H](NC(=O)NC2CC2)C2CC2)cc1', 'CCC1CN(CC#N)c2cc(C(C)C)ccc2O1', 'CNC1(C#N)CCC(Oc2ccc(C)cc2C)C1', 'CC(CCl)CC1CCOC2(CCCCC2)C1', 'CC(C)(C)CCOc1ccnc2c(N)cccc12', 'O=C(Cc1cccnc1)C1CC2CCCCC2N1', 'CCCCCCC(CC(C)C)(C(=O)[O-])[N+](=O)[O-]', 'Cc1ccc(NC(=O)N2CC23CCCCC3)cc1', 'CCOC1CC(NC(C)c2cccc(C#N)c2)C1', 'CCOc1ccc2c(c1)C=CC1(CCNCC1)N2', 'CN1C(=O)[C@H](Cc2ccccc2)NC12CCCC2', 'CC(C)c1ccc2onc(C3CCNCC3)c2c1', 'CCCC(O)CNCc1ccc2ccccc2n1', 'CC(=O)n1cc([C@H](N)C(C)(C)C)c2ccccc21', 'O=C(CN1CCc2ccccc2C1)C1CCCN1', 'CC(C)c1ccccc1OCCc1nccn1C', 'Cc1[nH]c2ccccc2c1C(=O)C(CN)C(C)C', 'O=C(NC1CCc2ccccc2C1)C1CCCN1', 'CCCn1ccnc1CC(O)c1cccc(C)c1', 'COc1ccc(C2(C)CC(N)=CC=C2CN)cc1', 'CCCn1ccnc1CCC(O)c1ccccc1', 'CC(=O)c1c(NCC(C)(C)C)[nH]c2ccccc12', 'Cc1ccc2oc(C3(N)CCC(C)CC3)nc2c1', 'Cc1ccc(C2(NC(=O)C3CCCN3)CC2)cc1', 'CC.Cc1cccc(N)c1Oc1ccc(N)cc1', 'CCC(C#N)C(=O)Nc1ccccc1C(C)(C)C', 'CC(C)(C)NC[C@H](O)c1nccc2ccccc12', 'COC1=NN=C(c2ccccc2)CC1C(C)(C)C', 'CC(C)(C)c1cc2cc[nH]c2nc1CC1COC1', 'CCC[C@H](C)Cc1nc(-c2ccc(C)cc2)no1', 'Cn1ccnc1CCC(O)CCc1ccccc1', 'CC(C)(C)OC(=O)N1CC(NC2CCC2F)C1', 'CN(CCNCc1ccccc1)Cc1ccoc1', 'CCC(C)(C)c1c(O)cc(NN)c2ccccc12', 'CCn1nccc1C(O)C(C)(C)c1ccccc1', 'CNCc1coc(CN(C)c2ccccc2C)c1', 'CC(=O)NCC=Cc1ccccc1N1CCCC1', 'CCc1c(CO)cnn1-c1ccc(C(C)C)cc1', 'CN1C(=O)Cc2cccc(C3(CN)CCCC3)c21', 'CCNC(Cc1ncccc1C)c1coc(C)c1', 'CC(N)Cc1ccccc1N(C)Cc1ccco1', 'CCCCc1c(-c2ccc(C)cc2)n(C)[nH]c1=O', 'CON=C1CCc2c1cccc2N1CCCCC1', 'Cc1ccc(C#N)cc1CCCNC(=O)C(C)C', 'CC(C)C(=O)NCC#Cc1ccccc1N(C)C', 'Cc1cc(OCCC2CCCN2C)ccc1C#N', 'Cc1cccc2c1OCC/C2=N\\\\N1CCCCC1', 'Cc1ccc2c(c1C)OCCCC2(C#N)N(C)C', 'CCNC(=O)N1CCC(=Cc2ccccc2)CC1', 'CC(C)(C)OC(=O)N[C@H]1C[C@H]2CC[C@H](N2)[C@@H]1F', 'O=C(N/C=C/C1CCCC1)NCc1ccccc1', 'CCc1cc(C(NC)C2(C#N)CC2)ccc1OC', 'C=CCNc1ccccc1C(=O)N1CCC[C@@H]1C', 'CCCn1cncc1C(O)c1cccc(C)c1C', 'CNc1ccc(CNCCc2ccc(C)o2)cc1', 'C=C(CC)CC(NN)c1cc2cc(C)ccc2o1', 'CCCC(CCc1ccccc1)C(=O)C(C)=[N+]=[N-]', 'Cc1cc(C)c2c(c1)C(C#N)(N(C)C)CCCO2', 'CN(Cc1ccc2ccccc2n1)C(C)(C)CO', 'CC(Cc1nnc(C(C)(C)C)o1)c1ccccc1', 'CC(C)(C)C(=O)[C@H](N)Cc1c[nH]c2ccccc12', 'Cc1ccc(-c2nc(CCO)n(C)c2C)cc1C', 'CC(C)[C@@H](CO)NCc1cccc2cccnc12', 'CC(C)=CCNC(=O)c1ccc2c(c1)CNCC2', 'C=CCNCCC(=O)N1CCc2ccccc2C1', 'Cc1cc(CO)cc2cnn(CC3CCCC3)c12', 'Cc1cccc2[nH]c(CCC3CCCCO3)nc12', 'CCc1nn(C)cc1C(O)c1ccc(C)cc1C', 'CC[C@@H](N)c1ccccc1N(C)Cc1ccoc1', 'O=C(CC1CC2CCC(C1)N2)Nc1ccccc1', 'Cc1cccc2c(=O)[nH]c(CCCN(C)C)cc12', 'CN1CCNCC1C(=O)c1ccc2c(c1)CCC2', 'CC(C)c1ccc2oc(C3CCNCC3)nc2c1', 'Cc1ccc(C)n1NCCCOc1ccccc1', 'COc1ccc2ccccc2c1CNCC(C)N', 'COc1cccc(C#N)c1NC1CCCC1(C)C', 'CCc1c(C)nn(-c2ccc([C@@H](C)O)cc2)c1C', 'c1cc2c(cc1CN1CC3CNCC3C1)CCO2', 'CCCCCCC(=O)Nc1cc(C#N)ccc1C', 'COc1ccccc1C(C#N)CC1CCNCC1', 'CNC(c1ccc2c(c1)C(C)(C)C(=O)N2)C1CC1', 'CC(C(=O)N[C@H](C)c1cccc(C)c1)=C1CNC1', 'C=C1c2ccc(CN)cc2CN1C(C)CCC=O', 'CNCCCc1ncc(-c2cc(C)ccc2C)o1', 'COC1=CC2=C(C=C1)NC(=O)C(=C2)C3CC(=O)OC4=C3C5=C(C=C4)C(=O)C(=CO5)C6=CC=CC=C6F', 'O=C1C(/C=N/CCc2ccccc2)C(=O)N(CCc2cccs2)SN1CCc1cccs1', 'C/N=C(/NCCC(=O)Nc1ccc(C)cn1)NCc1ccc(OC)cc1.I', 'COc1ccccc1NC(=O)N(Cc1cccc(Cl)c1)C[C@@H]1CC(c2ccccc2Cl)=NO1', 'Cc1nn(-c2cc(Oc3ccc(NS(=O)(=O)Cc4cccc(Cl)c4)cc3)ncn2)c(C)c1C', 'Cc1ccc(Nc2nc(Nc3cccc([N+](=O)[O-])c3)nc(SC(=S)N3CCOCC3)n2)cc1', 'Cc1nnc(SCC(=O)Nc2cc(S(=O)(=O)N3CCCCCC3)ccc2Cl)n1C1CC1', 'Cc1ccccc1/N=C/c1ccccc1[O-].Cc1ccccc1/N=C/c1ccccc1[O-].[Cu+2]', 'NCc1cccc(CC2CC23[C@@H]2CC[C@H]3[C@@H](C(=O)Nc3ccc(Br)nc3)[C@@H]2C(=O)O)c1', 'Cc1cc(OCc2nnc(C3(C)C=C(NC(=O)COc4ccc(Cl)c(F)c4)C3)o2)cnc1C#N', 'COc1ccccc1-c1cc(C(F)(F)F)nc(S(=O)(=O)CCCC(=O)NCc2ccco2)n1', 'COc1cc(OC)c(NS(=O)(=O)c2cc(C(=O)OCC(=O)C(C)(C)C)ccc2C)cc1Cl', 'Cc1cc(C(=O)N2CCC(C(=O)NCc3ccco3)CC2)c(C)n1-c1cccc(Br)c1', 'COc1ccc(S[C@H]2O[C@H](CO)[C@H](O)[C@H](n3cc(-c4cc(F)c(F)c(F)c4)nn3)[C@H]2O)cc1', 'O=C(NC1CC1)Oc1cc(=O)c2nc(-c3cc(Cl)c4ncccc4c3)c(-c3ccccc3)nc2[nH]1', 'C[C@H](NC(=O)[C@H](C)[C@@H](O)C(=O)N1CCc2c([nH]c3ccccc23)C1)c1ccc(Br)cc1', 'COc1cc(-c2nnc(SCc3cc(=O)oc4cc(NC(C)=O)ccc34)o2)cc(OC)c1OC', 'Cc1ccc(NS(=O)(=O)c2ccc(C(=O)OCC(=O)Nc3ccc(C)c([N+](=O)[O-])c3)cc2)cc1', 'CC(C)c1ccc(S(=O)(=O)N2CCN([C@H](C)C(=O)Nc3cc(Cl)ccc3Cl)CC2)cc1', 'Cc1ccc(NC(=O)COC(=O)CCn2c(C)csc2=O)cc1S(=O)(=O)N1CCOCC1', 'CCC(=O)NCCOc1cccc2ncnc(Nc3ccc(OCc4cscn4)c(Cl)c3)c12', 'NCCCCCCCC[C@@H]1C(=O)Nc2ccccc2N1S(=O)(=O)c1ccc(Cl)c(Cl)c1', 'CN(C)C1(CNC(=O)c2ccc(NS(=O)(=O)c3ccc(Cl)c(Cl)c3)cc2)CCCCC1', 'O=C(Nc1cccc(C(=O)N2CCCC2C(=O)NC2CCCC2)c1)c1ccc(Br)cc1', 'O=S(=O)(c1ccc(F)c(Cl)c1)N1CCOC2CCC(COCc3ccc(F)cc3)C=C2C1', 'COc1ccc2cc(C3CC(=O)Oc4ccc5c(=O)c(-c6ccccc6F)coc5c43)c(=O)[nH]c2c1', 'O=C(COc1ccc(C(=O)c2ccc(Cl)cc2)cc1)NCC(O)COc1ccc2c(c1)OCO2', 'Cc1ccc(C(=O)NCC(F)(F)F)cc1NC(=O)c1ccc2c(c1)S(=O)(=O)N(C(C)C)C2=O', 'COc1ccccc1NS(=O)(=O)c1cccc(C(=O)NNC(=O)[C@@H]2COc3ccccc3O2)c1', 'CS(=O)(=O)c1ccc(C(=O)NNC(=O)C2CC(=O)N(Cc3cccc(C(F)(F)F)c3)C2)cc1', 'CN1C(=O)C[C@@](C)(c2cccc(Nc3c([N+](=O)[O-])ccc(F)c3C(F)F)c2F)N=C1NC(=O)O', 'CC1CCC2(CC1)NC(=O)N(NC(=O)CNC(=O)CNC(=O)c1ccc(Cl)cc1Cl)C2=O', 'C[C@@]1(c2cc(NC(=O)c3ncc(C#N)cc3C(F)(F)F)ccc2F)C=C(CC(F)F)OC(N)=N1', 'CC(=NNC(=O)C(=O)Nc1ccc(C)c(C)c1)c1ccc(OCc2ccc(Cl)cc2Cl)cc1', 'CCOc1cccc(C2C=C(c3ccc(C)cc3)NC(c3ccc(F)c(Br)c3)[NH2+]2)c1O', '[H]/N=C(/C1=C([NH2+]C(=O)c2c(Cl)cccc2C(F)(F)F)CCCC1F)c1ccc(C(=O)OC)cc1', 'C[C@H](C(=O)NCc1cccc(CN2CCCC2)c1)N(c1ccc(Cl)c(Cl)c1)S(C)(=O)=O', 'O=C(NCCC(=O)N1CCN(C(=O)c2ccc(Cl)cc2Cl)CC1)c1ccc2ccccc2c1', 'Cc1cc(NC(=O)CSc2nnc(N3CCN(C(=O)c4c[nH]c5ccccc45)CC3)s2)no1', 'O=C1c2ccccc2N[C@@]2(C(=O)N(Cc3ccccc3F)c3ccccc32)N1c1ccc(Cl)cc1', 'O=C(c1ccccc1F)c1sc2cc(O)ccc2c1Oc1ccc(CN2CC(C(F)F)C2)cc1', 'Cc1ccc(S(=O)(=O)N2CCCCC2)cc1NC(=O)CNC(C)c1ccc(Cl)c(Cl)c1', 'O=C(Cc1nc2ccccc2n1CC(O)COc1ccc(Cl)cc1Cl)NCc1ccccc1', 'Cc1nc2ccc(Nc3nc(=O)c(C(=O)NCCCO)cn3Cc3ccc(Cl)cc3)cc2s1', 'Cc1cc(C)c2sc(N(Cc3ccccn3)C(=O)CCS(=O)(=O)c3ccc(F)cc3)nc2c1', 'COc1cc(C(=O)OCC(=O)c2ccc(S(=O)(=O)N3CCCCC3)cc2)ccc1OC(F)F', 'NC(CCC(=O)NC(CS)C(=O)NCC(=O)O)C(=O)O.O=C1O[C@H]([C@@H](O)CO)C(O)=C1O', 'CCn1c(SCCCN2C[C@H]3CC3(c3ccc(Br)cc3)C2)nnc1-c1cccnc1', 'CCOC(=O)C1=C(C)NC2=C(C(=O)c3ccccc32)[C@@H]1c1cc(Cl)c(OCC(=O)O)c(OC)c1', 'CC(C)N1CN(C2c3cc(Cl)ccc3CCc3ccc(Cl)cc32)n2ccc(=O)c(O)c2C1=O', 'O=C(NCCc1nc2ccccc2n1C[C@H](O)COc1ccc(Cl)cc1Cl)c1ccccc1', 'COc1ccc(NS(=O)(=O)c2ccc(C(=O)NCCS(=O)(=O)N3CCOCC3)cc2)cc1', 'CN(C)S(=O)(=O)c1ccc(OCCNC(=O)[C@@H]2CN(S(C)(=O)=O)c3ccccc3O2)cc1', 'CCOc1cc(CNCc2cccnc2)c(Br)cc1OCC(=O)Nc1ccc(C)cc1', 'Cc1ncc2c(NC3c4ccc(Cl)c(Cl)c4C(C)(C)CCC3(O)C(F)(F)F)cccc2n1', 'Cc1c(OP(=O)(O)O)ccc(O)c1CNc1ncnc2c1ncn2[C@@H]1O[C@H](CO)[C@@H](O)[C@H]1O', 'CCSc1nc2n(n1)C(c1ccc3c(c1)OCCO3)C(C(=O)Nc1ccc(Cl)cc1)=C(C)N2', 'O=C(C(O)c1noc2ccccc12)N1CC2=C(C1)CN(S(=O)(=O)c1ccc3c(c1)OCCO3)C2', 'CC1(N2Cc3ccc(C(=O)NC(=O)c4ccc(S(C)(=O)=O)cc4)cc3C2=O)CCC(=O)NC1=O', 'CCN/C(=N\\\\Cc1coc(-c2ccccc2)n1)NC1CCC(=O)N(C)C1.I', 'COc1ccc(CCNS(=O)(=O)c2cccc(C=Cc3noc(C(F)(F)F)n3)c2)cc1OC', 'C/N=C(\\\\NCc1ccnc(N(C)C)c1)NCC1COc2ccccc2O1.I', 'COc1ccc(-n2nnnc2C(N=S(C)(=O)c2ccc(OC)cc2)c2ccc(Cl)cc2)cc1', 'O=C(O)OC1=C(SCCCc2ccc(F)cc2)N(Cc2ccc(OC(F)(F)F)cc2)CC=C1', 'Cn1cc(CN2CC3c4cc(-c5ccco5)ccc4S(=O)(=O)C3C2)cn1.O=C(O)C(F)(F)F', 'COc1ccc(C=Nn2c(C3CCCCC3)nc3ccc(Br)cc3c2=O)c(OC)c1C', 'O=C(NC(Cc1c[nH]c2ccccc12)C(=O)Nc1ccc(OC(F)F)cc1)c1ccccc1Cl', 'CC1(C)[C@H]2C[C@H](NS(=O)(=O)c3ccc(Br)cc3)[C@@H](C/C=C\\\\CCCC(=O)O)[C@@H]1C2', 'CCOC(=O)C1=C(CSc2nnc(-c3ccc(C)cc3)n2-c2ccc(Cl)cc2)NC(=O)NC1', 'O=C(O)c1ccccc1C(=O)N1Cc2[nH]cnc2C[C@H]1c1nc(-c2ccc(C(F)(F)F)cc2)no1', 'Cc1nn(Cc2ccc(Cl)cc2Cl)c(C)c1NC(=O)c1nc2n(n1)[C@@H](C(F)F)C[C@@H](C)N2', 'Cc1ccc(N2C[C@H](C(=O)NNc3ccc(OCc4ccc(Cl)c(Cl)c4)cc3)CC2=O)cc1', 'C/N=C(/NCCc1cccc(C(=O)NC)c1)NCc1cccc(OC)n1.I', 'CCOC(=O)CCn1/c(=N/C(=O)/C=C/c2ccc([N+](=O)[O-])cc2)sc2cc3c(cc21)OCCO3', 'COc1cccc2c(NC(=O)Oc3ccc(N(CCCl)CCCl)cc3)c3ccccc3nc12', 'CCN/C(=N\\\\CC(C)Oc1ccccc1Cl)NCCCCOCC.I', 'C/C(=N\\\\NC(=O)C(=O)Nc1cc(C)ccc1C)c1ccc(OCc2c(Cl)cccc2Cl)cc1', 'C/N=C(/NCc1ccn(C2CCCC2)n1)NC(C)CCS(C)(=O)=O.I', 'CC(=O)NCc1ccsc1-c1csc(N)n1.CC1CCCC(=O)O1.O=C(O)/C=C/C(=O)O', 'COc1ccc(OC)c(S(=O)(=O)N2CCN(S(=O)(=O)c3ccc(NC(C)=O)cc3)CC2)c1', 'CCCc1ccc(OCc2ccc(C(=O)Nc3nn(Cc4ccccc4Cl)cc3Cl)o2)cc1', 'CS(=O)(=O)N(CC(=O)NCc1ccccc1CN1CCCCC1)c1cccc(Cl)c1Cl', 'C=CCN(c1ccccc1)S(=O)(=O)c1cccc(C(=O)Oc2ccc3oc4ccccc4c3c2)c1', 'Cc1ncoc1C(=O)Nc1ccc2c(c1)S(O)(O)N(c1ccc(C(F)(F)F)cc1)CCCO2', 'CCC1(C)Cc2c(sc3c2c2ncnn2c2nnc(SCC(=O)NCc4ccco4)n32)CO1', 'CNC(=O)C1CN(C(=O)Nc2cccc(Cl)c2F)CCN1c1ccc(C#N)c(C(F)(F)F)c1', 'CCN(S)C(=O)Nc1ccc2ncc(-c3cnn(Cc4cccc(S(C)(=O)=O)c4)c3)nc2n1', 'Cc1ccc(N2C[C@@H](C(=O)NNc3cccc(OCc4ccc(Cl)cc4Cl)c3)CC2=O)cc1', 'N#Cc1ccnc(C2(O)CCC(OCc3c(-c4c(Cl)cccc4Cl)noc3C3CC3)CC2)c1', 'CCCCN/C(=N\\\\Cc1ccc([N+](=O)[O-])cc1)NCCc1ccccn1.I', 'O=c1c2ccccc2sc2nc3ccc(-c4nc(-c5ccccc5)nc(-c5ccccc5)n4)cc3n12', 'C[C@@H]1CN(C(=O)c2ccc3c4ccc(Br)c(C(N)=O)c4n(CC4CC4)c3c2)C[C@H](C)O1', 'C/N=C(/NCc1ccc(N2CCCCC2=O)cc1)N(C)Cc1ccon1.I', 'COc1c(Cl)cc(C(=O)Nc2ccc(N3CCN(C(=O)c4ccccc4)CC3)cc2)cc1Cl', 'CN(C)CCCN1C(=S)N[C@@H](c2ccccn2)[C@@H]1c1cccn1-c1cccc(Br)c1', 'O=C(NCCc1c[nH]c2ccc(Cl)cc12)c1cc2nc(-c3ccccc3)cc(C(F)(F)F)n2n1', 'CN1N=CCC1[C@H]1C[C@H](O)CC[C@@H]1Oc1cc(F)c(S(=O)(=O)Nc2ccncn2)cc1Cl', 'CN1C[C@@H](C2Cc3cc(Cl)ccc3CCc3ccc(Cl)cc3C2)n2ncc(=O)c(O)c2C1=O', 'COc1ccc(-c2nnc(SCc3nnc(-c4ccccc4Cl)o3)n2C[C@H]2CCCO2)cc1', 'COc1ccc(S(=O)(=O)N2CCCO[C@H]2CNC(=O)C(=O)NCc2cccs2)cc1OC', 'O=C(O)NC12CC3CC(C1)C(Nc1c(C(=O)C4CC4)cnc4ccc(Br)cc14)C(C3)C2', 'COc1cc(Nc2ncc(C(=O)Nc3c(C)cccc3Cl)s2)ccc1OCCn1ccnc1', 'Clc1cccc2c1oc1ccc3ccc(-c4nc(-c5ccccc5)nc(-c5ccccc5)n4)cc3c12', 'Clc1ccc(-c2nc(-c3ccccc3)nc(-c3ccc4oc5cc6ccccc6cc5c4c3)n2)cc1', 'CC(C)N1C[C@H](C2c3ccc(Cl)cc3CCc3cc(Cl)ccc32)n2ncc(=O)c(O)c2C1=O', 'COc1ccc(C(=O)COC(=O)c2ccccc2SCC(=O)Nc2ccc(F)cc2)c(OC)c1', 'CC(=O)NCC1CC[C@]2(CS(=O)(=O)c3ccc(Cl)cc3)c3c(F)ccc(F)c3OCC2C1', 'CCn1c(SC(C)C(=O)Nc2c(C)cc(C)cc2C)nc2scc(-c3cccs3)c2c1=O', 'Cc1ccc(N2C[C@@H](C(=O)N3CCC(C(=O)Nc4ccc(Br)cc4)CC3)CC2=O)cc1', 'CC1CN2c3c(F)cc(-c4noc(C(F)(F)F)n4)cc3CC3(C(=O)NC(=O)NC3=O)[C@H]2[C@H](C)O1', 'C=CCOc1cc(CNCC2CCNC2)cc(CNS(=O)(=O)c2ccc(Cl)cc2Cl)c1', 'COc1ccc(NS(=O)(=O)c2cc(CN3C(=O)c4cccnc4C3=O)ccc2OC)cc1OC', 'COC(=O)c1cc(-c2ccc(Br)cc2)c2c(OC3CCC3)nn(C3CCCCC3)c2n1', 'COc1ccc(C2/C(=C(\\\\O)c3cc(F)ccc3OC)C(=O)C(=O)N2Cc2cccs2)cc1OC', 'Clc1cc2nc(CNc3cc(N4CCOCC4)nn4c(-c5cn[nH]c5)cnc34)[nH]c2cc1Cl', 'CCOC(=O)C/C=C(\\\\O[P+]([O-])(Oc1ccccc1)Oc1ccccc1)c1ccc([N+](=O)[O-])cc1', 'CNS(=O)(=O)c1cccc(C(=O)OC(C(=O)Nc2ccc(C)cc2[N+](=O)[O-])c2ccccc2)c1', 'Clc1cccc2c1oc1cc(-c3nc(-c4ccccc4)nc(-c4ccccc4)n3)c3ccccc3c12', 'CCC=C(NOCc1ccc(NC(=O)NC(=O)c2ccccc2Cl)cc1Cl)c1ccccc1', 'COc1cc(-c2c(C#N)c(N)[nH]c(=O)c2C#N)ccc1OCC(=O)Nc1cccc(C(F)(F)F)c1', 'N#Cc1cc(OC(F)(F)F)cc(-c2nc(-c3ccc4[nH]c5c(c4c3)CCNC5CC(=O)O)no2)c1', 'CCOc1cc([N+](=O)[O-])cc(/C=C2\\\\SC(=O)N(CC(=O)N3CCc4ccccc4C3)C2=O)c1O', 'Cc1ccc(NC(=O)c2ccc(Cl)cc2)cc1Nc1cc(C(F)(F)F)nc(-c2ccncc2)n1', 'COc1ccc(/C=C/C(=O)N(C)Cc2c(Br)cnn2C)cc1COc1ccccc1C', 'CN1C(=O)CC[C@H](N2C(=O)c3ccc(CNC(=O)c4ccc(S(C)(=O)=O)cc4)cc3C2=O)C1=O', 'NC1=N[C@@]2(CC(c3ccccc3)Oc3ccc(CC(=O)c4ccc(Cl)cn4)cc32)C(F)(F)CO1', 'Cc1cc(C(F)(F)F)cn2c(C)c(Cc3c(Cl)ccc(C(=O)N4CCC(C)C4)c3Cl)nc12', 'CC(C)N1CCCC(CNC(=O)c2ccc(Cl)c(S(=O)(=O)Nc3ccc(Cl)cc3)c2)C1', 'C/N=C(\\\\NCCc1ccccn1)NCC(=O)NCc1ccc(OC)cc1.I', 'O=C(COc1ccc(Cl)cc1)Nc1ccc(N2CCN(C(=O)c3ccc(Cl)cc3)CC2)cc1', 'CCN/C(=N\\\\Cc1ccc2c(c1)OCO2)N1CCC(c2cnn(C)c2)C1.I', 'C[C@@H]1C[C@@H](O)c2ncnc(N3CCn4c(nnc4C(N)c4ccc(Cl)cc4)C3)c21.Cl.Cl', 'CCNC(=O)COc1cccc(C/N=C(\\\\N)NCCc2ccccn2)c1.I', 'CCOc1cc(CNCc2ccccn2)c(Br)cc1OCC(=O)Nc1ccc(C)cc1', 'C=C(C)SN(c1cccc(C)n1)C1CCN(S(=O)(=O)c2ccc3c(c2)OC(F)(F)O3)CC1', 'CCN(CC)S(=O)(=O)c1ccc(Cl)c(C(=O)O[C@@H](C)C(=O)c2ccc(OC)cc2OC)c1', 'NC(N)=NCCCC(=O)C[P+](c1ccccc1)(c1ccccc1)c1ccccc1.[Br-]', 'O=C(CSc1nc2ccccc2s1)NN=Cc1ccccc1OCc1cccc2ccccc12', 'CC(C)(O)[C@H](OS1(Cl)C(NC(=O)c2cccnc2)=NN=C1c1ccncc1)c1ccccc1', 'C/C(=N\\\\NC(=O)C(=O)Nc1ccc(C)cc1C)c1ccc(OCc2ccc(Cl)cc2Cl)cc1', 'C[C@@H](C(=O)N1CCN(S(=O)(=O)c2ccccc2C(F)(F)F)CC1)n1c(=O)oc2ccccc21', 'C/N=C(\\\\NCc1cnn(-c2ccccc2)c1)N1CCC(C(=O)OC)CC1.I', 'CCC(=Cc1sc2ccc([N+](=O)[O-])cc2[n+]1CC)C=C1Sc2ccc([N+](=O)[O-])cc2N1CC', 'COc1c(CNc2ncnc3nc[nH]c23)cccc1OC1O[C@H](COP(=O)(O)O)[C@@H](O)[C@H]1O', 'Cc1nc(-c2cc3c(cc2F)N2CC(C(F)(F)F)OC(C)[C@@H]2C2(C3)C(=O)NC(=O)NC2=O)no1', 'CNC1c2ccccc2N(C(=O)c2ccc(NC(=O)c3ccccc3Cl)cc2Cl)CCC1O', 'C[C@@H](C(=O)NCc1ccc(CN2CCCC2)cc1)N(c1cc(Cl)cc(Cl)c1)S(C)(=O)=O', 'CCC1CN(C(=O)c2ccc(Cl)c(Cc3nc4c(C)cc(C(F)(F)F)cc4n3C)c2Cl)C1', 'CCc1ccccc1NC(=O)CC(=O)NN=Cc1cc(Cl)ccc1OCc1ccccc1Cl', 'O=C1CN(C(=O)CSc2nnc(-c3ccc(Cl)cc3)n2C[C@@H]2CCCO2)c2ccccc2N1', 'O=C(c1ccccc1)N(C(=O)c1ccccc1)c1cccc(C=Cc2ccccc2)c1S(=O)(=O)O', 'CCCN(Cc1nnc(-c2cccs2)o1)C(=O)COC(=O)COc1ccc2ccc(=O)oc2c1', 'COc1ccc(N2C(=O)C(=O)/C(=C(\\\\O)c3cc(F)ccc3OC)C2c2sccc2C)cc1OC', 'CCOc1cc(OCC)c(/C=C(/C#N)C(=O)N2CCN(c3ccccc3)CC2)cc1Br', 'NCc1cccc(-c2cc3cn[nH]c3cc2-n2nc(C(F)(F)F)cc2-c2nc(C(N)=O)cs2)c1', 'CCOc1ccc(CCNC(=O)COC(=O)c2cc(S(C)(=O)=O)ccc2Cl)cc1OCC', 'Cc1ccc(CS(=O)(=O)Nc2nc(=O)n3c(C)c(C)sc(SCCCCCF)c2-3)cc1', 'O=c1[nH]c(NC(CO)c2ccccc2)nc2c1ncn2[C@@H]1O[C@H](COP(=O)(O)O)[C@@H](O)[C@H]1O', 'O=C1C=CC(=O)C(c2ccc(CN3CCOCC3)c(NS(=O)(=O)c3ccc([N+](=O)[O-])cc3)c2)=C1', 'O=C(Nc1ccc(Cl)cc1Cl)N[C@@H](Cc1ccccc1)N1C(=O)[C@@H]2[C@H](C1=O)[C@H]1C=C[C@H]2CC1', 'Cc1cccc2c1N(C1CCN(S(=O)(=O)c3ccc(C(F)(F)F)cc3N=O)CC1)C(=O)OC2', 'CCCCCCCn1c(=O)c(C(=O)N/N=C/c2cccc(Br)c2)c(O)c2ccccc21', 'CCN(CC)Cc1ccc(CNC(=O)c2cc(S(=O)(=O)NC3CC3)c(Cl)cc2Cl)cc1', 'O=c1nc(Nc2ccc(Oc3cccc(F)n3)cc2)n(Cc2ccc(Cl)cc2)c(=O)n1CCO', 'CCNC(=O)C(C)N(Cc1ccc(Cl)cc1Cl)C(=O)CN1C(=O)c2cccc3cccc1c23', 'O=C(Nc1ccc(Oc2ccccc2F)cc1)n1cc(-c2ccccc2)c(-c2ccc(Cl)cc2)n1', 'Cl.Cl.Cl.Sc1ccc(NCCCCNCCCCNc2ccc(S)cc2)cc1', 'C/N=C(/NCCOc1cccc(NC(C)=O)c1)NCCc1ccccn1.I', 'C[C@H](C(=O)Nc1cccc(N(C)S(C)(=O)=O)c1)N(c1ccc2c(c1)OCCO2)S(C)(=O)=O', 'Cc1cc2c(cc1Br)Oc1ccc(-c3ncc([C@H](C)NC(=O)OC(C)(C)C)[nH]3)cc1C2', 'Cc1ccc(COc2cccc(-c3nn(-c4ccccc4)cc3C=C3SC(=S)NC3=O)c2)cc1', 'Cn1c(SCC(=O)NCc2ccc3c(c2)OCCCO3)nnc1-c1cc2cc(Cl)ccc2[nH]1', 'COc1cccc(N2C(=O)C(=O)/C(=C(/O)c3cc(OC)c(Cl)cc3OC)C2c2ccc(C)o2)c1', 'Cc1ccc(S(=O)(=O)NCCNC(=O)[C@@H]2CCCN(Cc3c(Cl)cccc3Cl)C2)cc1', 'CC(C)[C@@H]1[C@@H]2C=CC=C[C@]2(Cc2ccccc2)C(=O)N1c1ccccc1.[C-]#[O+].[C-]#[O+].[C-]#[O+].[Fe]', 'Cc1ccc([N+](=O)[O-])cc1S(=O)(=O)N1CCN(C(=O)/C=C/c2ccc(C(F)(F)F)cc2)CC1', 'CC(C)[C@@H](C(=O)N1CCN(Cc2ccc(Br)cc2)CC1)N1C(=O)c2ccccc2C1=O', 'CC(NS(=O)(=O)CCCOCn1ccc(=O)[nH]c1=O)c1cccc(OC(F)(F)C(F)F)c1', 'CN(C(=O)CNC(=O)C(N)Cc1ccccc1)c1ccc(Cl)cc1C(=O)c1ccccc1Cl', 'CC(=O)Nc1ccc2c(c1)c(-c1ccccc1[N+](=O)[O-])[n+](C)c1ccccc21.COS(=O)(=O)[O-]', 'C[C@@H](OC(=O)c1ccc(S(=O)(=O)N(C)c2ccccc2)cc1)C(=O)Nc1cccc([N+](=O)[O-])c1', 'Cc1ccc(S(=O)(=O)N2C[C@@H]3[C@@H](c4ccc(Cl)cc4)SCC[C@H]3c3cc(C)ccc32)cc1', 'COc1cccc(C2/C(=C(\\\\O)c3cc(Cl)c(OC)cc3OC)C(=O)C(=O)N2Cc2ccco2)c1', 'CCOC(=O)CN1C(=O)N(c2cc(Cl)cc(Cl)c2)C2=CCCCC21Cc1ccc(C#N)cc1', 'CCOc1ccc2nc(SCC(=O)N(Cc3nnc(-c4ccccc4Cl)o3)C3CC3)[nH]c2c1', 'COc1c/c(=N\\\\c2nccc(-c3ccn([C@H](CO)c4ccc(Cl)c(F)c4)c(=O)c3)n2)ccn1O', 'O=C(Nc1cccc(OCc2ccccn2)c1)C1CCCN(C(=O)c2ccc(Cl)c(Cl)c2)C1', 'O=C(O)C1CCC(Oc2ccc(-c3cc(F)c(-c4nc5ccc(Cl)cc5[nH]4)c(F)c3)cn2)CC1', 'CCCN1CC(C2c3cccc(Cl)c3CCc3c(Cl)cccc32)n2ncc(=O)c(O)c2C1=O', 'COc1ccc(N2C(=O)CCS2(=O)=O)cc1S(=O)(=O)NCC(c1ccco1)N1CCCC1', 'Cc1nc(N)c2ncc(-c3cc(C(O)(C(F)F)C(F)F)ccc3C)n2n1.O=C(O)C(F)(F)F', 'O=C(CSc1nc2ccc(NC(=O)c3cccc4ccccc34)cc2s1)NCc1ccccc1', 'CC(C)NS(=O)(=O)c1ccc(C(=O)OC(C)c2nc(-c3cccc(C(F)(F)F)c3)no2)cc1', 'C/N=C(/NCC(=O)N1CCN(c2ccccc2)CC1)NCc1ccco1.I', 'C=C1CS[C@@H]2C(NC(=O)COc3ccccc3)C(=O)N2C1C(=O)OCc1ccc([N+](=O)[O-])cc1', 'CCc1nc2c(OCc3ccc(Cl)cc3Cl)cccn2c1N(C)C(=O)COc1ccccc1', 'Clc1ccc2ccc3oc4cc(-c5nc(-c6ccccc6)nc(-c6ccccc6)n5)ccc4c3c2c1', 'Cc1ccccc1C(C/C(=N/O)c1ccc(=O)n(CC(N)=O)c1)C1=CCC(C)(Br)C=C1', 'Cc1ccc(NS(=O)(=O)c2ccc(Cl)c(C(=O)NCC3CCN(C(C)C)C3)c2)cc1Cl', 'COc1cccc(CN2C(=O)C(=O)/C(=C(/O)c3cc(OC)c(Cl)cc3OC)C2c2ccco2)c1', 'N#Cc1cc(COc2cc3n(c(=O)n2)CC24CO[C@@H]2CN34)ccc1Oc1ccnc(C(F)(F)F)c1', 'CCC(C)OP(=O)(O)C(F)(F)c1ccc(CNS(=O)(=O)c2ccc3ccccc3c2)cc1', 'CCN/C(=N\\\\Cc1csc(N(C)C)n1)NCCOCC1CCCO1.I', 'CCOC(=O)C(Cc1cccc(OC(F)(F)C(F)F)c1)C(O)c1csc(-c2ccccc2)n1', 'CC(C)CP(CC(C)C)CC(C)C.O=S(=O)(NS(=O)(=O)C(F)(F)F)C(F)(F)F', 'O=C(NC1CC1)Oc1cccc(C2=CCN(S(=O)(=O)c3cccc(OC(F)(F)F)c3)CC2)n1', 'COC(=O)CC(NC(=O)c1ccc(NS(=O)(=O)c2cccc([N+](=O)[O-])c2)cc1)c1ccccc1', 'CCOc1cc(CNNc2ccccc2)cc(Br)c1OCC(=O)Nc1ccccc1C', 'Cc1ccccc1NS(=O)(=O)c1ccc(C(=O)OC(C)C(=O)Nc2ccc([N+](=O)[O-])cc2)cc1', 'C[C@H](Nc1cc(C2CCCC2)ncn1)[C@@H](Cc1ccc(Cl)cc1)c1cccc(Br)c1', 'Cc1ccccc1NC(=O)CCC(=O)NN=Cc1ccccc1OCc1ccc(Cl)c(Cl)c1', 'COP(=O)(Oc1ccccc1)N1CCN(C2=Nc3cc(Cl)ccc3Oc3ccccc32)CC1', 'COC[C@@H](NC(=O)c1cc(=O)[nH]c(-c2cnc(OC)cn2)n1)c1ccc(OC(F)(F)F)c(F)c1', 'COc1ccc(NS(=O)(=O)c2cccc(C(=O)NN=Cc3ccccc3OCC(=O)O)c2)cc1', 'FC(F)(F)Oc1ccc(C/N=N/c2nc(Nc3ccc(Cl)cc3)cc(-c3ccccc3)n2)cc1', 'CS(=O)(=O)c1ccc(CN2C[C@H](O)C[C@H]2c2nc(-c3ccc(OC(F)(F)F)cc3)no2)cc1', 'C[N+]1(C)CCC(OC(=O)C(OCCCCO)(c2ccccc2)c2cccs2)C1.[Br-]', 'CCCNC(=O)c1ccc(OCc2nc3ccccc3[nH]2)c(OCc2ccc(Cl)cc2Cl)c1', 'COc1ccc(S(=O)(=O)NC(C)C)cc1NC(=O)[C@H]1CN(S(C)(=O)=O)c2ccccc2O1', 'CC(C)[C@H](CO)Nc1nc(Nc2ccc(O)c(C(=O)NC(CO)CO)c2)ncc1Br', 'CC(=O)SCC(C(=O)NC(Cc1c[nH]c2ccccc12)C(=O)[O-])C1CCc2cc(Cl)ccc21', 'CC(C)N1CC(C2c3cccc(Cl)c3CCc3c(Cl)cccc32)n2ncc(=O)c(O)c2C1=O', 'COc1cc(/C=C2\\\\SC(=O)N(CC(=O)N3CCc4ccccc4C3)C2=O)c([N+](=O)[O-])cc1OC', 'C=CCc1ccccc1Oc1ccc(S(=O)(=O)c2ccc(Oc3ccc(OC#N)cc3)cc2)cc1', 'CC(=O)NCCc1ccc(C(=O)CN2C(=O)NC(C)(c3ccc(OC(F)(F)F)cc3)C2=O)s1', 'C/N=C(\\\\NCCCOCC1CCOC1)NCc1csc(N(C)C)n1.I', 'Cc1ccc(NC(=O)CCC(=O)NN=Cc2ccc(OCc3ccc(Cl)cc3Cl)cc2)cc1', 'CCN(CC)c1ccc(-c2nc3cc(NC(=O)c4cc(Cl)c(OC)c(Cl)c4)ccc3o2)cc1', 'CC1=CC(C)(C)N(C)c2cc(C)c(/C=C3/C(=O)NC(=O)N(c4ccc(Cl)c(Cl)c4)C3=O)cc21', 'Clc1nc(-c2ccccc2)nc(-c2cccc3oc4ccc(-c5cccc6ccccc56)cc4c23)n1', 'Cc1cccc(Cl)c1C(=O)N(C)c1ncc(-c2cc(C(N)=O)ccc2Cl)cc1C1CCCO1', 'C[C@H](NS(=O)(=O)c1ccc(Cl)c(Cl)c1)C(=O)NCc1ccc(CN2CCCCC2)cc1', 'C[C@@H](C(=O)NCc1ccccc1CN1CCCC1)N(c1ccc(Cl)c(Cl)c1)S(C)(=O)=O', 'Cn1c(=O)c2c(ncn2CCC[N+](C)(C)Cc2ccccc2)n(C)c1=O.[I-]', 'C/N=C(\\\\NCC1CCS(=O)(=O)C1)N(C)Cc1cn(C)nc1C(C)C.I', 'CCS(=O)(=O)Nc1ccc(-c2cc(Nc3ccccn3)n[nH]2)cc1OCc1ccc(Cl)cc1', 'C[C@H](Nc1cc(Cl)nn2ccnc12)c1cc2cccc(C(F)(F)F)c2c(=O)n1-c1ccccc1', 'COc1cccc2c1CCC1CN(CCn3c(=O)[nH]c4c(sc5ncc(Cl)nc54)c3=O)CC21', 'Cl.Cl.Cl.Sc1ccc(CNCCCNCCCNCc2ccc(S)cc2)cc1', 'CCOC(=O)c1cc(CC)sc1NC(=O)COC(=O)c1cc(-c2ccco2)nc2onc(C)c12', 'COc1ccc(CCNc2[nH]c(=O)n(-c3ccc(Cl)c(Cl)c3)c2-c2ccccc2)cc1OC', 'O=C(Oc1cc2c(CN3CCNCC3)c(O)ccc2n1S(=O)(=O)c1ccccc1)C(F)(F)F', 'COc1ccc(S(=O)(=O)Nc2ccc(C)c(S(=O)(=O)N3CCCCCC3)c2)cc1[N+](=O)[O-]', 'CO/N=C/C(F)(F)C(OC(=O)c1ccccc1)C(COC(=O)c1ccccc1)CS(C)(=O)=O', 'Cc1ccc(-c2cc(C(F)(F)F)n3nc(C(=O)NCc4cc5cc(Cl)ccc5[nH]4)cc3n2)cc1', 'CC.CNCCONC(=O)c1cc2c(ncn2C)c(F)c1Nc1ccc(Br)cc1F', 'CO[C@@]12C[C@H](COC(=O)c3cncc(Br)c3)CN(C)C1Cc1cn(C)c3cccc2c13', 'C/N=C(\\\\NCCCOCc1ccco1)NCc1nc2ccccc2n1C.I', 'OB(O)c1cccc2c1oc1c(-n3c4ccccc4c4c5sc6ccccc6c5ccc43)cccc12', 'C[C@H](c1c(F)c(Cl)c(-c2ccc3nc(NC(=O)[C@@H]4C[C@@H]4F)cn3c2)c2cn[nH]c12)n1cnnn1', 'COc1ccc2cc([C@@H]3CC(=O)Oc4ccc5c(=O)c(-c6ccc(F)cc6)coc5c43)c(=O)[nH]c2c1', 'O=C(/C=C/c1ccc(Br)cc1)N1CCN(C(=O)c2ccc(N3CCOCC3)cc2)CC1', 'O=C(Cc1n[nH]c(=O)c2ccccc12)Nc1cc([N+](=O)[O-])ccc1Nc1cccc(C(F)(F)F)c1', 'CC(NC(=O)Nc1ccc(S(=O)(=O)CC2CCC(N)CC2)cc1)c1cccc(Cl)c1Cl', 'CCCOc1ccc(OCCOC(=O)c2ccc(Cl)c(S(=O)(=O)N3CCOCC3)c2)cc1', 'Cc1nc2c(cc(OCC(=O)Nc3ccc(CN4CCSCC4)cc3C)c3ccsc32)s1', 'CN(C)CC/C=C\\\\1/C2=CC=CC=C2COC3=C1C=C(C=C3)CC(=O)O', 'C/N=C(\\\\N)N(C)Cc1ccc(C(=O)Nc2ccnc3[nH]ncc23)cc1', 'Cc1cc(C)c(CC(=O)NC2Cc3ccccc3C2C(=O)O)c(C)c1', 'Cc1nn(C)cc1-c1cc(-c2cn(CCO)nc2C)c(C#N)c(N)n1', 'C[P+](c1ccccc1)(c1ccccc1)c1ccccc1.NC(N)=[NH2+]', 'CCc1ccc(C(=O)N2CC[C@@](O)(C3CCOCC3)[C@H](C)C2)s1', 'C[C@H]1[C@H]2C[C@H](C[C@H]1OC(=O)[C@@H]1CS[C@@]3(C)CCC(=O)N13)C2(C)C', 'O=C(NCc1ccccc1-n1cccn1)[C@@H]1CCCCn2nnnc21', 'Cc1cccc(C(=O)O[C@H](C(=O)N2CCCCC2)c2ccccc2)c1', 'CC(C)(C)OC(=O)N[C@H](CO)c1cccc(C#Cc2ccccc2)c1', 'COC(=O)[C@@H](N)CCCCCC(=O)CC(=O)Cc1ccccc1F', 'CCn1cc([C@@H]2OCCC[C@H]2CNCc2nn(C)cc2Cl)cn1', 'O=C1N([C@@H](c2ccccc2)[C@H](O)CO)c2ccccc2C12CCCC2', 'Cc1ccccc1CCC(=O)N1C[C@H](C(=O)O)[C@H](c2ccccc2)C1', 'CNSCC(COC)OC.COCN(C)/C=C\\\\C(=O)NC=O', 'Cc1ccc(F)cc1C(=O)N1CCC2(CC1)OCC[C@@](C)(O)[C@@H]2O', 'CCC/C(=C1/C(=O)OC(=O)C1=C(C)C)c1c(C)n(C)c2ccccc12', 'O=C(O)CCC1CCCN(C(=O)CCCCCc2cccs2)C1', 'C=CCc1cc(C=CC(=O)c2ccc(NC)cc2)c(OC)cc1OC', 'CC(C)(C)c1ccc(NC(=O)C2(c3ccc4c(c3)OCO4)CC2)cc1', 'CCCC/N=C(\\\\N)N=C(N)N.Cl.Oc1cccc2ccccc12', 'Cc1ccccc1CNc1ccc(C(=O)OC2CCCCC2=O)cc1', 'O=C(O)CCc1ccc(NC(=O)CC2CC(c3ccccc3)C2)cc1', 'O=S(=O)(O)c1ccccc1NC1CCCC(C2CCCCC2)C1', 'C=CCc1cc([N+](=O)[O-])c(CO[Si](C)(C)C(C)(C)C)cc1OC', 'COc1cccc(/C=C2\\\\N=C(C34CC5CC(CC(C5)C3)C4)OC2=O)c1', 'C=CC[C@@H]1c2cc(OC)c(OC)cc2CCN1S(=O)C(C)(C)C', 'CC[C@H](C(=O)NC[C@H](OC)c1cc2ccccc2o1)c1ccccc1', 'CCOC(=O)c1cc([C@H](OCC)c2ccc(C)cc2)n2ccccc12', 'O=C(OCCC1CCCCN1C(=O)c1ccccc1)c1ccccc1', 'N/C=C(\\\\SN)c1cc2[nH]ncc2c(NCCOCCCCN)n1', 'CCCn1cnnc1[C@H](C)NC(=O)c1cnc(-c2ccccn2)nc1', 'CCN(Cc1c(C)cc(C)c(C(C)=O)c1C)[C@@H]1CCS(=O)(=O)C1', 'Cc1ccc(CNC(=O)[C@@H](C)OC(=O)/C=C/c2ccccc2C)cc1', 'Cc1cc(C(C)(C)C)ccc1CC(=O)N(C)C1CCS(=O)(=O)C1', 'Cc1cc2cc(Nc3ccnn3C)ccc2[nH]1.Nc1ccccc1F', 'O=C(N[C@@H]1CC[C@@H]2OCCO[C@@H]2C1)c1ccc(-c2ccccc2)cc1', 'Cl.NCCCCCCC(=O)NCc1cccnc1-n1cccn1', 'Cc1ccc(CNC(=O)C2CN(c3ncnc4c3nnn4C)C2)cc1', 'CC(O)[C@H]1CCCN1C(=O)OCC1c2ccccc2-c2ccccc21', 'CN(CC1(CO)CCOCC1)C(=O)CCC(=O)c1ccc(F)cc1', 'COc1ccc2c(c1O)C13CC(=O)C1C1(C)C(/N=C4/CC4C)C(C2)C31', 'COC(=O)CC(NC(=O)CCCC1CCCCC1)c1cccs1', 'Cc1ccc(C(=O)OCC(=O)N[C@H]2CCCc3ccccc32)c(C)c1', 'CCC(CC)NC(=O)COC(=O)c1cc2c(s1)CC[C@@H](CC)C2', 'Cc1ccc(CC(=O)OCC(=O)N2CCc3ccccc3C2)cc1C', 'CCOc1ccccc1CC[C@@H]1CC(=O)N(Cc2ccccc2)C1=O', 'COc1cc(NC2=CC(=O)C[C@@H](c3ccc(C)cc3)C2)cc(OC)c1', 'Cc1cc(NC(c2ccc(F)cc2)c2ccn(C)n2)nc(C2CC2)n1', 'CC1(C)CO[C@H](c2ccccc2)CN1C(=O)c1ccc2c(c1)COC2', 'C=C(C)CN(C)C(=O)C[C@H](c1ccccc1)c1ccc2c(c1)OCO2', 'O=S(=O)(ONC1=CCCCCCCCCCC1)c1ccccc1', 'Cl.Cl.O=C(CN1CCNCC1)N1CCCC2CCCCC21', 'CC.CO.COc1cn(Cc2ccc(F)c(C)c2)c(C=O)cc1=O', 'O=C([O-])CC12C[C@H]3C[C@@H](C1)CC(n1nnc(-c4ccccc4)n1)(C3)C2', 'CCC(OC1CCCCC1)C(=O)Nc1ccc(CC(=O)O)c(F)c1', 'CC1C(CO)CCN1C(=O)OCC1c2ccccc2-c2ccccc21', 'O=C(C1COc2ccccc21)N1CCC(C(O)c2ccccc2)CC1', 'CCCCCCCC#Cc1ccc(C(O)(CCO)NC(C)=O)s1', 'Cc1ccc(/C=C/C(=O)O[C@@H](C)C(=O)Nc2cc(C)ccc2C)cc1', 'COc1ccc(CC[C@@H](C)NCc2cccc(C(F)(F)F)c2)cc1', 'CCOC1CCN(C(=O)C2c3ccccc3Oc3ccccc32)CC1', 'CC(C)(C)c1ccc2c(c1)CN(S(=O)(=O)C[C@@H]1CCOC1)CC2', 'O=C(c1ccccc1)C1CCN(C(=O)CCc2ccccc2O)CC1', 'COCC(C)Nc1ncc2c(-c3ccc4ncc(C)n4n3)c[nH]c2n1', 'CCc1ccccc1N1C[C@H](C(=O)Oc2cc(C)ccc2C)CC1=O', 'CC(C(=O)O)c1cccc(NC(=O)CC2CCCc3ccccc32)c1', 'CCC1CCC(CNC(=O)c2cc(S(C)(=O)=O)ccc2C)CC1', 'CC.CC.CCOc1ccccc1Cc1nc(C)sc1C(=O)O', 'CCC(CC)[C@H]1C[C@@H](NC(=O)c2ccc(C(=O)O)cc2F)CCO1', 'O=C(O)c1cccc(CN2C[C@@H](c3ccccc3)O[C@@H](C3CC3)C2)c1', 'CC(C)C[C@H](C=O)NC(=O)OCC1c2ccccc2-c2ccccc21', 'CC1(C)[C@@H]2CC[C@@]1(CS(=O)[C@H]1[C@@H](C(N)=O)[C@H]3C=C[C@@H]1C3)[C@H](O)C2', 'CN(C)CCCc1ccccc1OCc1cccc(C(F)(F)F)c1', 'Cc1nc2c(c(NCc3ccc(-n4ccnc4)c(F)c3)n1)CCCC2', 'COc1cc2c(cc1NC(=O)CCC1CCCC1)oc1ccccc12', 'COc1ccc(CC(=O)N2CCOCC2C2CCCC2O)cc1F', 'CN1CC[C@@](CC(=O)O)(c2ccccc2)[C@H](C(=O)c2ccccc2)C1', 'COCc1ccccc1CNC(=O)Cc1coc2c(C)c(C)ccc12', 'CCc1cc2c(=O)c(-c3ccccc3)c(C)oc2c(CN(C)C)c1O', 'Cc1ccc(C(=O)N2c3ccccc3[C@@H]3OCCCO[C@H]3[C@@H]2C)cc1', 'O=C(O)Oc1c(C2CCCC2)nc2c(c1-c1ccccc1)CCCC2', 'Cc1ccc(N)c(-c2cnc3nc(N)nc(N4CCOCC4)c3n2)c1', 'CS(=O)(=O)[C@@H]1CCCC[C@@H]1NC[C@@]1(O)CCCc2ccccc21', 'COc1cc(/C=C/C(=O)/C=C/c2ccc(N(C)C)cc2)cc(OC)c1', 'O=C(C1CCOCC1)N1CCCC(O)(COc2ccc(F)cc2)C1', 'CNCCCC(=O)NC(C)(C)c1cn(-c2ccccc2)nn1.Cl', '[H]/N=C(\\\\OCC)c1ccc2nc(-c3ccc(C(=[NH2+])OCC)cc3)cn2c1', 'CC(C)Nc1nc(NCc2ccc(F)cc2)cc(-c2ccncc2)n1', 'COc1ccc(CC(=O)N2CCCC2C(=O)c2ccc(C)cc2)cc1', 'Cc1cccc(OC[C@@H]2CCCCN2C(=O)c2ccccc2)c1C=O', 'CCC(Oc1ccc2ccccc2c1)C(=O)NCCCc1ccco1', 'COC[C@@H](O)CNc1ccc2cc(OCc3ccccc3)ccc2c1', 'CC(=CC(=O)NC1CCS(=O)(=O)C1)C12CC3CC(CC(C3)C1)C2', 'COC(=O)c1ccc(/C=C/C(=O)Nc2ccccc2C(C)(C)C)cc1', 'COc1ccc2nccc(N3CCCN(CCN)CC3)c2n1.Cl', 'COc1cc2c(cc1OC)C1CC(=O)C[C@@H](c3ccccc3)N1CC2', 'Cl.NCC(=O)CCC(=O)OCCCCCCCCCC(=O)O', 'CCc1ccc(OC(=O)[C@@H]2CC(=O)N(c3ccc(C)c(C)c3)C2)cc1', 'CCc1nc(C)c(C(C)N(C)Cc2csc(C(C)(C)C)n2)s1', 'COCCn1c(C)cc(C(=O)COc2cccc3ccccc23)c1C', 'O=C(Cc1ccc(-n2ccnc2)cc1)N1CCC(c2nn[nH]n2)CC1', 'CCc1cccc(CC)c1NC(=O)/C=C/c1ccc(C(=O)OC)cc1', 'CC(C)Nc1nc(NCc2ccc(F)cc2)cc(-c2ccccn2)n1', 'CNc1nc(C2CCN(C(=O)c3cnccn3)CC2)cn2nccc12', 'CC(OC(=O)c1ccc2c(c1)CCCC2)C(=O)N(C)c1ccccc1', 'C[C@@H]1CC=CC[C@H]1C(=O)N1[C@@H]2CC3CC[C@]2(CS1(=O)=O)C3(C)C', 'CCN(CC)CCOc1c(-c2ccccc2)oc2ccccc2c1=O', 'CCCN(C[C@@H]1COC[C@@H](O)[C@H]1O)C(=O)/C=C/c1ccccc1F', 'CCCCN1C(=O)[C@](O)(CC(=O)c2ccc(C)cc2)c2ccccc21', 'Cc1ccc(NC(=O)NCCNc2cc(-n3cccn3)ncn2)cc1', 'COc1ccccc1-c1[nH]c2ccc(C(C)(C)C)cc2c1CC(=O)O', 'O=C(OCC1c2ccccc2-c2ccccc21)N1CC[C@@H](CCO)C1', 'COc1ccc(C(=O)N2CCCC(F)(CO)C2)c(OCC2CC2)c1', 'Cc1cc(NC=C(C#N)c2nn[nH]n2)ccc1NC(=O)C1CCCC1', 'CC#CCOc1ccc(N=C(C)C)c(OCC#CC)c1OCC#CC', 'Cc1nnc2ccc(N3CCCN(C(=O)c4ccncc4)CC3)nn12', 'CC(=O)Nc1cc2c(cn1)c(N1CCC(C)C1)nn2-c1cnccn1', 'COC(=O)C1CC(C)N(C(=O)c2ccc(C)c(C)c2)c2ccccc21', 'CCOC(=O)CCC1CCc2cc(-c3ccc(N)cc3)ccc2C1=O', 'CC(C)c1ccc(OCC(=O)NC(C)c2cc3ccccc3o2)cc1', 'CCCC/C(=C\\\\C1=C(C)C(=O)c2ccccc2C1=O)C(=O)NC1CC1', 'CC(C)C(CC(=O)NCCS(C)(=O)=O)c1ccc2c(c1)CCC2', 'Cc1ccc(C)c(N2C[C@@H](C(=O)Oc3ccc(C)c(C)c3)CC2=O)c1', 'CC(=O)c1cc(OCc2ccc(C)c(C)c2)ccc1OCCCC#N', 'Nc1nccc(-c2c(-c3ccc(F)cc3)ncn2C2CCCCC2)n1', 'CCc1cccc(CC)c1NC(=O)C1(C)Cc2ccccc2C(=O)O1', 'COc1ccc(O)c(C(=O)N(C2CC2)C2CCCc3ccccc32)c1', 'Cl.Cl.NC1CCCC(C(=O)N2CCN(CC3CC3)CC2)C1', 'O[C@@H]1CN(CC=Cc2ccccc2)CC[C@H]1c1ccc2c(c1)OCO2', 'Cn1cc(C2CCN(C(=O)c3ccc(-n4cncn4)nc3)CC2)cn1', 'COC(=O)c1cc(C2CC2)c(OCC2(OC)CCNCC2)cc1F', 'CCCC(CCc1ccccc1)C(=O)Nc1ccc2c(c1)COC2=O', 'CC1CCCCC1OCC(=O)NCC(C(=O)O)c1ccc(F)cc1', 'CO[C@@H]1CCCN(Cc2sc3c(c2C(=O)O)CC(C)(C)CC3)C1', 'CC(C)(C)C(=O)Nc1sc2c(c1C(=O)O)CC[C@H](C(C)(C)C)C2', 'C=CC(C)C(CCCC)C(=O)N(C)S(=O)(=O)c1ccc(C)cc1', 'C=CCc1cc([N+](=O)[O-])c(CCC(C)(C)[Si](C)(C)O)cc1OC', 'Cc1c(C=O)c2c(c(C)c1NC=O)C(c1ccc(C(C)C)cc1)CO2', 'CCCCCCc1ccc(C(=O)C=Cc2ccc([N+](=O)[O-])cc2)cc1', 'CC#CCOc1cc(N=C(C)C)cc(OCC#CC)c1OCC#CC', 'COc1cc2c(cc1OC)CN(C(=O)/C=C/c1ccc(C)cc1)CC2', 'CCS(=O)(=O)c1ccccc1N1CCC(OC2CCCC2)CC1', 'Nc1nc(N2CCC(NC(=O)c3ccc4cnccc4c3)CC2)n[nH]1', 'O=C(Cc1ccccc1C(=O)O)NC1CCCCC1c1ccccc1', 'COC[C@@]12CCCO[C@@H]1CCN(C(=O)c1ccc(F)c(OC)c1)C2', 'C=CCOc1ccc(C(=O)N(C)C2CCc3ccccc32)cc1OC', 'O=C(NCC1CCCCN1c1ccc2nnnn2n1)c1ccccc1', 'O=C(C1Cc2ccccc2C1)N1CCOC(COc2ccccc2)C1', 'O=C(NCc1ccccn1)c1cc2n(n1)CCN(Cc1cnc[nH]1)C2', 'C[C@@H](Cc1cccc2ccccc12)NC[C@H](O)c1cc(O)cc(O)c1', 'CCC(NC(=O)c1cnc(-c2ccncc2)nc1)c1ncnn1CC', 'Cc1nc(Cl)cc(N2CCN(CC(=O)N3CCCCC3)CC2)n1', 'CC(CCc1ccccc1F)C(=O)NC(C(=O)O)C1CCCOC1', 'COc1ccccc1C(=O)NC[C@]1(c2ccccc2)CCCC(=O)C1', 'O=C(O)C[C@H](NC(=O)C[C@@H]1CCCc2ccccc21)c1ccccc1', 'O=C(c1cccc(OCC2CCCO2)c1)N1CCCc2ccccc21', 'CC(=O)c1c(O)c2c(n(-c3ccccc3)c1=O)[C@]1(C)CC[C@H]2C1(C)C', 'CCN(CC)C(=O)C(C(C)=O)C1c2ccccc2Oc2ccccc21', 'c1ccc2c(c1)Oc1ccccc1C1OC(CN3CCCCC3)OC21', 'CC[C@H]1C(=O)N(C(c2ccccc2)c2ccccc2)[C@H]1CC(=O)OC', 'CCOC(=O)CCCSC1Cc2ccc(O)cc2C(C)(C)C1N', 'CCOC(=O)c1ccc2c(c1)[C@](C)(CCc1ccccc1)C(=O)N2C', 'COc1ccc(F)cc1NC(=O)C(C)(CC(=O)O)C1CCCCC1', 'CCN(CC)c1ccc(/C=C2\\\\Cc3cc(OC)c(O)cc3C2=O)cc1', 'CC(C)C1=CCN(C(=O)C2(c3cccc(C(F)(F)F)c3)CC2)CC1', 'O=C(c1ccccc1OCC1CCCO1)N1CCCc2ccccc21', 'CCOC(=O)Cc1c(C)n(Cc2ccccc2)c2cccc(OC)c12', 'CCC(NC1CCc2ccccc2C1)Oc1cccc2oc(O)cc12', 'c1ccc(NCc2nc(N3CCOCC3)nc(-n3ccnc3)n2)cc1', 'CCC(=O)c1ccc(OCC(=O)N(C)C2CCc3ccccc32)cc1', 'CC(C)(C)OC(=O)N1CCC(C(F)c2cccc(C(=O)O)c2)CC1', 'CCCCOC(=O)C(=C\\\\c1ccccc1)/N=C/c1ccc(OC)cc1', 'C=C(C)C(O)(C(=C)C)[C@@H](NS(=O)(=O)c1ccccc1)[C@@H](C)CC', 'CC(C)n1nnnc1-c1ccccc1NC(=O)NCc1ccccn1', 'CC(C)(C)OC(=O)CC(=O)c1cccc(-c2ccnc(C3CC3)c2)c1', 'CCCc1ccc(-c2cn(C)cc(C(F)(F)F)c2=O)c(CCC)c1', 'O=C(Cc1ccccc1)NC1(c2ccc3c(c2)OCCO3)CCCC1', 'O=C(NC[C@@H](c1ccco1)[NH+]1CCCC1)c1cnc2ccccc2n1', 'CCCn1ccc2c(OCCc3ccc(OC)cc3)cccc2c1=O', 'c1c[n-]cn1.c1c[n-]cn1.c1c[n-]cn1.c1c[nH]cn1.c1c[nH]cn1', 'Cc1cnn(C2CCN(C(=O)Cc3ccc(-n4cnnn4)cc3)C2)c1', 'CCC(=O)c1ccc(-c2cccc(C(=O)NCC3(C)COC3)c2)cc1', 'COc1ccc(C2CCCN2C(=O)C2COc3ccccc3C2)cc1', 'Cc1cc(C)n2ncc(-c3noc(CCc4c(C)n[nH]c4C)n3)c2n1', 'CCCCC1CCC(C(=O)Nc2ccc(S(C)(=O)=O)cc2)CC1', 'CC(NC(=O)[C@@H]1CC[C@H](C(=O)O)C1)c1ccc(-c2ccccc2)cc1', 'CC1CN2CCCC2CN1C(=O)C[C@@H]1CCC[C@H]1N.Cl.Cl', 'COc1ccc(/C(C)=C/C(=O)N2CCOC(c3ccccc3)C2)cc1', 'Cc1ccccc1CC(=O)O[C@@H](C)C(=O)Nc1ccc2c(c1)CCC2', 'C=P(C)(C)CC[C@H]1O[C@@H](n2cnc3c(N)ncnc32)[C@H](C)[C@@H]1O', 'CCCC(C)(N)C(=O)NCc1ccc(-n2ccnc2C)nc1.Cl', 'Cc1cnn(CC2CCCN2C(=O)c2cccc(-n3cnnn3)c2)c1', 'Cc1cccc(O[C@@H]2CCCC[C@H]2N[C@@H]2CCCS(=O)(=O)C2)c1', 'O=C(NCC(F)(F)F)C12CC3CC(C1)CC(c1ccccc1)(C3)C2', 'O=C(c1n[nH]c2c1CCC2)N1CCC(n2nnc3cccnc32)CC1', 'CC(OCCCNCc1ccc(C(F)(F)F)cc1)c1ccccc1', 'O=C(O)CN(Cc1ccc(F)cc1)C(=O)CCCC1CCOCC1', 'CCCCC(=O)Nc1sc2c(c1C(=O)OCC)CCC(CC)C2', 'CC[C@@H](C)c1ccccc1NC(=O)c1oc2ccc(OC)cc2c1C', 'CCC/C(=C1\\\\C(=O)OC(=O)C1=C(C)C)c1c(C)n(C)c2ccccc12', 'Nc1ncnc2c1cnn2-c1cccc(NC(=O)NC2CCCC2)c1', 'COc1ccc(CNCc2ccc(-c3ccc([C@@H](C)O)cc3)o2)cc1', 'O=C(Cc1c2c(cc3c1OCC3)OCC2)NCCCc1ccccc1', 'CCCCOc1ccccc1/C=C/C(=O)Nc1ccc(C(C)=O)cc1', 'CC(C)C[C@H](N/C(=C\\\\C(=O)c1ccccc1)c1ccccc1)C(=O)O', 'CC(C)(C)c1cc([C@@H]2N[C@@H](C(=O)O)CS2)cc(C(C)(C)C)c1O', 'CCc1ccccc1NC(=O)C1Cc2cc(C(C)C)ccc2C(=O)O1', 'O=C(OC1CN2CCC1CC2)C(O)(c1ccccc1)c1ccccc1', 'CCCCCCCCCC(=O)OCCC(N)COP(=O)([O-])[O-]', 'CCCCC(CCCOC(=O)OCCl)NC(=O)OC(C)(C)C', 'CC[C@@H](CC(=O)N1C(=O)OC[C@@H]1Cc1ccccc1)c1ccccc1', 'Cc1nn(-c2ccccc2)nc1C(=O)NC1CCc2nnc(C)n2C1', 'C[Si](C)(C)N(c1c2ccccc2cc2ccccc12)[Si](C)(C)C', 'O=C(O)N1C[C@H]2CC(Oc3ccccc3Cc3ccccc3)C[C@H]2C1', 'O=C(NCC(O)C1CCC1)OCC1c2ccccc2-c2ccccc21', 'Fc1ccccc1CNc1nncc(NCCCc2ccccc2)n1', 'CC(C)(C)c1ccc(OCCCC(=O)Oc2ccc(C#N)cc2)cc1', 'CCOC(=O)c1ccc(C(N=S(C)(C)(C)OC)=C2CCC2)cc1', 'Nc1ncc(-c2cc(N3CC4OCC43)nc(N3CC4CC3C4)n2)cn1', 'CC(=O)c1cc2c(cc1C(C)=O)[C@@]1(C)CCC[C@@](C)(C#N)[C@@H]1CC2=O', 'COc1ccc(C)cc1NC(=O)CCC(=O)c1ccc2c(c1)CCC2', 'CC(CC(C)(C)c1ccccc1)NC(=O)CC1CCS(=O)(=O)C1', 'C[C@H](Cc1ccc(OCc2ccccc2)cc1)N(C)CC#CC(=O)O', 'NC1CC(CNc2cnc(-c3ccc(-n4ccnc4)cc3O)nn2)C1', 'COc1c2c(n(C)c(=O)c1C(=O)/C=C/c1cccc(C)c1)CCCC2', 'COCc1nc(NCc2cnc3c(C)cccn23)c2cnn(C)c2n1', 'Fc1ccc(CNc2nc(N3CCCCC3)nc3ncccc23)cc1', 'CCOC(C)c1cccc(CCCN2C(=O)c3ccccc3C2=O)c1', 'CC(C)c1ccccc1Nc1nncc(NCc2ccc(F)cc2)n1', 'CC1CCC(Nc2ncnc3ncc(-c4ccc(F)cc4)nc23)CC1', 'CCn1cnnc1-c1nn(C)c2c1CN(C(=O)c1cccnc1)CC2', 'CCCC(NC(=O)/C=C/c1ccc2c(c1)OCCO2)c1ccccc1', 'COC(=O)CC1Cc2ccccc2CN(CCc2ccccc2)C1=O', 'Cc1c(F)c(N2CCCC2N(C)C)n2c(nc3ccccc32)c1C#N', 'OC1(c2ccc3c(c2)OCO3)CCN(C/C=C/c2ccccc2)CC1', 'CN(C)CCCOc1cccc(/C=C2\\\\COc3ccccc3C2=O)c1', 'CC(=O)N[C@@H]1C=C[C@@H](OCc2ccccc2)[C@H]1OCc1ccccc1', 'CC(C)n1cc(-c2ncnc3c2CCCN3)c(-c2ccc(F)cc2)n1', 'C=CCc1ccc(OCC(=O)Nc2ccc3c(c2)CCC3)c(OC)c1', 'CC1=C(CCN)c2cc(OCCOCCOCCS)ccc2C1', 'NNc1nc(Nc2cccc3ccccc23)nc(N2CCOCC2)n1', 'C/C=C/C(O)C(COP(=O)(O)OCCC(C)(C)C)NC(C)=O', 'COC(=O)C[C@@H](NC(=O)c1ccc2c(c1)CCCC2)c1ccccc1', 'COc1ccccc1[C@@H]1[NH2+][C@@H](C(=O)NN)Cc2c1[nH]c1ccccc21', 'Cc1cc2c(s1)C1(CCN(C(=O)OC(C)(C)C)CC1)OC(C)C2', 'NC(=O)[C@H](c1ccccc1)N1CCN(c2nccn3cnnc23)CC1', 'CCC(CC)O[C@@H]1C=C(C(=O)c2ccc(OC)s2)C[C@H](N)[C@H]1C', 'CCC(=C(C(=O)C(C(=O)O)c1ccccc1)c1ccccc1)N(C)C', 'CNC(=O)c1cc2cc(C34CC5CC(CC(C5)C3)C4)ccc2oc1=O', 'CC(C)c1ccc(NC(=O)c2ccc3c(c2)C(=O)CC(C)(C)O3)cc1', 'O=C(CN1C[C@@H]2CC(O)(c3ccccc3)C[C@@H]2C1)c1ccc(O)cc1', 'COc1cc(/C=C2/C(=O)Nc3ccccc32)ccc1OCCC(C)C', 'C/C=C/COc1ccc(/C=C/C(=O)Nc2ccc(C)cc2)cc1OC', 'Cc1ccc(SCC(=O)OCC2CN(CC(C)C)CCO2)cc1', 'CCc1ccc(C(=O)O[C@@H](C)C(=O)N2c3ccccc3C[C@H]2C)cc1']}\n"
     ]
    }
   ],
   "source": [
    "tmp_original = []\n",
    "for batch in train_loader_original:\n",
    "    print(batch)\n",
    "    tmp_original = batch\n",
    "    break"
   ]
  },
  {
   "cell_type": "code",
   "execution_count": 9,
   "id": "f279211477cf5d0b",
   "metadata": {
    "ExecuteTime": {
     "end_time": "2025-02-14T13:40:10.389867Z",
     "start_time": "2025-02-14T13:40:10.387361Z"
    }
   },
   "outputs": [
    {
     "name": "stdout",
     "output_type": "stream",
     "text": [
      "dict_keys(['spec', 'mol', 'precursor_mz', 'adduct', 'mol_freq', 'identifier', 'smiles', 'candidates', 'labels', 'batch_ptr', 'candidates_smiles'])\n",
      "batch_ptr is present: tensor([256, 214, 256, 256, 256, 256, 256, 256, 256, 256, 256, 256])\n"
     ]
    }
   ],
   "source": [
    "# Check the keys in the batch\n",
    "print(tmp_original.keys())\n",
    "\n",
    "# Specifically check if 'batch_ptr' is present\n",
    "if 'batch_ptr' in tmp_original:\n",
    "    print(\"batch_ptr is present:\", tmp_original['batch_ptr'])\n",
    "else:\n",
    "    print(\"batch_ptr is missing\")"
   ]
  },
  {
   "cell_type": "code",
   "execution_count": 10,
   "id": "82cf5fad037c8ffe",
   "metadata": {
    "ExecuteTime": {
     "end_time": "2025-02-14T13:40:10.399490Z",
     "start_time": "2025-02-14T13:40:10.396421Z"
    }
   },
   "outputs": [
    {
     "data": {
      "text/plain": [
       "dict_keys(['spec', 'mol', 'precursor_mz', 'adduct', 'mol_freq', 'identifier', 'smiles', 'candidates', 'labels', 'batch_ptr', 'candidates_smiles'])"
      ]
     },
     "execution_count": 10,
     "metadata": {},
     "output_type": "execute_result"
    }
   ],
   "source": [
    "tmp_original.keys()"
   ]
  },
  {
   "cell_type": "code",
   "execution_count": 11,
   "id": "8a967c5745662a1f",
   "metadata": {
    "ExecuteTime": {
     "end_time": "2025-02-14T13:40:10.408912Z",
     "start_time": "2025-02-14T13:40:10.406565Z"
    }
   },
   "outputs": [
    {
     "data": {
      "text/plain": [
       "(torch.Size([12, 61, 2]), torch.Size([12, 4096]))"
      ]
     },
     "execution_count": 11,
     "metadata": {},
     "output_type": "execute_result"
    }
   ],
   "source": [
    "tmp_original['spec'].shape, tmp_original['mol'].shape, "
   ]
  },
  {
   "cell_type": "code",
   "execution_count": 12,
   "id": "f4541b8ff18abfc5",
   "metadata": {
    "ExecuteTime": {
     "end_time": "2025-02-14T13:40:10.417149Z",
     "start_time": "2025-02-14T13:40:10.414576Z"
    }
   },
   "outputs": [
    {
     "data": {
      "text/plain": [
       "tensor([321.1380, 785.6540, 156.1244, 241.0963, 703.3660, 248.0706, 502.1773,\n",
       "        209.1280, 579.1500, 267.1400, 506.1000, 338.1751])"
      ]
     },
     "execution_count": 12,
     "metadata": {},
     "output_type": "execute_result"
    }
   ],
   "source": [
    "tmp_original['precursor_mz']"
   ]
  },
  {
   "cell_type": "code",
   "execution_count": 13,
   "id": "d33f02e95d06defc",
   "metadata": {
    "ExecuteTime": {
     "end_time": "2025-02-14T13:40:10.425076Z",
     "start_time": "2025-02-14T13:40:10.422770Z"
    }
   },
   "outputs": [
    {
     "data": {
      "text/plain": [
       "(['[M+H]+',\n",
       "  '[M+H]+',\n",
       "  '[M+H]+',\n",
       "  '[M+H]+',\n",
       "  '[M+Na]+',\n",
       "  '[M+H]+',\n",
       "  '[M+H]+',\n",
       "  '[M+H]+',\n",
       "  '[M+H]+',\n",
       "  '[M+Na]+',\n",
       "  '[M+Na]+',\n",
       "  '[M+H]+'],)"
      ]
     },
     "execution_count": 13,
     "metadata": {},
     "output_type": "execute_result"
    }
   ],
   "source": [
    "tmp_original['adduct'], "
   ]
  },
  {
   "cell_type": "code",
   "execution_count": 14,
   "id": "f2246bafe4c779ae",
   "metadata": {
    "ExecuteTime": {
     "end_time": "2025-02-14T13:40:10.433390Z",
     "start_time": "2025-02-14T13:40:10.430658Z"
    }
   },
   "outputs": [
    {
     "data": {
      "text/plain": [
       "tensor([ 3., 26.,  3., 48.,  2.,  6.,  4., 80., 31.,  7., 27., 36.])"
      ]
     },
     "execution_count": 14,
     "metadata": {},
     "output_type": "execute_result"
    }
   ],
   "source": [
    "tmp_original['mol_freq']"
   ]
  },
  {
   "cell_type": "code",
   "execution_count": 15,
   "id": "69b44a8f863047a4",
   "metadata": {
    "ExecuteTime": {
     "end_time": "2025-02-14T13:40:10.441171Z",
     "start_time": "2025-02-14T13:40:10.438617Z"
    }
   },
   "outputs": [
    {
     "data": {
      "text/plain": [
       "tensor([ True, False, False,  ..., False, False, False])"
      ]
     },
     "execution_count": 15,
     "metadata": {},
     "output_type": "execute_result"
    }
   ],
   "source": [
    "tmp_original['labels']"
   ]
  },
  {
   "cell_type": "code",
   "execution_count": 16,
   "id": "6514ce8596d69758",
   "metadata": {
    "ExecuteTime": {
     "end_time": "2025-02-14T13:40:10.462893Z",
     "start_time": "2025-02-14T13:40:10.446655Z"
    }
   },
   "outputs": [
    {
     "data": {
      "text/plain": [
       "tensor(12)"
      ]
     },
     "execution_count": 16,
     "metadata": {},
     "output_type": "execute_result"
    }
   ],
   "source": [
    "sum(tmp_original['labels'])"
   ]
  },
  {
   "cell_type": "code",
   "execution_count": 17,
   "id": "2c9d2d7a5c16ed90",
   "metadata": {
    "ExecuteTime": {
     "end_time": "2025-02-14T13:40:10.471626Z",
     "start_time": "2025-02-14T13:40:10.468421Z"
    }
   },
   "outputs": [
    {
     "data": {
      "text/plain": [
       "tensor([   0,  256,  470,  726,  982, 1238, 1494, 1750, 2006, 2262, 2518, 2774])"
      ]
     },
     "execution_count": 17,
     "metadata": {},
     "output_type": "execute_result"
    }
   ],
   "source": [
    "torch.nonzero(tmp_original['labels'], as_tuple=False).squeeze()"
   ]
  },
  {
   "cell_type": "code",
   "execution_count": 18,
   "id": "2e83bcb489cae86a",
   "metadata": {
    "ExecuteTime": {
     "end_time": "2025-02-14T13:40:10.479076Z",
     "start_time": "2025-02-14T13:40:10.476830Z"
    }
   },
   "outputs": [
    {
     "data": {
      "text/plain": [
       "3030"
      ]
     },
     "execution_count": 18,
     "metadata": {},
     "output_type": "execute_result"
    }
   ],
   "source": [
    "len(tmp_original['labels'])"
   ]
  },
  {
   "cell_type": "code",
   "execution_count": 19,
   "id": "8623ad0307ee1f18",
   "metadata": {
    "ExecuteTime": {
     "end_time": "2025-02-14T13:40:10.487175Z",
     "start_time": "2025-02-14T13:40:10.484579Z"
    }
   },
   "outputs": [
    {
     "data": {
      "text/plain": [
       "tensor([256, 214, 256, 256, 256, 256, 256, 256, 256, 256, 256, 256])"
      ]
     },
     "execution_count": 19,
     "metadata": {},
     "output_type": "execute_result"
    }
   ],
   "source": [
    "tmp_original['batch_ptr']"
   ]
  },
  {
   "cell_type": "code",
   "execution_count": 20,
   "id": "153e8fd767c6cc73",
   "metadata": {
    "ExecuteTime": {
     "end_time": "2025-02-14T13:40:10.495288Z",
     "start_time": "2025-02-14T13:40:10.492793Z"
    }
   },
   "outputs": [
    {
     "data": {
      "text/plain": [
       "tensor(3030)"
      ]
     },
     "execution_count": 20,
     "metadata": {},
     "output_type": "execute_result"
    }
   ],
   "source": [
    "sum(tmp_original['batch_ptr'])"
   ]
  },
  {
   "cell_type": "code",
   "execution_count": 21,
   "id": "57abe1cdad7d1e03",
   "metadata": {
    "ExecuteTime": {
     "end_time": "2025-02-14T13:40:10.502829Z",
     "start_time": "2025-02-14T13:40:10.500508Z"
    }
   },
   "outputs": [
    {
     "data": {
      "text/plain": [
       "3030"
      ]
     },
     "execution_count": 21,
     "metadata": {},
     "output_type": "execute_result"
    }
   ],
   "source": [
    "len(tmp_original['candidates'])"
   ]
  },
  {
   "cell_type": "code",
   "execution_count": 22,
   "id": "6a5c6ecd1c18994e",
   "metadata": {
    "ExecuteTime": {
     "end_time": "2025-02-14T13:40:10.510475Z",
     "start_time": "2025-02-14T13:40:10.508246Z"
    }
   },
   "outputs": [
    {
     "data": {
      "text/plain": [
       "torch.Size([4096])"
      ]
     },
     "execution_count": 22,
     "metadata": {},
     "output_type": "execute_result"
    }
   ],
   "source": [
    "tmp_original['candidates'][5].shape"
   ]
  },
  {
   "cell_type": "code",
   "execution_count": 23,
   "id": "3f7ec6537b665b0c",
   "metadata": {
    "ExecuteTime": {
     "end_time": "2025-02-14T13:40:10.518392Z",
     "start_time": "2025-02-14T13:40:10.516067Z"
    }
   },
   "outputs": [
    {
     "data": {
      "text/plain": [
       "3030"
      ]
     },
     "execution_count": 23,
     "metadata": {},
     "output_type": "execute_result"
    }
   ],
   "source": [
    "len(tmp_original['candidates_smiles'])"
   ]
  },
  {
   "cell_type": "markdown",
   "id": "effa503f7496c1bb",
   "metadata": {},
   "source": [
    "# MSnRetrieval"
   ]
  },
  {
   "cell_type": "code",
   "execution_count": 24,
   "id": "81578a73d8e57643",
   "metadata": {
    "ExecuteTime": {
     "end_time": "2025-02-14T13:40:10.525352Z",
     "start_time": "2025-02-14T13:40:10.523697Z"
    }
   },
   "outputs": [],
   "source": [
    "from massspecgym.featurize import SpectrumFeaturizer"
   ]
  },
  {
   "cell_type": "code",
   "execution_count": 25,
   "id": "5df6778634ce3906",
   "metadata": {
    "ExecuteTime": {
     "end_time": "2025-02-14T13:40:10.532965Z",
     "start_time": "2025-02-14T13:40:10.530883Z"
    }
   },
   "outputs": [],
   "source": [
    "config = {\n",
    "    'features': ['collision_energy', 'ionmode', 'adduct', 'spectrum_stats', 'atom_counts', 'value', \"retention_time\", 'ion_source', 'binned_peaks'],\n",
    "    'feature_attributes': {\n",
    "        'atom_counts': {\n",
    "            'top_n_atoms': 12,\n",
    "            'include_other': True,\n",
    "        },\n",
    "    },\n",
    "}"
   ]
  },
  {
   "cell_type": "code",
   "execution_count": 26,
   "id": "3e4d2d35f3c5e077",
   "metadata": {
    "ExecuteTime": {
     "end_time": "2025-02-14T13:40:10.539961Z",
     "start_time": "2025-02-14T13:40:10.538129Z"
    }
   },
   "outputs": [],
   "source": [
    "featurizer = SpectrumFeaturizer(config, mode='torch')"
   ]
  },
  {
   "cell_type": "code",
   "execution_count": 27,
   "id": "b1baf406d4a19229",
   "metadata": {
    "ExecuteTime": {
     "end_time": "2025-02-14T13:40:10.547084Z",
     "start_time": "2025-02-14T13:40:10.545373Z"
    }
   },
   "outputs": [],
   "source": [
    "file_json = \"/Users/macbook/CODE/Majer:MassSpecGym/data/candidates_generation/MassSpecGymMSn_retrieval_candidates_formula.json\""
   ]
  },
  {
   "cell_type": "code",
   "execution_count": 28,
   "id": "0c55c72b-6998-47c0-81ed-d1ac015f04c5",
   "metadata": {},
   "outputs": [],
   "source": [
    "# file_mgf = \"/Users/macbook/CODE/Majer:MassSpecGym/data/MSn/min_sample_trees.mgf\"\n"
   ]
  },
  {
   "cell_type": "code",
   "execution_count": 29,
   "id": "4abdab9e026ffb09",
   "metadata": {
    "ExecuteTime": {
     "end_time": "2025-02-14T14:09:13.165710Z",
     "start_time": "2025-02-14T13:40:10.552565Z"
    }
   },
   "outputs": [
    {
     "name": "stdout",
     "output_type": "stream",
     "text": [
      "Total valid indices: 16476\n",
      "MSnRetrievalDataset length: 16476\n",
      "Precomputing candidate-side transformations using multiprocessing.Pool with chunking and writing to HDF5...\n",
      "Using 8 worker processes for precomputation.\n"
     ]
    },
    {
     "name": "stderr",
     "output_type": "stream",
     "text": [
      "Processing chunks: 100%|██████████| 33/33 [15:53<00:00, 28.90s/it]  \n"
     ]
    },
    {
     "name": "stdout",
     "output_type": "stream",
     "text": [
      "Precomputation complete. Cache saved to /Users/macbook/CODE/Majer:MassSpecGym/data/candidates_generation/MassSpecGymMSn_retrieval_candidates_formula.h5\n"
     ]
    }
   ],
   "source": [
    "# Init hyperparameters\n",
    "n_peaks = 60\n",
    "fp_size = 4096\n",
    "batch_size = 12\n",
    "\n",
    "# Load dataset\n",
    "dataset_msn = MSnRetrievalDataset(\n",
    "    pth=file_mgf,\n",
    "    candidates_pth=file_json,\n",
    "    featurizer=featurizer,\n",
    "    mol_transform=MolFingerprinter(fp_size=fp_size),\n",
    "    max_allowed_deviation=0.005\n",
    ")\n"
   ]
  },
  {
   "cell_type": "code",
   "execution_count": 31,
   "id": "313e58fab0155c4b",
   "metadata": {
    "ExecuteTime": {
     "end_time": "2025-02-14T14:09:13.184801Z",
     "start_time": "2025-02-14T14:09:13.182586Z"
    }
   },
   "outputs": [],
   "source": [
    "# Init data module\n",
    "data_module_msn = MassSpecDataModule(\n",
    "    dataset=dataset_msn,\n",
    "    batch_size=batch_size,\n",
    "    split_pth=split_file,\n",
    "    num_workers=0,\n",
    ")"
   ]
  },
  {
   "cell_type": "code",
   "execution_count": 32,
   "id": "af9eb30cc9d0b54f",
   "metadata": {
    "ExecuteTime": {
     "end_time": "2025-02-14T14:09:21.055827Z",
     "start_time": "2025-02-14T14:09:20.937795Z"
    }
   },
   "outputs": [
    {
     "name": "stdout",
     "output_type": "stream",
     "text": [
      "Train dataset size: 12536\n",
      "Val dataset size: 1952\n"
     ]
    }
   ],
   "source": [
    "data_module_msn.prepare_data()\n",
    "data_module_msn.setup()\n",
    "\n",
    "train_loader_msn = data_module_msn.train_dataloader()"
   ]
  },
  {
   "cell_type": "code",
   "execution_count": 33,
   "id": "511d947bf9b25fcd",
   "metadata": {
    "ExecuteTime": {
     "end_time": "2025-02-14T14:09:24.598290Z",
     "start_time": "2025-02-14T14:09:23.587363Z"
    }
   },
   "outputs": [
    {
     "name": "stdout",
     "output_type": "stream",
     "text": [
      "__getitem__ timing breakdown for idx 6384:\n",
      "  Map valid index: 0.02 ms\n",
      "  Parent __getitem__: 501.26 ms\n",
      "  Retrieve SMILES: 0.01 ms\n",
      "  Set SMILES: 0.00 ms\n",
      "  Candidate SMILES lookup: 0.03 ms\n",
      "  HDF5 group lookup: 0.83 ms\n",
      "  Mol retrieval from HDF5: 0.40 ms\n",
      "  Mol tensor conversion: 0.37 ms\n",
      "  Candidates retrieval from HDF5: 12.47 ms\n",
      "  Candidates tensor conversion: 0.02 ms\n",
      "  Labels retrieval from HDF5: 0.24 ms\n",
      "  Labels conversion: 0.00 ms\n",
      "  Total __getitem__: 515.65 ms\n",
      "[PROFILE] __getitem__ took 0.515795 seconds\n",
      "__getitem__ timing breakdown for idx 14760:\n",
      "  Map valid index: 0.01 ms\n",
      "  Parent __getitem__: 29.54 ms\n",
      "  Retrieve SMILES: 0.00 ms\n",
      "  Set SMILES: 0.00 ms\n",
      "  Candidate SMILES lookup: 0.03 ms\n",
      "  HDF5 group lookup: 0.46 ms\n",
      "  Mol retrieval from HDF5: 0.48 ms\n",
      "  Mol tensor conversion: 0.03 ms\n",
      "  Candidates retrieval from HDF5: 8.17 ms\n",
      "  Candidates tensor conversion: 0.01 ms\n",
      "  Labels retrieval from HDF5: 0.16 ms\n",
      "  Labels conversion: 0.00 ms\n",
      "  Total __getitem__: 38.89 ms\n",
      "[PROFILE] __getitem__ took 0.038946 seconds\n",
      "__getitem__ timing breakdown for idx 10260:\n",
      "  Map valid index: 0.01 ms\n",
      "  Parent __getitem__: 24.88 ms\n",
      "  Retrieve SMILES: 0.01 ms\n",
      "  Set SMILES: 0.00 ms\n",
      "  Candidate SMILES lookup: 0.02 ms\n",
      "  HDF5 group lookup: 0.08 ms\n",
      "  Mol retrieval from HDF5: 0.45 ms\n",
      "  Mol tensor conversion: 0.04 ms\n",
      "  Candidates retrieval from HDF5: 12.53 ms\n",
      "  Candidates tensor conversion: 0.01 ms\n",
      "  Labels retrieval from HDF5: 0.35 ms\n",
      "  Labels conversion: 0.00 ms\n",
      "  Total __getitem__: 38.36 ms\n",
      "[PROFILE] __getitem__ took 0.038411 seconds\n",
      "__getitem__ timing breakdown for idx 5744:\n",
      "  Map valid index: 0.01 ms\n",
      "  Parent __getitem__: 25.00 ms\n",
      "  Retrieve SMILES: 0.01 ms\n",
      "  Set SMILES: 0.00 ms\n",
      "  Candidate SMILES lookup: 0.03 ms\n",
      "  HDF5 group lookup: 0.41 ms\n",
      "  Mol retrieval from HDF5: 0.23 ms\n",
      "  Mol tensor conversion: 0.03 ms\n",
      "  Candidates retrieval from HDF5: 13.17 ms\n",
      "  Candidates tensor conversion: 0.01 ms\n",
      "  Labels retrieval from HDF5: 0.21 ms\n",
      "  Labels conversion: 0.00 ms\n",
      "  Total __getitem__: 39.10 ms\n",
      "[PROFILE] __getitem__ took 0.039147 seconds\n",
      "__getitem__ timing breakdown for idx 4172:\n",
      "  Map valid index: 0.00 ms\n",
      "  Parent __getitem__: 25.03 ms\n",
      "  Retrieve SMILES: 0.00 ms\n",
      "  Set SMILES: 0.00 ms\n",
      "  Candidate SMILES lookup: 0.02 ms\n",
      "  HDF5 group lookup: 0.78 ms\n",
      "  Mol retrieval from HDF5: 0.32 ms\n",
      "  Mol tensor conversion: 0.04 ms\n",
      "  Candidates retrieval from HDF5: 12.47 ms\n",
      "  Candidates tensor conversion: 0.01 ms\n",
      "  Labels retrieval from HDF5: 0.16 ms\n",
      "  Labels conversion: 0.00 ms\n",
      "  Total __getitem__: 38.83 ms\n",
      "[PROFILE] __getitem__ took 0.038876 seconds\n",
      "__getitem__ timing breakdown for idx 7700:\n",
      "  Map valid index: 0.00 ms\n",
      "  Parent __getitem__: 24.43 ms\n",
      "  Retrieve SMILES: 0.00 ms\n",
      "  Set SMILES: 0.00 ms\n",
      "  Candidate SMILES lookup: 0.02 ms\n",
      "  HDF5 group lookup: 0.67 ms\n",
      "  Mol retrieval from HDF5: 0.66 ms\n",
      "  Mol tensor conversion: 0.04 ms\n",
      "  Candidates retrieval from HDF5: 12.63 ms\n",
      "  Candidates tensor conversion: 0.01 ms\n",
      "  Labels retrieval from HDF5: 0.32 ms\n",
      "  Labels conversion: 0.00 ms\n",
      "  Total __getitem__: 38.77 ms\n",
      "[PROFILE] __getitem__ took 0.038824 seconds\n",
      "__getitem__ timing breakdown for idx 10142:\n",
      "  Map valid index: 0.01 ms\n",
      "  Parent __getitem__: 24.21 ms\n",
      "  Retrieve SMILES: 0.00 ms\n",
      "  Set SMILES: 0.00 ms\n",
      "  Candidate SMILES lookup: 0.01 ms\n",
      "  HDF5 group lookup: 0.31 ms\n",
      "  Mol retrieval from HDF5: 0.23 ms\n",
      "  Mol tensor conversion: 0.04 ms\n",
      "  Candidates retrieval from HDF5: 12.65 ms\n",
      "  Candidates tensor conversion: 0.01 ms\n",
      "  Labels retrieval from HDF5: 0.16 ms\n",
      "  Labels conversion: 0.00 ms\n",
      "  Total __getitem__: 37.64 ms\n",
      "[PROFILE] __getitem__ took 0.037718 seconds\n",
      "__getitem__ timing breakdown for idx 11982:\n",
      "  Map valid index: 0.00 ms\n",
      "  Parent __getitem__: 27.92 ms\n",
      "  Retrieve SMILES: 0.00 ms\n",
      "  Set SMILES: 0.00 ms\n",
      "  Candidate SMILES lookup: 0.02 ms\n",
      "  HDF5 group lookup: 0.09 ms\n",
      "  Mol retrieval from HDF5: 0.46 ms\n",
      "  Mol tensor conversion: 0.04 ms\n",
      "  Candidates retrieval from HDF5: 5.72 ms\n",
      "  Candidates tensor conversion: 0.01 ms\n",
      "  Labels retrieval from HDF5: 0.38 ms\n",
      "  Labels conversion: 0.00 ms\n",
      "  Total __getitem__: 34.65 ms\n",
      "[PROFILE] __getitem__ took 0.034705 seconds\n",
      "__getitem__ timing breakdown for idx 8475:\n",
      "  Map valid index: 0.00 ms\n",
      "  Parent __getitem__: 25.43 ms\n",
      "  Retrieve SMILES: 0.00 ms\n",
      "  Set SMILES: 0.00 ms\n",
      "  Candidate SMILES lookup: 0.02 ms\n",
      "  HDF5 group lookup: 0.08 ms\n",
      "  Mol retrieval from HDF5: 0.20 ms\n",
      "  Mol tensor conversion: 0.03 ms\n",
      "  Candidates retrieval from HDF5: 12.25 ms\n",
      "  Candidates tensor conversion: 0.01 ms\n",
      "  Labels retrieval from HDF5: 0.39 ms\n",
      "  Labels conversion: 0.00 ms\n",
      "  Total __getitem__: 38.42 ms\n",
      "[PROFILE] __getitem__ took 0.038477 seconds\n",
      "__getitem__ timing breakdown for idx 11833:\n",
      "  Map valid index: 0.00 ms\n",
      "  Parent __getitem__: 24.95 ms\n",
      "  Retrieve SMILES: 0.00 ms\n",
      "  Set SMILES: 0.00 ms\n",
      "  Candidate SMILES lookup: 0.02 ms\n",
      "  HDF5 group lookup: 0.09 ms\n",
      "  Mol retrieval from HDF5: 0.46 ms\n",
      "  Mol tensor conversion: 0.03 ms\n",
      "  Candidates retrieval from HDF5: 13.07 ms\n",
      "  Candidates tensor conversion: 0.01 ms\n",
      "  Labels retrieval from HDF5: 0.16 ms\n",
      "  Labels conversion: 0.00 ms\n",
      "  Total __getitem__: 38.79 ms\n",
      "[PROFILE] __getitem__ took 0.038840 seconds\n",
      "__getitem__ timing breakdown for idx 2959:\n",
      "  Map valid index: 0.01 ms\n",
      "  Parent __getitem__: 25.43 ms\n",
      "  Retrieve SMILES: 0.01 ms\n",
      "  Set SMILES: 0.00 ms\n",
      "  Candidate SMILES lookup: 0.02 ms\n",
      "  HDF5 group lookup: 0.07 ms\n",
      "  Mol retrieval from HDF5: 0.19 ms\n",
      "  Mol tensor conversion: 0.03 ms\n",
      "  Candidates retrieval from HDF5: 12.93 ms\n",
      "  Candidates tensor conversion: 0.01 ms\n",
      "  Labels retrieval from HDF5: 0.24 ms\n",
      "  Labels conversion: 0.00 ms\n",
      "  Total __getitem__: 38.94 ms\n",
      "[PROFILE] __getitem__ took 0.039002 seconds\n",
      "__getitem__ timing breakdown for idx 15842:\n",
      "  Map valid index: 0.00 ms\n",
      "  Parent __getitem__: 28.24 ms\n",
      "  Retrieve SMILES: 0.00 ms\n",
      "  Set SMILES: 0.00 ms\n",
      "  Candidate SMILES lookup: 0.04 ms\n",
      "  HDF5 group lookup: 0.11 ms\n",
      "  Mol retrieval from HDF5: 0.24 ms\n",
      "  Mol tensor conversion: 0.04 ms\n",
      "  Candidates retrieval from HDF5: 0.46 ms\n",
      "  Candidates tensor conversion: 0.01 ms\n",
      "  Labels retrieval from HDF5: 0.18 ms\n",
      "  Labels conversion: 0.00 ms\n",
      "  Total __getitem__: 29.33 ms\n",
      "[PROFILE] __getitem__ took 0.029392 seconds\n",
      "[PROFILE] collate_fn took 0.015435 seconds\n",
      "{'spec': DataBatch(x=[174, 1039], edge_index=[2, 324], batch=[174], ptr=[13]), 'mol': tensor([[0., 0., 0.,  ..., 0., 0., 0.],\n",
      "        [0., 0., 0.,  ..., 0., 0., 0.],\n",
      "        [0., 0., 0.,  ..., 0., 0., 0.],\n",
      "        ...,\n",
      "        [0., 0., 0.,  ..., 0., 0., 0.],\n",
      "        [0., 0., 0.,  ..., 0., 0., 0.],\n",
      "        [0., 0., 0.,  ..., 0., 0., 0.]]), 'precursor_mz': tensor([413.1642, 304.2999, 382.2026, 337.2023, 393.0737, 402.1482, 397.1329,\n",
      "        358.1777, 358.2489, 385.2373, 469.1857, 695.3424]), 'adduct': ['[M+H]+', '[M]+', '[M+H]+', '[M+H]+', '[M+H]+', '[M+H]+', '[M+H]+', '[M+H]+', '[M+H]+', '[M+H]+', '[M+H-H2O]+', '[M+H]+'], 'identifier': ['0039149_0000000', '0090271_0000000', '0062970_0000000', '0035188_0000000', '0025403_0000000', '0047232_0000000', '0062236_0000000', '0073480_0000000', '0051923_0000000', '0072588_0000000', '0017855_0000000', '0096736_0000000'], 'mol_freq': tensor([1., 2., 1., 1., 1., 1., 1., 2., 1., 1., 2., 1.]), 'smiles': ['CN(CC(=O)NC1CCCC1)S(=O)(=O)C2=CC3=C(C=C2)N=C(N3)C4=CC=CC=C4', 'CCCCCCCCCCCCCCCC[N+]1=CC=CC=C1', 'CN1CCN(CC1)C2=NN=C(C(=C2)C3=CC=NC=C3)C4=CC5=CC=CC=C5C=C4', 'CC(C)CN1C2=C(C=CC=N2)N=C1C3=CC(=CC=C3)C(=O)NC(C)C', 'CCCCN1C(=O)C2=C(C=C(S2)C3=CC=C(C=C3)F)N=C1SCC(=O)O', 'CCOC1=C(C=C(C=C1)NC(=O)C)S(=O)(=O)NCCC2=CNC3=CC=CC=C32', 'COC1=C(C=CC(=C1)N2CCOCC2)NC(=O)C3=CSC(=N3)C4=CN=CC=C4', 'C[C@H](C1=CC=CC2=CC=CC=C21)NCCCC3=CC(=CC=C3)C(F)(F)F', 'C1CCC(CC1)NC(=O)N[C@@H](CC2=CC=CC=C2)C(=O)N3CCCCC3', 'C[C@]12CC[C@@H](C[C@H]1CC[C@@H]3[C@@H]2CC[C@]4([C@]35[C@H](O5)C[C@@H]4C6=COC(=O)C=C6)C)O', 'CC/C=C/C=C/C1(C(=O)C(=C(O1)OC)C(=O)C2C(C(=O)C3=CC(=C(C(=C3C2(C)O)O)O)OC)C)C', 'C1[C@H](CN([C@@H]1C(=O)N[C@@H](CCCN=C(N)N)C(=O)NCC(=O)N[C@@H](CC2=CNC3=CC=CC=C32)C(=O)N)C(=O)[C@H](CC4=CC=C(C=C4)F)N)O'], 'candidates': tensor([[0., 0., 0.,  ..., 0., 0., 0.],\n",
      "        [0., 0., 0.,  ..., 0., 0., 0.],\n",
      "        [0., 0., 0.,  ..., 0., 0., 0.],\n",
      "        ...,\n",
      "        [0., 0., 0.,  ..., 0., 0., 0.],\n",
      "        [0., 0., 0.,  ..., 0., 0., 0.],\n",
      "        [0., 0., 0.,  ..., 0., 0., 0.]]), 'labels': tensor([ True, False, False,  ..., False, False, False]), 'batch_ptr': tensor([256, 149, 256, 256, 256, 256, 256, 101, 256, 256, 256,   5],\n",
      "       dtype=torch.int32), 'candidates_smiles': ['CN(CC(=O)NC1CCCC1)S(=O)(=O)C2=CC3=C(C=C2)N=C(N3)C4=CC=CC=C4', 'CCn1c(SCC(=O)Nc2cc(OC)ccc2OC)nnc1-c1cccc(C)c1', 'CC(C)(C)OC(=O)C1NCCc2c1sc(NC(=O)CCc1cccnc1)c2C#N', 'O=C(NCCc1ncc2ccccn12)c1ccc(S(=O)(=O)N2CCCCC2)cc1', 'Cc1sc2ncn(CC(=O)Nc3ccc(CN4CCOCC4)cc3)c(=O)c2c1C', 'COc1ccccc1OC(C)c1nnc(SCC(=O)NCc2ccccc2)n1C', 'Cc1cc(C)n(-c2nc(C(=O)Nc3ccccc3OCC3CCCCO3)cs2)n1', 'COc1cccc(CNc2ncnc3sc(C(=O)NCC4CC4)c(C)c23)c1OC', 'Cc1ccc(S(=O)(=O)NC2CC2)cc1C(=O)NCCCc1nc2ccccc2[nH]1', 'O=C(C1CC1)N1CCc2c(nc([C@@H]3CCCCN3C(=O)c3cccs3)[nH]c2=O)C1', 'CC(=O)Nc1ccc(NS(=O)(=O)c2cn(-c3ccccc3)nc2C(C)(C)C)cc1', '[H]/N=C(\\\\N)C1=CC(=CC2CS(=O)(=O)CC(C=C3C=C(/C(N)=N/[H])C=CC3)C2=O)CC=C1', 'CCN(CCC(=O)O)C(=O)CCN(C)c1ncnc2sc(-c3ccccc3)cc12', 'Cc1ccccc1N(CC(=O)NCc1ccc(Cn2cccn2)cc1)S(C)(=O)=O', 'Cn1nc(-c2ccc(N3CCCCC3)c(NS(C)(=O)=O)c2)c2ccccc2c1=O', 'O=C(CCn1cnc2ccccc2c1=O)N1CCN(CC(O)c2cccs2)CC1', 'CCN(CC)S(=O)(=O)c1cc(C)c(C)c(NC(=O)c2cnc3ccccc3n2)c1', 'CC(=O)N(C)Cc1cccc(NC(=O)CCn2cnc3sc(C)c(C)c3c2=O)c1', 'Cc1cc(C)c(NC(=O)c2ccc3nc(NC(=O)OC(C)(C)C)sc3n2)c(C)c1', 'COCCN(CC(N)=O)CC(=O)Nc1ccc(-c2nc3ccc(C)cc3s2)cc1', 'O=S(=O)(c1ccc(CNCc2ccc(-n3ccnc3)cc2)cc1)N1CCOCC1', 'O=C(CCn1cnc2sccc2c1=O)NCC1CN(Cc2ccccc2)CCO1', 'CCCCc1ccc(NC(=O)c2cn[nH]c2S(=O)(=O)Nc2ccc(C)cc2)cc1', 'COC(=O)C(C)Sc1nnc(CCN)n1-c1ccc(OCc2ccccc2)cc1', 'Cc1cc(NC(=O)c2ccc(S(=O)(=O)N(C)c3ccccc3)cc2)n(C(C)C)n1', 'O=c1[nH]c(CCN2CCN(S(=O)(=O)Cc3ccccc3)CC2)nc2ccccc12', 'COc1cccc(CNc2ncnc3sc(C(=O)N4CCCC4)c(C)c23)c1OC', 'Cc1ccccc1-n1ncc(C(=O)NCCS(=O)(=O)NCc2ccccc2)c1C', 'O=C(CN[C@H](c1ccccc1)c1cccs1)NN1C(=O)NC2(CCCCC2)C1=O', 'COC(=O)c1c(C)[nH]c(C(=O)C(C)Sc2nnc(-c3ccccc3C)n2C)c1C', 'CC(=O)N1Cc2cc(S(C)=O)ccc2C1C(=O)Nc1ccc(N2CCCC2)nc1', 'CC(C)[C@H](NC(=O)CSc1nnc2ccccn12)c1ccc2c(c1)OCCCO2', 'Cc1ccc(CN(CC(=O)NCc2ccc(-n3ccnc3)cc2)S(C)(=O)=O)cc1', 'CCOc1ccc(NC(=O)CSc2nnc(C)n2Cc2ccccc2)cc1OC', 'CC(C)NS(=O)(=O)Cc1ccccc1CNC(=O)c1ccc(-n2cccn2)cc1', 'COc1ccc(N2CCN(C(=O)c3ccc(CSc4nccn4C)o3)CC2)cc1', 'CCOc1cc(/C=N\\\\NC(=O)c2ccc3nc(SC(C)C)[nH]c3c2)ccc1OC', 'COc1ccc(OC)c(NC(=S)Nc2cnn(CCOCc3ccccc3)c2)c1', 'COc1ccc(-c2[nH]ncc2/C=N\\\\NS(=O)(=O)c2ccc(C(C)(C)C)cc2)cc1', 'N#CC(C(=O)CNC(=O)CC1CCCC1)c1nc2sc3c(c2c(=O)[nH]1)CCCC3', 'Cc1ccc(NC(=O)CSc2c(C(C)C)cnc3c2c(=O)n(C)c(=O)n3C)cc1', 'CCN(CC)S(=O)(=O)c1cccc(C(=O)Nc2cccc(-c3nccn3C)c2)c1', '[2H]C([2H])([2H])n1cc(-c2cc(S(C)(=O)=O)cnc2N2CCC3(CC2)CC3)c2cc[nH]c2c1=O', 'Cc1ccccc1NC(=S)NC1CCCC1N(C)C(=O)c1ccc([N+](=O)[O-])cc1', 'CCC(C)c1ccccc1OCc1nnc(NC(=O)Nc2cccc(OC)c2)s1', 'Nc1ccc(O)cc1C(SCC(=O)NCCCn1ccnc1)c1ccccc1O', 'Cc1ccc(NC(=O)Cc2nc(CN3C(=O)NC4(CCCCC4)C3=O)cs2)cc1', 'CC(C)Cc1nnc(C(=O)Nc2cccc(C(=O)N[C@@H](C)Cc3ccco3)c2)s1', 'COc1ccccc1CNC(=O)c1sc2ncnc(NC[C@H]3CCCO3)c2c1C', 'CC(C)(C)Cc1c(CN2C(=O)OC3(CCSCC3)C2=O)ncc2cc(C#N)[nH]c12', 'CCC1CC(Oc2cc(-c3csc(NC(C)=O)n3)nc3cc(OC)ccc23)CN1', 'CCCCc1nc2ccc(NC(=O)c3ccc4c(c3)CCN4S(C)(=O)=O)cc2[nH]1', 'CCCCc1ccc(S(=O)(=O)N/N=C\\\\c2cn(CC(N)=O)c3ccccc23)cc1', 'CC[C@@H](C)C(=O)Nc1cccc(CNC(=O)CCc2nc(-c3cccs3)no2)c1', 'COc1ccc(-c2cn3c(CC(=O)NCCCN4CCCC4=O)csc3n2)cc1', 'COc1ccc(OCCSc2nnc(CC(=O)Nc3ccccc3C)n2C)cc1', 'O=C(CCn1ccc2cc(S(=O)(=O)N3CCCC3)ccc21)NCc1cccnc1', 'CNc1nc(SC(C)C(=O)NCc2ccc(OC)c(OC)c2)nc2ccccc12', 'CCCc1noc(C2=C(C)CS[C@@H]3[C@H](NC(=O)Cc4ccc(C)cc4)C(=O)N23)n1', 'O=C(CN1C(=O)NC2(CCCCC2)C1=O)NC(Cc1ccsc1)c1cccnc1', 'COc1nc(C)cnc1NS(=O)(=O)c1cccnc1-c1ccc(CC(C)C)cc1', 'CCn1c(C2CCCN2C(=O)Nc2ccc(S(C)(=O)=O)cc2)nc2ccccc21', 'Cc1[nH]c2ccccc2c1C(=O)Nc1cccc(S(=O)(=O)N2CCN(C)CC2)c1', 'Cc1ccc(S(=O)(=O)N2CCN(CC(=O)Nc3ccccc3C#N)CC2)cc1C', 'O=C(C1CC1)N1CCc2c(nc(C3CCCCN3C(=O)c3cccs3)[nH]c2=O)C1', 'CCn1c(=O)c(=O)[nH]c2cc(C(=O)NC[C@@H](c3cccs3)N3CCCC3)ccc21', 'COc1ccc(C2C3=C(CC(C)(C)CC3=O)Nc3nc(=S)[nH]c(N)c32)cc1OC', 'CCCCn1nc(C(=O)N(CC2CCCO2)c2nc3ccccc3s2)ccc1=O', 'CN(Cc1cccs1)C(=O)CCn1c(=O)c(N2CCOCC2)nc2ccccc21', 'Cc1cc(NC(=O)c2ccco2)sc1C(=O)Nc1cc(CC2CCCCC2)[nH]n1', 'O=S(=O)(Nc1nc2ccccc2nc1NC1CCCC1CCO)c1ccccc1', 'Cc1cccc2c(C[C@H](C)NS(=O)(=O)c3ccc4c(c3)n(C)c(=O)n4C)c[nH]c12', 'CCCCn1c(SCC(=O)Nc2cccc(C(C)=O)c2)nc2cc(C)[nH]c2c1=O', 'CC(C)NC(=O)c1sc2ccccc2c1[C@H]1CN(C(=O)c2cnn(C)c2)CCO1', 'COCCN(CC(=O)Nc1ccccc1SC)Cc1nc2ccccc2c(=O)[nH]1', 'CCOC(=O)NC1CCCN(Cc2cc(=O)n3c(-c4ccccc4)csc3n2)C1', 'Cc1ccc(C(=O)NC(=S)NNC(=O)CCC(=O)Nc2ccc(C)cc2C)cc1', 'CSCCC(NC(N)=O)C(=O)Nc1ccc(C(=O)N2CCc3ccccc32)cc1', 'CCOc1cc2nc(C3CCOCC3)cn2cc1NC(=O)c1csc(C2CC2)n1', 'NS(=O)(=O)c1ccccc1CN1CCN(C(=O)Cc2c[nH]c3ccccc23)CC1', 'Cc1cccc(-n2c(SCC(=O)N3CCOCC3)nnc2-c2ccoc2C)c1C', 'CCn1c(=O)c(=CNc2ccc(CCN3CCCC3)cc2)sc1=C(C#N)C(=O)O', 'Cc1ccc(C(=O)Nc2ccc(CC#N)cc2)cc1S(=O)(=O)N1CCN(C)CC1', 'Cc1ccc(C(C(=O)NC(C)(C)C)N(C(=O)c2csnn2)c2ccccc2C)o1', 'N#CCCNS(=O)(=O)c1ccc(C(=O)NCC2CCN(c3ccccc3)C2)cc1', 'CCOc1ccc2nc(NC(=O)C(NC(=O)Nc3ccccc3)C(C)C)sc2c1', 'O=C(O)CCN1CCN(CCc2ccc(Oc3nc4ncccc4s3)cc2)CC1', 'CCC(C)(C)NC(=O)[C@@H](c1ccc(C)o1)N(C(=O)c1csnn1)c1ccccc1', 'CCOc1ccc(-c2n[nH]c(=S)n2CCC(=O)Nc2cc(C)ccc2OC)cc1', 'COc1ccc(OC)c(C(=O)CSc2nnc(CC(C)c3ccccc3)n2N)c1', 'CC#C[C@H]1CN(S(=O)(=O)c2ccc(N)nc2)CCN1c1ccc(CC(C)=O)cc1', 'CN(C)S(=O)(=O)c1ccc(N2CCCCC2)c(C(=O)Nc2cccc(C#N)c2)c1', 'COc1ccc(C(=O)CSc2nnc(C[C@H](C)c3ccccc3)n2N)c(OC)c1', 'CCCNS(=O)(=O)c1cccc(C(=O)NC(C)c2ccc(-n3ccnc3)cc2)c1', 'CCNC(=O)C[C@@H]1C(=O)N(c2ccc(OC)cc2)C(=S)N1CCc1ccncc1', 'COc1cccc(S(=O)(=O)NCC2Cn3cccc3CN2Cc2cccnc2)c1', 'C/C=C\\\\C(=C\\\\NC(C)=O)SOONC1=NC(c2ccccc2)=C/C(=C/C=C\\\\N)C1', 'COc1ccc(-c2c(C)sc3c(N4CC[C@@H](NC(C)=O)C4)ncnc23)cc1OC', 'O=C(CCN1C(=O)NC2(CCCCC2)C1=O)NCc1csc(-c2ccccc2)n1', 'CCOC(=O)c1c(NC(=O)Cn2nnc3cc(C)c(C)cc32)sc2c1CCCC2', 'N#C[C@H](C(=O)CNC(=O)CC1CCCC1)c1nc2sc3c(c2c(=O)[nH]1)CCCC3', 'CCC(C)(C)NC(=O)[C@H](c1ccco1)N(C(=O)c1csnn1)c1ccc(C)cc1', 'CC[C@H](C)n1c(O)c(C=C2N=c3ccccc3=C2CCNC(C)=O)c(=O)[nH]c1=S', 'COCCOc1ccc(NC(=O)N2CCCC[C@H]2c2nc3ccccc3s2)cn1', 'CCC(C)C(NC(=O)c1ccc(CNc2ncnc3sc(C)cc23)cc1)C(=O)O', 'CC(C)c1ccc(C(=O)Nc2sccc2C(=O)N2CCN3C(=O)NCC3C2)cc1', 'CCC(=O)c1ccc(OCC(O)CSc2nnnn2-c2cccc(C)c2C)cc1', 'CCCCCOc1ccc(/C=N\\\\NC(=O)c2ccc3[nH]c(=S)[nH]c3c2)cc1OC', 'CCCn1nc(C)cc1CN(C)c1ccc(NC(=O)c2cccs2)cc1C(=O)O', 'CNS(=O)(=O)c1ccc(C)c(C(=O)N2CCC(c3c[nH]c4ncccc34)CC2)c1', 'Cc1cccc(C(=O)Nc2ccc(C(=O)NNC(=S)NC(=O)C(C)(C)C)cc2)c1', 'Cn1ccc2cc(S(=O)(=O)N3CCCC(C(=O)NCc4cccnc4)C3)ccc21', 'Cc1ccc(C)c(N(C(=O)c2csnn2)[C@@H](C(=O)NC(C)(C)C)c2ccco2)c1', 'COc1ccccc1NC(=O)CSc1nnc(-c2ccco2)n1C1CCCCC1', 'COc1ccccc1C(NC(=O)CCCNC(=O)c1ccsc1)c1nccn1C', 'COCCCn1c(SCC(=O)NC(c2ccccc2)c2ccccc2)n[nH]c1=O', 'Cc1cc(C)cc(N(C(=O)c2csnn2)C(C(=O)NC(C)(C)C)c2ccco2)c1', 'CCn1c(SCC(=O)NCc2cccc(OC)c2)nnc1-c1ccc(OC)cc1', 'COc1ccc(Nc2nc(C(=O)NCc3ccc(C(C)(C)C)[nH]c3=O)cs2)cc1', 'Cc1cc(C)c2sc(N(CCCN(C)C)C(=O)c3cccc([N+](=O)[O-])c3)nc2c1', 'CCc1cccc(CC)c1NC(=O)C(C)n1cnc2sc(C(N)=O)c(C)c2c1=O', 'Cc1ccc(Cn2c(CCN)nnc2S(=O)(=O)CCC(=O)c2ccccc2)cc1', 'COCCOc1cc(C(=O)N[C@H](C)c2cnc(C)nc2)cc(-c2ncc(C)s2)c1', 'CCn1c(S[C@H](C)C(=O)c2[nH]c(C)c(C(=O)OC)c2C)nnc1-c1ccccc1', 'CC(=NS(=O)(=O)N1CCOCC1)N1CC(c2ccccc2)C(c2ccccc2)=N1', 'CCOC(=O)C1CCN(Cn2nc(-c3ccco3)n(-c3ccccc3)c2=S)CC1', 'CCn1c(SCC(=O)NCc2ccc(OC)cc2)nnc1-c1cccc(OC)c1', 'COc1ccc(-c2n[nH]c(=S)n2CCC(=O)N(C)CCOc2ccccc2)cc1', 'COc1ccccc1NC(=O)CN1CCN(Cc2nc(-c3ccco3)cs2)CC1', 'COc1ccccc1-n1nc2c(c1-c1ccc(C)nc1)CN(S(=O)(=O)C(C)C)C2', 'CS(=O)(=O)N1CCN(c2ccc3ccc(C(=O)NCc4ccccc4)cn23)CC1', 'CC(CNC(=O)Cc1csc(NC(=O)c2ccco2)n1)N(C)Cc1ccccc1', 'C=CCn1/c(=N/C(=O)c2cc(C)nn2C(C)C)sc2cc(C(=O)OCC)ccc21', 'CCc1cc(-c2n[nH]c(=S)n2-c2ccc(CN3CCOCC3)cc2)c(O)cc1O', 'CC(C)[C@H](NC(=O)c1cccc(S(=O)(=O)NC2CC2)c1)c1nc2ccccc2[nH]1', 'COc1ccc(N2CCOCC2)c2sc(NC(=O)NCCc3ccccc3)nc12', 'Cc1c(CNC(=O)C2CCC(NC(=O)c3csc(N)n3)CC2)oc2ccccc12', 'COc1ccc(S(=O)(=O)NCc2cc(-c3ccncc3)n(C3CCCC3)n2)cc1', 'COCc1nc2sc(N3CCC[C@@H]3C(=O)CCc3ccccc3)nc2c(=O)n1C', 'O=C(CC1CSc2nc3c(c(=O)n21)CCC3)N1CCCC(Oc2ccncc2)C1', 'CC(C)(C)OC(=O)N1CCC(c2csc(-c3ccc4cn[nH]c(=O)c4c3)n2)CC1', 'CCn1c(SCC(=O)Nc2ccccc2C)nnc1-c1ccc(OC)c(OC)c1', 'Cc1nc2ccccc2n1CCCNC(=O)/C=C/c1ccc(NS(C)(=O)=O)cc1', 'Cc1ccc(S(=O)(=O)Nc2nccnc2OCCN(C)Cc2ccccc2)cc1', 'O=C(CN1CCCc2ccccc21)Nc1cccc(S(=O)(=O)NC2=NCCC2)c1', 'CCn1c(SCC(=O)Nc2ccc(OC)cc2OC)nnc1-c1ccc(C)cc1', 'O=C(CCc1nnc(-c2ccsc2)o1)N(CCN1CCOCC1)c1ccccc1', 'CCn1c(=O)n(CCC(=O)NNC(=O)CSc2ccc(C)cc2)c2ccccc21', 'C[C@H](Cc1cccs1)NC(=O)Cn1cc(NC(=O)CCOc2ccccc2)cn1', 'CCn1c(CNS(=O)(=O)c2ccc3c(c2)C[C@@H](C)N3C(C)=O)nc2ccccc21', 'CCOCCOc1ccccc1C(=O)N1CCN(c2nc3cccnc3s2)CC1', 'CC(C)CC(=O)Nc1ccc(-c2cn3c(C(=O)N4CCOCC4)csc3n2)cc1', 'Cc1ccc(S(=O)(=O)Nc2ccc(C(=O)N(C)Cc3cnn(C)c3)cc2)cc1C', 'Cc1sc(NC(=O)CCc2nc(C(C)(C)C)no2)c(C(N)=O)c1-c1ccccc1', 'Cc1cc(-c2ccc3ncc(N4CCN(S(C)(=O)=O)CC4)nc3c2)cc(C)c1O', 'Cc1csc2nc(CNc3ccc(C(=O)N4CC(C)OC(C)C4)cc3)cc(=O)n12', 'Cc1ccc(C)c(NC(=O)CSc2nnc(-c3ccco3)n2CC2CCCO2)c1', 'CCOc1ccc(/C=N\\\\n2c(-c3cccc(OC(C)C)c3)n[nH]c2=S)cc1OC', 'Cc1ccccc1N(CC(=O)N(C)Cc1cnn(-c2ccccc2)c1)S(C)(=O)=O', 'CCS(=O)(=O)Nc1cc(C(=O)N2CCCC2)c2c(c1)nc(-c1ccccc1)n2C', 'Cc1ccc(C(=O)NC(=S)Nc2ccc(N3CCCCC3C)cc2)cc1[N+](=O)[O-]', 'CCOC(=O)c1[nH]c(C)c(C(=O)CSc2nnc(C)n2-c2ccccc2C)c1C', 'CCC(NC(=O)CCN(C)c1nc(C)nc2sc(-c3ccccc3)cc12)C(=O)O', 'O=C(CCCS(=O)(=O)N1CCCC1)Nc1nc2ccccc2n1-c1ccccc1', 'CS(=O)(=O)CCNC(=O)c1ccc(N2CCC3(C=Cc4ccccc43)CC2)nn1', 'Cc1sc2ncn(CC3(O)CCN(C(=O)Cc4ccccn4)CC3)c(=O)c2c1C', 'CCC1(C)CN(c2nc3ccccc3nc2NS(=O)(=O)c2ccccc2)CCO1', 'COc1ccccc1OCCc1cc([C@@H]2CCN(C(=O)c3scnc3C)C2)n[nH]1', 'COc1cc(C=NNC(=S)NC2CCCCC2)ccc1OC(=O)c1cccnc1', 'CCCOc1ccc(C(=O)N2CCN(Cc3nc(-c4cccs4)no3)CC2)cc1', 'CCN1c2cc(OC)ccc2C(C#N)C1c1ccc(N2CCN(C)S2(=O)=O)cc1', 'Cc1ccccc1C(=O)Nc1ccc(C(=O)NNC(=S)NC(=O)C(C)(C)C)cc1', 'CN(C)S(=O)(=O)c1cccc(C(=O)N2CCC[C@H](c3nc4ccccc4[nH]3)C2)c1', 'COc1ccc(-n2c(C)nnc2SCC(=O)NCCOc2cccc(C)c2)cc1', 'O=C(NCCc1cn2ccccc2n1)c1ccccc1S(=O)(=O)N1CCCCC1', 'CC(C)(C)C(=O)c1c[nH]c2ncc(-c3ccc(CNS(=O)(=O)C4CC4)cc3)nc12', 'COc1cccc(NC(=O)CSc2nnc(COc3c(C)cccc3C)n2C)c1', 'CCc1ccccc1NC(=S)NC(=O)c1ccc(N2CCCCC2)c([N+](=O)[O-])c1', 'COCCOc1ccc(NC(=O)[C@@H]2CCCN(c3nc4ccccc4s3)C2)cn1', 'COc1cc2ncn(Cc3ccc4c(c3)SC(NC3CCOC3)N4)c2cc1OC', 'O=C(CN1CCCCC1)Nc1ccc(/N=C2\\\\SCC(=O)N2Cc2ccco2)cc1', 'Cc1ccc(N(CCC(=O)Nc2ccn(C)n2)S(=O)(=O)c2ccc(C)cc2)cc1', 'CCOc1ccccc1NC(=O)CSc1nnc(-c2ccc(OC)cc2)n1CC', 'CCCCS(=O)(=O)N1C[C@@H](c2cccnc2)[C@H](c2nc(-c3ccccc3)no2)C1', 'COc1ccccc1CNC(=O)C(=O)NC[C@H](c1ccsc1)n1nc(C)cc1C', 'COc1ccc(-c2nc(CC(=O)Nc3ccnn3C3CCCC3)cs2)cc1OC', 'COc1ccc(-c2n[nH]c(=S)n2CC(=O)NCCc2cc(C)ccc2OC)cc1', 'Cc1ccc(-c2nc(C(=O)NCc3ccc(N4CC(C)OC(C)C4)nc3)cs2)o1', 'CCn1c(=O)c(=O)[nH]c2cc(C(=O)NCC(c3cccs3)N3CCCC3)ccc21', 'COc1ccc(OC)c(C2CCCN2C(=O)CSc2nc(C)nc(C)c2C#N)c1', 'CCCc1cccc(OCC(=O)N(c2ccncn2)c2nc(C)cs2)c1OCC', 'CCOc1ccccc1[C@H](C[N+](=O)[O-])Sc1nnc(C)n1-c1ccc(C)c(C)c1', 'O=C(CCn1c(=O)[nH]c(=O)c2ccccc21)NCC(c1cccs1)N1CCCC1', 'Cc1ccc(S(=O)(=O)N2CCCCC2c2nc(C)ncc2-c2cc(C)no2)cc1', 'Cc1ccccc1NC(=O)CCn1cnc2cc(S(=O)(=O)N3CCCC3)ccc21', 'CSc1nc(C)c(CCC(=O)NCCCOc2cccc3cccnc23)c(=O)[nH]1', 'CC(C)c1ccc(-c2nc(C(=O)NN3C(=O)NC4(CCCCC4)C3=O)cs2)cc1', 'Cc1ccc(S(=O)(=O)NCCNC(=O)c2cc(C)n(-c3ccccn3)c2C)cc1', 'Cc1cccc(Cn2nccc2NC(=O)CN(c2ccccc2C)S(C)(=O)=O)c1', 'COc1ccc(-c2noc(CN3CCN(C(=O)CCc4ccsc4)CC3)n2)cc1', 'CN(CC1CCCCO1)c1nc2ccccc2nc1NS(=O)(=O)c1ccccc1', 'CCCS(=O)(=O)c1ccc(-c2ccccc2)c(NC(=O)Nc2ccn(CC)n2)c1', 'O=C1CN(c2ccc(NC(=O)c3ccccc3SC[C@H]3CCCO3)cn2)CCN1', 'CCCn1c(S[C@H](C)C(=O)Nc2ccc(OCc3ccccc3)cc2)n[nH]c1=O', 'Cc1nc(CN(C)C(=O)c2ccc(S(=O)(=O)NC(C)C)cc2)nc2ccccc12', 'CCc1ccc(NC(=O)CSc2nnc(COc3ccccc3OC)n2C)cc1', 'CCn1c(SC(C)C(=O)Nc2cccc(OC)c2)nnc1-c1ccc(OC)cc1', 'O=C(C[C@H]1NC(=O)N(CCc2ccccc2)C1=O)Nc1nc2c(s1)CCCCC2', 'Cc1ccc(-c2nnc(S(=O)(=O)CC(=O)NCCCc3ccccc3)n2C)cc1', 'CC[C@H]1CCc2ccccc2N1S(=O)(=O)c1ccc(OCc2ncnn2C)cc1', 'CC(C)c1ncc(C2N=C(c3cccc4c3CC3CC(=O)N(CCO)C43)NO2)s1', 'Cc1ccc(C(C)(C)C)cc1S(=O)(=O)Nc1ccc(C(=O)Nc2cn[nH]c2)cc1', 'O=S(O)Nc1nc2ccccc2nc1Nc1cc(O)ccc1CC1CCCCC1', 'CCn1c(SCC(=O)NCc2ccccc2OC)nnc1-c1ccc(OC)cc1', 'Cc1ccc(S(=O)(=O)N2CCCCC2)cc1C(=O)NCc1nc2ccccc2[nH]1', 'CC(=O)Nc1cc(C)nn1-c1ccc(NS(=O)(=O)c2c(C)cc(C)cc2C)cc1', 'C[C@H]1[C@H](NS(=O)(=O)N2CCN(c3nc4ccccc4o3)CC2)[C@H]1c1ccccc1', 'CCn1c(S[C@@H](C(=O)N2CCOCC2)c2ccccc2)nnc1-c1ccoc1C', 'Cc1csc(-c2[nH]c(CCCN3CCOCC3)nc2-c2ccc3c(c2)OCO3)n1', 'COc1ccc(C(=O)N2C[C@H](Oc3nccc(C#N)c3C)CC[C@H]2C)c(SC)n1', 'O=C(c1ccccc1-n1cccn1)N1CCCN(Cc2ccsc2)CC1.O=CO', 'COc1ccc(Oc2ncc(CN3CCc4nc(C(C)C)[nH]c(=O)c4C3)s2)cc1', 'COCCn1c(SCC(=O)c2c[nH]c(C(=O)N3CCCC3)c2)nc2ccccc21', 'CCc1ccc2nc(N(CCCN(C)C)C(=O)c3ccc([N+](=O)[O-])cc3)sc2c1', 'Cc1cccc(NS(=O)(=O)c2cc(NC(=O)c3c(C)nn(C)c3C)ccc2C)c1', 'CCOc1ccccc1-c1n[nH]c(=S)n1/N=C\\\\c1ccc(OC)c(OC(C)C)c1', 'CCOc1cc(-c2nnc3c4c(C)c(C)sc4ncn23)cc(OCC)c1OCC', 'COCCNC(=S)N(Cc1cccnc1)Cc1cc2cc(OC)ccc2[nH]c1=O', 'CCOC(=O)[C@H]1CCCCN1C(=O)CSc1nnc2cc(C)c3ccccc3n12', 'Cc1ccc(S(=O)(=O)NCC(NC(=O)c2cnn(C)c2)c2ccccc2)c(C)c1', 'CCc1cc2c(=O)n(CC(=O)Nc3cccc(C(=O)N(CC)CC)c3)cnc2s1', 'CC(C)(C)OC(=O)N1CCc2c(sc3ncn(CCc4ccccn4)c(=O)c23)C1', 'CN(CCCNC(=O)Nc1ccc(CN2C(=O)CSC2=O)cc1)c1ccccc1', 'c1csc(-c2ccc(OC3CCCOC3)c3nc(N4CC5CCC(C4)N5)oc23)n1', 'COc1ccc(OCc2nnc(SCC(=O)NCc3ccccc3C)n2C)cc1', 'COCCOc1ncccc1NC(=O)CSc1nccn1-c1cccc(C)c1C', 'CCNC(=O)OCC1CCc2c(sc(NC(=O)CCc3cccnc3)c2C#N)C1', 'COc1cccc(CSc2nc3ccncc3n2CC(=O)NC[C@@H]2CCCO2)c1', 'CCOC(=O)c1cnn(C)c1NC(=O)C(CC)Sc1cc(C)c2ccccc2n1', 'Cc1ccc(S(=O)(=O)CCC(=O)N(C)C(C)c2ccc(-n3cncn3)cc2)cc1', 'CCOc1ccc(-c2nc(C)c(C(=O)N3CCCC(c4nc(C)no4)C3)s2)cc1', 'CCc1ccc(S(=O)(=O)Nc2nccnc2OCCN(C)c2ccccc2)cc1', 'COc1ccccc1-c1cc(C(=O)Nc2nc(CN3CCC(C)CC3)cs2)no1', 'CC(C)n1ncc2cc(C(=O)Nc3ccc(S(=O)(=O)C4CCCC4)cc3)cnc21', 'COC(=O)Cc1csc(NC(=O)CN2CCC(c3c[nH]c4ccccc34)CC2)n1', 'Cc1ccc(S(=O)(=O)C2CCCC(C(=O)N(C)c3cnc4[nH]ccc4n3)C2)cc1', 'CC(=O)Nc1nc2ccc(-c3cncc(OCCCN4CCOCC4)c3)cc2s1', 'Cc1ccccc1-c1cc(C(=O)NC2CCS(=O)(=O)C2)c2cnn(C(C)C)c2n1', 'COCCn1c(C(C)NC(=O)Nc2ccc(SC)cc2)nc2ccccc2c1=O', 'O=S(=O)(Cc1ccccc1)N1CCCN(Cc2noc(-c3ccccc3)n2)CC1', 'O=C(CSc1nnc(-c2ccco2)n1C1CCCCC1)NOCc1ccccc1', 'COc1ccc(Cn2cccc2CN2CCc3nc(S(C)(=O)=O)ncc3C2)cc1', 'COc1ccc(-c2nc(C)c(C(=O)NCc3cccnc3N(C)C)s2)cc1OC', 'Cc1ncsc1CN1CC2(CCN(c3nc4ccccc4o3)CC2)OCCC1=O', 'NC(=O)C1=CCN(S(=O)(=O)c2ccc(-c3ccc(N4CCNCC4)cc3)cc2)C1', 'CCCCSCC(=O)Nc1ccc(-c2c3c(=O)[nH][nH]c(=O)c3c3n2CCC3)cc1', 'CCCCCCCCCCCCCCCC[N+]1=CC=CC=C1', 'C[NH+](C)CCCCCCCCCCCCCc1ccccc1', 'CC(C)(C)c1cccc(C[N+](C)(C)C(C)(C)C)c1C(C)(C)C', 'CCCCCCCCCCCCCCc1ccc[n+](C)c1C', 'CCCCCCCCCCCCCC[n+]1cccc(CC)c1', 'CCCCCCCCCCCCCCCc1cc[n+](C)cc1', 'CCCC[N+](CCCC)(CCCC)Cc1ccc(CC)cc1', 'CCCCCCCCCC[N+](CC)(CC)c1ccc(C)cc1', 'CCCCCCCCCCCCCc1cc[n+](CCC)cc1', 'CCCCCCCCC[N+](C)(C)CCCCc1ccccc1', 'CCCCCCCCCc1cc[n+](CCCCCCC)cc1', 'CCCCCCCCCCCC[n+]1ccc(CCCC)cc1', 'CCCCCCCCCCCCC(CCC)[n+]1ccccc1', 'CCCCC(CC)CC(CC)C[N+](C)(C)Cc1ccccc1', 'CCCCCCCCCC[N+](C)(C)C(C)(C)c1ccccc1', 'CCCCCC[n+]1cc(CCCCC)cc(CCCCC)c1', 'CCCCCCCCCCC[NH+](C)c1ccccc1C(C)C', '[2H]c1c([2H])c([2H])c(C[N+](C)(C)CCCCCCCCCCCC)c([2H])c1[2H]', 'CCCCC[N+](CCCCC)(CCCCC)c1ccccc1', 'CCCCCCCCC(CCC)c1ccccc1[N+](C)(C)C', 'CCCCCCCCCCCCC[n+]1ccc(CCC)cc1', 'CCCCCCCCCC[n+]1ccc(C(C)C)c(C(C)C)c1', 'CCCCCCCCCC[n+]1ccc(CCCCCC)cc1', 'CCCCCCCCCCCCC[NH+](C)c1ccc(C)cc1', 'CCCCCCCCCCCCCC[n+]1ccc(C)c(C)c1', 'CCCCCCCCCCCCCCc1cc[n+](CC)cc1', 'CC.CC.CC1C=[N+](c2c(C(C)C)cccc2C(C)C)CC1', 'CCCCCCCCCCCC(CCCC)[n+]1ccccc1', 'CC(C)(C)CCCCCCCCCCCC[n+]1ccccc1', 'CCCCCCCCCCCCCC[n+]1ccc(C)cc1C', 'CCC[N+](CCC)(CCC)C(CC)CCCc1ccccc1', 'CCCCCCCCCCCC[n+]1ccc(CC)c(CC)c1', 'CCCCCCCCCCC[NH+](C)c1c(C)cc(C)cc1C', 'CCCCCCCCCCCC[n+]1ccc(C(C)CC)cc1', 'CCCCCCCCc1cc[n+](CCCCCCCC)cc1', 'CCCCCCCCCC[N+](CC)(CC)c1ccccc1C', 'CCCCC[N+](C)(CCCCC)CCCCc1ccccc1', '[NH3+]CCCCCCCCCCCCCCCc1ccccc1', 'CCCCCCCCCC[n+]1cc(C(C)C)cc(C(C)C)c1', 'CC(C)c1ccccc1C(C)(C)[N+](C(C)C)(C(C)C)C(C)C', 'CCCCCCCCCCCCCCCCc1cc[nH+]cc1', 'CCCCCCCCCCC[C@@H](c1ccccc1)[N+](C)(C)C', 'CCCCCCCCCCCC[N+](C)(CC)c1ccccc1', 'CCCCCCCCCCCCCCc1ccc[n+](CC)c1', 'C=CC[N+](C1CCCCC1)(C1CCCCC1)C1CCCCC1', 'CCCCCCCCCCCCCC[n+]1ccccc1CC', 'CC[N+](CC)(CCC(C)(C)CC(C)(C)C)Cc1ccccc1', 'CCCCCCCc1cc[n+](CC)cc1CCCCCCC', 'CCCCCCCC[N+](CCC)(CCC)c1ccccc1C', 'CCCC[N+](C)(C)Cc1ccc(C(CC)CC(C)(C)C)cc1', 'CCCCCCCCCCC(C)CCC[n+]1cccc(C)c1', 'CCCCCCCCCCCCCC[n+]1cc(C)cc(C)c1', 'CCCCCCCCCCC[C@H](c1ccccc1)[N+](C)(C)C', 'CCCCCc1c(CCCC)cc(CCCC)c[n+]1CCC', 'CCCCCCCCC(CC)C[N+](C)(C)Cc1ccccc1', 'CCCCC(CC)CC[NH+](CC(C)CCC)c1ccccc1', 'CCCCCCCCCCCCC[n+]1cccc(C(C)C)c1', 'CCCCCCCCCCCCCC[n+]1c(C)cccc1C', 'CCCCCCCCCCCCC(C)CC[n+]1ccccc1', 'CCCCCCCCCCCCC[n+]1ccc(C(C)C)cc1', 'CCCCCCCCCCc1ccc[n+](CCCCCC)c1', 'C=CCCCCCCC.C=CC[N+](CC=C)(CC=C)CC=C', 'CCCCCC(C)C(CC(C)CCCC)c1cc[n+](C)cc1', 'CCCCCCCCCCCC[n+]1cc(CC)cc(CC)c1', 'CCCCCCCCCCCCCCCCc1ccc[nH+]c1', 'CCCCCCCC[n+]1cc(CCCC)cc(CCCC)c1', 'CC(C)CCCCCCCCCCCCC[n+]1ccccc1', 'CCCCCCCCCCCCCc1ccc[n+](CCC)c1', 'CCCCCCC[N+](CC)(CC)CCCCc1ccccc1', 'CCCC/C=[N+](/C=C1CCC1)C(CC)CC(CCC)=C(C)C', 'CCCCCCCCc1ccc[n+](CCCCCCCC)c1', 'CCCCCCCCCCCCc1ccc([N+](C)(C)C)cc1', 'CCCCCCCc1cccc[n+]1CC(C)CCCCCC', 'CCCCCCc1cc[n+](CCCC)cc1CCCCCC', 'CC12CC3CC(C)(C1)CC([N+](C)(C)CC1CCCCC1)(C3)C2', 'CCCCCCCc1cc(CCCCCCC)c[n+](CC)c1', 'CCCCCCCCCCC(C)[N+](C)(C)Cc1ccccc1', 'CCCCCCCCC[n+]1cccc(CCCCCCC)c1', 'CCCCCCCC[N+](CCC)(CCC)Cc1ccccc1', 'CCCCCCCCCCCCCCC[n+]1cccc(C)c1', 'CCCCCCCCCC[N+](CC)(CC)Cc1ccccc1', 'CCCCCCCCC[N+](C)(CCCC)Cc1ccccc1', 'C#CC[N+](CC=C)(CC=C)CCCCCCCCCCCC', 'CCCCCC[n+]1ccc(CCCCC)c(CCCCC)c1', 'CCCCCCCCCC[n+]1cccc(CCCCCC)c1', 'CCCCCCCCCCC[C@H](C)CCC[n+]1ccccc1', 'CCCCCCCCCCCCC[N+](C)(C)c1ccccc1', 'C=CC1=C/C(C)(C)/C=C\\\\C(C)(C)/C=C\\\\1[N+](C)(C)CCC.CC', 'CCCCCCc1cc(CCCCCC)c[n+](CCCC)c1', 'CCCCCCCCCCCCCc1cccc[n+]1CCC', 'CCCCCCCCCCCCCC[n+]1cccc(C)c1C', 'CCCCCCCCCC[n+]1ccccc1CCCCCC', 'CCCCCCCCCCCc1ccc[n+](CCCCC)c1', 'C1CCC([N+]2(C3CCCCC3)CCCC3CCCCC32)CC1', 'CCCCCCCCCCCC[NH+](CC)Cc1ccccc1', 'CCCCCCCCCCCC[n+]1cccc(CCCC)c1', 'CCCCCCCCCCCCCC(CC)[n+]1ccccc1', 'CCCCc1cc[n+](CCCC)c(CCCC)c1CCCC', 'CCCCCCCCCCCCc1ccc[n+](CCCC)c1', 'CCCCCCCC[N+](CCC)(CCC)c1ccc(C)cc1', 'CCCCCCCCCCCCCCC[n+]1ccc(C)cc1', 'CCCCCCCCCCC[n+]1ccc(CCCCC)cc1', 'CCCCCCCCCCCCc1cccc[n+]1CCCC', 'CCCCCCCCCCC[n+]1cccc(CCCCC)c1', 'CCCCCCCCCCCCCC[n+]1ccc(CC)cc1', 'CCCCCCCCCCCC[N+](C)(C)c1cccc(C)c1', 'CCCCCCCCCCCC(c1ccccc1)[N+](C)(C)C', 'CCCCCCCCCCCCCc1cc[n+](C(C)C)cc1', 'CCCCCCCCCCC(c1ccccc1)[N+](C)(C)CC', 'CCCCCCCCCCc1cc[n+](CCCCCC)cc1', 'CCCCCCCCCC[n+]1ccc(CCC)c(CCC)c1', 'CCCCCCCCCCCC[N+](C)(C)c1ccccc1C', 'CCCCCCCCCC[n+]1cc(CCC)cc(CCC)c1', 'CCCCCCCCCCCCCCCCN1C=CC=[C+]C1', 'CCCCCCCCCc1ccc[n+](CCCCCCC)c1', 'CCCCCCCCC[n+]1ccc(CCCCCCC)cc1', 'CC1CCCCC1C[NH+]1CCCC2C3CCCCC3CCC21', 'CCCCCCCCCCCc1cc[n+](CCCCC)cc1', 'CCCCCCCCCCCCc1ccccc1[N+](C)(C)C', 'CCCCCCCCCCCCc1cc[n+](CCCC)cc1', 'CC1CCCC(C[NH+]2CCCC3C4CCCCC4CCC32)C1', '[2H]c1c([2H])c([2H])c(C([2H])([2H])[N+](C)(C)CCCCCCCCCCCC)c([2H])c1[2H]', 'CCCCCCCCCCCCCC(C)C[n+]1ccccc1', 'CCCCCCCCCCCCCCc1cccc[n+]1CC', 'CCCCCCCCCCCCCCC[n+]1ccccc1C', 'CCCCCCCCCCCC[N+](C)(C)Cc1ccccc1', 'CCC[N+](C)(C)CCCC12CC3(C)CC4(CC)CC(C)(C1)C342', 'CCCCCCCCCCCCCc1ccc[n+](C(C)C)c1', 'CCCCCCCCCCCC[N+](C)(C)c1ccc(C)cc1', 'C=C(NC)C(=CCC)[CH+]C=CCCC(C)CCCCCCC', 'CCCCCCCCCCCCCC[n+]1cc(C)ccc1C', '[2H]C([2H])([2H])[N+](CCCCCCCCCCCC)(Cc1ccccc1)C([2H])([2H])[2H]', 'CCCCCCCCCCC(CC)CCC[n+]1ccccc1', 'CCCCCCCCCC(CCCCCC)[n+]1ccccc1', 'CCCCCCCCCCC[N+](CC)(CC)c1ccccc1', 'CCCCCCCCCCCCCCCc1ccc[n+](C)c1', 'CCCC[NH+](CC(C)CCC(CC)CCC)c1ccccc1', 'CCCCCCCCC(CCCCCCC)[n+]1ccccc1', 'CCCCCCCCCCCCCC[NH2+]Cc1ccccc1', 'CCCCCCCCCCCCC[n+]1cccc(CCC)c1', 'CCCCCCCCCC[N+](C)(C)Cc1cccc(CC)c1', 'CCCCCCCCC[N+](C)(C)CC(CC)c1ccccc1', 'CCCCCC[N+](CCCC)(CCCC)Cc1ccccc1', 'CCCCCCCCCC[N+](C)(C)C(CC)c1ccccc1', 'CCCCCCCCc1cccc[n+]1CCCCCCCC', 'CCCCCCCC[n+]1ccc(CCCC)c(CCCC)c1', 'CCCCCCCCCCCCCc1cccc[n+]1C(C)C', 'CCCCCCCCCCCCCCC(C)[n+]1ccccc1', 'CCCCCCCCC[N+](CC)(CCC)Cc1ccccc1', 'CN1CCN(CC1)C2=NN=C(C(=C2)C3=CC=NC=C3)C4=CC5=CC=CC=C5C=C4', 'CC1N=CC(c2nc3ccc(-c4cnn(C)c4)cc3n2C2CC2)=C2C=CC=CC21', 'Cc1ccc(Nc2ccc3ncc(-c4cc5cc(C)c(C)cc5[nH]4)n3n2)cc1C', 'c1ccc(CN2CC[C@H](Nc3nc(-c4cccnc4)nc4ccccc34)C2)cc1', 'Cc1cc(N(Cc2cccnc2)Cc2ccccc2C)nc(-c2ccccn2)n1', 'CC1(C)CCc2c(C#N)cc(-c3ccnc(Nc4cccc5c4CNC5)n3)cc21', 'c1ccc(NC2CCCN(c3nc(-c4cccnc4)nc4ccccc34)C2)cc1', 'Cc1cc(C)cc(Nc2nc(NCc3ccncc3)cc(-c3ccccc3)n2)c1', 'c1ccc(Cc2cccc(CN(Cc3ccccn3)Cc3ccccn3)n2)nc1', 'C/C=N/Nc1nccc2nc(-c3ccc([C@@H](C)N)cc3)c(-c3ccccc3)cc12', 'c1ccc(-c2ccc3c(c2)C2(CCNCC2)CN3c2ncnc3[nH]ccc23)cc1', 'CCc1ccc(Nc2nc(NCc3ccncc3)cc(-c3ccccc3)n2)cc1', 'Cc1ccc(-c2nc(N/N=C/c3ccc(N(C)C)cc3)c3ccccc3n2)cc1', 'Cc1ccccc1Cc1nc(Nc2ccccc2)nc(Nc2ccccc2C)n1', 'Cc1cccc(N2CCN(c3nc(-c4cccnc4)nc4ccccc34)CC2)c1', 'c1ccc(CN2CCC3(CCn4nc(-c5cnc6ccccc6c5)cc43)C2)nc1', 'C=C(Nc1cc2cc(-c3cnn(C)c3)ccc2cn1)c1ccc2c(c1)CCNC2', 'Cc1cc(-c2cncnc2)cc([C@H]2CCCN2Cc2ccnc3ccccc23)n1', 'CC(C)(C)Nc1c(-c2cccc(-c3nc4ccccc4[nH]3)c2)nc2ccccn12', 'CC(C)c1ccc(-c2cc(-c3ccc(N(C)C)nc3)c3c(C#N)cnn3c2)cc1', 'C=C(N)Cn1nc(-c2ccc(C#N)cc2)c2c3cc(CC)c(CC)cc3ncc21', 'Cc1ccccc1CNc1cc(-c2ccccc2)nc(NCc2cccnc2)n1', 'CCCN(Cc1ccc(-c2ccccc2C#N)cc1)c1cc(C)nc2ccnn12', 'c1ccc(Nc2cccc(C3CCCN3Cc3cccc4ncccc34)n2)nc1', 'Cc1cccc(CNc2cnnc(N(Cc3ccccc3)c3ccccc3)n2)c1', 'CCc1cc(NCc2ccc(-c3ccccc3C#N)cc2)n2ncc(CC)c2n1', 'C=Cc1cc(-n2c(-c3ccccc3)nc3ccc(N4CCNCC4)cc32)ccn1', 'c1ccc(Nc2cccc([C@H]3CCCN3Cc3cccc4ncccc34)n2)nc1', 'CC(C)(C#N)N1C(c2ccccc2)=NN(c2ccccc2)CN1c1ccccc1', 'C=C(Nc1cccc(-c2ccn3c(-c4ccccc4)cnc3n2)c1)N1CCCC1', '[H][H].[H][H].c1ccc(-c2cccc(CNc3cc(-c4c[nH]c5ncccc45)ncn3)c2)cc1', 'CC(c1ccc(-c2cnc3[nH]c4cnc(C#N)cc4c3c2)cc1)N1CCCCC1', 'CN(C)c1ccc(-c2nccnc2C2CN(c3ccc4ccccc4n3)C2)cc1', 'C[C@]1(CN=[N+]=[N-])N=C(c2ccccc2)N(Cc2ccccc2)[C@H]1c1ccccc1', 'c1ccc(-c2nc3ccccc3cc2CN2CCN(c3ncccn3)CC2)cc1', 'Cc1c(-c2c(-c3ccc4c(c3)C(CN)=NNC4)cnn2C)ccc2ccccc12', 'c1ccc(-c2cnc3c(Nc4ccc(N5CCCCC5)cc4)nccc3n2)cc1', 'C/C=C\\\\C=C\\\\Cc1cnn2c(NCc3cccnc3)cc(-c3ccccc3)nc12', 'c1ccc2c(c1)NCC(c1ccc3c(c1)CCC(c1ccc4nc[nH]c4c1)N3)N2', 'CCc1cccc2c1ccc1c2nc(CCc2nc(C)c3ccncc3n2)n1C', 'Cc1cccc(-c2[nH]cnc2-c2ccc3ncc(C4=CC(N)CCC4)cc3c2)n1', 'Cc1ccc(CNc2cc(NCc3ccncc3)nc(-c3ccccc3)n2)cc1', 'Cc1cc(Cc2cccc(CN3CN(c4ccccc4)c4ncccc43)c2)n[nH]1', 'CCc1c(CC)n(-c2ncnc3c2ncn3Cc2ccccc2)c2ccccc12', 'CC(Nc1cc(NCc2ccncc2)nc(-c2ccccc2)n1)c1ccccc1', 'Cc1cccc(C)c1CN1Cc2ncnc(Nc3cnc4ccccc4c3)c2C1', 'c1ccc(-c2nc(N3CCN(Cc4cccnc4)CC3)nc3ccccc23)cc1', 'Cc1ccc(Nc2nc(NCc3cccnc3)cc(-c3ccccc3)n2)c(C)c1', 'Cc1ccc(Nc2nc(NCc3ccccn3)cc(-c3ccccc3)n2)cc1C', '[H]/N=N/C(=C\\\\CC)c1ccnc(-c2cn(CCc3cccc4ccccc34)cn2)c1', 'Cn1c(CN(Cc2nc3ccccc3n2C)c2ccccc2)nc2ccccc21', 'CCc1ccccc1Nc1cc(-c2ccccc2)nc(NCc2ccncc2)n1', 'Cc1cccc(-c2[nH]cnc2-c2ccc3ncc(C4=CC[C@@H](N)CC4)cc3c2)n1', 'C1=C(c2ccncc2)CN(c2cccc(-c3cncn3C3CC3)n2)C(C2CC2)=C1', 'CC1=C(C#N)c2nc(N)c(C#N)c(C)c2/C1=C\\\\c1ccc(N2CCCCC2)cc1', 'c1ccc(CN(CCCn2cncn2)c2ccc3[nH]c4ccccc4c3c2)cc1', 'CCC(CC1CC1)Nc1nnc(-c2cccc3[nH]cc(C#N)c23)c2ccccc12', 'Cc1ccc(-c2nc(NN=Cc3ccc(N(C)C)cc3)c3ccccc3n2)cc1', 'CCn1c(CN2[C]N(Cc3cccc(C)n3)c3ccccc32)nc2ccccc21', 'N/C(=N\\\\Cc1ccccc1-c1ccc(Cn2ccnc2)cc1)Nc1ccccc1', 'Cc1ccc2c3c1N1CN(C)C4=C1C1(CCC4CC1)n3c1nc3ccccc3n21', 'C/N=C/C(=C\\\\N)c1ccn2c(-c3cccc(NCc4ccccc4)c3)cnc2c1', '[2H]C([2H])([2H])C1(C)c2nccnc2N(c2c3c(c4ccccc4c2C)-n2ccnc2C3)C1C', 'CCc1ccccc1Nc1nc(NCc2ccncc2)cc(-c2ccccc2)n1', 'NC(c1ccccn1)(c1ccccn1)C(Cc1ccccn1)Cc1ccccn1', 'Cc1cccc(C)c1Nc1nc(NCc2cccnc2)cc(-c2ccccc2)n1', 'c1ccc(CCNc2cc(-c3ccccc3)nc(NCc3ccncc3)n2)cc1', 'CN1C/C(=C\\\\c2cccnc2)C2=NN(c3ccccc3)C(c3cccnc3)C2C1', 'Cc1cc2nc(-c3cncn3C)cc(C=Cc3cccn3C)c2cc1CCC#N', 'Cc1cc(N(Cc2ccccc2)c2ccccc2)nc(NCc2ccncc2)n1', 'c1ccc(CN2CCC(c3ncc(-c4cnc(-c5ccccc5)nc4)[nH]3)C2)cc1', 'c1cc2cc3nc(cc4ccc(cc5nc(cc1[nH]2)CC5)[nH]4)CC3.c1cc[nH]c1', 'c1ccc(-c2cc(Nc3cccc4cccnc34)nc(N3CCCCC3)n2)cc1', 'c1ccc(-c2nc(N3CCN(Cc4ccccn4)CC3)c3ccccc3n2)cc1', 'CN(c1cccc(-c2ccccc2)n1)c1ccnc(NCCc2ccccc2)n1', 'CC1=C(C#N)c2nc(N)c(C#N)c(C)c2/C1=C\\\\c1ccc(N2CCCC2)cc1C', 'Cc1ccc2nc(NN=Cc3ccc(N(C)C)cc3)nc(-c3ccccc3)c2c1', 'C=C(Nc1ccccc1)Nc1cnc2ccc(-c3cc(C)c(C)c(C)c3)nc2n1', 'Nc1ncc(-c2cccc(N3CCNCC3)c2)cc1-c1ccnc2ccccc12', 'Cc1ccnc(-c2cc(CN(Cc3ccccn3)Cc3ccccn3)ccn2)c1', 'Cc1cccc(CNc2cc(NCc3ccccn3)nc(-c3ccccc3)n2)c1', 'CC(c1ccccn1)(c1ccccn1)N(Cc1ccccn1)Cc1ccccn1', 'Cc1cccc(-c2nc3c4c(C)c(C)n(-c5cccc(C)c5C)c4ncn3n2)c1', 'Cc1ccc(-c2nnc3n2CCN(C(c2ccccc2)c2ccccc2)C3)cn1', 'Cc1c(-c2ccccc2)c(N2CCN[C@@H](C)C2)n2c(nc3ccccc32)c1C#N', 'CCc1cc(C)nc2ccc(CCc3nc4c5cccnc5ccc4n3C)nc12', 'Cc1cccc(C(Nc2nc(-c3cccnc3)nc(C)c2C)c2ccccn2)c1', 'CCN(Cc1ccccc1)c1ccc(/C=N\\\\n2cnnc2-c2ccccc2)cc1', 'Cc1cc(-c2cnc3c(c2)C(c2ccc4ncn(C(C)(C)C)c4c2)=NC3)ccn1', 'Cc1ccc(C)c(Nc2cc(-c3ccccc3)nc(NCc3ccncc3)n2)c1', 'CC1(C)CCN(Cc2ccc(-c3cnc4[nH]c5cnc(C#N)cc5c4c3)cc2)C1', 'Cc1cccc(/C(N)=C(\\\\c2ccc3ncccc3c2)N(N)Cc2ccccc2)n1', 'Cc1cc(-c2cncnc2)cc([C@@H]2CCCN2Cc2ccnc3ccccc23)n1', 'c1ccc(CCN(Cc2nc3ccccc3[nH]2)Cc2nc3ccccc3[nH]2)cc1', 'CCN(CC)c1ccc(-n2cc3ccccc3c2-n2nnc3ccccc32)cc1', 'C1=C(c2ccc3cc(-c4ccc5nc[nH]c5c4)ccc3c2)NC([C@@H]2CCCN2)N1', 'c1ccc(-c2cc(-c3ccccc3)n(-c3cc(N4CCCCC4)ncn3)n2)cc1', 'C=C(NC)c1cccc2c1N=C(c1cccc3cc(C(=C/N)/C=N/C)ncc13)C2', 'CN(C)c1cccc2ccc3c(c12)N(C)CC(C#N)(c1nc2ccccc2[nH]1)C3', 'Cc1ccc(-c2nc3ccc(C)cn3c2CNc2nc3ccccc3n2C)cc1', 'Nc1ccc(C(c2ccc(N)cc2)(c2ccc(N)cc2)c2ccc(N)cn2)cc1', 'N#Cc1cccc(CN2C[C@@H]3Cc4cnc(NCc5ccccc5)nc4[C@@H]3C2)c1', 'C1=C(c2ccncc2)CN(c2cccc(-c3nncn3C3CC3)c2)C(C2CC2)=C1', 'Cc1ccc(-n2nc(C)c(C3C=CN(Cc4ccccc4)C=C3C#N)c2N)cc1', 'CCc1ccccc1CN1Cc2ncnc(Nc3cnc4ccccc4c3)c2C1', 'CCc1cccc2c1ccn1c(C)c(CCc3nc(C)c4ccncc4n3)nc21', 'Cc1cccc(CNc2nc(NCc3ccncc3)cc(-c3ccccc3)n2)c1', 'Nc1cc(NCCc2ccccn2)cc(Nc2cccc(-c3ccccc3)c2)n1', 'CN(Cc1ccccc1)c1cc(-c2ccccc2)nc(NCc2ccncc2)n1', 'Cc1ccc(-n2c(C)c(C)c3c2ncn2nc(-c4ccccc4C)nc32)cc1C', 'CC1Nc2ccccc2C1C1=NC2c3cc(N)ccc3-c3ccc(N)cc3C2N1', 'CN1CCN(c2nc(-c3cccnc3)nc3ccccc23)C(c2ccccc2)C1', 'Cc1ccc(-c2cc3cn/c(=N\\\\c4ccccc4C)nc-3n3c2NCC3)c(C)c1', 'c1ccc(-c2cnc3cc(Nc4ccc(N5CCCCC5)cc4)ncc3n2)cc1', 'N#Cc1cccc(CN2C[C@H]3Cc4cnc(NCc5ccccc5)nc4[C@@H]3C2)c1', 'Nc1ncc(-c2ccc(N3CCNCC3)cc2)cc1-c1cccc2ncccc12', 'CN(CCc1ccncc1)c1nc(Nc2ccccc2)cc(-c2ccccc2)n1', 'Cc1cc(C)c2ncc(C#N)c(NCCc3nccn3Cc3ccccc3)c2c1', 'Cc1ccc(-c2nc3c4c(C)c(C)n(-c5ccc(C)c(C)c5)c4ncn3n2)cc1', 'CCCN(CC1CC1)c1nnc(-c2cccc3[nH]cc(C#N)c23)c2ccccc12', 'Cc1ccc(-c2nc(N/N=C\\\\c3ccc(N(C)C)cc3)nc3ccccc23)cc1', 'CC(C)n1nc(-c2ccccc2[C@@H](N)Cc2cccc(C#N)n2)c2ccccc21', 'N#Cc1cccc(CN2C[C@H]3Cc4cnc(NCc5ccccc5)nc4[C@H]3C2)c1', 'c1ccc(-c2nc(-c3ccc(-c4ccc(C5CCCCC5)cc4)nc3)n[nH]2)nc1', 'CN(Cc1ccccc1)c1cnnc(N(Cc2ccccc2)c2ccccc2)n1', 'Cc1ccc(-c2cnc(N3C[C@H]4CNC[C@H]4C3)nc2-c2ccc(C#N)cc2)cc1', 'Cc1ccc(C)c(CN2Cc3ncnc(Nc4cnc5ccccc5c4)c3C2)c1', 'Cc1cccc(Nc2cc(-c3ccccc3)nc(NCc3ccccn3)n2)c1C', 'Cc1cccc(-c2ccnc(Nc3ccnc(N[C@@H](C)c4ccccc4)c3)n2)c1', 'Cc1ccc(Nc2nc(NCc3ccccn3)cc(-c3ccccc3)n2)c(C)c1', 'C=C(Nc1cc2cc(-c3cnn(C)c3)ccc2cn1)c1ccc2c(c1)CNCC2', 'CN1CCN(c2cc(-c3ccncc3)c(-c3cccc4ccccc34)nn2)CC1', 'Cc1cc(NCCn2ccc3ccccc32)nc2c1c(C)nn2-c1ccccc1', 'c1ccc(C[C@H](c2ccccn2)N(Cc2ccccn2)Cc2ccccn2)nc1', 'c1ccc(Cn2cc(CN3CCc4nc(-c5ccccc5)ncc4C3)cn2)cc1', 'Cc1ccc(CNc2cc(NCc3ccccn3)nc(-c3ccccc3)n2)cc1', 'Nc1c(NCc2ccccc2)ncnc1NC(c1ccccc1)c1ccccc1', 'CCc1cc(C2=CC(C)CCN=C2)nc2c(-c3cnc4ccccc4c3)cnn12', 'Cc1cccc(CNc2cc(-c3ccccc3)nc(NCc3cccnc3)n2)c1', 'C=CN(c1ccc(Nc2nncc3ccccc23)cc1N)c1c(C)cccc1C', 'c1ccc(CN2CC[C@@H](c3ncc(-c4cnc(-c5ccccc5)nc4)[nH]3)C2)cc1', 'Cc1c(-c2ccccc2)c(N2CCC2N(C)C)n2c(nc3ccccc32)c1C#N', 'Cc1ccc(-c2ccc(CN(Cc3ccccn3)Cc3ccccn3)cn2)nc1', 'c1ccc(CCNc2nc(NCc3ccccn3)cc(-c3ccccc3)n2)cc1', 'CCC12C=CC1(CC)C1N(c3cccnc3)c3nccnc3N1c1ccccc12', 'CCc1nc2c(C)cc(C)nc2n1Cc1ccc(-c2cc(N)ccc2C#N)cc1', 'Cc1nn2c(-n3cnc4ccccc43)cc(C(C)(C)C)nc2c1-c1ccccc1', 'C=C(Nc1cc2cc(-c3cncn3C)ccc2cn1)c1ccc2c(c1)CN(C)C2', '[H]/N=C(/c1ccnc2ccc(-c3ccc(-c4cn[nH]c4)cc3)cc12)N1CCCCC1', 'Cc1ccc(-c2ccc(-c3nc4c([nH]3)CN(Cc3cnc[nH]3)C=C4)cc2)cc1C', 'CCN(c1ncnc(N2CCc3ccccc32)c1N)c1cccc2ccccc12', 'Cc1ccc(N(C)Cc2ccccc2)cc1Nc1nccc(-c2cccnc2)n1', 'CCN(Cc1ccc(-c2ccccn2)nc1)Cc1ccc(-c2ccccn2)nc1', 'C(=C/c1nc2c(N3CCCC3)ncnc2n1Cc1ccccc1)\\\\c1ccccc1', 'Cc1c(Nc2c(C#N)cncc2-c2ccc(CN(C)C)cc2)ccc2[nH]ccc12', 'CN(C)[C@H]1CCN(c2c(-c3ccccc3)cc(C#N)c3nc4ccccc4n23)C1', 'Cc1cccc(CN2Cc3ncnc(Nc4cnc5ccccc5c4)c3C2)c1C', 'c1ccc(CCNc2nc(NCc3cccnc3)cc(-c3ccccc3)n2)cc1', 'Cc1c(Nc2c(C#N)cncc2-c2ccccc2CN(C)C)ccc2[nH]ccc12', 'NC=C/C=N/c1cccc(N(c2ccccc2)c2cccc(/N=C/C=CN)c2)c1', 'Cc1ccc(C#N)cc1.Cc1nccc(Nc2c(C)cc(/C=C/C#N)cc2C)n1', 'Cc1ccc(-c2cc([C@H]3CCN(Cc4cncnc4)C3)ccn2)c2cccnc12', 'Cc1cccc(-c2nc3c4c(C)c(C)n(-c5ccc(C)c(C)c5)c4ncn3n2)c1', 'Cc1cncc(-c2cc(NCCC3=CCc4ccccc43)n3ncc(C)c3n2)c1', 'Cc1ccc(C2NCCc3c(N)cccc32)cc1-c1ncc(-c2cccnc2)[nH]1', 'Cc1ccc(C)c(Nc2nc(NCc3cccnc3)cc(-c3ccccc3)n2)c1', 'CCc1ccc(C2=NCC(c3ccc4c(c3)nnn4C(C)C)=N2)c2ccccc12', 'C#Cc1ccc(C(C)(C)CNc2ccc(-c3ccc4n[nH]c(C)c4c3)nn2)cc1', 'Cc1cc(N)nc(CCc2cc(C#N)cc(CCc3ccc4cc[nH]c4n3)c2)c1', 'Cc1ccc(Nc2cc(-c3ccccc3)nc(NCc3ccncc3)n2)cc1C', 'CN(C)c1nc(N)c2c(c1C#N)NC(C)(c1ccccc1)C=C2c1ccccc1', 'Cc1ccc(CNc2cc(-c3ccccc3)nc(NCc3cccnc3)n2)cc1', 'CC1(CN=[N+]=[N-])N=C(c2ccccc2)N(Cc2ccccc2)C1c1ccccc1', 'Cc1ccc(C)c(Nc2nc(NCc3ccncc3)cc(-c3ccccc3)n2)c1', 'N#Cc1c(N2CCCC2)c2ccc(N3CCCC3)cc2n2c1nc1ccccc12', 'CC1=NC(C#N)=C(C#N)N=C(/C=C/C=C/c2cc3c4c(c2)CCCN4CCC3)C1', 'Cc1ccc(Nc2cc(-c3ccccc3)nc(NCc3ccccn3)n2)cc1C', 'CC(Nc1nncc(N(Cc2ccccc2)c2ccccc2)n1)c1ccccc1', 'Cc1ccc2c(C)nc(Nc3nc4c(c(-c5ccccc5)n3)CCCC4)nc2c1', 'C(#Cc1c[nH]c2c1CC(c1cc3n(n1)CCC31CCNC1)C=N2)c1ccccc1', 'Cc1cc(N(Cc2ccccc2)c2ccccc2)nc(NCc2cccnc2)n1', 'Cc1ccc2nc(N/N=C/c3ccc(N(C)C)cc3)nc(-c3ccccc3)c2c1', 'Cc1cc(-c2cncnc2)cc(C2CCCN2Cc2ccnc3ccccc23)n1', 'CN(Cc1ccccc1)c1nc(NCc2cccnc2)cc(-c2ccccc2)n1', 'Cc1ccc(CNc2cnnc(N(Cc3ccccc3)c3ccccc3)n2)cc1', 'Cc1nc(-c2ccccc2)cc(N2CCN(c3ccc4ccccc4n3)CC2)n1', 'c1ccc(-c2cc(Nc3cccc4cccnc34)nc(NC3CCCC3)n2)cc1', 'c1ccc(-c2[nH]nc(N3CCN(c4ccccc4)CC3)c2-c2ccncc2)cc1', 'Cc1ccc(CNc2nc(NCc3ccccn3)cc(-c3ccccc3)n2)cc1', 'c1ccc(CNc2cccc(Nc3cccc(NCc4ccccc4)n3)n2)cc1', 'C/C=C\\\\C(=C/C)c1ccc2nc(-c3cccnc3N)n(-c3ccc(C)cc3)c2n1', 'c1ccc(N2CCN(c3nnc(Cc4ccncc4)c4ccccc34)CC2)cc1', 'CN(Cc1ccccc1)c1ccc2c(c1)nc(CNc1ccc(C#N)cc1)n2C', 'CC=CC(=CC)Cn1c(-c2ccccc2)cc2cnc(Nc3ccncn3)cc21', 'C=CCn1cc(CN2CCc3nc(-c4cccnc4)ncc3C2)c2ccccc21', 'C1=CCN(c2cccc(-c3nncn3C3CC3)c2)C(c2ccc(C3CC3)nc2)=C1', 'CCn1cnc2cc(NCc3nc4ccccc4n3Cc3ccccc3)ccc21', 'c1ccc(CN2CCC(Nc3nc(-c4cccnc4)nc4ccccc34)C2)cc1', 'CC(NC(C)(c1ccccn1)c1ccccn1)(c1ccccn1)c1ccccn1', 'CCc1ccc(Nc2nc(NCc3cccnc3)cc(-c3ccccc3)n2)cc1', 'N#Cc1cccc(CN2C[C@@H]3Cc4cnc(NCc5ccccc5)nc4[C@H]3C2)c1', 'Cc1nnc(N2CCN(C3c4ccccc4-c4ccccc43)CC2)c(C#N)c1C', 'Cc1ccc(-c2nnc(N3CCN(c4ccccn4)CC3)c3ccccc23)cc1', 'CCCC(C)Nc1ncnc2nc3c(nc12)-c1ccccc1Cc1ccccc1-3', 'C1=Cc2cc(-c3ccc4c(c3)nc3n4CCN(Cc4cnc[nH]4)CC3)ccc2C1', 'Cc1cc(C)nc(-c2cc3cc(N)ccc3nc2N[C@@H]2CCc3ccccc32)n1', 'Cc1cc2nc(-c3cncn3C)cc(CCc3ccncc3)c2cc1CCC#N', 'Cc1ccc(Cn2c(NCc3nc4ccccc4n3C)nc3ccccc32)cc1', 'Cc1nn(-c2ccccc2)cc1CN1CCc2nc(-c3ccccc3)ncc2C1', 'Cc1ccc(-c2nc(N(C)Cc3ccncc3C)ncc2-c2ccncc2)cc1', 'Cc1cc(C)c2nc(-c3cc(N)cc(-c4nc5c(C)cc(C)cc5[nH]4)c3)[nH]c2c1', 'Cc1ccc(-c2ccc(-c3nc4c([nH]3)CN(Cc3ccn[nH]3)C=C4)cc2)cc1C', 'Cc1nc(-c2ccccn2)n(CCCCn2c3ccccc3c3ccccc32)n1', 'Cc1ccc(Nc2cc(NCc3ccncc3)nc(-c3ccccc3)n2)cc1C', 'NCCCc1nc(Cc2c[nH]c3ccccc23)cn2cc(-c3ccccc3)nc12', 'CCN(Cc1ccccc1)c1ccc(C=NNc2nncc3ccccc23)cc1', 'CC(c1cccc(-c2c(-c3cccnc3)c3c(C#N)ccnc3n2C)c1)N(C)C', 'CC(Nc1cc(C2=CC=C3C=CN(C)C3C2)c2nccnc2c1)c1cccnc1', '[C-]#[N+]c1ccc(-c2cnn(CCC(C)(C)C)c2)c(-c2ccc3cccnc3c2)n1', 'Cc1cccc(-c2nc3c4c(C)c(C)n(-c5ccc(C)cc5C)c4ncn3n2)c1', 'CCc1ccccc1Nc1nc(NCc2ccccn2)cc(-c2ccccc2)n1', 'Cc1ccc(-c2cnc(NCC3CCCNC3)nc2-c2c#cc(C#N)cc2)cc1', 'Cc1ccc(CC(Nc2cc(C)nc(-c3cccnc3)n2)c2ccccn2)cc1', 'Cc1ccc(C)c(Nc2cc(-c3ccccc3)nc(NCc3ccccn3)n2)c1', 'c1ccc(-c2nc(N3CCN(Cc4cccnc4)CC3)c3ccccc3n2)cc1', 'CN1CCC(Cc2ccc(-c3cnc4[nH]c5cnc(C#N)cc5c4c3)cc2)CC1', 'N#CCCNc1ccc(-c2ccccc2)cc1/C(N)=C/C=N/Cc1cccnc1', 'c1ccc(CC(c2ccccn2)N(Cc2ccccn2)Cc2ccccn2)nc1', 'CCc1nc2ccccc2n1C1CCN(c2ccc3cc(C#N)ccc3n2)CC1', 'CN(C)c1ccc(/C=N\\\\Nc2nc3ccccc3nc2Cc2ccccc2)cc1', 'Cc1ccc2c(-c3ccc4c(c3)CCN4Cc3cnc(N)nc3N)cccc2c1', 'c1ccc(-c2nc(Nc3cccc4cccnc34)cc(N3CCCCC3)n2)cc1', 'Cc1ccc(Nc2nc(NCc3ccncc3)cc(-c3ccccc3)n2)cc1C', 'Cc1ccc2nc(C=Cc3ccccn3)nc(NCc3ccc(CN)cc3)c2c1', 'Nc1ncc(-c2ccc(N3CCNCC3)cc2)cc1-c1ccnc2ccccc12', 'Cc1c(N2c3nccnc3C(C)(C)C2C)c2c(c3ccccc13)-n1ccnc1C2', 'NCC1(c2nc(NCc3ccccn3)c3c(-c4ccccc4)cccc3n2)CC1', 'Cc1cccc(-c2[nH]cnc2-c2ccc3ncc(C4=CCC(N)CC4)cc3c2)n1', 'Cc1ccc(-c2nc(N3CCN(c4ccccn4)CC3)c3ccccc3n2)cc1', 'N#Cc1cccc(CN2CCC(c3cnn(Cc4cccc(C#N)c4)c3)CC2)c1', 'Cc1ccccc1CNc1cc(NCc2cccnc2)nc(-c2ccccc2)n1', 'CN1C/C(=C\\\\c2ccncc2)C2=NN(c3ccccc3)C(c3ccncc3)C2C1', 'CN1CCN(c2nc(-c3cccnc3)nc3ccccc23)[C@@H](c2ccccc2)C1', '[H]/N=C(\\\\c1ccc(C2(C)CCC2)cc1)N1/C(=N/[H])c2ccccc2Nc2ncccc21', 'CN(CCc1ccncc1)c1cc(Nc2ccccc2)nc(-c2ccccc2)n1', 'c1ccc(Nc2cncc3nc(-c4ccc(N5CCCCC5)cc4)cnc23)cc1', 'CC(Nc1cc(-c2ccccc2)nc(NCc2cccnc2)n1)c1ccccc1', 'Cc1ccc(CNc2nc(NCc3cccnc3)cc(-c3ccccc3)n2)cc1', 'N#Cc1cccc(Cn2cnc3ccc(-c4ccc(CNCCN)cc4)cc32)c1', 'Cc1ccc2c(c1)CCCN2c1ncnc(Nc2c(C)ccc3ccccc23)n1', 'Cc1ccc2nc(C=Cc3ccccn3)nc(-c3ccc(CN(C)N)cc3)c2c1', 'Cc1ccc(-c2cc(-c3cccc(CN)n3)nc(-c3cccc(CN)n3)c2)cc1', 'Cc1nn(-c2ccccc2)c2nc(N)c(C#N)c(-c3ccc(C(C)(C)C)cc3)c12', 'CN(C)c1ccc(/C=N/Nc2nc3ccccc3nc2Cc2ccccc2)cc1', 'c1ccc(CCNc2cc(-c3ccccc3)nc(NCc3cccnc3)n2)cc1', 'Cc1cccc(N2CCN(c3cc(C)c(C#N)c4nc5ccccc5n34)CC2)c1', 'CC(C)CN1C2=C(C=CC=N2)N=C1C3=CC(=CC=C3)C(=O)NC(C)C', 'CCCn1cc(CNc2ncccc2OC(C)c2ccccc2)cn1', 'COc1ccc([C@H]2CNCCN2Cc2nc3ccccc3n2C)cc1', 'O=C1NC[C@@H](NCCC2=CCCCC2)n2nc(-c3ccccc3)cc21', 'c1cc(OC2CCN(Cc3cn[nH]c3C3CC3)CC2)c2cc[nH]c2c1', 'O=C(NC1CC2CCC(C1)N2)c1cnn(-c2ccccc2)c1C1CC1', 'Cc1nccc(N2CCN(C(=O)[C@@H]3C[C@H]3c3ccccc3C)CC2)n1', 'N#Cc1cc2ccccc2nc1N1CCC(N2CCCC2CO)CC1', 'Cc1cc(CN(C)C(CCO)c2ccccc2)ccc1-n1cncn1', 'Cc1ccccc1CN1CCN2C(=O)N(Cc3cccnc3)C[C@H]2C1', 'Cc1cc(C(=O)N(Cc2cccnc2)C[C@H]2C[C@@H]3C=C[C@H]2C3)n(C)n1', 'CCCc1ncc2c(n1)CN(Cc1c[nH]c3ccc(OC)cc13)CC2', 'CC1Cc2ccccc2N1c1cccc(C(=O)N2CCN(C)CC2)n1', 'O=C(CN1CCN(c2ccccn2)CC1)N1CCCc2ccccc21', 'Cc1nn(-c2ccc(NCc3ccc(C(C)(C)C)cc3)cc2)c(=O)[nH]1', 'CCn1nc(C)c(CCn2ccnc2-c2cccc(C(C)=O)c2)c1C', 'CCN1C[C@H](CN(C)Cc2cn3ccccc3n2)Oc2ccccc21', 'Cc1ccc(-c2ccc(N)c(NC(=O)N3CC4CNCC4C3)c2)cc1', 'Cc1nccn1C1CCCN(C(=O)CCc2c[nH]c3ccccc23)C1', 'O=C(c1cccnc1NC1CC1)N1CCN(Cc2ccccc2)CC1', 'Nc1cc(CC[C@@H]2CN(Cc3ccc4cc[nH]c4c3)CCO2)ccn1', 'Cc1cnn(C[C@H]2CCCN2C(=O)CCc2c[nH]c3ccccc23)c1', 'Cc1nc(N2CCN(C)CC2)nc2c1C(=O)C[C@@H](c1ccccc1)C2', 'CCN/C(=N\\\\Cc1cccc(C#N)c1)N(C)Cc1ccccc1OC', 'CCc1cccc(N/C(N)=N/CCc2c[nH]c3cccc(OC)c23)c1', 'O=C(c1ccc(C2CCNN2)cc1)N1CCCCC1c1cccnc1', 'CC(CC(O)c1ccccc1)NCc1cn(C)nc1-c1ccncc1', 'CC1=NN(c2ccc(C(=O)N(Cc3cccnc3)C(C)C)cc2)CC1', 'Cc1cc(C)c2nc(C)cc(C(=O)NCC[C@H](C)n3ccnc3)c2c1', 'CCn1ncc2c(N(Cc3ccccc3)C3CCC(O)C3)ccnc21', 'CC(C)c1cc([C@@H]2CCCN2Cc2cn[nH]c2-c2ccccc2)on1', 'O=C(c1cccc2c1CCC2)N1CCC(n2ncc3c2CNC3)CC1', 'Cc1nn(-c2ccccc2)c(C)c1C(C)NCC(O)c1ccncc1', 'C=CCN(NC1=CC(=O)C(Cn2ccnc2C)CC1)c1ccccc1', 'CNC(c1nn(-c2ccccc2)c(=O)n1Cc1ccccc1)C(C)C', 'CCc1cc(-c2cc(C(C)/C=C\\\\C=C3\\\\C(=O)NCC3C)[nH]n2)ccn1', 'CC1CC(c2ccc(C3C=N3)c3ncccc23)CN(CCC(N)=O)C1', 'NC1CCc2nc(C(=O)N3CCC4(Cc5ccccc5C4)C3)cn2C1', 'COc1ccccc1C1CCN(Cc2cnc3nc(C)cc(C)n23)C1', 'O=C(C1CCCCC1)N1CCC[C@@H]1c1ccc(-c2cncnc2)cn1', 'Cc1cccc(-c2cnc3ccc(OCCC4CCCN4C)nn23)c1', 'Cc1cccc2cc(CN3CCCC[C@@H]3c3ccn(C)n3)c(=O)[nH]c12', 'C/N=C(\\\\NCc1ccc(OCc2ccccn2)cc1)NC1CC=CC1', 'C[C@@H]1CN2CCC[C@@H]2CN1C(=O)Nc1ccccc1-c1ccncc1', 'CC(C)Nc1cccc(-c2cnc3[nH]cc(C(=O)C(C)(C)C)c3n2)c1', 'O=C(CN1C[C@H]2CC[C@@H]1C2)NCCc1nccc(-c2ccccc2)n1', 'c1ccc(OCCCN2CCC(Nc3nc4ccccc4[nH]3)C2)cc1', 'Cc1cc(C)c(-c2nccn2CC2CCOCC2)c(-n2cccn2)c1', 'Cc1cccc(CC(O)C2CCC(n3ccc4c(C)ncnc43)C2)n1', 'Cc1ccc(N2CCC3(CC2)CC(c2ccccc2)C(=O)N3C)nn1', '[H]/N=C(C)/C(=C(\\\\N)c1ccncc1)c1ccc(N2CCOCC2)c(C)c1', 'C=N/C(=C\\\\N(C)C)C1=CC=C(c2ccc(/C(N)=N/OC)cc2)CC=C1', 'Cc1cc(N2CCOC(Cn3nc(C)cc3C)C2)c2ccccc2n1', 'Cc1ccccc1[C@@H](C)NC(=O)c1cc2cnn(C(C)C)c2nc1C', 'O=C(C1Cc2ccccc2CN1)N1CCN(Cc2ccncc2)CC1', 'Cc1n[nH]c(C)c1CN1C[C@@H](Cc2ccc3ccccc3n2)[C@H](O)C1', 'Cc1cc(N2CCC3(CCN(C(=O)c4ccccc4)C3)CC2)ncn1', 'O=C(Nc1cccnc1)NC1CC2CCC(C1)N2Cc1ccccc1', 'O=C(N[C@@H]1[C@@H]2CCc3ccccc3[C@@H]21)N1CCC(n2cccn2)CC1', 'CCN(C)[C@@H](C(=O)NCc1nc2ccccc2n1C)c1ccccc1', 'O=C(C1CCCc2ccccc21)N1CCC(Nc2cccnn2)CC1', 'Cc1cc(C(=O)NCCC(C)C)c2c(C)nn(-c3ccccc3)c2n1', 'Cc1cc(CC[C@@H]2CCCN2C(=O)c2cnc(C3CC3)nc2)ccn1', 'CCCn1nc(NC(=O)C2CCCCC2)c2cc3ccccc3nc21', 'O=C(c1cccnc1NCCN1CCc2ccccc21)N1CCCC1', 'CCN(CC)c1ccc(NC(=O)c2nc(C)n3ccccc23)c(C)c1', 'O=C(c1cnccn1)N1CCC(NC2CCc3ccccc3C2)CC1', 'Cc1cc(C)n(C[C@H](C)CNC(=O)c2ccc(-n3cccc3)cc2)n1', 'Cc1cc2nc(CN3CCC[C@@](C)(c4ccccc4)C3)cc(=O)n2[nH]1', 'O=C(Cc1cccnc1)N1CC(N(Cc2ccncc2)CC2CC2)C1', 'COc1cncc(-c2ccc3nc(CCN4CCCC4C)[nH]c3c2)c1', 'c1cc2cc(c1)-c1cnn3ccc(nc13)CCCCCCNCCO2', 'C=Cc1cc(C#N)c(N2CCN(C(=O)C3CC3)C(C)C2)nc1C1CC1', 'CCC1CCCCN1c1ncc(C(=O)N2CCc3ccccc32)cn1', 'O=C(c1ccc2nccnc2c1)N1CCN([C@H]2C[C@H]3CC[C@H]2C3)CC1', 'C/C(=N/NC(=O)c1cccnc1)c1ccc(N2CCCCCC2)cc1', 'COc1ccc([C@H](N)c2nc(-c3ccc(C(C)(C)C)cc3)n[nH]2)cc1', 'c1ccc(Nc2ncc3c(n2)[C@]2(CCN(CC4CC4)C2)COC3)cc1', 'O=C(NC1CCCCC1)c1ccccc1-c1cnc2c(c1)NCCN2', 'COc1cccc2[nH]c(CN3CCc4c(ccnc4N(C)C)C3)cc12', 'O=C(c1cnc(-c2ccccc2)nc1N1CCCCC1)N1CCCC1', 'COc1ccccc1CN1Cc2ccccc2N=C1N1CCNCC1', 'CN(CCCNC(=O)CCn1cnc2ccccc21)c1ccccc1', 'Cn1cccc1[C@@H]1CCCCN1C(=O)CCn1cnc2ccccc21', 'CCCc1nc2c(c(=O)[nH]1)CCN(Cc1cc3ccccc3n1C)C2', '[2H]C([2H])([2H])N(C(=O)c1cc(NCc2c(C)cccc2C)c2nc(C)[nH]c2c1)C([2H])([2H])[2H]', 'Cc1nc2ccccc2n1CCCNC(=O)NC(C)c1ccccc1', 'Cc1nc(N2CCN(Cc3ccccc3)CC2)nc2c1C(=O)CCC2', 'CCC(C)Oc1ccc(CCNc2ncnc3ccc(N)cc23)cc1', 'C[C@H]1CC(C)(C)N(C)c2ccc(/C=N\\\\NC(=O)c3ccncc3)cc21', 'O=C1[C@H](N2CCN(Cc3cccnc3)CC2)CCN1c1ccccc1', 'CCN(CC)C(=O)CCc1ccc(-n2c(C)nc3cnccc32)cc1', 'CC(NC[C@@H]1CNC[C@@H]1O)c1ccc(-n2cnc3ccccc32)cc1', 'Cc1cc(C)cc(C(=O)N2CCN(c3cc4c(nn3)CCC4)CC2)c1', 'O=C(NCc1ccccc1)C1CCCC2C(c3ccncc3)NNC12', 'Cc1cn(C)c(C2CCCN(C(=O)Cc3c[nH]c4ccccc34)C2)n1', 'Nc1cc(CCC2CN(Cc3ccc4cc[nH]c4c3)CCO2)ccn1', 'Cc1ccc(C(=O)NC(C)C)cc1-c1ccc2c(c1)nnn2C(C)C', 'CC1=N[C@@H]2C=CC=CN2C1C(=O)CN1CCN(c2ccccc2)CC1', 'C=C(C)COc1ccc(-c2nc3ccc(N)cn3c2CN(C)C)cc1', 'Cc1cc(Nc2c(C)cccc2C(C)C)nc(NCc2ccco2)n1', 'CCN(CC)c1nc(NCc2ccccc2OC)c2ccccc2n1', 'c1cc(CN2Cc3cncn3C(COCC3CC3)C2)c2cc[nH]c2c1', 'CCCC1(C)CCC2=C(N1)N1CC=CN=C1C(=O)N2c1ccccc1', 'CCn1ncc2c(C(=O)NC(C)(C)CC)cc(-c3ccccc3)nc21', 'CCCNC(=O)c1cccc(-c2nc3cccnc3n2CC(C)C)c1', 'Cc1cccc(CN2CCC3(CC2)CCN(c2cccnc2)C3=O)n1', 'Cn1cnc2c1C(C(=O)N1CC=CC1)CN(CCc1ccccc1)C2', 'CN(C)N1C(N)=C(C#N)[C@H](c2ccccc2)C2=C1CC(C)(C)CC2=O', 'COc1ccccc1-c1[nH]c2cncnc2c1C1CCN(C)C(C)C1', 'O=C(/C=C/c1cnc2ccccc2n1)N1CCN(C2CCCC2)CC1', 'CCCc1ncc(CN2CC3ON=C(c4ccc(C)cc4)C3C2)cn1', 'CCn1c(CNc2ccc(C)c(C(=O)N(C)C)c2)nc2ccccc21', 'CC(C)c1nccn1[C@H]1CCCN(C(=O)c2ccc3cc[nH]c3c2)C1', 'COc1ccc2nc(CN3CCC[C@H]3CCc3ccccn3)[nH]c2c1', 'Cc1cnn(C[C@@H](C)NCc2ccccc2OCc2ccccn2)c1', 'C/N=C(\\\\NCCc1ccncc1C)NC(C)c1cc2ccccc2o1', 'CN1CCN(CCOc2ccc(-c3ccn4nccc4c3)cc2)CC1', 'CCCNC(=O)C1CCN(c2c(C#N)cnc3ccc(C)cc23)CC1', 'CC(C)Oc1cc2c(cn1)CN=C2c1ccnc(N2CCCCC2)c1', 'CCN1CCN(C(=O)c2cccc(N3CCc4ccccc43)n2)CC1', 'Cc1ccc2cc(CN3CCC(C(O)c4ncc[nH]4)CC3)ccc2n1', 'O=C(Nc1ccccc1)[C@H]1CCc2nc(N3CCCCC3)ncc2C1', 'Cc1c(CN2CCC[C@H](C(=O)Nc3ccccc3)C2)cc(C#N)n1C', 'CCc1c(C)[nH]c(C=C2C(=O)NN=C2CCc2ccc(N)cc2)c1C', 'CCC(C)NC(=O)c1cc(-c2cn(CC)nc2C)nc2ccccc12', 'O=C(CCn1ccnc1)Nc1cccc(NC[C@@H]2C[C@H]3C=C[C@H]2C3)c1', 'CN1N/C(=N\\\\CC2CCCO2)c2ccccc2C1Cc1ccncc1', 'Cc1cc2ncc(CCCNC(=O)CCc3ccccc3C)cn2n1', 'CNC(=O)CC1CC2(CCN(c3ncccn3)CC2)c2ccccc21', 'CC(=NO)c1ccc(-n2nncc2C23CC4CC(CC(C4)C2)C3)cc1', 'Cc1cnc(C(=O)NC(C)c2nc3ccccc3n2C(C)C)c(C)c1', 'Cc1nccn1C[C@@H]1CCCN(Cc2cnc3cc(O)ccc3c2)C1', 'C[C@@H](Cn1cccn1)NCC(=O)N[C@H](C)c1ccc2ccccc2c1', 'CN1CCC(c2ncc3c(n2)CCN(C(=O)c2ccccc2)C3)CC1', 'Cc1ccc(-c2cc(NC(=O)N3C4CC(C)C[C@@H]3C4)ccc2C)nn1', 'COc1cc(N2C[C@@H](c3ccccc3)[C@@H]3[C@H]2C2CCN3CC2)ncn1', 'CC1CNCc2cc(C(=O)Nc3cncc(N4CCCC4)c3)ccc21', 'O[C@H]1CN(CCCn2cccn2)C[C@H]1Cc1ccnc2ccccc12', 'CCN(C(=O)c1cnc2c(cnn2CC(C)C)c1)c1ccccc1C', 'O=C(NCCc1ccc2c(n1)NCCC2)Nc1ccc2c(c1)CCC2', 'O=C(C[C@@H]1C[C@@H]2CC[C@@H]1C2)N1CCn2c(nnc2-c2ccccc2)C1', 'C/N=C(/NCc1ccc(C#N)cc1)NCC(C)Oc1cccc(C)c1', 'CNc1ncccc1C(=O)N1CCN(C2Cc3ccccc3C2)CC1', 'CCCN(C(=O)c1cnc(C2CC2)nc1)C1CCCc2cccnc21', 'Cc1ccccc1N1CCN(Cn2c(=O)n(C)c3ccccc32)CC1', 'O=C(NCC1CCN(C2Cc3ccccc3C2)CC1)c1ccncn1', 'C=CCNc1ccnc(C(=O)N2CCN(c3cccc(C)c3)CC2)c1', 'Cc1ccc(N/C(N)=N/Cc2cccc(NC(=O)C3CCC3)c2)cc1', 'CCCn1nc(CNC[C@@H](O)c2ccccc2)c(-c2ccccc2)n1', 'Cc1cc(-c2cn[nH]c2[C@@H]2CCCCN2Cc2ccccc2C)on1', 'Cc1cc(C[C@@H]2CN(Cc3ccc(C)c4ncccc34)C[C@H]2O)n[nH]1', 'Cc1ccc2c(c1)c1c(n2CC(C)(O)c2cnccn2)CCN(C)C1', 'CCc1ccc(-n2nc3cc(C)c(NC(=O)C(C)(C)C)cc3n2)cc1', 'c1ccc(OCCNC2CCN(c3nc4ccccc4[nH]3)CC2)cc1', 'CCn1ccnc1-c1cc(C)c2cc(CCC(=O)N(C)C)ccc2n1', 'CCn1ncc(-c2cc(C)c3cccc(N4CCOCC4)c3n2)c1C', 'Cc1ccc2[nH]c(CN3CCCCC3c3ccn(C)n3)cc(=O)c2c1', 'Cc1[nH]c2nc(-c3ccccc3)nc(NC3CCCC[C@@H]3O)c2c1C', 'CC(C)Oc1ccc2cnn(-c3ccnc(N4CCCCC4)c3)c2c1', 'CCCCCC(=O)Nc1ccc(-c2nc3ccc(NC)cc3[nH]2)cc1', 'Cc1cc(C(=O)NC(C)c2ccc(C(C)C)cc2)c2cnn(C)c2n1', 'Cc1cccc(-n2cc(CN(C)Cc3[nH]cc(C)c(=O)c3C)cn2)c1', 'O=C1CCCN1Cc1ccccc1Cn1cc(C2CC=CCC2)nn1', 'Cc1cc(C(=O)Nc2ccccc2C(C)(C)C)c2c(C)nn(C)c2n1', 'Cc1cc(C)n(C[C@H](C)CNC(=O)Cc2cccc3cccnc23)n1', 'CN(C)c1nnc(-c2ccc(C(C)(C)C)cc2)n1-c1ccc(O)cc1', 'CC1CCN(C(=O)c2ccc3c(c2)CCCN3c2cncnc2)CC1', 'O=C(c1ccc2c(c1)CCNCC2)N1CCNCC1c1cccnc1', 'c1ccc(-c2nc3c(c(N4CCCO[C@H]5CCC[C@@H]54)n2)CCC3)nc1', 'COc1ccccc1N1CCN(CCNc2ccccc2C#N)CC1', 'Cc1ncc2c(n1)CN([C@H](C)C(=O)N1CCCc3ccccc31)CC2', 'Cc1nc(-c2cccnc2)nc2c1CCC(=O)N2CC1CCCCC1', 'O=C(c1ccc(-c2cncnc2)cc1)N1CCC[C@H]1CN1CCCC1', 'COc1cccc(CCNc2nc(NC(C)C)c3ccccc3n2)c1', 'O=C(Cc1ccccn1)N/N=C/C1CCN(Cc2ccccc2)CC1', 'c1ccc2oc(-c3[nH]ncc3CNCC3CCN(C4CC4)C3)cc2c1', 'COc1ccccc1-c1c(C)nn2c(N3CCCCC3)cc(C)nc12', 'CCc1c(-c2ccc(C)cc2)c(C(N)=O)c(C)n1CCc1cnc[nH]1', 'O=C1CC[C@H]2CN(c3ccncc3)CC[C@H]2N1CCc1ccccn1', 'CNCc1cc(C(=O)N(C)Cc2[nH]c3ccccc3c2C)ccc1N', 'CC.COc1ccccc1Nc1ccnc(Nc2ccc(C)cn2)c1', 'O=C(NCCc1ccc2c(n1)NCCC2)N1CCCc2ccccc21', 'CN1CCN(c2ncccc2CNC(=O)C=Cc2ccccc2)CC1', 'CN1C[C@@H](NC(=O)c2ccc3c(c2)CCC=C3)[C@H](c2cncn2C)C1', '[H]/N=C(C)/C(=C/c1ccc(N(CC)CC)cc1)C(=O)Nc1ccccn1', 'C[C@@H]1CCc2ncnc(N3CCC4(CC3)CNc3ccc(O)cc34)c21', 'CCc1ncc(C(=O)N2C[C@@H]3CNC[C@@H]3[C@H]2c2ccccc2C)cn1', 'CCc1nc(-c2c(-c3ccccc3)ncn2C[C@@H]2CCCO2)c(C)[nH]1', 'Cc1cc(C)nc(N(Cc2ccc(C(=O)NC3CC3)cc2)C2CC2)n1', 'CCC(C)NC(=O)c1c(C)nn(-c2ccc(C)cc2)c1-n1cccc1', 'CCn1nc(CNCCc2ccc(OC)cc2)c(-c2ccccc2)n1', 'Cc1nc2c(cnn2C(C)C)cc1C(=O)Nc1ccccc1C(C)C', 'Cc1cccc2c1N(C(=O)C1CCN(c3ncccn3)CC1)CCC2', 'OC(CN1CCN(Cc2nc3ccccc3[nH]2)CC1)c1ccccc1', 'CCn1c(C(C)NC(=O)C(N)Cc2ccccc2)nc2ccccc21', 'CCc1nccn1CC(=O)NCc1ccc2[nH]c3c(c2c1)CCCC3', 'CCN1C(=O)C(c2ccccc2)CC12CCN(c1ncccn1)CC2', 'CC1CCCN(c2nc(N)c3c(n2)CC(c2ccccc2)CC3=O)C1', 'c1ccc2c(c1)oc1c(N3CCN(C4CCCCC4)CC3)ncnc12', 'Cc1cccc(CC(=O)N2CCC(c3ncc4c(n3)CCNC4)C2)c1', 'Cn1ncc2c1CCC[C@@H]2NCCCOc1cccc2cccnc12', 'N/N=C(\\\\N)c1ccc2c(c1)OC1=CCC=CC=C1C2C1CCNCC1', 'CC1CCN(c2ccc(C(=O)N3c4ccccc4CC3C)nn2)CC1', 'Cc1cccc(-n2nc(-c3cccn3C)cc2C(=O)NC(C)(C)C)c1', 'Cc1cc2cc(C#N)c(NCCCNC(=O)C3CCC3)nc2cc1C', 'Cc1ncc(/C=C/C(=O)CCCCc2ccc3c(n2)NCCC3)cn1', 'CC1CCN(C(=O)c2ccnc(N3c4ccccc4CC3C)n2)CC1', 'Cc1ccc(-c2ccc(N3CCC[C@@H](C(=O)NC4CC4)C3)nn2)cc1', 'C/C(=C\\\\C(C=O)CC(C)C)c1cnc2[nH]cc(-c3cnn(C)c3)c2c1', 'O=C(NC1CCCCC1)c1cnc(N2CCc3ccccc3C2)nc1', 'Cc1nc2ccc(C3=NC=CCC3)c(N3CCN4CCC[C@H]4C3)c2o1', 'CCCCCCNC(=O)c1cnn2c(-c3ccc(C)cc3)ccnc12', 'Cc1nc(C)n(Cc2cccc(NC(C)c3cccc(CO)c3)c2)n1', 'CCCCNC(=O)Cn1nc(C)c2c(-c3cccc(C)c3)ccnc21', 'O=C(Nc1ccc(N2CCN(c3ccccc3)CC2)cn1)C1CCC1', 'Cc1cccc(CC2(NC(=O)C=Cc3cnc(N(C)C)nc3)CC2)c1', 'CCc1ccc(-c2noc(CN(C)[C@H](CC)c3ccncc3)n2)cc1', 'Cc1cc(C)c2ncc(C#N)c(NCCC(=O)N3CCCCC3)c2c1', 'CC(=N\\\\c1ccccc1C)/N=C(\\\\Nc1ccccc1)N1CCOCC1', 'Cn1cc(C(=O)N(Cc2cnc[nH]2)C2CCCCC2)c2ccccc21', 'CC(C)(NC(=O)Nc1cccc2c1CN(c1ccccn1)C2)C1CC1', 'CC(C)(C)NC(=O)C1CCCN(c2cc(C#N)c3ccccc3n2)C1', 'CN1CC2CC(C1C=O)C(c1ccccn1)N(C)C2c1ccccn1', 'CCC(Cc1ccc(N2CCOCC2)cc1)c1cccc2n[nH]nc12', 'CC(NCc1ccc2[nH]c(=O)[nH]c2c1)c1cccc(N2CCCC2)c1', 'C=Cc1c(-n2cc(C(/C=C\\\\C=C(/C)CO)=C/C)c(C)n2)ccnc1N', 'CCn1c(CCNC(=O)CCc2ccccc2N)nc2ccccc21', 'CC(C)Nc1nccc2c1C(c1cc(C3CCOCC3)ccn1)=NC2', 'NC1=C(C(=O)Nc2ccccn2)CC(NCCc2ccccc2)CC1', 'CC(NC(=O)N(C)CCCn1ccnc1)c1ccc2ccccc2c1', 'Cc1cccc([C@H](C(=O)NCc2ccc3nc(C)[nH]c3c2)N(C)C)c1', 'CCN/C(=N\\\\Cc1ccc(C(=O)NC)cc1)N1CCc2ccccc21', 'Cc1nc(C2CCCCN2)nc2c1CCC(=O)N2Cc1ccccc1', 'Cn1c(-c2ccccc2)nc2cc(NC(=O)[C@@H](N)C(C)(C)C)ccc21', 'O=C1C[C@@H](CN2CCN(c3cccnc3)CC2)CN1c1ccccc1', 'CCCCCC(C)n1c(=O)ccc2cnc(Nc3ccccc3)nc21', 'Nc1ccc(C(=O)Nc2ccc(N3CCN4CCC3CC4)cc2)cc1', 'Cc1nc(C(=O)N2CCCCCC2)cc(N2CCc3ccccc32)n1', 'O=C(NCCCN1CC=C(c2ccccc2)NC1)Nc1ccccc1', 'Cc1cc(C(=O)N2C[C@@H]3CNC[C@@H]3[C@@H]2c2ccccc2C)nc(C)n1', 'O=C1NC[C@H](NCCC2=CCCCC2)n2nc(-c3ccccc3)cc21', 'CC[C@@H](O)c1cc2n(n1)CCCN(Cc1ccnc3ccccc13)C2', 'CCc1[nH]c2c(CNc3cc(C(=O)NC)ccn3)cc(C)cc2c1C', 'NC(=O)c1cnccc1N1CCC(CN2CCc3ccccc32)CC1', 'COc1cccc(N2CCC(NCc3ccc4nc[nH]c4c3)CC2)c1', 'Cc1ccc(-c2nc3cccnc3n2CCCNC(=O)C(C)C)cc1', 'CC(C)Oc1ccc(-c2nc3ncccn3c2NC2CCCC2)cc1', 'Cc1nc(C)c(CNC(=O)C(C)(C)c2c[nH]c3ccccc23)nc1C', 'C#CCCC1(CCNC(=O)[C@]23C[C@H]2CN(Cc2ccccc2)C3)N=N1', 'CCN1CCN(c2ccc(NC(=O)/C=C/c3ccccc3)cn2)CC1', 'COc1ccc2[nH]c(CN3CCCC(c4ccncn4)C3)c(C)c2c1', 'C[C@H]([C@@H](C)NCc1ccccc1OCc1ccncc1)n1cccn1', 'CC(C)NC(=O)C1CCN(c2nc3ccccc3n3cccc23)CC1', 'CCCCc1ccc(-n2c(-c3cccc(O)c3)nnc2N(C)C)cc1', 'Cc1c(C#N)c(NC(=O)CN(C)C2CC2)n(Cc2ccccc2)c1C', 'CCCCN1C(=O)C2=C(C=C(S2)C3=CC=C(C=C3)F)N=C1SCC(=O)O', 'CCn1c(SCC(=O)OC)nc2sc(C)c(-c3ccc(F)cc3)c2c1=O', 'Cc1cc(C)c2sc(NC(=O)CCS(=O)(=O)c3ccc(F)cc3)nc2c1', 'CC(c1ccc(S(N)(=O)=O)cc1)N(C)C(=O)c1cc2c(F)cccc2s1', 'COc1ccc(S(=O)(=O)N(Cc2csc(C)n2)c2ccc(F)cc2)cc1', 'COc1ccc(S(=O)(=O)Nc2nc(-c3ccc(C)cc3C)cs2)cc1F', 'CN(C)S(=O)(=O)c1cccc(CSc2ncc(-c3ccc(F)cc3)o2)c1', 'CCOC(=O)c1c(NC(=S)NC(=O)c2ccc(F)cc2)sc2c1CCC2', 'O=S(=O)(Cc1ccc(F)cc1)NCCc1nc(-c2ccc(O)cc2)cs1', 'O=C(COc1ccccc1F)NNC(=O)c1ccc(C2SCCS2)cc1', 'COc1cc(OC)cc(-c2nnc(SCCSc3ccc(F)cc3)o2)c1', 'Cc1ccc(S(=O)(=O)N(C)C)cc1NC(=O)c1cc2c(F)cccc2s1', 'Cc1nc2ccc(S(=O)(=O)CCC(=O)Nc3ccc(C)c(F)c3)cc2s1', 'Cc1nc2cc(NC(=O)CCCS(=O)(=O)c3ccc(F)cc3)ccc2s1', 'CCOC(=O)[C@@H]1/C(=C\\\\Sc2ccc(F)cc2)NC(=O)N[C@H]1c1cccs1', 'CSc1ccc(Cc2sc3ncccc3c2C(=O)NOCCO)c(F)c1', 'COc1ccc(S(=O)(=O)NCCc2csc(-c3ccccc3F)n2)cc1', 'O=C(O)CSc1nc(CCOC2=CC=C(c3ccc(F)cc3)CN2)cs1', 'COc1ccccc1S(=O)(=O)N(Cc1csc(C)n1)c1ccc(F)cc1', 'Cc1ccc(-n2c(SCCS(C)(=O)=O)nc3ccccc3c2=O)cc1F', 'CN(C)c1ccc(NS(=O)(=O)c2cc(-c3ccc(F)cc3)c(O)s2)cc1', 'O=S(=O)(NCc1ccc(F)cc1)c1ccc(-c2cnc(C3CCC3)o2)s1', 'CN(C)C(=O)c1[nH]c2cc(S(C)(=O)=O)ccc2c1Sc1ccccc1F', 'CCCS(=O)c1[nH]c(-c2ccccc2)nc1S(=O)(=O)c1ccc(F)cc1', 'CC(C)OC(=O)CSc1nc2scc(-c3ccc(F)cc3)c2c(=O)n1C', 'CNCc1cc(-c2cccnc2F)c(S(=O)(=O)c2cccc(CO)c2)s1', 'CNS(=O)(=O)c1cc(NC(=O)c2sc3cccc(F)c3c2C)ccc1C', 'CCCn1/c(=N/C(=O)CS(=O)(=O)c2ccccc2)sc2cccc(F)c21', 'Cc1cccc2s/c(=N\\\\C(=O)CCS(=O)(=O)c3ccc(F)cc3)n(C)c12', 'CCn1/c(=N/C(=O)Cc2ccc(S(C)(=O)=O)cc2)sc2cc(F)ccc21', 'O=S(=O)(c1ccccc1)N1CCC(Oc2nc3c(F)cccc3s2)CC1', 'C=CCn1c(=NS(=O)(=O)c2ccc(F)cc2)sc2cc(OCC)ccc21', 'Cn1/c(=N/C(=O)CCS(=O)(=O)Cc2ccccc2)sc2cc(F)ccc21', 'O=S(=O)(c1cccc(F)c1)N(CC1CCCO1)c1nc2ccccc2s1', 'Cc1c(C(=O)Nc2cccc(S(=O)(=O)N(C)C)c2)sc2cccc(F)c12', 'Cc1cccc2sc(NC(=O)CCCS(=O)(=O)c3ccc(F)cc3)nc12', 'CCCn1/c(=N/C(=O)CS(=O)(=O)c2ccccc2)sc2cc(F)ccc21', 'CCOc1ccc(S(=O)(=O)NCc2cncc(-c3cccs3)c2)cc1F', 'CC1(C)SC(=S)N(Cc2ccoc2)C(=O)C1NC(=O)c1ccc(F)cc1', 'CC(Sc1ccc([N+](=O)[O-])cc1)C(=O)NC1CCSc2c(F)cccc21', 'O=S(=O)(c1cccc(F)c1)N1CCC(Oc2nc3ccccc3s2)CC1', 'Cc1cc(S(N)(=O)=O)cc(NC(=O)c2sc3cccc(F)c3c2C)c1C', 'CCNC(=O)c1cc2cc(N(C)S(=O)(=O)c3ccc(F)cc3)ccc2s1', 'N#Cc1c(NC(=O)CS(=O)(=O)c2ccc(F)cc2)sc2c1CCCCC2', 'COc1ccc(-c2csc(CCNS(=O)(=O)c3ccc(F)cc3)n2)cc1', 'COc1ccccc1-c1nc(CCNS(=O)(=O)c2ccc(F)cc2)cs1', 'CCc1ccc(S(=O)(=O)NCc2ccnc(Oc3ccc(F)cc3)c2)s1', 'COc1ccc(S(=O)(=O)NCCc2csc(-c3ccccc3)n2)cc1F', 'CS(=O)(=O)c1ccc(OCCNc2nc(-c3ccc(F)cc3)cs2)cc1', 'CCOC(=O)c1c(NC(=S)NC(=O)c2ccccc2F)sc2c1CCC2', 'CCSC(=O)C1=CCN(S(=O)(=O)c2ccc(F)cc2)C1c1cccnc1', 'CCOC(=O)c1sc2nc([C@@H](C)Sc3ccc(F)cc3)[nH]c(=O)c2c1C', 'O=C(COc1ccccc1C1SCCS1)NNC(=O)c1ccccc1F', 'O=C(CCCS(=O)(=O)Cc1ccccc1)Nc1nc2c(F)cccc2s1', 'Cc1ccc(C)c2sc(NC(=O)CCS(=O)(=O)c3ccc(F)cc3)nc12', 'Cc1sc2nc(SCc3cc(F)cc4c3OCOC4)n(C)c(=O)c2c1C', 'COc1ccc(S(=O)(=O)NCCc2csc(-c3cccc(F)c3)n2)cc1', 'Cc1ccc(S(=O)(=O)CCC(=O)/N=c2\\\\sc3cc(F)ccc3n2C)cc1', 'Cc1cc(Cc2ccc(S(N)(=O)=O)cc2F)n(C)c1C(=O)c1cccs1', 'Cc1ccc(NS(=O)(=O)c2ccc3c4c2CC(=O)N4CC(C)S3)cc1F', 'Cc1c(C(=O)NC(C)c2ccc(S(N)(=O)=O)cc2)sc2cccc(F)c12', 'CCOC(=O)c1sc2nc(C(C)Sc3ccc(F)cc3)[nH]c(=O)c2c1C', 'Cn1c(SC[C@@H]2CCOCO2)nc2scc(-c3ccc(F)cc3)c2c1=O', 'N#Cc1c(NC(=O)CCS(=O)(=O)c2ccc(F)cc2)sc2c1CCCC2', 'Cc1sc2nc(SCC(=O)OC(C)C)[nH]c(=O)c2c1-c1ccc(F)cc1', 'CC(C)CS(=O)(=O)c1nc2ccc(NC(=O)c3ccc(F)cc3)cc2s1', 'Cc1nc(-c2cccc(NS(=O)(=O)CCOc3ccc(F)cc3)c2)cs1', 'COc1ccc(S(=O)(=O)NCc2ncc(Cc3ccc(F)cc3)s2)cc1', 'COc1ccc(-c2nc(CCNS(=O)(=O)c3ccc(F)cc3)cs2)cc1', 'CNCc1nc(-c2ccccc2F)c(S(=O)(=O)c2cccc(OC)c2)s1', 'COc1ccc(-c2nc(NS(=O)(=O)c3ccc(F)cc3)sc2C)cc1C', 'O=C(N/N=C1\\\\CCS(=O)(=O)c2ccc(F)cc21)c1cc2c(s1)CCCC2', 'COc1ccc(N2C(=S)N(c3ccc(F)cc3)[C@@H]3CS(=O)(=O)C[C@H]32)cc1', 'COCCOc1ccc(F)cc1NC(=O)CSc1nc2ccccc2s1', 'CCCn1/c(=N/C(=O)c2ccccc2F)sc2cc(S(C)(=O)=O)ccc21', 'O=C(COc1ccc(C2SCCS2)cc1)NC(=O)Nc1ccccc1F', 'Cc1ccc(NS(=O)(=O)c2ccc3c4c2CC(=O)N4C[C@@H](C)S3)cc1F', 'Cc1oc(-c2ccccc2F)nc1C[S@](=O)CC(=O)NCc1cccs1', 'O=C(COc1ccccc1C1SCCS1)NNC(=O)c1ccc(F)cc1', 'CN1c2ccc(S(C)(=O)=O)cc2SC1NC(=O)/C=C/c1ccc(F)cc1', 'CC1CCc2c(sc(NC(=O)CS(=O)(=O)c3ccc(F)cc3)c2C#N)C1', 'CN(c1cc(-c2ccc(F)cc2)ccc1OCc1cscn1)S(C)(=O)=O', 'CCOC(=O)C1=C(CSc2ccc(F)cc2)NC(=O)N[C@@H]1c1cccs1', 'COc1cccc(-c2nc(CN(C)S(=O)(=O)c3ccc(F)cc3)cs2)c1', 'CCn1/c(=N/C(=O)c2ccccc2S(=O)(=O)CC)sc2cc(F)ccc21', 'Cc1ccc(S(=O)(=O)N2CC3SC(c4ccc(F)cc4)=NC3(O)C2)cc1', 'CCNC(=O)c1[nH]c2cc(S(C)(=O)=O)ccc2c1Sc1ccccc1F', 'COc1ccc(-c2cccc(S(=O)(=O)NCc3csc(C)n3)c2)cc1F', 'CC(C)c1nc2ccc(NC(=O)c3cc(S(C)(=O)=O)ccc3F)cc2s1', 'CC(NC(=O)c1cc2c(F)cccc2s1)c1ccccc1NS(C)(=O)=O', 'Cc1c(C(=O)O)sc2nc(Cc3ccccc3SC(C)(C)F)[nH]c(=O)c12', 'CCc1ccc(S(=O)(=O)NCc2ccc(Oc3cccc(F)c3)nc2)s1', 'Cc1sc2nc([C@@H](C)OC(=O)CSc3ccccc3F)[nH]c(=O)c2c1C', 'CCOC(=O)C1=C(CSc2ccc(F)cc2)NC(=O)N[C@H]1c1cccs1', 'COc1ccc(-c2csc(C)n2)cc1S(=O)(=O)Nc1ccc(C)c(F)c1', 'Cc1c(C(=O)NCCc2ccc(S(N)(=O)=O)cc2)sc2cccc(F)c12', 'CC(C)NS(=O)(=O)c1ccc(NC(=O)c2cc3c(F)cccc3s2)cc1', 'CC(=O)c1ccc(S(=O)(=O)N(C2=NCCCS2)c2ccc(F)cc2)cc1', 'Cc1cc(F)ccc1S(=O)(=O)NCCc1nc(-c2ccc(O)cc2)cs1', 'COc1ccc(-c2ccc(S(=O)(=O)NC3CC(N=C=S)C3)cc2)cc1F', 'CCCN1C(SCC(=O)c2ccc(F)cc2)=NS(=O)(=O)c2ccccc21', 'N#Cc1c(NC(=O)CCCS(=O)(=O)c2ccc(F)cc2)sc2c1CCC2', 'CCn1/c(=N/C(=O)c2ccc(S(=O)(=O)CC)cc2)sc2cc(F)ccc21', 'O=C1CCc2cc(S(=O)(=O)NC3CCSc4ccc(F)cc43)ccc2N1', 'CCOC(=O)c1sc2nc([C@H](C)Sc3ccc(F)cc3)[nH]c(=O)c2c1C', 'C=CCn1/c(=N/S(=O)(=O)c2ccc(F)cc2)sc2cc(OCC)ccc21', 'COc1ccc(F)cc1C(=O)CSCc1nc2sc(C)c(C)c2c(=O)[nH]1', 'CCn1/c(=N/C(=O)CS(=O)(=O)Cc2ccccc2)sc2cc(F)ccc21', 'Cc1oc(-c2cccs2)nc1CS(=O)CC(=O)NCc1ccc(F)cc1', 'Cn1/c(=N/C(=O)CCCS(=O)(=O)c2ccccc2)sc2cc(F)ccc21', 'Cc1cc(C)c2c(c1)s/c(=N\\\\C(=O)CS(=O)(=O)c1ccc(F)cc1)n2C', 'CCOC(=O)C1=C(CSc2ccc(F)cc2)NC(=O)NC1c1cccs1', 'O=C(NC1CCS(=O)(=O)C1)c1cc2sccc2n1Cc1ccccc1F', 'COC(=O)CCCSc1nc2sc(C)c(-c3ccc(F)cc3)c2c(=O)[nH]1', 'Cc1ccc(NS(=O)(=O)c2ccc(-c3cnc(C4CCC4)o3)s2)cc1F', 'COc1ccc(-c2nc(CCNS(=O)(=O)c3cccc(F)c3)cs2)cc1', 'COCCn1c(SCC(C)=O)nc2scc(-c3ccc(F)cc3)c2c1=O', 'O=S(=O)(c1ccc(F)cc1)c1nc(-c2cccs2)oc1N1CCCCC1', 'O=C(COc1ccc(F)cc1)NNC(=O)c1ccc(C2SCCS2)cc1', 'CCOc1ccc(S(=O)(=O)NCc2cccnc2-c2ccsc2)cc1F', 'CS(=O)CCN1Cc2cc(C3=CN=C4CC(F)=CC=C34)ccc2S1(=O)=O', 'Cc1ccc(C)c2c1s/c(=N\\\\C(=O)CS(=O)(=O)c1ccc(F)cc1)n2C', 'COc1cc(OC)cc(-c2nnc(SCCSc3ccccc3F)o2)c1', 'CCOc1ccc(S(=O)(=O)Nc2ncc(Cc3cccc(F)c3)s2)cc1', 'COc1ccc(S(=O)(=O)NC(Cc2ccsc2)c2ccccn2)cc1F', 'CN(Cc1nc2ccccc2s1)C(=O)CCS(=O)(=O)c1ccc(F)cc1', 'C[C@H]1CCc2c(sc(NC(=O)CS(=O)(=O)c3ccc(F)cc3)c2C#N)C1', 'CN(C(=O)c1cc2cc(N(C)S(C)(=O)=O)ccc2s1)c1ccc(F)cc1', 'O=S(=O)(c1ccccc1)N1CCC(Oc2nc3ccc(F)cc3s2)CC1', 'COc1cccc(-c2nc(CCNS(=O)(=O)c3ccc(F)cc3)cs2)c1', 'CCN(c1ccc2sc(C(=O)Nc3ccc(F)cc3)cc2c1)S(C)(=O)=O', 'CC(=S)N(O)C(C)C#Cc1cccc(S(=O)(=O)Nc2ccc(F)cc2)c1', 'CCOc1cc(C(=O)O)ccc1NSC1=CSC(c2ccc(F)cc2)N1', 'COC(=O)c1c(NC(=S)NC(=O)c2ccc(F)cc2)sc2c1CCCC2', 'CC(=S)N(O)C(C)C#Cc1cccc(NS(=O)(=O)c2ccc(F)cc2)c1', 'Cc1cc(S(=O)(=O)NCCc2nc(-c3ccc(O)cc3)cs2)ccc1F', 'CCOC(=O)c1sc(NC(=O)CCSc2ccc(F)cc2)c(C#N)c1C', 'CC(=O)c1ccc(S(=O)(=O)N(C2=NCCCS2)c2ccccc2F)cc1', 'CCOc1ccc(S(=O)(=O)Nc2nc(-c3ccc(F)cc3)c(C)s2)cc1', 'Cc1nc2ccc(S(=O)(=O)CCC(=O)Nc3ccc(F)cc3C)cc2s1', 'Cc1sc2nc([C@H](C)OC(=O)CSc3ccccc3F)[nH]c(=O)c2c1C', 'O=C(CCCS(=O)(=O)Cc1ccccc1)Nc1nc2ccc(F)cc2s1', 'Cc1oc(-c2cccs2)nc1C[S@](=O)CC(=O)NCc1ccc(F)cc1', 'C=CCNS(=O)(=O)c1cc(C(=O)N2CCSc3ccccc32)ccc1F', 'CC(C)S(=O)(=O)c1ccc(CC(=O)Nc2nc3ccc(F)cc3s2)cc1', 'Cc1ccc2c(c1)s/c(=N\\\\C(=O)CCS(=O)(=O)c1ccc(F)cc1)n2C', 'CCN(C(C)=O)c1nc(COC(=O)c2sc3cccc(F)c3c2C)cs1', 'O=S(=O)(CCOc1ccc(F)cc1)NCc1csc(-c2ccccc2)n1', 'O=C(NCCc1cccs1)C1=C2CCCN2c2ccc(F)cc2S1(=O)=O', 'O=S(=O)(c1cccc(F)c1)N(C[C@@H]1CCCO1)c1nc2ccccc2s1', 'Cn1c(SC[C@H]2CCOCO2)nc2scc(-c3ccc(F)cc3)c2c1=O', 'Cc1nc(-c2ccccc2NS(=O)(=O)CCOc2ccc(F)cc2)cs1', 'O=C(N[C@H]1CCS(=O)(=O)C1)c1cc2sccc2n1Cc1ccccc1F', 'O=S(=O)(c1ccccc1F)N1CCC(Oc2nc3ccccc3s2)CC1', 'CC(=S)N(O)C(C)C#Cc1ccc(NS(=O)(=O)c2ccc(F)cc2)cc1', 'CCOCCOC(=O)CSc1ncnc2scc(-c3ccc(F)cc3)c12', 'COc1ccc(-c2csc(C)n2)cc1S(=O)(=O)Nc1ccc(F)cc1C', 'CCOc1ccc(S(=O)(=O)Nc2cccc(-c3csc(C)n3)c2)cc1F', 'Cc1cc(C)c2nc(NC(=O)CCS(=O)(=O)c3ccc(F)cc3)sc2c1', 'CC(C)S(=O)c1[nH]c(-c2ccccc2)nc1S(=O)(=O)c1ccc(F)cc1', 'C[C@@H](c1ccc(S(N)(=O)=O)cc1)N(C)C(=O)c1cc2c(F)cccc2s1', 'C[C@@H]1CCc2c(sc(NC(=O)CS(=O)(=O)c3ccc(F)cc3)c2C#N)C1', 'CS(=O)(=O)c1ccc(C(=O)N2CCCc3[nH]c4ccc(F)cc4c3C2)s1', 'Cc1ccc2nc(NC(=O)CCCS(=O)(=O)c3ccc(F)cc3)sc2c1', 'Cc1ccc(C(=O)Nc2ccc3nc(S(=O)(=O)C(C)C)sc3c2)cc1F', 'CNCc1cc(-c2cccnc2F)c(S(=O)(=O)c2cccc(OC)c2)s1', 'CCOc1ccc(S(=O)(=O)NCc2cccnc2-c2cccs2)cc1F', 'O=S(=O)(Nc1ccc(CN2CC(F)C2)cc1-c1ccco1)c1ccsc1', 'Cn1c(SCCCS(=O)(=O)c2ccc(F)cc2)nc2ccccc2c1=O', 'O=C(O)c1sc2cccc(F)c2c1CSc1nnc(C2CCCCC2)o1', 'Cc1ccc(S(=O)(=O)NCCNC(=O)c2cc3c(F)cccc3s2)cc1', 'CS(=O)(=O)c1ccc(C(=O)N2CCCc3c([nH]c4c(F)cccc34)C2)s1', 'COc1ccc(CN(c2nccs2)S(=O)c2ccc(F)cc2)c(OC)c1', 'COc1cccc(-c2nc(CCNS(=O)(=O)c3ccccc3F)cs2)c1', 'Cc1cc2s/c(=N\\\\C(=O)CS(=O)(=O)c3ccc(F)cc3)n(C)c2cc1C', 'CN(c1cc(-c2ccc(F)cc2)ccc1OCc1nccs1)S(C)(=O)=O', 'Cc1oc(-c2ccccc2F)nc1C[S@@](=O)CC(=O)NCc1cccs1', 'CCOC(=O)c1sc2ncn(CCSc3ccccc3F)c(=O)c2c1C', 'CCOc1ccc(-c2csc(C)n2)cc1S(=O)(=O)Nc1ccc(F)cc1', 'CC(C)(C)OC(=O)CSc1nc2scc(-c3ccc(F)cc3)c2c(=O)[nH]1', 'COc1ccc(F)cc1S(=O)(=O)NCc1sc(-c2ccccc2)nc1C', 'Cc1c(F)c(Cc2ccc(S(N)(=O)=O)cc2)n(C)c1C(=O)c1cccs1', 'Cc1cc2nc(NC(=O)CCS(=O)(=O)c3ccc(F)cc3)sc2cc1C', 'CCOC(=O)C(C)(C)Sc1nc2scc(-c3ccc(F)cc3)c2c(=O)[nH]1', 'O=C(NN=C1CCS(=O)(=O)c2ccc(F)cc21)c1cc2c(s1)CCCC2', 'O=C(COc1ccc(C2SCCS2)cc1)NNC(=O)c1ccccc1F', 'Cc1nc2ccc(S(=O)(=O)CCC(=O)NCc3ccc(F)cc3)cc2s1', 'CCn1/c(=N/C(=O)CCS(=O)(=O)c2ccc(F)cc2)sc2ccccc21', 'CC1(C)SC(=S)N(Cc2ccco2)C(=O)C1NC(=O)c1ccc(F)cc1', 'CC(C)CS(=O)(=O)c1nc2ccc(NC(=O)c3cccc(F)c3)cc2s1', 'O=S(=O)(Nc1ccc(F)cc1)c1ccc(-c2cnc(C3CCCC3)o2)s1', 'COc1ccc(N2C(=S)N(c3ccc(F)cc3)[C@H]3CS(=O)(=O)C[C@H]32)cc1', 'CN(c1ccc(-c2csc(COc3ccc(F)cc3)n2)cc1)S(C)(=O)=O', 'Cc1cc(C)c2nc(NC(=O)C(C)S(=O)(=O)c3ccc(F)cc3)sc2c1', 'CCCS(=O)(=O)Nc1ccc(NC(=O)c2cc3c(F)cccc3s2)cc1', 'CCOC(=O)c1c(NC(=S)NC(=O)c2cccc(F)c2)sc2c1CCC2', 'CC(C)S(=O)(=O)c1ccc(C(=O)/N=c2\\\\sc3cc(F)ccc3n2C)cc1', 'COc1ccc(F)cc1S(=O)(=O)N(Cc1ccsc1)Cc1ccccn1', 'CC(=O)c1ccc(SCC(=O)Nc2sccc2C(=O)NC2CC2)c(F)c1', 'Cc1cc(C)c2s/c(=N\\\\C(=O)CS(=O)(=O)c3ccc(F)cc3)n(C)c2c1', 'O=S(=O)(c1ccc(F)cc1)N1CCC(Oc2nc3ccccc3s2)CC1', 'CCSC(=O)C1=CCN(S(=O)(=O)c2cccc(F)c2)[C@@H]1c1cccnc1', 'Cc1ccc2sc(NC(=O)CCS(=O)(=O)c3ccc(F)cc3)nc2c1C', 'CCn1/c(=N/C(=O)CS(=O)(=O)c2ccc(C)cc2)sc2cc(F)ccc21', 'CCn1/c(=N/C(=O)CCS(=O)(=O)c2ccccc2)sc2cc(F)ccc21', 'CN(C)S(=O)(=O)c1ccc(CNC(=O)c2cc3c(F)cccc3s2)cc1', 'O=S(=O)(c1ccccc1F)N(CC1CCCO1)c1nc2ccccc2s1', 'O=C(N[C@@H]1CCS(=O)(=O)C1)c1cc2sccc2n1Cc1ccccc1F', 'CCCn1/c(=N/C(=O)CS(=O)(=O)c2ccc(F)cc2)sc2ccccc21', 'CC(C)S(=O)(=O)c1cccc(C(=O)/N=c2\\\\sc3cc(F)ccc3n2C)c1', 'CCSC(=O)C1=CCN(S(=O)(=O)c2ccc(F)cc2)[C@@H]1c1cccnc1', 'Cc1ccc(S(=O)(=O)CCCC(=O)Nc2nc3ccc(F)cc3s2)cc1', 'COc1ccc(-c2nnc(SCCSc3ccc(F)cc3)o2)cc1OC', 'O=S(=O)(c1cccc(F)c1)N(C[C@H]1CCCO1)c1nc2ccccc2s1', 'COc1ccc(S(=O)(=O)NCCc2csc(-c3ccc(F)cc3)n2)cc1', 'Cc1ccc(NS(=O)(=O)c2ccc3c4c2CC(=O)N4C[C@H](C)S3)cc1F', 'COc1ccc(F)cc1COC(=O)CSc1ncnc2sc(C)c(C)c12', 'CC(C)S(=O)(=O)c1ccc(CC(=O)Nc2nc3c(F)cccc3s2)cc1', 'CCOCOc1ccc2nc(-c3ccc(N(C)C=O)c(SF)c3)sc2c1', 'CC1(c2ccc(S(C)(=O)=O)cc2)S/C(=N/Cc2ccccc2F)NC1=O', 'CCSC(=O)C1=CCN(S(=O)(=O)c2cccc(F)c2)C1c1cccnc1', 'CCOC(=O)CSc1nc2scc(CC)c2c(=O)n1-c1cccc(F)c1', 'COc1ccc(S(=O)(=O)NCc2sc(-c3ccccc3)nc2C)cc1F', 'Cc1nc2ccc(NC(=O)CCCS(=O)(=O)c3ccc(F)cc3)cc2s1', 'CCSC(=O)C1=CCN(S(=O)(=O)c2ccc(F)cc2)[C@H]1c1cccnc1', 'CCOc1ccc(S(=O)(=O)NCc2ccnc(-c3cccs3)c2)cc1F', 'Cc1ccc2s/c(=N\\\\C(=O)CS(=O)(=O)c3ccc(F)cc3)n(C)c2c1C', 'CCOc1ccc(-c2csc(C)n2)cc1S(=O)(=O)Nc1cccc(F)c1', 'C[C@H](c1ccc(S(N)(=O)=O)cc1)N(C)C(=O)c1cc2c(F)cccc2s1', 'CCOc1ccc(S(=O)(=O)NCc2cncc(-c3ccsc3)c2)cc1F', 'CCN1C(c2cccc(F)c2)=CSC/C1=N\\\\c1ccc(S(=O)(=O)O)cc1', 'O=S(=O)(c1ccccc1F)N(C[C@H]1CCCO1)c1nc2ccccc2s1', 'Cn1/c(=N/C(=O)CCCS(=O)(=O)c2ccc(F)cc2)sc2ccccc21', 'O=C(C1CC1)N1CCSc2ccc(S(=O)(=O)Nc3cccc(F)c3)cc21', 'COc1ccc(N2C(=S)N(c3ccc(F)cc3)C3CS(=O)(=O)CC32)cc1', 'CCSC(=O)C1=CCN(S(=O)(=O)c2cccc(F)c2)[C@H]1c1cccnc1', 'Cc1cc(C(=O)NS(C)=O)ccc1N1C(=O)CSC1c1ccc(F)cc1', 'COC(=O)c1c(NC(=S)NC(=O)c2ccccc2F)sc2c1CCCC2', 'CCCn1/c(=N/C(=O)c2cccc(F)c2)sc2cc(S(C)(=O)=O)ccc21', 'CCOc1ccc(S(=O)(=O)Nc2ccccc2-c2csc(C)n2)cc1F', 'CCCCOC(=O)CSc1nc2scc(-c3ccc(F)cc3)c2c(=O)[nH]1', 'Cc1oc(-c2cccs2)nc1C[S@@](=O)CC(=O)NCc1ccc(F)cc1', 'CN(Cc1csc(COc2ccccc2)n1)S(=O)(=O)c1ccc(F)cc1', 'NC(=O)c1cc(-c2ccsc2)c(F)c2c(C3CCS(=O)(=O)CC3)c[nH]c12', 'O=S(=O)(c1ccccc1F)N(C[C@@H]1CCCO1)c1nc2ccccc2s1', 'CCOc1ccc(S(=O)(=O)Nc2ncc(Cc3ccc(F)cc3)s2)cc1', 'CCOC(=O)[C@H]1/C(=C\\\\Sc2ccc(F)cc2)NC(=O)N[C@@H]1c1cccs1', 'COc1ccc(N2C(=S)N(c3ccc(F)cc3)[C@H]3CS(=O)(=O)C[C@@H]32)cc1', 'Cc1ccc(S(=O)(=O)CCCC(=O)Nc2nc3c(F)cccc3s2)cc1', 'CCOC(=O)c1sc2nc(C(C)Sc3ccccc3F)[nH]c(=O)c2c1C', 'Cc1cc(F)ccc1NS(=O)(=O)c1ccc(-c2cnc(C3CCC3)o2)s1', 'O=C(C1CC1)N1CCSc2ccc(S(=O)(=O)Nc3ccc(F)cc3)cc21', 'COc1ccc(OC)c2sc(NC(=O)CCSc3ccc(F)cc3)nc12', 'CCS(=O)(=O)N(Cc1ccnc(F)c1)c1sc2ccccc2c1C(C)=O', 'CCS(=O)(=O)N(C)c1ccc2sc(C(=O)Nc3ccc(F)cc3)cc2c1', 'CCC(Sc1nc2sc(C)c(-c3ccc(F)cc3)c2c(=O)[nH]1)C(=O)OC', 'CCOC1=C(C=C(C=C1)NC(=O)C)S(=O)(=O)NCCC2=CNC3=CC=CC=C32', 'CCOC(=O)Nc1cccc(C(=O)N(C)CC(=O)Nc2ccccc2SC)c1', 'COCCOC(=O)c1c(C)[nH]c(C(=O)N(C)Cc2nc3ccccc3s2)c1C', 'CC1CCN(C(=O)C[C@@H](NC(=O)c2csc(-c3ccccc3)n2)C(=O)O)CC1', 'COCC(=O)Nc1ccc2c(c1)S(=O)(=O)N=C(CC(C)C)N2c1ccccc1', 'CCCn1c(C)cc(C(=O)COC(=O)CSc2[nH]c(=O)cc(C)c2C#N)c1C', 'COCCc1nc2sc(C)c(-c3cccc(OC)c3)c2c(=O)n1CCC(N)=O', 'Cc1ccc(C)c(N2CCN(S(=O)(=O)c3ccc4c(c3)oc(=O)n4C)CC2)c1', 'CCN(CC)C(=O)C1CCCc2sc(NC(=O)c3ccc4c(c3)OCO4)nc21', 'C=Nc1[nH]cc(/C=C2\\\\OC(N3CCSCC3)=C(C(=O)OCC)C2=O)c1/C=C\\\\C', 'CS(=O)(=O)N1C[C@@]2(CO[C@H](C(=O)NCCc3cccnc3)C2)c2ccccc21', 'O=C(NCCN1CCN(C(=O)c2cccs2)CC1)C1COc2ccccc2O1', 'CC(=O)Nc1ccc(S(=O)(=O)NC2CCN(C(=O)c3ccccc3)CC2)cc1', 'C[C@@H](CC(=O)N1C(=O)C(Cc2ccnc(N)c2)[C@H]1S(C)(=O)=O)c1ccccc1', 'CCn1ccc(C(=O)N2[C@@H]3CC[C@H]2[C@@](Cc2cscn2)(C(=O)OC)C3)cc1=O', 'O=c1[nH]c2cc(S(=O)(=O)NC[C@@H](c3ccccc3)N3CCCCC3)ccc2o1', 'Cc1cc(=O)oc2cc(NC(=O)CCCC[C@@H]3SC[C@@H]4NC(=O)NC43)ccc12', 'CNC(=O)c1ccc(NC(=O)c2cc(S(=O)(=O)NC3CC3)ccc2C)c(C)c1', 'COc1ccc(NS(=O)(=O)c2cn(C(C)C)nc2-c2ccccc2)cc1OC', 'CCOC(=O)c1sc(NC(=O)C2CC(=O)N(c3cccc(C)c3C)C2)nc1C', 'O=C(/C=C/c1ccc(CN2CCN(S(=O)(=O)c3ccccc3)CC2)cc1)NO', 'CCN(CC)C(=O)C(CCC#N)C(=O)NS(=O)(=O)c1ccc2ccccc2c1', 'CCc1noc(C)c1C(=O)O[C@@H](C)C(=O)Nc1sc2c(c1C#N)CCCCC2', 'CCOC(=O)c1c(NC(=O)CNc2cc(C(N)=O)ccc2C)sc2c1CCC2', 'CNC(=O)c1ccc(S(=O)(=O)N(C)Cc2ccc(C(=O)NC3CC3)cc2)cc1', 'Cc1cc(-c2ccccc2OCCO)nc2cc(NS(=O)(=O)N(C)C)ccc12', 'CC(C)N1C(=O)c2ccc(C(=O)N3CCC(n4cccc4)CC3)cc2S1(=O)=O', 'CCc1c(C)nc(SCc2nc(-c3ccc(OC)c(OC)c3)oc2C)[nH]c1=O', 'CC(=O)Nc1ccc(/C=C/C(=O)Nc2ccc(S(=O)(=O)NC(C)C)cc2)cc1', 'O=C(c1cccc(S(=O)(=O)N2CCOCC2)c1)N(Cc1cccnc1)C1CC1', 'COc1ccc(CCCNC(=O)CC/N=C2\\\\NS(=O)(=O)c3ccccc32)cc1', 'COc1ccc(-c2nc(CN3CCN(C(=O)C4=COCCO4)CC3)cs2)cc1', 'CCCCn1c(COC(=O)c2ccc(C)cc2)nc2cc(S(N)(=O)=O)ccc21', 'CC(=O)Nc1ccc(S(=O)(=O)N2CCN(c3ccc(C(C)=O)cc3)CC2)cc1', 'CC(C)(C)C1CCc2c(sc(NC(=O)c3cccc([N+](=O)[O-])c3)c2C(N)=O)C1', 'CCCOc1ccc(S(=O)(=O)N2CC3(C2)OCc2nc(C4CC4)ncc23)cc1', 'CCOc1ccc(C2CC(c3ccccc3NS(C)(=O)=O)=NN2C(C)=O)cc1', 'COC(=O)c1ccc(C(=O)NCCN2CCN(C(=O)c3cccs3)CC2)cc1', 'NCCc1c[nH]c2ccc(OCCCNS(=O)c3ccccc3C(=O)O)cc12', 'Cc1cnccc1-c1ccc(C2=NO[C@@H](CC(C)(C(N)=O)S(C)(=O)=O)C2)cc1', 'O=C(NCCCN1CCCC1=O)c1ccc(NS(=O)(=O)c2ccccc2)cc1', 'CCOC(=O)c1ccc(NC(=O)Nc2sc3c(c2C(N)=O)C[C@H](C)CC3)cc1', 'Cc1occc1-c1nnc(SCC(=O)c2cc(C)n(CC3CCCO3)c2C)o1', 'CCOC(=O)c1c(NC(=O)CC2Nc3ccccc3NC2=O)sc(C)c1CC', 'CCOc1cc2c(cc1OCC)CN(Cn1nc(-c3ccco3)oc1=S)CC2', 'COc1ccc(C)cc1CN(C)C(=O)CC/N=C1\\\\NS(=O)(=O)c2ccccc21', 'CCOC(=O)c1ccc(NC(=O)C2CCN(C(=O)Nc3cccs3)CC2)cc1', 'O=C(c1ccc(S(=O)(=O)N2CCCCC2)cc1)N1CC(Oc2ccccn2)C1', 'COc1ccc(NS(=O)(=O)c2cccc(C(=O)N/N=C(\\\\C)C=C(C)C)c2)cc1', 'CN(CC(=O)Nc1ccccc1C(=O)Nc1ccccc1)C1CCS(=O)(=O)C1', 'O=C(CNC(=O)c1ccccc1)Nc1ccc(S(=O)(=O)N2CCCCC2)cc1', 'C=C(O)[C@@H]1N2C(O)[C@@H](NC(=O)c3c(-c4ccccc4)noc3C)[C@H]2SC1(C)C', 'CCOc1ccccc1CNS(=O)(=O)c1cc(-c2noc(CC)n2)ccc1C', 'COCCNC(=S)N/N=C\\\\c1ccccc1OCc1ccc(C(=O)OC)cc1', 'O=C(CCNCCOc1ccc([N+](=O)[O-])cc1)N1CCCSc2ccccc21', 'O=c1[nH]c2ccc(S(=O)(=O)NC[C@@H]3CCN(CCc4ccccc4)C3)cc2o1', 'CCNC(=S)N/N=C\\\\c1ccc(OC(=O)c2ccc(OC)cc2)c(OCC)c1', 'CCOC(=O)Cc1csc(NC(=O)C2CC(=O)N(c3ccc(C)c(C)c3)C2)n1', 'O=C(NCCCNC(=O)[C@@H]1CCCN1C(=O)c1cccs1)c1cccc(O)c1', 'CCCC(NC(=O)Cc1ccc([N+](=O)[O-])cc1)C(=O)N1CCc2sccc2C1', 'COc1ccc2cc([C@H]3CN(S(=O)(=O)c4cn(C)c(C)n4)CCO3)ccc2c1', 'CC(=O)Nc1ccc(S(=O)(=O)N[C@@H](C)C(=O)N2CCCc3ccccc32)cc1', 'COC(=O)Cc1ccc(SC)cc1.COc1cc2ncnc(N)c2cc1OC', 'CCC(=O)N1N=C(c2cccc(NS(C)(=O)=O)c2)C[C@@H]1c1ccc(OC)cc1', 'O=C(CNS(=O)c1ccccc1C(=O)NC1CCCC1)Nc1ccc(O)cc1', 'Cc1ccc(NC(=O)CN(C)C(=O)c2cccc(S(=O)(=O)NC3CC3)c2)cc1', 'C[C@H]1CCc2c(sc(NC(=O)[C@H]3CC(=O)N(Cc4ccco4)C3)c2C(N)=O)C1', 'CCN(CC)c1ccc(NC(=O)c2cccc(N3C(=O)CCS3(=O)=O)c2)cc1', 'CCN(CCc1ccncc1)S(=O)(=O)c1ccc(N2C(=O)CCCC2=O)cc1', 'NS(=O)(=O)c1ccc(CCNC(=O)Cc2ccc(N3CCCC3=O)cc2)cc1', 'O=c1c2ccccc2[nH]c2ccc(S(=O)(=O)NCCCN3CCOCC3)cc12', 'Cc1cc(CSc2ccccc2C(=O)OCC(=O)N[C@@](C)(C#N)C(C)C)no1', 'CCS(=O)(=O)CCNC(=O)c1ccc(OCc2cn3cccc(C)c3n2)cc1', 'Cc1ccc(C(=O)CCC(=O)NNc2ccc(S(=O)(=O)NC3CC3)cc2)cc1', 'CCS(=O)(=O)N1Cc2ccccc2CC1C(=O)Nc1ccc(NC(C)=O)cc1', 'CNC(=O)c1ccc(C)c(NC(=O)c2cc(S(=O)(=O)NC3CC3)ccc2C)c1', 'Cc1cc(C(=O)OCC(=O)Nc2sc3c(c2C#N)CC[C@H](C(C)(C)C)C3)on1', 'Cc1cccc(NC(=O)CN(C)S(=O)(=O)c2ccc3c(c2)[C@H](C)C(=O)N3)c1C', 'C=CCOc1cccc(/C=N/NC(=O)CN(C)S(=O)(=O)c2ccc(C)cc2)c1', 'O=C(Cc1csc(NC(=O)c2ccc3c(c2)OCO3)n1)NC1CCCCCC1', 'CC(=O)Oc1cccc(C(=O)Nc2nc3c(s2)CN(C(=O)CC(C)C)CC3)c1', 'NC(=O)C1CCCN1CC(=O)N(Cc1cccs1)c1ccc2c(c1)OCCO2', 'C/C(=N/OCC(=O)N1CCN(Cc2cccs2)CC1)c1ccc2c(c1)OCO2', 'CCOCCOc1cccc(C(=O)NC(=S)Nc2ccc(NC(C)=O)cc2)c1', 'CCN(c1ccccc1)S(=O)(=O)c1cccc(C(=O)NCC(=O)NC2CC2)c1', 'CC(=O)Nc1cccc(NC(=O)c2ccc(C)c(S(=O)(=O)N3CCCC3)c2)c1', 'COc1ccc(S(=O)(=O)N2CCN(Cc3nc4cc(C)ccc4o3)CC2)cc1', 'COc1ccc(C(=O)NC(=S)NNC(=O)COc2ccccc2C(C)C)cc1', 'Cc1c(C#N)c(Cc2ccccc2S(=O)(=O)N2CCCC2)c(C)n1CC(=O)O', 'COC(=O)C(C)Sc1ccccc1C(=O)N(C)CC(=O)Nc1cc(C)ccn1', 'Cc1ccc(-c2onc(C)c2NC2(C)C(=O)N3[C@@H](C(=O)O)C(C)(C)S[C@@H]32)cc1', 'NC(=O)c1ccc(S(=O)(=O)N2CCN(Cc3ccc4c(c3)CCO4)CC2)cc1', 'CCN(CC(=O)Nc1ccc(OC)cc1)C(=S)NCc1ccc2c(c1)OCO2', 'CCC(C)NC(=O)Cn1c(=O)n(S(=O)(=O)c2ccccc2C)c2ccccc21', 'CCCOC(=O)c1ccc(NC(=O)CSc2nc3c(c(=O)[nH]2)CCCC3)cc1', 'NC(=O)Cc1ccc(NC(=O)c2ccc(S(=O)(=O)N3CCCCC3)cc2)cc1', 'C=Cc1cnc(NC(=O)c2cccc(S(=O)(=O)N3CCCCC3)c2)c(OC)c1', 'O=C(O)[C@H]1CCCN1C(=O)Cc1sc2c(c1-c1nc(C3CC3)no1)CCCC2', 'CNC(=O)c1ccc(CN(C2CC2)S(=O)(=O)c2ccc(NC(C)=O)cc2)cc1', 'COc1ccc(C(=O)N(Cc2ccncc2)C2CC2)cc1S(=O)(=O)NC1CC1', 'Cc1ccccc1S(=O)(=O)n1c(=O)n(CC(=O)NC(C)(C)C)c2ccccc21', 'CCc1ccc2c(CC(=O)Nc3cc(S(N)(=O)=O)ccc3N(C)C)coc2c1', 'COc1ccc(S(=O)(=O)NCc2ccc(C)cc2)cc1-c1nc(C(C)C)no1', 'CCS(=O)(=O)Nc1ccc(OCC2CC2)c(-c2cn(C)c(=O)c3[nH]ccc23)c1', 'CCCC(=O)NNC(=S)NC(=O)c1cccc(OCCOc2ccccc2)c1', 'Cc1cc(C)cc(N([C@@H](C)C(=O)N2CC(=O)Nc3ccccc32)S(C)(=O)=O)c1', 'Cc1ccc(OCCN(C)C(=O)c2ccc(S(=O)(=O)NCCC#N)cc2)cc1', 'COc1ccc(C)cc1CN(C)C(=O)C(C)/N=C1\\\\NS(=O)(=O)c2ccccc21', 'Cc1nc(-c2ccccc2)c(C(=O)OCC(=O)NC(=O)NC2CCCCC2)s1', 'COCCN(CCOC)C(=O)c1oc2ccccc2c1CSc1ncccn1', 'COc1ccc(C)cc1S(=O)(=O)NC1CCC(Oc2ccc(C#N)cn2)CC1', 'COc1ccc(CC(=O)N2CCc3nc(NC(=O)C4CCCO4)sc3C2)cc1', 'COc1ccc(C2=NN(C(N)=S)[C@H](c3cc(OC)c(OC)c(OC)c3)C2)cc1', 'C[C@@H]1CN(c2c(C=O)cc3c(NC[C@H](C)SC=O)coc3c2C#N)C[C@@H](C)O1', 'Cc1ccc(C)c(OCc2nnc(SCC(=O)N(C)Cc3ccc(C)o3)o2)c1', 'Cc1cc(NC(=O)c2ccc(S(=O)(=O)N(C)C)cc2)ccc1N1CCCC1=O', 'Cc1cccc(NC(=O)c2ccc(S(=O)(=O)N3CCN(C=O)CC3)cc2)c1C', '[H]N=S(=O)(CC)c1ccc(OC2CCOC2)c(-c2cn(C)c(=O)c3[nH]ccc23)c1', 'CCN(CCCNC(=O)c1cc(-c2ccco2)nc2ccccc12)S(C)(=O)=O', 'COc1cc(/C=N\\\\N(C)C(=S)NCc2ccccc2)cc(OC)c1OC(C)=O', 'C[C@H](OC(=O)[C@@H]1CS[C@@]2(c3ccccc3)CCC(=O)N12)C(=O)N(C)CCC#N', 'COc1cc(C)c(S(=O)(=O)N(C)Cc2nc(-c3cccc(C)c3)no2)c(C)c1', 'Cc1ccc(NC(=O)CSCC(=O)N(C)[C@H](C)c2cccc([N+](=O)[O-])c2)cc1', 'O=C(CCC1CCCC1)NNC(=O)CN1c2cccc3cccc(c23)S1(=O)=O', 'CC[C@H](C(=O)N1CC(=O)Nc2ccccc21)N(c1ccc(C)cc1)S(C)(=O)=O', 'CNC(=O)COc1cccc(NC(=O)C2CCN(C(=O)c3cccs3)CC2)c1', 'Cc1ccc(CN(C)C(=O)c2cccc(S(=O)(=O)N3CCNC(=O)C3)c2)cc1', 'COc1cccc(/C(C)=N/NC(=O)c2cccc(S(=O)(=O)N3CCCC3)c2)c1', 'C=CCSc1nc2c(c(=O)[nH]1)[C@H](c1ccc(OCCC)c(OC)c1)CC(=O)N2', 'Cc1cc(C)cc(C(=O)NNC(=O)c2cccc(S(=O)(=O)N3CCCC3)c2)c1', 'CC(=O)Nc1ccc(S(=O)(=O)N[C@H]2CCN(c3ccc(C)c(C)c3)C2=O)cc1', 'O=C(NNC(=O)C1CCCN(S(=O)(=O)c2ccc3ccccc3c2)C1)C1CC1', 'CCOc1ccc(C(=O)NC(=S)Nc2ccc([C@H](C)CC)cc2)cc1[N+](=O)[O-]', 'Cc1ccc(NC(=O)CN(C)C(=O)c2ccc(S(=O)(=O)NC3CC3)cc2)cc1', 'CCCCN(C)S(=O)(=O)c1ccc(C(=O)N2CC(=O)Nc3ccccc32)cc1', 'COC(=O)c1c(NC(=O)CN(C)c2ccccc2C(N)=O)sc2c1CCCC2', 'O=C(C=Cc1cccc(S(=O)(=O)N2CCN(Cc3ccccc3)CC2)c1)NO', 'CCC(=O)Nc1ccc(S(=O)(=O)Nc2cccc(N3CCCC3=O)c2)c(C)c1', 'CN(C)C(=O)Cc1ccc(NC(=O)c2cccc(N3CCCS3(=O)=O)c2)cc1', 'CC(C)(C)NS(=O)(=O)c1ccccc1NC(=O)C1CC(c2ccccc2)=NO1', 'CCc1cc(C(=O)OC)c(NC(=O)C[C@@H]2Nc3cc(C)c(C)cc3NC2=O)s1', 'COc1cc(OC)c(OC)cc1CNC(=O)c1sc2nc(C)nc(C)c2c1C', 'CC(C)COc1cccc(C(=O)NC(=S)NNC(=O)COc2ccccc2)c1', 'CN(C)S(=O)(=O)CCCN1C(=O)NC(c2ccccc2)(c2ccccc2)C1=O', 'CCN1C(=O)c2cccc3c(S(=O)(=O)NCC4CC(C(C)C)=NO4)ccc1c23', 'COc1ncccc1C(=O)N1CCc2cc(S(=O)(=O)N3CCCCC3)ccc21', 'CCCCOc1ccccc1NC(=O)CC/N=C1\\\\NS(=O)(=O)c2ccccc21', 'COc1cccc(NC(=O)N2CCC3(CC2)SCC(=O)N3Cc2ccco2)c1', 'CNS(=O)(=O)c1cc(NC(=O)[C@H]2CC(=O)N(c3ccc(C)cc3)C2)ccc1C', 'Cc1ccc(N(CCCCO)C(=S)NC(=O)c2ccc([N+](=O)[O-])cc2)c(C)c1', 'Cc1cccc(C)c1NC(=O)c1ccc(S(=O)(=O)N2CCN(C=O)CC2)cc1', 'CCN(CC(=O)Nc1cccc(OC)c1)C(=O)c1ccccc1SCC(N)=O', 'C[C@H](N)C(=O)N1CCC[C@H]1C(=O)N(c1ccccc1)S(=O)(=O)c1ccccc1', 'CC(C)CN(Cc1cccc(OS(C)(=O)=O)c1)C(=O)Nc1cccc(C#N)c1', 'CC(C)N1CCc2c(sc(NC(=O)C3COc4ccccc4O3)c2C(N)=O)C1', 'COCCOc1ccccc1C(=O)NC(=S)Nc1ccccc1C(=O)N(C)C', 'O=C(CO/N=C\\\\c1ccccc1)Nc1cccc(S(=O)(=O)N2CCCCC2)c1', 'CS(=O)(=O)N1CCC(NC(=O)c2ccccc2NC(=O)c2ccccc2)CC1', 'CC(=O)N1CCc2cc(S(=O)(=O)Nc3ccc(N4CCOCC4)cc3)ccc21', 'CC(=O)Nc1ccc(SC(C)C(=O)N2CCN(C(=O)c3ccco3)CC2)cc1', 'O=C(CNc1ccc(S(=O)(=O)N2CCOCC2)cc1)N1CCc2ccccc21', 'CCOC(=O)C(=O)Nc1nc(-c2ccc3c(c2)CCN3C(=O)[C@H](C)CC)cs1', 'CN(C)S(=O)(=O)c1ccc(N2C[C@@H](O)[C@@H](O)C2)c(-c2cc3ccccc3[nH]2)c1', 'CCCc1ccc(NS(=O)(=O)c2cc3[nH]c(=O)c(=O)[nH]c3cc2C(C)C)cc1', 'Cc1ccc(SC2O[C@H](CO)[C@H](OCc3ccccc3)[C@H](O)[C@H]2N=[N+]=[N-])cc1', 'COc1ccc(C=CC(=O)Nc2cccnc2)cc1S(=O)(=O)N1CCCCC1', 'CC(=O)Nc1ccc(NC(=O)C2CCCN2S(=O)(=O)c2ccccc2)cc1C', 'COc1ccc([C@@H](CNC(=O)c2cc(-c3cccs3)on2)N(C)C)cc1OC', 'CCOc1ccc(NC(=O)Cn2cnc3sc(C)c(C)c3c2=O)cc1OCC', 'COCC(C)NS(=O)(=O)c1ccc(NC(=O)Cc2c[nH]c3ccccc23)cc1', 'Cc1cccc(OCCN(C)C(=O)CN(C)C2=NS(=O)(=O)c3ccccc32)c1', 'CN1CCN(C(=O)C2CN(S(=O)(=O)c3ccccc3)c3ccccc3O2)CC1', 'O=C(NCCCN1CCCC1=O)c1cccc(NS(=O)(=O)c2ccccc2)c1', 'Cc1noc(/C=C\\\\c2ccc(S(=O)(=O)N3CCCC3)cc2)c1NC(=O)C1CC1', 'CCCNC(=O)c1ccccc1NS(=O)(=O)c1ccc2c(c1)CCN2C(C)=O', 'O=C(CCSc1ccc2c(c1)OCCO2)N1C[C@@H](Cc2cnccn2)[C@H](O)C1', 'CCCCCCOc1ccccc1C(=O)NC(=S)Nc1cccc([N+](=O)[O-])c1', 'CCN1C[C@H](CN(C)S(=O)(=O)c2ccc3c(c2)CC(=O)N3)Oc2ccccc21', 'CN(C)c1cccc(C(=O)OCC(=O)N2CCN(C(=O)c3cccs3)CC2)c1', 'CC(NC(=O)CSc1ccc([N+](=O)[O-])cc1)c1ccc(N2CCOCC2)cc1', 'COc1ccccc1Cn1c(=O)n(C)c2cc(S(=O)(=O)NC3(C)CC3)ccc21', 'C=CCN1C(=O)C(Cc2ccccc2)C(=O)N=C1SCC(=O)N1CCOCC1', 'CCOC(=O)CN1CCN(c2nc(C)c(C(=O)CCc3ccccc3)s2)C1=O', 'CCC(=O)N1N=C(c2ccc(OC)cc2)CC1c1ccccc1NS(C)(=O)=O', 'CC(C)(C)c1nc2cc(NC(=O)Cc3ccccc3NS(C)(=O)=O)ccc2o1', 'CN(C)S(=O)(=O)c1cccc(C(=O)Nc2ccccc2C(=O)N2CCCC2)c1', 'COc1cc([N+](=O)[O-])c(C(=O)n2cccc/c2=N\\\\C2CCCCC2)cc1SC', 'COc1ccc(CC(=O)Nc2sc3c(c2C(N)=O)CCN(C(C)=O)C3)cc1C', 'Cc1cc([N+](=O)[O-])ccc1NC(=S)NC(=O)c1cccc(OCCC(C)C)c1', 'CN(C(=O)COC(=O)C[C@H]1Sc2ccccc2NC1=O)C1(C#N)CCCCC1', 'Cn1c(=O)oc2cc(S(=O)(=O)N3CCN(CCc4ccccc4)CC3)ccc21', 'CCOC(=O)Cc1csc(NC(=O)Nc2ccc(C)cc2C(=O)C2CCC2)n1', 'COc1c2c(cc3c1C(Nc1sc4c(c1C(N)=O)CCC4)N(C)CC3)OCO2', 'COc1cccc(C(=O)NCCS(=O)(=O)NCCc2c[nH]c3ccccc23)c1', 'Cc1ccc(C(=O)Nc2ccc(C(N)=O)cc2)cc1S(=O)(=O)N1CCCCC1', 'Cc1ccc([N+](=O)[O-])cc1NC(=S)NC(=O)c1ccc(OCCC(C)C)cc1', 'CC[C@@H](Oc1cccc(OC)c1)C(=O)N(CC)Cc1nc(-c2cccs2)no1', 'CCCCCOc1ccccc1C(=O)NC(=S)Nc1ccc([N+](=O)[O-])cc1C', 'CCOC(=O)Cc1csc(NC(=O)C2CC(=O)N(c3ccccc3CC)C2)n1', 'CCC(=O)N1N=C(c2ccccc2NS(C)(=O)=O)CC1c1ccccc1OC', 'CSCC[C@H](NC(=O)c1ccccc1)C(=O)OCC(=O)Nc1cc(C)ccn1', 'CCOC(=O)c1cc(CC)sc1NC(=O)CNc1cc(C#N)ccc1OCC', 'CS(=O)(=O)c1ccc(-c2nnc(NC(=O)C34CC5CC(CC(C5)C3)C4)o2)cc1', 'CCCCC(=O)Nc1cccc2c(S(=O)(=O)Nc3onc(C)c3C)cccc12', 'CC(C)c1ccc(NC(=O)COC(=O)Cc2csc(N3CCCC3=O)n2)cc1', 'NCC(=O)NC(CSC(c1ccccc1)c1ccccc1)C(=O)NCC(=O)O', 'O=C(Cc1ccccc1)NCC(=O)Nc1cccc(S(=O)(=O)N2CCCC2)c1', 'CCCOc1ccc(CNC(=O)CCc2nnc(-c3ccsc3)o2)cc1OC', 'COC(=O)c1ccc(NC(=O)C2CCCN(C(=O)NCc3cccs3)C2)cc1', 'C=CCSc1nc2c(c(=O)[nH]1)[C@@H](c1ccc(OCC)c(OCC)c1)CC(=O)N2', 'O=C(CSc1ccc([N+](=O)[O-])cc1)NCC1CN(Cc2ccccc2)CCO1', 'CC(=O)Nc1ccc(S(=O)(=O)NCC(O)c2ccc3c(ccn3C)c2)c(C)c1', 'O=C(NCCCN1CCCC1=O)c1ccc(S(=O)(=O)Nc2ccccc2)cc1', 'COc1ccccc1N1CCN(C(=O)C(C)Sc2ccc([N+](=O)[O-])cc2)CC1', 'O=C(CCNC(=O)c1ccsc1)Nc1ccccc1C(=O)NCC1CCCO1', 'CCN1CC23C=CC(O2)C(C(=O)N[C@@H]2CCC(=O)N[C@H]2c2ccsc2)C3C1=O', 'NS(=O)(=O)c1cccc(Oc2ccc(C(=O)N[C@H]3CN4CCC3CC4)cc2)c1', 'Cc1cccc(OCCCC(=O)NNC(=S)NCc2ccc3c(c2)OCO3)c1', 'CCc1ccc(CCC(=O)N2CCN(C(=O)c3ccc([N+](=O)[O-])s3)CC2)cc1', 'CC(=O)Nc1ccc(CNC(=O)CCNS(=O)(=O)/C=C/c2ccccc2)cc1', 'Cc1cc(S(N)(=O)=O)cc(NC(=O)CNC(C)c2cc3ccccc3o2)c1C', 'Cc1ccc(C(=O)Nc2cc3c(cc2S(=O)(=O)C(C)C)n(C)c(=O)n3C)cc1', 'COCCN1CCOc2ccc(/C=c3\\\\s/c(=C4\\\\CNC(C)C4=O)[nH]c3=O)cc21', 'CCN(CC)S(=O)(=O)c1cccc(NC(=O)COc2ccc(C#N)cc2C)c1', 'COc1ccc(OC)c(C2SCC(=O)N2CCC(=O)NCc2ccccn2)c1', 'Cc1cc(NC(=O)C2CCN(S(=O)(=O)c3ccccc3)CC2)ccc1C(N)=O', 'Cc1ncc2c(n1)C1(CCCN(S(=O)(=O)c3cc(C(=O)O)ccc3C)C1)CC2', 'CCCCCOc1ccc(C(=O)NC(=S)Nc2ccc(C)c([N+](=O)[O-])c2)cc1', 'CS(=O)(=O)N1C[C@@H]2C[C@H](C1)c1ccc(NC(=O)Cc3ccccc3)c(=O)n1C2', 'COCc1nc(OC)c2c(C)c(C(=O)NCc3ccccc3COC)sc2n1', 'CCS(=O)(=O)N1c2ccc(C(=O)Nc3ccc(NC(C)=O)cc3)cc2C[C@H]1C', 'O=C(Nc1cccnc1)C1CCC2(CCN(S(=O)(=O)c3ccccc3)CC2)O1', 'CCOc1ccc(NC(=O)CCc2ccc(C#N)cc2)cc1S(=O)(=O)N(C)C', 'CCN(CC)c1ccc(-c2nnc(SC(C)c3ccc(C(=O)OC)o3)o2)cc1', 'Cc1ccccc1C(=O)NCCC(=O)Nc1ccc(N2CCCS2(=O)=O)cc1', 'C#CCNS(=O)(=O)c1ccc(C(=O)NCC(c2ccco2)N2CCCC2)cc1', 'COCC(C)NS(=O)(=O)c1ccc(NC(=O)c2c(C)[nH]c3ccccc23)cc1', 'C=CCNS(=O)(=O)c1ccc(C(=O)NCc2ccc(OCC3CC3)nc2)cc1', 'COc1ccc(CNCCNS(=O)(=O)c2cccc3cnccc23)cc1OC', 'CC[C@H](C)[C@H](/N=C1\\\\NS(=O)(=O)c2ccccc21)C(=O)NOCc1ccccc1', 'CC(=O)Nc1ccc(NC(=O)c2ccc(N3CCCCS3(=O)=O)c(C)c2)cc1', 'O=C(Cn1cc(S(=O)(=O)N2CCCC2)ccc1=O)Nc1ccc2c(c1)CCC2', 'CCOC(=O)C1=C(CN2CCc3sccc3[C@@H]2C)NC(=O)N[C@@H]1c1ccco1', 'C=C(NNC(=O)c1cccc(S(=O)(=O)N2CCOCC2)c1)c1ccc(C)cc1', 'CO[C@H]1COCC[C@@H]1NS(=O)(=O)c1ccc(-c2ccc3cnn(C)c3c2)cc1', 'CCCC(=O)Nc1cccc(SC(C)C(=O)Nc2cc([N+](=O)[O-])ccc2C)c1', 'COc1ccc(-c2nc(C)c(C(=O)OCC(=O)N[C@](C)(C#N)C(C)C)s2)cc1', 'CC(=O)c1cccc(NC(=O)c2nn(C3CCS(=O)(=O)C3)c3c2CCCC3)c1', 'CN(C)C(=O)Cc1ccc(Oc2ccc3c(c2)S(=O)(=O)NC2CCCN32)cc1', 'CC(C)(C)c1ccc(C(=O)NCCCNC(=O)c2cc(-c3cccs3)on2)o1', 'CCOC(=O)Cc1csc(NC(=O)[C@@H]2CC(=O)N(c3ccc(CC)cc3)C2)n1', 'CC(C)C(=O)NNC(=O)c1cccc(S(=O)(=O)N2CCc3ccccc3C2)c1', 'O=C(Nc1cccnc1)[C@H]1CN(S(=O)(=O)c2ccccc2)CC12CCOCC2', 'CC(=O)c1ccc(S(=O)(=O)N2CCC(C(=O)Nc3cc(C)ccn3)CC2)cc1', 'CC[C@H](C)NC(=O)c1ccccc1NS(=O)(=O)c1ccc2c(c1)CCC(=O)N2', 'CN(C)S(=O)(=O)c1ccc(NC(=O)[C@H]2CC(=O)N(Cc3ccccc3)C2)cc1', 'COC1=C(C=CC(=C1)N2CCOCC2)NC(=O)C3=CSC(=N3)C4=CN=CC=C4', 'Cc1c(NC(=O)CN2CCCC2c2nc3ccccc3s2)cccc1[N+](=O)[O-]', 'O=C(Nc1ccc(C(=O)NCc2ccc(N3CCCC3)nc2)s1)c1ccco1', 'CCOc1ccc(Nc2nc(C(=O)Nc3cccc(NC(C)=O)c3)cs2)cc1', 'CCOc1ccc(C(=O)NNC(=O)c2cccc(-n3ccnc3SC)c2)cc1', 'COc1cccc(CNC(=O)c2nsc(C(=O)NCc3ccccc3)c2N)c1', 'CCN1C(=O)C(=Cc2cn(CC(=O)NC3CC3)c3ccccc23)C(=O)NC1=S', 'COc1ccc(/C=N/N=C2\\\\NC(=O)C(CC(=O)Nc3ccccc3C)S2)cc1', 'Cc1ccc([N+](=O)[O-])cc1NC(=O)CCSc1nc2c(cc1C#N)CCCC2', 'Cc1ccc(C)c(C(=O)CCC(=O)Nc2nc(-c3c[nH]c(C(N)=O)c3)cs2)c1', 'C[C@H]1CCc2c(sc3ncn(CC(=O)NNC(=O)c4ccccc4)c(=O)c23)C1', 'Cc1cc(NC(=O)CSCC(=O)NN(c2ccccc2)c2ccccc2)no1', 'COc1ccc(CNC(=O)CNC(=O)c2sc(-c3ccccn3)nc2C)cc1', 'C=CCn1c(SCC(=O)Nc2c([N+](=O)[O-])ccc(C)c2C)nc2ccccc21', 'CC(=O)N1CCN(C(=O)c2csc(Cc3n[nH]c(=O)c4ccccc34)c2)CC1', 'CC(NC(=O)c1cc([N+](=O)[O-])ccc1N(C)C)c1cccc(-c2nccs2)c1', 'O=S(=O)(Cc1cc(N2CCOCC2)nc(-c2cccnc2)n1)c1ccccc1', 'Cc1csc(-c2cccc(C(=O)N3CCC(n4cc(C(=O)O)cn4)CC3)c2)n1', 'CCSc1nnc2c(n1)OC(c1ccc(C)o1)N(C(=O)CC)c1ccccc1-2', 'O=C(CCNC(=O)[C@@H]1CS[C@H]2c3ccccc3C(=O)N12)NCc1cccnc1', 'CCOc1cccnc1NC(=O)c1csc(NC(=O)CCc2ccccc2)n1', 'C=CCc1cccc(/C=N/n2c(-c3ccc(OC)c(OC)c3)n[nH]c2=S)c1O', 'CCOc1ccc2nc(N(CCCn3ccnc3)C(=O)c3ccco3)sc2c1', 'CCN(Cc1nc2ccccc2c(=O)[nH]1)C(=S)NCc1ccc2c(c1)OCO2', 'CC(NC(=O)CCc1csc(NC(=O)c2ccc(=O)[nH]c2)n1)c1ccccc1', 'CCOC(=O)c1cccc(NC(=O)Cn2c(-c3cccc(C)c3)n[nH]c2=S)c1', '[H]/N=C1\\\\c2ccoc2NCN1c1ccc(NS(=O)(=O)c2ccc(CC)cc2)cc1', 'CCOc1ccc(-c2nnc3n2NC(c2ccc(OC)c(OC)c2)=CS3)cc1', 'Cc1[nH]nc(C(=O)NC(c2ccc3c(c2)CCCC3)c2cccs2)c1[N+](=O)[O-]', 'COc1cc(CNc2nccn3c(-c4cccs4)cnc23)cc(OC)c1OC', 'CCOC(=O)C1=C(CSC2=Nc3cccc4cccc(c34)N2)NC(=O)N[C@H]1C', 'CCOC(=O)[C@H](NC(=O)c1ccccc1)c1nnc(Nc2ccc(C)cc2)s1', 'CCOCc1c(-c2cc3cc(C)cc(OC)c3s2)c2c(N)ncnn2c1C=O', 'CCOc1cc(C2SCC(=O)Nc3c2c(C)nn3-c2ccccn2)ccc1O', 'COc1ccccc1-c1nnc(SCC(=O)c2ccc(NC(C)=O)cc2)n1C', 'CCCc1ccc([C@]2(C)NC(=O)N(Cc3cc(=O)n4ccsc4n3)C2=O)cc1', 'CC1Cc2cc(S(=O)(=O)N3CCc4c(nnn4-c4ccccc4)C3)ccc2O1', 'O=C(Nc1ccc(S(=O)(=O)N2CCCC2)cc1)c1cncn1-c1ccccc1', 'COc1ccc(NC(=O)c2csc(NC(=O)Nc3ccc(C)cc3)n2)cc1C', 'CN(C)S(=O)(=O)c1ccccc1CNC(=O)/C=C/c1cnc2ccccc2n1', 'N#Cc1ccccc1CN1CCN(C(=O)c2ccccn2)[C@H]2CS(=O)(=O)C[C@H]21', 'COC(=O)[C@@H](NC(=O)c1ccc(C)cc1)c1nnc(Nc2ccc(C)cc2)s1', 'CC(=O)N1CCc2cc(C(=O)[C@H](C)Sc3nnc(-c4ccco4)n3C)ccc21', 'CCN(CC(=O)NCc1cccs1)Cc1nc2c(oc3ccccc32)c(=O)[nH]1', 'CCn1c(=O)n(CC(=O)Nc2nc(-c3cc(C)oc3C)cs2)c2ccccc21', 'O=S(=O)(Cc1cc(N2CCOCC2)nc(-c2ccccn2)n1)c1ccccc1', 'C=CCn1c(SCCOc2cccc(C)c2)nnc1-c1ccc([N+](=O)[O-])cc1', 'CS(=O)(=O)N(Cc1cccnc1)C1CN(C(=O)c2ccc3ccccc3n2)C1', 'CCc1nnc(C(=O)Nc2cccc(C(=O)NCc3ccc(OC)cc3)c2)s1', 'Cc1ccc(CNC(=O)CN2C(=O)CSc3c2c(C)nn3-c2ccccc2)o1', 'COCCn1c(SCc2nc(-c3cccc(OC)c3)no2)nc2ccccc21', 'CCOC(=O)c1cccc(NC(=S)NCc2nc(-c3ccccc3C)no2)c1', 'Cc1occc1-c1nnc(SCCCCN2C(=O)c3ccccc3C2=O)n1C', 'CCCn1c(=O)c2sccc2n2c(=O)n(CC(=O)c3cc(C)ccc3C)nc12', 'O=C(NC1CCN(C(=O)c2ccoc2)CC1)c1c[nH]c(=S)n1-c1ccccc1', 'O=C(Nc1ccc(-n2cccn2)nc1)C1(S(=O)(=O)c2ccccc2)CCCC1', 'O=C(CN1CCC[C@H](c2nc3ccccc3s2)C1)Nc1ccc([N+](=O)[O-])cc1', 'CCn1c(SCC(=O)Nc2ccccc2)nnc1-c1cccc(C(=O)OC)c1', 'COC(=O)c1ccc(C2N=C3SC(C)(C#N)C=C3C(N3CCOCC3)=N2)cc1', 'Cc1noc(CC2C(=O)N(Cc3ccccc3)CCN2C(=O)c2ccsc2)n1', 'CSc1cccc(N2C(=O)C3CC(NC(=O)c4ccncc4)CCN3C2=O)c1', 'CC(=O)Nc1ccc(S(=O)(=O)N2CC=C(c3c[nH]c4cccnc34)CC2)cc1', 'COCCn1c(SCc2cc(-c3ccco3)on2)nnc1-c1cccc(C)c1', 'O=C(NCc1cccnc1)c1ccc(CN2CC(=O)N3CSC[C@@H]3C2=O)cc1', 'COc1cccc(CNC(=O)c2csc(NC(=O)Nc3cccc(C)c3)n2)c1', 'COc1ccc(-c2nnc3sc(CCc4ccc(OC)c(OC)c4)nn23)cc1', 'Cc1ccc(-n2nnnc2SCC(=O)c2ccc3c(c2)OCCCO3)cc1C', 'COc1ccc(-c2nc(S[C@@H](C)C(=O)Nc3cccc(C(C)=O)c3)n[nH]2)cc1', 'Cc1ccc(S(C)(=O)=O)cc1C(=O)Nc1cccc(-c2n[nH]c(C3CC3)n2)c1', 'CCn1c(=S)[nH]c2cc(C(=O)Nc3cc(C(=O)NC)ccc3C)ccc2c1=O', 'CCS(=O)(=O)N1CC=C(c2cncc(-c3nnc(-c4ccccc4)o3)c2)CC1', 'C=CCNS(=O)(=O)c1ccc(C(=O)NCc2ccccc2-n2cccn2)cc1', 'CC(=O)Nc1cccc(Nc2ccc(NS(=O)(=O)c3cccc(C)c3)cn2)c1', 'CNC(=O)Cc1ccc(NC(=O)c2ccccc2SCc2nc(C)no2)cc1', 'COc1ccc(C(=O)CSc2nnc(-c3ccncc3)n2C2CC2)cc1OC', 'COc1cccc(C=NNC(=O)c2sc(N)nc2C)c1OCc1ccccc1', 'O=C(NCc1ccc2c(c1)OCO2)[C@H]1CCCN(c2nc3cccnc3s2)C1', 'CN(C)C(=O)COc1ccc(NC(=O)Cc2csc(-c3ccccn3)n2)cc1', 'COc1ccccc1N1CCN(CC(=O)Nc2nc3ccc(C)cc3s2)C1=O', 'CC1(CC(=O)NN=Cc2cn(-c3ccccc3)nc2-c2cccs2)OCCO1', 'CCOc1cccc([C@@H]2Nc3ccccc3-c3nnc(SC)nc3O2)c1OC', 'CCOC(=O)Cn1c(O)c(/N=N/C(=S)Nc2ccccc2C)c2ccccc21', 'Cc1c(C(=O)O)cnn1-c1ccc(C(=O)N2CCC[C@H](c3nccs3)C2)cc1', 'COc1ccc(CNC(=O)c2csc(NC(=O)Nc3cccc(C)c3)n2)cc1', 'COc1ccccc1-n1c(-c2ccccc2)cnc1SC(C)C(=O)NC(N)=O', 'CC(=O)c1cccc(S(=O)(=O)N2CC[C@H](n3cc(-c4ccccc4)nn3)C2)c1', 'O=C(CC(c1ccccc1)c1ccc2c(c1)OCO2)NCCSc1ncn[nH]1', 'Cc1ccc(N(CCC#N)C(=O)C(C)Sc2nnc(-c3ccoc3C)o2)cc1', 'O=C(Nc1ccc(N2CCOCC2)cn1)c1ccccc1OCc1cscn1', 'CC(=O)c1cccc(S(=O)(=O)Nc2nc3ccccc3nc2N2CCCC2)c1', 'CC(C)(C)OC(=O)Nc1cccc(C(=O)Nc2nnc(-c3ccccc3)s2)c1', 'Cc1ccc(NS(=O)(=O)c2ccc(NC(=O)NCc3cccnc3)cc2)cc1', 'CC(=O)Nc1ccc(S(=O)(=O)Nc2ccc(Nc3ccc(C)cc3)cn2)cc1', 'O=C(Nc1nnc(CCc2ccccc2)s1)[C@@H]1CC(=O)N(Cc2ccco2)C1', 'CCOC(=O)Nc1nc2c(s1)CN(C(=O)c1ccc(-n3cccc3)cc1)CC2', 'CC(C)(C(=O)Nc1nncs1)C(c1ccccc1)c1ccc(NC(=O)O)cc1', 'CS(=O)(=O)c1ccc2ncnc(NCc3ccc(N4CCCC4=O)cc3)c2c1', 'NS(=O)(=O)c1cnn(CC(=O)N2CCc3ccccc3[C@H]2c2ccccc2)c1', 'N#Cc1c(N)nc(SCC2CCOC2)c(C#N)c1-c1ccc(OCCO)cc1', 'COc1ccccc1N1CCN(C(=O)c2cc(-c3cccs3)[nH]c(=O)n2)CC1', 'COCCn1c(SCc2ccc3ccccc3c2)nc2c1c(=O)[nH]c(=O)n2C', 'CN(c1cncc(C(=O)Nc2cccc3cccnc23)c1)C1CCS(=O)(=O)C1', 'CCn1c(SCc2cccc(C(=O)O)c2)nnc1-c1ccc(NC(C)=O)cc1', '[H]N=S(C)(=O)c1ccc(Cn2cnc3cnc4cc(OC)c(OC)cc4c32)cc1', 'CN(C)S(=O)(=O)c1ccc(C(=O)Nc2ccc(Nc3ccccc3)nc2)cc1', 'C[C@H](NC(=O)CCc1nnc(-c2ccsc2)o1)c1ccc2c(c1)CCC(=O)N2', 'CC(C)(C(=O)Nc1ccc(S(=O)(=O)Nc2ncccn2)cc1)c1ccccc1', 'COc1ccccc1-c1noc(C2CCCN2C(=O)c2cccnc2SC)n1', 'CCn1c(SCC(=O)Nc2ccc(C(=O)O)cc2)nnc1-c1cccc(C)c1', 'COc1ccc(C2=NN(CC(=O)N(C)C)C(=O)c3cc4sccc4n3C2)cc1', 'CCc1nnc(SCC(=O)NCc2ccc3c(c2)OCO3)n1-c1ccccc1', 'O=C(NCc1cccnc1)c1ccc(CN2CC(=O)N3CSCC3C2=O)cc1', 'Cc1ccc(-c2nnc(NC(=O)CCNC(=O)COc3ccccc3)s2)cc1', 'COc1ccc(N(c2nc(N)c(C(=O)c3ccccc3)s2)C(C)C(N)=O)cc1', 'CC(=O)c1ccc(S(=O)(=O)N2CCN(c3ncnc4ccccc34)CC2)cc1', 'NC(=O)NC(CC(=O)Nc1ccc(Cn2ccccc2=O)cc1)c1cccs1', 'CSc1ccccc1C(=O)N1CCC(N2C(=O)N=C3N=CC=CC3C2=O)CC1', 'O=C(N[C@H](C(=O)O)c1ccccc1)C1CCCN(c2ncnc3sccc23)C1', 'CN(C)S(=O)(=O)c1ccc(CNC(=O)c2cnc(-c3ccccc3)nc2)cc1', 'Cc1noc(C)c1COC(=O)c1cc(-c2cccs2)nc2c1cnn2C(C)C', 'CC(=O)Nc1cc(NC(=O)c2cccnc2SCc2cc(C)on2)ccc1C', 'CC1CN(C(=O)c2csc(-c3cnn(-c4ccccc4)c3)n2)CCC1C(=O)O', 'O=C(Nc1ccncc1)C1CCCN(S(=O)(=O)c2cccc3cccnc23)C1', 'COc1cc(/C=N/Nc2nc(-c3ccc(C)cc3)c(NC(C)=O)s2)ccc1O', 'Nc1ccncc1-c1cccc(C(=O)NCCc2ccc(S(N)(=O)=O)cc2)c1', 'CC(=O)c1cccc(Nc2ccc(NS(=O)(=O)CCc3ccccc3)nn2)c1', 'O=C(O)c1cnn(C2CCN(C(=O)c3csc(Cc4ccccc4)n3)CC2)c1', 'CCc1nnc(C(=O)Nc2ccc(C(=O)NCc3ccccc3OC)cc2)s1', 'O=C(CCc1nc(-c2ccsc2)no1)Nc1cccc(C(=O)N2CCCC2)c1', 'CCOC(=O)c1ccccc1NC(=O)CSc1nncn1-c1ccccc1C', 'Cc1cccc(-n2c(C)nnc2SCCC(=O)Nc2ccc3c(c2)OCO3)c1', 'O=C(CNc1ccccc1[N+](=O)[O-])N1CCC(c2nc3ccccc3s2)CC1', 'C#CCn1/c(=N/C(=O)c2cc(C)nn2CC)sc2cc(C(=O)OCC)ccc21', 'COc1ccc(CNC(=O)[C@H](C)n2nc(C)n3c(cc4sccc43)c2=O)cc1', 'Cc1sc2ncn(CC(=O)N3c4ccccc4NC(=O)C[C@H]3C)c(=O)c2c1C', 'Cc1noc(C)c1CSc1ncccc1C(=O)N(C)c1ccc(C(N)=O)cc1', 'CCCCOc1ccc(/C=N/Nc2nc(-c3cccc([N+](=O)[O-])c3)cs2)cc1', '[H]/N=C1\\\\SC(=Cc2cc3ccc(C)cc3nc2N2CCOCC2)C(=O)N1C(C)=O', 'CCOC(=O)c1ccc(NC(=O)c2sc3nc4c(cc3c2N)CNCC4)cc1', 'COc1ccc(C(=O)NCCNC(=O)Cc2csc(-c3ccccn3)n2)cc1', 'Cc1cccc(NC(=O)CCc2csc(NC(=O)C3C=CC(=O)N=C3)n2)c1C', 'CCOc1cc(/C=N/n2c(=O)cn[nH]c2=S)ccc1OCc1ccc(C)cc1', 'Cc1csc(CCCCNC(=O)c2cc(-c3ccco3)nc3onc(C)c23)n1', 'CCCC(=O)/N=c1\\\\sn(-c2ccc(OC)cc2)nc1C(=O)Nc1ccccc1', 'COc1cccc(N2C[C@@H](NC(=O)Nc3nc4ccc(C)cc4s3)CC2=O)c1', 'CCOC(=O)C(=NNc1ccccc1)c1csc(Nc2ccc(OC)cc2)n1', 'Cc1sc2ncn(CC(=O)N3c4ccccc4NC(=O)C[C@@H]3C)c(=O)c2c1C', 'CNC(=O)NC(=O)CSc1nc2ccccc2c(=O)n1Cc1ccc(C)cc1', 'Cc1ccc(CN(C)CC(=O)Nc2nc(-c3cccc([N+](=O)[O-])c3)cs2)cc1', 'Cc1ccc(NC(=O)CCc2csc(NC(=O)c3ccc(=O)[nH]c3)n2)c(C)c1', 'CCN1C(=O)CCc2cc(NC(=O)CCc3nnc(-c4ccsc4)o3)ccc21', 'O=C(CCc1nc(-c2ccccn2)cs1)N1CCN(C(=O)c2ccco2)CC1', 'CCn1c(=O)c(C(=O)CSc2ccccn2)c(N)n(Cc2ccccc2)c1=O', 'C[C@@H]1[C@H](C(=O)O)CCCN1C(=O)c1nc(-c2cccs2)n(-c2ccccc2)n1', 'COc1ccc2[nH]nc(Nc3ccnc4ccc(S(=O)(=O)C(C)C)cc34)c2c1', 'COc1ccccc1CNC(=O)CC1S/C(=N\\\\N=C\\\\c2ccccc2)NC1=O', 'COc1ccc([C@@H]2SCC(=O)Nc3c2c(C)nn3-c2ccccn2)c(OC)c1', 'COc1cccc(/C=N\\\\N=C2/NC(=O)[C@@H](CC(=O)Nc3ccc(C)cc3)S2)c1', 'COc1ccc(/C=N/N=C2\\\\NC(=O)C(CC(=O)NCc3ccccc3)S2)cc1', 'Cn1cc(-c2ccncc2/C=C/C(=O)Nc2ccc(CS(C)(=O)=O)cc2)cn1', 'CCOc1cc(C=NNc2nc(N)cs2)ccc1OC(=O)c1ccc(C)cc1', 'Cc1ccc(C)c2sc(N3CCN(C(=O)c4ccccc4[N+](=O)[O-])CC3)nc12', 'COc1ccc2c(c1)C[C@H](C(=O)NCCc1csc(-c3cnccn3)n1)CO2', 'CCOc1ccc(NC(=O)CSc2nnc(Cc3ccccc3)c(=O)[nH]2)cc1', 'NC(=O)c1ccc(Nc2nccc(-c3ccc(S(=O)CCCO)cc3)n2)cc1', 'CCC(=O)Nc1ccc(C(=O)NNC(=S)NC(=O)/C=C/c2ccccc2)cc1', 'O=C(Nc1nc(CC(=O)N2CCN(c3ccccc3)CC2)cs1)c1ccco1', 'CCn1c(SCC(=O)Nc2cccc(C(=O)O)c2)nnc1-c1cccc(C)c1', 'Cc1nc2ccc(C(=O)Nc3ccc4c(c3)N(S(C)(=O)=O)CC4)cc2nc1C', 'COc1ccc(/C=C2\\\\C=C(c3ccc(OC)cc3)N(C(=S)NN)NC2=O)cc1', 'CCNC(=O)c1ccc(NC(=O)CCn2c(=S)[nH]c3ccccc3c2=O)cc1', 'CCc1nn(CC(=O)NCc2cccs2)c(=O)c2cc3c(OC)cccc3n12', 'COc1ccccc1CNC(=O)[C@H](C)n1nc(C)n2c(cc3sccc32)c1=O', 'CCCS(=O)(=O)c1ccc(-c2cnc(N)c(C(=O)Nc3ccccc3)n2)cc1', 'CCN(C(=O)C=Cc1ccsc1)c1c(N)n(Cc2ccccc2)c(=O)[nH]c1=O', 'O=C(Nc1cccc(S(=O)(=O)N2CCCC2)c1)c1cncn1-c1ccccc1', 'COC(=O)C(C)Sc1ccccc1C(=O)Nc1cccc(-c2n[nH]c(C)n2)c1', 'CCn1c(SCC(=O)Nc2ccc(C(=O)OC)cc2)nnc1-c1ccccc1', 'Cc1ccc(-c2n[nH]c(=S)n2CC(=O)NCC2COc3ccccc3O2)cc1', 'COC(=O)[C@H]1CN(C(=O)c2ccc(Cn3nnc4ccccc43)cc2)CCS1', 'CCn1c(SC(C)C(=O)Nc2ccc(C(N)=O)cc2)nc2ccccc2c1=O', 'O=S(=O)(c1ccccc1)N1CN(C[C@@H]2CCCO2)c2nc3ccccc3nc21', 'Cc1ccn2cc(-c3ccc(C)c(NS(=O)(=O)c4c(C)noc4C)c3)nc2c1', 'CCCn1nc(C(=O)NNC(=O)C=Cc2ccc(C)s2)c2ccccc2c1=O', 'CC(=O)Nc1ccc(-n2c(C)cc(/C=C3\\\\C(=O)NC(=S)N(C)C3=O)c2C)cc1', 'CC(=O)N1c2ccc(NC(=O)c3sc4ncn(C)c(=O)c4c3C)cc2C[C@H]1C', 'COc1ccc(NC(=O)CN(C)C(=O)c2c[nH]c(=S)n2-c2ccccc2)cc1', 'CCOc1cccc([C@H]2Nc3ccccc3-c3nnc(SC)nc3O2)c1OC', 'Cc1cc(N2C(=O)C[C@@H](N3CCC(c4nc5ccccc5s4)CC3)C2=O)no1', 'Cc1ccc(NS(=O)(=O)c2ccc(/N=N/c3cc(C)c(O)cc3N)cc2)cc1', 'Cc1noc(C)c1-c1cc(C)c2nc(NS(=O)(=O)C3=CCC=CC=C3)[nH]c2c1', 'CN(Cc1ccsc1)C(=O)COC(=O)/C=C/c1cn(Cc2ccccc2)nn1', 'COc1ccc2c(c1)c1nc(SCc3cccnc3)n(CCO)c(=O)c1n2C', 'CCOC(=O)c1ccc(NC(=O)CSc2n[nH]c(Cc3ccccc3)n2)cc1', 'COc1cccc(-c2cc(C(=O)Nc3nc4c(s3)[C@H]3CC[C@H](C4)N3C)no2)c1', 'COCCCn1c(N)c(S(=O)(=O)c2ccccc2)c2nc3ccccc3nc21', 'CCOc1ccc(/C=N\\\\n2c(-c3ccc(O)c(C(N)=O)c3)cs/c2=N\\\\C)cc1', 'COc1ccc(C(C)=N/N=C(\\\\N)SC2CC(=O)N(c3ccccc3)C2=O)cc1', 'COC(=O)c1ccc(C(=O)N[C@H]2CCCN(c3nc4ccccc4s3)C2)nc1', 'CCOc1cc(/C=N/n2c(=O)cn[nH]c2=S)ccc1OCCc1ccccc1', 'COc1ncccc1C(=O)N1CCC(c2c(C(N)=O)sc3ncccc23)CC1', 'CC1Cc2cc(S(N)(=O)=O)ccc2N1CC(=O)Nc1cccc2ncccc12', 'CC1SC(=O)NCN1c1ccc2c(c1)C(C)(C)C(=O)N2C(=O)c1cccnc1', 'CC(=O)Nc1ccc(NC(=O)CSCc2cc(=O)n3cc(C)ccc3n2)cc1', 'Cc1cc(C)nc(NS(=O)(=O)c2ccc(NC(=O)c3ccccc3C)cc2)n1', 'CCn1nc(C(=O)NNC(=O)c2ccc(CSC)cc2)c2ccccc2c1=O', 'COc1ccc2nc(NC(=O)CCC(=O)NN=Cc3ccc(C)cc3)sc2c1', 'CC(C)(C)OC(=O)Nc1ccc(C(=O)Nc2nc(-c3ccccc3)ns2)cc1', 'COc1cc(C=NNC(=O)c2sc(N)nc2C)ccc1OCc1ccccc1', 'CC(=O)N1CCC(Oc2ccnc3ccc(/C=C4\\\\SC(N)=NC4=O)cc23)CC1', 'COc1cccc(/C=N\\\\N=C2\\\\NC(=O)[C@@H](CC(=O)Nc3cccc(C)c3)S2)c1', 'C=CCOc1ccc(C(=O)Nc2ccc(Sc3nncn3C)cc2)cc1OC', 'CCN1C(=O)C(C)(C)COc2cc(NC(=O)c3ccc4nsnc4c3)ccc21', 'CCN(CC)c1nc(-c2cccc(NC(=O)c3cccc([N+](=O)[O-])c3)c2)cs1', 'CC(C)(C)C(=O)COC(=O)/C(=C/c1cccs1)n1nnnc1-c1ccccc1', 'Nc1ncc(-c2ccc3c(c2)CS(O)(O)N3)c2cc(C(=O)N3CCC3)ccc12', 'O=C(CSc1nnc(-c2ccccc2O)n1-c1ccccc1)N1CCOCC1', 'CCc1ccccc1-n1c(S[C@H](C)C(=O)NC(N)=O)nc2ccccc2c1=O', 'COc1ccc(OC)c(NC(=O)CSc2cc(-c3ccccn3)nc(C)n2)c1', 'CC1CCc2c(sc3ncn(CC(=O)NC(=O)Nc4ccccc4)c(=O)c23)C1', 'CCOC(=O)c1sc2ncnc(Nc3ccc(N4CCCC4=O)cc3)c2c1C', 'O=C(NCc1ccc(S(=O)(=O)N2CC[C@H]3C[C@H]32)cc1)c1ccc2nccn2c1', 'O=C(Cc1cccs1)NC1COC2C1OCC2n1cc(-c2ccccc2)nn1', 'CC(Nc1ccc(C(=O)N(C)Cc2cccs2)cc1[N+](=O)[O-])c1ccccn1', 'Cc1noc(C)c1-c1c(S/C(N)=N\\\\O)c2ccccc2n1C1=CC=C(O)CC1', 'CS(=O)(=O)c1ccccc1-n1cc(NC(=O)N2CCc3ccccc3C2)cn1', 'CCNC(=O)c1cccc(NC(=O)Cn2cnc3sc4c(c3c2=O)CCC4)c1', 'COc1nc2ccc(NC(=O)C3CCN(C(=O)c4cccnc4)CC3)cc2s1', 'O=C(Cc1c[nH]c2ccccc12)Nc1cccc(S(=O)(=O)NC2=NCCC2)c1', 'NC(CNS(=O)(=O)c1ccccc1)c1ccc(C(=O)Nc2ccncc2)cc1', 'Cn1c(SCC(=O)NC[C@H]2COc3ccccc3O2)nnc1-c1ccccc1', 'C[C@@H]1CCc2sc(C(=O)NNC(=O)Cn3ncc(=O)c4ccccc43)cc2C1', 'COC(=O)c1ccc(CNC(=O)Cn2c(-c3cccc(C)c3)n[nH]c2=S)cc1', 'Cc1nc(NCC(=O)N2CCC[C@@H]2C(=O)O)c2cc(-c3ccccc3)sc2n1', 'CN(C)c1cc(CNC(=O)CN2c3cccc4cccc(c34)S2(=O)=O)ccn1', 'COc1cccc(CNC(=O)Cn2nc(C)n3c(cc4sc(C)cc43)c2=O)c1', 'COCCn1ccc2cc(NC(=O)c3sc4ncn(C)c(=O)c4c3C)ccc21', 'CCNC(=O)c1cccc(NC(=O)c2ccccc2SCc2nc(C)no2)c1', 'CCOC(=O)CNC(=O)CSc1nnc(-c2ccccc2)n1-c1ccccc1', 'O=C1COCc2cc(/C=C/C(=O)N3CCC(=Cc4nccs4)CC3)cnc2N1', 'O=C(c1nc2c(s1)CCOc1cc(-c3cn[nH]c3)ccc1-2)N1CCCC(O)C1', 'CCc1ccc(-c2csc(NC(=O)[C@H](C)OC(=O)c3cnc(C)cn3)n2)cc1', 'COc1ccc([C@H]2Cn3nnc(C(=O)Nc4cccc(SC)c4)c3CO2)cc1', 'CNC(=O)OC[C@@H]1CCc2c(sc(NC(=O)/C=C/c3cccnc3)c2C#N)C1', 'COc1cc(CNc2nccn3c(-c4ccsc4)cnc23)cc(OC)c1OC', 'Cc1cccc(NC(=O)NC(=O)Cn2cnc3sc4c(c3c2=O)CCC4)c1C', 'COc1ccc(/C=N\\\\n2c(=S)[nH]nc(C)c2=O)cc1OCc1ccc(C)cc1', 'CCSC1=NN2C(=c3ccccc3=NC2c2ccc(OC)c(OC)c2)C(=O)N1', 'CN(c1ccc(NC(=O)NCc2ccncc2)cc1)S(=O)(=O)c1ccccc1', 'CNC(=O)NC(=O)[C@@H](Sc1nnc(-c2cc(C)cc(C)c2)o1)c1ccccc1', 'Cc1cc(NC(=O)c2ccco2)sc1C(=O)Nc1ccc(N2CCCC2)nc1', 'COc1cc(C)ccc1NC(=O)c1csc(NC(=O)Nc2ccc(C)cc2)n1', 'Cc1ccc(NC(=O)c2nnc(COCC(=O)NCc3ccccc3)s2)cc1', 'O=C(Nc1sccc1C(=O)NC1CC1)C1=NN(Cc2ccccc2)C(=O)CC1', 'O=C(CSc1n[nH]c(-c2ccccc2)n1)NCCc1ccc2c(c1)OCCO2', 'Cc1csc([C@H](Cc2ccc([N+](=O)[O-])cc2)NC(=O)NCc2ccccc2)n1', 'C[C@H](C1=CC=CC2=CC=CC=C21)NCCCC3=CC(=CC=C3)C(F)(F)F', 'CC(C)c1ccc([C@@H]2Nc3ccc(C(F)(F)F)cc3[C@@H]3C=CC[C@@H]32)cc1', 'Cc1ccc2ccccc2c1CNCCCc1cccc(C(F)(F)F)c1', 'CC1=C(C)C(c2ccccc2)N(c2cccc(C(F)(F)F)c2)C(C)=C1C', 'CC(NC/C=C/C1=CC=CC(C(F)(F)F)C1)c1cccc2ccccc12', 'C=C(CCC(=C)c1ncccc1C(F)(F)F)c1ccc2c(c1)CCCC2', 'C[C@H](c1cccc2ccccc12)C(N)CCc1cccc(C(F)(F)F)c1', 'CCCCCCc1ccc(-c2nc3ccccc3cc2C(F)(F)F)cc1', 'Cc1ccc(C(N)c2ccc(C(F)(F)F)cc2)cc1.Cc1ccccc1', 'CC(C)c1ccc([C@@H]2Nc3c(cccc3C(F)(F)F)[C@@H]3C=CC[C@@H]32)cc1', 'C=C1C(F)=CC(c2ccccc2)=C(c2c(F)cccc2F)N1CC.CC', 'CN(C)C1CCC2=C(C1)c1cc(C(F)(F)F)ccc1Cc1ccccc12', 'CCCN(c1ccccc1C(F)(F)F)C(C)c1cccc2ccccc12', 'CC(NCCCc1ccccc1C(F)(F)F)c1cccc2ccccc12', 'C[C@@H](CN[C@H](C)c1cccc2ccccc12)c1cccc(C(F)(F)F)c1', 'CCCCCC(F)=C(F)c1ccc(CCc2ccc(C#N)c(F)c2)cc1', 'CCCN(c1ccccc1)C(CC(F)(F)F)c1cccc2ccccc12', 'Cc1cc(C)cc(-c2ccc3ccc(CC(C)(C)C(F)(F)F)cc3n2)c1', 'CCCCC(Nc1ccc(C(F)(F)F)cc1)c1cccc2ccccc12', 'CC(C)c1ccc([C@@H]2Nc3c(cccc3C(F)(F)F)[C@H]3C=CC[C@H]32)cc1', 'C=C1C(F)=CC(c2ccccc2)=C(c2c(F)cc(C)cc2F)N1C.CC', 'NC(CCc1cccc(C(F)(F)F)c1)CCc1cccc2ccccc12', 'Cc1cc(C)cc(-c2cc3cc(CC(C)(C)C(F)(F)F)ccc3cn2)c1', 'C[C@@H]1CC[C@@H]2CC(c3cc4cc(F)cc(F)c4c(F)c3C#N)CCC2C1', 'CC(NCC=CC1=CCCC(C(F)(F)F)=C1)c1cccc2ccccc12', 'CC(NCCCc1cccc(C(F)(F)F)c1)c1ccc2cccccc1-2', 'CC(C)c1cccc2c1N[C@H](c1ccccc1C(F)(F)F)[C@H]1CC=C[C@H]21', 'Cc1cn(CC2CCCC2)c2cc(-c3ccccc3C(F)(F)F)ccc12', 'CCCCCc1cc(F)c(C2CCc3cc(C#N)c(F)cc3C2)c(F)c1', 'C=C1C=CC(c2ccccc2)=C(c2ccccc2F)N1CC(F)F.CC', 'CC(C)c1ccc(-n2c3c(c4ccccc42)CCCC3)c(C(F)(F)F)c1', 'CCCc1ccc(CCC2CCc3c(cc(F)c(C#N)c3F)C2)c(F)c1', 'C[C@@H](NC/C=C/C1=CC=CC(C(F)(F)F)C1)c1cccc2ccccc12', 'CC(C)c1ccc([C@@H]2Nc3ccc(C(F)(F)F)cc3[C@H]3C=CC[C@H]32)cc1', 'CC1CC(CCCc2c(-c3ccc(F)cc3)[nH]c3c(F)cc(F)cc23)C1', 'CC(C)c1ccc([C@@H]2Nc3c(cccc3C(F)(F)F)[C@H]3C=CC[C@@H]32)cc1', 'C[C@H](CN[C@H](C)c1cccc2ccccc12)c1cccc(C(F)(F)F)c1', 'C=C1C=CC(c2ccccc2)=C(c2c(F)cc(F)cc2F)N1CC.CC', 'C[C@@H](NCCCc1cccc(C(F)(F)F)c1)c1ccc2ccccc2c1', 'CC1CCC2CC(c3cc4cc(F)cc(F)c4c(F)c3C#N)CCC2C1', 'FC(F)(F)c1ccc(-c2ccc3c(ccn3CC3CCCCC3)c2)cc1', 'C/C=C\\\\C=C(/C=C(\\\\C)C(F)(F)F)N(c1ccccc1)c1ccc(C)cc1', 'CC(CNC(C)c1cccc2ccccc12)c1cccc(C(F)(F)F)c1', 'CCCc1ccc(C2CCC(C#Cc3cc(F)c(F)nc3F)CC2)cc1', 'C/C=C\\\\C(C#Cc1ccnc(C)c1)=C(/CC)C1=CC=C(C(F)(F)F)CC1', 'CC(C)c1ccc([C@@H]2Nc3ccc(C(F)(F)F)cc3[C@@H]3C=CC[C@H]32)cc1', 'CC(C)c1cccc2c1N[C@H](c1ccccc1C(F)(F)F)[C@H]1CC=C[C@@H]21', 'CC(c1cccc2ccccc12)C(CCN)c1cccc(C(F)(F)F)c1', 'CC(c1cccc2ccccc12)C(N)CCc1cccc(C(F)(F)F)c1', 'CC1(N)C=CC=C([C@@](C2=CCCC=C2)(c2ccccc2)C(F)(F)F)C=C1', 'C=C1C(C)=CC(c2ccccc2)=C(c2c(F)cc(F)cc2F)N1C.CC', 'CCCc1cc(F)c(CCC2CCc3cc(C#N)c(F)cc3C2)c(F)c1', 'C=Cc1ccc(C2=NCC(c3cc(C)cc(C)c3)(C(F)(F)F)C2)cc1C', 'Cc1cc(C)cc(-c2ccc3c(CC(C)(C)C(F)(F)F)cccc3n2)c1', 'C=CCC1(C)c2cc(C(F)(F)F)ccc2N(C)C1/C=C/c1ccccc1', 'CCCC(c1ccccc1)(C(N)c1cccc2ccccc12)C(F)(F)F', 'Cc1cc(C)cc(-c2ccc3cc(CC(C)(C)C(F)(F)F)ccc3n2)c1', 'Cc1ccc2c([C@H](CC3CC3)CC(F)(F)F)c(-c3ccccc3)[nH]c2c1', 'CC(C)c1cccc2c1N[C@H](c1ccccc1C(F)(F)F)[C@@H]1CC=C[C@@H]21', 'Cc1cc(C)cc(-c2ccc3c(CCC(C)C(F)(F)F)cccc3n2)c1', 'CCn1c(-c2ccc(C(F)(F)F)cc2)cc(Cc2ccccc2C)c1C', 'Cc1cccc(-c2ncc(C)c3cc(CC(C)(C)C(F)(F)F)ccc23)c1', 'CCCC1CCC(c2cc(F)c(-c3ccc(C#N)c(F)c3)c(F)c2)CC1', 'CC(NCCCc1cccc(C(F)(F)F)c1)c1ccc2ccccc2c1', 'FC(F)(F)c1cccc(CCCNCCc2cccc3ccccc23)c1', 'CCCCC/C(F)=C(\\\\F)c1cccc(CCc2ccc(C#N)c(F)c2)c1', 'CCCCCc1ccc(C2CCc3c(cc(F)c(C#N)c3F)C2)c(F)c1', 'CCCc1cc(F)c(CCC2CCc3c(ccc(C#N)c3F)C2)c(F)c1', 'CCCCCc1cc(F)c(C2CCc3c(ccc(C#N)c3F)C2)c(F)c1', 'CC(NC/C=C/c1cccc(C(F)(F)F)c1)c1cccc2c1C=CCC2', 'CCCC1CCC(c2ccc(F)c(-c3ccc(C#N)c(F)c3)c2F)CC1', 'C[C@@]12CCCC[C@]1(CC(F)(F)F)N=C(c1ccccc1)c1ccccc12', 'C=C(/N=C/C)c1ccc(CC(C)/C=C(\\\\C)c2c(F)cc(F)cc2F)cc1', 'C=C(/C=C\\\\N(C)C(=C)c1ccc(CC(F)(F)F)cc1)/C=C/C1=CC=CC1', 'FC(F)(F)c1c(CCCc2ccccc2)n2c3c(cccc13)CCCC2', 'C[C@@H](NC/C=C/C1=CCC=C(C(F)(F)F)C1)c1cccc2ccccc12', 'Cc1cc(C)cc(-c2cc(CC(C)(C)C(F)(F)F)c3ccccc3n2)c1', 'C[C@@H](NCCCc1ccccc1C(F)(F)F)c1cccc2ccccc12', 'CN1CCC(C2c3ccccc3C=Cc3ccc(C(F)(F)F)cc32)CC1', 'CC(/N=C/CCc1cccc(C(F)(F)F)c1)c1cccc2c1C=CCC2', 'CCCCC/C(F)=C(/F)c1ccc(CCc2ccc(C#N)c(F)c2)cc1', 'Cc1ccc2c(c1)C=CC1(C2)N(C)c2ccc(C(F)(F)F)cc2C1(C)C', 'C=C(C)c1ccc(C(NC(=C)c2ccccc2C(=C)C)C(F)(F)F)cc1', 'CC(C)c1ccc([C@@H]2Nc3ccc(C(F)(F)F)cc3[C@H]3C=CC[C@@H]32)cc1', 'C.C=CN1C=C(C2=C(c3cc(F)c(F)cc3F)CC(C)C=C2)C=CC1=C', 'C[C@@H](NCCCc1ccc(C(F)(F)F)cc1)c1cccc2ccccc12', 'C=Cc1cc(C(=C)CCC(=C)c2ccccc2C(F)(F)F)ccc1NC', 'CCCN(c1ccccc1)C(C)(c1cccc2ccccc12)C(F)(F)F', 'CC(C)c1ccc([C@@H]2Nc3c(cccc3C(F)(F)F)[C@@H]3C=CC[C@H]32)cc1', 'Cc1cc(C)cc(-c2nccc3cc(CC(C)(C)C(F)(F)F)ccc23)c1', 'CC(C)c1cccc2c1N[C@H](c1ccccc1C(F)(F)F)[C@@H]1CC=C[C@H]21', 'CCCC1CCC(c2ccc(C#Cc3cc(F)c(F)nc3F)cc2)CC1', 'CC(NCC=CC1=CC=CC(C(F)(F)F)C1)c1cccc2ccccc12', 'Fc1cccc(-c2ccc(/C=C/C3CCC4CC(F)(F)CCC34)nc2)c1', 'Cc1ccc2c([C@@H](CC3CC3)CC(F)(F)F)c(-c3ccccc3)[nH]c2c1', 'CC(NCCCc1ccc(C(F)(F)F)cc1)c1cccc2ccccc12', 'Cc1ccc2c(C(CC3CC3)CC(F)(F)F)c(-c3ccccc3)[nH]c2c1', 'C[C@@H](/N=C/CCc1cccc(C(F)(F)F)c1)c1cccc2c1C=CCC2', 'C[C@H](NCCCc1cccc(C(F)(F)F)c1)c1ccc2ccccc2c1', 'CCCCC/C(F)=C(\\\\F)c1ccc(CCc2ccc(C#N)c(F)c2)cc1', 'C=Cc1cccc(/C(C)=C(/N=C(C)C)c2c(C)cccc2C(F)(F)F)c1', 'C1CCC(CC1)NC(=O)N[C@@H](CC2=CC=CC=C2)C(=O)N3CCCCC3', 'CCOc1ccc(CN(C)/C(=N\\\\C)NC2C3CCOC3C23CCC3)cc1', 'O=C(CN1CCCCCCC1)Nc1ccccc1C(=O)NC1CCCC1', 'Cc1ccccc1C(=O)NC1CCN(CC(=O)N2CCC[C@@H](C)C2)CC1', 'C/N=C(\\\\NCCc1ccc(OC2CCCC2)cc1)NC1CC2CCC1O2', 'COc1cccc(CN(Cc2cn[nH]c2C(C)(C)C)CC2CCCO2)c1', 'O=C(c1ccc(OCCCN2CC3CCCC3C2)cc1)N1CCNCC1', 'CCN(CCNC(=O)c1ccc2c(c1)CCCCN2)C(=O)CC1(C)CC1', 'CC(C)CCNC(=O)N1C[C@H]2CCCC(=O)N(Cc3ccccc3)[C@H]2C1', 'CCC(C)NC(=O)C1(C(=O)N2CCN(c3cccc(C)c3C)CC2)CC1', 'CCCCCN1CC(C(=O)N2CCN(Cc3ccccc3)CC2)CC1=O', 'C=CCNC(=O)C1(N(CC(C)(C)C)C(=O)c2ccncc2)CCCCC1', 'COc1ccccc1N1CCC(N2CC[C@]3(CCCN(C)C3=O)C2)CC1', 'CC(NC(=O)CC(C)C1CCNCC1)c1ccc(NC(=O)C2CC2)cc1', 'CN1CCCC[C@@H]1CCC(=O)N1CCN(CCc2ccccc2)C(=O)C1', 'Cc1nc(CCC(C)C)c2n1CCN(Cc1cccc(OCCO)c1)C2', 'O=C(NCc1cccnc1)C1CCN(C(=O)CCC2CCCCC2)CC1', 'C[C@@H]1CN(C(=O)c2ccc(N3CCN(C)CC3)cc2)C[C@@]1(O)C1CCC1', 'CC1(C)CN(C(=O)C2CCCN(C(=O)Cc3ccccc3)C2)CCC1N', 'CN(C)c1ccc(CC(=O)N2CCCCC2CCN2CCCC2=O)cc1', 'Cc1cnccc1CNC(=O)C1CCC(NC(=O)CC2CCCC2)CC1', 'CCC1(C)CC2(NC(=O)NC2=O)C(C)C(C)(CC)N1Cc1ccccc1', 'COc1cc(NNc2ccccc2)ccc1OCCN(C(C)C)C(C)C', 'CN(C)c1ccc(NC(=O)CCC2CCCC2)cc1C(=O)N1CCCC1', 'Cc1ccc(CCC(=O)N2CCN(C(=O)NC3CCCCC3)CC2)cc1', 'CCN1CCN(C(=O)C2(C(=O)Nc3c(C)cccc3C(C)C)CC2)CC1', 'O=C(CC1CCCC1)NC1CCC(n2nc3c(cc2=O)CCCC3)CC1', 'CCCN1CCC(NC(=O)C2CC(=O)N(CCc3ccccc3)C2)CC1', 'CCC(CN1CCN(C)CC1)NC(=O)Cc1coc2cc(C)c(C)cc12', 'O=C(NCCC1=CCCCC1)Nc1ccc(CCN2CCOCC2)cc1', 'CCN(CC)c1ccc(NC(=O)C2CC2C(=O)N2CCCC(C)C2)cc1', 'COCCN1CC(CO)C2(CCN(Cc3c[nH]c4ccccc34)CC2)C1', 'CN(C)c1ccccc1C(=O)N1C[C@H]2CC[C@@H]1CN(C1CCOCC1)C2', 'CCCN(CCC)C(C)COc1ccc(Oc2ccc(N)c(N)c2)cc1', 'C=CCn1cc(CN2CCC[C@@]3(C4=CCOCC4)COCC[C@H]23)c(C)n1', 'C=CCN1CCN(C(=O)c2ccc3c(c2)C(O)CCCCCN3C)CC1', 'Cc1ccc(C)n1CCC(=O)N1C[C@@H]2C[C@H]1CN2C(=O)CC1CC1(C)C', 'CC(C)(CNC(=O)CN1CCCCCC1=O)N1CCc2ccccc2C1', 'CCCCNC(=O)C1CCC(C)N(CC(=O)N2CCc3ccccc32)C1', 'Cc1ccc2c(c1)c(CCN(C)C)cn2C(=O)OCCN1CCCCC1', 'CCCN1CCC(NC(=O)CC2c3ccccc3CCN2C(C)=O)CC1', 'CCOC(=O)CN1CCN[C@@H]2C1C(C)=CN1C3=C(CCC=C3)C[C@@]21CC', 'C/N=C(\\\\NCCC1=CCOCC1)NCc1ccc(C)cc1OCC1CC1', 'Cc1ccc(NC(=O)CN(C)CC(=O)N2CC[C@H]3CCCC[C@@H]3C2)cc1', 'CCC(C)N(CCNc1cc(OC)cc2cccnc12)CC1CCCO1', 'O=C(CNc1ccccc1N1CCC(CO)CC1)NC(C1CC1)C1CC1', 'Cc1cccc(CN2C(=O)CCCC[C@H]3[C@H]2CCN3CC(=O)N(C)C)c1', 'Cc1ccc(CCC(=O)NCC(=O)N2CCC(NCC3CC3)CC2)cc1', 'CCCCn1ccnc1[C@H]1CCCN(Cc2cc(OC)cc(OC)c2)C1', 'CCN(C(=O)C1CCN(C(=O)N2CCCC2)CC1)c1cc(C)cc(C)c1', 'CCCCCNC(=O)C1CC1C(=O)N1CCN(Cc2ccccc2)CC1', 'CC(C)c1ccc(N2CCC(C(=O)N3CCC(C(C)N)CC3)C2=O)cc1', 'Cc1nc(CN2CC[C@@H]3[C@@H](CCC(=O)N3CCC3=CCCCC3)C2)co1', 'C[C@@H]1CN(CC2CCN(CCOc3ccccc3C#N)CC2)C[C@H](C)O1', 'CCCCCCCn1c(C(C)NC(=O)C2CCCO2)nc2ccccc21', 'C[C@@H](c1ccccc1)N(CC(=O)NC1CCCCC1)C(=O)[C@@H]1CCCN1', 'CNCC1CCCN(C(=O)C2CCN(c3ccc(C(C)C)cc3)C2=O)C1', 'O=C1CCCN1Cc1cccc(CNC2CCCC2C2COCCN2)c1', 'CCc1[nH]c2c(CNC(=O)[C@@H](C)CN3CCOCC3)cc(C)cc2c1C', 'CC(=O)N1CCCC[C@@H]1C(=O)NCC1(c2ccccc2)CCN(C)CC1', 'CN(C)/N=N/c1cc2c(cc1CO)CCC1C2CCC2(C)C(O)CCC12', 'CC(C)c1nnc(C2CCN(C(=O)C34CC5CC(CC(C5)C3)C4)CC2)o1', 'CCCCN1C[C@]2(CCCN(C(=O)c3ccnc(CC)c3)C2)CCC1=O', 'CC(=O)N1Cc2ccccc2CC1C(=O)NC(C)CN1CCCC(C)C1', 'CC(N)CCC(=O)N1CCC(C(=O)N(Cc2ccccc2)C2CC2)CC1', 'Cc1cc(C)c(N2CC(C(=O)NCCC3CCCNC3)CC2=O)c(C)c1', 'O=C(C1COCCN1)N1CCN(Cc2ccccc2)C2(CCCCC2)C1', 'CC(C)NC(=O)[C@@H]1CCCN(CCC(=O)N2CCCc3ccccc32)C1', 'CCN(Cc1ccccc1)C1CCN(C(=O)CN2C(=O)CCC2C)CC1', 'C[C@@H]1CC(=O)NN=C1C1=CCC(C)(OC2CCN(C3CCC3)CC2)C=C1', 'C=C(N)/C(=C\\\\C(N)C(=C/C)/C(O)=C\\\\CC)OCCc1ccc(CN)cc1', 'Cc1cc(C(=O)N2CCC3(CCCN(C4CCCC4)C3=O)C2)c(C)n1C', 'CC(CC(=O)N1CCN(C(=O)CCN2CCCC2)CC1)c1ccccc1', 'Cc1ccc(N2CC[C@@H]3C[C@@H](C(=O)NCCN4CCCC4)O[C@H]3C2)cc1', 'Cc1ccccc1C(=O)NC1CCN(CC(=O)N2CCC[C@H](C)C2)CC1', 'COc1ccc(CCC(=O)Nc2cc(C(C)(C)C)nn2C(C)(C)C)cc1', 'CCN(CC)C(=O)c1ccc(CNC(=O)[C@@]23CCCC[C@H]2CNC3)cc1', 'O=C(N1CCCC1)N1CC[C@]2(CCCN(CCOc3ccccc3)C2)C1', 'O=C(N1CCO[C@H](c2cccnc2)C1)C1(N2CCCCC2)CCCCC1', 'CCCCCCOc1ccc(-c2ncncn2)c(OCCCCCC)c1', 'CCCC(=O)Nc1ccc(N2CCN(C(=O)C3CCCCC3)CC2)cc1', 'CC(C)N(C(=O)CN(C)CCCc1cc(-c2ccccc2)no1)C(C)C', 'C[C@H](NC(=O)C1CCCCC1)C(=O)N1CCN(Cc2ccccc2)CC1', 'CC(C)CC(=O)N1CCC[C@]2(CCC(=O)N(CCc3ccccn3)C2)C1', 'O=C(NC1CCCCC1)c1cccc(NCC(=O)N2CCCCCC2)c1', 'Cc1nn(C)c(OC2CCCCC2)c1C=NOCC=CC#CC(C)(C)C', 'CCNC(=O)[C@H]1CC[C@@](C)(C(=O)NCc2cnc3c(c2)CCC3)C1(C)C', 'CN(C(=O)C1(NC(=O)NCc2ccccc2)CCCC1)C1CCCCC1', 'COc1cc(C)c2cc(C(=O)NCC3(N(C)C)CCCC(C)C3)[nH]c2c1', 'C#CCOc1ccc(CCN/C(=N/C)N(C)CCC2CCOCC2)cc1', 'CCN1CCN(C(=O)C2CCC(C(=O)Nc3ccc(C)cc3)CC2)CC1', 'CCN1CC2(CCN(C(=O)NC(C)C)CC2)C[C@H](c2ccccc2)C1=O', 'CC(C)c1cc(C(=O)N2CCN(C34CC5CC(CC(C5)C3)C4)CC2)no1', 'Cc1ccccc1N1CCC(N2CC[C@H](O)[C@@]3(CCCNC3=O)C2)CC1', 'C[C@H]1C[C@@H](C(=O)N2CCN(C(=O)CCCc3ccccc3)CC2)CCN1', 'CCC[C@]1(CO)CCN(Cc2c(C)nn(-c3ccccc3)c2C)C[C@@H]1O', 'O[C@@H]1C[C@H]2CN(Cc3ccccc3)CC3(CN(C4CCOCC4)C3)N2C1', 'C[C@@]1(C(=O)NCc2ccccc2)CCCN(C(=O)NC2CCCCC2)C1', 'CCCC(=O)N1CCC(C(=O)N2C[C@@H](CN)[C@H](c3ccccc3)C2)CC1', 'Cc1cc(C)n2ccc(C(=O)NC3CCC(OCC(C)(C)C)CC3)c2n1', 'CCCc1cc(C(=O)N2CC[C@@H]3[C@@H](CCC(=O)N3CC(C)C)C2)ccn1', 'O=C(CNC(=O)c1ccccc1)NC1CCC(CCN2CCCC2)CC1', 'CN(C)CCOC[C@@H]1CCC[C@@]12CN(Cc1cccc(C#N)c1)CCO2', 'COCCn1nccc1C12CCC(C1)C2C(=O)NCCC1=CCCCC1', 'Cc1ccc(C2CCCN2C(=O)CC2C(=O)NCCN2C(C)C)cc1C', 'NC(C(=O)N1CCC(CN2CCc3ccccc32)CC1)C1CCOCC1', 'CCCCOc1ccc2[nH]c(C)c(CN3CCN(CC)CC3)c(=O)c2c1', 'CCOC1CC(N)(C(=O)NCCc2c[nH]c3c(CC)cccc23)C1(C)C', 'CCC(C)[C@H](NC(=O)[C@@H]1Cc2ccccc2CN1)C(=O)NC1CCCC1', 'CCN(CC)c1ccc(NC(=O)C2(C(=O)NC3CCCCC3)CC2)cc1', 'O=C(CN1CCCCCC1=O)NCc1ccccc1CN1CCCCC1', 'CNCCC1CCN(C(=O)C(c2ccccc2)N2CCCCC2=O)CC1', 'CC(CN1CCCCC1)NC(=O)N1CCC2(CCc3ccccc3O2)C1', 'CC(C)=CCC/C(C)=C/C(=O)NC[C@@H](NC(=O)[C@H](C)N)c1ccccc1', 'CN(C)c1cccc(C(=O)N2C[C@H]3CC[C@@H]2CN(C2CCOCC2)C3)c1', 'CC(C)C[C@@H](NCc1cn(Cc2ccccc2)nc1C(C)(C)C)C(=O)O', 'CCC(C)(C)C(=O)N1CCC[C@]2(CCC(=O)N(Cc3cccnc3)C2)C1', 'CC(N/C=C(/C#N)C(=O)NCC1CCCO1)C12CC3CC(CC(C3)C1)C2', 'Nc1ccccc1CCC(=O)N1CCCN(C(=O)CC2CCCC2)CC1', 'CC(C)(C)C1CC[C@@H](C(=O)[C@H]2CCCN2C(=O)NCc2ccccc2)N1', 'CN(C)c1ccc(C(O)CNC(=O)NC23CC4CC(CC(C4)C2)C3)cc1', 'Cc1ccccc1C(=O)NC1CCN(CCC(=O)N2CCCCC2)CC1', 'CC1(C)Cc2cc(CNC(=O)N3CC[C@H](N4CCCCC4)C3)ccc2O1', 'O=C(N1CCCC(OCc2cccnc2)C1)C1(N2CCCC2)CCCC1', 'CC(C)C(=O)NC1CCCN(C(=O)C2CCCN2Cc2ccccc2)C1', 'Cc1ccc(NC(=O)N2CCC(CC(=O)N3CCCCC3)CC2)c(C)c1', 'C/C=C(\\\\C=C/CN)C(=O)Nc1cc(C)c(N2CC(C)OC(C)C2)cc1C', 'COc1ncccc1NC(C)(C)CCOc1cccc(NC(C)(C)C)c1', 'CCCN(C)C(=O)c1cc2cc(OC3CCN(C(C)C)CC3)ccc2[nH]1', 'O=C(NCCCN1CCCCCC1=O)NCC1(c2ccccc2)CCC1', 'CCOc1ccccc1N1CCN(C(=O)C2CC3CCCCC3N2)CC1', 'CC(C)N(C(=O)c1ccc(NC(=O)C2CC2)cc1N1CCCC1)C(C)C', 'CC(C(=O)N1CCN(c2ccccc2)CC1)N1CCC2(CCOCC2)C1', 'Cc1ccc(C(N)C(=O)N2CCC(C(=O)N3CCCC(C)C3)CC2)cc1', 'CC(C)N(C)c1cccc(NC(=O)C2CCC(NC(=O)C3CC3)CC2)c1', 'Cc1ccc(C)c(C(C)NC(=O)N2CCN(C3CCCCC3)C(=O)C2)c1', 'CC(C)CNC(=O)c1ccccc1NCC(=O)NCCC1=CCCCC1', 'COc1ccc(CCCN2CCN(C)CC2)cc1Cc1c(C)noc1C', 'COc1cccc(C2CCN2C(=O)NCC2CCN(CC3CC3)CC2)c1', 'CC1(C)CN(C(=O)c2ccccc2)C[C@@H]2CN(C3CCOCC3)CCN21', 'CC(C)(C)CC(=O)N1CCC[C@]2(CCC(=O)N(Cc3cccnc3)C2)C1', 'O=C(CN1CCCC[C@H]1C(=O)N1CCCC1)NCCCc1ccccc1', 'CCCCNC(=O)N1C[C@H](c2ccc(OC)cc2)[C@H]2[C@@H]1C1CCN2CC1', 'CCCCC(=O)N1CCN(CCC(=O)N2CCCc3ccccc32)CC1', 'CC(C)=CCC/C(C)=C\\\\C(=O)NCC(N[C@](C)(N)C=O)c1ccccc1', 'CCOC(=O)C1CCC(N/C(=N/C)NCC2CC2c2ccccc2)CC1', 'CCN(C)C(=O)[C@H](C1CCCC1)N1CCN(C(=O)c2ccccc2)CC1', 'Cc1ccc(CC(=O)N2CCN(C(=O)NC3CCCCC3)CC2)c(C)c1', 'CC1(C)CCC(C)(C)c2cc(C(=O)NNC(=O)C3CCNCC3)ccc21', 'CO/N=C/c1ccc(C(=O)NCC2(N3CCCCC3)CCCCC2)cc1', 'CCCCNC(=O)N1CC(C(=O)NCC2CC2)CC(c2ccccc2)C1', 'CCCCN(C)C(=O)C1(C(=O)N2CCN(Cc3ccccc3)CC2)CC1', 'CNCCN1C(=O)CC[C@H]2CN(CC=Cc3ccccc3OC)CC[C@H]21', 'O=C(NCCCCCCNC(=O)N1Cc2ccccc2C1)C1CCCC1', 'CC1(C)[C@H]2Cc3c(ccc(N)c3O)[C@]1(C)CCN2C(=O)N1CCCCC1', 'CCC1CCCCN1C(=O)C(=O)Nc1ccc(N2CCC(C)CC2)cc1', 'O=C(CC(=O)NC1CCCCCC1)Nc1ccc(N2CCCCC2)cc1', 'CCO[C@@H]1CN(Cc2ccccc2)C[C@H]1CNC(=O)N1CC2CC1(C)C2', 'CC1CC1C(=O)NCCC1CCCCN1C(=O)c1ccc(N(C)C)cc1', 'C[C@H]1CCCCN1C1CN(C2CCN(c3ccc4c(c3)OCO4)CC2)C1', 'CCC[C@H]1[C@@H]2CCc3cc(OC)ccc3[C@H]2CC[C@]1(C)/C=N/NC(N)=O', 'CC1CCN(c2ccc(NC(=O)C3CCC3)cc2C(=O)NC(C)C)CC1', 'CC(C)CN1C(=O)N(Cc2ccccc2)C2(CCN(C(C)C)CC2)C1=O', 'NC(=O)[C@@H]1CCCN(c2ccc(CNC(=O)CC3CCCCC3)cc2)C1', 'C[C@H]1CC(C)(C)N(C(=O)C2CCN(C(=O)N(C)C)CC2)c2ccccc21', 'CC(C)(C)OC(=O)NCCCCN1CCC(c2ccccc2C#N)CC1', 'CC(C)(C)OC(=O)N1CCC(c2ccc(N)c(C3=CCCCC3)n2)CC1', 'CCCn1c(C)c(C(=O)NC2CCN(C(C)C)C2)c2cc(OC)ccc21', 'O=C(NCc1ccccc1)C1CCN(C(=O)CCC2CCNCC2)CC1', 'Cc1ccccc1N1CCCN(C(=O)C2CC(=O)N(C(C)(C)C)C2)CC1', 'Cc1cc(C)c2[nH]c(CNCCCN3CCC[C@@H](CO)C3)cc(=O)c2c1', 'CCc1[nH]c2c(CNC(=O)C[C@@H](C)N3CCOCC3)cc(C)cc2c1C', 'Cc1cc(N2CC[C@H](N3CCCC3)C2)ccc1NC(=O)C1CCOCC1', 'CC[C@@H](C)c1ccc(NC(=O)CN2CCC3(CCC(=O)N3C)CC2)cc1', 'CCCCOc1cc(C(=O)NCCCN(CC)CC)c2ccccc2n1', 'COc1ccccc1CCC(=O)Nc1cc(C(C)(C)C)nn1C(C)(C)C', 'CCN1CCC[C@H]1CNC(=O)[C@H]1CCCN(C(=O)c2ccc(C)cc2)C1', 'CCn1c(C(C)N(CCC(C)C)C(=O)C(C)C)nc2ccccc2c1=O', 'O=c1cc(CCCCCCOc2cccc(CN3CCCCC3)c2)[nH][nH]1', 'CCCc1ccc(C(C)N(CC(N)=O)C(=O)C2CC23CCNCC3)cc1', 'O=C(CN1CCN(C(=O)CCC2CCCCC2)CC1)Nc1ccccc1', 'NC1CCC(NC(=O)Cc2ccccc2NC(=O)C2CCCCC2)CC1', 'CCOc1ccccc1CN1CCCC(Cn2c(C)cnc2COC)C1', 'Cc1ccccc1CN1CCCN(C(=O)CN2C[C@@H]3C(CO)[C@@H]3C2)CC1', 'Cc1ccccc1CC(=O)N1CCN(C(=O)CCC2CCNCC2)CC1', 'CC1CCN(C(=O)c2ccc(NC(=O)NC3CCCCC3C)cc2)CC1', 'Cc1cc(C)c(C(=O)N2CCCN(C(=O)NC3CCCC3)CC2)c(C)c1', 'CCn1c(=O)c(C)nc2cc(C(=O)NCCCCCCC(C)C)ccc21', 'CCN/C(=N\\\\CC1(CCOC)CCC1)NCCc1cc2ccccc2o1', 'CCOC(=O)c1cnc2c(C)cc(C)cc2c1NCCCN(CC)CC', 'COCCOc1ccc2ccccc2c1CN1CCN(CCCN)CC1', 'CCCNC(=O)[C@@H]1CCCN(CC(=O)NC2(c3ccccc3)CCC2)C1', 'CCN1CCC[C@H]1CNC(=O)[C@@H]1CCCN(C(=O)c2ccc(C)cc2)C1', 'Cc1cccc(CN2CCN(C(=O)CC[C@H]3CCCN(C)C3)CC2=O)c1', 'O=C(C1CN(CCN2CCCCC2)c2ccccc2O1)N1CCCCC1', 'CN(C)C(=O)CCc1cccc(NC(=O)CNCCC2=CCCCC2)c1', 'CC(C)C(=O)N1CC2CC(O)CN2C2(CN(CCc3ccccc3)C2)C1', 'CC1CCCCN1CCCNC(=O)c1ccc(N2CCCCC2=O)cc1', 'CN(CC(=O)N1CCC(NC(=O)C2CCCCC2)CC1)c1ccccc1', 'Cc1ccc(OCCCCNC(=O)c2c(C)nn(C(C)(C)C)c2C)cc1', 'Cc1ccc(C(=O)N2CC(C)CC(C)C2)cc1NC(=O)CC1CCCN1', 'Cc1cc(C)c2[nH]c(CNCCCN3CCC[C@H](CO)C3)cc(=O)c2c1', 'CC.CO.Cc1ccc(NCC(=O)N/N=C/c2cc(C)cc(C)c2)cc1', 'CCN1CCC(N(C)C(=O)C2CC(=O)N(CCc3ccccc3)C2)CC1', 'CC(CC(=O)N1CCCN(C(=O)c2ccccc2)CC1)C1CCNCC1', 'O=C(c1ccncc1)N1CCC(N2CCCC(CO)(CC3CC3)C2)CC1', 'CCC(CC)C(NC(=O)CCc1nc(C(C)(C)C)no1)c1ccccc1', 'CC(C)(C)[C@@H](CO)NC(=O)c1nn(CC2CCCCC2)c2ccccc12', 'CN(C)C(CNC(=O)NCCc1ccc(C(C)(C)C)cc1)c1ccco1', 'O=C(CCC1CCNCC1)NC1CCN(C(=O)CCc2ccccc2)C1', 'Cc1ccc(C(CN2CCOCC2)NC(=O)C2CC23CCNCC3)cc1', 'Cc1cc(C)c(NC(=O)CN(C)C(=O)C2CC3CCCCC3N2)c(C)c1', 'Cc1cnccc1CN(C)C(=O)[C@@H]1CCC(=O)N(CC2CCCCC2)C1', 'CCN(CC)C(=O)C1CCC(C(=O)N2CCc3cc(N)ccc3C2)CC1', 'Cc1ccc(CC(=O)N2CCN[C@@H]3COC[C@H](N4CCCC4)C32)cc1C', 'Cc1ccc(CNC(=O)C2CCN(C(=O)NC3CCCCC3)CC2)cc1', 'Cc1cc(C(=O)N2CCC(C)CC2)ccc1NC(=O)C1(CN)CCCC1', 'O=C(c1cncc(C(=O)N2CCCCCCC2)c1)N1CCCCCCC1', 'CC(C)N1CCC(Oc2ccc(N3C=CC3N3CCOCC3)cc2)CC1', 'CC(=O)NCCNCC(=O)N1CCC(C=Cc2c(C)cccc2C)CC1', 'Cc1cccc(C(=O)N2CCC[C@@]3(CCC(=O)N(CCC(C)C)C3)C2)n1', 'COCCO[C@H]1CCN(Cc2ccc3[nH]c(CN4CCCC4)cc3c2)C1', 'CC(C(=O)NCCC1=CCCCC1)N1CCN(c2ccc(O)cc2)CC1', 'CCc1ccc(C(=O)N2CCN(C(=O)C3CCCCC3(C)N)CC2)cc1', 'CC(C)CCN1CCN(Cc2cc(=O)c3ccccc3[nH]2)C[C@H]1CCO', 'COCC1(NC(=O)N2CCN(C/C=C/c3ccccc3)CC2)CCCC1', 'CC1N(C)C(=O)N(CC2(O)CCC2)C12CCC(N)(c1ccccc1)CC2', 'CC[C@@H](NC1CCCCC1)C(=O)N1C(=O)N(C)[C@@H](C)[C@H]1c1ccccc1', 'CCCN(C(=O)c1cccc(NC(=O)C2CCCCC2)c1)C1CCNC1', 'Cc1c(C(=O)NCC2C(=O)NC(C)CC2C)cccc1C1CCNCC1', 'CCCCN1CCN(C(=O)[C@H]2CC(=O)N(CCc3ccccc3)C2)CC1', 'COc1ccc2c(ccn2CC(=O)N2CCN(CCC(C)(C)C)CC2)c1', 'CC[C@@]12C[C@@H]3C[C@@](O)(C1)C[C@@](C(=O)NCC1(Cn4ccnc4)CC1)(C3)C2', 'CC(C)n1cccc1C(=O)N1CCC2(CCC(=O)N(CC3CC3)C2)CC1', 'CC(C)NC(=O)Nc1ccc(C(=O)NC2CC3CCC2(C)C3(C)C)cc1', 'CC1CC(C(=O)N2CCC3(CC2)COCCN(Cc2ccncc2)C3)C1', 'O=C(NCCN1CCCCCC1=O)C1CCCN(Cc2ccccc2)C1', 'CC[C@H]1CN(C(=O)CCN2CCCC2)CCC(=O)N1Cc1ccccc1', 'O=C1CCCCCN1CCC(=O)N1CCCC[C@H]1CCc1ccccn1', 'CN(Cc1ccccc1)C1CCCN(C(=O)CCN2CCCCC2=O)C1', 'Cc1ccc(NC(=O)C2CCN(C(=O)NC3CCCCC3)CC2)cc1C', 'CC(=O)c1ccc(N2CCN(CC(=O)NCC3CCCCC3)CC2)cc1', 'Cc1cccc(N2CCN(C(=O)CC(=O)N3CCCCCC3)CC2)c1C', 'CNCC(Cc1ccc(N)c(O)c1)N(C)C.O=CCCc1ccccc1', 'CCNC(=O)CCN1CCC2(CCCN(Cc3cccc(C)c3)C2=O)C1', 'COc1ccc2[nH]cc(CCCC(=O)CCCN3CCN(C)CC3)c2c1', 'Cc1ccncc1C(=O)N1CCC[C@@]2(CCC(=O)N(CCC(C)C)C2)C1', 'CCC(CC)Oc1cc(C)c(-c2ccc(C(C)C)nc2CO)nc1NC', 'NC(=O)CN1CCC(C(=O)NC[C@@H](c2ccccc2)C2CCCC2)CC1', 'C/N=C(\\\\N)N1CCC[C@@]2(C1)[C@@H]1CC[C@H]3CCC[C@H]4CC(C(=O)O)=C(C1)[C@@]342', 'CN1CCC(Oc2cccc3c2CCN3C(=O)C(N)CCC2CC2)CC1', 'CCn1c(C)cc(C(=O)N2CC[C@@]3(CCCN(CC4CC4)C3=O)C2)c1C', 'COc1ccc(C2=NN(C3CCNCC3)C[C@@H]3CCCC[C@H]23)cc1OC', 'CN(C)C(=O)CN1CCC[C@]2(CCC(=O)N(CCc3ccccc3)C2)C1', 'CC(C)(C)OC(=O)CCc1ccc(N2CCC(NCCC#N)CC2)cc1', 'Cc1ccc(CC(=O)N2CCN(CC(=O)N3CCCCC3C)CC2)cc1', 'C[C@]12CC[C@@H](C[C@H]1CC[C@@H]3[C@@H]2CC[C@]4([C@]35[C@H](O5)C[C@@H]4C6=COC(=O)C=C6)C)O', 'CC(=O)OCCC1=C(C)[C@@]2(C)C(=CC1=O)CC[C@@H]1[C@@H]2CC[C@]2(C)C(=O)CC[C@@H]12', 'CCCCCCCCCC(CC)C(C(=O)O)C1=CC(=O)c2ccccc2C1=O', 'C=C1C[C@@H]2C(CC[C@@]3(C)C2CC[C@]3(OC(C)=O)C(C)=O)[C@@]2(C)CCC(=O)C=C12', 'CC(=O)O[C@]1(C(C)=O)CC[C@H]2[C@@H]3C=C(C)C4=CC(=O)CCC4(C)[C@H]3CCC21C', 'CC(=O)O[C@H]1C=C2C=C[C@@H]3[C@H]4CC[C@]5(CCC(=O)O5)[C@@]4(C)CC[C@@H]3[C@]2(C)CC1', 'CCCCCC(O)c1ccc([C@H]2C(=O)C=C[C@@H]2CC=CCCCC(=O)O)cc1', 'CC(C)=CCC/C(C)=C/CC[C@]1(C)Oc2c(C=O)c(C=O)cc(O)c2C[C@@H]1C', 'CCCCC[C@@H](O)CC(=O)CCc1ccc(OCc2ccccc2)c(OC)c1', 'C=C(C)C(=O)OC(CC)COc1ccc(OCCCCCC)c2ccccc12', 'C[C@@H]1C[C@@H]2OC(=O)C[C@@H]2[C@H]1/C=C/[C@H](CCc1ccccc1)OC1CCCCO1', 'CC(=O)OC(C)[C@@H]1CC(=O)[C@@]2(C)CC[C@H]3[C@@H](CCC4=CC(=O)C=C(C)[C@@]43C)[C@H]12', 'C[C@H](OC(=O)C12C[C@H]3C[C@@H](CC(O)(C3)C1)C2)C(=O)c1ccc(C(C)(C)C)cc1', 'CC(C)(C)C(=O)OC1C2CC(C1OC(=O)C(C)(C)C)C1c3ccccc3CC21', 'C=C1CCC2=C(C)[C@H](C)CC[C@]2(C)C1Cc1cc(O)c(CC(=O)OC)cc1O', 'C=C(/C=C/c1ccccc1)[C@@]1(CCCCCC)[C@H](C)C1(C(=O)OC)C(=O)OC', 'CC1C(C)C2CC1C1C3CC(C(=O)OC4C5CC6C4OC(=O)C6C5C)C(C3)C21', 'Cc1cc(C)c(C2=C(OC(=O)C(C)(C)C(C)C)C3(CCCC3)OC2=O)c(C)c1', 'CC(C)[C@@H]1CC[C@@]2(C)CC[C@H](O)[C@@H](C=O)[C@@H]2[C@@H]1OC(=O)C=Cc1ccccc1', 'C=C1C[C@@H]2[C@H](CC[C@@]3(CC)[C@H]2[C@H]2C[C@H]2[C@@]3(O)CCC(=O)O)[C@H]2CCC(=O)C=C12', 'CC(=O)O[C@]1(C(C)=O)CC[C@H]2[C@@H]3C[C@H](C)C4=CC(=O)[C@H]5C[C@@H]5[C@@H]4[C@H]3CC[C@@]21C', 'Cc1cc(C23CC4CC(CC(C4)C2)C3)c(OCC2CO2)c(C)c1OCC1CO1', 'CC(=O)O[C@@]1(C(C)=O)CC[C@H]2C3C=C(C)C4=CC(=O)CCC4(C)[C@H]3CC[C@@]21C', 'C=C1CCC(C)C(CCC(C)=O)C1COc1ccc2ccc(=O)oc2c1.CC', 'C=c1ccc(=C)cc1.CC.O=C=O.[2H]CC(=O)OCc1ccc(CC(C)C)cc1', 'CCCCCCCCCCc1ccc(COC(=O)c2cccc(O)c2O)cc1', 'CC1C[C@@]2(CCC(=O)O2)[C@@]2(C)C=CC3C(C[C@@H](CO)C4=CC(=O)CC[C@@]43C)C12', 'CCC(C)(C)Oc1ccc(Oc2ccc(OC(=O)C(C)(CC)CC)cc2)cc1', 'CC(c1ccccc1)C(O)/C=C/[C@H]1[C@@H](C/C=C\\\\CCCC(=O)O)[C@@H]2CC[C@@H]1O2', 'CCCCCCCCCOC(=O)CC(c1ccc(O)cc1)c1ccc(O)cc1', 'Cc1ccccc1Oc1ccc(CCCCCOCC(=O)OC(C)(C)C)cc1', 'C=C(CC/C=C\\\\C)C(=O)OC(C)(C)C/C=C/OC(C)(C)C(=O)c1ccccc1', 'C=C1CC[C@@H]2C(C)(C)[C@@H](O)CC[C@@]2(C)[C@H]1COC1=C[C@H]2OC(=O)CC=C2C=C1', 'CC(=O)[C@]12OC(C)(C)O[C@@H]1C[C@H]1[C@@H]3CCC4=CC(=O)C=C[C@]4(C)[C@H]3CC[C@@]12C', 'CCCCCCc1ccc2c(C(=O)O)c(CCCCCC)c(C(=O)O)cc2c1', 'CC(=O)O[C@H]1C=C2C=C[C@H]3[C@H](CC[C@@]4(C)[C@H]3CC[C@]43CCC(=O)O3)[C@@]2(C)CC1', 'CC(C)=CCC/C(C)=C\\\\CC/C(C)=C\\\\COC(=O)/C=C/c1ccc(O)c(O)c1', 'C=CC(=O)OCCC1(OCCCCCCOc2ccc(C=C)cc2)C2CCC21', 'CC(c1ccccc1)C(O)CC[C@@H]1[C@H](C/C=C\\\\C=CCC(=O)O)[C@@H]2CC[C@H]1O2', 'Cc1ccc(C=C[C@]2(C)CC[C@](C)(C=CC3=C[C@H](O)[C@](C)(O)C[C@@H]3O)O2)cc1', 'Cc1cc(O)c(C(C)(C)C)cc1C(C(=O)O)c1cc(C(C)(C)C)c(O)cc1C', 'C=C(C)CCC[C@@]1(C)[C@@H]2c3c(cc(C)c(C(=O)OC)c3O)O[C@]3(C)CC[C@H]1[C@H]23', 'CCCCOc1ccc(CCC(=O)Oc2ccc(C(C)C)cc2)cc1OCC', 'CC(c1ccccc1)C(O)/C=C/[C@H]1[C@@H](C/C=C/CCCC(=O)O)[C@@H]2CC[C@H]1O2', 'CC(=O)Oc1c(C(C)C)cc2c(c1OC(C)=O)CC1=CCCC(C)(C)[C@@H]1CC2', 'COC(=O)CC(C)c1ccc(OCCCOc2cccc(C(C)(C)C)c2)cc1', 'COCCO[C@H]1CCC[C@H](C)O[C@H](c2ccccc2)C[C@@H](c2ccccc2)O1', 'COC(=C1C2CC3CC(C2)CC1C3)c1cc(OC)cc(OC(=O)C(C)(C)C)c1', 'C[C@]12CC[C@H]3[C@@H](CC[C@@H]4C[C@@H](O)CC[C@@]43CO)C1=CC[C@@H]2c1ccc(=O)oc1', 'COC(=O)C1C(C2=CC3C=CC2C3)CC(C)C1C(=O)OC1(C)CC2CCC1C2', 'C[C@]12CCC(O)C=C1CCC1C2CC[C@]2(C)C(c3ccc(=O)oc3)CC[C@]12O', 'C[C@]12CCC(=O)C=C1[C@H]1C[C@H]1[C@@H]1[C@H]3[C@@H]4C[C@H]4[C@@](O)(CCC(=O)O)[C@@]3(C)CC[C@H]12', 'C/C(=C\\\\C=C\\\\C1(c2cc3c(cc2C)C(C)(C)CCC3(C)C)OCCO1)C(=O)O', 'C=C[C@@](C)(CCC=C(C)CC(=O)C=C(C)C)CC(=O)c1ccc(OC)cc1O', 'C[C@@H]1CC[C@@]2(C)[C@H](C)C(=CCOC(=O)C=Cc3ccc(O)c(O)c3)CC[C@@]12C', 'CC(=O)OCC[C@H]1CC(=O)[C@@]2(C)CC[C@H]3[C@@H](CCC4=CC(=O)C=C(C)[C@@]43C)[C@H]12', 'C=CC(=O)OCC(=O)[C@H]1CC[C@H]2[C@H]3CCC4=CC(=O)CC[C@]4(C)[C@@H]3CC[C@]12C', 'CCCCCCc1cc2c3c(c(=O)oc2cc1OCC(=O)C(C)(C)C)CCC3', 'C=CC(=O)OCC1CC2C(C1)C1CC2C2C3CC(COC(=O)C(=C)C)C(C3)C12', 'CCCCCC/C=C/[C@@]1(O)C=CC(=O)[C@@H]1c1ccccc1CCCC(=O)OC', 'CCC(C)Cc1cc(C(=O)OOCCCCCCO)ccc1-c1ccccc1', 'Cc1cc(C(C)(C)C)ccc1C(=O)O.Cc1ccc(C(C)(C)C)cc1C(=O)O', 'C=C1C[C@@H]2[C@@H](CC[C@@]3(C)[C@@H]2CC[C@@]3(OC(C)=O)C(C)=O)[C@@]2(C)CCC(=O)C=C12', 'C=C1CCO[C@]12CCC1C3CC[C@@]45CC6(CC[C@@]4(O5)C3=CC[C@@]12C)OCCO6', 'C[C@@H]1[C@H](C)[C@@H](CCO)O[C@H](COCc2ccccc2)[C@H]1OCc1ccccc1', 'COc1ccc2c(c1)C(=O)C[C@@H]1[C@@H]2CC[C@]2(C)[C@@H](O[C@H]3CCCCO3)CC[C@@H]12', 'CCC(CCc1ccccc1)C(=O)O.CCCC(=O)OCCc1ccccc1', 'CC(=O)O[C@]1(C(C)=O)CC[C@H]2C3C=C(C)C4=CC(=O)CCC4(C)[C@H]3CCC21C', 'CCC/C=C1\\\\OC(=O)C2CC3CCC12C1(OC(=O)C2=C1CCCC2)C3CCC', 'CC1C2CC(C1OC(=O)OC1CCCCO1)C1C3CC(C4C5C=CC(C5)C34)C21', '[2H]C1([2H])C(=O)c2cc(OC)ccc2[C@@H]2CC[C@]3(C)[C@H](CC[C@H]3OC3CCCCO3)[C@H]21', 'C=CCCCCCCC1CCC(C(=O)Oc2ccc(C=CC(=O)O)cc2)CC1', 'CC(=O)C1CC(O)C2(C)C3=C(C=C4C=CC(=O)OC(C)(C)C4CC3)CCC12C', 'C=C1CC2C(CC[C@@]3(C)C2CC[C@]3(OC(C)=O)C(C)=O)[C@@]2(C)CCC(=O)C=C12', 'C[C@]12CC3(CC3)C(=O)C=C1C=CC1C2CC[C@@]2(C)C1CC[C@@]2(O)CCC(=O)O', 'CCC(=O)Oc1ccc2c(c1)CC[C@@H]1[C@H]3CC[C@H](OC(=O)CC)[C@]3(C)CC[C@@H]21', 'CCOc1ccc(C(C(=O)O)c2cc(C(C)(C)C)cc(C(C)(C)C)c2O)cc1', 'C[C@]12CC[C@@H]3C4CCC5(CC4=CC[C@H]3[C@@H]1CC=C2C1=COCCO1)OCCO5', 'CCCCC(C)(C)C(O)c1cccc(OC(CC)c2ccccc2C(=O)O)c1', 'CC/C=C\\\\CC/C=C/C=C\\\\C=C\\\\[C@@H](O)CCOc1ccc(CC(=O)OC)cc1', 'CCCc1ccc(C(=O)C=C[C@@H]2CCC(=O)[C@H]2CCCCCCC(=O)O)cc1', 'C=C1C[C@H]2[C@@H]3CC(C=O)=C4C=C(OC)CC[C@]4(C)[C@H]3CC[C@]2(C)[C@@]1(O)C(C)=O', 'Oc1cc(O)cc(CCCC=CCCCCCCCc2cc(O)cc(O)c2)c1', 'C=C1C[C@H]2[C@@H]3CCC4=CC(=O)CC[C@]4(C)[C@H]3CC[C@]2(C)[C@@]1(OC(C)=O)C(C)=O', 'CCCCCc1cc(O)c(C2C=C(C)CCC2)c2c1C(=O)OC1(CCCC1)O2', 'CC(C)(C)c1ccc(C(O)(c2ccc(C(C)(C)C)cc2)C(O)(C=O)CO)cc1', 'CC(C)(O)c1ccccc1CC[C@H](O)c1cccc(COC2CCCCO2)c1', 'C=C1C[C@H]2[C@@H]3CCC4=CC(=O)CC[C@]4(C)[C@H]3CC[C@]2(C)[C@]1(OC(C)=O)C(C)=O', 'C=CC[C@]12CC[C@H]([C@@H](OC(C)(C)C)[C@H]1OC(=O)C(=O)c1ccccc1)C2(C)C', 'C[C@]12CCC3C(C4CC4[C@]4(O)CC(=O)CC[C@]34C)C1C1CC1C21CCC(=O)O1', 'C[C@]12CCC(=O)C[C@H]1CC[C@@H]1C2CC[C@]2(C)[C@@H](c3ccc(=O)oc3)CC[C@]12O', 'CC(C)CCCCCCOC(O)c1cccc(C(=O)OCc2ccccc2)c1', 'CCCCCC(O)CC(=O)CCc1ccc(OCc2ccccc2)c(OC)c1', 'CCC(=O)Oc1ccc2c(c1)CC[C@H]1[C@@H]2CC[C@@]2(C)[C@@H](OC(=O)CC)CC[C@H]12', 'CCC=CCCC(C)(O)Cc1cccc(OCc2ccc(CO)c(CO)c2)c1', 'CCCCCCCCCCOc1ccc(OCc2ccccc2)c(C(=O)O)c1', 'CCCCCCOc1c(C=O)ccc2c(OCCCCCC)c(C=O)ccc12', 'CCOC(=O)/C=C/C[C@@H]1C[C@H]2[C@@H]3CCc4cc(O)ccc4[C@H]3CC[C@]2(C)[C@H]1O', 'CC1(C)CCCc2cc(O)c(O)cc2C(C)(C)CCCc2cc(O)c(O)cc21', 'CC(C)(C)C(=O)COCCOc1ccc(Oc2ccc(C(C)(C)C)cc2)cc1', 'COC(=O)CCCc1ccccc1C[C@H]1C(=O)CC[C@@H]1C=C1CCCC[C@@H]1O', 'CC(C)C1(O)CCc2ccccc2OCCOCCOc2ccccc2CC1', 'C=COc1cc(CCCCC)c2c(c1C1C=C(C)CCC1)OC(C)(C)OC2=O', 'Cc1ccc(C)o1.Cc1ccoc1C.Cc1ccoc1C.Cc1coc(C)c1', 'C=C(C)C(=O)OCC/C(=C/c1ccc(C2CCC(CCC)CC2)cc1)C(=O)O', 'C[C@H](c1ccccc1)[C@@H](O)/C=C/[C@@H]1[C@H](C/C=C\\\\CCCC(=O)O)[C@H]2CC[C@@H]1O2', 'CCCOc1cc(C2(C)CC(C)(C)c3ccc(O)c(OCCC)c32)ccc1O', 'COc1ccc(OC(C)C(=O)Oc2c(C(C)C)cc(C)cc2C(C)(C)C)cc1', 'C[C@]12CCC(=O)C[C@H]1CCC1C2CC[C@]2(C)C(c3ccc(=O)oc3)CC[C@]12O', 'C[C@]12CCC(=O)C=C1C=CC1C2CC[C@@]2(C)C1C1CC[C@@H]1[C@@]2(O)CCC(=O)O', 'c1ccc(COCCCOCc2cccc(CCOC3CCCCO3)c2)cc1', 'CC=C(CCCCCCC/C=C\\\\C=C\\\\C=C/Cc1cc(O)cc(O)c1)C(=O)O', 'CCCC(C)(CC)C(=O)OCCC(C)(C)OC(=O)c1ccc2ccccc2c1', 'CCC(=O)Oc1ccc2c(c1)CC[C@H]1[C@H]3CC[C@H](OC(=O)CC)[C@]3(C)CC[C@@H]21', 'CCCCCC(O)c1ccc(C2=CC(=O)C[C@@H]2C/C=C\\\\CCCC(=O)O)cc1', 'Cc1cccc(CC(O)/C=C/[C@H]2C(O)CC3C=C(CCCCC(=O)O)CC32)c1', 'C[C@@H](O)CCCCCC#CC#C[C@@H]1OC(C)(C)O[C@H]1COCc1ccccc1', 'C=C1CC[C@H]2C(C)(C)[C@@H](O)CC[C@@]2(C)[C@H]1COC1=C[C@H]2OC(=O)CC=C2C=C1', 'COCCOCCCC12CCC3=C(CCc4cc(OC)ccc43)[C@@H]1CCC2=O', 'COCC(O)COc1c(C)c(C)c2c(c1C)Cc1c(C)c(C)c(C)c(C)c1O2', 'Cc1cc(C(C(=O)O)c2cc(C)c(O)c(C(C)(C)C)c2)cc(C(C)(C)C)c1O', 'C[C@]12CC[C@H](O)C[C@H]1CCC1=C3C[C@H](O)[C@H](c4ccc(=O)oc4)[C@@]3(C)CC[C@@H]12', 'CCCCC(=O)Oc1cc(OC)cc2c1[C@H]1CC[C@]3(C)C(=O)CC[C@H]3[C@@H]1CC2', 'CCCCCOc1ccccc1C=O.CCCCCOc1ccccc1C=O', 'C=C1CCCC(C)(C)C1C(=O)CC(C)C(C)C(=O)c1ccc(C(=O)OC)cc1', 'C=C1CC[C@H]2C(C)(C)CCC[C@]2(C)[C@H]1COC(=O)C=Cc1ccc(O)cc1O', 'CC(c1ccccc1)C(O)CC[C@@H]1[C@H](CC=CCC=CC(=O)O)[C@@H]2CC[C@H]1O2', 'COCCOCOc1ccc(/C(C)=C\\\\C=O)cc1C12CC3CC(CC(C3)C1)C2', 'CC12CCC3C(=C1CC(O)C2c1ccc(=O)oc1)CCC1CC(O)CCC13C', 'C=C(C)C(=O)OCc1ccccc1.C=CC(=O)OC1CC2CCC1(C)C2(C)C', 'CCCCCOc1c(OC)cc(C=O)cc1Oc1cc(C)ccc1C(C)(C)C', 'COC(=O)CC12CC3C4CC5C6CC7(CC(=O)OC)CC5C(C4C1)C(C2)(C7)C36', 'C=C(OC(C)=O)C1=CC[C@H]2[C@@H]3CC=C4C[C@@H](OC=O)CC[C@]4(C)[C@H]3CC[C@]12C', 'CC(CCOc1cccc(C(C)(C)C)c1)Oc1ccc(C(C)CC(=O)O)cc1', 'Cc1cc(C2(c3cc(C)c(OCCO)c(C)c3)CCC2)cc(C)c1OCCO', 'COc1ccc(C(C)(C)[C@@H]2CC[C@@H](C)C[C@H]2OC(=O)C2=CC(=O)CCC2)cc1', 'CC(C)CC(c1ccc(OC(C)OOC(=O)Cc2ccccc2)cc1)C(C)C', 'C1=CCc2c(c(OCC3CO3)c3ccccc3c2OCC2CO2)C1.CC.CC', 'CC(C)(C)C(=O)O[C@H]1CCC2=C3C=CC4=CC(=O)CC[C@]4(CO)[C@H]3CC[C@@]21C', 'CC(=O)Oc1c(C(C)C)cc2c(c1OC(C)=O)[C@@]1(C)CCCC(C)(C)[C@@H]1C=C2', 'CC(=O)CCC1C2C(O)C(C(C)C)C(OC(=O)/C=C/c3ccccc3)CC12C', 'CC#COC1C(=O)c2cccc(OCCCCCCCCCCCC)c2C1=O', 'C=C1C(=O)C23CCC1CC2C1(C)C(CC3O)C(C)C#CCCCC1(C=O)OC', 'CCCCCOc1cc2ccccc2cc1C(O)C/C=C/CCCC(=O)OC', 'O=C(O)c1ccc(CC[C@@H]2[C@H](C=CC(O)C3CCCCC3)[C@@H]3CC[C@H]2O3)cc1', 'O=COC1CC2CC1C1C3CC(C(=O)OC45CC6CC(CC(C6)C4)C5)C(C3)C21', 'CCCCCCOC(C(=O)O)C(CC)c1ccc(OCc2ccccc2)cc1', 'CCC(C)(C)C(=O)OC(OC(=O)C12CC3CC(CC(C3)C1)C2)c1ccccc1', 'CC(O)COc1ccc(C2(c3ccc(OCC(C)O)cc3)CCCCC2)cc1', 'C[C@H]1CC[C@@H]2[C@@H]1C1=C(OC2(C)C)C2=C(C(=O)C1=O)[C@H]1[C@@H](CC[C@@H]1C)C(C)(C)O2', 'CC[C@H](C)CCCOc1ccc(OC(=O)c2ccc(O[C@H](C)CC)cc2)cc1', 'CCC/C=C1\\\\OC(=O)C2=CC([C@@H]3CCC4=C(C3)C(=O)OC4CCCC)CCC21', 'CCC(C(=O)O)(c1ccc(O)c(C(C)(C)C)c1)c1ccc(O)c(C(C)(C)C)c1', 'CC(=O)OCc1cc(C(C)(C)C)cc2c(COC(C)=O)cc(C(C)(C)C)cc12', 'CC(=O)O[C@]1(C(C)=O)CC[C@@H]2[C@@H]3C=C(C)C4=CC(=O)CC[C@]4(C)[C@@H]3CC[C@@]21C', 'C/C=C(/OCC1CO1)C1=C(/C(OCC2CO2)=C(C)/C=C\\\\C=C(C)C)CC=CC1', 'CCOC(=O)CCCC1CC(=O)[C@@]2(C)CC[C@@H]3c4ccc(O)cc4CC[C@H]3[C@H]12', 'CC[C@]12CCC3C(CC(CO)C4=CC(=O)CC[C@@H]43)C1C1CC1[C@@]21CCC(=O)O1', 'C[C@@H]1/C=C\\\\C=C\\\\[C@H](C)OC(=O)CC(=O)C=C(O)[C@@H]2[C@H]1C=C[C@@H]1CCC[C@@H](C)[C@@H]21', 'COc1ccc2c(c1)CC[C@@H]1[C@@H]2CC[C@@]2(C)[C@H]1CC[C@@]2(O)C/C=C/CC(=O)O', 'CCCCOCOc1c2c(c(OCOCCCC)c3ccccc13)CC=CC2', 'CC(C)C(=C1C=CC(O)=CC1)C(C)c1ccc(OCOC(=O)C(C)(C)C)cc1', 'CCCCCCCCC(C)CC(=O)OC(=O)CCC(=O)C#Cc1ccccc1', 'CCCCCC(O)c1ccc(C2=CC(=O)C[C@@H]2CC=CCCCC(=O)O)cc1', 'CCC(=O)c1c(O)cc2c(c1C(=O)CC)[C@H]1CC[C@]3(C)[C@@H](O)CC[C@H]3[C@@H]1CC2', 'CCCCCCCC/C=C/C=C/C=C/C=C/C(=O)Cc1ccc(O)c(O)c1O', 'CC1=C(C(=O)CCCC2CCOC2=O)C=CC(C2CC2)=C(OCC2CC2)CC1', 'C#CC1C=C2C=C[C@H](C)C(CCC3CCCC(=O)O3)C2[C@@H](OC(=O)CCC)C1', 'CC(C)(C)c1cc(CCC(=O)OCc2ccc(O)cc2)cc(C(C)(C)C)c1O', 'C#CC1CC2C3CCC4=CC(OC(C)=O)CCC4C3CCC2(C)C1OC(C)=O', 'COc1cc(C=C2C=C(C(C)(C)C)C(=O)C(C(C)(C)C)=C2)cc(OC)c1OC', 'C=CC[C@]12C[C@@H](CC=C(C)C)C(C)(C)[C@](CC=C)(C(=O)C(C(C)=O)=C1O)C2=O', 'CC[C@]12CC[C@H]3[C@H]([C@@H]1[C@@H]1C[C@@H]1[C@@]2(O)/C=C\\\\C(=O)O)[C@H](C)CC1=CC(=O)CC[C@@H]13', 'CC(=O)OC(=O)C1(C)CCCC2(C)c3cc(C(C)=O)c(C(C)C)cc3CCC12', 'CC(=O)O[C@@H]1C=C2C=C[C@@H]3[C@H](CC[C@@]4(C)[C@H]3CC[C@@]43CCC(=O)O3)[C@@]2(C)CC1', 'C=C1C[C@@H]2[C@H](CC[C@@]3(C)[C@H]2CC[C@]3(OC(C)=O)C(C)=O)[C@@]2(C)CCC(=O)C=C12', 'CC(=O)O[C@]1(C(C)=O)CC[C@@H]2[C@H]3C=C(C)C4=CC(=O)CC[C@]4(C)[C@H]3CC[C@]21C', 'CCCC(O)CCC.CCc1c(O)ccc2oc(-c3ccccc3)c(CO)c12', 'C=C(C)[C@@H]1CCC(C)=C[C@H]1c1c(OC(C)=O)cc(CCCC)cc1OC(C)=O', 'CC1=CC(/C=C/C(=O)c2ccccc2)C(OC(C)(C)C)=CC1(O)OC(C)(C)C', 'C=C/C=C(\\\\C=C/CC1CCCC(Oc2ccc(C)cc2)C1)CCOCC(=O)O', 'CC(=O)OCCC[C@]12CC[C@H]3[C@@H](CCC4=CC(=O)C=C(C)[C@@]43C)[C@@H]1CCC2=O', 'C#C[C@]1(O)CC[C@H]2[C@@H]3[C@H](C)C=C4C[C@@H](OC(C)=O)CC[C@]4(C=O)[C@H]3CC[C@@]21C', 'CC/C(=C\\\\Cc1cc(OC)c(C)cc1OC)Cc1cc(OC)c(C)cc1OC', 'CCC(C)(CC(C)(C)c1ccc(O)cc1)C(=O)OC(C)(C)c1cccc(O)c1', 'COC(=O)c1ccc(C(=O)C(C)C(C)CC(=O)C2=C(C)CCCC2(C)C)cc1', 'C[C@@H](c1ccccc1)[C@@H](O)/C=C/[C@H]1[C@@H](CC/C=C/CCC(=O)O)[C@@H]2CC[C@H]1O2', 'CCCC(=O)CC(=O)Oc1ccc2c(c1)CC[C@@H]1[C@@H]2CC[C@]2(C)[C@@H](O)CC[C@@H]12', 'COc1ccc2c(c1)CCC1C2C(C)CC2(C)C1CC[C@@]2(OC(C)=O)C(C)=O', 'CCCCCCCCCC/C=C/c1c(OC(C)=O)c(O)c2ccccc2c1O', 'CCC1(C(=O)C(O)C2CCC(C(O)C(=O)C3(CC)C4C5CC543)CC2)C2C3CC321', 'C[C@@H]1CC[C@H]2[C@@H](CCCCc3ccccc3)C(=O)O[C@@H]3O[C@@]4(C)CC[C@@H]1[C@]32O4', 'CCCCCCOc1ccc(C(=O)Oc2ccc(C(C)OCCC)cc2)cc1', 'C=CC/C=C/C/C=C/CCCCCCCc1cccc(OC(C)=O)c1C(=O)O', 'CCC1C=CC(=O)OC1C(C)CCC(O)CC(O)C=CC=Cc1ccccc1', 'C[C@]12CCC3C(C1C1C[C@@H]1C21CCC(=O)O1)[C@H]1C[C@H]1[C@]1(O)CC(=O)CC[C@]31C', 'CCCCCCOCc1ccc(-c2ccc(O[C@H](C)C(=O)OCC)cc2)cc1', 'CC1=CC[C@H]2C(C)(C)CCC[C@]2(C)[C@H]1COC(=O)C=Cc1ccc(O)c(O)c1', 'CCC(C)(CC(C)(C)C1OCCO1)Oc1cccc(C(O)c2ccccc2)c1', 'CC1(CCCCCCC=CC=Cc2ccccc2)CC2(C)OC(=O)CC2OO1', 'C/C=C/C(=O)Cc1ccc(/C=C/C(C)=O)cc1.C/C=C/C(C)=O.CCC(C)=O', 'CC/C(=C/CCC(C)(C)O)c1cccc(OCc2ccc(CO)c(CO)c2)c1', 'C=C1CC[C@@H]2C(C)(C)[C@H](O)CC[C@]2(C)[C@@H]1COC1=C[C@@H]2OC(=O)CC=C2C=C1', 'C=C1C[C@@H]2[C@H](CC[C@@]3(C)[C@H]2CC[C@@]3(OC(C)=O)C(C)=O)[C@@]2(C)CCC(=O)C=C12', 'CCC1(COC2=CC=CC(OCC3(CC)COC3)(c3ccccc3)C2)COC1', 'C[C@]12CC(=O)CC[C@]1(C)C1=CC[C@@]3(C)[C@@H](CC[C@@]34CCC(=O)O4)[C@@H]1[C@H](C=O)C2', 'CCCCc1cc(C(C)(CC(=O)O)c2ccc(O)c(CCCC)c2)ccc1O', 'C[C@H](/C=C/C(=O)O)[C@H]1CC[C@H]2[C@@H]3C4OC4C4=CC(=O)CC[C@]4(C)[C@H]3CC[C@]12C', 'CC1=C2CC[C@H](C)[C@@H]2C[C@H](C(C)(C)O)[C@@H](OC(=O)/C=C/c2ccc(O)cc2)C1', 'C/C=C/CCc1ccccc1C.CC=O.Cc1ccccc1CCC=O.O=O', 'C#C[C@]1(OC(C)=O)CC[C@@H]2[C@@H]3CCC4=C[C@@H](OC(C)=O)CC[C@H]4[C@@H]3CC[C@@]21C', 'CC(c1ccccc1)C(O)/C=C/[C@H]1[C@H](C/C=C\\\\CCCC(=O)O)[C@H]2CC[C@@H]1O2', 'COC(C)c1ccc(COCC(C)COC(=O)CC(C)c2ccccc2)cc1', 'CCC(=O)c1cc2c(cc1OC)CC[C@@H]1[C@@H]2CC[C@]2(C)[C@@H](OC(C)=O)CC[C@@H]12', 'Cc1ccc(C)o1.Cc1ccoc1C.Cc1coc(C)c1.Cc1cocc1C', 'Oc1cc(Cc2ccccc2)cc(OCCCCCCCCC2OCCO2)c1', 'C=C1C[C@H]2[C@@H]3CCC4=CC(=O)CC[C@@H]4[C@H]3CC[C@]2(CC)[C@]1(OC(C)=O)C(C)=O', 'CCCCCCCOc1ccc(C(C)OC(=O)Cc2ccc(OC)cc2)cc1', 'CC[C@](CC/C=C/C(O)c1ccc(OC)cc1)(OCc1ccccc1)[C@H](C)O', 'Cc1ccc(CC(O)/C=C/[C@H]2[C@@H](C/C=C\\\\CCCC(=O)O)[C@H]3CC[C@H]2O3)cc1', 'CC(C)CC(CC(C)C)C1OC(=O)C(C(c2ccccc2)C2CC2)=C(O)C1=O', 'CCCCCCOc1ccc(C(=O)Oc2ccc(OC[C@@H](C)CC)cc2)cc1', 'C=COc1cc(CCCCC)c2c(c1[C@@H]1C=C(C)CCC1)OC(C)(C)OC2=O', 'C=C1CC[C@H]2C(C)(C)CCC[C@@]2(C)[C@H]1COC(=O)/C=C/c1ccc(O)cc1O', '[2H]C([2H])([2H])C1=C[C@@H]2[C@H](CC[C@@]3(C)[C@H]2CC[C@]3(OC(C)=O)C(C)=O)[C@@]2(C)CCC(=O)C=C12', 'CC(=O)O[C@]1(C(C)=O)CCC2C3CC(C)=C4CC(=O)C=CC4(C)C3CCC21C', 'CCC1CC2=CC(=O)CC[C@]2(C)C2C1C1CCC3(CCC(=O)O3)[C@@]1(C)C1O[C@H]12', 'CCCCCCCCOc1ccc(Cc2cc(C=O)ccc2OCOC)cc1', 'C=C(C#CCCC(CC(=C)CC=O)(OC)C1CCCC1)/C=C\\\\C1=C(C)OCO1', 'CC12CCC(O)CC1CCC1C3CC/C(=C\\\\c4ccco4)C(=O)C3CC(O)C12', 'C=CCc1ccc(OCCOCCOc2ccc(C(C)(C)C)cc2)c(OC)c1', 'CCC1(c2ccc(-c3ccc(OCCCCCCO)cc3)c(OC)c2)COC1', 'C#CC1(OC(C)=O)CC[C@H]2[C@@H]3CCC4=CC(OC(C)=O)CC[C@@H]4[C@H]3CC[C@@]21C', 'C#C[C@@]1(OC(C)=O)CC[C@@H]2[C@@H]3CCC4=C[C@@H](OC(C)=O)CC[C@H]4[C@H]3CC[C@]21C', 'CC(=O)CCCC(=O)O[C@H]1CC[C@H]2[C@H]3CCc4cc(O)ccc4[C@@H]3CC[C@]12C', 'C#C[C@H]1C[C@]2(C)[C@@H](OCOC)CC[C@H]2[C@@H]2CCc3cc(OCOC)ccc3[C@H]21', 'CC(C)(C)c1ccc(Cc2ccccc2O[C@@H]2C[C@H](CO)[C@@H](O)[C@H](O)C2)cc1', 'C=C1CC2[C@@H]3CCC4=CC(=O)CC[C@]4(C)C3CC[C@]2(C)[C@@]1(OC(C)=O)C(C)=O', 'CC(C)C1=CC2(C=C(C(C)C)C1=O)OOC21C=C(C(C)C)C(=O)C(C(C)C)=C1', 'CCCC[C@@]1(O)C(C)OCC(OCc2ccccc2)C1OCc1ccccc1', 'CCCCCCCCCCOc1ccc(COc2ccc(C=O)c(O)c2)cc1', 'CCC(O)COc1ccc(Cc2ccc(OC(C)(CC)CC3CO3)cc2)cc1', 'C#C[C@]1(OC(C)=O)CC[C@@H]2[C@@H]3CCC4=C[C@@H](OC(C)=O)CC[C@@H]4[C@H]3CC[C@@]21C', 'CC(=O)Oc1cccc(C2CCCC3(CC4CC5CC(C4)CC(C5)OO3)C2)c1', 'C[C@]12CC[C@H]3[C@@H](CCC4=CC(=O)C=C[C@@]43COC3CCCCO3)[C@@H]1CCC2=O', 'C[C@]12CCC3C(C4C[C@H]4[C@]4(O)CC(=O)CC[C@]34C)C1C1C[C@@H]1C21CCC(=O)O1', 'CCCCCC[C@]12CC[C@@H](O)[C@H](C#C[C@H](O)COc3ccccc3)[C@H]1CC2=O', 'COc1cc2c(cc1OC)[C@]1(C)CCC3C(C)(C)CCC[C@]3(C)[C@@H]1C(=O)C2=O', 'CC(C)(COC(C)(C)C1CO1)Oc1ccc(C(C)(C)c2ccc(O)cc2)cc1', 'C#CC1(O)CC[C@H]2[C@@H]3C(C)C=C4CC(OC(C)=O)CC[C@]4(C=O)[C@@H]3CC[C@@]21C', '[2H][13C]([2H])([2H])C(=O)O[C@]1(C(C)=O)CC[C@H]2[C@@H]3C=C(C)C4=CC(=O)CC[C@]4(C)[C@H]3CC[C@@]21C', 'C=C(C)CC(CC(=O)O)c1ccc(OCC2=C[C@]3(CCC2)CC[C@H](O)C3)cc1', 'COc1cc2c(cc1C)[C@H]1CC[C@]3(C)C(=O)C[C@@H](CCCC(=O)O)[C@H]3[C@@H]1CC2', 'C/C1=C/CC(C)(C)/C=C\\\\C[C@]2(C)Oc3cc(=O)c(O)cc(C)c3C[C@H]2C[C@@H]1O', 'C=CCOC1CC(=O)C(/C=C/c2ccccc2)(CCCCCCC(=O)OC)C1', 'C=C(C(=O)OC12CC3CC(CC(C3)C1)C2)C(=O)OC12CC3CC(CC(C3)C1)C2', 'CC/C=C/C=C/C1(C(=O)C(=C(O1)OC)C(=O)C2C(C(=O)C3=CC(=C(C(=C3C2(C)O)O)O)OC)C)C', 'CCCC(=O)Oc1cc(C(=O)OCc2ccccc2O)cc(OC(=O)CCC)c1OC(=O)CCC', 'COC(=O)[C@@H]1O[C@H]([C@@H](CCOCc2ccc(OC)cc2)OC(C)=O)C[C@@H]1OC(=O)c1ccccc1', 'CCOC(=O)c1cc(OC(=O)OC(C)(C)C)cc(OC(=O)OC(C)(C)C)c1C(=O)c1ccccc1', 'CC(=O)OCC1OC(OC(C)=O)C(OCc2ccccc2)C(OC(C)=O)C1OCc1ccccc1', 'CC(=O)OC[C@H]1OC(OC(C)=O)[C@@H](OCc2ccccc2)[C@H](OCc2ccccc2)[C@@H]1OC(C)=O', 'COc1ccc([C@H]2c3cc(OC)c(OC)cc3[C@@H]3OC[C@H]2[C@@]3(COC(C)=O)OC(C)=O)cc1OC', 'CC1(C)C(=O)[C@]2(O)C[C@@]34O[C@]2(O)[C@]2(COC(=O)C[C@@H]12)[C@H]3CC[C@]1(C)[C@H]4CC(=O)O[C@H]1c1ccoc1', 'COc1ccc(-c2coc3c([C@@H]4O[C@H](CO)[C@@H](O)[C@H](O)[C@H]4O)c(O)c(C(C)(C)C)cc3c2=O)cc1', 'COc1ccc(C2=C(COC(C)=O)[C@@H](COC(C)=O)[C@H](c3ccc(OC)c(OC)c3)O2)cc1OC', 'CCC(CC(CC(C)c1cc(O)c(O)c(O)c1)c1cc(O)c(O)c(O)c1)c1cc(O)c(O)c(O)c1', 'COc1cc(C[C@H]2CO[C@@H](OC(C)=O)[C@@H]2Cc2ccc(OC(C)=O)c(OC)c2)ccc1OC(C)=O', 'C=CC(=O)OCC(O)COc1ccc(Oc2ccc(OCC(O)COC(=O)C=C)c(C)c2)cc1C', 'CC(=O)OC[C@H]1O[C@H](OC(C)=O)[C@@H](OCc2ccccc2)[C@@H](OCc2ccccc2)[C@@H]1OC(C)=O', 'CC(=O)CC(O)C[C@]1(O)Cc2c(c(O)c3c(O)cc(O)cc3c2CC=C(C)C)C(=O)[C@H]1OC(C)=O', 'COc1cc(C=C(CCc2ccccc2)C(=O)O[C@@H]2[C@H](OC(C)=O)[C@@H](O)[C@@H](C)O[C@H]2O)ccc1O', 'CC1(C)O[C@H]2CC(=O)OC[C@]23[C@H]2CC[C@@]4(C)[C@H](c5ccoc5)OC(=O)[C@H]5O[C@]54[C@]2(C)[C@@H](O)C(=O)[C@@H]13', 'COCOc1ccc(-c2oc3cc(OCOC)cc(OCC=C(C)C)c3c(=O)c2OCOC)cc1', 'CC1(C)O[C@H]2CC(=O)OC[C@@]23[C@H]1C(=O)[C@H](O)[C@]1(C)[C@H]3CC[C@]2(C)[C@@H](c3ccoc3)OC(=O)[C@H]3O[C@@]312', 'C[C@H]1O[C@@H](O[C@@H]2C[C@H](O)O[C@H](C)[C@H]2OC(=O)c2ccccc2)C[C@H](OC(=O)c2ccccc2)[C@@H]1O', 'CC1(C)O[C@H]2CC(=O)OC[C@]23[C@H]2CC[C@@]4(C)[C@H](c5ccoc5)OC(=O)[C@H]5O[C@]54[C@]2(C)C(O)C(=O)[C@@H]13', 'COc1ccc(C2OCC(C)(C(=O)OC(=O)C3(C)COC(c4ccc(OC)cc4)OC3)CO2)cc1', 'C[C@H]1O[C@@H](O)C[C@@H](O[C@H]2C[C@@H](O)[C@H](OC(=O)c3ccccc3)[C@@H](C)O2)[C@@H]1OC(=O)c1ccccc1', 'CCC(=O)O[C@@H]1C[C@]2(C)[C@@H](OC(C)=O)CC[C@H]2C2=C1[C@]1(C)c3c(coc3C2=O)C(=O)O[C@@H]1COC', 'C[C@@H](O)CC(=O)Oc1ccc(/C=C/c2cc(OC(=O)C[C@@H](C)O)cc(OC(=O)C[C@@H](C)O)c2)cc1', 'CC(C)(Oc1ccc(/C=C/c2cc(OC(C)(C)C(=O)O)cc(OC(C)(C)C(=O)O)c2)cc1)C(=O)O', 'CCCc1c(OCCCOc2cc3c(cc2C(C)=O)CC(OC(=O)O)CO3)ccc(C(C)=O)c1O', 'CC1(C)O[C@@H](CC(=O)O)[C@]23CO[C@H](C(=O)[C@]4(C)[C@@H]2CC[C@@]2(C)[C@H](c5ccoc5)OC(=O)[C@H]5O[C@]524)[C@@H]13', 'COc1ccc(-c2cccc3c2CCC3=O)c(OCC2(C(=O)OC(C)C)CCC2)c1OC(O)(O)O', 'CC(C)(Oc1ccc(C2CCCc3ccccc32)cc1)C(=O)O[C@@H]1O[C@H](C(=O)O)[C@@H](O)[C@H](O)[C@H]1O', 'CC1(C)OC(=O)C=C[C@]2(C)[C@H]3CC[C@@]4(C)[C@H](C5=C[C@H](O)OC5=O)OC(=O)[C@H]5O[C@]54[C@]3(C)C(=O)C[C@@H]12', 'C=C(COC(C)=O)C(=O)OC1C2C(=C)C(=O)OC2C(OC(=O)C(C)=CC)C(C)C2C=CC(=O)C21C', 'C=CC(=O)CC(=O)Oc1ccc(OC(=O)C2CCC(C(=O)OC3CCC(C(=O)O)CC3)CC2)cc1', 'CCCCCCCCOC(=O)c1cc(OC(C)=O)c(=O)c2c(OC(C)=O)c(OC(C)=O)ccc2c1', 'CC1(C)C(=O)C2(O)CC34OC2(O)C2(COC(=O)CC12)C3CCC1(C)C(c2ccoc2)OC(=O)CC14', 'C=C1[C@@H]2O[C@@]23[C@]2(C)CCC(=O)C(C)(C)C2=C(O)C(=O)[C@]3(C)[C@H]2C(=O)O[C@](C)(C(=O)OC)C(=O)[C@]12C', 'CCCC(=O)Oc1c(O)c(O)c(C(=O)CCC)c(C(=O)OCc2ccccc2O)c1C(=O)CCC', 'CC12O[C@H]3C[C@@H](O1)[C@]1(C=O)C4C(O)C(=O)[C@]5(C)C(c6ccc(=O)oc6)CC[C@]5(O)C4CC[C@@]1(C3)O2', 'CC1(C)OC2CC(=O)OCC23C1C(=O)C(O)[C@]1(C)C3CC[C@@]2(C)[C@H](c3ccoc3)OC(=O)C3OC312', 'CC1(C)O[C@H]2CC(=O)OC[C@]23[C@H]2C[C@H](O)[C@@]4(C)[C@H](c5ccoc5)OC(=O)[C@H]5O[C@]54[C@]2(C)C(=O)C[C@@H]13', 'CC(O)(CO)CCO.O=C(O)c1ccccc1.O=C(O)c1ccccc1.O=C(O)c1ccccc1', 'COC(=O)CC1C2C3CCC4(C)C(c5ccco5)OC(=O)CC45OC4C(=O)C1(C)CC2(O)C4C35O', 'CC1=C2OC(=O)CCC(=O)OC(=C3CC[C@@H]4[C@H](C(=O)C[C@@]5(C)[C@H]4CC[C@]5(O)C(=O)CO)[C@]13C)C2=O', 'CC(=O)OC1O[C@H](COCc2ccccc2)[C@@H](OCc2ccccc2)[C@H](OC(C)=O)[C@@H]1OC(C)=O', 'COc1cc(C(c2cc3c(cc2C=O)OCO3)C(CC=O)C(=O)OC(C)(C)C)cc(OC)c1OC', 'COc1cc([C@@H]2C[C@H](OC(C)=O)C[C@H](CCc3ccc(O)cc3)O2)cc(OC(C)=O)c1OC(C)=O', 'COc1cc(C=C(CCc2ccccc2)C(=O)OC2C(O)OC(C)C(O)C2OC(C)=O)ccc1O', 'CC(C)=CCc1c(OC2OC(CO)C(O)C(O)C2O)ccc(C(=O)C=Cc2ccc(O)cc2)c1O', 'CC(=O)/C=C\\\\C(=O)O.CC(=O)C1C2C=CC(C2)C1C(=O)O.CCc1ccc(C(C)=O)c(C(=O)O)c1', 'CC1(C)OC(=O)C=C[C@]2(C)[C@H]3CC[C@@]4(C)[C@H](C5=C[C@@H](O)OC5=O)OC(=O)[C@H]5O[C@]54[C@]3(C)C(=O)C[C@@H]12', 'CC(=O)OC[C@]1(COCc2ccccc2)OC(OC(C)=O)[C@H](OC(C)=O)[C@@H]1OCc1ccccc1', 'C[C@@H]1O[C@@H](O)[C@H](OC(=O)c2ccccc2)[C@H](OC(=O)c2ccccc2)[C@H]1O[C@@H]1CC[C@H](O)[C@H](C)O1', 'C=C1[C@@H]2[C@@H](O[C@H]3CC(=O)O[C@]4(C)COC(=O)C[C@@H]4[C@]32C)[C@H](O)[C@@]2(C)[C@H](c3ccoc3)CC(=O)[C@]12O', 'CC1(C)OC(=O)C=C[C@]2(C)[C@H]3CC[C@@]4(C)C(C5=CC(=O)OC5O)OC(=O)C5O[C@]54[C@]3(C)C(=O)C[C@@H]12', 'COC1=C(OC)C(=O)C23COc4c5c(cc(c42)C(OC(=O)C(C)C)C(C)C(C)C(O)C3=C1)OCO5', 'COc1ccc([C@@H]2c3cc(OC)c(OC)cc3[C@@H]3OC[C@H]2[C@@]3(COC(C)=O)OC(C)=O)cc1OC', 'CC1(C)O[C@H]2CC(=O)OC[C@@]23C1C(=O)[C@H](O)[C@]1(C)C3CC[C@@]2(C)[C@H](c3ccco3)OC(=O)[C@H]3O[C@]321', 'CCC(CO)(COC(=O)CC(=O)COc1ccccc1)COC(=O)CC(=O)COc1ccccc1', 'CC1(C)OC(=O)C=CC2(C)C1CC(=O)C1(C)C2CCC2(C)C(C3=CC(=O)OC3O)OC(=O)C3OC321', 'COc1ccc([C@H]2c3cc(OC)c(OC)cc3[C@H]3OC[C@@H]2[C@@]3(COC(C)=O)OC(C)=O)cc1OC', 'CCCCCc1c2c(cc(O)c1C(=O)O)OC(=O)c1c(CC(=O)CC(O)CCC)cc(O)cc1O2', 'COc1cc(/C=C(\\\\CCc2ccccc2)C(=O)O[C@@H]2[C@H](OC(C)=O)[C@@H](O)[C@H](C)O[C@H]2O)ccc1O', 'C=C(CC(=O)OCc1ccccc1)C(=O)OC.COC(=O)[C@H](CO)CC(=O)OCc1ccccc1', 'CCOC(=O)CCCOc1ccc(C2(C(=O)OCC)CC3=C(C2)C(=O)C(OC)=C(OC)C3=O)cc1', 'COc1cc(C2Oc3c(OC)cc(CCCOC(C)=O)cc3C2COC(C)=O)ccc1OC(C)=O', 'CC1(C)OC2CC(=O)OCC23C1CC(=O)C1(C)C3CC(O)C2(C)C(c3ccoc3)OC(=O)C3OC312', 'C[C@@]12O[C@H]3C[C@@H](O1)[C@]1(C=O)[C@H]4[C@H](O)C(=O)[C@]5(C)[C@@H](c6ccc(=O)oc6)CC[C@]5(O)[C@@H]4CC[C@@]1(C3)O2', 'CCC1c2cc3c(cc2-c2c(cc(OC)c(OC)c2OC)CC(C(=O)OC(=O)O)C1CC)OCO3', 'COc1c(OCC2CC2)ccc(C=O)c1O.COc1c(OCC2CC2)ccc(C=O)c1OC(C)=O', 'COc1cc([C@@H]2c3cc4c(cc3[C@H](O)C3CC(CO)C(C(=O)O)C[C@@H]32)OCO4)cc(OC)c1OC', 'C=C1C(C)(C)OC(=O)/C=C\\\\CC[C@]2(C)C13O[C@@]14C(=O)O[C@](C)(C(=C)[C@]12C(=O)O[C@H]4C)C3OC(C)=O', 'COc1ccc(/C=C2\\\\COc3cc(OC)c(OC)c(OC)c3C2=O)cc1OCC(=O)OC(C)(C)C', 'COc1cc(OC)c(Oc2c(OC)cc(-c3c(OC)cc(OC)cc3OC)cc2OC)c(OC)c1', 'C=C(C)C(=O)Oc1ccc(Oc2ccc(OC(=O)OC(C)(C)C)c(OC(=O)OC(C)(C)C)c2)cc1', 'CC1(C)C(=O)[C@]2(O)C[C@@]34O[C@@]2(O)[C@]2(COC(=O)C[C@@H]12)[C@H]3CC[C@]1(C)[C@H]4CC(=O)O[C@H]1c1ccoc1', 'CC(C)=CCc1c(O[C@@H]2O[C@H](CO)[C@@H](O)[C@H](O)[C@H]2O)ccc(C(=O)C=Cc2ccc(O)cc2)c1O', 'COc1cc([C@@H]2Oc3c(OC)cc(CCCOC(C)=O)cc3[C@H]2COC(C)=O)ccc1OC(C)=O', 'COc1cc([C@H]2Oc3c(OC)cc(CCCOC(C)=O)cc3[C@H]2COC(C)=O)ccc1OC(C)=O', 'COc1cc(C(=O)OCCCC(=O)Oc2ccc(C)c(C(=O)OCCCC(=O)O)c2C)ccc1C', 'CC1(C)OC2CC(=O)OC[C@@]23C1C(=O)C(O)[C@]1(C)C3CC[C@@]2(C)C(c3ccoc3)OC(=O)C3O[C@@]312', 'COc1ccc(-c2cc3ccc4c(c3oc2=O)OCCOCCOCCOCCOCCO4)cc1', 'COc1ccc(/C=C2/COc3cc(OC)c(OC)c(OC)c3C2=O)cc1OCC(=O)OC(C)(C)C', 'CCCCCc1c2c(cc(O)c1C(=O)O)OC(=O)c1c(CC(=O)C[C@H](O)CCC)cc(O)cc1O2', 'C=C1CCC2(C)C3=C(C(=O)C4(CC4COC(C)=O)C(OC(C)=O)C3=O)C(OC(C)=O)C(O)C2C1=C', 'OC[C@@H]1C[C@H](O)[C@H](O)[C@@H](c2cccc(C#Cc3cccc([C@H]4O[C@H](CO)[C@@H](O)[C@H](O)[C@@H]4O)c3)c2)O1', 'CCCC(=O)Oc1c(O)c(O)c(C(=O)CCC)c(C(=O)OCc2cccc(O)c2)c1C(=O)CCC', 'COc1ccc(C=C2COc3cc(OC)c(OC)c(OC)c3C2=O)cc1OCC(=O)OC(C)(C)C', 'CCOC(=O)c1ccc(OC(=O)OC(C)(C)C)c(OC(=O)OC(C)(C)C)c1C(=O)c1ccccc1', 'CCCC(=O)Oc1cc(C(=O)OCc2cccc(O)c2)cc(OC(=O)CCC)c1OC(=O)CCC', 'C[C@H]1O[C@@H](O[C@@H]2C[C@H](O)O[C@H](C)[C@H]2OC(=O)c2ccccc2)C[C@@H](OC(=O)c2ccccc2)[C@@H]1O', 'COc1cc(OC)c(-c2c(O)cc(OC)c(-c3c(OC)cc(OC)cc3OC)c2OC)c(OC)c1', 'CC1c2c(OCC3CO3)cc(OCC3CO3)cc2OC(c2ccc3c(c2)OC(CCO)CO3)C1O', 'CC(=O)OC[C@H]1OC(OC(C)=O)[C@H](OCc2ccccc2)[C@@H](OC(C)=O)[C@@H]1OCc1ccccc1', 'O=C1c2c(O[C@H]3O[C@H](CO)[C@@H](O)[C@H](O)[C@H]3O)cccc2C(=O)[C@H]2C=C(C3CCCCC3)C=C(O)[C@H]12', 'CC1(C)OC(CC(=O)O)[C@]23COC(C(=O)[C@]4(C)C2CC[C@@]2(C)C(c5ccoc5)OC(=O)C5O[C@]524)C13', 'COc1cc([C@@H]2c3cc4c(cc3C(=O)[C@@H](CO)[C@@H]2C(=O)OC(C)(C)C)OCO4)cc(OC)c1OC', 'CC(=O)OC[C@H]1O[C@H](OC(C)=O)[C@H](OCc2ccccc2)[C@@H](OCc2ccccc2)[C@@H]1OC(C)=O', 'COc1cc(C(=O)OC[C@H]2O[C@@H]3OC(C)(C)O[C@@H]3[C@H]3OC(C)(C)O[C@H]32)ccc1Oc1ccccc1', 'CC(=O)c1ccc(C(=O)OCCOCCOCCOCCOC(=O)c2ccc(C(C)=O)cc2)cc1', 'CC(=O)OC[C@H]1O[C@@H](OC(C)=O)[C@@H](OCc2ccccc2)[C@@H](OC(C)=O)[C@@H]1OCc1ccccc1', 'COc1ccc(-c2oc3c(OC)c(OCC=C(C)C)c(OC)c(OC)c3c(=O)c2OC)cc1OC', 'O=C(O)[C@@H]1[C@H](C(=O)O)[C@H]2C=C[C@@H]1O2.O=C(OCCOC(=O)[C@@H]1C[C@H]2C=C[C@@H]1C2)C1C[C@H]2C=C[C@@H]1C2', 'CCOC(=O)c1ccc(C(C)=O)cc1OCCOCCOCCOC(=O)c1ccc(C(C)=O)cc1', 'CC(CO)(CO)CO.O=C(O)c1ccccc1.O=C(O)c1ccccc1.O=C(O)c1ccccc1', 'CC1(C)O[C@@H](CC(=O)O)[C@]23CO[C@H](C(=O)[C@]4(C)C2CC[C@@]2(C)[C@H](c5ccoc5)OC(=O)[C@H]5O[C@]524)[C@@H]13', 'CC1(C)OC2CCC(=O)OC23C1C(=O)C(O)C1(C)C3CCC2(C)C(c3ccoc3)OC(=O)C3OC321', 'CC(=O)OC[C@H]1OC(OC(C)=O)[C@H](OC(C)=O)[C@@H](OCc2ccccc2)[C@@H]1OCc1ccccc1', 'CC(=O)Oc1c2c(c(OC(C)=O)c(C(C)C)c1OC(C)=O)C(=O)C[C@@H]1[C@]3(CCC[C@]1(C)C(=O)O3)C2', 'CC1(C)O[C@H]2CC(=O)OC[C@@]23C1C(=O)[C@H](O)[C@]1(C)C3CCC2(C)C(c3ccoc3)OC(=O)[C@H]3O[C@]321', 'CC1(C)O[C@H]2CC(=O)OC[C@]23[C@H]2C[C@H](O)[C@@]4(C)[C@H](c5ccoc5)OC(=O)[C@H]5O[C@@]54[C@]2(C)C(=O)C[C@@H]13', 'CCCc1cc(O)c(C(=O)CCc2ccc3occc3c2)c(O[C@@H]2O[C@H](CO)[C@@H](O)[C@H](O)[C@H]2O)c1', 'CC1(C)OC(=O)C=C[C@@]2(C)[C@@H]1CC(=O)[C@]1(C)[C@H]2CC[C@@]2(C)[C@H](C3=CC(=O)O[C@@H]3O)OC(=O)[C@H]3O[C@]321', 'COC(=O)c1ccc(/C=C/c2ccc3c(c2)OCCOCCOCCOCCO3)cc1C(=O)OC', 'C=C1[C@H]2[C@]34C[C@@]1(OC(C)=O)CC[C@H]3[C@@]13C=C[C@H](OC(C)=O)[C@@](C)(C(=O)O1)[C@H]3[C@@H]4C(=O)OC[C@]2(C)O', 'CC(=O)OCC1=C2CC(=O)OC(C)(C)C2=CC(=O)C2(C)C1CC1(C)C(=O)OC3OC(C)C(=O)C2C31', 'C[C@]12O[C@H]3C[C@@H](O1)[C@]1(C=O)[C@H]4[C@H](O)C(=O)[C@]5(C)[C@@H](c6ccc(=O)oc6)CC[C@]5(O)[C@@H]4CC[C@]1(C3)O2', 'COc1cc([C@H]2Oc3c(OC)cc(CCCOC(C)=O)cc3[C@@H]2COC(C)=O)ccc1OC(C)=O', 'COc1ccc([C@H]2c3cc(OC)c(OC)cc3C(OC(C)=O)[C@@]3(OC(C)=O)COC[C@H]23)cc1OC', 'C[C@H](OC(=O)[C@H](C)O[C@@H](C)C(=O)O[C@@H](C)C(=O)OCc1ccccc1)C(=O)OCc1ccccc1', 'CC1(C)OC(=O)C=C[C@]2(C)[C@H]3CC[C@@]4(C)[C@H](C5=CC(=O)OC5O)OC(=O)[C@H]5O[C@]54[C@]3(C)C(=O)C[C@@H]12', 'COc1cc([C@@H]2Oc3c(OC)cc(CCCOC(C)=O)cc3[C@@H]2COC(C)=O)ccc1OC(C)=O', 'CC(=O)O.CC(=O)O.CC(=O)O.CC(c1ccc(O)cc1)(c1ccc(O)cc1)c1ccc(O)cc1', 'COC(=O)[C@]12C(=O)[C@@H](C)O[C@@H]3OC(=O)[C@](C)(C[C@H]4[C@]5(CO5)C5=CC(=O)OC(C)(C)C5=CC[C@@]41C)[C@@H]32', 'COC(=O)[C@@H]1[C@@H](C)C(=O)C(CC(=O)C2=CC(=O)O[C@@H](c3ccoc3)[C@]2(C)CCC(=O)O)=CC1(C)C', 'O=C(O)CCCC(Cc1ccc(OCC(=O)OCc2ccccc2)cc1)CC(CC(=O)O)C(=O)O', 'CC1(C)OC2CC(=O)OCC23C1C(=O)[C@H](O)[C@]1(C)C3CCC2(C)C(c3ccoc3)OC(=O)[C@@H]3O[C@]321', 'CCCC(=O)Oc1cc(C(=O)OCc2ccc(O)cc2)cc(OC(=O)CCC)c1OC(=O)CCC', 'C=C1C[C@]23C[C@@]1(OC(C)=O)CC[C@H]2[C@@]12C=C[C@H](OC(C)=O)[C@@](C)(C(=O)O1)[C@H]2[C@@H]3C(=O)OCC(C)=O', 'CC1(C)OC2CC(=O)OCC23C1C(=O)C(O)C1(C)C3CCC2(C)C(c3ccoc3)OC(=O)C3OC321', 'CCCc1c(OCCCOc2cc3c(cc2C(C)=O)OC(OC(=O)O)CC3)ccc(C(C)=O)c1O', 'CC(OC(=O)CC(O)C(=O)OC(C)C(=O)OC(C)c1ccccc1)C(=O)OC(C)c1ccccc1', 'C=C(C)C(=O)OCC(O)COc1ccc(Oc2ccc(OCC(O)COC(=O)C(=C)C)cc2)cc1', 'CC1(C)OC(=O)C=C[C@@]2(C)[C@@H]1CC(=O)[C@]1(C)[C@@H]2CC[C@@]2(C)[C@H](C3=C[C@@H](O)OC3=O)OC(=O)[C@@H]3O[C@@]321', 'CC(=O)OC[C@]12C[C@H](OC(=O)c3ccccc3)C(C)=C[C@H]1O[C@@H]1[C@H](O)[C@@H](OC(C)=O)[C@@]2(C)[C@]12CO2', 'CC1(C)OC(CC(=O)O)C23COC(C(=O)C4(C)C2CCC2(C)C(c5ccoc5)OC(=O)C5OC524)C13', 'COc1cc(C[C@H]2CO[C@H](c3ccc(OC(C)=O)c(OC)c3)[C@H]2COC(C)=O)ccc1OC(C)=O', 'O=C(C=Cc1ccc(O)cc1)O[C@@H]1C[C@](OCCCCOc2ccccc2)(C(=O)O)C[C@H](O)[C@H]1O', 'CCC(=O)OC(=O)CC.CCC(=O)OC(=O)CC.O=C(OC(=O)c1ccccc1)c1ccccc1', 'CC1(C)O[C@H]2CC(=O)OC[C@]23[C@H]2CC[C@@]4(C)[C@H](c5ccoc5)OC(=O)[C@H]5O[C@@]54[C@]2(C)[C@@H](O)C(=O)[C@@H]13', 'CC1(C)OC(=O)C=CC2(C)C1CC(=O)C1(C)C2CCC2(C)C(C3=CC(O)OC3=O)OC(=O)C3OC321', 'CC/C=C/C=C/[C@@]1(C)OC([C@H]2[C@@H](C)C(=O)c3cc(OC)c(O)c(O)c3[C@@]2(C)O)=C(C(=O)OC)C1=O', 'COc1ccc(C(C2C(=O)OC3(CCCCC3)OC2=O)C2C(=O)OC3(CCCCC3)OC2=O)cc1', 'CCC(C)(c1c(O)cc(O)cc1O)c1c(O)cc(O)c(C(C)(CC)c2c(O)cc(O)cc2O)c1O', 'CC1(C)O[C@H]2CC(=O)OC[C@@]23[C@@H]1C(=O)C(O)[C@]1(C)[C@@H]3CC[C@@]2(C)C(c3ccoc3)OC(=O)C3O[C@]321', 'C=CC(=O)OCCC(O)C(O)CCOC1=CC2OC(=O)C(c3ccc(OCCO)cc3)=CC2C=C1', 'CC1(C)O[C@@H]2CC(=O)OC[C@]23[C@@H]1C(=O)[C@H](O)[C@]1(C)[C@@H]3CC[C@]2(C)[C@H](c3ccoc3)OC(=O)[C@H]3O[C@]312', 'CC(C)(Oc1ccc(C2CCCc3ccccc32)cc1)C(=O)OC1OC(C(=O)O)C(O)C(O)C1O', 'COc1ccc2c3c1O[C@@H]1C(OC(=O)[C@H](C)OC(=O)[C@H](C)OC(C)=O)=CC[C@]4(O)[C@@H](CCC[C@@]314)C2', 'C[C@H]1O[C@H](O)C[C@@H](O[C@@H]2C[C@@H](O)[C@H](OC(=O)c3ccccc3)[C@@H](C)O2)[C@@H]1OC(=O)c1ccccc1', 'COc1cc(C(c2cc3c(cc2C=O)OCO3)[C@H](CC=O)C(=O)OC(C)(C)C)cc(OC)c1OC', 'CC(C)=CCc1c(O[C@@H]2O[C@H](CO)[C@@H](O)[C@H](O)[C@H]2O)ccc(C(=O)/C=C/c2ccc(O)cc2)c1O', 'CC(=O)OC1CC2CC(=O)C=CC2(C)C2CCC3(C)C(C4=CC(O)OC4=O)OC(=O)C4OC43C12C', 'COCCO[C@H]1C(OC(C)=O)O[C@H](COC(=O)c2ccc(C)cc2)[C@H]1OC(=O)c1ccc(C)cc1', 'CC(=O)OC[C@@]1(C)CCC[C@]2(COC(C)=O)C3=C(C[C@@H](OC(=O)c4ccc(O)cc4)[C@@H]12)C(=O)OC3', 'CCOC1=C(c2ccc(O)cc2)C(Cc2ccc(O)c(CC(O)C(C)(C)O)c2)(C(=O)OC)OC1=O', 'CC1(C)OC(=O)C=C[C@]2(C)[C@H]3CC[C@@]4(C)[C@H](C5=CC(O)OC5=O)OC(=O)[C@H]5O[C@]54[C@]3(C)C(=O)C[C@@H]12', 'COc1cc(C2OCC3(CCCC4(COC(c5ccc(O)c(OC)c5)OC4)C3=O)CO2)ccc1O', 'CCC=CC=CC1(C)OC(C2C(C)C(=O)c3cc(OC)c(O)c(O)c3C2(C)O)=C(C(=O)OC)C1=O', 'CCCc1c(OCCCOc2c(C(C)=O)ccc3c2OC(OC(=O)O)CC3)ccc(C(C)=O)c1O', 'CC1(C)O[C@H]2CC(=O)OC[C@@]23[C@@H]1C(=O)[C@H](O)[C@]1(C)[C@@H]3CC[C@@]2(C)[C@H](c3ccoc3)OC(=O)[C@@H]3O[C@@]312', 'CC=CC(=O)OCC(O)COc1ccc(Oc2ccc(OCC(O)COC(=O)C=CC)cc2)cc1', 'O=C(OCC1CO1)OC(=O)OCC1CO1.Oc1ccc(C2(c3ccc(O)cc3)CCCCC2)cc1', 'CCC[C@H](O)[C@@]1(O)c2cc3c(cc2[C@@H](c2cc(OC)c(OC)c(OC)c2)[C@H]2C(=O)OC[C@@H]21)OCO3', 'CCOC(=O)C1(C(=O)OCC)CCc2cc3c(cc2C1c1cc(OC)c(OC)c(OC)c1)OCO3', 'C[C@@](O)(CO)CCO.O=C(O)c1ccccc1.O=C(O)c1ccccc1.O=C(O)c1ccccc1', 'COc1cc(CCCO[C@@H]2C[C@@H](CO)[C@@H](O)[C@@H](O)[C@@H]2O)cc2cc(-c3ccc4c(c3)OCO4)oc12', 'COC(=O)[C@]12C(=O)[C@H](C)O[C@@H]3OC(=O)[C@](C)(C[C@H]4[C@]5(CO5)C5=CC(=O)OC(C)(C)C5=CC[C@@]41C)[C@@H]32', 'CC(=O)Oc1c2c(c(OC(C)=O)c(C(C)C)c1OC(C)=O)C(=O)CC1C3(CCCC1(C)C(=O)O3)C2', 'CC1(C)O[C@H]2CC(=O)OC[C@]23[C@H]2CC[C@@](C)(C(=O)c4ccoc4)[C@@]4(O[C@@H]4C(=O)O)[C@]2(C)C(=O)C[C@@H]13', 'CC1(C)OC(=O)C=C[C@]2(C)[C@H]3CC[C@@]4(C)C(C5=CC(O)OC5=O)OC(=O)C5O[C@]54[C@]3(C)C(=O)C[C@@H]12', 'CC(=O)OC[C@H]1O[C@H](OC(C)=O)[C@H](OCc2ccccc2)[C@@H](OC(C)=O)[C@@H]1OCc1ccccc1', 'COc1cc(O[C@@H]2O[C@H](CO)[C@@H](O)[C@H](O)[C@H]2O)c2c(O)c(C(C)=O)c3c(c2c1)C=C[C@@H]1CCC[C@@H]31', 'COC(=O)C[C@@H]1[C@@H]2[C@@H]3CC[C@@]4(C)[C@@H](c5ccco5)OC(=O)C[C@@]45O[C@H]4C(=O)C1(C)C[C@@]2(O)[C@H]4[C@@]35O', 'COC(=O)C(C(=O)OC)[C@@]12C(=O)[C@@H](C3=C4CC(=O)O[C@@H](c5ccoc5)[C@]4(C)CC[C@H]31)[C@H](O)C2(C)C', 'Cc1cc(CCOc2ccccc2C(=O)OCCCC(=O)O)cc(C)c1C(=O)OCCCC(=O)O', 'COc1cccc(CCCO[C@@]2(C(=O)O)C[C@H](O)[C@@H](O)[C@H](OC(=O)/C=C/c3ccc(O)cc3)C2)c1', 'CC12OC3C[C@@H](CC4(CC[C@@H]5[C@H]([C@H](O)C(=O)[C@]6(C)[C@@H](c7ccc(=O)oc7)CC[C@]56O)[C@@]34C=O)O1)O2', 'COC(=O)C[C@H]1C(C)(C)C(=O)C=C2OC3C45C(O)C(=O)O[C@@H](c6ccoc6)[C@]4(C)CC(O)C35[C@@]21C', 'CC1(C)OC(=O)C=C[C@]2(C)[C@H]3CC[C@@]4(C)[C@H](C5=CC(=O)O[C@@H]5O)OC(=O)[C@H]5O[C@]54[C@]3(C)C(=O)C[C@@H]12', 'CC1(C)O[C@@H]2CCC(=O)O[C@@]23[C@H]2CC[C@]4(C)[C@@H](c5ccoc5)OC(=O)[C@@H]5O[C@@]54[C@]2(C)[C@H](O)C(=O)[C@@H]13', 'CC1(C)O[C@H]2CC(=O)OC[C@@]23[C@@H]1C(=O)[C@@H](O)[C@]1(C)[C@@H]3CC[C@@]2(C)[C@H](c3ccoc3)OC(=O)[C@H]3O[C@@]312', 'COc1cc2c(c(OC)c1OC)-c1cc3c(cc1CC(COC(C)=O)C(COC(C)=O)C2)OCO3', 'COC(=O)C12C(=O)C(C)OC3OC(=O)C(C)(CC4C5(CO5)C5=CC(=O)OC(C)(C)C5=CCC41C)C32', 'CC1(C)O[C@H]2CC(=O)OC[C@]23[C@@H]1C(=O)[C@H](O)[C@]1(C)[C@H]3CC[C@@]2(C)[C@H](c3ccoc3)OC(=O)[C@H]3O[C@]312', 'CCOC(=O)C(CC(=O)c1ccccc1)OC(C)=O.CCOC(=O)C(O)CC(=O)c1ccccc1', 'CCCC(=O)Oc1c(O)c(O)c(C(=O)CCC)c(C(=O)OCc2ccc(O)cc2)c1C(=O)CCC', 'COc1ccc([C@H]2c3cc(OC)c(OC)cc3[C@H](OC(C)=O)[C@@]3(OC(C)=O)COC[C@H]23)cc1OC', 'C=CC(=O)CC(CC(O)CC(C(=O)C=C)(C(=O)C=C)C(O)(CO)C(=O)C=C)(C(=O)C=C)C(=O)C=C', 'CC(=O)OCC1(COCc2ccccc2)OC(OC(C)=O)C(OC(C)=O)C1OCc1ccccc1', 'COc1cc([C@H](c2cc3c(cc2C=O)OCO3)[C@H](CC=O)C(=O)OC(C)(C)C)cc(OC)c1OC', 'CCCc1cc(O)c(C(=O)CCc2ccc3occc3c2)c(OC2OC(CO)C(O)C(O)C2O)c1', 'CCOC(=O)COc1ccc(/C=C/c2cc(OCC(=O)OCC)cc(OCC(=O)OCC)c2)cc1', 'COCOc1ccc([C@@H]2Oc3c(OC)cc(/C=C/COC(C)=O)cc3[C@H]2COC(C)=O)cc1OC', 'C=C1CC[C@]2(C)C3=C(C(=O)[C@@]4(C[C@@H]4COC(C)=O)[C@H](OC(C)=O)C3=O)[C@H](OC(C)=O)[C@@H](O)[C@H]2C1=C', 'COc1cc(OC2OC(CO)C(O)C(O)C2O)c2c(O)c(C(C)=O)c3c(c2c1)C=CC1CCCC31', 'C=C(CCOc1ccccc1)C(=O)O.CCC1(C=CC(=O)O)C=CC(=O)OCCCOC(=O)C=C1', 'COC(=O)[C@@H]1C[C@H](OC(C)=O)C(=O)[C@H]2[C@@]1(C)CC[C@H]1C(=O)O[C@H](C(=O)c3ccc(O)cc3)C[C@]21C', 'CC(=O)OCC1=C2CC(=O)OC(C)(C)C2=CC(=O)[C@]2(C)[C@@H]3C(=O)[C@@H](C)O[C@@H]4OC(=O)[C@](C)(C[C@@H]12)[C@@H]43', 'CCCCC(Oc1ccc(C(=O)O)cc1)C(=O)OC(=O)C(CCCC)Oc1ccc(C(=O)O)cc1', 'COc1c(OC(O)(O)O)ccc(-c2cccc3c2CCC3=O)c1OCC1(C(=O)OC(C)C)CCC1', 'CC(=O)O[C@@H]1C[C@H]2CC(=O)C=C[C@]2(C)[C@H]2CC[C@@]3(C)[C@H](C4=C[C@H](O)OC4=O)OC(=O)[C@H]4O[C@]43[C@@]21C', 'O=C(/C=C/c1ccc(O)cc1)O[C@@H]1C[C@](OCCCCOc2ccccc2)(C(=O)O)C[C@H](O)[C@H]1O', 'CC1(C)O[C@H]2CC(=O)OCC23[C@@H]1C(=O)[C@H](O)[C@]1(C)[C@@H]3CC[C@@]2(C)[C@H](c3ccoc3)OC(=O)[C@H]3O[C@@]312', 'O=C1CC2(CO1)CC1CCC2(C2CC3(CC4CC(C5OC(=O)C6C7CCC(O7)C56)C3O4)C(=O)O2)O1', 'Cc1cc(C)c2c(c1)OC(C)C(C)C2.O=C(O)c1cc(O)c(O)c(O)c1.Oc1cccc(O)c1O', 'O=C(O)OC(=O)O.Oc1ccc(C2(c3ccc(O)c(CC4CO4)c3CC3CO3)CCCCC2)cc1', 'CC1(C)O[C@H]2CC(=O)OC[C@]23[C@H]2CC[C@@]4(C)[C@H](c5ccco5)OC(=O)[C@H]5O[C@]54[C@]2(C)[C@@H](O)C(=O)[C@@H]13', 'CCCc1c(OCCCOc2cc3c(cc2C(C)=O)CCC(OC(=O)O)O3)ccc(C(C)=O)c1O', 'COCOc1ccc(-c2oc3c(CC=C(C)C)c(OCOC)cc(O)c3c(=O)c2OCOC)cc1', 'CCC1(CC)O[C@@H]2[C@@H](OC(=O)c3ccccc3)[C@H](OC(=O)c3ccccc3)[C@@H](CO)OC(O)[C@@H]2O1', 'CC(=O)OC[C@@]1(C)CCC[C@]2(COC(C)=O)C3=C(CC(OC(=O)c4ccc(O)cc4)C12)C(=O)OC3', 'CC(=O)O[C@@H]1C(=O)c2c(c(CC=C(C)C)c3cc(O)cc(O)c3c2O)C[C@@]1(O)CC(=O)CC(C)O', 'COC(=O)[C@H]1[C@@H](O)[C@@]2(O)c3c(OC)cc(OCCCC=O)cc3O[C@@]2(c2ccc(OC)cc2)[C@@H]1C', 'CC12O[C@H]3C[C@@H](O1)[C@]1(C=O)[C@H]4[C@H](O)C(=O)[C@]5(C)[C@@H](c6ccc(=O)oc6)CC[C@]5(O)[C@@H]4CC[C@@]1(C3)O2', 'CCOC1=C(c2ccc(O)cc2)[C@](Cc2ccc(O)c(C[C@H](O)C(C)(C)O)c2)(C(=O)OC)OC1=O', 'COCOc1ccc(-c2oc3cc(OCOC)c(CC=C(C)C)c(O)c3c(=O)c2OCOC)cc1', 'C=C(COC(C)=O)C(=O)O[C@H]1[C@@H]2C(=C)C(=O)O[C@@H]2[C@H](OC(=O)/C(C)=C\\\\C)[C@@H](C)[C@@H]2C=CC(=O)[C@]21C', 'O=C(O)/C=C/c1ccc(OCCOCCOCCOCCOc2ccc(/C=C/C(=O)O)cc2)cc1', 'CC1(C)O[C@@H]2O[C@@H](COC3C4=C(OC3(C)C)c3ccccc3C(=O)C4=O)[C@H]3OC(C)(C)O[C@H]3[C@@H]2O1', 'C[C@H]1O[C@@H](O[C@@H]2C[C@H](O)O[C@H](C)[C@H]2OC(=O)c2ccccc2)C[C@H](OC(=O)c2ccccc2)[C@H]1O', 'CC(=O)OCO[C@@]1(C(C)=O)O[C@H](COCc2ccccc2)[C@@H](OCc2ccccc2)[C@]1(O)C(C)=O', 'CC(=O)OCC(Cc1ccc(Oc2ccc(CC(COC(C)=O)OC(C)=O)cc2)cc1)OC(C)=O', 'CC1(C)O[C@@H]2CCC(=O)O[C@@]23[C@@H]1C(=O)[C@@H](O)[C@]1(C)[C@H]3CC[C@]2(C)[C@@H](c3ccoc3)OC(=O)[C@@H]3O[C@@]312', 'CCOC(=O)c1c(OC(=O)OC(C)(C)C)ccc(OC(=O)OC(C)(C)C)c1C(=O)c1ccccc1', 'CC(c1c(CO)cc(O)cc1CO)(c1c(CO)cc(O)cc1CO)c1c(CO)cc(O)cc1CO', 'O[C@@H]1C[C@@H](O[C@@H]2C[C@@H](O)[C@@H]3OC(c4ccccc4)OC[C@H]3O2)O[C@@H]2COC(c3ccccc3)O[C@@H]12', 'OC[C@H]1O[C@@H](O[C@H]2[C@@H]3O[C@@H]3[C@@H]3OC[C@H]2O3)[C@H](OCc2ccccc2)[C@@H](OCc2ccccc2)[C@@H]1O', 'CC1(C)O[C@@H]2CC(=O)OC[C@]23[C@@H]1C(=O)[C@H](O)[C@]1(C)[C@@H]3CC[C@]2(C)[C@H](c3ccoc3)OC(=O)[C@@H]3O[C@]312', 'CC1(C)O[C@@H]2CC(=O)OC[C@]23[C@@H]1C(=O)[C@H](O)[C@]1(C)[C@@H]3CC[C@]2(C)[C@H](c3ccoc3)OC(=O)[C@H]3O[C@@]312', 'COc1ccc2c3c1O[C@H]1C(OC(=O)[C@H](C)OC(=O)[C@H](C)OC(C)=O)=CC[C@@]4(O)[C@H](CCC[C@]314)C2', 'CCCc1c(OCCCOc2ccc3c(c2C(C)=O)OC(OC(=O)O)CC3)ccc(C(C)=O)c1O', 'COC(=O)[C@@H]1C[C@H](OC(C)=O)C(=O)[C@H]2[C@@]1(C)CC[C@H]1C(=O)O[C@H](CC3=CC(=O)C=CC3=O)C[C@]21C', 'COC(=O)[C@@H]1C[C@H](OC(C)=O)C(=O)[C@H]2[C@@]1(C)CC[C@H]1C(=O)O[C@H](C(=O)c3cccc(O)c3)C[C@]21C', 'COC(=O)[C@H]1OC(O)[C@H](OCc2ccccc2)[C@@H](OCc2ccccc2)[C@@H]1OC(=O)CCC(C)=O', 'COc1cccc(CCCO[C@@]2(C(=O)O)C[C@H](O)[C@@H](O)[C@H](OC(=O)C=Cc3ccc(O)cc3)C2)c1', 'CC1(C)O[C@H]2CC(=O)OC[C@]23[C@H]1C(=O)[C@@H](O)[C@]1(C)[C@H]3CC[C@@]2(C)[C@H](c3ccoc3)OC(=O)[C@H]3O[C@]312', 'COc1ccc(C(=O)CC(=O)c2ccc(C(C)(C)C)cc2)cc1.O=C1O[C@H]([C@@H](O)CO)C(O)=C1O', 'CC(=O)OC[C@]1(COCc2ccccc2)O[C@H](OC(C)=O)[C@H](OC(C)=O)[C@@H]1OCc1ccccc1', 'O=C(O)c1cc2ccc1OCCOCCOCCOCCOc1ccc(cc1C(=O)O)[C@@H]1CC[C@H]21', 'CCOC(=O)C1(C(=O)OCC)CCc2cc3c(cc2-c2c(cc(OC)c(OC)c2OC)C1)OCO3', 'COc1cc(CCCOC2CC(CO)C(O)C(O)C2O)cc2cc(-c3ccc4c(c3)OCO4)oc12', 'CC(C1=CC(CO)C(=O)C(CO)=C1)(c1cc(CO)c(O)c(CO)c1)c1cc(CO)c(O)c(CO)c1', 'O=C1c2c(O[C@@H]3O[C@H](CO)[C@@H](O)[C@H](O)[C@H]3O)cccc2C(=O)[C@H]2C=C(C3CCCCC3)C=C(O)[C@@H]12', 'Cc1ccc(C(=O)OCCCCC(=O)OCOC(=O)COCCOC(=O)c2ccc(C)cc2)cc1', 'CC1(C)C(=O)[C@]2(O)C[C@@]34OC2(O)[C@]2(COC(=O)C[C@@H]12)[C@H]3CC[C@]1(C)[C@H]4CC(=O)O[C@H]1c1ccoc1', 'COc1ccc(C2c3cc(OC)c(OC)cc3C3OCC2C3(COC(C)=O)OC(C)=O)cc1OC', 'COc1cc(O[C@H]2O[C@H](CO)[C@@H](O)[C@H](O)[C@H]2O)c2c(O)c(C(C)=O)c3c(c2c1)C=C[C@H]1CCC[C@@H]31', 'COC(=O)C[C@@]1(COCc2ccccc2)OC(OC(C)=O)[C@H](OC(C)=O)[C@@H]1OCc1ccccc1', 'CC1(C)O[C@H]2CC(=O)OC[C@]23C2C[C@H](O)[C@@]4(C)[C@H](c5ccoc5)OC(=O)[C@H]5O[C@]54[C@]2(C)C(=O)C[C@@H]13', 'C=CC(=O)OCC(O)COc1ccc(Oc2ccc(OCC(O)COC(=O)C=C)c(C)c2)c(C)c1', 'CCCCCC(=O)Cc1cc(O)c(O)c2c1C(=O)Oc1cc(O)c(C(=O)O)c(CCCCC)c1O2', 'COc1c2c(c(O)c3c4c(c(C)cc13)C1OC(C(C)C)OC1[C@@](O)(C1CO1)O4)C(=O)[C@@H](C)C[C@@H]2O', 'CC(C)=CCc1c(O[C@@H]2OC(CO)[C@@H](O)[C@H](O)C2O)ccc(C(=O)/C=C/c2ccc(O)cc2)c1O', 'COc1ccccc1OC(CO)C(O)c1ccc(OC(CO)C(O)c2ccc(O)cc2)c(OC)c1', 'O=C(O)c1cc2ccc1OCCOCCOCCOCCOc1ccc(cc1C(=O)O)C1CCC21', 'CC1(C)OC(=O)C=C[C@@]2(C)C1CC(=O)[C@]1(C)[C@@H]2CC[C@@]2(C)[C@H](C3=CC(=O)OC3O)OC(=O)[C@H]3O[C@]321', 'C1[C@H](CN([C@@H]1C(=O)N[C@@H](CCCN=C(N)N)C(=O)NCC(=O)N[C@@H](CC2=CNC3=CC=CC=C32)C(=O)N)C(=O)[C@H](CC4=CC=C(C=C4)F)N)O', 'NC(N)=NCCCC(NC(=O)C1CC(O)CN1)C(=O)NCC(=O)NC(Cc1c[nH]c2ccccc12)C(=O)NC(=O)C(N)Cc1ccc(F)cc1', 'NC(=O)[C@H](Cc1c[nH]c2ccccc12)NC(=O)CNC(=O)[C@H](CCCN=C(N)N)NC(=O)[C@@H]1[C@@H](O)CCN1C(=O)[C@@H](N)Cc1ccc(F)cc1', 'NC(N)=NCCC[C@H](NC(=O)[C@@H]1CC(O)CN1)C(=O)NCC(=O)N[C@@H](Cc1c[nH]c2ccccc12)C(=O)NC(=O)[C@@H](N)Cc1ccc(F)cc1', 'NC(N)=NCCC[C@H](NC(=O)[C@@H]1C[C@@H](O)CN1)C(=O)NCC(=O)N[C@@H](Cc1c[nH]c2ccccc12)C(=O)NC(=O)[C@@H](N)Cc1ccc(F)cc1']}\n"
     ]
    }
   ],
   "source": [
    "tmp_msn = []\n",
    "for batch in train_loader_msn:\n",
    "    print(batch)\n",
    "    tmp_msn = batch\n",
    "    break"
   ]
  },
  {
   "cell_type": "code",
   "execution_count": 34,
   "id": "9e1dd97c544da443",
   "metadata": {
    "ExecuteTime": {
     "end_time": "2025-02-14T14:09:27.772537Z",
     "start_time": "2025-02-14T14:09:27.769268Z"
    }
   },
   "outputs": [
    {
     "name": "stdout",
     "output_type": "stream",
     "text": [
      "dict_keys(['spec', 'mol', 'precursor_mz', 'adduct', 'identifier', 'mol_freq', 'smiles', 'candidates', 'labels', 'batch_ptr', 'candidates_smiles'])\n",
      "batch_ptr is present: tensor([256, 149, 256, 256, 256, 256, 256, 101, 256, 256, 256,   5],\n",
      "       dtype=torch.int32)\n"
     ]
    }
   ],
   "source": [
    "# Check the keys in the batch\n",
    "print(tmp_msn.keys())\n",
    "\n",
    "# Specifically check if 'batch_ptr' is present\n",
    "if 'batch_ptr' in tmp_msn:\n",
    "    print(\"batch_ptr is present:\", tmp_msn['batch_ptr'])\n",
    "else:\n",
    "    print(\"batch_ptr is missing\")"
   ]
  },
  {
   "cell_type": "code",
   "execution_count": 35,
   "id": "f3934a3f-2f70-4faf-ad4a-216e621e3bff",
   "metadata": {},
   "outputs": [
    {
     "name": "stdout",
     "output_type": "stream",
     "text": [
      "Data types in tmp_original:\n",
      "  spec: <class 'torch.Tensor'>\n",
      "  mol: <class 'torch.Tensor'>\n",
      "  precursor_mz: <class 'torch.Tensor'>\n",
      "  adduct: <class 'list'>\n",
      "  mol_freq: <class 'torch.Tensor'>\n",
      "  identifier: <class 'list'>\n",
      "  smiles: <class 'list'>\n",
      "  candidates: <class 'torch.Tensor'>\n",
      "  labels: <class 'torch.Tensor'>\n",
      "  batch_ptr: <class 'torch.Tensor'>\n",
      "  candidates_smiles: <class 'list'>\n",
      "Data types in tmp_msn:\n",
      "  spec: <class 'abc.DataBatch'>\n",
      "  mol: <class 'torch.Tensor'>\n",
      "  precursor_mz: <class 'torch.Tensor'>\n",
      "  adduct: <class 'list'>\n",
      "  identifier: <class 'list'>\n",
      "  mol_freq: <class 'torch.Tensor'>\n",
      "  smiles: <class 'list'>\n",
      "  candidates: <class 'torch.Tensor'>\n",
      "  labels: <class 'torch.Tensor'>\n",
      "  batch_ptr: <class 'torch.Tensor'>\n",
      "  candidates_smiles: <class 'list'>\n"
     ]
    }
   ],
   "source": [
    "def print_key_types(obj, obj_name):\n",
    "    print(f\"Data types in {obj_name}:\")\n",
    "    for key, value in obj.items():\n",
    "        print(f\"  {key}: {type(value)}\")\n",
    "\n",
    "# Print data types for both objects\n",
    "print_key_types(tmp_original, \"tmp_original\")\n",
    "print_key_types(tmp_msn, \"tmp_msn\")"
   ]
  },
  {
   "cell_type": "markdown",
   "id": "ef424072a9118b2d",
   "metadata": {},
   "source": [
    "#### Shold be dict_keys(['spec', 'mol', 'precursor_mz', 'adduct', 'mol_freq', 'identifier', 'smiles', 'candidates', 'labels', 'batch_ptr', 'candidates_smiles'])"
   ]
  },
  {
   "cell_type": "code",
   "execution_count": 36,
   "id": "a4498cf09b5c3638",
   "metadata": {
    "ExecuteTime": {
     "end_time": "2025-01-26T14:09:43.988566Z",
     "start_time": "2025-01-26T14:09:43.986227Z"
    }
   },
   "outputs": [
    {
     "data": {
      "text/plain": [
       "dict_keys(['spec', 'mol', 'precursor_mz', 'adduct', 'identifier', 'mol_freq', 'smiles', 'candidates', 'labels', 'batch_ptr', 'candidates_smiles'])"
      ]
     },
     "execution_count": 36,
     "metadata": {},
     "output_type": "execute_result"
    }
   ],
   "source": [
    "tmp_msn.keys()"
   ]
  },
  {
   "cell_type": "code",
   "execution_count": 37,
   "id": "843fe9326df72b03",
   "metadata": {
    "ExecuteTime": {
     "end_time": "2025-01-26T14:09:44.060212Z",
     "start_time": "2025-01-26T14:09:44.058107Z"
    }
   },
   "outputs": [
    {
     "data": {
      "text/plain": [
       "DataBatch(x=[174, 1039], edge_index=[2, 324], batch=[174], ptr=[13])"
      ]
     },
     "execution_count": 37,
     "metadata": {},
     "output_type": "execute_result"
    }
   ],
   "source": [
    "tmp_msn['spec'] "
   ]
  },
  {
   "cell_type": "code",
   "execution_count": 38,
   "id": "fc8ed10da30f9581",
   "metadata": {
    "ExecuteTime": {
     "end_time": "2025-01-26T14:09:44.116680Z",
     "start_time": "2025-01-26T14:09:44.113941Z"
    }
   },
   "outputs": [
    {
     "data": {
      "text/plain": [
       "tensor([413.1642, 304.2999, 382.2026, 337.2023, 393.0737, 402.1482, 397.1329,\n",
       "        358.1777, 358.2489, 385.2373, 469.1857, 695.3424])"
      ]
     },
     "execution_count": 38,
     "metadata": {},
     "output_type": "execute_result"
    }
   ],
   "source": [
    "tmp_msn['precursor_mz']"
   ]
  },
  {
   "cell_type": "code",
   "execution_count": 39,
   "id": "dfecc66a8137880d",
   "metadata": {
    "ExecuteTime": {
     "end_time": "2025-01-26T14:09:44.542604Z",
     "start_time": "2025-01-26T14:09:44.539467Z"
    }
   },
   "outputs": [
    {
     "data": {
      "text/plain": [
       "tensor([1., 2., 1., 1., 1., 1., 1., 2., 1., 1., 2., 1.])"
      ]
     },
     "execution_count": 39,
     "metadata": {},
     "output_type": "execute_result"
    }
   ],
   "source": [
    "tmp_msn['mol_freq']"
   ]
  },
  {
   "cell_type": "code",
   "execution_count": 40,
   "id": "f3cce6c85a13d606",
   "metadata": {
    "ExecuteTime": {
     "end_time": "2025-01-26T14:09:44.687710Z",
     "start_time": "2025-01-26T14:09:44.685606Z"
    }
   },
   "outputs": [
    {
     "data": {
      "text/plain": [
       "['0039149_0000000',\n",
       " '0090271_0000000',\n",
       " '0062970_0000000',\n",
       " '0035188_0000000',\n",
       " '0025403_0000000',\n",
       " '0047232_0000000',\n",
       " '0062236_0000000',\n",
       " '0073480_0000000',\n",
       " '0051923_0000000',\n",
       " '0072588_0000000',\n",
       " '0017855_0000000',\n",
       " '0096736_0000000']"
      ]
     },
     "execution_count": 40,
     "metadata": {},
     "output_type": "execute_result"
    }
   ],
   "source": [
    "tmp_msn['identifier']"
   ]
  },
  {
   "cell_type": "code",
   "execution_count": 41,
   "id": "f51053f8670e729f",
   "metadata": {
    "ExecuteTime": {
     "end_time": "2025-01-26T14:09:44.850983Z",
     "start_time": "2025-01-26T14:09:44.848292Z"
    }
   },
   "outputs": [
    {
     "data": {
      "text/plain": [
       "['[M+H]+',\n",
       " '[M]+',\n",
       " '[M+H]+',\n",
       " '[M+H]+',\n",
       " '[M+H]+',\n",
       " '[M+H]+',\n",
       " '[M+H]+',\n",
       " '[M+H]+',\n",
       " '[M+H]+',\n",
       " '[M+H]+',\n",
       " '[M+H-H2O]+',\n",
       " '[M+H]+']"
      ]
     },
     "execution_count": 41,
     "metadata": {},
     "output_type": "execute_result"
    }
   ],
   "source": [
    "tmp_msn['adduct']"
   ]
  },
  {
   "cell_type": "code",
   "execution_count": 42,
   "id": "1874faafb955f9d4",
   "metadata": {
    "ExecuteTime": {
     "end_time": "2025-01-26T14:09:45.017903Z",
     "start_time": "2025-01-26T14:09:45.015397Z"
    }
   },
   "outputs": [
    {
     "data": {
      "text/plain": [
       "torch.Size([12, 4096])"
      ]
     },
     "execution_count": 42,
     "metadata": {},
     "output_type": "execute_result"
    }
   ],
   "source": [
    "tmp_msn['mol'].shape"
   ]
  },
  {
   "cell_type": "code",
   "execution_count": 43,
   "id": "26e13e52cabf0dac",
   "metadata": {
    "ExecuteTime": {
     "end_time": "2025-01-26T14:09:45.166081Z",
     "start_time": "2025-01-26T14:09:45.163471Z"
    }
   },
   "outputs": [
    {
     "data": {
      "text/plain": [
       "['CN(CC(=O)NC1CCCC1)S(=O)(=O)C2=CC3=C(C=C2)N=C(N3)C4=CC=CC=C4',\n",
       " 'CCCCCCCCCCCCCCCC[N+]1=CC=CC=C1',\n",
       " 'CN1CCN(CC1)C2=NN=C(C(=C2)C3=CC=NC=C3)C4=CC5=CC=CC=C5C=C4',\n",
       " 'CC(C)CN1C2=C(C=CC=N2)N=C1C3=CC(=CC=C3)C(=O)NC(C)C',\n",
       " 'CCCCN1C(=O)C2=C(C=C(S2)C3=CC=C(C=C3)F)N=C1SCC(=O)O',\n",
       " 'CCOC1=C(C=C(C=C1)NC(=O)C)S(=O)(=O)NCCC2=CNC3=CC=CC=C32',\n",
       " 'COC1=C(C=CC(=C1)N2CCOCC2)NC(=O)C3=CSC(=N3)C4=CN=CC=C4',\n",
       " 'C[C@H](C1=CC=CC2=CC=CC=C21)NCCCC3=CC(=CC=C3)C(F)(F)F',\n",
       " 'C1CCC(CC1)NC(=O)N[C@@H](CC2=CC=CC=C2)C(=O)N3CCCCC3',\n",
       " 'C[C@]12CC[C@@H](C[C@H]1CC[C@@H]3[C@@H]2CC[C@]4([C@]35[C@H](O5)C[C@@H]4C6=COC(=O)C=C6)C)O',\n",
       " 'CC/C=C/C=C/C1(C(=O)C(=C(O1)OC)C(=O)C2C(C(=O)C3=CC(=C(C(=C3C2(C)O)O)O)OC)C)C',\n",
       " 'C1[C@H](CN([C@@H]1C(=O)N[C@@H](CCCN=C(N)N)C(=O)NCC(=O)N[C@@H](CC2=CNC3=CC=CC=C32)C(=O)N)C(=O)[C@H](CC4=CC=C(C=C4)F)N)O']"
      ]
     },
     "execution_count": 43,
     "metadata": {},
     "output_type": "execute_result"
    }
   ],
   "source": [
    "tmp_msn['smiles']"
   ]
  },
  {
   "cell_type": "code",
   "execution_count": 44,
   "id": "e519fe7ed5121dcc",
   "metadata": {
    "ExecuteTime": {
     "end_time": "2025-01-26T14:09:45.345887Z",
     "start_time": "2025-01-26T14:09:45.343339Z"
    }
   },
   "outputs": [
    {
     "data": {
      "text/plain": [
       "tensor([ True, False, False,  ..., False, False, False])"
      ]
     },
     "execution_count": 44,
     "metadata": {},
     "output_type": "execute_result"
    }
   ],
   "source": [
    "tmp_msn['labels']"
   ]
  },
  {
   "cell_type": "code",
   "execution_count": 45,
   "id": "61de3b3ad4572c7a",
   "metadata": {
    "ExecuteTime": {
     "end_time": "2025-01-26T14:09:45.507683Z",
     "start_time": "2025-01-26T14:09:45.499212Z"
    }
   },
   "outputs": [
    {
     "data": {
      "text/plain": [
       "tensor(12)"
      ]
     },
     "execution_count": 45,
     "metadata": {},
     "output_type": "execute_result"
    }
   ],
   "source": [
    "sum(tmp_msn['labels'])"
   ]
  },
  {
   "cell_type": "code",
   "execution_count": 46,
   "id": "86224621a407862f",
   "metadata": {
    "ExecuteTime": {
     "end_time": "2025-01-26T14:09:45.684944Z",
     "start_time": "2025-01-26T14:09:45.681948Z"
    }
   },
   "outputs": [
    {
     "data": {
      "text/plain": [
       "tensor([   0,  256,  405,  661,  917, 1173, 1429, 1685, 1786, 2042, 2298, 2554])"
      ]
     },
     "execution_count": 46,
     "metadata": {},
     "output_type": "execute_result"
    }
   ],
   "source": [
    "torch.nonzero(tmp_msn['labels'], as_tuple=False).squeeze()"
   ]
  },
  {
   "cell_type": "code",
   "execution_count": 47,
   "id": "df3c85be4bd961ae",
   "metadata": {
    "ExecuteTime": {
     "end_time": "2025-01-26T14:09:45.846982Z",
     "start_time": "2025-01-26T14:09:45.844508Z"
    }
   },
   "outputs": [
    {
     "data": {
      "text/plain": [
       "2559"
      ]
     },
     "execution_count": 47,
     "metadata": {},
     "output_type": "execute_result"
    }
   ],
   "source": [
    "len(tmp_msn['labels'])"
   ]
  },
  {
   "cell_type": "code",
   "execution_count": 48,
   "id": "e30895af70b971cf",
   "metadata": {
    "ExecuteTime": {
     "end_time": "2025-01-26T14:09:46.046226Z",
     "start_time": "2025-01-26T14:09:46.043541Z"
    }
   },
   "outputs": [
    {
     "data": {
      "text/plain": [
       "tensor([256, 149, 256, 256, 256, 256, 256, 101, 256, 256, 256,   5],\n",
       "       dtype=torch.int32)"
      ]
     },
     "execution_count": 48,
     "metadata": {},
     "output_type": "execute_result"
    }
   ],
   "source": [
    "tmp_msn['batch_ptr']"
   ]
  },
  {
   "cell_type": "code",
   "execution_count": 49,
   "id": "cd6581b0abe8464d",
   "metadata": {
    "ExecuteTime": {
     "end_time": "2025-01-26T14:09:46.564081Z",
     "start_time": "2025-01-26T14:09:46.561215Z"
    }
   },
   "outputs": [
    {
     "data": {
      "text/plain": [
       "tensor(2559, dtype=torch.int32)"
      ]
     },
     "execution_count": 49,
     "metadata": {},
     "output_type": "execute_result"
    }
   ],
   "source": [
    "sum(tmp_msn['batch_ptr'])"
   ]
  },
  {
   "cell_type": "code",
   "execution_count": 50,
   "id": "bac322d4444ee5ea",
   "metadata": {
    "ExecuteTime": {
     "end_time": "2025-01-26T14:09:46.742119Z",
     "start_time": "2025-01-26T14:09:46.739777Z"
    }
   },
   "outputs": [
    {
     "data": {
      "text/plain": [
       "2559"
      ]
     },
     "execution_count": 50,
     "metadata": {},
     "output_type": "execute_result"
    }
   ],
   "source": [
    "len(tmp_msn['candidates'])"
   ]
  },
  {
   "cell_type": "code",
   "execution_count": 51,
   "id": "5240b59230576227",
   "metadata": {
    "ExecuteTime": {
     "end_time": "2025-01-26T14:09:46.904383Z",
     "start_time": "2025-01-26T14:09:46.902008Z"
    }
   },
   "outputs": [
    {
     "data": {
      "text/plain": [
       "torch.Size([4096])"
      ]
     },
     "execution_count": 51,
     "metadata": {},
     "output_type": "execute_result"
    }
   ],
   "source": [
    "tmp_msn['candidates'][5].shape"
   ]
  },
  {
   "cell_type": "markdown",
   "id": "8fabb6d3fa7fd1ec",
   "metadata": {},
   "source": [
    "### Compare Shapes"
   ]
  },
  {
   "cell_type": "code",
   "execution_count": 52,
   "id": "1569a73db41d79ad",
   "metadata": {
    "ExecuteTime": {
     "end_time": "2025-01-26T14:09:47.239455Z",
     "start_time": "2025-01-26T14:09:47.237177Z"
    }
   },
   "outputs": [
    {
     "data": {
      "text/plain": [
       "True"
      ]
     },
     "execution_count": 52,
     "metadata": {},
     "output_type": "execute_result"
    }
   ],
   "source": [
    "tmp_msn.keys() == tmp_original.keys()"
   ]
  },
  {
   "cell_type": "code",
   "execution_count": 53,
   "id": "e05b0a2b1e4ecf17",
   "metadata": {
    "ExecuteTime": {
     "end_time": "2025-01-26T14:09:47.438583Z",
     "start_time": "2025-01-26T14:09:47.436466Z"
    }
   },
   "outputs": [
    {
     "data": {
      "text/plain": [
       "True"
      ]
     },
     "execution_count": 53,
     "metadata": {},
     "output_type": "execute_result"
    }
   ],
   "source": [
    "tmp_msn['batch_ptr'].shape == tmp_original['batch_ptr'].shape"
   ]
  },
  {
   "cell_type": "code",
   "execution_count": 54,
   "id": "b606c035c765f275",
   "metadata": {
    "ExecuteTime": {
     "end_time": "2025-01-26T14:09:47.602278Z",
     "start_time": "2025-01-26T14:09:47.599955Z"
    }
   },
   "outputs": [
    {
     "data": {
      "text/plain": [
       "False"
      ]
     },
     "execution_count": 54,
     "metadata": {},
     "output_type": "execute_result"
    }
   ],
   "source": [
    "tmp_msn['batch_ptr'].dtype == tmp_original['batch_ptr'].dtype"
   ]
  },
  {
   "cell_type": "code",
   "execution_count": 55,
   "id": "2217b21a37932e30",
   "metadata": {
    "ExecuteTime": {
     "end_time": "2025-01-26T14:13:34.631369Z",
     "start_time": "2025-01-26T14:13:34.629025Z"
    }
   },
   "outputs": [
    {
     "data": {
      "text/plain": [
       "torch.int64"
      ]
     },
     "execution_count": 55,
     "metadata": {},
     "output_type": "execute_result"
    }
   ],
   "source": [
    "tmp_original['batch_ptr'].dtype"
   ]
  },
  {
   "cell_type": "code",
   "execution_count": 56,
   "id": "782a345bcd3a68db",
   "metadata": {
    "ExecuteTime": {
     "end_time": "2025-01-26T14:13:22.931706Z",
     "start_time": "2025-01-26T14:13:22.922641Z"
    }
   },
   "outputs": [
    {
     "data": {
      "text/plain": [
       "torch.int32"
      ]
     },
     "execution_count": 56,
     "metadata": {},
     "output_type": "execute_result"
    }
   ],
   "source": [
    "tmp_msn['batch_ptr'].dtype"
   ]
  },
  {
   "cell_type": "code",
   "execution_count": 57,
   "id": "f9dae4c8aaa7564b",
   "metadata": {
    "ExecuteTime": {
     "end_time": "2025-01-26T14:09:47.774336Z",
     "start_time": "2025-01-26T14:09:47.771485Z"
    }
   },
   "outputs": [
    {
     "data": {
      "text/plain": [
       "(tensor(2559, dtype=torch.int32), 2559)"
      ]
     },
     "execution_count": 57,
     "metadata": {},
     "output_type": "execute_result"
    }
   ],
   "source": [
    "sum(tmp_msn['batch_ptr']), len(tmp_msn['candidates_smiles'])"
   ]
  },
  {
   "cell_type": "code",
   "execution_count": 58,
   "id": "67eeb6830a02639a",
   "metadata": {
    "ExecuteTime": {
     "end_time": "2025-01-26T14:09:47.942548Z",
     "start_time": "2025-01-26T14:09:47.940125Z"
    }
   },
   "outputs": [
    {
     "data": {
      "text/plain": [
       "(tensor(3030), 3030)"
      ]
     },
     "execution_count": 58,
     "metadata": {},
     "output_type": "execute_result"
    }
   ],
   "source": [
    "sum(tmp_original['batch_ptr']), len(tmp_original['candidates_smiles'])"
   ]
  },
  {
   "cell_type": "code",
   "execution_count": 59,
   "id": "da6f7d53ce907f18",
   "metadata": {
    "ExecuteTime": {
     "end_time": "2025-01-26T14:09:48.103318Z",
     "start_time": "2025-01-26T14:09:48.101065Z"
    }
   },
   "outputs": [
    {
     "data": {
      "text/plain": [
       "True"
      ]
     },
     "execution_count": 59,
     "metadata": {},
     "output_type": "execute_result"
    }
   ],
   "source": [
    "tmp_msn['labels'].dtype == tmp_original['labels'].dtype"
   ]
  },
  {
   "cell_type": "code",
   "execution_count": 60,
   "id": "29f2304a3eb0d784",
   "metadata": {
    "ExecuteTime": {
     "end_time": "2025-01-26T14:09:48.260879Z",
     "start_time": "2025-01-26T14:09:48.258837Z"
    }
   },
   "outputs": [
    {
     "data": {
      "text/plain": [
       "True"
      ]
     },
     "execution_count": 60,
     "metadata": {},
     "output_type": "execute_result"
    }
   ],
   "source": [
    "tmp_msn['candidates'].dtype == tmp_original['candidates'].dtype"
   ]
  },
  {
   "cell_type": "code",
   "execution_count": 61,
   "id": "bf61a76af4db9b5a",
   "metadata": {
    "ExecuteTime": {
     "end_time": "2025-01-26T14:09:48.433295Z",
     "start_time": "2025-01-26T14:09:48.430979Z"
    }
   },
   "outputs": [
    {
     "data": {
      "text/plain": [
       "True"
      ]
     },
     "execution_count": 61,
     "metadata": {},
     "output_type": "execute_result"
    }
   ],
   "source": [
    "tmp_msn['candidates'][0].shape == tmp_original['candidates'][0].shape"
   ]
  },
  {
   "cell_type": "code",
   "execution_count": 62,
   "id": "e28ea4d96f687f0f",
   "metadata": {
    "ExecuteTime": {
     "end_time": "2025-01-26T14:09:48.599192Z",
     "start_time": "2025-01-26T14:09:48.597148Z"
    }
   },
   "outputs": [
    {
     "data": {
      "text/plain": [
       "True"
      ]
     },
     "execution_count": 62,
     "metadata": {},
     "output_type": "execute_result"
    }
   ],
   "source": [
    "tmp_msn['candidates'][5].shape == tmp_original['candidates'][5].shape"
   ]
  },
  {
   "cell_type": "code",
   "execution_count": 63,
   "id": "68573c7361e436dd",
   "metadata": {
    "ExecuteTime": {
     "end_time": "2025-01-26T14:09:48.780483Z",
     "start_time": "2025-01-26T14:09:48.778287Z"
    }
   },
   "outputs": [
    {
     "data": {
      "text/plain": [
       "True"
      ]
     },
     "execution_count": 63,
     "metadata": {},
     "output_type": "execute_result"
    }
   ],
   "source": [
    "type(tmp_msn['smiles']) == type(tmp_original['smiles'])"
   ]
  },
  {
   "cell_type": "code",
   "execution_count": 64,
   "id": "44b90cb38ece920e",
   "metadata": {
    "ExecuteTime": {
     "end_time": "2025-01-26T14:09:48.928996Z",
     "start_time": "2025-01-26T14:09:48.926865Z"
    }
   },
   "outputs": [
    {
     "data": {
      "text/plain": [
       "True"
      ]
     },
     "execution_count": 64,
     "metadata": {},
     "output_type": "execute_result"
    }
   ],
   "source": [
    "type(tmp_msn['smiles'][0]) == type(tmp_original['smiles'][0])"
   ]
  },
  {
   "cell_type": "code",
   "execution_count": 65,
   "id": "8493612e08e9479e",
   "metadata": {
    "ExecuteTime": {
     "end_time": "2025-01-26T14:09:49.109966Z",
     "start_time": "2025-01-26T14:09:49.107657Z"
    }
   },
   "outputs": [
    {
     "data": {
      "text/plain": [
       "True"
      ]
     },
     "execution_count": 65,
     "metadata": {},
     "output_type": "execute_result"
    }
   ],
   "source": [
    "len(tmp_msn['smiles']) == len(tmp_original['smiles'])"
   ]
  },
  {
   "cell_type": "code",
   "execution_count": 66,
   "id": "b604f8942bf1362d",
   "metadata": {
    "ExecuteTime": {
     "end_time": "2025-01-26T14:09:49.304870Z",
     "start_time": "2025-01-26T14:09:49.302709Z"
    }
   },
   "outputs": [
    {
     "data": {
      "text/plain": [
       "True"
      ]
     },
     "execution_count": 66,
     "metadata": {},
     "output_type": "execute_result"
    }
   ],
   "source": [
    "type(tmp_msn['candidates_smiles']) == type(tmp_original['candidates_smiles'])"
   ]
  },
  {
   "cell_type": "code",
   "execution_count": 67,
   "id": "1a9910cd68400224",
   "metadata": {
    "ExecuteTime": {
     "end_time": "2025-01-26T14:09:49.476990Z",
     "start_time": "2025-01-26T14:09:49.474772Z"
    }
   },
   "outputs": [
    {
     "data": {
      "text/plain": [
       "True"
      ]
     },
     "execution_count": 67,
     "metadata": {},
     "output_type": "execute_result"
    }
   ],
   "source": [
    "type(tmp_msn['candidates_smiles'][0]) == type(tmp_original['candidates_smiles'][0])"
   ]
  },
  {
   "cell_type": "code",
   "execution_count": 68,
   "id": "65f8205061648068",
   "metadata": {
    "ExecuteTime": {
     "end_time": "2025-01-26T14:09:49.656680Z",
     "start_time": "2025-01-26T14:09:49.654355Z"
    }
   },
   "outputs": [
    {
     "data": {
      "text/plain": [
       "2559"
      ]
     },
     "execution_count": 68,
     "metadata": {},
     "output_type": "execute_result"
    }
   ],
   "source": [
    "len(tmp_msn['candidates_smiles'])"
   ]
  },
  {
   "cell_type": "code",
   "execution_count": null,
   "id": "9be44629-b7da-4a74-b6ec-3521b4b29e5c",
   "metadata": {},
   "outputs": [],
   "source": []
  },
  {
   "cell_type": "code",
   "execution_count": null,
   "id": "95e158cf-3b65-451b-806f-79133f872194",
   "metadata": {},
   "outputs": [],
   "source": []
  },
  {
   "cell_type": "code",
   "execution_count": null,
   "id": "f984125e-a724-4a29-a2b3-37118a34876d",
   "metadata": {},
   "outputs": [],
   "source": []
  }
 ],
 "metadata": {
  "kernelspec": {
   "display_name": "Python 3 (ipykernel)",
   "language": "python",
   "name": "python3"
  },
  "language_info": {
   "codemirror_mode": {
    "name": "ipython",
    "version": 3
   },
   "file_extension": ".py",
   "mimetype": "text/x-python",
   "name": "python",
   "nbconvert_exporter": "python",
   "pygments_lexer": "ipython3",
   "version": "3.11.9"
  }
 },
 "nbformat": 4,
 "nbformat_minor": 5
}
