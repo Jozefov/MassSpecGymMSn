{
 "cells": [
  {
   "cell_type": "code",
   "execution_count": 1,
   "id": "da6a763cea0be904",
   "metadata": {
    "ExecuteTime": {
     "end_time": "2025-02-14T13:39:38.965337Z",
     "start_time": "2025-02-14T13:39:35.571421Z"
    }
   },
   "outputs": [],
   "source": [
    "from massspecgym.data.datasets import MSnDataset, MSnRetrievalDataset, RetrievalDataset\n",
    "import torch"
   ]
  },
  {
   "cell_type": "code",
   "execution_count": 2,
   "id": "22f3a2d12131cd17",
   "metadata": {
    "ExecuteTime": {
     "end_time": "2025-02-14T13:39:51.884938Z",
     "start_time": "2025-02-14T13:39:51.882519Z"
    }
   },
   "outputs": [],
   "source": [
    "file_mgf = \"/Users/macbook/CODE/Majer:MassSpecGym/data/MSn/20241211_msn_library_pos_all_lib_MSn.mgf\"\n",
    "file_json = \"/Users/macbook/CODE/Majer:MassSpecGym/data/Retrieval/MassSpecGym_retrieval_candidates_mass.json\"\n",
    "split_file = \"/Users/macbook/CODE/Majer:MassSpecGym/data/MSn/20241211_split.tsv\""
   ]
  },
  {
   "cell_type": "code",
   "execution_count": 3,
   "id": "c0a04ca978e09c61",
   "metadata": {
    "ExecuteTime": {
     "end_time": "2025-02-14T13:39:52.207660Z",
     "start_time": "2025-02-14T13:39:52.204508Z"
    }
   },
   "outputs": [],
   "source": [
    "from massspecgym.data.transforms import MolFingerprinter, SpecTokenizer\n",
    "from massspecgym.data import RetrievalDataset, MassSpecDataModule"
   ]
  },
  {
   "cell_type": "code",
   "execution_count": 4,
   "id": "db1094d3df48cd7f",
   "metadata": {
    "ExecuteTime": {
     "end_time": "2025-02-14T13:39:54.026800Z",
     "start_time": "2025-02-14T13:39:54.024230Z"
    }
   },
   "outputs": [],
   "source": [
    "pth_massspecgym_original = \"/Users/macbook/CODE/Majer:MassSpecGym/data/MassSpecGym/MassSpecGym.tsv\""
   ]
  },
  {
   "cell_type": "code",
   "execution_count": 5,
   "id": "5346beea048ce5a5",
   "metadata": {
    "ExecuteTime": {
     "end_time": "2025-02-14T13:40:09.021407Z",
     "start_time": "2025-02-14T13:39:55.891926Z"
    }
   },
   "outputs": [],
   "source": [
    "# Init hyperparameters\n",
    "n_peaks = 60\n",
    "fp_size = 4096\n",
    "batch_size = 12\n",
    "\n",
    "# Load dataset\n",
    "dataset_original = RetrievalDataset(\n",
    "    pth=pth_massspecgym_original,\n",
    "    candidates_pth=file_json,\n",
    "    spec_transform=SpecTokenizer(n_peaks=n_peaks),\n",
    "    mol_transform=MolFingerprinter(fp_size=fp_size),\n",
    ")\n"
   ]
  },
  {
   "cell_type": "code",
   "execution_count": 6,
   "id": "d6ceed9debd5cc51",
   "metadata": {
    "ExecuteTime": {
     "end_time": "2025-02-14T13:40:09.027498Z",
     "start_time": "2025-02-14T13:40:09.025542Z"
    }
   },
   "outputs": [],
   "source": [
    "# Init data module\n",
    "data_module_original = MassSpecDataModule(\n",
    "    dataset=dataset_original,\n",
    "    batch_size=batch_size,\n",
    "    num_workers=0,\n",
    ")"
   ]
  },
  {
   "cell_type": "code",
   "execution_count": 7,
   "id": "c4bfe776ab073f74",
   "metadata": {
    "ExecuteTime": {
     "end_time": "2025-02-14T13:40:09.081160Z",
     "start_time": "2025-02-14T13:40:09.034062Z"
    }
   },
   "outputs": [
    {
     "name": "stdout",
     "output_type": "stream",
     "text": [
      "Train dataset size: 194119\n",
      "Val dataset size: 19429\n"
     ]
    }
   ],
   "source": [
    "data_module_original.prepare_data()\n",
    "data_module_original.setup()\n",
    "\n",
    "train_loader_original = data_module_original.train_dataloader()"
   ]
  },
  {
   "cell_type": "code",
   "execution_count": 8,
   "id": "55185d08a14a11ab",
   "metadata": {
    "ExecuteTime": {
     "end_time": "2025-02-14T13:40:10.370715Z",
     "start_time": "2025-02-14T13:40:09.086940Z"
    }
   },
   "outputs": [
    {
     "name": "stdout",
     "output_type": "stream",
     "text": [
      "I am not here\n",
      "{'spec': tensor([[[3.8305e+02, 1.1000e+00],\n",
      "         [6.9070e+01, 6.6066e-02],\n",
      "         [7.1086e+01, 1.8018e-02],\n",
      "         ...,\n",
      "         [0.0000e+00, 0.0000e+00],\n",
      "         [0.0000e+00, 0.0000e+00],\n",
      "         [0.0000e+00, 0.0000e+00]],\n",
      "\n",
      "        [[2.7515e+02, 1.1000e+00],\n",
      "         [8.1045e+01, 4.6446e-01],\n",
      "         [1.0604e+02, 2.4024e-02],\n",
      "         ...,\n",
      "         [0.0000e+00, 0.0000e+00],\n",
      "         [0.0000e+00, 0.0000e+00],\n",
      "         [0.0000e+00, 0.0000e+00]],\n",
      "\n",
      "        [[3.6323e+02, 1.1000e+00],\n",
      "         [8.6096e+01, 1.3846e-01],\n",
      "         [9.1054e+01, 1.0000e+00],\n",
      "         ...,\n",
      "         [0.0000e+00, 0.0000e+00],\n",
      "         [0.0000e+00, 0.0000e+00],\n",
      "         [0.0000e+00, 0.0000e+00]],\n",
      "\n",
      "        ...,\n",
      "\n",
      "        [[4.0716e+02, 1.1000e+00],\n",
      "         [5.5054e+01, 1.7365e-01],\n",
      "         [5.5057e+01, 2.9800e-03],\n",
      "         ...,\n",
      "         [0.0000e+00, 0.0000e+00],\n",
      "         [0.0000e+00, 0.0000e+00],\n",
      "         [0.0000e+00, 0.0000e+00]],\n",
      "\n",
      "        [[2.0715e+02, 1.1000e+00],\n",
      "         [1.1505e+02, 4.8319e-01],\n",
      "         [1.1706e+02, 4.9160e-01],\n",
      "         ...,\n",
      "         [0.0000e+00, 0.0000e+00],\n",
      "         [0.0000e+00, 0.0000e+00],\n",
      "         [0.0000e+00, 0.0000e+00]],\n",
      "\n",
      "        [[3.4215e+02, 1.1000e+00],\n",
      "         [7.9054e+01, 2.3384e-01],\n",
      "         [8.0050e+01, 2.9893e-01],\n",
      "         ...,\n",
      "         [0.0000e+00, 0.0000e+00],\n",
      "         [0.0000e+00, 0.0000e+00],\n",
      "         [0.0000e+00, 0.0000e+00]]]), 'mol': tensor([[0., 0., 0.,  ..., 0., 0., 0.],\n",
      "        [0., 0., 0.,  ..., 0., 0., 0.],\n",
      "        [0., 0., 0.,  ..., 0., 0., 0.],\n",
      "        ...,\n",
      "        [0., 0., 0.,  ..., 0., 0., 0.],\n",
      "        [0., 0., 0.,  ..., 0., 0., 0.],\n",
      "        [0., 0., 0.,  ..., 0., 0., 0.]]), 'precursor_mz': tensor([383.0497, 275.1509, 363.2278, 150.1278, 810.6010, 141.0771, 262.1440,\n",
      "        254.0594, 351.1815, 407.1602, 207.1492, 342.1547]), 'adduct': ['[M+H]+', '[M+H]+', '[M+H]+', '[M+H]+', '[M+H]+', '[M+H]+', '[M+H]+', '[M+H]+', '[M+H]+', '[M+H]+', '[M+H]+', '[M+H]+'], 'mol_freq': tensor([200.,   8.,   3., 210.,  57.,  41.,   2., 294.,   3.,   3.,  67.,  63.]), 'identifier': ['MassSpecGymID0085412', 'MassSpecGymID0142019', 'MassSpecGymID0229765', 'MassSpecGymID0083949', 'MassSpecGymID0410867', 'MassSpecGymID0045047', 'MassSpecGymID0241651', 'MassSpecGymID0021935', 'MassSpecGymID0210701', 'MassSpecGymID0209169', 'MassSpecGymID0019093', 'MassSpecGymID0100509'], 'smiles': ['CC1(CCCO1)CN(C)S(=O)(=O)C2=CC(=C(C=C2)Cl)S(=O)(=O)N', 'CC1=CC(=C(C=C1CC2=CN=C(N=C2N)N)OC)OC', 'CCCC[C@@H](C=O)NC(=O)[C@H](CC(C)C)NC(=O)OCC1=CC=CC=C1', 'CC(C)(CC1=CC=CC=C1)N', 'CCCCCCCCCCCCCCCC(=O)OC[C@H](COP(=O)([O-])OCC[N+](C)(C)C)OC(=O)CCCCC/C=C\\\\C/C=C\\\\C/C=C\\\\C/C=C\\\\CCCCC', 'CC1=NC(=NC(=N1)OC)N', 'CCC(C)(C#C)NC(=O)C1=CC(=C(C=C1)OC)OC', 'CC1=CC(=NO1)NS(=O)(=O)C2=CC=C(C=C2)N', 'COC1=C(C=C2CN(CCC2=C1)C3=NC=CN4C3=CC(=N4)C5CC5)OC', 'C1CCC(C1)CC(=O)NC2=C(OC3=CC=CC=C32)C(=O)NC4=CC5=C(C=C4)OCO5', 'CC(C)C1=CC=C(C=C1)NC(=O)N(C)C', 'C[C@H]1C(=O)O[C@@H]2CC[N+]3([C@@H]2C(=CC3)COC(=O)[C@]([C@]1(C)O)(C)O)[O-]'], 'candidates': tensor([[0., 0., 0.,  ..., 0., 0., 0.],\n",
      "        [0., 0., 0.,  ..., 0., 0., 0.],\n",
      "        [0., 0., 0.,  ..., 0., 0., 0.],\n",
      "        ...,\n",
      "        [0., 0., 0.,  ..., 0., 0., 0.],\n",
      "        [0., 0., 0.,  ..., 0., 0., 0.],\n",
      "        [0., 0., 0.,  ..., 0., 0., 0.]]), 'labels': tensor([ True, False, False,  ..., False, False, False]), 'batch_ptr': tensor([256, 256, 256, 256, 256, 256, 256, 256, 256, 256, 256, 256]), 'candidates_smiles': ['CC1(CCCO1)CN(C)S(=O)(=O)C2=CC(=C(C=C2)Cl)S(=O)(=O)N', 'CN(c1ccccc1)c1ccc(C(=O)Nc2ccc(Br)cn2)cn1', 'Cc1ccc(Cl)cc1S(=O)(=O)N(CCN)[C@H]1CS(=O)(=O)C[C@H]1O', 'O=c1c2cc(C(F)(F)F)ccc2oc2ccc3cccc(C(F)(F)F)c3c12', 'C=CCn1c(N/N=C\\\\c2cccc(Br)c2)nc2ccccc2c1=O', 'CCc1ccc2c(c1)N1c3ncccc3S(=O)c3cccc(c31)S2(=O)=O', 'COC(=O)c1c(NC(=O)COC(=O)c2cc(Cl)ccn2)sc(C)c1C', 'CCOC(=O)c1ccsc1NC(=O)COc1cc(Cl)ccc1C(N)=O', 'CC(=NNC(=O)c1cc(-c2ccc(Br)cc2)n[nH]1)c1ccccc1', 'O=S(=O)(CC(F)(F)F)N1CCc2onc(-c3ccc(F)c(F)c3)c2C1', 'Cc1cccc(C(=O)Nc2ccc(Nc3ccc(Br)cc3)nn2)c1', 'COC(=O)c1ccc(Cl)c(NC(=O)NS(=O)(=O)c2ccc(C)cc2)c1', 'Cc1nc2scc(-c3cccs3)c2c(=O)n1Cc1cccc(C(=O)O)c1', 'O=C(NCC1c2ccccc2-c2cncn21)Nc1cccc(Br)c1', 'O=c1c2c(C(F)(F)F)cccc2oc2ccc3cccc(C(F)(F)F)c3c12', 'COC(=O)C(COC(C)(C)C)c1cccc(C(F)(F)F)c1Br', 'Cc1ccc(S(=O)(=O)Oc2ccc(C#Cc3ccccc3)c(Cl)c2)cc1', 'C[C@@H](c1ccc(Cl)cc1)[C@@H](F)c1noc(Cn2nccc(Cl)c2=O)n1', 'COC(=O)CC1=CCCC[C@H]1Oc1c(OC)ccc(C=O)c1Br', 'O=C(Nc1cccnc1-n1cccn1)C1CC1c1ccc(Br)cc1', 'CCOc1cc(C=C2SC(=S)N(c3cccc(C#N)c3)C2=O)ccc1O', 'COC(=O)/C=C/C(=O)OCc1ccc(OC(=O)/C=C/C(=O)OC)cc1Cl', 'Nc1cc(C2CCN(C(=O)Nc3ccc(Br)cc3F)CC2)no1', 'O=C(C1=C(O)C(=O)N(Cc2cccs2)C1c1ccncc1)c1cccs1', 'O=C(NCc1cccnc1)c1cc(Nc2ccc(Br)cc2)ccn1', 'COC(=O)C(C)CC1(F)C(F)(F)C(F)(F)C(F)(F)C(F)(F)C1(F)F', 'O=C(Nc1cc(C(F)(F)F)ccc1Cl)c1nn(-c2ccccc2)c(=O)[nH]1', 'N#Cc1cccc(NC(=O)c2ccc(Nc3cccc(Cl)c3Cl)nc2)c1', 'COC(=O)c1cc(=O)[nH]c(=O)n1[C@@H]1O[C@H](COP(=O)(O)O)[C@@H](O)[C@H]1O', 'O=C1C[N+](=O)c2c(CN3CCCC(C(=O)O)C3)cc(Br)cc2N1', 'CCn1c(=O)oc2cc(NS(=O)(=O)c3ccc(OC)c(Cl)c3)ccc21', '[C-]#[N+]c1cccc(N2C(=O)C(=Cc3ccc(O)c(OCC)c3)SC2=S)c1', 'Cc1ccc(-c2[nH]ncc2/C=N\\\\NC(=O)c2ccc(Br)cc2)cc1', 'CN(C)c1nc2sc(C(=O)NCC3CCCN3)cc2s1.Cl.Cl', 'CCOc1cc(F)cc(F)c1-c1c(Cl)nc(C)n1-c1ccc(Cl)cc1', 'COC(=O)C(C)(C)C(=O)C1CCC(=O)OC1c1ccc(Br)cc1', 'N#Cc1c(C(F)(F)F)cc(-c2cccs2)nc1SC1CCCCC1=O', 'CCCCOC(=O)CCCOS(=O)(=O)Cc1ccc(Cl)c(Cl)c1', 'Cl.NC1(c2noc(-c3csc(-c4ccccc4Cl)n3)n2)CCCC1', 'COC(=O)c1ccc(Cl)c(NC(=O)c2ccc(NS(C)(=O)=O)cc2)c1', 'Cl.O=C(CCCc1cc(Cl)sc1Cl)NC1CC2CCC(C1)N2', 'CN(CC(=O)Nc1cc(Cl)c(Cl)cc1Cl)[C@H]1CCc2ccccc21', 'CSC(=O)CNP(=O)(Oc1ccccc1)Oc1ccc([N+](=O)[O-])cc1', 'C[N+](C)(C)c1ccc(/C=N/Nc2nc(Cl)c(C#N)c(Cl)c2Cl)cc1', 'O=C(Nc1ccc(Br)cc1)c1cc(NCc2ccccn2)ccn1', 'Cc1cccc(C(=O)Nc2ccc(Nc3cccc(Br)c3)nn2)c1', 'COc1ccccc1CNS(=O)(=O)c1cc2c(cc1Cl)NC(=O)CO2', 'NS(=O)(=O)c1cc(F)c(-c2ncccc2-c2ccc(F)c(F)c2)cc1F', 'CC1=CC([CH-]C2C=C(C)C=C2C)C(C)=C1.C[Si](C)=[Zr+2].[Cl-]', 'COC(=O)c1ccc(NC(=O)CNS(=O)(=O)c2cccc(Cl)c2)cc1', 'COc1ccc(N2C(=O)/C(=C3\\\\C(=O)N(C)c4ccccc43)SC2=S)cc1', 'COc1ccc(Cl)cc1S(=O)(=O)Nc1cccc2c1OCC(=O)N2C', 'C#CC(I)OC(=O)Cc1ccc(C2CCCCC2)cc1', 'O=C(Nc1ccccc1Br)c1cc(NCc2ccccn2)ccn1', 'O=C(Nc1cnc(-n2nccn2)c(Cl)c1)c1cc(-c2ccccc2)ns1', 'O=C(COC(=O)c1ccc2nc(Cl)ccc2c1)NC1CCS(=O)(=O)C1', 'C=CC(=O)OCCC(F)(F)C(F)(F)C(F)(F)CC(F)(F)C(F)(F)F', 'O=C1CCC(Nc2nnc(-c3cc(Cl)cc(Cl)c3)s2)C(C2CC2)N1', 'Cc1ccc(F)c([C@@H](N2CCNCC2)C(F)(F)F)c1Cl.Cl.Cl', 'CCCCC(NC(=O)CNS(=O)(=O)c1ccc(Cl)s1)C(=O)OC', 'COc1ccc(Cl)cc1COC(=O)C1=CC=CN2CCS(=O)(=O)N=C12', 'C[C@H](c1cc(C(F)(F)F)cc(Cl)c1F)N1CCNCC1.Cl.Cl', 'N#C/C(=C\\\\c1cnn(-c2ccccc2)c1)C(=O)Nc1cc(Cl)cc(Cl)c1', 'Cc1ccccc1Nc1ncc(C(=O)Nc2cccc(Br)c2)cn1', 'Cc1nc(-c2ccsc2)sc1C(=O)Nc1ccc2c(C)cc(=O)oc2c1', 'CC(C)(C)n1nnc(CC(=O)Nc2nc(-c3ccc(Cl)s3)cs2)n1', 'FC(F)Sc1ccc(NC(=S)N[C@H]2CCSc3ccccc32)cc1', 'O=C(CNS(=O)(=O)c1cccc(Cl)c1O)N1CCOc2ccccc21', 'Cc1cc(-c2cc(F)cc(F)c2)cc(C(=O)Oc2nc(C(F)F)cs2)n1', 'Cc1ccccc1C(=O)NN1C(=O)/C(=C/c2ccc(C=O)cc2)SC1=S', 'O=C(NCc1ccccn1)c1ccc(Nc2ccccc2Br)nc1', 'O=c1ccn2c(n1)O[C@H]1C(Oc3ccc(S(F)(F)(F)(F)F)cc3)[C@@H]1C2', 'Cc1ccc(S(=O)(=O)ON=C2C=CC(=C(C#N)c3ccccc3)S2)cc1', 'Cc1nnc(N2CCN(C(=O)/C=C/c3ccc(Cl)cc3Cl)CC2)s1', 'SC(CBr)C(c1ccccc1)(c1ccccc1)c1ccccc1', 'CC(=O)Nc1ccc(S(=O)(=O)Nc2c(C)ccc(Cl)c2C(=O)O)cc1', 'CN(CCOc1ccccc1)Cn1nc2c(Cl)cc(Cl)cn2c1=S', 'O=C1CC(c2cccc(-c3cncnc3)c2)=Nc2cc(Cl)c(Cl)cc2N1', 'CCn1cc2nc(SCc3c(Cl)cccc3Cl)n(CC)c(=O)c2n1', 'O=C(Nc1nc(-c2ccc(Cl)cc2)cs1)c1ccccc1-n1cnnn1', 'CC(C)(C)c1csc(CNC(=O)c2csc(CN)n2)n1.Cl.Cl', 'CCOC(=O)NC(=O)c1ccsc1NC(=O)COc1ccc(Cl)cc1', 'COc1ccc2nc(/C=C3/SC(=S)N(Cc4ccco4)C3=O)ccc2c1', 'O=C(N/N=C/c1cccn1-c1ccccc1)Nc1cccc(Br)c1', 'CS(=O)(=O)c1ccc(C(=O)NCCc2ccc(Cl)cc2)cc1[N+](=O)[O-]', 'CS(=O)(=O)c1ccc([Si]2(c3ccccc3)N=CC(C(F)(F)F)=N2)cc1', 'NC(=O)CNS(=O)(=O)c1ccc(C(=O)OCc2ccc(Cl)cc2)cc1', 'O=C(Nc1cccc(Cl)c1)c1ccc2nnc(-c3ccc(Cl)cc3)n2c1', 'N#C/C(=C/Nc1cccc2cccnc12)C(=O)Nc1ccc(Cl)cc1Cl', 'CS(=O)(=O)c1ccc(OC(=O)CCC(=O)Nc2ccc(Cl)cn2)cc1', 'Cc1nc(-c2ccc(F)cc2)sc1C(=O)ON1C(=O)c2ccccc2C1=O', 'O=[N+]([O-])C1([N+](=O)[O-])C=CC(c2ccccc2)=CC1(C(F)(F)F)C(F)(F)F', 'COc1ccc(S(=O)(=O)OCC(=O)CCC(Cl)C(C)(C)Cl)cc1', 'O=C(O)c1cc2c(-c3c([O-])c(O)cc4cc(C(=O)O)[nH]c34)c([O-])c(O)cc2[nH]1', 'CC1(C)c2cc(Br)ccc2-c2c1cc(CCS)c1ccccc21', 'COc1ccc(OC)c(C(O)c2ccc(OC)c(OC)c2Br)c1', 'O=C(NO)c1ccc(CNC(=O)c2cc3sc4ccccc4c3s2)cc1', 'COc1ccc(CSc2nc(-c3cccs3)cc(C(F)(F)F)n2)cc1', 'CC(=O)Nc1cccc(OCC(=O)NS(=O)(=O)c2ccc(Cl)cc2)c1', '[N-]=[N+]=N[C@H]1C=C(c2ccc(Br)cc2)N(C(=O)c2ccccc2)CC1', 'O=C(COC(=O)CSc1ccc([N+](=O)[O-])cc1)Nc1cc(F)ccc1F', 'Cl.FC(F)(F)c1cc([C@@H](N2CCNCC2)C(F)(F)F)ccc1Cl', 'Cl.Clc1ccc(COc2ccc(CCn3ccnc3)cc2)c(Cl)c1', 'COC(=O)CNC(=O)c1ccc(NS(=O)(=O)c2ccccc2Cl)cc1', 'Clc1ccc2nc(/N=C3/C[C@@]4(CN5CCC4CC5)ON3)sc2c1Cl', 'C=C1CC[C@@](F)(C(=O)NCc2c(F)cc(Cl)cc2Cl)c2cccnc21', 'N#Cc1ccccc1NC(=O)c1ccnc(Nc2cccc(Cl)c2Cl)c1', 'CS(=O)(=O)Nc1ccccc1CNC(=O)c1cc(Cl)c2c(c1)OCO2', 'CN(C)c1ccc(C2SCC(=O)N2Nc2ncc(Cl)cc2Cl)cc1', 'CC(C(=O)O)n1c(-c2ccccc2)nc2scc(-c3cccs3)c2c1=O', 'CN(C)CCCNc1ccccc1Oc1ccc(Cl)cc1Br', 'Cc1nc(-c2cccs2)sc1C(=O)Nc1ccc2c(C)cc(=O)oc2c1', 'Cc1ccccc1Nc1nccc(C(=O)Nc2cccc(Br)c2)n1', 'COc1cc(OC)c(Cc2cc(Br)c(OC)cc2O)c(OC)c1', 'CC(C)OC(=O)C(=O)/C=C(/C(=O)OC(C)C)c1ccc(Br)cc1', 'C[C@H]1CS(=O)(=O)N(c2ccc(C(=O)NCc3ccco3)c(Cl)c2)C1=O', 'O=C(/C=C/c1ccc(OC(F)F)cc1)OCc1cc(Cl)c2c(c1)OCO2', 'COc1ccc(NS(=O)(=O)c2cc3c(cc2Cl)NC(=O)C3)cc1OC', 'Nc1nc2ccc(S(=O)(=O)Oc3ccc(-c4ccccc4)cc3)cc2s1', 'C#CCn1/c(=N/C(=O)c2ccccc2SC)sc2cc3c(cc21)OCO3', 'COc1ccc2cc(-c3csc(NC(=O)/C=C/c4cccs4)n3)oc2c1', 'C[C@@H]([NH2+]Cc1cc(=O)oc2cc(O)ccc12)c1cc(F)c(Cl)cc1Cl', 'O=C(Nc1ccccc1)Nc1ccc(Nc2cccc(Br)c2)cn1', 'O=C(NCc1ccccc1)c1cnc(Nc2cccc(Br)c2)nc1', 'O=C(CSc1cc(N2CCCC2)ncn1)Nc1cccc(Cl)c1Cl', 'O=C(CCSc1c(F)c(F)c(F)c(F)c1F)c1ccc2ccccc2c1', 'CC(=O)SC(CCCc1ccccc1)C(P(=O)(O)O)P(=O)(O)O', 'COc1c(C(O)c2cccc(C)c2I)ccc(C)c1C', 'O=c1c2cc3c(C(F)(F)F)cccc3cc2oc2cccc(C(F)(F)F)c12', 'CCC(C)(NC(=O)c1csc(CN)n1)c1nc(C)cs1.Cl.Cl', 'COc1cc(C#N)ccc1Oc1cc(F)c(C(=O)NS(C)(=O)=O)cc1F', 'Cc1ccc(N2C(=O)/C(=C\\\\C=C\\\\c3ccccc3[N+](=O)[O-])SC2=S)cc1', 'CN(Cc1nc2ccccc2s1)C(=O)c1ccc(SC(F)(F)F)cc1', 'CS(=O)(=O)c1ccccc1C(=O)Nc1cc(C(N)=O)c(NC(N)=O)s1', 'O=C1C(=CC=Cc2ccc([N+](=O)[O-])cc2)SC(=S)N1Cc1ccccc1', 'C[Si](OCc1ccc(Br)cc1)(c1ccccc1)c1ccccc1', 'N#CC1=C(c2ccc(C(=O)O)c(C(=O)O)c2C#N)C=CC(C(=O)O)(C(=O)O)C1', 'N#Cc1cccc(NC(=O)c2ccnc(Nc3cc(Cl)ccc3Cl)c2)c1', 'COc1ccc(-c2nc(CSc3ccc(C(F)(F)F)cn3)cs2)cc1', 'CC(=O)ON1C(=O)c2ccc3c4c(ccc(c24)C1=O)C(=O)N(OC(C)=O)C3=O', 'O=c1c2cc3c(C(F)(F)F)cccc3cc2oc2c(C(F)(F)F)cccc12', 'C1COCCOCCOCCOCCOCCO1.[Br-].[K+]', 'C=C(C=C(Cl)C(=CCl)SOOO)C(=O)OCCC1CCCCC1', 'C[C@H](OC(=O)c1cccc(S(=O)(=O)Nc2cccc(Cl)c2)c1)C(N)=O', 'Cn1nc(-c2ccc(F)cc2)c(Br)c1N1CCN(C(=O)O)CC1', 'Cc1cnc(C(C)(C)NC(=O)c2csc(CCN)n2)s1.Cl.Cl', 'CCCN/C(=N/Cc1ccc(Cl)nc1)NCC.I', 'O=C(Nc1ccc(-c2nc3ccccc3[nH]2)cc1)c1cnc(Cl)c(Cl)c1', 'Cc1cccc(NC(=O)c2ccnc(Nc3ccc(Br)cc3)n2)c1', 'Cc1nn(C)c(-c2ccc(Cl)cc2Cl)c1C(O)c1ccc(F)cc1F', 'Cc1c(Cl)cccc1NC(=O)CNS(=O)(=O)c1ccc2c(c1)OCO2', 'N#Cc1ccccc1Nc1ccc(NC(=O)c2ccc(Cl)c(Cl)c2)nc1', 'Cl.Cl.FC[C@H](c1cc(Cl)cc(C(F)(F)F)c1)N1CCNCC1', 'Cl.O=C(CSc1cc(Cl)ccc1Cl)NCCC1CCCNC1', 'CC(=O)[C@@H](Cc1ccc(Cl)cc1)NS(=O)(=O)c1ccc([N+](=O)[O-])cc1', 'C=C/C=C(\\\\C=[W])c1c[nH]c2ncnc(N)c12', 'CC(CP(S)(=[Se])CC(C)c1ccccc1)c1ccccc1', 'Cc1c(C(=O)[O-])ccc2c1N[C@H](c1cccc(Br)c1)[C@H]1CC=C[C@@H]21', 'NC(=O)c1ccc(Cl)c(NS(=O)(=O)c2ccc3c(c2)OCCCO3)c1', 'O=C(Nc1ccc(-c2cnc3n2CCC3)cc1)c1cncc(Br)c1', 'Cc1cc(/C=C2/SC(=S)NC2=O)c(C)n1-c1cccc(C(F)(F)F)c1', 'Cc1ccc(-c2cc(C(=O)N/N=C\\\\c3ccccc3Br)[nH]n2)cc1', 'COc1ccc2c(c1)/C(=C/c1sc(=S)n(-c3cccc(O)c3)c1O)C=N2', 'CCN/C(=N/CCc1ccc(Cl)nc1)N(C)C.I', 'CSc1ccc(C(=O)OCC(=O)Nc2c(F)cccc2F)cc1[N+](=O)[O-]', 'N#Cc1ccc(NC(Cc2c[nH]c3ccccc23)C(N)=O)cc1Br', 'CNC1CCCN(C(=O)c2ccc3cc(Br)ccc3c2)C1.Cl', 'COc1ccc(C2=C[C@H](c3cccc(Br)c3)n3ncnc3N2)cc1', 'CCOC(=O)c1sc(C)c(C)c1NC(=O)c1ccc(Cl)c([N+](=O)[O-])c1', 'N#Cc1ccc(Nc2ccnc(C(=O)Nc3cccc(Cl)c3Cl)c2)cc1', 'COCC(=O)Nc1ccc(S(=O)(=O)NC(=O)c2ccccc2Cl)cc1', 'Cc1nc(-c2ccccc2)c(C(=O)OCc2coc(-c3cccs3)n2)s1', 'COC(=O)c1ccsc1NC(=O)c1cnc(OC2CCOC2)c(Cl)c1', 'O=C(O)Cn1c(=O)c([As]CCc2ccccc2)cc2ccccc21', 'N#Cc1ccc(Cl)c(-c2cc(=O)c3c(F)c(-n4ccnc4)c(F)cc3[nH]2)c1', 'CCCC#CCSC(N)=S.Cl.[H]/N=C1\\\\SCC(=CCCC)S1', 'CC(=O)Nc1ccc(S(=O)(=O)CCOC(=O)c2cccc(Cl)c2)nc1', 'Cc1ccc(C(=O)COC(=O)c2cccnc2SC(F)F)cc1[N+](=O)[O-]', 'O=C(O)[C@H]1CN(C(=O)O)CCN1S(=O)(=O)c1ccc(C(F)(F)F)cc1', 'O=C(Nc1nc(-c2ccc(Cl)cc2)cs1)c1cccc(-n2cnnn2)c1', 'NS(=O)(=O)c1cccc(NC(=O)COC(=O)Cc2ccccc2Cl)c1', 'Cc1ccc(Nc2cnc(C(=O)Nc3ccccc3)cn2)c(Br)c1', 'O=c1cc(/C=C/c2cccnc2)nc2ccn(-c3ccc(Cl)cc3Cl)n12', 'CNS(=O)(=O)c1ccc(C(=O)OCC(=O)Nc2ccc(Cl)cc2)cc1', 'CC(C)CN(CCC(N)=NO)S(=O)(=O)c1c(Br)nnn1C', 'Cc1nc(Nc2ccccc2)cc(C(=O)Nc2cccc(Br)c2)n1', 'Cc1nc(-c2ccccc2F)sc1C(=O)ON1C(=O)c2ccccc2C1=O', 'Cc1cc2nc(NC(=O)c3csc(N=C(N)N)n3)sc2cc1C.Cl', 'CCOC(=O)c1cc(CC)sc1NC(=O)c1ccc(Cl)c([N+](=O)[O-])c1', 'O=C(COC(=O)c1ccccc1SC(F)F)Nc1ccc([N+](=O)[O-])cc1', 'C#CCn1c(=O)sc2cc(F)c(-c3ccc(C(F)(F)F)n(C)c3=O)cc21', 'CCCS(=O)(=O)c1ccccc1C(=O)Nc1ccc(Cl)c([N+](=O)[O-])c1', 'COc1ccc(COC(C)(CI)c2ccccc2)cc1', 'CCCN/C(=N\\\\C)NCCc1ccc(Cl)nc1.I', 'O=C(NCCc1ccc(-c2ccsc2)s1)c1ccc(C(F)(F)F)nc1', 'CCc1ccc(NC(=O)c2cc(Cl)c3c(c2)OCO3)cc1S(N)(=O)=O', 'O=C(NCc1ccccn1)c1ccc(Nc2cccc(Br)c2)cn1', 'O=C(/C=C/c1cccc([N+](=O)[O-])c1)Nc1ccc(S(=O)(=O)C(F)F)cc1', 'COc1cccc(C(=O)OCc2noc(-c3cccs3)n2)c1OC(F)F', 'C[C@@]12CCCN(C(=O)c3nsc(Cl)c3Cl)[C@H]1CCc1cncnc12', 'O=C(Nc1ccc2oc(=O)[nH]c2c1)c1ccccc1SCc1cccs1', 'O.O.O.O.O=C(O)C[N-]C(=O)C/N=C/c1ccc(O)cc1O.[Co]', 'CCc1c(C)sc(NC(=O)c2cc(Cl)ccc2[N+](=O)[O-])c1C(=O)OC', 'O=C(Nc1ccc(-n2cncn2)cc1)C1(c2cccc(Br)c2)CC1', 'N#Cc1cccc(S(=O)(=O)N2CC[NH+](Cc3ccc(Cl)s3)CC2)c1', 'O=C(CCOc1ccc(Cl)cc1Cl)NCc1nc2nc(F)ccc2[nH]1', 'CN(C(=O)c1cnc(Nc2cccc(Br)c2)cn1)c1ccccc1', 'CC(OC(=O)c1ccccc1S(C)(=O)=O)C(=O)Nc1ccc(Cl)cn1', 'Cc1ccccc1NC(=O)c1ccc(Nc2cccc(Br)c2)nn1', 'N#Cc1cccc(NC(=O)c2ccc(Nc3cccc(Cl)c3Cl)cn2)c1', 'CN(C)S(=O)(=O)c1cc(C(=O)Oc2cccc(C(N)=O)c2)ccc1Cl', 'COC(=O)c1ccccc1NC(=O)COC(=O)CSc1nnc(N)s1', 'N#CC1=C(N)Oc2n[nH]c(-c3ccccc3)c2[C@@H]1c1c(Cl)cccc1Cl', 'NC(=O)c1cc(NS(=O)(=O)c2ccc3c(c2)OCCCO3)ccc1Cl', 'CO/N=C(/C(=O)NS(C)(=O)=O)c1ccccc1Oc1cc(=S)nc[nH]1', 'CC(NC(=O)c1cc(Cl)c2c(c1)OCO2)c1cccc(S(N)(=O)=O)c1', 'CN(C(=O)c1ccnc(Nc2cccc(Br)c2)n1)c1ccccc1', 'N#Cc1cccc(NC(=O)c2cc(Nc3cc(Cl)cc(Cl)c3)ccn2)c1', 'N#Cc1ccc(NC(=O)c2ccc(Nc3cc(Cl)ccc3Cl)nc2)cc1', 'CC1(C)Oc2ccc(S(=O)(=O)NC(=O)Nc3ccccc3Cl)cc2O1', 'O=C(COc1ccccc1)NC1C(=O)N2C(C(=O)O)=C(CCl)CS[C@H]12', 'C=C(C)C(=O)OC(C)C(F)(F)C(F)(F)C(F)(F)C(F)(F)C(F)(F)F', 'CN(Cc1ccc(-c2ccnc3[nH]c(=O)ccc23)c(F)c1)S(=O)[O-].Cl', 'CC/C(=C/NCc1ccc(Cl)cc1)C(=O)Nc1ccc(Cl)cc1Cl', 'C[C@H]1Cc2ccccc2N1C(=O)c1cn(-c2cccc(Br)c2)nn1', 'O=C(ON1C(=O)c2ccccc2C1=O)c1ccc(CNC(=O)C(F)(F)F)o1', 'O=C(N[C@@H]1C[C@H]1c1cccnc1)c1cc(-c2ccc(Br)cc2)n[nH]1', 'O=C(Nc1ccc(Cl)cc1)c1ccn2ncc(-c3cccc(Cl)c3)c2n1', 'COC(=O)c1nn(CCOCCCC(F)F)c2c(Cl)nc(Cl)nc12', 'CC1(C)SC2N(C(=O)C23OC3(Cl)C(=O)Nc2ccccc2)C1C(=O)O', 'O=C(Nc1ccc(Br)cc1)c1cncc(NCc2ccccn2)c1', 'CCOC(=O)c1c(C)sc(Sc2ccccc2N([O-])O)c1OC(C)=O', 'O=c1cc(C(F)(F)F)c2ccc(NC(=S)Nc3ccccc3F)cc2o1', 'COC(=O)c1cc(S(=O)(=O)Nc2ccc(NC(C)=O)cc2)ccc1Cl', 'Cc1ccc(-c2cc(C(=O)NN=Cc3cccc(Br)c3)[nH]n2)cc1', 'C[C@H](O)CON1C=C2C=NC=C(Nc3ccc(Br)cc3F)N2C1', 'O=C(c1ccc(Cl)c(Cl)c1)N1CCN(Cc2ccc(Cl)cc2)CC1', 'Cl.Cl.FC[C@@H](c1cc(C(F)(F)F)ccc1Cl)N1CCNCC1', 'N#Cc1ccc(Nc2ccnc(C(=O)Nc3cc(Cl)ccc3Cl)c2)cc1', 'CC(NC(=O)C(C)N1C(=O)/C(=C/c2ccc(F)cc2)SC1=S)C(=O)O', 'O=P([O-])(O)C(O)(CC[S+]1CCC(c2ccccc2)C1)P(=O)(O)O', 'Cc1cc(C(=O)OCCNC(=O)c2ccc([N+](=O)[O-])cc2Cl)sc1C', 'N#Cc1cccc(Nc2cncc(C(=O)Nc3ccc(Cl)cc3Cl)c2)c1', 'CS(=O)(=O)c1ccc(C(=O)c2c(CC(N)=O)noc2C2CC2)c(Cl)c1', 'COc1cc2nc(OC)c(S(=O)(=O)c3nnc(C)s3)nc2cc1OC', 'Cc1cc(NN=Cc2ccc(Br)cc2)nc(-c2ccccc2O)n1', 'O=C(Nc1cccc(Br)c1)c1ccnc(NCc2cccnc2)c1', 'O=C1C(SCc2ccco2)=C(c2cccs2)C(=O)N1Cc1ccncc1', 'O=C(Nc1ccc(Cl)c(C(F)(F)F)c1)OCc1cccc(-n2c3nn2-3)c1', 'Cc1sc(NC(=O)CSCC(=O)O)c(C(N)=O)c1-c1ccc(F)cc1', 'CN(Cc1ccccc1C(F)(F)F)C(=O)c1csc(-c2cccs2)n1', 'CCCCOc1ccc(Br)cc1C=C1C(=O)OC(C)(C)OC1=O', 'O=C(CNC(=O)Nc1ccc(Cl)c(Cl)c1)N/N=C/c1cccc(F)c1', 'O=CC=Cn1nc(C(=O)O)c2c1CC(c1ccsc1)(c1ccsc1)C=C2', 'CCOC(=O)c1c(NC(=O)c2ccc(Cl)cc2[N+](=O)[O-])sc(C)c1C', 'CC(C)(C)OC(=O)C(C)(C)Oc1cc(Br)cc(C(F)(F)F)c1', 'CC1=CC(=C(C=C1CC2=CN=C(N=C2N)N)OC)OC', 'CN1[C@@H]2CC[C@H]1CC(OC(=O)n1ccn3nccc13)C2', 'CC1(C)CCCC(Nc2ncc(C#N)cc2[N+](=O)[O-])C1', 'C#C[C@H](C)Nc1nccc(N2C(=O)OC[C@@H]2C(C)C)n1', 'CCC[C@H]1O[C@@H](OC)C[C@@H](OC(C)=O)[C@H]1OC(C)=O', 'O=C(N/N=C/c1ccccc1O)C1NNC2CCCC21', 'CC(CN(C)C)Nc1ccc2cc([N+](=O)[O-])ccc2n1', '[N-]=[N+]=NC1CCC(NC(=O)OCc2ccccc2)CC1', 'CCOc1ccc(C(=O)Nc2c(C)n[nH]c2C)cc1N', 'Cc1ccc(NC(C)C(=O)N2CCOCC2)nc1C#N', 'N#Cc1cc([N+](=O)[O-])ccc1NC1CCCCC1CN', 'OCCOc1nc(N2CCNCC2)nc2ccccc12', 'Cn1c(=O)c2[nH]c(CC3=CCCCC3)nc2n(C)c1=O', 'c1cnc(OCC2CCCN(Cc3cocn3)C2)nc1', 'CN1CCC[C@@H](N(C)c2ccc(C(F)(F)F)nn2)C1', 'CCc1ccc(NC(=O)Nc2cnn(CCO)c2)cc1', 'COCc1c(C(=O)NC(C)C)nnn1-c1ccccc1', 'Cc1cnc(CNc2cc(N)ccc2C(=O)N(C)C)o1', 'COc1cccc(OC)c1C(NN)c1ncc(C)cn1', 'COc1ccc(C)cc1CC(=O)c1cn(CCN)nn1', 'COC(=O)c1ccc2nc(CC3CCNCC3)nn2c1', 'CCOc1cccc2c1nc(N)n2CC(=O)NC1CC1', 'CNC(=O)[C@H]1CN(C(=O)C2CC=CC2)Cc2ccnn21', 'CCOC(=O)N1CC(n2cnc3cnc(CC)cc32)C1', 'O=C(CN1CCNCC1)Nc1cccc2c(O)[nH]cc12', 'Cc1nc([C@H](C)NC(=O)COCc2ccccc2)n[nH]1', '[H]/N=C1\\\\C(C#N)C2=C(CCC2)C(C(C(C)=O)C(C)=O)N1N', 'O=C1CCC(NC(=O)C2CNc3ccccc3N2)CN1', 'CCN1CCC(n2ncc3cc(C(=O)O)cnc32)CC1', 'Cc1cncc(Cn2ccc(=O)n(CCCN)c2=O)c1', 'CCCNc1ccc(C(=O)Nc2nc(C)no2)cc1C', 'CC(C)n1ccc(COc2ccccc2C(N)=NO)n1', 'CC(CNC(=O)Cn1cc(CO)nn1)c1ccccc1', 'CCC(NC(=O)c1cccc(OC)c1N)c1ncc[nH]1', 'CNC(=O)/C(=C\\\\NC=O)c1cc(C2C[C@@H]2C)c(C)nn1', 'NC(=O)COc1ccc(CNCCn2ccnc2)cc1', 'CNCc1c(C)nn(C)c1Oc1ccc(C(N)=O)cc1', 'Cc1cc(C(N)=O)ccc1NCc1cnn(CCO)c1', 'CCN(CC(N)=O)C(C)C(=O)Nc1cccc(C#N)c1', 'Nc1ccn(CC(=O)N(CCO)Cc2ccccc2)n1', 'Cc1cc(C(=O)N2CCC(CO)CC2)n2nccc2n1', 'C=C(C)C(=O)OCC(C)O.C=C(CCCO)C(=O)O', 'CCNc1cc(N(C)CC(F)(F)F)nc(C2CC2)n1', 'CCOC(=O)C(C)(C)[C@]1(O)OC[C@H]2OC(C)(C)O[C@H]21', 'CCN(CCC(=O)Nc1ccccc1C#N)CC(N)=O', 'CCC1CCCC(Nc2nccc(C#N)c2[N+](=O)[O-])C1', 'CN(C)C(CN=C(N)N)c1ccc(C(F)(F)F)cc1', 'Cc1coc(CC(=O)Nc2cc(C3CCCC3)[nH]n2)n1', 'CC1NNC2C1N(c1ccccc1)C(=O)CC(=O)N2C', 'Cn1cnc(C(NN)c2ccc3c(c2)OCCCO3)c1', 'CCc1cc(C2CCCN2C(=O)c2ccnn2C)on1', 'CCCc1nc(C(=O)Nc2ccc(C)c(O)c2C)n[nH]1', 'Nc1cc(N(CCO)CCO)nc(-c2ccccc2)n1', 'Cl.O=C(NCC1CNCC1O)C1CC12CCCC2', 'O=C(O)CC1(Cc2nnc3ccncn23)CCCCC1', 'CCOC(=O)c1cccc(Nc2cnn(CC)c2)c1N', 'CCOC(=O)c1cccnc1NCCCn1cccn1', 'CC(C)(C)OC(=O)OC(=O)OC(C)(C)C1CCCO1', 'CC(C)N(CC(F)(F)F)/C(=N/c1ccccc1)NN', 'COc1cccc(N)c1C(=O)NCCc1nccn1C', 'CC(=O)Nc1ccc(CNc2nnc(C(C)C)o2)cc1', 'CC(=O)N1CCC2(CC1)NC(=O)N(c1ccccc1)N2', 'CCN1CCN(c2ccc3nc(C(=O)O)cn3c2)CC1', 'COC(=O)/C=C/[C@@H]1OC(CCC(OC)OC)C[C@@H]1O', 'Cn1ncc2c(NC(C)(C)C3CC3)c(C(=O)O)cnc21', 'Cc1nc(Cn2cccc2C(=O)NC2CCCC2)no1', 'CC(=O)COC(=O)C(C)OC(=O)CCOC(C)(C)C', 'COc1cc2ncnc(N3CC(CN)C3)c2cc1OC', 'CCC(C)(C)C(C)([SiH2]O[SiH3])C(C(=O)O)=C(C)C', 'CCOC(=O)CN(N=C(C)C)c1nc2ccccc2[nH]1', 'CCc1ccc(CN(C)Cn2cc([N+](=O)[O-])cn2)cc1', 'CCCOc1ccc(Oc2cc(C)nc(NN)n2)cc1', 'Cc1cc(CN(CC(=O)O)c2ccccc2N)n(C)n1', 'COc1ccc(CCC(=O)Nc2c(N)cnn2C)cc1', 'CN(N=Cc1ccc(C(=O)O)cc1)C1=NCCCCN1', 'COC(C)C(=O)OCCCCC(CC(=O)O)C(C)=O', 'CCCc1nc(C(=O)NC(C)c2cccc(O)c2)n[nH]1', 'CCCCOC(=O)C1OCOC1C(=O)OCCCC', 'Cc1[nH]ncc1CCCNCc1ccc([N+](=O)[O-])cc1', 'O=C(NCCc1nnc2n1CCCCC2)c1ccoc1', 'CCC(C)NC(=O)c1cn(-c2ccc(OC)cc2)nn1', 'CCNc1cc(C(=O)NCc2c(C)noc2C)ccn1', 'CNc1cnn(Cc2ncc(C)c(OC)c2C)c(=O)c1', 'COCC(C)NC(=O)c1ccc(Cn2cncn2)cc1', 'COCCn1cc(NC(=O)c2ccc(N)c(C)c2)cn1', 'CCC(NC(=O)COc1ccc(N)cc1)c1ncc[nH]1', 'Cc1noc(C)c1CC(=O)Nc1ccc(N(C)C)nc1', 'O=C1CCN(c2ccc(N3CCCCC3)nc2)C(=O)N1', 'COc1cccc(N/C(N)=N/Cc2nc(C)c(C)o2)c1', 'CN1CCC(CN(C)c2ccc(C#N)c([N+](=O)[O-])c2)C1', 'Cc1nc(C(=O)NC(C)CCc2ccc(O)cc2)n[nH]1', 'CCc1c(C)nn(Cc2cccc([N+](=O)[O-])c2N)c1C', 'COC(=O)OC1CCCCC1OC(=O)OC(C)(C)C', 'CC(=O)N1CC=C(c2nccnc2OC2CNC2)CC1', 'Cc1cc(-c2nc(N3CCN(C)CC3)no2)ccc1O', 'CCN1CCC2=NNC(c3cccc([N+](=O)[O-])c3)C2C1', 'CC(CN1CCCC1)n1nnc2cccc(C(=O)O)c21', 'CCc1cccnc1Cn1c(C)nc(C(=O)OC)c1N', 'Cc1cc(NCCCCn2ccnc2)ccc1[N+](=O)[O-]', 'COC[C@@]12COC[C@@H]1CN(c1nccc3[nH]ncc13)C2', 'Cc1ccc(OCCNC(=O)CCn2cncn2)cc1', 'Cc1ccnc(NCCCCn2ccnc2)c1C(=O)O', 'O=C(NC1CCCNC1=O)c1cccc2c1NCCN2', 'Cc1nn(CC(=O)NC(C)C2CC2)c(=O)c(C#N)c1C', 'C=CCNC(=O)c1cc(N2CCN(C=O)CC2)ccn1', 'CCOC(=O)N1CCC(Nc2cc(C#N)ccn2)CC1', 'CNCC1CCCCN1c1cc(C#N)ccc1[N+](=O)[O-]', 'Cc1ccc(CCc2nnnn2CC(C)C(=O)O)cc1', 'O=C(c1cccc2[nH]ncc12)N1CCN(CCO)CC1', 'CCN(CCn1nnc2cccc(C(=O)O)c21)C1CC1', 'CCn1cc(N)c(C(=O)N(Cc2ccco2)C2CC2)n1', 'O=C(Cn1nnc2ccccc21)N1CCCCC1CO', 'Cn1c(=O)c2cc(C3CCCNC3)cnc2n(C)c1=O', 'COCCNC(=O)Nc1cc(-c2ccccc2)n(C)n1', 'CCOC(=O)C(CCC1COCCO1)C(=O)OCC', 'CCC1(C(O)OC(C)C)CC(C#N)(C#N)C(C#N)=C1N', 'Nc1ccc2c(cnn2CC2CCN(C(=O)O)CC2)c1', 'CCNc1cc(C(=O)Nc2onc(C)c2C)cc(C)n1', 'COCCNCc1ccc(-n2ccc(C(N)=O)n2)cc1', 'CCOc1c(N)cccc1C(=O)Nc1cc(C)nn1C', 'COc1ccccc1CN(C)C(=O)Cn1cc(N)cn1', 'CCOC(=O)c1cnn(-c2ccc(N(C)C)cc2)c1N', 'CC(C)[C@H](NC(N)=O)C(=O)Nc1ccc(CC#N)cc1', 'Cc1nc(-c2ccccc2NC(=O)COC(C)C)n[nH]1', 'Nc1ccnc(CN[C@H]2CCCC[C@@H]2C(F)(F)F)n1', 'C#CCCN1CCN(c2ccc(C(=O)OC)nn2)CC1', 'CCC(C)(Cn1nnnc1-c1cccc(C)c1)C(=O)O', 'O=c1cccnn1C1CCC(NCc2cnco2)CC1', 'CC1CN(c2nc3ccccc3nc2N)CC(CO)O1', 'CCc1c(NN)ncnc1Oc1ccc(C)cc1OC', 'CCOc1ncnc(NCc2ccccc2OC)c1N', 'CC(CO)(NC(=O)Cn1ccc(N)n1)c1ccccc1', 'C[C@@H](CC#N)N1CCN(c2ccccc2[N+](=O)[O-])CC1', 'CCC(C)(CC)Nc1ncnc2ccc([N+](=O)[O-])cc12', 'CN(C)/C=C/C(=O)c1cnc(C(=O)/C=C/N(C)C)cn1', 'CCCNc1nc(OC)nc(OCc2ccccc2)n1', 'COc1ccc(CNC[C@H]2Cn3ccnc3CO2)cn1', 'CC(NC(=O)[C@@H](C)N)c1noc(Cc2ccccc2)n1', 'C[Si](C)(CCC1CO1)O[Si](C)(C)CCC1CO1', 'CN(C)CCC(c1ccccc1)n1cc([N+](=O)[O-])cn1', 'CC(C)(C)n1cc(CNc2ccccc2C(=O)O)nn1', 'CC(=CCCC[Si](C)(C)O[Si](C)(C)C)C(=O)O', 'CCCCn1nnnc1COC(=O)Cc1ccccc1', 'CC1CCCC(C)N1Nc1ccc(C#N)c([N+](=O)[O-])c1', 'CN/N=C/c1nccn1C.Cc1cccc(C=O)c1O', 'C=CC(=O)OCCC(C)[Si](C)(C)O[Si](C)(C)C', 'Cc1c([N+](=O)[O-])cc2c(c1CN1CCCC1)NC=CN2', 'COCCn1cc(NC(=O)c2ccc(C)c(N)c2)cn1', 'COc1ccc(C(O)CN2CCn3cnnc3C2)cc1', 'CN(CCc1ccccc1)Cc1cc(C(=O)NN)no1', 'CCOc1cccc(-c2nc(N)nc(OC(C)C)n2)c1', 'C=C(CC)COc1ccc(-n2nnn(CC)c2=O)cc1', 'CC(O)CNC(=O)CCNc1ncnc2ccccc12', 'Cc1ccn2nc(C(=O)NC3CCNCC3O)cc2c1', 'COc1ccc(N)cc1C(=O)Nc1c(C)nn(C)c1C', 'Cc1ccc(C(=O)N2Cc3cnn(CCO)c3C2)n1C', 'COc1ccc(NC(=O)CNCc2nccn2C)cc1', 'CCC(=O)N1CCCN(c2nc3ncccc3o2)CC1', 'Cc1noc(C)c1C(=O)N(C)c1cccnc1N(C)C', 'COC(=O)NCC1CCN(c2ncccc2C#N)CC1', 'Cn1cncc1-c1noc([C@@H]2C[C@H]2C2CCOCC2)n1', 'COc1cc2c(cc1OC)C(=NNC1=NCCN1)CC2', 'COC(=O)c1cccc(N(C)Cc2cnn(C)c2)c1N', 'CCNC(=O)C1COCCN1Cc1ccnc(C#N)c1', 'COCC(c1ccc(OC)c(OC)c1)[n+]1ccccc1', 'Cn1ncc(C(=O)NC[C@H]2CCCO2)c1-n1cccc1', 'O=C1CCCCC1CC(NCc1ccccc1)C(=O)[O-]', 'CCCC1(C(=O)O)CCN(c2ccn3nccc3n2)C1', 'Cn1nnc(CC(O)c2cccc3c2OC(C)(C)C3)n1', 'CNCCc1ccccc1C(=O)NCc1noc(C)n1', 'Cc1[nH]nc(C(=O)NCCCOc2ccccc2)c1N', 'Cl.O=C(C1CCNC1)N1CCOC2CCCCC21', 'CCn1ccn(Cc2ccccc2CC(=O)NN)c1=O', 'CCn1cc(-c2nn(C(C)C3CC3)cc2C(=O)O)cn1', 'FC(F)(F)c1ccc(NCCCN2CCCC2)nn1', 'COCC(C)CNC(=O)c1ccc2c(N)ncnc2c1', 'CC(C)(C)c1ccc(-n2nnnc2CCC(=O)O)cc1', 'CC1CCCN(c2cc(C(F)(F)F)nc(N)n2)CC1', 'O=C(NCc1ccco1)NC[C@H]1CCn2ccnc2C1', 'CC(C)C(O)CC(=O)Nc1cccc(-c2ncn[nH]2)c1', 'CCCNCCNc1ccc2cc([N+](=O)[O-])ccc2n1', 'CCOc1ccc2nc(C(=O)NC3CCCC3)cn2n1', 'COC(=O)c1ccc(CNc2cnccc2N(C)C)[nH]1', 'COc1ccc(ONc2nccc(N)n2)c(C(C)C)c1', 'CC(C)NCc1cn(Cc2ccc3c(c2)OCO3)nn1', 'COc1cc(NCc2ccc(OC)c(N)c2)nc(C)n1', 'CCCNc1nc(OC)nc(Oc2ccc(C)cc2)n1', 'CC1(C(=O)O)CCCCN1Cc1cn2cccnc2n1', 'CC(C)(C)OC(=O)Nc1cccc(Cn2ccnn2)c1', 'c1coc(CNc2nccc(NCC3CCCO3)n2)c1', 'COCC1CCN(c2nc3ccc(N)cc3c(=O)[nH]2)C1', 'Cc1c(C(=O)N(C)C(C)CO)cnn1-c1ccccn1', 'NC1(c2nc3ccccc3[nH]2)CCCCCN1C(=O)O', 'Cc1ncc(CNc2ccc(C(=O)NCCO)cc2)[nH]1', 'COc1ccc(OC)c(Cn2nnc(N)c2C2CC2)c1', 'CCOC1CC1C(=O)N1CCC2CCC(C1)N2.Cl', 'CCc1nn(C)c(C(=O)OCc2cncc(C)c2)c1N', 'Cc1ccncc1C(=O)N(CCO)Cc1cncn1C', 'CCC[C@@H]1CC2=C([C@H](OC)O1)[C@@H](O)[C@H](O)[C@H](O)[C@@H]2O', 'NC(=O)c1cccc(CN2CC3CNCCN3C2=O)c1', 'CCOc1cccc(N)c1C(=O)Nc1cn(C)nc1C', 'CCc1nn(C)c(CC(O)CCC(C)OC)c1Cl', 'CC(c1ccccc1)c1nnnn1C(C)C(C)C(=O)O', 'Cc1nnc(C(CC(C)C)NC(=O)c2ccncc2)o1', 'CC1(C)OCC([C@H]2O[C@H](CO)C3OC(C)(C)OC32)O1', 'FC(F)(F)C1CCc2nnc(C3CCNCC3)n2C1', 'COC(=O)C1CCN(c2nccn3nc(C)cc23)CC1', 'CCN(c1cc(C#N)ccc1[N+](=O)[O-])C1CCCNC1', 'CC[C@@H](CO)NC(=O)c1ccn(-c2cccc(N)c2)n1', 'COC(=O)CCc1c(C)nn(-c2ccc(C)nn2)c1C', 'CC(C)NC(=O)C1COCCN1c1cc(C#N)ccn1', 'CC(C)(C)NCc1ccn(-c2ccc([N+](=O)[O-])cc2)n1', 'CCN(Cc1ccc(OC)cc1)C(=O)c1cc(N)n[nH]1', 'CCNC1COCC1c1nc(-c2ccncc2C)no1', 'NCCCCCc1ncc(-c2ccccc2[N+](=O)[O-])[nH]1', 'O=C1CNC(=O)N1C1CCN(Cc2ccccn2)CC1', 'O=C(O)C(Cc1ccccc1)/N=C(\\\\[O-])C1CCCCC1', 'CCOc1n[nH]c(NC(=O)C(CC)c2ccccc2)n1', 'CCN(C)CCNc1nc(C(=O)O)nc2ccccc12', 'c1nn(C2CCCCO2)cc1-c1cnn2c1OCCC2', 'N/N=C(/N)c1ccc2c(c1)C(=O)CC1(CCNCC1)O2', 'COC(O)Nc1ccc2c(c1)N(Cc1cnc[nH]1)CC2', 'CC1NNC(C)C1CNc1ncccc1C(F)(F)F', 'Cc1cc2c(cc1[N+](=O)[O-])ncn2CCN1CCCC1', 'CCOC(=O)C(COC1CCCCO1)C1OC(C)O1', 'CCC(C)Oc1ncnc2[nH]cc(C=CC(=O)NC)c12', 'N#Cc1cc([N+](=O)[O-])cnc1NCCCC1CCCC1', 'CCc1cccc(Oc2c(C(N)=NO)c(C)nn2C)c1', 'CC(C)(C)Oc1cccc(CNC(=O)c2cn[nH]n2)c1', 'Cc1nn(C(C)CCc2ccccc2)c(N)c1[N+](=O)[O-]', 'CCCNC(=O)CCNC(=O)c1ccc2cn[nH]c2c1', 'CCNCC(C)C(=O)Nc1ccc(-c2nnco2)cc1', 'C[C@H](C(=O)N(C)C)n1cc(COc2ccccc2)nn1', 'Cc1nc2cc(=O)[nH]n2c(C)c1CCC(=O)NC1CC1', 'COc1ccc(-n2ccc(N(C)C(=O)N(C)C)n2)cc1', 'COC(=O)C1CC(O)C1.COC(=O)C1CC(OC)C1', 'Cc1ccc(-c2nnnn2CCC(C)C(=O)O)cc1C', 'O=C(O)C1(CNc2nccn3nccc23)CCCCC1', 'CNCc1c(/N=C(\\\\[O-])c2ccccc2)on[n+]1C(C)C', 'CCNc1nc(N(CC)C2CC2)cc(C(F)(F)F)n1', 'CC(=O)NC(C)(C)c1noc(-c2cc(N)ccc2C)n1', 'O=C(NC1CCCCCC1O)c1cnn2ccncc12', 'Cl.NC1(C(=O)N2CC3CCCC3C2)CCOCC1', 'C=C(C)C(=O)SC(CCCCCC)CC(C)S', 'CN(c1ccc([N+](=O)[O-])c(C#N)c1)C1CCCNCC1', 'CCCc1cc(=O)n(C2CCC(=O)CC2)c2ncnn12', 'Cn1cnnc1CNCCc1ccc2c(c1)OCCO2', 'CCCC(=O)NCCNc1n[nH]c(=O)c2ccccc12', 'COCc1nc(N)cc(NCC(O)c2ccccc2)n1', 'COCCn1ccc(NC(=O)c2ccc(CN)cc2)n1', 'CC(C)c1ccc(OCn2ccc(C(=O)NN)n2)cc1', 'CCOC(=O)/C(C#N)=C\\\\Nc1cnc(C(C)(C)C)nc1', 'CCOC(=O)c1nnnn1CCCCc1ccccc1', 'O=C(CC1CCNCC1)Nc1ccc2[nH]c(=O)[nH]c2c1', 'Cc1cc(C)c(CNC(=O)c2cc(C)n(C)n2)c(=O)[nH]1', 'COC(=O)C(C)(C)NCc1n[nH]nc1-c1ccccc1', 'CCCC[C@@H](C=O)NC(=O)[C@H](CC(C)C)NC(=O)OCC1=CC=CC=C1', 'C[C@H](NC(=O)c1ccc(C(C)(C)C)cc1)C(=O)OCC(=O)NC(C)(C)C', 'C1=NCC(N2Cc3cc4nc5n(c4cc3C2)CCN(C2CCC2)CC5)N=C1', 'CCN/C(=N\\\\CC1(c2cccc(Cl)c2)CC1)NCC1CCCN(C)C1', 'C/N=C(/NCc1cccc(-c2ncn[nH]2)c1)NCC(C)(C)c1ccccc1', 'CN(C)CC1(c2ccc(C(=O)NC3Cc4ccccc4CC3[NH-])cc2)CC1', 'CC(C)CCN1C[C@]2(CCCN(C(=O)c3ccc(CO)o3)C2)CCC1=O', 'CC(C)(C)OC(=O)NC1CCCCCNC1C(=O)OCc1ccccc1', 'CC(=O)NOC(=O)CCCCOc1cccc(C(C)N2CCCCC2)c1', 'CCCN1CCC(N/C(=N/CC)NC2CC2c2cccc(Cl)c2)CC1', 'COc1cccc(CN2CCCC(O)(CNC3CCCC3)C2=O)c1OC', 'COC(=O)C1(NS(=O)(=O)N(CCC(C)C)CCC(C)C)CCCC1', 'CC(C)c1ncnc(N2CCN(C3NC(=O)CC(C4CC4)N3)CC2)c1F', 'C=C/C(=C\\\\C(CC)=C(/CC)c1ccc(C2=NNNN2)cc1C)n1ccnc1', 'CCCN(CC(=O)c1c(C)c(C(=O)OC)n(CC)c1C)C(=O)C1CCC1', 'COc1cc(C(C)NC(=O)C2CC3CCCCC3N2)cc(OC)c1OC', 'COc1ccc(CCC(=O)N[C@H]2COC[C@@H]2N2CCCCC2)cc1OC', 'Cc1ccccc1C(=O)NC(CC(C)C)C(=O)NCCC(=O)OC(C)C', 'C(=C1CCCCC1=CN(CC1CO1)CC1CO1)N(CC1CO1)CC1CO1', 'CCN(CC(=O)O)C1CC(NC(=O)CC(C)Cc2ccccc2OC)C1', 'C/N=C(/NCc1ccc(-n2ccnc2C)nc1)N(C)Cc1ccc(C)cc1', 'CCOCc1ccccc1CNC(=O)C1CCCN1C(=O)OC(C)(C)C', 'CCC1(NC(=O)OC(C)(C)C)CCCN(C(=O)OCc2ccccc2)C1', 'c1ccc(CCN2CCN(Cc3nnnn3Cc3ccccc3)CC2)cc1', 'COc1ccc(CCC(=O)N[C@@H](CC(C)C)C(=O)N2CCOCC2)cc1', 'O=[N+]([O-])c1ccc(OCCCN2CCC(OC3CCCCC3)CC2)cc1', 'CN(C)C(=NCc1ccccc1-c1ccc(Cn2cncn2)cc1)N(C)C', 'COc1cc(CC(=O)N2CCC(NCC3CC3)CC2)cc(OC)c1OC', 'COc1cc(C(=O)NC2CCC[C@@H]3CN(C)CC[C@@H]23)cc(OC)c1OC', 'C/N=C(/NCCc1cccc2ccccc12)N1CCC(c2ncn[nH]2)CC1', 'CCCS(=O)(=O)N1CCCC[C@H]1C(=O)N[C@H](CO)CCC(C)(C)C', 'CCN(CC(=O)O)C1CC(NC(=O)CCOc2cc(C)cc(C)c2C)C1', 'CC(C)(C)OC(=O)NCCCC1=C[C@@H]2C[C@@H](CN3C(=O)CCC[C@H]23)C1=O', 'COc1ccccc1CCNC(=O)C1CCN(C(=O)OC(C)(C)C)CC1', 'CN1CC[C@@]23CCCC[C@@H]2[C@@H]1Cc1cc(N2CCC(F)(F)C2)c(O)cc13', 'CCCN(CCC)C(=O)CCC(=O)NC(C(=O)O)c1ccc(C)c(C)c1', 'C=C1Nc2cnc(NC[C@H]3CCCNC3)nc2N1C1Cc2ccccc2C1', 'CCCCOC(=O)c1ccc(NC(=O)N2CCOCC2CC(C)C)cc1', 'CCCc1onc(C)c1C(=O)N1CC2(C1)OCC[C@H]2CCOCC1CC1', 'COc1ccccc1CCC(=O)N1CCOC[C@](O)(CN2CCCC2)C1', 'CC[C@H](C)NC(=O)CC[C@@]1(Cc2ccc(OC)c(OC)c2)CCC(=O)N1', 'CCCCCC1CCC(c2cc3ccc(CC)c(F)c3c(F)c2F)CC1', 'COc1ccc(CC(=O)NC2CCN(C(=O)CC(C)C)CC2)c(OC)c1', 'CCOC(=O)C1CCN(CC(=O)Nc2ccc(OC(C)CC)cc2)CC1', 'CCCc1ccc(C2CCN(C(=O)N[C@H](C(=O)CO)[C@@H](C)O)CC2)cc1', 'COc1ccc(OCC2CCN(C(=O)NC[C@@H]3CCCCO3)CC2)cc1', 'COCCn1c(C)cc(C)c(C(=O)N2CCC3(O)CCCCC3C2)c1=O', 'CCCCCC(=O)CCC(=O)CC(CCCc1nn[nH]n1)c1nn[nH]n1', 'COc1ccc(CCC(=O)N2CCC3(CCNC3)CC2)c(OC)c1OC', 'CC(C)CC(CNC(=O)CNC(=O)c1ccc(C(C)(C)C)cc1)C(=O)O', 'COCC(=O)NCC1(c2ccccc2)CCN(C(=O)OC(C)(C)C)CC1', 'CCOC(=O)Cc1ccc(C2(N)CCN(C(=O)OC(C)(C)C)CC2)cc1', 'c1ccc(C(c2ccccc2)N2CCN(CCCc3nn[nH]n3)CC2)cc1', 'CCCCOC(=O)[C@H](Cc1ccc(O)cc1C)NC(=O)C1(N)CCCC1', 'CCCOc1ccccc1C(CC(C)C)NC(=O)N1CCC(C(=O)O)C1', 'CCCCCCCC(=O)OCC(Cl)COC(=O)CCCCCCC', 'C1=CCC=C(B(Cc2ccccc2)c2ccccc2)C=C1.Cc1ccccc1', 'COc1ccc(C(=O)N2C[C@H](O)[C@@H](N(C)CCC3CCOCC3)C2)cc1', 'O=C(CCc1ccccc1)N1C[C@@H](O)[C@](O)(CNCC2CCOCC2)C1', 'CCCc1ccc(-c2cc(C(=O)NCC[NH+](C)C)c3ccccc3n2)cc1', 'CN(C)C1(c2ccccc2)CCC(NC(=O)OC(C)(C)C)(C(=O)O)CC1', 'COCCN(Cc1cccc(CN(CC2CO2)CC2CO2)c1)CC1CO1', 'CC(C)(CN)OC(=O)C1CCC(COC(=O)NCc2ccccc2)CC1', 'CCOc1ccc(CCNC(=O)C(=O)N2CCCCCC2)cc1OCC', 'COCCn1nnnc1C(C(C)C)N1CCN(c2ccc(F)cc2)CC1', 'N#CC(c1cccc(NC2CCCC2)n1)c1ccnc(NC2CCCC2)n1', 'NC1CCC(Nc2cc(Nc3ccc4c(c3)CCC4)c3nccn3n2)CC1', 'CC(C)(C)OC(=O)NCC[C@]1(c2ccccn2)CCO[C@]2(CCOC2)C1', 'C=CCCC1CC=C(c2ccc(CCCCCCC)c(F)c2Cl)CC1', 'CCC[SiH2]CC1CCC(C2CCC(c3ccc(Cl)cc3)CC2)CC1', 'CCC1C=CC(C2C(c3ccc(C(F)(F)C(C)(C)F)cc3)C2(C)C)=CC1', 'COC(=O)c1c(C)c(C(=O)C(C)N(CC(C)C)C(=O)C2CC2)c(C)n1C', 'CCN(CC)C(=O)[C@@H]1CCC(=O)N(CCOC)[C@H]1c1ccccc1OC', 'COc1cc(C(=O)NC2CCC3CCN(C)CC3C2)cc(OC)c1OC', 'CNc1ccc(Nc2nccc(Nc3c(C)ccc(N(C)C)c3C)n2)cc1', 'CCCCN(C)C(=O)C1CCN(C(=O)c2ccc(OC)c(OC)c2)CC1', 'C=CC(=O)NC(C)C(C)CCN(CCCC)C(C)CCS(=O)(=O)O', 'CSNCCOCCOCCOCCC(=O)N1CCC(C)(C)CC1', 'CC(C)c1cnc(N2CCN(C(C)c3ccc4nccnc4c3)CC2)nc1', 'CCOc1ccc(C(=O)NCCCN2CCCCCC2=O)cc1OCC', 'Cc1ccccc1OCCCC(=O)N1CCN(C(=O)OCC(C)C)CC1', 'COc1cc(C(C)=O)ccc1OCC(=O)NCC(C)N1CCC(C)CC1', 'CC(C)c1ccc(OCCC(=O)N2CCC(N(C)CC(=O)O)CC2)cc1', 'CC(C)(C(=O)Nc1ccc(OCC2CCCCO2)cc1)N1CCOCC1', 'Cc1ccc(N)c(/C=C/CN(C(=O)OC(C)(C)C)C(=O)OC(C)(C)C)c1', 'COC[C@@H]1CN(C)CC12CCN(C(=O)COc1ccccc1OC)CC2', 'CC.CC(C)c1ncnc2ccccc12.Cc1cc(-n2cccn2)ncn1', 'CC(C)(C)OC(=O)N1CCC(C(=O)N(CCO)Cc2ccccc2)CC1', 'CC1(C)[C@@H](Cn2cncn2)CC[C@@]1(C)NCC(=O)N1C[C@@H](F)C[C@H]1C#N', 'Cc1cccc(-c2ncc(CNCc3nncn3C3CCCCC3)cn2)c1', 'CCCC1CN(Cc2ccccc2C(=O)O)CCN1C(=O)OC(C)(C)C', 'CC(CCc1ccccc1)N1CCN(c2nnnn2-c2ccccc2)CC1', 'CC(C)(C)OC(=O)N1CCC(C(=O)NCCCc2ccc(O)cc2)CC1', 'CCCC1CCC2C(CCC3C=C(c4cc(F)c(F)c(F)c4)CCC32)C1', 'CCOc1c(OC)cc(CNC(=O)[C@@]23CCCC[C@H]2CNC3)cc1OC', 'CCCCCCCC[C@@H](NC(=O)c1cccc(NC(C)=O)c1)C(=O)OC', 'CCOCCOc1cccc(NC(=O)N2CCCC3(CCOCC3)C2)c1', 'CCOc1ccc(C(=O)N2CCN(C(=O)C(C)(C)C)CC2)cc1OCC', 'C=Nc1c(-c2cncc(C)c2)cnn1/C=C(C(=C/N)/C=N/C)\\\\C1CCCC1', 'O=C(CN1CCCCCC1)N[C@@H]1CCOC[C@H]1Oc1ccc(CO)cc1', 'CC(CNc1nc(-c2ccncc2)nc2ccccc12)N1CCN(C)CC1', 'COC12CCC(OCC3CC3)CC1N(C(=O)c1cc(C(C)C)on1)CC2', 'Cc1cccc(NC2CCN(c3cncc(-n4nc(C)cc4C)n3)CC2)c1', 'COC(=O)C[C@@H](NCc1ccccc1)[C@@H]1CCCN1C(=O)OC(C)(C)C', 'C1=Nc2[nH]ccc2C2=C(C3CCN(CCCc4ccccc4)CC3)NNN12', 'c1ccc(N2CC[C@H](Cn3ccnc3-c3cc4n(n3)CCCNC4)C2)cc1', 'CCc1c(-c2ccc(N=C(N)N)nc2)[nH]c2ccc(C3CCNCC3)cc12', 'CCOc1ccc2c(c1)CC(C(=O)NCC1(COC)CCNCC1)CO2', 'Cc1cc(-n2cccn2)ccc1CN1CCN(c2ncnc(C)c2C)CC1', 'CC(C)(C)C1OCCCC1CNC(=O)NCC1COc2ccccc2O1', 'COc1ccc(OCCNC(=O)C(C)(C)C(=O)N2CCCC(C)C2)cc1', 'Cc1cccc(CN2CCN(c3cc(-n4nc(C)cc4C)ncn3)CC2)c1', 'Cc1ccc(-c2nccnc2N2CCN(Cc3cn(C)nc3C)CC2)cc1', 'CCOc1ccc(C(C)NC(=O)CNC(=O)C2CCCC2)cc1OCC', 'CC(C)(C)OC(=O)C1CCCCN1C(=O)[C@@H](O)[C@@H](N)Cc1ccccc1', 'CC(C)(C)OC(=O)N1CCC(Oc2ccc(N3CCOCC3)cc2)CC1', 'CCCCCCCCCCCCCCCCCC(=O)O.[Na+].[Na+].[S-2]', 'COc1ccc(CN2CCC3(CCC(=O)N(CC(C)O)C3)CC2)cc1O', 'CC(C)(C)OC(=O)N1CCCCC(CNC(=O)OCc2ccccc2)C1', 'CN(CCc1ccncc1)c1nncc(Nc2ccccc2C(C)(C)C)n1', 'CC(=N/O)/C(C)=N\\\\N=C(C)/C(C)=N\\\\N=C(C)/C(C)=N\\\\N=C(C)/C(C)=N\\\\O', 'CCC(CC)N(CCOC)C(=O)CCN1C(=O)C(C)Oc2ccccc21', 'CCCN1C[C@@H]2CC[C@H]1CN(Cc1ccc(OC)c(OCC(=O)O)c1)C2', 'CCN/C(=N\\\\Cc1ccc(-n2ccnc2C)nc1)N(C)Cc1ccccc1', 'CCOC(=O)C1CCN(C(=O)CNc2cccc(OCC(C)C)c2)CC1', 'c1cncc(-c2ccc3nnc(C4CCN(C5CCCCC5)CC4)n3n2)c1', 'COc1ccc(C(=O)N2C[C@@H](CN3CCCCCC3)[C@@H](CO)C2)c(O)c1', 'CC(C)COc1ccc(C(C)NC(=O)N2CC(C)CC(C(=O)O)C2)cc1', 'CCCCCCCCCC[C@H](C(=O)CC(=O)OCC)[C@@H](CCl)OC', 'CC1(C)Cc2c(C#N)c(NC3CCCCC3)[nH+]c(-c3ccccc3)c2CO1', 'COC(=O)c1ccc(N(C)CC2CCCCN2C(=O)OC(C)(C)C)cc1', 'COc1ccc(C(=O)N[C@H](CC(C)C)C(=O)N2CCCCC2)cc1OC', 'C/N=C(\\\\NCCc1cc(C)cc(C)c1)NCc1ccc(-n2cncn2)cc1', 'C/N=C(\\\\NCCCc1ccccc1)NCc1ccc(-n2ccnc2C)nc1', 'Cc1cccc(Nc2cccc([C@H]3CCCN3Cc3cn(C)nc3C)n2)n1', 'CC(C)(C)OC(=O)N[C@@H](CCc1ccccc1)CC(=O)N1CCOCC1', 'Cc1cccc(CCN2CCN(c3ccc4nnc(C5CC5)n4n3)CC2)c1', 'COC(=O)C1CCN(CC(O)COc2ccc(CN3CCC3)cc2)CC1', 'COc1cccc(CN(C(=O)CC(C)(C)C)[C@@H]2CN[C@](C)(C(=O)O)C2)c1', 'O=C(COC(=O)C12CC3CC(CC(C3)C1)C2)NC(=O)NC1CCCCC1', 'CC(C)[C@@H]1CC[C@@H](C)C[C@H]1OC(=O)C(=[N+]=[N-])C(=O)COC1C=CCCC1', 'CCOC1CCNCC1NC(=O)C(C(N)N)C1NCC(Cl)CN1C', 'CCO[C@@H]1OC(C(=O)Nc2cccnc2)=C[C@H](C(C)(C)C)[C@@H]1CCCO', 'CCOC(=O)C[C@@H]1CN(Cc2ccccc2)C[C@H](CC(=O)OCC)N1C', 'CCc1c(C)cc(C(=O)NC2(CC(=O)O)CCC2)c(=O)n1CCC(C)C', 'CC(CCN1CCn2nc(CNc3ncccn3)cc2C1)c1ccccc1', 'Cc1nccn1Cc1cccc(CNc2cc(N3CCCCC3)ncn2)c1', 'C.CN1CCC[C@@H]1Cn1c(Cn2nnc3ccccc32)nc2ccccc21', 'O=c1cc(CN2CCOCC2)occ1OC[C@@H]1CCCN2CCCC[C@H]12', 'C/N=C(/NCCC(c1ccccc1)c1ccccc1)NCc1nncn1C', 'CC(C)N1CCCc2cc(CC(NC(=O)OC(C)(C)C)C(=O)O)ccc21', 'C[C@H](NC(=O)C[NH+]1CCC[C@@H]1c1cccn1C)c1cccc2ccccc12', 'COCCN1C(=O)CC[C@@H](C(=O)NCC(C)C)C1c1cccc(OC)c1', 'COc1ccc2c(c1)OCCNCCCC[C@@H]1[C@H](OC)CCCN1C2=O', 'CC[C@@H](C)N(CC(=O)N(Cc1ccco1)C[C@@H]1CCCO1)C(=O)C1CC1', 'C[C@H](OC(=O)CCCCCNC(N)=O)C(=O)c1ccc(C(C)(C)C)cc1', 'CC(C)(C)OC(=O)N1CCCC1(CCCNCc1ccccc1)C(=O)O', 'N[C@@H](CC(=O)OCc1ccccc1)C(=O)N[C@H](CO)CC1CCCCC1', 'COc1ccc(CN2C(=O)CC[C@]2(C)C(=O)NCCC(C)C)c(OC)c1', 'CC(=O)c1cc(F)c(N2CCC3(CC2)CCN(C2CCC2)CC3)c(F)c1', 'O=C(Nc1ccccc1)[C@@H]1O[C@H](CCN2CCC(CO)CC2)CC[C@@H]1O', 'C=C1CC(CCCCCCCCCCn2cc(C)c(=O)[nH]c2=O)OC1=O', 'COc1ccc(C(=O)N2CCC[C@H](CN(C)C(=O)OC(C)(C)C)C2)cc1', 'ClNC1CCN(C2CCN(NC3(c4ccccc4)CCCC3)CC2)C1', 'CC(C)Cc1cc(C(=O)N2CCCC2C2COCCC2(C)O)cc(=O)[nH]1', 'O=C(O)[C@@H]1CCCN(Cc2ccccc2OCCCN2CCOCC2)C1', 'CC1(C(=O)N2CCCN(CC[C@@H](O)c3ccccc3)CC2)CC1.O=CO', 'Cc1nc(N2CC(c3nc4ccccc4n3C)C2)cc(N2CCCC2C)n1', 'CCC(c1ccccc1)N(CC(=O)OC)CC(=O)N1CC(C)OC(C)C1', 'CC(C)N(C(C)C)[C@H]1C[C@@H](C(=O)O)CN(C(=O)OCc2ccccc2)C1', 'CCOC(=O)N1CCC(NC(=O)c2ccc(CCC(C)(C)O)cc2)CC1', 'CC#CC[C@H](C)[C@@H](/C=C/[C@H]1CCC(=O)N1CCCCCCC(=O)O)N=O', 'CCCN(CC(=O)N1CCc2cc(OC)c(OC)cc2C1C)C(=O)CC', 'CC(C)C[C@H](NC(=O)[C@@H](CC(C)C)NC(=O)Cc1ccccc1)C(=O)O', 'CCOc1ccc(C(=O)N[C@@H]2CCCC[C@H]2NC(=O)OC(C)(C)C)cc1', 'CCN(CC)c1ccc(Nc2cnnc(NCc3ccccc3C)n2)cc1', 'CCOC(=O)C1CCN(C(=O)CNc2ccc(OCC(C)C)cc2)CC1', 'CCCC(N)N(C(=O)[C@@H](N)Cc1cnc[nH]1)C(=O)[C@@H](N)Cc1cnc[nH]1', 'CCOC(=O)CN(CC(=O)N1CCCc2cc(OC)ccc21)CC(C)C', 'Cc1cccc(OCCNC(=O)C(C)N2CCCC(CCC(=O)O)C2)c1', 'COc1cc2c(cc1OCCC[18F])CCN1C[C@@H](CC(C)C)C(=O)C[C@H]21', 'CC(C)N(Cc1nc2cccnc2n1Cc1nc2ccccc2[nH]1)C(C)C', 'COc1ccc(CNC(=O)CN2CCC[C@]3(CCC[C@H]3O)C2)cc1OC', 'Cc1nnc(C/N=C(\\\\NC2CC2)NC(C)c2ccc3ccccc3c2)n1C', 'COC(=O)C(CC(C)C)NC(=O)C1CCN(Cc2cccc(O)c2)CC1', 'COc1ccc(OC)c(NC(=O)CCN(C(C)=O)C2CCCCCC2)c1', 'CCCN(CC(=O)N(Cc1ccco1)C[C@H]1CCCO1)C(=O)C1CCC1', 'CC[C@H]1CN(C(=O)OCc2ccccc2)C[C@H]1C(C)C(C)(C)OC(N)=O', 'O=C(CCCc1c[nH]c2ccccc12)N[C@@H]1CC[NH+](Cc2ccccc2)C1', 'CCOCCCN/C(=N\\\\Cc1cccc(F)c1)NCc1nnc(C)n1C', 'CC1CCC(CCN=O)(COCc2ccccc2)N1C(=O)OC(C)(C)C', 'CN1[C@@H]2CC[C@H]1CC(OC(=O)/C=C\\\\C(=O)OC1C[C@@H]3CC[C@@H](C1)N3C)C2', 'CC1CCC(N2CC(C(=O)N3CCC4(CC3)CC4C(=O)O)CC2=O)CC1', 'C/N=C(/NCCCc1nnc2ccccn12)NCC1(c2ccccc2)CC1', 'Cc1nc(N2CCC3(CCCC3N)CC2)n2ccnc2c1-c1cccnc1', 'CCOc1ccc(/C=C/C(=O)NCCC(=O)NC(C)CC)cc1OCC', 'COC(=O)C1(NC(=O)c2ccccc2OC)CC(C)(C)N(C)C(C)(C)C1', 'CCOc1ccccc1NC(=O)CN(CC1CCCO1)CC1CCCO1', 'Cc1c(C)c(N(CC(C)C)C(=O)[O-])c(C)c(C)c1N(CC(C)C)C(=O)[O-]', 'CC(=O)CC[N+]1=C(/C=N\\\\N(C)c2ccc(C)cc2)C(C)(C)c2ccccc21', 'CCC(C(=O)N1CCC(Oc2ccccc2OC)CC1)N1CCOCC1', 'CC(C)CCC(=O)NC[C@H]1[C@H]2CN(CCC(F)(F)F)C[C@]23CC[C@H]1O3', 'Cc1nc2ncnn2c(N2CCC(F)(CNC(=O)C(C)(C)C)CC2)c1C', 'CC[C@@]1(CO)N[C@H](c2cc3c(cc2OC)OCCCO3)[C@@H]2CN(C)C[C@@H]21', 'COCCCNc1cccc(F)c1N1C(N)=NC(N)=NC12CCCCC2', 'Cc1cccc(C/N=C(\\\\NCc2ccccc2)NCc2nnc(C)n2C)c1', 'CCOc1ccc(CNC(=O)C2CCCCN2C(=O)C(C)C)cc1OC', 'CCC(NC(=O)C(C)OCC1CC1)c1ccccc1OCC(=O)N(C)C', 'CC(C)CN(CC(C)C)C(=O)COC(=O)C(C)NC(=O)c1ccccc1', 'C=CCc1cc(C(=O)N(CC)CC(=O)NC(C)(C)C)cc(OC)c1OC', 'CCOC(=O)[C@H](CCc1ccccc1)NC(=O)[C@@H](CC(C)C)NC(C)=O', 'Cc1ccc(OC2(C(=O)N3C[C@H](OC(C)C)[C@@H](O)C3)CCNCC2)cc1', 'CCC(=O)[C@@H](CC(C)C)NC(=O)[C@H](Cc1ccc(O)cc1)NCC(C)=O', 'Cc1nn(-c2ccccc2)c(Cl)c1C[NH2+]C1CC(C)(C)[NH2+]C(C)(C)C1', 'CCC1CCCCN1C(=O)CNC(=O)CCc1ccc(OC)c(OC)c1', 'CCCCCNC(=O)CCC[C@@H](NC(=O)c1ccccc1)C(=O)OCC', 'CC(=O)NCc1ccc(C(=O)OCC(=O)N(CC(C)C)CC(C)C)cc1', 'CCOC(=O)c1c(C)c(C(=O)[C@@H](C)N(CC)C(=O)C2CCC2)c(C)n1C', 'Cc1cccc(C2=CCN(CCCC(=O)C3CCC(F)(F)CC3)CC2)n1', 'CC(=O)C(C)(C)c1ccc(N(CC(C)C)C2CCOCC2)c([N+](=O)[O-])c1', 'NCCCOC1CCN(C(=O)c2ccc(OCC3CCCO3)cc2)CC1', 'CCOC(=O)C1CCCN(C(C)C(=O)NC(C)c2ccccc2OC)C1', 'CC1=C(C(=O)O)C(C2CC2)N(CC2CCCC2O)C(N2CCOCC2)=C1', 'CN(Cc1ccccc1)[C@@H]1[C@H](O)[C@H](CO)O[C@@H]1CNC(=O)C1CCCC1', 'Cc1cc(-c2c3c(nc(C(C)(C)C)c2-c2nn[nH]n2)CCCCC3)ccn1', 'O=C1N2CN3CCCN(C3)CN3C(=O)N4CN5CCCN(C5)CN1C4C23', 'COc1ccc(C(=O)NC[C@H](O)CN2CCCCC2)c(OCC2CC2)c1', 'Cn1c(Cn2ccnc2)nnc1[C@H]1CCCN(C2Cc3ccccc3C2)C1', 'CN(C(=O)OC(C)(C)C)C1(CNC(=O)OCc2ccccc2)CCCC1', 'COc1cccc(CN2CC3(CCN(CCOCCO)CC3)CC2=O)c1', 'CC(C)Oc1ccccc1NC(=O)C1CCCN(C(=O)OC(C)(C)C)C1', 'C=CCCCC1CCC(C2CCC(c3ccc(F)c(Cl)c3)CC2)CC1', 'CCN(C(=O)c1ccccc1O)[C@H]1CCC[C@@H](NC(=O)OC(C)(C)C)C1', 'COc1cc(OC)cc(C(=O)N2CCC(N3CCC(OC)CC3)CC2)c1', 'O=C1N(Cc2ccc(F)c(F)c2)CCC[C@@]12CCN(CC1CCCC1)C2', 'CCOc1ccc(C(=O)NCC(=O)NCC2CCCCC2)cc1OCC', 'CN(C)CCOc1ccccc1CCNC(=O)C1CCCCC1C(=O)O', 'CCN/C(=N\\\\Cc1ccnc(-n2cccn2)c1)NCc1ccc(C)cc1C', '[H]/N=C1\\\\C=CC=C2CN(CCc3cccc(C4(CCN(C)C)CC4)c3)C([O-])=C21', 'c1ccc2nc(N3CCCCC3)c(CNC3CCc4ncnn4C3)cc2c1', 'COc1ccc(C(=O)N2CCC(N3CCCCC3)CC2)c(OC)c1OC', 'COC(=O)[C@H](CC(=O)[C@@H](N)CCCCNC(=O)c1ccccc1)C(C)C', 'C=C1NC=Cc2cc(Nc3cc(C)ccn3)nc(NCC3CCNCC3)c21', 'CCOC(=O)C[C@@H](c1ccc(OC)nc1)N1CCC(CCCC(C)=O)C1', 'COc1cc(/C=C/C(=O)NCCN2CCC[C@@H](C)C2)cc(OC)c1OC', 'CC(C)CC(=O)NC(C(=O)Nc1ccc(CC(C)C(=O)O)cc1)C(C)C', 'CN(C)c1ccc(-c2cc(-c3cc(N)c(N4CCNCC4)[nH]3)ccn2)cc1', 'COCCC(=O)N1CCC[C@@H](CCC(=O)NCc2cccc(OC)c2)C1', 'CC(C)[C@H](CC(=O)NC1CCCCC1)ONC(=O)OCc1ccccc1', 'COCC(=O)N1CCCN(C(=O)C(C)Oc2ccccc2C(C)C)CC1', 'CCN(CC)C(=O)C(C)(C)C(=O)N1CCc2cc(OC)c(OC)cc2C1', 'CCC[C@H]1CN(C(=O)OC(C)(C)C)CCN1Cc1ccccc1C(=O)O', 'C=CCNCc1ccc(OC[C@H](O)CN2CCC(C(=O)OC)CC2)cc1', 'Cc1ccc(-c2c(C(C)C)cc(C(C)(C)C(F)(F)F)cc2C(C)C)cc1', 'CC[C@H](C(=O)N1CCC(Oc2ccccc2OC)CC1)N1CCOCC1', 'C/C(=C/c1ccc(N[C@@H]2CCNC2)c2nnc(C)n12)NCc1ccccc1', 'CC(C)(CC1=CC=CC=C1)N', 'C=C(C)/C=C/C=C\\\\C(C)=N\\\\C', 'CC1=CC2C[C@@]3(C)CC(C1)N23', 'C=C(CC)C(C)=C=C/C=N/C', 'C=C(/N=C/C=C\\\\C)/C(C)=C/C', 'CC1C=CC(C2(N)CC2)=CC1', 'CCc1cc(C)ccc1CN', 'CC1=CCCC(C)(C#N)CC1', 'Cc1cnccc1C(C)(C)C', 'CCC1=CN=C(CC)C=CC1', 'CC.CCCCNC(=O)F', 'CC/C=C\\\\CC/C=C/CC#N', 'CCc1ccc2c(c1)CCN2.[H][H]', 'C=NC1=C(/C=C\\\\C)C(C)CC1', 'C=Cc1cc(C)ccn1.CC', 'CCCCCc1ccncc1', 'COC(C)CNCCCF', 'C=CNC1=C(C)C[C@H](C)C=C1', 'C/C=C/c1cc(CCC)c[nH]1', 'CC[C@@H](C)c1cc(C)ccn1', 'CC1=CC=C/C(=C\\\\C(C)C)N1', 'CN(CCO)CCCCF', 'CCC(C)c1cccc(N)c1', 'C1=CC2(C=CCCN2)CCC1', 'CCN/C(C)=C1/C=CC=CC1', 'CC/C=C(\\\\C)C1=CC=NCC1', 'CC1=C/C=C\\\\CCC/C(N)=C\\\\1', 'C=CC1=C(C)NC(C)C(C)=C1', 'C=CCCC1=C(C)CCN=C1', 'CNCC1=CCC=CC(C)=C1', '[H]/N=C1\\\\CC=CC=C1C(C)(C)C', 'CCOCC(F)(CC)CN', 'C=C/N=C1\\\\CCCC\\\\C1=C\\\\C', 'CCC/C=C(C)\\\\C=C/CC#N', 'CNC[C@H](C)c1ccccc1', 'C=C(C)C1=C[C@@H](CN)CC=C1', 'CC1NCC2C3C=CC(C3)C12', 'CCCCC1=CC=CNC=C1', 'CC(C)C1=CCC(C#N)CC1', 'CC(C)/C=C/c1ccn(C)c1', 'CC1CCC2=C(C=CCC2)N1', 'C1=CC2CCCNC2C=CC1', 'Cc1cc(C)c(C(C)C)cn1', '[CH2-][NH2+]C(CC)c1ccccc1', 'C=CC.CCc1ccncc1', 'NC1C=CC2=C(CCCC2)C1', 'C=C/C(=C\\\\C)C(=C)NC(=C)C', 'C/C=C/CC/C=C/CCC#N', 'CCc1cc(C)c(C)c(N)c1', 'C=CCC(/C=N/C=C\\\\C)=C\\\\C', 'C1=C[C@H]2CC[C@@H]1[C@H]1CNC[C@H]12', 'CC(C)(C)C1=CN=CCC=C1', 'CCCc1cccc(NC)c1', 'NC1C=CC2C=CCCC2C1', 'CN1CCC2=CC=CCC2C1', 'CC1=CN/C(=C/C(C)C)C=C1', 'CCC#CC1=C(N)CCCC1', 'C=C1C(=C2CCC2)C1(C)CN', '[CH2][N+](C)(C)Cc1ccccc1', '[H]/N=C/C/C=C\\\\C=C(\\\\C)CC=C', 'C/C=C\\\\C=C/C=N/C(C)=C/C', 'CCC1(n2cccc2)CCC1', 'c1ccn(CCC2CCC2)c1', 'C=C/C=N/C1=C(C)CCCC1', 'Cc1cc(C(C)C)cnc1C', 'CC(C)COC[C@H](F)CN', 'C#CCCCC1=CC(N)CC1', 'CC(C#N)C1CC2CCC2C1', 'CC1CCCc2c1ccn2C', 'C=CC(=C/C)/C(C)=N/C(=C)C', 'C=C(C)C=CC(C)(C)CC#N', 'C=NC1=C(C)C(C)CCC=C1', 'CC.CNC(=O)C(C)(C)F', 'CC=CC=CC1=NCC(C)C1', 'C=c1c(CC)c(C)n(C)c1=C', 'C=CN(C)CC1=CCCC=C1', 'C[C@H]1[C@@H]2C[C@@H]([C@@H]1C#N)[C@H](C)C2', 'C=CC(=C)C(=C/C)/C=N/CC', 'C=CC1=C(C=C)C(C)NCC1', 'C/C=C1/C=CC(C(C)C)=CN1', 'CC1CC(C#N)(C2CCC2)C1', 'CC/C=C1/CCCC(C#N)C1', 'N[C@H]1CC[C@@H]2[C@H]1[C@H]1C=C[C@H]2C1', 'N#CC12CCCCC1CCC2', 'C=C=NCC1CC2CCC1C2', 'CC[C@@H](N)c1ccccc1C', 'C#CC1CC2CCC(N)CC12', 'CN(C)CC1=CC=CC=CC1', 'C=C/C=C\\\\C/C(N)=C/C=C\\\\C', 'C=C(/C=C\\\\C)CC(C#N)CC', 'CC1=C[C@H](C)[C@@H](C#N)[C@H](C)C1', 'COC[C@@H](N)CC(C)(C)F', 'C=CC12C(C[C@@]3(C)CC13)N2C', 'C=C(NC)C1=C(C)C=CCC1', 'CC.CC1=CC(C#N)=CCC1', 'CCc1ccc(C(C)N)cc1', 'CC1=C(C)C=CC(C)(N)C=C1', 'N[C@@H]1C=CC[C@H]2CC=CC[C@H]21', 'C=C/N=C/C(=C(C)C)C1CC1', 'C/C=C\\\\C=C/C1CC=CCN1', 'COCCN(C)CC(C)F', 'CC1CCCc2ncccc21.[H][H]', 'C#CC1=C(CCC)CNCC1', 'C=C1/C=C\\\\C=C/CCCCN1', 'CCNCCc1ccccc1', 'CC1=CC2C(C=C1)CCN2C', 'C=C[C@](C)(N)C1=CC=CCC1', 'C=C1C=C(C)C(C(C)C)=CN1', 'C=C/C=C\\\\C=C(/C)CC(=C)N', 'CC(C)C(O)CNCCF', 'C=C(C)C(/C=C\\\\C)=N\\\\C=C/C', 'C#CCCNC1CC=CCC1', 'C=Cc1c(C)c[nH]c1C(C)C', 'C=CC(=C)/C(N)=C\\\\C(C)=C/C', 'C1=C[C@H]2CC[C@@H]1C1CNCC12', 'CCc1cccc(N(C)C)c1', 'CC1(C)CN=C2CCCC=C21', 'CCCCC1=CC=CCN=C1', 'CC(C)(C)C1CCC=C1C#N', 'C=CC(=C)C/C(C)=C/C=C\\\\N', 'CC(O)CCN(C)CCF', 'CCCCC1=NC=CC=CC1', 'C=CC(=C\\\\C)/C(C)=C\\\\N=C\\\\C', 'C#CCC(N)C1CC2CC2C1', 'CC1=CN(C)C(C)=C(C)C=C1', 'C=C(N)C1=CCCC(=C)[C@H]1C', 'CC1=CC=CN(C(C)C)C=C1', 'CC1C2CC3(N2)C1C31CC1C', 'C=C/C=N/C(=C)C#CC.CC', 'CC1=CC(C(C)C)=CC=CN1', 'CCc1ccc(C)c(N)c1C', '[H]/N=C/C(C)=C(C)/C=C\\\\C(=C)C', 'CCC(C1CC1)n1cccc1', 'CNC(C)c1ccc(C)cc1', 'CC(C)=C[C@H]1[C@H](C#N)C1(C)C', 'CCC1C=C2NCCC2=CC1', 'C=C1C=CC(C(C)(C)C)=NC1', '[H]/N=C1\\\\C=CC=C(C(C)(C)C)C1', 'C=C(C)/C(C#N)=C/C(C)(C)C', 'C#CCC(N)C1C2CCCC21', 'C=C1CCCN2CC=CCC12', 'COCCCNCCCF', 'C=C.Cc1cccc(CN)c1', 'CNCCCc1ccccc1', 'C=C(C)/C=C\\\\C(=C)C#N.CC', 'C=CC1(C2CC2)C(=C)NC1C', 'C=C/C=C/CC/N=C/C=C\\\\C', 'C=CC(/C=C\\\\C(=C)C)=C(\\\\C)N', 'Cn1ccc2c1CCCCC2', 'CCC(CC)c1cccnc1', 'C=CCCC1=NC=CC(C)C1', 'CC1=CC=CC(N(C)C)C=C1', 'CC/C=C(\\\\C)C1=C(CC)N=C1', 'C=C/C(C)=C\\\\N/C=C(\\\\C)C=C', 'CN1C/C=C/C=C\\\\C=C\\\\CC1', '[H]/N=C/CCC1=CC=CCC1C', 'CN(C)[P+](C)(C)N(C)C', 'CC(C)C1=CC=CN(C)C=C1', 'CC1C=CN=CC(C(C)C)=C1', 'C=CC=C.N.c1ccccc1', 'C=C(C=CCCCC)CC#N', 'C#CCN(CC#C)CCCC', 'N#CCC=CC1CCCCC1', 'CC1CC1(C#N)C1CCCC1', 'C/C=C1/C=CC=CN1C(C)C', 'COCC(C)(C)NCCF', 'C=C(C)C1=NC=CC(C)C1C', 'Cc1cccc(C[C@@H](C)N)c1', 'C1C2CC3CC4(C2)NC1CC34', 'C=CNC1=CCC(CC)C=C1', 'C=C/C=C1/CC(C)N/C1=C/C', 'CCCC(/C=C1\\\\C=N1)=C(C)C', 'C1=CC2=C(CC1)NCCCC2', 'C=C/C=C\\\\C(=C)C1CCCN1', 'CC(=CC#N)CC=CC(C)C', 'NC1=CC=CC12CCCCC2', 'C=Cc1[nH]ccc1C(C)(C)C', 'C=C/C=C(\\\\C=C(C)C)NC=C', 'C1=CCC2CCCCNC2=C1', 'C=C1C=NC(C(C)(C)C)=CC1', 'CNC.c1ccc2c(c1)CC2', 'CCC=C1CCCC(C#N)C1', 'CCCN(C)c1ccccc1', 'CCN(CCF)CCOC', 'N#CC1CCC2(CCCC2)C1', 'COCC(C)CNCCF', 'C=C1CNCC/C1=C/C=C\\\\C', 'C#C/C=C(\\\\N=C\\\\C)C(C)(C)C', 'CC(N)=C1C(C)C12C1CCC12', 'C=C(C)CCC(=C)CCC#N', 'CNCc1c(C)cccc1C', 'CC[C@H]1c2cccn2C[C@H]1C', 'C=CCCC/C(C)=C(\\\\C)C#N', 'N/C=C/CC12C=CC(CC1)C2', 'C/C=C\\\\C(C)=C/C.C=CC#N', 'CC1(C)CC2CCC1(C#N)C2', 'CCC1=CCC=C(C)/C1=N\\\\C', 'C#C/C=C\\\\C(=N/C)C(C)(C)C', 'CC/C=C\\\\C=C1\\\\NC=CC1C', 'C1=CC(CN2CCCC2)C=C1', 'C=CC(C)(C#N)CCC(=C)C', 'C=C1C=C(N)CC2(CCC2)C1', 'C#CC1CCCC(CC=C)N1', 'CNCCc1ccc(C)cc1', 'CC(O)C(C)(C)NCCF', 'C=CCC(C#N)(C=C)C(C)C', 'C=CC(C#N)(CC)C/C=C/C', 'CC(C)C1(C#N)C=CCCC1', 'CC1C=CC=C(C(C)C)C=N1', 'CC(C)(C)Nc1ccccc1', 'C=C/C=C\\\\C1=C(C)CCC1N', 'CC1=CCN2CCCCC2=C1', 'CC.CNCCC(=O)CF', 'C/C1=C/C=C\\\\C=C(\\\\CN)CC1', 'CC(C)[C@@H](C)c1ccccn1', 'CN[C@@H](C)C1C=CC=CC=C1', 'CCOCCNCCCF', 'C=C(/C=C\\\\C=C/CC)/C=N/C', 'CC=CCC1(C#N)CCCC1', 'CNC1CC1[C@@H]1C=CC=CC1', 'C=C1CCN2CCC=CC2C1', 'C=CC(=C)C1=CCCN1CC', 'C=Cc1c(C)cccc1NC.[H][H]', 'C#CN[C@@]12CCC[C@H](CC1)C2', '[CH2-][NH2+]CCc1cccc(C)c1', 'CC1=CC(C)(C)C=C(N)C=C1', 'C#CC1(C)CNC2(CCC2)C1', 'CC(C)(C#N)C1C=CCCC1', 'Cc1cccc(C(C)(C)C)n1', 'CCC1(C)C=CC(C)=CC=N1', 'C=C1CC(N)C/C1=C/C=C\\\\C', 'CC12CC3CC(=N1)CC(C3)C2', 'Cc1cccc(C(C)(C)N)c1', 'CC/C=C\\\\C=C/C(C#N)CC', 'CCc1c(C)cc(C)cc1N', 'C1=CC2CN3CCCC3C2C1', 'CC(C)(C)C1C=CC=CN=C1', 'CC(C)(C#N)[C@H]1C=CCCC1', 'CC=CCCCC=CCC#N', 'C=CC(N)CC1C=CC=CC1', 'C#CCCN1C2CCC1CC2', 'Cc1cc2c([nH]1)CC(C)CC2', 'C=C/C=C\\\\C1=C(C)CC(C)N1', 'CC(C)/C=C/c1cccn1C', 'CC1=CC2=C(CC1)CNCC2', 'C#CC1(NCC2CC2)CCC1', 'CC1CCN(C)C2=C1CC=C2', 'NCCC1C2=CCCC3C2C13', 'C=CC1=C(/C=C\\\\CC)NCC1', 'CC(C)=C(C)/C(C)=C(/C)C#N', 'C=C1CC(C)=C(/C=C\\\\CC)N1', 'CC1=c2cc[nH]c2=CCC1C.[H][H]', 'C[C@H](c1ccccc1)N(C)C', 'CCC1=C/CC/C=C(C)/N=C\\\\1', 'C1=CCNC(CCC2CC2)=C1', 'CC(C)(N)C1=CC=CC=CC1', 'CCCCCCCCCCCCCCCC(=O)OC[C@H](COP(=O)([O-])OCC[N+](C)(C)C)OC(=O)CCCCC/C=C\\\\C/C=C\\\\C/C=C\\\\C/C=C\\\\CCCCC', 'CC/C=C/C=C/C=C/C=C/CCCCCCCC(=O)OC[C@H](COP(=O)(O)OCCN)OC(=O)CCCCCCCCCCCCCCCCCCCCCC', 'CCCCCCCC/C=C/C/C=C/C/C=C/CCCC(=O)OC[C@H](COP(=O)([O-])OCC[N+](C)(C)C)OC(=O)CC/C=C/CCCCCCCCCCCCC', 'CC/C=C\\\\C/C=C\\\\C/C=C\\\\C/C=C\\\\CCCCC(=O)OC(COC(=O)CCCCCCCCCCCCCCCCCCCCCC)COP(=O)(O)OCCN', 'CCCCCCCC/C=C/C/C=C/CCCCC(=O)OC[C@H](COP(=O)([O-])OCC[N+](C)(C)C)OC(=O)CCC/C=C/C/C=C/CCCCCCCCCCC', 'CCCCCCCC/C=C\\\\C/C=C\\\\C/C=C\\\\CCCC(=O)O[C@H](COC(=O)CCCCCCC/C=C\\\\CCCCCCCC)COP(=O)([O-])OCC[N+](C)(C)C', 'CCCCCCCC/C=C\\\\C/C=C\\\\C/C=C\\\\CCCC(=O)OC[C@H](COP(=O)([O-])OCC[N+](C)(C)C)OC(=O)CCCCCCC/C=C\\\\CCCCCCCC', '[2H]C([2H])([2H])c1cc2c3c(c1)N(c1cc4c(cc1C)C(C)(C)CCC4(C)C)c1ccc(C(C)(C)C)cc1B3c1cc3c(cc1N2c1ccc2c(c1)C(C)(C)CC2(C)C)C(C)(C)CC3(C)C', 'CCCCCC=CCC=CCC=CCC=CCCCC(=O)OC(COC(=O)CCCCCCCCCCCCCCCCC)COP(=O)([O-])OCC[N+](C)(C)C', 'CCCCC/C=C/C/C=C/C/C=C/C/C=C/CCCC(=O)O[C@H](COC(=O)CCCCCCCCCCCCCCCCCCCC)COP(=O)(O)OCCN', 'CC/C=C\\\\C/C=C\\\\C/C=C\\\\CCCCCCCCCC(=O)NCCOP(=O)(O)OCC(O)COC(=O)CCCCCCCCC/C=C\\\\CCCCCCCCC', 'CCCCC/C=C\\\\C=C/[C@@H](O)C/C=C\\\\C/C=C/CCCC(=O)OC[C@H](COP(=O)([O-])OCC[N+](C)(C)C)O/C=C/CCCCCCCCCCCCCCCC', 'CCCCC/C=C\\\\CC1OC1C/C=C\\\\C/C=C\\\\CCCC(=O)O[C@H](CO/C=C/CCCCCCCCCCCCCCCC)COP(=O)([O-])OCC[N+](C)(C)C', 'CCCCC/C=C\\\\C/C=C\\\\C/C=C\\\\CCCCCCCCCCC(=O)OCC(O)COP(=O)(O)OCCNC(=O)CCCCCCC/C=C\\\\CCCCCCC', 'COC1CC2CCC(=O)C(C(O)CCCC(CCO)C3CNC4CC(=O)CCC4C3)C#CC(CCC(O)CC(C=CC3CCCCC3)C3CCNC(N)C3)C2CC1O', 'CC/C=C\\\\C/C=C\\\\C/C=C\\\\CCCCCC(=O)OC(COC(=O)CCCCCCCCCCC/C=C\\\\CCCCCCCC)COP(=O)([O-])OCC[N+](C)(C)C', 'CCCCC/C=C\\\\CCCCCCCC(=O)OCC(COP(=O)(O)OCCN)OC(=O)CCCCCCCCCC/C=C\\\\C/C=C\\\\C/C=C\\\\CCCCCCC', 'CC/C=C\\\\C/C=C\\\\C/C=C\\\\C/C=C\\\\CCCCCCCCCCCCCCCCC(=O)OC(COC(=O)CCCCCCCCCC)COP(=O)(O)OCCN', 'CC/C=C/C=C/C=C/C=C/CCCCCC(=O)OC(COC(=O)CCCCCCCCCCCCCCCCCCCCC)COP(=O)([O-])OCC[N+](C)(C)C', 'CC1(C)C2=C(CCC=C2)N(C2CC(N3C4=C(CCCC4)C4CCC=CC43)C(C#N)CC2C2NC(C3CCCC4OC5CC=CCC5C43)N2C2CCCCC2)C2CCC=CC21', 'CCCCCC/C=C/CCCCCCCCCC(=O)O[C@H](COC(=O)CCC/C=C/C/C=C/C/C=C/CCCCCCCC)COP(=O)([O-])OCC[N+](C)(C)C', 'CCCCCCCC/C=C\\\\CCCCCC/C=C/OC[C@H](COP(=O)([O-])OCC[N+](C)(C)C)OC(=O)CCCC(O)/C=C/C=C/C/C=C/CCCCCCCC', 'CC/C=C\\\\C/C=C\\\\C/C=C\\\\CCCCCCCC(=O)OCC(COP(=O)(O)OCCNC)OC(=O)CCCCCCCCCCC/C=C\\\\CCCCCCCC', 'C.C.C.C.CC(C)(C)c1ccc2c(c1)CC=C2.CC(C)(C)c1ccc2c(c1)NC(=O)CC2.CC(C)(C)c1ccc2c(c1)OCCO2.CC(C)(C)c1ccc2c(c1)OCO2', 'CC/C=C\\\\C/C=C\\\\C/C=C\\\\C/C=C\\\\CCCCCCCCCCC(=O)OC(COC(=O)CCCCCCCCCCCCC)COP(=O)([O-])OCC[N+](C)(C)C', 'C=CC(=C)C.C=CC(=O)OC.CC1=CCC(C(=O)O)CC1.CC1=CCC(C(N)=O)CC1.CC1=CCC(N)CC1.CC1=CC[C@H](N)CC1.COC(=O)C1CC=C(C)CC1', 'CCCC/C=C/CCCCCCCCCCCC(=O)OC[C@H](COP(=O)([O-])OCC[N+](C)(C)C)OC(=O)CCCCCC/C=C/C/C=C/C/C=C/CCCCC', 'CCCCCCCCC/C=C/C/C=C/C/C=C/C/C=C/CCCC(=O)O[C@H](COC(=O)CCCCCCCCCCCCC)COP(=O)([O-])OCC[N+](C)(C)C', 'CCCCC/C=C/C/C=C/C/C=C/CCCCC(=O)O[C@H](COC(=O)CCCCCCCCC/C=C/CCCCCCCC)COP(=O)([O-])OCC[N+](C)(C)C', 'CCCCCC/C=C\\\\CCCCCCCCCC(=O)O[C@H](COC(=O)CCC/C=C\\\\C/C=C\\\\C/C=C\\\\CCCCCCCC)COP(=O)([O-])OCC[N+](C)(C)C', 'CC/C=C\\\\C/C=C\\\\C/C=C\\\\CCCCCCCC(=O)OC(COC(=O)CCCCCCCCC/C=C\\\\CCCCCCCC)COP(=O)([O-])OCC[N+](C)(C)C', 'CCCCC/C=C/C/C=C/C/C=C/CCCCC(=O)OC[C@H](COP(=O)([O-])OCC[N+](C)(C)C)OC(=O)CCCCCCCCCCC/C=C/CCCCCC', 'CC/C=C\\\\C/C=C\\\\C/C=C\\\\C/C=C\\\\CCCCCCCCCCCCC(=O)OC(COC(=O)CCCCCCCCCCCCCC)COP(=O)(O)OCCN', 'CCCCCC[C@H](O)CCC[C@H](O)[C@H]1CC[C@H]([C@H]2CC[C@H]([C@H](O)CCCCCCCCCCCCC(CC(C)=O)C(=O)N3CCN(c4ccccc4C#N)CC3)O2)O1', 'CC/C=C\\\\C/C=C\\\\C/C=C\\\\C/C=C\\\\CCCCC(=O)OC(COC(=O)CCCCCCCCCCCCCCCCCCCCC)COP(=O)(O)OCCNC', 'CCCCCCCC/C=C\\\\CCCCCC/C=C/O[C@H](COC(=O)CCCC(O)/C=C/C=C/C/C=C/CCCCCCCC)COP(=O)([O-])OCC[N+](C)(C)C', 'CCCCC/C=C/C/C=C/C/C=C/CCCCCCC(=O)OC[C@H](COP(=O)([O-])OCC[N+](C)(C)C)OC(=O)CCCCCCCCC/C=C/CCCCCC', 'CCCCC/C=C\\\\C/C=C\\\\C/C=C\\\\C=C\\\\[C@H](O)CCCC(=O)O[C@H](CO/C=C/CCCCCCCCCCCCCCCC)COP(=O)([O-])OCC[N+](C)(C)C', 'CC/C=C\\\\C/C=C\\\\C/C=C\\\\C/C=C\\\\CCCCC(=O)OC(COC(=O)CCCCCCCCCCCCCCCCCCC)COP(=O)([O-])OCC[N+](C)(C)C', 'CCCC/C=C/CCCCCCCCCCCC(=O)O[C@H](COC(=O)CCC/C=C/C/C=C/C/C=C/CCCCCCCC)COP(=O)([O-])OCC[N+](C)(C)C', 'CCCCCCCCCCCCCCCC/C=C\\\\OCC(COP(=O)([O-])OCC[N+](C)(C)C)OC(=O)CCC/C=C\\\\C/C=C\\\\C/C=C\\\\CC1OC1CCCCC', 'CCCCC/C=C/C/C=C/C/C=C/CCCCC(=O)O[C@H](COC(=O)CCCCCCCCCCC/C=C/CCCCCC)COP(=O)([O-])OCC[N+](C)(C)C', 'CC/C=C/C=C/C=C/C=C/CCCCCCCC(=O)O[C@H](COC(=O)CCCCCCCCCCCCCCCCCCCCCC)COP(=O)(O)OCCN', 'CCCCC/C=C\\\\C/C=C\\\\CCCCCCCCCC(=O)OCC(COP(=O)(O)OCCNC)OC(=O)CCCCCCCCC/C=C\\\\C/C=C\\\\CCCCC', 'CCCCC/C=C\\\\C[C@@H](O)/C=C/C=C\\\\C/C=C\\\\CCCC(=O)OC[C@H](COP(=O)([O-])OCC[N+](C)(C)C)O/C=C/CCCCCCCCCCCCCCCC', 'CCCCC/C=C\\\\C/C=C\\\\CCCCCCCCCC(=O)OC[C@H](COP(=O)([O-])OCC[N+](C)(C)C)OC(=O)CCCCCCC/C=C\\\\C/C=C\\\\CCCCC', 'CCCCC/C=C\\\\C/C=C\\\\C/C=C\\\\CCCCCCCCCCC(=O)NCCOP(=O)(O)OCC(O)COC(=O)CCCCCCC/C=C\\\\CCCCCCC', 'CC(C)C1=C2[C@H]3CC[C@@H]4[C@@]5(C)CC[C@H](OC(=O)[C@H]6C[C@@H](Cc7ccccc7)C6(C)C)C(C)(C)[C@@H]5CC[C@@]4(C)[C@]3(C)CC[C@@]2(NC(=O)C(C)(C)CC(=O)C(C)(C)C)CC1=O', 'CCCCCCCCCCCCCCCC/C=C/O[C@H](COC(=O)CCC/C=C\\\\C/C=C\\\\C/C=C\\\\C/C=C\\\\[C@@H](O)CCCC)COP(=O)([O-])OCC[N+](C)(C)C', 'C=C/C=C(\\\\C=C)N(c1ccccc1)c1cc2c(c3ccccc13)-c1cc3c(cc1C2(CCCCCC)CCCCCC)-c1ccccc1C3(CCCCCC)CCCCCC', 'CCCCCCCCC=CCC=CCC=CCC=CCCC(=O)OC(COC(=O)CCCCCCCCCCCCCCC)COP(=O)([O-])OCC[N+](C)(C)C', 'CCCCC/C=C\\\\C/C=C\\\\C/C=C\\\\CCCCCCC(=O)OCC(COP(=O)(O)OCCNC)OC(=O)CCCCCCCCC/C=C\\\\CCCCCCCC', 'CC/C=C\\\\CCCC/C=C\\\\CCCCCCCC(=O)OC[C@H](COP(=O)(OC)OCCCCN(C)C)OC(=O)CCCCCCC/C=C\\\\CCCC/C=C\\\\CC', 'CCCCCC=CCC=CCC=CCC=CCCCC(=O)O[C@H](COC(=O)CCCCCCCCCCCCCCCCC)COP(=O)([O-])OCC[N+](C)(C)C', 'CCCCCCCC/C=C/C/C=C/C/C=C/CCCC(=O)O[C@H](COC(=O)CCCC/C=C/CCCCCCCCCCC)COP(=O)([O-])OCC[N+](C)(C)C', 'CC/C=C\\\\C/C=C\\\\C/C=C\\\\CCCCCCCCCC(=O)OC(COC(=O)CCCCCCC/C=C\\\\CCCCCCCC)COP(=O)([O-])OCC[N+](C)(C)C', 'CCC/C=C/C/C=C/C/C=C/C/C=C/CCCCCC(=O)O[C@H](COC(=O)CCCCCCCCCCCCCCCCC)COP(=O)([O-])OCC[N+](C)(C)C', 'CC/C=C/C/C=C/C/C=C/C/C=C/CCCCC(=O)O[C@H](COC(=O)CCCCCCCCCCCCCCCCCCC)COP(=O)([O-])OCC[N+](C)(C)C', 'CCCCC/C=C\\\\C/C=C\\\\C/C=C\\\\C/C=C\\\\CCCC(=O)OC[C@H](COP(=O)([O-])OCC[N+](C)(C)C)OC(=O)CCCCCCCCCCCCCCCCC', 'CC/C=C\\\\C/C=C\\\\C/C=C\\\\C/C=C\\\\CCC(=O)OC(COC(=O)CCCCCCCCCCCCCCCCCCCCCCCC)COP(=O)(O)OCCN', 'CC/C=C\\\\C/C=C\\\\C/C=C\\\\C/C=C\\\\CCCCCCCCCCC(=O)OC(COC(=O)CCCCCCCCCCCCCCCC)COP(=O)(O)OCCN', 'CCCCC/C=C/C/C=C/CCCCCCCCCC(=O)OC[C@H](COP(=O)([O-])OCC[N+](C)(C)C)OC(=O)CCCCCCC/C=C/C=C/CCCCCC', 'CCCCCCCCC/C=C/C/C=C/C/C=C/C/C=C/CCCC(=O)OC[C@@H](COP(=O)(O)OCCN)OC(=O)CCCCCCCCCCCCCCCC', 'CCCCC/C=C\\\\C/C=C\\\\C/C=C\\\\C/C=C\\\\CCCC(=O)OCC(COP(=O)(O)OCCNC)OC(=O)CCCCCCCCCCCCCCCCCCC', 'CCCCCCCCCCCCCCCC/C=C/OC[C@H](COP(=O)([O-])OCC[N+](C)(C)C)OC(=O)CCC/C=C\\\\C/C=C\\\\C/C=C\\\\CC1OC1CCCCC', 'CCCCCC/C=C\\\\C/C=C\\\\CCCCCCCC(=O)OCC(COP(=O)([O-])OCC[N+](C)(C)C)OC(=O)CCCCCCC/C=C\\\\C/C=C\\\\CCCCCC', 'CC/C=C\\\\C/C=C\\\\C/C=C\\\\C/C=C\\\\CCCCCCC(=O)OC(COC(=O)CCCCCCCCCCCCCCCCCCC)COP(=O)(O)OCCNC', 'O=C1OC2(c3c(Br)cccc31)c1c(Br)c(C(=O)O)c(O)c(Br)c1Oc1c(Br)c(O)c(C(=O)O)c(Br)c12', 'CCCCCCCCCCCCCCCC/C=C/OC[C@H](COP(=O)([O-])OCC[N+](C)(C)C)OC(=O)CCC/C=C\\\\C/C=C\\\\C/C=C\\\\C=C\\\\[C@@H](O)CCCCC', 'CCCCC/C=C/C/C=C/C/C=C/CCCCCCC(=O)OC[C@H](COP(=O)([O-])OCC[N+](C)(C)C)OC(=O)CC/C=C/CCCCCCCCCCCCC', 'CCCCC/C=C/C/C=C/C/C=C/C/C=C/CCCC(=O)O[C@H](COC(=O)CCCCCCCCCCCCCCCCC)COP(=O)([O-])OCC[N+](C)(C)C', 'CCC/C=C/C/C=C/C/C=C/C/C=C/CCCCCC(=O)O[C@H](COC(=O)CCCCCCCCCCCCCCCCCCCC)COP(=O)(O)OCCN', 'CN1c2ccccc2C2C1c1ccccc1C2[Si](C)(CCCCCCOC(C)(C)C)C1C2C=C3C(=CC2C2C=C4C(=CC21)C(C)(C)CCC4(C)C)C(C)(C)CCC3(C)C', 'CCCCC/C=C/C/C=C/C/C=C/C/C=C/CCCCCC(=O)O[C@H](COC(=O)CCCCCCCCCCCCCCCCCC)COP(=O)(O)OCCN', 'O=C(O)c1cccc(Br)c1-c1c2c(Br)c(C(=O)O)c(=O)c(Br)c-2oc2c(Br)c(O)c(C(=O)O)c(Br)c12', 'CCCCC/C=C/C/C=C/CCCCCCCCCC(=O)OC[C@H](COP(=O)([O-])OCC[N+](C)(C)C)OC(=O)CCCC/C=C/C/C=C/CCCCCCCC', 'CCCCC/C=C\\\\C/C=C\\\\C/C=C\\\\C/C=C\\\\CCCCCC(=O)OC[C@H](COP(=O)(O)OCCN)OC(=O)CCCCCCCCCCCCCCCCCC', 'CC/C=C\\\\C/C=C\\\\C/C=C\\\\CCCCCCCC(=O)OC[C@H](COP(=O)([O-])OCC[N+](C)(C)C)OC(=O)CCCCCCCCC/C=C\\\\CCCCCCCC', 'CCCCC/C=C/C/C=C/C/C=C/C=C/C(O)CCCC(=O)OC(COCCCCCCCC/C=C\\\\CCCCCCCC)COP(=O)([O-])OCC[N+](C)(C)C', 'CCCCC/C=C\\\\CC1OC1C/C=C\\\\C/C=C\\\\CCCC(=O)OC[C@H](COP(=O)([O-])OCC[N+](C)(C)C)O/C=C/CCCCCCCCCCCCCCCC', 'CCCC[C@@H](C)C(c1cc(C)cc(C)c1)(c1cc(C)cc(C)c1)c1cc(C)cc(C)c1.Cc1cc(C)cc(C(c2cc(C)cc(C)c2)(c2cc(C)cc(C)c2)C2CCCN2)c1', 'CCCCC/C=C\\\\C/C=C\\\\C/C=C\\\\CC1OC1CCCC(=O)O[C@H](CO/C=C/CCCCCCCCCCCCCCCC)COP(=O)([O-])OCC[N+](C)(C)C', 'CCCCCCCC/C=C/C/C=C/C/C=C/CCCC(=O)OC[C@H](COP(=O)([O-])OCC[N+](C)(C)C)OC(=O)CCCCC/C=C/CCCCCCCCCC', '[2H]C([2H])([2H])c1cc2c3c(c1)N(c1cc4c(cc1C)C(C)(C)CC4(C)C)c1cc4c(cc1B3c1ccc(C(C)(C)C)cc1N2c1ccc2c(c1)C(C)(C)CC2(C)C)C(C)(C)CCC4(C)C', 'CCCCC/C=C/C=C/CCCCCCCCCCCCC(=O)OCC(COP(=O)([O-])OCC[N+](C)(C)C)OC(=O)CC/C=C/C/C=C/CCCCCCCC', 'CCCCC/C=C\\\\C/C=C\\\\CC(O)/C=C\\\\C=C\\\\CCCC(=O)OC[C@H](COP(=O)([O-])OCC[N+](C)(C)C)O/C=C/CCCCCCCCCCCCCCCC', 'C=CCCCCCCCCCCCCCCCC(=O)O[C@H](COC(=O)CCC/C=C/C/C=C/C/C=C/CCCCCCCC)COP(=O)([O-])OCC[N+](C)(C)C', 'CC/C=C/C/C=C/C/C=C/CCCCCCCC(=O)O[C@H](COC(=O)CCCCCCCCC/C=C/CCCCCCCC)COP(=O)([O-])OCC[N+](C)(C)C', 'CCCCC/C=C\\\\C/C=C\\\\CC(O)/C=C\\\\C=C\\\\CCCC(=O)O[C@H](CO/C=C/CCCCCCCCCCCCCCCC)COP(=O)([O-])OCC[N+](C)(C)C', 'CCCCCCCCCCCCCCCC/C=C/OC[C@H](COP(=O)([O-])OCC[N+](C)(C)C)OC(=O)CCC/C=C\\\\C/C=C\\\\C/C=C\\\\C/C=C\\\\CCC[C@H](C)O', 'CCCCC/C=C\\\\C/C=C\\\\CCCCCCCCCC(=O)O[C@H](COC(=O)CCCCCCC/C=C\\\\C/C=C\\\\CCCCC)COP(=O)([O-])OCC[N+](C)(C)C', 'CCCCC/C=C\\\\C/C=C\\\\C/C=C\\\\C/C=C\\\\CCCC(=O)OCC(O)COP(=O)(O)OCCNC(=O)CCCCCCCCCCCCCCCCCCCC', 'CCCCC/C=C\\\\C/C=C\\\\C/C=C\\\\C/C=C\\\\CCCC(=O)OC(COC(=O)CCCCCCCCCCCCCCCCCCC)COP(=O)(O)OCCNC', 'Nc1ccccc1Oc1c(Br)c(Br)c2c(Br)c(Br)c(Oc3ccccc3N)c(Br)c2c1Br', 'CCCCCCCCCCCCCCCC/C=C/OC[C@H](COP(=O)([O-])OCC[N+](C)(C)C)OC(=O)CCC/C=C\\\\C/C=C\\\\C/C=C\\\\C/C=C\\\\CC(O)CCC', 'CCC/C=C\\\\CCCCCCCC(=O)OCC(COP(=O)(O)OCCN)OC(=O)CCCCCCCCCCCC/C=C\\\\C/C=C\\\\C/C=C\\\\CCCCCCC', 'CCCCCCCC/C=C/C/C=C/C/C=C/CCCC(=O)OC[C@H](COP(=O)([O-])OCC[N+](C)(C)C)OC(=O)CCCCCCC/C=C/CCCCCCCC', 'CCCCCCCCCCCCCCCC/C=C/OC[C@H](COP(=O)([O-])OCC[N+](C)(C)C)OC(=O)CCC/C=C\\\\C/C=C\\\\C/C=C\\\\C/C=C\\\\CC[C@H](O)CC', 'CCCCCCCCC/C=C/C/C=C/C/C=C/C/C=C/CCCC(=O)O[C@H](COC(=O)CCCCCCCCCCCCCCCC)COP(=O)(O)OCCN', 'CCCCC/C=C/C/C=C/C/C=C/C/C=C/CCCC(=O)OC(COC(=O)CCCCCCCCCCCCCCCCC)COP(=O)([O-])OCC[N+](C)(C)C', 'C/C=C\\\\C(=C/C)C(NC)C(=O)NCCCCc1ncc(-c2ccc(C34CCC(c5cnc(C6CCCN6C(=O)COC)[nH]5)(CC3)CC4)cc2)[nH]1.C/C=C\\\\CC.C=C.CC', 'CCCCC/C=C\\\\C/C=C\\\\CCCCCCCCCC(=O)NCCOP(=O)(O)OCC(O)COC(=O)CCCCCCCCC/C=C\\\\C/C=C\\\\CCCCCC', 'COC1CC2CCC(=O)[C@@H]([C@H](O)CCCC[C@H]3CN[C@@H]4CC(=O)CC[C@H]4C3)C#C[C@@H](C[C@H](O)[C@H](O)C[C@H](C3CCNC(N)C3)C3CCC4CCCCC4C3)C2CC1O', 'CC/C=C\\\\C/C=C\\\\C/C=C\\\\C/C=C\\\\CCCCCCCCCCCCCCC(=O)OC(COC(=O)CCCCCCCCC)COP(=O)([O-])OCC[N+](C)(C)C', 'CC(C)c1ccc(-c2ccccc2)cc1.CC(C)c1ccc(C2(c3ccccc3)CC2)cc1.CC(C)c1ccc(C2CCC2)cc1.CC(C)c1ccc(N(C)CC2CC2)cc1', 'CC/C=C\\\\C/C=C\\\\C/C=C\\\\C/C=C\\\\CCC(=O)OC(COC(=O)CCCCCCCCCCCCCCCCCCCCC)COP(=O)([O-])OCC[N+](C)(C)C', 'CCCCCCCCCCCCCCCC/C=C/O[C@H](COC(=O)CCC/C=C\\\\C/C=C\\\\C/C=C\\\\C/C=C\\\\CC(O)CCC)COP(=O)([O-])OCC[N+](C)(C)C', 'CCCCC/C=C\\\\C/C=C\\\\CCCCCCCCCCCC(=O)OC(COC(=O)CCCCCCC/C=C\\\\C/C=C\\\\CCCCC)COP(=O)(O)OCCNC', 'CC/C=C\\\\C/C=C\\\\C/C=C\\\\C/C=C\\\\CCCCC(=O)O[C@H](COC(=O)CCCCCCCCCCCCCCCCCCC)COP(=O)([O-])OCC[N+](C)(C)C', 'C/C=C\\\\C(=C/C1CCCC1C)c1cc(C2=C/C3CCCC(C\\\\C=C/2)C3)cc(-c2cccc(-c3cc(C4=CC=CC(CCC)(CCCC)C4)cc(/C4=C/CCCCNC4)c3)c2)c1', 'CC/C=C\\\\C/C=C\\\\C/C=C\\\\C/C=C\\\\CCCCCCC(=O)OC(COC(=O)CCCCCCCCCCCCCCCCC)COP(=O)([O-])OCC[N+](C)(C)C', 'CC/C=C\\\\C/C=C\\\\C/C=C\\\\C/C=C\\\\CCCCCCCCCCCCCCCCCCC(=O)OC(COC(=O)CCCCCCCC)COP(=O)(O)OCCN', 'CCCCC/C=C\\\\C/C=C\\\\C/C=C\\\\C/C=C\\\\CCCCCC(=O)NCCOP(=O)(O)OCC(O)COC(=O)CCCCCCCCCCCCCCCCCC', 'CCCCC/C=C/C/C=C/C/C=C/CCCCCCC(=O)O[C@H](COC(=O)CCCC/C=C/CCCCCCCCCCC)COP(=O)([O-])OCC[N+](C)(C)C', 'C/C=C(\\\\C=C/CC)CCC.C=C/C=C1/C=C\\\\C=C/C=C(/C=C)C12C(/C=C\\\\C)=C(/C=C/C(/C=C\\\\C)=C/C=C/c1cccc(N)c1)c1ccccc12.CC.CC.Cc1ccccc1', 'CC/C=C/C/C=C/C/C=C/CCCCCCCC(=O)OC[C@H](COP(=O)([O-])OCC[N+](C)(C)C)OC(=O)CCCCCCCCC/C=C/CCCCCCCC', 'CCCC/C=C\\\\C/C=C\\\\CCCCCCCC(=O)OCC(COP(=O)([O-])OCC[N+](C)(C)C)OC(=O)CCCCCCCCC/C=C\\\\C/C=C\\\\CCCCCC', 'CCCC/C=C\\\\C/C=C\\\\CCCCCCCC(=O)OCC(COP(=O)(O)OCCN)OC(=O)CCCCCCCCCCC/C=C\\\\C/C=C\\\\CCCCCCC', 'CCCCCC/C=C\\\\C/C=C\\\\C/C=C\\\\C/C=C\\\\CCC(=O)OC(COC(=O)CCCCCCCCCCCCCCCCC)COP(=O)([O-])OCC[N+](C)(C)C', 'C=c1ccn(-c2c(F)ccc(NS(=O)(=O)CCC)c2F)/c1=C/C=C(\\\\C(C)CC)N(C)C(CCC)CCC.CC.CCC(C)C(=O)OC(C)(C)C.CCCCCC', 'CC(C)(C)OC(=O)NC(=NCCCCCCCCNCCCCCCCC/N=C(\\\\NC(=O)OC(C)(C)C)N(CC1CC1)C(=O)OC(C)(C)C)NC(=O)OC(C)(C)C', 'CCCCC/C=C\\\\C/C=C\\\\C/C=C\\\\C/C=C\\\\CCCCCCCCCC(=O)NCCOP(=O)(O)OCC(O)COC(=O)CCCCCCCCCCCCCC', 'CCCCC/C=C\\\\C/C=C\\\\C/C=C\\\\C/C=C\\\\CCCCCC(=O)OCC(O)COP(=O)(O)OCCNC(=O)CCCCCCCCCCCCCCCCCC', 'C.C.C.C.C.C=C1C2CC3CC(C2)CC1C3.CC(=O)O.CC(=O)OC(CCO)C(=O)O.CC(=O)OC1(C)C2CC3CC(C2)CC1C3.CC(=O)OC1CCOC1=O.[H+].[H][2H].[H][2H]', 'CCCCC/C=C\\\\C/C=C\\\\C/C=C\\\\CC1OC1CCCC(=O)OC[C@H](COP(=O)([O-])OCC[N+](C)(C)C)O/C=C/CCCCCCCCCCCCCCCC', 'CC/C=C\\\\C/C=C\\\\C/C=C\\\\CCCCCCCC(=O)O[C@H](COC(=O)CCCCCCCCC/C=C\\\\CCCCCCCC)COP(=O)([O-])OCC[N+](C)(C)C', 'CCCCC/C=C\\\\C/C=C\\\\CCCCCCCCCCCC(=O)NCCOP(=O)(O)OCC(O)COC(=O)CCCCCCC/C=C\\\\C/C=C\\\\CCCCCC', 'CCCCCCCC/C=C\\\\C/C=C\\\\C/C=C\\\\C/C=C\\\\CCC(=O)OC(COC(=O)CCCCCCCCCCCCCCC)COP(=O)([O-])OCC[N+](C)(C)C', 'CCCCC/C=C\\\\C/C=C\\\\C/C=C\\\\CCCCCCCCCCCCC(=O)OCC(O)COP(=O)(O)OCCNC(=O)CCCCCCC/C=C\\\\CCCCC', 'C(/C=C/c1ccc(N(c2ccc(/C=C/C=C/c3ccccc3)cc2)c2ccc(/C=C/C=C/c3ccccc3)cc2)cc1)=C\\\\c1ccccc1.CC.CC.CC.CC.CC.CC', 'CCC/C=C/C/C=C/C/C=C/C/C=C/CCCCCC(=O)OC[C@H](COP(=O)(O)OCCN)OC(=O)CCCCCCCCCCCCCCCCCCCC', 'CCCC/C=C/CCCCCCCCCCCC(=O)OC[C@H](COP(=O)([O-])OCC[N+](C)(C)C)OC(=O)CCC/C=C/C/C=C/C/C=C/CCCCCCCC', 'CC/C=C\\\\C/C=C\\\\C/C=C\\\\C/C=C\\\\C/C=C\\\\C/C=C\\\\C/C=C\\\\CCCC(=O)NC(CS(=O)(=O)O)C(O)/C=C/CC/C=C/CCCCCCCCCCCCCCC', 'CCCCC/C=C\\\\C/C=C\\\\C/C=C\\\\CCCCCCCCC(=O)OC(COC(=O)CCCCCCC/C=C\\\\CCCCCCCCC)COP(=O)(O)OCCN', 'CN(C)C[C@H]1[C@H]2CC[C@H](C2)C[C@H]1c1cccc(O)c1.Cc1cccc([C@@H]2C[C@@H]3CC[C@@H](C3)[C@@H]2CN(C)C)c1.Cc1cccc([C@@H]2C[C@@H]3CC[C@@H](C3)[C@@H]2CN(C)C)c1.Cl', 'C/C=C(\\\\C=C(/C=C(\\\\C)c1cc(-c2cccc(CC)c2)ccc1C#N)C1=CCCC=C1)c1ccccc1.C=C(/C=C(C)/C(/C=C\\\\CC)=C/C)c1ccccc1.CC.CC.CCC', 'CCCCC/C=C\\\\C/C=C\\\\C/C=C\\\\C/C=C\\\\CCCC(=O)O[C@H](COC(=O)CCCCCCCCCCCCCCCCCCCC)COP(=O)(O)OCCN', 'CCCC/C=C\\\\CCCCCCCC(=O)OCC(COP(=O)([O-])OCC[N+](C)(C)C)OC(=O)CCCCCCCC/C=C\\\\C/C=C\\\\C/C=C\\\\CCCCCCC', 'CCCCCCC=CCC=CCC=CCC=CCCC(=O)OC(COC(=O)CCCCCCCCCCCCCCCCC)COP(=O)([O-])OCC[N+](C)(C)C', 'CCCCCCCC/C=C/C/C=C/C/C=C/CCCC(=O)O[C@H](COC(=O)CC/C=C/CCCCCCCCCCCCC)COP(=O)([O-])OCC[N+](C)(C)C', 'CCCCCCCCCCC/C=C/C/C=C/CCCC(=O)OC[C@H](COP(=O)([O-])OCC[N+](C)(C)C)OC(=O)/C=C/C=C/CCCCCCCCCCCCC', 'CC/C=C\\\\C/C=C\\\\C/C=C\\\\CCCCCCCCCC(=O)OCC(O)COP(=O)(O)OCCNC(=O)CCCCCCCCC/C=C\\\\CCCCCCCCC', 'CCCCC/C=C/C/C=C/C/C=C/CCCCCCC(=O)O[C@H](COC(=O)CCCCC/C=C/CCCCCCCCCC)COP(=O)([O-])OCC[N+](C)(C)C', 'CCCCC/C=C\\\\C/C=C\\\\C/C=C\\\\CCCCCCC(=O)O[C@H](COC(=O)CCCCCCCCC/C=C\\\\CCCCCC)COP(=O)([O-])OCC[N+](C)(C)C', 'CCCCC/C=C/C/C=C/C/C=C/CCCCCCC(=O)OC[C@H](COP(=O)([O-])OCC[N+](C)(C)C)OC(=O)CCCC/C=C/CCCCCCCCCCC', 'CCCCC/C=C/C/C=C/CCCCCCCCCC(=O)OC[C@H](COP(=O)([O-])OCC[N+](C)(C)C)OC(=O)CCCCCCC/C=C/C/C=C/CCCCC', 'CCCCC/C=C\\\\C/C=C\\\\CCCCCCCCCC(=O)OCC(COP(=O)(O)OCCN)OC(=O)CCCCCCCCC/C=C\\\\C/C=C\\\\CCCCCC', 'CC(C)c1ccc(-c2ccccc2)cc1.CC(C)c1ccc2ccccc2c1.CC(C)c1ccccc1.CCC.CCc1ccc(CC)cc1.[C-]#[N+]c1ccc(C(C)C)cc1', 'CCCCCC/C=C/C=C/CCCCCCCC(=O)O[C@H](COC(=O)CCC/C=C/C/C=C/CCCCCCCCCCC)COP(=O)([O-])OCC[N+](C)(C)C', 'CCCCC/C=C/C/C=C/CCCCCCCC(=O)OC[C@H](COP(=O)([O-])OCC[N+](C)(C)C)OC(=O)CCC/C=C/C/C=C/CCCCCCCCCCC', 'CCCCCCCC/C=C\\\\C/C=C\\\\C/C=C\\\\CCCC(=O)OCC(COP(=O)(O)OCCNC)OC(=O)CCCCCCCCC/C=C\\\\CCCCCCCC', 'CCCCC/C=C/C/C=C/CCCCCCCC(=O)O[C@H](COC(=O)CCC/C=C/C/C=C/CCCCCCCCCCC)COP(=O)([O-])OCC[N+](C)(C)C', 'CCCCCCCC/C=C/C/C=C/CCC(=O)OC(COC(=O)CCCCCCCCC/C=C/C/C=C/CCCCCCCCCC)COP(=O)(O)OCCN', 'CC/C=C\\\\C/C=C\\\\C/C=C\\\\C/C=C\\\\C=C\\\\C(O)CCCC(=O)OC(COCCCCCCCCCCCCCCCCCC)COP(=O)([O-])OCC[N+](C)(C)C', 'CCCCC/C=C/C/C=C/CCCCCCCCCC(=O)O[C@H](COC(=O)CCCC/C=C/C/C=C/CCCCCCCC)COP(=O)([O-])OCC[N+](C)(C)C', 'CC/C=C\\\\C/C=C\\\\C/C=C\\\\C/C=C\\\\CCCCCCCCCCCCCCCCC(=O)OC(COC(=O)CCCCCCC)COP(=O)([O-])OCC[N+](C)(C)C', 'CC/C=C\\\\C/C=C\\\\C/C=C\\\\C/C=C\\\\CCCCCCCCC(=O)OC(COC(=O)CCCCCCCCCCCCCCC)COP(=O)([O-])OCC[N+](C)(C)C', 'CCCCCC/C=C/C=C/CCCCCCCC(=O)OC[C@H](COP(=O)([O-])OCC[N+](C)(C)C)OC(=O)CCC/C=C/C/C=C/CCCCCCCCCCC', 'CCCCCCCCCCCCCCCC/C=C/O[C@H](COC(=O)CCC/C=C\\\\C/C=C\\\\C/C=C\\\\C=C\\\\[C@H](O)CCCCC)COP(=O)([O-])OCC[N+](C)(C)C', 'CC/C=C\\\\C/C=C\\\\C/C=C\\\\C/C=C\\\\CCCCCCCCCCCCC(=O)OC(COC(=O)CCCCCCCCCCC)COP(=O)([O-])OCC[N+](C)(C)C', 'CCCCC/C=C\\\\C/C=C\\\\CCCCCCCCCCCC(=O)OCC(COP(=O)(O)OCCNC)OC(=O)CCCCCCC/C=C\\\\C/C=C\\\\CCCCC', 'CCCCCCCCCCCCNC(=O)C[C@H](NC(=O)[C@@H](NC(=O)C(NC(=O)[C@@H](NC(=O)C(NC(=O)[C@@H](NC)C(C)C)C(C)C)C(C)C)C(C)C)C(C)C)C(=O)O', 'CC/C=C/C=C/C=C/CCCCCCCC(=O)OC(COC(=O)CCCCCCCCC/C=C/CCCCCCCCCCCCC)COP(=O)(O)OCCN', 'CCCCC/C=C\\\\C/C=C\\\\C/C=C\\\\C/C=C\\\\CCCC(=O)OC(COC(=O)CCCCCCCCCCCCCCCCC)COP(=O)([O-])OCC[N+](C)(C)C', 'CCCCC/C=C\\\\C/C=C\\\\C/C=C\\\\CC1OC1CCCC(=O)OC(CO/C=C\\\\CCCCCCCCCCCCCCCC)COP(=O)([O-])OCC[N+](C)(C)C', 'CCC/C=C\\\\C/C=C\\\\CCCCCCCC(=O)OCC(COP(=O)([O-])OCC[N+](C)(C)C)OC(=O)CCCCCCCCCCC/C=C\\\\C/C=C\\\\CCCCC', 'CCCCC/C=C\\\\C/C=C\\\\CCCCCCCCCC(=O)OC(COC(=O)CCCCCCC/C=C\\\\C/C=C\\\\CCCCC)COP(=O)([O-])OCC[N+](C)(C)C', 'CCCCCCCC/C=C\\\\C/C=C\\\\C/C=C\\\\CCCC(=O)OC(COC(=O)CCCCCCCCC/C=C\\\\CCCCCCCC)COP(=O)(O)OCCNC', 'CC/C=C/C/C=C/C/C=C/C/C=C/CCCCC(=O)OC[C@H](COP(=O)([O-])OCC[N+](C)(C)C)OC(=O)CCCCCCCCCCCCCCCCCCC', 'CCCCC/C=C/C/C=C/CCCCCCCCCC(=O)O[C@H](COC(=O)CCCCCCC/C=C/C/C=C/CCCCC)COP(=O)([O-])OCC[N+](C)(C)C', 'CC/C=C/C=C/C=C/C=C/CCCCCCCC(=O)O[C@H](COC(=O)CCCCCCCCCCCCCCCCCCC)COP(=O)([O-])OCC[N+](C)(C)C', 'CCCC(C)(C)c1ccc(C(c2ccc(-c3ccc(N(c4ccc(C(C)(C)CC)cc4)c4c(C)cc(C(C)(C)C)cc4C)cc3)cc2)c2c(C)cc(C(C)(C)C)cc2C)cc1', 'C/C(=C\\\\CC/C(C)=C/CO[C@H](COC/C=C(\\\\C)CC/C=C(\\\\C)CCCC(C)CCCC(C)C)COP(=O)(O)OCC(N)C(=O)O)CC/C=C(\\\\C)CCCC(C)C', 'CCCCC/C=C\\\\C[C@H](O)/C=C/C=C\\\\C/C=C\\\\CCCC(=O)O[C@H](CO/C=C/CCCCCCCCCCCCCCCC)COP(=O)([O-])OCC[N+](C)(C)C', 'CCCCCCC/C=C/C/C=C/CCCCCCC(=O)OC[C@H](COP(=O)([O-])OCC[N+](C)(C)C)OC(=O)CCCCCC/C=C/C/C=C/CCCCCCC', 'CC/C=C\\\\C/C=C\\\\C/C=C\\\\C/C=C\\\\CCCCC(=O)OCC(COP(=O)(O)OCCNC)OC(=O)CCCCCCCCCCCCCCCCCCCCC', 'CCCCC/C=C\\\\C/C=C\\\\C/C=C\\\\CCCCCCCCC(=O)OC(COC(=O)CCCCCCC/C=C\\\\CCCCCC)COP(=O)([O-])OCC[N+](C)(C)C', 'CC/C=C\\\\C/C=C\\\\C/C=C\\\\C/C=C\\\\CCCCC(=O)NCCOP(=O)(O)OCC(O)COC(=O)CCCCCCCCCCCCCCCCCCCCCC', 'CCCCCCCCCCCCCCCC/C=C/O[C@H](COC(=O)CCC/C=C\\\\C/C=C\\\\C/C=C\\\\C/C=C\\\\CC[C@@H](O)CC)COP(=O)([O-])OCC[N+](C)(C)C', 'CCCCC/C=C/C/C=C/CCCCCCCCCC(=O)O[C@H](COC(=O)/C=C/C=C/CCCCCCCCCCCCC)COP(=O)([O-])OCC[N+](C)(C)C', 'CC(C)C[C@H](NC(=O)[C@H](CC(C)C)NC(=O)[C@H](CC(C)C)NC(=O)[C@H](CC(C)C)NC(=O)[C@H](CC(C)C)NC(=O)[C@H](CC(C)C)NC(=O)[C@@H](N)CC(C)C)C(=O)O', 'CCCCC/C=C\\\\C/C=C\\\\C/C=C\\\\CCCCC(=O)OC[C@H](COP(=O)([O-])OCC[N+](C)(C)C)OC(=O)CCCCCCCCC/C=C\\\\CCCCCCCC', 'CCC/C=C/C/C=C/C/C=C/C/C=C/CCCCCC(=O)OC[C@H](COP(=O)([O-])OCC[N+](C)(C)C)OC(=O)CCCCCCCCCCCCCCCCC', 'CC/C=C/C/C=C/C/C=C/CCCCCCCC(=O)OC[C@H](COP(=O)([O-])OCC[N+](C)(C)C)OC(=O)CCCCCCCCCCC/C=C/CCCCCC', 'CCCCC/C=C\\\\C/C=C\\\\C/C=C\\\\C/C=C\\\\CCCC(=O)O[C@H](COC(=O)CCCCCCCCCCCCCCCCC)COP(=O)([O-])OCC[N+](C)(C)C', 'CCCCC/C=C\\\\C/C=C\\\\C/C=C\\\\CCCCCCCCCCCCC(=O)NCCOP(=O)(O)OCC(O)COC(=O)CCCCCCC/C=C\\\\CCCCC', 'C/C=C(\\\\C=C/c1cccc(C)c1)c1ccc(C)c(C(/C=C\\\\CCC)=C\\\\CC)c1.C=C(C)/C(C)=C(C)\\\\C(=C(\\\\C)N)c1ccc(C)cc1.CC.Cc1ccc(-c2ccccc2)cc1', 'CCCCCC/C=C\\\\CCCCCCCCCC(=O)OC[C@H](COP(=O)([O-])OCC[N+](C)(C)C)OC(=O)CCC/C=C\\\\C/C=C\\\\C/C=C\\\\CCCCCCCC', 'C=CCCCCCCCCCCCCCCCC(=O)OC[C@H](COP(=O)([O-])OCC[N+](C)(C)C)OC(=O)CCCCCC/C=C/C/C=C/C/C=C/CCCCC', 'CCCCC/C=C\\\\C/C=C\\\\C/C=C\\\\CCCCCCC(=O)O[C@H](COC(=O)CCCCCCC/C=C\\\\CCCCCCCC)COP(=O)([O-])OCC[N+](C)(C)C', 'CC/C=C\\\\C/C=C\\\\C/C=C\\\\C/C=C\\\\C/C=C\\\\C/C=C\\\\CCCCC(=O)NC(CS(=O)(=O)O)C(O)/C=C/CC/C=C/CC/C=C/CCCCCCCCCCCCC', 'CCCCC/C=C\\\\C/C=C\\\\C/C=C\\\\C/C=C\\\\CCCCCC(=O)OC[C@H](COP(=O)([O-])OCC[N+](C)(C)C)OC(=O)CCCCCCCCCCCCCCC', 'CCCCCCCC/C=C/C/C=C/C/C=C/CCCC(=O)O[C@H](COC(=O)CCCCCCC/C=C/CCCCCCCC)COP(=O)([O-])OCC[N+](C)(C)C', '[2H]c1c([2H])c(C(C([2H])([2H])[2H])(C([2H])([2H])[2H])C([2H])([2H])[2H])c([2H])c([2H])c1-c1ccnc(-c2cc(-c3cccc4c3nc(-c3cc(C)cc(C)c3O)n4-c3ccc(C(C([2H])([2H])[2H])(C([2H])([2H])[2H])C([2H])([2H])[2H])cc3-c3ccccc3)cc(C(C)(C)C)c2)c1', 'CCCCCCC[C@H]1OC(=O)CNC(=O)[C@H]([C@H](C)OC(C)(C)C)NC(=O)[C@H](COC(C)(C)C)NC(=O)[C@H]([C@H](C)CC)NC(=O)[C@H](CC(C)C)N(C)C(=O)[C@]1(C)CC', 'CCCCC(C)(C)c1ccc(N(c2ccc(-c3ccc(C(c4ccc(C(C)(C)C)cc4)c4c(C)cc(C(C)(C)C)cc4C)cc3)cc2)c2c(C)cc(C(C)(C)C)cc2C)cc1', 'CCCCC/C=C/C/C=C/C=C\\\\C=C/C1OC1CCCC(=O)OC(COCCCCCCCCCCCCCCCCCC)COP(=O)([O-])OCC[N+](C)(C)C', 'CCCCC/C=C\\\\C=C/[C@H](O)C/C=C\\\\C/C=C/CCCC(=O)O[C@H](CO/C=C/CCCCCCCCCCCCCCCC)COP(=O)([O-])OCC[N+](C)(C)C', 'CCCCC/C=C/C/C=C/C/C=C/C/C=C/CCCCCC(=O)OC[C@@H](COP(=O)([O-])OCC[N+](C)(C)C)OC(=O)CCCCCCCCCCCCCCC', 'CC(=O)COC(=O)N1CCC(C)CC1.CCCC(=O)Nc1ccccc1CCC.CCCC(CCC)C1CCN(CC(=O)OCC)CC1.Cc1cc(C)c(O)c(C)c1', 'CCCCC/C=C\\\\C/C=C\\\\C/C=C\\\\CCCCCCC(=O)OC[C@H](COP(=O)([O-])OCC[N+](C)(C)C)OC(=O)CCCCCCCCC/C=C\\\\CCCCCC', 'CCCC/C=C\\\\C/C=C\\\\CCCCCCCC(=O)OCC(O)COP(=O)(O)OCCNC(=O)CCCCCCCCCCCCC/C=C\\\\C/C=C\\\\CCCCC', 'CCCCC/C=C/C/C=C/C/C=C/C/C=C/CCCCCC(=O)OC[C@H](COP(=O)(O)OCCN)OC(=O)CCCCCCCCCCCCCCCCCC', 'CCCCC/C=C/C/C=C/C/C=C/CCCCC(=O)OC[C@H](COP(=O)([O-])OCC[N+](C)(C)C)OC(=O)CCCCCCCCC/C=C/CCCCCCCC', 'CCCCC/C=C\\\\C/C=C\\\\C/C=C\\\\C/C=C\\\\CCCC(=O)OC[C@H](COP(=O)(O)OCCN)OC(=O)CCCCCCCCCCCCCCCCCCCC', 'CCCCCCCC[Si](c1ccc2c3ccc([Si](CCCCCCCC)(C(C)C)C(C)C)cc3n(-c3cc(C)ccc3OC3CCCCO3)c2c1)(C(C)C)C(C)C', 'CC/C=C/C/C=C/C/C=C/C/C=C/CCCCC(=O)O[C@H](COC(=O)CCCCCCCCCCCCCCCCCCCCCC)COP(=O)(O)OCCN', '[2H]C([2H])([2H])c1cc2c3c(c1)N(c1cc4c(cc1C)C(C)(C)CC4(C)C)c1cc4c(cc1B3c1cc(C(C)(C)C)ccc1N2c1ccc2c(c1)C(C)(C)CC2(C)C)C(C)(C)CCC4(C)C', 'CCCCC/C=C/C/C=C/CCCCCCCCCC(=O)OC[C@H](COP(=O)([O-])OCC[N+](C)(C)C)OC(=O)/C=C/C=C/CCCCCCCCCCCCC', 'C=C(C)C1CC[C@]2(C(=O)NCCNC(=O)[C@H](C)[C@@H](OC)C3CCCN3C(=O)OC(C)(C)C)CC[C@]3(C)C(CCC4[C@@]5(C)CC[C@H](OC(C)=O)C(C)(C)C5CC[C@]43C)[C@@H]12', 'CCCCC/C=C\\\\C/C=C\\\\C/C=C\\\\C/C=C\\\\CCCCCCCC(=O)OCC(O)COP(=O)(O)OCCNC(=O)CCCCCCCCCCCCCCCC', 'CCCC/C=C\\\\C/C=C\\\\CCCCCCCC(=O)NCCOP(=O)(O)OCC(O)COC(=O)CCCCCCCCCCCCC/C=C\\\\C/C=C\\\\CCCCC', 'CC/C=C/C=C/C=C/C=C/CCCCCC(=O)OC(COC(=O)CCCCCCCCCCCCCCCCCCCCCCCC)COP(=O)(O)OCCN', 'CCCCCCCC/C=C/C/C=C/C/C=C/CCCC(=O)O[C@H](COC(=O)CCCCC/C=C/CCCCCCCCCC)COP(=O)([O-])OCC[N+](C)(C)C', 'CCCCC/C=C/C/C=C/C/C=C/CCCCCCC(=O)O[C@H](COC(=O)CCCCCCCCC/C=C/CCCCCC)COP(=O)([O-])OCC[N+](C)(C)C', 'CC.CCCCCCCCC1(CCCCCCCC)c2cc(-c3ccc(C)cc3)ccc2-c2ccc(-c3ccc(N(c4ccccc4)c4ccc(C(C)(C)C)cc4)cc3)cc21', 'CCCCC/C=C\\\\C/C=C\\\\C/C=C\\\\CCCCC(=O)OC(COC(=O)CCCCCCCCCCC/C=C\\\\CCCCCCCC)COP(=O)(O)OCCNC', 'CCCCCC/C=C\\\\CCCCCCCC/C=C/OC[C@H](COP(=O)([O-])OCC[N+](C)(C)C)OC(=O)CCCC(O)/C=C/C=C/C/C=C/CCCCCCCC', 'CCCCC/C=C\\\\C/C=C\\\\CCCCCCCCCCCC(=O)OCC(O)COP(=O)(O)OCCNC(=O)CCCCCCC/C=C\\\\C/C=C\\\\CCCCCC', 'CCCCCCCCCCCCCCCC/C=C/OC[C@H](COP(=O)([O-])OCC[N+](C)(C)C)OC(=O)CCC/C=C\\\\C/C=C\\\\C/C=C\\\\C/C=C\\\\CCCCCO', 'CCCCCCCCCCCCNC(=O)C[C@H](NC(=O)[C@@H](NC(=O)[C@@H](NC(=O)[C@@H](NC(=O)[C@@H](NC(=O)[C@@H](NC)C(C)C)C(C)C)C(C)C)C(C)C)C(C)C)C(=O)O', 'C=CCCCCCCCCCCCCCCCC(=O)O[C@H](COC(=O)CCCCCC/C=C/C/C=C/C/C=C/CCCCC)COP(=O)([O-])OCC[N+](C)(C)C', 'CCCCC/C=C\\\\C/C=C\\\\C/C=C\\\\CCCCC(=O)OCC(COP(=O)(O)OCCNC)OC(=O)CCCCCCCCCCC/C=C\\\\CCCCCCCC', 'CCCCC/C=C\\\\C/C=C\\\\C/C=C\\\\CCCCCCC(=O)OC(COC(=O)CCCCCCCCC/C=C\\\\CCCCCCCC)COP(=O)(O)OCCNC', 'CCCCC/C=C\\\\C/C=C\\\\CC1OC1C/C=C\\\\CCCC(=O)O[C@H](CO/C=C/CCCCCCCCCCCCCCCC)COP(=O)([O-])OCC[N+](C)(C)C', 'CCCCCCCCCCCCCCCC/C=C/O[C@H](COC(=O)CCC/C=C\\\\C/C=C\\\\C/C=C\\\\C/C=C\\\\CCCCCO)COP(=O)([O-])OCC[N+](C)(C)C', 'CCCCC/C=C\\\\C/C=C\\\\C/C=C\\\\C/C=C\\\\CCCCCCCC(=O)NCCOP(=O)(O)OCC(O)COC(=O)CCCCCCCCCCCCCCCC', '[2H]C([2H])([2H])c1cc2c3c(c1)N(C1CCC(c4ccccc4)CC1C)c1cc(C(C)(C)C)ccc1B3c1cc3c(cc1N2c1ccc2c(c1)C(C)(C)CCC2(C)C)C(C)(C)CCC3(C)C', 'CC/C=C/C/C=C/C/C=C/C/C=C/CCCCC(=O)OC[C@H](COP(=O)(O)OCCN)OC(=O)CCCCCCCCCCCCCCCCCCCCCC', 'CC/C=C\\\\C/C=C\\\\C/C=C\\\\C/C=C\\\\CCCCCCC(=O)OC[C@H](COP(=O)([O-])OCC[N+](C)(C)C)OC(=O)CCCCCCCCCCCCCCCCC', 'CCCCC/C=C\\\\C/C=C\\\\C/C=C\\\\C/C=C\\\\CCCCCC(=O)OC(COC(=O)CCCCCCCCCCCCCCCCC)COP(=O)(O)OCCNC', 'CCCCC/C=C\\\\C/C=C\\\\CCCCCCCCCCCC(=O)OC(COC(=O)CCCCCCC/C=C\\\\C/C=C\\\\CCCCCC)COP(=O)(O)OCCN', 'CCCCC/C=C/C/C=C/C/C=C/CCCCCCC(=O)OC[C@H](COP(=O)([O-])OCC[N+](C)(C)C)OC(=O)CCCCCCC/C=C/CCCCCCCC', 'CCCCC/C=C\\\\C/C=C\\\\C/C=C\\\\CCCCC(=O)O[C@H](COC(=O)CCCCCCCCC/C=C\\\\CCCCCCCC)COP(=O)([O-])OCC[N+](C)(C)C', 'CC/C=C/C/C=C/C/C=C/CCCCCCCC(=O)O[C@H](COC(=O)CCCCCCCCCCC/C=C/CCCCCC)COP(=O)([O-])OCC[N+](C)(C)C', 'C=CCCCCCCCCCCCCCCCC(=O)OC[C@H](COP(=O)([O-])OCC[N+](C)(C)C)OC(=O)CCC/C=C/C/C=C/C/C=C/CCCCCCCC', 'CCCC/C=C\\\\C/C=C(/C)C/C=C\\\\C/C=C\\\\CCCC(=O)O[C@H](COC(=O)CCCCCCCCCCCCCCCCC)COP(=O)([O-])OCC[N+](C)(C)C', 'CC/C=C\\\\C/C=C\\\\C/C=C\\\\C/C=C\\\\C/C=C\\\\C/C=C\\\\CCCCCCC(=O)NC(CS(=O)(=O)O)C(O)/C=C/CC/C=C/CC/C=C/CCCCCCCCCCC', 'CCCCC/C=C/C/C=C/C/C=C/C/C=C/CCCC(=O)OC[C@H](COP(=O)(O)OCCN)OC(=O)CCCCCCCCCCCCCCCCCCCC', 'CCCCCCCC/C=C/C/C=C/C/C=C/CCCC(=O)OC[C@H](COP(=O)([O-])OCC[N+](C)(C)C)OC(=O)CCCC/C=C/CCCCCCCCCCC', 'COC1CC2CCC(=O)[C@@H]([C@H](O)CCC[C@H](CCO)[C@H]3CN[C@@H]4CC(=O)CC[C@H]4C3)C#C[C@@H](CC[C@H](O)C[C@H](C=CC3CCCCC3)C3CCNC(N)C3)C2CC1O', 'CC/C=C\\\\C/C=C\\\\C/C=C\\\\C/C=C\\\\CCCCC(=O)OCC(O)COP(=O)(O)OCCNC(=O)CCCCCCCCCCCCCCCCCCCCCC', 'CCCCCC/C=C\\\\CCCCCCCC/C=C/O[C@H](COC(=O)CCCC(O)/C=C/C=C/C/C=C/CCCCCCCC)COP(=O)([O-])OCC[N+](C)(C)C', '[2H]C([2H])([2H])c1cc2c3c(c1)N(c1cc4c(cc1C)C(C)(C)CCC4(C)C)c1cc(C(C)(C)C)ccc1B3c1cc3c(cc1N2c1ccc2c(c1)C(C)(C)CC2(C)C)C(C)(C)CC3(C)C', 'CCCCCCCCCCCCCCCC/C=C/O[C@H](COC(=O)CCC/C=C\\\\C/C=C\\\\C/C=C\\\\C/C=C\\\\CCC[C@@H](C)O)COP(=O)([O-])OCC[N+](C)(C)C', 'CCCCCCCCCCCCCCCC/C=C/OC[C@H](COP(=O)([O-])OCC[N+](C)(C)C)OC(=O)CCC/C=C\\\\C/C=C\\\\C/C=C\\\\C/C=C\\\\[C@H](O)CCCC', 'CCCCCCCCCCCCCCCC/C=C/O[C@H](COC(=O)CCC/C=C\\\\C/C=C\\\\C/C=C\\\\CC1OC1CCCCC)COP(=O)([O-])OCC[N+](C)(C)C', 'CCCCC(CC)(c1ccc2c(c1)C(C)(C)c1cc(C(CC)(CCC)N(c3ccc(C)cc3)c3ccc(C)cc3)ccc1-2)C(C)C(Cc1ccc(C)cc1)C1C=CC(C)=CC1', 'CCCCC/C=C/C/C=C/C/C=C/C/C=C/CCCC(=O)OC[C@H](COP(=O)([O-])OCC[N+](C)(C)C)OC(=O)CCCCCCCCCCCCCCCCC', 'CCCCC/C=C\\\\C/C=C\\\\C/C=C\\\\C/C=C\\\\CCCCCCCCCC(=O)OCC(O)COP(=O)(O)OCCNC(=O)CCCCCCCCCCCCCC', 'CCCCC/C=C\\\\CC(O)/C=C/C=C\\\\C/C=C\\\\CCCC(=O)OC(CO/C=C\\\\CCCCCCCCCCCCCCCC)COP(=O)([O-])OCC[N+](C)(C)C', 'CC/C=C\\\\C/C=C\\\\C/C=C\\\\CCCCCCCC(=O)OC(COC(=O)CCCCCCCCCCC/C=C\\\\CCCCCCCC)COP(=O)(O)OCCNC', 'CCC(C)(C)C(=O)OC.CCC(C)(C)C(=O)OCCN(C)C.CCC(C)(C)C(=O)OCCOC.CCCC[SiH2]O[Si](C)(C)CCCOC(=O)C(C)(C)CC', 'CCCCC/C=C\\\\C/C=C\\\\C/C=C\\\\C/C=C\\\\CCCC(=O)O[C@@H](CO)C(OP(=O)([O-])OCC[N+](C)(C)C)C(=O)CCCCCCCCCCCCCCCCC', 'CCCCC/C=C\\\\C/C=C\\\\C/C=C\\\\CCCCCCCCC(=O)OCC(O)COP(=O)(O)OCCNC(=O)CCCCCCC/C=C\\\\CCCCCCCCC', 'CC/C=C/C=C/C=C/CCCCCCCC(=O)OC(COC(=O)CCCCCCCCC/C=C/CCCCCCCCCC)COP(=O)([O-])OCC[N+](C)(C)C', 'CC1=NC(=NC(=N1)OC)N', 'C=C(C)Cn1nn[nH]c1=O', 'Cc1cnc(C(N)=NO)[nH]1', 'Cn1nnn(C2CC2)c1=O', 'C[C@@H]([NH3+])C(=O)c1ccco1', 'CC(N=[N+]=[N-])C1CNC1=O', '[N-]=[N+]=NC[C@H]1CCC(=O)N1', 'COc1ccc(C)c[n+]1O', 'OCC1(n2ncnn2)CC1', 'CNn1ccc(=O)nc1N', 'C[C@H]([NH3+])C(=O)c1ccco1', 'CC(CCN=[N+]=[N-])N=C=O', 'Cn1ccc(N)nc1=NO', 'COC(N)=Nc1ccn[nH]1', 'Cc1c(C(N)=O)nnn1C', 'CNc1nnc(C=O)n1C', 'NCC(=O)Cn1nccn1', 'CCC(=O)Nc1cn[nH]n1', 'C1C[C@@H](c2nn[nH]n2)CO1', 'C=CCCn1nn[nH]c1=O', '[O-][N+]12C=CNC1=NCNC2', 'CC(=O)c1n[nH]c(CN)n1', 'Cc1nn(C)c(=O)nc1N', 'CCn1ncc(C(N)=O)n1', 'CCC(=O)N/C(N)=N/C#N', '[CH2]OC(C)(C)c1cnco1', 'OC1(Cn2ncnn2)CC1', 'Cc1nc(CNC=O)n[nH]1', 'Cc1nnc(N)n(C)c1=O', 'C.C.CSCSC', 'Cc1nc(C)n(C(N)=O)n1', 'CC=C(C)n1nn[nH]c1=O', 'COc1cnc(NN)cn1', 'Nc1nnc(NC2CC2)o1', 'Cc1nnc2n1CC(=O)N2.[H][H]', 'CNc1nnc(C)c(=O)[nH]1', 'Cn1cnc(N)c1C(N)=O', 'CC(=O)Nc1n[nH]c(C)n1', 'NC1=C(N)C(N)=C(N)C1=O', '[N-]=[N+]=NC[C@@H]1CCNC1=O', 'CC(=O)Nn1ccnc1N', 'Cc1cnc(N=C(N)N)o1', 'CCONc1ncncn1', 'C/C(Cn1ccnn1)=N/O', 'O=C1C[N+](=O)C2CCCC12', 'O=C1NCC2NC=NC2N1', 'C/N=C(\\\\NN)c1ccon1', '[H]/N=C(\\\\N)N1CC2(C1)NC2=O', 'Nc1cc(N)c(O)c(N)n1', 'C[CH-]C.[3H]C[CH2-].[CH3-].[V]', 'Cn1nncc1C(=O)CN', 'CNC(=O)CC1=NCN=N1', '[2H]N1C(=O)[C@H]2C(C)[C@@]2(C)C1=O', 'CC12CCC(C(=O)C1)N2[O]', 'COc1cc(C)c[n+](O)c1', 'Cn1ncc(CC(N)=O)n1', 'Cn1ccc(/C(N)=N\\\\O)n1', 'Cc1cnc(=O)[nH]c1NN', '[NH3+]c1c(O)cccc1CO', 'OC1CCc2nnnn2C1', 'CCc1[nH+]c(=O)cc(C)o1', 'Cn1nccc1/C(N)=N\\\\O', '[H]/N=C(\\\\N)N(N)c1ccoc1', 'CCC(=O)n1ncnc1N', 'C[N+]1=CC=C(C(=O)O)CC1', 'Oc1oc[n+]2c1CCCC2', 'C[N+](O)(O)c1ccccc1', 'COc1cc(NN)ncn1', 'C/C(=N\\\\O)c1[nH]cnc1N', 'CNC(=O)c1cnnn1C', 'CC(/C=N/O)n1cnnc1', 'CCN(O)c1ncncn1', 'CO.O=[NH+]c1ccccc1', 'Cc1ccc([NH2+]O)c(O)c1', 'NC(=O)NCn1cccn1', 'CC(O)OOC(C)O.O', 'CNC(=O)c1cc(N)n[nH]1', 'NC1(c2cn[nH]n2)COC1', 'COc1nccnc1NN', 'Cn1ccnc1/C(N)=N/O', 'COC(=O)C1=[N+](C)C=CC1', 'c1nnnn1CCC1CO1', 'COc1cncc(NN)n1', 'Cn1ncnc1C(=O)CN', 'O=c1[nH]nc2n1NCCC2', 'Cn1nccc1C(N)=NO', '[2H]c1ccc(C(=O)OC)n1C', 'CC(=O)NCc1cn[nH]n1', 'CNc1c(N)nc[nH]c1=O', 'O=C(O)c1ccccc1.[NH4+]', 'Cc1cc(O)c(O)[n+](C)c1', 'NCc1[nH]ncc1C(N)=O', 'Cc1nccn1NC(N)=O', '[N-]=[N+]=NCC(=O)NC1CC1', 'CN1C=C(N=O)C(N)=NC1', '[H]/N=C(\\\\N)n1[nH]c(=O)cc1C', 'Cc1cc(N)n(C(N)=O)n1', 'NC(=O)Cn1ccc(N)n1', 'CNC(=O)c1[nH]ncc1N', '[N-]=[N+]=NC1CCNCC1=O', 'C=C1N=C(N)NC(=O)N1C', 'CCNn1cncnc1=O', 'Cc1nc(N)c(C(N)=O)[nH]1', 'CNc1n[nH]c(C(C)=O)n1', 'O=c1[nH]nc2n1CCCN2', 'Cc1nnc(C(C)O)nn1', 'O=C1CCN2NC=NC2N1', 'N/C=N/C1=NC=CN(O)C1', 'NC(=O)CNc1ccn[nH]1', 'CC(=O)NN1C=CC=NN1', 'NCCc1nnc[nH]c1=O', 'CCc1[nH]nc(N)c1N=O', 'C1NCC2=NOCN=C2N1', 'CCNc1ncnc(=O)[nH]1', 'CCCC(N=C=O)N=[N+]=[N-]', 'CNc1ncn(C)c(=O)n1', 'CC(N)C(=O)c1cn[nH]n1', 'CCC(N)C(=O)OC.[Na]', 'C/N=C(\\\\NO)c1cn[nH]c1', '[H]/N=C(\\\\N)c1cn(C)c(=O)[nH]1', 'CN(C)C(=O)c1ncn[nH]1', 'CNC(=O)Cn1cnnc1', 'Cc1cnn(CC(N)=O)n1', 'NNC(=O)Cc1ccn[nH]1', 'NC(=O)N1C=CC=NC1N', 'Cc1c(NN)nc[nH]c1=O', 'Cc1nc(N)nc(=O)n1C', 'N/C(Cn1ccnc1)=N/O', 'CC(C)=Cn1nn[nH]c1=O', 'CCNC(=O)n1cncn1', 'CC(O)c1ncnc(N)n1', 'Cc1cc(NO)nc(N)n1', 'NC(=O)NCn1ccnc1', 'NC(Cc1cnc[nH]1)=NO', 'Nc1ncnc(N)c1CO', 'Cc1nc(N)n(C)c(=O)n1', 'CCON=Cn1cncn1', 'CCOc1cnnc(N)n1', 'NC(N)=NCc1ncco1', '[H]/N=c1\\\\nc(C)c(C)nn1O', 'O=CCCCn1cnnn1', 'NCc1cn[nH]c1C(N)=O', 'O.OC[C@@H](O)[C@@H](O)CO', 'COCc1ccc[n+](O)c1', 'CN1CN(C)c2nonc21', 'CC/C(=N\\\\O)c1ncn[nH]1', '[C-]#[N+]CCOCCN=[N+]=[N-]', 'Cc1cc(=O)[nH]c(NN)n1', 'CNn1ccnc1C(N)=O', 'C/C(=[NH+]/O)c1ccc(C)o1', 'CN(C)C(=O)n1ccnn1', 'Nc1nc(NC2CC2)no1', '[H]/N=C(\\\\N)c1cn[nH]c1OC', 'CNC(=O)c1[nH]cnc1N', 'CC(/C=N\\\\O)n1nccn1', 'COc1ncc(CN)nn1', 'COC1=CC=CC(C)[N+]1=O', 'C=CC(=O)OC#[N+]CCC', 'O=c1[nH]nc2n1CCNC2', 'NC(=O)C1=C(N)NC=NC1', 'CCNC(=O)c1ncn[nH]1', 'CC(C)C(C#[N+][O-])N=[N+]=[N-]', 'COc1cnc(N)c(N)n1', '[H]/N=C(\\\\N)c1c[nH]n(C)c1=O', 'CC(=O)NN1C=NC=NC1', 'CC(=O)c1nc(N)nn1C', 'CC(=O)N[C@@H]1C[C@H]1N=[N+]=[N-]', 'C[N+]1(C)C=CC=C1C(=O)O', 'CNc1cn[nH]c1C(N)=O', 'CO/C(N)=N\\\\c1ccn[nH]1', 'Nc1cc(N)c(N)c(=O)[nH]1', 'Cc1cccc([NH2+]O)c1O', 'NNC(=O)C1=NC=NCC1', '[2H]c1nccc(OC)c1OC', 'Cn1cnc(N)c1/C=N/O', 'NC(=O)CCn1cncn1', '[CH-]1OCCO1.[CH2-]CC.[Mg+2]', 'CC1=NN=C(N)NC(=O)C1', 'C/C=N/n1c(C)n[nH]c1=O', 'NC(=O)Cc1cnc(N)[nH]1', 'Cc1cc(O)cc(C)[n+]1O', 'NCC(=O)Cn1cncn1', 'Cn1cc(C(N)=NO)cn1', 'CC1=NC2=C(NC1)NNO2', 'CC1(CC(N)=O)C=NN=N1', 'Cn1ccc(C(N)=NO)n1', 'O.OC[C@@H](O)[C@H](O)CO', '[H]/N=C(\\\\N)c1[nH]ncc1OC', 'COC(=O)C1=[N+](C)CC=C1', '[N-]=[N+]=NCN1CCCC1=O', 'CC(C)C(N)C(=O)O.[Na]', 'Cn1nnc(CN)c1C=O', 'NNc1ncc(CO)cn1', 'COc1cc[n+](OC)cc1', 'NC(=O)CCc1cn[nH]n1', 'O=S(=O)([O-])[O-].[2H][N+]([2H])([2H])[2H].[2H][N+]([2H])([2H])[2H]', 'CC(C#N)OCCN=[N+]=[N-]', 'CC(=O)c1cc(N)nn1N', 'NNc1nccc(CO)n1', 'O=C1C=CN2NNCC2N1', 'Cc1cn[nH]c1C(=O)NN', 'COc1ncncc1NN', 'OCc1cc[n+](CO)cc1', 'COc1cccc(OC)[nH+]1', 'N/C(Cc1cnc[nH]1)=N\\\\O', 'CCC(CC)C(=O)O.[Mg]', 'CCOCC1=C=C(C)[N]O1', 'Cn1nnc(C2(O)CC2)n1', 'COc1cc(N)c(N)nn1', 'CN(C)C(=O)n1nccn1', 'NN1CC2=COC=CN2N1', '[H]/N=N/[C@@](C)(C#N)CC(N)=O', 'CNCC(=O)c1ncn[nH]1', 'C[NH2+]OC(=[O+])C1C=CC=C1', 'CNn1ccc(C(N)=O)n1', 'COc1ccc(NN)nn1', 'NCc1[nH]ncc1NC=O', '[H]/N=C(\\\\OCC)c1ncn[nH]1', 'CC(C#N)C/N=N/C(N)=O', 'Cc1coc(N=C(N)N)n1', 'OCCc1ccc[n+](O)c1', 'CC/N=N/N(C=O)CC#N', 'CNc1cnc(=O)[nH]c1N', 'C[NH2+]c1ccc(O)c(O)c1', 'CN1COCN=C1NC#N', '[H]/N=C(\\\\N)N(N)c1ccco1', 'CC(=O)NCc1ncn[nH]1', 'Cn1cncc1NC(N)=O', 'CN(C)N=CC(C#N)N=O', 'O=c1[nH]nc(C2CCN2)[nH]1', 'CCC(=O)Cc1nn[nH]n1', 'Cc1[nH]nc(C(N)=O)c1N', 'NC(Cn1cccn1)=NO', 'C[N-]CCCC(F)(F)F', 'NC(=O)C1C=NC(N)=NC1', 'CCC(C)CC(=O)O.[Mg]', '[2H]N([2H])[2H].[2H]N([2H])[2H].[2H]OS(=O)(=O)O[2H]', 'NC(=O)CCn1nccn1', 'NC(=O)Cc1cn[nH]c1N', 'NC(=O)NN1C=CC=CN1', 'Cc1nn(C(N)=O)cc1N', 'Cc1nc(N)cc(=O)n1N', 'CCC(=O)N1C=NN=CN1', 'CCN(C#N)N1NC=CO1', 'Cn1cncc1C(=O)NN', 'CC(=O)Nc1ncnn1C', 'C/N=C(\\\\NO)n1cccn1', 'CC1NC=CC(C=O)=C1[OH2+]', 'N#CC[C@H](O)CCN=[N+]=[N-]', 'c1nnnn1CC[C@H]1CO1', 'O=c1[nH]ncn1C1CNC1', 'NC(N)=NCc1ccno1', 'NC(N)=Nc1occc1N', 'Cn1ccnc1/C(N)=N\\\\O', 'CN(C)C(N=[N+]=[N-])=NN=[N]', 'C#C.CC(=O)NCN=[N+]=[N-]', 'CCC(C)(C#C)NC(=O)C1=CC(=C(C=C1)OC)OC', 'CC(C)OCC(O)Cn1ccc(=O)c2ccccc21', 'OC(CNCc1ccco1)COCc1ccccc1', 'CC1(C)CNC1Cn1cc(-c2ccncc2F)nn1', 'Cc1c(NN)ncnc1N(C)Cc1ccccc1F', 'O=C(O)C1CCN(CC2CCOc3ccccc32)C1', 'O=C(NC[C@@H]1COC2(CCCC2)O1)c1ccccc1', 'CCCCC(=O)Nc1ccc(C)c(C=CC(=O)O)c1', 'CCOC(=O)c1ccc2c(c1)CC(C)[C@H](C)N2C=O', 'NC(=O)c1ccc(OCC(=O)C2CCCCC2)cc1', 'CC(C)C1COC(=O)N1C(=O)CCc1ccccc1', 'COc1ccc(C)cc1/C=C/C(=O)N1CCC(O)C1', 'COc1ccc2c(c1)N1CCCCC1C(C(=O)O)C2', 'CCOc1ccccc1C(=O)CN1CCCCC1=O', 'Cc1oc2ccccc2c1CNC(C(=O)O)C(C)C', 'Fc1ccc2nc(NC3CCN4CCCC34)nn2c1', 'Cc1cccc(C)c1C(=O)N1CCC[C@@H](C(=O)O)C1', 'O=C(O)C1CNC(c2cc3c(cc2O)CCCC3)C1', 'CCCNCC(C)(O)c1ccccc1C(F)(F)F', 'Cc1c2c[n+](C)ccc2c(C)c2c1[nH]c1ccccc12', 'CC1(CNC(=O)Cc2ccc(C(=O)O)cc2)CCC1', 'CCCOC(=O)C(CC)N1Cc2ccccc2C1=O', 'O=C(OCC1CCCC1)C1CNc2ccccc2O1', 'CCOCCC(=O)Nc1cccc(C#CCCO)c1', 'CCN(CCO)C(=O)c1ccc(C)cc1C#CCO', 'CCOc1ccccc1C(CCC(F)(F)F)NC', 'Cc1cccc(/C=C/C(=O)N2CCOC(CO)C2)c1', 'C=CCCC(NC(=O)c1ccc(C)c(C)c1)C(=O)O', 'CCc1cccc(OCC(=O)N2CCC(=O)CC2)c1', 'c1cc2c(cc1C1(C3CCCCN3)COC1)OCO2', 'O=C(c1ccc(C2CCOC2)cc1)N1CC(CO)C1', 'CC(C)(C)OC(=O)C1CN(C(=O)c2ccccc2)C1', 'COCC(C)N(C)CC(=O)c1cc2ccccc2o1', 'c1cc(CNC2CCOC2C2CC2)c2c(c1)OCO2', 'CCN(CCO)C(=O)c1cc(C)ccc1C#CCO', 'O=C1c2ccccc2CCN1CC1(O)CCOCC1', 'O=C(OCC1CCN2CCC(O)C12)c1ccccc1', 'C=CCOC(=O)Nc1cccc2c1OC(C)(C)CC2', 'CC(C)N(C(=O)c1ccc2c(c1)OCCO2)C1CC1', 'c1ccc(OCCCCCOCc2ccon2)cc1', 'CCCCC1(O)c2ccccc2C(=O)N1C1(O)CC1', 'CCOC1(C)C(=O)N(C)C(=O)C1Cc1ccccc1', 'CC1CCCCN1C(=O)COc1ccccc1C=O', 'COc1ccc(N2C(=O)C(C)(C)[C@@H]2[C@@H]2O[C@H]2C)cc1', 'COC(=O)[C@H]1C[C@@H](F)CN(C(=O)OC(C)(C)C)C1', 'c1cc(CC2CO2)cc(N(CC2CO2)CC2CO2)c1', 'CC[C@H]1CCN(C(=O)Cc2ccc(C(=O)O)cc2)C1', 'Cc1cc(N2CC3(CCOCC3)C2)ccc1C(=O)O', 'O=C(O)CCCCCNC(=O)/C=C/c1ccccc1', 'COc1ccc(CN2CCC(=O)CCC2=O)cc1C', 'CC[C@H](C(=O)O)N1CC(C=O)C(c2ccccc2)C1', 'CCCOCCCNc1ccccc1C(F)(F)F', 'COC(=O)C(C)(C)Cc1ccc2c(c1)CCC(=O)N2', 'CC(C)CNCCOc1ccc(C(F)(F)F)cc1', 'CC(C)CCC(=O)c1ccc2c(c1)C(=O)NCCO2', 'CCN(CCc1ccccc1)C(=O)C1(C(=O)O)CC1', 'CON1C(=O)Cc2cc(C(C)C)cc3c2[C@]1(C)CO3', 'CC(C)(C(=O)O)C(=O)Nc1ccc2c(c1)CCCC2', 'CCOCC(C)Oc1ncc(CO)c2ccccc12', 'Cc1cccc(C(=O)N2CCC(C(=O)O)C(C)C2)c1', 'CN(C(=O)C1(C)CCCC1)c1ccccc1C(=O)O', 'CCOC(=O)C(C)(CCC#N)c1cccc(OC)c1', 'COc1ccc(C2NC3(CCCCC3)C(=O)O2)cc1', 'CC1CCN(C(=O)COc2ccc(C=O)cc2)CC1', 'CCCN(CC(=O)OC)C(=O)/C=C/c1ccccc1', 'C=CCN(CC=C)[C@@H](Cc1ccc(O)cc1)C(=O)O', 'CC(=O)Cc1ccc(OCCC(=O)NC2CC2)cc1', 'Cc1ccc(C)c(C(=O)N(C2CC2)C(C)C(=O)O)c1', 'C[C@@H](NC1CCCCC1C(F)(F)F)c1ccco1', 'Oc1cc2c(cc1CNC(C1CC1)C1CC1)OCO2', 'CC(CC(=O)NC1CC(C(=O)O)C1)c1ccccc1', 'COc1ccc2c(c1)CC(C(=O)N1CCCC1)CO2', 'Cc1ccccc1C(=O)N1CCC2(CC1)OCCO2', 'COc1cc(OC)c2ccn(C(=O)C(C)(C)C)c2c1', 'CCC(N)C(Oc1cccc(OC)c1)c1ccco1', 'O=C(c1c(O)cccc1O)N1CCCC2CCCC21', 'O=C1CCCCC(C(C[N+](=O)[O-])c2ccccc2)C1', 'O=C(O)CC1CN(C2CCCC2O)c2ccccc21', 'CC(C)(C#N)CCCCOc1ccc(C(=O)O)cc1', 'CNC1CCCc2c(OC3CCOC3=O)cccc21', 'Cc1cc2cc(CN(C)CCC(=O)O)oc2cc1C', 'CCOC(=O)C1CCC1C(=O)NCc1ccccc1', 'Cc1cccc(NC(=O)C2CCCC(C(=O)O)C2)c1', 'O=C(C1CC1)N1CC[C@H](c2ccc(O)cc2)[C@@H](O)C1', 'OC1=CC=CC2NCC3COC4(CCOCC4)C3=C12', 'CCOC(=O)CN1CCC(Cc2ccccc2)C1=O', 'O=C(CCC1CCC1)N[C@H](C(=O)O)c1ccccc1', 'CCCCC(=O)NC1CCOc2ccccc2C1=O', 'O=C(CNC1CC1)OCc1ccc2c(c1)CCCO2', 'CC1(C(=O)O)CCN(CC2Cc3ccccc3O2)C1', 'COc1cccc(C(O)C2(C#N)CCCC2)c1OC', 'O=C(c1ccc(O)cc1O)N1CCC2CCCCC21', 'COCCCC(N)C(=O)c1cc2cc(C)ccc2o1', 'COc1cc2c(cc1OC)C(C1CC1)N(C=O)CC2', 'O=C(CCC1CCCC1)Nc1ccccc1C(=O)O', 'C/C=C(\\\\C)C(=O)NC(c1ccccc1)C(C)C(=O)O', 'CC1(OCC(=O)O)CN(C/C=C/c2ccccc2)C1', 'C/C=C\\\\C(=O)N1CCc2cc(OC)c(OC)cc2C1', 'CC(C)COCCn1c(C(=O)O)cc2ccccc21', 'COc1cc([C@@H](C)O)ccc1OCC1(CC#N)CC1', 'Cc1cc(COc2ccc(CCC(C)O)cc2)on1', 'CC(CCOc1ccccc1)CNCC(F)(F)F', 'CN(C(=O)OC(C)(C)C)C1Cc2ccccc2C1=O', 'CCOC(Cn1ccc2ccccc2c1=O)OCC', 'CC(C)c1nc(NN)cc(Nc2cccc(F)c2)n1', 'CC(=O)C1CCCN(c2ccccc2C(=O)O)CC1', 'C=CC[C@@H](Cc1ccccc1)NC(=O)CCC(=O)O', 'CC1CCN(C(=O)c2ccccc2C(=O)O)CC1C', 'COC(=O)c1[nH]c2c(c1C1CC1)C(=O)CC(C)(C)C2', 'O=C(C1COc2ccccc2C1)N1CCC(CO)C1', 'O=C(Oc1ccccc1)N1CC[C@H](OCC2CC2)C1', 'COc1ccccc1C(=O)N1CCC(C)(C)C(=O)C1', 'CC(C)[C@H]1OC(=O)[C@@H](Cc2ccccc2)N(C)C1=O', 'CC(Oc1ccc2c(c1)COC2=O)C1CCCCN1', 'Cc1ccc2c(c1)C1(COCCCO1)CC(=O)NC2', 'Oc1c2c(c(C3CCCCN3)c3c1OCC3)OCC2', 'COc1ccc2oc(CNCC3(CO)CC3)cc2c1', 'COC(C)(C)C(N)Cc1ccccc1C(F)(F)F', 'COC(=O)CCCN1C(=O)C(C)(C)c2ccccc21', 'CCOC(C)O[C@H]1C(=O)N[C@H]1/C=C/c1ccccc1', 'CC(=O)c1cccc(NC(=O)CC2CCCCO2)c1', 'NCCn1cc(CN2CCc3ccc(F)cc32)nn1', 'Cc1ccc(C)c(C(N)COC(C)C(F)(F)F)c1', 'COC(=O)C1CC(=O)N(c2ccc(C)c(C)c2)C1C', 'CCC(C(=O)NCC1(C(=O)O)CC1)c1ccccc1', 'Cc1ccccc1C(C)NCCOCC(F)(F)F', 'CCNC(c1ccc(CCOC)cc1)C(F)(F)F', 'CC(CN)C(C)Cc1ccc(OC(F)(F)F)cc1', 'COC(=O)C/C(=N\\\\CCCC=O)c1ccc(C)cc1', 'COC(=O)CCNC(=O)c1ccc2c(c1)CCCC2', 'COC(=O)N1CCCC1C(=O)c1ccc(C)c(C)c1', 'CCC(C)COc1ccc(CN)cc1C(F)(F)F', 'NCCc1cc2c(cc1OC1C=CCCC1)OCO2', 'CN(C(=O)CC(C)(C(=O)O)c1ccccc1)C1CC1', 'Cc1cccc(C(=O)N2CCOC3CCCC32)c1O', 'CN(C)C(C)(C)C(O)c1ccc(C(F)(F)F)cc1', 'COc1ccccc1C[C@H](O)CNCc1ccco1', 'CNC(CCC(=O)O)C(=O)c1ccc2c(c1)CCC2', 'COc1ccccc1CN(C)Cc1ccc(CO)o1', 'COc1cc(C)c(C(C)(C#N)C(=O)O)cc1C(C)C', 'Cc1cc(N)ccc1OCCCCCC(F)(F)F', 'Cc1cccc(OC2C[C@H]3CC[C@@H](C2)N3C(=O)O)c1', 'CCc1ccc(OC)c(C(N(C)C)C(F)(F)F)c1', 'Cc1c(CCCO)c2cc3c(cc2n1C)OCCO3', 'C#CCN(CCC)C(=O)c1cc(OC)cc(OC)c1', 'COc1cccc2cc(C(=O)N[C@H](C)C(C)C)oc12', 'NC1CCCN(c2n[nH]c(-c3ccc(F)cc3)n2)C1', 'COC(CNCc1ccc2c(c1)OCCO2)=C1CC1', 'Cc1c2c(c(C3(CN)COC3)c3c1OCC3)OCC2', 'COc1ccc2c(CC(=O)N(C)C(C)C)coc2c1', 'CCCC(NC(=O)C1Cc2ccccc2C1)C(=O)O', 'C[C@@H](NC(=O)CC1(C(=O)O)CCC1)c1ccccc1', 'CCC(C)/C(=N/OC/C=C/c1ccccc1)C(=O)O', 'CNC(c1cc(OC)cc(OC)c1)c1occc1C', 'O=C(NCC1CCCC1O)C1COc2ccccc21', 'Cc1cc(C)c(C(=O)O)cc1NC(=O)CC1CCC1', 'CC(C)(C)NCCc1ccccc1OC(F)(F)F', 'CCN(CC)C(=O)c1cccc(C=CC(=O)O)c1C', 'CC(C)OCC(=O)Nc1cccc(C#CCCO)c1', 'OC1CC2CCC(C1)N2Cc1ccc2c(c1)OCO2', 'O=C1CCC(CN2CCOCC2)(c2ccccc2)O1', 'CC1=C(CO)C=[N+](NNc2ccccn2)C(C)C1=O', 'CC(C(=O)O)C1CN(CC2Cc3ccccc3O2)C1', 'Cc1oc2ccccc2c1CNCC1(O)CCOC1', 'COC(=O)C1CC(=O)N(Cc2cccc(C)c2C)C1', 'Cc1ccc(N(C)C(=O)[C@H]2[C@@H](C(=O)O)C2(C)C)cc1', 'CCNCc1ccccc1COC(C)C(F)(F)F', 'CC(C)(C)OC(=O)N1OCC=CC1c1ccccc1', 'O=C(O)C1=CCCN(CCCOc2ccccc2)C1', 'Cc1cc(NN)nc(CN(C)c2ccc(F)cc2)n1', 'Cc1cccc(NC(=O)C2CCCC2C)c1C(=O)O', 'c1cc2c(cc1OC1C[C@H]3CCC[C@@H](C1)N3)OCO2', 'CCOC(=O)C(=O)NCC1(c2ccccc2)CCC1', 'COc1ccc(C(=O)NC(C)(C)C)cc1C#CCO', 'CCOC(=O)CN1C(=O)C[C@H](c2ccccc2)[C@H]1C', 'COc1cc(CCC(=O)OC(C)(C)C)ccc1C#N', 'CCCC/C(C#C[C@@](C)(O)C1(C#N)CC1)=C/C(=O)O', 'COCCNC(C)Cc1cccc(C(F)(F)F)c1', 'CCC1CN(Cc2ccccc2C(=O)O)CCC1=O', 'CCC(C)c1ccc(N(C)C(=O)/C=C/C(=O)O)cc1', 'Cc1ccccc1C(=O)N1CCC(C)(C(=O)O)CC1', 'COC(=O)[C@@H](CC(C)C)N1Cc2ccccc2C1=O', 'Cc1ccc(C(=O)CN2CCC(C(=O)O)CC2)cc1', 'CC(C)=CC(=O)N(C)CC1COc2ccccc2O1', 'COc1ccc(C2CCCC3(C2)CC3C(=O)O)cn1', 'CCN(C)C[C@](C)(O)c1ccccc1C(F)(F)F', 'COc1ccccc1OC(C)CNCc1ccco1', 'CCOC(C)O[C@H]1C(=O)N[C@@H]1C=Cc1ccccc1', 'CCCNc1cc(Nc2ccccc2F)nc(N)n1', 'Cc1cccc(C)c1NC(=O)[C@@H]1CC[C@H](C(=O)O)C1', 'O=C([C@H]1CCCO1)N1CCO[C@H](c2ccccc2)C1', 'Cc1ccccc1C(=O)CN1CCC(C(=O)O)CC1', 'COc1ccc2c(c1)CC(C#N)(OCCCO)CC2', 'Cc1cc(C(=O)O)ccc1NC(=O)CC1CCCC1', 'CCC(=O)NCCC1CCc2ccc3c(c21)OCO3', 'Cc1cnc(NN)nc1NC(C)c1ccccc1F', 'CC(=O)OCC(=O)NCC1(c2ccccc2)CCC1', 'CCNCc1oc2ccccc2c1COC1COC1', 'O=C(OCCC1CCC1)c1cccc2c1OCCN2', 'Cc1ccc(C)c(C(=O)NC2CCCC2C(=O)O)c1', 'Cc1cccc(C(=O)N2CCC3(CC2)OCCO3)c1', 'CC(C)Cc1ccc(NC(=O)C2CC2C(=O)O)cc1', 'C#CCN(CC)C(=O)Cc1ccc(OC)c(OC)c1', 'CC(=O)Nc1ccc(/C=C/C(=O)OC(C)(C)C)cc1', 'CC(C)(C)OC(=O)Nc1cccc(C2CC(=O)C2)c1', 'CC(C)C(CO)NC(c1ccccc1)C(F)(F)F', 'CC(C)=O.Nc1ccccc1.Oc1ccc(O)cc1', 'CC(C)(C)OC(=O)N1C[C@H]2CC3=C(C(=O)CC=C3)[C@H]21', 'CC(=O)O[C@H]1C(=O)N(C(C)(C)C)[C@H]1c1ccccc1', 'C[N+](C)(C)CCO.OC[C@@H](O)[C@@H](O)CO.[Cl-]', 'CC(C)c1cc(N2C(=O)C(C)C(C)C2=O)ccc1O', 'Cc1ccc(Nc2nc(C)c(C)c(NN)n2)cc1F', 'COC(=O)C=Cc1ccc2c(c1)CCC2NCCO', 'C=CCCC(=O)N(C)CCc1ccccc1C(=O)O', 'COC(=O)c1ccc2c(c1)[C@]1(CCC2)COCCN1', 'NCCC(OCCCc1ccccc1)C(F)(F)F', 'COCc1ccccc1C(=O)N1CC(O)(C2CC2)C1', 'CC(C)CN(C(=O)c1cccc(C(=O)O)c1)C1CC1', 'C#CCC(C)NC(=O)C1CCC(C(F)(F)F)CC1', 'CCNC1CCc2cc(OC3CCOC3=O)ccc21', 'NC(=O)O.OC1(C#Cc2ccccc2)CCCCC1', 'CNC(Cc1cc(C)ccc1OC)CC(F)(F)F', 'CC(C)(C(=O)NC1CC1)c1ccc2c(c1)OCCO2', 'O=C(CN(CCO)C1CC1)c1ccc2c(c1)CCO2', 'CN(CCc1ccccc1C(=O)O)C(=O)CC1CC1', 'CC1=C/C(=N/O)C2=C(C)CC[C@H]3[C@H](OC(=O)[C@@H]3C)[C@@H]12', 'Cc1ccc(/C=C/C(=O)NC(C)(C)C(=O)O)c(C)c1', 'COc1ccc(C#CCO)cc1NC(=O)CC(C)C', 'COc1cc(OC)c2c(c1)c(CC(C)=O)c(C)n2C', 'C=CCN(CCOC)c1ccccc1/C=C/C(=O)O', 'CCOC(=O)N1c2ccccc2C[C@H]2CCCO[C@H]21', 'CC(=O)c1ccccc1C(=O)NC1CCC(O)CC1', 'CCCN(C(=O)Cc1ccccc1C(=O)O)C1CC1', 'C#CCNC(C(=O)OC)c1cccc(OCCC)c1', 'CNC(=O)C(O)CC1CCc2ccc3c(c21)CCO3', 'CCOC(=O)CC(=O)NCC1CCc2ccccc21', 'Cc1ccc(N/C(=C\\\\C(=O)C(C)(C)C)C(=O)O)cc1', 'CC(CNC(=O)c1ccc(C2CCC2)cc1)C(=O)O', 'CCC(NCCOCC(F)F)c1ccc(F)cc1', 'COC(=O)C(C)(C)Cn1ccc2cc(OC)ccc21', 'CC(=O)Nc1ccccc1OCC(=O)C1CCCC1', 'CCOc1ccc(-c2nc(CO)c(C(C)C)o2)cc1', 'CCNC(c1ccc(OC(F)(F)F)cc1)C(C)C', 'Cc1cccc(OCC(O)CNCc2ccoc2)c1', 'CCC(C)Oc1ccc(CCN)cc1C(F)(F)F', 'CCCOC(=O)C(C)n1ccc2cc(OC)ccc21', 'Cc1ccc(C(Oc2ccccc2CO)C(C)N)o1', 'CCn1c(=O)oc2cc(C(=O)C(C)C(C)C)ccc21', 'CC1=C(/C=C/c2cc(C(=O)O)no2)C(C)(C)CCC1', 'COC(=O)[C@@]1(NC(=O)OC(C)(C)C)C[C@H]1CCF', 'CC1CN(c2n[nH]c(-c3ccc(F)cc3)n2)CCN1', 'CC1(C)CC(N2CC(C(=O)O)C2)c2ccccc2O1', 'COc1ccc2c(c1OC)CC[C@@H]1NC(=O)CC[C@H]21', 'C=N[C@H](CCCC(C)=O)C(=O)OCc1ccccc1', 'CC#CCCOc1cc2c(cc1CC(C)N)OCO2', 'CCOC(=O)CN1C(=O)CCCc2ccc(C)cc21', 'CC1=CC(=NO1)NS(=O)(=O)C2=CC=C(C=C2)N', 'N#CC1CN(S(=O)(=O)c2cccnc2)CCO1', 'CCOC(=O)Cc1cc(C#N)cc(CO)c1Cl', 'CC1CON2C(=O)c3cc(Cl)ccc3OC2C1', 'CCOC(=O)Cc1nn2c(=O)cc(C)nc2s1', 'COCC(C(=O)O)n1ccc2cccc(Cl)c21', 'NNc1nccc(Nc2cc(F)ccc2Cl)n1', 'O=C(NC1(C(=O)O)CCSC1)c1cncnc1', 'COC(=O)c1csc(CCNC(=O)CC#N)n1', 'CCCn1c(SC)nnc(C(F)(F)F)c1=O', 'N#Cc1ccc(S(=O)(=O)N2CCOCC2)cn1', 'O=C(O)Cc1ccc(N2CCC(=O)C2)c(Cl)c1', 'CS(=O)(=O)c1cccc(O)c1-c1cn[nH]c1N', 'N#Cc1ccc(S(=O)(=O)N2CCC(O)C2)cn1', 'C#CCC(C)Oc1cc(N)c(Cl)cc1C(=O)O', 'CC(C)(CCl)NC(=O)C1CCS(=O)(=O)C1', 'O=C(O)NCC(=O)C1CC1c1ccc(Cl)cc1', 'COC(=O)c1cn(CCO)c2cccc(Cl)c12', 'COc1ccc(-n2c(=O)[nH][nH]c2=S)cc1OC', 'CC1(C)OC(=O)C/C(=N\\\\c2cccc(Cl)c2)O1', 'CC1(C)C(=O)NC(=O)CN1c1ncc(C=O)s1', 'Cc1coc(NS(=O)(=O)c2cccc(N)c2)n1', 'C/C=C/CO/C=C/c1c(Cl)cccc1[N+](=O)[O-]', 'COC(=O)c1ccc(N2CC(S)CC2=O)nn1', 'Cc1ccc(-c2nnc(SCC(=O)O)n2C)o1', 'CC(C)(C(=O)NC/C=C/CCl)S(C)(=O)=O', 'N/C(CCl)=N/c1cc(-n2cnnc2)ccc1F', 'Nc1cccnc1S(=O)(=O)NCc1ccoc1', 'Cc1nc(-c2ccc(Cl)cn2)nc(NN)c1F', 'C=C1C(N2CCCC2=O)=C(F)C(F)(F)C1(F)F', 'COC(=O)c1cc(=O)c2ccc(C)cc2[nH]1.Cl', 'O=C(O)CCC1=NC(c2ccc(Cl)cc2)CO1', 'COCC(=O)NCc1noc(-c2cccs2)n1', 'CCOC(=O)Cc1c(Cl)ccc(OC)c1C#N', 'Cc1ccc(COCCN)c(Cl)[n+]1O.Cl', 'CC(=O)c1c(C)nc(S(C)(=O)=O)c(C#N)c1N', 'CC(CCl)C(=O)N1CCCS(=O)(=O)CC1', 'N#CCNC(=O)CS(=O)(=O)c1cccc(N)c1', 'Cc1nccn1-c1ccc(OS(N)(=O)=O)cc1', 'CCOC(=O)c1nc(-c2cnc(C)s2)oc1N', 'CN(CCO)C(=O)C(C(F)(F)F)C(F)(F)F', 'CC1(C)CN(N=O)c2cc([N+](=O)[O-])ccc2S1', 'CS(=O)(=O)Oc1ccc(Cn2cncn2)cc1', 'CCC(Cl)n1c(=O)oc2cc(C(C)=O)ccc21', 'O=C1CCCN(C(=O)Oc2ccc(Cl)cc2)C1', 'COc1ccc(Cl)c2c1C(C)(C)/C(=N/O)C2=O', 'Cc1ccc(C(=O)NC2(C(=O)O)CC2)c(Cl)c1', 'COC(=O)[C@H]1C(=O)NC[C@@H]1c1ccc(Cl)cc1', 'COc1cc2cc(CCC(=O)O)[nH]c2cc1Cl', 'CN(C)N=NC1(S(=O)(=O)[O-])C=CC=CC1.[Na+]', 'NNc1cncc(Nc2ccc(F)c(Cl)c2)n1', 'CC1CCN(C(=O)CCS(=O)(=O)Cl)CC1', 'CNc1ccc(S(=O)(=O)Nc2cnoc2)cc1', 'C#CCC(NC(=O)c1sc(N)nc1C)C(=O)O', 'O=S(=O)(O)CCCCOc1ccccc1.[Na]', 'COc1cc(OC)c2ccnc(Cl)c2c1OC', 'CC(C(=O)O)=C(C)C(=O)Nc1ccc(Cl)cc1', 'CNCc1nnc2n1CCNC2=O.Cl.Cl', 'CCc1nnc(NCc2ccc(C(=O)O)o2)s1', 'CN(C)c1nc(Cl)nc(N(C)OC(F)F)n1', 'O=S(=O)(CC1CC1)N1CCOC(CCl)C1', 'Cc1nsc(NCc2cc(C(=O)O)c(C)o2)n1', 'Cc1cc(O)c(-c2cccc(N)c2)c(=O)o1.Cl', 'CC(=O)OC(CCl)COc1ccccc1C#N', 'COc1ccc(OC)c(C2(N=C=O)CC2)c1Cl', 'CC(O)(CNC(=O)c1cnsn1)c1ccco1', 'C[C@H](NC(=O)/C=C/c1ccccc1Cl)C(=O)O', 'CCOC(=O)Cc1ccc(CO)c(Cl)c1C#N', 'CC(Cl)CNC(=O)C1CCCCS1(=O)=O', 'O=S(=O)(NCc1cnc[nH]1)c1ccc(O)cc1', 'CC(CCO)Sc1nccc(C#N)c1[N+](=O)[O-]', 'O=C(CCCS(=O)(=O)Cl)N1CCCCC1', 'Cc1c(C(O)C(=O)O)c2cccc(Cl)c2n1C', 'CC(=NO)c1ccc([Ge](C)(C)C)cc1', 'Cc1csc(CNCc2ccc([N+](=O)[O-])o2)n1', 'CCOC(=O)Oc1cc2cc(Cl)ccc2n1C', 'CC(C(=O)O)C(C)c1nc(-c2cscn2)no1', 'CCC(CC)N1CC(S(=O)(=O)Cl)CC1=O', 'O=C(NCCO)C1=Cc2cc(Cl)ccc2OC1', 'CC=CC(=O)N(CC(=O)O)c1cccc(Cl)c1', 'Cc1ccc2c(c1)C(O)/C(=C(/Cl)C(=O)O)N2C', 'COC(=O)c1ccccc1C(=O)NNC(N)=S', 'O[C@H]1CCN(c2c(F)c(F)c(F)c(F)c2F)C1', 'COC1CC(Nc2nc(C(F)(F)F)ns2)C1', 'Cc1nc(C(=O)NCC(O)c2ccsc2)no1', 'CCOC(=O)/C=C(\\\\C=O)c1cc(Cl)ccc1N', 'CC(OCC#Cc1cc(Cl)ccc1N)C(=O)O', 'Cc1ccc(Cl)cc1N1C(=O)CCC1C(=O)O', 'COC(=O)CNC(=O)C=Cc1ccccc1Cl', 'CCCSP(=O)(OCC)N1CCOC1=O', 'CCn1c(=O)c2sccc2n(CC(N)=O)c1=O', 'COC(=O)Cc1cc(=O)[nH]c(SCCC#N)n1', 'Cc1ncsc1C(=O)NC1CCC(=O)NC1=O', 'CC(O)CNC(=O)c1cnc2sccn2c1=O', 'CN(CC(=O)O)Cc1nnc(-c2cccs2)o1', 'O=C(Cl)c1cccc(C(=O)N2CCOCC2)c1', 'O=C(N[C@H]1C[C@@H](CCl)OC1=O)c1ccccc1', 'C/C(=C\\\\C(=O)O)C(=O)Nc1cccc(Cl)c1C', '[H]/N=C(C(/C(=O)OC)=C(/C)O)\\\\c1ccc(Cl)cc1', 'O=C(CCP(=O)(O)O)c1c[nH]c2ccccc12', 'CCc1c(C(=O)O)[nH]c2ccc(OC)c(Cl)c12', 'Nc1nc(CNC(=O)CCC(F)(F)F)cs1', 'Cc1cc(COc2c(Cl)cccc2CO)no1', 'C/C(C(=O)O)=C(\\\\C)C(=O)Nc1cccc(Cl)c1', 'CC1(C)CC(=O)N(c2ccc(O)cc2Cl)C1=O', 'Clc1nc2ccc(OC3CCOCC3)cc2o1', 'CCCN(CCBr)CCSCC', 'CC1(c2cccc(Cl)c2)CC(=O)NC1C(=O)O', 'CC(=O)c1c(C(F)F)ccc(C(F)(F)F)c1N', 'COc1cnc(C(O)c2cscn2)c(OC)n1', 'Cc1nc(S(=O)(=O)c2ccc(N)cc2)oc1N', 'C=CCNC(=O)C(=O)c1cc(Cl)ccc1OC', 'CS(=O)(=O)Cc1onc(N)c1-c1ccccn1', 'C=CCCC(=O)Nc1cc(Cl)cc(C(=O)O)c1', 'CC(CC(F)(F)F)NC(=O)c1csc(N)n1', 'CC(C)c1c[nH]c2cc(O)c(O)c(Cl)c2c1=O', 'CC(=O)c1ccc(C(F)(F)F)c(N)c1C(F)F', 'Cc1cc(COc2c(Cl)cccc2CO)on1', 'COC(=O)[C@@H](N)CC(C(F)(F)F)C(F)(F)F', '[N-]=[N+]=NCCS(=O)c1ccc2c(c1)OCCO2', 'O=C(O)C(=CCl)NOCC=Cc1ccccc1', 'CC1=CCP(=O)(Oc2ccc([N+](=O)[O-])cc2)C1', 'COc1cccc(CS(=O)(=O)c2cn[nH]n2)c1', 'CC1(S)NC(=O)N(c2ccccc2)C(=O)N1O', 'O=Cc1c(N2CC(O)C(O)C2)nc2sccn12', 'O=Cc1cc(Cl)c(C2CCNC2)c2c1OCO2', 'CC(C(=O)Cl)N1C(=O)OC[C@@H]1c1ccccc1', 'CC(=O)CC/C(=C/c1ccc(Cl)cc1)[N+](=O)[O-]', 'Nc1cc(N)nc(Sc2nc(N)ncc2F)n1', 'NNC(=O)c1nc(COCc2ccco2)cs1', 'Cc1ncc(-c2nnc(CCCC(=O)O)o2)s1', 'Cc1ccc(N2C[C@@H](C(=O)O)CC2=O)c(Cl)c1', 'C/C(CC#N)=N/Nc1ccc(S(=O)(=O)O)cc1', 'COc1cc2cc(CO)c(Cl)nc2cc1OC', 'O=C(O)CC1(c2ccc(Cl)cc2)CNC(=O)C1', 'CC(O)c1cc(Cl)ccc1OCc1cnoc1', 'NC(=O)CCS(=O)c1nc2ccc(N)cc2o1', 'CCc1ccc(C(=O)NN2CC(=O)NC2=O)s1', 'O=C([O-])C1=C[C@@H]2C(=O)c3ccccc3C(=O)[C@@H]2C=C1', 'O=c1cc(C[S+](CO)CO)c2ccccc2o1', 'CCC(Cl)CON1C(=O)c2ccccc2C1=O', 'N#CCC(=O)Nc1cccc(CS(N)(=O)=O)c1', 'Cc1cccc(F)c1NC(=O)C(F)(F)C(F)F', 'Cc1ccc2c(c1)N(C)/C(=C(\\\\Cl)C(=O)O)C2O', 'CCc1c(OC)oc(=O)n1-c1ccc(Cl)cc1', 'CCP(CC)(CC)(CC)[Se]C#N', 'O=C(COC(=O)C1CC1)Nc1cccc(Cl)c1', 'C/N=c1\\\\sc(-c2ccc([N+](=O)[O-])o2)c(C)n1C', 'CC1(C)CN(S(=O)(=O)CCl)C2COCC21', 'Cn1c(=O)oc2cc(C(=O)CCCCl)ccc21', 'Cc1c(S(=O)(=O)[O-])oc2ccc(C(C)C)cc12', 'C[C@H](OCC#Cc1cc(Cl)ccc1N)C(=O)O', 'CC(N)(C(=O)NCc1nccs1)C(F)(F)F', 'O=C(O)[C@@H]1C[C@H]1C(=O)NCc1cccc(Cl)c1', 'CC(O)CNc1ccc2scnc2c1[N+](=O)[O-]', 'NC(O)c1cc(-c2cccs2)n(CC(=O)O)n1', 'CC1C=CCP1(=O)Oc1ccccc1[N+](=O)[O-]', 'COc1cccc(S(=O)(=O)Nc2ccn[nH]2)c1', 'Cc1ccc(NC(=O)[C@@H]2C[C@@H]2C(=O)O)cc1Cl', 'CCOC(=O)c1cnc(SC)n(CC#N)c1=O', 'O=C(O)CSc1n[nH]c(CCc2ccco2)n1', 'CCNC(=S)NC(=O)c1cccc([N+](=O)[O-])c1', 'CS(=O)(=O)c1cccnc1NCc1ccno1', 'CCOc1ccc2cc(C(=O)O)ccc2n1.Cl', 'COC(=O)C(Cl)c1ccc2c(c1)CC(=O)N2C', 'Cc1cc(Nc2ccc(S(N)(=O)=O)cc2)no1', 'OC1CC(Nc2c(F)c(F)c(F)c(F)c2F)C1', 'O=C(CCC(F)(F)F)Nc1ccc(F)cc1F', 'C=CC[C@H](NC(=O)c1ccc(Cl)cc1)C(=O)O', 'NC1(c2noc(CSC(F)(F)F)n2)CCC1', 'O=C1CCc2c(OCC3CO3)ccc(Cl)c2N1', 'Fc1cc(F)cc(/N=C/c2cc(F)ccc2F)c1', 'Fc1cc(F)cc(/C=N/c2cc(F)ccc2F)c1', 'NC(N)=NC(=O)c1ccc2c(c1)S(=O)(=O)CC2', 'CCOC(=O)C1=C(C)C(C(C)=O)=S=C1N=[N+]=[N-]', 'O=C(O)C1=CCS[C@H]2C(C3=NNCC3)C(=O)N12', 'CC(=O)N(C(=O)CCCl)C(=O)c1ccccc1', 'CNc1nc(CCNC(=O)C(F)(F)F)cs1', 'CC(C)(C)c1nnc(NC(=O)C(F)(F)F)s1', 'C[C@H](NC(=O)/C=C/c1cccc(Cl)c1)C(=O)O', 'O=C1CC2(Cc3ccc(Cl)cc3N1)OCCO2', 'COc1c(Cl)cc(C)c(C2(N=C=O)CC2)c1O', 'CN1C(=O)[C@@]2(C[C@H](O)CO2)c2cc(Cl)ccc21', 'CN(C)c1nc(Cl)nc(-c2cncc(F)c2)n1', 'O=C(CCl)N(Cc1ccco1)Cc1ccco1', 'N#CC1=C[C@H]2CC[C@H]1c1c(F)c(F)c(F)c(F)c12', 'CC(=O)C1(Cc2c(Cl)cccc2[N+](=O)[O-])CC1', 'CSCCC(C)N(C)CCCBr', 'NC(=O)c1cnc(C2CC3(COC3)NC2=O)s1', 'CC1CCCN(S(=O)(=O)CCC(=O)Cl)C1', 'CC(C)(CCl)C(=O)NC1CCS(=O)(=O)C1', 'COC(=O)C1C(C)=NOC1c1ccc(Cl)cc1', 'COc1cnc(C(O)c2cncs2)c(OC)n1', 'Cc1nc(CN(C)c2nc(C(=O)O)co2)cs1', 'COc1cc([N+](=O)[O-])c(F)cc1NC(=O)CC#N', 'COc1cc(C(=O)NC2CCSC2=O)ncn1', 'COc1c(O)cc(C)c(C2(N=C=O)CC2)c1Cl', 'Cn1nccc1NS(=O)(=O)c1cccc(O)c1', 'CC(=NOCC=C(Cl)c1ccccc1)C(=O)O', 'CCC(C#N)Sc1nc(=O)[nH]c(C)c1C(=O)O', 'Fc1ccc(/N=C/c2cc(F)ccc2F)c(F)c1', 'COCCN1[CH]N(CCOC)C(Cl)=C1Cl', 'COc1ccc(-n2c(=O)[nH][nH]c2=S)c(OC)c1', 'Cc1ccc(S(=O)(=O)C2CC(C(=O)[O-])C2)cc1', 'Cc1noc(C)c1S(=O)(=O)Nc1ccccn1', 'COC(=O)c1ccc(N2CC=CCO2)c(Cl)c1', 'CC1CC(=O)c2c(OCC(N)=O)ccc(Cl)c21', 'CN1C=C(S(=O)(=O)c2ccc(C=O)cc2)NN1', 'CN(C)[Sb](N(C)C)N(C)C', 'COC(=O)NC1CCc2ccc(Cl)cc2C1=O', 'COC(=O)C(CCSC)NC(=O)CCCl', 'NC1(c2c(Cl)cc(C=O)c3c2OCO3)CCC1', 'CS(=O)(=O)/N=C1/CC(=O)N(c2ccccc2)N1', 'Cc1oc(Cn2ccsc2=O)cc1C(=O)NN', 'Nc1ncnc(Nc2ccc(F)c(Cl)c2)c1N', 'CSCCCNC(CBr)C(C)C', 'O=C(O)CCNCc1cc(=O)n2ccsc2n1', 'CCc1nnc(-c2ccccc2S(N)(=O)=O)o1', 'COC(=O)CCc1ccc2oc(CCl)nc2c1', 'O=C1N[C@H]2CS(=O)(=O)C[C@H]2N1c1ccccn1', 'N[C@H](C[C@@H](CC(=O)O)C(F)(F)F)C(F)(F)F', 'O=C(O)CCc1csc(NCc2ccno2)n1', 'COC(=O)[n+]1ccc2cc(OC)ccc2c1.[Cl-]', 'Cc1cc(O)c(-c2ccc(N)cc2)c(=O)o1.Cl', 'O=C(NCCCO)c1cc2cc(Cl)ccc2o1', 'Cc1coc(NS(=O)(=O)c2ccccc2N)n1', 'Cc1nccn1-c1sc([C@@H](C)O)cc1[N+](=O)[O-]', 'CCc1cnc(CNc2nc(C(=O)O)co2)s1', 'CCCN(C(=O)CCl)[C@H]1CCS(=O)(=O)C1', 'Cc1ccc(N)cc1S(=O)(=O)Nc1ccon1', 'O=C(O)Nc1ccc(O)cc1C#CCCCCl', 'NCC(=O)c1cccc(C(F)(F)C(F)(F)F)c1', 'COc1c(Cl)cc(C2(N=C=O)CC2)c(O)c1C', 'Cc1cc(NS(=O)(=O)c2cn[nH]c2)ccc1O', 'O=C(O)CN1C(=O)CCCc2cccc(Cl)c21', 'COC(=O)/C=C(\\\\C)NC(=O)c1ccccc1Cl', 'O=C(O)[C@H]1C[C@H]1C(=O)NCc1ccccc1Cl', 'COCCn1c(=S)[nH]c2cc([N+](=O)[O-])ccc21', 'CCc1nc(SCc2ccc(C(=O)O)o2)n[nH]1', 'CN(O)C(=O)[C@H]1CN=C(c2ncccc2O)S1', 'CC(=O)c1ccc(NC(=O)CC(=O)CCl)cc1', 'CC(C)(C(=O)N1CCCCC1)S(=O)(=O)Cl', 'NC(=O)CCN1C=Nc2ccccc2S1(=O)=O', 'O=C(Nc1nnc(C2CC2)s1)C1=COCCO1', 'COC(=O)C(CCSC)NC(=O)C(C)Cl', 'C[C@@H](OC(=O)/C=C/c1cccc(Cl)c1)C(N)=O', 'NNc1cncc(Nc2ccc(Cl)cc2F)n1', 'COC(=O)c1cccc(/C=N/NC(N)=S)c1O', 'CNC(=O)c1oc2ccc(OCCl)cc2c1C', 'CN1C(=O)CCOc2ccc(C(=O)CCl)cc21', 'C=C(Cl)COC(=O)NC(=O)c1ccccc1C', 'N#Cc1ccc(C(NC(=O)O)NC(=O)O)c(F)c1', 'OCC1(CNc2nnc(C(F)(F)F)s2)CC1', 'NC1=NS(=O)Nc2cccc(OC3COC3)c21', 'O=C(O)c1cc2ccccc2n1OCCCCl', 'NCOCCSC1=CC(=O)c2[nH]ncc2C1=O', 'COC1=C(C=C2CN(CCC2=C1)C3=NC=CN4C3=CC(=N4)C5CC5)OC', 'CN1c2cc(C(=O)NCc3ccncc3)ccc2C(=O)N2CCCC[C@H]21', 'CC(=O)OCC1=COC(OC(C)=O)C2C(C=O)CCC3C(C12)C3(C)C', 'COc1ccc(N2CCO[C@H]2c2cn(Cc3cccc(C)c3)nn2)cc1', 'Cc1ccc(CNC(=O)NCC(=O)NC(C)c2ccc(C#N)cc2)cc1', 'CN1CCC(NC(=O)Cn2c(=O)[nH]c3ccccc32)C1c1ccccc1', 'CC(=O)Nc1cccc(NC(=O)c2nc(CC(C)C)n3ccccc23)c1', 'Cn1nccc1C1CCCCN1C(=O)COc1cccc2cccnc12', 'CSCC[C@H](N)C(=O)Nc1ccc(C(=O)N2CCN(C)CC2)cc1', 'CC(C)(C)c1ccccc1NC(=O)CCc1nc(-c2ccccn2)no1', 'CCN(C)C[C@@H]1CN(C(=O)C2(c3ccc(Cl)cc3)CC2)C[C@@H]1CO', 'COc1ccc(Nc2cc(Nc3cc(C)cc(C)c3)ncn2)c(OC)c1', 'Cl.O=C(NCCc1ccc2c(c1)CCO2)[C@@]12CCCC[C@H]1CNC2', 'Cc1nc2c(cnn2C(C)C)cc1C(=O)N[C@H]1c2ccccc2C[C@H]1O', 'COc1ccc(C(C#N)N2CCN(C(=O)Nc3ccccc3)CC2)cc1', 'Cc1ccc(OCc2c(C3CC3)cccc2-n2nnn(C)c2=O)c(C)c1', 'NCc1cc(C(=O)Nc2cc(C3CCCC3)nn2-c2ccccc2)co1', 'Cc1noc2ncc(C(=O)N[C@H]3CCN([C@H](C)c4ccccc4)C3)cc12', 'CC1(C)O[C@@H]2[C@H]3OC(C)(C)O[C@H]3[C@@H](O)[C@H](OCc3ccccc3)[C@H]2O1', 'C/C=C(\\\\C)C(N)=O.C=C(C(N)=O)c1ccc(/N=N/c2ccccc2)cc1', 'CC(C)(C)OC(=O)N1CCC2(CC1)NC(=O)N(c1cccc(F)c1)N2', 'CC(=O)NC(Cc1c[nH]c2ccccc12)C(=O)NC(C)c1ccccn1', 'CC1(C)CNCC1c1nc(-c2ccc(OCc3cccnc3)cc2)no1', 'COc1ccc(Nc2ccnc(Nc3ccc(OC(C)C)cc3)n2)cc1', 'O=C(c1cc2ccccc2[nH]1)N1CCN(CCn2ccccc2=O)CC1', 'C[C@@H]1CN(C2CCC(=O)N(Cc3ccccc3Cl)CC2)C[C@H](C)O1', 'O=C(Nc1cccc(C(=O)NCc2ccc3c(c2)CNC3)c1)NC1CC1', 'O=C(NCC(c1ccccc1)N1CCOCC1)c1ccc2nc[nH]c2c1', 'CCCCNC(=O)C1(NC(=O)Cc2ccc(Cl)cc2)CCCCC1', 'NC1CCCC(C(=O)NCC2(c3ccccc3Cl)CCOCC2)C1', 'N#CNC1=N[C@H](Cc2ccccc2)[C@H](O)[C@@H](O)[C@@H](Cc2ccccc2)N1', 'COc1ccc2cc(CN3CCN(c4ccncc4)CC3)c(=O)[nH]c2c1', 'CCC(NC(=O)CN(CC1CCOC1)C1CC1)c1ccc(Cl)cc1', 'Cc1[nH]c2ccccc2c1CC(=O)NNC(=O)c1cccc(N(C)C)c1', 'CC(C)(C)NC(=O)CN1CCN(C(=O)Nc2ccc(F)cc2)CC1=O', 'C[C@H](c1cccnc1)N1CCCN(c2ccc(C(F)(F)F)cn2)CC1', 'CC1CCC(OC(=O)OOOC(=O)c2ccc(C(C)(C)C)cc2)CC1', 'O=C(O)[C@@H](c1c[nH]c2ccccc12)N1CCN(Cc2cccnc2)CC1', 'Cc1ccc(=O)n(C2CCC(NC(=O)c3ccc4[nH]ccc4c3)CC2)n1', 'CC(C)N(NC(=O)c1ccc2cncnc2c1)C(CO)c1ccccc1', 'CN1CCN(CCCNC(=S)NCc2ccc3c(c2)OCO3)CC1', 'CC(C)[C@@H](NC(=O)c1ccc(-c2ncccc2O)cc1)c1nccn1C', 'CC(C)=NN=C1CCC(=NN=C(C)C)c2c1c(O)c1ccccc1c2O', 'CC(=O)Nc1ccc(-c2nc3ccc(C)cn3c2CC(=O)N(C)C)cc1', 'CNC(=O)OC1CCN(c2cccc(-c3cccc(CC#N)c3)n2)CC1', 'CCCNC(=O)Nc1ccc(-c2noc(-c3ccc(C)cc3C)n2)cc1', 'CC(=O)N1c2ccccc2C[C@@H]1C(=O)N1CCN(c2ccccn2)CC1', 'Cc1ccc2oc(N3CCN(C(=O)Cc4ccc(C)nc4)CC3)nc2c1', 'CCOC1C[C@H]2C[C@@H](OCC)O[C@H](COC(=O)c3ccccc3)[C@H]2O1', 'Cc1cccn2c([C@H](C)NC(=O)c3cccc4c3OCCNC4)ncc12', 'Cc1ccc(NC(=O)CCNC(=O)C(C)n2cnc3ccccc32)cc1', 'CC[n+]1c(C=Cc2cc(OC)c(OC)cc2OC)ccc2ccccc21', 'O=C(Nc1ccnc2[nH]ncc12)c1ccccc1OCC1CCCCC1', 'COc1ccc(Nc2cc(NCCc3ccccc3OC)ncn2)cc1', 'O=C(c1cc2ccccc2[nH]1)N1CCN(CCOc2ccccn2)CC1', 'C[P+](C)(C)CC1CCC(OP(=O)([O-])OC2CCCCC2)CC1', 'CCn1c(CNC(=O)c2nc3cc[nH]c3nc2N)[n+](C)c2ccccc21', 'CC[C@@H](C)NC(=O)[C@@H]1CSCN1C(=O)c1ccc(CN(C)C)nc1', 'COc1ccc(CCNC(=O)Nc2ccn(Cc3ccccc3)n2)cc1', 'CCc1ccc2nc(C)cc(C(=O)N3CC[C@H](c4nc(C)no4)C3)c2c1', 'O[C@@H]1CC(n2ccc3c(N[C@H]4CCc5ccccc54)ncnc32)C[C@@H]1O', 'O=C(c1cc(-c2ccn(CC3CC3)n2)n2ccccc12)N1CCCCO1', 'C/N=C(/NCc1ccc(NC(=O)OC)cc1)NCC1(C)CCCS1', 'CCc1cc(C2NNCC2c2cnn(-c3ccccc3)c2)c(O)cc1O', 'Cc1cc(=O)c(C(=O)N2CCC(Cc3nc4ccccc4[nH]3)CC2)c[nH]1', 'O=C(c1cn2cccnc2n1)N1CCCC[C@@H]1CCc1ccc(O)cc1', 'Cc1nccnc1CC[C@@H]1COCCN1C(=O)c1cc2ccccc2[nH]1', 'CCN(c1ccccc1)c1ccnc(Nc2cc(OC)ccc2OC)n1', 'C=CCC(Cc1cc(OC)cc(OC)c1)(C(=O)OCC)C(=O)OCC', 'CN1CCN(Cc2ccc(-c3n[nH]c4ccc(C(=O)O)cc34)cc2)CC1', 'CN1Cc2ccccc2C[C@@H]1CNc1nccc(CCC(F)(F)F)n1', 'CC1=NOC(C)C1c1cc(-c2c(C)noc2C)cc2[nH]c(C3CC3)nc12', 'COc1ccc(OC)c(Nc2cc(C)nc(N(C)c3ccccc3)n2)c1', 'CC1CC12N[C@](C)(c1ccc3[nH]nc(-c4ccoc4)c3c1)CC(=O)N2C', 'CCn1nc(CNC(=O)Nc2ccc3c(c2)CC(C)O3)c2ccccc21', 'COCc1nc(CN2CCCC2)n(Cc2ccc(F)cc2)n1.O=CO', 'CN(C)c1ccc2c(c1)CN(C(=O)c1nn(C)c3ccccc13)CCO2', 'CC1Cc2ccccc2N1Cc1ccoc1-c1nc(C2(N)CCC2)no1', 'N/C(=N\\\\Cc1ccc(N2CCOC2=O)cc1)Nc1ccc2c(c1)CCC2', 'C=C(C)C(=O)OCC(=O)OC(=O)COC1(C)C2CC3CC(C2)CC1C3', 'CC1(C)CC(=O)C2=C(C1)Nc1[nH]ncc1C2(C)c1cccc(C(N)=O)c1', 'Cc1nc(N2CCN(c3nccn4cnnc34)CC2)c2cnn(C)c2n1', 'O=C(CCC1CCN(C[C@H]2CCCO2)CC1)Nc1ccccc1Cl', 'Cc1ccc(NCC(=O)NNC(=O)c2cn(C)c3ccccc23)c(C)c1', 'C[C@H]1CCC/C(=N/Nc2ccc(S(=O)(=O)N3CCCCC3)cn2)C1', 'N#CC1CCCN1C(=O)CN1CCC(Oc2cccc3cnccc23)C1', 'CCCCC(=O)N1CCC(NC(=O)CCc2ccc(Cl)cc2)CC1', 'CC[C@@H]([C@H](C)O[Si](C)(C)C(C)(C)C)[C@@H](O)C1SCCCS1', 'O=C1C[C@@H](N2CCN(c3ccccn3)CC2)C(=O)N1Cc1ccccc1', 'CCNC(=O)c1ccc(C)c(NCc2nc(-c3ccccc3C)no2)c1', 'CCc1nnc(CNc2ccccc2C(=O)NCc2ccc(C)cc2)o1', 'Cc1ccc(-n2nc(C(=O)N3CCC(C)CC3)nc2-c2ccco2)cc1', 'COc1ccccc1C(=O)N1CCN(Cc2cn3ccccc3n2)CC1', 'Cc1cccc(C(=O)N2C[C@H]3CNC[C@H]3C2)c1NC(=O)c1ccncc1', 'Cl.NC1C2CCC(C2)C1C(=O)NCc1ccccc1OCC1CC1', 'CCCOP(=O)(OCCC)C1CCCN1Cc1ccc(C#N)cc1', 'CC(=O)c1c(C)[nH]c(C(=O)NC(C)c2ncc(-c3ccccc3)[nH]2)c1C', 'Cn1ccc(CC(=O)N2CCN(C(=O)c3c[nH]c4ccccc34)CC2)c1', 'CCOC(=O)Cc1nc2ccc(C)cn2c1/N=N/c1cc(C)ccc1C', 'CC(O)c1cccc(-c2cccc(C(=O)NCCc3nncn3C)c2)c1', 'Cc1ccccc1C(=O)N1CCC(C(=O)N/N=C/c2cccnc2)CC1', 'C=CCOc1ccc(C(=O)N2CCC(NCC3CC3)CC2)cc1.Cl', 'C/C(=N\\\\NC(=O)CCC(=O)N/N=C(\\\\C)c1ccccc1)c1ccccc1', 'Cc1ccc(OCCC(=O)Nc2ccc(Cn3cncn3)cc2)c(C)c1', 'O=C(CNC(=O)Nc1nc2c(s1)CCCCC2)NC1CCCCC1', 'COCCN(Cc1ccccc1C)C(=O)c1ccccc1-n1cncn1', 'COc1ccc(C(=O)N2CCN(Cc3cc4ccccn4n3)CC2)cc1', 'C/C=C\\\\C(=O)O[C@@H]1[C@@H](O)[C@H]2O[C@@H]3C=C(C)C(O)C[C@]3(C)[C@]1(C)[C@]21CO1', 'Cc1cc(OC2CCN(C(=O)c3cc4ccccn4c3)CC2)nc(C)n1', 'CC(NC(=O)CCCOc1ccccc1)c1ccc(-n2cncn2)cc1', 'O=C(CCn1cnc2ccccc21)N1CCN(c2ccc(O)cc2)CC1', 'Cc1cc(Oc2c(C3CC3)nn(CC(N)=O)c2C2CC2)cc(C)c1C#N', 'Cc1ccc(-n2nc(C(=O)N3CCCC[C@@H]3C)nc2-c2ccoc2)cc1', 'CCOc1ccc(-c2ccnc3nc(N4CCCCC4)[nH]c(=O)c23)cc1', 'CCc1noc(C)c1C(=O)Nc1ccc(-c2cn3c(n2)CCCC3)cc1', 'C/C(CC(=O)Nc1cccc2c1CCCC2)=N\\\\NC(=O)c1ccncc1', 'CCCCCCNCc1c(OCC(N)=O)ccc2ccccc12.Cl', 'N#Cc1cccc(NC(=O)N2CCC(CCOc3ccncc3)CC2)c1', 'CC1(C)O[C@@H]([C@H](OCc2ccccc2)[C@@H]2COC(C)(C)O2)[C@H](C=O)O1', 'CCOC(=O)N1CCC(n2ccnc2-c2cccc3cnccc23)CC1', 'CCc1ccccc1OC(=O)c1cc2nccc(N3CCCCC3)n2n1', 'CC1(C)OC[C@H]([C@H]2OC3OC(C)(C)O[C@@H]3[C@H]2OCc2ccccc2)O1', 'O=C(Nc1c2c(nn1-c1ccccc1)CCC2)C1CC(=O)N(C2CC2)C1', 'Cc1ccc([C@H](O)Cn2cc(C(=O)Nc3ccc(C)c(C)c3)nn2)cc1', 'CC(C)Cn1c(/N=N/Cc2cccc3ccccc23)cc(=O)n(C)c1=O', 'Cc1cc(-c2n[nH]c3ccc(C(=O)NC4CCCC(O)C4)cc23)ccn1', 'CC(C)(C)C(=O)CN1C(=O)C(N)=NC(c2ccccn2)c2ccccc21', 'Cc1ccccc1C(=O)N1CCC(C(=O)NN=Cc2ccncc2)CC1', 'O=C([C@@H](Cc1ccc(Cl)cc1)NC1CCOCC1)N1CCCCC1', 'C=C1C(=O)O[C@@H]2C[C@H](C)C(C(CC(C)OC(C)=O)OC(C)=O)=CC[C@H]12', 'Cc1ccc(-n2nnc(C(=O)Nc3cccc([C@H](C)O)c3)c2C)c(C)c1', 'COc1cccc(Nc2cc(Nc3ccccc3OC(C)C)ncn2)c1', 'CCCCC(=O)NCc1nn(Cc2ccccn2)c(=O)c2ccccc12', 'COc1cc(C(C)Nc2cc(C)ncn2)ccc1OCc1ccncc1', 'Cc1nc(N2Cc3ccccc3OC3(CCOCC3)C2)c2cc[nH]c2n1', 'C=C(C)C(=O)OC.C=C(C)C(=O)OCCO.C=Cc1ccccc1O', 'CC(C)C1CCC(OCOc2c(C(=O)O)cccc2C(=O)O)C(C)C1', 'CCCCN1C[C@@H](C(=O)Nc2nnc(C3CCCCC3)s2)CC1=O', 'C=C(C)CCC(C)Nc1c(N)cccc1N1C(=O)c2cccnc2C1=O', 'COCC1(C(=O)NCC2(c3ccc(Cl)cc3)CCC2)CCNCC1', 'C=C(c1ccc2nc(-c3ccc(OC)cc3)[nH]c2c1)C(C)CC(=O)NN', 'C=CCC(=O)N(CC)CN(C(=O)CCl)c1c(CC)cccc1CC', 'CCc1ccc(Nc2nccc(Nc3cc(OC)ccc3OC)n2)cc1', 'COCCNc1cc(Nc2ccc(Oc3ccccc3)cc2)nc(C)n1', 'CC(C)c1nccc(N2CC3C(=O)N(Cc4ccccc4)C(=O)C3C2)n1', 'CN1/C(=C\\\\C=N/NC(=O)Cn2ccccc2=O)C(C)(C)c2ccccc21', 'Cc1ncnc(OCC2CCN(C(=O)c3ccc(C#N)cc3)CC2)c1C', 'CC(C)(C)N1C=C(Cl)C(CCc2ccc(COCCO)cc2)=CN1', 'C/C=C\\\\C#CC#CCCCO[C@H]1O[C@@H]2COC(C)(C)O[C@@H]2[C@H](O)[C@@H]1O', 'Cc1ccccc1CNC(=O)Cn1cccc1-c1nnc(C2CCC2)o1', 'CCn1c(CN(C)C(=O)CNC(=O)c2ccccc2)nc2ccccc21', 'COc1ccc(OC)c(Nc2nc(C)cc(Nc3ccccc3C)n2)c1', 'COC(=O)c1ccc(NCc2ncc(Cc3ccccc3)n2C)nc1C', 'Cc1ccc(-c2cc3ncn(C)c(=O)c3c(N3CCC(CO)C3)n2)cc1', 'CCCNC(=O)c1nc(C(=O)Nc2cccc(C)c2C)c2ccccn12', 'CCNC(=O)c1cc(NCCCOc2cccc3cccnc23)ccn1', 'CC(=O)Nc1ccc(NC(=O)c2nc(C(C)(C)C)n3ccccc23)cc1', 'COc1ccc(CC/N=C/Nc2cccc(-c3cnc[nH]3)c2)cc1OC', 'CN(C)C[C@H](NC(=O)Cn1cnc2ccccc2c1=O)c1ccccc1', 'CCCCCCc1csc2c(CCCCCC)c(C(C)=O)sc12', 'COc1cccc(CC(=O)N2CCCC[C@H]2c2ccn3nccc3n2)c1', 'CC(C)(C)OC(=O)N1CC=C(c2cnn(-c3ccc(C#N)cc3)c2)CC1', 'CCOCc1ccccc1NC(=O)NCc1ccccc1-n1ccnc1', 'C[C@@H]1CN(C(=O)c2cnc3c(cnn3Cc3ccccc3)c2)C[C@H](C)O1', 'O=C(CC1COCCN1)NCc1ccc(-c2nc3ccccc3[nH]2)cc1', 'Cc1cc(C(=O)N2CCOC(c3ccccc3)C2)c2c(C)nn(C)c2n1', 'Cc1ccc(CNC(=O)Cn2ccn3nc4c(c3c2=O)CCCC4)cc1', 'Cl.O=C(CC1CC2CCC(C1)N2)Nc1ccccc1OCC1CC1', 'Cn1cnc2c(N3CCCN(c4nccn5cnnc45)CC3)ncnc21', 'NC(=O)C(NCC1(Cc2ccncc2)C=CC=NC1)c1ccccc1O', 'CC(C)NC(=O)N1CCN(Cc2ccsc2)C[C@]2(CNC(=O)C2)C1', 'COc1ccc(/C=C/C(=O)c2cnn(C)c2)cc1Cn1nc(C)cc1C', 'Cc1oc2ccccc2c1CC(=O)N1CCCC(c2ccnc(N)n2)C1', 'CC1(C)C[C@@H]1CO[C@@H]1O[C@@H]2CO[C@H](c3ccccc3)O[C@@H]2[C@H](O)[C@H]1O', 'NC(=O)c1n[nH]c2ccc3cc(C(=O)CCN4CCCCC4)ccc3c12', 'CC1(C)OCC([C@@H]2O[C@@H](OCc3ccccc3)[C@H]3OC(C)(C)OC23)O1', 'CC(Oc1ccc2ccccc2c1)C(=O)NCc1nnc2n1CCCC2', 'CCNCCc1nc2cc(S(C)(=O)=O)ccc2n1C1CCNCC1', 'Cn1cc(C(=O)Nc2ccc3cc(O)ccc3c2)c(C2CCCNC2)n1', 'CS[C@@H]1CC[C@H]2[C@@H]3CCC4=CC(=O)C=C[C@]4(C)[C@@]3(F)[C@@H](O)C[C@]12C', 'CC[C@@H]1C(=O)CCCC1C(OC)(Sc1ccccc1)[Si](C)(C)C', 'Cc1cc(=O)n(CC(=O)N2CCCc3ccccc32)c2c1c(C)nn2C', 'CCCn1nc(CC(N)=O)nc1-c1cccc(-c2ccccc2OC)c1', 'Cc1cc(C)cc(NC(=O)Nc2nnc(Cc3ccc(C)cc3C)o2)c1', 'CC1[C@H](NC(=O)c2ccc(Oc3ccc(C#N)[nH]3)cc2)C2CCN1CC2', 'COc1ccc(Nc2nccc(Nc3cccc(C)c3C)n2)cc1OC', 'O=C(N[C@@H]1CCCC[C@H]1n1nnc2ccccc21)OCc1ccccc1', 'Cc1cc(C(=O)N2CCCC2CCc2ccncc2)c2c(C)noc2n1', 'C=C(C)C(=O)OC1CC(CO)CCC/C(CO)=C\\\\C2OC(=O)C(=C)C21', 'CCN(C)CC(Nc1ncnc2c(C(=O)O)cccc12)c1ccccc1', 'O=C(Nc1cnn(CCN2CCOCC2)c1)c1cccc2ccccc12', 'CCc1cc(=O)oc2c(C[NH2+][C@H]3CCCc4ccccc43)c(O)ccc12', 'Cc1cnc(C(=O)NC[C@H](C)O)cc1Cc1ccc(-n2cccn2)cc1', 'CC(C)(C)c1ccc(O)c(NC(=O)c2cccc(Cn3cncn3)c2)c1', 'N#Cc1c(N2CCC3(CC2)CC3)c2nc(C(O)C3CC3)ccc2[nH]c1=O', 'N/C=C(/c1ccc(O)cc1)N1C=CN/C(=N/Cc2ccc(CO)cc2)C1', 'C=C[C@H](OC(=O)OC(C)(C)C)c1ccc(OC(=O)OC(C)(C)C)cc1', 'C/N=C(/NCc1cc(F)cc2c1OCOC2)N1CCN(C(C)=O)CC1', 'COc1ccccc1C1(C(=O)N2CCC3(CCNC3)CC2)CC1.Cl', 'C[C@@H](NC(=O)C1CCN(c2ccc(C#N)cn2)CC1)c1cccc(O)c1', 'CC1(C)OCC([C@H]2O[C@@H]3OC(C)(C)OC3[C@@H]2OCc2ccccc2)O1', 'Cc1ncoc1C(=O)NC1CC(C)(C)Cc2c1cnn2-c1ccccc1', 'CC1(C)O[C@H]2OC([C@H]3COC(C)(C)O3)[C@H](OCc3ccccc3)[C@H]2O1', 'CN(C)c1ccc(C(=O)Nc2ccc(OCc3nccn3C)cc2)cc1', 'CN1CC=C(c2cc3c(NC4CCC4)c(C(F)(F)F)cnc3[nH]2)CC1', 'C[C@@H](NC[C@@H](c1ccccc1)c1c[nH]c2ccccc12)C(=O)NC(N)=O', 'C=CC(=O)OC(C)(C)CC(C)(C)C(=O)OC1C2CC3C(=O)OC1C3C2', 'CC1C2C(=O)OC(=O)C(CCC13CC(=O)OC3=O)C(C)(C)CC2(C)C', 'C[C@H]1CN(C(=O)Cc2ccccn2)C[C@@]12CCN(c1cccnc1)C2=O', 'COc1ccc(OC)c(Nc2ccnc(NCc3ccccc3C)n2)c1', 'OC[C@]12CCOC[C@H]1CN(C1CCN(c3ccccc3Cl)CC1)C2', 'Cc1ccc(-c2cc(C(=O)NCCCN3Cc4ccccc4C3)n[nH]2)o1', 'COc1ccc(CNC(=O)c2nnn(-c3ccc(C)c(C)c3)c2C)cc1', 'Cl.O=C(CCN1CCOCC1)Nc1c2c(cc3c1CCC3)CCC2', 'COC(=O)Cc1cccc(CNCc2ccc(-n3cc(C)nn3)cc2)c1', 'CCN(CC)C(=O)c1nc(C(=O)Nc2ccc(C)cc2)n2ccccc12', 'CCC(=O)N1CCCC[C@H]1C(=O)Nc1nnc(C2CCCCC2)s1', 'CC(C)(C)C(=O)Cc1cc2cc(NC(=O)c3ccc(N)cc3)ncc2[nH]1', 'COc1cc(O[C@@]23CCCN(CC2)C3)cc(Cl)c1CN1CCCC1', 'Cc1noc(C)c1CN1CCC(NC(=O)c2ccc3ccccc3n2)C1', 'CC1CCCCN1C(=O)Cc1csc(NC(=O)NC2CCCC2)n1', 'C/C(CC/C(C)=N\\\\N=C/c1ccccc1O)=N/N=C\\\\c1ccccc1O', 'CCN(CC)CCNc1ccc2ncn3c4cc(=O)ccc4c(O)c1c23', '[H]/N=C(\\\\N)c1cccc(C(=O)N(CC(=O)NCC2CC2)c2ccccc2)c1', 'Cc1oc2ccccc2c1C(=O)Nc1ccc(N2CCN(C)CC2)cn1', 'CC(C)CCN1CCC[C@]2(CC(C(=O)NCc3cscn3)=NO2)C1', 'C=CC(C)(C)c1nc[nH]c1CC1NC(=O)C(=Cc2ccccc2)NC1=O', 'CC[C@H](C)NC(=O)Nc1cccc(-c2noc(-c3ccc(C)cc3)n2)c1', 'CCCCOc1ccccc1NC(=O)c1ccc(Cn2cncn2)cc1', 'Cc1nc2cc(C(=O)N[C@@H](C)C(=O)N(C)C)ccc2n1-c1ccccc1', 'CC(=O)NCc1cc(C(=O)n2c(C)c(CCN)c3ccccc32)ccn1', 'Cc1ccc(NC(=O)Cn2ccn3nc4c(c3c2=O)CCCC4)cc1C', 'COc1ccccc1NC(=O)N(C)Cc1cnn(Cc2ccccc2)c1', 'Cc1nn(C)c(C)c1-c1cccc(C(=O)NCCc2ccc(O)cc2)n1', 'CCN1C[C@]2(CCCN(C(=O)c3snnc3C(C)C)C2)CCC1=O', 'CC(C)OCc1cccc(NC(=O)c2ccc(Cn3cncn3)cc2)c1', 'Cc1cn(C2CCN(Cc3cc4ccccc4cn3)CC2)c(=O)[nH]c1=O', 'CC(C)c1cc(-n2nnn(C)c2=O)c(OCC2CCOCC2)cc1F', 'Cc1n[nH]c(C)c1CNC(=O)c1cccc(-c2cccc([C@@H](C)O)n2)c1', 'CC(=O)NCC1CN(c2ccc(N3CCNC(C)C3)c(F)c2)C(=O)O1', 'COC(=O)C(C=C=C(C)C)(C(=O)OC)[C@H]1C=C[C@@H](OC(C)=O)CCC1', 'O=C(C(=O)N1CCCc2ccccc21)N1CCN(c2ccccn2)CC1', 'CC(C)c1cccc(-c2ccc(C(=O)NC3CCc4ncnn4C3)o2)c1', 'Cc1ncc(C(=O)N[C@@H]2CC[C@@H](Oc3cc(C)c(C#N)c(C)c3)C2)cn1', 'COC1CCCC(C2c3cc4c(cc3OC(O)C2C)OCO4)C1OC', 'O=C(NCN1CCCC1)C(CN1CCOCC1)Sc1ccccn1', 'CN(C)c1ccc(NC(=O)NCCOc2cccc3cccnc23)cc1', 'CC(C)C(=O)NC(Cc1c[nH]c2ccccc12)C(=O)Nc1ccccn1', 'CC(NC(=O)OC(C)(C)C)c1nc2ncccc2cc1-c1ccccn1', 'O=C(NCC1CCN(Cc2ccco2)CC1)c1cnc2ccccc2n1', 'CN1C[C@H](CC(C#N)C(N)=O)CC2c3cccc4[nH]c(C=O)c(c34)C[C@H]21', 'C=C(C)C(=O)OC(C)CCOC(C)(CC)C(=O)c1ccc(O)c(O)c1', 'CCc1ccc(C(=O)N2CCc3nc(-c4ccc(OC)cc4)[nH]c3C2)[nH]1', 'O=C(Cn1ccc2ccccc21)NC1CCC(Oc2cnccn2)CC1', 'CN1CCN(C(=O)c2cnco2)C[C@H](Cc2cncc3ccccc23)C1', 'Cc1nn(C)c(C)c1CC(=O)Nc1cccc(OCc2ccccn2)c1', 'C1CCC(C1)CC(=O)NC2=C(OC3=CC=CC=C32)C(=O)NC4=CC5=C(C=C4)OCO5', 'CCOC(=O)c1c(-c2ccc(OC)c(OC)c2)csc1NC(=O)CNC(C)C', 'CN(c1ccccc1)c1ccc(C(=O)N2CCN(c3ccc(Cl)cc3)CC2)cn1', 'CC(CCc1ccc(OC(C)C)cc1)Nc1ccc(S(C)(=O)=O)cc1[N+](=O)[O-]', 'Cc1ccc(NC(=O)[C@@H](C)OC(=O)c2ccccc2NC(=O)c2ccco2)c(C)c1', 'COc1cc(/C=C(\\\\C#N)C(=O)NC2CCS(=O)(=O)C2)ccc1OCCC(C)C', 'Cc1nc(SCC(=O)Nc2sc3c(c2C(N)=O)CCC3)n(CC(C)C)c1C', 'O=C(O)c1ccccc1NC(=O)C1CCCCC1CN1C(=O)c2ccccc2C1=O', 'CC(C(=O)OCC(=O)NC(c1ccccc1)C1CC1)N1C(=O)c2ccccc2C1=O', 'CCc1ccc(OCC(=O)NCCOc2ccc(S(=O)(=O)N(C)C)cc2)cc1', 'Cc1nnc(CN2CCCN(c3cccc4c3cnn4-c3ccccc3F)C2=O)o1', 'COc1cc(OC)cc(C2C(S(=O)(=O)NCCc3ccccc3)CON2C)c1', 'CCCOc1ccc(C(F)(F)F)cc1NC(=O)/C=C/c1ccc(C(=O)NC)cc1', 'COc1ccc(C)cc1CC(=O)Nc1ccc(NC(=O)C2CC2)cc1C(F)(F)F', 'O=C(NCC1CCN(C(=O)Oc2ccccc2)CC1)c1cc2ccccc2oc1=O', 'CCOc1ccc(N(CC(=O)N(C)C)S(=O)(=O)c2cc(C)ccc2OC)cc1', 'Cc1ncsc1C(=O)N1CCC(C(NC(=O)C(C)(C)C)c2nccs2)CC1', 'CC[C@@H](C)[C@H](NC(=O)COC(=O)CCCc1nc2ccccc2s1)C(=O)OC', 'COc1ccccc1CN(C)C(=O)[C@H](C)Oc1ccc(N(C)S(C)(=O)=O)cc1', 'Fc1ccc(C(=C=C2CC2(c2ccccc2)c2ccccc2)c2ccc(F)cc2)cc1', 'CC(c1ccccc1C(=O)O)S(=O)(=O)Nc1ccc(OCCCN(C)C)cc1', 'CC(C)Oc1cc(OCc2ccccc2)cc(C(=O)c2ccnc(N)c2C(=O)O)c1', 'COc1ccc(OC)c(N(C(C)C(=O)NCCc2ccccc2)S(C)(=O)=O)c1', 'CC(=O)Nc1nc(N2CC[C@@H](NC(=O)OC(C)(C)C)C2)c2nc(Cl)ccc2n1', 'O=C(CCCC(=O)c1ccc2c(c1)OCCO2)OCc1ccc(-n2ccnc2)cc1', 'O=S(=O)(NCC(c1ccco1)N1CCCCC1)c1ccc2c(c1)OCCCO2', 'CC(=O)c1c[nH]c(C(=O)O[C@@H](C)C(=O)Nc2ccc(OCc3ccccc3)cc2)c1', 'COc1ccc(-c2oc3c(=O)cc(C)oc3c2CC(=O)NCc2cccn2C)cc1', 'COc1cc2c(cc1OC)/C(=C/C(=O)C(C)N1C(=O)c3ccccc3C1=O)NCC2', 'CC1(C)C[C@@H](NC(=O)Nc2ccc(F)c3c2C[C@H](O)C3)c2ccc(F)c(F)c2O1', 'O=C1c2cccc(OCc3ccccc3)c2Cc2c(OCc3ccccc3)cccc21', 'COc1cc(CCNC(=O)C(O)c2ccc(-c3ccoc3)cc2)ccc1OCC#N', 'CC(C)CN(Cn1[nH]c(/C=C/c2ccccc2)nc1=S)C1CCS(=O)(=O)C1', 'CC(C)(C)OC(=O)N1CC(C(=O)Nc2cccc(C(F)(F)F)c2)c2ccccc21', 'CNC(=O)/C(=N/OC)c1ccccc1Oc1cccc(Oc2cccc(OC)c2)c1', 'C[C@@H](NC(=O)Nc1cc2[nH]nc(-c3ccnc(F)c3)c2c(CO)n1)c1ccccc1', 'Cc1cc(N2C(=O)C(O)=C(C(=O)c3ccco3)[C@H]2c2ccc(C(C)(C)C)cc2)no1', 'CC(=O)Nc1ccnn1-c1nc(-c2ccccc2)nc(-c2ccc3ccccc3c2)n1', 'CC(=O)Nc1ccc(S(=O)(=O)NCC(OCCO)c2ccc(C)cc2)c(C)c1', 'Cc1ccc(C2=NN(C(=O)COc3ccc(C)c(C)c3)[C@@](O)(C(F)(F)F)C2)cc1', 'N#Cc1ccc(N2CCN(C(=O)CCc3nc4c(F)cccc4c(=O)[nH]3)CC2)nc1', 'C[C@@H](OC(=O)[C@H]1CC=CCC1)C(=O)N1CCN(S(=O)(=O)c2ccccc2)CC1', 'COc1cc(C(=O)NCC(c2cccs2)N2CCOCC2)cc(OC)c1OC', 'COC(=O)c1ccc(CN(C(=O)N2CCCC2)c2cccc(C(F)(F)F)c2)cc1', 'CCCCCCN(c1ccc([N+](=O)[O-])cc1OCc1ccccc1)S(C)(=O)=O', 'COc1ccc(C(=O)c2ccc(-c3ccc(C(=O)c4ccc(C)cc4)cc3)cc2)cc1', 'COc1cccc2c(N(C)c3ccccc3)nc(Nc3ccccc3C)nc12.Cl', 'Nc1ccc(CC(=O)OCOc2ccc(OC(=O)Cc3ccc(N)cc3)cc2)cc1', 'CC(C)(O)c1ncc(SN)s1.NC(=O)Nc1cc2c(c3c1CCC3)CCC2', 'O=C(COC(=O)c1cccc(N2C(=O)c3ccccc3C2=O)c1)NC1CCCCC1', 'COC(=O)c1ccc(/C=C/C(=O)OC(C)C(=O)N(CCC#N)c2ccccc2)cc1', 'Cc1ccc(NC(=O)c2c(/N=C/c3ccc(F)cc3)sc3c2CCCC3)c(C)c1', 'CCNC(=O)N(Cc1ccccc1OS(=O)(=O)c1ccc(OC)cc1)C(C)C', 'Cc1ccc(-c2ccc(N3CCCC(C(=O)Nc4cccc(Cl)c4)C3)nn2)cc1', 'COc1ccccc1-c1cc(COC(=O)C2CC(=O)N(c3ccc(C)cc3)C2)on1', 'CCCC(C(CCC(=O)O)C(=O)O)P(=O)(O)CCc1cccc2ccccc12', 'O=C(O)CCCCCNC(=O)NCCCN1C(=O)c2ccc([N+](=O)[O-])cc2C1=O', 'COc1nnc(-c2c(C)cc3cccc(C(N)=O)n23)nc1NCc1cccc(F)c1', 'C=C.CC#Cc1ccc(NCc2oc(CS(C)(=O)=O)cc(=O)c2O)cc1.CN', 'O=C(NC1CCN(Cc2cccc(C(F)(F)F)c2)CC1)c1cccc2c1OCO2', 'O=C(NCC(=O)N1CCC(c2ccc(O)cc2)CC1)c1ccc(C(F)(F)F)cc1', 'CCCOc1ccc2cc(OCCCCCCCCBr)ccc2c1C', 'CC(NC(=O)COc1ccccc1O)(C(N)=O)c1ccc(Oc2ccccc2)cc1', 'COc1ccccc1-c1nn(Cc2ccccc2)cc1C(=O)OC1CC(C)OC1=O', 'CN1C(=O)CC(OS(C)(=O)=O)C12CC13CCCCC1=CN1C=CCCC1=C3O2', 'CCCCOP(=O)(OCCCC)[C@H](O[Si](C)(C)C)c1ccc(Cl)cc1', 'COCCN(CC(=O)Nc1ccccc1C(F)(F)F)C(=O)/C=C/c1ccccc1', 'CC(C)C(NC(=O)CNC(=O)C(CCC(=O)O)NC(=O)C(N)CS)C(=O)O', 'COc1cc(C(C)NC(=O)Cc2ccc(S(N)(=O)=O)cc2)ccc1OC(C)C', 'CN1CCN(c2ccc(-c3ccncc3)cc2NC(=O)c2ccccc2Cl)CC1', 'Cc1cc(C(=O)COC(=O)c2cccc(S(=O)(=O)N(C)C(C)C)c2)c(C)n1C', 'O=S(=O)(NC1CCN(CCOC2=CCCC3=C2OCCO3)C1)c1ccccc1', 'COc1ccc(NS(=O)(=O)c2ccc(OCC(=O)NCC(C)C)c(C)c2)cc1', 'COc1ccc(NC(=O)CCCN(c2cccc(C)c2)S(C)(=O)=O)cc1OC', 'Cc1cc2nc3c(=O)[nH]c(=O)nc-3n(C[C@H](O)[C@H](O)[C@H](O)[C@@H](O)CO)c2cc1C', 'COc1ccc(S(=O)(=O)NC(C)C(=O)Nc2c(C)cc(C)cc2C)cc1OC', 'O=C(CN1CCc2sccc2[C@@H]1C1CC1)NCCc1ccc(OC(F)F)cc1', 'CCOC(=O)C(=O)c1c(Cc2c[nH]c3ccc(OC)cc23)[nH]c2c(OC)cccc12', 'CCOC(=O)N1CCC(Nc2nc(SC)nc3sc4c(c23)CCCC4)CC1', 'O=C(O)[C@@H](Cc1ccccc1)N1CCCC[C@H](N2C(=O)c3ccccc3C2=O)C1=O', 'C[C@@H](Oc1ccc2c(-c3ccccc3)cc(=O)oc2c1)C(=O)N1CCC[C@@H]1C(N)=O', 'N#Cc1cnn(-c2ccc(C(=O)NN=C(c3ccccc3)c3ccccc3)cc2)c1N', 'COc1ccc(C(C)NC(=O)CC(NS(C)(=O)=O)c2ccc(OC)cc2)cc1', 'CC(C)(C)OC(=O)N1CCC2(CC1)SC[C@@H](C(=O)O)N2C(=O)c1ccccc1', 'COc1ccc(CN(C)C(=O)CN(c2ccccc2C)S(C)(=O)=O)cc1OC', 'O=C(Cc1ccccc1)Nc1cccc(-c2ccc3nnc(-c4ccncc4)n3n2)c1', 'NC1=C(NCc2ccc(-c3ccc(F)cc3)cc2)C(=O)c2ccccc2C1=O.[NH3+]O', 'C[C@H](C(=O)O[C@H](C)C(=O)N1c2ccccc2C[C@H]1C)N1C(=O)c2ccccc2C1=O', 'COc1cccc(OCCNC(=O)CN(c2ccc(C)cc2C)S(C)(=O)=O)c1', 'NC/C(=C\\\\F)Cn1nc2cc(-c3ccc(-c4noc(C5CC5)n4)cc3)ccn2c1=O', 'C[C@@H]1CC[C@H]2C(=O)N(c3cccc(C(=O)Nc4ccc(C(=O)O)cc4)c3)C(=O)[C@@H]2C1', 'CC(C)N(C(=O)CN1CCc2nc(NC(=O)c3ccsc3)sc2C1)C(C)C', 'CCc1ccc(-c2cc(C(F)(F)F)nc(N/N=C\\\\c3c(C)nn(C)c3F)n2)cc1', 'Cc1nc2c3c(ccn2c1C)C(C)(OCC(F)(F)F)C(O)[C@@H](c1ccccc1)O3', 'Cc1cc(-c2cnc(NCc3c(F)ccc4c3CCO4)c3cn[nH]c(=O)c23)n(C)n1', 'COc1ccc(NC(=O)COC(=O)c2c3c(nc4ccccc24)CCC3)cc1OC', 'COc1ccc([N+](=O)[O-])cc1OCC(=O)N(Cc1ccccc1)c1cccc(C)c1', 'O=C(C=Cc1ccc(F)cc1F)NC(CO)c1ccc(F)c(N2CCOCC2)c1', 'CCOc1ccc2nc(NC(=O)CCN3C(=S)NC(C)(C)CC3C)sc2c1', 'O=C(c1cnn(-c2cccc(Cl)c2)c1)N1CCN(CC=Cc2ccccc2)CC1', 'CN1C2CCC1(/C(=C\\\\C(=O)O)C(=O)O)CC(Oc1ccc3cc(C#N)ccc3c1)C2', 'C=CCN1C(=O)c2ccc(C(=O)OCC(=O)N(C)Cc3ccccc3C)cc2C1=O', 'CC(=O)SC[C@H](C)C(=O)N1CCC[C@@H]1C(=O)NC(Cc1ccccc1)C(=O)O', 'CC[NH+](CC(=O)Nc1cccc(OC)c1)CC(=O)Nc1cc(Cl)ccc1OC', 'CCCCS(=O)(=O)c1ccc(C(O)C(N)Cc2cccc(C)c2)cc1[N+](=O)[O-]', 'Cc1cnc(-c2nnc(C3CCN(C(=O)c4cc5c(F)cccc5[nH]4)CC3)o2)cn1', 'CCCCOc1ccc(C(=O)Nc2ccc(S(=O)(=O)NC)cc2)cc1OCC', 'CC(=O)NCC1CCCN(C(=O)CCSc2ncnc3sc(C)c(C)c23)C1', 'CCOCCCNc1ccc(C(=O)O)cc1S(=O)(=O)NCCc1ccccc1', 'O=C(Nc1ccc(C(F)(F)F)cc1)NC1CCC(c2ccc(C(=O)O)cc2)CC1', 'CC1(C)C2CCC13CS(=O)(=O)N(C(=O)C1NCCc4cc(O)c(O)cc41)C3C2', 'COCCOc1ccc(S(=O)(=O)N(C)CC(=O)Nc2c(C)cccc2C)cc1', 'CC(C)(NC(=O)OCC1c2ccccc2-c2ccccc21)C(=O)NCC#CC(=O)O', 'CC(C)(C)OC(=O)NC(CC/C=C(\\\\F)CN1C(=O)c2ccccc2C1=O)C(=O)O', 'CCN(Cc1ccccc1)c1ccc(/C=N\\\\NC(=O)Nc2ccc(Cl)cc2)cc1', 'COc1cc([C@@H]2[C@H](O)CCC=C3C(C)(C)CCC[C@]32C)c(Br)cc1C', 'COc1ccc(NC(=O)[C@@H](C)N(c2ccc(C)c(C)c2)S(C)(=O)=O)cc1OC', 'COc1ccccc1OCCNC(=O)CN(Cc1ccc(C)cc1)S(C)(=O)=O', 'CN(CCCNC(=S)Nc1cccc(S(=O)(=O)N(C)C)c1)c1ccccc1', 'CCOC(=O)CN(Cc1ccccc1)C(=O)C1=C(C(=O)O)CC(c2ccccc2)=N1', 'CCC(=O)Nc1ccc(S(=O)(=O)NCC(OC)c2ccccc2OC)c(C)c1', 'CCOc1ccc(NC(=O)c2cc(C)oc2C)cc1S(=O)(=O)N1CCCCC1', 'COc1ccc(NC(=O)[C@@H]2[C@H]3C=C[C@@]4(CN(c5ccccc5)C(=O)[C@@H]24)O3)cc1OC', 'COc1ccc(-c2nn(Cc3ccccc3)cc2C(=O)O[C@H]2C[C@H](C)OC2=O)cc1', 'CC1c2cc3c(cc2CCN1CC(=O)Nc1ccc(F)c(F)c1F)OCCCO3', 'CC(=O)Nc1ccc(C(=O)COC(=O)C[C@@H]2c3ccccc3C=CN2C(C)=O)cc1', 'Cc1ccc(C)c(OC(=O)C2CCN(S(=O)(=O)c3c(C)noc3C)CC2)c1C', 'CCOc1ccc(Cc2cc(C3CC(O)CC(CO)(CO)O3)ccc2Cl)cc1', 'COc1ccc(C)cc1NC(=O)[C@H](OC(=O)Cn1ccccc1=O)c1ccccc1', 'Cc1nc2ccccc2c(C)c1C(=O)OCC(=O)NC[C@@H]1COc2ccccc2O1', 'COC(=O)c1ccc(C(=O)OC)c(NC(=O)C(C#N)=Cc2ccc(C(C)C)cc2)c1', 'CC(C)CCNC(=O)C1CCCCN1S(=O)(=O)c1ccc(C(F)(F)F)cc1', 'C[C@@H](/C=C/C(=O)NO)[C@@H](OC(=O)Nc1ccccc1)c1ccc(O)c2ccccc12', 'CC(NC(=O)COc1ccc2ccc(=O)oc2c1)c1ccc(NC(=O)C2CC2)cc1', 'COc1cc(C)c(S(=O)(=O)N2CCC(C(=O)NCc3ccco3)CC2)cc1C', 'Cc1ccc(C(=O)NC(Cc2cc(=O)[nH]c3ccccc23)C(=O)OCC2CO2)cc1', 'COc1cccc(COCc2noc(-c3ncn(C4CCCNC4)n3)n2)c1.Cl', 'COc1cc(CCC(=O)N(C)C(C)c2ccc(S(N)(=O)=O)cc2)cc(OC)c1', 'CC1(C)C[C@@H](C(=O)NOCC2CCCNC2)N2C[C@@H]1N(OS(=O)(=O)O)C2=O', 'CCOc1ccccc1NC(=O)/C(C#N)=C/c1ccc(OC(=O)C2CC2)c(OC)c1', 'C[N+](C)(C)C[C@@H](CC(=O)[O-])NS(=O)(=O)c1cccc(OCc2ccccc2)c1', 'COc1cc(OC)cc([C@@H]2[C@@H](S(=O)(=O)N[C@@H](C)c3ccccc3)CON2C)c1', 'CCN(Cc1ccccc1)C(=O)COC(=O)c1ccccc1NC(=O)c1ccco1', 'CCOC(OCC)c1ncccc1C(CSN=O)c1ccc(OC)c(OC)c1', 'O=C(CCc1ccc(Cl)cc1)N1CCN(c2ccc(-c3ccccc3)nn2)CC1', 'O=C(CN1C(=O)C(=O)c2ccccc21)O[C@H](C(=O)N1CCCCC1)c1ccccc1', 'Cc1cc2nc3c(=O)[nH]c(=O)nc-3n(C[C@H](O)[C@H](O)[C@H](O)[C@H](O)CO)c2cc1C', 'CC(=O)Nc1ccc(CN2CCC(c3cccc(F)c3)Sc3ccccc32)cc1', 'CNC(=O)CC1CN(Cc2c(C)c(OC)c(C)c[n+]2[O-])c2nc(N)nc(Cl)c21', 'CCc1ccccc1N1C[C@@H](C(=O)Oc2ccc(N3C(=O)CCC3=O)cc2)CC1=O', 'O=C(C(Sc1ccccc1)c1ccccc1)N1CCN(c2ccc(F)cc2)CC1', 'CSCCC(N)C(=O)NC(C)C(=O)NC(CC(=O)O)C(=O)NC(C)C(=O)O', 'N#CC1(c2ccccc2)CCN(CCCc2nc3cccc(Cl)c3c(=O)[nH]2)CC1', 'CCOc1ccccc1N1CC(C(=O)NCc2cccc(C(F)(F)F)c2)CC1=O', 'Cc1nn(C)c(C)c1C(=O)NCC(c1ccccc1Cl)c1c[nH]c2ccccc12', 'COc1ccccc1NC(=O)COc1coc(CN2CCc3ccccc32)cc1=O', 'CSCC[C@H](CNC(=O)c1cc(F)ccc1C)NC(=O)c1cc(F)ccc1C', 'Cc1ccc(C(=O)C2=C(O)C(=O)N(Cc3ccco3)C2c2ccc(N(C)C)cc2)o1', 'CCNC(=O)c1cc(S(=O)(=O)N[C@H](CC)c2ccc(OC)cc2)ccc1OC', 'Cc1noc(C(C)C)c1C(=O)OCC(=O)c1ccc(NC(=O)c2ccccc2)cc1', 'CC12Cc3cnn(-c4ccc(F)cc4)c3C=C1CCC2(O)CSc1ccccc1', 'COc1ccc(/C=C/C(=O)NCc2ccc(NC(=O)c3ccco3)cc2)c(OC)c1', 'Cc1ccc(S(=O)(=O)N(C)C)cc1NC(=O)[C@@]12CC[C@@](C)(C(=O)C1=O)C2(C)C', 'Cl.c1ccc(-c2c(-c3ccncc3OC[C@@H]3CCCN3)[nH]c3cccnc23)cc1', 'CC[C@H](N)C(=O)Nc1ccc(C(=O)NCCN2CCOCC2)cc1.Cl.Cl', 'Cc1ccc(S(=O)(=O)N(C)C)cc1NC(=O)[C@@]12CC[C@](C)(C(=O)C1=O)C2(C)C', 'Clc1ccc(-c2ncc3c(n2)CCN(Cc2cccnc2OCC2CC2)C3)cc1', 'CCOC(=O)c1ccc(N)c(OCC(=O)Nc2ccc(Oc3ccccc3)cc2)c1', 'COc1ccc(C(N)=O)cc1NC(=O)COc1ccc(Oc2ccc(C)cc2)cc1', 'COCc1cccc(NC(=O)CCCN(c2ccccc2OC)S(C)(=O)=O)c1', 'CCOc1ncccc1C(=O)OC(C(=O)Nc1ccc(OC)cc1)c1ccccc1', 'CCC1CCCCN1C(=O)C(C)Sc1nnc(Nc2cccc(OC)c2)s1', 'COc1cccc2c1OC[C@@H]1[C@H]2Nc2ccc(-c3nc(C(=O)O)co3)cc2C1(C)C', 'O=C(CSc1ncnc2sccc12)NCC1(N2CCOCC2)CCCCC1', 'COc1ccc(C(=O)Nc2cccc([N+](=O)[O-])c2C)cc1COCc1ccccc1', 'CCn1cc(C(=O)N2CCOC(c3ccccc3)C2)c(=O)c2cc3c(cc21)OCO3', 'CC(CN1CCOCC1)N(Cc1ccccc1)C(=O)c1ccc(S(C)(=O)=O)o1', 'CCN(CC)C(=O)SC[C@@H](NC(=O)CC[C@@H](N)C(=O)O)C(=O)NCC(=O)O', 'CCCOc1ccccc1OCC(=O)NCc1ccccc1CS(=O)(=O)NC', 'CC(C)(C)OC(=O)N1CCN(c2ccc(-c3n[nH]nc3C(N)=O)c(Cl)c2)CC1', 'CC(C)c1ccc(Nc2nnc(SCC(=O)N3C[C@@H](C)O[C@H](C)C3)s2)cc1', 'COc1ccc(C(=O)Nc2ccc(C(=O)Nc3ccc(OC)cc3OC)cc2)cc1', 'CCC(C(=O)NCCOc1ccccc1OC)N(c1ccccc1)S(C)(=O)=O', 'COCc1c(C(=O)O[C@@H](C)C(=O)N(CCC#N)c2ccccc2)oc2ccccc12', 'CN(Cc1cn(C)nc1C(F)(F)F)C(=O)c1ccn(C2CCCNC2)n1.Cl', 'CCOCc1c(C(=O)O[C@@H](C)c2nnc(-c3ccc(C)cc3)o2)oc2ccccc12', 'CCOc1ccc(Oc2ccc(NC(=O)COc3ccccc3C(N)=O)cc2)cc1', 'COC(=O)c1ccc(OC(C)C)c(NCc2cccc(S(=O)(=O)N(C)C)c2)c1', 'CCN(C(=O)CSc1nnc(Nc2ccccc2OC)s1)C1CCCCC1', 'COc1ccc(-c2nnc([C@@H](C)OC(=O)Cc3coc4cc(C)c(C)cc34)o2)cc1', 'O=C(c1cccc(F)c1)N1CCC2(CCn3c(nc(-c4ccncn4)cc3=O)N2)C1', 'CCC(C)C(NC(=O)CN)C(=O)NC(CC(=O)O)C(=O)NC(CS)C(=O)O', 'COc1ccc(-c2nc(COC(=O)c3cc(C)n(Cc4ccco4)c3C)co2)cc1', 'C[C@@H]1CCCC[C@@H]1NC(=S)N1CCN(S(=O)(=O)c2ccccc2C#N)CC1', 'Cc1cccc(Nc2nc3c(c(Nc4cccc(Cl)c4)n2)C(=O)CC(C)(C)C3)c1', 'COc1ccc(CNC(=O)c2ccc(Oc3ccc(C(N)=O)cc3)cc2)c(OC)c1', 'CCOc1ccc(Cc2cc([C@@]3(OC)C[C@@H](O)[C@H](O)[C@@H](C)O3)ccc2Cl)cc1', 'CCOC(=O)c1ccc(N[C@H](NC(=O)c2ccco2)C(=O)c2ccc(C)cc2)cc1', 'CN(Cc1ccccc1C(F)(F)F)C(=O)c1cccc(NC(=O)C2CCCO2)c1', 'CC(C)Oc1ccc(NC(=O)[C@@H](C)Oc2ccc(N(C)S(C)(=O)=O)cc2)cc1', 'CC1CCN(C(=O)CSc2nnc(-c3cccs3)n2CC2CCCO2)CC1', 'COc1ccc(OC)c(CCC(=O)N(C)C(C)c2cccc(S(N)(=O)=O)c2)c1', 'CCN(C(=O)[C@H](C)OC(=O)c1ccc(NC(=O)c2ccco2)cc1)c1ccccc1', 'Cc1cc(C(N)=O)ccc1-n1c(CCC(=O)O)ccc1-c1ccc(C(=O)CO)cc1', 'COc1ccc(CNC(=O)CN(c2ccc(C)c(C)c2)S(C)(=O)=O)cc1OC', 'CCC1CC(=O)NC(n2nc(C)cc2NC(=O)Nc2cc(Cl)ccc2OC)N1', 'N#Cc1c(-c2ccccc2)cc(-c2ccccc2)nc1SCCCc1ccccc1', 'C[C@H](OC(=O)c1ccc(N2C(=O)CCC2=O)cc1)C(=O)Nc1ccc2c(c1)CCC2', 'O=C(COCc1cc(-c2ccc3c(c2)OCO3)on1)NC1CCCc2ccccc21', 'Cc1ccc(Cl)cc1NC(=O)C1CCCN(c2cc(-c3ccccc3)ncn2)C1', 'NC(=O)CCOc1ccccc1NC(=O)COc1ccc(Oc2ccccc2)cc1', 'CCOc1ccc(-c2cc(C(=O)N(Cc3ccco3)Cc3ccc(C)o3)no2)cc1', 'CC[C@@H](C)Nc1ccc(C(=O)O)cc1S(=O)(=O)NCCc1ccc(OC)cc1', 'C[C@H](C(=O)O[C@@H](C(=O)N1CCCC1)c1ccccc1)N1C(=O)c2ccccc2C1=O', 'O=C(O)c1cc2c(s1)C1(CCN(C(=O)CCN3CCCCC3=O)CC1)OCC2', 'Cc1cc(C)n(-c2ccc(CCNC(=O)Cn3ccc4ccc(Cl)cc43)cc2)n1', 'CNc1cc(Nc2cccn(-c3ccc(OC)cn3)c2=O)nc2c(C(N)=O)cnn12', 'CC[C@]1(c2ccc(NC(=O)/C=C/c3ccc4c(c3)OCO4)cc2)CCC(=O)NC1=O', 'CCOC(=O)c1coc2c1c(C(NCCO)c1ccncc1)c(O)c1ccccc12', 'CCOC(=O)C1CCN(C(=O)COC(=O)C2CC(=O)Nc3cc(F)ccc32)CC1', 'CC(C)(C)S(=O)(=O)NC1CCC(C(=O)Nc2ccc(C(F)(F)F)cc2)CC1', 'CCOC(=O)c1c(NC(=S)NCCCn2nccc2C)sc2c1CCCC2', 'COc1cccc(NC(=O)N(Cc2cccc(OS(C)(=O)=O)c2)CC(C)C)c1', 'CC(=O)c1c(C)[nH]c(C(=O)Nc2cccc(COc3ccc4c(c3)OCO4)c2)c1C', 'COc1ccc(C2(C3CC(=O)N(c4ccccc4)C3=O)N=C(C(C)C)C(=O)O2)cc1', 'COc1ccc(S(=O)(=O)N[C@H]2CCN(Cc3ccc(OCCO)cc3)C2)cc1', 'CCOC(=O)c1cc(C(=O)Nc2ccc(C)cc2)c(=O)n(-c2ccc(C)cc2)c1O', 'COC(=O)[C@@H]1CC=C[C@H](NC(=O)OCC2c3ccccc3-c3ccccc32)C(=O)N1', 'CCOC(=O)c1cn(C2CC2)c2c3c(ccc2c1=O)-c1cnc(OC)cc1COC3', 'COc1ccc(C(NC(=O)COC(=O)c2ccccn2)c2ccc(OC)cc2)cc1', 'CC1CCC(CC[C@H](N)Cc2cc(F)c(F)cc2F)N1C(=O)CS(C)(=O)=O', 'CC(O)[C@@H](N)C(=S)N(C)NC(=O)[C@@H](CC(N)=O)CC(=O)CC(CO)C(=O)O', 'O=C(Cc1ccc2ccccc2c1)N[C@@H](CO)C(=O)NCc1ccc2c(c1)OCO2', 'CC(C)c1ccc(OCc2ccc(C(=O)N/N=C/c3ccc4c(c3)OCO4)o2)cc1', 'Cc1cn([C@H]2C[C@H](F)[C@@](CCl)(CO[Si](C)(C)C(C)(C)C)O2)c(=O)[nH]c1=O', 'CC[C@H](C)Cc1c(C)sc2nc(SCC(=O)N(C)C(C)(C)C#N)[nH]c(=O)c12', 'C[C@@]1(c2ccc3c(c2)OCO3)NC(=O)N(CC(=O)c2ccc3c(c2)CCCC3)C1=O', 'Cc1nn(-c2ccccc2)c(C)c1C(=O)OCC(=O)c1ccc2c(c1)OCCCO2', 'CCOc1ccccc1NC(=O)C(Oc1ccc([N+](=O)[O-])c(C)c1)c1ccccc1', 'CC(C)c1ccnc(-c2cc(-c3ccccc3)c3sc(-c4ccccc4)nc3c2)c1', 'CSCCC(NC(=O)C(C)NC(=O)C(CCC(=O)O)NC(=O)CN)C(=O)O', 'Cc1ccc(OCCNC(=O)C(C)Oc2ccc(N(C)S(C)(=O)=O)cc2)cc1', 'O=C(Nc1ccc(Cl)cc1)N1CCN(Cc2ccccc2-c2cccnc2)CC1', 'CNC(C(=O)NC(C)c1nc(-c2ccccc2OC)no1)c1cnn(C)c1.Cl', 'CCCCNS(=O)(=O)c1ccc(OCC(=O)N(C)c2ccc(OC)cc2)cc1', 'CC(C)(C)OC(=O)N[C@@H](/C=C(/F)CCCN1C(=O)c2ccccc2C1=O)C(=O)O', 'CCC(C)C(C(=O)NO)N(Cc1ccccc1)S(=O)(=O)c1ccc(OC)cc1', 'CC(=O)N[C@@H](Cc1cc(F)cc(F)c1)[C@@H](S)CNC1COCc2ccccc21', 'Cc1cccc(C)c1NC(=O)CN(C)C(=O)/C=C/c1ccc(OC(F)(F)F)cc1', 'CC(C)(C)C(=O)Oc1cc(B2OC(C)(C)C(C)(C)O2)cc2ccc(F)c(Cl)c12', 'CC1CCN(c2ccc(-c3ccc(NC(=O)c4ccc(Cl)cc4)cc3)nn2)CC1', 'CCCOc1ccc(C2=CCC(c3ccc(OCC)c(F)c3F)=CC2)c(F)c1F', 'COc1ccc(OC[C@@H](C)NC(=O)c2ccc(C)c(N(C)S(C)(=O)=O)c2)cc1', 'CCOc1cccc(N(CC(=O)NC(C)c2ccccc2OC)S(C)(=O)=O)c1', 'CCOc1ccc(NC(=O)[C@H](C)N(c2cc(C)ccc2OC)S(C)(=O)=O)cc1', 'CN1C(=O)C2(COc3cc4c(cc32)OCCO4)c2c(C(=O)NC3CCC3)cccc21', 'CC(C)C1=CC=C(C=C1)NC(=O)N(C)C', 'CCC[C@@H](C)C(=O)Nc1ccc(N)cc1', 'COc1cc2c(cn1)CNC(C(C)C)C2', 'CC(CO)N(C)c1ccc2c(n1)CCC2', 'CCc1cc(N)ccc1N1CCC(O)C1', 'CNC(=O)CCc1ccc(N(C)C)cc1', 'CCC/N=C(\\\\N)c1ccc(C)cc1OC', 'O=C1CC(CC2CC2)=NN1C1CCCC1', 'CCC1C(CO)NNC1c1ccccc1', 'CN1CCN(C#CC(=O)C2CCC2)CC1', 'CC1CCC(C)C(Oc2cccnn2)C1', 'CCNCCc1ccc(NC(C)=O)cc1', 'Cc1ccc(C2(CN)CCCOC2)cn1', 'CCC(C)NCc1cccc(C(N)=O)c1', 'CC(=O)CCCN(C)Cc1ccncc1', 'CCC(=CC(=O)c1ccnn1CC)CC', 'Cc1cc(C(C)/N=C(\\\\N)C2CC2)c(C)o1', 'COC1CCCC(Nc2cccnc2)C1', 'Nc1cccc2c1CN(CCCO)CC2', 'C=CC[C@@H](Cc1cncc(OC)c1)NC', 'CCCN1CCOc2cc(N)c(C)cc21', 'Cc1c(C(C)(C)C)nc2n1CC(=O)CC2', 'OC(Cc1ccccn1)C1CCNCC1', 'O=C1C=CC2C(CCCC3CNNC32)C1', 'Cn1cccc1C(=O)N1CCCCCC1', 'CC1OCCC1N[C@H](C)c1ccncc1', 'CNCC1COc2c(C)cc(C)cc2N1', 'COc1ccc(N(C)C2CCNC2)cc1', 'Cc1cccc(OCC2CCCCN2)n1', 'CC(C)c1cnc(N)c(OCC2CC2)c1', '[H]/N=C(\\\\N)C(C)OCCCc1ccccc1', 'C[C@@H](N)c1ccc(N2CCOCC2)cc1', 'CC(NC1CCOCC1)c1ccncc1', 'CC(C)COCCCC(Cl)C(C)C', 'COc1ccccc1CC(NN)C1CC1', 'CNC1CCCCC1n1ccccc1=O', 'COC1CCC2NC=C3CC(N)CC1=C32', 'CC(C)OP(OC(C)C)C(C)(C)C', 'CC(C)(C)C(=O)[C@@H](N)Cc1cccnc1', 'N#CC1CCCN1C(=O)C1CCCCC1', 'CCC(=O)NNCCc1cccc(C)c1', 'CCCC1CN(c2ccccn2)CCO1', 'COc1ccc(CCNCC2CC2)cn1', 'CCOc1ccc(N)cc1N1CCCC1', 'O=C(NC1C2CNCC21)C1CC2CC2C1', 'CCCCCC1CC(=O)NC(C)=C1C#N', 'CN(C)CC(=O)N(C)Cc1ccccc1', 'CCOc1ncnc(C2CC2)c1C(C)C', 'CCOc1cccc2c1NC(C(C)N)C2', 'CC1CCCCN1CC(=O)c1ccc[nH]1', 'Nc1ccccc1N[C@@H]1CCC[C@H](O)C1', 'CNCCCNC(=O)Cc1ccccc1', 'CCC1(c2ocnc2CNC2CC2)CC1', 'CCCNc1cccc(C(=O)NCC)c1', 'C#CCC(C)N1CCC(NC2CC2)C1=O', 'COC(C)(C)C/N=C(\\\\N)c1ccccc1', 'OCc1cccnc1N1CCCCCC1', 'Cc1ccc(CN)cc1NC(=O)C(C)C', 'N#CCC1(CN2CCCC(C=O)C2)CC1', 'CC1CC(=O)N1CC#CCN1CCCC1', 'Cc1cccc(NC(=O)C(C)CN)c1C', 'CC(=O)Nc1cccc(CCN(C)C)c1', 'CNC(C)C(=O)Nc1cccc(C)c1C', 'COCCON(CCN(C)C)B(O)O', 'CCCc1ccc(CN)c(=O)n1C1CC1', 'CCC(C)CCCC(C)(C)OCCl', 'CC1CCCC(n2ccc(=O)c(N)c2)C1', 'CCC1(CC)C(O)CC1c1cnccn1', 'COC1CCN(c2ccc(N)cc2)CC1', 'CCCN(c1cc(CO)ccn1)C1CC1', 'Cc1ccc(C)c(C(N)CCC(N)=O)c1', 'CNc1cccc(CCCNC(C)=O)c1', 'CCC(=CC(=O)Cc1nccn1C)CC', 'CC/C=C\\\\c1c(C)cnn1CCC(C)=O', 'NC(CO)c1ccccc1C1CCNC1', 'CCC(Oc1ccccc1)C1=NCCN1.[H][H]', 'CN(CCO)[C@H]1Cc2ccc(N)cc2C1', 'Cc1cccnc1N1CCCCC1CO', 'CC1CC(C)(C)CC1(O)c1cnccn1', 'CCOC1CCCCN1c1ccncc1', 'CN(C)Cc1cc(C2CC2N)ccc1O', 'CC(C)(C)c1cnnc(CC2COC2)c1', 'C[C@@H](NC(=O)C(C)(C)C)c1ccccn1', 'CCC(C)C(=O)NCCc1cccnc1', 'CNCc1cc(C)c(C(C)=O)c(CN)c1', 'CC1CCCC1(O)Cc1ccnc(N)c1', 'Cc1c(N)ccc(=O)n1CC1CC(C)C1', 'Cc1c(C(C)C)cnc2c1NCCCO2', 'Cc1ccc(C(=O)N(N)C(C)(C)C)cc1', 'OC1CCc2nc(C3CCCC3)cn2C1', 'CC(c1ccc(N)cc1)C1CNCCO1', 'CC(N)c1ccc(OC2CCCC2)nc1', 'CCN(C(=O)[C@@H](C)N)c1ccccc1C', 'CC(C)(CCCCl)CCCCCO', 'NCC(Cc1ccc(O)cc1)N1CCC1', 'Cc1cccc(=O)n1CC1CCCNC1', 'COc1ncccc1C1C(CN)C1(C)C', 'CCc1cc(NC(C)=O)ccc1N(C)C', 'COc1ccccc1C1CCN1CCN', 'Cc1c(N)cccc1NCC1CCOC1', 'CCCCCCCCCC[PH+]([O-])O', 'CC(C(N)=O)N(C)CCc1ccccc1', 'CC(CO)CN1Cc2ccc(N)cc2C1', 'C/C=C/Nc1cc(COC)ccc1NC', 'Cn1cc(C(=O)CC2CCCCC2)cn1', 'CCCCOc1ccc(/C=N/NC)cc1', 'CC1C(C)C1(N)CCOc1cccnc1', 'COC[C@@H]1CCN(C)C1c1cccnc1', 'CCN(CC)Cc1ccc(NC=O)cc1', 'NCc1ccc(OCC2CCCC2)nc1', 'OCC1CCCC1CNc1ccncc1', 'CCNC(=O)c1nc(C)c(C)cc1CC', 'CCN(c1ccc(OC)cc1N)C1CC1', 'Cc1c(N)ccc(CC(=O)N(C)C)c1C', 'CC(C)c1ccc(O[C@@H]2CCNC2)cn1', 'C[C@H]1CN(c2ccccc2N)C[C@H]1CO', 'OC(c1ccnnc1)C1CCCCCC1', 'Cc1ccncc1CNC1(C)CCOC1', 'CCCCCC[C@H](O)[C@H](Cl)CCC', 'CNCC1CN(C)c2cccc(OC)c21', 'Cc1ccc(N)cc1N1CCC(O)CC1', 'CC(C)Oc1cc(NC2CC2)ccc1N', 'CC1(C)CCc2cccnc2C1(O)CN', 'CC.CNC(=O)C1Cc2ccccc2N1', 'COc1ccncc1CN1CCC(C)C1', 'COc1ncc(C2CCCNC2)cc1C', 'CCN(CC)c1cccc2c1OCCN2', 'C#CCNCC(=O)NC1CC2CCC1C2', 'CC.CCNc1ccc(OC)cc1C#N', 'CCC(C)NCC(=O)c1cccc(N)c1', 'CC(N)CC(=O)NC(C)c1ccccc1', 'CC1(C)CNC(C)(c2cccnc2)OC1', 'C[C@@H](O)c1ccc(N2CCCC2)c(N)c1', 'CCCN1CCCC1c1ccc(=O)[nH]c1', 'C=CC[C@H](c1ccco1)N1CCNCC1', 'CC(N)C(OC1CCC1)c1ccccn1', 'NCC(N)CC1CCc2ccccc2O1', 'CNC(C)c1ccccc1N(C)C(C)=O', 'OCCC1(NCc2cccnc2)CCC1', 'C#CCCCCNCc1c(C)noc1C', 'CCCCc1cc(C2=CCCNC2)no1', 'CC1(C)C2CCC(c3oncc3N)C1C2', 'CCNc1ccc(NC(=O)C(C)C)cc1', 'C1CCC(c2nc3c(o2)CCCC3)NC1', 'O[C@@H]1CCCC[C@@H]1NCc1ccccn1', 'Cc1cc(OC2CCCCCC2)ncn1', 'CC(=O)Nc1c(C)c(C)c(N)c(C)c1C', 'N#CC1CCCN1C(=O)CC1CCCC1', 'Cc1cc(O)ccc1N1CCN(C)CC1', 'CC(Nc1ccncc1)C1CCOCC1', 'OCCc1ccc(NC2CCNC2)cc1', 'COc1ccc([C@H]2CN(C)C[C@H]2N)cc1', 'CC(Oc1ccc(N)cc1)C1CCCN1', 'C=CCCCNNc1ccc(C)c(O)c1', 'CCO/N=C(\\\\N)c1ccc(C(C)C)cc1', 'Cn1cc(CC(O)C2CC=CCC2)cn1', 'CNC(CC(N)=O)c1cc(C)cc(C)c1', 'CC1CCC(CCc2ccnc(N)c2)O1', 'C[C@@H](NC1CCCC1O)c1cccnc1', 'C=CCN(CCC)c1ccc(CO)cn1', 'COc1ccc(NC[C@@H]2C[C@H]2CN)cc1', 'C/C=C/COc1cncc(NCCC)c1', 'NC1=NC(CCc2ccoc2)CCCC1', 'C1CNCCN1.CC(=O)c1ccccc1', 'CCC(N)CNC(=O)c1ccc(C)cc1', 'Cc1cccnc1N1C[C@@H](C)O[C@@H](C)C1', 'Cc1ccccc1C(C)NC(=O)CCN', 'Cn1cnc(C=O)c1CCC1CCCC1', 'CCCC(C)N(N=O)c1ccc(C)cc1', 'CC(C)(NC(=O)CCN)c1ccccc1', 'CC(CN(C)Cc1ccoc1)=C1CNC1', 'CC/C=C(\\\\C=C(/C)OC)n1ccc(C)n1', 'COc1cc(C2CCN(C)C2)ccc1N', 'C=CCCCOc1ccncc1CNC', 'NCCc1cnccc1OC1CCCC1', 'CC(C)NC(=O)CCc1ccc(N)cc1', 'CCNCc1ccc(C(=O)N(C)C)cc1', 'c1coc(CN2CCNC3CCCC32)c1', 'Cc1ccc(CN2CC[C@@H](O)C2)c(N)c1', 'C#C[C@]1(O)C[C@H](C)NC[C@]1(C)CCC#N', 'CCCCC1=NC2(CC3(CC3)C2)C(=O)N1', 'C1CCC(c2noc3c2NCCC3)CC1', 'CCCCc1cc(C)cc(NC(C)=O)n1', 'COc1cnccc1C1CCCCCN1', 'C[C@H](CC(=O)Nc1ccccc1)[C@@H](C)N', 'CC(C)NC(=O)c1ccnc(C(C)C)c1', 'CN1CCc2cc(C(N)CO)ccc2C1', 'Cc1cc(C)cc(NCC(=O)N(C)C)c1', 'CCN1CCCC(Oc2ccccn2)C1', 'COc1ccccc1N(C)C1CCCN1', 'CC(C)c1ccc(NC(=O)[C@@H](C)N)cc1', 'CCCCC(C)(C)C(=O)c1cncnc1', 'CC(N)(CN)c1ccc2c(c1)CCCO2', 'C=CCN(CC=C)C(=O)C(C#N)CCC', 'O=C(NC1CC1)N1CCC(=C2CC2)CC1', 'CC(C)c1nccc(OC2CC2)c1CN', 'COc1ccc(/C=C(/CN)C(C)C)cn1', 'CN[C@]1(COc2cccnc2)CC1(C)C', 'Cc1ccc(N2CCCC(ON)C2)cc1', 'CCC(N)C(=O)N(C)c1ccccc1C', 'CCc1ccc(C(=O)NCCCN)cc1', 'COc1cccnc1C1CCNCC1C', 'CC(C)n1nc(C=O)cc1C1CCCC1', 'CCCN(CC)C(=O)Nc1ccccc1', 'COc1cnc(C(C)(C)C)nc1C1CC1', 'CCC1(c2ccncc2)OCCCN1C', 'CCC1(C(C=O)n2ccnc2)CCCC1', 'CCCCc1ccc(NC(=O)CC)cn1', 'CCCC(CCl)CCOCC(C)C', 'CCN(Cc1ccc(C)o1)CC(C)C#N', 'C/C=C/CCNc1ccc(OC)cc1N', 'CNC(=O)[C@@H](N)CCCc1ccccc1', 'NC1CCNCC1Cc1ccccc1O', 'CCCCNc1cccc(C(=O)NC)c1', 'OCC1(c2ncc(C3CCC3)[nH]2)CCC1', 'C#CC(CC)NC(=O)C1CC2CCC1N2', 'CC(=O)NCc1ccc(C(C)(C)C)nc1', 'COC1CCCCC1Nc1cccnc1', 'O=C(CC1C=CCC1)N1CC2CC(C1)N2', 'CC(C)c1ccc(C(CN)C(N)=O)cc1', 'CCN1c2cccc(CON)c2CC1C', 'NC1C2CCC(NC(=O)C3CC3)C3CC132', 'CCC(CN)CC(=O)Cc1ccncc1', 'C[C@@H](NCC1(C)COC1)c1ccncc1', 'Cc1cccnc1OC1CCCCC1N', 'C#CC(=O)N1CCNCC12CCCCC2', 'CCC(CC)C(=O)N(C)c1ccccn1', 'COCC(NN)C1(c2ccccc2)CC1', 'CCCCCCCCP(OC)OC', 'C=CCCNC(=O)C1(C#N)CCCCC1', 'Cc1ccccc1CCC[C@H](N)C(N)=O', 'CCOCCC/N=C(\\\\N)c1ccccc1', 'Cc1oc(CN)cc1CN1CC=CCC1', 'COc1cncc(C2(CCN)CCC2)c1', 'CC1CNCCC1(O)Cc1cccnc1', 'Nc1ccncc1CC1(O)CCCCC1', 'C=C(C)CCOc1ccc(CNC)cn1', 'CCCCCCP(CCO)CCO', 'CC(C)C1CNc2ccc(CN)cc2O1', 'COc1cncc(C2CCC(N)CC2)c1', 'CCn1nc(C2CCC(=O)CC2)cc1C', 'C1Cc2nc(CC3CCCNC3)oc2C1', 'O=C1NC2(CCCCC2)N=C2CCCC12', 'CCC(C)c1ccc(C(=O)N(C)C)cn1', 'CC1OCCC1NCCc1cccnc1', 'COc1cnccc1C(N)C1CCCC1', 'CCCCP(=O)(CCC)OCCC', 'COc1ccc(C2CNCC2N)c(C)c1', 'CCCC(C)C(=O)Nc1cccc(N)c1', 'CCNCC1COc2ccc(N)cc2C1', 'C=CCOc1cnccc1CNCCC', 'COCCNC/C=C/c1ccc(C)nc1', 'C=CCOc1ccccc1CNN(C)C', 'CCCCCC(=O)c1ccc(N)c(N)c1', 'Cn1cc(CC(O)C2C3CCCC32)cn1', 'Cc1ccc(=O)n(CCN2CCCC2)c1', 'C[C@H]1C(=O)O[C@@H]2CC[N+]3([C@@H]2C(=CC3)COC(=O)[C@]([C@]1(C)O)(C)O)[O-]', 'COc1ccc(CCNC(=O)Cn2cnc3c2ncc(=O)n3C)cc1', '[H]/N=c1\\\\ccn(CC2(O)CCN(C(=O)OC(C)(C)C)CC2)c(Cl)c1', 'Cc1cc(-c2cc(C(=O)N3[C@@H]4CC[C@H]3CC(C(=O)O)C4)[nH]n2)ncn1', 'COc1ccnc(N2C[C@@H]3OCC(=O)N(Cc4ccccn4)[C@@H]3C2)n1', 'CCc1nc(N)nc(N)c1OCc1cc(-c2ccc(OC)cc2)no1', 'Cc1cc(C)n2nc(CC(=O)N3CCCC(C(F)(F)F)C3)nc2n1', 'CCOC(=O)c1cnn2ccc(N[C@H](C)c3cccnc3OC)nc12', 'O=C(c1csc2c1CCCC2)N1CCC(O)(c2ccccc2)CC1', 'Cc1ccc([C@@H]2CN(C(=O)NCc3nnc4ccccn34)CCO2)o1', 'Cc1ccc(OCC(=O)N(CC2CCCS2)c2ccccc2)cc1', 'CCCCCC(O)c1ccc(COc2ccnc3ccccc23)s1', 'O=C(O)NCc1cc(N2CCC(C(=O)Nc3ccccc3)C2)ncn1', 'COc1ccc(B2OC(C)(C)C(C)(C)O2)cc1S(=O)(=O)N(C)C', 'CC(C)(C)OC(=O)N[C@H]1c2ccccc2C[C@@H]1Sc1ccccc1', 'CC(C)(C)OC(=O)N1CCCC[C@H]1CCOc1nccc(Cl)n1', 'COc1cc2cc(C(=O)N3CCn4ncnc4C3)n(C)c2cc1OC', 'CN(C(=O)OC(C)(C)C)C1COCCN(c2cnccc2Cl)C1', 'CCOc1cc(N)c(Cl)cc1C(=O)OC1CN(C)CCN(C)C1', 'C[C@@H]1CN(C(C)(C)CNc2ccc([N+](=O)[O-])cc2Cl)C[C@H](C)O1', 'Cc1cccc(C)c1N(C(=S)Cc1ccccc1)C(C)(C)C(=O)O', 'CC(C)(C)OC(=O)NC1(C(=O)NN)c2cccnc2-c2ncccc21', 'CC(=O)C1(Sc2cccc(Oc3ccccc3)c2)CCN(C)CC1', 'C=C[C@@H]1[C@H](Cc2ccccc2)N1S(=O)(=O)c1c(C)cc(C)cc1C', 'C/C1=C/CN(S(=O)(=O)c2ccc(C)cc2)Cc2ccccc2CC1', 'Cc1nc(C)c(C(=O)Nc2cccc(C3CC(=O)N(C)C(N)=N3)c2)o1', 'CCOC(=O)C[C@@H]1C=CN(C(=O)OC(C)(C)C)C(=O)C1C(=O)OC', 'COc1ccc(F)cc1C[S@@](=O)CC(=O)NC1CCC(C)CC1', 'C[C@H]1C[C@@H](C(=O)NCCNC(=O)c2ccc(O)cc2)CCN1.Cl', 'Cc1nc(C(=O)Nc2cccc(C3(C)CC(=O)N(C)C(N)=N3)c2)co1', 'C=CCN[C@H](c1ccc(C)cc1)[C@H](C=C)S(=O)(=O)c1ccccc1', 'COc1cccc(-c2cn3nc(CO)nc3c(N3CCOCC3)n2)c1', 'COc1cc(B2OC(C)(C)C(C)(C)O2)cc(NS(C)(=O)=O)c1C', 'NC(=O)c1nccnc1N1CCCN(C(=O)Oc2ccccc2)CC1', 'COCC(N)C(=O)NCc1ccc(CN2CCCC2=O)cc1.Cl', 'CC(C)(C)NC(=O)c1ccc(NC(=O)C2CC(O)CN2)cc1.Cl', 'C/N=C(\\\\NCCCSC)NC1CCN(c2ncccc2Cl)C1', 'CCNC(=O)[C@@H]1CCN(c2nccc(-c3cc(C(=O)O)ccn3)n2)C1', 'O=C(O)Cn1nc(-c2c[nH]c3ccccc23)nc1C[C@H]1COCCN1', 'Fc1ccc(CCNc2cnnc(NCc3ccccc3F)n2)cc1', 'O=C(O)c1ccc(CNCC2(Sc3ccccc3)CCCC2)cc1', 'O=C(NCc1ccc(N2CCCC2=O)cc1)[C@H]1CC=CC[C@H]1C(=O)[O-]', 'CC[C@@H]1CCCCN1C(=O)c1ccc(-c2ccsc2C(C)=O)cc1', 'CC(C)S(=O)(=O)CC1CCN(C(=O)Cc2cccc(F)c2)CC1', 'Cc1cc(C(F)(F)F)nn1CCNc1cc([C@@H]2CCOC2)ncn1', 'Cc1ccc(C(=O)CCC(=O)NCC2(c3ccccc3)CCC2)s1', 'CCc1nn(CC)c(CC2(N)CCC(CC)CC2)c1Br', 'Cc1nn(C)c(C)c1C(=O)C(=O)Nc1ccc(N2CCNC2=O)cc1', 'CCc1nn(CC)c(CC(C)(C)CCNC2CC2)c1Br', 'OC1c2ccccc2Sc2cc(OCCN3CCCCC3)ccc21', 'CN1C(=O)NC2(CCN(C(=O)Cc3[nH]nc4ccccc34)CC2)C1=O', 'O=C(c1ncccc1O)N1CCc2c(ncnc2N2CCOCC2)C1', 'COc1ccc(C2CCCCCN2C(=O)/C=C/c2cccs2)cc1', 'Cl.O=C(COCC1CCOC1)N1CCNCC1c1cccnc1', 'Cc1nnc([C@H]2CN(C(=O)[C@@H](C)n3cnc4ccccc43)CCO2)o1', 'Cc1nn(C)c(Cl)c1CC(=O)C1CCN(C(=O)OC(C)(C)C)C1', 'COc1cc(C(NC(=O)OC(C)(C)C)C(=O)O)cc(OC)c1OC', 'Cc1cccc(C[S@@](=O)CC(=O)NCC2(c3ccccc3)CC2)c1', 'Fc1cccc(F)c1Nc1nncc(NCCCc2ccccc2)n1', 'C=CCOC(=O)NCCOCC[N+](C)(C)CCOP(=O)(O)O', 'COc1cccc(CNCC2CCCO2)c1OC.O=C(O)C(=O)O', 'O=C(Nc1ccc2c(c1)OCO2)Nc1cc(N2CCCCC2)ncn1', 'COc1ccc(C)c(-n2c(N)c(C(N)=O)c3[nH]c(=O)c(C)nc32)c1C', 'Cc1cnc(-c2nc3c(c(=O)[nH]2)CCN(C(=O)[C@H]2CCOC2)C3)cn1', 'COC(=O)c1c(N)c(C#N)cn1-c1cccc(NC(=O)CN(C)C)c1', 'CC1CCNCC1NC(=O)CNC(=O)COc1ccccc1.Cl', 'CCCC(=O)OC(C)c1ccc2c(c1)Sc1ccccc1N2CC', 'CC(C)c1nnc(C2COCCN2C(=O)c2cccc3nccn23)o1', 'Cc1noc(C)c1CNC(=O)c1nc(-c2ccc(N(C)C)cc2)no1', 'CCN(Cc1ccccc1)c1nncc(Nc2ccc(F)cc2F)n1', 'C/C(=N\\\\NC(=S)NCC[NH+]1CCOCC1)c1cc(F)ccc1O', 'CCCC[N+](CCCC)(CCCC)CCCCl.[Br-]', 'COC(=O)c1ccccc1OCC(O)Cn1c[n+](C)c2ccccc21', 'O=C(NC[C@@H]1CCCO1)c1ccc(CSCc2ccccc2)cc1', 'CCCOc1ccccc1NC(=O)Cn1cnc2c(cnn2C)c1=O', 'CC(C)c1nc(CN(C)C(=O)c2cc(=O)n(-c3ccccc3)[nH]2)no1', 'CC(C)(C)c1ccccc1OCC(=O)Nc1nc2nc[nH]c2c(=O)[nH]1', 'CC1CCC(C(=O)O)CN1Cc1ccc(Sc2ccccc2)cc1', 'CC1(C)CN(C(=O)c2ccc(SCc3ccccc3)cc2)CCO1', 'CCCS(=O)(=O)NCC1CC2c3ccccc3C1c1ccccc12', 'CCCCn1nc(C)c(/C=C/C(=O)O[C@@H](C)C(=O)NCC)c1Cl', 'Cn1c([C@@H]2CCCN2C(=O)CN2C(=O)CNC2=O)nc2ccccc21', 'CC(C)C(=O)OCC1(OC(=O)On2c(O)ccc2O)CCCCC1', 'CC(=O)NCCc1ccc(OC2OC(CO)C(O)C(O)C2O)cc1', 'Cc1cc([N+](=O)[O-])ccc1NC(=O)NC1CCN(c2ccccn2)C1', 'Cc1cc(C[C@@H]2COC[C@@H]2NC(=O)c2cnc3cnn(C)c3c2)on1', 'Cc1nc(-c2cccc(C(=O)NCC(C)(O)c3cnn(C)c3)c2)no1', 'O=C(NCCS(=O)Cc1ccccc1)C1(c2ccccc2)CCC1', 'CC1NC(=O)N(c2ccccc2NC(=O)CCc2ccnn2C)C1=O', 'CCCCCc1ccc(C(=O)C/C(=C/c2cccs2)C(N)=O)cc1', 'N#Cc1ccc2ncc(=O)n(CCN3CCC(NC(=O)O)CC3)c2c1', 'COc1n[nH]c2cc(NC(=O)NC(CO)c3ccccc3)nc(C)c12', 'Cc1nnc([C@@H]2COCCN2C(=O)[C@H](C)n2cnc3ccccc32)o1', 'Nc1nc2nc3c1[nH]c(=O)n3CCc1cccc(c1)OCCCCO2', 'CCS(=O)(=O)Nc1ccc(B2OC(C)(C)C(C)(C)O2)c(OC)c1', 'CCn1c(=O)c2c(nc3n2CCN3c2cccc(OC)c2)n(C)c1=O', 'Nc1nc2ccccc2c2c1nc1n2[C@@H](CCCNC(=O)O)COC1', 'Fc1ccccc1CCNc1nncc(NCc2ccccc2F)n1', 'O=C(O)C12COC3(O)C4CC[NH+](CCC13)C4c1c2[nH]c2ccccc12', 'CC(C)[C@H](NC(=O)c1cnccn1)C(=O)CNC(=O)c1ccncc1', 'CCn1cc(O[C@@H]2CN(C(=O)c3ccc4nccn4c3)C[C@H]2O)cn1', 'CC1CC(=O)Nc2ccccc2N1C(=O)CN(C)c1cc(=O)[nH]cn1', 'Cc1cc(N2CCC(Nc3nc(C(F)(F)F)co3)CC2)nc(C)n1', 'CO.O=CCCC(=O)OCC1CCC(N2C=CCC(C(=O)O)=C2)O1', 'CC(C)(C)c1ccc(C(=O)NCC2CCCN2)cc1[N+](=O)[O-].Cl', 'CCNC(c1c(Br)cnn1C)C1CCC(C(C)C)CC1', 'Cc1ccc(/C(=C/N2CCCC2)S(=O)(=O)c2ccc(C)cc2)cc1', 'Cc1cccc2c1-c1sc(C(=O)N[C@H]3CCCC[C@@H]3C)cc1CO2', 'Cc1ccccc1C1(C(=O)N2CCc3sccc3C2)CCOCC1', 'C[C@@H]1CN(C(=O)[C@@H](Sc2ccccc2)c2ccccc2)C[C@H](C)O1', 'CC(CNC(=O)CNC(=O)[C@@H](N)C(C)C)Oc1cccc(Cl)c1', 'CCCC1=C(CCC)N(c2ccccc2)S(=O)(=O)c2ccccc21', 'Cc1cc(O)c(C(C)C)cc1N1C(=O)C(C)SC1c1ccccc1', 'CC(C)C(=O)OCC1(OC(=O)ON2C(=O)CCC2=O)CCCCC1', 'CCOC(=O)Cc1cc(=O)n2[nH]c(NCc3ccc(C)cc3)nc2n1', 'CCNc1nc2ccccc2[nH]1.O=CN/N=C/c1ccc(O)c(O)c1', 'CNC(=O)c1ccc(NC(=O)NCCCOCC(C)C)cc1Cl', 'CC(N)C(C)C(=O)Nc1ccccc1C(=O)N1CCOCC1.Cl', 'Cc1ccc(N2NC(C(=O)N(C)Cc3cc(C)on3)=NCC2=O)cc1', 'Cn1c(=O)c2[nH]c(NCC3CCCO3)nc2n(-c2ccccc2)c1=O', 'COc1cccc(-c2noc([C@@H](C)NC(=O)[C@@H](C)n3cccn3)n2)c1', 'CN(C)C(=O)COc1cccc(CNC(=O)C2CCCN2)c1.Cl', 'O=C(O)C1CC12CCN(C(=O)Cn1nnc(-c3ccccc3)n1)CC2', 'CCc1cc(C(=O)N2CCC(c3cc(=O)n4[nH]ccc4n3)CC2)no1', '[H]/N=c1\\\\c(C(=O)NCC)cc2c(=O)n3ccccc3nc2n1CCOC', 'CC1(C)C(=O)NC(=O)N1CC(=O)NCc1ccccc1-n1ccnc1', 'Cc1nc(COc2ccc(C(=O)N(C)Cc3cnn(C)c3)cc2)no1', 'C=CC(C)(CNCC(C)C)Cc1c(Br)c(CC)nn1C', 'O=C1C[C@H](c2ccc(OCC(=O)N3CCCC3)cc2)n2ncnc2N1', 'CC(SCC(=O)Nc1ccc(F)cc1)C(=O)OCCC(C)(C)C', 'CCCNCc1cc(Br)ccc1N(C)CCCN(C)C', 'O=C(CCc1cc(Cl)no1)N1CCN([C@H]2CCCC[C@@H]2O)CC1', 'CN(C(=O)c1cc(Cl)c[nH]1)C1CCN(C(=O)OC(C)(C)C)CC1', 'CCc1nc(C2CCCN2C(=O)c2ccc3c(c2)[nH]c(=O)n3C)no1', 'COc1cc(Nc2ncnc(-c3cccn3C)n2)cc(OC)c1OC', 'CN(Cc1nc2ccccc2o1)C(=O)c1cn(C[C@H]2CCCO2)nn1', 'CN(Cc1nccn1CC(F)(F)F)C(=O)C1CCc2cncn2C1', 'Cc1cc2oc(=O)cc(CN(C)Cc3ccsc3)c2cc1C(C)C', 'COc1ccc(-c2noc(N[C@H]3C[C@@H](O)[C@@H]3n3cc(C)cn3)n2)cc1', 'CC(=O)N1c2ccc(-c3cnn(C4CC4)c3)nc2N(C(=O)O)C[C@@H]1C', 'CC(C)(C)OC(=O)N1CCC(S(=O)Cc2ccccc2F)CC1', 'O=C(c1ccn(C2CCCNC2)n1)N1CCc2c1cccc2[N+](=O)[O-]', 'COc1ccc(N2CC(C(=O)NCCCCN)CC2=O)cc1.Cl', 'COc1cc(C2=CCN(C)CC2)c([N+](=O)[O-])cc1-c1ccnc(N)n1', 'Cc1ccc(C(=O)Nc2cc(N3CCCCC3)ncn2)cc1[N+](=O)[O-]', 'CCOC(=O)c1cnn2ccc(NC(C)c3cccnc3OC)nc12', 'CC(N)CCC(=O)NCCN1C(=O)C2C3C=CC(C3)C2C1=O.Cl', 'COc1cc(CN2CC(CN)CC2C)cc(Cl)c1OCC(N)=O', 'CC(C)(O)CONC(=O)Nc1ccc(N2CCCCC2)c(Cl)c1', 'CC1(NS(=O)(=O)c2ccccc2)C2CCC1Cc1ccccc1C2', 'COc1ccc(C(C#N)O[Si](C)(C)C)cc1OCc1ccccc1', 'N/N=N\\\\NCC1=CC=C(C(=O)Nc2cccc(CC(=O)O)c2)C=CC1', 'Cc1ccc([C@@H](O)Cc2noc(Cn3ncc(N)c(C)c3=O)n2)cc1', 'O=C(CCc1nc(-c2ccco2)no1)N1CCC[C@H](n2cccn2)C1', 'C=C(C)Cn1c(=O)c2c(nc3n2CCN3Cc2ccco2)n(C)c1=O', 'O=C(Nc1cccc(C[S@@](=O)Cc2ccccc2)c1)C1CCCC1', 'CC(C)(C)OC(=O)N1CCCC(COCC(F)(F)F)(C(=O)O)C1', 'COC(=O)C[C@@H]1NN(c2ccccc2)C(=O)/C1=C(\\\\C)Nc1ccn[nH]1', 'CCN(C(=O)O)c1cc2c(c(N)n1)N=C(c1ccc(OC)cc1)CN2', 'CCCC[C@@H]1C(NS(=O)(=O)c2ccc(C)cc2)=Cc2ccccc21', 'CC(C)[C@@H]1CSC[C@@H]2C1=CC[C@@H]1C(=O)N(c3ccccc3)C(=O)[C@@H]12', 'Cc1ccccc1CS(=O)CC(=O)NCC1(c2ccccc2)CC1', 'O=C(NC1CC(N2C=C(CO)NN2)C1)c1cc(-c2ccccc2)no1', 'CC(C)(C)OC(=O)Nc1cccc(-c2noc(Cn3ccnc3)n2)c1', 'N#Cc1ccc(CN2CCN(C(=O)C[C@H]3NC(=O)NC3=O)CC2)cc1', 'Cn1cc(Cl)cc1CNC(=O)N1CCC[C@@H](C2(C)OCCO2)C1', 'CN1c2nc(C(=O)O)ccc2N2CCC1C2.O=CNc1ccccn1', 'CCc1nn(CC)c(CNCC2CCCC(C)C2)c1Br', 'CC(CN)C(=O)NC1CC(=O)N(CCOc2ccccc2)C1.Cl', 'COC(=O)c1c(NC(=O)CCn2ncc3ccccc32)c(C)nn1C', 'Cl.NC(=O)CCOc1ccccc1NC(=O)CC1CCNCC1', 'Cc1cc(NC(=O)c2c[nH]c3ccc(OC4CCN(C)C4)nc23)no1', 'COCC(N)C(=O)NC(C)c1ccc(NC(=O)C2CC2)cc1.Cl', 'CCn1nc(C)c(Br)c1CC1CC(C)(C)CCC1CN', 'Cc1ccc(S(=O)(=O)NC(c2ccccc2)C2C=CCCC2)cc1', 'Cc1cc(=O)n2c(n1)NC(N1CCOCC1)=N[C@@H]2c1ccc(O)cc1', 'Cc1cn2c(n1)C(CNC(=O)c1cc(C(F)(F)F)nn1C)CCC2', 'CC(C)C1CCCCC1.CNc1nc(C)c(N)cc1Br', 'COC(CN)CC(=O)NCc1ccc(N2CCCC2=O)cc1.Cl', 'Cc1ccc(CN(Cc2ccco2)C[C@H](O)Cc2ccccc2)s1', 'C=CC(=O)Nc1ccc(C(=O)Nc2c(C(N)=O)n[nH]c2C(C)C)cc1', 'O=C([O-])CN(CCc1ccccc1)C(=O)CCCOc1ccncc1', 'O=C(CCC1NC(=O)NC1=O)NCc1cccc(Cn2ccnc2)c1', 'CCCc1ccc(C(=O)CCC(=O)N2CCc3sccc3C2)cc1', 'COc1ccc(CNC(=O)CNC(=O)C2CCC(N)C2)cc1.Cl', 'CC[C@@H](NC(=O)c1cc(-c2ccc(OC)cc2)n[nH]1)c1noc(C)n1', 'O=C([O-])C(=O)O.Oc1ccc(CC[NH2+]CCCC2OCCO2)cc1', 'NC(=O)Nc1c(CCC(=O)O)cccc1-c1cccc(N=C(N)N)c1', 'O=C(CCC1CCS(=O)(=O)C1)NCCCCc1ccccc1F', 'Cn1cc(O[C@@H]2CN(C(=O)Cc3[nH]nc4ccccc34)C[C@H]2O)cn1', 'Cc1cccc(N2CCN(c3ncccc3C(N)=O)CC2)c1[N+](=O)[O-]', 'CN(C)C(C(=O)Cc1cccc([N+](=O)[O-])c1)C1CCCCN1.Cl', 'CCc1noc(CN2CCN(c3ccc(C(F)(F)F)cn3)CC2)n1', 'CN(Cc1ccccc1)C(=O)CNC(=O)C1(N)CCOCC1.Cl', 'Cc1ccc(S(=O)(=O)N[C@H]2C(C(C)(C)C)=Cc3ccccc32)cc1', 'C=CCOC1CCN(c2nn3c(C(F)(F)F)nnc3c(C)c2C)C1', 'Cn1nc(N2CCC(=O)NC2=O)c2ccc(N3CCC(=O)CC3)cc21', 'CC(=O)c1ccc(NC(=O)C(C)SCc2cc(C)ccc2C)cc1', 'CC(N)C(C)C(=O)N1CCN(C(=O)c2cccc(O)c2)CC1.Cl', 'Cc1cc(C(F)(F)F)n2ncc(C(=O)N(C)[C@H]3CCN(C)C3)c2n1', 'CCOCCN1CCNC(CC(=O)Nc2ccccc2)C1=O.Cl', 'CC[C@@](C)(c1nnnn1-c1ccc(C)cc1)N(C)C(=O)C(F)(F)F', 'CC(C)Oc1nc(N)nc2c1ncn2[C@@H]1O[C@H](CO)[C@@H](O)[C@@]1(C)F', 'C[C@@H](CS(C)(=O)=O)C(=O)N1CCC(Cc2ccc(F)cc2)CC1', 'CCCNC(c1c(Br)cnn1C)C1CCC(C)(C)CC1', 'CCc1ccc(NC(=O)CSCC(=O)c2ccc(C)c(C)c2)cc1', 'Cc1n[nH]nc1C(=O)N1CCN2C(=O)OCC2(Cc2ccccc2)C1', 'CC1Cc2cc(NC(=O)Cn3cc(NC(=O)C4CC4)nn3)ccc2O1', 'CC(=O)NC(CC(=O)NCC1CNCC1O)c1ccccc1.Cl', 'COCCN(C)c1ccc2nc(-c3ccc(N)c([N+](=O)[O-])c3)[nH]c2c1', 'O=C(O)COCCOCCOCCNC(=O)OCc1ccccc1', 'Cc1nn(C)c(NC(=O)CCn2c(=O)[nH]c(=O)c3ccccc32)c1C', 'COC(=O)CCCOc1ccc(Nc2cc(C)nc3ncnn23)cc1', 'C[C@@H]1CC=CC2(N(c3ccccc3)S(=O)(=O)C3=CCCC=C3)CC12', 'CCCNC(C)C1(Cc2c(Br)c(CC)nn2CC)CC1', 'CNCCCC(=O)Nc1ccc(NC(=O)C2CCCO2)cc1.Cl', 'O=C(CN1C(=O)C2CCCCC2C1=O)NCc1nnc2ccccn12', 'CN(Cc1ccc(C#CC(C)(C)O)s1)CC1Cc2ccccc2O1', 'CC(=O)N(CCc1nc(Cc2noc(C)n2)no1)Cc1ccccc1', 'Cc1ccccc1-c1noc([C@@H](C)NC(=O)Cc2c(C)[nH][nH]c2=O)n1', 'COc1ccc(C(=O)NCCNC(=O)CNCC2CC2)cc1.Cl', 'CCCCN(C(=O)CCc1ccc(F)cc1)C1CCS(=O)(=O)C1', 'O=C1CCCc2c1sc(N1CCOCC1)c2CCc1ccccc1', 'Cc1ccn(CCNC(=O)C(=O)N[C@H]2C(=O)N(C)c3ccccc32)n1', 'COc1cccc(C2CCCN2C(=O)c2cc3c(s2)CCCC3)c1', 'COc1ccc([N+](=O)[O-])c([C@@](CO)(CCO)C(=O)OC(C)(C)C)c1', 'Cn1ccc(CNC(=O)CCn2nc(C(F)(F)F)cc2C2CC2)n1', 'COc1ccc(C)cc1NC(=O)C1CCCN1C(=O)[C@@H](C)N.Cl', 'Cl.NCCCCNC(=O)COc1cccc(NC(=O)C2CC2)c1', 'CCNC(Cc1c(Br)c(CC)nn1CC)CC1CCC1', 'CC(C)N(Cc1ccc([N+](=O)[O-])cc1)C(=O)CC1CCCN1.Cl', 'FCCn1cnc(-c2ccc(F)cc2)c1-c1ccnc(NC2CC2)n1', 'CCCNCC1(Cc2c(Br)c(C)nn2CC)CCCC1', 'CC1CN(C(=O)Cc2ccccc2)c2ccc(C(C)(C)O)cc2S1', 'C[C@@H](Cn1cnc2ccccc2c1=O)NCCn1[nH]c(=O)ccc1=O', 'Cc1ccc(C(=O)N2CCOCC2)cc1NC(=O)c1cnc(N)cn1', 'CN1C(=O)CC(CN/C=C(\\\\C#N)C(=O)Nc2ccccc2)N(C)C1=O', 'CN(C)C(=O)c1c(C=NNC(=O)Nc2ccccc2)n(C)ccc1=O', 'COc1cccc(CNc2nc3nc4c(c(=O)n3[nH]2)CCC4)c1OC', 'OCCn1cnc2c(N3CCOCC3)nc(-c3ccccc3O)nc21', 'O=C(/C=C/c1ccco1)NCC(=O)N1CCN(c2ncccn2)CC1', 'CC[C@@H](C)c1cc(C(=O)NCCc2noc(-c3ccccn3)n2)on1', 'Fc1ccc(N2CCC(CNc3ncnc4ccncc34)C2)cc1F', 'Cl.NCC1(NC(=O)CCOc2ccc(C(N)=O)cc2)CCCC1', 'O=C1CCC(C(=O)NCC(=O)N2CCn3c2nc2ccccc23)CN1', 'C[C@@H]1CCC[C@@H](C)N1C(=O)CS(=O)(=O)[C@@H](C)c1cccc(F)c1', 'C=C1CCC(=O)N1OC(=O)Cc1nnn(C(C)(C)c2ccccc2)n1', 'CCCCc1ccc(C(=O)CSc2ccc(NC(C)=O)cc2)cc1', 'Cl.NCC(=O)NCC(=O)N1CCC(COc2ccccc2)CC1', 'Cc1ccc(-c2cc(C(=O)NC(Cc3cnc[nH]3)C(=O)O)c(C)[nH]2)[nH]1', 'CC1(C(=O)OC[C@]2(C#N)CC[C@H](c3ccc4c(N)ncnn34)O2)CC1', 'COc1ccc(NC(=O)NC(C)(C)c2nc(C)no2)c2cccnc12', 'CCC1CN(S(=O)(=O)c2ccc(C)cc2)C/C1=C\\\\c1ccccc1', 'CC(c1ccccc1)N(C)C(=O)CS(=O)C/C=C/c1ccccc1', 'CCOC(=O)Nc1cc2c(c(N)n1)N=C(c1cccc(OC)c1)CN2', 'CCOC(CN1C(c2ccccc2)=CSc2ccccc21)OCC']}\n"
     ]
    }
   ],
   "source": [
    "tmp_original = []\n",
    "for batch in train_loader_original:\n",
    "    print(batch)\n",
    "    tmp_original = batch\n",
    "    break"
   ]
  },
  {
   "cell_type": "code",
   "execution_count": 9,
   "id": "f279211477cf5d0b",
   "metadata": {
    "ExecuteTime": {
     "end_time": "2025-02-14T13:40:10.389867Z",
     "start_time": "2025-02-14T13:40:10.387361Z"
    }
   },
   "outputs": [
    {
     "name": "stdout",
     "output_type": "stream",
     "text": [
      "dict_keys(['spec', 'mol', 'precursor_mz', 'adduct', 'mol_freq', 'identifier', 'smiles', 'candidates', 'labels', 'batch_ptr', 'candidates_smiles'])\n",
      "batch_ptr is present: tensor([256, 256, 256, 256, 256, 256, 256, 256, 256, 256, 256, 256])\n"
     ]
    }
   ],
   "source": [
    "# Check the keys in the batch\n",
    "print(tmp_original.keys())\n",
    "\n",
    "# Specifically check if 'batch_ptr' is present\n",
    "if 'batch_ptr' in tmp_original:\n",
    "    print(\"batch_ptr is present:\", tmp_original['batch_ptr'])\n",
    "else:\n",
    "    print(\"batch_ptr is missing\")"
   ]
  },
  {
   "cell_type": "code",
   "execution_count": 10,
   "id": "82cf5fad037c8ffe",
   "metadata": {
    "ExecuteTime": {
     "end_time": "2025-02-14T13:40:10.399490Z",
     "start_time": "2025-02-14T13:40:10.396421Z"
    }
   },
   "outputs": [
    {
     "data": {
      "text/plain": [
       "dict_keys(['spec', 'mol', 'precursor_mz', 'adduct', 'mol_freq', 'identifier', 'smiles', 'candidates', 'labels', 'batch_ptr', 'candidates_smiles'])"
      ]
     },
     "execution_count": 10,
     "metadata": {},
     "output_type": "execute_result"
    }
   ],
   "source": [
    "tmp_original.keys()"
   ]
  },
  {
   "cell_type": "code",
   "execution_count": 11,
   "id": "8a967c5745662a1f",
   "metadata": {
    "ExecuteTime": {
     "end_time": "2025-02-14T13:40:10.408912Z",
     "start_time": "2025-02-14T13:40:10.406565Z"
    }
   },
   "outputs": [
    {
     "data": {
      "text/plain": [
       "(torch.Size([12, 61, 2]), torch.Size([12, 4096]))"
      ]
     },
     "execution_count": 11,
     "metadata": {},
     "output_type": "execute_result"
    }
   ],
   "source": [
    "tmp_original['spec'].shape, tmp_original['mol'].shape, "
   ]
  },
  {
   "cell_type": "code",
   "execution_count": 12,
   "id": "f4541b8ff18abfc5",
   "metadata": {
    "ExecuteTime": {
     "end_time": "2025-02-14T13:40:10.417149Z",
     "start_time": "2025-02-14T13:40:10.414576Z"
    }
   },
   "outputs": [
    {
     "data": {
      "text/plain": [
       "tensor([383.0497, 275.1509, 363.2278, 150.1278, 810.6010, 141.0771, 262.1440,\n",
       "        254.0594, 351.1815, 407.1602, 207.1492, 342.1547])"
      ]
     },
     "execution_count": 12,
     "metadata": {},
     "output_type": "execute_result"
    }
   ],
   "source": [
    "tmp_original['precursor_mz']"
   ]
  },
  {
   "cell_type": "code",
   "execution_count": 13,
   "id": "d33f02e95d06defc",
   "metadata": {
    "ExecuteTime": {
     "end_time": "2025-02-14T13:40:10.425076Z",
     "start_time": "2025-02-14T13:40:10.422770Z"
    }
   },
   "outputs": [
    {
     "data": {
      "text/plain": [
       "(['[M+H]+',\n",
       "  '[M+H]+',\n",
       "  '[M+H]+',\n",
       "  '[M+H]+',\n",
       "  '[M+H]+',\n",
       "  '[M+H]+',\n",
       "  '[M+H]+',\n",
       "  '[M+H]+',\n",
       "  '[M+H]+',\n",
       "  '[M+H]+',\n",
       "  '[M+H]+',\n",
       "  '[M+H]+'],)"
      ]
     },
     "execution_count": 13,
     "metadata": {},
     "output_type": "execute_result"
    }
   ],
   "source": [
    "tmp_original['adduct'], "
   ]
  },
  {
   "cell_type": "code",
   "execution_count": 14,
   "id": "f2246bafe4c779ae",
   "metadata": {
    "ExecuteTime": {
     "end_time": "2025-02-14T13:40:10.433390Z",
     "start_time": "2025-02-14T13:40:10.430658Z"
    }
   },
   "outputs": [
    {
     "data": {
      "text/plain": [
       "tensor([200.,   8.,   3., 210.,  57.,  41.,   2., 294.,   3.,   3.,  67.,  63.])"
      ]
     },
     "execution_count": 14,
     "metadata": {},
     "output_type": "execute_result"
    }
   ],
   "source": [
    "tmp_original['mol_freq']"
   ]
  },
  {
   "cell_type": "code",
   "execution_count": 15,
   "id": "69b44a8f863047a4",
   "metadata": {
    "ExecuteTime": {
     "end_time": "2025-02-14T13:40:10.441171Z",
     "start_time": "2025-02-14T13:40:10.438617Z"
    }
   },
   "outputs": [
    {
     "data": {
      "text/plain": [
       "tensor([ True, False, False,  ..., False, False, False])"
      ]
     },
     "execution_count": 15,
     "metadata": {},
     "output_type": "execute_result"
    }
   ],
   "source": [
    "tmp_original['labels']"
   ]
  },
  {
   "cell_type": "code",
   "execution_count": 16,
   "id": "6514ce8596d69758",
   "metadata": {
    "ExecuteTime": {
     "end_time": "2025-02-14T13:40:10.462893Z",
     "start_time": "2025-02-14T13:40:10.446655Z"
    }
   },
   "outputs": [
    {
     "data": {
      "text/plain": [
       "tensor(12)"
      ]
     },
     "execution_count": 16,
     "metadata": {},
     "output_type": "execute_result"
    }
   ],
   "source": [
    "sum(tmp_original['labels'])"
   ]
  },
  {
   "cell_type": "code",
   "execution_count": 17,
   "id": "2c9d2d7a5c16ed90",
   "metadata": {
    "ExecuteTime": {
     "end_time": "2025-02-14T13:40:10.471626Z",
     "start_time": "2025-02-14T13:40:10.468421Z"
    }
   },
   "outputs": [
    {
     "data": {
      "text/plain": [
       "tensor([   0,  256,  512,  768, 1024, 1280, 1536, 1792, 2048, 2304, 2560, 2816])"
      ]
     },
     "execution_count": 17,
     "metadata": {},
     "output_type": "execute_result"
    }
   ],
   "source": [
    "torch.nonzero(tmp_original['labels'], as_tuple=False).squeeze()"
   ]
  },
  {
   "cell_type": "code",
   "execution_count": 18,
   "id": "2e83bcb489cae86a",
   "metadata": {
    "ExecuteTime": {
     "end_time": "2025-02-14T13:40:10.479076Z",
     "start_time": "2025-02-14T13:40:10.476830Z"
    }
   },
   "outputs": [
    {
     "data": {
      "text/plain": [
       "3072"
      ]
     },
     "execution_count": 18,
     "metadata": {},
     "output_type": "execute_result"
    }
   ],
   "source": [
    "len(tmp_original['labels'])"
   ]
  },
  {
   "cell_type": "code",
   "execution_count": 19,
   "id": "8623ad0307ee1f18",
   "metadata": {
    "ExecuteTime": {
     "end_time": "2025-02-14T13:40:10.487175Z",
     "start_time": "2025-02-14T13:40:10.484579Z"
    }
   },
   "outputs": [
    {
     "data": {
      "text/plain": [
       "tensor([256, 256, 256, 256, 256, 256, 256, 256, 256, 256, 256, 256])"
      ]
     },
     "execution_count": 19,
     "metadata": {},
     "output_type": "execute_result"
    }
   ],
   "source": [
    "tmp_original['batch_ptr']"
   ]
  },
  {
   "cell_type": "code",
   "execution_count": 20,
   "id": "153e8fd767c6cc73",
   "metadata": {
    "ExecuteTime": {
     "end_time": "2025-02-14T13:40:10.495288Z",
     "start_time": "2025-02-14T13:40:10.492793Z"
    }
   },
   "outputs": [
    {
     "data": {
      "text/plain": [
       "tensor(3072)"
      ]
     },
     "execution_count": 20,
     "metadata": {},
     "output_type": "execute_result"
    }
   ],
   "source": [
    "sum(tmp_original['batch_ptr'])"
   ]
  },
  {
   "cell_type": "code",
   "execution_count": 21,
   "id": "57abe1cdad7d1e03",
   "metadata": {
    "ExecuteTime": {
     "end_time": "2025-02-14T13:40:10.502829Z",
     "start_time": "2025-02-14T13:40:10.500508Z"
    }
   },
   "outputs": [
    {
     "data": {
      "text/plain": [
       "3072"
      ]
     },
     "execution_count": 21,
     "metadata": {},
     "output_type": "execute_result"
    }
   ],
   "source": [
    "len(tmp_original['candidates'])"
   ]
  },
  {
   "cell_type": "code",
   "execution_count": 22,
   "id": "6a5c6ecd1c18994e",
   "metadata": {
    "ExecuteTime": {
     "end_time": "2025-02-14T13:40:10.510475Z",
     "start_time": "2025-02-14T13:40:10.508246Z"
    }
   },
   "outputs": [
    {
     "data": {
      "text/plain": [
       "torch.Size([4096])"
      ]
     },
     "execution_count": 22,
     "metadata": {},
     "output_type": "execute_result"
    }
   ],
   "source": [
    "tmp_original['candidates'][5].shape"
   ]
  },
  {
   "cell_type": "code",
   "execution_count": 23,
   "id": "3f7ec6537b665b0c",
   "metadata": {
    "ExecuteTime": {
     "end_time": "2025-02-14T13:40:10.518392Z",
     "start_time": "2025-02-14T13:40:10.516067Z"
    }
   },
   "outputs": [
    {
     "data": {
      "text/plain": [
       "3072"
      ]
     },
     "execution_count": 23,
     "metadata": {},
     "output_type": "execute_result"
    }
   ],
   "source": [
    "len(tmp_original['candidates_smiles'])"
   ]
  },
  {
   "cell_type": "markdown",
   "id": "effa503f7496c1bb",
   "metadata": {},
   "source": [
    "# MSnRetrieval"
   ]
  },
  {
   "cell_type": "code",
   "execution_count": 24,
   "id": "81578a73d8e57643",
   "metadata": {
    "ExecuteTime": {
     "end_time": "2025-02-14T13:40:10.525352Z",
     "start_time": "2025-02-14T13:40:10.523697Z"
    }
   },
   "outputs": [],
   "source": [
    "from massspecgym.featurize import SpectrumFeaturizer"
   ]
  },
  {
   "cell_type": "code",
   "execution_count": 25,
   "id": "5df6778634ce3906",
   "metadata": {
    "ExecuteTime": {
     "end_time": "2025-02-14T13:40:10.532965Z",
     "start_time": "2025-02-14T13:40:10.530883Z"
    }
   },
   "outputs": [],
   "source": [
    "config = {\n",
    "    'features': ['collision_energy', 'ionmode', 'adduct', 'spectrum_stats', 'atom_counts', 'value', \"retention_time\", 'ion_source', 'binned_peaks'],\n",
    "    'feature_attributes': {\n",
    "        'atom_counts': {\n",
    "            'top_n_atoms': 12,\n",
    "            'include_other': True,\n",
    "        },\n",
    "    },\n",
    "}"
   ]
  },
  {
   "cell_type": "code",
   "execution_count": 26,
   "id": "3e4d2d35f3c5e077",
   "metadata": {
    "ExecuteTime": {
     "end_time": "2025-02-14T13:40:10.539961Z",
     "start_time": "2025-02-14T13:40:10.538129Z"
    }
   },
   "outputs": [],
   "source": [
    "featurizer = SpectrumFeaturizer(config, mode='torch')"
   ]
  },
  {
   "cell_type": "code",
   "execution_count": 27,
   "id": "b1baf406d4a19229",
   "metadata": {
    "ExecuteTime": {
     "end_time": "2025-02-14T13:40:10.547084Z",
     "start_time": "2025-02-14T13:40:10.545373Z"
    }
   },
   "outputs": [],
   "source": [
    "file_json = \"/Users/macbook/CODE/Majer:MassSpecGym/data/candidates_generation/MassSpecGymMSn_retrieval_candidates_formula.json\""
   ]
  },
  {
   "cell_type": "code",
   "execution_count": 28,
   "id": "0c55c72b-6998-47c0-81ed-d1ac015f04c5",
   "metadata": {},
   "outputs": [],
   "source": [
    "# file_mgf = \"/Users/macbook/CODE/Majer:MassSpecGym/data/MSn/min_sample_trees.mgf\"\n"
   ]
  },
  {
   "cell_type": "code",
   "execution_count": 29,
   "id": "4abdab9e026ffb09",
   "metadata": {
    "ExecuteTime": {
     "end_time": "2025-02-14T14:09:13.165710Z",
     "start_time": "2025-02-14T13:40:10.552565Z"
    }
   },
   "outputs": [
    {
     "name": "stdout",
     "output_type": "stream",
     "text": [
      "Total valid indices: 16476\n",
      "MSnRetrievalDataset length: 16476\n",
      "Loading precomputed data from /Users/macbook/CODE/Majer:MassSpecGym/data/candidates_generation/msnretrieval_precomputed.pkl\n"
     ]
    },
    {
     "ename": "EOFError",
     "evalue": "Ran out of input",
     "output_type": "error",
     "traceback": [
      "\u001b[0;31m---------------------------------------------------------------------------\u001b[0m",
      "\u001b[0;31mEOFError\u001b[0m                                  Traceback (most recent call last)",
      "Cell \u001b[0;32mIn[29], line 7\u001b[0m\n\u001b[1;32m      4\u001b[0m batch_size \u001b[38;5;241m=\u001b[39m \u001b[38;5;241m12\u001b[39m\n\u001b[1;32m      6\u001b[0m \u001b[38;5;66;03m# Load dataset\u001b[39;00m\n\u001b[0;32m----> 7\u001b[0m dataset_msn \u001b[38;5;241m=\u001b[39m MSnRetrievalDataset(\n\u001b[1;32m      8\u001b[0m     pth\u001b[38;5;241m=\u001b[39mfile_mgf,\n\u001b[1;32m      9\u001b[0m     candidates_pth\u001b[38;5;241m=\u001b[39mfile_json,\n\u001b[1;32m     10\u001b[0m     featurizer\u001b[38;5;241m=\u001b[39mfeaturizer,\n\u001b[1;32m     11\u001b[0m     mol_transform\u001b[38;5;241m=\u001b[39mMolFingerprinter(fp_size\u001b[38;5;241m=\u001b[39mfp_size),\n\u001b[1;32m     12\u001b[0m     max_allowed_deviation\u001b[38;5;241m=\u001b[39m\u001b[38;5;241m0.005\u001b[39m\n\u001b[1;32m     13\u001b[0m )\n",
      "File \u001b[0;32m~/CODE/Majer:MassSpecGym/massspecgym/data/datasets.py:1284\u001b[0m, in \u001b[0;36mMSnRetrievalDataset.__init__\u001b[0;34m(self, mol_label_transform, candidates_pth, cache_path, **kwargs)\u001b[0m\n\u001b[1;32m   1282\u001b[0m     \u001b[38;5;28mprint\u001b[39m(\u001b[38;5;124mf\u001b[39m\u001b[38;5;124m\"\u001b[39m\u001b[38;5;124mLoading precomputed data from \u001b[39m\u001b[38;5;132;01m{\u001b[39;00m\u001b[38;5;28mself\u001b[39m\u001b[38;5;241m.\u001b[39mcache_path\u001b[38;5;132;01m}\u001b[39;00m\u001b[38;5;124m\"\u001b[39m)\n\u001b[1;32m   1283\u001b[0m     \u001b[38;5;28;01mwith\u001b[39;00m \u001b[38;5;28mopen\u001b[39m(\u001b[38;5;28mself\u001b[39m\u001b[38;5;241m.\u001b[39mcache_path, \u001b[38;5;124m\"\u001b[39m\u001b[38;5;124mrb\u001b[39m\u001b[38;5;124m\"\u001b[39m) \u001b[38;5;28;01mas\u001b[39;00m f:\n\u001b[0;32m-> 1284\u001b[0m         \u001b[38;5;28mself\u001b[39m\u001b[38;5;241m.\u001b[39mprecomputed \u001b[38;5;241m=\u001b[39m pickle\u001b[38;5;241m.\u001b[39mload(f)\n\u001b[1;32m   1285\u001b[0m \u001b[38;5;28;01melse\u001b[39;00m:\n\u001b[1;32m   1286\u001b[0m     \u001b[38;5;28mprint\u001b[39m(\u001b[38;5;124m\"\u001b[39m\u001b[38;5;124mPrecomputing candidate-side transformations using multiprocessing.Pool with chunking...\u001b[39m\u001b[38;5;124m\"\u001b[39m)\n",
      "\u001b[0;31mEOFError\u001b[0m: Ran out of input"
     ]
    }
   ],
   "source": [
    "# Init hyperparameters\n",
    "n_peaks = 60\n",
    "fp_size = 4096\n",
    "batch_size = 12\n",
    "\n",
    "# Load dataset\n",
    "dataset_msn = MSnRetrievalDataset(\n",
    "    pth=file_mgf,\n",
    "    candidates_pth=file_json,\n",
    "    featurizer=featurizer,\n",
    "    mol_transform=MolFingerprinter(fp_size=fp_size),\n",
    "    max_allowed_deviation=0.005\n",
    ")\n"
   ]
  },
  {
   "cell_type": "code",
   "execution_count": null,
   "id": "313e58fab0155c4b",
   "metadata": {
    "ExecuteTime": {
     "end_time": "2025-02-14T14:09:13.184801Z",
     "start_time": "2025-02-14T14:09:13.182586Z"
    }
   },
   "outputs": [],
   "source": [
    "# Init data module\n",
    "data_module_msn = MassSpecDataModule(\n",
    "    dataset=dataset_msn,\n",
    "    batch_size=batch_size,\n",
    "    split_pth=split_file,\n",
    "    num_workers=0,\n",
    ")"
   ]
  },
  {
   "cell_type": "code",
   "execution_count": null,
   "id": "af9eb30cc9d0b54f",
   "metadata": {
    "ExecuteTime": {
     "end_time": "2025-02-14T14:09:21.055827Z",
     "start_time": "2025-02-14T14:09:20.937795Z"
    }
   },
   "outputs": [],
   "source": [
    "data_module_msn.prepare_data()\n",
    "data_module_msn.setup()\n",
    "\n",
    "train_loader_msn = data_module_msn.train_dataloader()"
   ]
  },
  {
   "cell_type": "code",
   "execution_count": null,
   "id": "511d947bf9b25fcd",
   "metadata": {
    "ExecuteTime": {
     "end_time": "2025-02-14T14:09:24.598290Z",
     "start_time": "2025-02-14T14:09:23.587363Z"
    }
   },
   "outputs": [],
   "source": [
    "tmp_msn = []\n",
    "for batch in train_loader_msn:\n",
    "    print(batch)\n",
    "    tmp_msn = batch\n",
    "    break"
   ]
  },
  {
   "cell_type": "code",
   "execution_count": null,
   "id": "9e1dd97c544da443",
   "metadata": {
    "ExecuteTime": {
     "end_time": "2025-02-14T14:09:27.772537Z",
     "start_time": "2025-02-14T14:09:27.769268Z"
    }
   },
   "outputs": [],
   "source": [
    "# Check the keys in the batch\n",
    "print(tmp_msn.keys())\n",
    "\n",
    "# Specifically check if 'batch_ptr' is present\n",
    "if 'batch_ptr' in tmp_msn:\n",
    "    print(\"batch_ptr is present:\", tmp_msn['batch_ptr'])\n",
    "else:\n",
    "    print(\"batch_ptr is missing\")"
   ]
  },
  {
   "cell_type": "code",
   "execution_count": null,
   "id": "f3934a3f-2f70-4faf-ad4a-216e621e3bff",
   "metadata": {},
   "outputs": [],
   "source": [
    "def print_key_types(obj, obj_name):\n",
    "    print(f\"Data types in {obj_name}:\")\n",
    "    for key, value in obj.items():\n",
    "        print(f\"  {key}: {type(value)}\")\n",
    "\n",
    "# Print data types for both objects\n",
    "print_key_types(tmp_original, \"tmp_original\")\n",
    "print_key_types(tmp_msn, \"tmp_msn\")"
   ]
  },
  {
   "cell_type": "markdown",
   "id": "ef424072a9118b2d",
   "metadata": {},
   "source": [
    "#### Shold be dict_keys(['spec', 'mol', 'precursor_mz', 'adduct', 'mol_freq', 'identifier', 'smiles', 'candidates', 'labels', 'batch_ptr', 'candidates_smiles'])"
   ]
  },
  {
   "cell_type": "code",
   "execution_count": null,
   "id": "a4498cf09b5c3638",
   "metadata": {
    "ExecuteTime": {
     "end_time": "2025-01-26T14:09:43.988566Z",
     "start_time": "2025-01-26T14:09:43.986227Z"
    }
   },
   "outputs": [],
   "source": [
    "tmp_msn.keys()"
   ]
  },
  {
   "cell_type": "code",
   "execution_count": null,
   "id": "843fe9326df72b03",
   "metadata": {
    "ExecuteTime": {
     "end_time": "2025-01-26T14:09:44.060212Z",
     "start_time": "2025-01-26T14:09:44.058107Z"
    }
   },
   "outputs": [],
   "source": [
    "tmp_msn['spec'] "
   ]
  },
  {
   "cell_type": "code",
   "execution_count": null,
   "id": "fc8ed10da30f9581",
   "metadata": {
    "ExecuteTime": {
     "end_time": "2025-01-26T14:09:44.116680Z",
     "start_time": "2025-01-26T14:09:44.113941Z"
    }
   },
   "outputs": [],
   "source": [
    "tmp_msn['precursor_mz']"
   ]
  },
  {
   "cell_type": "code",
   "execution_count": null,
   "id": "dfecc66a8137880d",
   "metadata": {
    "ExecuteTime": {
     "end_time": "2025-01-26T14:09:44.542604Z",
     "start_time": "2025-01-26T14:09:44.539467Z"
    }
   },
   "outputs": [],
   "source": [
    "tmp_msn['mol_freq']"
   ]
  },
  {
   "cell_type": "code",
   "execution_count": null,
   "id": "f3cce6c85a13d606",
   "metadata": {
    "ExecuteTime": {
     "end_time": "2025-01-26T14:09:44.687710Z",
     "start_time": "2025-01-26T14:09:44.685606Z"
    }
   },
   "outputs": [],
   "source": [
    "tmp_msn['identifier']"
   ]
  },
  {
   "cell_type": "code",
   "execution_count": null,
   "id": "f51053f8670e729f",
   "metadata": {
    "ExecuteTime": {
     "end_time": "2025-01-26T14:09:44.850983Z",
     "start_time": "2025-01-26T14:09:44.848292Z"
    }
   },
   "outputs": [],
   "source": [
    "tmp_msn['adduct']"
   ]
  },
  {
   "cell_type": "code",
   "execution_count": null,
   "id": "1874faafb955f9d4",
   "metadata": {
    "ExecuteTime": {
     "end_time": "2025-01-26T14:09:45.017903Z",
     "start_time": "2025-01-26T14:09:45.015397Z"
    }
   },
   "outputs": [],
   "source": [
    "tmp_msn['mol'].shape"
   ]
  },
  {
   "cell_type": "code",
   "execution_count": null,
   "id": "26e13e52cabf0dac",
   "metadata": {
    "ExecuteTime": {
     "end_time": "2025-01-26T14:09:45.166081Z",
     "start_time": "2025-01-26T14:09:45.163471Z"
    }
   },
   "outputs": [],
   "source": [
    "tmp_msn['smiles']"
   ]
  },
  {
   "cell_type": "code",
   "execution_count": null,
   "id": "e519fe7ed5121dcc",
   "metadata": {
    "ExecuteTime": {
     "end_time": "2025-01-26T14:09:45.345887Z",
     "start_time": "2025-01-26T14:09:45.343339Z"
    }
   },
   "outputs": [],
   "source": [
    "tmp_msn['labels']"
   ]
  },
  {
   "cell_type": "code",
   "execution_count": null,
   "id": "61de3b3ad4572c7a",
   "metadata": {
    "ExecuteTime": {
     "end_time": "2025-01-26T14:09:45.507683Z",
     "start_time": "2025-01-26T14:09:45.499212Z"
    }
   },
   "outputs": [],
   "source": [
    "sum(tmp_msn['labels'])"
   ]
  },
  {
   "cell_type": "code",
   "execution_count": null,
   "id": "86224621a407862f",
   "metadata": {
    "ExecuteTime": {
     "end_time": "2025-01-26T14:09:45.684944Z",
     "start_time": "2025-01-26T14:09:45.681948Z"
    }
   },
   "outputs": [],
   "source": [
    "torch.nonzero(tmp_msn['labels'], as_tuple=False).squeeze()"
   ]
  },
  {
   "cell_type": "code",
   "execution_count": null,
   "id": "df3c85be4bd961ae",
   "metadata": {
    "ExecuteTime": {
     "end_time": "2025-01-26T14:09:45.846982Z",
     "start_time": "2025-01-26T14:09:45.844508Z"
    }
   },
   "outputs": [],
   "source": [
    "len(tmp_msn['labels'])"
   ]
  },
  {
   "cell_type": "code",
   "execution_count": null,
   "id": "e30895af70b971cf",
   "metadata": {
    "ExecuteTime": {
     "end_time": "2025-01-26T14:09:46.046226Z",
     "start_time": "2025-01-26T14:09:46.043541Z"
    }
   },
   "outputs": [],
   "source": [
    "tmp_msn['batch_ptr']"
   ]
  },
  {
   "cell_type": "code",
   "execution_count": null,
   "id": "cd6581b0abe8464d",
   "metadata": {
    "ExecuteTime": {
     "end_time": "2025-01-26T14:09:46.564081Z",
     "start_time": "2025-01-26T14:09:46.561215Z"
    }
   },
   "outputs": [],
   "source": [
    "sum(tmp_msn['batch_ptr'])"
   ]
  },
  {
   "cell_type": "code",
   "execution_count": null,
   "id": "bac322d4444ee5ea",
   "metadata": {
    "ExecuteTime": {
     "end_time": "2025-01-26T14:09:46.742119Z",
     "start_time": "2025-01-26T14:09:46.739777Z"
    }
   },
   "outputs": [],
   "source": [
    "len(tmp_msn['candidates'])"
   ]
  },
  {
   "cell_type": "code",
   "execution_count": null,
   "id": "5240b59230576227",
   "metadata": {
    "ExecuteTime": {
     "end_time": "2025-01-26T14:09:46.904383Z",
     "start_time": "2025-01-26T14:09:46.902008Z"
    }
   },
   "outputs": [],
   "source": [
    "tmp_msn['candidates'][5].shape"
   ]
  },
  {
   "cell_type": "markdown",
   "id": "8fabb6d3fa7fd1ec",
   "metadata": {},
   "source": [
    "### Compare Shapes"
   ]
  },
  {
   "cell_type": "code",
   "execution_count": 51,
   "id": "1569a73db41d79ad",
   "metadata": {
    "ExecuteTime": {
     "end_time": "2025-01-26T14:09:47.239455Z",
     "start_time": "2025-01-26T14:09:47.237177Z"
    }
   },
   "outputs": [
    {
     "data": {
      "text/plain": [
       "True"
      ]
     },
     "execution_count": 51,
     "metadata": {},
     "output_type": "execute_result"
    }
   ],
   "source": [
    "tmp_msn.keys() == tmp_original.keys()"
   ]
  },
  {
   "cell_type": "code",
   "execution_count": 52,
   "id": "e05b0a2b1e4ecf17",
   "metadata": {
    "ExecuteTime": {
     "end_time": "2025-01-26T14:09:47.438583Z",
     "start_time": "2025-01-26T14:09:47.436466Z"
    }
   },
   "outputs": [
    {
     "data": {
      "text/plain": [
       "True"
      ]
     },
     "execution_count": 52,
     "metadata": {},
     "output_type": "execute_result"
    }
   ],
   "source": [
    "tmp_msn['batch_ptr'].shape == tmp_original['batch_ptr'].shape"
   ]
  },
  {
   "cell_type": "code",
   "execution_count": 53,
   "id": "b606c035c765f275",
   "metadata": {
    "ExecuteTime": {
     "end_time": "2025-01-26T14:09:47.602278Z",
     "start_time": "2025-01-26T14:09:47.599955Z"
    }
   },
   "outputs": [
    {
     "data": {
      "text/plain": [
       "False"
      ]
     },
     "execution_count": 53,
     "metadata": {},
     "output_type": "execute_result"
    }
   ],
   "source": [
    "tmp_msn['batch_ptr'].dtype == tmp_original['batch_ptr'].dtype"
   ]
  },
  {
   "cell_type": "code",
   "execution_count": 54,
   "id": "2217b21a37932e30",
   "metadata": {
    "ExecuteTime": {
     "end_time": "2025-01-26T14:13:34.631369Z",
     "start_time": "2025-01-26T14:13:34.629025Z"
    }
   },
   "outputs": [
    {
     "data": {
      "text/plain": [
       "torch.int64"
      ]
     },
     "execution_count": 54,
     "metadata": {},
     "output_type": "execute_result"
    }
   ],
   "source": [
    "tmp_original['batch_ptr'].dtype"
   ]
  },
  {
   "cell_type": "code",
   "execution_count": 55,
   "id": "782a345bcd3a68db",
   "metadata": {
    "ExecuteTime": {
     "end_time": "2025-01-26T14:13:22.931706Z",
     "start_time": "2025-01-26T14:13:22.922641Z"
    }
   },
   "outputs": [
    {
     "data": {
      "text/plain": [
       "torch.int32"
      ]
     },
     "execution_count": 55,
     "metadata": {},
     "output_type": "execute_result"
    }
   ],
   "source": [
    "tmp_msn['batch_ptr'].dtype"
   ]
  },
  {
   "cell_type": "code",
   "execution_count": 56,
   "id": "f9dae4c8aaa7564b",
   "metadata": {
    "ExecuteTime": {
     "end_time": "2025-01-26T14:09:47.774336Z",
     "start_time": "2025-01-26T14:09:47.771485Z"
    }
   },
   "outputs": [
    {
     "data": {
      "text/plain": [
       "(tensor(2741, dtype=torch.int32), 2741)"
      ]
     },
     "execution_count": 56,
     "metadata": {},
     "output_type": "execute_result"
    }
   ],
   "source": [
    "sum(tmp_msn['batch_ptr']), len(tmp_msn['candidates_smiles'])"
   ]
  },
  {
   "cell_type": "code",
   "execution_count": 57,
   "id": "67eeb6830a02639a",
   "metadata": {
    "ExecuteTime": {
     "end_time": "2025-01-26T14:09:47.942548Z",
     "start_time": "2025-01-26T14:09:47.940125Z"
    }
   },
   "outputs": [
    {
     "data": {
      "text/plain": [
       "(tensor(3055), 3055)"
      ]
     },
     "execution_count": 57,
     "metadata": {},
     "output_type": "execute_result"
    }
   ],
   "source": [
    "sum(tmp_original['batch_ptr']), len(tmp_original['candidates_smiles'])"
   ]
  },
  {
   "cell_type": "code",
   "execution_count": 58,
   "id": "da6f7d53ce907f18",
   "metadata": {
    "ExecuteTime": {
     "end_time": "2025-01-26T14:09:48.103318Z",
     "start_time": "2025-01-26T14:09:48.101065Z"
    }
   },
   "outputs": [
    {
     "data": {
      "text/plain": [
       "True"
      ]
     },
     "execution_count": 58,
     "metadata": {},
     "output_type": "execute_result"
    }
   ],
   "source": [
    "tmp_msn['labels'].dtype == tmp_original['labels'].dtype"
   ]
  },
  {
   "cell_type": "code",
   "execution_count": 59,
   "id": "29f2304a3eb0d784",
   "metadata": {
    "ExecuteTime": {
     "end_time": "2025-01-26T14:09:48.260879Z",
     "start_time": "2025-01-26T14:09:48.258837Z"
    }
   },
   "outputs": [
    {
     "data": {
      "text/plain": [
       "True"
      ]
     },
     "execution_count": 59,
     "metadata": {},
     "output_type": "execute_result"
    }
   ],
   "source": [
    "tmp_msn['candidates'].dtype == tmp_original['candidates'].dtype"
   ]
  },
  {
   "cell_type": "code",
   "execution_count": 60,
   "id": "bf61a76af4db9b5a",
   "metadata": {
    "ExecuteTime": {
     "end_time": "2025-01-26T14:09:48.433295Z",
     "start_time": "2025-01-26T14:09:48.430979Z"
    }
   },
   "outputs": [
    {
     "data": {
      "text/plain": [
       "True"
      ]
     },
     "execution_count": 60,
     "metadata": {},
     "output_type": "execute_result"
    }
   ],
   "source": [
    "tmp_msn['candidates'][0].shape == tmp_original['candidates'][0].shape"
   ]
  },
  {
   "cell_type": "code",
   "execution_count": 61,
   "id": "e28ea4d96f687f0f",
   "metadata": {
    "ExecuteTime": {
     "end_time": "2025-01-26T14:09:48.599192Z",
     "start_time": "2025-01-26T14:09:48.597148Z"
    }
   },
   "outputs": [
    {
     "data": {
      "text/plain": [
       "True"
      ]
     },
     "execution_count": 61,
     "metadata": {},
     "output_type": "execute_result"
    }
   ],
   "source": [
    "tmp_msn['candidates'][5].shape == tmp_original['candidates'][5].shape"
   ]
  },
  {
   "cell_type": "code",
   "execution_count": 62,
   "id": "68573c7361e436dd",
   "metadata": {
    "ExecuteTime": {
     "end_time": "2025-01-26T14:09:48.780483Z",
     "start_time": "2025-01-26T14:09:48.778287Z"
    }
   },
   "outputs": [
    {
     "data": {
      "text/plain": [
       "True"
      ]
     },
     "execution_count": 62,
     "metadata": {},
     "output_type": "execute_result"
    }
   ],
   "source": [
    "type(tmp_msn['smiles']) == type(tmp_original['smiles'])"
   ]
  },
  {
   "cell_type": "code",
   "execution_count": 63,
   "id": "44b90cb38ece920e",
   "metadata": {
    "ExecuteTime": {
     "end_time": "2025-01-26T14:09:48.928996Z",
     "start_time": "2025-01-26T14:09:48.926865Z"
    }
   },
   "outputs": [
    {
     "data": {
      "text/plain": [
       "True"
      ]
     },
     "execution_count": 63,
     "metadata": {},
     "output_type": "execute_result"
    }
   ],
   "source": [
    "type(tmp_msn['smiles'][0]) == type(tmp_original['smiles'][0])"
   ]
  },
  {
   "cell_type": "code",
   "execution_count": 64,
   "id": "8493612e08e9479e",
   "metadata": {
    "ExecuteTime": {
     "end_time": "2025-01-26T14:09:49.109966Z",
     "start_time": "2025-01-26T14:09:49.107657Z"
    }
   },
   "outputs": [
    {
     "data": {
      "text/plain": [
       "True"
      ]
     },
     "execution_count": 64,
     "metadata": {},
     "output_type": "execute_result"
    }
   ],
   "source": [
    "len(tmp_msn['smiles']) == len(tmp_original['smiles'])"
   ]
  },
  {
   "cell_type": "code",
   "execution_count": 65,
   "id": "b604f8942bf1362d",
   "metadata": {
    "ExecuteTime": {
     "end_time": "2025-01-26T14:09:49.304870Z",
     "start_time": "2025-01-26T14:09:49.302709Z"
    }
   },
   "outputs": [
    {
     "data": {
      "text/plain": [
       "True"
      ]
     },
     "execution_count": 65,
     "metadata": {},
     "output_type": "execute_result"
    }
   ],
   "source": [
    "type(tmp_msn['candidates_smiles']) == type(tmp_original['candidates_smiles'])"
   ]
  },
  {
   "cell_type": "code",
   "execution_count": 66,
   "id": "1a9910cd68400224",
   "metadata": {
    "ExecuteTime": {
     "end_time": "2025-01-26T14:09:49.476990Z",
     "start_time": "2025-01-26T14:09:49.474772Z"
    }
   },
   "outputs": [
    {
     "data": {
      "text/plain": [
       "True"
      ]
     },
     "execution_count": 66,
     "metadata": {},
     "output_type": "execute_result"
    }
   ],
   "source": [
    "type(tmp_msn['candidates_smiles'][0]) == type(tmp_original['candidates_smiles'][0])"
   ]
  },
  {
   "cell_type": "code",
   "execution_count": 67,
   "id": "65f8205061648068",
   "metadata": {
    "ExecuteTime": {
     "end_time": "2025-01-26T14:09:49.656680Z",
     "start_time": "2025-01-26T14:09:49.654355Z"
    }
   },
   "outputs": [
    {
     "data": {
      "text/plain": [
       "2741"
      ]
     },
     "execution_count": 67,
     "metadata": {},
     "output_type": "execute_result"
    }
   ],
   "source": [
    "len(tmp_msn['candidates_smiles'])"
   ]
  },
  {
   "cell_type": "code",
   "execution_count": null,
   "id": "9be44629-b7da-4a74-b6ec-3521b4b29e5c",
   "metadata": {},
   "outputs": [],
   "source": []
  },
  {
   "cell_type": "code",
   "execution_count": null,
   "id": "95e158cf-3b65-451b-806f-79133f872194",
   "metadata": {},
   "outputs": [],
   "source": []
  },
  {
   "cell_type": "code",
   "execution_count": null,
   "id": "f984125e-a724-4a29-a2b3-37118a34876d",
   "metadata": {},
   "outputs": [],
   "source": []
  }
 ],
 "metadata": {
  "kernelspec": {
   "display_name": "Python 3 (ipykernel)",
   "language": "python",
   "name": "python3"
  },
  "language_info": {
   "codemirror_mode": {
    "name": "ipython",
    "version": 3
   },
   "file_extension": ".py",
   "mimetype": "text/x-python",
   "name": "python",
   "nbconvert_exporter": "python",
   "pygments_lexer": "ipython3",
   "version": "3.11.9"
  }
 },
 "nbformat": 4,
 "nbformat_minor": 5
}
