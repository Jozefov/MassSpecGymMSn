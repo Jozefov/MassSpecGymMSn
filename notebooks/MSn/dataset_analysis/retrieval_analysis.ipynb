{
 "cells": [
  {
   "metadata": {
    "ExecuteTime": {
     "end_time": "2025-01-26T14:02:31.123365Z",
     "start_time": "2025-01-26T14:02:28.042284Z"
    }
   },
   "cell_type": "code",
   "source": [
    "from massspecgym.data.datasets import MSnDataset, MSnRetrievalDataset, RetrievalDataset\n",
    "import torch"
   ],
   "id": "da6a763cea0be904",
   "outputs": [],
   "execution_count": 1
  },
  {
   "metadata": {
    "ExecuteTime": {
     "end_time": "2025-01-26T14:02:31.127887Z",
     "start_time": "2025-01-26T14:02:31.126180Z"
    }
   },
   "cell_type": "code",
   "source": [
    "file_mgf = \"/Users/macbook/CODE/Majer:MassSpecGym/data/MSn/20241211_msn_library_pos_all_lib_MSn.mgf\"\n",
    "file_json = \"/Users/macbook/CODE/Majer:MassSpecGym/data/Retrieval/MassSpecGym_retrieval_candidates_mass.json\"\n",
    "split_file = \"/Users/macbook/CODE/Majer:MassSpecGym/data/MSn/20241211_split.tsv\""
   ],
   "id": "22f3a2d12131cd17",
   "outputs": [],
   "execution_count": 2
  },
  {
   "metadata": {
    "ExecuteTime": {
     "end_time": "2025-01-26T14:02:31.167104Z",
     "start_time": "2025-01-26T14:02:31.165241Z"
    }
   },
   "cell_type": "code",
   "source": [
    "from massspecgym.data.transforms import MolFingerprinter, SpecTokenizer\n",
    "from massspecgym.data import RetrievalDataset, MassSpecDataModule"
   ],
   "id": "c0a04ca978e09c61",
   "outputs": [],
   "execution_count": 3
  },
  {
   "metadata": {
    "ExecuteTime": {
     "end_time": "2025-01-26T14:02:31.172507Z",
     "start_time": "2025-01-26T14:02:31.171007Z"
    }
   },
   "cell_type": "code",
   "source": "pth_massspecgym_original = \"/Users/macbook/CODE/Majer:MassSpecGym/data/MassSpecGym/MassSpecGym.tsv\"",
   "id": "db1094d3df48cd7f",
   "outputs": [],
   "execution_count": 4
  },
  {
   "metadata": {
    "ExecuteTime": {
     "end_time": "2025-01-26T14:02:42.169384Z",
     "start_time": "2025-01-26T14:02:31.176446Z"
    }
   },
   "cell_type": "code",
   "source": [
    "# Init hyperparameters\n",
    "n_peaks = 60\n",
    "fp_size = 4096\n",
    "batch_size = 12\n",
    "\n",
    "# Load dataset\n",
    "dataset_original = RetrievalDataset(\n",
    "    pth=pth_massspecgym_original,\n",
    "    candidates_pth=file_json,\n",
    "    spec_transform=SpecTokenizer(n_peaks=n_peaks),\n",
    "    mol_transform=MolFingerprinter(fp_size=fp_size),\n",
    ")\n"
   ],
   "id": "5346beea048ce5a5",
   "outputs": [],
   "execution_count": 5
  },
  {
   "metadata": {
    "ExecuteTime": {
     "end_time": "2025-01-26T14:02:42.176395Z",
     "start_time": "2025-01-26T14:02:42.174772Z"
    }
   },
   "cell_type": "code",
   "source": [
    "# Init data module\n",
    "data_module_original = MassSpecDataModule(\n",
    "    dataset=dataset_original,\n",
    "    batch_size=batch_size,\n",
    "    num_workers=0,\n",
    ")"
   ],
   "id": "d6ceed9debd5cc51",
   "outputs": [],
   "execution_count": 6
  },
  {
   "metadata": {
    "ExecuteTime": {
     "end_time": "2025-01-26T14:02:42.228794Z",
     "start_time": "2025-01-26T14:02:42.187305Z"
    }
   },
   "cell_type": "code",
   "source": [
    "data_module_original.prepare_data()\n",
    "data_module_original.setup()\n",
    "\n",
    "train_loader_original = data_module_original.train_dataloader()"
   ],
   "id": "c4bfe776ab073f74",
   "outputs": [
    {
     "name": "stdout",
     "output_type": "stream",
     "text": [
      "Train dataset size: 194119\n",
      "Val dataset size: 19429\n"
     ]
    }
   ],
   "execution_count": 7
  },
  {
   "metadata": {
    "ExecuteTime": {
     "end_time": "2025-01-26T14:02:43.217705Z",
     "start_time": "2025-01-26T14:02:42.256407Z"
    }
   },
   "cell_type": "code",
   "source": [
    "tmp_original = []\n",
    "for batch in train_loader_original:\n",
    "    print(batch)\n",
    "    tmp_original = batch\n",
    "    break"
   ],
   "id": "55185d08a14a11ab",
   "outputs": [
    {
     "name": "stdout",
     "output_type": "stream",
     "text": [
      "I am not here\n",
      "{'spec': tensor([[[7.4254e+02, 1.1000e+00],\n",
      "         [9.1054e+01, 1.3916e-02],\n",
      "         [9.3070e+01, 5.3397e-02],\n",
      "         ...,\n",
      "         [6.0152e+02, 1.0000e+00],\n",
      "         [6.3162e+02, 6.2622e-03],\n",
      "         [7.0910e+02, 6.3450e-03]],\n",
      "\n",
      "        [[2.6808e+02, 1.1000e+00],\n",
      "         [4.4061e+01, 2.3023e-02],\n",
      "         [5.5028e+01, 1.4014e-02],\n",
      "         ...,\n",
      "         [0.0000e+00, 0.0000e+00],\n",
      "         [0.0000e+00, 0.0000e+00],\n",
      "         [0.0000e+00, 0.0000e+00]],\n",
      "\n",
      "        [[2.7913e+02, 1.1000e+00],\n",
      "         [6.8050e+01, 2.2432e-03],\n",
      "         [7.0065e+01, 2.7929e-01],\n",
      "         ...,\n",
      "         [0.0000e+00, 0.0000e+00],\n",
      "         [0.0000e+00, 0.0000e+00],\n",
      "         [0.0000e+00, 0.0000e+00]],\n",
      "\n",
      "        ...,\n",
      "\n",
      "        [[3.6215e+02, 1.1000e+00],\n",
      "         [2.6110e+02, 5.5685e-03],\n",
      "         [3.1816e+02, 1.0166e-01],\n",
      "         ...,\n",
      "         [0.0000e+00, 0.0000e+00],\n",
      "         [0.0000e+00, 0.0000e+00],\n",
      "         [0.0000e+00, 0.0000e+00]],\n",
      "\n",
      "        [[3.1917e+02, 1.1000e+00],\n",
      "         [1.0102e+02, 1.2017e-02],\n",
      "         [1.0306e+02, 1.1034e-02],\n",
      "         ...,\n",
      "         [2.4409e+02, 9.6083e-02],\n",
      "         [2.4510e+02, 1.7753e-02],\n",
      "         [2.7303e+02, 1.0979e-02]],\n",
      "\n",
      "        [[3.8113e+02, 1.1000e+00],\n",
      "         [1.0507e+02, 1.9379e-02],\n",
      "         [1.0705e+02, 1.0951e-02],\n",
      "         ...,\n",
      "         [0.0000e+00, 0.0000e+00],\n",
      "         [0.0000e+00, 0.0000e+00],\n",
      "         [0.0000e+00, 0.0000e+00]]]), 'mol': tensor([[0., 0., 0.,  ..., 0., 0., 0.],\n",
      "        [0., 0., 0.,  ..., 0., 0., 0.],\n",
      "        [0., 0., 0.,  ..., 0., 0., 0.],\n",
      "        ...,\n",
      "        [0., 0., 0.,  ..., 1., 0., 0.],\n",
      "        [0., 0., 0.,  ..., 0., 0., 0.],\n",
      "        [0., 0., 0.,  ..., 0., 0., 0.]]), 'precursor_mz': tensor([742.5390, 268.0750, 279.1330, 675.5440, 756.5540, 249.1597, 254.1250,\n",
      "        200.0852, 141.0659, 362.1511, 319.1720, 381.1333]), 'adduct': ['[M+H]+', '[M+H]+', '[M+H]+', '[M+H]+', '[M+H]+', '[M+H]+', '[M+H]+', '[M+H]+', '[M+H]+', '[M+H]+', '[M+H]+', '[M+H]+'], 'mol_freq': tensor([ 44.,  41.,   7.,  93., 185.,  31.,  48.,  28.,  11.,  74.,  34.,   7.]), 'identifier': ['MassSpecGymID0407346', 'MassSpecGymID0046001', 'MassSpecGymID0400149', 'MassSpecGymID0405699', 'MassSpecGymID0394761', 'MassSpecGymID0013056', 'MassSpecGymID0060185', 'MassSpecGymID0021867', 'MassSpecGymID0177844', 'MassSpecGymID0036677', 'MassSpecGymID0032414', 'MassSpecGymID0149169'], 'smiles': ['CCCCCCCC/C=C\\\\CCCCCCCC(=O)OC[C@H](COP(=O)(O)OCCN)OC(=O)CCCCCCC/C=C\\\\C/C=C\\\\CCCCC', 'CC1=C(ON=C1C)NS(=O)(=O)C2=CC=C(C=C2)N', 'C1C[C@H](N(C1)C(=O)[C@H](CC2=CC=C(C=C2)O)N)C(=O)O', 'CCCCCCCCCCCCC/C=C/[C@H]([C@H](COP(=O)([O-])OCC[N+](C)(C)C)NC(=O)CCCCCCCCCCCCC)O', 'CCCCCC/C=C\\\\CCCCCCCC(=O)OC[C@H](COP(=O)([O-])OCC[N+](C)(C)C)OC(=O)CCCCCCC/C=C\\\\C/C=C\\\\CCCCC', 'CC(C)NCC(COC1=CC=CC2=C1C=CN2)O', 'C1=NC2=C(N1CCC(CO)CO)N=C(NC2=O)N', 'CC(C)(C)C1=NN=C(NC1=O)SC', 'CN1C=C(N=C1)CC(=O)O', 'CC1COC2=C3N1C=C(C(=O)C3=CC(=C2N4CCN(CC4)C)F)C(=O)O', 'COCCCCC(=NOCCN)C1=CC=C(C=C1)C(F)(F)F', 'CC1(C=CC2=C(O1)C=C3C(=C2OC)C(=C(C(=O)O3)C4=CC=C(C=C4)OC)O)C'], 'candidates': tensor([[0., 0., 0.,  ..., 0., 0., 0.],\n",
      "        [0., 0., 1.,  ..., 0., 0., 0.],\n",
      "        [0., 0., 0.,  ..., 0., 0., 0.],\n",
      "        ...,\n",
      "        [0., 0., 0.,  ..., 0., 0., 0.],\n",
      "        [0., 0., 0.,  ..., 0., 0., 0.],\n",
      "        [0., 0., 0.,  ..., 0., 0., 0.]]), 'labels': tensor([ True, False, False,  ..., False, False, False]), 'batch_ptr': tensor([256, 256, 256, 178, 256, 256, 256, 256, 256, 256, 256, 256]), 'candidates_smiles': ['CCCCCCCC/C=C\\\\CCCCCCCC(=O)OC[C@H](COP(=O)(O)OCCN)OC(=O)CCCCCCC/C=C\\\\C/C=C\\\\CCCCC', 'CCCCCC[C@@H](OC(=O)CNC(=O)[C@@H](C)COCCCN)[C@@H](C)C(=O)N(C)[C@@H](CC(C)C)C(=O)N[C@H](C(=O)N[C@@H](CN)C(N)O)C1CCCCC1', 'CCCCCC=CCC=CCCCCCCCC(=O)OCC(COP(=O)(O)OCCN)OC(=O)CCCCCCCCCC=CCCCCCC', 'CCCCCCCCCC/C=C\\\\C/C=C\\\\CCC(=O)OC(COC(=O)CC/C=C\\\\CCCCCCCCCCCCC)COP(=O)(O)OCCN', 'CC(C)CCCC(C)C1CCC2C3CC=C4CC(OC(=O)CCC(=O)N(CCCC(C)(C)N)CCC(C)(C)N)CCC4(C)C3CCC12C.Cl.Cl', 'CCCCC/C=C\\\\CCCCCCCC(=O)NCCOP(=O)(O)OCC(O)COC(=O)CCCCCCCCC/C=C\\\\C/C=C\\\\CCCCCC', 'CCCC/C=C\\\\CCCCCCCC(=O)OCC(COP(=O)(O)OCCN)OC(=O)CCCCCCCCCCC/C=C\\\\C/C=C\\\\CCCCC', 'CC/C=C\\\\C/C=C\\\\C/C=C\\\\CCCCCCCC(=O)OCC(COP(=O)(O)OCCN(C)C)OC(=O)CCCCCCCCCCCCCCC', 'CCCCCC/C=C\\\\CCCCCCCC/C=C/OC[C@H](COP(=O)(O)OCCN)OC(=O)CCCCCCC/C=C\\\\CC1OC1CCCCC', 'CCCCC/C=C\\\\C/C=C\\\\C/C=C\\\\CCCCCCCCCCCCC(=O)NCCOP(=O)(O)OCC(O)COC(=O)CCCCCCCCC', 'CCC=CCC=CCC=CCCCCCCCC(=O)OCC(COP(=O)(O)OCCN)OC(=O)CCCCCCCCCCCCCCCCC', 'CC(C)CCCC(C)[C@H]1CC[C@H]2[C@@H]3CC=C4C[C@@H](OC(=O)CCC(=O)N(CCCN)CCCCCCCCN)CC[C@]4(C)[C@H]3CC[C@]12C.Cl.Cl', 'CCCCCCCC/C=C\\\\C/C=C\\\\C/C=C\\\\CCCC(=O)O[C@H](COC(=O)CCCCCCCCCCCCCCC)COP(=O)(O)OCCN', 'CC(C)CCC[C@@H](C)[C@H]1CC[C@H]2[C@@H]3CC=C4C[C@@H](OC(=O)CCC(=O)N(CCCN)CCCCCCCCN)CC[C@]4(C)[C@H]3CC[C@]12C.Cl.Cl', 'CC/C=C/C/C=C/C/C=C/CCCCCCCC(=O)O[C@H](COC(=O)CCCCCCCCCCCCCCCCC)COP(=O)(O)OCCN', 'CCCCCC/C=C/C=C/CCCCCCCC(=O)OC[C@H](COP(=O)(O)OCCN)OC(=O)CCCCCCC/C=C/CCCCCCCC', 'CC/C=C\\\\C/C=C\\\\C/C=C\\\\CCCCCCCC(=O)O[C@H](COC(=O)CCCCCCCCCCCCCC)COP(=O)([O-])OCC[N+](C)(C)C', 'CCCC/C=C/C/C=C/CCCCCCCC(=O)O[C@H](COC(=O)CCCCCCC/C=C/CCCCCC)COP(=O)([O-])OCC[N+](C)(C)C', 'CCCCCCCC/C=C/C/C=C/C/C=C/CCCC(=O)OC[C@H](COP(=O)(O)OCCN)OC(=O)CCCCCCCCCCCCCCC', 'CCCCC/C=C\\\\C/C=C\\\\CCCCCCCC(=O)NCCOP(=O)(O)OCC(O)COC(=O)CCCCCCC/C=C\\\\CCCCCCCC', 'CCCCC/C=C/C/C=C/CCCCCCCC(=O)OC[C@H](COP(=O)(O)OCCN)OC(=O)CCCCCCC/C=C/CCCCCCCC', 'CC(C)CCCC(C)[C@H]1CC[C@H]2[C@@H]3CC=C4C[C@@H](OC(=O)CCCC(=O)N(CCCN(C)C)CCCN(C)C)CC[C@]4(C)[C@H]3CC[C@]12C.Cl.Cl', 'CCCCC/C=C/C/C=C/CCCCCCCC(=O)O[C@H](COC(=O)CCCCCCC/C=C/CCCCC)COP(=O)([O-])OCC[N+](C)(C)C', 'CCCCC1(CCCC)CS(=O)(=O)c2ccc(N(C)C)cc2C(c2ccc(OC(C)(C)CCOCC(C)CCC(CC)C(CC)CCC)cc2)C1O', 'C#C.C=C1/C=C(C(CCC)CCC)\\\\C=C/CN(c2cccc(C(=C/Cc3ccccc3)/C(CC)=C(\\\\C)c3ccccc3)c2)c2ccc(C(CCC)CCC)cc21', 'CCCCC/C=C\\\\C/C=C\\\\CCCCCCCC(=O)OC[C@H](COP(=O)([O-])OCC[N+](C)(C)C)OC(=O)CCCCCCC/C=C\\\\CCCCC', 'CCCC/C=C/CCCCCCCCCCCC(=O)O[C@H](COC(=O)CCCCCCC/C=C/C/C=C/CCCCC)COP(=O)(O)OCCN', 'CC(C)CCC[C@@H](C)[C@H]1CC[C@H]2[C@@H]3CC=C4CC(OC(=O)OCCCCCCCCOP(=O)(O)OCC[N+](C)(C)C)CC[C@]4(C)[C@H]3CC[C@]12C.[OH-]', 'CCCCCCCC/C=C\\\\CCCCCCCC(=O)OC(CC[N+](C)(C)C)OC(=O)CCCCCCC/C=C\\\\CCCCCCCC.[Br-]', 'C=C(/C=C\\\\C(C)=C\\\\CCc1cc(C(=O)N(C)C)ccc1C(CC(CC)NCC(=O)N1CCCC1C#N)/C(=N/C)N(OC)C1CCCCC1)C(=C)N(C)CC', 'CCCCC/C=C\\\\CCCCCCCC(=O)OCC(O)COP(=O)(O)OCCNC(=O)CCCCCCCCC/C=C\\\\C/C=C\\\\CCCCCC', 'CCCCCCCC/C=C/C/C=C/CCCCC(=O)O[C@H](COC(=O)CCCCCCC/C=C/CCCCCCCC)COP(=O)(O)OCCN', 'CCCCCCCCCCCCCCCCOCC(CNCC(COCCCCCCCCCCCCCCCC)S(=O)(=O)O)S(=O)(=O)O', 'CCCCC/C=C\\\\C/C=C\\\\C/C=C\\\\CCCCCCCCCCC(=O)NCCOP(=O)(O)OCC(O)COC(=O)CCCCCCCCCCC', 'C=C(C)C(=O)CCCCCCCCCCCCOc1ccc(N(c2ccccc2)c2ccc(OCCCCCCCCCCCCC(O)CO)cc2)cc1', 'CCCCC/C=C\\\\C/C=C\\\\C/C=C\\\\CCCCC(=O)OC(COC(=O)CCCCCCCCCCCCCCC)COP(=O)(O)OCCN(C)C', 'CCCCC/C=C/C/C=C/CCCCCCCC(=O)OC[C@H](COP(=O)(O)OCCN)OC(=O)CCCCCCCCC/C=C/CCCCCC', 'CC/C=C\\\\C/C=C\\\\C/C=C\\\\CCCCCCCCCC(=O)OC(COC(=O)CCCCCCCCCCCC)COP(=O)([O-])OCC[N+](C)(C)C', 'CCCCCCCCC=CCC=CCC=CCCCC(=O)OCC(COP(=O)(O)OCCN)OC(=O)CCCCCCCCCCCCCCC', 'CCCC/C=C/CCCCCCCCCCCC(=O)OC[C@H](COP(=O)(O)OCCN)OC(=O)CCCCCCC/C=C/C/C=C/CCCCC', 'CC/C=C\\\\C/C=C\\\\C/C=C\\\\CCCCCCCCCC(=O)NCCOP(=O)(O)OCC(O)COC(=O)CCCCCCCCCCCCCCC', 'CCCCC/C=C\\\\C/C=C\\\\C/C=C\\\\CCCCCCCCCCCCC(=O)OCC(O)COP(=O)(O)OCCNC(=O)CCCCCCCCC', 'CCCCCCCCCC/C=C/CCCCCC(=O)OC[C@H](COP(=O)(O)OCCN)OC(=O)/C=C/C=C/CCCCCCCCCCCCC', 'CCCCCCCCCCCCCCCC/C=C/OC[C@H](COP(=O)(O)OCCN)OC(=O)CCCCCCC/C=C\\\\C=C\\\\C(=O)CCCCC', 'CCCCCC/C=C/CCCCCCCC(=O)O[C@H](COC(=O)CCC/C=C/C/C=C/CCCCCCCCCCC)COP(=O)(O)OCCN', 'CCCCC/C=C/C/C=C/CCCCCCCCCC(=O)O[C@H](COC(=O)CCCCCCC/C=C/CCCCCC)COP(=O)(O)OCCN', 'CCCCCCCC=CCC=CCC=CCCC(=O)OC(COC(=O)CCCCCCCCCCCCCCCCC)COP(=O)(O)OCCN', 'CC1CN(C(C)C(=O)OC(C)(C)C)C(C)CN(C(C)C(=O)OC(C)(C)C)C(C)CN(C(C)C(=O)OC(C)(C)C)C(C)CN1C(C)C(=O)NCC(=O)O', 'C=C(C)[C@@H]1CC[C@]2(CCOC(=O)CN3CCC(C)(F)CC3)CC[C@]3(C)[C@H](CC[C@@H]4[C@@]5(C)CC[C@H](OC(=O)CC(C)(C)C(=O)O)C(C)(C)[C@@H]5CC[C@]43C)[C@@H]12', 'CCCCCC/C=C/CCCCCCCCCC(=O)OC[C@H](COP(=O)(O)OCCN)OC(=O)CCCC/C=C/C/C=C/CCCCCCCC', 'CC/C=C\\\\C/C=C\\\\C/C=C\\\\CCCCCCCCCC(=O)OC(COC(=O)CCCCCCCCCCCCCCC)COP(=O)(O)OCCN', 'CC(C)[C@@H](OC(=O)N1CCC1)C1C[C@@H](C)[C@H]2C(O1)[C@H](O)[C@@]1(C)C3CC[C@H]4C(C)(C)C(OC(=O)N5CCN(CC(C)(C)O)CC5)CCC45CC35CCC21C', 'CCCCCCCCCCCCCC[C@@H](O)[C@@H](O)[C@H](COC1OC(CO)C(O)C(O)C1O)N[C@@H](CCCCCCCCCCC1CC1)C(F)(F)F', 'CC(C)C1=C2[C@H]3CC[C@@H]4[C@@]5(C)CC[C@H](OC(=O)[C@@H]6C[C@H](C(=O)O)C6(C)C)C(C)(C)[C@@H]5CC[C@@]4(C)[C@]3(C)CC[C@@]2(CCNC(C)(C)c2ccccc2)CC1=O', 'CC/C=C\\\\C/C=C\\\\C/C=C\\\\CCCCCC(=O)OCC(O)COP(=O)(O)OCCNC(=O)CCCCCCCCCCCCCCCCCCC', 'C=CCCCCCCCCCCCCCCCC(=O)OC[C@H](COP(=O)(O)OCCN)OC(=O)/C=C/C=C/CCCCCCCCCCCCC', 'CCCCC/C=C\\\\C/C=C\\\\CCCCCCCCCC(=O)OC(COC(=O)CCCCCCC/C=C\\\\CCCCCC)COP(=O)(O)OCCN', 'CCCCC/C=C/C/C=C\\\\CCCCCCCC(=O)O[C@H](COC(=O)CCCCCCCCC/C=C/CCCCCC)COP(=O)(O)OCCN', 'CCCCCCCC/C=C/C/C=C/CCCCC(=O)OC[C@H](COP(=O)(O)OCCN)OC(=O)CCCCC/C=C/CCCCCCCCCC', 'CCCCCC/C=C/C=C/CCCCCCCC(=O)OC[C@H](COP(=O)(O)OCCN)OC(=O)CCCC/C=C/CCCCCCCCCCC', 'CCCCCCCCC=CCCCCCC=CC(=O)OCC(COP(=O)(O)OCCN)OC(=O)CCCCCCCC=CCCCCCCCC', 'CCCCCC=CCC=CCCCCCCCC(=O)OC[C@H](COP(=O)(O)OCCN)OC(=O)CCCCCCCC=CCCCCCCCC', 'CCCCCC/C=C/C=C/CCCCCCCC(=O)O[C@H](COC(=O)CCCCCCC/C=C/CCCCCCCC)COP(=O)(O)OCCN', 'C=C/C=C\\\\[C@H]1C(C)C2CCCCCC2C2CCC(c3cccc(C4=CC=CCC(NC(C)CCCC(C)c5ccccc5)=C4C4=C(C)C=C5CC5C#C4)c3)CC21', 'CC(COC(=O)NCCCCN1CCOCC1)C1CC[C@]2(C(=O)O)CC[C@]3(C)C(CCC4[C@@]5(C)CC[C@@H](OC(=O)NC6CC6)C(C)(C)C5CC[C@]43C)C12', 'CCCCC=CCCCCCCCC(=O)OCC(COP(=O)(O)OCCN)OC(=O)CCCCCCCCCCCC=CCC=CCCCCC', 'CCCCC/C=C\\\\C/C=C\\\\C/C=C\\\\CCCCCCCCCCC(=O)OCC(O)COP(=O)(O)OCCNC(=O)CCCCCCCCCCC', 'CCCCCCCC/C=C/CCCCCCCC(=O)OC(CC)(OC(=O)CCCCCCC/C=C/CCCCCCCC)[N+](C)(C)C.[Br-]', 'CCCCC/C=C\\\\C/C=C\\\\C/C=C\\\\CCCCC(=O)O[C@H](COC(=O)CCCCCCCCCCCCCC)COP(=O)([O-])OCC[N+](C)(C)C', 'CCCCCC/C=C/C=C/CCCCCCCC(=O)OC[C@H](COP(=O)(O)OCCN)OC(=O)CCCCC/C=C/CCCCCCCCCC', 'CCCCC/C=C\\\\C/C=C\\\\C/C=C\\\\CCCCCCC(=O)O[C@H](COC(=O)CCCCCCCCCCCCCCC)COP(=O)([O-])OCC[NH3+]', 'CCCCC/C=C\\\\C/C=C\\\\CCCCCCCCCC(=O)OCC(O)COP(=O)(O)OCCNC(=O)CCCCCCC/C=C\\\\CCCCCC', 'CCC=CCC=CCC=CCCCCCCCC(=O)OC(COC(=O)CCCCCCCCCCCCCCCCC)COP(=O)(O)OCCN', 'CCCCC/C=C\\\\CCCCCCCC(=O)OCC(COP(=O)(O)OCCN)OC(=O)CCCCCCCCC/C=C\\\\C/C=C\\\\CCCCCC', 'CCC=CCC=CCC=CCCCCCCCC(=O)OC[C@H](COP(=O)(O)OCCN)OC(=O)CCCCCCCCCCCCCCCCC', 'C=CCCCCCCCCCCCCCCCC(=O)O[C@H](COC(=O)CCCCCCC/C=C/C/C=C/CCCCC)COP(=O)(O)OCCN', 'C=CCCCCCCCCCCCCCCCC(=O)OC[C@H](COP(=O)(O)OCCN)OC(=O)CCCCCCC/C=C/C=C/CCCCCC', 'CCCCCC=CCC=CCC=CCCCCC(=O)OCC(COP(=O)(O)OCCN)OC(=O)CCCCCCCCCCCCCCCCC', 'CCCCC/C=C/CCCCCCCC(=O)OC[C@H](COP(=O)([O-])OCC[N+](C)(C)C)OC(=O)/C=C/C=C/CCCCCCCCCCCCC', 'CCCCCCCC/C=C/C/C=C/CCCCC(=O)O[C@H](COC(=O)CCCCC/C=C/CCCCCCCCCC)COP(=O)(O)OCCN', 'CCCCC/C=C/C/C=C/C/C=C/CCCCCCC(=O)O[C@H](COC(=O)CCCCCCCCCCCCCCC)COP(=O)(O)OCCN', 'CCCCC/C=C\\\\C/C=C\\\\C/C=C\\\\CCCCC(=O)OCC(COP(=O)(O)OCCN(C)C)OC(=O)CCCCCCCCCCCCCCC', 'CCCC/C=C\\\\C/C=C\\\\CCCCCCCC(=O)NCCOP(=O)(O)OCC(O)COC(=O)CCCCCCC/C=C\\\\CCCCCCCCC', 'CCCC/C=C\\\\CCCCCCCC(=O)OC[C@H](COP(=O)(O)OCCN)OC(=O)CCCCCCCCCCC/C=C\\\\C/C=C\\\\CCCCC', 'CCCCCCCCCCCCCCCCCCCCCC(=O)N1C[C@H](O)CC1COC(c1ccccc1)(c1ccc(OC)cc1)c1ccc(OC)cc1', 'CCCCCCCC=C=CCCCCCCCC(=O)OC[C@H](COP(=O)(O)OCCN)OC(=O)CCCCCCC/C=C/CCCCCCCC', 'CCCCCCCCC/C=C\\\\C/C=C\\\\C/C=C\\\\CCC(=O)OC(COC(=O)CCCCCCCCCCCCCCC)COP(=O)(O)OCCN', 'CCCC/C=C\\\\CCCCCCCC(=O)NCCOP(=O)(O)OCC(O)COC(=O)CCCCCCCCCCC/C=C\\\\C/C=C\\\\CCCCC', 'CCCCCCNC(=O)C(CC(=O)NCCNCCNCCN)CC(=O)C([NH])CC(=O)NCCNCCNCCNC(=O)CCC(=O)CCCOC', 'CCCCC/C=C/C/C=C/CCCCCCCCCC(=O)O[C@H](COC(=O)CCCCC/C=C/CCCCCCCC)COP(=O)(O)OCCN', 'CCCCCC/C=C/C=C/CCCCCCCC(=O)O[C@H](COC(=O)CCCCC/C=C/CCCCCCCCCC)COP(=O)(O)OCCN', 'CCCC/C=C\\\\C/C=C\\\\CCCCCCCC(=O)O[C@H](COC(=O)CCCCCCC/C=C\\\\CCCCCCCCC)COP(=O)(O)OCCN', 'C1CCC2(CC1)CCNCC2.CC(C)CC(NC(=O)N1CCC2(CCCCC2)CC1)C(=O)CC1(C#N)CC1.O=C(Cl)N1CCC2(CCCCC2)CC1', 'CCNC(=O)CCOCC(COCCC(=O)NCC)(COCCC(=O)NCC)NC(=O)CCCC(=O)NCC(C)CC(CC)COC1CCCCC1', 'CCCCC/C=C\\\\C/C=C\\\\C/C=C\\\\CCCCC(=O)OC[C@H](COP(=O)(O)OCCN)OC(=O)CCCCCCCCCCCCCCCCC', 'CCCCCCCC/C=C\\\\CCCCCCCCOCC(OCCBr)C(OCCCCCCCC/C=C\\\\CCCCCCCC)C(N)=O', 'C1CN(CP(CN2CCOCC2)CN2CCOCC2)CCO1.CCN1CCN(CP2CN3CCN(CCCCN4CCN(CC4)C2)CC3)CC1', 'CCCCCCCCCCC/C=C/CCCCC(=O)OC[C@H](COP(=O)(O)OCCN)OC(=O)/C=C/C=C/CCCCCCCCCCCCC', 'CCCC/C=C\\\\C/C=C\\\\CCCCCCCC(=O)OC[C@H](COP(=O)(O)OCCN)OC(=O)CCCCCCC/C=C\\\\CCCCCCCCC', 'CCCCCCCCCCC=CCC=CCCC(=O)OC(COC(=O)CCC=CCCCCCCCCCCCCC)COP(=O)(O)OCCN', 'CN(C)COCCCc1ccc(C#Cc2cc(OCCC[N+](C)(C)C)c(C#Cc3ccc(OCCC[N+](C)(C)C)cc3)cc2OCCC[N+](C)(C)C)cc1', 'CCCC/C=C\\\\CCCCCCCC(=O)OC(COC(=O)CCCCCCCCC/C=C\\\\C/C=C\\\\CCCCC)COP(=O)(O)OCCN(C)C', 'CCCCCCC1(CCCCCC)c2cc(/C(C)=C/C=C(\\\\CCC)c3ccc(-c4ccc(C(C)(C)C)s4)c(C)c3N)ccc2-c2ccc(C(C)(C)C)cc21', 'CC(C)CCC[C@@H](C)[C@H]1CC[C@H]2[C@@H]3CC=C4C[C@@H](OC(=O)OCCCCCCCCOP(=O)(O)OCC[N+](C)(C)C)CC[C@]4(C)[C@H]3CC[C@]12C.[OH-]', 'CCCCCC/C=C/C=C/CCCCCCCC(=O)OC[C@H](COP(=O)(O)OCCN)OC(=O)CC/C=C/CCCCCCCCCCCCC', 'CC(C)CCCC(C)C1CCC2C3CC=C4CC(OC(=O)CCC(=O)N(CCCN)CCCCCCCCN)CCC4(C)C3CCC12C.Cl.Cl', 'CCCCC/C=C\\\\C/C=C\\\\C/C=C\\\\CCCCCCC(=O)O[C@H](COC(=O)CCCCCCCCCCCCCCC)COP(=O)(O)OCCN', 'CCCCCCC(F)(F)C(F)(F)C(F)(CCCc1ccccc1)C(OC)(OC)OC.CCCCCCCCC(CCCN)C(C)(OCC)OCC', 'CC/C=C\\\\C/C=C\\\\C/C=C\\\\C/C=C\\\\C/C=C\\\\C/C=C\\\\CCCCC(=O)NC(CS(=O)(=O)O)C(O)/C=C/CC/C=C/CCCCCCCCCCCC', 'CC/C=C\\\\C/C=C\\\\C/C=C\\\\CCCCCC(=O)OC(COC(=O)CCCCCCCCCCCCCCCCCCC)COP(=O)(O)OCCN', 'CCCCCC=CCC=CCCCCCCCC(=O)O[C@H](COC(=O)CCCCCCCCCC=CCCCCCC)COP(=O)(O)OCCN', 'CCCCC/C=C/C/C=C/C/C=C/CCCCCCC(=O)O[C@H](COC(=O)CCCCCCCCCCCC)COP(=O)([O-])OCC[N+](C)(C)C', 'CC(C)CCC[C@@H](C)[C@H]1CC[C@H]2[C@@H]3CC=C4C[C@@H](OC(=O)CCC(=O)N(CCCC(C)(C)N)CCC(C)(C)N)CC[C@]4(C)[C@H]3CC[C@]12C.Cl.Cl', 'CCCCC/C=C/C/C=C/CCCCCCCC(=O)OC[C@H](COP(=O)(O)OCCN)OC(=O)CCCCC/C=C/CCCCCCCCCC', 'CCCCCC=CCC=CCCCCCCCCCC(=O)OC[C@H](COP(=O)(O)OCCN)OC(=O)CCCCCCCC=CCCCCCC', 'CCCCCCCCCCCCCCCC/C=C/O[C@H](COC(=O)CCCCCCC/C=C\\\\C=C\\\\C(=O)CCCCC)COP(=O)(O)OCCN', 'CO[C@H]1CN(C(=O)CCCC(=O)NCCCOCCOCCOCCCNC(C)(C)C)CCc2c(nnn2CCOCCN(C)C(C)(C)C)[C@@H]1OC', 'C=C/C=C(C=C)/C(/C=C\\\\CN(C1=CCC(C2=CCCCC=C2)C=C1)C1=CC=C(C(=C)/C=C\\\\C(=C)C[C@H](/C=C/CCC=C)C2=CCCC(/C=C\\\\C)=C2C)CC1)=C/C', 'CCCCCCCCCC/C=C/CCCCCC(=O)O[C@H](COC(=O)/C=C/C=C/CCCCCCCCCCCCC)COP(=O)(O)OCCN', 'CC1CC([C@H](OC(=O)N2CCC2)C(C)C)OC2C1[C@@]1(C)CCC34CC35CC[C@H](OC(=O)N3CCN(CC(C)(C)O)CC3)C(C)(C)[C@@H]5CCC4[C@]1(C)[C@H]2O', 'CCCCCC/C=C/C=C/CCCCCCCC(=O)O[C@H](COC(=O)CCCC/C=C/CCCCCCCCCCC)COP(=O)(O)OCCN', 'CCCCCCCC/C=C/CCCCCCCC(=O)OC(CC[N+](C)(C)C)OC(=O)CCCCCCC/C=C/CCCCCCCC.[Br-]', 'CC/C=C/C/C=C/C/C=C/CCCCCCCC(=O)OC[C@H](COP(=O)(O)OCCN)OC(=O)CCCCCCCCCCCCCCCCC', 'CCCCC=CCCCCCCCC(=O)OC[C@H](COP(=O)(O)OCCN)OC(=O)CCCCCCCCCCCC=CCC=CCCCCC', 'CC(C)c1cc(C(C)C)c([Si](C2=CC=C=C[CH]2)=[Si](c2c(C(C)C)cc(C(C)C)cc2C(C)C)c2c(C(C)C)cc(C(C)C)cc2C(C)C)c(C(C)C)c1', 'CCC/C=C\\\\CCCCCCCC(=O)OCC(COP(=O)([O-])OCC[N+](C)(C)C)OC(=O)CCCCCCCCC/C=C\\\\C/C=C\\\\CCCCC', '[2H]C([2H])([2H])c1cc2c3c(c1)N(c1ccc4c(c1)C(C)(C)CC4(C)C)c1cc4c(cc1B3c1ccc(C(C)(C)C)cc1N2c1cccc(C(C)(C)C)c1)C(C)(C)CC4(C)C', 'CCCC/C=C/CCCCCCCC(=O)OC[C@H](COP(=O)(O)OCCN)OC(=O)CCCCCCCCCCC/C=C/C/C=C/CCCCC', 'CCCCCC=CCC=CCC=CCCCCCCC(=O)OC[C@H](COP(=O)(O)OCCN)OC(=O)CCCCCCCCCCCCCCC', 'CCCCC/C=C\\\\C/C=C\\\\C/C=C\\\\CCCCCCC(=O)OCC(COP(=O)(O)OCCN(C)C)OC(=O)CCCCCCCCCCCCC', 'CCCCC/C=C\\\\C=C\\\\C(=O)CCCCCCCC(=O)OC[C@H](COP(=O)(O)OCCN)O/C=C/CCCCCCCCCCCCCCCC', 'CC(C)[C@@H](OC(=O)N1CCC1)[C@H]1C[C@@H](C)[C@H]2[C@H](O1)[C@H](O)[C@@]1(C)[C@@H]3CC[C@H]4C(C)(C)[C@@H](OC(=O)N5CCN(CC(C)(C)O)CC5)CC[C@@]45CC35CC[C@]21C', 'CCCCCCCC/C=C/CCCCCCCC(=O)OC[C@H](COP(=O)(O)OCCN)OC(=O)/C=C/C=C/CCCCCCCCCCCCC', 'C#C.CCCCC/C=C\\\\[C@@H]1C[C@@H]1C(=O)N1CCCC1.CCCC[C@@H](C=O)CCCC(=O)CNC(=O)OC(C)(C)C.CCO.O=CNCc1ccccc1', 'CCCCCCCCCCC/C=C/CCCCC(=O)O[C@H](COC(=O)/C=C/C=C/CCCCCCCCCCCCC)COP(=O)(O)OCCN', 'CCCCCCCCCCCCCCCC(=O)N(CCCNC(=O)[C@@H](N)Cc1c[nH]c2ccccc12)CCCNC(=O)[C@@H](N)Cc1c[nH]c2ccccc12', 'CCCCCC=CCC=CCC=CCCCCC(=O)OC(COC(=O)CCCCCCCCCCCCCCCCC)COP(=O)(O)OCCN', 'CC[C@H](CC[C@@H](C)C1CCC2C3CC=C4CC(OC(=O)CCCC(=O)N(CCC(C)N)CCC(C)N)CCC4(C)C3CCC21C)C(C)C.Cl.Cl', 'CCCCCCCC/C=C/C/C=C/CCCCC(=O)OC[C@H](COP(=O)(O)OCCN)OC(=O)CCCCCCC/C=C/CCCCCCCC', 'CC(C)CCNC(=O)[C@H](C)NC(=O)C[C@H](O)[C@H](CC(C)C)NC(=O)[C@@H](NC(=O)[C@@H](NC(=O)[C@H](CCCCN)NC(=O)OC(C)(C)C)C(C)C)C(C)C', 'CCCCCCCC/C=C/C/C=C/CCCCC(=O)O[C@H](COC(=O)CC/C=C/CCCCCCCCCCCCC)COP(=O)(O)OCCN', 'CCCC/C=C\\\\C/C=C\\\\CCCCCCCC(=O)OC[C@H](COP(=O)([O-])OCC[N+](C)(C)C)OC(=O)CCCCCCC/C=C\\\\CCCCCC', 'CC/C=C/CC(O)/C=C/C=C/CCCCCCCC(=O)OC(COCCCCCCCC/C=C\\\\CCCCCCCC)COP(=O)(O)OCCN', 'CCCC/C=C/CCCCCCCCCCCC(=O)O[C@H](COC(=O)CCCCCCC/C=C/C=C/CCCCCC)COP(=O)(O)OCCN', 'CC(C)(C)c1ccc(O)cc1.CC(C)(C)c1cccc2ncccc12.CC(C)(C)c1ccccn1.CC(C)(C)c1ccncc1.CC(C)(C)c1cnccn1', '[H]/N=C(\\\\N)N1CCC[C@H]1c1nc(-c2ccc3cc(OCCCCC(C)(/C=C\\\\NCCCCCCCCC)/C(C)=N/OC(=C)[C@@H](C)CCCC)ccc3c2)no1', 'CCCCCCCC/C=C\\\\C/C=C\\\\C/C=C\\\\CCCC(=O)OCC(COP(=O)(O)OCCN(C)C)OC(=O)CCCCCCCCCCCCC', 'C=C(C)[C@@H]1CC[C@]2(CC(=O)NC3CCCc4ccccc43)CC[C@]3(C)[C@H](CC[C@@H]4[C@@]5(C)CC[C@H](OC(=O)CC(C)(C)CC(=O)O)C(C)(C)[C@@H]5CC[C@]43C)[C@@H]12', 'CCC1CC(C(OC(=O)N2CCC2)C(C)C)OC2CC3(N)C4CCC5C(C)(C)C(OC6CN(C(=O)OC(C)(C)C)CCO6)CCC56CC46CCC3(C)C12', '[2H]C([2H])([2H])c1cc2c3c(c1)N(c1ccc4c(c1)C(C)(C)CC4(C)C)c1cc4c(cc1B3c1cc(C(C)(C)C)ccc1N2c1ccc(C(C)(C)C)cc1)C(C)(C)CC4(C)C', 'CCCC/C=C\\\\CCCCCCCC(=O)O[C@H](COC(=O)CCCCCCCCCCC/C=C\\\\C/C=C\\\\CCCCC)COP(=O)(O)OCCN', 'CCCCCCCC/C=C/C/C=C/CCC(=O)OC(COC(=O)CCCCC/C=C/CCCCCCCCC)COP(=O)([O-])OCC[N+](C)(C)C', 'CCCCC[C@H](CC(=O)N1CCC(c2ccc(CCCC)cc2)CC1)C(=O)N[C@H](C(=O)C[C@@H](C)C(=O)N[C@@H](CCCCC)C(=O)O)[C@@H](C)OC(C)(C)C', 'CC/C=C\\\\C/C=C\\\\C/C=C\\\\CCCCCCCC(=O)OC(COC(=O)CCCCCCCCCCCCCCC)COP(=O)(O)OCCN(C)C', 'CCCCC/C=C\\\\C/C=C\\\\C/C=C\\\\CCCCCCC(=O)OC[C@H](COP(=O)([O-])OCC[N+](C)(C)C)OC(=O)CCCCCCCCCCCC', 'CCCCCCCC/C=C\\\\CCCCCC/C=C/O[C@H](COC(=O)CCCCCCC/C=C\\\\CC1OC1CCCCC)COP(=O)(O)OCCN', 'CC/C=C\\\\C/C=C\\\\C/C=C\\\\C/C=C\\\\C/C=C\\\\CCCCCCCC(=O)NC(CS(=O)(=O)O)C(O)/C=C/CC/C=C/CC/C=C/CCCCCCCC', 'C=CCCCCCCCCCCCCCCCC(=O)OC[C@H](COP(=O)(O)OCCN)OC(=O)CCCC/C=C/C/C=C/CCCCCCCC', 'CCCCCCCC=C=CCCCCCCCC(=O)O[C@H](COC(=O)CCCCCCC/C=C/CCCCCCCC)COP(=O)(O)OCCN', 'CCCCC/C=C/CCCCCCCC(=O)OC[C@H](COP(=O)([O-])OCC[N+](C)(C)C)OC(=O)CCCCCCC/C=C/C=C/CCCCCC', 'CCC/C=C\\\\C/C=C\\\\CCCCCCCC(=O)OC(COC(=O)CCCCCCC/C=C\\\\CCCCCCC)COP(=O)([O-])OCC[N+](C)(C)C', 'C=CCCCCCCCCCCCCCCCC(=O)O[C@H](COC(=O)/C=C/C=C/CCCCCCCCCCCCC)COP(=O)(O)OCCN', 'C=CCCCCCCCCCCCCCCCC(=O)O[C@H](COC(=O)CCCC/C=C/C/C=C/CCCCCCCC)COP(=O)(O)OCCN', 'CCCCCCCC/C=C/C/C=C/CCC(=O)OC(COC(=O)CCCCCCCCC/C=C/CCCCCCCC)COP(=O)(O)OCCN', 'CCCCCCCC/C=C\\\\CCCCCCCC(=O)OCC(C[N+](C)(C)C)OC(=O)CCCCCCC/C=C\\\\CCCCCCCC.[Br-]', 'CCC=CCC=CCC=CCCCCCCCCCC(=O)OCC(COP(=O)(O)OCCN)OC(=O)CCCCCCCCCCCCCCC', 'C=C(C)[C@@H](OC(=O)N(C)C)[C@H]1C[C@@H](C)[C@H]2[C@H](O1)[C@H](O[Si](CC)(CC)CC)[C@@]1(C)[C@@H]3CC[C@H]4C(C)(C)C(O[C@H]5CCCCO5)CC[C@@]45CC35CC[C@]21C', 'CC/C=C\\\\C/C=C\\\\C/C=C\\\\CCCCCCCCCC(=O)OCC(O)COP(=O)(O)OCCNC(=O)CCCCCCCCCCCCCCC', 'CCCCC/C=C/C/C=C/CCCCCCCC(=O)OC[C@H](COP(=O)(O)OCCN)OC(=O)CCCC/C=C/CCCCCCCCCCC', 'CCCCCCCC/C=C/CCCCCCCC(=O)O[C@H](COC(=O)/C=C/C=C/CCCCCCCCCCCCC)COP(=O)(O)OCCN', 'CCOCC(COCCCN)(NC(=O)C(OCCN)C(OCCCN)C(=O)NC(COCCCN)(COCCCN)OCCCN)OCCCN', 'CCCCCC=CCC=CCCCCCCCCCC(=O)OCC(COP(=O)(O)OCCN)OC(=O)CCCCCCCC=CCCCCCC', 'CC/C=C\\\\C/C=C\\\\C/C=C\\\\CCCCCCCC(=O)O[C@H](COC(=O)CCCCCCCCCCCCCCCCC)COP(=O)([O-])OCC[NH3+]', 'CCCCCCCC/C=C\\\\CCCCCCCC(=O)OC[C@H](COP(=O)([O-])OCC[NH-])OC(=O)CCCCCCC/C=C\\\\CCCCCCCC', 'CC/C=C/C/C=C/C/C=C/CCCCCCCC(=O)O[C@H](COC(=O)CCCCCCCCCCCCCC)COP(=O)([O-])OCC[N+](C)(C)C', 'CCCC/C=C/CCCCCCCCCCCC(=O)OC[C@H](COP(=O)(O)OCCN)OC(=O)CCCC/C=C/C/C=C/CCCCCCCC', 'CCCCC/C=C\\\\C/C=C\\\\C/C=C\\\\CCCCCCC(=O)OC(COC(=O)CCCCCCCCCCCCCC)COP(=O)(O)OCCNC', 'CCCCCC/C=C\\\\C/C=C\\\\CCCCCCCC(=O)OCC(O)COP(=O)(O)OCCNC(=O)CCCCCCC/C=C\\\\CCCCCCC', 'FC(F)(F)C(I)(I)CC(I)(I)I', 'CCCCC/C=C\\\\C=C\\\\C(=O)CCCCCCCC(=O)O[C@H](CO/C=C/CCCCCCCCCCCCCCCC)COP(=O)(O)OCCN', 'CCCCC/C=C\\\\C/C=C\\\\CCCCCCCC(=O)OCC(O)COP(=O)(O)OCCNC(=O)CCCCCCC/C=C\\\\CCCCCCCC', 'CCCCCC/C=C/CCCCCCCCCC(=O)O[C@H](COC(=O)/C=C/C=C/CCCCCCCCCCCCC)COP(=O)(O)OCCN', 'CC[C@@H](CC(=O)[C@H](C)[C@@H](OC)[C@@H]1CCCN1C(=O)C[C@@H](OC)[C@H]([C@@H](C)CC)N(C)C(=O)[C@@H](CC(=O)N1C[C@H](C)O[C@@H](C)C1)C(C)C)Cc1ccccc1', 'CCCCCC/C=C\\\\CCCCCCCC/C=C/O[C@H](COC(=O)CCCCCCC/C=C\\\\CC1OC1CCCCC)COP(=O)(O)OCCN', 'CCC/C=C\\\\C/C=C\\\\CCCCCCCC(=O)NCCOP(=O)(O)OCC(O)COC(=O)CCCCCCCCC/C=C\\\\CCCCCCCC', 'CCCC/C=C\\\\C/C=C\\\\CCCCCCCC(=O)O[C@H](COC(=O)CCCCCCC/C=C\\\\CCCCCC)COP(=O)([O-])OCC[N+](C)(C)C', 'CCCCCC/C=C/CCCCCCCCCC(=O)O[C@H](COC(=O)CCCC/C=C/C/C=C/CCCCCCCC)COP(=O)(O)OCCN', 'CCCC/C=C/CCCCCCCC(=O)O[C@@H](COC(=O)CCCCCCCCCCC/C=C/C/C=C/CCCCC)COP(=O)(O)OCCN', 'CCCCC/C=C\\\\C/C=C\\\\CCCCCCCCCC(=O)NCCOP(=O)(O)OCC(O)COC(=O)CCCCCCC/C=C\\\\CCCCCC', 'CC/C=C\\\\C/C=C\\\\C/C=C\\\\C/C=C\\\\C/C=C\\\\CCCCCCCCCC(=O)NC(CS(=O)(=O)O)C(O)/C=C/CC/C=C/CC/C=C/CCCCCC', 'C=CCCCCCCCCCCCCCCCC(=O)O[C@H](COC(=O)CCCCCCC/C=C/C=C/CCCCCC)COP(=O)(O)OCCN', 'CC/C=C\\\\C/C=C\\\\C/C=C\\\\C/C=C\\\\C/C=C\\\\C/C=C\\\\C/C=C\\\\CCCC(=O)OC(/C=C\\\\C/C=C\\\\C/C=C\\\\C/C=C\\\\CC)CCCCCC(=O)NCC(=O)O', 'CC(C)CCCCCC(=O)NC(C(=O)NC(C(=O)NC(CC(C)C)C(O)CC(=O)NC(C)C(=O)NC(CC(C)C)C(O)CC(=O)O)C(C)C)C(C)C', 'CCCCC/C=C/C/C=C/C/C=C/CCCCC(=O)O[C@H](COC(=O)CCCCCCCCCCCCCCCCC)COP(=O)(O)OCCN', 'CCCCC/C=C/C/C=C/C/C=C/CCCCC(=O)OC[C@H](COP(=O)([O-])OCC[N+](C)(C)C)OC(=O)CCCCCCCCCCCCCC', 'CCCC/C=C\\\\CCCCCCCC(=O)OCC(COP(=O)([O-])OCC[N+](C)(C)C)OC(=O)CCCCCCC/C=C\\\\C/C=C\\\\CCCCCC', 'CCCCC/C=C/C/C=C/CCCCCCCC(=O)O[C@H](COC(=O)CCCCC/C=C/CCCCCCCCCC)COP(=O)(O)OCCN', 'CCCCCC/C=C\\\\C/C=C\\\\CCCCCCCC(=O)OC(COC(=O)CCCCCCC/C=C\\\\CCCCCCC)COP(=O)(O)OCCN', 'CCC/C=C\\\\C/C=C\\\\CCCCCCCC(=O)OCC(O)COP(=O)(O)OCCNC(=O)CCCCCCCCC/C=C\\\\CCCCCCCC', 'CCCC/C=C/CCCCCCCCCCCC(=O)OC[C@H](COP(=O)(O)OCCN)OC(=O)CCCCCCC/C=C/C=C/CCCCCC', 'CN[C@H](C(=O)C[C@H](C(=O)N(C)[C@@H](C1CCCCC1)[C@@H](CC(=O)N1CCC[C@H]1[C@H](OC)[C@@H](C)C(=O)C[C@H](C)[C@@H](O)c1ccccc1)OC)C(C)C)C(C)C', 'CC(C)CCCC(C)C1CCC2C3CC=C4CC(OC(=O)CCCC(=O)N(CCCN(C)C)CCCN(C)C)CCC4(C)C3CCC12C.Cl.Cl', 'CCCCC/C=C\\\\C/C=C\\\\C/C=C\\\\CCCCC(=O)OC[C@H](COP(=O)([O-])OCC[N+](C)(C)C)OC(=O)CCCCCCCCCCCCCC', 'CC/C=C\\\\C/C=C\\\\C/C=C\\\\CCCCCCCC(=O)OC[C@H](COP(=O)(O)OCCN)OC(=O)CCCCCCCCCCCCCCCCC', 'CCCCCCC/C=C\\\\C/C=C\\\\C/C=C\\\\CCCCCCCCCCCCC(=O)OC(COC(=O)CCCCCCC)COP(=O)(O)OCCN', 'CN[C@@H](CCCCNC(=O)COCCOCCNC(=O)CCC(NC(=O)CCCCCCCCCCCCCCCCC(C)=O)C(=O)O)C(=O)CN', 'CCCCCCCCCCCCC/C=C\\\\C/C=C\\\\OCC(COP(=O)(O)OCCN)OC(=O)CCCCCCC/C=C\\\\C=C\\\\C(O)CCCCC', 'CC(C)(C)OC(=O)CN1CCN(CC(=O)OC(C)(C)C)CCN(C(CCC(=O)CCCN)C(=O)OC(C)(C)C)CCN(CC(=O)OC(C)(C)C)CC1', 'CCCCCC=CCC(O)C=CC=CCC=CCCCC(=O)OC(COCCCCCCCCCCCCCCCC)COP(=O)(O)OCCN', 'CCCCC=CCCCCCCCC(=O)O[C@H](COC(=O)CCCCCCCCCCCC=CCC=CCCCCC)COP(=O)(O)OCCN', 'CCCCCCCCCCCCCCCC(=O)N[C@@H](Cc1cnc[nH]1)C(=O)N[C@@H](C)C(=O)N[C@H](C(=O)N[C@@H](Cc1cnc[nH]1)C(=O)NC(C)C)C(C)C', 'CC/C=C/C=C/C=C/CCCCCCCC(=O)OC(COC(=O)CCCCCCCCCCCCCCCCCCC)COP(=O)(O)OCCN', 'CCCCCCCCCCCCCCCC(=O)N[C@@H](Cc1cnc[nH]1)C(=O)N[C@@H](C)C(=O)N[C@@H](C(=O)N[C@@H](Cc1cnc[nH]1)C(=O)NC(C)C)C(C)C', 'CCC(C)P(=O)(O)OCCOCCOCCOCCCNC(=O)O[C@H]1CC[C@@]2(C)C(=CCC3C4CCC([C@H](C)CCCC(C)C)[C@@]4(C)CCC32)C1.[H][H]', 'CCCCCC=CCC=CCCCCCCCC(=O)OCC(COP(=O)(O)OCCN)OC(=O)CCCCCCCC=CCCCCCCCC', 'CCCCC/C=C/CCCCCCCC(=O)OC[C@H](COP(=O)([O-])OCC[N+](C)(C)C)OC(=O)CCCC/C=C/C/C=C/CCCCCCCC', 'C#CCC(NC)NC=O.CC.CC(CC/C=C/C=O)C1CCC2C3C(O)CC4CC(O)CCC4(C)C3CC(O)C12C.CCOSC.COCCN', 'CCCCCC=CCC=CCCCCCCCCCC(=O)OC(COC(=O)CCCCCCCC=CCCCCCC)COP(=O)(O)OCCN', 'CCCCC/C=C/CCCCCCCC(=O)O[C@H](COC(=O)CCCC/C=C/C/C=C/CCCCCCCC)COP(=O)([O-])OCC[N+](C)(C)C', 'CCCCCCCC/C=C/C/C=C/C/C=C/CCCC(=O)OC[C@@H](COP(=O)([O-])OCC[N+](C)(C)C)OC(=O)CCCCCCCCCCCC', 'C1=C\\\\[Se]/C=C\\\\[Se]/C=C\\\\[Se]/C=C\\\\[Se]/C=C\\\\[Se]/C=C\\\\[Se]/C=C\\\\[Se]/1', 'CC/C=C\\\\C/C=C\\\\C/C=C\\\\C/C=C\\\\C/C=C\\\\C/C=C\\\\C/C=C\\\\CCCC(=O)NC(CS(=O)(=O)O)C(O)/C=C/CCCCCCCCCCCCCC', 'C=C/C(C)=C\\\\C=C/CC.C=C/C=C\\\\C(C)=C/C.CCc1cc(C)c2ccc3c(CC)cc(Nc4cc(C)cc(C)c4)c4ccc1c2c34.Cc1cc(C)cc(C)c1', 'CCCC/C=C/C/C=C/CCCCCCCC(=O)O[C@H](COC(=O)CCCCC/C=C/CCCCCCCC)COP(=O)([O-])OCC[N+](C)(C)C', 'CCCCC/C=C\\\\C/C=C\\\\CCCCCCCC(=O)OC[C@H](COP(=O)(O)OCCN)OC(=O)CCCCCCC/C=C\\\\CCCCCCCC', 'C=C/C(=C(\\\\C=C/C)c1ccccc1)c1cccc(C(/C=C\\\\C=C/C)=C\\\\c2ccccc2-c2cc(C3=CC=CNC3)cc(C(C)C/C=C\\\\C)c2)c1.CC.CC.CC', 'CC(C)C1=C2C3CCC4C(C)(CCC5C(C)(C)C(OC(=O)CC(C)(C)C=O)CCC54C)C3CCC2(C(O)CN2CCC(Cc3ccccc3)CC2)CC1=O', 'CCCCC/C=C\\\\C/C=C\\\\C/C=C\\\\C/C=C\\\\CCCC(=O)O[C@H](COC(=O)CCCCCCCCCCCCCCCCC)COP(=O)([O-])O.[NH4+]', 'CC/C=C\\\\C/C=C\\\\C/C=C\\\\CCCCCCCC(=O)OC[C@H](COP(=O)([O-])OCC[N+](C)(C)C)OC(=O)CCCCCCCCCCCCCC', 'CCCCC/C=C\\\\C/C=C\\\\C/C=C\\\\CCCCCCC(=O)O[C@H](COC(=O)CCCCCCCCCCCC)COP(=O)([O-])OCC[N+](C)(C)C', 'CCCCCCCC/C=C/CCCCCC(=O)OC[C@H](COP(=O)(O)OCCN)OC(=O)CCC/C=C/C/C=C/CCCCCCCCCCC', 'CC/C=C\\\\C/C=C\\\\C/C=C\\\\CCCCCC(=O)NCCOP(=O)(O)OCC(O)COC(=O)CCCCCCCCCCCCCCCCCCC', 'CCCCCCCC/C=C\\\\CCCCCCCC(=O)OC(CC)(OC(=O)CCCCCCC/C=C\\\\CCCCCCCC)[N+](C)(C)C.[Br-]', 'CCCCCCCC/C=C/CCCCCC(=O)O[C@H](COC(=O)CCC/C=C/C/C=C/CCCCCCCCCCC)COP(=O)(O)OCCN', 'CC(C)(C)OC(=O)CCCCCCCCCCCCCCCCC(=O)NC(CC(=O)NCCOCCOCCOCCN=[N+]=[N-])C(=O)OC(C)(C)C', 'CCCCC/C=C\\\\C/C=C\\\\CCCCCCCC(=O)OC[C@H](COP(=O)(O)OCCN)OC(=O)CCCCCCCCC/C=C\\\\CCCCCC', '[B]c1cncc(C(CCCCCCCC(CCCC)c2cncc([B]O)c2)CCCCCC(CCCC(CC)c2cncc(B(O)O)c2)c2cccnc2)c1', 'CCCCC/C=C\\\\C/C=C\\\\C/C=C\\\\CCCCCCC(=O)OCC(COP(=O)(O)OCCNC)OC(=O)CCCCCCCCCCCCCC', 'CNCCCOCCOCCOCCCNC(=O)CCCC(=O)N1CCc2c(nnn2CC(C)(C)COCC(C)(C)CN(C)C)[C@H](OC)[C@@H](OC)C1', 'CCCCC/C=C\\\\C/C=C\\\\C/C=C\\\\CCCCCCC(=O)OC[C@H](COP(=O)(O)OCCN)OC(=O)CCCCCCCCCCCCCCC', 'CCCC/C=C\\\\C/C=C\\\\CCCCCCCC(=O)OCC(O)COP(=O)(O)OCCNC(=O)CCCCCCC/C=C\\\\CCCCCCCCC', 'CCCCC/C=C/CC1OC1C/C=C\\\\C/C=C\\\\CCCC(=O)OC(COCCCCCCCCCCCCCCCC)COP(=O)(O)OCCN', 'CCCCC/C=C/C/C=C/CCCCCCCCCC(=O)OC[C@H](COP(=O)(O)OCCN)OC(=O)CCCCCCC/C=C/CCCCCC', 'CCCCCCCCCCCCC[C@H]1OC(=O)[C@H]([C@@H](C)O)NC(=O)[C@H]([C@@H](C)O[Si](C)(C)C(C)(C)C)NC(=O)[C@H](C(C)C)NC(=O)[C@H](C)[C@H](O)[C@H]1C', 'CCCCCCCC/C=C/C/C=C/C=C/C(O)CCCC(=O)OC[C@H](COP(=O)(O)OCCN)O/C=C/CCCCCCCCCCCCCC', 'CCCCCCCC/C=C/C/C=C/CCCCC(=O)O[C@H](COC(=O)CCCC/C=C/CCCCCCCCCCC)COP(=O)(O)OCCN', 'C=C(C)C1CCC2(C(=O)N3CCC(Cc4ccccc4)(C(=O)OCC)CC3)CCC3(C)C(C)(CCC4C5(C)CCC(OC(C)=O)C(C)(C)C5CCC43C)C12', 'CCCCC/C=C/C/C=C/CCCCCCCC(=O)O[C@H](COC(=O)CC/C=C/CCCCCCCCCCCCC)COP(=O)(O)OCCN', 'CCCCC/C=C/CCCCCCCC(=O)O[C@H](COC(=O)CCCCCCC/C=C/C=C/CCCCCC)COP(=O)([O-])OCC[N+](C)(C)C', 'C=C(C)[C@@H](OC(=O)N(C)C)[C@H]1C[C@@H](C)[C@H]2[C@H](O1)[C@H](O[Si](CC)(CC)CC)[C@@]1(C)[C@@H]3CC[C@H]4C(C)(C)C(O[C@H]5CCCCO5)CCC45C[C@@]35CC[C@]21C', 'CCCCC/C=C/CCCCCCCC(=O)O[C@H](COC(=O)/C=C/C=C/CCCCCCCCCCCCC)COP(=O)([O-])OCC[N+](C)(C)C', 'CCCCC/C=C\\\\CC1OC1CCCCCCCC(=O)OC[C@H](COP(=O)(O)OCCN)O/C=C/CCCCCCCC/C=C\\\\CCCCCC', 'CCCCCCCC/C=C\\\\C/C=C\\\\C/C=C\\\\CCCC(=O)OC(COC(=O)CCCCCCCCCCCCCC)COP(=O)(O)OCCNC', 'CCCCCCCCCCC(CO)NC(=O)C(CC(N)=O)NC(=O)C(CCCCCC)NC(=O)C(NC(=O)C(NC(=O)C(C)N)C(C)O)C(C)CC', 'CCCCCCCCCC[C@@H](CO)NC(=O)[C@H](CC(N)=O)NC(=O)[C@H](CCCCCC)NC(=O)[C@@H](NC(=O)C(NC(=O)[C@@H](C)N)[C@@H](C)O)[C@@H](C)CC', 'CC/C=C\\\\C/C=C\\\\C/C=C\\\\CCCCCCCC(=O)OC(COC(=O)CCCCCCCCCCCCCC)COP(=O)([O-])OCC[N+](C)(C)C', 'CC1=C(ON=C1C)NS(=O)(=O)C2=CC=C(C=C2)N', 'COCCC(Nc1ncnc2sccc12)C(=O)O', 'NC(c1ccc2c(c1)CCO2)C(F)(F)C(F)(F)F', 'COC(=O)c1ccc(Cl)c(N2CCC(=O)CC2)c1', 'NCCc1nc(C(=O)NCCC(F)(F)F)cs1', 'CN1CC(=NS(=O)(=O)c2ccccc2)N(C)C1=O', 'Cc1cc(O)ccc1NS(=O)(=O)c1cn[nH]c1C', 'COCCOc1cnc(Cl)c2ccc(OC)cc12', 'Cc1ccc(S(=O)(=O)OCc2ncn(C)n2)cc1', 'O=C(Nc1ncc(C#CCO)s1)N1CCOCC1', 'CCS(=O)(=O)Nc1ccc(-c2cc(=O)[nH][nH]2)cc1', 'COc1cc(OC)c(C(Cl)=C(C)C#N)cc1OC', 'CC(NC(=O)C(F)F)c1cccc(C(F)(F)F)c1', 'CC1(C(=O)Nc2ccc(C(=O)O)c(Cl)c2)CCC1', 'COC(=O)N1CCc2ccccc2C1C(=O)CCl', 'Cc1cc(CN2C(=O)N[C@]3(CCSC3)C2=O)on1', 'CC(C)C(C(=O)O)N1Cc2cccc(Cl)c2C1=O', 'CC1(C)C(C(=O)O)C1C(=O)Nc1ccc(Cl)cc1', 'FC[C@@]1(c2ccccc2F)C[C@@H](C(F)(F)F)ON1', 'O=C1CCCN(C(=O)COc2ccc(Cl)cc2)C1', 'OB(O)CNCc1ccc(-c2nn[nH]n2)c(Cl)c1', 'CC(=O)N1CCc2c(C(=O)O)ccc(Cl)c2C1C', 'O=C(O)CCCNC(=O)/C=C\\\\c1ccc(Cl)cc1', 'COC(=O)C[C@@H](O)CSc1nccn2ccnc12', 'CCOCCc1nnc(NC(=O)c2ccco2)s1', 'CS(=O)CCNc1nc2ccccn2c1C(=O)O', 'Nc1ccc([N+](=O)[O-])cc1C(=O)N1CCSCC1', 'COCCn1c(-c2c(O)cccc2O)n[nH]c1=S', 'CCOc1cc(OC)c(Cl)cc1C1(N=C=O)CC1', 'CC1=NN(c2ccc(S(N)(=O)=O)cc2)C(=O)CC1', 'O=C1OC(c2c[nH]c3ccccc23)c2cc(F)ccc21', 'COc1ccc(S(=O)(=O)Nc2ccn(C)n2)cc1', 'COC(=O)[C@H](O)[C@@H](C)c1c[nH]c2ccc(Cl)cc12', 'CCCCCCN1CC(S(=O)(=O)Cl)CC1=O', 'CC1(C)CN(c2nnc(C(F)(F)F)s2)C[C@H]1O', 'CCN(CC(=O)O)Cc1noc(-c2cccs2)n1', 'O=C(O)c1c(Cl)cccc1N1CC2CCC(C1)O2', 'NC(CNS(N)=O)c1cccc(C(F)(F)F)c1', 'Cc1cc(C)c(O)c(NS(=O)(=O)c2cn[nH]c2)c1', 'CC1(C(=O)O)CCN1C(=O)Cc1ccccc1Cl', 'Nc1nc(C(=O)NCCCCC(F)(F)F)cs1', 'CCOC(=O)c1cc(N2CCCC2=O)ccc1Cl', 'Cc1noc(CNCc2cc(C(=O)O)sc2C)n1', 'Cc1ccc(-c2nnc(CNS(C)(=O)=O)o2)cc1', 'O=C1COc2ccc(Cl)cc2N1[C@H]1CCC[C@@H]1O', 'CC(=O)NC(CN=O)C(=O)N(S)c1ccccc1', 'O=CC(CO)Oc1cc(-c2ccnc(F)c2)n(O)n1', 'NS(=O)(=O)CCNC(=O)c1ccc2[nH]ccc2c1', 'CNC1CC(Oc2c(F)c(F)c(F)c(F)c2F)C1', 'C[C@H](OC(=O)C1CC1)C(=O)Nc1cccc(Cl)c1', 'O=C1CCN(C(=O)CSc2nccc(=O)[nH]2)CC1', 'O=C(N[C@H]1CN2CC[C@H]1C2)c1ccc([N+](=O)[O-])s1', 'Cc1ccc(S(=O)(=O)N(C)c2ccc(N)cn2)o1', 'O=C(O)C1CCN(Cc2ccc(Cl)cc2)C(=O)C1', '[C-]#[N+]c1cc(-c2ccc(C)c(O)c2)c2cc(F)oc2c1', 'COCCNC(=O)Cn1cnc2sccc2c1=O', 'O=C(OC(=O)N1CCCCC1)c1cccc(Cl)c1', 'O=CCCC/C=C(\\\\Cc1ccc(Cl)cc1)[N+](=O)[O-]', 'COc1ccc(OC)c(-c2cnc(CCCl)o2)c1', 'C/C(C(=O)O)=C(\\\\C)C(=O)Nc1cc(Cl)ccc1C', 'O=C1CC(Cl)CN1CCc1cccc2c1OCO2', 'NC(=O)c1cc(N2CCSCC2C(=O)O)ccn1', 'COC(=O)COc1nc(-c2cccc(F)c2)n(O)n1', 'Br.[H]/N=C(\\\\N)N(N)CCCCNC(C)=O', 'Cn1ccnc1CNS(=O)(=O)c1cccc(O)c1', 'Cc1cnc(C(=O)N2CC3CC2CS3(=O)=O)cn1', 'Cc1sc(NC(=O)C(N)CC(=O)O)c(C#N)c1C', 'Fc1c(F)c(F)c(ON2CCCCC2)c(F)c1F', 'CNCC(=O)c1c2c(c(Cl)c3c1OCC3)OCC2', 'O=C(O)C1CN(CC2Cc3cc(Cl)ccc3O2)C1', 'CS(=O)(=O)Nc1ccccc1NCc1cnco1', 'N#Cc1ccc(N)cc1S(=O)(=O)N1CCOCC1', 'Cc1cccc2c1-c1ncccc1C(F)(F)C2(F)F', 'NC1CCCCC1Oc1nnc(C(F)(F)F)s1', 'C=CCC(NC(=O)c1cc(Cl)ccc1C)C(=O)O', 'NCc1ccc(-c2nc(C3CSCCO3)no2)o1', 'N#Cc1cc(NC(=O)NC(CO)C(=O)O)ccc1F', 'CC1(NS(=O)(=O)c2cccnc2C#N)CCOC1', 'CN(C)S(=O)(=O)c1ccc(NC(=O)CC#N)cc1', 'CC(C)OC(=O)Oc1cccc2cccnc12.Cl', 'CC(CO)N(C)c1ccc2scnc2c1[N+](=O)[O-]', 'CC(Oc1cccc(C(N)=S)c1)C(=O)NC(N)=O', 'COc1cc(Cl)cc(C)c1C1=C(O)C(C)NC1=O', 'O=c1cccc2nc(CC3CCS(=O)(=O)C3)[nH]n12', 'O=Cc1cc(F)cc(Oc2cnc3ccccc3c2)c1', 'CCOc1ccc(OCC)c2c(=O)c(Cl)c[nH]c12', 'Cc1cc(Cl)cc2c1NC(=O)[C@@H](C(C)C)OC2=O', 'Cc1cc(NS(=O)(=O)c2ccc(O)cc2)n(C)n1', 'COC(=O)C1(C(=O)Nc2ccc(Cl)cc2C)CC1', 'N#Cc1ccc(S(=O)(=O)N(CCO)C2CC2)cn1', 'CN(Cc1cscn1)C(=O)CNCC(F)(F)F', 'COC(=O)C12C3C4C1C1C2C3C41C(=O)NCCCl', 'O=C(c1cc(O)ccc1Cl)N1CC(O)(C2CC2)C1', 'O=C([O-])C=CC(=O)Oc1ccc(-c2ccccc2)cc1', 'Cc1cc(NC(=O)NCC(O)c2ccsc2)no1', 'CNC(=O)c1ccc(C)c(Cl)c1.O=C1C=CCO1', 'COC(=O)CCC(=O)N1CCc2cc(Cl)ccc21', 'CNc1cc(SC(C)CO)nc(C(F)(F)F)n1', 'O=C(CNC(=O)c1cccs1)NNC(=O)C1CC1', 'Cc1cc(NS(=O)(=O)c2ccccc2O)n(C)n1', 'O=C(CC1CCC1)Nc1ccc(Cl)c(C(=O)O)c1', 'COC1CCN(c2nnc(C(F)(F)F)s2)CC1', 'Cc1nnsc1C(=O)NCCC(O)c1ccoc1', 'C=C(C)COCCNc1nc(C(F)(F)F)ns1', '[C-]#[N+]c1cc(C(=O)CC(=O)c2ccccc2)ccc1F', 'Nc1ccc(NC(=O)NC2C=CS(=O)(=O)C2)cc1', 'COC1CC(NS(=O)(=O)c2ccc(C#N)nc2)C1', 'CC(CNC(=O)Cc1csc2nccn12)C(=O)O', 'Cc1cc(CNc2ccc(S(N)(=O)=O)cc2)no1', 'Cc1ccc(NS(=O)(=O)c2cn[nH]c2C)cc1O', 'CN(CCC(=O)O)Cc1cc(=O)n2ccsc2n1', 'Cc1nnc(NC(=O)[C@H]2CC=CC[C@@H]2C(=O)O)s1', 'C=CCNC(=S)Nc1ccc([N+](=O)[O-])cc1OC', 'CS(=O)(=O)c1nnc([C@@H](N)Cc2ccccc2)o1', 'O=C([O-])c1cccnc1CCc1ccc(F)cc1.[Na+]', 'O=Cc1ccc(Oc2cnc3ccccc3c2)c(F)c1', 'Nc1ccc2nc(SCC(O)CC(=O)O)[nH]c2c1', 'CCCc1oc2ccc(Cl)nc2c1CC(=O)OC', 'Cc1ccc(CNS(=O)(=O)c2ccnc(N)c2)o1', 'Nc1cc(N)c(NCc2cccnn2)c(F)c1Cl', 'C#CCON=C(C(=O)OCC)c1c[nH]c(SN)c1', 'CN(C(=O)C(=O)NCC(N)=S)c1ccc(O)cc1', 'COc1cccc(-n2ncc(S(C)(=O)=O)c2N)c1', 'CNS(=O)(=O)c1cccc(NCc2cnco2)c1', 'C=CC(=O)C[C@H](Cc1ccc(Cl)cc1)NC(=O)O', 'CCOc1cc(OC)c2ccc(OC)c(Cl)c2n1', 'CC(C(=O)O)N(C)C(=O)Cc1cn2ccsc2n1', 'Fc1cc(F)c(F)c(N2CC2c2ccccc2)c1F', 'O=S1(=O)CCNC(c2ncc3c(O)cccn23)C1', 'COc1cccc(C(=O)N2CCCC2C(=O)Cl)c1', 'CC(C)C(=O)CNS(=O)(=O)c1cccnc1C#N', 'CNCCCc1ncc(-c2ccc([N+](=O)[O-])s2)o1', 'COCCNC(=O)c1sc2nc[nH]c(=O)c2c1C', 'Cc1cccc(NS(=O)(=O)c2ccnn2C)c1O', 'CC(=O)c1cc(Cl)ccc1OC1CCN(C)C1=O', 'CC1=CC(=NS(=O)(=O)c2ccc(N)cc2)NOC1', 'O=C(C=CN1CCOCC1)c1cc(Cl)ccc1O', 'Cc1c(Cl)ccc2c(C(C)O)cn(CC(=O)O)c12', 'Cc1nc(CNCc2ccc([N+](=O)[O-])s2)oc1C', 'CC(O)C1CCN(c2nnc(C(F)(F)F)s2)C1', 'CS(=O)(=O)Nc1ccc(CC2=NNC(=O)C2)cc1', 'O=S1(=O)N=C(NN2CCOCC2)c2ccccc21', 'CC(C)NC(=O)Cn1nc(-c2cccs2)oc1=O', 'O=C1CN(C(=O)c2cccc(F)n2)C(C(=O)O)CN1', 'CC(N)c1ccc(S(=O)(=O)Nc2cnoc2)cc1', 'NC/C(=C\\\\F)Cc1cc(OC(F)(F)F)ccc1F', 'O=S(=O)(CCn1ccnn1)Cc1ccc(O)cc1', 'O=C(Cc1ccc(Cl)cc1)NC1CC(C(=O)O)C1', 'N#CC(NCCCN=[N+]=[N-])c1c(F)cccc1Cl', 'O=C(NCCc1ccccc1)C(F)(F)C(F)(F)F', 'Cn1nc(-c2cc(S(C)(=O)=O)ccc2O)cc1N', 'CCOC(=O)c1ccc(N2CC(Cl)CC2=O)cc1', 'O=C(CCCl)NC1CCOc2ccccc2C1=O', '[C-]#[N+]c1ccc(CC(C(=O)O)[C@H](C)O)c(C)c1Cl', 'CS(=O)(=O)Nc1cccc(NCc2cnco2)c1', 'O=C(O)C1CN(C(=O)CCc2ccccc2Cl)C1', 'NC(=S)Nc1ccc(C(=O)NCCC(=O)O)cc1', 'COCC(C#N)=Cc1cc(OC)c(Cl)c(OC)c1', 'S=c1oc(-c2ccco2)nn1CN1CCOCC1', 'O=[N+]([O-])c1c(B(O)O)c2ccccc2c2ccccc12', 'COC(=O)[C@@H]1C(=O)N[C@H](C)[C@@H]1c1ccc(Cl)cc1', 'O=Cc1c(Cl)cc(CC2CCCN2)c2c1OCO2', 'O=C(c1ccccc1)C1CCCCC1S(=O)(=O)[O-]', 'Cc1cc(S(=O)(=O)Nc2cn[nH]c2)ccc1CO', 'CC(CCl)S(=O)(=O)N1CCOC2CCCC21', 'NCc1ccccc1S(=O)(=O)NCc1ccno1', 'COc1nc(N)nc(OC)c1OC(O)(O)C(F)F', 'O=C(O)CNC(=O)C1(c2cccc(Cl)c2)CCC1', 'OCC1CN(Cc2c(F)c(F)c(F)c(F)c2F)C1', 'CCOc1cc2c(=O)n(N)c(=S)[nH]c2cc1OC', 'CC12CN(C(=O)O)CC1c1cccc(Cl)c1CO2', 'N#Cc1ccc(/C=C\\\\C(=O)c2ccc(O)cc2F)cc1', 'CC(N)=O.NC(=O)Cn1sc2ccccc2c1=O', 'O=C(O)c1ccc(N2CCCCCC2=O)cc1Cl', 'CCN1C(=O)C[C@@H](C(=O)O)[C@@H]1c1ccccc1Cl', 'NC1CC1NS(=O)(=O)c1ccc2c(c1)CC(=O)N2', 'COC(=O)c1ccc(Cl)c(NC(=O)C=C(C)C)c1', 'COc1cc(C)sc1C(=O)OCCn1cncn1', 'O=S(=O)(NCc1ncc[nH]1)c1ccc(CO)cc1', 'CN(Cc1ccc(C(F)(F)F)cc1)C(=O)C(F)F', 'CNC(=O)CNS(=O)(=O)Cc1ccccc1C#N', 'COCCNC(=O)C1=Cc2cc(Cl)ccc2OC1', 'Cc1cc(Nc2ccc(Cl)cc2F)nc(NN)n1', 'CCOC(=O)c1c(SC)nc2c(OC)nccn12', 'CCNS(=O)(=O)c1occc1-c1ncc(C)cn1', 'COC(=O)C1CC(=O)N(c2ccc(Cl)cc2C)C1', 'Cc1c(C(=O)NC(C)CO)sc2nc[nH]c(=O)c12', 'O=C(O)c1c(F)cccc1-c1cccc2cnccc12', 'Cn1ccnc1CNS(=O)(=O)c1ccccc1O', 'Cc1cc(N)ccc1-c1nc(CS(C)(=O)=O)no1', 'CC(N)c1nc(-c2cccc(S(C)(=O)=O)c2)no1', 'Cc1ccc(Cl)cc1C(=O)NC1(C(=O)O)CCC1', 'COc1ccc(CC2(C#N)CCS(=O)(=O)C2)nn1', 'O=C(CNC(=O)C1CCCO1)c1cccc(Cl)c1', 'NCc1cc(C(=O)N2CSC[C@H]2C(=O)O)ccn1', 'O=Cc1c(F)cccc1Oc1cccc2cccnc12', 'OC[C@@H]1OC[C@H](n2ccc3c(=S)nc[nH]c32)[C@H]1O', 'CC(C)(C)C(=O)Cn1c(=O)oc2cc(Cl)ccc21', 'Cc1nc(S(=O)(=O)Nc2ccccc2O)cn1C', 'CS(=O)(=O)c1ccccc1NCCc1ncno1', 'CNS(=O)(=O)CCNC(=O)c1cccc(C#N)c1', 'C[C@H](NC(=O)[C@@H]1C[C@@H]1c1ccccc1Cl)C(=O)O', 'COc1ccc(C(O)CCl)c2ccc(=O)n(C)c12', 'COc1ccc(C(=O)N/C(=N\\\\C(N)=O)SC)cc1', 'C=CC[C@@H](NC(=O)c1ccc(Cl)cc1)C(=O)OC', 'CCc1c(O)n(Cc2nc(C)cs2)c(=O)[nH]c1=O', '[H]/N=C(/Cc1cccc(Cl)c1)C(C(=O)OC)=C(C)O', 'C[C@@H](NC(=O)[C@@H]1C[C@@H]1C(=O)O)c1ccc(Cl)cc1', 'O=C(O)c1ccc(F)c(-c2cnc3ccccc3c2)c1', 'CS(=O)(=O)CC(=O)NC1CCCCCC1Cl', 'O=C(O)c1ccc(F)c(-c2cccc3cnccc23)c1', 'CCOC(=O)[C@@]1(Cl)CCN(c2ccccc2)C1=O', 'COC(=O)c1cccc(N2CC3(COC3)C2)c1Cl', 'COCCNC(=O)Nc1nc2ccc(O)cc2s1', 'CCS(=O)CCNc1ccc(C(F)(F)F)nn1', 'N#Cc1ccc(S(=O)(=O)NCC2(O)CNC2)cc1', 'N#CC1CCCC1NS(=O)(=O)c1c[nH]ccc1=O', 'Cc1nc([C@H](C)NC(=O)c2cc(=O)[nH]o2)c(C)s1', 'Cc1sc(C(=O)OCC(=O)NCCC#N)cc1N', 'O=C(O)c1cc(Cl)ccc1N1CCCCCC1=O', 'CC[C@H](NC(=O)Cc1cn2ccsc2n1)C(=O)O', 'CC(=O)SCC1CC(=O)N(c2ncc[nH]c2=O)C1', 'O=C(Cc1ccccc1Cl)NC1(C(=O)O)CCC1', 'CCCCCCC1(C)CC(=O)N1S(=O)(=O)Cl', 'COC(=O)c1cc(NC(=O)C=C(C)C)ccc1Cl', 'O=C(O)[C@@H]1CCCN(C(=O)c2ccccc2Cl)C1', 'COC(=O)CCCN1C(=O)Cc2ccc(Cl)cc21', 'Nc1cc(C(=O)O[C@@H]2CCCCC2=O)ccc1Cl', 'COc1ccc(NC(=O)C2(C(C)=O)CC2)c(Cl)c1', 'CC(=O)c1cc(Cl)cc(N2CCCC2C(=O)O)c1', 'C#CCN(CCOc1cccc(Cl)c1)CC(=O)O', 'CC1(C)C(=O)OCCN1C(=O)c1ccccc1Cl', 'CCC(=O)N(c1ccc(Cl)cc1)C1COC(=O)C1', 'Nc1cc(NCc2ccco2)cc(S(N)(=O)=O)c1', 'CC(C)(C#N)CCOc1c(Cl)cccc1C(=O)O', 'COCCOc1ccc2c(=O)cc(C)[nH]c2c1Cl', 'CC(=O)N1CCC(CC(=O)O)c2cc(Cl)ccc21', 'CCOC(=O)[C@@H](O)c1cn(C)c2cc(Cl)ccc12', 'O=C1NC(=O)C(c2ccc(F)cc2)=C1c1ccccc1', 'Nc1cc(S(=O)(=O)NC2CC2)cc2c1NC(=O)C2', 'CCOCCNC(=O)c1cc2cc(Cl)ccc2o1', 'C[C@@H](CO)NC(=O)Cn1cnc2sccc2c1=O', 'CCOC(=O)c1ccc(CSc2n[nH]c(C)n2)o1', 'OC(O)c1ccnc2ccc(OCCCCl)cc12', 'CC(NC(=O)C1(c2ccccc2Cl)CC1)C(=O)O', 'CC(=O)c1ccc(Cl)c(N2CC(CO)CC2=O)c1', 'Cc1cc(COc2ccc(C(C)O)cc2Cl)on1', 'COc1cc(C(O)c2ccc[nH]2)cc(Cl)c1OC', 'CC1(c2ccc(F)cn2)NC(=O)N(CC(=O)O)C1=O', 'O=C(O)[C@@H]1CCCN(C(=O)c2cccc(Cl)c2)C1', 'O=C(O)c1ccc(Cl)cc1NC1CC2CCC1O2', 'Cc1cc(C(=O)O)nc(SCC(=O)NC2CC2)n1', 'Cl.O=C(O)c1ccc(CNCc2ccccc2)o1', 'COC(=O)[C@H](C)NC(=O)c1c(C)nc2sccn12', 'O=C(O)CC1CSCCN1C(=O)c1cncnc1', 'COc1c2cc(F)ccc2nc2c1oc1ccccc12', 'C1C[C@H](N(C1)C(=O)[C@H](CC2=CC=C(C=C2)O)N)C(=O)O', 'CCCC(=O)OCC(=O)NC(=O)NCc1ccccc1', 'C=CCOc1ccc(CNC(=O)NCCC(=O)O)cc1', 'COCC(=O)Nc1ccccc1C(=O)N1CCOCC1', 'COCC1CCN(c2ccc(C(C)=O)c([N+](=O)[O-])c2)C1', 'COC(=O)c1ccc(N)cc1OCC(=O)NCC1CC1', 'COC(=O)[C@H](C)NC(=O)N1C[C@H](C)Oc2ccccc21', 'CC1CCC(CNc2ccc(C(=O)O)c([N+](=O)[O-])c2)C1', 'CCC1(CC)C(=O)NC(=O)N(C(C)c2ccco2)C1=O', 'C=Cc1cc(NC(C)(C)C)c([N+](=O)[O-])cc1C(=O)OC', 'Cc1ccc(NCC2(CC(=O)O)CCC2)c([N+](=O)[O-])c1', 'COC(=O)C(CN1CCCC1)c1ccc([N+](=O)[O-])cc1', 'Cc1ccc(C(=O)N(C)CC(O)C2CC2)cc1[N+](=O)[O-]', 'CCOP(=O)(OCC)[C@@H](CC=C(C)C)C(=O)OC', 'COc1cc(CNC2CNC(=O)C2)cc2c1OCCO2', 'CC(=O)Nc1cccc(C2(O)CCN(C(=O)O)CC2)c1', 'CCCNC(=O)c1ccccc1NC(=O)CC(=O)OC', 'O=C(CCc1cccnc1)N[C@H]1CO[C@H]2[C@@H]1OC[C@@H]2O', 'Cc1nc(C(=O)NCC2(C)CCCO2)ccc1C(=O)O', 'Cc1c(C)c(C)c(C)c(C)c1C.[V].c1cc[cH-]c1', 'COc1ccc(C)cc1C(=O)NC1(CC(N)=O)COC1', 'CCCOc1nc(OCCCC(F)(F)F)ccc1N', 'CCOC(=O)c1c(N)oc2cc(CCCOC)cnc12', 'CC1C(=O)NCCN1C(=O)[C@H]1C2C=CC(C2)[C@H]1C(=O)O', 'Cc1cccc([N+](=O)[O-])c1C(=O)NC1CCCCC1O', 'COC(=O)C(C)NC(=O)CNC(=O)c1cccc(C)c1', 'CCOC(=O)C(O)c1cccc(N2CCN(C)C2=O)c1', 'CN1CC(=O)N(C[C@@H](O)COCc2ccccc2)C1=O', 'O=C(O)c1cccc(/C=N/CCN2CCOCC2)c1O', 'COc1ccc(C(=O)N2CCO[C@@](C)(C(N)=O)C2)cc1', 'N#Cc1cccc(-n2cccc2/C=C/C=N/N=C(N)N)c1', 'O=C(O)CC1CN(C(=O)c2cccn2C2CC2)CCO1', 'CC(N)(C(=O)N1C[C@@H](O)C[C@H]1C(=O)O)c1ccccc1', 'O=C(Nc1ccc2c(c1)OCCO2)N1CCC[C@@H]1CO', 'CC1CC1CN(C)C(=O)Nc1cccc(C(=O)O)c1O', 'CCNc1nc(NCC(=O)OC)nc(-n2cncn2)n1', 'CC(=O)N(C)CC(=O)Nc1ccccc1CCC(=O)O', 'COC(=O)N1CCN(C(=O)c2cccc(OC)c2)CC1', 'CCCCCC1Cc2[nH]nc(C(=O)O)c2C=C1C(=O)O', 'Cc1ccc(N)c(C(=O)N(C)C2COCC2C(=O)O)c1', 'C=CC(=O)C1(C(=O)C=C)CNCCN1C=C(C)C(=O)O', 'Cc1ncsc1CCC(CN)Cc1cccc(F)c1', 'Cc1ccc(O)c(CN2CCNC(=O)C2CC(=O)O)c1', 'N/C(=N/O)c1cc(F)ccc1CNCCn1ccnn1', 'COc1cc(OC)c(C(O)Cc2ncc[nH]2)cc1OC', 'O=[N+]([O-])c1ccc(/C=N/C[C@]2(O)CCCC[C@H]2O)cc1', 'COC(=O)[C@@H](C)NC(=O)N1CCOc2ccc(C)cc21', 'O=C(O)C1CN(C(=O)NCCCOc2ccccc2)C1', 'O=C(O)CCC1CCCN(C(=O)c2cncc(O)c2)C1', 'O=C(Cc1ccccn1)NCC1(C(=O)O)CCOCC1', 'CCOC(=O)C(CC(C)C)c1nc(-c2ccoc2)no1', 'COC(=O)C1CCN(c2cccc(C)c2[N+](=O)[O-])CC1', 'CC(=O)Nc1ccc(C(C=O)OC(=O)C(C)(C)C)cn1', 'CN(CC(O)C1CC1)C(=O)Cc1ccccc1[N+](=O)[O-]', 'O=C1CNC(=O)C2(CCCCC2)N1CCC(F)(F)F', 'Cc1nc(C(=O)N2CCC(C(C)O)C2)ccc1C(=O)O', 'CN(C(=O)N[C@H](Cc1ccc(O)cc1)C(=O)O)C1CC1', 'CC1(OCC(=O)N[C@H](C(=O)O)c2ccccc2)CNC1', 'NC(=O)c1c(NC2CCC(O)CC2)cccc1C(=O)O', 'CCC(C)(N)C(=O)N1CCOc2c(C(=O)O)cccc21', 'CC1CN(C(=O)N[C@H](C(=O)O)c2ccccc2)CCO1', 'CC(C)OCC(NN)c1ccc(OC(F)(F)F)cc1', 'CN(CC1CCCCO1)C(=O)c1cccc(C(=O)O)n1', 'NC1COCC1C(=O)NCc1ccccc1CC(=O)O', 'COc1cc(OC)cc(C(CN)NCC(F)(F)F)c1', 'CCCC(O)c1ccn(CC(=O)NCC(F)(F)F)c1', 'COc1ccccc1NC(=O)N1CCC[C@H](C(=O)O)C1', 'O=C(O)c1noc2c1CN(C(=O)CC1CCCC1)CC2', 'CC1(NC(=O)Nc2ccccc2C(=O)O)CCCOC1', 'CCOC(=O)c1cc2c(cn1)N(C(C)=O)[C@@H](O)C(C)C2', 'Fc1ccccc1NC(=S)NC[C@@H]1C[C@@H]2CC[C@@H]1C2', 'O=C(NCCOc1ccccc1)NC(C(=O)O)C1CC1', 'CN(CC1CCCO1)C(=O)Nc1cccc(C(=O)O)c1', 'Cc1cccc(C(=O)N2CCCC(CO)C2)c1[N+](=O)[O-]', 'CC1(C)CCN(Cc2cccc([N+](=O)[O-])c2C(=O)O)C1', 'COc1ccc(C(=O)N2CCCC(C(=O)O)C2)cc1N', 'C=CCCOC(C)C(=O)NNC(=O)c1cccc(O)c1', 'CCCNc1cc(C(F)(F)F)cc(OCCCO)n1', 'O=C(CNCc1cccc2c1OCO2)N1CCOCC1', 'O=C1CC(NCCCCC(F)(F)F)C(=O)N1C1CC1', 'CNCC(C)C(=O)N1CC(C(=O)O)Oc2ccccc21', 'CCOC(=O)CCC(=O)NNC(=O)Cc1ccccc1', 'CC(C)C(=O)N[C@@H](Cc1ccc(C(=O)O)cc1)C(N)=O', 'Cn1cccc(NC(=O)C2CCCC(C(=O)O)C2)c1=O', 'CCCNC(c1cc(C)cc(F)c1)c1scnc1C', 'CCNCC(Cc1csc(C)n1)c1ccc(F)cc1', 'CCOC(=O)CNC(=O)N/C=C/c1ccc(OC)cc1', 'COc1ncccc1C(=O)N1CCC(CC(=O)O)CC1', 'Nc1cc2c(cc1NC(=O)C1CCOC1)OCCCO2', 'CCOC(=O)C(=CNc1cccc(C)n1)C(=O)OCC', 'COCCOCCCn1cnc2c(C(=O)O)cccc21', 'Nc1cc(N2CCCC3(C2)OCCO3)ccc1C(=O)O', 'Cc1ccc(CNCCN(C)c2cccc(F)c2)s1', 'COC(=O)C1(C[C@@H](N)Cc2ccc([N+](=O)[O-])cc2)CC1', 'O=C(NC1CCCCN1C(=O)O)OCc1ccccc1', 'Cc1cc2ncn([C@H]3O[C@H](CO)[C@H](O)[C@@H]3O)c2cc1C', 'O=C(O)CN1CCN(C(=O)C(O)c2ccccc2)CC1', 'COc1ccc([N+](=O)[O-])cc1C(=O)N1CCCCCC1', 'COc1cc(C(=O)OCC(=O)N2CCCC2)ccc1N', 'CCOP(=O)(OCC)[C@H]1CCCC[C@H]1OC(C)=O', 'COC(=O)CN(CC#N)Cc1cc(OC)cc(OC)c1', 'CCCCNC(=O)Cn1c(=O)oc2ccc(CO)cc21', 'C[C@@]1(N)CN(C(=O)O)[C@](Cc2ccccc2)(C(=O)O)C1', 'COC(=O)c1cc(C2NC(=O)C3CCCCN32)oc1C', 'CC1Cc2ccccc2N1C(=O)NCC[C@H](O)C(=O)O', 'COC(=O)C(Cc1ncccn1)(C(=O)O)C1CCCC1', 'CC[C@@H](C(=O)OCC(=O)NNC(C)=O)c1ccccc1', 'COC1CCCN(CC(=O)c2cccc([N+](=O)[O-])c2)C1', 'CCCNC(c1nc(C)c(C)s1)c1ccccc1F', 'Cc1ccc(C(C)c2ccc(C(F)(F)F)cc2)cc1C', 'COc1cc(C(N)=O)ccc1N1CCC(C(=O)O)CC1', 'COc1cccc(CN2C(=O)CNC(=O)[C@@H]2[C@@H](C)O)c1', 'O=C(O)c1ccc(N2CCCOC2)c(OCC2CC2)n1', 'CC(C)(C)[C@H](NC(=O)c1ccc(C(N)=O)cc1)C(=O)O', 'NC1(C(=O)NCCc2ccc(C(=O)O)cc2)CCOC1', 'COc1cccc(N)c1C(=O)OC1CCCCNC1=O', 'Cc1cccc(C(=O)N2CCC(C)(O)CC2)c1[N+](=O)[O-]', 'Cc1cc2c(cc(Nc3ccncc3)c3nnc(C)n32)[nH]1', 'CC(C)(C)OC(=O)NC1CCc2ccc([N+](=O)[O-])cc21', 'CC(CNC(=O)CNC(=O)c1ccccc1)CC(=O)O', 'COC(=O)CC1N(CCO)C(=O)c2ccccc2N1C', 'CC(C)C(=O)Nc1cccc(NC(=O)CCC(=O)O)c1', 'O=C(Cc1ccccc1[N+](=O)[O-])N1CCC(CCO)C1', 'CC(Cc1cccs1)N(C)Cc1cccc(F)c1N', 'CC1=C(C(=O)OC(C)(C)C)C(c2ccoc2)NC(=O)N1', 'Cc1ccc(C(C)NC(=O)NC2C=CC(C(=O)O)C2)o1', 'COC(=O)c1cc(N2CCC(C)CC2)ccc1[N+](=O)[O-]', 'Nc1cccc(OCC(=O)OC2CCCCNC2=O)c1', 'CC1N=C(C2CCC(C3=NC(C)C(=O)O3)CC2)OC1=O', 'Cn1ccc(C(=O)NC2CCCC(C(=O)O)C2)cc1=O', 'NC1CCN(C(=O)OCc2ccccc2)CC1C(=O)O', 'CN(Cc1ccccc1)C(=O)N1CCOC(C(=O)O)C1', 'C/C(=C/CC(CCl)O[Si](C)(C)C)[Si](C)(C)C', 'CCc1ccc(CC(NN)c2cc(C)cc(F)c2)s1', 'COC(=O)CCNC(C)c1ccc2c(c1)NC(=O)CO2', 'CC1CCCCC1Nc1ccc(C(=O)O)cc1[N+](=O)[O-]', 'CC(=O)Nc1cccc(OCC(=O)N2CCOCC2)c1', 'CCC1(C2C3CC(PC)C(S)C32)C2CC3=C(C3)[C@@H]21', 'Cc1cccc(C)c1C(=O)N[C@@H](CCC(N)=O)C(=O)O', '[B]C1=C(C=C)C2=C(Cc3ccccc31)c1ccccc1C2=C', 'O=C(NCc1cccc(O)c1)NC1(C(=O)O)CCCC1', 'CC(CC(F)(F)F)N1CC(=O)NC(C)(C2CC2)C1=O', 'CC(C)C(CO)NC(=O)c1ccc2c(c1)OCC(=O)N2', 'CC(COc1ccc2c(c1)OCO2)(NC1CC1)C(N)=O', 'CC(O)CCCNC(=O)/C=C/c1cccc([N+](=O)[O-])c1', 'CN1Cc2cc(C(O)C3COCCO3)ccc2NC1=O', 'CC(C)(C#N)CCCOc1ccc([N+](=O)[O-])cc1CO', 'COc1ccc(NC(=O)C(=O)NC[C@@H]2CCCO2)cc1', 'O=C1CCC(CNC(=O)C2C3C=CC(C3)C2C(=O)O)N1', 'CCn1cnnc1CNC(=O)c1cc(F)cnc1NC', 'COC(=O)c1ccc(NC(=O)NCCCC(C)=O)cc1', 'CC(C)(NC(=O)[C@@H]1CCCO1)c1ccc([N+](=O)[O-])cc1', 'CC(=O)c1c(C)nn(CCCOCC(F)(F)F)c1C', 'Cc1ccc([N+](=O)[O-])c(NC2CCCC(C(=O)O)C2)c1', 'CC1CCN(OC(=O)c2ccc(C(=O)O)c(N)c2)CC1', 'O=C(NCc1ccc(O)cc1)NC1(C(=O)O)CCCC1', 'CCO/C(O)=C1\\\\C(=O)ON(C)C1NCc1ccccc1', 'O=C(NO)C1CCN(C(=O)OCc2ccccc2)CC1', 'CO[C@@H]1C[C@@H](CO)N(C(=O)/C=C/c2cncc(O)c2)C1', 'COC(=O)N(C)c1ccccc1C(=O)N1CCOCC1', 'CCC(C)(NC(=O)c1cccc2c1OCCN2)C(=O)O', 'Cc1cc(C(=O)O)cc(C(=O)NCC(=O)NC(C)C)c1', 'Cc1ccc(NC(=O)NC2(C)CCOC2)c(C(=O)O)c1', 'CC1CN(C(=O)N(C)c2ccccc2C(=O)O)CCO1', 'CCc1nc(C(NC)c2cc(C)ccc2F)sc1C', 'O=C(O)c1ccc(C(=O)N2CCN(CC3CC3)CC2)o1', 'CC1(C)CCN(C(=O)c2cccc([N+](=O)[O-])c2O)CC1', 'Cc1[nH]c2ccccc2c1/C=N/N=C(\\\\N)c1cnccn1', 'COCCOCCC(N)c1cnccc1C(F)(F)F', 'CCOC(=O)c1cccnc1N1CCCC1C(=O)OC', 'CCCCc1ccc(-c2cc(F)c(C)c(F)c2F)cc1', 'CCOC(=O)Cc1ccc2c(n1)N(C(=O)O)C(C)CC2', 'CC1CCCC(Nc2cc(C(=O)O)ccc2[N+](=O)[O-])C1', 'CCCN(Cc1cccc([N+](=O)[O-])c1C(=O)O)C1CC1', 'CN(C(=O)NCC1(C(=O)O)CCC1)c1cccc(O)c1', 'Cc1cc(C)c2c(n1)nn1c(-n3ccnc3)cc(C)nc21', 'COCCN1Cc2ccc(NC(=O)CC(=O)O)cc2C1', 'C[C@H]1CCN(C(=O)c2cc(C3CC3)on2)[C@H](C(=O)O)C1', 'COc1ccc(NC(=O)C(=O)NC[C@H]2CCCO2)cc1', 'CCCC(N)C(=O)N(Cc1ccco1)CC(F)(F)F', 'COCCN(CCO)CN1C(=O)c2ccccc2C1=O', 'NCCCC[C@H](NC(=O)c1cccc(C=O)c1)C(=O)O', 'COC(=O)/C(=C/CCN)NC(=O)OCc1ccccc1', 'CCOC(=O)c1c(C)[nH]c(C(=O)OCCCC#N)c1C', 'CCC(C(=O)O)N(C)C(=O)C1CNc2ccccc2O1', 'CC(C(=O)O)C(=O)N1CCN(c2ccccc2O)CC1', 'CCOc1ccc(C(O)CN2C(=O)CN(C)C2=O)cc1', 'CSC1CCC(NCc2ccc(C#N)cc2F)CC1', 'CC1(Nc2ccc([N+](=O)[O-])cc2C(=O)O)CCCCC1', 'CC(=O)Nc1ccc(C(=O)NCCC(C)C(=O)O)cc1', 'CCCCOC(=O)C1Cc2ccc([N+](=O)[O-])c(C)c2N1', 'Cc1cc(-c2cccc(F)c2F)cc(C(C)(C)C)c1F', 'Cc1n[nH]c(C)c1-c1cc(-c2cc[nH]c2)nc(N)c1C#N', 'C/C(=C\\\\N=N\\\\c1ccc2nncn2n1)Cc1ccccc1', 'Cc1ccc(F)c(NC2=NC3CCCCC3CS2)c1', 'CNC(=O)c1ccc(CN(C)C(=O)COC(C)=O)cc1', 'COc1ncccc1C(=O)N1CCCC2(C1)OCCO2', 'CC(C)N(C)c1ccc(NC(=O)c2nn[nH]n2)cc1F', 'O=C(O)CNC(=O)c1ccccc1CN1CCOCC1', 'Fc1ccc2sc(CCCN3CCNCC3)cc2c1', 'CCNC(=O)C(C)OC(=O)c1cccc(NC(C)=O)c1', 'CCCNC(C)c1cnc(-c2ccc(C)c(F)c2)s1', 'O=C(O)CNC(=O)N1CCC(c2cccc(O)c2)CC1', 'CC1(C(=O)O)C[C@H](N)CN1C(=O)OCc1ccccc1', 'CC(C)(CC(=O)O)NC(=O)C1CNc2ccccc2O1', 'O=C(O)CCC1CCN(C(=O)c2c[nH]ccc2=O)CC1', 'CC(OC(=O)NNC(=O)OCc1ccccc1)C1CC1', 'O=C(O)CN1CCCN(C(=O)c2ccc(O)cc2)CC1', 'CNC1COCC1C(=O)NCc1cccc(C(=O)O)c1', 'CCOC(=O)C(O)c1ccc2c(c1)[nH]c(=O)n2C(C)C', 'COC(=O)C(N)CCOc1ccc2c(c1)CCC(=O)N2', 'N#CN1CCC(c2nc(-c3ccc4c(c3)CC=N4)n[nH]2)C1', 'CC1CCCC(Nc2nc3cc(F)ccc3s2)C1C', 'COc1ccc(/C=N/NC(=O)O)cc1OC1CCCC1', 'CC(=O)NC(C)C(=O)Nc1c(C)cc(C)cc1C(=O)O', 'CO[Si](CCCN1CCC[Si]1(OC)OC)OC', 'CCCCN(CC(N)=O)C(=O)c1cccc(C(=O)O)c1', 'NC(N)=N/N=C/c1ccc(-c2cn3ccccc3n2)cc1', 'CC(=O)c1ccc(NC(=O)NC(C)(C)CC(=O)O)cc1', 'CC(C)(C)OC(=O)N1CC(c2ccc(C(=O)O)nc2)C1', 'O=C(NCc1ccccc1)N[C@@H]1CO[C@@H]2[C@@H]1OC[C@H]2O', 'O=C(O)CCc1ccc(NC(=O)N2CCOCC2)cc1', 'CC1(C)OB(C(=Cc2cncnc2)CS)OC1(C)C', 'COc1ccc(N)c(C(=O)OC(C)C(=O)NC2CC2)c1', 'Cc1cccc(C)c1C(=O)OCC(=O)[C@@H](N)CC(N)=O', 'C=CCNC(=O)Nc1cc(OCC)ccc1C(=O)OC', 'O=C(O)C1CCCCCC1Nc1ccc([N+](=O)[O-])cc1', 'O=C(O)c1cc(C(=O)N(CCO)C2CCCC2)ccn1', 'C=CCN(CC)C(=O)N(CC(=O)O)c1ccc(O)cc1', 'COc1cc([N+](=O)[O-])ccc1N1CCC2(CC1)COC2', 'COC(=O)c1cc(C)cc2cnn(CC(OC)OC)c12', 'Cc1cc2nc3n(c2cc1C)[C@@H](CO)[C@@H](O)[C@H](O)[C@H]3O', 'COC(=O)NC1CCN(C(=O)c2ccccc2O)CC1', 'CC(O)CN1C(=O)CCC(C(=O)O)C1c1cccnc1', 'Cc1cccc(C(=O)NC2CCCCC2O)c1[N+](=O)[O-]', 'Nc1ccc(C(=O)O)c(N2CCCC3(C2)OCCO3)c1', 'CCC1(C(=O)O)CCN(c2ccc([N+](=O)[O-])cc2C)C1', 'COCCOCC(=O)Nc1cc(C#CCCO)ccn1', 'COCNC(=O)C1(OC(=O)NCc2ccccc2)CC1', 'NC(CC1(COCc2ccc3c(c2)OCO3)CC1)=NO', 'NC(N)=NN=C(c1ccccc1)c1cc2ccncc2[nH]1', 'CNC(=O)C1CCCCN1C(=O)c1cccc(O)c1O', 'CC(=O)OCC1CCN(c2ccc([N+](=O)[O-])cc2)CC1', 'Cc1nc(C(=O)NCC2CCCOC2)ccc1C(=O)O', 'Cc1ccc([N+](=O)[O-])cc1NCC1(CC(=O)O)CCC1', 'Cc1ccc(C(=O)N[C@@H](CCC(N)=O)C(=O)O)c(C)c1', 'COc1cccc(CCNC(=O)C2COC(=O)N2C)c1', 'CCC1(NC(=O)Nc2ccc(C(=O)O)cc2O)CCC1', 'C=Cc1cc(B2OC(C)C(C)(C)O2)cnc1N(C)S', 'CCOc1cncc(C(COCC(F)(F)F)NC)c1', 'CN(C)C(=O)c1cccc(C(=O)NCCCC(=O)O)c1', '[H]/N=C(\\\\N)c1ccccc1Cn1nnc(-c2ccccc2)n1', 'CCCOc1cc(N2CCC(=O)CC2)ccc1[N+](=O)[O-]', 'CN(C)C(=O)CCNC(=O)Cc1cccc(C(=O)O)c1', 'CCc1cccc(NC(=O)NC2COCC2C(=O)O)c1', 'CC(C)CC1=NN(C(=O)C2CC2)[C@](O)(C(F)(F)F)C1', 'CCCCCCCCCCCCC/C=C/[C@H]([C@H](COP(=O)([O-])OCC[N+](C)(C)C)NC(=O)CCCCCCCCCCCCC)O', 'CCC/C=C\\\\CCCCCCCC(=O)NC(COP(=O)(O)OCCN)C(O)CCCCCCCCCCCCCCCCCCC', 'CCCCN(c1nc(OCCC[Si](C)(C)[Si](C)C)nc(N(CCCC)C2CC(C)(C)NC(C)(C)C2)n1)C1CC(C)(C)NC(C)(C)C1', 'CCCCCCCCCCCCCCCCCCOCC(COC1OC(CO)C(O)C(O)C1O)OC(=O)CCCCCCCCCC', 'CCCCCCCC[P+](CCCCCCCC)(CCCCCCCC)CCCCCCCC.[O-]P(O)c1cccc2ccccc12', 'CCCCCCCCCCCCC#COP(=O)(OC#CCCCCCCCCCCCC)OC#CCCCCCCCCCCCC', 'CCCCCCCCCCCCCCCCCCOC(=O)C(CC(=O)c1cc(C(C)C)c(O)c(C(C)C)c1)SCCCCCCCC', 'CCCCCCCCCCCCCCCCCCC(=O)OC(COCCCCCCCCCC)COC1OC(CO)C(O)C(O)C1O', 'CCCCCCCCCCCCC/C=C/[C@@H](O)[C@H](COP(=O)(O)OCCNC)NC(=O)CCCCCCCCCCCCCCC', 'CCCCCCCCCCCCCCCCCCCCCCCCCCCCCCCCCCc1ccccc1C(C)(C)Br', 'C=C(CCCc1ccc(C)cc1)CCc1ccc(C(=C)C)cc1.CC.CN=C(C)C.Cc1ccc([C@@H](C)CCN2CCCC2)cc1.FCF', 'CCCCCCCCCCCCCCCCOCC(COC1OC(CO)C(O)C(O)C1O)OC(=O)CCCCCCCCCCCC', 'CCCCCCCCCCC/C=C/[C@@H](O)[C@H](COP(=O)(O)OCCN)NC(=O)CCCCCCCCCCCCCCCCCC', 'CCCCCC(=O)OCC(C)OCC(C)OC(=O)CCCCC.CCCCCCCCCC(=O)O.CCCCCCCCCC(=O)O', 'CCCCCCCCCCCCCCCCC/C=C/[C@@H](O)[C@H](COP(=O)(O)OCCN)NC(=O)CCCCCCCCCCCC', 'CCCCCCCC/C=C/C(O)C(COP(=O)([O-])OCC[N+](C)(C)C)NC(=O)CCCCCCCCCCCCCCCCCC', 'CCC/C=C\\\\CCCCCCCC(=O)NC(COP(=O)([O-])OCC[N+](C)(C)C)C(O)CCCCCCCCCCCCCCCC', 'CCCCCCCC/C=C\\\\CCCCCCCCCCCC(=O)NC(COP(=O)([O-])OCC[N+](C)(C)C)C(O)CCCCCCC', 'CCC.CCCCCCCCCCCCCCCCCCCCCCCCCC[Si](C)(O[Si]C)O[Si](C)(C)O[Si](C)(C)C', 'C[C@@H](O)CC(=O)CCCCCCCCCCCCCCCCCCCCCCCCC[C@@H](O)CCO[C@H]1OC(CO)[C@@H](O)C(O)[C@H]1O', 'CCCCCCCCCCCCCCCOCC(COC1OC(CO)C(O)C(O)C1O)OC(=O)CCCCCCCCCCCCC', 'CCCCCCCCCCCCCCCCCCCOCC(COC1OC(CO)C(O)C(O)C1O)OC(=O)CCCCCCCCC', 'CCCC/C=C\\\\CCCCCCCC(=O)NC(COP(=O)(O)OCCN)C(O)CCCCCCCCCCCCCCCCCC', 'CCCCCCCCCCCCCCCCCCCCCCOCC(COC1OC(CO)C(O)C(O)C1O)OC(=O)CCCCCC', 'CCCCCCCCCCCCCCCCCOCC(COC1OC(CO)C(O)C(O)C1O)OC(=O)CCCCCCCCCCC', 'CC.CC.CC(C)=C/C=C(\\\\C=C\\\\c1cc2c(cc1C)C(C)CC2)C(C)(C)CO.CCC1(c2ccc(C)c(-c3cc4c(cc3C)CCC4)c2)CC1', 'CCCCCCCCCC/C=C\\\\CCCCCCCCCCCC(=O)NC(COP(=O)([O-])OCC[N+](C)(C)C)C(O)CCCCC', 'CCCC/C=C/C(O)C(COP(=O)([O-])OCC[N+](C)(C)C)NC(=O)CCCCCCCCCCCCCCCCCCCCCC', 'CCCCCCCCCCCCCCC/C=C/[C@@H](O)[C@H](COP(=O)(O)OCCN)NC(=O)CCCCCCCCCCCCCC', 'C.C.C.C.C=C(OCC)OC(=O)C(C)(CC)CC(C)C(=O)OC1CC2CC1C1C3CCC(C3)C21.C=O.CO.OC1C2CCC(C2)C1O.[H][H]', 'CCCCCCCCCC/C=C/C(O)C(COP(=O)(O)OCCN)NC(=O)CCCCCCCCCCCCCCCCCCC', 'CCCCCCCCCC(=O)OCC(C)OCC(C)OCC(C)OCC(C)OCC(C)OCC(C)OC(=O)CCCCCCCCC', 'CCCCCCCC/C=C\\\\CCCCCC(=O)NC(COP(=O)([O-])OCC[N+](C)(C)C)C(O)CCCCCCCCCCCCC', 'CCCCCCCCCCCCC/C=C/[C@@H](O)[C@H](COP(=O)([O-])O[N+](C)(C)C)NC(=O)CCCCCCCCCCCCCCC', 'CCCCOCC(O)CN1CCN(CC(O)CCC(CC)(COCC(O)CN2CCNCC2)COCC(O)CN2CCNCC2)CC1', 'CCCCCCCCCCCCCCCCCC/C=C/C(O)C(COP(=O)([O-])OCC[N+](C)(C)C)NC(=O)CCCCCCCC', 'CCCCCCCCCCCCOC(=O)CCC(NC(=O)CCCCC[N+](C)(C)C)C(=O)OCCCCCCCCCCCC.[Cl-]', 'CCCCCCCCCC[Si](C)(C)O[SiH](O[Si](C)(C)CCCCCCCCCC)O[Si](C)(C)CCCCCCCCCC', 'CCCCC/C=C/CCCC[C@@H](O)[C@H](COP(=O)([O-])OCC[N+](C)(C)C)NC(=O)CCCCCCCCCCCCCCCCC', 'CCCC[N+](CCCC)(CCCC)CCCC.CCCC[N+](CCCC)(CCCC)CCCC.CS(=O)(=O)[O-].CS(=O)(=O)[O-]', 'CCCCCCCCC/C=C\\\\CCCCCCCCCC(=O)NC(COP(=O)([O-])OCC[N+](C)(C)C)C(O)CCCCCCCC', 'CCCCCCCCCCCCCCCCCCCCCOCC(COC1OC(CO)C(O)C(O)C1O)OC(=O)CCCCCCC', 'CC.[H]/[C-]=C/N([CH2-])C(C)C.[V].[V].[V].[V].[V].[V].[V].[V].[V].[Y]', 'C/C=C/C=C/C(C)C(c1[nH]c2ccc(S)cc2c1CCNC)C1C=CC(NCCCC)=CC1.C=C1CC1.CC.CCCN1CCCCC1', 'CCCCCC/C=C\\\\CCCCCCCC(=O)NC(COP(=O)(O)OCCN)C(O)CCCCCCCCCCCCCCCC', 'CCCCCCCCCCCCCCCCCCCCCCC/C=C/C(O)C(COP(=O)([O-])OCC[N+](C)(C)C)NC(=O)CCC', 'CCCCCCCCCCCCCCCC/C=C/[C@@H](O)[C@H](COP(=O)(O)OCCN)NC(=O)CCCCCCCCCCCCC', 'CCCCCCCC/C=C\\\\CCCCCCCCCCCC(=O)NC(COP(=O)(O)OCCN)C(O)CCCCCCCCCC', 'C[C@@H](O)CC(=O)CCCCCCCCCCCCCCCCCCCCCCCCC[C@@H](O)CCO[C@H]1O[C@H](CO)[C@@H](O)[C@H](O)[C@H]1O', 'CCCCCCCCCCCCCCCCCC(=O)[O-].CCCCCCCCCCCCCCCCCC(=O)[O-].CCCO.[Ti+2]', 'C=CC.CCOC1CC(C)N(CCNC23CCC[C@@H]2C2CCC4C(C)(CCC5C(C)(C)C(C6=CC7C(C6)C7C(=O)O)=CCC54C)C2CC3)C1', 'CCCCCCCCCCCCCCCC/C=C/C(O)C(COP(=O)([O-])OCC[N+](C)(C)C)NC(=O)CCCCCCCCCC', 'CCCCCCCCCCC/C=C/CCCC[C@@H](O)[C@H](COP(=O)([O-])OCC[N+](C)(C)C)NC(=O)CCCCCCCCCCC', 'CCCCCCCCCC/C=C/[C@@H](O)[C@H](COP(=O)(O)OCCN)NC(=O)CCCCCCCCCCCCCCCCCCC', 'CCCCCCCCCCCCCCCCc1ccccc1[O-].CCCCCCCCCCCCCCCCc1ccccc1[O-].[Ca+2]', 'CCCCC/C=C\\\\CCCCCCCC(=O)NC(COP(=O)(O)OCCN)C(O)CCCCCCCCCCCCCCCCC', 'C=C/C=C(\\\\C=C/C(C)CN1CCC(CCCC(=O)c2cccc(CN(C)c3ccccc3C)c2)CC1)C(C)(C)C(=O)O.CC.CC.CCC', 'CCCCCCCCCCCC/C=C/[C@@H](O)[C@H](COP(=O)([O-])OCC[N+](C)(C)C)NC(=O)CCCCCCCCCCCCCC', 'CCCCCCCCCCCCCCCCC(=O)OC(COCCCCCCCCCCCC)COC1OC(CO)C(O)C(O)C1O', 'CCCCCCCCCCCCCCCCCCCC/C=C/C(O)C(COP(=O)([O-])OCC[N+](C)(C)C)NC(=O)CCCCCC', 'CC.CCC1CCC2C3CC(OCc4cccc(N)c4)C4CC(OC(=O)c5cccc(N)c5)CCC4(C)C3CCC12C.CCCCC(C)C', 'CCCCCCCCCCCCCCCCC/C=C/[C@H](O)[C@@H](COP(=O)([O-])OCC[N+](C)(C)C)NC(=O)CCCCCCCCC', 'CCCCCCCC/C=C\\\\CCCCCCCCCC(=O)NC(COP(=O)([O-])OCC[N+](C)(C)C)C(O)CCCCCCCCC', 'CNc1ccc(CC(C)C)c(CCC2CCC3(C2)CC2(C)C(CC3O)C(O)CC3C4CCC5C(CN6CC(C)CCC6C5(C)O)C4CC32)c1', 'C=C(C(N)C(CC)CC)N1CCC(C(=C)N2CC=C3C(C)(CC=C(c4ccc(NC)cc4)C3(C)S)C2)(C(/C=C\\\\C)=C/C)CC1.CC.CC', 'CCCCCCCCCCCCCCCCCCCCCCCCCCOCC(COC1OC(CO)C(O)C(O)C1O)OC(=O)CC', 'CCCCCCCCCCCCCC/C=C/[C@@H](O)[C@H](COP(=O)([O-])OCC[N+](C)(C)C)NC(=O)CCCCCCCCCCCC', 'ClC(Cl)(Cl)C(Cl)(Cl)c1nc(C(Cl)(Cl)C(Cl)(Cl)Cl)nc(C(Cl)(Cl)C(Cl)(Cl)Cl)n1', 'CCCCCCCCC=CCCCCCCCCOP(=O)(OCCCCCCCCC=CCCCCCCCC)Oc1ccccc1', 'C=C/C(C)=C\\\\C(=C/CC(Cc1ccccc1)(NC(=C)NC1CCCC1)c1cccc(CCCCCC(=C)CCC)c1)C(C)(F)F.CC.CC', 'CC(C)(C)c1cc(C2C(=O)C(c3cc(C(C)(C)C)cc(C(C)(C)C)c3)C3C4CC5CCCC6CCC7CCC(C23)C4C7C65)cc(C(C)(C)C)c1', 'CCCCCCCCCCCCCCC/C=C/[C@@H](O)[C@H](COP(=O)([O-])OCC[N+](C)(C)C)NC(=O)CCCCCCCCCCC', 'CCCCCCCCCCC/C=C/[C@@H](O)[C@H](COP(=O)([O-])OCC[N+](C)(C)C)NC(=O)CCCCCCCCCCCCCCC', 'CCCCC(CC)C(=O)OOC(C)CCC(C)OOC(=O)C(CC)CCCC.CCCCCC(=O)OOC(CC)C(C)CCC(C)C', 'CCCCCCC/C=C/C(O)C(COP(=O)(O)OCCN)NC(=O)CCCCCCCCCCCCCCCCCCCCCC', 'CCCCCCC/C=C/C(O)C(COP(=O)([O-])OCC[N+](C)(C)C)NC(=O)CCCCCCCCCCCCCCCCCCC', 'C=Cc1c(CC=C(C)CCC=C(C)CCC=C(C)CCC=C(C)CCC=C(C)CCC=C(C)CCC=C(C)C)c(C)c(OC)c2ccccc12', 'CCCCCCCCCCCCCCCCCCCCC/C=C/C(O)C(COP(=O)([O-])OCC[N+](C)(C)C)NC(=O)CCCCC', 'CCCCCCC/C=C/CCCCCCCC(=O)N[C@@H](COP(=O)([O-])OCC[N+](C)(C)C)[C@H](O)CCCCCCCCCCCC', 'CCCCCCCCCCCCCCCCCCCCCCCCCCCOCC(COC1OC(CO)C(O)C(O)C1O)OC(C)=O', 'CCCCCC/C=C/CCCC[C@@H](O)[C@H](COP(=O)([O-])OCC[N+](C)(C)C)NC(=O)CCCCCCCCCCCCCCCC', 'C#C.C=C(C)C(=CN=C(C)C)/C=C(\\\\C(=C)C)c1ccc(/C(C)=C/C)cc1Cl.CC.CC.CCC.CCCN(CCC)c1ccc(C)cc1', 'CCCCCC/C=C/CCCCCCCC(=O)N[C@@H](COP(=O)([O-])OCC[N+](C)(C)C)[C@H](O)CCCCCCCCCCCCC', 'CCCCCCCCCCCCCCCCCCOC(=O)C#CSC#CC(=O)OCCCCCCCCCCCCCCCCCC', 'CCCCCCCC/C=C\\\\CCCCCCCC(=O)NC(COP(=O)(O)OCCN)C(O)CCCCCCCCCCCCCC', 'C[C@@H](O)CC(=O)CCCCCCCCCCCCCCCCCCCCCCCCC[C@@H](O)CCO[C@H]1O[C@H](CO)[C@@H](O)[C@H](O)[C@@H]1O', 'CCCC/C=C\\\\CCCCCCC(=O)NC(COP(=O)([O-])OCC[N+](C)(C)C)C(O)CCCCCCCCCCCCCCCC', 'CCCCCCCCC/C=C/CCCC[C@@H](O)[C@H](COP(=O)([O-])OCC[N+](C)(C)C)NC(=O)CCCCCCCCCCCCC', 'CCCCCCCCCCCCCCCC/C=C/[C@@H](O)[C@H](COP(=O)([O-])OCC[N+](C)(C)C)NC(=O)CCCCCCCCCC', 'CCCCCCC/C=C/CCCC[C@@H](O)[C@H](COP(=O)([O-])OCC[N+](C)(C)C)NC(=O)CCCCCCCCCCCCCCC', 'CCC(C)(C)C(=O)O.CCC(C)C.CCC(C)C(=O)O.COCC(C)C.CO[Si](C)(C)C.CO[Si](C)(C)C.C[Si](C)(C)C', 'CCCCCCCCC/C=C\\\\CCCCCCCC(=O)NC(COP(=O)([O-])OCC[N+](C)(C)C)C(O)CCCCCCCCCC', 'CCCCCC/C=C\\\\CCCC(=O)NC(COP(=O)([O-])OCC[N+](C)(C)C)C(O)CCCCCCCCCCCCCCCCC', 'CCCCC/C=C/C(O)C(COP(=O)([O-])OCC[N+](C)(C)C)NC(=O)CCCCCCCCCCCCCCCCCCCCC', 'CCCCCCCCC/C=C\\\\CCCCCCCCCC(=O)NC(COP(=O)(O)OCCN)C(O)CCCCCCCCCCC', 'CCCCCCCCCCCCCCCCCCCCCC/C=C/C(O)C(COP(=O)([O-])OCC[N+](C)(C)C)NC(=O)CCCC', 'CCCCCCCCCCCCCCCCCCCCCCCCCOCC(COC1OC(CO)C(O)C(O)C1O)OC(=O)CCC', 'C.C.C.C.C.C.CC(CC(CC1C(C)C2CC(C(O)CC(=O)OC(C)(C)C)C1C2)C(=O)OC1(C)CCCC1)C(=O)OC1CCOC1=O', 'C[C@@H](O)CC(=O)CCCCCCCCCCCCCCCCCCCCCCCCC[C@@H](O)CCO[C@H]1OC(CO)[C@@H](O)C(O)[C@@H]1O', 'CCCCCCCC[Si](C)(OC(C)(CC)[Si](C)(C)C)C(CC)(CC)C(CC)(CC)O[Si](C)(C)C(CC)(CC)O[Si](C)(C)C', 'CCOC(=O)C1CC=C(C2=CC[C@]3(C)[C@H]4CC[C@@H]5C6=C(C(C)C)C(=O)C[C@]6(CCNCCN(C)C)CC[C@@]5(C)[C@]4(C)CC[C@H]3C2(C)C)CC1', 'CCCCC(CC)C(=O)OOC(C)(C)CCC(C)(C)OOC(=O)C(CC)CCCC.CCCCC(CCCCC(C)(C)C)C(=O)OO', 'CCCCCCCCCCCCCCCCCCCCOCC(COC1OC(CO)C(O)C(O)C1O)OC(=O)CCCCCCCC', 'CC1=CCC(B(C2=CC(B(C3=CCC(C)CC3)C3CC=C(C)CC3)CC(B(C3=CCC(C)CC3)c3ccc(C)cc3)C2)C2C=CC(C)=CC2)C=C1', 'CCCCCCCC/C=C/CCCC[C@@H](O)[C@H](COP(=O)([O-])OCC[N+](C)(C)C)NC(=O)CCCCCCCCCCCCCC', 'CCCCCCCCCCCCCCCCCCC/C=C/C(O)C(COP(=O)([O-])OCC[N+](C)(C)C)NC(=O)CCCCCCC', 'CCCCCCCCCCC/C=C/C(O)C(COP(=O)([O-])OCC[N+](C)(C)C)NC(=O)CCCCCCCCCCCCCCC', 'CCCCCCCCCCCCCCCCCCCC(=O)OC(COCCCCCCCCC)COC1OC(CO)C(O)C(O)C1O', 'CC(C)=CCC[C@](C)(O)[C@H]1CC[C@]2(C)[C@@H]1[C@H](OC(=O)C(C)(C)C)C[C@@H]1[C@@]3(C)CC[C@H](O[Si](C)(C)C(C)(C)C)C(C)(C)[C@@H]3[C@@H](O)C[C@]12C', 'CCCCCCCCCCCCCCOCC(COC1OC(CO)C(O)C(O)C1O)OC(=O)CCCCCCCCCCCCCC', 'CCCCCCCCCCCC/C=C/C(O)C(COP(=O)(O)OCCN)NC(=O)CCCCCCCCCCCCCCCCC', 'CCCCCCCCCCCCCCCC(=O)C(CO)N(C(=O)CN)C(CO)C(=O)CCCCCCCCCCCCCCC.Cl', 'CC(=O)NC(C)(C)C.CC(C)(C)NC(=O)C1CCCCC1.CC(C)(C)OC(=O)c1ccccc1.CN1CCC(C(=O)NC(C)(C)C)CC1', 'CCCCCCCCCCCCC/C=C/[C@H](O)[C@@H](COP(=O)(O)OCCNC)NC(=O)CCCCCCCCCCCCCCC', 'CCCCCCCCCCCCCCCCCC(=O)OC(COCCCCCCCCCCC)COC1OC(CO)C(O)C(O)C1O', 'C=CC(C(/C=C/NC/C(=C/Nc1ccc(C(C)(C)C)cc1)B(/C=C/C)c1cc2cc3c(cc2o1)C(C)(C)CCC3(C)C)C(C)(C)C)C(C)(C)C', 'CCCCCCCCCCCCCC/C=C/[C@@H](O)[C@H](COP(=O)(O)OCCN)NC(=O)CCCCCCCCCCCCCCC', 'CCCCCC/C=C\\\\CCCCCCCC(=O)NC(COP(=O)([O-])OCC[N+](C)(C)C)C(O)CCCCCCCCCCCCC', 'CCCCCCCCC/C=C/C(O)C(COP(=O)(O)OCCN)NC(=O)CCCCCCCCCCCCCCCCCCCC', 'CC(O)C(=O)O.CCCCCCCC(=O)O.CCCCCCCCC(=O)O.CCCCCCCCC=CCCCCCCCC(=O)O', 'CCCCCCCCCCCCCCCCCCCCCCCOCC(COC1OC(CO)C(O)C(O)C1O)OC(=O)CCCCC', 'CCCCCCCCCCCCCCCCCCCCC(=O)OC(COCCCCCCCC)COC1OC(CO)C(O)C(O)C1O', 'CCCCCCCCCC/C=C/CCCC[C@@H](O)[C@H](COP(=O)([O-])OCC[N+](C)(C)C)NC(=O)CCCCCCCCCCCC', 'CCCCCCCC/C=C\\\\CCCCCCCC(=O)NC(COP(=O)([O-])OCC[N+](C)(C)C)C(O)CCCCCCCCCCC', 'CCCCCCCCCCCCCCCCCCCCCCCC/C=C/C(O)C(COP(=O)([O-])OCC[N+](C)(C)C)NC(=O)CC', 'CNc1ccc(CC(C)C)c(CC[C@@H]2CC[C@@]3(C2)C[C@]2(C)[C@@H]4C[C@H]5[C@H](CC[C@@H]6[C@H]5CN5C[C@H](C)CC[C@@H]5[C@@]6(C)O)[C@@H]4C[C@H](O)[C@@H]2C[C@H]3O)c1', 'CCC/C=C/C(O)C(COP(=O)([O-])OCC[N+](C)(C)C)NC(=O)CCCCCCCCCCCCCCCCCCCCCCC', 'CCCCCCC/C=C\\\\CCCCCCCC(=O)NC(COP(=O)([O-])OCC[N+](C)(C)C)C(O)CCCCCCCCCCCC', 'CCCCC/C=C\\\\CCCCCCCC(=O)NC(COP(=O)([O-])OCC[N+](C)(C)C)C(O)CCCCCCCCCCCCCC', 'CC(=O)OC1CC[C@]2(C)C3CCC4C(C(N)(CCCC(C)C)C(=O)NCCCNCCCCN)[C@@H](OC(C)=O)CC4(C)C3CCC2[C@@H]1C', 'CCCCCCCCCCCCCC/C=C/C(O)C(COP(=O)(O)OCCN)NC(=O)CCCCCCCCCCCCCCC', 'CC(C)(C)CCCCC(C(=O)OO)C(C)(C)C.CCCCC(CC)C(=O)OOC(C)(C)CCC(C)(C)OOC(=O)C(CC)CCCC', 'C=CC.CC.CN(C)CCCNC(=O)C12CCCC1C1CCC3C4(C)CC=C(c5ccc(C(=O)O)cc5)C(C)(C)C4CCC3(C)[C@]1(C)CC2', 'CCCCCCCCCCCCCCCCCCCCCCCCC/C=C/C(O)C(COP(=O)([O-])OCC[N+](C)(C)C)NC(C)=O', 'CC.CCCN1C[C@H](C)C[C@@H](C)C[C@@H](C)C(=O)C(C)(C)C(=O)OC[C@H]1CCCN1CCc2cncnc2C1.C[C@H]1[C@H](O)O[C@H](C)C[C@@H]1C', 'O=C(O)CCCCCCCCCCCCCCCCCCCCCCCCCCCCC(=O)OCC(CO)OCC(CO)(CO)CO', 'CCCCCCCCCCCCC/C=C/C(O)C(COP(=O)(O)OCCN)NC(=O)CCCCCCCCCCCCCCCC', 'C.C.C.C.CC1CCC(C)CC1.Cc1ccc(C)c(F)c1.Cc1ccc(C)c(F)c1.Cc1ccc(C)c(F)c1F.Cc1ccc(C)cc1.[H][H]', 'CCCCCCCCCCCCC/C=C/[C@@H](O)[C@H](COP(=O)(O)OCCN)NC(=O)CCCCCCCCCCCCCCCC', 'CCCCCCC/C=C\\\\CCCCCCCC(=O)NC(COP(=O)(O)OCCN)C(O)CCCCCCCCCCCCCCC', 'CCCCCC/C=C/C(O)C(COP(=O)([O-])OCC[N+](C)(C)C)NC(=O)CCCCCCCCCCCCCCCCCCCC', '[2H]c1c([2H])c([2H])c(NC2(C(=O)O)C([2H])([2H])C([2H])([2H])N(Cc3ccccc3)C([2H])([2H])C2([2H])[2H])c([2H])c1[2H].[2H]c1c([2H])c([2H])c(NC2(C(=O)OCC)C([2H])([2H])C([2H])([2H])N(Cc3ccccc3)C([2H])([2H])C2([2H])[2H])c([2H])c1[2H]', 'CCCCCCCCCCCCCCCCC/C=C/C(O)C(COP(=O)(O)OCCN)NC(=O)CCCCCCCCCCCC', 'CCCCCCCCCCCCCCCC(=O)OC(COCCCCCCCCCCCCC)COC1OC(CO)C(O)C(O)C1O', 'CCCCCCCCCC/C=C/C(O)C(COP(=O)([O-])OCC[N+](C)(C)C)NC(=O)CCCCCCCCCCCCCCCC', 'CCCCCCCCCCCCCC/C=C/C(O)C(COP(=O)([O-])OCC[N+](C)(C)C)NC(=O)CCCCCCCCCCCC', 'CCCCCCCCCCCCCCCC/C=C/C(O)C(COP(=O)(O)OCCN)NC(=O)CCCCCCCCCCCCC', 'CCCCCCCCCC/C=C/[C@@H](O)[C@H](COP(=O)([O-])OCC[N+](C)(C)C)NC(=O)CCCCCCCCCCCCCCCC', 'CCCCCCCCCCCCC=CC[C@@H](O)[C@H](COP(=O)([O-])OCC[N+](C)(C)C)NC(=O)CCCCCCCCCCCCC', 'CCCCCCCCCCCCCCCCCCOC(=O)C(S)(CCCCCCCC)CC(=O)c1cc(C(C)C)c(O)c(C(C)C)c1', 'C=C(C)[C@@H]1CC[C@]2(NCCN3CCOCC3)CC[C@]3(C)[C@H](CC[C@@H]4[C@@]5(C)CC=C(C6=CCC(C(=O)OCC)CC6)C(C)(C)[C@@H]5CC[C@]43C)[C@@H]12', 'CCCCCC/C=C\\\\CCCCCCCCCC(=O)NC(COP(=O)([O-])OCC[N+](C)(C)C)C(O)CCCCCCCCCCC', 'CCCCCCCCC/C=C/C(O)C(COP(=O)([O-])OCC[N+](C)(C)C)NC(=O)CCCCCCCCCCCCCCCCC', 'CCCCCCCCC/C=C/[C@@H](O)[C@H](COP(=O)([O-])OCC[N+](C)(C)C)NC(=O)CCCCCCCCCCCCCCCCC', 'CCCCCCCCCCCCCCCCCCCCCCCCOCC(COC1OC(CO)C(O)C(O)C1O)OC(=O)CCCC', 'CCCCCCCCCCCCCCCCC/C=C/C(O)C(COP(=O)([O-])OCC[N+](C)(C)C)NC(=O)CCCCCCCCC', 'CCCCCCCCCCCCCCC/C=C/C(O)C(COP(=O)(O)OCCN)NC(=O)CCCCCCCCCCCCCC', 'CCCC/C=C\\\\CCCCCCCC(=O)NC(COP(=O)([O-])OCC[N+](C)(C)C)C(O)CCCCCCCCCCCCCCC', 'CCCCCCCCCCC/C=C/C(O)C(COP(=O)(O)OCCN)NC(=O)CCCCCCCCCCCCCCCCCC', 'CC(C)(C)Cc1ccnc(C(C)(C)C)c1.CC(C)(C)Cc1csc(C(C)(C)C)n1.CC(C)(C)Cc1nc2ccccc2n1CC(C)(C)C', 'CCCCCCCCCCCCCCC/C=C/C(O)C(COP(=O)([O-])OCC[N+](C)(C)C)NC(=O)CCCCCCCCCCC', 'CC(C)(C)CCCCCC(=O)OOC(C)(C)C.CCCCC(CC)C(=O)OOC(C)(C)CCC(C)(C)OOC(=O)C(CC)CCCC', 'CC.CC.CCC(CC)(CC)CCNC(=O)O.CCC(CC)=c1ccc2c(c1)Oc1cc(N(CC)CC)ccc1C=2C1(C)C=CC=C(C)C1', 'CCCCCCCC/C=C/C(O)C(COP(=O)(O)OCCN)NC(=O)CCCCCCCCCCCCCCCCCCCCC', 'CCCCCCCCC/C=C\\\\CCCCCCCC(=O)NC(COP(=O)(O)OCCN)C(O)CCCCCCCCCCCCC', 'CCCCCCCCC/C=C/[C@@H](O)[C@H](COP(=O)(O)OCCN)NC(=O)CCCCCCCCCCCCCCCCCCCC', 'CC(O)CC(=O)CCCCCCCCCCCCCCCCCCCCCCCCCC(O)CCOC1OC(CO)C(O)C(O)C1O', 'C=C1C[C@]2(N)C[C@](C)(CCC(C)[C@H](C)C3CCCCC3)C[C@](N)(C/C(N)=C(\\\\C)[C@@H](C)C/C=C/C=C3/CC[C@@H]4/C(=N/C)C(C)=C[C@@H]1C34S)C2', 'CCCCCCCCCCCCCCCCC/C=C/[C@@H](O)[C@H](COP(=O)([O-])OCC[N+](C)(C)C)NC(=O)CCCCCCCCC', 'CCCCCCCCCCCC/C=C/[C@@H](O)[C@H](COP(=O)(O)OCCN)NC(=O)CCCCCCCCCCCCCCCCC', 'CCCCCCCC/C=C/CCCCCCCC(=O)N[C@@H](COP(=O)([O-])OCC[N+](C)(C)C)[C@H](O)CCCCCCCCCCC', 'CCCCCCCCP(CCCCCCCC)(CCCCCCCC)(CCCCCCCC)OP(O)c1cccc2ccccc12', 'CCCCCCCCCCCCC/C=C/CCCC[C@H](O)[C@@H](COP(=O)([O-])OCC[N+](C)(C)C)NC(=O)CCCCCCCCC', 'C=C.C=NCCCCC(=C)Nc1ccccc1.CC.CC.CCC.CCCCC1(CCCC)CCc2cc(C)ccc2SC1.CCl', 'CCCCCCCCCCCC/C=C/C(O)C(COP(=O)([O-])OCC[N+](C)(C)C)NC(=O)CCCCCCCCCCCCCC', 'CCCCCCCCCCCCCCCCCC/C=C/C(O)C(COP(=O)(O)OCCN)NC(=O)CCCCCCCCCCC', 'CC(C)CCCCCC(=O)O.CC(C)CCCCCC(=O)O.CCCCCCCC(=O)OCCOCCOC(=O)CCCCCCC', 'CCCCCCCC/C=C\\\\CCCCCCCCCC(=O)NC(COP(=O)(O)OCCN)C(O)CCCCCCCCCCCC', 'CCCCCC/C=C\\\\CCCCCCCC(=O)OC[C@H](COP(=O)([O-])OCC[N+](C)(C)C)OC(=O)CCCCCCC/C=C\\\\C/C=C\\\\CCCCC', 'CCCCC/C=C\\\\C/C=C\\\\CCCCCCCC(=O)OCC(COP(=O)(O)OCCNC)OC(=O)CCCCCCCCC/C=C\\\\CCCCCC', 'CCCCC/C=C\\\\C/C=C\\\\C/C=C\\\\CCCCCCCCCCCCC(=O)OCC(O)COP(=O)(O)OCCNC(=O)CCCCCCCCCC', 'CCCCC/C=C/C/C=C/CCCCCCCCCC(=O)O[C@H](COC(=O)CCCCCCC/C=C/CCCCCCC)COP(=O)(O)OCCN', 'CC(C)CCC[C@@H](C)[C@H]1CC[C@H]2[C@@H]3CC=C4C[C@@H](OC(=O)CN(CCCCCCCCN)C(=O)CCCCCN)CC[C@]4(C)[C@H]3CC[C@]12C.Cl.Cl', 'CC/C=C\\\\C/C=C\\\\C/C=C\\\\C/C=C\\\\C/C=C\\\\CCCCCCCCCC(=O)NC(CS(=O)(=O)O)C(O)/C=C/CC/C=C/CC/C=C/CCCCCCC', 'CCCC/C=C/C/C=C/CCCCCCCC(=O)O[C@H](COC(=O)CCCCCCCCCCC/C=C/CCCCCC)COP(=O)(O)OCCN', 'CC/C=C/C/C=C/C/C=C/CCCCCCCC(=O)OC(COC(=O)CCCCCCCCCCCCCCC)COP(=O)([O-])OCC[N+](C)(C)C', 'CCCC/C=C\\\\C/C=C\\\\CCCCCCCC(=O)OC[C@H](COP(=O)([O-])OCC[N+](C)(C)C)OC(=O)CCCCCCC/C=C\\\\CCCCCCC', 'CCCCC/C=C\\\\C/C=C\\\\CCCCCCCCCC(=O)O[C@H](COC(=O)CCCCCCC/C=C\\\\CCCCCCC)COP(=O)(O)OCCN', 'CCCCCCCCCCC=CCC=CCCC(=O)OC(COC(=O)CCC=CCCCCCCCCCCC)COP(=O)([O-])OCC[N+](C)(C)C', 'CCCCC/C=C/C/C=C/CCCCCCCC(=O)OC[C@H](COP(=O)([O-])OCC[N+](C)(C)C)OC(=O)CCCCC/C=C/CCCCCCCC', 'COC1CN(CCN2CCOC(OC3CCC45CC46CCC4(C)C7C(C)CC(C(OC(=O)N8CCC8)C(C)C)OC7C(O)C4(C)C6CCC5C3(C)C)C2)C1', 'CCCCCCC/C=C\\\\C/C=C\\\\C/C=C\\\\CCC(=O)OC(COC(=O)CCCCCCCCCCCCCCC)COP(=O)([O-])OCC[N+](C)(C)C', 'CCCCC/C=C\\\\C/C=C\\\\CCCCCCCC(=O)OC[C@H](COP(=O)([O-])OCC[N+](C)(C)C)OC(=O)CCCCCCC/C=C\\\\CCCCCC', 'CCCCC/C=C\\\\C/C=C\\\\C/C=C\\\\CCCCCCC(=O)OC(COC(=O)CCCCCCCCCCCCCC)COP(=O)(O)OCCN(C)C', 'CC(C)B1CCCO1.CC(C)B1OC(C)(C)C(C)(C)O1.CC(C)B1OCCO1.CC(C)B1O[C@@H](C)[C@H](C(C)N=C=O)O1.CC(C)B1Oc2ccccc2O1', '[2H]C([2H])([2H])c1cc2c3c(c1)N(c1cc(C(C)(C)C)ccc1C)c1ccc(C(C)(C)C)cc1B3c1cc3c(cc1N2c1ccc2c(c1)C(C)(C)CC2(C)C)C(C)(C)CC3(C)C', 'CCCCC/C=C\\\\C/C=C\\\\CCCCCCCC(=O)OC(COC(=O)CCCCC/C=C\\\\CCCCCCCC)COP(=O)([O-])OCC[N+](C)(C)C', 'CC/C=C\\\\C/C=C\\\\C/C=C\\\\CCCCCCCC(=O)OC[C@H](COP(=O)(O)OCCN)OC(=O)CCCCCCCCCCCCCCCCCC', 'CCCCC/C=C\\\\C/C=C\\\\C/C=C\\\\CCCCCCC(=O)OC[C@H](COP(=O)(O)OCCN)OC(=O)CCCCCCCCCCCCCCCC', 'C=CCOP(=O)(OCC=C)O[C@H]1[C@H](OCC[C@H](C)CCCCCCC)[C@@H](NC(=O)CCCCCCCCC/C=C\\\\CCCCCC)[C@H](O)O[C@@H]1CC', 'CC/C=C\\\\C/C=C\\\\C/C=C\\\\CCCCCCCCCC(=O)NCCOP(=O)(O)OCC(O)COC(=O)CCCCCCCCCCCCCCCC', 'CCCCC/C=C\\\\C/C=C\\\\CCCCCCCCOC[C@H](COP(=O)(O)OC[C@H](N)C(=O)O)OCCCCCCCC/C=C\\\\C/C=C\\\\CCCCC', 'CCCC/C=C\\\\CCCCCCCC(=O)OC(COC(=O)CCCCCCCCCCC/C=C\\\\C/C=C\\\\CCCCC)COP(=O)(O)OCCNC', 'CCCCC/C=C/C/C=C/C/C=C/CCCCC(=O)OC[C@H](COP(=O)(O)OCCN)OC(=O)CCCCCCCCCCCCCCCCCC', 'CCCCCC/C=C\\\\C/C=C\\\\CCCCCCCC(=O)OC(COC(=O)CCCCCCC/C=C\\\\CCCCCCCC)COP(=O)(O)OCCN', 'CC1CCCN1C(=O)C(NC(=O)CCOCCOCCOCCN(C)CCCCCC1Cc2cc(O)ccc2C2CCC3(C)C(O)CCC3C12)C(C)(C)C', 'CC/C=C\\\\C/C=C\\\\C/C=C\\\\C/C=C\\\\C/C=C\\\\CCCCCC(=O)NC(CS(=O)(=O)O)C(O)/C=C/CC/C=C/CC/C=C/CCCCCCCCCCC', 'CCCCC/C=C\\\\C/C=C\\\\CCCCCCCCCC(=O)OC(COC(=O)CCCCCCC/C=C\\\\CCCCCCC)COP(=O)(O)OCCN', 'C=C(C)OC(C)=O.CC(=O)/C=C/C1=C(C)CCCC1(C)C.CC(=O)O/C(C)=C\\\\C=C1/C(C)=CCCC1(C)C.CC1=CCCC(C)(C)/C1=C/CC(C)O.[B].[H-].[Na+]', 'CCCCC/C=C\\\\C/C=C\\\\C/C=C\\\\CCCCCCCCCCC(=O)OCC(O)COP(=O)(O)OCCNC(=O)CCCCCCCCCCCC', 'CC/C=C/C/C=C/C/C=C/CCCCCCCC(=O)OC[C@H](COP(=O)(O)OCCN)OC(=O)CCCCCCCCCCCCCCCCCC', 'CCCCCCCC/C=C\\\\C/C=C\\\\C/C=C\\\\CCCC(=O)OC[C@H](COP(=O)([O-])OCC[N+](C)(C)C)OC(=O)CCCCCCCCCCCCC', 'CC[C@H](CC[C@@H](C)[C@H]1CC[C@H]2[C@@H]3CC=C4C[C@@H](OC(=O)CCC(=O)N(CCC(C)(C)N)CCC(C)(C)N)CC[C@]4(C)[C@H]3CC[C@]12C)C(C)C.Cl.Cl', 'CCCCC/C=C/C/C=C/C/C=C/CCCCCCC(=O)OC[C@H](COP(=O)(O)OCCN)OC(=O)CCCCCCCCCCCCCCCC', 'CCCC/C=C\\\\CCCCCCCC(=O)OCC(COP(=O)(O)OCCNC)OC(=O)CCCCCCCCCCC/C=C\\\\C/C=C\\\\CCCCC', 'CCCCCC/C=C/C=C/CCCCCCCC(=O)OC[C@H](COP(=O)([O-])OCC[N+](C)(C)C)OC(=O)CCCCCCC/C=C/CCCCCC', '[2H]C([2H])([2H])c1cc2c3c(c1)N(c1ccc4c(c1)C(C)(C)CCC4(C)C)c1cc4c(cc1B3c1cc(C(C)(C)C)ccc1N2c1ccc(C(C)(C)C)cc1)C(C)(C)CC4(C)C', 'CC/C=C\\\\C/C=C\\\\C/C=C\\\\CCCCCCCCCC(=O)OCC(O)COP(=O)(O)OCCNC(=O)CCCCCCCCCCCCCCCC', 'CCCCCCCC/C=C\\\\C/C=C\\\\C/C=C\\\\CCCC(=O)O[C@H](COC(=O)CCCCCCCCCCCCC)COP(=O)([O-])OCC[N+](C)(C)C', 'CCCCC/C=C\\\\C/C=C\\\\CCCCCCCCCCCC(=O)OCC(O)COP(=O)(O)OCCNC(=O)CCCCCCC/C=C\\\\CCCCC', 'CCCCCC[C@@H](OC[C@@H](C)NC(=O)[C@@H](C)COCC(O)CN)[C@@H](C)C(=O)N(C)[C@@H](CC(C)C)C(=O)N[C@H](C(=O)N[C@@H](CN)C(N)=O)C1CCCCC1', 'CCCCCCCC/C=C/C/C=C/C/C=C/CCCC(=O)OC[C@H](COP(=O)(O)OCCN)OC(=O)CCCCCCCCCCCCCCCC', 'CC/C=C\\\\C/C=C\\\\C/C=C\\\\CCCCCCCC(=O)O[C@H](COC(=O)CCCCCCCCCCCCCCCCCC)COP(=O)(O)OCCN', 'CCCCC1(CCCC)C2=C(C=C(C)C(C)C2)c2ccc(N(c3ccc4cc(C)ccc4c3)C3C=CC4=C(C3)C(CCCC)(CCCC)c3ccc(C)cc34)cc21', 'CCCCC/C=C\\\\C/C=C\\\\CCCCCCCC(=O)OCC(COP(=O)(O)OCCNC)OC(=O)CCCCCCC/C=C\\\\CCCCCCCC', 'CCCCCC/C=C\\\\C/C=C\\\\CCCCCCCC(=O)NCCOP(=O)(O)OCC(O)COC(=O)CCCCCCC/C=C\\\\CCCCCCCC', 'CCCCCCCCC/C=C\\\\C/C=C\\\\C/C=C\\\\CCC(=O)OC(COC(=O)CCCCCCCCCCCCCCCC)COP(=O)(O)OCCN', 'CC/C=C\\\\C/C=C\\\\C/C=C\\\\C/C=C\\\\C/C=C\\\\C/C=C\\\\CCC(=O)NC(CS(=O)(=O)O)C(O)/C=C/CC/C=C/CCCCCCCCCCCCCCC', 'CCCCC/C=C\\\\C/C=C\\\\CC/C=C/CCCC(=O)OC(COC(=O)CCCCCCCCCCCCCCC)COP(=O)([O-])OCC[N+](C)(C)C', 'CCCCC/C=C\\\\C/C=C\\\\CCCCCCCC(=O)NCCOP(=O)(O)OCC(O)COC(=O)CCCCCCC/C=C\\\\CCCCCCCCC', 'CC[C@H](CC[C@@H](C)C1CCC2C3CC=C4CC(OC(=O)CCC(=O)N(CCC(C)(C)N)CCC(C)(C)N)CCC4(C)C3CCC21C)C(C)C.Cl.Cl', 'CCCCCCCCCCN(CCCCCCCCCC)C(=O)CCC(C(=O)O)N1CCN(CC(=O)O)CCN(CC(=O)O)CCN(CC(=O)O)CC1', 'CC(C)CCC[C@@H](C)[C@H]1CC[C@H]2[C@@H]3CC=C4C[C@@H](OC(=O)CCCC(=O)N(CCCN)CCCCCCCCN)CC[C@]4(C)[C@H]3CC[C@]12C.Cl.Cl', 'CCCCC/C=C\\\\C/C=C\\\\CCCCCCCCCCCC(=O)OC[C@H](COP(=O)(O)OCCN)OC(=O)CCCCCCC/C=C\\\\CCCCC', 'CC/C=C\\\\C/C=C\\\\C/C=C\\\\CCCCCCCC(=O)NCCOP(=O)(O)OCC(O)COC(=O)CCCCCCCCCCCCCCCCCC', 'CCCCCC/C=C\\\\C/C=C\\\\CCCCCCCCCC(=O)OCC(O)COP(=O)(O)OCCNC(=O)CCCCCCC/C=C\\\\CCCCCC', 'CC/C=C\\\\C/C=C\\\\C/C=C\\\\CCCCCCCC(=O)OCC(COP(=O)(O)OCCNC)OC(=O)CCCCCCCCCCCCCCCCC', 'C=CCN(C(=O)CNC(CF)c1ccc2oc3ccccc3c2c1)/C(=C\\\\C)N1CCCCC1.CCC.CCCC.CCCc1ccncc1/C=C(\\\\C)CNC', 'CC(C)CC(=O)N1CCOC(OC2CCC34CC35CCC3(C)C6C(C)CC(C(OC(=O)N7CCC7)C(C)C)OC6C(O)C3(C)C5CCC4(CN)C2(C)C)C1', 'CCC/C=C\\\\C/C=C\\\\CCCCCCCC(=O)OCC(O)COP(=O)(O)OCCNC(=O)CCCCCCCCC/C=C\\\\CCCCCCCCC', 'CCCC/C=C\\\\C/C=C\\\\CCCCCCCC(=O)O[C@H](COC(=O)CCCCCCCCC/C=C\\\\CCCCCCCC)COP(=O)(O)OCCN', 'CCCCCC/C=C\\\\C/C=C\\\\CCCCCCCC(=O)OCC(O)COP(=O)(O)OCCNC(=O)CCCCCCC/C=C\\\\CCCCCCCC', 'CCCCCCCCCCCCCC[C@@H](O)[C@@H](O)[C@H](COC1OC(CO)C(O)C(O)C1O)N[C@@H](CCCCCCCCCCC1CC1C)C(F)(F)F', 'CNC(=O)CCC(=O)O[C@@H]1C[C@@H](CO)N(C(=O)CCCCCNC(=O)O[C@H]2CC[C@@]3(C)C(=CCC4C3CC[C@@]3(C)C4CC[C@@H]3[C@H](C)CCCC(C)C)C2)C1', 'CCCCC/C=C\\\\C/C=C\\\\C/C=C\\\\CCCCC(=O)OC(COC(=O)CCCCCCCCCCCCCCC)COP(=O)([O-])OCC[N+](C)(C)C', 'CCCCC/C=C/C/C=C/CCCCCCCCCCCC(=O)O[C@H](COC(=O)CCCCCCC/C=C/CCCCC)COP(=O)(O)OCCN', 'COC1CN(CCN2CCO[C@@H](O[C@H]3CC[C@]45CC46CC[C@]4(C)[C@@H]7C(OC([C@H](OC(=O)N8CCC8)C(C)C)C[C@H]7C)[C@H](O)[C@@]4(C)C6CC[C@H]5C3(C)C)C2)C1', 'CCCCCCCCCC=CCC=CCC=CCCC(=O)OC(COC(=O)CCCCCCCCCCCCC)COP(=O)([O-])OCC[N+](C)(C)C', 'CCCCCCCCCCC(OCCOCCOCCOCCOCCOCCOCCOCCOCCO)N(OC(C)(C)C)C(=O)OC(C)(C)C', 'CC/C=C\\\\C/C=C\\\\C/C=C\\\\CCCCCCCC(=O)OC(COC(=O)CCCCCCCCCCCCCCCCC)COP(=O)(O)OCCNC', 'CCC(C)(COCC(C)(C)CN(C)C)Cn1nnc2c1CCN(C(=O)CCCC(=O)NCCCOCCOCCOCCCNC)C[C@H](OC)[C@H]2OC', 'CC/C=C\\\\C/C=C\\\\C/C=C\\\\CCCCCCCCCC(=O)OC(COC(=O)CCCCCCCCCCCCC)COP(=O)([O-])OCC[N+](C)(C)C', 'CC/C=C/C/C=C/C/C=C/CCCCCCCC(=O)O[C@H](COC(=O)CCCCCCCCCCCCCCCCCC)COP(=O)(O)OCCN', 'CCCCC/C=C/C/C=C/CCCCCCCCCCCC(=O)OC[C@@H](COP(=O)(O)OCCN)OC(=O)CCCCCCC/C=C/CCCCC', 'CC.CC.CC.CCC.CN1CCCC1c1ncc(-c2ccc(-c3ccc4cc(-c5cnc(C6CCCN6)[nH]5)ccc4c3)cc2)[nH]1.COC.O=CCNC=O', 'CCCCC/C=C\\\\C/C=C\\\\C/C=C\\\\CCCCCCCCCCC(=O)NCCOP(=O)(O)OCC(O)COC(=O)CCCCCCCCCCCC', 'C=C(C)/C(C)=C\\\\N(C1=CC(NC2=CCC(C(C)C)C=C2)CC=C1)/C(C)=C([B]c1cc2cc3c(cc2s1)C(C)(C)CCC3(C)C)/C=C(\\\\CC(C)C)C(C)(C)CC', 'CCCCCCOc1ccc(/C=N/CCN(CC/N=C/c2ccc(OCCCCCC)c(C)n2)CC/N=C/c2ccc(OCCCCCC)c(C)n2)nc1C', 'C=C1C(C)C1C1Cc2ccccc2C1.C=CCCC(NC(=O)C(C)C1C(CC)C1(C)C)C(=O)C(C)=O.CC(=O)C(C)c1ccccc1.CCC.CCC(C)=O', 'CCCCCCCCCCc1ccc(N(CC)c2ccc(C3=C(O)C(C4C=CC(=[N+](CC)c5ccc(CCCCCCCCCC)cc5)C=C4)C3=O)cc2)cc1', 'CCCCCCCCCC/C=C\\\\C/C=C\\\\CCC(=O)OC(COC(=O)CC/C=C\\\\CCCCCCCCCCC)COP(=O)([O-])OCC[N+](C)(C)C', 'CCCCCCCC/C=C/C/C=C/CCC(=O)OC(COC(=O)CCCCCCC/C=C/CCCCCCCCCCC)COP(=O)(O)OCCN', 'CCCCC/C=C/C/C=C/C/C=C/CCCCC(=O)O[C@H](COC(=O)CCCCCCCCCCCCCCCCCC)COP(=O)(O)OCCN', 'C/C=C\\\\CC(CCC)C1=C2CCC=CC2=C(C2CN(c3cccc4ccccc34)CC([C@H]3C=C(c4ccccc4)C=CC3)C/C=C(\\\\C)C(C)C3CCCCC23)CC1', 'CC/C=C/C/C=C/C/C=C/CCCCCCCC(=O)OC[C@H](COP(=O)([O-])OCC[N+](C)(C)C)OC(=O)CCCCCCCCCCCCCCC', 'CC/C=C/CC(O)/C=C/C=C/CCCCCCCC(=O)OC[C@H](COP(=O)([O-])OCC[N+](C)(C)C)O/C=C/CCCCCCCCCCCCCC', 'CSC1CCC(O)(CCNCCCC[C@H]2CCCC3C2CC[C@H]2C3(C)CC[C@H]3C(C)(C)C(C4=CCC(COc5ncccc5C#N)CC4)=CCC32C)CC1', 'CC/C=C/C/C=C/C/C=C/CCCCCCCC(=O)O[C@H](COC(=O)CCCCCCCCCCCCCCC)COP(=O)([O-])OCC[N+](C)(C)C', 'CCCCC/C=C\\\\C/C=C\\\\CCCCCCCCCC(=O)OCC(O)COP(=O)(O)OCCNC(=O)CCCCCCC/C=C\\\\CCCCCCC', 'COCCN1CC(N2CCO[C@@H](O[C@H]3CC[C@]45CC46CC[C@]4(C)[C@@H]7C(OC([C@H](OC(=O)N8CCC8)C(C)C)C[C@H]7C)[C@H](O)[C@@]4(C)C6CC[C@H]5C3(C)C)C2)C1', 'CCCCNc1ccc2c(c1)nc(NC(C)(C)C)c1[nH]c(=O)n(Cc3ccc(C(=O)CCC(=O)NCCCNCCCCCCCCCC(C)(C)C)cc3)c12', 'CCCCCC/C=C\\\\C/C=C\\\\CCCCCCCCCC(=O)NCCOP(=O)(O)OCC(O)COC(=O)CCCCCCC/C=C\\\\CCCCCC', 'CCCCC/C=C/C/C=C/CCCCCCCCCC(=O)OC[C@H](COP(=O)(O)OCCN)OC(=O)CCCCCCC/C=C/CCCCCCC', 'CCCCCCCCCCCCCCOCC(CNC(=O)[C@H](CCCN=C(N)N)NC(=O)O)OCCCCCCCCCCCCCC.Cl.Cl', 'CC(C)CCCC(C)C1CCC2C3CC=C4CC(OC(=O)CCCC(=O)N(CCCN)CCCCCCCCN)CCC4(C)C3CCC12C.Cl.Cl', '[C-]1=CC=CC1.[C-]1=CC=CC1.[C-]1=[As]C=C[As]1.[C-]1=[As]C=C[As]1.[Cl-].[Cl-].[Zr+2].[Zr+2]', 'CC1(CO[Si](C)(C)C(C)(C)C)CC(O)C1.COC1CC(C)(C(O)C(=O)CC2CC2)C1.COC1CC(C)(C=O)C1.COC1CC(C)(CO)C1.[B][B]B([B])[B]', 'CC/C=C\\\\C/C=C\\\\C/C=C\\\\CCCCCCCCCC(=O)OC(COC(=O)CCCCCCCCCCCCCCCC)COP(=O)(O)OCCN', 'C=C/C=C(/C)C(=CC1C=CN(c2ccc(C3=CC=CC3)cc2)/C=C\\\\C(C)=C/C(=C)/C(C)=C/1)C1=C(C)CCC=C1.CC.CC.CCc1ccccc1.c1ccccc1', 'CC/C=C\\\\C/C=C\\\\C/C=C\\\\CCCCCCCC(=O)OC[C@H](COP(=O)([O-])OCC[N+](C)(C)C)OC(=O)CCCCCCCCCCCCCCC', 'CC/C=C/C=C/C=C/CCCCCCCC(=O)OC(COC(=O)CCCCCCCCCCCCCCCCCCCC)COP(=O)(O)OCCN', 'CCCCC/C=C\\\\C/C=C\\\\CCCCCCCCCC(=O)OC(COC(=O)CCCCCCC/C=C\\\\CCCCCC)COP(=O)(O)OCCNC', 'CCO[C@@H](C1C[C@@H](C)[C@H]2C(O1)[C@H](O)[C@@]1(C)C3CC[C@H]4C(C)(C)[C@@H](O[C@H]5CN(C6CN(CC(=O)N7CCC7)C6)CCO5)CCC45CC35CC[C@]21C)C(C)(C)O', 'CCCCCCC/C=C\\\\C/C=C\\\\C/C=C\\\\CCCCCCCCCCCCC(=O)OC(COC(=O)CCCCCCCC)COP(=O)(O)OCCN', 'CCCC/C=C\\\\CCCCCCCC(=O)OC[C@H](COP(=O)([O-])OCC[N+](C)(C)C)OC(=O)CCCCCCCCC/C=C\\\\C/C=C\\\\CCCCC', 'CCCCC/C=C\\\\C/C=C\\\\CCCCCCCC(=O)OC(COC(=O)CCCCCCCCC/C=C\\\\CCCCCC)COP(=O)(O)OCCNC', 'CCCCCCCCCCN(CCCCCCCCCC)C(=O)CC[C@@H](C(=O)O)N1CCN(CC(=O)O)CCN(CC(=O)O)CCN(CC(=O)O)CC1', 'CCCCC/C=C\\\\C/C=C\\\\CCCCCCCCCC(=O)OCC(COP(=O)(O)OCCNC)OC(=O)CCCCCCC/C=C\\\\CCCCCC', 'CCO[C@@H](C1C[C@@H](C)[C@H]2C(O1)[C@H](O)[C@@]1(C)C3CC[C@H]4C(C)(C)[C@@H](O[C@H]5CN(C6CN(CC(=O)N7CCC7)C6)CCO5)CC[C@@]45C[C@@]35CC[C@]21C)C(C)(C)O', 'CCCCCCC/C=C/CCCCCCCC(=O)OC[C@H](COP(=O)(O)OCCN)OC(=O)CCC/C=C/C/C=C/CCCCCCCCCCC', 'CCCCCCCC/C=C\\\\C/C=C\\\\C/C=C\\\\CCCC(=O)OCC(COP(=O)(O)OCCNC)OC(=O)CCCCCCCCCCCCCCC', 'CCCC/C=C/CCCCCCCC(=O)O[C@@H](COC(=O)CCC/C=C/C/C=C/CCCCCCCCCCC)COP(=O)([O-])OCC[N+](C)(C)C', 'CC[Si](CC)(CC)O[C@H]1[C@H]2O[C@@H]([C@H](OC(=O)N3CCC3)C(C)C)C[C@@H](C)[C@@H]2[C@@]2(C)CCC34C[C@@]35CCC(O[C@H]3CCCCO3)C(C)(C)[C@@H]5CC[C@H]4[C@]12C', 'CC[C@H]1OC(=O)C(C)[C@@H](OC)[C@H](C)[C@@H](OC2CC(N(C)C)CC(C)O2)[C@@H](C)C[C@@H](C)CN(CCCNCc2cccc3ccccc23)C(C)C(O)[C@]1(C)O', 'CCCCC/C=C\\\\C/C=C\\\\C/C=C\\\\CCCCC(=O)O[C@H](COC(=O)CCCCCCCCCCCCCCC)COP(=O)([O-])OCC[N+](C)(C)C', 'CC(C)(C)OC(=O)CCCCCCCCCCCCCCCCC(=O)N[C@@H](CCC(=O)NCCOCCOCCOCCN=[N+]=[N-])C(=O)OC(C)(C)C', 'CC/C=C\\\\C/C=C\\\\C/C=C\\\\C/C=C\\\\C/C=C\\\\C/C=C\\\\C/C=C\\\\CCCC(=O)NC(CS(=O)(=O)O)C(O)/C=C/CCCCCCCCCCCCCCC', 'CC.CCC.CCC.CCCN(C)CCCNc1nc(CN2CCN(C(c3ccccc3)c3ccc(OC(F)(F)F)cc3)CC2)nc2ccccc12.CN', 'Oc1ccccc1OC(I)([I-]I)[I-]I', 'CC/C(=C(\\\\C1CCC(O)CC1)C1CCC(OCCCOCCCOCCCNC2CCC3C(=O)N(C4CCC(=O)NC4=O)CC3C2)CC1)C1CCCCC1', 'CCCC/C=C/C/C=C/CCCCCCCC(=O)OC[C@H](COP(=O)([O-])OCC[N+](C)(C)C)OC(=O)CCCCCCC/C=C/CCCCCCC', 'CCCCCC/C=C/CCCCCCCC(=O)OC[C@H](COP(=O)([O-])OCC[N+](C)(C)C)OC(=O)/C=C/C=C/CCCCCCCCCCCCC', 'C=C(C)Nc1cc(CN(CC)CC2(C)CCN(c3ncncc3Oc3ccc(F)cc3-c3ccccc3C(C)(C)O)C2)ccc1C.CC.CC.CCC(C)C', 'C=C(C)[C@@H]1CC[C@]2(NCCN3C[C@H]4N(Cc5ccccc5)C[C@@H]5CC543)CC[C@]3(C)[C@H](CC[C@@H]4[C@@]5(C)CC=C(c6ccc(C(=O)O)cc6)C(C)(C)[C@@H]5CC[C@]43C)[C@@H]12', 'CC/C=C\\\\C/C=C\\\\C/C=C\\\\CCCCCC(=O)OC(COC(=O)CCCCCCCCCCCCCCCCCCCC)COP(=O)(O)OCCN', 'CCCCCCCCCCCCCC/C=C/OC[C@H](COP(=O)([O-])OCC[N+](C)(C)C)OC(=O)CCCCCCC/C=C\\\\C=C\\\\C(=O)CCCCC', 'CCCOCCCCC(O)COCCC[Si](C)(C)CC[Si](C)(C)C.C[Si](C)(C)CC[Si](C)(C)CCCOCC1CO1.NCCOCCO', 'CCCCCCCCC/C=C\\\\C/C=C\\\\C/C=C\\\\CCC(=O)OC(COC(=O)CCCCCCCCCCCCC)COP(=O)([O-])OCC[N+](C)(C)C', 'CCCCCC/C=C/CCCCCCCC(=O)O[C@H](COC(=O)/C=C/C=C/CCCCCCCCCCCCC)COP(=O)([O-])OCC[N+](C)(C)C', 'CCCCC/C=C\\\\C=C\\\\C(=O)CCCCCCCC(=O)O[C@H](CO/C=C/CCCCCCCCCCCCCC)COP(=O)([O-])OCC[N+](C)(C)C', 'CCCCCCCC/C=C/C/C=C/C/C=C/CCCC(=O)OC[C@@H](COP(=O)([O-])OCC[N+](C)(C)C)OC(=O)CCCCCCCCCCCCC', '[2H]C([2H])([2H])c1cc2c3c(c1)N(c1ccc(C(C)(C)C)cc1C1CC4CCC1C4)c1ccc(C(C)(C)C)cc1B3c1cc(C(C)(C)C)ccc1N2c1ccc(C(C)(C)C)cc1', 'CCCCCCCC/C=C/CCCCCC(=O)O[C@H](COC(=O)/C=C/C=C/CCCCCCCCCCCCC)COP(=O)([O-])OCC[N+](C)(C)C', 'CC/C=C\\\\C/C=C\\\\C/C=C\\\\CCCCCCCC(=O)OC(COC(=O)CCCCCCCCCCCCCCC)COP(=O)([O-])OCC[N+](C)(C)C', 'CCCCCCC/C=C\\\\C/C=C\\\\C/C=C\\\\CCCCCCCCCCC(=O)OC(COC(=O)CCCCCCC)COP(=O)([O-])OCC[N+](C)(C)C', 'CCC/C=C\\\\C/C=C\\\\CCCCCCCC(=O)NCCOP(=O)(O)OCC(O)COC(=O)CCCCCCCCC/C=C\\\\CCCCCCCCC', 'CC/C=C\\\\C/C=C\\\\C/C=C\\\\CCCCCCCC(=O)OCC(O)COP(=O)(O)OCCNC(=O)CCCCCCCCCCCCCCCCCC', 'CCCCC/C=C\\\\CCCCCCCC(=O)OCC(COP(=O)([O-])OCC[N+](C)(C)C)OC(=O)CCCCCCC/C=C\\\\C/C=C\\\\CCCCCC', 'CCCCC/C=C\\\\C/C=C\\\\C/C=C\\\\CCCCCCCCC(=O)NCCOP(=O)(O)OCC(O)COC(=O)CCCCCCCCCCCCCC', 'CCC(C)[C@H](NC(=O)[C@H](C)[C@@H](OC)[C@@H]1CCCN1C(=O)C[C@@H](OC)[C@H]([C@@H](C)CC)N(C)C(=O)[C@@H](NC(=O)[C@@H](NC)C(C)C)C(C)C)[C@@H](CC(=O)O)OC', 'CC1=C/C(=N\\\\c2cc(C)c(N)cc2NC2CCCCC2)CC=C1NCCCCCCCCNc1cc2c(cc1C)nc1cc(C)c(N)cc1[n+]2C1CCCCC1', 'CC/C=C\\\\C/C=C\\\\C/C=C\\\\CCCCCCCC(=O)O[C@H](COC(=O)CCCCCCCCCCCCCCC)COP(=O)([O-])OCC[N+](C)(C)C', 'CCCCCCCC/C=C\\\\CCCCCCCC(=O)CC(C(=O)CCCCCCC/C=C\\\\CCCCCCCC)C(O)[N+](C)(C)CCO.[Br-]', 'CCCCC/C=C/C/C=C/CCCCCCCC(=O)O[C@H](COC(=O)CCCCC/C=C/CCCCCCCC)COP(=O)([O-])OCC[N+](C)(C)C', 'CC/C=C\\\\C/C=C\\\\C/C=C\\\\C/C=C\\\\C/C=C\\\\CCCCCCCC(=O)NC(CS(=O)(=O)O)C(O)/C=C/CC/C=C/CC/C=C/CCCCCCCCC', 'CC.CC1CC(N(C)C)CC(O)O1.CO.CO.COC1C[C@@H](C)C(=O)C(C)C(O)[C@](C)(O)COC(=O)C(C)[C@@H](O[C@H]2CC(C)[C@@H](O)C(C)O2)[C@H](C)C1', 'CCCCCCCC/C=C\\\\CCCCCCCC(=O)OC[C@H](COP(=O)(O)OCCN)OC(=O)/C=C/C=C/CCCCCCCCCCC(C)CC', 'CCCCC/C=C\\\\C/C=C\\\\C/C=C\\\\CCCCC(=O)O[C@H](COC(=O)CCCCCCCCCCCCCCCCCC)COP(=O)(O)OCCN', 'CC/C=C\\\\C/C=C\\\\C/C=C\\\\CCCCCC(=O)NCCOP(=O)(O)OCC(O)COC(=O)CCCCCCCCCCCCCCCCCCCC', 'CCCCC/C=C\\\\C/C=C\\\\C/C=C\\\\CCCCC(=O)OC[C@H](COP(=O)(O)OCCN)OC(=O)CCCCCCCCCCCCCCCCCC', 'CC[Si](CC)(CC)O[C@H]1[C@H]2O[C@@H](C(OC(=O)N3CCC3)C(C)C)C[C@@H](C)[C@@H]2[C@@]2(C)CC[C@@]34CC35CCC(O[C@H]3CCCCO3)C(C)(C)[C@@H]5CC[C@H]4[C@]12C', 'CCCCCCCC/C=C/C/C=C/C/C=C/CCCC(=O)O[C@H](COC(=O)CCCCCCCCCCCCCCCC)COP(=O)(O)OCCN', 'CC/C=C\\\\C/C=C\\\\C/C=C\\\\CCCCCC(=O)OC(COC(=O)CCCCCCCCCCCCCCCCC)COP(=O)([O-])OCC[N+](C)(C)C', 'CCCC/C=C\\\\CCCCCCCC(=O)OCC(COP(=O)([O-])OCC[N+](C)(C)C)OC(=O)CCCCCCCCC/C=C\\\\C/C=C\\\\CCCCC', 'CCC/C=C\\\\CCCCCCCC(=O)OCC(O)COP(=O)(O)OCCNC(=O)CCCCCCCCCCCCC/C=C\\\\C/C=C\\\\CCCCC', 'CCCCC/C=C/C/C=C/C/C=C/CCCCC(=O)O[C@H](COC(=O)CCCCCCCCCCCCCCC)COP(=O)([O-])OCC[N+](C)(C)C', 'CCCCCC/C=C\\\\C/C=C\\\\CCCCCCCCCC(=O)OC(COC(=O)CCCCCCC/C=C\\\\CCCCCC)COP(=O)(O)OCCN', 'CC(C)[C@@H](OC(=O)N1CCC1)[C@H]1C[C@@H](C)[C@H]2[C@H](O1)[C@H](O)[C@@]1(C)[C@@H]3CC[C@H]4C(C)(C)C(O[C@H]5CN(CCN6CCOCC6)CCO5)CC[C@@]45C[C@@]35CC[C@]21C', 'Cc1cc(CC(CC(=O)OC2CC(C)(C)NC(C)(C)C2)(C(=O)OC2CC(C)(C)NC(C)(C)C2)C(=O)OC2CC(C)(C)NC(C)(C)C2)cc(C(C)(C)C)c1O', 'CC/C=C\\\\C/C=C\\\\C/C=C\\\\CCCCCC(=O)OCC(O)COP(=O)(O)OCCNC(=O)CCCCCCCCCCCCCCCCCCCC', 'CCCCC/C=C\\\\C/C=C\\\\CCCCCCCCCCCC(=O)NCCOP(=O)(O)OCC(O)COC(=O)CCCCCCC/C=C\\\\CCCCC', 'CCCCC/C=C\\\\C/C=C\\\\C/C=C\\\\CCCCCCCCC(=O)OCC(O)COP(=O)(O)OCCNC(=O)CCCCCCCCCCCCCC', 'CCCCC/C=C\\\\C/C=C\\\\CCCCCCCC(=O)OC(COC(=O)CCCCCCC/C=C\\\\CCCCCCCC)COP(=O)(O)OCCNC', 'CCCCC/C=C\\\\C/C=C\\\\CCCCCCCC(=O)OC(COC(=O)CCCCCCC/C=C\\\\CCCCCCCCC)COP(=O)(O)OCCN', 'CC(=O)CCC(CCC(=O)NCC(C)(C)CC(C)(C)CNC(=O)OC(C)(C)C)(CCC(=O)NCC(C)(C)CC(C)(C)CNC(=O)OC(C)(C)C)[N+](=O)[O-]', 'CCC/C=C\\\\CCCCCCCC(=O)OCC(COP(=O)([O-])OCC[N+](C)(C)C)OC(=O)CCCCCCCCC/C=C\\\\C/C=C\\\\CCCCCC', 'C=CCOP(=O)(OCC=C)OC1[C@@H](CC)OC(O)[C@H](NC(=O)CCCCCCCCC/C=C\\\\CCCCCC)[C@H]1OCC[C@H](C)CCCCCCC', 'CCN(CC)c1ccc(C(=CC(C=C(c2ccc(N(CC)CC)cc2)c2ccc(N(CC)CC)cc2)CCCCC(N)=O)c2ccc(N(CC)CC)cc2)cc1', '[2H]C([2H])([2H])c1cc2c3c(c1)N(c1ccc(C(C)(C)C)cc1C)c1cc(C(C)(C)C)ccc1B3c1cc3c(cc1N2c1ccc2c(c1)C(C)(C)CC2(C)C)C(C)(C)CC3(C)C', 'CC/C=C/CC(O)/C=C/C=C/CCCCCCCC(=O)O[C@H](CO/C=C/CCCCCCCCCCCCCC)COP(=O)([O-])OCC[N+](C)(C)C', 'CCCCC/C=C\\\\C/C=C\\\\CCCCCCCCCC(=O)NCCOP(=O)(O)OCC(O)COC(=O)CCCCCCC/C=C\\\\CCCCCCC', 'CCCC/C=C/CCCCCCCC(=O)O[C@@H](COC(=O)CCCCCCCCC/C=C/C/C=C/CCCCC)COP(=O)([O-])OCC[N+](C)(C)C', 'CCCCCC/C=C/CCCCCCCC(=O)O[C@H](COC(=O)CCCC/C=C/C/C=C/CCCCCCCC)COP(=O)([O-])OCC[N+](C)(C)C', 'CC/C=C\\\\C/C=C\\\\C/C=C\\\\CCCCCCCC(=O)OC(COC(=O)CCCCCCCCCCCCCCCCCC)COP(=O)(O)OCCN', 'CCCCCCCC/C=C\\\\C/C=C\\\\C/C=C\\\\CCCC(=O)OC(COC(=O)CCCCCCCCCCCCCC)COP(=O)(O)OCCN(C)C', 'CCCCC/C=C\\\\C/C=C\\\\CCCCCCCCCC(=O)OC[C@H](COP(=O)(O)OCCN)OC(=O)CCCCCCC/C=C\\\\CCCCCCC', 'CCCC/C=C\\\\CCCCCCCC(=O)O[C@H](COC(=O)CCCCCCCCC/C=C\\\\C/C=C\\\\CCCCC)COP(=O)([O-])OCC[N+](C)(C)C', 'CCCCCCC/C=C/CCCCCCCC(=O)O[C@H](COC(=O)CCC/C=C/C/C=C/CCCCCCCCCCC)COP(=O)(O)OCCN', 'C.C.C.C.C.C.CC(C)C(=O)Nc1ccccc1.CCC(=O)c1ccccc1.CCC(C)=O.CCCc1ccccc1.CCS(=O)(=O)c1ccccc1', 'CCCCCC/C=C/C=C/CCCCCCCC(=O)OC[C@H](COP(=O)([O-])OCC[N+](C)(C)C)OC(=O)CCCCC/C=C/CCCCCCCC', 'CCCCCCOC(=O)CNCCNCCNC(=O)CC(CC(=O)CC(C)C(=O)NCCNCCNCC(=O)OCCCCCC)C(=O)NCCCC', 'CCCCC/C=C\\\\C/C=C\\\\CCCCCCCCCCCC(=O)OC(COC(=O)CCCCCCC/C=C\\\\CCCCC)COP(=O)(O)OCCN', 'CCCCC/C=C/C/C=C/C/C=C/CCCCCCC(=O)O[C@H](COC(=O)CCCCCCCCCCCCC)COP(=O)([O-])OCC[N+](C)(C)C', 'CCC.CCC(C)C(C(CC(=O)N1CCCC1C(OC)C(C)C)OC)N(C)C(=O)CNC(=O)C(N)C(C)(C)O.Cc1ccc(O)cc1.O=CNCCO', 'CCCC/C=C\\\\C/C=C\\\\CCCCCCCC(=O)NCCOP(=O)(O)OCC(O)COC(=O)CCCCCCCCC/C=C\\\\CCCCCCCC', 'CCC.CCC(C)C(C(CC(=O)N1CCCC1C(OC)C(C)C(=O)NCCO)OC)N(C)C(=O)CNC(=O)C(CO)N(C)C.CO.Cc1ccccc1', 'CCCCCCCC/C=C\\\\C/C=C\\\\C/C=C\\\\CCCC(=O)OC(COC(=O)CCCCCCCCCCCCCCC)COP(=O)(O)OCCNC', 'CCC/C=C\\\\CCCCCCCC(=O)OCC(COP(=O)(O)OCCN)OC(=O)CCCCCCCCCCC/C=C\\\\C/C=C\\\\CCCCCCC', 'C.CC(C)C.CC=O.CC=O.CCC.CCCCOc1cc(C(=O)Cc2ccccc2)cc(C(=O)N[C@H](C)c2ccccc2)c1.Cc1ccc(C(C)C)cc1', 'CCCCC=CCC=CCCCCCCCCOP(=O)(COCCn1cnc2c(N)ncnc21)OCCCCCCCCC=CCC=CCCCCC', 'CCCCC/C=C\\\\C/C=C\\\\CCCCCCCCCCCC(=O)O[C@H](COC(=O)CCCCCCC/C=C\\\\CCCCC)COP(=O)(O)OCCN', 'CCCCCCCC/C=C/CCCCCCCC(=O)OC[C@H](COP(=O)(O)OCCN)OC(=O)/C=C/C=C/CCCCCCCCCCCC(C)C', 'CCCCC/C=C\\\\C/C=C\\\\C/C=C\\\\CCCCCCC(=O)O[C@H](COC(=O)CCCCCCCCCCCCC)COP(=O)([O-])OCC[N+](C)(C)C', 'CCCCC/C=C\\\\C/C=C\\\\C/C=C\\\\CCCCCCC(=O)OC(COC(=O)CCCCCCCCCCCCCCC)COP(=O)(O)OCCNC', 'CC(C)CCCC(C)[C@H]1CC[C@H]2[C@@H]3CC=C4C[C@@H](OC(=O)CCCC(=O)N(CCCN)CCCCCCCCN)CC[C@]4(C)[C@H]3CC[C@]12C.Cl.Cl', 'CCCCCC/C=C/C=C/CCCCCCCC(=O)O[C@H](COC(=O)CCCCCCC/C=C/CCCCCC)COP(=O)([O-])OCC[N+](C)(C)C', 'CCCCCCC/C=C\\\\C/C=C\\\\C/C=C\\\\CCCCCCCCC(=O)OC(COC(=O)CCCCCCCCCCCC)COP(=O)(O)OCCN', 'CC/C=C\\\\C/C=C\\\\C/C=C\\\\C/C=C\\\\C/C=C\\\\C/C=C\\\\CCCCCCC(=O)NC(CS(=O)(=O)O)C(O)/C=C/CC/C=C/CCCCCCCCCCC', 'CCCCC[C@H](CC(=O)N1CCC(c2ccc(CCCC)cc2)CC1)C(=O)N[C@H](C(=O)C[C@@H](C)C(=O)N[C@@H](CCCCC)C(=O)OC)[C@@H](C)OC(C)(C)C', '[2H]c1c([2H])c([2H])c(-c2c([2H])c([2H])c(-c3c([2H])c([2H])c([2H])c([2H])c3N(c3c([2H])c([2H])c4c(c3[2H])C(C([2H])([2H])[2H])(C([2H])([2H])[2H])c3c(C)c(C)c(C)c([2H])c3-4)c3c([2H])c([2H])c4oc5c([2H])c([2H])c(-c6c([2H])c([2H])c([2H])c([2H])c6[2H])c([2H])c5c4c3[2H])c([2H])c2[2H])c([2H])c1[2H]', 'CC#CCC(C)(C)C1CC1.CCC1=C(C)/C(=C(/C2=C(C)C(CC)=C(C)[N+]2(C)C#CC(C)(C)CCP(C)C)c2ccc(OC=O)cc2)[N+](C)=C1C.CCNC', 'CC(C)(C)OC(=O)CCCCCCCCCCCCCCCCC(=O)NC(CCC(=O)NCCOCCOCCOCCN=[N+]=[N-])C(=O)OC(C)(C)C', 'CCCCC/C=C\\\\C/C=C\\\\C/C=C\\\\CCCCC(=O)OCC(COP(=O)(O)OCCNC)OC(=O)CCCCCCCCCCCCCCCCC', 'CC(C)(C)OC(=O)CCCCCCCCCCCCCCCCCC(=O)N[C@@H](CC(=O)NCCOCCOCCOCCN=[N+]=[N-])C(=O)OC(C)(C)C', 'C/C=C\\\\C.C=CCC1(Nc2ccc(Cc3ccccc3-c3ccccc3C)cc2)C=C1.CC.CC.CC1C=CCCC1.Cc1cc2ccccc2c2ccccc12', 'CCCCCCCCCCCCCC/C=C/O[C@H](COC(=O)CCCCCCC/C=C\\\\C=C\\\\C(=O)CCCCC)COP(=O)([O-])OCC[N+](C)(C)C', 'CC/C=C\\\\C/C=C\\\\C/C=C\\\\CCCCCCCC(=O)OCC(COP(=O)([O-])OCC[N+](C)(C)C)OC(=O)CCCCCCCCCCCCCCC', 'CCCCCCCCNC(=O)Nc1cccc(N(c2cccc(NC(=O)NCCCCCCCC)c2)c2cccc(NC(=O)NCCCCCCCC)c2)c1', 'CC/C=C/C(C#Cc1cc(C=O)ccc1C)=C\\\\C(OC(C)=O)=C(/C)CC.CCC.CCCC.CCCC(C)CC.CCc1ccc(NC)cc1C(F)(F)F', 'CCCCCC/C=C/CCCCCCCC(=O)OC[C@H](COP(=O)([O-])OCC[N+](C)(C)C)OC(=O)CCCC/C=C/C/C=C/CCCCCCCC', 'CCC(CCC(C)[C@H]1CC[C@H]2[C@@H]3CC=C4C[C@@H](OC(=O)CCC(=O)N(CCC(C)(C)N)CCC(C)(C)N)CC[C@]4(C)[C@H]3CC[C@]12C)C(C)C.Cl.Cl', 'CCCCC/C=C/C/C=C/C/C=C/CCCCCCC(=O)OC[C@@H](COP(=O)([O-])OCC[N+](C)(C)C)OC(=O)CCCCCCCCCCCCC', 'CCCCCCCC/C=C/CCCCCC(=O)OC[C@H](COP(=O)([O-])OCC[N+](C)(C)C)OC(=O)/C=C/C=C/CCCCCCCCCCCCC', 'CCCC/C=C/C/C=C/CCCCCCCC(=O)OC[C@H](COP(=O)(O)OCCN)OC(=O)CCCCCCCCCCC/C=C/CCCCCC', 'CCCC/C=C/C/C=C/CCCCCCCC(=O)O[C@H](COC(=O)CCCCCCCCC/C=C/CCCCCCCC)COP(=O)(O)OCCN', 'CCC(C)C(NC(=O)C(C)C(OC)C1CCCN1C(=O)CC(OC)C(C(C)CC)N(C)C(=O)C(NC(=O)C(NC)C(C)C)C(C)C)C(CC(=O)O)OC', 'CCCCC/C=C\\\\C=C\\\\C(=O)CCCCCCCC(=O)OC[C@H](COP(=O)([O-])OCC[N+](C)(C)C)O/C=C/CCCCCCCCCCCCCC', 'CC(C)(C)OC(=O)N(CCCCCCCCCCCOCCOCCOCCOCCOCCOCCOCCOCCOCCO)OC(C)(C)C', 'CCCC/C=C\\\\C/C=C\\\\CCCCCCCCOP(=O)(COCCn1cnc2c(N)ncnc21)OCCCCCCCC/C=C\\\\C/C=C\\\\CCCCC', 'CCN(CC)c1ccc(/C=N/CC(C)(C)CN2CCN(CC(C)(C)C/N=C/c3ccc(N(CC)CC)cc3O)C2c2ccc(N(CC)CC)cc2O)c(O)c1', 'CCCCC/C=C\\\\C/C=C\\\\CCCCCCCC(=O)OC[C@H](COP(=O)(O)OCCN)OC(=O)CCCCCCC/C=C\\\\CCCCCCCCC', 'CCCCC/C=C\\\\C/C=C\\\\C/C=C\\\\CCCCCCCCC(=O)OC(COC(=O)CCCCCCCCCCCCCC)COP(=O)(O)OCCN', 'C.C.COc1cc(C)cc(C(=O)[C@H]2C(C)C(C#N)C[C@H]3C(C)(C)CCC[C@]23C)c1.COc1cc(C)cc(C(=O)[C@H]2[C@@H](C)C(=O)C[C@H]3C(C)(C)CCC[C@]23C)c1', 'CCCCC/C=C/C/C=C/CCCCCCCC(=O)OC[C@H](COP(=O)([O-])OCC[N+](C)(C)C)OC(=O)CCCCCCC/C=C/CCCCCC', 'CCCCCCC/C=C\\\\C/C=C\\\\C/C=C\\\\CCCCCCCCCCC(=O)OC(COC(=O)CCCCCCCCCC)COP(=O)(O)OCCN', 'CC/C=C/C=C/C=C/CCCCCCCC(=O)OC(COC(=O)CCCCCCCCCCCCCCCCC)COP(=O)([O-])OCC[N+](C)(C)C', 'CCCCCCCC/C=C/C/C=C/CCCCC(=O)OC[C@H](COP(=O)([O-])OCC[N+](C)(C)C)OC(=O)CCCCC/C=C/CCCCCCCC', 'CC.CC.CC.CC(=O)C(C)(C)C.CC(=O)OC(C)(C)C.CCOC(=O)C(c1ccccc1)n1cc(NC(=O)C(C)COCc2ccccc2)nc1CC', '[2H]C([2H])([2H])c1cc2c3c(c1)N(c1ccc(C(C)(C)C)cc1C)c1ccc(C(C)(C)C)cc1B3c1cc3c(cc1N2c1ccc2c(c1)C(C)(C)CC2(C)C)C(C)(C)CC3(C)C', 'CC/C=C/C/C=C/C=C/C(O)CCCCCCCC(=O)OC[C@H](COP(=O)([O-])OCC[N+](C)(C)C)O/C=C/CCCCCCCCCCCCCC', 'CC/C=C/C/C=C/C=C/C(O)CCCCCCCC(=O)O[C@H](CO/C=C/CCCCCCCCCCCCCC)COP(=O)([O-])OCC[N+](C)(C)C', 'CC1(C2=CCC(C3C=CC=CC3)CC2)CC2C(c3ccccc31)C1CCC(N(C3=CC=C(C4=CCCCC4)CC3)C3CC=C(C4C=CC=CC4)CC3)C=C1C2(C)C', 'CC/C=C\\\\C/C=C\\\\C/C=C\\\\C/C=C\\\\C/C=C\\\\CCCC(=O)NC(CS(=O)(=O)O)C(O)/C=C/CC/C=C/CC/C=C/CCCCCCCCCCCCC', 'CO[C@]1(C)CC([C@H]2C[C@@H](O[C@@H]3O[C@H](C)C[C@H](N(C)C)[C@H]3OCCCNC(=O)CN(C)C)[C@](C)(O)CCCN(C)C(=O)CCCNC(=O)[C@@H]2C)O[C@@H](C)C1', 'CCCC/C=C/CCCCCCCC(=O)OC[C@H](COP(=O)([O-])OCC[N+](C)(C)C)OC(=O)CCC/C=C/C/C=C/CCCCCCCCCCC', 'CCCCCC/C=C/CCCCCCCCCC(=O)OCC(COP(=O)([O-])OCC[N+](C)(C)C)OC(=O)CC/C=C/C/C=C/CCCCCCCC', 'CCCCC/C=C\\\\C/C=C\\\\C/C=C\\\\CCCCC(=O)OC[C@H](COP(=O)([O-])OCC[N+](C)(C)C)OC(=O)CCCCCCCCCCCCCCC', 'CCCC/C=C\\\\C/C=C\\\\CCCCCCCC(=O)OC[C@H](COP(=O)(O)OCCN)OC(=O)CCCCCCCCC/C=C\\\\CCCCCCCC', 'CC/C=C\\\\C/C=C\\\\C/C=C\\\\C/C=C\\\\C/C=C\\\\C/C=C\\\\CCCCC(=O)NC(CS(=O)(=O)O)C(O)/C=C/CC/C=C/CCCCCCCCCCCCC', 'CCCCCCCCCC(=O)N[C@H](C(=O)N[C@H](C(=O)N[C@@H](CC(C)C)[C@@H](O)CC(=O)N[C@@H](C)C(=O)N[C@@H](CC(C)C)[C@@H](O)CC(=O)O)C(C)C)C(C)C', 'CCCCN(C)C(=O)C(C)(C)CCCCCCc1ccc([C@H]2C[C@]3(C)[C@@H](OC4CCCCO4)CC[C@H]3[C@@H]3CCc4cc(OC5CCCCO5)ccc4[C@H]32)cc1', 'C=C(CC=C/C(C)=C/CCc1cc(C(=O)N(C)C)ccc1C(CC(CC)NCC(=O)N1CCCC1C#N)/C(=N/C)N(OC)C1CCCCC1)C(=C)N(C)CC', 'C=C/C=C(/C=C/C=C\\\\C=C\\\\C(=C\\\\C=C)N(CCC[C@H]1CC(C)C(C)(C)C1C)C1=CCC(C(C)(C)C)C=C1)c1ccc2ccc3cc(C(C)(C)C)cc4ccc1c2c34', 'CCC/C=C\\\\C/C=C\\\\CCCCCCCC(=O)OC(COC(=O)CCCCCCC/C=C\\\\CCCCCCCC)COP(=O)([O-])OCC[N+](C)(C)C', 'CC(C)(C)OC(=O)CN1CCN(CC(=O)NCCCCCCCCCCC(=O)O)CCN(CC(=O)OC(C)(C)C)CCN(CC(=O)OC(C)(C)C)CC1', 'CCCCCCCOCCCN(C)CCOCCOCCOCCOCCOCCOCCOCCOCCOCCOCCC(=O)OC(C)(C)C', 'CCCCC/C=C\\\\C/C=C\\\\C/C=C\\\\CCCCCCC(=O)OC[C@H](COP(=O)([O-])OCC[N+](C)(C)C)OC(=O)CCCCCCCCCCCCC', 'CCCCCCCCCCCC[C@@H](OC(=O)CNC(=O)[C@@H](C)[C@H](C)O)[C@@H](C)C(=O)N(C)[C@@H](CC(C)C)C(=O)N[C@H](C(=O)N[C@@H](CO)C(N)=O)[C@@H](C)CC', '[C-]1=CC=CC1.[C-]1=CC=CC1.[C-]1=[As][As]C=C1.[C-]1=[As][As]C=C1.[Cl-].[Cl-].[Zr+2].[Zr+2]', 'CCC/C=C\\\\CCCCCCCC(=O)NCCOP(=O)(O)OCC(O)COC(=O)CCCCCCCCCCCCC/C=C\\\\C/C=C\\\\CCCCC', 'CCCCC/C=C/C/C=C/C/C=C/CCCCCCC(=O)O[C@H](COC(=O)CCCCCCCCCCCCCCCC)COP(=O)(O)OCCN', 'CCCCC/C=C\\\\C/C=C\\\\C/C=C\\\\CCCCCCCCCCCCC(=O)NCCOP(=O)(O)OCC(O)COC(=O)CCCCCCCCCC', 'CCCCC/C=C\\\\C/C=C\\\\C/C=C\\\\CCCCCCC(=O)OCC(COP(=O)(O)OCCNC)OC(=O)CCCCCCCCCCCCCCC', 'CC(C)CCCC(C)[C@H]1CC[C@H]2[C@@H]3CC=C4C[C@@H](OC(=O)CN(CCCCCCCCN)C(=O)CCCCCN)CC[C@]4(C)[C@H]3CC[C@]12C.Cl.Cl', 'CC(C)NCC(COC1=CC=CC2=C1C=CN2)O', 'CCc1ccc(C(O)Cc2cc(C)nn2CC)o1', 'CC(CN)OCC(=O)N1CCCc2ccccc21', 'CC1CCCCC1N(C)C(=O)c1ccc[nH]c1=O', 'NC1(C(=O)NCCc2ccccc2)CCOCC1', 'CC1CC(Nc2ccccc2OCCC(N)=O)C1', 'Nc1cc(CN2CCOC3CCCC32)ccc1O', 'CCN(c1ncc(/C=C/C(=O)O)cc1C)C(C)C', 'CC(CN)C(=O)N1CCOC(c2ccccc2)C1', 'Cc1cccc(NC(=O)N2CCCC2CO)c1C', 'C=CCNC(=O)C(C)Oc1ccccc1[C@H](C)N', 'C=CCOc1ccccc1C(=O)NCCC(C)N', 'COCCCn1c(C(C)(C)C)ccc(C#N)c1=O', 'CC(O)(CCC1OC1(C)C)/N=N/c1ccccc1', 'COCCCNC(=O)c1ccc2c(c1)CCNC2', 'CC1OCCC1N(C)C(=O)c1ccc(CN)cc1', 'Nc1ccccc1CC(=O)N[C@@H]1CCCC[C@H]1O', 'CN1CCC(Nc2ccc3c(c2)OCCCO3)C1', 'CC(N)C1CCN(C(=O)C=Cc2ccco2)CC1', 'COC(=O)c1ccc2c(c1)N(C(C)C)CC(C)N2', 'CC[C@H](C)[C@H](NC(=O)Cc1ccccc1)C(N)=O', 'CC[C@@H](C(N)=O)C(=O)N[C@H](CC)c1ccccc1', 'Cc1ccc(OCCN2CCCCC2)c(C=O)n1', 'CCOC(=O)c1cccc(N)c1NC1CCCC1', 'CC(C)(C)NC(=O)CNC(=O)Cc1ccccc1', 'C/C=C/C=C\\\\C(=O)NC(C)NC(=O)/C=C\\\\C=C\\\\C', 'COc1cccc2c1NC(=O)C(C)(C)C(C)(C)N2', 'NCC1(NC(=O)Cc2cccc(O)c2)CCCC1', '[H]/N=C(\\\\N)c1ccccc1COCC1CCOCC1', 'COCCCNC(=O)Nc1ccc2c(c1)CCC2', 'c1cc2c(cc1CNCC1COCCN1)CCO2', 'CCCC1CC1NC(=O)c1cc(OC)ccc1N', 'CC(=O)c1ccc(N2CCN(C)CC2C)cc1O', 'COc1ccc(C2(NC(C)=O)CCNCC2)cc1', 'c1ccc2c(c1)OCC2NCCN1CCOCC1', 'CCOc1cccc(NC2CCCCNC2=O)c1', 'CCCC1CC1Nc1cccc(C(=O)OC)c1N', 'NCCN(C(=O)COc1ccccc1)C1CCC1', 'NCc1ccccc1CNC(=O)CC1CCCO1', 'O=C(NCc1ccccc1)NCC1(CCO)CC1', 'Cc1cc(C(=O)O)cnc1N1CC(C)CCC1C', 'CCN(Cc1ccccc1CC(=O)O)C1CNC1', 'Cc1ccccc1CC(=O)N(C)[C@@H]1CNC[C@H]1O', 'COc1ccc(C(C)C(=O)N2CCNCC2)cc1', 'C[C@@H](N)C(=O)Nc1cccc(COCC2CC2)c1', 'CC(C)(C)OC(=O)NC1(c2ccccn2)CCC1', 'CC1CCCC(C)N1c1c(N)cccc1C(=O)O', 'COC(=O)C1CN(CCc2ccncc2)CC1C', 'CCC1(C(=O)O)CCN(Cc2cccc(C)n2)C1', 'O=C(N1CCCCC1)N(Cc1ccco1)C1CC1', 'COCC(=O)NCc1ccc(N2CCCC2)cc1', 'CC(Oc1ccccc1)C(=O)N[C@H]1CCCNC1', 'COc1ccc(CC(=O)N2CCNC[C@H]2C)cc1', 'CC(C)(C)OC(=O)N1CCc2[nH]ccc2C12CC2', 'CCCCN1C(=O)O[C@H](c2ccnc(C)c2)[C@@H]1C', 'COCCN1CC(C)(C)c2cccc(N)c2C1=O', 'CC(N)(C(=O)NOC1CCCC1)c1ccccc1', 'NCc1cccc(OCCCN2CCCC2=O)c1', 'CNCC1CCCCN1C(=O)c1cccc(O)c1', 'C[C@@H](O)c1ccc(N2CCCN(C)C(=O)C2)cc1', 'Cc1ccc(N(C)C(=O)N2CCOCC2)c(C)c1', 'O=C1CC[C@H](CN(CCO)Cc2ccccc2)N1', 'CCNC(=O)C(=O)Nc1ccc(C(C)(C)C)cc1', 'CCC[C@H](N)C(=O)N1CCOc2ccccc2C1', 'CC([C@H]1[C@H](c2ccccc2)C1(C)C)N(O)C(N)=O', 'COC[C@H]1C[C@@H]2CNCCN2c2ccccc2O1', 'CCOC(=O)c1cccc(N(C)C2CCC2)c1N', 'CCOC(=O)NC1CCCc2nc(C)cc(C)c21', 'CCCC(C)C(=O)Nc1cccc(NC(C)=O)c1', 'CCN1C(=O)C(C)c2cc(C(N)COC)ccc21', 'COc1ccc(C(=O)N(C)C2CCCCC2)cn1', 'CC(NCCN(C)Cc1ccco1)c1ccco1', 'CC(NC(=O)C1CCCOC1)c1ccccc1N', 'CN(C)C(=O)CN1CC(C)(C)Oc2ccccc21', 'COCc1ccccc1NC(=O)C1CCNC1C', 'Cc1ccc(NC(=O)NC[C@@H]2CCCO2)c(C)c1', 'COC(CN)CC(=O)N1CCc2ccccc2C1', 'COc1cccc(C(=O)N/N=C/C(C)(C)C)c1C', 'Cc1ccccc1N1CCC(N(C)CC(=O)O)C1', 'Cc1ccc(OCC(NC2CC2)C(N)=O)c(C)c1', 'CC1CCC(C#N)(N2C(=O)CCCCC2=O)CC1', 'C/C=C\\\\C=C(/C=C\\\\C)\\\\C=C1\\\\NC(=O)NC1=O.CC', 'COC(=O)c1cccc(CN2CCN[C@@H](C)C2)c1', 'O=C(NCCC1CCNCC1)c1cccc(O)c1', 'O=C=NCC1CCC(CN=C=O)C2CCCCC12', 'CCC(C)Oc1ccc(NC(=O)C2(N)CC2)cc1', 'CC1CN(Cc2ccc(C(=O)O)cc2)C(C)CN1', 'COc1cc(C(C)(C)C)cc2c1n(C)c(=O)n2C', 'NC(=O)C1=CCC(C(=O)N2CCCCCC2)C=C1', 'CC(O)CCN(C)c1cc(C#N)ccc1[C@H](C)O', 'COCCCNC1C(=O)Nc2cc(C)cc(C)c21', 'CNCCCNC(=O)C1COc2ccccc2C1', 'Cc1ccc(OCC(C)NC(=O)C2(N)CC2)cc1', 'CCN(CC=C(C)C(=O)OC)Cc1ccccn1', 'CCc1cccc(NC(=O)CN2CC(C)(O)C2)c1', 'COc1ccc(OC)c(C(C#N)CCN(C)C)c1', 'Cc1cc(NC2CCCCCC2)cc([N+](=O)[O-])c1', 'CNC(=O)N(Cc1ccc([C@H]2C[C@H]2C)o1)C1CC1', 'CCC(=O)NNC(=O)c1ccc(C(C)(C)C)cc1', 'COc1cccc(CCNC(=O)NC2CCC2)c1', 'CCC(=NNC(=O)CC(C)C)c1ccccc1O', 'COc1cc(C)cc(C)c1C(=O)N1CCNCC1', 'COc1ccc(C(=O)NC2CCC(C)(C)C2)cn1', 'CCC1(CC)CCN(c2ccc(C(=O)O)cn2)C1', 'CCC(=O)Nc1cccc(N(CC)C(=O)CC)c1', 'C=CCn1c(C)cc(C)c1C(=O)N1CCOCC1', 'C#CCN1C(=O)C2(CCCC2)NC(=O)C1C(C)C', 'N[C@@H](C(=O)NCC1CCCOC1)c1ccccc1', 'CC1CCN(C(=O)c2ccc(N)c(O)c2)CC1C', 'NCCCCCN1C(=O)CCOc2ccccc21', 'CC(=O)c1ccccc1N1CCN(CCO)CC1', 'CC(C)NCCC(O)Oc1cccc2[nH]ccc12', 'NCCc1cccc(C(=O)NC2CCCOC2)c1', 'Cc1cccc([N+](=O)[O-])c1NC1CCC(C)(C)C1', 'CC(C)NC(=O)COc1ccc2c(c1)CC[C@H]2N', 'CC(C)C(O)CN1C(=O)N(C)Cc2ccccc21', 'CCc1ccccc1N1C(C)CNC(=O)C1CO', 'Cc1ccc(C(=O)N2CCCC(O)CC2)c(C)n1', 'CCCc1ccc(/C(C)=N\\\\NC(=O)OCC)cc1', 'Cc1ccc(OCCC(=O)NC2CC2)c(CN)c1', 'CC(C)Oc1cccc2c1NC(=O)C(C)(C)CN2', 'c1ccc(COC2COC3(CCNCC3)C2)nc1', 'Cc1cccc(N2CCOC(C3CCCO3)C2)n1', 'NC1CCCN(Cc2ccc3c(c2)OCCO3)C1', 'CC(C)Oc1cncc(C(=O)CC(N)C2CC2)c1', 'CN(C)C1CCCN(C(=O)c2ccc(O)cc2)C1', 'CCN(C(=O)c1cccc2c1OCCN2)C(C)C', 'CCCCNCC(O)COc1cccc(C#N)c1', 'CC(C)(C)C(N)C(=O)Nc1ccc2c(c1)CCO2', 'COC(=O)c1ccc(CNCC2CC=CCC2)[nH]1', 'COC1(CC(=O)Nc2ccc(N)cc2C)CCC1', 'Cc1cc(C(=O)N(CC2CCCN2)C2CC2)co1', 'CCN(Cc1ccc2c(c1)OCO2)N1CCCC1', 'CC(C)(C)OC(=O)C(N)C1CNc2ccccc21', 'Cc1c(N)cccc1C(=O)OCCN1CCCC1', 'CNC1COCC1C(=O)N(C)c1ccccc1C', 'CCCC1CCN(C(=O)c2ccc(=O)[nH]c2)CC1', 'CCCNC(=O)CNCC1COc2ccccc21', 'CC(C)n1cccc1C(=O)N[C@@H]1C=C[C@H](CO)C1', 'CC(C)C(=O)CNC(=O)c1ccc(N(C)C)cc1', 'CC(O)COC1(C(C)C)CCCC(C)(Cl)C1', 'COc1cccc(CC2=NCC(CCCN)O2)c1', 'COc1ccc2c(c1N)C(CCNC(C)=O)CC2', 'CN(C)c1cccc(C(=O)NC[C@@H]2CCCO2)c1', 'CNCC1(CNc2ccccc2C(=O)OC)CC1', 'CN(C)c1ccc(C(=O)N2CCC[C@H]2CO)cc1', 'CCC(=O)OC1C=CCC(c2cc(C)nn2C)C1', 'CCCN(CC)C(=O)NC(C=O)c1ccccc1', 'CC(C(=O)NCC(N)=O)[C@@H](C)Cc1ccccc1', 'CC1CCC(NC(=O)Cc2cccc(O)c2)CN1', 'CNCC1CCN(C(=O)C=Cc2ccco2)CC1', 'CC1CC(NC(=O)Nc2ccc(C(C)O)cc2)C1', 'CCc1ccccc1CNC(=O)[C@H]1C[C@H](O)CN1', 'Cc1ccccc1CN1CC(C)(CCN)OC1=O', 'CCOc1cccc(C(C(N)=O)N2CCCC2)c1', 'O=C(Nc1ccccc1)N1CCCC[C@H]1CCO', 'COc1ccc(C2CCN(C(=O)CN)CC2)cc1', 'COc1cccc(C(=O)NCCC2CCNC2)c1', 'CC1COc2ccc(CCCN)cc2N(C)C1=O', 'CCOC(=O)c1ccc(N2CCCC(N)C2)cc1', 'CC(C)(Nc1ccc(N2CCCC2)cc1)C(=O)O', 'C[C@@H](O)[C@@H]1CN(C(=O)CN)C[C@H]1c1ccccc1', 'CN(C(=O)C1CCCCCN1)c1cccc(O)c1', 'C=Cn1cccc1C(=C)C(=O)OCC(C)N(C)C', 'CNC1CCCN(C(=O)COc2ccccc2)C1', 'CCC(=O)Nc1cccc(NC(=O)C(C)CC)c1', 'Cc1cccc(NC(=O)N2CCC(C)C2CO)c1', 'C=CCN(CCO)C(=O)c1ccc(CCN)cc1', 'Cc1ccc(NC(=O)CNCC2CC2)c(C)c1O', 'COC1CCN(C(=O)c2cccc(CN)c2)CC1', 'COc1ccc(C(=O)NC2CCCCNC2)cc1', 'CC/C(=C/CN(CC)Cc1ccccn1)C(=O)O', 'CCC(C)CC(=O)Nc1ccccc1/C(C)=N/O', 'O=[N+]([O-])C(CNC1CCCCC1)c1ccccc1', 'COc1ccc(C(=O)CN)cc1CN1CCCC1', 'CC(c1ccccc1O)N(C)C(=O)NC1CCC1', 'C=CCNC(=O)[C@@H](C)Nc1ccc(C)cc1OC', 'CNC1(CC(N)=O)CC(C)(C)Oc2ccccc21', 'C=CCN(c1cc(C)ncc1C(=O)O)C(C)(C)C', 'CCN(Cc1ccncc1)CC1(CC(=O)O)CC1', 'Cc1cccc([N+](=O)[O-])c1NC1C(C)(C)C1(C)C', 'CCNC(=O)CN(CC)C(=O)c1cccc(C)c1', 'COc1ccccc1CC(=O)NC1(CN)CCC1', 'CC(C)(C)NCC(O)c1ccc(O)c2[nH]ccc12', 'CNC1(CO)CCN(c2ccc(C(C)=O)cc2)C1', 'Cc1cc(N)cc(C(=O)N2CCCC(CO)C2)c1', 'CCc1ccc(CC(=O)C2CCC(CN)O2)nc1', 'CCCC(=O)Nc1ccccc1N1CCOCC1', 'COc1ccc(C2CCN(C(C)=O)C[C@H]2N)cc1', 'O=C(NCC1CCCC1O)c1cccn1C1CC1', 'COCCOCCn1c(CN)cc2ccccc21', 'CC(C)(C)OC(=O)NC1CC(N)c2ccccc21', 'CN(C)c1ccc(C(=O)N[C@@H]2CCC[C@@H]2O)cc1', 'C[C@@H]1CN(C(=O)CCc2ccccc2O)CCN1', 'CCC.CCc1nc(NC)ccc1C(F)(F)F', 'CC(C)Cc1cc(N)c2c(c1)N(C)C(=O)C(C)O2', 'CN(CC1CC1)C(=O)C(N)Cc1ccc(O)cc1', 'Cc1cccc(N)c1C(=O)N1CCCC(CO)C1', 'CCC1CCCCN1c1cc(C(=O)O)cc(C)n1', 'CCC1CC1NC(=O)CCOc1ccccc1N', 'COc1ccc(C(=O)N2CCNCCC2C)cc1', 'COc1ccc(OCC2C3CCC(C3)N2C)cn1', 'O=C(NNCC1CCCCC1)c1ccc(O)cc1', 'COCc1cccc(C(=O)N2CCC(N)CC2)c1', 'CCc1ccccc1NC(=O)C(=O)N(CC)CC', 'CC#CCN1CCN(C2CCCCC2)C(=O)C1=O', 'COC(=O)c1ccc(N2CCC(C)CC2)c(N)c1', 'COc1cccc(N)c1C(=O)NC(C)(C)C1CC1', 'Cc1cccc(C(=O)N2C[C@@H](C)O[C@@H](C)C2)c1N', 'Cc1ccc(OCC(=O)NCC2CCCN2)cc1', 'Cc1nc2ccccc2n1CC(O)COC(C)C', 'CC(C)COC(=O)N1CCC(N)c2ccccc21', 'CCCC(N)C(=O)N1CCOc2cc(C)ccc21', 'CC(C)C(OCC=Cc1ccccc1)C(=O)NN', 'CCN(C(=O)C1CNC1)C(C)c1cccc(O)c1', 'COc1ccccc1CNC(=O)CCN1CCC1', 'COc1ccc(C(=O)N2CCC(C)CC2)cc1N', 'CC(O)C(C)(C)NC(=O)[C@@H]1Cc2ccccc2N1', 'CC1CN(C(=O)c2cccc(CN)c2)CCC1O', 'COc1ccccc1CC(=O)N1CCNCC1C', 'CCCNC(=O)CNC(=O)Cc1cccc(C)c1', 'N#CC1(C(=O)NC(C2CC2)C2CC2)CCOCC1', 'CCC1CCC(Nc2ccccc2[N+](=O)[O-])CC1', 'CCC(C)(N)C(=O)NC1CCOc2ccccc21', 'C[C@@H]1CN(C(=O)c2cccc(CN)c2)C[C@H](C)O1', 'COc1ccc(NC(C)C(=O)NC2CC2)cc1C', 'COCCCN(C)Cc1cc(C#N)ccc1OC', '[H]/N=C(\\\\N)c1ccc(COCC2CCCCO2)cc1', 'NC1COCC1C(=O)NCCCc1ccccc1', 'Cc1ccc([N+](=O)[O-])cc1NCC1CCCC1C', 'CCCN(C)C(=O)Oc1cccc2c1C(N)CC2', 'CC1(C)C(C(=O)O)CCCN1Cc1ccccn1', 'Cc1ccc(CN(C)CCNCc2ccco2)o1', 'COc1cc(OC)c2c(CCCN)cn(C)c2c1', 'CCOC(=O)C1(c2ccccn2)CCN(C)CC1', 'NC1(COCC(=O)Nc2ccccc2)CCCC1', 'Cc1cc(NC(C)C2CCCC2)cc([N+](=O)[O-])c1', 'CCC(CO)(CO)NCc1cccc2cc[nH]c12', 'CCCCCC(O)CC(O)CCC/C=C/Cl', 'CCCCCCC(=N/O)/C(=N\\\\O)c1ccccc1', 'CC(c1ccccc1)C(CO)NC(=O)NC1CC1', 'Cc1cc(N2CCCC(C)CC2)c(C(=O)O)cn1', 'CN(C)C1CCN(Cc2ccccc2C(=O)O)C1', 'COc1ccccc1CCNC(=O)C1(N)CCC1', 'O=C(NCc1ccccc1)OCCC1CCNC1', 'Cc1ccc([C@H](N)C2CCCCC2)cc1[N+](=O)[O-]', 'O=C(NCc1cccc(CO)c1)[C@H]1CCCCN1', 'CC(C)(C)OC(=O)N1CCNc2ccccc2C1', 'CCC1(C(=O)O)CCN(C(C)c2cccnc2)C1', 'COc1ccc(N2CCN(C[C@@H]3CO3)CC2)cc1', 'CCC(CC)C(=O)N(CNC=O)c1ccccc1', 'CC(=O)NC1CCN(Cc2cccc(C)c2O)C1', 'COc1ccc(CN2CCNC(=O)C2(C)C)cc1', 'COc1ccc(C(C)NCC(=O)NC2CC2)cc1', 'CCCCCCCC(=O)C(=O)Nc1cccnc1', 'CC(=O)c1cccnc1N(C)CCOCC1CC1', 'C1=NC2=C(N1CCC(CO)CO)N=C(NC2=O)N', 'C[C@H](NCC(O)C(O)C(O)C(O)CO)C(=O)O', 'CC1(O)CCCN(c2nc(N)ncc2[N+](=O)[O-])C1', 'NC1(C2C[C@H](O)[C@@H](CO)O2)N=Cc2[nH]cnc2N1', 'C=C(C)Cn1nnnc1CC(=O)NCCC(=O)O', 'Cn1ncnc1NC(=O)NCC1(C(=O)O)CCC1', 'NC(=O)CCNC(=O)c1noc(C2CCCN2)n1', 'CCCCCCCCCC(=O)O.O=[P+](O)O', 'Nc1n[nH]c(C(=O)NCC2(C(=O)O)CCCC2)n1', 'COc1nc(C2=NOC(CO)C2)nc(N(C)C)n1', 'CCCC.CCOC(=O)C(CC)O[P+](=O)O', 'CC1=C(C(=O)N(C)C)C(=O)NCC1=NNC(N)=O', 'Cn1c([N+](=O)[O-])cnc1C=NN1CCCC(O)C1', 'CCOC(=O)c1nc(N)nc(N2CCOCC2)n1', 'Nc1nonc1C(=O)N1C2CCNCC1COC2', 'CCCCCCn1c([O-])c(C(C)=O)c(=O)[nH]c1=O', 'Cc1nc(CNC(=O)C(=O)N2CCNCC2)no1', 'C[N+](C)(C)CCO.O=C([O-])C(O)C(O)C(=O)O', 'CC(O[C@@H]([C@H](O)[C@H](O)CO)[C@@H](N)CO)C(=O)O', 'CN(Cc1ncn[nH]1)C(=O)NC(C(=O)O)C1CC1', 'O=C(O)[C@@H]1CCCN(C(=O)NCc2ncn[nH]2)C1', 'CC(NC(=O)N1CCC(C(=O)O)C1)c1ncn[nH]1', 'CN(C(=O)NCc1cn(CC(=O)O)nn1)C1CC1', 'CC[C@@H](O)[C@@H](O)CC1=C2C3=C(O)N=CN2NN3N1', '[H]/N=C(\\\\OCCOC)c1cnc(NC(N)=O)cc1N', 'Cn1c(N)c(NC2CCCNC2=O)c(=O)[nH]c1=O', 'C[N+](C)(C)CCOC(=O)c1ccc([N+](=O)[O-])cc1', 'O=C1CN(CCn2cc(C(=O)O)nn2)CCCN1', 'CCC(O)c1cn(CCN2C(=O)CNC2=O)nn1', 'CCOc1n[nH]c(NC(=O)C2CC(=O)N(C)C2)n1', 'CCCCCNCc1ccnn1C(F)F.Cl', 'CC(C)(O)C(C)(C)OB(O)CNS(C)(=O)=O', 'CC1(C)C(O)CC1Nc1ncnc(N)c1[N+](=O)[O-]', 'NCCOCCOC1O[C@@H](O)C(O)C(O)[C@@H]1O', 'NC(=O)C[C@@H](N)c1nc(N2CCC(=O)CC2)no1', 'O=C(O)CCc1nnnn1CC(=O)N1CCCC1', 'CN(CC1CCCO1)c1ncnc(N)c1[N+](=O)[O-]', 'C=CCN(C)C(=O)NCc1cn(CC(=O)O)nn1', 'COCCNC(=O)CNC(=O)c1cnc(N)cn1', 'CNc1ncc([N+](=O)[O-])c(NCC2(CO)CC2)n1', '[N-]=[N+]=NCCCN1C(=O)NC2(CCOCC2)C1=O', 'O=[P+](CCC1CCCCC1)c1ccccc1F', 'O=C(O)Cn1cc(CNC(=O)NC2CCC2)nn1', 'Cc1nnc(NC(=O)NCC(C)C(=O)O)nc1C', 'NCCn1cc(C(=O)N2CCC(C(=O)O)C2)nn1', 'Nc1cn2ccnc2c(NC(CO)(CO)CO)n1', 'NC(N)=Nc1c(C=O)ncn1C1CCC(CO)O1', 'NC1=NC=NC2C1N=CN2C1CC(O)C(CO)O1', 'CNc1ncnc(N2CCC(CO)C2)c1[N+](=O)[O-]', 'COC1CCCN(c2nc(N)ncc2[N+](=O)[O-])C1', 'CC(C)(C)OC(=O)NNC(=O)c1ccnc(N)n1', 'O=C(c1cn(C2CNC2)nn1)N1CC(O)C(O)C1', 'CC(CN(C)C(=O)c1ccc(=O)[nH]n1)/C(N)=N/O', 'CNc1ncc(CN[C@@H](CC(N)=O)C(=O)O)cn1', 'CC(C)(N)CSCCS(=O)(=O)C(C)(C)C', 'Nc1nc2c(c(=O)[nH]1)NCN2CC(C=O)CCO', 'CCS(=O)(=O)CC(C)NCC(C)CSC', 'NC(=O)CCCCNc1ccc([N+](=O)[O-])c(N)n1', 'Cc1nc(N)c(N2CCN(C(=O)O)CC2)c(=O)[nH]1', 'CCOC(OCC)c1cc(=O)n2[nH]c(N)nc2n1', 'O=C1CC(=O)NC(=NNC(=O)C2CCNCC2)N1', 'CCN(CC(N)=O)c1nc(NC)ccc1[N+](=O)[O-]', 'C[C@@](O)(CO)[C@H](O)CNc1ncnc2nc[nH]c12', 'O=C(NCC1CCN(C(=O)O)CC1)c1ncn[nH]1', 'CC(C)[C@H]([NH3+])C(=O)OCc1ccc([N+](=O)[O-])cc1', 'NCC1CO1.OC[C@H]1OC(O)[C@H](O)[C@@H](O)[C@@H]1O', 'CN(C)c1ncnc(N2CCOCC2)c1[N+](=O)[O-]', 'CC1(Nc2cc([N+](=O)[O-])cc(NN)n2)CCOC1', 'COC1CC(Nc2nc(N)nc(C)c2[N+](=O)[O-])C1', 'C[Si](C)(C)CCS(=O)(=O)NCCCCO', 'CCNC(=O)C(C)Nc1ccc([N+](=O)[O-])c(N)n1', 'CCC(C(N)=O)N1CC(n2cc(C(=O)O)nn2)C1', 'Nc1ncnc(OCCN2CCCC2)c1[N+](=O)[O-]', 'CCCCn1cc[n+](C)c1.O=C(O)C(F)(F)F', 'CCn1c(=O)c2[nH]c(N)nc2n(CCOC)c1=O', 'C[C@H]1CCCCN1C(=O)Cn1cnc([N+](=O)[O-])n1', 'C[C@@H](O)CNc1nc2c([nH]1)c(=O)n(C)c(=O)n2C', 'Nc1ncnc(NCCC2CCOC2)c1[N+](=O)[O-]', 'O=[P+](OCCCCCO)OCCCCCO', 'CSC(Nc1ccccc1)=[NH+]C[Si](C)(C)C', 'C1CNOC1.O=C[C@H](O)[C@H](O)[C@@H](O)[C@H](O)CO', 'NNc1ccc(C(=O)N2CCOC(CO)C2)nn1', 'COCOCCn1cnc2c(N)n(C)c(=O)nc21', 'Nc1ncnc2c1NCN2C1C[C@H](O)[C@@H](CO)O1', 'NC1C(OCC(O)CO)OC(CO)C(O)C1O', 'CC(C)CCNCCSCCS(C)(=O)=O', 'CC1=CN(N=Cc2cccnc2)C(=O)NN1.O.O', 'CNCCOc1ccc2c(c1)[n+](O)c(N)[nH][n+]2=O', 'COCc1nc(CN(C)Cc2nnc(C)o2)no1', 'CC1CN(c2cc([N+](=O)[O-])cc(NN)n2)CCO1', 'O=C(NCCc1ncn[nH]1)NCC1(C(=O)O)CC1', 'CC(CN1CCCC1=O)NC(=O)c1nonc1N', 'N/C(=N/O)c1ccnc(N2CCOCC2CO)n1', 'NNc1cc([N+](=O)[O-])cc(NC2(CO)CCC2)n1', 'CCCC(OCC)c1noc(-c2nonc2N)n1', 'CNOCCOC1OC(CO)[C@@H](O)[C@H](O)[C@@H]1O', 'Cn1c(/C=N/N2CCC(O)CC2)cnc1[N+](=O)[O-]', 'C=CCN(CC(=O)O)C(=O)Cn1cc(CN)nn1', 'CC(NC(=O)NCc1ncn[nH]1)(C(=O)O)C1CC1', 'COC(=O)NC(=O)Cn1cc(CNC2CC2)nn1', 'O=C(NCc1ncn[nH]1)NC1CCC(C(=O)O)C1', 'CNc1ccc([N+](=O)[O-])c(NC(C)CC(N)=O)n1', 'C[N+](C)(C)CC(O)C(=O)c1ccc([N+](=O)[O-])cc1', 'Cn1ncnc1NC(=O)N(CCC(=O)O)C1CC1', 'CNc1ncc2ncn(COC(CO)CO)c2n1', 'CCCNC(CCS(C)(=O)=O)CSCC', 'CC(C(=O)N1CCNCC1C(=O)O)n1cncn1', 'CN1CN(CC(N)=O)c2c1n(C)c(=O)n(C)c2=O', 'CNC(=O)c1ncn(CCC(N)=O)c1C(=O)NC', 'COCCn1c(=O)[nH]c(=O)c2[nH]c(C(C)N)nc21', 'O=C(NCCCO)C(O)C(O)C(O)C(O)CO', 'CC1CC(C(=O)O)C(C(=O)NCc2nn[nH]n2)C1', 'NC(=O)OCCNCc1cccnc1/C(N)=N/O', 'Cn1c(=O)c2[nH]c(NCCCO)nc2n(C)c1=O', 'CC(O)N(C(C)O)C(C)O.O=C(O)CC(=O)O', 'CO[Si](CCCSC(C)CN)(OC)OC', 'CNC(=O)C1(C)CCN(C(=O)c2nonc2N)C1', 'CN1CCCCC1C(=O)Nc1cc([N+](=O)[O-])[nH]n1', 'CC[C@@H](C)[C@H](NC(=O)NCc1ccco1)C(=O)[O-]', 'Cn1c(NCCCO)nc2c1c(=O)[nH]c(=O)n2C', 'Cn1ccc(C(=O)N2CCOC(/C(N)=N/O)C2)n1', 'CCOC(=O)Nc1cn(CC(=O)NC2CC2)nn1', 'NNc1cccc(C(=O)NCCOCC(N)=O)n1', 'CN(C)C=O.Cn1c(=O)c2[nH]cnc2n(C)c1=O', 'O=C(O)C1CCN(C(=O)NCCn2cncn2)C1', 'CCNC(=O)CNc1cccc(NN)c1[N+](=O)[O-]', 'O=C(CCn1ccc([N+](=O)[O-])n1)N1CCNCC1', 'COCCNc1nc2c([nH]1)c(=O)n(C)c(=O)n2C', 'O=C(O)CC1CN(C(=O)NCCc2ncn[nH]2)C1', 'O=c1[nH]nc2ccc(NCCCOCCO)nn12', 'CCNc1ncnc(N2CCC(O)C2)c1[N+](=O)[O-]', 'O=C(O)CCN(C(=O)NCc1ncn[nH]1)C1CC1', 'O=C([O-])[C@@]1(O)C[C@@H](O)CC(C[C@H](O)CO)O1.[NH4+]', 'CN(C)CCNC(=O)c1cc([N+](=O)[O-])cnc1N', 'NC(=O)C(CCON=C(N)N)c1ccc[nH]c1=O', 'CC1CCC(NC(=O)c2nn[nH]n2)(C(=O)O)CC1', 'C[C@@H](CSC(C)(C)C)NCCS(C)(=O)=O', 'NC(=NO)c1cnc(N2CCOC(CO)C2)cn1', 'CC1CCN(C(=O)NCc2ncn[nH]2)C1C(=O)O', 'CNc1ncc([N+](=O)[O-])c(N2CCOCC2C)n1', 'CC1CC1NC(=O)NCCn1cc(C(=O)O)nn1', 'CC(C)NC(=O)CNc1ccc([N+](=O)[O-])c(N)n1', 'CNC(=O)c1nnn(-c2nonc2N)c1C[NH2+]C', 'CCCCCNc1cnn(CC(F)F)c1.Cl', 'NC(=O)c1nn(C2CCOCC2)c(N)c1C(N)=O', 'CCOC(=O)N1CCN(C(=O)c2ncn[nH]2)CC1', 'CC(N)c1nnc(NC2CCC(=O)N(C)C2=O)o1', 'CC(OC(=O)Cn1cnc(N)n1)C(=O)NC1CC1', 'NC(=O)c1ccc[n+]([C@@H]2C[C@H](CO)C(O)C2O)c1', 'CCNc1ccc([N+](=O)[O-])c(NCCC(N)=O)n1', 'CC(CC(N)=O)Nc1cccc(NN)c1[N+](=O)[O-]', 'NC(=O)OCCNC(=O)C1Cc2nc[nH]c2CN1', 'O=C(O)CN(CC1CC1)C(=O)NCc1ncn[nH]1', 'Cn1nnc(NC(=O)[C@@H]2CCCC[C@@H]2C(=O)O)n1', 'COC(=O)c1ccnc(NCCNC(N)=O)c1N', 'NCC1CN(c2ccc([N+](=O)[O-])c(N)n2)CCO1', 'O=C(O)Cn1cc(C(=O)N2CCCNCC2)nn1', 'CNN/C(=C\\\\C/N=C(\\\\N)NC(C)=O)C(F)(F)F', 'O=C(O)CCC1CCN(C(=O)Cn2cnnn2)C1', 'C=CCN(C)C(=O)NCCn1cc(C(=O)O)nn1', 'CSC(C)CNCCS(=O)(=O)C(C)(C)C', 'NNc1ncc([N+](=O)[O-])c(OC2CCCCC2)n1', 'CC1=C(C(=O)O)N(O)[C](NC(=O)C(C)(C)C)C=C1', 'COC(=O)CC1CCCCN1C(=O)c1nn[nH]n1', 'O=C(O)CCC1CCCN(C(=O)c2nn[nH]n2)C1', '[H]/N=c1/c([N+](=O)[O-])c(N2CCCCC2)nc(C)n1O', 'O=C(O)c1cn(CCNC(=O)C2CCCN2)nn1', '[2H]C(=O)CNC(=O)CCCCCN1C(=O)C=CC1=O', 'NNc1cccc(NCCCC(N)=O)c1[N+](=O)[O-]', 'COc1nc(NC2CCCNC2=O)nc(OC)n1', 'CC(C)(CNc1cc([N+](=O)[O-])cc(N)n1)C(N)=O', 'O=P(O)(O)C(O)CN1CCNCCNCC1', 'CCC1(C(=O)O)CCCN1C(=O)Cn1cnnn1', 'CC(C)(N)c1cn(CC(=O)N2CCOC2=O)nn1', 'Cn1nncc1C(CCOCC(F)(F)F)NN', 'Nc1nc(=O)c2[nH]cnc2n1CCC(CO)CO', 'CN(CC1CCOC1)c1ncc([N+](=O)[O-])c(N)n1', 'Cc1nn(C)c(NC2CCCNC2=O)c1[N+](=O)[O-]', 'CCC1CN(c2nc(N)ncc2[N+](=O)[O-])CCO1', 'C[C@H]1CN(c2ncnc(N)c2[N+](=O)[O-])C[C@H](C)O1', 'CC(C)OC(=O)OCCOC[C@H](C)ON(O)O', 'CC(C)NC(=O)N1CC(n2cc(C(=O)O)nn2)C1', 'CCC[Si](OCC)(OCC)OC(C)(N)S', 'CCOC(=O)N1CCN(C(=O)c2cn[nH]n2)CC1', 'CC(C/C(N)=N/O)N(C)C(=O)c1ccc(=O)[nH]n1', 'CC(CO)Nc1nc2c([nH]1)c(=O)n(C)c(=O)n2C', 'CCCSCC(N)CCCS(=O)(=O)CC', 'CCC(=O)CNC(=O)c1c(N)ncn1CC(N)=O', 'CNc1cncc(C(=O)NCCOCC(N)=O)n1', 'CC(C)(C)OC(=O)n1cnc(C(CO)N=[N+]=[N-])c1', 'CN(C)CCN[C@@H](CCC(N)=O)C(=O)O.Cl', 'Cn1c(N2CCNCC2)c(N=O)c(=O)n(C)c1=O', 'COC(=O)C1CCCCN1C(=O)Cn1cnnn1', 'COC(=O)NC1CCN(C(=O)c2cc(N)n[nH]2)C1', 'C=C(C)COCCNc1ncc([N+](=O)[O-])c(N)n1', 'C=C1[C-](N(C)C)C(=O)N(c2ccccc2)N1C.[Na+]', 'N/C(=N\\\\N=C\\\\c1cccc(NCC(O)O)c1)NO', 'CC1(C(=O)Nc2[nH]ncc2C(N)=NO)CCCO1', 'Nc1nc2[nH]cc(CNC[C@H](O)CO)c2c(=O)[nH]1', 'CCOC(=O)N1CCN(C(=O)n2cncn2)CC1', 'Cc1nc(N)nc(NC2CCOC2C)c1[N+](=O)[O-]', 'CCNC(=O)/N=C1/CN=C(NC(=O)CC)C(=O)N1', 'NCCOC[C@@H](O)C1O[C@@H](O)C(O)[C@@H](O)[C@@H]1O', 'COC1CCCN(c2ncnc(N)c2[N+](=O)[O-])C1', 'CCCN(NC(=O)NN)c1ccc([N+](=O)[O-])cc1', 'CCOC(=O)c1nc(N2CC(CN)CC2=O)n[nH]1', 'CC(C)(C)N(C(=O)[O-])C1CCN(C(F)(F)F)C1', 'NC(=O)NCCCNc1ccc(N)c([N+](=O)[O-])c1', 'CNc1ncnc(N2CCCC2CO)c1[N+](=O)[O-]', 'NCCCCNc1ncc(C(N)=O)cc1[N+](=O)[O-]', 'O=C(NCc1ncn[nH]1)NC(CC1CC1)C(=O)O', 'CC(C)(O)c1cn(CCN2C(=O)CNC2=O)nn1', 'CCn1cnnc1CNC(=O)NC1(C(=O)O)CC1', 'CNC(=O)C(C)Nc1cccc(NN)c1[N+](=O)[O-]', 'Nc1c(N2CCN(CC(=O)O)CC2)nc[nH]c1=O', 'O=C1CNC(c2nc(N3CCOCC3)no2)CN1', 'CP(=O)(O)OCCNC(=O)C(N)CCCN', 'COc1cc(N2CCOCC2C(N)=O)nc(N)n1', 'CN(C)c1nccc(NCC(=O)NCC(=O)O)n1', 'CC(CS(C)(=O)=O)NCCSC(C)(C)C', 'CC(=O)NC1CCCN(C(=O)c2nonc2N)C1', 'NC(=O)C(O)CNCc1cccnc1/C(N)=N/O', 'NNc1ncnc(OC2CCCCC2)c1[N+](=O)[O-]', 'CCCNc1ccc([N+](=O)[O-])c(NCC(N)=O)n1', 'C=C(C)[Si](Nc1ccccc1)Nc1ccccc1', 'CCOC(=O)C1CNc2nc(C(N)=O)nn2C1C', 'CC1=NNC(=O)N(N=Cc2cccnc2)C1.O.O', 'NC(=O)c1cc(C(=O)NC2CCNCC2O)[nH]n1', 'CN(CCC#N)CC(O)Cn1cc([N+](=O)[O-])cn1', 'CC1CN(c2nc(N)ncc2[N+](=O)[O-])CCCO1', 'CC(Nc1ccc([N+](=O)[O-])cn1)C(=O)NCCN', 'CNC(CCCS(C)(=O)=O)CSC(C)C', 'CC1CN(c2ncnc(N)c2[N+](=O)[O-])CCCO1', 'CCOC(=O)N(CCN)C(=O)Nc1cnccn1', 'CNC(=O)c1nc(/C(=N/O)C(C)O)cnc1NC', 'CC1(C)C(=O)NC(=O)CN1c1nnc(CCN)o1', 'CC(C)(NC(=O)c1cn(C2CNC2)nn1)C(=O)O', 'CCC(C(O)CO)n1cnc2c(=O)[nH]c(N)nc21', 'CO[C]1N=C(OC)C=CC1=NC(=O)OC(C)(C)C', 'COCC(Cn1cnc2c(N)[nH]c(=O)nc21)OC', 'CC1OCCC1CNc1nc(N)ncc1[N+](=O)[O-]', 'COCCCCO[P+](=O)OCCCCOC', 'NNc1ccc([N+](=O)[O-])c(NC2CCOCC2)n1', 'CC(O)(O)Nc1cccc(C=NN=C(N)NO)c1', 'NNc1ccc([N+](=O)[O-])c(NCC2(CO)CC2)n1', 'N/C(CCCCNC(=O)c1ccc(=O)[nH]n1)=N/O', 'CCNC(=O)CN(C)c1ccc([N+](=O)[O-])c(N)n1', 'CC(C)(C)C1CCC(C(F)(F)P([O-])O)CC1', 'NC(=O)c1nn(C2CCN(C(=O)O)CC2)cc1N', 'Cl.NC(N)=NCC1CCC(C(=O)O)CC1.O', 'O=C(O)[C@H]1CCCN1C(=O)NCCc1ncn[nH]1', 'CCC(=O)NC(O)[C@H](O)[C@@H](O)[C@H](O)[C@H](O)CO', 'O=C(NCCc1ncn[nH]1)NC1(C(=O)O)CCC1', 'COc1cc[n+](OC(=O)N2CCOCC2)c(C)c1', 'CC(=O)Nc1nc(N2CCC(C(=O)O)CC2)n[nH]1', 'CC1COCCN1c1cc([N+](=O)[O-])cc(NN)n1', 'CC(C)(C)C1=NN=C(NC1=O)SC', 'CCNP(C)(=O)Oc1ccccc1', 'CC(N)CCc1ccc(O)cc1Cl', 'CCC(CC)Oc1cc(Cl)ccn1', 'CC(C)(N)C(=O)NCc1cscn1', 'C.[N-]=[N+]=NCCSCc1ccco1', 'CCC(N)c1c(Cl)cccc1OC', 'Cc1ccsc1C(N)CC(=O)NN', 'CSc1nc(N)cc(=O)n1C(C)C', 'NC1CCOCC1Cc1cnsn1', 'Cl.O[C@@H](c1ccccc1)C1CNC1', 'O=C([O-])c1ccccc1.c1ccccc1', 'Cc1cccc(Cl)c1OC[C@H](C)N', 'CCCNC(=O)c1csc(CN)n1', 'COCC(CN)c1cccc(Cl)c1', 'COc1cnc(C(C)(C)C)c(Cl)c1', 'CC(CO)Sc1cccc(NN)n1', 'COCCSc1ccnc(NN)c1', 'Cc1ccc(Cl)c(C(C)CN)c1O', 'C[C@H](N)COCc1ccc(Cl)cc1', 'c1nnc(OCC2CCNCC2)s1', 'Cl.NC(=O)C1(C2CC2)C=CC=CC1', 'C[N+](C)([O-])CCc1ccc(Cl)cc1', 'CC(C)(N)c1ccc(Cl)cc1CO', 'Cc1nsc(O[C@@H]2CCC[C@H]2N)n1', 'CN[C@@H](CC(C)(C)F)C(=O)O.Cl', 'CCN(CCO)c1cccc(Cl)c1', 'OCCCCNc1cccc(Cl)c1', 'CNC(C)c1c(Cl)cccc1OC', 'Cc1nnc(SCC2(C)CO2)n1C', 'CN(C)NC(=O)C(N)c1cccs1', 'Cc1ncc(C(=O)N(C)CCN)s1', 'C=CC1=C(C(=C)Cl)C(N)C(C)OC1', 'CCOCC(N)c1ccccc1Cl', 'Nc1cnc(NCC2(CO)CC2)s1', 'Cc1cc(CCN)c(C)c(Cl)c1O', 'Cc1cc(Cl)c(N)cc1OC(C)C', 'Nc1nnc(OCC2CCCC2)s1', 'C[C@H](NC/C(N)=N/O)c1cccs1', 'CC(C)SCc1nc(N)cc(=O)[nH]1', 'Cc1ccccc1C(=O)N(C)C.Cl', 'Cc1cccc(NCC(O)CCl)c1', 'c1snnc1CNC[C@H]1CCCO1', 'CC(CNCc1cncs1)C(N)=O', 'O=C(NC1=NCCS1)C1CCCN1', 'COc1cnc(C(C)(C)C)cc1Cl', 'C[C@@H]1CCCN(c2ns[nH]c2=O)C1', 'NNC(c1ccsn1)C1CCOC1', 'O=C(CNC1=NCCS1)NC1CC1', 'CC1=CCCC(CS(=O)[O-])=CCC1', 'Cc1cc(C)cc(O[P@@](C)(N)=O)c1', 'CS/C(=N\\\\C#N)N1CCC(O)CC1', 'CNCc1nnc(C2CCCS2)o1', 'CCCC(C)Oc1ccc(Cl)cn1', 'COc1c(C)cc(Cl)c(CN)c1C', 'Cc1ccc([C@@H](N)[C@@H](C)O)cc1Cl', 'Cc1nsc(N2CC(O)CC2C)n1', 'COc1ccccc1[C@H]1CCN1.Cl', 'CCCC(O)Cc1ncccc1Cl', 'NCCCc1ccc(Cl)cc1CO', 'ClCc1cnc(C2CCCCC2)o1', 'CN1CC[N+](C)(C)CC1.[Cl-].[Cl-]', 'CC(=O)C(C(C)=O)C(C)(C)OC[Si]', 'Cc1n[nH]c(=S)n1C1CCOC1C', 'OC1CCCCC1Sc1ncn[nH]1', 'CNCc1cnc(SCCO)nc1', 'CCc1cc(C(N)CO)ccc1Cl', 'CC(=O)c1ccc([C@@H](C)N)cc1.Cl', 'CCc1nc(NC(=O)CN)sc1C', 'CCc1cc(Cl)ccc1OCCN', 'CC(CO)SCc1cnc(N)cn1', 'Cc1ccc(CN(C)C(=O)NN)s1', 'CCOc1ccc(Cl)cc1[C@@H](C)N', 'CNC1COc2ccccc2C1.Cl', 'CN(C)CCNC(=O)c1cncs1', 'Cl.c1ccc(OCC2CNC2)cc1', 'C[C@@H]1COc2ccccc2[C@@H]1N.Cl', 'CC(C)(CN)c1cc(Cl)ccc1O', 'OC1CCC(Nc2ncns2)CC1', 'CCC(CC)C(=O)Nc1nncs1', 'CC(Cc1ccccc1)C(N)=O.Cl', 'CC(=O)c1sc(NC(C)C)nc1N', 'Cc1ccc([C@@H](O)[C@H](C)N)cc1Cl', 'Cc1nc(C(=O)NCCCN)cs1', 'C=C/C(NC(=O)CCl)=C(C)\\\\C=C/C', 'COc1cc(C(C)CN)ccc1Cl', 'NC(=O)CNC1=NCC(C2CC2)S1', 'COCC1(Nc2nncs2)CCC1', 'CN1CCC(c2n[nH]c(=O)s2)CC1', 'CC(C)Cn1cccc(CCl)c1=O', 'CCCCc1ccc(CCl)c(=O)[nH]1', 'C[C@H](N)CCc1ccc(Cl)cc1O', 'Cl.OC1(c2ccccc2)CCNC1', 'CCCCOc1ccc(NCl)cc1', 'CC1CC(n2c(CO)n[nH]c2=S)C1', 'COc1cccc(C=CCN)c1.Cl', 'Cc1cc(SCCCO)nc(N)n1', 'Fc1ccccc1.N#Cc1ccccc1', 'N[C@H](c1ccc(Cl)o1)C1CCCC1', 'CC1C(O)CCCN1c1ncns1', 'Cc1ccc(NC(=O)NCCN)s1', 'NCc1nonc1C1CCCSC1', 'CSC1(C#N)CCN(C(N)=O)CC1', 'Cl.NCCC1OCC=C2C=CC=C21', 'CC[C@H](NC=O)c1ccccc1.Cl', 'CNc1ccc(OC(C)C)cc1Cl', '[C-]#[N+][C@@H]1[C@H]2C=C(c3ccc(F)cc3)C[C@H]21', 'Cc1ccc2c(c1)C[C@@H](N)CO2.Cl', 'CCC(CN)NC(=O)c1cncs1', 'CCc1ccc(C(N)CO)cc1Cl', 'Cc1nnc(NC2(CO)CCC2)s1', 'CNC(=S)NC(C)c1ncc(C)o1', 'COC1NCCc2ccccc21.Cl', 'CC(=O)C(C)(C)n1cc(CS)nn1', 'CC(C)(C)Oc1ccc(N)c(Cl)c1', 'Cc1cc([C@H](O)[C@@H](C)N)ccc1Cl', 'CCNC(CO)c1ccccc1Cl', 'N[C@@H](Cc1cnc[nH]1)C(=O)OB(O)O', 'COc1cc(C(C)N)cc(Cl)c1C', 'Cc1c(F)cccc1-c1cncc2c1C2', 'CCC(C)c1n[nH]c(=S)n(C)c1=O', 'CC1CCCC1c1ocnc1CCl', 'Cc1cc(OC[C@@H](C)N)ccc1Cl', 'CCCSc1nc(N)cc(OC)n1', 'CCc1csc(NC(=O)C(C)N)n1', 'C=COC(C)c1cc(C)cc[nH+]1.[Cl-]', 'COc1cc(C)c(CN)c(C)c1Cl', 'CC(N)C(C)(O)c1ccc(Cl)cc1', 'C[C@@H]1OCc2ccccc2[C@H]1N.Cl', 'COC1(Cn2cn[nH]c2=S)CCC1', 'CCSC(=O)c1cc(N)nn1CC', 'COc1cccc(C(N)CCCl)c1', 'CCC(O)(CC)c1ncccc1Cl', 'Nc1ncc(C2(O)CCC(N)C2)s1', 'CC(C)=CC(=S)/N=C(N)/C(C)=N/O', 'CC(C)=CNC(=O)NC1=NCCS1', 'CCNCCNC(=O)c1cscn1', 'CCNC(=S)NC(C)c1ccon1', 'Fc1ccc(/C=C/c2cccnc2)cc1', 'COC[C@@H](N)c1cccc(Cl)c1C', 'COCc1nnc(N2CCCC2)s1', 'CS(=O)CCNc1ccncc1N', 'NCCn1[nH]c2c(c1=O)CCSC2', 'CS/C(=N\\\\CC1CCCO1)NC#N', 'O=C(O)C1CCC(CNC#P)CC1', 'Cc1ccc(C(=O)CN)cc1C.Cl', 'Cc1c(O)cc(C(C)(C)N)cc1Cl', 'C/N=C(\\\\N)NC1SC=C(C)C1C=O', 'CC(C)COCc1cccc(Cl)n1', 'N[C@H](Cc1ccccc1)[C@@H](O)CCl', 'CC(NCc1ccsc1)C(N)=NO', 'CC(C)Oc1ccc(CN)c(Cl)c1', 'CC(CCl)NCc1cccc(O)c1', '[S-]c1nnc(CC[NH+]2CCCC2)o1', 'FC1=CC23NC=CC=C2C=CC=C3C=C1', 'C=C(C)C(=O)OC(CC)OC(C)[Si]', 'CC(C)OP(C)(=O)c1ccncc1', 'Cc1ccc(NCC(C)O)c(Cl)c1', 'Cc1nc(CNC(=O)N(C)C)cs1', 'CCCCCNC(=O)c1cnsn1', '[H]/N=C(Cl)/C=C(/C=C\\\\C)C(\\\\C)=C(/C)O', 'CNC(=O)CNCc1sccc1N', 'COCC(N)CSc1ncccn1', 'C/N=C1\\\\NC(=O)C2(CSC(C)C2)N1', 'CC(C)Oc1cc(CN)ccc1Cl', 'Cc1nnc(N(C)C2CCC2O)s1', 'CC(C)(C)[N+]([O-])=Cc1csc(N)n1', 'CSC1(CNc2nnc(C)o2)CC1', 'CC[C@H](N)C(=O)NCc1nccs1', 'CC(C)(C)/C(=N\\\\O)c1csc(N)n1', 'Cc1cc([C@@H]2CCN2)ccc1O.Cl', 'Cc1nonc1CNC1CCSC1', 'O=C(CCl)NC[C@@H]1C[C@H]2C=C[C@@H]1C2', 'CNCC(C)(O)c1ccc(Cl)cc1', 'Cc1[nH][nH]c(=O)c1C1CSCCN1', 'CSc1nnc(C2CCCNC2)o1', 'CC[C@@H](O)[C@@H](N)c1ccccc1Cl', 'C[C@@H](C(=O)[O-])c1ccc2ccccc2c1', 'COCC(CN)c1ccc(Cl)cc1', 'CC(CN)OCc1cccc(Cl)c1', 'C[C@@H](N)Cc1cc(Cl)ccc1CO', 'CCC1(O)CN(c2cc(N)ns2)C1', 'COc1cccnc1C(Cl)C(C)C', 'Cc1scnc1C(=O)NCC(C)N', 'Clc1ccc(CC2CCCNC2)o1', 'CCC(NC(N)=O)c1nc(C)cs1', 'N#CC1C2C=C(c3ccccc3F)CC12', 'CC(C)(N)Cc1ccc(Cl)cc1O', 'CCNC(F)F.NNC(=O)C(=O)O', 'Cc1c(Cl)ccc(O)c1C(C)CN', 'Cc1nc(S[C@H]2CCC[C@@H]2O)n[nH]1', 'C#CC1(c2c[nH]c3c(F)cccc23)CC1', 'CNCc1c(C)ccc(Cl)c1OC', 'CC(C)[S@@](=O)c1ccc(NN)nc1', 'COc1ncc(CN2CC(N)C2)s1', 'OCCNCCc1ccc(Cl)cc1', 'Cl.Nc1cccc2c1CCC(O)C2', 'Cc1cccc(Cl)c1C(O)CCN', 'CCOC(=O)C(CF)CCN.Cl', 'CN1CCC(SC2=NCCN2)C1=O', 'CNCc1nnc(C2CCCO2)s1', 'NCCCC(N)C(=O)c1nccs1', 'C/N=c1\\\\sc(C(=O)NC)c(C)n1C', 'CCCC1(O)CN(c2ncns2)C1', 'CCNCC(=O)Nc1nc(C)cs1', 'Cc1nnc(N2CCOC[C@H]2C)s1', 'Cc1nn(C)cc1CNC(=O)CS', 'CN(N)C(=O)C(N)Cc1cccs1', 'CC(C)(C)S(=O)/N=C/c1ncc[nH]1', 'CC1COCCN1c1cc(N)ns1', 'S=c1nc(N2CCCCCC2)[nH]o1', 'N#Cc1ccc(C2=C[C@@H]3C[C@@H]3C2)cc1F', 'Cc1c(Cl)cccc1C(O)C(C)N', 'CC(C)Oc1ccc(CNCl)cc1', 'CC.CC(=O)Nc1cccc(Cl)c1', 'O=c1[nH][nH]c(=S)n1CCCC1CC1', 'Cc1nnsc1COC1CCNC1', 'O=c1cc(CC2CSCCN2)[nH][nH]1', 'CNC(=O)NC(C)c1ncc(C)s1', 'COC1CCC(n2cn[nH]c2=S)C1', 'CN(CCCO)c1ccc(Cl)cc1', 'CC(C)C(C)Oc1cccc(Cl)n1', 'CNC(=O)CSc1nc(C)c(C)[nH]1', 'CC(N)CCc1c(O)cccc1Cl', 'COc1cc(CCN)c(C)cc1Cl', 'CCCOc1ccc(NC)c(Cl)c1', 'CNc1cc(SC(C)CO)ncn1', 'Nc1cc(CC2CSCCN2)no1', 'Cc1c(Cl)cccc1NCC(C)O', 'Cc1nsc(C2(N)CCCOC2)n1', 'Cl.NCCO/C=C/c1ccccc1', 'CNC(=O)Nc1nc(C(C)C)cs1', 'C=C(Cl)CNC(C)Cc1ccco1', 'CC1CSCC1(O)c1cn(C)nn1', 'Nc1cnc(NC2CCOCC2)s1', 'Cc1ncccc1OCC(C)CCl', 'CC12C=C(C(N)=O)C(CCC1)C2Cl', 'CC1(Cn2cn[nH]c2=S)CCCO1', 'COc1ncc(CC(C)C)cc1Cl', 'Nc1cc(NCC2CCOC2)sn1', 'NC(CCO)Cc1ccccc1Cl', 'CCC(N)COc1cccc(Cl)c1', 'CC(=O)NCCC1=CC(Cl)=CCC1', 'COC(CN)Cc1ccccc1Cl', 'CC(C)(CN)c1ccc(Cl)cc1O', 'CC(C)Cn1c(N)cc(=O)[nH]c1=S', 'Cc1cc(Cl)ccc1[C@@H](N)[C@H](C)O', 'C=C(Cl)/C=C\\\\C1=C(C)OCC(C)N1', 'CNC(=O)c1nc(CCN)sc1C', 'CCCCOc1cccc(CCl)n1', 'CC(C)(N)c1csc(CC(N)=O)n1', 'Cn1c(C2CCOCC2)n[nH]c1=S', 'CNC(CCO)c1ccccc1Cl', 'CC(C)(C)S(=O)/N=C/c1cn[nH]c1', 'Cc1ccc(C2NCCO2)cc1.Cl', 'COc1cc(CC(C)N)ccc1Cl', 'CN1C=C(N=C1)CC(=O)O', 'O=C(CO)Nc1cc[nH]c1', 'CNC(=O)c1cc(C)on1', 'C=CN1C(=O)CN(C)C1=O', 'OCc1cc(CO)ncn1', 'CC1(C#N)CNC(=O)OC1', 'O=C=NCN1CCCC1=O', 'CN1C(=O)NC(=O)C12CC2', 'Cn1cc(C=O)n(C)c1=O', 'N#CCC1(C[N+](=O)[O-])CC1', 'NC1=CC(N=O)CC(O)=C1', 'Cc1coc(C(=O)NN)c1', 'CC(=O)Cc1nc(C)no1', 'CC(=O)O/N=C/C(C)C#N', 'C#C.O=C1CNC(=O)CN1', 'C[C@@H](C(=O)O)c1ccn[nH]1', 'COCC(=O)c1cnc[nH]1', 'OCc1nccnc1CO', 'CC(=O)N1COCC1C#N', 'CNC(=O)C(C#N)=C(C)O', 'N#CCOCCOCC#N', 'CN(C)C(=O)c1ccno1', 'CC1=NN(C)C(=O)C1C=O', 'CC(=O)Oc1[nH]ncc1C', 'Cl.N/N=C(/N)N(N)N', 'CCc1cn(O)c(=O)cn1', 'ONN(O)c1ccccc1', 'COC(=O)C(=[N+]=[N-])C1CC1', 'Cn1ccc(COC=O)n1', 'CC(C(=O)O)c1cnc[nH]1', 'Nc1ccccc1NOO', 'CCn1cccc1[N+](=O)[O-]', 'O=c1ccn(CCO)cn1', 'O=C(O)/C=C/N1C=NCC1', 'CNc1cc(C(C)=O)on1', 'O=c1[nH]c2c(o1)NCCC2', 'COCn1cncc1C=O', 'O=[N+]([O-])C1=CNCC=CC1', 'CC(O)c1c[nH]c(=O)cn1', 'COC(=O)N1C=CN=CC1', 'C=CC(=O)O.c1cn[nH]c1', 'c1cc(C2OCCO2)[nH]n1', 'CCC1=C(C)N=C1[N+](=O)[O-]', 'C=CC(=O)NC(=O)N=CC', 'COCc1nccc(=O)[nH]1', 'NNP(=O)(NN)NN', 'N#CCN1CCOCC1=O', 'Cc1nc(C2COC2)no1', 'c1coc(C2NCCO2)n1', 'COc1nc(C)cc(=O)[nH]1', 'O=c1[nH]oc2c1CCCN2', 'C[C@H](C(=O)O)c1ncc[nH]1', 'CC(O)Oc1ncccn1', 'O=C1N2CC=CC(C2)N1O', 'Cn1ccnc1C(O)C=O', 'CCCC(N=C=O)N=C=O', 'C=C1[C@@H](C(N)=O)[C@@H]1C(N)=O', 'CN1CCC(C#N)(C=O)O1', 'CCOc1ccnc(=O)[nH]1', 'CC1=CC(=O)N(N)C(=O)C1', 'CCOC(=O)c1cnc[nH]1', 'CC1C=NN=C(C(=O)O)C1', 'C#CCC(C(N)=O)C(N)=O', 'O=CC(=CO)C1=NCCN1', 'CCc1ccnc(=O)n1O', '[H]/N=C(C)/N=C/C(C=O)=C/O', 'COc1cc(N)c[n+]([O-])c1', 'O=N[O-].[NH3+]c1ccccc1', 'OCc1cnn2c1OCC2', 'Cc1cc(C(=O)O)nn1C', 'CC1C=NCC(=O)NC1=O', 'CC(=O)O.c1cnccn1', 'COC(=O)C1C=CNN=C1', 'Cc1cc(=O)[nH]c(CO)n1', 'Cc1cc(=O)[nH]c(N)c1O', 'C[C@H]1C[C@H]1c1noc(=O)[nH]1', 'O=c1ocnn1CC1CC1', 'c1c[nH]c(OCC2CO2)n1', 'NC1=C(C(=O)O)NC=CC1', 'N#CC1CCC(C(=O)O)N1', 'COc1ncncc1CO', 'CN1CC(C#N)(C=O)CO1', 'Cn1nccc1COC=O', 'NC1=C(N)C(O)C=CC1=O', 'O=C1NCNC2=COCC12', 'NC(=O)C1=CC(N)C=CO1', 'CC(=O)Nc1cc(C)on1', 'COC(=O)C1=C(N)CN=C1', 'O=COCCn1ccnc1', 'O=C(CCO)c1cnc[nH]1', 'COC(=O)c1cc(N)c[nH]1', 'C=C(C)c1nnc(OC)o1', 'CN(C(N)=O)c1ccco1', '[C-]#[N+]COC(C)OCC#N', 'C1=NC2(CCCCOO2)N=1', 'Nc1c(O)cccc1NO', 'C/C=C1\\\\C(=O)NN=C1CO', 'CC(=O)Cc1nonc1C', 'Cc1oncc1CNC=O', 'O=[N+]([O-])CCc1ccc[nH]1', 'O=C1NCC(=O)N2CCC12', 'COc1cc(C)[nH]c(=O)n1', 'N#CC1(COC(N)=O)CC1', 'c1nnc(C2CCOC2)o1', 'CC(=O)OC1C=CNN=C1', 'NC(=O)OC1C=CNC=C1', 'CCOc1cc[n+]([O-])cn1', 'O=C1CN2NCC1CC2=O', 'C=N/C=C\\\\N=C(/C)C(=O)O', 'ONCc1ccc(O)cn1', 'C=C(C)C(=O)NCN=C=O', 'C/C(N)=C/C(=O)OCC#N', 'O=C1CC(=O)C2(CNN2)C1', 'O=C(O)NCc1cc[nH]c1', 'CNC(=O)C1=CNC(=O)C1', 'CCC(=O)c1c[nH]c(=O)[nH]1', 'N#CCOC(=O)N1CCC1', '[N-]=[N+]=CC(=O)C1CCOC1', 'CNC(=O)c1ocnc1C', 'CC(=O)OCc1cnc[nH]1', 'O=C1OC[C@@H]2CNC=CN12', 'O=C1NC2=NCCCC2O1', 'COC1(C)N=NCC1=C=O', 'CN1C=CNC(C(=O)O)=C1', 'CC(=CO)c1cc(N)on1', '[Cl-].[H]/N=C(\\\\N)[N+](N)(N)N', 'Nc1ccn(CC(=O)O)c1', 'CC(=O)/N=C/C=N/C(C)=O', '[H]/N=C1\\\\CNC(=O)\\\\C1=C(/C)O', 'C=C1NC=C(CO)C(=O)N1', 'COC(=O)Cn1ccnc1', 'NOC(=O)Cc1ccc[nH]1', 'N#C[C@H]1CNC(C(=O)O)C1', 'O=C(O)CN1C=CN=CC1', 'C#CCOCC1(CO)N=N1', 'Cc1onc(C(N)=O)c1C', 'CCc1cc(C(N)=O)no1', 'C[N+](C)=COC(=O)C=C=[N-]', 'CCOc1n[nH]ccc1=O', '[H]/N=C(\\\\OCN)c1ccco1', 'COc1cn(C(C)=O)cn1', 'c1ncc(C2OCCO2)[nH]1', 'C=CC(C)OC(=O)C=[N+]=[N-]', 'C=CCC.[N-]=C=O.[N-]=C=O', 'Nc1[nH]cc2c1OCCO2', 'CC1=CC(=O)N(CN)C1=O', 'O=CN1CC2=NOC[C@H]2C1', 'Cc1c(O)[nH]c(N=O)c1C', 'O=C1C(=O)N2CCNCC12', 'O=C1OCC2=NCCCN12', 'NC(C(=O)O)c1ccc[nH]1', 'C=CCc1[nH]c(=O)[nH]c1O', 'CNc1ccoc1C(N)=O', 'O=C1CCN1C1=NCCO1', '[H]/N=c1\\\\cc(C)n(O)cc1O', 'C=NC(C#N)C(=O)OCC', 'N#C[C@H]1CC[C@@H](C(=O)O)N1', 'Cc1cncnc1OCO', 'COc1nccnc1OC', 'CCNC(=O)c1cnco1', 'Cc1cn(C)cc1[N+](=O)[O-]', 'Cc1ncn(C)c1C(=O)O', 'CC(=O)Nc1cc(C)no1', 'CC1OC(c2ncc[nH]2)O1', 'Nc1cc(O)c(N)cc1O', 'Nc1onc2c1CCOC2', 'C/C(CC(=O)O)=N\\\\CC#N', '[C-]#[N+][C@H]1CN[C@H](C(=O)O)C1', 'C/C=C(/C)c1noc(=O)[nH]1', 'Cc1c[n+]([O-])cc(CO)n1', 'C/C=C/COC(=O)C=[N+]=[N-]', 'C=C[C@H](C)OC(=O)C=[N+]=[N-]', 'C=C/C=C(\\\\C(=C)N)[N+](=O)[O-]', 'CC[n+]1ccn(C(=O)[O-])c1', 'Cc1ccc([N+](=O)[O-])n1C', '[H]/N=C1\\\\CC(=O)N(CC)C1=O', 'COc1cnn(C)c(=O)c1', 'N#CC1(CNC(=O)O)CC1', 'Cc1cc(C/C=N/O)on1', 'OCCOc1cncnc1', 'CNC(=O)c1nc(C)co1', 'CC(C)c1noc(C=O)n1', 'O=C1N=CC(CCO)C=N1', 'NC(=O)C1CNC=CC1=O', '[H]/N=C(C=O)/C=C(\\\\N)C(C)=O', 'COC=C(C#N)CNC=O', 'CC(=O)c1c(N)noc1C', 'C=C(/C=N/C=N/C)C(=O)O', 'Cc1c[nH]c(N)c1C(=O)O', 'COCn1cnccc1=O', 'Cc1cc[nH]c1OC(N)=O', 'C=Cn1c(C)nc(O)c1O', 'CC1=CNCC(=O)NC1=O', 'COC(=O)C1CNC1C#N', 'C=[N+]1C=C[N+](C)=C1C(=O)O', 'C=CC1OC(=O)C(N)=C1N', 'CC(=O)O.c1ccnnc1', 'Cc1cc(C)n(O)c(=O)n1', 'NC1(C(=O)O)C=CC=NC1', 'Nc1noc2c1CCCO2', '[CH2-][NH+]1C=C(C)C(=O)NC1=O', 'Cl.NN=C(N)N(N)N', 'CC(O)(O)c1cncnc1', 'Cn1ccc(N)c1C(=O)O', 'NC1NC=CC=C1C(=O)O', 'COc1ccnc(N)c1O', 'N#CCC(=O)N1CC(O)C1', 'CN(C)c1ncc(C=O)o1', 'CNC(=O)c1cnoc1C', 'C=NC(=O)C(=C)C(=O)NC', 'NC(=O)N1CC=CCC1=O', 'C=N/C(=N\\\\C=C/C)C(=O)O', 'CCOC1C=C(C#N)NO1', 'O=C1CC(=O)N1NC1CC1', 'CCOC(=O)c1ncc[nH]1', 'NC(=O)/C=C/C=C/NC=O', '[C-]#[N+]CC(=O)N1CC(O)C1', 'N#CCC(=O)N1CCCO1', 'NCc1ccc(C(=O)O)[nH]1', 'O[C@@H]1Cn2cncc2[C@H]1O', 'CN1NC(=O)[C@@H]2C[C@@H]2C1=O', 'CC(O)c1cncc[n+]1[O-]', 'OC1CC(c2ncon2)C1', 'Cn1nccc1C(O)C=O', 'COC1OC1c1ccn[nH]1', 'NCCC(=O)c1cnco1', 'NC(=O)C1CCN=CC1=O', 'O=C1NC(=O)[C@H]2CC[C@H]2N1', 'CC=C1OC=NN1C(C)=O', 'ONc1ccccc1NO', 'O=CN1C[C@H]2C[C@@H]1C(=O)N2', 'C=C/C(N)=C(\\\\C=C)[N+](=O)[O-]', 'O=C(O)/C=C/c1cnc[nH]1.[H][H]', 'Cc1cc(=O)n(O)cc1N', 'CNC(=O)C1=CC=CON1', 'Cc1n[nH]c(=O)cc1CO', 'COc1ccc(=O)n(C)n1', 'C=N/N=C1\\\\CC(C)OC1=O', 'NCC(=O)Oc1ccc[nH]1', 'Cc1cc[nH]c1C(=O)NO', 'CC(N)=C(C)C(=O)N=C=O', 'OC1Cc2[nH]ncc2C1O', 'N[C@@H](C(=O)O)c1cc[nH]c1', 'COC1(C=O)N=CC=CN1', 'CN1CC(C#N)OCC1=O', '[O-]c1noc2c1C[NH2+]CC2', 'C=N/C(=C\\\\C=N\\\\C)C(=O)O', 'CCC(C)(N=C=O)N=C=O', 'C=C(C=CC(N)=O)C(N)=O', 'CCOc1cnc[n+]([O-])c1', 'OCCOc1ccncn1', 'COc1ccc(CO)nn1', 'O=C1CN2C(=O)CC[C@H]2N1', 'C=N/C(=N\\\\C=CC)C(=O)O', 'COc1cncnc1OC', 'COC(=O)C1=CCN=CN1', 'CC1COC2=C3N1C=C(C(=O)C3=CC(=C2N4CCN(CC4)C)F)C(=O)O', 'Cc1cccc(Cn2cccc(C(=O)N/N=C\\\\c3ccc(O)cc3)c2=O)c1', 'Cc1nc(CNC(=O)OC(C)(C)C)sc1C(=O)N(C)c1ccccc1', 'O=C(CCc1csc(NC(=O)c2ccco2)n1)NCC1CCCCC1', 'O=C(O)N[C@H](CC(=O)Nc1ccc(-c2ccncc2)cc1)c1ccccc1', 'Cc1nc2ccc(C#CCCNC(=O)OCc3ccccc3)cc2c(=O)[nH]1', 'CCC(C)C(NC(=O)c1nn(-c2ccccc2F)c(C)cc1=O)C(=O)O', 'NCC1CN(c2cc3c(cc2F)c(=O)c(C(=O)O)cn3C2CC2)CCO1', 'Cc1nc2ccccc2c(C)c1CC(=O)N1CCc2cc([N+](=O)[O-])ccc21', 'Cc1ccc(CC(=O)NCCN(Cc2cccnc2)S(C)(=O)=O)cc1', 'COc1nccnc1OC1CCCN(C(=O)COc2ccccc2F)C1', 'CC[C@@H](ON=C1c2ccccc2-c2ccccc21)C(=O)Nc1cc(C)on1', 'CCCCC(=O)Nc1c2c(nn1-c1ccc(C)cc1C)CS(=O)(=O)C2', 'COCCOc1ccc(C(=O)NCC2CCCN2c2nccs2)cc1', 'Cc1ccc(-c2noc(CCC(=O)N3CCC[C@H]3CC(=O)O)n2)cc1F', 'COc1cccc(-n2ccnc2SCC(=O)NC(C(C)=O)C(C)C)c1', 'COc1ccc(/C=C/C(=O)Nc2cnc(-c3ccccc3)nc2)c(OC)c1', 'O=C(NCCCNC(=O)c1cc2ccccc2o1)c1cc2ccccc2[nH]1', 'COc1ccc2cc(C(=O)Nc3ccc4c(C)c(C)c(=O)[nH]c4c3)[nH]c2c1', 'CN1c2ccccc2-c2ccccc2[C@@]12C=Cc1c(ccc3ccccc13)O2', 'O=C(NCCc1nc2c(s1)CCCC2)NCC(O)c1cccc(O)c1', 'C=CCn1c(SCC(=O)OC)nnc1C(C)Oc1ccc(C)c(C)c1', 'N#C/C(=C/c1ccc(C(=O)O)cc1)C(=O)N1CCN(c2ccccc2)CC1', 'CC(OC(=O)CCc1c[nH]c2ccccc12)c1nc2ccccc2c(=O)[nH]1', 'O=C(Nc1cccc2cccnc12)[C@@H]1CN(C(=O)O)C[C@@H]1c1ccccc1', 'COC(=O)[C@@]1(Cc2cscn2)C[C@H]2CC[C@@H]1N2Cc1c(C)noc1C', 'Cc1ccc([C@H](N)[C@H](O)c2ccc(OC3CCOCC3)cc2)cc1Cl', 'CNCC1CCCN1C(=O)c1ccn(S(=O)(=O)c2ccc(C)cc2)c1', 'Cc1cccn2c(=O)c3c(nc12)N1CCc2ccccc2[C@@H]1[C@H](C(=O)O)C3', 'Cc1ccc(C2(O)CCN(c3ccc(CS(C)(=O)=O)cn3)CC2)nc1', 'COc1ccc2oc(C(=O)NCc3cnn(-c4ccccc4)c3)c(C)c2c1', 'COCCOc1ncnc2c1c(-c1ccc(O)cc1)cn2-c1ccccc1', 'COC(=O)[C@H](Cc1c[nH]c2ccccc12)n1c(C)nc2ccccc2c1=O', 'Cc1cccc(C)c1NC(=O)CCN(Cc1ccncc1)S(C)(=O)=O', 'CCCS(=O)(=O)c1ccccc1C(=O)NCc1cccnc1N(C)C', 'CC(Oc1ccccc1Cl)C(=O)NCC(O)c1ccc(C(C)C)cc1', 'Cc1cccc(N(C)C(=O)c2cc(S(=O)(=O)N3CCCC3)cn2C)c1', 'COc1cccc(Oc2ncc(-c3cccc(C(=O)NC4CC4)c3)cn2)c1', 'COc1cc(CNC(=O)c2ccccc2Cl)ccc1OCCC(C)C', 'COC(=O)c1ccc(N2CCC(Oc3ccc(OC)nc3)CC2)nc1F', 'Cc1ccc(C2OCCCC2CNc2ncccc2S(N)(=O)=O)cc1', 'Fc1ccc2c(c1)c(OCC1CCCNC1)nn2-c1ccc(F)c(F)c1', 'Cc1c(C(N)=O)oc2c1/C(=N/NC(=O)c1cccc3ccccc13)CCC2', 'Cc1ccc(-c2nnc(NC(=O)C(C)OCC3CCCO3)s2)c(C)c1', 'O=C(c1nc(C2CC2)n2ccccc12)N1CCc2cc3c(cc2C1)OCO3', 'CCCOC(=O)Cc1cc2cnc(SC)nc2n(C2CCCC2)c1=O', 'CC[C@H](Oc1cccc(Cl)c1)C(=O)N[C@H](C)COc1ccccc1C', 'Cc1nc(C)c(C(=O)OCC(=O)N(C)Cc2ccc(N(C)C)cc2)s1', 'CNC(=O)c1cc(-c2ccc(OC)cc2)nc2c1[nH]c1cc(OC)ccc12', 'O=C(NCC1CN(c2ccccc2)C(=O)O1)c1cccc(-n2cccc2)c1', 'COc1ccc(NC(C)=O)cc1NC(=O)/C=C/c1cccc2cccnc12', 'COc1ccc(OC)c([C@@H]2CCN(CCC(=O)Nc3nccs3)C2)c1', 'Cc1ccc(N2CCC(NC(=O)C(=O)c3c[nH]c4ccccc34)C2=O)cc1', 'CNC(=O)c1ccc(/C=C/C(=O)NCc2cc(-c3ccccc3)no2)cc1', 'CCC(Oc1cccc(Cl)c1)C(=O)NC(C)COc1ccc(C)cc1', 'CCN(c1ccc(NC(=O)COC(=O)c2cnc(C)s2)cc1)C(C)C', 'N#CC1(C(=O)N2CCC(NS(=O)(=O)c3ccccc3)CC2)CCCC1', 'Cc1n[nH]c(C)c1CN1CCC2(CC1)OCCc1cc(C(=O)O)sc12', 'Cc1noc(C)c1CCC(=O)Oc1ccc(Cl)cc1C1CCCCC1', 'CC[C@@H](Oc1cccc(Cl)c1)C(=O)NCCCc1ccccc1OC', 'O=C(/C=C/c1ccncc1)N1CCN(c2cccc(C(F)(F)F)c2)CC1', 'O=C(COC(=O)CC12CC3CC(CC(C3)C1)C2)Nc1cccc(Cl)c1', 'C[C@@H]1CCc2nc(NC(=O)CN3C(=O)[C@H]4CCCC[C@@H]4C3=O)sc2C1', 'Cn1c(=O)c2c3c(cnc2n(C)c1=O)C(=O)C[C@@H](/C=C/c1ccccc1)C3', 'COc1cccc(CNc2ccc(S(=O)(=O)N3CCCCC3)cn2)c1', 'O=S(=O)(Nc1cc(C2CCCCCC2)[nH]n1)c1ccc2c(c1)COC2', 'O=C(NC[C@H]1COCCO1)[C@@H]1CCCN(c2nc3ccccc3s2)C1', 'CC1(C)CC(c2ccccc2)N(S(=O)(=O)c2cnn3c2OCCC3)C1', 'O=C(O)N1CCN(Cc2ccn(Cc3ccc(F)cc3)c(=O)c2O)CC1', 'COc1cc(Cl)c(C)cc1NC(=O)COc1ccc(C(C)C)c(C)c1', 'CCOc1ccc(CCCNC(=O)c2ccc(C)cc2Cl)cc1OC', 'COCc1csc(C(=O)c2cncnc2N[C@@H]2C[C@H](CO)[C@@H](C)C2)c1', 'CCCc1ccc(NCc2nc(-c3cccc(C(F)(F)F)c3)no2)cc1', 'COc1ccc(C(=O)C(=C2C=CC(=[O+]C)C=C2)c2ccc(OC)cc2)cc1', 'CNC(=O)c1ccc(CNCCNS(=O)(=O)c2ccc(C)cc2)cc1', 'O=C(NCCSc1ccccc1)NCC1CCN(CC(F)(F)F)C1', 'COc1cccc(C(=O)N(CCC(C)C)CC(=O)Nc2nccs2)c1', 'COc1cc(C)c2[nH]ccc2c1C(C)(OC)c1nc2cc(C#N)ccc2o1', 'CC(C)NS(=O)(=O)c1cccc(C(=O)NCCc2ccc(N)cc2)c1', 'CC(=O)c1cccc(C#CC=C2CCN(c3ncccc3[N+](=O)[O-])CC2)c1', 'CC(NC(=O)c1c2c(nc3ccccc13)C(=Cc1ccco1)CC2)C(N)=O', '[O-][n+]1cc2nc3n(c2c2c(COCc4ccccc4)cccc21)CCOC3', 'COc1ccc(C(=O)NCC2CCCN(c3nccs3)C2)cc1OC', 'COc1ccc(CNc2ncnc3ccc(-c4ccoc4)cc23)c(OC)c1', 'Cc1c(-c2ccc3oc(Cc4ccccc4)nc3c2)c(=O)n(C)c(=O)n1C', 'CCCc1ccc(Oc2ccc(OCC(C)NC(C)=O)cc2)c(Cl)c1', 'COCCn1ccnc1C1CCCN(C(=O)c2csc(C(C)=O)c2)C1', 'CN1C[C@H](Cc2ccc3ccccc3c2)N(c2ccc([N+](=O)[O-])cc2)C1=O', 'COc1cc(/C=N/NC(=O)CNc2ccc(F)cc2)cc(OC)c1OC', 'CCSC1(CNc2cc(C)nc3c([N+](=O)[O-])cccc23)CCOCC1', 'CC(=O)NCc1ccc2[nH]cc(CCN3C(=O)c4ccccc4C3=O)c2c1', 'CC(C)(C)NC(=O)C1CCCN(c2nc3cc4c(cc3s2)OCO4)C1', 'CCc1n[nH]c(=O)c(CNS(=O)(=O)/C=C/c2ccc(C)cc2)c1CC', 'CCN(C(=O)c1c[nH]c(=O)n(Cc2cccs2)c1=O)C1CCCCC1', 'Cc1ccc(N)cc1NC(=O)c1cccc(S(=O)(=O)N(C)C(C)C)c1', 'Cc1ccc(CS(=O)(=O)N2CCCN(C(=O)c3cc[nH]c3)CC2)cc1', 'CSc1ncccc1C(=O)NC[C@@H](c1ccc(C)o1)N1CCOCC1', 'CC(C)[C@@H](C(=O)Nc1ccc(N2CCCS2(=O)=O)cc1)n1cccc1', 'COC(=O)[C@H](CCSC)NC(=O)c1c(C)nn(-c2ccccc2)c1C', 'CC(C)OC(=O)CSc1nnc(-c2ccccc2)n1C[C@@H]1CCCO1', 'Cc1ccc(-n2nc3c(c2NC(=O)CC(C)(C)C)CS(=O)(=O)C3)cc1', 'CCC(CC)(CN)NC(=O)Cc1csc(-c2ccc3c(c2)OCO3)n1', 'O=P(O)(O)OC(Cc1ccccc1)(Cc1ccccc1)[C@@H]1CCCN1', 'COc1ccc(Cl)cc1NC(=O)C(C)Oc1ccc(C(C)C)c(C)c1', 'O=C(c1cccnn1)N1C[C@H]2CC(c3ccccc3C(F)(F)F)C[C@H]2C1', 'O=C(CCC(=O)Nc1ccccc1)NN=Cc1c(O)ccc2ccccc12', 'Cc1cc(=O)n(CC2CCN(S(C)(=O)=O)CC2)nc1-c1ccccc1', 'Cc1ccc(O)cc1.O=S(=O)=NN(c1ccccc1)C1CCNCC1', 'C=C1c2ccccc2C(=O)N1CC(=O)N1Cc2ccccc2C[C@H]1C(N)=O', 'O=[N+]([O-])c1ccc(O)c(/C=N/N(Cc2ccccc2)Cc2ccccc2)c1', 'C=CS(=O)(=O)NC1CCN(c2ccc(C(N)=O)c3c2C(C)=C(C)C3)C1', 'CC(C)NS(=O)(=O)c1cc(N)cc(C(=O)N[C@@H](C)c2ccccc2)c1', 'O=C(NCc1ccc(N2CCCC2=O)cc1)c1cc(=O)[nH]c2ccccc12', 'CCOc1ccc(NC(=O)c2cccc(C(=O)Nc3ccccc3)n2)cc1', 'CN(C)CCCNS(=O)(=O)c1ccc2[nH]c3c(c(=O)c2c1)=CCCC=3', 'Cc1ccc(CC(=O)CCCc2nc3ncc(C(F)(F)F)cc3[nH]2)cc1', 'CC(=O)N(C)C1CCN(C(=O)c2coc(COc3cccc(F)c3)n2)C1', 'CCOc1cc(/C=C2/C(=O)N(c3ccccc3)N=C2C)ccc1OCC#N', 'CC(C)c1ccc(CS(=O)(=O)NCC(=O)NCc2ccncc2)cc1', 'CCc1ccc(C(C)NC(=O)Nc2ccc(NS(C)(=O)=O)cc2)cc1', 'CC(=O)N1C[C@H]2CN(C(=O)c3ccsc3)C[C@@]2(C(=O)N2CCCC2)C1', 'C=CCc1cc(/C=C(\\\\C#N)c2nc3ccc(OC)cc3[nH]2)cc(OC)c1O', 'N#Cc1ccc(OCc2cccc(C(=O)OCCCn3ccnc3)c2)cc1', 'COc1ncccc1-c1ccc(S(=O)(=O)N2CCC(N(C)C)C2)cc1', 'Cc1ccc(S(=O)(=O)Nc2ccccc2C(=O)NCC(C)(C)N)cc1', 'COc1cccc(C(C(=O)O)N2CCN(Cc3csc(C)n3)CC2)c1', 'Cc1ccnc2cc(C(=O)NC[C@@H](N)C(=O)OC3CCCCC3)sc12', 'Cc1c(C(=O)N2CC(S(=O)(=O)CC(C)C)C2)cnn1-c1ccccc1', 'COc1ccc(NC(=O)Cc2ccc(/C=C/C(=O)c3ncc[nH]3)cc2)cc1', 'C[C@H]1CCCC[C@H]1N1C(=O)C(=O)N(CN2CCc3sccc3C2)C1=O', 'CCn1cccc1C=C1SC(=O)N(CC(=O)N2CCCCCC2)C1=O', 'Cc1ccc(N2C(=O)N(CC(=O)c3c[nH]c4ccccc34)C(=O)[C@H]2C)cc1', 'O=C(O)Nc1ccc(Cc2ccc(NC(=O)Nc3ccccc3)cc2)cc1', 'CCOC(=O)C(/C([O-])=N/c1ccccc1)=[n+]1ccc(=C2C=CNC=C2)cc1', 'COc1ccc(-c2c[nH]c3ncc(-c4ccc(OC)c(OC)c4)cc23)cn1', '[H]/N=C(\\\\OCc1ccccc1)c1cc([N+](=O)[O-])ccc1NCc1ccccc1', 'C=CCNC(=O)c1ccccc1NC(=O)c1cc(-c2ccc(C)cc2)no1', 'CCOP(=O)(OCC)[C@@H](Cc1ccccc1)NC(=O)c1ccccc1', 'C[C@@H]1[C@@H](C)CCC[C@H]1NC(=O)[C@H](C)Sc1nccc(C(F)(F)F)n1', 'CCn1cc(Cn2cc(NC(=O)C(C)Cn3cc(Cl)cn3)cn2)cn1', 'Cn1cccc1[C@@H]1CCCN1C(=O)Nc1cccc(CS(C)(=O)=O)c1', 'COc1ccc(CC(=O)N(CC(=O)Nc2nccs2)CC(C)C)cc1', 'COc1ccc(C2CCCN2Cc2csc(NC(C)=O)n2)c(OC)c1', 'Cc1cc(C)c(C(=O)OC/C(O)=C(\\\\C#N)c2nc3ccccc3[nH]2)c(C)c1', 'CC(C)OCCCNC(=O)c1csc(NC(=O)Cc2ccccc2)n1', 'C[C@H](OC(=O)CCc1c[nH]c2ccccc12)c1nnc(-c2ccccc2)o1', 'CCC1CCc2nc(NC(=O)N3CCOC(c4ccco4)C3)sc2C1', 'COc1cc2occ(C)c2cc1/C(C)=C/C(=O)Nc1nc2ccccc2[nH]1', 'COc1ccccc1N1CCN(c2ccc(NS(C)(=O)=O)cc2)CC1', 'CCCS(=O)(=O)Nc1cccc(NC(=O)c2cc(N)ccc2C)c1C', 'Cc1cc(=O)c(C(=O)N[C@@H](CC(C)C)C(=O)O)nn1-c1ccccc1F', 'Cc1cc(C(=O)NCCc2ccc(S(N)(=O)=O)cc2)c(C)n1C1CC1', 'CS(=O)(=O)c1ccc2ncnc(N3CCCC4(CCCO4)CC3)c2c1', 'COc1ccc([S@](=O)N2CCN(c3ccccn3)CC2)c(OC)c1C', 'CCN(CC)S(=O)(=O)c1ccc(C(=O)Nc2ccc(C)c(N)c2)cc1', 'CCOC(=O)C1=C(C)N(CC)C(=S)NC1c1cccc(NC(C)=O)c1', 'CCOC(=O)NCC1CC(F)CN1C(=O)c1cc(-c2ccccc2)on1', 'CCCn1nc(C(=O)OC(C)C(=O)NCc2ccc(F)cc2)ccc1=O', 'CC[C@@H]1CC(=O)N[C@@H]1COc1nccc2cc(C(N)=O)c(OC)c(F)c12', 'CCOC(=O)c1[nH]c2ccccc2c1C(Nc1cccnc1)c1ccco1', 'CCCCN1C(=O)c2ccc(C(=O)NCc3cccc(C#N)c3)cc2C1=O', 'CCCCCc1nnc(NC(=O)C=Cc2ccc(OC)c(OC)c2)s1', 'CN(C(=O)c1cc(Nc2ccc3c(c2)OCCO3)ccn1)c1ccccc1', 'CCOP(=O)(CCc1ccc(C(=O)Nc2ccccc2)cc1)OCC', 'CC(C)(C)c1ccc(S(=O)(=O)NCCNC(=O)c2ccccn2)cc1', 'CCC(NC(=O)C(C)Oc1ccc(Cl)c(C)c1)c1ccc(OC)cc1', 'COc1ccccc1CC(=O)Nc1ccc(NC(=O)c2cccnc2)cc1', 'CCOC(=O)N1CCC(c2nnc(Cc3ccc(OC)cc3)s2)CC1', 'COc1ccc(-c2nc(CC(=O)NCC(=O)NC(C)(C)C)cs2)cc1', 'COc1cc2c(cc1NC(=O)[C@@H]1C[C@@H]1c1cnn(C)c1)oc1ccccc12', 'CC(C)Oc1ccc(-c2nc(-c3cccc4c3CC[C@@H]4O)no2)cc1C#N', 'COc1ccc2[nH]cc(CCNC(=O)C3=CC(=O)N=C4C=CC=CC34)c2c1', 'COc1ccccc1CN(CN1C(=O)NC2(CCSC2)C1=O)C1CC1', 'CC[C@]1(C)NC(=O)N(CC(=O)N2CC[C@H](C)Sc3ccccc32)C1=O', 'NC(=O)c1cccc(NC(=O)CNc2ccc(Oc3ccccc3)cc2)c1', 'NS(=O)(=O)c1cccnc1N1CCC(OCCc2ccccc2)CC1', 'Cc1cc(C)c(C)c(S(=O)(=O)N[C@@H](C)C(=O)Nc2ccncc2)c1C', 'CC[C@@H](Oc1ccc(Cl)cc1)C(=O)NCCOc1ccc(C)cc1C', 'COc1ccc(-c2cc(-c3cc(OC)ccc3OC)nc(N)c2C#N)cc1', 'O=C(Cc1cccs1)N1CCN(C(=O)C2CC(=O)N(C3CC3)C2)CC1', 'Cc1ccc(O[C@H]2COCC[C@H]2NC(=O)c2nc(C(C)C)cs2)cn1', 'O=C(O)C1CCN(C(=O)NCCc2coc(-c3ccc(F)cc3)n2)CC1', 'O=C1NC(=O)N(c2ccccc2)C(=O)/C1=C\\\\c1ccc(N2CCCC2)cc1', 'CCc1ccc(NCC(=O)Nc2cccc(S(=O)(=O)N(C)C)c2)cc1', 'N#Cc1ccc(CC(=O)N2CCC(S(=O)(=O)N3CCCC3)CC2)cc1', 'CN1CC(=O)N2CCN(C(=O)CCSCc3ccccc3)C[C@@H]2C1=O', 'CCOC(=O)C(C)(C)Oc1ccc(CN(C)c2ccc(Cl)cc2)cc1', 'Cc1ccccc1CNC(=O)c1nc(-c2oc3c(C)cccc3c2C)no1', 'NC(=O)C(Nc1cncc(-c2ccc3c(c2)OCCO3)c1)c1ccccc1', 'FC(F)(F)CNc1ccc2c(c1)OCc1cc(C3C=CC=CC3)nn1C2', 'C/N=C(\\\\NCc1cccc(F)c1)NC1CCN(c2ncccc2Cl)C1', 'CC(C)S(=O)(=O)N1CC[C@H]([C@H]2c3ccccc3-c3cncn32)[C@@H](O)C1', 'Cc1cc(O[C@@H](C)C(=O)NCCOc2cccc(C)c2C)ccc1Cl', 'CCc1csc(NC(=O)N2Cc3ccc(OC)cc3OC(C)(C)C2)n1', 'O=C(CN1C(=O)N[C@@]2(CCCc3sccc32)C1=O)NC1CCCCC1', 'Cc1ccc(N(CCC(=O)NCc2cccnc2)S(C)(=O)=O)c(C)c1', 'O=C(NCC(c1ccco1)N1CCOCC1)C(=O)Nc1cccc(F)c1', 'CCCOc1ccc(/C=C(\\\\C#N)c2nc3ccccc3c(=O)[nH]2)cc1OC', 'Cl.O=C(OCC1CCCCN1)C(O)(c1ccccc1)c1ccccc1', 'CCOc1ccc(C(=O)NC(C)(C)C)cc1COc1ccccc1Cl', 'Cc1ccc(OCC#CCNC(=O)C(=O)c2c(C)[nH]c3ccccc23)cn1', 'N#CCc1c(C#N)c(N)nc(N2CCN(c3ccccc3F)CC2)c1C#N', 'CCOC(=O)C(=O)/C(=N/Nc1ccc(C)cc1)c1ccc2ccccc2n1', 'COc1ccc(NC(C)=O)cc1NC(=O)C=Cc1cccc2cccnc12', 'C[C@H]1CCCC[C@H]1OCCNC(=O)c1ccc(-c2n[nH]c(=S)o2)cc1', 'O=C(c1cc(N2CCOCC2)no1)N1CC(OCc2ccccc2F)C1', 'CCOC(=O)NC[C@@H]1C[C@H](F)CN1C(=O)c1cc(-c2ccccc2)on1', 'COC(=O)c1ccc(Nc2ncccc2C(=O)NCc2ccccc2)cc1', 'COC(=O)c1ccc(NC2CCN(c3ccc4ncccc4c3)C2=O)cc1', 'COC(=O)c1cccc(NC(=O)/C=C/c2cnn(-c3ccccc3)c2)c1C', '[H]/N=C/c1cc(C)c(C2CCNCC2F)cc1Nc1cc(Cl)nc(C)n1', 'COc1cccc(NC(=O)c2cc(Nc3ccc(C(C)=O)cc3)ccn2)c1', 'Cc1ccccc1COc1ccc(C=NNc2ccc([N+](=O)[O-])cc2)cc1', 'CCC(C)c1cc(-c2cc([N+](=O)[O-])ccc2Cl)cc(C(C)CC)c1O', 'COc1ccc(C(CNC(=O)c2cnc(C)s2)N2CCOCC2)cc1', 'CCc1cc(=O)n(-c2cc3c(cc2F)OCC(=O)N3C(C)C)c(=O)n1C', 'CNC(=O)[C@@H]1Cc2ccccc2N1C(=O)C(=O)c1c(C)[nH]c2ccccc12', 'CCOC(=O)c1ccc(N(Cc2ccncc2)C(=O)c2cccnc2)cc1', 'CN(C)c1cccc(C(=O)NCc2ccc(S(=O)(=O)N(C)C)cc2)c1', 'Cc1ncc(C(=O)NCc2cccc(OCCN3CCOCC3)c2)s1', 'COc1ccc(-c2nc(CN3CCN(C(C)=O)CC3)cs2)c(OC)c1', 'O=C(C1CCCN(c2ncc(C(F)(F)F)cc2F)C1)N1CCOCC1', 'Cc1cc(CNC(=O)c2cc3c(s2)C2(CCN(C)CC2)OCC3)on1', 'O=C(OCC(=O)N1CCCc2ccccc21)c1cncn1-c1ccccc1', 'CCCNC1=CC(=O)C(NCCC)C2=C1Nc1ccccc1S2(=O)=O', 'CCOc1nc2c(C)cccc2cc1-c1noc(-c2ccccc2OC)n1', 'COC(=O)C(C)Oc1ccc(Nc2c(N)cc(F)cc2NC(C)=O)cc1', 'Cc1ccc(C(=O)Nc2nc(CN3CC(C)OC(C)C3)cs2)c(O)c1', 'CCn1cc(-c2cccc(-n3nnn(CC(CN)=C(F)F)c3=O)c2)cn1', 'CC(C)c1ccc(Cc2nnc(NC(=O)c3cc4ccccc4o3)o2)cc1', 'COc1ccc2c(c1)CCc1c-2n[nH]c1C(=O)Nc1cccc(C(C)=O)c1', 'NC(=O)C(=O)c1cn(CC(=O)N2CCc3ccccc3C2)c2ccccc12', 'CCn1cc(C2CN(S(=O)(=O)/C=C/c3ccc(C)cc3)CCO2)cn1', 'COc1ccc(CCNC(=O)CSc2nc(C(C)C)cc(=O)[nH]2)cc1', 'CCOC(=O)c1ccc2[nH]c3c(=O)[nH]cc(Nc4cccc(C)c4)c3c2c1', 'Cc1ccc(CNC(=O)c2ccc(Nc3ccc4c(c3)OCO4)nc2)cc1', 'Cc1cc(C)cc(OCCNC(=O)[C@@H](C)Oc2ccc(Cl)c(C)c2)c1', 'CCC(C)N1C(=O)c2ccc(C(=O)Nc3ccc4[nH]ccc4c3)cc2C1=O', 'Cc1cc(C)cc(NS(=O)(=O)c2cc3n(c2)CCN(C(C)C)C3=O)c1', 'CCCCOC1Sc2ccc(C(O)Cn3ccnc3)cc2N(C)C1=O', 'CCCCSc1nc2c3cc(OC)ccc3n(C)c2c(=O)n1CCO', 'CCOc1ccc(-c2cc(=O)n3[nH]cc(-c4ccc(OC)cc4)c3n2)cc1', 'COC(=O)c1ccc(Nc2cncc(C(=O)Nc3ccc(C)cc3)c2)cc1', 'O=C(Cc1cc[nH]c1)N1CCN(S(=O)(=O)CCc2ccccc2)CC1', 'CC(=O)COC(=O)/C=C/c1cn(Cc2ccccc2)nc1-c1cccnc1', 'Cc1noc(C)c1S(=O)(=O)N1CCN(C/C=C/c2ccccc2)CC1', 'CCc1nnc(NC(=O)CCCC(=O)OCCCc2ccccc2)s1', 'Cc1ccc2ncn(CCCCN3C(=O)c4ccccc4C3=O)c(=O)c2c1', 'COc1ccc(C2(CNC(=O)c3csc(CN)n3)CCOCC2)cc1', 'OC1CC(c2nc(-c3ccccc3)no2)N(Cc2cc3ccccc3o2)C1', 'CCOC(=O)NCCCCCOc1ccc(N)cc1.CS(=O)(=O)[O-]', 'CCC(C)C(N)C(=O)Nc1cccc(NS(=O)(=O)c2ccccc2)c1', 'O=C1CCC(N2Cc3cc(O[C@H]4CNCC[C@H]4F)ccc3C2=O)C(=O)N1', 'COc1cc(CNC(=O)Cc2csc(NC(=O)C(C)C)n2)ccc1C', 'CS(=O)C1(C(=O)NC(Cc2ccccc2)c2ncco2)CCNCC1', 'C#CCNC(=O)[C@@H](Cc1c[nH]c2ccccc12)NC(=O)Oc1ccccc1', 'COCCCCC(=NOCCN)C1=CC=C(C=C1)C(F)(F)F', 'COC(=O)[C@@H](CC=C(C)C)NC(=O)c1ccccc1NC(C)=O', 'Cc1ccc(C(=O)OCC(=O)N(C)CC(=O)NC2CC2)c(C)c1', 'CC1CCN(C(=O)c2ccnc(OC3CCC3)c2)C(C(=O)O)C1', 'CN(CC(=O)N1C[C@@H]2COC[C@]2(C(=O)O)C1)Cc1ccccc1', 'CCC1Oc2ccc(C)cc2N(CC(=O)N2CCOCC2)C1=O', 'CC(C)(C)OC(=O)N1CCC(C2=CC(C(F)(F)F)=NC2)CC1', 'O=C(CCNc1ccc(F)c(F)c1)NCCCc1ccccc1', 'O=C(NO[C@H]1CCN(C(=O)C2CCOCC2)C1)c1ccccc1', 'CC(=O)Nc1cc(NC(C)=O)cc(C(=O)OC2CCCCC2)c1', 'COc1ccc(C(=O)NCC(=O)N2CC3CCC2C3)cc1OC', 'CCCCOCC(=O)NC(Cc1c[nH]c2ccccc12)C(=O)O', 'CCc1ccc(C(=O)N2C[C@H]3CCC[C@@H](C2)C3O)cc1[N+](=O)[O-]', 'COc1cccc(OCCNC(=O)c2c(C)noc2C(C)C)c1', 'COC(=O)[C@@H]1CCC/[N+]1=C\\\\C(C)(C[CH-][N+](=O)[O-])c1ccccc1', 'CCCCO[C@H]1CCC2C=Nc3cc(O)c(OC)cc3C(=O)N21', 'O=C(O)CCNC(=O)C1CCCN(C(=O)Cc2ccccc2)C1', 'Fc1cc(F)cc(C2CNCC(COCc3ccncc3)C2)c1', 'C[C@H]1CN(Cc2ccc(N3CC(C(=O)O)CC3=O)cc2)CCO1', 'CCN(C)C(=O)Oc1ccc2c(CCC(=O)OC)cn(C)c2c1', 'COc1ccc(C2=CC(C)(C(N)=O)ON2)cc1OC1CCCC1', 'Cn1nnnc1CCCCn1c(=O)c2c(ncn2C)n(C)c1=O', 'COC(=O)c1cccc(NC(=O)N2CCC3OCCCC3C2)c1', 'COC1(C)CCN(C(=O)CCn2c(=O)oc3ccccc32)CC1', 'CC(C)Cc1ccc(C(=O)OC(C)C(=O)N2CCNC2=O)cc1', 'NC(CC1CCOCC1)C(=O)N1C(=O)OC[C@@H]1c1ccccc1', 'C=CC(=O)Nc1cccc(CC(=O)N(C)CC(C)C(=O)OC)c1', 'c1cc(N(CC2CO2)CC2CO2)cc(N(CC2CO2)C2CO2)c1', 'Cc1ccc([C@@H](C)NCC(=O)N2CCC[C@@H](C(F)(F)F)C2)o1', 'CC(C)Cc1nc2cc3c(cc2n1C(C(=O)O)C(C)C)OCO3', 'C[C@@H]1C[C@@H](NC(=O)N2CCC(C)(C(=O)O)C2)c2ccccc2O1', 'CC(C)C[C@@H](CN1C(=O)c2ccccc2C1=O)[C@@H](C)NC(=O)O', 'CC(C)CC(C)OC1(CBr)CCC(C(C)C)CC1', 'CC.CC.NCc1cc(-c2cccc(OC(F)(F)F)c2)no1', 'CNC(=O)c1ccc(C)c(NC(=O)C2CCCC(C(=O)O)C2)c1', 'C=C/C(=C\\\\C(=C\\\\C(N)c1ccc(OCC(N)=O)cc1)OC)OC', 'CC(=O)Nc1ccc(C(=O)NC2(C(=O)O)CCCCCC2)cc1', 'CC(C)(C)[C@@H](Cc1ccccc1)OC(=O)CN1CC(=O)NC1=O', 'CC(=O)N1CCc2cc(C(=O)NC(CC(C)C)C(=O)O)ccc21', 'CNCC(=O)N(C)Cc1cc(C)c(OCC(F)(F)F)c(C)c1', 'Cc1ccc(C(=O)NCC(c2ccc(C)o2)N2CCOCC2)o1', 'CCCCOC(=O)/C=C/C=C(\\\\OC(=O)N(C)C)c1ccccn1', 'CCOC(=O)CN1C(=O)CC(Cc2ccc(N(C)C)cc2)C1=O', 'NCCCN.O=Cc1ccccc1O.O=Cc1ccccc1O', 'CC(=O)OC(C(C)C)N1C[C@H](N(C(C)=O)c2ccccc2)C1=O', 'CC(C)CC(=O)NC1CC(=O)N(c2ccc3c(c2)OCCO3)C1', 'CN1CCO[C@H](CNC[C@@H](O)c2ccc(C(F)(F)F)cc2)C1', 'O=C(C1CC(O)C1)N1CCO[C@H]2[C@@H](Oc3ccccn3)CC[C@@H]21', 'CC(=O)Nc1ccc(NC(=O)OC(C)(C)C)c2c1C(=O)CCC2', 'CCC(O)CCNC(=O)NCCc1ccc(C(F)(F)F)cc1', 'CCCCOC(=O)C(N)CCCN1C(=O)c2ccccc2C1=O', 'CCCCN(Cc1ccccc1)C(=O)Nc1ccc(F)cc1F', 'COC(=O)CNC(=O)[C@H](CC(C)C)N1Cc2ccccc2C1=O', 'CN(Cc1cn(C)nn1)c1ncnc2c1ncn2C(CO)CO', 'CCC1(C)Cc2c(F)cccc2C(c2cnc3ccccc3c2)=N1', 'CCOC(=O)Cn1cc([N+](=O)[O-])c2c(CC(C)(C)C)cccc21', 'NCCCCC(NC(=O)C(N)CC(=O)O)C(=O)NCC(=O)O', 'CCN1C[C@H](C(=O)N[C@@H](C)c2ccc3c(c2)OCCO3)CC1=O', 'CCC[C@H](C)C(=O)Nc1ccc(N2C[C@@H](C(=O)O)CC2=O)cc1', 'CCN1C(=O)O/C(=C/c2ccc(N(CC)CC)cc2OC)C1=O', 'C=CCC(NC(C)=O)C(=O)NC(C)C(=O)OCc1ccccc1', 'CCC(N(CO)C(CO)CO)N(CO)C(CO)CO.Cl', 'C=CCOc1ccc(CNC(=O)N2CCC(C)(C(=O)O)C2)cc1', 'CC1CC1NC(=O)[C@@H]1C[C@@H](O)CN1C(=O)OCc1ccccc1', 'COCCCOc1cc2c(cc1CO)C(=O)N1CCC[C@H]1C=N2', 'CCCc1ccccc1P(c1ccccc1)c1ccccc1C', 'C=C(CC(C)(C)C)N(C)c1ccc(C(F)(F)F)n(OC)c1=O', 'CCOC(=O)C(N)c1ccc2ccn(C(=O)OC(C)(C)C)c2c1', 'C#CCC(C)(C)C1OC1(C)CNC(=O)CCN1C(=O)C=CC1=O', 'CCN(CC)c1ccc2cc(C(=O)NCCCO)c(=O)oc2c1', 'COc1cccc([C@H](CC(F)(F)F)N2CCNCC2)c1OC', 'CCCCc1nc(C=O)cn1-c1ccc(OC)cc1OCOC', 'CC(C)C(NC(=O)[C@@H]1CCCN1)C(=O)Cn1cnnn1.Cl.[H][H]', 'CC(C)N1CCn2nnc(CNC(=O)c3ncn(C)n3)c2C1=O', 'COCCN1CC[C@]2(CCc3ccc(C(=O)NO)cc3C2)C1=O', 'C=N/C(=C\\\\C=C(/C)c1cc(F)cc(F)c1)NC(=O)C1CC1(C)C', 'C=CC(CC(=O)Nc1ccc(CC(=O)O)cc1)NC(=O)CCC', 'COCc1ccc(CNc2cccc(C(=O)NCCO)c2C)o1', 'CCC(C)NC(=O)C(C)Nc1ccc(OCC(F)(F)F)cc1', 'CSCC(C1CC2CCN1CC2)[C@@H](C(=O)[O-])c1ccccc1', 'CCOc1ccc(C(=O)NCCC2=CCCCC2)cc1[N+](=O)[O-]', 'CCNCC1CN(C2=COC=C(CC3=CC=CCC3)O2)C(=O)O1', 'CC(C)N(Cc1ccccc1)C(=O)CNc1c(F)cccc1F', 'COc1cc2cc(C(=O)NC(CO)C(C)C)cnc2cc1OC', 'CC1CN(C(=O)/C=C/c2ccc(OCC(N)=O)cc2)CC(C)O1', 'CC(C)[C@H]1C(=O)N[C@]2(O)CCN(C(=O)OCc3ccccc3)[C@H]12', 'CC(C)(C)CNC(=O)c1cccc(Cc2cc(F)cc(F)c2)n1', 'COc1ccc(OCCNCCC(=O)NCc2ccco2)cc1', 'CCCC(C)C(=O)Nc1ccc(N2CC(C(=O)O)CC2=O)cc1', 'C[C@@H]1CNCCN1C(=O)CCC(=O)c1ccc2c(c1)OCCO2', 'CC(C)[C@H](C)NC(=O)[C@H]1CC(=O)N(c2ccc3c(c2)OCO3)C1', 'COc1ccc(NC(=O)NCC(C)(O)c2ccc(C)o2)c(C)c1', 'CCN(CC(=O)Nc1cc(F)ccc1F)c1ccc(C)cc1C', 'CC(C)(CCNC(=O)c1cccc(NC(=O)C2CC2)c1)C(=O)O', 'CCC#CC(C)(C)NC(=O)C(CC)Oc1cncc(C(=O)O)c1', 'CN(CC(=O)O)C(=O)c1ccc(CNC(=O)C2CCCC2)cc1', 'COC(=O)c1ccc(NC(=O)C(C)(C)C(=O)N2CCCC2)cc1', 'NC(=O)COc1ccc(C(=O)N2CCOC3CCCCC32)cc1', 'C[C@@H]1c2ccc(C(=O)NO)cc2OCCN1C(=O)C1(C)CCC1', 'CCN(CC)CCOc1cc(/C=C(/C#N)C(=O)O)ccc1OC', 'C=c1nc(N(CCC)CCC)s/c1=C\\\\c1cc(F)ccc1C', 'COCC1(C(=O)O)CCN(C(=O)N2Cc3ccccc3C2)CC1', 'COc1ccc(OC)c(/C=C/C(=O)N2CCC(C(N)=O)CC2)c1', 'Cc1cnc2c(c1)C(=O)OC21CCN(C(=O)OC(C)(C)C)CC1', 'COC1(c2nnc(CCOc3cc(C)ccc3C)o2)CCOC1', 'CNCCc1ccccc1C(=O)NC(C)c1ccc(F)cc1F', 'CCOC(=O)[C@H](C)n1ccc(C2(C(F)(F)F)CCCCN2)c1', 'Cc1cccc(C(=O)N2[C@H](C(=O)O)COC23CCN(C)CC3)c1', 'COCCCNC(=O)[C@@H](C)n1cc(C(=O)OC)c2ccccc21', 'CCOC(=O)c1ccc(C2N=C(CCCOC)C=NC2O)cc1', 'COc1ccc(C2=C3CN(C(=O)OC(C)(C)C)CC3ON2)cc1', 'CC(C)(C)C(O)CCNC(=O)Nc1ccccc1C(F)(F)F', 'Cc1noc(C)c1COc1ccc(C(=O)NCCC(C)O)cc1', 'COc1ccc(N(C)C(=O)c2c(C)noc2C(C)C)cc1OC', 'CC1(C)C(=O)NCC1C(=O)N1CCOC1=O.Cc1ccccc1', 'CCNC(=O)[C@@H](C)NC(=O)COC(=O)C1(c2ccccc2)CC1', 'CCCCN1CC(C(=O)Nc2cccc(C(=O)OC)c2)CC1=O', 'COCc1cccc(C(=O)OCC(=O)N[C@](C)(C#N)C(C)C)c1', 'CC(=O)NCc1ccc(C(=O)N2CCC(C)CC2C(=O)O)cc1', 'COc1cc(NC(=O)CC2CCCO2)ccc1N1CCCC1=O', 'COc1ccc([C@@H](CC(F)(F)F)N2CCNCC2)c(OC)c1', 'CC#CCOCc1ccc(CCNC(=O)C(C)C)cc1[N+](=O)[O-]', 'Cc1ccc(OC[C@H](O)CN2C(=O)NC3(CCCC3)C2=O)cc1', 'CCCCN1C[C@H](C(=O)NCc2ccc3c(c2)OCO3)CC1=O', 'CCc1oc2ccccc2c1CN(C)C(=O)NCCCC(=O)O', 'COc1ccc(OCCNC(=O)C2(C(=O)NC3CC3)CC2)cc1', 'CC(=O)c1ccc(N(CC(=O)NCC2CCCO2)C(C)=O)cc1', 'CCOC(=O)c1ccccc1NC(=O)C(=O)N1CCC(C)CC1', 'Cc1ccc(CN2C(C(=O)O)CC3CCCCC32)cc1[N+](=O)[O-]', 'COC(=O)CCCNC(=O)CN1CC(c2ccccc2)CC1=O', 'CCC(=O)Nc1ccc(NC(=O)C2CCCC(C(=O)O)C2)cc1', 'O=C(O)C1CCN(C(=O)c2ccccc2N2CCOCC2)CC1', 'Cc1ccc(NC(=O)[C@H]2C[C@H]2C(=O)O)cc1NC(=O)C(C)(C)C', 'COC(=O)[C@@H](C(C)C)N1C(=O)N[C@@H](CCc2ccccc2)C1=O', 'C=C(Nc1cc(-c2ccc(F)cc2)ccc1N)c1ccc(C)cc1', 'OCC1CNCCN1C(c1ccc(F)cc1)c1ccc(F)cc1', 'CNCCCC(=O)NCc1ccc(C)cc1OCC(F)(F)F', 'CC(C(=O)O)c1cccc(NC(=O)CN2CCCCCC2=O)c1', 'CC(C)C1(C(=O)O)CCN(C(=O)CNC(=O)c2ccccc2)C1', 'O=C(NC[C@H]1CO[C@@H]2CN(C(=O)C3CCC3)C[C@H]12)c1ccco1', 'CC(C)Oc1cc2nn(C3CCC(C)OC3)cc2cc1C(=O)O', 'CC(C)(CC(=O)Nc1ccc(CN2CCCC2=O)cc1)C(=O)O', 'COC(=O)CC[C@H]1C(=O)N(Cc2ccccc2)CCN1C(C)=O', 'Cc1c(N)cccc1-c1cn(C2C=CC(F)=CC2)c2ccccc12', 'CCC(CC)(CN)C(=O)N(C)c1cccc(OC(F)(F)F)c1', 'CC(=O)N[C@@H](CC(=O)N1CC[C@H](C(=O)O)C1)c1ccc(C)cc1', 'CCOC(=O)c1ccc(N2C(=O)CC(NC(C)(C)C)C2=O)cc1', 'CC(CN1CCCCC1)NCc1ccc(CSC(F)F)o1', 'C=CCN(CC1CC(c2ccc(OC)cc2)=NO1)C(=O)COC', 'O=C(O)Cc1cccc(NC(=O)CN2CCCCCCC2=O)c1', 'CC[C@H](C)[C@@H]([Al])NC(=O)[C@H](C)NC(=O)OCc1ccccc1', 'O=C(CCN1C(=O)C2C3C=CC(CC3)C2C1=O)N1CCOCC1', 'CC(=O)Nc1ccc(C(=O)N(C)C2(C(=O)O)CCCCC2)cc1', 'CCOc1cc(/C=C/C(=O)N2CCNC(=O)C2C)ccc1OC', 'O=C(O)Cc1ccc(CN2CCC[C@]3(CC2)CNC(=O)O3)cc1', 'COc1ccc(/C(N)=N/Cc2ccc(C(C)(F)F)cc2)cc1C', 'Cc1cc(C)c2onc(CC(=O)NC(CC(C)C)C(=O)O)c2c1', 'COc1ccc(CNC(=O)CN(C)Cc2ccco2)cc1OC', 'CCCCc1ccc(C(=O)OC(C)C(=O)N2CCNC2=O)cc1', 'CCCCn1c([O-])c(/N=N/c2cc(C)on2)c(C)c(NC)c1=O', 'CCCC[C@@H](CO)NC(=O)NCc1ccc(C(F)(F)F)cc1', 'O=C(OCC1CCCN2CCCCC12)c1ccc([N+](=O)[O-])cc1', 'CC(C(=O)O)N(C)CC(=O)N(C)C(C)c1cc2ccccc2o1', 'CCOc1ccc(NC(=O)NCC(C)(O)c2ccco2)c(C)c1', 'Cc1ccc(N2C[C@H](C(=O)OCC(=O)NC(C)C)CC2=O)cc1', 'C[C@@H]1[C@H](C(=O)O)CCCN1C(=O)c1cc2c([nH]c1=O)CCCC2', 'Cc1ccc(C)c(NC(=O)CN[C@H](C)c2ccc(F)cc2F)c1', 'C[C@H](Oc1ccccc1[N+](=O)[O-])C(=O)NCCC1=CCCCC1', 'COC(=O)N1CCC(NC(C)c2cc3cccc(OC)c3o2)C1', 'CCOC(=O)c1c(C)c[nH]c1Cc1[nH]cc(C)c1C(=O)OCC', 'O=C(O)CCCCCCCCCc1ccnc(C(F)(F)F)n1', 'COc1cc(C)cc(N2C(=O)NC(C3CCOCC3)C2=O)c1C', 'C[C@@H](O)Cn1ncc2ccc3c(c21)CC(C(=O)OC(C)(C)C)O3', 'CCN(CC)C(=O)c1ccc(C(=O)N2CCC[C@@H]2C(=O)O)cc1', 'CC(C)N(CC(=O)O)C(=O)C1CC(=O)N(Cc2ccccc2)C1', 'C[C@@H]1CN(C(=O)CN2C(=O)[C@@H](C)Oc3ccccc32)C[C@@H](C)O1', 'O=C1CCC(=O)N1CCC(=O)N1CCCCC[C@@H]1c1ccco1', 'CC(C)c1ccc(/C=C/C(=O)NC(CCC(N)=O)C(=O)O)cc1', 'Cc1ccccc1NC(=O)CN(C)C(C)c1ccc(F)c(F)c1', 'O=C(N[C@H]1CCCNC1=O)c1ccc(OC[C@H]2CCCO2)cc1', 'Cl.NC1C2CCCC1CC(C(=O)NC1CCSCC1)C2', 'C[C@@H](NC(=O)c1ccc(NC(=O)CC2CCCC2)cc1)C(=O)O', 'CCOC(=O)/C=C/c1ccc(NC(=O)CN2CCOCC2)cc1', 'CC1(COCCCCCCCCCCBr)CCC1', 'O=C(CC1CCCCO1)Nc1ccc(N2CCOCC2=O)cc1', 'CCC1(CC)C(=O)NC(=O)N(CCc2ccccc2OC)C1=O', 'CC(OCc1ccccc1)C(C(=O)O)N1C[C@@]2(CCCN2)C1=O', 'Cc1cccc(-c2cccc(P)c2-c2cccc(C)c2C)c1C', 'CCN(CCC(=O)O)C(=O)c1ccc(NC(=O)C2CC2C)cc1', 'CCOC(=O)CCc1cn(Cc2ccc(O)cc2)nc1OCC', 'CCCCC(NC(=O)c1ccc(C(=O)NC2CC2)cc1)C(=O)O', 'COCC(C)(CC(=O)O)NC(=O)CCn1ccc2ccccc21', 'COCC(=O)N1CCCc2cc(NC(=O)C3CCCO3)ccc21', 'COc1ccc(/C=C/C(=O)NCC(=O)N2CCCC2)cc1OC', 'CN(CCC(=O)O)C(=O)/C=C/c1ccc(N2CCOCC2)cc1', 'CCCCCc1ccc(Oc2nc(OC)cc(OC)n2)c(O)c1', 'CC/C=C(/C)C(=O)Nc1ccc(CC(=O)NCC(=O)OC)cc1', 'COC1CCN(C(=O)/C=C\\\\c2ccc(OCC(N)=O)cc2)CC1', 'Cc1cccc(C[C@H](CNC(=O)[C@@H]2CC(=O)N(C)C2)C(=O)O)c1', 'COc1cccc2c1NC(=O)C21CCN(C(=O)OC(C)(C)C)C1', 'NC(=O)COc1ccc(C(=O)N2CCO[C@@H]3CCCC[C@@H]32)cc1', 'CCC1CNc2cc(F)c(F)cc2N1Cc1ccc(OC)cc1', 'CCC(CSC)N(C)C(CN)c1ccc(OC(F)F)cc1', 'CCCCCCOc1ccc(/C=C2\\\\NC(=O)NC2=O)cc1OC', 'CCC[C@@H](NC(=O)CCc1ccccn1)c1ccc(F)cc1F', 'CCN(CCC(=O)O)C(=O)CCC1Cc2ccccc2NC1=O', 'COc1ccc(OCC(n2ccnc2C(=O)O)C(C)(C)C)cc1', 'CC[C@](C)(NC(=O)/C=C\\\\c1ccc(C(=O)NC)cc1)C(=O)OC', 'CC(C)(C)OC(=O)NCCNCc1ccccc1C(F)(F)F', 'CC[C@@H](C)NC(=O)NC(=O)COC(=O)/C=C/c1cccc(C)c1', 'CC(COc1ccccc1C(F)(F)F)NC(=O)[C@@H](N)C(C)C', 'CC(=O)CN1C(=O)C2C(=Nc3n(C(C)C)c(C)c[n+]32)N(C)C1=O', 'COc1cccc(NC(=O)CC(C)NCC(O)c2ccco2)c1', 'CC(=O)c1cccc(O[C@@H](C)C(=O)NC(=O)NC2CCCC2)c1', 'CCCCNC(=O)C1CC1C(=O)Nc1cccc(C(=O)OC)c1', 'CCOc1ccc(C(=O)N[C@H](C(=O)O[C@H](C)C#N)C(C)C)cc1', 'C[C@@H]1CN(C(=O)CCCn2c(=O)oc3ccccc32)[C@H](C)CO1', 'CC(=O)CC[C@H]1C(=O)N[C@H](C)CN1C(=O)OCc1ccccc1', 'COc1cc(CNCCOc2ccccn2)ccc1OCCO', 'CCN(CC)CCOc1cc(C=C(C#N)C(=O)O)ccc1OC', 'CC1c2c(F)cccc2C(c2ccc3ncccc3c2)=NC1(C)C', 'COc1cc(C(F)(F)F)ccc1C(O)C(C)N1CCNCC1', 'CC(=O)C(C)N1C(=O)C2C(=Nc3n2c(C)c(C)[n+]3C)N(C)C1=O', 'CCCNC(=O)c1cccc(C(=O)NC2(CC(=O)O)CCC2)c1', 'CCc1cccc2oc(N[C@@H](CC(C)C)C(=O)OC)nc(=O)c12', 'CC(C)COCC(NC(=O)c1ccc(=O)n(C)c1)c1ccco1', 'CC(C)C(=O)N1CCCC1C(=O)NCc1ccc(C(=O)O)cc1', 'C=O.C=O.COCN1C(=O)N(COC)C2C1N(C)C(=O)N2C', 'CCN(CC)C(=O)CN(C)C(=O)C1Cc2ccccc2C(=O)O1', 'O=C(O)C1Cc2ccccc2CN1C(=O)CCN1CCOCC1', 'CNC(=O)[C@H]1C(=O)C[C@](C)(O)[C@@H](C(=O)NC)[C@H]1c1ccccc1', 'OCC(CO)(CO)CO.OC[C@@H](O)[C@@H](O)[C@H](O)[C@H](O)CO', 'COc1cc(OC)cc(C2=NN(C(C)=O)C3(CCCCC3)O2)c1', 'C#CCn1cc(O)n(COC(=O)[C@H]2[C@H](C=C(C)C)C2(C)C)c1=O', 'CSCCC(C)N(C)C(CN)c1ccccc1OC(F)F', 'Cc1cccc2[nH]cc(CC(NC(=O)OC(C)(C)C)C(=O)O)c12', 'CC(NC(=O)N(CCCCO)Cc1ccccc1)C(F)(F)F', 'COc1ccccc1OC1CCN(C(=O)[C@H]2CCC(=O)N2)CC1', 'CC=C1[C@H]2Cc3nc(OC)ccc3[C@]1(NC(=O)OC)C[C@H](O)C2', 'COCCOCCOCCOc1ccc(-c2ccnnc2)cc1', 'CC(=O)C1=C(O)C(=O)N(CCCN(C)C)[C@H]1c1ccc(O)cc1', 'Cc1ccoc1C(=O)NCCC1CCN(CC(F)(F)F)CC1', 'CC(C)(C)OC(=O)CCCC(N)N1C(=O)c2ccccc2C1=O', 'O=C(O)[C@H]1C[C@@H](N2CCOCC2)CCN1C(=O)c1ccccc1', 'CC(C)(CC(=O)Nc1ccccc1C(=O)N1CCCC1)C(=O)O', 'CCCCCNc1ccc(NC(=O)c2ccc(F)c(F)c2)cc1', 'O=C(O)CC(NC(=O)CN1CCCCCC1=O)c1ccccc1', 'CNC(=O)[C@H]1C(=O)C[C@@](C)(O)[C@@H](C(=O)NC)[C@H]1c1ccccc1', 'CCCCN(CCC(=O)NCc1ccco1)C(=O)c1ccoc1', 'O=C(O)C1CC1C(=O)NCc1ccnc(OC2CCCCC2)c1', 'COCCNC(=S)NNC(=S)N[C@H]1CCC[C@@H](C)[C@H]1C', 'C=CC(=O)Nc1ccc(CC(=O)NC2(CO)CCOCC2)cc1', 'C[Si](C)(C)C#C/C=N/N1[C@@H](c2ccccc2)[C@@H]1c1ccccc1', 'CC1CCN(C(=O)COC(=O)CNC(=O)c2ccccc2)CC1', 'COc1cccc(CNC(=O)NCC(C)(O)c2ccc(C)o2)c1', 'CN1CCN(CCOC2=C(c3ccc(O)cc3)C(=O)OC2)CC1', 'CC1(C=CC2=C(O1)C=C3C(=C2OC)C(=C(C(=O)O3)C4=CC=C(C=C4)OC)O)C', 'Cc1cc(C)c(Nc2ncccc2[N+](=O)[O-])cc1Nc1ncccc1[N+](=O)[O-]', 'O=c1c(Nc2ccc(CN3CCCCC3)cc2)c(-c2ccc(Cl)cc2)c1=O', 'COc1cc(-c2noc(CN(C)Cc3cc(C)on3)n2)ccc1OC(F)F', 'Cc1cccc(OCC(=O)N(Cc2ccc(Cl)cc2)c2ccccn2)c1C', 'CNC(=O)c1ccc(CNC(=O)c2ccc(-n3cncn3)c([N+](=O)[O-])c2)cc1', 'CC(N)C(C)Cc1c(-c2c(F)cc(F)cc2F)c(F)nc2ncc(=O)[nH]c12', 'OC(c1cccnc1)c1ccc2c(c1)CN(Cc1ccccc1Cl)CCO2', '[C-]#[N+]c1ccc(OC2CC3CCC(C2)N3c2ccc(C(C)=O)cc2)cc1Cl', 'Cc1cc(C(=O)O)ccc1-n1c(C)cc(/C=N/c2cccc(Cl)c2C)c1C', 'COC(=O)c1ccc(C(C(C)=O)(c2ccc(F)cc2)c2ccc(F)cc2)cc1', 'Cc1cc([C@](C/C=N\\\\O)(c2ccc(O)cc2)c2ccc(Cl)cc2C)ccn1', 'Cc1cccc(-c2nn3ccccc3c2-c2ccnc3cc(C(=O)O)ccc23)n1', 'COC(=O)C1[C@H]2OC3=C(C(=O)CCC3)[C@@H]1c1c(c(OC)cc3ccccc13)O2', 'CNC(=O)[C@H]1CN(C(=O)CCn2c(=O)oc3cc(Cl)ccc32)CCN1C', 'CC(NC(=O)c1ccc(COc2ccc(F)cc2)o1)c1nnc2ccccn12', 'Cc1c(-c2ccc(Cl)cc2)nc2ccccc2c1C(=O)NCC1CCCO1', 'O=C(NC1CCCC(c2cccc(Cl)c2)C1)c1cc2ccccc2[nH]c1=O', 'COc1ccccc1CN/N=C\\\\c1cccc(OCc2cccc(Cl)c2)c1', 'CC(=O)Nc1ccc(C(C)c2cc(C)c(C(=O)c3ccc(Cl)cc3)[nH]2)cc1', 'COc1ccc(C=NNc2ccccc2)cc1COc1ccc(Cl)cc1C', 'COC(=O)C12c3c(OC)ccc(OC)c3C3c4ccccc4C1C32C(=O)OC', 'COC(=O)c1cccc(NC(=O)c2cc(NCc3ccccc3F)ncn2)c1', '[H]/N=C/C(NC(=O)c1nc(-c2c(F)cccc2F)sc1N)/C(=N/C)N(C)C', 'COc1ccccc1CN/N=C\\\\c1ccccc1OCc1cccc(Cl)c1', 'COC(=O)C(c1cc(O)cc(O)c1)c1ccc(CCC(=O)c2ccccc2)o1', 'CCN1C=Cc2c(Cl)cccc2C1N(C)c1cccc(C(F)(F)F)c1C', 'COC1=C(c2ccc(OC)cc2)C(=O)C(OC)=C(c2cccc(OC)c2)C1=O', '[C-]#[N+]c1ccc(N2C(=O)N(c3ccc(C#N)cc3)CC2(O)c2ccccc2)cc1', 'N#Cc1ccccc1Oc1ccc(C(=O)CC2C[C@H]3CC[C@@H](C2)N3)cc1Cl', 'N#CC(CCC1CNCCN1C(=S)[S-])(c1ccccc1)c1ccccc1', 'Cc1ccc(Cl)cc1NC(=O)c1c(C)n(Cc2ccccc2)c(C)cc1=O', 'O=C(OF)/C(=C(/CF)Oc1ccc(OCCCCF)cc1)c1ccccc1', 'COc1ccc(C=NNc2ccc(C)cc2)cc1OCc1ccc(Cl)cc1', 'Cn1ccnc1C(NC(=O)c1ccc2c(c1)NC(=O)CO2)c1ccc(F)cc1', 'Cc1cccc(CNC(=O)CC(c2cccc(O)c2)c2cccc(Cl)c2)n1', 'COC(=O)c1cc(OC(C)=O)c2cc(OCc3ccccc3)c(OC)cc2c1', 'COC(=O)C12C3C4=C(C(=O)CC4)C4C3C3C1C1=C(C(=O)CC1)C3C42C(=O)OC', 'O=C(CCNc1ccc(OCc2ccccc2)cc1)Nc1ccccc1Cl', 'CNC(=[V])N1CCCN(c2ncnc3cc(OC)c(OC)cc23)CC1', 'CCc1ccc(C(=O)NCc2ccc(S(=O)(=O)N(CC)CC)s2)cc1', 'COC(=O)c1ccc(/C=C2\\\\Oc3cc(OC(=O)C(C)C)cc(C)c3C2=O)cc1', 'Cc1cnn([C@H]2[C@@H]3OC[C@@H](O3)[C@@H](NC(=O)Nc3ccc(F)cc3F)[C@@H]2O)c1', 'O=C(/C=C/c1ccccc1)O[C@H](c1ccccc1)C1O[C@@H]2CC(=O)O[C@@H]2[C@H]1O', 'CCc1cc(=O)oc2cc(OCC(=O)c3ccc4c(c3)OCCCO4)ccc12', 'O=C(CNc1ccc(OCc2ccccc2)cc1)NCc1ccc(Cl)cc1', 'C[C@H](c1ccncc1)N(CCN(C)C)C(=S)Nc1ccc(F)c(Cl)c1', 'O=C(NCc1ccccc1F)c1ccc(Nc2ccc3c(c2)OCCO3)nn1', 'Cc1cc(C(=O)Nc2ccc(-c3cc(C(F)(F)F)nn3C)c(F)c2)n(C)c1', 'COc1ccc(Cl)cc1NCC(=O)N(Cc1ccccc1)c1ccccc1', '[H]/N=c1\\\\c(C(=O)Nc2cc(C)on2)cc2c(=O)n3ccccc3nc2n1CCO', 'CCOC(=O)c1ccccc1NC(=O)c1ccnc(Nc2cccc(F)c2)n1', 'CC(C)C[C@@H](NC(=O)CN(C)S(=O)(=O)c1cccs1)c1ccccc1', 'CCOc1ccc(-c2csc(C)n2)cc1S(=O)(=O)N1CCCCCC1', 'Cc1noc(C)c1S(=O)(=O)NC(C)C(=O)NCCC1CCNC1.Cl', 'CCCc1ccc(C(=O)Nc2cccc(Oc3ccccc3Cl)c2)c(C)n1', 'N#Cc1ccccc1NC(=O)Cn1c(=O)nc(-c2ccccc2)c2ccccc21', 'Cc1nc(-c2ccsc2)sc1C(=O)O[C@@H](C)C(=O)N(C(C)C)C(C)C', 'CCOC(=O)c1ccccc1Nc1cnc(C(=O)Nc2cccc(F)c2)cn1', 'CCOC(=O)C(C)Oc1ccc2c(C)cc(=O)oc2c1C(=O)c1ccccc1', 'C=C1Nc2ncnn2[C@H](c2ccc(OC(F)F)cc2)[C@@H]1C(=O)OCCOC', 'Cc1ccc2sc(C(=O)N3CCC(CNS(C)(=O)=O)CC3)c(C)c2c1', 'COC(=O)[C@]12[C@@H]3[C@@H]4C(=O)C=C[C@@H]4[C@@H]4[C@@H]3[C@H]3[C@@H]1[C@@H]1C=CC(=O)[C@@H]1[C@@H]3[C@@]42C(=O)OC', 'O=C(CCn1nc(C(=O)Nc2ccccc2)ccc1=O)Nc1ccc(F)cc1', 'Cc1ccc(N2C(=O)N(Cc3nnc(-c4ccc(F)cc4)o3)C(=O)[C@@H]2C)cc1', 'O=C(Nc1nc(C23CC4CC(CC(C4)C2)C3)cs1)C1CCS(=O)(=O)C1', 'COC(=O)c1ccccc1N(C)c1ncnc(Nc2ccccn2)c1[N+](=O)[O-]', 'CNC(=O)c1nnn(/N=C\\\\c2ccc([N+](=O)[O-])cc2)c1OCc1ccccc1', 'CC(C)=C(C)c1c(C(F)(F)F)ccc(C(O)=C2C(=O)CC(=O)CC2=O)c1C', 'CC1(C)C=C2Nc3nc(C(F)(F)F)nn3C(c3cccc(F)c3)C2C(=O)C1', 'O=C(Cc1ccc(F)cc1)Nc1nnc([C@H]2CC(=O)N(c3ccccc3)C2)o1', 'Cc1cccc2c(=O)[nH]c(COC(=O)Cn3cnc4c(cnn4C)c3=O)nc12', 'Cc1cc(C)nc([NH+]=C(N)Nc2ccc(Cl)cc2C(=O)c2ccccc2)n1', 'CC(=O)NC(CSc1nc2c(=O)[nH]c(N)nc2n1C1CCCC1)C(=O)O', 'CCOC(=O)C1c2cccn2-c2ccccc2CN1Cc1ccc(Cl)cc1', 'CC1=CC[Ge]C(O[Si](C)(C)C)(C23CC4CC(CC(C4)C2)C3)O1', 'COc1cc(C(=O)NC(C)c2cnn(C)c2C)cc(Cl)c1OCC(N)=O', 'CCOC(=O)CC(O)c1ccc2c(c1)CC(c1cccc(C(F)(F)F)c1)O2', 'CCc1cc(C(=O)Nc2cccc(S(=O)(=O)NC(C)(C)C)c2)sc1C', 'N#C[C@H]1C(=O)Nc2nc3ccccc3n2[C@H]1c1cccc(Oc2ccccc2)c1', 'CC[C@H]1CCc2c(cc3c(c2O)C(=O)c2c(O)cccc2C3=O)C1C(=O)OC', 'O=C(C1Cc2cc(Cl)ccc2O1)N1CCC(c2c[nH]c3ccccc23)CC1', 'CCOC(=O)/C=C(\\\\c1cccc(C(F)(F)F)c1)c1ccc(OC)c(OC)c1', 'CCOCc1nnc(N2CC(C(=O)N(C)Cc3noc(C)n3)CC2=O)s1', 'O=C(CN1CCC(NC(=O)C2CC2)CC1)Nc1ccc([N+](=O)[O-])cc1Cl', 'CCCC(=O)/N=C1\\\\S[C@H]2CS(=O)(=O)C[C@H]2N1c1ccccc1C(C)C', 'COc1cc(Cc2nc3c(=O)[nH]cnc3n2CC(C)O)ccc1OC(F)F', 'Cc1nnc(-c2nnc(Nc3cnc(C#N)cn3)cc2NC2CC(N)C2)s1', 'CC(=O)Nc1cccc(NC(=O)c2cc(-c3ccc(F)c(C)c3)nc(=O)[nH]2)c1', 'Cc1ccc(S(=O)(=O)NC(C)(C)C)cc1C(=O)N(C)Cc1cccs1', 'COc1cc(C(=O)O)c(O)c2ccc3c(c12)C=C1/C(=C(\\\\C)C=O)CCC1(C)O3', '[H]/N=C1\\\\c2ccoc2NC(c2ccc(F)c(C(N)=O)c2)N1c1ccc(OC)cc1', 'Cc1ccc(C)c(N2/C(=N/C(=O)C(C)(C)C)S[C@@H]3CS(=O)(=O)C[C@@H]32)c1', 'O=C(c1ccccc1)c1[nH]c2cc(Cl)ccc2c1CC(=O)N1CCCCC1', 'CCCCC(=O)/N=C1\\\\S[C@H]2CS(=O)(=O)C[C@@H]2N1c1cc(C)cc(C)c1', 'CC(C)C1CC(OC(=O)CC(=O)c2cc3c(o2)C(=O)c2ccccc2C3=O)C1', 'N#C/C(=C\\\\c1ccccc1OCc1ccccc1Cl)C(=O)NC1CCCC1', '[H]/N=C(\\\\N)N(c1ccc([N+](=O)[O-])c2ccccc12)c1ccc2c3c(cccc13)C=C2', 'N#Cc1ccc(Cc2cc(C(=O)C(=O)Nc3ccccn3)c3ccccn23)cc1', 'COc1cccc(/C=C2\\\\O[C@H]3C(=C(c4cccc(OC)c4)C2=O)OC[C@H]3O)c1', 'COCCNc1noc(-c2ccc(Cl)cc2)c1C(=O)N[C@@H]1CNC[C@H]1O', 'CC(C)c1ccc(C(=O)N2CCc3noc(-c4ccc(Cl)cc4)c3C2)cc1', 'Cc1ccc([C@@]2(NC(=O)c3ccc(=O)[nH]c3)CCOc3nccnc32)cc1F', 'Fc1ccccc1COc1ccccc1C=[NH+]NC(=S)Nc1ccccc1', 'COc1cc2c(cc1OS(=O)(=O)O)CCC1C2CCC2(C)C(=O)CCC12', 'COc1ccc(Cl)cc1NCCC(=O)Nc1cnn(C(C)(C)C(=O)O)c1', 'C=C[C@@]1(C)C(=O)O[C@H](Cc2ccccc2C(=O)O)[C@H]1OC(=O)c1ccccc1', 'N#CC1=C(N)Oc2n[nH]c(-c3ccc4ccccc4c3)c2[C@@H]1c1ccc(O)cc1', 'CC(=O)NC[C@@H]1OC(=O)N2c3cc(F)c(-n4cc5cccnc5c4)cc3C[C@@H]12', 'CC(C)=CCc1c(O)cc2c(c1O)C(=O)CC(c1cc3ccoc3cc1O)O2', 'Cn1[nH]c(=O)cc1C(=O)NCC1COCCN1C(=O)c1ccc(F)c(F)c1', 'COc1ccc(NCC(=O)NC(c2ccccc2)c2ccccc2)cc1Cl', 'O=C(COC(=O)/C=C/c1cn(Cc2ccccc2)nn1)Nc1ccc(F)cc1', 'CNC(=O)c1c(C)cccc1NC(=O)c1ccc(-n2cncn2)c([N+](=O)[O-])c1', 'CCC(Oc1ccc(Cl)cc1)C(=O)Nc1ccc(Cc2ccncc2)cc1', 'COc1cc(O)c2c(c1)/C=C/C[C@@H](O)[C@@H](O)C(=O)/C(F)=C\\\\C[C@H](C)OC2=O', 'CCn1c(SCC(=O)OC(C)C)nc2sc3c(c2c1=O)CC[C@H](C)C3', 'COc1ccc(NCC(=O)N(Cc2ccccc2)c2ccccc2)cc1Cl', 'COc1cccc(CCN2CCN(S(=O)(=O)c3ccc(C)s3)CC2)c1', 'Cc1cccc(/N=N/c2c(C)nn(-c3ccc([N+](=O)[O-])cc3[N+](=O)[O-])c2C)c1', 'COc1ccc(CN(Cc2ccc(Cl)cc2)C(=O)c2ccccc2N)cc1', 'CCOC(=O)c1csc(CN(CCC(C)C)C(=O)Cc2cccs2)n1', 'COc1ccc(OC(F)(F)F)cc1-c1ccc(CCC2CC2C(=O)O)cc1', 'C=C(C)C(=O)OCC(O)COc1ccc2cc(-c3ccccc3)c(=O)oc2c1', 'CCCCCCc1ccsc1-c1ccnc(-c2cc(C(F)(F)F)[nH]n2)n1', 'CCCC(=O)/N=C1\\\\SC2CS(=O)(=O)CC2N1c1ccc(C(C)C)cc1', 'CN(Cc1cccnc1)C(=O)C[C@@H](c1cccc(O)c1)c1cccc(Cl)c1', 'Cc1cccc(/C=N/Nc2nc(Cl)nc3c2ncn3-c2cc(C)n(C)n2)c1', 'O=C(O)CN(CC1CC1)C1CC(NC(=O)C2SCCc3sccc32)C1', 'COc1ccc2nc(/N=C(/N)NC(=O)c3ccc([N+](=O)[O-])cc3)nc(C)c2c1', 'Cc1cc(C(=O)N2CCn3nc([C@H](O)CS(C)(=O)=O)cc3C2)nc(N)n1', 'O=c1[nH]c(-c2cncnc2)nc2c1CN(Cc1ccc(O)c([N+](=O)[O-])c1)CC2', 'CCOc1cc(C2C(C(=O)OC)=C(C)Nc3ncnn32)ccc1OC(F)F', 'CNC(=O)[C@@H]1C[C@@H]1c1ccc2c(c1)CN(C(C)=O)c1ccc(Cl)cc1C=C2', 'O=C(O)[C@H]1Cc2ccccc2CN1C(=O)c1cn(Cc2cccc(F)c2)nn1', 'CCCCC(=O)/N=C1\\\\SC2CS(=O)(=O)CC2N1c1cc(C)ccc1C', 'Cc1nc2cc(NC(=O)C3=NN(Cc4ccc(F)cc4)C(=O)CC3)ccc2o1', 'CCOC(=O)CCCOc1ccc2c(c1)[C@](O)(C(F)(F)F)c1ccccc1-2', 'COC(=O)c1ccc(COC(=O)COc2ccccc2Cc2ccccc2)o1', 'COC(=O)c1cc(Cn2ccn(C)/c2=N/C(=O)OC(C)(C)C)cc(Cl)n1', 'CC(=O)c1c(O)cccc1OCCCOc1ccc(CCC(=O)[O-])cc1.[Na+]', 'Cn1ccnc1[C@H](NC(=O)c1ccc2c(c1)NC(=O)CO2)c1ccc(F)cc1', 'c1ccc2c(c1)Cc1ccccc1O2.c1ccc2c(c1)Cc1ccccc1S2', '[2H]C([2H])(OC(=O)[C@@H](N)C(C)C)[C@@]1(F)O[C@@]([2H])(n2ccc(=O)[nH]c2=S)[C@H](O)[C@@H]1O', 'Cc1cc(F)c(OC(C)C)c(-c2ccc(SCCCC(=O)O)c(F)c2)c1', 'CC(C)(C)OC(=O)N1CCCC(n2nnc3cc(C(=O)O)c(Cl)cc32)C1', 'CCOC(=O)C(C(C)=O)C1(C(O)c2ccccc2)C(=O)c2ccccc2C1=O', 'CC(=O)[C@@]1(O)CCc2c(O)c3c(c([C@@H](C)O)c2C1)C(=O)c1ccccc1C3=O', 'CCn1c(-c2nonc2N)nc2cnc(Oc3cccc(C(=O)OC)c3)cc21', 'N#C/C(=C/Nc1ccc(Oc2ccccc2)cc1)C(=O)Nc1ccccc1C#N', 'CCOP(=O)(OCC)C(Nc1ccccn1)P(=O)(OCC)OCC', 'Cc1cccn2c(=O)cc(CN3C(=O)[C@@H](C)N(c4ccc(F)cc4)C3=O)nc12', 'CC(NC(=O)c1ccc(Cl)cc1)C(=O)NC(C)c1cccc2ccccc12', 'Cc1ccc([N+](=O)[O-])cc1C(=O)NCC(=O)Nc1ccc(-n2cncn2)cc1', 'CC(C)CCCNC(=O)c1cccc(S(=O)(=O)NCc2cccs2)c1', 'CCCCOC(=O)c1ccccc1C(=O)OCc1ccccc1C(F)(F)F', 'C/N=C(/NCC#Cc1ccc(C(F)(F)F)cc1)NCc1sc(C)nc1C', 'COc1cc(C)ccc1Oc1cnn(C)c(=O)c1Nc1cccc(C(=O)[O-])c1', 'C=C1[C@H](OC=O)C[C@H](OC(=O)c2ccccc2)[C@H]1COC(=O)c1ccccc1', 'C1CCCCC1.CCCC(=O)O.[Pb]', 'CCOC(=O)c1oc2ccccc2c1COC(=O)C=Cc1ccc(OC)cc1', 'O=S1c2ccc(Cc3ccccc3)cc2-c2cc(Cc3ccccc3)ccc21', 'Cc1cccc(C(C)C)c1NC(=O)c1ccc(CCNS(C)(=O)=O)s1', 'COC(=O)[C@@]12C(=O)CC[C@@H]1[C@@H](C)CC[C@H]2OS(=O)(=O)c1ccc(C)cc1', 'CCc1ccc(NC(=O)[C@H](C)OC(=O)CSC(=S)N2CCCC2)cc1', 'COc1ncccc1NC(=O)CCn1c(=O)c2cccn2c2ccc(F)cc21', 'O=C1c2c(c3c4ccccc4[nH]c3c3ccccc23)C(=O)N1CCc1cnc[nH]1', 'C[Si](C)(C)C#Cc1c(F)ccc2c1=c1ccc(F)c(C#C[Si](C)(C)C)c1=2', 'O=C1NCCN(C(=O)Cn2cnc3ccccc3c2=O)C1c1ccc(F)cc1', 'Cc1noc(C)c1COc1ccc2[nH]nc(NC(=O)c3ccc(F)cc3)c2c1', 'COc1ccc(Cl)cc1NC(=O)C(C)Nc1ccc(-c2ccccc2)cc1', 'COc1cc(OC)nc(NC(O)NSc2ncccc2C(=O)N(C)C)n1', 'O=c1c2cnn(-c3ccc(F)cc3)c2ncn1C[C@H](O)COc1ccccc1', 'Cc1cc(NCc2ccc(NC(=O)c3ccc(F)cc3)cc2)ncc1[N+](=O)[O-]', 'Cc1ccc(Oc2ncnc(NNC(=O)c3ccncc3)c2[N+](=O)[O-])cc1C', 'CCOC(=O)c1ccc(/N=C/c2cc(C)n(-c3ccc(Cl)cc3)c2C)cc1', 'CCOC(=O)c1ccc(Nc2cnc(C(=O)Nc3ccc(F)cc3)cn2)cc1', 'CCOc1cc(C=NNc2ccccc2)ccc1OCc1cccc(Cl)c1', 'Cc1ccc2c(c1)C(c1ccc(Cl)cc1)=CN1C(=O)C(CC(C)C)C(=O)N21', 'CC[C@]1(c2ccccc2)C(=O)OC(C(=O)OC)=C[C@H]1c1ccc2c(c1)OCO2', 'CCOC(=O)C(C)Sc1nc2sc(C)c(C)c2c(=O)n1C1CCCC1', 'FC(F)(F)c1cccc(-c2cn(Cc3ccc(-c4cccnc4)cc3)nn2)c1', 'O=C(Nc1cccc(-c2nc3ccccc3[nH]2)c1)c1c[nH]c(=O)c2ccccc12', 'CC[C@@H](C)C(=O)/N=C1\\\\S[C@H]2CS(=O)(=O)C[C@H]2N1c1c(C)cccc1C', 'C=CCc1cc(C(=O)O)cc2c(=O)cc(-c3ccccc3OCC(C)O)oc12', 'CCC1=C(C(=O)OC)[C@H](c2ccc(OC(F)F)c(OC)c2)n2ncnc2N1', 'CCC(NC(=O)c1cccc(S(=O)(=O)N(C)C(C)C)c1)c1cccs1', 'Cl.NCCCN(Cc1ccccc1)C(=O)Cn1cc([N+](=O)[O-])ccc1=O', 'CCCCOCCCNC(=O)/C(C#N)=C\\\\Nc1cc([N+](=O)[O-])ccc1Cl', '[H]/N=C(\\\\Cc1ccc(CC2(F)CNC2)cc1)C(=O)c1cnc(C(F)(F)F)nc1', 'CCOC(=O)c1ccc(NC(=O)c2cnc(Nc3cccc(F)c3)nc2)cc1', 'O=c1c2c(-c3ccnnc3)coc2ccn1[C@@H]1CC1c1ccc2ccccc2n1', 'CCC(CC)C(=O)/N=C1\\\\SC2CS(=O)(=O)CC2N1c1ccccc1C', 'CN(Cc1ccc(Oc2cccc(Cl)c2)cc1)[C@@H](C(N)=O)c1ccccc1', 'Cn1ccnc1-c1cc(F)cc(C(=O)Nc2ccc3[nH]ccc3c2)c1.O=CO', 'Cc1ccc(S(=O)N(C)S(C)(=O)=O)cc1-c1cccc(C(C)(C)C)n1', 'COc1cc(C=C2C(=O)c3ccccc3C2=O)ccc1OC(=O)OC(C)(C)C', 'O=C([O-])C(F)(F)F.O=S(=O)(O)CCC[N+]1(CCCO)CCNCC1', 'CCCSc1nc(N)c(N)c(Cl)n1.OCCOC1CC[C@H](O)[C@@H]1O', 'CCc1ccc(S(=O)(=O)Nc2cc(N3CCCCC3)ccc2OC)s1', 'FC(F)(F)c1ccc(N2C3CCC2CN(Cc2ccc(Cl)cc2)C3)cc1', 'CCc1ccccc1NCc1cccc(C(=O)Nc2cc(Cl)ccc2O)c1', 'COc1cccc(Cc2ncc(Cl)cc2C(=O)N[C@@H](C)c2ccccc2)c1', 'Cc1ccc(CCc2sccc2OC2OC(CO)C(O)C(O)C2O)cc1', 'O=C(c1ccc(-n2cccc2)cc1)N1CCC(Oc2ccc(Cl)cc2)CC1', 'COC(=O)Cc1c(C)c2ccc(OC(C)C(=O)c3ccccc3)cc2oc1=O', 'COCCCn1c(COc2ccc3ccccc3c2)nc2cc(Cl)ccc21', 'O=[N+]([O-])c1ccc2c3ccccc3c3[nH]c(C4=CNC5C=CC=CC45)nc3c2c1', 'CCCCCN(C(=O)O)C(=O)C(=O)C1(NSO)OCC(OC)CC1O', 'O=C(Nc1ccc2c(c1)OCO2)c1cnc(NCCc2ccc(F)cc2)cn1', 'Cc1cc(=O)c(C(=O)NCc2cccc(C(N)=O)c2)nn1-c1ccccc1F', 'O=C(Nc1ccccc1N1CCCCC1)c1ccc(-c2ccc(Cl)cc2)o1', 'O=C(c1ccccc1)c1ccc2c(c1)Nc1[nH]c(=O)n(-c3ccccc3)c1C=N2', 'FC(F)(F)c1cccc(CNc2ccc3ncc(-c4ccccc4)nc3n2)c1', 'CCOC(=O)c1ccccc1NC(=O)c1cnc(Nc2ccccc2F)cn1', 'CC(C)NS(=O)CCNc1nc(-c2c[nH]c3ncc(F)cc23)ncc1F', 'C/N=C(/NCCSCc1ccccc1F)NCCc1ccc(Cl)nc1', 'CC(C)(C)OC(=O)N1CCN(c2c(C(=O)O)cc(Cl)c3cncn23)CC1', 'CCn1cc(C(=O)N[C@@H]2CCCc3ccccc32)c(=O)c2cc(Cl)ccc21', 'O=C1Cc2ccccc2/C(=N/c2ccc(/N=C3\\\\NC(=O)c4ccccc43)cc2)N1', 'O=C(CN1C(=O)NC(Cc2c[nH]c3ccccc23)C1=O)Nc1ccccc1F', 'O=C(Nc1ccc(Cl)cc1)C1CCCN(C(=O)C2=Cc3ccccc3C2)C1', 'CCc1ccc2c(COC(=O)[C@H]3Oc4ccccc4O[C@@H]3C)cc(=O)oc2c1', 'Nc1cccc2cc(CN3C(=O)c4ccccc4C3=O)c(-c3ccccn3)nc12', 'COc1cc2c(cc1O)OC[C@H]1Oc3c(ccc4oc(C(C)C)cc34)C(=O)[C@@H]21', 'Cc1c(C(=O)NC2(C(=O)O)CCCC2)nnn1-c1ccc(OC(F)F)cc1', 'CC(=O)N1CCn2c(C)cc3c(-c4ccc(Cl)cc4)c(CC=O)c(C)c1c32', 'O=C(NC[C@H](c1ccco1)N1CCc2ccccc2C1)c1ccccc1Cl', 'CCc1c2c(nn1-c1cc(Cl)ccc1OC)C[C@H](c1ccccc1)CC2=O', 'CCc1sc(C(=O)NNS(=O)(=O)c2ccc([C@H](C)CC)cc2)cc1C', 'Cc1ccc(-c2ccnc(Cl)c2C(=O)N(CCO)Cc2ccccc2)cc1', 'O=c1c2ccccc2nc(-c2ccccc2)n1-c1nnc(Cc2ccccc2)o1', 'CN1CCN(Cc2cc(=O)oc3cc4c(cc23)CCC4)c2ccc(Cl)cc21', 'Cc1cccc(NCc2ccc(OCC(=O)Nc3ccccc3)c(Cl)c2)c1', 'CCOC(=O)c1ccc(Nc2nc3nonc3nc2N(C)c2ccco2)cc1', 'CC(=Cc1ccc(C=O)cc1)C(=O)O.COC(=O)C=Cc1ccc(C=O)cc1', 'CNCc1onc(-c2ccccc2)c1-c1nnc(-c2ccc(F)cc2OC)o1', 'Cc1cc(COC(=O)C(Cc2ccccc2)c2ccc(Cl)cc2)nc(C)n1', 'COc1cccc(C2CC(=O)Oc3ccc4c(c32)OC(=C(C)C)C4=O)c1OC', 'O=C(Nc1ccc(-c2nc3ccccc3o2)cc1)c1ccn(-c2ccccc2)n1', 'Cc1ccc(F)c2[nH]c3c(c12)C(C)N(C(=O)c1cc(C(F)(F)F)[nH]n1)CC3', 'C=CC(=O)CC(C)c1cc2ccccc2c2c1sc1ccc3ccccc3c12', 'CCC(C)OC(=O)C(C)Sc1nc2sc3c(c2c(=O)[nH]1)CCC(C)C3', 'O=C1C=C[C@@H](O)[C@@H]([C@@H](O)[C@@H](OC(=O)/C=C/c2ccccc2)c2ccccc2)O1', 'Cl.Cl.FC[C@@H](c1cc2ccccc2c2ccccc12)N1CCNCC1', 'Cc1cc(C)c(NC(=O)[C@@H](NS(=O)(=O)c2cccs2)C(C)C)c(C)c1', '[Mg+2].[O-2].[O-2].[O-2].[O-2].[O-2].[O-2].[O-2].[O-2].[O-2].[O-2].[O-2].[SiH8+4].[SiH8+4].[SiH8+4].[SiH8+4].[SiH8+4]', 'Clc1cnccc1N1CCC(c2nnc3ccc(-n4cccn4)nn23)CC1', 'Oc1cc(O)c2c(c1)OC(Cc1ccccc1)(c1ccc(O)c(O)c1)[C@H](O)C2', 'COc1ccc(/C=C/C(=O)NNC(=O)c2cncn2-c2ccc(F)cc2)cc1', 'O=Cc1ccc(SC(c2ccccc2)(c2ccccc2)c2ccccc2)cc1', 'Cc1cc(F)ccc1-c1cc(-c2nc3cc(F)c(F)cc3n2C2CC2)cnn1', 'O=C(NCc1cncc(-c2ccoc2)c1)C1(c2ccc(Cl)cc2)CCCC1', 'COc1cc([C@H]2C3=C(COC3=O)Cc3cc4c(cc32)OCO4)cc(OC)c1C', 'CCOC(=O)c1ccccc1NC(=O)c1ccc(Nc2ccc(F)cc2)nn1', 'CCOC(=O)C(=CNNC1=NCCN1c1ccccc1Cl)C(=O)OCC']}\n"
     ]
    }
   ],
   "execution_count": 8
  },
  {
   "metadata": {
    "ExecuteTime": {
     "end_time": "2025-01-26T14:02:43.240360Z",
     "start_time": "2025-01-26T14:02:43.238110Z"
    }
   },
   "cell_type": "code",
   "source": [
    "# Check the keys in the batch\n",
    "print(tmp_original.keys())\n",
    "\n",
    "# Specifically check if 'batch_ptr' is present\n",
    "if 'batch_ptr' in tmp_original:\n",
    "    print(\"batch_ptr is present:\", tmp_original['batch_ptr'])\n",
    "else:\n",
    "    print(\"batch_ptr is missing\")"
   ],
   "id": "f279211477cf5d0b",
   "outputs": [
    {
     "name": "stdout",
     "output_type": "stream",
     "text": [
      "dict_keys(['spec', 'mol', 'precursor_mz', 'adduct', 'mol_freq', 'identifier', 'smiles', 'candidates', 'labels', 'batch_ptr', 'candidates_smiles'])\n",
      "batch_ptr is present: tensor([256, 256, 256, 178, 256, 256, 256, 256, 256, 256, 256, 256])\n"
     ]
    }
   ],
   "execution_count": 9
  },
  {
   "metadata": {
    "ExecuteTime": {
     "end_time": "2025-01-26T14:02:43.282139Z",
     "start_time": "2025-01-26T14:02:43.279170Z"
    }
   },
   "cell_type": "code",
   "source": "tmp_original.keys()",
   "id": "82cf5fad037c8ffe",
   "outputs": [
    {
     "data": {
      "text/plain": [
       "dict_keys(['spec', 'mol', 'precursor_mz', 'adduct', 'mol_freq', 'identifier', 'smiles', 'candidates', 'labels', 'batch_ptr', 'candidates_smiles'])"
      ]
     },
     "execution_count": 10,
     "metadata": {},
     "output_type": "execute_result"
    }
   ],
   "execution_count": 10
  },
  {
   "metadata": {
    "ExecuteTime": {
     "end_time": "2025-01-26T14:02:43.319214Z",
     "start_time": "2025-01-26T14:02:43.316715Z"
    }
   },
   "cell_type": "code",
   "source": "tmp_original['spec'].shape, tmp_original['mol'].shape, ",
   "id": "8a967c5745662a1f",
   "outputs": [
    {
     "data": {
      "text/plain": [
       "(torch.Size([12, 61, 2]), torch.Size([12, 4096]))"
      ]
     },
     "execution_count": 11,
     "metadata": {},
     "output_type": "execute_result"
    }
   ],
   "execution_count": 11
  },
  {
   "metadata": {
    "ExecuteTime": {
     "end_time": "2025-01-26T14:02:43.358649Z",
     "start_time": "2025-01-26T14:02:43.356032Z"
    }
   },
   "cell_type": "code",
   "source": "tmp_original['precursor_mz']",
   "id": "f4541b8ff18abfc5",
   "outputs": [
    {
     "data": {
      "text/plain": [
       "tensor([742.5390, 268.0750, 279.1330, 675.5440, 756.5540, 249.1597, 254.1250,\n",
       "        200.0852, 141.0659, 362.1511, 319.1720, 381.1333])"
      ]
     },
     "execution_count": 12,
     "metadata": {},
     "output_type": "execute_result"
    }
   ],
   "execution_count": 12
  },
  {
   "metadata": {
    "ExecuteTime": {
     "end_time": "2025-01-26T14:02:43.398833Z",
     "start_time": "2025-01-26T14:02:43.396724Z"
    }
   },
   "cell_type": "code",
   "source": "tmp_original['adduct'], ",
   "id": "d33f02e95d06defc",
   "outputs": [
    {
     "data": {
      "text/plain": [
       "(['[M+H]+',\n",
       "  '[M+H]+',\n",
       "  '[M+H]+',\n",
       "  '[M+H]+',\n",
       "  '[M+H]+',\n",
       "  '[M+H]+',\n",
       "  '[M+H]+',\n",
       "  '[M+H]+',\n",
       "  '[M+H]+',\n",
       "  '[M+H]+',\n",
       "  '[M+H]+',\n",
       "  '[M+H]+'],)"
      ]
     },
     "execution_count": 13,
     "metadata": {},
     "output_type": "execute_result"
    }
   ],
   "execution_count": 13
  },
  {
   "metadata": {
    "ExecuteTime": {
     "end_time": "2025-01-26T14:02:43.433805Z",
     "start_time": "2025-01-26T14:02:43.431213Z"
    }
   },
   "cell_type": "code",
   "source": "tmp_original['mol_freq']",
   "id": "f2246bafe4c779ae",
   "outputs": [
    {
     "data": {
      "text/plain": [
       "tensor([ 44.,  41.,   7.,  93., 185.,  31.,  48.,  28.,  11.,  74.,  34.,   7.])"
      ]
     },
     "execution_count": 14,
     "metadata": {},
     "output_type": "execute_result"
    }
   ],
   "execution_count": 14
  },
  {
   "metadata": {
    "ExecuteTime": {
     "end_time": "2025-01-26T14:02:43.474777Z",
     "start_time": "2025-01-26T14:02:43.472110Z"
    }
   },
   "cell_type": "code",
   "source": "tmp_original['labels']",
   "id": "69b44a8f863047a4",
   "outputs": [
    {
     "data": {
      "text/plain": [
       "tensor([ True, False, False,  ..., False, False, False])"
      ]
     },
     "execution_count": 15,
     "metadata": {},
     "output_type": "execute_result"
    }
   ],
   "execution_count": 15
  },
  {
   "metadata": {
    "ExecuteTime": {
     "end_time": "2025-01-26T14:02:43.523141Z",
     "start_time": "2025-01-26T14:02:43.513438Z"
    }
   },
   "cell_type": "code",
   "source": "sum(tmp_original['labels'])",
   "id": "6514ce8596d69758",
   "outputs": [
    {
     "data": {
      "text/plain": [
       "tensor(12)"
      ]
     },
     "execution_count": 16,
     "metadata": {},
     "output_type": "execute_result"
    }
   ],
   "execution_count": 16
  },
  {
   "metadata": {
    "ExecuteTime": {
     "end_time": "2025-01-26T14:02:43.557679Z",
     "start_time": "2025-01-26T14:02:43.554942Z"
    }
   },
   "cell_type": "code",
   "source": "torch.nonzero(tmp_original['labels'], as_tuple=False).squeeze()",
   "id": "2c9d2d7a5c16ed90",
   "outputs": [
    {
     "data": {
      "text/plain": [
       "tensor([   0,  256,  512,  768,  946, 1202, 1458, 1714, 1970, 2226, 2482, 2738])"
      ]
     },
     "execution_count": 17,
     "metadata": {},
     "output_type": "execute_result"
    }
   ],
   "execution_count": 17
  },
  {
   "metadata": {
    "ExecuteTime": {
     "end_time": "2025-01-26T14:02:43.590381Z",
     "start_time": "2025-01-26T14:02:43.588554Z"
    }
   },
   "cell_type": "code",
   "source": "len(tmp_original['labels'])",
   "id": "2e83bcb489cae86a",
   "outputs": [
    {
     "data": {
      "text/plain": [
       "2994"
      ]
     },
     "execution_count": 18,
     "metadata": {},
     "output_type": "execute_result"
    }
   ],
   "execution_count": 18
  },
  {
   "metadata": {
    "ExecuteTime": {
     "end_time": "2025-01-26T14:02:43.625841Z",
     "start_time": "2025-01-26T14:02:43.623285Z"
    }
   },
   "cell_type": "code",
   "source": "tmp_original['batch_ptr']",
   "id": "8623ad0307ee1f18",
   "outputs": [
    {
     "data": {
      "text/plain": [
       "tensor([256, 256, 256, 178, 256, 256, 256, 256, 256, 256, 256, 256])"
      ]
     },
     "execution_count": 19,
     "metadata": {},
     "output_type": "execute_result"
    }
   ],
   "execution_count": 19
  },
  {
   "metadata": {
    "ExecuteTime": {
     "end_time": "2025-01-26T14:02:43.667332Z",
     "start_time": "2025-01-26T14:02:43.664850Z"
    }
   },
   "cell_type": "code",
   "source": "sum(tmp_original['batch_ptr'])",
   "id": "153e8fd767c6cc73",
   "outputs": [
    {
     "data": {
      "text/plain": [
       "tensor(2994)"
      ]
     },
     "execution_count": 20,
     "metadata": {},
     "output_type": "execute_result"
    }
   ],
   "execution_count": 20
  },
  {
   "metadata": {
    "ExecuteTime": {
     "end_time": "2025-01-26T14:02:43.701172Z",
     "start_time": "2025-01-26T14:02:43.699128Z"
    }
   },
   "cell_type": "code",
   "source": "len(tmp_original['candidates'])",
   "id": "57abe1cdad7d1e03",
   "outputs": [
    {
     "data": {
      "text/plain": [
       "2994"
      ]
     },
     "execution_count": 21,
     "metadata": {},
     "output_type": "execute_result"
    }
   ],
   "execution_count": 21
  },
  {
   "metadata": {
    "ExecuteTime": {
     "end_time": "2025-01-26T14:02:43.734161Z",
     "start_time": "2025-01-26T14:02:43.732259Z"
    }
   },
   "cell_type": "code",
   "source": "tmp_original['candidates'][5].shape",
   "id": "6a5c6ecd1c18994e",
   "outputs": [
    {
     "data": {
      "text/plain": [
       "torch.Size([4096])"
      ]
     },
     "execution_count": 22,
     "metadata": {},
     "output_type": "execute_result"
    }
   ],
   "execution_count": 22
  },
  {
   "metadata": {
    "ExecuteTime": {
     "end_time": "2025-01-26T14:02:43.774038Z",
     "start_time": "2025-01-26T14:02:43.771793Z"
    }
   },
   "cell_type": "code",
   "source": "len(tmp_original['candidates_smiles'])",
   "id": "3f7ec6537b665b0c",
   "outputs": [
    {
     "data": {
      "text/plain": [
       "2994"
      ]
     },
     "execution_count": 23,
     "metadata": {},
     "output_type": "execute_result"
    }
   ],
   "execution_count": 23
  },
  {
   "metadata": {},
   "cell_type": "markdown",
   "source": "# MSnRetrieval",
   "id": "effa503f7496c1bb"
  },
  {
   "metadata": {
    "ExecuteTime": {
     "end_time": "2025-01-26T14:02:43.800977Z",
     "start_time": "2025-01-26T14:02:43.799313Z"
    }
   },
   "cell_type": "code",
   "source": "from massspecgym.featurize import SpectrumFeaturizer",
   "id": "81578a73d8e57643",
   "outputs": [],
   "execution_count": 24
  },
  {
   "metadata": {
    "ExecuteTime": {
     "end_time": "2025-01-26T14:02:43.816454Z",
     "start_time": "2025-01-26T14:02:43.814795Z"
    }
   },
   "cell_type": "code",
   "source": [
    "config = {\n",
    "    'features': ['collision_energy', 'ionmode', 'adduct', 'spectrum_stats', 'atom_counts', 'value', \"retention_time\", 'ion_source', 'binned_peaks'],\n",
    "    'feature_attributes': {\n",
    "        'atom_counts': {\n",
    "            'top_n_atoms': 12,\n",
    "            'include_other': True,\n",
    "        },\n",
    "    },\n",
    "}"
   ],
   "id": "5df6778634ce3906",
   "outputs": [],
   "execution_count": 25
  },
  {
   "metadata": {
    "ExecuteTime": {
     "end_time": "2025-01-26T14:02:43.828776Z",
     "start_time": "2025-01-26T14:02:43.827297Z"
    }
   },
   "cell_type": "code",
   "source": "featurizer = SpectrumFeaturizer(config, mode='torch')",
   "id": "3e4d2d35f3c5e077",
   "outputs": [],
   "execution_count": 26
  },
  {
   "metadata": {
    "ExecuteTime": {
     "end_time": "2025-01-26T14:02:44.386607Z",
     "start_time": "2025-01-26T14:02:44.384470Z"
    }
   },
   "cell_type": "code",
   "source": "file_json = \"/Users/macbook/CODE/Majer:MassSpecGym/data/candidates_generation/MassSpecGymMSn_retrieval_candidates_formula.json\"",
   "id": "b1baf406d4a19229",
   "outputs": [],
   "execution_count": 27
  },
  {
   "metadata": {
    "ExecuteTime": {
     "end_time": "2025-01-26T14:09:16.598133Z",
     "start_time": "2025-01-26T14:02:45.089552Z"
    }
   },
   "cell_type": "code",
   "source": [
    "# Init hyperparameters\n",
    "n_peaks = 60\n",
    "fp_size = 4096\n",
    "batch_size = 12\n",
    "\n",
    "# Load dataset\n",
    "dataset_msn = MSnRetrievalDataset(\n",
    "    pth=file_mgf,\n",
    "    candidates_pth=file_json,\n",
    "    featurizer=featurizer,\n",
    "    mol_transform=MolFingerprinter(fp_size=fp_size),\n",
    "    max_allowed_deviation=0.005\n",
    ")\n"
   ],
   "id": "4abdab9e026ffb09",
   "outputs": [
    {
     "name": "stdout",
     "output_type": "stream",
     "text": [
      "Warning: No candidates for 0 SMILES. Skipping them.\n",
      "Total valid indices: 16476\n",
      "MSnRetrievalDataset length: 16476\n"
     ]
    }
   ],
   "execution_count": 28
  },
  {
   "metadata": {
    "ExecuteTime": {
     "end_time": "2025-01-26T14:09:39.690421Z",
     "start_time": "2025-01-26T14:09:39.688534Z"
    }
   },
   "cell_type": "code",
   "source": [
    "# Init data module\n",
    "data_module_msn = MassSpecDataModule(\n",
    "    dataset=dataset_msn,\n",
    "    batch_size=batch_size,\n",
    "    split_pth=split_file,\n",
    "    num_workers=0,\n",
    ")"
   ],
   "id": "313e58fab0155c4b",
   "outputs": [],
   "execution_count": 30
  },
  {
   "metadata": {
    "ExecuteTime": {
     "end_time": "2025-01-26T14:09:42.288467Z",
     "start_time": "2025-01-26T14:09:42.264476Z"
    }
   },
   "cell_type": "code",
   "source": [
    "data_module_msn.prepare_data()\n",
    "data_module_msn.setup()\n",
    "\n",
    "train_loader_msn = data_module_msn.train_dataloader()"
   ],
   "id": "af9eb30cc9d0b54f",
   "outputs": [
    {
     "name": "stdout",
     "output_type": "stream",
     "text": [
      "Train dataset size: 12536\n",
      "Val dataset size: 1952\n"
     ]
    }
   ],
   "execution_count": 31
  },
  {
   "metadata": {
    "ExecuteTime": {
     "end_time": "2025-01-26T14:09:43.800551Z",
     "start_time": "2025-01-26T14:09:42.559594Z"
    }
   },
   "cell_type": "code",
   "source": [
    "tmp_msn = []\n",
    "for batch in train_loader_msn:\n",
    "    print(batch)\n",
    "    tmp_msn = batch\n",
    "    break"
   ],
   "id": "511d947bf9b25fcd",
   "outputs": [
    {
     "name": "stdout",
     "output_type": "stream",
     "text": [
      ">>> In MSnRetrievalDataset.collate_fn! <<<\n",
      "{'spec': DataBatch(x=[139, 1039], edge_index=[2, 254], batch=[139], ptr=[13]), 'mol': tensor([[0., 0., 0.,  ..., 0., 0., 0.],\n",
      "        [0., 0., 0.,  ..., 0., 0., 0.],\n",
      "        [0., 0., 0.,  ..., 0., 0., 0.],\n",
      "        ...,\n",
      "        [0., 0., 0.,  ..., 0., 0., 0.],\n",
      "        [0., 0., 0.,  ..., 0., 0., 0.],\n",
      "        [0., 0., 0.,  ..., 0., 0., 0.]]), 'precursor_mz': tensor([395.2078, 472.1359, 196.0968, 250.0202, 340.1292, 342.0707, 393.2072,\n",
      "        774.2968, 586.2177, 454.0486, 392.1969, 350.1266]), 'adduct': ['[M+H]+', '[M+H]+', '[M+H]+', '[M+H]+', '[M+H]+', '[M+H]+', '[M+H]+', '[M+NH4]+', '[M+H]+', '[M+H]+', '[M+H]+', '[M+H]+'], 'identifier': ['0038826_0000000', '0059300_0000000', '0098836_0000000', '0071484_0000000', '0051910_0000000', '0031829_0000000', '0094508_0000000', '0012337_0000000', '0060572_0000000', '0075294_0000000', '0050280_0000000', '0059260_0000000'], 'mol_freq': tensor([1., 1., 1., 1., 1., 1., 2., 2., 1., 1., 1., 1.]), 'smiles': ['CC1=CC=C(C=C1)N2CCN(C2=O)CC(=O)N3CCC(C3)OC4=NC=C(C=C4)C', 'CC1=CC=C(C=C1)S(=O)(=O)N2CCCC[C@@H]2C(=O)NC3=NC(=CS3)C4=CC=C(C=C4)OC', 'C[C@](CC1=CC=C(C=C1)O)(C(=O)O)N', 'C1CSC(=O)C1NC(=O)CSCC(=O)O', 'CC1=CC(=NO1)NC(=O)[C@H](CC2=CC=CC=C2)NC(=O)C3=CC=CO3', 'C1C(=O)N(N=C2N1C3=CC=CC=C3S2)CC(=O)C4=CC=C(C=C4)F', 'C[C@@H]1C[C@H]2[C@@H]3CCC4=CC(=O)C=C[C@@]4([C@]3([C@H](C[C@@]2([C@]1(C(=O)CO)O)C)O)F)C', 'C1CC(C=C1)C(=O)OCC2C(C(C(C(O2)OC3=C(C=C(C=C3)O)COC(=O)C4(C(CCC(=O)C4OC(=O)C5CCC=C5)O)O)OC(=O)C6CCC=C6)O)O', 'CC(C)(C1=CC=CC=C1CC[C@H](C2=CC=CC(=C2)/C=C/C3=NC4=C(C=CC(=C4)Cl)C=C3)SCC5(CC5)CC(=O)O)O', 'C=CC1=C(N2[C@@H]([C@@H](C2=O)NC(=O)/C(=N/OCC(=O)O)/C3=CSC(=N3)N)SC1)C(=O)O', 'COCCN1C2=CC=CC=C2C=C1C(=O)NCCC3=CNC4=C3C=C(C=C4)OC', 'CN1C(=O)COC2=C(C=C(C=C21)Cl)C(=O)NC3CN4CCC3CC4'], 'candidates': tensor([[0., 0., 0.,  ..., 0., 0., 0.],\n",
      "        [0., 0., 0.,  ..., 0., 0., 0.],\n",
      "        [0., 0., 0.,  ..., 0., 0., 0.],\n",
      "        ...,\n",
      "        [0., 0., 0.,  ..., 0., 0., 0.],\n",
      "        [0., 0., 0.,  ..., 0., 0., 0.],\n",
      "        [0., 0., 0.,  ..., 0., 0., 0.]]), 'labels': tensor([ True, False, False,  ..., False, False, False]), 'batch_ptr': tensor([256, 256, 256, 256, 256, 243, 256,  19,  84,  36, 256, 256],\n",
      "       dtype=torch.int32), 'candidates_smiles': ['CC1=CC=C(C=C1)N2CCN(C2=O)CC(=O)N3CCC(C3)OC4=NC=C(C=C4)C', 'COc1cc(Nc2nc(C)cc(Nc3cc(C)cc(C)c3)n2)cc(OC)c1OC', 'Cc1c(CNC(=O)CN(C)C)ccc2nc(NCCc3ccccc3)oc(=O)c12', 'CCCOc1ccc(-c2cn3cccc(OCC(=O)N4CCCC4)c3n2)cc1N', 'Cc1ccc(C(=O)N2CCC(NC(=O)c3ccc(CNC(N)=O)cc3)CC2)cc1', 'CC(C)(C)N1CC(C(=O)Nc2ccc(CNC(=O)c3cccnc3)cc2)CC1=O', 'CN/C=C\\\\C(N)=N\\\\C(=O)c1cc(OC(C)c2ccccn2)c2c(c1)OC(C)(C)C2', 'CC1CCCN(c2ccc(C(=O)N3CCCc4c(N)cccc43)cc2[N+](=O)[O-])C1', 'CCN/C(=N\\\\Cc1oc2ccccc2c1C)N1CCN(C(=O)c2ccco2)CC1', 'CN(Cc1ccc(-n2cnn(Cc3ccccc3)c2=O)cc1)C(=O)OC(C)(C)C', 'CCCN(Cc1nnc(-c2ccco2)o1)[C@@H](C(=O)N1CCCC1)c1ccccc1', 'Cc1cc(C)c2c(=O)n(CC(=O)NC(C)CCc3ccccc3)c(=O)n(C)c2n1', 'Cc1cc(C2NC(C(=O)N3CCOCC3)=CN2Cc2ccccc2)cn(C)c1=O', 'COc1ccc(-c2noc(C3CC(c4ccc(C(C)C)cc4)NN3)n2)cc1OC', 'COC(=O)CC(=O)NC1=CC2C(C=C1)C(c1cccnc1)=NN2C1CCCCC1', 'Cn1cc(C(=O)N2C3CCC2CN(C(=O)C2(c4ccccc4)CC2)C3)n(C)c1=O', 'CC(=O)Nc1cc(NC(C)=O)cc(C(=O)NCC2CCN(c3ccccc3)C2)c1', 'COc1ccc2c(c1)C(C(=O)N1CCCN(Cc3ccncc3)CC1)CC(=O)N2', 'COc1cc(/C=C/C(=O)Nc2cnc3c(c2)c(C)nn3C)ccc1OCC(C)C', 'C/N=C(\\\\NCc1ccc([N+](=O)[O-])cc1)NC1CC2(CCCC2)Oc2ccccc21', 'CCOc1ccc(NC(=O)Cn2c(C(C)NC(=O)CC)nc3ccccc32)cc1', 'CN(C)CCCNC(=O)C(=O)NC1C(=O)N(Cc2ccccc2)c2ccccc21', 'COc1ccc(OC)c(CN(C(=O)c2cc(C)nc3c2c(C)nn3C)C2CC2)c1', 'CC(C)[C@@H](NCC(=O)NN1C(=O)N[C@](C)(c2ccccc2)C1=O)c1ccccc1', 'CCOc1ccc(OCC)c(N/C(N)=N/Cc2ncc(-c3ccc(C)cc3)o2)c1', 'COCCCNc1cc(-c2ccccc2)nc(Nc2cc(OC)ccc2OC)n1', 'COc1cc2cc(C(=O)N3CCN(CCc4ccncc4)CC3)[nH]c2cc1OC', 'CC(C)(CCO)n1nc(-c2ccc3cc(OC4CC4)ccc3c2)c(C(N)=O)c1N', 'CC1=C2OC(C)(CNc3ccc(-c4ncc[nH]4)cc3)CC2C(C)C([N+](=O)[O-])=C1C', 'COc1ccc(NC(=O)Nc2c(C)nn(Cc3ccc(C)cc3)c2C)c(OC)c1', 'COc1ccccc1C(NC(=O)NCCOc1ccc(C)cc1)c1nccn1C', 'Cc1cc(CC(=O)NC(Cc2c[nH]c3ccccc23)C(=O)N2CCCCC2)no1', 'CCC(CNC(=O)Nc1ccc2c(c1)OCC(=O)N2)N1CCc2ccccc2C1', 'C/N=C(\\\\NCc1cc(OC)c(OC)c(OC)c1)NCc1ccnc2ccccc12', 'COc1cc(NC(C)(C)C)nc2[nH]c(=O)c(C(=O)NCc3ccc(C)cc3)cc12', 'COc1ccc(C)cc1NC(=O)N1CCN(Cc2nc3cc(C)ccc3o2)CC1', 'COc1ccc(N2CC(C(=O)N3CCN(Cc4ccncc4)CC3)CC2=O)cc1', 'COc1ccc(C(=O)N[C@@H](CC(C)C)C(=O)Nc2nc3ccccc3[nH]2)c(C)c1', 'CC(=O)Nc1cc(C2=CCC(=O)c3cc(CN4CCCN(C)CC4)oc32)ccn1', 'CCCCN(C)C(=O)c1nc(C(=O)Nc2ccccc2OCC)c2ccccn12', 'NC(=O)NC(CC(=O)N1C[C@H]2CNC[C@H]2C1)c1cccc(Oc2ccccc2)c1', 'COc1cccc(CCNCC(=O)Nc2ccc(OC)c(-c3ccnn3C)c2)c1', 'C[C@@H]1C[C@H](C)CN(C(=O)N(C(=O)CNC(=O)c2cccnc2)c2ccccc2)C1', 'COc1cc(CN2CCC(NC(=O)Cc3[nH]nc4ccccc34)C2)cc(OC)c1', 'COCCN(C)c1cc(C(=O)OC)nc2c1c(C1CCC1)nn2-c1ccccc1', 'CCN(CCNC(=O)c1ccc(CN2C(=O)CNC2=O)cc1)c1cccc(C)c1', 'CCc1cc(-c2cccc(C(=O)NCCn3c(CO)cnc3C)c2)c(C)[nH]c1=O', 'CC(O)c1cccc(Nc2ccc(NC(=O)Nc3cc(C(C)(C)C)on3)cc2)c1', 'O=C(c1ccc(N2CCN(Cc3ccc4c(c3)OCO4)CC2)nc1)N1CCCC1', 'CNC(=O)Cc1ccc(NC(=O)NCc2ccc(CN3CCCC3=O)cc2)cc1', 'CCOc1cccc(CNC(=O)CCn2ccn3nc4c(c3c2=O)CCCC4)c1', 'NC(=O)C1N(C(=O)c2[nH]nc3c2CCc2ccccc2-3)CCCC12CCOCC2', 'O=C(c1ccc(NCc2ccccc2)c([N+](=O)[O-])c1)N1CC[C@@H]2CNC[C@@H]2CC1', 'O=C(Nc1cccc(NC(=O)C2COCCN2)c1)Nc1cccc2c1CCCC2', 'CC(C)Oc1cncc(-c2ccc3[nH]nc(C(=O)NCC4CCOCC4)c3c2)c1', 'CCN(CC)c1ccc(NC(=O)Nc2ccc3c(c2)C(=O)N(C(C)C)C3=O)cc1', 'CC(C)CCOc1ccc(-c2ccnc3nc(N4CCOCC4)[nH]c(=O)c23)cc1', 'CNC(=O)C1CN(Cc2ccccc2)CC12CN(C(=O)c1ccc(OC)nc1)C2', 'CC(C)NC(=O)N1[C@H](CO)[C@H](c2ccccc2)C12CN(C(=O)c1ccccn1)C2', 'CC(C)C(NC(=O)C1CCN(C(=O)c2ccoc2)CC1)c1nc2ccccc2[nH]1', 'CN(C)C(CNC(=O)CCC(=O)N1CC(=O)Nc2ccccc21)c1ccccc1', 'O=C1[C@H]2CCCC[C@H]2C(=O)N1CCC(=O)N1CCC[C@@H]1c1nc2ccccc2[nH]1', 'COc1ncnc2c(C3NC(CCc4ccccc4)C4OC(C)(C)OC34)c[nH]c12', 'CCN1CCN(c2ccc(NC(=O)/C=C/c3ccc([N+](=O)[O-])cc3)c(C)c2)CC1', 'CCc1cnc(C2=NC(C)(C(C)C)C(=O)N2)c(C(=O)OCCc2ccccn2)c1', 'CC1(C(=O)O)CCN(C(=O)NCc2ccc(N3CCc4ccccc4C3)nc2)C1', 'CC(C(=O)Nc1ccc2c(c1)CCC2)N1CCN(c2ccccc2[N+](=O)[O-])CC1', 'Cc1c(Oc2ncnc3c2C[C@H](C)N(C(=O)OC(C)(C)C)C3)ccc2[nH]ccc12', 'CN(C)[C@H](CNc1c(N2CCN(c3ccccc3)CC2)c(=O)c1=O)c1ccco1', 'COc1ccc(N2C[C@H](C(=O)N3CCCN(c4ccccn4)CC3)CC2=O)cc1', 'O=C(NCC(c1ccccc1)N1CCCC1)c1ccc(NC2CC2)c([N+](=O)[O-])c1', 'CCC(=O)N1CCc2[nH]cnc2C12CCN(C(=O)C1Cc3ccccc3O1)CC2', 'Cc1ccc(C(=O)Nc2ccc(NC(=O)/N=C(N)\\\\C=C(/O)C(C)(C)C)cc2)cc1', 'CCN(CCO)c1ccc(/C=N\\\\N2C(=O)N[C@](C)(c3ccccc3)C2=O)c(C)c1', 'Cc1ccc(-c2cc(C(=O)NCC(C)(C)C(=O)O)c3cnn(C(C)C)c3n2)cc1', 'CC(=O)Nc1ccc([C@@H]2CC[C@@H](C)CN2C(=O)C(=O)Nc2cncc(C)c2)cc1', 'COCC1(C(=O)N2CC[C@]3(C(=O)Nc4ccccc43)[C@@H]2c2nccn2C)CCC1', 'CC.O=C(c1nc(-c2ccccc2)n(-c2ccccc2)n1)N1CCCC1.O=CO', 'CCC(=O)N1CCc2[nH]cnc2C12CCN(C(=O)c1ccc3c(c1)CCO3)CC2', 'Cc1cc(-c2cc(C(=O)N3CCNCC3)no2)cc2c1C(=O)N(CCC1CC1)C2', 'Cc1oc2ncnc(N3CCOCC3)c2c1C(=O)N[C@@H](C)CCc1ccccc1', 'Cc1cc2c(cc1C)N[C@@H](CC(=O)Nc1ccc(N3CCOCC3)cc1)C(=O)N2', 'COc1ccc(CC2CCN(C(=O)c3ccnc4c3nc(C)n4C)C2)cc1OC', 'CC(C)NC(=O)Nc1ccc(NC(=O)c2cccc(CN3CCCC3=O)c2)cc1', 'CC(=O)N1C[C@H]2C[C@@H](C1)[C@H](C(=O)NCCc1cccc(C)n1)n1c2cccc1=O', 'COc1ccccc1C(=O)Nc1cc2c(cc1N1CCC[C@H]1C)n(C)c(=O)n2C', 'CC[C@H](C)[C@H](NC(=O)[C@H]1CC(=O)N(Cc2ccco2)C1)c1nc2ccccc2[nH]1', 'CC(N/C=C(/C#N)C(=O)Nc1ccc([N+](=O)[O-])cc1)C12CC3CC(CC(C3)C1)C2', 'CC(C)c1nc2c(o1)CCN(C(=O)C(C(C)C)n1cnc3ccccc3c1=O)C2', 'Cc1ccc(NCC(=O)NNC(=O)C2CC(=O)N(CCc3ccccc3)C2)cc1', 'Cc1ncnc2c1ccn2[C@@H]1C[C@H]([C@@H](O)c2cccc3c2CNCC3)[C@@H](O)[C@H]1O', 'Cn1cc(C(=O)N2CCC[C@@H](c3ccc(C(=O)NCC4CC4)cn3)C2)ccc1=O', 'COc1ccc(-c2noc(N3CCN(c4cccc(C)c4)[C@H](C)C3)n2)cc1OC', 'CNC(=O)Nc1ccc(OCC2CN(C(=O)Nc3ccc(C4CC4)cc3)C2)cc1', 'C[C@@H]1COC[C@@](CO)(CNc2cc(=O)[nH]c3cnccc23)N1Cc1ccccc1', 'NC(=O)c1cccnc1N1CCN(C(=O)C2(c3ccccc3)CCOCC2)CC1', 'CCOC(=O)N1CCN(c2ncc3c(n2)CC(c2ccc(C)cc2)CC3=O)CC1', 'COC(=O)Oc1ccc2c(c1)nc(NCc1ccccn1)n2C1CCCCCC1', 'COc1cc(NC(=O)N2CCN(c3cccc4[nH]ccc34)CC2)cc(OC)c1C', 'O=C(CCN1C(=O)COc2ccccc21)NCc1cccnc1N1CCCCC1', 'Cc1cc(C(=O)N[C@H](CCN2CCOCC2)c2ccccc2)c2c(C)noc2n1', 'CCn1c(=O)c(=O)n(CC(=O)NCCN(C)Cc2ccccc2)c2ccccc21', 'Cc1c(C(=O)N2CCCCC2C)oc2c1/C(=N/NC(=O)c1ccncc1)CCC2', 'CC(=O)Nc1cccc2c1ccn2CC(=O)Nc1ccc(OCCN(C)C)cc1', 'COc1ccc(C(CC(=O)NCCCc2nc3ccccc3[nH]2)NC(C)=O)cc1', 'CCCn1c(C)cc(C=C(C#N)C(=O)Nc2ccc(OCCC(N)=O)cc2)c1C', 'O=C1N[C@H](Cc2c[nH]c3ccccc23)C(=O)N2CCN(C(=O)C3CCCC3)C[C@@H]12', 'O=C1NC2(CCN(C(=O)c3ccc(CN4CCCC4)o3)CC2)Nc2ccccc21', 'CC(=O)N1Cc2cc(C)ccc2OC2(CCN(C(=O)c3cnc(C)cn3)CC2)C1', 'COc1cc2nn(C3CCOCC3)cc2cc1CC(=O)c1ccnc(C(C)C)n1', 'CCCC(=O)N1CCc2nc(N)c(C#N)c(-c3ccc(OC)c(OCC)c3)c2C1', 'COc1ccc(CCNC(=O)c2nnn(-c3ccc(C)c(C)c3)c2C)cc1OC', 'COc1cc(C(=O)Nc2cnn(CCN(C)C)c2)ccc1OCc1ccccc1', 'CC1(C)C=Nc2c(N)nc(-c3ccc(C4CCC(CC(=O)O)CC4)cc3)nc2O1', 'COCC/N=C(\\\\N)NC(=O)c1ccc2c3ccccc3n(C3CCOCC3)c2c1', 'Cc1cc(C(=O)N2CCn3c(nn(CC(C)C)c3=O)C2c2ccccc2)c(C)o1', 'Cc1cc2nc(CC(=O)c3ccc(C(C)(C)O)cc3)cc(N3CCOCC3)n2n1', 'CCOC(=O)c1c(C)oc2ncnc(NC3CCN(Cc4ccccc4)CC3)c12', 'COc1cccc(OC)c1CN1[C@H]2CC[C@H]1Cc1c(nc3cc(C)[nH]n3c1=O)C2', 'O=C(CN1CCCC(C(=O)Nc2ccccc2)C1)NC(=O)NCc1ccccc1', 'CC1CCN(c2ccc(C(=O)N3CCC[C@H]3c3cccnc3)cc2[N+](=O)[O-])CC1', 'COc1ccc(OCCNc2nc(CN3CCOCC3)nc3ccccc23)cc1', 'C[C@@H]1C(=O)N(C)c2ccc(Nc3cccc(C(=O)O)c3)nc2N1C1CCCCC1', 'CC(C)=CC1C(C(=O)N2CCN(c3oc(-c4ccco4)nc3C#N)CC2)C1(C)C', 'COCCn1c(C2CCN(C(=O)c3ccc(C)c(OC)c3)C2)nc2cccnc21', 'C/C=C/N.CO.Cc1ccc2[nH]cc(CCN3C(=O)c4ccccc4C3=O)c2n1', 'COc1ccc(N2CCN(C(=O)C3CN(C(C)=O)Cc4cccnc43)CC2)cc1', 'CN(C)C(=O)C[C@H]1CC2(CCN(C(=O)c3cnccn3)CC2)Oc2ccccc21', 'CCN(/C=N/Cc1ccc(OC)nc1)CCCCN1C(=O)c2ccccc2C1=O', 'Cc1ccc(Oc2nc(N3CCOCC3)nc3c2CN(C(=O)C2CC2)CC3)cc1', 'CCC(O)(N1CCC(c2ccccc2OC)CC1)n1nnc2ccccc2c1=O', 'CCOc1ccccc1OCCCC(=O)NC(C)c1ccc(-n2cncn2)cc1', 'CCN/C(=N\\\\Cc1ccc2c(c1)OCO2)NCC(=O)N1CCc2ccccc2C1', 'CN(C(=O)c1ccc2c(c1)no[n+]2[O-])[C@H]1CCCN(CCCc2ccccc2)C1', 'Cc1cccc(C(=O)NC(C(=O)Nc2ccc3c(c2)n(C)c(=O)n3C)C(C)C)c1', 'CCn1c(=O)c(C)nc2cc(C(=O)NC[C@H](c3ccco3)N3CCCC3)ccc21', 'CCCOc1ccc(/C=N\\\\NC(=O)c2ccc3c(c2)nc(C)n3CC)cc1OC', 'Cc1nc(Nc2ccc3c(c2)OCCO3)cc(C(=O)NCCC2=CCCCC2)n1', 'COc1ccccc1N1CCN(CCn2c(=O)c3ccccc3n(C)c2=O)CC1', 'COc1cccc2c(C(=O)N3CCC4(CC3)CC4NC(=O)C3=CCCC3)cnn12', 'COCCN1c2cccnc2-n2cccc2[C@]12CCN(C(=O)C1[C@H]3COC[C@@H]13)C2', 'O=C(NC(CN1CCOCC1)c1ccccc1)c1ccc(N2CCNC2=O)cc1', 'CC1Cc2ccccc2N1C(=O)c1cc(C(=O)NCCN2CCOCC2)ccn1', 'Cn1nccc1C1C[C@H]2CC[C@@H](C1)N2C(=O)C(=O)N1CCc2cccc(O)c2C1', 'O=C1CC[C@@]2(CCCN(C(=O)c3ccc(=O)[nH]c3)C2)CN1CCc1ccccn1', 'Cc1nc2c3ccccc3nn2c(C)c1CCC(=O)NC1CCC(C(=O)O)CC1', 'C/N=C(\\\\NCc1cc(OC)c(OC)c(OC)c1)NCc1cccc2cccnc12', 'O=C(NC1(c2nc(C3CC3)no2)CCCCC1)[C@@H]1CC(=O)N(c2ccccc2)C1', 'COc1cc2nc(NCC3CCCOC3c3ccccc3)nc(N)c2cc1OC', 'Cn1c(=O)c(C(=O)N2C[C@H]3CC[C@@H](C2)N(CC2CCC2)C3=O)nc2ccccc21', 'CC(=O)Nc1ccc(C(=O)N/C(=N\\\\C[C@@H]2CCCO2)Nc2ccc(C)cc2)cc1', 'COc1ccc([C@H]2CCCN2C(=O)C[C@@H](C)n2nnc3ccccc32)c(OC)c1', 'O=C(N[C@@H]1CN2CCCC[C@@]2(C(=O)NC2CC2)C1)c1cc(-c2ccccc2)on1', 'Cn1c(=O)n(C2CCC(=O)NC2=O)c2cccc(C#CCCC3CCNCC3)c21', 'O=C(COC(=O)CCCc1c[nH]c2ccccc12)Nc1ccnn1C1CCCC1', 'COc1ccc(-n2nc(-c3ccccc3)n(CC(=O)N[C@@H](C)C(C)C)c2=O)cc1', 'COc1ccc(N(C)c2nc(CNC(=O)OC(C)(C)C)nc3ccccc23)cc1', 'O=C(C1CNNC1c1ccccc1)N1CCN(Cc2ccc3c(c2)OCO3)CC1', 'CC1NC(=O)C(Cc2ccc(O)cc2)N2C(=O)CN(C)N(Cc3ccccc3)C12', 'CCC[C@@H](NC(=O)CCc1ccc(OC)cc1)C(=O)Nc1nc2ccccc2[nH]1', 'CCCc1nc2c(C)cc(C(=O)N[C@H](Cc3ccccc3)CN(O)C=O)cc2[nH]1', 'CCN(Cc1cnn(C)c1)C(=O)c1cc(COc2ccc3c(c2)CCCC3)on1', 'COc1cccc(/C=C/C(=O)N(C)CC(=O)N2CCN(c3ccccn3)CC2)c1', 'CCCCc1nc(C(=O)CCC)nn1Cc1ccc(-n2cccc2C(=O)O)cc1', 'CN(C)C(=O)N1C[C@@]2(CO[C@H](C(=O)NCCc3ccncc3)C2)c2ccccc21', 'Cc1ccccc1CC(=O)N1CC[C@@]2(Cc3nn(CC4CC4)c(=O)c(=O)n3C2)C1', 'CCNC(=O)c1cccc(NC(=O)C2CCCN(C(=O)Nc3ccccc3)C2)c1', 'COCC(=O)N1[C@@H]2CCCC[C@H]2NC2=C(C(=O)NC2)[C@H]1c1cccc2cc[nH]c12', 'CCOC(=O)N1CCC(NC(=O)c2cncc(N3CCc4ccccc43)c2)CC1', 'Cc1nc(COc2ccc(C(=O)N3CCCCC[C@H]3c3cccn3C)cc2)no1', 'C[C@H]1[C@H](C)CCC[C@H]1NC(=O)C(=O)Nc1ccc(NC(=O)c2ccccc2)nc1', 'Cc1c(C(=O)OCC[C@@H]2CCCCN2C(=O)c2cccn2C)ccc2cncn12', 'COC(=O)c1ccc(/C=N\\\\NC(=O)CN2CCN(Cc3ccccc3)CC2)cc1', 'CCN(CC)CCn1c(NC(=O)c2cccc3c2OCCO3)nc2ccccc21', 'CCc1cnc2c(C(N)=O)cccc2c1N[C@H](CN)c1ccc(OC)c(OC)c1', 'Cc1nc(N2CCC3(CCCO3)CC2)c(CO)nc1-c1cccc2c1C(=O)NC2', 'CC(=O)N[C@@H](CC(=O)Nc1cc(C(N)=O)ccc1N1CCCC1)c1ccccc1', 'COc1cccc([C@H](CNC(=O)Cc2nn(C)c(=O)c3ccccc23)N(C)C)c1', 'CC(C)(C)c1ccc(OCc2ncc(C(=O)N3CCC[C@H](C#N)C3)c(=O)[nH]2)cc1', 'COc1cc(OCCCN2CCCC2)ccc1-n1c(C)nc2cnccc2c1=O', 'CC(C)(C)OC(=O)N1CCC2(CC1)C(=O)N(c1cccnc1)C2c1ccccn1', 'CCN(Cc1ccncc1)C(=O)CCc1nnc(CCc2ccccc2OC)o1', 'COc1ccc(CC[C@H]2CCCCN2C(=O)c2ccc3nncn3c2)cc1OC', 'COCc1noc(-c2cnc3c(c2NC2[C@@H]4CC5C[C@H]2CC(O)(C5)C4)C=CC3)n1', 'COc1ccc(N2CCN(c3ccc(N4C(=O)NC(C)(C)C4=O)cc3)CC2)cc1', 'COc1ccc(CNC(=O)c2cc(C#N)ccc2NC2CCCNC2)cc1OC', 'CCNC(=O)c1ccc(NC(=O)NCc2cccc(C(=O)N3CCCC3)c2)cc1', 'CNCCN(C)C(=O)c1cn(-c2ccccc2)nc1-c1ccc(OC)c(OC)c1', 'O=C(Nc1ccccc1N1CCCC1)C1CCN(c2ccccc2[N+](=O)[O-])CC1', 'Cc1cc(C(=O)NCc2ccnc(N3CCOCC3)c2)c(C)n1Cc1ccco1', 'CC(C)(C)OC(=O)NCc1cccc(-c2ccnc3c2CN(C2CC2)C(=O)N3)c1', 'CC(=O)Nc1cc(Oc2ccc(C(=O)NC3C4CCN(CC4)C3C)cc2)ccn1', 'CCNC(=O)NC(=O)C(c1ccccc1)N1CCN(C(=O)c2ccccc2)CC1', 'COc1c2ccc(C(=O)Nc3ccc(N4CCC[C@H](OC)C4)cc3)cc2nn1C', 'COC(=O)[C@@H](Cc1ccccc1)NC(=O)c1cc(C(C)C)nc2c1c(C)nn2C', 'COc1cccc(-c2cc(C3CC3)nc(N)c2C#N)c1OCCN1CCOCC1', 'COC(=O)c1cnc(CN2CCCC23CCCN(c2ccc(C)cc2)C3=O)cn1', 'CCN1C(=O)C[C@@H](C(=O)NCCNC(=O)c2cccnc2)[C@@H]1c1ccccc1C', 'CCn1c(NNC(=O)COc2cc(C)ccc2C(C)C)nc2ccccc2c1=O', 'COc1ccccc1C(NC(=O)c1nnn(CC2CCCC2)c1C)c1ccco1', 'O=C(NCc1coc(-c2ccccc2)n1)[C@H]1[C@@H]2CNC[C@@H](C2)[C@@H]2CCCC(=O)N21', 'CCc1nc2ccc(OC)cn2c1C(=O)NCc1ccc(N2CCOCC2)cc1', 'COCCn1cccc(C(=O)NCCc2ccc(-n3nc(C)cc3C)cc2)c1=O', 'CCOC(=O)NC1CCCN(c2ncccc2C(=O)N2CCc3ccccc32)C1', 'COc1cc(Cn2nc(C3CCCNC3)n(-c3ccccc3)c2=O)cc(OC)c1', 'CCNC(=O)c1ccc(-c2cc(CN3CCC(c4ccn[nH]4)C3)ccc2OC)o1', 'Cc1ncnc2c1ccn2[C@@H]1C[C@H](Oc2ccccc2CN)[C@H]2OC(C)(C)O[C@H]21', 'Cc1cc(/C=C/C(=O)N2CCN(c3ccc([N+](=O)[O-])cc3)CC2)c(C)n1C1CC1', 'CCc1nc2c(OC)cccn2c1C(=O)N1CCN(c2ccccc2OC)CC1', 'Cc1ccc(C(C)C)c(Oc2ccc(CNCc3cnn(C)c3)cc2[N+](=O)[O-])c1', 'COc1ccc([C@@H](C)N[C@@H](C)c2ccc(C)c([N+](=O)[O-])c2)cc1Cn1cccn1', 'Cc1noc2nc(C(C)C)cc(C(=O)N(Cc3ccccn3)CC3CCCO3)c12', 'CC(=O)Nc1cccc(C(=O)N/C(=N\\\\C[C@@H]2CCCO2)Nc2cccc(C)c2)c1', 'COc1ccc2c(c1)cc(C(=O)NC[C@@H](c1ccccn1)N1CCOCC1)n2C', 'O=NC(=O)c1cnc(NC23CC4CC(CC(N=O)(C4)C2)C3)c2c1C1CCC2CC1', 'COCC1CN(c2ccnc3c2c(C2CCC2)nn3-c2ccccc2)C1.O=CO', 'COc1ccccc1CCNC(=O)CC1CCCN(c2nc3ncccc3o2)C1', 'CNC(=O)C1NN(CC2(c3cc(C)cc4ncccc34)CCCC2)CC(=O)C1=O', 'CC(C)(C)ONC(=O)c1ccc2c(c1)N=C(N1CCNCC1)c1ccccc1O2', 'CCCOc1ccc(/C=N\\\\NC(=O)c2c(C)nc3ccc(C)cn23)cc1OCC', 'COc1ccc(-c2nc3ccc(N)cn3c2CN2CCCC(C(=O)O)C2)cc1C', 'O=C(O)CC1CC(CNC(=O)CCCNc2ccccn2)=Cc2ccccc2N1', 'CC(C)c1nn(CC(=O)NC2CCOCC2)c(=O)c2cc(-c3ccccc3)cn12', 'CN1CCCCC1c1ncc2c(n1)CCN(C(=O)c1ccc3c(c1)OCCO3)C2', 'COCCNC(=O)CCN(Cc1ccco1)c1nc(C2CC2)nc2ccccc12', 'COc1ccc(C(=O)N[C@H](CC(C)C)C(=O)Nc2nc3ccccc3[nH]2)c(C)c1', 'COc1ccc(-c2nc(NCCN3CCOCC3)c3cccc(OC)c3n2)cc1', 'O=C(NCCCN1CCOCC1)c1cccc(C2NNC(=O)c3ccccc32)c1', 'CCc1ccc([C@@H]2C[C@H](c3cc(OC)c(OC)c(OC)c3)n3ncnc3N2)cc1', 'O=C(/C=C/c1cccnc1)NCc1cccc(NC(=O)CCN2CCOCC2)c1', 'CO.Cc1cc2c(nc1N1CCC(Oc3cccc(C#N)c3)CC1)CN(C)C2=O', 'COCCCC(=C(c1ccc(OC)cc1)c1ccc(OC)cc1)c1nnnn1C', 'COc1ccc([C@H]2CC(c3ccccc3)=NN2C(=O)CCC(=O)NN(C)C)cc1', 'Cn1ccc(CN2CCC(Oc3cccc4c3ccn4CC(N)=O)CC2)cc1=O', 'CC(O)CN(Cc1cccc2ccccc12)c1cc(N2CCOCC2)nc(=O)[nH]1', 'CCc1nc(-c2cc(C)c3cc(OCC(=O)N4CCOCC4)ccc3n2)c(C)[nH]1', 'COc1ccc(OCCNc2cc(C)nc(NCc3ccccc3OC)n2)cc1', 'COc1ccc2cc(C(=O)N[C@H]3CCCC[C@H]3C(=O)NC(C#N)C3CC3)[nH]c2c1', 'CC(C)[C@H](N)C(=O)NCC(=O)Nc1ccc(C(=O)N2CCc3ccccc32)cc1', 'CC/C=C1\\\\NC(=O)N(CCC(N)=O)C(C(=O)c2cc(C)cc(C#N)c2)=C1C(C)C', 'Nc1ccccc1NC(=O)/C=C/c1ccc(C=NOCCN2CCOCC2)cc1', 'CC1(C)CC(=O)C2=C(C1)NC(COCCN)=C(c1ncco1)C2c1cccnc1', 'Cc1cccc(OCCCNC(=O)Nc2ccc(-c3nc(C(C)C)no3)cc2)c1', 'COc1ccc(OC)c(Nc2nc(C)cc(Nc3ccccc3OC(C)C)n2)c1', 'CC(=O)NC1CCCN(CC(=O)Nc2ccccc2C(=O)Nc2ccccc2)C1', 'N#Cc1cccc(C(=O)N2CC3(C2)CN(CC2CC2)[C@@H](C(=O)N2CCC2)CO3)c1', 'NC(=O)C1CCCN(C(=O)c2cccc(CC3N=NC(=O)C4=C3CCCC4)c2)C1', 'COc1ccc(C)cc1NC(=O)C1(C(=O)N2CCN(c3ccccn3)CC2)CC1', 'C[C@H](C(=O)N[C@H](C)c1ccccc1)N1Cc2ccc(N3CCOCC3)nc2C1=O', 'COCCCNc1cc(Nc2ccc(OC)cc2OC)nc(-c2ccccc2)n1', 'N#CC(C(=O)NC1CCCCC1)C(=O)C1CCN(c2nc3ccccc3o2)CC1', 'NC(=O)c1ccccc1NCC(=O)Nc1ccc(C(=O)NC2CCCCC2)cc1', 'COCc1ccc(CN2CCCCC2C(=O)Nc2ccc(-n3cccn3)cc2)o1', 'Cn1cc(CN2CCC(Oc3cccc4c3ccn4CC(N)=O)CC2)ccc1=O', 'CCc1noc(CCCC(=O)NC(C)c2cccc(OCc3ccccn3)c2)n1', 'CCCCC(=O)Oc1ccc(C=C(C#N)c2nnc3n2CCCCC3)cc1OC', 'CC1=CC=C(C=C1)S(=O)(=O)N2CCCC[C@@H]2C(=O)NC3=NC(=CS3)C4=CC=C(C=C4)OC', 'CC(=O)Nc1ccc([C@@H]2O[C@H](CSc3nnc(C)s3)C[C@H](c3ccc(CO)cc3)O2)cc1', 'COc1ccc(NC(=O)c2sccc2S(=O)(=O)N2CCN(c3cccc(C)c3)CC2)cc1', 'Cc1ccc(-c2nc(CCNC(=O)c3ccccc3S(=O)(=O)N3CCOCC3)cs2)cc1', 'CCCCn1c(SCC(=O)Nc2sc3c(c2C(=O)OC)CCC3)nc2ccccc2c1=O', 'CC1(C)c2sc(=O)n(CC(=O)N3CCCCC3)c2SC2C(=O)N(c3ccccc3)C(=O)C21', 'COc1cccc(-c2csc(NC(=O)c3ccc(S(=O)(=O)N4CCCCCC4)cc3)n2)c1', 'Cc1sc(NC(=O)c2ccc(S(=O)(=O)N3CC(C)OC(C)C3)cc2)nc1-c1ccccc1', 'CCOc1ccc(-c2nc(NC(=O)c3ccc4c(c3)CC(C)N4S(C)(=O)=O)sc2C)cc1', 'O=C(c1ccc(S(=O)(=O)N2CCOCC2)cc1)N1CCC[C@@H](c2nc3ccccc3s2)C1', 'COc1ccc(NC(=O)CSc2ccccc2C(=O)Nc2nc(C(C)C)cs2)cc1OC', 'O=C(c1ccc(NS(=O)(=O)c2cccc3scnc23)cc1)N1CCC(O)(CC2CC2)CC1', 'COc1ccccc1N1CCN(C(=O)[C@H](NS(=O)(=O)c2cccs2)c2ccccc2)CC1', 'COC(=O)c1c(NC(=O)CCSc2nc3ccccc3c(=O)n2C)sc2c1CCC(C)C2', 'COCCNC(=O)c1ccc(Sc2ccc(NS(=O)(=O)c3ccc(C)c(C)c3)cc2)nc1', 'COc1ccccc1N(C)S(=O)(=O)c1ccc(C(=O)Nc2nc3c(s2)CCCCC3)cc1', 'CON(C)C(=O)c1sc(-c2ccccc2)c(C)c1-c1ccc(S(=O)(=O)N=CN(C)C)cc1', 'Cc1cccc(N2CCN(c3ccc(C(=O)O)cc3NS(=O)(=O)c3cccs3)C[C@H]2C)c1', 'CC1CCc2c(sc3nc(SCC(=O)Nc4ccc(C(=O)OC(C)C)cc4)[nH]c(=O)c23)C1', 'CSOc1ccc(SN2CCC(c3cn(CC(=O)O)c4cc(NC(C)=O)ccc34)C2)cc1', 'O=C(CCn1c(=O)sc2cc(S(=O)(=O)N3CCc4ccccc43)ccc21)N1CCCCC1', 'COc1ccc(-c2nc(NC(=O)c3cc(S(=O)(=O)N4CCCC4)ccc3C)sc2C)cc1', 'CCOC(=O)NC(=O)CSc1nc2sc3c(c2c(=O)n1-c1ccc(C)cc1C)CCCC3', 'Cc1ccc(OCC(=O)Nc2nc(-c3ccc(S(=O)(=O)N4CCCC4)cc3)cs2)cc1C', 'O=C(Cc1ccc(S(=O)(=O)N2CCCC2)s1)NCc1ccc(Cn2ccccc2=O)cc1', 'Cc1ccc(NC(=O)CN(C)C(=O)c2ccc(S(=O)(=O)NCCc3cccs3)cc2)cc1', 'CCCN1C(=O)COc2ccc(-c3csc(NS(=O)(=O)c4c(C)cc(C)cc4C)n3)cc21', 'CC1CCc2sc(-c3nnc(SCC(=O)NC(C)c4ccc5c(c4)OCCO5)o3)cc2C1', 'CCC(Sc1nc(CSc2ccccc2)cc(=O)[nH]1)C(=O)Nc1ccc(OC)cc1OC', 'CCC1OC(n2cc(C)c(=O)n(Cc3ccc(SSc4ccccn4)cc3)c2=O)CC1O', 'Cc1ccc(OCC(=O)Nc2ccc3nc(SCC(=O)N4CCOCC4)sc3c2)cc1C', 'CCC(C)NC(=O)c1ccc(Sc2ccc(NS(=O)(=O)c3ccc(OC)cc3)cc2)nc1', 'C=CS(=O)(=O)NCCCCCOc1cccc(CC#Cc2cc(O)c3nc(N)sc3c2)c1', 'Cc1cc(S(=O)(=O)N2CCN(C(=O)c3cccn(Cc4ccccc4)c3=O)CC2)c(C)s1', 'CCN(CC)S(=O)(=O)c1ccc(NC(=S)NC(=O)COc2ccc3ccccc3c2)cc1', 'Cc1ccc(S(=O)(=O)N2CCN(C(=O)c3ccc(OCc4cscn4)cc3)CC2)cc1C', 'CC(Sc1nc2cc(S(=O)(=O)N3CCCCC3)ccc2o1)C(=O)N1CCc2ccccc21', 'CC(NC(=O)CSc1nnc(CC2CCS(=O)(=O)C2)o1)c1ccc(-c2ccccc2)cc1', 'COc1cccc(CC2CCCN(C(=O)c3csc(NS(=O)(=O)c4ccccc4)n3)C2)c1', 'CCOc1ccc(-c2csc(NC(=O)C3CCCN3S(=O)(=O)c3ccc(C)cc3)n2)cc1', 'CCN(Cc1ccc2c(c1)OCO2)C(=O)CSc1nnc(-c2cc3c(s2)CC[C@H](C)C3)o1', 'CCOC(=O)c1ccc(NC(=O)CSc2nc3sc4c(c3c(=O)n2CC)CCCC4)cc1', 'CN(c1ccc(C(=O)NCc2ccc(N3CCOCC3)cc2)cc1)S(=O)(=O)c1cccs1', 'Cc1ccc(Sc2ccc(NC(=O)C3=NN(C4CCS(=O)(=O)C4)C(=O)CC3)cc2)c(C)c1', 'COc1ccc(C2(C(=O)N(CCCc3ccsc3)Cc3nc(C(=O)O)c(C)s3)CC2)nc1', 'C=CCn1/c(=N/C(=O)c2ccc(S(=O)(=O)N3CCOCC3)cc2)sc2cc(C)cc(C)c21', 'Cc1ccc(Cc2csc(N3CCC(S(=O)(=O)c4cccc([N+](=O)[O-])c4)CC3)n2)cc1C', 'CCOC(=O)C1CCN(C(=O)CSc2nc3ccsc3c(=O)n2-c2cccc(C)c2)CC1', 'COc1ccc(-c2csc(NC(=O)c3ccc(S(=O)(=O)N4CCC[C@H](C)C4)cc3)n2)cc1', 'CCCc1ccc(-c2csc(N3CCC(S(=O)(=O)c4ccc([N+](=O)[O-])cc4)CC3)n2)cc1', 'Cc1cccc(-c2nnc(SCC(=O)Nc3sc4c(c3C(=O)OC(C)C)CCCC4)o2)c1', 'CCNC(=O)CSc1nc(-c2ccccc2)c(NC(=O)COc2ccc(OCC)cc2)s1', 'C#CCCC(CC)S(=O)(=O)c1ccc(-c2ccnc(Nc3ccc(OC)c(OC)c3)n2)s1', 'Cc1ccc(NS(=O)(=O)c2ccc(NC(=O)CCCNC(=O)c3ccsc3)cc2)cc1C', 'Cc1cccc(C)c1-n1c(SCC(=O)N(C)C2CCS(=O)(=O)C2)nc2ccccc2c1=O', 'O=C(c1cccc(S(=O)(=O)NC[C@@H]2CCCO2)c1)N1CCC[C@@H]1c1nc2ccccc2s1', 'Cc1[nH]c(=O)sc1S(=O)(=O)N1CCN(C(=O)CC(c2ccccc2)c2ccccc2)CC1', 'CCOc1ccc(NC(=O)c2csc(-c3ccc(C)cc3)n2)cc1S(=O)(=O)N1CCCC1', 'Cc1cc(C(=O)OCC(=O)Nc2sc3c(c2C(N)=O)CCCC3)c(C)n1Cc1cccs1', 'Cc1sc2nc(SCC(=O)Nc3ccc4c(c3)OCCO4)n(C3CCCC3)c(=O)c2c1C', 'CCN(CC(=O)NCc1cccs1)C(=O)c1ccc(S(=O)(=O)Nc2ccc(C)cc2)cc1', 'O=c1[nH]c2cc3c(cc2cc1CN(Cc1cccs1)C(=S)NC[C@@H]1CCCO1)OCCO3', 'COCCOC(=O)C1=C(C)N=C2SCCCN2C1c1cccc(NC(=O)c2cccs2)c1', 'Cc1cccc(-n2c(SCC(=O)N(C)[C@H]3CCS(=O)(=O)C3)nc3ccccc3c2=O)c1C', 'CCOC(=O)c1c(NC(=O)COc2ncnc3sc4c(c23)CCC(C)C4)sc2c1CCC2', 'O=C(NCc1cccnc1OC1CCCC1)c1cccc(S(=O)(=O)NCc2cccs2)c1', 'COCC1CCCN1C(=O)OC1CCc2c(sc(NC(=O)/C=C/c3cccs3)c2C#N)C1', 'Cc1ccc(OCc2nc(CC(=O)Nc3ccc(S(=O)(=O)N4CCCC4)cc3)cs2)cc1', 'CCOC(=O)c1ccc(NC(=O)CCCSc2nc3sc4c(c3c(=O)[nH]2)CCCC4)cc1', 'CCOC(=O)c1c(NC(=O)c2csc(-c3ccc(C(C)C)cc3)n2)sc(C(=O)NC)c1C', 'COc1ccc(C(=O)Nc2nc(-c3ccc(C)c(C)c3)cs2)cc1S(=O)(=O)N1CCCC1', 'CN(C)S(=O)(=O)c1ccc(S(=O)(=O)Nc2ccccc2N2CCc3ccccc3C2)cc1', 'Cc1cccc(Cc2csc(N3CCC(S(=O)(=O)c4ccc([N+](=O)[O-])cc4)CC3)n2)c1C', 'Cc1ccc(-n2c(SC(C)C(=O)NC3CCS(=O)(=O)C3)nc3ccccc3c2=O)c(C)c1', 'COc1ccc(C2=NN(C(=O)CSC3=NCCS3)C(c3cccc(OC)c3OC)C2)cc1', 'CCCCOc1cccc(C(=O)NC(=S)Nc2nc3ccc(C(=O)OC(C)C)cc3s2)c1', 'O=C(CC1S/C(=N/S(=O)(=O)c2ccccc2)N(C2CCCCC2)C1=O)Nc1ccccc1', 'Cc1sc2nc(S[C@H](C)C(=O)c3ccc4c(c3)NC(=O)CO4)n(CC(C)C)c(=O)c2c1C', 'CCOC(=O)c1c(NC(=O)COc2ncnc3sc4c(c23)CC[C@@H](C)C4)sc2c1CCC2', 'O=C(COCc1nc2ccccc2s1)N1CCN(S(=O)(=O)c2ccc3c(c2)CCC3)CC1', 'CC1Sc2ccc(S(=O)(=O)N3CCC(C(=O)N4CCc5ccccc54)CC3)cc2NC1=O', 'CC(C)NS(=O)(=O)Cc1ccc(CNC(=O)c2ccccc2NC(=O)c2cccs2)cc1', 'CS(=O)(=O)Nc1cccc(CNC(=O)c2cc(-c3ccccc3)c(N3CCOCC3)s2)c1', 'CC(C)O.COc1ccc(-c2nc(NC(=O)CSc3nc4ccccc4o3)sc2C)cc1', 'COc1ccc(-n2c(SCC(=O)N3CCOCC3)nc3sc4c(c3c2=O)CCCC4)cc1', 'O=C(O)Cn1c(SCC2CCCN(S(=O)(=O)/C=C/c3ccccc3)C2)nc2ccccc21', 'COc1ccc(S(=O)(=O)N(CCc2ccccc2)CC(=O)N/N=C\\\\c2sccc2C)cc1', 'COc1cc2nccc(Oc3ccc(NC(=S)NC(=O)CCSC)c(C)c3)c2cc1OC', 'COc1ccc(C(=O)Nc2cccc(-c3nccs3)c2)cc1S(=O)(=O)N1CCCCCC1', 'C=CCCN(CC=C)S(=O)(=O)c1ccc(C(=O)/N=c2\\\\sc3cc(OC)ccc3n2C)cc1', 'O=C(/C=C/c1cccs1)NC(=S)N1CCNC(=O)C1CC(=O)OCCCc1ccccc1', 'COCCNC(=O)c1ccc(Sc2ccc(NS(=O)(=O)c3ccc(C)cc3C)cc2)nc1', 'CCOC(=O)[C@H]1CCCCN1C(=O)CSc1nc2scc(-c3ccccc3)c2c(=O)n1C', 'CCN(CC)S(=O)(=O)c1ccc(Oc2ccccc2)c(NC(=O)c2cccnc2SC)c1', 'COc1ccc(-c2nc(C(=O)NCc3cccc(S(=O)(=O)N4CCCCC4)c3)cs2)cc1', 'CCc1ccc(OCC(=O)Nc2nc(-c3ccc(S(=O)(=O)N4CCCC4)cc3)cs2)cc1', 'O=C(Cn1cc(/C=C2\\\\SC(=S)N(CC3CCCO3)C2=O)c2ccccc21)N1CCOCC1', 'COC(=O)c1c(NC(=O)COc2ncnc3sc4c(c23)CCCC4)sc2c1CCCCC2', 'CCc1ccc(Cc2csc(N3CCC(S(=O)(=O)c4ccc([N+](=O)[O-])cc4)CC3)n2)cc1', 'Cc1ccc(C(=O)N[C@@H](C(=O)NCCN2C(=O)S/C(=C\\\\c3cccs3)C2=O)C(C)C)cc1', 'CCN(Cc1ccc2c(c1)OCO2)C(=O)CSc1nnc(-c2cc3c(s2)CCC(C)C3)o1', 'Cc1ccc(-c2csc(NC(=O)c3cccc(S(=O)(=O)N4C[C@@H](C)O[C@H](C)C4)c3)n2)cc1', 'COc1ccc(S(=O)(=O)Nc2ccccc2SCCc2ccc(/C=N/N)cc2)cc1OC', 'Cc1ccc(-c2sc(NC(=O)C3CCCC3)nc2C)cc1NS(=O)(=O)c1ccc(O)cc1', 'CNS(=O)(=O)c1cccc(CNC(=O)c2ccsc2NC(=O)c2ccc(C(C)C)cc2)c1', 'CN1CCCCCC1=NS(=O)(=O)c1cccc(NS(=O)(=O)c2ccc3ccccc3c2)c1', 'CS(=O)(=O)N1Cc2ccccc2C[C@H]1C(=O)N(C[C@@H]1CCCO1)c1nc2ccccc2s1', 'C=CCn1c(SCC(=O)NCCCC(=O)OCC)nc2scc(-c3ccccc3)c2c1=O', 'COc1ccc(-c2nc(NC(=O)c3cccc(S(=O)(=O)N4CCCCC4)c3)sc2C)cc1', 'O=C(CCN1CCN(S(=O)(=O)c2cccs2)CC1)Nc1ccccc1Oc1ccccc1', 'CCS(=O)(=O)c1ccccc1C(=O)Nc1nc(-c2ccc(CCCNC(C)=O)cc2)cs1', 'O=c1[nH]c2cc3c(cc2cc1CN(Cc1cccs1)C(=S)NCC1CCCO1)OCCO3', 'Cc1ccc(Cn2c(SCC(=O)N(C)[C@@H]3CCS(=O)(=O)C3)nc3ccccc3c2=O)cc1', 'CC1Cc2cc(C(=O)N(CC3CCCO3)c3nc4ccccc4s3)ccc2N1S(C)(=O)=O', 'Cc1nc(COc2ccccc2C(=O)N2CCN(S(=O)(=O)Cc3ccccc3)CC2)cs1', 'CC(=O)c1ccc(/N=C2\\\\SCCCN2C(=O)c2cccc(S(=O)(=O)N3CCCC3)c2)cc1', 'Cn1c(=O)sc2cc(S(=O)(=O)N3CCC(C(=O)N4CCc5ccccc5C4)CC3)ccc21', 'Cc1cccc(C)c1-n1c(SC(C)C(=O)NC2CCS(=O)(=O)C2)nc2ccccc2c1=O', 'C=C(NNC(=O)CN(c1ccc(C)cc1)S(=O)(=O)c1ccc(OCC)cc1)c1cccs1', 'CCN(Cc1cccc(NC(=O)Cc2ccc(NS(=O)(=O)c3cccs3)cc2)c1)C(C)=O', 'C=CC/N=c1\\\\scc(-c2cccs2)n1N=Cc1ccc(OC(=O)OC(C)(C)C)c(OC)c1', 'COc1ccc(C=CC(=O)N(c2ccccc2)c2nc(C)cs2)cc1S(=O)(=O)NC(C)C', 'Cc1nc(-c2cccc(NC(=O)COc3ccc(S(=O)(=O)N4CCCCC4)cc3)c2)cs1', 'COc1ccc(N(Cc2ccccc2O)C(=S)Nc2cccc(S(=O)(=O)N(C)C)c2)cc1', 'COCCn1c(C)cc(/C=c2\\\\sc3n(c2=O)[C@@H](c2cccs2)C(C(=O)OC)=C(C)N=3)c1C', 'CC1Oc2ccc(-c3csc(NS(=O)(=O)c4ccc(C(C)(C)C)cc4)n3)cc2N(C)C1=O', 'CC(=O)NC(C)c1ccc(-c2csc(NC(=O)c3ccc(S(=O)(=O)C(C)C)cc3)n2)cc1', 'Cc1ccc(S(=O)(=O)/N=c2\\\\sccn2Cc2cccc(C(=O)NCC3CCCO3)c2)cc1', 'COc1ccccc1CC1CCCN(C(=O)c2ccc(S(=O)(=O)Nc3nccs3)cc2)C1', 'O=C(Nc1ncccc1OCC1CCCCC1)c1cccc(NS(=O)(=O)c2cccs2)c1', 'COc1ccccc1NS(=O)(=O)c1cc(NC(=O)Cc2cccs2)ccc1N1CCCC1', 'C=CCn1c(SC(C)C(=O)c2[nH]c(C)c(C(=O)OC)c2C)nc2scc(C3CC3)c2c1=O', 'O=C(OCC(=O)N1N=C(c2cccs2)CC1c1cccs1)C1CCN(C(=O)C2CC2)CC1', 'N#Cc1c(NC(=O)/C=C/c2ccsc2)sc2c1CCC(COC(=O)N1CCCC1CO)C2', 'Cc1nc(COc2ccccc2/C=C/C(=O)Nc2ccc(C)c(S(=O)(=O)N(C)C)c2)cs1', 'Cc1nc(COc2cccc(/C=C/C(=O)NCc3ccccc3S(=O)(=O)N(C)C)c2)cs1', 'C=CCn1c(SCC(=O)c2[nH]c(C)c(C(=O)OCC)c2C)nc2sc3c(c2c1=O)CCC3', 'CCC(C)NC(=O)c1ccc(Sc2ccc(NS(=O)(=O)c3cccc(OC)c3)cc2)nc1', 'CCCc1cc(=O)[nH]c(SCC(=O)Nc2scc(-c3ccc(C)cc3)c2C(=O)OCC)n1', 'Cc1ccc(-c2csc(NC(=O)c3ccc(S(=O)(=O)N(C)C[C@@H]4CCCO4)cc3)n2)cc1', 'CCC(=O)Nc1ccc(S(=O)(=O)Nc2ccc(CC(=O)NCc3cccs3)cc2)c(C)c1', 'COc1ccc(OC)c(-c2csc(NC(=O)C(C)SCC(=O)Nc3ccc(C)cc3)n2)c1', 'COc1ccc(NS(=O)(=O)c2cc(NC(=O)Cc3cccs3)ccc2N2CCCC2)cc1', 'O=C(c1ccccc1S(=O)(=O)N1CCOCC1)N1CCCC(c2nc3ccccc3s2)C1', 'COc1ccc(C)cc1-c1csc(NC(=O)c2cccc(S(=O)(=O)NC3CCCC3)c2)n1', 'CONC(=O)/C=C/c1ccc(C(=O)Cc2ncc(SCc3ncc(C(C)(C)C)o3)s2)cc1', 'CCCn1c(SCC(=O)Nc2sc3c(c2C(=O)OCC)CCC3)nc2ccccc2c1=O', 'CCc1cc(C(=O)NO)sc1N1CCN(S(=O)(=O)c2cccc(-c3ccccc3)c2)CC1', 'C[C@H](NS(=O)(=O)C=Cc1nn(Cc2ccccc2)c2c1CS(=O)(=O)CC2)c1ccccc1', 'Cc1ccc(-c2csc(NC(=O)c3cccc(S(=O)(=O)N4CC(C)OC(C)C4)c3)n2)cc1', 'COc1cccc(NC(=O)c2sccc2S(=O)(=O)N2CCN(c3cccc(C)c3)CC2)c1', 'COc1ccccc1N1CCN(C(=O)c2cccc(S(=O)(=O)NCc3cccs3)c2)CC1', 'CC(=O)c1cccc(N2C(SCC(=O)Nc3cc(C)ccc3C)=N[C@H]3CS(=O)(=O)C[C@H]32)c1', 'COc1ccccc1N(CC(=O)NCCSc1ccccn1)S(=O)(=O)c1ccc(C)cc1', 'CC(=O)NC(CC(=O)Nc1ccc(S(=O)(=O)N(C)Cc2ccccc2)cc1)c1cccs1', 'CC(=O)c1cccc(N2C(SCC(=O)Nc3cc(C)ccc3C)=N[C@@H]3CS(=O)(=O)C[C@H]32)c1', 'CCC(Sc1cccc(NC(C)=O)c1)C(=O)Nc1nc(-c2ccc(OC)c(OC)c2)cs1', 'COc1ccc(C(=O)Nc2nc(-c3ccc4c(c3)CCCC4)cs2)cc1S(=O)(=O)N(C)C', 'CC(NC(=O)CCSCc1nc2sc3c(c2c(=O)[nH]1)CCC3)c1ccc2c(c1)OCCO2', 'Cc1cccc(NC(=O)CSc2ncc(S(=O)(=O)c3ccc(C(C)(C)C)cc3)c(=O)[nH]2)c1', 'O=C(CN(Cc1cccs1)C(=O)CNS(=O)(=O)c1ccccc1)NCCc1ccccc1', 'COc1ccc(CN(C(=O)c2ccc3c(c2)SC2=NS(=O)(=O)CCN23)C(C)C2CC2)cc1', 'C[C@@H]1CCc2sc(-c3nnc(SCC(=O)N[C@@H](C)c4ccc5c(c4)OCCO5)o3)cc2C1', 'Cc1cccc(-n2c(SCC(=O)N(C)[C@@H]3CCS(=O)(=O)C3)nc3ccccc3c2=O)c1C', 'O=C(NCC(=O)N(Cc1cccs1)[C@H](C(=O)NC1CCCC1)c1ccco1)c1cccs1', 'CS(=O)(=O)c1ccccc1NC(=O)CSc1ncc(-c2ccccc2)n1CC1CCCO1', 'COc1ccccc1-c1nc(C(=O)NCC2CCN(S(=O)(=O)c3ccccc3)CC2)cs1', 'C=CCn1c(SCC(=O)NCc2ccc(C(=O)OCC)cc2)nc2sc(C)c(C)c2c1=O', 'Cc1ccc(-c2nc(C(=O)N3CC(C)OC(C)C3)sc2-c2ccc(S(N)(=O)=O)cc2)cc1', 'COc1ccccc1OCc1nc(C(=O)N[C@H]2CCCC[C@@H]2NC(=O)c2cccs2)cs1', 'CCOc1ccc(NS(=O)(=O)c2ccc(NC(=S)Nc3ccccc3OCC)cc2)cc1', 'CC(NC(=O)c1ccc(CNC(=O)c2cccs2)cc1)c1ccc(S(=O)(=O)N(C)C)cc1', 'CCCOc1ccc(-c2csc(NC(=O)c3ccc(S(=O)(=O)N(C)C4CC4)cc3)n2)cc1', 'CSCCC(NS(=O)(=O)c1ccccc1)C(=O)Nc1ccc(Oc2cccnc2)c(C)c1', 'Cc1ccc(S(=O)(=O)N2C=CNC(=O)[C@H]2CC(=O)N2CCSC(c3ccccc3)C2)cc1', 'Cc1sc2nc(SC(C)C(=O)Nc3ccc4c(c3)OCO4)n(C3CCCC3)c(=O)c2c1C', 'CSCC[C@@H](NC(=O)c1ccccc1)C(=O)OCC(=O)Nc1sc2c(c1C#N)CCCC2', 'CC(=O)Nc1cccc(C2OC(CSc3nnc(C)s3)CC(c3ccc(CO)cc3)O2)c1', 'CSc1cccc2sc(N(CCN3CCOCC3)C(=O)c3ccc4c(c3)OCCO4)nc12', 'CCOC(=O)[C@@H]1CCCCN1C(=O)CSc1nc2scc(-c3ccccc3)c2c(=O)n1C', 'Cc1cccc(NC(=O)CN(C)C(=O)c2cccc(S(=O)(=O)NCc3cccs3)c2)c1C', 'O=S(=O)(NCC(c1ccc2c(c1)OCO2)N1CCN(c2ccccc2)CC1)c1cccs1', 'O=C(NCc1cccc(OCc2ccccn2)c1)c1sccc1S(=O)(=O)N1CCCCC1', 'CCOc1ccc(-c2nc(C(=O)N3CCN(S(=O)(=O)Cc4ccccc4)CC3)cs2)cc1', 'CON(C)C(=O)c1cc(C)c(-c2cccc(-c3ccc(S(=O)(=O)/N=C/N(C)C)cc3)c2)s1', 'Cc1ccc(NC(=O)c2cc(-c3ccccc3)c(N3CCOCC3)s2)cc1NS(C)(=O)=O', 'COc1ccc(CSC2CC(C(=O)NN)N(S(=O)(=O)c3ccc4ccccc4c3)C2)cc1', 'Cc1cc(C(=O)COC(=O)Cc2csc(N3CCCC3=O)n2)c(C)n1CCc1cccs1', 'Cc1cc(SC(C)C(=O)Nc2ccc(S(=O)(=O)N3CCOCC3)cc2)nc2ccccc12', 'COc1ccc(-c2csc(NC(=S)NC(=O)c3cccc(OCC(C)C)c3)n2)cc1OC', 'CCOC(=O)CCCNC(=O)CSc1nc2scc(C3CC3)c2c(=O)n1-c1ccccc1', 'CSc1cccc2sc(N(CCN3CCOCC3)C(=O)C3COc4ccccc4O3)nc12', 'CCOC(=O)c1c(NC(=O)CSc2nc3ccccc3c(=O)n2CC)sc2c1CCCC2', 'O=C(CN1C(=O)CSc2ccc(S(=O)(=O)N3CCCC3)cc21)N1CCCc2ccccc21', 'COCCn1c(C)cc(C=c2sc3n(c2=O)C(c2cccs2)C(C(=O)OC)=C(C)N=3)c1C', 'CC(C)(C)NS(=O)(=O)c1ccccc1CNC(=O)c1ccc(NC(=O)c2cccs2)cc1', 'COC(=O)C1CCN(C(=O)[C@@H](C)SCc2nc3scc(-c4ccccc4)c3c(=O)[nH]2)CC1', 'CS(=O)(=O)c1ccc2nc(N(CCN3CCOCC3)C(=O)C=Cc3ccccc3)sc2c1', 'CSc1ccc2nc(N(CCN3CCOCC3)C(=O)C3COc4ccccc4O3)sc2c1', 'CCn1c(-c2ccc3c(c2)OCCO3)cnc1SCC(=O)c1ccc(CCNC(C)=O)s1', 'Cc1cccc(S(=O)(=O)Nc2cc(C(C)C)c3sc(NC(=O)C4CC4)c(C(N)=O)c3c2)c1', 'COc1ccc(OC)c(NC(=O)CSc2nc(=O)n(Cc3cccs3)c3c2CCCC3)c1', 'Cc1cccc(C)c1NS(=O)(=O)c1ccc(NC(=O)CCCNC(=O)c2ccsc2)cc1', 'COc1ccc(CCNC(=O)Cc2csc(SCC(=O)Nc3cccc(OC)c3)n2)cc1', 'Cc1ccccc1NC(=O)C1CCCN(S(=O)(=O)c2c(C)noc2/C=C/c2cccs2)C1', 'COc1ccc(NS(=O)(=O)c2cc(OC)ccc2NC(=S)NCCc2ccccc2)cc1', 'CCOC(=O)CNC(=O)CSc1nc(COc2ccccc2)nc2sc3c(c12)CCCC3', 'CCc1ccccc1NC(=O)CSC1=N[C@@H]2CS(=O)(=O)C[C@@H]2N1c1cccc(C(C)=O)c1', 'O=C(Cc1ccc(S(=O)(=O)N2CCCCC2)s1)Nc1ccc(OCc2ccccc2)nc1', 'O=C(COC(=O)CC1(Cc2nc3ccccc3s2)CCCCC1)NNC(=O)c1cccs1', 'CC[N+](CC)=c1ccc2nc3cc(Cc4ccccc4)c(N)cc3sc-2c1.O=S(=O)([O-])O', 'CC[C@H](Sc1ncc(S(=O)(=O)c2ccccc2)c(=O)[nH]1)C(=O)Nc1ccc(C(C)C)cc1', 'CCN(CC)S(=O)(=O)c1ccc(S(=O)(=O)Nc2cccc(/C=C/c3ccccn3)c2)cc1', 'COC(=O)c1ccc(C(=O)N(CCN2CCOCC2)c2nc3c(SC)cccc3s2)cc1', 'COc1ccc(-c2nc(NC(=O)C3CCCN(S(=O)(=O)c4ccccc4)C3)sc2C)cc1', 'CS(=O)(=O)c1ccc2nc(N(CCN3CCOCC3)C(=O)/C=C/c3ccccc3)sc2c1', 'COC(=O)c1c(NC(=O)CCSc2nc3ccccc3c(=O)n2C)sc2c1CCCCC2', 'CC(=O)c1ccc(S(=O)(=O)N(C)CCCC(=O)Nc2nc(-c3ccc(C)cc3)cs2)cc1', 'CCOC(=O)C=c1sc(=Cc2nc(-c3ccccc3)cs2)c(=O)n1CC(=O)N(CC)CC', 'CCN(CC(=O)NCc1cccs1)C(=O)c1cccc(S(=O)(=O)Nc2cccc(C)c2)c1', 'Cc1ccc(Sc2ccc(NC(=O)C3=NN(C4CCS(=O)(=O)C4)C(=O)CC3)cc2)cc1C', 'C=CC(=O)NC1CC2CN(S(=O)(=O)c3ccc(C(=O)NCc4ccccc4)cc3)CC2S1', 'O=C(Cn1c(=O)sc2cc(S(=O)(=O)N[C@@H]3CCCc4ccccc43)ccc21)N1CCCC1', 'Cc1ccc(C(C)C)cc1OC1CCN(c2ccc(S(=O)(=O)Nc3nccs3)cc2)C1=O', 'CC(=O)c1cccc(S(=O)(=O)N2CCC(C(=O)Nc3nc4c(C)cc(C)cc4s3)CC2)c1', 'Cc1cccc(Cn2cccc(C(=O)N3CCC(NS(=O)(=O)c4cccs4)CC3)c2=O)c1', 'CCc1ccc2nc(NC(=O)C3CCN(S(=O)(=O)c4cccc(C(C)=O)c4)CC3)sc2c1', 'Cc1cccc(-n2c(SCC(=O)NC3(C)CCS(=O)(=O)C3)nc3ccccc3c2=O)c1C', 'COc1ccc(N2CCN(S(=O)(=O)c3ccsc3C(=O)Nc3cccc(C)c3)CC2)cc1', 'COc1ccc(C=CC(=O)Nc2nc3c(C)cccc3s2)cc1S(=O)(=O)N1CCCCC1', 'CC(=O)Nc1ccc(C2OC(CSc3nnc(C)s3)CC(c3ccc(CO)cc3)O2)cc1', 'COc1ccc(CCC(=O)Nc2nc3c(s2)CN(S(=O)(=O)c2ccc(C)cc2)CC3)cc1', 'O=C(CCn1c(=O)sc2cc(S(=O)(=O)N3CCc4ccccc4C3)ccc21)N1CCCC1', 'Cc1cc(C)c(-c2csc(NC(=O)c3cccc(S(=O)(=O)N4CCOCC4)c3)n2)cc1C', 'CCOC(=O)c1c(NC(=O)CSc2nnc(-c3cccc(C)c3)o2)sc2c1CCC(C)C2', 'COc1ccc(S(=O)(=O)N2CCN(C(=O)CSc3cc(C)c4ccccc4n3)CC2)cc1', 'COc1ccc(S(=O)(=O)CCC(=O)Nc2nc3c(s2)CN(Cc2ccccc2)CC3)cc1', 'COc1cc(/C=C/C(=O)Nc2nnc(SCc3cc(C)ccc3C)s2)cc(OC)c1OC', 'O=C(Cn1cnc2sc(-c3ccccc3)cc2c1=O)N(C1CCCC1)C1CCS(=O)(=O)C1', 'COc1ccccc1-n1c(-c2ccccc2)cnc1SCC(=O)N(C)C1CCS(=O)(=O)C1', 'CNc1nc(-c2ccco2)c(C(=O)C2CCOCC2)s1.O=Cc1cnc2c(c1)CSCC2', 'CCOC(=O)C(Sc1nc2sc3c(c2c(=O)n1-c1cccc(C)c1)CCN(C)C3)C(C)=O', 'CCOC(=O)c1c(NC(=O)CSc2nc3ccccc3c(=O)n2C2CC2)sc(C)c1CC', 'CC1(C)c2sc(=O)n(CC(=O)N3CCCCC3)c2S[C@@H]2C(=O)N(c3ccccc3)C(=O)[C@@H]21', 'Cc1noc(C)c1S(=O)(=O)N1CCCN(C(=O)c2cc3c(s2)-c2ccccc2CC3)CC1', 'CCOc1ccccc1-c1nc(CC(=O)N2CCN(S(=O)(=O)c3ccccc3)CC2)cs1', 'O=C(c1cccs1)N(CCCN1CCOCC1)c1nc(-c2ccc3c(c2)OCCO3)cs1', 'O=C(c1ccc(S(=O)(=O)NCCc2cccs2)cc1)N1CCN(c2ccccc2O)CC1', 'CCOc1ccc(S(=O)(=O)N2CCN(C(=O)c3csc(-c4ccc(C)cc4)n3)CC2)cc1', 'Cc1ccc(C(=O)N[C@H](C(=O)NCCN2C(=O)S/C(=C/c3cccs3)C2=O)C(C)C)cc1', 'CC(C)Oc1ccc(C(=O)Nc2nc(-c3ccc(S(=O)(=O)N4CCCC4)cc3)cs2)cc1', 'Cc1ccc(C(=O)N[C@H](C(=O)NCCN2C(=O)S/C(=C\\\\c3cccs3)C2=O)C(C)C)cc1', 'O=C(Cn1cnc2sc(-c3ccccc3)cc2c1=O)N(C1CCCC1)[C@H]1CCS(=O)(=O)C1', 'Cc1ccc(C(=O)CSc2nnc(-c3cccc(S(=O)(=O)N4CCCCC4)c3)o2)c(C)c1', 'CCCCOc1ccc(C(=O)NC(=S)Nc2nc3ccc(C(=O)OC(C)C)cc3s2)cc1', 'CN1CCCCC/C1=N\\\\S(=O)(=O)c1cccc(NS(=O)(=O)c2ccc3ccccc3c2)c1', 'C[C@](CC1=CC=C(C=C1)O)(C(=O)O)N', 'COc1cc(C)c(C(=O)O)c(N)c1C', 'CONCc1c(C)ccc2c1OCO2', 'C#CCNC(=O)[C@H]1CC[C@@H](C(=O)O)C1', 'COc1cccc(C[C@H](C)[N+](=O)[O-])c1', 'CCOC(=O)Nc1cccc(CO)c1', 'CCC(=Cc1ccc(CC)o1)[N+](=O)[O-]', 'C=C(C#N)[C@H]1OC[C@@H]2OC(C)(C)O[C@H]21', 'COC(=O)c1cccc(CCON)c1', 'COCC(N)c1ccccc1C(=O)O', 'CCOC(=O)C1NC2CC(=C=O)C1C2', 'O=C(O)C1C2CN(C3CCC3)C(=O)C21', 'O=C(O)c1ccc(CNCC2CC2)o1', 'C#CCC(C)NC(=O)C1=COCCO1', 'COc1ccc([C@H]2CN2)c(OC)c1O', 'CC(O)CCc1ccc([N+](=O)[O-])cc1', 'Oc1cc(C2CCCN2)cc(O)c1O', 'COc1cccc(OC)c1C(C)=NO', 'CNCCOc1cc(O)c2c(c1O)C2', 'C/C=C\\\\C(=C/C=C/[N+](=O)[O-])C(=O)CC', 'CNC(=O)COc1cccc(O)c1C', 'CC(C)C(=O)c1cc(N)c(O)c(O)c1', 'COC(=O)CNc1cccc(OC)c1', 'Cc1cncc(C(=O)O)c1OC(C)C', 'COc1cccc(C(=O)CCN)c1O', 'CCCOc1ccc(C(=O)NO)cc1', 'O=C1C=C(C2CCC(O)CC2)C(=O)N1', 'CC(CO)NC(=O)/C=C/c1ccco1', 'CC(N)Cc1cc2c(cc1O)OCO2', 'CCCC(=O)Nc1ccc(O)c(O)c1', 'C/C=C1/C(=O)[C@H]2C[C@@H]1N(C)C2C(=O)O', 'Oc1ccc([C@H]2CNCCO2)cc1O', '[2H][C@@H](CO)NC(=O)OCc1ccccc1', 'O=C(O)C1(Cc2ccco2)CCCN1', 'OCCc1ccc(OC/C=N\\\\O)cc1', 'COC(=O)C(C#N)C1CCCC(=O)C1', 'Cc1cc(CO)ccc1CNC(=O)O', 'NCCCc1ccc(C(=O)O)c(O)c1', 'CC(CN)C(=O)Oc1ccc(O)cc1', 'CNC(C(=O)OC)c1ccc(O)cc1', 'COc1ccc(C)c(C(N)=O)c1OC', 'CCOc1cccc(OC)c1C(N)=O', 'CC(C)(C)Oc1ccnc(C(=O)O)c1', 'N#CC1(C(=O)OC2CC2)CCOCC1', 'CC(C1CCOC1)N1C(=O)C=CC1=O', 'Cc1cccc(CO)c1[C@H](N)C(=O)O', 'COc1c(C(C)N)ccc2c1OCO2', 'Cc1cccc(OCC(C)[N+](=O)[O-])c1', 'Cc1ccc(OCC2COCO2)nc1', 'CCCC#CC(=O)C[C@@H]1COC(=O)N1', 'COc1cc(C)cc(OC)c1C=NO', 'COc1ccc(CNCC(=O)O)cc1', 'NC[C@@H](C(=O)O)c1ccc(CO)cc1', 'CON=C1C(=O)C2CCCCC2C1=O', 'CCOc1ccc([N+](=O)[O-])cc1CC', 'COC(=O)[C@H](CC=O)c1cccn1C', 'CCOC(=O)CN(O)c1ccccc1', 'CC(=O)C1=C(O)C2(CCCC2)NC1=O', 'CC(=O)CC(=O)NC(C)c1ccco1', 'NCCCOc1cccc(C(=O)O)c1', 'COc1cc(OC)cc(C(C)=NO)c1', 'COc1cc(C(C)CC(=O)O)ccn1', 'Cc1cc(CC(C)O)ccc1[N+](=O)[O-]', 'Cc1cccnc1COC(C)C(=O)O', 'C=CN1CCC(C=C)(OC(C)=O)C1=O', 'C=C(CNCCc1ccco1)C(=O)O', 'Cc1cc(=O)cc(C)n1CCC(=O)O', 'CCOc1ccc(C(C)=NO)c(O)c1', 'NC(C(=O)O)C1CCCc2occc21', 'COC(=O)c1cccc(CC(N)O)c1', 'Cc1occc1C(=O)N1CC[C@H](O)C1', 'CC(C)N1C[C@@H](c2ccco2)OC1=O', 'NOC(=O)C(CO)Cc1ccccc1', 'O=C(O)C1CCN2C(=O)[C@H]3C[C@H]3C2C1', 'C#CC(=O)N(CC(=O)OCC)C1CC1', 'CNc1c(C)cc(C(=O)O)cc1OC', 'COc1ccc(NC(C)=O)c(O)c1C', 'CCCCC=C(C#N)C(=O)OC(C)=O', 'Cc1cc(O)ccc1CC(N)C(=O)O', 'C=O.N[C@@H](Cc1ccccc1)C(=O)O', 'CO/N=C\\\\c1cc(OC)ccc1OC', 'CCOC(=O)/C(C#N)=C1/CCOC1C', 'COc1cc(C)nc(C)c1CC(=O)O', 'CC1CNC(c2cccc(O)c2O)O1', 'C=CCNC(=O)C(=C)C(=O)OCC=C', 'CC(C)(C)OC(=O)c1cccc[n+]1[O-]', 'Cc1ccc(C(N)C2CC2C(=O)O)o1', 'CC(OCCc1cccnc1)C(=O)O', 'O=C(O)C1CCC2C3CC3C(=O)N2C1', 'COc1cc(OC)cc(C(N)C=O)c1', 'Cc1ccc(C(=O)O)cc1OCCN', 'Cc1ccc(C(N)CO)c(C(=O)O)c1', 'CC(=O)Oc1ccc([C@@H](N)CO)cc1', 'C.CNC(=O)c1ccc2c(c1)OCO2', 'Cc1cccc(OC(=O)NCCO)c1', 'CC1=C(N2CCCC2=O)C(=O)C(C)O1', 'O=C1C2C(CO)C2C(=O)N1C1CCC1', 'C=CC/N=C(\\\\C)C1=C(O)C(C)OC1=O', 'CCOc1ccc(O)c2c1OCC2N', 'COCOc1ccc(C=NO)cc1C', 'c1cc(N2CCOCC2)oc1C1CO1', 'CC#CC(=O)NCC1(C(=O)O)CCC1', 'CCOCc1ccc(C(=O)OC)cn1', 'N[C@H](Cc1ccccc1)C(O)C(=O)O', 'CC(=O)c1cc(N2CCOCC2)co1', 'COC(C)(C)O[C@H](C#N)c1ccco1', 'O=C(O)C1(c2ccc[nH]2)CCOCC1', 'COC(=O)C1=NO[C@H]2C=CC[C@H]2[C@H]1C', 'COc1ccc(C[C@H]([15NH2])C(=O)O)cc1', 'N[C@H](CCC(=O)O)c1ccc(O)cc1', 'Cc1occc1C(=O)N1CCOCC1', 'CN1C(=O)CCC1C(=CO)/C=C\\\\C=O', 'CC(C)Oc1ccc(C[N+](=O)[O-])cc1', 'O=C(NCc1ccco1)C1CCOC1', 'CC(=O)C1N=C(C2CCCC2)OC1=O', 'CCOC(=O)c1c(C)noc1C1CC1', 'CCOc1ccc(NC(=O)OC)cc1', 'NC(COC(=O)O)Cc1ccccc1', 'NC1CCOc2cc(CO)c(O)cc21', '[2H]COc1ccc(C[C@H](N)C(=O)O)cc1', 'COc1ccc([C@](C)(N)C(=O)O)cc1', 'COc1ccc(C(N)C(=O)O)cc1C', 'CC1(Cc2ccccc2)OCON1O', 'CC1=CC(=O)N(CC2CCCO2)C1=O', 'Cc1cc(CNO)cc2c1OCCO2', 'CCOC(=O)C1=C(CC)CC(=O)N=C1', 'CCN1C(=O)[C@H]2[C@@H](O)C=CC[C@H]2C1=O', 'O=[N+]([O-])CCOCC1=C[C@H]2C=C[C@@H]1C2', 'CC(O)c1ccc(COC(N)=O)cc1', 'COc1ccccc1C[C@@H](N)C(=O)O', 'CC1=C(C)C(OC(=O)C2CC2)NC1=O', 'NCC(O)COc1ccccc1C=O', 'COc1cc([C@@H]2CCN2)cc(O)c1O', 'COc1cc(N)ccc1C(C)C(=O)O', 'COCC(=O)c1cc(C)c(O)c(N)c1', 'COC(=O)CCc1c[nH]c(C(C)=O)c1', 'Cc1ccc(C(=O)NC2(CO)CC2)o1', 'CC[C@@H](N)c1ccc(C(=O)O)cc1O', 'COc1ccc(N(C)C(=O)CO)cc1', 'CCCc1ccc(CO)cc1[N+](=O)[O-]', 'Cc1cc([N+](=O)[O-])ccc1OC(C)C', 'Cc1cccc([C@H](N)[C@H](O)C(=O)O)c1', 'C=C(C)C(=O)N1CCC2CC21C(=O)O', 'CCOC(=O)c1ccnc(CCO)c1', 'CCCOC(=O)c1ncccc1CO', 'CCCc1onc(C2CC2)c1C(=O)O', 'Cc1cccc(NOCCC(=O)O)c1', 'C=C(C)C(=O)C(C=O)N1CCCC1=O', 'COc1ccc([N+](=O)[O-])c(C(C)C)c1', 'COc1ccc(C(=O)O)c(C(C)N)c1', 'C[C@H](O)CNC(=O)Oc1ccccc1', 'CC(C)c1cc(C(=O)O)cc(=O)n1C', 'CCOC(=O)Nc1cccc(O)c1C', 'C=C1CC2(CCC(N=O)CC2)OC1=O', 'CC(NC/C=C/C(=O)O)c1ccco1', 'C=CC(=O)OC(C=C)N1CCCC1=O', 'CCCOCc1cccc(C(=O)O)n1', 'CCC(=O)O.NC(=O)c1ccccc1', 'O=CNC[C@H](O)Cc1ccc(O)cc1', 'COC(=O)CCn1c(C)cccc1=O', 'COCC(C(=O)OC)c1ccccn1', 'Cc1cc(C2(C(=O)O)CC2(C)C)on1', 'COc1ccc(C(C)C)c([N+](=O)[O-])c1', 'C=C/C(C(=O)NC)=C(\\\\C=C/C)C(=O)O', 'CCc1cc(OC)cc(N)c1C(=O)O', 'OCNc1ccc2c(c1)OCCCO2', 'O=C(O)N1CCCC2(CC=CC2)C1=O', 'C=CCOC(=O)/C=C/N1CCCC1=O', 'COCc1ccc(CN)c2c1OCO2', 'CC1(O)C=CC=C(C(N)C(=O)O)C=C1', 'C=C(CCCN)C(=O)Oc1ccco1', 'ONCc1ccc(C2COCO2)cc1', 'C/C(=C\\\\c1coc(C)n1)[C@@H](O)CC=O', 'CCCOC(=O)c1c(C)cc[nH]c1=O', 'COc1ccc(OCC(C)=NO)cc1', 'COC(=O)C1=CN2C(=O)CCC2CC1', 'Cc1ccc(O)c(CC(N)C(=O)O)c1', 'COc1cccc(C(O)CN)c1C=O', 'COc1cccc(C(=O)N(C)C)c1O', 'C=CCC(=CN1CCCC1=O)C(=O)O', 'CCOc1ccccc1[C@@H]([NH3+])C(=O)[O-]', 'N[C@@H](Cc1cccc(CO)c1)C(=O)O', 'Cc1cncc(OC(C)C)c1.O=C=O', '[2H][C@@H](c1ccc(OC)cc1)[C@@]([2H])(N)C(=O)O', 'COc1ccc(C(=O)OC(C)C)cn1', 'COc1ccccc1CCN(O)C=O', 'C=C(C)COc1c[nH]c(CO)cc1=O', 'CNCc1ccc(OCC(=O)O)cc1', 'CC(=O)C(C)NC(=O)c1coc(C)c1', 'CCc1cc(C[N+](=O)[O-])cc(C)c1O', 'Cc1noc(C)c1C1(C(=O)O)CCC1', 'NC(C[C@H](O)C(=O)O)c1ccccc1', 'CC(C(=O)O)c1ccc(CON)cc1', 'COC(=O)c1c(C=O)c(C)c(C)n1C', 'CONCC(=O)OCc1ccccc1', 'CCOC(=O)COc1cccc(C)n1', 'O=C(NC1CCCOC1)c1ccoc1', 'CNCC(=O)c1ccc(O)cc1OC', 'CCCc1cc(O)c(N)cc1C(=O)O', 'C#CC(=O)N1CCC(C)CC1C(=O)O', 'COC(=O)c1ccc(C2CC2CN)o1', 'COc1cc(CO)ccc1NC(C)=O', 'CC#CC(=O)NC1CCC(C(=O)O)C1', 'Cc1c(OC(C)C)cccc1[N+](=O)[O-]', 'CC1(c2ncc(C=O)o2)CCCOC1', 'Cc1cccc(OC[C@@H](N)C(=O)O)c1', 'CN(CC=CC(=O)O)Cc1ccco1', 'NC1CCOc2ccc(O)c(CO)c21', 'CN1C(=O)C2C3CC(CC31)C2C(=O)O', 'COC(OC(=O)CN)c1ccccc1', 'COCC(=O)Nc1cccc(O)c1C', 'COC(=O)c1ccc(CN(C)O)cc1', 'Cc1c(CCO)ccc(C=O)c1ON', 'CC.O=[N+]([O-])c1ccccc1C1CO1', 'Cc1c(C=O)ccc(CC(O)O)c1N', 'C=CCC(N)c1cc(O)c(O)c(O)c1', 'CC(O)CNc1cccc(C(=O)O)c1', 'CNCc1ccc(O)c(C(=O)OC)c1', 'CC(N)OC(=O)COc1ccccc1', 'COC(=O)NCc1ccc(OC)cc1', 'CC(=O)OCc1ccn2c1C(O)CC2', 'COc1nc(C)c(C)c(C)c1C(=O)O', 'CC(C)(C)OC(=O)c1cccc(=O)[nH]1', 'O=C(O)C1CC(c2ccoc2)CCN1', 'N[C@H](c1c(O)cc(O)cc1O)C1CC1', 'O=C1C=CC(=O)N1C1CCC(O)CC1', 'C=CC(=O)OCCCC.N#CC=C=O', 'COC(=O)C1CCN1Cc1ccoc1', 'COc1cc(O)c2c(c1)CNC[C@H]2O', 'O=C1CCC2(C(=O)O)CCCC=C2N1', 'COC(=O)[C@H]1[C@H]2C[C@@H]3[C@H]1C(=O)N[C@H]3C2', 'CC(=O)OCc1cccc([C@H](C)O)n1', 'CC(C)OC(=O)/C(=C/N)c1ccoc1', 'CNCC(=O)c1ccc(CO)c(O)c1', 'CCCCc1c(O)cccc1[N+](=O)[O-]', 'CCn1cc(C)cc(CC(=O)O)c1=O', 'C=COC(=O)C(=C)CN1CCCC1=O', 'COc1ccc(NC(C)=O)c(OC)c1', 'C[C@@H](CC(=O)O)OCc1cccnc1', 'O=C1CC(C(=O)O)=C(C2CCCC2)N1', 'COc1cc(CC(N)=O)cc(OC)c1', 'CC1(C(=O)O)C=CC(N)=C2OCCC21', 'CN1C(=O)[C@@H]2[C@@H]3CC[C@@](C)(O3)[C@H]2C1=O', 'C#CCC(=O)N1CCCC[C@H]1C(=O)O', 'O=C(O)c1coc(CC2CCCC2)n1', 'CC(CC(O)[N+](=O)[O-])c1ccccc1', 'CCc1cc([N+](=O)[O-])c(C)cc1OC', 'C=CC(=C)OC(=O)C(=O)N1CCCC1', 'CO/C(C#N)=C\\\\C1[C@@H](C(=O)O)C1(C)C', 'CCC(C)Oc1ncccc1C(=O)O', 'C[C@](N)(CC(=O)O)c1ccc(O)cc1', 'COC(=O)c1cc2n(c1)CCC(O)C2', 'CCOC(=O)C(=C=O)CC(C)CC#N', 'CC(O)CONC(=O)c1ccccc1', 'CC(N)Cc1cc(O)cc(C(=O)O)c1', 'CCCC(O)c1ccccc1[N+](=O)[O-]', 'C1CSC(=O)C1NC(=O)CSCC(=O)O', 'Cc1ccsc1CNS(=O)(=O)CC(=O)O', 'CSSCCC(=O)On1c(O)ccc1O', 'C[C@H](O)c1cc([N+](=O)[O-])c(SCCO)s1', 'CCc1ccc(N(S(=O)O)S(=O)O)cc1', 'Cc1ccc(CNS(=O)(=O)CC(=O)O)s1', 'CCOC(=O)[C@@H](CC)n1c(=O)ssc1=O', 'CC(C)NS(=O)(=O)c1csc(C(=O)O)c1', 'COC(=O)C(C)NS(=O)(=O)c1cccs1', 'O=S1(=O)C=C[C@H](NC(=S)OC[C@@H]2CO2)C1', 'CCCS(=O)(=O)Nc1ccsc1C(=O)O', 'COC(=O)c1cc(S(=O)(=O)N(C)C)cs1', 'CCCNS(=O)(=O)c1ccsc1C(=O)O', 'CS(=O)Oc1cccc(NS(C)(=O)=O)c1', 'CCOC(=O)C[C@@H](C)n1c(=O)ssc1=O', 'CC(C)S(=O)(=O)Cc1scnc1C(=O)O', 'CC(C)S(=O)(=O)Cc1nc(C(=O)O)cs1', 'CS(=O)(=O)c1ccccc1CS(N)(=O)=O', 'O=C(O)CC(C(S)S)n1c(O)ccc1O', 'O=S(=O)(N=S1(=O)CCCC1)c1ccoc1', 'Cc1ccsc1S(=O)(=O)NCCC(=O)O', 'CC(C)S(=O)(=O)Cc1cnsc1C(=O)O', 'CS(=O)(=O)C(=Cc1ccc[nH]1)S(C)(=O)=O', 'CNS(=O)(=O)c1ccc(C2(O)COC2)s1', 'CN(C)S(=O)(=O)c1ccccc1S(=O)O', 'CC(C)S(=O)(=O)Cc1ncc(C(=O)O)s1', 'CC(CS(=O)(=O)Cc1cncs1)C(=O)O', 'CC(C(=O)O)N(C)S(=O)(=O)c1ccsc1', 'CSSCCC(=O)ON1C(=O)CCC1=O', 'CNS(=O)(=O)c1ccc(S(=O)O)cc1C', 'NCCC(C(=O)O)S(=O)(=O)c1cccs1', 'CCS(=O)(=O)NS(=O)(=O)c1ccccc1', 'O=C(O)CCCNS(=O)(=O)c1ccsc1', 'COc1ccc(CS)c(S(=O)(=O)O)c1N', 'CCNS(=O)(=O)c1ccc(CC(=O)O)s1', 'Cc1ccc(S(=O)(=O)N(C)CC(=O)O)s1', 'O=S1(=O)C=C[C@@H](NC(=S)OC[C@@H]2CO2)C1', 'CS(=O)(=O)Nc1ccc(S(C)(=O)=O)cc1', 'CCOC(=O)C[C@H](C)n1c(=O)ssc1=O', 'CCS(=O)(=O)Cc1ncc(CC(=O)O)s1', 'COC(=O)c1sc(CS(C)(=O)=O)nc1C', 'Cc1ccc(S(=O)(=O)NCCC(=O)O)s1', 'COC(=O)c1scc(C)c1NS(C)(=O)=O', 'Cc1csc(S(=O)(=O)C(C)(C)C(=O)O)n1', 'O=C(O)CC(C(S)S)N1C(=O)CCC1=O', 'CN(Cc1cccs1)S(=O)(=O)CC(=O)O', 'CCOC(=O)N(C)S(=O)(=O)c1cccs1', 'COC(=O)CCNS(=O)(=O)c1cccs1', 'Cc1cc(S(C)(=O)=O)cnc1S(C)(=O)=O', 'C[C@H](NS(=O)(=O)CC(=O)O)c1cccs1', 'Cc1ncc(CC(C(=O)O)S(C)(=O)=O)s1', 'CS(=O)(=O)Cc1ccccc1S(N)(=O)=O', 'O=S(=O)(c1cccs1)N1CC(O)C(O)C1', 'CC(C)NS(=O)(=O)c1sccc1C(=O)O', 'CC(CC(=O)ON1C(=O)CCC1=O)SS', 'Cc1nc(SCC(O)CO)sc1C(=O)O', 'CCNS(=O)(=O)c1c(C)csc1C(=O)O', 'CCCS(=O)(=O)Nc1ccc(C(=O)O)s1', 'CNS(=O)(=O)c1ccc(S(C)(=O)=O)cc1', 'CCN(C)S(=O)(=O)c1ccc(C(=O)O)s1', 'CCOC(=O)CNS(=O)(=O)c1cccs1', 'Cc1nc(CS(=O)(=O)C(C)C(=O)O)cs1', 'COC(=O)c1sccc1S(=O)(=O)CCN', 'CNS(=O)(=O)c1ccsc1CC(=O)OC', 'CS(=O)(=O)OC(=O)C[C@@H](N)c1cccs1', 'CC(C)S(=O)(=O)Cc1cnc(C(=O)O)s1', 'CCCOSOc1csc(C(=O)O)c1N', 'CS1(C)CC(=O)c2cc(S(N)(=O)=O)oc21', 'CC(NS(=O)(=O)CC(=O)O)c1ccsc1', 'CCOC(=O)c1csc(CS(C)(=O)=O)n1', 'CC(=O)[C@H]1S/C(=C/[N+](=O)[O-])SC[C@@]1(C)O', 'COC(=O)c1nc(CS(C)(=O)=O)sc1C', 'CNS(=O)(=O)c1cc(C)sc1CC(=O)O', 'CC(C)SCC1=CN=C(C(=O)O)S1(=O)=O', 'O=C(O)Cc1csc(SCC(O)CO)n1', 'CS(=O)(=O)NCc1ccc(CC(=O)O)s1', 'CC(C)NS(=O)(=O)c1ccsc1C(=O)O', 'CC(C(=O)O)S(=O)(=O)NCc1ccsc1', 'Cc1nc(CS(=O)(=O)CC(=O)O)sc1C', 'O=S(=O)(c1sccc1O)N1CCOCC1', 'COCCS(=O)Cc1csc(C(=O)O)n1', 'CN(Cc1ccsc1)S(=O)(=O)CC(=O)O', 'Cc1ccsc1S(=O)(=O)NC(C)C(=O)O', 'CC(Nc1sccc1S(C)(=O)=O)C(=O)O', 'Cc1ccc(S(=O)(=O)N[C@H](C)C(=O)O)s1', 'CS(=O)(=O)Cc1cccc(S(N)(=O)=O)c1', 'O=NC(=O)CSC1CCC1SCC(=O)O', 'Cc1ccc(C(=O)NCCS(=O)(=O)O)s1', 'CC(C)SCC1=NC=C(C(=O)O)S1(=O)=O', 'COC(=O)NCCc1ccc(S(=O)O)s1', 'O=S1(=O)CC=C(NC(=S)OCC2CO2)C1', 'CC(C)(c1cc(C(=O)O)ns1)S(C)(=O)=O', 'O=C(O)COCC(=S)NC1CCSC1=O', 'CCCOC(=O)c1sccc1S(N)(=O)=O', 'CS(=O)(=O)Cc1nc(CCC(=O)O)cs1', 'CC(C)S(=O)(=O)Cc1cc(C(=O)O)sn1', 'O=C(O)CCS(=O)(=O)NCc1ccsc1', 'CS(=O)(=O)CS(=O)(=O)Nc1ccccc1', 'O=C(O)CS(=O)(=O)NCCc1ccsc1', 'CC(C)S(=O)(=O)Cc1csc(C(=O)O)n1', 'COC(=O)c1scc(NS(C)(=O)=O)c1C', 'NS(=O)(=O)c1ccc(C2(O)CCOC2)s1', 'CCOC(=O)c1cc(S(N)(=O)=O)c(C)s1', 'CSCCNS(=O)(=O)c1ccc(C=O)o1', 'CC(C)OC(=O)c1csc(S(N)(=O)=O)c1', 'CCCc1cc(S(N)(=O)=O)sc1C(=O)O', 'CNC(=O)C(OS(C)(=O)=O)c1cccs1', 'CCN(C)S(=O)(=O)c1sccc1C(=O)O', 'Cc1csc(S(=O)(=O)N[C@H](C)C(=O)O)c1', 'CS(=O)(=O)NS(=O)(=O)Cc1ccccc1', 'NS(=O)CCOS(=O)(=O)c1ccccc1', 'CC(C)(C)OC(=O)Cn1c(=O)ssc1=O', 'CS(=O)(=O)SCc1ccc([NH+]([O-])O)cc1', 'CCOc1ccsc1C(=O)NS(C)(=O)=O', 'Cc1nc(C(O)C(O)CS)sc1C(=O)O', 'CS(=O)(=O)N(c1ccccc1)S(C)(=O)=O', 'O=S1(=O)CC=C(NC(=S)OC[C@H]2CO2)C1', 'CS(=O)(=O)Cc1ncc(CCC(=O)O)s1', 'CCc1nc(S(C)(=O)=O)sc1C(=O)OC', 'CS(=O)(=O)c1ccc(CS(N)(=O)=O)cc1', 'O=S1(=O)C=C[C@H](NC(=S)OC[C@H]2CO2)C1', 'CC(C)c1cc(S(N)(=O)=O)sc1C(=O)O', 'CS(=O)(=O)Nc1ccccc1S(C)(=O)=O', 'CC(C)SCC1=NC(C(=O)O)=CS1(=O)=O', 'CS(=O)(=O)c1cc(N)cc(S(C)(=O)=O)c1', 'CC1(C)Sc2oc(S(N)(=O)=O)cc2C1O', 'CC(C(=O)O)S(=O)(=O)NCc1cccs1', 'CC(C)C(=NO)c1cc(S(=O)(=O)O)cs1', 'COC(=O)CN(C)S(=O)(=O)c1cccs1', 'CCOC(=O)c1ccsc1NS(C)(=O)=O', 'O=C(O)c1nc(CSCC(O)CO)cs1', 'Cc1cc(C)c(S(=O)(=O)NCC(=O)O)s1', 'CC(NS(=O)(=O)CC(=O)O)c1cccs1', 'CS(=O)(=O)c1cccc(N)c1S(C)(=O)=O', 'CCc1nc(S(=O)(=O)CC)sc1C(=O)O', 'CC1(c2ncc(S(C)(=O)=O)s2)OCCO1', 'Cc1nc(CS(=O)(=O)CCC(=O)O)cs1', 'Cc1csc(S(=O)(=O)N[C@@H](C)C(=O)O)c1', 'CS(=O)(=O)CCOC(=O)c1sccc1N', 'CN(C)S(=O)(=O)c1ccc(S(=O)O)cc1', 'CC[C@H](NS(=O)(=O)c1cccs1)C(=O)O', 'O=C(O)[C@@H]1CC2(CN1C(=O)O)SCCS2', 'CCS(=O)(=O)c1ccccc1S(N)(=O)=O', 'CS(=O)(=O)c1ccc(S(C)(=O)=O)c(N)c1', 'CN(C)S(=O)(=O)c1ccc(CC(=O)O)s1', 'CNS(=O)(=O)CS(=O)(=O)c1ccccc1', 'Cc1cc(S(C)(=O)=O)ccc1S(N)(=O)=O', 'CC(CC(=O)O)NS(=O)(=O)c1cccs1', 'CSC(CS)C(=O)ON1C(=O)CCC1=O', 'CS(=O)(=O)Cc1ccc(S(N)(=O)=O)cc1', 'Cc1sc(C(C)S(C)(=O)=O)nc1C(=O)O', 'CCCOC(=O)c1ccc(S(N)(=O)=O)s1', 'CC(S)(S)C(C(=O)O)n1c(O)ccc1O', 'Cc1ccsc1S(=O)(=O)N(C)CC(=O)O', 'CS(=O)(=O)c1cccc(CS(N)(=O)=O)c1', 'CCN(C)S(=O)(=O)c1cc(C(=O)O)cs1', 'CCCS(=O)(=O)Cc1csc(C(=O)O)n1', 'CC(=O)OCc1sc(S(N)(=O)=O)cc1C', 'CCc1cc(C(=O)O)c(NS(C)(=O)=O)s1', 'CCOC(=O)C(=C1SCCCS1)[N+](=O)[O-]', 'CCNS(=O)(=O)c1ccccc1S(=O)O', 'C[C@@H](NS(=O)(=O)CC(=O)O)c1cccs1', 'COC(=O)CNS(=O)(=O)c1ccc(C)s1', 'CNS(=O)(=O)c1sc(C)cc1CC(=O)O', 'CC(C)(c1cc(C(=O)O)sn1)S(C)(=O)=O', 'COC(=O)c1csc(C(C)S(C)(=O)=O)n1', 'CCS(=O)(=O)c1cccc(S(N)(=O)=O)c1', 'CCCS(=O)(=O)Cc1ncc(C(=O)O)s1', 'Cc1nc(S(=O)(=O)C(C)C)c(C(=O)O)s1', 'Cc1csc(S(=O)(=O)NC(C)C(=O)O)c1', 'CNc1sc(S(C)(=O)=O)cc1C(=O)OC', 'CS(=O)(=O)CS(=O)(=O)c1ccccc1N', 'COC(=O)c1sc(C)c(S(C)(=O)=O)c1N', 'CC(CNS(=O)(=O)c1cccs1)C(=O)O', 'CS(=O)(=O)CS(=O)(=O)c1ccc(N)cc1', 'CC(C)SCC1=C(C(=O)O)S(=O)(=O)N=C1', 'Cc1ccc(S(C)(=O)=O)nc1S(C)(=O)=O', 'CS(=O)(=O)c1ccc(N)c(S(C)(=O)=O)c1', 'CCOC(=O)c1cnc(CS(C)(=O)=O)s1', 'CCOC(=O)c1cc(CS(C)(=O)=O)ns1', 'CCc1scc(C(=O)OC)c1S(N)(=O)=O', 'CC(C)SCC1=NS(=O)(=O)C(C(=O)O)=C1', 'COC(=O)c1cnc(C(C)S(C)(=O)=O)s1', 'CCCS(=O)(=O)c1nc(C)sc1C(=O)O', 'NS(=O)(=O)CCS(=O)(=O)c1ccccc1', 'CCOC(=O)c1ccc(S(=O)(=O)NC)s1', 'CCCNS(=O)(=O)c1sccc1C(=O)O', 'Cc1csc(CS(=O)(=O)CCC(=O)O)n1', 'O=C(O)CNS(=O)(=O)CCc1cccs1', 'CCC(C(=O)O)S(=O)(=O)Cc1nccs1', 'CNS(=O)(=O)c1c(C(=O)OC)csc1C', 'CC1C(C(=O)O)SC(=S)N1CCC(=O)O', 'CCCOC(=O)c1csc(S(N)(=O)=O)c1', 'Cc1ccsc1S(=O)(=O)N[C@H](C)C(=O)O', 'O=C(O)CCCNS(=O)(=O)c1cccs1', 'COC(=O)c1sc(C)cc1NS(C)(=O)=O', 'CCOC(=O)NS(=O)(=O)c1ccc(C)s1', 'CNC(=O)c1ccccc1.O=S(O)(O)=S', 'CNS(=O)(=O)c1c(C)sc(C)c1C(=O)O', 'Cc1csc(CS(=O)(=O)C(C)C(=O)O)n1', 'Cc1c(S(=O)(=O)C(C)C)csc1[N+](=O)[O-]', 'CS(=O)(=O)N(CC(=O)O)Cc1ccsc1', 'CCOC(=O)c1cnc(S(=O)(=O)CC)s1', 'CC(C)(C(=O)O)S(=O)(=O)Cc1nccs1', 'O=S1(=O)CC=C(NC(=S)OC[C@@H]2CO2)C1', 'COC(=O)Cc1nc(C)c(S(C)(=O)=O)s1', 'CN1C[SH+]c2ccccc21.O=S(=O)([O-])O', 'COC(=O)c1ccsc1N(C)S(C)(=O)=O', 'CCONC=Cc1ccc(S(=O)(=O)O)s1', 'CCN(C)S(=O)(=O)c1ccsc1C(=O)O', 'Cc1cc(S(=O)(=O)NCC(=O)O)c(C)s1', 'O=S1(=O)C=C[C@@H](NC(=S)OC[C@H]2CO2)C1', 'CC(c1nc(CC(=O)O)cs1)S(C)(=O)=O', 'COc1ccc(COS(=O)(O)=S)cc1N', 'CC(C)SCC1=C(C(=O)O)C=NS1(=O)=O', 'Cc1ccsc1S(=O)(=O)N[C@@H](C)C(=O)O', 'CNS(=O)(=O)c1ccccc1S(C)(=O)=O', 'CC(C)/C(=N\\\\O)c1cc(S(=O)(=O)O)cs1', 'CONS(=O)(=O)c1cccc(S(C)=O)c1', 'CCCS(=O)(=O)c1csc(C(=O)O)c1N', 'CNCC(C(=O)c1cccs1)S(=O)(=O)O', 'CCOC(=O)c1csc(C)c1S(N)(=O)=O', 'CC(=O)OSCC(=O)NC1CCSC1=O', 'Cc1ccc(S(C)(=O)=O)cc1S(N)(=O)=O', 'CN(C)c1ccc(O)c(SS(=O)(=O)O)c1', 'CCC(NS(=O)(=O)c1cccs1)C(=O)O', 'CC(C(=O)O)N(C)S(=O)(=O)c1cccs1', 'Cc1ccc(S(=O)(=O)CS(N)(=O)=O)cc1', 'Cc1ccc(S(=O)(=O)NC(C)C(=O)O)s1', 'CC(C)(C(=O)O)S(=O)(=O)Cc1cncs1', 'CS(=O)(=O)N(CC(=O)O)Cc1cccs1', 'Cc1ccc(S(N)(=O)=O)c(S(C)(=O)=O)c1', 'CN(C)CC(=O)c1cc(S(=O)(=O)O)cs1', 'CC[C@@H](NS(=O)(=O)c1cccs1)C(=O)O', 'CCC(=O)N(C(=O)CC)C1(C(=O)O)SS1', 'CCC(C(=O)O)S(=O)(=O)Cc1cncs1', 'COc1cc(S(=O)(=O)O)c(N)cc1CS', 'COC(=O)c1sccc1S(=O)(=O)N(C)C', 'CC(C)S(=O)(=O)c1csc(C(=O)O)c1N', 'Cc1ncc(CS(=O)(O)=S)c(CO)c1O', 'CCOC(=O)c1cc(NS(C)(=O)=O)cs1', 'O=C(O)CCC1C(CO)=CSN1C(=O)S', 'CCS(=O)(=O)Nc1c(C)csc1C(=O)O', 'O=C(O)CC1CSC(=S)N(CCO)C1=O', 'Cc1nc(C(C)S(C)(=O)=O)sc1C(=O)O', 'O=S(=O)(c1cccs1)N1C[C@@H](O)[C@@H](O)C1', 'O=C1NC(=O)C(SCCO)=C1SCCO', 'CN(CCC(=O)O)S(=O)(=O)c1cccs1', 'Cc1csc(S(=O)(=O)NCCC(=O)O)c1', 'CC(C)SCC1=CS(=O)(=O)C(C(=O)O)=N1', 'CCCNS(=O)(=O)c1cc(C(=O)O)cs1', 'CCc1ccc(S(=O)(=O)NCC(=O)O)s1', 'CCCS(=O)(=O)Nc1sccc1C(=O)O', 'CCN(C)S(=O)(=O)c1csc(C(=O)O)c1', 'CC(C)S(=O)(=O)Nc1ccc(C(=O)O)s1', 'OC[C@@H]1O[C@@H](Sc2nccs2)[C@H](O)[C@H]1O', 'CC1=CC(=NO1)NC(=O)[C@H](CC2=CC=CC=C2)NC(=O)C3=CC=CO3', 'O=C(Cn1c(=O)oc2ccccc21)N1CC(COc2cccnc2)C1', 'CC(=O)Nc1ccc(NC(=O)CCn2c(=O)oc3ccccc32)cc1', 'COc1cc(/C=N\\\\NC(=O)COc2ccc(C#N)cc2)cc(OC)c1', 'COc1ccc(C(=O)Nc2cccc(-c3nnc(C)o3)c2)c(OC)c1', 'O=C(Cc1ccc([N+](=O)[O-])cc1)N[C@H]1CC(=O)N(c2ccccc2)C1', 'Cc1cc([N+](=O)[O-])ccc1C(=O)N[C@@H](C)c1ccc2c(c1)CC(=O)N2', 'O=C(Cn1c(=O)[nH]c2ccccc2c1=O)NC(CO)c1ccccc1', 'COc1ccccc1C(=O)NCCn1nc(-c2ccco2)ccc1=O', 'CC(N)C(=O)Nc1cccnc1COc1ccc2ccc(=O)oc2c1', 'CC1Oc2ccccc2N(CC(=O)Nc2cccc(C(N)=O)c2)C1=O', 'Cc1cc2c(c(=O)[nH]1)C(c1ccc3c(c1)n(C)c(=O)n3C)CC(=O)O2', 'Cc1ccc(-c2cc(C(=O)NCCc3ccc4c(c3)OCO4)n[nH]2)o1', 'O=C(Cc1ccccc1)NCC(=O)N/N=C/c1ccc(C(=O)O)cc1', 'COC(=O)Nc1cccc(OC(=O)N(CC#N)c2cccc(C)c2)c1', 'COc1ccc2oc(C(=O)N3CC[C@@H](Oc4ncccn4)C3)cc2c1', 'COc1ccc(-c2nc(C)nn2-c2ccc3c(c2)OCCO3)c(O)c1', 'Cc1cc2c(C(=O)NC(CCc3cnccn3)C(=O)O)cccc2o1', 'COc1ccccc1-c1nc(C2CC(=O)N(Cc3ccco3)C2)no1', 'COc1cc(C#N)ccc1OCC(=O)N[C@@H](C(N)=O)c1ccccc1', 'COc1ccc(CC(=O)C(C#N)C(=O)Nc2ccccn2)cc1OC', 'Nc1ccc([N+](=O)[O-])cc1C#CCCNC(=O)OCc1ccccc1', 'N#Cc1cc(-c2ncc(C(=O)O)cn2)ccc1OCC1CCOCC1', 'Cc1ccc2onc(CNC(=O)Nc3ccc4c(c3)OCCO4)c2c1', 'COc1ccc(C2=C[C@@H](c3cccc([N+](=O)[O-])c3)N(C(C)=O)N2)cc1', 'COC(=O)/C(=C/c1ccc(OC)cc1OCc1ccccc1)N=[N+]=[N-]', 'O=C1N/C(=C\\\\c2ccc(N3CCOCC3)o2)C(=O)N1c1ccccc1', 'COc1ccc(OC)c(NC(=O)c2c(-c3cccnc3)noc2C)c1', 'COc1ccccc1CNC(=O)COc1nnc(-c2ccccc2)o1', 'Cc1cc2nc(COc3ccc(NC(=O)C4CC4)cc3)cc(=O)n2o1', 'CN1C(=O)C(=Cc2ccc(N(C)c3ccccc3)o2)C(=O)N(C)C1=O', 'C[C@H](NC(=O)CN1C(=O)C(=O)N(C)C1=O)c1cccc2ccccc12', 'Cc1ccc(NC(=O)CN2C(=O)CCc3cc([N+](=O)[O-])ccc32)cc1', 'O=C(N[C@@H](Cc1c[nH]c2ccccc12)C(=O)O)c1cc(C2CC2)on1', 'COc1ccc(NC(=O)Cc2noc3ccccc23)cc1NC(C)=O', 'C[C@@H]1CN(C(=O)c2cn[nH]c2-c2cc3ccccc3o2)C[C@H]1C(=O)O', 'COc1ccccc1CNC(=O)Cn1nc(-c2ccco2)ccc1=O', 'Cc1ccn(CCc2nc(Cc3ccccc3)no2)c(=O)c1C(=O)O', 'COc1ccc(CCC(=O)Nc2ccc3c(=O)[nH][nH]c(=O)c3c2)cc1', 'Cc1cc(C(=O)Nc2ccc(N3CCCC3=O)cc2)ccc1[N+](=O)[O-]', 'COC(=O)c1cc(CNC(=O)c2n[nH]c3ccccc23)ccc1OC', 'COc1ccc(-c2nonc2NC(=O)c2ccccc2C)cc1OC', 'Cn1c(=O)n(CCNC(=O)c2ccc3c(c2)OCO3)c2ccccc21', 'C=CCOC(=O)c1cc(C)cc(-n2cc(C#N)c(N)c2C(=O)OC)c1', 'O=C(CCc1nc(-c2ccoc2)no1)NC1c2ccccc2CC1O', 'COc1cc(OC)cc(-c2nnc(NC(=O)c3ccccc3C)o2)c1', 'CCOC(=O)c1cc(-c2ccccc2)nc2c1c(=O)[nH]c(=O)n2CC', 'Cc1c(NC(=O)c2ccc([N+](=O)[O-])cc2)cccc1NC(=O)C1CC1', 'CCOc1ccc(NC(=O)c2nc3ccccc3n2CC(=O)O)cc1', 'O=C(O)c1cc2cc(NC(=O)c3ccnn3C3CCCC3)ccc2o1', 'CC(=O)c1c[nH]c(C(=O)O[C@H](C)c2nnc(-c3ccc(C)cc3)o2)c1', 'Cc1cc(/C=C2\\\\NC(=O)N(CC(=O)O)C2=O)c(C)n1-c1ccccc1', 'CC(=O)c1c(C)[nH]c(C(=O)COC(=O)c2cn3ccccc3n2)c1C', 'O=C(c1ccc([N+](=O)[O-])cc1)N1CC[C@H]2C[C@H](O)c3ncccc3[C@H]21', 'COc1ccc(CNC(=O)C(=O)Nc2ccc(C#N)cc2)cc1OC', 'COc1ccc(OC)c(NC(=O)c2cnc3ccc(C)cn3c2=O)c1', 'CCn1nc(C(=O)Nc2ccc(OC)c(O)c2)c2ccccc2c1=O', 'Cc1nnc([C@]23COC[C@H]2CN(C(=O)c2cc4ccccc4o2)C3)o1', 'COc1ccc(NC(=O)COc2ccccc2-c2noc(C)n2)cc1', 'CCOc1cc(C=NNC(=O)COc2ccc(C#N)cc2)ccc1O', 'COc1ccc2nc(C(=O)NCC(=O)NCc3ccco3)ccc2c1', 'COc1ccc(CC(=O)Nc2nnc(-c3ccc(OC)cc3)o2)cc1', 'NC(CC(=O)O)c1cn(Cc2ccccc2)c2ccc([N+](=O)[O-])cc12', 'COC(=O)C(c1c[nH]c2ccccc12)C(C[N+](=O)[O-])c1cccnc1', 'COc1ccc(-c2nc(NC(=O)COc3ccccc3C)no2)cc1', 'C[C@@H](OC(=O)/C=C\\\\c1cccc2cccnc12)C(=O)N1CCNC1=O', 'NCCCN1C(=O)/C(=C\\\\c2ccc([N+](=O)[O-])cc2)Oc2ccccc21', 'CC1Oc2ccc(NC(=O)CNC(=O)c3ccccc3)cc2NC1=O', 'Cc1ccc(N2C[C@@H](NC(=O)c3ccc([N+](=O)[O-])cc3)CC2=O)cc1', 'CCOC(=O)C(=Cc1cccc(Oc2ccc(OC)cc2)c1)N=[N+]=[N-]', 'COc1ccccc1CNC(=O)c1c(O)nc2ccc(C)cn2c1=O', 'O=C(CCNC(=O)[C@H]1Cc2ccccc2C(=O)O1)Nc1ccncc1', 'O=C1C[C@@H](c2ccccc2)N(C(=O)c2cccc([N+](=O)[O-])c2)CCN1', 'COc1cccn2c(C(=O)NCc3ccc(C(=O)O)cc3)c(C)nc12', 'CN1C(=O)CCc2cc(NC(=O)Cc3ccc([N+](=O)[O-])cc3)ccc21', 'CC1(O)CC(c2ccc([N+](=O)[O-])cc2)=NN1C(=O)Cc1ccccc1', 'COc1ccc(-c2cc(CC(=O)Nc3ccccn3)no2)cc1OC', 'COc1ccc2cc(NC(=O)COc3c[nH]c(C)cc3=O)cnc2c1', 'COc1cccc(OC)c1C(=O)NCc1nnc(-c2ccccc2)o1', 'CC[C@@]1(c2ccccc2)NC(=O)N(/N=C/c2cccc(O)c2O)C1=O', 'NC(=O)COc1ccc(C=NN2C(=O)C3C4C=CC(C4)C3C2=O)cc1', 'O=C(NC(Cc1[nH]nc2ccccc12)C(=O)O)OCc1ccccc1', 'CCN1C(=O)Cc2cc(NC(=O)c3cccc([N+](=O)[O-])c3C)ccc21', 'Cc1oc2ncn(C)c(=O)c2c1C(=O)N[C@H]1CCOc2ccccc21', 'CN1C(=O)COc2cc(NC(=O)CNC(=O)c3ccccc3)ccc21', 'COc1ccc(C2=NN(C(C)=O)[C@@H](c3ccccc3[N+](=O)[O-])C2)cc1', 'O=C(O)c1cnn2cc(-c3ccc(OCC4CCOC4)cc3)cnc12', 'CCOc1ccc(/C=C/C(=O)Nc2ccc3c(n2)NC(=O)CO3)cc1', 'COc1cccc(OCc2ccc(C(=O)Nc3nccc(C)n3)o2)c1', 'CCN(C)c1ccc([N+](=O)[O-])cc1CN1C(=O)c2ccccc2C1=O', 'Cc1ccccc1-c1noc(=O)n1Cc1cccc(OCC(N)=O)c1', 'COc1cccc(CC(=O)Nc2nnc(-c3ccccc3OC)o2)c1', 'CCc1noc(C)c1C(=O)Nc1cccc(NC(=O)c2ccco2)c1', 'COc1ccc(C(=O)NCC2N=NC(=O)c3ccccc32)c(OC)c1', 'COc1ccc(C)cc1NC(=O)Cn1nc(-c2ccco2)ccc1=O', 'O=c1c2cc([N+](=O)[O-])ccc2ncn1CC(O)CCc1ccccc1', 'COc1cc2c(cc1NC(=O)CC(C)=NNC=O)oc1ccccc12', 'COc1ccccc1NC(=O)c1ccc(CN2C(=O)CNC2=O)cc1', 'CC[C@@H](OC(=O)c1ccc2ccccc2n1)C(=O)Nc1cc(C)on1', 'COc1ccc(-c2nc(COC(=O)c3cccc(C)c3N)no2)cc1', 'C[C@@H]1CC(=O)Nc2ccccc2N1C(=O)COC(=O)c1ccncc1', 'C=CCOc1cc(OCC(=O)OC)ccc1-c1nc2ncccc2[nH]1', 'O=C(OCC1CCC(n2cc3cc[nH]c3nc2=O)O1)c1ccccc1', 'COc1ccc([C@H](C)NC(=O)c2cccn3nccc23)cc1C(=O)O', 'COc1cccc(-c2noc(C3CCCN3C(=O)c3ccoc3)n2)c1', 'O=C(NCc1cccc(N2CCCC2=O)c1)c1ccc(C(=O)O)nc1', 'O=C(c1ccco1)N1CC[C@]2(C1)Cn1c(-c3ccco3)cnc1CO2', 'O=C(CCOc1ccccc1)Nc1ccc(C2NC(=O)NC2=O)cc1', 'O=C(CCC1NC(=O)c2ccccc2NC1=O)Nc1ccc(O)cc1', 'COC(=O)c1cccc(NC(=O)C2CC(=O)N(c3cccnc3)C2)c1', 'COc1ccc(-c2cn3cc(NC(=O)CCC(=O)O)ccc3n2)cc1', 'C=C/C=[O+]/c1cc2c(OC[C@@H]3CCC(=O)N3)nccc2cc1C([NH-])=O', 'COc1ccc(OCc2nc(C(=O)NCc3ccncc3)co2)cc1', 'CCOC(=O)c1c(N)c2cccc(-c3cnccc3OC)c2[nH]c1=O', 'COc1ccc(/C=C/C(=O)n2nnc3ccccc32)c(OC)c1OC', 'COc1cccc(-c2ccc(Nc3cc(=O)n(O)c(=O)n3C)cc2)c1', 'CC(=O)c1cc(C(=O)O[C@@H](C)c2nc3ccccc3c(=O)[nH]2)n(C)c1', 'CC(c1cc2ccccc2o1)N(C)C(=O)c1ccc(N)c([N+](=O)[O-])c1', 'C[C@H](CC(=O)c1ccco1)NC(=O)Cn1c(=O)cnc2ccccc21', 'C#CCOc1cc(CNC(=O)C(=O)Nc2cccnc2)ccc1OC', '[H]/N=C1/C2=C(CC(C)(C)CC2=O)O[C@@H](c2ccc([N+](=O)[O-])cc2)C1C#N', 'COc1ccc(O)c([C@@H](C)NC(=O)C(=O)Nc2ccc(C#N)cc2)c1', 'COc1cccc(NC(=O)CCN2C(=O)N=C3C=CC=CC3C2=O)c1', 'COc1ccc2nc(CNC(=O)[C@H]3COc4ccccc4O3)[nH]c2c1', 'CN(C)CC#Cc1ccc2c(c1)C(=O)N(C1CCC(=O)NC1=O)C2=O', 'Cc1cc(/C=C2/NC(=O)N(C)C2=O)c(C)n1-c1ccc2c(c1)OCO2', 'O=[N+]([O-])c1cnn(CC(O)COc2ccc(-c3ccccc3)cc2)c1', 'COc1cc(CN(c2ccc(C#N)cc2[N+](=O)[O-])C2CC2)ccc1O', 'Cc1cc(O)cc(=O)n1CC(=O)Nc1ccc2ccc(=O)n(C)c2c1', 'COc1ccc(C(=O)NCc2nc(-c3ccc(OC)cc3)no2)cc1', 'Cc1cc2c(cc1C)N(C(=O)c1ccc([N+](=O)[O-])cc1)CCC(=O)N2', 'COc1cc2c(cc1OC)C(c1ccc([N+](=O)[O-])cc1)=NN=C(C)C2', 'CN(C)CCNc1ccc([N+](=O)[O-])c2c1C(=O)c1ccccc1C2=O', 'C[C@H]1C[C@H]1C(=O)Nc1cccc(C(=O)Nc2cccc([N+](=O)[O-])c2)c1', 'COc1ccc(N2C(=O)C[C@@H](NNC(=O)c3ccccc3)C2=O)cc1', 'N#CC(=Cc1ccc(N2CCOCC2)o1)C(=O)Nc1ccc(O)cc1', 'Nc1ccc(C(=O)N[C@@H](Cc2c[nH]c3ccccc23)C(=O)O)c(O)c1', 'O[C@@H]1CO[C@H]2[C@@H]1OC[C@@H]2n1ccnc1-c1coc(-c2ccccc2)n1', 'Cc1cc(C(=O)Nc2cccc(OCCCC#N)c2)ccc1[N+](=O)[O-]', 'COc1ccc(-c2cccc(Nc3cc(=O)n(O)c(=O)n3C)c2)cc1', 'CC1(CC(=O)NN=Cc2ccc(-c3ccccc3C#N)o2)OCCO1', 'COc1ccc([C@H]2CC(=O)Nc3c2cnn3Cc2ccco2)cc1O', 'COC(=O)c1ccc(C=NNC(=O)C(=O)NCc2ccccc2)cc1', 'C=C1C(N2C(=O)NC(CO)C2C#CC)=Nc2c1ccc1c2OCCO1', 'O=C(c1cc(=O)[nH]o1)N1C[C@@H](Cc2ccnc3ccccc23)[C@H](O)C1', 'C[C@@H](c1ccccc1)n1ccc2c(O)c(C(=O)NCC(=O)O)ncc21', 'COc1cc2ncnc(NC(C(=O)O)c3ccccc3)c2cc1OC', 'O=C(Cc1ccc2ccccc2c1)N[C@@H](CO)C(=O)Nc1ccon1', 'CC(=O)N1CC(=O)N(C)c2ccc([N+](=O)[O-])cc2C1c1ccccc1', 'COc1ccc(OCCNC(=O)c2n[nH]c(=O)c3ccccc23)cc1', 'COc1cccc(OCCNC(=O)c2n[nH]c(=O)c3ccccc23)c1', 'COc1ccc2c(CC(=O)Nc3cccc(NC(N)=O)c3)coc2c1', 'C=CC(=O)C(Oc1ccccc1)(C(=O)O)c1cccc(/N=C/NN)c1', 'Cc1cc(C(=O)COC(=O)c2n[nH]c(=O)c3ccccc23)c(C)n1C', 'CCOC(=O)C1=C(C)OC(N)=C(C#N)[C@]12C(=O)Nc1ccc(C)cc12', 'CCc1ccc(OCC(=O)Nc2ccc3[nH]c(=O)c(=O)[nH]c3c2)cc1', 'CN1C(=O)[C@]23C[C@@](C)(C#N)[C@@H](c4ccc5c(c4)OCO5)N2C(=O)[C@@]13C', 'COc1ccc(CNC(=O)c2n[nH]c(=O)c3ccccc23)c(OC)c1', 'O=C1CCC(N2Cc3cc4c(cc3C2=O)C=CC2(CNC2)O4)C(=O)N1', 'Cc1cc([N+](=O)[O-])ccc1NC(=O)C1CC(=O)N(c2ccccc2)C1', 'COc1ccc(CC(=O)[C@H](C#N)C(=O)Nc2ccccn2)cc1OC', 'C[C@@H](Cc1ccccc1)c1nnc(-c2cc(C(=O)O)cn(C)c2=O)o1', 'O=C(c1ccc2onc(-c3coc(C4CC4)n3)c2c1)N1CCOCC1', 'COc1ccc(-c2cnoc2NC(=O)Nc2ccccc2)cc1OC', 'Cn1c(=O)n(Cc2ccc(CN)cc2)c(=O)c2cc(C(=O)O)ccc21', 'C/C(=C\\\\C#N)N1C(=O)c2ccc(C(=O)NCC3CCCO3)cc2C1=O', 'O=C(c1ccco1)N1CCC(n2nc(-c3ccco3)ccc2=O)CC1', 'CC(C)n1nc(C(=O)OCC(=O)c2ccc[nH]2)c2ccccc2c1=O', 'COCC(=O)Nc1ccccc1-c1nc(COc2ccccc2)no1', 'CC(=O)c1c(C)[nH]c(C(=O)OCC(=O)Nc2ccccc2C#N)c1C', 'COC(=O)c1cccc(-n2c(C)cc(/C=C3/NC(=O)NC3=O)c2C)c1', 'CCOc1ncccc1C(=O)NNC(=O)c1oc2ccccc2c1C', 'COc1ccc([N+](=O)[O-])cc1C(=O)NCCc1c[nH]c2ccccc12', 'CCCOC1N=C(c2ccccc2)c2cc([N+](=O)[O-])ccc2NC1=O', 'NCc1nc2cc3c(cc2n1Cc1cccc(C(=O)O)c1)OCCO3', 'O=c1cc(-c2nccn2[C@@H]2CO[C@H]3[C@@H]2OC[C@H]3O)[nH]c2ccccc12', 'C=CCC1=CC(=Cc2c(N)n3oc(C)cc3nc2=O)C=C(OC)C1=O', '[N-]=[N+]=CC(=O)[C@H](Cc1ccc(OCc2ccccc2)cc1)NC(=O)O', 'COc1ccc2cc(-c3cnc4ccc(OCCCO)nn34)oc2c1', 'CC(C)(C)C(=O)Oc1ccc(-c2nc3ccc([N+](=O)[O-])cc3[nH]2)cc1', 'COC(=O)[C@H]1C[C@H]1C(=O)Nc1ccc(C(=O)Nc2cccnc2)cc1', 'COc1cccc(NC(=O)C[C@H]2NC(=O)c3ccccc3NC2=O)c1', 'O=C(CN1C(=O)N[C@@]2(CCc3ccccc32)C1=O)NCc1ccco1', 'C=CCOc1ccccc1C(=O)NN=C(C)c1cccc([N+](=O)[O-])c1', 'CCn1nc(C)c2c(C(=O)OC)cc(-c3ccc4c(c3)OCO4)nc21', 'CC[C@@]1(C#Cc2ccc(N3C(=O)CCC3C=O)cc2)NC(=O)NC1=O', 'C[C@@H](NC(=O)c1ccc(C(=O)O)nc1)c1ccc2c(c1)CCC(=O)N2', 'CCOc1ccccc1NC(=O)Cn1cnc(-c2ccco2)cc1=O', 'COc1ccc(C2(C)NC(=O)N(N=Cc3ccccc3O)C2=O)cc1', 'CN(C)c1ccc(/C=C2/C(=O)NC(=O)N(Cc3ccco3)C2=O)cc1', 'Cc1cccc(N2C[C@@H](C(=O)Nc3ccc([N+](=O)[O-])cc3)CC2=O)c1', 'Cc1ccc(CN2C(=O)N[C@@](C)(c3ccc([N+](=O)[O-])cc3)C2=O)cc1', 'CC1CN2C(=O)CN(C(=O)OCc3ccccc3)c3ccc(=O)n1c32', 'Cc1ccc(N2C(=O)CC(Nc3ccc([N+](=O)[O-])cc3)C2=O)c(C)c1', 'CC1=Nc2ccccc2N(C)C(c2cccc([N+](=O)[O-])c2)C1C(=O)O', 'COc1c2ccc(C(=O)Nc3ccc4c(c3)OCCO4)cc2nn1C', 'CC1(C)Oc2ccccc2C(N(O)C(=O)c2cccnc2)C1(O)C#N', 'CC(=O)c1ccc(OCC(O)Cn2nnc3ccccc3c2=O)cc1', 'COc1ccc(-[n+]2[nH]oc(=O)c2/C([O-])=N/c2ccc(C)c(C)c2)cc1', 'COc1cc2c(c(OC)c1)C(c1cccc(C(N)=O)c1)=NCC(=O)N2', 'CCCCOC1=C([N+](=O)[O-])C=CC(=O)C1c1ncc2ccccc2n1', 'CC(=O)Nc1cccc(NC(=O)C(=O)Nc2ccc(C(C)=O)cc2)c1', 'O=C(Nc1ccc2c(c1)OCO2)c1ccnc(C(=O)N2CCCC2)c1', 'CC1(C)CC(=O)C(=Cc2cn[nH]c2-c2cccc([N+](=O)[O-])c2)C(=O)C1', 'Cc1ccccc1OCC(=O)NNC(=O)Cc1noc2ccccc12', 'C=CCNC(=O)c1ccccc1NC(=O)c1cccc(C)c1[N+](=O)[O-]', '[H]/N=C(\\\\C)C(C#N)C(=O)COC(=O)c1ccccc1NCc1ccco1', 'COc1ccc(C2=NN(C(C)=O)C[C@H]2c2cccc([N+](=O)[O-])c2)cc1', 'O=c1[nH]c(-c2ccco2)nc2c1CCN(Cc1cc(O)cc(O)c1)C2', 'Cn1c(=O)n(C)c2cc(CNC(=O)c3ccc4c(c3)OCO4)ccc21', 'COc1ccc2c(CCNC(=O)c3cccc([N+](=O)[O-])c3)c[nH]c2c1', 'COC(=O)[C@H](C)OC(=O)c1[nH]c2ccccc2c1Nc1ccncc1', 'O=[N+]([O-])[C@]12C=CC(N1)c1cc(-n3c(O)c4c(c3O)CCCC4)ccc12', 'N#CC1(NC(=O)COc2cccc(NC(=O)c3ccco3)c2)CCC1', 'COc1ccc(-c2nnc(COc3cc(C)ccc3C(N)=O)o2)cc1', 'Cc1cccc([C@H]2C3=C(COC3=O)Nc3c2c(=O)n(C)c(=O)n3C)c1', 'CC(=O)NC(C)c1nc(-c2ccc(Oc3ccc(O)cc3)cc2)no1', 'COc1ccc(C(=O)OCc2nc(N)c3ccccc3n2)c(OC)c1', 'COc1cccc(CN2C(=O)C(=O)N([C@H](C)c3ccccc3)C2=O)n1', 'O=C(COC(=O)c1ccc(Cn2cccn2)o1)NCc1ccccc1', 'Cn1c(=O)n(C)c2cc(NC(=O)Cc3ccccc3C(=O)O)ccc21', 'O=[N+]([O-])c1cnc2ccccc2c1N[C@H](CO)Cc1ccc(O)cc1', 'CCOC(=O)/C(C#N)=C/c1cc(C)n(-c2cccc([N+](=O)[O-])c2)c1C', 'O=C(CC[C@@H]1NC(=O)c2ccccc2NC1=O)Nc1ccc(O)cc1', 'COc1cccc(C2=C[C@H](c3cccc([N+](=O)[O-])c3)N(C(C)=O)N2)c1', 'C[C@H](NC(=O)c1ccoc1)C(=O)Nc1ccc2oc(C3CC3)nc2c1', 'Cc1cc([N+](=O)[O-])ccc1C(=O)N[C@H](C)c1ccc2c(c1)CC(=O)N2', 'Cc1cccc(NC(=O)[C@@H]2CC(=O)N(c3ccc([N+](=O)[O-])cc3)C2)c1', 'C=CC(=O)OCCOc1cc(C)cc(-n2nc3ccccc3n2)c1O', 'COC(=O)c1ccc(NCc2nnc(-c3ccccc3OC)o2)cc1', 'Cc1cccc(N2C(=O)N[C@H]3C[C@@]2(C)Oc2ccc([N+](=O)[O-])cc23)c1', 'CCOC(=O)c1nc2ccccn2c1NC(=O)c1cccc(OC)c1', 'Cc1cccc(NC(=O)CN2C(=O)N/C(=C/c3ccc(C)o3)C2=O)c1', 'COc1ccccc1OCC(=O)N/N=C\\\\c1ccc(OCC#N)cc1', 'CC(C)(C)OC(=O)n1nc(-c2ccccc2)c2ccc([N+](=O)[O-])cc21', 'Cc1cccc(C(=O)NCC(=O)NN=Cc2ccc3c(c2)OCO3)c1', 'Cc1ccc2nc(C)cc(C(=O)OCC(=O)Nc3cc(C)on3)c2c1', 'CCn1nnc2cc(C(=O)OCC(=O)c3ccc(OC)cc3)ccc21', 'CC(C(=O)NO)N1C(=O)NC(c2ccccc2)(c2ccccc2)C1=O', 'CC1Cc2cc(NC(=O)NCc3cccc4[nH]c(=O)oc34)ccc2O1', 'COc1ccc(-[n+]2[nH]oc(=O)c2/C([O-])=N/c2c(C)cccc2C)cc1', 'COc1ccc(-c2c(CO)nnn2-c2ccc3c(c2)OCCO3)cc1', 'Cc1cccc(N2C[C@@H](C(=O)Nc3cccc([N+](=O)[O-])c3)CC2=O)c1', 'O=C1[C@H]2C3CCC(C3)N2C(=O)N1C1=c2ccccc2=C([N+](=O)[O-])CC1', 'O=C1c2cccc(O)c2C(=O)N1Cc1ccc(N2CCOCC2)nc1', 'Cc1cc(=O)n(-c2ccc(Nc3ccc(O)cc3C(=O)O)cc2)n1C', 'COc1ccc(-c2noc([C@H]3CCCN3C(=O)c3ccoc3)n2)cc1', 'COC(=O)c1ccc(NC(=O)c2cncc(C(=O)NC3CC3)c2)cc1', 'N#Cc1ccccc1OCC(=O)N1CCN(C(=O)c2ccco2)CC1', 'O=C(N[C@@H](Cc1c[nH]c2ncccc12)C(=O)O)OCc1ccccc1', 'Cn1c(C(=O)O)cc2ccccc21.Nc1ccc2c(c1)NC(=O)CO2', 'C=CCCC(=O)NCc1nc(C(=O)OC)c(-c2ccc(C#N)cc2)o1', 'Cn1c(=O)n(C)c2cc(C(=O)Nc3ccc4c(c3)OCCO4)ccc21', 'COc1ncccc1C(=O)NCC#CCOc1ccccc1C(N)=O', 'C=CCn1c(=O)oc2cc(NC(=O)Nc3ccc(OC)cc3)ccc21', 'CCn1cc(C(c2ccccc2)C([N+](=O)[O-])[N+](=O)[O-])c2ccccc21', 'C1C(=O)N(N=C2N1C3=CC=CC=C3S2)CC(=O)C4=CC=C(C=C4)F', 'C#Cc1c(F)cccc1[C@@H]1N=C(c2nccs2)NC(C)=C1C(=O)O', 'COc1c(-c2nnc(Cc3ccc(F)cc3)s2)oc2cccnc12', 'C[C@@H](Oc1ccc(F)cc1)c1nn2c(=O)c3ccccc3nc2s1', 'O=[N+]([O-])c1cc(NC(=S)Nc2cccc3ccccc23)ccc1F', 'C[C@H](Sc1nc2ccccc2o1)c1nnc(-c2ccc(F)cc2)o1', 'NC(=O)c1ccc(C(=O)Nc2nc(-c3ccc(F)cc3)cs2)cc1', 'COc1cnc2c(-c3nc4cc(F)c(O)cc4s3)cc(C)cc2n1', 'COc1ccc(-c2nnc(SCc3ccc(C#N)cc3F)o2)cc1', 'O=C(Nc1ccccc1C(=O)Nc1nccs1)c1cccc(F)c1', 'O=C(O)c1ccccc1/C=N\\\\Nc1nc(-c2ccc(F)cc2)cs1', 'O=C1CCc2cc(C(=O)Nc3nc4ccc(F)cc4s3)ccc2N1', 'O=C(S)N(c1ccc(F)cc1)c1ccc(-c2ccc(=O)[nH]n2)cc1', 'O=C(Nc1nccs1)c1cc2occc2n1Cc1cccc(F)c1', 'O=C(Nc1cc2c(=O)[nH]cnc2cc1F)[C@H]1CSc2ccccc21', 'Fc1ccc2oc(CSc3nnc(Cc4ccccc4)o3)nc2c1', 'N#C[C@H](C(=O)c1noc2c1CCCC2)c1nc2cc(F)ccc2s1', 'O=C(Nc1cc2c(=O)[nH]cnc2cc1F)C1CSc2ccccc21', 'O=C(Nc1cccc(C(=O)Nc2nccs2)c1)c1cccc(F)c1', 'O=S(=O)(Nc1ccc2[nH]ccc2c1)c1ccc(F)c2ncccc12', 'Cc1sc(-c2ccco2)nc1C(=O)N(CC#N)c1cccc(F)c1', 'O=S(=O)(Nc1nc2cc(F)ccc2n2cccc12)c1ccccc1', 'Cc1nc(COc2ccc3c(-c4ccccc4F)noc3n2)cs1', 'Cc1cc(NC(=O)CSC#N)cc2nc(-c3ccc(F)cc3)oc12', 'Cc1sc2nc(C(C#N)=C(O)c3ccc(F)cc3)[nH]c(=O)c2c1C', 'CN(C(=O)c1ccccc1F)c1nnc(-c2ccc(C=O)cc2)s1', 'O=S(=O)(c1ccccc1)n1cc(-c2cn[nH]c2)c2ccc(F)cc21', 'Cn1c(SCc2nc3cc(F)ccc3o2)nc2ccccc2c1=O', 'O=C(/C=C/c1nc2ccccc2s1)NNC(=O)c1ccccc1F', 'COC(=O)Cc1ccc2nc(-c3ccc(N=C=S)c(F)c3)[nH]c2c1', 'Cc1cc(Cn2cnc3scc(-c4ccc(F)cc4)c3c2=O)no1', 'O=[N+]([O-])c1ccc(F)c(NC(=S)Nc2cccc3ccccc23)c1', 'Cc1oc(-c2cccs2)nc1Cn1cnc2cc(F)ccc2c1=O', 'C=CC(=C)NC(=O)c1cc2ncsc2n(-c2ccc(F)cc2)c1=O', 'CC(Oc1ccc(F)cc1)c1nn2c(=O)c3ccccc3nc2s1', 'O=C(Nc1ccc(-c2ccc(=O)[nH]n2)cc1)Sc1ccc(F)cc1', '[C-]#[N+]c1cc(-c2ccc(S(C)(=O)=O)cc2)n(-c2ccc(F)cc2)n1', 'NC(=O)c1cccc(NC(=O)c2csc(-c3ccc(F)cc3)n2)c1', 'Cc1nc2c(=O)n(Cc3ccccc3F)nc(-c3ccco3)c2s1', 'Cc1c(C(=O)Nc2ccc3[nH]c(=O)[nH]c3c2)sc2cccc(F)c12', 'CC(=O)c1c(C)sc2nc(Cc3cccc(C#N)c3F)cc(=O)n12', 'NC(=O)c1cccc(-c2csc(NC(=O)c3ccc(F)cc3)n2)c1', 'Cc1c2ccnc1c1nccc2c1-c1ccc(S(N)(=O)=O)c(F)c1', 'O=[N+]([O-])c1ccc(-c2ccc(SCc3cccc(F)c3)nn2)cc1', 'C#CCNC(=O)Cn1cnc2scc(-c3ccc(F)cc3)c2c1=O', 'Cc1occc1-c1nnc(SCc2cc(F)cc3cccnc23)o1', 'O=C(Nc1ccc(F)nc1)c1cccc(NC(=O)c2cccs2)c1', 'Cc1nc(-c2cnc(/C=C/c3ccc(F)cc3)cn2)sc1C(=O)O', 'N#CC(C(=O)c1noc2c1CCCC2)c1nc2cc(F)ccc2s1', 'O=C(NN=Cc1ccc(Sc2ccccn2)o1)c1cccc(F)c1', 'O=C(NNC(=O)c1cnc(-c2ccccc2)s1)c1ccc(F)cc1', 'O=C(O)c1cccc(F)c1C=NNc1nc(-c2ccccc2)cs1', 'Cc1cc2c(OCc3cc(-c4ccc(F)cc4)no3)ncnc2s1', 'N#CCc1cc(-c2ccccc2F)n(S(=O)(=O)c2cccnc2)c1', 'Nc1cc(F)cc(-c2nc(-c3ccc4c(c3)NC(=O)CO4)cs2)c1', 'CC(=O)/N=c1\\\\sc(C(=O)c2ccc(F)cc2)nn1-c1ccccc1', 'O=C(O)CSc1cc(-c2ccccn2)nc(-c2ccc(F)cc2)n1', 'O=[N+]([O-])c1ccc(-c2ccc(SCc3ccc(F)cc3)nn2)cc1', 'N#C[C@@H](C(=O)c1noc2c1CCCC2)c1nc2cc(F)ccc2s1', 'O=[N+]([O-])c1ccc(-c2ccc(SCc3ccccc3F)nn2)cc1', 'COc1cccc2sc(Cc3nnc(-c4ccc(F)cc4)o3)nc12', 'O=[N+]([O-])c1ccc(CSc2ccc(-c3ccc(F)cc3)nn2)cc1', 'C/S(=N\\\\C#N)c1ccc(CN2C(=O)c3ccccc3C2=O)cc1F', 'O=c1[nH]sc2c1c(=O)c1cc(F)c(-c3ccc[nH]3)cc1n2C1CC1', 'Cc1ccc(-c2noc(CSc3nc4ccccc4o3)n2)cc1F', 'Cc1cn2c(C=C3N=C(c4ccccc4F)OC3=O)c(C)nc2s1', 'Cc1c(C(=O)Nc2nc(-c3ccc[nH]3)cs2)oc2ccc(F)cc12', 'N#C/C(=C/c1c[nH]c2ccccc12)S(=O)(=O)Nc1ccc(F)cc1', 'O=[N+]([O-])c1cccc(-c2ccc(SCc3ccccc3F)nn2)c1', 'Fc1cccc(-c2noc(CSC3=Nc4ccccc4OC3)n2)c1', 'O=C(NCc1ccco1)c1csc2nc(-c3ccc(F)cc3)cn12', 'Cc1c(F)cc(C#N)cc1NC(=O)Cc1csc(-c2ccco2)n1', 'O=S(=O)(Nc1ccc2[nH]c3ccncc3c2c1)c1ccc(F)cc1', 'Cc1ccc(-c2ccc(=O)n(Cc3nc4cc(F)ccc4o3)n2)s1', 'COc1ccc2nc(NC(=O)c3cc4c(F)cccc4[nH]3)sc2c1', 'NC(=O)c1ccc(NC(=O)c2csc(-c3ccc(F)cc3)n2)cc1', 'O=C1NC(=S)N(c2ccccc2)C(=O)[C@H]1/C=N/c1ccccc1F', 'O=C(C=Cc1nc2ccccc2s1)NNC(=O)c1ccc(F)cc1', 'O=S1c2ccccc2CN1c1ccnc(Oc2ccccc2F)n1', '[H]N=S(C)(=O)c1ccc(Oc2c(C#N)cnc3cc(F)ccc23)cc1', 'O=C(/C=C/c1nc2ccccc2s1)NNC(=O)c1ccc(F)cc1', 'O=C(O)c1c(F)cccc1C=NNc1nc(-c2ccccc2)cs1', 'O=C1CSc2ccccc2N1Cc1nnc(-c2cccc(F)c2)o1', 'O=C(NNC(=O)c1ccc(-c2ccc(F)cc2)s1)c1cccnc1', 'O=C(Nc1ccccc1C(=O)Nc1nccs1)c1ccccc1F', 'O=C(Nc1nc2ccccc2s1)C1CC(c2cccc(F)c2)=NO1', 'O=C(Nc1ccc(NC(=O)c2ccccc2F)cn1)c1cccs1', 'NS(=O)c1cccc(-c2cc(=O)[nH]c3c2[nH]c2ccc(F)cc23)c1', 'Cc1cn2c(/C=C3\\\\N=C(c4ccccc4F)OC3=O)c(C)nc2s1', 'CC(Oc1ccc(C#N)cc1)C(=O)Nc1nc2ccc(F)cc2s1', 'O=C(NCc1cn2ccsc2n1)c1ccc(-c2ccc(F)cc2)o1', 'Cn1c(=O)c(Cn2ccc3sccc3c2=O)nc2cc(F)ccc21', '[C-]#[N+]c1cn(-c2ccc(F)cc2)c(-c2ccc(S(C)(=O)=O)cc2)n1', 'NC(=O)c1ccc(NC(=O)c2cc(-c3cccc(F)c3)ns2)cc1', 'COC(=O)c1sc2cccc(F)c2c1CNc1cccc(C#N)n1', 'O=c1cc(CSc2nc3ccccc3o2)[nH]n1-c1ccc(F)cc1', 'Cc1nc(-c2cncc(/C=C/c3ccc(F)cc3)n2)sc1C(=O)O', 'O=C(N/N=C\\\\c1ccc(Sc2ccccn2)o1)c1ccc(F)cc1', 'Cc1oc(-c2ccsc2)nc1CC(=O)Nc1ccc(F)c(C#N)c1', 'O=C1COc2ccc(-c3csc(Nc4ccccc4F)n3)cc2N1', 'N#Cc1ccc(NS(=O)(=O)c2c[nH]c(-c3ccccc3)c2)c(F)c1', 'O=C(Nc1ccc(NC(=O)c2cccs2)cn1)c1ccc(F)cc1', 'O=C(Nc1ccon1)c1cc2sccc2n1Cc1cccc(F)c1', 'Cc1c(Cn2cnc3sccc3c2=O)noc1-c1ccc(F)cc1', 'O=C(N/N=C/c1ccc(Sc2ccccn2)o1)c1cccc(F)c1', 'Cc1cc(NC(=O)CSC#N)cc2nc(-c3ccccc3F)oc12', 'O=C(Nc1nccs1)c1ccc(NC(=O)c2ccccc2F)cc1', 'Cc1ccc2onc(CC(=O)Nc3nc4ccc(F)cc4s3)c2c1', 'Cc1sc2nc(Cc3cnoc3)[nH]c(=O)c2c1-c1ccc(F)cc1', 'O=[N+]([O-])c1cccc(-c2ccc(SCc3cccc(F)c3)nn2)c1', 'Cc1cnc(-c2cc3c(s2)C(NC(=O)c2ccc(F)cc2)=NC3)o1', 'Cc1cc(NC(=O)CSC#N)cc2nc(-c3cccc(F)c3)oc12', 'N#CCSc1nc2ccccc2n1C(=O)COc1ccccc1F', 'CC(=O)c1ccc(NC(=O)c2cnc(-c3ccccc3F)s2)nc1', 'COc1cc(Sc2cnc3ccccc3n2)c(F)c(OC)c1C#N', 'O=S1(=O)c2ccccc2N=CN1Cc1cc(F)cc2cccnc12', 'COc1ccccc1-c1nnc(SCc2ccc(C#N)cc2F)o1', 'O=S1c2ccccc2CN1c1ccnc(Oc2cccc(F)c2)n1', 'NC(=O)c1cccc(C(=O)Nc2nc(-c3cccc(F)c3)cs2)c1', 'Cc1nnsc1C(=O)Nc1ccc(C(=O)c2ccc(F)cc2)cc1', 'O=C(N/N=C/c1ccc(Sc2ccccn2)o1)c1ccc(F)cc1', 'O=C(Nc1nc(C(=O)Nc2ccc(F)cc2)cs1)c1ccccc1', 'CC(=O)c1cccc(NC(=O)c2snnc2-c2ccc(F)cc2)c1', 'O=C(Cc1c[nH]c2ccc(F)cc12)Nc1nc(-c2ccco2)cs1', '[H]N=S(C)(=O)c1ccc(Oc2c(C#N)cnc3ccc(F)cc23)cc1', 'Cc1oc(-c2ccsc2)nc1Cn1cnc2cc(F)ccc2c1=O', 'Cc1nc2c(=O)n(Cc3ccc(F)cc3)nc(-c3ccco3)c2s1', 'CN1C(=O)CC(Sc2nc(-c3ccc(F)cc3)ccc2C#N)C1=O', 'Cc1cc(-c2c(C(=O)Nc3ncc(C)s3)c3cc(F)c2o3)ccn1', 'CS(=O)(=O)c1ccc2cc(-c3nc4ccncc4[nH]3)cc(F)c2c1', 'O=[N+]([O-])c1cc(F)ccc1NC(=S)Nc1cccc2ccccc12', 'Cc1occc1C(=O)Nc1c(-c2ccc(F)cc2)nc2sccn12', 'O=C(NNC(=O)c1ccc(-c2ccc(F)cc2)s1)c1ccncc1', 'O=C(Nc1ccon1)c1cc2sccc2n1Cc1ccccc1F', 'NC(=O)c1ccccc1/N=C1\\\\NC(=O)/C(=C/c2ccccc2F)S1', 'O=C(NN=Cc1ccc(Sc2ccccn2)o1)c1ccc(F)cc1', 'O=C(O)c1ccccc1/C=N/Nc1nc(-c2ccc(F)cc2)cs1', 'O=C(Nc1ccc(NC(=O)c2cccs2)cn1)c1cccc(F)c1', 'NC(=O)c1ccccc1/N=C1\\\\NC(=O)/C(=C/c2ccc(F)cc2)S1', 'O=c1[nH]c(=S)n(-c2ccc(F)cc2)c(O)c1/C=N/c1ccccc1', 'NC(=O)c1ccccc1/N=C1\\\\NC(=O)/C(=C/c2cccc(F)c2)S1', 'NC(=O)c1ccccc1NC(=O)c1csc(-c2ccc(F)cc2)n1', 'Cn1c2cc(C=O)sc2c2cnn(Cc3ccccc3F)c(=O)c21', 'O=[N+]([O-])c1cccc(CSc2ccc(-c3ccc(F)cc3)nn2)c1', 'O=C1COc2ccc(-c3csc(Nc4ccc(F)cc4)n3)cc2N1', 'O=C(N/N=C\\\\c1ccc(Sc2ccccn2)o1)c1cccc(F)c1', 'Cc1cc(Cn2cnc3scc(-c4ccc(F)cc4)c3c2=O)on1', 'CCOc1ccc2nc(NC(=O)c3ccc(C#N)cc3F)sc2c1', 'C[C@H](Oc1ccc(F)cc1)c1nn2c(=O)c3ccccc3nc2s1', 'O=C1NC(=S)N(c2ccccc2)C(=O)[C@H]1/C=N/c1ccc(F)cc1', 'N#Cc1ccsc1NC(=O)CCc1ncc(-c2ccccc2F)o1', 'Cc1nc(-c2cncc(C=Cc3ccc(F)cc3)n2)sc1C(=O)O', 'Cc1ccc(C(=O)Nc2c(-c3ccc(F)cc3)nc3sccn23)o1', 'O=C(Nc1nccs1)c1cc2occc2n1Cc1ccc(F)cc1', 'O=C1CCc2cc(C(=O)Nc3nccc4sccc34)c(F)cc2N1', 'O=C(/C=C/c1cccs1)Nc1cnc(Oc2ccccc2F)nc1', 'CN(C)Sc1ccc2c(c1)C(=O)c1nc3cc(F)ccc3c(=O)n1-2', 'COc1ccc(Cn2cnc3c(sc4ncccc43)c2=O)cc1F', 'N#Cc1ccc(OCCSc2nnc(-c3ccc(F)cc3)o2)cc1', 'Cc1cc(C(=O)Nc2sc(C)c(-c3ccc(F)cc3)c2C#N)no1', 'Cc1cc(Cn2nc(-c3cccs3)c(O)c(C#N)c2=O)ccc1F', 'O=C(Nc1nccs1)c1cc2occc2n1Cc1ccccc1F', 'N#Cc1ccc(NS(=O)(=O)c2c[nH]cc2-c2ccccc2)c(F)c1', 'Cc1nc(C2C=C(C#N)C(c3ccccc3F)=NC2)sc1C(=O)O', 'O=C(Nc1ccccc1C(=O)Nc1nccs1)c1ccc(F)cc1', 'O=C(Nc1cccc(C(=O)Nc2nccs2)c1)c1ccc(F)cc1', 'O=C1Nc2cccc(F)c2CN1c1nc(-c2ccc(O)cc2)cs1', 'Cc1nc2c(-c3ccco3)nc(=O)n(Cc3cccc(F)c3)c2s1', 'O=C(Nc1ccc(C(=O)Nc2nccs2)cc1)c1cccc(F)c1', 'Cc1sc2nc(Cc3ccon3)[nH]c(=O)c2c1-c1ccc(F)cc1', 'Fc1ccc(-c2csc(NN=Cc3ccc4c(c3)OCO4)n2)cc1', 'O=C(Nc1nc(C(=O)Nc2cccc(F)c2)cs1)c1ccccc1', 'O=C1NC(=S)N(c2ccccc2)C(=O)[C@@H]1/C=N/c1ccccc1F', 'Fc1ccc(-c2csc(N/N=C/c3ccc4c(c3)OCO4)n2)cc1', 'CCOc1ccc(F)cc1C(=O)c1sc2ncc(C#N)cc2c1N', 'O=C(Oc1ccc(/C=N/Nc2nccs2)cc1)c1ccc(F)cc1', 'Nc1cc(-c2nc(-c3ccc4c(c3)NC(=O)CO4)cs2)ccc1F', 'O=Cc1ccc(-c2nnc(CNC(=O)c3ccccc3F)s2)cc1', 'CS(=O)(=O)c1ccc(-c2cc(C#N)nn2-c2ccc(F)cc2)cc1', 'O=C(Nc1nc(=O)n(Sc2ccccc2)cc1F)c1ccccc1', 'COc1cc(F)c2nc(-c3cccc4c(=O)n(C)cnc34)sc2c1', 'Cn1c(C(=O)Nc2nc(-c3ccc(F)cc3)cs2)cc2occc21', 'O=C(NCc1cn2ccsc2n1)c1ccc(-c2ccccc2F)o1', 'O=C1NC(=S)N(c2ccccc2)C(=O)[C@@H]1/C=N/c1ccc(F)cc1', 'O=C(Nc1ccc(NC(=O)c2cccs2)nc1)c1cccc(F)c1', 'Cc1cc(F)ccc1-c1cc(N2CCSC(=O)C2=O)ncc1C#N', 'Cc1nc2c(=O)n(Cc3cccc(F)c3)nc(-c3ccco3)c2s1', 'O=C1Nc2cc(CNc3ncco3)ccc2Sc2ccc(F)cc21', 'Cc1cn2c(C=C3N=C(c4cccc(F)c4)OC3=O)c(C)nc2s1', 'O=C1CC(C(=O)Nc2nc3ccccc3s2)c2ccc(F)cc2N1', 'O=C(O)Cc1nn(Cc2nc3cc(F)ccc3s2)c2ccccc12', 'CCOC(=O)c1c(-c2ccc(F)cc2)csc1NC=C(C#N)C#N', 'O=C(NCc1coc(-c2cccs2)n1)c1cc2cc(F)ccc2[nH]1', 'CS(=O)(=O)c1ccc(-c2cc(C#N)nn2-c2ccccc2F)cc1', 'CS(=O)(=O)c1ccc(-c2nc(C#N)cn2-c2ccc(F)cc2)cc1', 'C[C@@H](Sc1nc2ccccc2o1)c1nnc(-c2ccc(F)cc2)o1', 'Cc1csc2ncnc(OCc3cc(-c4ccc(F)cc4)no3)c12', 'O=Cc1cc(/C=C/c2ccc(-n3cn[nH]c3=S)cc2)cc(F)c1O', 'O=C(NCC#CCOc1ccccc1F)c1ccc2nsnc2c1', 'Fc1cc2c(cc1C=NNc1nc(-c3ccccc3)cs1)OCO2', 'CS(=O)(=O)c1ccc(-c2cc(C#N)nn2-c2cccc(F)c2)cc1', 'Cc1nc2c3cc(F)ccc3n(Cc3ccc([N+](=O)[O-])cc3)c2s1', 'N#CC(=Cc1c[nH]c2ccccc12)S(=O)(=O)Nc1ccc(F)cc1', 'CS(=O)(=O)c1ccc(-c2cc(C#N)n(-c3ccc(F)cc3)n2)cc1', 'O=S1c2ccccc2CN1c1ccnc(Oc2ccc(F)cc2)n1', 'O=C(Nc1ccc(C(=O)Nc2nccs2)cc1)c1ccc(F)cc1', 'CS(=O)(=O)c1ccc(-n2nc(C#N)cc2-c2ccc(F)cc2)cc1', 'Fc1ccc(-c2cnc(SCc3cc(-c4ccco4)on3)[nH]2)cc1', 'Fc1ccc(-c2csc(N/N=C\\\\c3ccc4c(c3)OCO4)n2)cc1', 'CC(=O)c1c(-c2cnccn2)csc1NC(=O)c1cccc(F)c1', 'NC(=O)c1ncc(Sc2ccccn2)cc1Oc1ccc(F)cc1', 'O=C(NNC(=O)c1ccccc1F)c1csc(-c2ccccc2)n1', 'CS(=O)(=O)c1ccc(-c2cnc(C#N)n2-c2ccc(F)cc2)cc1', 'C#Cc1cnc(NS(=O)(=O)c2c[nH]c(-c3ccccc3)c2)c(F)c1', 'N#CCc1ccc(NS(=O)(=O)c2ccc(F)c3ncccc23)cc1', 'O=C(O)c1ccc(/C=N/Nc2nc(-c3ccc(F)cc3)cs2)cc1', 'Cc1sc2nc(/C(C#N)=C(\\\\O)c3ccc(F)cc3)[nH]c(=O)c2c1C', 'O=c1[nH]c(=S)n(-c2ccccc2F)c(O)c1/C=N/c1ccccc1', 'N#Cc1ccsc1NC(=O)CCc1ncc(-c2ccc(F)cc2)o1', 'NC(=O)c1ccccc1C(F)c1nnc(-c2ccc(C=O)cc2)s1', 'Cc1ccoc1C(=O)Nc1c(-c2ccc(F)cc2)nc2sccn12', 'O=C(Nc1ccc(NC(=O)c2ccccc2F)nc1)c1cccs1', 'Cc1cn2c(/C=C3\\\\N=C(c4cccc(F)c4)OC3=O)c(C)nc2s1', 'Fc1ccc(-c2csc(/N=N/Cc3ccc4c(c3)OCO4)n2)cc1', 'Cc1sc2nc([C@H](C#N)C(=O)c3ccc(F)cc3)[nH]c(=O)c2c1C', 'O=c1[nH]c2ccc(-c3csc(NCc4ccc(F)cc4)n3)cc2o1', 'Cc1ccc(Nc2nc(-c3ccc4[nH]c(=O)oc4c3)cs2)cc1F', 'C#Cc1cc(F)ccc1[C@@H]1N=C(c2nccs2)NC(C)=C1C(=O)O', 'Cc1nc2c(O)c(-c3nnc(Cc4ccc(F)cc4)o3)ccc2s1', 'O=C(O)c1ccc2c(c1)n(CCF)c(=S)n1c3ccccc3nc21', 'O=[N+]([O-])c1cccc(-c2ccc(SCc3ccc(F)cc3)nn2)c1', 'O=C1NC(Cc2csc3ccccc23)C(=O)N1c1cncc(F)c1', 'N#C/C(=C\\\\c1c[nH]c2ccccc12)S(=O)(=O)Nc1ccc(F)cc1', 'O=C(O)c1ccc(/C=N\\\\Nc2nc(-c3ccc(F)cc3)cs2)cc1', 'CC(=O)CSc1nc2c3cc[nH]c(=O)c3c3cc(F)ccc3c2[nH]1', '[C-]#[N+]c1cnc2sc(C(=O)c3cc(F)ccc3OCC)c(N)c2c1', 'O=C(Nc1ccc2sc(-c3ccc(F)cc3)nc2c1)C1=COCN1', 'COc1ncccc1CSc1[nH]c(=O)c(C#N)c2ccc(F)cc12', 'Cc1cc(Cn2nc(-c3ccsc3)c(O)c(C#N)c2=O)ccc1F', 'O=C(NNC(=O)c1ccc(-c2ccc(F)cc2)s1)c1ccccn1', 'Cc1cnc(-c2cc3c(s2)C(NC(=O)c2cccc(F)c2)=NC3)o1', 'O=C(C=Cc1nc2ccccc2s1)NNC(=O)c1ccccc1F', 'O=C(Nc1cc2c(=O)[nH]cnc2cc1F)[C@@H]1CSc2ccccc21', 'C[C@@H]1C[C@H]2[C@@H]3CCC4=CC(=O)C=C[C@@]4([C@]3([C@H](C[C@@]2([C@]1(C(=O)CO)O)C)O)F)C', 'C=C1C[C@H]2[C@@H]3CCC4=CC(O)C(=O)C[C@]4(C)[C@@]3(F)CC[C@]2(C)[C@@]1(O)C(=O)CO', 'CC1C[C@H]2[C@@H]3CCC4=CC(=O)C=C[C@]4(C)[C@H]3C(O)C[C@]2(C)[C@@]1(O)C(=O)C(O)F', 'CC(=O)[C@@]1(O)CCC2C3CC(C=O)C4=CC(=O)CC[C@]4(C)[C@@]3(F)[C@@H](O)C[C@@]21C', 'CC1=C[C@H]2[C@@H]3CC[C@](O)(C(=O)CO)[C@@]3(C)CC[C@]2(F)[C@@]2(C)CC(=O)C(O)C=C12', 'C#Cc1ccc(C(COCCOC2CCCCO2)OC2CCCCO2)c(F)c1', 'COC(=O)[C@@]1(O)C(C)CC2C3CCC4=CC(=O)C=CC4(C)[C@@]3(F)C(O)CC21C', 'C[C@@H]1C[C@H]2[C@@H]3CCC4=CC(=O)CC[C@]4(C)[C@@]3(F)C(=O)C[C@]2(C)[C@@]1(O)C(=O)CO', 'O=C(O)CCC/C=C\\\\C[C@@H]1[C@@H](/C=C/[C@H](F)COc2ccccc2)[C@H](O)C[C@@H]1O', 'C[C@]12CCC(=O)C=C1C=C[C@H]1[C@@H]3CC[C@@](O)(CCC(=O)O)[C@@]3(C)C[C@H](O)[C@@]12F', 'CC(=O)C1(O)CCC2C3CC(C=O)=C4CC(=O)CCC4(C)C3(F)C(O)CC21C', 'Cc1cc(C2=C(/C=C/[C@@H](O)C[C@@H](O)CC(=O)O)C(C)(C)C[C@H](O)C2)ccc1F', 'C[C@@H]1CC2C3CC=C4CC(=O)C=CC4(C)C3(F)[C@@H](O)CC2(C)C1(O)C(=O)CO', 'C[C@H]1C[C@H]2[C@@H]3CC=C4CC(=O)C=C[C@]4(C)[C@@]3(F)[C@@H](O)C[C@]2(C)[C@@]1(O)C(=O)CO', 'C[C@H]1C[C@H]2[C@@H]3CC[C@](O)(C(=O)CO)[C@@]3(C)C[C@H](O)[C@]2(F)[C@@]2(C)C=CC(=O)C=C12', 'Cc1c(F)c(=O)oc2cc(OCCCCCCCCOC(=O)C(C)C)ccc12', 'O=C(O)CCC/C=C\\\\C[C@@H]1[C@@H](/C=C/[C@@H](F)COc2ccccc2)[C@H](O)C[C@@H]1O', 'C[C@@H]1C[C@H]2[C@@H]3C[C@H](F)C4=CC(=O)CC[C@]4(C)[C@H]3C(=O)C[C@]2(C)[C@@]1(O)C(=O)CO', 'CC(C)[C@@H]1CC[C@@H](C)C[C@@H]1OC(=O)COC(=O)CCC(=O)c1ccc(F)cc1', 'CC1C(=O)C=C2CC[C@H]3[C@@H]4CC[C@](O)(C(=O)CO)[C@@]4(C)CC(=O)[C@@H]3[C@@]2(C)C1F', 'CC1=CC(=O)C=C2C(F)C[C@@H]3[C@H](C(O)C[C@@]4(C)[C@H]3CC[C@]4(O)C(=O)CO)[C@@]12C', 'CC(C)C1CC(O)C(O)C(c2ccc(F)cc2)C1/C=C/C1CC(O)CC(=O)O1', 'C[C@@H]1CC2C3CC=C4CC(=O)C=C[C@]4(C)[C@@]3(F)[C@@H](O)C[C@]2(C)[C@@]1(O)C(=O)CO', 'CC1C[C@H]2[C@@H]3CCC4=CC(=O)CC[C@]4(C)[C@@]3(F)C(=O)C[C@]2(C)[C@@]1(O)C(=O)CO', 'C[C@H]1C[C@@H]2C3CC=C4CC(=O)C=C[C@]4(C)[C@]3(F)C(O)C[C@]2(C)[C@]1(O)C(=O)CO', 'C[C@@H]1C[C@H]2[C@@H]3CCC4=CC(O)=CC(=O)[C@@]4(C)[C@@]3(F)CC[C@]2(C)[C@@]1(O)C(=O)CO', 'C[C@@H]1C[C@H]2[C@@H]3CCC4=CC(=O)C=C(F)[C@@]4(C)[C@@H]3[C@@H](O)C[C@]2(C)[C@@]1(O)C(=O)CO', 'C[C@]12C=CC(=O)C=C1CC[C@H]1[C@@H]3CC[C@@](O)(CCC(=O)O)[C@@]3(C)C[C@H](O)[C@@]12F', 'C[C@H]1C[C@H]2[C@@H]3C[C@H](F)C4=CC(=O)CC[C@]4(C)[C@@]34O[C@H]4C[C@]2(C)[C@@]1(O)C(=O)CO', 'C[C@@H]1C[C@H]2[C@@H]3CCC4=CC(=O)C(O)=C[C@]4(C)[C@@]3(F)[C@@H](O)C[C@]2(C)[C@]12OC2(C)O', 'C[C@H]1C[C@@H]2[C@@H]3CC[C@](O)(C(=O)CO)[C@]3(C)C[C@@H](O)[C@]2(F)[C@@]2(C)C=CC(=O)C=C12', 'C[C@H]1C[C@H]2[C@@H]3CC[C@](O)(C(=O)CO)[C@@]3(C)C[C@@H]3O[C@@]32[C@@]2(C)CC(F)C(=O)C=C12', 'O=C1C[C@@H]2[C@@H](CC[C@@H](F)COc3ccccc3)[C@H](OC3CCCCO3)C[C@@H]2O1', 'CC(C)[C@H]1CC[C@H](C)C[C@H]1OC(=O)COC(=O)CCC(=O)c1ccc(F)cc1', 'CC1C[C@H]2[C@@H]3C=CC4=CC(=O)CC[C@]4(C)[C@@]3(F)C(O)C[C@]2(C)[C@@]1(O)C(=O)CO', 'O=C(O)CCCCCC[C@H]1C(=O)CC[C@@H]1/C=C/[C@@H](O)COc1cccc(F)c1', 'C[C@H]1CC2C3CC=C4CC(=O)C=C[C@]4(C)[C@@]3(F)[C@@H](O)C[C@]2(C)[C@@]1(O)C(=O)CO', 'COC(=O)/C=C1/CC[C@H]2[C@@H]3C[C@@H](F)[C@@]4(O)CC(=O)CC[C@]4(C)[C@H]3C(=O)C[C@]12C', 'CC(C)[C@H]1CC[C@@H](C)C[C@H]1OC(=O)COC(=O)CCC(=O)c1ccc(F)cc1', 'O=C(O)CCCCCC[C@H]1C(=O)CC[C@@H]1/C=C/[C@@H](O)COc1ccc(F)cc1', 'CC1=C[C@@]2(C)C(=CC1=O)CC[C@H]1[C@@H]3CC[C@](O)(C(=O)CO)[C@@]3(C)C[C@H](O)C12F', 'CC1CC2(C)C(CC(O)C3(F)C2CCC2=CC(=O)C=CC23C)C1(O)C(=O)CO', 'C[C@H]1C[C@@H]2[C@@H]3CC[C@](O)(C(=O)CO)[C@]3(C)C[C@@H](O)[C@]2(F)[C@]2(C)C=CC(=O)C=C12', 'CCCCCOC(=O)CCCCc1cc2ccc(OCCC)c(F)c2c(=O)o1', 'C[C@@H]1CC2C3CC=C4CC(=O)C=CC4(C)C3(F)C(O)CC2(C)[C@@]1(O)C(=O)CO', 'C[C@H]1[C@@H](OCc2ccccc2F)O[C@@H]2O[C@]3(C)CC[C@H]4[C@H](C)CC[C@@H]1[C@@]24OO3', 'C[C@]12C[C@H](O)C3(F)[C@@H](CCC4=CC(=O)C=C[C@@]43C)[C@@H]1C[C@@](C)(O)[C@@H]2C(=O)CO', 'CC1=C(F)C(=O)C=C2CC[C@@H]3[C@H]([C@@H](O)C[C@@]4(C)[C@H]3CC[C@]4(O)C(=O)CO)[C@]21C', 'O=C(O)CCC/C=C/CC1C(F)CC(O)C1/C=C/C(O)COc1ccccc1', 'COC(=O)/C=C1/CC[C@H]2[C@@H]3C[C@@H](F)[C@]4(O)CC(=O)CC[C@]4(C)[C@H]3C(=O)C[C@]12C', 'CCCC(C)(C)COc1ccc(Oc2cc(OC)c(OC)c(OC)c2)c(F)c1', 'CC1CCC(C(C)C)C(OC(=O)COC(=O)CCC(=O)c2ccc(F)cc2)C1', 'CC(C)[C@@H]1CC[C@H](C)C[C@H]1OC(=O)COC(=O)CCC(=O)c1ccc(F)cc1', 'CC1C[C@H]2[C@@H]3CC(F)C4=CC(=O)C=C[C@]4(C)[C@H]3[C@@H](O)C[C@]2(C)[C@@]1(O)C(=O)CO', 'C[C@]12CC[C@]3(F)[C@H]4CCC(=O)C=C4CC[C@H]3[C@@H]1CC[C@@H]2C(=O)COC(=O)CO', 'COC(=O)/C=C1\\\\CCC2C3CC(F)C4(O)CC(=O)CCC4(C)C3C(=O)CC12C', 'C[C@H]1C(OCc2ccc(F)cc2)O[C@@H]2O[C@@]3(C)CCC4[C@H](C)CCC1[C@]42OO3', 'CC1C[C@H]2[C@@H]3CCC4=CC(=O)C=C[C@]4(C)[C@@]3(F)C(O)C[C@]2(C)[C@H]1C(O)C(=O)O', 'CC1C[C@H]2[C@@H]3CCC4=CC(=O)C(F)=C[C@]4(C)[C@H]3C(O)C[C@]2(C)[C@@]1(O)C(=O)CO', 'CC1C[C@H]2[C@@H]3CC(F)C4=CC(=O)CC[C@]4(C)[C@]34OC4C[C@]2(C)[C@@]1(O)C(=O)CO', 'O=C(O)CCC/C=C\\\\C[C@@H]1[C@@H](C=C[C@@H](O)COc2ccccc2)[C@H](O)C[C@H]1F', 'COC(=O)[C@@]1(O)[C@H](C)CC2C3CCC4=CC(=O)C=C[C@]4(C)[C@@]3(F)[C@@H](O)C[C@@]21C', 'O=C(O)CCC/C=C\\\\C[C@@H]1[C@@H](/C=C/[C@H](O)COc2ccccc2)[C@H](O)C[C@H]1F', 'CC(CC(=O)OCC1(CO)C/C(=C\\\\c2ccc(F)cc2)C(=O)O1)CC(C)(C)C', 'C[C@H]1C[C@H]2[C@@H]3C[C@H](F)C4=CC(=O)C=C[C@]4(C)[C@H]3C(O)C[C@]2(C)[C@@]1(O)C(=O)CO', 'C[C@H]1C[C@H]2[C@@H]3C[C@H](F)C4=CC(=O)C=C[C@]4(C)[C@H]3[C@@H](O)C[C@]2(C)[C@@]1(O)C(=O)CO', 'C[C@H]1C[C@H]2[C@@]3(F)CCC4=CC(=O)C=C[C@]4(C)[C@@H]3[C@@H](O)C[C@]2(C)[C@@]1(O)C(=O)CO', 'C[C@@H]1C[C@H]2[C@@H]3CCC4=CC(=O)C=C[C@]4(C)[C@@]3(F)[C@@H](O)C[C@]2(C)[C@H]1C(O)C(=O)O', 'CCC#CC[C@H](C)[C@H](O)C#C[C@@H]1[C@H]2C/C(=C(/F)COCC(=O)O)C[C@H]2C[C@H]1O', 'C[C@@H]1C[C@H]2[C@@H]3CCC4=CC(=O)C=C[C@]4(C)[C@@]3(F)[C@@H](O)C[C@]2(C)[C@H]1[C@H](O)C(=O)O', 'COC(=O)[C@@]1(O)[C@H](C)CC2C3CCC4=CC(=O)C=CC4(C)[C@@]3(F)C(O)CC21C', 'CC1C[C@H]2[C@@H]3CCC4=CC(=O)C(=O)C[C@]4(C)[C@@]3(F)CC[C@]2(C)[C@@]1(O)C(=O)CO', 'C[C@H]1[C@@H](OCc2ccccc2F)O[C@@H]2O[C@@]3(C)CC[C@H]4[C@H](C)CC[C@@H]1[C@@]24OO3', 'C[C@@H]1C[C@H]2[C@@H]3CC[C@@](O)(C(=O)CO)[C@@]3(C)C[C@H](O)[C@]2(F)[C@@]2(C)C=CC(=O)C=C12', 'C[C@H]1CC2C3CC=C4CC(=O)C=C[C@]4(C)C3(F)[C@@H](O)C[C@]2(C)[C@@]1(O)C(=O)CO', 'C[C@H](O)C(=O)[C@@]1(O)CC[C@H]2[C@@H]3CCC4=CC(=O)C=C[C@]4(C)[C@@]3(F)[C@@H](O)C[C@@]21C', 'CC1C[C@H]2[C@@H]3CCC4=CC(=O)C=C(F)[C@]4(C)[C@H]3[C@@H](O)C[C@]2(C)[C@@]1(O)C(=O)CO', 'C[C@@H]1C[C@H]2[C@@H]3C[C@H](F)C4=CC(=O)C=C[C@]4(C)[C@H]3[C@@H](O)C[C@]2(C)[C@@]1(O)C(=O)CO', 'CC(O)C(=O)C1(O)CCC2C3CCC4=CC(=O)C=CC4(C)C3(F)C(O)CC21C', 'C[C@H]1[C@@H](OCc2ccc(F)cc2)O[C@@H]2O[C@@]3(C)CC[C@H]4[C@H](C)CC[C@@H]1[C@@]24OO3', 'C[C@]12C=CC(=O)C=C1CC[C@H]1[C@@H]3CC[C@](O)(CCC(=O)O)[C@@]3(C)CC(O)[C@@]12F', 'C[C@@H]1C[C@H]2[C@@H]3CCC4=CC(=O)C=C[C@]4(C)[C@@]3(F)[C@@H](O)C[C@]2(C)[C@H]1[C@@H](O)C(=O)O', 'CC1CC2(C)C(CC(O)[C@@]3(F)C2CCC2=CC(=O)C=CC23C)[C@@]1(O)C(=O)CO', 'C[C@@H]1C[C@H]2[C@@H]3CCC4=CC(=O)CC[C@]4(C)[C@@]3(F)[C@@H](O)C[C@]2(C)[C@H]1C(=O)C(=O)O', 'CC1(O)C[C@H]2[C@@H]3CCC4=CC(=O)C=C[C@]4(C)[C@@]3(F)C(O)C[C@]2(C)[C@H]1C(=O)CO', 'C[C@H]1C[C@@H]2[C@@H]3CC[C@](O)(C(=O)CO)[C@]3(C)C[C@H](O)[C@]2(F)[C@@]2(C)C=CC(=O)C=C12', 'CC1C[C@H]2[C@@H]3CC(F)C4=CC(=O)C=C[C@]4(C)[C@H]3C(O)C[C@]2(C)[C@@]1(O)C(=O)CO', 'CC1(O)C[C@@]2(C)C(=CC1=O)C(F)=C[C@@H]1[C@@H]2CC[C@@]2(C)[C@H]1CC[C@]2(O)C(=O)CO', 'C[C@@H]1C[C@@]2(C)C(=CC1=O)C(F)C[C@@H]1[C@@H]2C(=O)C[C@@]2(C)[C@H]1CC[C@]2(O)C(=O)CO', 'C[C@]12C=CC(=O)C=C1CC[C@H]1[C@@H]3C[C@@H](CO)[C@](O)(C(=O)CO)[C@@]3(C)CCC12F', 'CC1CCC2[C@@H](C)C(OCc3cccc(F)c3)OC3OC4(C)CCC1[C@]32OO4', 'CC(O)C(=O)[C@@]1(O)CC[C@H]2[C@@H]3CCC4=CC(=O)C=C[C@]4(C)[C@@]3(F)C(O)C[C@@]21C', 'CC(=O)OCC(=O)[C@H]1CC[C@H]2[C@@H]3CCC4=CC(=O)CC[C@@H]4[C@@]3(F)[C@H](O)C[C@]12C', 'CC1=C[C@@]2(C)C(=CC[C@H]3[C@@H]4CC[C@](O)(C(=O)CO)[C@@]4(C)CC(O)[C@@]32F)CC1=O', 'C/C=c1/cc(-c2ccc(C3OCCCO3)cc2F)o/c1=C/C.CC.CC(=O)O', 'C=C1C[C@H]2[C@@H]3CCC4=CC(=O)CC[C@]4(C)[C@@]3(F)C(O)C[C@]2(C)[C@@]1(O)C(=O)CO', 'CC(O)(O)C(=O)[C@@]1(O)C(=O)C(F)=C2C3=CCC4CCCC[C@]4(C)[C@H]3CC[C@@]21C', 'CC1CC2C3(F)CCC4=CC(=O)C=CC4(C)C3C(O)CC2(C)C1(O)C(=O)CO', 'CC1C[C@H]2[C@@H]3C[C@H](F)C4=CC(=O)C=C[C@]4(C)[C@H]3C(O)C[C@]2(C)[C@@]1(O)C(=O)CO', 'C[C@H]1C[C@@H]2[C@H]3C[C@H](F)C4=CC(=O)C=C[C@]4(C)[C@@H]3[C@@H](O)C[C@]2(C)[C@]1(O)C(=O)CO', 'C[C@@H]1CC2C3CCC4CC(=O)C=CC4(C)[C@@]3(F)C(=O)CC2(C)[C@@]1(O)C(=O)CO', 'O=C(O)CCCC=CCC1C(F)CC(O)C1C=CC(O)COc1ccccc1', 'C[C@@H]1C[C@H]2[C@H]3C[C@@H](F)C4=CC(=O)C=C[C@]4(C)[C@@H]3[C@@H](O)C[C@@]2(C)[C@@]1(O)C(=O)CO', 'CC1CC2[C@@H]3CC=C4CC(=O)C=C[C@]4(C)C3(F)C(O)C[C@]2(C)[C@@]1(O)C(=O)CO', 'C[C@H]1C[C@H]2[C@@H]3C=C(F)C4=CC(=O)CC[C@]4(C)[C@H]3[C@@H](O)C[C@]2(C)[C@@]1(O)C(=O)CO', 'C[C@H]1C[C@@H]2[C@@H]3CCC4=CC(=O)C=C[C@]4(C)[C@@]3(F)[C@@H](O)C[C@@]2(C)[C@@H]1[C@@H](O)C(=O)O', 'CC1CC2C3CC(F)C4=CC(=O)C=CC4(C)C3C(O)CC2(C)C1(O)C(=O)CO', 'CC1C[C@H]2[C@@H]3CCC4=CC(=O)CC(=O)[C@]4(C)[C@@]3(F)CC[C@]2(C)[C@@]1(O)C(=O)CO', 'C[C@H]1C[C@@H]2[C@@H]3CCC4=CC(=O)C=C[C@]4(C)[C@@]3(F)[C@@H](O)C[C@]2(C)[C@@H]1[C@@H](O)C(=O)O', 'CCCCOc1cc(C[C@H](C)[C@]23C[C@@H](C)C(=O)C=C2OCO3)c(F)cc1OC', 'C[C@@H]1CC2C3C[C@H](F)C4=CC(=O)C=C[C@]4(C)[C@@]3(C)[C@@H](O)C[C@]2(C)[C@@]1(O)C(=O)O', 'C[C@]12CCC(=O)C=C1C=C[C@H]1[C@@H]3CC[C@](O)(CCC(=O)O)[C@@]3(C)CC(O)[C@@]12F', 'CC1C(O)C(=O)C=C2C(F)=C[C@H]3[C@@H]4CC[C@](O)(C(=O)CO)[C@@]4(C)CC[C@@H]3[C@]21C', 'CCC(=O)[C@@]1(O)[C@H](O)C[C@H]2[C@@H]3CCC4=CC(=O)C=C[C@]4(C)[C@@]3(F)[C@@H](O)C[C@@]21C', 'CC1C(=O)C(=O)C=C2CC[C@H]3[C@@H]4CC[C@](O)(C(=O)CO)[C@@]4(C)CC[C@]3(F)[C@]21C', 'C[C@@H]1CC2(F)[C@@H]3CCC4=CC(=O)C=C[C@]4(C)[C@H]3[C@@H](O)C[C@]2(C)[C@@]1(O)C(=O)CO', 'C[C@@H]1C[C@H]2[C@@H]3CC=C4CC(=O)C=C[C@]4(C)[C@@]3(F)[C@@H](O)C[C@]2(C)[C@@]1(O)C(=O)CO', 'C[C@@H]1C[C@H]2[C@@H]3C[C@H](F)C4=CC(=O)C=C[C@@]4(C)[C@H]3[C@@H](O)C[C@]2(C)[C@@]1(O)C(=O)CO', 'CC1CC2C3CC(F)C4=CC(=O)C=C[C@]4(C)C3C(O)C[C@]2(C)[C@@]1(O)C(=O)CO', 'C[C@@H]1C[C@H]2[C@@H]3C[C@H](F)C4=CC(=O)C=C[C@]4(C)[C@H]3[C@H](O)C[C@]2(C)[C@]1(O)C(=O)CO', 'CC1CC2(F)C3CCC4=CC(=O)C=CC4(C)C3C(O)CC2(C)C1(O)C(=O)CO', 'C[C@H]1C[C@@H]2[C@@H]3CCC4=CC(=O)C=C[C@]4(C)[C@@]3(F)[C@@H](O)C[C@]2(C)[C@@H]1[C@H](O)C(=O)O', 'C[C@H]1C[C@H]2[C@@H]3CCC4=CC(=O)CC[C@]4(C)[C@@]3(F)C(=O)C[C@]2(C)[C@@]1(O)C(=O)CO', 'C[C@@H]1C[C@H]2[C@@H]3CCC4=C(F)C(=O)C=C[C@]4(C)[C@H]3[C@@H](O)C[C@]2(C)[C@@]1(O)C(=O)CO', 'CC1CC2C3CC(F)=C4CC(=O)C=CC4(C)C3C(O)CC2(C)C1(O)C(=O)CO', 'C[C@H]1C[C@H]2[C@@H]3CC[C@](O)(C(=O)CO)[C@@]3(C)CC(=O)[C@]2(F)[C@@]2(C)CCC(=O)C=C12', 'C[C@@H]1C[C@H]2[C@@H]3CCC4=CC(=O)C=C[C@]4(C)[C@@]3(F)[C@@H](O)C[C@]2(C)[C@]12OC2(O)CO', 'C[C@@H]1C[C@H]2[C@@H]3CCC4=CC(=O)C=C[C@]4(C)[C@@]3(F)[C@@H](O)C[C@]2(C)[C@@H](C(=O)O)[C@@H]1O', 'O=C(O)CCCC=CC[C@@H]1[C@@H](C=C[C@@H](F)COc2ccccc2)[C@H](O)C[C@@H]1O', 'CC1CC2C3CCC4=CC(=O)C=CC4(C)C3(F)C(O)CC2(C)C1C(O)C(=O)O', 'O=C1C[C@@H]2[C@@H](CC[C@H](F)COc3ccccc3)[C@H](OC3CCCCO3)C[C@@H]2O1', 'C[C@H]1C(OCc2ccc(F)cc2)O[C@@H]2O[C@]3(C)CCC4[C@H](C)CCC1[C@]42OO3', 'O=C(O)CCC/C=C\\\\C[C@@H]1[C@@H](/C=C/[C@H](O)COc2ccccc2)[C@@H](O)C[C@H]1F', 'C[C@H]1C[C@H]2[C@@H]3CCC4=CC(=O)C=C[C@]4(C)[C@@]3(F)[C@@H](O)C[C@]2(C)[C@@]1(O)CC(=O)O', 'CC1CC2C3CCC4=CC(=O)C=C(F)C4(C)C3C(O)CC2(C)C1(O)C(=O)CO', 'C[C@@H]1C[C@H]2[C@@H]3C=C(F)C4=CC(=O)CC[C@]4(C)[C@H]3[C@@H](O)C[C@]2(C)[C@@]1(O)C(=O)CO', 'CC1=CC(=O)C=C2CC[C@H]3[C@@H]4CC[C@](O)(C(=O)CO)[C@@]4(C)CC(O)[C@]3(F)[C@@]12C', 'COC(=O)C1(O)[C@H](C)CC2C3CCC4=CC(=O)C=CC4(C)[C@@]3(F)C(O)CC21C', 'C[C@@H]1C[C@H]2[C@@H]3CCC4=CC(=O)C=C[C@]4(C)[C@H]3[C@@H](O)C[C@]2(C)[C@@]1(O)C(=O)C(O)F', 'C[C@@H]1C[C@@H]2[C@H]3C[C@H](F)C4=CC(=O)C=C[C@]4(C)[C@@H]3[C@@H](O)C[C@@]2(C)[C@]1(O)C(=O)CO', 'CC(=O)O[C@@H]1C[C@]2(C)[C@@H](C(=O)CO)CC[C@H]2[C@@H]2C[C@H](F)C3=CC(=O)CC[C@@H]3[C@H]21', 'CC1=C[C@H]2[C@@H]3CC[C@](O)(C(=O)CO)[C@@]3(C)CC(O)[C@]2(F)[C@@]2(C)CCC(=O)C=C12', 'C[C@@H]1C[C@H]2[C@@H]3C[C@H](F)C4=CC(=O)C=C[C@]4(C)[C@H]3[C@H](O)C[C@]2(C)[C@@]1(O)C(=O)CO', 'C[C@H]1CC2C3CC[C@](O)(C(=O)CO)[C@@]3(C)C[C@H](O)C2(F)[C@@]2(C)C=CC(=O)C=C12', 'COC(=O)/C=C1\\\\CC[C@H]2[C@@H]3C[C@@H](F)[C@@]4(O)CC(=O)CC[C@]4(C)[C@H]3C(=O)C[C@]12C', 'C[C@@H]1C[C@H]2[C@@H]3CC[C@](O)(C(=O)CO)[C@@]3(C)C[C@H](O)[C@]2(F)[C@@]2(C)C=CC(=O)C=C12', 'C[C@@H]1C[C@@]2(F)[C@@H]3CCC4=CC(=O)C=C[C@]4(C)[C@H]3[C@@H](O)C[C@]2(C)[C@@]1(O)C(=O)CO', 'C.C[C@@]12C3=CC(=O)C=C1C1C[C@H]4[C@H](CC3)[C@]2(F)[C@@H](O)C[C@]4(C)[C@@]1(O)C(=O)CO', 'C[C@H]1C[C@H]2[C@@H]3C[C@H](F)C4=CC(=O)C=C[C@]4(C)[C@H]3[C@H](O)C[C@]2(C)[C@]1(O)C(=O)CO', 'CC(CC(=O)OCC1(CO)C/C(=C/c2ccc(F)cc2)C(=O)O1)CC(C)(C)C', 'C[C@@H]1C[C@H]2C3CC=C4CC(=O)C=C[C@]4(C)[C@@]3(F)[C@@H](O)C[C@]2(C)[C@@]1(O)C(=O)CO', 'C[C@H]1C[C@]2(F)[C@H]3CCC4=CC(=O)C=C[C@]4(C)[C@@H]3[C@@H](O)C[C@]2(C)[C@@]1(O)C(=O)CO', 'CC1CC2C3CCC(O)(C(=O)CO)C3(C)CC(O)C2(F)C2(C)C=CC(=O)C=C12', 'O=C(O)CCCCCC[C@@H]1C(CCOC#Cc2ccccc2F)[C@H](O)C[C@@H]1O', 'CC1CCC2[C@@H](C)C(OCc3ccccc3F)OC3OC4(C)CCC1[C@]32OO4', 'C=CC(C)C1CC(C(C)Cc2cc(O)c(OC)cc2F)C(OCOC)=CC1=O', 'C[C@@H]1C[C@H]2[C@@H]3C[C@H](F)C4=CC(=O)C=C[C@]4(C)[C@@H]3[C@@H](O)C[C@]2(C)[C@@]1(O)C(=O)CO', 'C[C@@H]1CC2C3CC=C4CC(=O)C=CC4(C)[C@@]3(F)C(O)CC2(C)[C@@]1(O)C(=O)CO', 'C[C@H]1C[C@H]2[C@@H]3CC[C@](O)(C(=O)CO)[C@@]3(C)CC(O)[C@]2(F)[C@@]2(C)C=CC(=O)C=C12', 'C[C@@H]1C[C@H]2[C@@H]3C[C@@H](F)C4=CC(=O)C=C[C@]4(C)[C@H]3[C@H](O)C[C@]2(C)[C@]1(O)C(=O)CO', 'C[C@@H]1C[C@H]2C3CC=C4CC(=O)C=CC4(C)[C@@]3(F)[C@@H](O)CC2(C)[C@@]1(O)C(=O)CO', 'COCCOCCOc1c(OC)cc(C(C)C)c(CO)c1-c1ccc(F)cc1', 'C[C@@H]1CC2C3CC=C4CC(=O)C=CC4(C)C3(F)C(O)CC2(C)C1(O)C(=O)CO', 'C[C@]12C=CC(=O)C=C1CC[C@H]1[C@@H]3C[C@@](C)(O)C(C(=O)CO)[C@@]3(C)C[C@H](O)[C@@]12F', 'CCCCC(F)C(O)CCC1C(OC(=O)c2ccccc2)CC2OC(=O)CC21', 'Cc1cc(C2=C(/C=C/[C@@H](O)C[C@@H](O)CC(=O)O)C(C)(C)C[C@@H](O)C2)ccc1F', 'CC1C[C@H]2[C@@H]3CCC4=CC(=O)CC[C@]4(C)[C@@]3(F)C(O)C[C@]2(C)[C@H]1C(=O)C(=O)O', 'C[C@H]1C[C@H]2[C@@H]3CC[C@@](O)(C(=O)CO)[C@@]3(C)C[C@H](O)[C@]2(F)[C@@]2(C)C=CC(=O)C=C12', 'CC1C[C@H]2[C@@H]3CC[C@](O)(C(=O)CO)[C@@]3(C)CC[C@]2(F)[C@@]2(C)CC(=O)C(=O)C=C12', 'O=C(O)C(/C=C/C(O)(O)COc1cccc(F)c1)CC/C=C/CC1CCCC1', 'CC1C[C@H]2[C@@H]3CC(F)C4=CC(=O)CC[C@]4(C)[C@H]3C(O)C[C@]2(C)[C@H]1C(=O)C(=O)O', 'CC1C[C@H]2[C@@H]3CC(F)C4=CC(=O)C=C[C@]4(C)[C@H]3C(O)C[C@]2(C)[C@H]1C(O)C(=O)O', 'C[C@H]1C[C@H]2[C@@H]3CCC4=CC(=O)C=C[C@]4(C)[C@H]3[C@@H](O)C[C@]2(C)[C@@]1(O)C(=O)C(O)F', 'CC1C[C@H]2[C@@H]3CCC4=CC(=O)C=C[C@]4(C)[C@@]3(F)CC[C@]2(C)[C@H]1C(=O)C(O)(O)O', 'C[C@]12C=CC(=O)C=C1CC[C@@H]1[C@@H]2C(O)C[C@@]2(C)[C@H]1C[C@H](CF)[C@]2(O)C(=O)CO', 'C[C@H]1C[C@@H]2[C@H](C(=O)C[C@@]3(C)[C@H]2CC[C@]3(O)C(=O)CO)[C@@]2(C)CC(F)C(=O)C=C12', 'CC1C[C@H]2[C@@H]3CCC4=C(F)C(=O)C=C[C@]4(C)[C@H]3C(O)C[C@]2(C)[C@@]1(O)C(=O)CO', 'COC(=O)/C=C1\\\\CC[C@H]2[C@@H]3C[C@@H](F)[C@]4(O)CC(=O)CC[C@]4(C)[C@H]3C(=O)C[C@]12C', 'C/C(=C\\\\C(O)Oc1ccc(F)cc1)C1CCC(O)C1CC/C=C/CCC(=O)O', 'C[C@@H]1C[C@H]2[C@@H]3C[C@H](F)C4=CC(=O)CC[C@]4(C)[C@H]3[C@@H](O)C[C@]2(C)[C@H]1C(=O)C(=O)O', 'CC1C[C@H]2[C@@H]3C=C(F)C4=CC(=O)CC[C@]4(C)[C@H]3C(O)C[C@]2(C)[C@@]1(O)C(=O)CO', 'COC(=O)[C@@]1(O)[C@@H](C)CC2C3CCC4=CC(=O)C=CC4(C)C3(F)[C@@H](O)CC21C', 'CC12C=CC(=O)C=C1CCC1(C)[C@@H]3CC[C@](O)(C(=O)CO)C3(C)CC(O)[C@]21F', 'CC(=O)[C@@]1(O)C(C)C[C@H]2[C@@H]3CC(F)C4=CC(=O)C=C[C@]4(C)[C@@]3(O)C(O)C[C@@]21C', 'CCCCC(F)C(O)CC[C@H]1C(OC(=O)c2ccccc2)CC2OC(=O)CC21', 'O=C(O)C(/C=C/C(O)(O)COc1cccc(F)c1)CCC=CCC1CCCC1', 'C[C@@H]1C[C@H]2[C@@H]3C[C@H](F)C4=CC(=O)C=C[C@]4(C)[C@H]3[C@@H](O)C[C@]2(C)[C@H]1[C@@H](O)C(=O)O', 'C[C@H]1C[C@H]2[C@@H]3C[C@H](F)C4=CC(=O)C=C[C@]4(C)[C@@H]3[C@@H](O)C[C@]2(C)[C@@]1(O)C(=O)CO', 'C[C@]12C(CF)=CC(=O)C=C1CC[C@@H]1[C@@H]2[C@@H](O)C[C@@]2(C)[C@H]1CC[C@]2(O)C(=O)CO', 'C[C@H]1CC2C3CC=C4CC(=O)C=CC4(C)[C@@]3(F)[C@@H](O)CC2(C)[C@@]1(O)C(=O)CO', 'CC1CC2C3CC=C4CC(=O)C=CC4(C)C3(F)C(O)CC2(C)C1(O)C(=O)CO', 'C[C@H]1[C@@H](OCc2ccc(F)cc2)O[C@@H]2O[C@]3(C)CC[C@H]4[C@H](C)CC[C@@H]1[C@@]24OO3', 'C[C@H]1C[C@H]2[C@@H]3CCC4=CC(=O)C(F)=C[C@]4(C)[C@H]3[C@@H](O)C[C@]2(C)[C@@]1(O)C(=O)CO', 'CC1CC2C3CC=C4CC(=O)C=CC4(C)[C@@]3(F)C(O)CC2(C)[C@@]1(O)C(=O)CO', 'O=C(O)CCC/C=C/C[C@@H]1[C@@H](C=C[C@@H](O)COc2ccccc2)[C@H](O)C[C@H]1F', 'CCCCC(F)[C@H](O)CC[C@@H]1[C@H]2CC(=O)O[C@H]2C[C@H]1OC(=O)c1ccccc1', 'CC1CC2C3CC=C4CC(=O)C=C[C@]4(C)C3(F)[C@@H](O)C[C@]2(C)C1(O)C(=O)CO', 'CC1C[C@H]2[C@@H]3CCC4=CC(=O)C=C[C@]4(C)[C@@]3(F)C(O)C[C@]2(C)[C@@]1(O)CC(=O)O', 'O=C(O)CCCOC1C[C@H]2CC[C@H](C=CC(O)COc3ccc(F)cc3)[C@@H]2C1', 'C[C@]12C=CC(=O)C=C1CC[C@@H]1[C@@H]2C(O)C[C@@]2(C)[C@H]1C[C@@H](CF)[C@]2(O)C(=O)CO', 'C[C@H]1C[C@H]2[C@@H]3CCC4=CC(=O)C=C[C@]4(C)[C@@]3(F)[C@@H](O)C[C@]2(C)[C@@](O)(CO)C1=O', 'C[C@H]1C[C@H]2[C@@H]3CCC4=CC(=O)C=C[C@]4(C)[C@@]3(F)[C@@H](O)C[C@]2(C)C(=O)[C@@]1(O)CO', 'C[C@]12C=CC(=O)C=C1CC[C@@H]1[C@@H]2C(O)C[C@@]2(C)[C@H]1C[C@](C)(F)[C@]2(O)C(=O)CO', 'CC1C[C@H]2[C@@H]3CCC4=CC(=O)C=C[C@]4(C)[C@@]3(F)C(O)C[C@]2(C)[C@]12OC2(O)CO', 'O=C(O)CCCOC1C[C@H]2CC[C@H](C=CC(O)COc3ccccc3F)[C@@H]2C1', 'COC(=O)C=C1CCC2C3CC(F)C4(O)CC(=O)CCC4(C)C3C(=O)CC12C', 'C[C@H]1CC2C3CC[C@](O)(C(=O)CO)C3(C)CC(O)[C@]2(F)C2(C)C=CC(=O)C=C12', 'C[C@H]1C[C@H]2[C@@H]3CCC4=C(F)C(=O)C=C[C@]4(C)[C@H]3[C@@H](O)C[C@]2(C)[C@@]1(O)C(=O)CO', 'C[C@@H]1C[C@H]2[C@@H]3C[C@H](F)C4=CC(=O)C=C[C@]4(C)[C@H]3C(O)C[C@]2(C)[C@@]1(O)C(=O)CO', 'CC1=CC(=O)C=C2CCC3C4C[C@H](C)[C@](O)(C(=O)O)C4(C)C[C@H](O)C3(F)C12C', 'CC1C[C@H]2[C@@H]3CC[C@](O)(C(=O)CO)[C@@]3(C)C[C@H](O)[C@]2(F)[C@@]2(C)C=CC(=O)C=C12', 'CC1CC2C3CC=C4CC(=O)C=C[C@]4(C)C3(F)[C@@H](O)C[C@]2(C)[C@@]1(O)C(=O)CO', 'CC1C[C@H]2[C@@H]3CC[C@](O)(C(=O)CO)[C@@]3(C)CC(O)[C@]2(F)[C@@]2(C)C=CC(=O)C=C12', 'C[C@H]1C[C@H]2[C@@H]3C[C@@H](F)C4=CC(=O)C=C[C@]4(C)[C@H]3[C@@H](O)C[C@]2(C)[C@@]1(O)C(=O)CO', 'O=C(O)CCC=CCC[C@H]1[C@H](O)CC[C@H]1C=CC(O)COc1ccc(F)cc1', 'CCOC(=O)C12CC=C(CCCO)C(C1)C(c1ccc(O)c(F)c1)OC2(C)C', 'C[C@@H]1C[C@H]2[C@@H]3CCC4=CC(=O)C(F)=C[C@]4(C)[C@H]3[C@@H](O)C[C@]2(C)[C@@]1(O)C(=O)CO', 'CC(C)(C)OC(=O)c1cc(C2CC2)c(OC2CCC3(CC2)OCCO3)cc1F', 'C[C@@H]1C[C@H]2[C@@H]3CCC4=CC(=O)C=C(F)[C@]4(C)[C@H]3C(O)C[C@]2(C)[C@@]1(O)C(=O)CO', 'COCCOc1cc(C(C)C)c(CO)c(-c2ccc(F)cc2)c1OCCOC', 'C[C@H]1C[C@H]2[C@@H]3C[C@H](F)C4=CC(=O)CC[C@]4(C)[C@H]3C(=O)C[C@]2(C)[C@@]1(O)C(=O)CO', 'CC(C)[C@H]1CC[C@@H](C)C[C@@H]1OC(=O)COC(=O)CCC(=O)c1ccc(F)cc1', 'CC(C)[C@@H]1CC[C@@H](C)C[C@H]1OC(=O)COC(=O)CCC(=O)c1ccc(F)cc1', 'C[C@H]1CC2C3CC=C4CC(=O)C=CC4(C)C3(F)C(O)CC2(C)C1(O)C(=O)CO', 'CC1CCC2[C@@H](C)C(OCc3ccc(F)cc3)OC3OC4(C)CCC1[C@]32OO4', 'C[C@H]1C[C@@H]2[C@H](C(=O)C[C@@]3(C)[C@H]2CC[C@]3(O)C(=O)C(O)F)[C@@]2(C)CCC(=O)C=C12', 'C[C@H]1C[C@@H]2[C@@H]3CCC4=CC(=O)C=C[C@]4(C)[C@@]3(F)[C@@H](O)C[C@@]2(C)[C@@H]1[C@H](O)C(=O)O', 'CC(=O)O[C@H]1CC[C@H]2[C@@H]3C(=O)C=C4C[C@@H](F)CC[C@]4(OC(C)=O)[C@H]3CC[C@]12C', 'CC1C[C@H]2[C@@H]3CCC4=CC(O)=CC(=O)[C@]4(C)C3(F)CC[C@]2(C)[C@@]1(O)C(=O)CO', 'CC1C[C@H]2[C@@H]3CC[C@](O)(C(=O)CO)[C@@]3(C)CC(O)C2(F)[C@@]2(C)C=CC(=O)C=C12', 'C[C@H]1C[C@H]2[C@H]3CC[C@](O)(C(=O)CO)[C@@]3(C)C[C@H](O)[C@]2(F)[C@@]2(C)C=CC(=O)C=C12', 'CC[C@@H]1C[C@H]2[C@@H]3CCC4=CC(=O)C=C[C@]4(C)[C@@]3(F)[C@@H](O)C[C@]2(C)[C@@]1(O)C(=O)O', 'CC1=C[C@@]2(C)C(=CC1=O)CC[C@H]1[C@@H]3CC[C@](O)(C(=O)CO)[C@@]3(C)CC(O)[C@@]12F', 'C[C@@H]1CC2C3CC=C4CC(=O)C=CC4(C)[C@@]3(F)[C@@H](O)CC2(C)[C@@]1(O)C(=O)CO', 'C[C@]12C=CC(=O)C=C1CC[C@H]1[C@@H]3CC[C@](O)(C(=O)CO)[C@@]3(C)CC(O)[C@@]12CF', 'COc1cc(Oc2cc(OC(C)(C)CC(C)C)ccc2F)cc(OC)c1OC', 'CCC(=O)OCCCCCCCCCOc1ccc2c(C)c(F)c(=O)oc2c1', 'COC(=O)C=C1CC[C@H]2[C@@H]3C[C@@H](F)[C@@]4(O)CC(=O)CC[C@]4(C)[C@H]3C(=O)C[C@]12C', 'C[C@@H]1C[C@@]2(C)C(=CC1=O)CC[C@H]1[C@@H]3CC[C@](O)(C(=O)CO)[C@@]3(C)CC(=O)[C@@]12F', 'CC(O)C(=O)[C@@]1(O)CC[C@H]2[C@@H]3CCC4=CC(=O)C=C[C@]4(C)[C@@]3(F)[C@@H](O)C[C@@]21C', 'O=C(O)CCCCCCC1C(CCOC#Cc2ccccc2F)[C@H](O)C[C@@H]1O', 'CC[C@]12CC(O)[C@H]3[C@@H](CCC4=CC(=O)C=C(F)[C@@]43C)[C@@H]1CC[C@]2(O)C(=O)CO', 'C[C@H]1C[C@H]2[C@@H]3CCC4=CC(=O)C=C[C@]4(C)[C@@]3(F)[C@@H](O)C[C@]2(C)[C@@H]1[C@@H](O)C(=O)O', 'C[C@H]1CC2[C@@H]3CC=C4CC(=O)C=C[C@]4(C)C3(F)[C@@H](O)C[C@]2(C)[C@@]1(O)C(=O)CO', 'C[C@@H]1C[C@H]2[C@@H]3C[C@H](C)C4=CC(=O)C=C[C@]4(C)[C@@]3(F)[C@@H](O)C[C@]2(C)[C@]1(O)C(=O)O', 'C[C@H]1C[C@H]2[C@@H]3C[C@@H](F)C4=CC(=O)C=C[C@]4(C)[C@H]3[C@H](O)C[C@]2(C)[C@]1(O)C(=O)CO', 'C[C@@H]1C[C@H]2[C@@H]3C[C@@H](F)C4=CC(=O)C=C[C@]4(C)[C@H]3[C@@H](O)C[C@]2(C)[C@@]1(O)C(=O)CO', 'C[C@H]1[C@@H](OCc2cccc(F)c2)O[C@@H]2O[C@@]3(C)CC[C@H]4[C@H](C)CC[C@@H]1[C@@]24OO3', 'CC1C[C@H]2[C@@H]3CCC4=CC(O)=CC(=O)[C@]4(C)[C@@]3(F)CC[C@]2(C)[C@@]1(O)C(=O)CO', 'O=C(O)CCC/C=C\\\\C[C@@H]1[C@@H](/C=C/[C@@H](O)COc2ccccc2)[C@H](O)C[C@H]1F', 'CC1(F)C[C@H]2[C@@H]3CCC4=CC(=O)C=C[C@]4(C)[C@H]3[C@@H](O)C[C@]2(C)[C@@]1(O)C(=O)CO', 'CC1C(=O)C(=O)C=C2C(F)C[C@H]3[C@@H]4CC[C@](O)(C(=O)CO)[C@@]4(C)CC[C@@H]3[C@]21C', 'C[C@@H]1C[C@@H]2[C@H]3C[C@H](F)C4=CC(=O)C=C[C@]4(C)[C@@H]3[C@@H](O)C[C@]2(C)[C@]1(O)C(=O)CO', 'CCC#CC[C@H](C)[C@H](O)C#C[C@@H]1[C@H]2C/C(=C(\\\\F)COCC(=O)O)C[C@H]2C[C@H]1O', 'C[C@@H]1C[C@H]2[C@@H]3C=CC4=CC(=O)CC[C@]4(C)[C@@]3(F)[C@@H](O)C[C@]2(C)[C@@]1(O)C(=O)CO', 'C[C@H]1C[C@@H]2[C@@H]3CC[C@](O)(C(=O)CO)[C@]3(C)C[C@H](O)[C@]2(F)[C@]2(C)C=CC(=O)C=C12', 'C1CC(C=C1)C(=O)OCC2C(C(C(C(O2)OC3=C(C=C(C=C3)O)COC(=O)C4(C(CCC(=O)C4OC(=O)C5CCC=C5)O)O)OC(=O)C6CCC=C6)O)O', 'COc1cc(C(OC(C)=O)C(COC(C)=O)Oc2c(OC)cc(C(OC(C)=O)C(COC(C)=O)Oc3ccccc3OC)cc2OC)ccc1OC(C)=O', 'O=C(OC[C@@H]1O[C@H](Oc2ccc(O)cc2COC(=O)[C@]2(O)C(=O)CC[C@H](O)[C@H]2OC(=O)[C@@H]2C=CCC2)[C@@H](OC(=O)[C@@H]2C=CCC2)[C@H](O)[C@H]1O)[C@@H]1C=CCC1', 'CO[C@H](OC1CC(C)(O)C(OC2CC(C)(O)C(O)C(C)O2)C(C)O1)C12OC3c4c(C)cc5c(c4O[C@](OC)(C3O1)[C@@]21CO1)C(=O)c1c(O)cccc1C5=O', 'C=C(C)C(=O)OCC(OC(=O)C(=C)C)C(=C=O)C(=O)OC(=O)OCCCCCOC(=O)C(=C=O)C(O)CO.O=C1OCCCCCC1=Cc1ccccc1', 'CCC1(O)CC(OC2CCC(OC3CC(OC(C)=O)C(OC(C)=O)C(C)O3)C(C)O2)c2c(O)c3c(c(O)c2C1C(=O)OC)C(=O)c1cccc(O)c1C3=O', 'COC(=O)CC(C)C(=O)Oc1c(OC)cc([C@@H]2c3cc4c(cc3[C@@H](O[C@@H]3O[C@@H]5CO[C@@H](C)O[C@H]5[C@@H]5OC(C)(C)O[C@@H]35)[C@H]3COC(=O)[C@H]23)OCO4)cc1OC', 'C/C=C1\\\\C(O)OC=C(C(=O)OC)[C@H]1CC(=O)OCCc1ccc(O)c(O)c1.COC(=O)C1=COC(C)C(C=O)[C@@H]1CC(=O)OCCc1ccc(O)c(O)c1', 'O=C(OCC1OC(Oc2ccc(O)cc2COC(=O)C2(O)C(=O)CCC(O)C2OC(=O)C2C=CCC2)C(OC(=O)C2C=CCC2)C(O)C1O)C1C=CCC1', 'C#CCO[C@@H]1O[C@@H]2COC(c3ccccc3)O[C@H]2[C@H](OCc2ccc(OC)cc2)[C@H]1O[C@@H]1O[C@H](COC(C)=O)[C@@H](OC(C)=O)[C@H](OC(C)=O)[C@H]1OC(C)=O', 'CCCC1(C)OC(=O)C(=C/C=C/C=C/C2C(=O)OC3(CCC4(CC3)OC(=O)C(=C/C=C/C=C/C3C(=O)OC(C)(CCC)OC3O)C(=O)O4)OC2O)C(=O)O1', 'O=C(OC[C@@H]1O[C@@H](Oc2ccc(O)cc2COC(=O)[C@@]2(O)C(=O)CC[C@H](O)[C@@H]2OC(=O)[C@@H]2C=CCC2)[C@@H](OC(=O)[C@@H]2C=CCC2)[C@@H](O)[C@H]1O)[C@@H]1C=CCC1', 'C=C(C)C(=O)OC1CC2CC1C1COC(=O)C21.C=C(C)C(=O)OC1CC2OC1C1COC(=O)C21.C=C(C)C(=O)OCC(=O)OC1C2CC3C(=O)OC1C3O2', 'O=C(OC[C@H]1O[C@@H](Oc2ccc(O)cc2COC(=O)C2(O)C(=O)CC[C@H](O)[C@H]2OC(=O)C2C=CCC2)[C@H](OC(=O)C2C=CCC2)[C@@H](O)[C@@H]1O)C1C=CCC1', 'CC[C@@]1(O)C[C@H](OC2CCC(OC3CC(OC(C)=O)C(OC(C)=O)C(C)O3)C(C)O2)c2c(O)c3c(c(O)c2[C@H]1C(=O)OC)C(=O)c1cccc(O)c1C3=O', 'CO.COc1cc2c(=O)c3ccc(OC)c(OC)c3oc2c(OC)c1OC.COc1ccc(C(=O)c2cc(OC)c(OC)c(OC)c2O)c(OC)c1OC', 'COC(=O)CC(C)C(=O)Oc1c(OC)cc([C@@H]2c3cc4c(cc3[C@@H](OC3O[C@@H]5CO[C@@H](C)O[C@H]5[C@@H]5OC(C)(C)O[C@@H]35)[C@H]3COC(=O)[C@H]23)OCO4)cc1OC', 'C=C(C)C(=O)OC1C2CC3C(=O)OC1C3C2.C=C(C)C(=O)OC1CCOC1=O.C=CC(=O)OC1C2CC3C(=O)OC1C3C2.C=CC(=O)OC1CCOC1=O', 'C=C(C)C(=O)OCCO.C=C(C)C(=O)OCCOC(=O)c1ccc(O)cc1.CCC(=O)OCCOC(=O)c1ccc(O)cc1.O=C(O)c1ccc(O)cc1', 'CC(C)(C1=CC=CC=C1CC[C@H](C2=CC=CC(=C2)/C=C/C3=NC4=C(C=CC(=C4)Cl)C=C3)SCC5(CC5)CC(=O)O)O', 'CCC(SCC1(CC(=O)O)CC1)c1cccc([C@@H](C)CO)c1-c1cccc(C=Cc2ccc3ccc(Cl)cc3n2)c1', 'CC(C)(O)c1cccc(CCC(SCC2(CC(=O)O)CC2)c2ccccc2C=Cc2ccc3ccc(Cl)cc3n2)c1', 'CC(CO)c1ccccc1C(CCSCOC(=O)CC1CC1)c1cccc(/C=C/c2ccc3ccc(Cl)cc3n2)c1', 'CC(C)(O)c1ccccc1CCC(SCC(C(=O)O)C1CC1)c1cccc(C=Cc2ccc3ccc(Cl)cc3n2)c1', 'CC(O)Cc1ccccc1CC[C@@H](SCC1(CC(=O)O)CC1)c1cccc(/C=C/c2ccc3ccc(Cl)cc3n2)c1', 'C=C(c1ccc2ccc(Cl)cc2n1)c1ccccc1[C@@H](CCSCC1(CC(=O)O)CC1)c1ccccc1C(C)(C)O', 'CC(C)(O)c1ccccc1CC[C@H](c1cccc(C=Cc2ccc3ccc(Cl)cc3n2)c1)[C@H](S)C1(CC(=O)O)CC1', 'CC(CO)c1ccccc1CC[C@@H](SCC1(CC(=O)O)CC1)c1cccc(C=Cc2ccc3ccc(Cl)cc3n2)c1', 'CC(=O)OC1(CSC(CCc2ccccc2C(C)(C)O)c2cccc(/C=C/c3ccc4ccc(Cl)cc4n3)c2)CC1', 'CC(=O)OC1(CSCC[C@H](c2cccc(/C=C/c3ccc4ccc(Cl)cc4n3)c2)c2ccccc2C(C)(C)O)CC1', 'CC(C)(O)c1ccccc1CCCSC(c1cccc(/C=C/c2ccc3ccc(Cl)cc3n2)c1)C1(CC(=O)O)CC1', 'CC(C)(O)c1cccc(CCC(SCC2(CC(=O)O)CC2)c2ccccc2/C=C/c2ccc3ccc(Cl)cc3n2)c1', 'CC(O)Cc1ccccc1[C@H](CCSCC1(CC(=O)O)CC1)c1cccc(/C=C/c2ccc3ccc(Cl)cc3n2)c1', 'CCC(SCC1(CC(=O)O)CC1)(c1cccc(C=Cc2ccc3ccc(Cl)cc3n2)c1)c1ccccc1C(C)(C)O', 'CC(=O)OC1(CS[C@H](CCc2ccccc2C(C)(C)O)c2cccc(/C=C\\\\c3ccc4ccc(Cl)cc4n3)c2)CC1', 'CC(O)Cc1ccccc1[C@H](CCSCC(C(=O)O)C1CC1)c1cccc(/C=C/c2ccc3ccc(Cl)cc3n2)c1', 'CC(C)(O)c1ccccc1CC[C@@H](SCC1(COC=O)CC1)c1cccc(C=Cc2ccc3ccc(Cl)cc3n2)c1', 'CC(=O)OC1(CS[C@H](CCc2ccccc2C(C)(C)O)c2cccc(/C=C/c3ccc4ccc(Cl)cc4n3)c2)CC1', 'CC(=O)OC1(CSCCC(c2cccc(/C=C/c3ccc4ccc(Cl)cc4n3)c2)c2ccccc2C(C)(C)O)CC1', 'CC(C)(C)SC1=C(CC(C)(C)C(=O)O)C(Cc2ccc(Cl)cc2)c2ccc(OCc3ccc4ccccc4n3)cc21', 'CC(=O)OC1(CS[C@H](CCc2ccccc2C(C)(C)O)c2cccc(C=Cc3ccc4ccc(Cl)cc4n3)c2)CC1', 'CC(C)(O)c1ccccc1C(CCSCOC(=O)CC1CC1)c1ccc(/C=C/c2ccc3ccc(Cl)cc3n2)cc1', 'CC(O)Cc1ccccc1C(CCSCC(C(=O)O)C1CC1)c1cccc(/C=C/c2ccc3ccc(Cl)cc3n2)c1', 'CCC(C)(O)c1ccccc1CC[C@@H](SCC1(C(=O)O)CC1)c1cccc(/C=C/c2ccc3ccc(Cl)cc3n2)c1', 'CC(C)(O)c1ccccc1CCCc1cccc(/C=C/c2ccc3ccc(Cl)cc3n2)c1SCC1(CC(=O)O)CC1', 'CC(=O)C(CCC(CCC(C)C)C1=C(C(=O)O)CC(c2ccc(C#Cc3cscn3)cc2)=C1)c1ccc(Cl)cc1C', 'CC(O)Cc1ccccc1C(CCSCC(=O)OC1(C)CC1)c1cccc(/C=C/c2ccc3ccc(Cl)cc3n2)c1', 'COC(=O)C1(CS[C@H](CCc2ccccc2C(C)(C)O)c2cccc(/C=C/c3ccc4ccc(Cl)cc4n3)c2)CC1', 'COC(=O)CC1(CSC(CCc2ccccc2C(C)=O)c2cccc(C=CC3CC=c4ccc(Cl)cc4=N3)c2)CC1', 'CC(CO)c1ccccc1CCC(SCC1(CC(=O)O)CC1)c1cccc(C=Cc2ccc3ccc(Cl)cc3n2)c1', 'CC(C)(O)c1ccccc1[C@H](CCc1cccc(/C=C/c2ccc3ccc(Cl)cc3n2)c1)SCC1(CC(=O)O)CC1', 'CCC(O)c1ccccc1CC[C@@H](SCC1(CC(=O)O)CC1)c1cccc(/C=C/c2ccc3ccc(Cl)cc3n2)c1', 'CC(C)(C)Sc1c(CC(C)(C)C(=O)O)n(Cc2ccc(Cl)cc2)c2ccc(OCc3ccc4ccccc4c3)cc12', 'CC(C)(O)c1ccccc1CCC(c1cccc(/C=C/c2ccc3ccc(Cl)cc3n2)c1)C(S)C1(CC(=O)O)CC1', 'CC(C)(O)c1ccccc1CC[C@H](c1cccc(C=Cc2ccc3ccc(Cl)cc3n2)c1)C(S)C1(CC(=O)O)CC1', 'CCC(O)c1ccccc1CCC(SCC1(CC(=O)O)CC1)c1cccc(/C=C/c2ccc3ccc(Cl)cc3n2)c1', 'CC(O)Cc1ccccc1C(CCC(S)OC(=O)CC1CC1)c1cccc(/C=C/c2ccc3ccc(Cl)cc3n2)c1', 'CC(O)Cc1ccccc1C(CCSCCC(=O)OC1CC1)c1cccc(/C=C/c2ccc3ccc(Cl)cc3n2)c1', 'CCC(O)c1ccccc1C(CCC(S)C1(CC(=O)O)CC1)c1cccc(/C=C/c2ccc3ccc(Cl)cc3n2)c1', 'CCCSC(c1cccc(C=Cc2ccc3ccc(Cl)cc3n2)c1)(c1ccccc1C(O)CC)C1(CC(=O)O)CC1', 'CCCSC(c1cccc(C=Cc2ccc3ccc(Cl)cc3n2)c1)(c1ccccc1C(C)(C)O)C1(CC(=O)O)CC1', 'CC(C)(O)c1ccccc1CCC(c1cccc(C=Cc2ccc3ccc(Cl)cc3n2)c1)C(S)C1(CC(=O)O)CC1', 'CC(C)(O)c1ccccc1CC[C@H](c1cccc(/C=C/c2ccc3ccc(Cl)cc3n2)c1)C(S)C1(CC(=O)O)CC1', 'CC(CO)c1ccccc1[C@H](CCSCC1(CC(=O)O)CC1)c1cccc(/C=C/c2ccc3ccc(Cl)cc3n2)c1', 'CC(C)(O)c1ccccc1CC[C@@H](SCC(C(=O)O)C1CC1)c1cccc(C=Cc2ccc3ccc(Cl)cc3n2)c1', 'CC(CO)c1ccccc1CC[C@@H](SCC1(CC(=O)O)CC1)c1cccc(/C=C/c2ccc3ccc(Cl)cc3n2)c1', 'CCC(O)c1ccccc1C(CCSCC1(CC(=O)O)CC1)c1cccc(/C=C/c2ccc3ccc(Cl)cc3n2)c1', 'CC(O)Cc1ccccc1C(CCSCC1(CC(=O)O)CC1)c1cccc(/C=C/c2ccc3ccc(Cl)cc3n2)c1', 'CC(C)(C)Sc1c(CC(C)(C)C(=O)O)[nH]c2ccc(OCc3ccc4ccccc4c3)c(Cc3ccc(Cl)cc3)c12', 'CCC(O)c1ccccc1C(CCSCC1(OC(C)=O)CC1)c1cccc(/C=C/c2ccc3ccc(Cl)cc3n2)c1', 'CC(=O)OC1CC1C(S)[C@H](CCc1ccccc1C(C)(C)O)c1cccc(/C=C/c2ccc3ccc(Cl)cc3n2)c1', 'CC(CO)c1ccccc1C(CCSCC(C(=O)O)C1CC1)c1cccc(/C=C/c2ccc3ccc(Cl)cc3n2)c1', 'CC(CO)c1ccccc1CCC(SCC1(CC(=O)O)CC1)c1cccc(/C=C/c2ccc3ccc(Cl)cc3n2)c1', 'CC(O)Cc1ccccc1[C@H](CCSCOC(=O)CC1CC1)c1cccc(/C=C/c2ccc3ccc(Cl)cc3n2)c1', 'C[C@@H](CO)c1ccccc1CCC(SCC1(CC(=O)O)CC1)c1cccc(C=Cc2ccc3ccc(Cl)cc3n2)c1', 'CC(C)(O)c1ccccc1CC[C@@H](SCC1(COC=O)CC1)c1cccc(/C=C/c2ccc3ccc(Cl)cc3n2)c1', 'CCCSC(c1cccc(/C=C/c2ccc3ccc(Cl)cc3n2)c1)(c1ccccc1C(C)(C)O)C1(OC(C)=O)CC1', 'CC(C)(O)c1ccccc1CCCC(S)(c1cccc(/C=C/c2ccc3ccc(Cl)cc3n2)c1)C1(CC(=O)O)CC1', 'CC(C)(O)c1cccc(CC[C@@H](SCC2(CC(=O)O)CC2)c2ccccc2/C=C/c2ccc3ccc(Cl)cc3n2)c1', 'CCC(O)c1ccccc1[C@H](CCSCC1(CC(=O)O)CC1)c1cccc(/C=C/c2ccc3ccc(Cl)cc3n2)c1', 'CCCSC(c1cccc(C=Cc2ccc3ccc(Cl)cc3n2)c1)(c1ccccc1C(C)(C)O)C1(OC(C)=O)CC1', 'CC(C)(O)c1ccccc1CCCS[C@@H](c1cccc(C=Cc2ccc3ccc(Cl)cc3n2)c1)C1(CC(=O)O)CC1', 'CC(C)(O)c1ccccc1CC[C@@H](SCC1CC1CC(=O)O)c1cccc(/C=C/c2ccc3ccc(Cl)cc3n2)c1', 'CCOc1ccc(Cc2cc(C3CC(O)CC(CSc4ccc(NC(=O)c5ccccc5)cc4)C3)ccc2Cl)cc1', 'CC1(CS[C@H](CCc2ccccc2C(C)(C)O)c2cccc(/C=C/c3ccc4ccc(Cl)cc4n3)c2)CC1.O=C=O', 'CCC(O)c1ccccc1CCC(SCC1(CC(=O)O)CC1)c1cccc(C=Cc2ccc3ccc(Cl)cc3n2)c1', 'CC(C)(O)c1ccccc1[C@H](CCSCC1(CC(=O)O)CC1)c1cccc(/C=C/c2ccc3ccc(Cl)cc3n2)c1', 'CC(O)Cc1ccccc1C(CCSCOC(=O)CC1CC1)c1cccc(/C=C/c2ccc3ccc(Cl)cc3n2)c1', 'C[C@H](O)Cc1ccccc1[C@H](CCSCCC(=O)OC1CC1)c1cccc(/C=C/c2ccc3ccc(Cl)cc3n2)c1', 'CC(C)(O)c1ccccc1CCC[C@@H](Sc1cccc(/C=C/c2ccc3ccc(Cl)cc3n2)c1)C1(CC(=O)O)CC1', 'C=C(c1cccc([C@H](SCCCc2ccccc2C(C)(C)O)C2(CC(=O)O)CC2)c1)c1ccc2ccc(Cl)cc2n1', 'CC(C)(O)c1ccccc1C(CCSCOC(=O)CC1CC1)c1cccc(/C=C/c2ccc3ccc(Cl)cc3n2)c1', 'CC(C)(O)c1ccccc1CCCS[C@@H](c1cccc(/C=C/c2ccc3ccc(Cl)cc3n2)c1)C1(CC(=O)O)CC1', 'CC(C)(O)c1ccccc1C[C@@H](CSCC1(CC(=O)O)CC1)c1cccc(C=Cc2ccc3ccc(Cl)cc3n2)c1', 'CC(C)(O)c1ccccc1C(CCSCC1(CC(=O)O)CC1)c1cccc(/C=C/c2ccc3ccc(Cl)cc3n2)c1', 'CC(C)(O)c1ccccc1CCC(c1cccc(/C=C/c2ccc3ccc(Cl)cc3n2)c1)[C@@H](S)C1(CC(=O)O)CC1', 'CC(O)Cc1ccccc1CCC(SCC1(CC(=O)O)CC1)c1cccc(/C=C/c2ccc3ccc(Cl)cc3n2)c1', 'CC(C)(O)c1ccccc1C(CCSCC(C(=O)O)C1CC1)c1cccc(/C=C/c2ccc3ccc(Cl)cc3n2)c1', 'CC(CO)c1ccc(C(C)CSC(c2cccc(/C=C/c3ccc4ccc(Cl)cc4n3)c2)C(C(=O)O)C2CC2)cc1', 'CC(C)(O)c1cccc(CC[C@H](SCC2(CC(=O)O)CC2)c2ccccc2/C=C/c2ccc3ccc(Cl)cc3n2)c1', 'CC(C)(O)c1ccccc1CCC[C@](S)(c1cccc(/C=C/c2ccc3ccc(Cl)cc3n2)c1)C1(CC(=O)O)CC1', 'CC(C)(O)c1ccccc1CC[C@@H](SCOC(=O)CC1CC1)c1cccc(/C=C/c2ccc3ccc(Cl)cc3n2)c1', 'CC(=O)OC1(CSC(CCc2ccccc2C(C)(C)O)c2cccc(C=Cc3ccc4ccc(Cl)cc4n3)c2)CC1', 'C=CC1=C(N2[C@@H]([C@@H](C2=O)NC(=O)/C(=N/OCC(=O)O)/C3=CSC(=N3)N)SC1)C(=O)O', 'Cc1[nH]n(-c2ccc(S(=O)(=O)O)cc2)c(=O)c1/N=N/c1cc(N)ccc1S(=O)(=O)O', 'COc1ccc2c(c1)cc(C(=O)NS(=O)(=O)c1nnc(NC(C)=O)s1)n2CC(=O)O', 'Cc1[nH]n(-c2ccccc2S(=O)(=O)O)c(=O)c1/N=N/c1cc(N)ccc1S(=O)(=O)O', 'C=CC1=C(C(=O)O)N2C(=O)C(NC(=O)C(=NOCC(=O)O)c3cnc(N)s3)C2SC1', 'C=CC1=C(C(=O)O)N2C(=O)C(NC(=O)/C(=N\\\\OCC(=O)O)c3cnc(N)s3)C2SC1', 'C=Nc1c(S(=O)(=O)O)cc2cc(SOOO)cc(Nc3nc(C)nc(C)n3)c2c1O', 'CC1=NN(c2cccc(N)c2)C(=O)C1/N=N/c1cc(S(=O)(=O)O)ccc1S(=O)(=O)O', 'CC(CN1C(=O)c2ccccc2S1(=O)=O)=NNc1ccc(S(N)(=O)=O)cc1[N+](=O)[O-]', 'Nc1nc(C2CC2(O/N=C/C(=O)NC2C=C(C(=O)O)N3C(=O)CC3S2)C(=O)O)cs1', 'CCOC(=O)CSc1nnc(NC(=O)CN2C(=O)COc3ccc([N+](=O)[O-])cc32)s1', 'Nc1cc(N)c(S(=O)(=O)O)cc1/N=N/c1ccc2cc(S(=O)(=O)O)c(N)c(O)c2c1', 'C/C(CN1C(=O)c2ccccc2S1(=O)=O)=N\\\\Nc1ccc(S(N)(=O)=O)cc1[N+](=O)[O-]', 'COC(=O)Oc1sc2ccccc2c1S(=O)(=O)NC(=O)Nc1nc(C)nc(OC)n1', 'C=CC1=C(C(=O)OCC(=O)O)N2C(=O)C(NC(=O)C(=NO)c3csc(N)n3)[C@H]2SC1', 'O=[N+]([O-])c1ccc(S(=O)(=O)N2CCN(S(=O)(=O)c3cccc4nonc34)CC2)cc1', 'CC1=NN(c2ccccc2S(=O)(=O)O)C(=O)C1/N=N/c1cc(N)ccc1S(=O)(=O)O', 'C=C(C(=O)OC)C1=C(C(=O)O)N2C(=O)[C@@H](NC(=O)/C(=N\\\\O)c3csc(N)n3)[C@H]2SC1', 'C#CC1(C(=O)O)CS[C@@H]2C(NC(=O)/C(=N/OCC(=O)O)c3csc(N)n3)C(=O)N2C1', 'Nc1nc(/C(=N/O)C(=O)N[C@@H]2C(=O)N3C(C(=O)O)=C(C4CCC(=O)O4)CS[C@H]23)cs1', 'Cc1cc(NC(=O)CS(=O)(=O)CC(=O)/N=c2\\\\sc3cc([N+](=O)[O-])ccc3n2C)no1', 'Nc1nc(/C(=N\\\\O)C(=O)N[C@@H]2C(=O)N3C(C(=O)O)=C(C4CCC(=O)O4)CS[C@H]23)cs1', 'C=CC1=C(C(=O)OCC(=O)O)N2C(=O)C(NC(=O)/C(=N\\\\O)c3csc(N)n3)[C@H]2SC1', 'C=CC1=C(C(=O)OCC(=O)O)N2C(=O)C(NC(=O)C(=NO)c3csc(N)n3)[C@@H]2SC1', 'C=CC1=C(C(=O)O)N2C(=O)CC2(NC(=O)C(=NOCC(=O)O)c2csc(N)n2)SC1', 'O=C(O)c1nnc(NC(=O)[C@@H]2C[C@H](S)CN2C(=O)OCc2ccc([N+](=O)[O-])cc2)s1', 'COC(=O)c1sc2ccccc2c1S(=O)(=O)NC(=O)Nc1nc(OC)nc(OC)n1', 'CN(C)S(=O)(=O)c1ccc(NC(=S)NC(=O)c2cc([N+](=O)[O-])cc([N+](=O)[O-])c2)cc1', 'C=CC1=C(C(=O)O)N2C(=O)[C@@H](NC(=O)/C=N\\\\OC(C(=O)O)c3csc(N)n3)[C@H]2SC1', 'C=CC1=C(C(=O)O)N2C(=O)[C@@H](NC(=O)/C(=N/OCC(=O)O)c3cnc(N)s3)C2SC1', 'Nc1ccc(/N=N/c2c(S(=O)(=O)O)cc3cc(S(=O)(=O)O)c(N)c(N)c3c2O)cc1', 'CCS(=O)(=O)c1nc2ccc(/N=N/C3C(=O)N(CCC(=O)O)N=C3C(=O)O)cc2s1', 'Cc1[nH]n(-c2ccccc2S(=O)(=O)O)c(=O)c1/N=N/c1ccc(S(=O)(=O)O)c(N)c1', 'CN1C(=O)CC(N2C(=S)N(C3CC(=O)N(S)C3=O)C(=O)C2C2CC(=O)NC2=O)C1=O', 'Cc1[nH]n(-c2cccc(N)c2)c(=O)c1/N=N/c1cc(S(=O)(=O)O)ccc1S(=O)(=O)O', 'C=CC1=C(C(=O)O)N2C(=O)C[C@H]2SC1(NC(=O)C=NOCC(=O)O)c1csc(N)n1', 'COCCN1C2=CC=CC=C2C=C1C(=O)NCCC3=CNC4=C3C=C(C=C4)OC', 'C=CCOC(=O)Nc1ccc(-c2c(N)c3cc(OC)ccc3n2C2CCC2)cc1', 'COc1cc(C(=O)Nc2c(C)cnn2-c2ccccc2)ccc1OC1CCCC1', 'COc1cccc(C(=O)N2CCN(Cc3cc4ccc(C)cc4[nH]c3=O)CC2)c1', 'Cc1cc(C)cc(OCCCN2C(=O)N[C@H](Cc3c[nH]c4ccccc34)C2=O)c1', 'CCc1ccc(NC(=O)C(C#N)C(=O)c2ccc(C(=O)NC(C)(C)C)cc2)cc1', 'CN(C(=O)OC(C)(C)C)[C@@H](C(=O)Nc1ccc2cnccc2c1)c1ccccc1', 'O=C(NCc1ccc(CN2CCCCCC2)cc1)c1ccc2c(c1)C(=O)NC2=O', 'COc1ccc2[nH]cc(CCNC(=O)CCn3ccc4c(OC)cccc43)c2c1', 'CC(C)CC(=O)N1CCN(c2ccc(N3C(=O)c4ccccc4C3=O)cc2)CC1', 'Cc1cccc(-c2noc(C3CCN(C(=O)COCc4ccccc4)CC3)n2)c1', 'CC(=O)Nc1ccc(/C=C/C(=O)NC(C)c2ccc(NC(=O)C3CC3)cc2)cc1', 'Cc1cc(C(=O)NC2CCN(C(=O)c3ccco3)CC2)c(C)n1-c1ccccc1', 'CN(C(=O)Cc1ccc(NC(=O)c2cc3ccccc3o2)cc1)C1CCNCC1', 'COc1ccc(-c2n[nH]c3c2C[C@H](C(=O)NCc2cccc(OC)c2)CC3)cc1', 'Cc1cccn2c(=O)cc(CN3CCC[C@@H]3c3ccc4c(c3)OCCCO4)nc12', 'CC(=O)N1CCc2cc(N3C[C@H](C(=O)NCc4ccccc4C)CC3=O)ccc21', 'Cc1nc(-c2cccc(NC(=O)C(NC(=O)c3ccccc3)C(C)C)c2)oc1C', 'O=C(NCc1ccccc1Cn1cccn1)c1ccc(OC[C@H]2CCCO2)cc1', 'CCOc1ccc(-c2cc(=O)n(CC(=O)N(CC)c3ccccc3C)cn2)cc1', 'CCN1CCN(c2ccc(NC(=O)c3cc4ccccc4oc3=O)cc2C)CC1', 'Cc1cccc(CC(=O)N2CCC(O)(Cn3cnc4ccccc4c3=O)CC2)c1', 'CCc1ccccc1NC(=O)c1cncc(NCCOc2ccc(OC)cc2)c1', 'COc1cccc(CN(Cc2ccc(N(C)C)cc2)C(=O)Oc2ccccn2)c1', 'CN1CCN(Cc2ccc(C(=O)/C=C/c3ccc(/C=C/C(=O)O)nc3)cc2)CC1', 'CCC(N)(CC)N1C(=O)c2c3c(c4[nH]c5cccc(OC)c5c4c2C1=O)CCC3', 'Cc1cccc(CC(=O)N2CCC(N3CC(=O)N(c4ccccc4)C3=O)CC2)c1', 'Cc1ccc(-c2nc(-c3ccccc3OCC(=O)N3CCC[C@H](C)C3)no2)cc1', 'CC#Cc1cccc(/C(C)=N/OCc2c(C)cccc2/C(=N\\\\OC)C(=O)NC)c1', 'O=C(NCCCN1CCCCCC1=O)c1ccc2noc(-c3ccccc3)c2c1', 'C[C@@]1(Oc2nc(-c3ccc(C4CCOCC4)cc3)cc3nccnc23)CCOC1', 'CC[C@@H](C)[C@@H](NC(=O)/C=C/c1ccccc1)c1nc(-c2cccc(OC)c2)no1', 'COc1ccc(CNC(=O)[C@@H]2CCCN(C(=O)c3cc4ccccc4[nH]3)C2)cc1', 'O=C(NCCc1ccccc1)Nc1c(NC2CCCC2)c2ccccc2oc1=O', 'CCN(Cc1ccccc1)C1=C(c2ccc(NC(C)=O)cc2)C(=O)N(CC)C1=O', 'C=CC/N=C(\\\\N)c1ccc(C(=O)Nc2ccc3c(c2)CC(CC(=O)O)CC3)cc1', 'C=CCOc1ccc(/C=C/C(=O)NCCCc2nc3ccccc3[nH]2)cc1OC', 'COc1cccc(CCC(=O)N2CCC(Cc3noc(-c4ccccc4)n3)C2)c1', 'CCc1ccc(-c2ccc(=O)n(CCC(=O)NCc3ccccc3OC)n2)cc1', 'CC/C(=N/NC(=O)CNc1ccccc1OC)c1ccc2cc(OC)ccc2c1', 'O=c1[nH]c(=O)n(CCCCN2CC=C(c3ccccc3)CC2)c2ccc(O)cc12', 'Cc1cccc(C(=O)N2CCCCC2c2noc(COCc3ccccc3)n2)c1', 'Cc1ccc(-c2nn(-c3ccccc3)cc2C(=O)N2CC[C@H](CO)[C@H](O)C2)cc1', 'CC1(C)Cc2cc(C(=O)O)ccc2NC1c1cc(C#N)cc(N2CCOCC2)c1', 'Cc1noc(C)c1C(=O)NCCN1Cc2ccccc2OC(c2ccccc2)C1', 'CC1CCC2(CC1)NC(=O)N(/N=C/c1ccccc1OCc1ccccc1)C2=O', 'COc1ccc(CN(C)C(=O)c2cc(C3CC3)nn2-c2ccccc2)cc1OC', 'CCc1ccc(N2C[C@@H](C(=O)Nc3cccc(C(=O)NC4CC4)c3)CC2=O)cc1', 'N#C/C(=C(/O)COC(=O)CC12CC3CC(CC(C3)C1)C2)c1nc2ccccc2[nH]1', 'CN(Cc1cnn(-c2ccccc2)c1)C(=O)c1ccccc1OCC1CCCO1', 'COc1ccc(CCC(=O)N2CCC(c3nc(-c4ccccc4)no3)CC2)cc1', 'Cc1nc2cc3c(cc2c(=O)[nH]1)C(Nc1ccc(C(=O)OC(C)(C)C)cc1)CC3', 'COc1cccc(C2=NN3[C@H](C2)c2ccccc2OC32CCN(C(C)=O)CC2)c1', 'Cc1ccc(C)n1-c1ccc(C(=O)NCCCNC(=O)c2cccc(O)c2)cc1', 'COCCNC(=O)CCN1C(=O)c2ccccc2C1c1c(C)[nH]c2ccccc12', 'COC(=O)Cc1cc2ccccc2c(O)c1C(c1ccncc1)N1CCNCC1', 'Cc1cccn2c(=O)cc(COc3ccccc3NC(=O)C3CCCCC3)nc12', 'COc1ccccc1CC(=O)N1CCC(Cn2cnc3ccccc3c2=O)CC1', 'CC(C)CC(N/C=C(/C#N)C(=O)NC(c1ccccc1)c1ccccc1)C(=O)O', 'COc1ccc2c(c1)[C@@H](NC(=O)c1ccc(Cn3ccnc3)cc1)CC(C)(C)O2', 'C[C@@H](NC(=O)C(=O)N/N=C1/C[C@@H]2C[C@](C)(C1)Oc1ccccc12)c1ccccc1', 'COc1ccc(OCCNc2ccc(C(=O)NCCc3ccccc3)cn2)cc1', 'CCCCN1C(=O)C(c2ccc(NC(C)=O)cc2)=C(N(C)c2ccccc2)C1=O', 'COc1ccc(CNc2ccc(C(=O)NCc3cccc(C)c3)cn2)cc1OC', 'COc1ccc(-c2cc(C(=O)NC[C@H]3CCCOC3)nn2-c2ccccc2)cc1', 'CNC(=O)/C(=N/OC)c1cccc(C)c1CO/N=C(\\\\C)C#Cc1ccc(C)cc1', 'CCN(Cc1ccccc1C)C(=O)[C@H](O)[C@@H](O)c1cncc(-c2ccccc2)n1', 'CC(C)(C)NC(=O)C1c2occc2C2=C(C=CCN2)C(=O)N1Cc1ccccc1', 'COc1ccc2[nH]cc([C@H](C(=O)Nc3ccc(C(C)C)cc3)N3CCC3=O)c2c1', 'CCNC(=O)[C@H](C)NC(=O)CCc1nc(-c2ccccc2)c(-c2ccccc2)o1', 'CC(C)(C)Nc1ncc(-c2ccccc2)n(CC(=O)OCc2ccccc2)c1=O', 'Cc1ccc(-c2nc3c(C)cccn3c2CC(=O)N2CCCC2C(=O)O)cc1C', 'C[C@H](c1ccccc1)N(Cc1nccn1C)C(=O)CCc1ccc2c(c1)OCO2', 'CN1C(=O)CCc2cc(-c3cncc(OC[C@@H]4CCN4C(=O)C4CC4)c3)ccc21', 'O=C1Cc2ccc(NCC(=O)N3CCN(c4ccc5c(c4)CCC5)CC3)cc2O1', 'Cc1cccc(C)c1NC(=O)Cn1c(=O)n(C2CCCC2)c(=O)c2ccccc21', 'COc1cccc(N2CCN(C(=O)Cn3cc(C(C)=O)c4ccccc43)CC2)c1', 'COC(=O)[C@H](Cc1c[nH]c2ccccc12)NC(=O)[C@H]1CC[C@H](c2ccccc2)N1', 'CC(=O)c1nc2ccccc2n1C[C@@H]1CCCN(C(=O)OCc2ccccc2)C1', 'COc1cc(CNC(=O)c2cccnc2)c(-c2ccc[nH]c2=O)cc1C(C)(C)C', 'O=C(c1cccnc1)N1CC2(C1)[C@@H](c1ccccc1)[C@@H](CO)N2C(=O)C1CCC1', 'CC(C)(C)c1ccc(NC(=O)CN2C(=O)NC3(CCc4ccccc43)C2=O)cc1', 'CC(C)OCCCN1C(=O)c2[nH]nc(-c3ccccc3O)c2C1c1ccccc1', 'O=C(NCC(c1ccco1)N1CCN(c2ccccc2)CC1)Oc1ccccc1', 'COc1ccc(CNc2cc(C(=O)NCCc3ccccc3OC)ccn2)cc1', 'COc1ccc(CNC(=O)c2cc(NCc3cccc(C)c3)ccn2)cc1OC', 'COc1ccc([C@@H]2Cn3cnc(C(=O)N(C)CCc4ccccc4)c3CO2)cc1', 'NCc1cccc(-c2cccc(NC(=O)C3(c4ccc5c(c4)OCO5)CC3)n2)c1.[H][H].[H][H]', 'COc1ccccc1CCNc1ccnc(C(=O)NCc2ccccc2OC)c1', 'O=C(CN1Cc2ccccc2C1=O)NC1CCN(C(=O)CCc2ccccc2)C1', 'CC[C@H](NC)C(=O)Nc1cccn(Cc2cccc(Oc3ccccc3)c2)c1=O', 'CCN(C(N)=O)[C@@H](Cc1ccc(O)cc1)C(=O)NCc1ccc2ccccc2c1', 'CCOc1ccccc1C/N=C(\\\\NO)c1cccnc1Oc1ccc(CC)cc1', 'CCOC(=O)/C=C(/[O-])c1n(C(C)(C)C)nc(-c2ccccc2)[n+]1-c1ccccc1', 'CCCn1ccc2ccc(NC(=O)C3CC(=O)N(c4ccc(OC)cc4)C3)cc21', 'CC(C)c1nc2ccccc2c(=O)n1N1[C@@H](C)[C@@H]1C(=O)O[C@H](C)c1ccccc1', 'O=C(CCc1nc2ccccc2[nH]1)N1CCC[C@H]1c1ccc2c(c1)OCCCO2', 'Cn1c(CN(CC2OCCO2)C(=O)[C@@H]2C[C@H]2c2ccccc2)nc2ccccc21', 'Cc1ccc(C2=C(Nc3ccccc3)C(=O)N(CCN3CCOCC3)C2=O)cc1', 'O=C1C2CC=CCC2C(=O)N1Cc1nc(C2CCC(c3ccccc3)CC2)no1', 'CCOC(=O)c1cnc2ccc(C(=O)NC)cc2c1Nc1ccc(C(C)C)cc1', 'NCC1CCCCC1NC(=O)c1cccc(CN2C(=O)c3ccccc3C2=O)c1', 'COC(=O)C1=C(CN2CCc3ccccc32)NC(=O)N[C@@H]1c1ccc(C)cc1C', 'CCCCOc1cccc(Oc2ccc(CNC(=O)c3cccnc3N)cc2)c1', 'COc1ccc(CNc2cncc(C(=O)N(C)Cc3ccccc3)c2)cc1OC', 'COC(=O)C1CCC(C(=O)Cc2cc3cc(-c4cnn(C)c4)ccc3cn2)CC1', 'COC(c1ccccc1)c1nc2c(o1)CCN(C(=O)c1cccc(N(C)C)c1)C2', 'Cc1ccc(N2CCC(NC(=O)c3oc4ccccc4c3CN(C)C)C2=O)cc1', 'Cc1ccc(-c2nn(-c3ccccc3)cc2C(=O)NCC(=O)OC(C)C)cc1C', 'CN1CCc2cc([C@@H](CNC(=O)c3cc4ccccc4oc3=O)N(C)C)ccc21', 'COc1ccccc1-c1cc2cc(C3=CCN(CCN(C)C(=O)O)C3)ccc2[nH]1', 'CCn1c(=O)c2ccccc2n(CC(=O)N(Cc2ccc(C)cc2)C2CC2)c1=O', 'O=C(C1CCC1)N1CC(=O)N2[C@H](CO)[C@@H](c3ccc(-c4cccnc4)cc3)[C@H]2C1', 'CCOc1ccc(C2CCCN2C(=O)c2nn(CC)c(=O)c3ccccc23)cc1', 'O=C(NCCCN1CCCC1=O)c1ccc2nc(CCc3ccccc3)oc2c1', 'CNC(=O)c1ccc(CN(C)Cc2nc3ccccc3c(C)c2C(=O)OC)cc1', 'Cc1ccc(C(CNC(=O)c2ccc(NC(=O)c3ccco3)cc2)N(C)C)cc1', 'O=C(NCCC(=O)N1CCN(Cc2cccc3ccccc23)CC1)c1ccco1', 'O=C(N[C@@H](Cc1c[nH]c2ccccc12)C(=O)N1CCCC1)OCc1ccccc1', 'CC(=O)N[C@H](Cc1c[nH]c2ccccc12)C(=O)Nc1cccc2c1OC(C)(C)C2', 'COc1ccc(CNC(=O)c2cc(Nc3ccc(C)cc3C)ccn2)cc1OC', 'C=CCN1C(=O)N(c2cc(C(=O)NCC)ccc2C)C(=O)[C@H]1Cc1ccccc1', 'COc1cccc(OC)c1C(=O)Nc1ccc(Nc2c(C)cc(C)cc2C)cn1', 'Cc1ccc(-c2cc(C(=O)Nc3ccc(N4CCC(O)CC4)nc3)c(C)o2)cc1', 'CCC(=O)N[C@H]1CC[C@@H](N(C)C(=O)Oc2ccc(-c3ccc(C#N)cc3)cc2)C1', 'CC(=O)c1cccc(OCC(=O)N(C)Cc2c(C)nn(-c3ccccc3)c2C)c1', 'COc1cccc2c1OC[C@@H]1CN(CCc3c(C)nc4ccccn4c3=O)C[C@H]21', 'Cc1ccc(-n2c(=O)c3ccccc3n([C@@H](C)C(=O)N3CCCC3)c2=O)cc1C', 'CCCOc1ccc(N2C(=O)C[C@@H](NCc3ccc4[nH]c(C)cc4c3)C2=O)cc1', 'CCCCc1ccc(NC(=O)COc2ccc3nc4n(c(=O)c3c2)CCC4)cc1', 'Cc1cccc(NC(=O)CNC(=O)CN[C@H](c2ccccc2)c2ccco2)c1C', 'O=C(O)CC1C=C(CNC(=O)CCCNc2ccccn2)C=Cc2ccccc21', 'Cc1ccc(C2(C)NC(=O)N(CC(=O)N(Cc3ccccc3)C3CC3)C2=O)cc1', 'Cc1cccc(NC(=O)CN(CC2CCCO2)C(=O)c2ccc(C#N)cc2)c1C', 'C[C@@H](NC(=O)CN1CCN(C(=O)c2ccco2)CC1)c1cccc2ccccc12', 'CCN1c2ccccc2N(C(=O)CCCN2C(=O)c3ccccc3C2=O)CC1C', 'Nc1ccc(OCCN2CCOC(C(=O)Nc3ccccc3)C2)c2ccccc12', 'CN1CCN(Cc2ccccc2C(=O)/C=C/c2cccc(/C=C/C(=O)O)n2)CC1', 'CN(CCNC(=O)C(Cc1ccccc1)NC(=O)c1ccco1)c1ccccc1', 'Cc1cc(NC(=O)c2ccc(CNC(=O)c3ccc(C(C)(C)C)cc3)cc2)no1', 'Cc1cc(C)n(Cc2ccc(C(=O)N(Cc3ccccc3)C(C)C(=O)O)cc2)n1', 'COc1ccc(OCCNc2ccc(NC(=O)Cc3ccc(C)cc3)nc2)cc1', 'O=C(C1CC1)N1C[C@@H](c2cccnc2)[C@]2(C1)OCCN(Cc1ccccc1)C2=O', 'O=C(/C=C/c1ccc(CN2C[C@@H](O)C[C@@H]2Cc2c[nH]c3ccccc23)cc1)NO', 'CCOc1ccc(NC(=O)c2cc(NCCc3ccccc3OC)ccn2)cc1', 'C=CCc1cc(C(=O)NCCc2cnn(-c3ccccc3)c2)cc(OC)c1OC', 'COC(=O)c1ccc([C@@H]2Nc3ccc(OC)cc3[C@@H]3CCC[C@@H]32)c2ncn(C)c12', 'Cc1nn(-c2ccccc2)c(C)c1CC(=O)O[C@@H](C)C(=O)NCc1ccccc1', 'O=C(NCCOC1CCCC1)c1cc(-c2ccccc2)nc2onc(C3CC3)c12', 'CCOc1ccc(-c2ccc(=O)n(C(C)C(=O)Nc3ccc(C)cc3C)n2)cc1', 'Cc1ccc(NC(=O)C2CC2)cc1NC(=O)Cc1ccc(N2CCCC2=O)cc1', 'Cc1ccc(C2=NN3[C@@H](C2)c2ccccc2OC32CCN(C(=O)C3CC3)CC2)o1', 'C#CCOc1c(CC=C)cc(C=NNC(=O)Nc2ccccc2C)cc1OCC', 'CC(C)n1c(C2CCCN2C(=O)Cc2ccccc2C(=O)O)nc2ccccc21', 'COc1ccc(CCNC(=O)C(C)(C)n2nc(-c3ccccc3)ccc2=O)cc1', 'CCOc1ccc(C2C(C(C)=O)=C(C)Nc3nc4ccccc4n32)cc1OCC', 'Cc1ccc(C2=NC3(CCCCC3)N(CC(=O)Nc3ccccc3O)C2=O)cc1', 'Cc1ccc(Cn2nc(C)c(C(=O)NCC3COc4ccccc4O3)c2C)cc1', 'O=C(Nc1ccccc1)[C@@H](c1cc2c3c(c1O)CCCN3CCC2)N1CCC1=O', 'CCCCc1c(-c2cccnc2)c(C(N)=O)c(C)n1Cc1ccc2c(c1)OCO2', 'COc1cccc(OC)c1C1CCCC(=O)N1Cc1ccc(-n2cccn2)cc1', 'Cc1ccc(C(=O)Nc2cccc(Oc3ccccc3OC(C)(C)C)c2)c(N)n1', 'Cc1cc(C)n(Cc2ccc(C(=O)NC(CCC(=O)O)c3ccccc3)cc2)n1', 'Cc1cncc(COC2CCOC3(C2)CN(C(=O)c2c[nH]c4ccccc24)C3)c1', 'CC(=O)NC(CC(=O)N1CCC(c2nc3ccccc3o2)CC1)c1ccccc1', 'NCc1cccc(C2CCN(C(=O)c3cccc4ccnc(C(O)O)c34)CC2)c1', 'CCOC(=O)Cn1c([C@@H]2CC(=O)N(c3cccc(C)c3C)C2)nc2ccccc21', 'CCc1onc(C)c1-c1cccc([C@H]2CN(C(=O)c3cccc(C)c3)CCO2)n1', 'CCCCOC(=O)c1ccccc1NC(=O)/C(C#N)=C\\\\NCc1cccc(C)c1', 'COc1ccc(Cn2ccc(NC(=O)Cc3ccc(OC4CCC4)cc3)n2)cc1', 'C=C(C)C(=O)CCCNc1ccc(/N=N/c2ccc(OC(=O)C(=C)C)cc2)cc1', 'CCOc1ccc(Nc2cncc(C(=O)NCCc3cccc(OC)c3)c2)cc1', 'COc1ccc(CCC(=O)N2CCc3[nH]nc(-c4ccccc4)c3CC2)cc1O', 'C=CCc1ccc(OCCn2c(CNC(=O)C=C)nc3ccccc32)c(OC)c1', 'O=C1CC2(CCN(C(=O)c3ccc(=O)[nH]c3)CC2)CN1CC=Cc1ccccc1', 'Cc1cccc(N2CCN(C(=O)Cc3c(C(=O)O)[nH]c4ccccc34)CC2)c1C', 'CCOc1cc(CNCc2cccnc2)ccc1OCC(=O)Nc1ccccc1', 'O=C(N[C@@H]1CCC[C@H](c2nc3ccccc3[nH]2)C1)c1ccc2c(c1)OCCCO2', 'CCN1C(=O)C[C@@H](N2CCN(c3ccc(C(=O)c4ccccc4)cc3)CC2)C1=O', 'O=C(COc1ccc2c(c1)CCCC2)NCC(=O)N/N=C\\\\C=C\\\\c1ccccc1', 'CCCCN1C(=O)c2[nH]nc(-c3ccccc3)c2C1c1ccc(OC)c(OC)c1', 'COc1ccc(N(Cc2cccnc2)c2cccc(N)c2)cc1OC1CCCO1', 'Cc1ccc([C@@]2(c3ccccc3)NC(=O)N(CC(=O)N3CCCC3)C2=O)cc1C', 'O=C(NCc1ccc(C(=O)N2CCCC2)cc1)c1ccc(N2CCCC2=O)cc1', 'CCCCN1C(=O)c2[nH]nc(-c3ccccc3O)c2C1c1cccc(OCC)c1', 'CCOc1cc2c(cc1OCC)CN(C(=O)c1ccc(-n3cccn3)cc1)CC2', 'O=C(NOCCCOCc1ccccc1)c1ccccc1NCc1ccncc1', 'CCC(NC(=O)CN1C(=O)NC2(CCc3ccccc32)C1=O)c1ccc(C)cc1', 'COc1ccc2[nH]c(C)c(C(=O)CN3C[C@H]4C[C@@H](C3)c3cccc(=O)n3C4)c2c1', 'CC(C)c1cccc(NC(=O)CN2C(=O)c3ccccc3N3C(=O)CCC23C)c1', 'COc1ccc(-c2[nH]n(-c3ccccc3)c(=O)c2/C(C)=N/CC2CCCO2)cc1', 'CN(CCCc1ccccc1)C(=O)CN1C(=O)NC2(CCc3ccccc32)C1=O', 'CCOc1ccc(NC(=O)CN2CCc3[nH]c4ccc(C)cc4c(=O)c3C2)cc1', 'CCCN1C(=O)c2[nH]nc(-c3c(C)cc(C)cc3O)c2[C@H]1c1cccc(OC)c1', 'CCCOC(=O)c1ccc(NCc2ccccc2Oc2nc(C)cc(C)n2)cc1', 'COc1ccc(CNC(=O)c2nn(-c3ccc(C)cc3)c3c2CCC3)cc1OC', 'Cc1ccc(OCCNC(=O)Cn2nc(-c3cc(C)ccc3C)ccc2=O)cc1', 'CN(C)C(=O)[C@H]1[C@H]2C[C@H](CN(Cc3cc4ccccc4o3)C2)c2cccc(=O)n21', 'Cc1ccc(OCc2nc(C3CCCCN3C(=O)Cc3ccccc3)no2)cc1', 'C[C@]12CC[C@H](C[C@@H]1C(=O)NCc1ccncc1)[C@@]1(C2)NC(=O)c2ccccc2O1', 'Cc1ccc2c(c1)c(=O)n(-c1ccc(C)c(C)c1)c(=O)n2[C@H](C)C(=O)NC1CC1', 'Cc1ccc(C)c(NC(=O)Nc2c(NC3CCCC3)c3ccccc3oc2=O)c1', 'CC(C)Oc1ccccc1NC(=O)C(C)(C)C(=O)Nc1cccc2cccnc12', 'O=C(NCC(O)c1ccc(-n2cccn2)cc1)C1(c2ccccc2)CCOCC1', 'CCCCOc1ccc(NC(=O)N2CC(Oc3ccc4ccccc4n3)C2)cc1', 'CCOC(=O)c1cc2cc(N3CC[C@H](c4ccccc4)[C@H]3C(N)=O)ccc2n1C', 'NC(=O)C1CCN(C(=O)Cn2ccc3ccc(OCc4ccccc4)cc32)CC1', 'CCOCc1ccc(C(=O)NCc2ccc(COc3ccccc3)cc2)c(N)n1', 'O=C(C1CCC1)N1CC2(C1)[C@H](c1ccccc1)[C@@H](CO)N2C(=O)c1ccccn1', 'CCOc1ccccc1NC(=O)CN1C(=O)C(c2ccccc2)=NC12CCCC2', 'CN(C(=O)C(=O)CCCCCCC(N)=O)c1cc(-c2ccccc2)ccc1C#N', 'CN1C(=O)C[C@@H](C(=O)N2C[C@H]3C[C@@H](C2)c2cccc(=O)n2C3)[C@@H]1c1ccccc1', 'Cc1ccc(-c2nc3cc(C)ccn3c2/C=C/C(=O)NC(C(=O)O)C(C)C)cc1', 'Cc1ccc(-c2cnc(-c3ccccc3C(=O)NCCNC(=O)C(C)C)o2)cc1', 'CCN1CCc2cc(Oc3ccc(/C=C/C4(NC(C)=O)CC4)cn3)ccc2C1=O', 'COc1ccc(NC(=O)CN(C)[C@@H](C)C(=O)Nc2ccc3ccccc3c2)cc1', 'CC[C@@H](C)n1nccc1NC(=O)[C@@H](C)OC(=O)c1ccc(-c2ccccc2)cc1', 'Cc1cccc2nc(CN3CCC[C@H]3c3ccc4c(c3)OCCCO4)cc(=O)n12', 'O=C(CN1CCCCCC1=O)N/N=C1/C[C@H](c2ccccc2)Oc2ccccc21', 'NC(=O)N(O)CC1CCC(c2ccccc2OCc2ccc3ccccc3n2)C1', 'C/C=C/c1ccc([C@H]2[C@H](CO)N(C(C)=O)C23CN(C(=O)c2ccncc2)C3)cc1', 'CCn1c(C(=O)N2CCCC2)cc2cc(NC(=O)c3ccc(OC)cc3)ccc21', 'CCCNC(=O)CN1CCN(C(=O)c2ccc3c(c2)C(=O)c2ccccc2-3)CC1', 'O=c1c(NCCc2ccc(Oc3ccccc3)cc2)c(NC2CCCNC2)c1=O', 'Cc1ccccc1CN1CCCN(C(=O)c2ccc3c(c2)C(=O)N(C)C3=O)CC1', 'CN(C(=O)OC(C)(C)C)C(C(=O)Nc1ccc2cnccc2c1)c1ccccc1', 'C=C1c2ccccc2C(=O)N1CC(=O)NCc1ccccc1CN1CCOCC1', 'CCCc1ccc(-c2ccc(C(=O)N[C@@H](Cn3cccn3)C(=O)CO)cc2)cc1', 'C[C@]12CC[C@@H](C[C@@H]1C(=O)NCc1ccncc1)[C@@]1(C2)NC(=O)c2ccccc2O1', 'Cc1ccc(C)c(OCC(=O)NNC(=O)c2ccc3[nH]c4c(c3c2)CCCC4)c1', 'CCc1ccccc1NC(=O)CN1C(=O)C2CCCCN2C(=O)c2ccccc21', 'COc1ccc(OCCNc2ccnc(C(=O)NC(C)c3ccccc3)c2)cc1', 'O=C(CCN1C(=O)NC2(CCCC2)C1=O)NC(c1ccccc1)c1ccccc1', 'CCN1c2cc(OC)ccc2C(C#N)C1c1ccc(OC(=O)N2CCCC2)cc1', 'Cc1ccc2c(=O)c(CN3CCOCC3)c(C(=O)NCc3ccccc3)[nH]c2c1', 'O=C(O)c1ccc(CCCn2c(C(=O)C3CCNCC3)nc3ccccc32)cc1', 'CCc1ccc(N2CC(C(=O)Nc3ccccc3C(=O)NC3CC3)CC2=O)cc1', 'CCc1cccc(C)c1Nc1ccc(C(=O)Nc2ccc(OC)cc2OC)cn1', 'O=C1C[C@@H]2COc3ccc(OCCN4CCCC4)cc3C2=NN1c1ccccc1', 'CC/N=C(\\\\N)c1ccc2c3c([nH]c2c1)C(C)(C)c1cc(OCCO)ccc1C3=O', 'Cc1nn(-c2ccccc2)c(C)c1NC(=O)COc1cccc2c1CCC[C@H]2O', 'COc1ccc(CN(C)CC(=O)c2cn(CCC#N)c3ccccc23)c(OC)c1', 'CC(C)CCCOc1ccc2c(c1)N(C(=O)c1ccc3ccccc3c1)NN2O', 'COc1ccc2c(c1OC)CN(C(=O)c1ccccc1-n1nc(C)cc1C)CC2', 'CC.O=C(Nc1ccccc1)c1cc(N2CCCC2C(=O)O)nc2ccccc12', 'CC1(CNC(=O)c2cccc(CN3C(=O)c4ccccc4C3=O)c2)CCNCC1', 'CC1C(=O)N(NC(=O)[C@H](C)NC(=O)CC2CC2)c2ccccc2-c2ccccc21', 'COc1ccc(-c2nn(Cc3ccccc3)cc2C(=O)N2CCC(O)CC2)cc1', 'Cc1cc(=O)oc2cc(NC(=O)CN3CCN(Cc4ccccc4)CC3)ccc12', 'CCOC(=O)[C@H]1[C@H](c2ccccc2)N1n1c(CC(C)C)nc2ccccc2c1=O', 'CCc1ccc(NC(=O)COc2ccc(C(=O)Nn3c(C)ccc3C)cc2)cc1', 'COc1ccc2cc([C@H](C)C(=O)Nc3ccc(N4CCOCC4)cn3)ccc2c1', 'O=C(CN1CCC[C@H]1C(=O)O)NC[C@H](c1ccccc1)c1c[nH]c2ccccc12', 'O=C1CC(C(=O)NCc2cccc(C(=O)N3CCCCC3)c2)c2ccccc2N1', 'COc1ccc(OC)c(/C=C/C(=O)NCc2c(C)nn(-c3ccccc3)c2C)c1', 'COc1cccc(Cc2cnc([C@H]3CCCCN3C(=O)c3cccc(C)n3)o2)c1', 'CN1C(=O)COC2=C(C=C(C=C21)Cl)C(=O)NC3CN4CCC3CC4', 'CCN(CC)Cc1ccc(C(=O)NNC(=O)c2ccccc2Cl)o1', 'Cn1cc(CCNC(=O)N2CCC(C(=O)O)C2)c2ccc(Cl)cc21', 'Cc1ccc(C(=O)N2CCNCC2)cc1NC(=O)c1ccco1.Cl', 'CO[C@H]1CCCC[C@H]1OC(=O)c1nc(C)n(-c2ccccc2Cl)n1', 'Cc1nc(C2(NC(=O)C(C)Oc3cccc(Cl)c3)CCCC2)no1', 'COC(=O)C(CC(C)C)NC(=O)/C=C/c1c(Cl)nc2ccccn12', 'Cc1ccc(Cl)cc1NC(=O)/C(C#N)=C\\\\NC(CC(C)C)C(=O)O', 'COc1ccc(Oc2ccc(NC(=O)C3CCCN3)cn2)cc1.Cl', 'C[C@H]1CN(C(=O)c2ccn(COc3ccccc3Cl)n2)C[C@H](C)O1', 'COc1cc(Cl)ccc1C(=O)N1CCC(O)(c2nccn2C)CC1', 'C=C/C(N)=C(/C)Oc1ncnc2cc(OCCCCl)c(OC)cc12', 'CCN(Cc1ccccc1Cl)C(=O)CNC(=O)NCc1ccco1', 'O=C1CN(C(=O)C2CCN(C(=O)c3ccc(Cl)cc3)CC2)CCN1', 'C[C@@H]1CN(c2cccc(Cl)c2)C(=O)CN1C(=O)CN1CCCC1=O', 'O=C1CO[C@H]2CCN(C(=O)N3CC(c4ccc(Cl)cn4)C3)C[C@H]2C1', 'Cc1ccc(NC(=O)C2CC2C(=O)N2CCN(C=O)CC2)cc1Cl', 'CC(C)(C)/C(O)=C/C(N)=N/C(=O)C1CC(=O)N1c1ccc(Cl)cc1', 'COc1ccc(CNc2cn[nH]c(=O)c2Cl)c(OC2CCCC2)c1', 'CCC(C)C(NC(=O)c1nn(-c2ccccc2Cl)cc1C)C(=O)O', 'CCCCCC/N=C/c1c(O)n(-c2ccc(Cl)cc2)c(=O)[nH]c1=O', 'COc1cccc(-c2noc(C3CCCCN3C(=O)CCCl)n2)c1', 'Cc1nc(CNC(=O)N2CCC(Oc3ccccc3Cl)C2)oc1C', 'Cc1cc(NC(=O)CCN2CCO[C@H](c3ccc(Cl)cc3)C2)no1', 'COc1cc(NC(=O)c2ccc(NC(C)C)cn2)c(OC)cc1Cl', 'CCNC(=O)c1coc(CN(CC)C(=O)[C@@H](Cl)c2ccccc2)n1', 'COc1cc(C(=O)N2CCCC(n3ccnc3)C2)cc(Cl)c1OC', 'CCCCc1nc(CC=CO)c(Cl)n1Cc1ccc([N+](=O)[O-])cc1', 'CN1C(=O)c2ccc(C(=O)N3C4CCNCC3CC4)cc2C1=O.Cl', 'COc1ccc(CN2CCCC(n3ccc(C(=O)O)n3)C2)c(Cl)c1', 'O=C(NCCCN1CCOCC1)c1cc(-c2ccc(Cl)cc2)on1', 'Cc1nc(C)c(CCC(=O)NC(CO)c2ccc(Cl)cc2)c(=O)[nH]1', 'COCCNC(=O)c1ccc(Nc2cc(C)c(Cl)cc2OC)nc1', 'O=C(Cc1ccc(Cl)cc1)N1CC[C@@H](O)[C@](O)(Cn2cccn2)C1', 'O=C(O)Cn1ccc([C@H]2CCCN(Cc3cccc(O)c3Cl)C2)n1', 'Cc1ccc(C(CNC(=O)c2ccnc(Cl)c2)N2CCOCC2)o1', 'Cc1onc(-c2ccccc2Cl)c1N(C=O)CCN1CCOCC1', 'Cn1ncc(C(=O)O)c1C(=O)NCC(C)(C)Cc1cccc(Cl)c1', 'CCCN(CC(=O)Nc1cc(C)on1)C(=O)[C@@H](Cl)c1ccccc1', 'C[C@@H](C(=O)NCc1ccccc1Cl)N1C(=O)NC2(CCCC2)C1=O', 'O=C(CN1CCC[C@H](O)C1)NCc1cc(-c2ccccc2Cl)on1', 'CC(=O)N[C@H]1C[C@H]2CN(C(=O)c3cccc(Cl)c3)[C@@H](C)C(=O)N2C1', 'CN(Cc1cnn(C)c1)C(=O)Cc1cc(Cl)c2c(c1)OCCCO2', 'CC(NC(=O)Cc1ccc(O)cc1Cl)c1nc(C2CCCC2)no1', 'COc1ccc(NC(=O)Cn2c(C(C)C)nc(C)cc2=O)cc1Cl', 'C#CCCC1(CCNC(=O)C(C)Oc2ccc(Cl)cc2CO)N=N1', 'CCc1c(C(=O)NCC(C)(C)C(=O)O)cnn1-c1cccc(Cl)c1', 'COCC[C@H]1CN(C(=O)c2cc(OC)ccc2Cl)Cc2ccnn21', 'O=C(NC1CCN(c2cccc(Cl)c2)C1=O)N[C@@H]1C[C@H]2CC[C@@H]1O2', 'Cc1ncn(CCNC(=O)C(C)Oc2ccccc2Cl)c(=O)c1C', 'CC(C)(C)C(=O)C(C(CC(=O)O)c1ccc(Cl)cc1)n1cncn1', 'CCOC(=O)Cc1ccc(NC(=O)CCc2cnn(C)c2)c(Cl)c1', 'COCCCNc1cncc(C(=O)Nc2ccc(OC)c(Cl)c2)c1', 'COc1cc(/C=C/C(=O)NCCc2cnn(C)c2)cc(Cl)c1OC', 'C[C@@H](C(=O)Nc1cccc(Cl)c1)N1C(=O)NC2(CCCCC2)C1=O', 'Cc1noc(C(C)C)c1C(=O)NCCNC(=O)c1ccc(Cl)cc1', 'COC(=O)[C@H]1C[C@H](O)CN1Cc1c(C)nn(-c2ccccc2)c1Cl', 'CC(C)(C)OC(=O)N1CC[C@@H]1C(=O)Nc1ccc(CC#N)cc1Cl', 'COCCN1CCN(C(=O)c2ncoc2-c2ccccc2Cl)CC1', 'Cc1noc(C2CCCN(C(=O)COCc3ccccc3Cl)C2)n1', 'CC(C)c1cc(NC(=O)N2CCOC(c3cccc(Cl)c3)C2)no1', 'COC(=O)CCCCNC(=O)c1c(C)nn(-c2ccccc2)c1Cl', 'COc1ccc(COc2nc(Cl)cc(N3CCOC[C@H]3C)n2)cc1', 'N#CCNC(=O)C1CCC(NC(=O)OCc2ccccc2Cl)CC1', 'CCNC(=O)c1cc(OC(C)c2ccccc2Cl)c(C(=O)NC)[nH]1', 'CCc1noc(C)c1NC(=O)N[C@@H]1CCO[C@@H]1c1ccc(Cl)cc1', 'Cc1ccc(N2C(=O)CC(N3CCC(C(N)=O)CC3)C2=O)cc1Cl', 'CC(=O)N1CCCC(O)(Cc2nc(Cc3cccc(Cl)c3)no2)C1', 'CN(C#N)C(=O)C1CCC(NC(=O)OCc2cccc(Cl)c2)CC1', 'Cc1noc(C)c1CN(C)C(=O)C(=O)N[C@@H](C)c1ccccc1Cl', 'CC(=O)n1cc(C(=O)NCCN2CCOCC2)c2ccc(Cl)cc21', 'Cc1cc(C(=O)c2cnn(C)c2OC(=O)N(C)C)c(Cl)c(C)c1C', 'COCCOc1ncccc1NC(=O)NC(C)c1ccc(Cl)cc1', 'O=C(CN1CCN(C(=O)c2ccc(Cl)cc2)CC1=O)N1CCCC1', 'CN(C)c1c(Cl)cccc1NC(=O)CCCNC(=O)c1ccco1', 'CC(C(=O)N1CCN(c2ccccc2Cl)CC1)N1C(=O)CCC1=O', 'Cc1nn(-c2ccc(Cl)cc2)cc1C(=O)NC(C)(C)CCC(=O)O', 'O=C(CN1CCCC(O)C1)NCc1cc(-c2cccc(Cl)c2)no1', 'C[C@@H]1CN(C(=O)c2ccn(COc3ccccc3Cl)n2)C[C@H](C)O1', 'COC1CC2C(=O)N(C3CCN(c4ccc(Cl)cc4)C3)C(=O)N2C1', 'CC(=O)N(CCC(=O)NCCc1ccc(Cl)cc1)c1cc(C)on1', 'Cc1c(Cl)c(C(=O)NC(CCC(=O)O)Cc2ccccc2)nn1C', 'CC(C)(C)c1cc(NC(=O)CCC(=O)O)n(-c2ccc(Cl)cc2)n1', 'CC(=O)N1CCN(C(=O)C2CC(=O)N(c3cccc(Cl)c3)C2)CC1', 'Cc1[nH]nc(C(C)C)c1C(=O)NCc1cc(Cl)c2c(c1)OCCO2', 'Cc1noc(C)c1CCC(=O)N1CC[C@H](Oc2ccncc2Cl)C1', 'O=C(NCC(O)COCC1CC1)c1cnn(-c2ccccc2Cl)c1', 'CCOC(=O)CCC/N=C/C1C(=O)N(c2cccc(Cl)c2)N=C1C', 'CC(C)CNC(=O)Cn1c(=O)ccn(Cc2ccccc2Cl)c1=O', 'CC(COC1CCOC1)Nc1cnn(-c2ccccc2)c(=O)c1Cl', 'CC1(C)O[C@H]2[C@H](n3ccc4c(Cl)ncnc43)C[C@@H]3[C@@H](O)CC[C@@]32O1', 'O=C(O)CCCC(=O)N(CCn1ccnc1)Cc1cccc(Cl)c1', 'C[C@@H]1CCCC[C@@]12NC(=O)N(CC(=O)Nc1cccc(Cl)c1)C2=O', 'CCOCC1C=C(C(=O)NCCc2c[nH]c3ccc(Cl)cc23)NO1', 'CC([NH3+])C(=O)NC(COC(=O)c1cccnc1)c1ccccc1.[Cl-]', 'Cc1c(Cl)cccc1NC(=O)C(=O)NCC[C@@H](O)c1cccn1C', 'NC(=O)CC[C@H](N)C1=N[C@@]2(c3ccccc3Cl)CCC[C@@H](O1)C2=O', 'Cc1nc(C2CCCN2Cc2cc(Cl)c3c(c2)OCCCO3)no1', 'O=C(O)COc1ccc(Cl)cc1CN1CCC[C@H](c2ncc[nH]2)C1', 'CCCCn1nc(C)c(C(=O)NCc2ccc3c(c2)OCO3)c1Cl', 'CCCCc1cc(=O)n(CC(=O)Nc2cc(Cl)ccc2OC)cn1', 'C[C@@]1(C(=O)O)CC[C@H](Cc2ccc(Cl)cc2)[C@]1(O)Cn1cncn1', 'CCCN(CC(=O)Nc1cc(C)on1)C(=O)[C@H](Cl)c1ccccc1', 'Cc1cc(C(=O)NCC(c2cccc(Cl)c2)N2CCOCC2)on1', 'CCc1c(C(=O)NCCCC(=O)OC)cnn1-c1cccc(Cl)c1', 'CCc1n[nH]c(=O)c(CNC(=O)c2cc(Cl)ccc2OC)c1CC', 'COc1ccc(C(=O)NC[C@@H]2CCO[C@H]2c2cnn(C)c2)cc1Cl', 'Cc1cc(N(C)[C@@H]2C[C@H](c3ccc(O)cc3)[C@@H](O)[C@H]2O)nc(Cl)n1', 'Cl.O=C(CNC(=O)C1CNCCO1)Nc1cccc2ccccc12', 'C[C@@H](NC(=O)CC[C@H]1CCCO1)c1noc(-c2ccc(Cl)cc2)n1', 'COc1cccc([C@H](CNc2ccc([N+](=O)[O-])cc2Cl)N(C)C)c1', 'Clc1ccccc1-c1nnc(CN2CCCC(C3OCCO3)C2)o1', 'CC[C@@H](C)n1nccc1NC(=O)Cc1cc2c(cc1Cl)OCCO2', 'Cc1cnn(CC(=O)Nc2cc(Cl)ccc2OC[C@@H]2CCCO2)c1', 'Cc1cc(CC2CN(C(=O)COc3ccccc3Cl)CC2O)n[nH]1', 'O=C(NCCOC[C@@H]1CCCO1)c1cn[nH]c1-c1ccccc1Cl', 'Cc1nn(-c2ccc(C(=O)OCC(=O)NC(C)C)cc2)c(C)c1Cl', 'COc1cccc(C(O)CNC(=O)/C=C/c2c(C)nn(C)c2Cl)c1', 'COc1cc(C(=O)NC2CCCCC2n2cccn2)cc(Cl)c1O', 'Cc1onc(-c2ccccc2Cl)c1C(=O)NCCN1CCOCC1', 'CNC(=O)CN1CCN(C(=O)[C@H]2C[C@H]2c2ccccc2Cl)CC1=O', 'CCCC(CNC(=O)c1cn(C)nc1-c1ccccc1Cl)C(=O)O', 'Cl.NCc1cc(C(=O)NCc2cccc(N3CCCC3=O)c2)co1', 'CC(C)c1nc(C2COCCN2C(=O)Cc2ccccc2Cl)no1', 'CCC(CO)Nc1ccc(NC(=O)COc2ccc(Cl)cc2)cn1', '[2H]C([2H])(Oc1ccn(-c2ccc(C(=O)O)c(Cl)n2)n1)C1C(C)(C)C1(C)C', 'COc1cc(N/C=C(/C#N)C(=O)NC2CCCC2)c(OC)cc1Cl', 'CC(C)N(Cc1nnc(-c2ccccc2Cl)o1)C(=O)C1CCOC1', 'Cc1noc([C@@H]2CCCN2C(=O)C(C)(C)Oc2cccc(Cl)c2)n1', 'Cc1cc(NC(=O)NCC2(c3ccccc3Cl)CCOCC2)on1', 'CC(=O)N(CCN(C)C)Cc1cc2cc3c(cc2nc1Cl)OCO3', 'Cn1c(CN2CCOC(c3ccc(Cl)cc3)C2)cc(=O)n(C)c1=O', 'Cc1c(C(=O)NC(C(=O)O)c2ccc(Cl)cc2)cnn1CC(C)C', 'N#CCNC(=O)C1CCC(NC(=O)OCc2ccc(Cl)cc2)CC1', 'O=C1CO[C@@H]2CCN(C(=O)N[C@@H]3C[C@H]3c3ccc(Cl)cc3)C[C@H]2N1', 'Cc1nn(Cc2ccccc2Cl)c(C)c1C(=O)N(C)CCC(=O)O', 'CCN(CC(C)C(=O)O)C(=O)c1cn(-c2ccc(Cl)cc2)nc1C', 'O=C(NCCNC(=O)C1CC(=O)N(C2CC2)C1)c1ccc(Cl)cc1', 'CC(CC(=O)O)NC(=O)c1cnn(-c2ccc(Cl)cc2)c1C(C)C', 'O=C(COc1ccc(Cl)cc1)Nc1cnn(C[C@@H]2CCCCO2)c1', 'Cl.NCc1cc(C(=O)NC2CCN(Cc3ccccc3)C2=O)co1', 'CC1CCC2(CC1)NC(=O)N(CC(=O)Nc1ccccc1Cl)C2=O', 'CCC[C@@H]1NC(=O)[C@@H]2C[C@H](NC(=O)c3ccc(Cl)cc3)CN2C1=O', 'Cc1nc(C2(NC(=O)COc3ccc(Cl)cc3)CCCCC2)no1', 'CCOC(=O)N1CCN(C(=O)c2[nH]c3cc(Cl)ccc3c2C)CC1', 'Cl.O=C(Nc1ccc(CNC(=O)C2CCNC2)cc1)c1ccco1', 'CC1CN(C(=O)Cn2cnc3c(Cl)cccc3c2=O)CC(C)(C)O1', 'O=C1[C@@H]2C[C@@H](O)CN2C(=O)[C@H]2CN(Cc3cccc(Cl)c3)CCN12', 'CC(C)c1c(NC(=O)C2COCCO2)cnn1-c1ccccc1Cl', 'Cn1ccnc1[C@@H]1OCC[C@H]1C(=O)NCCOc1ccc(Cl)cc1', 'Cn1cc(CN2CC[C@@H](Oc3ccccc3Cl)C2)c(=O)n(C)c1=O', 'CCCC(CNC(=O)c1cnn(-c2ccccc2Cl)c1C)C(=O)O', 'CC(O)c1cc2n(n1)CCCN(Cc1cc3c(cc1Cl)OCO3)C2', 'COc1cccc(-c2noc([C@H]3CCCN(C(=O)CCCl)C3)n2)c1', 'Cc1cc(C(=O)N2CCN(CCOc3ccc(Cl)cc3)CC2)on1', 'CC1CCC2(CC1)NC(=O)N(NC(=O)Cc1ccccc1Cl)C2=O', 'O=C(NCC(=O)N1CCCC1)C1CC(=O)N(c2ccccc2Cl)C1', 'COC(=O)c1cccc(-c2noc(C3CC34CCNCC4)n2)c1.Cl', 'Cc1ccc(NC(=O)/C(C#N)=C\\\\NC(CC(C)C)C(=O)O)cc1Cl', 'O=C(Nc1ccc(Cl)c([N+](=O)[O-])c1)NC12CC3CC(CC(C3)C1)C2', 'Cc1nc(CC2CCN(Cc3cccc(C(=O)O)c3Cl)CC2)no1', 'CCCCc1nc(Cl)c(C/C=C\\\\O)n1Cc1ccc([N+](=O)[O-])cc1', 'O=C(NCC(O)COCC1CC1)c1cnn(-c2cccc(Cl)c2)c1', 'Cc1cc(NC(=O)CN2C[C@@H](CO)[C@H](c3ccc(Cl)cc3)C2)no1', 'CC1OCCC1C(=O)Nc1cc(-c2ccc(Cl)cc2)nn1CCO', 'CN(C)C(CNC(=O)C(=O)NCc1ccc(Cl)cc1)c1ccco1', 'COC(=O)CN(Cc1ccc(Cl)cc1)C(=O)CCn1cc(C)cn1', 'CCOC(=O)N1CCC(NC(=O)c2cc3c(Cl)cccc3[nH]2)CC1', 'CCC(C)c1c(Cl)ccc2c1n(C)c(=O)n2C1CCC(=O)NC1=O', 'NC(=O)C1CCN([C@H]2CC(=O)N(Cc3ccc(Cl)cc3)C2=O)CC1', 'CC(C)(CCl)C(=O)Nc1cnn(CC2COc3ccccc3O2)c1', 'Cl.Nc1nc(-c2ccccc2O)cc(C2CCCNC2)c1C(=O)O', 'C[C@@H]1CC1Oc1ccn(-c2ccc(C(=O)OC(C)(C)C)c(Cl)n2)n1', 'COc1cc(Cl)cc(C(=O)N2C[C@@H](Cc3cc(C)[nH]n3)[C@H](O)C2)c1', 'Cc1cc(C(=O)NC[C@H](c2cccc(Cl)c2)N2CCOCC2)on1', 'COc1nc(C)c(NC(=O)C(C)(C)Oc2ccc(Cl)cc2)c(C)n1', 'COc1cccc(Cl)c1CNC(=O)[C@@H]1CCO[C@H]1c1nccn1C', 'CCOC(=O)CN1CCn2ncc(-c3ccc(OC)cc3Cl)c2C1', 'COc1ccc(-n2cc(CN(C(=O)CCl)[C@@H]3CCOC3)cn2)cc1', 'Cn1cc([C@@]2(C)CN(C(=O)COc3ccccc3Cl)CCO2)cn1', 'Cc1nn(-c2ccc(Cl)cc2)cc1C(=O)N1CC(CO)CC1CO', 'Cc1noc(C)c1C(=O)NC1CCC(Oc2ccc(Cl)cn2)CC1', 'O=C(Nc1cc(-c2cccc(Cl)c2)nn1CCO)C1CCOCC1', 'C=CCOc1ccc(CN2CCOC[C@H]2c2nc(C)no2)cc1Cl', 'CNCCCNC(=O)c1ccc(Cl)cc1NC(=O)c1ccoc1C', 'Cn1ccc(CNC(=O)NCc2cc(Cl)c3c(c2)OCCCO3)c1', 'O=C(CCC1CCCO1)NCCc1nc(-c2ccc(Cl)cc2)no1', 'CN(Cc1cccc(Cl)c1)C(=O)CN1C(=O)NC(C)(C2CC2)C1=O', 'CCCC[C@H](NC(=O)c1cnn(-c2cccc(Cl)c2)c1C)C(=O)O', 'Cn1cc([C@@H](NC(=O)Cc2ccc(O)c(Cl)c2)C2CC(O)C2)cn1', 'CC(O)C12C[C@@H]1[C@@H](n1ccc3c(Cl)ncnc31)[C@@H]1OC(C)(C)O[C@@H]12', 'Cl.O=C(Nc1ccc(CNC(=O)C2CCCN2)cc1)c1ccco1', 'COc1ccc(Cl)cc1Nc1ccc(NC(=O)OC(C)(C)C)nc1', 'O=C(NCC(O)COCC1CC1)c1cn[nH]c1-c1ccccc1Cl', 'COc1ccc(CNC(=O)c2cnc(C3CCNCC3)o2)cc1Cl', 'CC(=O)N(CCC(=O)Nc1cc(C)on1)c1c(C)cc(C)cc1Cl', 'CC(=O)N1CCC(C(=O)Nc2nc3c(C)c(Cl)c(C)cc3o2)CC1', 'Cn1nccc1C(=O)N1CCCC(O)(COc2cccc(Cl)c2)C1', 'Cc1nn(C)c(Cl)c1C(=O)Nc1cccc(OC[C@@H]2CCCO2)c1', 'C[C@H](NC(=O)[C@@H]1CC(c2ccc(Cl)cc2)=NO1)C(=O)N1CCCC1', '[H]/N=C1\\\\C=NC(Cl)CCC\\\\C1=N/c1ccc(OCCCC(=O)O)cc1', 'Cc1nc(CNC(=O)CN2CCOCC2)oc1-c1ccc(Cl)cc1', 'CCCCC(NC(=O)c1cn(-c2ccc(Cl)cc2)nc1C)C(=O)O', 'CO[C@H]1CCCC[C@@H]1OC(=O)c1nc(C)n(-c2ccccc2Cl)n1', 'CC(C)NC(=O)OC1CN(C(=O)c2c(Cl)c3ccccc3n2C)C1', 'COc1ccc(CCNC(=O)c2ccncc2)cc1NC(C)=O.Cl', 'Cc1cc(Cl)cc(COC(=O)N2CCCn3nc(CO)cc3C2)c1', 'CN(C)C(=O)C(O)c1cccnc1C=[NH+]OCc1ccccc1.[Cl-]', 'CN(CC(=O)O)CC1CN(c2ccc3ccc(Cl)cc3n2)CCO1', 'Cn1ccc(C(=O)N2CCCC(O)(COc3cccc(Cl)c3)C2)n1', 'CCc1c(C(=O)Nc2ccc(C(=O)O)c(Cl)c2)cnn1C(C)(C)C', 'CC1(C)O[C@@H]2[C@H](O1)C(C(C)(C)O)=C[C@H]2n1ccc2c(Cl)ncnc21', 'CC(C)(C)c1cc(NC(=O)[C@@H]2CC(=O)N2C2=CC=C(Cl)CC2)on1', 'N#CC1(NC(=O)COc2ccc(Cl)cc2C(N)=O)CCCCCC1', 'COCCC(=O)N1CCCC(c2nc(-c3cccc(Cl)c3)no2)C1', 'COC(=O)c1ccc(-c2noc([C@@]34CCC[C@@H]3CNC4)n2)cc1.Cl', 'Cc1cc(Cl)c(C(=O)NC[C@@H]2CCC[C@@]23NC(=O)NC3=O)cc1C', 'CNC(=O)NC(=O)[C@H](C)N(C)Cc1ccc(-c2ccc(Cl)cc2)o1', 'Cc1c(-n2c(O)c(COC(C)(C)C)n(C)c2=O)ccc(C#N)c1Cl', 'O=C(COc1ccc(Cl)cc1)Nc1cnn(CC2CCCCO2)c1', 'O=C(O)c1cnc2c(Cl)cccc2c1NCCCN1CCOCC1', 'CCC(C)NC(=O)Cn1nc(-c2ccc(Cl)cc2)c(OC)cc1=O', 'Cc1cnn(CC(=O)Nc2cc(Cl)ccc2OCC2CCCO2)c1', 'O=C(C1CN(c2nc3cc(Cl)ccc3o2)CCO1)N1CCCCC1', 'NCCCOc1cc(Cl)ccc1C(=O)NCc1cc(C2CC2)on1', 'Cc1cc(NC(=O)CCN2CCO[C@@H](c3ccc(Cl)cc3)C2)no1', 'CC1(C)O[C@H]2[C@H](n3ccc4c(Cl)ncnc43)CC3(CC(O)C3)[C@H]2O1', 'O=C(CCc1ccc(Cl)cc1)NN1C(=O)NC2(CCCCC2)C1=O', 'Cc1cc(C(=O)NC(CC(C)C)C(=O)O)nn1-c1ccccc1Cl', 'COC(=O)CN1CCCN(C(=O)c2cc3ccc(Cl)cc3[nH]2)CC1', 'Cc1nnc([C@@H]2CO[C@H]3CN(CCOc4ccc(Cl)cc4)C[C@H]32)o1', 'COc1ccc(Nc2ccc(NC(=O)OC(C)(C)C)cn2)cc1Cl', 'Cc1nc(CNC(=O)N[C@H]2CCO[C@H]2c2ccc(Cl)cc2)oc1C', 'COC[C@@]12COC[C@@H]1CN(Cc1nc(-c3ccccc3Cl)no1)C2', 'COc1cccc(C(CNc2ccc([N+](=O)[O-])cc2Cl)N(C)C)c1', 'COc1cc(NC(=O)CN2CCCC2c2cc(C)no2)ccc1Cl', 'CCCOc1c(Cl)cc(C(=O)N2CCc3[nH]ncc3C2)cc1OC', 'COC(=O)c1cccc(NC(=O)c2cnn(CC(C)C)c2C)c1Cl', 'Cl.NCc1cc(C(=O)Nc2ccc(CN3CCCC3=O)cc2)co1', 'C[C@H](NC(=O)O)c1cc2cccc(Cl)c2nc1N1CCOC[C@@H]1C', 'CCOC(=O)CNC(=O)NCc1cccn1Cc1ccc(Cl)cc1', 'Cc1nn(-c2ccc(Cl)cc2)c(C)c1CC(=O)NC(C)(C)C(=O)O', 'COc1cc(/C=C\\\\C(=O)NCCc2cnn(C)c2)cc(Cl)c1OC', 'COC(=O)CCCCCNC(=O)/C=C/c1c(Cl)nc2ccccn12', 'Cc1nn(C)c(C)c1NC(=O)[C@@H](C)OC(=O)Cc1ccccc1Cl', 'COC(=O)c1ccc(-n2ccc(OCCC3CCCC3)n2)nc1Cl', 'COCCO[C@@H]1C(c2ccc(C#N)c(Cl)c2C)=NN2C[C@H](O)C[C@@H]12', 'COc1ccc([N+](=O)[O-])cc1CN1CCNCc2ccccc21.Cl', 'COc1cc(C(=O)N[C@H]2CCCC[C@H]2n2cccn2)cc(Cl)c1O', 'CCCCCC/N=C/C1C(=O)NC(=O)N(c2ccc(Cl)cc2)C1=O', 'CCC(C)C(NC(=O)c1cc(C)n(-c2ccccc2Cl)n1)C(=O)O', 'CC[C@@H](CO)NCOCCOc1cc2c(Cl)nccc2cc1C#N', 'Cc1cc(NC(=O)CN(C(=O)c2cccc(Cl)c2)C(C)(C)C)no1', 'Cc1cc(=O)c(C(=O)N(C)CC(C)(C)O)nn1-c1cccc(Cl)c1', 'CO[C@@H]1C[C@@H]2C(=O)N([C@@H]3CCN(c4cccc(Cl)c4)C3)C(=O)N2C1', 'Cc1nc(C2CCCN2C(=O)CCCOc2ccccc2Cl)no1']}\n"
     ]
    }
   ],
   "execution_count": 32
  },
  {
   "metadata": {
    "ExecuteTime": {
     "end_time": "2025-01-26T14:09:43.881011Z",
     "start_time": "2025-01-26T14:09:43.878449Z"
    }
   },
   "cell_type": "code",
   "source": [
    "# Check the keys in the batch\n",
    "print(tmp_msn.keys())\n",
    "\n",
    "# Specifically check if 'batch_ptr' is present\n",
    "if 'batch_ptr' in tmp_msn:\n",
    "    print(\"batch_ptr is present:\", tmp_msn['batch_ptr'])\n",
    "else:\n",
    "    print(\"batch_ptr is missing\")"
   ],
   "id": "9e1dd97c544da443",
   "outputs": [
    {
     "name": "stdout",
     "output_type": "stream",
     "text": [
      "dict_keys(['spec', 'mol', 'precursor_mz', 'adduct', 'identifier', 'mol_freq', 'smiles', 'candidates', 'labels', 'batch_ptr', 'candidates_smiles'])\n",
      "batch_ptr is present: tensor([256, 256, 256, 256, 256, 243, 256,  19,  84,  36, 256, 256],\n",
      "       dtype=torch.int32)\n"
     ]
    }
   ],
   "execution_count": 33
  },
  {
   "metadata": {},
   "cell_type": "markdown",
   "source": "#### Shold be dict_keys(['spec', 'mol', 'precursor_mz', 'adduct', 'mol_freq', 'identifier', 'smiles', 'candidates', 'labels', 'batch_ptr', 'candidates_smiles'])",
   "id": "ef424072a9118b2d"
  },
  {
   "metadata": {
    "ExecuteTime": {
     "end_time": "2025-01-26T14:09:43.988566Z",
     "start_time": "2025-01-26T14:09:43.986227Z"
    }
   },
   "cell_type": "code",
   "source": "tmp_msn.keys()",
   "id": "a4498cf09b5c3638",
   "outputs": [
    {
     "data": {
      "text/plain": [
       "dict_keys(['spec', 'mol', 'precursor_mz', 'adduct', 'identifier', 'mol_freq', 'smiles', 'candidates', 'labels', 'batch_ptr', 'candidates_smiles'])"
      ]
     },
     "execution_count": 34,
     "metadata": {},
     "output_type": "execute_result"
    }
   ],
   "execution_count": 34
  },
  {
   "metadata": {
    "ExecuteTime": {
     "end_time": "2025-01-26T14:09:44.060212Z",
     "start_time": "2025-01-26T14:09:44.058107Z"
    }
   },
   "cell_type": "code",
   "source": "tmp_msn['spec'] ",
   "id": "843fe9326df72b03",
   "outputs": [
    {
     "data": {
      "text/plain": [
       "DataBatch(x=[139, 1039], edge_index=[2, 254], batch=[139], ptr=[13])"
      ]
     },
     "execution_count": 35,
     "metadata": {},
     "output_type": "execute_result"
    }
   ],
   "execution_count": 35
  },
  {
   "metadata": {
    "ExecuteTime": {
     "end_time": "2025-01-26T14:09:44.116680Z",
     "start_time": "2025-01-26T14:09:44.113941Z"
    }
   },
   "cell_type": "code",
   "source": "tmp_msn['precursor_mz']",
   "id": "fc8ed10da30f9581",
   "outputs": [
    {
     "data": {
      "text/plain": [
       "tensor([395.2078, 472.1359, 196.0968, 250.0202, 340.1292, 342.0707, 393.2072,\n",
       "        774.2968, 586.2177, 454.0486, 392.1969, 350.1266])"
      ]
     },
     "execution_count": 36,
     "metadata": {},
     "output_type": "execute_result"
    }
   ],
   "execution_count": 36
  },
  {
   "metadata": {
    "ExecuteTime": {
     "end_time": "2025-01-26T14:09:44.542604Z",
     "start_time": "2025-01-26T14:09:44.539467Z"
    }
   },
   "cell_type": "code",
   "source": "tmp_msn['mol_freq']",
   "id": "dfecc66a8137880d",
   "outputs": [
    {
     "data": {
      "text/plain": [
       "tensor([1., 1., 1., 1., 1., 1., 2., 2., 1., 1., 1., 1.])"
      ]
     },
     "execution_count": 37,
     "metadata": {},
     "output_type": "execute_result"
    }
   ],
   "execution_count": 37
  },
  {
   "metadata": {
    "ExecuteTime": {
     "end_time": "2025-01-26T14:09:44.687710Z",
     "start_time": "2025-01-26T14:09:44.685606Z"
    }
   },
   "cell_type": "code",
   "source": "tmp_msn['identifier']",
   "id": "f3cce6c85a13d606",
   "outputs": [
    {
     "data": {
      "text/plain": [
       "['0038826_0000000',\n",
       " '0059300_0000000',\n",
       " '0098836_0000000',\n",
       " '0071484_0000000',\n",
       " '0051910_0000000',\n",
       " '0031829_0000000',\n",
       " '0094508_0000000',\n",
       " '0012337_0000000',\n",
       " '0060572_0000000',\n",
       " '0075294_0000000',\n",
       " '0050280_0000000',\n",
       " '0059260_0000000']"
      ]
     },
     "execution_count": 38,
     "metadata": {},
     "output_type": "execute_result"
    }
   ],
   "execution_count": 38
  },
  {
   "metadata": {
    "ExecuteTime": {
     "end_time": "2025-01-26T14:09:44.850983Z",
     "start_time": "2025-01-26T14:09:44.848292Z"
    }
   },
   "cell_type": "code",
   "source": "tmp_msn['adduct']",
   "id": "f51053f8670e729f",
   "outputs": [
    {
     "data": {
      "text/plain": [
       "['[M+H]+',\n",
       " '[M+H]+',\n",
       " '[M+H]+',\n",
       " '[M+H]+',\n",
       " '[M+H]+',\n",
       " '[M+H]+',\n",
       " '[M+H]+',\n",
       " '[M+NH4]+',\n",
       " '[M+H]+',\n",
       " '[M+H]+',\n",
       " '[M+H]+',\n",
       " '[M+H]+']"
      ]
     },
     "execution_count": 39,
     "metadata": {},
     "output_type": "execute_result"
    }
   ],
   "execution_count": 39
  },
  {
   "metadata": {
    "ExecuteTime": {
     "end_time": "2025-01-26T14:09:45.017903Z",
     "start_time": "2025-01-26T14:09:45.015397Z"
    }
   },
   "cell_type": "code",
   "source": "tmp_msn['mol'].shape",
   "id": "1874faafb955f9d4",
   "outputs": [
    {
     "data": {
      "text/plain": [
       "torch.Size([12, 4096])"
      ]
     },
     "execution_count": 40,
     "metadata": {},
     "output_type": "execute_result"
    }
   ],
   "execution_count": 40
  },
  {
   "metadata": {
    "ExecuteTime": {
     "end_time": "2025-01-26T14:09:45.166081Z",
     "start_time": "2025-01-26T14:09:45.163471Z"
    }
   },
   "cell_type": "code",
   "source": "tmp_msn['smiles']",
   "id": "26e13e52cabf0dac",
   "outputs": [
    {
     "data": {
      "text/plain": [
       "['CC1=CC=C(C=C1)N2CCN(C2=O)CC(=O)N3CCC(C3)OC4=NC=C(C=C4)C',\n",
       " 'CC1=CC=C(C=C1)S(=O)(=O)N2CCCC[C@@H]2C(=O)NC3=NC(=CS3)C4=CC=C(C=C4)OC',\n",
       " 'C[C@](CC1=CC=C(C=C1)O)(C(=O)O)N',\n",
       " 'C1CSC(=O)C1NC(=O)CSCC(=O)O',\n",
       " 'CC1=CC(=NO1)NC(=O)[C@H](CC2=CC=CC=C2)NC(=O)C3=CC=CO3',\n",
       " 'C1C(=O)N(N=C2N1C3=CC=CC=C3S2)CC(=O)C4=CC=C(C=C4)F',\n",
       " 'C[C@@H]1C[C@H]2[C@@H]3CCC4=CC(=O)C=C[C@@]4([C@]3([C@H](C[C@@]2([C@]1(C(=O)CO)O)C)O)F)C',\n",
       " 'C1CC(C=C1)C(=O)OCC2C(C(C(C(O2)OC3=C(C=C(C=C3)O)COC(=O)C4(C(CCC(=O)C4OC(=O)C5CCC=C5)O)O)OC(=O)C6CCC=C6)O)O',\n",
       " 'CC(C)(C1=CC=CC=C1CC[C@H](C2=CC=CC(=C2)/C=C/C3=NC4=C(C=CC(=C4)Cl)C=C3)SCC5(CC5)CC(=O)O)O',\n",
       " 'C=CC1=C(N2[C@@H]([C@@H](C2=O)NC(=O)/C(=N/OCC(=O)O)/C3=CSC(=N3)N)SC1)C(=O)O',\n",
       " 'COCCN1C2=CC=CC=C2C=C1C(=O)NCCC3=CNC4=C3C=C(C=C4)OC',\n",
       " 'CN1C(=O)COC2=C(C=C(C=C21)Cl)C(=O)NC3CN4CCC3CC4']"
      ]
     },
     "execution_count": 41,
     "metadata": {},
     "output_type": "execute_result"
    }
   ],
   "execution_count": 41
  },
  {
   "metadata": {
    "ExecuteTime": {
     "end_time": "2025-01-26T14:09:45.345887Z",
     "start_time": "2025-01-26T14:09:45.343339Z"
    }
   },
   "cell_type": "code",
   "source": "tmp_msn['labels']",
   "id": "e519fe7ed5121dcc",
   "outputs": [
    {
     "data": {
      "text/plain": [
       "tensor([ True, False, False,  ..., False, False, False])"
      ]
     },
     "execution_count": 42,
     "metadata": {},
     "output_type": "execute_result"
    }
   ],
   "execution_count": 42
  },
  {
   "metadata": {
    "ExecuteTime": {
     "end_time": "2025-01-26T14:09:45.507683Z",
     "start_time": "2025-01-26T14:09:45.499212Z"
    }
   },
   "cell_type": "code",
   "source": "sum(tmp_msn['labels'])",
   "id": "61de3b3ad4572c7a",
   "outputs": [
    {
     "data": {
      "text/plain": [
       "tensor(12)"
      ]
     },
     "execution_count": 43,
     "metadata": {},
     "output_type": "execute_result"
    }
   ],
   "execution_count": 43
  },
  {
   "metadata": {
    "ExecuteTime": {
     "end_time": "2025-01-26T14:09:45.684944Z",
     "start_time": "2025-01-26T14:09:45.681948Z"
    }
   },
   "cell_type": "code",
   "source": "torch.nonzero(tmp_msn['labels'], as_tuple=False).squeeze()",
   "id": "86224621a407862f",
   "outputs": [
    {
     "data": {
      "text/plain": [
       "tensor([   0,  256,  512,  768, 1024, 1280, 1523, 1779, 1798, 1882, 1918, 2174])"
      ]
     },
     "execution_count": 44,
     "metadata": {},
     "output_type": "execute_result"
    }
   ],
   "execution_count": 44
  },
  {
   "metadata": {
    "ExecuteTime": {
     "end_time": "2025-01-26T14:09:45.846982Z",
     "start_time": "2025-01-26T14:09:45.844508Z"
    }
   },
   "cell_type": "code",
   "source": "len(tmp_msn['labels'])",
   "id": "df3c85be4bd961ae",
   "outputs": [
    {
     "data": {
      "text/plain": [
       "2430"
      ]
     },
     "execution_count": 45,
     "metadata": {},
     "output_type": "execute_result"
    }
   ],
   "execution_count": 45
  },
  {
   "metadata": {
    "ExecuteTime": {
     "end_time": "2025-01-26T14:09:46.046226Z",
     "start_time": "2025-01-26T14:09:46.043541Z"
    }
   },
   "cell_type": "code",
   "source": "tmp_msn['batch_ptr']",
   "id": "e30895af70b971cf",
   "outputs": [
    {
     "data": {
      "text/plain": [
       "tensor([256, 256, 256, 256, 256, 243, 256,  19,  84,  36, 256, 256],\n",
       "       dtype=torch.int32)"
      ]
     },
     "execution_count": 46,
     "metadata": {},
     "output_type": "execute_result"
    }
   ],
   "execution_count": 46
  },
  {
   "metadata": {
    "ExecuteTime": {
     "end_time": "2025-01-26T14:09:46.564081Z",
     "start_time": "2025-01-26T14:09:46.561215Z"
    }
   },
   "cell_type": "code",
   "source": "sum(tmp_msn['batch_ptr'])",
   "id": "cd6581b0abe8464d",
   "outputs": [
    {
     "data": {
      "text/plain": [
       "tensor(2430, dtype=torch.int32)"
      ]
     },
     "execution_count": 47,
     "metadata": {},
     "output_type": "execute_result"
    }
   ],
   "execution_count": 47
  },
  {
   "metadata": {
    "ExecuteTime": {
     "end_time": "2025-01-26T14:09:46.742119Z",
     "start_time": "2025-01-26T14:09:46.739777Z"
    }
   },
   "cell_type": "code",
   "source": "len(tmp_msn['candidates'])",
   "id": "bac322d4444ee5ea",
   "outputs": [
    {
     "data": {
      "text/plain": [
       "2430"
      ]
     },
     "execution_count": 48,
     "metadata": {},
     "output_type": "execute_result"
    }
   ],
   "execution_count": 48
  },
  {
   "metadata": {
    "ExecuteTime": {
     "end_time": "2025-01-26T14:09:46.904383Z",
     "start_time": "2025-01-26T14:09:46.902008Z"
    }
   },
   "cell_type": "code",
   "source": "tmp_msn['candidates'][5].shape",
   "id": "5240b59230576227",
   "outputs": [
    {
     "data": {
      "text/plain": [
       "torch.Size([4096])"
      ]
     },
     "execution_count": 49,
     "metadata": {},
     "output_type": "execute_result"
    }
   ],
   "execution_count": 49
  },
  {
   "metadata": {},
   "cell_type": "markdown",
   "source": "### Compare Shapes",
   "id": "8fabb6d3fa7fd1ec"
  },
  {
   "metadata": {
    "ExecuteTime": {
     "end_time": "2025-01-26T14:09:47.239455Z",
     "start_time": "2025-01-26T14:09:47.237177Z"
    }
   },
   "cell_type": "code",
   "source": "tmp_msn.keys() == tmp_original.keys()",
   "id": "1569a73db41d79ad",
   "outputs": [
    {
     "data": {
      "text/plain": [
       "True"
      ]
     },
     "execution_count": 50,
     "metadata": {},
     "output_type": "execute_result"
    }
   ],
   "execution_count": 50
  },
  {
   "metadata": {
    "ExecuteTime": {
     "end_time": "2025-01-26T14:09:47.438583Z",
     "start_time": "2025-01-26T14:09:47.436466Z"
    }
   },
   "cell_type": "code",
   "source": "tmp_msn['batch_ptr'].shape == tmp_original['batch_ptr'].shape",
   "id": "e05b0a2b1e4ecf17",
   "outputs": [
    {
     "data": {
      "text/plain": [
       "True"
      ]
     },
     "execution_count": 51,
     "metadata": {},
     "output_type": "execute_result"
    }
   ],
   "execution_count": 51
  },
  {
   "metadata": {
    "ExecuteTime": {
     "end_time": "2025-01-26T14:09:47.602278Z",
     "start_time": "2025-01-26T14:09:47.599955Z"
    }
   },
   "cell_type": "code",
   "source": "tmp_msn['batch_ptr'].dtype == tmp_original['batch_ptr'].dtype",
   "id": "b606c035c765f275",
   "outputs": [
    {
     "data": {
      "text/plain": [
       "False"
      ]
     },
     "execution_count": 52,
     "metadata": {},
     "output_type": "execute_result"
    }
   ],
   "execution_count": 52
  },
  {
   "metadata": {
    "ExecuteTime": {
     "end_time": "2025-01-26T14:13:34.631369Z",
     "start_time": "2025-01-26T14:13:34.629025Z"
    }
   },
   "cell_type": "code",
   "source": "tmp_original['batch_ptr'].dtype",
   "id": "2217b21a37932e30",
   "outputs": [
    {
     "data": {
      "text/plain": [
       "torch.int64"
      ]
     },
     "execution_count": 68,
     "metadata": {},
     "output_type": "execute_result"
    }
   ],
   "execution_count": 68
  },
  {
   "metadata": {
    "ExecuteTime": {
     "end_time": "2025-01-26T14:13:22.931706Z",
     "start_time": "2025-01-26T14:13:22.922641Z"
    }
   },
   "cell_type": "code",
   "source": "tmp_msn['batch_ptr'].dtype",
   "id": "782a345bcd3a68db",
   "outputs": [
    {
     "data": {
      "text/plain": [
       "torch.int32"
      ]
     },
     "execution_count": 67,
     "metadata": {},
     "output_type": "execute_result"
    }
   ],
   "execution_count": 67
  },
  {
   "metadata": {
    "ExecuteTime": {
     "end_time": "2025-01-26T14:09:47.774336Z",
     "start_time": "2025-01-26T14:09:47.771485Z"
    }
   },
   "cell_type": "code",
   "source": "sum(tmp_msn['batch_ptr']), len(tmp_msn['candidates_smiles'])",
   "id": "f9dae4c8aaa7564b",
   "outputs": [
    {
     "data": {
      "text/plain": [
       "(tensor(2430, dtype=torch.int32), 2430)"
      ]
     },
     "execution_count": 53,
     "metadata": {},
     "output_type": "execute_result"
    }
   ],
   "execution_count": 53
  },
  {
   "metadata": {
    "ExecuteTime": {
     "end_time": "2025-01-26T14:09:47.942548Z",
     "start_time": "2025-01-26T14:09:47.940125Z"
    }
   },
   "cell_type": "code",
   "source": "sum(tmp_original['batch_ptr']), len(tmp_original['candidates_smiles'])",
   "id": "67eeb6830a02639a",
   "outputs": [
    {
     "data": {
      "text/plain": [
       "(tensor(2994), 2994)"
      ]
     },
     "execution_count": 54,
     "metadata": {},
     "output_type": "execute_result"
    }
   ],
   "execution_count": 54
  },
  {
   "metadata": {
    "ExecuteTime": {
     "end_time": "2025-01-26T14:09:48.103318Z",
     "start_time": "2025-01-26T14:09:48.101065Z"
    }
   },
   "cell_type": "code",
   "source": "tmp_msn['labels'].dtype == tmp_original['labels'].dtype",
   "id": "da6f7d53ce907f18",
   "outputs": [
    {
     "data": {
      "text/plain": [
       "True"
      ]
     },
     "execution_count": 55,
     "metadata": {},
     "output_type": "execute_result"
    }
   ],
   "execution_count": 55
  },
  {
   "metadata": {
    "ExecuteTime": {
     "end_time": "2025-01-26T14:09:48.260879Z",
     "start_time": "2025-01-26T14:09:48.258837Z"
    }
   },
   "cell_type": "code",
   "source": "tmp_msn['candidates'].dtype == tmp_original['candidates'].dtype",
   "id": "29f2304a3eb0d784",
   "outputs": [
    {
     "data": {
      "text/plain": [
       "True"
      ]
     },
     "execution_count": 56,
     "metadata": {},
     "output_type": "execute_result"
    }
   ],
   "execution_count": 56
  },
  {
   "metadata": {
    "ExecuteTime": {
     "end_time": "2025-01-26T14:09:48.433295Z",
     "start_time": "2025-01-26T14:09:48.430979Z"
    }
   },
   "cell_type": "code",
   "source": "tmp_msn['candidates'][0].shape == tmp_original['candidates'][0].shape",
   "id": "bf61a76af4db9b5a",
   "outputs": [
    {
     "data": {
      "text/plain": [
       "True"
      ]
     },
     "execution_count": 57,
     "metadata": {},
     "output_type": "execute_result"
    }
   ],
   "execution_count": 57
  },
  {
   "metadata": {
    "ExecuteTime": {
     "end_time": "2025-01-26T14:09:48.599192Z",
     "start_time": "2025-01-26T14:09:48.597148Z"
    }
   },
   "cell_type": "code",
   "source": "tmp_msn['candidates'][5].shape == tmp_original['candidates'][5].shape",
   "id": "e28ea4d96f687f0f",
   "outputs": [
    {
     "data": {
      "text/plain": [
       "True"
      ]
     },
     "execution_count": 58,
     "metadata": {},
     "output_type": "execute_result"
    }
   ],
   "execution_count": 58
  },
  {
   "metadata": {
    "ExecuteTime": {
     "end_time": "2025-01-26T14:09:48.780483Z",
     "start_time": "2025-01-26T14:09:48.778287Z"
    }
   },
   "cell_type": "code",
   "source": "type(tmp_msn['smiles']) == type(tmp_original['smiles'])",
   "id": "68573c7361e436dd",
   "outputs": [
    {
     "data": {
      "text/plain": [
       "True"
      ]
     },
     "execution_count": 59,
     "metadata": {},
     "output_type": "execute_result"
    }
   ],
   "execution_count": 59
  },
  {
   "metadata": {
    "ExecuteTime": {
     "end_time": "2025-01-26T14:09:48.928996Z",
     "start_time": "2025-01-26T14:09:48.926865Z"
    }
   },
   "cell_type": "code",
   "source": "type(tmp_msn['smiles'][0]) == type(tmp_original['smiles'][0])",
   "id": "44b90cb38ece920e",
   "outputs": [
    {
     "data": {
      "text/plain": [
       "True"
      ]
     },
     "execution_count": 60,
     "metadata": {},
     "output_type": "execute_result"
    }
   ],
   "execution_count": 60
  },
  {
   "metadata": {
    "ExecuteTime": {
     "end_time": "2025-01-26T14:09:49.109966Z",
     "start_time": "2025-01-26T14:09:49.107657Z"
    }
   },
   "cell_type": "code",
   "source": "len(tmp_msn['smiles']) == len(tmp_original['smiles'])",
   "id": "8493612e08e9479e",
   "outputs": [
    {
     "data": {
      "text/plain": [
       "True"
      ]
     },
     "execution_count": 61,
     "metadata": {},
     "output_type": "execute_result"
    }
   ],
   "execution_count": 61
  },
  {
   "metadata": {
    "ExecuteTime": {
     "end_time": "2025-01-26T14:09:49.304870Z",
     "start_time": "2025-01-26T14:09:49.302709Z"
    }
   },
   "cell_type": "code",
   "source": "type(tmp_msn['candidates_smiles']) == type(tmp_original['candidates_smiles'])",
   "id": "b604f8942bf1362d",
   "outputs": [
    {
     "data": {
      "text/plain": [
       "True"
      ]
     },
     "execution_count": 62,
     "metadata": {},
     "output_type": "execute_result"
    }
   ],
   "execution_count": 62
  },
  {
   "metadata": {
    "ExecuteTime": {
     "end_time": "2025-01-26T14:09:49.476990Z",
     "start_time": "2025-01-26T14:09:49.474772Z"
    }
   },
   "cell_type": "code",
   "source": "type(tmp_msn['candidates_smiles'][0]) == type(tmp_original['candidates_smiles'][0])",
   "id": "1a9910cd68400224",
   "outputs": [
    {
     "data": {
      "text/plain": [
       "True"
      ]
     },
     "execution_count": 63,
     "metadata": {},
     "output_type": "execute_result"
    }
   ],
   "execution_count": 63
  },
  {
   "metadata": {
    "ExecuteTime": {
     "end_time": "2025-01-26T14:09:49.656680Z",
     "start_time": "2025-01-26T14:09:49.654355Z"
    }
   },
   "cell_type": "code",
   "source": "len(tmp_msn['candidates_smiles'])",
   "id": "65f8205061648068",
   "outputs": [
    {
     "data": {
      "text/plain": [
       "2430"
      ]
     },
     "execution_count": 64,
     "metadata": {},
     "output_type": "execute_result"
    }
   ],
   "execution_count": 64
  },
  {
   "metadata": {},
   "cell_type": "code",
   "outputs": [],
   "execution_count": null,
   "source": "",
   "id": "6f62755f6c500d5f"
  }
 ],
 "metadata": {
  "kernelspec": {
   "display_name": "Python 3",
   "language": "python",
   "name": "python3"
  },
  "language_info": {
   "codemirror_mode": {
    "name": "ipython",
    "version": 2
   },
   "file_extension": ".py",
   "mimetype": "text/x-python",
   "name": "python",
   "nbconvert_exporter": "python",
   "pygments_lexer": "ipython2",
   "version": "2.7.6"
  }
 },
 "nbformat": 4,
 "nbformat_minor": 5
}
