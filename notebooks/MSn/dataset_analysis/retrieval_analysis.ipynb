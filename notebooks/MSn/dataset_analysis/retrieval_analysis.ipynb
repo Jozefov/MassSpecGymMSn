{
 "cells": [
  {
   "metadata": {
    "ExecuteTime": {
     "end_time": "2025-01-25T15:56:08.457677Z",
     "start_time": "2025-01-25T15:56:08.454046Z"
    }
   },
   "cell_type": "code",
   "source": [
    "from massspecgym.data.datasets import MSnDataset, MSnRetrievalDataset, RetrievalDataset\n",
    "import torch"
   ],
   "id": "da6a763cea0be904",
   "outputs": [],
   "execution_count": 35
  },
  {
   "metadata": {
    "ExecuteTime": {
     "end_time": "2025-01-25T15:56:08.617782Z",
     "start_time": "2025-01-25T15:56:08.615695Z"
    }
   },
   "cell_type": "code",
   "source": [
    "file_mgf = \"/Users/macbook/CODE/Majer:MassSpecGym/data/MSn/20241211_msn_library_pos_all_lib_MSn.mgf\"\n",
    "file_json = \"/Users/macbook/CODE/Majer:MassSpecGym/data/Retrieval/MassSpecGym_retrieval_candidates_mass.json\"\n",
    "split_file = \"/Users/macbook/CODE/Majer:MassSpecGym/data/MSn/20241211_split.tsv\""
   ],
   "id": "22f3a2d12131cd17",
   "outputs": [],
   "execution_count": 36
  },
  {
   "metadata": {
    "ExecuteTime": {
     "end_time": "2025-01-25T15:56:08.770192Z",
     "start_time": "2025-01-25T15:56:08.768294Z"
    }
   },
   "cell_type": "code",
   "source": [
    "from massspecgym.data.transforms import MolFingerprinter, SpecTokenizer\n",
    "from massspecgym.data import RetrievalDataset, MassSpecDataModule"
   ],
   "id": "c0a04ca978e09c61",
   "outputs": [],
   "execution_count": 37
  },
  {
   "metadata": {
    "ExecuteTime": {
     "end_time": "2025-01-25T15:56:08.932438Z",
     "start_time": "2025-01-25T15:56:08.930543Z"
    }
   },
   "cell_type": "code",
   "source": "pth_massspecgym_original = \"/Users/macbook/CODE/Majer:MassSpecGym/data/MassSpecGym/MassSpecGym.tsv\"",
   "id": "db1094d3df48cd7f",
   "outputs": [],
   "execution_count": 38
  },
  {
   "metadata": {
    "ExecuteTime": {
     "end_time": "2025-01-25T15:56:19.610156Z",
     "start_time": "2025-01-25T15:56:09.074482Z"
    }
   },
   "cell_type": "code",
   "source": [
    "# Init hyperparameters\n",
    "n_peaks = 60\n",
    "fp_size = 4096\n",
    "batch_size = 12\n",
    "\n",
    "# Load dataset\n",
    "dataset_original = RetrievalDataset(\n",
    "    pth=pth_massspecgym_original,\n",
    "    candidates_pth=file_json,\n",
    "    spec_transform=SpecTokenizer(n_peaks=n_peaks),\n",
    "    mol_transform=MolFingerprinter(fp_size=fp_size),\n",
    ")\n"
   ],
   "id": "5346beea048ce5a5",
   "outputs": [],
   "execution_count": 39
  },
  {
   "metadata": {
    "ExecuteTime": {
     "end_time": "2025-01-25T15:56:19.623344Z",
     "start_time": "2025-01-25T15:56:19.620110Z"
    }
   },
   "cell_type": "code",
   "source": [
    "# Init data module\n",
    "data_module_original = MassSpecDataModule(\n",
    "    dataset=dataset_original,\n",
    "    batch_size=batch_size,\n",
    "    num_workers=0,\n",
    ")"
   ],
   "id": "d6ceed9debd5cc51",
   "outputs": [],
   "execution_count": 40
  },
  {
   "metadata": {
    "ExecuteTime": {
     "end_time": "2025-01-25T15:56:19.693231Z",
     "start_time": "2025-01-25T15:56:19.642289Z"
    }
   },
   "cell_type": "code",
   "source": [
    "data_module_original.prepare_data()\n",
    "data_module_original.setup()\n",
    "\n",
    "train_loader_original = data_module_original.train_dataloader()"
   ],
   "id": "c4bfe776ab073f74",
   "outputs": [
    {
     "name": "stdout",
     "output_type": "stream",
     "text": [
      "Train dataset size: 194119\n",
      "Val dataset size: 19429\n"
     ]
    }
   ],
   "execution_count": 41
  },
  {
   "metadata": {
    "ExecuteTime": {
     "end_time": "2025-01-25T15:56:20.809916Z",
     "start_time": "2025-01-25T15:56:19.713324Z"
    }
   },
   "cell_type": "code",
   "source": [
    "tmp_original = []\n",
    "for batch in train_loader_original:\n",
    "    print(batch)\n",
    "    tmp_original = batch\n",
    "    break"
   ],
   "id": "55185d08a14a11ab",
   "outputs": [
    {
     "name": "stdout",
     "output_type": "stream",
     "text": [
      "I am not here\n",
      "{'spec': tensor([[[2.7509e+02, 1.1000e+00],\n",
      "         [2.0509e+02, 7.0070e-03],\n",
      "         [2.2506e+02, 3.0030e-03],\n",
      "         ...,\n",
      "         [0.0000e+00, 0.0000e+00],\n",
      "         [0.0000e+00, 0.0000e+00],\n",
      "         [0.0000e+00, 0.0000e+00]],\n",
      "\n",
      "        [[1.6910e+02, 1.1000e+00],\n",
      "         [6.7551e+01, 7.8275e-03],\n",
      "         [9.0745e+01, 8.8031e-03],\n",
      "         ...,\n",
      "         [0.0000e+00, 0.0000e+00],\n",
      "         [0.0000e+00, 0.0000e+00],\n",
      "         [0.0000e+00, 0.0000e+00]],\n",
      "\n",
      "        [[4.6043e+02, 1.1000e+00],\n",
      "         [5.1571e+01, 1.9918e-04],\n",
      "         [5.4034e+01, 4.2192e-04],\n",
      "         ...,\n",
      "         [0.0000e+00, 0.0000e+00],\n",
      "         [0.0000e+00, 0.0000e+00],\n",
      "         [0.0000e+00, 0.0000e+00]],\n",
      "\n",
      "        ...,\n",
      "\n",
      "        [[3.4620e+02, 1.1000e+00],\n",
      "         [4.4049e+01, 5.8350e-02],\n",
      "         [5.7033e+01, 1.1010e-02],\n",
      "         ...,\n",
      "         [0.0000e+00, 0.0000e+00],\n",
      "         [0.0000e+00, 0.0000e+00],\n",
      "         [0.0000e+00, 0.0000e+00]],\n",
      "\n",
      "        [[3.4722e+02, 1.1000e+00],\n",
      "         [1.1506e+02, 2.8128e-01],\n",
      "         [1.1606e+02, 9.6096e-02],\n",
      "         ...,\n",
      "         [2.0913e+02, 9.2092e-02],\n",
      "         [2.1115e+02, 8.4084e-02],\n",
      "         [2.2315e+02, 9.4094e-02]],\n",
      "\n",
      "        [[2.1502e+02, 1.1000e+00],\n",
      "         [1.5302e+02, 5.0000e-03],\n",
      "         [1.6901e+02, 1.7000e-02],\n",
      "         ...,\n",
      "         [0.0000e+00, 0.0000e+00],\n",
      "         [0.0000e+00, 0.0000e+00],\n",
      "         [0.0000e+00, 0.0000e+00]]]), 'mol': tensor([[0., 0., 0.,  ..., 0., 0., 0.],\n",
      "        [0., 0., 0.,  ..., 0., 0., 0.],\n",
      "        [0., 0., 0.,  ..., 0., 0., 0.],\n",
      "        ...,\n",
      "        [0., 0., 0.,  ..., 0., 0., 0.],\n",
      "        [0., 0., 0.,  ..., 0., 0., 0.],\n",
      "        [0., 0., 0.,  ..., 0., 0., 0.]]), 'precursor_mz': tensor([275.0914, 169.0970, 460.4260, 384.1470, 405.1600, 347.1700, 769.1700,\n",
      "        369.1333, 551.3700, 346.2013, 347.2217, 215.0200]), 'adduct': ['[M+H]+', '[M+H]+', '[M+H]+', '[M+H]+', '[M+H]+', '[M+Na]+', '[M+Na]+', '[M+H]+', '[M+Na]+', '[M+H]+', '[M+H]+', '[M+Na]+'], 'mol_freq': tensor([  5.,  50.,   3.,   2.,  45., 405.,  17.,  20., 111.,   3.,  75.,  79.]), 'identifier': ['MassSpecGymID0086609', 'MassSpecGymID0128321', 'MassSpecGymID0393448', 'MassSpecGymID0239906', 'MassSpecGymID0373667', 'MassSpecGymID0003424', 'MassSpecGymID0352911', 'MassSpecGymID0114833', 'MassSpecGymID0278418', 'MassSpecGymID0232354', 'MassSpecGymID0006033', 'MassSpecGymID0048324'], 'smiles': ['CC1CC2=CC3=CC(=CC(=C3C(=C2C(=O)O1)O)O)OC', 'CC1=NC=C(C(=C1O)CN)CO', 'CCCCCCCCC=CCCCCCCCCCCCCCC(=O)NCCC1=NC=CN1', 'C1CN(CCN1CCO)C2=C(C3=C(C=CC(=C3)Cl)NC2=O)C4=CC=CC=C4', 'CC1=C(OC2=CC3=C(C=C12)C(=C(C(=O)O3)CC(=O)N(C)CCC4=CC=CC=N4)C)C', 'COC1=CC2=C(C=CN=C2C=C1)C(C3CC4CCN3CC4C=C)O', 'COC(=O)C(CC1=CC(=C(C=C1)O)O)OC(=O)C=CC2=C3C(C(OC3=C(C=C2)O)C4=CC(=C(C=C4)O)O)C(=O)OC(CC5=CC(=C(C=C5)O)O)C(=O)OC', 'CC(=CCC1=C(C2=C(C=C1O)OC(=O)C(=C2)C3=C(C=C(C=C3)O)O)OC)C', 'CC(C)C(=C)CCC(C1C(CC2(C1(CCC3=C2CCC4C3(CCC(C4(C)C)OC(=O)C)C)C)C)O)C(=O)O', 'CC1=CC(=CC=C1)OCC(CNCCC2=CC(=C(C=C2)OC)OC)O', 'C[C@]12CCC(=O)C=C1CC[C@@H]3[C@@H]2[C@H](C[C@]4([C@H]3CC[C@@H]4C(=O)CO)C)O', 'C(C(=O)O)C(CC(=O)O)(C(=O)O)O'], 'candidates': tensor([[0., 0., 0.,  ..., 0., 0., 0.],\n",
      "        [0., 0., 0.,  ..., 0., 0., 0.],\n",
      "        [0., 0., 0.,  ..., 0., 0., 0.],\n",
      "        ...,\n",
      "        [0., 0., 0.,  ..., 0., 0., 0.],\n",
      "        [0., 0., 0.,  ..., 0., 0., 0.],\n",
      "        [0., 0., 0.,  ..., 0., 0., 0.]]), 'labels': tensor([ True, False, False,  ..., False, False, False]), 'batch_ptr': tensor([256, 256,  76, 256, 256, 256, 256, 256, 256, 256, 256, 256]), 'candidates_smiles': ['CC1CC2=CC3=CC(=CC(=C3C(=C2C(=O)O1)O)O)OC', 'COC(=O)CCCC(=O)c1cccc(C(F)(F)F)c1', 'COc1cccc(OC)c1OC(=O)Oc1ccccc1', 'CC1Cc2cc3ccc4cccc5ccc(c2S1)c3c45', 'COC(=O)c1ccc(-c2cccc(C3OCCO3)c2)o1', 'CCSc1ccc(C(=O)Cc2cccc(F)c2)cc1', 'COc1c(C(F)F)cc(F)cc1C1(C(=O)O)CCC1', 'Cc1ccccc1C(Cc1ccc(C(=O)O)o1)C(=O)O', 'CS1(c2ccc(F)cc2)C(CO)=Cc2ccccc21', 'COc1ccc(C(O)c2ccc(O)c(C(=O)O)c2)cc1', 'Cc1nc(Cl)nc(NC(C)C(C)CO)c1[N+](=O)[O-]', 'CCc1c2cc(C)sc2c(CC)c2sc(C)cc12', 'C1=Cc2cc3ccccc3c(-c3ccccc3)c2SC1', 'C=C(C)C1COc2c(cc3ccc(=O)oc3c2OC)O1', 'COC(C)C(C)(C)S(=O)(=O)/C=C/CC(F)(F)F', 'CSc1ccc(C=C2c3cc4ccccc4cc32)cc1', 'COC(=O)C(C)Nc1nc(Cl)nc(OC(C)C)n1', 'c1ccc(-c2noc(-c3ccnc4ccccc34)n2)nc1', 'COc1ccccc1SCc1ccc(B(O)O)cc1', 'O=C1CC(O)(O)C=C/C1=C(/O)C=Cc1ccccc1O', 'O=C1CCCc2c(OCOCC(F)(F)F)cccc21', 'Cc1cccc(SCC(=O)Cc2cccc(F)c2)c1', 'COc1ccc(C(=O)c2ccc(OC)c(O)c2O)cc1', 'Cc1ccc(SCC(=O)c2ccc(F)cc2)c(C)c1', 'CC1(C(=O)c2cccc(OC(F)(F)F)c2)CCCO1', 'CC1(C(=O)c2ccccc2OC(F)(F)F)CCCO1', 'COc1cc(OC)cc(-c2ccc(C(=O)O)cc2O)c1', 'CCC(=O)c1ccc(OCc2ccc(C(=O)O)o2)cc1', 'CC(=O)Oc1cc2cc(C)oc(/C=C\\\\C(=O)O)c-2c1C', 'CC(C)Oc1ccc(C(=O)CC(=O)C(F)(F)F)cc1', 'CC1(C)CCc2c(O)c3c(c(O)c2O1)C(=O)C=CC3=O', 'COc1ccc(OC(=O)c2ccccc2CO)cc1O', 'CC(C)(CC(=O)O)CC(=O)c1c(F)cc(F)cc1F', 'O=C(CCCC(=O)c1ccccc1)OCC(F)(F)F', 'O=C1CC(c2ccccc2)OC2C=C(O)C(O)=C(O)C12', 'O=C(O)C(O)COc1ccc(Oc2ccccc2)cc1', 'Cc1ccc2ccccc2c1-c1cc2ccccc2s1', 'Cc1ccc(C(=O)CSc2cccc(F)c2)c(C)c1', 'O=C(O)c1cc(OCCOc2ccccc2)ccc1O', 'CC(=O)c1c(C)cc2oc(=O)c(C(C)=O)c(C)c2c1O', 'CC(=O)c1ccc(SCc2cc(F)ccc2C)cc1', 'COC(=O)[C@H]1CC[C@H](c2ccccc2C(F)(F)F)O1', 'N#Cc1cc(F)ccc1NCCn1cnc(C(=O)O)c1', 'CCOC(=O)c1ccc(C(F)(F)F)cc1CC(C)=O', 'CCN1N=CN=C(N)/C1=C/C1(O)C(O)[C@]1(O)CCl', 'O=C(O)C(COc1ccccc1O)c1cccc(O)c1', 'O=C(c1ccc2cccnc2c1)c1cnn2ccncc12', 'COc1cc(-c2cc3nccn3c(F)n2)ccc1ON', 'NNC(=O)c1cc(Cn2ccn3nccc3c2=O)on1', 'O=[N+]([O-])c1cccc(-c2c[n+](=O)c3c(n2O)CCC3)c1', 'Cc1sc(-c2cccc3ccccc23)c2ccccc12', 'CCc1cccc(F)c1-n1nc2c(=O)[nH][nH]c2cc1=O', 'O=C1CCc2cc(F)c(NC(=O)c3cn[nH]c3)cc2N1', 'CC(=O)OCc1cc(=O)c(OCc2ccccc2)co1', 'O=C(O)c1cnn2c(N3CCCCC3=O)c([O-])ccc12', 'C[N+]1(OP(=O)(O)Oc2ccccc2)CCOCC1', 'N#CN/C(=N\\\\CCC(=O)O)Nc1ccc2nonc2c1', 'CCOC(=O)c1cocc(OCc2ccccc2)c1=O', 'COc1cc2c(cc1OC)C([B-](F)(F)F)CNC2=O', 'Cc1ccc(-c2noc(CN3CC(=O)NC3=O)n2)nn1', 'CC(=O)c1cc(F)ccc1SCc1cccc(C)c1', 'CC(C)CCc1ccc(S(F)(F)(F)(F)F)cc1', 'C(#CC(c1ccccc1)c1cccs1)c1ccccc1', 'COc1ccc(OC)c(C(=O)c2ccc(O)cc2O)c1', 'NNC(=O)c1ccc(Cn2nnc(-c3ccco3)n2)o1', 'CC1C(=O)CC(/C=C/c2ccc3c(c2)OCO3)OC1=O', 'CC(=O)c1c(F)cccc1Sc1ccc(C)c(C)c1', 'O=C(O)Cc1ccc(OCC(F)(F)F)c(C2CC2)c1', 'CC(C)Oc1cc(C(=O)O)cc2ccc(C(=O)O)cc12', 'Nc1nc(N2CCOCC2)nc(N)c1S(N)(=O)=O', 'COC(=O)c1cc(O)c(Oc2ccccc2)c(OC)c1', 'COc1ccc(OC)c(-c2ccc(C(=O)O)cc2O)c1', 'N/C(=N/O)c1ccccc1NC(=O)c1ccc(F)cn1', 'O=C(O)c1ccc(OCCOc2ccccc2)cc1O', 'OCC#Cc1ccccc1OCCOCC(F)(F)F', 'NCC#Cc1ccc(NC(=O)c2c[nH]c(=O)[nH]2)cc1F', 'Cn1c(=O)n(Cc2ccccc2F)c(=O)c2[nH]cnc21', 'CC(=O)c1cc(F)ccc1Sc1ccc(C)cc1C', 'COc1ccc(OCc2ccccc2C(=O)O)cc1O', 'O=C(C1=CCCCCC1)c1cc2ccc(F)cc2s1', 'N#Cc1ccc(C(c2ccco2)n2ccnc2)c(C#N)c1', 'O=C(OCOc1ccccc1)OCOc1ccccc1', 'CCOC(=O)C(N=[N+]=[N-])(N=[N+]=[N-])C(=O)c1ccccc1', 'COc1nc(CC2(Cl)CNCCO2)nc(OC)n1', 'O=C1CCC(n2cc(-c3ccc(F)cc3)nn2)C(=O)N1', 'O=C(O[C@H]1CC[C@H](OC(F)(F)F)C1)c1ccccc1', 'CNCCNC(=O)c1cccc([N+](=O)[O-])c1N.Cl', 'Nc1nc(Cl)cc(NC2CC(CO)C(O)C2O)n1', 'O=[N+]([O-])c1ccccc1CON[N+](=O)c1ccccc1', 'Cn1cc(CNc2ccc([N+](=O)[O-])c(F)c2)cc1C#N', 'O=P(CCO)(OCC(O)CO)OCC(O)CO', 'C=C(C(=O)OCC)C(O)c1cccc(C(F)(F)F)c1', 'C=CCOC(=O)Oc1occc1-c1ccc(OC)cc1', 'C=CCC(O)C(=O)OCc1ccc(C(F)(F)F)cc1', 'Cn1cc(N)c(=O)n(Cc2cc(F)ccc2C#N)c1=O', 'C[C@H](C(=O)O)c1ccc2cc(OCC(=O)O)ccc2c1', 'CSCC[C@@H](NC(=O)Nc1nnn(C)n1)C(=O)O', 'Cc1ccc(C#Cc2ccc(S)c3ccccc23)cc1', 'CCOc1ccc(C=CC(=O)OCC(F)(F)F)cc1', 'CC=C(OC(C)=O)c1cc2cc(O)c(C(C)=O)cc2o1', 'CCOC=CC(O)(C(F)C(=O)OCC)C(F)(F)F', 'O=c1ncc2ccccc2n1-c1ncnc2ccccc12', 'C#CCCCC(=O)N1C[C@H](O[P+](=O)O)C[C@H]1CO', 'CC1(C)COC(=O)[C@@H]1OC(=O)c1coc2ccccc12', 'C=C/C=C(O)\\\\C=C(\\\\O)CC(=O)c1ccccc1C(=O)O', 'C=CCOC(=O)COc1ccc2c(C)cc(=O)oc2c1', 'COc1cc(C2[C@@H]3C=CC[C@H]2C(=O)O3)cc2c1OCO2', 'NNc1ccc([N+](=O)[O-])cc1C(=O)Nc1cnccn1', 'COc1cc2oc(=O)ccc2c(/C=C/C(C)=O)c1OC', 'O=S(c1ccccc1)c1cc(F)c2c(c1)CCCC2', 'O=C(Cn1ccnn1)Nc1ccc(C#CCO)c(F)c1', 'CCCCCCOC(=O)C(F)(F)C(F)(F)C(=O)O', 'C=C(O)c1cc(-c2ccccc2F)ccc1CCS', 'CNC(=O)CCNS(=O)(=O)c1cnc(NN)nc1', 'O=C(O)COc1ccccc1.O=C(O)c1ccccc1', 'O=[N+]([O-])c1cnc(N2CCC2c2cccc(F)c2)nc1', 'O=C(c1ccccc1)n1cc2c(nnc3ccccc32)n1', 'COc1cccc(CC(=O)c2c(O)cc(O)cc2O)c1', 'CNc1ncc(S(=O)(=O)NCCNC(N)=O)cn1', 'COc1cccc(OC)c1/C=C/C=C(/N=[N+]=[N-])C(=O)[O-]', 'Cc1nn(C)c(CNC(=O)NC(C)C(=O)O)c1Cl', 'O=C1CCc2cc(F)c(NC(=O)n3ccnc3)cc2N1', 'Cc1c(C(=O)N2CC(=O)NC(=O)C2)cnc2ncnn12', 'CCOC(=O)C(=O)c1ccc(OC2=CC=CCO2)cc1', 'CCOC(=O)C(CC)C(=O)c1ccc(F)c(F)c1F', 'COc1nc(CCl)nc(NC(=O)OC(C)(C)C)n1', 'CC=CC(=O)OCCOc1ccc2ccc(=O)oc2c1', 'Cc1ccc(C(=O)C(C)Sc2cccc(F)c2)cc1', 'COc1ccc(OCc2ccc(O)cc2C(=O)O)cc1', 'O=c1ccn(CCc2nc3ccc(F)cc3[nH]2)c(=O)[nH]1', 'CO[C@@H]1O[C@H](OC)c2cc3ccc(C(=O)O)cc3cc21', 'S=C(CCCCc1ccccc1)Cc1cccs1', 'O=C(O)/C=C/c1ccc(OCCCC(F)(F)F)cc1', 'COC(=O)c1ccccc1C1=C/C(=C/CO)COC1=O', 'O=C(COc1ccc(C(F)(F)F)cc1)C1CCOC1', 'CSc1ccccc1CCc1ccccc1SC', 'O=C(c1ccc(OCO)cc1)c1ccc(OCO)cc1', 'O=C(O)OC(c1ccccc1)(c1ccccc1)C(O)O', 'COC(=O)CCOc1ccc2ccccc2c1C(=O)O', 'COc1ccc(-c2nn(CC#N)c(N)c2C=O)cc1F', 'COc1cc(-c2cc(C=O)c(O)c(OC)c2)ccc1O', 'CC(C)(C)c1nc(Cl)c([N+](=O)[O-])c(NCCO)n1', 'O=C(N[C@@H]1CONC1=O)c1cnc(-n2cccn2)nc1', 'O=C([O-])CCC1C(=O)CCC1(C(=O)[O-])c1ccccc1', 'COC(=O)/C=C/C(=O)/C=C/COC(=O)c1ccccc1', 'CC(=O)c1ccc(OC2CCOC2)c(C(F)(F)F)c1', 'CC(OC(=O)c1cc(O)c(O)c(O)c1)c1ccccc1', 'O=C(Oc1ccccc1)c1ccccc1OC(O)CO', 'CCOC(=O)c1ccc(CCC=O)c(C(F)(F)F)c1', 'OC1(c2ccc(C(F)(F)F)c3c2OCCCO3)CC1', 'Cc1ccc(OCOCC(F)(F)F)c(C#CCO)c1', 'CCOC(=O)c1ncn(-c2ccc(F)cc2C#N)c1N', 'N/C(=N/Nc1ccccc1[N+](=O)[O-])c1ccccc1F', 'OC(C1=COCCC1)c1ccccc1OC(F)(F)F', 'OC[C@H]1O[C@@H](Oc2ccccc2F)[C@H](O)[C@@H](O)[C@@H]1O', 'c1cc(-c2ccc(-c3ccncc3)c3nonc23)ccn1', 'O=[N+]([O-])c1cc(-c2ccnc(NC3CC3)n2)ccc1F', 'CCCC(Sc1cc(F)ccc1F)C(=O)OCC', 'CC(N)Nc1cc(NC(C)O)c(Cl)cc1[N+](=O)[O-]', 'CC(Sc1ccc(F)c(F)c1)C(=O)OC(C)(C)C', 'O=C(OC1CCC(OC(F)(F)F)C1)c1ccccc1', 'CCn1ncnc1CN1C(=O)C(=O)c2ccc(F)cc21', 'Cc1ccccc1CSSCc1ccccc1C', 'CC(C)(Oc1cccc(C(=O)c2ccco2)c1)C(=O)O', 'CC(=O)c1ccc(SCc2ccccc2C)c(F)c1', 'Cc1cc(=O)oc2cc(CC(=O)CCC(=O)O)ccc12', 'O=C(c1ccc(O)c(CO)c1)c1ccc(O)c(CO)c1', 'COc1cc(O)c(C(=O)Cc2ccc(O)cc2)cc1O', 'O=S1(=O)CCCCC1C(O)CCCC(F)(F)F', 'CNc1nc(C(F)(F)F)nn1-c1ccc(C)cc1F', 'NNc1c(C(=O)Nc2cnccn2)cccc1[N+](=O)[O-]', 'C[n+]1ccc(Cc2ccc([N+](=O)[O-])cc2[N+](=O)[O-])cc1', 'CCCC(F)SOc1cc(CC)cc(C=O)c1F', 'COc1cc(N)cc(-c2nnc3[nH]c(=O)cnn23)c1O', 'C[N+](C)=C/C=C/C=C1C=CCC=C1.[O-][Cl+3]([O-])([O-])O', 'CCOC(=O)/C=C(\\\\c1ccccc1OC)C(F)(F)F', 'CC1(C)OC(=O)C(C(=O)/C=C/c2ccccc2)C(=O)O1', 'COCC(Nc1ncnc(Cl)c1[N+](=O)[O-])C(C)C', 'O=C(O)C(COc1cccc(O)c1)c1cccc(O)c1', 'N#Cc1ccccc1NC(=O)c1cc2ccccc2nn1', 'C=C(C)C(=O)Oc1cc2oc(=O)ccc2cc1OCC', 'OC(C1=CCCCO1)c1ccccc1OC(F)(F)F', 'COCCC(=O)CC(=O)c1ccccc1C(F)(F)F', 'COc1cc(OC)c2cc3c(c(O)c2c1)C(=O)OCC3', 'OCc1cc(F)cc(Sc2ccc3c(c2)CCC3)c1', 'CCOC(=O)c1cnn(-c2cc3n[nH]c(=O)n3cn2)c1', 'Cc1noc(NC(=O)c2cc(F)ccc2C#CCN)n1', 'Cn1ccnc1CNc1ccc([N+](=O)[O-])c2nonc12', 'COc1cc2cc(C)c(C(=O)OC=O)cc2cc1OC', 'Cc1nn(C)c(Nc2c(F)c(F)cc(F)c2F)c1N', 'CCOC(=O)c1ccc(OCC(=O)c2ccco2)cc1', 'Fc1ccccc1COCC1Cc2ccccc2S1', 'O=C(O)c1cc(CCc2cc(O)ccc2O)ccc1O', 'C/N=C/Nc1ncc(C=Cc2ccc([N+](=O)[O-])o2)nn1', 'c1ccc(-c2noc(-c3ccc4ccccc4n3)n2)nc1', 'O=C(O)CCc1ccc(C(=O)CC(=O)[C]2[CH]C=CC2)o1', 'O=C(O)c1cn(CCn2nc3ccccn3c2=O)nn1', 'Cc1cc(-c2nnc(NC(=O)c3ccno3)o2)n(C)n1', 'COc1cccc(C(F)(F)F)c1C1(CC(=O)O)CC1', 'Cc1cc(O)ccc1C(=O)O.O=C(O)c1ccccc1', 'C1=CC2=C(c3ccccc3)c3ccccc3SC2C=C1', 'C[C@@H]1CC(=O)c2c(coc2-c2c(O)cccc2O)[C@@H]1O', 'N#Cc1ccc(-c2nc(-c3ccncc3)cc(=O)[nH]2)cc1', 'O=C(c1ccccc1OC(F)(F)F)C1CCCOC1', 'OC[C@H]1O[C@H](Oc2ccc(F)cc2)[C@@H](O)[C@@H](O)[C@@H]1O', 'O=C(O)C(Cc1ccc(Cc2ccccc2)o1)C(=O)O', 'CNC(=O)NC(=O)C(C)Sc1nnnn1CCO', 'C=CCOc1cccc2oc(C(=O)OCC)cc(=O)c12', 'N#CC(C#N)=NNc1cc([N+](=O)[O-])ccc1NCCO', 'C=C(C)C(=O)O.O=P(O)(O)O.OCCCCO', 'COC(=O)C(C)c1cccc(C2CO2)c1C(F)(F)F', 'O=C1C[C@H](C2=CC=C(O)CC2)Oc2cc(O)cc(O)c21', 'Cl.NCC(=O)NCCNc1ccc([N+](=O)[O-])cc1', 'COc1ccc(-c2cc(O)cc(C(=O)O)c2)c(OC)c1', 'COc1nc(Cl)nc(NCC2(O)CCOCC2)n1', 'CC(Oc1ccccc1)Oc1cccc(C(=O)O)c1O', 'C=Cc1ccc(CCCCc2ccc(C=C)s2)s1', 'CCCOC(=O)CCC(=O)c1cc(F)c(F)c(F)c1', 'CSc1ccc(C(=O)c2c(C)cc(C)cc2F)cc1', 'NC(=O)c1nncn1[C@H]1COc2cccnc2NC1=O', 'O=C(O)c1ccc(OC2CCCC2)cc1C(F)(F)F', 'COc1ccc(CSc2ccc(B(O)O)cc2)cc1', 'COC(=O)C1CCC(c2ccccc2C(F)(F)F)O1', 'Fc1ccc2c(c1)C(CCOc1ccccc1)CS2', 'Cn1cnc(CNc2nc3cc([N+](=O)[O-])ccc3o2)n1', 'CCOP(=O)(CCNC(=O)CN)OCC.Cl', 'COc1ccc(Cc2c(O)ccc(C(=O)O)c2O)cc1', 'O=C1OC=C2c3cc(O)ccc3OC3CCC(O)C1C23', 'CC1=Cc2c(c(C=O)c(O)c(O)c2C(C)C)C(=O)C1=O', 'CNC(=O)C(C)Nc1cnn(CCO)c(=O)c1Cl', 'O=C(CCc1cc(O)ccc1O)c1cc(O)ccc1O', 'CC1=C[C@@]23OC(=O)C(C)=C2[C@H]2C=C(CC[C@@H]1O3)C(=O)O2', 'CC(C)(C(=O)O)C(F)(F)C(C)(C)C(F)(F)C(=O)O', 'O=C1CCCc2c(OCCOC(F)(F)F)cccc21', 'Cc1cc[n+](-c2ccc([N+](=O)[O-])cc2[N+](=O)[O-])cc1C', 'C=CCC(OC(=O)C(F)(F)F)c1ccc(OC)cc1', 'FC(F)(F)c1ccc(-c2ccc[n+]3ccccc23)cc1', 'C/C=C/C(=O)OCc1cc(=O)oc2c(C)c(O)ccc12', 'C[C@H]1C(=O)OC(O)(C(F)(F)F)C[C@@H]1c1ccccc1', 'COc1ccc2c(c1)[nH]c(=O)n2-c1n[nH]nc1C(N)=O', 'COc1cc(O)c2c(C)cc(OC)c3c2c1COC3=O', 'N#Cc1ccc(-n2nc(C=O)cc2-c2cccnc2)cc1', 'COc1cc(-c2noc(-c3cnc(C)[nH]3)n2)ccc1F', 'CCCc1c(CCC)c2sccc2c2ccsc12', 'O=C(Cc1cccs1)CC(B(O)O)c1ccccc1', 'O=C(OCCc1ccc(O)cc1)c1cccc(O)c1O', 'CN(C[C@@H](O)CO)c1c[nH]c2c(=O)[nH]cnc12.Cl', 'COc1ccc(C(F)(F)F)c(C=CCCC(=O)O)c1', 'CCOC(=O)/C=C/COc1cccc(C(F)(F)F)c1', 'Cc1cccc(OCCC(=O)c2ccc(C(=O)O)o2)c1', 'O=C(CCc1ccccc1)CSc1ccc(F)cc1', 'COc1ccc(C(=O)COCC(=O)O)c2ccccc12', 'CC(C)(CC(=O)O)CC(=O)c1cc(F)c(F)cc1F', 'CCCCOc1nc(Cl)nc(N[C@@H](C)C(=O)O)n1', 'Nc1ncccc1-c1cncn1CC(F)(F)C(F)F', 'CC1CNCCN1C(=O)c1ccc([N+](=O)[O-])[nH]1.Cl', 'CC1=NC=C(C(=C1O)CN)CO', 'CCCc1c(CO)nc[nH]c1=O', 'CC(=O)c1n[nH]c(C)c1CCO', 'COC(C)(C)c1ncc(C=O)[nH]1', 'Cc1coc(NC(=O)C(C)C)n1', 'N[C@H](CCO)c1ccc(=O)[nH]c1', 'CCCCOc1ncc[nH]c1=O', 'CCO[C@H]1COc2ccnn2C1', 'Cc1nc(C)c(C(=O)CCN)o1', 'NCC(O)c1ccc2n1CCO2', 'CC(C(=O)O)[C@@]1(N)C=CC=NC1', 'C1=CN2CCOC3OCCN1C32', 'COC(=O)c1ncc(C(C)C)[nH]1', 'CC(C)Cn1cc(C(=O)O)cn1', 'Cc1cc(CC(C)C(=O)O)n[nH]1', 'NC[C@H](O)COc1cccnc1', 'N#CCC1CCCCC1[N+](=O)[O-]', 'C/C=C\\\\C(=C/N=C(C)C)[N+](=O)[O-]', 'O=c1cc([C@H]2CCCNC2)o[nH]1', 'CCOc1ccnc(OCC)n1', 'COc1ccncc1C(N)CO', 'COC(C)c1nnc(C2CC2)o1', 'CN(C)/C=C1/C(=O)CCNC1=O', 'COC(C)=O.Nc1ccccn1', 'CCCCn1ccc(C(=O)O)n1', 'OC(c1cn[nH]c1)C1CCOC1', 'Cc1nc(CC2CCOC2)no1', 'COC(=O)[C@@]1(C)CC2(CC2)N=N1', 'N[C@@H](CCO)c1cccc(=O)[nH]1', 'COCOc1ccc(CN)nc1', 'O=C=NCCC(=O)N1CCCC1', 'CN1C(=O)CN(C)C2(CC2)C1=O', 'Cc1nc(C(=O)O)cn1C(C)C', 'COCCCc1nccc(=O)[nH]1', 'CC(C)C=C1NC(=O)CNC1=O', 'OCC1(Cn2ccnc2)COC1', 'CC1C(=O)NC(=O)N2CCCC12', 'COC(=O)NC1(C#N)CCCC1', 'CC1C=C(C(C)C)C([N+](=O)[O-])=N1', 'CO[NH+]([O-])c1c(C)cccc1N', 'O=CC1=NOC2(CCNCC2)C1', 'Cc1cncn1C(C)(C)C(=O)O', 'CC(C)C1=C(C(=O)O)C=NNC1', 'CCOC(=O)c1c(N)c[nH]c1C', 'CC(=O)O.NNc1ccccc1', 'CNCCNC(=O)c1ccoc1', 'C#CC(=O)N(C)[C@@H]1CNC[C@H]1O', 'COc1ncccc1CN(C)O', 'CC1([C@@]2(C)NC(=O)NC2=O)CC1', 'COC(=O)CNC1CC(C#N)C1', 'NNCC(O)c1cccc(O)c1', 'C/[N+]([O-])=C1\\\\C=CC([NH+](C)[O-])=CC1', 'CC(=O)OCCCc1cnc[nH]1', 'COC(=O)C1=C(C)/C(=N\\\\N)CC1', 'NC(CCC(=O)O)c1ccc[nH]1', 'COC(=O)C1(C#N)CCNCC1', 'COCCOc1ccc(N)nc1', 'CNC(O)COc1ccccn1', 'C=C(CN(C)CCC#N)C(=O)O', 'CC(=O)NC(CO)c1cc[nH]c1', 'CCOCCn1ccnc1C=O', 'Nc1nc(C2CCCCO2)co1', 'CC(C)n1cc[n+](CC(=O)[O-])c1', 'Cc1ccn(CC2OCCO2)n1', 'CN1C2CCC1C(=NO)C(=O)C2', 'Cc1cnoc1C1COCCN1', 'CCCCc1nc(C(N)=O)co1', 'COc1cc(CN)nc(OC)c1', 'NCC(N)(O)Oc1ccccc1', 'COC(=O)C1(C(C)(N)C#N)CC1', 'Oc1cnn([C@@H]2CCCCO2)c1', 'COc1ncccc1[C@@H](O)CN', 'COc1ccc(N)c(NCO)c1', 'Cn1ccnc1C1(O)CCOC1', 'CCCCc1cn[nH]c1C(=O)O', 'CC(C)c1c[nH]c(=O)n(C)c1=O', 'N/C=C(\\\\C=C(/N)C1CC1)C(=O)O', 'CN[C@H](CO)c1ccc[nH]c1=O', 'CCOC(=O)/C(C#N)=C(\\\\C)NC', 'COC(=O)Cc1n[nH]c(C)c1C', 'COC(C)C(=O)Nn1cccc1', 'Cc1noc(C2(C)CCOC2)n1', 'CC(=O)NCc1oc(C)nc1C', 'O=C1C2CN3CC1CN(C2)C3O', 'CCCOC(=O)c1nccn1C', 'CCCCc1ccn(C(=O)O)n1', 'C[C@](N)(CO)c1cncc(O)c1', 'O=C1CC2(CCNCC2)C(=O)N1', '[H]/N=C/CC(=O)C1CCNC(=O)C1', 'NCCNc1ccc(O)c(O)c1', 'CC(=O)O.Nc1cccc(N)c1', 'CC(CCCCOC#N)N=C=O', 'CC.Cc1ccnc([N+](=O)[O-])c1', 'Nc1cc(C2CCOCC2)on1', 'C=CC(C)NC1CC(=O)NC1=O', 'CC(CC(=O)O)c1cncn1C', 'CC(C#N)COOCC(C)C#N', 'O=c1[nH]ccn1CC1CCOC1', 'Cc1c(C(=O)O)ccn1CCN', 'N[C@H](CCO)c1cc[nH]c(=O)c1', 'N[C@@H](CCO)c1cncc(O)c1', 'C[C@@H](CO)NC(=O)c1ccc[nH]1', 'CN1CCC(C#N)(C(=O)O)CC1', 'OCN(CO)Nc1ccccc1', 'C=CC(=O)C(N)(CN)C(=O)C=C', 'Cc1cc(C(=O)O)nn1C(C)C', 'CC(=O)N1C=CCN(C(C)=O)C1', 'N[C@@H]1CCCCc2o[nH]c(=O)c21', 'COc1cc(CN)cc(OC)n1', 'CCC(C)Oc1cn[nH]c(=O)c1', 'NC(=O)N1CCC2=C(COC2)C1', 'CCCc1nc[nH]c(=O)c1OC', 'CCN(C)C(=O)C1(C#N)COC1', 'COc1cccnc1CN(C)O', 'CCCNC1=CC(=O)N(C)C1=O', 'C[C@@H](O)[C@@H](N)c1cccc(=O)[nH]1', 'CCC(=O)c1c(C)[nH]n(C)c1=O', 'CCCCc1ncc(O)c(=O)[nH]1', 'CNC(=O)/C=C/C=C/C(=O)NC', 'O=c1[nH]cc(C2CCOCC2)[nH]1', 'COc1ccc([C@H](N)CO)cn1', 'CC(C#N)=C(C)C(=O)OCCN', 'CNCc1cccn1CC(=O)O', 'C=C/C=C(/NC(=O)CO)C(=C)N', 'C=CC(C(N)=O)[C@H](/C=C\\\\C)N=O', 'CC1N=C(C2CCCO2)NC1=O', 'CC(C)Oc1c[nH]cc(N)c1=O', 'N#CN1CCC2(CC1)OCCO2', 'CCOC(=O)N1C=CN=C(C)C1', 'CCC1=C(CC)C1(C#N)[NH+]([O-])O', 'C1COC(CCC2=NCCO2)=N1', 'CCCOC(=O)Cn1ccnc1', 'CNCc1onc2c1COCC2', 'O=C1NCCCN2C(=O)CCC12', 'CC.Cc1cncc(C(=O)O)n1', 'O=C1CN=C(C2CCOCC2)N1', 'CC(N)(O)Oc1cccc(N)c1', 'N#CC(C(=O)O)N1CCCCC1', 'CC(=O)NCCc1cc(C)no1', 'CCCCc1c(O)nc[nH]c1=O', 'NCC(O)c1ccc(O)c(N)c1', 'CC1(C)CC1c1noc(CO)n1', 'O=C(NC(=O)C1CC1)NC1CC1', 'CC(=O)N1C(=O)N[C@H]2CCC[C@H]21', 'CC#CC(N)C=CC(N)C(=O)O', 'NC1=CCC2N[C@H](O)COC2=C1', 'C[C@H]1CCC[C@@]12NC(=O)NC2=O', 'N.Nc1ccc2c(c1)OCCO2', 'CNC[NH+]([O-])c1ccc(O)cc1', 'CCOCC(=O)c1cnn(C)c1', 'Cc1c(NCCCN)c(=O)c1=O', 'CC#CC1CC(OC(N)=O)CN1', 'COC(=O)NCc1cccn1C', 'COC(=O)c1ccn(C(C)C)n1', 'C=CCNC(=O)C1CCC(=O)N1', 'CNC(=O)OCC1(C#N)CCC1', 'CN(/C=C\\\\C(=O)NC=O)C1CC1', 'CC(C(N)=O)C1C=CC=CN1O', 'N#CCN1CCC[C@H](C(=O)O)C1', 'Cc1cc[nH]c1C(N)CC(=O)O', 'C[C@@](N)(CO)c1ncccc1O', 'COC(C)c1[nH]nc(C=O)c1C', 'O=C(O)C1NCCC2CC=CN21', 'Cc1cnc(C(C)(C)O)[n+]([O-])c1', 'CCOC(=O)/C(C#N)=C(\\\\N)CC', 'CC(C)C1(CC(=O)O)C=CN=N1', 'COC(=O)[C@@H](C)Cn1cccn1', 'Cc1noc(C)c1C(=O)CCN', 'COc1nn(C)c(=O)c(C)c1C', 'CCC(C#N)N1CC(C(=O)O)C1', '[N-]=[N+]=CC(=O)CC1CCCCO1', '[H]/N=C(\\\\N)C1(O)C=C(C)C=C(O)C1', 'C#CCONC1CCN(C)C1=O', 'COc1ccc(C(N)CO)cn1', 'CC1=CC(C(=O)NN)C=C(C)O1', 'CC[C@H](C(=O)O)n1nccc1C', 'COc1cccc(OC)c1NN', 'C[C@@H](O)[C@H](N)c1ncccc1O', 'CC1CCNCc2c1o[nH]c2=O', 'CN(C)N=C1CCCC(=O)C1=O', 'CCCN1CC(C#N)OCC1=O', 'N#CC(=O)CN1CCCC(O)C1', 'CCOC=O.Cc1cnccn1', 'C#CN(NCC=C)[C@@H](C)C(=O)O', 'CC[C@@H](C#N)NC(=O)C1COC1', 'C/C(=C\\\\CC(C)N=C=O)C(N)=O', 'C=CC(=O)NCC(=C)C(=O)NC', 'COc1nccnc1CCCO', 'CN1CC(=O)NC2(CCC2)C1=O', 'COc1cccnc1[C@@H](O)CN', 'COC(=O)[C@@H]1CCCN1C1=CN1', 'CCCCn1ccnc1OC=O', 'COC(OC)c1ncncc1C', 'Cc1cnn(C(=O)OC(C)C)c1', 'COC(C)OCc1cnccn1', 'CNC1=CC(NC)C(=O)CC1=O', 'CC=C(C=CCC(N)=O)C(N)=O', 'CCCCOC(=O)c1ncc[nH]1', 'CCC(O)C(=O)c1ccn(C)n1', '[H]/N=C1\\\\CC(C)(C)CC(=O)\\\\C1=N\\\\O', 'C[C@H](N)C(=O)NCc1ccoc1', 'COC(=O)c1c[nH]cc1C(C)N', 'CCC(N)CN1C(=O)C=CC1=O', 'Cc1c[nH]c2c1OCC(N)C2O', 'COc1cccc(CNCO)n1', 'COc1cc(C)c(N)c(OC)n1', 'CC(C)n1nc(C=O)cc1CO', 'CON(N)OC.c1cc2ccc1=2', 'CC1(C)OC(C#N)=C[C@@H](N)[C@@H]1O', 'O=C1C(=O)N2CCCN1CCC2', 'O=C(O)[C@@H]1CCCC2=C1NCN2', 'COC(=O)c1c[nH]cc1[C@@H](C)N', 'O=C1N/C(=C/N2CCCC2)CO1', 'CC1=NC(=O)C(CCO)C(C)=N1', 'COC(C)c1nc(C)cc(=O)[nH]1', 'CCCOc1ccn(C(C)=O)n1', 'C[C@H](O)CNC(=O)C1(C#N)CC1', 'CCCC(=O)Nc1cc(C)on1', 'CC(O)C(N)c1cccc(=O)[nH]1', 'N#CCCCNC1CCOC1=O', 'O=c1cc([C@@H]2CCCNC2)o[nH]1', 'Nc1ncccc1[C@H](O)CCO', 'Cc1cccc(O)c1.NC(N)=O', 'CN1CC(=O)[C@@H]2CCCN2C1=O', '[H]/N=C(\\\\N)C1C=CC=CC1(O)OC', 'CCc1cn(CC(=O)O)c(C)n1', 'CCOCCOc1ncccn1', 'CC(C)=CC1(N)CC(=O)NC1=O', 'NC(=O)C1CC(=O)NC1C1CC1', 'CC1=C([N+](=O)[O-])C(C(C)C)=NC1', 'CC(=O)O.Nc1ccccc1N', 'Cc1c(C(=O)O)cc(CN)n1C', 'c1coc(CN2CCOCC2)n1', 'CCC(C(=O)O)c1cncn1C', 'C=CC(C)N1C(=O)N[C@@H](C)C1=O', 'C/C=C\\\\C=C(\\\\C(N)=O)C(=O)NC', 'O=c1cc(CN2CCCC2)o[nH]1', 'CC(=O)C(C(C)=O)C1=NCCN1', 'Cc1ccc([C@@H](O)[C@@H](C)O)nn1', 'C[C@@H](NN)c1cc(O)ccc1O', 'COC(=O)c1cc(C(C)N)c[nH]1', 'C=CC[C@H](N)C(=O)OCCC#N', 'O=C1C=NN(CC2CCOC2)C1', 'Nc1cc(N)cc(OCCO)c1', 'CCOOc1ccc(N)cc1N', 'CC1(CO)COc2ccnn2C1', '[H]/N=C1\\\\CCN(C)C(=O)\\\\C1=C(\\\\C)O', 'C=c1[nH]c(=C(C)N(C)C)c(=O)o1', 'CCC(C)n1cnc(C(=O)O)c1', 'COCc1cccc(CON)n1', 'C=CC(=O)N1COC2(CNC2)C1', 'COC(C)C(O)c1cncnc1', 'C[C@]12CCCON1O[C@H](C#N)C2', 'CCCOc1cc(C)[nH]c(=O)n1', 'Cc1cc(OC2(C)CNC2)no1', 'N#CCCNC(=O)C1CCCO1', 'CCCCCCCCC=CCCCCCCCCCCCCCC(=O)NCCC1=NC=CN1', 'CC.CCNCCOCCN1CC2C[C@H]1CN2CCOCCN1CCN(CCOC)CC1.[H][H]', 'CCCCCCCCCCN(CCCCCCCCCC)C(=O)NCCCc1ccncc1', 'CC(=O)O.CCCCCCCCCCCCCC(=O)NCCNCCNCCNCCN', 'C/C=C\\\\C(=N\\\\CC)C(O)O.C1CCNCC1.CCC.CCNC.NC(O)C1=NCCC=C1.[H][H]', 'CCN(CCO)CCN(CCN(CC)CCN(CCN1CCCC1)CC(C)O)CC(C)O', 'CCCCCCCCCCCC[N+]1(CCCCCCCCCCCC)CCOCC1.[Cl-]', 'C=C(CCCCCCCCCCCCC)OCC(CC)Cn1cc(CCC(=C)C(C)C)nn1', 'CCCCCCCCCCCCCCCCCCCCCC(=O)CCC[N+](C)(C)C.[Cl-]', 'CCCCCCCCCCCCCCCCCCC(O)CC1([NH+](C)C)CCCCC1.[Cl-]', 'CC1CCC(C2NC(C3CCC(C)C(C)C3)NC(C3C(O)CCC4CCCCC43)N2)CC1C', 'CCCC(C)CCCOCCCN(C)Cc1ccc(N2CCN(C(CC)CCC)CC2)cc1', 'CCCN(CC)CC(CN(CC)CCC)(CN(CC)CCC)C[Si](C)(OCC)OCC', 'CCCCC(=C=C/[C]=C(\\\\C=C\\\\C1=CCCCC1)B(C1CCCCC1)C1CCCCC1)CCCC', 'CC1(C2CCCC2)OC2(C3CC(CC4CCC(N)[NH2+]C4)CC4(CCCC4)C3)CCC1C([NH3+])C2', 'CCCN(CCC)CCCN(CCCN(CCC)CCC)C[Si](CC)(OCC)OCC', 'CCN(CC)CCC(CCN(CC)CC)(CCN(CC)CC)CC[Si](CC)(OC)OC', 'CCCCCCCCCCCCCCCCC1=CC(OC2CCC2)=NC(N2CCCC2)N1C', 'CCCN(CCC)CCCN(CCC[SiH2]CC(OC)OC)CCCN(CCC)CCC', 'C[C@@]1(C2CCCC2)O[C@@]2([C@H]3C[C@H](CC4CCC(N)[NH2+]C4)CC4(CCCC4)C3)CC[C@H]1[C@H]([NH3+])C2', 'CC(O)C(=O)O.CCCCCCCCCCCCCCCCCC(=O)N[N+](C)(C)CCC', 'C[C@H](CCCN1CCN(C)CC1)[C@H]1CC[C@H]2[C@@H]3CC[C@@H]4C[C@@H](N)CC[C@]4(C)[C@H]3C[C@H](O)[C@]12C', 'C[CH-]CC/C=C(\\\\C)CC/C=C(\\\\C)CCCC(C)CCC1=CC(O)C(C)C(C)C1OCCCC', 'CC(C)C[C@@H]1CC[C@@]2(C1)C[C@@H](CC1CCC(N)NC1)C[C@@H]([C@]13CC[C@H]([C@H](N)C1)C(C)(C)O3)C2', 'CC.CC.CC.CC(C)C.CCOc1ccc(N2CCCN(c3ccc(N)cc3)CC2)cc1', 'CCCCCCCCCCCCC1(CCCCCCCCCCCC)OC1(C)C[NH3+].[Cl-]', 'CCCCCCCCCCCCCCCCCCNC(=O)N(c1ccccc1)N(CC)CC', 'C[CH-]CCCC(C)(O)CC/C=C(\\\\C)CCCC(C)CCC1=CC=C(C)C(C)C1OCCCC', 'CC1CCC(N(C)C)CC1.CN1CCCCC1.c1ccc(OCCCN2CCCCC2)cc1', 'CCCCCCCCCCCCCCCCCCC[N+](C)(CCO)C1CCCCC1.[Cl-]', 'CCCCCCCCCCCCCCCCCCC1(Cl)CCCCC1CCO.CNC', 'CCN(C)CCCC(CCCN(C)CC)(CCCN(C)CC)CC[Si](CC)(OC)OC', 'CC.CC.CCC.CCCc1cc(CC)c(-c2ccc(OCC)nc2CC)nc1N(C)CC', 'CC/C=C(\\\\C)CC/C=C(\\\\C)CCCn1cc(CC(C)(C)OCCC(C)(C)CC(C)(C)C)nn1', 'CCO[Si](C)(CC(CCCN(C)CC)(CCCN(C)CC)CCCN(C)CC)OCC', 'C=CC.CC.CC.O=C(NCCCCN1CCN(Cc2ccccc2)CC1)C1CCCCC1', 'CCCCCCCCCCCCC(CCCCCCCCCCCC)C(=O)[NH+](C)C.[Cl-]', 'C=C.C=C/C(C)=C\\\\C.CC.CC.CC.Cc1ccc2cnn(CCCN3CCOCC3)c2c1', 'CC1CN1C.CC1CO1.CN(C)C.CN1CC1.CN1CCOCC1.CN1C[C@@H]2C[C@H]1CO2', 'CC.CC1CNC(CN)C1.[H]/N=C(\\\\C)C1CCC2C3CCC4=CC(O)CCC4(C)C3CCC12C', 'C=C(C)C[C@@H]1[C@H](CN(C)C(=C)C(NC(=C)N[C@H](CCC(C)=O)C(C)(C)C)C(C)(C)C)C1(C)C', 'CCNC(=O)CCCCCCCCCCCCCCCCC[N+](CCO)(CCO)CCO', 'CCCCCN(C)CCCCN1CCN(CCCCCCCCCOc2ccccc2)CC1', 'CCCCCCCCCCCCCCCC(=O)N1CCC(CCn2ccnc2C(C)C)CC1', 'CCC[C@@H](N[C@H](C)[C@@H](C)CCN(CC(C)C)[C@@H](C)CC(C)C(=O)NCCOCC)[C@@H](C)F', 'CCCCCCCCCNP(=O)(CCCCCCCCC)OCCCCCCCCC', 'CCCCCCCCCCCCC(CCCCCCCCCCCC)[NH2+]CC1CO1.[Cl-]', 'CC1=C2CC3[C@@H](CCC4Cc5[nH]ncc5C[C@@]43C)C2CC[C@@]2(C1)O[C@@H]1C[C@H](C)CN[C@H]1[C@H]2C.[H][H].[H][H].[H][H].[H][H].[H][H]', 'CCCN(C)CCC(CCN(C)CCC)(CCN(C)CCC)C[Si](C)(OCC)OCC', 'CC1CCC(C2NC(C3CCC(C)CC3C)NC(C3C(O)CCC4CCCCC43)N2)C(C)C1', 'CCCN(CCC)CCCN(CCCN(CCC)CCC)C[SiH2]CC(OCC)OCC', 'COC(C)(C)C(C)(C)C(C)N(C(C)CC(C)(C)OPC)C(C)(C)CC(C)(C)C(C)(C)C', 'CCCN(CCC)CCCN(CCCN(CCC)CCC)CCC[Si](CC)(OC)OC', 'CC(O)C(=O)O.CCC[N+](C)(C)NC(=O)CCCCCCCCCCCCCCC(C)C', 'CCCN(C)CCC(CCN(C)CCC)(CCN(C)CCC)CC[Si](CC)(OC)OC', 'CC1CCC(C2NC(C3CCC(C)C(C)C3)NC(C3C(O)CCC4CCCCC43)N2)C(C)C1', 'CCCCCCCCCCCCCCCC(CC[N+](C)(C)CC)n1cnc2c(N)ncnc21', 'CCCN(CC)CCCN(CCCN(CC)CCC)CCC[Si](CC)(OCC)OCC', 'C=CCCCCCCCN(CCCCCCCC=O)CCCN/C(C(=C)C)=C(\\\\NC)C(=C)C', 'C=C/C=C(\\\\C=C)C(=O)N1CC2(C1)CN(c1ccc(CN)cc1)C2.CC.CC.CC.CC.CC', 'CCCCCCCCCCCCCCCCCCCCCC[N+]1(CC)CCOCC1.[Cl-]', 'CCCCCCCCCCCCCCCCCC(=O)NCC[N+](CCO)(CCO)CCO', 'CCO[Si](C)(CC(CCN(CC)CC)(CCN(CC)CC)CCN(CC)CC)OCC', 'C/C=C\\\\C.C=C/C=C\\\\C(=C/C)CN(C)CCC(CC)N(C(=O)N/C=C/C)C1CC1.CC(C)C', 'CCCN(CCC)CCCN(CCCN(CCC)CCC)CC[Si](C)(OCC)OCC', 'CCCCCCCCCCCCCCCCCCC1CCCCC1(CCO)[NH+](C)C.[Cl-]', 'CC(C)CC1CCC2(C1)CC(CC1CCC(N)NC1)CC(C13CCC(C(N)C1)C(C)(C)O3)C2', 'CNCNC(=O)CC(C)NC(C)(C)CC1CCC2C3CCC4CCCCC4(C)C3CCC12C', 'CC.CCCCC(C)=O.CNCC(C)N(N)/C=C(\\\\N)COC.OCC12CCCN1CCC2', 'CC(C)N1CCC(C2CCC3(COC(C4CCC5(CCCC5)N4C(C)C)C3)N2C(C)C)CC1', 'C=C(CNCC(CC1CCCCC1)NC(=C)OC(C)(C)C)NC(CC1CCCCC1)C1CC1', 'C/C(=C\\\\CC(C)C)CC/C=C(\\\\C)CCCn1cc(CC(C)(C)OCC(C)(C)CC(C)C)nn1', 'CC(C)N1CCCC2(CC(CC(C)N3CCC(C4CCC5(CCOC5)N4C(C)C)CC3)C2)C1', 'CCCCCN(CCCCC)C(=Nc1ccc(OCC)cc1)N(CCCCC)CCCCC', 'C[CH-]CCCC(C)(O)CCC/C(C)=C/CCC(C)CCC1=CC=C(C)C(C)C1OCCCC', 'CCCCCCCCCCCCC(CCCCCCCCCCCC)[NH+](C)C(C)=O.[Cl-]', 'C1CN(CCN1CCO)C2=C(C3=C(C=CC(=C3)Cl)NC2=O)C4=CC=CC=C4', 'Cc1ccc(C(=O)N2CCN(C(=O)C3C4CCC(C4)C3N)CC2)s1.Cl', 'COc1cc(-c2cc3ncccc3c(Cl)n2)ccc1OC1CCCN(C)C1', 'COCC(C)(CC(=O)O)NC(=O)c1ccc(S(=O)(=O)C2CCCC2)cc1', 'Cc1cc(NC(=O)CCNc2ccccc2[N+](=O)[O-])n(-c2ccc(F)cc2)n1', 'COc1ccc(OC(=O)[C@@H]2[C@H]3OC(=O)O[C@H]3CN2[C@@H](C)c2ccccc2)cc1', 'COc1ccc(C)cc1NC(=O)CSc1nnc(-c2ccccc2C)n1N', 'O=C(Nc1ccc(O)cc1)c1cnc(N2CC(CO)C2)c(-c2[nH]ncc2F)c1', 'C[C@H](Sc1nnc(C2CC2)n1C1CC1)C(=O)N1CC(=O)Nc2ccccc21', 'COc1cccc(/C=N\\\\Nc2nc(=O)[nH]nc2C)c1OCc1ccc(F)cc1', 'O=C(NCc1nncn1-c1ccc(F)cc1)c1cccnc1OC1CCOC1', 'O=C(NCCC1=CCCCC1)c1cncc(C(=O)Nc2ccccc2Cl)c1', 'Nc1nc(-c2cccc(OCc3ccccc3)c2)cn2nc(-c3ccco3)nc12', 'C[C@@H](NC(=O)CCC(=O)c1ccc2c(c1)OCCO2)c1ccc2c(c1)OCO2', 'Cc1nnc(-c2ccc3cnc(NC(=O)C4CCC(CO)CC4)nc3c2)s1', 'OC(COc1cccc(Cl)c1)CN1CC=C(c2c[nH]c3ncccc23)CC1', 'COC(=O)c1cccc(S(=O)(=O)C2CNCC(C(=O)OC(C)(C)C)C2)c1', 'C=CCCCN(C)/C(=N\\\\CC(C)(C)CO)NCC.I', 'CC1(C)[C@H]2CC[C@@H](CNC(=O)CCCOc3ccc(Cl)cc3Cl)[C@H]1C2', 'O=C(NC1(Cc2c[nH]c3ccccc23)C(=O)N=C2C=NC=CN21)c1ccccc1', 'O=C(NCC(c1ccccn1)N1CCOCC1)c1cc(-c2ccsc2)n[nH]1', 'CCCc1c(OC(=O)NCCc2cccc(Cl)c2)cnn1-c1ccccc1', 'CCS(=O)(=O)Nc1ccc(Nc2nc(-c3ccncc3)nc(C)c2C)cc1', 'O=C1N[C@H](Cc2ccccc2)C(=O)N2CCN(Cc3ccc(Cl)cc3)C[C@H]12', 'C=CC(=O)OCCCCOC(=O)c1ccc(OC(=O)c2ccc(N)cc2)cc1', 'CCOC(=O)c1c(-c2ccc(OC)cc2OC)oc2ccc(NC(C)=O)cc12', 'CC1(F)C=CC(c2ccc(S(=O)(=O)NC3CCC(O)CC3)cc2)=C(F)C1', 'COC(=O)c1ccc(Cl)c(NC(=S)NCCCN2CCCC(C)C2)c1', 'CCC(=O)NC1CCCc2c1cncc2N1C(=O)c2ccc(Cl)cc2[C@@H]1C', 'Cc1sc(-n2cnnn2)c(C(=O)N2CCC(Cc3ccc(O)cc3)C2)c1C', 'COc1ccc(Cl)cc1C(=O)Nc1ccc(Cc2c(C)nn(C)c2C)cc1', 'COc1ccc(Cl)c2c1C(=O)N(CCCN(C)Cc1ccccc1)C2C#N', 'COC(=O)c1cc(Cl)cc(N2CCN(C(=O)[O-])C(C(C)(C)C)C2)c1OC', 'CC(=O)N[C@H]1C(O)O[C@H](CO)[C@H](O)[C@@H]1O[C@@H]1O[C@H](CO)[C@@H](O)[C@H](O)[C@H]1O', 'CC(C)S(=O)(=O)c1ccc(CC(=O)NCC2(C(=O)O)CCOCC2)cc1', 'COc1ccc2ccccc2c1C(=O)Nc1cn[nH]c1-c1nc2ccccc2[nH]1', 'Cc1nn(-c2ccc(C(=O)N(C)CCOc3ccccc3)cc2)c(C)c1Cl', 'O=C(Nc1ccc(NC(=O)C2(c3ccc(Cl)cc3)CCC2)cc1)NC1CC1', 'N#Cc1cc(Oc2ccc(NNC(=O)N3C=Cc4ccccc4C3)cc2)ccn1', 'CSCCC(NC(=O)CNC(=O)c1ccccc1)c1nnc2ccccn12', 'CC1CC(CC(=O)c2ccc(-c3ccc([N+](=O)[O-])cc3)cc2)(C(=O)O)CCO1', 'COc1ccc2nc(Cl)c(/C=C(\\\\C#N)C(=O)N[C@H]3CCCC[C@H]3C)cc2c1', 'Cc1[nH]c2ccccc2c1C(=O)C(C)N(C)CC(=O)Nc1ccccc1Cl', 'O=C(COC(=O)COc1ccc2c(c1)CCC2)Nc1ccc2c(c1)OCCO2', 'Cc1cc(C)n(CCC(=O)Nc2cccc(C(=O)Nc3nccs3)c2C)n1', 'OC1(c2cccc(F)c2)CCN(C2=NN3C(=NNC3C(F)(F)F)C=C2)CC1', 'COc1ncc(CC(=O)Cc2cnc3cc(F)nn3c2[C@H](C)OC)cc1C#N', 'CC(C)(C)c1ccc(-c2noc(CCC(=O)Nc3ccc(Cl)cc3)n2)cc1', 'Cc1oc2cc(OCC(=O)NCCCO)ccc2c(=O)c1Oc1ccccc1', 'N[C@@H](Cc1cn(Cc2ccccc2)cn1)C(=O)Nc1nc2c(s1)COCC2', 'Cc1ccc(C)c(C(=O)N2CCC3(CC2)N=C(c2ccc(Cl)cc2)NO3)c1', 'CCOCCCN/C(=N\\\\C)NC1CCC(C)CC1.I', 'COc1ccc(C2=CC(=O)[C@@](C)([C@@H](CCO)c3ccc([N+](=O)[O-])cc3)O2)cc1', 'COc1cc(Cl)c(C)cc1-n1ccnc(NC[C@@H](C)c2ccccc2)c1=O', 'CCOC(=O)[C@@H](C(C)=O)[C@@H](CC(=O)c1ccccn1)c1ccc2c(c1)OCO2', 'COC(=O)[C@]1(C)[NH2+][C@@H](c2ccc(F)cc2)[C@H]2C(=O)N(c3ccccc3)C(=O)[C@H]21', 'O=C1CN(c2ccccc2)C(=O)N1CNC1(c2ccc(Cl)cc2)CCCC1', 'O=c1c2cc3c(=O)n(-c4ccn[nH]4)ccc3nc2ccn1CCc1ccccc1', 'O=C(N[C@H]1C[C@@H](C(=O)O)[C@@H](O)[C@@H]1O)OCC1c2ccccc2-c2ccccc21', 'O=C(NC1CC2CCC(C1)N2C(=O)Cc1ccc(Cl)cc1)c1ccncc1', 'COC(=O)c1c(C)[nH]c(C(=O)C(C)Oc2ccc3c(C)cc(=O)oc3c2)c1C', 'COc1cc(/C=C/C(=O)Nc2ccccc2C(=O)O)ccc1OCC1COC1', 'COc1ccc(NC(=O)NCc2cc(C)n(-c3cccc(Cl)c3)c2C)cc1', 'COc1ccc(-c2nnc3ccc(SCC(=O)NC4CCCC4)nn23)cc1', 'CC1CC(NC(=O)CN2C(=O)CC(c3cccs3)=Nc3ccccc32)NN1', 'Cc1cc(/C=C(\\\\C#N)c2nc3ccccc3[nH]2)c(C)n1-c1cccc([N+](=O)[O-])c1', 'CCC(Sc1nnnn1-c1ccccc1OC)C(=O)NCc1ccccc1', 'CCOc1ccc(/C(O)=C2/C(=O)C(=O)N(CCO)C2c2cccc(O)c2)cc1', 'c1ccc2c(c1)c1ccccc1n1c(-n3c4ccccc4c4ccccc43)cnc21', 'CCOC(=O)c1cc(NC(=O)CC(=O)c2ccccc2)cc(C(=O)OCC)c1', 'CC(NC1CC[C@H](c2ccc(S(C)=O)cc2)C1)c1csc2ccccc12', 'COc1ccc(-c2nnc(SC(C)C(=O)Nc3cccc(C)c3)n2N)cc1', 'COC1=C(C)C(=O)O[C@@]12C(=O)C=C[C@@]21CCC(=O)N1Cc1ccc(OC)cc1', 'CCOc1ccc(C(O)=C2C(=O)C(=O)N[C@@H]2c2ccc(OC)c(OC)c2)cc1', 'CCc1nc(N2CCC(Oc3ccnc(C(N)=O)c3)CC2)c2ccsc2n1', 'CC(Sc1nnnn1Cc1ccco1)C(=O)NC1CCCc2ccccc21', 'CN(C(=O)c1cccc(Oc2cnccn2)c1)c1ccc(-c2ccccc2)nn1', 'CN(Cc1ccc(Oc2ccccc2)cc1)C(=O)C1C(C(=O)O)CC1C(=O)O', 'CC1c2cccn2CCN1CC(=O)NCc1ccc(-c2ccc(Cl)cc2)o1', 'COc1nc2cc(C)ccc2cc1-c1nc2c(cnn2-c2ccccc2)c(=O)[nH]1', 'CN(Cc1ccccn1)C(=O)C1CC12CCN(C(=O)c1ccc(Cl)cc1)C2', 'COc1cc2nc(NC3CCC(O)CC3)ncc2cc1-c1ccccc1Cl', 'CCOc1ccc(OCCOC(=O)[C@H](C)N2C(=O)c3ccccc3C2=O)cc1', 'COc1cnccc1-c1ccc(NC(=O)CNC(=O)c2ccnn2C)c(F)c1', 'COc1ccc(S(=O)(=O)N2CCCCCC2)cc1C(=O)O[C@@H](C)C(C)=O', 'CC(C(=O)Nc1sccc1C(N)=O)N(C)Cc1cnn(-c2ccccc2)c1', 'Cc1csc(N2CCCN(C(=O)Cn3ncc4ccccc4c3=O)CC2)n1', 'Cc1ccc(S(=O)(=O)OCCC2CCN(C(=O)OC(C)(C)C)C2=O)cc1', 'Cn1nc(N2CCCCC2CNC(=O)c2ccc3ncsc3c2)ccc1=O', 'COc1cc([C@@H]2C(=C(O)c3ccccc3)C(=O)C(=O)N2C[C@@H](C)O)ccc1O', 'COc1ccc2sc(N3CCN(c4nc(C5CC5)cc(=O)[nH]4)CC3)nc2c1', 'CCCN/C(=N\\\\C)NCC1(CCOC)CCCC1.I', 'c1ccc(-n2c3ccccc3c3ccc4c5ccccc5n5ccnc5c4c32)cc1', 'COc1cccc(NC(=O)[C@H](C)OC(=O)/C=C/c2ccc3c(c2)OCCO3)c1', 'O=C(CN1CCC(c2nnc(C3CC3)o2)CC1)Nc1nc2ccccc2s1', 'Cc1nnc(-c2ccc3nnc(NC(=O)C4CCC(CO)CC4)cc3c2)s1', '[H]/N=C/c1cc(Nc2ncnc3sc4c(c23)CCC(OC)C4)c(OC)cc1N', 'CC(c1ccccc1)N(C(=O)OC(C)(C)C)c1nc(Cl)nc2ccccc12', 'C[C@@H](NC(=O)Cn1nnn(-c2cccs2)c1=O)c1ccc2c(c1)CCCC2', 'N#Cc1ccc(Cc2ccc3c(c2)[C@]2(OC3)O[C@H](CO)[C@@H](O)[C@H](O)[C@H]2O)cc1', 'CCOc1ccc(C(CC(=O)O)N2C(=O)c3ccccc3C2=O)cc1OCC', 'CCC(C)(C)NCc1ccc(OCc2ccccc2Cl)c(OC)c1.Cl', 'CC(C)c1nnc(SCC(=O)Nc2ccc(Oc3ccccc3)cc2)n1N', 'O=C1NCCOc2ccc(F)cc2[C@@H]2C[C@@H](O)CN2c2ccn3ncc1c3n2', 'O=C(CN1CCN(Cc2ccc(C(F)(F)F)cc2)CC1)NCC(F)(F)F', 'CN1C(=O)CC(C(=O)NCc2ccc3c(c2)CNC3)C1c1cccc(Cl)c1', 'CC1CC(C(=O)OCC(=O)c2ccc(-c3ccc([N+](=O)[O-])cc3)cc2)CCO1', 'CCOC(=O)c1cnc(-c2ccccc2)nc1Nc1nc(CN(C)C)cs1', 'CCOCCC1(C/N=C(\\\\N)N(CC)CC)CCC1.I', 'CC(COc1ccc(Cl)cc1)CC(O)(Cn1[nH]cnc1=S)C(C)(C)C', 'CC(C)(C)N(Cc1ccccc1)C(=O)Cn1cnc2ccc(Cl)cc2c1=O', 'COc1cccc(C2/C(=C(/O)c3ccc(OC)c(OC)c3)C(=O)C(=O)N2C)c1', 'Cn1nc(Nc2ccnc(Cc3cccc(S(C)(=O)=O)c3)n2)c2c1CCC2', 'COc1ccccc1C1CNCCN1C(=O)c1cnc(-c2cnn(C)c2)s1', 'CC(C)CCOc1ccc(C(C)NC(=O)c2csc(CN)n2)cc1.Cl', '[N-]=[N+]=NCCCCCC(CC1c2ccccc2-c2ccccc21)OC(=O)Cl', 'Cc1cccc(OCC(=O)N2CCC[C@@H]2Cn2nnc(-c3cccs3)n2)c1', 'Cc1nn(C)cc1CNC(=O)C[C@@H](c1cccc(O)c1)c1cccc(Cl)c1', 'CC1(C)OB(c2cn(S(=O)(=O)c3ccccc3)c3ccccc23)OC1(C)C', 'CCn1cc(CNC(=O)c2ccc(COc3cccc(Cl)c3)cc2)c(C)n1', 'COc1ccccc1NC(=O)C(C)OC(=O)/C=C/c1ccc2c(c1)OCCO2', 'CC(=O)N(CC(=O)NCCc1c[nH]c2ccccc12)Cc1ccccc1Cl', 'O=C(c1ccc2c(c1)c(-c1ccccc1)[n+]1n2CCC1)N1CCOCC1.[Cl-]', 'CN1CCc2c(c3cc(Cl)ccc3n2CC(CC(=O)O)c2ccccn2)C1', 'COc1ccc(C)cc1S(=O)(=O)N1CC[C@H](O)[C@@](CC2CC2)(C(=O)O)C1', 'COc1cc2c(cc1OC)[C@@H]([C@@H]1OC(=O)c3cc4c(cc31)OCO4)N(C)CC2', '[H]/N=C(/C=C\\\\C1=NN=C(C(C)C)[NH2+]1)c1c(-c2ccc(F)cc2F)nc2occn12', 'COc1ccccc1-c1c2c(=O)n(Cc3ccccc3)ccc2nc2ncnn12', 'CN1CCN(C(=O)Cc2nsc3ccccc23)CC1c1nc(C2CC2)no1', 'O=C([O-])[C@@H]1[C@H](C(=O)Nc2cccc3c(-c4ccccc4)ccnc23)[C@@H]2C=C[C@H]1C2', 'COc1cn(Cc2ccccc2C#N)nc(-c2ccnn2-c2ccccc2)c1=O', 'Cc1cc(=O)oc2c(F)c(OSCC(N)CC3CCCCC3)c(F)cc12', 'O=S(=O)(CCCc1ccccc1)Nc1ccc(NCc2ccncc2)nn1', 'CCC1CCC(NC(=O)c2cc(S(C)(=O)=O)ccc2OC)(C(=O)O)CC1', 'c1ccc(-c2nc3ccccc3nc2-c2cccc3c2ccc2cccnc23)cc1', '[B]c1csc(COc2ccc3c(c2)OCC32CCN(CCC(=O)O)CC2)c1', 'CN(CC(C)(C)CN)C(=O)CSCc1coc(-c2ccccc2)n1.Cl', 'CCOc1ccccc1-n1nnnc1SCC(=O)NCc1ccccc1C', 'O=C1N=C2C=CC(Cl)=CC2C(c2ccccc2)=C1N1CCN(CCO)CC1', 'O=C(CSc1nnc(-c2ccncc2)n1Cc1ccco1)NC1CCCC1', 'CC(C)/C(=N/N=C(N)N)c1cn(S(=O)(=O)c2ccccc2)c2ccccc12', 'COc1ccc(Nc2nc(C(=O)N3CCCC(c4ccn[nH]4)C3)cs2)cc1', 'CCOc1ccccc1C1=N/C(=C/c2cc(OC)c(OC)cc2OC)C(=O)O1', 'COc1cc(C)c(COC(=O)CN2C(=O)Cc3ccccc3C2=O)cc1OC', 'Cc1c2c(-c3nc(C4CCC(C)(C)O4)no3)ncn2c2cccc(F)c2[n+]1[O-]', 'CCCCCNCc1cccc(OC)c1OCc1ccccc1Cl.Cl', 'COc1ccc(-n2ncc3c2CC(C)(C)CC3NC(=O)c2cnsn2)cc1', 'Cc1ccc(C)c(CC(=O)Nc2cc(-c3ccc(Cl)cc3)nn2CCO)c1', 'CC(=O)c1ccc(Nc2ccc(C(=O)Nc3cccc4cccnc34)nn2)cc1', 'CCOCc1c(C(=O)OCC(=O)Nc2ccccc2OC)oc2ccccc12', 'CCCCCC(O)CCN1C(=O)CCN1C(=S)Nc1ccc(Cl)cc1', 'COc1cc(NC(=O)Cc2c(C)c3ccc(O)c(C)c3oc2=O)cc(OC)c1', 'Cc1c2cc(Oc3nc4cnccc4c(=O)[nH]3)ccc2nn1Cc1ccccc1', 'CN1CCC2(CC1)Oc1ccc(Cl)cc1C1CC(c3ccccc3O)=NN12', 'NC(=O)C(CC1CC1)NC(=O)c1ccc(C2CC2)c(-c2cccc(Cl)c2)n1', '[C-]#[N+]c1cccc(Nc2nsnc2NC(c2cc(C)c(C)o2)C(C)C)c1O', 'COc1cc(CNc2nc(C)nc(C)c2Cl)ccc1OCc1ccccc1', 'NC(=O)c1cccc(Cc2c[nH]c(=O)c3cc(-c4c[nH]c5ncccc45)cn23)c1', 'c1ccc2c(CCc3nc4nccc(-c5ccc6c(c5)OCO6)n4n3)c[nH]c2c1', 'CCc1ccc(C(C)N/C=C(/C#N)C(=O)Nc2cc(Cl)ccc2OC)cc1', 'COc1ccc(C(=O)NCCCNc2ccnc3cc(Cl)ccc23)cc1C', 'Cc1cc(OC2CCN(C(=O)c3cc(-c4cccs4)[nH]n3)CC2)nc(C)n1', 'O=CC1=C[N+](c2ccccc2)(c2ccccc2)NC1(c1ccoc1)c1ccoc1', 'CC1(C)C2CCC1(CS(=O)(=O)N1CCC(O)(C(F)(F)F)CC1)C(=O)C2', 'CC(=O)N[C@H]1[C@@H](O[C@@H]2[C@@H](O)[C@@H](O)O[C@H](CO)[C@@H]2O)O[C@H](CO)[C@@H](O)[C@@H]1O', 'Cn1cc(CNCc2cccc(Cl)c2)c(-c2ccc3c(c2)OCCCO3)n1', 'COCCNC(=O)c1cc(-c2ccc(C)c(C)c2)nn1-c1ccccc1Cl', 'C=CC(=O)Nc1ccc(F)c(Oc2cnc3[nH]cc(C(=O)NC(C)C)c3n2)c1', 'Cc1ccc(Nc2c(C(=O)NOCCO)n(C)c3c(C#N)cncc23)c(F)c1', 'C=Cc1c(/C=C\\\\C)c(-c2cc(-c3ccccc3F)nc3ncccc23)c[nH]c1=O', 'O=C(N[C@H]1CCCC(O)(C#Cc2cccc(Cl)c2)C1)c1n[nH]c2c1CCC2', 'CCn1c(SCC(=O)Nc2ccc(NC(=O)NC)cc2)nc2ccccc21', 'CC(=O)c1ccc(OCCCC(=O)Nc2cc3c(cc2C(C)=O)OCO3)cc1', 'CNc1nc(Nc2cccc(CS(C)(=O)=O)c2)ncc1-c1ccc(N)cc1', 'O=C(Cn1cnc(-c2ccccc2F)cc1=O)NCCCn1ncccc1=O', 'Cc1ccc(CCn2c3c(c4cc(Cl)ccc42)CCC(C(=O)NO)C3)cn1', 'O=C(COc1ncnc2ccccc12)Nc1ccc(/N=N/c2ccccc2)cc1', 'COCCN1C(=O)CSC1c1ccc(OC(=O)OC(C)(C)C)c(OC)c1', 'Cc1nc(CN2CCN(C(=O)Cn3ncc4ccccc4c3=O)CC2)cs1', 'CC(C)Oc1cccc(CNC(=O)c2cn(C)nc2-c2ccccc2Cl)c1', 'O=C([O-])CCC(=O)N1C[C@@H]2C[C@H](C1)c1c(-c3ccccc3F)ccc(=O)n1C2', 'Cc1nnc(/N=N/c2cc3c(cc2C)N(CC(F)(F)F)C(C)C3(C)C)s1', 'Cc1ccc(Cn2ccc(NC(=O)CCCOc3ccccc3Cl)n2)cc1', 'CSc1nc(C#N)cc2cnc(NC(=O)[C@H]3CCC[C@@H](NC(C)=O)C3)cc12', 'CCOCCOC(=O)[C@@H](C)Oc1ccc(N2C(=O)c3ccccc3C2=O)cc1', 'CCN(CC)C(=O)c1ccc(NC(=O)c2cc3ccccc3n2C)cc1Cl', 'Cc1nc(C)c(C(=O)N2CCCC2CCc2noc(-c3ccccn3)n2)s1', 'CC1=C(CN2CCOCC2)C(=O)N(c2ccccn2)[C@H]1c1ccc(Cl)cc1', 'OCc1ccc(CNC(=S)N2CCN(c3ncnc4occc34)CC2)cc1', 'CCOc1ccccc1-n1nnnc1SCc1cccc(C(=O)N(C)C)c1', 'COc1ccccc1-n1nnnc1SCC(=O)NCCCc1ccccc1', 'O=C(O)c1ccncc1Cc1nn(CCC2CCCC2)c2ccc(Cl)cc12', 'COc1ccc(NC(=O)CCSc2nnnn2-c2cccc(C)c2C)cc1', 'COc1ccc(/C(O)=C2\\\\C(=O)C(=O)N(CCO)[C@H]2c2ccc(OC)cc2)cc1', 'O=C(Nc1ccc(C(=O)NC2(c3ccc(Cl)cc3)CCC2)cc1)NC1CC1', 'CN(C)C(CNC(=O)c1cn(C)c(=O)c2ccccc12)c1cccc(Cl)c1', 'CCN1c2cc(C(=O)Nc3cccc(Cl)c3)ccc2C(=O)N2CCCC[C@H]21', 'CCC(C)N(CC)C(=O)n1cnc(S(=O)(=O)N(C)c2ccc(F)cc2)n1', 'CC(=O)Nc1ccc2nc(NC3=NC[C@@]4(CN5CCC56CCC64)O3)sc2c1', 'O=C1NC(NC2CCCC2)=NC1c1ccc(OCc2ccc(Cl)cc2)cc1', 'O=C(NC1CCCC[C@@H]1O)c1cn(Cc2ccc(Cl)cc2)c2cccnc12', 'COc1cccc(Oc2coc3c(C[NH+]4CCOCC4)c([O-])ccc3c2=O)c1', 'Cc1ccn(CCCNC(=O)c2cccc(COc3ccc(Cl)cc3)c2)n1', 'Cc1cc2c(s1)CCC(NC(O)c1n[nH]c(Cc3ccccc3)n1)C(=O)N2', 'CNC1C(OC2C(C(=O)O)OC(O)C(O)C2O)OC(CO)C(O)C1OC', 'Cc1ccc2[nH]cc([C@H](C(=O)O)N3CCN(c4cccc(Cl)c4)CC3)c2c1', 'CCCN(Cc1ccc2c(c1)CCO2)Cc1nc2cc(Cl)ccc2c(=O)[nH]1', 'Cc1ccc(-c2cnccn2)cc1NS(=O)(=O)c1cn(C)nc1C1CCC1', 'O=C1c2c(cccc2-c2ccncc2F)CN1CCc1ccc2ccccc2n1', 'COc1ccc(NC(=O)[C@H](C)OC(=O)c2oc3ccc(OC)cc3c2C)cc1', 'C=CCOc1ccc(C2C(C(=O)c3ccco3)=C(O)C(=O)N2CCOC)cc1', 'Cc1nn(Cc2ccccc2)c(Cl)c1CNCC1COc2ccccc2O1', 'COc1cc(C)cc2cc(-c3cc(COCCN)n4ncnc(N)c34)sc12', 'CO[C@H]1O[C@@H]2CN(C(=O)OCc3ccccc3)[C@H]1[C@H]2OC(=O)c1ccccc1', 'COC1CCC(Oc2ccc3c(Nc4ccc(Cl)nc4)nccc3c2)CC1', 'CC(O)(C#CC1=C(F)C=C2OCC3CN=C(C(N)=O)NC23C=C1)c1ncc[nH]1', 'CCCCSCCN1C(=O)SC[C@@H]1/C=C/[C@@H](O)Cc1ccc(F)cc1', 'O=C1C[C@H](c2ccc(F)cc2)c2c(-c3ccccc3)nn(-c3ccccc3)c2N1', 'O=C(Nc1ccccc1)c1nc(C(=O)Nc2ccccc2)n(-c2ccccc2)n1', 'Cc1nn(CN2CCCC(C(=O)Nc3nccs3)C2)c(=O)c2ccccc12', 'Clc1ccc2ncn(C3CCCN(CC4COc5ccccc5O4)C3)c2c1', 'COc1cccc(C(=O)COC(=O)[C@@H](C)N2C(=O)[C@@H]3[C@H](C2=O)[C@H]2C=C[C@H]3C2)c1', 'O=C(Cc1csc(N2CCCC2=O)n1)NCCCn1cnc2ccccc21', 'Cc1cc(C(O)C(C)[NH2+]CCCCl)ccc1OCc1ccccc1.[Cl-]', 'O=C1N[C@H](c2ccccc2)[C@@H](c2ccccc2)N=C1c1c[nH]c2ccc(F)cc12', 'CCn1ccc(CN(C)C(=O)c2cccc(COc3ccccc3Cl)c2)n1', 'Cn1cc(-c2cc(=O)n(C)cc2-c2cnn(-c3ccccc3C#N)c2)ccc1=O', 'CN1C=C2C(C#CC(C)(C)OCC3CC3)=NCN2c2cccc(Cl)c2C1=O', 'CCOc1nc(-c2ccc(C(C)(C)C)cc2)n(C(=O)c2ccccc2Cl)n1', 'O=C(O)C(CCCCCOc1ccccc1-c1nc2ccccc2o1)C(=O)O', 'CCOc1ccc2c(c1)O/C(=C/c1ccc(OC(=O)N(C)C)c(OC)c1)C2=O', 'CCOc1ccccc1NC(=O)[C@@H](C)Sc1nnc(-c2ccncc2)n1C', 'O=C(NCCNc1nsc2ccccc12)c1cc(N2CCOCC2)ccn1', 'CC(C)c1ccccc1OCC(=O)O[C@@H](C)C(=O)N[C@H]1CCS(=O)(=O)C1', 'Cn1c(-c2cc(C(=O)O)cc(-c3nc4ccccc4n3C)n2)nc2ccccc21', 'Cc1cc(C)n(-c2nnc(SCC(=O)N3CCOCC3)c3ccccc23)n1', 'COc1cccc2c1C(=O)c1c(O)cc(CC(C)(C)CC(N)=O)c(O)c1C2=O', 'O=C1N(C[C@H]2CCCO2)c2ccccc2C1(O)c1cc2c(cc1O)OCOC2', 'O=C(O)CC[C@@H](CC(=O)O)NC(=O)OCC1c2ccccc2-c2ccccc21', 'Cn1c(C2CCCN(C(=O)COc3ccc(Cl)cc3)C2)nc2ccccc21', 'CCS(=O)(=O)c1cccc(CC(=O)N2CCCC(COC)(C(=O)O)C2)c1', 'CC(c1nnc(-c2cccc(Cl)c2)o1)N1CCC(c2ccc(O)cc2)CC1', 'Cc1cccc(OCCNC(=O)CSc2nnnn2Cc2ccccc2)c1', 'CCN(CC)c1ncc(C(=O)Nc2ccc(OC)c(Cl)c2)c2ccccc12', 'CC(=O)N(c1nc(C)c(C(=O)Nc2nc3ccccc3[nH]2)s1)C1CCCC1', 'CN1CCC(OC(=O)c2cc(-c3ccncc3)nc3ccccc23)CC1.Cl', 'CN(C1=NS(=O)(=O)c2ccccc21)C1CN(c2cc3c(nn2)CCCC3)C1', 'COc1ccc([C@@H](NC(=O)COC(=O)C2=COCCO2)c2ccccc2)cc1', 'O=C(O)c1ccc(-c2ccc(C(=O)O)c(C(=O)[C@@H]3CCCC[C@@H](O)C3)n2)cc1', 'Cc1sc2ncnc(N3CCC(C(=O)Nc4ncccc4O)CC3)c2c1C', 'CC(C)CN(C(=O)COC(=O)c1ccc(CO)cc1)C1CCS(=O)(=O)C1', 'c1cncc(-c2cccc(-c3ccc4c5cccnc5c5ccccc5c4n3)c2)c1', 'Cc1cc2c(NCc3cccc([N+](=O)[O-])c3)nc(N3CCCCC3)nc2s1', 'COc1cnc2ccc(Cc3ccc(OCc4cccnc4)nc3)c(C#N)c2n1', 'CN.[H]/N=C/c1ccc(CNC(=O)c2nc3sc4c(c3c(=O)[nH]2)CCC4)cc1', 'CC(=O)N[C@H]1[C@H](O[C@H]2[C@H](O)[C@@H](CO)OC(O)[C@@H]2O)O[C@H](CO)[C@H](O)[C@@H]1O', 'CC1=C(OC2=CC3=C(C=C12)C(=C(C(=O)O3)CC(=O)N(C)CCC4=CC=CC=N4)C)C', 'CCOCCCNC(=O)CN(c1ccc(C)cc1C)S(=O)(=O)c1ccccc1', 'C/C=C/C=C/C(=O)N1CCc2ccccc2C1C(=O)Nc1ccc(C(=O)O)cc1C', 'O=C(NCc1cccc(COc2ccccc2)c1)C1CC(=O)N(Cc2ccco2)C1', 'CO[C@@H]1CN(c2nc(-c3cc(C)ccc3O)cs2)CC[C@@H]1C(=O)OC(C)(C)C', 'CC(N)CCC(=O)Nc1ccc(CC(=O)N2CCN(C)CC2)cc1.Cl.Cl', 'Nc1cc(CCc2ccccc2)n(CC(=O)O)c(=O)c1C(=O)CCc1ccccc1', 'COc1ccc(-c2cccc(CNc3ccc4c(c3)OCC4CC(=O)O)c2C)cn1', 'C.C=C/C=C(\\\\C=C)C(=O)Nc1ccc(Oc2ccnc3cc(O)c(OC)cc23)cc1', 'CCN(C(=O)c1ccc(NC(=O)[C@H]2[C@H](C(=O)O)[C@H]3C=C[C@H]2C3)cc1)c1ccccc1', 'COc1cc(C=O)c(CN(C)CCc2ccc(F)cc2)c(ON=O)c1CCCO', 'N#CCCN(C(=O)c1ccc(COc2ccc3ccccc3c2)o1)C1CCOCC1', 'COc1nc(OC)nc(Oc2ccccc2C(=O)NC(C)C(=O)OC(C)(C)C)n1', 'COc1ccc(C(NC(=O)NCC#Cc2cccc(C(F)(F)F)c2)C(C)C)cc1', 'COc1ccc2c(c1)C(=O)N(C[C@@]1(C3CC(c4ccccc4)C3)CC(=O)NC1=O)C2', 'COc1cc(NC(=O)C(c2ccccc2)c2ccccc2)c(OC)cc1NC(C)=O', 'CCOc1ccc(NC(=O)CN(C)C(=O)c2ccc(OC)c(F)c2)cc1OCC', 'N/C(=N\\\\c1ccccn1)c1ccc2c(c1)Cc1cc(/C(N)=N/c3ccccn3)ccc1-2', 'COC(=O)[C@H]1C[C@@]23c4ccccc4N[C@@H]2CC(=O)C[C@@H]3C(=O)N1Cc1ccccc1', 'CCCc1nnsc1C(=O)NCC1CCN(Cc2ccccc2SC)CC1', 'O=C(CCc1ccccc1O)NNC(=O)COc1ccccc1Cc1ccccc1', 'CCOc1ccc(N(CC(=O)NC(C)c2ccc(CC)cc2)S(C)(=O)=O)cc1', 'COc1ccc(OCCn2c(COc3ccc(OC)cc3)nc3ccccc32)cc1', 'COc1cc(-c2nc3c(Cc4ccccc4)c(OC)ccc3[nH]2)cc(OC)c1OC', 'C[C@H]1CCCN(c2ccc(C(=O)OCC(=O)NC(=O)NC3CC3)cc2[N+](=O)[O-])C1', 'COc1ccc(CCC(=O)N(NC(=O)OCc2ccccc2)c2ccccc2)cc1', 'CCOC(=O)/C=C/c1ccc(NC(=O)/C=C/c2ccc(N3CCCC3=O)cc2)cc1', 'O=C(CCc1cn(Cc2ccc(F)cc2)c2ccccc12)NCc1cccc(F)c1', 'CN(Cc1ccccc1)C1(CNC(=O)c2cc(=O)c(O)co2)Cc2ccccc2C1', 'CCC(C)NS(=O)(=O)c1ccc(C(=O)NC(CC)c2ccccc2OC)cc1', 'CC[C@H](C(=O)NCCOc1ccc(C)c(C)c1)N(c1ccccc1)S(C)(=O)=O', 'COc1ccc(CNC(=O)C2CCn3c(C(=O)c4ccccc4)ccc32)c(OC)c1', 'CCCCOCCOCCNC(=O)c1ccc(CNC(=O)c2cccs2)cc1', 'O=C(CCC(F)(F)F)N1C[C@H]2C[C@@H](C1)[C@H](Cc1ccccc1)n1c2cccc1=O', 'Cc1ccc(OCC(C)NC(=O)CN(c2cccc(C)c2C)S(C)(=O)=O)cc1', 'CCOc1c2c(nc(C)c1-c1ccc(Oc3ccc(C(=O)O)cc3)nc1)CCCC2', 'C#CCNC1=C(C)C(=O)C2=C(C1=O)C(CO)C1(OC)C3C(CN21)N3C.NC(=O)O', 'COc1cc(S(=O)(=O)Nc2c(C(C)C)cccc2C(C)C)ccc1NC(C)=O', 'CN1C(=O)C(O)=C2C(=O)N(Cc3ccc(F)cc3)CCC2C1C(=O)OC(C)(C)C', 'CCOc1ccc(Nc2ccc(Cc3c[nH]c4ncnc(C5CC5)c34)c(F)n2)cn1', 'CCc1nc2ccccc2c(C(=O)OCC(=O)NC2CCOc3ccccc32)c1C', 'CC1=NOC(=O)C1(Cc1ccc(C)cc1)C1(Cc2ccc(C)cc2)C(=O)ON=C1C', 'CC(C)NC(=O)C1CCN(C(=O)C2(C)Oc3ccc([N+](=O)[O-])cc3NC2=O)CC1', 'COc1ccc2c(N3CCc4cc(N)c(F)cc4C3)nn3c(C4CC4)nnc3c2c1', 'Cc1ccccc1OCCN(C)C(=O)c1ccc(S(=O)(=O)N(C)C(C)C)cc1', 'CCNC(=O)C(Cc1ccccc1)NS(=O)(=O)c1cc(C(C)C)ccc1OC', 'CCOC(=O)C1=C(COC)Nc2ncnn2C1c1cc(OC)c(OC)c(OC)c1', 'CC(C)C[C@H]1N[C@]2(C(=O)Nc3ccccc32)C2=C1C(=O)c1ccccc1C2=O.CO', 'C=C(C)C1CN(C(=O)O)CC1CC(=O)NC1Cc2c(OC)ccc([N+](=O)[O-])c2N1', 'Cc1cccc(C(C)C)c1NC(=O)[C@H](C)Oc1ccc(N(C)S(C)(=O)=O)cc1', 'Cc1ccc(CN(C)C(=O)c2ccc(S(=O)(=O)N3CC(C)CC(C)C3)cc2)o1', 'CC(C)Oc1ccccc1C(=O)NNC(=O)c1ccc(OCc2ccccc2)cc1', 'CCC(=O)N(Cc1ccc(C(F)(F)F)cc1)C[C@H]1CC(c2ccc(C)cc2)=NO1', 'Cn1cc([C@H](CC(=O)NCc2ccc(F)cc2)c2cccc(F)c2)c2ccccc21', 'CC(=O)Nc1cccc(Nc2ncnc(N3CC=C(c4ccccc4)CC3)n2)c1F', 'CC[C@H](C)NC(=O)CN(c1ccc(C)cc1)S(=O)(=O)c1cc(C)ccc1OC', 'CC(=O)OC(=O)C1(C)CCCC2(C)c3cc(C(=O)Cl)c(C(C)C)cc3CCC12', 'CC[C@H](C(=O)N[C@H](C)COc1ccccc1C)N(c1ccccc1)S(C)(=O)=O', 'O=C(O[C@H]1c2ccccc2C[C@@H]1N1CCCC1)c1ccc(N2C(=O)CCC2=O)cc1', 'O=C(NCc1nnc2ccccn12)c1nn(-c2ccc(F)cc2)c2c1CCCCC2', 'Cc1cc(C)c(NC(=O)C(C)OC(=O)c2cccnc2Oc2ccccc2)c(C)c1', 'CCOc1ccc(S(=O)(=O)N(C)CC(=O)Nc2c(C)cc(C)cc2C)cc1C', 'C=CC(=O)OCCOC.CC#Cc1ccc(-c2nnc(-c3ccc(C)cc3)o2)cc1', 'Cc1sc(NC(=O)[C@H]2CC=CC[C@H]2C(=O)O)c(C(=O)NC2CCCCC2)c1C', 'CCOC(=O)N1CCOC1c1cnc(C2=NC(C)(C(C)C)C(=O)N2)c(C(=O)O)c1', 'CCc1ccc(C(=O)N2CCC(C(=O)Nc3cccc(C(F)(F)F)c3)CC2)cc1', 'COc1ccc(C)cc1[C@H](C)NC(=O)c1cccc(S(=O)(=O)NC(C)(C)C)c1', 'CCOc1ccc(N(CCCC(=O)Nc2c(C)cccc2C)S(C)(=O)=O)cc1', 'C#CCOc1ccc(/C=C/C(=O)Nc2ccccc2C(=C)ON=C(C)C)cc1OC', 'O=C(NC1CCN(C(=O)c2ccoc2)CC1)c1cccc(OCc2ccccc2)c1', 'Cc1ccc(S(=O)(=O)NCCC(=O)Nc2ccc(OC(C)C)cc2C)cc1C', 'CCOc1cc(/C=N/NC(=O)c2ccccc2OCc2ccccc2)ccc1OC', 'CCS(=O)(=O)Nc1ccc(NC(=O)Cc2ccc(CC(C)C)cc2)cc1OC', 'C/C(=N\\\\OC(=O)c1ccc(C)cc1)c1ccc(N2C(=O)[C@H]3CCCC[C@H]3C2=O)cc1', 'Cc1cnc(CNC(=O)C2CCC(NC(=O)c3c(Cl)c(C)nn3C)CC2)cn1', 'COc1cccc(C(CNC(=O)c2ccoc2C)c2c[nH]c3ccccc23)c1OC', 'Cc1nnc2ccc(N3CC(CNS(=O)(=O)c4cn(C)c(C(C)C)n4)C3)nn12', 'C[C@@H](OC(=O)c1ccc2c(c1)NC(=O)[C@H]1CCCN21)C(=O)c1ccc2c(c1)CCC2', 'CCOc1ccccc1N(CCCC(=O)Nc1ccccc1CC)S(C)(=O)=O', 'CCc1ccc(N([C@H](C)C(=O)N[C@H](C)c2ccccc2OC)S(C)(=O)=O)cc1', 'CCCC[C@H](NC(=O)OCC1c2ccccc2-c2ccccc21)c1nc(C=O)co1', 'CC[C@@]1(C)NC(=O)N(CC(=O)O[C@@H](C)C(=O)Nc2ccc(NC(C)=O)cc2)C1=O', 'COc1cc(C(=O)NC(C)C(=O)Nc2ccccc2)ccc1OCc1ccccc1', 'COc1ccc(C)cc1N(CC(=O)NC(C)(C)C)S(=O)(=O)c1ccc(C)cc1', 'NCCCCNC(=O)COc1cccc2c1C(=O)N(C1CCC(=O)NC1=O)C2O', 'COc1ccc(C)cc1N(CC(=O)N[C@H](C)c1ccc(C)c(C)c1)S(C)(=O)=O', 'C[C@@H]1CC2NC3C(Cl)C(Cl)CC(C4CCN(C)N4)C3C2CN1C(=O)CO', 'CC(=CC(=O)N(C)Cc1cc(=O)[nH]c2ccccc12)c1ccc2c(c1)OCCCO2', 'Cc1ccc(N(CC(=O)NC(C)COc2ccccc2C)S(C)(=O)=O)cc1C', 'COc1cccc(N2CCN(S(=O)(=O)c3ccc(OC(C)C)c(C)c3)CC2)c1', 'O=C(C[n+]1ccc(Cc2ccc(Cl)cc2)cc1)c1ccc(C2CCCCC2)cc1', 'O=C(O)CN1C[C@H]2C[C@@H](C1)[C@H](CNC(=O)CN1CCOC1=O)n1c2cccc1=O', 'Cc1cccc(/C=N\\\\C2CCCCC2/N=C/c2cccc(C(F)(F)F)c2O)c1O', 'CCc1ccc(NC(CC(=O)c2ccc(OC)cc2)c2ccc([N+](=O)[O-])cc2)cc1', 'O=C(NC1CCc2ccccc2C1)c1cc(NCc2cc(O)ccc2O)ccc1O', 'CCNc1nc(C)cc(N2CCN(C(=O)Nc3ccc(OC)c(Cl)c3)CC2)n1', 'C=C/C=C(/c1cccnc1)c1nc(-c2n[nH]c3ccc(-c4ccccn4)cc23)[nH]c1C', 'CCOC(=O)C1=C(c2ccc(OC)cc2)OC(N)=C(C#N)C1c1ccc(CC)cc1', 'C[C@H]1CC(C)(C)C[C@]2(C1)NC(=O)N(CC(=O)OCC(=O)c1ccc(F)cc1)C2=O', 'Fc1cc(-c2noc([C@@H]3CCCCN3Cc3ccccn3)n2)cc(-n2ccnc2)c1', 'CCCCCOc1ccc(C(=O)c2cccc3ccccc23)c2c1[nH]c(=O)n2OC', 'CCOc1ccc(NC(=O)c2ccc(NC(=O)Cc3ccc(OC)cc3)cc2)cc1', 'COc1ccc(-c2cnc([C@]3(C)COC(C)(C)N3C(=O)OC(C)(C)C)s2)cc1', 'CC(NC(=O)c1ccc(-c2cc[n+]([O-])cc2)cc1)C(C)(Cc1ccccc1)C(=O)O', 'CCOc1ccccc1NC(=O)CCc1c(C)nc2nc(CN)nn2c1C.Cl', 'C=CC(=O)N1CCC(C)(Nc2ccc(OCc3ccccc3)c(C(F)(F)F)c2)C1', 'CCOC(=O)c1cccc(-n2c(C)cc(/C=N/c3ccc(C(=O)OC)cc3)c2C)c1', 'Cc1cccc(N(C(C)C(=O)NCc2ccc(OC(C)C)cc2)S(C)(=O)=O)c1', 'Cc1ccc(OCCC(=O)Nc2ccc(S(=O)(=O)N(C)C(C)C)cc2)c(C)c1', 'CCS(=O)(=O)N1CC(=O)N2[C@H](CO)[C@H](c3ccc(C4=CCCCC4)cc3)[C@@H]2C1', 'COc1ccc(C)cc1NC(=O)[C@H](C)OC(=O)c1cc(C2CC2)nc2ccccc12', 'CC(C(=O)O)c1ccc(-c2ccc(OCCCCCOCCO)cc2)c(P)c1', 'CC(C)(C)N1CC2(CN(C3CCCN(c4cnc(C#N)c(Cl)n4)C3)C(=O)O2)C1', 'CC(C)COC(=O)N1CCN(C(=O)c2ccc(COc3ccc(F)cc3)o2)CC1', 'CCC[C@H](C)NC(=O)COc1ccc(S(=O)(=O)Nc2cc(C)cc(C)c2)cc1', 'CC(NC(=O)CCCOCCc1ccccc1)c1cccc(NS(C)(=O)=O)c1', 'CCOc1ccccc1OCC(=O)N1N=C(c2ccc(C)cc2)C[C@H]1c1ccco1', 'Cc1cc(C)cc(OCCNC(=O)CCCN(C)S(=O)(=O)c2ccccc2)c1', 'CC[C@@H](C(=O)N[C@@H](C)c1ccc(OC)cc1)N(c1cccc(C)c1)S(C)(=O)=O', 'Cc1cccnc1C(O)C(O)CNC(=O)OCC1c2ccccc2-c2ccccc21', 'CC(C)Oc1cccc(C(=O)Nc2cccc(NC(=O)COc3ccccc3)c2)c1', 'Cc1ccccc1C(=O)NC1CCN(C(=O)Cc2ccc(C(F)(F)F)cc2)CC1', 'CCOc1ccc(CNC(=O)C(CC)N(c2ccc(C)cc2)S(C)(=O)=O)cc1', 'O=C(CCN(Cc1cccc2ccccc12)C1CC1)Nc1ccc(O)c(C(=O)O)c1', 'COCc1cccc(NC(=O)CCCN(c2c(C)cccc2C)S(C)(=O)=O)c1', 'CC[C@H](NC(=O)[C@H](c1ccccc1)N(C)S(C)(=O)=O)c1ccc(OC)c(C)c1', 'CN(c1ccccc1F)c1cc(N2CCOCC2)nc2c(-c3ccn[nH]3)nccc12', 'COc1cccc(Nc2nc(N)n(-c3cc(Nc4ccccc4)ncn3)n2)c1OC', 'C[C@@H](C(=O)OCC(=O)NCCc1ccccc1F)N1C(=O)[C@H]2CCCC[C@H]2C1=O', 'CCOC(=O)C1=C(N)Oc2c(c(=O)[nH]c3ccccc23)[C@H]1c1ccc(C(C)C)cc1', 'Cc1ccc(OCCNC(=O)C(C)N(c2ccc(C)c(C)c2)S(C)(=O)=O)cc1', 'COc1cc(/C=N/OCC(=O)Nc2ccccc2C)ccc1OCc1ccccc1', 'Cc1cc(-c2cc(N3CCOCC3C)nc3c(-c4ccn[nH]4)nccc23)cnc1F', 'CCOc1ccc(C(=O)Nc2cccc(NC(=O)c3ccccc3)c2)cc1OCC', 'CN(C)C(C(=O)NC1CCN(C(=O)Cn2nccn2)CC1)c1cccc(Cl)c1', 'FC(F)(F)c1ccccc1COc1ccccc1C=NOC1CN2CCC1CC2', 'Cc1ccc(Cn2nnc3cc(-c4ccnc(NCC5COC5)n4)ccc32)cc1F', 'COC(=O)c1c(C)c(C(=O)CN(CCC(C)C)C(=O)c2cccs2)c(C)n1C', 'CCC(C)N(Cc1ccccc1)C(=O)c1ccc(OC)c(S(=O)(=O)N(C)C)c1', 'CCOc1ccc2c(c1)CC(C(=O)Nc1ccc(OCc3cccnc3)cc1)CO2', 'COc1ccc2c(c1)c(N1CCc3cc(N)c(F)cc3C1)nn1c(C3CC3)nnc21', 'COc1ccccc1CNC(=O)CCCN(c1cc(C)ccc1C)S(C)(=O)=O', 'CCc1ccc(NC(=O)N(Cc2cccc(OS(C)(=O)=O)c2)C(C)CC)cc1', 'CC(C)(C)c1nn2c(c1/N=N/c1n[nH]c(C(C)(C)C)c1C#N)NS(=O)(=O)CC2', 'COc1ccc(C=N[C@H](NC(=O)c2ccc(OC)cc2)c2ccc(OC)cc2)cc1', 'CCOC(=O)c1csc(CN(CCCOC)C(=O)C(CC)c2ccccc2)n1', 'O=C(OCCCc1ccccn1)c1ccc(C(=O)OCCCc2ccccn2)cc1', 'COc1ccccc1/C=N\\\\O[C@H](C)C(=O)Nc1ccc(OCc2ccccc2)cc1', 'CCCCc1ccc(NC(=O)[C@H](C)N(c2cccc(OC)c2)S(C)(=O)=O)cc1', 'COc1ccc(-c2[nH]ncc2CN2CCc3[nH]cnc3[C@H]2c2cccnc2)c(F)c1', 'COc1ccc(NC(=O)CCc2ccc(C(C)(C)C)cc2)cc1NS(C)(=O)=O', 'Cc1ccc(OC[C@H](C)NC(=O)CN(c2cc(C)ccc2C)S(C)(=O)=O)cc1', 'CC(C(=O)OCCNC(=O)c1cccnc1)c1cccc(C(=O)C2=CC=CCC2)c1', 'CCOc1ccc(S(=O)(=O)N2CCN(CCOc3cccc(C)c3)CC2)cc1', 'CC1(C)c2cc(Cl)ccc2-c2c1cc(B1OC(C)(C)C(C)(C)O1)c1ccccc21', 'COc1ccc(S(=O)(=O)[C@H](CNC(=O)C(C)C)c2ccc(N(C)C)cc2)cc1', 'O=C(CC(F)(F)F)N1CCOc2ccc(CN3CCc4ccccc4C3)cc2C1', 'CCCCc1ccc(NC(=O)[C@@H]2CC(=O)N(c3cccc(C(F)(F)F)c3)C2)cc1', 'COC(=O)c1c(C)[nH]c(C(=O)C[NH+]2CCN(c3cc(Cl)ccc3C)CC2)c1C', 'C[C@H](NC(=O)c1ccccc1)C(=O)OCC(=O)N[C@H](C)c1cccc2ccccc12', 'C=C1NC2=C(C(=O)CC(c3ccc(OC)cc3)C2)C(c2ccncc2)C1C(=O)OC', 'Cc1nnc(-c2ccccc2)c(=O)n1N.Cc1nnc(-c2ccccc2)c(=O)n1N', 'C/C=C/CCC1CCC(C#Cc2cccc3c(F)c(OC(F)F)c(F)cc23)CC1', 'Cc1ccc(OCC(=O)NNC(=O)c2ccc(OCCc3ccccc3)cc2)cc1', 'Cc1ccoc1C(=O)N1CCN(S(=O)(=O)c2c(C)c(C)c(C)c(C)c2C)CC1', 'CCN(CC)S(=O)(=O)c1cc(NC(=O)Cc2cc(C)ccc2OC)ccc1C', 'CCCCCNC(=O)COc1ccc(S(=O)(=O)Nc2ccc(C)c(C)c2)cc1', 'O=C(NCC(c1ccco1)N1CCOCC1)C1c2ccccc2Oc2ccccc21', 'CCCC1CCC(c2cc(F)c(C#Cc3ccc(OC(F)F)cc3)c(F)c2)CC1', 'COc1ccccc1Nc1ccc(NC(=O)C=Cc2ccc(OC)c(OC)c2)cc1', 'CCCCOc1ccccc1NC(=O)c1ccc(Oc2ccc(C(N)=O)cc2)cc1', 'C[C@@H](C(=O)c1ccc2c(c1)OCO2)N(C)C(=O)C1=CN(Cc2ccccc2)C=CC1', 'CCC(=O)On1c(=O)c(N)cn(Cc2cccc(NC(=O)OC(C)(C)C)c2)c1=O', 'c1ccc(-c2ccc(-c3cnnc(NCc4cc(-c5ccccc5)n[nH]4)n3)cc2)cc1', 'CN(Cc1cccc(C(N)=O)c1)C(=O)COc1ccc(OCc2ccccc2)cc1', 'NC(=O)c1ccc(C(=O)N(CC(O)c2ccccc2)CC(O)c2ccccc2)cc1', 'CC[C@@H](NC(=O)[C@H](C)N(c1cccc(C)c1)S(C)(=O)=O)c1ccc(OC)cc1', 'O=C(C=Cc1cccc(C(F)(F)F)c1)NCc1ccc(CN2CCOCC2)cc1', 'CC(C)(C)OC(=O)NC(=Nc1ccc(C(=O)O)cc1C#N)NC(=O)OC(C)(C)C', 'O=C(O)C1(c2ccccc2)CC1CN1CCN(c2cccc(C(F)(F)F)c2)CC1', 'Cn1ncc2c(N3CCN(C(=O)Cc4n[nH]c(=O)c5ccccc45)CC3)ncnc21', '[C-]#[N+]CC(O[C@H]1COC2C1OC[C@@H]2OC(CC#N)c1ccccc1)c1ccccc1', 'COc1ccccc1CN(C)CC(=O)Nc1cc2oc3ccccc3c2cc1OC', 'Cc1ccc([C@@H](C)NC(=O)[C@H](C)Oc2ccc(N(C)S(C)(=O)=O)cc2)cc1C', 'N#Cc1ccc(N(CCCOc2ccc(CO)cc2)CC2CC2)cc1C(F)(F)F', 'CC[C@@H](NC(=O)CN(C)S(=O)(=O)c1ccc(C)cc1)c1ccc(OC)c(C)c1', 'COc1ccc(C(=O)NC[C@H]2Cc3cccc(-c4ncccc4C)c3O2)cc1OC', 'CCN(CC)S(=O)(=O)c1ccc(OC)c(NC(=O)C(C)(C)c2ccccc2)c1', 'CCOc1ccc2cc(Cc3c(=O)[nH]c(C)c4cc(OC)c(OC)cc34)cnc2c1', 'COc1ccccc1OCC(=O)Nc1cccc(C(=O)Nc2c(C)cccc2C)c1', 'CC(=O)O[C@@]1(C(C)=O)CC[C@@H]2[C@H]3C=C(Cl)C4=CC(=O)CC[C@@]4(C)[C@@H]3CC[C@]21C', 'COc1ccc(CN(C)C(=O)[C@@H](C)N(c2ccc(C)c(C)c2)S(C)(=O)=O)cc1', 'O=C(COCC(=O)Nc1ccc(OCc2ccccc2)cc1)NCc1ccccc1', 'CCCCOc1ccc(C(=O)NNC(=O)[C@@H](C)Oc2ccc(F)cc2)cc1OC', 'CCc1ccc(C2CC(=O)C3=C(C2)NC(=O)CC3c2ccc(C)c([N+](=O)[O-])c2)cc1', 'CCCCCCCCCCCCC(C)[Te]c1ccccc1', 'CCC(N)C(Nc1nc(Nc2cnc(OC)c(F)c2)c(C(N)=O)cc1F)=C1CC1', 'COc1cc(O)c(C(CC(=O)N2CC(C)CC(C)C2)c2nccs2)c(OC)c1', 'C=C(C)C(=O)Oc1ccc(/C(C)=N/N=C(\\\\C)c2ccc(OC(=O)C(=C)C)cc2)cc1', 'Cc1ccccc1CCNC(=O)COC(=O)CNC(=O)c1ccc2ccccc2c1', 'COc1ccc(NC(=O)c2ccc(NC(=O)COc3cc(C)ccc3C)cc2)cc1', 'O=C1CC[C@H](c2coc3ccc4cc(OCCN5CC6CC6C5)ccc4c23)C(=O)N1', 'O=C(CN(Cc1ccco1)C(=O)COc1ccc2c(c1)CCC2)Nc1ccccc1', 'CCc1ccc(N(CC(=O)NCCOc2cccc(C)c2C)S(C)(=O)=O)cc1', 'CCCCOC(=O)c1ccc(NC(=O)c2cn3c4c(cccc4c2=O)CC3C)cc1', 'COc1cc2c(cc1OC)C(c1ccccc1)N(Cc1cccc([N+](=O)[O-])c1)CC2', 'CCCN(CCC)S(=O)(=O)c1ccc(C(=O)NCc2cccc(OC)c2)cc1', 'CCOc1ccc(NC(=O)c2ccccc2N2C(=O)[C@@H]3CC=C(C)C[C@H]3C2=O)cc1', 'Cc1cc(-c2cc(F)cc3c(N4CCC(c5ncon5)CC4)ncnc23)ccc1N', 'C[C@@]1(c2ccc3c(N)ncnn23)O[C@@H]2C(OC(=O)OCC3CCCC3)[C@]2(O)[C@H]1O', 'COc1ccc(C(=O)Nc2ccc(NC(=O)CCc3ccccc3)cc2)cc1OC', 'C[C@@H]1[C@H](C)CCC[C@@H]1NC(=O)[C@@H](C)OC(=O)C[C@H]1Sc2ccccc2NC1=O', 'CCS(=O)(=O)N(C)c1ccc(C(=O)NCCOc2ccccc2C(C)C)cc1', 'Cc1cccc(NC(=O)CN2CCN(C(=O)CC(C)N)CC2)c1C.Cl.Cl', 'CCOc1cccc(NC(=O)CCCN(c2cccc(C)c2C)S(C)(=O)=O)c1', 'COc1cc(C)c(S(=O)(=O)N2CCN(CCc3ccccc3)CC2)cc1OC', 'Nc1ccc(-c2ccc(F)cc2)nc1NC(=O)N1Cc2cnc(N3CCC3)cc2C1', 'Cc1ccc(Oc2ccc(NC(=O)C3CCCCN3C(=O)c3ccco3)cc2)cc1', 'CCOCCCNC(=O)C(Cc1ccccc1)NS(=O)(=O)c1ccc(C)cc1', 'COc1cc(C2CC(c3ccc4ccccc4c3)=NN2C(C)=O)cc(OC)c1OC', 'CCOc1ccc([C@@H](C)NC(=O)[C@@H](CC)N(c2ccccc2)S(C)(=O)=O)cc1', 'CCCN1C(=O)C(=O)/C(=C(/O)c2ccccc2OC)C1c1c(C)[nH]c2ccccc12', 'CCOc1cc(C(=O)Nc2cc(F)ccc2NC(=O)OC(C)(C)C)ccc1OC', 'Cc1ccccc1[C@H]1C[C@@H](O)[C@@H](O)[C@@H]1NC(=O)c1cccnc1Oc1ccccc1', 'Cc1cc(-c2cc3ccnc(NCc4ccc(-c5ccncc5)cn4)c3cn2)ccn1', 'CN(C)C(=O)C(NC(=O)C1(Cc2ccc(C(F)(F)F)cc2)CC1)c1ccccc1', 'Cc1cccc(C)c1OCCNC(=O)c1ccc(Oc2ccc(C(N)=O)cc2)cc1', 'Cc1ccc(N(CCCC(=O)NCCOc2cccc(C)c2)S(C)(=O)=O)cc1', 'COc1ccc(C(=O)N/C(=C\\\\c2ccco2)C(=O)NC[C@@H](C)c2ccccc2)cc1', 'COc1ccc(/C(C)=N/NC(=O)COc2ccc(-c3ccccc3)cc2)c(OC)c1', 'Cn1c(N2CC(N3CCOCC3)C2)nc2c(N3C[C@H]4C[C@@H]3CO4)nc(Cl)cc21', 'CCCC(NC(=O)c1ccc(OC)c(S(=O)(=O)NC(C)C)c1)c1ccccc1', 'CCCCCOc1ccccc1C(=O)Nc1ccc(S(=O)(=O)NCCC)cc1', 'CC1Cc2ccccc2N1Cc1occc1C(=O)NCc1ccc2c(c1)OCCO2', 'COC(=O)c1cc([N+](=O)[O-])ccc1Nc1ccc(CCc2ccc(C)c(C)c2)cc1', 'Cc1cc(C(C)NC(=O)c2cccc(S(=O)(=O)N3CCCCC3C)c2)c(C)o1', 'Cc1cccc(N2CC3C(C2)C3c2noc(Cn3cnc4nnn(C)c4c3=O)n2)c1', 'COc1ccc(C)cc1/C=C/C(=O)N1CCN(c2cccc(C(F)(F)F)c2)CC1', 'Cc1cc(C)cc(OCCNC(=O)CN(c2cc(C)cc(C)c2)S(C)(=O)=O)c1', 'O=C(O)c1c2c(nc3cc4nc5c(c(C(=O)O)c4cc13)CCCCC5)CCCCC2', 'Cc1c(C(=O)N2CCCCC2)oc2ccc(S(=O)(=O)N3CCC(C)CC3)cc12', 'COC(=O)c1ccc2nc(-c3cc4cc(OC)ccc4o3)c(N(C)C(C)C)cc2c1', 'CCOc1ccc(N(CC(=O)NC(C)CCc2ccccc2)S(C)(=O)=O)cc1', 'C[C@@H](NC(=O)COC(=O)c1cc2ccccc2c(=O)[nH]1)c1ccc2c(c1)CCCC2', 'CCC[C@H]1CCc2c(sc(NC(=O)[C@@H]3[C@@H]4CC[C@@H](C4)[C@@H]3C(=O)O)c2C(N)=O)C1', 'C[C@H](OC(=O)c1ccc(-c2ccc(O)cc2)cc1)C(=O)Nc1ccc(N(C)C)cc1', 'NC(=O)C1CCc2c1c1c(OCC(=O)O)cccc1n2Cc1ccccc1C1CC1', 'Cc1ccn(-c2cc(C(O)c3nnc(C)o3)cc(NC3CCC(F)(F)CC3)n2)n1', 'CCOC(=O)c1[nH]c(C)c(CN(C(=O)CCCC(=O)O)c2ccc(F)cc2)c1C', 'COc1ccccc1CNC(=O)COc1cccc(C(=O)NCc2ccccc2)c1', 'CS(=O)(=O)C1(C(=O)N2CCC(C(=O)N3CCc4ccccc43)CC2)CCCC1', 'CCOC(=O)c1ccc(N(Cc2ccncc2)C(=O)COc2ccc(C)cc2)cc1', 'O=C(CN1CCC(C(=O)c2cc(F)ccc2F)CC1)NCCc1ccc(F)cc1', 'CCN(CC)S(=O)(=O)c1ccc(C)c(NC(=O)[C@@H](C)Oc2cccc(C)c2)c1', 'CC(=O)O[C@]1(C(C)=O)CC[C@@H]2[C@@H]3C=C(Cl)C4=CC(=O)CC[C@]4(C)[C@@H]3CC[C@@]21C', 'CNC1=N[C@@H]2[C@@H](OCc3ccc(OC)cc3)[C@H](C)[C@@H](C3(O)CC=CC3)O[C@@H]2S1', 'COC1=CC2=C(C=CN=C2C=C1)C(C3CC4CCN3CC4C=C)O', 'CCCNC(=O)c1ccccc1NC(=O)Cc1cc(C)ccc1C', 'O/N=C(CCCc1ccccc1)/C(CCCc1ccccc1)=N/O', 'CCC(C)C(=O)N1CCN(C(=O)c2cccc3ccccc23)CC1', 'C=C(C)COc1cccc(NC(=O)NC(C)c2ccccc2C)c1', 'CC(=O)N1CCC(Cc2ccc(COc3cccnc3)cc2)CC1', 'COc1ccc(C(C)(C)CNCc2cccc(C#N)c2)cc1OC', 'CC(C)c1ccccc1NC(=O)C(=O)NC[C@H](C)c1ccccc1', 'C=CCCCC(=O)c1nc(Cc2ccccc2)c(N2CCCC2)o1', 'CC1(C)[C@@H]2C[C@@H]1c1ccc3c(c1/C2=N\\\\O)/C(=N/O)[C@@H]1C[C@@H]3C1(C)C', 'Cc1ccc(C(=O)N2CCCN(c3ccccc3C)CC2)cc1O', 'CCCCCC(=O)c1ccc(/N=N/c2ccc(OCC)cc2)cc1', 'CC(=O)c1cccc(NC(=O)CCNCCCc2ccccc2)c1', 'c1cc2nc(N3CCNCC3)nc(Nc3cc(C4CC4)[nH]n3)n2c1', 'COc1cccc(CN(C)C(C(=O)NC2CC2)c2ccccc2)c1', 'COc1ccc(CNC(CN2CCCC2=O)c2ccccc2)cc1', 'Cc1cccc(C(=O)Nc2ccc(N3CC(C)OCC3C)cc2)c1', 'O=C(Nc1ccc(COCc2ccccc2)cc1)C1CCCNC1', 'COc1cccc(CCNCC(=O)N2CCCc3ccccc32)c1', 'O=C1CCCC1c1ccccn1.OC1CCCC1c1ccccn1', 'CC(N)c1ccc(O[C@H]2CCN(C(=O)OC(C)(C)C)C2)c(F)c1', 'CC(C)COc1ccc(/C=N\\\\NC(=O)CCc2ccccc2)cc1', 'O=C(CC(O)c1ccccc1)Nc1ccccc1N1CCCCC1', 'COC(=O)c1ccc(/C=C(\\\\C)CNc2ccc(N(C)C)cc2)cc1', 'CC(C)(C)[Si](C)(C)OCCOc1ccccc1CC(=O)NN', 'CC[C@@H](C(=O)N1CCC(O)(c2ccccn2)CC1)c1ccccc1', 'COCc1cc(CNC(=O)C2(COC)CCNCC2)ccc1F', 'C=C(C)COc1ccc(NC(=O)CNc2ccc(C)c(C)c2)cc1', 'CC[C@@H](Oc1ccc2c(c1)CCCC2)C(=O)NCc1cccnc1', 'COc1cccc(CN[C@H](CN2CCCC2=O)c2ccccc2)c1', 'C[C@@H](Nc1ccc(Oc2ccccc2)cc1)C(=O)NC1CCCC1', 'CNCCc1ccc(O)c(C(=O)NC2CCCc3ccccc32)c1', 'CCOC(=O)Cn1c(C)c(CC2=CCC(N)C=C2)c2ccccc21', 'CC(Oc1ccc(-c2ccccc2)cc1)C(=O)NCC1CCCN1', 'COc1ccc(C2CCN(C(=O)CCc3ccccc3N)C2)cc1', 'CCC(CO)[C@H]1c2ccccc2CCN1NC(=O)c1ccccc1', 'O=C(NCC(CCO)c1ccccc1)NC1Cc2ccccc2C1', 'C=CCc1cc(/C=N/OC)ccc1C#CC1(O)CN2CCC1CC2', 'Cc1cc(C2CCC(N(C)C(=O)c3cccnc3)CC2)ccc1O', 'CCN(CC(=O)NC(C)C)C(=O)c1ccccc1-c1ccccc1', 'COc1ccc(CN(C(=O)CCc2ccccc2N)C2CC2)cc1', 'O=C(Nc1ccccc1-c1ccccc1)N(CCCCO)C1CC1', 'CO[C@H]1CCN(C(=O)c2ccccn2)C[C@H]1Cc1cccc(C)c1', 'CCOC(C)C(=O)NCc1ccc(N2CCC(O)CC2)c(F)c1', 'CCCCOc1cccc([C@@H](CP(C)(=O)OCC)C2CC2)c1', 'CC[C@H](O)c1nc2ccccc2n1CCOc1cc(C)ccc1C', 'CCn1cnc2c(N3CCN(c4ccnc(C)n4)CC3)ncnc21', 'O=CCOCN1CCN(C(c2ccccc2)c2ccccc2)CC1', 'Cc1ccc(N2CCN([C@H](C(=O)O)c3cccc(C)c3)CC2)cc1', 'Cc1cccc(CN2[C@H]3COC[C@H]2CC(Oc2cccnc2)C3)c1', 'CC(CCc1ccc(O)cc1)NC(=O)N1c2ccccc2CC1C', 'CC(Nc1ccccc1Oc1ccccc1)C(=O)N1CCCCC1', 'C[C@H]1OC=C(CO)[C@H]2C[C@H]3c4[nH]c5ccccc5c4CCN3C[C@@H]21', 'C/C=C1/CN2CCc3c([nH]c4ccccc34)[C@@H]2C[C@H]1CC(=O)OC', 'CC(=O)N(CC(=O)Nc1ccccc1C)c1c(C)cc(C)cc1C', 'Cc1ccccc1CC(=O)Nc1ccc(CN2CCOCC2)cc1', 'CC(=O)N(CC(=O)NC(C)c1ccccc1)Cc1cccc(C)c1', 'c1nc(NC2=NC[C@]3(CC4CCC3CC4)N2)cc(-n2cncn2)n1', 'O=C(C1CC2CCC1C2)N1CCCC(c2nc3ccccc3o2)C1', 'Cc1cccc(C(=O)N/C(=N\\\\C(C)c2ccccc2)OC(C)C)c1', 'CC(=O)c1c(C)[nH]c(C(=O)CN2CCCc3cc(C)ccc32)c1C', 'O=C(Nc1ccccc1)OCC1CCCN(Cc2ccccc2)C1', 'CC=C1CN2[C@H]3C[C@@]45c6cccc(OC)c6N[C@H]4[C@@H]2C[C@@H]1[C@@H]3[C@@H]5O', 'CCCNC(=O)C1(C)CCN(C(=O)c2ccc3ccccc3c2)C1', 'CC(=O)[O-].CCCCCCC(=O)NCc1ccc(O)c(OC)c1', 'O=C1N(C2C3CC4CC2CC(O)(C4)C3)C[C@@H]2Cc3ccccc3N12', 'O=C(NCCCCO)N1CCC[C@@H](COc2ccccc2F)C1', 'Oc1ccccc1/C=N/CCCCCC/N=C/c1ccccc1O', 'CC[C@H](C(=O)N1C[C@H]2CC=CC[C@H]2C1)N1Cc2ccccc2C1=O', 'O=C(NCC(CO)Cc1ccccn1)C1CCCc2ccccc21', 'COc1ccccc1/C=N/CCCC/N=C/c1ccccc1OC', 'COc1cc([C@@H](C)NCc2cccc(C#N)c2)ccc1OC(C)C', 'CCOc1ccc(CN[C@H](C)c2ccc3c(c2)CCC(=O)N3)cc1', 'NCC1(C(=O)NCc2ccc(-c3ccccc3)cc2)CCOCC1', 'CC(C)Oc1ccc(CNC(=O)N2CC(C)OC(C)C2)cc1F', 'CN1Cc2ccccc2CC2(CCN(Cc3ccoc3)CC2)C1=O', 'CCCCOc1ccc(C(=O)N/N=C\\\\c2ccc(C)cc2C)cc1', 'COc1ccc(F)c(NC(=O)N(C[C@@H](C)O)C2CCCCC2)c1', 'C=CCOc1ccccc1NCC(=O)Nc1c(C)cccc1CC', 'CCc1cccc(C)c1NC(=O)CCN(C(C)=O)c1ccccc1', 'CCC(CC)(CN)NC(=O)CCC(=O)c1ccc(OC)c(F)c1', 'COc1cc(C(=O)N2CCN(Cc3ccccc3)CC2)ccc1C', 'CCCCN1C(=O)c2cccc3c(CCCCN)ccc(c23)C1=O', 'COc1ccccc1C(=O)N1CCN(c2ccc(C)cc2C)CC1', 'O=C(NCCc1ccccc1)Nc1ccc(OC2CCCC2)cc1', 'N[C@H]1CCN[C@H]([C@H]2COC(c3ccccc3)(c3ccccc3)O2)C1', 'CN(CCCCNC(=O)c1ccc2c(c1)CCO2)c1ccccc1', 'C[C@H](OCc1ccccc1)C(=O)N1CCN(c2ccccc2)CC1', 'COc1ccc(OC[C@H]2[C@@H]3CC[C@H](C3)N2Cc2cccnc2)cc1', 'Cc1cccc(OCCn2c(C(C)O)nc3cc(C)c(C)cc32)c1', 'Cc1cccc(C(=O)NCCC(=O)NCCc2ccccc2C)c1', 'COc1ccccc1CN(C)[C@H](C(=O)NC1CC1)c1ccccc1', 'CCc1cccc(CC)c1NC(=O)C(=O)NCc1ccccc1C', 'CCCC(O)(CCC)CNC(=O)c1ccc(F)c(NC(C)=O)c1', 'CC(=O)c1c(C)[nH]c(C(=O)N2CCC[C@H]2Cc2ccccc2)c1C', 'CCNCc1cccc2c1CN(C(=O)OCc1ccccc1)CC2', 'COc1ccc(C(C(C)=O)N2CCN(c3ccccc3)CC2)cc1', 'O=C1N2CCC[C@]23C(=O)N[C@]1(Cc1ccccc1)[C@H]1CCCC[C@H]13', 'CCOCC(=O)N[C@@H](C)c1cc(F)ccc1N1CCC(O)CC1', 'NC(=O)C(CCN1CCOCC1)(c1ccccc1)c1ccccc1', 'CC1=NN(CC(=O)c2ccccc2)C(=O)[C@@]1(C)C1CC2CCC1C2', 'CC(=O)N(CCC(=O)Nc1ccc(C)cc1)c1ccc(C)c(C)c1', 'C=CCN1CC[C@]23c4c5ccc(OC)c4O[C@H]2[C@H](N)C=C[C@H]3[C@H]1C5', 'CC/C(O)=C1\\\\C(=O)CCC\\\\C1=N/CCc1c(C)[nH]c2ccccc12', 'CCCC(=O)Nc1cccc(C(=O)N(CC)c2ccccc2C)c1', 'CCOc1cccc(C(=O)N2CCN(Cc3ccccc3)CC2)c1', 'Cc1cccc(C(=O)N(NC(=O)c2ccccc2)C(C)(C)C)c1C', 'CC(C)=C[C@H]1[C@@H](C(=O)OCc2nc3ccccc3nc2C)C1(C)C', 'CCN1CCC[C@@H]1OC(=O)N(C)c1ccccc1-c1ccccc1', 'COCc1ccccc1C(=O)N1C[C@@H](CN)[C@H](c2ccccc2)C1', 'CNC(=O)CCNc1[nH+]c(-c2ccccc2)nc2[nH]c(C)c(C)c12', 'CCc1nc2ccccc2n1CCCCOc1ccccc1OC', 'CCN(CC)C(=O)c1ccc(NC(=O)c2cc(C)ccc2C)cc1', 'CC(=O)N(Cc1ccccc1)C(C)C(=O)NCc1ccc(C)cc1', 'CCC(C)NC(=O)c1cccc(NC(=O)CCc2ccccc2)c1', 'CC1(C)CCCC2=C1C[C@@H]1C(=O)N(c3ccccc3)NC(=O)[C@@H]1C2', 'CN(CC1CO1)c1ccc(-c2ccc(N(C)CC3CO3)cc2)cc1', 'CCOc1ccccc1NC(=O)C(C)N1CCCc2ccccc21', 'CCN(CC)[C@@H]1[C@@H]2OC[C@H](O2)[C@@H](NCc2ccc(F)cc2)[C@@H]1O', 'CCCCC(=O)Nc1ccc(C(=O)Nc2cccc(C)c2C)cc1', 'CCCOc1ccc(C=NNC(=O)c2ccc(C(C)C)cc2)cc1', 'CC(C)(C)OC(=O)N1CCC(=Cc2cccc3cccnc23)CC1', 'COc1ccc2ccc3c(c2c1)N=CC1(O3)N(C)CCCC1(C)C', 'Cc1onc(-c2ccccc2)c1C(=O)N[C@H](C)[C@@H]1C[C@@H]2CC[C@@H]1C2', 'CCN1CCN(c2ccccc2NC=C(C#N)c2nn[nH]n2)CC1', 'CCCC(O)(CCC)CNC(=O)C(=O)Nc1cc(C)ccc1F', 'Cc1ccc(C(=O)N[C@@H](C)c2ccc3c(c2)CCCC3)c(=O)n1C', 'COc1ccc(N2CCCCC2)cc1NC(=O)Cc1ccccc1', 'O=C(CCCc1ccccc1)N[C@@H]1COC[C@H]1Cc1ccncc1', 'O=[N+]([O-])c1ccc(/C=N/[C@H]2[C@H]3CCC[C@@H]2C2=C(CCCC2)C3)cc1', 'CC/C(=N/N=C(/CC)c1ccc(C)cc1O)c1ccc(C)cc1O', 'C[C@]12C=C(Cl)[C@H](O)C[C@@H]1CC[C@@H]1[C@@H]2CC[C@]2(C)[C@@H](O)CC[C@@H]12', 'Cc1ccc(N2CCN(C(C(=O)O)c3cccc(C)c3)CC2)cc1', 'CCOC(=O)Cc1ccc(N2CCc3cc(C)ccc3C2)cc1N', 'CCC(=O)c1ccc2c(c1)Oc1ccccc1N2CCCN(C)C', 'CC(=O)N(CCCc1ccccc1)CCNC(=O)c1ccccc1', '[2H]c1cc([Si](O)(c2cc([2H])c(C)c([2H])c2)c2cc([2H])c(C)c([2H])c2)cc([2H])c1C', 'Cc1ccc(C2(NC(=O)Nc3ccccc3OC(C)C)CC2)cc1', 'COc1ccc(NC(=O)CN(Cc2ccc(C)cc2)C2CC2)cc1', 'C.COOCc1[nH]c(Cc2ccccc2)nc1-c1ccc(C)cc1', 'CCOc1ccccc1C(=O)N1CCN(c2ccccc2C)CC1', 'CCN(CC)c1ccc(C=CC2=[NH+]c3nonc3NC(C)=C2)cc1', 'O=C(c1cc(-c2ccccc2)no1)C1CCCCC1N1CCCC1', 'COC(=O)[C@@H](N[C@@H](C)c1ccc2c(c1)CCCC2)c1cccnc1', 'CC(C)NC(=O)CC1COc2ccccc2N1Cc1ccccc1', 'CC(=O)N(CC(=O)N(C)c1ccccc1)c1ccc(C(C)C)cc1', 'Cc1cc([C@@H](C)NC(=O)NCCC2(C)OCCO2)cc(C)c1F', 'CCCCCCCCCCCc1cc(OC)cc(C(=O)Cl)c1', 'C[C@H]1CC=C(c2ccc3ncccc3c2)N(C(=O)OC(C)(C)C)C1', 'CCC(CO)N1CCN(C(C(=O)OC)c2ccccc2F)CC1', 'O=C(NC1CCCCCC1)c1cccn(Cc2ccccc2)c1=O', 'CCCC(=O)NC1CCN(C(=O)c2cccc3ccccc23)CC1', 'CN(C(=O)CCC1CCNC1)c1ccc(Oc2ccccc2)cc1', 'CCc1cccc(C)c1Nc1ccc(NC(=O)C2CCCO2)cc1', 'CC(O)C1CCN(C(=O)c2cc(C3CC3)nc3ccccc23)CC1', 'CN1CCNCC1CNc1nc(-c2cn[nH]c2)cc2nccnc12', 'C[C@H](CCO)NC(=O)NCC1(c2cccc(F)c2)CCOCC1', 'COc1cc2c(cc1OC)[C@H](c1ccccc1)N1CCNC[C@@H]1C2', 'CC=C1CN2[C@H]3C[C@H]1[C@@H](CO)[C@@H]2Cc1c3[nH]c2ccc(OC)cc12', 'CN(Cc1cccc(C(=O)Nc2ccccc2)c1)CC(O)C1CC1', 'CC1(C)C[C@@]1(CNC(=O)c1onc2c1CCCC2)c1ccccc1', 'C/C(=N/NC(=O)[C@@H](O)c1ccccc1)c1ccc(C(C)(C)C)cc1', 'COCCC(=O)N1CCN(c2cccc(CO)c2F)CC1(C)C', 'Cc1cccc(COc2cccc(C(=O)N(C)C3CCNC3)c2)c1', 'CCc1ccc(NC(=O)CN(C(C)=O)c2ccc(C)c(C)c2)cc1', '[C-]#[N+]c1c(NCCc2ccn(CC)n2)nc2c(C)c(C)nn2c1N', 'Cn1ncc2c(NC34CC(C#N)(C3)C4)nc(NCC3(N)CC3)nc21', 'Cc1cccc(NC(=O)N2CCC(C(O)c3ccccc3)CC2)c1', 'Cc1ccccc1[C@H]1CCCN(C(=O)CCn2ccccc2=O)C1', 'C=C(C)COc1ccccc1NCC(=O)NC(C)c1ccccc1', 'CC(C)c1ccc(/C=N\\\\OCC(=O)N[C@@H](C)c2ccccc2)cc1', 'Cc1cccc(C=NNC(=O)COc2cc(C)ccc2C(C)C)c1', 'O=C(CCOc1ccccc1)N1CCCC(Cc2cccnc2)C1', 'CCOC(=O)NC(CNC(=O)Cc1ccc(F)cc1)CC(C)C', 'Cc1cccc(COc2cccc(C(=O)N3CCNCC3C)c2)c1', 'COc1ccc(C)cc1N1CCN(C(=O)c2ccccc2C)CC1', 'Cc1cc(=O)cc(C(=O)N2CCCC(C)(c3ccccc3)C2)n1C', 'COC(=O)[C@H]1CN(Cc2ccccc2)CCN1Cc1ccccc1', 'O=C(NCCCOCc1ccccc1)C1CNc2ccccc2C1', 'Cc1cccc(C)c1OCCNC(=O)N1c2ccccc2CC1C', 'c1cc2c3c(cncc3c1)CCN2C1CCC(C2OCCO2)CC1', 'Cc1ccccc1C(CNC(=O)C1CCCO1)Cc1cccnc1', 'CCC(=O)Nc1ccccc1C(=O)N(C)Cc1ccc(C)cc1C', 'CC(C)(C)OC(=O)N1CCC(CNc2ccc(O)c(F)c2)CC1', 'O=C(Nc1ccc(CCO)cc1)c1cccc(CN2CCCC2)c1', 'COCC1(CC(=O)N(C)C)CN(Cc2ccccc2F)CCO1', 'Cc1ccc(C)c(OCNC(=O)N2CCc3ccccc3C2)c1C', 'CC(C)CN1C(=O)C2(CCN(Cc3ccoc3)C2)c2ccccc21', 'CCC(Oc1ccc(F)cc1)C(=O)NCCCN1CCOCC1', 'Cc1ccccc1COc1cccc(NC(=O)CC2CCCN2)c1', 'CC1[C@H](C)CCC[C@@H]1NC(=O)c1cc2oc3ccccc3c2n1C', 'CO[C@H]1CCN(C(=O)c2ccccn2)C[C@@H]1Cc1cccc(C)c1', 'COc1cccc2c1N=C1CCC34CCOC3CCN3CCC12C34', 'Cc1ccc([C@H](C)C(=O)N2CCC(O)(c3ccccn3)CC2)cc1', 'CCC1=C(CC(=O)OC)C=CN(CCc2c[nH]c3ccccc23)C1', 'CNCCC=C1c2ccccc2CCc2ccccc21.NC(=O)O', 'C[C@@]1(c2ccccc2)C[C@H]1C(=O)NCC(N)Cc1ccc(O)cc1', 'CCCOc1ccc(F)c(COC(=O)N2[C@H](C)CNC[C@@H]2C)c1', 'CCCOc1c(CN2C[C@H](F)C[C@H]2C(N)=O)cccc1OCC', 'CC(C)n1c(=O)[nH]c2c(c1=O)C1(CCCCC1)Cc1ccccc1-2', 'CC1(C)NC2CC3(O)C(=Nc4ccccc43)C3(C)CCC1C(=O)C23', 'O=C(NCCc1ccc(O)cc1)C1CCN(Cc2ccccc2)C1', 'CC[C@@H](O)c1nc2ccccc2n1CCOc1ccc(C)cc1C', 'C=C[C@@H](c1ccc(OCc2ccccc2)cc1O)N1CCNCC1', 'COc1ccc(NC(=O)C2CCNCC2)cc1Cc1ccccc1', 'CNC(=O)c1ccc(OCC2CNCCC2c2ccccc2)cc1', 'Nc1c(N)c(N)c2c(c1N)-c1c(N)c3c(c(N)c1C2(N)N)C=CC3', 'CC.[H]/N=c1\\\\c(=C)[nH]c2ccc(C(F)(F)F)cc2\\\\c1=C\\\\C(C)CC', 'CON(C)C(=O)C1(N(Cc2ccccc2)Cc2ccccc2)CC1', 'Cc1noc(C)c1-c1cccc2oc(CCN3CCC[C@H]3C)cc12', 'CC(C)(C)C(=O)NCC(=O)N(Cc1ccccc1)c1ccccc1', 'COc1cccc(CCC(=O)NC2CCCc3cc(N)ccc32)c1', 'CC(C)c1ccc(/C=N\\\\O[C@@H](C)C(=O)NCc2ccccc2)cc1', 'CCN(C(=O)COc1ccnc2c1CCCC2)c1cccc(C)c1', 'C/N=C(/NCc1cccc(-c2ncn[nH]2)c1)NCc1ccnn1C', 'CC(=O)NC(CC[C@H](CN)c1ccccc1F)C(=O)OC(C)C', 'CC1(C)CCN(C2(CN)CCC(C(F)(F)F)CC2)CCS1', 'CCC(O)CCNC(=O)C(NC(=O)c1ccc(F)cc1)C(C)C', 'NCCCCc1ccccc1.NCc1ccc(C(F)(F)F)cc1', 'O=C(CCOc1ccccc1)N1CCCC(Nc2ccccc2)C1', 'COC(=O)[C@@H]1N[C@H](c2ccccc2)N(C(C)C)[C@@H]1c1ccccc1', 'C/C1=C/[C@H]2OC(=O)/C(=C/c3ccc(N)nc3)[C@H]2CC/C(C)=C\\\\CC1', 'O=C(c1ccccc1)C(O)CCN1CCN(c2ccccc2)CC1', 'CC(=NNC(=O)c1ccc(C)o1)c1ccc(C2CCCCC2)cc1', 'CC(NC(=O)C1CCC(N)C1)c1ccc(Oc2ccccc2)cc1', 'COc1ccc([C@@H](C/N=C/c2ccccc2O)N2CCCC2)cc1', 'Cc1cccc(NC(=O)c2ccccc2NC(=O)C(C)(C)C)c1C', 'COc1ccccc1NC(=O)N1CCC(Cc2ccccc2)CC1', 'Cc1cccc(CNc2cccc(C(=O)N3CCC[C@@H](O)C3)c2)c1', 'Cc1ccc(CNC(=O)C(C)C2CNC2)c(Oc2ccccc2)c1', 'CC[C@@]12C[C@H]3CN(C1)[C@@H](C2)[C@@H](c1ccnc2ccc(OC)cc12)O3', 'COc1ccccc1C1CNCCN1C(=O)Cc1ccc(C)cc1', 'Cc1cccc(-c2ccccc2NC(=O)OC[C@H]2CCCN2C)c1', 'O=C(CN1CCCCCC1=O)NCCc1ccc2ccccc2c1', 'CCC(CNC(=O)N1CCC(OC)CC1)Oc1ccccc1F', 'CCc1ccccc1NC(=O)c1ccc(C(=O)N(CC)CC)cc1', 'CCCN1CCCC1C(=O)NCC(O)COc1ccc(F)cc1', 'COc1cccc(CC(C)NC(=O)N2CC(C)c3ccccc32)c1', 'Cc1cccc(C)c1NC(=O)c1cccc(C(=O)NCC(C)C)c1', 'CCC(C)/C(C)=N/NC(=O)c1ccc(COc2ccccc2)cc1', 'COc1ccc(C(=O)Nc2ccc(C3(CN)CCCC3)cc2)cc1', 'CO[C@H]1CCN(C(=O)c2cncc(C)c2)C[C@H]1Cc1ccccc1', 'COc1ccc(C2=N[C@@H](C(C)C)N[C@H](c3ccccc3O)C2)cc1', 'Cc1noc(C)c1-c1ccc2c(c1)C(C1CCCCC1)N(C)C2=O', 'COc1ccc(CNc2c3c(nc4c2CCC4OC)CCC3)cc1', 'Cc1cccc(OCCCn2c(CCO)nc3ccccc32)c1C', 'CCC(=NNC(=O)COc1ccccc1C(C)C)c1ccccc1', 'CCc1cnccc1NC(=O)C1(c2ccc(C)cc2)CCOCC1', 'C=CC(=O)NCc1ccccc1C(=O)N1C2CCCC1CC(=C)C2', 'CCc1cccc(CC)c1N(CC(=O)Nc1ccccc1)C(C)=O', 'COc1ccc(C(=O)NC2CCCN(Cc3ccccc3)C2)cc1', 'COc1ccc(N(C)c2ccccc2C(=O)N2CCCCC2)cc1', 'c1cc(N2CCN(c3nc4c5c(n3)NNC5CCN4)CC2)ccn1', 'CO[C@H]1CCN(C(=O)c2cc(C)ccn2)C[C@H]1Cc1ccccc1', 'Cc1ccccc1COc1cccc(CC(=O)N2CCNCC2)c1', 'COc1cccc2ccn(CCC(=O)NCC3CC4C=CC3C4)c12', 'COC(=O)C(CC1=CC(=C(C=C1)O)O)OC(=O)C=CC2=C3C(C(OC3=C(C=C2)O)C4=CC(=C(C=C4)O)O)C(=O)OC(CC5=CC(=C(C=C5)O)O)C(=O)OC', 'COc1cc(CC(OC(=O)C2c3c(C=CC(=O)OC(Cc4ccc(O)c(O)c4)C(=O)O)ccc(O)c3OC2c2ccc(O)c(OC)c2)C(=O)O)ccc1O', 'N#Cc1ccc2c(c1)Sc1ccccc1N2c1ccc2c(c1)C1(c3ccccc3O2)c2cccnc2-c2ncc(-n3c4ccccc4c4cc(C#N)ccc43)cc21', 'CCCCCCCCCC(CCC(F)(F)C(F)(F)C(F)(F)C(F)(F)C(F)(F)C(F)(F)F)OP(=O)(O)OC[C@H]1O[C@H](O)[C@@H](O)[C@@H](O)[C@@H]1O', 'c1cc(-c2ccc3c4ccccc4c4ncc(-c5cccc(-c6cccc7c6sc6ccccc67)c5)nc4c3c2)cc(-c2cccc3c2sc2ccccc23)c1', 'O=C(O)c1ccc(CCCc2c(CCNS(=O)(=O)c3ccccc3OC(F)(F)F)n(C(c3ccccc3)c3ccccc3)c3ccc(Cl)cc23)cc1', 'CC(C)(C)c1cccc(-n2c3ccccc3c3ccc(Cl)cc32)c1.CC(C)(C)c1cccc(Br)c1.Clc1ccc2c(c1)[nH]c1ccccc12', 'COC(=O)C(Cc1ccc(O)c(O)c1)OC(=O)C=CC1=CC2C3c4cc(O)c(O)cc4C2(O)C(=O)C1C3C(=O)OC(Cc1ccc(O)c(O)c1)C(=O)OC', '[C-]#[N+]c1ccc2c(c1)c1cc([N+]#[C-])ccc1n2-c1cccc2c1C1(c3ccc(N4c5ccccc5Sc5ccccc54)cc3O2)c2cccnc2-c2ncccc21', 'O=S(=O)(OC[C@H]1O[C@H](O[C@]2(CO)O[C@H](CO)[C@@H](O)[C@@H]2O)[C@H](O)[C@@H](O)[C@@H]1O)OC[C@H]1O[C@H](O[C@]2(CO)O[C@H](CO)[C@@H](O)[C@@H]2O)[C@H](O)[C@@H](O)[C@@H]1O', 'CC[C@H](C)[C@H](NC(=O)[C@@H](N)Cc1ccc(OS(=O)(=O)O)cc1)C(=O)N[C@@H](Cc1ccc(OS(=O)(=O)O)cc1)C(=O)N[C@@H](CCC(=O)O)C(=O)O', 'CC1(C)C=C(NS(=O)(=O)c2ccccc2)C(c2ccc(Cl)cc2)=C1.CCC1(CC)C=C(NS(=O)(=O)c2ccccc2)C(c2ccc(Cl)cc2)=C1', 'c1ccc2c(c1)-c1ccc(-c3nc4ccccc4s3)cc1C21c2ccccc2C2(c3ccccc3-c3ccc(-c4nc5ccccc5s4)cc32)c2ccccc21', 'O=S(=O)(O)O[C@H]1[C@H](O)[C@@H](O)[C@@H](O)O[C@@H]1CO[C@H]1O[C@H](CO[C@H]2O[C@H](CO[C@H]3O[C@H](CO)[C@@H](O)[C@H](O)[C@H]3O)[C@@H](O)C(O)[C@H]2O)[C@@H](O)[C@H](O)[C@H]1O', 'CC(C)[OH+]c1ccccc1C=[Ru](Cl)Cl.CC(C)c1cccc(C(C)C)c1N1[CH-]C2C(F)=CC=CN2C1c1cccc2ccccc12', '[C-]#[N+]c1ccc2c(c1)c1cc([N+]#[C-])ccc1n2-c1cccc2c1C1(c3ccccc3S2)c2cccnc2-c2ncc(N3c4ccccc4Oc4ccccc43)cc21', 'C=Cc1ccc(-c2cccc3c(CS(C)(=O)=O)nn(C)c23)c([C@H](Cc2cc(F)cc(F)c2)NC(=O)Cn2nc(C(F)(F)F)c3c2C(F)(F)[C@@H]2C[C@H]32)n1', 'C[C@@H]1S[C@@H]2[C@H](NC(=O)/C(=N\\\\OC(C)(C)C(=O)O)c3csc(N)n3)C(=O)N2C(C(=O)O)=C1C[N+]1(CCn2oc3cc(O)c(O)cc3c2=O)CCCC1', 'Cc1ccc2c(c1)C(=O)C(=O)/C2=C\\\\C1=CC2=C(c3sc4cc(/C=C5\\\\C(=O)C(=O)c6cc(C(F)(F)F)ccc65)sc4c3C23CCCCC3)C12CCCCC2', 'CC(C)(C)OC(=O)C1=C(CN2CCN(c3nc(=O)c4cc(C(F)(F)F)cc([N+](=O)[O-])c4s3)CC2)CS[C@@H]2[C@H](NC(=O)Cc3ccccc3)C(=O)N12', 'CC(C)=CC=[Ru](Cl)Cl.Cc1cc(C)c(C2CNC(=C3CC=CC=C3P(C)c3ccccc3)N2c2c(C)cc(C)cc2C)c(C)c1', 'COc1ccccc1CC(=O)OCC1=C(c2ccc(CCCOc3ccccc3Br)cc2)C[C@@H]2CN(C(C)=O)C[C@H]1N2.O=C(O)C(F)(F)F', 'CCOC(=O)[C@@H](Cc1ccc(O)c(O)c1)OC(=O)/C=C/c1ccc(O)c2c1[C@H](C(=O)O[C@H](Cc1ccc(O)c(O)c1)C(=O)O)[C@@H](c1ccc(O)c(O)c1)O2', 'CCCCC(CC)Cn1c2c3sc(C=O)c(C)c3sc2c2c3nsnc3c3c4sc5c(C)c(C=O)sc5c4n(CC(CC)CCCC)c3c21', 'C[C@@]1(c2cc(Cc3ncnc4cc(Cl)cnc34)cnc2F)C[C@@H](C(F)(F)F)OC(N)=N1.C[C@@]1(c2cc(N)cnc2F)C[C@@H](C(F)(F)F)OC(N)=N1', 'CCOC(=O)c1c(CCCOc2cccc3cc(F)ccc23)c2ccc(Cl)c(-c3c(CC)nn(C)c3CBr)c2n1CCCCNC.Cl', 'N#Cc1ccc2c(c1)c1cc(C#N)ccc1n2-c1cccc2c1C1(c3ccccc3S2)c2cccnc2-c2ncc(N3c4ccccc4Oc4ccccc43)cc21', 'O=P(O)(O)OC[C@H]1O[C@@H](O[C@H]2[C@H](O)[C@H](O)[C@@H](O)O[C@@H]2CO)[C@H](O)[C@@H](O[C@@H]2O[C@H](CO)[C@H](O)[C@H](O[C@@H]3O[C@H](CO)[C@@H](O)[C@H](O)[C@H]3O)[C@H]2O)[C@H]1O', 'O=C(OC[C@H]1O[C@@H](n2cnc3c(Cl)ncnc32)C[C@H](OC(=O)c2ccccc2)[C@@H](OC(=O)c2ccccc2)[C@@H]1OC(=O)c1ccccc1)c1ccccc1', 'O=C(OC1CCN(CCCn2c(=O)sc3cc(CNC[C@H](O)c4ccc(O)c5[nH]c(=O)ccc45)ccc32)CC1)C(O)(c1cccs1)c1cccs1', 'COC(=O)c1ccc2c(c1)-c1nc3nc(nc4[nH]c([nH]c5nc(nc-2n1)-c1cc(C(=O)OC)ccc1-5)c1cc(C(=O)OC)ccc41)-c1cc(C(=O)OC)ccc1-3', 'O=C(O)c1ccc(OCCc2c(CCNS(=O)(=O)Cc3ccc(C(F)(F)F)cc3)n(C(c3ccccc3)c3ccccc3)c3ccc(Cl)cc23)cc1', 'C=Cc1c(/C=C\\\\C)sc2ccc(N(c3ccc4c(c3)sc3ccccc34)c3cccc4sc5c(N(c6ccccc6)c6ccccc6)cccc5c34)cc12', 'c1cc(-c2cc(-c3cccc4c3sc3ccccc34)cc(-c3cccc4c3sc3ccccc34)c2)cc(-c2cnc3c4ccccc4c4ccccc4c3n2)c1', 'CC(=O)OC[C@H]1O[C@H](O[C@H]2[C@H](OC(C)=O)[C@@H](OC(C)=O)[C@H](Oc3ccc(Cl)cc3)O[C@@H]2COC(C)=O)[C@H](OC(C)=O)[C@@H](OC(C)=O)[C@@H]1OC(C)=O', 'C#Cc1ccc(F)cc1.CN1CCn2c(nc3cc(Br)ccc3c2=O)C1.CN1CCn2c(nc3cc(C#Cc4ccc(F)cc4)ccc3c2=O)C1', 'COC(=O)C(Cc1ccc(O)c(O)c1)OC(=O)/C=C/C1=C[C@H]2[C@@H]3c4cc(O)c(O)cc4[C@@]2(O)C(=O)[C@H]1[C@@H]3C(=O)OC(Cc1ccc(O)c(O)c1)C(=O)OC', 'C1=Cc2c(oc3ccc(-c4ccc(-c5ccc6oc7c(ccc8c9cc(-c%10ccccc%10)ccc9oc87)c6c5)cc4)cc23)S2=C1c1cc(-c3ccccc3)ccc12', 'CC(C)Oc1cc(C(=O)NS(=O)(=O)N2CCCCC2)cc2sc(N3CCC(NCc4c(-c5c(Cl)cccc5Cl)noc4C4CC4)CC3)nc12', 'CC(=O)OC(C)C1C2=C(C(=O)CC1(C)O)C(=O)c1c(ccc(-c3ccc4c(c3O)C(=O)C35OC3(C(=O)O4)C(C(C)OC(C)=O)C(C)(O)CC5=O)c1O)C2=O', 'CN(C)C(=O)c1nn2c(c1Cl)CN(c1nc(S(C)=O)nc(N3CC4(CCc5sc(NC(=O)OC(C)(C)C)c(C#N)c54)C3)c1C#N)CC(F)(F)C2', 'CN1CCCC/C=C\\\\[C@@H]2C[C@@]2(C(=O)NS(=O)(=O)N(C)C)NC(=O)[C@@H]2C[C@@H](Oc3nc(-c4cc(Br)ccc4F)nc4c3CCC4)C[C@H]2C1=O', 'O=P(O)(O)OC[C@H]1O[C@H](O[C@@H]2[C@@H](O[C@@H]3C(O)O[C@H](CO)[C@@H](O)[C@@H]3O)O[C@H](CO)[C@@H](O)[C@@H]2O)[C@@H](O[C@H]2O[C@H](CO)[C@@H](O)[C@H](O)[C@@H]2O)[C@@H](O)[C@@H]1O', 'c1ccc2c(c#1)sc1c(N(c3ccccc3)c3ccc4ccc5c(N(c6ccccc6)c6cccc7c6sc6ccccc67)ccc6ccc3c4c65)cccc12', 'O=C([O-])c1ccc(-c2c3nc(c(-c4ccccc4)c4ccc([nH]4)c(-c4ccc(C(=O)[O-])cc4)c4nc(c(-c5ccccc5)c5ccc2[nH]5)C=C4)C=C3)cc1.[Na+].[Na+]', 'c1cc(-c2ccc3sc4ccccc4c3c2)cc(-c2ccc3c(c2)c2cc(-c4cccc(-c5ccc6sc7ccccc7c6c5)c4)ccc2c2nccnc32)c1', 'O=P(O)(O)OC[C@H]1O[C@@H](O[C@H]2[C@H](O)[C@H](O)C(O)O[C@@H]2CO)[C@H](O)[C@@H](O[C@@H]2O[C@H](CO)[C@H](O)[C@H](O[C@@H]3O[C@H](CO)[C@@H](O)[C@H](O)[C@H]3O)[C@H]2O)[C@H]1O', 'O=P(O)(OC1[C@H](O)[C@H](O)C(O)[C@H](O)[C@H]1O)O[C@@H]1[C@@H](O)[C@H](O)[C@@H](O)[C@H](O)[C@@H]1O[C@H]1O[C@H](CO)[C@@H](O)[C@H](O)[C@@H]1O[C@H]1O[C@H](CO)[C@@H](O)[C@H](O)[C@@H]1O', 'CC(C)(O/N=C(\\\\C(=O)N[C@@H]1C(=O)N2C(C(=O)O)=C(CN3[C@@H]4CC[C@H]3CC(NC(=O)c3ccc(O)c(O)c3O)C4)CS[C@H]12)c1nsc(N)n1)C(=O)O', 'c1ccc2c(c1)-c1ccccc1-c1cccc(-c3cc(-c4ccc5sc6ccncc6c5c4)cc(-c4ccc5sc6ccncc6c5c4)c3)c1-c1ccccc1-2', 'O=C(O)Cc1ccc2c(c1)-c1nc3nc(nc4[nH]c([nH]c5nc(nc-2n1)-c1cc(CC(=O)O)ccc1-5)c1cc(CC(=O)O)ccc41)-c1cc(CC(=O)O)ccc1-3', 'Nc1cc(N)c(/N=N/c2cccc(/N=N/c3cc(/N=N/c4ccc(S(=O)(=O)O[NH3+])cc4)c(N)cc3N)c2)cc1N=[N+]=C1C=CC(S(=O)(=O)O[NH3+])=C[CH+]1', 'COc1ccc(OC)c(C=Cc2ccc(N3C(=O)[C@H]4[C@H](CC=C5[C@H]4C[C@@]4(Cl)C(=O)N(C)C(=O)[C@@]4(Cl)[C@H]5c4c(O)cc(OC)cc4OC)C3=O)cc2)c1', 'CC(C)(C)c1ccc2c(c1)[cH-]c1cc(C(C)(C)C)ccc12.CC(C)=[Hf+2].Fc1cccc(-c2ccc[cH-]2)c1F.[Cl-].[Cl-]', 'COc1ccc(OC)c(C=Cc2ccc(N3C(=O)[C@H]4[C@H](CC=C5[C@H]4C[C@@]4(Cl)C(=O)N(C)C(=O)[C@@]4(Cl)[C@H]5c4cc(OC)c(O)c(OC)c4)C3=O)cc2)c1', 'O=C(O[C@H](Cc1ccc(Br)c(Br)c1)C(=O)N1CCN(C2CCNCC2)CC1)N1CCC(N2CCc3ccccc3NC2=O)CC1.[H][H]', 'Cn1c(Nc2ccc3cc(OC[C@H](O/N=C(\\\\C(=O)N[C@@H]4C(=O)N(OS(=O)(=O)[O-])C4(C)C)c4csc(N)n4)C(=O)O)ccc3n2)cc[n+]1CCCN', 'CCCC[C@H]([C@@H](C)N(S(=O)(=O)c1ccc(C)cc1)S(=O)(=O)c1ccc(C)cc1)N(S(=O)(=O)c1ccc(C)cc1)S(=O)(=O)c1ccc(C)cc1', 'CC1(C)C(C=CC=C2N(CCCCS(=O)(=O)[O-])c3ccc(Cl)cc3C2(C)C)=[N+](CCCCS(=O)(=O)O[n+]2ccccc2)c2ccc(Cl)cc21', 'COC(=O)[C@H](Cc1ccc(O)c(O)c1)OC(=O)C1=Cc2ccc(O)c(O)c2[C@@H](C(=O)O[C@H](Cc2ccc(O)c(O)c2)C(=O)OC)[C@H]1c1ccc(O)c(O)c1', 'COc1cccc(Br)n1.[C-]#[N+]c1cc(F)cc(N2CC3CC3(C#C)C2)c1.[C-]#[N+]c1cc(F)cc(N2CC3CC3(C#Cc3ncccc3OC)C2)c1', 'COC(=O)[C@@H](Cc1ccc(O)c(O)c1)OC(=O)/C=C/c1ccc(O)c2c1[C@@](C(=O)O)([C@@H](Cc1ccc(O)c(O)c1)C(=O)OC)[C@H](c1ccc(O)c(O)c1)O2', '[C-]#[N+]c1ccc2c(c1)c1ccccc1n2-c1cccc2c1Oc1c(N3c4ccccc4Sc4cc(C#N)ccc43)cccc1C21c2cccnc2-c2ncccc21', 'O=P(O)(OC[C@H]1O[C@H](O[C@]2(CO)O[C@H](CO)[C@@H](O)[C@@H]2O)[C@H](O)[C@@H](O)[C@@H]1O)OC[C@H]1O[C@H](O[C@]2(CO)O[C@H](CO)[C@@H](O)[C@@H]2O)[C@H](O)[C@@H](O)[C@@H]1O', 'Cc1ccc2c(n1)oc1c(-c3nccc4c(C)csc34)[c-]ccc12.[CH2-]c1cc(C)ccc1-c1cc(C)c(C)c[n+]1[CH2-].[Ir+3]', 'CN1CCCC/C=C\\\\[C@H]2C[C@@]2(C(=O)NS(=O)(=O)N(C)C)NC(=O)[C@@H]2C[C@@H](Oc3nc(-c4cc(Br)ccc4F)nc4c3CCC4)C[C@H]2C1=O', 'COC(=O)c1cc(CO)cc(NC(=S)CCC2Cc3cc(OCc4ccccc4)ccc3N2C(=O)COc2cc(C(F)(F)F)cc(C(F)(F)F)c2)c1', 'c1ccc2c3c(sc2c#1)C(c1ccccc1)=NC(c1cc(-c2ccccc2)cc(-n2c4cc5sc6ccccc6c5cc4c4ccc5ccccc5c42)c1)=CC3', 'N#Cc1cccc(S(=O)(=O)N2c3ccc(CN4CCN(CC(=O)N5CCOCC5)CC4)c(=O)n3[C@H](c3ccc(Cl)cc3)[C@@H]2c2ccc(Cl)cc2)c1', 'N#Cc1ccc2c(c1)c1cc(C#N)ccc1n2-c1ccc2c(c1)Oc1cc(N3c4ccccc4Sc4ccccc43)ccc1C21c2cccnc2-c2ncccc21', 'c1ccc2c(c1)-c1ccccc1-c1ccc(-c3cc(-c4cccc5c4sc4cnccc45)cc(-c4cccc5c4sc4cnccc45)c3)cc1-c1ccccc1-2', 'C1=C/C(=C(\\\\c2ccccc2)c2ccc[n-]2)N=C1.Cc1[c-]c(-c2cc3c4c(cccc4n2)-c2ccccc2C3=O)cc(C)c1.[Ir]', 'C[Si](C)(C)CC1=CC(Cc2cccc3cccc(CC4=CC(C[Si](C)(C)C)c5ccccc54)c23)c2ccccc21.Cl[Zr+2]Cl.[CH3-].[CH3-]', 'c1ccc2c(c1)-c1ccc(OCCOCCOCCOCCOCCOc3ccc4c(c3)C3(SCCS3)c3ccccc3-4)cc1C21SCCS1', 'COc1ccc(OC)c(C=Cc2ccc(N3C(=O)C4CC=C5C(CC6(Cl)C(=O)N(C)C(=O)C6(Cl)C5c5c(OC)cc(O)cc5OC)C4C3=O)cc2)c1', 'O=C1c2ccc3c4c(-c5c(O)c(=O)c5=O)cc5c6c(ccc(c7c(-c8c(O)c(=O)c8=O)cc(c2c37)C(=O)N1C1CCCCC1)c64)C(=O)N(C1CCCCC1)C5=O', 'CN(C)CCCN1CCN(C(=O)[C@@H](Cc2cc(Br)c(N)c(Br)c2)NC(=O)N2CCC(N3Cc4ccccc4NC3=O)CC2)CC1', 'c1cc(-c2ccncc2)c2sc3c(-c4ccc5c6ccccc6c6ccc(-c7cccc8c7sc7c(-c9ccncc9)cccc78)cc6c5c4)cccc3c2c1', 'c1ccc(N(c2ccccc2)c2ccc3c(c2)Sc2cc(N(c4ccccc4)c4ccccc4)ccc2[Ge]3(c2ccccc2)c2ccccc2)cc1', 'CC(=O)OC(C)[C@H]1[C@@](C)(O)CC(=O)[C@]23O[C@]12C(=O)Oc1ccc(-c2ccc4c(c2O)C(=O)C2=C(C4=O)[C@@H]([C@H](C)OC(C)=O)[C@@](C)(O)CC2=O)c(O)c1C3=O', 'c1ccc2c(c1)-c1ccccc1-c1cccc(-c3cc(-c4cccc5c4sc4cnccc45)cc(-c4cccc5c4sc4ccncc45)c3)c1-c1ccccc1-2', 'COc1ccc(F)cc1[C@H](Cn1c(=O)n(C(C)(C)C(=O)CS(=O)(=O)C2(C)CC2)c(=O)c2c(C)c(-c3ncsn3)sc21)OC1C[C@H]2CC[C@@H](C1)O2', 'COc1cccc(OC)c1C(=O)P(=S)(c1ccccc1)c1ccccc1.Cc1cc(C)c(C(=O)P(=S)(c2ccccc2)c2ccccc2)c(C)c1', 'C#Cc1cccc(N2C(=O)c3ccc(C(=O)Nc4ccc(Oc5ccc(NC(=O)c6ccc7c(c6)C(=O)N(c6cccc(C#C)c6)C7=O)cc5)cc4)cc3C2=O)c1', 'O=C1C(=O)c2ccccc2/C1=C/c1cc2c(s1)-c1cc3c(cc1OC21CCCCC1)-c1sc(/C=C2\\\\C(=O)C(=O)c4ccccc42)cc1C1(CCCCC1)O3', 'c1cc(-c2ccc(-c3cccc4c3sc3c(-c5cccc6c5sc5ccccc56)cccc34)cc2)cc(-c2cnc3c4ccccc4c4ccccc4c3n2)c1', 'c1ccc2c(c1)-c1ccccc1-c1ccc(-c3cc(-c4ccc5sc6ccncc6c5c4)cc(-c4ccc5sc6ccncc6c5c4)c3)cc1-c1ccccc1-2', 'O=C(OCC(C(F)(F)F)S(=O)(=O)[O-])C1CCCCC1C(=O)OC1C2CC3C(=O)OC1C3C2.c1ccc([S+](c2ccccc2)c2ccccc2)cc1', 'COC(=O)C1CCC(c2ccc(Cl)c(-c3cnc(N4CC(F)(F)C4)nc3CN3C(=O)O[C@H](c4cc(C(F)(F)F)cc(C(F)(F)F)c4)[C@@H]3C)c2)CC1', 'O=CCOc1cccc2c1-c1nc3nc(nc4[nH]c(nc5[nH]c(nc-2n1)c1c(OCC=O)cccc51)c1c(OCC=O)cccc41)-c1c(OCC=O)cccc1-3', 'c1ccc(-n2c3ccccc3c3cc(-c4cc5c6ccccc6n(-c6ccc7sc8cc9c(cc8c7c6)sc6ccccc69)c5c5ccccc45)ccc32)cc1', 'C/C=C/[C@@H](O[Si](C)(C)C(C)(C)C)C(C)(C)[C@H](C/C=C\\\\[C@H]1C[C@H]1/C=C/C=C\\\\c1nc(C(=O)OC)cs1)OC(=O)c1csc(/C=C\\\\Br)n1', 'c1cncc(-c2cccc3c2sc2c(-c4ccc5c6ccccc6c6ccc(-c7cccc8c7sc7c(-c9cccnc9)cccc78)cc6c5c4)cccc23)c1', 'COc1cc(/C=N\\\\NC(=O)CCCCCCC(=O)N/N=C\\\\c2ccc(OC(=O)c3ccc(Cl)cc3)c(OC)c2)ccc1OC(=O)c1ccc(Cl)cc1', 'C=CCOc1c(Br)cc2cc1Oc1ccc(cc1[N+](=O)[O-])C[C@@H](NC(=O)[C@H](C)NC(=O)OC(C)(C)C)C(=O)N[C@@H](C)C(=O)N[C@H]2C(=O)NC', 'CC1Cc2cc(Cl)ccc2C2N3C(=NC2(C)c2ccc(Cl)nc2)SC(C(=O)N2C(C(=O)N4CCN(C(=O)C(F)(F)F)C5(CC5)C4)CC[C@H]2C)=C13', 'c1cc(-c2cccc(-c3cccc4c3sc3c(-c5cccc6c5sc5ccccc56)cccc34)c2)cc(-c2ncc3c4ccccc4c4ccccc4c3n2)c1', 'COCCNc1nc2nc([C@H](Cc3cc(F)cc(F)c3)NC(=O)Cn3nc(C(F)F)c4c3C(F)(F)[C@@H]3C[C@H]43)c(-c3ccc(F)c(C(C)=O)c3)cc2s1', 'Cc1nc(-c2ccc3c(c2)OC(F)(F)O3)c(-c2cc(-c3cc(F)c(CO)c(S(C)(=O)=O)c3)ccc2-c2cc(C(F)(F)C(=O)NC(C)(C)C)nn2C)o1', 'COc1cc(/N=N/c2ccc(C=Cc3ccc([N+](=O)[O-])cc3S(=O)(=O)O)cc2)c(CO)cc1/N=N/c1ccc2cc(NOc3ccccc3)ccc2c1O', 'c1ccc(-c2c(-c3cccc4c3sc3ccccc34)cccc2-c2cccc3c2sc2ccccc23)c(-c2cnc3c4ccccc4c4ccccc4c3n2)c1', 'CCCCCCCCCCCCOC(=O)C(CC(=O)[O-])S(=O)(=O)O.O=C([O-])CN(CCN(CC(=O)[O-])CC(=O)O)CC(=O)[O-].[Na+].[Na+].[Na+].[Na+]', 'c1ccc2c(-n3c4ccccc4c4c3ccc3c5ccccc5n(-c5ccc6sc7c(-c8cccc9c8sc8ccccc89)cccc7c6c5)c34)cccc2c1', 'CC(=O)/C=C(/C)O.Cc1cc(C)c(-c2c(-c3cc(N(C)C)ccn3)[c-]c(C(F)(F)F)cc2C(F)(F)F)c(C)c1.[Pt]', 'O=C(Nc1c(C/C=C2\\\\OC(=O)c3ccccc32)cccc1C(=O)O)C(=Cc1ccccc1)C(=O)Nc1c(C/C=C2\\\\OC(=O)c3ccccc32)cccc1C(=O)O', 'O=C(O)/C=C/C(=O)O.O=C(O)/C=C/C(=O)O.O=C(c1cccc(C(F)(F)F)c1)N1c2cc(Cl)ccc2OCC1CCNCC1Cc2ccccc2C1', '[C-]#[N+]C1=C(c2ccc(C)cc2)/C(=C(/C#N)c2ccc([N+]#[C-])cc2)c2c(C#N)c3c(c(C#N)c21)C(C#N)=C(c1ccc(C(F)F)cc1)/C3=C(/[N+]#[C-])c1ccc(C#N)cc1', 'CS(=O)c1cccc(-c2ncc3c(n2)CN(C(=O)c2cc(CN4C(=O)[C@@](CCCC(F)(F)F)(c5ccc(F)cc5)N=C4N)ccc2C(F)(F)F)C3)c1', 'O=S(=O)(O)O[C@@H]1[C@H](O)[C@@H](O)[C@@H](OC[C@H]2O[C@H](O[C@H]3[C@@H](O[C@]4(CO)O[C@H](CO)[C@@H](O)[C@@H]4O)O[C@H](CO)[C@@H](O)[C@@H]3O)[C@H](O)[C@@H](O)[C@H]2O)O[C@@H]1CO', 'N#Cc1ccc2c(c1)c1cc(C#N)ccc1n2-c1cnc2c(c1)C1(c3ccccc3Oc3c(N4c5ccccc5Sc5ccccc54)cccc31)c1cccnc1-2', 'c1ccc2c(c1)ccc1c2c2cc3sccc3cc2n1-c1ccc(-c2ccc(-n3c4ccc5ccccc5c4c4c5sccc5c5ccccc5c43)cc2)cc1', 'NC(Cc1ccccc1)C(=O)[O-].NC(Cc1ccccc1)C(=O)[O-].NC(Cc1ccccc1)C(=O)[O-].NC(Cc1ccccc1)C(=O)[O-].[Zr+4]', 'CC(C(=O)O)[Sn](C)(C)C.CCC(C)=C(O[Si](C)(C)C)O[Si](C)(C)C.C[Sn](C)(C)OC1=CCCCC1', 'CCOC(=O)C1=C(c2ccccc2)N=c2s/c(=C\\\\c3cc(Cl)c(OCc4cccc5ccccc45)c(OC)c3)c(=O)n2[C@@H]1c1ccc(OC)c(OC)c1', 'Cc1ccc2c(c1)/C(=C/c1cc3c(s1)C1=C(c4sc(/C=C5\\\\C(=O)C(=O)c6ccc(C(F)(F)F)cc65)cc4C14CCCCC4)C31CCCCC1)C(=O)C2=O', 'C[C@H](N)[C@H](O)c1ccc(O)c(NS(C)(=O)=O)c1.C[C@H](NCc1cc(C(F)(F)F)cc(C(F)(F)F)c1)C(O)c1ccc(O)c(NS(C)(=O)=O)c1', 'c1ccc(-c2ccccc2Op2oc3ccccc3c3ccccc3o2)c(OCCOCCOCCOp2oc3ccccc3c3ccccc3o2)c1', 'COC(=O)C1=C(CN2CCN3C(=O)N(c4ccc(Sc5ccc(OC(C)C)cc5)cc4)C[C@@H]3C2)NC(c2nccs2)=N[C@H]1c1ccc(F)cc1Cl', 'O=C(O)C1CCCO1.[CH2-]CP(c1ccccc1)c1ccccc1.[Lu+3].[c-]1cccc2cc3ccccc3cc12.c1cc[cH-]c1', 'N#C[N+]1(c2ccccc2)CCN(C(=O)Nc2ccc3cc2CCc2cncc(c2)Nc2ncc(Cl)c(n2)N3)CC1.O=C(C(=O)C(F)(F)F)C(F)(F)F', 'CCOC(=O)[C@@H](C)Oc1ccc(Oc2cnc3cc(Cl)ccc3n2)cc1.COc1ccccc1C(=O)NS(=O)(=O)c1ccc(C(=O)NC2CC2)cc1', 'O=C(Nc1ccccc1C(=O)OCC=C1OC(=O)c2ccccc21)C(=Cc1ccccc1)C(=O)Nc1ccccc1C(=O)OCC=C1OC(=O)c2ccccc21', 'c1ccc2cc3cc(-c4ccc(-c5nc6cc7cc8sc(-c9ccc(-c%10ccc%11cc%12ccccc%12cc%11c%10)cc9)nc8cc7cc6s5)cc4)ccc3cc2c1', 'O=S(=O)(O)O[C@H]1[C@@H](O)[C@@H](CO)O[C@@H](OC[C@H]2O[C@H](O[C@H]3C(O)O[C@H](CO)[C@@H](O)[C@@H]3O)[C@@H](O)[C@@H](O[C@@H]3O[C@@H]([C@H](O)CO)[C@H](O)[C@H]3O)[C@@H]2O)[C@@H]1O', 'COc1ccc(C(OC[C@H](O)C[n+]2ccc(/C=C3\\\\Sc4ccccc4N3C)c3ccccc32)(c2ccccc2)c2ccc(OC)cc2)cc1.[Br-]', 'c1ccc2c(c1)ccc1cc(-c3ccc(-c4nc5cc6cc7sc(-c8ccc(-c9ccc%10c(ccc%11ccccc%11%10)c9)cc8)nc7cc6cc5s4)cc3)ccc12', 'CC(=O)OCC1O[C@H](O[C@@H]2C(COC(C)=O)O[C@@H](Sc3ccc(F)cc3)C(OC(C)=O)C2OC(C)=O)C(OC(C)=O)C(OC(C)=O)[C@@H]1OC(C)=O', 'O=C(O[C@H](Cc1ccc(Br)c(Br)c1)C(=O)N1CCC(N2CCNCC2)CC1)N1CCC(N2CCC3=CCCC=C3NC2=O)CC1', 'C/C=C/C(OC(C)=O)C(COP(=O)([O-])OCCNC(=O)NCCOP(=O)([O-])OCC(NC(C)=O)C(/C=C/C)OC(C)=O)NC(C)=O.[Na+].[Na+]', 'CCN(CCO)S(=O)(=O)c1cc(Cl)c(-n2nc(C(C)C)c3c(=O)[nH]c(Cc4ccc(OCCN5CCOCC5)cc4)nc32)c(Cl)c1.Cl.O', '[C-]#[N+]c1c(C)c(/N=N/c2ccc(-c3ccc(/N=N/c4c(C)c(C#N)c5nc6cc(Cl)ccc6n5c4O)c(OC)c3)cc2OC)c(O)n2c1nc1ccccc12', 'C[C@H](NCCN1C(=O)COc2cc(-c3cccc(-c4cccc(-c5ccc6c(c5)OCC(=O)N6CCN[C@@H](C)C(=O)O)c4Cl)c3Cl)ccc21)C(=O)O', 'COC(=O)[C@@H](Cc1ccc(O)c(O)c1)OC(=O)/C=C/c1ccc(O)c2c1[C@H](C(=O)O)[C@](c1ccc(O)c(O)c1)([C@@H](Cc1ccc(O)c(O)c1)C(=O)OC)O2', 'Brc1ccccc1.c1ccc(-n2c3ccccc3c3cc4nc5ccccn5c4cc32)cc1.c1ccc2c(c1)[nH]c1cc3c(cc12)nc1ccccn13', 'CCN1C(=CC2=C(SCCOCCO)C(=Cc3oc4cc(C)ccc4[n+]3Cc3ccccc3)C2=O)N(CCOCCO)c2ccc(Br)cc21', 'O=C(N[C@@H](Cc1ccccc1)C(=O)N[C@@H](CSCc1ccccc1)C(=O)COC(=O)c1c(C(F)(F)F)cccc1C(F)(F)F)OCc1ccccc1', 'O=P(O)(O)O[C@@H]1[C@@H](O)[C@@H](O[C@H]2[C@H](O)[C@@H](O)[C@@H](O[C@H]3[C@H](O)[C@@H](O)C(O)O[C@@H]3CO)O[C@@H]2CO)O[C@H](CO)[C@H]1O[C@H]1O[C@H](CO)[C@@H](O)[C@H](O)[C@H]1O', 'C.COc1ccc(S(=O)(=O)N2C(=O)C(CC(=O)N3CCN(c4cccnc4)CC3)(c3ccccc3OC)c3cc(Cl)ccc32)c(OC(F)(F)F)c1', 'O=C(Nc1ccc2c(c1)C(=O)c1ccccc1C2=O)c1cc(/N=N/c2c(O)ccc3ccccc23)cc(C(=O)Nc2ccc3c(c2)C(=O)c2ccccc2C3=O)c1', 'CC(C)S(=O)(=O)c1cc(Cl)c(-c2cc3cnc(Nc4ccc(C5CCCN(C)C5)cc4)nc3n(C3CCN(S(C)(=O)=O)CC3)c2=O)c(Cl)c1', 'Cc1ncc(-c2cc(-c3nnc(CN4CCN5CCC[C@H]5C4)o3)c3cnn(S(=O)(=O)c4ccccc4)c3c2)cc1NS(=O)(=O)c1ccc(F)cc1F', 'O=C(CO)c1c(C(=O)CO)c(C(=O)CO)c2c3nc4nc(nc5[nH]c(nc6nc(nc([nH]3)c2c1C(=O)CO)-c1ccccc1-6)c1ccccc51)-c1ccccc1-4', 'O=C(O)c1ccc(OCCc2c(CCNS(=O)(=O)C(c3ccccc3)C(F)(F)F)n(C(c3ccccc3)c3ccccc3)c3ccc(Cl)cc23)cc1', 'Nc1nc2c(ncn2[C@H]2C[C@H](O)[C@@H](COP(=O)(O)NCCNC(=O)Nc3ccc(C(=O)O)c(C4=C5C=CC(=O)C=C5c5cc(O)ccc54)c3)O2)c(=O)[nH]1', 'C[Si](C)(C)OCCCCCc1cc2c(nc3c4sc5c6c(ccc(c(=O)n23)c46)c(=O)n2c3cc(CCCCCO[Si](C)(C)C)sc3nc52)s1', 'CCCO[Si](CCC(C)SSSSSSSC(C)CC[Si](OCCC)(OCCC)OCCC)(OCCC)OCCC', 'CN(C)CCN1CCO[C@H]2CN(Cc3ccccn3)C[C@H]21.O=C(O)C(F)(F)F.O=C(O)C(F)(F)F.O=C(O)C(F)(F)F.O=C(O)C(F)(F)F', 'N#Cc1ccc2c(c1)c1cc(C#N)ccc1n2-c1ccc2c(c1)Oc1cccc(N3c4ccccc4Sc4ccccc43)c1C21c2cccnc2-c2ncccc21', 'Oc1c(O)c(O)c(N(c2ccccc2)c2ccc3c4cccc5c(N(c6ccccc6)c6c(O)c(O)c(O)c(O)c6O)ccc(c6cccc2c63)c54)c(O)c1O', 'Cc1ccc(-c2[c-]cccc2)nc1.[2H]C([2H])(c1csc2[c-]c(-c3[c-]ccc4c3oc3nc(C)ccc34)ccc12)C(C)(C)C.[Ir+3]', 'C=Cc1sc2ccc(N(c3ccccc3)c3cccc4sc5ccc(N(c6ccccc6)c6ccc7sc8ccccc8c7c6)cc5c34)cc2c1/C=C\\\\C', 'CCOC(=O)C(C)OP(CCNCc1ccc(Cn2c(COC(N)=O)nc(C(C)C)c2Sc2cc(Cl)cc(Cl)c2)cc1)Oc1ccccc1', 'O=P(O)(O)OC[C@H]1O[C@@H](O[C@H]2[C@H](O)[C@H](O)[C@@H](O)O[C@@H]2CO)[C@H](O)[C@@H](O[C@@H]2O[C@H](CO)[C@H](O)[C@H](O[C@@H]3O[C@H](CO)[C@H](O)[C@H](O)[C@H]3O)[C@H]2O)[C@H]1O', 'c1ccc(-c2ccc(N(c3ccc4c(c3)sc3cc5[nH]c6c7c(cc8ccc(c34)c5c86)sc3ccccc37)c3cc4ccccc4c4ccccc34)cc2)cc1', 'C[Si](C)(C)OCCCCCc1cc2c(nc3c4ccc5c6c(sc(c(=O)n23)c46)c(=O)n2c3cc(CCCCCO[Si](C)(C)C)sc3nc52)s1', 'NC1C=CC(Cc2c(O[C@H]3O[C@H](C(=O)O[C@H]4O[C@H](C(=O)O)[C@@H](O)[C@H](O)[C@H]4O)[C@@H](O)[C@H](O)[C@H]3O)cc3oc(-c4ccc(O)c(O)c4)cc(=O)c3c2O)=CN1', 'CCOc1cc(C(C(=O)N2CCC(C(=O)OC(=O)C(F)(F)F)C2c2ccccc2S(=O)(=O)C(C)C)N(N)c2ccc3cnccc3c2)ccc1Cl', 'CCCCCCCCN(S(=O)(=O)c1ccc(C)cc1)S(=O)(=O)c1ccc(N(S(=O)(=O)c2ccc(C)cc2)S(=O)(=O)c2ccc(C)cc2)cc1', 'COc1ccc([Si](C)(C)[C@@H]2[C@@H](CCO)O[C@]3(C(=O)N(Cc4ccc(N5C(=O)c6cccc7cccc5c67)cc4)c4ccc(Br)cc43)[C@H]2C)cc1', 'CCCC(I)c1cc(NC(=O)Nc2ccc(Oc3ccnc(NC(=O)N4CCOCC4)n3)c3ccccc23)n(-c2ccc(C)cc2)n1', 'O=C(CCN(CCCc1ccc(N2CC(=O)NS2(=O)=O)c(O)c1)C(=O)c1ccc(F)cc1)NCCCc1ccc(N2CC(=O)NS2(=O)=O)c(O)c1', 'O=C(O)c1ccc(OCCc2c(CCNS(=O)(=O)Cc3cccc(C(F)(F)F)c3)n(C(c3ccccc3)c3ccccc3)c3ccc(Cl)cc23)cc1', 'Oc1c(O)c(O)c(-n2c3ccccc3c3cc4c(cc32)sc2cc3c(cc24)c2ccccc2n3-c2cc(-c3ccccc3)cc(-c3ccccc3)c2)c(O)c1O', 'COc1cc2c(cc1OCc1cc(O)cc(COc3cc4c(cc3OC)C(=O)N3Cc5ccsc5CC3C=N4)c1)N=CC1Cc3sccc3CN1C2=O', 'NC(=O)Nc1ccccc1NC1CCN(C(=O)N[C@H](Cc2cc(Br)c(N)c(Br)c2)C(=O)N2CCC(N3CCCCC3)CC2)CC1', 'CCN1/C(=C/C2=C(SCCOCCO)/C(=C\\\\c3oc4cc(Br)ccc4[n+]3CCOCCO)C2=O)N(Cc2ccccc2)c2ccc(C)cc21', 'c1cc(-c2ccc3c4ccccc4c4ccccc4c3c2)cc(-c2ccc3sc4c(-c5cccc(-c6cccc7c6sc6ccccc67)c5)ncnc4c3c2)c1', 'COc1ccc(OCc2nnc(SCC(=O)Nc3ccc4nc(SCC(=O)n5c6c(c7ccccc75)CCCC6)sc4c3)n2-c2ccccc2)cc1', 'O=C(O)c1ccc(OCCc2c(CCNS(=O)(=O)Cc3cccc(C(F)(F)F)c3)n(C(c3ccccc3)c3ccccc3)c3cc(Cl)ccc23)cc1', 'c1ccc2c(c1)sc1c(-c3cc(-c4ccc(-c5cnc6c7ccccc7c7ccccc7c6n5)cc4)cc(-c4cccc5c4sc4ccccc45)c3)cccc12', 'O=CNC(Cc1ccccc1)C(=O)O[Pb](OC(=O)C(Cc1ccccc1)NC=O)(c1ccccc1)c1ccccc1', 'N#Cc1ccc2c(c1)Oc1ccccc1N2c1cnc2c(c1)C1(c3ccccc3Sc3cccc(-n4c5ccccc5c5cc(C#N)ccc54)c31)c1cccnc1-2', 'O=P(O)(O)O[C@H]1O[C@H](CO)[C@@H](O)[C@H](O)[C@@H]1OC1O[C@H](CO)[C@@H](O)[C@H](O)[C@@H]1OC1O[C@H](CO)[C@@H](O)[C@H](O)[C@@H]1OC1O[C@H](CO)[C@@H](O)[C@H](O)[C@@H]1O', 'N#Cc1ccc2c(c1)c1cc(C#N)ccc1n2-c1cnc2c(c1)C1(c3ccccc3Oc3cccc(N4c5ccccc5Sc5ccccc54)c31)c1cccnc1-2', 'CC[C@@H](CC(=O)[O-])O/N=C(\\\\C(=O)C[C@@H]1C(=O)N2C(C(=O)[O-])=C(C[N+]3(CCNC(=O)c4cc(=O)c(O)cn4O)CCCC3)CS[C@H]12)c1csc(N)n1', 'C/C(Cl)=C/[C@@H]1[C@H](C(=O)O)C1(C)C.C/C(Cl)=C/[C@@H]1[C@H](C(=O)OCc2c(F)c(F)c(C)c(F)c2F)C1(C)C.Cc1c(F)c(F)c(CO)c(F)c1F', 'CN(C)CCCN1CCN(C(=O)[C@H](Cc2cc(Br)c(N)c(Br)c2)NC(=O)N2CCC(N3Cc4ccccc4NC3=O)CC2)CC1', 'Cc1cc[c-]c(-c2ccccn2)c1.[Ir].[c-]1cc(-c2ccccc2)ccc1-c1nnc(-c2ccc(-c3ccccc3)cc2)nn1', 'CCOC(=O)c1c(NC(=O)CSc2cccc(NC(=O)/C(=C/c3ccsc3)NC(=O)c3ccccc3)c2)sc2c1CCN(C(=O)OC(C)(C)C)C2', '[C-]#[N+]c1ccc2c(c1)c1ccccc1n2-c1cnc2c(c1)C1(c3ccccc3Oc3ccc(N4c5ccccc5Sc5cc(C#N)ccc54)cc31)c1cccnc1-2', 'O=C(NC1(C(=O)N(CCc2ccccc2)C(=O)NCCC(=O)N2CCN(c3ccccn3)CC2)CCCC1)Oc1cc2ccc(Br)cc2s1', 'N#Cc1cccc(S(=O)(=O)N2c3ccc(CN4CCN(CC(=O)N5CCOCC5)CC4)c(=O)n3[C@@H](c3ccc(Cl)cc3)[C@H]2c2ccc(Cl)cc2)c1', 'c1ccc2c(-c3nc(-c4cccc5c4sc4ccccc45)cc(-c4cccc5c4sc4ccccc45)n3)c(-c3cc4ccccc4c4ccccc34)ccc2c1', 'C.CC(C)(C)OC(=O)N1CCC(O)CC1.CC(C)(C)OC(=O)N1CCC(Oc2ccc(Br)nc2)CC1.Oc1ccc(Br)nc1', '[C-]#[N+]c1ccc2c(c1)c1ccccc1n2-c1ccc2c(c1)Oc1cc(N3c4ccccc4Sc4cc(C#N)ccc43)ccc1C21c2cccnc2-c2ncccc21', 'COc1cc(C)c(OP2Oc3ccccc3Oc3ccccc3O2)c(-c2c(C)c(OC)cc(C)c2Op2oc3ccccc3c3ccccc3o2)c1C', 'N#Cc1ccc2c(c1)c1cc(C#N)ccc1n2-c1cnc2c(c1)C1(c3ccccc3Oc3ccccc31)c1cc(N3c4ccccc4Sc4ccccc43)cnc1-2', 'N#Cc1cccc(S(=O)(=O)N2c3c(-c4ccc(Cl)cc4)cc(CN4CCN(CC(=O)N5CCOCC5)CC4)c(=O)n3C[C@H]2c2ccc(Cl)cc2)c1', '[H]/N=c1/sc2c(n1/C=C(\\\\OC1(CC)OCC3(COC(CC)(OCC(=O)NC(OP(O)O)O[P+](=O)O)OC3)CO1)c1ccc(C)cc1)CCCC2', 'CCCCC1CCC(c2ccc(C(F)(F)Oc3ccc(-c4ccc(C(F)(F)Oc5cc(F)c(OC(F)=C(F)F)c(F)c5)c(F)c4)c(F)c3)cc2)OC1', 'COc1ccc(OC)c(C=Cc2ccc(N3C(=O)[C@H]4[C@H](CC=C5[C@H]4C[C@@]4(Cl)C(=O)N(C)C(=O)[C@@]4(Cl)[C@H]5c4c(OC)cc(O)cc4OC)C3=O)cc2)c1', 'O=S(=O)(O)O[C@H]1[C@@H](O[C@H]2[C@H](O)[C@@H](O)[C@@H](O)O[C@@H]2CO)O[C@H](CO)[C@@H](O[C@H]2O[C@H](CO)[C@@H](O[C@H]3O[C@H](CO)[C@@H](O)[C@H](O)[C@H]3O)C(O)[C@H]2O)[C@@H]1O', 'N#Cc1ccc2c(c1)Oc1ccccc1N2c1cccc2c1Sc1ccccc1C21c2cccnc2-c2ncc(-n3c4ccccc4c4cc(C#N)ccc43)cc21', '[C-]#[N+]c1ccc2c(c1)c1cc([N+]#[C-])ccc1n2-c1ccc2c(c1)C1(c3cc(N4c5ccccc5Sc5ccccc54)ccc3O2)c2cccnc2-c2ncccc21', 'COc1nc(-c2cccc(-c3cccc(Oc4nccc5sc(CN6CCC(C(=O)O)CC6)nc45)c3Cl)c2Cl)ccc1CNC[C@@H]1CCC(=O)N1', '[C-]#[N+]c1ccc2c(c1)c1ccccc1n2-c1cccc2c1Sc1c(N3c4ccccc4Oc4cc(C#N)ccc43)cccc1C21c2cccnc2-c2ncccc21', 'COc1ccc(S(=O)(=O)CC(=O)c2c(C(C)CSC)ncn2Cc2ccc(-c3ccccc3S(=O)(=O)NC(=O)NCc3ccccc3)cc2)cc1', 'Cc1ccc2c(n1)oc1c(-c3nccc4scc(C)c34)[c-]ccc12.[CH2-]c1cc(C)ccc1-c1cc(C)c(C)c[n+]1[CH2-].[Ir+3]', 'c1ccc2cc3c(-c4ccc(-c5nc6ccc7ccccc7c6s5)cc4)c4ccccc4c(-c4ccc(-c5nc6ccc7ccccc7c6s5)cc4)c3cc2c1', 'O=P(c1ccccc1)(c1ccc(/C=C(\\\\c2ccccc2)c2cc3ccccc3s2)cc1)c1ccc(/C=C(\\\\c2ccccc2)c2cc3ccccc3s2)cc1', 'COc1ccc([Si](C)(C)[C@@H]2[C@@H](CCO)O[C@]3(C(=O)N(Cc4cccc(N5C(=O)c6cccc7cccc5c67)c4)c4ccc(Br)cc43)[C@H]2C)cc1', 'CCCCCCCCCC(CCC(F)(F)C(F)(F)C(F)(F)C(F)(F)C(F)(F)C(F)(F)F)OP(=O)(O)OC[C@H]1O[C@H](O)[C@H](O)[C@@H](O)[C@@H]1O', 'N#Cc1ccc2c(c1)c1cc(C#N)ccc1n2-c1ccc2c(c1)C1(c3ccccc3O2)c2cccnc2-c2ncc(N3c4ccccc4Sc4ccccc43)cc21', 'c1ccc2c(c1)-c1ccccc1-c1cccc(-c3cc(-c4cccc5c4sc4ncccc45)cc(-c4cccc5c4sc4ncccc45)c3)c1-c1ccccc1-2', 'N#Cc1ccccc1-c1ccc2c3ccccc3n(-c3ccc(C(F)(F)F)c(-c4cc(-n5c6ccccc6c6c(C#N)cccc65)ccc4C(F)(F)F)c3)c2c1', 'C[Si](C)(C)OCCCCCc1cc2c(cc3c4sc5c6c(ccc(c(=O)n23)c46)c(=O)n2c3cc(CCOCCO[Si](C)(C)C)sc3cc52)s1', 'C(#Cc1ccccc1)c1ccccc1.C(#Cc1ccccc1)c1ccccc1.C(#Cc1ccccc1)c1ccccc1.[C-]#[O+].[W]', '[H]/N=C(\\\\N)c1ccc(C(=O)C2(CCNC(=O)C3CCCN3S(=O)(=O)c3ccc(Cl)c(COc4cccc5c(C)cc(C)nc45)c3Cl)C=CC=N2)cc1', 'N#Cc1ccc2c(c1)c1cc(C#N)ccc1n2-c1cccc2c1Oc1c(N3c4ccccc4Sc4ccccc43)cccc1C21c2cccnc2-c2ncccc21', 'COc1c2c([n+](C)c3ccccc13)O[C@H](C(C)(C)O)C2.COc1c2c([n+](C)c3ccccc13)O[C@H](C(C)(C)O)C2.[O-][Cl+3]([O-])([O-])[O-].[O-][Cl+3]([O-])([O-])[O-]', 'N#Cc1ccc2c(c1)Sc1ccccc1N2c1cnc2c(c1)C1(c3ccccc3Oc3ccccc31)c1cc(-n3c4ccccc4c4cc(C#N)ccc43)cnc1-2', 'c1ccc2c(c1)ccc1c2c2cc3ccsc3cc2n1-c1ccc(-c2ccc(-n3c4ccc5ccccc5c4c4c5ccsc5c5ccccc5c43)cc2)cc1', 'NCCSSCCNC(=O)CNC(=O)C(CSSCC(NC(=O)CCC(N)C(=O)O)C(=O)NCC(=O)O)NC(=O)CCC(N)C(=O)O', 'c1ccc(-n2c3ccccc3c3cc(-c4ccc5c(c4)c4ccccc4n5-c4ccc5sc6c7sc8ccccc8c7c7ccccc7c6c5c4)ccc32)cc1', 'O=S1(=O)c2ccc(-c3ccc(N4c5ccccc5Oc5ccccc54)cc3)cc2Oc2cc(-c3ccc(N4c5ccccc5Oc5ccccc54)cc3)ccc21', 'c1ccc2cc(-n3c4ccccc4c4c3ccc3c5ccccc5n(-c5ccc6sc7c(-c8cccc9sc%10ccccc%10c89)cccc7c6c5)c34)ccc2c1', 'CCOC(Cc1ccc(OCCN(CC(F)(F)C(F)(F)C(F)(F)C(F)(F)C(F)(F)F)C(=O)Nc2ccc(Oc3ccccc3)cc2)cc1)C(=O)O', 'CCOC(=O)C1CCN(S(=O)(=O)c2cccc(-c3nn(-c4ccccc4)cc3C=C3SC(=S)N(CCc4ccc(OC)c(OC)c4)C3=O)c2)CC1', 'COCOc1ccc(C(=O)COc2cc(C)ccc2CP(Br)(c2ccccc2)(c2ccccc2)c2ccccc2)c(OCc2ccccc2)c1', 'Cc1ccc(S(=O)(=O)c2ccc(-c3ccc(C(=O)c4ccc(C(=O)c5ccc(-c6ccc(S(=O)(=O)c7ccc(C)cc7)cc6)cc5)cc4)cc3)cc2)cc1', 'N#C/C(=C\\\\c1ccc(-c2c3nc(c(-c4ccc(/C=C(\\\\C#N)C(=O)O)cc4)c4ccc([nH]4)c(-c4ccc(/C=C(\\\\C#N)C(=O)O)cc4)c4ccc2[nH]4)C=C3)cc1)C(=O)O', 'C#Cc1ccc(C(=O)NO)c(O)c1.Nc1ccc(C(=O)NO)c(O)c1.O=C(NO)c1ccccc1O.O=NC(=O)c1ccc(-n2c(O)ccc2O)cc1O', 'CC(O)CC1OC(OP(=O)(O)OCC2CCC(n3ccc(N)nc3=O)O2)(C(=O)O)CCC1NC(=O)CNC(=O)CCSSc1ccccn1', 'COC(=O)C(Cc1ccc(O)c(O)c1)OC(=O)C1=Cc2ccc(O)c(O)c2C(C(=O)OC(Cc2ccc(O)c(O)c2)C(=O)OC)C1c1ccc(O)c(O)c1', 'O=P(O)(OC1O[C@H](CO)[C@@H](O[C@@H]2O[C@H](CO)[C@@H](O[C@@H]3O[C@H](CO)[C@@H](O)[C@H](O)[C@@H]3O)C(O)[C@@H]2O)[C@H](O)[C@@H]1O)O[C@@H]1O[C@H](CO)[C@@H](O)[C@H](O)[C@@H]1O', 'Cc1ccc(S(=O)(=O)c2ccc(-c3ccc(C(=O)c4cccc(C(=O)c5ccc(-c6ccc(S(=O)(=O)c7ccc(C)cc7)cc6)cc5)c4)cc3)cc2)cc1', 'C#Cc1cccc(F)c1.CN1CCn2c(nc3cc(Br)ccc3c2=O)C1.CN1CCn2c(nc3cc(C#Cc4cccc(F)c4)ccc3c2=O)C1', 'COC(=O)c1ccccc1CS(=O)(=O)NC(=O)Nc1nc(OC)cc(OC)n1.Cc1nn(-c2ccc(F)cc2)nc1Cc1ccnc(C(F)(F)F)c1', 'N#Cc1ccc(-n2c3ccccc3c3cc(-c4cc(-n5c6ccccc6c6ccccc65)cc(C(F)(F)F)c4)ccc32)c(-c2ccc(C(F)(F)F)cc2C#N)c1', 'c1ccc2c(c1)-c1ccccc1-c1cccc(-c3cc(-c4ccc5sc6cnccc6c5c4)cc(-c4ccc5sc6cnccc6c5c4)c3)c1-c1ccccc1-2', 'CC(C)=CC=[Ru](Cl)(Cl)=C1N(c2c(C)cc(C)cc2C)CCN1c1c(C)cc(C)cc1C.CP(c1ccccc1)c1ccccc1', 'CN(C)Cc1ccc(S(C)(=O)=O)cc1Oc1ccc(OC(F)(F)F)cc1.CSc1ccc(CN(C)C)c(Oc2ccc(OC(F)(F)F)cc2)c1', 'CCC1(COCCCCCCOc2ccc(C(=O)Oc3ccc(OC(F)(F)C(F)(F)C(F)(F)C(F)(F)C(F)(F)C(F)(F)F)cc3)cc2)COC1', '[C-]#[N+]c1ccc2c(c1)c1cc([N+]#[C-])ccc1n2-c1cnc2c(c1)C1(c3ccccc3Oc3ccc(N4c5ccccc5Sc5ccccc54)cc31)c1cccnc1-2', 'O=P(O)(O)OC[C@H]1O[C@H](O[C@H]2[C@H](O)[C@@H](O)[C@@H](O[C@H]3[C@H](O)[C@@H](O)[C@@H](O)O[C@@H]3CO)O[C@@H]2CO)[C@H](O)[C@@H](O)[C@@H]1O[C@H]1O[C@H](CO)[C@@H](O)[C@H](O)[C@H]1O', '[2H]C([2H])([2H])Oc1cc([C@@H]2c3cc4c(cc3[C@@H](O[C@@H]3O[C@@H]5CO[C@@H](c6cccs6)O[C@H]5[C@H](O)[C@H]3O)[C@@H]3[C@@H]2C(=O)OC3([2H])[2H])OC([2H])([2H])O4)cc(OC([2H])([2H])[2H])c1OP(=O)(O)O', 'c1ccc2sc(-c3ccc(-c4ccc5c6ccccc6c6c7cc(-c8ccc(-c9nc%10ccccc%10s9)cc8)ccc7c7ccccc7c6c5c4)cc3)nc2c1', 'COc1ccc([Si](C)(C)[C@H]2[C@H](CCO)O[C@@]3(C(=O)N(Cc4cccc(N5C(=O)c6cccc7cccc5c67)c4)c4ccc(Br)cc43)[C@@H]2C)cc1', 'O=S(=O)(O)O[C@H]1[C@@H](O)[C@@H](CO)O[C@@H](OC[C@H]2O[C@H](O[C@@H]3[C@@H](O)[C@H](O)[C@@H](CO)O[C@@H]3O)[C@@H](O)[C@@H](O[C@H]3O[C@@H]([C@H](O)CO)[C@H](O)[C@H]3O)[C@@H]2O)[C@@H]1O', 'C1=C/C(=C(\\\\c2ccccc2)c2ccc[n-]2)N=C1.Cc1[c-]c(-c2ncc3c4c(cccc24)C(=O)c2ccccc2-3)cc(C)c1.[Ir]', 'O=C(Nc1ccccc1C(=O)O)/C(=C\\\\c1ccccc1)C(=O)Nc1c(C(=O)O)ccc(C/C=C2\\\\OC(=O)c3ccccc32)c1C/C=C1\\\\OC(=O)c2ccccc21', 'c1cc(-c2ccncc2)c2sc3c(-c4ccc5c6ccc(-c7cccc8c7sc7c(-c9ccncc9)cccc78)cc6c6ccccc6c5c4)cccc3c2c1', '[C-]#[N+]CCOP1(=S)OC[C@H]2O[C@@H](n3ccc(=O)n4ccnc34)[C@H](OP(O)OC[C@H]3O[C@@H](n4ccc5c(/N=C/N(C)C)ccnc54)C[C@@H]3O1)[C@@H]2C', 'Cc1c(F)c(F)c(F)c(S(=O)(=O)N(CC(=O)N(Cc2cc(C3CC3)cc(C(C)(C)C)c2)c2ccc(C(=O)O)c(O)c2)Cc2ccc(Cl)cc2)c1F', 'COC(=O)C1=C(CN2CCN3C(=O)N(c4ccc(Sc5ccc(OC(C)C)cc5)cc4)CC3C2)NC(c2nccs2)=NC1c1ccc(F)cc1Cl', 'C#CCNC(=O)OC(C)(C)C.CC(C)(C)OC(=O)NCC#Cc1c(F)cccc1OCCO.OCCOc1cccc(F)c1I', 'c1cc(-c2ccc(-c3cccc4c3sc3c(-c5cccc6c5sc5ccccc56)cccc34)cc2)cc(-c2ncc3c4ccccc4c4ccccc4c3n2)c1', 'CC(=O)OC[C@H]1O[C@@H](O[C@H]2[C@H](OC(C)=O)[C@@H](OC(C)=O)[C@H](Sc3ccc(F)cc3)O[C@@H]2COC(C)=O)[C@H](OC(C)=O)[C@@H](OC(C)=O)[C@H]1OC(C)=O', 'c1ccc(-c2ccc3c4ccc(-c5ccccc5)cc4c4nc5c(nc4c3c2)sc2ccc(-c3cccc(-c4cccc6c4sc4ccccc46)c3)cc25)cc1', 'N#Cc1ccc2c(c1)c1cc(C#N)ccc1n2-c1cccc2c1C1(c3ccc(N4c5ccccc5Oc5ccccc54)cc3S2)c2cccnc2-c2ncccc21', 'CCCc1nc(SC)c(C(=O)CS(=O)(=O)c2ccc(OC)cc2)n1Cc1ccc(-c2ccccc2S(=O)(=O)NC(=O)NCc2ccccc2)cc1', 'OC(CNCC(F)(F)F)C(O)C(O)C1CN(CC(F)(F)F)/C(=N/c2ccc3ncnc(Nc4ccc(OCc5cccc(F)c5)c(Cl)c4)c3c2)O1', 'CSc1nc(-c2cccc(-c3cccc(-c4cnc(CN5CC6(CNC(=O)C6)C5)c(SC)n4)c3Cl)c2Cl)cnc1CN1CC2(CNC(=O)C2)C1', 'c1ccc(-c2cccc3c2sc2c(-c4ccc5c(c4)c4cc(-c6cccc7c6sc6c(-c8ccccc8)cccc67)ccc4c4nccnc54)cccc23)cc1', 'CCC(O)(CCC1=Cc2cc(Cl)ccc2C(C2CCN(S(C)(=O)=O)CC2)c2ncccc21)c1cn([TlH2])cn1', 'Cc1ccc2c(n1)oc1c(-c3ccc4scc(C)c4n3)[c-]ccc12.[CH2-]c1cc(C)ccc1-c1cc(C)c(C)c[n+]1[CH2-].[Ir+3]', 'CC(=CCC1=C(C2=C(C=C1O)OC(=O)C(=C2)C3=C(C=C(C=C3)O)O)OC)C', 'CC(=O)N[C@H]1[C@H]([C@H](O)[C@H](O)CO)O[C@@](SCCN)(C(=O)O)C[C@@H]1O', 'O=C1CCOc2cc(OCc3nnnn3CCc3ccccc3)c(F)cc21', 'CCc1ccc(OC)c(/C=C2/N=C(CCc3cccc(Cl)c3)NC2=O)c1', 'Cc1sc2ccc3c(c2c1C)C=CC(c1ccccc1)(c1ccccc1)O3', 'C[C@@H](Oc1ccccc1F)C(=O)NNC(=O)c1cc(-c2ccccc2)n[nH]1', 'COc1ccc(OC)c2c1C(=O)c1ccc3c(c1C2=O)C(O)CC(C)(O)C3', 'CCC(C)(O)COc1ccccc1-c1cc(=O)c2cc(C(=O)O)ccc2o1', 'CN1C[C@@H]2C[C@H]1CN2C(=O)c1n[nH]c2cc(OC(F)F)ccc12.O=CO', 'CN(Cc1ccccc1Cl)C(=O)/C=C/c1ccc(C(=O)NC2CC2)cc1', 'Clc1nc(Nc2cn(-c3cn(C4CCCC4)cn3)cn2)c2cccn2n1', 'C[C@@H]1Cc2ccccc2CN1C(=O)c1ccc2c(c1)CN(C(=O)Cl)CC2', 'CN(c1nc(Nc2ccc(Cl)c(C#N)c2)c2cnn(C)c2n1)C1(N)CC1', 'N#Cc1ccccc1Cn1cc(/C=N\\\\NC(=O)c2ccco2)c2ccccc21', 'COCOc1ccc(C=C(c2ccc(OCOC)cc2)C(F)(F)F)cc1', 'N#Cc1ccc(-c2nc3c(=O)[nH]c(N)nc3n2[C@H]2C[C@H](O)[C@@H](CO)O2)cc1', 'O=C(NCc1ccco1)c1cnc2n[nH]c(-c3ccc4ccccc4c3)c2c1', 'CCCOC1CCC(C(F)(F)C(F)(F)c2ccc(SF)cc2)CC1', 'FC(F)(F)c1cccc(CN2CCN(Cc3ccc(Cl)cc3)CC2)c1', 'O=C(Nc1ccc2c(c1)CCC2)C(=O)NC(c1ccc(Cl)cc1)C1CC1', 'FC(F)(F)c1ccc(N2CCCC(c3nc4c(s3)CCCC4)C2)nn1', 'C[C@H](CO)Cc1nc(=O)n(-c2ccccc2Cl)c2cc(C3CC3)ccc12', 'COc1ccc(C#Cc2nc3ncccc3nc2OCc2ccncc2)cc1', 'COCCc1noc([C@H]2CCCN(C(=O)CCc3cc(Cl)no3)C2)n1', 'O=C(N/N=C/c1ccc(O)cc1)c1nc2ccccc2nc1-c1ccccc1', '[C-]#[N+]c1ccc(OC2CCC(NC(=O)c3ccc(C)cc3)CC2)cc1Cl', 'CCSc1ccc(C(=O)N[C@@H]2CN(C(=O)COC)C[C@H]2C2CC2)s1', 'CC(=O)c1ccc(NC(=O)C2=NN(c3ccc(F)cc3)C(C(N)=O)C2)cc1', 'O=C(O[C@@H]1CCO[C@@H]2COC(c3ccccc3)O[C@H]21)C(=O)c1ccccc1', 'N#Cc1cc(-c2ccc(CCC(=O)O)cc2)cc2c1cnn2-c1ccccn1', 'COCCn1cc2c3c(cccc31)CN(C(=O)c1ccccc1Cl)CC2', 'FC(F)(F)c1cccc(NC(=S)Nc2ccnn2C2CCCCC2)c1', 'CCCCCCCCCCC(=O)Sc1c(F)c(F)c(F)c(F)c1F', 'O=C(CCCc1ccc(Cl)cc1)NCCc1cc2ccccc2[nH]c1=O', 'Cc1ccc(/N=N/c2ccc(/N=N/c3ccc(C(F)(F)F)cc3)cc2)cc1', 'C/C=C(\\\\NC(CCc1ccccc1N)c1ccc(Cl)cc1)C(F)(F)F', 'Cc1nc(COS(C)(=O)=O)c2cc(C3CCC(C)(C)CC3)sc2n1', 'COC(=O)[C@@H]1[C@H](c2ccccc2)c2ccccc2[C@@H](C(=O)O)[C@@H]1C(=O)OC', 'FC(F)(F)c1ccccc1CN(Cn1ncn(C2CC2)c1=S)C1CC1', 'O=C(C1CCN(S(=O)(=O)c2cccs2)CC1)N1CC2CCCC1C2', 'C#CCOc1ccc(C2CC(=O)Oc3cc(OC)c(OC)c(OC)c32)cc1', 'C[C@H](NC(=O)CN[C@H](c1ccccc1)c1ccco1)c1cccc(Cl)c1', 'CCN(CC)C(=S)SCC(=O)N[C@@H](C)c1ccc2c(c1)OCCO2', 'COC(=O)CCc1ccc2c(cnn2S(=O)(=O)CC[Si](C)(C)C)c1', 'Cl.O=[N+]([O-])c1ccc(-c2ncc(OCCNC3CCCCC3)cn2)o1', 'Cl.NC[C@H](NC(=O)c1cccc(-c2cccc(O)c2)c1)c1ccccc1', 'CCc1cc2c(=O)n(C(C)C(=O)OCCC(C)C)c(SC)nc2s1', 'O=C1CC(=Nc2nc3cc(-c4ccccc4)ccc3o2)NN1c1ccccc1', 'COc1ccc(OC)c([C@@H](C)NC(=O)CSC(=S)N2CCCC2)c1', 'COC(=O)/C(CO)=N\\\\NC1=Nc2ccccc2C(c2ccccc2F)=NC1', 'CN(C)c1ccc(/N=C/[C@H]2C(=O)NC(=O)N(c3ccc(F)cc3)C2=O)cc1', 'COc1ccc(C=CC(=O)CC(=O)C=Cc2ccc(O)cc2OC)cc1O', 'COc1ccccc1-c1nc2cc(Cl)ccc2cc1CN1CCOCC1', 'CCN(C)/C=N/c1cc(Cl)cc(Cc2cccc(C(F)(F)F)c2)c1C', 'Cc1cc(C(=C[C@H]2CCC(=O)N2)c2cc[nH]c(=O)c2C2CC2)ccc1Cl', 'CC1(C)OCC(Cn2c(=O)n(C3CCOCC3)c3nc(Cl)ncc32)O1', 'CC(C)CCOC(=O)c1cn(-c2ccccc2)nc1-c1ccc(Cl)cc1', 'CCc1c(C(=O)NCCNS(C)(=O)=O)cnn1-c1ccc(OC)nn1', 'O=C1Nc2ccccc2[C@@]12Oc1ccccc1[C@@H]1C=C(c3cccnc3)NN12', 'CC(=O)Nc1ccc(C)c(NC(=O)Cn2cnc3ccc(F)cc3c2=O)c1', 'CCOC(=O)c1cc(C)c(Nc2c(Cl)nc3ccccc3c2C)c(C)c1', 'COC(=O)/C=C/c1ccc(OC(=O)/C=C/c2ccc(OC)cc2)c(OC)c1', 'Clc1ccc(-c2nc3cc(COC4CN5CCC4CC5)ccc3o2)cc1', 'COC(=O)c1ccc(CNc2ccc3ncc([N+](=O)[O-])n3n2)nc1C1CC1', 'CC(C)c1ccc2[nH]c(=O)c(CNC(=O)Cc3ccc(Cl)cc3)cc2c1', 'CSCC/C=N/Nc1ncnc2c1ncn2[C@@H]1O[C@H](CO)C(O)[C@@H]1O', 'CC1=C(Nc2ccc(C(=O)Nc3ccccc3C)cc2Cl)CCCC1=O', 'Cc1nc(C(=O)NCc2ccc3c(c2)OCCO3)nn1-c1ccc(F)cc1', 'CN(C(=O)c1ccc2nonc2c1)C1CCC(NCC(=O)O)CC1.Cl', 'CCOC(=O)N1CCC(NC(=O)C(=O)Nc2ccc(N)c(Cl)c2)CC1', 'O=C(O[C@@H]1COC2C1OC[C@@H]2OCc1ccccc1)C(=O)c1ccccc1', 'Cl.O=C(NCCNC1CCCCCC1)c1c(F)c(F)cc(F)c1F', 'CC1CC2OC(=O)CC2[C@H]1/C=C/C(=O)COc1cccc(C(F)(F)F)c1', 'COc1cc(CN[C@@H](c2ccccc2)c2ccccn2)cc(Cl)c1OC', 'CCONC(=O)c1cc(-c2ccc(Cl)cc2)n(-c2ccc(C)cc2)c1C', 'COc1ccc(Nc2nc(-c3cccc(C#N)c3)nc3ccccc23)cc1O', 'CON=C1N(C)c2ccc(N3C[C@H](CNC(C)=O)OC3=O)cc2C1(F)F', 'COCCSC1=N[C@H]2CS(=O)(=O)C[C@@H]2N1c1ccc(C(C)C)cc1', 'CCOc1ccc(N2C(=O)[C@H]3N=NN(Cc4cccc(F)c4)[C@H]3C2=O)cc1', 'O=C(c1cc(=O)c2cccc(F)c2[nH]1)N1C[C@@H](Cc2cnccn2)[C@H](O)C1', 'O=C(Nc1ccccc1F)c1nc(C(=O)N2CCOCC2)c2ccccn12', 'CCOC(=O)CCCCCCCC1C(=O)c2cc(Cl)ccc2O[N+]1=O', 'Cc1cccc(C(=O)N(Cc2nc3cc(Cl)ccc3o2)C2CCCC2)c1', 'COc1ccc(CSC(C)(C)[C@@](O)(CO)c2ccc(F)cc2F)cc1', 'Cc1c(C(C)NC(=O)c2ccccc2[N+](=O)[O-])cnn1-c1ccc(F)cc1', 'Cc1onc(-c2ccc(F)cc2)c1COc1ccc(C(=O)NC2CC2)nn1', 'Cc1cc(NC[C@H]2COc3ccccc3O2)nc(-n2cc([N+](=O)[O-])cn2)n1', 'CC(C)c1ccc(-c2cnc(CCC(=O)Nc3ccc(Cl)cc3)o2)cc1', 'N[C@@H](CC1=N[C@@]2(c3ccccc3Cl)CCC[C@@H](O1)C2=O)c1ccccc1', 'NC(=O)COC1CN(C(=O)Nc2cccc(Cl)c2N2CCOCC2)C1', '[H]/N=c1\\\\oc2ccc(OC)cc2cc1-c1nc2cccnc2n1-c1ccccc1', 'Cc1c(C(=O)N2C[C@@H](CN)[C@H](c3ccccc3)C2)oc2ccc(Cl)cc12', 'O=C(CCn1cnc2ccccc21)NNC(=O)Nc1ccc([N+](=O)[O-])cc1', 'C/N=C(\\\\N)Nc1ccc(C(=O)Oc2ccc(CC(=O)O)n3ncnc23)cc1', 'O=C(O)CCc1ccccc1OCCCc1c(O)c2ccccc2oc1=O', 'Cc1nc(C(=O)NC(C)c2ccc3c(c2)OCO3)nn1-c1ccc(F)cc1', 'CCN/C(=N\\\\CCc1nc(C(F)(F)F)cs1)N1CCc2ccccc21', 'N#Cc1cnc2c(F)c(F)c(F)cc2c1NCC1NCCc2ccccc21', 'COc1ccc(-n2nc(C)c([C@@]3(O)C(=O)Nc4ccc(F)cc43)c2N)cc1', 'COc1ccc(C(=O)N2CCNCC2)cc1N1CCC(=O)NC1=O.Cl', 'CN(C)c1nc2ccccc2c2nc(-c3ccccc3)nc(C(F)(F)F)c12', 'O=C(C1CCS(=O)(=O)C1)N(Cc1ccsc1)C1CC12CCNCC2', 'COc1ccc(C(=O)OCc2cc(=O)oc3c(C)c(C)ccc23)c(OC)c1', 'CCOc1ccc2c(c1)O/C(=C\\\\c1cccc(O[C@@H](C)C(=O)OC)c1)C2=O', 'COc1cc2[nH]nc(-c3cccc(F)c3)c2cc1NC(=O)[C@H]1CCC(=O)N1', 'CCCOc1ccc2c(c1)C(=O)C(C(=O)O)C2(C)c1ccc2c(c1)OCO2', 'N#Cc1ccc(N(O)C(=O)Cc2c(-c3ccccc3)ccc3cncn23)cc1', 'O=C(O)[C@@H]1CNCC1Nc1nc(-c2cc(F)ccc2O)nc2ccccc12', 'COc1ccc(/C=C2\\\\Oc3cc(OC(=O)C(C)C)ccc3C2=O)cc1OC', 'O=C(C1CC1)N1CCc2sc(S(=O)(=O)NC3CCCCC3)cc2C1', 'CCOC(=O)[C@H](CC)Oc1cc(O)c2c(=O)cc(-c3ccccc3)oc2c1', 'CC(C)(C)c1cn(-c2nnc3n2C2=CN(Cl)CN2c2ccccc2-3)nn1', 'O=C(NCCc1ccc(Cl)cc1)c1cc2c3c(c1)CCC(=O)N3CCC2', 'C[C@@]12OC[C@@](C)(O1)[C@@H](OC(=O)c1ccccc1)[C@H]2OC(=O)c1ccccc1', 'COc1cc2c(c(OC)c1OC)[C@H](C1=Cc3ccccc3OC1)CC(=O)O2', 'CCCOC(=O)CCOc1ccc(Oc2ccc(C(F)(F)F)cc2)cc1', 'C=CCOc1c(OC)c(OC)cc2oc(-c3ccc(OC)cc3)cc(=O)c12', 'Cl.O=C(O)CNC(=O)c1c(O)cc(CC2CCCCC2)c2ncnn12', 'CCOC(=O)Cc1c(-c2cc(OC)ccc2OC)oc2ccccc2c1=O', 'O=C(NCCC1=CCCCC1)c1sccc1S(=O)(=O)N1CCCC1', 'CCOc1ccc(-n2nnnc2CNC(=O)c2cccc([N+](=O)[O-])c2)cc1', 'CCOC(=O)c1c(-c2ccccc2)oc2ccc(O[C@H](C)C(=O)OC)cc12', 'COc1ccc(NC(=O)c2cnc(Nc3ccccc3F)nc2)cc1OC', 'COC(=O)CCSCc1cccc(NC(=O)CC2CSCCN2)c1', 'CC(=O)N(C(C)=O)c1c(C#N)c(-c2ccccc2)cc2nc3ccccc3n12', 'CC(=O)Nc1ccc(NC(=O)CCc2nnc(-c3ccc(F)cc3)o2)cc1', 'FC(F)(F)c1ccc(-n2cccn2)c(NC(=S)NC2CCCCC2)c1', 'COC(=O)C1=Cc2cc(OC(C)C)ccc2OC1c1ccc2c(c1)OCO2', 'CCN1CCN(C(=O)Cc2cccc(SC)c2)C2CS(=O)(=O)CC21', 'Cl.Cl.Fc1ccc([C@H](C2CCOCC2)N2CCNCC2)cc1F', 'CS(=O)(=O)N1CCC(c2noc(CCNC(=O)c3cn[nH]c3)n2)CC1', 'CCC1=C(c2ccccc2)C(OC(=O)O)(OC(=O)O)c2c(CC)cccc21', 'O=C(CS[C@@H]1CCS(=O)(=O)C1)Nc1ccc(N2CCCCC2)cc1', 'Cc1cc(Cl)nc2c1C(=O)C(C)(c1ccc3c(c1)C(=O)N(C)CC3)CC2', 'COc1cc2c(cc1OC)[C@@H](C(=O)c1ccc3occc3c1OC)CCO2', 'O=C(CN1CCN(c2c(F)c(F)nc(F)c2F)CC1)Nc1ccccc1', 'CC(C)n1nccc1-c1nnc(NC(=O)/C=C/c2cccc([N+](=O)[O-])c2)o1', 'Cc1ccc(Cl)cc1NC(=O)CCn1c(=O)cc(C)c2cccc(C)c21', 'CCC(C(=O)NCc1cccc(F)c1)n1ncn2c(cc3occc32)c1=O', 'COc1ccc(-c2oc3cc(C)c(C)cc3c(=O)c2O[C@H](C)C(=O)O)cc1', 'CC(CNC(=O)CCc1ncc(-c2ccccc2Cl)o1)c1ccccc1', 'Cc1c(-c2cc3cc(NC(=O)O)ncc3c(C)c2F)cnc2c1NCCO2', 'COC(=O)c1cc(N2C[C@@H]3C[C@H]2CN3C(=O)OC(C)(C)C)nnc1Cl', 'COc1cc2cc(C(=O)OCc3ccccc3)cc(O)c2c(OC)c1OC', 'COC1C([N+](=O)[O-])=C2N(Cc3ccc(Cl)nc3)CCCN2C1(C)OC', 'COc1ccc2oc(/C=C/c3cc(OC)c(OC)c(OC)c3)cc(=O)c2c1', 'CC(=O)Nc1cccc(NC(=O)CCc2nc(-c3cccc(F)c3)no2)c1', 'CCC(=O)NC[C@H]1CN(c2cc(F)c(N3CC(=NO)C3)c(F)c2)C(=O)O1', 'COc1ccc(-c2cnc(CN(Cc3ccc(Cl)cc3)C3CC3)o2)cc1', 'CCOC(=O)C1(C(=O)OCC)C(c2ccc(C)cc2)C1S(=O)(=O)CC', 'COc1ncccc1COc1nc2cccnc2nc1C#Cc1ccccc1', 'CCc1ccc(Oc2c(CC)oc3cc(OCC(=O)O)ccc3c2=O)cc1', 'Cc1nc2c(C)cc(-n3cncn3)cc2cc1-c1cccc(C(F)(F)F)c1', 'CCOc1ccccc1/C=C1\\\\Oc2cc(O[C@@H](C)C(=O)OC)ccc2C1=O', 'CC1=NN(c2ccccc2)C(=O)[C@H]1/N=N/c1ccc2oc3ccccc3c2c1', 'CC1(C)OCC(CS(=O)C(CCc2ccccc2)C(=O)CC(=O)O)O1', 'OC[C@@H]1O[C@H](n2cnc3c(NC4CCCC4)cc(Cl)nc32)[C@H](O)[C@@H]1O', 'COc1cc2c(cc1OC)[C@H]1[C@H](OC)c3ccc4occc4c3O[C@@H]1CO2', 'Cc1noc(-c2c(C)sc(C)c2S(=O)(=O)N2CCCCCC2)c1C', 'C[C@H](c1cccs1)N(C)CCOc1ccc(S(=O)(=O)N(C)C)cc1', 'CCCC(NC(=O)c1nnn(-c2ccc(OC(F)F)cc2)c1C)C(=O)O', 'CNC(=S)NC(c1cc(F)c(N2CCOCC2)c(F)c1)c1cn[nH]n1', 'Cc1c(F)cc(C(=O)Nc2ccc3nc(C4CCC4)[nH]c3c2)cc1[N+](=O)[O-]', 'CO[C@H]1O[C@@H]2CO[C@@H](c3ccccc3)O[C@H]2C=C1OC(=O)c1ccccc1', 'COC(=O)CC(c1c(O)cc(C)oc1=O)c1ccc(OC)c2ccccc12', 'O=C(NCC(c1ccccc1)N1CCCC1)c1cc2cc(Cl)ccc2o1', 'CCOCCSc1nc2sc3c(c2c(=O)n1CCOC)CCCC3', 'COc1ccc(C(=O)CCC(=O)C2=CCC(C(F)(F)F)C=C2)cc1OC', 'O=C(NC(c1ccccc1)C1CC1)C1CC(=O)N(c2cccc(Cl)c2)C1', 'CC(C)(C)[Si](C)(C)Oc1cc(C=O)cc2sc(-c3ccccc3)cc12', 'O=C(Nc1cccc(NC(=O)C2(c3cccc(Cl)c3)CCC2)c1)C1CC1', 'COc1ccc(Oc2ncnc(N(CCC#N)CCC#N)c2[N+](=O)[O-])cc1', 'C[C@]1(NC(=O)Nc2ccccc2SC2CCCC2)CCS(=O)(=O)C1', 'COCCC(=O)Nc1ccc2c(c1)-c1ncnn1Cc1c(C(=O)O)ncn1-2', 'Cn1ccnc1C(NC(=O)Cc1ccc([N+](=O)[O-])cc1)c1ccc(F)cc1', 'CCc1ccc(OC(=O)NC(=O)CCSC(=S)N(CC)CC)cc1', 'C=C1COC(c2nc(-c3ccc(F)cc3)c(-c3ccnc(OC)n3)[nH]2)OC1', 'CC(=O)CC(c1ccccc1)c1c(O)c2ccccc2oc1=O.CC(=O)O', 'C#CCn1c(O)c(/N=N/C(=O)c2ccccc2-n2cccc2)c2ccccc21', 'Cc1cc(C)nc([NH+]=C(N)Nc2cc(Oc3ccccc3)ccc2Cl)n1', 'Cc1ccc(OCC(=O)NC2CCc3[nH]c4cc(Cl)ccc4c3C2)cc1', 'CCCCOc1ccc(Cl)cc1/C=C(/C#N)C(=O)Nc1ccccc1C', 'Cn1ncc2c(=O)n(CC(=O)N3C[C@@H](C(N)=O)Oc4ccccc43)cnc21', 'CC(=O)N1CCSc2ccc(S(=O)(=O)NC3CCCCCC3)cc21', 'Cn1ccc(C(=O)Nc2ccc(NC(=O)c3cnn(CC(=O)O)c3)cc2)n1', 'C[C@H]1C(=O)N(Cc2ccccc2Cl)CC(=O)N1C/C=C/c1ccccc1', 'COc1ccc2occ(C3CC(=O)OC4=C3C(=O)CC(C)(C)C4)c(=O)c2c1', 'O=C(CCn1ccc(=O)[nH]c1=O)N[C@H](c1ccncc1)c1ccc(F)cc1', 'COc1ccc(C(=O)N2CCC(c3c[nH]c4cc(Cl)ccc34)CC2)cc1', 'C=C(c1ccc(C(C)C(=O)O)cc1)c1ccc(C(=O)OC)cc1C(=O)OC', 'Cl.O=C(CN1C(=O)C2CN(Cc3ccco3)CCN2C1=O)NC1CC1', 'COc1cccc(NC(=O)c2ccc3[nH]c4nc5ccccc5nc4c3c2)c1', 'O=C(NCc1noc(-c2ccc3c(c2)OCO3)n1)[C@H]1NCCc2[nH]cnc21', 'O=C(CC1CCCS(=O)(=O)C1)Nc1nc(C2CC3CCC2C3)cs1', 'CP(OCCSC(=O)C(C)(C)C)OCCSC(=O)C(C)(C)C', 'COCC1CCCN(C(=O)c2cccc(-c3ccc(C#N)c(Cl)c3)c2)C1', 'CCOC(=O)c1ncn2c1Cn1c(C(N)=O)nnc1-c1cc(OC)ccc1-2', 'Cn1c(=O)c2c(c3ccccc31)OC(N)=C(C#N)[C@@H]2c1c[nH]c2ccccc12', 'Cc1cc(NC(=O)CCCCNS(=O)(=O)C(C)C)cc2ccsc12', 'O=C(O)Cc1ccc2c(n1)C(=C1CCNCC1)c1ccc(Cl)cc1CC2', 'O=c1c(=O)/c(=N\\\\Nc2ccccc2)c2ccccc2/c1=N/Nc1ccccc1', '[H]/N=C1\\\\O[C@@]2(C)O[C@@H](c3ccccc3)[C@@]1(C#N)C(C#N)(C#N)[C@H]2c1ccccc1', 'O=CC1=C(c2ccccc2)S[C@H](c2ccccc2)C(Cc2ccccc2)=C1', 'COC(=O)c1oc(COC(=O)CCc2ccc(-c3ccccc3)o2)cc1C', 'C=CC(=O)NCc1ccc(C(=O)N2Cc3c(Cl)cccc3C(C)C2)cc1', 'CCC(NC(=O)CCc1ncc(-c2ccccc2)o1)c1ccc(Cl)cc1', 'COc1ccc(C2=CC(=Cc3cccc(OC)c3OC)C(=O)O2)c(OC)c1', 'Cc1ccc(OCC(=O)NCC2(c3c[nH]c4cc(Cl)ccc34)CC2)cc1', 'C=C(C)COc1ccc(C2CC(=O)Oc3cc4c(cc32)OCO4)cc1OC', 'Cc1cc(S(=O)(=O)N2C[C@@H]3CC[C@H](C2)N(CC2CC2)C3=O)c(C)s1', 'CC[C@@H](C)c1ccc(-n2nc(C)c(C(=O)O)c2-c2ccc(Cl)cc2)cc1', 'CC(C)(C)c1ccc(Oc2coc3cc(OCC(=O)O)ccc3c2=O)cc1', 'Cn1c(=O)n(C)c2cc(NC(=O)[C@H]3CC(c4ccccc4F)=NO3)ccc21', 'Cc1ccc(OCC(=O)NC2CCc3[nH]c4ccc(Cl)cc4c3C2)cc1', 'O=C(CCNC(=O)c1n[nH]c2ccccc12)NNc1cccc([N+](=O)[O-])c1', 'O=C(O)c1ccc(C(CC2CO2)(CC2CO2)c2ccc(C(=O)O)cc2)cc1', 'Cc1nc2cc(-c3ccccc3)nn2c(-c2cc(F)c(F)cc2F)c1CN', 'O=C(Nc1cccc(Cl)c1)C1CCN(C(=O)/C=C/c2ccccc2)CC1', 'CCCCOCCOCCOc1ccc(S(=O)(=O)O)c2ccccc12', 'Cc1[nH]nc2nc(-c3ccc(O)cc3)c(C#N)c(CC(=O)c3ccccc3)c12', 'COc1cc(/C=C/C(=O)O/C=C/c2ccccc2)cc(OC)c1OC(C)=O', 'COC(=O)[C@]1(O)C[C@@H](CCP(=O)(OC)OC)[C@@H](OC(C)=O)[C@H](O)C1', 'CN(CC(=O)NC(=O)NC1CCCC1)Cc1cc([N+](=O)[O-])ccc1Cl', 'O=C1NC(Cc2c[nH]c3cccc(F)c23)C(=O)N1C1CC(c2ccon2)C1', 'COc1ccc(/C=C2\\\\C=C(c3ccc(OC)c(OC)c3)OC2=O)c(OC)c1', 'CC(=O)/C(=C(/C)N)c1ccc2[nH]c(=O)n3c2c1OCC3c1ccc(F)cn1', 'O=C1[C@H]2CN(Cc3ccc(Cl)cc3)C[C@H]2C(=O)N1CCc1ccccc1', 'O=C(c1c[nH]c2ccccc12)N1CCN(c2cc(F)ccc2[N+](=O)[O-])CC1', 'N#Cc1cccc(Cn2c(=O)n(-c3ccccc3)n(-c3ccccc3)c2=O)c1', 'CC(NC(=O)c1csc(S(N)(=O)=O)c1)C12CC3CC(CC(C3)C1)C2', 'CCn1cc(C(=O)Nc2ccc(C(C)C)cc2)c(=O)c2cc(Cl)ccc21', 'CCc1ccc(OCc2c(OC(=O)OC)cccc2C(F)(F)F)c(C)c1', 'CCOC(=O)c1ccc(-c2ccn3ncc(-c4ccc(C#N)cc4)c3n2)cc1', 'CCCCCCOC(=O)CCC(=O)CCC(=O)OCOP(=O)(O)O', 'COc1ccc(/C=C2/C(=O)OC[C@H]2Cc2ccc3c(c2)OCO3)cc1OC', 'CC1CCN(C(=O)Cc2cccc(-c3nc4cc(Cl)ccc4o3)c2)CC1', 'CCOC(=O)CC1=C(C)/C(=C/c2ccc(SC)cc2)c2ccc(F)cc21', 'O=C(Nc1ccc(/N=N/c2ccccc2)cc1)c1cc(-c2ccccc2)on1', 'C=CCOc1cc2oc(-c3ccccc3)cc(=O)c2c(OC)c1OCCO', 'CC(=O)N(C)c1nc2ccccc2n(CC(=O)Nc2cccc(F)c2)c1=O', 'C=C1NC(=O)NC(c2ccc(C(C)C)cc2)[C@H]1C(=O)c1ccc(Cl)cc1', 'Cc1ccc([C@@H](C)NC(=O)c2c(-c3ccccc3Cl)noc2C)c(C)c1', 'COc1ccc(OC)c(Nc2ncc(C(=O)Nc3ccc(F)cc3)cn2)c1', 'CN(CCCCOC(=O)c1ccc(Cl)cc1)c1ccc2ccccc2n1', 'C[C@H](NC(=O)CN[C@H](c1ccccc1)c1ccco1)c1ccc(Cl)cc1', 'COc1ccc(C2=C/C(=C/c3cccc(OC)c3OC)C(=O)O2)cc1OC', 'COc1cccc(OC)c1C(=O)Oc1ccc2c(c1C)OC(=C(C)C)C2=O', 'O=C(N/N=C\\\\[C@@H]1CC=CCC1)c1ccc(OCc2ccccc2Cl)cc1', 'COc1cccc(CNCc2ccncc2)c1OCc1ccccc1Cl', 'COc1cccc(/C=C/c2nc3ccc(Cl)cc3[nH]2)c1OC1CCCC1', 'CCCOC(=O)COc1ccc2c(=O)c(-c3ccccc3OC)coc2c1', 'CCOC(=O)CCCOc1ccccc1-c1cc2cc(C(=O)O)ccc2o1', 'O=C(Nc1ccc2[nH]ncc2c1)[C@H]1C[C@H](O)CN1C(=O)c1ccc(F)cc1', 'COc1ccc2ccc(O)c(-c3c(O)ccc(O)c3C(=O)OC(C)C)c2c1', 'CC1(C)Nc2cc(F)c(-c3cc(F)cc4[nH]ccc34)c(F)c2-c2ccnn21', 'COC(=O)[C@@H]1Cc2c([nH]c3ccccc23)C(c2ccncn2)N1C(=O)CF', 'CC(C)C(=C)CCC(C1C(CC2(C1(CCC3=C2CCC4C3(CCC(C4(C)C)OC(=O)C)C)C)C)O)C(=O)O', 'CC1CCN(C23C[C@H](NC(=O)CCN4CCN(C)CC4)C([C@H](c4ccccc4)C2)[C@H](c2ccccc2)C3)CC1', 'C[C@H]1[C@H](C)CC[C@]2(C(=O)OCC(=O)CO)CC[C@]3(C)C(=CC[C@@H]4[C@@]5(C)CC[C@H](O)C(C)(C)[C@@H]5CC[C@]43C)[C@H]12', 'CC1CCC(C(C)C)C(OP(=S)(OC2CC(C)CCC2C(C)C)OC2CC(C)CCC2C(C)C)C1', 'C=C(C)C1CC[C@]2(C(=O)OCC(=O)OC)CC[C@]3(C)C(CCC4[C@@]5(C)CC[C@H](O)C(C)(C)C5CC[C@]43C)C12', 'CCCCCCCCCCCC(=O)OC(O)C(=O)[C@H]1CC[C@H]2[C@@H]3CCC4=CC(=O)CC[C@]4(C)[C@H]3CC[C@]12C', 'CC[C@@H](C(C)C)[C@H](OC(C)=O)[C@@H](OC(C)=O)[C@@H](C)[C@H]1CC[C@H]2[C@@H]3CC(=O)[C@H]4CC=CC[C@]4(C)[C@H]3CC[C@]12C', 'C=C(CC(C)C[C@@H]1CC=CC(C/C=C\\\\C(=O)OC(CC)C(O)/C=C/C2CC=CCCC2)O1)C[C@H](O)C(C)C', 'CC(C)CCC[C@@H](C)C1CCC2[C@@H]3CC=C4C[C@@H](OC(=O)C5(C)COC(=O)OC5)CC[C@]4(C)C3CC[C@@]21C', 'CC(=O)OC[C@@]12CC[C@@]3(C)[C@@H]4CC(C)(C)CC[C@]4(OC(C)=O)CC[C@]3(C)[C@H]1CC[C@@]1(C)[C@H]2CCC(=O)[C@@H]1C', 'CCCCN(CCCC)CC(CC(C)(C)OC(=O)O)C(CCC)N(CCCC)CCCC.Cl.Cl', 'CCCOCCNC(=O)CC[C@H](NC(=O)CCCCCCCCCCCCCCCCC(=O)O)C(=O)O', 'COC(=O)[C@]12CCC(C)(C)C[C@H]1C1=CC[C@@H]3[C@@]4(C)CC[C@H](O)C(C)(C)[C@@H]4[C@H](OC(C)=O)C[C@@]3(C)[C@]1(C)CC2', 'CC#Cc1c(CC(CCC)CCN(C)CCC/C(C=O)=C(\\\\C)C/N=C(\\\\C)N(C)CCC)noc1/C=C(\\\\C)F', 'COC(=O)[C@]1(C)CC[C@]2(C)CC[C@]3(C)C4CC[C@@]5(COC(C)=O)C(CCC(=O)[C@@H]5C)[C@]4(C)CCC3(C)[C@@H]2C1', 'CC=O.CCN(C)C1(C)CC2CC(C)CC(NCC(=O)N3CCCC3C#N)(C2)C1.N#CC1CCCN1C=O', 'COC(=O)[C@]12CCC(C)(C)C[C@H]1[C@]13O[C@H]1C[C@@H]1[C@@]4(C)CC[C@H](OC(C)=O)C(C)(C)[C@@H]4CC[C@@]1(C)[C@]3(C)CC2', 'C=CC(C)(C)C/C(C)=C(\\\\SC(C)(C)C)c1cc(C(C)C)ccc1C.CCC1=CC=C(C)CC1.CSC', 'C=C1COC(CCC2CC(C)C3CC4C(C2)C2OC(CC(=O)CC5[C@H](C)C(C)C[C@@H]5OC)CCC2O[C@@H]34)C1', 'CC(C)OC(=O)CCCCCCCCC1C(O)CC(OC2CCCCO2)C1CO[Si](C)(C)C(C)(C)C', 'C=C(C)[C@@H]1CC[C@]2(CO)CC[C@]3(C)[C@H](CC[C@@H]4[C@@]5(C)[C@H](C(=O)OC)[C@H](OC(C)=O)C(C)(C)[C@@H]5CC[C@]43C)[C@@H]12', 'COC(=O)[C@]12CC[C@@H](C)[C@H](C)[C@H]1[C@H]1C(=O)C[C@@H]3[C@@]4(C)CC[C@H](OC(C)=O)C(C)(C)[C@@H]4CC[C@@]3(C)[C@]1(C)CC2', 'COCCOCO[C@H]1CC[C@]2(C)[C@H]3CCC(C)=C(Cc4cc(OC)cc(C)c4OC)[C@]3(C)CC[C@H]2C1(C)C', 'CC(=O)OC[C@]12CC[C@@H](C(C)=O)[C@@H]1[C@H]1CC[C@@H]3[C@@]4(C)CC[C@H](OC(C)=O)C(C)(C)[C@H]4CC[C@@]3(C)[C@]1(C)CC2', 'C.C.C.CCCCCCCCCC(=O)OC[C@H](COP(=O)(O)OCC)OC(=O)CCCCCCC', 'COC(=O)[C@]1(CCC(C)(C)[C@]2(C)CC[C@H]3C(C)(C)C(=O)[C@@H]4O[C@@H]4[C@]3(C)/C2=C/C(C)=O)CCC(C)(C)CC1C', 'CC(=O)OC[C@@]12CC[C@@H](C(C)=O)[C@H]1[C@@H]1CC[C@@H]3[C@]4(C)CC[C@H](OC(C)=O)C(C)(C)[C@@H]4CC[C@]3(C)[C@@]1(C)CC2', 'CCCCC[C@H](O)/C=C/C1=C(\\\\C[C@H](O)CO)C[C@H](CCCCCC(=O)O)CCc2c(CC)cccc2CC1', 'C[C@@H]1CC[C@]2(C)CC[C@]3(C)C(=CCC4[C@@]5(C)CC[C@@H](OCCC(=O)O)[C@](C)(C(=O)O)C5CC[C@]43C)C2[C@H]1C', 'CC=CC1CCC(C2CCC(C3CCC(C4CCC(c5ccc(OCC)c(F)c5F)CC4)CC3)CO2)CC1', 'CCc1cc(-c2ccc(-c3ccc(C4CCC(C)CC4)cc3)cc2F)cc(CC)c1OCC(CC)(CC)CC', 'CCCCCC(=O)OC1CCC(OOCC2CCC(C3CCC(c4ccc(C)c(OC)c4)CC3)CC2)CC1', 'CC/C=C/C=C/C=C/C=C/CCCCCC(=O)OCC(CO)OC(=O)CCCCC/C=C/C=C/CCCC', 'CC.[H]/N=c1\\\\c(NCCCCNC(=O)OC(C)(C)C)nc2cc(C(=O)Nc3ccccc3)ccc2n1C(C)C.[H][H].[H][H].[H][H]', 'C=C(C)[C@@H](C)CC[C@@H](C(=O)O)[C@H]1[C@H](O)C[C@@]2(C)C3=C(CC[C@]12C)[C@@]1(C)CC[C@@H](OC(C)=O)C(C)(C)[C@@H]1CC3', 'CCCCCC1CCC(CCc2ccc(OCc3ccc(OCC(F)C(F)CCCCC)cc3)cc2)CC1', 'COC(=O)[C@]12CC[C@@H](C)[C@H](C)[C@H]1C1=CC[C@@H]3[C@@]4(C)CC[C@H](OC(C)=O)C(C)(C)[C@@H]4CC[C@@]3(C)[C@]1(C)[C@@H](O)C2', 'COC(=O)[C@]1(C)CC[C@]2(C)CC[C@]3(C)[C@H]4CC[C@]5(COC(C)=O)[C@@H](C)C(=O)CC[C@H]5[C@]4(C)CC[C@@]3(C)[C@@H]2C1', 'CCCCCCCCCCCCCCCCCNC(=O)OC[C@H](COCOCCOC)Oc1ccon1', 'CCCCCCCC(=O)CCCCCCCCCC=CC=CC=CC=CC=CC=CC(=O)C(O)C(O)CO', 'CC(C)CN(Cc1nc2ccccc2n1C)C(=O)c1ccccc1.CCC.CCCNCc1ccccc1C', 'C=CC1CCC(C2CCC(C3CCC(C4CCC(c5ccc(OCCC)c(F)c5F)CC4)CC3)CC2)OC1', 'C/C=C\\\\CCCC(=O)NCC(=O)OCCCO[N+](=O)[O-].CCCCCCCC(=O)CCC(CC)CCC', 'Cc1c(CN2CCNCC2)c(C)c(N2CCN(C(=O)OC(C)(C)C)CC2)c(C)c1B1OC(C)(C)C(C)(C)O1', 'CC(CCC[C@@H](C)[C@H]1CC[C@H]2[C@@H]3CCC4CCCC[C@]4(C)[C@H]3CC[C@]12C)COC(=O)c1cc(F)cc(F)c1', 'CCCCCCCCCCCCCCCC(=O)NCCCCC(C(=O)OC)N(CC(=O)O)CC(=O)OC', 'CC[C@H]1OC(=O)[C@H](C)C(=O)[C@H](C)[C@@H](O[C@@H]2OC(C)CC(N(C)C)C2O)[C@](C)(OC)C[C@@H](C)CN(C)[C@H]1C', 'CCCCCCCOC(COCCCNC(=O)CCN1C(=O)CC(CC)C1=O)COCCOCCCC', 'CC(=O)OCCCCCCCCCCCC1CC2=CC(=O)CC[C@@H]2C2CC[C@@]3(C)C(CC[C@@H]3OC(C)=O)C12', 'CC.CC.CCCN(CCC)c1cc(N/N=C2\\\\CCOc3ccccc32)nc(OCCN2CCOCC2)n1', 'C=C(CCC(C)C1CCC2(C)C3CCC4C(C)(C(=O)O)C(O)CC(OC(C)=O)C45CC35CCC12C)C(C)C', 'C=C1C(=CC=C2CCC[C@]3(C)[C@@H]([C@H](C)C=C[C@@H](O)C(C)(C)C(=O)OCCCCC)CC[C@@H]23)C[C@@H](O)C[C@@H]1O', 'CC=CC1CCC(C2CCC(C3CCC(C4CCC(c5ccc(OCC)c(F)c5F)CC4)CO3)CC2)CC1', 'COCOCC[C@H](CCO[Si](C)(C)C(C)(C)C)[C@@H](/C=C(\\\\C)CC/C=C(\\\\C)CCCC(C)=O)OCOC', 'C=C(C)[C@@H]1CC[C@]2(C)CC[C@]3(CO)[C@H](CC[C@@H]4[C@@]5(C)CC[C@@H](OC(C)=O)[C@](C)(C(=O)OC)[C@@H]5CC[C@]43C)[C@@H]12', 'C=Cc1cccc(-c2nc3ccc(C(=O)N(CCC(C)C)CCC(C)C)cc3n2CCCN2CCCCC2)c1', 'CC(=O)OC(C)(C)[C@H]1C[C@@]23O[C@@H]1C[C@@H](C)[C@@H]2[C@@]1(C)CC[C@@]24C[C@@]25CC[C@H](O)C(C)(C)[C@@H]5CC[C@H]4[C@]1(C)[C@H]3O', 'C=C(CCCCCCCCCCCCCCC(=O)O)N[C@H](CO)CCC(=O)NCCOCCOCC=O', 'COCCNC(=O)CC[C@H](NC(=O)CCCCCCCCCCCCCCCCCCC(=O)O)C(=O)O', 'CCCCCCCCCCCCC(=O)OC(CCC)CCCCCC(=O)NCC(=O)NC(CO)C(=O)O', 'C=C/C=N\\\\C(=C/C)n1c(/C=C\\\\C(=C)OC(=C)/C=C\\\\C=C/CC(C)C)cn2c(CCC)c(C(C)CCCC)nc12', 'CC(C)(C)C.CC/C=C(/S)Oc1cc(C)c(CCN(C)CC)cc1C.[H]/N=C(\\\\C)c1cnc(CCC)cn1', 'C=CC=O.CCCC1CCC(C2CCC(C(=O)Oc3ccc(CCCCCCOC)c(OC)c3)CC2)CC1', 'C=C(C)[C@@H]1CC[C@]2(C(=O)OC)CC[C@]3(C)C(CC[C@@H]4[C@@]5(C)CCC(O)C(C)(COC(C)=O)[C@@H]5CC[C@]43C)[C@@H]12', 'CCC(=O)OC[C@H](C)CCC1=C(C)[C@@H]2[C@H](C[C@H]3[C@H]4CC[C@H]5C[C@@H](OC(=O)CC)CC[C@]5(C)[C@@H]4CC[C@]23C)O1', 'CO[C@@H]1C=C2[C@@H]3[C@H](C)[C@H](C)CC[C@]3(C)CC[C@]2(C)[C@]2(C)CC[C@@H]3[C@](C)(CC[C@H](OC(C)=O)[C@@]3(C)C(=O)O)[C@H]12', 'CC[C@@H]1[C@H](OC2CCCCO2)CC2=CC=C3[C@@H]4CC[C@H]([C@@H](C)O)[C@@]4(C)CC[C@@H]3[C@@]2(C)[C@H]1OC1CCCCO1', 'C=C/C=C(OCCCCCCCC)\\\\C(=C/C)C(=O)Nc1ccc(C(=O)N2CC[N+](C)(CC)CC2)cc1.CO', 'CCCCCC[C@]1(O[C@@]2(CCCC)O[C@H]([C@H](C)N)[C@@H]3OC(C)(C)O[C@@H]32)O[C@H]([C@H](C)N)[C@@H]2OC(C)(C)O[C@@H]21', 'CCCCCCCCCCCCc1csc(/C=C/c2cc(CCCCCCCCCCCC)cs2)c1', 'CC(=O)O[C@@H](C)[C@@H](/C=C/[C@H](O)CCCCCCCC(=O)OC(C)(C)C)O[Si](C(C)C)(C(C)C)C(C)C', 'C=C(CO)[C@@H]1CC[C@]2(C(=O)OC)CC[C@]3(C)[C@H](CC[C@@H]4[C@@]5(C)CC[C@H](OC(C)=O)C(C)(C)[C@@H]5CC[C@]43C)[C@@H]12', 'COC(=O)[C@]12CC[C@H](C)[C@H](C)[C@@H]1[C@@H]1C(=O)C[C@@H]3[C@]4(C)CC[C@H](OC(C)=O)C(C)(C)[C@@H]4CC[C@@]3(C)[C@]1(C)CC2', 'CCC(=O)OC[C@@H](C)CCC1=C(C)[C@@H]2[C@H](C[C@H]3[C@H]4CC[C@H]5C[C@@H](OC(=O)CC)CC[C@]5(C)[C@@H]4CC[C@]23C)O1', 'C=C(CC[C@@H](C)[C@H]1CC=C2C3=C([C@@H](O)[C@H](OC(C)=O)[C@@]21C)[C@@]1(C)C[C@@H](O)[C@H](OC)C(C)(C)[C@@H]1CC3)C(C)C', 'CCCCCCCCCCCCCCCCNC(CC(=O)NO)[C@H]1O[C@@H]2OCO[C@@H]2[C@H]2OC(C)(C)O[C@H]21', 'CC(C)(C)NC(=O)CC1(C2CCCCC2)CCN(C(=O)[C@@H](Cc2ccc(F)cc2)NCC2CCCN2)CC1', 'C[C@@H]1CC[C@]2(C(=O)O)CC[C@]3(C)C(=CCC4[C@@]5(C)C[C@@H](O)[C@@H]6OC(C)(C)OC[C@]6(C)C5CC[C@]43C)C2[C@H]1C', 'CCCCN(CCCC)C(=O)c1ccn2nc(-c3ccc(C(C)(C)C)cc3)c(/C=C/CN3CCCCC3)c2c1', 'CCCCC[C@H](O)C=CC1=C(C[C@H](O)CO)C[C@H](CCCCCC(=O)O)CCc2c(CC)cccc2CC1', 'COC(=O)[C@]12CCC(C)(C)C[C@H]1C1=CC[C@@H]3[C@@]4(C)C[C@H](OC(C)=O)[C@@H](O)C(C)(C)[C@@H]4CC[C@@]3(C)[C@]1(C)CC2', 'C=C(C)C1CC[C@]2(C(=O)OCOC(C)=O)CC[C@]3(C)[C@H](CC[C@@H]4[C@@]5(C)CC[C@@H](O)C(C)(C)C5CC[C@]43C)C12', 'CC(C)(CC(=O)OC1CCC2(C)C(CCC3(C)C4CCC5(C=O)CCCCC5C4CCC32)C1(C)C)C(=O)O', 'C=C(C)[C@@H]1CC[C@]2(C(=O)OCOC(C)=O)CC[C@]3(C)[C@H](CC[C@@H]4[C@@]5(C)CC[C@H](O)C(C)(C)[C@@H]5CC[C@]43C)[C@@H]12', 'CC1CC2CC(C1)CC(C)(c1cc(C34CC5CC(CC(C5)C3)C4)cc(C34CC5CC(CC(C5)C3)C4)c1S)C2', 'CC1CCCC2(C)C1CCC1(C)C3CCC4(C(=O)O)CCCC4C3CCC21.O=C(OCC1CO1)C1CCC1', 'CCC(=O)O[C@H]1CC[C@]2(C)[C@H]3CC[C@@H]4[C@@H](C5(O)C[C@H](C=C(C)C)OC5=O)CC[C@@]4(C)[C@]3(C)CC[C@H]2C1(C)C', 'C=C1/C(=C\\\\C=C2/CCC[C@]3(C)[C@@H]([C@H](C)CCCC(C)C)CC[C@@H]23)C[C@](O)(CCC(=O)O)C[C@@H]1CCC(=O)O', 'CC.CC.CC(C)(C)OC(=O)OC1/C=C\\\\CCCCC1.CC(C)(C)SC(=O)OC1/C=C\\\\CCCCC1', 'CCCCCCCCCCCCc1ccsc1C=Cc1sccc1CCCCCCCCCCCC', 'COC(=O)[C@]12CC[C@@H](C)[C@@](C)(O)[C@H]1C1=CC[C@@H]3[C@@]4(C)CC[C@H](OC(C)=O)C(C)(C)[C@@H]4CC[C@@]3(C)[C@]1(C)CC2', 'CC=C1C(=O)[C@@H]2[C@H](CC[C@]3(C)[C@@H]([C@H](C)CCC(=O)OCC)CC[C@@H]23)[C@@]2(C)CC[C@@H](OC3CCCCO3)C[C@@H]12', 'CC(=O)C1CCC1(C)CC(C=O)CC(=O)C1C(C(=O)C(CC(=O)CC(C)(C)C)C(C)(C)C)CC2C1C2(C)C', 'CCOC(C)C1C=CC(OCCCOC23CC4CC5CC(OC(=O)C(CC(C)C)C(C)(C)CC)(C2)C453)=CC1', 'COC(=O)[C@]12CCC(C)(C)C[C@H]1C1=CC[C@@H]3[C@@]4(C)CC[C@@H](O)[C@](C)(COC(C)=O)[C@@H]4CC[C@@]3(C)[C@]1(C)CC2', 'C=C(C)[C@@H]1CC[C@]2(C(=O)OC)CC[C@]3(CO)[C@H](CC[C@@H]4[C@@]5(C)CC[C@@H](OC(C)=O)C(C)(C)[C@H]5CC[C@]43C)[C@H]12', 'C=C(C)C(C)CC[C@@H](C(=O)O)[C@H]1[C@H](O)C[C@@]2(C)C3=C(CC[C@]12C)[C@@]1(C)CC[C@H](OC(C)=O)C(C)(C)[C@@H]1CC3', 'C=C(O)/C(N)=C1C(=N/CC)/CC2CC/12.CC1CCCC1.CCCCCC(CCC)c1cccc(Cl)c1C', 'CC[C@H](/C=C/[C@@H](C)[C@H]1CC[C@H]2[C@@H]3C(=O)C[C@H]4C[C@H](OC(C)=O)[C@H](OC(C)=O)C[C@]4(C)[C@H]3CC[C@]12C)C(C)C', 'COC(=O)N1CCC(C(=O)O)CC1CCC(C)(C)C.COC(=O)N1CCC(CO)CC1CCC(C)(C)C', 'C/C=C/CCc1ccc(OC(=O)C2CCC(C3CCC4CC(CCCCCC)CCC4C3)CC2)c(F)c1F', 'CCCCC[C@H](O)CC[C@@H]1[C@H]2Cc3cccc(OCC(=O)O[C@@H]4C[C@H](C)CC[C@H]4C(C)C)c3C[C@H]2C[C@H]1O', 'CCC(CO)CCC(CC(CCC1CC(CC2CCNC(N)C2)C(O)C(OC)C1)OC(C)=O)OC(C)=O', 'C[C@H]1[C@H](C)CC[C@]2(C(=O)O)CC[C@]3(C)C(=CC[C@@H]4[C@@]5(C)C[C@@H](O)[C@@H]6OC(C)(C)OC[C@@]6(C)[C@@H]5CC[C@]43C)[C@H]12', 'CNc1ccccc1C(C)(C)C/C=C/C=C/C=C1/N(CCCCCC(=O)NCCN)c2ccccc2C1(C)C', 'CC(C)(C)c1ncc(C=O)c(NCc2ccco2)n1.CC(C)CN(C)C1CNCC(CN2CCOCC2)C1', 'CC1CCC(C(C)C)C(C2CCNCC2)(N(C(=O)N2CCCCC2)c2ccc(N3CCOCC3)c(F)c2)C1', 'CCCCCC(O)CCC1C(O)CC2Cc3c(cccc3OCC(=O)OC3CCCCCCCCC3)CC21', 'C/C=C/C1CCC(C2CCC(C3CCC(C4CCC(c5ccc(OCC)c(F)c5F)CC4)CC3)CC2)OC1', 'CC[C@H](/C=C/[C@@H](C)[C@H]1CC[C@H]2[C@@H]3CC(=O)[C@H]4C[C@H](OC(C)=O)[C@H](OC(C)=O)C[C@]4(C)[C@H]3CC[C@]12C)C(C)C', 'C=C1/C(=C\\\\C=C2/CCC[C@]3(C)C([C@H](C)CCC(C)[C@@]4(C)O[C@H](C(C)(C)C)OC4=O)CC[C@@H]23)C[C@@H](O)C[C@@H]1O', '[H]/N=C(/N=C(N)NC(=O)OCCCCNC(=O)CCC/C=C\\\\C/C=C\\\\C/C=C\\\\C/C=C\\\\C/C=C\\\\CC)N(C)C', 'C=C(C(C)C)[C@H](OC(C)=O)[C@@H](OC(C)=O)[C@@H](C)[C@H]1CC[C@H]2[C@@H]3C[C@@H](OC)[C@]45C[C@H]4CC[C@]5(C)[C@H]3CC[C@]12C', 'O=C(O)C(=C(C1CCCCC2OC2CCC1)C1CCCCC2OC2CCC1)C1CCCCC2OC2CCC1', 'C=C1C(=CC=C2CCC[C@@]3(C)C2CC[C@@H]3[C@H](C)CCCC(C)C)C[C@](O)(CCC(=O)O)C[C@@H]1CCC(=O)O', 'COC1C=C2C3CC(C)(C)CCC3(C(=O)O)CCC2(C)C2(C)CCC3C(C)(C)C(OC(C)=O)CCC3(C)C12', 'CC(=C[C@H](C(C)C)N(C)C(=O)[C@@H](NC(=O)C1CCCCN1C(C)C)C(C)C)C(=O)N(CCC#N)CCC#N', 'CCCCCCCCCC(=O)OC(CCCCCC)CCCCCC(=O)NCC(=O)NC(CO)C(=O)O', 'CCCCNC(=O)NCc1ccc(CN2C(=O)C(CCCC)(C3CCCN(OC(C)(C)C)C3)N=C2N)cc1', 'CC(=O)OC(C)(C)C1CC23OC1CC(C)C2C1(C)CCC24CC25CCC(O)C(C)(C)C5CCC4C1(C)C3O', 'C=CC(=C)OCCCOC1(C#CC2(OCCCOC(=O)C=C)CCC(CCC)CC2)CCC(CCC)CC1', 'COC(=O)[C@@]1(C)O[C@H]1CC[C@@H](C)[C@H]1CC[C@@]2(C)[C@@H]3CC[C@H]4C(C)(C)[C@H](OC(C)=O)CC[C@]4(C)C3=CC[C@]12C', 'C=C(CCC(C)C1CCC2(C)C3=C(CC(O)C12C)C1(C)CCC(OC(C)=O)C(C)(C)C1CC3)C(C)C(=O)O', 'COC(=O)[C@]12CC[C@@H](C)[C@H](C)[C@H]1[C@@H]1C(=O)C[C@@H]3[C@@]4(C)CC[C@H](OC(C)=O)C(C)(C)[C@@H]4CC[C@@]3(C)[C@]1(C)CC2', 'CC(=O)OC[C@]12CC[C@@H](C(C)=O)[C@H]1[C@@H]1CC[C@@H]3[C@]4(C)CC[C@H](OC(C)=O)C(C)(C)[C@@H]4CC[C@]3(C)[C@]1(C)CC2', 'COC1CCC(O)(CCC(C)C2CC[C@H]3[C@@H]4CC[C@H]5C[C@](O)(C(F)(F)F)CC[C@]5(C)[C@H]4CC[C@]23C)CC1', 'CC[C@H](/C=C/[C@@H](C)[C@H]1CC[C@H]2C3=C[C@@H](OC(C)=O)[C@@]4(O)C[C@@H](OC(C)=O)CC[C@]4(C)[C@H]3CC[C@]12C)C(C)C', 'CCC1CC(C(OC(C)=O)C(C)(C)O)OC2CC3C4CCC5C(C)(C)C(=O)CCC56C(C)C46CCC3(C)C12', 'C/C=C/C1CCC2CC(C3CCC(C4CCC(COc5ccc(OCC)c(F)c5F)CC4)CC3)CCC2C1', 'COC(=O)[C@]12CC[C@@H](C)[C@@H](C)[C@H]1[C@H]1C(=O)C[C@H]3[C@@]4(C)CC[C@H](OC(C)=O)C(C)(C)[C@@H]4CC[C@]3(C)[C@]1(C)CC2', 'CC1(C)O[C@@H]2C[C@]3(C)C4=C(CC[C@H]3C(C)(C)[C@H]2O1)[C@]1(C)CC[C@H]([C@H]2CC[C@H]3O[C@@H]2OC3(C)C)[C@@]1(C)[C@@H](O)C4', 'C=C(CC[C@@H](C(=O)O)C1C[C@H](OC(C)=O)[C@@]2(C)C3=C(CCC12C)C1(C)CC[C@H](O)C(C)(C)C1CC3)C(C)C', 'C=C(C)C1CC[C@]2(COC(=O)C(O)CO)CC[C@]3(C)C(CCC4[C@@]5(C)CCC(=O)C(C)(C)C5CC[C@]43C)C12', 'CC(=O)OCC12CCC(C(C)=O)C1C1CCC3C4(C)CCC(OC(C)=O)C(C)(C)C4CCC3(C)C1(C)CC2', 'CC=CC1CCC(C2CCC(C3CCC(C4CCC(c5ccc(OCC)c(F)c5F)CO4)CC3)CC2)CC1', 'C=C(COC(C)=O)[C@@H]1CC[C@]2(C(C)=O)CC[C@]3(C)C(CC[C@@H]4[C@@]5(C)CC[C@H](O)[C@@](C)(CO)[C@@H]5CC[C@]43C)[C@@H]12', 'CC(=O)O[C@@]1(C)CC[C@H]2[C@@H]3[C@H](CCCCCCCCCCC(=O)O)CC4=CC(=O)CC[C@]4(C)[C@H]3CC[C@@]21C', 'CNC(OC)C(N)N(c1ccc(CN2CCN(C(C)C)CC2)cc1)C(N)c1cc(C(C)C)c(OC)cc1O', 'C=C(CO)C1CCC2(C(=O)OC)CC[C@]3(C)C(CCC4C5(C)CCC(OC(C)=O)C(C)(C)C5CCC43C)C12', 'C=C(CCC(C(=O)O)[C@H]1[C@H](O)C[C@@]2(C)C3=CC[C@H]4C(C)(C)C(OC(C)=O)CC[C@]4(C)C3CC[C@]12C)C(C)C', 'C/C=C/C1CCC(C2CCC(C3CCC(C4CCC(c5ccc(OCC)c(F)c5F)CC4)CC3)CC2)CO1', 'C=C(/C(=C/CCCC(=O)C1=CCC2CC1C2(C)C)B1OC(C)(C)C(C)(C)O1)C(C)O[Si](C)(C)C(C)(C)C', 'CC1(C)CCC(N2CCC3(CC2)C(=O)N(CCNCC2CCCCC2)CN3c2ccccc2)c2ccccc21', 'CCNCC(=C(\\\\c1cc(C2CCN(C3COC3)CC2)ccc1C)C(C)C)/C1=C/CCC2CC(=NC=N2)/C(C)=C\\\\1', 'COC(=O)[C@]12CC[C@](C)(O)[C@H](C)[C@H]1C1=CC[C@@H]3[C@@]4(C)CC[C@H](OC(C)=O)C(C)(C)[C@@H]4CC[C@@]3(C)[C@]1(C)CC2', 'CNCC(CN)c1cc(C(=O)NCC2C(=O)NC(C)CC2C)c(C)c(N(C)C2CCC(NC(C)=O)CC2)c1', 'CCC(C)(CC)CC(C)(CC1(C)CC(C)(CC(c2ccccc2)C(C)(CC)CC)C(=O)OC1=O)C(=O)OC', 'CC(=O)OC1CCC2(C)C(CCC3(C)C2CCC2C4C(C)C5(C)OCC4(CCC23C)C5OC(C)=O)C1(C)C', 'C/C(=C\\\\[C@H](C(C)C)N(C)C(=O)[C@@H](NC(=O)C1CCCCN1C(C)C)C(C)C)C(=O)N(CCC#N)CCC#N', 'CCCCC[C@@H](O)CC[C@@H]1[C@H]2Cc3cccc(OCC(=O)O[C@@H]4CC(C)C(C)(C)C4(C)C)c3C[C@H]2C[C@H]1O', 'CC(=O)OC1CCC2(C)C(CCC3(C)C2CCC2C4C(C)[C@@]5(C)OCC4(CC[C@]23C)[C@@H]5OC(C)=O)C1(C)C', 'COC(=O)[C@H](C)CC(=O)C[C@@H](C)[C@H]1CC[C@@]2(C)[C@@H]3CC[C@H]4C(C)(C)[C@H](OC(C)=O)CC[C@@]45C[C@@]35CC[C@]12C', 'CC(C)(C)c1ccc(C(CCC(O[Si](C)(C)C(C)(C)C)c2ccccc2)c2ccc(C(C)(C)C)cc2)cc1', 'CCC(C)=C(NC1CCN(C(=O)OC2CCN(C(=O)/C=C/CN(C)C)C2)CC1)c1ncn(CC)c1C(C)C', 'CCCCCCCCCc1ccc(-c2ccc(C3OCC(CCCCCCCCC)CO3)cc2)c(F)c1F', 'CCCCCCCCCCCCCCc1ccccc1OCC(COP(=O)(O)CC[N+](C)(C)C)OC', 'COC(=O)[C@]12CCC(C)(C)C[C@@H]1[C@H]1C(=O)C[C@@H]3[C@@]4(C)CC[C@H](OC(C)=O)C(C)(C)[C@H]4CC[C@@]3(C)[C@]1(C)CC2', 'COC(=O)C1(C)CCC2(C)CCC3(C)C4CCC5(COC(C)=O)C(C)C(=O)CCC5C4(C)CCC3(C)C2C1', 'CCCCCCCCC(CCCCCCCC)NC(=O)NC(CCC(=O)O)(CCC(=O)O)CCC(=O)O', 'C=C(CC[C@@H](OC=O)[C@H]1C[C@H](OC(C)=O)[C@@]2(C)C3=C(CC[C@]12C)[C@@]1(C)CC[C@H](O)C(C)(C)[C@@H]1CC3)C(C)C', 'CC(C)C(=O)CCOCC(COCCC(=O)C(C)C)(COCCC(=O)C(C)C)NC(=O)CN(C)C(C)C', 'C=C(C)C(C)CC[C@@H](C(=O)O)[C@H]1[C@H](O)C[C@@]2(C)C3=C(CC[C@]12C)[C@@]1(C)CC[C@@H](OC(C)=O)C(C)(C)[C@@H]1CC3', 'C=C1CC[C@@H]2[C@H]([C@H]3[C@H]1CC[C@]3(C)[C@@H](CC(C)C)c1c(OC)c(C(C)O)c(OC)c(C(C)O)c1OC)C2(C)C', 'COC1C=C2[C@@H]3[C@@H](C)[C@H](C)CC[C@]3(C)CC[C@@]2(C)[C@]2(C)CC[C@@H]3[C@](C)(CC[C@@H](OC(C)=O)[C@]3(C)C(=O)O)[C@@H]12', 'CN1C(=O)N(C2CCN(C3CCN(C(=O)C4CC4)CC3)CC2)[C@H]2CCCC[C@@H]21.O=C1NC2CCCCC2N1', 'CC1=CCCC(C)CC(O[Si](c2ccccc2)(c2ccccc2)C(C)(C)C)CC(C)=CC=C(C(C)C)CC1', 'C=CCCCn1cc(/C(=C\\\\C(/C=C(\\\\C)CC(C)CCCC)C(C)C)CCNC(=O)C(=O)NC)c(C([O-])O)c1', 'CC/C=C\\\\C/C=C\\\\C/C=C\\\\C/C=C\\\\C/C=C\\\\CCCC(=O)NCCCCOC(=O)/N=C(N)/N=C(\\\\N)N(C)C', 'CCCCCCCCCCCCCCCCCCOCC(NC(C)=O)C(=O)N[C@@H](CCC(=O)O)C(=O)O', 'CO[C@@H]1C=C2[C@@H]3[C@H](C)[C@H](C)CC[C@]3(C)CC[C@]2(C)[C@]2(C)CC[C@@H]3[C@](C)(CC[C@H](OC(C)=O)[C@]3(C)C(=O)O)[C@H]12', 'C=C(C)[C@@H]1CC[C@@]2(C(=O)OC)[C@H]1[C@H]1CC[C@@H]3[C@@]4(C)CC[C@H](OC(C)=O)C(C)(C)[C@@H]4CC[C@@]3(C)[C@]1(C)C[C@@H]2O', 'CC(=O)OC(C(C)C(C)C(C)C)[C@]1(C)O[C@]12CCC1C3CC=C4C[C@@H](OC(C)=O)CC[C@]4(C)C3CC[C@@]12C', 'COC(=O)CN(CCCCCCCCCCC(=O)NCCCCCCCCCCC(=O)O)CC(=O)OC', 'COCCOCCN.COCCOCCNC(=O)C1CC/C=C\\\\CCC1.O=C(O)C1CC/C=C\\\\CCC1', 'C=C(CC[C@@H](C)[C@H]1CC[C@@]2(C)C3=C(C[C@H](O)[C@]12C)[C@@]1(C)CC[C@@H](OC(C)=O)C(C)(C)C1CC3)[C@H](C)C(=O)O', 'COC(=O)C12CCC(C)C(C)C1C1=CCC3C4(C)CCC(OC(C)=O)C(C)(C)C4CCC3(C)C1(C)C(O)C2', 'CCc1cc(-c2ccc(-c3ccc(C4CCC(C)CC4)cc3)cc2F)c(CC)c(CC)c1OCC(CC)CC', 'CCNc1cccc(C(=O)NCc2c(C)n(CCN3CCOCC3)[nH]c2=O)c1C.CN(C)C1CCCCC1', 'COCOCC[C@@H](CCO[Si](C)(C)C(C)(C)C)[C@@H](/C=C(\\\\C)CC/C=C(\\\\C)CCCC(C)=O)OCOC', 'CC(=C[C@H](C(C)C)N(C)C(=O)[C@@H](NC(=O)[C@H]1CCCCN1C(C)C)C(C)C)C(=O)N(CCC#N)CCC#N', 'COC(=O)[C@]12CCC(C)(C)C[C@H]1C1=CC[C@@H]3[C@@]4(C)CC[C@H](OC(C)=O)C(C)(C)[C@@H]4[C@@H](O)C[C@@]3(C)[C@]1(C)CC2', 'CC(=O)O[C@H]1C[C@@]2(C)C(C)(CC(C)[C@H]3[C@@]4(C)CC[C@@H](O)[C@@H](C)[C@@H]4CC[C@@]32C)/C1=C(\\\\CCC=C(C)C)C(=O)O', 'CC(C)(C)NC(=O)[C@H](CC1CCCCC1)N1CCC[C@](O)([C@H](Cc2ccccc2)N(C(=O)[O-])C(C)(C)C)C1', 'CC(=O)OCCCCCCCCCCCC1CC2=CC(=O)CCC2C2CCC3(C)C(OC(C)=O)CCC3C12', 'CC(=O)O[C@H]1CC[C@@]2(C)[C@H](CC[C@]3(C)[C@@H]2[C@H](O)[C@H](OC=O)[C@]24C[C@@]23CC[C@@]2(C)CC[C@@H](C)[C@H](C)[C@H]24)C1(C)C', 'CCCCCOC(=O)C(C)(C)C(=O)/C=C/C(C)[C@H]1CC[C@H]2/C(=C/C=C3\\\\CC(O)C(C)[C@H](O)C3)CCCC12C', 'CC=CC1CCC(C2CCC(C3CCC(C4CCC(c5ccc(OCC)c(F)c5F)CC4)CC3)OC2)CC1', 'CCCCCCCCCCCCC(=O)N[C@@H](CCC/N=C(\\\\N)N[N+](=O)[O-])C(=O)N[C@@H](CC(C)C)B(O)O', 'C=C(C)C1CC[C@]2(C(=O)OCC(O)CO)CC[C@]3(C)C(CCC4[C@@]5(C)CCC(=O)C(C)(C)C5CC[C@]43C)C12', 'COC(=O)[C@@]12CC[C@H](C)[C@@H](C)[C@H]1[C@H]1C(=O)C[C@H]3[C@@]4(C)CC[C@H](OC(C)=O)C(C)(C)[C@@H]4CC[C@]3(C)[C@]1(C)CC2', 'CCC=CCC=CCC=CCC=CCC=CCCCC(=O)NCCCCOC(=O)N=C(N)N=C(N)N(C)C', 'C.CC1=CC(/C(C)=C/c2c(C)cccc2C2CCC(C(=O)CC[C@@H](C)c3ccc(F)cc3)[C@H](C)C2)=CC=CC1.[H][H]', 'C/C=C/C1CCC(C2CCC(C3CCC(C4CCC(c5ccc(OCC)c(F)c5F)CC4)CO3)CC2)CC1', 'CC(=O)O[C@H]1CC[C@@]2(C)C(=CC[C@@H]3[C@@H]2CC[C@@]2(C)[C@H]3CC[C@]23O[C@@]3(C)[C@@H](OC(C)=O)[C@@H](C)[C@H](C)C(C)C)C1', 'CCCCCCCCc1ccccc1S(=O)(=O)OP(CCCC)(CCCC)(CCCC)CCCC', '[2H]C([2H])([2H])C([2H])([2H])C([2H])([2H])C([2H])([2H])N(C(=O)CN1C[C@H](c2ccc3c(c2)OCO3)C(C(=O)O)[C@@H]1c1ccc(OC)cc1)C([2H])([2H])C([2H])([2H])C([2H])([2H])C([2H])([2H])[2H]', 'C/C1=C\\\\CCC(C)CC(O[Si](c2ccccc2)(c2ccccc2)C(C)(C)C)C/C(C)=C/C=C(/C(C)C)CC1', 'CCC(=O)OC[C@H](C)CCC1=C(C)[C@@H]2[C@@H](C[C@H]3[C@@H]4CC[C@H]5C[C@@H](OC(=O)CC)CC[C@]5(C)[C@H]4CC[C@]23C)O1', 'CCCCCCCCOc1ccc(COc2ccc(CCC3CCC(CCCCC)CC3)cc2)c(F)c1F', 'CCN(CC)CCO[Si](OCCN(CC)CC)(OCCN(CC)CC)OCCN(CC)CC.Cl', 'CC(=O)O[C@H]1CCC(C)(C)[C@H](CC[C@]2(C)CC(=O)C=C3[C@@H]4[C@@H](C)[C@@H](C)CC[C@]4(C)CC[C@@]32C)[C@@]1(C)C(=O)O', 'COC(=O)C1(C)CC[C@]2(C)CC[C@]3(C)[C@H](C(=O)C[C@@H]4[C@@]5(C)CC[C@H](OC(C)=O)C(C)(C)C5CC[C@]43C)[C@@H]2C1', 'CCC(=O)O[C@H]1CC[C@]2(C)[C@H]3C(=O)C[C@H]4[C@@H]5C[C@@](C)(C(=O)O)CC[C@]5(C)CC[C@@]4(C)[C@]3(C)CC[C@H]2C1(C)C', 'CCOCCNC1OC1CC[C@H](NC(=O)CCCCCCCCCCCCCCCCC(=O)O)C(=O)O', 'C=CCCc1c(F)cc(OC(=O)C2CCCC3CC(C4CCC(CCCCCCC)CC4)CCC32)cc1F', 'CCCCCC1CCC(CCc2ccc(OCc3ccc(OC[C@H](F)[C@@H](F)CCCCC)cc3)cc2)CC1', 'C=C.C=C/C=C(\\\\C=C(/C)C(=O)O)C/C(C)=C/C=C(C)C.CC.CC.CCOc1ccc(C(C)=O)c(O)c1C', 'CNCCC(NCC(C)(C)C)[C@H](O)N[C@@H](C(=O)N1CC[C@](O)([C@H]2CC=C(Cl)CC2)C(C)(C)C1)C(C)C', 'CC(=O)O[C@H]1CC[C@]2(C)[C@H]3[C@H](O)[C@H](OC=O)[C@]45C[C@]4(CC[C@@]4(C)CC[C@@H](C)[C@H](C)[C@H]45)[C@]3(C)CC[C@H]2C1(C)C', 'COC(=O)[C@H](C)CC(=O)C[C@@H](C)[C@H]1CC[C@@]2(C)C3=CC[C@H]4C(C)(C)[C@H](OC(C)=O)CC[C@]4(C)[C@@H]3CC[C@]12C', 'C=CC(=O)OCCOC(=O)OC1CC[C@@]2(C)C(=CC[C@H]3[C@@H]4CC[C@H]([C@H](C)CCCC(C)C)[C@@]4(C)CC[C@@H]32)C1', 'CCC(=O)OC[C@@H](C)CCC1=C(C)[C@H]2[C@@H](C[C@H]3[C@@H]4CC[C@H]5C[C@@H](OC(=O)CC)CC[C@]5(C)[C@H]4CC[C@@]32C)O1', 'CCc1cc(-c2cc(CC)c(OCC(CC)CC)c(CC)c2)ccc1-c1ccc(C2CCC(C)CC2)cc1F', 'CCCCC[C@@H](O)CC[C@@H]1[C@H]2Cc3cccc(OCC(=O)O[C@@H]4C[C@H](C)CC[C@H]4C(C)C)c3C[C@H]2C[C@H]1O', 'CCCCC[C@@H](O)CC[C@@H]1[C@H]2Cc3cccc(OCC(=O)O[C@@H]4C[C@H](C)CCC4C(C)C)c3C[C@H]2C[C@H]1O', 'CC(C)CCC[C@@H](C)[C@H]1CC[C@H]2[C@@H]3CCC4=CC(=O)[C@H](CCOC(=O)CCC(=O)O)C[C@]4(C)[C@H]3CC[C@]12C', 'CC(=O)OCCCCCCCCCCC[C@@H]1CC2=CC(=O)CC[C@@H]2[C@H]2CC[C@]3(C)[C@@H](OC(C)=O)CC[C@H]3[C@H]12', 'C[C@@H]1[C@]23CC[C@H]4[C@@]5(C)[C@@H](CC[C@@H](C[C@]1(O)OC2)[C@]35CO)C[C@@]1(C)[C@@H]2C[C@](C)(C(=O)O)CC[C@]2(C)CC[C@]41C', 'C=C1/C(=C/C=C2/CCC[C@@]3(C)C2CCC3[C@@H](C)C(C#CCC(O)(CC)C(C)O)OCCC)C[C@@H](O)C[C@@H]1O', 'CCOC(=O)C(CCC[C@@H](C)[C@H]1CC=C2C3=C(CC[C@@]21C)[C@@]1(C)CC[C@@H](O)C(C)(C)[C@@H]1CC3)C(=O)OCC', 'COC1=C(CCC(C)C(O)CCC(C)CCCC(C)C)C(=O)c2c(CCC(C)C)c(C)c(C)c(O)c2C1=O', 'C=C(COC(C)=O)C1CC[C@]2(COC(C)=O)CC[C@]3(C)C(CCC4[C@@]5(C)CC[C@H](O)[C@H](C)C5CC[C@]43C)C12', 'C=CCCc1ccc(OC(=O)C2CCC(C3CCC4CC(CCCCCCC)CCC4C3)CC2)c(F)c1F', 'C=C(C)C(=O)OCC(CCCC)(COC(=O)C(C)(C)CO)C1CCC(c2ccc(CCCCC)cc2)CC1', 'CC(C)C(=O)CCCOCCOCCOCCC(=O)N(C)[C@H](C(=O)N[C@H](C(=O)C(C)C)C(C)C)C(C)C', 'CC[N+]1(C)CC(Cl)C(C)C(C)=CC1C(C(=O)NC1CNCCC1N1CCN(CCOC)CC1)C(N)N', 'CC/C=C/C=C/C=C/C=C/C=C/CCCC(=O)OCC(CO)OC(=O)CCCCCCC/C=C/CCCC', 'O=CCOCCOCCNC(=O)CCCNC(=O)CCCCCCCCCCCCCCCCC(=O)O', 'C/C=C/C1CCC(C2CCC(C3CCC(C4CCC(c5ccc(OCC)c(F)c5F)CC4)CC3)OC2)CC1', 'CC(=O)OC[C@@]12CC[C@H](C(C)=O)[C@H]1[C@@H]1CC[C@@H]3[C@]4(C)CC[C@H](OC(C)=O)C(C)(C)[C@@H]4CC[C@]3(C)[C@]1(C)CC2', 'C=C(CCC(C(=O)O)C1CC(OC(C)=O)C2(C)C3=C(CCC12C)C1(C)CCC(O)C(C)(C)C1CC3)C(C)C', 'CCCCCCCCOc1ccc(C(C)(C)CC(C)(C)C)cc1Cc1ccc(-c2nc3cc(C)[nH]n3n2)cc1', 'CCCCCCCC(=O)CC[C@@H]1[C@@H](C/C=C\\\\CCCC(=O)NCCCCCCON(O)O)[C@@H](O)C[C@H]1O', 'C=CC1CCC(C2CCC(C3CCC(C4CCC(c5ccc(OCCC)c(F)c5F)CC4)CC3)CO2)CC1', 'C=C(C)C(=O)OCC(CO)OCCOc1ccc(CCC2CCCC(C3CCC(CCC)CC3)CC2)cc1', 'CC1(C)CC[C@]2(C(=O)O)CC[C@]3(C)C(=CC[C@@H]4[C@@]5(C)C[C@@H](O)[C@@H]6OC(C)(C)OC[C@@]6(C)[C@@H]5CC[C@]43C)[C@@H]2C1', 'CC.CCC(C)c1ccc(C(=O)OCCCCCCO)cc1.CCCCCCOc1ccc(C(C)=O)cc1', 'CC(C)(C)CC1(C(=O)OC2CCC3CCC(C(=O)OCOC4C5CC6CC(C5)CC4C6)CC3C2)CC1(C)C', 'C=C(C)/C=C/[C@@H]1O[C@]2(CC[C@@H]1CCCC)CC[C@H](C)[C@@H](C/C=C(C)/C=C/[C@H](O)[C@@H](C)/C=C/C(=O)OCC)O2', 'C=C(C)[C@@H]1CC[C@]2(C(=O)OC)CC[C@]3(CO)[C@H](CC[C@@H]4[C@@]5(C)CC[C@@H](OC(C)=O)C(C)(C)[C@@H]5CC[C@]43C)[C@@H]12', 'C[C@@H]1CC[C@]2(C(=O)O)CC[C@]3(C)C(=CC[C@@H]4[C@@]5(C)C[C@H]6OC(C)(C)O[C@H]6C(C)(C)[C@@H]5CC[C@]43C)[C@@H]2[C@]1(C)O', 'CC(=O)OCC12CCC3(C)C4CC(C)(C)CCC4(OC(C)=O)CCC3(C)C1CCC1(C)C(C)C(=O)CCC12', 'C/C(=C\\\\C(=O)[C@@H](C)[C@H]1CC[C@H]2[C@@H]3CC4(OCCO4)C4C[C@@H]5OC(C)(C)O[C@@H]5C[C@]4(C)[C@H]3CC[C@]12C)C(C)C', 'CCCCCCCCCCCCCCCCCCSC(c1ccccc1)(c1ccccc1)c1ccccc1', 'COC(=O)COC(=O)C12CCC(C)(C)CC1C1(C)CCC3(C)C4CCC(=O)C(C)C4(C)CCC3C1(C)CC2', 'CC1CC2C(c3ccccc3)=CC=CC2C1[Si](C)(CCCCCCOC(C)(C)C)C1CCC2C=CC=CC21', 'CC(C)C1CCC(C)(C)[C@H](/C=C/[C@@H]2C[C@H](CC(=O)OC(C)(C)C)OC(C)(C)O2)[C@H]1COCc1ccccc1', 'COc1cc2c(cc1OC)C(=O)C(CCC(C)(O)CCCC(C)CCCC(C)CCCC(C)C)=C(C)C2=O', 'C/C=C(/CC)c1c(C)ncnc1N1CCN(C(=O)OC(C)(C)C)C(C)C1.CC.CCCc1cccc(F)c1', 'CC(C)(C)NC(=O)[C@H](CC1CCCCC1)N1CCC(O)([C@H](Cc2ccccc2)N(C(=O)[O-])C(C)(C)C)CC1', 'C=C(C)C=O.C=C(CO)C(=O)OCC(CCCC)(COC)C1CCC(c2ccc(CCCCC)cc2)CC1', '[C-]#[N+]c1cnc(N2CC[C@]3(C)[C@H]4CC[C@@H]5[C@H]6[C@H](C(=C)C)CC[C@]6(C=O)CC[C@@]5(C)[C@]4(C)CC[C@H]3C2(C)C)nc1', 'CC(C)(C)C1CCN(C(=O)CCOCCOCCOCCOCCN2C(=O)C(C(C)(C)C)CC2O)CC1', 'CC(=O)O[C@H]1C[C@H]2[C@](C)(C(=O)O)[C@@H](O)CC[C@@]23C[C@]32CC[C@]3(C)[C@@H]([C@H](C)C/C=C/C(C)(C)C)CC[C@@]3(C)[C@H]12', 'CCCCCCCc1ccc(C2(CCCCCCCCCCCC(=O)[O-])C=CC(c3ccccc3)=CC2)nc1', 'CC1CCC2(C(=O)O)CCC3(C)C(=CCC4C5(C)CC6OC(C)(C)OC6C(C)(CO)C5CCC43C)C2C1C', 'CC1=CC(=CC=C1)OCC(CNCCC2=CC(=C(C=C2)OC)OC)O', 'Cc1nc(N2CCN(C)CC2)ncc1C(=O)N(C)CCc1ncon1', 'COC(=O)CCN(C(=O)CCC(=O)c1ccc(C)cc1)C1CCCC1', 'COc1cccc(-c2noc(CCCC(=O)N3CC[NH+](C)CC3)n2)c1', 'Cc1ccc(-c2[nH]ncc2CNCCCc2nc3ccccc3[nH]2)cc1', 'COc1ccc(C2CCN(C(=O)C3CCC(C(=O)O)CC3)CC2)cc1', 'COC(=O)Cc1ccc(OC(C)C(=O)NCCC2=CCCCC2)cc1', 'CC[NH+](CC)Cc1ccccc1CNC(=O)COc1ccc(F)cc1', 'C.Cc1ccc(C)c(-c2nnc3c(C)nc4ccc(C5CC5)nc4n23)c1', 'Cc1c(CN(C)c2ncnc3c2ncn3[C@H](CO)[C@@H](C)O)cnn1C', 'COC[C@H]1C[C@H](OC)CN1C(=O)CCCCC(=O)CCCSC', 'C[C@@H]1CN([C@@H](C(N)=O)c2ccc(F)cc2)CCN1Cc1nccn1C', 'Cc1ccc(C2C(C(=O)C(C)(C)C)=C(O)C(=O)N2C2CCCCC2)o1', 'CC(C)(C)OC(=O)NCCC#Cc1ccccc1C(=O)OC(C)(C)C', 'C=CCC(CC1CCN(C(=O)OCc2ccccc2)CC1)C(=O)OC', 'COc1ccccc1CCNC(=O)COC(=O)C[C@H]1C[C@H]2CC[C@@H]1C2', 'CC1(C)CC(SOC(=O)CO)CC(C)(C)N1OC1CCCCC1', 'CCOC(=O)c1ccc(C2=CCN(C(=O)OC(C)(C)C)CC2)cc1C', 'CC(=O)N1CC[NH+](CC(=O)Nc2ccccc2C(=O)NC2CC2)CC1', 'CC(C)C(=O)CC(C)(C)CC(C)(C)CC(=O)NC(CS)C(=O)O', 'COc1cc(OC)cc(OCC(=O)c2cc(C)n(C(C)(C)C)c2C)c1', 'CCCCCCCCCC(=O)Oc1ccc(N2C(=O)CCC2=O)cc1', 'CN1CCC(NCc2ccnc(-c3ccccn3)n2)C1c1ccccc1', 'CC(C)C(CCCCC(=O)O)(Cn1c(O)ccc1O)c1ccccc1', 'N#Cc1ccccc1N1CCN(CCN2C=c3ccccc3=NC2)CC1', 'CCc1ccc(CC)c(C(O)COc2c(N)cc(CO)cc2OC)c1', 'CCCCOc1cccc(CN(CCC(=O)O)Cc2ccc(C)o2)c1', 'Cc1ccc(-c2nc(-c3ccncc3)cc(N3CCCNCC3)n2)cc1', 'COCC1(C(=O)N2CCC[C@H](Cc3ccc(C(=O)O)cc3)C2)CCC1', 'C=C(Nc1cc2ccccc2cn1)c1ccnc(N2CCN(C)CC2)c1', 'C[n+]1c(C=Cc2ccc(N3CCC(O)CC3)cc2)ccc2ccccc21', 'C/C(=C\\\\C1CCCN1C(=O)OC(C)(C)C)C(=O)OCc1ccccc1', 'Cc1nncn1CCNC(=O)[C@H]1CCCCN1Cc1ccc(F)cc1', 'CC(C)(Oc1ccc2c(c1)CCC2)C(=O)N1CCC2(CC1)OCCO2', 'C[C@H](NC(=O)Cn1cccn1)c1cc(F)ccc1N1CCN(C)CC1', 'CC(C)c1nc(C(=O)N2CCNC(C)C2C)nn1-c1cccc(F)c1', 'O=C[C+](C(=O)O)C(C1CCNCC1)N1CCN(c2ccncc2)CC1', 'COC(=O)[C@H](CCO[Si](C)(C)C(C)(C)C)NC(=O)[C@@H]1CCOC1', 'CN1CCN(c2cc(-c3ccccc3-c3ccccc3)nc(N)n2)CC1', 'CC(=O)NCc1cc2n(n1)CCN(c1cc(OC(C)C)nc(N)n1)C2', 'O=C(OC1CCCCC1)C1CCN(C(=O)COc2ccccc2)CC1', 'CNC(=O)NCC1CCCN1C(=O)c1cnc2ncnn2c1C(C)C', 'COc1ccc([C@H](O)[C@H](C)N[C@H](C)[C@@H](O)c2ccc(OC)cc2)cc1', 'C/N=C(/NCCNC(=O)c1ccc(C)c(F)c1)NCCn1cccc1', 'CC(CN)C(=O)Nc1cccc(OCc2nc(N)nc(N(C)C)n2)c1', 'CCCCOc1cccc(OCCCC)c1C(=O)NCc1ccco1', 'C=Cc1c(C)c(C#N)c2nc3ccccc3n2c1N1CCC[C@H]1N(C)C', 'CCOC(=O)N1CCC(Nc2ncc(C)c(-c3ncnn3C)n2)CC1', 'CC(=O)[O-].C[C@@H](CCc1ccc(O)cc1)[NH2+]C[C@H](O)c1ccccc1', 'CC(C)[N+](O)=Cc1ccc(OC(C(=O)C(C)(C)C)n2nccn2)cc1', 'CC(C)C1C(C(=O)OC(C)(C)C)=CCN1C(=O)OCc1ccccc1', 'CCCc1sc(OCC(C)(F)F)nc1CCCC1CCCCC1', 'COc1ccccc1C1C(C(=O)CC(C)C)=C(O)C(=O)N1CC(C)C', 'CC(C)(c1ccccc1)c1cc([Si](C)(C)C)ccc1-c1ccccn1', 'COC(=O)c1ccc2c(c1)C1(CCCCC1)CN2C(=O)OC(C)(C)C', 'CCCCCCCCOCCOc1cccc2ccc(C(=O)O)nc12', 'CC(C)c1n[nH]c([C@H]2CN(C(=O)c3ccc(N(C)C)nn3)CCO2)n1', 'CCn1cnnc1CCNC(=O)N1CCC[C@@H](c2cc(=O)[nH]cn2)C1', 'CCCCOCCCNS(=O)(=O)CC12CCC(CC1=O)C2(C)C', 'CC(C#N)(/C=C/[Si](C)(C)c1ccccc1)O[Si](C)(C)C(C)(C)C', 'N#Cc1cccc(NCC2(N3CCN(Cc4cc#ccc4)CC3)CC2)n1', 'CC1C(OC(=O)[C@@H]2CCCN2C(=O)c2ccco2)CC2CC1C2(C)C', 'CC(C)CCOCCNC(=O)c1cn(C2CCNCC2)nn1.Cl', 'Oc1ccc(-c2ccccc2)cc1C[NH+]1CCN(c2ccccc2)CC1', 'CC(C)c1nc(C(=O)NCC2CCCNC2)nn1-c1cccc(F)c1', 'COc1ccc([C@](C)(O)[C@H]2CCCN2C(=O)C2=C(C)OCCC2)cc1', 'Cc1ccc([C@@H]([NH2+]CC(=O)N(C)c2ccccc2)c2ccccc2)cc1', 'N#Cc1ccccc1Cn1c(N[C@@H]2CCCC[C@@H]2N)nc2ccccc21', 'CC1CNNC1C1CCN(C(=O)COc2ccc3nncn3n2)CC1', 'CC1NC=C(c2cc(NC3CCNCC3)c3cnccc3c2)C=C1C#N', 'CC1(C)CCC(NC(=O)CC2CCOCC2)(C(=O)O)c2ccccc21', 'C[C@@H]1O[C@@H](OCCCCCCCCC(=O)CC(=O)[O-])[C@H](O)C[C@H]1O', 'CC(C)CC[n+]1c(COc2cccc3ccccc23)[nH]c2ccccc21', 'CCn1c(CC2CCN(C(=O)c3cnc(NC)nc3)CC2)n[nH]c1=O', 'CN(Cc1cn(C(C)(C)C)nn1)C1CCN(c2ccccc2F)C1=O', 'Cc1ccnc(N2CCN(CCCCn3ncc(=O)[nH]c3=O)CC2)n1', 'Cc1n[nH]c(C)c1NC(=O)CN1CCO[C@@H](CNc2cccnn2)C1', 'CCCCCON=C[C@H]1[C@@H](Cc2ccc(C(=O)O)cc2)[C@H]2CC[C@@H]1O2', 'CCN(CC)C(=O)[C@]12C[C@@](C)(OC)[C@@]1(CC)c1ccccc1OC2=O', 'Cc1cc(N2CCC(Cc3cccnc3)CC2)nc(-c2ccncc2)n1', 'CC(O)CC(C)(C)CNC(=O)CC(C)c1ccccc1C(F)(F)F', 'CN1CCN(N=Cc2cn(-c3ccccc3)nc2-c2ccccc2)CC1', 'C[Si](C)(C)CCc1ccccc1N(c1ccccc1)c1ccccc1', 'CC(C)CNc1nc2ccccc2n2c(-c3cccc(CN)c3)cnc12', 'O=C(CCOc1ccccc1)N1CCO[C@H]2CC[C@H]1[C@@H]2OCC1CC1', 'CC(C)(C)c1nn(-c2ccccc2)cc1CNc1cc2cc[nH]c2cn1', 'O=C(O)CC[C@@H]1CCCN(C(=O)[C@@H]2CCCO[C@H]2c2ccccc2)C1', 'COc1ccc(C(=O)N2CC[C@@H]3OCC[C@]3(COCC3CC3)C2)cc1', 'COC(=O)[C@@H](CCO[Si](C)(C)C(C)(C)C)NC(=O)[C@@H]1CCOC1', 'c1ccc(CCN2CCC[C@H]2c2ccc(Nc3cnccn3)cn2)cc1', 'CN1CCCC[C@@H]1c1nc(Nc2ccccc2)cc(-c2ccncc2)n1', 'CC(C)c1n[nH]c([C@@H]2CN([C@@H](C)C(=O)Nc3ncccn3)CCO2)n1', 'C[C@@H]1C[C@@H](C)[C@H](CC(=O)c2ccc(N)cc2)O[C@@H]1[C@@H](C)C=CC(=O)O', 'CCO[C@H]1CC[C@@]2(O)[C@H]3Cc4ccc(CO)c5c4[C@@]2(CCN3C)C1O5', 'Cc1nn(-c2ccccn2)c2c1C(/N=C/c1cccnc1)CC(C)(C)C2', 'COC(=O)[C@@H]1ON2[C@H](COCc3ccccc3)CCC[C@]23CCC[C@H]13', 'COC(=O)/C(=C/[C@@H]1C[C@H](COCc2ccccc2)C1(C)C)NC(C)=O', 'COCCNc1cc(C)nc(N2CCN(c3ccc(F)cc3)CC2)n1', 'CCCc1ccccc1OCC(O)CNCCOc1ccc(O)cc1', 'C/N=C(/NCCNC(=O)Cc1cccc(F)c1)NCCn1cccc1', 'COc1ccc(F)cc1C[NH+](C)CC(=O)Nc1c(C)cc(C)cc1C', 'O=C(O)Cc1ccc(C(=O)NCC2CCC3(CCCCCC3)O2)cc1', 'CC(C)C1CN(C(C2=CC=CCN2)c2ccc(Cl)cc2)CCN1C', 'C=C(C)C(=O)OC(CCNC(=O)O)C(C)(C)c1ccc(C(=C)C)cc1', 'CCc1nnc(N2CCN(c3ccc(F)cc3OC)CC2)nc1CC', 'CC(C)C1C(O)C(=O)C2=C3NC(=O)C4=C3C(C)(CCC4O)CCC21C', 'Cc1cccc(C)c1CNc1cc(-n2cccn2)cn2c(C)c(C)nc12', 'C=CCC/C=C/CCOC(=O)c1c(NCC=C)cc(OC)cc1OC', 'COC(=O)Cc1coc(-c2cc(C(C)(C)C)c(O)c(C(C)(C)C)c2)n1', 'C/N=C(\\\\NCc1ccc(Cn2ccnc2)cc1)N1CCc2ccccc21', 'CC(C)c1nc(CCc2nc3ccc(F)cc3[nH]2)n(CC(C)(C)O)n1', 'CC(C)(C)CC(C)(C(=O)ON1C(=O)c2ccccc2C1=O)C(C)(C)C', 'COC(=O)C1CCN(C(=O)C(C)Oc2ccc3c(c2)CCCC3)CC1', 'COC(=O)C(C)CN(C(=O)/C=C/c1cccc(OC)c1)C1CCCC1', 'C=C(C)CN1CCN(c2cc(C)c(C#N)c3nc4ccccc4n23)CC1', 'CC.Cc1cc(Oc2c(C)cc(C[C@H](N)C(=O)O)cc2C)ccc1O', 'CCc1cc(CCC2=C(O)CCOC2=O)ccc1CN1CCOCC1', 'COC(=O)CCN(C(=O)/C=C/c1cccc(OC)c1)C1CCCCC1', 'CCOC(=O)N1CC[NH+](CC(=O)N2CCC(c3ccccc3)=N2)CC1', 'CC(C)C(CC1CCCCC1)C(=O)NS(=O)(=O)C1CCCOC1', 'Cc1cc(OCCO)cc(C)c1N(CCCCO)c1cccc(O)c1', 'CC1CCCCC1NC(=O)COC(=O)COc1ccc2c(c1)CCC2', 'C=CCCCCCCCCCC(=Cc1cccc([N+](=O)[O-])c1)C(=O)O', 'CC(C)[C@H](C)OC(=O)Oc1ccccc1/C=C/C(=O)N1CCCCC1', 'C#CCNC(=O)C1OC(C(O)CCCC)CC1OCc1ccccc1', 'COc1ccc2c3c1O[C@H]1C(OC)(OC)CC[C@@H]4[C@@H](C2)N(C)CC[C@@]341', 'CCCc1c(O)ccc2c1OC(C)(CCC(=O)N1CCCC1)CC2=O', '[C-]#[N+]c1ccc([C@@H](C)n2c(N3CCC[C@@H](N)C3)nc3ccccc32)cc1', 'CCCC(N)C(=O)N1CCN(C(C)c2nc(CC)no2)CC1.Cl', 'CCC(C)NC(=O)CN1CCN(c2ncnc3c(F)cccc23)CC1', 'Cc1cc(NC(=O)CN2CCN(C)C[C@@H]2C)n(-c2ccccc2F)n1', 'CCCc1ncc2c(n1)CCN(Cc1cnc(-c3ccccc3)nc1)C2', 'CCC(CO)NCc1ccc(OCC(O)c2ccccc2)c(OC)c1', 'COc1ccc(CC(C)(C[C@H](N)O)c2ccccc2OC)cc1OC', 'CC(C)c1ccccc1Nc1cnnc(N2CCc3ccccc3C2)n1', '[H]/N=C1\\\\CC(C)(C)CC(=O)[C@@H]1C(=O)Cc1ccc(OCC)c(OCC)c1', 'CCC(CC)(CC(=O)O)NC(=O)CCC(=O)c1ccc2c(c1)CCC2', 'CC(C)COc1ccc(CC(=O)N2CC3CCCC3C2C(=O)O)cc1', 'COCCCC[C@H](c1ccccc1OC(F)(F)F)[C@H]1CCCNC1', 'CC(C)(C)OC(=O)C1CC1C1CCN(C(=O)OCc2ccccc2)C1', 'CC1CCCN(c2ncnc(NCCCn3ccnc3)c2[N+](=O)[O-])C1', 'CC(C)[C@H]1[C@@H](O)C(=O)C2=C3NC(=O)C4=C3[C@@](C)(CC[C@@H]4O)CC[C@@]21C', 'CC(=O)c1ccc2c(c1)CCO[C@@H]2C1CCCN1C(=O)OC(C)(C)C', 'C=CCc1c(OCCNC(=O)OC(C)(C)C)ccc2c1CCCC2=O', 'Cc1ccc(-c2[nH]nc(NC(=O)CCCN3CCCCC3)c2F)cn1', 'CN(Cc1ccc(F)cc1)C(=O)CN1CCCC(Cn2cncn2)C1', 'CCCC(C)N(C(=O)CC(C)(C)C)c1cccc(OC(F)(F)F)c1', 'C[C@@H](CNC(=O)N1CCN(c2cnn(C)c2)C(=O)C1)Cn1cccn1', 'CCCCCOc1ccc([C@H](C)NC(=O)c2ccoc2C)cc1OC', 'COc1ccc(C)cc1[C@H](C)NCc1ccc(OC)c(OC)c1OC', 'O=C(O)[C@@H]1CN(CCC23CC4CC(CC(C4)C2)C3)C[C@H]1C(F)(F)F', 'CC1CN(C(C(N)=O)c2ccc(F)cc2)CCN1Cc1nccn1C', 'COC(=O)C(O)(C(=O)N1CCCC1)c1ccccc1C1CCCCC1', 'CC1(N)C=CC=CC(c2cc(OCCCO)cc(OCCCO)c2)=C1', 'Cc1ccc(C)c(OCc2ccc(C(=O)NCCCOC(C)C)o2)c1', 'O=C(c1ccc(OCC2CC2)cc1)N1CCOC[C@@H]1[C@H]1CCC[C@H]1O', 'Cn1ncc2c(N3CCN(CC(=O)N4CCOCC4)CC3)ncnc21', 'Cc1cc(C(C)(O)CNC(=O)Cc2ccccc2OC(C)C)c(C)o1', 'COc1ccc(CN(C)CC(O)COc2cccc(C)c2)c(OC)c1', 'COc1cc2c3c4c1OC1(OC)CC(O)CCC41CCC3N(C)CC2', 'C(=C1CCCCC1N1CCC1)c1ccccc1.O=C(O)CCC(=O)O', 'CCOC(=O)C1C(C(=O)OCC)C(c2ccccc2)N2CCCCC12', 'COc1ccc(O[C@@H]2CC3=CCN(C(=O)OC(C)(C)C)C[C@@H]3C2)cc1', 'O=C(CC1CCCO1)NCC1(c2ccc3c(c2)OCCO3)CCCC1', 'C[C@H](O)C[C@@H](C)[C@H](C)/C=C/C(=O)N1C(=O)OC[C@@H]1Cc1ccccc1', 'CC(=O)OCc1[nH]c(C(=O)OC(C)(C)C)c2c1C1C=CC2C(C)(C)C1', 'COc1ccc([C@@](C#N)(C(=O)OC(C)(C)C)[C@@H]2CCC[C@H](O)C2)cc1', 'C=Cc1ccc(-c2c(-c3ccncc3)cnn2N2CCN(C)CC2)cc1', 'O=C(O)C1CCCC(C(=O)N2CCCC2CC(O)c2ccccc2)C1', 'CCS/C(=N/C(=O)OCC1CCCCC1)OCCOCC(C)C', 'CCN(CC)Cc1ccc(-c2cnc3[nH]c4cnc(N)cc4c3c2)cc1', 'C=CCCC1(C(=O)O)CCN(Cc2cccc3c2OCCCO3)CC1', 'CC(C)(C)c1cc(O)c2c(c1)OC(C)(C)[C@@H]1CC=C(C(=O)NO)C[C@@H]21', 'CCc1nc2c(N)nc3ccc(-c4cccnc4)cc3c2n1CC(C)C', 'Cc1nc(CC2CCCN(C(=O)Nc3nccc(N(C)C)n3)C2)no1', 'CCOc1ccc(C(O)C2CCN(C(=O)C3=CCOCC3)CC2)cc1', 'Cc1nn(C)c(=O)c(C(=O)N2C[C@@H](N(C)C)[C@@H](n3ccnn3)C2)c1C', 'CCN(CC)CCNC(=O)C(=O)Nc1cccc(-n2nnnc2C)c1', 'CC[NH+](CC(=O)N[C@@H](C)c1ccccc1)Cc1ccc(OC)c(F)c1', 'Fc1ccc(-c2noc(CN3CCCC(N4CCNCC4)C3)n2)cc1', 'O=C(CC1(C(=O)O)CCOC1)N1CCCC1CCCc1ccccc1', 'Cc1cccc(C)c1CC(=O)N1CCC([C@@H]2OCCC2C(=O)O)CC1', 'Fc1ccc(C(c2nnnn2C2CCCCC2)N2CCOCC2)cc1', 'c1ccc(CNc2nccc(N3CCN(c4ccccc4)CC3)n2)cc1', 'C=CCC1CN(C(=O)OC(C)(C)C)C[C@H]1C(=O)OCc1ccccc1', 'CCn1cnnc1CC1CCN(C(=O)NCc2ccc(F)cc2)CC1', 'CC1CCC(c2nc(-c3ccc4[nH]ccc4c3)c3c(N)nccn23)CC1', 'CCc1ccc(C2=CCN(c3ccc4nnc(C5CC5)n4n3)CC2)cc1', 'Cc1cc(N2CCC(NC3CC3)CC2)n2c(nc3ccccc32)c1C#N', 'Cl.Cl.NCCCCCCCCCCN(CCCN)C(=O)O', 'CC(C)CN(CC(C)C)c1ncnc(N(CC#N)CC#N)c1[N+](=O)[O-]', 'c1ccc2c(c1)nc(NCCN1CCNCC1)c1c3ccccc3[nH]c21', 'C=CCc1cc(C(=O)N2CC[C@]3(OC)CCC(O)CC23)ccc1OC', 'O=C(N[C@H](c1ccc2c(c1)CCO2)C1CC(O)C1)C1CCC(O)CC1', 'Cc1c(NC(=O)NCC(c2ccc(F)cc2)N2CCCC2)cnn1C', 'CCCN(CCC)Cc1cc(=O)oc2cc(OC(C)C(C)=O)ccc12', 'CCCCCCCOC(=O)CCCCC(=O)Oc1ccc(C#N)cc1', 'CCCCC(CC)CN1C(=O)C(O)=C(C(C)=O)C1c1ccc(O)cc1', 'c1ccc(-c2nc(NCc3cccnc3)cc(N3CCCCC3)n2)cc1', 'Cc1cc(NCc2nc3ccccc3n2C(C)C)n(-c2ccccc2)n1', 'c1cnc2c(CN3CCN(c4ccnc(C5CC5)n4)CC3)cccc2c1', 'CCC(=O)Nc1ccc(C(=O)COC(=O)CCC2CCCCC2)cc1', 'CC(C)Cc1ccc2c(c1)[Si](C)(C)c1cc3ccccc3cc1N2C', 'CCCC(N)C(=O)Nc1ccc(F)c(-c2nnc3n2CCCCC3)c1', 'COc1ccc(CN2CCC(C(F)(F)F)CC2)c(OC)c1C(C)C', 'Cn1ncc2c(N3CCN(C(=O)NCC4CCOC4)CC3)ncnc21', 'CC1CCCC(OCc2cccc(NC(=O)C3CCC3C(=O)O)c2)C1', 'c1ccc(N2Cc3nc(CN4CCCCC4)nn3-c3ccccc32)cc1', 'O=C(Nc1ccccc1)[C@H]1CCC[NH+](Cc2cccc3ccccc23)C1', 'CCC/C(C)=C/CC[C@]1(C)Oc2c(c(O)cc3c2CNC3=O)C[C@@H]1O', 'O[C@H](COCc1ccccc1)C[NH+]1CCN(c2ccccc2F)CC1', 'COc1cc(/C=C/C(=O)OC[C@H]2CCCN3CCCCC23)ccc1O', 'c1cc2ccc(CN3CCCC(Nc4ccc5[nH]ncc5c4)C3)cc2[nH]1', 'CCCO[C@@H]1CC[C@H](C(=O)NCCCn2ccnn2)C[C@H]1N.Cl', 'C=C1C[C@@]23C[C@H]4[C@@H]5[C@@]6(C)C[C@H](O)C[C@@]57[C@@H]2[C@H](O)[C@@H]1[C@H](O)[C@]3(O)[C@H]7N4C6', 'COc1cc2c(cc1OC)C1CC3CCC(=O)C(OC)C3CN1CC2', 'CN(C)CCN(Cc1cccnc1)CC(C)(C)c1ccc(Cl)cc1', 'COc1cc(CCc2ccccc2OC[C@@H](O)CN(C)C)ccc1O', 'COc1ccc2c(c1OC)[C@]13CCN(C)[C@H](C2)[C@]1(OC)CCC(=O)C3', 'Cc1ccc(N2C(=O)NC(=O)[C@@H](/C=N/CCC[NH+](C)C)C2=O)cc1C', 'C=CCN(CCC(=O)OCC)C(=O)/C=C/c1ccccc1OCCC', 'O=C(O)CC(CO)CC(=O)N1CCCCCC1/C=C/c1ccccc1', 'CCCN1C(=O)C(O)=C(C(=O)CC)C1c1cccc(OCC(C)C)c1', '[2H]c1ccc2c(n1)oc1c(-c3cc(C([2H])([2H])C4CCCCC4)ccn3)cccc12', 'CCNc1ccnc(N2CCN(Cc3ccc(OC)c(F)c3)CC2)n1', 'CC(C)(O)C#Cc1ccc(C(=O)N(CC2CCC2)CC2CCCO2)o1', 'CC(C)Oc1ccc(C(=O)OCC(=O)NCCC2=CCCCC2)cc1', 'CCc1nc(NCc2ccccc2)nc(N2c3ccccc3CC2C)n1', 'CCOC(=O)/C(C)=C/CC1CCN(C(=O)OCc2ccccc2)CC1', 'COc1ccnc(N2CCN(C(=O)[C@H](C(C)C)n3cncn3)CC2)n1', 'CCC(C(=O)O)=C1C[C@@H](c2ccc(OC)c(OC3CCCC3)c2)CN1', '[H]/N=C/c1ccc(-c2cccc(C(C)N)n2)cc1Nc1cccc(CC)n1', 'COc1cccc(CCNC[C@@H](O)COc2cccc(C)c2)c1OC', 'C[C@H]([NH2+][C@@H]1CCCc2ccccc21)C(=O)Nc1ccc2ccccc2c1', 'C1=CN2Cc3cccc(n3)CN3C=CN(Cc4cccc(c4)CN1C2)C3', 'CCOc1ccc(NC(=O)[C@H]2CC=CC[C@@H]2C(=O)O[C@H](C)CC)cc1', 'C#C[C@@H](c1ccccc1)c1cn([Si](C)(C)C(C)(C)C)c2ccccc12', 'CCc1nn(C)c(N(C)C2CCCN(c3cccnn3)C2)c1[N+](=O)[O-]', 'CN(C)c1nccnc1N1CCC(c2ccnc(N)n2)CC1.O=CO', 'CCOC(=O)C(CC/C=C/c1ccccc1)N1CCCC1C(=O)OC', 'CNC(=O)CN1CCCN(Cc2ccn(-c3cccc(F)c3)n2)CC1', 'Cc1cc(-n2cnnn2)cc(NC(=O)NCCN2CCOCC2)c1C', 'CCCCOc1ccc2c(C(C)=O)cn(CC(=O)OC(C)(C)C)c2c1', 'Cc1ccc(OC[C@@H]2CCN(C(=O)CC(=O)O)C2)c(C2CCCC2)c1', 'Cc1ccc(C[NH+](C)Cc2ccc(C(=O)Nc3ccccc3)cc2)cc1', 'CC(C)N1CC(C)(C)c2cc3[nH]c(-c4n[nH]c5ccccc45)nc3cc21', 'Cc1nc(C(=O)N2CCN(CC(C)C)CC2)nn1-c1ccc(F)cc1', 'Cc1nccn1CCCN1CCCN(C(=O)c2cncc(F)c2)CC1', 'CN(Cc1ccccn1)/C(Cc1ccccn1)=C(/N)Cc1ccccn1', 'CCC#CCCCCCC[C@H](C=O)C[C@H](O[N+](=O)[O-])c1ccccc1', 'CCn1nnc2c1C(COCC(=O)N(C)C)CN(c1ccncn1)C2', 'C=CCN1CC[C@]23c4c(C)ccc(O)c4O[C@H]2C(O)CC[C@@]3(O)[C@H]1C', 'CC(=O)OC/C(=C\\\\c1ccccc1)C(=O)OC(C)(C)C1CCNCC1', 'Cc1nn(C)c(C)c1-c1ccc2nc3n(c2c1)CCN(C1=CC=C1)CC3', 'Cn1cnnc1CCCC(=O)NCc1c(F)cccc1N1CCCC1', 'Cn1cnnc1CCC(=O)N1CCCN(Cc2ccc(F)cc2)CC1', 'C[C@]12CCC(=O)C=C1CC[C@@H]3[C@@H]2[C@H](C[C@]4([C@H]3CC[C@@H]4C(=O)CO)C)O', '[H]/N=C(\\\\N)c1ccc(N2CCN(C3CCN(CC(=O)O)CC3)CC2)nc1', 'C#CC1C[C@@H](O)CC2=C[C@H](O)[C@H]3[C@@H]4C[C@@H](O)[C@H](O)[C@@]4(C)CC[C@@H]3[C@]21C', 'CCOCCc1nc(CC2CCN(C)CC2)nn1-c1ccc(F)cc1', 'Cl.O=C(CNC(=O)CC1CCCCC1)NCCN1CCNCC1', 'CCCc1c(C)nc(Nc2ccccc2C)nc1N(C)c1ccccc1', 'Cc1cc(C(C)N(CCN)C(=O)OC(C)(C)C)nc(-n2ccnc2)n1', 'COC(=O)[C@]1(C)CCC[C@]2(O)CCCc3ccc(OC)cc3CC[C@H]21', 'CCN(CC(=O)O)C1CC(Nc2ccc3nnc(C(C)(C)C)n3n2)C1', 'CCCCC/N=C(\\\\NCC)NCCc1coc(-c2ccc(F)cc2)n1', 'Cc1cnc(NCCCN(C)C)c2c3c4ccccc4ccc3n(C)c12', 'Cc1cc(CN2CCN(C(=O)NCCCc3cn[nH]c3C)CC2)on1', 'Cc1cc(C)n(CC(=O)N2CCC[C@@](O)(c3cn(C(C)C)nn3)C2)n1', 'O=C(NC1CCN(Cc2ccc(F)cc2)CC1)C12CNCC1CNC2', 'O[C@H]1CN(CCc2nc3ccc(F)cc3[nH]2)CCN(C2CCCC2)C1', 'CCCn1cc(C(=O)N2CCCC(O)(c3cn(C(C)C)nn3)C2)cn1', 'CC(C)(C)c1cc(NC(=O)CN2CCC[C@@H](Cn3cncn3)C2)on1', 'CC(C)(C)OC(=O)N1CCc2ccc(/N=C(\\\\N)N=C(N)N)cc2CC1', 'CCCCCCC=C[C@H]1C=CC(=O)[C@@H]1CC=C=CC(C)C(O)C(=O)O', 'C/N=C(\\\\NCc1ncnn1C)N(C)Cc1cc(OC)c(OC)cc1C', 'CC1(C)N=C(c2cc(C3=NC(C)(C)C(C)(C)[N+]3=O)[nH]n2)N([O-])C1(C)C', 'CC(C(=O)NC1CCCC1)N1CCCC(C(=O)NCCN)C1.Cl', 'CCCCCC/C=C/[C@H]1C2=C(O2)C(=O)/C1=C\\\\CCCCCC(=O)OC', 'C[C@@]12CC[C@@H]3[C@H](C[C@@H](O)C4=CC(=O)CC[C@@]43C)[C@H]1CC[C@H]2C(=O)CO', 'C=C[C@@H](C#CC#C[C@H](CCCCCCCCC)OC(C)=O)OC(C)=O', 'CCOOCC1(COOCC)C(C)C(=C(CC(C)C)SC)C1C', 'CCOC(=O)C1=C(C[NH2+]C(CC)CC)NC(=O)N[C@@H]1c1ccccc1', 'CCC[C@H](c1nc2ccc(F)cc2c(=O)n1C)N1CCN[C@@H](C)CC1', 'CCCn1nc(C)c(CNC(=O)C(c2ccc(F)cc2)N(C)C)c1C', 'Cc1cccc(-n2ccnc2CN2CCCC(Nc3ccccc3)C2)c1', 'C=C[C@@H](O[C@@H](C(=O)OC)[C@H](C)/C=C/C)[C@@H](C)COCc1ccccc1', 'CC(C)(C)n1ncc2c(=O)[nH]c(NCCC(=O)N3CCCCC3)nc21', 'C=C(C)C(=O)OC12CCCCC1(OC(=O)C(=C)C)C1CCCCC1C2', 'CN(C)CC1CCN(c2nccc(-c3ccc4ccccc4c3)n2)CC1', 'CC(=O)[C@@]1(O)CC[C@H]2[C@@H]3CCC4=CC(=O)CC(O)[C@]4(C)[C@H]3CC[C@@]21C', 'CN1CCN(c2nc(-c3ccccc3)cc3c(N(C)C)cccc23)CC1', 'NN1CCC(CCN2CCC(c3noc4cc(F)ccc34)CC2)CC1', 'CC(C)Cn1nccc1NC(=O)CN1CCOC(Cn2cccn2)C1', 'Cc1ccc(Nc2nc(NC3CCCCC3)c3ccccc3n2)c(C)c1', 'COc1ccc(C2(O)CCC(C3CCC4(CC3)OCCO4)CC2)cc1', 'Cc1noc(C(C)N(C)C2CCCN(Cc3noc(C4CC4)n3)C2)n1', 'CC(=O)O[C@@]12O[C@H]1C[C@H]1[C@@H]3CC[C@H]4C[C@@H]5O[C@@H]5C[C@]4(C)[C@H]3CC[C@@]12C', 'Cc1cc(C)cc(Nc2nc(C)cc(NCCCc3ccccc3)n2)c1', 'c1ccc2c(c1)CCC(CN1CCN(c3cccc4[nH]ccc34)CC1)N2', 'Cn1c(CO)nnc1C1CCCN(Cc2noc(C3CCCC3)n2)C1', 'CCn1cc(CNC(C)c2cc(F)ccc2N2CCC(O)CC2)cn1', 'COc1cc(C(=O)NC[C@@H]2CCCN(C)[C@H]2c2ccnn2C)nn1C', 'CN(C)CCOC[C@@H]1CN(Cc2cccc(F)c2)Cc2nccn2C1', 'Cc1cccc(Cc2nc3cccc(C)c3nc2NCCN2CCC2)c1', 'c1ccc(CCCN2CCC[C@H](c3cccc(-n4ccnc4)n3)C2)cc1', 'COCCNC(=O)CCc1nnc2ccc(N3CCC(C)CC3)nn12', 'CC(C)C(=O)N(CCN(C)C)Cc1nccn1Cc1ccc(F)cc1', 'CO[C@@H]1CN(C(=O)c2cc(-c3c(C)nn(C)c3C)nn2C)CC[C@@H]1N', 'CC(C)(C)OC(=O)c1ccccc1CCCCC1(C(=O)O)CCCC1', 'CN(CC(=O)N(C)C1CCCCC1)Cc1nc2c(cnn2C)c(=O)[nH]1', 'N#C[C@H](C[C@@H]1CCCNC1O)NC(=O)[C@H](CC1CC1)Nc1ccn[nH]1', 'COC(=O)C1=CCC=C(C)CCC=C(C)C(=O)C[C@H](C(C)C)C(=O)C1', 'C=C(O[C@H]1CCCC[C@@H]1O)[C@](CC)(Cc1ccccc1)C(=O)OCC', 'C[C@]12CCC(=O)CC1=CCC1C2CC[C@@]2(C)C1CC[C@]2(O)C(=O)CO', 'C#C[C@]1(O)[C@H](O)C[C@H]2[C@@H]3CC=C4C[C@@H](O)[C@@H](O)C[C@]4(C)[C@H]3CC[C@@]21C', 'CCC(C)C(=O)c1c(O)cc(O)cc1OC/C=C(\\\\C)CCC=C(C)C', 'Cc1ccc(Cn2ncnc2C2CCCCN2Cc2ccccc2)cc1', 'CN1CC[C@@]2([C@@]34CCN(C)[C@H]3Nc3ccccc34)c3ccccc3N[C@H]12', 'Cc1cnccc1CN1CCC(c2[nH]ncc2Cc2ccccc2)CC1', 'CC(=O)[C@@]1(O)CC[C@H]2[C@@H]3CCC4=CC(=O)CC[C@]4(C)[C@H]3[C@H](O)C[C@@]21C', 'CC(CC=CC(C)(C)O)C1=CCC2(C)OC3=C(CC12)C(=O)C(O)CC3', 'COc1c(CN[C@@H]2CCCN(c3nccn(C)c3=O)C2)c(C)nn1C', 'COCCN(c1nnc(-c2cnn(C)c2)n1CC1CCCO1)C1CC1', 'C[C@]12CCC(=O)C=C1CC[C@H]1[C@@H]3CC[C@H](C(=O)CO)[C@@]3(CO)CC[C@@H]12', 'C=Cc1ccc(COC(=O)CCCCCOC(=O)C(C)(C)CC)cc1', 'CN1C(=O)C(C)(C)[C@@](C)(c2cc(NCCC3CC3)ccc2F)N=C1N', 'Cn1nnnc1NCC(O)COc1cccc(CN2CCCCC2)c1', 'CCC(=O)N1CCC(N/C(=N/C)NCC2(c3ccc(F)cc3)CC2)C1', 'C=CC(=O)OCC[Si](OC(C)(C)C)(OC(C)(C)C)OC(C)(C)C', 'CC(C)CCNc1nccc(N(Cc2ccccc2)c2ccccc2)n1', 'COC(=O)c1cc2oc1C(=O)[C@H](C(C)C)CC/C(C)=C\\\\CC[C@H](C)C2', 'Cc1cnn(CCC(=O)N2CCOC(c3nc(C(C)(C)C)n[nH]3)C2)c1', 'C/N=C(\\\\NCCCCn1cnnc1)NCc1ccc(OC)cc1OC', 'CCN/C(=N\\\\CCc1c[nH]c2ccccc12)NC1CC1c1ccccc1', 'CC(C)CCn1cc(C(=O)N2C[C@@H](CO)[C@H](c3cnn(C)c3)C2)nn1', 'O=C1CC(CCc2ccccc2)C(CCCCO)CC1C1OCCO1', 'CN(CCN1CCOC(C)(c2cnn(C)c2)C1)Cc1ccc(F)cc1', 'CCC/C=C(\\\\c1c(CC)c2ccccc2c2ccccc12)[Si](C)(C)C', 'CNCCc1c[nH]c2cc(CNCCc3c[nH]c4ccccc34)ccc12', 'Cc1cccc(C)c1NCCN(Cc1ccccn1)Cc1ccccn1', 'C[C@]12CC[C@H]3[C@@H](CCC4=CC(=O)CC[C@@]43C)[C@@H]1C(O)C[C@@H]2C(=O)CO', 'CC(=O)OC1C2CCC(O)(C(C)C)C2CC(=O)C2(C)C=CC=C(C)C12', 'COCCN1CCn2nc(CN(C)Cc3nc(C4CC4)no3)cc2C1', 'C#C[C@]1(O)[C@H](O)C[C@H]2[C@@H]3CC=C4C[C@@H](O)[C@H](O)C[C@]4(C)[C@H]3CC[C@@]21C', 'CCc1ccccc1Nc1nc(C)cc(N(CC)Cc2ccccc2)n1', 'CCCCCC/C=C/C1C2=C(O2)C(=O)/C1=C\\\\CCCCCC(=O)OC', 'Nc1nc(N[C@@H]2C[C@H]3CC[C@@H]2C3)cc(N2CCCN(C(=O)O)CC2)n1', 'C=C/C(=C\\\\N(C)C)c1cccc(-c2ccc(C(=C/C)/C=N/C)c(N)n2)c1', 'COCC/N=C(\\\\NCCc1ccco1)NC1CCc2nc(C)nn2C1', 'CC=C(C)CC(C=C(C)C)OC(=O)CCCCc1cc(O)cc(O)c1', 'COCc1nc(NCc2nc(C(C)(C)C)no2)cc(C2CC(N)C2)n1', 'CC(=O)OC1(O)CC[C@H]2[C@@H]3CC=C4CC(O)C=C[C@]4(C)[C@@H]3CC[C@@]21C', 'CN1CCC23c4ccccc4NC1C21CCN(C)[C@H]3Nc2ccccc21', 'Cc1nccn1C[C@@H](C)CNC(=O)Nc1cnn(C[C@@H]2CCCO2)c1', '[C-]#[N+]C(C#N)=CC1=CC(Nc2ccc(N(CC)CC)cc2)=CC(C)(C)C1', 'C=CC(=O)OC(CCCCCCCCC)[Si](OC)(OC)OCC', 'c1ccc(-c2ccc(CN3CCCC3)cc2)c(CNCc2ncc[nH]2)c1', 'COCCCn1cnnc1CNC(=O)N(C)Cc1cc(C)cc(C)n1', 'CC(C)N(Cc1ccccn1)Cc1nn(-c2ccccc2)c2c1CCC2', 'CC(C)(C)c1ccc(-c2ccccc2C2N=C(N)N3CCCN=C23)cc1', 'Cc1nc(C)n(CC2CN(CC(=O)NC(C)(C#N)C3CC3)CCO2)n1', 'Cc1c(CN2CCN(C(=O)OC(C)(C)C)CC2)cc(N)cc1N=[N+]=[N-]', 'C[C@H]1c2ncc(CCOCC(=O)N(C)C)n2CCN1Cc1cn[nH]c1', 'CC.CCc1ccc(Cc2c3c(nn2C)c(N)nc2ccccc23)cc1', 'CCC1(OC(=O)C(C)(COc2ccc(C)cc2)C(C)=O)CCCCC1', 'CC(C)=CCC1C(=O)C(C(=O)CC(C)C)=C(O)C(CC=C(C)C)C1=O', 'CC(C)(C)c1[nH]ncc1CNCc1ccc(N2CCOCC2)c(F)c1', 'CC(=O)O[C@@H]1CC[C@]2(C)[C@H]3CC[C@]4(C)C(=O)CC[C@H]4[C@@H]3C[C@H]3O[C@]32C1', 'CC1(C)Cc2ccc(C(C)(C)C)c(CC[C@@H]3C[C@@H](O)CC(=O)O3)c2O1', 'CC1CC(C)CN(C(=O)CN(C)CC(=O)N2CCNCC2)C1.Cl', 'CC(C)n1nnc2c1-c1ccccc1CN(C(C)(C)C)c1ccccc1-2', 'Cn1c(NC2CCN(C3CCCC3)CC2)nc2c1c(=O)[nH]c(=O)n2C', 'CCNN(CC)C(=O)C(C)NCC1CC1c1c[nH]c2ccc(F)cc12', 'CC(=O)O[C@@H](CCc1ccccc1)C(CCC1CCCCC1)C(=O)O', '[H]/N=C/C(=C\\\\N)C1C=C(F)C(C2=C(NC3CCOC3)CCN(C)C2)=CC1', 'Cc1nc(CN2CCN(C(=O)c3cc(C)n(C(C)(C)C)n3)CC2)no1', 'CC(C)N1CCC[C@@H](C(=O)NCCCc2nc3ccc(F)cc3[nH]2)C1', 'COC(=O)C(CC(=O)Cc1c(C)cc(C)cc1C)CC1CCOCC1', 'Cl.NCCC1CCCN(CC(=O)NC(=O)NC2CCCCC2)C1', 'COc1c(C2CCCN2CC(=O)Nc2cc(C)nn2C)c(C)nn1C', 'CC[Si](CC)(CC)/C(C#Cc1ccc(C)cc1)=C/c1ccc(C)cc1', 'CCCC/C(=C\\\\CO)Nc1nc(N)ncc1OCc1cc(C)n(C)n1', 'CC(=O)N(C)CCc1noc(C2CCc3nnn(CC(C)C)c3C2)n1', 'C[C@]12CC[C@H]3[C@@H](CC=C4CC5(CC[C@@]43CO)OCCO5)[C@@H]1CCC2=O', 'C=C1CC[C@@H](O)C/C1=C/C=C1\\\\CCC[C@@]2(C)[C@H]1CC[C@@]2(O)C(=O)CO', 'COCO[C@H]1CC[C@@H](C/C=C/c2ccc(C)cc2)[C@]1(C)CC(=O)OC', 'CCn1ncc2cc3c(nc21)C(N1CCCCC1)c1ccccc1CC3', 'Cc1cccc(C(C)C)c1Nc1nccc(N(C)Cc2ccccc2)n1', 'C[C@]12CC[C@H]3[C@@H](CCC4=CC(=O)CC[C@@]43C)[C@@H]1C(CC(=O)O)C[C@@H]2O', 'Cc1cc(NC(=O)[C@@H](C)N2CCN(Cc3nccn3C)[C@@H](C)C2)no1', 'CC(=O)[C@@]1(O)[C@H](O)CC2C3CCC4=CC(=O)CCC4(C)C3CCC21C', 'CCCSCC(O)CCCC(CCCCCCC(=O)O)C(C)=O', 'CC(=O)OC(C1CCOC1=O)C1CC2CC1C1C3CC(C(C)C3C)C21', 'CCc1ccccc1Nc1nc(C)cc(NCCCc2ccccc2)n1', 'COCCC(c1cncn1C(C)c1ccc(F)cc1)N1CCNCC1', 'CCCCCCC/C=C/C1(C)CCc2cc(OCC(=O)O)ccc2O1', 'CCN/C(=N\\\\Cc1nccc2ccccc12)NCCCc1ccccc1', 'Cc1nn(CCO)c(C)c1CN1CCC(Nc2ccc(F)cc2)CC1', 'CCCc1noc(CN(C)C(=O)Cn2ccc([C@H]3CCCNC3)n2)n1', 'C=C(C)[C@@H]1CCCCC1c1c(O)cc(CCCCC)c(C(=O)O)c1O', 'CC(=O)O[C@@H]1CC[C@@]2(C)C(=CC[C@@H]3[C@H]2CC[C@@]2(C)[C@@H]3C[C@H]3O[C@]32O)C1', 'CN(CCC#N)C(=O)CN1CCCN(Cc2noc(C3CC3)n2)CC1', 'COCOC[C@]12CCC(=O)C=C1CC[C@@H]1[C@@H]2CC[C@]2(C)C(=O)CC[C@@H]12', 'C[N+]1([C@]2([N+](=O)[O-])CCCC[C@H]2NC(=O)Cc2ccccc2)CCCC1', 'CC(C)C1(C(=O)N2C3CCC2CC(N(C)c2ncc(F)cn2)C3)CC1', 'Cc1cnn(CC(=O)NC[C@H](NC(=O)Cn2cc(C)cn2)C(C)C)c1', 'Cc1ccn(-c2ccc(CNC3CCCN(c4ccccc4)C3)cc2)n1', 'C=C(C(=O)OC)[C@@H]1CC[C@@]2(C)CCC=C(COC(=O)/C(C)=C/C)[C@@H]2C1', 'CC(C)c1cncc(-n2cc(C[C@@H](C)c3cncc(C4CC4)c3)cn2)c1', 'CNc1nc(N)nc2c1ncn2C[C@@H]1[C@H](C)C(C)(CO)[C@@H](O)C12CC2', 'Cc1ccc(NC2=N[C@H]3CCCC[C@H]3N=C2Nc2ccc(C)cc2)cc1', 'Cc1cc(C)n2nc(C(=O)NC[C@@H](C(C)C)N3CCOCC3)nc2n1', 'COC(=O)[C@@H]1CC(=O)[C@@H]2[C@H]3CC[C@@H]4CC(=O)CC[C@]4(C)[C@@H]3CC[C@@]21C', 'CC(Cn1cccn1)Nc1cnn(CC(=O)N2CC(C)OC(C)C2)c1', 'COC(=O)/C1=C\\\\CC/C(C)=C/CC/C(C)=C/[C@@H]2OCC(C)=C2C[C@H]1O', 'c1ccc2[nH]c(CN3CCc4cnc(C5CCCCC5)nc4C3)cc2c1', 'Cn1nc(-c2ccc3ccccc3c2)cc1C1CN2CCC1CC2CN', 'CC(C)Cc1nnc(-c2ccc(C3CCCC3)nc2)n1-c1ccccc1', 'CCCC(c1nc2ccc(F)cc2c(=O)n1C)N1CCCN(C)CC1', 'CCNc1nc(N2CCC(Cc3ccccc3)CC2)nc2ccccc12', 'CCn1cnnc1CN/C(=N\\\\C)NCC(C)Oc1cccc(OC)c1', 'CCCCCCC1(C)Nc2ccccc2-c2nc(-c3ccccc3)nn21', 'CC(NCCC(N)c1ccc(Cl)cc1)C12CC3CC(CC(C3)C1)C2', 'CC(C)N(Cc1nccn1Cc1ccccc1F)C(=O)NC(C)(C)C', 'CC12CCC3C(CCC4=CC(=O)CC(O)C43C)C1CCC2C(=O)CO', 'Cc1nn(-c2ccccc2)c(C)c1N1CCN(Cc2ccccc2)CC1', 'Cn1c(=O)c2[nH]c(CN3CCCC(N4CCCC4)C3)nc2n(C)c1=O', 'C=C(C(=O)OC)C1=C[C@]2(O)CCC3C(C)(C)CCC[C@@]3(C)[C@@H]2CC1=O', 'CCN/C(=N\\\\CC(=O)Nc1ccc(F)cc1)N1CCC2(CCCC2)C1', 'CC(C)n1cc(NC(=O)N2CCC[C@H]([C@H](O)c3nccn3C)C2)cn1', 'CCOCCNc1nc(NCCOCC)nc(Nc2ccccc2)n1', 'COC(=O)C1=CCCC2[C@@]1(CO)CC[C@@H](C)[C@]2(C)CCc1ccoc1', 'CCc1ccc(Nc2nccc(Nc3ccc(C)c(C)c3)n2)cc1CC', 'Cc1ccccc1-n1nc(-c2cccc(N(C)C)c2)c2c1NCCCC2', 'CC1=C(C)C(C)C([Si](C)(c2ccccc2)c2cc(C)ccc2C)=C1C', 'CC1CC2C(C(=O)OC3(C)C4CC5CC(C4)CC3C5)C(=O)OC1C2C', 'CCOCc1nc2c(c(N(C)Cc3noc(C)n3)n1)CCN(C)CC2', 'CCN(CC)C(C)CNC(=O)c1cc(-c2ccc(F)c(C)c2)n(C)n1', 'Cc1nc2ccccc2nc1Nc1ccc(CN2CCC(C)CC2)cc1', 'CCC(O)CCc1cc(O)c2c(c1)OC(C)(C)C1CCC(CO)=CC21', 'CC(C)CC(c1nnnn1Cc1ccco1)N1CCC(C(N)=O)CC1', 'CC(=O)c1ccc(OC(C)(C)C(=O)O[C@H]2C[C@@H](C)CC(C)(C)C2)cc1', 'CC(C)CNC1CCN(c2nc3cc(F)ccc3cc2C(N)O)CC1', 'CC#CCCC(C)(/C=C/[C@H]1CC[C@@H]2OC(=O)C[C@@H]21)OC1CCCCO1', 'Cc1cc(N2CCC[C@@H](c3nccn3CC3CC3)C2)nc2ccccc12', 'CC(C)c1noc([C@@H](C)NC(=O)N(C)Cc2n[nH]c3c2CCCC3)n1', 'CC(=O)O[C@H]1CC[C@@]2(C)C(CC[C@@H]3[C@@H]2C(=O)C[C@]2(C)C(=O)CC[C@@H]32)C1', 'C=C1CCC2[C@](C)(CCC[C@]2(C)C(=O)OC)C1CCC1=COCC1=O', 'CN1c2ccccc2[C@@]2([C@]34CCN[C@H]3N(C)c3ccccc34)CCN[C@@H]12', 'CCC1C(=O)C(O)C2C3C(O)CC4=CC(=O)CCC4(C)C3CCC12C', 'N#Cc1cccc(CN2CCC3(CCCN(Cc4ccccn4)C3)C2)c1', 'c1ccc(-c2[nH]ncc2CN(Cc2ccncc2)C2CCCCC2)cc1', 'CC(C)C1=Cc2ccc3c(-c4ccc(C(C)(C)C)cc4)c2C1[Si]3(C)C', 'CN1Cc2cc(N3CCCCC3)ccc2C(c2ccc3[nH]ncc3c2)C1', 'C=C1C(CCCC)=CN(C2CCC2)N=C1c1ccnn1-c1ccccc1', 'C1=CC(N2CCc3cn(-c4ccc(N5CCCCC5)cc4)nc3CC2)=C1', 'Cc1ccc([C@@H](C)Nc2nc(N3CCCCC3)nc3ccccc23)cc1', 'C=C(NC)c1ccc(-c2cnc3ccc(CC4CCCCC4)nn23)cc1', 'CC(Nc1nccc(Nc2ccccc2C(C)(C)C)n1)c1ccccc1', 'CC12CCC3C(CC4OC45CC4(CCC35C)OCCO4)C1CCC2=O', 'CC1CCN(c2nc(NCCc3ccccc3)c3ccccc3n2)CC1', 'CC(C)CNC(=O)N1CCCC(C(=O)N2CCNC(C)C2)C1.Cl', 'CCC(C)n1nnc2c1-c1ccccc1CN(C(C)C)c1ccccc1-2', 'CC=CC=C(CC)C1Nc2cc3c(cc2N1)NC(C)(c1ccccc1)N3', 'c1ccc(CCN2CCN(c3nc4cccc5c4n3CCC5)CC2)cc1', 'CCc1ccccc1Nc1cc(C)nc(NCCCc2ccccc2)n1', 'CC(c1ccccc1)N1CCN(c2nc3cccc4c3n2CCC4)CC1', 'CC(=O)C1CCC2C3CC(O)C4=CC(=O)CCC4(C)C3C(O)CC12C', 'CCC(C)c1nc2c(c(-c3ccccc3)c1C1=NN=NC1)CCCCC2', 'CCN1CCN(c2ncc(Nc3ccccc3)c3c(C)cccc23)CC1', 'C=C1C[C@]23CC1(O)CC[C@H]2[C@@]12C=C[C@H](O)[C@@](C)(C(O)O1)C2C3C(C)C', 'Cc1ccc(N(C)c2c(C)c(C)c(-c3ncnc(C)n3)c(C)c2C)cc1', 'CCOC(=O)C(C)(C)[C@H](C#Cc1ccccc1)O[C@@H](CC)[C@H](O)CC', 'C[C@]12CCC(=O)C[C@H]1CC[C@H]1[C@H]2C(=O)C[C@]2(C)[C@@H](C(=O)CO)CC[C@@H]12', 'Cc1nc(C)n(C[C@@H]2CN(CC(=O)NC3(C#N)CCCC3)CCO2)n1', 'C=CC(=O)OC12CC3CC(CC(C3)C1OC(=O)C(=C)CC(C)(C)C)C2', 'O=C(O)C(O)CCC=CC[C@H]1C(=O)CC[C@@H]1C=CCCC1C=CCC1', 'CCCOC(=O)CCC(=O)OC(CC)CO[Si](C)(C)C(C)(C)C', 'Cc1c[nH]c2ncc(-c3cc4c(c(C5CCCN5)c3)CCN(C)C4)cc12', 'C[C@]12CCC3(CC1=CC[C@@H]1[C@@H]2[C@@H](O)C[C@]2(C)C(=O)CC[C@@H]12)OCCO3', 'CCNc1cc(NCCNC(=O)CCc2c(C)noc2C)nc(C)n1', 'CC[NH+](CC(=O)NC(C)C)CC(=O)c1ccc(N2CCCC2=O)cc1', 'CC(C)(C)c1cc(CC(C)(C)c2cnc3ccccn23)cn2ccnc12', 'C[C@]12CCC(=O)C=C1CC[C@@H]1[C@@H]2CC[C@@]2(C)[C@H]1CC[C@@]2(O)C(=O)CO', 'C=C1CC[C@H](O)CC1=C/C=C1\\\\CCC[C@@]2(C)[C@H]1CC[C@@]2(O)C(=O)CO', 'CC12C=C(CO)C(=O)C=C1CCC1C2C(O)CC2(C)C1CC[C@@]2(C)O', 'CCCc1ncc(CN(CCc2ccccc2)Cc2ccncc2)cn1', 'CCN1CCN(C(=O)CC2CCN(C(=O)CNC)CC2)CC1.Cl', 'CC(C)(N)c1cn(CC2CCN(C(=O)NCc3ccco3)CC2)nn1', 'CC(=O)O[C@H]1CC[C@@]2(C)C(=C[C@H](O)[C@H]3[C@@H]2CC[C@]2(C)C(=O)CC[C@@H]32)C1', 'O=C(OCCCCO)c1ccc(C(=O)C2CCCCCCCC2)cc1', 'O=C(N/C=N/C1CCCCC1)N(c1cccc(F)c1)C1CCNCC1', 'C[C@H](NC(=O)N1CCC[C@@H]1Cn1ccnc1)c1nc(C(C)(C)C)no1', 'CN1CCC2(C34CCN(C)[C@H]3Nc3ccccc34)c3ccccc3N[C@H]12', 'CC(C)c1nnc(CNC2CCCN(Cc3noc(C4CC4)n3)C2)o1', 'COC(=O)[C@]1(C)CCC[C@]2(C)c3ccc(C(C)(C)OO)cc3CC[C@@H]12', 'C/N=C(/NCC(OC)c1ccc(F)cc1)N1CCC(N2CC=CC2)C1', 'C[C@]12CC[C@@]3(O)[C@@H](CCC4=CC(=O)CC[C@@]43C)[C@@H]1CC[C@@H]2C(=O)CO', 'CC(=O)OC1CCC2C3CC(O)C4=CC(=O)CC[C@]4(C)C3CC[C@]12C', 'CN1CCN(c2ccccc2C=C2CCCN=C2c2cccnc2)CC1', 'COC(=O)[C@@]1(C)CCC[C@]2(C)c3cc(O)c(C(C)(C)O)cc3CCC12', 'CC(=O)[C@H]1CC[C@H]2C3=CC=C4CC(O)CC[C@]4(C)[C@@]3(O)C(O)C[C@]12C', 'CN1CCN(c2ccc(/C=C3\\\\CCCN=C3c3cccnc3)cc2)CC1', 'CCn1nc2ncc(N3CCN(C(=O)OC(C)(C)C)CC3)cc2c1N', 'C[C@H]1[C@@H]2CC[C@@H]3[C@]45C=CC(O)(C(=O)OC4)C(C)(C)[C@@H]5CC[C@@]3(C2)[C@H]1O', 'CCN/C(=N\\\\Cc1nnc2ccccn12)NCCCOC1CCOC1', 'C=CC(=O)OC(CC)(COC(=O)C(=C)C)C12CCC(C1)C1CCCC12', 'CC(C)(C)NC(=O)CN1CCN(C(=O)C=Cc2cnc(N)nc2)CC1', 'Cc1nc(C)n(C[C@@H]2CCCN(CCC(=O)Nc3cc(C)on3)C2)n1', 'COCCNc1cc([C@H]2CN(Cc3cnn(C)c3)CCO2)nc(C)n1', 'Cn1cc(-c2ccc(C3CCN(CCc4ccccc4)CC3)nc2)cn1', 'C(C(=O)O)C(CC(=O)O)(C(=O)O)O', 'NC(=S)c1ncn(CC(F)F)n1', 'O=CC(O)C(O)C(O)=C(O)C(=O)O', 'O=C1OC(CCS)CC1CS', 'O=C([O-])C1C=CCCC1C(=O)[O-].[Mg+2]', 'O=Cc1cnc2nc(C(=O)O)nn2c1', 'CCC(=O)SCSC(=O)CC', 'NCc1cc(C(F)F)cnc1Cl', 'Nc1cc(N)nc(SC(F)F)n1', 'NCc1nc(C(F)F)ccc1Cl', 'O=C(O)COC(CC(=O)O)C(=O)O', 'O=C([O+]=C1N=CC=N1)[O+]=C1N=CC=N1', 'CC(=O)OOC(=O)CC(O)C(=O)O', '[Li+].[O-]/C=C\\\\C=C=C1SCCCS1', 'CC(F)(/C=C(/C#N)C(=O)[O-])C(F)F', 'O=C(O)C(=O)C(O)C(O)C(=O)CO', 'CC(CC(C)C(=O)S)C(=O)S', 'Cc1c(C(F)F)cnc(N)c1Cl', 'NCC(F)(F)c1ccncc1Cl', 'Cc1ccccc1S(=O)(=O)O.F', 'COC(=S)CCCC(=S)OC', 'N[C@@H](c1cccnc1Cl)C(F)F', 'O=C1OC(C(O)C(=O)O)C(O)C1O', 'O=Nc1c[nH]c2c(C(=O)O)ncnc12', 'Cc1cc(Cl)nc(C(F)CF)n1', 'CC#CCSCCS(C)(=O)=O', 'Cc1c(Cl)ncc(N)c1C(F)F', 'O=C(O)C[C@](O)(CC1OO1)C(=O)O', 'Cc1c(N)cc(Cl)nc1C(F)F', 'CC(=O)CCSSCC(C)=O', 'O=C1OC1(O)C(O)(O)C1OCCO1', 'NCc1ccnc(Cl)c1C(F)F', 'Cc1cc(C)n(C(F)=C(F)Cl)n1', 'Nc1c(Cl)ccc(C(F)F)c1N', 'NCC(F)(F)c1ccnc(Cl)c1', '[N-]=[N+]=NC(=O)c1cccc([N+](=O)[O-])c1', 'Cc1cnc(N)c(C(F)F)c1Cl', 'O=C(S)CC1CSC(CO)C1', 'Cc1c(N)cnc(Cl)c1C(F)F', 'O=C(O)C1(O)O[C@@H](CO)[C@@H](O)C1=O', 'Cc1cc(C(F)F)c(Cl)c(N)n1', 'Nc1ncc(CCl)cc1C(F)F', 'O=C1OC([C@@H](O)CO)C2(O)OC12O', 'Fc1cc2c(s1)-c1cccc[n+]1C2', 'O=C(OF)C(F)(F)[n+]1ccccc1', 'O=C(CCCC(=O)C(=O)OO)OO', 'C=CCS[C@@H]1CCS(=O)(=O)C1', 'O=C(O)CC(=O)OC(=O)C(O)CO', 'Cc1c(C(F)F)cc(N)nc1Cl', 'O=C(O)[C@]1(O)C(=O)OC[C@H](O)[C@H]1O', 'O=C(O)C(=O)C(=O)[C@H](O)[C@@H](O)CO', 'O=C(O)c1noc(-c2cnccn2)n1', 'O=C(CCS)CC(=O)CCS', 'O=C(O)/C(O)=C/[C@H](O)[C@@H](O)C(=O)O', 'Br.C1CN2CCN1CC2', 'CN/C=C\\\\N(C)C(C)Br', 'O=S1CS(=O)[C@@H]2CCCC[C@H]21', '[Cl-].[NH3+]CC(=O)NCC(F)(F)F', 'NCC1CN(CCBr)C1', 'CC(=O)SCC(C)SC(C)=O', 'C=C(C)C(=O)OCCC(S)S', 'O=C1O[C@@H]([C@H](O)C(=O)O)[C@H](O)[C@@H]1O', 'C1=NO1.CC(=O)Oc1ccco1.[Na]', 'Cl.Nc1nccc(B(O)O)c1F', 'C1C[NH+]2CCN1CC2.[Br-]', 'CSCC(=O)CC(=O)CSC', 'OC(O)CCCC1=CSCS1', 'Nc1ccc(CCl)c(C(F)F)n1', 'CS/C1=C(\\\\C)CCOOSC1', 'O=C(O)CC(C(=O)O)C(O)C(=O)O', '[Cl-].[H+].[H]/N=C(\\\\N)c1cc(F)cc(F)c1', 'Br.CN1C[C@H]2C[C@@H]1CN2', 'CC(=O)SCCCSCC=O', 'C/C=C/N=C/Br.CNC', 'O=CC(=O)[C@@H](O)[C@@H](O)[C@H](O)C(=O)O', 'C=C[CH]c1nc2ccc(F)cc2s1', 'CC1(CCC(=O)O)SCCS1', 'CCCCC(=S=O)C(C)=S=O', 'COC(=S)SC1CCOCC1', 'CSC(=S)OC1CCCOC1', 'CCOC(=O)CSCC1CS1', 'CC(=O)CC(C)=S.CC(=O)S', 'Cc1c(N)cc(C(F)F)nc1Cl', 'O=C(O)C1=C(O)[C@@H](O)[C@H](O)[C@H](O)O1', 'O=C(O)C1CCC(S)C(S)C1', 'Cc1cnc(Cl)c(C(F)F)c1N', 'O=S1SC2CCCCC1C2O', 'Cc1ccoc1CCS(=O)(=O)F', 'CC(=O)O[C@](O)(CC(=O)O)C(=O)O', 'CC(O)C(C(=O)O)(C(=O)O)C(=O)O', 'O=C1OC([C@@H](O)C(=O)O)C(O)C1O', 'CCSC(=S)C(=O)OC(C)C', 'O=C([O-])[C@H](O)C[C@@H](O)[C@@H](O)C(=O)[O-]', 'CCC(=S)OCOC(=S)CC', '[CH][C@H]1C[C@H](S(C)=S)[C@@H](CO)O1', 'O=C(O)[C@H]1OC(O)[C@H](O)C(=O)[C@@H]1O', 'NNC1CCCC(Br)C1', 'CCCCCCB=S(=S)=S', 'C=Nc1ccc([N+](=O)[O-])c2nonc12', 'Pc1cccc2cccc(P)c12', 'N[C@@H](c1ccncc1Cl)C(F)F', 'COC(=O)C(S)[Si]OC(C)C', 'CC(C)/C=C1/[S@](=O)CC[S@@]1=O', 'COc1ccc(O)c([N+](=O)[O-])c1.[Na]', 'O=c1[nH][nH]c2cncnc2c(=O)c1=O', 'COc1cccc([N+](=O)[O-])c1O.[Na]', '[N-]=[N+]=NCc1ncoc1C(F)(F)F', 'Br.[H]/N=C(\\\\N)CC1CCC1', 'O=C(O)C(=O)n1cnc2cncnc21', '[O-]C(Cn1ccnn1)OOOOO', 'C[C@@H]1C(C(=O)O)CS[C@H]1CS', 'Cc1ncc(CC(F)F)c(Cl)n1', 'NCc1cc(Cl)cnc1C(F)F', 'CCOC(=O)CC(=S)SCC', 'O=COC1OC(O)(C(=O)O)CC1O', 'O=C(O)CCC(=O)O.O=CC(=O)O', 'CC(OC(=O)O)C(=O)OC1(C)OO1', 'CC1CSCC(C)(OC=O)S1', 'CCC1=[N+](C)CCN1.[Br-]', 'CC(O)C(O)CC1SC=CS1', 'CCC(=S)SC(C)(C)OC=O', 'O=C1O[C@H]([C@@H](O)C(=O)O)[C@H](O)[C@@H]1O', 'O=Cc1ccc([N+](=O)[O-])c2n[nH]nc12', 'OCCCCCOC(=S)C=S', 'O=S(=O)(F)O[C@@H]1C2CC3C1[C@H]3C2', 'CSC(=O)CCCC(=O)SC', 'NC1=NC(=O)C2=C(C(=O)O)C=NC2=N1', 'Nc1cc(C(F)F)cnc1CCl', 'O=C(O)c1nnc(-c2cccnn2)o1', 'O=[N+]([O-])COc1ccccc1O.[Na]', 'Br.C1CN2CCC1CN2', 'Cc1nc(C(F)F)c(Cl)cc1N', 'CCC1(C(=O)O)SCCCS1', 'NCc1c(C(F)F)ccnc1Cl', 'O=CC(O)CC1SCCCS1', 'NCCN1CCC(Br)C1', 'CS[C@H]1[C@H](O)[C@@H]2CSC[C@H]1O2', 'C=C(Br)CN(C)CCN', 'O=C(O)C1(O)C(=O)OC(CO)C1O', 'Cc1nnc(Cl)c(C(=O)[O-])c1C.[Li+]', 'O=C[C@H](O)C(O)=C(O)C(O)C(=O)O', 'CC(F)(F)c1nc(=S)nc(N)[nH]1', 'O=C1O[C@@](O)(C(=O)O)C[C@H](O)[C@@H]1O', 'CC1CS(=O)(=O)C2CCSC12', 'CC=CC(C=CC)(OS)SO', 'CC=CS(=O)CS(=O)C=CC', 'Nc1cncc(CCl)c1C(F)F', 'CCC1(C(C)=O)SCCS1=O', 'C1COC(C2SCCS2)OC1', 'Cc1ccc(CCS(=O)(=O)F)o1', 'C1=CSSC1.CCC(=O)OC', 'O=C(O)CC(C(=O)O)[C@H](O)C(=O)O', 'COC(=O)C1(F)CSCCC1=O', 'C1=C/C=P\\\\C=CC=C/C=P/C=C1', 'O=C(O)C1OC(O)(C(=O)O)CC1O', 'Br.CN1CC2C[C@H]1CN2', 'O=C([O-])[C@@H](O)C[C@H](O)[C@@H](O)C(=O)[O-]', 'Cc1cc(C(F)F)c(N)c(Cl)n1', 'C[C@@H]1C(CS)OC(=O)[C@@H]1CS', 'Cl.Cl.NCCSCCN', 'CCN(C)/C=C(/Br)NC', 'C=C(C)C(=O)OCC(S)CS', 'O=C(O)[C@@H](O)C1OC(=O)[C@@H](O)[C@H]1O', 'O=C1O[C@H]([C@@H](O)CO)C(=O)C1(O)O', 'O=[N+]([O-])c1ccc(-c2ncncn2)o1', 'NCc1cc(Cl)ncc1C(F)F', 'C=C1C(=O)N(CC(=O)N=O)N=C1C#N', '[H]/N=C(\\\\N)C(Br)CCCC', 'O=C(O)CCC1SCCCS1', 'CNC(=O)NCC(F)(F)F.Cl', 'CC(=O)OCC1SCCCS1', 'CSC1=C(C)CCOOSC1', 'CS(=O)(=O)F.Oc1ccccc1', 'Cc1cc(NNCl)cc(F)c1F', 'CCN(/C=N/C)CCBr', 'C=C(C)O[SiH2]C([SiH3])([SiH3])[SiH3]', 'O=C(O)COC(=O)CC(O)C(=O)O', 'CC(SS)C(=O)C1CCOC1', 'C=CCC1CCC(SO)S1=O', 'Nc1ncc(C(F)F)cc1CCl', 'CC(OC(=O)O)C(C(=O)O)C(=O)O', 'Br.CN(C)CCCC#N', 'CC(=O)SCCC(=O)CCS', 'N[C@H](c1ccc(Cl)nc1)C(F)F', 'C1OCC(C2CSCCS2)O1', 'O=C(O)[C@@H](O)[C@@H]1OC(=O)[C@H](O)[C@H]1O', 'O=C([O-])C(F)(F)F.c1ccncc1', 'N#C/N=N/Oc1ccc([N+](=O)[O-])cc1', 'COC(C)/C(O)=C/C(C)=O.[Ti]', 'C=CCSC1CCS(=O)(=O)C1', 'C#CCSC[C@@H](S)[C@H](O)CO', 'Nc1cnc(CCl)cc1C(F)F', 'Nc1ccc(Cl)c(C(F)F)c1N', 'C/N=C(\\\\N)CCC(C)Br', 'C[C@@H]1Cc2c(Cl)n[nH]c2C1(F)F', 'O.O=c1nc2nc[nH]c2c([O-])[nH]1.[Na+]', 'C/C=C(/C)C1SCCS1(=O)=O', 'O=C1O[C@H]([C@H](O)C(=O)O)[C@@H](O)[C@@H]1O', 'Cc1cc(N)c(C(F)F)c(Cl)n1', 'CCOC(C(=O)O)C(=O)OC(=O)O', 'COc1c(O)cccc1[N+](=O)[O-].[Na+]', 'C/C(C(=O)O)=C(/C)C(S)CS', 'CC(OC(=O)C(O)C(=O)O)C(=O)O', 'CCOC(=O)CCSC(C)=S', 'O=c1[nH]c(=O)c2nccnc2c(=O)[nH]1', 'CSCC1CC(C(=O)O)CS1', 'O=S1(=O)CS[C@@H]2CCCC[C@H]21', 'O=C1O[C@H]([C@H](O)C(=O)O)[C@H](O)[C@@H]1O', 'O=C(O)CC(C(=O)O)[C@@H](O)C(=O)O', 'O=C(O)C(=O)[C@H](O)C(=O)[C@@H](O)CO', 'Cc1c(C(F)F)ncc(N)c1Cl', 'O=C(CCCC(=O)O[SiH3])O[SiH3]', 'CC(O)(C(=O)O)C(C(=O)O)C(=O)O', 'COC(OF)c1ccc(SC)o1', 'O=C(O)[C@H](O)[C@H]1OC(O)C(O)=C1O', 'O=C(O)C1=C(O)[C@H](O)[C@@H](O)C(O)O1', 'C[C@@H](C=O)[C@@H](O)C1SCCS1', '[N-]=[N+]=NCc1cc(C(F)(F)F)on1', 'O=C(O)[C@H]1OC(=O)[C@H](O)[C@@H](O)[C@H]1O', 'CCC[NH+]1C=NCC1.[Br-]', 'CC(N)c1c(F)ncc(F)c1Cl', 'C[C@H]1CN(Br)[C@@H](C)CN1', 'COc1c(O)cccc1[N+](=O)[O-].[Na]', 'O=C(O)[C@@H](O)[C@H]1OC(=O)[C@H](O)[C@H]1O', '[N-]=[N+]=NC(=O)c1ccccc1[N+](=O)[O-]', 'O=C1OC(C(O)CO)C(O)=C1OO', 'CCOC(=S)SC(C)C(C)=O', 'N[C@@H](CF)c1cc(Cl)cnc1F', 'O=C1NC(=O)C2NC([O-])=NC2N1.[Na+]', 'O=c1[nH]c(=O)c2c(nc3occn32)[nH]1', 'CC1CC(=O)OC1(CS)CS', 'Cl.[H]/N=C(\\\\N)c1ccc(F)cc1F', 'NC1CCC(Br)CC1N', 'CCOC(=S)CC(=S)OCC', 'O=C1CC(=O)OC(O)(C(O)CO)O1', 'CC(=O)C(=O)O.O=C(O)CC(=O)O', 'Cc1nc(Cl)cc(N)c1C(F)F', 'C[C@@H]1CN(Br)C[C@H](C)N1', 'Cl.NCC(=O)NCC(F)(F)F', 'O=c1[nH]nnc2cc([N+](=O)[O-])ccc12', 'O=[N+]([O-])OCc1c(CO)[nH]o[n+]1=O', '[H]/N=C(/N)CCCCCBr', 'O=C(O)[C@H]1O[C@@H](C(=O)O)[C@@H](O)[C@H]1O', 'NC1(N)CCC(Br)CC1', 'O=C(O)c1nc(-c2cncnc2)no1', 'CC(=O)OSC[Si]OC(C)C', 'C=C(C)C(=O)OC(S)CCS', 'CCOC(=S)CCC(=S)OC', 'O=C(O)C(O)C1OC(=O)[C@H](O)[C@@H]1O', 'C=CCS[C@H]1CCS(=O)(=O)C1', 'Nc1ccnc(C(F)F)c1CCl', 'CC1(C)O[C@H]2CSSC[C@@H]2O1', 'Nc1ccc(N)c(C(F)F)c1Cl', 'NCc1ccc(C(F)F)c(Cl)n1', 'CSCCC(S)C=CC(=O)O', 'Nc1nccc(CCl)c1C(F)F']}\n"
     ]
    }
   ],
   "execution_count": 42
  },
  {
   "metadata": {
    "ExecuteTime": {
     "end_time": "2025-01-25T15:56:20.831915Z",
     "start_time": "2025-01-25T15:56:20.829836Z"
    }
   },
   "cell_type": "code",
   "source": [
    "# Check the keys in the batch\n",
    "print(tmp_original.keys())\n",
    "\n",
    "# Specifically check if 'batch_ptr' is present\n",
    "if 'batch_ptr' in tmp_original:\n",
    "    print(\"batch_ptr is present:\", tmp_original['batch_ptr'])\n",
    "else:\n",
    "    print(\"batch_ptr is missing\")"
   ],
   "id": "f279211477cf5d0b",
   "outputs": [
    {
     "name": "stdout",
     "output_type": "stream",
     "text": [
      "dict_keys(['spec', 'mol', 'precursor_mz', 'adduct', 'mol_freq', 'identifier', 'smiles', 'candidates', 'labels', 'batch_ptr', 'candidates_smiles'])\n",
      "batch_ptr is present: tensor([256, 256,  76, 256, 256, 256, 256, 256, 256, 256, 256, 256])\n"
     ]
    }
   ],
   "execution_count": 43
  },
  {
   "metadata": {
    "ExecuteTime": {
     "end_time": "2025-01-25T15:56:20.866445Z",
     "start_time": "2025-01-25T15:56:20.864326Z"
    }
   },
   "cell_type": "code",
   "source": "tmp_original.keys()",
   "id": "82cf5fad037c8ffe",
   "outputs": [
    {
     "data": {
      "text/plain": [
       "dict_keys(['spec', 'mol', 'precursor_mz', 'adduct', 'mol_freq', 'identifier', 'smiles', 'candidates', 'labels', 'batch_ptr', 'candidates_smiles'])"
      ]
     },
     "execution_count": 44,
     "metadata": {},
     "output_type": "execute_result"
    }
   ],
   "execution_count": 44
  },
  {
   "metadata": {
    "ExecuteTime": {
     "end_time": "2025-01-25T15:56:20.899314Z",
     "start_time": "2025-01-25T15:56:20.897013Z"
    }
   },
   "cell_type": "code",
   "source": "tmp_original['spec'].shape, tmp_original['mol'].shape, ",
   "id": "8a967c5745662a1f",
   "outputs": [
    {
     "data": {
      "text/plain": [
       "(torch.Size([12, 61, 2]), torch.Size([12, 4096]))"
      ]
     },
     "execution_count": 45,
     "metadata": {},
     "output_type": "execute_result"
    }
   ],
   "execution_count": 45
  },
  {
   "metadata": {
    "ExecuteTime": {
     "end_time": "2025-01-25T15:56:20.931009Z",
     "start_time": "2025-01-25T15:56:20.928293Z"
    }
   },
   "cell_type": "code",
   "source": "tmp_original['precursor_mz']",
   "id": "f4541b8ff18abfc5",
   "outputs": [
    {
     "data": {
      "text/plain": [
       "tensor([275.0914, 169.0970, 460.4260, 384.1470, 405.1600, 347.1700, 769.1700,\n",
       "        369.1333, 551.3700, 346.2013, 347.2217, 215.0200])"
      ]
     },
     "execution_count": 46,
     "metadata": {},
     "output_type": "execute_result"
    }
   ],
   "execution_count": 46
  },
  {
   "metadata": {
    "ExecuteTime": {
     "end_time": "2025-01-25T15:56:20.967653Z",
     "start_time": "2025-01-25T15:56:20.965298Z"
    }
   },
   "cell_type": "code",
   "source": "tmp_original['adduct'], ",
   "id": "d33f02e95d06defc",
   "outputs": [
    {
     "data": {
      "text/plain": [
       "(['[M+H]+',\n",
       "  '[M+H]+',\n",
       "  '[M+H]+',\n",
       "  '[M+H]+',\n",
       "  '[M+H]+',\n",
       "  '[M+Na]+',\n",
       "  '[M+Na]+',\n",
       "  '[M+H]+',\n",
       "  '[M+Na]+',\n",
       "  '[M+H]+',\n",
       "  '[M+H]+',\n",
       "  '[M+Na]+'],)"
      ]
     },
     "execution_count": 47,
     "metadata": {},
     "output_type": "execute_result"
    }
   ],
   "execution_count": 47
  },
  {
   "metadata": {
    "ExecuteTime": {
     "end_time": "2025-01-25T15:56:21.168660Z",
     "start_time": "2025-01-25T15:56:21.166014Z"
    }
   },
   "cell_type": "code",
   "source": "tmp_original['mol_freq']",
   "id": "f2246bafe4c779ae",
   "outputs": [
    {
     "data": {
      "text/plain": [
       "tensor([  5.,  50.,   3.,   2.,  45., 405.,  17.,  20., 111.,   3.,  75.,  79.])"
      ]
     },
     "execution_count": 48,
     "metadata": {},
     "output_type": "execute_result"
    }
   ],
   "execution_count": 48
  },
  {
   "metadata": {
    "ExecuteTime": {
     "end_time": "2025-01-25T15:56:21.257860Z",
     "start_time": "2025-01-25T15:56:21.255417Z"
    }
   },
   "cell_type": "code",
   "source": "tmp_original['labels']",
   "id": "69b44a8f863047a4",
   "outputs": [
    {
     "data": {
      "text/plain": [
       "tensor([ True, False, False,  ..., False, False, False])"
      ]
     },
     "execution_count": 49,
     "metadata": {},
     "output_type": "execute_result"
    }
   ],
   "execution_count": 49
  },
  {
   "metadata": {
    "ExecuteTime": {
     "end_time": "2025-01-25T15:56:21.332242Z",
     "start_time": "2025-01-25T15:56:21.324317Z"
    }
   },
   "cell_type": "code",
   "source": "sum(tmp_original['labels'])",
   "id": "6514ce8596d69758",
   "outputs": [
    {
     "data": {
      "text/plain": [
       "tensor(12)"
      ]
     },
     "execution_count": 50,
     "metadata": {},
     "output_type": "execute_result"
    }
   ],
   "execution_count": 50
  },
  {
   "metadata": {
    "ExecuteTime": {
     "end_time": "2025-01-25T15:56:21.383905Z",
     "start_time": "2025-01-25T15:56:21.381204Z"
    }
   },
   "cell_type": "code",
   "source": "torch.nonzero(tmp_original['labels'], as_tuple=False).squeeze()",
   "id": "2c9d2d7a5c16ed90",
   "outputs": [
    {
     "data": {
      "text/plain": [
       "tensor([   0,  256,  512,  588,  844, 1100, 1356, 1612, 1868, 2124, 2380, 2636])"
      ]
     },
     "execution_count": 51,
     "metadata": {},
     "output_type": "execute_result"
    }
   ],
   "execution_count": 51
  },
  {
   "metadata": {
    "ExecuteTime": {
     "end_time": "2025-01-25T15:56:21.437610Z",
     "start_time": "2025-01-25T15:56:21.435552Z"
    }
   },
   "cell_type": "code",
   "source": "len(tmp_original['labels'])",
   "id": "2e83bcb489cae86a",
   "outputs": [
    {
     "data": {
      "text/plain": [
       "2892"
      ]
     },
     "execution_count": 52,
     "metadata": {},
     "output_type": "execute_result"
    }
   ],
   "execution_count": 52
  },
  {
   "metadata": {
    "ExecuteTime": {
     "end_time": "2025-01-25T15:56:21.529176Z",
     "start_time": "2025-01-25T15:56:21.526683Z"
    }
   },
   "cell_type": "code",
   "source": "tmp_original['batch_ptr']",
   "id": "8623ad0307ee1f18",
   "outputs": [
    {
     "data": {
      "text/plain": [
       "tensor([256, 256,  76, 256, 256, 256, 256, 256, 256, 256, 256, 256])"
      ]
     },
     "execution_count": 53,
     "metadata": {},
     "output_type": "execute_result"
    }
   ],
   "execution_count": 53
  },
  {
   "metadata": {
    "ExecuteTime": {
     "end_time": "2025-01-25T15:56:22.099127Z",
     "start_time": "2025-01-25T15:56:22.096604Z"
    }
   },
   "cell_type": "code",
   "source": "sum(tmp_original['batch_ptr'])",
   "id": "153e8fd767c6cc73",
   "outputs": [
    {
     "data": {
      "text/plain": [
       "tensor(2892)"
      ]
     },
     "execution_count": 54,
     "metadata": {},
     "output_type": "execute_result"
    }
   ],
   "execution_count": 54
  },
  {
   "metadata": {
    "ExecuteTime": {
     "end_time": "2025-01-25T15:56:22.832567Z",
     "start_time": "2025-01-25T15:56:22.830010Z"
    }
   },
   "cell_type": "code",
   "source": "len(tmp_original['candidates'])",
   "id": "57abe1cdad7d1e03",
   "outputs": [
    {
     "data": {
      "text/plain": [
       "2892"
      ]
     },
     "execution_count": 55,
     "metadata": {},
     "output_type": "execute_result"
    }
   ],
   "execution_count": 55
  },
  {
   "metadata": {
    "ExecuteTime": {
     "end_time": "2025-01-25T15:56:23.068618Z",
     "start_time": "2025-01-25T15:56:23.066030Z"
    }
   },
   "cell_type": "code",
   "source": "tmp_original['candidates'][5].shape",
   "id": "6a5c6ecd1c18994e",
   "outputs": [
    {
     "data": {
      "text/plain": [
       "torch.Size([4096])"
      ]
     },
     "execution_count": 56,
     "metadata": {},
     "output_type": "execute_result"
    }
   ],
   "execution_count": 56
  },
  {
   "metadata": {
    "ExecuteTime": {
     "end_time": "2025-01-25T15:56:23.603855Z",
     "start_time": "2025-01-25T15:56:23.601619Z"
    }
   },
   "cell_type": "code",
   "source": "len(tmp_original['candidates_smiles'])",
   "id": "3f7ec6537b665b0c",
   "outputs": [
    {
     "data": {
      "text/plain": [
       "2892"
      ]
     },
     "execution_count": 57,
     "metadata": {},
     "output_type": "execute_result"
    }
   ],
   "execution_count": 57
  },
  {
   "metadata": {},
   "cell_type": "markdown",
   "source": "# MSnRetrieval",
   "id": "effa503f7496c1bb"
  },
  {
   "metadata": {
    "ExecuteTime": {
     "end_time": "2025-01-25T15:42:14.132150Z",
     "start_time": "2025-01-25T15:42:14.130270Z"
    }
   },
   "cell_type": "code",
   "source": "from massspecgym.featurize import SpectrumFeaturizer",
   "id": "81578a73d8e57643",
   "outputs": [],
   "execution_count": 5
  },
  {
   "metadata": {
    "ExecuteTime": {
     "end_time": "2025-01-25T15:42:14.485973Z",
     "start_time": "2025-01-25T15:42:14.484027Z"
    }
   },
   "cell_type": "code",
   "source": [
    "config = {\n",
    "    'features': ['collision_energy', 'ionmode', 'adduct', 'spectrum_stats', 'atom_counts', 'value', \"retention_time\", 'ion_source', 'binned_peaks'],\n",
    "    'feature_attributes': {\n",
    "        'atom_counts': {\n",
    "            'top_n_atoms': 12,\n",
    "            'include_other': True,\n",
    "        },\n",
    "    },\n",
    "}"
   ],
   "id": "5df6778634ce3906",
   "outputs": [],
   "execution_count": 6
  },
  {
   "metadata": {
    "ExecuteTime": {
     "end_time": "2025-01-25T15:42:15.216930Z",
     "start_time": "2025-01-25T15:42:15.214635Z"
    }
   },
   "cell_type": "code",
   "source": "featurizer = SpectrumFeaturizer(config, mode='torch')",
   "id": "3e4d2d35f3c5e077",
   "outputs": [],
   "execution_count": 7
  },
  {
   "metadata": {
    "ExecuteTime": {
     "end_time": "2025-01-25T15:42:15.788888Z",
     "start_time": "2025-01-25T15:42:15.786985Z"
    }
   },
   "cell_type": "code",
   "source": "file_json = \"/Users/macbook/CODE/Majer:MassSpecGym/data/candidates_generation/MassSpecGymMSn_retrieval_candidates_formula.json\"",
   "id": "b1baf406d4a19229",
   "outputs": [],
   "execution_count": 8
  },
  {
   "metadata": {
    "ExecuteTime": {
     "end_time": "2025-01-25T15:48:50.997434Z",
     "start_time": "2025-01-25T15:42:16.529133Z"
    }
   },
   "cell_type": "code",
   "source": [
    "# Init hyperparameters\n",
    "n_peaks = 60\n",
    "fp_size = 4096\n",
    "batch_size = 12\n",
    "\n",
    "# Load dataset\n",
    "dataset_msn = MSnRetrievalDataset(\n",
    "    pth=file_mgf,\n",
    "    candidates_pth=file_json,\n",
    "    featurizer=featurizer,\n",
    "    mol_transform=MolFingerprinter(fp_size=fp_size),\n",
    "    max_allowed_deviation=0.005\n",
    ")\n"
   ],
   "id": "4abdab9e026ffb09",
   "outputs": [
    {
     "name": "stdout",
     "output_type": "stream",
     "text": [
      "Warning: No candidates for 0 smiles. Skipping.\n",
      "Total valid indices: 16476\n",
      "Dataset length: 16476\n"
     ]
    }
   ],
   "execution_count": 9
  },
  {
   "metadata": {
    "ExecuteTime": {
     "end_time": "2025-01-25T15:48:51.006981Z",
     "start_time": "2025-01-25T15:48:51.004867Z"
    }
   },
   "cell_type": "code",
   "source": [
    "from rdkit import Chem\n",
    "from rdkit.Chem import AllChem\n",
    "import pandas as pd\n",
    "def is_valid_smiles(smiles):\n",
    "    mol = Chem.MolFromSmiles(smiles)\n",
    "    if mol is None:\n",
    "        return False\n",
    "    Chem.SanitizeMol(mol)\n",
    "    return True"
   ],
   "id": "db217c0f7e460abc",
   "outputs": [],
   "execution_count": 10
  },
  {
   "metadata": {
    "ExecuteTime": {
     "end_time": "2025-01-25T15:48:51.023258Z",
     "start_time": "2025-01-25T15:48:51.020429Z"
    }
   },
   "cell_type": "code",
   "source": [
    "# Init data module\n",
    "data_module_msn = MassSpecDataModule(\n",
    "    dataset=dataset_msn,\n",
    "    batch_size=batch_size,\n",
    "    split_pth=split_file,\n",
    "    num_workers=0,\n",
    ")"
   ],
   "id": "313e58fab0155c4b",
   "outputs": [],
   "execution_count": 11
  },
  {
   "metadata": {
    "ExecuteTime": {
     "end_time": "2025-01-25T15:50:55.478496Z",
     "start_time": "2025-01-25T15:50:55.433039Z"
    }
   },
   "cell_type": "code",
   "source": [
    "data_module_msn.prepare_data()\n",
    "data_module_msn.setup()\n",
    "\n",
    "train_loader_msn = data_module_msn.train_dataloader()"
   ],
   "id": "af9eb30cc9d0b54f",
   "outputs": [
    {
     "name": "stdout",
     "output_type": "stream",
     "text": [
      "Train dataset size: 12536\n",
      "Val dataset size: 1952\n"
     ]
    }
   ],
   "execution_count": 13
  },
  {
   "metadata": {
    "ExecuteTime": {
     "end_time": "2025-01-25T15:50:59.757773Z",
     "start_time": "2025-01-25T15:50:58.130761Z"
    }
   },
   "cell_type": "code",
   "source": [
    "tmp_msn = []\n",
    "for batch in train_loader_msn:\n",
    "    print(batch)\n",
    "    tmp_msn = batch\n",
    "    break"
   ],
   "id": "511d947bf9b25fcd",
   "outputs": [
    {
     "name": "stdout",
     "output_type": "stream",
     "text": [
      "{'spec': DataBatch(x=[124, 1039], edge_index=[2, 224], batch=[124], ptr=[13]), 'mol': tensor([[0., 0., 0.,  ..., 0., 0., 0.],\n",
      "        [0., 0., 0.,  ..., 0., 0., 0.],\n",
      "        [0., 0., 0.,  ..., 0., 0., 0.],\n",
      "        ...,\n",
      "        [0., 0., 0.,  ..., 0., 0., 0.],\n",
      "        [0., 0., 0.,  ..., 0., 0., 0.],\n",
      "        [0., 0., 0.,  ..., 0., 0., 0.]]), 'precursor_mz': tensor([362.1322, 705.2025, 444.2143, 401.1919, 379.2479, 477.2384, 328.1305,\n",
      "        270.1489, 378.1747, 558.2300, 397.1329, 639.3586]), 'adduct': ['[M+H]+', '[M+H]+', '[M+H]+', '[M+H-2H2O]+', '[M+H]+', '[M+H]+', '[M+H]+', '[M+H-H2O]+', '[M+H]+', '[M+H]+', '[M+H]+', '[M+H]+'], 'identifier': ['0040250_0000000', '0006256_0000000', '0060488_0000000', '0009601_0000000', '0009532_0000000', '0086220_0000000', '0074197_0000000', '0016939_0000000', '0064184_0000000', '0089115_0000000', '0028740_0000000', '0009102_0000000'], 'mol_freq': tensor([1., 1., 1., 4., 2., 1., 1., 4., 1., 2., 1., 3.]), 'smiles': ['CC1=NC(=NC=C1)SCC(=O)N2C3=CC=CC=C3CCC4=CC=CC=C42', 'CC(=O)OC1COC(C(C1OC(=O)C)OC(=O)C)C2=C(C3=C(C=C2O)OC(=CC3=O)C4=CC=C(C=C4)OC5C(C(C(C(O5)CO)O)O)O)OC', 'CC1=C(C(=NO1)C)C2=C(C=C3C(=C2)NC4=C3C(=NC(=N4)C)NC5=CC(=NN5C)C6CC6)OC', 'CC(C)C(C(=O)OCC(C(C(C(COC(=O)C(C(C)C)NC=O)O)O)O)O)NC=O', 'CC1CCC2(C(C1(C)CCC(C)CC(=O)O)CC(=O)C=C2COC(=O)C)C', 'C[C@@H]1CC2=C(C=CC3=C2C=NN3)[C@H](N1CC(F)(F)F)C4=NC=C(C=C4)NC5CN(C5)CCCF', 'C1=CC=C(C=C1)C2=NN3C=CC=CC3=C2C4=NN=C5C(=C4)C(=NN5)N', 'CN1CC[C@@]23C=C[C@@H](C[C@@H]2OC4=C(C=CC(=C34)C1)OC)O', 'CCC(CC)C(C1=CC=C(C=C1)NC2=NC3=CC=CC=C3S2)N4C=NC=N4', 'CC1=CC(=C(C=C1C2CCNCC2)OC(C)C)NC3=NC=C(C(=N3)NC4=CC=CC=C4S(=O)(=O)C(C)C)Cl', 'CC1=NN(C(=C1)NC(=O)C2CCCC2)C3=NC(=CS3)C4=CC5=C(C=C4)OCO5', 'CCC(C)C(C(=O)OC(C(C)CC)C(=O)OC(C(C)CC)C(=O)OC(C(C)CC)C(=O)OCC(C(C(C(CO)O)O)O)O)O'], 'candidates': tensor([[0., 0., 0.,  ..., 0., 0., 0.],\n",
      "        [0., 0., 0.,  ..., 0., 0., 0.],\n",
      "        [0., 0., 0.,  ..., 0., 0., 0.],\n",
      "        ...,\n",
      "        [0., 0., 0.,  ..., 0., 0., 0.],\n",
      "        [0., 0., 0.,  ..., 0., 0., 0.],\n",
      "        [0., 0., 0.,  ..., 0., 0., 0.]]), 'labels': tensor([ True, False, False,  ..., False, False, False]), 'batch_ptr': tensor([256,   7, 256,  69, 256,  24, 256, 256, 256,  63, 256,  17]), 'candidates_smiles': ['CC1=NC(=NC=C1)SCC(=O)N2C3=CC=CC=C3CCC4=CC=CC=C42', 'Cc1cccc(Cn2c(C(=O)NCc3cccnc3)cc3sccc32)c1', 'CCn1c(SCC(=O)Nc2cccc3ccccc23)nc2ccccc21', 'CCc1ccccc1Oc1nc(NCc2ccccc2)nc2ccsc12', 'Cc1ccc2ccc(C(Nc3ccccn3)c3sccc3C)c(O)c2n1', 'C[C@@H](NC(=O)Cc1csc2nc(-c3ccccc3)cn12)c1ccccc1', 'COc1cccc(N/C=C(\\\\C#N)c2nc(-c3ccc(C)c(C)c3)cs2)c1', 'CSc1cccc(N[C@H]2c3ccccc3C(=O)N2c2cc(C)ccn2)c1', 'CCSc1nc2c(-c3ccccc3)c[nH]c2c(=O)n1-c1ccccc1C', 'CC(C)c1ccc(NC(=O)c2csc3nc(-c4ccccc4)cn23)cc1', 'Cc1ccc(CNC(=O)CSc2nc3ccc(C)cc3cc2C#N)cc1', 'O=C1CCCCC1Sc1nnc(-c2ccccc2)c(-c2ccccc2)n1', 'COc1ccc(/C=C(\\\\c2nc(C)cs2)c2nc3ccccc3n2C)cc1', 'C[C@H](O)Cn1cnc(-c2ccccc2)c1-c1nc(-c2ccccc2)cs1', 'Cc1nc(-c2ccc(CCNC(=O)c3cc4ccccc4[nH]3)cc2)cs1', 'COc1cccc(NC=C(C#N)c2nc(-c3ccc(C)cc3C)cs2)c1', 'O=C(CC(c1ccsc1)c1c[nH]c2ccccc12)NCc1ccccn1', 'c1ccc(-c2nc(-c3ccccc3OCCCn3ccnc3)cs2)cc1', 'O=C1C2NNC(c3cccs3)C2C(c2ccccc2)N1c1ccccc1', 'Cc1cccc(C(=O)NCC(c2cccs2)c2c[nH]c3ccccc23)n1', 'CC(C)[C@@H]1S/C(=N/N=C\\\\c2c3ccccc3cc3ccccc23)NC1=O', 'Cc1cccc(/C=C(\\\\C#N)c2nc3sc4c(c3c(=O)[nH]2)CC[C@H](C)C4)c1', 'CCc1ccc(Sc2ncnc3[nH]c(-c4ccc(OC)cc4)cc23)cc1', 'Cc1nc(CNC(=O)c2cn(Cc3ccccc3)c3ccccc23)cs1', 'Cc1cc(SCC(=O)N/N=C\\\\C=C\\\\c2ccccc2)nc2ccccc12', 'CC(c1ccccc1)n1c(CNC(=O)c2cccs2)nc2ccccc21', 'Cc1ccc(NC(=S)N/N=C/c2ccc(Oc3ccccc3)cc2)cc1', 'Cc1ccc2nc3sc(C(=O)Nc4cccc(C)c4C)c(N)c3cc2c1', 'COc1ccc(-c2csc3ncnc(Nc4cccc(C)c4C)c23)cc1', 'O=c1[nH]c(=S)[nH]c2c1C(CCc1ccccc1)C=C(c1ccccc1)N2', 'CC(C)n1cc(C=C2S/C(=N/c3ccccc3)NC2=O)c2ccccc21', 'Cc1cccc(NC(=O)CSc2nc3c(C)c(C)ccc3cc2C#N)c1', 'Cc1cc(-c2cccc3ncsc23)nc2c(CC(=O)N(C)C)cccc12', 'Cc1ccc(C)c(NC(=O)c2sc3nc(-c4ccccc4)cn3c2C)c1', 'CCN1c2ccccc2Sc2cc(C=O)cc(N(N)c3ccccc3)c21', 'Cc1[nH]c2ccc(CNC(=O)/C=C/c3nc4ccccc4s3)cc2c1C', 'COc1cccc(CN(c2ccccc2)c2nc3c(C)ccnc3s2)c1', 'COc1cccc(-c2csc(C(C#N)=CNc3cc(C)ccc3C)n2)c1', 'CCn1c(O)c(C=C2C=Nc3ccccc32)s/c1=N/c1ccc(C)cc1', 'Cc1ccc(CC(=O)Nc2ccc(-c3cn4ccsc4n3)cc2)cc1C', 'OC1CCN(c2cc(-c3nc4ccccc4s3)c3ccccc3n2)CC1', 'C[C@H](C(=O)N[C@@H](c1ccccc1)c1cccs1)n1cnc2ccccc21', 'C[C@H](C(=O)NCc1cccs1)n1nc(-c2ccccc2)c2ccccc21', 'COc1ccc(-c2cc3c(SCc4cccc(C)c4)ncnc3[nH]2)cc1', 'COc1ccc2c(-c3ccccc3)cc(SCc3nccn3C)nc2c1', 'N#Cc1ccc(Cc2cnc(NC(=O)CCCc3ccccc3)s2)cc1', 'COc1cccc(-c2csc(/C(C#N)=C/Nc3cc(C)cc(C)c3)n2)c1', 'Cc1cccc(CSc2nnc(-c3ccco3)n2-c2ccccc2C)c1', 'CCc1ccccc1NC(=O)c1sc2nc3ccc(C)cc3cc2c1N', 'COc1cccc(NC=C(C#N)c2nc(-c3ccc(C)c(C)c3)cs2)c1', 'Cc1cccc(CC(=O)Nc2cccc(-c3cn4c(C)csc4n3)c2)c1', 'COc1ccc(-c2nc(SC)nc3c2cc(-c2ccccc2)n3C)cc1', 'COc1ccc(-c2cc3c(Sc4cc(C)cc(C)c4)ncnc3[nH]2)cc1', 'Cn1c([C@@H](Cc2ccccc2)NC(=O)c2cccs2)nc2ccccc21', 'COc1ccc2ccnc(NCCc3nc(-c4ccccc4)cs3)c2c1', 'COc1cccc(/C=C(\\\\c2nc(C)cs2)c2nc3ccccc3n2C)c1', 'Cc1cccc(-n2c(SCc3ccccc3C)nnc2-c2ccco2)c1', 'COc1ccc(/N=C2\\\\Sc3ncccc3CN2Cc2ccccc2)cc1', 'Cc1cccc(C)c1/N=c1\\\\sc(/C=C2\\\\C=Nc3ccccc32)c(O)n1C', 'c1cncc(COc2ccc(CNCc3nc4ccccc4s3)cc2)c1', 'C#CCN(Cn1c(-c2ccccn2)csc1=O)[C@H]1CCc2ccccc21', 'Cc1ccc(/N=C2\\\\NC(=O)C(=Cc3cc4ccccc4n3C)S2)cc1C', 'Cc1cccc(-c2csc3nc(CN(C)c4ccccc4)[nH]c(=O)c23)c1', 'Cc1ccc(NC(=O)CSc2nc3c(C)cccc3cc2C#N)cc1C', 'Nc1ccccc1NC(=O)C=Cc1csc(CC=Cc2ccccc2)n1', 'Cc1cc(C)cc(NC(=O)c2sc3nc4ccc(C)cc4cc3c2N)c1', 'Cc1cccc(C2=NN(C(=S)Nc3ccccc3)[C@H](c3ccco3)C2)c1', 'CN1C(=O)/C(=C/c2cn(Cc3ccccc3)c3ccccc23)N(C)C1=S', 'Cc1nnc2n1-c1sc(C#CC3CC3)c(Cc3ccccc3)c1COC2', 'Cc1ccc(NC(=O)c2sc3nc(-c4ccccc4)cn3c2C)c(C)c1', 'Cc1occc1-c1nnc(S[C@H](C)c2ccccc2)n1-c1ccccc1', 'Cc1ccc(-c2cn3c(C(=O)NC(C)c4ccccc4)csc3n2)cc1', 'N[C@@H](Cc1ccccc1)c1nnc(SCc2cccc3ccccc23)o1', 'Cc1ccccc1C(=O)NC(=S)N(Cc1ccccc1)c1ccccn1', 'CC(C)(C)c1ccc(-c2csc3nc(-c4ccncc4)[nH]c(=O)c23)cc1', 'CCc1ccccc1N/C=C(\\\\C#N)c1nc(-c2cccc(OC)c2)cs1', 'Cc1cccc(C)c1NC(=O)c1cc2c(C)nn(-c3ccccc3)c2s1', 'Cc1cc(NCCOc2ccccc2)nc(-c2csc3ccccc23)n1', 'O=C(c1cc(-c2ccccc2)cs1)N(C1=CC1)C1CCc2[nH]ncc2C1', 'Cc1cccc([C@H]2CC(c3ccco3)=NN2C(=S)Nc2ccccc2)c1', 'Cc1cccc(N2CN=c3s/c(=C\\\\C=C\\\\c4ccccc4)c(=O)n3C2)c1', 'Cc1ncc(CNC(=O)c2cn(Cc3ccccc3)c3ccccc23)s1', 'Cc1ccc(-c2c(C(=O)NCCc3ccccc3)nc3sccn23)cc1', 'Cc1c(C(=O)N(C)Cc2ccccc2)sc2nc(-c3ccccc3)cn12', 'Cc1nc(Nc2ccccc2O)c2c(-c3ccc(C)c(C)c3)csc2n1', 'Cc1ccc(C)c(NC(=O)c2ccc(-c3nc4ccccc4n3C)s2)c1', 'CCc1cc(C)c(O)c(-c2n[nH]c(=S)n2-c2cccc3ccccc23)c1', 'CCc1ccc(-c2nc(CC(=O)Nc3ccc(CC#N)cc3)cs2)cc1', 'C[C@H](N[C@@H](c1ccccc1)c1cccs1)C(=O)Nc1ccc(C#N)cc1', 'NC(=NN=Cc1ccc(Oc2ccccc2)cc1)SCc1ccccc1', 'CC(C)C1S/C(=N/N=C/c2c3ccccc3cc3ccccc23)NC1=O', 'Cc1ccc(-c2csc3ncnc(NC[C@@H](O)c4ccccc4)c23)cc1', 'COc1ccccc1-c1cnc(=S)n2cc(-c3ccc(C)cc3C)[nH]c12', 'O=C(/C=C/c1ccccc1)NC(=S)N1CCc2c([nH]c3ccccc23)C1', 'CSc1ccc(C2C3=C(CCCC3=O)Nc3nc4ccccc4n32)cc1', 'C=CCn1c(C)nnc1SCC(=O)c1ccc2c(c1)-c1ccccc1C2', 'Cc1cc2nc(-c3ccc(NC(=O)Cc4cccs4)cc3)[nH]c2cc1C', 'Cc1ccccc1-c1nnc2s/c(=C/c3ccc(C(C)C)cc3)c(=O)n12', 'COc1ccc(-c2csc(/C(C#N)=C\\\\Nc3cccc(C)c3C)n2)cc1', 'O=C(c1cc2ccccc2[nH]1)N1CCC[C@H](c2nc3ccccc3s2)C1', 'Cc1ccc(CNc2ncnc3cc(-c4cccc(CO)c4)sc23)cc1', '[H]/N=C1/C(c2nc(-c3ccc(C)cc3)cs2)=C(O)CN1c1ccccc1C', 'c1ccc2c(Sc3ccc4nc(N5CCNCC5)oc4c3)cccc2c1', 'Cc1ccc([C@@H]2c3[nH]c4ccccc4c3C[C@@H]3C(=O)N(C)C(=S)N23)cc1', 'Cc1ccc(-c2ccc(SCC(=O)N3CCc4ccccc43)nn2)cc1', 'O=C(NCCCc1ccccc1)c1cn2cc(-c3ccccc3)sc2n1', 'c1ccc(-c2cc(CN3CCC[C@@H]3c3nc4ccccc4s3)no2)cc1', 'CC(NC(=O)CSc1ncc2ccccn12)c1cccc2ccccc12', 'Cc1ccc(NC(=O)c2cc3c(C)nn(-c4ccc(C)cc4)c3s2)cc1', 'CCCn1c(O)c(C=C2C=Nc3ccccc32)s/c1=N\\\\c1ccccc1', 'Cc1ccc(-c2csc(Cn3c(=O)c(C)nc4ccc(C)cc43)n2)cc1', 'CCn1c(-c2nc(C(=O)N(C)c3ccccc3)cs2)cc2ccccc21', 'Cc1cc(C)c(C#N)c(SC(C)C(=O)Nc2ccc3ccccc3c2)n1', 'Cc1ccc(C)c(/C=C(\\\\C#N)c2nc3sc4c(c3c(=O)[nH]2)CCCC4)c1', 'CSc1cccc(N[C@@H]2c3ncccc3C(=O)N2c2ccc(C)cc2)c1', 'CC(c1ccc2scnc2c1)N1CCc2oc(-c3ccccc3)nc2C1', 'CCN1/C(=C2\\\\C(=O)N(C)C(=S)N2c2ccccc2)C=Cc2ccccc21', 'O=C(Nc1ccccc1)/C(=N\\\\Nc1ccccc1)SCc1ccccc1', 'CSC1=C(C#N)C(c2ccccc2)C(C(=O)Nc2ccccc2)=C(C)N1', 'CCN(C(=O)c1cc2c(C)nn(-c3ccccc3)c2s1)c1ccccc1', 'Cc1ccc2nc(CN[C@H](c3ccccc3)c3cccs3)cc(=O)n2c1', 'CC(Sc1ccc2ccccc2n1)C(=O)N(CCC#N)c1ccccc1', 'CC(C)(C)c1ccc(C=c2sc3nc(-c4ccccc4)nn3c2=O)cc1', 'CCc1ccc(C(=O)Nc2ccc(-c3cn4c(C)csc4n3)cc2)cc1', 'CC1CCc2c(sc3nnn(Cc4cccc5ccccc45)c(=O)c23)C1', 'COc1ccc(-c2nc(-c3ccc(C)n3Cc3ccccn3)cs2)cc1', 'CSc1ncccc1C(=O)Nc1ccccc1N1CCc2ccccc21', 'CCOc1ccc(-c2csc3nc(-c4ccc5c(c4)CCN5)cn23)cc1', 'Cc1sc(-c2cccnc2)nc1-c1ccc2c(c1)CCN2C(=O)C1CC1', 'COc1cccc(N/C=C(\\\\C#N)c2nc(-c3ccc(C)cc3C)cs2)c1', 'CCOc1ccccc1-c1nc(SCc2cccc3ccccc23)n[nH]1', 'CC#Cc1ccc2sc3ccc([C@]4(C)CN(C)C(=O)C(N)=N4)cc3c2c1', 'Cc1ccc2ccc(C(=O)Nc3sc4c(c3C#N)CCCCC4)cc2n1', 'CCc1ccc(-c2c(C)sc3ncnc(Nc4ccccc4O)c23)cc1', 'Cn1nc(-c2cccs2)cc1CNC(=O)Cc1cccc2ccccc12', 'Cc1ccc(C(NCc2nc(-c3cccs3)no2)c2ccccc2)cc1', 'C[C@H]1CCc2c(sc(NC(=O)Nc3cccc4ccccc34)c2C#N)C1', 'Cc1ccc(NC(=O)c2cc(C=Cc3ccccc3)[nH]c(=S)n2)cc1C', 'c1cncc(/N=c2\\\\scc(-c3cc4ccccc4o3)n2C2CCCC2)c1', 'Cc1ccsc1C(=O)N1C2CCC1c1cnc(-c3ccccc3)nc1C2', 'Cc1csc(-c2cccc(C(=O)NCc3ccc4[nH]c(C)cc4c3)c2)n1', 'C#CCn1c(C2CC(=O)N(c3cccc(SC)c3)C2)nc2ccccc21', 'COc1cccc(-c2cn3c(=S)ncc(-c4cc(C)cc(C)c4)c3[nH]2)c1', 'CSc1ccc(CC(=O)Nc2ccc(/N=N/c3ccccc3)cc2)cc1', 'Cc1cc2c(cc(C(=O)NCc3cccnc3)n2Cc2ccccc2)s1', 'Cc1ccc(C=CC(C(O)c2cccs2)n2nnc3ccccc32)cc1', 'Cc1nc(/C=C/C(=O)Nc2ccccc2N2CCc3ccccc32)cs1', 'Cc1ccccc1-c1nc(C)c(CNC(=O)c2ccc3[nH]ccc3c2)s1', 'COc1ccc(-c2csc(/C(C#N)=C/Nc3ccc(C)c(C)c3)n2)cc1', 'Cc1ccc(N2C(N)=C(C#N)[C@H](c3ccsc3)C3=C2CCCC3=O)cc1', 'CN(C)C(=O)C#Cc1ccc(SNCc2ccnc3ccccc23)cc1', 'Cc1nc2ccccc2n1CC(=O)N[C@H](c1ccccc1)c1cccs1', 'Cc1cnc(NC(=O)C[C@@H](c2cccc3ccccc23)n2cccc2)s1', 'O=C(C1CCc2nc(-c3ccncc3)sc2C1)N1CCc2ccccc21', 'CC(NC(=O)c1ccc(-c2nc3ccccc3n2C)s1)c1ccccc1', 'Cc1cc(C)on1.Cc1ccc(-c2cn3c(n2)sc2ccccc23)cc1', 'Cc1cccc(N2C(N)=C(C#N)[C@H](c3ccsc3)C3=C2CCCC3=O)c1', 'Cc1ccc(CNC(=O)c2csc(-c3cc4ccccc4n3C)n2)cc1', 'O=C(NCCCn1ccc2ccccc21)c1cnc(-c2ccccc2)s1', 'CC(C)c1ccc(O)c(-c2[nH][nH]c(=S)c2-c2ccnc3ccccc23)c1', 'Cc1cccc(NC(=O)c2cc3c(C)nn(-c4cccc(C)c4)c3s2)c1', 'CC(NC(=O)CSc1ncc2ccccn12)c1ccc2ccccc2c1', 'c1ccc(Oc2ccc(N(Cc3cccnc3)C3=NCCS3)cc2)cc1', 'Cc1nc(-c2cccc(NC(=O)c3ccc4[nH]c(C)c(C)c4c3)c2)cs1', '[H]/N=C1/C(c2nc(-c3ccccc3)cs2)=C(O)CN1CCc1ccccc1', 'O=C(Cc1ccccc1)NC(=S)Nc1ccc(Nc2ccccc2)cc1', 'O=C(Cc1cccs1)Nc1ccccc1CCc1nc2ccccc2[nH]1', 'COc1ccc(CCNc2nc(-c3cccs3)nc3ccccc23)cc1', 'Cc1cccc(NC(=O)CSc2nc3c(C)cccc3cc2C#N)c1C', 'Cc1cc(C(=O)Nc2ccc(-c3nc4ccccc4n3C)cc2)c(C)s1', 'O=C(c1ccc2c(c1)sc1nc(-c3ccccc3)cn12)N1CCCCC1', 'CCc1ccc(-c2cc3nccc(Oc4ccc(N)cc4C)c3s2)nc1', 'Cc1cc(C(=O)NCCCc2nc3ccccc3s2)c2ccccc2n1', 'Cc1cc(S[C@H](C)C(=O)Nc2ccccc2C#N)nc2c(C)cccc12', 'COc1ccc(-c2csc3ncnc(N(C)Cc4ccccc4)c23)cc1', 'CCn1c(O)c(C=C2C(C)=Nc3ccccc32)s/c1=N/c1ccccc1', 'CC(c1cnc(-c2ccncc2)[nH]1)c1ccc(C(O)c2ccccc2)s1', 'CCc1cccc2sc(NC(=O)NCc3cccc4ccccc34)nc12', 'CCCCOc1ccc(/C=C(/C#N)c2nc(-c3ccncc3)cs2)cc1', 'N#Cc1cc(NC(=O)c2cc3ccccc3s2)ccc1N1CCCCC1', 'CN(Cc1cccc2ccccc12)C(=O)NCc1nc2ccccc2s1', 'C[C@@H](N[C@@H](c1ccccc1)c1cccs1)c1nc2ccccc2c(=O)[nH]1', 'O=C(N/N=C/c1cccnc1)c1ccc(CSCc2ccccc2)cc1', 'CSc1cccc(N[C@@H]2c3ccccc3C(=O)N2c2cc(C)ccn2)c1', 'Cn1c(C(=O)N(Cc2ccccc2)Cc2ccccn2)cc2sccc21', 'CCn1c2ccccc2c2cc(/C=N/NC(=O)Cc3cccs3)ccc21', 'O=C(NCCCn1ccc2ccccc21)c1csc(-c2ccccc2)n1', 'CN(Cc1ccccc1)Cc1nc2sc(-c3ccccc3)cc2c(=O)[nH]1', 'CCc1cccc2c(C(=O)CSc3nc(C)nc4ccccc34)c[nH]c12', 'CC1=Nc2ccccc2/C1=C/c1s/c(=N/c2ccccc2C)n(C)c1O', 'O=C(c1ccccc1)N1CCc2nnc(SCc3ccccc3)cc2C1', 'Cc1ccc2cc(C(=O)Nc3nc4ccc(C(C)C)cc4s3)ccc2n1', 'C[C@H](NC(c1ccccc1)c1ccccc1)c1nnc(-c2cccs2)o1', 'c1cc(Sc2ccc3c(ccc4ncnn43)c2)cc(C2CCOCC2)c1', 'COc1ccccc1CNc1ncnc2scc(-c3ccc(C)cc3)c12', 'O=C(NCc1ccccc1)c1cccc(NC(=S)Nc2ccccc2)c1', 'Cc1ccc([C@@H]2CC(c3ccccc3)=NN2C(=S)Nc2ccccc2)o1', 'COc1ccc(C2CC(c3cccs3)Nc3nc4ccccc4n32)cc1', 'Cc1ccc2ccc(C(=O)Nc3sc4c(c3C#N)CCC(C)C4)cc2n1', 'O=C1C(=CNNc2nc3ccccc3s2)CCC/C1=C/c1ccccc1', 'Cc1ccccc1-c1nc2ccccc2n1CC(=O)NCc1cccs1', 'Cc1nc(CCNC(=O)c2cccc(C#N)c2)sc1Cc1ccccc1', 'Cc1cccc(Nc2nc(-c3cc4c5c(c3)CC(=O)N5CCC4)cs2)c1', 'Cc1nc(SCc2cn(-c3ccccc3)nc2-c2ccccc2)oc1C', 'O=C(Nc1cccnc1)c1ccc(SN2CCCc3ccccc32)cc1', '[H]/N=C1/C(c2nc(-c3ccccc3)cs2)=C(O)CN1c1cccc(C)c1C', 'C[C@H](NC(=O)Cc1cn2ccsc2n1)c1ccc(-c2ccccc2)cc1', 'Cc1[nH]nc2c1N(C(=O)/C=C/c1ccc3c(c1)CCC3)Cc1sccc1-2', 'CCc1cccc(Nc2nc3ccc(-c4cncc(OC)c4)cc3s2)c1', 'O=C(Cc1cccc2ccccc12)NCCc1[nH]cnc1-c1cccs1', 'Cc1cc(C)c2c(-n3cccc3)c(C(=O)NCc3ccccc3)sc2n1', 'CCc1ccccc1NC(=O)Cn1c(-c2cccs2)nc2ccccc21', 'O=C(NCC#CCN1CCc2ccccc2C1)c1nc2ccccc2s1', 'Cc1cccc(CNC(=O)Cn2c(-c3cccs3)cc3ccccc32)n1', 'OC(CNc1cn(-c2ccccc2)nc1-c1cccs1)c1ccccc1', 'Cc1nc(-c2ccc(CC(=O)N(C)Cc3ccc(C#N)cc3)cc2)cs1', 'CSc1ccc(NC(=O)/C=C/c2cn(CCC#N)c3ccccc23)cc1', '[H]/N=C1/C(c2nc(-c3ccc(C)cc3)cs2)=C(O)CN1Cc1ccccc1', 'C(#CC1CC1)c1ccc(/C(Cn2ccnc2)=N/OCc2cccs2)cc1', 'Cc1cccnc1/C=C/C(=O)Nc1ccc(SCc2cccnc2)cc1', 'Cc1ccc([C@@H](NCc2nc(-c3cccs3)no2)c2ccccc2)cc1', 'N#CC1=C2SCN(Cc3ccccc3)CN2C(=O)CC1c1ccccc1', 'O=C(c1n[nH]c2c1C=CC(c1ccccc1)(c1ccsc1)C2)N1CCC1', 'C[C@H]1c2[nH]c3c(-c4ccccc4)cccc3c2Cc2c(O)n(C)c(=S)n21', 'Cc1ccc(-c2nn(Cc3cccc(C)c3)c(=O)c3nc(C)sc23)cc1', 'Cc1ccc([C@@H](NCc2cc(=O)n3ccsc3n2)c2ccccc2)cc1', 'CCOc1ccc(-c2nc3ncccn3c2-c2ccc(SC)cc2)cc1', 'CCc1cccc2c1N=C/C2=C\\\\c1[nH]c(=S)n(-c2ccccc2C)c1O', 'Cc1cc(C)cc(NC(=O)Cn2c(-c3cccs3)nc3ccccc32)c1', 'CCc1cc(Oc2ccc(C)cc2)nc(SCc2ccccc2C#N)n1', 'Cc1ccc(NC(=O)Cc2csc3nc(-c4ccc(C)cc4)cn23)cc1', 'Cc1cc(N2CCCC2)ccc1C=c1sc2nc3ccccc3n2c1=O', 'Cc1ccsc1-c1c(-c2ccccc2)ncn1CC(O)c1cccnc1', 'Cn1c(CCc2ccccc2)nc2cc(NC(=O)c3cccs3)ccc21', 'Cc1ccc(CO)cc1Cc1nc(-c2ccc(-n3cccn3)cc2)cs1', 'C=C1C=C(Nc2cc(OC)ccc2C)N=c2c(ccn2-c2cccs2)=C1', 'O=C(Cc1csc(-c2ccccc2)n1)NCCn1ccc2ccccc21', 'O=c1c2c(ncn1Cc1ccccc1)CCN(CC#Cc1cccs1)C2', 'Cc1ccc2cc(C#N)c(SCC(=O)NCCc3ccccc3)nc2c1', 'Cc1ccc(-c2nc3s/c(=C\\\\c4ccc(C(C)C)cc4)c(=O)n3n2)cc1', 'CC(CNC(=O)c1sc2ncccc2c1-n1cccc1)c1ccccc1', 'S=C(NCc1ccccc1)N/N=C/c1cccc(Oc2ccccc2)c1', 'CCCc1ccc(/C=C2\\\\C(=O)Nc3nc(C)c(-c4ccncc4)cc32)s1', 'Cn1nc(CNC(=O)Cc2cccc3ccccc23)cc1-c1cccs1', 'Cc1ccc(-c2cn3c(n2)sc2cc(C(=O)N4CCCC4)ccc23)cc1', 'CN(C)c1ccc(NC(=O)N2c3ccccc3Sc3ccccc32)cc1', 'O=c1/c(=C/c2ccc(N3CCCCC3)cc2)sc2nc3ccccc3n12', 'Cc1cccc(-c2nc3ccccc3n2CC(=O)NCc2cccs2)c1', 'N#Cc1ccc(N2CCCCN2C(=O)Cc2cccs2)c2ccccc12', 'Cc1cc(C(=O)NCc2nc3ccccc3s2)c(C)n1-c1ccccc1', 'CCn1c(-c2ccc(C(=O)Nc3ccccc3C)s2)nc2ccccc21', 'Cc1cccc(N2CSC3=C(C#N)[C@@H](c4ccccc4)CC(=O)N3C2)c1', 'Cc1cccn2c(=O)cc(CNC(c3ccccc3)c3cccs3)nc12', 'Cc1ccnc(NC(c2ccc3cccnc3c2O)c2sccc2C)c1', 'CCc1ccccc1Sc1ncnc2[nH]c(-c3ccc(OC)cc3)cc12', 'Cc1ccc2cc3c(N)c(C(=O)Nc4cccc(C)c4C)sc3nc2c1', 'CC(=O)OC1COC(C(C1OC(=O)C)OC(=O)C)C2=C(C3=C(C=C2O)OC(=CC3=O)C4=CC=C(C=C4)OC5C(C(C(C(O5)CO)O)O)O)OC', 'COc1cc2c(OC3OC(CO)C(O)C(O)C3OC3OC(CO)C(O)C(O)C3O)c3c(c(-c4ccc5c(c4)OCO5)c2cc1OC)C(=O)OC3', 'COc1cc2c(O[C@H]3O[C@@H](CO)[C@H](O)[C@@H](O)[C@H]3O[C@@H]3O[C@@H](CO)[C@@H](O)[C@H](O)[C@H]3O)c3c(c(-c4ccc5c(c4)OCO5)c2cc1OC)C(=O)OC3', 'O=C(/C=C/c1ccc(O)c(Oc2ccc(O)c(O[C@@H]3O[C@H](CO)[C@@H](O)[C@H](O)[C@H]3O)c2)c1)OC[C@H]1O[C@@H](Oc2ccc(O)cc2)[C@H](O)[C@@H](O)[C@@H]1O', 'O=C(C=Cc1ccc(O)c(Oc2ccc(O)c(O[C@@H]3O[C@H](CO)[C@@H](O)[C@H](O)[C@H]3O)c2)c1)OC[C@H]1O[C@@H](Oc2ccccc2O)[C@H](O)[C@@H](O)[C@@H]1O', 'O=C(C=Cc1ccc(O)c(Oc2ccc(O)c(OC3OC(CO)C(O)C(O)C3O)c2)c1)OCC1OC(Oc2ccccc2O)C(O)C(O)C1O', 'O=C(/C=C/c1ccc(O)c(Oc2ccc(O)c(O[C@@H]3O[C@H](CO)[C@@H](O)[C@H](O)[C@H]3O)c2)c1)OC[C@H]1O[C@@H](Oc2ccccc2O)[C@H](O)[C@@H](O)[C@@H]1O', 'CC1=C(C(=NO1)C)C2=C(C=C3C(=C2)NC4=C3C(=NC(=N4)C)NC5=CC(=NN5C)C6CC6)OC', 'Cc1ccc(-c2cc(OC(=O)N[C@H](C)c3cnccn3)cc(-n3nnnc3C(C)C)c2)cc1', 'CC(C)NC(=O)C1CCOc2ccc(-c3nccc(Nc4ccc5[nH]ncc5c4)n3)cc2N1', 'C(=N\\\\Nc1cc(N2CCOCC2)nc(OCCc2ccccn2)n1)\\\\c1c[nH]c2ccccc12', 'CN1CC(n2c(NC(=O)c3cccc(C#N)c3)nc3cc(C(=O)N4CCCCC4)cnc32)C1', 'Cc1cc(N(c2cccc(N3CCN(C)CC3)c2)c2ccnc3ccnn23)cc([N+](=O)[O-])c1', 'CCC(=O)Nc1ccc2ncnc(Nc3ccc(OC4=CCN(/N=C/N)C=C4)c(C)c3)c2c1', 'CC(=O)N1CCN(C2CN(c3cnc4ccc(-c5ccc6oc(N)nc6c5)cc4n3)C2)CC1', 'O=C(Cc1ccc(-n2cncn2)cc1)N1C2CCC1CN(CCc1ccc3nonc3c1)C2', 'CCCCc1cnc(C(=O)OC)c(NCc2ccc(-c3ccccc3-c3nn[nH]n3)cc2)n1', 'Cc1cnc(-c2cc(OC3CCOCC3)c3ncnc(NCc4ccc(C)nn4)c3c2)nc1', 'CCOc1ccccc1CNC(=O)c1cccc(NCc2nnc(-c3ccncn3)n2C)c1', 'CNC(=O)c1ccc(C)c(Nc2nc(N3CCOCC3)nc3c2cnn3-c2ccccc2)c1', 'COc1cc(-c2c(C)nn(C)c2C)ccc1-c1nnc(N(C)Cc2ccc3nccn3c2)o1', 'CC(=O)c1cc(-n2c3nc(Nc4ccc5c(c4)CNCC5)ncc3c(=O)n2C(C)C)ccn1', 'COc1ccc(CN2CCN(c3ccc(C4=CC(O)=CN5N=CC(C#N)C45)cn3)CC2)cn1', 'COc1nc2c(C(N)=O)cccc2n1-c1nc(NCc2ccccc2)c2c(n1)N(C)CCC2', 'Cc1cc(-n2cc(CN3C[C@@H](c4ccc5c(c4C)COC5=O)N[C@@H](C)C3)nn2)ncc1C#N', 'Cc1cccc(/C=N/Nc2nc(OCCc3ccccn3)nc(N3CCOCC3)c2C#N)c1', 'Cc1cc(Nc2ncc3c(N)n(-c4c(C)cccc4O)c(=O)nc3n2)cc2c1CCN(C)C2', 'COC1CCN(C(=O)c2ccnc(-c3nnc4ccc(N(C)c5ccccc5)nn34)c2)CC1', 'CCCc1nnnn1-c1cc(OC(=O)NC(C)c2cnccn2)cc(-c2ccc(C)cc2)c1', 'C[C@@H]1CN(c2nc(-c3ccc(NC(=O)Nc4cccnc4)cc3)nn3cccc23)C[C@H](C)O1', 'C=CCOCc1cccc(Cn2nnc3c(-c4ccco4)nc(N(CC=C)CC=C)nc32)n1', 'CNC(=O)c1ccc(N2CCN(CC3=CC4=NC(=O)C(C5CC5)=CC4N=C3)CC2)c(C#N)n1', 'C[C@@H]1CN(c2c(NC(=O)c3ccncc3)nnc3ccc(-c4cnn(C)c4)cc23)C[C@H](C)O1', 'COc1ccc(-c2cnc3ncnn3c2N2CCCN(C(=O)Nc3ccccc3)CC2)cc1', 'CC(=O)N1CCN(c2ccc(C(=O)Nc3cc(-c4nc5ccccc5[nH]4)n(C)n3)cc2)CC1', 'Cc1cc(-c2nnc3c4ccccc4c(OCc4ccc(C(C)(C)N(C)C)cn4)nn23)no1', 'COc1nc(C2=NC(c3cn(C)c4ncc(C5CC5)cc34)CON2)ccc1-n1cnc(C)c1', 'COCCCc1ccc(-c2nc(C3(c4ccc(-c5cnc(N)nc5)nc4)CCC3)no2)cn1', 'CN(c1cc2nc(-c3ccco3)nn2c(N)n1)C(C)(c1cc2ccccc2o1)C1CCCN1', 'CNC(=O)c1ccnc2c([C@H](C)CNc3cc(-c4cnc(COC)nc4)ncn3)cccc12', 'O=C(NCC1CCCCN1Cc1coc(-c2cccc(-c3nn[nH]n3)c2)n1)c1ccccc1', 'CCNc1ncc2c(n1)N1CCC[C@H]1CN(c1cccc(C(=O)Nc3cccnc3)c1)C2=O', 'Cc1nn(C)c(C)c1-c1ccc2c(c1)C(=O)Nc1cccc(n1)-c1nncn1CCCCO2', 'CCCCc1cn(C2CCC2=O)c(=O)n1Cc1ccc(-c2ccccc2-c2nn[nH]n2)cn1', 'COCCn1cc(-c2ccc3c(c2)C(=O)N(c2cccc(-c4nncn4C(C)C)n2)C3)cn1', 'Cc1c(C(=O)N[C@@H]2CN(c3ccc4nccn4n3)CC23CC3)c(=O)n(-c2ccccc2)n1C', 'COc1ccc(-c2nc(Nc3cccc(NC(=O)N4CCCCC4)c3)nc3nc[nH]c23)cc1', 'CC(=O)c1cccc(-n2c3nc(Nc4ccc5c(c4)CCNC5)ncc3c(=O)n2C(C)C)n1', 'COc1cc(Nc2ncc3c(n2)N(C)C(c2ccccc2C)CO3)cnc1-n1cnc(C)c1', 'Cc1cc2c([nH]1)/C=C1\\\\C(=O)Nc3ccc(nc31)-c1c(C3CC3)n[nH]c1CNCCN(C)C2=O', 'C=CC(=O)Nc1cccc(Oc2cnc3[nH]cc(-c4cnn(CCN5CCCC5)c4)c3n2)c1', 'COc1cnc(-c2nn(CC3CC3(C)C)c3ccccc23)nc1Nc1ccncc1C(N)=O', 'CN1CCOc2cc(-c3ccc4[nH]nc(-c5cncc(OC6CCCNC6)n5)c4c3)cnc21', 'Cn1cnc2ncn(Cc3nc(C45CCN(c6cccc(C7CC7)c6)CC4C5)no3)c(=O)c21', 'COc1ccc([C@@H](C)N)cc1-c1nccn2nc(Nc3ccc4c(c3)NC(=O)C4(C)C)nc12', 'Cc1nn(-c2ccc3nnc(C)n3n2)c2c1[C@H](c1ccccc1OC1CCCC1)CC(=O)N2', 'C=CC(=O)Nc1ccccc1Nc1nccc(-c2cc3c([nH]2)C2(CCCCN2)CNC3=O)n1', 'CC(C)C1CN(c2cnc3ccccc3n2)CCN1/C(=N/c1ccc2c(c1)OCO2)NC#N', 'Nc1cc(/N=N/c2ccc(N(CC3=CCCCN3)Cc3ccccn3)cc2)c(O)cc1N=O', 'CCOCc1nc2c(N)nc3ccccc3c2n1CCCNC(=O)Nc1cccc(C#N)c1', 'Cc1cc(C)n(-c2ccc(=O)n(C3CCC(NC(=O)c4cnc5ccccc5n4)CC3)n2)n1', 'Cc1ccc2[nH]cc(Cn3nc4c(c3-c3cncn3C)c(=O)n(C)c(=O)n4CC3CC3)c2c1', 'Cc1cc(Nc2cc(-c3ccccc3)nc(Oc3ccc(NC(=O)CN(C)C)cc3)n2)n[nH]1', 'CC1CN(c2nc(-c3cccc(NC(=O)c4ccc(N)nc4)c3)nc3cc[nH]c23)CC(C)O1', 'NC(=O)c1cc(-c2cc(N3CCOCC3)nc(NCCc3cccnc3)n2)c2cc[nH]c2c1', 'COc1cnc(Nc2ccc(N3CCNCC3)cc2)nc1-n1cc(C(N)=O)c2ccccc21', 'COc1ccc(C(NC(=O)CCc2c(C)nc3c(C#N)cnn3c2C)c2nccn2C)cc1', 'CC/C=C/c1nn(C(=O)CCC)c(=O)n1Cc1ccc(-c2cccc(-c3nn[nH]n3)c2)cc1', 'CCc1ccccc1Nc1nc(N)nc(CN2C(=O)N[C@]3(CCCc4ccccc43)C2=O)n1', '[H]/N=C/C(CNCC(=O)O)c1ccc2c(c1)N(c1ccc(C#N)cc1)C[C@@H](C)c1nnc(C)n1-2', 'Cc1ccc(C(=O)N2CCOC[C@H]2Cc2cccc(-n3nccn3)c2)c(-n2nccn2)c1C', 'C=N/C(=C\\\\C=C(/C)N1CCOCC1)Nc1ccc(-c2cnc3cnccn23)c2c1C(=O)NC2', 'C(=N/Cc1nc(OCCc2ccccn2)nc(N2CCOCC2)n1)\\\\c1c[nH]c2ccccc12', 'COc1cc(OC)cc(N(CC2=NCCN2)c2ccc3ncc(-c4cnn(C)c4)nc3c2)c1', 'Cc1cc(-c2cccn3nc(Nc4ccncn4)cc23)c(OC2CC3COCC(C2)N3)cn1', 'CCOc1ccc(C(=O)N2CCN(c3ncnc4c3nnn4Cc3ccccc3)CC2)cc1', 'Cn1ncc(-c2ncccn2)c1NNc1c(O)c(C(=O)N2CCCCC2)cc2ccccc12', 'CC#CCn1cc(-c2ccc(NC(=O)Nc3cc(C(C)(C)C)on3)cc2)c2c(N)ncnc21', 'CC#CCn1c(N2CCC[C@@H](N)C2)nc2cnn(Cc3ccc4ccccc4[n+]3[O-])c(=O)c21', 'CC1COCCN1C(=O)Cn1cc(-c2cnc(-c3cccc(-c4cnn(C)c4)c3)nc2)cn1', 'COc1ccc(-c2ccc3cnc(Nc4ccc(C(=O)N5CCN(C)CC5)cc4)nn23)cn1', 'Cc1nc(Nc2ccc(N3CCOCC3)cc2)c(C(N)=O)nc1-c1cccc2c1ncn2C', 'O=C1NN=CC1C1=NC=CNC1=Cc1[nH]c(C2CC2)c(CCC(=O)n2ccnc2)c1C1CC1', 'CN(C)c1cccc(C(=O)N2CCC(n3cc(-c4nc(-c5ccccc5)no4)nn3)CC2)c1', 'Cc1ccc(Nc2nc(N)nc(CN3C(=O)N[C@](C)(c4ccc5c(c4)CCC5)C3=O)n2)cc1', 'Cc1nn(-c2ccc3nnc(C)n3n2)c2c1[C@@H](c1ccccc1OC1CCCC1)CC(=O)N2', 'COc1ccccc1C(NC(=O)CCc1c(C)nc2c(C#N)cnn2c1C)c1nccn1C', 'Cc1cccc2cc([C@H](C)Nc3ncnc4nc[nH]c34)nc(C(=O)N3C4CCC3COC4)c12', 'COc1nc(NC2C[C@@H]3CN(C(C)=O)C[C@@H]3C2)nc2[nH]cc(-c3ccc4nccnc4c3)c12', 'Cn1cc(-c2ccc(=O)n(Cc3cccc(-c4ncc(OC(CN)C5CC5)cn4)c3)n2)cn1', 'CCOC(=O)c1cnn(-c2cccc(-c3cccc(NN)c3)c2)c1[C@@H]1C[C@H]1c1cn(C)nn1', 'Cc1ccc(N2CCN(C(=O)c3cn(-c4cc(-c5nc(C)no5)ccn4)cn3)CC2)c(C)c1', 'Cn1nc(-c2ccc(C(=O)NC3CC(O)C3)cc2)nc1Nc1ccc2[nH]ncc2c1C1CC1', 'COc1ccc(-c2nc3c4cccc(C5CC5)c4nc(N[C@H]4CNCCNC4=O)n3n2)cc1', 'CNC(=O)c1cc2n(n1)CC1(CCN(c3cccc(-n4cnc5ccccc54)n3)CC1)OC2', '[H]/N=C/c1c(N)cccc1N(CCOC)c1ccnc(Nc2cccc(-c3ocnc3C)c2)n1', 'Cc1cccc(-c2[nH]ncc2-c2ccc3ncc(C(=O)OCCN4CCNCC4)cc3n2)n1', 'CNc1ncc(-c2ccc3ncc4c(c3c2)n(-c2cn(C)nc2C)c(=O)n4C)cc1COC', 'C[C@@H]1CN(c2cc(C(=O)Nc3ncc4ccc(-c5cnn(C)c5)cc4n3)ccn2)C[C@H](C)O1', 'O=CCN1CCC(c2cc3c(-c4cncc(NCc5cccnc5)n4)ccnc3[nH]2)CC1O', '[H]/N=C(\\\\c1ccc(C(N)=O)cc1)c1c(N)ncnc1NCCN(Cc1ccccc1)C(=O)C=C', 'O=C1c2cccc(OC[C@H]3CCCN3c3ncnc4nc[nH]c34)c2CCC1Cc1cnc[nH]1', 'COc1nc(Nc2nccc(-c3ccccc3C#N)n2)ccc1N1CCN(C2COC2)CC1', 'CC(C)(C)n1cc(CNC(=O)c2cc(C(=O)N[C@H]3CCc4cc(C#N)ccc43)ncn2)cn1', 'COCCc1ncnn1-c1cc(C(=O)NCc2cnc(C)cn2)cc(-c2ccc(C)cn2)c1', 'COc1ncc(-c2cc3cc[nH]c(=O)c3c(Nc3ccc(C4CCN(C)CC4)nc3)n2)cn1', 'O=C(/C=C/c1ccc2c(c1)CCC2N(CCc1c[nH]c2ccccc12)Cc1nn[nH]n1)NO', 'Cc1c(CCN2CCC(=N\\\\c3ccc(-n4cnnn4)cc3)/C(=C\\\\N)C2)ccc2c1COC2=O', 'Cc1ccc(C(=O)N2CCOC[C@H]2Cc2ccc(C)c(-n3nccn3)c2)c(-n2nccn2)c1', 'Cc1cn2c3c(=O)n(CC=Cc4ccccc4)c(=O)n(C)c3nc2n1CCCn1ccnc1', 'O=C(NC1CC1)c1cc(Nc2ncc3cccc(OC4CCNCC4)c3n2)cc2[nH]ncc12', 'COc1ccccc1C(=O)NCc1ccc(-c2nn(C3CCCC3)c3ncnc(N)c23)nc1', 'Cc1ccc2c(c1)c(=O)n(C)c1nnc(CN3CCC(n4c(=O)[nH]c5ccccc54)CC3)n21', 'CCc1nc(-c2cnc(N3CCCC3)[nH]c2=O)ccc1Oc1ccnc(-c2cnn(C)c2)c1', 'COC(=O)C1=NN=C(c2ccc(-c3cccc(-c4cnn(C)c4)c3)nc2NCC2CNC2)C1', 'CN1CCC(ONC(=O)c2ccccc2)CC1c1cc2nc(-c3cn(C)nn3)ccc2cn1', 'CC(C)CCc1nc(-c2nc(N)c3c(n2)NC(=O)[C@@]3(C)c2cccc(O)c2)cn2ccnc12', 'Cc1ccc(-n2nccn2)c(C(=O)N2CCOCC2Cc2cc(-n3nccn3)ccc2C)c1', 'COc1ccncc1C(=O)NCc1ccc(-c2nn(C3CCCC3)c3ncnc(N)c23)cc1', 'NC(=O)c1ccc(-c2nc(NCCN3CCOCC3)c3ncn(-c4ccccc4)c3n2)cc1', '[H]/N=C(\\\\c1ccc(Oc2ccccc2)cn1)c1c(N)ncnc1N[C@@H]1CCCN(C(=O)C=C)C1', 'CCOc1ncc(-c2cc(NC[C@@H](C)c3cccc4c(C(=O)NC)ccnc34)ncn2)cn1', 'C=CCn1c(=O)c2cnc(Nc3ccc(C(C)=O)cc3)nc2n1-c1cccc(CN(C)C)n1', 'CC(Oc1c(N)ncc2c(-c3cnn(C4CCNCC4)c3)coc12)c1nc2ccccc2[nH]1', 'N#CN(CCOCCNC(=O)N(c1ccccc1)c1ccccc1)/C(N)=N/c1ccncc1', 'CCNc1nc(C)cc(Nc2ccc(NC(=O)CCn3cnc4ccccc4c3=O)cc2)n1', 'Cc1cccc(-c2ccn(-c3cc(N4CCOCC4)nc(OCCc4cnccn4)n3)n2)c1', 'Cc1ccnc(NC(=O)c2ccc(Oc3ccnc4[nH]nc(N[C@@H]5CCCNC5)c34)cc2)c1', 'C=CC(=O)N(CC1(Nc2ncnc(N)c2/C(N)=N/c2ccccc2O)CC1)c1ccccc1', 'CNC(=O)c1cc(Nc2ccc3c(c2)c(NC(C)(C)c2ncccn2)cc(=O)n3C)ccn1', 'C=CC(=O)N1CCC[C@H]1C(=O)NCCCc1cc2c(-c3cnn4ncccc34)ccnc2[nH]1', 'O=C(NCC1CCC1)c1nccnc1NC(=O)c1ccc(CN2C=CNN2)c2ccccc12', 'CN(C)CCN(C)C(=O)c1ccc(Nc2nc(-c3ccccc3)nc3cn[nH]c(=O)c23)cc1', 'CC(C)(C)c1cc(NC(=O)Nc2ccc(Oc3ccnc(N)c3)cc2)n(-c2ccncc2)n1', 'CNCc1ccc(-c2nnc(-c3nc(-c4ccc(=O)n(C(C)C#N)c4)cnc3C)o2)c(C)c1.[H][H]', 'Cc1cn2c3c(=O)n(C/C=C/c4ccccc4)c(=O)n(C)c3nc2n1CCCn1ccnc1', 'CCc1nn(-c2ncc(CN3CCN[C@H](c4ccc5c(c4C)COC5=O)C3)cn2)cc1C#N', 'c1ccc2[nH]c(CNc3cc(N4CCN(Cc5ccc6c(c5)OCO6)CC4)ncn3)nc2c1', 'COc1ccc(-n2nnc3c(N4CCN(C(=O)CCc5ccccc5)CC4)ncnc32)cc1', 'Cn1nc(C(=O)N2CCN(CCn3nc(-c4ccncc4)ccc3=O)CC2)c2ccccc21', 'CNc1ncc(-c2cc3ccn(C)c(=O)c3c(Nc3ccc(N4CCOCC4)cc3)n2)cn1', 'Cc1ccc(-n2nccn2)c(C(=O)N2CCCN(c3nc4cccc(C)c4c(=O)[nH]3)CC2)c1', 'Nc1nc(NCC2COc3ccccc32)nc(-c2ccc3cnn(C4CCCCO4)c3c2)n1', 'C[C@H](O)CCc1ccc(-c2nc(C3(c4ccc(-c5cnc(N)nc5)nc4)CCC3)no2)cn1', 'Cn1cc(-c2cccc(-c3ncc(-c4cnn(CC(=O)N5CCCC5CO)c4)cn3)c2)cn1', 'CC(C)CNC(=O)c1cnc(-c2cccc(Cc3nn(-c4cnn(C)c4)ccc3=O)c2)nc1', 'Cc1nn(-c2ccccc2)c(C)c1C1C(=O)NCCN1C(=O)c1cnc2c(c1)c(C)nn2C', 'COc1ccc(NC(=O)c2cccc(-c3nn([C@@H]4CCCNC4)c4ncnc(N)c34)c2)cc1', 'COc1ncc2ncnc(Nc3cc(NC(=O)c4cccc(C(C)(C)N)c4)ccc3C)c2n1', 'C[C@H]1Cc2c(ncnc2Oc2ccc3[nH]c(C(=O)Nc4cc(C5(C)CC5)[nH]n4)cc3c2)CN1', 'COc1ccc(Cn2nnnc2-c2ccc(=O)n(-c3ccc(NC4CCCC4)nc3)c2)cc1', 'C[C@@H](NC(=O)N1CC(CC#N)(n2cc(C(N)=O)c(Nc3ccccc3)n2)C1)c1ccccc1', 'Cc1nc(-n2cnc(CN3C[C@@H](c4ccc5c(c4C)COC5=O)N[C@@H](C)C3)c2)ncc1C#N', 'COc1cccc(C(CNc2nc(N)c3cnn(C)c3n2)c2c[nH]c3ccccc23)c1OC', 'COc1cc(NC(=O)N(c2nc(-c3ccccc3C#N)ccc2N)C2CCCCC2)ncn1', '[H]/N=C/c1c(N)cccc1N(CCCO)c1ccnc(Nc2cccc(-c3ocnc3C)c2)n1', 'CCn1c(=O)c2cnc(Nc3cc(C)c4cc[nH]c4c3)nc2n1-c1cccc(C(C)(C)O)n1', 'Cc1ccc(-c2ccc(-n3nnnc3C(C)C)c(C(=O)NCc3ccn(C)c(=O)c3)c2)nc1', 'CCCn1cc(-c2cnc3ccc(NC(=O)NCCCC(=O)c4ccccc4)nc3n2)cn1', 'Cc1nc2cc(CC[C@H]3C[C@@H](n4ccc5c(N)ncnc54)[C@H](O)[C@@H]3O)ccc2c2nccn12', 'N[C@@H]1c2ccccc2OC12CCN(c1nc3n[nH]c(C4=CCOCC4)c3c3nccn13)CC2', 'COc1ccncc1-c1cc2c(C(=O)Nc3ccc(N4CCN(C)CC4)cc3)n[nH]c2cn1', 'Cc1ccc(-n2nccn2)c(C(=O)N2CCCC[C@H]2Cn2cc(-c3cccc(=O)[nH]3)cn2)c1', 'Cc1cc(-c2ccn3nc(Nc4cc(C)nc(C)n4)cc3c2)c(O[C@@H]2[C@@H]3CO[C@H]2CN3)cn1', 'CN1CCC(ONC(=O)c2ccncc2)CC1c1ncc2ccc(-c3cnn(C)c3)cc2n1', 'Cc1ccc(C(=O)N2CCN(C)CC2)cc1Oc1nc(-c2cccnc2)nc2c1cnn2C', 'NCc1ccc(CNc2ccc(-c3nc4c([nH]3)c(=O)n(C3CC3)c(=O)n4C3CC3)cn2)cc1', 'CCOc1ccc(CN(C(=O)c2ccc3nc(N)c(C)cc3c2)[C@H](C)c2ncccn2)nn1', 'COc1cc(-c2nc(C3CCCN3)n3ccnc(N)c23)ccc1C(=O)Nc1ccc(C)cn1', 'N#Cc1cc(-c2ccnc(Nc3ccc(N4CCOCC4)cc3)n2)cnc1N1CCC(O)C1', 'Cn1cc(-c2ccc(=O)n(Cc3cccc(-c4ncc(OC5CCNCC5)cn4)c3)n2)cn1', 'Cc1cc(=O)n(CC(=O)N2CCN(c3ncccn3)CC2)c2c1c(C)nn2-c1ccccc1', 'COc1ccccc1CNC(=O)c1nc(-c2cc(C)nc(C)c2)c(-n2ccc(C)n2)nc1N', 'COc1ccc(-c2ccc(-c3cnn4c(N)c(C(C)=O)c(C5CCNCC5)nc34)cn2)cn1', 'NC(=O)c1nc(Nc2cnn(Cc3ccccc3)c2)oc1-c1ccc(N2CCNCC2)cc1', 'Cn1c(NCc2ccc(C(=O)N/C(N)=N/N)cc2)nc2cc(OCc3ccccc3)ccc21', 'CCCc1cc(Nc2cccc(C(=O)N3CCOCC3)c2)n2nc(-c3cccnc3)nc2n1', 'COC(C)c1nnnn1-c1cc(C(=O)NC(C)c2ccncn2)cc(-c2ccc(C)cc2)c1', 'C(=N\\\\Nc1c[nH]c2ccccc12)\\\\c1cc(N2CCOCC2)nc(OCCc2ccccn2)n1', 'Nc1ncc(-c2cc3cc[nH]c(=O)c3c(Nc3cccc(OCCN4CCCC4)c3)n2)cn1', 'COc1ccc(-c2cnc3nc(N)nc(N4CCN(c5ccccc5)CC4)c3n2)cc1OC', 'c1ccc(CCOc2nc(C/N=N/c3c[nH]c4ccccc34)cc(N3CCOCC3)n2)nc1', 'CN(C)c1nc(CNC(=O)c2ccc3noc(-c4ccccc4)c3c2)nc(N2CCCC2)n1', 'Cc1cnc2ccc(NC(=O)CCNCCC(=O)Nc3ccc4ncc(C)cc4n3)nc2c1', 'Cc1ccc(Nc2cc(C)nc(NCCNC(=O)Cn3cnc4ccccc4c3=O)n2)cc1', 'CNc1cc(Nc2cccn(-c3cccc(C)n3)c2=O)nc2c(C(=O)CC3CCC3)cnn12', 'CC1(C)O[C@@H]2[C@H](O1)C(CCc1ccc3ncc(N)nc3c1)=C[C@H]2n1ccc2c(N)ncnc21', 'CNC(=O)c1ccc(Nc2cc(-c3ccc4ncn(C)c4c3)nc(N3CCOCC3)n2)cc1', 'CN1CCN(C(=O)C2CN(c3cnc4ccc(-c5ccc6oc(N)nc6c5)cc4n3)C2)CC1', 'Cc1cc(-n2cc(CN3C[C@@H](c4ccc5c(c4C)COC5=O)N[C@@H](N)C3)cn2)ncc1C#N', 'O=C(c1cc(-c2cccnc2)n[nH]1)N1CCCC(c2cc3nc4c(c(=O)n3[nH]2)CCCC4)C1', 'Cn1cc(-n2ccc(=O)c(Cc3cccc(-c4ncc(N5CCC(O)CC5)cn4)c3)n2)cn1', 'CN(C)c1ccc(-c2cnc3[nH]cc(C(=O)NC(C(=O)N4CC(C#N)C4)C4CC4)c3n2)cc1', 'CCC1=CC2N=CC(CN3CCN(c4ccc(C(=O)NC)nc4C#N)[C@H]4C[C@H]43)=CC2=NC1=O', 'Cn1c(=O)cc(N2CCC(/C(=N/OCC3CC3)c3cnccn3)CC2)c2nc(C#N)ccc21', 'Cc1c(-c2ccnc(N3CCCCC3)n2)cnc2nc(-c3ccc4c(c3)OCCCO4)nn12', 'O=C(O)CC(c1cnc2nccnc2c1)n1ccc(CCCc2ccc3c(n2)NCCC3)n1', 'COc1nc(-c2cc3cc[nH]c(=O)c3c(Nc3ccc(C4CCNCC4)cc3)n2)cnc1N', 'Cn1cc(C[C@H]2C[C@@H]2C(=O)Nc2cc3cc(-c4cnccc4CCO)nc(N)c3cn2)cn1', 'CN(C)C(=O)Nc1cc(CNc2ccccc2C(=O)Nc2ccc3ncn(C)c3c2)ccn1', 'Cc1nn(-c2ccnc(Nc3ccc4c(ccn4C(=O)C4CC4)c3)n2)cc1CN1CC(O)C1', 'Cc1c(C#N)cccc1C1CN2CCN(C(=O)Cc3ccc(-n4cnnn4)cc3)CC2CO1', 'CCc1nn(-c2ncc(CN3CCNC(c4ccc5c(c4C)COC5=O)C3)cn2)cc1C#N', '[H]/N=C(\\\\O/C(=N/[H])c1ccccc1)c1nc(-c2ccc(C(=O)N3CCNC(C)C3)cc2)cnc1N', 'Cc1onc(C(=O)N2CC[C@@H](C)[C@@H](n3ccc4cnc5[nH]ccc5c43)C2)c1Cn1cccn1', 'Cc1cc(NC(=O)/C=C\\\\c2ccccc2)n(C2NC(=O)C3CNN(c4ccccc4)C3N2)n1', 'Cc1cc(N(C)C)nc(Nc2ccc(NC(=O)CCn3cnc4ccccc4c3=O)cc2)n1', 'Cc1nn(C)c(C)c1-c1cc(C(=O)c2nc3ccc(C(=O)N4CCNCC4)cc3[nH]2)ccn1', 'c1ccc(CCOc2nc(/N=N/Cc3c[nH]c4ccccc34)nc(N3CCOCC3)n2)cc1', 'CC(C)(C)OC(=O)NCCCC#Cc1cnc(Nc2ccc(C#N)cc2)nc1-n1cccn1', 'CCCCN(Cc1ccc(-c2ccccc2-c2nn[nH]n2)cc1)c1nc(C)ncc1C(=O)O', 'CC(C)n1cnc2cc(N3CCN(C(=O)c4cnn(-c5ccccc5)n4)CC3)ccc2c1=O', 'CNC(=O)c1ccc(Nc2cc(-c3ccc4cnn(C)c4c3)nc(N3CCOCC3)n2)cc1', 'C[C@]1(CCc2ccc3cc(C#N)c(N)nc3c2)C[C@@H](n2ccc3c(N)ncnc32)[C@H](O)[C@@H]1O', 'Cn1cc(-c2cccc(-c3ncc(-c4cnn(CC5CCN(C(=O)O)CC5)c4)cn3)c2)cn1', 'C=CC(=O)Nc1ccccc1Nc1nccc(-c2cc3c([nH]2)C2(CCCNC2)CNC3=O)n1', 'C(=NNc1nc(OCCc2ccccc2)nc(N2CCOCC2)n1)c1c[nH]c2ccccc12', 'CCN(CC)c1ccc(/N=C2/C(C(O)C#CO)=Nn3c2nc(-c2cnccn2)c3C)c(C)c1', '[H]/N=c1\\\\c(C(=O)N2CCN(CC)CC2)cc2c(=O)n3ccccc3nc2n1Cc1cccnc1', 'Cc1cc2c([nH]1)/C=C1\\\\C(=O)Nc3cnc(cc31)-c1c(C3CC3)n[nH]c1CNCCN(C)C2=O', 'COc1cc2c(cc1-c1c(C)noc1C)[nH]c1nc(C)nc(Nc3c(C)cnn3C3CC3)c12', 'Cc1ccc(-c2cc(C(=O)NCc3ccn(C)c(=O)c3)cc(-n3nnnc3C(C)C)c2)nc1', 'CC(=O)N1N/C(=N/c2nnc(Cc3c[nH]c4ccccc34)o2)CC1c1ccc(N(C)C)cc1', 'Cc1cc(-n2cc(CN3CCNC(c4ccc5c(c4C)COC5=O)C3)nn2)nc(C)c1C#N', 'Cc1cccc(-c2[nH]ncc2-c2ccc3nccc(N(C)CC(=O)N4CCOCC4)c3n2)n1', 'Cc1cc(Nc2cnn(CC(=O)N3CC(C)OC(C)C3)c2)n2c(nc3ccccc32)c1C#N', 'COc1ccc(CN(C)c2cc3nc4c(cnn24)NC(=O)NCCc2cccc(c2)N3)cc1', 'CC#CCn1c(N2CCNCC2)nc2c(=O)n(C)n(Cc3ccc4ccccc4n3)c(=O)c21', 'O=C(NCc1ccc(Cn2ccccc2=O)cc1)C1CCN(c2ccc3nncn3n2)CC1', 'Cc1nn(-c2ncc(CN3C[C@@H](c4ccc5c(c4C)COC5=O)N[C@@H](C)C3)cn2)cc1C#N', 'C=N/C(C)=C(/C(=C)N)C(=O)N[C@@H](C)c1nc2cccc(C#Cc3cnn(C)c3)c2c(=O)n1C', 'Cc1[nH]nc2ncc(C(=O)N3CCCC3C3CCN(C(=O)c4cc5cccnc5[nH]4)C3)cc12', 'Cc1cc(-n2ncc3cc(NC(=O)N[C@H]4CN(C)C[C@@H]4Oc4ccccc4)ncc32)ccn1', 'Cc1cccc(-c2[nH]ncc2-c2ccc3ncc(C(=O)NCCN4CCOCC4)cc3n2)n1', '[C-]#[N+]c1cc(C#N)c2nc(N3CCC(N[C@@H]4CCCOC4)CC3)c(-c3nc(C)no3)cc2c1', 'C#C[C@H]1CC2(CCN(c3nc4cnn(-c5ccc6c(c5)ncn6C)c4nc3CO)CC2)CO1', '[H]/N=C(\\\\O/C(=N/[H])c1ccccc1)c1nc(-c2ccc(C(=O)N3CCCNCC3)cc2)cnc1N', 'Cc1c(O)ccc(Nc2nc(NCCc3ccncc3)ncc2-c2nnc(C3CC3)o2)c1C', 'CC(=O)c1cccc(-n2c3nc(Nc4ccc5c(c4)CNCC5)ncc3c(=O)n2C(C)C)n1', 'COCc1ccc(NC(=O)C2c3c(N)ncnc3N(C3(C)CC3)C2C#Cc2ccn[nH]2)cc1', 'CNN(C)C(=O)c1ccc(-c2cc(N3CCOCC3)nc3c(-c4ccn[nH]4)nccc23)cc1', 'COc1ccc([C@H](C)NC(=O)c2cccc(NCc3nnc(-c4ccncn4)n3C)c2)cc1', 'CCC(=O)c1cccc(-n2c3nc(Nc4ccc5c(c4)CNCC5)ncc3c(=O)n2CC)n1', 'COc1ccc([C@H](C)N)cc1-c1nccn2nc(Nc3ccc4c(c3)NC(=O)C4(C)C)nc12', 'Cc1ccc(-c2cc(OC(=O)NCc3cnc(C)cn3)cc(-n3nnnc3C(C)C)c2)cc1', 'Cc1ccnc(NC(=O)c2ccc(-c3nc([C@H]4CNC[C@@H](O)C4)n4ccnc(N)c34)cc2)c1', 'COCCNc1cc(-c2nc(C3(c4ccc(-c5cnc(N)nc5)cc4)CCC3)no2)ccn1', 'CC(=O)Nc1cccc(Nc2nc(Nc3ccc(N4CCOCC4)cc3)nc3[nH]ccc23)c1', 'COc1ccc(CCN(Cn2nnc3ccccc32)Cn2nnc3ccccc32)cc1OC', 'CN1CCC(ONC(=O)c2ccccc2)CC1c1cc2cc(-c3cn(C)nn3)ncc2cn1', 'CN1CCc2c(ncnc2Oc2ccc3c(ccn3C(=O)Nc3cc(C4(C)CC4)[nH]n3)c2)C1', 'Cn1nc(NC(=O)c2ccc(N3CCC4(CC3)COC4)nc2)cc1-c1nc2ccccc2[nH]1', 'Cc1cc(-n2nc3c(-c4ccc(N5CCN(C)CC5)cc4)n[nH]c3cc2=O)ccc1C(N)=O', 'Cc1cc(CNC(=O)c2nnn(-c3cccc4c3CCN(Cc3cccnc3)C4)c2C)on1', 'O=C1CCC(OCc2cn(Cc3ccccc3)nn2)N1Cc1cn(Cc2ccccc2)nn1', 'Nc1nn2cc(-c3ccc(C(=O)N4CCC(CCO)CC4)cn3)cnc2c1-c1ccccn1', 'N#Cc1cccc2c1CCOC2CN1CCN(C(=O)Cc2ccc(-n3cnnn3)cc2)CC1', 'CC/C=N/c1ccc(-c2cc(=O)n3[nH]c(NC(=O)CC)c(-c4ccccn4)c3n2)cc1NC', 'CC(CO)NC(=O)c1cc2c([nH]1)C(C)C(c1nccc(Nc3ccc4[nH]ncc4c3)n1)C=C2', 'COc1cc(-c2cnc3nc(N)nc(N4CCN(c5ccc(C)cc5)CC4)c3n2)ccc1O', 'C=CCn1c(=O)c2cnc(Nc3ccc4c(c3)CNCC4)nc2n1-c1cccc(C(C)O)n1', 'CN(C(=O)n1cnc(-c2cccc(-c3nnn(Cc4ccccc4)n3)c2)c1)C1CCOCC1', 'Cc1ccc(-n2nnc3c(N4CCN(C(=O)[C@H](C)Oc5ccccc5)CC4)ncnc32)cc1', 'CC(C)C(C(=O)OCC(C(C(C(COC(=O)C(C(C)C)NC=O)O)O)O)O)NC=O', 'CCOC(=O)C=[N+]=[N-].CCOC(=O)COCCCC(=O)OC.COC(=O)CCCO', 'CC(C)C[C@H](CNC(=O)OC(C)OC(=O)C(C)(C)COCCO[N+](=O)[O-])CC(=O)O', 'CCOC(=O)CC1(CN)COC1.CCOC(=O)CC1(CN)COC1.O=C(O)C(=O)O', 'CO[C@H]1C(CO)O[C@H](O[C@@H]2C(CO)O[C@@H](C)[C@@H](NC(C)=O)C2O)[C@H](NC(C)=O)C1O', 'CCC1OC(CO)C(OC2OC(CO)C(O)C(O)C2NC(C)=O)C(O)C1NC(C)=O', 'CC[C@@H](C)[C@@H](N)C(=O)OC[C@@H](O)CC1OC(O)(C(=O)O)CC(O)C1C(O)NC(C)=O', 'CC(OC(=O)NCC1(CC(=O)O)CCCCC1)OC(=O)C(C)(C)OCCON(O)O', 'CC(=O)OC1OC(CO)C(COCC2OC(CO)C(C(C)=O)C(O)C2N)C(O)C1N', 'CO[C@@H]1C(CO)O[C@H](O[C@@H]2C(CO)O[C@@H](C)C(NC(C)=O)[C@H]2O)C(NC(C)=O)[C@H]1O', 'COC(=O)COCCCOCC(=O)NN[C@@H](C[C@H](C)OC=O)O[C@@H](C)COC(C)=O', 'C[C@@H]1O[C@@H](CCNC(=O)[C@@H](NC(=O)CCCC(=O)O)[C@@H](O)CCO)[C@@H](O)[C@H](O)[C@@H]1O', 'CO[C@@H]1C(C(=O)N(C)C)O[C@@H](O[C@@H]2C(NC(C)=O)[C@H](C)OC(CO)[C@H]2O)C(O)[C@H]1O', 'CO[C@@H]1C(CO)O[C@@H](O[C@@H]2C(CO)O[C@@H](C)C(NC(C)=O)C2O)C(NC(C)=O)C1O', 'CC.CNC(=O)C(CC(OC(C)=O)C(OC(C)=O)C(=O)NC)OC(C)=O.COC=O', 'CC(=O)NC1C(OCCOCCN)OC(COC(C)=O)C(OC(C)O)C1OC(C)=O', 'O=C(O)CCC(NCCCCCCCCCCNC(OOC(=O)O)C(=O)O)C(=O)O', 'CC(C(=O)NCCOCCOCCC(=O)O)C(=O)NCCOCCOCCC(=O)O', 'CCCCCCCC(=O)O.O=C(O)CN(CCN(CC(=O)O)CC(=O)O)CC(=O)O', 'CC(C)C(NC(=O)[C@@H](O)[C@H](O)C(=O)NC(OCCC(=O)O)C(C)C)OCCC(=O)O', 'CCCC(C)(COC(=O)NC(C)C)COC(=O)N[C@@H]1O[C@H](C(=O)O)[C@@H](O)C(O)C1O', 'COCCCC(=O)NC[C@@H](O)[C@@H](O)C1O[C@](OC)(C(=O)OC)C[C@@H](O)[C@H]1NC(C)=O', 'CO[C@@H]1C(CO)O[C@@H](O[C@H]2C(O)C(NC(C)=O)C(C)O[C@H]2CO)C(NC(C)=O)[C@H]1O', 'CO[C@@H]1C(CO)O[C@H](O[C@@H]2C(CO)O[C@@H](C)C(NC(C)=O)[C@H]2O)[C@@H](NC(C)=O)C1O', 'C[C@H](O)[C@H](OCCO)C(O)(OCCO)c1cnc(C[C@H](O)[C@H](CO)OCCO)cn1', 'CC(=O)OCC1OC(OCCOCCOCCN)C(N)C(OC(C)=O)C1OC(C)=O', 'COC(=O)CN(CCOCCOCCN(CC(=O)OC)CC(=O)OC)CC(=O)OC', 'CC(C)(C)OC(=O)NC[C@H]1O[C@@H]([C@@H](NC(=O)OC(C)(C)C)C(=O)O)[C@H](O)[C@@H](O)[C@@H]1O', 'CC(C)(C)OC(=O)NCC1O[C@@H]([C@@H](NC(=O)OC(C)(C)C)C(=O)O)[C@@H](O)[C@@H](O)[C@H]1O', 'CC(C)(CO)[C@@H](O)C(=O)NCC(C(=O)O)C(CNC(=O)[C@H](O)C(C)(C)CO)C(=O)O', 'CC[C@@H](C)[C@H](N)C(=O)OC[C@@H](O)C[C@@H]1O[C@](O)(C(=O)O)C[C@H](O)[C@@H]1[C@H](O)NC(C)=O', 'CC(CC(C)(C)OC(=O)CCC(=O)OONCCO)OC(=O)CCC(=O)NCCO', 'COC(=O)CC[C@H](NC(=O)COCCOCCONC(=O)OC(C)(C)C)C(=O)OC', 'C=C(C)C(=O)O.C=C(C)C(=O)O.C=C(C)C(=O)O.CCOC(N)=O.CCOC(N)=O', 'COC(=O)CCCC(=O)NCCOCCOCC(=O)NCCOCCOCC(=O)O', 'COCCOCCOC(=O)CC(=O)NCCNC(=O)CC(=O)OCCOCCOC', 'CO[C@@H]1C(CO)O[C@@H](O[C@H]2C(O)C(NC(C)=O)[C@H](C)O[C@H]2CO)C(NC(C)=O)[C@H]1O', 'CC(C)(CO)[C@@H](O)C(=O)N/C=C/C(=O)O.CC(C)(CO)[C@@H](O)C(=O)NCCC(=O)O', 'CO[C@@H]1C(CO)O[C@@H](O[C@@H]2C(CO)OC(C)C(NC(C)=O)C2O)C(NC(C)=O)[C@H]1O', 'CC(C)(C)OC(=O)NCC1O[C@@H]([C@@H](NC(=O)OC(C)(C)C)C(=O)O)C(O)[C@@H](O)[C@@H]1O', 'CC(=O)N[C@@H](O)[C@@H]1[C@H](C[C@H](O)COC(=O)[C@@H](N)CC(C)C)O[C@](O)(C(=O)O)C[C@@H]1O', 'COC1C(C(=O)N(C)C)OC(OC2C(O)C(CO)OC(C)C2NC(C)=O)C(O)C1O', 'OCCO[C@@H](CO)[C@@H](O)[C@@H](OCCO)c1cnc(C[C@H](O)[C@H](CO)OCCO)cn1', 'CO[C@H]1C(O)C(NC(C)=O)C(OC2C(CO)OC(C)[C@@H](NC(C)=O)[C@H]2O)O[C@H]1CO', 'CO[C@@H]1C(CO)O[C@@H](O[C@@H]2C(CO)O[C@@H](C)C(NC(C)=O)[C@H]2O)C(NC(C)=O)[C@H]1O', 'CO[C@@H]1OC(CO)[C@@H](OC)[C@H](O)C1NCC(=O)CC(N)C(=O)CC(C(=O)O)C(C)O', 'CCOC(=O)C1(O)CC(O)C(NC(C)=O)C(C(O)C(O)COC(=O)C(N)C(C)C)O1', 'CC(C)(C)OC(=O)NCC1O[C@H]([C@@H](NC(=O)OC(C)(C)C)C(=O)O)C(O)[C@@H](O)[C@H]1O', 'C[C@H](O)[C@@H](OCCO)C(O)(OCCO)c1cnc(C[C@H](O)[C@@H](CO)OCCO)cn1', 'CO[C@@H]1C(C(=O)N(C)C)O[C@@H](OC2[C@H](O)C(CO)O[C@@H](C)[C@H]2NC(C)=O)[C@@H](O)C1O', 'N[C@@H](CCC(=O)CCCOCCOCC(=O)NCCOCCOCC(=O)O)C(=O)O', 'CC(OC(=O)CCOC[C@H](C)ON(O)O)OC(=O)NCC1(CC(=O)O)CCCCC1', 'CC(=O)N[C@@H]1[C@@H](O)[C@H](O)[C@@H](CO)C[C@H]1O[C@H]1[C@H](O)[C@@H](N(C)C(C)=O)[C@H](O)O[C@@H]1CO', 'CO[C@H]1C(CO)O[C@@H](O[C@H]2C(O)C(NC(C)=O)C(C)O[C@@H]2CO)C(NC(C)=O)[C@H]1O', 'OCCO[C@H](c1cnc(C[C@H](O)[C@@H](CO)OCCO)cn1)[C@H](O)[C@@H](CO)OCCO', 'CO[C@H]1C(CO)O[C@@H](O[C@@H]2C(CO)OC(C)C(NC(C)=O)C2O)C(NC(C)=O)[C@H]1O', 'CN1CC(C(=O)O)CC1=O.CN1CC(C(=O)O)CC1=O.OCCOCCOCCO', 'COCCCC(=O)NC[C@@H](O)[C@@H](O)C1O[C@](OC)(C(=O)OC)C[C@H](O)[C@H]1NC(C)=O', 'CC(C)(C)OC(=O)NC(CO)C(=O)OCCOC(=O)C(CO)NC(=O)OC(C)(C)C', 'CC(=O)NC1C(C)OC(CO)C(O)C1OC1OC(C(=O)NC(C)C)C(O)C(O)C1O', 'COC1C(CO)OC(OC2C(CO)OC(C)C(NC(C)=O)C2O)C(NC(C)=O)C1O', 'CC(OC(=O)CCOC[C@@H](C)ON(O)O)OC(=O)NCC1(CC(=O)O)CCCCC1', 'CC(=O)OCC1OC(OCCOCCN)C(NC(C)O)C(OC(C)=O)C1OC(C)=O', 'C[C@@H]1O[C@@H](CCCNC(=O)[C@@H](NC(=O)CCCC(=O)O)[C@@H](O)CO)[C@@H](O)[C@H](O)[C@@H]1O', 'CCCOC(=O)NCCOCCOCC(=O)OCCN(CCOC(C)=O)CC(=O)O', 'CCOC(=O)CN(CC(=O)NCCO[C@@H]1O[C@@H](C)[C@H](O)[C@@H](O)[C@H]1O)CC(=O)OCC', 'CO[C@@H]1C(CO)O[C@@H](O[C@@H]2C(CO)O[C@@H](C)C(NC(C)=O)C2O)C(NC(C)=O)[C@H]1O', 'CCOC(=O)[C@]1(O)C[C@H](O)[C@@H](NC(C)=O)[C@H]([C@H](O)[C@H](O)COC(=O)[C@H](N)C(C)C)O1', 'CO[C@@H]1O[C@H](CO)[C@@H](O[C@@H]2C[C@H](CO)[C@@H](O)[C@H](O)[C@H]2NC(C)=O)[C@H](O)[C@H]1NC(C)=O', 'CC1CCC2(C(C1(C)CCC(C)CC(=O)O)CC(=O)C=C2COC(=O)C)C', 'CC(COCC(=O)O)C1=CC2C[C@@H](O)[C@H](/C=C/C(O)C3CCCCC3)C2C1', 'C[C@H]1CC2C(C(O)C[C@@]3(C)C2CC[C@]3(O)C(=O)CO)[C@@]2(C)CCC(=O)CC12', 'C#CCCCCCC(O)C=C[C@H]1[C@@H]2CC(CCOCC(=O)O)C[C@H]2C[C@H]1O', 'COC1=C(C)C(=O)OC1(C/C=C(\\\\C)CC/C=C(\\\\C)CCC1OC1(C)C)OC', 'CCCCC(C)CC(O)/C=C/C1C=CC(=O)C1C(O)CCC/C=C/C(=O)O', 'CCCCC[C@H]1/C=C/[C@@H]2[C@@H](C/C=C\\\\CCCC(=O)O1)[C@@H](O)C[C@H]2OC(C)=O', 'CC(=CC=CC(C)=C[C@H](O)[C@@H](O)C[C@H](C)O)C=C(C)C=CC(=O)OC(C)C', 'C#CC(O)(CC=C[C@H]1[C@@H](O)CC(=O)[C@@H]1CCCCCCC(=O)O)CCCC', 'CC(C)(C)OC(=O)C(C)(C)[C@H](O)/C=C/C[C@@H](O)CCOCc1ccccc1', 'CC/C=C/CC(O)C(O)/C=C/C=C/C=C/C/C=C(/O)CCCCCC(=O)O', 'CCCCCCCCCCOC(=O)COCC(=O)OCCc1ccccc1', 'CC(C)(C)Oc1ccc(CCCCCC(=O)O)c(CCCCCC(=O)O)c1', 'CCCCOCC1OC=CC(OCc2ccc(OC)cc2)[C@H]1OCCCC', 'CC(=O)OC1C(C(C)C)C(OC(=O)C=C(C)C)CC(C)=CCCC2(C)OC12', 'CC(C)=CCCC(C)(O)/C=C/[C@H]1[C@H](O)CC(=O)[C@@H]1C/C=C\\\\CCCC(=O)O', 'CCCCOC1[C@@H](OCCCC)C(C)(O)CC(=O)[C@@H]1OCc1ccccc1', 'CCCCCCCOc1ccc(C2(O)CCC(OC(=O)OCC)CC2)cc1', 'COCO[C@H]1C[C@@H](C)[C@@](C)(CCC(C)=O)C2=C1[C@@H](/C=C(\\\\C)CCC=O)OC2', 'CCOC(C)OC[C@@H]1O[C@H]1CC[C@H]1O[C@@H]1CCC(Cc1ccccc1)OC', 'CC(O)CCCCC(O)C#C[C@@H]1[C@@H]2CC(=CCCCC(=O)O)C[C@@H]2C[C@H]1O', 'CC=C(C)C(=O)OC1CC2(C)C(OC(C)=O)C(C)(C)C3CCC(C)C1C32O', 'CC(=O)O[C@@H]1CC2C[C@@H](O)[C@H]3[C@](C)(C(=O)O)CCC[C@]3(C)[C@]23CC[C@]1(C)C3', 'CC(=O)O.C[C@H]1CC(=O)C[C@@H]2CC[C@@H]3[C@H](CC[C@]4(C)C(=O)CC[C@@H]34)[C@]21CO', 'COc1cccc(OC)c1C(=O)C(CC(C)CC(C)(C)C)C(=O)OC(C)C', 'COC(=O)/C=C1\\\\CC[C@@]2(O1)[C@H](C)CC[C@H]1C(C)(C)[C@@H](OC(C)=O)CC[C@@]12C', 'CC/C=C\\\\C/C=C\\\\C[C@H]1[C@H](/C=C/[C@H](O)C/C=C\\\\CCC(=O)O)[C@@H](O)C[C@H]1O', 'CCCCCC(O)C(O)/C=C/C=C/C=C/C=C/C(O)C/C=C/CCC(=O)O', 'C=CCCCCC(=O)O[C@@H]1C[C@](C)(C(=O)CCC=C)C[C@H]2OC(C)(C)O[C@@H]12', 'C/C=C(\\\\C)[C@H](O)[C@H](C)/C=C/C=C(\\\\C)CC[C@@H](O)CC1=C(C)C(=O)[C@@](C)(O)O1', 'CCCCC[C@H](/C=C/[C@H]1C=CC(=O)[C@H]1CCCCCCC(=O)O)OC(C)=O', 'COC(=O)CCCC(C)(C)c1cccc(C(C)(C)CCCC(=O)OC)c1O', 'C=CC(=O)OCCCCCCOC(=C)/C=C\\\\C(=C)OC(=O)C(C)CCCC', 'CC(=O)OC1CC(C)C(O)(CCC2=CC(=O)OC2)C2(C)CCCC(C)(C)C12', 'CC(=O)CCC1C2CC[C@@]3(C)[C@@H](CCC34OCCO4)C2CCC12OCCO2', 'CCC(C)(C)C(=O)OCCCC(=O)C12CC3CC(CC(CC(=O)O)(C3)C1)C2', 'C=C[C@H](C)[C@H](CC[C@@H](C)C(O)CC(=O)OCC)OCc1ccc(OC)cc1', 'CC(=O)O[C@@H]1CC[C@]2(C)[C@@H](C[C@H](O)[C@]34C=C(CO)[C@H](CC[C@@H]23)C4)[C@@]1(C)CO', 'CC/C=C\\\\C/C=C\\\\C/C=C\\\\C[C@@H]1[C@@H](/C=C/[C@H](O)CCC(=O)O)[C@H](O)C[C@@H]1O', 'CC/C=C\\\\CC(O)C(O)/C=C/C=C\\\\C=C/C=C/C(O)CCCCCC(=O)O', 'CC.CC.COc1c(C)c2c(c(O)c1C/C=C(\\\\C)CCC(C)=O)C(=O)OC2', 'CC(=O)OC1C(=O)C(C)=C(CCC(C)CC(=O)O)C2(C)CCCC(C)(C)C12', 'COC12CCC(O)C(/C=C/C(O)C3CCCCC3)C1CC2=CCCC(=O)O', 'CC(C)(C)CCCCc1c(O)cc(O)c(O)c1CCCCC1(C(=O)O)CC1', 'C1CCC2OC2(OCC2(COC34CCCCCC3O4)CCC3OC3C2)CC1', 'COC(=O)/C1=C/CC[C@]2(C)O[C@H]2CC[C@]2(C)OC2/C=C(\\\\C(C)(C)OC)CC1', 'CC/C=C\\\\C/C=C/C/C=C\\\\C[C@@H](O)/C=C/[C@H]1[C@@H](CCC(=O)O)[C@@H](O)C[C@H]1O', 'C#CC(O)(CC=C[C@H]1[C@H](O)CC(=O)[C@@H]1CCCCCCC(=O)CO)CCC', 'COC(=O)/C1=C/CC[C@H](C(=O)OC)[C@@H]2CC(CC/C(C)=C\\\\CC1)C(C)(C)O2', 'CCCCCCC(=O)O.O=C(c1ccccc1)C(O)CCC1CCCC1O', 'C=C1CC[C@H]2O[C@]2(COC(C)=O)C[C@H]2O[C@@]23[C@H](C(C)(C)O)CC[C@@]3(C)CC1', 'C=CC(O)(C/C=C\\\\C1[C@H](O)CC(=O)[C@@H]1C/C=C/CCCC(=O)O)CCCC', 'CCOc1cccc(OC(=O)CCCC(C)C)c1OC(=O)CCCC(C)C', 'COC(=O)CCC1C2CC=C3CC(O)CCC3(C)C2CCC1(C)C(=O)OC', 'C/C=C(/C)C(=O)O[C@@H]1CC[C@]2(C)CC(=O)[C@@H](C(C)C)C[C@@H]2[C@]1(C)OC(C)=O', 'CCCCOC(=O)CCCCCCCCC(=O)OCCOc1ccccc1', 'CCC=CCC(C)(O)C=C[C@H]1CCC(=O)[C@]1(C)CC=CCCC(O)C(=O)O', 'C=C[C@]1(C)C[C@@H](OC(=O)CO)[C@]2(C)C3C(=O)CCC3(CC[C@@H]2C)[C@@H](C)[C@@H]1O', 'C=C1[C@@H](O)[C@@H](O)[C@@]2(C[C@@H]3C(C)=CC[C@@H]4[C@](C)(CO)CCC[C@]34C)O[C@H]2[C@H]1O', 'C#CC(O)(C/C=C/[C@@H]1[C@@H](C/C=C\\\\CCCC(=O)O)[C@H](O)C[C@H]1O)CCCC', 'CC#CCC(C)(C)[C@H](O)C=C[C@@H]1[C@H]2C[C@H](CCCCC(=O)O)O[C@H]2C[C@H]1O', 'C/C=C\\\\C=C(/C=C\\\\C)C(C)(C)C(C)(C)c1oc(=O)oc1COC(C)=O.CC', 'CCC[C@@H](C)[C@@H](O)C/C=C/C1=C(CCCCCCC(=O)OC)C(O)=CC1=O', 'C=C1[C@H](O)C[C@H]2[C@@](C)(COC(C)=O)CC(=O)C[C@]2(C)[C@H]1CC/C(C)=C\\\\CO', 'CC(=O)O[C@@H]1C[C@@]23C[C@]1(C)CC[C@H]2[C@]1(C)CCC[C@@](C)(C(=O)O)[C@H]1C[C@@H]3O', 'COC1=CC(=O)C=C(CCCCCCCCCCCCCCC(=O)O)C1=O', 'CC1(CCC[C@@]2(C)CC(=O)C[C@H]3C[C@@H]4C[C@@]32CCC42OCCO2)OCCO1', 'CC(=O)OCC1=CC[C@H]2C(C)(C)CCC[C@@]2(C)[C@]12CC[C@@](C)(CC(=O)O)O2', 'CC[C@@H](O)/C=C/[C@@H]1[C@H](C/C=C\\\\C/C=C\\\\C/C=C\\\\CCC(=O)O)[C@H](O)C[C@@H]1O', 'COC(=O)C=C1CCC2(O1)C(C)CCC1C(C)(C)C(OC(C)=O)CCC12C', 'COC(=O)[C@]1(C)CCC[C@@]2(C)[C@@H]3C[C@H]4CC[C@@]3(CC[C@@H]21)[C@H](O)[C@H]4CC(=O)O', 'CC(C)(C)C(OC(=O)C1(C(=O)O)CCCC1)OC1C2CC3CC(C2)CC1C3', 'COC(=O)CC(CC(=O)OC)Cc1cc(C(C)(C)C)c(O)c(C(C)(C)C)c1', 'CCCCCC(O)C(O)C=CC=CC=CC=CC(O)CC=CCCC(=O)O', 'C=C1CC[C@@H]2CC[C@]34O[C@@]3(C2(C)C)[C@@](O)(C/C(C)=C/[C@@H](O)C1)O[C@H]4OCC', 'CCCCOC(=O)C(CC(C)C(=O)OCCO)CC(CC)c1ccccc1', 'CO[C@@]12CC[C@H](O)[C@@H](C=CC(O)C3CCCC3)[C@@H]1CC2=CCCCC(=O)O', 'CCCCOC(=O)C(Cc1cc(C(C)(C)C)cc(C(C)(C)C)c1O)C(=O)O', 'CC(C)=CCC/C(C)=C/CO.CCCCCc1cc(O)cc(O)c1C(=O)O', 'CC(=O)OC[C@]1(C)[C@H]2C[C@H](O)[C@@]34C[C@@H](CC[C@H]3[C@]2(C)CC[C@H]1O)[C@]1(C)O[C@@H]14', 'CC/C=C\\\\C/C=C\\\\C/C=C\\\\C[C@H](O)[C@@H](O)/C=C/[C@@H](O)C/C=C\\\\CCC(=O)O', 'COC1C(=O)[C@@]2(C)C(OC)CC3OCC3C2CC2(O)CCC(C)=C1C2(C)C', 'CC(=O)O[C@@H]1[C@H](C(C)C)[C@@H](OC(=O)C=C(C)C)C/C(C)=C\\\\CC[C@]2(C)O[C@@H]12', 'COC(=O)C1C=C(O)C(C(C)(C)CC/C=C(\\\\C)C(C)(C)C)=CC1C(=O)OC', 'COC(=O)CC1(C)CCC2(O1)C(C)=CCC1C(C)(C(=O)OC)CCCC12C', 'c1ccc(COC2CC(OCCCOCCCOC3CCCCO3)C2)cc1', 'CCC=CCC=CCC=CCC1C(O)CC(O)C1C=CC(O)CCC(=O)O', 'CC/C=C\\\\CC(O)C(O)/C=C/C=C/C=C\\\\C=C\\\\C(O)CCCCCC(=O)O', 'CCC(=O)O[C@H]1CCC2C3C(O)C=C4C[C@@H](OC)OC[C@]4(C)C3CC[C@@]21C', 'C=C1[C@@H](O)[C@@H](O)[C@@]2(C[C@@H]3C(C)=CC[C@H]4[C@](C)(CO)CCC[C@]34C)O[C@H]2[C@H]1O', 'CCCCCCCCCC[C@H](OC(=O)[C@@H](OC)c1ccccc1)C(=O)OC', 'CC[C@@H](C[C@H]1O[C@H]([C@H](O)C(=O)OC)C[C@@H](C)C1(C)C)OCc1ccccc1', 'CCCCCCCC(=O)c1c(O)cc(O)c(C(=O)CCCCCCC)c1O', 'CC/C=C\\\\C[C@@H](O)/C=C/[C@@H]1[C@H](C/C=C\\\\C/C=C\\\\CCC(=O)O)[C@H](O)C[C@@H]1O', 'C=C1CCC2[C@](C)(CO)[C@H](O)CC[C@@]2(C)[C@@H]1C/C=C1\\\\C(=O)OCC1OCC', 'C=C(C)C(=O)CCC(CCC)C(=O)OC(=O)C(CCC)CCC(=O)C(=C)C', 'CC(C)(CCCCc1cc(O)cc(CCCCC(C)(C)C(=O)O)c1)C(=O)O', 'C=C[C@]1(C)CC(O)C2[C@]3(C)CCCC(C)(COC(C)=O)C3C(=O)C[C@]2(C)O1', 'C=C1CC[C@H](CCCC(C)C#CCC)[C@H]1C[C@H]1OC1CCC(O)(O)C(=O)O', 'C=C[C@@]1(C)CC(=O)C2[C@](C)(O1)[C@@H](OC(C)=O)[C@@H](O)[C@@H]1C(C)(C)CCC[C@]21C', 'CC(=O)OC1CCC2(C)C(CC(O)C34C=C(CO)C(CCC23)C4)C1(C)CO', 'CC/C=C\\\\C/C=C\\\\C[C@@H]1[C@@H](/C=C/[C@H](O)C/C=C\\\\CCC(=O)O)[C@H](O)C[C@@H]1O', 'CC(=O)OC1CC=C(C)CC2OC(C3C(C(C)CO)CC=C(C)C23)C1(C)O', 'CC(C)C[C@@H](Oc1ccccc1)[C@H](C)OC(=O)[C@H](C)CC(=O)OC(C)(C)C', 'CC[C@H]1C(C)=C[C@]23C(O)[C@@H](C=C(CO)[C@@H](O)[C@]12OO)[C@H]1[C@@H](C[C@H]3C)C1(C)C', 'COC1CCC2=C(CC3C(C(C)CCC(O)C(C)(C)O)=CCC3(C)O2)C1=O', 'CCCOc1cc(C=CC(=O)OCCCCCCCCO)ccc1OCC', 'C=C(C)C(=O)OCCOC.OC1CC2C3CC(C2C1O)C1C2CCC(C2)C31', 'C=C[C@]1(C)C[C@@H](OC(=O)CO)C2(C)C(C)CCC3(CCC(=O)C32)[C@@H](C)C1O', 'CCCCCCCOC(=O)C(CC)(CC)C(=O)Oc1cc(C)ccc1OC', 'CC/C=C\\\\C/C=C\\\\C/C=C\\\\C[C@@H]1[C@H](/C=C/C(O)CCC(=O)O)[C@@H](O)C[C@H]1O', 'CC1([C@H]2CCC3C4CCC5(OCCO5)[C@](C)(C=O)C4CC[C@@]32C)OCCO1', 'COCOC1=C(C)C(=O)OC1CC=C(C)CCC1OC1(C)CCC=C(C)C', 'CC=C(C)CCC=C(C)CCC(=O)CCC=C(C)C.O=C(O)C=CC(=O)O', 'C=C1CC[C@@H]2CC[C@]34O[C@@]3(C2(C)C)[C@@](O)(C/C(C)=C/[C@@H](O)C1)O[C@@H]4OCC', 'CCCCCOC(=O)CCCC(=O)OCCC(CCOC)c1ccccc1', 'CCCCC[C@@H](/C=C/[C@H]1C=CC(=O)[C@@H]1CCCCCCC(=O)O)OC(C)=O', 'CC1(CCC=O)C2CCC3(C)C(CCC34OCCO4)C2CCC12OCCO2', 'CCCCC[C@H](C=C[C@H]1[C@H]2CC(=O)O[C@H]2C[C@H]1C1CCCCO1)OC(C)=O', 'C#C[C@@](O)(C=C[C@H]1[C@H](O)CC(=O)[C@H]1C(CCCCC)C(=O)O)CCCCC', 'C=C[C@]1(C)CC(OC(=O)CO)[C@]2(C)CCC(C)[C@@]3(CCC(=O)C23)C(C)C1O', 'COC1=C(C)C(=O)OC1(CC=C(C)CCC=C(C)CCC1OC1(C)C)OC', 'CC1CC2CC(OCC(=O)OC3CC4CC(C)C(=O)C(C4)C3)CC(O)(C1)C2', 'CCCCCCCCOc1ccc(C(C)(C)C(=O)O)c(C(C)(C)C(=O)O)c1', 'CC(=O)OCCC(C)CCC1=C(C(=O)O)C(=O)CC2C(C)(C)CCCC12C', 'C=C1/C=C/[C@H]([C@@H](C)CCC)OC(=O)[C@H](C)[C@H](O)[C@H]2O[C@@H]2[C@@H](C)C[C@H]2O[C@@H]2C1', 'C/C=C(/C)C(=O)OC/C1=C/[C@H](O)[C@H](C(C)C)[C@@H](OC(C)=O)C/C(C)=C/CC1', 'C=C[C@@]1(C)C[C@H](OC(=O)CO)[C@@]2(C)[C@@H]3C(=O)CC[C@@]3(CC[C@@H]2C)[C@@H](C)[C@@H]1O', 'CCCCOC(=O)CC(=O)OCc1cc(C(C)(C)C)c(O)c(C(C)(C)C)c1', 'CC(=O)OC/C=C1\\\\CCC(=O)[C@](C)(CCCC(C)C(=O)CC=C(C)C)OC1', 'CC/C=C\\\\C/C=C\\\\C[C@H](O)/C=C/[C@H]1[C@H](C/C=C\\\\CCC(=O)O)[C@@H](O)C[C@H]1O', 'Cc1ccc(C(O)CC[C@@H]2[C@@H](CCCCCCC(=O)O)[C@@H](O)C[C@H]2O)cc1', 'CCOC(=O)C(C)(CCCCCCCCCOCc1ccccc1)C(=O)O', 'C/C=C(/C)C(=O)O[C@@H]1C[C@]2(C)[C@H](OC(C)=O)C(C)(C)[C@@H]3CC[C@H](C)[C@@H]1[C@]32O', 'O=C(O)/C=C(\\\\CCCCCCCCO)c1ccc(OCCCCCO)cc1', 'CCC(CCCCCCCC(=O)O)Oc1ccc(C(=O)OC(C)(C)C)cc1', 'CCCCC/C=C\\\\CC(O)/C=C/C(=O)[C@H]1C[C@@H]1C(O)C/C=C/C(=O)OCC', 'CC1=CC(C)C2C(/C=C/C[C@@H]3OC(C)(C)O[C@@H]3C(=O)CCCCOC2O)C1', 'CCCOc1cc2c(cc1OCCC)C1CCCC1COC2COCCO', 'CC/C=C\\\\C[C@H](O)/C=C/[C@@H]1[C@H](C/C=C\\\\C/C=C\\\\CCC(=O)O)[C@H](O)C[C@@H]1O', 'CCCCC(C)(O)C/C=C/[C@H]1[C@H](O)CC(=O)[C@@H]1C/C=C/C=C/CC(=O)OC', 'CCOC(=O)CCCC1CCC2(CC1)OOC1(O2)C2CC3CC(C2)CC1C3', 'CC(C)[C@@H]1CC[C@@H](C)CC1OC(=O)CC1=C[C@@H](OC2CCCCO2)CC1=O', 'O=C(O)CC1C(O)CC(O)C1/C=C/C(O)CCC12CC3CC(CC(C3)C1)C2', 'CCOC(=O)C=CC[C@H](Cc1ccc(OC)c(OCCCOC)c1)C(C)C', '[2H]C([2H])C([2H])([2H])/C=C\\\\C/C=C\\\\C[C@@H]1[C@H](/C=C/[C@@H](O)C/C=C\\\\CCC(=O)O)[C@@H](O)C[C@H]1O', 'CCCCC[C@H](/C=C/[C@H]1[C@H]2CC(=O)O[C@H]2C[C@H]1C1CCCCO1)OC(C)=O', 'CCC(C)(CCC1C(=O)OC(=O)C1C1C(C)C2CC1C(C)C2C)C(=O)OC', 'O=C(O)CCCC=CC[C@@H]1C(=O)C[C@@H](O)[C@@H]1C=C[C@@H](O)CC1CCCCC1', 'C=C1CC[C@H](CCC)[C@H]1C[C@H]1OC1C(O)C(=O)C(C(=O)O)C1CCC(C)C1', 'C=C1C[C@@H](O)/C=C(/C)CC[C@@H]2/C(=C\\\\C=C\\\\C(C)(C)O)[C@@H](OC)O[C@H](OC)[C@@H]12', 'O=C(O)CCCCCCC1CC(CCC(O)c2ccccc2)C(O)CC1O', 'CO[C@@]12CC[C@H](O)[C@@H](/C=C/C(O)C3CCCCC3)[C@@H]1C/C2=C\\\\CCC(=O)O', 'COC(=O)C[C@]1(C)CC[C@@]2(O1)C(C(=O)OC)=CC[C@H]1C(C)(C)CCC[C@@]12C', 'CC#CCC(C)(C)[C@H](O)C=C[C@@H]1[C@@H](C/C=C/CCCC(=O)O)[C@@H](O)C[C@H]1O', 'CCCCCC(O)CC(=O)CCc1ccc(OC2CCCCO2)c(OC)c1', 'CC(=O)OC1CC(C(C)C)C2CC(O)C(C)C3(O)CC(=O)C(C)=C3CC12C', 'COC(=O)CCCCCCCCCCC(=O)c1cc(OC)c(OC)cc1C', 'C=C1C2CCC3C4(C)CCCC(C)(CO)C4CC(O)C3(C1OC(C)=O)C2O', 'COC(=O)C1=CCCC(C(=O)OC)C2CC(CCC(C)=CCC1)C(C)(C)O2', 'CC1(C)C2CCC1(C)C(O)(C(=O)OC(=O)C1(O)CC3CCC1(C)C3(C)C)C2', 'C=C[C@@]1(C)C[C@H](OC(=O)CO)[C@]2(C)C3C(=O)CC[C@]3(CC[C@@H]2C)[C@H](C)[C@H]1O', 'CC(C)(C)CCCCc1cc(O)c(O)c(O)c1CCCCC1(C(=O)O)CC1', 'CC(=O)O[C@@H]1CC[C@]2(C)C([C@@H](O)C[C@@]34C[C@H](C[C@H](O)[C@H]32)[C@@H](C)C4=O)C1(C)C', 'CCCCCCCCCCC(C[C@](C)(O)C(=O)O)OC(=O)c1ccccc1', 'CC/C=C\\\\C/C=C\\\\C[C@H](O)/C=C/[C@H]1[C@@H](C/C=C\\\\CCC(=O)O)[C@H](O)C[C@@H]1O', 'CCCCCCCCCCCCCC1=C(O)C(=O)C(C)=C(OC(C)=O)C1=O', 'CO[C@@]12CC[C@H](O)[C@@H](C=CC(O)C3CCCCC3)[C@@H]1CC2=CCCC(=O)O', 'CCCCCCC(=O)OCc1cc(O)cc(COC(=O)CCCCCC)c1', 'C=C(/C=C(/C=O)CCCCCCCCC)C(=O)/C(OC)=C(/OC)C(=O)CC', 'C[C@H]1CCCC2C(C3CCC(CO)C=C3C(=O)O)C3CCC(O)CC3OC21', 'CC(=O)OC(CC=C(C)C)C(C)CCC[C@]1(C)OCC(=CC=O)CCC1=O', 'C=C[C@@]1(C)CC(OC(=O)CO)C2(C)C(C)CCC3(CCC(=O)C32)C(C)C1O', 'COc1cc(C(C)(C)C)c(OC(=O)[C@@]2(O)OCCC[C@@H]2C)c(C(C)(C)C)c1', 'C=C(C)[C@H]1C[C@]2(C)[C@@H](C)C[C@H](OC(C)=O)C[C@H]2[C@H](OC(=O)/C(C)=C\\\\C)[C@@H]1O', 'CCC(=O)OC1CCC2C3C(O)C=C4C[C@@H](OC)CC[C@]4(C)C3OC[C@]12C', 'COC(=O)CCCC=CC[C@H]1C(=O)CC(O)[C@@H]1C=CCC(O)C1(C)CCC1', 'C(=CC1CCC(OCC2CO2)CC1)OC=CC1CCC(OCC2CO2)CC1', 'C#CC(O)(C/C=C/[C@H]1C(O)CC(O)[C@@H]1C/C=C\\\\CCCC(=O)O)CCCC', 'CCCCCC(=O)CCCCC[C@H](Cc1cc(O)cc(OC)c1)OC(C)=O', 'C/C=C(\\\\C)[C@H](O)[C@H](C)/C=C/C=C(\\\\C)CC[C@@H](O)CC1=C(C)C(=O)[C@](C)(O)O1', 'CCC1(OC(=O)CC(OC(=O)OC(C)(C)C)C2CC3C=CC2C3)CCCC1', 'CC(=O)O[C@@H]1[C@H](O)[C@@H](C)[C@](O)(CCc2ccoc2)[C@@]2(C)CCCC(C)(C)[C@H]12', 'CC(=O)O[C@H]1[C@@H]2[C@@H]3[C@@H](C[C@H]1C)[C@@H](C)CO[C@@]1(C)CC[C@@H](O)/C(C)=C\\\\[C@@H]2O[C@@H]31', 'CCOCOC(=O)C1CC2CC1C1C3CC(OC(=O)C(C)(C)CC)C(C3)C21', 'COCC1(O)CC[C@H]2[C@@H]3CCC45CC(OC)(OC)CCC4(O5)C3=CC[C@@]21C', 'C=C1CCC2CCC34OC3(C(O)(CC(C)=CC(O)C1)OC4OCC)C2(C)C', 'CCOC(=O)CCCCCCCCCCOc1ccc(CC(=O)OC)cc1', 'C=C[C@]1(C)C[C@H](OC(=O)CO)[C@@]2(C)[C@H](C)CC[C@@]3(CCC(=O)[C@@H]32)[C@@H](C)[C@@H]1O', 'C=C1[C@@H](OC(C)=O)CC[C@]2(C)[C@@H]1C[C@@H]1C[C@H](O)C(C)=C([C@@H](O)[C@@H]2O)C1(C)C', 'CCCCCCCOC(=O)c1cc(O)cc(C(=O)OCCCCCCC)c1', 'COC(=O)C1=CCCC2(C)OC2CCC2(C)OC2C=C(C(C)(C)OC)CC1', 'CO[C@@]12CC[C@H](O)[C@@H](/C=C/C(O)C3CCCC3)[C@@H]1CC2=CCCCC(=O)O', 'CC(=O)O[C@H]1C[C@@H]2C[C@@H](O)[C@H]3[C@](C)(C(=O)O)CCC[C@]3(C)[C@]23CC[C@@]1(C)C3', 'CC(=O)O[C@]1(C)CCC(=C(C)C)C(=O)[C@@H]2O[C@@]2(C)CC/C=C(\\\\C)[C@H](O)CC1', 'CC1=CCC(OC(=O)OC(=O)OC2(C(C)C)CC=C(C)CC2)(C(C)C)CC1', 'CC/C=C\\\\C[C@@H](O)/C=C/[C@H]1[C@H](C/C=C\\\\C/C=C\\\\CCC(=O)O)[C@@H](O)C[C@H]1O', 'CC(C)COC(C)OC(=O)C1C2CC(C1C(=O)O)C1C3CC(C(C)C3C)C21', 'CC(C)=CCC1C(=O)C(C(=O)CC(C)C)=C(O)[C@]1(CO)[C@@H](O)CC=C(C)C', 'C=CCC1CCC(C(C)C(=O)OC2CCC(COC(=O)C(=C)C)CC2O)C1', 'CC(=O)O[C@@H]1CC[C@]2(C)[C@@H](C[C@H](O)[C@]34C[C@H](CC[C@@H]23)[C@@]2(CO2)C4)[C@@]1(C)CO', 'CCCCCC(/C=C/[C@H]1C=CC(=O)[C@@H]1CCCCCCC(=O)O)OC(C)=O', 'C=CC1(C)CCC2C(C)(O1)C(=O)CC1C(C)(C)C(OC(C)=O)CC(O)C21C', 'C=C[C@](C)(CO)CC(=O)[C@]1(C)C(C)CCC2(CC=O)CCC3(OCCO3)C21', 'CC(=O)OC[C@@]1(O)CC[C@]23C[C@H]1[C@@H](O)C2=CC[C@H]1[C@](C)(CO)CCC[C@@]13C', 'CCCCCCCCOC(=O)C(CC)(CC)C(=O)Oc1ccccc1OC', 'C=C1CC2OC(C3C(C(C)C)CC=C(C)C23)C(C)(O)C(OC(C)=O)CC1O', 'CC(C)CCC(=O)Oc1cccc(OC(C)(C)C)c1OC(=O)CCC(C)C', 'C=C1CC2OC3[C@H]4C(C[C@@H](C)[C@@H](OC(C)=O)[C@@H]24)[C@@H](C)CO[C@@]3(C)CC[C@H]1O', 'CC(=O)O[C@@H]1C[C@@H]2C(C)(C)[C@H](O)CC[C@]2(C)[C@@H](C[C@@H]2OC(=O)C=C2C)[C@@H]1C', 'CC/C=C\\\\C/C=C\\\\C/C=C\\\\C[C@H]1[C@H](/C=C/[C@@H](O)CCC(=O)O)[C@H](O)C[C@@H]1O', 'C=C1C(CC/C(C)=C\\\\C=O)[C@@]2(C)C[C@@H](O)C[C@](C)(COC(C)=O)C2C[C@H]1O', 'CCCCCCCC(Cc1ccc(OCC)cc1)CC(CC(=O)O)C(=O)O', 'CCCCCCCOc1ccc(CCC(CC(C)C)(C(=O)O)C(=O)O)cc1', 'CC/C=C\\\\C/C=C\\\\C[C@@H](O)/C=C/[C@H]1[C@H](C/C=C\\\\CCC(=O)O)[C@@H](O)C[C@H]1O', 'C/C1=C\\\\C(C)C(C(C)O)OC(=O)CC[C@H]2C=CCCC12C(=O)C(C)CCO', 'CCCCCCCCC(=O)c1c(O)cc(O)cc1CC(=O)OCCCCC', 'CCCCC(C)(O)C/C=C/[C@H]1[C@H](O)CC(=O)[C@@H]1CC/C=C\\\\C=C\\\\C(=O)OC', 'C[C@@H]1[C@H](OC[C@H]2[C@H](C)[C@H](OCCc3ccccc3)O[C@@H]2C)O[C@H](C)[C@H]1CO', 'O=C(O)CCCC=CCC1C(=O)CC(O)C1C=CC(O)CC1CCCCC1', 'C=C1CCC2[C@H](CO)C[C@H](O)CCC[C@@]2(C)C[C@@H]1C/C=C1/C(=O)OC[C@H]1O', 'CCC(C)(C)C(=O)OC1=C2CCC3CC(OCC(=O)OC(C)(C)C)(C1)CC23', 'CCCCCC(O)/C=C\\\\C=C/C/C=C\\\\C=C\\\\C=C\\\\C(O)C(O)CCC(=O)O', 'CCCCC(C)(O)C/C=C/[C@H]1[C@H](O)CC(=O)[C@@H]1C/C=C/C=C\\\\CC(=O)OC', 'C=C1CC2C3C(O)C[C@@H]4C[C@@H](OC(=O)CO)CC[C@]4(C)C3CC[C@]2(C)[C@H]1O', 'CCCC1C(C2(C)C=CC(=O)CC2)[C@@H](O)C[C@@]2(C)C1CC[C@]2(O)C(=O)CO', 'C=C1C(O)CC2C(C)(COC(C)=O)CC(=O)CC2(C)C1CCC(C)=CCO', 'CC(=O)OC[C@]1(C)CCC[C@@H]2C1=CC(=O)[C@H](C)[C@@]2(C)CC[C@H](C)CC(=O)O', 'CC[C@@H](C)C(=O)O[C@H]1CC[C@]2(C)CC(=O)C(=C(C)C)C[C@H]2[C@]1(C)OC(C)=O', 'CCOC(=O)C1C[C@H]2[C@]3(C)[C@@H](OC(C)=O)CCC(C)(C)[C@H]3CC[C@@]2(C)C1=O', 'CC/C=C\\\\C/C=C/C/C=C\\\\C[C@H](O)/C=C/[C@@H]1[C@H](CCC(=O)O)[C@@H](O)C[C@H]1O', 'C=C1[C@@H]2CC[C@H]3[C@]4(C)CC[C@@H](O)[C@](C)(CO)[C@H]4C[C@H](O)[C@]3(C2)[C@H]1OC(C)=O', 'C[C@@H]1C2(C[C@H]3C(C)(C)CCC[C@]3(C)[C@@]13CC[C@]1(COC(=O)C1)O3)OCCO2', 'CCCCCCCCCCCCc1ccc(C=C(C(=O)OC)C(=O)OC)o1', 'C/C(=C\\\\COCc1ccccc1)CC[C@@H](O)[C@@](C)(O)COC(=O)C(C)(C)C', 'CCC(C)(C)C(=O)OCC(=O)OCC(=O)CC1(C)C2CC3CC(C2)CC1C3', 'CC(=O)OC1CC(C)C(O)(CCC2=CCOC2=O)C2(C)CCCC(C)(C)C12', 'CCCCCCCOc1ccc(CCC(C(=O)OCC)C(=O)OCC)cc1', 'CCCCC(CC)COOC(=O)c1ccccc1C(=O)OC(CC)CCC', 'CCCCC[C@@H](O)C=C[C@@H]1C2C[C@H]3OCC(C=CCCCC(=O)O)[C@@H]1[C@H]3O2', 'CC1=C(C[C@H](O)/C=C\\\\C=C\\\\[C@@H](C)[C@@H](O)/C(C)=C/CC(C)C)OC(C)(O)C1=O', 'C=C1[C@@H](O)CC[C@H]2[C@@](C)([C@@H](C/C(C)=C/C(=O)O)OC(C)=O)[C@H](C)CC[C@@]12C', 'CC(=O)OC1CCC2C(C1)C(O)CC1C2CCC2(C)C1CCC21OCCO1', 'CC(=O)O[C@H]1C/C=C(/C)C[C@H]2O[C@H]([C@@H]3[C@@H]([C@@H](C)CO)CC=C(C)[C@@H]32)[C@]1(C)O', 'CCCCC[C@H]1/C=C\\\\[C@@H]2[C@@H](C/C=C\\\\CCCC(=O)O1)[C@@H](O)C[C@H]2OC(C)=O', 'CCC(O)C(O)C/C=C\\\\C=C\\\\C(O)C/C=C\\\\C/C=C\\\\C/C=C\\\\CCC(=O)O', 'CCCCCOC(=O)c1ccccc1C(=O)OCC(CCCC)CCOC', 'COCO[C@H]1C[C@@H](C)[C@](C)(CCC(C)=O)C2=C1[C@H](/C=C(\\\\C)CCC=O)OC2', 'COCC1(COC)CC2=C(C)C(=O)CC3CC(COC)(COC)CC3=C2C1', 'C=C(C)C(=O)C(CC)C(C)(C)C(=O)OC(=O)C(C)(C)C(CC)C(=O)C(=C)C', 'CC(=O)OCC=C(CO)CCC1(C)C(C(=O)O)CCC2(C)C(C)=CCCC21', 'COCC(=O)C1(O)CCC2(O)C3CC=C4CC(O)CCC4(C)C3CCC12C', 'COc1ccccc1COC(=O)CCCCCCCCC(=O)OCC(C)C', 'C/C=C(/C)C(=O)O[C@H]1C/C(C)=C/CC[C@]2(C)O[C@@H]2[C@H](OC(C)=O)[C@@H]1C(C)C', 'CC(=O)O[C@H](C)[C@@H]1CC[C@@H]2[C@@H]3CCC(=O)[C@](C)(CCC(=O)O)[C@H]3CC[C@@]21C', 'CC(=O)O[C@H]1/C=C(\\\\C)CC[C@@H]2[C@](C)(CC[C@@]2(O)C(C)C)C[C@@H]2O[C@@]2(C=O)C1', 'C[C@@H]1CC2=C(C=CC3=C2C=NN3)[C@H](N1CC(F)(F)F)C4=NC=C(C=C4)NC5CN(C5)CCCF', 'C=C(NCc1ccc(NCCN(C(=C)C)C(C)F)c(F)c1)c1c(C(C)(F)F)nc2ncccn12', 'CN1CCN(CC2CCN(c3nccc4[nH]c(-c5ccc(F)c(C(F)(F)F)c5)nc34)CC2)CC1', 'C[C@@H]1Cc2c(ccc3[nH]ncc23)C(c2ncc(NC3CN(CCCF)C3)cc2F)N1CC(F)F', 'Cc1c(-c2ccnn2C)nnc(N(C)C2CCN(Cc3ccc(F)cc3C(F)(F)F)CC2)c1C', 'Cc1c(-c2ccnn2C)nnc(N2CCC(N(C)Cc3ccc(F)cc3C(F)(F)F)CC2)c1C', 'Nc1ncc(-c2cn([C@]34C5C(N6CCN(CCF)CC6)C[C@@H]3[C@H]54)c(C3CC3)n2)cc1C(F)(F)F', 'Cc1cccc(F)c1N1CCC(NCc2cn(C)nc2NCc2ncccc2C(F)(F)F)CC1', '[H]/N=C(\\\\C/C=C\\\\C=C(/C)C(C)(F)F)c1nc(NCC2CC2)cc(Nc2ccnc(C(C)(F)F)c2)n1', 'CCN1CCN(c2cc3c(N[C@H](C)c4cc(F)cc(C(F)(F)F)c4C)nnc(C)c3cn2)CC1', 'CN1CCN(CC2CCN(c3nccc4[nH]c(-c5cc(F)cc(C(F)(F)F)c5)nc34)CC2)CC1', 'CC(C)CCn1nnnc1[C@H](c1ccccc1F)N1CCN(c2cccc(C(F)(F)F)c2)CC1', 'C[C@@H]1Cc2c(ccc3[nH]ncc23)[C@@H](c2ncc(NC3CN(CCCF)C3)cc2F)N1CC(F)F', '[H]/N=C/C/C(=N\\\\C)c1nnc(N2CCC(NCc3ccc(F)cc3C(F)(F)F)CC2)c2c1CCC2', 'CC(C)CC(CNN(c1cccc(NN)c1)c1cc(-c2cc(F)ccc2N)ccn1)C(F)(F)F', 'CC(C)CCn1nnnc1[C@@H](c1ccccc1F)N1CCN(c2cccc(C(F)(F)F)c2)CC1', 'Cc1nnc(N[C@H](C)c2cccc(C(F)(F)F)c2F)c2cc(N3CCC(N(C)C)CC3)ncc12', 'CN1CCN(c2cccc3nc([C@H]4CCC[C@@H](c5ncccc5C(F)(F)F)N4C)c(F)n23)CC1', 'C=C/N=C(N)/C(C(=C)N)=C(\\\\C)N1CCC(c2nc(-c3ccc(F)c(C(F)(F)F)c3)cn2C)CC1', 'C[C@@H]1Cc2c(ccc3[nH]ncc23)[C@@H](c2ccc(NC3CN(CCCF)C3)c(F)n2)N1CC(F)F', 'Cc1c([C@@H](C)Nc2nnc(C)c3cnc(N4CC(C)(N(C)C)C4)cc23)cc(F)cc1C(F)(F)F', 'C[C@@H]1Cc2c(ccc3[nH]ncc23)C(c2ccc(NC3CN(CCCF)C3)c(F)n2)N1CC(F)F', 'CN(c1ccc([C@@H]2c3ccc4[nH]ncc4c3CCN2CC(F)(F)F)nc1)C1CN(CCCF)C1', 'CC(C)CCn1nnnc1C(c1ccccc1F)N1CCN(c2cccc(C(F)(F)F)c2)CC1', 'C1=CC=C(C=C1)C2=NN3C=CC=CC3=C2C4=NN=C5C(=C4)C(=NN5)N', 'c1cncc(-c2c[nH]c3ncnc(Nc4ccc5[nH]ncc5c4)c23)c1', 'Nc1cncc(-c2ccc3[nH]nc(-c4nc5ccncc5[nH]4)c3c2)c1', 'C1=C(c2ccn3nccc3n2)c2cnc(Nc3ccncc3)nc2C1', 'c1cncc(Nc2nc(-c3ccc4cn[nH]c4c3)cn3ccnc23)c1', 'N#Cc1cccc(Nc2nnc3ccc(Nc4ccccc4)nn23)c1', 'Nc1nc(-c2ccccc2)c(-c2ccc3nc[nH]c3c2)c2ncnn12', 'c1ccc(-c2nc(Nc3ccc4cn[nH]c4c3)c3[nH]ncc3n2)cc1', 'Nc1cncc(-c2cc3c(-c4nc5ccccc5[nH]4)n[nH]c3cn2)c1', 'Cc1nc2ccccc2nc1Nc1c(C#N)cnn1-c1ccccn1', 'c1cnc(Nc2cc(-c3ccncc3)nc(-c3ccncc3)n2)nc1', 'c1ccc(-n2ccc3cnc(Nc4ccc5cn[nH]c5c4)nc32)nc1', 'N#Cc1ccccc1-c1cn2nc(Cc3ccccn3)nc2c(N)n1', 'N#CCc1cccc(-n2nnc3cnc(Nc4ccccc4)nc32)c1', 'Nc1cncc(-c2ccc3[nH]nc(-c4nc5ccccc5[nH]4)c3n2)c1', 'CNc1c(-c2cccc(-c3cnccn3)c2)nc2cc(C#N)ncn12', 'c1cc(-c2nc3c(-n4ccnc4)ccc(-n4ccnc4)c3[nH]2)ccn1', 'Nc1cncc(-c2cc3c(-c4cc5cnccc5[nH]4)n[nH]c3cn2)c1', 'c1ccc(C2=Nn3nnnc3-c3cc(-c4ccccc4)nn3C2)cc1', 'Cc1[nH]ncc1-c1nc(N)c(C#N)nc1-c1ccc2ncccc2c1', 'c1ccc(-c2ccc3nnc(Cn4cnc5cnccc54)n3n2)cc1', 'c1cc(Nc2nccn3c(-c4cn[nH]c4)cnc23)c2ccncc2c1', 'Cc1ccncc1-c1cc2c(-c3nc4ncccc4[nH]3)n[nH]c2cn1', 'Nc1cc(-c2nnc3n2-c2cccnc2Nc2ccccc2-3)ccn1', 'CN(c1ccccc1)c1ccc(/N=N/c2nc(C#N)c(C#N)[nH]2)cc1', 'c1ccc(-c2cccnc2Nc2cncnc2-c2ncccn2)nc1', 'c1ccc(-c2ccc3ncc(Cn4nnc5cnccc54)n3n2)cc1', 'c1cnc(Nc2cccc3[nH]ccc23)c(-c2ncnc3nc[nH]c23)c1', 'Nc1cc(-c2ccccc2)nn1-c1nnc2c(n1)[nH]c1ccccc12', 'N#CC(c1cccnc1)c1ccnc(Nc2ccc3cn[nH]c3c2)n1', '[C-]#[N+]c1cccc(Nc2nccc(Nc3ccc4nc[nH]c4c3)n2)c1', 'N#Cc1ccc(Nc2nnc3ccc(Nc4ccccc4)nn23)cc1', 'CN(c1cccc(C#N)c1)c1nccc(-c2cnn3ncccc23)n1', 'Cn1cc(-c2ncnc3[nH]cc(-c4ccc5ncncc5c4)c23)cn1', 'Nc1c2ccccc2nc2c(Nc3ncc4cn[nH]c4n3)cccc12', 'c1cc(-n2cccn2)c2ncc(Nc3n[nH]c4cccnc34)cc2c1', 'c1cc(Nc2cccc(-c3ncncn3)c2)cc(-c2ncncn2)c1', 'Nc1cc(-c2cn[nH]c2)nc2c(-c3cnc4ccccc4c3)cnn12', 'N#Cc1c(Cn2ncnn2)nc2ccccc2c1Nc1ccccc1', 'N#Cc1cccc(-c2cc3nc(Cc4ccccn4)nn3c(N)n2)c1', 'Cc1cccc(-c2nc3ccc(C#N)cn3c2-c2ccnc(N)n2)n1', 'c1cnc2ccc(Cn3nnc4ccc(-n5cccn5)nc43)cc2c1', 'Cc1cccc(-n2ncc3c2ncn2nc(-c4ccncc4)nc32)c1', 'Cc1nc(Nc2nc(-c3ccccc3C#N)nc3ccccc23)n[nH]1', 'c1cc2ccc(Cn3nnc4ncc(-c5ccncc5)nc43)cn2c1', 'c1cnc2ccc(Cn3nnc4ccc(-c5ccn[nH]5)nc43)cc2c1', 'c1ccc(-c2nccn3nc(Nc4ccc5[nH]ncc5c4)nc23)cc1', 'N#Cc1c(Nc2ccccc2)nc2ccccc2c1Cn1cnnn1', 'Nc1cncc(-c2cnc3n[nH]c(-c4cc5cnccc5[nH]4)c3c2)c1', 'c1cncc(CNc2nc3ccncc3c3nc4ccncn4c23)c1', 'c1ccc(-c2nccn3nc(Nc4ccc5cn[nH]c5c4)nc23)cc1', 'N#CCc1cccc(Nc2ccc3nnc(-c4ccccn4)n3n2)c1', 'Cc1ncnc(-c2ccc3nc(-c4n[nH]c5ccccc45)[nH]c3c2)n1', 'c1cc(-c2ccn[nH]2)cc(-n2ccnc2-c2cnn3cccnc23)c1', '[H]/N=C1\\\\N=C(N)c2c1c(-n1cccn1)c1ccccc1c2-n1cccn1', 'N#Cc1cnn2c(Nc3ccccc3)nc(Nc3ccccc3)nc12', 'c1ncc2c(n1)N1c3cncc4c3C(C1C2)C1Cc2cncnc2N41', 'Cc1nc(-c2cccnc2-n2ncc3ccccc32)c2cn[nH]c2n1', 'c1cnc(Nc2cc(-c3cccnc3)nc(-c3ccncc3)n2)nc1', 'c1ccc(-c2nccn3nc(Nc4ccc5nc[nH]c5c4)nc23)cc1', 'c1ccc(Cn2nnc3c2ncn2c(-c4ccccc4)nnc32)cc1', 'c1ccc2[nH]c(Nc3nccc(-c4c[nH]c5cnccc45)n3)nc2c1', 'c1ccc(-c2[nH]nc3ncnc(Nc4ccc5[nH]ncc5c4)c23)cc1', 'Nc1c(-c2ccc3c(ccn3-c3cnccn3)c2)cnc2ccnn12', 'c1cnc2ccc(Nc3nc4c(-n5ccnc5)cccn4n3)cc2c1', 'Cc1ccc2c(-n3nnc(C#N)c3N)cc(-c3ccccc3)nc2n1', 'Nc1cncc(-c2ccc3[nH]nc(-c4cc5ccncc5[nH]4)c3n2)c1', 'C(=NNc1ncnc2nn3ccccc3c12)c1c[nH]c2ccccc12', 'N#Cc1cccc(-c2cn3nc(Cc4ccccn4)nc3c(N)n2)c1', 'c1ccc(Nc2cccc3c2ncc2c(-c4nn[nH]n4)ccn23)cc1', 'Cc1cccc(-n2ncc3c2ncn2c(-c4cccnc4)nnc32)c1', 'Cc1ccc(-n2ncc3c2ncn2c(-c4cccnc4)nnc32)cc1', 'Nc1cncc(-c2cnc3n[nH]c(-c4cc5ccncc5[nH]4)c3c2)c1', 'C(=N\\\\Nc1nnc2c(n1)[nH]c1ccccc12)\\\\c1c[nH]c2ccccc12', 'N#Cc1ccccc1Nc1nc2cnc(-c3ccc(N)cc3)cn2n1', 'Nc1cncc(-c2ccc3[nH]nc(-c4cc5ncccc5[nH]4)c3n2)c1', 'Cc1cc(Nc2c(C#N)cnn2-c2ccc3ccccc3n2)ncn1', 'Nc1ccc(-c2nnc3n2-c2cccnc2Nc2ccccc2-3)cn1', 'Nc1cccc(-c2cnc3ccc(-c4cnn5ccccc45)nn23)n1', 'Nc1nccc(-c2c3cc4ccccc4nc3n3c(N)nccc23)n1', 'Cc1c(C#N)c(Nc2ccccc2)nc2cccc(-n3cnnn3)c12', 'c1ccc(-c2cc(Nc3ncccn3)nc(-c3cccnc3)n2)nc1', 'Cc1cccc2nc(/C=C/c3nc4c5cccnc5ccn4n3)nn12', 'Cc1c(C#N)c(Nc2ccccc2)nc2cccc(-c3nn[nH]n3)c12', 'Cc1ccc(-c2cn(-c3cc4nnnn4c4ccccc34)nn2)cc1', 'c1cncc(CNc2nc3c(nc4cnccn43)c3ccncc23)c1', 'c1ccc(Cn2cnc3c(-n4nnc5ccccc54)ncnc32)cc1', 'Cc1ccncc1-c1cnc2n[nH]c(-c3nc4ccncc4[nH]3)c2c1', 'c1cnc2ccc(Cn3nnc4ccc(-c5cn[nH]c5)nc43)cc2c1', 'c1cnc2ccc(Cn3cnc4ncc(-c5cn[nH]c5)nc43)cc2c1', 'Cc1nc2ncc(-c3ccncc3)nc2n1-c1ccc2nc[nH]c2c1', 'c1ccc(-c2cccc3nc(Nc4ccc5n[nH]nc5c4)nn23)cc1', 'N#CC(=CNc1cccc(-c2cc3ccccn3c2)c1)c1nn[nH]n1', 'Cc1c(C#N)c(Nc2ccncc2)nc(Nc2ccncc2)c1C#N', 'Nc1cccc2[nH]cc(-c3ncccc3-c3ncnc4nc[nH]c34)c12', 'C(=N/Nc1ncnc2nn3ccccc3c12)\\\\c1c[nH]c2ccccc12', 'c1ccc(-n2ncc3[nH]c(-c4ccc(-n5cncn5)cc4)nc32)cc1', 'c1ccc(-n2ncc3c(Nc4ccc5[nH]ncc5c4)ncnc32)cc1', 'c1ccc2[nH]c(-c3nccn3-c3ccc(-n4cncn4)cc3)nc2c1', 'c1ccc2c(C/N=N/c3ncnc4nn5ccccc5c34)c[nH]c2c1', 'Cc1ccc2ccccc2c1-c1cnc2c(-c3nn[nH]n3)cnn2c1', 'c1cnc(Nc2cc(-c3ccncc3)nc(-c3cccnc3)n2)nc1', 'N#Cc1c(N)nc(N)nc1-c1ccc(-n2cnc3ccccc32)cc1', 'c1ccc2c(c1)ncn2-c1ncc2ncn(Cc3ccncc3)c2n1', 'c1cnc2ccc(Nc3nc4cccc(-n5ccnc5)n4n3)cc2c1', 'Cc1ccc(-n2ncc3c2ncn2c(-c4ccncc4)nnc32)cc1', 'Cc1ccc2cc(-c3cnc4ncc(-c5cn[nH]c5)nn34)ccc2n1', 'CC1C=CC2=Nc3nc(-n4cc(-c5ccccn5)cn4)nnc3C2=C1', 'Cn1cc(-c2ncnc3[nH]cc(-c4ccc5nccnc5c4)c23)cn1', 'c1cnc2c(Nc3ccc4c(-n5cccn5)nccc4c3)n[nH]c2c1', 'Nc1ncccc1-c1nc2c([nH]1)-c1ccncc1Nc1ncccc1-2', 'Cc1c(C#N)cc(-c2cnn(-c3ccccc3)c2)cc1-n1ncnn1', 'Cc1ccncc1-c1ccc2[nH]nc(-c3nc4ncccc4[nH]3)c2n1', 'Cc1nccn2nc(-c3ccn4cc(-c5ccccn5)nc4c3)nc12', 'c1cnc2c(n1)CC1C3c4c(cncc4N4c5nccnc5CC34)N21', 'Nc1cncc(-c2ccc3[nH]nc(-c4cc5cnccc5[nH]4)c3n2)c1', 'Nc1cncc(-c2cc3c(-c4cc5ncccc5[nH]4)n[nH]c3cn2)c1', 'c1ccc(Cc2ccc3nc4c(cnn4-c4nn[nH]n4)cc3c2)cc1', 'Nc1cc(-c2cnc3ccccc3c2)nc2c(-c3cn[nH]c3)cnn12', 'C1=NCc2ccc(Nc3ncnc4n[nH]c(-c5cccnc5)c34)cc21', 'Cc1ccncc1-c1ccc2[nH]nc(-c3nc4ccncc4[nH]3)c2n1', 'Nc1ncnc2cc(-n3c4ccccc4c4c(N)cccc43)nnc12', 'Cc1cccc(C#N)c1-n1nnc(-c2cnn(-c3ccccc3)c2)n1', 'N#Cc1ccc(-c2cnc(NN)c(-c3nc4ccccc4[nH]3)n2)cc1', 'Cc1ccccc1-n1ncc2c1ncn1nc(-c3ccncc3)nc21', 'c1cc(-c2ccn[nH]2)cc(-c2n[nH]c3ccc(-c4ncn[nH]4)cc23)c1', 'c1cc(-c2c[nH]c3ncnc(Nc4ccc5[nH]ncc5c4)c23)ccn1', 'Cc1ccc(-c2nc(-c3ncccn3)nc(-c3ncccn3)n2)cc1', 'N#Cc1ccc2cncnc2c1.[H]/N=C(\\\\N)c1ccc2cncnc2c1', 'c1ccc(Cn2ncc3c2ncn2nc(-c4ccncc4)nc32)cc1', 'c1ccc(-c2ccc3cnc(Nc4ccc5nc[nH]c5c4)nn23)nc1', 'Cc1ccc(-c2cnnc(Nc3n[nH]c4ccccc34)n2)c(C#N)c1', 'C(=NNc1nn2cnnc2c2ccccc12)c1c[nH]c2ccccc12', 'N#Cc1cccc(-c2nc(N)nc(N)c2C#Cc2ccc(N)nc2)c1', 'c1ccc2c(-c3nc4ccc(Cc5ccnnn5)cc4[nH]3)n[nH]c2c1', 'Cc1ccncc1-c1cnc2n[nH]c(-c3nc4ncccc4[nH]3)c2c1', 'Nc1cccc2c1ccn2-c1ncccc1-c1ncnc2nc[nH]c12', 'N#Cc1cccc(-c2cc3nn(Cc4ccccn4)nc3c(N)n2)c1', 'c1cc(-n2cncn2)c2ccc(Nc3n[nH]c4cccnc34)cc2c1', 'c1ccc(-c2nn3ccccc3c2Nc2n[nH]c3nnccc23)cc1', 'c1cc(Cc2nnc3ccc(-n4ccnc4)nn23)c2cccnc2c1', 'Cn1c2ccccc2c2nnc(-n3cc(-c4ccccn4)cn3)nc21', 'Cc1cncc(-c2cc3c(-c4nc5ccncc5[nH]4)n[nH]c3cn2)c1', 'c1cnc2ccc(Cn3nnc4ncc(-n5cccc5)nc43)cc2c1', 'Cc1nnncc1-c1ccc2nc(-c3n[nH]c4ccccc34)[nH]c2c1', 'c1ccc(Nc2nc(-n3cnc4ccccc43)c3[nH]cnc3n2)cc1', 'Nc1cncc(-c2ccc3[nH]nc(-c4nc5ncccc5[nH]4)c3c2)c1', 'Nc1cncc(-c2cnc3n[nH]c(-c4cc5ncccc5[nH]4)c3c2)c1', 'C(=N/Nc1nn2cnnc2c2ccccc12)\\\\c1c[nH]c2ccccc12', 'Cc1ccccc1-n1ncc2c1ncn1c(-c3cccnc3)nnc21', 'c1ccc(Nc2nc3ccc(-n4cnc5ccccc54)cn3n2)nc1', 'Nc1cncc(-c2ccc3[nH]nc(-c4cc5cccnc5[nH]4)c3n2)c1', 'N#CC(=CNc1ccc(-c2cc3ccccc3[nH]2)cc1)c1nn[nH]n1', 'Nc1cncc(-c2cnc3n[nH]c(-c4nc5ccccc5[nH]4)c3c2)c1', 'Cc1cnc(Nc2cccc(C#N)c2)nc1-c1cnn2ncccc12', 'c1ccc2[nH]c(-c3[nH]ncc3Nc3ncnc4ccccc34)nc2c1', 'c1cn2c(-c3cn[nH]c3)cnc2c(Cc2ccc3nccnc3c2)n1', 'N#Cc1c(-c2cccn2-c2ncccn2)cc(-c2ccc[nH]2)nc1N', 'Cc1cc(-n2ncc(C#N)c2Nc2ncccn2)nc2ccccc12', 'C=Nc1nc(NC)c2nc3c4cccnc4c4[nH]cccc4c3nc12', 'Cc1ccc(Nc2c(C#N)cnn2-c2ccc3ccccc3n2)nn1', 'Cc1nn(-c2ccccc2)c(N)c1/N=N/c1ccc(C#N)c(C#N)c1', 'Cc1ncn(-c2ccc(Nc3ncc4cccc(C#N)c4n3)cc2)n1', 'N#CC(C#N)=NNc1ccc(-c2nncn2Cc2ccccc2)cc1', 'c1ccc(-c2cc(Nc3ncccn3)nc(-c3ccncc3)n2)nc1', 'N#Cc1c(Cc2nn[nH]n2)nc2ccccc2c1Nc1ccccc1', 'c1cnc2ccc(Cn3nnc4ccc(-n5ccnc5)nc43)cc2c1', 'Cc1cccc(-c2nc(-n3ccc4ccncc43)c3[nH]cnc3n2)n1', 'Cc1ccccc1-n1ncc2c1ncn1nc(-c3cccnc3)nc21', 'Cc1cccc(-c2nc(-n3ccc4cnccc43)c3[nH]cnc3n2)n1', 'c1ccc(Nc2nc3c4cnn(-c5ccccc5)c4ncn3n2)cc1', 'c1ccc2nc(Nc3nc4c(-n5cccn5)cccn4n3)ccc2c1', 'Cc1cc(Nc2nc3c(nc4cnccn43)c3ccncc23)ccn1', 'C(=N/Nc1nnc2c(n1)[nH]c1ccccc12)\\\\c1c[nH]c2ccccc12', 'Cc1ccc(-n2ncc3c2ncn2nc(-c4cccnc4)nc32)cc1', 'N#CC(=CNc1ccc(-n2ccc3ccccc32)cc1)c1nn[nH]n1', 'N#Cc1cccc(Nc2nccc(Nc3cccc4[nH]ncc34)n2)c1', 'c1ccc(-n2cnc3cc(Nc4ncnc5[nH]ncc45)ccc32)cc1', 'Nc1ccccc1-c1cnc(-c2cnccn2)c(-c2cnccn2)n1', 'c1ncc2c(n1)CC1C3c4c(cncc4N4c5cncnc5CC34)N21', 'N#Cc1cccc(-c2cc(Nc3ccnc(N)n3)cc3cn[nH]c23)c1', 'C1=NNc2nnc(NN=Cc3c[nH]c4ccccc34)c3cccc1c23', 'c1ccc2[nH]c(-c3c(-n4cccn4)ccnc3-n3cccn3)nc2c1', 'Nc1cncc(-c2cnc3n[nH]c(-c4cc5cccnc5[nH]4)c3c2)c1', 'Cc1cc(Nc2nc3ccncc3c3nc4ccncn4c23)ccn1', 'c1ccc(Nc2nnc3c4cnn(-c5ccccc5)c4ncn23)cc1', 'c1cnc2ccc(Nc3nccn4c(-c5cn[nH]c5)cnc34)cc2c1', 'N#Cc1c(Nc2ccccc2)nc2ccccc2c1Cc1nn[nH]n1', '[N-]=[N+]=NC1=CC=C(/N=N/c2ccccc2)C(=[N+]=[N-])C1c1ccccc1', 'N#Cc1c(N)c(/N=N/c2ccccc2)c(N)n2c1nc1ccccc12', 'c1cc(-c2ncc[nH]2)cc(-c2n[nH]c3ccc(-c4ncn[nH]4)cc23)c1', 'N#CC1(c2ccc(-n3cc(-c4ccnc5nc[nH]c45)cn3)nc2)CC1', 'c1cc(Nc2cc(-c3ccc4cn[nH]c4c3)cn3ccnc23)ncn1', 'c1cnc(-c2ncc3c(n2)-c2cn(-c4cccnc4)nc2CC3)nc1', 'C/N=C1\\\\N/C(=N\\\\C)c2nc3c4cccnc4c4ncccc4c3nc21', 'Cc1ccc(-c2cnc3c(-c4nn[nH]n4)cnn3c2)c2ccccc12', 'c1ccc(-c2nc(Nc3ccc4[nH]ncc4c3)c3[nH]ncc3n2)cc1', 'c1ccc(-c2nc(Nc3ncccn3)cc(-c3ccncc3)n2)nc1', 'Cc1cccc(-n2ncc3c2ncn2nc(-c4cccnc4)nc32)c1', 'Nc1cncc(-c2cc3c(-c4cc5ccncc5[nH]4)n[nH]c3cn2)c1', 'Cc1cccc(-c2nc3ncccn3c2-c2ccn3ncnc3c2)n1', 'Nc1c(-c2nc3ccccc3[nH]2)nnc2cc(-c3ccccc3)nn12', 'CNc1c(-c2ccc(-c3cnccn3)cc2)nc2cc(C#N)ncn12', 'c1ccc2c(Nc3n[nH]c4ccccc34)nc(-n3ccnc3)nc2c1', 'Nc1c(-n2cnc3ccccc32)ncnc1-n1cnc2ccccc21', 'c1ccc(Nc2cc(-c3ccc4cn[nH]c4c3)nc3ccnn23)nc1', 'c1ccc(Cn2ncc3c2ncn2c(-c4ccncc4)nnc32)cc1', 'Cc1cccc2nc(C=Cc3nc4c5cccnc5ccn4n3)nn12', 'N#Cc1cccc(-c2cc3nc(Nc4ccccc4)nn3c(N)n2)c1', 'Cc1ccc(-c2nc3cc(Nc4cnc(C#N)cn4)ncc3[nH]2)cc1', 'Cc1cc(-c2cnc3c(-c4nn[nH]n4)cnn3c2)c2ccccc2c1', 'c1cncc(Cn2cnc3cnc(-n4cnc5ccccc54)nc32)c1', 'N#Cc1c(Nc2ccccc2)nc2ccccc2c1Cn1ncnn1', 'c1cnc2ccc(Cc3nnc4ccc(-c5cn[nH]c5)nn34)cc2c1', 'Cc1ccccc1-n1ncc2c1ncn1c(-c3ccncc3)nnc21', 'c1ccc2c(Nc3nccn4c(-c5cn[nH]c5)cnc34)nccc2c1', 'c1ccc(Nc2nc3ccnc(-c4ccc5[nH]ncc5c4)n3n2)cc1', 'N#Cc1ccc(Nc2nccc(Nc3cccc4[nH]ncc34)n2)cc1', 'Cc1ccn(-c2nc(N)c(C#N)nc2-c2ccc3ncccc3c2)n1', 'Cc1ccnc(C#Cc2ccc3ncn(-c4ccnc(N)n4)c3c2)n1', 'c1ccc(Nc2nc3c(-n4nnc5ccccc54)cccn3n2)cc1', 'Cc1ccc(-c2nc(-c3cncnc3)nc(-c3cncnc3)n2)cc1', 'Nc1cncc(-c2cc3c(-c4cc5cccnc5[nH]4)n[nH]c3cn2)c1', 'Nc1nc(-c2ccccc2)c(-c2ccc3[nH]ncc3c2)c2ncnn12', 'N#Cc1ccc(-c2cnc3cc(-c4nnn(C5CC5)n4)ccn23)cc1', 'c1ccc(-c2nc(Nc3ncccn3)cc(-c3cccnc3)n2)nc1', 'Cc1cc(-c2cnn3ncccc23)nc(Nc2cccc(C#N)c2)n1', 'c1cnc2ccc(Cc3cnc4ncc(-c5cn[nH]c5)nn34)cc2c1', 'N#Cc1ccc(Nc2nc(Nc3ccn[nH]3)c3ccccc3n2)cc1', 'N#Cc1cccc(-c2cn(Cc3ccccc3-n3cncn3)nn2)c1', 'N#CC(=CNc1cccc(-c2cc3ccccc3[nH]2)c1)c1nn[nH]n1', 'c1cnc2ccc(Cc3nnc4ccc(-n5ccnc5)nn34)cc2c1', 'c1ccc(-c2nccn3nc(Cc4ccc5n[nH]nc5c4)nc23)cc1', 'c1cnn(-c2cc(-c3cnc4ccc(-c5ccn[nH]5)cn34)ccn2)c1', 'Cc1c(C#N)cccc1-n1nnc(-c2cnn(-c3ccccc3)c2)n1', 'C(=N\\\\Nc1nn2cnnc2c2ccccc12)\\\\c1c[nH]c2ccccc12', 'N#Cc1cccc(Nc2nccc(Nc3ccc4nc[nH]c4c3)n2)c1', 'c1ccc(-n2ccc3cnc(Nc4ccc5nc[nH]c5c4)nc32)nc1', 'Cn1nccc1-c1nc(N)c(C#N)nc1-c1ccc2ncccc2c1', 'c1cc(Nc2ncc3c(-c4ccc5nccn5c4)c[nH]c3n2)ccn1', 'Cc1ccncc1-c1cc2c(-c3nc4ccncc4[nH]3)n[nH]c2cn1', 'N#Cc1cccc(-c2n[nH]c3ccc(Nc4ccnc(N)n4)cc23)c1', 'Cc1nn(-c2ccccc2)c2c1nnc1nnc(-c3ccccc3)n12', 'N#Cc1c(Cn2cnnn2)nc2ccccc2c1Nc1ccccc1', 'c1ccc(Nc2nc3cc(-c4nn[nH]n4)ccc3n3cccc23)cc1', 'Nc1nc2c(-c3ccccc3)nnn2c2c1cnn2-c1ccccc1', 'c1cc(Nc2ncc3c(-c4ccn5nccc5c4)c[nH]c3n2)ccn1', 'Cc1c(C#N)c(Nc2ccccc2)nc2cccc(-n3ncnn3)c12', 'c1ccc(N(n2nnc3ccccc32)n2nnc3ccccc32)cc1', 'c1cnc2c(c1)CN=C2Nc1ccc2c(-n3cncn3)nccc2c1', 'C(=NNc1nnc2c(n1)[nH]c1ccccc12)c1c[nH]c2ccccc12', 'c1ccc2[nH]c(-c3cc(-n4ccnc4)nc(-n4ccnc4)c3)nc2c1', 'c1cc(-c2ccc3nc[nH]c3c2)nc(Nc2ccc3cn[nH]c3c2)n1', 'N#Cc1cnc2c(N)cc(Nc3cccc(-c4cccnc4)c3)nn12', 'Nc1nc(-c2ccccc2)c(-c2ccc3[nH]ncc3c2)c2nncn12', 'Cc1cnc2n[nH]c(-c3nc4c(-c5cccnc5)cncc4[nH]3)c2c1', 'CN1CC[C@@]23C=C[C@@H](C[C@@H]2OC4=C(C=CC(=C34)C1)OC)O', 'COC(=O)c1cc(CNc2c(C)cc(C)cc2C)oc1C', 'O=C1CCCCCCN1CC(O)c1cc2ccccc2o1', 'Cc1occc1C(=O)N(Cc1ccccc1)C[C@H](C)CO', 'O=C1Cc2ccccc2C(=O)N1CC1CCCCC1CO', 'COc1c(C)cnc(COc2ccccc2CCO)c1C', 'Cc1oc2ccccc2c1CN1CCC(CCC(=O)O)C1', 'Cc1ccccc1[C@H]1C[C@H]1C(=O)N1CCC[C@H](C(=O)O)C1', 'C[C@H](O)c1ccc2ccccc2c1OCCC(=O)N(C)C', 'CCC1(CC)OC1CCCN1C(=O)c2ccccc2C1=O', 'O=C(O)C1CC(=O)N(c2ccc(C3CCCCC3)cc2)C1', 'COc1cc(CO)ccc1OCc1ccc(CN)cc1C', 'CCOc1ccc(CC(=O)NC(C)Cc2ccoc2)cc1', 'Cc1ccc(C(C)C)c(OCC(=O)NCc2ccco2)c1', 'CCc1ccc(OCc2ccc(OC)c(N)c2)c(OC)c1', 'COCc1ccccc1NCc1ccc(OC)cc1OC', 'COc1cc(C)ccc1OCc1ccc(CNC2CC2)o1', 'COc1cc2c(C)[nH]c(=O)c(C3CCCC3)c2cc1OC', 'CCC(c1ccccc1)N1[C@H]2CC[C@@H]1C(C(=O)O)C(=O)C2', 'COc1ccc(OCCNCc2cccc(CO)c2)cc1', 'O[C@@H](COCc1ccco1)CN1CCc2ccccc2C1', 'CCOc1cccc(OCC(N)(CO)c2ccccc2)c1', 'COc1ccc(OC)c(CNC[C@H](O)c2ccccc2)c1', 'O=C(OCC12CC3CC(CC(C3)C1)C2)c1ccc[n+]([O-])c1', 'CCCOc1cccc(C(O)c2cncc(OCC)c2)c1', 'CC(NC(=O)CC1CCCO1)c1ccc(C#CCO)cc1', 'COc1ccc(OCC(CN)c2cccc(OC)c2)cc1', 'CCCN(CC#Cc1ccccc1)C1COCC1C(=O)O', 'O=C1CC2(CCCCCC2)C(=O)N1c1ccc(CO)cc1', 'C=CCCC(NC(=O)Cc1ccc2c(c1)CCC2)C(=O)O', 'COc1ccc(COCc2ccoc2CNC2CC2)cc1', 'O=C(N[C@H]1CCC[C@H]1C(=O)O)c1ccc2c(c1)CCCC2', 'CCC1OCCC1C(=O)c1ccc2c(c1)C(=O)NCCC2', 'CCOc1ccccc1OCC(N)(CO)c1ccccc1', 'CC1CCN(C(=O)c2ccc(/C=C/C(=O)O)cc2)CC1C', 'C=CC1C/C=C\\\\COCCOCc2ccccc2C(=O)N1', 'C#CCC(=O)CN(Cc1ccccc1)C(=O)OC(C)(C)C', 'CNC(Cc1cccc(O)c1)c1ccc(OC)c(OC)c1', 'COc1ccc(CNC2CCCc3occc32)c(OC)c1', 'CC(CC(=O)O)c1ccc(-c2ccc(CN(C)C)cc2)o1', 'COn1c2ccc1cc2.OCC(O)CCc1ccccc1', 'O=C(O)C1CCN(C(=O)C2CCc3ccccc3C2)CC1', 'C/C=C/C=C/C(=O)OCC(=O)NCCc1ccccc1C', 'COc1ccccc1OCCOc1c(C)ccc(N)c1C', 'CN1CC[C@@]23c4c5ccc(O)c4O[C@@H]2[C@@H](O)CC[C@@H]3[C@@H]1C5', 'CCC1CC(=O)N(c2ccc(CCCC(C)=O)cc2)C1=O', 'Cc1ccc2oc(C(=O)N(C)CC3(O)CCCC3)cc2c1', 'CCc1ccc(NCc2cc(OC)c(O)c(OC)c2)cc1', 'CCC1CN(CC(=O)c2ccc3c(c2)CCO3)CCC1=O', 'CCOC(=O)C1CCN(Cc2cc3ccccc3o2)CC1', 'COc1cc(OC)cc(C(N)c2ccc(OC)c(C)c2)c1', 'COc1cccc(-c2cc(C(C)N)cc(OC)c2OC)c1', 'COCCCNC(=O)[C@H](C)Oc1ccc2ccccc2c1', 'CC(C)COc1ccc(-c2ccc(CO)c(=O)n2C)cc1', 'Cc1ccc(C)c(C(=O)NCCC2=CCCC2)c1C(=O)O', 'C=CC(CC(=O)N1CCC[C@H](C(=O)O)C1)c1ccccc1', 'O=C(O)c1ncccc1OCC12CC3CC(CC(C3)C1)C2', 'Cc1cc2oc(=O)cc(CNC[C@H]3CCCO3)c2cc1C', 'COc1ccc(OC)c(N(C)CC(O)c2ccccc2)c1', 'C/N=C/C=C\\\\C=C\\\\C=C\\\\c1cc(OC)c(OC)c(OC)c1', 'CCC1OCCC1C(=O)Nc1cccc(C#CCCO)c1', 'CC(N[C@H](C)c1ccco1)c1ccc2c(c1)OCCCO2', 'O=C(N1CCC2(CC1)OCCO2)C1(c2ccccc2)CC1', 'CC(C)(C)c1cc(CO)cc(Oc2ccccc2CO)n1', 'CN(CCc1ccccc1)C[C@H](O)c1cc(O)cc(O)c1', 'Cc1ccc2c(c1C)N(CCCC1CCCO1)C(=O)C2=O', 'CCC1OCCC1C(=O)Nc1ccc(C#CCCO)cc1', 'O=C(O)C1CCCC1C(=O)N1CCC(c2ccccc2)C1', 'COCc1ccc(C(=O)NCC(C)(C)c2ccccc2)o1', 'CCOC(OCC)c1cccc(OCc2ccccc2)n1', 'OC[C@H]1CCN(Cc2ccc3cc(O)ccc3c2)C[C@H]1O', 'CCOc1cccc(C(N)c2c(OC)cccc2OC)c1', 'CN(CCCC(=O)O)CCOc1ccc2ccccc2c1', 'O=C(O)C(CNC(=O)C1C2CCCCC21)c1ccccc1', 'CNCc1cccc(OC)c1OCOCc1ccccc1', 'COc1cc(OC)c(-c2ccc(CN)cc2C)c(OC)c1', 'CC(CNC(=O)[C@H]1[C@@H]2CC[C@@H]2[C@H]1C(=O)O)c1ccccc1', 'O=C(O)CCCN(C(=O)CC1C=CCC1)c1ccccc1', 'CC1(C(=O)O)CCCN1C(=O)CC/C=C/c1ccccc1', 'CCC1(CNCc2oc3ccccc3c2C(=O)O)CCC1', 'COc1ccc(CNc2ccc(OC)c(OC)c2)cc1C', 'C#CCN(C(=O)OC(C)(C)C)C1CCc2ccc(O)cc21', 'Nc1ccc(OCCCCCOc2ccc(O)cc2)cc1', 'C[C@@H](NCc1c(C(=O)O)oc2ccccc12)C1CCCC1', 'CC1(C)[C@H](C(=O)O)[C@@H]1C(=O)N1CCc2ccccc2CC1', 'CC(CN1CCCCC1)OC(=O)c1cc2ccccc2o1', 'CCO/C=C/c1cn(C(=O)OC(C)(C)C)c2ccccc12', 'O=C(c1ccc2c(c1)COC2)N1CCC(O)C12CCCC2', 'Cc1c(C#CCO)cccc1C(=O)N1CCC(C)(O)CC1', 'COc1cccc(N(C)CC(O)c2ccccc2OC)c1', 'CN1CCC23c4c5ccc(O)c4OC2[C@@H](O)CCC3C1C5', 'Cc1ccc2c(CN3CCC(C)C(O)C3)cc(=O)oc2c1', 'CCCN(CC(=O)O)Cc1cc(OC)c2ccccc2c1', 'Cc1ccc2c(CC(=O)NC3CCCCC3O)coc2c1', 'COC(C)C1(C#N)CCC(c2ccc(C(=O)O)cc2)CC1', 'CC1(NC(=O)c2cccc(C#CCCO)c2)CCCOC1', 'COc1cccc(C(C)NC(C)c2cc(O)ccc2O)c1', 'COc1ccc(NCCc2ccccc2)cc1OCCO', 'Cc1ccc(C=CC(=O)N2CCC(C(=O)O)C2C)c(C)c1', 'CCCOc1ccccc1Oc1cccc(OCC)c1N', 'CCCCCCCC(=O)C(C#N)c1ccc2c(c1)OCO2', 'CCOC1CC(CC(=O)Nc2ccccc2C#CCO)C1', 'CCc1ccc(CCC(=O)NC(CO)c2ccco2)cc1', 'O=C(NC12CC3CC(CC(C3)C1)C2)c1ccc(O)cc1O', 'COc1ccc(CC(N)c2ccc(OC)cc2OC)cc1', 'CCc1oc2ccccc2c1/C=C/C(=O)NC(C)COC', 'O=C(OC[C@H]1CC(=O)N(Cc2ccccc2)C1)C1CCC1', 'O=C(O)[C@H]1CCN(C(=O)C2(Cc3ccccc3)CCC2)C1', 'Cc1ccc(CCc2nc(CC(C)C)c(C(=O)O)o2)cc1', 'CC(C)c1ccc2oc(NC(C)(C)C)c(C=O)c(=O)c2c1', 'O=C(CCC1CCC1)N1C(=O)OCC1Cc1ccccc1', 'CC1OCCC1CNC(=O)c1cccc(C#CCCO)c1', 'CC(C)(C)C1=CC(=O)C(NC(=O)CC2C=CCC2)=CC1=O', 'O=C(O)c1ccc(C(=O)N2CCC3(CCCC3)CC2)cc1', 'C=C1CCC(CNC(=O)c2cccc(CC(=O)O)c2)CC1', 'O=C(COC(=O)C=Cc1ccccc1)NC1CCCCC1', 'Cc1ccc(C#CCCO)c(C(=O)NC2CCOCC2)c1', 'COc1cc(CCN)c(OCc2ccccc2)cc1OC', 'Cc1ccc(-c2cccc(CN3CCOC[C@@H](O)C3)c2)o1', 'COc1cc(CN(CC(=O)O)C(C)C)cc2ccccc12', 'COc1cc(OC)cc(C(O)C(N)Cc2ccccc2)c1', 'Cc1cccc(OCCN(C)C(=O)CCc2ccco2)c1', 'CCc1cc(/C=C2/N=C(C(C)(C)C)OC2=O)ccc1OC', 'OC1(Cn2ccc3ccccc32)CCC2(CC1)OCCO2', 'CC(c1cc2ccccc2o1)N(C)C(=O)C1CCOCC1', 'Oc1ccc(OCC(O)CNCCc2ccccc2)cc1', 'O=C(O)[C@H]1CCCC[C@H]1C(=O)NC1Cc2ccccc2C1', 'CN(Cc1ccc(C#CCO)cc1)C(=O)C1CCCOC1', 'COc1cccc([C@@H](C)NCc2ccc(OC)c(O)c2)c1', 'Cc1ccc(/C=C/C=C/C(=O)CCCCC(=O)NO)cc1', 'CCC(Nc1ccc(C(=O)OC(C)C)cc1)c1ccco1', 'CCn1c(=O)oc2cc(C(=O)C3CCC(C)CC3)ccc21', 'COc1ccc(CNCC2COCCO2)c2ccccc12', 'CCc1ccc(OCc2ccc(N)cc2OC)c(OC)c1', 'CCOc1ccccc1CNc1cc(OC)cc(OC)c1', 'CC(C)=CCCC(=O)N1C(=O)OC[C@H]1Cc1ccccc1', 'CC(=O)C[C@H]1CC[C@H]2COC[C@@H](c3ccccc3)N1C2=O', 'COc1ccc(C)cc1-c1cc(CN)c(OC)c(OC)c1', 'CC(=O)C1CCCC2NC(C)c3cc4c(cc3C21)OCO4', 'O=C(O)[C@H]1CCCN(C(=O)C[C@@H]2C[C@H]2c2ccccc2)C1', 'CC1(C)C(=O)C2CCCN(C(=O)OCc3ccccc3)C21', 'O=C(/C=C/c1ccc2c(c1)OCO2)CCN1CCCCC1', 'C[C@]1(C(=O)O)CCN(C(=O)Cc2ccc3c(c2)CCC3)C1', 'CCON=C(CC)C1=C(O)CC(c2ccccc2)CC1=O', 'CC(=O)OCC1=CC(C)(C)N(C(C)=O)c2cc(C)ccc21', 'CC[C@H](c1ccc(OC)cc1)N(C)C(=O)c1ccoc1C', 'O=C(O)CCC1CCN(C(=O)c2ccc3c(c2)CCC3)C1', 'O=C(O)c1cc2cc(CNCC3CCCCC3)ccc2o1', 'CC.Cc1cc(Oc2ccc(CCC(=O)O)cc2)ccn1', 'CN1CCC23c4c5ccc(O)c4O[C@H]2[C@@H](O)CC[C@H]3[C@H]1C5', 'CCCOc1ccc(CO)c(OCc2ncccc2C)c1', 'COCC1CCN(C(=O)c2cccc(C#CCCO)c2)C1', 'O=C(O)c1ccc(CC(=O)N2CCCC2C2CCC2)cc1', 'COc1ccc(O)c(CNC(C)c2cccc(CO)c2)c1', 'Cc1cc2occ(CC(=O)N3CCC[C@@H]3CO)c2cc1C', 'CC(c1cc2ccccc2o1)N1CCCCC1CC(=O)O', 'O=C(N[C@@H](Cc1ccccc1)C(=O)O)C1CC12CCCC2', 'CN1[C@H]2C[C@H](OC(=O)C=Cc3ccccc3)C[C@@H]1[C@@H](O)C2', 'O=C(O)C1CCCC(C(=O)N2CCC2c2ccccc2)C1', 'CCOc1ccc(OCC(N)(CO)c2ccccc2)cc1', 'COc1ccc(CC(N)c2ccccc2OC)c(OC)c1', 'COc1ccc([C@H](C)N)c(OCc2ccc(CO)cc2)c1', 'CC(CN(C)C(=O)C1CC12CCc1ccccc12)C(=O)O', 'Cc1ccccc1C1CCN(C(=O)C2CCC2C(=O)O)C1', 'COc1ccc2c(c1)CCCC2NCC(O)c1ccco1', 'CCC1(C(=O)O)CCN(C(C)c2cc3ccccc3o2)C1', 'CCC(NC(=O)c1ccc2oc(C)cc2c1)C1CC(O)C1', 'C#CCOc1ccc(N(C)C(=O)CC2(O)CCCC2)cc1', 'COc1ccc([C@@]23CCCC=C2N(C)C(=O)C3)cc1OC', 'Cc1c(C(=O)N2CCCC(CCO)C2)oc2ccccc12', 'COC(=O)CC(NC(=O)C1=CCCCC1)c1ccccc1', 'OC1C=CC[C@@]12CCCN2CCc1ccc2c(c1)OCO2', 'COCCOc1ccccc1NCc1ccc(CO)cc1', 'COC(=O)Cc1ccccc1C(=O)N1C[C@H]2[C@H](C1)C2(C)C', 'C[C@H]1C=C(C#CCO)C2=CC(=O)O[C@]2(C)[C@H]2CCCCN12', 'CCc1cc(/C=C/C(=O)O)ccc1N1CCCCCC1=O', 'C=CC[C@]1(C(=O)OC(C)(C)C)COC(c2ccccc2)=N1', 'CC1CC1COC(=O)c1cccc(NC(=O)C2CC2C)c1', 'CC(NC(C)c1ccco1)c1ccc2c(c1)OCCCO2', 'CCC1CC(C(=O)O)C(C(=O)N2CCc3ccccc32)C1', 'CC(C)c1ccccc1C1(C(=O)O)CC1C(=O)N1CCC1', 'COc1ccc(C(CN)c2ccc(OC)c(OC)c2)cc1', 'COc1cc2c(cc1O)CCN1C(=O)C[C@H]3CCCC[C@]231', 'CCOC(=O)c1oc(-c2ccc(C)cc2C)nc1C(C)C', 'CCc1ccc(C(=O)NC(C)C(O)Cc2ccccc2)o1', 'COC(=O)c1ccc(/C=C/C(=O)N(C(C)C)C2CC2)cc1', 'Cc1ccc(C(=O)N2CCCOC(C)C2)c(C#CCO)c1', 'CCOC(=O)c1c(C=O)n(CCC(C)C)c2ccccc12', 'Cc1cc(C)c(OCC(O)COc2ccccn2)c(C)c1', 'CC1(C(O)C2CCCCO2)Cc2ccc(C#N)cc2CO1', 'COc1cc2c(cc1OC1CCCC1)CC(N=C=O)CC2', 'CC1(C)C(=O)[C@H]2CCCN(C(=O)OCc3ccccc3)[C@H]21', 'CCC(CC)NC(=O)/C=C/c1cc2cccc(OC)c2o1', 'COc1ccccc1Oc1cc(CO)cc(C(C)(C)C)n1', 'CC1CC(=O)CC(C2CC2)N1C(=O)OCc1ccccc1', 'C=C(C)CN(CC)C(=O)COC(=O)/C=C/c1ccccc1', 'O=C(O)C1CCCC(C(=O)N2CCc3ccccc32)CC1', 'Cc1ccc(C)c(C(O)CN2C(=O)C3C(C2=O)C3(C)C)c1', 'CN1CCC23C4=C5CCC(O)=C4O[C@@H]2C(O)C=CC3[C@H]1C5', 'CCOc1ccc(C(=O)NCCCc2ccco2)cc1C', 'CCOC1CCN(C(=O)c2ccccc2C#CCO)CC1', 'Cc1ccc(C#CCCO)c(C(=O)N2CCCC2CO)c1', 'COCc1cccc(OCC(=O)c2cc(C)n(C)c2C)c1', 'CCOc1ccccc1OCCOc1cc(N)ccc1C', 'CC(=O)OC[C@@H]1CCCN1C1=CC(=O)[C@H]2[C@@H]1[C@H]1C=C[C@@H]2C1', 'COc1cc(CC(C)N)ccc1OCc1ccc(O)cc1', 'C.O=C(NC[C@@H](O)c1ccccc1)OCc1ccccc1', 'CCCCCCn1c(C(=O)O)cc2cc(C)ccc2c1=O', 'CCc1oc(C(=O)NCC(O)c2ccccc2C)cc1C', 'COc1cc2c(O)cccc2cc1OCC1CCNCC1', 'COc1ccc(C(N)Cc2ccccc2)c(OC)c1OC', 'COC(=O)C1C(c2ccc(C=O)cc2)CC2CCC1N2C', 'COC1CCN(C(=O)c2ccc(C#CC(C)(C)O)cc2)C1', 'Cc1ccc(NC(=O)C2CCCCC2)cc1/C=C/C(=O)O', 'CCc1occc1C(N)c1ccc2c(c1)OCC(C)CO2', 'CCOC(=O)C(C)(N)CCOc1cccc2ccccc12', 'COc1cccc(OCC(O)CNc2ccc(C)cc2)c1', 'COC(=O)C12CCCC1C(=O)N(c1c(C)cccc1C)C2', 'COc1ccc(C(C)Nc2ccc(OC)c(CO)c2)cc1', 'C=C(C)CCC(=O)CN(C)C(=O)c1ccccc1C(C)=O', 'C#CCN(C)C(C/C(=C/C(=O)O)OCC)c1ccccc1', 'CCOc1cc2ccccc2cc1C(=O)NC(C)COC', 'COc1ccc(OC)c(CCNCc2cccc(O)c2)c1', 'C=CC(=O)N1CCC(Oc2cccc(C(=O)CC)c2)CC1', 'COc1cc(CNCc2cccc(CO)c2)cc(OC)c1', 'COc1cccc2c(OC3CCC(CO)CC3)nccc12', 'O=C(c1ccccc1)C1CCN(C(=O)C2CCCO2)CC1', 'CC(C)N(CCCO)C(=O)c1ccc2ccccc2c1O', 'O=C1CCN(C(=O)COc2cccc3c2CCCC3)CC1', 'COC1(CC(=O)c2ccc3c(c2)CCCC(=O)N3)CCC1', 'CN(Cc1ccccc1C#CCO)C(=O)C1CCOCC1', 'O=CC(NC(=O)OCc1ccccc1)C(C1CC1)C1CC1', 'Cc1cccc(C(=O)NCC(C)(O)c2cc(C)oc2C)c1', 'COCC1CCN(C(=O)c2ccc(C#CCO)c(C)c2)C1', 'O=C(O)CCc1cccc2c1ccn2CC1CCOCC1', 'CC[C@H](N)c1ccc(Oc2c(OC)cccc2OC)cc1', 'CCOC(=O)CC(NC)c1ccc2cc(OC)ccc2c1', 'CNCc1ccc(OC)c(COc2ccccc2OC)c1', 'COc1ccc(CCC(=O)N(C)Cc2ccc(C)o2)cc1', 'Cc1c(C=CC(=O)O)cccc1C(=O)NCC1CCCC1', 'CC(C)(C)OC(=O)N1C(=O)[C@H]2C[C@@H]1C[C@@H]2c1ccccc1', 'CC1CC=CCC1COc1nc2c(cc1C(=O)O)CCC2', 'C#CCCCCC(=O)NC(CCc1ccccc1)C(=O)O', 'CCCCCCc1c(C=O)c(=O)[nH]c2cc(OC)ccc12', 'O=C(O)CN(C(=O)C1CC1c1ccccc1)C1CCCC1', 'O=COC1(Cc2ccc(O)cc2)NCCC2=C1CCCC2', 'COc1cccc([C@@H](C)NC(C)c2cc(O)cc(O)c2)c1', 'CC(NC(=O)C1CC2CCC1O2)C(=O)Cc1ccccc1', 'Cc1ccc(C#CCO)c(C(=O)N2CCC(C)C(O)C2)c1', 'Cc1ccc(C(=O)N2C[C@@H](C)O[C@@H](C)C2)cc1C#CCO', 'Cc1cc(C(=O)NC2CCCOC2)ccc1C#CCCO', 'COC(=O)C1CCN(C(=O)C2(c3ccccc3)CCC2)C1', 'COc1ccc(COc2ccc(OC)cc2CCN)cc1', 'CCCCCCC1CN(c2ccc3occc3c2)C(=O)O1', 'COc1cccc(C23CCCC(NCC2)/C3=C/C(=O)O)c1', 'Cc1ccc(C23CC4CC(CC(O)(C4)C2)C3)cc1[N+](=O)[O-]', 'CCC(CC)C(C1=CC=C(C=C1)NC2=NC3=CC=CC=C3S2)N4C=NC=N4', 'CC(C)N1C(=S)N[C@@H](c2ccccn2)[C@@H]1c1cccn1Cc1ccccn1', 'CCCN1C(=S)N[C@@H](c2ccccn2)[C@@H]1c1ccc(C)n1-c1cccnc1', 'Cc1cc2nc(N3CCN(CCc4cccs4)CC3)c3ccccc3n2n1', 'S=C1N[C@@H](c2ccccn2)[C@H](c2ccc[nH]2)N1CCCNc1ccccc1', 'CN(C)c1ccc(-n2cccc2[C@@H]2[C@H](c3ccccn3)NC(=S)N2C)cc1', 'N/C=N/C=N/CCNc1ccc(NCc2ccccc2)cc1-c1cccs1', 'CC(C)c1cc2c(/N=N/Cc3c(C(C)C)[nH]c4ccccc34)ncnc2s1', 'CC.CSc1nccc(N(C)c2cc(-c3ccccc3)c3nc[nH]c3c2)n1', 'Cc1cc([C@H]2[C@H](c3ccccn3)NC(=S)N2C)c(C)n1Cc1cccnc1', 'CCCn1cc(-c2ccccc2)nc1C(S)c1cn2c(C)cc(C)nc2n1', 'Nc1nc(-c2ccc(-n3nncc3C34CC5CC(CC(C5)C3)C4)cc2)cs1', 'CC(C)N1C(=S)NC(c2ccccn2)C1c1cccn1Cc1ccccn1', 'CC1(C)Cc2c(sc3ncn4nc(Cc5ccccc5)nc4c23)C(C)(C)N1', '[H]/N=C/c1c(N)ccc2c1[C@H]1CCCC[C@H]1C(c1ccc3nc(N)sc3c1)N2', 'c1csc(-c2nc(N3CCN4CCCC[C@@H]4C3)ncc2-c2ccncc2)c1', 'c1ccc2c(Cc3nn4c(CN5CCCCCC5)nnc4s3)cccc2c1', 'CSCCc1c(-c2ccccc2)ncn1CCCn1nnc2ccccc21', 'CCCn1c(SCc2cn3cc(C)ccc3n2)nnc1-c1cccc(C)c1', 'Cc1ccc(C(Cc2ccsc2)NCc2cnn3c(C)cc(C)nc23)nc1', 'Cc1ncsc1CN1CC[C@@]2(C1)CN(Cc1cccnc1)c1cccnc12', 'c1ccc(-c2ncnc(Nc3ccc(CCN4CCSCC4)cc3)n2)cc1', 'Cc1ccc([C@@H](Cc2ccsc2)NCc2cnn3c(C)cc(C)nc23)nc1', 'Cc1cc(C2C(c3ccccn3)NC(=S)N2Cc2ccccn2)c(C)n1C', 'S=c1nc(/C=C/c2ccccc2)[nH]n1CN1CCN(c2ccccc2)CC1', 'Cn1cnc(C#N)c1CNCC(c1ccccc1)N1CCc2sccc2C1', 'Cc1ccc(CN2CCC(CN(C)c3nc4ncccc4cc3C#N)C2)s1', 'Cc1nnc(CN2CCCC3(CCc4cnc(-c5ccccc5)nc43)C2)s1', 'Cc1ccc(-c2nc3c4c5c(sc4ncn3n2)C(C)(C)NC(C)(C)C5)cc1', 'c1cc2c(c(NC3CCN(c4ccncc4)CC3)c1)CN(c1nccs1)C2', 'C=C1CC(Nc2nccc(-c3ccc(-c4cccnc4)s3)n2)CC(C)(C)N1', 'Cc1ccc([C@@H]2[C@@H](c3ccccn3)NC(=S)N2c2ccc(N(C)C)cc2)[nH]1', 'CC(c1ccccn1)N(Cc1nc2ccccc2[nH]1)Cc1cscc1CN', 'S=C1NC(c2ccccn2)C(c2ccc[nH]2)N1CCCNc1ccccc1', 'CN1CCN(c2nc(-c3c[nH]c4ncc(-c5ccccc5)cc34)cs2)CC1.[H][H]', 'CC(Nc1ncnc2sccc12)c1ccc(/C(N)=C/C(=C\\\\N)C2CC2)cc1', 'Cc1nc2sc3c(c2c2nc(-c4ccc(N(C)C)cc4)nn12)CC[C@@H](C)C3', 'Cc1nc2ccsc2c2c1nc(-c1ccccc1)n2CCN1CCNCC1', 'CCCCn1c(SCCc2c[nH]c3ccccc23)nnc1-c1ccncc1', 'CN(Cn1nc(-c2cccnc2)n(C2CC2)c1=S)C1CCc2ccccc21', 'Cc1nn(C)cc1-c1cccc2c1N=C(Nc1ccc(C(C)C)cc1)NS2', 'CC[C@H]1C/C(=C2/c3ccccc3Sc3cc(C4=NNNN4)ccc32)CCN1', 'CNc1nccc(Nc2ccc3ncsc3c2)c1/C=C/C1=CCN(C)CC1', 'Cc1cc([C@@H]2[C@@H](c3ccccn3)NC(=S)N2Cc2ccncc2)c(C)n1C', 'S=C1N[C@H](c2ccccn2)[C@H](c2ccc[nH]2)N1CCCNc1ccccc1', 'CCN(CC)c1ccc(-c2nnc(SCCC#N)n2-c2ccccc2)cc1', 'CC[C@H](C)[C@H](N)c1nnc2n1NC(c1ccc(-c3ccccc3)cc1)=CS2', 'C/C(N)=N\\\\c1ccc(-c2ccc(-c3ccc(N=C(N)N)cc3C)s2)c(C)c1', 'CCN(CC)c1ccc(-c2nnc(S[C@@H](C)C#N)n2-c2ccccc2)cc1', 'NC(N)=NCCC[C@H]1CN2C(=N1)SC(c1ccccc1)=C2c1ccccc1', 'c1ccc(-c2nc3c(c(NCCc4nc5c(s4)CCCC5)n2)CCC3)nc1', 'Cc1nc2ccsc2c2c1nc(-c1ccccn1)n2CCC1CCNCC1', 'CC(C)Cc1ccc(C(C)c2nnc3sc(-c4ccc(N)cc4)nn23)cc1', 'CSc1cccc(CN(C)c2nc(-c3ccncc3)nc3c2CCNC3)c1', 'CCCN1C(=S)NC(c2ccccn2)C1c1ccc(C)n1-c1cccnc1', 'c1ccc(-c2nc3c(s2)CN(c2ccnc(N4CCCCC4)n2)CC3)cc1', 'CSc1cccc(Nc2cc(-c3ccncc3)nc(NC3CCCC3)n2)c1', 'CCCCN1C(=S)N[C@@H](c2ccccn2)[C@H]1c1cccn1-c1ccncc1', 'NC1=NC=C(c2sccc2-c2ccccc2)N2C[C@@H](C3CCCNC3)N=C12', 'S=C1N[C@H](c2ccccn2)[C@@H](c2ccc[nH]2)N1CCCNc1ccccc1', 'CC(C)N1C(=S)N[C@H](c2ccccn2)[C@H]1c1cccn1Cc1cccnc1', 'CC(C)n1cccc1[C@@H]1[C@H](c2ccccn2)NC(=S)N1Cc1ccncc1', 'Cc1cc(C)nc(NC(=S)N2CCN(c3cc4ccccc4cn3)CC2)c1', 'CC1(c2nnc(/N=C(\\\\CN)CC3=CC=CCC3)s2)C=Cc2cnccc2C1', 'c1cc(-c2nc3c(c(NCCc4nc5c(s4)CCCC5)n2)CCC3)ccn1', 'CCc1c(C#N)c(SCc2ccc3c(c2)CCNC3)nc(N(C)C)c1C#N', 'Cc1nc(CN2CC3CN(c4cnc(-c5ccccc5)cn4)CC3C2)cs1', 'CCN1C(=S)N[C@@H](c2ccccn2)[C@@H]1c1cc(C)n(-c2ccccn2)c1C', 'CCCCN1C(=S)N[C@@H](c2ccccn2)[C@@H]1c1cccn1-c1ccccn1', 'CN(C)c1ccc(N2C(=S)N[C@@H](c3ccccn3)[C@@H]2c2cccn2C)cc1', 'CCn1c(-c2cccc(C)c2)nn(CN(C)Cc2ccc(C#N)cc2)c1=S', 'S=c1nc2ccccc2c2n1CC(CN1CCN(c3ccccc3)CC1)N2', 'CC(C)n1cccc1[C@@H]1[C@@H](c2ccccn2)NC(=S)N1Cc1cccnc1', 'CC(C)n1ccc([C@H]2[C@H](c3ccccn3)NC(=S)N2Cc2cccnc2)c1', 'C[C@H](Nc1cc(-c2csc(N3C[C@@H]4C[C@H]3CN4)n2)ccn1)c1ccccc1', 'Cc1ncc2c(n1)C1(CCCN(Cc3cnc(-c4cccs4)nc3)C1)CC2', 'CCN1C(=S)N[C@@H](c2ccccn2)[C@H]1c1cc(C)n(-c2cccnc2)c1C', 'Cc1sc2nc(CCN)nc(N(C)Cc3cccc4cccnc34)c2c1C', 'C[C@@H]1CCCC[C@H]1Nc1nc2ccc(Cn3cnc4cccnc43)cc2s1', 'Cc1cc(C)nc(NC(=S)N2CCN(c3ccc4ccccc4n3)CC2)c1', 'CC(C)n1cc(C2c3[nH]c4ccccc4c3CCN2Cc2nccs2)cn1', 'CCN1C(=S)N[C@H](c2ccccn2)[C@H]1c1cc(C)n(-c2ccccn2)c1C', 'CC(C)n1ccc([C@H]2[C@@H](c3ccccn3)NC(=S)N2Cc2ccncc2)c1', 'CC(C)N1C(=S)N[C@@H](c2ccccn2)[C@H]1c1cccn1Cc1ccccn1', 'Cc1nc2ccc(C3=CCN4C=C(N5CCN[C@@H](C)C5)C=CC4=N3)cc2s1', 'CCCCNC(=S)NCc1ccc(-c2cccc(-c3ccccn3)n2)nc1', 'Cc1sc2c(c1C)C(c1ccc(C(C)C)cn1)=NC1(CC1)c1nnc(C)n1-2', 'CC(C)CN1C(=S)N[C@H](c2ccccn2)[C@@H]1c1cccn1-c1ccccn1', 'CC(C)n1ccc([C@@H]2[C@H](c3ccccn3)NC(=S)N2Cc2cccnc2)c1', 'Cn1nc(C(CNSc2ccc3cc[nH]c3c2)N2CCC2)c2ccccc21', 'c1ccn2c(C(CNSc3ccc4cc[nH]c4c3)N3CCCC3)cnc2c1', 'CN1CCNCC1.Sc1ccc2nc(-c3ccc4cccnc4c3)[nH]c2c1', 'C=C(NCC)Nc1cccc(-c2ccc3c(/N=C/N=C/N)c(C)sc3c2)c1', 'CC(C)n1ccc([C@@H]2[C@@H](c3ccccn3)NC(=S)N2Cc2cccnc2)c1', 'CCN1C(=S)N[C@H](c2ccccn2)[C@H]1c1cc(C)n(-c2cccnc2)c1C', 'CSc1ncnc2c1ncn2CCCN[C@H](C)c1cccc2ccccc12', 'CCCCNC(=S)NN=Cc1cn(-c2ccccc2)nc1-c1ccccc1', 'CCSC(C)(C)c1cccc2c(-c3nc(C)nc(C)n3)cn3ccnc3c12', 'Cc1ncc2ccc(N3CCN([C@@H](C)c4ccc5scnc5c4)CC3)cn12', 'Cc1cnc2c(c1)ncn2Cc1ccc2nc(NC3CCCCC3)sc2c1', 'Cc1ccc(C2C(c3ccccn3)NC(=S)N2C(C)C)n1-c1cccnc1', 'CC(C)n1cccc1[C@H]1[C@@H](c2ccccn2)NC(=S)N1Cc1cccnc1', 'C=CC/N=c1/s/c(=N\\\\c2ccc(C)cc2)c(Nc2ccc(C)cc2)nn1C', 'c1csc(-c2ncc3c(n2)CCN(Cc2ccc(N4CCCC4)nc2)C3)c1', 'Cc1nc(N2CCN(Cc3ccc(C#N)cc3)C[C@@H]2C)c2c(C)csc2n1', 'CCC(C)(C)[C@H]1CCc2c(sc3ncn4nc(-c5ccncc5)nc4c23)C1', 'Cc1cc([C@@H]2[C@H](c3ccccn3)NC(=S)N2Cc2ccccn2)c(C)n1C', 'CC.Cc1nc(C)nc(Nc2ccc(-c3nc4ccccc4s3)c(C)c2)n1', 'Cc1cc([C@H]2[C@H](c3ccccn3)NC(=S)N2Cc2cccnc2)c(C)n1C', 'Cc1ccc(N2CCN(C3=NCC(=CC=Cc4ccccc4)S3)CC2)nn1', 'CCCc1nc2ccccn2c1-c1csc(Nc2ccc(N(C)C)cc2)n1', 'Cc1ccccc1-c1cc(CCNCCc2cccs2)c2c(N)[nH]nc2n1', 'Nc1ncc(-c2ccc(-c3ccccc3SN3CCCCCC3)cn2)cn1', 'CC(C)(C)c1ccc(-c2n[nH]c(=S)n2N=C[C@@H]2CNc3ccccc32)cc1', 'CCCN1C(=S)NC(c2ccccn2)C1c1cccn1Cc1ccccn1', 'Nc1nc2c(c(NC3=CC=CC(Sc4ccncc4)C=C3)n1)CCCCC2', 'CCCN1C(=S)N[C@H](c2ccccn2)[C@H]1c1cccn1Cc1cccnc1', 'c1ccc(CSc2cncc(N3CCC(CNc4ccccn4)C3)n2)cc1', 'CC(C)n1ccc(C2C(c3ccccn3)NC(=S)N2Cc2cccnc2)c1', 'CC1=CSC(n2cc(CCCc3ccccc3)nn2)N1Cc1cccnc1', 'Cc1ccc2nc(CN3CCN(Cc4nc5ccccc5s4)CC3)cn2c1', 'Cc1nc2c(N)nc3ccccc3c2n1CCCCNSc1ccccc1', 'CCn1cc(CN2CCCC2c2ncn3cc(-c4cccs4)ccc23)cn1', 'Cc1ccc([C@@H]2[C@H](c3ccccn3)NC(=S)N2c2ccc(N(C)C)cc2)[nH]1', 'CCCCN1C(=S)N[C@H](c2ccccn2)[C@H]1c1cccn1-c1ccccn1', 'Cn1c(SCc2cn3ccccc3n2)nnc1-c1ccc(C(C)(C)C)cc1', 'NC1=NC=C(c2cc(-c3ccccc3)cs2)N2CC([C@H]3CCCNC3)N=C12', '[H]/N=C/c1c(N)ccc2c1C1CCCC[C@H]1[C@@H](c1ccc3nc(N)sc3c1)N2', 'C#Cc1cnc(-c2ccc([C@H](C)CCC)s2)nc1Nc1cc(C2CC2)[nH]n1', 'Cc1cccc2ncnc(N3CCN(C(=S)NCc4ccccc4)CC3)c12', 'Nc1ncc(C2=C(c3ccccc3)CCS2)n2cc([C@H]3CCCNC3)nc12', 'CC(C)CN1C(=S)N[C@@H](c2ccccn2)[C@@H]1c1cccn1-c1cccnc1', 'CCNC(=S)N1CCC2(CCn3nc(-c4cnc5ccccc5c4)cc32)C1', 'Cc1ccsc1[C@@H](Cn1cnc(-c2ccccc2)c1-c1ncc[nH]1)N(C)C', 'Cc1ccc(C2C(c3ccccn3)NC(=S)N2c2ccc(N(C)C)cc2)[nH]1', 'Cc1cc(C)n2ncc(CN(Cc3ccccc3)Cc3scnc3C)c2n1', 'N#C/C(C(=S)NCc1ccccc1)=C(/N)N1CCN(c2ccccc2)CC1', 'C[C@@H]([C@@H](c1ccc(Nc2nc3ccccc3s2)cc1)n1ccnc1)N(C)C', '[H]/N=C(\\\\N)c1ccc2c(c1C#N)N(C(C)CN1CCCC1)c1ccccc1S2', 'Cc1cc([C@@H]2[C@H](c3ccccn3)NC(=S)N2Cc2ccncc2)c(C)n1C', 'CCCC(Sc1ncc(-c2ccccc2)[nH]1)c1cn2c(C)cc(C)nc2n1', 'c1ccc2ncc(Nc3ncnc4c3CN(CC3CCSCC3)C4)cc2c1', 'CCCN1C(=S)N[C@H](c2ccccn2)[C@@H]1c1cccn1Cc1ccccn1', 'CC(C)n1cccc1[C@H]1[C@H](c2ccccn2)NC(=S)N1Cc1cccnc1', 'c1ccc(-c2csc(CN3CCN(c4ncnc5c4CCC5)CC3)n2)cc1', 'CC(Nc1cc(-c2csc(N3C[C@@H]4C[C@H]3CN4)n2)ccn1)c1ccccc1', 'CC(C)n1ccc([C@@H]2[C@H](c3ccccn3)NC(=S)N2Cc2ccncc2)c1', 'CCCN1C(=S)N[C@@H](c2ccccn2)[C@@H]1c1cccn1Cc1cccnc1', 'Cc1sc2c(c1C)C(c1ccc(C(C)C)nc1)=NC1(CC1)c1nnc(C)n1-2', 'Cc1ccc2ccccc2c1CSc1nc(N)nc2c1ncn2CC(C)C', 'Cc1nc2cc(C3=CCN4C=C(N5CCCNCC5)C=CC4=N3)ccc2s1', 'CCSC(C)/C=C/NNc1nnc(-c2ccccc2)c(-c2ccccc2)n1', 'Cc1ccc(Nc2cc3c4c(c2)[C@@H]2CNCC[C@@H]2N4CCSC3)c(C#N)n1', 'CCCC(C)Nc1ncc(C)c(/C(C#N)=C2/NC(c3ccccc3)=CS2)n1', 'Cc1ccc(-n2c(C)cc([C@@H]3[C@@H](c4ccccn4)NC(=S)N3C)c2C)nc1', 'c1cnc2c(c1)ncn2Cc1ccc2nc(NCC3CCCCC3)sc2c1', 'CC(C)CN1C(=S)N[C@H](c2ccccn2)[C@H]1c1cccn1-c1cccnc1', 'CCCC(C)Nc1ncc(C)c(C(C#N)=C2NC(c3ccccc3)=CS2)n1', 'CC1CCN(Cc2ccc3nc(Nc4nc5ccccc5[nH]4)sc3c2)CC1', 'CCCn1c(SCc2cn3cccc(C)c3n2)nnc1-c1cccc(C)c1', 'C=C1CN(c2nc(-c3ccncc3)nc3sc4c(c23)CCCC4)C[C@H](C)N1', 'Cc1c(C#N)sc2nc(Cc3ccccc3)nc(N3CCC(C)(N)CC3)c12', 'CC1CCCC(C)N1Cc1cc2c(N)nc(-c3cccc(C#N)c3)nc2s1', 'c1ccc(N2CCN(CCCn3nc4sc5ccccc5c4n3)CC2)cc1', 'Cc1ccc(-c2nc(N3CCC(C)(N)CC3)c3c(C)c(C#N)sc3n2)cc1', 'CCN(CCC#N)Cn1nc(-c2ccccc2)n(-c2cccc(C)c2)c1=S', 'CCCCN1C(=S)NC(c2ccccn2)C1c1cccn1-c1ccccn1', 'CC1CCc2c(sc3ncnc(NCCCc4nc5ccccc5[nH]4)c23)C1', 'CC(C)c1ccccc1-n1c(SCCCCC#N)nnc1-c1cccnc1', 'CN(C)CCc1c[nH]c2ccc(-c3nc(CNc4ccccn4)cs3)cc12', 'Cc1ccnc(-n2c(C)cc(C3C(c4ccccn4)NC(=S)N3C)c2C)c1', 'Cc1ccc([C@@H]2[C@@H](c3ccccn3)NC(=S)N2C(C)C)n1-c1cccnc1', 'CSC1=NN2C(c3ccc(C)cc3C)CC(c3ccccn3)NC2C1C#N', 'CC(C)CN1C(=S)N[C@@H](c2ccccn2)[C@H]1c1cccn1-c1cccnc1', 'CN(C)c1ccc(-c2nn3c(-c4ccc(C(C)(C)C)cc4)nnc3s2)cc1', 'CC(C)n1ccc(C2C(c3ccccn3)NC(=S)N2Cc2ccncc2)c1', 'CN(c1ccc2nc(-c3ccc4nn(C)cc4c3)sc2c1)C1CCNCC1', 'Cc1sc2ncnc(NC3CCN(Cc4ccccc4C#N)CC3)c2c1C', 'Cc1ccccc1NC(=S)N/N=C\\\\c1c(C)nn(Cc2ccccc2)c1C', 'c1ccc(CSc2cncc(NCc3ccnc(N4CCCC4)c3)n2)cc1', 'Nc1nc(CN2CCC=C(c3cccnc3)C2)nc2sc3c(c12)CCCC3', 'CC(C)c1ccc(-c2csc3ncnc(NCCCn4ccnc4)c23)cc1', 'Cc1ncsc1CN1CC[C@]2(C1)CN(Cc1cccnc1)c1cccnc12', 'CSN1CCC(c2c[nH]c3ncc4ccc(-c5cnn(C)c5)cc4c23)CC1', 'Cc1cc([C@@H]2[C@@H](c3ccccn3)NC(=S)N2C)c(C)n1Cc1ccncc1', 'C[C@@H]([C@H](c1ccc(Nc2nc3ccccc3s2)cc1)n1ccnc1)N(C)C', 'Cc1c(-c2ccc3cc(CCN4CCCC4C)ccc3n2)sc2ncnn12', 'Cc1nc2sc3c(c2c2nc(-c4ccc(N(C)C)cc4)nn12)CC(C)CC3', 'CC1(C)Cc2nnc(C3(c4cccc(-c5cccnn5)c4)CC3)n2CCS1', 'CCc1ccc(-c2cc(CC)c(N(C)c3cc4c(cn3)ncn4C)cn2)s1', 'Cc1c(C#N)sc2nc(CCc3ccccc3)nc(N3CCN(C)CC3)c12', 'CC([C@H](c1ccc(Nc2nc3ccccc3s2)cc1)n1ccnc1)N(C)C', 'CC(C)N1C(=S)NC(c2ccccn2)C1c1cccn1Cc1cccnc1', 'Cc1cnc(C#N)c(Nc2cc3c4c(c2)[C@@H]2CNCC[C@@H]2N4CCSC3)c1', 'C=Nc1cc(-c2ccc3ncc(N4CCSCC4)nc3c2)ccc1CCN', 'Cc1nc(CN2CC3CN(c4ccc(-c5ccccc5)nn4)CC3C2)cs1', 'c1ccc(CSc2cncc(N3CCN(Cc4ccccn4)CC3)n2)cc1', 'Cc1c(-c2cccc3c2N=C(Nc2ccc(C(C)C)cc2)NS3)cnn1C', 'CCN1C(c2ccc(C)cc2)=CS/C1=C(\\\\C#N)c1nnc2n1CCCCC2', 'S=C(NCc1ccccc1)Nc1cccc(-c2nnc3n2CCCCC3)c1', 'Cc1ccccc1/C=C/c1nc(=S)n(CN(Cc2cccnc2)C2CC2)[nH]1', 'CSC1=C(C#N)C2NC(c3ccccn3)CC(c3ccc(C)cc3C)N2N1', 'c1ccc(-c2ccc(N3CCN(Cc4csc(C5CC5)n4)CC3)nn2)cc1', 'Cc1nn(-c2ccccc2)c(C)c1/C=N\\\\N(C)C(=S)NCc1ccccc1', 'CC(C)N1C(=S)N[C@@H](c2ccccn2)[C@H]1c1cccn1Cc1cccnc1', 'Cc1nn(Cc2ccccc2)c(C)c1/C=N\\\\NC(=S)NCc1ccccc1', 'Cc1ccc(-n2c(C)cc([C@H]3[C@@H](c4ccccn4)NC(=S)N3C)c2C)nc1', 'CCN(CC)c1ccc(-c2n[nH]c(=S)n2N=CC=Cc2ccccc2)cc1', 'CCC/C=C1\\\\CCN(C)c2ncc(-c3sc(-c4cccnc4)nc3C)nc21', 'CCN(Cc1ccccc1)c1ccc(/C=N\\\\n2c(C3CC3)n[nH]c2=S)cc1', 'CCCCN1C(=S)N[C@H](c2ccccn2)[C@@H]1c1cccn1-c1ccncc1', 'Cc1cc([C@H]2[C@H](c3ccccn3)NC(=S)N2Cc2ccncc2)c(C)n1C', 'CCn1c(-c2ccncc2)nn(CN2CC=C(c3ccccc3)CC2)c1=S', '[H]/N=C/c1c(N)ccc2c1C1CCCCC1[C@@H](c1ccc3nc(N)sc3c1)N2', 'N/C(=N\\\\c1ccccc1)N(c1ccccc1)c1nc(C2CCCCC2)ns1', '[H]/N=C/c1c(N)ccc2c1C1C3CCC(C3)C1C(c1ccc(N)c(N=S)c1)N2', 'Cc1cc(C)nc(NC(=S)N2CCN(c3ccc4cnccc4c3)CC2)c1', 'Cc1cccc(NC(=S)Nc2cccc(-c3nnc4n3CCCCC4)c2)c1', 'Cc1ccc(Sc2ncnc(N3CCN(c4ccccc4)CC3)c2N)cc1', 'CCCCN1C(=S)N[C@@H](c2ccccn2)[C@H]1c1cccn1-c1ccccn1', 'c1ccc(CSc2cncc(N3CCN(Cc4cccnc4)CC3)n2)cc1', 'CCn1c(-c2cccc(C)c2)nn(CN(C)Cc2cccc(C#N)c2)c1=S', 'CC(C)CN1C(=S)NC(c2ccccn2)C1c1cccn1-c1ccncc1', 'CN(CCCN(C)c1nc2ccc(N)cc2s1)c1ccc2ccccc2n1', 'Cc1ccc(-n2c(C)cc(C3C(c4ccccn4)NC(=S)N3C)c2C)nc1', 'CCCC(C)Nc1ncc(C)c(C(C#N)c2nc(-c3ccccc3)cs2)n1', 'S=C(NCc1ccccc1)Nc1n[nH]c2c1CCN(Cc1ccccc1)C2', 'C=Nc1nc(C2=CCCN=C2)ccc1SCc1ccc(N2CCCC2)nc1', 'CSc1ccccc1Nc1cc(-c2cccnc2)nc(NC2CCCC2)n1', 'C[C@@H]1CCC[C@H](C)N1Cc1cc2c(N)nc(-c3cccc(C#N)c3)nc2s1', 'c1ccc(-c2nc3c(c(N4CCN(Cc5nccs5)CC4)n2)CCC3)cc1', '[C-]#[N+]c1ccccc1CN1CCC(Nc2ncnc3sc(C)c(C)c23)CC1', 'Cc1nc(-c2cccnc2)sc1-c1ccc2c(n1)/C(=N/NC(C)C)CCC2', 'Cc1sc(Nc2nc3ccccc3nc2N2CCC(C)CC2)c(C#N)c1C', 'Cc1nc(-c2cccnc2)sc1-c1ccc2c(n1)C(=NNC(C)C)CCC2', 'CCCc1nc(SC2=CN(Cc3ccccc3)N(C)C2)nc2cnccc12', 'CCCCN1C(=S)N[C@H](c2ccccn2)[C@H]1c1cccn1-c1cccnc1', 'CC(C)n1ccc([C@H]2[C@@H](c3ccccn3)NC(=S)N2Cc2cccnc2)c1', 'Cc1sc(Nc2nc3ccccc3nc2N2CCCCCC2)c(C#N)c1C', 'CN1CCN(c2cccc3nc(C(N)Cc4cccc(C#N)c4)sc23)CC1', 'CCCN1C(=S)NC(c2ccccn2)C1c1cccn1-c1ccc(C)cn1', 'Cc1ccc([C@H](Cc2ccsc2)NCc2cnn3c(C)cc(C)nc23)nc1', 'Cc1nn(C)cc1-c1cccc2c1N=C(Nc1cccc(C(C)C)c1)NS2', 'CN1CCCc2cc(C=NNc3ncnc4sc5c(c34)CCCC5)ccc21', 'C[C@H](CNCCc1c[nH]c2ncccc12)NSc1ccc2cnccc2c1', 'CC(C)(C)c1ccc(-c2n[nH]c(=S)n2N=C[C@H]2CNc3ccccc32)cc1', 'CCCCN1C(=S)NC(c2ccccn2)C1c1cccn1-c1cccnc1', 'CC(C)n1ccc([C@H]2[C@@H](c3ccccn3)NC(=S)N2Cc2ccccn2)c1', 'CCCN1C(=S)N[C@H](c2ccccn2)[C@@H]1c1cccn1Cc1cccnc1', 'CN1CCN(Cc2nnc(N=C(c3ccccc3)c3ccccc3)s2)CC1', 'CS/C(=N\\\\c1ccccc1)NN(Cc1ccccc1)c1nc(C)cc(C)n1', 'S=C(CCc1ccccc1)N1CCN(c2ncnc3[nH]ccc23)CC12CC2', 'C=C/N=C(C=C)/C(=N\\\\NC(=S)N(CC)Cc1ccccc1)c1ccccn1', 'CSc1cccc(Nc2cc(-c3cccnc3)nc(NC3CCCC3)n2)c1', 'CCC(CC)C(c1ccc(Nc2nc3ccccc3s2)cc1)n1cnnc1', 'c1ccc(CSc2cncc(NCc3ccc(N4CCCC4)nc3)n2)cc1', 'CC1=CC(=C(C=C1C2CCNCC2)OC(C)C)NC3=NC=C(C(=N3)NC4=CC=CC=C4S(=O)(=O)C(C)C)Cl', 'CCCOc1ccc(NC(=O)CC2C(=O)N(c3cccc(Cl)c3)C(=S)N2CCCN2CCN(C)CC2)cc1', 'Cc1c(C2CCNCC2)ccc(Nc2ncc(Cl)c(Nc3ccccc3S(=O)(=O)C(C)C)n2)c1OC(C)C', 'CC(C)Oc1cc(C2CCN(C)CC2)cnc1Nc1cc(Nc2ccccc2S(=O)(=O)C(C)C)c(Cl)cn1', 'CCC(C)CC1COC2(CCC2)C1.COc1cnc(Cl)cc1-c1cc(C)ncc1C(=O)Nc1nnc(C)s1', 'Cc1cc(OC(C)C)c(Nc2ncc(Cl)c(Nc3ccccc3S(=O)(=O)C(C)C)n2)cc1C1CCNCC1', 'Cc1cc(Nc2nc(Nc3ccccc3S(=O)(=O)C(C)C)ncc2Cl)c(OC(C)C)cc1C1CCNCC1', 'Cc1cc(Nc2ncc(Cl)c(Nc3ccccc3S(=O)(=O)C(C)C)n2)c(OC(C)C)cc1[C@H]1CCCCN1', 'CCOc1cc2c(cc1Nc1ncc(Cl)c(Nc3ccccc3S(=O)(=O)C(C)C)n1)CN(CC)CC2(C)C', 'O=C(N1CC(c2ccccc2)C(c2ccc(Cl)cc2)=N1)N(CCN1CCCCC1)S(=O)(=O)N1CCCCC1', 'Cc1nc(C2CCC(N3C[C@H](c4cn(CCCC(=O)O)nn4)OC[C@@H]3Cc3ccc(Cl)cc3)CC2)sc1C', 'CCOc1ccc(NC(=O)C[C@@H]2C(=O)N(c3ccc(Cl)cc3)C(=S)N2CCCN2CCN(CC)CC2)cc1', 'CCOC(=O)Cn1cc([C@H]2CN(C3CCC(c4nc(C)c(C)s4)CC3)[C@@H](Cc3ccc(Cl)cc3)CO2)nn1', 'C=N/C(=N/C1CCOCC1)N/C(=C(\\\\C)Cl)c1cc2c(s1)CN([C@H](C)C(=O)N[C@H](C)c1cccc(C)c1)C2O', 'CCOc1ccc(N2C(=O)C(CC(=O)Nc3ccc(Cl)cc3)N(CCCN3CCN(CC)CC3)C2=S)cc1', 'CC(c1ncc[nH]1)N(CCc1ccc(Cl)cc1)C(=O)C1(Cc2ccccc2)CCN(S(=O)(=O)N(C)C)CC1', 'CCCOc1ccc(NC(=O)C[C@@H]2C(=O)N(c3ccc(Cl)cc3)C(=S)N2CCCN2CCN(C)CC2)cc1', 'CCOc1ccc(NC(=O)C[C@H]2C(=O)N(c3ccc(Cl)cc3)C(=S)N2CCCN2CCN(CC)CC2)cc1', 'O=C(NCCCNC1CCCCC1)c1ncn(CCCc2ccccc2)c1NS(=O)(=O)c1ccc(Cl)cc1', 'Cc1ccc(C)c(N2CCN(CCCNC(=O)CS(=O)(=O)Cc3nc(-c4ccccc4Cl)[nH]c3C)CC2)c1', 'CC(C)Oc1cc(C2CCCCN2C)ccc1Nc1ncc(Cl)c(Nc2ccccc2S(=O)(=O)C(C)C)n1', 'CCOC1=C(Nc2ncc(Cl)c(NC3=C(S(=O)(=O)C(C)C)CC=CC=C3)n2)C=C2CCNC(C)(C)C(=C1)C2', 'CCCOc1ccc(NC(=O)C[C@H]2C(=O)N(c3cccc(Cl)c3)C(=S)N2CCCN2CCN(C)CC2)cc1', 'CN(CCC(C)(C)O)Cc1ccc(N2C[C@H](N3N=C(CCc4ccc(Cl)cc4)SC3C(N)=O)CC2=O)cc1', 'Cc1cc(Nc2ncc(Cl)c(N(O)c3ccccc3SC(C)C)n2)c(OC(C)C)cc1CN1CCOCC1', 'CCCOc1ccc(NC(=O)CC2C(=O)N(c3ccc(Cl)cc3)C(=S)N2CCCN2CCN(C)CC2)cc1', 'CC1SCc2ncnc(N3CCN(C(=O)C(CC4(NC(=O)OC(C)(C)C)CC4)c4ccc(Cl)cc4)CC3)c21', 'CC/C=N/CCc1cc(Nc2ncc(Cl)c(Nc3ccccc3S(=O)(=O)C(C)C)n2)c(OC)cc1CCC', 'CCN1C(C)Cc2cc(OC)c(Nc3ncc(Cl)c(Nc4ccccc4S(=O)(=O)C(C)C)n3)cc2C1(C)C', 'COc1ccc(CCN(C)c2cc(Cl)nc(SCC(=O)N(CCN(C)C)Cc3ccccc3)n2)cc1OC', 'CCCOc1ccc(NC(=O)C[C@@H]2C(=O)N(c3cccc(Cl)c3)C(=S)N2CCCN2CCN(C)CC2)cc1', 'COc1cc2c(cc1Nc1ncc(Cl)c(Nc3ccccc3S(=O)(=O)C(C)C)n1)CCC(N(C)C)C2(C)C', 'CCc1cc(N2CCOCC2)ccc1Cc1ncc(Cl)c(Nc2ccccc2S(=O)(=O)NC(CC)CC)n1', 'Cc1ccc(NC(=O)C(C)Sc2nc3ccccc3n2CCN2CCN(C(=O)OC(C)(C)C)CC2)c(Cl)c1', 'CC(C)(C)CC(C)(C)c1ccc(O)c(S(=O)(=O)Nc2cccc(-c3nc4c(Cl)c(C(C)(C)C)[nH]n4n3)c2)c1', 'Cc1cc(Nc2ncc(Cl)c(Nc3ccccc3S(=O)(=O)C(C)C)n2)c(OC(C)C)cc1C1CCCNC1', 'CCOc1ccc(N2C(=O)[C@@H](CC(=O)Nc3ccc(Cl)cc3)N(CCCN3CCN(CC)CC3)C2=S)cc1', 'Cc1cc(Nc2ncc(Cl)c(Nc3ccccc3S(=O)(=O)C(C)C)n2)c(OC(C)C)cc1C1CCCCN1', 'CCOc1ccc(N2C(=O)[C@H](CC(=O)Nc3ccc(Cl)cc3)N(CCCN3CCN(CC)CC3)C2=S)cc1', 'CC(C)c1ccccc1OC(C)c1nnc(SCC(=O)Nc2ccc(N3CCOCC3)c(Cl)c2)n1C(C)C', 'CCCC1(CC)CNCc2cc(Nc3ncc(Cl)c(Nc4ccccc4S(=O)(=O)C(C)C)n3)c(OC)cc21', 'CC1SCc2ncnc(N3CCN(C(=O)C(CN(C(=O)OC(C)(C)C)C4CC4)c4ccc(Cl)cc4)CC3)c21', 'Cc1cc(N(c2ncc(Cl)c(N)n2)c2ccccc2S(=O)(=O)C(C)C)c(OC(C)C)cc1C1CCNCC1', 'N#Cc1ccc(N2N=C(N3CCC4(CC3)CC(C(=O)N3CCS(=O)(=O)CC3)C4)CC2C2CCCC2)cc1Cl', 'C.CC(C)(O)CCNCc1ccc(N2C[C@H](NC(=O)c3nnc(CCc4ccc(Cl)cc4)s3)CC2=O)cc1', 'CCCN1CCC(N(Cc2cccc(-c3ccnc(NCCc4ccc(O)c(Cl)c4)n3)c2)S(C)(=O)=O)CC1', 'Cc1cc(S(=O)(=O)C2CCC3(CC2)CN(C(C)C)C3)ccc1Nc1ncc2cc(Cl)c(=O)n(C(C)C)c2n1', 'CN(C)S(=O)(=O)N1CCC(Cc2ccccc2)(C(=O)N(CCc2ccc(Cl)cc2)Cc2nccn2C)CC1', 'CCOc1ccc(NC(=O)CC2C(=O)N(c3ccc(Cl)cc3)C(=S)N2CCCN2CCN(CC)CC2)cc1', 'Cc1cc(-c2ncc(Cl)c(-c3ccccc3S(=O)(=O)C(C)C)n2)c2c(c1C1CCN(C)CC1)CCO2.NN', 'C[C@H]1SCc2ncnc(N3CCN(C(=O)C4(c5cccc(Cl)c5)CCN(C(=O)OC(C)(C)C)CC4)CC3)c21', 'CCc1sc(CCc2cc(N3CCOCC3)cc(NCc3cc(Cl)cc(NC(=O)OC(C)C)c3)n2)nc1C', 'CC1SCc2ncnc(N3CCN(C(=O)C4(c5cccc(Cl)c5)CCN(C(=O)OC(C)(C)C)CC4)CC3)c21', 'Cc1cc(-c2ncc(Cl)c(-c3ccccc3S(=O)(=O)C(C)C)n2)c2c(c1C1CCNCC1)CC(C)O2.NN', 'CC(C)Oc1cc(C2CCN(C)CC2)ccc1Nc1ncc(Cl)c(Nc2ccccc2S(=O)(=O)C(C)C)n1', 'CC(C)c1ccc(OC(C)c2nnc(SCC(=O)Nc3ccc(N4CCOCC4)c(Cl)c3)n2C(C)C)cc1', 'Cc1cc(Nc2ncc(Cl)c(Nc3ccccc3S(=O)(=O)C(C)C)n2)c(OC(C)C)cc1[C@@H]1CCCCN1', 'C.CCN(CC)C(=O)OCN1C(=O)Cc2cc(CCN3CCN(c4nsc5ccccc45)CC3)c(Cl)cc21', 'CCN1CCC(c2cc(OC)c(Nc3ncc(Cl)c(Nc4ccccc4S(=O)(=O)C(C)C)n3)cc2C)CC1', 'COc1cc(N2CCC(N(C)C)CC2)ccc1Cc1ncc(Cl)c(Cc2ccccc2N(C)S(C)(=O)=O)n1', 'CCCOc1ccc(NC(=O)C[C@H]2C(=O)N(c3ccc(Cl)cc3)C(=S)N2CCCN2CCN(C)CC2)cc1', 'CCOc1cc(C2CCN(C)CC2)c(C)cc1Nc1ncc(Cl)c(Nc2ccccc2S(=O)(=O)C(C)C)n1', 'Cn1c(Nc2cc(CNC(=O)C3(C)CCCCC3)ccc2Cl)nc2cc(S(=O)(=O)NC3CCCC3)ccc21', 'CC1=NN(C(=C1)NC(=O)C2CCCC2)C3=NC(=CS3)C4=CC5=C(C=C4)OCO5', 'C=CCS(=O)(=O)Nc1ccc(-c2cc(N(C=O)C3CC3)nc3[nH]ccc23)cc1', 'O=C(/C=C/c1cnc2ccccc2n1)NCCS(=O)(=O)NCc1ccccc1', 'CC1Cc2cc(C(=O)Nc3ccc(-n4ccnc4)cc3)ccc2N1S(C)(=O)=O', 'CCNC(=O)NC(=O)[C@@H](Sc1nnc(-c2cccc(C)c2)o1)c1ccccc1', 'CC(Sc1nc2ccccc2c(=O)n1C)C(=O)NC(=O)NCc1ccccc1', 'Cc1noc(C2CCN(C(=O)c3ccc(NC(=O)c4cccs4)cc3)CC2)n1', 'Cc1nn(-c2ccccc2)c(C)c1NC(=O)C(C)Sc1ccc([N+](=O)[O-])cc1', 'CC(C)n1nccc1NC(=O)c1cccnc1Sc1ccc2c(c1)OCCO2', 'CN(C)C(=O)c1cccc(S(=O)(=O)N(C)c2ccc(-c3ccccc3)nn2)c1', 'CNC(=O)C1CN(Cc2nc3sc4c(c3c(=O)[nH]2)CCC4)c2ccccc2O1', 'Nc1cccc(-c2cc3c(s2)CCOC32CCN(C(=O)c3cnco3)CC2)n1', 'CC(=O)N[C@H](C)c1ccc(-c2csc(NC(=O)c3cc(C4CC4)on3)n2)cc1', 'O=C(CCn1cnc2sccc2c1=O)NCc1ccc(N2CCCC2=O)cc1', 'CCCCOc1ccc(/C=N\\\\Nc2nc(-c3cccc([N+](=O)[O-])c3)cs2)cc1', 'CCc1[nH]c(N)nc1-c1cn(S(=O)(=O)c2ccccc2)c2ccc(OC)cc12', 'Cc1nc(C(C)NC(=O)c2cc(C3CC3)nn2-c2ccccc2)sc1C(=O)O', 'COc1ccc(N2C(=O)C[C@H](SC(N)=N/N=C(/C)c3ccccc3)C2=O)cc1', 'Cc1ccc(C(N)=O)cc1-c1ccc2c(N3CCS(=O)(=O)CC3)nncc2c1', 'CC(=O)Nc1nc(N2CCS(=O)(=O)c3ccccc3C2)nc2ccc(C)cc12', 'CCNC(=O)c1ccc(NC(=O)c2sc3nc4n(c(=O)c3c2C)CCC4)cc1', 'COCc1nnc(C(=O)Nc2ccc(C(=O)NCc3ccc(C)cc3)cc2)s1', 'CC/N=c1\\\\scc(-c2ccc(O)c(C(N)=O)c2)n1N=Cc1ccc(OC)cc1', 'Cn1ccc2cc([C@@H](O)CNS(=O)(=O)c3ccc(-n4cccn4)cc3)ccc21', 'COCCn1c(N)c(S(=O)(=O)c2cccc(C)c2)c2nc3ccccc3nc21', 'O=C1CCc2cc(S(=O)(=O)N3CCC(n4cnc5ccccc54)C3)ccc2N1', 'CCCCOc1ccc(C=NNc2nc(-c3cccc([N+](=O)[O-])c3)cs2)cc1', 'Cc1cc(C)nc(Sc2ccc(NC(=O)CN(C)C(=O)c3ccco3)cc2)n1', 'CC(=O)NCc1ccc(-c2csc(NC(=O)c3ccc4c(n3)CCCC4)n2)o1', 'Cc1nnc(SCCC(=O)NCc2ccc3c(c2)OCO3)n1-c1ccccc1', 'COc1ccccc1NC(=O)CC1S/C(=N\\\\N=C(/C)c2ccccc2)NC1=O', 'CCOCc1cn(-c2cccc(S(=O)(=O)Nc3cccc4cnccc34)c2)[nH]1', 'O=C(COc1ccc(/C=N/Nc2nc3ccccc3s2)cc1)N1CCOCC1', 'COc1ccc(-c2nc(NC(=O)c3ccnc(NC(C)=O)c3)sc2C)cc1C', 'C=CCOc1cccc(NC(=S)NCc2nc(-c3cccc(OC)c3)no2)c1', 'COc1ccc(C(=O)CSc2nnc(-c3ccncc3)n2C2CC2)c(OC)c1', 'Cc1nc(-c2ccc(CNC(=O)c3cc([N+](=O)[O-])ccc3N(C)C)cc2)cs1', 'O=C(NCc1ccco1)c1csc(N2CCN(CCc3ccccc3)C2=O)n1', 'Cc1ccc(C)c(-n2ccnc2SC(C)C(=O)Nc2ccccc2[N+](=O)[O-])c1', 'CCc1nnc(NC(=O)c2cc3ccccc3cc2OCC(=O)NC2CC2)s1', 'O=C(Nc1ccc(-n2ccnc2)cc1)C1CCCN1S(=O)(=O)c1ccccc1', 'COc1ccc(C(NC(=O)CSc2nc(N)cc(=O)[nH]2)c2ccccc2)cc1', 'CN(Cc1ccc2c(c1)OCCO2)C(=O)CSc1ncn(-c2ccccc2)n1', 'COc1cccc(/C=N\\\\N=C2\\\\NC(=O)C(CC(=O)Nc3ccc(C)cc3)S2)c1', 'COc1cccc2cc(-c3csc(NC(=O)c4cc(C)n(C(C)C)n4)n3)oc12', 'CNC(=O)C[C@@H]1C(=O)N(Cc2ccccc2)C(=S)N1NC(=O)c1ccccc1', 'CNc1ccc([N+](=O)[O-])cc1C(=O)Nc1nc(-c2c(C)cc(C)cc2C)cs1', 'O=[N+]([O-])c1ccc(CSc2nc(NC[C@@H]3CCCO3)c3ccccc3n2)cc1', 'COc1cc(NC(=O)CSC2=Nc3ccccc3C3CC=NN23)cc(OC)c1', 'Cc1cc(=O)c(OCc2ccccc2)cn1CC(=O)Nc1nnc(C2CC2)s1', 'CC1CCc2c(sc3ncn(CC(=O)N/N=C\\\\c4ccc(O)cc4)c(=O)c23)C1', 'CCCNC(=O)CSc1nnc(-c2ccc3c(c2)OCO3)n1-c1ccccc1', 'CCSC1=NN2C(=c3ccccc3=NC2c2cc(OC)ccc2OC)C(=O)N1', 'CCC(NC(=O)c1cnc(-c2ccccc2)nc1)c1cccc(S(N)(=O)=O)c1', 'CCOc1ccccc1NC(=O)CC1SC(=NN=Cc2ccccc2)NC1=O', 'CN(C)C(=O)COc1ccc(NC(=O)c2c[nH]c(=S)n2-c2ccccc2)cc1', 'CC1CN(c2ncc(-c3ccc4c(c3)OCO4)c(-c3nccs3)n2)CCC1O', 'COc1cccc(NC(=O)[C@@H](Sc2n[nH]c(=O)n2C2CC2)c2ccccc2)c1', 'COc1ccccc1Oc1cncc([C@H]2CCCN(C(=O)c3cscn3)C2)n1', 'CC(C)CC(=O)Nc1ccc(C(=O)CSc2nnc(-c3ccncc3)o2)cc1', 'CC(=O)Nc1cccc(NC(=O)[C@H](C)Sc2nnc(-c3ccc(C)cc3)o2)c1', 'CC(=O)Nc1ccc(Nc2ccc(NS(=O)(=O)c3ccc(C)cc3)nc2)cc1', 'CCc1ccc(Nc2nnc([C@@H](NC(=O)c3ccccc3)C(=O)OC)s2)cc1', 'CCN(CC)c1ccc([N+](=O)[O-])cc1/C=C1/S/C(=N\\\\c2ccccc2)NC1=O', 'CCC(=O)N1CCc2cc(C(=O)N(C)Cc3nc4ccsc4c(=O)[nH]3)ccc21', 'Cc1onc(-c2ccccc2)c1-c1cc(S(=O)(=O)C(C)C)c2nc(N)[nH]c2c1', 'Cc1ccc(C)c2[nH]c(=O)c(CCNC(=S)Nc3ccc([N+](=O)[O-])cc3)cc12', 'O=C(c1cc2c(s1)CCCC2)N1CCO[C@@H](c2nc(-c3ccncc3)no2)C1', 'CC1=CCC(C2CN(c3ccn4c(n3)nc3ccccc34)C2)(S(=O)(=O)O)C=C1', 'COc1ccc(-c2nc(CNC(=O)Cn3nc(C4CC4)ccc3=O)cs2)cc1', 'CC1(C)OCc2c(C(=O)Nc3ccccc3C(=O)NCc3cccs3)n[nH]c21', 'COc1ccc(C2Cn3cc(C(=O)NCCc4cccs4)nc3C(=O)N2)cc1', 'O=C(NC1CCN(C(=O)O)CC1)c1sccc1-c1ccn(-c2ccccc2)n1', 'COc1cc(NC(=O)Nc2ccccc2-c2cn3c(n2)SCC3)cc(OC)c1', 'CC1c2nc(C(=O)NCc3cccs3)cn2CCN1C(=O)c1cccc(O)c1', 'CN(C)S(=O)(=O)c1ccc(-c2cc(-c3cc4c([nH]3)CCNC4=O)ccn2)cc1', 'Cc1csc(CCCCNC(=O)c2cc(-c3ccco3)nc3onc(C)c23)n1', 'CCS(=O)(=O)c1cccc(Nc2cc(Nc3cccc(C(C)=O)c3)ncn2)c1', 'O=C(CCN1C(=O)COc2ccccc21)NCCNc1nc2ccccc2s1', 'NC(=O)[C@@H]1C[C@@H](Oc2nc3ccccc3s2)CN1C(=O)CNc1ccccc1', 'CCC(Sc1nnc(C)n2c1cc1occc12)C(=O)Nc1ccccc1OC', 'CN1CCCN(c2ccc(C(=O)Nc3ccc4ccncc4c3)cc2)S1(=O)=O', 'CC(C)CCn1c(SCc2nc(-c3ccco3)no2)nc2ccccc2c1=O', 'O=C(c1[nH]ncc1NS(=O)(=O)c1ccc(-c2ccccc2)cc1)N1CCCC1', 'CCSc1nnc2c(n1)O[C@@H](c1ccc(C)o1)N(C(=O)CC)c1ccccc1-2', 'COc1ccc(/C=C/c2nc(SCC(=O)Nc3ccccc3)n[nH]2)cc1OC', 'Cc1c(OCCN2C(=O)CCC2=O)ccnc1CSc1nc2ccccc2[nH]1', 'CCc1nc(-c2ccc(C(=O)NC3CCS(=O)(=O)c4ccccc43)cc2)n[nH]1', 'COC[C@@H](C)/N=c1\\\\scc(-c2ccccc2)n1/N=C\\\\c1ccccc1[N+](=O)[O-]', 'COc1ccccc1C(=O)N[C@H](C)C(=O)Nc1nnc(-c2ccc(C)cc2)s1', 'CC1=C(C(=O)N(C)C)[C@@H](c2cccc([N+](=O)[O-])c2)NC(=S)N1c1ccccc1', 'CC1=C(C(=O)Nc2cc(C)ccc2C)[C@H](c2ccc([N+](=O)[O-])cc2)NC(=S)N1', 'COc1cccc(C(=O)NCCc2nnc(NC(=O)c3cccc(C)c3)s2)c1', 'Cc1ccc2oc(C(=O)N3CC4CCC3CN4C(=O)c3cc(C)sn3)cc2n1', 'C=CCn1c(SCC(=O)NNC(=O)c2ccc(OC)cc2)nc2ccccc21', 'CCNC(=O)[C@@H](C)NC(=O)c1ccc2c(=O)n(-c3ccccc3)c(=S)[nH]c2c1', 'O=C(O)C1CCCN1C(=O)CCNc1ncnc2scc(-c3ccccc3)c12', 'COc1ccccc1-n1c(C)nnc1SCC(=O)Nc1cccc(C(C)=O)c1', 'COc1ccc([C@H](NC(=O)CSc2nc(N)cc(=O)[nH]2)c2ccccc2)cc1', 'CC1=C(C(=O)Nc2cc(C)ccc2C)C(c2ccc([N+](=O)[O-])cc2)NC(=S)N1', 'O=C(NC1COCC1n1nc2c(cc1=O)CSCC2)c1cc2ccccn2c1', 'CCCc1nnc(NC(=O)c2ccc(N3C(=O)C4CC=CCC4C3=O)cc2)s1', 'CCOC(=O)c1cnn(-c2nc3ccccc3s2)c1CN[C@@H](C)c1ccco1', 'CC(=O)CSC1=NN=C(c2cc(-c3ccc(N(C)C)cc3)cc([N+](=O)[O-])c2)C1', 'CC(C1CC1)n1nccc1NC(=O)CN1c2cccc3cccc(c23)S1(=O)=O', 'COc1cccc(C(=O)Nc2n[nH]c3c2CN(C(=O)Cc2cccs2)CC3)c1', 'CCOC(=O)c1csc(NC(=O)C=Cc2c(C)nn(-c3ccccc3)c2C)n1', 'C[C@@H](Nc1nc2ccccc2s1)C(=O)NNC(=O)[C@@H]1COc2ccccc2C1', 'CCN1C(=O)NC(=O)/C(=C\\\\c2cc(C)n(-c3sc(C)c(C)c3C#N)c2C)C1=O', 'C[C@@]1(NC(=O)c2cn(-c3ccccc3)nc2-c2cccnc2)CCS(=O)(=O)C1', 'CCOc1ccc(C2=NN(S(C)(=O)=O)[C@@H](c3ccc4nccnc4c3)C2)cc1', 'Cc1ccc(NC(=O)C2CC(=O)NC(=NNC(=O)c3ccc(C)cc3)S2)cc1', 'COc1cc(-c2nn3c(Cc4ccccc4C)nnc3s2)cc(OC)c1OC', 'Cc1c(NC(=S)NC(=O)COc2ccccc2)c(=O)n(-c2ccccc2)n1C', 'COc1cccc(CNC(=O)c2cc(C(=O)NCc3ccc(C)s3)ncn2)c1', 'CC(C)(C(=O)Nc1ccc(S(=O)(=O)Nc2ncccn2)cc1)c1ccccc1', 'COc1ccc(Oc2cc(C)nc(C3CCCN3C(=O)c3cscn3)n2)cc1', 'O=C(NCc1ccc(S(=O)(=O)N2CC3CC2C3)cc1)c1ccc2nccn2c1', 'O=C(Nc1sccc1C(=O)NC1CC1)C1=NN(Cc2ccccc2)C(=O)CC1', 'COc1cccc(OCc2nnc3n2N(C(=O)c2cccc(C)c2)CCS3)c1', 'O=C(CCc1nc(-c2ccsc2)no1)Nc1ccc(C(=O)N2CCCC2)cc1', '[H]/N=C1\\\\SC(=Cc2cc3cc(C)ccc3nc2N2CCOCC2)C(=O)N1C(C)=O', 'O=C(NC[C@H]1[C@H]2CN(c3nncs3)C[C@]23CC[C@H]1O3)c1cc2ccccc2o1', 'CCOc1ccccc1C(=O)Nc1nn(C)c2c1[C@@H](c1cccs1)CC(=O)N2', 'O=S(=O)(c1ccc2c(c1)CCCC2)N1CC(c2nc(-c3ccncc3)no2)C1', 'O=C1C[C@@H](c2ccccc2)N(C(=O)NCc2csc(-c3ccco3)n2)CCN1', 'CCOC(=O)CN(C(=O)CSc1nncn1-c1ccccc1)c1ccccc1', 'CC(=O)c1cccc(S(=O)(=O)Nc2nc3ccccc3nc2N2CCCC2)c1', 'CC(=O)N(c1ccccc1)c1nc(/C=C(\\\\C#N)C(=O)NCC2CCCO2)cs1', 'COc1c(C(=O)NCCCn2ccnc2)sc2c1c(=O)n(C)c1ccccc21', 'O=C(Nc1ccccn1)C1CCN(C(=O)[C@@H]2Sc3ccccc3NC2=O)CC1', 'COc1ccc(Cc2c(NS(=O)(=O)C3CC3)ccnc2-c2cnccn2)cc1', 'CN1C(=O)Cc2cc(S(=O)(=O)NCc3ccccc3Cn3cccn3)ccc21', 'CCOC(=O)c1ccc(CCn2cc(Cc3cncnc3)c(=O)[nH]c2=S)cc1', 'COC(=O)c1cc(SC)c2nc(-c3ccccc3)nc(N3CCOCC3)c2n1', 'CC(=O)c1cccc(NC(=O)[C@@H](C)SC2=C(C#N)C(C)(C)[C@@H](C#N)C(=O)N2)c1', 'Cc1c(S(=O)(=O)N2CCCC2)ccc2[nH]c(COc3cccc(C#N)c3)nc12', 'Cc1cc(-c2csc(CNC(=O)C3(CC(=O)O)Cc4ccccc4C3)n2)n[nH]1', 'Cc1noc(C)c1CSc1ccccc1C(=O)Nc1cccc(NC(N)=O)c1', 'CC1Cc2ccc(-c3csc(NC(=O)CNC(=O)c4ccn(C)c4)n3)cc2O1', 'CN(Cc1cccs1)C(=O)CN1C(=O)NC(Cc2c[nH]c3ccccc23)C1=O', 'O=S(=O)(c1ccccc1)N1C2CCC1CC(c1nc(-c3cccnc3)no1)C2', 'Cc1ccccc1-c1nc(CNC(=O)c2ccc(N(C)C)c([N+](=O)[O-])c2)cs1', 'N#C[C@@H]1CSCN1C(=O)CNC(=O)c1ccnc2ccc([C@H]3CCCO3)cc12', 'O=C(Nc1n[nH]c2c1CN(S(=O)(=O)Cc1ccccc1)CC2)c1ccccc1', 'Cc1ccc(-c2n[nH]c(=S)n2CC(=O)NCC(=O)OCc2ccccc2)cc1', 'CC(=O)c1cccc(NC(=O)CSc2cc(-c3nc(C(C)C)no3)ccn2)c1', 'CC(=O)Nc1ccc(C(=O)NNC(=S)NC(=O)C=Cc2ccc(C)cc2)cc1', 'Cn1/c(=N/NC(=O)CCC(=O)N2CCOc3ccccc32)sc2ccccc21', 'CC(=O)Nc1ccc(C(=O)C(C)n2nnc3sc4c(c3c2=O)CCCC4)cc1', 'CC1=C(C(=O)Nc2cccc(C)c2C)C(c2cccc([N+](=O)[O-])c2)NC(=S)N1', 'O=S(=O)(NCc1ccco1)c1ccc(NCCc2c[nH]c3ccccc23)nc1', 'CCC1S/C(=N/N=C\\\\c2cccc([N+](=O)[O-])c2)N(Cc2ccccc2C)C1=O', 'COc1ccc(NC(=O)C(Sc2n[nH]c(=O)n2C2CC2)c2ccccc2)cc1', 'Cc1ccccc1CSc1nnc(CNC(=O)c2ccc3c(c2)OCO3)n1C', '[C-]#[N+]c1cc(CS(C)(=O)=O)ccc1-c1ccn(-c2ccc(=O)n(CCC)c2)n1', 'O=C1/C(=C\\\\c2cccn2-c2cccc([N+](=O)[O-])c2)NC(=S)N1C1CCCCC1', 'COc1cccc(S(=O)Nc2ccc(NC(=O)NCc3ccncc3)cc2)c1', 'Cc1ccc(-c2n[nH]c(=S)n2CC(=O)NCCc2ccc3c(c2)OCO3)cc1', 'CC(C)c1c(NS(=O)(=O)c2cccc(C#N)c2)c(=O)n(-c2ccccc2)n1C', 'O=C(c1cn(Cc2cccs2)nn1)N1CCC(C(=O)O)(c2ccccc2)CC1', 'Cc1nc(-c2ccc(CNC(=O)c3ccc(N(C)C)c([N+](=O)[O-])c3)cc2)cs1', 'CC(C)NS(=O)(=O)c1ccc(C(=O)Nc2cnc(-c3ccccc3)nc2)cc1', 'NS(=O)(=O)c1ccc(CCNc2ccnc(C(=O)Nc3ccccc3)c2)cc1', 'Cc1c(C(=O)OCC(=O)N2CCCC2c2cccs2)cnn1-c1ccccn1', 'CNC(=O)c1cccc(NC(=O)c2ccccc2SCc2nc(C)no2)c1C', 'Cc1ccc(CNC(=O)Cn2c(C)cc(-c3nnc(-c4cccs4)o3)c2C)o1', 'COc1ccc(S(=O)(=O)NCCNc2nc3ccc(C)cc3cc2C#N)cc1', 'O=C(NCC1CCN(C(=O)Oc2ccccc2)CC1)c1ccc2nsnc2c1', 'CS(=O)(=O)c1ccc(NC(=O)N(Cc2ccncc2)Cc2cccnc2)cc1', 'Cc1nn2cccnc2c1C(=O)OCC(=O)N1CCC(C)Sc2ccccc21', 'Cc1ccc([S+](=O)([O-])NCCNC(=O)c2ccc(-c3cncnc3)cc2)cc1', 'COc1ccc(Nc2nc(C(=O)NCCC(=O)Nc3ccccc3)cs2)cc1', 'COc1cccc(-n2cnnc2SC(C)C(=O)Nc2ccc(C(C)=O)cc2)c1', 'CC(C)(C)OC(=O)N(c1cccnc1)c1nc(N)c(C(=O)c2ccccc2)s1', 'CC[C@@H]1S/C(=N/N=C\\\\c2cccc([N+](=O)[O-])c2)N(Cc2ccccc2C)C1=O', 'Cc1nc2ccc(NC(=O)c3ccc(N4CCCCC4)c([N+](=O)[O-])c3)cc2s1', 'C=C1NC(=S)NC(c2ccc([N+](=O)[O-])cc2)[C@@H]1C(=O)Nc1cc(C)cc(C)c1', 'COc1ccc(C(c2sc3nc(-c4ccco4)nn3c2O)N2CCCC2)cc1', 'O=C(CCc1csc(NC(=O)c2ccc(=O)[nH]c2)n1)NCCc1ccccc1', 'CCOc1cccc2cc(-c3csc(NC(=O)c4ccnn4C(C)C)n3)oc12', 'Cc1ccc2c(O)n3c(c2n1)CN(S(=O)(=O)c1c(C)cc(C#N)cc1C)CC3', 'CCC(=O)Nc1cccc(C(=O)Nc2nnc(Cc3ccccc3OC)s2)c1', 'O=C(Oc1ccccc1)N1CCC[C@@H]1c1nn2c(=O)c3c(nc2s1)CCCC3', 'COCCN(Cc1cc(-c2cccs2)on1)Cc1nc2ccccc2c(=O)[nH]1', 'CCCSc1nnc2c(n1)O[C@@H](c1ccco1)N(C(=O)CC)c1ccccc1-2', 'Cc1ccccc1-c1nnc(SCC(=O)Nc2ccc3c(c2)OCCO3)n1C', 'C[C@H](/N=C1\\\\NS(=O)(=O)c2ccccc21)C(=O)NCCc1c[nH]c2ccccc12', 'NC(=O)COc1ccc(C(=O)Nc2ccc3nc(N4CCCC4)sc3c2)cc1', 'Cc1cc(C)cc(-n2c(O)c(C3=NNC(c4sccc4C)C3)c(=O)[nH]c2=O)c1', 'CCn1ncc(-c2csc(NC(=O)c3oc4cc(OC)ccc4c3C)n2)c1C', 'COC(=O)c1ccc(CNC(=O)C(C)Sc2ncn(-c3ccccc3)n2)cc1', 'COc1ccc(-c2nnc(NC(=O)c3ccc(N4CCOCC4)cc3)s2)cc1', 'CC(C)OC(=O)c1ccc(NC(=O)CSc2n[nH]c(-c3ccccc3)n2)cc1', 'Cc1cccc(-c2n[nH]c(=S)n2CC(=O)NCc2ccc3c(c2)OCCO3)c1', 'C=CCCCC(C(=O)c1ccccc1)S(=O)(=O)c1nnnn1-c1ccccc1', 'Cc1ccc(C(=O)Nc2c3c(nn2S(=O)(=O)c2cccc(C)c2)CNC3)cc1', 'CC(C(=O)N/N=C/c1ccc(O)cc1)n1cnc2sc3c(c2c1=O)CCCC3', 'CCOC(=O)c1ccccc1NC(=O)CSc1nncn1-c1ccccc1C', 'COCCOc1ccc(-c2c(C#N)c(N)nc(SCC3CCO3)c2C#N)cc1', 'COc1ccc(NC(=O)c2cc(-c3cccs3)[nH]n2)cc1N1CCCCC1=O', 'COc1cccc(-c2cc(C(=O)Nc3nc4c(s3)[C@H]3CC[C@H](C4)N3C)no2)c1', 'CCOc1ccccc1-c1nnc2n1N=C(c1ccc(OC)c(OC)c1)CS2', 'O=C(Nc1cccc(S(=O)(=O)N2CCCC2)c1)c1cc(-c2ccccc2)n[nH]1', 'CC(=O)Nc1cccc(C(=O)Nc2ccc3nc(N4CCOCC4)sc3c2)c1', 'CCCn1nc(C(=O)NNC(=O)c2cc3c(s2)CCC3)c2ccccc2c1=O', 'COc1ccccc1-c1nnc(SCC(=O)Nc2ccc(C(C)=O)cc2)n1C', 'COc1cc(-c2nnc3sc(CCc4ccccc4)nn23)cc(OC)c1OC', 'Cc1c(NC(=O)CN2CCCC2c2nc3ccccc3s2)cccc1[N+](=O)[O-]', 'CCCn1c(C)cc(/C=C(\\\\C#N)C(=O)OCc2nc3ccsc3c(=O)[nH]2)c1C', 'CNS(=O)(=O)c1ccc(/C=C/C(=O)Nc2ccc(Cn3cccn3)cc2)cc1', 'COc1ccc(-c2nnc(NC(=O)[C@H](C)NC(=O)c3ccccc3C)s2)cc1', 'O=C1NCCn2c(-c3ccc(N4CCCCS4(=O)=O)cc3)nc3cccc1c32', 'CC.COc1ccc2nc(-c3cc(-c4ccc(C(=O)O)s4)cnc3N)[nH]c2c1', '[H]/N=C(\\\\N)c1ccc(-c2cnc(-c3ccc(OCC(=O)OC)c(SC)c3)[nH]2)cc1', 'CC(C)(C)c1cc(NS(=O)(=O)c2ccc3nc(-c4ccccc4)[nH]c3c2)no1', 'CN1CCCN(C(=O)c2ccccc2S(C)(=O)=O)c2nc3ccccc3nc21', 'Cc1ccc(N2CCN(C(=O)CCc3nc(-c4ccsc4)no3)CC2=O)cc1', 'O=C(NNC(=O)[C@@H]1CCCO1)c1ccc(CSc2nc3ccccc3[nH]2)cc1', 'CN(C)C(=O)CN1C(=O)C(c2cc3cc(C(N)=O)[nH]c3s2)Cc2ccccc21', 'Cc1ccc(-n2ccnc2SCC(=O)Nc2cccc([N+](=O)[O-])c2C)cc1C', 'CCSc1nnc2c(n1)O[C@H](c1ccc(OC)c(OC)c1)Nc1ccccc1-2', 'CC(=O)N1c2ccc(NC(=O)Cn3cnc4sc(C)cc4c3=O)cc2CC1C', 'Cc1nc(-n2cccc2)sc1C(=O)N1CC(NC(=O)OCc2ccccc2)C1', 'COc1ccc(NS(=O)(=O)c2ccc(/C(C)=N\\\\Nc3ccccn3)cc2)cc1', 'Cc1ccc(CC(=O)Nc2ccc(S(=O)(=O)Nc3nccc(C)n3)cc2)cc1', 'COC(=O)c1ccc(CNC(=O)CSc2n[nH]c(-c3ccc(C)cc3)n2)cc1', 'CCCCOc1ccccc1/C=N/Nc1nc(-c2cccc([N+](=O)[O-])c2)cs1', 'O=C(Nc1ccccn1)C1CCN(C(=O)[C@H]2Sc3ccccc3NC2=O)CC1', 'Cc1ccc(CNC(=O)c2cccc(NC(=O)C[C@@H]3SC(N)=NC3=O)c2)cc1', 'NS(=O)c1cccc2c1C(=O)C=C(Nc1cccc(N3CCNCC3)c1)C2=O', 'CCNCc1cnc(-c2ccc(C(=O)Nc3ccccc3NC(=O)O)cc2)s1', 'CCOc1ccc(SCC(=O)Nc2ccc(-n3ccc(C(N)=O)n3)cc2)cc1', 'CSc1nc(-c2ccco2)nc(C)c1C(=O)N(C)CC(=O)Nc1ccccc1', 'COc1ccc2nc(SCC(=O)N(CCC#N)c3ccccc3OC)[nH]c2c1', 'Cc1cc(N2C(=O)C[C@@H](N3CCC(c4nc5ccccc5s4)CC3)C2=O)no1', 'Cc1ccc(-c2cnoc2NC(=O)CSC2=NC(=O)C3CCCCC3=N2)cc1', 'CC(C)n1nc(C(=O)Nc2ccccc2SCC(N)=O)c2ccccc2c1=O', 'CCOc1cc(/C=N\\\\n2c(=S)[nH]nc(C)c2=O)ccc1OCc1ccccc1', 'CCCCOc1ccc(-c2c(C#N)c(N)nc3sc(C(=O)OC)c(N)c23)cc1', 'COc1ccc(-c2cc(C(=O)NN=Cc3ccc(SC)cc3)[nH]n2)cc1OC', 'CCN1C(=O)[C@H](CC(=O)Nc2cccc(C(C)=O)c2)SC1=Nc1ccccn1', 'CC(=O)c1cccc(NC(=O)CSc2n[nH]c(COc3ccccc3C)n2)c1', 'Cc1cc(Oc2ncccn2)ccc1NC(=O)CCCNC(=O)c1ccsc1', 'CCc1ccc(-n2nc(C(=O)NS(=O)(=O)c3cccnc3)c3c2CCC3)cc1', 'CSc1nnc(C)n1-c1ccc(C(=O)OCC(=O)Nc2cccc(C)c2)cc1', 'COc1cccc2[nH]cc(C(CC(=O)NCc3nc(C)no3)c3ccsc3)c12', 'CC(=O)Nc1ccc(-c2noc(C3CCN(C(=O)c4ccsc4)CC3)n2)cc1', 'CC(O)COc1ccc(-c2c(C#N)c(N)nc(SCC3COC3)c2C#N)cc1', 'COC(=O)[C@H](Cc1ccccc1)NC(=O)CSc1n[nH]c(-c2ccccc2)n1', 'O=C(Nc1nnc(C2CC2)s1)c1ccc2c(c1)C(=O)N(C1CCCCC1)C2=O', 'COc1ccc(NC(=O)CN(C)C(=O)Cc2csc(-c3ccccn3)n2)cc1', 'Cc1ccc(N(C)c2ccc(C=NN=C3NC(=O)C(CC(=O)O)S3)cc2)cc1', 'Cn1cc(S(=O)(=O)N2CCc3ccccc32)cc1C(=O)NCc1cccnc1', 'COc1cccc(CSc2nc3cc(OC)c(OC)cc3c3nc(C)nn23)c1', 'COc1cc(/C=N\\\\Nc2nc(-c3ccc(C)cc3)c(NC(C)=O)s2)ccc1O', 'CCC(C)C(C(=O)OC(C(C)CC)C(=O)OC(C(C)CC)C(=O)OC(C(C)CC)C(=O)OCC(C(C(C(CO)O)O)O)O)O', 'CC(=O)OCC1OC(OC(C)CCCCCCCCCCCCCC(=O)O)C(OC2OC(CO)C(O)C(O)C2O)C(O)C1O', 'CCCCCC(=O)OC[C@H]1O[C@@H](OC[C@@H](O)[C@@H](O)[C@H](O)[C@H](O)CO)[C@@H](O)[C@@H](OC(=O)CCCCC)[C@@H]1OC(=O)CCCCC', 'CC(=O)OC[C@H]1O[C@@H](O[C@H]2[C@H](OC(C)CCCCCCCCCCCCCC(=O)O)O[C@H](CO)[C@@H](O)[C@@H]2O)[C@H](O)[C@@H](O)[C@@H]1O', 'O=C(CCCCC(=O)OC[C@@H](O)[C@@H](O)[C@H](O)[C@@H](O)COC(=O)CCCCC(=O)OCCCCCCO)OCCCCCCO', 'COC[C@@H](OC)[C@H]1O[C@@H](OCCO[C@@H]2O[C@H]([C@@H](COC)OC)[C@H](OC)[C@H]2OC(=O)C(C)(C)C)[C@H](OC(=O)C(C)(C)C)[C@H]1OC', 'C#CCOCCOCCOCCOCCOCCOCCOCCOCCOCCOCCOCCOCCOC(=O)C=C', 'C=C(C)C(=O)OCCOCCOCCOCCOCCOCCOCCOCCOCCOCCOCCOC(=O)C(=C)C', 'CC(C)(C)OOC(C)(C)CCOC(=O)C(=O)OOC(C)(C)CCC(C)(C)OOC(=O)C(=O)OCCC(C)(C)OOC(C)(C)C', 'C[C@H](OCC(O)OCC(C)(COCC1CO1)COCC1CO1)[C@@H](C)OCC(O)OCC(C)(COCC1CO1)COCC1CO1', 'CCC/C=C\\\\CCCCCCCCOCC(COC1OC(COC2OC(CO)C(O)C(O)C2O)C(O)C(O)C1O)OC(C)=O', 'CCCCCCC(O)C/C=C/CCCCCCCC(=O)O[C@@]1(OC2(CO)O[C@H](CO)[C@@H](O)[C@@H]2O)O[C@H](CO)[C@@H](O)[C@H](O)[C@H]1O', 'O=C(CCCCC(=O)OCC(O)C(O)C(O)[C@H](O)COC(=O)CCCCC(=O)OCCCCCCO)OCCCCCCO', 'CC(=O)OCC1OC(OC2C(OC(C)CCCCCCCCCCCCCC(=O)O)OC(CO)C(O)C2O)C(O)C(O)C1O', 'CC(=O)OC[C@H]1O[C@@H](O[C@H]2[C@H](OCCCCCCCCCCCCCCCC(=O)O)O[C@H](CO)[C@@H](O)[C@@H]2O)[C@H](O)[C@@H](O)[C@@H]1O', 'O=Cc1ccc(CO)o1.OCC1CCC(CO)O1.OCCCCC(O)CO.OCCCCCCO.OCc1ccc(CO)o1', 'CC[C@H](C)[C@H](C[C@H](O)CC(C)=O)OC(=O)C[C@@H](O)C[C@H](OC1OC(COC2OC(C)C(O)C(O)C2O)C(O)C1O)[C@@H](C)CC']}\n"
     ]
    }
   ],
   "execution_count": 14
  },
  {
   "metadata": {
    "ExecuteTime": {
     "end_time": "2025-01-25T15:51:00.464446Z",
     "start_time": "2025-01-25T15:51:00.461630Z"
    }
   },
   "cell_type": "code",
   "source": [
    "# Check the keys in the batch\n",
    "print(tmp_msn.keys())\n",
    "\n",
    "# Specifically check if 'batch_ptr' is present\n",
    "if 'batch_ptr' in tmp_msn:\n",
    "    print(\"batch_ptr is present:\", tmp_msn['batch_ptr'])\n",
    "else:\n",
    "    print(\"batch_ptr is missing\")"
   ],
   "id": "9e1dd97c544da443",
   "outputs": [
    {
     "name": "stdout",
     "output_type": "stream",
     "text": [
      "dict_keys(['spec', 'mol', 'precursor_mz', 'adduct', 'identifier', 'mol_freq', 'smiles', 'candidates', 'labels', 'batch_ptr', 'candidates_smiles'])\n",
      "batch_ptr is present: tensor([256,   7, 256,  69, 256,  24, 256, 256, 256,  63, 256,  17])\n"
     ]
    }
   ],
   "execution_count": 15
  },
  {
   "metadata": {},
   "cell_type": "markdown",
   "source": "#### Shold be dict_keys(['spec', 'mol', 'precursor_mz', 'adduct', 'mol_freq', 'identifier', 'smiles', 'candidates', 'labels', 'batch_ptr', 'candidates_smiles'])",
   "id": "ef424072a9118b2d"
  },
  {
   "metadata": {
    "ExecuteTime": {
     "end_time": "2025-01-25T15:51:03.550951Z",
     "start_time": "2025-01-25T15:51:03.547252Z"
    }
   },
   "cell_type": "code",
   "source": "tmp_msn.keys()",
   "id": "a4498cf09b5c3638",
   "outputs": [
    {
     "data": {
      "text/plain": [
       "dict_keys(['spec', 'mol', 'precursor_mz', 'adduct', 'identifier', 'mol_freq', 'smiles', 'candidates', 'labels', 'batch_ptr', 'candidates_smiles'])"
      ]
     },
     "execution_count": 16,
     "metadata": {},
     "output_type": "execute_result"
    }
   ],
   "execution_count": 16
  },
  {
   "metadata": {
    "ExecuteTime": {
     "end_time": "2025-01-25T15:51:04.092638Z",
     "start_time": "2025-01-25T15:51:04.089881Z"
    }
   },
   "cell_type": "code",
   "source": "tmp_msn['spec'] ",
   "id": "843fe9326df72b03",
   "outputs": [
    {
     "data": {
      "text/plain": [
       "DataBatch(x=[124, 1039], edge_index=[2, 224], batch=[124], ptr=[13])"
      ]
     },
     "execution_count": 17,
     "metadata": {},
     "output_type": "execute_result"
    }
   ],
   "execution_count": 17
  },
  {
   "metadata": {
    "ExecuteTime": {
     "end_time": "2025-01-25T15:51:04.662480Z",
     "start_time": "2025-01-25T15:51:04.659543Z"
    }
   },
   "cell_type": "code",
   "source": "tmp_msn['precursor_mz']",
   "id": "fc8ed10da30f9581",
   "outputs": [
    {
     "data": {
      "text/plain": [
       "tensor([362.1322, 705.2025, 444.2143, 401.1919, 379.2479, 477.2384, 328.1305,\n",
       "        270.1489, 378.1747, 558.2300, 397.1329, 639.3586])"
      ]
     },
     "execution_count": 18,
     "metadata": {},
     "output_type": "execute_result"
    }
   ],
   "execution_count": 18
  },
  {
   "metadata": {
    "ExecuteTime": {
     "end_time": "2025-01-25T15:51:05.231395Z",
     "start_time": "2025-01-25T15:51:05.228565Z"
    }
   },
   "cell_type": "code",
   "source": "tmp_msn['mol_freq']",
   "id": "dfecc66a8137880d",
   "outputs": [
    {
     "data": {
      "text/plain": [
       "tensor([1., 1., 1., 4., 2., 1., 1., 4., 1., 2., 1., 3.])"
      ]
     },
     "execution_count": 19,
     "metadata": {},
     "output_type": "execute_result"
    }
   ],
   "execution_count": 19
  },
  {
   "metadata": {
    "ExecuteTime": {
     "end_time": "2025-01-25T15:51:05.732397Z",
     "start_time": "2025-01-25T15:51:05.729797Z"
    }
   },
   "cell_type": "code",
   "source": "tmp_msn['identifier']",
   "id": "f3cce6c85a13d606",
   "outputs": [
    {
     "data": {
      "text/plain": [
       "['0040250_0000000',\n",
       " '0006256_0000000',\n",
       " '0060488_0000000',\n",
       " '0009601_0000000',\n",
       " '0009532_0000000',\n",
       " '0086220_0000000',\n",
       " '0074197_0000000',\n",
       " '0016939_0000000',\n",
       " '0064184_0000000',\n",
       " '0089115_0000000',\n",
       " '0028740_0000000',\n",
       " '0009102_0000000']"
      ]
     },
     "execution_count": 20,
     "metadata": {},
     "output_type": "execute_result"
    }
   ],
   "execution_count": 20
  },
  {
   "metadata": {
    "ExecuteTime": {
     "end_time": "2025-01-25T15:51:07.349463Z",
     "start_time": "2025-01-25T15:51:07.346524Z"
    }
   },
   "cell_type": "code",
   "source": "tmp_msn['adduct']",
   "id": "f51053f8670e729f",
   "outputs": [
    {
     "data": {
      "text/plain": [
       "['[M+H]+',\n",
       " '[M+H]+',\n",
       " '[M+H]+',\n",
       " '[M+H-2H2O]+',\n",
       " '[M+H]+',\n",
       " '[M+H]+',\n",
       " '[M+H]+',\n",
       " '[M+H-H2O]+',\n",
       " '[M+H]+',\n",
       " '[M+H]+',\n",
       " '[M+H]+',\n",
       " '[M+H]+']"
      ]
     },
     "execution_count": 21,
     "metadata": {},
     "output_type": "execute_result"
    }
   ],
   "execution_count": 21
  },
  {
   "metadata": {
    "ExecuteTime": {
     "end_time": "2025-01-25T15:51:07.885966Z",
     "start_time": "2025-01-25T15:51:07.883588Z"
    }
   },
   "cell_type": "code",
   "source": "tmp_msn['mol'].shape",
   "id": "1874faafb955f9d4",
   "outputs": [
    {
     "data": {
      "text/plain": [
       "torch.Size([12, 4096])"
      ]
     },
     "execution_count": 22,
     "metadata": {},
     "output_type": "execute_result"
    }
   ],
   "execution_count": 22
  },
  {
   "metadata": {
    "ExecuteTime": {
     "end_time": "2025-01-25T15:51:08.528131Z",
     "start_time": "2025-01-25T15:51:08.525781Z"
    }
   },
   "cell_type": "code",
   "source": "tmp_msn['smiles']",
   "id": "26e13e52cabf0dac",
   "outputs": [
    {
     "data": {
      "text/plain": [
       "['CC1=NC(=NC=C1)SCC(=O)N2C3=CC=CC=C3CCC4=CC=CC=C42',\n",
       " 'CC(=O)OC1COC(C(C1OC(=O)C)OC(=O)C)C2=C(C3=C(C=C2O)OC(=CC3=O)C4=CC=C(C=C4)OC5C(C(C(C(O5)CO)O)O)O)OC',\n",
       " 'CC1=C(C(=NO1)C)C2=C(C=C3C(=C2)NC4=C3C(=NC(=N4)C)NC5=CC(=NN5C)C6CC6)OC',\n",
       " 'CC(C)C(C(=O)OCC(C(C(C(COC(=O)C(C(C)C)NC=O)O)O)O)O)NC=O',\n",
       " 'CC1CCC2(C(C1(C)CCC(C)CC(=O)O)CC(=O)C=C2COC(=O)C)C',\n",
       " 'C[C@@H]1CC2=C(C=CC3=C2C=NN3)[C@H](N1CC(F)(F)F)C4=NC=C(C=C4)NC5CN(C5)CCCF',\n",
       " 'C1=CC=C(C=C1)C2=NN3C=CC=CC3=C2C4=NN=C5C(=C4)C(=NN5)N',\n",
       " 'CN1CC[C@@]23C=C[C@@H](C[C@@H]2OC4=C(C=CC(=C34)C1)OC)O',\n",
       " 'CCC(CC)C(C1=CC=C(C=C1)NC2=NC3=CC=CC=C3S2)N4C=NC=N4',\n",
       " 'CC1=CC(=C(C=C1C2CCNCC2)OC(C)C)NC3=NC=C(C(=N3)NC4=CC=CC=C4S(=O)(=O)C(C)C)Cl',\n",
       " 'CC1=NN(C(=C1)NC(=O)C2CCCC2)C3=NC(=CS3)C4=CC5=C(C=C4)OCO5',\n",
       " 'CCC(C)C(C(=O)OC(C(C)CC)C(=O)OC(C(C)CC)C(=O)OC(C(C)CC)C(=O)OCC(C(C(C(CO)O)O)O)O)O']"
      ]
     },
     "execution_count": 23,
     "metadata": {},
     "output_type": "execute_result"
    }
   ],
   "execution_count": 23
  },
  {
   "metadata": {
    "ExecuteTime": {
     "end_time": "2025-01-25T15:51:09.150996Z",
     "start_time": "2025-01-25T15:51:09.147699Z"
    }
   },
   "cell_type": "code",
   "source": "tmp_msn['labels']",
   "id": "e519fe7ed5121dcc",
   "outputs": [
    {
     "data": {
      "text/plain": [
       "tensor([ True, False, False,  ..., False, False, False])"
      ]
     },
     "execution_count": 24,
     "metadata": {},
     "output_type": "execute_result"
    }
   ],
   "execution_count": 24
  },
  {
   "metadata": {
    "ExecuteTime": {
     "end_time": "2025-01-25T15:51:09.598060Z",
     "start_time": "2025-01-25T15:51:09.591905Z"
    }
   },
   "cell_type": "code",
   "source": "sum(tmp_msn['labels'])",
   "id": "61de3b3ad4572c7a",
   "outputs": [
    {
     "data": {
      "text/plain": [
       "tensor(12)"
      ]
     },
     "execution_count": 25,
     "metadata": {},
     "output_type": "execute_result"
    }
   ],
   "execution_count": 25
  },
  {
   "metadata": {
    "ExecuteTime": {
     "end_time": "2025-01-25T15:51:10.322652Z",
     "start_time": "2025-01-25T15:51:10.317627Z"
    }
   },
   "cell_type": "code",
   "source": "torch.nonzero(tmp_msn['labels'], as_tuple=False).squeeze()",
   "id": "86224621a407862f",
   "outputs": [
    {
     "data": {
      "text/plain": [
       "tensor([   0,  256,  263,  519,  588,  844,  868, 1124, 1380, 1636, 1699, 1955])"
      ]
     },
     "execution_count": 26,
     "metadata": {},
     "output_type": "execute_result"
    }
   ],
   "execution_count": 26
  },
  {
   "metadata": {
    "ExecuteTime": {
     "end_time": "2025-01-25T15:51:10.707657Z",
     "start_time": "2025-01-25T15:51:10.705584Z"
    }
   },
   "cell_type": "code",
   "source": "len(tmp_msn['labels'])",
   "id": "df3c85be4bd961ae",
   "outputs": [
    {
     "data": {
      "text/plain": [
       "1972"
      ]
     },
     "execution_count": 27,
     "metadata": {},
     "output_type": "execute_result"
    }
   ],
   "execution_count": 27
  },
  {
   "metadata": {
    "ExecuteTime": {
     "end_time": "2025-01-25T15:51:11.095158Z",
     "start_time": "2025-01-25T15:51:11.092605Z"
    }
   },
   "cell_type": "code",
   "source": "tmp_msn['batch_ptr']",
   "id": "e30895af70b971cf",
   "outputs": [
    {
     "data": {
      "text/plain": [
       "tensor([256,   7, 256,  69, 256,  24, 256, 256, 256,  63, 256,  17])"
      ]
     },
     "execution_count": 28,
     "metadata": {},
     "output_type": "execute_result"
    }
   ],
   "execution_count": 28
  },
  {
   "metadata": {
    "ExecuteTime": {
     "end_time": "2025-01-25T15:51:11.590243Z",
     "start_time": "2025-01-25T15:51:11.587553Z"
    }
   },
   "cell_type": "code",
   "source": "sum(tmp_msn['batch_ptr'])",
   "id": "cd6581b0abe8464d",
   "outputs": [
    {
     "data": {
      "text/plain": [
       "tensor(1972)"
      ]
     },
     "execution_count": 29,
     "metadata": {},
     "output_type": "execute_result"
    }
   ],
   "execution_count": 29
  },
  {
   "metadata": {
    "ExecuteTime": {
     "end_time": "2025-01-25T15:51:11.955265Z",
     "start_time": "2025-01-25T15:51:11.953060Z"
    }
   },
   "cell_type": "code",
   "source": "len(tmp_msn['candidates'])",
   "id": "bac322d4444ee5ea",
   "outputs": [
    {
     "data": {
      "text/plain": [
       "1972"
      ]
     },
     "execution_count": 30,
     "metadata": {},
     "output_type": "execute_result"
    }
   ],
   "execution_count": 30
  },
  {
   "metadata": {
    "ExecuteTime": {
     "end_time": "2025-01-25T15:51:12.373862Z",
     "start_time": "2025-01-25T15:51:12.371405Z"
    }
   },
   "cell_type": "code",
   "source": "tmp_msn['candidates'][5].shape",
   "id": "5240b59230576227",
   "outputs": [
    {
     "data": {
      "text/plain": [
       "torch.Size([4096])"
      ]
     },
     "execution_count": 31,
     "metadata": {},
     "output_type": "execute_result"
    }
   ],
   "execution_count": 31
  },
  {
   "metadata": {},
   "cell_type": "markdown",
   "source": "### Compare Shapes",
   "id": "8fabb6d3fa7fd1ec"
  },
  {
   "metadata": {
    "ExecuteTime": {
     "end_time": "2025-01-25T15:56:29.347774Z",
     "start_time": "2025-01-25T15:56:29.345144Z"
    }
   },
   "cell_type": "code",
   "source": "tmp_msn.keys() == tmp_original.keys()",
   "id": "1569a73db41d79ad",
   "outputs": [
    {
     "data": {
      "text/plain": [
       "True"
      ]
     },
     "execution_count": 58,
     "metadata": {},
     "output_type": "execute_result"
    }
   ],
   "execution_count": 58
  },
  {
   "metadata": {
    "ExecuteTime": {
     "end_time": "2025-01-25T15:56:29.563449Z",
     "start_time": "2025-01-25T15:56:29.561020Z"
    }
   },
   "cell_type": "code",
   "source": "tmp_msn['batch_ptr'].shape == tmp_original['batch_ptr'].shape",
   "id": "e05b0a2b1e4ecf17",
   "outputs": [
    {
     "data": {
      "text/plain": [
       "True"
      ]
     },
     "execution_count": 59,
     "metadata": {},
     "output_type": "execute_result"
    }
   ],
   "execution_count": 59
  },
  {
   "metadata": {
    "ExecuteTime": {
     "end_time": "2025-01-25T15:56:29.996935Z",
     "start_time": "2025-01-25T15:56:29.994343Z"
    }
   },
   "cell_type": "code",
   "source": "tmp_msn['batch_ptr'].dtype == tmp_original['batch_ptr'].dtype",
   "id": "b606c035c765f275",
   "outputs": [
    {
     "data": {
      "text/plain": [
       "True"
      ]
     },
     "execution_count": 60,
     "metadata": {},
     "output_type": "execute_result"
    }
   ],
   "execution_count": 60
  },
  {
   "metadata": {
    "ExecuteTime": {
     "end_time": "2025-01-25T15:56:30.177810Z",
     "start_time": "2025-01-25T15:56:30.175074Z"
    }
   },
   "cell_type": "code",
   "source": "sum(tmp_msn['batch_ptr']), len(tmp_msn['candidates_smiles'])",
   "id": "f9dae4c8aaa7564b",
   "outputs": [
    {
     "data": {
      "text/plain": [
       "(tensor(1972), 1972)"
      ]
     },
     "execution_count": 61,
     "metadata": {},
     "output_type": "execute_result"
    }
   ],
   "execution_count": 61
  },
  {
   "metadata": {
    "ExecuteTime": {
     "end_time": "2025-01-25T15:56:30.359800Z",
     "start_time": "2025-01-25T15:56:30.356669Z"
    }
   },
   "cell_type": "code",
   "source": "sum(tmp_original['batch_ptr']), len(tmp_original['candidates_smiles'])",
   "id": "67eeb6830a02639a",
   "outputs": [
    {
     "data": {
      "text/plain": [
       "(tensor(2892), 2892)"
      ]
     },
     "execution_count": 62,
     "metadata": {},
     "output_type": "execute_result"
    }
   ],
   "execution_count": 62
  },
  {
   "metadata": {
    "ExecuteTime": {
     "end_time": "2025-01-25T15:56:30.864017Z",
     "start_time": "2025-01-25T15:56:30.861811Z"
    }
   },
   "cell_type": "code",
   "source": "tmp_msn['labels'].dtype == tmp_original['labels'].dtype",
   "id": "da6f7d53ce907f18",
   "outputs": [
    {
     "data": {
      "text/plain": [
       "True"
      ]
     },
     "execution_count": 63,
     "metadata": {},
     "output_type": "execute_result"
    }
   ],
   "execution_count": 63
  },
  {
   "metadata": {
    "ExecuteTime": {
     "end_time": "2025-01-25T15:56:31.056881Z",
     "start_time": "2025-01-25T15:56:31.054680Z"
    }
   },
   "cell_type": "code",
   "source": "tmp_msn['candidates'].dtype == tmp_original['candidates'].dtype",
   "id": "29f2304a3eb0d784",
   "outputs": [
    {
     "data": {
      "text/plain": [
       "True"
      ]
     },
     "execution_count": 64,
     "metadata": {},
     "output_type": "execute_result"
    }
   ],
   "execution_count": 64
  },
  {
   "metadata": {
    "ExecuteTime": {
     "end_time": "2025-01-25T15:56:31.226245Z",
     "start_time": "2025-01-25T15:56:31.223975Z"
    }
   },
   "cell_type": "code",
   "source": "tmp_msn['candidates'][0].shape == tmp_original['candidates'][0].shape",
   "id": "bf61a76af4db9b5a",
   "outputs": [
    {
     "data": {
      "text/plain": [
       "True"
      ]
     },
     "execution_count": 65,
     "metadata": {},
     "output_type": "execute_result"
    }
   ],
   "execution_count": 65
  },
  {
   "metadata": {
    "ExecuteTime": {
     "end_time": "2025-01-25T15:56:34.674253Z",
     "start_time": "2025-01-25T15:56:34.671557Z"
    }
   },
   "cell_type": "code",
   "source": "tmp_msn['candidates'][5].shape == tmp_original['candidates'][5].shape",
   "id": "e28ea4d96f687f0f",
   "outputs": [
    {
     "data": {
      "text/plain": [
       "True"
      ]
     },
     "execution_count": 66,
     "metadata": {},
     "output_type": "execute_result"
    }
   ],
   "execution_count": 66
  },
  {
   "metadata": {
    "ExecuteTime": {
     "end_time": "2025-01-25T15:56:35.014392Z",
     "start_time": "2025-01-25T15:56:35.012313Z"
    }
   },
   "cell_type": "code",
   "source": "type(tmp_msn['smiles']) == type(tmp_original['smiles'])",
   "id": "68573c7361e436dd",
   "outputs": [
    {
     "data": {
      "text/plain": [
       "True"
      ]
     },
     "execution_count": 67,
     "metadata": {},
     "output_type": "execute_result"
    }
   ],
   "execution_count": 67
  },
  {
   "metadata": {
    "ExecuteTime": {
     "end_time": "2025-01-25T15:56:35.669215Z",
     "start_time": "2025-01-25T15:56:35.666821Z"
    }
   },
   "cell_type": "code",
   "source": "type(tmp_msn['smiles'][0]) == type(tmp_original['smiles'][0])",
   "id": "44b90cb38ece920e",
   "outputs": [
    {
     "data": {
      "text/plain": [
       "True"
      ]
     },
     "execution_count": 68,
     "metadata": {},
     "output_type": "execute_result"
    }
   ],
   "execution_count": 68
  },
  {
   "metadata": {
    "ExecuteTime": {
     "end_time": "2025-01-25T15:56:36.637162Z",
     "start_time": "2025-01-25T15:56:36.634735Z"
    }
   },
   "cell_type": "code",
   "source": "len(tmp_msn['smiles']) == len(tmp_original['smiles'])",
   "id": "8493612e08e9479e",
   "outputs": [
    {
     "data": {
      "text/plain": [
       "True"
      ]
     },
     "execution_count": 69,
     "metadata": {},
     "output_type": "execute_result"
    }
   ],
   "execution_count": 69
  },
  {
   "metadata": {
    "ExecuteTime": {
     "end_time": "2025-01-25T15:56:37.260114Z",
     "start_time": "2025-01-25T15:56:37.257684Z"
    }
   },
   "cell_type": "code",
   "source": "type(tmp_msn['candidates_smiles']) == type(tmp_original['candidates_smiles'])",
   "id": "b604f8942bf1362d",
   "outputs": [
    {
     "data": {
      "text/plain": [
       "True"
      ]
     },
     "execution_count": 70,
     "metadata": {},
     "output_type": "execute_result"
    }
   ],
   "execution_count": 70
  },
  {
   "metadata": {
    "ExecuteTime": {
     "end_time": "2025-01-25T15:56:37.765230Z",
     "start_time": "2025-01-25T15:56:37.762904Z"
    }
   },
   "cell_type": "code",
   "source": "type(tmp_msn['candidates_smiles'][0]) == type(tmp_original['candidates_smiles'][0])",
   "id": "1a9910cd68400224",
   "outputs": [
    {
     "data": {
      "text/plain": [
       "True"
      ]
     },
     "execution_count": 71,
     "metadata": {},
     "output_type": "execute_result"
    }
   ],
   "execution_count": 71
  },
  {
   "metadata": {
    "ExecuteTime": {
     "end_time": "2025-01-25T15:56:38.244937Z",
     "start_time": "2025-01-25T15:56:38.242436Z"
    }
   },
   "cell_type": "code",
   "source": "len(tmp_msn['candidates_smiles'])",
   "id": "65f8205061648068",
   "outputs": [
    {
     "data": {
      "text/plain": [
       "1972"
      ]
     },
     "execution_count": 72,
     "metadata": {},
     "output_type": "execute_result"
    }
   ],
   "execution_count": 72
  },
  {
   "metadata": {},
   "cell_type": "code",
   "outputs": [],
   "execution_count": null,
   "source": "",
   "id": "6f62755f6c500d5f"
  }
 ],
 "metadata": {
  "kernelspec": {
   "display_name": "Python 3",
   "language": "python",
   "name": "python3"
  },
  "language_info": {
   "codemirror_mode": {
    "name": "ipython",
    "version": 2
   },
   "file_extension": ".py",
   "mimetype": "text/x-python",
   "name": "python",
   "nbconvert_exporter": "python",
   "pygments_lexer": "ipython2",
   "version": "2.7.6"
  }
 },
 "nbformat": 4,
 "nbformat_minor": 5
}
