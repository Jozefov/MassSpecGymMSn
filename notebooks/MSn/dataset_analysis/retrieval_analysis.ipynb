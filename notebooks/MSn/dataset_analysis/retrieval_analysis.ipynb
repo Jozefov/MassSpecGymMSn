{
 "cells": [
  {
   "cell_type": "code",
   "id": "initial_id",
   "metadata": {
    "collapsed": true,
    "ExecuteTime": {
     "end_time": "2024-12-11T13:39:43.489681Z",
     "start_time": "2024-12-11T13:39:40.680257Z"
    }
   },
   "source": [
    "import json\n",
    "from matchms.importing import load_from_mgf\n",
    "from rdkit import Chem\n",
    "from massspecgym.tools.analyzers import analyze_canonical_smiles\n",
    "import os"
   ],
   "outputs": [],
   "execution_count": 1
  },
  {
   "metadata": {
    "ExecuteTime": {
     "end_time": "2024-12-11T13:39:43.495328Z",
     "start_time": "2024-12-11T13:39:43.493443Z"
    }
   },
   "cell_type": "code",
   "source": [
    "file_mgf = \"/Users/macbook/CODE/Majer:MassSpecGym/data/MSn/20241211_msn_library_pos_all_lib_MSn.mgf\"\n",
    "file_json = \"/Users/macbook/CODE/Majer:MassSpecGym/data/Retrieval/MassSpecGym_retrieval_candidates_mass.json\"\n",
    "split_file = \"/Users/macbook/CODE/Majer:MassSpecGym/data/MSn/20240929_split.tsv\""
   ],
   "id": "c7d63f12ba45ad36",
   "outputs": [],
   "execution_count": 2
  },
  {
   "metadata": {
    "ExecuteTime": {
     "end_time": "2024-12-11T13:44:35.091892Z",
     "start_time": "2024-12-11T13:39:58.454878Z"
    }
   },
   "cell_type": "code",
   "source": [
    "print(\"Loading spectra from MGF file...\")\n",
    "spectra = list(load_from_mgf(file_mgf))\n",
    "print(f\"Total number of spectra loaded: {len(spectra)}\")"
   ],
   "id": "600953354e6f50d0",
   "outputs": [
    {
     "name": "stdout",
     "output_type": "stream",
     "text": [
      "Loading spectra from MGF file...\n",
      "Total number of spectra loaded: 803405\n"
     ]
    }
   ],
   "execution_count": 4
  },
  {
   "metadata": {
    "ExecuteTime": {
     "end_time": "2024-12-11T13:45:39.686876Z",
     "start_time": "2024-12-11T13:44:35.104797Z"
    }
   },
   "cell_type": "code",
   "source": [
    "print(\"Filtering spectra with SPECTYPE=ALL_ENERGIES and MS_LEVEL=2...\")\n",
    "filtered_spectra = [\n",
    "    s for s in spectra\n",
    "    if s.metadata.get(\"spectype\") == \"ALL_ENERGIES\" and int(s.metadata[\"ms_level\"]) == 2\n",
    "]\n",
    "print(f\"Number of spectra after filtering: {len(filtered_spectra)}\")"
   ],
   "id": "8e2a53b6466286ba",
   "outputs": [
    {
     "name": "stdout",
     "output_type": "stream",
     "text": [
      "Filtering spectra with SPECTYPE=ALL_ENERGIES and MS_LEVEL=2...\n",
      "Number of spectra after filtering: 16476\n"
     ]
    }
   ],
   "execution_count": 5
  },
  {
   "metadata": {
    "ExecuteTime": {
     "end_time": "2024-12-11T13:46:48.040710Z",
     "start_time": "2024-12-11T13:46:43.671355Z"
    }
   },
   "cell_type": "code",
   "source": "analyze_canonical_smiles(filtered_spectra)",
   "id": "6d14b01568e894d9",
   "outputs": [
    {
     "name": "stdout",
     "output_type": "stream",
     "text": [
      "=== SMILES Processing Statistics ===\n",
      "Mode: SPECTRA\n",
      "Total SMILES extracted: 13984\n",
      "Unique original SMILES: 13984\n",
      "Unique canonical SMILES: 13984\n",
      "Number of invalid SMILES: 0\n",
      "Number of SMILES unchanged after RDKit canonicalization: 67\n",
      "====================================\n",
      "\n"
     ]
    }
   ],
   "execution_count": 7
  },
  {
   "metadata": {
    "ExecuteTime": {
     "end_time": "2024-12-11T14:17:56.638154Z",
     "start_time": "2024-12-11T14:17:55.317482Z"
    }
   },
   "cell_type": "code",
   "source": [
    "print(\"Extracting and canonicalizing SMILES from filtered spectra...\")\n",
    "smiles_set = set()\n",
    "\n",
    "for spectrum in filtered_spectra:\n",
    "    smiles = spectrum.get(\"smiles\")\n",
    "    smiles_set.add(smiles)"
   ],
   "id": "263ba253112611b1",
   "outputs": [
    {
     "name": "stdout",
     "output_type": "stream",
     "text": [
      "Extracting and canonicalizing SMILES from filtered spectra...\n"
     ]
    }
   ],
   "execution_count": 21
  },
  {
   "metadata": {
    "ExecuteTime": {
     "end_time": "2024-12-11T13:47:06.183832Z",
     "start_time": "2024-12-11T13:47:06.181637Z"
    }
   },
   "cell_type": "code",
   "source": [
    "# if len(invalid_smiles_mgf) > 0:\n",
    "#     print(f\"Number of invalid SMILES skipped from MGF: {len(invalid_smiles_mgf)}\")\n",
    "# else:\n",
    "#     print(\"No valid SMILES skipped from MGF\")"
   ],
   "id": "cd3d86bcf80e0e5d",
   "outputs": [
    {
     "name": "stdout",
     "output_type": "stream",
     "text": [
      "No valid SMILES skipped from MGF\n"
     ]
    }
   ],
   "execution_count": 9
  },
  {
   "metadata": {
    "ExecuteTime": {
     "end_time": "2024-12-11T14:18:05.321713Z",
     "start_time": "2024-12-11T14:18:03.684039Z"
    }
   },
   "cell_type": "code",
   "source": [
    "with open(file_json, 'r') as f:\n",
    "    smiles_dict = json.load(f)"
   ],
   "id": "de2d915315a082cf",
   "outputs": [],
   "execution_count": 22
  },
  {
   "metadata": {
    "ExecuteTime": {
     "end_time": "2024-12-11T14:18:26.048532Z",
     "start_time": "2024-12-11T14:18:22.060311Z"
    }
   },
   "cell_type": "code",
   "source": "_ = analyze_canonical_smiles(smiles_dict, mode='json')",
   "id": "a7d5ee5fb6e4dcb7",
   "outputs": [
    {
     "name": "stdout",
     "output_type": "stream",
     "text": [
      "=== SMILES Processing Statistics ===\n",
      "Mode: JSON\n",
      "Total SMILES extracted: 32010\n",
      "Unique original SMILES: 32010\n",
      "Unique canonical SMILES: 32010\n",
      "Number of invalid SMILES: 0\n",
      "Number of SMILES unchanged after RDKit canonicalization: 1447\n",
      "====================================\n",
      "\n"
     ]
    }
   ],
   "execution_count": 24
  },
  {
   "metadata": {
    "ExecuteTime": {
     "end_time": "2024-12-11T14:19:23.387698Z",
     "start_time": "2024-12-11T14:19:23.380123Z"
    }
   },
   "cell_type": "code",
   "source": [
    "\n",
    "json_keys_set = set()\n",
    "invalid_smiles_json = set()\n",
    "\n",
    "for key in smiles_dict.keys():\n",
    "    # canonical_key = canonicalize_smiles(key)\n",
    "    json_keys_set.add(key)\n",
    "    # if canonical_key:\n",
    "    #     json_keys_set.add(canonical_key)\n",
    "    # else:\n",
    "    #     invalid_smiles_json.add(key)\n",
    "if len(invalid_smiles_json) > 0:\n",
    "    print(f\"Number of invalid SMILES skipped from JSON: {len(invalid_smiles_json)}\")\n",
    "else:\n",
    "    print(\"No valid SMILES skipped from JSON\")\n"
   ],
   "id": "bbfc4bcfc9adfd19",
   "outputs": [
    {
     "name": "stdout",
     "output_type": "stream",
     "text": [
      "No valid SMILES skipped from JSON\n"
     ]
    }
   ],
   "execution_count": 25
  },
  {
   "metadata": {
    "ExecuteTime": {
     "end_time": "2024-12-11T14:21:42.841271Z",
     "start_time": "2024-12-11T14:21:42.768315Z"
    }
   },
   "cell_type": "code",
   "source": [
    "print(\"Comparing SMILES from MGF with JSON keys...\")\n",
    "smiles_in_json = smiles_set.intersection(json_keys_set)\n",
    "smiles_not_in_json = smiles_set.difference(json_keys_set)\n",
    "\n",
    "all_present = len(smiles_not_in_json) == 0\n",
    "\n",
    "print(\"\\n--- Comparison Results ---\")\n",
    "if all_present:\n",
    "    print(\"All SMILES from the filtered MGF file are present in the JSON file.\")\n",
    "else:\n",
    "    print(f\"Not all SMILES from the filtered MGF file are present in the JSON file.\")\n",
    "    print(f\"Number of SMILES present in JSON: {len(smiles_in_json)}\")\n",
    "    print(f\"Number of SMILES NOT present in JSON: {len(smiles_not_in_json)}\")\n",
    "\n",
    "print(\"\\n--- Detailed Summary ---\")\n",
    "print(f\"Total SMILES extracted from MGF: {len(smiles_set)}\")\n",
    "print(f\"Total SMILES in JSON: {len(json_keys_set)}\")\n",
    "print(f\"SMILES present in JSON and MGF: {len(smiles_in_json)}\")\n",
    "print(f\"SMILES from MGF not present in JSON: {len(smiles_not_in_json)}\")"
   ],
   "id": "3e04d9f65583dd94",
   "outputs": [
    {
     "name": "stdout",
     "output_type": "stream",
     "text": [
      "Comparing SMILES from MGF with JSON keys...\n",
      "\n",
      "--- Comparison Results ---\n",
      "Not all SMILES from the filtered MGF file are present in the JSON file.\n",
      "Number of SMILES present in JSON: 13274\n",
      "Number of SMILES NOT present in JSON: 710\n",
      "\n",
      "--- Detailed Summary ---\n",
      "Total SMILES extracted from MGF: 13984\n",
      "Total SMILES in JSON: 32010\n",
      "SMILES present in JSON and MGF: 13274\n",
      "SMILES from MGF not present in JSON: 710\n"
     ]
    }
   ],
   "execution_count": 27
  },
  {
   "metadata": {},
   "cell_type": "markdown",
   "source": "# MSnRetrieval",
   "id": "246b521fd5bf4820"
  },
  {
   "metadata": {
    "ExecuteTime": {
     "end_time": "2024-12-11T13:47:52.449299Z",
     "start_time": "2024-12-11T13:47:52.447065Z"
    }
   },
   "cell_type": "code",
   "source": [
    "from massspecgym.data.transforms import MolFingerprinter, MolToInChIKey, MolToFormulaVector\n",
    "from massspecgym.data.datasets import MSnDataset, MSnRetrievalDataset\n",
    "from massspecgym.featurize import SpectrumFeaturizer\n",
    "from massspecgym.data.data_module import MassSpecDataModule"
   ],
   "id": "994fddaf14880765",
   "outputs": [],
   "execution_count": 14
  },
  {
   "metadata": {
    "ExecuteTime": {
     "end_time": "2024-12-11T13:47:53.534298Z",
     "start_time": "2024-12-11T13:47:53.531886Z"
    }
   },
   "cell_type": "code",
   "source": [
    "config = {\n",
    "    'features': ['collision_energy', 'ionmode', 'adduct', 'spectrum_stats', 'atom_counts', 'value', \"retention_time\", 'ion_source', 'binned_peaks'],\n",
    "    'feature_attributes': {\n",
    "        'atom_counts': {\n",
    "            'top_n_atoms': 12,\n",
    "            'include_other': True,\n",
    "        },\n",
    "    },\n",
    "}"
   ],
   "id": "695072afa9f7a549",
   "outputs": [],
   "execution_count": 15
  },
  {
   "metadata": {
    "ExecuteTime": {
     "end_time": "2024-12-11T13:47:56.682675Z",
     "start_time": "2024-12-11T13:47:56.680631Z"
    }
   },
   "cell_type": "code",
   "source": "featurizer = SpectrumFeaturizer(config, mode='torch')",
   "id": "d723f5d06aebdbbb",
   "outputs": [],
   "execution_count": 16
  },
  {
   "metadata": {
    "ExecuteTime": {
     "end_time": "2024-12-11T13:58:40.949926Z",
     "start_time": "2024-12-11T13:48:01.700055Z"
    }
   },
   "cell_type": "code",
   "source": [
    "# Instantiate the dataset\n",
    "mol_transform = MolFingerprinter(fp_size=2048)\n",
    "msn_retrieval_dataset = MSnRetrievalDataset(\n",
    "    pth=file_mgf,\n",
    "    mol_transform=mol_transform,\n",
    "    featurizer=featurizer,\n",
    "    candidates_pth=file_json,\n",
    "    max_allowed_deviation=0.005\n",
    ")\n"
   ],
   "id": "779326a9b2632005",
   "outputs": [
    {
     "name": "stdout",
     "output_type": "stream",
     "text": [
      "Warning: No candidates for 710 smiles. Skipping.\n"
     ]
    }
   ],
   "execution_count": 17
  },
  {
   "metadata": {
    "ExecuteTime": {
     "end_time": "2024-12-11T13:58:40.968952Z",
     "start_time": "2024-12-11T13:58:40.964770Z"
    }
   },
   "cell_type": "code",
   "source": [
    "# Initialize the data module\n",
    "data_module = MassSpecDataModule(\n",
    "    dataset=msn_retrieval_dataset,\n",
    "    batch_size=12,\n",
    "    num_workers=0,\n",
    "    split_pth=split_file\n",
    ")"
   ],
   "id": "f3ffa827ee2d806f",
   "outputs": [],
   "execution_count": 18
  },
  {
   "metadata": {
    "ExecuteTime": {
     "end_time": "2024-12-11T13:58:41.285581Z",
     "start_time": "2024-12-11T13:58:41.254147Z"
    }
   },
   "cell_type": "code",
   "source": [
    "data_module.prepare_data()\n",
    "data_module.setup()\n",
    "\n",
    "train_loader = data_module.train_dataloader()"
   ],
   "id": "990f454e09424c66",
   "outputs": [],
   "execution_count": 19
  },
  {
   "metadata": {
    "ExecuteTime": {
     "end_time": "2024-12-11T13:58:42.859181Z",
     "start_time": "2024-12-11T13:58:41.350529Z"
    }
   },
   "cell_type": "code",
   "source": [
    "# Test the data loader\n",
    "for batch in train_loader:\n",
    "    print(batch['spec'])  # PyG Batch object\n",
    "    print(f\"batch['mol'] shape: {batch['mol'].shape}\")  # Should be [batch_size, fp_size]\n",
    "    print(f\"batch['candidates'] shape: {batch['candidates'].shape}\")  # [total_candidates, fp_size]\n",
    "    print(f\"batch['labels'] shape: {batch['labels'].shape}\")  # [total_candidates]\n",
    "    print(f\"batch['batch_ptr']: {batch['batch_ptr']}\")  # [batch_size]\n",
    "    break"
   ],
   "id": "170a0faa88c49e2d",
   "outputs": [
    {
     "ename": "TypeError",
     "evalue": "DataLoader found invalid type: '<class 'numpy.ndarray'>'",
     "output_type": "error",
     "traceback": [
      "\u001B[0;31m---------------------------------------------------------------------------\u001B[0m",
      "\u001B[0;31mTypeError\u001B[0m                                 Traceback (most recent call last)",
      "Cell \u001B[0;32mIn[20], line 2\u001B[0m\n\u001B[1;32m      1\u001B[0m \u001B[38;5;66;03m# Test the data loader\u001B[39;00m\n\u001B[0;32m----> 2\u001B[0m \u001B[38;5;28;01mfor\u001B[39;00m batch \u001B[38;5;129;01min\u001B[39;00m train_loader:\n\u001B[1;32m      3\u001B[0m     \u001B[38;5;28mprint\u001B[39m(batch[\u001B[38;5;124m'\u001B[39m\u001B[38;5;124mspec\u001B[39m\u001B[38;5;124m'\u001B[39m])  \u001B[38;5;66;03m# PyG Batch object\u001B[39;00m\n\u001B[1;32m      4\u001B[0m     \u001B[38;5;28mprint\u001B[39m(\u001B[38;5;124mf\u001B[39m\u001B[38;5;124m\"\u001B[39m\u001B[38;5;124mbatch[\u001B[39m\u001B[38;5;124m'\u001B[39m\u001B[38;5;124mmol\u001B[39m\u001B[38;5;124m'\u001B[39m\u001B[38;5;124m] shape: \u001B[39m\u001B[38;5;132;01m{\u001B[39;00mbatch[\u001B[38;5;124m'\u001B[39m\u001B[38;5;124mmol\u001B[39m\u001B[38;5;124m'\u001B[39m]\u001B[38;5;241m.\u001B[39mshape\u001B[38;5;132;01m}\u001B[39;00m\u001B[38;5;124m\"\u001B[39m)  \u001B[38;5;66;03m# Should be [batch_size, fp_size]\u001B[39;00m\n",
      "File \u001B[0;32m~/UTILS/anaconda3/envs/massspecgym/lib/python3.11/site-packages/torch/utils/data/dataloader.py:630\u001B[0m, in \u001B[0;36m_BaseDataLoaderIter.__next__\u001B[0;34m(self)\u001B[0m\n\u001B[1;32m    627\u001B[0m \u001B[38;5;28;01mif\u001B[39;00m \u001B[38;5;28mself\u001B[39m\u001B[38;5;241m.\u001B[39m_sampler_iter \u001B[38;5;129;01mis\u001B[39;00m \u001B[38;5;28;01mNone\u001B[39;00m:\n\u001B[1;32m    628\u001B[0m     \u001B[38;5;66;03m# TODO(https://github.com/pytorch/pytorch/issues/76750)\u001B[39;00m\n\u001B[1;32m    629\u001B[0m     \u001B[38;5;28mself\u001B[39m\u001B[38;5;241m.\u001B[39m_reset()  \u001B[38;5;66;03m# type: ignore[call-arg]\u001B[39;00m\n\u001B[0;32m--> 630\u001B[0m data \u001B[38;5;241m=\u001B[39m \u001B[38;5;28mself\u001B[39m\u001B[38;5;241m.\u001B[39m_next_data()\n\u001B[1;32m    631\u001B[0m \u001B[38;5;28mself\u001B[39m\u001B[38;5;241m.\u001B[39m_num_yielded \u001B[38;5;241m+\u001B[39m\u001B[38;5;241m=\u001B[39m \u001B[38;5;241m1\u001B[39m\n\u001B[1;32m    632\u001B[0m \u001B[38;5;28;01mif\u001B[39;00m \u001B[38;5;28mself\u001B[39m\u001B[38;5;241m.\u001B[39m_dataset_kind \u001B[38;5;241m==\u001B[39m _DatasetKind\u001B[38;5;241m.\u001B[39mIterable \u001B[38;5;129;01mand\u001B[39;00m \\\n\u001B[1;32m    633\u001B[0m         \u001B[38;5;28mself\u001B[39m\u001B[38;5;241m.\u001B[39m_IterableDataset_len_called \u001B[38;5;129;01mis\u001B[39;00m \u001B[38;5;129;01mnot\u001B[39;00m \u001B[38;5;28;01mNone\u001B[39;00m \u001B[38;5;129;01mand\u001B[39;00m \\\n\u001B[1;32m    634\u001B[0m         \u001B[38;5;28mself\u001B[39m\u001B[38;5;241m.\u001B[39m_num_yielded \u001B[38;5;241m>\u001B[39m \u001B[38;5;28mself\u001B[39m\u001B[38;5;241m.\u001B[39m_IterableDataset_len_called:\n",
      "File \u001B[0;32m~/UTILS/anaconda3/envs/massspecgym/lib/python3.11/site-packages/torch/utils/data/dataloader.py:673\u001B[0m, in \u001B[0;36m_SingleProcessDataLoaderIter._next_data\u001B[0;34m(self)\u001B[0m\n\u001B[1;32m    671\u001B[0m \u001B[38;5;28;01mdef\u001B[39;00m \u001B[38;5;21m_next_data\u001B[39m(\u001B[38;5;28mself\u001B[39m):\n\u001B[1;32m    672\u001B[0m     index \u001B[38;5;241m=\u001B[39m \u001B[38;5;28mself\u001B[39m\u001B[38;5;241m.\u001B[39m_next_index()  \u001B[38;5;66;03m# may raise StopIteration\u001B[39;00m\n\u001B[0;32m--> 673\u001B[0m     data \u001B[38;5;241m=\u001B[39m \u001B[38;5;28mself\u001B[39m\u001B[38;5;241m.\u001B[39m_dataset_fetcher\u001B[38;5;241m.\u001B[39mfetch(index)  \u001B[38;5;66;03m# may raise StopIteration\u001B[39;00m\n\u001B[1;32m    674\u001B[0m     \u001B[38;5;28;01mif\u001B[39;00m \u001B[38;5;28mself\u001B[39m\u001B[38;5;241m.\u001B[39m_pin_memory:\n\u001B[1;32m    675\u001B[0m         data \u001B[38;5;241m=\u001B[39m _utils\u001B[38;5;241m.\u001B[39mpin_memory\u001B[38;5;241m.\u001B[39mpin_memory(data, \u001B[38;5;28mself\u001B[39m\u001B[38;5;241m.\u001B[39m_pin_memory_device)\n",
      "File \u001B[0;32m~/UTILS/anaconda3/envs/massspecgym/lib/python3.11/site-packages/torch/utils/data/_utils/fetch.py:55\u001B[0m, in \u001B[0;36m_MapDatasetFetcher.fetch\u001B[0;34m(self, possibly_batched_index)\u001B[0m\n\u001B[1;32m     53\u001B[0m \u001B[38;5;28;01melse\u001B[39;00m:\n\u001B[1;32m     54\u001B[0m     data \u001B[38;5;241m=\u001B[39m \u001B[38;5;28mself\u001B[39m\u001B[38;5;241m.\u001B[39mdataset[possibly_batched_index]\n\u001B[0;32m---> 55\u001B[0m \u001B[38;5;28;01mreturn\u001B[39;00m \u001B[38;5;28mself\u001B[39m\u001B[38;5;241m.\u001B[39mcollate_fn(data)\n",
      "File \u001B[0;32m~/UTILS/anaconda3/envs/massspecgym/lib/python3.11/site-packages/torch_geometric/loader/dataloader.py:43\u001B[0m, in \u001B[0;36mCollater.__call__\u001B[0;34m(self, batch)\u001B[0m\n\u001B[1;32m     41\u001B[0m     \u001B[38;5;28;01mreturn\u001B[39;00m batch\n\u001B[1;32m     42\u001B[0m \u001B[38;5;28;01melif\u001B[39;00m \u001B[38;5;28misinstance\u001B[39m(elem, Mapping):\n\u001B[0;32m---> 43\u001B[0m     \u001B[38;5;28;01mreturn\u001B[39;00m {key: \u001B[38;5;28mself\u001B[39m([data[key] \u001B[38;5;28;01mfor\u001B[39;00m data \u001B[38;5;129;01min\u001B[39;00m batch]) \u001B[38;5;28;01mfor\u001B[39;00m key \u001B[38;5;129;01min\u001B[39;00m elem}\n\u001B[1;32m     44\u001B[0m \u001B[38;5;28;01melif\u001B[39;00m \u001B[38;5;28misinstance\u001B[39m(elem, \u001B[38;5;28mtuple\u001B[39m) \u001B[38;5;129;01mand\u001B[39;00m \u001B[38;5;28mhasattr\u001B[39m(elem, \u001B[38;5;124m'\u001B[39m\u001B[38;5;124m_fields\u001B[39m\u001B[38;5;124m'\u001B[39m):\n\u001B[1;32m     45\u001B[0m     \u001B[38;5;28;01mreturn\u001B[39;00m \u001B[38;5;28mtype\u001B[39m(elem)(\u001B[38;5;241m*\u001B[39m(\u001B[38;5;28mself\u001B[39m(s) \u001B[38;5;28;01mfor\u001B[39;00m s \u001B[38;5;129;01min\u001B[39;00m \u001B[38;5;28mzip\u001B[39m(\u001B[38;5;241m*\u001B[39mbatch)))\n",
      "File \u001B[0;32m~/UTILS/anaconda3/envs/massspecgym/lib/python3.11/site-packages/torch_geometric/loader/dataloader.py:43\u001B[0m, in \u001B[0;36m<dictcomp>\u001B[0;34m(.0)\u001B[0m\n\u001B[1;32m     41\u001B[0m     \u001B[38;5;28;01mreturn\u001B[39;00m batch\n\u001B[1;32m     42\u001B[0m \u001B[38;5;28;01melif\u001B[39;00m \u001B[38;5;28misinstance\u001B[39m(elem, Mapping):\n\u001B[0;32m---> 43\u001B[0m     \u001B[38;5;28;01mreturn\u001B[39;00m {key: \u001B[38;5;28mself\u001B[39m([data[key] \u001B[38;5;28;01mfor\u001B[39;00m data \u001B[38;5;129;01min\u001B[39;00m batch]) \u001B[38;5;28;01mfor\u001B[39;00m key \u001B[38;5;129;01min\u001B[39;00m elem}\n\u001B[1;32m     44\u001B[0m \u001B[38;5;28;01melif\u001B[39;00m \u001B[38;5;28misinstance\u001B[39m(elem, \u001B[38;5;28mtuple\u001B[39m) \u001B[38;5;129;01mand\u001B[39;00m \u001B[38;5;28mhasattr\u001B[39m(elem, \u001B[38;5;124m'\u001B[39m\u001B[38;5;124m_fields\u001B[39m\u001B[38;5;124m'\u001B[39m):\n\u001B[1;32m     45\u001B[0m     \u001B[38;5;28;01mreturn\u001B[39;00m \u001B[38;5;28mtype\u001B[39m(elem)(\u001B[38;5;241m*\u001B[39m(\u001B[38;5;28mself\u001B[39m(s) \u001B[38;5;28;01mfor\u001B[39;00m s \u001B[38;5;129;01min\u001B[39;00m \u001B[38;5;28mzip\u001B[39m(\u001B[38;5;241m*\u001B[39mbatch)))\n",
      "File \u001B[0;32m~/UTILS/anaconda3/envs/massspecgym/lib/python3.11/site-packages/torch_geometric/loader/dataloader.py:47\u001B[0m, in \u001B[0;36mCollater.__call__\u001B[0;34m(self, batch)\u001B[0m\n\u001B[1;32m     45\u001B[0m     \u001B[38;5;28;01mreturn\u001B[39;00m \u001B[38;5;28mtype\u001B[39m(elem)(\u001B[38;5;241m*\u001B[39m(\u001B[38;5;28mself\u001B[39m(s) \u001B[38;5;28;01mfor\u001B[39;00m s \u001B[38;5;129;01min\u001B[39;00m \u001B[38;5;28mzip\u001B[39m(\u001B[38;5;241m*\u001B[39mbatch)))\n\u001B[1;32m     46\u001B[0m \u001B[38;5;28;01melif\u001B[39;00m \u001B[38;5;28misinstance\u001B[39m(elem, Sequence) \u001B[38;5;129;01mand\u001B[39;00m \u001B[38;5;129;01mnot\u001B[39;00m \u001B[38;5;28misinstance\u001B[39m(elem, \u001B[38;5;28mstr\u001B[39m):\n\u001B[0;32m---> 47\u001B[0m     \u001B[38;5;28;01mreturn\u001B[39;00m [\u001B[38;5;28mself\u001B[39m(s) \u001B[38;5;28;01mfor\u001B[39;00m s \u001B[38;5;129;01min\u001B[39;00m \u001B[38;5;28mzip\u001B[39m(\u001B[38;5;241m*\u001B[39mbatch)]\n\u001B[1;32m     49\u001B[0m \u001B[38;5;28;01mraise\u001B[39;00m \u001B[38;5;167;01mTypeError\u001B[39;00m(\u001B[38;5;124mf\u001B[39m\u001B[38;5;124m\"\u001B[39m\u001B[38;5;124mDataLoader found invalid type: \u001B[39m\u001B[38;5;124m'\u001B[39m\u001B[38;5;132;01m{\u001B[39;00m\u001B[38;5;28mtype\u001B[39m(elem)\u001B[38;5;132;01m}\u001B[39;00m\u001B[38;5;124m'\u001B[39m\u001B[38;5;124m\"\u001B[39m)\n",
      "File \u001B[0;32m~/UTILS/anaconda3/envs/massspecgym/lib/python3.11/site-packages/torch_geometric/loader/dataloader.py:47\u001B[0m, in \u001B[0;36m<listcomp>\u001B[0;34m(.0)\u001B[0m\n\u001B[1;32m     45\u001B[0m     \u001B[38;5;28;01mreturn\u001B[39;00m \u001B[38;5;28mtype\u001B[39m(elem)(\u001B[38;5;241m*\u001B[39m(\u001B[38;5;28mself\u001B[39m(s) \u001B[38;5;28;01mfor\u001B[39;00m s \u001B[38;5;129;01min\u001B[39;00m \u001B[38;5;28mzip\u001B[39m(\u001B[38;5;241m*\u001B[39mbatch)))\n\u001B[1;32m     46\u001B[0m \u001B[38;5;28;01melif\u001B[39;00m \u001B[38;5;28misinstance\u001B[39m(elem, Sequence) \u001B[38;5;129;01mand\u001B[39;00m \u001B[38;5;129;01mnot\u001B[39;00m \u001B[38;5;28misinstance\u001B[39m(elem, \u001B[38;5;28mstr\u001B[39m):\n\u001B[0;32m---> 47\u001B[0m     \u001B[38;5;28;01mreturn\u001B[39;00m [\u001B[38;5;28mself\u001B[39m(s) \u001B[38;5;28;01mfor\u001B[39;00m s \u001B[38;5;129;01min\u001B[39;00m \u001B[38;5;28mzip\u001B[39m(\u001B[38;5;241m*\u001B[39mbatch)]\n\u001B[1;32m     49\u001B[0m \u001B[38;5;28;01mraise\u001B[39;00m \u001B[38;5;167;01mTypeError\u001B[39;00m(\u001B[38;5;124mf\u001B[39m\u001B[38;5;124m\"\u001B[39m\u001B[38;5;124mDataLoader found invalid type: \u001B[39m\u001B[38;5;124m'\u001B[39m\u001B[38;5;132;01m{\u001B[39;00m\u001B[38;5;28mtype\u001B[39m(elem)\u001B[38;5;132;01m}\u001B[39;00m\u001B[38;5;124m'\u001B[39m\u001B[38;5;124m\"\u001B[39m)\n",
      "File \u001B[0;32m~/UTILS/anaconda3/envs/massspecgym/lib/python3.11/site-packages/torch_geometric/loader/dataloader.py:49\u001B[0m, in \u001B[0;36mCollater.__call__\u001B[0;34m(self, batch)\u001B[0m\n\u001B[1;32m     46\u001B[0m \u001B[38;5;28;01melif\u001B[39;00m \u001B[38;5;28misinstance\u001B[39m(elem, Sequence) \u001B[38;5;129;01mand\u001B[39;00m \u001B[38;5;129;01mnot\u001B[39;00m \u001B[38;5;28misinstance\u001B[39m(elem, \u001B[38;5;28mstr\u001B[39m):\n\u001B[1;32m     47\u001B[0m     \u001B[38;5;28;01mreturn\u001B[39;00m [\u001B[38;5;28mself\u001B[39m(s) \u001B[38;5;28;01mfor\u001B[39;00m s \u001B[38;5;129;01min\u001B[39;00m \u001B[38;5;28mzip\u001B[39m(\u001B[38;5;241m*\u001B[39mbatch)]\n\u001B[0;32m---> 49\u001B[0m \u001B[38;5;28;01mraise\u001B[39;00m \u001B[38;5;167;01mTypeError\u001B[39;00m(\u001B[38;5;124mf\u001B[39m\u001B[38;5;124m\"\u001B[39m\u001B[38;5;124mDataLoader found invalid type: \u001B[39m\u001B[38;5;124m'\u001B[39m\u001B[38;5;132;01m{\u001B[39;00m\u001B[38;5;28mtype\u001B[39m(elem)\u001B[38;5;132;01m}\u001B[39;00m\u001B[38;5;124m'\u001B[39m\u001B[38;5;124m\"\u001B[39m)\n",
      "\u001B[0;31mTypeError\u001B[0m: DataLoader found invalid type: '<class 'numpy.ndarray'>'"
     ]
    }
   ],
   "execution_count": 20
  },
  {
   "metadata": {},
   "cell_type": "code",
   "outputs": [],
   "execution_count": null,
   "source": "",
   "id": "112d0c0b288261aa"
  },
  {
   "metadata": {},
   "cell_type": "code",
   "outputs": [],
   "execution_count": null,
   "source": "",
   "id": "b74f404615876148"
  },
  {
   "metadata": {},
   "cell_type": "code",
   "outputs": [],
   "execution_count": null,
   "source": "",
   "id": "4994cbd8d2c50818"
  },
  {
   "metadata": {},
   "cell_type": "code",
   "outputs": [],
   "execution_count": null,
   "source": "",
   "id": "170f3529352c348d"
  },
  {
   "metadata": {},
   "cell_type": "code",
   "outputs": [],
   "execution_count": null,
   "source": "",
   "id": "5d2da677383c0a2d"
  }
 ],
 "metadata": {
  "kernelspec": {
   "display_name": "Python 3",
   "language": "python",
   "name": "python3"
  },
  "language_info": {
   "codemirror_mode": {
    "name": "ipython",
    "version": 2
   },
   "file_extension": ".py",
   "mimetype": "text/x-python",
   "name": "python",
   "nbconvert_exporter": "python",
   "pygments_lexer": "ipython2",
   "version": "2.7.6"
  }
 },
 "nbformat": 4,
 "nbformat_minor": 5
}
