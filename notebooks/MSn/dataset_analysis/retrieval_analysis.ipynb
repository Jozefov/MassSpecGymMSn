{
 "cells": [
  {
   "cell_type": "code",
   "execution_count": 1,
   "id": "da6a763cea0be904",
   "metadata": {
    "ExecuteTime": {
     "end_time": "2025-02-14T13:39:38.965337Z",
     "start_time": "2025-02-14T13:39:35.571421Z"
    }
   },
   "outputs": [],
   "source": [
    "from massspecgym.data.datasets import MSnDataset, MSnRetrievalDataset, RetrievalDataset\n",
    "import torch"
   ]
  },
  {
   "cell_type": "code",
   "execution_count": 32,
   "id": "22f3a2d12131cd17",
   "metadata": {
    "ExecuteTime": {
     "end_time": "2025-02-14T13:39:51.884938Z",
     "start_time": "2025-02-14T13:39:51.882519Z"
    }
   },
   "outputs": [],
   "source": [
    "file_mgf = \"/Users/macbook/CODE/Majer:MassSpecGym/data/MSn/20241211_msn_library_pos_all_lib_MSn.mgf\"\n",
    "file_json = \"/Users/macbook/CODE/Majer:MassSpecGym/data/Retrieval/MassSpecGym_retrieval_candidates_mass.json\"\n",
    "split_file = \"/Users/macbook/CODE/Majer:MassSpecGym/data/MSn/20241211_split.tsv\""
   ]
  },
  {
   "cell_type": "code",
   "execution_count": 3,
   "id": "c0a04ca978e09c61",
   "metadata": {
    "ExecuteTime": {
     "end_time": "2025-02-14T13:39:52.207660Z",
     "start_time": "2025-02-14T13:39:52.204508Z"
    }
   },
   "outputs": [],
   "source": [
    "from massspecgym.data.transforms import MolFingerprinter, SpecTokenizer\n",
    "from massspecgym.data import RetrievalDataset, MassSpecDataModule"
   ]
  },
  {
   "cell_type": "code",
   "execution_count": 4,
   "id": "db1094d3df48cd7f",
   "metadata": {
    "ExecuteTime": {
     "end_time": "2025-02-14T13:39:54.026800Z",
     "start_time": "2025-02-14T13:39:54.024230Z"
    }
   },
   "outputs": [],
   "source": [
    "pth_massspecgym_original = \"/Users/macbook/CODE/Majer:MassSpecGym/data/MassSpecGym/MassSpecGym.tsv\""
   ]
  },
  {
   "cell_type": "code",
   "execution_count": 5,
   "id": "5346beea048ce5a5",
   "metadata": {
    "ExecuteTime": {
     "end_time": "2025-02-14T13:40:09.021407Z",
     "start_time": "2025-02-14T13:39:55.891926Z"
    }
   },
   "outputs": [],
   "source": [
    "# Init hyperparameters\n",
    "n_peaks = 60\n",
    "fp_size = 4096\n",
    "batch_size = 12\n",
    "\n",
    "# Load dataset\n",
    "dataset_original = RetrievalDataset(\n",
    "    pth=pth_massspecgym_original,\n",
    "    candidates_pth=file_json,\n",
    "    spec_transform=SpecTokenizer(n_peaks=n_peaks),\n",
    "    mol_transform=MolFingerprinter(fp_size=fp_size),\n",
    ")\n"
   ]
  },
  {
   "cell_type": "code",
   "execution_count": 6,
   "id": "d6ceed9debd5cc51",
   "metadata": {
    "ExecuteTime": {
     "end_time": "2025-02-14T13:40:09.027498Z",
     "start_time": "2025-02-14T13:40:09.025542Z"
    }
   },
   "outputs": [],
   "source": [
    "# Init data module\n",
    "data_module_original = MassSpecDataModule(\n",
    "    dataset=dataset_original,\n",
    "    batch_size=batch_size,\n",
    "    num_workers=0,\n",
    ")"
   ]
  },
  {
   "cell_type": "code",
   "execution_count": 7,
   "id": "c4bfe776ab073f74",
   "metadata": {
    "ExecuteTime": {
     "end_time": "2025-02-14T13:40:09.081160Z",
     "start_time": "2025-02-14T13:40:09.034062Z"
    }
   },
   "outputs": [
    {
     "name": "stdout",
     "output_type": "stream",
     "text": [
      "Train dataset size: 194119\n",
      "Val dataset size: 19429\n"
     ]
    }
   ],
   "source": [
    "data_module_original.prepare_data()\n",
    "data_module_original.setup()\n",
    "\n",
    "train_loader_original = data_module_original.train_dataloader()"
   ]
  },
  {
   "cell_type": "code",
   "execution_count": 8,
   "id": "55185d08a14a11ab",
   "metadata": {
    "ExecuteTime": {
     "end_time": "2025-02-14T13:40:10.370715Z",
     "start_time": "2025-02-14T13:40:09.086940Z"
    }
   },
   "outputs": [
    {
     "name": "stdout",
     "output_type": "stream",
     "text": [
      "I am not here\n",
      "{'spec': tensor([[[1.8010e+02, 1.1000e+00],\n",
      "         [3.9023e+01, 3.8038e-02],\n",
      "         [4.3018e+01, 1.6817e-01],\n",
      "         ...,\n",
      "         [0.0000e+00, 0.0000e+00],\n",
      "         [0.0000e+00, 0.0000e+00],\n",
      "         [0.0000e+00, 0.0000e+00]],\n",
      "\n",
      "        [[4.1519e+02, 1.1000e+00],\n",
      "         [2.2707e+02, 1.6000e-02],\n",
      "         [3.3713e+02, 5.0000e-03],\n",
      "         ...,\n",
      "         [0.0000e+00, 0.0000e+00],\n",
      "         [0.0000e+00, 0.0000e+00],\n",
      "         [0.0000e+00, 0.0000e+00]],\n",
      "\n",
      "        [[6.0608e+02, 1.1000e+00],\n",
      "         [5.3763e+01, 1.4590e-03],\n",
      "         [8.6599e+01, 1.3517e-03],\n",
      "         ...,\n",
      "         [5.8843e+02, 1.6743e-03],\n",
      "         [5.9699e+02, 1.3744e-03],\n",
      "         [6.1143e+02, 1.5128e-03]],\n",
      "\n",
      "        ...,\n",
      "\n",
      "        [[5.6857e+02, 1.1000e+00],\n",
      "         [9.5085e+01, 3.6179e-02],\n",
      "         [9.7101e+01, 1.8033e-02],\n",
      "         ...,\n",
      "         [5.5034e+02, 2.8981e-03],\n",
      "         [5.5056e+02, 3.6117e-01],\n",
      "         [5.6857e+02, 5.1634e-03]],\n",
      "\n",
      "        [[1.9509e+02, 1.1000e+00],\n",
      "         [1.0904e+02, 3.9039e-02],\n",
      "         [1.0906e+02, 5.0050e-03],\n",
      "         ...,\n",
      "         [0.0000e+00, 0.0000e+00],\n",
      "         [0.0000e+00, 0.0000e+00],\n",
      "         [0.0000e+00, 0.0000e+00]],\n",
      "\n",
      "        [[1.6112e+02, 1.1000e+00],\n",
      "         [4.1039e+01, 4.3000e-02],\n",
      "         [4.3053e+01, 1.2000e-02],\n",
      "         ...,\n",
      "         [0.0000e+00, 0.0000e+00],\n",
      "         [0.0000e+00, 0.0000e+00],\n",
      "         [0.0000e+00, 0.0000e+00]]]), 'mol': tensor([[0., 0., 0.,  ..., 0., 0., 0.],\n",
      "        [0., 0., 0.,  ..., 0., 0., 0.],\n",
      "        [0., 0., 0.,  ..., 0., 0., 0.],\n",
      "        ...,\n",
      "        [0., 0., 0.,  ..., 0., 0., 0.],\n",
      "        [0., 0., 0.,  ..., 0., 0., 0.],\n",
      "        [0., 0., 0.,  ..., 0., 0., 0.]]), 'precursor_mz': tensor([180.1019, 415.1900, 606.0840, 204.0660, 494.3250, 258.0714, 339.1211,\n",
      "        344.2230, 524.3720, 568.5670, 195.0877, 161.1172]), 'adduct': ['[M+H]+', '[M+Na]+', '[M+H]+', '[M+H]+', '[M+H]+', '[M+H]+', '[M+Na]+', '[M+H]+', '[M+H]+', '[M+H]+', '[M+H]+', '[M+H]+'], 'mol_freq': tensor([ 32.,  18.,  19.,   6., 125.,  12.,   6.,   5., 200.,  30., 252.,   3.]), 'identifier': ['MassSpecGymID0057234', 'MassSpecGymID0359428', 'MassSpecGymID0138836', 'MassSpecGymID0183776', 'MassSpecGymID0402476', 'MassSpecGymID0089905', 'MassSpecGymID0152466', 'MassSpecGymID0185456', 'MassSpecGymID0184331', 'MassSpecGymID0184640', 'MassSpecGymID0026680', 'MassSpecGymID0175517'], 'smiles': ['CCOC1=CC=C(C=C1)NC(=O)C', 'CC(=CCC1=C(C=CC(=C1)C2CC(=O)C3=C(O2)C(=C(C=C3)O)CC=C(C)C)O)C', 'C1=NC2=C(N1C3C(C(C(O3)COP(=O)(O)OP(=O)(O)OC4C(C(C(C(O4)CO)O)O)O)O)O)N=C(NC2=O)N', 'C1=CC=C2C(=C1)C(=CN2)CC(=O)C(=O)O', 'CCCCCC/C=C/CCCCCCCC(=O)OC[C@H](COP(=O)([O-])OCC[N+](C)(C)C)O', 'CCN(CC)C(=O)SCC1=CC=C(C=C1)Cl', 'COC1=CC=C(C=C1)[C@@H]2[C@@H](CC3=C(O2)C=C(C=C3OC)OC)O', 'C1CCN(CC1)C(=O)CCCCCC/C=C/C2=CC3=C(C=C2)OCO3', 'CCCCCCCCCCCCCCCCCC(=O)O[C@H](CO)COP(=O)([O-])OCC[N+](C)(C)C', 'CCCCCCCCCCCCCCCCCC(=O)N[C@@H](CO)[C@@H](CCCCCCCCCCCCCCC)O', 'CN1C=NC2=C1C(=O)N(C(=O)N2C)C', 'CCCCCCC(C(=O)O)O'], 'candidates': tensor([[0., 0., 0.,  ..., 0., 0., 0.],\n",
      "        [0., 0., 0.,  ..., 0., 0., 1.],\n",
      "        [0., 0., 0.,  ..., 0., 0., 0.],\n",
      "        ...,\n",
      "        [0., 0., 0.,  ..., 0., 0., 0.],\n",
      "        [0., 0., 0.,  ..., 0., 0., 0.],\n",
      "        [0., 0., 0.,  ..., 0., 0., 0.]]), 'labels': tensor([ True, False, False,  ..., False, False, False]), 'batch_ptr': tensor([256, 256, 256, 256, 256, 256, 256, 256, 256, 126, 256, 256]), 'candidates_smiles': ['CCOC1=CC=C(C=C1)NC(=O)C', 'C/C(=C\\\\c1[nH]c(C)cc1C)C(=O)O', 'CCCC(=O)c1ccc(N)cc1O', 'C[N+](C)(CC(=O)[O-])c1ccccc1', 'CC(N)C(=O)COc1ccccc1', 'CCc1cc(NC(C)=O)ccc1O', 'O=C1CCCN1.Oc1ccccc1', 'CCNc1ccc(CC(=O)O)cc1', 'COc1ccc2c(c1)C(O)CN2C', 'CC(=O)NOCc1ccc(C)cc1', 'CON=Cc1ccc(C)c(C)c1O', 'CNCCc1ccc2c(c1)OCO2', 'O=C(CCCO)Cc1ccncc1', 'CC(C)(C#N)OC(=O)C1=CCCC1', 'CCc1cc(C(=O)NC2CC2)co1', 'CCCc1cc(C)cc([N+](=O)[O-])c1', 'C=Cc1c(CO)cnc(C)c1OC', 'Cc1ccoc1CNC(=O)C1CC1', 'C/[C]=C(\\\\C)OOc1cc[n+](C)cc1', 'CCc1cncc(C)c1C(=O)OC', 'O=C(O)CC1CCCc2c[nH]cc21', 'CCOc1ccccc1CNC=O', 'COc1c(N)ccc2c1CCCO2', 'CCOC(=O)c1cnc(C)c(C)c1', 'COc1cc(C=CCO)ccc1N', 'C=C1C2CC3OC3CC2C(=O)N1C', 'CCc1ccc(CC[N+](=O)[O-])cc1', 'Cc1cccnc1CCCC(=O)O', 'COc1ncccc1C=CCCO', 'O=C1C=CCC(=O)N1CC1CCC1', 'N#CC1(C(=O)O)C[C@@H]2CC[C@@H](C2)C1', 'N#CC[C@@H]1C[C@@H]2C(=O)CCC[C@H]2O1', 'Cc1occc1C(=O)N[C@@H]1C[C@H]1C', 'NC1CC2=C(C=C1O)C(=O)CCC2', 'CC(C)c1coc2c1C(=O)CNC2', 'NC(C1=COCCC1)c1ccco1', 'CCNC(=O)C1=CCCC=C1C=O', 'CC(C1=CC(=O)C(=O)C=C1)[C@@H](C)N', 'CCC(=O)c1cc(OC)ccc1N', 'C=C/C=C/OC(=O)/C=C\\\\C=C\\\\CN', 'O=C(CNC1CC1)Cc1ccoc1', 'Oc1ccc(N2CC[C@H](O)C2)cc1', 'Cc1ncccc1C(C)CC(=O)O', 'CC(C)N(O)/C=C1/C=CC=CC1=O', 'C[C@H]1OC(=O)N2[C@@H]1[C@H]1C=C[C@@H]2CC1', 'CNc1ccc(/C=C/C(O)O)cc1', 'CCc1cccc(CC(=O)OC)n1', 'C/C(C#N)=C\\\\C1(C(=O)O)CC1(C)C', 'Oc1cccc(C2CNCC2O)c1', 'CCOC(=O)/C(C)=C1/NC2C=CC12', 'CC1=C(C)Cc2c(O)[nH]c(O)c2C1', 'CC(C(N)=O)C(O)c1ccccc1', 'CCCc1ccnc2c1OCCO2', 'C=C(C(=O)O)C1CC1C.C=CC#N', 'CC(C)[C@H](C(=O)O)c1ccncc1', 'CC(=O)C(C)Oc1ccc(N)cc1', 'O=C1C2=C(C=CCC2)CN1CCO', 'NCc1cccc2c1OCCOC2', '[H]/N=C(/COc1ccc(C)cc1)OC', 'c1coc(C2(C3CNC3)COC2)c1', 'C=C(C)/C=C\\\\C(=C/COC)OC#N', 'Nc1ccc(C(=O)C2CCCC2)o1', 'O=C(c1ccn(CCO)c1)C1CC1', 'CCC(=O)Nc1cccc(C)c1O', 'OC[C@@H]1Cc2cccc(O)c2CN1', 'C=CC/N=C/C1=C(O)CCCC1=O', 'COC(=O)[C@@H](CN)c1ccccc1', 'C=CCc1ccc(OC)nc1OC', 'COC(=O)C(C)c1cccc(N)c1', 'Cc1ccc(C(C)C)c([N+](=O)[O-])c1', 'Cc1ncccc1C(C)(C)C(=O)O', 'Cc1ccc(NC(=O)O)c(C)c1C', 'CNCC1(C)Oc2ccccc2O1', 'C/C=C(\\\\CCC(C)=O)c1cnco1', 'C=CC12CCCCC1C(=O)NC2=O', 'C=C(Cc1cc[nH]c1)C(=O)OCC', 'COc1cccc2c1C[C@@H](N)[C@@H]2O', 'O=CN(O)CCCc1ccccc1', 'COC(=O)C1=CC(C)C=CC=C1N', 'C=CCCNC(=O)c1occc1C', 'CN1CCCc2c1ccc(O)c2O', 'CC(C)(N)Oc1ccc(C=O)cc1', 'CC(=O)CCc1onc2c1CCC2', 'CCC1NC(=O)CC1c1ccoc1', 'CC1(Cc2ccoc2)CCC(=O)N1', 'COC(=O)C1=C[C@H]2[C@H]3N1CC[C@@]23C', 'C=C(C=CC#N)C(=O)OCCCC', 'C=C1CC=C(CO)/C=C\\\\C/C1=N/O', 'CCc1cccc(CNC(=O)O)c1', 'CCN(C(=O)O)c1cccc(C)c1', 'CC(C)Cc1cccc([N+](=O)[O-])c1', 'C=C[C@H](N)c1cc(OC)ccc1O', 'CCCC(=O)c1cccc(O)c1N', 'ONCc1cccc(C2COC2)c1', 'C=C1CC(C)(C)C=C(NC=O)C1=O', 'CC(=O)N(O)c1cccc(C)c1C', 'Cc1cncc([C@@H]2COC[C@H]2O)c1', 'CC[C@H](N)C(=O)Oc1ccccc1', 'CC1OCCC1n1cccc1C=O', 'Cc1oc2c(c1C)/C(=N/O)CCC2', 'CN[C@@H](C)c1cccc2c1OCO2', 'COc1cncc(CC(C)C=O)c1', 'CN(Cc1ccoc1)C(=O)C1CC1', 'COC(=O)c1c(C)cc2n1CCC2', 'C[C@H](O)[C@@H]1N[C@@H](CO)[C@H](F)[C@H]1O', 'C[C@H]([NH2+]CC(=O)[O-])c1ccccc1', 'CC(C)(C1C=CC=CC=C1)[N+](=O)[O-]', 'C[C@H](/C=N/O)OCc1ccccc1', 'Cc1occc1C(=O)N1CC(C)C1', 'N[C@@H]1CCc2c(CO)cc(O)cc21', 'COc1cc(C=O)ccc1N(C)C', 'O=[N+]([O-])C=C1[C@H]2CC[C@@H]3C[C@H]2[C@H]1C3', 'CCc1cnccc1CC(=O)OC', 'CC(=O)c1cc2c(n1C)CCOC2', 'C[C@H](O)C(=O)NCc1ccccc1', 'Cc1ccc(O[C@H](C)C(N)=O)cc1', 'CC(=O)c1cc(C(C)(C)O)ccn1', 'COC(=O)c1cc(C)nc(C)c1C', 'CCC(N)C(=O)Oc1ccccc1', 'O=C1O[C@@H]2C=C[C@@]3(CCCCN13)C2', 'C#CCCCCN1C(=O)CCC1=O', 'Nc1c(O)cccc1OCC1CC1', 'CNC1CCOc2c(O)cccc21', 'CN[C@H](Cc1ccccc1)C(=O)O', 'CC(=O)C(C)=O.Nc1ccccc1', 'CC(=O)CCc1cccc(O)c1N', 'Cc1cccc(C[C@H]([NH3+])C(=O)[O-])c1', 'Nc1ccccc1/C(=C/CO)CO', 'COc1ccccc1C=CCON', 'N[C@@H]1CCC2C=CC(C(=O)O)=CC21', 'Cc1nccc(C(C)C(=O)O)c1C', 'CCC(C)C(=O)Oc1cccnc1', 'CC(=O)C1=NOC2C3CCC(C3)C12', 'CCC(O)c1ccccc1C(N)=O', 'COc1ccc(N)cc1CC(C)=O', 'CNC(=O)C(O)c1ccc(C)cc1', 'OCCC/N=C/c1ccccc1O', 'NCc1ccc(CCC(=O)O)cc1', 'CO.Nc1cccc(/C=C/C=O)c1', 'CCc1ncccc1CC(=O)OC', 'CC1CCN(c2ccc(C=O)o2)C1', 'CCO/C=C1\\\\N=CC=C(CC)C1=O', 'Cc1ccccc1COCC(N)=O', 'Nc1ccc(C2COCOC2)cc1', 'C/C(=N\\\\CCO)c1ccccc1O', 'Cn1cccc1[C@]12CCOC[C@@H]1O2', 'CCC(O)C(=O)Nc1ccccc1', 'CCn1c(C(C)=O)ccc1C(C)=O', 'CC(=O)O[C@@H](C)c1ccccc1N', 'C=C(C)CC(=O)c1ccc(CN)o1', 'CCC(=O)c1cnc(OC)cc1C', 'OCC1(O)CCCc2cccnc21', 'CC.O=C1CCOc2cccnc21', 'CCc1c([N+](=O)[O-])ccc(C)c1C', 'C=C(CN)c1ccc(O)c(OC)c1', 'COC(=O)CCCc1ccccn1', 'CCOc1ccc2c(c1)OCCN2', 'COc1cccc(C=O)c1N(C)C', 'NC1(CCOc2ccccc2)CO1', 'CC(C)N(O)C=C1C=CC=CC1=O', 'C=C(C)CNC(=O)c1coc(C)c1', 'COC(=O)C1=CC=CC(C)C=C1N', 'NCCCOC(=O)c1ccccc1', 'Cc1c(N)cc(C(=O)O)c(C)c1C', 'O=C(C[C@H]1CCCN1)c1ccco1', 'O=C1C=C(O)C2(CCC3CC3C2)N1', 'Cc1cc2c(c(C)c1O)OC[C@H]2N', 'CNC(=O)O[C@@H](C)c1ccccc1', 'CC(C)(C)c1ccnc2c1OCO2', 'Cc1ccc2c(c1)COC(CN)O2', 'C=CCC1=C(N)C=C2OCOC2C1', 'CC(O)C1Cc2cc(O)ccc2N1', 'CON1CC2C3C=CC(C3)C2C1=O', 'COC(=O)N1C(C)=CC2C=CC21C', 'CN1CCC(=O)CC1c1ccco1', 'COC(C)(N)C(=O)c1ccccc1', 'CCNCCC1=CC(=O)C(=O)C=C1', 'Cc1ccc(O)c2c1CC(N)CO2', 'CC(N)CC(=O)c1ccc(O)cc1', 'CCc1cc(C(=O)O)c(C)cc1N', 'CC(C)Oc1ccncc1CC=O', 'CC(C)c1nc2c(o1)CCC(=O)C2', 'C/C=C/c1c(NCCC)c(=O)c1=O', 'C=CCNCc1ccc(O)cc1O', 'CC(C)C(=O)c1cc(O)ccc1N', 'Cc1cc(C)cc([C@H]([NH3+])C(=O)[O-])c1', 'Cc1cc(CN)c2c(c1)OCCO2', 'CCOc1ccc(NC=O)c(C)c1', 'CN(C)Cc1ccc2c(c1)COO2', 'CC(C)(O)c1ccc(C(N)=O)cc1', 'CCOc1ccc(CC(C)=O)nc1', 'CNc1ccc(CC(=O)OC)cc1', 'CC(=O)NCc1cccc(CO)c1', 'COC(=O)[C@@H]1CC=CC[C@H]1CC#N', 'CC(C(=O)O)N1/C=C\\\\C=C/C=C\\\\C1', 'C=C(C)C1(C2CC(=O)NC2=O)CC1', 'COC(=O)[C@](C)(N)c1ccccc1', 'O=C(CF)C(CCCCO)NO', 'CC(=O)ONc1cccc(C)c1C', 'CC1=CC(=O)C(=O)C(C)=C1N(C)C', 'Cc1ccc(C(=O)N(C)C)c(O)c1', 'NCC[C@@H](C(=O)O)c1ccccc1', 'CCc1ccc(O)c(/C(C)=N/O)c1', 'O=Cc1occc1C1CCCNC1', 'C=CCOC(=O)CCn1cccc1', 'CN1C(=O)[C@@H]2[C@H](C1O)[C@@H]1C=C[C@H]2C1', 'COCCNC(=O)c1ccccc1', 'CC(=O)c1ccc(OC(C)C)cn1', 'CC=CCOc1ccc(CO)nc1', 'C=C(N)OCc1ccc(O)c(C)c1', 'Cn1cc(CC2CC2)cc1C(=O)O', 'CCCCOc1ccc(C=O)nc1', 'COc1c(C)cc(C=NO)cc1C', 'C[C@H](N)C(=O)C(O)c1ccccc1', 'CO[B-](OC)(OC)c1ncco1.[Li+]', 'N[C@H]1COc2ccccc2[C@@H](O)C1', 'COC(=O)CC(N)c1ccccc1', 'C/C(C#N)=C/[C@H]1[C@H](C(=O)O)C1(C)C', 'OCC1CCOC1c1cccnc1', 'Cc1cccc(CC(N)C(=O)O)c1', 'NC1CCc2c(OCO)cccc21', 'CC1(Cc2ccccn2)OCCO1', '[H]/N=C(\\\\OCC)c1ccc(O)cc1C', 'COC1=CC=C2C(=O)NCCC2C1', 'N#C/C(=C/C1CCCCC1)C(=O)O', 'CNCC=Cc1ccc(O)cc1O', 'CCOC(=O)c1nccc(C)c1C', 'NOCCc1cccc2c1CCO2', 'CC1(CO)Cc2c(O)cccc2N1', 'CO.O=C1CCc2ccccc2N1', 'OC1CCOC(c2ccncc2)C1', 'NC1CCc2c(O)cccc2C1O', 'Cc1ccccc1C[NH2+]CC(=O)[O-]', 'CNC(=O)O[C@H](C)c1ccccc1', 'COC1COc2cccc(N)c2C1', 'Cc1cncc(CC(C)C(=O)O)c1', 'N#CC[C@@H]1C[C@@H]2C(=O)CCC[C@@H]2O1', 'CCN(C)c1ccc(C(=O)O)cc1', 'O=C(CCCCO)c1ccccn1', 'Cc1ccc(C=O)c(CCON)c1', 'C=C(C)Cn1cccc(OC)c1=O', 'O=CN[C@@H](CO)Cc1ccccc1', 'C[C@@H](O)CNC(=O)c1ccccc1', 'N#CC1CC2CC1CC21OCCO1', '[O-][n+]1ccccc1C1(O)CCCC1', 'COc1noc2c1CCCC=C2C', 'CO/N=C(/C)c1ccc(C)c(O)c1', 'CC1(O)CCN(c2ccccc2)O1', 'N[C@@H]1C[C@@H](Oc2ccccc2)[C@@H]1O', 'O=C1N=COC12CC1CCCC1C2', 'C#CC(=O)N(C)CC12COCC1C2', 'CONC(=O)c1ccc(C)c(C)c1', 'COc1cc(N)c(C)cc1C(C)=O', 'CC(=O)C(N)c1ccc(C)cc1O', 'NC(=O)CC[C@@H](O)c1ccccc1', 'O[C@H]1CNC[C@@H]1Oc1ccccc1', 'CC(=CCC1=C(C=CC(=C1)C2CC(=O)C3=C(O2)C(=C(C=C3)O)CC=C(C)C)O)C', 'CC(C)c1ccc(-n2cc(O)c(C(=O)NCCC3CCCNC3)n2)cc1.Cl', 'CC(C)CN(C)C(=O)c1n[nH]c2c1CCN(C(=O)c1cccc3nccnc13)C2', 'CCC1(CO/C(C=O)=C(/C=N/Nc2cc(F)cc(F)c2)N2CCNCC2)CC1', 'COC(=O)/C=C/C[C@@H]1O[C@H](c2ccccc2)OC[C@H]1O[Si](C)(C)C(C)(C)C', 'COc1cc(C)nc(N2CCN(C(=O)c3nn(-c4ccccc4)cc3C)CC2)n1', 'COc1cc(-c2cc(C3(NC(=O)c4cc(C5CC5)nn4C)CC3)n(C)n2)ccn1', 'CCCCOc1nc(N)c2[nH]c(=O)n(Cc3cccc(Cn4cccc4)c3)c2n1', 'CCC(C)Oc1c(OC)cc(/C=C/c2ccc(OC)c3ccccc23)cc1OC', 'C=C[C@H]1OC(=O)C[C@@H](O[Si](C)(C)C(C)(C)C)[C@@H]1OCc1ccc(OC)cc1', 'O=C(OC1C2CCCCCC(CC2)C1OC(=O)c1ccccc1)c1ccccc1', 'CN(C)CCCNC(=O)CC1CSc2nc3c(cnn3C(C)(C)C)c(=O)n21', 'Cc1ccc(-n2nnc(C(=O)Nc3ccccc3NC(=O)NC(C)C)c2C)cc1', 'C(=NN1CCN(N=Cc2cccc3ccccc23)CC1)c1cccc2ccccc12', 'C=Cc1ccnc(C2=CN(c3ccc(-c4ccccc4)cc3)C3=NCCCCN23)c1', 'C[N+](C)(C)CCNC(=O)CNC(=O)[C@@H](CS)NC(=O)CC[C@H](N)C(=O)O', 'C=CC1CC=C(c2cnc3ccc(-c4nc[nH]c4-c4cccc(C)n4)cc3c2)CC1', 'CCN(C(=O)c1cc(C)nc(NCCc2ccccc2F)n1)c1cccc(C)c1', 'COc1ccc(CC(=O)N2CCN(c3cc(-n4ccc(C)n4)ncn3)CC2)cc1', 'Cc1cc(CNC(=O)Cn2cnc3ccccc3c2=O)nc(N2CCCCC2)n1', 'COc1cccc2c1Oc1c3c(cc4c1c-2[nH][n+]4CCN(C)C)OC(C)(C)C=C3', 'CCN/C(=N\\\\Cc1c(CC)noc1CC)NCCc1ccc(OC)cc1Cl', 'CCCOc1ccc(-c2ccc(C3CCC(CCC)CO3)c(F)c2)c(F)c1F', 'COc1c2ccc(C(=O)N3CCN(c4cc5c(nn4)CCC5)CC3)cc2nn1C', 'CC(C)=CCC/C(C)=C/Cc1c(O)cc(O)c2c1O[C@H](c1ccccc1)CC2=O', 'CC.Clc1ccccc1-c1ccc(CN2CCNC(c3ccccc3)C2)cc1', 'Cc1cnc(N2C[C@@H](C)O[C@@H](C)C2)cc1NC(=O)c1cccc(-c2cn[nH]c2)n1', 'CN(CCOc1ccccc1C(C)(C)C)C(=O)c1n[nH]c2c1CNCC2.Cl', 'O=C(c1nc(C2CC2)n2ccccc12)N1CCN(CCc2ccccc2F)CC1', 'CC(C)C(=O)Nc1ccc(-c2ccc3nc(N)nc(N4CCOCC4)c3n2)cc1', 'Cn1cnc2cc(N3CCN(c4nccn(CC5CC5)c4=O)CC3)ccc2c1=O', 'C[C@H]1C[C@H]2[C@@H]3CCC4=CC(=O)C=C[C@]4(C)[C@@]3(F)[C@@H](O)C[C@]2(C)[C@@]1(O)CC(=O)O', 'Cn1nc(-c2nc(-c3ccccc3)no2)c2c1CCN(C(=O)NC1CCCC1)C2', 'COc1cccc(-n2cc(-c3ccnc(N4CCCN(C(C)=O)CC4)n3)cn2)c1', 'C[C@H]1C[C@@H]2[C@@H]3CCC4=CC(=O)C=C[C@]4(C)[C@]3(F)[C@@H](O)C[C@]2(C)[C@]1(O)C(=O)CO', 'Cc1cc(Nc2nccc(C(C)C)n2)cc(-c2cnn(CN3CCOC3=O)c2)c1', 'C(=Cc1ccco1)c1nc(Nc2cc(C3CC3)[nH]n2)cc(OC2CCNCC2)n1', 'C[S+](C)CCC(C#N)NC(=O)[C@H](Cc1ccccc1)NC(=O)OC(C)(C)C', '[H]/N=C\\\\C1N=CCC(=CNC=O)C1N1C(C)C(=O)NC2=NCC(c3ccccc3)C21', 'CC1CN(C(=O)c2cc(C3CC3)nc3onc(CC(C)(C)C)c23)CCN1.Cl', 'C[C@]12CC[C@@H]3c4cc(O)c(O)cc4CC[C@H]3[C@@H]1CC[C@@H]2OC(=O)c1ccccc1', 'CC(C)(N)C(=O)N[C@H](COCc1ccccc1)c1nnc2cccc(CC#N)n12', 'COc1ccc(C)cc1NC(=O)[C@H]1CCCN(c2cc(-n3cccn3)ncn2)C1', 'CC(=O)NC[C@H]1CNC(C)CN1CC(=O)N1CC(C)(C)c2ccc(Cl)cc21', 'C=C1N(/C(C)=N/C)c2c(cc(F)c(-c3cccc4[nH]ccc34)c2OC)NC1(C)C', 'CCCCCCCCCCCCCCc1cc([O-])cc(S(=O)(=O)O)c1.[Na+]', 'C/N=C(\\\\N)NC(=O)c1cc2cccc(Oc3cc(CN4CCCC4)ccn3)c2[nH]1', 'CC(C)(C)Cc1noc2nc(C3CC3)cc(C(=O)NCC(N)C3CC3)c12.Cl', 'Cn1nc(C(=O)NC2CCCC2)c2c1CCN(C(=O)c1n[nH]c3ccccc13)C2', 'O=C(CN1CCN(c2ccccc2F)CC1)N1CCc2[nH]c3ccccc3c2C1', 'CCNCC1CCN(C(=O)CCCc2nc3ccccc3c(=O)[nH]2)CC1.Cl', 'COc1ccc2nc(CCN(C)C(=O)C(Cc3cnc[nH]3)n3cccc3)[nH]c2c1', 'CC[C@]1(C#N)CCN(c2ccnc(Nc3ccc(N4CCOCC4)cc3)n2)C1=O', 'Cc1nc(-c2c(C)ncc3c2CCN(C(=O)c2n[nH]c4c2C[C@@H](C)CC4)C3)no1', 'CC1=C(C#Cc2ccccc2)c2ccccc2O[C@]1(c1ccccc1)[NH+]1CCCC1', 'Cc1cc(C(=O)N(Cc2ccccc2)C(C)C)nc(NCc2ccccc2F)n1', 'O=C(c1cc(-c2c[nH]c3ccccc23)n[nH]1)N1CCC(N2CCNCC2=O)CC1', 'COc1ccnc(N2CCN([C@H](C)C(=O)Nc3cccc4ncccc34)CC2)n1', 'CCCCCCc1c(C)c2ccc(OCC(=O)c3ccccc3)c(C)c2oc1=O', 'CCCCSc1nc(NC2CC2)c2nnn(C3CCC(OCCO)C3)c2n1', 'COc1cc(C2(C(=O)N3CCN(c4ccc5nncn5n4)CC3)CC2)ccc1C', 'C[C@H](Nc1cc(C2CC2)c(Cl)cc1O)C(=O)N1CCN(C2CN(C)C2)CC1', 'CCCCC(O)(CC)C[NH+]1CC[NH+](c2ccccc2OC)CC1.[Cl-].[Cl-]', 'COC1CCN(C(=O)c2cc(-c3cnc(C)cn3)n(-c3ccc(C)nc3)n2)CC1', 'Cc1ccc(N2CCCC(NC(=O)c3ccc(-n4c(C)c[nH]c4=O)cc3)C2)nn1', 'Cn1nc(C2CCN(c3ccc(C(N)=O)cn3)CC2)n(Cc2ccccc2)c1=O', 'CCCCS(=O)(=O)Oc1ccc2c(c1)CC[C@@H]1[C@@H]2CC[C@]2(C)[C@@H](O)CC[C@@H]12', 'Cc1ccc(Nc2cc(C)nc(N3CCN(C(=O)c4cc(C)on4)CC3)n2)cc1', 'COc1cc(-c2cnc(N)c(OCc3ccnc(N)c3)n2)cc2c1CCN(C)C2', 'N[C@@H]1CCC[C@H]1CC(=O)NCc1cn(-c2ccccc2)nc1-c1ccc(F)cc1', 'C1=CC2=C(CCC(CC3CCCC3)C2)n2c3c(c4cnccc42)CCC=C13.Cl', 'Cc1nc2ncccn2c1C(=O)Nc1cc(C(N)=O)ccc1N1CCC[C@H](C)C1', 'Cn1nccc1C(=O)N1CCN(c2ccc3ncnc(OCC4CC4)c3c2)CC1', 'C/C(=N/NC(=O)c1oc2ccccc2c1C)[C@H](c1ccccc1)[NH+]1CCOCC1', 'Cc1ccc(C)c(NC(=O)N2CCN(c3nc4cccnc4n(C)c3=O)CC2)c1', 'CCN(CC)CC(C)CNC(=O)CN1N=C(c2ccc(Cl)cc2)CCC1=O', 'O=C(NCCn1nnc2ccccc21)[C@@H]1CCC(=O)N(CCc2ccccn2)C1', 'CN1CCN(C(=O)Nc2ccc3[nH]nc(NC(=O)Cc4ccccc4)c3c2)CC1', 'CCN/C(=N\\\\Cc1ccc(OCCOC)cc1)N(C)Cc1cc(Cl)cn1C', 'O=C(NC1CCCCC1)N1Cc2[nH]cnc2C[C@H]1c1nc(-c2ccccc2)no1', 'C[C@@H](C(=O)NC1CCCC1)[NH+]1CCN(S(=O)(=O)/C=C/c2ccccc2)CC1', 'CC(C)[C@H](N)C(=O)NCC(=O)N1CCCCC1c1cc2ccccc2[nH]1.Cl', 'CC(=O)N[C@@H]1CCN(Cc2cn(-c3ccc(C)cc3)nc2-c2ccc(F)cc2)C1', 'C(=N/C1CCCCC1/N=C/c1ccc2ccccc2n1)\\\\c1ccc2ccccc2n1', 'CC[C@@H]1CC[C@H]([C@@H](OC(=O)Cc2cc(C)no2)c2ccnc3ccccc23)[N-]C1', 'CN(C)C(=O)N1C[C@H]2CC[C@@H](C1)N(CCC(=O)NCc1ccc(Cl)cc1)C2', 'CC(C)n1c(=O)n(Cc2nc3ccccc3n2CC/C(N)=N\\\\O)c2ccccc21', 'CC1CC2CC=CC=C2C1[Si](c1ccccc1)(c1ccccc1)c1ccccc1', 'Cc1cc(N2CCC(Cc3nccn3C)CC2)nc(-c2cccc([N+](=O)[O-])c2)n1', 'C=CC1C(=O)c2ccc(C(O)c3ccc4c(c3)C(O)C(C)C(C)C4O)cc2C1C', 'C=CC(CC)(CCCc1ccc(F)c(Oc2ccccc2)c1)c1ccc(F)cc1', 'COc1cc(OC)c2c(c1)S(=O)(=O)C[C@H]1[C@H]2CC[C@H]2C(C)(C)CCC[C@]12C', 'Cc1ccc(Nc2nc(C)cc(N3CCN(C(=O)c4cc(C)on4)CC3)n2)cc1', 'CN(C)C(=O)c1ccc(N2CCCC(c3n[nH]c(=O)n3-c3ccccc3)C2)nc1', 'C=C(N/C=N/C(C)(C)C(C)=O)NC(=O)CNC1CCc2cc(F)cc(F)c2C1', 'CC(=O)Nc1cccc([C@@H](C)NC(=O)NCc2ccc(Cn3cncn3)cc2)c1', 'CC1N=C(C(=O)N2CCN(Cc3ccccn3)CC2)NN(c2ccccc2)C1=O', 'C=C(C)C.CCCCCc1ccc(-c2cc3cc(OC=O)ccc3oc2=O)cc1', 'COC(=O)c1ccc(CN2CCN(c3cnn4c(C5CC5)nnc4c3)CC2)cc1', 'C[C@@H]1CCCC[C@H]1NC(=O)CN1CCN(C(=O)Nc2ccc(Cl)cc2)CC1', 'CC(C)OCCCNC(=O)c1ccc2c(c1)NC(=O)C([NH+]1CCCCC1)S2', 'CCCn1c(=O)n(CCC(=O)NC2CC3CCC(C2)N3)c2ccccc21.Cl', 'COc1ccc(-n2nc(C(=O)N3CCN(C)CC3)nc2-c2ccc(C)cc2)cn1', 'Cc1ccc2nc(C[NH+]3CCC[C@@H]3c3ccc4c(c3)OCCCO4)cc(=O)n2c1', 'CCOc1ccccc1C(CC)NC(=O)c1ccn(C2CCCNC2)n1.Cl', 'O=C(Cc1cccc(F)c1)N1CCC(Cc2nncn2Cc2ccccc2)CC1', 'O=C(NCCc1ccccc1)N1CCC(c2cnn(-c3cccc(F)c3)c2)CC1', 'C[C@H](Oc1ccc(C#N)cc1)C(=O)N1CC[NH+](Cc2ccc3c(c2)CCO3)CC1', 'CC1(C)CN(C(=O)c2ccc3c(c2)[nH]c(=O)n3C2CCCC2)CCC1N.Cl', 'Cc1ccc(Oc2ccc(NC(=O)c3nnn(C4CCNCC4)c3C)cn2)cc1', 'CC1=C[C@]2(C)/C=C(C)\\\\C=C/CC/C=C3/C=C/C(=C4/C(=O)O[C@]2(C[C@@H]1C)C4=O)OC3', 'CCNC(=O)Nc1ccc(-c2c(N)nc(N)nc2COCc2ccccc2)cc1', 'CCCCN(CC)C(=O)c1cccc(Nc2ncc(-c3ccc(F)cc3)cn2)c1', 'COc1ccc(C(=O)N2CCN(Cc3nnnn3-c3ccc(C)cc3)CC2)cc1', 'C/C(=N\\\\N=C(N)N)c1ccc(NC(=O)Nc2ccc(C#CC(C)(C)O)cc2)cc1', 'Cc1ccc(N2N=C(c3ccccc3)CC2c2cnn(-c3ccccc3)c2)cc1C', 'O=C(CN1CCC(Cn2ccnc2-c2ccccc2)CC1)Nc1ccc(F)cc1', 'CCCc1c(-c2ccccc2)nc(N=Cc2ccccc2)n1N=Cc1ccccc1', 'Cc1nnc(N/N=C/C2=C(N3CCOCC3)/C(=C\\\\c3ccccc3)CC2)[nH]c1=O', 'O=C(CC1COCCN1)Nc1ccc(CCn2nnc(-c3ccccc3)n2)cc1', 'Cc1cc(C(=O)N2CCN(c3ccc4ncnc(N5CCCC5)c4c3)CC2)no1', 'CCCCCCC=C[C@H]1CCC2OC(=CCCC(O)(O)C(=O)[O-])C(F)[C@@H]21.[Na+]', 'Cc1ccc(=O)n(CC(=O)N2CCn3nc(-c4ccccc4)nc3[C@@H]2C(C)C)n1', 'CCOC(=O)CC1=C(CCCCS(=O)(=O)c2ccccc2)CCCC1(C)C', 'Cc1ccc(Nc2cc(C)nc(NCCNC(=O)c3cccn(C)c3=O)n2)cc1', 'Cn1ccnc(CN2CCC(Cn3nc(-c4ccncc4)ccc3=O)CC2)c1=O', 'O=C(Cn1cnc2ccccc21)N1CCN(C(=O)c2cc3n(n2)CCCC3)CC1', 'CCCN1Cc2[nH]c(C34CC5C=C3CC(C5)C4)nc2N=C1Oc1cccc(F)c1', 'CN1CCN(c2ccc(NC(=O)c3cnc(NCc4ccco4)cn3)cc2)CC1', 'Cc1nn(-c2ccc(F)cc2)c(C)c1CNc1cccc(C2CCCC(=O)N2)c1', 'Cc1ccc(CN2CCNC(=O)[C@H]2CC(=O)NCc2cnc3cnccn23)cc1', 'CCCCCCCCCCCCOc1ccc(S(=O)(=O)O)c2ccccc12', 'Cc1noc(-c2ccc(N3CCC[C@H](C(=O)N[C@@H](C)c4ccccn4)C3)nc2)n1', 'OC1CCC(Nc2cc(-c3cc(NCc4cccc(F)c4)ccn3)ccn2)CC1', 'Cc1ccc(-c2noc(CN3CCN(C(=O)CCc4ccncn4)CC3)n2)cc1', 'CC(C)Oc1ccc(NC(=O)N2CCC(c3ccc4cccnc4n3)CC2)nn1', 'CCNc1cc(Nc2ccc(NC(=O)c3ccc(OCC)nc3)cc2)nc(C)n1', 'COc1cc(-c2[nH]c3ccc(OC4CN(C)C4)nc3c2C(C)C)cn2ncnc12', 'COCc1nc(N2CCN(c3ncccn3)CC2)[nH]c(=O)c1Cc1ccccc1', 'COc1ccc(NC(=O)[C@H]2C[C@@H]3CCC[NH+]3[C@]23C(=O)Nc2ccc(C)cc23)cc1', 'CCN1CCN(Cc2ccc3c(-c4ccc(F)cc4)cc(C(N)=O)nc3c2)CC1', 'CCc1nnc2n1C[C@@H](c1ccc(NC(=O)CCc3ccccc3F)cc1)CC2', 'COc1ccc2[nH]c3c(c2c1)CCN(c1cc(N2CCN(C)C(=O)C2)ncn1)C3', 'O=C(CN1CCOCC1)NCCNc1nc(-c2ccncc2)cc2ncccc12', 'NCCNc1nc(-c2cccc(O)c2)nc(N2CCc3ccccc3C2CO)n1', 'CC(C)=CCc1cc2c(cc1O)O[C@H]1c3ccc(O)c(CC=C(C)C)c3OC[C@@H]21', 'Cc1cc(CN2C[C@H](C)N(c3cc(=O)n(C)c4ccc(C#N)nc34)CC2C)no1', 'CC1(C)CCC(C)(C)c2cc3cc(-c4ccc(C(=O)OCCO)o4)ccc3cc21', 'Cc1cc(C(=O)Nc2cc(C)on2)nc(Nc2ccc(N3CCCCC3)cc2)n1', 'Cc1cc(C)n2nc(C(=O)NCC3CCN(C(=O)c4ccccc4)CC3)nc2n1', 'CC=CC1=CC(OC)(OCc2ccccc2)C(O)(OC)C=C1Cc1ccccc1', 'Cc1cccc(C(C)C)c1Nc1ncc(C(=O)NCCc2ccc(F)cc2)cn1', 'CN(C)Cc1ccc2c(c1)C(=O)Nc1cccc(n1)-c1nncn1CCCCO2', 'Cn1c(-c2c[nH]c3ccccc23)nnc1N1CCC2(CC1)OC(=O)NC21CCC1', 'C.N#Cc1cnn2cc(OCCO)cc(-c3ccc(N4CC5CC(C4)N5)nc3)c12', 'Fc1ccc2c(C3CCN(CCCCn4ncc5ccccc54)CC3)noc2c1', 'CCN/C(=N\\\\CC(C)(O)c1ccco1)NC1CCN(c2ccc(F)cc2F)C1', 'CCOC(=O)c1cccc(C#N)c1NC(=O)C[N+]1(Cc2ccccc2)CCCC1', 'C/N=C(/NCc1ccc(S(N)(=O)=O)cc1)NC(C)Cc1c(C)nn(C)c1C', 'CCOCc1ccc(C2CCC(CCc3ccc(O)cc3F)CC2)c(F)c1F', 'C[C@@H]1C[C@H]2[C@@H]3CCC4=CC(=O)C=C[C@]4(C)[C@@]3(F)[C@@H](O)C[C@]2(C)[C@@]1(O)C(=O)CO', 'CCc1nc(CCNC(=O)[C@@H]2CO[C@H](CNCc3ncnn3CC)C2)cs1', 'Cc1cccc(C(C)C)c1NC(=O)c1cnc(NCCc2ccccc2F)nc1', 'Fc1ccccc1Cc1noc(CN2CCN(C/C=C/c3ccccc3)CC2)n1', 'Cc1cc(C)n2nc(C(=O)N3CCCC(CNC(=O)c4cccnc4)C3)cc2n1', 'CC(NC(=O)Cn1nnc(-c2ccc(N3CCOCC3)cc2)n1)c1ccccc1', 'C[C@@H]1CCN1c1nc(N2C[C@@H]3C(CC(=O)O)[C@@H]3C2)c2c(n1)C(F)(F)CCCC2', 'CC(C)Nc1cccc(N2Cc3ccccc3N=C2/C=C/c2ccc(C#N)cc2)c1', 'Cc1nc2ncnn2c(C)c1CCC(=O)N(Cc1ccc(C(N)=O)cc1)C1CC1', 'CC(C)[C@H](NC(=O)c1cc(-c2ccc(F)cc2)nn1CCCCCF)C(N)=O', 'CCOC(=O)c1sc(C(C)N/C(=N/C)NCC(C)Cn2cccn2)nc1C', 'C[C@H](NC(=O)OC(C)(C)C)c1cc2cnc(Cl)nc2n1C1(C)CCCCC1', 'N#Cc1ccc(NC(=O)NC2C[C@H]3CCC[C@@H](C2)N3Cc2ccc(F)cc2)cc1', 'Cn1ncc2c(=O)[nH]c(CCC(=O)N3CC4CCCCN4c4ccccc43)nc21', 'Cc1c(C(=O)Nc2ccc(N3CCCCCC3)cc2)cnn1-c1ccccc1F', 'O=C(c1ccc2nnc([C@H]3CCN(Cc4cccnc4)C3)n2c1)N1CCOCC1', 'C=CC(=O)OCOc1ccc2cc(-c3ccc(CCCCC)cc3CC)oc2c1', 'Cn1cnc2cc(-c3ccc(N4CCOCC4)cc3)nc(N3CCCN3)c2c1=O', 'C=CC(=O)OC1CCCCO1.Cc1ccc(C=CC=Cc2ccc(O)cc2)cc1', 'Nc1ncnc2c1c(-c1cccc(O)c1)nn2CC1CC2CCCCC2NC1=O', 'O=C(CN1CCN(Cc2cccc(Cl)c2)CC1)NCCCN1CCCC1=O', 'CCN(CC)c1ccc(-c2nc3ccccc3n2-c2cccc3ncccc23)cc1', 'CC(=O)N1CCC(O)C2C(C1)N(c1ncnc3nc[nH]c13)C[C@H]2c1ccccc1', 'COc1ccc(N2CCN(C(=O)Cn3nnc(-c4ccc(C)cc4)n3)CC2)cc1', 'CCC(C)(C)CC(=O)c1cc(-c2ccc(F)cc2)cc(-n2nnnc2C2CC2)c1', 'CC1(N)CCCCC1c1nc(-c2cccc(CN3CCOCC3)c2)no1.Cl', 'C[C@H]1C[C@@]2(C)Oc3ccccc3[C@@H]3OC[C@]1(COC(=O)c1ccccc1)[C@@H](C)[C@H]32', 'CC(C)CN(CC(O)C(N)Cc1ccccc1)S(=O)(=O)c1ccc([NH3+])cc1', 'Cc1nc(-c2ccccn2)cc2nn(CC(=O)NCCC3=CCCCC3)c(=O)n12', 'CC(=O)O[C@H]1[C@H](O[Si](C)(C)C(C)(C)C)C=CO[C@@H]1COCc1ccccc1', 'CCC(CC)c1ccc(CC(C(=O)c2ccccc2F)c2ccc(F)cc2)cc1', 'Cn1nc(C(=O)Nc2cccc(Cn3cccn3)c2)cc1NC(=O)C1CCCC1', 'CC1CCN(Cc2ccc(CNC(=O)c3cc(F)cc4nccnc34)cc2)CC1', 'CC(CC1C(C(C)c2ccccc2)=CC(C#N)=C(N)C1(C#N)C#N)c1ccccc1', 'CCN(CC)c1ccc(Nc2nncc(NCc3ccc4c(c3)OCO4)n2)cc1', 'CCC[C@@H]1C[C@@H](C(=O)N[C@H](CO)[C@H]2OC(SC)C(O)C(O)[C@@H]2O)N(C)C1', 'CCN/C(=N\\\\CC(C)Oc1cccc(Cl)c1)N1CCCC2(CNC(=O)C2)C1', 'C[C@@H]1CN(Cc2cccc(-c3[nH]c4cc(F)cc5c4c3CCNC5=O)c2)CCN1', 'Cc1nc(C)c(CC(=O)N2Cc3nnc(C)n3[C@H](Cc3ccccc3)C2)c(=O)[nH]1', 'Cc1nc(N2CCN(C(=O)C(C)Oc3ccccc3)CC2)cc(-n2ccnc2)n1', 'CC1(C)C(=O)Nc2cc(Nc3nc4cccc(NC5CCOCC5)n4n3)ccc21', 'C=C(OCCCCCCCCOc1cc(=O)oc2ccccc12)c1ccccc1', 'O=c1cc(-c2cccnc2)ncn1CC1CCN(Cc2nnc(C3CC3)o2)CC1', 'Cc1ccc(CN2CCNC(=O)[C@@H]2CC(=O)NCc2cnc3cnccn23)cc1', 'Cc1cccc(C(=O)N2C[C@H](Oc3cc(N)ccn3)CC[C@H]2C)c1-n1nccn1', 'CN1CCN(c2ccc(CNC(=O)Cn3c(=O)cnc4ccccc43)cn2)CC1', 'C[C@@H]1C[C@H]2[C@@H]3CCC4=CC(=O)C(O)=C[C@]4(C)[C@@]3(F)[C@@H](O)C[C@]2(C)[C@]12OC2(C)O', 'Cc1cccc(CCC(=O)Nc2ccc(F)c(-c3nnc4n3CCCCC4)c2)c1', 'CCN(c1cccc(C)c1)c1nc(C)cc(C(=O)NCCc2ccccc2F)n1', 'C[C@@H](NC(=O)[C@@H]1CCCN(C(=O)Nc2ccccc2)C1)c1nnc2ccccn12', 'CCCCCCCOC(C)(CO)OCCCCCCC.[CH3-].[Y]', 'C[C@@H]1C[C@H]2C3CCC4=CC(=O)C=CC4(C)[C@@]3(F)[C@@H](O)CC2(C)[C@@]1(O)C(=O)CO', 'O=C(O)CCC/C=C/CC1C(F)CC(O)C1/C=C/C(O)COc1ccccc1', 'COc1cc(OC)cc(N(C)c2nccc(-c3cnc(N)nc3CC3CC3)n2)c1', 'CCc1ccccc1Nc1nc(N)nc(CN(CC)C(C)CS(C)(=O)=O)n1', 'Cc1cc(C)n(CCNC(=O)c2cc(NC(=O)C3CC3)n(-c3ccccc3)n2)n1', 'Cc1cc(Nc2ncc(C(=O)N3CCN(c4cccc(C)c4C)CC3)cn2)no1', 'C=C[C@]1(C)C[C@H](C=C(C)CCC=C(C)C=O)Oc2oc3cccc(C)c3c(=O)c21', 'CC(NC(=O)c1cccnc1)c1nnc2n1CCN(C/C=C/c1ccco1)CC2', 'C[C@@H]1COCCN1c1cc(C2=CC3CC[C@@H](C2)O3)c2cnn(-c3ccn[nH]3)c2n1', 'Cn1c(=O)c2c(c(C#N)c(N3CCC[C@H](N)C3)n2Cc2ccccc2)n(C)c1=O', 'O=C(NCCN1CCOCC1)c1ccnc(Nc2ccc(-n3ccnc3)cc2)c1', 'C=CC1(C)CC(C=C(C)CCC=C(C)C=O)Oc2oc3cccc(C)c3c(=O)c21', 'CCN/C(=N\\\\Cc1ccc(Cl)cc1OCC)N1CCCC2(CNC(=O)C2)C1', 'CCOC(=O)C1=C2[C@H](O[Si](C)(C)C(C)(C)C)CC[C@@H]2[C@H]2O[C@@H]1C=C2C(C)=O', 'Cc1cc(C)cc(NC(=O)N2CCCC[C@@H]2c2ncc(-c3cccc(F)c3)[nH]2)c1', 'CC(C)[Si](O[C@@H]1c2cc(C=O)ccc2O[C@]12OCC[C@H]2O)(C(C)C)C(C)C', 'CC(Oc1c(N2CCNCC2)cnn(-c2cc(F)cc(F)c2)c1=O)C(C)(C)C', 'Cc1cccc(-n2cc(CN3CCC[C@@H](C(N)=O)C3)c(-c3cccc(F)c3)n2)c1', 'CCC(CNC(=O)c1ccc2c(n1)NCC2)NC(=O)c1ccc2n[nH]c(C)c2c1', 'O=C(c1ccn[nH]1)N1CCN(c2ccc3c(=O)n(C4CCCC4)cnc3c2)CC1', 'CCCCc1ccc(-n2c(O)c([C@@H]3[NH2+]CCc4ccccc43)c(=O)[nH]c2=O)cc1', 'CCN(C)C(=O)[C@H](C)Nc1cc(-c2cnc(NC(=O)C3CC3)cn2)ccc1C#N', 'Cc1cccc(OCC[NH+](C)Cc2c(C)nn([C@H]3CCS(=O)(=O)C3)c2C)c1', 'C=C/C(Cl)=C(\\\\C=C)C(C1=CNC(/C=C\\\\C)C1C=C)c1c[nH]c(/C=C\\\\C)c1C=C', 'Cc1c(F)cc(C(=O)NC2CC2)cc1-c1ccn2c(C3CCCCC3)nnc2c1', 'CN(Cc1ccccc1)C1CCCN(C(=O)c2cc(-c3ccc(F)cc3)n[nH]2)C1', 'c1ccc(C[Si](Cc2ccccc2)(Cc2ccccc2)Cc2ccccc2)cc1', 'Cc1c(C(=O)N2CCN(CCc3ccccc3)CC2)cnn1-c1ccccc1F', 'CCN1N=C(C)C(C)n2c1nc1c2c(=O)n(C/C=C/c2ccccc2)c(=O)n1C', 'Cc1ccc2c(Nc3ccc(C)c(F)c3)c(C(=O)N3CCCC[C@@H]3C)cnc2n1', 'CCN/C(=N\\\\Cc1cccc(CS(=O)(=O)NC)c1)NCCCn1cccn1', 'CC(C)Oc1cccc(C(C)NC(=O)c2ccn(C3CCCNC3)n2)c1.Cl', 'COc1ccc(-c2nc(C)n3c2cnc2[nH]ccc23)cc1C(=O)NCCN(C)C', 'COc1ccccc1NC(=O)c1cn(-c2cc(N3CCC[C@H](C)C3)ncn2)cn1', 'CCc1ccc(NC(=O)c2cnn(-c3ccc(F)cc3)c2C2CCNCC2)cc1', 'CC(C)=C(c1ccc(-c2ccccc2)c(F)c1)c1cc(C/N=C(\\\\N)N(C)C)on1', 'Cc1cnn(CC(=O)N2[C@@H]3CC[C@H]2Cc2nn(Cc4ccccc4)c(=O)n2C3)c1', 'COc1ccc(C(=O)N2CCCN(c3ccc4nnc(C5CC5)n4n3)CC2)cc1', 'Cc1ccc(C(=S)[C@H](C)[C@H]2NC(=O)[C@@H]2[C@@H](C)O[Si](C)(C)C(C)(C)C)nc1', 'CCCCCNc1nc(N)nc(C)c1Cc1ccc(CP(O)O)cc1OC', 'CN(C)C1CN(C(c2ccc(F)cc2)C(O)(c2cccnc2)c2cccnc2)C1', 'CCNC(=O)Nc1nc2c(/C(=N/O)C3CCCC3)cc(-c3cccnc3)cc2[nH]1', 'O=C(OC1CO[C@@H]2CCO[C@H]12)c1ccc(-c2ccc(C3CCCCC3)cc2)cc1', 'Cc1ccc(CNC(=O)Nc2cc(F)c3nc(N4CCCCC4)ccc3c2)cc1', 'O=C(NCCC1CCN(Cc2ccccc2)C1)c1cn[nH]c1-c1cccc(F)c1', 'C1=NC2=C(N1C3C(C(C(O3)COP(=O)(O)OP(=O)(O)OC4C(C(C(C(O4)CO)O)O)O)O)O)N=C(NC2=O)N', 'CNC(=O)[C@H](C)N(Cc1cccc(Br)c1)C(=O)CN(c1cc(Cl)ccc1C)S(=O)(=O)c1ccc(C)cc1', 'CCc1ccc(NC(=O)CSC2=C(C#N)[C@H](c3ccccc3Cl)[C@@H](C(=O)c3cccs3)[C@](O)(C(F)(F)F)N2)cc1', 'Cc1cccn2c(C)c(/C(O)=C3\\\\C(=O)C(=O)N(c4nnc(SCc5ccccc5F)s4)C3c3ccc(Cl)cc3)nc12', 'O=C(O)C(F)(F)F.O=C(O)C(F)(F)F.O=S(=O)(c1cccnc1)N1CC2(CC(OCc3cccnc3)CS2)C1', 'CCOc1ccc(N(CC(=O)N2CCN(c3cc(Cl)ccc3C)CC2)S(=O)(=O)c2ccc(Br)cc2)cc1', 'CCSc1nnc(NC(=O)CSc2nnc(CNC(=O)COc3ccc(Cl)cc3)n2-c2ccccc2OC)s1', 'O=C(O)[C@H](Cc1ccc(-n2c(-c3ccc(Cl)nc3)nc3cccnc32)cc1)/N=C1\\\\C(Br)C(=O)C12CCCCC2', 'O=C(O)C(F)(F)F.[H]/N=C(\\\\N)c1cc(CN2CCC(N(C)S(=O)(=O)c3ccc4c(Cl)c(N)ccc4c3)C2=O)cs1', 'COC(=O)[C@@H](C)Oc1c(OC)cc(C=Nn2c(-c3cc4cc(Br)ccc4o3)nc3ccccc3c2=O)cc1OC', 'CCNC(=O)[C@@H](Cc1ccccc1)N(Cc1ccc(Br)cc1)C(=O)CN(c1ccc(Cl)cc1)S(C)(=O)=O', 'COc1cc(/C=c2\\\\sc3n(c2=O)N[C@@]2(c4ccccc4)N(C)C(=O)N(C)[C@]2(c2ccccc2)N=3)cc(Br)c1O', 'CCOc1ccc(Br)cc1S(=O)(=O)Nc1ccc(C(=O)N2CCN(c3ccc(Cl)cc3)CC2(C)C)cc1', 'CC(C)OC(=O)[C@@H](C)N[P@@](=O)(OC[C@H]1O[C@@H](n2cc(Br)c(=O)[nH]c2=O)[C@](C)(O)[C@@H]1O)Oc1ccccc1', 'COc1ccccc1C(=O)NCc1ccc(S(=O)(=O)NNC(=O)CCCNc2ncc(C(F)(F)F)cc2Cl)s1', 'O=C(C=Cc1cn(-c2ccccc2)nc1-c1ccc(F)cc1)Nc1c(C(=O)c2ccc(Br)cc2)oc2ccccc12', 'O=C(NC(C(=O)N[C@H]1C(=O)N2C(C(=O)O)=C(CSc3cccc[n+]3[O-])CSC12)c1cccs1)NN1CCNC1=O', 'Cc1nc(CN(Cc2ccc(OC(C)(C)C(=O)O)cc2)Cc2nc(-c3cccc(Br)c3)oc2C)cs1.Cl', 'Cc1cc(C2=NOC(c3cc(Cl)c(Cl)c(Cl)c3)(C(F)(F)F)C2)ccc1C(=O)NCc1cc[c-]c(C(C)(C)[O-])c1.[Be+2]', 'NC1=NC(O)c2ncn(C3OC(COP(=O)(O)OP(=O)(O)OC4OC(C=O)C(O)C(O)C4O)C(O)C3O)c2N1', 'Cc1cccn2c(C)c(/C(O)=C3\\\\C(=O)C(=O)N(c4nnc(SCc5ccccc5F)s4)C3c3cccc(Cl)c3)nc12', 'COc1ccc(S(=O)(=O)N2CCOCC2)cc1NC(=O)C1CCN(S(=O)(=O)Cc2ccc(Cl)cc2Cl)CC1', 'CCNC(=O)[C@H](Cc1ccccc1)N(Cc1cccc(Br)c1)C(=O)CN(c1cccc(Cl)c1)S(C)(=O)=O', 'O=C(Nc1cc(F)c(CC(=O)N2C[C@@H](F)C[C@H]2COc2ccc(C(=O)O)cc2)cc1F)Nc1ccccc1Br', 'Cc1cccn2c(C)c(/C(O)=C3\\\\C(=O)C(=O)N(c4nnc(SCc5ccccc5Cl)s4)C3c3ccc(F)cc3)nc12', 'CC(=O)Nc1nc(OCc2ccc(Br)cc2)c2ncn([C@@H]3O[C@H](OC(C)=O)[C@@H](OC(C)=O)[C@H]3OC(C)=O)c2n1', 'CNC(=O)[C@H](C)N(Cc1ccc(Br)cc1)C(=O)CN(c1ccc(C)c(C)c1)S(=O)(=O)c1ccc(Cl)cc1', 'N#CC1(NC(=O)[C@@H]2CC(S(=O)(=O)c3ccc(OCC(F)(F)F)cc3Cl)CN2C(=O)C(F)(F)c2ccccc2)CC1', 'C=CCc1cc(/C=C2\\\\C(=O)NC(=O)N(c3ccc(Br)cc3)C2=O)cc(OCC)c1OCc1cccc([N+](=O)[O-])c1', 'Cc1nc(-c2cc(-c3cc(F)c(CO)c(S(C)(=O)=O)c3)ccc2-n2cnc(C(F)(F)F)c2)c(-c2ccc(Cl)cc2)o1', 'CO[Si](CCCNC(=O)OCC(F)(F)C(F)(F)C(F)(F)C(F)(F)C(F)(F)C(F)(F)C(F)(F)F)(OC)OC', 'COc1ccc(S(=O)(=O)N2CCOCC2)cc1NC(=O)C1CCN(S(=O)(=O)Cc2c(Cl)cccc2Cl)CC1', 'C=C(c1cc(Cl)c(O)c(Cl)c1)c1cc(N(CCCC)CCOCNc2ccc3sc(=S)[nH]c3c2)ccc1S', 'CCCNC(=O)C(C)N(Cc1cccc(Br)c1)C(=O)CN(c1cccc(Cl)c1)S(=O)(=O)c1ccccc1', 'CCCNC(=O)[C@@H](C)N(Cc1cccc(Cl)c1)C(=O)CN(c1ccc(Br)cc1)S(=O)(=O)c1ccccc1', 'O=C(Nc1ccccc1Cl)C1N(CCCCO)C(=O)[C@@H]2[C@H](C(=O)NCc3ccccc3)[C@H]3SC12CC3Br', 'CC(=O)C(C)(O)c1c(F)c(F)c(F)c(F)c1F.CC1=C(C#N)C(=C(C#N)C#N)OC1(C)c1c(F)c(F)c(F)c(F)c1F', 'CCNC(=O)C(Cc1ccccc1)N(Cc1cccc(Br)c1)C(=O)CN(c1ccc(Cl)cc1)S(C)(=O)=O', 'C=CCc1cc(/C=C2\\\\C(=O)NC(=O)N(c3ccc(Br)c(C)c3)C2=O)cc(OC)c1OCc1cccc([N+](=O)[O-])c1', 'CC(C)(O/N=C(/C(=O)NC1C(=O)N2C(C(=O)O)=C(/C=C/c3cc(=O)c([O-])cn3O)CSC12)c1csc(N)n1)C(=O)O', 'CC(C)(O/N=C(/C(=O)N[C@@H]1C(=O)N2C(C(=O)O)=C(/C=C/c3ccc(CCl)cc3)CS[C@@H]12)c1csc(N)n1)C(=O)O', 'NC(O)(C(Cc1cccc(OC(F)(F)C(F)F)c1)c1cccc(Oc2ccc(Cl)c(C(F)(F)F)c2)c1)C(F)(F)F', 'CCNC(=O)C(C)N(Cc1cccc(Cl)c1)C(=O)CN(c1ccc(Br)cc1)S(=O)(=O)c1ccc(C)cc1', 'CC(C)(O/N=C(/C(=O)N[C@@H]1C(=O)N2C(C(=O)O)=C(/C=C/c3ccc(CCl)cc3)CS[C@H]12)c1csc(N)n1)C(=O)O', 'CC(C)=[Zr+2].CCc1cccc2c1C(O[Si](C)(C)C)=C([SiH](C)C)C2[c-]1ccc2ccccc21.[Cl-].[Cl-]', 'CCNC(=O)C(C)N(Cc1ccc(Cl)cc1)C(=O)CN(c1cccc(Br)c1)S(=O)(=O)c1ccc(C)cc1', 'CCCNC(=O)[C@H](C)N(Cc1cccc(Br)c1)C(=O)CN(c1cccc(Cl)c1)S(=O)(=O)c1ccccc1', 'Cc1cc(C)[nH]n1.Cc1cc(C)[nH]n1.Cc1cc(C)[nH]n1.O.[Cu+2].[O-][Cl+3]([O-])([O-])[O-].[O-][Cl+3]([O-])([O-])[O-].[OH3+].[OH3+]', 'CNC(=O)C(C)N(Cc1cccc(Br)c1)C(=O)CN(c1cc(Cl)ccc1C)S(=O)(=O)c1ccc(C)cc1', 'O=C(Nc1ccc(-n2ccc3cc(NCCN4CCCC4)ccc3c2=O)c(Cl)c1)NS(=O)(=O)c1ccc(Cl)s1', 'Cc1ccc(NC(=O)CSC2=C(C#N)[C@H](c3ccccc3Cl)[C@H](C(=O)c3cccs3)[C@](O)(C(F)(F)F)N2)c(C)c1', 'CC(C)NC(=O)[C@H](C)N(Cc1cccc(Br)c1)C(=O)CN(c1ccccc1)S(=O)(=O)c1ccc(Cl)cc1', 'O=C(O)COc1ccc(S(=O)(=O)N(Cc2ccc(-c3csnn3)cc2)Cc2cc(F)c(OCC(=O)O)c(F)c2)cc1', '[C-]#[N+]/C(C#N)=C1C(=C/c2ccc(N(c3ccc4ccccc4c3)c3ncccn3)[se]2)\\\\C(=O)c2cc3ccccc3cc2\\\\1', 'COc1ccc2nc(N3C(=O)c4oc5ccccc5c(=O)c4C34C(=O)N(Cc3ccc(Cl)cc3)c3ccccc34)sc2c1', 'CCOc1cc(C=Nn2c(-c3cc4c(OC)cccc4o3)nc3ccccc3c2=O)c(Br)cc1O[C@@H](C)C(=O)O', 'COc1ccc(CN(CCSc2ccc(OCC(=O)O)c(C)c2)S(=O)(=O)c2sc3ccc(Cl)cc3c2C)cc1', 'Clc1cc(-c2nc(-c3ccc4c(c3)sc3ccccc34)nc(-c3cccc4ccccc34)n2)c2c(c1)sc1ccccc12', '[C-]#[N+]/C(C#N)=C1C(=C/c2ccc(N(c3ccccc3)c3ccc4ccccc4n3)[se]2)\\\\C(=O)c2nc3ccccc3cc2\\\\1', 'FC(F)(F)Oc1ccc(-n2cnc3c4ccc(/C=N/CC(=S)Cc5cc(C(F)(F)F)ccc5Cl)cc4ccc32)cc1', 'C#Cc1nn(PI)c2ccc(-c3cnn(C)c3OCCNC(=O)COc3c(C)c(C)nn3C)cc12', 'Cc1cccc(NC(=O)CSC2=C(C#N)[C@@H](c3ccccc3Cl)[C@H](C(=O)c3cccs3)[C@](O)(C(F)(F)F)N2)c1C', 'CCNC(=O)C(C)N(Cc1cccc(Br)c1)C(=O)CN(c1cccc(C)c1)S(=O)(=O)c1ccc(Cl)cc1', 'O=c1cc(-c2cc(Cl)ccc2-n2cc(Cl)nn2)cc2n1C(c1ncc(-c3ccc4c(c3)S(=O)(=O)CCN4)[nH]1)C1CC21', 'CC(C)[C@H](/N=C(/NS(=O)(=O)c1ccc(Cl)cc1)C1=NN(c2ccc(Cl)cc2)C(c2ccc(Cl)cc2)C1)C(N)=O', 'COc1ccccc1C1Nc2ccc(I)cc2C(=O)N1NC(=O)c1ccccc1OCc1ccccc1', 'CC(C)NC(=O)[C@H](C)N(Cc1ccccc1Cl)C(=O)CN(c1ccc(Br)cc1)S(=O)(=O)c1ccccc1', 'Cc1ccnc(C(=O)NCCOCCNc2cccc3c2C(=O)N(C2CCC(=O)NC2=O)C3=O)c1I', 'COC(=O)c1cc(F)c2nc(N3C[C@@H]4C[C@H]3C[C@H]4OCc3c(-c4c(Cl)cccc4Cl)noc3C3(F)CC3)sc2c1', 'CC(C)NS(=O)(=O)c1ccc(Br)c(C(=O)N2CCN(c3cccc(OCc4ccccc4Cl)c3)CC2)c1', 'CCOC(=O)c1c(-c2ccc(Cl)cc2)csc1NC(=O)COn1nnc2ccc(S(=O)(=O)N3CCOCC3)cc21', 'CC(C)NC(=O)C(C)N(Cc1ccc(Br)cc1)C(=O)CN(c1cccc(Cl)c1)S(=O)(=O)c1ccccc1', 'CCOC(=O)COc1cc(Br)c(C=Nn2c(-c3cc4c(OC)cccc4o3)nc3ccccc3c2=O)cc1OC', 'CCc1ccc(NC(=O)CSC2=C(C#N)[C@@H](c3ccccc3Cl)[C@@H](C(=O)c3cccs3)[C@](O)(C(F)(F)F)N2)cc1', 'CC(CC(=O)O)O/N=C(/C(=O)NC1C(=O)N2C(C(=O)O)=C(CN3C=Cc4scnc4C3)CS[C@H]12)c1csc(N)n1', 'CC(C)NC(=O)[C@@H](C)N(Cc1cccc(Br)c1)C(=O)CN(c1ccc(Cl)cc1)S(=O)(=O)c1ccccc1', 'CCNC(=O)[C@@H](CC)N(Cc1ccc(Cl)cc1)C(=O)CN(c1cccc(Br)c1)S(=O)(=O)c1ccccc1', 'Cc1cc(Cl)cc2sc(N(CCCN3CCOCC3)C(=O)CCCS(=O)(=O)c3ccc(Cl)cc3)nc12.Cl', 'I.N#Cc1ccc(CN2CCC3(CCN(C4=NCNc5sc(CC(F)(F)F)cc54)C3)C2)c(F)c1', 'CCNC(=O)C(C)N(Cc1ccc(Br)cc1)C(=O)CN(c1ccccc1C)S(=O)(=O)c1ccc(Cl)cc1', 'Cc1ccc(S(=O)(=O)OCCCC(CN(S(=O)(=O)c2ccccc2)S(=O)(=O)c2ccccc2)C(F)(F)F)cc1', 'O=C(Nc1cccc(SC(C(=O)Nc2nc(-c3ccc(Br)cc3)cs2)c2ccccc2)c1)C1CCCCC1', 'Nc1ncn([C@@H]2O[C@H](CO)C(OP(=O)(O)OC[C@H]3OC(n4cnc5c(=O)[nH]c(N)nc54)=C(Cl)C3O)C2O)c(=O)n1', 'Cc1cccn2c(C)c(C(O)=C3C(=O)C(=O)N(c4nnc(SCc5ccc(F)cc5)s4)C3c3ccc(Cl)cc3)nc12', 'Cl.Cl.NC1CCC(Nc2nc(NS(=O)(=O)c3ccc(Br)cc3)c3ncn(C4CCCC4)c3n2)CC1', 'CCNC(=O)[C@@H](Cc1ccccc1)N(Cc1cccc(Br)c1)C(=O)CN(C)S(=O)(=O)c1ccc(Cl)cc1', 'CCCNC(=O)[C@@H](C)N(Cc1cccc(Br)c1)C(=O)CN(c1cccc(Cl)c1)S(=O)(=O)c1ccccc1', 'Clc1ccc(-n2c(-c3ccccc3Cl)nc(C3NN=C(C4(c5ccc(Cl)cc5)CC4)S3)c2Cn2cncn2)cc1', 'COc1ccc(S(=O)(=O)N2CCOCC2)cc1NC(=O)C1CCN(S(=O)(=O)Cc2ccc(Cl)c(Cl)c2)CC1', 'CCOC(=O)c1ccc(N2C(=O)C3Sc4c(sc(=O)n4CC(=O)Nc4ccccc4)C(c4cccs4)C3C2=O)cc1', 'Cc1ccc(C(=O)C2C(=O)C(=O)N(c3ncc(S(=O)(=O)c4ccc([N+](C)=O)cc4)s3)C2c2cccc([N+](=O)[O-])c2)cc1', 'CCCNC(=O)[C@@H](C)N(Cc1cccc(Br)c1)C(=O)CN(c1ccc(Cl)cc1)S(=O)(=O)c1ccccc1', 'CCNC(=O)[C@H](C)N(Cc1cccc(Br)c1)C(=O)CN(c1ccccc1C)S(=O)(=O)c1ccc(Cl)cc1', 'O=C1O/C2=C/C=C\\\\CCCC2C(O)C1C(c1cccc(NS(=O)(=O)c2ccc(I)cc2)c1)C1CC1', 'CCNC(=O)[C@H](C)N(Cc1ccccc1Cl)C(=O)CN(c1ccc(Br)cc1)S(=O)(=O)c1ccc(C)cc1', 'O=C(NCCCC1CCNCC1)c1ccc(S(=O)(=O)Nc2ccccc2Oc2ccc(Br)cc2Cl)cc1', 'CCNC(=O)[C@@H](CC)N(Cc1ccccc1Cl)C(=O)CN(c1cccc(Br)c1)S(=O)(=O)c1ccccc1', 'CS(=O)(=O)c1ccc(C#CC(O)(c2cccc(N(CCC(F)(F)F)S(=O)(=O)c3ccccc3)c2)C(F)(F)F)cc1', 'CCNC(=O)C(C)N(Cc1ccc(Br)cc1)C(=O)CN(c1ccccc1Cl)S(=O)(=O)c1ccc(C)cc1', 'CC1=C(OC(C)(C)C(I)N2CCN(c3ccnc4cc(C(F)(F)F)ccc34)CC2)C(C)SC1=O', 'CCOc1cc(C=NNC(=O)CSc2nnc(-c3ccccc3)s2)cc(Br)c1OCC(=O)N(CC)CC', 'N#CC1(NC(=O)[C@@H]2C[C@@H](S(=O)(=O)c3ccc(OCC(F)(F)F)cc3Cl)CN2C(=O)C(F)(F)c2ccccc2)CC1', 'CCNC(=O)C(Cc1ccccc1)N(Cc1ccccc1Cl)C(=O)CN(c1ccccc1Br)S(C)(=O)=O', 'O=C(c1ccc(C(=O)C(F)(F)F)s1)N1CC[N+](OC(=O)C(F)(F)F)(C(c2ccccc2)c2ccc(Cl)cc2)CC1', 'O=C(Nc1ccc(SC(C(=O)Nc2nc(-c3ccc(Br)cc3)cs2)c2ccccc2)cc1)C1CCCCC1', 'Cc1cccc(NC(=O)CSC2=C(C#N)[C@H](c3ccccc3Cl)[C@@H](C(=O)c3cccs3)[C@@](O)(C(F)(F)F)N2)c1C', 'CCS(=O)c1ccc(Cl)cc1Cn1c(=O)[nH]c2c(Cl)c(CN3CCC[C@@H](C(=O)O)C3)c(C(F)(F)F)cc2c1=O', 'Cn1nnnc1SCC1=C(C(=O)O)N2C(=O)C(NC(=O)C(=NOCc3ccc(F)cc3)c3csc(N)n3)[C@@H]2SC1', 'CC(C)ON=C(C(=O)N[C@@H]1C(=O)N2C(C(=O)O)=C(CSc3nc4cc(O)c(O)cc4[nH]3)CS[C@H]12)c1csc(N)n1', 'O=C(O[C@H](C(=O)Nc1ccc(/N=N/c2ccccc2)cc1)[C@@H](OC(=O)c1ccc(Cl)cc1)C(=O)O)c1ccc(Cl)cc1', 'O=C(CCN1C(=O)C2C3CC(C2C1=O)C1C(c2cccs2)c2sc(=O)[nH]c2SC31)Nc1cccc(C(F)(F)F)c1', 'CO.CO.O=C(c1ccccc1)c1ccncc1.O=C(c1ccccc1)c1ccncc1.[Co+2].[N-]=C=S.[N-]=C=S', 'CC(C)(C)OC(=O)Nc1ccccc1C(=O)N1CCC(NS(=O)(=O)c2ccc(Br)cc2C(F)(F)F)CC1', 'O=C1NC(=O)N(c2ccc(F)cc2)C(=O)/C1=C\\\\c1cc(-c2ccccc2)n(-c2ccc(Br)cc2)c1-c1ccccc1', 'NC(=O)CCC1NC(=O)C(CO)NC(=O)c2cc([N+](=O)[O-])cc(I)c2NCCC(C(N)=O)NC1=O', 'Cc1cccn2c(C)c(C(O)=C3C(=O)C(=O)N(c4nnc(SCc5ccc(Cl)cc5)s4)C3c3ccc(F)cc3)nc12', 'CCNC(=O)[C@H](C)N(Cc1cccc(Br)c1)C(=O)CN(c1ccc(Cl)cc1)S(=O)(=O)c1ccc(C)cc1', 'C[C@H](O/N=C(\\\\C(=O)NC1C(=O)N2C(C=O)=C(C[n+]3cccc4c3cnn4C)CSC12)c1nc(N)sc1Cl)C(=O)O', 'CCOC(=O)C1(C)CN(C(=O)Nc2ccc(C(F)(F)F)c(OC(F)(F)F)c2)N=C1c1ccc(C(F)(F)F)c(Cl)c1', 'CNC(=O)[C@@H](Cc1ccccc1)N(Cc1cccc(Br)c1)C(=O)CN(c1cccc(Cl)c1C)S(C)(=O)=O', 'COc1ccc(NC(=O)C(=O)NN=Cc2ccc(OC(=O)c3ccc(Cl)cc3)cc2OC(=O)c2ccc(Cl)cc2)cc1', 'CCCNC(=O)C(C)N(Cc1ccccc1Cl)C(=O)CN(c1ccc(Br)cc1)S(=O)(=O)c1ccccc1', 'CC(C)NS(=O)(=O)c1ccc(-c2sc(-c3nnc(C(C)(C)O)o3)nc2C(=O)N2CCC(F)CC2)c(Cl)c1Cl', 'CCOC(=O)C1=C(C)NC(=O)N[C@H]1c1ccc(OCC(=O)N/N=C\\\\c2cc(Br)c(O)c([N+](=O)[O-])c2)c(OC)c1', 'COC(=O)[C@H](C)Oc1c(OC)cc(C=Nn2c(-c3cc4cc(Br)ccc4o3)nc3ccccc3c2=O)cc1OC', 'CCCNC(=O)[C@@H](C)N(Cc1ccc(Cl)cc1)C(=O)CN(c1cccc(Br)c1)S(=O)(=O)c1ccccc1', 'CCNC(=O)[C@H](Cc1ccccc1)N(Cc1ccccc1Cl)C(=O)CN(c1ccccc1Br)S(C)(=O)=O', 'C#C[CH-]OC(=O)C(F)(F)F.[Re].[Rf]', 'CC(=O)c1cccc(S(=O)(=O)N2CCC(c3ccccc3)(c3nc(-c4nc5ccc(Br)cc5[nH]4)no3)CC2)c1', 'NC1=NC(=O)C2N=CN(C3OC(COP(=O)(O)OP(=O)(O)OC4OC(CO)C(O)C(O)C4O)C(O)C3O)C2=N1', 'CS(=O)(=O)NC1CCC(=O)N2CCCC(C(=O)NC(CC(=O)O)C(O)c3nc4cc(Cl)cc(Cl)c4o3)N2C1=O', 'CCNC(=O)[C@@H](C)N(Cc1cccc(Br)c1)C(=O)CN(c1ccc(C)cc1)S(=O)(=O)c1ccc(Cl)cc1', 'COC[C@H](CBr)NC(=O)C(=O)c1ccc(OCc2ccc(OC)cc2)c(OCc2ccc(OC)cc2)c1Cl', 'CCC(C(=O)NC)N(Cc1ccccc1Cl)C(=O)CN(c1ccc(Br)cc1)S(=O)(=O)c1ccc(C)cc1', 'N#CC1(NC(=O)[C@H](Cc2c(F)cccc2F)NC(=O)c2ccc(-c3ccccc3Cl)c(Cl)c2)CCS(=O)(=O)CC1', 'C=C(/C=C(/NCc1cccnc1)n1ncc(Br)c1C)C1CCCN(S(=O)(=O)c2ccsc2C(=O)OC)C1', 'Brc1ccc2cc(-c3ccc4c(c3)sc3cc(N(c5ccccc5)c5ccc6ccccc6c5)ccc34)ccc2c1', 'CCNC(=O)[C@@H](CC)N(Cc1ccccc1Cl)C(=O)CN(c1ccc(Br)cc1)S(=O)(=O)c1ccccc1', 'CCOc1cc(C=Nn2c(-c3cc4c(OC)cccc4o3)nc3ccccc3c2=O)cc(Br)c1OCC(=O)OC', 'CC(C)NC(=O)[C@H](C)N(Cc1ccc(Br)cc1)C(=O)CN(c1ccccc1)S(=O)(=O)c1ccc(Cl)cc1', '[Ir+3].[c-]1ccc2c(sc3ccccc32)c1-c1ccccn1.[c-]1ccccc1-c1[c-]cccc1', 'CCCCn1/c(=N/C(=O)c2cc(C(F)(F)F)ccc2OC[C@H](C)O)sc2cc[n+](COC(C)=O)cc21.[Br-]', 'COc1ccc(OC)c(N(CC(=O)N/N=C\\\\c2cc(Br)c(OC)c(OC)c2)S(=O)(=O)c2ccc(C)cc2)c1', 'O=C(O)c1ccc(NC(=S)NCCc2ccc(OP(=O)([O-])O)cc2)cc1-c1c2ccc(=O)cc-2oc2cc(O)ccc12', 'CCSc1nnc(NC(=O)CSc2nnc(CNC(=O)c3cc(OC)cc(OC)c3)n2-c2cccc(Cl)c2)s1', 'Cc1cccn2c(C)c(/C(O)=C3\\\\C(=O)C(=O)N(c4nnc(SCc5ccccc5Cl)s4)C3c3ccccc3F)nc12', 'CO/N=C(\\\\C(=O)NC1C(=O)N2C(C(=O)O)=C(C(CCNS(N)(=O)=O)Sc3nn[nH]n3)CS[C@@H]12)c1ccco1.O', 'O=C(CCSc1nnc(CNc2ccc(I)cc2)n1-c1ccccc1)Nc1cccc2ccccc12', 'CCNC(=O)C(C)N(Cc1ccc(Br)cc1)C(=O)CN(c1ccc(C)cc1)S(=O)(=O)c1ccc(Cl)cc1', 'OC[C@H]1O[C@@H](c2ccc(Cl)c(Cc3ccc(OC4CCCCC4[I-]O)cc3)c2)[C@H](O)[C@@H](O)[C@@H]1O', 'CC(C)NC(=O)[C@H](C)N(Cc1ccc(Br)cc1)C(=O)CN(c1cccc(Cl)c1)S(=O)(=O)c1ccccc1', 'CCNC(=O)C(Cc1ccccc1)N(Cc1ccccc1Cl)C(=O)CN(c1ccc(Br)cc1)S(C)(=O)=O', 'C[n+]1ccn2nc(S/C=C/C3=C(C(=O)[O-])N4C(=O)[C@@H](NC(=O)/C(=N\\\\OCCF)c5nsc(N)n5)[C@H]4SC3)ccc21', 'CC(C)(C)OC(=O)N1CCC[C@H](CC(=O)c2sc(-c3cccc(F)c3)cc2NC(=O)NC(=O)C(Cl)(Cl)Cl)C1', 'COc1cnc2c(-c3nc4c(Cl)cc5c(c4s3)OC[C@@H](OC(=O)N(C)c3ccc4[nH]c(=O)oc4c3)O5)cc(C)cc2n1', 'Cc1cccc(NC(=O)CSC2=C(C#N)C(c3ccccc3Cl)C(C(=O)c3cccs3)C(O)(C(F)(F)F)N2)c1C', 'COc1ccc(OC)c(N(CC(=O)N/N=C(/C)c2cccc(Br)c2)S(=O)(=O)c2ccc(OC)c(OC)c2)c1', 'CC(Sc1cccc(NC(=O)c2ccc(Cl)cc2Cl)c1)C(=O)Nc1sc2c(c1C#N)CCC(c1ccccc1)C2', 'S=C(NCCCN(Cc1ccc(Cl)c(Cl)c1)c1ccc(Br)cn1)Nc1ccc(N2CCCCC2)cc1', 'Cn1ncc(-c2cccc(OC(F)(F)F)c2)c(-c2ccc(C[C@H](NC(=O)c3c(Cl)cccc3Cl)C(=O)O)cc2)c1=O', '[H]/N=C(/O[C@@H]1OC(C)[C@@H](OC(=O)c2ccccc2)C(OC(=O)c2ccccc2)C1OCc1ccccc1)C(Cl)(Cl)Cl', 'CNC(=O)C(C)N(Cc1ccc(Br)cc1)C(=O)CN(c1cccc(Cl)c1C)S(=O)(=O)c1ccc(C)cc1', 'Cc1ccc(S(=O)(=O)Oc2ccc(/N=N/c3ccc(Nc4ccc(S(=O)(=O)O)cc4[N+](=O)[O-])cc3)c(C)c2)cc1.[Na]', 'CCNC(=O)[C@H](Cc1ccccc1)N(Cc1ccccc1Cl)C(=O)CN(c1ccc(Br)cc1)S(C)(=O)=O', 'OC(c1cccnc1)c1c(-c2ccc(Cl)cc2)noc1-c1cc[c-]s1.[U]', 'Cc1cc(C)nc(C)c1.Cc1ccncc1.Cc1ccncc1.Cl[Ir](Cl)Cl', 'CCNC(=O)[C@@H](C)N(Cc1cccc(Br)c1)C(=O)CN(c1ccc(C)c(Cl)c1)S(=O)(=O)c1ccccc1', 'Cc1cc([C@H](C)n2cc(CN3CCC(NC(=O)CC(C)c4ccc(F)c(Br)c4)C3)nn2)ccc1Br', 'CCCNC(=O)[C@H](C)N(Cc1ccc(Br)cc1)C(=O)CN(c1cccc(Cl)c1)S(=O)(=O)c1ccccc1', 'COc1cc(/C=c2\\\\sc3n(c2=O)N[C@@]2(c4ccccc4)N(C)C(=O)N(C)[C@@]2(c2ccccc2)N=3)cc(Br)c1O', 'CCCNC(=O)[C@H](C)N(Cc1cccc(Cl)c1)C(=O)CN(c1cccc(Br)c1)S(=O)(=O)c1ccccc1', 'CCNC(=O)[C@H](C)N(Cc1cccc(Br)c1)C(=O)CN(c1ccc(Cl)cc1C)S(=O)(=O)c1ccccc1', 'Cc1ccc(S(=O)(=O)N2CCN(c3c(Cl)cccc3NC(=O)COc3c(C)cc(C)cc3Br)CC2)cc1', 'Clc1cc2sc(-n3c4ccccc4c4c5c6ccccc6n(-c6ccccc6)c5ccc43)nc2c2c1sc1ccccc12', 'CCCNC(=O)[C@@H](C)N(Cc1ccc(Br)cc1)C(=O)CN(c1ccccc1)S(=O)(=O)c1ccc(Cl)cc1', 'COC(=O)c1ccc(N2C(=O)NC(=O)/C(=C/c3cc(Br)ccc3OCC(=O)Nc3cc(C)ccc3C)C2=O)cc1', 'Cc1cc(C)nc(NS(=O)(=O)c2ccc(NC(=S)NC(=O)c3ccc(OCCC(C)C)c(Br)c3)cc2)n1', 'Nc1nc2c(ncn2[C@@H]2O[C@H](COP(=O)(O[C@H](CO)[C@@H](O)[C@H](O)[C@H](O)C=O)OP(=O)(O)O)[C@@H](O)[C@H]2O)c(=O)[nH]1', 'O=S(=O)(O)CCCN1C(=Cc2oc3ccc(-c4ccccc4)cc3[n+]2CCCS(=O)(=O)O)Oc2ccc(Cl)cc21', 'O=C(CN(C(=O)c1ccc(Cl)cc1Cl)N1C(=O)[C@@H]2[C@@H](C1=O)[C@H]1C=C[C@H]2C1)c1ccc(Oc2ccc([N+](=O)[O-])cc2)cc1', 'CCCCCOc1ccc(Cn2c(C)nc(Br)c2C=CC(=O)NS(=O)(=O)C=Cc2ccccc2)c(Cl)c1', 'COc1cnc2c(Oc3ccc(CC(=O)c4c(C)c(Br)c(C)n(-c5ccc(F)cc5)c4=O)cc3F)ccnc2c1', 'CCNC(=O)[C@H](CC)N(Cc1ccccc1Cl)C(=O)CN(c1cccc(Br)c1)S(=O)(=O)c1ccccc1', 'CC(C)NC(=O)[C@@H](C)N(Cc1cccc(Br)c1)C(=O)CN(c1ccccc1Cl)S(=O)(=O)c1ccccc1', 'CCC(CO)N1C(=O)[C@@H]2[C@@H](C(=O)Nc3ccccc3)[C@@H]3SC2(CC3Br)C1C(=O)Nc1c(C)cccc1Cl', 'CCCNC(=O)C(C)N(Cc1ccc(Cl)cc1)C(=O)CN(c1cccc(Br)c1)S(=O)(=O)c1ccccc1', 'Cc1cccc(NC(=O)CSC2=C(C#N)[C@H](c3ccccc3Cl)[C@H](C(=O)c3cccs3)[C@](O)(C(F)(F)F)N2)c1C', 'O=C1CC(Oc2ccc([S+](c3ccc(OC4CC(=O)OC4=O)cc3)c3ccc(OC4CC(=O)OC4=O)cc3)cc2)C(=O)O1', 'Cc1noc(C)c1NC(=O)N(CC1CCCCC1)c1cccc(-c2sc(C(=O)O)c(OCC(=O)O)c2Br)c1', 'CC1(C)CC(=O)C2=C(C1)Nc1c(O)cccc1N(C(=O)CC#N)C2c1ccc(Oc2ccccc2Br)cc1Cl', 'CC(C)OCCc1nc(C(=O)NCC(C)(C)O)sc1-c1ccc(S(=O)(=O)N[C@@H](C)C(F)(F)F)c(Cl)c1Cl', 'COC(=O)C1=C(c2ccc(F)cc2)CC2CCC1N2CCCN(CC[S-])C/C([O-])=N/CC[S-].[O-2].[Tc+5]', 'Brc1cc(N(c2ccc(-c3ccccc3)cc2)c2ccc3ccc4ccccc4c3c2)cc2c1sc1ccccc12', 'O=[N+]([O-])c1cc([N+](=O)[O-])c(Cc2ccccc2N(c2ccccc2)c2c([N+](=O)[O-])cc([N+](=O)[O-])cc2[N+](=O)[O-])c([N+](=O)[O-])c1', 'CC[C@@H](C(=O)NC)N(Cc1ccccc1Cl)C(=O)CN(c1ccc(Br)cc1)S(=O)(=O)c1ccc(C)cc1', 'CCNC(=O)[C@H](C)N(Cc1ccc(Cl)cc1)C(=O)CN(c1cccc(Br)c1)S(=O)(=O)c1ccc(C)cc1', 'CCNC(=O)[C@@H](C)N(Cc1ccc(Br)cc1)C(=O)CN(c1ccc(Cl)cc1C)S(=O)(=O)c1ccccc1', 'CNC(=O)[C@@H](C)N(Cc1ccc(Br)cc1)C(=O)CN(c1ccc(C)c(Cl)c1)S(=O)(=O)c1ccc(C)cc1', 'NCC(=O)O[Al](OC(=O)CN)OC(=O)CN.NCC(=O)O[Pb]OC(=O)CN', 'Nc1nc2c(ncn2[C@@H]2O[C@H](COP(=O)(O[C@H](CO)[C@@H](O)[C@H](O)[C@@H](O)C=O)OP(=O)(O)O)[C@@H](O)[C@H]2O)c(=O)[nH]1', 'C[C@@H]1O[C@H](OC(OP(=O)(O)OP(=O)(O)O)[C@H]2O[C@@H](n3cnc4c(=O)[nH]c(N)nc43)[C@H](O)[C@@H]2O)[C@@H](O)[C@H](O)[C@@H]1O', 'CCOC(=O)[C@@H]1CC(F)(F)CN1CC1=C(C(=O)NS(C)(=O)=O)C(c2ccc(F)cc2Cl)N=C(c2nccs2)N1', 'Cc1cccn2c(C)c(C(O)=C3C(=O)C(=O)N(c4nnc(SCc5ccccc5F)s4)C3c3cccc(Cl)c3)nc12', 'CCc1ccc(NC(=O)CSC2=C(C#N)[C@H](c3ccccc3Cl)[C@H](C(=O)c3cccs3)[C@](O)(C(F)(F)F)N2)cc1', 'CCNC(=O)C(Cc1ccccc1)N(Cc1cccc(Cl)c1)C(=O)CN(c1ccccc1Br)S(C)(=O)=O', 'COc1cc(NS(=O)(=O)c2ccc(NC(=O)c3cc4nc(-c5cccs5)cc(C(F)(F)F)n4n3)cc2)nc(OC)n1', 'CC(C)(O/N=C(/C(=O)N[C@@H]1C(=O)N2C(C(=O)O)=C(/C=C\\\\c3ccc(CCl)cc3)CS[C@H]12)c1csc(N)n1)C(=O)O', 'CN1CCC(N(C)C(=O)C2CN(S(=O)(=O)c3cccc(Br)c3)c3ccccc32)CC1.O=C(O)C(F)(F)F', 'Cc1cccc(NC(=O)CSC2=C(C#N)[C@H](c3ccccc3Cl)[C@H](C(=O)c3cccs3)[C@@](O)(C(F)(F)F)N2)c1C', 'Cc1cccc(Cl)c1NC(=O)C1N(CCCO)C(=O)[C@@H]2[C@H](C(=O)NCc3ccccc3)[C@H]3SC12CC3Br', 'N[C@@H]1CCCC[C@H]1N.O=C(O)CC(O)(C(=O)O)C(O)C(=O)O.O=C([O-])C(=O)[O-].[Pt+2]', 'COC(=O)[C@H](C)Oc1c(C=Nn2c(-c3cc4c(OC)cccc4o3)nc3ccccc3c2=O)cc(Br)cc1OC', 'CC(=O)Nc1cccc(-c2nn(C(C)C)c(=O)c3c(Nc4ccc(I)cc4F)c(F)c(=O)n(C)c23)c1', 'Clc1cc(-c2nc(-c3ccc4ccccc4c3)nc(-c3ccc4sc5ccccc5c4c3)n2)cc2sc3ccccc3c12', 'O=C(Nc1ccc(Cl)cc1)C1N(CCCCO)C(=O)[C@@H]2[C@H](C(=O)NCc3ccccc3)[C@H]3SC12CC3Br', 'Cc1ccc(OP(=S)(OC[C@@]2(C(F)F)O[C@@H](n3cc(Cl)c(N)nc3=O)[C@H](O)[C@H]2F)Oc2ccc(C)cc2)cc1', 'CCNC(=O)[C@H](C)N(Cc1ccc(Br)cc1)C(=O)CN(c1ccc(Cl)cc1)S(=O)(=O)c1ccc(C)cc1', 'COC(=O)c1ccc(N2C(=O)NC(=O)/C(=C/c3ccc(OCC(=O)Nc4ccc(C)c(C)c4)c(Br)c3)C2=O)cc1', 'CC[C@H](C(=O)NC)N(Cc1ccccc1Cl)C(=O)CN(c1ccc(Br)cc1)S(=O)(=O)c1ccc(C)cc1', 'COc1ccccc1[C@H]1Nc2ccc(I)cc2C(=O)N1NC(=O)c1ccccc1OCc1ccccc1', 'N#Cc1cc2c(Br)c(CN3CCC(Nc4ncnc5sc(CC(F)(F)F)cc45)CC3)ccc2n1CC(N)=O', 'COc1nc(OCc2c(-c3c(Cl)cccc3Cl)noc2C(C)C)ccc1N(C)S(=O)(=O)c1ccc(C(=O)O)cc1', 'C[C@H]1O[C@@H](OP(=O)(O)OP(=O)(O)OC[C@@H]2O[C@@H](n3cnc4c(=O)[nH]c(N)nc43)[C@@H](O)[C@H]2O)[C@@H](O)[C@@H](O)C1(O)O', 'O=C(CS(=O)(=O)CCC1OCCC2(S(=O)(=O)c3ccc(Cl)cc3)c3c(F)ccc(F)c3OCC12)NC1COC1', 'CCCNC(=O)C(C)N(Cc1cccc(Cl)c1)C(=O)CN(c1ccc(Br)cc1)S(=O)(=O)c1ccccc1', 'CC(C)(O/N=C(\\\\C(=O)NC1C(=O)N2C(C(=O)[O-])=C(CN3C=Cc4sc[nH+]c4C3)CS[C@H]12)c1csc(N)n1)C(=O)O', 'CC(C)(C)CS(=O)(=O)c1ccccc1[Ge](C)(C)C.C[Ge](C)(C)c1ccccc1S(N)(=O)=O', 'CC1(c2cccc([S+](c3ccccc3)c3ccc(OC(=O)C(F)(F)S(=O)(=O)O)cc3)c2)OCC(C)(C(F)(F)F)O1', 'O=C(O)c1cccc(C(=O)Nc2ccc(OCc3c(Cc4c(Cl)cccc4Cl)noc3C3CC3)nc2C(F)(F)F)c1', 'CCNC(=O)[C@H](C)N(Cc1ccc(Br)cc1)C(=O)CN(c1cccc(C)c1)S(=O)(=O)c1ccc(Cl)cc1', 'Cc1cccc(C)c1P1(=O)Oc2cc(F)c[c-]c2-c2nc(C)c(C)n21.[C-]#N.[CH-]=O.[Pt]', 'Cc1c(C(=O)NC(C)(C)c2cn3cc(C(F)(F)F)ccc3n2)nn(-c2ccc(Cl)cc2Cl)c1-c1ccc(Cl)cc1', 'CN(C)S(=O)(=O)c1cccc(-c2nc(N)nc3c2-c2cc(NS(=O)(=O)c4ccc(F)cc4F)c(Cl)cc2CC3)c1', 'COc1cc(OC)c(/C=C/S(=O)(=O)Cc2ccc(OC)c(NC(C(=O)O)c3ccc(Br)cc3)c2)c(OC)c1', 'CC(C)N(Cc1ccc(Br)cc1)C(=O)c1ccc(CNC(=O)c2cc(S(=O)(=O)N(C)C)ccc2Cl)cc1', 'Cc1nc(C2CC(n3cc(-c4cc(F)c(Cl)c(F)c4)nn3)C(O)C(CO)O2)n(-c2cc(Cl)cnc2C(F)(F)F)n1', 'CNC(=O)C(Cc1ccccc1)N(Cc1cccc(Br)c1)C(=O)CN(c1ccc(C)c(Cl)c1)S(C)(=O)=O', 'O=C(/N=c1\\\\sn(-c2ccc(Cl)cc2)nc1C(=O)N1CCOCC1)c1nnn(-c2ccc(Cl)cc2)c1-c1ccccc1', 'CCOC(=O)C1=C(C)N=c2s/c(=C/c3cc(Br)c(N(C)C)o3)c(=O)n2[C@@H]1c1cc(OC)c(OC)c(OC)c1', 'CCNC(=O)[C@H](Cc1ccccc1)N(Cc1cccc(Cl)c1)C(=O)CN(c1ccccc1Br)S(C)(=O)=O', 'CCc1ccc(NC(=O)CSC2=C(C#N)C(c3ccccc3Cl)C(C(=O)c3cccs3)C(O)(C(F)(F)F)N2)cc1', 'CCCNC(=O)C(C)N(Cc1cccc(Br)c1)C(=O)CN(c1ccc(Cl)cc1)S(=O)(=O)c1ccccc1', 'Cc1cccc(Cl)c1NC(=O)C1N(CCCCO)C(=O)[C@@H]2[C@@H](C(=O)Nc3ccccc3)[C@@H]3SC12CC3Br', 'CNC(=O)[C@@H](C)N(Cc1cccc(Br)c1)C(=O)CN(c1ccc(C)c(C)c1)S(=O)(=O)c1ccc(Cl)cc1', 'CCCCC(=O)NC1=CC(c2ccc3[nH]nc(-c4nc5c(-c6ccsc6)cccc5[nH]4)c3c2)=CI=C1', 'Cc1cc(C)nc(NS(=O)(=O)c2ccc(NC(=S)NC(=O)c3cc(Br)ccc3OCCC(C)C)cc2)n1', 'CCNC(=O)C(Cc1ccccc1)N(Cc1ccc(Br)cc1)C(=O)CN(c1cccc(Cl)c1)S(C)(=O)=O', 'Cc1ncc(COc2ccccc2O/[P+]([O-])=N/[C@H](C)C(=O)OC(C)C)c(/C=N/c2ccc(Br)c(F)c2)c1O', 'CC(NC(=O)c1ccc(C=CC(c2ccc(Cl)c([N+](=O)[O-])c2)C(F)(F)F)cc1C(F)(F)F)C(=O)NCC(F)(F)F', 'CCOC(CC[C@@H](C=O)NC(=O)CC1Nc2cc(Cl)c(S(N)(=O)=O)cc2S(=O)(=O)N1)N[C@@H](C)C(=O)O.Cl', 'O[C@H](CN(Cc1cccc(OC(F)(F)C(F)F)c1)c1cccc(Oc2ccc(Cl)c(C(F)(F)F)c2)c1)C(F)(F)F', 'Cc1nc(C(F)(F)F)cn1-c1ccc(-c2cc(F)c(CO)c(S(C)(=O)=O)c2)cc1-c1ncoc1-c1ccc(Cl)cc1', 'Cc1cccn2c(C)c(C(O)=C3C(=O)C(=O)N(c4nnc(SCc5ccc(Cl)cc5)s4)C3c3ccccc3F)nc12', 'CCNC(=O)[C@@H](C)N(Cc1cccc(Cl)c1)C(=O)CN(c1cccc(Br)c1)S(=O)(=O)c1ccc(C)cc1', 'O=S1(=O)CCN(Cc2ccc(-c3cc4c(Nc5ccc(OCc6ccccc6)c(Br)c5)ncnc4cn3)o2)C1', 'Nc1nc2c(ncn2[C@@H]2O[C@H](C(OP(=O)(O)OP(=O)(O)O)C3O[C@H](CO)[C@@H](O)[C@H](O)[C@@H]3O)[C@@H](O)[C@H]2O)c(=O)[nH]1', 'C1=CC=C2C(=C1)C(=CN2)CC(=O)C(=O)O', 'O=c1ccc2c(C3CO3)ccc(O)c2[nH]1', 'COC(=O)c1ccc2ccccc2[n+]1[O-]', 'C[C@@H](CO)NC(=O)C(F)(F)C(F)F', 'CC(=Cc1cccc(N=C=O)c1)C(=O)O', 'S=C([S-])OCCC1CCCCC1', 'Cc1cc([N+](=O)[O-])c2ccccc2c1O', 'COC(=O)/C(C#N)=C(\\\\O)c1ccccc1', 'COC(=O)c1cccc2c(=O)[nH]ccc12', 'N#Cc1ccc(OC2CC2)cc1C(=O)O', 'COC(=O)c1ccc2ncc(O)cc2c1', 'COC(=O)C(C=O)c1ccc(C#N)cc1', 'CC1=CC2=NC(=O)C(C(=O)O)=CC2C=C1', 'COC(=O)c1c[nH]c2cc(C=O)ccc12', 'COc1cccc2ccc([N+](=O)[O-])cc12', 'CCC[N+]1(CC(=O)O)N=NNC1=S', 'COc1ccc2ccc([N+](=O)[O-])cc2c1', 'C[C@]1(C#N)COc2ccc(C(=O)O)cc21', 'Nc1ccc(-c2ccoc2)cc1C(=O)O', 'C#CC(O)/C=C/c1ccccc1[N+](=O)[O-]', 'NC1=CC(=O)c2ccccc2C1C(=O)O', 'COc1ccc(-c2cc(C=O)on2)cc1', 'CCCN(CCC)S(=O)(=O)[O-].[Na+]', 'COC(=O)c1ccc2c(O)cccc2n1', 'Nc1c(CC=O)ccc2oc(=O)ccc12', 'COC(=O)[C@H]1N=C1C(=O)c1ccccc1', 'CNCCSc1ccc(F)cc1F', 'C[C@H](N)CSc1ccc(F)cc1F', 'CC(=O)/C=C1/c2ccccc2C(=O)N1O', 'O=Cc1ccc2[nH]c(CC(=O)O)cc2c1', 'CC(C(=O)C#Cc1ccccc1)[N+](=O)[O-]', 'O=Cc1cccc2c1ccn2CC(=O)O', 'O=C(OCc1ccco1)c1cccnc1', 'COC(=O)c1cccc2cc(C=O)[nH]c12', 'O=[N+]([O-])OC1[C@@H]2C=C[C@H]1c1ccccc12', 'CC(F)(C(=O)NCCO)C(F)(F)F', 'O=Cc1coc(Cc2ccccc2O)n1', 'Cc1ccc(-c2cnc(C(=O)O)o2)cc1', 'C=CC(=O)OCc1ccccc1N=C=O', 'C=C1c2ccccc2C(=O)N1CC(=O)O', 'CC(=O)ONB(OC(C)=O)OC(C)=O', 'N#CCC=Cc1ccc(C(=O)O)c(O)c1', 'CCNOc1nc(Cl)nc(NC)n1', 'OCc1onc2c1COc1ccccc1-2', 'Cc1oc2ccccc2c1/C=C/[N+](=O)[O-]', 'O=C1CC=C(O)C(O)=C1c1cccnc1', 'O=C(c1ccccc1)C(O)c1ccon1', 'O=C1c2cc(=O)cnn2C[n+]2cccn21', 'O=C(Cc1ccon1)Oc1ccccc1', 'C=CCOC(=O)/C(C#N)=C\\\\c1ccco1', 'Nc1cccc(C(=O)O)c1-c1ccoc1', 'O=C=Nc1cccc(C=CCC(=O)O)c1', 'NCc1ccccc1SCC(F)F', 'N#CCCOC(=O)c1ccccc1C=O', '[H]/P=N/OCC(O)CNc1ncn[nH]1', 'Cc1ccc2c(C(=O)O)cc(=O)[nH]c2c1', 'CC(C#N)(C(=O)C(=O)O)c1ccccc1', 'C#Cc1ccccc1NC(=O)C(=O)OC', 'CC(CN)CS(=O)CC(F)(F)F', 'O=[N+]([O-])c1ccc(-[n+]2cncnc2)cc1', 'O=C(O)Cc1cccc2ccc(=O)[nH]c12', 'N/C(=C/c1cc2ccccc2o1)C(=O)O', 'CC(=O)c1cc(C#N)cc(CC(=O)O)c1', 'Oc1ccc(Oc2ccccn2)c(O)c1', 'C=CCOc1cc(C#N)cc(C(=O)O)c1', 'C=C(C)C(=O)Oc1cccc(N=C=O)c1', 'NCCCSCCOC(F)(F)F', 'C[C@@H]1NC[C@@H]1F.O=C(O)C(F)(F)F', 'COc1cc(C#N)cc(C=O)c1C(C)=O', 'C#CCOC(=Cc1ccccc1)[N+](=O)[O-]', 'CC(=O)c1ccc2oc(C(N)=O)cc2c1', 'Nc1cc2cccc(O)c2cc1C(=O)O', 'CCc1c(C=O)ccc(C#N)c1C(=O)O', 'COc1cccc(/N=C2\\\\C=CC(=O)O2)c1', 'O=C(O)C=Cc1ccc2c(c1)C(=O)NC2', 'COC(=O)c1c(O)cnc2ccccc12', 'O=C(C=Cc1coc2ccccc12)NO', 'Cc1ccc2c(c1)N=C(C(=O)O)CC2=O', 'C=C1CC(=O)N(c2ccc(O)cc2)C1=O', 'C=CCOC(=O)N1CC(F)(C(=O)O)C1', 'COC(=O)C(F)(CCC#N)C(=O)OC', 'Cc1cnc(-c2cccc(C(=O)O)c2)o1', 'O=C1CCC(=O)N1C(=O)c1ccccc1', 'O=C1CNC(=O)C1=Cc1ccc(O)cc1', 'C=C(C)Nc1cccc2c1C(=O)OC2=O', 'N#Cc1cccc(C(=O)O)c1OC1CC1', 'COc1ccc(-c2cc(C=O)no2)cc1', 'O=C1NC2(Cc3ccccc3C2)C(=O)O1', '[C-]#[N+]c1ccc(C(=O)C(=O)OCC)cc1', 'CC(C(=O)O)C(=O)c1ccc(C#N)cc1', 'COc1cccc(-c2coc(C=O)n2)c1', 'COC(=O)c1ccc2[nH]c(C=O)cc2c1', 'CCOC(=O)c1ccc(C#N)cc1C=O', 'O=C(O)C1(c2coc3ccncc23)CC1', 'COc1ccc(/C=C2\\\\N=CC(=O)O2)cc1', 'Cc1ccc2[nH]c(=O)c(C=O)c(O)c2c1', 'O=Cc1cc(OCc2ccccc2)no1', 'O=C(O)/C=C\\\\c1c[nH]c2cc(O)ccc12', 'CC(=O)c1cc2ccc(C(=O)O)cc2[nH]1', 'CC(=O)c1ccc(-c2ccco2)[nH]c1=O', 'COc1ccccc1C=C(C#N)C(=O)O', 'O=C(O)c1cn(-c2ccccc2)cc1O', 'Cn1cc2cc3c(cc2cc1=O)OCO3', 'CC1=C(c2ccc(O)cc2)C(=O)NC1=O', 'COC(=O)c1cc2ccc(O)cc2cn1', 'Cc1cc(C=O)c(C#N)c(CC(=O)O)c1', 'Cc1c(CC(=O)O)ccc(C=O)c1C#N', 'CC12OC3NC4=C5C=C3C1=C5C(C)(O4)O2', 'NC(N)=O.NCCS(=O)(=O)O.O', 'CSCCNc1cc(F)cc(F)c1', 'Cc1cc(C#CC=O)c(N)c(C(=O)O)c1', 'NC(=O)C1=CC(=O)C(c2ccccc2)O1', 'CCOc1cc(C=O)c(C#N)c(C=O)c1', 'Cc1ncc(OC(F)F)cc1B(O)O', 'NCC1(c2ccsc2)CC(F)(F)C1', 'O=C(O)C1CC1c1nc2ccccc2o1', 'Cc1c(C(=O)O)[nH]c(=O)c2ccccc12', '[Li+].[SiH3]C([SiH3])([SiH3])C=C1C=C[N-]C=C1', 'COc1ccc(C#N)c(C=CC(=O)O)c1', 'O=C/C=C/C=C\\\\c1ccc([N+](=O)[O-])cc1', 'O=C(O)/C=C/Cc1ccc2ncoc2c1', 'CCc1c(C#N)cccc1C(=O)C(=O)O', 'COc1ccccc1-c1ncc(C=O)o1', 'CC(C)(C)CCNS(=O)(=O)[O-].[Na+]', 'Cc1c(C(=O)O)c(=O)[nH]c2ccccc12', 'CC(=O)c1c[nH]c2c(C(=O)O)cccc12', 'CCc1cc(C#N)c(C(=O)O)c(C=O)c1', 'O=CC1CC=C(c2cccc(N=O)c2)O1', 'CCc1c(C#N)ccc(C=O)c1C(=O)O', 'C#Cc1ccc(C(=O)NC)c(C(=O)O)c1', 'O=C(OCc1ccco1)c1ccncc1', 'COC(=O)c1cncc2cccc(O)c12', 'COc1cccc(C(=O)c2ccon2)c1', 'COc1c(C#N)cccc1/C=C/C(=O)O', 'Cc1nc(C=O)oc1-c1ccccc1O', 'Nc1cccc(O)c1-c1coc(C=O)c1', 'C=C(C(=O)OC)c1ccc2ncoc2c1', 'COC(=O)C=Cc1ccc2ocnc2c1', 'Cc1ccc(-c2oncc2C(=O)O)cc1', 'CC(=O)ON=C1CC(=O)c2ccccc21', 'NC(CCS)c1ccc(F)c(F)c1', 'O=Cc1cc(Cc2ccccc2O)on1', 'O=C1CNC(=O)/C1=C(/O)c1ccccc1', 'CC(=O)c1cc(CC(=O)O)ccc1C#N', 'COc1ccc2cc([N+](=O)[O-])ccc2c1', 'O=[N+]([O-])COc1cccc2ccccc12', 'CCS(=O)CC(CN)C(F)(F)F', 'Nc1ccc(C(=O)O)c2c(O)cccc12', 'CC(=O)C1C(=O)c2cccc(N)c2C1=O', 'C=c1[nH]oc(=O)/c1=C\\\\c1ccc(O)cc1', 'NC(=O)c1ccc(-c2ccccc2O)o1', 'NC1(C(=O)O)C2C(C[C@@H]1F)C2C(=O)O', 'O=C(O)C1OC1c1c[nH]c2ccccc12', 'O=C(O)Cc1ccc2[nH]c(=O)ccc2c1', 'Cc1ncc(C(=O)NN)c(N)n1.Cl', 'C[C@H](N)CSc1ccc(F)c(F)c1', 'NCc1c2ccoc2c(O)c2ccoc12', 'CC1(c2cccc3c2C(=O)NC3=O)CO1', 'CN(C(=O)C(F)(F)F)S(C)(C)C', 'N#CC(=CO)C(=O)OCc1ccccc1', 'Nc1c(C(=O)[O-])nnn1-c1ccccc1', 'COC(=O)c1cc(C)cc(C=O)c1C#N', 'COc1cc(C#N)c(C(C)=O)cc1C=O', 'CCOC(=O)C(=O)c1ccc(C#N)cc1', 'COc1c(Nc2ccccc2)c(=O)c1=O', 'O=c1cc(O)c2cccc3c2n1CCO3', 'O=C(O)C(=O)Cc1cc2ccccc2[nH]1', 'C#CC(=O)N(CC(=O)O)c1ccccc1', 'COC(=O)c1cc(O)c2cccnc2c1', 'CC(=O)Oc1c(C=O)[nH]c2ccccc12', 'CN(CS)Cc1ccc(F)cc1F', 'Nc1ccc2cc(OC(=O)O)ccc2c1', 'C[C@H](CO)NC(=O)C(F)(F)C(F)F', 'Nc1ccc(-c2ccc(C(=O)O)o2)cc1', 'Cl.[H]/N=C(\\\\N)c1cn[nH]c1NC(C)=O', 'Cc1cc(C(=O)O)oc1-c1cccnc1', 'C#CC1(Oc2cnccc2C(=O)O)CC1', 'CC(NCC(F)(F)C(F)F)C(=O)O', 'CC(=O)NOC(=O)C#Cc1ccccc1', 'NC(=O)CC#Cc1ccc(C(=O)O)cc1', 'Cn1oc(=O)cc1-c1ccc(C=O)cc1', 'Cc1cccc2[nH]c(=O)c(C=O)c(O)c12', 'NC(=O)C#Cc1ccc(CC(=O)O)cc1', 'COc1c2ccoc2cc2oc(C)nc12', 'CN1Cc2cc3c(cc2C1)C(=O)OC3=O', 'Cc1cc(=O)n(C)c2c1C(=O)C=CC2=O', 'Cc1cccc(C#CC(N)=O)c1C(=O)O', 'Cc1ccc(C#CC(N)=O)cc1C(=O)O', 'COc1ccc2cncc(C(=O)O)c2c1', 'Cc1ccc(-c2ccc([N+](=O)[O-])cc2)o1', 'O=C(O)c1[nH]ccc1-c1ccccc1O', 'O=c1ccc2cc3c(cc2[nH]1)OCCO3', 'N#CCC1COc2ccc(C=O)cc2O1', 'N[C@@]12[C@H](C(=O)O)CC[C@@H]1[C@@]2(F)C(=O)O', 'O=C(O)c1coc(Cc2ccccc2)n1', 'CC(=O)C1=CC=C(O)C2=NC(=O)C=CC12', 'Cc1[nH]c2ccccc2c1C(=O)C(=O)O', 'O=C(O)N1C(=O)C2(CC2)c2ccccc21', 'O=C([O-])CN(CC(=O)[O-])CC(=O)O.[Li+].[Li+]', 'CC(C)(N)CS(=O)CC(F)(F)F', 'C=CCc1cc2cnc(=O)oc2cc1O', 'Cc1ccc(/C=C2\\\\OC(=O)NC2=O)cc1', 'O=C(O)c1ccc(Cc2ccncc2)o1', 'O=C(O)Cc1ccc(O)c2ncccc12', 'Cc1c(C(=O)O)cccc1-c1ncco1', 'O=CCCN1C(=O)C(=O)c2ccccc21', 'O=C(O)c1c[nH]c2c(c1=O)=CCC=CC=2', 'Cc1ccc(CC(=O)O)c(C#N)c1C=O', 'CCc1cc(F)c(NSC)c(F)c1', 'Cc1cc(C(=O)O)c2cc(O)ccc2n1', 'Cc1c(-c2cccc(C=O)c2)[nH]oc1=O', 'COc1cnc2cccc(C(=O)O)c2c1', 'CC1(C(=O)O)COc2cccc(C#N)c21', 'COc1ccc2c(N=O)c(O)ccc2c1', 'C=Cc1nc2ccc(OC)cc2c(=O)o1', 'CN(C)C(S)c1ccc(F)cc1F', 'O=C(O)Nc1ccc(-c2ccco2)cc1', 'COc1cc2ncccc2cc1C(=O)O', 'COC(=O)C(=O)C(=C=N)c1ccccc1', 'O=C1c2ccc(O)cc2C(=O)N1C1CC1', 'Cc1cc(=O)n(-c2ccccc2)c(=O)o1', 'Cc1oncc1Oc1ccccc1C=O', 'COC(=O)c1ccc(C=O)c(C)c1C#N', 'NC=C1C(=O)COc2ccccc2C1=O', 'Cc1cc(C(=O)O)cc(-c2ncco2)c1', 'C=CC=O.O=C1NC(=O)c2ccccc21', 'COC(=O)c1cc(C(C)=O)ccc1C#N', 'O=c1cc(/C(O)=C/O)[nH]c2ccccc12', 'CC(CCl)C(=O)NCc1nn[nH]n1', 'Cc1oncc1C(=O)Oc1ccccc1', 'C=Cc1cc2c(cc1[N+](=O)[O-])C(=O)CC2', 'O=C(O)Cc1cnc2c(O)cccc2c1', 'COc1ncccc1C(=O)c1ccoc1', 'COc1cccc(-c2nocc2C=O)c1', 'COC(=O)c1ccc(C(=O)CC#N)cc1', 'CC(=O)c1c(O)cc2ccccn2c1=O', 'C[C@@H](N)CSc1ccc(F)cc1F', 'COc1cccc2c(O)c(N=O)ccc12', '[CH2-][N]Cc1ccc(OC(F)(F)F)cc1', 'O=C1O[C@@H]2Cc3ccccc3[C@@H]2/C1=N\\\\O', 'CN(C)c1c(CS)ccc(F)c1F', 'COc1ccc2cccc(C(=O)O)c2n1', 'Cc1ccc2[nH]cc(C(=O)O)c(=O)c2c1', 'C=C(C)C(=O)Oc1ccc(O)cc1C#N', 'COc1cc(C#N)ccc1/C=C/C(=O)O', 'O=C1c2ccccc2C(=O)C1/C=N/CO', 'COc1ccc(-c2ncoc2C=O)cc1', 'Cc1ccc(-c2conc2C(=O)O)cc1', 'Cc1ccccc1-c1coc(C(=O)O)n1', 'COc1ccccc1-c1conc1C=O', 'COC(=O)c1cccc2cc(O)cnc12', 'COC(=O)c1ccc(O)c2ncccc12', 'CCc1cc(C=O)cc(C(=O)O)c1C#N', 'COC(=O)c1cccc(-c2cnco2)c1', 'Cn1cc(C(=O)O)c2ccccc2c1=O', 'C/[N+]([O-])=C\\\\c1coc2ccccc2c1=O', 'CCCCCC/C=C/CCCCCCCC(=O)OC[C@H](COP(=O)([O-])OCC[N+](C)(C)C)O', 'COC(=O)C12CCC3C(C(=O)C=C4C(C)(/C=C(\\\\C)C#N)C(C(C)C=O)CCC43C)C1CC(C)(C)CC2', 'CCCCCCCOc1cccc(C[C@H]2C[C@@H](c3ccc(OC)c(OC4CCCC4)c3)CNC2=O)c1', 'CCCCCNC(=O)C(c1ccccc1O)N(CCO)C(=O)C(CC(C)C)NC(=O)OC(C)(C)C', 'CCCCN(C(=O)C(CO)NC(=O)OC(C)(C)C)C(C(=O)NC(C)CCC)c1ccc(O)c(C)c1', 'COC(=O)CC1CCN(C(=O)C2CCC(NC(=O)C3CCN(C(=O)OC(C)(C)C)CC3)CC2)CC1', 'CCCCCCCC[P+](CCCCCCCC)(Cc1ccc(C(F)(F)F)cc1)c1ccccc1', 'C=CC(=O)OCCCCCCCCCCOc1ccc(-c2ccc(COC3CCCCC3)cc2)nc1', 'COC(=O)N1c2ccc3c(nc(CCn4cccn4)n3CCN3CCN(C(C)C)CC3)c2CC[C@@H]1C', 'NC(=O)c1cnc(Nc2ccc(C3CCOCC3)cc2)cc1NC/C(N)=C/NCCN1CCCCC1', 'CC(C)(C)OC(=O)N1CCC(CCC(=O)N2CCCC(C(=O)N3CCCCC3CC(=O)O)C2)CC1', 'c1cc(OCC2CCCCC2)c2c([S+]3CC4CCCCC4C3)ccc(OCC3CCCCC3)c2c1', 'Cc1cc(O)c(C(C)C)cc1NC(=O)c1ccc2c(c1)[C@@H]1O[C@H](C)CC[C@H]1[C@](C)(CCCC(C)C)O2', 'C/C=C/COC1C(OCCC2CCCCC2)c2cc(NCc3ccc(OC)cc3)ccc2OC1(C)C', 'CCCCNC(=O)C(C)CC(O)C(Cc1cccc(OCCCCCC(=O)O)c1)NC(=O)C(C)N', 'C=CCOC(=O)CC(OP(=O)(O)OCCCCCCCCCCCCCC)C([O-])[N+](C)(C)C', 'CN(CCCN(C)C(=O)c1ccc(NCCOCCC(=O)OC(C)(C)C)cc1)C(=O)OC(C)(C)C', 'COC(=O)CCC(CC(=O)Cc1ccc(C)cc1C)c1noc(C2CC(CC(C)(C)C)C2)c1C1CC1', 'CCN1CCN(CCOc2ccc(CN3CCC[C@]4(CCC[C@H]4O)C3)cc2)CC1.O=CO.O=CO', 'CCCCNc1nc2c(s1)C[C@]1(C)CC[C@@H]([C@H](C)C(=O)NCC[NH+]3CCOCC3)[C@H](O)[C@H]1[C@@H]2C', 'COC12CCC3(CC1C(C)(O)CC1CCCC1)C1Cc4ccc(O)c5c4C3(CCN1CC1CC1)C2O5', 'CC(C)(CN1CCOCC1)CN1CC[C@](O)(c2ccccc2)[C@H](N2CCCC2)C1.O=CO.O=CO', 'CNCc1ccc2cc3ccc(N(C)C)cc3[n+](CCCCCC(=O)NCCCCCC(=O)O)c2c1', 'CCCCCCCCCCCC(=C(C(=O)OC)C(=O)OC)N(Cc1ccccc1)Cc1ccccc1', 'CCOCc1nc2c(N)nc(C)c(C)c2n1CCC1CCN(C(=O)Nc2ccc(N(C)C)cc2)CC1', 'CCCCCCCCCCOc1ccc(C(=O)Oc2ccc(OCC(C)(C#N)CCCC)cc2)cc1', 'C#CCNC1C[C@@H](C(O)/C=C/C=C(\\\\C)CC(C)/C=C(C)\\\\C=C\\\\[C@H]2CC=CC(=O)O2)O[C@@H](/C=C/C)C1C', 'CCC(CC)C[C@@H](NC(C)=O)[C@@H]1C[C@@H](C(=O)OC(c2ccccc2)c2ccccc2)C[C@H]1C(O)CC', 'CC1(C)CC[C@]2(C(=O)O)CC[C@]3(C)[C@H](C(=O)C=C4[C@@]5(C)CC(C#N)=C(O)C(C)(C)[C@@H]5CC[C@]43C)[C@@H]2C1', 'C=C1/C(=C\\\\C=C2/CCC[C@]3(C)[C@@H]([C@H](C)/C=C/[C@H](O)C4(c5ncc(C)o5)CC4)CC[C@@H]23)C[C@@H](O)C[C@@H]1O', 'CCCCCCCC/C=C\\\\CCCCCCCCOCCCOP(=O)(O)OC[C@H](N)C(=O)O', 'C#CCCC(=O)Oc1cc(CCCCC)cc(OC(=O)CCN(C)C)c1C1C=C(C)CCC1C(=C)C', 'CCCCOc1nc(N)c2[nH]c(=O)n(Cc3ccc(C(N4CCCCC4)N4CCCCC4)cc3)c2n1', 'CNC(C)(C)CCOC(C)(C)CCNC(=O)CCNC(=O)Oc1c(C)cc(COC(C)=O)cc1C', 'CC.[H]/N=C(\\\\N)c1ccc(CNC(=O)Cn2c(/C(C=C)=C/C(C)=C\\\\CN)cnc(NC(C)C)c2=O)cc1', 'CCCCCNC(=O)C(c1ccc(O)cc1)N(CCO)C(=O)C(CC(C)C)NC(=O)OC(C)(C)C', 'CCCCc1cc2ccccc2c(OCC[N+](C)(C)C2C3CC4CC(C(N)=O)(C3)CC2C4C(N)=O)n1', 'CN1CCN(C(=O)c2ncc(N(C)CC3(NC=O)CCC(c4ccccc4)(N(C)C)CC3)cn2)CC1', 'O=C(CC(CCN1CCCCC1)NC(=O)c1cc(-c2cncnc2)n(C2CCCC2)n1)NC1CCC1', 'COC(=O)C(O)CC(C)=CCCC(C)C=CC=C(C)CCCC1=CCN(CCc2ccccc2)C1=O', 'CC(C)(N)C(=O)N1CCN(c2ccn(-c3ccc(CN4CCC5(CCC5N)CC4)cc3)c(=O)n2)CC1', 'CC1(C)CC[C@]2(C(=O)O)CC[C@]3(C)[C@H](C(=O)C[C@@H]4[C@@]5(C)C=C(C#N)C(=O)C(C)(C)[C@@H]5CC[C@]43C)[C@H]2C1', 'CCC1(N(C=O)c2nc(Nc3ccc(N4CCN(C)CC4)cc3)ncc2CCCNC(C)=O)CCC1', 'C=C/C=C/C.CC1=[C-]c2cc3c(cc2=C1)C=CC=3.[CH3-].[CH3-].[NH-]C1CCCCCCCCCCC1.[Ti+4]', 'CNCC(=O)NC1CCC(NC(=O)OC2CC[C@]3(CO3)C(C3(C)O[C@@H]3CC=C(C)C)C2OC)CC1', 'CCC/C=C\\\\CCCCCCCCOCC(COP(=O)([O-])OCC[N+](C)(C)C)OC(=O)CC', 'Cc1c(-n2nc(C)c3c(C)c(C)c(C)c(C)c32)nc(-n2nc(C)c3c(C)c(C)c(C)c(C)c32)c(C)c1C', 'C=C1CCCC(=C)C(CN2CN(c3ncnc4c3ncn4CCO)CN(CC3CCCCC3)C2=O)C1', 'CC/C=C\\\\C/C=C\\\\C/C=C\\\\C/C=C\\\\C/C=C\\\\C/C=C\\\\CCC(=O)Nc1c(OC)cc(OC)cc1OC', 'CC1(C)C(C=CC(=CC=C2N3CCCc4cccc(c43)C2(C)C)CCCO)=[N+]2CCCc3cccc1c32', 'CCCC(C)NC(=O)C(c1ccccc1O)N(C(=O)C(CO)NC(=O)OC(C)(C)C)C(C)(C)CC', 'CO[C@]12CC[C@@]3(C[C@@H]1[C@](C)(O)CC1CCCC1)[C@H]1Cc4ccc(O)c5c4[C@@]3(CCN1CC1CC1)[C@H]2O5', 'CC(C)(C)OC(=O)N[C@@H](Cc1ccccc1)[C@H](O)CNC[C@H]1COC(C)(C)N1C(=O)OC(C)(C)C', 'CCCCNC(=O)C(c1cccc(C)c1O)N(CCO)C(=O)C(NC(=O)OC(C)(C)C)C(C)CC', 'COc1cccc(C(=O)N(CCN2CCOCC2)C[C@@H]2CN(C[C@H](O)COC(C)(C)C)CCO2)c1', 'CCCCCCCC(=O)N(C)Cc1cccc(-c2ccc(CCC(=O)O)cc2OCC2CCCC2)c1', 'C#CCNC1C[C@@H](C(O)/C=C/C=C(\\\\C)CC(C)/C=C(C)\\\\C=C\\\\[C@H]2CC=CC(=O)O2)O[C@@H](/C=C/C)[C@H]1C', 'CO[C@@H]1COCC[C@@H]1N[C@@H]1CC[C@@](C(=O)N2C[C@@H]3C[C@H]2CN3C(=O)OC(C)(C)C)(C2(O)CCC2)C1', 'CC(C)N1CCN(CC(=O)N2CCCC[C@@H]2c2nc(N(C)C)ncc2-c2cccc(C(N)=O)c2)CC1', 'CCCN1CCN(CCCNC(=O)C(CC)n2nc(C)c3nn(-c4ccccc4)c(C)c3c2=O)CC1', 'CCCCCCCCC/C=C/CCCCCCCC(=O)OCC(O)COP(=O)(O)OCCN', 'CCCCCc1cc2c(c(C(C)(C)C)c1)OC1OC2Oc2c1cc(CCCCN=O)cc2C(C)(C)C', '[H]/N=c1\\\\c2nc(cc3[nH]c(cc4[nH]c(cc5[nH]c1c(C)c5CC)c(C)c4CC)c(C)c3CC)C(C)=C2CC', 'CCCCCNC(=O)C(c1cccc(O)c1)N(C(=O)C(CO)NC(=O)OC(C)(C)C)C(C)(C)CC', 'C[C@H]1NC(=O)[C@@](O)(COC(=O)NC2CCCCC2)[C@@](CC2CCCC2)(NO)C(=O)[C@@H]2CCCC[C@@H]12', 'CC(C)(C)[Si](C)(C)O[C@H]1CCC[C@]12C[C@@H](n1ccc(N)nc1=O)C[C@@H]2O[Si](C)(C)C(C)(C)C', '[H]/N=C(\\\\CNCCN1CCCCC1)CNc1cc(Nc2ccc(C3CCOCC3)cc2)ncc1C(N)=O', '[H]/N=C(CC)/C(=C\\\\C(=C/C)c1[nH]c2ccc(C3CCN(CC4(C)COC4)CC3)cc2c1C(C)C)CS', 'CCCCCCCCCCOc1ccc(C(=O)NC(c2ccc(C=CC(=O)O)cc2)C(C)CC)cc1', 'COC(=O)C12CCC(C)(C)CC1C1C(=O)CC3C4(C)C=C(C#N)C(=O)C(C)C4CCC3(C)C1(C)CC2', 'CCC(C)C(N)C(=O)NCCCCCC(=O)N1CCOCCOc2ccccc2OCCOCC1', 'CCC(C)N(Cc1cccc(C)c1O)Cc1c(C)nn(-c2ccc(F)cc2)c1N1CCN(CC)CC1', 'CC1CCC(c2nc(NCCN3CCOCC3)nc(N3CC4CC(C3)c3cccc(=O)n3C4)n2)CC1', 'Cc1nc(C)c(-n2nc(C)c3c(C)c(C)c(C)c(C)c32)c(C)c1-n1nc(C)c2c(C)c(C)c(C)c(C)c21', 'CCc1c2[nH]c(c1C)/C=N/c1ccccc1/N=C/c1[nH]c(c(CC)c1C)Cc1[nH]c(c(CC)c1CC)C2', 'CCO[C@@]1(C2C=CC(c3cc4c(N5CCN(C(=O)NC(C)C)CC5)ccnn4c3)=NC2)CCCNC1', 'C=C(c1ccc(-c2c[nH]c3ncc(-c4ccc(N5CCN(C)CC5)c(C)c4)cc23)cc1C(C)C)N(C)C', 'C/C=C(\\\\C=C(/C=C/CC)c1cn2c(C(C)CC)cnc2c(NCCc2c[nH]c3ccccc23)n1)C1CC1', 'CCN1/C(=C/C=C2\\\\CCCC(/C=C/C3=[N+](CC)c4ccccc4C3(C)C)=C2O)C(C)(C)c2ccccc21', 'CCCC(c1nn[nH]n1)C(CC(C)C)C(=O)NC1C(=O)N(C2CC2)c2ccccc2C(C2CC2)N1C', 'CC(=O)O[C@H]1CC[C@@]2(C)C(=CC[C@H]3[C@@H]4C[C@H](OC(C)=O)[C@H]([C@H](C)c5ccc(C)cn5)[C@@]4(C)CC[C@@H]32)C1', 'CC.[B]C([B])([B])OC([B])([B])C([B])([B])Oc1ccc(N2CCN(CCN(C)C(=O)OC(C)(C)C)CC2)cc1', '[C-]#[N+]C1=C(O)[C@@H](C)[C@@H]2CC[C@]3(C)C(=CC(=O)[C@@H]4[C@@H]5CC(C)(C)CC[C@]5(C(=O)OC)CC[C@]43C)[C@@]2(C)C1', '[2H]C([2H])([2H])C([2H])([2H])N1CCN(Cc2ccc(Nc3nccc(-c4cc(F)c5nc(C)n(C(C)C)c5c4)n3)nc2)CC1', 'CCN1CCN(c2ccc(N3CCCC(C(=O)N4CCN(c5ccc(OC)cc5)CC4)C3)nn2)CC1', 'COc1cc(OC)c(C(c2ccccc2)C(C)(C)C(=O)N2CC(C)CC3CC(C)CC2C3)c(OC)c1', 'Cc1nnc(C(C)C)n1C1CC2CC[C@@H](C1)N2C[C@H]1CN(C(=O)C2CC(F)C2)C[C@@H]1c1ccccc1', 'CCCC(C)NC(=O)C(c1ccc(O)cc1)N(CCO)C(=O)C(NC(=O)OC(C)(C)C)C(C)CC', 'CC(Cc1ccc(-n2ccc(N3CCN(C(=O)C(C)(C)N)CC3)nc2=O)cc1)NCC1C2CNCC21', 'CN1CCN(c2cccc(NC(=O)c3ccc(NC(C)(C)CO)nc3N3CCC4(CC3)CC4)n2)CC1', 'CCC(CC)(c1ccc(C(=O)CC(C)(O)C(C)(C)C)c(C)c1)c1ccc(C(=O)N(C)CC=O)c(C)c1', 'C=C1CCC2[C@]3(C)COC(C)(C)OC3CC[C@]2(C)[C@H]1CC(Nc1cccc(C)c1C)C1=CCOC1=O', 'CC[C@@H]1CC(c2ccc(C)nc2)=CN1C(=O)c1cc(C)c(O[Si](C(C)C)(C(C)C)C(C)C)cc1N', 'Cc1nc(C)c(-c2ccc3c(c2)CCN(C/C(=N/N)NN)C3)c(N2CCC(C)(C)CC2)c1CC(=O)O', 'CON(C)C(=O)[C@]1(C)CC[C@]2(C)CC[C@]3(C)C4=CC=C5C(=CC(=O)C(O)=C5C)[C@]4(C)CC[C@@]3(C)[C@@H]2C1', 'CO[C@@H]1CCN(C2N=C(Nc3cc4c(C(C)C)cnc(N5C[C@H](C)[C@H]5C)c4cn3)C=CN2C)C[C@@H]1O', 'CCCC(C)NC(=O)C(c1ccc(O)cc1)N(C(=O)C(CO)NC(=O)OC(C)(C)C)C(C)(C)CC', 'CN(C)c1cccc(-c2ccnc(N[C@@H]3CCCCC3C[C@H]3CCCN(c4ccc(C#N)cc4)C3)c2)c1', 'CN1CCC(N(C)CC(=O)N2CCCCC2c2nc(N(C)C)ncc2-c2cccc(C(N)=O)c2)CC1', 'C=C(C)c1ccc2c(c1)C(C)(C)CN2.C=Cn1ncc(-c2ccc3c(n2)=CC(CC)N(C)C=3)c1/C=C\\\\C', 'C=C(C)C(=O)OCCCCCCOc1ccc(/C=N/c2ccc(CCCCCCCC)cc2)c(O)c1', 'CCCCCNC(=O)C(c1ccccc1O)N(CCO)C(=O)C(NC(=O)OC(C)(C)C)C(C)CC', 'CN(C)C(=O)N(CCC(C)(C)N)[C@@H](c1nc(-c2cccc(F)c2)cn1Cc1ccccc1)C(C)(C)C', 'C[C@H]1[C@@H](C[C@H](C#Cc2ccccc2)N2CCC[C@H]2CO)O[C@@H]2C[C@]3(C)CC[C@H]4[C@H](C)CC[C@@H]1[C@@]24OO3', 'CC(C)(N)C(=O)N1CCN(c2ccn(-c3ccc(CCNC4CC5(CC(N)C5)C4)cc3)c(=O)n2)CC1', 'C=C1/C=C/C(=O)N[C@@H](C)C(=O)N[C@H](C(C)C)C(=O)O[C@H]([C@@H](C)CCCCCC)[C@@H](CCO)C(=O)N1', 'CCn1cc2c(n1)CC(CN(C)C=C1CCc3nn(CCN(C)C)cc3C1=O)CC(=CN(C)C)C2=O', 'CN(C)c1nc(NC2CCC(CNCc3ccccc3CCc3ccccc3)CC2)nc2ccccc12', 'CC(C)C(CC(=O)N(C)CCCN1CCC(c2cccs2)(N(C)C)CC1)C1=CCc2ccccc21', 'CC1=C(OCCO)C(=O)C=C2C1=CC=C1[C@@]2(C)CC[C@@]2(C)[C@@H]3C[C@](C)(C(N)=O)CC[C@]3(C)CC[C@]12C', 'CC(C)(C)C1CCC2(CC1)CN(C1CCCCC1)C(=O)N2Cc1ccc(C(=O)Nc2nn[nH]n2)cc1', 'CCCOCCCC(CSP(=S)(CCCCCC(C)C)CCCCCC(C)C)C(N)=O', 'CC(=O)C1CCCCN1C(C)=O.CC(=O)C1CCCN(C(C)=O)C1.CC(=O)C1CCCN1C(C)=O', 'CC(C)(N)C(=O)N[C@H](CCCc1ccccc1)C(=O)N1CCC(c2ccccc2/C(=N/N)NN)CC1', 'CCOC(=O)CC/C=C/c1ccccc1[C@@H](C)OC[C@H](O)CNC(C)(C)CC1Cc2ccccc2C1', 'CCc1cc(N2CCN(C)CC2)ccc1Nc1ncc(C2CC2)c(NCCCN2CCCOC2=O)n1', 'CCCCN(CCNC(=O)[C@H]1CCCN(c2ncnc3c2nc2n3CCCCC2)C1)Cc1ccco1', 'C#Cc1ccc(-c2ccc(-c3cc(C)c(NC(=C)CC(CC)C4CCC(C)C4C)cc3C)cc2)c(F)c1', 'CC1(C(=O)O)CC[C@]2(C)CC[C@]3(C)C(=CC(=O)[C@@H]4[C@@]5(C)C[C@@H](C#N)C(=O)C(C)(C)[C@@H]5CC[C@]43C)[C@H]2C1', '[H]/N=C/C1=C[C@]2(C)C3=CC(=O)C4[C@H]5CC(C)(C)CC[C@]5(C(=O)O)CC[C@@]4(C)[C@]3(C)CC[C@H]2C(C)(C)C1=O', 'CCCCCC/C=C\\\\CCCCCCCC(=O)O[C@H](CO)COP(=O)([O-])OCC[N+](C)(C)C', 'CCCCCCCCCCCCCCCC(=O)N1C/C(=C\\\\c2ccco2)C(=O)/C(=C/c2ccco2)C1', 'COC(=O)CCCCCCCCC(=O)N1CCC[C@H]1C(=O)N1CCC(C(=O)N2CCOCC2)CC1', 'CCCCCCCCC(N)(C(=O)C1(c2ccc(C)cc2)CC1)c1ccc(CC(OCC)C(=O)O)cc1', 'CC/C=C/NCc1ccc(F)cc1.c1cc2nc(C3CCOCC3)[nH]c2cc1NNC1CCCCC1', 'CC[C@H](c1nnnn1C1CCCCC1)N(CCN1CCOCC1)Cc1cc2ccc(C)cc2[nH]c1=O', 'Cc1ccc(C(C)S)c(C(=O)N2CCN(c3ccc(CCCCN(C)C4CCCC4)cc3)CC2)c1', 'C=C/C=C(\\\\C)n1ccc2nc(Nc3cnn(C4CCOCC4)c3)nc(OC3CCC(NCC)CC3)c21.[H][H]', 'CC(C)=CCCC(C)=CCOc1ccc2c3c1OC1C(O)CCC4(O)C(C2)N(CC2CCC2)CCC314', 'C=C1/C=C/C(=O)N[C@@H](C)C(=O)N[C@H](C(C)C)C(=O)OC(C(CCO)C(C)CCCCCC)C(=O)N1', 'CCOC(=O)/C=C/c1cc(C)ccc1[C@@H](CC)OC[C@H](O)CNC(C)(C)CC1Cc2ccccc2C1', 'CC(C)(C)OC(=O)N1CCC(=O)C(CC2CC2C2CN(C(=O)OC(C)(C)C)CCC23NCCO3)C1', 'CCCCN1C(=CC=CC2=[N+](CC)c3c(ccc4ccccc34)C2(C)C)C(C)(C)c2cc(OC)ccc21', 'CCCCCCCCCCCCOC[C@@]12O[C@@H](C)[C@@H](NC(=O)c3ccc(F)cc3)[C@@H]1OC(C)(C)O2', 'C=C/C(=C\\\\C=C/C)COc1ccc2c(=O)c(=C(/C)O)/c(=C\\\\CC(=C)N(CCC)CCC)oc2c1.CC', 'CC(C)CC([NH-])C(=O)NC(Cc1ccc(OCc2ccccc2)cc1)C(=O)NCCC1CCCN1C', 'C[C@H]1[C@H](C)CC[C@]2(C)CC[C@]3(C)C(=CC(=O)[C@@H]4[C@@]5(C)Cc6cnoc6[C@](C)(C(=O)O)[C@@H]5CC[C@]43C)[C@H]12', 'C=C(/C=c1/c(-c2cc(C(=C\\\\C=C/C)/C(/C=C\\\\C)=C/C)c(C)[nH]2)n[nH]/c1=C/C)c1cncc(CNCC)c1', 'CC1(C)CC[C@]2(C(=O)O)CC[C@]3(C)[C@@H](C(=O)CC4[C@@]5(C)C=C(C#N)C(=O)C(C)(C)C5CC[C@]43C)C2C1', 'CC1=C(O)C(=O)C=C2C1=CC=C1[C@@]2(C)CC[C@@]2(C)[C@@H]3C[C@](C)(CN(C)C(=O)O)CC[C@]3(C)CC[C@]12C', 'Cc1nc2c(n1C1CC3=CC[C@H](C1)N3C[C@H]1CN(Cc3ccccc3)C[C@@H]1c1ccccc1)CCNC2', 'COC(=O)[C@H]1CC[C@]2(C)CC[C@]3(C)C(=CC(=O)[C@@H]4[C@@]5(C)CC(C#N)C(=O)C(C)(C)[C@@H]5CC[C@]43C)[C@@H]2C1', 'CCCC(=O)CCC(C)C(C)=O.CCCC(=O)c1ccc(CC(=O)Nc2ccccc2C)cc1CC', 'CCCCCCCCCCCCCCCC(=O)OC[C@@H](O)CCP(=O)(O)OCCNC(C)=O', 'CC1CN(C2CCCCC2)c2nc(Nc3ccc(N4CCN(C(=O)OC(C)(C)C)CC4)cn3)ncc21', 'CC(=O)C(C)=O.CC(C)=O.CNC(C)=O.Cc1ccccc1.Cc1ccccc1.Cc1ccccc1', 'CCCCC1CCC(C(=O)N2CCc3cc(OC)c(OC)cc3C2COc2cc(C)cc(C)c2)CC1', 'CCCC(OCC(=O)N1CCC(C(c2ccc(C(C)C)cc2)c2ccc(C(C)C)cc2)CC1)C(=O)O', 'CC(CNC(=O)CC(C)(O)C(F)(F)F)[C@H]1CCC[C@H]2[C@@H](O[Si](C)(C)C(C)(C)C)CCC[C@]12C', 'CC1C(=O)C(C#N)=CC2(C)C1CCC1(C)C3CCC4(C5COCO5)CCC(C)(C)CC4C3C(=O)CC21', 'COC(=O)/C=C/c1cccc(N(C)C(=O)CC(C)(C)C)c1.COc1ccc(C2CCCCC2)cc1C', 'Cc1ccc(C#N)cc1Cc1nc(N[C@@H]2CCN(C(=O)OC(C)(C)C)C2)nc(N(C)CC(C)(C)C)n1', 'CC1(C)C(/C=C/C(=C/C=C2/N3CCCc4cccc(c43)C2(C)C)CCCO)=[N+]2CCCc3cccc1c32', 'CCCCCCCCCCCCCC[C@H](NC(=O)OCC1c2ccccc2-c2ccccc21)C(=O)O', 'CCCCCCCCOC(C)(OCCCCCCCC)OC(C)OC(=O)c1ccccc1C(=O)[O-]', 'C=C(c1ccc(CSCC(C)(C)F)cc1)N1CCC2(CC1)CC(CCC)CC(c1ccccc1)C2', 'CC(C)c1cccc(C(C)C)c1NCCN(C)CCNc1c(C(C)C)cccc1C(C)C.[Fe]', 'CCCC(=O)OC.CNC(=O)C(Cc1ccccc1)NC(=O)C(CC(C)C)NC(=O)OC(C)(C)C', 'COC(=O)[C@H]1CC[C@]2(C)CC[C@]3(C)C(=CC(O)[C@@H]4[C@@]5(C)C=C(C#N)C(=O)C(C)(C)[C@@H]5CC[C@]43C)[C@@H]2C1', 'CCC(CC)(c1ccc(CC(C)C2(O)CCCCC2)c(C)c1)c1ccc(C(=O)NCC(=O)O)c(C)c1', 'CC1CCC(Cn2c(C3=CCCCC3)nc3nc(C4NOC(=O)N4)nc(N[C@H](C)C4CCC4)c32)CC1', 'CC/C(=C/C=C/[C@@H]1C=C[C@@H]2[C@@H](CC)CC[C@H]2[C@@H]1C(=O)c1ccc[nH]1)[C@@H]1O[C@@H]([C@@H](C)C(=O)O)CC[C@@H]1C', 'C=CC(=O)N[C@@H]1CCC[C@@H](Nc2n[nH]c3c2CN(C(=O)N[C@H](CN(C)C)c2ccccc2)C3(C)C)C1', 'COC(=O)C(O)C(CC1CC1)NC(=O)[C@@H]1[C@@H]2[C@H](CN1C(=O)[C@@H](NC(=O)C(C)C)C(C)(C)C)C2(C)C', 'O=C(O)CC1CCC(N(CC2CCCCC2)CC2CCCCC2)C(c2ccc(C(F)(F)F)cc2)C1', 'C/C=C/C(=O)N1CCCC(Nc2n[nH]c3c2CN(C(=O)N[C@H](CN(C)C)c2ccccc2)C3(C)C)C1', 'CCC1c2cc3nc(NCCN)cc(n3n2)N(C)CCCCCCOc2ccc(C)cc2C(=O)N1C', 'CO[C@]12CCC(N[C@@H](CC(N)=O)C(=O)OC(C)(C)C)[C@@H]3OC4C(O)CCC5CC1N(C)CC[C@]32C54', 'CCCCN[C@@H](c1ccccc1)[C@]1(O)C[C@H]2[C@@H]3CCc4cc(OCOC)ccc4[C@H]3CC[C@]2(C)[C@H]1O', 'C[Si](C)(C)C[Si](C)(C)CCCCCCCCCCCOc1ccc(-c2ccc(C#N)cc2)cc1', 'CCCN1CCN(CCCNC(=O)[C@H](CC)n2nc(C)c3nn(-c4ccccc4)c(C)c3c2=O)CC1', 'CC1(C)C(=O)[C@H](C#N)C[C@]2(C)[C@H]3C(=O)C=C4[C@H]5C[C@](C)(C(=O)O)CC[C@]5(C)CC[C@@]4(C)[C@]3(C)CC[C@@H]12', 'COC12CCC3(CC1C(C)(O)CC1CCCC1)C1Cc4ccc(O)c5c4[C@@]3(CCN1CC1CC1)C2O5', 'C=C/C=C\\\\N=C(/C)C1(c2ccccc2)/C(=C/C(=C)B2OC(C)(C)C(C)(C)O2)C(=CC)C(=C/C)/C1=C\\\\C=C', 'CCOCC1(COCC)CC=C(C(C(=O)OC(C)(C)C)N(Cc2ccccc2)Cc2ccccc2)C1', 'CCCCNC(=O)C(c1cccc(C)c1O)N(CCO)C(=O)C(CC(C)C)NC(=O)OC(C)(C)C', 'CCCCCNc1nc(N)nc2ccn(Cc3ccc(CN4CC5(CN(C)CCO5)C4)cc3OC)c12', 'CCCC(C)NC(=O)C(c1cccc(C)c1O)N(CCO)C(=O)C(NC(=O)OC(C)(C)C)C(C)C', 'CCN(CC)CC=Cc1ccc(-c2nc(-c3ccc(N(C)C)cc3)c(-c3ccc(N(C)C)cc3)[nH]2)cc1', 'Cc1ccc(CC(=O)CC(CCCCC(=O)O)c2noc(C3CC(CC(C)C)C3)c2C2CC2)c(C)c1', 'CC(C)c1cnn2c(NCC3=CC(CC(=O)C4CCCCN4)=CCC3)nc(N[C@H]3CCCOC3)nc12', 'Oc1ccccc1-c1cc2c(nn1)NC[C@H]1CN(C3CCN(CCOC4CCNCC4)CC3)CCN21', 'O=C(NCCN1CCN(Cc2ccccc2)CC1)C1CCN(c2ccc(N3CCOCC3)nn2)CC1', '[H]/N=c1\\\\n(C)ccn1CC1CC(C(=O)NCC2CCC(Cl)C(C)C2)CC(C2CCNCC2OC)C1', 'CCCCCCCCCCCCCCC(CC(=O)O)C(=O)Nc1ccc(C(=O)c2ccccc2)cc1', 'C=C1C=C(C)C(/C=c2/c(CC)c(C)/c3n2Cn2c(C)cc(CC)c2/C=C2\\\\N=C(/C=3)C(C)=C2CCCN)=N1', 'CCNc1cc(C(=O)N[C@@H](Cc2ccccc2)[C@H](O)C[NH2+]C2CCCCC2)cc(N2CCCC2=O)c1', 'CC/C=C/C/C=C/C/C=C/C/C=C/C/C=C/CCC(CC)C(=O)OCCNC(=O)c1ccccc1O', 'CCC(O)(C=Cc1ccc(C(CC)(CC)c2ccc(C(=O)N(C)C(C)C(=O)O)c(C)c2)cc1C)CC', 'C=C1/C=C\\\\C(=O)N[C@@H](C)C(=O)N[C@H](C(C)C)C(=O)O[C@@H]([C@H](CCO)[C@@H](C)CCCCCC)C(=O)N1', 'CN1CCN(c2ccc(-c3ncc4c(n3)N(C[C@H]3CN(C)CCO3)C(CC(=O)N(C)C)C4)cc2)CC1', 'COc1cccc(C(=O)N(CCN2CCOCC2)C[C@H]2CN(C[C@@H](O)COC(C)(C)C)CCO2)c1', 'CCO[C@@H]1CCCC[C@@H]1NC(=O)N1CCc2ccc(-c3cc(N4CCN(C)CC4)nc(N)n3)cc2C1', 'CCC(O)(/C=C/c1ccc(C(CC)(CC)c2ccc(C(=O)N(C)C(C)C(=O)O)c(C)c2)cc1C)CC', 'C/C=C/C=C/c1ccccc1SF.C=C/C=C\\\\C=C(C)C.CCC.[H]/N=C(\\\\CCC)c1ccccc1', 'C=C1CC[C@@]2(O)[C@H]3Cc4ccc(OC(=O)CCCCCCCCC)c5c4[C@@]2(CCN3CC2CC2)[C@H]1O5', 'C[C@H]1[C@@H](C[C@@H](C#Cc2ccccc2)N2CCC[C@H]2CO)O[C@@H]2C[C@]3(C)CC[C@H]4[C@H](C)CC[C@@H]1[C@@]24OO3', 'CCC(C)(C)c1ccc(OCCCNC(=O)c2cc(O)c3c(c2O)C2CCC3C2)c(C(C)(C)CC)c1', 'CC(C)N(CCCCNC(=O)c1ccc(C(=O)N(Cc2ncc[nH]2)Cc2nccn2C)cc1)C(C)C', 'CCC(=CC=C[C@@H]1C=C[C@@H]2[C@@H](CC)CC[C@H]2[C@@H]1C(=O)c1ccc[nH]1)[C@@H]1O[C@@H]([C@@H](C)C(=O)O)CC[C@@H]1C', 'CCC[C@@H](c1nnnn1C1CCCC1)N(CCN1CCOCC1)Cc1cc2cccc(C)c2[nH]c1=O', 'CC(C)CCCC(C)(C)C(=O)Oc1ccc(OCC(O)CNCCNC(=O)N2CCOCC2)cc1', 'CC1(C)CCC(CN(CC2CCCC2)[C@@H]2CCC(CC(=O)O)CC2c2ccc(C(F)(F)F)cc2)C1', 'CCCOc1cc(N)c(Cl)cc1C(=O)NCC1CCN(CC2CCN(CCCCN)CC2)CC1', 'CNc1nnc(-c2ccccc2O)cc1N1CCN(C(=O)[C@H]2CCCN(C3CCNCC3)C2)C[C@@H]1C', 'CC[C@H](C)N(CCNC(=O)C1CCN(c2ncnc3c2nc2n3CCCCC2)CC1)Cc1ccco1', '[2H]C([2H])([2H])C(CCCC(CS(=O)(=O)CCO)(C([2H])([2H])[2H])C([2H])([2H])[2H])(C(=O)NNC)c1cccc(CCC(=O)OCC)c1', 'COCCCOc1ccccc1C(=O)NC[C@@H](C[C@H](OC(N)=O)[C@@H](O)CN1CCCCC1)C(C)C', 'Cc1ccc(C(C)C)cc1N1CCc2nc(-c3cccc4[nH]cc(C)c34)nc(N3CCC(C)CC3)c2C1', 'CCCCCCCCCCCCCC=CCCOCC(CC(N)COP(=O)(O)O)OC(C)=O', 'CC1=CC=C(C)C1.Cc1ccc(C)[nH]1.Cc1ccc(C)o1.Cc1ccc(C)s1.Cc1cnc(C)[nH]1', 'C=CC(=O)N[C@@H]1CCC[C@@H](Nc2n[nH]c3c2CN(C(=O)NC(CN(C)C)c2ccccc2)C3(C)C)C1', 'C#CC(=C)C(C)(C)C(C1=CC=C2CCC(N3Cc4ccccc4CC3(C)C)C2C1)c1ccc(F)cc1C', 'CC(C)N1C(=O)NCc2cnc(Nc3ccc(N4CCC(CCCN5CCOCC5)CC4)cc3)nc21', 'CCC.CC[C@@H](CN1C(=O)C2=C(C1=O)C1CC1CC=C2)[C@H](O)c1cccc(OCC2CCCCC2)c1', 'C[Si](C)(C)C#Cc1ccc(C=C2CCN(C(=O)C(C3CCCCC3)C3CCCCC3)CC2)c(F)c1', 'C=C1/C(=C\\\\C=C2/CCC[C@]3(C)[C@@H]([C@@H](C)/C=C/[C@H](O)C4(c5ncc(C)o5)CC4)CC[C@@H]23)C[C@@H](O)C[C@@H]1O', 'CNC(=O)c1ccc(C)c(Nc2nc(OCCC3CCCN3C)nc(N(C)CC(C)(C)C)c2C#N)c1', 'CCN1C(=CC=C2CCC/C(=C\\\\C=C3\\\\[NH+](CC)c4ccccc4C3(C)C)C2=O)C(C)(C)c2ccccc21', 'O=C(O)CC1CCC(N(CCC2CCCCC2)CC2CCCC2)C(c2ccc(C(F)(F)F)cc2)C1', 'C=CCN1CCC[C@@H](C(=O)Nc2n[nH]c3c2CN(C(=O)N[C@H](CN(C)C)c2ccccc2)C3(C)C)C1', 'CC[Si](CC)(CC)O[Si](CC)(CC)CCCCCCCc1ccc(-c2ccc(C#N)cc2)cc1', '[B]c1ccc(CN(C(=O)C2CCCc3ccc(OC)cc32)c2ccc(CCCCCCCC)cc2)cc1', 'CCCNc1nc(NC)nc2cc(-n3ccc(CNCCCCCC(=O)N4CCOCC4)c3)ccc12', 'C=C1C(=CC=C2CCC[C@]3(C)[C@@H]([C@H](C)C=C[C@@H](O)C4(c5ncc(C)o5)CC4)CC[C@@H]23)C[C@@H](O)C[C@@H]1O', 'CC(C)CCCOCCOCCC(=O)Cc1cccc(OCC(N=[N+]=[N-])OCCOCC(C)C)c1', 'C.CC[N+](CC)(CC(=O)Cc1c(C)cccc1C)Cc1ccc(OC(=O)CCc2cn(C)nn2)cc1', 'CCC(=CC=CC1C=CC2C(CC)CCC2C1C(=O)c1ccc[nH]1)C1OC(C(C)C(=O)O)CCC1C', 'C=C1C=CC(=O)NC(C)C(=O)NC(C(C)C)C(=O)OC(C(C)CCCCCC)C(CCO)C(=O)N1', 'CN1C[C@]23CCC4[C@@H](CC=C5C[C@@H](N(C)C(=O)[C@H](N)Cc6cccs6)CC[C@@]54C)[C@@H]2CC[C@@]32C[C@H]12', 'COC(=O)[C@@]12CCC3C(C(=O)C[C@@H]4[C@@]5(C)C=C(C#N)C(=O)C(C)(C)[C@@H]5CC[C@@]34C)C1CC(C)(C)CC2', 'CC(=O)[C@@]1(C)CCC2C3CC[C@@]4(O)CC5(CCC4=C3[C@@H](c3ccc(N(C)C)cc3)C[C@@]21C)OCCO5', 'COc1ccccc1N1CCN(CCNCCCN2CCC(c3c[nH]c4cc(F)ccc34)CC2)CC1', 'C=O.CC/C=C\\\\c1ccccc1CCc1ccc(-c2ccoc2)c(OC)c1C(N)=O.CCC.CCC', 'CCOC(=O)[C@H]1[C@@H]2C(=O)N([C@@H](CO)[C@@H](C)CC)[C@H](C(=O)NCCN3CCOCC3)[C@H]2C=C[C@H]1CC', 'Cc1cc(NC(=O)N(CCN2CCNCC2)C2CCC(C)C(C)C2)ccc1F.N#Cc1ccccc1', 'C[SiH](C)CCCOc1cc(F)c(B2OC(C)(C)C(C)(C)O2)cc1C(=O)NC(C)(C)CC(C)(C)C', 'C=C/C=C\\\\C=C/CCC(CC(=C)CN1CCCC1)NC(=O)CCCSc1cc(CC)ccc1N=C', 'CCC(C)(CC)OP(=O)(OCCOC(=O)C(C)(C)CCN1CCOCC1)OC(C)(CC)CC', 'CC(C)[C@H](C[C@H](O)[C@H](Cc1ccccc1)NC(=O)OC(C)(C)C)C(=O)NCC[N+]1([O-])CCOCC1', 'CC[C@@H]1C(=O)N(C)c2cnc(Nc3ccc(N4CCC(N5CCC5)CC4)cc3OC)nc2N1C(C)C', 'C=C.C=C(Nc1c(C)cc(Cc2ccc(C)cc2)cc1Cc1ccc(F)cc1)c1ccccc1C.CC', 'CN1CCN(C(=O)CCCCCCCCCCSNC(=S)C23CC4CC(CC(C4)C2)C3)CC1', 'CC1[C@H]2CC3C=CC(B4OC(c5ccccc5)CC(c5ccccc5)O4)=CC3C1(C)CCN2CC1CC1', 'C=C[C@H](CC(=O)O)N(CC)C(=O)[C@@H]1CCCN(C(=O)CCC2CCN(C(=O)OC(C)(C)C)CC2)C1', 'C.C.C=CCC.Cc1ccccc1-n1c(C)c(-n2c3ccccc3n3c(C)cc(C)c23)c2cncnc21', 'CC1(C)CC[C@]2(C(=O)O)CC[C@]3(C)[C@H](C(=O)CC4[C@@]5(C)C=CC(=O)C(C)(C)[C@@H]5CC[C@]43C)[C@@H]2C1C#N', 'CNc1ncc([C@@H]2CCC[C@H](NC(=O)CN(C)C(=O)/C=C/CN(C)C)C2)c(NCc2ccccc2)n1', 'CC(C)=CCC/C(C)=C/COc1ccc2c3c1OC1C(O)CCC4(O)C(C2)N(CC2CCC2)CCC314', 'CO[C@]12CC[C@@]3(CC1[C@](C)(O)C(C)(C)C)[C@H]1Cc4ccc(C(N)=O)c5c4[C@@]3(CCC1CC1CC1)[C@H]2O5', 'COC(=O)C(O)C/C(C)=C\\\\CCC(C)/C=C/C=C(\\\\C)CCCC1=CCN(CCc2ccccc2)C1=O', 'CCCCN(CCNC(=O)C1CCN(c2ncnc3c2nc2n3CCCCC2)CC1)Cc1ccco1', 'C=C[C@@H]1C=C(C)[C@H]2[C@H]3[C@H]1C(O)[C@@H]1C[C@](O)(Cc4ccc(cc4)O[C@@H]3C[C@@H](C)C[C@@H](C)C[C@H]2C)NC1=O', 'Cc1cc(-c2n[nH]c(C(=O)NC3CCC(NC4CCOC(C)(C)C4)CC3)c2C(C)C)cn2ncnc12', 'C=C[C@H](CC(=O)OCC)NC(=O)[C@@H]1CCCN(C(=O)CCC2CCN(C(=O)OC(C)(C)C)CC2)C1', 'CCCCCC/C=C\\\\CCCCCCCC(=O)OCC(CO)OP(=O)([O-])OCC[N+](C)(C)C', 'CCN(CC)C(=O)SCC1=CC=C(C=C1)Cl', 'O=C(NCc1cccs1)c1ccc2nccn2c1', 'Cc1nc(CC(=O)Nc2ccc(C#N)cc2)cs1', 'Cc1ccc(-c2n[nH]c(=O)c3nc(C)sc23)cc1', 'CSCCN(C)c1ccc(C(C)=O)c(Cl)c1', 'O=C1NN=C(c2ccccc2)[C@@H](c2cccs2)N1', 'CC(C)OC(=O)/C=C/c1cc(N)c(F)cc1Cl', 'COC(=O)C(C#N)C(c1ccccc1)C(F)(F)F', 'CCc1cnc(CNC(=O)C(C)C(N)=S)s1', 'Cc1nnsc1C(O)c1cncc2ccccc12', 'O=C(c1ccc(F)cc1Cl)N(CCO)C1CC1', 'N#Cc1cc(C(F)(F)F)ccc1OC1CCOC1', 'OC(CNC1CC1)CSc1ccc(Cl)cc1', 'NC1(c2cc3c(c(Cl)c2F)OCCO3)CCC1', 'O=C(NCC(F)F)c1ccc(F)cc1C#CCO', 'CSC1(CNC(=O)c2sc(N)nc2C)CC1', 'N#CC1CCOC1c1cccc(OC(F)(F)F)c1', 'NCC1(Sc2cccc(Cl)c2)CCOCC1', 'O=C(CNCP(=O)(O)O)OCCOCCO', 'O=Cc1c(-c2ccc(F)cc2F)[nH]c2ccccc12', 'CCC(=O)Oc1c[nH]c2cc(C(F)(F)F)ccc12', 'Cc1nc(-c2ccncc2)sc1C1(C#N)COC1', 'Nc1cccc(Cl)c1CSC1CCOCC1', 'Cc1csc([C@H](C#N)C(=O)Nc2ccccc2)n1', 'C1COC(CSc2nnc(NC3CC3)s2)C1', 'Cc1sc2nc(-c3cccnc3)[nH]c(=O)c2c1C', 'Cc1occc1C(O)c1cnccc1C(F)(F)F', 'CC(C)(C)CC(=O)Nc1ccc(Cl)c(S)c1', 'COC(=O)Nc1c(F)cc(C2CC2)cc1CCl', 'CSC1CCCC1NC(=O)c1csc(N)n1', 'O=C(COc1ccc(Cl)c(F)c1)N1CCCC1', 'CC1(N=C=O)COc2ccc(C(F)(F)F)cc2C1', 'CC(C)NS(=O)(=O)Nc1ccc(C#N)cc1F', 'CCOC(=O)c1cn(C(C)C(=O)O)nc1[N+](=O)[O-]', 'O=C(NCc1cnn2ccccc12)c1ccsc1', 'O=C(CSc1nc2ccccc2[nH]1)n1cccc1', 'N#Cc1cccc(NC(=O)NCc2cccs2)c1', 'CC(=O)/C=C/C(=O)Nc1ccc(C(F)(F)F)cc1', 'CC1(C)CN(C(=O)c2csc(N)n2)CCS1', 'CCN(CC(N)=S)C(=O)c1sc(C)nc1C', 'CSCC(=O)Nc1ccc(F)cc1/C(N)=N/O', 'O=C(NCC(F)F)c1ccc(C#CCO)cc1F', 'O=C(Cc1ccsc1)N1CCC(CCCl)C1', 'COc1cc2ccccc2cc1-c1nnc(N)s1', 'Cc1cccnc1Sc1nc2cc(N)ccc2o1', 'Cc1coc(COc2cccc(C(F)(F)F)c2)n1', 'CNC(=O)Nc1scc(-c2ccccc2)c1C#N', 'O=C(NCc1cccs1)c1nc2ccccc2[nH]1', 'Nc1sc2c(c1-c1nc3ncccc3o1)CCC2', 'O=C(Cc1ccsc1)NC1CCC(Cl)CC1', 'CC(CN)NS(=O)(=O)c1ccc(F)c(C#N)c1', 'CC(Cl)C1(Cc2cccc([N+](=O)[O-])c2F)CC1', 'CCS(=O)CCNCc1cn2ccsc2n1', 'O=C(c1ccc(Cl)c(F)c1)N1CCC[C@H]1CO', 'NCCC#Cc1ccc(C(=O)O)cc1C(F)(F)F', 'CC1CCCN(C(=O)Cc2ccc(Cl)s2)C1', 'COc1nc(-c2ccncc2)nc2c(C)csc12', 'Cc1cscc1C(=O)Nc1nc2ccccc2[nH]1', 'CCOC(=O)CC#Cc1cccc(C(F)(F)F)n1', 'Cc1nc(-c2ccccc2NC(=O)CC#N)cs1', 'Cc1cc(Oc2ncnc3sccc23)ccc1N', 'CS(=O)CCCNCc1cn2ccsc2n1', 'Cc1ccsc1C(=O)Nc1ccc2[nH]ncc2c1', 'CC(N)Cc1cc(F)cc2cc(C=O)oc12.Cl', 'CCc1cc(C#N)c(C(=O)OC)cc1C(F)(F)F', 'Cc1[nH]c(=S)[nH]c(=O)c1-c1c[nH]c2ccccc12', 'OCCN1CCNC1=S.S=c1cc[nH]cc1', 'O=C(O)CC1CSCCN1c1ncc(F)cn1', 'N#CCC(=O)Nc1nc(Cc2ccccc2)cs1', 'NCCSSCCNC(=O)c1cccnc1', 'O=C(O)C1(NCc2ccc(Cl)c(F)c2)CCC1', 'Nc1ccc(SCC2(O)CCCC2)cc1Cl', 'O=C(Cc1ccsc1)N1CCCCC1CCl', 'O=C(CCCCl)N(Cc1ccsc1)C1CC1', 'CS(=O)(=O)CCn1c(N)nc2c(F)cccc21', 'COc1cccnc1-c1cccc2nc(N)sc12', 'C=C(Cl)CNC(=O)CCOc1cccc(F)c1', 'N#CC(C(=O)c1c(F)cccc1F)c1ccccc1', 'CSc1ccc2c(c1)C(=O)Nc1cccnc1N2', 'Cc1nc(-c2noc(N)c2-c2ccccc2)cs1', 'O=C(O)CC1CN(Cc2cc(F)ccc2Cl)C1', 'COc1cc(-c2nc(C)c3ccsc3n2)ccn1', 'COc1nccnc1C(N)C1CSCCS1', 'N#Cc1cc(N)ccc1NC(=O)Cc1cccs1', 'COCCCC(NC(=O)C(F)F)C(=O)CCl', 'Cc1ccc([C@@H](N)C(F)(F)F)cc1C(F)(F)F', 'CCOCCOc1ncc([N+](=O)[O-])cc1[N+](=O)[O-]', 'Cc1cc(Cl)cc(C)c1OCCCC(N)=S', 'Cc1ccc2sc(-n3cc(C(N)=O)cn3)cc2c1', 'O=C(CCl)Nc1ccc(OCC2CC2)cc1F', 'CC(=O)CSc1nnc2ccc3ccccc3n12', 'CC(=O)N1CCc2sc(C)c(CCCl)c2C1', 'CN1CCSCC1C(O)c1ccccc1Cl', 'N#Cc1ccccc1NC(=O)C(N)c1cccs1', 'CCc1ccsc1C(=O)NC1(CCl)CCC1', 'CN1CC(C(=O)O)C(c2c(F)cccc2Cl)C1', 'CC1CN(c2cc(N)c(C(N)=O)s2)CCS1', 'OCC(Nc1cccc(Cl)c1)C1CCSC1', 'Nc1ccc(-c2ccc(-c3csc(N)n3)o2)cc1', 'Cc1cccnc1Cn1cnc2ccsc2c1=O', 'COc1ccc(-c2nc(C(F)(F)F)oc2C)cc1', 'CC(=O)c1cn(C)c2ccc(OC(F)(F)F)cc12', 'Clc1ccc(CSCC2CNCCO2)cc1', 'COCCOc1cc([N+](=O)[O-])cc([N+](=O)[O-])c1N', 'Nc1ccc(Cl)cc1CS(=O)C1CCCC1', 'Cc1cc(C)nc(Sc2cccc(N=C=O)c2)n1', 'Cc1ncc(C(=O)NCCCCC(N)=S)s1', 'COc1cc([N+](=O)[O-])c(NCCO)c([N+](=O)[O-])c1', 'CCNCc1ccc(Cl)cc1SC1COC1', 'CCC(C)NC(=O)CSc1ccc(Cl)cc1', 'Cc1cc(Cl)c2c(c1)SC(CO)C(C)N2C', 'Nc1ccc2c(c1)SC(c1cccnc1)C(=O)N2', 'O=C(NCCCl)[C@H](O)[C@@H](O)[C@H](O)[C@H](O)CO', 'Cc1nc2sccn2c1CNCCS(C)=O', 'Cc1ccnc(Sc2nc3ccc(N)cc3o2)c1', 'O=C(O)CO[Si](c1ccccc1)c1ccccc1', 'O=C(O)c1c(F)ccc([C@H]2C[C@H]2[B-](O)(O)O)c1O', 'CC/C(C)=N/NC(=O)c1sc(=S)n(C)c1C', 'C#CCN(C)c1ccc(C(=O)O)cc1C(F)(F)F', 'Oc1cccc(Cl)c1CNCC1CCSC1', 'O=C(NCC1(CO)CC1)c1ccc(F)c(Cl)c1', 'CNc1sc(C(=O)NC2CC2)c(N)c1SC', 'CCC(C)Sc1nnc(NC(=O)C2CC2)s1', 'O=C(NCc1cn2ccccc2n1)c1cccs1', 'Clc1cccc(OCCSCC2CNC2)c1', 'O=C1CC(c2ccc(C(F)(F)F)cc2)CC(=O)N1', 'Cc1ccccc1-n1cnc2snc(C)c2c1=O', 'NC[C@@H]1OB(O)c2c(OCCO)ccc(Cl)c21', 'O=C(O)C[C@@H]1CCN(c2ccc(Cl)c(F)c2)C1', 'N#Cc1ccccc1NC(=S)NCc1ccco1', 'CNS(=O)(=O)CCNc1ccc(F)cc1C#N', 'C=C(CNc1cccc(Cl)c1F)C(=O)OCC', 'Cl.O=C(c1ccsc1)C1CN2CCC1CC2', 'CC(O)c1csc(-c2ccc3nccnc3c2)n1', 'CO[C@H]1C(=O)N(CCCl)[C@H]1c1ccc(F)cc1', 'Nc1csc(Cc2n[nH]c(=O)c3ccccc23)c1', 'N#Cc1ccc(O)cc1Sc1cc(N)ccc1N', 'N#Cc1ccc(NC(=O)CCc2cscn2)cc1', 'CNCc1c(SCCOC)nc2sccn12', 'O=C(O)C1(F)CCCN(c2cccc(Cl)c2)C1', 'COc1cc2ccc(C(=O)O)cc2cc1N.[Na+].[OH-]', 'O=C1c2ccccc2CC[C@@H]1NC(=O)C(F)(F)F', 'CCOC(=O)/C=C/CNc1ccc(Cl)cc1F', 'NCCC#Cc1ccc(C(=O)O)c(C(F)(F)F)c1', 'CCNC1CC(C)S(=O)c2ccc(Cl)cc21', 'COc1nc2ccccc2cc1C(O)C(F)(F)F', 'CC(c1ccccc1N)(C(F)(F)F)C(F)(F)F', 'NC(=O)C=C1CCOc2cc(C(F)(F)F)ccc21', 'CSCc1csc(C(=O)N2CCNCC2)n1', 'C=C(C)C(=O)ON=C(c1ccccc1)C(F)(F)F', 'N#CC(C(=O)c1ccccc1F)c1cccc(F)c1', 'OC(c1ccsc1)c1cnn(-c2ccccc2)n1', 'CSc1ccc2nn(-c3ccccc3O)nc2c1', 'CCN(CC)C(=O)c1cc(SC)ccc1Cl', 'O=C(O)[C@H]1CCCN1Cc1ccc(Cl)cc1F', 'CC1SCCN(C(=O)c2csc(N)n2)C1C', 'COc1ccc(-c2n[nH]nc2-c2cccs2)cc1', 'CC1(CNC2CCc3sc(Cl)cc32)COC1', 'COC(=O)C1(C(N)c2cc(Cl)ccc2F)CC1', 'NCC(c1ccc(C(F)(F)F)c(F)c1)C(F)F', 'COc1ccc(-n2[nH]nc(C(N)=O)c2=O)cc1.[Na]', 'COC(=O)CC#Cc1ccc(N)cc1C(F)(F)F', 'CNC(=O)c1sc2ncccc2c1-n1cccc1', 'Cc1ccc(-c2cc3nc(N)[nH]c(=O)c3s2)cc1', 'FC(F)(F)COCOc1cnc2ccccc2c1', 'COc1c(C)cc(Cl)c(C)c1CCC(N)=S', 'CN1CCN(NC(=O)c2cc(S)cs2)CC1', 'O=C(c1ccc(O)cc1F)N1CCC(CCl)C1', 'CCCCCOc1cccc(Cl)c1C(N)=S', 'CNC(=S)NC(Cc1ncccc1O)SC', 'Cc1nc(S(C)=O)c(C#N)cc1-c1ccncc1', 'COC(=O)C(O)CNC(=O)c1c[nH]c(=O)[nH]c1=O', 'NC(=O)NC(=O)CCSc1cc(F)ccc1N', 'O[C@]1(C(F)(F)F)C=C(C=Cc2ccccc2)NO1', 'CC(OCCO)N(CC(=O)O)CP(=O)(O)O', 'NC1CCC(S(=O)Cc2ccccc2Cl)C1', 'C=CCN(CC(=O)O)Cc1ccc(Cl)c(F)c1', 'O=C1CC[C@@H](C(F)(F)F)N1C(=O)c1ccccc1', '[H]N=S(=O)(c1cccc(N)c1)N1CCSCC1', 'Cc1cc(C)c2c(c1)N(CC(F)(F)F)C(=O)C2=O', 'O=C1CCC(F)(COc2ncccc2Cl)CC1', 'Cc1nc2c(SCc3ccccc3)ncnc2o1', 'CSc1ncc(-c2ccccc2)n2ccc(=O)n12', 'OCCOc1ccnc2c(C(F)(F)F)cccc12', 'NC(=S)CCCCOCc1ccccc1Cl', 'Cc1nsc(Oc2ccc(N)c3ccccc23)n1', 'CCOOP(=O)(OOCC)C(CC)[N+](=O)[O-]', 'NCC#Cc1ccsc1C(=O)Nc1ccccn1', 'O=C(CCC1CCCNC1)c1sccc1Cl', 'O=C(CCCCCl)N1CCc2sccc2C1', 'Cc1[nH]c2ccc(C(F)(F)F)cc2c1CC(=O)O', 'CCOC(=O)CC#Cc1cccnc1C(F)(F)F', 'Nc1ccc(C(F)(F)F)cc1C#CCCC(=O)O', 'O=C1CC(CO)CN1Cc1ccc(F)cc1Cl', 'Cc1c(C(=O)O)n(C)c2c(C(F)(F)F)cccc12', 'COc1ccc2nc(-c3ccc(N)cn3)sc2c1', 'COc1cccc(-c2nc3cc(N)cnc3s2)c1', 'NCC(c1ccc(F)c(C(F)(F)F)c1)C(F)F', 'NC1(C(=O)Cc2ccc(F)cc2Cl)CCOC1', 'CN(C/C=C/C(=O)O)Cc1ccc(F)c(Cl)c1', 'c1ccc2[nH]c(C3COC3c3nccs3)nc2c1', 'Clc1ccc(C2CNC3CCCC3CO2)s1', 'CC1(C(=O)Cc2ccc(Cl)s2)CCCNC1', 'Nc1ccc(Nc2nc(-c3ccco3)cs2)cc1', 'CC1(C)COC(=O)N[C@H]1c1cccc(Cl)c1F', 'CC(NC1CC1)(C(=O)O)c1ccc(F)cc1Cl', 'CCNC(=O)[C@H](CC)Sc1ccc(Cl)cc1', 'NCC(F)(F)C(F)c1cccc(C(F)(F)F)c1', 'O=C1Nc2cc(F)c(F)cc2C1=Cc1ccccc1', 'CCNCc1ccc(SC2COC2)cc1Cl', 'Cc1ncsc1C(=O)N(CC#N)c1ccccc1', 'O=C(N/C=C1\\\\CCOc2ccccc21)C(F)(F)F', 'Nc1cc(-n2ncc3cncnc32)ncc1[N+](=O)[O-]', 'CNCC#Cc1ccc(C(F)(F)F)cc1C(=O)O', 'Cc1onc(-c2ccc(C(F)(F)F)cc2)c1CO', 'CCCN1C(=O)C(=O)c2cccc(C(F)(F)F)c21', 'Cl.OC1CCN2CC=C(c3cccs3)C1C2', 'CON(C)C(=O)/C(C)=C/c1ccc(F)c(Cl)c1', 'CCC(NC(=O)c1sc(C)nc1C)C(N)=S', 'CCC(CCl)NC(=O)c1ccc(SC)cc1', 'Nc1nc(CC(=O)NC2CCCSC2)cs1', 'CC(OCC(=O)c1ccc(C#N)cc1)C(F)(F)F', 'Nc1ccc2nc(SCc3ccccn3)oc2c1', 'NCc1cccc(Sc2nc3ccccc3o2)n1', 'COc1cccc2c(-n3cn[nH]c3=S)cccc12', 'COC(=O)CCCn1cc([N+](=O)[O-])c(=O)[nH]c1=O', 'C#CCNC(=O)Cc1csc(-c2ccccn2)n1', 'COc1nc2ccccc2cc1[C@@H](O)C(F)(F)F', 'CC(=O)c1cccc(-c2cc(C(=O)[O-])ccc2F)c1', 'COc1cc(C)c2c(ccn2C(=O)C(F)(F)F)c1', 'CCOc1cc(C(C)=O)c(C(F)(F)F)cc1C#N', 'Cc1ccc(C=NS(=O)C(C)(C)C)c(Cl)c1', 'CC(C)NC(=O)CCSc1ccccc1Cl', 'O=Cc1nn(C2C[C@@H](O)[C@@H](CO)O2)c(=O)[nH]c1=O', 'Cc1nc2cc(Oc3cccnc3N)ccc2s1', 'CN1C(=O)[C@@H](C(=O)C(F)(F)F)Cc2ccccc21', 'OCC=Cc1ccc2c(c1)Nc1nccnc1S2', 'CC(C)C(=O)CNC(=O)c1c(F)cccc1Cl', 'CC1OCCC1NC1CCc2sc(Cl)cc21', 'CCC(C)(C)Oc1ccc(C(N)=S)c(Cl)c1', 'O=C(Cc1ccc(Cl)s1)N1CCCCCC1', 'CC(C)C(C#N)NS(=O)(=O)c1cncc(F)c1', 'CC(Cl)C(=O)NC1COc2cc(F)ccc2C1', 'O=C(O)C1CCCC(c2ccc(Cl)cc2F)N1', 'Cc1ccc(-c2nc(-c3ccc(N)cc3)no2)s1', 'C[C@@H](O)c1cc(-c2cccc(C(F)(F)F)c2)no1', 'Cc1ccc(N)c(C(=O)Nc2sccc2C#N)c1', 'OCc1n[nH]c(=S)n1-c1cccc2ccccc12', 'NNC(=O)c1ccc2c(c1)Sc1ccccc1N2', 'CN1c2ccccc2C=C(C(=O)O)C1C(F)(F)F', 'CCOc1ccc2[nH]c(C(F)(F)F)cc(=O)c2c1', 'CSCN(C(=O)CCl)c1c(C)cccc1C', 'Cc1cc(C)n(/N=C/c2cccs2)c(=O)c1C#N', 'O=C(c1cnccn1)N1CCSc2ccccc21', 'CC(C)(CNC(=O)CS)c1ccc(Cl)cc1', 'CCC(=O)Nc1ccc(SC(C)C)c(Cl)c1', 'COC1=CC=C(C=C1)[C@@H]2[C@@H](CC3=C(O2)C=C(C=C3OC)OC)O', 'COc1ccc(COc2cccc(CO)c2C2OCCO2)cc1', 'COc1ccc(NC(=O)C[n+]2cccc(C(N)=O)c2)cc1OC', 'CC1=C(CCC(C)(O)CCC(=O)O)C(=O)c2ccccc2C1=O', 'Cn1c(=O)c2c(ncn2C)n(C)c1=O.NC(=O)c1cccnc1', 'CC(=O)N(CCCC(=O)O)Cc1cnc2c3[nH]cnc3ncn12', 'Cc1ccc2ncc(C(O)Cc3cnc4ccccc4n3)nc2c1', 'C=C(C)C(=O)O/C=C/Cc1ccc(OC(=O)C(=C)C)c(OC)c1', 'CN1C(=O)C[C@H](C(=O)Nc2cnn(C)c2)[C@@H]1c1ccc(F)cc1', 'COC(=O)c1cc(=O)c2cc3c(c(C)c2o1)OC(C)(C)CC3C', 'CNCc1cc(S(=O)(=O)NC2CCC(C)(C)C2)c(C)s1', 'NNc1ncc(S(=O)(=O)N2CCCN(CCO)CC2)cn1', 'Cc1cccnc1NC(=O)CC(NC(N)=O)c1ccccc1F', 'COC1=C(OC)C(O)(OC)CC(/C=C/C(=O)c2ccccc2)=C1', 'COc1ccc(-c2cnc3cnc(-c4cccc(N)c4)cn23)cc1', 'CC1=C(C(=O)c2ccccc2)[C@H](c2ccccc2)n2ncnc2N1', 'Cc1ccccc1Nc1c(-c2ccc(O)cc2)nc2cnccn12', 'CC(C)C(CNS(=O)(=O)c1cccs1)N1CCCCC1', 'O=C(NCC#Cc1ccccc1)c1cn(Cc2ccccc2)nn1', 'COc1ccc(C(C)=O)cc1-c1ccc(OC)c(OC)c1OC', 'CCNCc1ccc(S(=O)(=O)N2C(C)CCC2CC)s1', 'Cn1nc(C(=O)Nc2cnc(N3CCOCC3)nc2)ccc1=O', 'CCOC(=O)C(O)C(Oc1ccccc1OC)c1ccccc1', 'COC(=O)c1ccc(OCCOc2ccccc2C)c(OC)c1', 'COC(=O)[C@]1(O)C=C(O[Si](C)(C)C(C)(C)C)C(=O)[C@H](O)C1', 'CCCCC12OC(C(C(=O)OC)=C1C(=O)OC)c1ccccc12', 'CSc1ccc(C(c2ccc(SC)cc2)C(C)(C)C)cc1', 'Cc1cc(NC(=O)N[C@H]2CCCn3ncnc32)ccc1[N+](=O)[O-]', 'CCOCc1nc(Cl)cc(NC(C)C(=O)NCCOC)n1', 'Cc1ccsc1CN(C)S(=O)(=O)N1CC(C)CC(C)C1', 'Cc1csc(CN)c1S(=O)(=O)NC1CCC(C)C(C)C1', 'CNCc1sccc1S(=O)(=O)N1CCC(C(C)C)CC1', 'CN(C(=O)Cn1nnc2ccccc21)c1cccc2ccccc12', 'O=C(OCCOC1CCCCO1)c1cc2ccccc2cc1O', 'CN1CC(C(=O)N(C)Cc2nc(-c3cccnc3)no2)NC1=O', 'C=Cc1ccc2nc(N)nc(C(=O)N3Cc4ccccc4C3)c2c1', 'CSCCCCCCNS(=O)(=O)c1ccc(N)c(C)c1', 'CNCc1cc(S(=O)(=O)NC2CCCC2(C)C)c(C)s1', 'CCOc1cccc(-n2nn[nH]c2=O)c1COc1ccn(C)n1', 'CNC(=O)c1ccc(N2CC(O)CC2c2cccc(F)c2)nn1', 'CC1C(=O)N(C)CCN1C(=O)c1cn[nH]c1-c1cccc(F)c1', 'CCNC(C)(CCCSc1nc(C)cs1)C(=O)OCC', 'Cc1nc2c(c(=O)[nH]1)CN(CCC(=O)Nc1cccc(F)c1)C2', 'CCNC(C)C1CCN(S(=O)(=O)c2ccc(C)s2)CC1', 'COC(=O)c1ccc(OC(=O)C23CCC(CC2=O)C3(C)C)cc1', 'C[Si](C)(C)C1=C([Si](C)(C)C)/C(=C/c2ccccc2)OC1=O', 'COc1cccc(C(CCOc2ccccc2OC)C(=O)O)c1', 'Cc1nc(NC(=O)C2CC23c2ccccc2-c2ccccc23)n[nH]1', 'Fc1ccc(B2N=C(c3ccccn3)NN2c2ccccc2)cc1', 'O=C(NN=Cc1ccccc1)c1[nH]nc2c1CCc1ccccc1-2', 'COc1cc2c(cc1CCCc1ccc(O)c(C)c1O)OCO2', 'O=C(NCc1cccc2ccccc12)Nc1ccc2[nH]ncc2c1', 'Cc1ccc(-c2c(OCc3nn[nH]n3)ccc3ccccc23)cc1', 'Cc1ccccc1Oc1nc(Nc2ccn[nH]2)cc2ccccc12', 'OC1Oc2ccccc2OCCCOCCOc2ccccc21', 'CC[C@@H](Oc1ccc2c3c(c(=O)oc2c1C)CCC3)C(=O)OC', '[H]/N=C1\\\\[C@@H](C#N)C2=CCCC[C@@H]2[C@H](c2ccc(O)cc2)C1(C#N)C#N', 'CC(C)CCN(C)S(=O)(=O)CCSc1ccc(N)cc1', 'Cc1cc(NCc2nc3ccccc3c(=O)[nH]2)c2ccccc2n1', 'Cn1ccnc1CCN1C(=O)CN(Cc2ccc(F)cc2)C1=O', 'CCCNCc1ccc(S(=O)(=O)NCC2CCCC2)s1', 'N#CC(C#N)=CNc1ccc(C(=O)NCCc2ccccc2)cc1', 'Cc1cc(C(=O)N2CCCC(C(=O)NCCN)C2)on1.Cl', 'NC(=O)[C@@H]1CCC[C@@H]1NC(=O)c1cn[nH]c1-c1cccc(F)c1', 'C=CCON=C(c1ccc(OCC=C)cc1)C(F)n1cncn1', 'CCC(Cc1ccccc1)=NNC(=O)Cn1cnc([N+](=O)[O-])n1', 'Nc1ccc(Oc2ccnc(NC(=O)N3CCCC3)c2)cc1F', 'CCC(C)C(C)NS(=O)(=O)CCSc1ccccc1N', 'Cc1cccc(-c2ccc(OC3OCC(O)C(O)C3O)cc2)c1', 'C1CCC/N=C(/SS/C2=N/CCCCCO2)OCCC1', 'CC(C)NCc1sccc1S(=O)(=O)N1CCC(C)(C)C1', 'CCCNCc1csc(S(=O)(=O)NCC(C)C2CC2)c1', 'CCCNCc1scc(C)c1S(=O)(=O)N(CC)C1CC1', 'CC(C)CNC(=O)[C@@H](C)[S@](=O)Cc1csc(C(C)C)n1', 'O=C(c1ccc(=O)n(-c2ccc(F)cc2)n1)N1CCCNCC1', 'CC(C)[C@H](NC(=O)[C@H](C)n1cnc2ccccc2c1=O)C(=O)[O-]', 'CC1CC=CCCC=CC(=O)Cc2cc(O)cc(O)c2C(=O)O1', 'COc1cc(C(=O)OCc2ccc(C)cc2)cc(OC)c1OC', 'CC1OC(=O)C2=CC(OCc3ccccc3)C(C=CCO)OC21', 'Cn1cc(C(=O)NN=Cc2c[nH]c3ccccc23)c2ccccc21', 'COCc1cccc(O)c1C(C=O)c1c(O)cccc1COC', 'CO[C@H](c1ccccc1F)[C@H](C)Nc1ncnc2onc(C)c12', 'Cc1ccc2cnc(N)c(C#Cc3ccc(/C(N)=N/O)cc3)c2c1', 'COC(=O)C(NC(=O)c1n[nH]c2c1CNCC2)C(C)C.Cl', 'CNCc1cc(S(=O)(=O)NCC2CCCCC2)c(C)s1', 'c1cncc(C2CCCN2c2ncnc3c2oc2ccccc23)c1', 'C=CCN(CC)S(=O)(=O)c1c(C)csc1CNC(C)C', 'CCO[Si](C)(OCC)C1CC2CC1C(C(=O)O)C2C(=O)O', 'C[C@]12CC[C@@H]3C4=C(CC[C@H]3[C@@H]1CCC2=O)C(=O)C(O)=C(O)C4=O', 'O=C(N[C@@H]1CCCCNC1=O)c1cc(-c2ccc(F)cc2)n[nH]1', 'Cc1ccc(C(Cc2ccccc2)C(=S)c2ccccc2)cc1', 'COc1ccc(C(=O)COC(=O)C2CC3C=CC2C3)c(OC)c1', 'Cc1ccccc1-c1nc2c(o1)CN(c1ncccc1C#N)CC2', 'CCOC(=O)C1(C)C=C(c2ccc(C)cc2)C=C(C(=O)OC)O1', 'COc1c2c(c(C=O)c3c(COC(C)=O)coc13)[C@@H](C)CCC2', 'CCOC(=O)C1CC(=O)C(=C(O)c2ccc(CC)cc2)C(=O)C1', 'O=NC(SC1CCCCC1)C(N=O)SC1CCCCC1', 'COC(=O)C(CC(C)C)Nc1nc(Cl)nc(OC(C)C)n1', 'O=C1NCCN(C(=O)CCn2cccn2)C1c1cccc(F)c1', 'O=C1Cc2cc(-c3cnc(CCc4ccncc4)nc3)ccc2N1', 'CCN1C[C@H](C(=O)Nc2ccc(-n3ccnc3)c(F)c2)CC1=O', 'CC(C)(C)Cc1ccc2sc3cc(C(C)(C)C)sc3c2c1', 'COC1=CC(OC)Cc2c(OC)c(OC)c3cc(O)ccc3c21', 'Nc1ncc2c(-c3ccc(OCc4ccccc4)cc3)c[nH]c2n1', 'Cl.Cn1c(C(=O)NC2CCCCC2CN)ccc1[N+](=O)[O-]', '[C-]#[N+]Cc1ccc(-c2cccc3nc(NC(=O)C4CC4)cn23)cc1', 'CCCNC(c1cncs1)C1CCCC(S(C)(=O)=O)C1', 'CCC(CC)C(=O)c1ccc(SCc2ccccc2F)cc1', 'CCC(N)C(c1ccc(C)s1)N1CCS(=O)(=O)CC1C', 'O[C@@]1(c2ccccc2)C=C(Nn2cnnc2)C=C1c1ccccc1', 'CCC(NS(=O)(=O)CCSc1ccc(N)cc1)C(C)C', 'N#CC1=C(N)C(C#N)(C#N)[C@@H](c2ccccc2O)[C@@H]2CCCC=C12', 'O=C(NC1CN2CCC1CC2)c1ncc(-c2ncccc2F)o1', 'Cc1nn(-c2ccccc2)c2c1NC(=O)CC(c1ccccc1)=N2', 'O=C(N/N=C/c1cccc2nccnc12)[C@H]1C[C@@H]1c1ccccc1', 'N#Cc1cccc(-c2cccc(C3(C4CC4)N=C(N)NC3=O)c2)c1', 'C=CC(=C)OC(=O)c1ccc(OCCCCOC(=O)C=C)cc1', 'O=C(c1ccccc1)c1cnc(NC2(c3cccnc3)CC2)nc1', 'O=c1c2ncn(Cc3ccccc3)c2ncn1Cc1ccccc1', 'CC1(C)OB(c2ccc3c(C(=O)O)cccc3c2F)OC1(C)C', 'C/N=C(\\\\N)c1ccc2[nH]c(O)c(-c3ccc4ccccc4n3)c2c1', 'CNCc1cccc(S(=O)(=O)N(C)C(C)CSC)c1C', 'Cc1cnc(Cn2ccnc2-c2cccc(-c3ccco3)c2)cn1', 'c1ccc(Oc2cccc(CNc3cnc4nc[nH]c4c3)c2)cc1', 'CCOC(=O)c1ccc(OCCOc2ccccc2OC)cc1', 'COc1cc(OC)c(OC)cc1CCC(=O)c1cccc(O)c1', 'CN(C)c1ccccc1C(=O)N/N=C/c1cnc([N+](=O)[O-])n1C', 'CCOC(=O)C(=O)CC1CC1C1=COC(Cc2ccccc2)O1', 'Cc1ccc(-c2cc(N(C)c3ncnc4ccccc34)on2)cc1', 'O=C(O)C=C[N+](c1ccccc1)(c1ccccc1)c1ccccc1', 'COc1ccc(/N=N/c2nc3ccccc3n2C)c2ccccc12', 'CC(=O)c1ccc(-n2cnnc2Cc2c[nH]c3ccccc23)cc1', 'CC1(C)CC(=O)C(C(CC(=O)c2ccccc2)C(=O)O)C(=O)C1', 'Cc1cc(OCc2cccnc2)cc(-c2nc3ncccc3[nH]2)c1', 'NC(=O)C1(NC(=O)c2cc(-c3ccccc3F)n[nH]2)CCCC1', 'CC(C)(O)CNc1cc(Oc2cccc(F)c2)nn2ccnc12', 'CC(=O)Nc1ccc(/C=C(\\\\C#N)c2nc3ccccc3n2C)cc1', 'CC(C)COC(=O)CC(=O)CCc1cccc(C(F)(F)F)c1', 'Cc1ccnc(NC(=O)C[C@@H](NC(N)=O)c2ccccc2F)c1', 'Cc1nc(-c2cccc(C(N)=O)c2)n2c1c(C)nc1ccccc12', 'c1ccc(C2C/C(=N/Nc3ncccn3)c3ccccc3O2)cc1', 'CCn1c2ccncc2c2cc(NC(=O)c3cccnc3)ccc21', 'OCCn1ccc(-c2cccc(-c3cnc4ccccc4n3)c2)n1', 'CCc1ccc([C@@H]2[C@@H](C#N)C(=O)Nc3nc4ccccc4n32)cc1', 'CC(=O)c1ccc(C#N)c(NCc2ccc(-n3ccnc3)cc2)c1', 'CSCCCCCNS(=O)(=O)c1cc(C)c(C)cc1N', 'COc1cccc(CCC(=O)c2c(O)cc(OC)cc2OC)c1', 'COC(=O)C(=Cc1ccc(OC)cc1)C(C(=O)O)=C1CCCC1', 'N#Cc1nccnc1NCCOc1ccccc1-c1ccccc1', 'O=C(Nc1ccccc1)c1cnc(N2CCc3ccccc32)nc1', 'CCc1ccc(CN)cc1S(=O)(=O)NC(CC)CSC', 'CC1CCC(CCNS(=O)(=O)c2cc(CN)cs2)CC1', 'c1ccc(CCOc2ccc(-c3cn4ccnnc4n3)cc2)cc1', 'C=CCc1c(C(=O)OC)c(OC)c2c(OC)cccc2c1OC', 'COC(=O)C1=C[C@@H]2C(=O)C(OC)(OC)[C@H]1C[C@@H]2c1ccccc1', 'CC1=CC(O/C=C2\\\\C(=O)OC3C4=C(CCCC4C)CC23)OC1=O', 'CNCc1cc(S(=O)(=O)N2CCCCCCC2)c(C)s1', 'COc1ccc([C@@H]2Oc3ccc(C)cc3[C@H](O)[C@@H]2O)cc1OC', 'CCNCc1ccc(S(=O)(=O)NCCC2CCCC2)s1', 'CCCNCc1cc(S(=O)(=O)NCC2(C)CCC2)cs1', 'Cc1cc2c3c([n+](C)ccc3c1)-c1c(c(C)c3ccoc3c1C)O2', 'NC(=O)NC(CC(=O)NCc1ccccn1)c1ccccc1F', 'O=C(NCc1nnc(C2CC2)n1C1CC1)c1c(O)cccc1F', 'CCC1CCCN1S(=O)(=O)c1cc(CNC(C)C)cs1', 'Cc1sc(CN)cc1S(=O)(=O)N1CCC(C(C)(C)C)C1', 'O=c1ccc(-c2ccccn2)nn1CCn1ccc2ccccc21', 'O=C1CC2(CCN(C3CSCCSC3)CC2)OCCN1', 'CC(C)NCc1cc(S(=O)(=O)NCC(C)C2CC2)cs1', 'Cc1ccc2sc3cc(-c4cc(C)c(C)c(C)c4)ccc3c2c1', 'Cn1cncc1[C@H]1C[C@H](Nc2nc3cc(F)ccc3o2)CCO1', 'N#Cc1cc(F)ccc1NC(=O)N1CCCC1C(=O)NC1CC1', 'CC(C)CS(=O)(=O)NCC(c1ccsc1)N1CCCC1', 'O=S(=O)(CCNCC1CC2C=CC1C2)N1CCSCC1', 'COc1cccc(C(Cc2cc(OC)ccc2OC)C(=O)O)c1', 'CNCC(=O)NCCCNc1ccc(C)cc1[N+](=O)[O-].Cl', 'CCNCc1cc(S(=O)(=O)NCC2(C)CCCC2)cs1', 'CCc1ccc(S(=O)(=O)N(C)C(C)CSC)cc1CN', 'COC(=O)C(C)Oc1cc(C)cc2oc(=O)c3c(c12)CCCC3', 'O=c1[nH]c2cc(-n3nnc4ccccc43)ccc2c2c1CCCC2', 'COCCOC(=O)C1=C(C)Nc2nnnn2C1c1cccnc1', 'COc1ccnc(N2CCN(C(=O)c3cccc(F)c3)CC2)n1', 'Cc1cc(C)c(S(=O)(=O)N(C)CCSCCN)c(C)c1', 'Cc1ccc(-c2nnc(CNc3cccc4cccnc34)o2)cc1', 'COc1ccc(C(=O)O)c(OCCOc2ccc(C)cc2C)c1', 'Cc1cccc(C)c1SCCCSc1c(C)cccc1C', 'CC1CCC(CNS(=O)(=O)c2ccc(CCN)s2)CC1', 'CCC1CCC(C(=O)Oc2ccc(OC(F)(F)F)cc2)CC1', 'C=CCOC(C)C(=O)OCc1cc(=O)oc2cc(CC)ccc12', 'CC(=O)O[C@@H](CC=C(C)C)c1coc(-c2cc(O)ccc2O)c1', 'Nc1ccc(Cn2c(=O)n(-c3ccccc3)c3ncccc32)cc1', 'N#CCC(=O)N/N=C\\\\c1cn(Cc2ccccc2)c2ccccc12', 'CC(Oc1ccc(O)cc1)[n+]1c2ccccc2cc2ccccc21', 'Cc1ccc(Cn2cc(-c3ccc4cccnc4c3O)nn2)cc1', 'CCc1nc2c(cnn2-c2ccc(F)cc2)c(=O)n1CCOC', 'CCN(CC)C(=O)CCNc1cnn(CCO)c(=O)c1Cl', 'COc1cc(/C=C\\\\c2ccc(O)c(CO)c2)cc(CO)c1OC', 'CC(C)c1ccc(Sc2cc(C(C)(C)C)ccc2S)cc1', 'N#Cc1c(F)cccc1N1CCN(C(=O)C2CNC(=O)C2)CC1', '[B][C@H]1C[C@@H](OC(=O)SC)[C@@H](CO[Si](C)(C)C(C)(C)C)O1', 'CCOC(=O)Cc1csc(NCCCCCCSC)n1', 'C=CCN(C(C)(C)C)S(=O)(=O)c1csc(CNCC)c1', 'CC(=O)c1c(C)[nH]c(-c2nc3ccncc3[nH]2)c1-c1ccccc1', 'O=C(Nc1cccnc1)c1cccc(N2CCc3ccccc32)n1', 'COC(=O)c1cc(OCc2ccccc2)cc(O[C@@H](C)CO)c1', 'Nc1ncnc2c1c(-c1ccccc1)cn2-c1ccc(CO)cc1', 'CCC(CC)(CNS(=O)(=O)Cc1ccc(N)cc1)SC', 'Cn1ccc(N2CCCC(O/N=C/c3cccc(F)c3)C2=O)n1', 'CC(C)(C)SCCSC(c1ccccc1)c1ccccc1', 'COc1cccc(/C=C(\\\\C#N)c2nnc(-c3ccccc3)n2C)c1', 'CNC1(c2nc(C(C)(C)C)cs2)CCCC1S(C)(=O)=O', 'Cc1cnc(NC(=O)[C@H]2CC(=O)N(c3ccc(F)c(C)c3)C2)[nH]1', 'CC(=O)Nc1ccn([C@H]2CCN(C(=O)c3ccccc3F)C2)n1', 'CN(Cc1nc2ccccc2[nH]1)C(=O)/C=C\\\\c1ccccc1C#N', 'Nc1ccc(Oc2ccc3nc(-c4cccc(N)c4)[nH]c3c2)cc1', 'COc1ccc(CC(C)[C@]23CCC(=O)C=C2OCO3)cc1C=O', 'CCNc1cc(C)c(S(=O)(=O)NC(C)CSC)c(C)c1', 'O=C(Cc1ccc(OCCO)cc1)c1ccc(OCCO)cc1', 'Cc1cc(NC(=O)[C@@]2(C)CC(c3cccc(F)c3)=NO2)n(C)n1', 'Cc1ccc(C)n1-c1cn[nH]c1C(=O)O.Nc1ccc(F)cc1', 'CCCN(CC1CC1)S(=O)(=O)c1ccsc1CNCC', 'Cc1ccc(C(=O)N[C@H]2CCN(c3cnn(C)c3)C2=O)cc1F', 'CNCc1cc(S(=O)(=O)NC(C)CSC)c(C)cc1C', 'COCCOCCOCCOCCOP(=O)(OC)OC', 'COc1ccc(COc2cc(O)cc(CCOC(C)=O)c2)cc1', 'C=CCc1c(C(=O)OCC)cc2c(OC)cc(OC)cc2c1O', 'O=C(Nc1ccc(O)cn1)N1CCN(c2ccc(F)cc2)CC1', 'Cc1ccc(-c2cc(-c3nc(-c4ccccc4)no3)[nH]n2)cc1C', 'COc1cccc(Cc2nccc(-c3c[nH]c4ccncc34)n2)c1', 'Cc1ccc2c(c1)nc(-c1ccc(Oc3cnccn3)cc1)n2C', '[H]/N=C1\\\\Oc2cc(N(C)C)ccc2C(c2cccc(C#N)c2)C1C#N', 'CC(C)n1cc(NC(=O)C2CC(=O)Nc3cc(F)ccc32)cn1', 'COCC(Nc1ccn2nc(C(=O)O)cc2n1)c1cnn(C)c1', 'Oc1ccc(OCOc2ccc(OC3CCCCO3)cc2)cc1', 'Cc1ccc([C@@H]2C[C@H](c3ccccc3)Sc3ccccc32)cc1', 'Cc1cc(N(C)Cc2nnc3n2CCNC3=O)ccc1[N+](=O)[O-]', 'O=C(O)C(COc1ccccc1C(F)(F)F)C1CCCCC1', 'COc1ccc2ccccc2c1/C=N\\\\Nc1nc2ccccc2[nH]1', 'CN1CCN(CC(=O)OCc2ccc(C#N)cc2C(=O)[O-])CC1', 'O=C1NCCc2[nH]c(-c3ccnc(/C=C\\\\c4cccnc4)c3)cc21', 'C1=NC(OCc2ccc3ccccc3n2)NC=C1c1ccccn1', 'Nc1ncnc2[nH]cc(-c3cccc(OCc4ccccc4)c3)c12', 'COC(=O)[C@H]1[C@@H]2CC[C@@H](C2)[C@@H]1C(=O)OCC(=O)c1ccccc1', 'Cc1ccc(CN(CCCS(=O)(=O)N(C)C)C2CC2)s1', 'Cc1cc(Cc2nc3ccccc3[nH]c2=O)n(-c2ccccc2)n1', 'O=C(OC1C2CCC(C2)C1O)C1(C(F)(F)F)CC2C=CC1C2', 'C=CCN(CCC)S(=O)(=O)c1c(C)csc1CNCC', 'Cc1ccn2c(/N=N/c3cccc4c(O)cccc34)c(C)nc2c1', 'Cc1ccc(C)c2cc(-c3cccccc(S)ccc3)ccc12', 'CC(=O)CCC(=O)CCC(=O)CCC(=O)c1ccc(C=O)cc1', 'CNCCc1ccc(S(=O)(=O)N2CC(C)CCC2C)s1', 'CC(C)(C)n1cc(C#N)c2c3c(=O)[nH]c4ccccc4c3cnc21', 'Cn1nnc(-c2ccc(NC(=O)C(=O)N3CCOCC3)cc2)n1', 'CC(N)c1ccc(-c2cccc(Oc3ccnc(C#N)n3)c2)cc1', 'CCNC(=O)c1c2c(-c3ccccc3)ncnc2n2ccccc12', 'CC(C)(C)OC(=O)Cn1c2cccc(F)c2c2c(N)ncnc21', 'Cc1cccc(NC(=O)c2ccc(NC=C(C#N)C#N)cc2)c1C', 'C1CCN(CC1)C(=O)CCCCCC/C=C/C2=CC3=C(C=C2)OCO3', 'CC(C)(C)OC(=O)N[C@@H]1C[C@H](CO[Si](C)(C)C(C)(C)C)[C@H]2O[C@H]21', 'CN1CCN(c2cc(-c3nc(C4CNCCN4C)no3)ccn2)CC1', 'CC(C)=Cc1cccc2c1CO[C@@]1(C)CN(C(=O)OC(C)(C)C)C[C@@H]21', 'O=C(O)CCCC=CC[C@@H]1[C@@H](CNCc2ccccc2)[C@@H]2CC[C@H]1O2', 'CC(C)(C)[Si](C)(C)OCC[C@@H](NC(=O)C1CCCCC1)C(=O)O', 'COC(=O)CCC1=CCN(CCCc2ccc(C(C)(C)C)cc2)C1=O', 'COC(=O)c1c(C(C)C)nc2c(c1C1=CCOCC1)CCC(C)(C)C2', 'O=C1C[C@@H]2CC[C@H](CN1)[NH+]2CC(=O)N1CCN(c2ccccc2)CC1', 'COc1ccc2c(c1)C13CC[C@@H](O)C[C@@]1(O)[C@@H](C2)N(CC1CC1)CC3', 'CN1CCN(CC2CCN(c3ncnc4c(F)cccc34)CC2)CC1', 'CCCCCCC(=O)c1cn(CCCC(=O)OCC)c2ccccc12', 'COCC#Cc1ccc(C)c(N2CCC(OC3CC(OC)C3)CC2)c1', 'CNC(=O)OC1CCC2C3C(C)Cc4cc(O)ccc4C3CCC12C', 'CC(=O)N1[C@@H](Cn2cncn2)C[C@H]2CN(Cc3cnn(C)c3)CC[C@H]21', 'CO[C@@H]1C[C@@H](c2nc(C3CC3)n[nH]2)N(Cc2nnc(C)n2C2CC2)C1', 'CCC(Nc1nc(N)nc(C(C)(C)F)n1)C1CCC1c1ccccc1', 'CCOc1ccc(C(CN)Cc2cccc(OCC)c2OC)c(C)c1', 'Cn1ccnc1CN1CCN(c2cc([C@@H]3CCOC3)nc(N)n2)CC1', 'C/N=C(\\\\NCc1nc(-c2ccco2)n[nH]1)NC1CCN(C2CC2)CC1', 'CC(CC1CCCC1)C(=O)N1CCC(C(=O)O)(c2ccccc2)CC1', 'CC(=O)[C@H]1C[C@@H]1c1ccc2c(c1)C(C)(C)CCN2C(=O)OC(C)(C)C', 'C/N=C(\\\\C=C/CNC(=O)c1ncc(C#N)[nH]1)C(C)(C)N1CCNCC1', 'CCc1cc(N2CCC[C@H](NC(=O)Nc3cn(C)nc3C)C2)ncn1', 'CC[C@@H](C)NC(=O)CN1CCN(c2nnnn2-c2ccccc2)CC1', 'CCC(C)Nc1nc(C)cc(N2CCN(c3ccccc3F)CC2)n1', 'CNC(=O)c1nc(C)c(C)c(N2CC[C@@H](NCc3ccn(C)n3)C2)n1', 'COc1ccccc1OCC(=O)N[C@@H](C)C12CC3CC(CC(C3)C1)C2', 'CCCC[C@@](C)(OC)C(=O)Nc1ccc(OCCC)c2ccccc12', 'CCCc1ccc(OCCOc2ccc(CCN)cc2OCC)cc1', 'CC(C)(C)OC(=O)C[Si]1(CNC(=O)OC(C)(C)C)CCCCC1', 'C/N=C(\\\\NCCN1CCOCC1)NCc1ccnc(-n2ccnc2)c1', 'CC(=O)c1ccc(OC[C@H](O)CNC23CC4CC(CC(C4)C2)C3)cc1', 'CNCc1ccc(OCCOc2ccc(C(C)C)c(C)c2)c(OC)c1', 'CC(C)CN1CCC(CNc2nncc(-c3ccccc3F)n2)CC1', 'COc1ccc(N(N)c2nc(NC3CCN(C)CC3)ncc2N)cc1', 'Cc1c(NC(=O)C[NH+]2CCC[C@H](C)C2)c(=O)n(-c2ccccc2)n1C', 'COc1cc(NC2CCN(Cc3nnc4n3CCCC4)CC2)ncn1', 'Cn1nc2c(c1C(=O)N1CCN(CCn3cncn3)CC1)CCCC2', 'COC(=O)C(C)CN(C(=O)/C=C/c1ccccc1)C1CCCCCC1', 'CCN(CC)c1ccc(C=Cc2cccc[n+]2Cc2ccccc2)cc1', 'COCC#CCC1CCCC(=O)N1c1cc(C)c(C)c(C(C)(C)O)c1', 'C=CCC(CCCCCC)C(=O)N1C(=O)OCC1Cc1ccccc1', 'CN1CCN(c2ccc3nnc(CCC(=O)N4CCCC4)n3n2)CC1', 'CN1CCCCC1CCOc1ccc2occ(C(C)(C)C)c(=O)c2c1', 'CCCN(CCOc1c(C)cccc1C)CCc1ccc(O)c(O)c1', 'CC(C)NC(=O)NC1CCCN(c2ccc3nnc(C4CC4)n3n2)C1', 'CC(C)(C(=O)N1CCC[C@H](Cc2cnc(N)cn2)CC1)n1cncn1', 'CCC(=O)N[C@@H]1C(C)(C)[C@@H]2C[C@@H]3[C@@H](c4ccccc4O)OCCC31C2', 'CCC(=O)c1ccc(OCC(=O)NC2CC3CCC2(C)C3(C)C)cc1', '[2H]C[C@@H]1CN(Cc2ccccc2)c2ccccc2[C@H]1NCc1ccccc1', 'Cc1nc(CN2CCN(c3cc(N4CCCCC4)ncn3)CC2)no1', 'CNCNC(=O)N1CCCC12CCCN(c1ncnc3[nH]ccc13)C2', 'CC[C@H](N1C(=O)[C@@H]2[C@@H](C1=O)[C@H]1CC[C@H]2O1)C12CC3CC(CC(C3)C1)C2', 'CC(=O)N[C@@H]1C(=O)C[C@@H]2[C@H]3CCC4=CC(=O)CC[C@]4(C)[C@@H]3CC[C@]12C', 'CCCCOc1ccc2c(c1)C[C@@H](C)C(CN1CC(C)(C(=O)O)C1)=C2', 'CCOc1cc(CCN)ccc1OCCOc1ccccc1C(C)C', 'Cc1cc(N2CCC(NC(=O)NCc3nccn3C)CC2)nc(C)n1', 'C[C@]12CC[C@H]3[C@@H](C(=O)C=C4NC(=O)CC[C@@]43C)[C@@H]1CC[C@@H]2OC1CC1', 'COc1cccc(C[NH+](C)CC(=O)Nc2ccnn2C2CCCC2)c1', 'COc1ccc(C(=O)N2CCC[C@@H]2[C@@H]2CCCC[C@@H]2O)cc1C1CC1', 'CCN/C(=N\\\\CCc1ccn(-c2ccc(F)cc2)n1)NC1CCCC1', 'COc1cccc(CN(C)C(=O)C23CC4CC(CC(C4)C2)C3)c1OC', 'CC1(O)CC(=O)CC2CC[C@@H]3[C@@H](CC[C@]4(C)C(=O)CC(C#N)[C@@H]34)[C@]21C', 'CC(C)CNCc1ccc(OCC(O)COCc2ccccc2)cc1', 'CC(C)(C)c1ccc(C(=O)NCC(=O)OCC23CCC(CC2)C3)cc1', 'CCCCC/C=C\\\\C/C=C\\\\C=C\\\\C=C\\\\c1cc(CCC(=O)OC)no1', 'C=C[C@@H]([C@H](NC(=O)OC(C)(C)C)C(=O)OC)[Si](C)(C)C(C)(C)C', 'COc1cccc2c1C1(CCN(C[C@H]3C[C@@H]4CC[C@H]3O4)CC1)OCC2', 'CCCCN(CCCC)S(=O)(=O)C[C@]12CC[C@H](CC1=O)C2(C)C', 'C/N=C(/NCc1nnc2ccccn12)N1CCC(N2CCOCC2)C1', 'CN(Cc1ncccn1)C1CCN(C(=O)C(C)(C)n2cc(N)cn2)C1', 'CN1CC[C@]23c4c5ccc(OC(C)(C)C)c4O[C@H]2[C@@H](O)CC[C@H]3[C@H]1C5', 'C[C@H](C(=O)NC1CCCC1)N1CCN(c2ccc3nncn3n2)CC1', 'O=C(NCc1nnc2n1CCCCC2)N1CCCCC1c1ncc[nH]1', 'CCOC(C)(CC)C(=O)Nc1ccc(OC(C)CC)c2ccccc12', 'COc1ccc(CNCc2cccc(COC(C)(C)C)c2)c(OC)c1', 'CCCC/C=C/C(O)(C(=O)OC1CN2CCC1CC2)c1ccccc1', 'CCOC1CC(O)C12CCN(C(=O)C1(Cc3ccccc3)CC1)CC2', 'CCOC(=O)c1c(C)nc2n(CC[NH+](CC)CC)c3ccccc3n12', 'CC(NC(=O)COC(=O)C1(Cc2ccccc2)CCCCC1)C1CC1', 'CCCCC1CCN(c2ccc(OCCCC(F)(F)F)cc2)CC1', 'Cc1ccc(=O)n(CCN2CCN(c3ccnc(N(C)C)n3)CC2)n1', 'O=C(O)C1CCCC(C(=O)N2CCCC2CCCc2ccccc2)C1', 'CC1=CN(C(=O)OC(C)(C)C)CCC1OCOCC[Si](C)(C)C', 'CCCOc1ccc(C(CN)Cc2ccc(O)c(OCC)c2)cc1C', 'Cc1cnccc1NCCNC(=O)c1cn(CC2CCCNC2)nn1', 'Cc1cnn(CC(C)NCC(=O)N2CCN(c3ncccn3)CC2)c1', 'COc1ccc(C(=O)NC[C@@H](C)OC23CC4CC(CC(C4)C2)C3)cc1', 'CCOc1c(/C(C)=C/C(=O)NCC(C)C)cc2c(C)c(C)oc2c1C', 'CCCc1nc(N(C)Cc2nc(CC(C)C)no2)c2cnn(C)c2n1', 'CCC(C)(C)c1ccc(OCCNc2cc(OC)ccc2OC)cc1', 'CCc1ccc([C@H]([NH2+]CC(=O)NCc2ccccc2F)C(C)C)cc1', 'Cc1nc(N2CCN(C(=O)[C@H]3CC[C@@H](N)C3)CC2)c2cnn(C)c2n1', 'CCOc1cc(CNCCCOC)ccc1OCc1cccc(C)c1', 'CCn1ncnc1[C@@H](NC(=O)c1cc(CC(C)C)nc(N)n1)C1CC1', 'CC(NC1CCC2C3CCc4cc(O)ccc4C3CC[C@]12C)C(=O)O', 'CN(C)c1cc(NC2CCN(Cc3nccn(C)c3=O)CC2)ncn1', 'CC(=O)c1ccc(C2CC3(CCN(C(=O)OC(C)(C)C)CC3)C2)cc1', 'COC1(CNC(=O)COc2cccc(C)c2)C2CC3CC(C2)CC1C3', 'CCCCCCCCNCc1ccc(-c2ccc(C(=O)OC)cc2)o1', 'CC12CCCCC1(C)CN(C(=O)C[C@H](Cc1ccccc1)C(=O)O)C2', 'COCCOc1ccc(NCc2ccccc2OCCC(C)C)cc1', 'COc1ccc([C@@H](N)[C@@H](O)CCC(C)C)cc1OCc1ccccc1', 'CCCCC1=CC(c2cn[nH]c2C)NC=C1C1C(C)=NNC1/C=C/F', 'Cc1nnc(Nc2ccc(CC(NC(C)C)C(=O)C(C)C)cn2)nn1', 'CCc1nc2n(n1)CCC[C@@H]2NC(=O)Nc1cnc(C(C)(C)C)nc1', 'CCCCOc1cccc2ccc(O)c(C(=O)N(C(C)C)C(C)C)c12', 'CC1(C)CC(=O)N(Cc2ccccc2)CC1C(=O)OC1CCCCC1', 'CC(C)CN(CC(C)C)S(=O)(=O)CC12CCC(CC1=O)C2(C)C', 'CC(C)(C)n1nccc1NC(=O)N1CCC(Nc2cccnn2)CC1', 'CNc1nccnc1C[C@@H]1CCCN(C(=O)C(C)(C)n2cncn2)C1', 'CN1CC=C(c2ccccc2)CC1.C[n+]1ccc(-c2ccccc2)cc1', 'CCCn1cc(NC(=O)N2CCCC(c3nnc4n3CCC4)C2)cn1', 'NC1CCC(n2cc(C(=O)NCCCNc3cccnc3)nn2)CC1', 'Fc1ccc(N2CCC(NCc3nncn3C3CCCCC3)C2)cc1', 'C/N=C(\\\\NCc1c(C)nn(C)c1C)NCC1(c2ccc(F)cc2)CC1', 'C=CCN(CCCCc1ccc(C)cc1)C(=O)C(=C)CCC(=O)OC', 'COc1ccccc1COC1CCN(C(=O)CC2=CCCCC2)CC1', 'Cc1c(C(C)NC(=O)N2CCC(Nc3cccnn3)CC2)cnn1C', 'CC(C)(C)NCc1coc2cccc(OCC3CCCCC3)c2c1=O', 'COC1=CC2=CC[C@H]3[C@@H]4CCC(=O)[C@@]4(CC=NO)CC[C@@H]3[C@@]2(C)CC1', 'CCCCC(CC)CNC(=O)c1ccc(OC)c2c(OC)cccc12', 'CCCN(Cc1cccc(OC)c1)CC(O)COCc1ccccc1', 'CC/C=C(/CCCCCC1(NC=O)CC1)C(=O)OCc1ccccc1', 'CC(C)[C@H](CCN1C(=O)c2ccccc2C1=O)[C@@H]1CCOC(C)(C)C1', 'CNC1=C(Nc2ccnc(N[C@H]3CCN(C(=O)C4CC4)C3)n2)CNC1', 'C/N=C(\\\\NCC(=O)NC(C)(C)C)NCc1ccnc(-n2ccnc2)c1', 'C=CC[C@H]1[C@@H](c2ccccc2)C(C)=[N+]([O-])O[C@]1(C)OC1CCCCC1', 'CCOc1cc(CN[C@@H](CC)CO)ccc1OCc1cccc(C)c1', 'CC(C)(C)OC(=O)N1CCC2=C(CCCC2)C1Cc1ccc(O)cc1', 'COC[C@H]1CCCN1[C@H](C)CC(C)(C)c1ccc(C(F)(F)F)cc1', 'COc1ccc(CCC(C)NC(C)c2ccc(OC)c(OC)c2)cc1', 'Cc1cc(Nc2nc(NC3C4CC5CC3CC(O)(C5)C4)nn2C)n[nH]1', 'CCN(Cc1cc(=O)oc2c(C)cc(C)cc12)[C@H]1CCOC(C)(C)C1', '[H]/N=C1\\\\C(=O)CC[C@@]2(C)C1CC[C@H]1[C@@H]3CC[C@H](C(C)=O)[C@@]3(C)CC(=O)[C@@H]12', 'CCC(CCC(C)C(=O)OC(C)(C)C)COCC(=S)/C=C(/C)N', 'COc1ccc(CC(C)N(C)CCOCCOc2ccccc2)cc1', 'C=CCOC(=O)N1C(COC)CCC1CO[Si](C)(C)C(C)(C)C', 'CCCC(F)c1nc(N)nc(N[C@@]2(C)c3cc(C)ccc3C[C@@H]2C)n1', 'COc1ccc(NC(=O)CC2CC3CCC2C3)cc1OC1CCCC1', 'Cc1cc(NC(=O)CN(C)[C@H]2CCCN(c3cccnn3)C2)n(C)n1', 'CCC[C@H](C)Oc1ccc2c(c1)C[C@@H](C)C(CN1CC(C(=O)O)C1)=C2', 'CC(C)c1ccc(C(=O)N(C2CC2)C2CCC3(CC2)OCCO3)cc1', 'Cc1ccc(C2CCCC2N(C)C(=O)C2CCC(C(=O)O)CC2)cc1', 'CCN(CC(O)c1ccccc1)C(C)Cc1ccc(OC)c(OC)c1', 'Cc1c(C(=O)N2CCCC[C@H]2c2cn[nH]c2)nnn1C1CCNCC1', 'Cn1ncc2c(N3CCN(C(=O)C4(N)CCCCC4)CC3)ncnc21', 'C/N=C(\\\\NCCCc1cccc(F)c1)N1CCC(c2cnn(C)c2)C1', 'COc1ccc([C@@H](O)CNC(=O)CC23CC4CC(CC(C4)C2)C3)cc1', 'CCn1nc(C)cc1C(=O)NCCn1ncc2c1c(C)nn2C(C)C', 'Cc1nc(C)n(C[C@H]2CN(C(=O)N3CCCC3)Cc3nccn3C2)n1', 'CCCC1C(C/C=C/c2ccccc2)C(=O)N[C@@H]1C(=O)OC(C)(C)C', 'O=C(CC1CC2CCC1C2)N(Cc1ccccc1O)CC1CCCO1', 'CCCCCc1cccc(CN(CCC(=O)O)Cc2ccc(C)o2)c1', 'CC(=O)c1ccc(OCCCC(=O)N[C@H](C)[C@@H]2C[C@@H]3CC[C@@H]2C3)cc1', 'Cc1nccn1CC(C)CNC(=O)N1CCN(c2cnccn2)CC1', 'CC(C1CC1)n1cc(NC(=O)N2CCCC(Cn3ccnn3)C2)cn1', 'CCCCNc1cc(C)nc(N2CCN(c3ccccc3F)CC2)n1', 'CCCn1nnnc1CN1CCN(C(=O)Nc2cccc(C)c2)CC1', 'O=C(Nc1ncn(C2CCCCC2)n1)N1CCC[C@@H](c2ccn[nH]2)C1', 'O=C(C=Cc1ccccc1OCC1CCCCC1)N1CCC(O)CC1', '[H]/N=C(/c1c(CCC)[nH]c2c(NC)cc(F)cc12)N1CC2CC1CC2N', 'CC(C)(C)CC(=O)N1CCCC1C(=O)OC1CCc2ccccc2C1', 'C=CCO[C@@]1(C(C)(C)C)Cc2ccccc2C12CCN(C(=O)O)CC2', 'CCCn1cnnc1CNC(=O)Nc1ccnn1C[C@H]1CC=CCC1', 'CC1C(=CC=CC2=[N+](C)c3ccccc3C2(C)C)N(C)c2ccccc21', 'CCC(=O)N[C@H]1C(C)(C)[C@@H]2C[C@@H]3[C@@H](c4cccc(O)c4)OCC[C@@]31C2', 'C/N=C(/NCc1nnc2ccccn12)NCC1CN2CCCC2CO1', 'CCC(NCC(O)COc1ccccc1)C(C)c1ccc(OC)cc1', 'C[C@@H](c1nc(N)nc(N(C)C)n1)N1CCN(c2ccccc2O)CC1', 'Cc1cc(C)c(C)c(OCC(O)CN(CCO)Cc2ccccc2)c1', 'CC(C)Cn1nc(C(=O)NCC[NH+]2CCCC2)c2ccccc2c1=O', 'CCCOc1cccc(CNCCc2ccc(OCC)c(OC)c2)c1', 'C[C@@H]1CO[C@@]2([NH+]=C(N)[C@@]3(C#N)C4(CCC(C(C)(C)C)CC4)[C@@]23C#N)O1', 'Cn1ncc2c(N3CCN(C(=O)C[C@@H]4CCC[C@H]4N)CC3)ncnc21', 'CC.CC(C)COc1ccc(-c2cccc(C(=O)OC(C)C)n2)cc1', 'CC(C)c1ccccc1OC[C@@H](O)CN(CCO)Cc1ccccc1', 'Cc1ccc(N2CCC[C@H](NCC(=O)Nc3cc(C)nn3C)C2)nn1', 'CC(N=O)[C@H]1CCC2C3CC(=O)C4=CC(=O)CCC4(C)C3CCC21C', 'CC(C)OCCOC[C@@H](O)CN(C)CCCOc1ccc(F)cc1', 'CCCCOc1ccc(NC(=O)[C@@]23CC[C@@](C)(C(=O)C2)C3(C)C)cc1', 'COc1ccc(CN(C[C@H](O)COc2ccccc2C)C(C)C)cc1', 'CCCCCOc1cc(C)nc(Oc2c(C)cc(OC)cc2C)c1C', 'C#CCOCC1CCN(C(=O)c2ccc(OCCCCC)cc2)CC1', 'CNC1OC1C(OC)c1ccccc1COC1=C(C)C=CC(C)(C)C1', 'CC(C)(COc1ccc2c(c1)[C@@]13CCCC[C@H]1[C@@H](C2)NCC3)C(=O)O', 'CC(C)n1cnnc1[C@H](C)NC(=O)N1CCN(c2ccncc2)CC1', 'CC(C)n1nnnc1-c1ccccc1NC(=O)N1CCCN(C)CC1', 'C=CCCCN(C)/C(=N\\\\C)NCCc1ccn(-c2ccc(F)cc2)n1', 'C=C(/C=C1/C(OC)=C(C(=O)OC)C=C/C1=N\\\\C)CC1CCCCCC1', 'Cn1c(CN2CCOCC2)nnc1[C@@H]1CCCN(c2cnccn2)C1', 'Cn1nccc1C/N=C(\\\\NCc1nc(C2CC2)no1)NC1CCCC1', 'CC(C)OC(=O)CC(NC(=O)CC1CC2CCC1C2)c1ccccc1', 'CCOC(OCC)[C@@H](C)CCC(=O)NCc1cccc2ccccc12', 'CC(C)COC(=O)N1CCCCC1C(=O)O[Si](C)(C)C(C)(C)C', 'CC.COc1ccc2c(C)cc(=O)n(CCC3CCC(=O)CC3)c2c1', 'CC[NH+](CC(=O)N1CCCCCC1)Cc1nc2ccccc2c(=O)[nH]1', 'C=CC(=O)N1C(C)(C)CC(OC(=O)c2ccc(C)cc2C)CC1(C)C', 'CC(C)C.CCOC(=O)N1CC2CCC1C(=O)/C2=C/c1ccccc1', 'Cc1nn(C(C)C)c(C)c1NC(=O)C(C)n1cc2c(n1)c(C)nn2C', 'c1cc2c(cc1C1CCOCC1)COC1(CCN(C3CCC3)CC1)O2', 'C[C@@H](C(=O)Nc1ccccc1F)[NH+](C)Cc1ccc(C(C)(C)C)cc1', 'C[C@H]1C[NH+](CCC(=O)NNC(=S)NC2CCCCC2)C[C@H](C)O1', 'CC(C)n1cc(C2(O)CCN(c3cc(N4CCCC4)ncn3)C2)nn1', 'CN(C)CCCC(O)(c1cccc(C(F)(F)F)c1)C1CCCCC1', 'O=C(c1ccccc1OC1CCCC1)N1CC[C@@]2(O)CCCC[C@@H]2C1', 'CCCCCCCCCCC(=O)CCN1C(=O)c2ccccc2C1=O', 'COc1ccccc1OCC(=O)NCCC12CC3CC(CC(C3)C1)C2', 'C/C=C/c1ccc(C(OC(=O)CC2CCCC2)C(=O)NCCC)cc1', 'Cc1nnc2ccc(N3CC(N(C)C4CCN(C(C)C)C4=O)C3)nn12', 'CCOCCOc1ccccc1NCc1ccc(OC(C)CC)cc1', 'OCC1(CC2CCCCO2)CCN(Cc2cc3ccccc3o2)CC1', 'CC(C)ONOc1ccc(C2(C3C=CC(O)=CC3)CCCCC2)cc1', 'O=C(CC1Cc2ccccc2C1)N[C@H]1CCOC[C@H]1C1CCOCC1', 'C[C@@H](CN(C)C(=O)c1ccc(N2CCCCCC2)nc1)c1nn[nH]n1', 'C=CC(CO[Si](C)(C)C(C)(C)C)N(CC=O)C(=O)OC(C)(C)C', 'CC(O)C1CCN(C(=O)CCC(=O)c2ccc3c(c2)CCCC3)CC1', 'COC1(CNC(=O)[C@@H](C)Oc2ccccc2)C2CC3CC(C2)CC1C3', 'CCOCCOc1cccc(NCc2ccc(OC(C)CC)cc2)c1', 'Cc1ccnc(NC2CCN(Cc3cn(C)nc3C(=O)N(C)C)C2)n1', 'CC(=O)CCC(=C1CCN(C(=O)OC(C)(C)C)CC1)c1ccccc1', 'CC(C)(C)OC(=O)N1CCCC(O[Si](C)(C)C(C)(C)C)C1C=O', 'COc1ccc(C(CC(=O)N2CCOC3CCCCC32)C2CC2)cc1', 'Cc1cccc(C)c1-c1cc2[n+](cn1)C(C)(C)C(C)(C)c1ccccc1-2', 'CCOC(=O)C1CCN(C(=O)/C=C/c2ccc(C(C)(C)C)cc2)CC1', 'CCCOc1ccc(NC(=O)[C@](C)(CC(C)C)OC)c2ccccc12', 'C=C1NC(=O)C2=C1[C@]1(C)CC[C@@H]3[C@](C)(CCC[C@]3(C)C(=O)O)[C@H]1CC2', 'O=C(C1[C@H]2CCCC[C@H]12)N1CCC(OCCOc2ccccc2)CC1', 'Cc1[nH]c2ccc(F)cc2c(=O)c1C[NH+]1C[C@@]2(C)C[C@@H]1CC(C)(C)C2', 'C[C@@H](NC(=O)[C@H]1[C@@H](C(=O)O)[C@H]2C=C[C@H]1C2)C12CC3CC(CC(C3)C1)C2', 'CC=CC(OC(=O)CNC(=O)OC(C)(C)C)[Si](C)(C)C(C)(C)C', 'C/C=C\\\\C=C(/CC)C(C)NCC(=O)c1ccc2c(c1)COC(C)(C)O2', 'C=C(C)c1ccc2c(c1)CCO[C@@H]2[C@@H]1CCCN1C(=O)OC(C)(C)C', 'COc1cc2c(cc1NC(C)=O)CCC1C2CC[C@@]2(C)C1CC[C@@H]2O', 'CC(C)[C@H](N)C(=O)O[C@@H](C)[C@H](Oc1ccc2ccccc2c1)C(C)C', 'CCN(CC)CCOC(COc1ccccc1)COc1ccccc1', 'CCc1cc(N2CCC[C@@H](NC(=O)Nc3cn(C)nc3C)C2)ncn1', 'Cc1cccc(C(=O)N2CC3(C[C@@H](OCC4CCCC4)CCO3)C2)c1', 'CCN/C(=N\\\\Cc1nnc2ccccn12)NCC(=O)N1CCCCC1', 'Cc1nccn1CCCCNc1cc(N2CCN(C)C(=O)C2)ncn1', 'COc1cccc2c1OC1CCCC3CNCC(CC4CCOC4)C231', 'C=C1C[C@@]2(C)[C@@H](CCC2(C)O)[C@@H]2CCC3=CC(=O)C(N=O)C[C@]3(C)[C@H]12', 'CCCc1ccccc1OCC(C)OCC(C)Oc1ccc(N)cc1', 'CC.Cn1c2c(c3cc(C(=O)O)ccc31)CC(C1CCOCC1)CC2', 'CCCCCCCCCCN(C)C(=O)c1cccc(C(F)(F)F)c1', 'Cc1cc(Nc2cc(CO)nc(NCC3CC4CCC(C3)N4)n2)n[nH]1', 'CCOC(=O)c1ccc2c(c1)C1OCCC[C@H]1[C@H](C1CCCCC1)N2', 'Cc1[nH]ncc1C(C)NCCC(=O)N1CCN(c2ncccn2)CC1', 'CCC(CC)Oc1cc(C)nc(Oc2c(C)cc(CO)cc2C)c1C', 'CCCOc1ccc(CC(CN)c2ccc(OC)c(C)c2)cc1OC', 'CC1COC(CO)CN1C(=O)C1(Cc2ccccc2)CC2CCC1C2', 'CC(=O)N(C)[C@H]1[C@H](O)C[C@H]2[C@@H]3CCc4cc(O)ccc4[C@H]3CC[C@]12C', 'CCOCCOc1ccccc1NCc1ccccc1OCC(C)C', 'CC1C2Cc3ccc(O)cc3C1(CCCC(=O)O)CCN2CC1CC1', 'CC1(C)CCc2c(-c3cc(F)nc(NCC4CCNC4)c3)n[nH]c2C1', 'CCCCCCCCCCCCCCCCCC(=O)O[C@H](CO)COP(=O)([O-])OCC[N+](C)(C)C', 'C[C@H](CCC(=O)N1CCCc2ccccc21)[C@H]1CC[C@H]2[C@@H]3[C@H](O)C[C@@H]4C[C@H](O)CC[C@]4(C)[C@H]3C[C@H](O)[C@]12C', 'CC(C)CCC[C@@H](C)[C@H]1CC[C@H]2[C@@H]3CC=C4C[C@@H](OC(=O)N[C@@H](C)C(=O)[O-])CC[C@]4(C)[C@H]3CC[C@]12C.[Na+]', 'CCCCNC(=O)[C@H](C)C[C@H](O)[C@@H](N)C[C@H](CNC(=O)c1ccc(OC)cc1OCCCOC)C(C)C', 'CCCCCCN1CCC(c2nc(NCC3Cc4ccccc4CN3)[nH]c(=O)c2C2CCC(F)CC2)CC1', 'CC(=O)/C=C1/[C@@]2(C)C=C(C#N)C(=O)C(C)(C)[C@@H]2CC[C@@]1(C)C(C)(C)CC[C@@]1(C(=O)O)CCC(C)(C)CC1C', 'Cc1ccc2c(c1)CCN2C(=O)CC[C@@H](C)[C@H]1CC[C@H]2[C@@H]3[C@H](O)C[C@@H]4C[C@H](O)CC[C@]4(C)[C@H]3C[C@H](O)[C@]12C', 'C=CC(C)(C)N1C(=O)[C@@H](C[C@@H]2CC[C@H]3[C@](C)(CCC(O)C(C)(C)O)[C@@H](O)CC[C@]3(C)C2=C)c2ccccc21', 'c1ccc(CN(Cc2ccc(CN3CCC4(CCN(C5CCCCC5)CC4)C3)cc2)Cc2ccccn2)nc1', 'COCCCOc1cc(CC(CC[C@@H](O)CC(C(=O)NC2(F)CCCC2)C(C)C)C(C)C)ccc1OC', 'C1=C(c2ccc(N3CCC(c4cnc(C5CCCC5)[nH]4)CC3)c3c2CC2(CCCC2)C3)CC([C@@H]2CCCN2)=N1', 'COCCCOc1cc(C[C@@H](C[C@H](N)[C@@H](O)C[C@H](C(=O)NCCC(N)=O)C(C)C)C(C)C)ccc1OC', 'C/N=C(/C=C\\\\N(C=O)c1ccc(CC(C)N2CC(C)[C@H](CN)C2)cc1)N1CCN(C(=O)C2CC(N)C2)CC1', 'CC(C)(C)OC(=O)CC(CCCC1CCCCC1)C(=O)O/N=C(\\\\N)C1CCCCN1C(=O)OC(C)(C)C', 'CCOC(=O)/C(C)=C/C(C(C)C)N(C)C(=O)C(NC(=O)C1CCCCN1C(=O)OC(C)(C)C)C(C)(C)C', 'NC(N)C(C(=O)NC1CNCCC1N1CCN2C(=O)OCC2C1)C1CC2(CCCCC2)CCC(F)CN1', 'CCCC(C)(C)CC[C@@](C)(CC[C@]1(C)CC(=O)C=C2[C@@]3(C)C=C(C#N)C(=O)C(C)(C)[C@@H]3CC[C@]21C)C(=O)O', 'CCCCN(C(=O)CN1CC(c2ccc3c(c2)OCO3)CC1CCNCCC)c1cccc([N+](C)(C)C)c1', 'COCCCOc1cc(C[C@@H](C[C@H](N)[C@@H](O)C[C@@H](C)C(=O)NCC(C)(C)C(N)=O)C(C)C)ccc1OC', 'CCCCCN(Cc1nccc2c3ccccc3n(CCCC3CCNCC3)c12)[C@H]1CCCc2cccnc21', 'C[N+](C)(C)CCOP(=O)(O)OC[C@H](O)COC(=O)CCCCCCC/C=C\\\\CCCCCCC[13CH3]', 'CCCCCCCCCCCCCCCCCCn1c(C(C)NC(=O)c2cccs2)nc2ccccc21', 'C=CC(=O)N1CC=C(C2CCC3NCNC(NC4CCC(OC5=CC6CCNN6C=C5)C(C)C4)C3N2)CC1', 'CO[C@H]1[C@H](C(C)(C)OCC=C(C)C)[C@]2(CC[C@H]1OC(=O)N[C@@H](C(=O)NCCN1CCCC1)C(C)C)CO2', 'C=C(c1cc(CCCOCCC)cc(OCCCOCCC)c1)c1cc(C)ccc1N(C)C1CCCCO1', 'CCCC.CCCC(=O)c1cc2c3cccc(F)c3nc(N)n2n1.CCCC(C)CC.Cc1ccccn1', 'C/C=C\\\\CCC.C=C(C)CNC(=O)c1sc(/C=C/C)cc1NC(=C)Nc1c(C)cc(C)cc1C.CCC', 'COCCOCC(C)N1C(=O)C(CC(C)(C)C)C(C(C)(C)CC2C(=O)N(CCN(C)C)C(=O)C2C)C1=O', 'C=Cc1c(CN(c2ccc(C)cc2C(C)(F)F)C(O)C=C)cc2ccccc2c1C=C.CC.CC.CCC', 'Cc1ccc(C)c(Cn2c(NC3CCN(CCNC(C)(C)C[P+](C)(C)C)CC3)nc3c(C)cccc32)n1', 'COC(=O)[C@]12CCC(C)(C)CC1C[C@](C)([C@]1(C)CC[C@H]3C(C)(C)C(=O)C(C#N)=C[C@]3(C)[C@H]1CC(C)=O)CC2', 'CNC(=O)CCCNC(=O)[C@H](C)C[C@H](O)[C@@H](N)C[C@H](Cc1ccc(OC)c(OCCCOC)c1)C(C)C', 'CCOC(=O)C(C)(CCCCN(C(=O)OC(C)(C)C)C(=O)OC(C)(C)C)c1cn(CCC(C)(C)C)cn1', 'CCN(CC)C(=O)c1ccc([C@H](c2cccc(O[Si](C)(C)C(C)(C)C)c2)N2C[C@H](C)N(C)C[C@@H]2C)cc1', 'CCCCN(CCCC)C(=O)c1cnc2c(n1)NC(Nc1ccc(OC)cc1)N2CCCN1CCCCC1', 'C[C@]12CC[C@H]3[C@]4(C=C[C@@]5(C=C4C(=O)C4CCCCC4)CC(O)CC[C@]35C)[C@@H]1CC[C@@]2(O)CN1CCOCC1', 'CC(C)CC1CCC(c2onc(C(CCCOCc3ccccc3)CC(=O)OC(C)(C)C)c2C2CC2)CC1', 'CC(CCCCCCC(C)C(=O)Oc1ccc2c(c1)[C@@]13CCCC[C@H]1[C@@H](C2)N(CC1CCC1)CC3)C(=O)O', 'CCCCCC(=O)CCCCCCCCCCCOCC(COP(=O)([O-])OCC[N+](C)(C)C)OC', 'CC[C@@]12CC[C@]3(C)[C@](OC1CO)(C(=O)C[C@@H]1[C@@]4(C)C=C(C#N)C(=O)C(C)(C)[C@@H]4CC[C@]13C)C2CC(C)(C)C', 'CC(C)CCC[C@@H](C)[C@H]1CC[C@H]2[C@@H]3CC=C4C[C@@H](S)CC[C@]4(C)[C@H]3CC[C@]12C.O=C([O-])c1ccccc1', 'CCCCCCCCCCCCCCCCCCCCC(=O)OCC(O)COP(=O)(O)OCCN', 'COC1C[C@H]2[C@@H]3CC[C@H]([C@H](C)Oc4ccc(COC5CCCCO5)nc4)[C@@]3(C)CC[C@@H]2[C@@]2(C)CC[C@@H]3C[C@@]132', 'C=CC=O.CCCCCC1CCC(c2ccc(-c3ccc(C4CCC(N(C)C)CC4)c(F)c3)c(F)c2)CC1', 'CCCN(CCC)CCCCN(CC(=O)O)Cc1ccc(CN(Cc2ncc[nH]2)C(C)c2ncc[nH]2)cc1', 'CCC(=O)CN(CC(=O)C(C)(C)C)C(=O)CCC(NC(C)C)C(=O)N(CC(=O)CC)CC(=O)C(C)(C)C', 'C1CCNCC1.C=C(C)OCC.[H]/N=C(/CC(C)/C(=C\\\\C)c1nc2nc(OC)ccc2[nH]1)c1cnc(C)nc1.[H][H]', 'CCCN(CCC)CCC[C@H](C(=O)O)N(C)Cc1ccc(CN(Cc2ncc[nH]2)C(C)c2ncc[nH]2)cc1', 'CCC(C)C.CCC1CCN(Sc2ccc(-c3ccccc3)cc2)CC1.[H]/N=C/N1C(C)CC1(C)C(C)=O', 'CCNC(CCC(=O)NC(CCC(=O)NC(CCC(=O)C(C)C)C(=O)C(C)C)C(=O)CC)C(=O)C(C)C', 'CC[C@H]1[C@@H](O)[C@@H]2[C@H](CC[C@]3(C)[C@@H]([C@H](C)C/C=C/c4cnccc4C(=O)OC)CC[C@@H]23)[C@@]2(C)CC[C@@H](O)C[C@@H]12', 'C[C@]12CCC(=O)CC1CC(c1ccc(OCCCCCCCC(N)=O)cc1)[C@@H]1[C@H]2CC[C@]2(C)C(O)CC[C@@H]12', 'CC(O)CNC(=O)C1(C)CCC2(C)CCC3(C)C(C(=O)C=C4C5(C)C=CC(=O)C(C)(C)C5CCC43C)C2C1', 'CCCN(CCC)C(CCCC(=O)O)N(C)Cc1ccc(CN(Cc2ncc[nH]2)Cc2nccn2C)cc1', 'COCCCOc1cc(C([C@@H](C)C(=O)NCCCCC(N)=O)[C@H](O)[C@@H](N)C[C@H](C)C(C)C)ccc1OC', 'CCCCCCCC1CCC/C=C/CC(C(=O)N(C)C)C[C@@H](C(=O)O)NC(=O)[C@H](CC(C)C)NC(=O)O1', 'CCCN(CCC)[C@H](CCCN(C)Cc1ccc(CN(Cc2ncc[nH]2)Cc2nccn2C)cc1)C(=O)O', 'COC(=O)[C@](C)(c1cn(CCC(C)(C)C)cn1)C(C)CCCN(C(=O)OC(C)(C)C)C(=O)OC(C)(C)C', 'O=C(/C=C/c1ccccc1)N(CC1CCC(C2CCCCCC2)S1)C1NNCC1C1CCCCCCC1', 'C/N=C(/C=C\\\\N(C=O)c1ccc(CC(C)N2CC3C(CN)C3C2)cc1)N1CCN(C(=O)C(C)(C)CN)CC1', 'C[C@H](CCC(=O)O)C1CCC2C3CCC4C[C@H](OC(=O)[C@@H](N)Cc5ccccc5)CC[C@]4(C)C3CC[C@@]21C', 'CCCN(CCC)CCCCN(CC(=O)O)Cc1ccc(CN(Cc2ncc[nH]2)Cc2nccn2C)cc1', 'CCCCCCCCCCCOCC(COP(=O)(O)OCCN)OC(=O)CCCCCCCCC', 'COCCCCOc1ccccc1C(=O)NC[C@@H](C[C@H](N)[C@@H](O)CNC(=O)[C@H](OC)C(C)(C)C)C(C)C', 'CCCCCC1CCC(C2CCC(/C=C/CCc3ccc(-c4ccc(OCC)c(F)c4F)cn3)CC2)CC1', 'CCCCCCCCCOCC(COP(=O)([O-])OCC[N+](C)(C)C)OC(=O)CCCCCCCC', 'C[C@H](CCNC(=O)OC/C=C/c1ccccc1)C1CCC2C3C(O)CC4C[C@H](O)CC[C@]4(C)C3CC[C@@]21C', 'C=CC(F)(CC)c1ccc(NC(/C=C\\\\C)/C(=N/C=C\\\\C)N2CCN(C(=O)C(=C)CN3CCCC3)CC2)cc1.[H][H]', 'NCc1cc(OCCCOC23CC4CC(CC(C4)C2)C3)cc(OCCCOC23CC4CC(CC(C4)C2)C3)c1', 'CCOC(=O)/C(C)=C\\\\C(C(C)C)N(C)C(=O)C(NC(=O)C1CCN(C(=O)OC(C)(C)C)CC1)C(C)(C)C', 'CCC1CC(c2ccc3nc(C)ccc3c2)OC(=O)CCC(C)(C)C(=O)[C@H](C)C(O)[C@@H](C)CCCC1(C)C', 'CCCCCCCCCCCCCCCCOCC(OCP(=O)([O-])OCC[N+](C)(C)C)OC(C)=O', 'C=C(C)C[C@]1(c2ccccc2)CC/C=C(\\\\CC2(O)CCC2)CC(O)N(CCC(=O)/C=C/CCCO)CCC1', 'C/C(=C\\\\CC/C(C)=C/CCC1(C)CCc2c(C)c(O)c(C)c(C)c2O1)CC/C=C(\\\\C)C(=O)N1CCOCC1', 'Cc1c(C)c2c(c(C)c1O)CC[C@](C)([13CH2]N1CCN(c3[13cH]c(N4CCCC4)n[13c](N4CCCC4)n3)CC1)O2', 'C#CON(C)C(=O)[C@@]1(C)CC[C@]2(C)CC[C@]3(C)C(=CC(=O)[C@@H]4[C@@]5(C)CC[C@H](O)C(C)(C)C5CC[C@]43C)[C@@H]2C1', 'CC(C)(C)NC(=O)N[C@H]([14C](=O)N1C[C@H]2[C@@H]([C@H]1C(=O)N[C@H](CC1CCC1)[C@H](O)C(N)=O)C2(C)C)C(C)(C)C', 'CCCCCCCCCC(=O)Nc1ccc(Nc2nc(N3CCCCC3)nc(N3CCCCC3)n2)cc1O', 'C=C(C)C(=O)NC(C)COCCC(CC)(COCC(C)NC(=O)C(=C)C)COCC(C)NC(=O)C(=C)C', 'CCOC(=O)/C(C)=C/[C@H](C(C)C)N(C)C(=O)[C@@H](NC(=O)C1CCCCN1C(=O)OC(C)(C)C)C(C)(C)C', 'CO[C@]12CC[C@@]3(C[C@@H]1[C@](C)(OC(C)(C)C)C(C)(C)C)[C@H]1Cc4ccc(O)c5c4C3(CCN1CC1CC1)C2O5', 'CCCCCCCCCCCCCCCCNc1ccc(C(=O)OC2COC(c3ccccc3)OC2)cc1', 'CCCCNC(=O)C(C)CC(O)C(N)CC(CNC(=O)c1ccc(OC)cc1OCCCOC)C(C)C', 'CCC(C)c1nc(C)c(C(=O)N(C)[C@H]2CC[C@@]3(C)C(=CC[C@@H]4C3CC[C@]35CN(C)[C@@H](C)[C@H]3CC[C@@H]45)C2)s1', 'CCC(CC)(c1ccc(CC(C)C(O)(CC)C(C)(C)C)c(C)c1)c1ccc(C(=O)NC(C)C(=O)O)c(C)c1', 'CCCCCCCCCCCCCCCC(=O)OCCOC(=O)c1ccccc1Nc1cccc(C)c1C', 'CCC(C)(C)N=[Mo]=NC(C)(C)CC.CCC(C)[N-]C([N-]C(C)CC)C(C)C.C[C-](C)C', 'CCCCCCCCCCCC(=O)CCCCCCOCC(O)COP(=O)([O-])OCC[N+](C)(C)C', 'CCCN1CCN(CC)CCCN(CC(O)CN(CPS)CC(O)CO)CCN(CCC)CC1', 'CC(C)(C)c1cc2c(c(C(C)(C)C)c1)OB(c1ccccc1)Oc1c(cc(C(C)(C)C)cc1C(C)(C)C)/N=C\\\\2', 'CCOC(=O)/C(C)=C\\\\C(C(C)C)N(C)C(=O)C(NC(=O)C1CCCCN1C(=O)OC(C)(C)C)C(C)(C)C', 'CCCCCCCCCCCCCCCCCC(=O)OCC1CCCC(O)C(n2ncc(=O)[nH]c2=O)O1', 'CCCCCCCCCCCCOCC(COP(=O)([O-])OCC[N+](C)(C)C)OC(=O)CCCCC', 'CCCCCCCCCCCOCC(COP(=O)([O-])OCC[N+](C)(C)C)OC(=O)CCCCCC', 'CCC.CCCCNc1ccc2c(C(C)OC(=O)N(C)CCNC)c3ccc(=[N+]4CCCC4)cc-3oc2c1', 'CCCCCCCCCCCCCCCCCC(=O)OC[C@H](O)COP(=O)([O-])OCC[N+](C)(C)C', 'CCCCCCCCCCCCCCCC(=O)Oc1ccc2c3c1O[C@H]1C(=O)CC[C@H]4[C@@H](C2)N(C)CC[C@]314', 'CC(C)(C)NC(=O)N[C@H]([14C](=O)N1C[C@H]2[C@@H]([C@H]1C(=O)N[C@@H](CC1CCC1)[C@@H](O)C(N)=O)C2(C)C)C(C)(C)C', 'CC.COC(=O)C12CCC3C(C(=O)CC4C5(C)C=C(C#N)C(=O)C(C)(C)C5CCC34C)C1CC(C)(C)CC2', 'CCOC(=O)[C@]12CCC(C)(C)C[C@H]1C1C(=O)C=C3[C@@]4(C)C/C(=C/N)C(=O)C(C)(C)[C@@H]4CC[C@@]3(C)[C@]1(C)CC2', 'CC[C@H](CCC(=O)N1Cc2ccccc21)[C@H]1CC[C@H]2[C@@H]3[C@H](O)C[C@@H]4C[C@H](O)CC[C@]4(C)[C@H]3C[C@H](OC)[C@]12C', 'C[C@H](CCC(=O)N1CCc2ccccc2C1)[C@@H]1CC[C@@H]2[C@@H]3[C@H](O)C[C@H]4C[C@H](O)CC[C@]4(C)[C@@H]3C[C@H](O)[C@@]21C', 'CCCCCCCC(C)(C)CN1CCc2ccc(OC(C)(C)C(=O)O)cc2C1c1cc(C)c(O)c(C)c1C', 'COC(=O)C1CC[C@H]2[C@@H]3CCC4CC(OC(=O)c5ccccc5)CC[C@]4(C)[C@@H]3C(NCCC(C)C)C[C@]12C', 'CC1=CCCC2(C)C(CCC2(O)CN2CCOCC2)c2ccc(cc2C(=O)C2CCCCC2)CC(O)CC1', 'CCCCCCCCCCCCCCCCCC(=O)OCC(O)COP(=O)([O-])OCC[N+](C)(C)C', 'C=C1C=C(CCC(CC(=O)OCC)C(O)CCCC(C)C2CCCC3CCCCC32)c2cc(NO)ccc21', 'C[C@H](CCNC(=O)OC/C=C/c1ccccc1)[C@H]1CC[C@H]2[C@@H]3[C@H](O)C[C@@H]4C[C@H](O)CC[C@]4(C)[C@H]3CC[C@]12C', 'Cc1c(C)c(O)n(C2CCC(C(=O)OCC3(C)CCCC4(C)C5CCC(C(C)C)=CC5=CCC34)CC2)c1O', 'CCCCC(CC)C(O)(c1ccccc1)C1CCN(C(CC)C(O)c2ccc(C(C)(C)C(=O)O)cc2)CC1', 'CCCCCCCCCCCCCCCCOC[C@@H](COP(=O)([O-])OCC[N+](C)(C)C)OC(C)=O', 'CCCCCCCCCCCCCCCCCCCOCC(COP(=O)(O)OCCN)OC(C)=O', 'CCC(CC)(c1ccc(OC(C)C(O)(CC)CC)c(C)c1)c1ccc(C(=O)N(C)C(C)(C)C(C)=O)c(C)c1', 'CC12CCC(O)CC13C=CC1(C(C(=O)C4CCCCC4)=C3)C2CCC2(C)C1CCC2(O)CN1CCOCC1', 'CC(C)n1c(NCC(C)(C)C(C)(C)NC(C)(C)C(C)C)nc2c(NC(=O)COc3ccccc3)ncnc21', 'CCCN(CCC)C(CCCN(C)Cc1ccc(CN(Cc2ncc[nH]2)Cc2nccn2C)cc1)C(=O)O', 'CCC(C)(C)CC[C@@](C)(CC[C@]1(C)C(C)C(=O)C=C2[C@@]3(C)C=C(C#N)C(=O)C(C)(C)[C@@H]3CC[C@]21C)C(=O)O', 'CC(C)(C)NCc1nc2ccc(C(C)(C)C)cc2[nH]1.[3H]C(C)(C)c1ccc2nc(CSC(C)(C)C)[nH]c2c1', 'CCOC(=O)/C(C)=C/[C@H](C(C)C)N(C)C(=O)C(NC(=O)C1CCCCN1C(=O)OC(C)(C)C)C(C)(C)C', 'CC(C)CCCC(C)CCCC(C)CCCC1(C)CCc2cc(OC(=O)c3cccc(O)c3N)ccc2O1', 'CC(C)(C)OC(=O)C[C@@H](CCCC1CCCCC1)C(=O)ON=C(N)C1CCCCN1C(=O)OC(C)(C)C', 'C=C(S/C(=C(\\\\C)c1cccc(C)c1)c1ccnc(NC2CC2)n1)C(CCC)CCC.C=COCC.CC', 'C[C@@H](CC[C@@H](B1O[C@@H]2C[C@@H]3C[C@@H](C3(C)C)[C@]2(C)O1)N([Si](C)(C)C)[Si](C)(C)C)CC(=O)OC(C)(C)C', 'CCCc1c(-c2nc(N3CCN(C)CC3)cc(N3CCCN(C)C[C@@H]3C)n2)noc1[C@@]1(C)CCCCC1=O', 'CCCCCCCCCCCCCCCCOCC(COP(=O)([O-])OCC[N+](C)(C)C)C(=O)OC', 'C=C(C)C(=C)OCCNC(=O)OCCCCCCCOC(=O)NCC1(C)CC(NC(C)=O)CC(C)(C)C1', 'C=C(F)/C=C(C/C(=C\\\\CC)OC)/C(=N/C(=C)C)SCC=O.CN1CCCCC1.CN1CCCCCC1', 'COCCNC(=O)C1(C)CCC2(C)CCC3(C)C(C(=O)C=C4C5(C)C=CC(=O)C(C)(C)C5CCC43C)C2C1', 'CCCCCCCCCCCCCCCCOCC(COP(=O)(O)OCCN)OC(=O)CCCC', 'C[C@H](CCC(=O)N1CCc2ccccc21)[C@H]1CC[C@H]2[C@H]3C[C@H](C[C@H](O)[C@]12C)[C@@]1(C)CC[C@@H](O)C[C@H]1C[C@H]3O', 'CCCCCCCCCCCCCCCCCCNC(=O)C(Oc1cccc(O)c1)C(=O)c1ccccc1', 'CCCN(CCC)CCC[C@@H](C(=O)O)N(C)Cc1ccc(CN(Cc2ncc[nH]2)C(C)c2ncc[nH]2)cc1', 'CCCCCCCCCCCCCCCCCCC(=O)Nc1ccn([C@@H]2O[C@H](CO)[C@@H](O)[C@@H]2O)c(=O)n1', 'C=C1c2cc(CN)c(N3CCC(N4CCCC4)CC3)cc2C2(CCCCC2)c2[nH]c3c(c21)CCC(C)(C#N)C3', 'CCCCCCCC(CCCC)C([NH3+])(CCCCCCC)CCCCCCC.[I-]', 'C=C(F)/C=C\\\\C(=C/C)Cc1cc2c(nc1CC)C(C)(C)CN2C(=C)CN1CNCC1CN1CCOCC1C', 'CC(C)(C)OC(=O)N1CCC(N2CCN(C3CC4CNC(N)=C(/C=C(\\\\N)c5ccccc5)N4C3)CC2)CC1', 'C#C.CCOC.CNc1c(C)c(-c2cnn(C)c2)nn1C.O=CNC1CCN(CCCc2ccccc2)C1', 'CCCCCCCCCCCCCCCC(=O)OC[C@H](COP(=O)([O-])OCC[N+](C)(C)C)OCC', 'CCCCCCCCCCCCCCCCOC(COC(C)=O)COP(=O)([O-])OCC[N+](C)(C)C', 'CC(C)CN1CC2(CCN(c3ncncc3N[C@@]3(CC4=CCCCC4OC(C)C)C#C[C@H](F)CC3)CC2)C1', 'CC(=O)O[C@H]1CC[C@@]2(C)C(CC[C@]3(C)C2C(=O)C=C2[C@]45C[C@](C)(CC[C@]4(C)CC[C@]23C)C(=O)N5C)C1(C)C', 'C=C1/C(=C\\\\C=C2/CCC[C@@]3(C)C2CC[C@@H]3[C@H](C)/C=C/C(O)C2(C(=O)N/C=C/CCC)CC2)C[C@@H](O)C[C@@H]1O', 'CCC[C@H]1C[C@H](N(C)C(C)C)CC[C@@H]1N1CC[C@H](NC(=O)c2cc(-c3nn[nH]n3)cc(C(C)(C)C)c2)C1=O', 'CCCN(CCC)CCC[C@H](C(=O)O)N(C)Cc1ccc(CN(Cc2ncc[nH]2)Cc2nccn2C)cc1', 'CNC(=O)CCCOc1cccc(CCC[C@@H]2C[C@H]3CC(=O)CC[C@]3(C)[C@H]3CC[C@]4(C)[C@@H](O)CC[C@H]4[C@H]23)c1', 'CCCN(CCC)CCCCN(CC(=O)OC)Cc1ccc(CN(Cc2ncc[nH]2)Cc2ncc[nH]2)cc1', 'CCC(CC)(c1ccc(CC(C)C(C)(O)C(C)(C)C)c(C)c1)c1ccc(C(=O)NC(C)(C)C(=O)O)c(C)c1', 'Cc1nc(NCCN(C)CCCCCC(C)C)c(F)c(NNC(=O)[C@H](CC2CCCC2)CN(O)C=O)n1', 'CCC(CC)OC1CC(C)C(C2=CC(C3=CNC(NC(=O)NC(C)C)S3)NC(C(N)CN)N2)C(C)C1', 'CC(C)(C)OC(=O)C[C@@H](CCCC1CCCCC1)C(=O)ON=C(N)[C@@H]1CCCCN1C(=O)OC(C)(C)C', 'C=C(/C(C)=C(\\\\C)c1c(C)ccc(F)c1C)N(Cc1cc(-c2cccc(CC)c2)ccc1C)C1CCC(C)CC1', 'CCCCCCCCCCOc1ccc(C(=O)Oc2ccc(/C=N/CCCCCCCCC)c(O)c2)cc1', 'C.C.C.CC(C)(C)OC(=O)NCCCc1cc(-c2ccccc2)nnc1N1CCN(c2ncccn2)CC1', 'CCCCCCCCCCCCCCCCOCC(COP(=O)([O-])OCC[N+](C)(C)C)OC(C)=O', 'CCCCCCCCCCCCCCOC[C@H](COP(=O)([O-])OCC[N+](C)(C)C)OC(=O)CCC', 'C=C(Nc1cccc(-c2cccc(NC)c2C)c1C)c1nc2c(n1C)CCN(CCC13CCC(C)(CC1)C3)C2', 'Cc1cccc2c1CCN2C(=O)CC[C@@H](C)[C@H]1CC[C@H]2[C@@H]3[C@H](O)C[C@@H]4C[C@H](O)CC[C@]4(C)[C@H]3C[C@H](O)[C@]12C', 'CCCCCCCCCCCCCCCCCC[N+](CCC)(CCC)CCC.[O-][Br+2]([O-])[O-]', 'CC(C)c1cccc(C(C)C)c1NC(=O)CC(S)CCCCCCCN1CCN(c2ccccc2)CC1', 'CC(C)(C)c1cc(-n2ccc(C(C)(C)C)n2)c2[nH]c3c(-n4ccc(C(C)(C)C)n4)cc(C(C)(C)C)cc3c2c1', 'CCCCN1CCN(c2cc(OC)c(N3CCS(O)(F)CC3)cc2C2CCC(C(C)(C)C)CC2)CC1', 'CCCCNC(=O)[C@H](C)C[C@H](O)[C@@H](N)C[C@H](CNC(=O)c1cccc(OC)c1OCCCOC)C(C)C', 'CC(C)C[C@H](NC(=O)OCC1CCCCC1)C(=O)N[C@@H](CC1CCCCC1)C(=O)C(=O)NOC(C)(C)C', 'COC12C(C)C(CCC(C)C)(CCC3(C)C1C(=O)C=C1C4(C)CC(C#N)C(=O)C(C)(C)C4CCC13C)C2O', 'CCCCCCCCN1CCN(Cc2ccc3ccccc3n2)CCN(Cc2ccc3ccccc3n2)CC1', 'CCOC(=O)C1CCC(OC(C(=O)OC(C)(C)C)(N2CCCC2)N2CCN(C(=O)C(C)(C)C)CC2)CC1', 'CCCCCCCCCCCCCCCCCCC(=O)Nc1ccn(C2OC(CO)C(O)C2O)c(=O)n1', 'CCC(C)c1nc(C)c(C(=O)N(C)C2CCC3(C)C(=CCC4C3CCC35CN(C)C(C)C3CCC45)C2)s1', 'COCCCOc1cc(CC(CC(N)C(O)CNC(=O)C(C)(C)N2CCOCC2)C(C)C)ccc1OC', 'COCCCCOc1ccccc1C(=O)NCC(CC(N)C(O)CNC(=O)[C@H](OC)C(C)(C)C)C(C)C', 'C=C1[n+]2ccccc2-c2cc(C3CCC4C(C3)C3CCCC5OC6CCCCC6N4C53)ccc2C1(CC)CC', 'C=CC(C)(C)[C@@H](C(=O)N[C@H](C(=O)N(C)[C@H](C=C(C)C(=O)O)C(C)C)C(C)(C)C)N(C)C(=O)OC(C)(C)C', 'COC(=O)C(Cc1ccc(O)cc1)NC(=O)CCC[C@H]1CCC2C3CCC4CCCCC4(C)C3CCC21C', 'CC(CC[C@@H](B1O[C@@H]2C[C@@H]3C[C@@H](C3(C)C)[C@]2(C)O1)N([Si](C)(C)C)[Si](C)(C)C)CC(=O)OC(C)(C)C', 'CCCN(CCC)CCCCN(CC(=O)OCC)c1ccc(CN(Cc2ncc[nH]2)Cc2ncc[nH]2)cc1', 'CCCCCCCCCCCCCCOc1c(C)cccc1CN(C(C)=O)c1cccc(COC(C)=O)c1', 'C=C(CCCCCCC)OCC(Cn1cc(CCC(=O)OCCOC)nn1)OC(=O)CCCCCCC', 'CCC12CCC3(C)C4(C)CCC5C(C)(C)C(=O)C(C#N)=CC5(C)C4CC(=O)C3(OC1CO)C2CC(C)(C)C', 'CCC(C)(C)CC[C@](C)(CCC(=O)O)CC[C@]1(C)CC(=O)C=C2[C@@]3(C)C=C(C#N)C(=O)[C@@H](C)[C@@H]3CC[C@]21C', 'CCN(CC)CCOc1ccc(/C=C2\\\\C[C@H]3[C@H]4CC=C5C[C@@H](O)CC[C@]5(C)[C@H]4CC[C@]3(C)[C@H]2O)cc1OC', 'CNC(=O)CCCOc1cccc(CCCC2CC3CC(=O)CC[C@]3(C)[C@@H]3CC[C@]4(C)C(O)CC[C@H]4[C@H]23)c1', 'CC(C)c1cccc(C(C)C)c1N1CC[N+](c2c(C(C)C)cccc2C(C)C)=C1/C(O)=C/Cc1ccccc1', 'COc1ccc2c(c1)N(C(=O)CC[C@@H](C)[C@H]1CC[C@H]3[C@@H]4[C@H](O)C[C@@H]5C[C@H](O)CC[C@]5(C)[C@H]4CC[C@]13C)CC2', 'CCN(CC)CCOc1ccc(/C=C2\\\\C[C@H]3[C@@H]4CC=C5C[C@@H](O)CC[C@]5(C)[C@H]4CC[C@]3(C)[C@H]2O)cc1OC', 'CCCCCCCCCCCCCCCCCC(=O)C(OP(=O)([O-])OCC[N+](C)(C)C)[C@@H](O)CO', 'CC1(C)NC(=O)CC[C@]2(C)[C@H]3C(=O)C=C4[C@@H]5C[C@@](C)(C(=O)OC6CC6)CC[C@]5(C)CC[C@@]4(C)[C@]3(C)CC[C@@H]12', 'CCCCCCCCCCCCCCCCC(CCC[Si](OC)(OC)OC)C(C)(C)[NH3+].[Cl-].[Si]', 'C[N+]1=C(C=CC=CC=C2N(CCCCCC(=O)C(C)(C)C)c3ccccc3C2(C)C)C(C)(C)c2ccccc21', 'CCOC(=O)N1CCN(c2cc(C)nc(NCc3ccc(CNCCCNC4CCCCC4)cc3)n2)CC1', 'CCOC(=O)/C(C)=C/[C@H](C(C)C)N(C)C(=O)[C@@H](NC(=O)[C@H]1CCCCN1C(=O)OC(C)(C)C)C(C)(C)C', 'CCCCOc1ccc2c3c1O[C@H]1C4(OC)CC[C@]5(C[C@@H]4[C@](C)(O)C(C)(C)C)[C@@H](C2)N(CC2CC2)CC[C@]315', 'CCCCCCCCCCCCCCCCCCCCC/C=C/C(=O)N(C)CCCS(=O)(=O)[O-].[Na+]', 'CCCN(CCC)CCCC(C(=O)O)N(C)Cc1ccc(CN(Cc2ncc[nH]2)C(C)c2ncc[nH]2)cc1', 'CCCCCCCCCCCCCCCCCCOc1ccc(C(=O)Nc2ccc(CC(=O)O)cc2)cc1', 'CCCCCCCCCCCCCCCC(=O)NCC(=O)N1CCC[C@H]1C(=O)N1CCC(O)[C@H]1C(=O)O', 'CCCN(CCC)CCCCN(CCO)C(=O)c1ccc(CN(Cc2ncc[nH]2)Cc2nccn2C)cc1', 'CCCCCCCCCCCCCCOc1ccc(C)cc1CN(C(C)=O)c1cccc(COC(C)=O)c1', 'CCOC(=O)C(C)=C[C@H](C(C)C)N(C)C(=O)[C@@H](NC(=O)C1CCCCN1C(=O)OC(C)(C)C)C(C)(C)C', 'CNC(=O)CCCOc1cccc(CCCC2CC3CC(=O)CC[C@]3(C)C3CC[C@@]4(C)C(CC[C@@H]4O)C23)c1', 'CCOC(=O)[C@]12CCC(C)(C)C[C@H]1[C@H]1C(=O)C[C@@H]3[C@@]4(C)Cc5cnoc5C(C)(C)[C@@H]4CC[C@@]3(C)[C@]1(C)CC2', '[C-]#[N+]C1(CCCCCCC)CCC(c2ccc(-c3ccc(OCC(F)C(F)CCCCC)cc3)cc2)CC1', 'C=C1C(=CC=C2CCC[C@]3(C)[C@@H]([C@H](C)C=C[C@@H](O)C4(C5=NCC(CCC)O5)CC4)CC[C@@H]23)C[C@@H](O)C[C@@H]1O', 'CCCCCCCC1CC/C=C\\\\CC(C(=O)NC)C[C@@H](C(=O)OCC)NC(=O)[C@H](CC(C)C)NC(=O)O1', 'CNC(=O)Cn1cc(C(C)(C)CCC(C)(C)c2cn(CCO)nc2C2CC2n2cc(C(C)(C)C)cn2)cn1', 'C=CCCC(CCCCCCC)OC(=O)N[C@@H](CC(C)C)C(=O)N[C@@H](CC(CC=C)C(=O)NC)C(=O)O', 'C=C1C(=CC=C2CCC[C@]3(C)[C@@H]([C@H](C)C=C[C@H](O)C4(C5=NCC(CCC)O5)CC4)CC[C@@H]23)C[C@@H](O)C[C@@H]1O', 'CCCCCCCCCCCCCCO[C@@H](CCCCC)C(C)(C)OC(=O)[C@H](C)NOP(=O)(O)O', 'CCOC1CC(NC(=O)CC2CCC(NC(=O)NC3CCCCC3C)CC2)CC(OCCCC(=O)O)C1', 'CC.CC.Cc1ccccc1/C1=C/C=C2/CCC[N+]3=C2/C(=C\\\\Oc2c1cc1c4c2CCCN4CCC1)CCC3', 'CC(=O)/C=C1/[C@@]2(C)C=C(C#N)C(=O)C(C)(C)C2CC[C@@]1(C)[C@@]1(C)CCCC(C)(C)CC[C@](C)(C(=O)O)CC1', 'Cc1ccc([C@H](F)c2c(C(C)C)nc3c(c2C2CCCC2)[C@@H](O[Si](C)(C)C(C)(C)C)CC(C)(C)C3)cc1', 'C=CC12C(C)CC(COC(=O)N(C)C)OC1C1C=CC13C1CCC4C(C)(C)C(O)CCC45CC15CCC23C', 'CCCCCCCCCCCCCCCCOC[C@H](COP(=O)([O-])OCC[N+](C)(C)C)OC(C)=O', 'C=C/C=C\\\\C(C)C(CC(N)=O)C(C)C(O)C(C)C/C(C)=C\\\\C(C)C(O)C(C)/C=C\\\\C(=O)Cc1ccccc1', 'C/C=C/N1C(C)(C)CC(C2CCC(c3ccc(-c4ccc(OCCCC)c(F)c4F)cc3)CC2)CC1(C)C', 'CC(C)Nc1cc(N)nc(N)n1.CC(C)c1cn(C)c2cnc(N)nc12.Cc1cc(NC(C)C)nc(N)n1', 'COC1CNCC(C2CCNC(NC3CC(NC(=O)C4CSC(C5CCCNC5)N4)CCC3C)N2)C1', 'CC(C)(C)NC(=O)N[C@H]([14C](=O)N1C[C@H]2[C@@H]([C@H]1C(=O)N[C@@H](CC1CCC1)[C@H](O)C(N)=O)C2(C)C)C(C)(C)C', 'COC(=O)[C@H]1CC[C@H]2[C@@H]3CC[C@H]4C[C@H](OC(=O)c5ccccc5)CC[C@]4(C)[C@H]3[C@H](NCCC(C)C)C[C@]12C', 'CCCCCCCCCc1ccc2cc(-c3ccc(CCCCCOCCCCC)cc3)nc(F)c2c1F', 'CCCOc1c(-c2ccccc2)n(-c2c(C(C)C)cccc2C(C)C)c[n+]1-c1c(C(C)C)cccc1C(C)C', 'C=C(C)C(=O)OCCCCCCCCCCCC.C=C[n+]1ccccc1.C=Cc1ccccc1.CC(=O)[O-]', 'C=C1CCC(O)(O)C/C1=C/C=C1\\\\CCC[C@]2(C)[C@@H]([C@H](C)CCCC(C)C)CC[C@@H]12.O=C(O)c1cccnc1', 'CC1C=C(C(=O)NCC(C)(C)COCC(C)(C)CNC(=O)CONC(=O)OC(C)(C)C)CCC1C1CC1', 'CCCCCCCCCCOCC(COP(=O)(O)OCCN)OC(=O)CCCCCCCCCC', 'CCOC(=O)/C(C)=C/C(C(C)C)N(C)C(=O)C(NC(=O)C1CCN(C(=O)OC(C)(C)C)CC1)C(C)(C)C', 'CC1(C)CCC2C(=O)C[C@@H]3[C@@]4(C)C=C(C#N)C(=O)C(C)(C)[C@@H]4CC[C@@]3(C)[C@]2(C)CC[C@@](C)(CC(=O)O)CC1', 'CO[C@H]1C[C@H]2[C@@H]([C@H](O)C[C@@H]3C[C@H](O)CC[C@@]32C)[C@@H]2CC[C@H]([C@H](C)CCC(=O)N3Cc4ccccc4C3)[C@@]12C', 'CCCCCCCCCCON=C1C2=C(C=C(OCC)C1c1ccc(C(=O)O)cc1)C(C)(C)CCC2(C)C', 'C=CC(C)(C)N1C(=O)[C@@H](C[C@@H]2CC[C@H]3[C@](C)(CC[C@H](O)C(C)(C)O)[C@@H](O)CC[C@]3(C)C2=C)c2ccccc21', 'C/N=C(/C=C\\\\N(C=O)c1ccc(CC(C)N2CC(C)[C@H](CN)C2)cc1)N1CCN(C(=O)C2(N)CCC2)CC1', 'C=CC(C)(C)N1C(=O)C(CC2CCC3C(C)(CCC(O)C3(C)CCC(O)C(C)(C)O)C2=C)c2ccccc21', 'CCCCCCCCCCCCCCCC(CCC[Si](OC)(OC)OC)CC(C)(C)[NH3+].[Cl-].[Si]', 'CCC[C@@H]1C[C@H](N(C)C(C)C)CC[C@@H]1N1CCC(NC(=O)c2cc(-c3nn[nH]n3)cc(C(C)(C)C)c2)C1=O', 'CC(C)=CCCC(C)=CCCC(C)=CCCC(C)=CCCC(C)=CC(=O)NCC(O)c1ccc(O)c(O)c1', 'CCC(CC)(c1ccc(CC(C)C(O)(CC)CC)c(C)c1)c1ccc(C(=O)N(C)C(C)(C)C(=O)O)c(C)c1', 'CNC(CCC(=O)NC(CCC(=O)NC(CCC(=O)C(C)C)C(=O)C(C)C)C(=O)C(C)C)C(=O)C(C)C', 'CC(C)(C)c1cc(-n2cnc(C(C)(C)C)c2)c2[nH]c3c(-n4cnc(C(C)(C)C)c4)cc(C(C)(C)C)cc3c2c1', 'CCCCCCCCCCOCC(C[N+](C)(C)CCO)OCCCCCCCCCC.[Br-]', 'C/C=C\\\\C(=C/c1ccc(/C2=N/NCCC(C)(N)CCC2C)[nH]1)N(CCCN(C)C#N)C(=O)C1CCOCC1', 'CC.CC[C@H](CNC(C)C)c1nnc(C2=C(CCNC(C)=O)C=CC=CC2)n1C1CC1.Fc1ccccc1', 'CC.CCC(CC)(c1ccc(/C=C/C(C)(O)C(C)(C)C)c(C)c1)c1ccc(C(=O)N(C)CC(=O)O)c(C)c1', 'CCCCOc1nc(N)c2[nH]c(=O)n(CCCN(CCCN3CCCCC3)Cc3cccc(CC)c3)c2n1', 'CC[C@@H]1CN(C)c2cnc(Nc3ccc(C(=O)NCC(C)(C)NC(C)C)cc3OC)nc2N1C1CCCC1', '[2H]C1C([2H])([2H])C([2H])([2H])C([2H])([2H])C([2H])([2H])C1([2H])c1ccc(-c2cccc3sc4ccccc4c23)c(-c2ccnnn2)c1C1([2H])C([2H])C([2H])([2H])C([2H])([2H])C([2H])([2H])C1([2H])[2H]', 'COCCCCOc1ccccc1C(=O)NCC(CC(N)C(O)CNC(=O)C(OC)C(C)(C)C)C(C)C', 'CCOC(=O)/C(C)=C/[C@H](C(C)C)N(C)C(=O)C(NC(=O)C1CCN(C(=O)OC(C)(C)C)CC1)C(C)(C)C', 'CC[C@]1(C)CC[C@]2(C)C3=CCC4C(=CC(=O)C(O)=C4C)[C@]3(C)CCC2(C)[C@@H]1C[C@H](C)C(=O)N1CCOCC1', 'CC1=CCC[C@@]2(C)[C@@H](CC[C@@]2(O)CN2CCOCC2)c2ccc(cc2C(=O)C2CCCCC2)C[C@@H](O)CC1', 'CC(C)(C)OC(=O)C[C@@H](CCCC1CCCCC1)C(=O)O/N=C(/N)C1CCCCN1C(=O)OC(C)(C)C', 'C#CC[C@H](c1c(NCc2ccc(-c3ccccc3)c(CCCCCC)c2)[nH]c2c(N)nn(C)c12)C(C)C(C)C', 'CC(C)=CCC[C@@]1(C)Oc2ccccc2[C@H]2O[C@H]3CCN(C(=O)O[C@@H]4C[C@H](C)CC[C@H]4C(C)C)C[C@@H]3C[C@@H]21', 'CCCCCN(Cc1nccc2c3ccccc3n(CCCC3CCNCC3)c12)C1CCCc2cccnc21', 'COC(=O)[C@@]1(C)CCC(C)(C)CCC2C(=O)C=C3[C@@]4(C)CC(C#N)=C(O)C(C)(C)[C@@H]4CC[C@@]3(C)[C@]2(C)CC1', 'C=C(c1ccccc1)c1ccc(CCC[Si](C)(O[Si](C)(C)C(C)(C)C)N(CCCC)CCCC)cc1', 'CCCCCCCCCCCCCCCCCC(=O)N[C@@H](CO)[C@@H](CCCCCCCCCCCCCCC)O', 'CCCCCCCCCCCCCCCC(CC)CC(=O)N(CCCC(CCC)CCCCCC)CC(O)CO', 'CCCCCCCCCCCCCCCCCC(=O)N[C@@H](CO)C[C@H](O)CCCCCCCCCCCCCC', 'CCCCCCCCCCCCCCCCC[C@@H](O)[C@H](CO)NC(=O)CCCCCCCCCCCCCCC', 'CCCCCCCCC(CCCCCCCC)OC(=O)CCCCCCCN(CCCO)CCCCCCCC', 'CC1CCN(C)C1.CN1CC=CC1.CN1CCC(O)C1.CN1CCCC1.CN1CCCCC1.CN1CCNCC1', 'CCCCCCCCCCCCCCC(CCCCCCCCCCCCCC)OC(=O)NCCCOC(C)C', 'CCCCCCCCCCCCCCCCCCCC(O)C(CO)NC(=O)CCCCCCCCCCCCC', 'CCCCCCCCCCCCCCCCC(C(N)=O)(C(C)O)C(O)CCCCCCCCCCCCCCC', 'CCCCCCCCCCCCCCCCCCC(O)C(CO)NC(=O)CCCCCCCCCCCCCC', 'CCCCCCCC/C=C\\\\CCCCCCCCN[C@@H](CO)[C@H](O)[C@H](O)CCCCCCCCCCCCCC', 'NCCCCN.NCCCCNCCCN.NCCCNCCCCNCCCN.NCCC[C@H](N)C(=O)O', 'CCCCCCCCCCCCCCCCCC(=O)O.CCCCCCCCCCCCCCCCCC(N)=O', 'C=C(C)CCCC(C)CCOC(C)(CC)C(C)(C)CCCC(C)CCOC(C)(N)C(C)(C)CCCC(C)CCO', 'CCCCCCCCCCCCCCCCN(CCO)CCOC(=O)CCCCCCCCCCCCCCC', 'CCCCCCCCCCCCCCCCCCCCCC(=O)NC(CO)C(O)CCCCCCCCCCC', 'CCCCCCCCCCCCCCCCCCCCCCCCCCCC(O)C(CO)NC(=O)CCCCC', 'CCCCCCCCCCCCCCCCn1c[n+](CCCCCCCCCCCCCCCC)c2ccccc21', 'CCCCCCCCC(CCCCCCCC)OC(=O)CCCCCCCN(CCO)CCCCCCC(C)C', 'CCCCCCCCCCCCCCCCCC[C@@H](O)[C@H](CO)NC(=O)CCCCCCCCCCCCCC', 'CCCCCCCCCCCCCCCCCC(CCCCCCCCCCCCCC)OC(=O)NCCCO', 'CCCCCCCCCCCCCCCCC(COCCO)NC(=O)CCCCCCCCCCCCCCC', 'CCCCCCCCCCCCCCCCOC[C@@H](OCCCCCCCCCCCCCCCC)C(=O)NC', 'CCCCCCCCC(CCCCCC)COCCCCCCCCN(CCCCO)CCCCCCCC=O', 'CCCCC/C=C\\\\C/C=C\\\\CCCCCCCCO.CCCCCCCCCCOCCN1CCCCC1.CO', 'CCCCCCCCCCCCCCCCCCNC(=O)CCCCCCCC(O)C(O)CCCCCCCC', 'CCCCCCCCCCCCCCCCN(CCOCCO)C(=O)CCCCCCCCCCCCCCC', 'CCCCCCCCCCCCCCCCC(CCO)C(=O)NC(O)CCCCCCCCCCCCCCC', 'CCCCCCCCC(O)CCCOC(=O)CC(CCCCC(CCCC)C(C)CCCCCC)N(CC)CC', 'CCCCCCCCN(CCO)CCCCCCCC(=O)OC(C)(CCCCCCCC)CCCCCCCC', 'CCCCCCCCCCC(CCCCCCCC)C(=O)OCCCCCCN(CCCCO)CCCCCC', 'CCCCCCCCCCCCCCCCC(CCO)(C(N)=O)C(O)CCCCCCCCCCCCCCC', 'CCCCCCCCCCCCCCCCCCCC(=O)OCCN(CCO)CCCCCCCCCCCC', 'CCCCCCCCCCCCCCCC(N)=O.CCCCCCCCCCCCCCCCCC(=O)OCC', 'CCCCCCCCCCCCCCCCCCCCCC(=O)N[C@@H](CO)[C@H](O)CCCCCCCCCCC', 'CCCCCCCCCCCCCCCCCCCCCCCCCCCC(=O)NC(CO)C(O)CCCCC', 'CCCCCCCCCCCCCCCCCCCCC(=O)NC(CO)C(O)CCCCCCCCCCCC', 'CCCCCCCCC(CCCCCC)COCCCCC(O)CN(CCCC)CCCCCC(=O)C(C)CC', 'CCCCCCCCCCCCCCCCCCCCCCCCCCCCOCCNCCCCCC(=O)O', 'CCCCCCCCCN(CCO)CCCCCCCC(=O)OC(CCCCCCCC)CCCCCCCC', 'C.CC(C)(C)C1C=CNC1C(C)(C)C.CC(C)(C)C1CCOC1C(C)(C)C.CC(C)(C)C1OCOC1C(C)(C)C', 'CCCCCCCCCCCCCCCCCCCCCCCCC(O)C(CO)NC(=O)CCCCCCCC', 'CCCCCCCCCCCCCCCCCC(=O)C(N)(O)CC(O)CCCCCCCCCCCCCCC', 'CCCCCCCCCCCCCCCCC(O)C(=O)N[C@@H](CO)CCCCCCCCCCCCCCCC', 'CCCCCCCCCCCCCCCCCC(=O)C(CO)C(O)CCCCCCCCCCCCCCCN', 'CCCCCC(CCCCC)CC(=O)OCCCCCCCCC(CCCCCCCCOC)CN(CC)CC', 'CCCCCCCCCCCCCCCCc1[nH]c2ccccc2[n+]1CCCCCCCCCCCCCCCC', 'CCCCCCCCCCCCCCCCCCCCCCCC(O)C(CO)NC(=O)CCCCCCCCC', 'CCCCCCCCCCCCCCC(CCCCCCCCCCCCCC)O/N=C(\\\\C)CCOCCOC', 'O=C(CCCCCCCCCCCCCCCCCCCCCCCCCCCCCCCCCCCO)NO', 'CCCCCCCCCCCCCCCCCCCCC(=O)N[C@@H](CO)[C@H](O)CCCCCCCCCCCC', 'CCCCCCCCCCCCCCCCCCCCCCCCCCC(O)C(CO)NC(=O)CCCCCC', 'CCCCCCCCCCCCCCN(CCCCCCCCCCCCCC)C(=O)CC(C)(C)OCCOC', 'CCCCCCCCCCCCCCCCN(CC(O)OCC)C(=O)CCCCCCCCCCCCCCC', 'CCCCCCCCCCCCCCCCCCCCCCCCCCCCCCCC(O)C(CO)NC(C)=O', 'CCCCCCCCC(CCCCCC)COC(=O)CCCCCCCN(CCCCO)CCCCCCCC', 'CCCCCCCCCCCCCCCCCC(=O)C(O)CC(O)CCCCCCCCCCCCCCCN', 'CCCCCCCCCCCCCCCCCCC(=O)N[C@@H](CO)[C@H](O)CCCCCCCCCCCC(C)C', 'CCCCCCCCCCCCCCCCCCC(=O)NC(CO)C(O)CCCCCCCCCCCCCC', 'CCCCCCCCCCCCCCCCCC(=O)N(CCO)CCCCCCCCCCCCCCCCO', 'CCCCCCCCCCCCCCCCCCCCCCCCCC(=O)NC(CO)C(O)CCCCCCC', 'CC(C)COC(C)C.CC(C)COC(C)C.CC(C)N(C)C(C)C.CC(C)OC(C)C.CC(C)SC(C)C', 'CCCCCCCCCCCCCCC(CCCCCCCCCCCCCC)O/N=C(/C)CCOCCOC', 'CCCCCCCCCCCCC(O)CNCCCCCC(=O)OCC(CCCCCC)CCCCCCCC', 'CCCCCCCCCCCCCCCCCC(O)C(CO)NC(=O)CCCCCCCCCCCCCCC', 'CCCCCCCCCCCCC(CCC(O)CCC(=O)O)C(CCCC)CCC(CCCCC)N(CC)CC', 'CCCCCCCCCCCCCCCCCCCCCCCCCCCCCCC(O)CCC(O)CC(N)=O', 'CCCCCCCC/C=C\\\\CCCCCCCCONC(CO)C(O)CCCCCCCCCCCCCCC', 'CCCCCCCCCCCCCCCCCCCCCC(O)C(CO)NC(=O)CCCCCCCCCCC', 'CCCCCCCCCCCCCCCCCCCCC(O)C[N+](C)(C)CCCCCCCCCCCC(=O)[O-]', 'CCCCCCCCCCCCCCCC(=O)OCCCC.CCCCCCCCCCCCCCCC(N)=O', 'CCCCCCCCCCCCCCCCN(C(=O)CCCCCCCCCCCCCCC)C(C)OCCO', 'CC1(C)CC1.CC1(C)CCO1.CC1(C)CCO1.CC1(C)COC1.CC1CC(C)C1.CC1CC1C.CC1CN(C)C1', 'CCCCCCCCCCCCCCC(CCCCCCCCCCCCCC)CNC(=O)CCOCCOC', 'CCCCCCCCCCCCCCCCOCC(O)CN(C)C(=O)CCCCCCCCCCCCCCC', 'CCCCCCCCC(CCCCCCCC)OC(=O)CCCCCCC(C)N(CCO)CCCCCCCC', 'CCCCCCCCCCCCCCCCCCCCC(O)C(CO)NC(=O)CCCCCCCCCCCC', 'CCCCCCCCCCCCCCN(CCO)CCCCCCCC(=O)OC(CCCCC)CCCCCC', 'CCCCCCCCCCCCCCCCCCCCCCCCCCCCCCC(O)C(CO)NC(=O)CC', 'CCCCCCCCCCCCCCCCCC(=O)N(CCO)C(O)CCCCCCCCCCCCCCC', 'CCCCCCCCCCCCCCCCC(O)CN(CCO)C(=O)CCCCCCCCCCCCCCC', 'CCCCCCCCCCCCCCCCCCCCCCC(=O)NC(CO)C(O)CCCCCCCCCC', 'CCCCCCCCCCCC(=O)NCC.CCCCCCCCCCCCCCCC(=O)OCCCCCC', 'CCCCCCCCCCCCCCCCCCCCCCC(O)C(CO)NC(=O)CCCCCCCCCC', 'CCCCCCCCCCCCCCCCCC(=O)N(CCO)CC(O)CCCCCCCCCCCCCC', 'C=CC(=O)C(C)C.C=CC(=O)C(C)C.CC(C)NC(C)C.CC(C)OC(C)C.CC=CC(C)C.CC=CC(C)C', 'CCCCCCCCCCCCCCCCCC(=O)[C@@H](CO)[C@H](O)CCCCCCCCCCCCCCCN', 'C=C/C=C(\\\\C=C/NCCCCCCCCCCCC[N+]1=CCC(CCCCCCCC)C=C1)CCCCCCCC', 'CCCCCCCCCCCCCCCCCC(=O)NCCCCCCCCCCCCCCCC(O)CCO', 'CCCCCCCCCCCCCCCCCC(=O)[C@H](C(N)O)[C@H](O)CCCCCCCCCCCCCCC', 'CCCCCCCCCCCCCCCC(=O)OCCOC(C)C(CN)CCCCCCCCCCCCCC', 'CCCCCCCCCCCCCCCCCC(=O)NC(O)C[C@H](O)CCCCCCCCCCCCCCC', 'CCCCCCCCCOCCCCCCCCN(CC)CCCCCCCC(=O)OCCCCCCCCC', 'CCCCCCCCCCCCCCCCN1C(CCCCCCCCCCCCCCC)OCC1(CO)CO', 'CCCCCCCCCCCCCCCCCCCCCCCCC(=O)NC(CO)C(O)CCCCCCCC', 'CCCCCCCCCN(CCCO)CCCCCCCC(=O)OC(CCCCCCC)CCCCCCCC', 'CCCCCCCCCCCCCCC(CCCCCCCCCCCCCC)C(=O)NCCCOCCOC', 'CCC(C)(OCCC(C)CCC=C(C)C)C(C)(C)CCCC(C)CCOC(C)(N)C(C)(C)CCCC(C)CCO', 'CCCCCCCCCCCCCCCCCC(=O)NC(O)CC(O)CCCCCCCCCCCCCCC', 'CCCCCCCCCCCCCCN(CCCCCCCCCCCCCC)C(=O)COC(C)(C)COCC', 'CCCCCCCCCCCCCCCCCCCC(=O)N[C@@H](CO)[C@H](O)CCCCCCCCCCCCC', 'CCCCCCCCCCCCCCCCCCC(=O)N[C@@H](CO)[C@H](O)CCCCCCCCCCCCCC', 'CCCCCCCCCCCCCCCC[N+]1(CCCCCCCCCCCCCCCC)C=Nc2ccccc21', 'CCCCCCCCCCCCCCCCC(=O)NC(CO)C(O)CCCCCCCCCCCCCCCC', 'CCCCCCCCCCCCCCCC(=O)C(C)C(=O)CCCCCCCCCCCCCCC.CCNO', 'CCCCCCCCCCCCCCCCN(CCCCCCCCCCCCCCCC)C(=O)COCCO', 'CCCCCCCCCCCCCCCCCCN(CCO)C(=O)C(O)CCCCCCCCCCCCCC', 'CCCCCCCCCCCCCCCCC(CCCCCCCCCCCCCCC)OC(=O)NCCCO', 'CCCCCCCCCCCCCCCCCCCC(CCCCCCCCCC)OC(=O)OCCCN(C)C', 'CCCCCCCCCCCCCCN(CCCCCCCCCCCC)C(=O)CC(C)(C)OCC(C)(C)OC', 'C=C(CCCCCCCN(CCO)CCCCCCCOCCCCCCCCC)OC(CCCC)CCCC', 'CCCCCCCCCCCCCCCCCCCCCCCCCCCCCC(O)C(CO)NC(=O)CCC', 'CCCCCCCCCCCCCCCCCCCCCCCC(=O)NC(CO)C(O)CCCCCCCCC', 'CCCCCCCCC(CCCCCCCC)C(=O)OCCCCCCCN(CCO)CCCCCCC(C)C', 'C=C(N)NCCC[C@H](N)C(=O)NC1CCN(C(C)(C)C)CC1.CC1CCN(C(C)(C)C)CC1.CN(C)C(C)(C)C', 'CCCCCCCCCCCCCCCCCCCCCCCCCCC(=O)NC(CO)C(O)CCCCCC', 'CCCCCCCCCCCCCCCCCCCC(=O)NC(CO)C(O)CCCCCCCCCCCCC', 'CCCCCCCCCCCCCCCCCCCCCCCCCC(O)C(CO)NC(=O)CCCCCCC', 'CCCCCCCCCCCCCCCCCCCCCCCCCCCCC(O)C(CO)NC(=O)CCCC', 'CCCCCCCCCCCCCCCCC(=O)N[C@@H](CO)[C@H](O)CCCCCCCCCCCCCCCC', 'CC.CCCCCCCCCCCCC/C=C/[C@@H](O)[C@H](CO)NC(=O)CCCCCCCCCCCCCCC', 'CCCCCCCCCCCCCCCCCCC[C@@H](O)[C@H](CO)NC(=O)CCCCCCCCCCCCC', 'CCCCCCCCCCCCCCCCC(CO)NC(=O)C(O)CCCCCCCCCCCCCCCC', 'CCCCCCCCCCCCCCCCCC(=O)NCCCCCCCCC(O)C(O)CCCCCCCC', 'CCCCCCCCCCCCCCCCCC(=O)NC(O)(O)CCCCCCCCCCCCCCCCC', 'CCCCCCCCCCCCCCCCCC(=O)OCC(N)C(O)CCCCCCCCCCCCCCC', 'CN1C=NC2=C1C(=O)N(C(=O)N2C)C', 'CCOC(=O)C1CNCCN1.Cl', 'COc1cc(N)c(N=[N+]=[N-])cc1OC', 'CO[C@H]1O[C@H]([C@H](O)CO)[C@@H](O)[C@H]1O', 'C#CCNc1nn(C)c(=O)n(C)c1=O', 'C/N=C(\\\\N)Nc1ccc([N+](=O)[O-])cc1', 'COO[C@H](CO)[C@H]1OC[C@H](O)[C@H]1O', 'COC1O[C@H](CO)[C@@H](O)[C@H](O)[C@@H]1O', 'CO[C@@H]1O[C@H](C(O)CO)[C@@H](O)[C@H]1O', 'N#Cc1cnn(CCC(N)C(=O)O)c1', 'CC(=O)/C=C/c1c(N)nc(N)[nH]c1=O', 'COC1(O)CCCC(O)(O)C1(O)O', 'C=CC.COC(=O)OC.O=C(O)O', 'Cn1cncc1C1NCC(=O)NC1=O', '[H]/N=C(\\\\O/C(C)=N/[H])c1ccc(ON)cn1', 'O=C([O-])NC(CO)Cc1ccccc1', 'COCC1OC(O)(CO)C(O)C1O', 'COC1OC(CO)[C@@H](O)C(O)[C@@H]1O', 'COC1C(O)C(CO)OC1(O)CO', 'CC(=O)Nc1ccnc(NC(C)=O)n1', 'CC1(O)[C@H](O)[C@H](O)C(O)[C@H](O)[C@H]1O', 'C=[NH+]C1=C([NH+]=C)C(=O)C(N)=C(N)C1=O', 'N/N=N/CCc1ccc([N+](=O)[O-])cc1', 'Cc1nc2c(=O)[nH]c(=O)n(C)c2n1C', 'Cn1c(=O)c2cn(N)cc2n(C)c1=O', 'NC(=O)CNC(=O)c1ccc(N)cn1', 'CNCc1nnc(-c2cnoc2C)o1', 'COC1[C@@H](O)[C@H](O)C(CO)O[C@@H]1O', 'Cn1cc(N[C@H]2CC(=O)NC2=O)cn1', 'CO[C@@H]1O[C@@H]([C@H](O)CO)[C@H](O)[C@@H]1O', 'CCCCCCCC(S)OS', 'OCC1COC(O)C(O)C(O)C1O', 'CCCC(=O)CCOP(N)(N)=O', 'CCn1nc(C)c2[nH]c(=O)[nH]c(=O)c21', 'O=C1OCCO1.OCCOCCO', 'CNC(=O)CC1CNCC1O.Cl', 'Cc1cc(N2CC(=O)NC2=O)nn1C', 'C[SiH](C)OCCOO[SiH](C)C', 'CCc1nn(CC(=O)O)c(N)c1C#N', 'COC1(O)COC(O)(CO)CC1O', 'N#CCCCn1cc(N)c(C(=O)O)n1', 'CC(C)N(Oc1ccccc1)C(=O)[O-]', 'Cc1nc2n[nH]c(C(C)O)c2c(=O)[nH]1', 'CO[C@H](CO)[C@@H](O)[C@H](O)[C@@H](O)C=O', 'C#CCNc1c([N+](=O)[O-])c(C)nn1C', 'C=CCNc1c(N)cncc1[N+](=O)[O-]', 'Cc1cc(-c2nc(C(C)N)no2)on1', 'CO[C@H]1OC[C@@H](O)C(O)(O)[C@@]1(C)O', 'CC(O)[C@H](O)C(=O)[C@@H](O)[C@H](O)CO', 'CC(C)[C@H]1C(=O)N2C=C(C(=O)[O-])C[C@H]12', 'Cc1c([C@H]2NC(=O)NC2=O)cnn1C', 'CC(C)(C(=O)O)C(O)C(=O)O.CO', 'CC1(O)[C@H](O)[C@H](O)C(O)[C@H](O)[C@@H]1O', 'CON(C)C(=O)[C@@H]1CCC[NH2+]1.[Cl-]', 'CO[C@@H]([C@H](O)[C@H](O)CO)[C@@H](O)C=O', 'CCC1CN(NP(O)O)CCO1', 'C=CSCC.CCSCCO', 'Cc1c(CCO)c(=O)[nH]c2ncnn12', 'CCn1c(=O)n(C)c(=O)n2nccc12', 'CNCc1noc(-c2cc(C)on2)n1', 'CCCCCCOSSCC', 'Cl.NC(=O)C(O)C1CCNCC1', 'O=C[C@@H](O)[C@H](O)[C@H](O)C[C@H](O)CO', 'CC1OC(CO)C(O)(O)C(O)C1O', 'CO.O=C(n1ccnc1)n1ccnc1', '[H]/N=C(\\\\NC(C)=O)c1ccnn1C(C)=O', 'C[C@@](O)(CO)[C@H]1O[C@@H](O)[C@H](O)[C@H]1O', 'COC1[C@@H](O)C(O)C(O)[C@@H](O)[C@@H]1O', 'CO[C@@H]1O[C@H](CO)C(O)[C@H](O)[C@@H]1O', 'OCC1(O)CC(O)C(O)C(O)C1O', 'CCCCOS(=S)CCCC', 'CC1CC(N)CN(C(=O)O)C1.Cl', 'OCC[C@H]1O[C@@H](O)[C@@H](O)[C@H](O)[C@H]1O', 'C[C@H]1O[C@H](O)[C@](O)(CO)[C@@H](O)[C@@H]1O', 'Cn1nccc1C1(C)NC(=O)NC1=O', 'CCCCS(=S)OCC(C)C', 'CC(=O)N1CCCn2nnc(C=O)c21', 'CCOc1ccc(CNC(=O)[O-])cc1', 'CCO[Si](C)(CCS)OCC', '[N-]=[N+]=CC(=O)CCCCC(=O)C=[N+]=[N-]', 'CC1C/C(=C/Nc2ncn[nH]2)C(=O)O1', 'OC[C@@H]1C[C@@H](O)[C@H](O)[C@](O)(CO)O1', 'CO[C@@H]1O[C@@H]([C@H](O)CO)[C@@H](O)[C@H]1O', 'Cc1ccc(OC(C)c2nn[nH]n2)o1', 'CN(C=O)CP(=O)([O-])C[NH+](C)C', 'C/N=C(\\\\N)c1cc([N+](=O)[O-])ccc1N', 'COCC(=O)[C@@H](O)[C@H](O)[C@H](O)CO', 'O=C(O)CCCc1nc2[nH]ncc2[nH]1', 'OCC1CC(O)(CO)C(O)C(O)O1', 'CCn1cnc2[nH]c(=O)n(C)c(=O)c21', 'Nc1[nH]ncc1CN1C(=O)CCC1=O', 'NCc1cn[nH]c1N1C(=O)CCC1=O', 'N#CC(NCCC(=O)O)c1cnc[nH]1', 'O=C(O)CCC(CO)OCCOO', 'CN(CCO)c1ccc(C(=O)[O-])cc1', 'NC(=O)C1CN(C(=O)n2ccnc2)C1', 'C[C@@H](O)[C@H](O)[C@@H](O)[C@@H](O)C(=O)CO', 'CCO[Si](C)(OCC)C(C)S', 'N#Cc1nccc(NC(CO)CO)n1', 'NC(=O)CNC(=O)c1cccc(N)n1', 'O=C1CC(NCc2cn[nH]c2)C(=O)N1', 'COc1nc(N)nc2c1CCC(=O)N2', 'NC(=O)C1C2C=CC(CC2)C1C(=O)[O-]', 'CCCO[SiH](O[SiH3])OCCC', 'CC(O)Cn1nc2cnccn2c1=O', 'CN(CC(O)c1ccccc1)C(=O)[O-]', 'NNC(=O)N/N=C\\\\c1ccccc1O', 'C[C@H](CC(N)=O)C(C#N)(C#N)C(N)=O', 'Nc1cc(N2CC(O)CC2=O)ncn1', 'NNC(N)c1ccc2[nH]c(=O)oc2c1', 'Cc1noc(NCc2conc2C)n1', 'C[C@]1(O)C(O)O[C@H](CO)[C@@H](O)[C@@H]1O', 'CO[C@H]1[C@H](O)[C@@H](O)[C@H](O)O[C@@H]1CO', 'CNC(=O)C1(N)CCOCC1.Cl', 'Cl.N[C@H]1CCCN(CCO)C1=O', 'CC(C)[SiH](O)O[SiH](O)C(C)C', 'OCC[C@H]1O[C@H](O)[C@@H](O)[C@H](O)[C@H]1O', 'Cc1nc2c(=O)n(C)c(=O)[nH]c2n1C', 'CC(C)n1cc(-c2noc(=O)[nH]2)cn1', 'CCC(C(=O)O)c1[nH]nc(N)c1C#N', 'CCCOc1cc(N)ccc1C(=O)[O-]', 'OC[C@H]1OCOC(CO)(CO)C1O', 'CC(C)Oc1ccc(NC(=O)[O-])cc1', 'C[C@@]1(O)O[C@@H]([C@H](O)CO)[C@@H](O)[C@@H]1O', 'NC(=O)C1CCN(c2ccn[nH]2)C1=O', 'CNC(=O)c1ncccc1C(=O)NN', 'CCCO[Si](C)(O)CCCS', 'CO/C(C#N)=C\\\\[C@@H]1[C@@H](C(=O)[O-])C1(C)C', 'C#CCNCC(=O)Nc1nnc(C)o1', 'C[C@]1(O)[C@H](O)[C@@H](CO)O[C@H](O)[C@@H]1O', 'NC(=O)Nc1ccc(C(N)=NO)cc1', 'COC(=O)/C(C)=N/Nc1cnccn1', 'CC1C(C#N)C(=O)N=C(N)C1C(N)=O', 'Cl.NCC(=O)NC1CCOCC1', 'N/N=C(/N)NC(=O)c1ccccc1O', '[H]/N=C1\\\\C=C(C)C(OC)=CC1=C([O-])OC', 'CC[C@@H](Oc1ccc(N)cc1)C(=O)[O-]', 'N/C(=N/N=Cc1ccccc1O)NO', 'O=C(O)C1CNNC1c1cnccn1', 'N#CCN(CC#N)C(C#N)(CO)CO', 'COC(=O)c1nc(N)nc2c1CNC2', 'CCCn1ncc2c(=O)[nH]c(=O)[nH]c21', 'CN(C(=O)O)C1(C)CCNC1.Cl', 'C[C@]1(O)O[C@H](CO)[C@@H](O)[C@H](O)[C@@H]1O', 'CCOC(=O)Cc1ccc([NH+]=O)cc1', 'CCC(C)SSCOC(C)C', 'CO[C@H]([C@H](O)CO)[C@H](O)C(=O)CO', 'Cc1nc(N)c(C#N)c(OCCO)n1', 'CC(C)(C)SS(=O)C(C)(C)C', 'COC1OC(CO)[C@@H](O)[C@H](O)C1O', 'CO[C@@H]1OC[C@@H](O)[C@@H](O)[C@H](O)[C@H]1O', 'Cn1cc([C@@]2(C)NC(=O)NC2=O)cn1', 'CC(O)=C(O)C(O)C(O)C(O)CO', 'COC1(CO)OCC(O)C(O)C1O', 'Cc1nc(C)n(-c2nc(CO)co2)n1', 'O=C(O)C1CC(c2ccncn2)NN1', 'NNC(=O)CC#CC#CCC(=O)NN', 'CC(C)(C)SSCCCCO', 'CCCCSOSCCCC', 'Cn1cncc1CN1CC(=O)NC1=O', 'COc1cccc(/C=N/CC[O-])c1O', 'NC(N)=N/N=C\\\\c1cccc(O)c1O', 'NCCNCC1COC(CCl)O1', 'COC1[C@H](O)[C@H](O)C(O)[C@H](O)[C@H]1O', 'CCSCCCCSCCO', 'NC(=O)N(C(N)=O)c1ccc(N)cc1', 'COc1ccc(CC(N)C(=O)[O-])cc1', 'N/N=C\\\\N(N)c1ccccc1C(=O)O', 'O=C(O)C1CC(c2cncnc2)NN1', 'O=C(O)CCCO.O=C(O)CCO', 'Cc1cc(-c2nc(C(C)N)no2)no1', 'CCn1c(=O)[nH]c2n[nH]c(C)c2c1=O', 'C=C1C=C([N+](=O)[O-])C=C/C1=[O+]\\\\C(C)C', 'CO[C@H]1O[C@H](CO)[C@@H](O)[C@H](O)[C@H]1O', 'COC(=O)CC(=O)c1ccc[n+](C)c1', 'Nc1cncnc1N1CC(O)CC1=O', 'NC(=O)NN=Cc1ncccc1CO', '[H]/N=C1/Cc2c([nH]c(=O)[nH]c2=O)C(N)C1', 'C[SiH](O)CCCO[SiH](C)CO', 'CO[C@](O)([C@@H](O)C=O)[C@@H](O)[C@H](C)O', 'CC#CCCn1ncc([N+](=O)[O-])c1N', 'CN(C)C(=O)[C@@H]1C[C@@H](O)CN1.Cl', 'Cn1cc(C[C@H](N)C(=O)O)c(C#N)n1', 'CC(C)(C#N)Cn1cnc(C(=O)O)n1', 'CNC(=O)[C@@H]1CC[C@@H](N)CO1.Cl', 'Cl.NC1CCN(C(=O)CO)CC1', 'COc1ccc(C2(N)NN=CO2)cn1', 'COc1nc(OC)c2c(ncn2C)n1', 'CO[Si](C)(C)O[Si](C)(C)CO', 'COC(C)(C)CCOOOC(=O)O', 'CO[Si](C)(OC)O[Si](C)(C)C', 'CCc1c([N+](=O)[O-])ncn1CCC#N', 'Cc1nc2c(=O)[nH]cnc2n1CCO', 'C=[O+]c1cccc(CC(N)C(=O)O)c1', 'CSCCCSC(C)C(C)O', '[H]/N=C(\\\\N)c1cccc(NC(=O)OC)n1', 'CC(=O)Nc1ccc(/C(N)=N/O)cn1', 'CCOC(=O)C1(NN)CCC1.Cl', 'CCNc1cc(OC)ccc1C(=O)[O-]', 'Cn1ncnc1CN1CCC(=O)C1=O', 'Cc1coc(NCCc2ncno2)n1', 'CCC(=O)OC(OCCO)C(O)O', 'C#CCNC(=O)CNc1nnc(C)o1', 'CC(C)OCSSC(C)(C)C', 'CO[C@@]1(CO)OC[C@@H](O)[C@@H](O)[C@H]1O', '[H]/N=C(\\\\N)c1ccnnc1OC1COC1', 'CNC(=O)Nc1cnccc1C(N)=O', 'CO[C@@H]1[C@H](O)CO[C@@](O)(CO)[C@H]1O', 'CCC(C)OS(=S)C(C)CC', 'Cc1nc2nc(CCC(=O)O)cn2[nH]1', 'O=COCC(CO)OCC(O)CO', 'Cn1c(=O)c2c(ccn2N)n(C)c1=O', 'O=C([O-])C(CO)NCc1ccccc1', '[2H]C(=O)N[C@@H](Cc1ccccc1)C(=O)O', 'CCCCCC[Si]1=C[Si]=CN=C1', 'Cc1cc(NC(=O)C2=NCCN2)no1', 'OCC1OC(O)[C@@H](O)C(O)C1CO', 'N/N=C/CNOC(=O)c1cccnc1', 'CC(N)CCC(N)(CCl)C(=O)O', 'C/[N+]([O-])=N/Nc1ccc(C(N)=O)cc1', 'Nc1nonc1C(=O)NC1CC=CC1', 'CCC(CS)CSCCOC', 'Cc1ncc(-c2nc(CCN)no2)o1', 'NC(NO)c1ccc2[nH]c(=O)[nH]c2c1', 'CCOc1nc2nc(C)[nH]c(=O)c2[nH]1', 'CNc1ccc(NC)c(N=O)c1N=O', 'COO[Si](C)(C)O[Si](C)(C)C', 'COC1[C@@H](O)[C@H](O)C(O)[C@@H](O)[C@H]1O', 'CC(=O)Nc1cc(C(N)=NO)ccn1', 'OC[C@@H](O)[C@H]1OC[C@H](O)[C@H](O)[C@@H]1O', 'CO[C@H]1O[C@H]([C@H](O)CO)[C@@H](O)[C@@H]1O', 'CC(C(=O)C=C=[N-])N(C#N)C(=O)C[NH3+]', 'COc1nc(OC)c2ncn(C)c2n1', 'CCn1c(=O)[nH]c(=O)c2cnn(C)c21', 'NC(=O)NNC(=O)c1ccc(N)cc1', 'C[C@@]1(O)[C@H](O)[C@@H](O)[C@@H](O)O[C@@H]1CO', 'CC(=O)ON1NNC2=C1CN=CC=C2', 'CCOc1nc(N)nc2c1C(=O)NC2', 'COCCn1cc(-c2ncno2)cn1', 'O=C([O-])NCCc1ccc(CO)cc1', 'CC(=O)Oc1ccc([NH3+])cc1C(C)=O', 'CC(CC(=O)O)c1[nH]nc(N)c1C#N', 'CC(C(O)C(=O)O)C(O)C(O)CO', 'NC1CC1Nc1cc([N+](=O)[O-])ccn1', 'OCCC1(O)O[C@H](CO)[C@@H](O)[C@@H]1O', 'O=C1CC(CO)CN1c1nccnn1', 'CCOC(=O)O.CCOC(=O)OC', 'C=CC(C)C.O=C(O)O.O=C(O)O', 'O=[N+]([O-])c1cccnc1NC1CNC1', 'Nc1ccc(C(=O)N2CC(O)C2)nn1', 'NCC(COC(=O)[O-])c1ccccc1', 'CCOC(=O)/C=C(/N)N(C)C.Cl', 'NC(=O)Cc1ccnnc1CC(N)=O', 'C/C(N)=N/Nc1ccccc1[N+](=O)[O-]', 'C=C.CC(C)[O-].CC(C)[O-].[Ti+2]', 'CCOC(=O)C(=O)OC.OCCO', 'CCCCCCC(C(=O)O)O', 'C[SiH2]CCCC[SiH](C)C', 'COCCOC1CCCC1O', 'C1CCCCC1.O=C(O)CO', 'CCC[C@@H]1OOO[C@H]1CCC', 'CC1O[C@H]1CCCOCCO', 'CO[C@@H](O)CC(=O)C(C)(C)C', 'OCCC[C@H]1OCCC[C@@H]1O', 'CCC(OC)OC(=O)C(C)C', 'CC(C)[C@H](C)C(=O)OCCO', 'CCOCC1(COCC)CO1', 'CCCCOCC1COCO1', 'CC[C@H](O)/C=C/C(OC)OC', 'CCC(C)(OC=O)OC(C)C', 'CCC1CC(O)C(O)[C@H](O)C1', 'CO.COC[C@@H]1C=C[C@H](C)O1', 'C1CO1.CC1CO1.CC1CO1', 'CCOC(C=O)(CO)C(C)C', 'CCCCCCC1OC1OO', 'CCCOC(=O)[C@@H](C)[C@H](C)O', 'COCC1(OC)CCOCC1', 'CC1(C(CO)(CO)CO)CC1', 'C=CCOCC(O)COCC', 'C1CCOC1.CCC(=O)OC', 'CC1OC(O)C(C)C(O)C1C', 'C=COCCOCCCOC', 'CC1OC(O)C(C)C(C)C1O', 'CCOC1(OCC)CC[C@@H]1O', 'CC(=O)C(CO)CCCCO', 'CCOC(=O)C(CO)C(C)C', 'CCOC(OC(C)=O)C(C)C', 'CCOC(C)C(C)(O)C(C)=O', 'CC(C)(C)COCCOC=O', 'COC(=O)C(C)(C)OC(C)C', 'C=CCC(O)COCCOC', 'CCCCCCOCOC=O', 'CC[C@@H](C)[C@H](C)[C@@H](O)C(=O)O', 'COC(C)(OC)OC1CCC1', 'CCO[C@@H]1C[C@H](O)C[C@H](C)O1', 'CC.CC1(C)OC[C@@H](C=O)O1', 'C[C@H](O)[C@](C)(/C=C/CO)CO', 'CCOC(=O)[C@H](OC)C(C)C', 'CCCC(C)CC(O)C(=O)O', 'CO[C@@H]1CO[C@@H](C)[C@H](O)[C@H]1C', 'C=CCC(O)C(C)OCOC', 'CCCOC(=O)OCC(C)C', 'CC[C@H](C)[C@H](C)[C@@H](O)C(=O)O', 'CCC(=O)OC(C)(C)CCO', 'C=CC(C)(C)O.CCC(=O)O', 'CCOC(=O)C(C)CCOC', 'CC[C@H]1O[C@H](OC)[C@H](O)[C@@H]1C', 'COC(C)C(C)C(C)C(=O)O', 'CCCC(=O)OCC(C)CO', 'CC(CO)COC1CCOC1', 'CCCCCCC1COOO1', 'CCC[C@H](C[C@H](C)O)C(=O)O', 'COC1CCCCOC1OC', 'CC(C)(O)C1CC(O)CCO1', 'CCOCCC(=O)OC(C)C', 'CCC(CC)[C@H](O)C(=O)OC', 'CC1CC(C)[C@@H](C(O)CO)O1', 'CC(C)CC(O)OCC1CO1', 'COC1CCC(C(O)O)CC1', 'C=COC(CC)COCCO', 'COCCO[C@H]1CC[C@H](O)C1', 'COC(=O)CC(OC)C(C)C', 'CC(C)C(C(O)O)C1COC1', 'CCC(=O)COCCCOC', 'CO[C@]1(C)CCOC(C)[C@H]1O', 'CC(O)C1CCOC(C)(C)O1', 'CC(C)CC1OC(O)CC1O', 'CCOC=C(C(C)O)C(C)O', 'COCCCC1COCC1O', 'CC(C)CC(C)(O)CC(=O)O', 'CC(=O)[C@H](O)[C@@H](O)C(C)(C)C', 'CC(O)C1COCCC1(C)O', 'COC1(OC)CC(O)C1(C)C', 'CO[C@@H]1C(O)C[C@H](C)OC1C', 'C1COCO1.CC1CCCO1', 'OCCCCCC(O)C1CO1', 'CC(O)C1CC(O)CCC1O', 'CCC(=O)OC[C@@H](C)COC', 'CCC1OCC(C)[C@@H](O)[C@H]1O', 'CC1OC(C)[C@@H](C)C(O)C1O', 'C=C=O.CCOC(C)OCC', 'COC(=O)C[C@@H](O)CC(C)C', 'CCO[C@@H]1CC[C@@H](C)OC1O', 'COC1(OC)CCCC[C@H]1O', 'CCC(C)COCCOC=O', 'CCOCC(O)CCC(C)=O', 'C=C(C)C(=O)O.CC(C)(C)O', 'CCC[C@H](O)CC(=O)OCC', 'CC(O)C(C)CCCC(=O)O', 'CCC1OC(C)(C)OC1CO', 'CC(C)C[C@@H]1C[C@](C)(O)OO1', 'CCC(=O)OC(C)C(O)CC', 'CC(=O)OCCCCCCO', 'COCOCCC=CCCO', 'CCO[C@@H]1CCO[C@H](C)OC1', 'CC(C)/C(OC(C)(C)C)=[O+]\\\\[O-]', 'CCC1(C(CO)OC)COC1', 'C=O.CC(=O)CCCCCO', 'COCC(CCC(C)=O)OC', 'COCC(O)C(=O)C(C)(C)C', 'C=CCOC(O)(O)CCCC', 'CCC(C)(O)C(C)C.O=C=O', 'CO[C@@H]1O[C@H](C)C[C@H](O)[C@H]1C', 'CC(=O)O[C@H](CO)CC(C)C', 'C=CCO/C=C/C.OCCO', 'CCOCC(O)C1CCCO1', 'CC1(C)OCC[C@H](CCO)O1', 'CCC(CC=O)C(OC)OC', 'COCC(COC)CC(C)=O', 'CCCCOC[C@@H]1O[C@@H]1CO', 'CCCCO[C@@H]1OCC[C@H]1O', 'COCC(C)C(=O)OC(C)C', 'CCC1(C)CC(O)OCC1O', 'CCOCCO[C@H](C)CC=O', 'OC1CCCCC(O)C(O)C1', 'CCC[C@H](O)C(C)(C)C(=O)O', 'CCO[C@@H](C)COC(=O)CC', 'C[C@H](O)COC1CCOCC1', 'C=CCC(C)(OC)C(O)OC', 'CC(CCO)CC1OCCO1', 'CC[C@H](C[C@@H](C)O)OC(C)=O', 'CC1(C)OC[C@@H](CCCO)O1', 'OCCCOC1CCCOC1', 'COCC1COC(C)(C)OC1', 'OC/C=C/C(CO)CCCO', 'C.C.OC1=C(O)C(O)CC=C1', 'CCC1(C)OCC(COC)O1', 'CCOCCCCOC(C)=O', 'CO.O=C(O)C1CCCCC1', 'C[C@H](O)COC[C@H]1CCCO1', 'CC(O)C(CO)(CO)C1CC1', 'CO[C@H]1OC[C@@H](C)C(C)[C@@H]1O', 'CC(CCO)CCCC(=O)O', 'CCO[C@H]1CC[C@@H](OCC)O1', 'COC(=O)[C@H](O)CC(C)(C)C', 'CC.COC(=O)C1CCCO1', 'COC(=O)C[C@@H](C)CCCO', 'CC(C)[C@@]1(O)CC(O)CCO1', 'OCCCCO[C@H]1CCCO1', 'CCOCC(=O)C(O)C(C)C', 'CC(C)C(OC=O)C(C)CO', 'CC(=O)OCCCOC(C)C', 'CC(O)[C@H]1OC(C)(C)O[C@H]1C', 'CO[C@@H]1OC(C)CC[C@H]1OC', 'COCC1CCCC(O)[C@@H]1O', 'CCC[C@@H](O)CCC(=O)OC', 'CO[C@H](C)CC(=O)OC(C)C', 'CCC(=O)CC(C)(O)C(C)O', 'CCC(C)OC(C)(C)C(=O)O', 'CCOCC(C)(C)CC(=O)O', 'CC(C)O[C@@]1(CO)CCOC1', 'OCC(CO)(CO)C1CCC1', 'CCOC(C)C(C)OC(C)=O', 'OCCO[C@@H]1CCCC[C@@H]1O', 'C[C@H](O)COC[C@@H]1CCCO1', 'CCC1CC(O)OC(C)C1O', 'CCC(C)OCCOC(C)=O', 'CCC(CC(=O)O)C(C)OC', 'CCOC(=O)C(C)(O)C(C)C', 'CCCCCCC1(O)OC1O', 'COC1OC(CO)C(C)[C@@H]1C', 'CO[C@@H](CCC(C)C)C(=O)O', 'CC(O)C(=O)OCC(C)(C)C', 'CCOC(CC)(CC)C(=O)O', 'COC(=O)O[C@H](C)C(C)(C)C', 'CCC(O)CC(=O)OC(C)C', 'CCC[C@@H](O)CCCC(=O)O', 'COC1(C(C)(C)C)OCCO1', 'C/C(=C/CCO)C[C@H](O)CO', 'COC1COC(C)C(C)(C)O1', 'CC[C@](O)(CC(C)C)C(=O)O', 'CC(=O)OCOCC(C)(C)C', 'CCC[C@H](C)C[C@H](O)C(=O)O', 'CCC1CO1.COCC1CO1', 'CCCCOC(=O)C(C)(C)O', 'CC1CC([C@@H](C)CO)OC1O', 'CC(C)(CO)CC1OCCO1', 'CCC(CC)C(C)(O)C(=O)O', 'CCCC(=O)OCC(C)OC', 'COCC1(O)CCCCC1O', 'COC(=O)[C@@H](C)OC(C)(C)C', 'CCC(CC(C)C)OC(=O)O', 'CC[C@@](O)(C(=O)O)C(C)(C)C', 'CCC=O.OC1CCCCO1', 'COC(C)CCCCC(=O)O', 'COCOC[C@H](C)CCC=O', 'CCC1OC(C)OC(O)C1C', 'OCCCCOCC1COC1', 'COC1CC[C@H](C)C(O)C1O', 'OCCOCC1CCOCC1', 'CCOC[C@H]1O[C@@H]1COCC', 'C=C(CO)[C@H](C)O[C@@H](C)CO', 'COC(O)=CC(O)C(C)(C)C', 'CO[C@]1(C)CCOC(C)[C@@H]1O', 'CCCCOC(=O)CCOC', 'COC(=O)[C@H](C)[C@H](O)C(C)C', 'COC1OC(C(C)O)CC1C', 'CCCCOOC(=O)C(C)C', 'CC(C)C[C@@H]1OC(C)OC1O', 'CCC(C)CCC(O)C(=O)O', '[CH2-]/C(C)=C/CC/C=C(/[CH2-])C.[Mg+2]', 'CC(O)CCC(C)CC(=O)O', 'CCOC(C)OCC.[N-]=[N+]=[N-]', 'CCOCC1(C)COCOC1', 'CC(O)C(O)C1CCCOC1', 'CCCC[C@H](CO)OC(C)=O', 'CCCO[C@H]1OCC[C@@H](C)O1', 'C[C@@H]1O[C@H](CO)CCC[C@H]1O', 'CCCCCC[SiH2][SiH2]C', 'CC.CC(C)CC(=O)OC=O', 'CCC(CC)OCOC(C)=O', 'CC(=O)C(C)(O)C(O)C(C)C', 'CC(C)OCC1COCCO1', 'CC(C)C(=O)CC[C@@H](O)CO', 'C[C@H](O)[C@@H](O)/C=C/C(C)(C)O', 'COCC1(O)CCOCC1C', 'COC1(O)CCOC(C)C1C', 'CC(=O)CCCC(CO)CO', 'CCC(CO)OC(=O)C(C)C', 'C/C=C/CCCO.CC(=O)O', 'CO[C@@]1(C)CCOC(C)C1O', 'CC(C)OC[C@@H]1COC[C@H]1O', 'CCC[C@H]1C[C@@H](O)[C@H](OC)O1', 'COC(=O)C(C)CC(C)CO', 'C=CCOC(O)COCCC', 'CC(C)(C)[C@@](C)(O)CC(=O)O', 'C=C(C)OCCCOCCO', 'CCCC1OCCC(CO)O1', 'CCOC1CC(O)(COC)C1', 'CCCC=CCCC(O)(O)O', 'CCC(CC(=O)O)OC(C)C', 'CCC[C@@H](C[C@@H](C)O)C(=O)O', 'CCC(C)(CO)C1(O)COC1', 'CCCCOC(C)C(=O)OC', 'OCCCOCC1CCOC1', 'CC(=O)CCCCCOCO', 'CCC(C)(O)CCCC(=O)O', 'CC(C)[C@H]1OC[C@@H](O)[C@@H](C)O1', 'C.C.CC1C(=O)OC(=O)C1C', 'CCCOC(=O)C[C@@H](O)CC', 'C[C@H](C/C=C/CO)[C@H](O)CO', 'CC(C)(C)C(=O)OCCCO', 'CC1(C)OCCC(CCO)O1', 'CCC(C)CC(O)C(=O)OC', 'CCOC1(C)O[C@@H](C)[C@@H](C)O1', 'CCC1(C)COCC(CO)O1', 'CCCCC1(OC)OCCO1', 'CC(C)(C)[C@@H]1OC[C@H](O)C1O', 'CCC[C@H]1O[C@H]1COCOC', 'CCC(C)(C)C(C)C(=O)OO', 'CC(=O)O[C@@H](CO)CC(C)C', 'CCCCOCC(O)C1CO1']}\n"
     ]
    }
   ],
   "source": [
    "tmp_original = []\n",
    "for batch in train_loader_original:\n",
    "    print(batch)\n",
    "    tmp_original = batch\n",
    "    break"
   ]
  },
  {
   "cell_type": "code",
   "execution_count": 9,
   "id": "f279211477cf5d0b",
   "metadata": {
    "ExecuteTime": {
     "end_time": "2025-02-14T13:40:10.389867Z",
     "start_time": "2025-02-14T13:40:10.387361Z"
    }
   },
   "outputs": [
    {
     "name": "stdout",
     "output_type": "stream",
     "text": [
      "dict_keys(['spec', 'mol', 'precursor_mz', 'adduct', 'mol_freq', 'identifier', 'smiles', 'candidates', 'labels', 'batch_ptr', 'candidates_smiles'])\n",
      "batch_ptr is present: tensor([256, 256, 256, 256, 256, 256, 256, 256, 256, 126, 256, 256])\n"
     ]
    }
   ],
   "source": [
    "# Check the keys in the batch\n",
    "print(tmp_original.keys())\n",
    "\n",
    "# Specifically check if 'batch_ptr' is present\n",
    "if 'batch_ptr' in tmp_original:\n",
    "    print(\"batch_ptr is present:\", tmp_original['batch_ptr'])\n",
    "else:\n",
    "    print(\"batch_ptr is missing\")"
   ]
  },
  {
   "cell_type": "code",
   "execution_count": 10,
   "id": "82cf5fad037c8ffe",
   "metadata": {
    "ExecuteTime": {
     "end_time": "2025-02-14T13:40:10.399490Z",
     "start_time": "2025-02-14T13:40:10.396421Z"
    }
   },
   "outputs": [
    {
     "data": {
      "text/plain": [
       "dict_keys(['spec', 'mol', 'precursor_mz', 'adduct', 'mol_freq', 'identifier', 'smiles', 'candidates', 'labels', 'batch_ptr', 'candidates_smiles'])"
      ]
     },
     "execution_count": 10,
     "metadata": {},
     "output_type": "execute_result"
    }
   ],
   "source": [
    "tmp_original.keys()"
   ]
  },
  {
   "cell_type": "code",
   "execution_count": 11,
   "id": "8a967c5745662a1f",
   "metadata": {
    "ExecuteTime": {
     "end_time": "2025-02-14T13:40:10.408912Z",
     "start_time": "2025-02-14T13:40:10.406565Z"
    }
   },
   "outputs": [
    {
     "data": {
      "text/plain": [
       "(torch.Size([12, 61, 2]), torch.Size([12, 4096]))"
      ]
     },
     "execution_count": 11,
     "metadata": {},
     "output_type": "execute_result"
    }
   ],
   "source": [
    "tmp_original['spec'].shape, tmp_original['mol'].shape, "
   ]
  },
  {
   "cell_type": "code",
   "execution_count": 12,
   "id": "f4541b8ff18abfc5",
   "metadata": {
    "ExecuteTime": {
     "end_time": "2025-02-14T13:40:10.417149Z",
     "start_time": "2025-02-14T13:40:10.414576Z"
    }
   },
   "outputs": [
    {
     "data": {
      "text/plain": [
       "tensor([180.1019, 415.1900, 606.0840, 204.0660, 494.3250, 258.0714, 339.1211,\n",
       "        344.2230, 524.3720, 568.5670, 195.0877, 161.1172])"
      ]
     },
     "execution_count": 12,
     "metadata": {},
     "output_type": "execute_result"
    }
   ],
   "source": [
    "tmp_original['precursor_mz']"
   ]
  },
  {
   "cell_type": "code",
   "execution_count": 13,
   "id": "d33f02e95d06defc",
   "metadata": {
    "ExecuteTime": {
     "end_time": "2025-02-14T13:40:10.425076Z",
     "start_time": "2025-02-14T13:40:10.422770Z"
    }
   },
   "outputs": [
    {
     "data": {
      "text/plain": [
       "(['[M+H]+',\n",
       "  '[M+Na]+',\n",
       "  '[M+H]+',\n",
       "  '[M+H]+',\n",
       "  '[M+H]+',\n",
       "  '[M+H]+',\n",
       "  '[M+Na]+',\n",
       "  '[M+H]+',\n",
       "  '[M+H]+',\n",
       "  '[M+H]+',\n",
       "  '[M+H]+',\n",
       "  '[M+H]+'],)"
      ]
     },
     "execution_count": 13,
     "metadata": {},
     "output_type": "execute_result"
    }
   ],
   "source": [
    "tmp_original['adduct'], "
   ]
  },
  {
   "cell_type": "code",
   "execution_count": 14,
   "id": "f2246bafe4c779ae",
   "metadata": {
    "ExecuteTime": {
     "end_time": "2025-02-14T13:40:10.433390Z",
     "start_time": "2025-02-14T13:40:10.430658Z"
    }
   },
   "outputs": [
    {
     "data": {
      "text/plain": [
       "tensor([ 32.,  18.,  19.,   6., 125.,  12.,   6.,   5., 200.,  30., 252.,   3.])"
      ]
     },
     "execution_count": 14,
     "metadata": {},
     "output_type": "execute_result"
    }
   ],
   "source": [
    "tmp_original['mol_freq']"
   ]
  },
  {
   "cell_type": "code",
   "execution_count": 15,
   "id": "69b44a8f863047a4",
   "metadata": {
    "ExecuteTime": {
     "end_time": "2025-02-14T13:40:10.441171Z",
     "start_time": "2025-02-14T13:40:10.438617Z"
    }
   },
   "outputs": [
    {
     "data": {
      "text/plain": [
       "tensor([ True, False, False,  ..., False, False, False])"
      ]
     },
     "execution_count": 15,
     "metadata": {},
     "output_type": "execute_result"
    }
   ],
   "source": [
    "tmp_original['labels']"
   ]
  },
  {
   "cell_type": "code",
   "execution_count": 16,
   "id": "6514ce8596d69758",
   "metadata": {
    "ExecuteTime": {
     "end_time": "2025-02-14T13:40:10.462893Z",
     "start_time": "2025-02-14T13:40:10.446655Z"
    }
   },
   "outputs": [
    {
     "data": {
      "text/plain": [
       "tensor(12)"
      ]
     },
     "execution_count": 16,
     "metadata": {},
     "output_type": "execute_result"
    }
   ],
   "source": [
    "sum(tmp_original['labels'])"
   ]
  },
  {
   "cell_type": "code",
   "execution_count": 17,
   "id": "2c9d2d7a5c16ed90",
   "metadata": {
    "ExecuteTime": {
     "end_time": "2025-02-14T13:40:10.471626Z",
     "start_time": "2025-02-14T13:40:10.468421Z"
    }
   },
   "outputs": [
    {
     "data": {
      "text/plain": [
       "tensor([   0,  256,  512,  768, 1024, 1280, 1536, 1792, 2048, 2304, 2430, 2686])"
      ]
     },
     "execution_count": 17,
     "metadata": {},
     "output_type": "execute_result"
    }
   ],
   "source": [
    "torch.nonzero(tmp_original['labels'], as_tuple=False).squeeze()"
   ]
  },
  {
   "cell_type": "code",
   "execution_count": 18,
   "id": "2e83bcb489cae86a",
   "metadata": {
    "ExecuteTime": {
     "end_time": "2025-02-14T13:40:10.479076Z",
     "start_time": "2025-02-14T13:40:10.476830Z"
    }
   },
   "outputs": [
    {
     "data": {
      "text/plain": [
       "2942"
      ]
     },
     "execution_count": 18,
     "metadata": {},
     "output_type": "execute_result"
    }
   ],
   "source": [
    "len(tmp_original['labels'])"
   ]
  },
  {
   "cell_type": "code",
   "execution_count": 19,
   "id": "8623ad0307ee1f18",
   "metadata": {
    "ExecuteTime": {
     "end_time": "2025-02-14T13:40:10.487175Z",
     "start_time": "2025-02-14T13:40:10.484579Z"
    }
   },
   "outputs": [
    {
     "data": {
      "text/plain": [
       "tensor([256, 256, 256, 256, 256, 256, 256, 256, 256, 126, 256, 256])"
      ]
     },
     "execution_count": 19,
     "metadata": {},
     "output_type": "execute_result"
    }
   ],
   "source": [
    "tmp_original['batch_ptr']"
   ]
  },
  {
   "cell_type": "code",
   "execution_count": 20,
   "id": "153e8fd767c6cc73",
   "metadata": {
    "ExecuteTime": {
     "end_time": "2025-02-14T13:40:10.495288Z",
     "start_time": "2025-02-14T13:40:10.492793Z"
    }
   },
   "outputs": [
    {
     "data": {
      "text/plain": [
       "tensor(2942)"
      ]
     },
     "execution_count": 20,
     "metadata": {},
     "output_type": "execute_result"
    }
   ],
   "source": [
    "sum(tmp_original['batch_ptr'])"
   ]
  },
  {
   "cell_type": "code",
   "execution_count": 21,
   "id": "57abe1cdad7d1e03",
   "metadata": {
    "ExecuteTime": {
     "end_time": "2025-02-14T13:40:10.502829Z",
     "start_time": "2025-02-14T13:40:10.500508Z"
    }
   },
   "outputs": [
    {
     "data": {
      "text/plain": [
       "2942"
      ]
     },
     "execution_count": 21,
     "metadata": {},
     "output_type": "execute_result"
    }
   ],
   "source": [
    "len(tmp_original['candidates'])"
   ]
  },
  {
   "cell_type": "code",
   "execution_count": 22,
   "id": "6a5c6ecd1c18994e",
   "metadata": {
    "ExecuteTime": {
     "end_time": "2025-02-14T13:40:10.510475Z",
     "start_time": "2025-02-14T13:40:10.508246Z"
    }
   },
   "outputs": [
    {
     "data": {
      "text/plain": [
       "torch.Size([4096])"
      ]
     },
     "execution_count": 22,
     "metadata": {},
     "output_type": "execute_result"
    }
   ],
   "source": [
    "tmp_original['candidates'][5].shape"
   ]
  },
  {
   "cell_type": "code",
   "execution_count": 23,
   "id": "3f7ec6537b665b0c",
   "metadata": {
    "ExecuteTime": {
     "end_time": "2025-02-14T13:40:10.518392Z",
     "start_time": "2025-02-14T13:40:10.516067Z"
    }
   },
   "outputs": [
    {
     "data": {
      "text/plain": [
       "2942"
      ]
     },
     "execution_count": 23,
     "metadata": {},
     "output_type": "execute_result"
    }
   ],
   "source": [
    "len(tmp_original['candidates_smiles'])"
   ]
  },
  {
   "cell_type": "markdown",
   "id": "effa503f7496c1bb",
   "metadata": {},
   "source": [
    "# MSnRetrieval"
   ]
  },
  {
   "cell_type": "code",
   "execution_count": 24,
   "id": "81578a73d8e57643",
   "metadata": {
    "ExecuteTime": {
     "end_time": "2025-02-14T13:40:10.525352Z",
     "start_time": "2025-02-14T13:40:10.523697Z"
    }
   },
   "outputs": [],
   "source": [
    "from massspecgym.featurize import SpectrumFeaturizer"
   ]
  },
  {
   "cell_type": "code",
   "execution_count": 35,
   "id": "5df6778634ce3906",
   "metadata": {
    "ExecuteTime": {
     "end_time": "2025-02-14T13:40:10.532965Z",
     "start_time": "2025-02-14T13:40:10.530883Z"
    }
   },
   "outputs": [],
   "source": [
    "config = {\n",
    "    'features': ['collision_energy', 'ionmode', 'adduct', 'spectrum_stats', 'atom_counts', 'value', \"retention_time\", 'ion_source', 'binned_peaks'],\n",
    "    'feature_attributes': {\n",
    "        'atom_counts': {\n",
    "            'top_n_atoms': 12,\n",
    "            'include_other': True,\n",
    "        },\n",
    "    },\n",
    "}"
   ]
  },
  {
   "cell_type": "code",
   "execution_count": 36,
   "id": "3e4d2d35f3c5e077",
   "metadata": {
    "ExecuteTime": {
     "end_time": "2025-02-14T13:40:10.539961Z",
     "start_time": "2025-02-14T13:40:10.538129Z"
    }
   },
   "outputs": [],
   "source": [
    "featurizer = SpectrumFeaturizer(config, mode='torch')"
   ]
  },
  {
   "cell_type": "code",
   "execution_count": 37,
   "id": "b1baf406d4a19229",
   "metadata": {
    "ExecuteTime": {
     "end_time": "2025-02-14T13:40:10.547084Z",
     "start_time": "2025-02-14T13:40:10.545373Z"
    }
   },
   "outputs": [],
   "source": [
    "file_json = \"/Users/macbook/CODE/Majer:MassSpecGym/data/candidates_generation/MassSpecGymMSn_retrieval_candidates_formula.json\""
   ]
  },
  {
   "cell_type": "code",
   "execution_count": 38,
   "id": "0c55c72b-6998-47c0-81ed-d1ac015f04c5",
   "metadata": {},
   "outputs": [],
   "source": [
    "# file_mgf = \"/Users/macbook/CODE/Majer:MassSpecGym/data/MSn/min_sample_trees.mgf\"\n"
   ]
  },
  {
   "cell_type": "code",
   "execution_count": null,
   "id": "4abdab9e026ffb09",
   "metadata": {
    "ExecuteTime": {
     "end_time": "2025-02-14T14:09:13.165710Z",
     "start_time": "2025-02-14T13:40:10.552565Z"
    }
   },
   "outputs": [
    {
     "name": "stdout",
     "output_type": "stream",
     "text": [
      "Total valid indices: 16476\n",
      "MSnRetrievalDataset length: 16476\n",
      "Precomputing candidate-side transformations using multiprocessing with chunking...\n",
      "Using 8 processes for precomputation.\n"
     ]
    },
    {
     "name": "stderr",
     "output_type": "stream",
     "text": [
      "Precomputing in chunks:  24%|██▎       | 4/17 [08:22<28:14, 130.35s/it]"
     ]
    }
   ],
   "source": [
    "# Init hyperparameters\n",
    "n_peaks = 60\n",
    "fp_size = 4096\n",
    "batch_size = 12\n",
    "\n",
    "# Load dataset\n",
    "dataset_msn = MSnRetrievalDataset(\n",
    "    pth=file_mgf,\n",
    "    candidates_pth=file_json,\n",
    "    featurizer=featurizer,\n",
    "    mol_transform=MolFingerprinter(fp_size=fp_size),\n",
    "    max_allowed_deviation=0.005\n",
    ")\n"
   ]
  },
  {
   "cell_type": "code",
   "execution_count": 30,
   "id": "313e58fab0155c4b",
   "metadata": {
    "ExecuteTime": {
     "end_time": "2025-02-14T14:09:13.184801Z",
     "start_time": "2025-02-14T14:09:13.182586Z"
    }
   },
   "outputs": [],
   "source": [
    "# Init data module\n",
    "data_module_msn = MassSpecDataModule(\n",
    "    dataset=dataset_msn,\n",
    "    batch_size=batch_size,\n",
    "    split_pth=split_file,\n",
    "    num_workers=0,\n",
    ")"
   ]
  },
  {
   "cell_type": "code",
   "execution_count": 31,
   "id": "af9eb30cc9d0b54f",
   "metadata": {
    "ExecuteTime": {
     "end_time": "2025-02-14T14:09:21.055827Z",
     "start_time": "2025-02-14T14:09:20.937795Z"
    }
   },
   "outputs": [
    {
     "name": "stdout",
     "output_type": "stream",
     "text": [
      "Warning: Some identifiers in the split file are not found in the dataset. Taking intersection.\n",
      "Train dataset size: 82\n",
      "Val dataset size: 6\n"
     ]
    }
   ],
   "source": [
    "data_module_msn.prepare_data()\n",
    "data_module_msn.setup()\n",
    "\n",
    "train_loader_msn = data_module_msn.train_dataloader()"
   ]
  },
  {
   "cell_type": "code",
   "execution_count": 32,
   "id": "511d947bf9b25fcd",
   "metadata": {
    "ExecuteTime": {
     "end_time": "2025-02-14T14:09:24.598290Z",
     "start_time": "2025-02-14T14:09:23.587363Z"
    }
   },
   "outputs": [
    {
     "name": "stdout",
     "output_type": "stream",
     "text": [
      "[PROFILE] __getitem__ took 0.003323 seconds\n",
      "[PROFILE] __getitem__ took 0.001279 seconds\n",
      "[PROFILE] collate_fn took 0.028322 seconds\n",
      "{'spec': DataBatch(x=[141, 1039], edge_index=[2, 258], batch=[141], ptr=[13]), 'mol': tensor([[0., 0., 0.,  ..., 0., 0., 0.],\n",
      "        [0., 0., 0.,  ..., 0., 0., 0.],\n",
      "        [0., 0., 1.,  ..., 0., 0., 0.],\n",
      "        ...,\n",
      "        [0., 0., 0.,  ..., 0., 0., 0.],\n",
      "        [0., 0., 0.,  ..., 0., 0., 0.],\n",
      "        [0., 0., 0.,  ..., 0., 0., 0.]]), 'precursor_mz': tensor([540.2440, 730.2917, 393.1333, 435.1286, 401.1959, 334.1550, 496.2177,\n",
      "        340.1543, 644.3065, 401.1595, 397.1646, 399.1438]), 'adduct': ['[M+NH4]+', '[M+NH4]+', '[M+H-H2O]+', '[M+H]+', '[M+H]+', '[M+H]+', '[M+NH4]+', '[M+H]+', '[M+NH4]+', '[M+H]+', '[M+H]+', '[M+H-H2O]+'], 'identifier': ['0000433_0000000', '0000457_0000000', '0000131_0000000', '0000423_0000000', '0000272_0000000', '0000174_0000000', '0000285_0000000', '0000264_0000000', '0000397_0000000', '0000546_0000000', '0000187_0000000', '0000059_0000000'], 'mol_freq': tensor([2., 1., 2., 1., 2., 1., 1., 1., 1., 4., 1., 3.]), 'smiles': ['COC1=C(C=C2C(C(C(CC2=C1)CO)CO[C@H]3[C@@H]([C@H]([C@@H]([C@H](O3)CO)O)O)O)C4=CC(=C(C=C4)O)OC)O', 'COC1=CC(=CC(=C1O)OC)[C@H]2C3CO[C@@H](C3CO2)C4=CC(=C(C(=C4)OC)O[C@H]5[C@@H]([C@H]([C@@H]([C@H](O5)CO)O)O)O[C@H]6[C@@H]([C@](CO6)(CO)O)O)OC', 'CC(=C)[C@@H]1CC2=C(O1)C=CC3=C2O[C@H]4COC5=CC(=C(C=C5[C@]4(C3=O)O)OC)OC', 'C1[C@H](OC2=C(C1=O)C(=C(C(=C2)O)[C@H]3[C@@H]([C@H]([C@@H]([C@H](O3)CO)O)O)O)O)C4=CC=C(C=C4)O', 'CC1CC2=CC3=C(C(=C2C4=C(C(=C(C=C4CC1C)OC)OC)OC)OC)OCO3', 'C1=CC=C(C=C1)CC2C(=O)NC(C(=O)N2)CC3=CNC4=CC=CC=C43', 'C1[C@H]([C@@H]([C@H]([C@@H](O1)O[C@@H](CCC2=CC(=C(C=C2)O)O)CC(=O)CCC3=CC(=C(C=C3)O)O)O)O)O', 'COC1=C(C=C(C=C1)CC2=NC=CC3=CC(=C(C=C32)OC)OC)OC', 'C/C=C(\\\\C)/C(=O)OC1C(C(C2(C3CCC4(C(OC(=O)CC4=C3CC1(C2=O)O)C5=COC=C5)C)C)C(C(=O)OC)OC(=O)C)(C)C', 'CC1=C2C(=CC=C1)OC(=O)C3(C2=O)C(C(=O)CC3(C)C=C)C(CO)COC(=O)C', 'CC(=CCC1=C(C2=C(C=C1O)OC3=C(C2=O)C(=C(C(=C3)O)O)CC=C(C)C)O)C', 'C/C=C(\\\\C)/C(=O)OC(COC1=C2C(=C(C3=C1OC(=O)C=C3)OC)C=CO2)C(C)(C)O'], 'candidates': tensor([[0., 0., 0.,  ..., 0., 0., 0.],\n",
      "        [0., 0., 0.,  ..., 0., 0., 0.],\n",
      "        [0., 0., 0.,  ..., 0., 0., 0.],\n",
      "        ...,\n",
      "        [0., 0., 0.,  ..., 0., 0., 0.],\n",
      "        [0., 0., 0.,  ..., 0., 0., 0.],\n",
      "        [0., 0., 0.,  ..., 0., 0., 0.]]), 'labels': tensor([ True, False, False,  ..., False, False, False]), 'batch_ptr': tensor([256,  35, 256, 256, 256, 256, 256, 256, 146, 256, 256, 256],\n",
      "       dtype=torch.int32), 'candidates_smiles': ['COC1=C(C=C2C(C(C(CC2=C1)CO)CO[C@H]3[C@@H]([C@H]([C@@H]([C@H](O3)CO)O)O)O)C4=CC(=C(C=C4)O)OC)O', 'O=Cc1cccc(OCCOCCOCCOCCOCCOCCOc2cccc(C=O)c2O)c1O', 'CC(=O)O[C@@H]1[C@H]2[C@](C)(O)[C@H](O)C=C[C@]2(C)[C@@H](OC(C)=O)[C@H](OC(C)=O)C/C(C)=C\\\\[C@@H]2OC(=O)[C@]3(C)O[C@@]213', 'CC(=O)OCC1(O)C(OC(C)=O)CC(O)C2C3(C)CCc4ccoc4C3(C)C(=O)C(O)C21COC(C)=O', 'COC(=O)C12OCC34C(CC5C(C)=C(O)C(=O)C[C@]5(C)C3C(O)[C@@H]1O)OC(=O)C(OC(=O)CC(C)C)C42', 'C/C=C(\\\\C)C(=O)O[C@H](C)C(C)(O)C(=O)O[C@H](c1cc(OC)c2c(c1)OCO2)[C@@H](C)OC(=O)C1(C)OC1C', 'CO[C@@H]1C=C([C@@H]2C[C@H]3O[C@@]34[C@@]2(C)C[C@H]2O[C@H]3C[C@H](O)[C@]5(C)OC(=O)[C@H](O)[C@]5(O)[C@@]3(C)[C@@H]2[C@@]4(C)O)C(=O)O1', 'CC(=O)O[C@H]1C/C(C)=C\\\\[C@H]2OC(=O)[C@@]3(C)O[C@@]23[C@H](O)[C@@H]2[C@]3(C)O[C@@H]3C[C@@H](OC(C)=O)[C@@]2(C)[C@@H]1OC(C)=O', 'C/C=C1/[C@H](O[C@@H]2C[C@H](CO)[C@@H](O)[C@H](O)[C@H]2O)OC=C(C(=O)OC)[C@H]1CC(=O)OCCc1ccc(O)cc1', 'COc1cc(C[C@H]2CO[C@@H](c3ccc(O[C@H]4O[C@@H](CO)[C@H](O)[C@@H](O)[C@@H]4O)c(OC)c3)[C@H]2CO)ccc1O', 'CC(=O)OC1C/C(C)=C\\\\[C@@H]2OC(=O)[C@]3(C)OC23C(O)C2C3(C)OC3CC(OC(C)=O)[C@]2(C)[C@H]1OC(C)=O', 'C=C(C)C(=O)OC(CCC)C(OC(=O)C(=C)C)(OC(=O)C(=C)C)C(O)(OC(=O)C(=C)C)OC(=O)C(=C)C', 'CC(=O)O[C@@H]1C/C(C)=C\\\\[C@@H]2OC(=O)[C@]3(C)O[C@]23[C@@H](OC(C)=O)[C@H]2[C@](C)(O)[C@H](O)C=C[C@]2(C)[C@H]1OC(C)=O', 'CC(=O)O[C@@H]1C/C(C)=C\\\\[C@@H]2OC(=O)[C@]3(C)O[C@@]23[C@@H](OC(C)=O)[C@H]2[C@](C)(O)[C@H](OC(C)=O)C=C[C@@]2(C)[C@@H]1O', 'COC(=O)C12OC[C@]34[C@H]([C@@H](O)[C@@H]1O)[C@@]1(C)CC(=O)C(=O)C(C)[C@@H]1C[C@H]3OC(=O)[C@H](OC(=O)CC(C)C)[C@@H]24', 'COC(=O)[C@@]12OC[C@]34[C@H]([C@@H](O)[C@@H]1O)[C@@]1(C)[C@@H](O)C(=O)C=C(C)[C@@H]1C[C@H]3OC(=O)[C@H](OC(=O)CC(C)C)[C@@H]24', 'COc1cc(/C=C/C(CO)Cc2cc(OC)c(O[C@@H]3O[C@H](CO)[C@@H](O)[C@H](O)[C@H]3O)c(OC)c2)ccc1O', 'COc1cc([C@H]2Oc3c(OC)cc(CCCO)cc3[C@@H]2CO)ccc1O[C@H]1O[C@H](CO)[C@@H](O)[C@H](O)[C@H]1O', 'COC(=O)CC(=O)C(C(=O)OC)[C@]12CCCCC#CCCCC[C@@]1(O)C(C(=O)OC)C(=O)C2C(=O)OC', 'CC(C)[C@]12O[C@H]1[C@@H]1O[C@]13[C@]1(O[C@H]1C[C@H]1C4=C(CC[C@@]13C)C(=O)OC4)[C@@H]2O[C@@H]1O[C@H](CO)[C@@H](O)[C@H](O)[C@H]1O', 'COc1cc(C[C@@H](CO)c2cc(/C=C/CO)cc(OC)c2O[C@@H]2O[C@H](CO)[C@@H](O)[C@H](O)[C@H]2O)ccc1O', 'COc1cc(C[C@@H](CO)c2cc(C=CCO)cc(OC)c2O)ccc1O[C@@H]1O[C@H](CO)[C@@H](O)[C@H](O)[C@H]1O', 'COc1ccc([C@@H]2Oc3c(OC)cc(CCCO)cc3[C@H]2CO)cc1O[C@H]1O[C@@H](CO)[C@@H](O)[C@@H](O)[C@H]1O', 'COc1cc(C[C@@H]2CO[C@H](c3ccc(O)c(OC)c3)[C@@H]2CO[C@@H]2O[C@@H](CO)[C@@H](O)[C@@H](O)[C@H]2O)ccc1O', 'COc1cc(O)cc(C[C@@H](CO)c2cc(/C=C/CO)cc(OC)c2O[C@@H]2O[C@H](CO)[C@@H](O)[C@H](O)[C@H]2O)c1', 'O=C(OC[C@H]1OC(OC(=O)C2CC2)[C@H](OC(O)C2CC2)[C@@H](OC(=O)C2CC2)[C@@H]1OC(=O)C1CC1)C1CC1', 'OCC1O[C@@H](O[C@@H]2C(O)[C@H](O)OC(CO)[C@H]2OCc2ccccc2)C(O)[C@@H](O)[C@@H]1OCc1ccccc1', 'COc1cc(C[C@@H](CO)C(=Cc2ccc(O[C@@H]3O[C@H](CO)[C@@H](O)[C@H](O)[C@H]3O)c(OC)c2)CO)ccc1O', 'COc1cc([C@H]2OC[C@H](Cc3ccc(O[C@@H]4O[C@H](CO)[C@@H](O)[C@H](O)[C@H]4O)c(OC)c3)[C@@H]2CO)ccc1O', 'COc1cc(CC2CC(CO)C(c3ccc(OC4OC(CO)C(O)C(O)C4O)c(OC)c3)O2)ccc1O', 'COc1cc(CC2COCC2C(O)c2ccc(O[C@@H]3O[C@H](CO)[C@@H](O)[C@H](O)[C@H]3O)c(OC)c2)ccc1O', 'COC(=O)C12OCC34C(CC5C(C)C(O)C(=O)CC5(C)C3C(O)C1O)OC(=O)C(OC(=O)C=C(C)C)C24', 'C=C(C)C(=O)OC[C@@H](OC(=O)C(=C)C)[C@@H](OC(=O)C(=C)C)[C@H](OC(=O)C(=C)C)[C@H](CO)OC(=O)C(=C)C', 'CC(=O)O[C@H]1C/C(C)=C\\\\[C@@H]2OC(=O)[C@]3(C)O[C@]23[C@@H](O)[C@H]2[C@@]3(C)O[C@H]3C[C@H](OC(C)=O)[C@]2(C)[C@H]1OC(C)=O', 'COc1cc([C@H]2Oc3c(OC)cc(CCCO)cc3[C@@H]2CO[C@@H]2O[C@@H](CO)[C@@H](O)[C@H](O)[C@H]2O)ccc1O', 'COc1ccc([C@@H]2c3cc(O[C@@H]4O[C@H](CO)[C@@H](O)[C@H](O)[C@H]4O)c(O)cc3C[C@H](CO)[C@H]2CO)cc1OC', 'COc1cc([C@H]2Oc3c(OC)cc(CCCO[C@H]4O[C@H](CO)[C@@H](O)[C@H](O)[C@H]4O)cc3[C@@H]2CO)ccc1O', 'CC(=O)O[C@H]1C=C[C@@]2(C)[C@@H](OC(C)=O)C[C@@H](O)/C(C)=C\\\\[C@@H]3OC(=O)[C@]4(C)O[C@]34[C@@H](OC(C)=O)[C@H]2[C@@]1(C)O', 'COc1cc(C[C@H]2CO[C@H](c3ccc(O[C@H]4O[C@@H](CO)[C@@H](O)[C@@H](O)[C@H]4O)c(OC)c3)[C@@H]2CO)ccc1O', 'COc1cc(C2c3cc(O)c(OC)cc3CC(CO)C2C2(OC)OC(CO)C(O)C(O)C2O)ccc1O', 'COc1cc([C@@H]2Oc3c(OC)cc(CCCO)cc3[C@H]2CO)ccc1O[C@H]1O[C@H](CO)[C@@H](O)[C@H](O)[C@H]1O', 'COc1cc2c(cc1O)[C@@H](c1cc(OC)c(O)c(OC)c1)[C@H](CO[C@@H]1OC[C@@H](O)[C@H](O)[C@H]1O)[C@@H](CO)C2', 'COC(=O)[C@]12OC[C@@]34C(CC5C(C)=C(O)C(=O)C[C@]5(C)C3C(O)[C@@H]1O)OC(=O)C(OC(=O)CC(C)C)C42', 'CC1=C(C(=O)O)C2CC(=O)c3cc(CC(C)O)c(OC4OC(CO)C(O)C(O)C4O)c(O)c3C2(C)CC1', 'CC(=O)O[C@@H]1C/C(C)=C\\\\[C@@H]2OC(=O)[C@]3(C)O[C@]23[C@@H](OC(C)=O)[C@@H]2[C@](C)(O)[C@H](O)C=C[C@]2(C)[C@H]1OC(C)=O', 'CC1(CC(OC2OC(CO)C(O)C(O)C2O)c2ccoc2)C2CC(OC2=O)C2(C)C(C(=O)O)=CCC[C@@H]12', 'COC(=O)[C@]12OC[C@]34[C@H]([C@@H](O)[C@@H]1O)[C@@]1(C)[C@H](O)C(=O)C=C(C)[C@@H]1C[C@H]3OC(=O)[C@H](OC(=O)CC(C)C)[C@@H]24', 'COc1cc(C[C@@H](CO[C@H]2O[C@@H](CO)[C@@H](O)[C@@H](O)[C@@H]2O)c2cc(C=CCO)cc(OC)c2O)ccc1O', 'COc1cc([C@@H]2c3cc(O[C@@H]4O[C@H](CO)[C@@H](O)[C@H](O)[C@H]4O)c(OC)cc3C[C@@H](CO)[C@@H]2CO)ccc1O', 'C=C1C(=O)O[C@@H]2C[C@H](COC(C)=O)[C@]3(OC(C)=O)C[C@H](OC(C)=O)[C@](C)(C[C@@H](OC(=O)/C(C)=C\\\\C)[C@@H]12)O3', 'C[C@@]12CCC3C(=O)O[C@H](c4ccoc4)C[C@@]3(C)[C@@H]1CC(O[C@@H]1O[C@H](CO)[C@@H](O)[C@H](O)[C@H]1O)C=C2C(=O)O', 'CC=C(C)C(=O)OC(c1cc(OC)c2c(c1)OCO2)C(C)OC(=O)C(C)(O)C(C)OC(=O)C1(C)OC1C', 'C=C(C)C(=O)OCC(OC(=O)C(=C)C)C(OC(=O)C(=C)C)C(OC(=O)C(=C)C)C(CO)OC(=O)C(=C)C', 'COC(=O)C1=C2CCC3C(=O)OC(c4ccoc4)CC3(C)C2CCC1OC1OC(CO)C(O)C(O)C1O', 'COc1cc([C@@H]2Oc3c(OC)cc(CCCO)cc3[C@H]2CO[C@@H]2O[C@H](CO)[C@@H](O)[C@H](O)[C@H]2O)ccc1O', 'COc1cc([C@@H]2Oc3c(OC)cc(CCCO)cc3[C@@H]2CO)ccc1O[C@@H]1O[C@H](CO)[C@@H](O)[C@H](O)[C@H]1O', 'COc1cc(C[C@@H]2CO[C@@H](c3ccc(O)c(OC)c3)[C@H]2CO[C@@H]2O[C@H](CO)[C@@H](O)[C@H](O)[C@H]2O)ccc1O', 'CC(=O)O[C@H]1C[C@@H]2O[C@]2(C)[C@@H]2[C@H](OC(C)=O)[C@@]34O[C@]3(C)C(=O)O[C@H]4/C=C(/C)C[C@@H](OC(C)=O)[C@H](O)[C@@]12C', 'COc1cc2c(cc1O)[C@H](c1cc(OC)c(O)c(OC)c1)[C@@H](COC1OC[C@@H](O)[C@H](O)[C@H]1O)[C@H](CO)C2', 'C=C1C(O)CC(OC(C)=O)C2(C)C(OC(C)=O)CC(OC(C)=O)C(C)=CC3OC(=O)C4(C)OC34C(O)C12', 'COc1cc([C@@H]2Oc3c(OC)cc(CCCO[C@H]4O[C@H](CO)[C@@H](O)[C@H](O)[C@H]4O)cc3[C@@H]2CO)ccc1O', 'CC(=O)O[C@H]1C[C@H](O)[C@H](C)[C@H]2[C@@]1(C)[C@]1(O)[C@@H](OC(C)=O)C/C(C)=C\\\\[C@@H]3OC(=O)[C@@]4(C)O[C@]34[C@]21OC(C)=O', 'COc1cc([C@H]2Oc3c(OC)cc(CCCO)cc3[C@@H]2CO[C@H]2O[C@H](CO)[C@@H](O)[C@H](O)[C@H]2O)ccc1O', 'CC(=O)O[C@H]1C/C(C)=C\\\\[C@@H]2OC(=O)[C@@]3(C)O[C@]23[C@]2(OC(C)=O)[C@H]3[C@@H](C)[C@@H](O)C[C@H](OC(C)=O)[C@]3(C)C12O', 'O[C@@H]1[C@H](O)[C@@H](O[C@H]2[C@H](O)[C@H](O)[C@@H](O)O[C@@H]2COCc2ccccc2)O[C@H](COCc2ccccc2)[C@H]1O', 'COc1cc2c(cc1O)C(c1ccc(O[C@@H]3O[C@H](CO)[C@@H](O)[C@H](O)[C@H]3O)c(OC)c1)[C@H](CO)[C@@H](CO)C2', 'COc1cc([C@H]2Oc3c(OC)cc(CCCO)cc3[C@@H]2CO)ccc1O[C@@H]1O[C@H](CO)[C@@H](O)[C@H](O)[C@H]1O', 'COc1cc([C@H]2Oc3c(OC)cc(CCCO)cc3[C@@H]2CO)ccc1O[C@H]1O[C@@H](CO)[C@H](O)[C@@H](O)[C@@H]1O', 'CC(=O)OC1C=CC2(C)C(OC(C)=O)CC(O)C(C)=CC3OC(=O)C4(C)OC34C(OC(C)=O)C2C1(C)O', 'OCC1O[C@@H](O[C@@H]2C(O)[C@H](O)OC(CO)[C@@H]2OCc2ccccc2)C(O)[C@@H](O)[C@H]1OCc1ccccc1', 'COc1cc(O)cc(C[C@H](CO)c2cc(C=CCO)cc(OC)c2O[C@@H]2O[C@H](CO)[C@@H](O)[C@H](O)[C@H]2O)c1', 'COc1cc(CC2COC(c3ccc(O[C@H]4O[C@H](CO)[C@@H](O)[C@H](O)[C@H]4O)c(OC)c3)C2CO)ccc1O', 'C=C1C(=O)OC2C3OC(C)(CCC(OC(C)=O)C3COC(C)=O)CC(OC(=O)/C(=C\\\\C)COC(C)=O)C12', 'COc1cc([C@@H]2c3cc(O[C@@H]4O[C@H](CO)[C@@H](O)[C@H](O)[C@H]4O)c(OC)cc3C[C@H](CO)[C@H]2CO)ccc1O', 'CC(=O)O[C@@H]1C/C(C)=C/[C@@H]2OC(=O)[C@]3(C)O[C@]23[C@@H](OC(C)=O)[C@@H]2[C@](C)(O)[C@H](OC(C)=O)C=C[C@]2(C)[C@@H]1O', 'CC(=O)O[C@@H]1[C@H](C)[C@@H]2[C@H](OC(C)=O)[C@@]3(O)[C@H](/C=C(CO)\\\\C=C/[C@H](OC(C)=O)[C@@]2(C)[C@H]2O[C@@H]12)OC(=O)[C@@H]3C', 'COC(=O)[C@@]12OC[C@]34[C@H]([C@@H](O)[C@@H]1O)[C@@]1(C)CC(=O)C(O)=C(C)[C@@H]1C[C@H]3OC(=O)[C@H](OC(=O)CC(C)C)[C@@H]24', 'CCCCC(=O)O[C@H]1C(=O)O[C@@H]2C[C@H]3C(C)=CC(=O)[C@@H](O)[C@]3(C)[C@H]3[C@@H](O)[C@H](O)[C@@]4(C(=O)OC)OC[C@]32[C@@H]14', 'COc1cc(O)cc(C[C@H](CO)c2cc(/C=C/CO)cc(OC)c2O[C@@H]2O[C@H](CO)[C@@H](O)[C@H](O)[C@H]2O)c1', 'CC(=O)O[C@H]1C[C@H]2O[C@@]2(C)[C@H]2[C@H](OC(C)=O)[C@]34O[C@@]3(C)C(=O)O[C@H]4/C=C(\\\\C)C[C@@H](OC(C)=O)[C@H](O)[C@@]12C', 'COC(=O)[C@@]12OC[C@@]34C(C[C@H]5C(C)=CC(=O)[C@@H](O)[C@]5(C)[C@H]3[C@@H](O)[C@@H]1O)OC(=O)C(OC(=O)CC(C)C)C42', 'CC(=O)OCC12OC1C1C3C(C)(C)C3(OC(C)=O)C(OC(C)=O)C(C)C1(O)C1C=C(C)C(=O)C1(O)C2O', 'COc1cc(C[C@H](CO)c2cc(/C=C/CO)cc(OC)c2O[C@H]2O[C@@H](CO)[C@H](O)[C@@H](O)[C@@H]2O)ccc1O', 'COc1c([C@@H](O)CC(C)C)ccc(Oc2c(O)cc(C)cc2CO[C@@H]2OC[C@@H](O)[C@H](O)[C@H]2O)c1C(=O)O', 'COc1cc([C@H]2c3cc(O[C@H]4O[C@H](CO)[C@@H](O)[C@H](O)[C@H]4O)c(OC)cc3C[C@@H](CO)[C@@H]2CO)ccc1O', 'CC(=O)O[C@H]1C=C[C@]2(C)[C@@H](OC(C)=O)C[C@@H](O)/C(C)=C\\\\[C@@H]3OC(=O)[C@]4(C)O[C@]34[C@@H](OC(C)=O)[C@H]2[C@@]1(C)O', 'CC(=O)O[C@H]1C[C@@H](OC(C)=O)/C(C)=C\\\\[C@@H]2OC(=O)[C@@]3(C)O[C@]23[C@@H](OC(C)=O)[C@H]2[C@@](C)(O)[C@H](O)C=C[C@]12C', 'COc1cc(CCCO)ccc1OC(=CCO)c1ccc(O[C@@H]2O[C@H](CO)[C@@H](O)[C@H](O)[C@H]2O)c(OC)c1', 'COc1cc(C2Oc3c(OC)cc(CCCO)cc3C2CO)ccc1O[C@@H]1O[C@H](CO)[C@@H](O)[C@@H](O)[C@H]1O', 'CC(C)[C@]12O[C@H]1[C@@H]1O[C@]13[C@]1(O[C@H]1C[C@H]1C4=C(CC[C@@]13C)C(=O)OC4)[C@H]2O[C@@H]1O[C@H](CO)[C@@H](O)[C@H](O)[C@H]1O', 'CCCCCCC(O)C1C2=C(CC(C(O)C(O)CC=CCO)CC3=C(C(=O)OC3=O)C1O)C(=O)OC2=O', 'C=C1/C=C\\\\[C@H](O)[C@]2(C)[C@H]([C@@H](C)[C@@H](OC(C)=O)[C@@H]3O[C@@H]32)[C@H](OC(C)=O)[C@]2(O)[C@@H](C)C(=O)O[C@H]2[C@@H]1OC(C)=O', 'COC(=O)[C@@]12OC[C@@]34[C@H](C[C@@H]5C(C)=C(O)C(=O)C[C@]5(C)[C@@H]3[C@@H](O)[C@@H]1O)OC(=O)[C@H](OC(=O)CC(C)C)[C@@H]24', 'COc1cc(C[C@H]2CO[C@H](c3ccc(O)c(OC)c3)[C@H]2CO[C@@H]2O[C@H](CO)[C@@H](O)[C@H](O)[C@@H]2O)ccc1O', 'C=CC(=C)OCC(COCC(CO)(COC(=O)C=C)COC(=O)C=C)(COC(=O)C=C)COC(=O)C=C', 'C=C1CC(C(=O)OC)(C(=O)OC)[C@H]2O[C@H](COC(C)=O)[C@@H]3[C@@H](C(=C)CC3(C(=O)OCC)C(=O)OCC)[C@@H]12', 'COc1cc([C@@H]2Oc3c(OC)cc(CCCO[C@H]4O[C@H](CO)[C@@H](O)[C@H](O)[C@H]4O)cc3[C@H]2CO)ccc1O', 'C[C@@]12C3CC4C(=O)OC(c5ccoc5)C[C@@]4(C)[C@@H]1CCC(OC1O[C@H](CO)[C@@H](O)[C@H](O)[C@H]1O)C2C(=O)O3', 'C=C1CC[C@H](OC(C)=O)[C@]2(C)[C@@H](OC(C)=O)C[C@@]3(O)O[C@@]4([C@H](C=C3CO)OC(=O)[C@@H]4C)[C@@H](OC(C)=O)[C@@H]12', 'CC(C)[C@]12O[C@H]1[C@@H]1O[C@]13[C@]1(O[C@H]1C[C@H]1C4=C(CC[C@@]13C)C(=O)OC4)[C@@H]2O[C@H]1OC(CO)[C@H](O)[C@H](O)C1O', 'COc1cc(C[C@H]2CO[C@H](c3ccc(O)c(OC)c3)[C@H]2CO[C@H]2O[C@H](CO)[C@@H](O)[C@H](O)[C@H]2O)ccc1O', 'CCCCCC[C@H](O)[C@@H]1C2=C(C[C@H]([C@@H](O)C(O)C/C=C/CO)CC3=C(C(=O)OC3=O)[C@H]1O)C(=O)OC2=O', 'CCCCCC[C@H](O)[C@@H]1C2=C(C[C@H]([C@@H](O)[C@H](O)C/C=C/CO)CC3=C(C(=O)OC3=O)[C@H]1O)C(=O)OC2=O', 'CC(=O)OC[C@@]12[C@@H](O)C(=O)[C@](C)(OC(C)=O)[C@@](C)(CCc3ccoc3)[C@@]1(O)CC[C@H](OC(C)=O)[C@]21CO1', 'COc1cc(C2Oc3c(OC)cc(CCCO[C@@H]4O[C@H](CO)[C@@H](O)[C@H](O)[C@H]4O)cc3C2CO)ccc1O', 'COc1cc(C2Oc3c(OC)cc(CCCO)cc3C2CO)cc(OC)c1OC1OCC(O)C(O)C1O', 'COc1cc([C@@H](OC(=O)C(C)(O)[C@@H](C)OC(=O)C=C(C)C)[C@@H](C)OC(=O)C2(C)OC2C)cc2c1OCO2', 'COC(=O)[C@]12OC[C@]34[C@H](C[C@@H]5C(C)=C(O)C(=O)C[C@@]5(C)[C@@H]3[C@H](O)[C@H]1O)OC(=O)[C@@H](OC(=O)CC(C)C)[C@H]24', 'COc1cc([C@H]2OC[C@H](Cc3ccc(O[C@H]4O[C@H](CO)[C@@H](O)[C@H](O)[C@H]4O)c(OC)c3)[C@@H]2CO)ccc1O', 'CC(=O)O[C@H]1CC=C(C)[C@@H]2[C@H](O)[C@]34O[C@@]3(C)C(=O)O[C@H]4/C=C(/C)[C@H](OC(C)=O)[C@@H](O)[C@H](OC(C)=O)[C@@]12C', 'COc1cc(C[C@H]2CO[C@H](c3ccc(O)c(OC)c3)[C@H]2CO[C@H]2O[C@@H](CO)[C@@H](O)[C@H](O)[C@H]2O)ccc1O', 'C/C=C1/[C@H](O[C@@H]2C[C@H](CO)[C@@H](O)[C@H](O)C2)OC=C(C(=O)OC)[C@H]1CC(=O)OCCc1ccc(O)c(O)c1', 'CC(=O)OC[C@H]1O[C@@H](CC2=C(C)OC(=C3CCCCC3)C2=O)[C@H](OC(C)=O)[C@@H](OC(C)=O)[C@@H]1OC(C)=O', 'COc1cc(C2c3cc(O)ccc3CC(COC3OC(CO)C(O)C(O)C3O)C2CO)cc(OC)c1O', 'CC(=O)O[C@@H]1C/C(C)=C\\\\[C@@H]2OC(=O)[C@]3(C)O[C@]23[C@@H](OC(C)=O)[C@H]2[C@]3(C)O[C@@H]3C[C@H](O)[C@]2(C)[C@H]1OC(C)=O', 'COc1ccc([C@H]2Oc3c(OC)cc(CCCO)cc3[C@H]2CO)cc1O[C@H]1O[C@@H](CO)[C@@H](O)[C@@H](O)[C@@H]1O', 'COc1cc(C[C@@H]2CO[C@@H](c3ccc(O[C@H]4O[C@@H](CO)[C@H](O)[C@@H](O)[C@@H]4O)c(OC)c3)[C@@H]2CO)ccc1O', 'COc1cc(C[C@@H](CO[C@@H]2O[C@@H](CO)[C@@H](O)[C@@H](O)[C@H]2O)c2cc(C=CCO)cc(OC)c2O)ccc1O', 'COc1ccc([C@@H]2Oc3c(OC)cc(CCCO)cc3[C@H]2CO)cc1O[C@@H]1O[C@@H](CO)[C@@H](O)[C@@H](O)[C@H]1O', 'COc1ccc(/C=C/C(=O)O[C@H]2[C@H](O[C@@H]3OC=C[C@H]4C[C@H](O)[C@H](C)[C@@H]34)O[C@H](CO)[C@@H](O)[C@@H]2O)cc1OC', 'COc1cc(CC(CO)c2cc(C=CCO)cc(OC)c2OC2OC(CO)C(O)C(O)C2O)ccc1O', 'COC(=O)C1=C2CC[C@H]3C(=O)O[C@@H](c4ccoc4)C[C@]3(C)[C@H]2CC[C@H]1O[C@@H]1O[C@H](CO)[C@@H](O)[C@H](O)[C@H]1O', 'COc1cc(CC(CO)c2cc(/C=C/CO)cc(OC)c2O[C@@H]2O[C@H](CO)[C@@H](O)[C@H](O)[C@H]2O)ccc1O', 'COC(=O)[C@@]12OC[C@]34[C@H]([C@@H](O)[C@@H]1O)[C@@]1(C)CC(=O)C(=O)[C@@H](C)[C@@H]1C[C@H]3OC(=O)[C@H](OC(=O)CC(C)C)[C@@H]24', 'COC(=O)[C@@]12OC[C@]34C(C(O)[C@@H]1O)[C@@]1(C)CC(=O)C(O)=C(C)C1C[C@H]3OC(=O)[C@H](OC(=O)CC(C)C)[C@@H]24', 'COc1cc(C[C@@H]2CO[C@@H](c3ccc(O)c(OC)c3)[C@@H]2CO[C@@H]2O[C@H](CO)[C@@H](O)[C@H](O)[C@H]2O)ccc1O', 'Cc1ccccc1OC[C@H]1O[C@H](O[C@H]2O[C@H](COc3ccccc3C)[C@@H](O)[C@H](O)[C@H]2O)[C@H](O)[C@@H](O)[C@H]1O', 'COc1cc2c(cc1O)C(c1ccc(O[C@@H]3O[C@H](CO)[C@@H](O)[C@H](O)[C@H]3O)cc1OC)C(CO)C(CO)C2', 'COc1cc(C[C@@H](CO)c2cc(C=CCO)cc(OC)c2O[C@@H]2O[C@H](CO)[C@@H](O)[C@H](O)[C@H]2O)ccc1O', 'CC(=O)O[C@H]1C[C@@H](OC(C)=O)[C@]2(C)C=C[C@H](O)[C@@](C)(O)[C@H]2[C@@H](OC(C)=O)[C@@]23O[C@]2(C)C(=O)O[C@@H]3/C=C/1C', 'COc1cc([C@@H]2Oc3c(OC)cc(CCCO)cc3[C@@H]2CO[C@@H]2O[C@H](CO)[C@@H](O)[C@H](O)[C@H]2O)ccc1O', 'CC(=O)O[C@H]1C[C@H]2O[C@@]2(C)[C@@H]2[C@H](OC(C)=O)[C@]34O[C@@]3(C)C(=O)O[C@H]4/C=C(/C)C[C@@H](OC(C)=O)[C@H](O)[C@@]12C', 'COc1cc([C@@H]2OC[C@@H](Cc3ccc(O[C@H]4O[C@@H](CO)[C@H](O)[C@@H](O)[C@@H]4O)c(OC)c3)[C@H]2CO)ccc1O', 'COc1cc(C=CCOCCc2cc(OC)c(O[C@@H]3O[C@H](CO)[C@@H](O)[C@H](O)[C@H]3O)c(OC)c2)ccc1O', 'COc1cc([C@H]2c3cc(O)c(OC)cc3CC(CO[C@@H]3O[C@H](CO)[C@@H](O)[C@H](O)[C@H]3O)[C@@H]2CO)ccc1O', 'C=C1[C@@H]2[C@H](O)[C@]34O[C@@]3(C)C(=O)O[C@H]4/C=C(/C)[C@H](OC(C)=O)C[C@H](OC(C)=O)[C@@]2(C)[C@@H](OC(C)=O)C[C@@H]1O', 'CC=C(C)C(=O)O[C@@H](c1cc(OC)c2c(c1)OCO2)[C@@H](C)OC(=O)[C@](C)(O)[C@H](C)OC(=O)[C@@]1(C)O[C@H]1C', 'CC(=O)OC[C@@]12[C@@H]3CCC[C@]1(O)CO[C@]2(O)[C@@H](OC(C)=O)[C@@H](C)[C@]31C[C@@H](c2ccoc2)O[C@H]1OC(C)=O', 'COc1cc(C[C@@H]2CO[C@H](c3ccc(O[C@@H]4O[C@H](CO)[C@@H](O)[C@H](O)[C@H]4O)c(OC)c3)[C@H]2CO)ccc1O', 'CC(=O)O[C@@H]1C/C(C)=C\\\\[C@@H]2OC(=O)[C@]3(C)O[C@]23[C@@H](OC(C)=O)[C@@H]2[C@](C)(O)[C@H](OC(C)=O)C=C[C@]2(C)[C@@H]1O', 'COc1cc2c(cc1O)[C@@H](c1cc(OC)c(O)c(OC)c1)[C@H](CO[C@@H]1OC[C@@H](O)[C@H](O)[C@@H]1O)[C@@H](CO)C2', 'C[C@@]1(C[C@@H](O[C@@H]2O[C@H](CO)[C@@H](O)[C@H](O)[C@H]2O)c2ccoc2)[C@H]2C[C@H](OC2=O)[C@@]2(C)C(C(=O)O)=CCC[C@@H]12', 'CC(=O)O[C@H]1C[C@@H](OC(C)=O)/C(C)=C\\\\[C@@H]2OC(=O)[C@]3(C)O[C@]23[C@@H](OC(C)=O)[C@H]2[C@](C)(O)[C@H](O)C=C[C@]12C', 'Cc1cc(C)cc(Oc2cccc([C@H]3O[C@H](CO)[C@H](O)[C@H](O[C@H]4O[C@H](CO)[C@@H](O)[C@H](O)[C@@H]4O)[C@H]3O)c2)c1', 'CC(=O)OC1C(C)C2C(OC(C)=O)C3(O)C(C=C(CO)C=CC(OC(C)=O)C2(C)C2OC12)OC(=O)C3C', 'COc1cc(C(O)C(CO)Oc2c(OC)cc(CCCO)cc2OC)ccc1OC1CC(O)C2OC2O1', 'COc1cc2c(cc1O)[C@@H](c1ccc(O[C@@H]3O[C@H](CO)[C@@H](O)[C@H](O)[C@H]3O)c(OC)c1)[C@H](CO)[C@@H](CO)C2', 'COc1cc(CC2COC(c3ccc(O[C@@H]4O[C@H](CO)[C@@H](O)[C@H](O)[C@H]4O)c(OC)c3)C2CO)ccc1O', 'COC(=O)[C@]12OC[C@]34[C@H]([C@@H](O)[C@@H]1O)[C@@]1(C)C[C@@H](O)C(=O)[C@@H](C)[C@@H]1C[C@H]3OC(=O)[C@H](OC(=O)C=C(C)C)[C@@H]24', 'CC1=CC(=O)CC(C)(C)[C@H]1/C=C/[C@H](C)O[C@@H]1O[C@H](COC(=O)c2cc(O)c(O)c(O)c2)[C@@H](O)[C@H](O)[C@H]1O', 'C=C(CCCC)[C@@H]1CC2OC(=O)[C@]3(C)[C@@]4(O)C(C)C(=O)O[C@H]4[C@H](O)[C@]23C12C(C)OC(=O)[C@@H]2OCC(=O)O', 'COC(=O)[C@]12OC[C@]34[C@H]([C@@H](O)[C@@H]1O)[C@@]1(C)[C@@H](O)C(=O)C=C(C)[C@@H]1C[C@H]3OC(=O)[C@H](OC(=O)CC(C)C)[C@@H]24', 'COc1cc([C@H]2Oc3c(OC)cc(CCCO[C@H]4O[C@@H](CO)[C@H](O)[C@@H](O)[C@@H]4O)cc3[C@H]2CO)ccc1O', 'COc1cc(/C=C/C(=O)O[C@@H](CC(=O)OC(C)(C)C)C(=O)OC(C)(C)C)cc(OC(C)=O)c1OC(C)=O', 'COc1cc(C2Oc3c(OC)cc(CCCOC4OC(CO)C(O)C(O)C4O)cc3C2CO)ccc1O', 'COc1cc(OCCOCCOCCOCCOc2cc(OC)c(C=O)cc2OC)c(OC)cc1C=O', 'CC(=O)OCC1=C/[C@H]2OC(=O)[C@H](C)[C@@]2(O)[C@@H](OC(C)=O)[C@H]2[C@@H](C)[C@@H](OC(C)=O)[C@@H]3O[C@@H]3[C@]2(C)[C@@H](O)\\\\C=C\\\\1', 'CC(=O)OC1CC(C)=CC2OC(=O)C3(C)OC23C(OC(C)=O)C2C3(C)OC3CC(OC(C)=O)C2(C)C1O', 'CCC(OC(C)=O)C(=O)OC1C(=O)OC2CC3C(C)=CC(=O)C(O)C3(C)C3C(O)C(O)C4(C)OCC23C14', 'COc1cc(C2Oc3c(OC)cc(CCCO)cc3C2CO)ccc1O[C@@H]1O[C@H](CO)[C@@H](O)[C@H](O)[C@H]1O', 'COc1cc(CC(CO)c2cc(/C=C/CO)cc(OC)c2OC2OC(CO)C(O)C(O)C2O)ccc1O', 'C/C=C(/C)C(=O)O[C@H](C)[C@](C)(O)C(=O)O[C@H](c1cc(OC)c2c(c1)OCO2)[C@@H](C)OC(=O)[C@]1(C)O[C@@H]1C', 'COC(=O)[C@@]12OC[C@]34[C@H]([C@@H](O)[C@@H]1O)[C@@]1(C)C[C@H](O)C(=O)[C@@H](C)[C@@H]1C[C@H]3OC(=O)[C@H](OC(=O)C=C(C)C)[C@@H]24', 'CC(=O)OC1CC2OC2(C)C2C(OC(C)=O)C34OC3(C)C(=O)OC4C=C(C)CC(O)C(OC(C)=O)C12C', 'COC(=O)[C@@]12OC[C@@]34[C@H](C[C@@H]5C(C)=C(O)C(=O)C[C@]5(C)[C@@H]3[C@@H](O)[C@@H]1O)OC(=O)[C@@H](OC(=O)CC(C)C)[C@H]24', 'CC1=CC(=O)CC(C)(C)[C@H]1C=C[C@@H](C)O[C@@H]1O[C@H](COC(=O)c2cc(O)c(O)c(O)c2)[C@@H](O)[C@H](O)[C@H]1O', 'COC(=O)[C@@]12OC[C@]34[C@H]([C@@H](O)[C@@H]1O)[C@@]1(C)CC(=O)C(O)C(C)[C@@H]1C[C@H]3OC(=O)[C@H](OC(=O)C=C(C)C)[C@@H]24', 'COc1cc(C2Oc3c(OC)cc(CCCO)cc3[C@@H]2CO[C@@H]2O[C@H](CO)[C@@H](O)[C@H](O)[C@H]2O)ccc1O', 'COc1cc([C@@H]2c3cc(O[C@@H]4O[C@H](CO)[C@@H](O)[C@@H](O)[C@H]4O)c(OC)cc3C[C@H](CO)[C@H]2CO)ccc1O', 'CC1OC2CC(OC3CCCCO3)C1(O)C(C)C(O)C1C(=O)C3=C(C(=O)C1C2O)C1OC(=O)C[C@@H]1OC3', 'CCOC1(C)Oc2cccc(OCCO)c2O1.CCOC1(C)Oc2cccc(OCCOC(C)=O)c2O1', 'CC(=O)OC1C=CC(CO)=CC2OC(=O)C(C)C2(O)C(OC(C)=O)C2C3(C)OC3CC(OC(C)=O)C12C', 'COc1cc([C@H]2Oc3c(OC)cc(CCCO)cc3[C@@H]2CO[C@@H]2O[C@H](CO)[C@@H](O)[C@H](O)[C@H]2O)ccc1O', 'C=C1C(=O)O[C@@H]2/C=C(/C)CC/C=C(/C(=O)OC)[C@H](OC(=O)[C@H](C)[C@H](C)O)[C@@H](OC(=O)[C@@](C)(O)C(C)=O)[C@@H]12', 'COc1ccc([C@H]2Oc3c(OC)cc(CCCO)cc3[C@H]2CO)cc1O[C@@H]1O[C@@H](CO)[C@@H](O)[C@@H](O)[C@@H]1O', 'COc1cc2c(cc1O)[C@H](c1ccc(O[C@@H]3O[C@H](CO)[C@@H](O)[C@H](O)[C@H]3O)c(OC)c1)[C@@H](CO)[C@H](CO)C2', 'CC(C)(CO)CO.CC1(C)COC(c2ccc(O)c(C(=O)O)c2)OC1.O=Cc1ccc(O)c(C(=O)O)c1', 'CC(=O)OC1CC(O)C2(C)C=CC(OC(C)=O)C(C)(O)C2C(OC(C)=O)C23OC2(C)C(=O)OC3C=C1C', 'COc1ccc([C@@H]2Oc3c(OC)cc(CCCO)cc3[C@@H]2CO)cc1O[C@H]1O[C@@H](CO)[C@@H](O)[C@@H](O)[C@@H]1O', 'COC(=O)C12OC[C@]34[C@H]([C@@H](O)[C@@H]1O)[C@@]1(C)CC(=O)C(O)=C(C)[C@@H]1C[C@H]3OC(=O)[C@H](OC(=O)CC(C)C)[C@@H]24', 'COc1ccc([C@@H]2Oc3c(OC)cc(CCCO)cc3[C@@H]2CO)cc1O[C@H]1O[C@@H](CO)[C@H](O)[C@@H](O)[C@@H]1O', 'O=C(COC(=O)C1CC2OC2CC1C(=O)OCC(=O)OCC1CCC2OC2C1)OCC1CCC2OC2C1', 'COc1cc([C@@H]2O[C@H](c3ccc(O[C@@H]4O[C@H](CO)[C@@H](O)[C@H](O)[C@H]4O)c(OC)c3)[C@H](CO)[C@H]2C)ccc1O', 'C=CC(=O)OCC(CC)(COCC(COC(=O)C=C)(COC(=O)C=C)COC(=O)C=C)COC(=O)C=C', 'COC(=O)C12OCC34C(CC5C(C)C(=O)C(O)CC5(C)C3C(O)C1O)OC(=O)C(OC(=O)C=C(C)C)C24', 'COc1c(C(O)CC(C)C)ccc(Oc2c(O)cc(C)cc2CO[C@@H]2OC[C@@H](O)[C@H](O)[C@H]2O)c1C(=O)O', 'COc1ccc([C@H]2Oc3c(OC)cc(CCCO)cc3[C@H]2CO)cc1O[C@H]1O[C@@H](CO)[C@@H](O)[C@@H](O)[C@H]1O', 'COC(=O)C12OCC34C(CC5C(C)=CC(O)C(O)C5(C)C3C(O)C1O)OC(=O)C(OC(=O)C=C(C)C)C24', 'COc1ccc([C@@H]2Oc3c(OC)cc(CCCO)cc3[C@H]2CO)cc1O[C@@H]1O[C@@H](CO)[C@@H](O)[C@@H](O)[C@@H]1O', 'OC[C@H]1O[C@@H](OC[C@H]2O[C@H](O)[C@H](OCc3ccccc3)[C@@H](OCc3ccccc3)[C@@H]2O)[C@H](O)[C@@H](O)[C@H]1O', 'COc1cc([C@H]2Oc3c(OC)cc(CCCO[C@@H]4O[C@H](CO)[C@@H](O)[C@H](O)[C@H]4O)cc3[C@@H]2CO)ccc1O', 'CCCc1cc(OC)c(OC(CO)C(O)c2ccc(OC3OC4OC4C(O)C3O)c(OC)c2)c(OC)c1', 'OC[C@@H](O)[C@@H](O)[C@H](O)C(O)=C(O)[C@@H]1O[C@H](COCc2ccccc2)[C@H](O)[C@H](OCc2ccccc2)[C@H]1O', 'COc1cc(O[C@@H]2O[C@H](CO)[C@@H](O)[C@H](O)[C@H]2O)ccc1C1Oc2c(OC)cc(CCCO)cc2C1CO', 'COc1cc(C2c3cc(O)c(OC)c(OC)c3CC(CO)C2CO)ccc1OC1OCC(O)C(O)C1O', 'COc1cc([C@H]2c3cc(O[C@@H]4O[C@H](CO)[C@@H](O)[C@H](O)[C@H]4O)c(OC)cc3C[C@@H](CO)[C@@H]2CO)ccc1O', 'C=C1C(=O)OC2C3OC(C)(CCC(OC(C)=O)C3COC(C)=O)CC(OC(=O)C(=CC)COC(C)=O)C12', 'CC=C(C)C(=O)OC(C)C(C)(O)C(=O)OC(c1cc(OC)c2c(c1)OCO2)C(C)OC(=O)C1(C)OC1C', 'COc1cc([C@H]2Oc3c(OC)cc(CCCO[C@@H]4O[C@H](CO)[C@@H](O)[C@H](O)[C@H]4O)cc3[C@@H]2OC)ccc1O', 'C=C1C(=O)OC2CC(COC(C)=O)C3(OC(C)=O)CC(OC(C)=O)C(C)(CC(OC(=O)C(C)=CC)C12)O3', 'CC1(CC(OC2OC(CO)C(O)C(O)C2O)c2ccoc2)C2CC(OC2=O)C2(C)C(C(=O)O)=CCCC12', 'CC(=O)O[C@@H]1C/C(C)=C\\\\[C@@H]2OC(=O)C3(C)O[C@@]23[C@@H](OC(C)=O)[C@H]2[C@](C)(O)[C@H](OC(C)=O)C=C[C@@]2(C)[C@@H]1O', 'CC1=CC(=O)CC(C)(C)C1C=CC(C)OC1OC(COC(=O)c2cc(O)c(O)c(O)c2)C(O)C(O)C1O', 'CCCCCCC(O)C1C2=C(CC(C(O)C(O)C/C=C/CO)CC3=C(C(=O)OC3=O)C1O)C(=O)OC2=O', 'CC[C@@H](OC(C)=O)C(=O)O[C@H]1C(=O)O[C@@H]2C[C@H]3C(C)=CC(=O)[C@@H](O)[C@]3(C)[C@H]3[C@@H](O)[C@H](O)[C@@]4(C)OC[C@]32[C@@H]14', 'COc1cc([C@H]2Oc3c(OC)cc(CCCO)cc3[C@@H]2CO)cc(OC)c1O[C@@H]1OC[C@@H](O)[C@H](O)[C@H]1O', 'COc1cc2c(cc1O)[C@H](c1cc(OC)c(O)c(OC)c1)[C@H](CO[C@H]1OC[C@@H](O)[C@H](O)[C@H]1O)[C@@H](CO)C2', 'COc1cc(CC(CO)C(=Cc2ccc(OC3OC(CO)C(O)C(O)C3O)c(OC)c2)CO)ccc1O', 'CC(=O)OC1CC(O)C(C)C2C1(C)C1(O)C(OC(C)=O)CC(C)=CC3OC(=O)C4(C)OC34C21OC(C)=O', 'CC(=O)OCC12C3CCCC1(O)COC2(O)C(OC(C)=O)C(C)C31CC(c2ccoc2)OC1OC(C)=O', 'CC(=O)O[C@H]1C[C@](C)(O)[C@]23OC(C)(C)[C@H](C[C@H](OC(=O)c4ccco4)[C@]2(C)[C@H]1OC(C)=O)[C@H]3OC(C)=O', 'C.C.COC(=O)c1ccc(O)c(C(=O)OC)c1C.COC(=O)c1ccc(OC(C)=O)c(C(=O)OC)c1C', 'COc1ccc(C2Oc3c(OC)cc(CCCO)cc3C2CO)cc1OC1OC(CO)C(O)C(O)C1O', 'COc1cc(CC(COC2OC(CO)C(O)C(O)C2O)c2cc(C=CCO)cc(OC)c2O)ccc1O', 'C=C(C)C(=O)OCC(O)COC(=O)c1ccccc1C(=O)OCCC(=O)OCCOC(=O)C(C)(C)CC', 'COc1cc([C@H]2c3cc(O)c(OC)cc3C[C@@H](CO)C2C2(OC)O[C@H](CO)[C@@H](O)[C@H](O)[C@H]2O)ccc1O', 'CC(=O)O[C@H]1C/C(C)=C\\\\[C@H]2OC(=O)[C@@]3(C)O[C@@]23[C@H](OC(C)=O)[C@@H]2[C@@](C)(O)[C@@H](O)C=C[C@@]2(C)[C@@H]1OC(C)=O', 'COc1c([C@H](O)CC(C)C)ccc(Oc2c(O)cc(C)cc2CO[C@@H]2OC[C@@H](O)[C@H](O)[C@H]2O)c1C(=O)O', 'COc1cc(C[C@H]2CO[C@H](c3ccc(O)c(OC)c3)[C@H]2CO[C@@H]2O[C@H](CO)[C@@H](O)[C@H](O)[C@H]2O)ccc1O', 'CC(=O)OC1CC2OC2(C)C2C(O)C34O[C@@]3(C)C(=O)OC4/C=C(/C)C[C@@H](OC(C)=O)[C@H](OC(C)=O)[C@@]12C', 'COC(=O)C12OCC34C(CC5C(C)=C(O)C(=O)CC5(C)C3C(O)C1O)OC(=O)C(OC(=O)CC(C)C)C24', 'COc1cc(O)cc(CC(CO)c2cc(/C=C/CO)cc(OC)c2O[C@@H]2O[C@H](CO)[C@@H](O)[C@H](O)[C@H]2O)c1', 'CCOC(=O)c1c(O)c2ccc(O[C@@H]3OC(C)(C)[C@H](OC)[C@H](O)[C@H]3OC3CCCCO3)c(C)c2oc1=O', 'COc1cc(C2Oc3c(OC)cc(CCCO)cc3C2CO)ccc1OC1OC(CO)C(O)C(O)C1O', 'COc1cc(C[C@@H]2CO[C@H](c3ccc(O[C@H]4O[C@@H](CO)[C@@H](O)[C@@H](O)[C@H]4O)c(OC)c3)[C@@H]2CO)ccc1O', 'CC(=O)O[C@@H]1C/C(C)=C\\\\[C@H]2OC(=O)[C@]3(C)O[C@]23[C@@H](OC(C)=O)[C@H]2[C@](C)(O)[C@H](OC(C)=O)C=C[C@]2(C)[C@@H]1O', 'CC(=O)OC1CC(C)=CC2OC(=O)C3(C)OC23C(OC(C)=O)C2C3(C)OC3CC(O)C2(C)C1OC(C)=O', 'COc1cc2c(cc1O)C(c1cc(OC)c(O)c(OC)c1)[C@H](CO[C@@H]1OC[C@@H](O)[C@H](O)[C@H]1O)C(CO)C2', 'COc1cc(C[C@@H]2CO[C@@H](c3ccc(O[C@H]4[C@H](O)[C@@H](O)[C@H](O)O[C@@H]4CO)c(OC)c3)[C@@H]2CO)ccc1O', 'CC(=O)O[C@H]1C=C[C@]2(C)[C@@H](OC(C)=O)C[C@@H](O)/C(C)=C/[C@@H]3OC(=O)[C@]4(C)O[C@]34[C@@H](OC(C)=O)[C@@H]2[C@@]1(C)O', 'COC(=O)[C@@]12OC[C@]34C(C(O)[C@@H]1O)[C@@]1(C)CC(=O)C(O)=C(C)[C@@H]1C[C@H]3OC(=O)C(OC(=O)CC(C)C)C42', 'COc1ccc([C@H]2Oc3c(OC)cc(CCCO)cc3[C@H]2CO)cc1O[C@@H]1O[C@@H](CO)[C@@H](O)[C@@H](O)[C@H]1O', 'COC(=O)[C@@]12OC[C@]34[C@H](C(O)C1O)[C@@]1(C)CC(=O)C(O)=C(C)[C@@H]1C[C@H]3OC(=O)C(OC(=O)CC(C)C)[C@H]42', 'CC(=O)OCC1(O)C(OC(C)=O)C23OC14OC(C)(C)C1C(=O)CC(C)C(O)(C2C=C(C)C3OC(C)=O)C14', 'COc1cc(C(OC(=O)C(C)(O)C(C)OC(=O)C=C(C)C)C(C)OC(=O)C2(C)OC2C)cc2c1OCO2', 'COC(=O)C12OC[C@]34[C@H]([C@@H](O)[C@@H]1O)[C@@]1(C)C[C@@H](O)C(=O)[C@@H](C)[C@@H]1C[C@H]3OC(=O)[C@H](OC(=O)C=C(C)C)[C@@H]24', 'CC1=C(C(=O)O)[C@@H]2CC(=O)c3cc(CC(C)O)c(O[C@@H]4O[C@H](CO)[C@@H](O)[C@H](O)[C@H]4O)c(O)c3[C@@]2(C)CC1', 'COCOc1cc(/C=C/C(=O)c2c(OCOC)cc(C)cc2OCOC)cc(OCOC)c1OCOC', 'COc1cc([C@@H]2c3cc(O)ccc3C[C@H](CO[C@@H]3O[C@H](CO)[C@@H](O)[C@H](O)[C@H]3O)[C@H]2CO)cc(OC)c1O', 'COc1cc([C@@H]2Oc3c(OC)cc(CCCO)cc3[C@@H]2CO[C@H]2O[C@H](CO)[C@@H](O)[C@H](O)[C@H]2O)ccc1O', 'CC(=O)OC1CC(OC(C)=O)C2(C)C(OC(C)=O)CC3OC3(C)C2C(O)C23OC2(C)C(=O)OC3C=C1C', 'COc1cc(C2Oc3c(OC)cc(CCCOC4OC(CO)C(O)C(O)C4O)cc3C2OC)ccc1O', 'COc1cc([C@H]2OC[C@@H](Cc3ccc(O[C@@H]4O[C@H](CO)[C@@H](O)[C@H](O)[C@H]4O)c(OC)c3)[C@@H]2CO)ccc1O', 'COc1cc(C[C@H](CO[C@@H]2O[C@@H](CO)[C@@H](O)[C@@H](O)[C@H]2O)c2cc(C=CCO)cc(OC)c2O)ccc1O', 'COc1cc([C@@H]2Oc3c(OC)cc(CCCO[C@@H]4O[C@H](CO)[C@@H](O)[C@H](O)[C@H]4O)cc3[C@H]2CO)ccc1O', 'COc1cc(C2Oc3c(OC)cc(CCCO)cc3C2COC2OC(CO)C(O)C(O)C2O)ccc1O', 'COCOc1ccc(/C=C/C(=O)c2c(OCOC)cc(OCOC)c(C)c2OCOC)cc1OCOC', 'COc1cc(C[C@@H](CO[C@@H]2O[C@@H](CO)[C@@H](O)[C@@H](O)[C@@H]2O)c2cc(C=CCO)cc(OC)c2O)ccc1O', 'C=C(C[C@@H]1C(C(=O)O)=CO[C@@H](OC2(C)O[C@H](CO)[C@@H](O)[C@H](O)[C@H]2O)/C1=C/C)OCCc1ccc(O)cc1', 'CCCO/C(=C(O)\\\\C(O)=C(\\\\C)C(=O)O)[C@]1(C)OC(=O)[C@]23CC=C(C(=O)OC)CC[C@]2(OC(C)=O)[C@@H]1CC3', 'CC(C)(O)[C@H]1CC(=O)[C@]2(C)[C@H]([C@@H](O)C[C@@]3(C)[C@H](C4=C[C@@H](O)OC4=O)OC(=O)[C@H]4O[C@]432)[C@@]1(C)CCC(=O)O', 'CC(=O)OC1CC2OC2(C)C2[C@H](O)C34O[C@@]3(C)C(=O)OC4/C=C(/C)C[C@H](OC(C)=O)[C@H](OC(C)=O)[C@@]12C', 'CC(=O)OC1CC(OC(C)=O)C2(C)C=CC(O)C(C)(O)C2C(OC(C)=O)C23OC2(C)C(=O)OC3C=C1C', 'CC(=O)OC1C2C[C@H](OC(=O)c3ccco3)[C@]3(C)[C@@H](OC(C)=O)[C@@H](OC(C)=O)C[C@](C)(O)C13OC2(C)C', 'CC(=O)OC[C@@]1(O)[C@@H](OC(C)=O)[C@@]23O[C@@]14OC(C)(C)[C@@H]1C(=O)C[C@@H](C)[C@](O)([C@@H]2C=C(C)[C@@H]3OC(C)=O)[C@H]14', 'COC(=O)[C@@]12OC[C@@]34C(CC5C(C)=C(O)C(=O)C[C@]5(C)C3C(O)[C@@H]1O)OC(=O)C(OC(=O)CC(C)C)C42', 'COC1=CC(=CC(=C1O)OC)[C@H]2C3CO[C@@H](C3CO2)C4=CC(=C(C(=C4)OC)O[C@H]5[C@@H]([C@H]([C@@H]([C@H](O5)CO)O)O)O[C@H]6[C@@H]([C@](CO6)(CO)O)O)OC', 'COc1ccc([C@@H]2OC[C@@H]3[C@@H]2CO[C@@H]3c2cc(OC)c(O[C@@H]3O[C@@H](CO)[C@@H](O)[C@@H](O)[C@H]3O)c(OC)c2)cc1O[C@H]1O[C@@H](CO)[C@@H](O)[C@@H](O)[C@@H]1O', 'COc1cc([C@H]2Oc3c(OC)cc(/C=C/CO[C@@H]4O[C@H](CO)[C@@H](O)[C@H](O)[C@H]4O)cc3[C@@H]2CO)cc(OC)c1O[C@@H]1O[C@H](CO)[C@@H](O)[C@H](O)[C@H]1O', 'CC(=CC(C=C(C)C(=O)O)(C=C(C)C(=O)O)C(CO)(CCO)COC(=O)C=CC(C=CC(=O)O)(C=CC(=O)O)C(CO)(CO)CCO)C(=O)O', 'COc1cc([C@H]2OC[C@H]3[C@@H]2CO[C@@H]3c2cc(OC)c(O[C@@H]3O[C@H](CO[C@@H]4OC[C@](O)(CO)[C@H]4O)[C@@H](O)[C@H](O)[C@H]3O)c(OC)c2)cc(OC)c1O', 'CC(C)C(O)(CC(=O)OCc1ccc(OC2OC(CO)C(O)C(O)C2O)cc1)C(=O)OCc1ccc(OC2OC(CO)C(O)C(O)C2O)cc1', 'COc1ccc(C[C@H]2COC(=O)[C@]2(O)Cc2ccc(O[C@@H]3O[C@H](CO[C@@H]4O[C@H](CO)[C@@H](O)[C@H](O)[C@H]4O)[C@@H](O)[C@H](O)[C@H]3O)c(OC)c2)cc1OC', 'CC(=O)O[C@@H]1[C@@H](OC(C)=O)[C@@H]2O[C@H](COCCOCCOC[C@H]3O[C@@](COCc4ccccc4)(O2)[C@@H](OC(C)=O)[C@@H]3OC(C)=O)[C@H]1OC(C)=O', 'CC(=CC(C=C(C)C(=O)O)(C=C(C)C(=O)O)CC(CO)(CO)COC(=O)C=CC(C=CC(=O)O)(C=CC(=O)O)CC(CO)(CO)CO)C(=O)O', 'COc1cc([C@H]2OC[C@H]3[C@@H]2CO[C@@H]3c2cc(OC)c(O[C@@H]3O[C@H](OC)[C@@H](O)[C@H](O)[C@H]3O)c(OC)c2)ccc1O[C@@H]1O[C@H](CO)[C@@H](O)[C@H](O)[C@H]1O', 'COc1ccc([C@@H]2OC[C@@H]3[C@@H]2CO[C@@H]3c2cc(OC)c(O[C@@H]3O[C@@H](CO)[C@@H](O)[C@@H](O)[C@H]3O)c(OC)c2)cc1O[C@@H]1O[C@@H](CO)[C@@H](O)[C@@H](O)[C@H]1O', 'CC(C)[C@@](O)(C(=O)O)C(Cc1ccc(O[C@@H]2O[C@H](CO)[C@@H](O)[C@H](O)[C@H]2O)cc1)(Cc1ccc(O[C@@H]2O[C@H](CO)[C@@H](O)[C@H](O)[C@H]2O)cc1)C(=O)O', 'COc1ccc([C@@H]2OC[C@@H]3[C@@H]2CO[C@@H]3c2cc(OC)c(O[C@@H]3O[C@@H](CO)[C@@H](O)[C@@H](O)[C@H]3O)c(OC)c2)cc1O[C@@H]1O[C@@H](CO)[C@@H](O)[C@@H](O)[C@@H]1O', 'COc1cc(C2OCC3C(c4cc(OC)c(OC5OC(OC)C(O)C(O)C5O)c(OC)c4)OCC23)ccc1OC1OC(CO)C(O)C(O)C1O', 'COc1ccc(C[C@@H]2COC(=O)[C@@]2(O)Cc2ccc(O[C@@H]3O[C@H](CO[C@H]4O[C@@H](CO)[C@H](O)[C@H](O)[C@@H]4O)[C@@H](O)[C@H](O)[C@H]3O)c(OC)c2)cc1OC', 'COc1ccc(C2OCC3C(c4cc(OC)c(OC5OC(CO)C(O)C(O)C5O)c(OC)c4)OCC23)cc1OC1OC(CO)C(O)C(O)C1O', 'COc1cc([C@H]2OC[C@@H]3[C@H]2CO[C@@H]3c2cc(OC)c(O[C@H]3O[C@@H](CO)[C@H](O)[C@@H](O)[C@@H]3O)c(OC)c2)ccc1O[C@@H]1O[C@@H](CO)[C@H](O)[C@H](O)[C@H]1O', 'O=C(CCc1ccc(O)c(O)c1)OC1C(COC2OCCC2(O)CO)OC(OCCc2ccc(O)c(O)c2)C(O)C1OC1OCCC1(O)CO', 'COc1ccc(CC2COC(=O)C2(O)Cc2ccc(OC3OC(COC4OC(CO)C(O)C(O)C4O)C(O)C(O)C3O)c(OC)c2)cc1OC', 'COc1cc([C@@H]2OC[C@H]3[C@H]2CO[C@@H]3c2cc(OC)c(O[C@H]3O[C@H](CO)[C@@H](O)[C@H](O)[C@H]3O)c(OC)c2)ccc1O[C@H]1O[C@H](CO)[C@@H](O)[C@H](O)[C@H]1O', 'COc1cc([C@H]2OC[C@H]3[C@@H]2CO[C@@H]3c2cc(OC)c(O[C@@H]3O[C@@H](CO)[C@H](O)[C@@H](O)[C@@H]3O)c(OC)c2)ccc1O[C@@H]1O[C@@H](CO)[C@H](O)[C@@H](O)[C@@H]1O', 'COc1cc(C2OCC3C(c4cc(OC)c(OC5OC(COC6OCC(O)(CO)C6O)C(O)C(O)C5O)c(OC)c4)OCC23)cc(OC)c1O', 'COc1ccc([C@@H]2OC[C@@H]3[C@@H]2CO[C@@H]3c2cc(OC)c(O[C@@H]3O[C@@H](CO)[C@@H](O)[C@@H](O)[C@H]3O)c(OC)c2)cc1O[C@H]1O[C@@H](CO)[C@@H](O)[C@@H](O)[C@H]1O', 'COc1cc(C2OCC3C(c4cc(OC)c(OC5OC(CO)C(O)C(OC6OCC(O)(CO)C6O)C5O)c(OC)c4)OCC23)cc(OC)c1O', 'COc1cc([C@@H]2OC[C@@H]3[C@H]2CO[C@H]3c2cc(OC)c(O[C@@H]3O[C@H](CO)[C@@H](O)[C@H](O[C@@H]4OC[C@](O)(CO)[C@H]4O)[C@H]3O)c(OC)c2)cc(OC)c1O', 'CC(C)[C@@](O)(CC(=O)OCc1ccc(O[C@@H]2O[C@H](CO)[C@@H](O)[C@H](O)C2O)cc1)C(=O)OCc1ccc(O[C@@H]2O[C@H](CO)[C@@H](O)[C@H](O)[C@H]2O)cc1', 'COc1cc(C2OCC3C(c4cc(OC)c(O[C@@H]5O[C@H](CO)[C@@H](O)[C@H](O)[C@H]5O)c(OC)c4)OCC23)ccc1O[C@@H]1O[C@H](CO)[C@@H](O)[C@H](O)[C@H]1O', 'COc1cc(C2OCC3C(c4cc(OC)c(OC5OC(CO)C(O)C(OC6OC[C@](O)(CO)C6O)C5O)c(OC)c4)OCC23)cc(OC)c1O', 'COc1cc([C@@H]2OC[C@@H]3[C@H]2CO[C@H]3c2cc(OC)c(O[C@@H]3O[C@H](CO)[C@@H](O)[C@H](O)[C@H]3O)c(OC)c2)ccc1O[C@@H]1O[C@H](CO)[C@@H](O)[C@H](O)[C@H]1O', 'COc1ccc([C@@H]2OC[C@@H]3[C@H]2CO[C@H]3c2cc(OC)c(O[C@@H]3O[C@H](CO)[C@@H](O)[C@H](O)[C@H]3O[C@@H]3OC[C@](O)(CO)[C@H]3O)c(OC)c2)c(OC)c1O', 'CC(=O)OC(OC(C)=O)[C@H](OCc1ccccc1)[C@@H](O[C@@H]1O[C@@H](C)[C@H](OC(C)=O)[C@@H](OC(C)=O)[C@H]1OC(C)=O)[C@H](OC(C)=O)[C@@H](C)OC(C)=O', 'O=C(CCc1ccc(O)c(O)c1)O[C@H]1[C@H](O[C@@H]2OCC[C@]2(O)CO)[C@@H](O)[C@H](OCCc2ccc(O)c(O)c2)O[C@@H]1CO[C@@H]1OCC[C@]1(O)CO', 'COc1cc([C@H]2OC[C@H]3[C@@H]2CO[C@@H]3c2cc(OC)c(O[C@@H]3O[C@H](CO)[C@@H](O)[C@H](O)[C@H]3O)c(OC)c2)ccc1O[C@@H]1O[C@H](CO)[C@@H](O)[C@H](O)[C@H]1O', 'COc1cc(C2OCC3C(c4cc(OC)c(OC5OC(CO)C(O)C(O)C5O)c(OC)c4)OCC23)ccc1OC1OC(CO)C(O)C(O)C1O', 'CC(=CC(C=C(C)C(=O)O)(C=C(C)C(=O)OCC(CO)(CCO)C(C=CC(=O)O)(C=CC(=O)O)C=CC(=O)O)C(CO)(CO)CCO)C(=O)O', 'CC(=C)[C@@H]1CC2=C(O1)C=CC3=C2O[C@H]4COC5=CC(=C(C=C5[C@]4(C3=O)O)OC)OC', 'CC1(C)C=Cc2c(cc(O)c3c(=O)c4c5c(ccc4oc23)O[C@H](C(C)(C)OO)C5)O1', 'COc1cc2c(cc1OC)[C@@]1(O)C(=O)c3ccc4c(c3O[C@H]1CO2)[C@H]1[C@@H](O4)C1(C)C', 'CC(=O)Oc1ccc(O)cc1.CC1=CCc2c(cc3oc(C)cc(=O)c3c2O)OC1', 'COc1ccc(COc2coc(C=Cc3cc(O)c(OC)c(OC)c3)cc2=O)cc1', 'C=C(CO)[C@H]1Cc2c(ccc3c2O[C@@H]2COc4cc(OC)c(OC)cc4[C@H]2C3=O)O1', 'C=CC(=O)OCCCCOc1ccc(C(=O)Oc2ccc(OC(=O)C=C)cc2)cc1', 'CC(=O)Oc1ccc(O)cc1.COc1c(C(C)C)oc2cc3oc(=O)ccc3cc12', 'COc1ccc2c(C)c(CCC(=O)OCCOC(=O)c3ccccc3)c(=O)oc2c1', 'CCOc1cccc2cc(C(=O)/C=C/c3cc(OC)c(OC)cc3OC)c(=O)oc12', 'C=CCOC(=O)COc1ccc2oc(=O)c(-c3ccc(OC)cc3OC)c(C)c2c1', 'CCOC(=O)CCc1ccc(C(=O)c2cc3c(OC)cc(OC)cc3oc2=O)cc1', 'O=C(O)c1cccc(OCC(O)COc2cccc3oc(=O)c4c(c23)CCCC4)c1', 'C#C[C@]1(O)C(O)O[C@H](COC(=O)c2ccc(C)cc2)[C@H]1OC(=O)c1ccc(C)cc1', 'COc1ccc2c(COC(=O)c3ccc(OC[C@H]4CCCO4)cc3)cc(=O)oc2c1', 'COc1cc2c(cc1OC)[C@]1(O)C(=O)c3ccc4c(c3O[C@@H]1CO2)[C@H]1[C@H](O4)C1(C)C', 'CCCOC(=O)c1ccc(Oc2coc3cc(OC(=O)C(C)C)ccc3c2=O)cc1', 'C=C(CO)[C@@H]1Cc2c(ccc3c2O[C@H]2COc4cc(OC)c(OC)cc4[C@H]2C3=O)O1', 'COc1cc(C(=O)OCc2cc(=O)oc3cc4c(cc23)CCC4)cc(OC)c1OC', 'C=C(C)C(=O)OCC(=O)Oc1ccc(-c2ccc(OC(=O)C(=C)C)cc2)cc1OC', 'COc1cc(/C=C\\\\C(=O)CC(=O)/C=C/c2ccc(OC(C)=O)c(OC)c2)ccc1O', 'COc1cc2c(cc1OC)[C@@]1(O)C(=O)c3ccc4c(c3O[C@H]1CO2)[C@@H]1[C@H](O4)C1(C)C', 'C=C(C)[C@@H]1Cc2c(ccc3c2O[C@H]2[C@H](O)Oc4cc(OC)c(OC)cc4[C@H]2C3=O)O1', 'COC(=O)Cc1c(C)c2ccc(OCc3ccc(C(=O)OC)cc3)c(C)c2oc1=O', 'CCOC(=O)c1cc2ccc(OC(=O)COc3ccccc3C(C)C)cc2oc1=O', 'COC(=O)c1cc(COC(=O)COc2ccc(OCc3ccccc3)cc2)oc1C', 'C=C(C)C(=O)Oc1cc(C(=O)c2ccccc2)c(OC)c(OC)c1OC(=O)C(=C)C', 'CCc1cc2c(=O)c(-c3ccc4c(c3)OCCO4)coc2cc1O[C@@H](C)C(=O)OC', 'C=C(C)[C@H](Cc1c2c(c(O)c3c(=O)c4cc(O)ccc4oc13)C=CC(C)(C)O2)OO', 'COc1cc2c(cc1OC)C1C(=O)c3ccc4c(c3OC1CO2)C[C@H]([C@]1(C)CO1)O4', 'COc1cc2c(-c3ccc4c(c3)OCO4)c3c(cc2c(OC)c1OC)COC3OC', 'C=C(C)[C@@H]1Cc2c(ccc3c2O[C@H]2[C@@H](O)Oc4cc(OC)c(OC)cc4[C@@H]2C3=O)O1', 'C/C(C=O)=C/C[C@]12OC(C)(C)[C@@H]3C[C@H](C1=O)C1OC14C(=O)c1c(O)cccc1O[C@@]342', 'CCc1cc(=O)oc2cc(OC(=O)/C=C/c3cc(OC)c(OC)c(OC)c3)ccc12', 'CC1(C)C[C@H]2OC(=O)O[C@H]2[C@]2(C1)OCc1cc(-c3ccccc3C(=O)O)ccc1O2', 'CCCc1cc2c(=O)c(-c3ccc4c(c3)OCO4)c(C)oc2cc1OCC(=O)OC', 'COc1cc2c(c(OC)c1OC)C(C(=O)c1ccc3c(c1O)C=CC(C)O3)=CCO2', 'C=C(C)[C@@H]1Cc2c(ccc3c2O[C@H]2C(O)Oc4cc(OC)c(OC)cc4[C@H]2C3=O)O1', 'COc1c(-c2ccc3c(c2)OCO3)oc2cc(OCC=C(C)C)cc(OC)c2c1=O', 'CC1C2OC3(C)OC(C2OC(=O)c2ccccc2)C(OC(=O)c2ccccc2)[C@@H]1O3', 'C=C(C)C(=O)OCC(=O)Oc1ccc(-c2ccc(OC(=O)C(=C)C)cc2)c(OC)c1', 'COC(=O)c1cc2cccc(OC)c2c(-c2ccc(OC)c(OC)c2)c1C(=O)OC', 'COc1ccc2c(c1CC=C(C)C)O[C@@H]1COc3cc4c(cc3[C@@]1(O)C2=O)OCO4', 'C=C1C(=O)O[C@H]2[C@H]3C(CO)=CC(=O)C3=C(C)C[C@H](OC(=O)Cc3ccc(O)cc3)[C@H]12', 'COc1ccc(OC)c(COC(=O)COc2ccc3c4c(c(=O)oc3c2)CCC4)c1', 'CCOC(=O)OCc1ccccc1O.O=C(Oc1ccccc1)Oc1ccccc1', 'C=C(C)C1Cc2c(cc3oc4c(O)c(O)c(O)c(CC=C(C)C)c4c(=O)c3c2O)O1', 'C=C(C)C(=O)OCOc1ccc(OC(=O)c2ccc(COC(=O)C(=C)C)cc2)cc1', 'COc1cccc(/C=C/C(=O)OCC(=O)COC(=O)/C=C/c2cccc(OC)c2)c1', 'COc1cc(/C=C/C(=O)OCc2cc(=O)oc3cc(O)ccc23)ccc1OC(C)C', 'C=C(C)[C@@H]1Cc2c(ccc3c2O[C@@H]2[C@@H](O)Oc4cc(OC)c(OC)cc4[C@@H]2C3=O)O1', 'C=C(C)[C@@H](O)Cc1c2c(c3oc4c(O)c(O)ccc4c(=O)c3c1O)C=CC(C)(C)O2', 'COc1ccc2c(COC(=O)c3ccccc3OC[C@@H]3CCCO3)cc(=O)oc2c1', 'COC(=O)[C@@H](CC(=O)c1ccc(OC)cc1)c1cc(=O)oc2c(C)c(OC)ccc12', 'CCOC(=O)c1oc2ccccc2c1COC(=O)Cc1cc(C(C)=O)ccc1OC', 'COc1cccc2c1C(=O)c1c(c(OC)c3c(OC)cccc3c1O)C2(OC)OC', 'C=C(C)[C@H]1Cc2c(cc(O)c3c2O[C@H]2COc4cc(OC)c(OC)cc4[C@@H]2C3=O)O1', 'C=CCOC1=C(c2ccc(OC)c(OC)c2)C(=O)c2cc(OC)c(OC)cc2C1=O', 'COc1cc(OC)c2c(c1)C(=O)c1cc3c(c(OC)c1C2=O)C1CCCC(C)(O3)O1', 'COc1cc(OC)c(-c2coc3c4c(cc(O)c3c2=O)OC(C)(C)C=C4)cc1OC', 'COc1ccc(OC)c(C(=O)OCC(C)CC2=C(O)c3ccccc3C(=O)C2=O)c1', 'COc1cc(/C=C/C(=O)OCC(=O)c2oc3ccccc3c2C)cc(OC)c1OC', 'COc1ccc(OC)c2c1C(=O)C=C([C@@H](CC=C(C)C)OC(=O)c1ccco1)C2=O', 'CCOC(=O)C(C)(C)Oc1ccc(C(=O)c2cc3ccc(OC)cc3oc2=O)cc1', 'COc1ccc2c(c1)C(=O)C(OC(C)=O)(c1ccc(C(C)C)cc1OC(C)=O)C2=O', 'COc1cc2c(cc1OC)[C@@]1(O)C(=O)c3ccc4c(c3O[C@@H]1CO2)C=CC(C)(C)O4', 'CCc1cc2c(=O)c(-c3ccc4c(c3)OCCO4)c(C)oc2cc1OCC(=O)OC', 'CC(=O)OCC1(COC(=O)c2ccccc2)O[C@@H]1/C=C\\\\COC(=O)c1ccccc1', 'COc1cc(OC)cc(OCCCCOc2c3ccoc3cc3oc(=O)ccc23)c1', 'C/C(=C/Cc1c2c(c(O)c3c(=O)c4ccc(O)c(O)c4oc13)C=CC(C)(C)O2)CO', 'C#CC(C)(C)Oc1cc(O)c2c(=O)c(-c3cc(OC)c(OC)cc3OC)coc2c1', 'CCOC(=O)C(CC(=O)c1ccccc1)c1cc(=O)oc2c(OC)c(OC)ccc12', 'C=C1c2cc3c(cc2[C@@H](c2cc(OC)c(OC)c(OC)c2)C2C(=O)OC[C@H]12)OCO3', 'CC(=O)OC12CC3(C)OC(O1)C1(COC(=O)c4ccc5ccccc5c4)C2CC31O', 'COc1cc2c(cc1OC)C1C(=O)c3ccc4c(c3OC1CO2)C=CC(C)(CO)O4', 'COc1cc(C(=O)COC(=O)COc2ccc3ccccc3c2)cc(OC)c1OC', 'C=C(C)C(=O)Oc1c(OC)c(OC(=O)C(=C)C)c2ccccc2c1OC(=O)C(=C)C', 'CC1(C)C=Cc2c(cc(O)c3c(=O)c4c5c(ccc4oc23)OC(C(C)(C)OO)C5)O1', 'CCc1cc2c(=O)c(-c3ccc4c(c3)OCCO4)coc2cc1OC(C)C(=O)OC', 'C=C(C)[C@@H]1Cc2c(cc3oc4c(O)c(O)c(O)c(CC=C(C)C)c4c(=O)c3c2O)O1', 'C=C(C)[C@@H]1Oc2ccc3c(c2[C@@H]1O)O[C@@H]1COc2cc(OC)c(OC)cc2[C@@H]1C3=O', 'COC1=C(C)OC(Oc2ccc3c(C)c(-c4ccccc4)c(=O)oc3c2)C(O)C1O', 'COc1ccc(-c2c3c(cc4cc(OC)c(OC)c(OC)c24)COC3=O)cc1OC', 'COc1cc(OC)c(C#CC(=O)C#Cc2c(OC)cc(OC)cc2OC)c(OC)c1', 'CC(=O)OCC1(COC(=O)c2ccccc2)OC1C=CCOC(=O)c1ccccc1', 'C#CCO[C@@H]1O[C@@H]2CO[C@@H](c3ccccc3)O[C@H]2[C@H](OC(=O)c2ccccc2)[C@H]1O', 'C=C(CO)[C@@H]1Cc2c(ccc3c2O[C@@H]2COc4cc(OC)c(OC)cc4[C@@H]2C3=O)O1', 'COC(=O)Cc1c(C)c2ccc(OCC(=O)c3cccc(OC)c3)c(C)c2oc1=O', 'C=C1c2cc3c(cc2[C@@H](c2cc(OC)c(OC)c(OC)c2)[C@@H]2C(=O)OC[C@H]12)OCO3', 'CCOC(=O)C=CC(=O)OCCC(=O)OC(=O)C(c1ccccc1)c1ccccc1', 'CCOC(=O)c1cc2ccc(OC(=O)COc3cc(C)cc(C)c3C)cc2oc1=O', 'COc1cc2c(cc1OC)[C@@]1(O)C(=O)c3ccc4c(c3O[C@@H]1CO2)[C@H]1[C@H](O4)C1(C)C', 'CCCC(=O)Oc1cc2oc(-c3ccccc3)cc(=O)c2c(O)c1OC(=O)CCC', 'C=C(C)[C@H]1Cc2c(cc3oc(-c4ccc(OC)c(OC)c4)c(OC)c(=O)c3c2O)O1', 'COC(=O)Oc1ccc(C(=O)Oc2ccc(C(=O)OCC3C=CCCC3)cc2)cc1', 'COc1cc(/C=C/C(=O)/C=C/c2ccc(OC(C)=O)c(OC)c2)ccc1CC(=O)O', 'COCOc1c(OC)cc(C(=O)C(=O)O)c2cccc(Cc3ccc(OC)cc3)c12', 'CCOc1ccc(C(=O)[C@H](C)OC(=O)COc2ccc3c(C)cc(=O)oc3c2)cc1', 'COc1ccc(-c2c(C)c3cc(OC(=O)C4CCCO4)ccc3oc2=O)cc1OC', 'COc1ccc(/C=C/C(=O)O[C@@H]2[C@H]3OC(=O)C[C@H]3O[C@@H]2[C@@H](O)c2ccccc2)cc1', 'COC(=O)c1ccc(OC(=O)COc2ccc3oc4c(c3c2)CCCC4)c(OC)c1', 'C=C1C(=O)OC2C3C(=C(C)CC(OC(=O)Cc4ccc(O)cc4)[C@@H]12)C(=O)CC3C=O', 'COCC1=C(CC=O)CC=C(Oc2c(C)oc3c(c2=O)=CCC=C(O)C=3C=O)C=C1', 'C#CCO[C@@H]1OC2COC(c3ccccc3)O[C@H]2C(OC(=O)c2ccccc2)C1O', 'COc1cc(C=Cc2ccccc2)c(C(=O)O)c(OC(=O)C(=O)O)c1CC=C(C)C', 'C=C(C)[C@H]1Cc2c(cc3oc4c(O)c(O)c(O)c(CC=C(C)C)c4c(=O)c3c2O)O1', 'C#CCOc1cc(/C=C2\\\\COc3cc(OC)c(OC)c(OC)c3C2=O)ccc1OC', 'COC(=O)Cc1cc(=O)oc2cc(OC(CCCc3ccccc3)C(=O)O)ccc12', 'COCc1cccc(CC2=C(C3=CCOO3)C(=O)OC2(O)c2ccc(OC)cc2)c1', 'COc1cc([C@@H](CC=C(C)C)OC(=O)c2ccco2)c(OC)c2c1C(=O)C=CC2=O', 'C=C.COc1cccc2c1C(=O)c1c(O)c3c(c(O)c1C2=O)C[C@@H](C(=O)CO)CC3', 'C=C(C)[C@@H]1Cc2c(ccc3c2O[C@H]2[C@H](O)Oc4cc(OC)c(OC)cc4[C@@H]2C3=O)O1', 'CCOC(=O)C(Oc1ccc2c(C)c(CC(=O)OC)c(=O)oc2c1)c1ccccc1', 'CC(C)=CCC1C=CC(C(=O)C=Cc2ccc(C(=O)O)cc2)=C(OCC(=O)O)C1=O', 'CC1(C)C=Cc2c(c(O)cc3c(=O)c4c(O)c5c(cc4oc23)OC(CO)C5(C)C)O1', 'COc1c(C)c2c(c(OC(C)=O)c1C/C=C/c1cccc(C)c1C(=O)O)C(=O)OC2', 'CC=CC=CC=CC(=O)CC(=O)C1=C2C=C3C[C@@H](CO)OC=C3C(=O)[C@@]2(C)OC1=O', 'COC(=O)/C(C)=C/c1ccccc1OC/C=C/C(=O)OCc1ccccc1.O=C=O', 'COc1cc(C=CC(=O)C=Cc2ccc(OC(C)=O)c(OC)c2)ccc1OC(C)=O', 'C=C(C)OCCOC(=O)c1cc(OC=O)cc(-c2ccc(OC(=O)C(=C)C)cc2)c1', 'C=CC(=O)OCCOc1ccc(C(=O)c2ccc(OCCOC(=O)C=C)cc2)cc1', 'CCOC(=O)/C=C/C(=O)OCCC(=O)OC(=O)C(c1ccccc1)c1ccccc1', 'COC(=O)c1ccc(/C=C2\\\\Oc3cc(OCC(=O)OC(C)C)cc(C)c3C2=O)cc1', 'CC(=O)OC[C@@]1(COC(=O)c2ccccc2)O[C@H]1/C=C\\\\COC(=O)c1ccccc1', 'COc1ccc(/C=C2\\\\Oc3c(ccc4c3CC3CCOC3O4)C2=O)c(OC)c1OC', 'COc1ccc(C=Cc2oc3c(CC(=O)O)c(OC)ccc3c(=O)c2C)cc1OC', 'COc1c(C)c2c(c(OC(C)=O)c1CC=Cc1c(C)cccc1C(=O)O)C(=O)OC2', 'COc1ccc(-c2cc(=O)c3c(O)cc4c(c3o2)[C@H](CC(C)C)CC(=O)O4)cc1O', 'COc1c2c(c(OC)c3c1C(=O)c1ccccc1C3=O)[C@H](OC)C[C@@](O)(C(C)=O)C2', 'COC(=O)/C=C/C(=O)OCCCC(=O)OC(=O)C(c1ccccc1)c1ccccc1', 'C=C1C(=O)O[C@@H]2[C@H]3C(CO)=CC(=O)C3=C(C)C[C@H](OC(=O)Cc3ccc(O)cc3)[C@@H]12', 'COC(=O)C(C(=O)/C=C/c1ccc(O)c(C)c1)C(=O)/C=C/c1ccc(O)c(CO)c1', 'C=CCOC(=O)COc1ccc2c(c1C)O/C(=C\\\\c1ccc(OC)c(OC)c1)C2=O', 'C#CCO[C@H]1[C@@H](OC(=O)c2ccccc2)[C@H](OC)O[C@@H]1COC(=O)c1ccccc1', 'Cc1cc(OCC(=O)OC(C)(C)C)cc2c1C(=O)/C(=C/c1ccc3c(c1)OCO3)O2', 'COc1ccc(/C=C2\\\\Oc3c(ccc(OC(=O)C4CC4)c3C)C2=O)c(OC)c1OC', 'C=C1C(=O)O[C@@H]2C3C(CO)=CC(=O)C3=C(C)C[C@H](OC(=O)Cc3ccc(O)cc3)C12', 'CCCOC(=O)[C@@H]1Oc2c(c(=O)oc3ccccc23)[C@H]1c1cccc(OCC)c1O', 'COC1=C(C(=O)c2ccc(O)cc2O)C=CC(OC)(OC)C1C(=O)c1ccccc1', 'COc1cc(/C=C/C(=O)OCC(O)COC(=O)/C=C/c2ccccc2)ccc1C=O', 'COC1=C2c3cc(O)c(OC)cc3OC[C@H]2Oc2c1ccc1c2C2OC2C(C)(C)O1', 'COc1ccc(C2CC(=O)c3c(C)cc4oc(=O)cc(C)c4c3O2)c(OC)c1OC', 'COc1cc(/C=C2\\\\Oc3c(ccc(OC(=O)C4CC4)c3C)C2=O)cc(OC)c1OC', 'COc1cc(C(=O)c2cc(-c3ccco3)ccc2O)cc(C2OCCCO2)c1OC', 'COc1c2c(cc3oc4c(CCC(C)(C)O)ccc(O)c4c(=O)c13)O[C@@H]1OC=C[C@H]21', 'COC(=O)COc1ccc(C(=O)c2c(CCOC(C)=O)oc3ccccc23)cc1C', 'COc1cc(/C=C/C(=O)C(C(C)=O)C(=O)/C=C/c2ccc(O)c(OC)c2)ccc1O', 'CCOc1cccc2cc(C(=O)/C=C/c3cc(OC)c(OC)c(OC)c3)c(=O)oc12', 'COc1cc(C(=O)Oc2ccc3c4c(c(=O)oc3c2C)CCC4)cc(OC)c1OC', 'COc1cc(COc2cc(-c3ccccc3)cc(O)c2OCC(=O)O)cc(OC)c1', 'CCOC(=O)C(C)Oc1cc(C)c2c(c1)O/C(=C\\\\c1ccc(C(=O)OC)cc1)C2=O', 'COC(=O)C=CC(=O)OCCCC(=O)OC(=O)C(c1ccccc1)c1ccccc1', 'COc1cc(/C=C/C(=O)/C=C/c2ccc(OC(C)=O)c(CO)c2)ccc1OC(C)=O', 'C=C(C)[C@H]1Cc2c(cc3oc(-c4ccc(O)c(OC)c4)c(OC)c(=O)c3c2OC)O1', 'COc1cc([C@@H]2CC(=O)Oc3ccc4c(c32)OC(C)(C)CC4=O)cc2c1OCCO2', 'CCOc1cccc2cc(C(=O)/C=C/c3ccc(OC)c(OC)c3OC)c(=O)oc12', 'COc1ccc(C2OC[C@H]3OC=C[C@@H](OC(=O)CC(=O)c4ccccc4)[C@@H]3O2)cc1', 'COC(=O)[C@]12O[C@@]1(C(=O)OC)[C@H]1[C@@H]2[C@H]2C[C@@H]1c1c2c(OC)c2ccccc2c1OC', 'COc1cc([C@H]2CC(=O)Oc3ccc4c(c32)OC(C)(C)CC4=O)cc2c1OCCO2', 'C=C(CC(=O)Oc1ccccc1)C(=O)OC(C)OC(=O)/C=C/c1ccc(OC)cc1', 'COc1cccc(/C=C2\\\\Oc3c(ccc(OC(=O)C4CCCO4)c3C)C2=O)c1OC', 'CCOC(=O)CC(=O)CCc1cc(OC)c2c(c1)C(=O)c1c(OC)cccc1C2=O', 'COc1cccc2c1C(=O)c1c(O)c3c(c(O)c1C2=O)CC(O)(C(=O)C(C)C)CC3', 'CC1(C)C=Cc2c(c(C(O)[C@@H]3OC3(C)C)c3oc4ccc(O)cc4c(=O)c3c2O)O1', 'CC(=O)O.CC(=O)O.O=C(c1ccc(-c2ccc(O)cc2)cc1)c1cccc(O)c1', 'C=C1C(=O)OC2C3C(CO)=CC(=O)C3=C(C)CC(OC(=O)Cc3ccc(O)cc3)C12', 'CCc1cc2c(=O)c(-c3ccc4c(c3)OCCO4)coc2cc1O[C@H](C)C(=O)OC', 'C=C1c2cc3c(cc2C(c2cc(OC)c(OC)c(OC)c2)[C@@H]2C(=O)OC[C@H]12)OCO3', 'COc1cc(C=CC(=O)C(C(C)=O)C(=O)C=Cc2ccc(O)c(OC)c2)ccc1O', 'COc1cc(C(=O)/C=C(\\\\O)c2ccc3c(c2)OCO3)c(OC)c2c1OC(C)(C)C=C2', 'CCCc1ccc(OCC(C)OC(=O)c2ccccc2)c2c(=O)cc(C(=O)O)oc12', 'CCOC(=O)COc1cc2oc(C)c(-c3ccc4c(c3)OCO4)c(=O)c2cc1CC', 'COc1cc2c(cc1OC)[C@H]1C(=O)c3c(O)cc4c(c3O[C@H]1CO2)C=CC(C)(C)O4', 'COc1cc2c(cc1OC)[C@]1(O)C(=O)c3ccc4c(c3O[C@H]1CO2)[C@H]1[C@H](O4)C1(C)C', 'COc1ccc(CC(=O)Oc2ccc3c4c(c(=O)oc3c2)CCC4)c(OC)c1OC', 'COc1c(O)c(CC=C(C)C)c2occ(-c3ccc4c(c3)OCO4)c(=O)c2c1OC', 'CCOc1cc(C=C2C(=O)OC(C)(C)OC2=O)ccc1OC(=O)c1cccc(C)c1', 'COC(=O)C(=O)c1ccc(OCCOc2cc3ccccc3cc2OCCO)cc1', 'CC1(C)O[C@H]2OC(c3cc4cccc(O)c4c(=O)o3)[C@H](OCc3ccccc3)[C@H]2O1', 'COc1cc([C@H]2C3=C(CCCC3=O)Oc3cc4c(cc32)OCO4)cc(OC)c1OC', 'CC(=O)O[C@@H]1[C@H](OC(C)=O)C=C(C(=O)c2ccc3ccccc3c2)C[C@H]1OC(C)=O', 'COc1cc(OC)cc(-c2c3c(c(OC)c4cc(OC)c(OC)cc24)COC3=O)c1', 'C[C@@H]1OC[C@]2(O1)[C@H](OC(=O)c1ccccc1)C=C[C@@H](OC(=O)c1ccccc1)[C@@H]2O', 'C=C1c2cc3c(cc2C(c2cc(CO)c(OC)c(OC)c2)[C@@H]2C(=O)OC[C@H]12)OCO3', 'CC(C)=CCc1c2c(c(O)c3c(=O)cc(-c4ccc(O)c(O)c4)oc13)CC(CO)O2', 'COc1cc(/C=C/C(=O)/C=C/c2ccc(OC(C)=O)c(OC)c2)ccc1OC(C)=O', 'CCOC(=O)C1C/C(=C\\\\c2ccc(O)c(O)c2)C(=O)/C(=C/c2ccc(O)c(O)c2)C1', 'C=C(C)CCc1c(OC)cc(/C=C/c2ccccc2)c(C(=O)O)c1OC(=O)C(=O)O', 'CCOC(=O)CCc1cc2c(C)cc(=O)oc2cc1OC(=O)c1cccc(OC)c1', 'CC(=O)OC[C@]1(COC(=O)c2ccccc2)O[C@H]1/C=C\\\\COC(=O)c1ccccc1', 'COc1ccc(C2(O)OC(=O)C(C3=CCOO3)=C2Cc2ccc(OC)c(C)c2)cc1', 'CCOC(=O)c1cc2ccc(OCc3ccc(C(=O)OC(C)C)cc3)cc2oc1=O', 'COc1c2occc2c(OC)c2c(OCCCCOc3ccccc3)cc(=O)oc12', 'COc1cc2c(cc1OC)[C@@]1(O)C(=O)c3ccc4c(c3O[C@H]1CO2)C=CC(C)(C)O4', 'COc1cc(C23OCC24C2COC(c5cc6c(cc53)OCO6)C24)cc(OC)c1OC', 'COC(=O)[C@H](CC(=O)c1cccc(OC)c1)c1cc(=O)oc2c(C)c(OC)ccc12', 'CC(=O)Cc1ccc2c(c1O)C(=O)C1C(=O)C3C(=O)C(C(C)=O)C(=O)CC3CC1C2', 'C=CC(=O)O.CCOC(=O)C(C=CC(=O)O)=COc1ccccc1-c1ccccc1', 'C/C(=C\\\\Cc1c2c(c(O)c3c(=O)c4ccc(O)c(O)c4oc13)C=CC(C)(C)O2)CO', 'COC(=O)OC(=O)C1=C[C@H](c2ccccc2)[C@@H]2CCO[C@]2(c2ccc(OC)cc2)O1', 'COc1ccc2c(COC(=O)c3ccc(OC[C@@H]4CCCO4)cc3)cc(=O)oc2c1', 'COc1ccc(C2Oc3cc(O)cc(O)c3C(O)C2O)cc1OCc1ccccc1', 'COc1cc2c(cc1OC)[C@@H]1C(=O)c3ccc4c(c3O[C@@H]1CO2)C=CC(C)(CO)O4', 'COc1cc2c(c(OC)c1C(=O)CC(=O)c1ccc3c(c1)OCO3)C=CC(C)(C)O2', 'COc1ccc(-c2cc(=O)c3c(O)c4c(c(OC)c3o2)OC(C)(C)C=C4)cc1OC', 'COc1cccc2c1C(=O)c1c(cc(CC(=O)OC(C)(C)C)c(C(C)=O)c1O)C2=O', 'CCCOC(=O)c1ccc(Oc2c(C)oc3cc(OCC(C)=O)ccc3c2=O)cc1', 'COc1ccc(C(=O)Oc2ccc(C)c3c2C(=O)OC(C)C3)c2c1C(=O)OC(C)C2', 'COc1ccc(C(=O)O)cc1OCC#CCOc1ccc(C(=O)C2CC2)c(O)c1C', 'CCCC(=O)C1=C(O)C(CC2=C(O)c3ccccc3C(=O)C2=O)=C(O)C(C)(C)C1=O', 'C=C(CC(=O)Oc1ccccc1)C(=O)OCCOC(=O)/C=C/c1ccc(OC)cc1', 'O=C(O)c1ccccc1OCC(O)C(O)c1cccc2oc(=O)c3c(c12)CCCC3', 'C=C(C)[C@@H]1Cc2c(cc(O)c3c2O[C@H]2COc4cc(OC)c(OC)cc4[C@H]2C3=O)O1', 'CCOC(=O)C(C)Oc1ccc2c(c1C)O/C(=C\\\\c1ccc(C(=O)OC)cc1)C2=O', 'C=Cc1ccc(OC(=O)CCC(=O)Oc2ccc(/C=C/C(=O)OC)cc2OC)cc1', 'COc1cccc(/C=C2\\\\Oc3cc(OC(=O)C4CCCO4)cc(C)c3C2=O)c1OC', 'O=c1cc(CO)oc2cc3c(c(O)c12)CC(O)C(CO)(CC=Cc1ccccc1)O3', 'CCOC(=O)C(C)(C)Oc1ccc(C(=O)c2cc3cccc(OC)c3oc2=O)cc1', 'COc1ccc2c(COC(=O)CCCOc3ccc(C(C)=O)cc3)cc(=O)oc2c1', 'CCCc1cc2c(=O)c(-c3ccc4c(c3)OCCO4)coc2cc1OCC(=O)OC', 'COc1ccc2cc(C(=O)COC(=O)c3cc(OC)c(OC)c(OC)c3)ccc2c1', 'COc1cc(OC)c(OC)cc1/C=C1\\\\Oc2c(ccc(OC(=O)C3CC3)c2C)C1=O', 'COc1cc2cc3c(c(-c4cc(OC)c(OC)c(OC)c4)c2cc1OC)COC3=O', 'CCCc1cc2c(=O)c(-c3ccc4c(c3)OCCO4)c(C)oc2cc1OCC(=O)O', 'CCOC(=O)[C@@H](C)Oc1ccc2c(=O)c(-c3ccc4c(c3)OCCO4)c(C)oc2c1', 'COc1cc2c(cc1OC)C1C(=O)c3ccc4c(c3OC1C(O)O2)C=CC(C)(C)O4', 'COc1cccc2c1C(=O)C=C(C1(OC)C(=O)c3cccc(OC)c31)C2(OC)OC', 'CCOC(=O)c1cccc(-c2ccc(C=C3C(=O)OC4(CCCCC4)OC3=O)o2)c1', 'COc1cc2c(cc1OC)[C@@H]1C(=O)c3ccc4c(c3O[C@@H]1[C@@H](O)O2)C=CC(C)(C)O4', 'COc1cc(OC)c([C@H]2CC(=O)c3c(C)cc4oc(=O)cc(C)c4c3O2)cc1OC', 'C=C1C(=O)O[C@H]2CC3=C[C@@H](C/C(C)=C/[C@@H](OC(=O)c4ccc(OC)cc4)[C@H]12)OC3=O', 'CC(=O)OCC1(COC(=O)c2ccccc2)OC1/C=C\\\\COC(=O)c1ccccc1', 'COc1cc(-c2coc3c(CC=C(C)C)c(O)ccc3c2=O)c(OC)c2c1OCO2', 'COc1ccc(/C=C2\\\\Oc3cc(OC(=O)C4CCCO4)cc(C)c3C2=O)c(OC)c1', 'COc1ccc(/C=C/c2oc3c(CC(=O)O)c(OC)ccc3c(=O)c2C)cc1OC', 'COc1cc([C@@H]2C3=C(CCCC3=O)Oc3cc4c(cc32)OCO4)cc(OC)c1OC', 'CCc1oc2cc(O[C@H](C)C(=O)OC)ccc2c(=O)c1-c1ccc2c(c1)OCCO2', 'Cc1cc(O)ccc1C1OCO1.Oc1ccc(Oc2ccc(C3OCO3)cc2)cc1', 'C=C(C)C(=O)OCCOc1cc(-c2ccc(OC=O)cc2)ccc1OC(=O)C(=C)C', 'CC(C)(C)OC(=O)COc1ccc2c(=O)c(-c3ccc4c(c3)OCCO4)coc2c1', 'COc1cc2c(cc1OC)[C@@H]1C(=O)c3ccc4c(c3O[C@@H]1CO2)C[C@H](C1(C)CO1)O4', 'CCOc1c2c(c(-c3ccc4c(c3)OCO4)c3cc(OC)c(OC)cc13)C(O)OC2', 'CCOC(=O)c1cc2ccc(OC(=O)COc3cccc(C(C)C)c3)cc2oc1=O', 'C=CC(=O)OCOc1ccc(CCC(=O)Oc2ccc(/C=C/C(=O)OC)cc2)cc1', 'C=C(C)[C@@H]1Cc2c(cc3oc(-c4ccc(OC)c(OC)c4)c(OC)c(=O)c3c2O)O1', 'CC(=O)O[C@@H]([C@@H]1COc2cc(O)c3c(=O)cc(-c4ccccc4)oc3c21)C(C)(C)O', 'COC(=O)Cc1c(C)c2ccc(OCC(=O)OCc3ccccc3)c(C)c2oc1=O', 'CC1(C)C=Cc2c(c(O)cc3oc4c5c(cc(O)c4c(=O)c23)OC(CO)C5(C)C)O1', 'C=C(CO)[C@@H]1Cc2c(ccc3c2O[C@@H]2COc4cc(OC)c(OC)cc4[C@H]2C3=O)O1', 'COc1cc(C2CC(=O)Oc3ccc4c(c32)OC(C)(C)CC4=O)cc2c1OCCO2', 'C=C(C)C1Cc2c(cc3oc(-c4ccc(O)c(OC)c4)c(OC)c(=O)c3c2OC)O1', 'CCOc1cccc2cc(C(=O)C=Cc3cc(OC)c(OC)c(OC)c3)c(=O)oc12', 'COc1ccc(C=C2Oc3cc(OC(=O)C4CC4)cc(C)c3C2=O)c(OC)c1OC', 'COc1cc2c(cc1OC)[C@H]1C(=O)c3c(cc4c(c3O)C=CC(C)(C)O4)O[C@H]1CO2', 'CCOc1ccc(OCC(=O)OCc2cc(=O)c(OCc3ccccc3)co2)cc1', 'C=C(C)C1Oc2ccc3c(c2C1O)OC1COc2cc(OC)c(OC)cc2C1C3=O', 'C1[C@H](OC2=C(C1=O)C(=C(C(=C2)O)[C@H]3[C@@H]([C@H]([C@@H]([C@H](O3)CO)O)O)O)O)C4=CC=C(C=C4)O', 'COc1cc(C=CC(=O)OC2=C(O)C(C3COC(C)(C)O3)OC2=O)ccc1OC(C)=O', 'COCOc1c(OC)c(OC)c2oc(-c3ccc(O)c(OC)c3)c(O)c(=O)c2c1OC', 'O=C1C[C@@H](c2ccccc2)Oc2cc(O[C@@H]3OC(CO)[C@@H](O)[C@H](O)C3O)c(O)c(O)c21', 'O=C1C[C@H](c2ccc(O)cc2)Oc2cc(O[C@@H]3O[C@@H](CO)[C@@H](O)[C@@H](O)[C@@H]3O)cc(O)c21', 'O=c1cc(-c2ccc(O)c(O)c2)oc2cc(O)c(O)c(O)c12.OCC1CC(O)CCO1', 'O=C(/C=C\\\\c1ccc(O)cc1)O[C@H]1[C@H](Oc2cc(O)cc(O)c2)O[C@H](CO)[C@@H](O)[C@@H]1O', 'COC(=O)C(C)=O.COC(=O)c1ccc(=O)oc1.COC(=O)c1ccc(C(C)=O)cc1', 'COC(=O)c1c(C)cc(OC)c(CO)c1Oc1c(O)c(C)c(O)c2c1C(OC)OC2=O', 'O=C1C[C@H](c2ccc(O)cc2)Oc2cc(O)cc(O[C@H]3O[C@H](CO)[C@H](O)[C@@H](O)[C@H]3O)c21', 'Cc1cc(O)c2c(c1)[C@@](O)([C@H]1O[C@H](CO)[C@@H](O)[C@H](O)[C@H]1O)c1cc(O)cc(O)c1C2=O', 'O=C1C=CC(O)(/C=C/C(=O)OC[C@H]2O[C@@H](Oc3ccc(O)cc3)[C@H](O)[C@@H](O)[C@@H]2O)C=C1', 'O=C1C[C@@H](c2ccc(O)c(O[C@@H]3O[C@H](CO)[C@@H](O)[C@H](O)[C@H]3O)c2)Oc2cc(O)ccc21', 'O=C1C[C@@H](c2ccc(O)cc2)Oc2cc(O)cc(O[C@H]3O[C@@H](CO)[C@H](O)[C@H](O)[C@@H]3O)c21', 'O=C1O[C@@H](c2ccc(O)c(O[C@@H]3O[C@H](CO)[C@@H](O)[C@H](O)[C@H]3O)c2)Cc2cccc(O)c21', 'O=C(C=Cc1ccc(O)cc1)OCC1OC(Oc2cc(O)cc(O)c2)C(O)C(O)C1O', 'COc1cc(C)c2c(c1)oc(=O)c1c(O)cc(O[C@@H]3O[C@H](CO)[C@H](O)[C@H](O)[C@H]3O)cc12', 'C[C@@H]1O[C@@H](O[C@H]2C(=O)c3c(O)cc(O)cc3O[C@H]2c2ccc(O)cc2)[C@@H](O)[C@H](O)[C@H]1O', 'O=C1c2ccc(O)c(O[C@H]3O[C@@H](CO)[C@H](O)[C@@H](O)[C@@H]3O)c2OC[C@@H]1c1ccc(O)cc1', 'O=C1OC(c2ccc(O)c(O[C@@H]3O[C@H](CO)[C@@H](O)[C@H](O)[C@H]3O)c2)Cc2cccc(O)c21', 'O=C(/C=C/c1ccc(O)cc1)c1c(O)cc(O)cc1O[C@H]1O[C@@H](CO)[C@H](O)[C@@H](O)[C@@H]1O', 'O=C(C=Cc1ccc(O)c(O)c1)c1ccc(O[C@@H]2O[C@H](CO)[C@@H](O)[C@H](O)[C@H]2O)cc1O', 'C[C@@H]1OC(C2C(=O)c3c(O)cc(O)cc3OC2c2cc(O)cc(O)c2)[C@H](O)[C@H](O)[C@H]1O', 'O=C1c2c(O)cc(CO)cc2C(C2OC(CO)C(O)C(O)C2O)c2ccc(O)c(O)c21', 'O=C(C=Cc1ccc(O[C@H]2O[C@@H](CO)[C@H](O)[C@@H](O)[C@H]2O)c(O)c1)c1ccc(O)cc1O', 'CC(C(=O)c1ccc(O[C@@H]2O[C@H](C(=O)O)[C@@H](O)[C@H](O)[C@H]2O)cc1O)c1ccc(O)cc1', 'C[C@H]1O[C@@H](O[C@@H]2C(=O)c3c(O)cc(O)cc3O[C@H]2c2ccc(O)cc2)[C@@H](O)[C@@H](O)[C@H]1O', 'O=C1C[C@@H](c2ccc(O)cc2)Oc2cc(O[C@@H]3O[C@@H](CO)[C@@H](O)[C@@H](O)[C@@H]3O)cc(O)c21', 'C[C@@H]1O[C@@H](Oc2cc(O)c3c(c2)O[C@H](c2ccc(O)cc2)[C@@H](O)C3=O)[C@H](O)[C@H](O)[C@H]1O', 'O=C1CC(c2ccc(O)cc2)Oc2cc(O)cc(OCC3OC(O)C(O)C(O)C3O)c21', 'O=C(/C=C/c1ccc(O)cc1)Oc1cc(O)ccc1O[C@@H]1O[C@H](CO)[C@@H](O)[C@H](O)[C@H]1O', 'Cc1cc(O)c2c(c1)[C@](O)([C@@H]1O[C@H](CO)[C@@H](O)[C@H](O)[C@H]1O)c1cc(O)cc(O)c1C2=O', 'CC1OC2O[C@@H]3[C@@H](c4ccc(O)c(O)c4)Oc4cc(O)cc(O)c4[C@@H]3OC2C(O)C1O', 'O=C1c2cccc(O)c2C(OC2O[C@H](CO)[C@@H](O)[C@H](O)[C@H]2O)c2c(O)cc(CO)cc21', 'C[C@@H]1O[C@@H](Oc2ccc3c(c2O)O[C@H](c2ccc(O)c(O)c2)CC3=O)[C@H](O)[C@H](O)[C@H]1O', 'CO[C@H]1[C@H](O)[C@@H](O)[C@H](Oc2cc(O)c3c(=O)c4c(C)cc(O)cc4oc3c2)O[C@@H]1CO', 'O=C(CC(=O)c1c(O)cc(O[C@@H]2O[C@H](CO)C(O)[C@@H](O)[C@H]2O)cc1O)c1ccccc1', 'CC1OC(Oc2cc(O)c3c(c2O)OC(c2ccc(O)cc2)CC3=O)C(O)C(O)C1O', 'CC(O)OC(Oc1c(-c2ccc(O)cc2)oc2cc(O)cc(O)c2c1=O)C(O)C(C)O', 'O=C1C[C@H](c2ccc(O)cc2)Oc2cc(O[C@H]3O[C@H](CO)[C@H](O)[C@@H](O)[C@H]3O)cc(O)c21', 'O=C1c2c(O)cccc2[C@](O)([C@@H]2O[C@H](CO)[C@H](O)[C@H](O)[C@@H]2O)c2cc(CO)cc(O)c21', 'O=C1C[C@@H](c2ccc(O)cc2)Oc2cc(OC3OC(CO)[C@@H](O)[C@@H](O)[C@@H]3O)cc(O)c21', 'CCOC(=O)c1cc2ccc(OC3OC(C)(C)C(OC)C4OC(=O)OC34)cc2oc1=O', 'O=C(/C=C\\\\c1ccc(O)c(O)c1)OC[C@H]1O[C@@H](Oc2ccc(O)cc2)[C@H](O)[C@@H](O)[C@@H]1O', 'O=C(C(O)=Cc1cccc(O)c1)c1ccc(O)cc1O[C@@H]1O[C@H](CO)[C@@H](O)[C@@H](O)[C@@H]1O', 'CC(Oc1ccc2c(=O)c(O)c(-c3cc(O)c(O)cc3O)oc2c1)OC(CO)CCO', 'O=C1C[C@@H](c2ccc(O)c(O)c2)Oc2cc(O[C@@H]3O[C@@H](CO)[C@@H](O)[C@@H](O)[C@H]3O)ccc21', 'O=C(/C(O)=C\\\\c1cccc(O)c1)c1ccc(O)cc1O[C@@H]1O[C@H](CO)[C@@H](O)[C@H](O)[C@H]1O', 'O=C(/C=C/c1ccc(O)cc1)c1cc(O)cc(O)c1O[C@@H]1O[C@H](CO)[C@@H](O)[C@H](O)[C@H]1O', 'O=C(/C=C/CC(=O)OC(=O)C1=C(C(=O)O)CCCC1)OC(=O)C1=C(C(=O)O)CCCC1', 'O=C1CC(c2ccc(O)c(O)c2)Oc2ccc(O[C@@H]3O[C@H](CO)[C@@H](O)[C@H](O)[C@H]3O)cc21', 'O=C1CC(c2ccc(O)cc2)Oc2cc(O[C@H]3O[C@@H](CO)[C@H](O)[C@@H](O)[C@@H]3O)cc(O)c21', 'COc1cc(C2=C(O[C@@H]3O[C@H](CO)[C@H](O)[C@H]3O)C=C3C(O)=CC(O)=CC3O2)ccc1O', 'C[C@@H]1O[C@@H](Oc2cc(O)c3c(c2)O[C@@H](c2ccc(O)cc2)[C@H](O)C3=O)[C@H](O)[C@H](O)[C@H]1O', 'OCC1O[C@H](OC2=Cc3c(O)cc(O)cc3OC2c2ccc(O)cc2)C(O)C(O)[C@@H]1O', 'COc1ccc(C2=C(OC3OC(CO)C(O)C3O)C=C3C(O)=CC(O)=CC3O2)cc1O', 'O=C(O)[C@H]1O[C@@H](Oc2cc([C@H]3COc4cc(O)ccc4C3)ccc2O)[C@H](O)[C@@H](O)[C@@H]1O', 'O=C1c2cccc(OC3OC(CO)C(O)C(O)C3O)c2C(=O)C2C(O)=CC(CO)=CC12', 'O=C(CCc1ccccc1O)c1cc(O)ccc1OC1OC(C(=O)O)C(O)C(O)C1O', 'C=CC(=O)OC1CCCC(OC(=O)C=C)(OC(=O)C=C)C1(OC(=O)C=C)OC(=O)C=C', 'Cc1occc(=O)c1O[C@@H]1O[C@H](COC(=O)/C=C/c2ccc(O)cc2)[C@@H](O)[C@H](O)[C@H]1O', 'O=C1c2ccc(O)c(O[C@H]3O[C@@H](CO)[C@H](O)[C@@H](O)[C@@H]3O)c2OC[C@H]1c1ccc(O)cc1', 'CC(C(=O)O)c1cccc(Oc2ccc(O[C@H]3[C@H](O)[C@@H](C(=O)O)OC(O)[C@@H]3O)cc2)c1', 'C[C@H]1O[C@@H](O[C@H]2C(=O)c3c(O)cc(O)cc3O[C@H]2c2ccc(O)cc2)[C@H](O)[C@H](O)[C@H]1O', 'O=C(/C=C/c1ccc(O)cc1)c1c(O)cc(O)cc1O[C@@H]1O[C@H](CO)[C@H](O)[C@H](O)[C@@H]1O', 'O=C1c2c(O)cc(OC3OC(CO)C(O)C(O)C3O)cc2OCC1c1ccc(O)cc1', 'O=C1CC(c2ccc(O)cc2)Oc2c1c(O)cc(O)c2C1OC(CO)C(O)C(O)C1O', 'COc1ccc(C2c3cc4c(cc3OC(O)(CO)C2C(=O)O)OCO4)c(OC)c1OC', 'O=C1C[C@@H](c2ccccc2O)Oc2cc(O[C@@H]3O[C@H](CO)[C@@H](O)[C@H](O)[C@H]3O)cc(O)c21', 'COC(=O)c1cc(O)c2c(c1)OCCO2.COC(=O)c1cc(OC)c2c(c1)OCCO2', 'O=C1C[C@H](c2ccc(O)cc2)Oc2cc(OC3O[C@H](CO)[C@@H](O)[C@H](O)[C@H]3O)cc(O)c21', 'O=C1C[C@H](c2ccc(O[C@H]3O[C@@H](CO)[C@H](O)[C@@H](O)[C@@H]3O)cc2)Oc2cc(O)cc(O)c21', 'O=C1c2c(O)cccc2C(OC2OC(CO)C(O)C(O)C2O)c2cc(CO)cc(O)c21', 'OCc1cc(O)c2c(O)c3c(O)cccc3c(O[C@@H]3O[C@H](CO)[C@@H](O)[C@H](O)[C@H]3O)c2c1', 'COc1cc(O[C@@H]2O[C@H](CO)[C@@H](O)[C@H](C)[C@H]2O)c2c(=O)c3c(O)ccc(O)c3oc2c1', 'COc1ccc(C2([C@]3(CO)OC(O)[C@@H](O)C(O)(O)[C@H]3O)Oc3ccccc3C2=O)cc1', 'O=C1C[C@@H](c2ccc(O)cc2)Oc2cc(O[C@H]3O[C@@H](CO)[C@H](O)[C@@H](O)[C@@H]3O)cc(O)c21', 'Cc1occc(=O)c1O[C@@H]1O[C@H](COC(=O)C=Cc2ccc(O)cc2)[C@@H](O)[C@H](O)[C@H]1O', 'O=C1C[C@@H](c2ccc(O)cc2)Oc2cc(O)cc(O[C@H]3O[C@H](CO)[C@@H](O)[C@H](O)[C@H]3O)c21', 'O=C1c2c(O)cc(O[C@@H]3O[C@H](CO)[C@@H](O)[C@H](O)[C@H]3O)cc2OCC1c1ccc(O)cc1', 'O=C1CC(c2ccc(O)cc2)Oc2cc(OC3OC(CO)C(O)C(O)C3O)cc(O)c21', 'O=C1CC(c2ccc(O[C@@H]3O[C@H](CO)[C@@H](O)[C@H](O)[C@H]3O)c(O)c2)Oc2cc(O)ccc21', 'O=C1c2ccc(O)c(O[C@@H]3O[C@H](CO)[C@@H](O)[C@H](O)[C@H]3O)c2OCC1c1ccc(O)cc1', 'O=C1C[C@@H](c2ccc(O)cc2)Oc2cc(O[C@H]3O[C@@H](CO)[C@@H](O)[C@@H](O)[C@@H]3O)cc(O)c21', 'O=C(C=Cc1ccc(O)c(OC2OC(CO)C(O)C(O)C2O)c1)c1ccc(O)cc1O', 'O=C1C[C@@H](c2ccc(O)cc2)Oc2c(O[C@@H]3O[C@H](CO)[C@@H](O)[C@H](O)[C@H]3O)ccc(O)c21', 'CC1OC(OC2C(=O)c3c(O)cc(O)cc3OC2c2ccc(O)cc2)C(O)C(O)C1O', 'O=C1C=CC(O)(C=CC(=O)OC[C@H]2O[C@@H](Oc3ccc(O)cc3)[C@H](O)[C@@H](O)[C@@H]2O)C=C1', 'COc1cc(O)c(-c2oc3c(OC)c(OC)c(OC)c(O)c3c(=O)c2OC)cc1OC', 'O=C1C[C@@H](c2ccc(O)cc2)Oc2cc(O[C@H]3O[C@@H](CO)[C@H](O)[C@H](O)[C@@H]3O)cc(O)c21', 'COc1ccc(O[C@@H]2O[C@H](COC(=O)c3ccccc3)[C@@H](O)[C@H](O)[C@H]2O)c(C(=O)O)c1', 'C[C@H]1O[C@H](OC2C(=O)c3c(O)cc(O)cc3OC2c2ccc(O)cc2)[C@@H](O)[C@@H](O)[C@H]1O', 'O=C1C[C@H](c2ccc(O)cc2)Oc2cc(O[C@H]3O[C@@H](CO)[C@@H](O)[C@@H](O)[C@H]3O)cc(O)c21', 'COc1cc(O)c2c(=O)oc3cc(O[C@@H]4O[C@H](CO)[C@H](O)[C@H](O)[C@H]4O)cc(C)c3c2c1', 'COC(=O)c1cc(OC)c(OC)c(OC)c1-c1c(C(=O)OC)cc2c(c1OC)OCO2', 'O=C1c2c(O)cc(O[C@@H]3O[C@H](CO)[C@@H](O)[C@H](O)[C@H]3O)cc2OC[C@@H]1c1ccc(O)cc1', 'O=C1c2c(O)cccc2OC(c2ccccc2O)C1OC1O[C@H](CO)[C@@H](O)[C@H](O)[C@H]1O', 'C[C@@H]1O[C@@H](OC2C(=O)c3c(O)cc(O)cc3OC2c2ccc(O)cc2)[C@H](O)[C@H](O)[C@H]1O', 'O=C1c2c(O)cccc2[C@@H](O[C@@H]2O[C@@H](CO)[C@H](O)[C@@H](O)[C@@H]2O)c2cc(CO)cc(O)c21', 'COC(=O)Cc1cc(OC)ccc1C(=O)OC.O=C(O)Cc1cc(O)ccc1C(=O)O', 'O=C1c2c(O)cc(O)cc2OCC1c1ccc(O[C@@H]2O[C@H](CO)[C@@H](O)[C@H](O)[C@H]2O)cc1', 'O=C1c2c(O)cccc2C(C2OC(CO)C(O)C(O)C2O)c2c(O)c(CO)cc(O)c21', 'O=C1CC(c2ccc(O)cc2)Oc2cc(O[C@@H]3OC(CO)[C@@H](O)[C@@H](O)C3O)cc(O)c21', 'COc1cc2cc(-c3cc(O)cc(OC4OC(CO)C(O)C(O)C4O)c3)oc2cc1O', 'OC[C@H]1O[C@@H](c2c(O)cc(O)c3c2OC(c2ccc(O)cc2)=C[C@H]3O)[C@H](O)[C@@H](O)[C@@H]1O', 'O=C1c2c(O)cc(CO)cc2[C@@H]([C@@H]2O[C@H](CO)[C@H](O)[C@@H](O)C2O)c2c(O)ccc(O)c21', 'CCOC(=O)C(=O)C(Cc1cc(=O)oc2cc(OC)cc(OC)c12)C(=O)C(=O)OCC', 'C[C@@H]1OC(Oc2cc(O)c3c(c2)OC(c2ccc(O)c(O)c2)CC3=O)[C@H](O)[C@@H](O)[C@H]1O', 'O=C1CC(c2ccc(O)cc2)Oc2cc(O)cc(O[C@@H]3O[C@H](CO)[C@@H](O)[C@@H](O)[C@H]3O)c21', 'C=CC(=O)OCOC(=O)c1ccc(C(=O)OC(C)CC)c(C(=O)OCOC(=O)C=C)c1', 'O=C(/C=C/c1ccc(O)c(O)c1)O[C@H](Cc1cc(CCO)c(O)c(O)c1CO)C(=O)O', 'O=C(/C=C/c1ccc(O)c(O)c1)c1ccc(O[C@@H]2O[C@@H](CO)[C@@H](O)[C@H](O)[C@@H]2O)cc1O', 'C[C@@H]1O[C@@H](O[C@@H]2C(=O)c3c(O)cc(O)cc3O[C@H]2c2ccc(O)cc2)[C@@H](O)[C@@H](O)[C@@H]1O', 'COC(=O)C1=C(C(=O)OC)[C@](O)(C[C@]23C=C[C@H](O2)C(C(=O)OC)=C3C(=O)OC)C=CC1', 'O=C1c2c(O)cccc2C([C@@H]2O[C@H](CO)[C@@H](O)[C@H](O)[C@H]2O)c2c(O)c(CO)cc(O)c21', 'O=C1C[C@@H](c2ccc(O)cc2)Oc2c1c(O)cc(O)c2[C@@H]1O[C@@H](CO)[C@@H](O)[C@H](O)[C@H]1O', 'CCOC(=O)c1cc2ccc(OC3OC(C)(C)C(OC)[C@@H]4OC(=O)O[C@H]34)cc2oc1=O', 'O=C1OC(c2ccc(O)c(O)c2)Cc2cccc(O[C@@H]3O[C@H](CO)[C@@H](O)[C@H](O)[C@H]3O)c21', 'CC(O)C(CO)OC(c1c(O)cc2oc(-c3ccc(O)cc3)cc(=O)c2c1O)C(O)O', 'O=C(C=Cc1ccc(O)cc1)c1c(O)cc(OC2OC(CO)C(O)C(O)C2O)cc1O', 'O=C1c2c(O)cc(CO)cc2[C@@H]([C@@H]2O[C@H](CO)[C@@H](O)[C@H](O)[C@H]2O)c2ccc(O)c(O)c21', 'Cc1cc(O)c2c(c1)[C@](O)([C@@H]1O[C@H](CO)[C@H](O)[C@H](O)[C@H]1O)c1cc(O)cc(O)c1C2=O', 'O=C1CC(c2ccc(O)cc2)Oc2c(OC3OC(CO)C(O)C(O)C3O)ccc(O)c21', 'O=C1C[C@@H](c2ccc(O)cc2)Oc2cc(O[C@@H]3O[C@H](CO)[C@H](O)[C@@H](O)[C@H]3O)cc(O)c21', 'O=C1c2c(O)cccc2[C@](O)([C@@H]2O[C@H](CO)[C@@H](O)[C@H](O)[C@H]2O)c2cc(CO)cc(O)c21', 'O=C(C(=Cc1ccccc1)OC1O[C@H](CO)[C@@H](O)[C@H](O)[C@H]1O)c1ccc(O)c(O)c1O', 'O=C(/C=C/c1ccc(O)cc1)c1c(O)cc(O)cc1OC1OC(CO)C(O)C(O)C1O', 'O=C(/C=C/c1ccc(O[C@@H]2O[C@H](CO)[C@@H](O)[C@@H](O)[C@H]2O)cc1)c1c(O)cc(O)cc1O', 'O=C(/C=C/c1ccc(O)c(O)c1)c1ccc(OC2OC(CO)C(O)C(O)C2O)cc1O', 'O=C1c2ccc(O)c(C3O[C@H](CO)[C@H](O)[C@H](O)[C@H]3O)c2OC(c2ccc(O)cc2)C1O', 'OC[C@@H]1O[C@@H](Oc2cc(O)c3c(c2)OC(c2ccc(O)cc2)C(O)=C3)[C@H](O)[C@@H](O)[C@@H]1O', 'O=C(/C=C/c1ccc(O)c(O)c1)O[C@H]1[C@H](Oc2ccc(O)cc2)O[C@H](CO)[C@@H](O)[C@H]1O', 'COC(=O)c1cc(C(=O)O)cc(-c2ccc(OC(O)C3(O)C(O)C(O)C3CO)cc2)c1', 'O=C1C[C@H](c2ccc(O)cc2)Oc2cc(O[C@H]3O[C@@H](CO)[C@H](O)[C@@H](O)[C@@H]3O)cc(O)c21', 'O=C(/C=C\\\\c1ccc(O)c(O)c1)OCC1O[C@@H](Oc2ccc(O)cc2)[C@@H](O)[C@@H](O)[C@H]1O', 'C[C@H]1O[C@H](OC2=C(c3ccc(O)c(O)c3)Oc3cc(O)cc(O)c3C2)[C@@H](O)[C@@H](O)[C@@H]1O', 'O=C(CC(=O)c1c(O)cc(O[C@@H]2O[C@H](CO)[C@@H](O)[C@H](O)[C@H]2O)cc1O)c1ccccc1', 'C[C@@H]1O[C@@H](OC2=C(O)c3c(O)cc(O)cc3OC2c2ccc(O)cc2)[C@H](O)[C@H](O)[C@H]1O', 'O=C1CC(c2ccc(O)cc2)Oc2cc(OC3C(O)OC(CO)C(O)C3O)cc(O)c21', 'O=C(/C=C/c1ccc(O)c(O)c1)c1ccc(O[C@@H]2O[C@H](CO)[C@@H](O)[C@H](O)[C@H]2O)cc1O', 'CC1=Cc2cc3cc(O)cc(O[C@H]4O[C@H](CO)[C@H](O)[C@H](O)[C@@H]4O)c3c3c2C(O)(CO3)O1', 'C[C@@H]1O[C@@H](O[C@@H]2C(=O)c3c(O)cc(O)cc3O[C@@H]2c2ccc(O)cc2)[C@@H](O)[C@H](O)[C@H]1O', 'CCOC(=O)c1cc2ccc(OC3OC(C)(C)[C@H](OC)C4OC(=O)O[C@H]34)cc2oc1=O', 'O=C1c2ccc(O)cc2OC1C(O)c1ccc(O[C@@H]2O[C@H](CO)[C@@H](O)[C@H](O)[C@H]2O)cc1', 'C[C@H]1O[C@H](O[C@@H]2C(=O)c3c(O)cc(O)cc3O[C@H]2c2ccc(O)cc2)[C@@H](O)[C@@H](O)[C@@H]1O', 'O=C1c2c(O)cccc2[C@H](O[C@@H]2O[C@H](CO)[C@@H](O)[C@H](O)[C@H]2O)c2cc(CO)cc(O)c21', 'O=C(C=Cc1ccc(O)cc1)OC[C@@H]1O[C@@H](Oc2cc(O)cc(O)c2)[C@H](O)[C@@H](O)[C@@H]1O', 'O=C1c2c(O)cccc2[C@](O)([C@@H]2O[C@H](CO)[C@H](O)[C@H](O)[C@H]2O)c2cc(CO)cc(O)c21', 'COC1C(CO)OC(Oc2cc(C)c3c(=O)c4c(O)cc(O)cc4oc3c2)C(O)C1O', 'O=C1c2c(O)cc(CO)cc2[C@H]([C@@H]2O[C@H](CO)[C@@H](O)[C@H](O)C2O)c2c(O)ccc(O)c21', 'O=C1c2c(O)cccc2[C@H](O[C@H]2O[C@@H](CO)[C@H](O)[C@@H](O)[C@@H]2O)c2cc(CO)cc(O)c21', 'C=C(C)C(=O)OCCOC(=O)c1ccc(C(=O)O)cc1C(=O)OCCOC(=O)C(=C)C', 'OCC1OC(c2c(O)cc(O)c3c2OC(c2ccc(O)cc2)=C[C@H]3O)C(O)C(O)C1O', 'O=C1CC(c2ccc(O)c(O)c2)Oc2cc(OC3OC(CO)C(O)C(O)C3O)ccc21', 'O=C1c2c(O)cccc2[C@@H](O[C@@H]2O[C@H](CO)[C@@H](O)[C@H](O)[C@H]2O)c2cc(CO)cc(O)c21', 'COc1cc(OC2OC(CO)C(O)C(O)C2O)c2c(O)c3c(=O)oc(C)cc3cc2c1', 'COc1cc(C2Oc3cc(O)cc(O)c3C=C2O[C@@H]2OC[C@H](O)[C@H](O)[C@H]2O)ccc1O', 'O=C1CC(c2ccc(O[C@H]3O[C@H](CO)[C@@H](O)[C@H](O)[C@H]3O)cc2)Oc2cc(O)cc(O)c21', 'O=C1C[C@H](c2ccc(O)cc2)Oc2cc(O[C@H]3O[C@@H](CO)[C@@H](O)[C@@H](O)[C@@H]3O)cc(O)c21', 'O=C1c2ccc(O)c(C3OC(CO)C(O)C(O)C3O)c2OC1(O)Cc1ccc(O)cc1', 'OCc1cc(O)c2c(O)c3c(O)cccc3c(OC3OC(CO)C(O)C(O)C3O)c2c1', 'CC1OC(Oc2cc(O)c3c(c2)OC(c2ccc(O)cc2)C(O)C3=O)C(O)C(O)C1O', 'O=C(C=Cc1ccc(O)c(O)c1)OC(Cc1cc(CCO)c(O)c(O)c1CO)C(=O)O', 'Oc1ccc([C@H]2Oc3c(c(O)cc4c3C[C@]3(OC[C@@H](O)[C@H](O)[C@@H]3O)O4)C[C@@H]2O)cc1O', 'OCC1OC(Oc2cc(O)cc3c2C=C(O)C(c2ccc(O)cc2)O3)C(O)C(O)C1O', 'O=C1C[C@H](c2ccc(O)cc2)Oc2cc(O)cc(O[C@H]3O[C@@H](CO)[C@@H](O)[C@@H](O)[C@H]3O)c21', 'C[C@@H]1O[C@@H](O[C@H]2C(=O)c3c(O)cc(O)cc3O[C@@H]2c2ccc(O)cc2)[C@H](O)[C@H](O)[C@H]1O', 'CC[C@@H]1O[C@@H](Oc2ccc3c(O)c(C(C)=O)c(=O)oc3c2C)[C@@H]2OC(=O)O[C@@H]2[C@H]1OC', 'O=C1C[C@@H](c2ccc(O)cc2)Oc2cc(OC3OC(CO)C(O)C(O)C3O)cc(O)c21', 'OC[C@H]1O[C@@H](Oc2cc(O)c3c(c2)OC(c2ccc(O)c(O)c2)C=C3)[C@H](O)[C@@H](O)[C@@H]1O', 'O=C1CC(c2ccccc2)Oc2c(O)c(OC3OC(CO)C(O)C(O)C3O)cc(O)c21', 'OC[C@H]1O[C@@H](c2c(O)cc(O)c3c2OC(c2ccc(O)cc2)=C[C@H]3O)C(O)[C@@H](O)[C@@H]1O', 'COc1cc(C2Oc3cc(O)cc(O)c3C=C2OC2OC(CO)C(O)C2O)ccc1O', 'O=C1C[C@@H](c2ccc(O)c(O)c2)Oc2c1ccc(O)c2[C@@H]1O[C@H](CO)[C@H](O)[C@H](O)[C@H]1O', 'O=C1C[C@@H](c2ccc(O)cc2)Oc2c1c(O)cc(O)c2[C@@H]1OC(CO)[C@@H](O)C(O)[C@@H]1O', 'O=C(C=Cc1ccc(O)cc1)c1c(O)cc(O[C@H]2O[C@@H](CO)[C@H](O)[C@H](O)[C@@H]2O)cc1O', 'O=C(CC(=O)c1c(O)cc(O)cc1OC1OC(CO)C(O)C(O)C1O)c1ccccc1', 'OC[C@H]1O[C@@H](OC2=Cc3c(O)cc(O)cc3OC2c2ccc(O)cc2)[C@H](O)[C@@H](O)[C@@H]1O', 'O=C1c2c(O)cccc2[C@](O)([C@@H]2O[C@H](CO)[C@@H](O)[C@H](O)[C@@H]2O)c2cc(CO)cc(O)c21', 'C[C@@H]1O[C@H](O[C@H]2C(=O)c3c(O)cc(O)cc3O[C@@H]2c2ccc(O)cc2)[C@H](O)[C@H](O)[C@@H]1O', 'COc1cc(-c2coc3cc(OCO)c(OCO)c(OC)c3c2=O)cc(OC)c1OC', 'OC[C@H]1O[C@@H](Oc2ccc3c(c2)OC[C@@]2(O)c4ccc(O)cc4O[C@@H]32)[C@H](O)[C@@H](O)[C@@H]1O', 'COc1cc(-c2cc(=O)c3c(O)c(OC)c(OC)c(OC)c3o2)c(OC)c(O)c1OC', 'O=C1c2ccc(O)c([C@@H]3O[C@H](CO)[C@@H](O)[C@H](O)[C@H]3O)c2O[C@]1(O)Cc1ccc(O)cc1', 'CC1OC(OC2=Cc3c(O)cc(O)cc3OC2c2ccc(O)c(O)c2)C(O)C(O)C1O', 'O=C1c2ccc(O)cc2OCC1(O[C@@H]1O[C@H](CO)[C@@H](O)[C@H](O)[C@H]1O)c1ccc(O)cc1', 'OCC1OC(OC2=CC(O)=CC3OC(c4ccc(O)c(O)c4)=CC=C23)C(O)C(O)C1O', 'O=C1CC(c2ccc(O)cc2)Oc2cc(O[C@@H]3OC(CO)[C@H](O)C(O)C3O)cc(O)c21', 'COc1cc(O)cc(-c2oc3c(OC)c(OC)c(OC)c(O)c3c(=O)c2OC)c1OC', 'O=C1C[C@@H](c2ccc(O)cc2)Oc2c1c(O)cc(O)c2[C@@H]1O[C@H](CO)[C@@H](O)[C@H](O)[C@H]1O', 'COc1ccc(CCC(=O)c2c(O)cc(OC(CCC(=O)O)C(=O)O)cc2O)cc1O', 'COc1ccc(/C=C/c2cc(O)cc(OC3OC(C(=O)O)C(O)C(O)C3O)c2)cc1O', 'C[C@H]1OC(OC2C(=O)c3c(O)cc(O)cc3OC2c2ccc(O)cc2)[C@@H](O)[C@@H](O)[C@@H]1O', 'O=C1C[C@H](c2ccc(O)cc2)Oc2cc(O[C@@H]3O[C@H](CO)[C@@H](O)[C@H](O)[C@H]3O)cc(O)c21', 'CC(C(=O)O)c1cccc(Oc2ccc(O[C@@H]3O[C@H](C(=O)O)[C@@H](O)[C@H](O)[C@H]3O)cc2)c1', 'C[C@@H]1O[C@@H](Oc2cc(O)c3c(c2)O[C@@H](c2ccc(O)c(O)c2)CC3=O)[C@@H](O)[C@H](O)[C@@H]1O', 'O=C1CC(c2ccc(O)cc2)([C@H]2O[C@H](CO)[C@@H](O)[C@H](O)[C@H]2O)Oc2cc(O)cc(O)c21', 'C[C@H]1O[C@H](O[C@H]2C(=O)c3c(O)cc(O)cc3O[C@H]2c2ccc(O)cc2)[C@@H](O)[C@@H](O)[C@@H]1O', 'C[C@@H]1O[C@H](O[C@@H]2C(=O)c3c(O)cc(O)cc3O[C@@H]2c2ccc(O)cc2)[C@@H](O)[C@H](O)[C@@H]1O', 'OC[C@H]1O[C@@H](OC2=C(c3ccc(O)cc3)Oc3cc(O)cc(O)c3C2)[C@H](O)[C@@H](O)[C@H]1O', 'COc1ccc(C(=O)C(=O)c2ccc(O[C@@H]3O[C@H](CO)[C@@H](O)[C@H](O)[C@H]3O)cc2O)cc1', 'O=C1c2c(O)cc(O[C@@H]3O[C@H](CO)[C@@H](O)[C@H](O)[C@@H]3O)cc2OC[C@@H]1c1ccc(O)cc1', 'O=C1O[C@@H](c2ccc(O)cc2)Cc2cc(O)cc(O[C@@H]3O[C@H](CO)[C@@H](O)[C@H](O)[C@H]3O)c21', 'O=C(/C=C/c1ccc(O)c(O)c1)OC(Cc1ccc(O)c(O)c1)C(=O)OCC(O)CO', 'O=C(C=Cc1ccc(O)c(O[C@@H]2O[C@H](CO)[C@@H](O)[C@H](O)[C@H]2O)c1)c1ccc(O)cc1O', 'CC1OC(Oc2ccc3c(c2)OC(c2cc(O)c(O)c(O)c2)CC3=O)C(O)C(O)C1O', 'O=C1C[C@@H](c2ccc(O)cc2)Oc2cc(O)cc(O[C@@H]3O[C@H](CO)[C@@H](O)[C@H](O)[C@H]3O)c21', 'COC(=O)C12CC(=O)OCC13C=CC(C2)O3.O=C1CC2(C(=O)O)CC3C=CC2(CO1)O3', 'C[C@@H]1O[C@@H](O[C@@H]2C(=O)c3c(O)cc(O)cc3O[C@H]2c2ccc(O)cc2)[C@@H](O)[C@@H](O)[C@H]1O', 'O=C(/C=C/c1ccc(O)cc1O)c1ccc(O)cc1O[C@@H]1O[C@H](CO)[C@@H](O)[C@H](O)[C@H]1O', 'CC1O[C@@H](Oc2ccc3c(c2O)OC(c2ccc(O)c(O)c2)CC3=O)C(O)[C@@H](O)[C@H]1O', 'C[C@@H]1O[C@@H](Oc2ccc3c(c2)O[C@H](c2cc(O)c(O)c(O)c2)CC3=O)[C@H](O)[C@H](O)[C@H]1O', 'COc1cc(C(=O)O)ccc1O[C@@H]1O[C@H](COC(=O)c2ccccc2)[C@@H](O)[C@H](O)[C@H]1O', 'O=C1O[C@H](c2ccc(O)c(O)c2)Cc2cccc(O[C@@H]3O[C@H](CO)[C@@H](O)[C@H](O)[C@H]3O)c21', 'O=C1C[C@@H](c2ccc(O)c(O[C@@H]3O[C@@H](CO)[C@H](O)[C@@H](O)[C@@H]3O)c2)Oc2cc(O)ccc21', 'O=CC(C(=O)c1ccc(OC2OC(CO)C(O)C(O)C2O)cc1O)c1ccc(O)cc1', 'O=C(C=Cc1ccc(O)cc1)c1ccc(O)c(O[C@@H]2O[C@H](CO)[C@@H](O)[C@H](O)[C@H]2O)c1O', 'O=c1c(OCCO)c(-c2ccc(OCCO)c(O)c2)oc2cc(OCCO)cc(O)c12', 'O=C(C=Cc1ccc(O)cc1)c1c(O)cc(O)cc1OC[C@H]1O[C@@H](O)[C@H](O)[C@@H](O)[C@@H]1O', 'O=C1C[C@@H](c2ccc(O)cc2)Oc2cc(O)cc(OC[C@H]3OC(O)[C@H](O)[C@@H](O)[C@@H]3O)c21', 'O=C(C=Cc1ccc(OC2OC(CO)C(O)C(O)C2O)cc1)c1c(O)cc(O)cc1O', 'O=C1c2ccc(O)c(C3O[C@H](CO)[C@@H](O)[C@H](O)[C@H]3O)c2OC1(O)Cc1ccc(O)cc1', 'O=C(/C=C/c1ccc(O)c(O)c1)O[C@H]1[C@H](O)[C@@H](O)[C@H](Oc2ccccc2O)O[C@@H]1CO', 'COc1ccc(C2CC(=O)c3c(cc(O)cc3OC3OCC(O)C(O)C3O)O2)cc1O', 'O=C1c2ccc(O)cc2O[C@H](c2ccc(O)cc2)[C@H]1O[C@@H]1O[C@H](CO)[C@@H](O)[C@H](O)[C@H]1O', 'O=C1CC(c2ccc(O)cc2)Oc2cc(O[C@H]3O[C@H](CO)[C@@H](O)[C@H](O)[C@H]3O)cc(O)c21', 'O=C(CC(=O)c1c(O)cc(O)cc1O[C@@H]1O[C@H](CO)[C@@H](O)[C@H](O)[C@@H]1O)c1ccccc1', 'O=C(C=Cc1ccc(O)c(O)c1)OC1C(CO)OC(Oc2ccc(O)cc2)C(O)C1O', 'O=C(CCc1ccccc1O)c1cc(OC2OC(C(=O)O)C(O)C(O)C2O)ccc1O', 'O=c1c(O)c(-c2ccc(OCCO)c(OCCO)c2)oc2cc(OCCO)cc(O)c12', 'COc1cc2c(=O)c3c(O)c(C4C[C@H](CO)[C@@H](O)[C@H](O)[C@H]4O)c(O)cc3oc2cc1O', 'CO[C@H]1O[C@H](COC(=O)/C=C/c2ccco2)[C@@H](O)[C@H](O)[C@H]1OC(=O)/C=C/c1ccco1', 'O=C(/C=C/c1ccc(O)c(O)c1)O[C@H]1[C@H](O)[C@@H](O)[C@H](Oc2ccc(O)cc2)O[C@@H]1CO', 'O=C1C=CC(O)(C=CC(=O)OC[C@H]2O[C@H](Oc3ccc(O)cc3)[C@H](O)[C@@H](O)[C@@H]2O)C=C1', 'C[C@@H]1O[C@H](O[C@H]2C(=O)c3c(O)cc(O)cc3O[C@H]2c2ccc(O)cc2)[C@H](O)[C@H](O)[C@H]1O', 'COCOc1ccc(-c2oc3cc(OCOC)cc(O)c3c(=O)c2O)c(OCOC)c1', 'O=C1c2cc(O)c([C@@H]3O[C@H](CO)[C@H](O)[C@H](O)[C@H]3O)c(O)c2OC[C@@H]1c1ccc(O)cc1', 'C[C@@H]1OC(OC2C(=O)c3c(O)cc(O)cc3OC2c2ccc(O)cc2)[C@H](O)[C@H](O)[C@H]1O', 'O=C(C=Cc1cc(O)ccc1O)OC[C@H]1O[C@@H](Oc2ccc(O)cc2)[C@H](O)[C@@H](O)[C@@H]1O', 'CC1OC(OC2=C(c3ccc(O)c(O)c3)Oc3cc(O)cc(O)c3C2)C(O)C(O)C1O', 'COc1cc(O)c2c(=O)oc3cc(OC4OC(CO)C(O)C(O)C4O)cc(C)c3c2c1', 'COc1ccc(C2=C(O[C@H]3O[C@H](CO)[C@@H](O)[C@@H]3O)C=C3C(O)=CC(O)=CC3O2)cc1O', 'O=C(/C=C/c1ccc(O)cc1)c1c(O)cc(O[C@@H]2O[C@H](CO)[C@@H](O)[C@H](O)[C@H]2O)cc1O', 'O=C1c2c(O)cccc2[C@@](O)([C@@H]2O[C@H](CO)[C@@H](O)[C@H](O)[C@H]2O)c2cc(CO)cc(O)c21', 'O=C(/C=C/c1ccc(O)c(O[C@@H]2O[C@H](CO)[C@@H](O)[C@H](O)[C@H]2O)c1)c1ccc(O)cc1O', 'O=C(/C=C\\\\c1ccc(O)cc1)c1c(O)cc(O)cc1O[C@@H]1O[C@@H](CO)[C@@H](O)[C@H](O)[C@@H]1O', 'O=C1C=CC(O)(C=CC(=O)OCC2OC(Oc3ccc(O)cc3)C(O)C(O)C2O)C=C1', 'O=C1CC(c2ccccc2)Oc2cc(OC3OC(CO)C(O)C(O)C3O)c(O)c(O)c21', 'O=C1C[C@H](c2ccc(O)c(O)c2)Oc2cc(O[C@@H]3O[C@@H](CO)[C@@H](O)[C@@H](O)[C@H]3O)ccc21', 'O=C1C[C@@H](c2ccc(O)cc2)Oc2cc(O[C@@H]3O[C@H](CO)[C@@H](O)[C@H](O)[C@H]3O)cc(O)c21', 'O=C1C=CC(O)(/C=C/C(=O)OC[C@H]2O[C@H](Oc3ccc(O)cc3)[C@H](O)[C@@H](O)[C@@H]2O)C=C1', 'CC(=O)/C=C1\\\\OCc2cc3cc(O)cc(O[C@@H]4O[C@H](CO)[C@@H](O)[C@H](O)[C@H]4O)c3c(O)c21', 'O=C1CC(c2ccc(O[C@@H]3O[C@H](CO)[C@H](O)[C@H](O)[C@H]3O)cc2)Oc2cc(O)cc(O)c21', 'OC[C@H]1O[C@@H](OC2=Cc3c(O)cc(O)cc3OC2c2ccc(O)cc2)[C@H](O)[C@@H](O)[C@H]1O', 'O=C1CC(c2ccc(O)c(O[C@@H]3O[C@H](CO)[C@@H](O)[C@@H](O)[C@H]3O)c2)Oc2cc(O)ccc21', 'O=C1c2c(O)cc(O[C@H]3O[C@@H](CO)[C@H](O)[C@@H](O)[C@@H]3O)cc2OC[C@@H]1c1ccc(O)cc1', 'CC1CC2=CC3=C(C(=C2C4=C(C(=C(C=C4CC1C)OC)OC)OC)OC)OCO3', 'CC[C@@H](C)c1ccc(C(=O)COC(=O)Cc2cc(OC)c(OC)c(OC)c2)cc1', 'COc1cc(OC)c(Cc2c(OC)cc(OC)c3c2CCOC3)c2c1COCC2', 'CCC=CCCOc1c(OCCC=CCC)c2cccc(OC(C)=O)c2oc1=O', 'COc1ccc(C[C@@H](C)[C@@H](C)[C@H](OC(C)=O)c2ccc3c(c2)OCO3)cc1OC', 'C[C@]12CCC(=O)C=C1CC1(OC1=O)[C@@H]1C2=CC[C@@]2(C)[C@H]1CC[C@]2(O)CCC(=O)O', 'COc1cc2c(cc1OC(C)=O)CC[C@@H]1[C@@H]2CC[C@]2(C)C(=O)C(OC(C)=O)C[C@@H]12', 'CC1=C2CC(=O)C=C2[C@@H](OC(=O)[C@@]23CC[C@@](C)(C(=O)O2)C3(C)C)[C@@](C)(O)C12CC2', 'CC1(C)C(=O)C=CC2(C)C1=C(O)C(=O)C1(C)C2CCC2(C)C(C(=O)O)CC3OC321', 'C=C(C)C(=O)O.C=C(C)C(=O)O.CC(Cc1ccc(O)cc1)c1ccc(O)cc1', 'CC12CCC(O)=CC1CC(O)=C1C2C=C(O)C2(C)C(C3=CC(=O)OC3)CCC12O', 'O=C(O)CCCCCCCCC(=O)O.O=C(c1ccccc1)c1ccc(O)cc1', 'CCCOc1ccccc1/C=C/C(=O)OCc1cc(=O)c(OCCC(C)C)co1', 'CCOC(=O)[C@H](Cc1ccc(O[C@H](C)C(=O)OCc2ccccc2)cc1)OCC', 'COc1ccc(COC[C@H]2O[C@H]3OC(C)(C)O[C@@H]3[C@H]2OCc2ccccc2)cc1', 'CC(=O)[C@@H]1[C@@H](OCc2ccccc2)[C@H](OCc2ccccc2)[C@@H](CO)O[C@@]1(C)O', 'COc1ccc(C/C=C\\\\OCC(=O)CCc2ccc(OC)c(OC)c2)cc1OC', 'CCc1cc(=O)c2ccc(OC)c(COC[C@@]34CC[C@@](C)(C(=O)O3)C4(C)C)c2o1', 'CCc1ccc(C2CCOc3ccc(C4OC(CO)C(O)C(O)C4O)cc32)cc1', 'C=CCOC(=O)Oc1cc(OC)c(COc2ccccc2C(C)(C)C)c(OC)c1', 'C=CCO[C@H]1[C@@H](O)[C@H](O)[C@@H](OCc2ccccc2)[C@H](O)[C@@H]1OCc1ccccc1', 'CC1(C)OC2OC(CO)(COCc3ccccc3)C(OCc3ccccc3)C2O1', 'O=C(O)/C=C/c1ccc(OC(=O)C2CCCCC2)c(OC(=O)C2CCCCC2)c1', 'COC(=O)CC(CC(=O)OC)(c1cc(C)c(O)c(C)c1)c1cc(C)c(O)c(C)c1', 'C[C@]12CCC(=O)C=C1C[C@@H](C(=O)O)[C@H]1[C@@H]3CC[C@@]4(CCC(=O)O4)[C@@]3(C)CC3OC312', 'CCC(C)(CCC(C)(C)OOC(=O)c1ccccc1)OOC(=O)c1ccccc1', 'C=CC[C@@]1([C@H](O)CO)OC(O)[C@H](OCc2ccccc2)[C@H]1OCc1ccccc1', 'CCOC(=O)C(Cc1ccc(OCC(=O)OC(C)(C)C)cc1)Oc1ccccc1', 'COc1cc(C)c(Cc2cc(OCC3CO3)c(OC)cc2C)cc1OCC1CO1', 'COC(=O)CCC=C=CC[C@@H]1C(=O)C[C@H](O)[C@H]1C=CC(O)COc1ccccc1', 'C=C(C=C(C)C(=O)O)C(=O)OCCCC.C=C(CC=Cc1ccccc1)C(=O)O', 'CCc1cc(O)c(C2OC(O)(CO)CC(O)C2O)cc1Cc1ccc2c(c1)CC2', 'CCOC(=O)C(CCOc1ccccc1)(CCOc1ccccc1)C(=O)OCC', 'CC(=O)O[C@H]1C=C(C(C)=O)C2CC[C@H]3C(=O)CC(c4ccoc4)C[C@]3(C)C2C1O', 'Cc1cc(O)cc(O)c1C(=O)OC1CC2(C)C1C(C=O)=CC1(O)CC(C)(C)CC12', 'CCCc1cc(=O)oc2c(C(=O)C(C)C(O)CC)c(O)c3c(c12)OC(C)(C)C=C3', 'COc1ccc(OC)c(C(=O)/C=C/C2(C)C(C)=C(C)C(C(=O)O)=C(C)C2OC)c1', 'CCCc1cc(=O)oc2c(C(=O)C(C)(C)C(C)O)c(O)c3c(c12)OC(C)(C)C=C3', 'CC(C)(C)c1cc(C(=O)C(O)OOC(=O)c2ccccc2)cc(C(C)(C)C)c1O', 'CC(=O)OC(O)C(=O)[C@H]1CC[C@H]2[C@@H]3CCC4=CC(=O)C=C[C@]4(C)[C@H]3C(=O)C[C@]12C', 'CC(COC(=O)c1ccccc1)OCC(C)OCC(C)OC(=O)c1ccccc1', 'C=CCOC(=O)[C@@H]1C(=O)C[C@](C)(O)[C@H](C(=O)OCC=C)[C@H]1c1ccc(CC)cc1', 'CCCCOc1cc(/C=C(\\\\OCC)C(=O)O)ccc1OCCc1ccc(O)cc1', 'CCOc1cc(C(=O)OCC(=O)c2cc(C)ccc2C)cc(OCC)c1OCC', 'CCOC(=O)c1ccc(C[C@H]2CO[C@H](c3ccc(OC)c(OC)c3)[C@H]2CO)cc1', 'CCCc1cc(CO)cc(CCC)c1OC(C(=O)OC)c1ccc2c(c1)OCO2', 'CC(c1ccccc1)(c1ccccc1)C(OCC1(O)CCO1)OCC1(O)CCO1', 'Cc1ccc(C2OC(CO)[C@@H](O)[C@H](O)C2O)cc1Cc1ccc(C2(O)CC2)cc1', 'O=C(/C=C/C1=CCCC=C1)OCC(CO)(CO)COC(=O)/C=C/C1C=CC=CC1', 'CC(=O)OCC(=CCc1cc(C=CC(=O)O)ccc1OC(C)=O)CCC=C(C)C', 'COc1ccc2cc([C@H](C)C(=O)OC3O[C@H](C(=O)O)[C@@H](C)[C@H](C)[C@H]3C)ccc2c1', 'CC(=O)Oc1cc2c(cc1C(=O)O)C1CCC3(C)C(OC(C)=O)CCC3C1CC2', '[2H]C1([2H])Cc2cc(Cc3cc([C@@H]4O[C@H](CO)[C@@H](O)[C@H](O)[C@H]4O)c(OC)cc3C)ccc21', 'COCOc1ccc(C2Oc3ccc(OCOC)cc3C3CC(OC)CC32)cc1', 'CC(=O)O[C@H]1C(C)=C[C@]23C(=O)[C@@H](C=C(C)[C@H]4OC(=O)O[C@@]412)[C@H]1C(C[C@H]3C)C1(C)C', 'COC1C2=C(COC2=O)C2(C)CCCC(C)(CO)C2C1OC(=O)c1ccccc1', 'C[C@H]1CCC/C=C/[C@@H]2C[C@H](OC(=O)c3ccccc3O)C[C@H]2[C@H](O)/C=C/C(=O)O1', 'CCc1ccc2c(c1)C(c1ccc(C)cc1)C2C(=O)[C@H](O)[C@@H](O)[C@H](O)[C@H](O)CO', 'CC(C)OC(=Cc1ccccc1)C(=O)[C@@H](O)[C@H](O)[C@H](O)C(O)Cc1ccccc1', 'COc1ccc(C2=COC3C4C=CC(C)(C)OC4CC(OC)C3C2=O)c(OC)c1', 'Oc1ccccc1CCC1OCC2(CO1)COC(CCc1ccccc1O)OC2', 'CCCCCCC(=O)O/C(=C\\\\C=C(C)C)c1cc(O)c2c(O)ccc(O)c2c1O', 'C=CCC1=C[C@@]2(OC)[C@H](C)[C@H](c3ccc(OC)c(OC)c3)[C@H](C1=O)[C@H]2OC(C)=O', 'CCCCC(Oc1ccc(Oc2ccccc2)cc1)(C(=O)OCC)C(=O)OCC', 'CCOc1ccc(C2CCc3ccc([C@@H]4O[C@H](CO)[C@@H](O)[C@H](O)[C@H]4O)cc32)cc1', 'C=CC(=O)OCCCCCCOc1ccc(C(=O)OC(=C)/C=C\\\\C(=C)CO)cc1', 'CCOc1cc(O)c(C(=O)/C=C/c2ccc(OCC)c(OCC)c2)c(OCC)c1', 'C[C@]12C=CC(OC(=O)CO)CC1=CC=C1[C@H]2CC[C@]2(C)C(OC(=O)CO)C=C[C@@H]12', 'C[C@H](c1ccc(C2CC2)cc1)c1ccccc1O[C@@H]1O[C@H](CO)[C@@H](O)[C@H](O)[C@H]1O', 'COc1ccc(OC)c(C(=CC(=O)OC(C)(C)C)c2cc(OC)ccc2OC)c1', 'C=C(CC=C(C(=O)O)C(C=C(C)C(=O)O)CCCC)C(=O)OCc1ccccc1', 'COc1cc(CCC(O)CC(=O)CCc2ccc(O)c3c2CCCO3)ccc1O', 'CC12C=CC(=O)C=C1CCC1C2C(=O)CC2(C)C1CCC21OCOC12COCO2', 'CC1(C)OCC(C2OC3OC(C)(C)OC3C2OCc2ccc3ccccc3c2)O1', 'CCOC(=O)C(O)(c1ccccc1)c1cccc(OCCCCC2OCCO2)c1', 'COc1cc(C)c(C(=O)c2c(C)cccc2OC(=O)C(C)(C)C)c(OC)c1OC', 'C=CC[C@]12C=C(OC)C(=O)[C@H]([C@@H](c3ccc(OC)c(OC)c3)[C@@H]1C)[C@@H]2OC(C)=O', 'COc1cc(C2=CC(c3cc(OC)c(OC)c(OC)c3)CC2)cc(OC)c1OC', 'CO[C@@]12CC[C@H](O)[C@@H](C#C[C@@H](O)COc3ccccc3)[C@@H]1CC2=CCCC(=O)O', 'COc1cc2c(cc1OC)[C@H]1C[C@H](CCCO)[C@@]1(O)c1ccc(OC)c(OC)c1-2', 'CCC(=O)OC1(C(=O)O)CCC2C3CC=C4CC(=O)C=CC4(C)[C@@]34O[C@H]4CC21C', 'C[C@]12C=CC(=O)C=C1CC[C@@H]1C2=CC[C@@]2(C)[C@H]1CC[C@]2(O)C(=O)COC(=O)CO', 'C=C(C)[C@@]12C[C@H]3[C@H](OC(=O)[C@H](OC)c4ccccc4)C[C@]1(C)OC[C@]32C(=O)OC', 'COc1ccc(C(=O)CC(C)(OOC(C)(C)C)C(=O)OCc2ccccc2)cc1', 'COc1cc(CCC(=O)OCC(=O)c2cc(C)c(C)cc2C)cc(OC)c1OC', 'CC(=O)OCC(=O)[C@@]1(O)CC[C@H]2[C@@H]3C=CC4=CC(=O)C=C[C@]4(C)[C@H]3[C@@H](O)C[C@@]21C', 'CC(C)(O)O[C@@H]1C[C@H](OCc2ccccc2)[C@@](C=O)(COCc2ccccc2)O1', 'COC(=O)CCc1cc(C(=O)c2ccc(OC(C)C)cc2O)ccc1OC(C)C', 'CCOC(=O)C=Cc1ccc(Cc2c(C)c(OC)c(OC)c(OC)c2OC)cc1', 'COc1ccc(C(CC=O)c2cccc(OCC(=O)OC(C)(C)C)c2)cc1OC', 'COc1ccc(COC/C=C\\\\[C@@H](O)[C@H]2O[C@H]2COCc2ccc(OC)cc2)cc1', 'Cc1ccc2c(c1C)CC(Cc1ccc(O)c([C@H]3C[C@@H](O)[C@H](O)[C@@H](CO)O3)c1)O2', 'CCOC(=O)C=Cc1ccccc1Cc1c(C)c(OC)c(OC)c(OC)c1OC', 'C=CCO[C@H]1O[C@H](CO)[C@@H](O)[C@@](O)(Cc2ccccc2)[C@]1(O)Cc1ccccc1', 'CC/C(=C\\\\COc1ccc2ccc(=O)oc2c1OC)C[C@H](C=C(C)C)OC(C)=O', 'COc1ccc(Cc2cc([C@]34OC[C@](CO)(O3)[C@@H](C)[C@H](O)[C@@H]4O)ccc2C)cc1', 'CCOC(=O)[C@H](Cc1ccc(OCCC(=O)OCc2ccccc2)cc1)OCC', 'COc1cc2c(c(O)c1OC)-c1c(cc3c(c1OC)OCO3)C(C)C(C)C(C)C2', 'CCCCCCCCOc1ccc(C(=O)Oc2ccc(C(=O)O)cc2OC)cc1', 'COc1ccc(C(c2ccc3c(c2)OCO3)C(C)C(C)COC(C)=O)cc1OC', 'COc1ccc(OC2CCCCC(=O)OC(C)C2Oc2ccc(OC)cc2)cc1', 'CC1(C)O[C@@H]2[C@H](O1)[C@@H](OCc1ccccc1)[C@H](O)[C@@H](O)[C@@H]2OCc1ccccc1', 'CCc1ccc(OC[C@@H]2[C@H]3CC[C@H](c4ccc(C(=O)O)o4)O[C@H]3C[C@@H]2O)cc1C', 'COc1c2cc(c(O)c1OC)CCCC[C@H](O)CCc1ccc(OC(C)=O)c-2c1', 'COC(=O)c1ccc(COc2ccc([C@H]3O[C@H](C)CC(C)(C)O3)cc2OC)cc1', 'CCOc1ccc(Cc2ccc3c(c2)OCCO3)cc1C1CC(O)CC(CO)O1', 'C=CCOC(=O)C=CCC1C[C@@H](O)[C@@H](C)CC=CCc2cccc(O)c2C(=O)O1', 'CC(C)c1ccc(Cc2ccc3c(c2)C2(OC3)O[C@H](CO)[C@@H](O)[C@H](O)[C@H]2O)cc1', 'CC1(C)OC2[C@H](O1)C(OCc1ccccc1)[C@@H](O)[C@H](O)[C@@H]2OCc1ccccc1', 'C=CCC1=C[C@]2(OC)[C@H](OC(C)=O)[C@H](C1=O)[C@@H](c1ccc(OC)c(OC)c1)[C@@H]2C', 'CCOc1ccc(Cc2cc([C@H]3CC(=O)C[C@@H](CO)O3)c(OC)cc2OC)cc1', 'COc1ccc(Cc2cc([C@@H]3O[C@H](CO)[C@@H](O)[C@H](O)[C@H]3O)ccc2C2CC2)cc1', 'CC1=C[C@H]2O[C@@H]3C[C@@H](OC(=O)/C=C\\\\C=C\\\\C=C\\\\C(=O)O)C(C)(C34CO4)[C@@]2(C)CC1', 'COCCOCCOCCOC(=O)c1ccc(C=C2C=C(C)C(=O)C(C)=C2)cc1', 'COC(=O)C(O)(O)CC=C=CCC1C(=O)CCC1/C=C/CCOc1ccccc1', 'COc1ccc(C(=O)CC(O)Cc2ccc(C(=O)OC(C)(C)C)cc2)c(OC)c1', 'CC1(C)CC(=O)C(O)(C2(OCc3ccccc3)C(=O)CC(C)(C)CC2=O)C(=O)C1', 'COc1ccc(/C=C(\\\\C(=O)OCC(C)C)c2ccc(OC)c(OC)c2)cc1OC', 'CC(=O)OCC(=O)[C@@]1(O)C[C@@H]2O[C@@]23[C@@H]2CCC4=CC(=O)CC[C@]4(C)C2=CC[C@@]31C', 'COC(=O)CCC=C=CCC1C(=O)CC(O)C1/C=C/C(O)COc1ccccc1', 'COc1ccc(CC(C=O)c2cccc(OCC(=O)OC(C)(C)C)c2)cc1OC', 'COC(=O)CC(=O)[C@@]1(O)CC[C@H]2[C@@H]3CCC4=CC(=O)C=C[C@]4(C)[C@H]3C(=O)C[C@@]21C', 'CC(c1ccccc1)(c1ccccc1)C(OCC(O)C1CO1)OCC(O)C1CO1', 'CC1(C)O[C@@H]2O[C@@](CO)(COCc3ccccc3)[C@@H](OCc3ccccc3)[C@@H]2O1', 'CC(C)(c1ccc(OCOCC2CO2)cc1)c1ccc(OCOCC2CO2)cc1', 'CCC(O)C(CC)C(O)CC(OC(=O)c1ccccc1)OC(=O)c1ccccc1', 'COC(=O)C[C@@]1(C)CCC[C@]2(C)c3cc(C(=O)OC)c(C(=O)OC)cc3C=CC12', 'CCCCCCOc1ccc(C(=O)Oc2cccc(C(=O)OCCOC)c2)cc1', 'CO[C@@H]1O[C@@H](C)[C@H](OCc2ccccc2)[C@@H](OC(C)=O)[C@H]1OCc1ccccc1', 'CCOc1c(OC)c(OC)cc2c1-c1ccc(OC)c(=O)cc1C(COC)CC2', 'CCCCCC(=O)OCCCCCCOc1c2occc2cc2ccc(=O)oc12', 'CCc1cccc(C2CCOc3ccc([C@@H]4O[C@H](CO)[C@@H](O)[C@H](O)C4O)cc32)c1', 'CCC(C)C(=O)O[C@H](CC=C(C)C)c1cc(OC)c2c(c1OC)C(=O)C=CC2=O', 'CC.c1cc2c(cc1[C@H]1OC[C@@H]3COC[C@H]1C3)OCO2.c1ccc2c(c1)OCO2', 'COc1ccc(C(=O)O[C@H]2CC3C(=C2C)[C@H]2OC(=O)[C@@H](C)[C@@H]2CC[C@@]3(C)O)cc1', 'CCc1ccc(CC)c(C(=O)COC(=O)Cc2cc(OC)c(OC)c(OC)c2)c1', 'COc1ccc(OC2=COC3CC(OC(=O)C4CCCCC4)CCC3C2=O)cc1', 'COC(=O)[C@H]1CC=C[C@@H]2[C@@H]1CCC1=C3C(=O)O[C@H]([C@H]4COC(C)(C)O4)[C@H]3C=C[C@H]12', '[2H]C([2H])([2H])C(=O)OCC(=O)[C@@]1(O)CC[C@H]2[C@@H]3CCC4=CC(=O)C=C[C@]4(C)[C@H]3C(=O)C[C@@]21C', 'C=C1C(=O)[C@@]23[C@@H]4OC(C)(C)O[C@]25OC[C@]2(C(=O)C=CC(C)(C)[C@H]2[C@@H]5O)[C@@H]3CC[C@@H]14', 'C[C@]12C=CC(=O)CC1=CC[C@@H]1[C@@H]2C(=O)C[C@@]2(C)[C@H]1CC[C@@]21OCOC12COCO2', 'COC(=O)C1CC2=CC(=O)CCC2(C)C23OC2CC2C(CC[C@@]24CCC(=O)O4)C13', 'CCOC(=O)COc1ccc(C(C)(C)c2ccc(OCC(=O)O)c(C)c2)cc1C', 'C=CC(=O)OCC(O)COc1ccc2cc(C3OC(C)CC(CC)O3)ccc2c1', 'Cc1ccc([C@@H]2O[C@H](CO)[C@@H](O)[C@H](O)C2O)cc1Cc1ccc(C2(O)CC2)cc1', 'COC(=O)Cc1cc(-c2cc(CC(=O)OC)c(O)c(C(C)(C)C)c2)cc(C)c1O', 'C=CC[C@]12C=C(OC)C(=O)[C@H]([C@H](c3ccc(OC)c(OC)c3)[C@H]1C)[C@H]2OC(C)=O', 'CCOC(=O)C=CCc1ccc(OCOCCOC)cc1OCc1ccccc1', 'CCCCCCCOC(=O)c1ccccc1C(=O)Oc1c(OC)cccc1OC', 'COC1(C)OC2[C@H](OC(C)[C@H](OCc3ccccc3)[C@@H]2OCc2ccccc2)O1', 'Cc1cc(C)c(C2=C(OC(=O)CC3(C)OCCO3)C3(CCCC3)OC2=O)c(C)c1', 'CCOc1ccc(C2(c3cccc(C4OC(CO)C(O)C(O)C4O)c3)CC2)cc1', 'COc1ccc(CCC(=O)CC(=O)CCc2ccc(CO)c(CO)c2)cc1OC', 'CCc1ccc(C2C(O)[C@@]3(O)C(c4ccc(C)cc4)[C@@](O)([C@H](O)CO)[C@@]23O)cc1', 'COc1cc(C(=O)C(C)(C(=O)O)c2ccc(CC(C)C)cc2)cc(OC)c1OC', 'COc1cc(C)cc2c1Oc1ccc(C(C)(O)CC(C)C)c(OC)c1C(=O)OC2', 'CC(C)(C)c1ccc(OC(=O)OCOC(=O)Oc2ccc(C(C)(C)C)cc2)cc1', 'CCC(=O)O[C@]1(C(=O)O)CC[C@H]2[C@@H]3CCC4=CC(=O)C5=C(O5)[C@]4(C)[C@H]3CC[C@@]21C', 'CC1(C)O[C@@H]2[C@H](O1)[C@H](OCc1ccccc1)[C@@H](O)[C@H](O)[C@H]2OCc1ccccc1', 'O=C(O)CCC(=O)OCCCc1cccc(OCCCCOc2ccccc2)c1', 'CC(C)c1cc(C(C)(C)c2cc(C(=O)O)c(O)c(C(C)C)c2)cc(C(=O)O)c1O', 'COC(=O)C1CC2=CC(=O)CCC2(C)[C@@]23O[C@@H]2CC2C(CC[C@@]24CCC(=O)O4)C13', 'CCC(=C(CCc1ccc(OC)c(OC)c1)C(=O)O)c1ccc(OC)c(OC)c1', 'C[C@]12C=CC(=O)C=C1CC[C@@H]1[C@@H]2C(=O)C[C@@]2(C)[C@H]1CC[C@@]21OCO[C@]12COCO2', 'Cc1c(C)c(C)c(C(=O)OCOC(=O)c2c(C)c(C)c(C)c(C)c2O)c(O)c1C', 'C[C@@H]1CC[C@H]2C(CCC(=O)c3ccccc3)C(=O)O[C@@H]3O[C@]4(C)CCC1C32OO4', 'CCOC(=O)[C@]12[C@H]([C@@H]3OC(C)(C)O[C@H]3c3ccccc3)[C@@H]3CC[C@@]1(OC)[C@@H]2C3=O', 'C[C@]12C[C@@H]3O[C@]34[C@@H](CCC3=CC(=O)C=C[C@@]34C)[C@@H]1CC[C@@H]2C(=O)COC(=O)CO', 'C/C=C1\\\\[C@H](C(=O)OCc2ccccc2)[C@]2(C)CCC(=O)[C@@]1(C(=O)OC(C)(C)C)O2', 'COC[C@@H]1Cc2cc3c(cc2[C@H](c2ccc(OC)c(OC)c2)[C@H]1COC)OCO3', 'COc1cc2c(cc1OC(C)=O)C(=O)CC1C2CC[C@@]2(C)C1CC[C@@H]2OC(C)=O', 'C=CCO[C@H]1[C@H](O)[C@@H](O)[C@@H](OCc2ccccc2)[C@@H](O)[C@@H]1OCc1ccccc1', 'CC1(C)O[C@H]2O[C@H]([C@@H](O)COCc3ccccc3)[C@H](OCc3ccccc3)[C@H]2O1', 'C=CCOC(=O)CC/C(C)=C/Cc1c(OC)c(C)c2c(c1OCC=C)C(=O)OC2', 'Cc1ccc(C2OCC3CC(O2)C(C(O)CO)OC(c2ccc(C)cc2)O3)cc1', 'CO[C@H](C(=O)O[C@H](C)C[C@@H](C)OC(=O)[C@@H](OC)c1ccccc1)c1ccccc1', 'CCc1ccc(OCCCC(C)(C)C(=O)OCC(=O)c2cc(O)cc(O)c2)cc1', 'C=CC(=O)OCCCCCCOC1(OC)C=CC(OC(=O)c2ccccc2)=CC1', 'CCCCCCc1c(OCc2ccc(C(=O)O)cc2OC)ccc(C(C)=O)c1O', 'COc1cc2c(c(OC)c1)C(CC1OCCc3cc(OC)cc(OC)c31)OCC2', 'CCOC(=O)/C(C)=C/[C@@H](OCOC)c1ccc(OCc2ccccc2)cc1OC', 'CCCC(=O)c1ccc(OCCCCOc2cccc(C(=O)O)c2C)c(C)c1O', 'CC(=O)Cc1c(C)c(O)c(C)c2c1C[C@@H]1C3=C(C)C(=O)[C@](C)(O)[C@H]3CO[C@]1(C)O2', 'CCCOc1cc(C)c(C(C)CCOc2cc(C)ccc2C(=O)O)cc1C(=O)O', 'C=C/C(=C\\\\C=C\\\\C(C)(C)/C(C=C)=C/C=C/C(=O)OCC1CO1)C(=O)OCC1CO1', 'Cc1ccc(OCC/C=C/[C@H]2CCC(=O)[C@@H]2CC=C=CCC(O)(O)C(=O)O)cc1', 'CCOC(=O)CCc1ccc(Cc2c(C)cc(OC)c(OC)c2OC(C)=O)cc1', 'CCOC(=O)C1=C(c2ccccc2)C(=O)[C@@H]2[C@@H]3C[C@@H](C[C@@H]3OCOCCOC)[C@H]12', 'CCOC(=O)CC1O[C@@H](COCc2ccccc2)[C@@H](COCc2ccccc2)O1', 'O=C(O)CCC/C=C\\\\C[C@H]1C(=O)C[C@@H](O)C1/C=C/[C@@H](O)[C@H]1Cc2ccccc2O1', 'CCCOc1ccc(C(=O)Oc2ccc(C(=O)OCCCCCCO)cc2)cc1', 'C[C@]12C=CC(=O)C=C1CC[C@@H]1[C@@H]2C(=O)C[C@@]2(C)[C@H]1CC[C@]21OCO[C@]12COCO2', 'CO[C@H](COC(=O)c1ccccc1)[C@@H](OC(=O)c1ccccc1)[C@H](C)CCCO', 'Cc1cc(O)cc(O)c1C(=O)O[C@@H]1C[C@@]2(C)C1=C(C=O)[C@@H](O)C1CC(C)(C)CC12', 'CC(=O)OCC(=O)[C@]1(O)CC[C@@H]2[C@H]3CCC4=CC(=O)C=C[C@]4(C)[C@@H]3C(=O)C[C@]21C', 'COc1ccc(Cc2cc([C@@H]3O[C@H](CO)[C@@H](O)[C@H](O)[C@H]3O)cc3c2CCC3)cc1', 'C=CCO[C@@H]1[C@@H](OCc2ccccc2)[C@H](OCc2ccccc2)[C@@H](CO)O[C@H]1O', 'C=Cc1cc(C(=O)OC)c(C[C@@H](C[C@H](O)C2=C[C@H](CC(=C)C)OC2=O)C(=C)C)o1', 'CC(C)C(=O)O.CC(C)C(=O)OCCOC(=O)c1ccc(-c2ccccc2)cc1', 'CC1(C)CC(=O)C([C@@H](C2=C(O)CC(C)(C)CC2=O)c2cccc(O)c2O)C(=O)C1', 'C=CC(=O)OCCCCOCC(O)COc1ccc(C(=O)C2=CC=CCC2)cc1', 'COc1cccc(CC(O)C#C[C@H]2[C@H](O)CC(=O)[C@@H]2CCCC/C=C/C(=O)O)c1', 'COc1cc(C(CCO)c2cc(OCC3CO3)ccc2C)ccc1OCC1CO1', 'CCc1cccc(C2CCOc3ccc(C4O[C@H](CO)[C@@H](O)[C@H](O)C4O)cc32)c1', 'COc1cc(C2c3cc(O)c(OC)cc3CC3COC(C)(C)OCC32)ccc1O', 'C=Cc1ccc(OC(=O)c2ccc(OC(C)OCC)c(OC(C)OCC)c2)cc1', 'C=CCC1=C[C@@]2(OC)[C@H](OC(C)=O)[C@H](C1=O)[C@H](c1ccc(OC)c(OC)c1)[C@@H]2C', 'CCCOc1ccc(CCCC(=O)O)cc1-c1cc(CCCC(=O)O)ccc1O', 'COCOc1ccc([C@@H]2Oc3ccc(OCOC)cc3[C@@H]3C[C@H](OC)C[C@@H]32)cc1', 'CCOC(=O)Oc1ccc(C(C)(C)c2ccc(OC(=O)OCC)c(C)c2)cc1C', 'CCCC1OC(c2ccccc2)OC2C(C(O)CO)OC(c3ccccc3)OC12', 'CO[C@@H](Cc1ccc(OCCCOc2ccc(C(=O)C(C)C)cc2)cc1)C(=O)O', 'CC1(C)O[C@@H]2O[C@](CO)(COCc3ccccc3)[C@@H](OCc3ccccc3)[C@@H]2O1', 'O=C(O)c1cc(C2CCC3(CC2)OOC2(O3)C3CC4CC(C3)CC2C4)ccc1O', 'Cc1c(OCCCCOc2ccc(C(=O)C(C)C)c(O)c2C)cccc1C(=O)O', 'CCCc1ccc(OC)c(C=CC(=O)c2ccc(OC(OC)OC)cc2)c1OC', 'CCOC(=O)C12C(=O)Oc3ccccc3C1CC1(OCCCO1)C1CCCCC12', 'C=CC(C)Oc1cc(OCc2ccccc2)cc(CC(OC)OC)c1C(=O)OC', 'COC1=C(OC)C23C(=CC1=O)C[C@H](C)[C@@]2(C)Cc1cc(OC)c(OC)c(OC)c13', 'CCc1c(C)cc2c(c1O)Oc1ccc([C@@H](O)CC(C)C)c(OC)c1C(=O)OC2', 'COC[C@H]1Cc2cc3c(cc2[C@@H](c2ccc(OC)c(OC)c2)[C@@H]1COC)OCO3', 'CC(C)C1C=CC(Cc2ccc3c(c2)[C@]2(OC3)OC(CO)[C@@H](O)C(O)C2=O)=CC1', 'CCCCCOc1ccc(CCC(=O)O)cc1-c1cc(CCC(=O)O)ccc1O', 'CCc1ccc(C2[C@]3(O)C(O)C(c4ccc(C)cc4)[C@]3(O)[C@]2(O)[C@H](O)CO)cc1', 'CC[C@H](C)c1cc(Cc2cc([C@@H](C)CC)cc(C(=O)O)c2O)c(O)c(C(=O)O)c1', 'Cc1cc(C)c(C(C(=O)O)C(=O)O)c(C)c1.Cc1cc(C)c(CC(=O)O)c(C)c1', '[2H][C@@H]1O[C@H](COCc2ccc(OC)cc2)[C@@H](OCc2ccccc2)C[C@H]1OC(C)=O', 'COc1ccc(CO[C@@H]2[C@H](OCc3ccccc3)OC[C@H]3OC(C)(C)O[C@@H]23)cc1', 'C=CCO[C@H]1O[C@H](COCc2ccccc2)[C@H](OCc2ccccc2)[C@H](O)[C@H]1O', 'O=C(O)Cc1cccc(OCCCCCCCOc2cccc(CC(=O)O)c2)c1', 'CC12C[C@H]3O[C@@]34C(C1CC[C@@]21CCC(=O)O1)[C@H]1C[C@]2(CC(=O)CCC24C)OC1=O', 'CO[C@]12C[C@H]3C=C[C@H]4[C@@H]5C=C(C)C(=O)[C@H]4[C@]3(O5)C(C)=C1[C@@H](C)[C@@H]([C@@H](C)O)OC2=O', 'CCCCCCOc1ccc(C=C(Oc2cc(OC)cc(OC)c2)C(=O)O)cc1', 'Cc1ccc([C@@H]2O[C@H](CO)[C@@H](O)[C@H](O)[C@H]2O)cc1Cc1ccc2c(c1)CCCO2', 'C=C[C@H]1O[C@@H](OC)[C@H](OCc2ccc(OC)cc2)[C@@H]1OCc1ccc(OC)cc1', 'C=CCC1=CC(OC)(C(C)=Cc2cc(OC)c(OC)c(OC)c2)C(OC)=CC1=O', 'CO[C@H]1O[C@@H]2COC(C)(C)O[C@H]2[C@H](O)[C@@H]1OC(c1ccccc1)c1ccccc1', 'C=C(CC1C(=O)CC(C)(C)C(C(=O)OCC)C1=O)C(=O)OCCc1ccccc1', 'COC1=C(C)C(=O)C[C@@H]2[C@](Cc3ccccc3)(C(=O)OC(C)(C)C)C(=O)O[C@]12C', 'CCCCOc1c2c(OC)ccc(OC)c2c(OC)c2c(OC)ccc(OC)c12', 'Cc1ccc(C2OC[C@@H]3OC(c4ccc(C)cc4)O[C@](C)([C@H](O)CO)[C@@H]3O2)cc1', 'CC1(C)CC(=O)C([C@@H](C2=C(O)CC(C)(C)CC2=O)c2ccc(O)c(O)c2)C(=O)C1', 'CC.COc1c(C)ccc(-c2ccc3c(c2)COC3=O)c1OCC1(CO)COC1', 'C=CC(=O)OCCCCCCOc1ccc(C(=O)OC(=C)/C=C\\\\C(=C)OC)cc1', 'CCCCO[C@@H](CCc1ccc(O)c(O)c1)CC(=O)/C=C/c1ccc(O)c(O)c1', 'COc1ccc(COC/C=C/[C@H](O)[C@@H]2O[C@@H]2COCc2ccc(OC)cc2)cc1', 'CCCCCOc1ccc(C(=O)Oc2ccc(C(=O)OCCCCO)cc2)cc1', 'CC(=O)OCC(=O)[C@@]1(O)[C@H](O)C[C@@H]2[C@@H]3CCC4=CC(=O)C=C[C@]4(C)C3=CC[C@]21C', 'COc1cc(OC)c(C2=COC3CC4OC(C)(C)C=CC4CC3C2=O)cc1OC', 'CC(=O)O[C@H]1C(C)=C[C@]23C(=O)[C@@H](C=C(C)C4OC(=O)OC412)[C@H]1C(C[C@H]3C)C1(C)C', 'C=CC(=O)OCCOCCOCCOc1c2c(c(O)c3ccccc13)CCCC2', 'COC(=O)C1C=C2CC(=O)CCC2(C)C23OC2CC2C(CCC24CCC(=O)O4)C13', 'CO[C@@H]1O[C@@H](C)[C@H](OCc2ccccc2)[C@@H](OCc2ccccc2)[C@H]1OC(C)=O', 'CC1(C)OC2C(OCc3ccccc3)C(O)C(O)C(OCc3ccccc3)C2O1', '[2H]C1=C[C@@]2(C)C(=C([2H])C1=O)C([2H])([2H])C[C@H]1[C@@H]3CC[C@@]4(OCOC45COCO5)[C@@]3(C)C([2H])([2H])C(=O)[C@@]12[2H]', 'COC(=O)C[C@@H]1C[C@H](CCOCc2ccc(OC)cc2)O[C@H](c2ccccc2)O1', 'C1=CC=C(C=C1)CC2C(=O)NC(C(=O)N2)CC3=CNC4=CC=CC=C43', 'CCn1cc(C=O)c(=O)c2cc(NC3Cc4ccccc4C3)cnc21', 'O=C1C=CC=CC=CC=CC=C/N=N\\\\NOc2ccccc2C=CC1', 'O=C(Cc1ccc2c(=O)[nH]cnc2c1)C(NC1CC1)c1ccccc1', 'N#Cc1cccc(C2(NC(=O)c3cc(=O)[nH]c4c3CCCC4)CC2)c1', 'CCn1c(-c2ccc(C(=O)NC)cc2)c(C#N)c2cc(OC)ccc21', 'Cc1ccc([C@@H]2NC(=O)N(C)C3=C2C(=O)N(c2ccccc2)C3)cc1', 'CNC1(c2ccc(-c3[nH]c4cccc5c4c3CONC5=O)cc2)CC1', 'CC(NC(=O)C1COc2ccccc21)c1cccc(-n2ccnc2)c1', 'CCOc1nc(-c2ccc(C)cc2)n(C(=O)C=Cc2ccccc2)n1', 'CN(Cc1ccccc1)c1ccccc1NC(=O)c1cccc[n+]1[O-]', 'O=C(C[C@@H]1NC(=O)c2ccccc21)NCCn1ccc2ccccc21', 'N#CCc1ccc(NC(=O)c2cccc(CN3CCCC3=O)c2)cc1', 'COc1ccc(Nc2ccc(C(=O)NCc3ccccc3)cn2)cc1', 'COc1ccccc1Oc1c(N)cc(C#N)n1Cc1ccc(C)cc1', 'COc1ccccc1C=NNC(=O)CNc1cccc2ccccc12', 'Cc1ccc(Cn2cccc/c2=N/C(=O)c2ccc(C)[nH]c2=O)cc1', 'O=C1C[C@H](c2noc(CCc3ccccc3)n2)CN1c1ccccc1', 'Cc1cnn(-c2ccccc2)c1NC(=O)C1Oc2ccccc2C1C', 'Nc1ncccc1C(=O)NCc1cccc(COc2ccccc2)c1', 'CC(=O)[C@@]12C[C@@](C#N)(N3CCOCC3)[C@@H]1C=C(C#N)c1ccccc12', 'O=C1CCC(c2cccc(NCc3cnc(-c4ccccc4)o3)c2)N1', 'C[C@@H]1Oc2ccccc2/C(=N/OCc2ccccc2)[C@H]1n1ccnc1', 'CCNC(=O)c1ccc(C=CC(=O)c2nc3ccc(C)cc3[nH]2)cc1', 'O=C(Cn1ncc2ccccc2c1=O)N(Cc1ccccc1)C1CC1', 'O=C(c1ccc2ccccc2c1)N1CCCC(Oc2cccnn2)C1', 'COc1ccccc1CNc1ccc(C(=O)Nc2ccccc2)nc1', 'O=C1CN(Cc2ccccc2)C(=O)[C@H](Cc2c[nH]c3ccccc23)N1', 'CC(=O)Nc1ccc2cc(C)c(/N=N/c3ccc(C)cc3)c(O)c2c1', 'COc1ccc2nc3c(cc2c1)c(=O)n(C)c1cc(N(C)C)ccc31', 'Cc1ccc(-c2c(N3CCN(c4ccccn4)CC3)c(=O)c2=O)cc1', 'OCc1ccccc1CNCc1cn[nH]c1-c1cc2ccccc2o1', 'CC(O)C#Cc1cccc2nc(C(C)N)n(-c3ccccc3)c(=O)c12', 'O=C(Nc1ccccc1)C12ON=C(c3cccnc3)C1C1CCC2C1', 'COc1ccccc1Nc1ccnc(C(=O)Nc2ccccc2C)c1', 'CC(=O)N(C)c1ccc(CC(=O)Nc2cccc3cccnc23)cc1', 'C[C@@H]1NC(=O)[C@H]2C[C@@]3(c4ccccc4)c4ccccc4N[C@H]3N2C1=O', 'COc1nc(C(=O)N(Cc2cccnc2)C2CC2)cc2ccccc12', 'CCCNC(=O)c1ccc(NC(=O)c2ccc3ccccc3n2)cc1', 'O=C1c2cccc(-c3ncco3)c2CN1C[C@@H]1CC1C1=CCCC=N1', 'Cc1ccccc1C(=O)N1CC(c2nc(Cc3ccccc3)no2)C1', 'C[C@@H](C#N)CN1C(=O)N[C@](Cc2ccccc2)(c2ccccc2)C1=O', 'CC(C)c1nc(C#N)c(NCc2ccc(Oc3ccccc3)cc2)o1', 'COc1cc(C#N)ccc1NC(=O)C(C)c1cn(C)c2ccccc12', 'O=C(c1c[nH]c2ccccc12)N1C[C@H]2C[C@@H](C1)c1cccc(=O)n1C2', 'CN1C=CN(CCNc2cccc3c2C(=O)c2ccccc2C3=O)C1', 'COc1ccc2c(c1)C1=C(CC2)C(c2cccn2C)C(C#N)=C(N)O1', 'NC(=O)[C@H]1Cc2ccccc2CN1Cc1ncc(-c2ccccc2)o1', 'COc1ccccc1Nc1cncc(C(=O)Nc2ccc(C)cc2)c1', 'O=C(N[C@H](c1ccccc1)C1CC(O)C1)c1cccc2nccnc12', 'COc1ccc(CC(=O)NCc2ccc(-c3cccnc3)nc2)cc1', 'COc1ccc(/C=C(\\\\C#N)c2nc3cc(C)c(C)cc3[nH]2)cc1OC', 'Cc1ccc(C)c(Cn2cccc(C(=O)Nc3cccnc3)c2=O)c1', 'Cc1cc(C(C)N)c2nc(-c3cccc4ccoc34)n(C)c(=O)c2c1', 'Cc1[nH]nc2cc(C#CCCNC(=O)OCc3ccccc3)ccc12', 'COc1ccccc1N1CC(c2ncc(-c3ccccc3)[nH]2)CC1=O', 'COc1ccc([C@H](C)NC(=O)Cn2cc(C#N)c3ccccc32)cc1', 'C=Cc1ccc(=O)n(CC(=O)c2cnn(Cc3ccccc3)c2C)c1', 'CC(=O)c1cnc(-c2ccccc2)c(-c2ccc(=O)n(C(C)C)n2)c1', 'Cc1ccccc1C(=O)NCC#Cc1ccc(N2CCNC2=O)cc1', 'Cc1ccc(CNc2oc(COc3ccccc3C)nc2C#N)cc1', 'Cc1n[nH]c(C)c1NC(=O)OCC1c2ccccc2-c2ccccc21', 'COc1ccc2[nH]cc(C=NNC(=O)C3CC3c3ccccc3)c2c1', 'Cc1c(NC(=O)[C@H]2OCCc3ccccc32)cnn1-c1ccccc1', 'CCCc1c2n(c3cc(C(=O)OC)ccc13)CC=Cc1nccnc1-2', 'C=Cc1cccn(CC(=O)c2cnn(Cc3ccccc3)c2C)c1=O', 'NC(=O)c1ccc(C2=CC=CC(Cc3cccnc3)(C(N)=O)C2)cc1', 'Cc1ccc(C(=O)Nc2ccc(COc3ccccc3)cc2)c(N)n1', 'CCOc1ccc(NC(=O)c2cnc(-c3ccccc3)nc2C)cc1', 'CN(C)CCNC(=O)c1cccc2cc3oc4ccccc4c3nc12', 'Cc1cc(C)cc(C(=O)NCC(=O)Nc2cnc3ccccc3c2)c1', 'C[C@H]1C[C@H]1C(=O)Nc1cccc(C(=O)Nc2cccc3[nH]ccc23)c1', 'O=C1NC(=O)C(N2CCN(c3ccccc3)CC2)=C1c1ccccc1', 'COCc1cccc(NC(=O)/C=C/c2cnn(-c3ccccc3)c2)c1', 'Cc1noc(C)c1-c1ccc2c(c1)[C@H]1C3CC3(c3cnc[nH]3)[C@H]1CO2', 'COc1ccccc1C(=O)c1ccc(C)c(N)c1N1C=C(C#N)CC1', 'Cc1ccc(=O)n(CC2CN(C(=O)c3ccc4ccccc4c3)C2)n1', 'O=C1C[C@H](NC(=O)CCc2c[nH]c3ccccc23)c2ccccc2N1', 'C=CC(=Cc1cncc(NCc2ccc3cc[nH]c3c2)c1)C(=O)OC', 'Cc1cc(C)n2ccc(C(=O)Nc3ccc4c(c3)C(=O)CCC4)c2n1', 'C[C@H]1C[C@@H]1C(=O)Nc1cccc(C(=O)Nc2cccc3[nH]ccc23)c1', 'CN(CC(=O)NC1CC1)C(=O)c1ccccc1-c1ccccc1C#N', 'Cc1nnc(-c2cccc(C[C@@H]3CC(=O)N(c4ccccc4)C3)c2)o1', 'Cc1ccc(-c2cc(NC(=O)CN3CCc4ccccc43)on2)cc1', 'C[C@@H](Nc1nc(-c2cccc(C(=O)O)c2)ccc1N)c1ccccc1', 'CNC(=O)c1ccc(C=C(C#N)C(=O)Nc2ccc(C)cc2C)cc1', 'Cc1ccc(C)c(NC(=O)Cc2noc(/C=C/c3ccccc3)n2)c1', 'Cc1ccc(Oc2ccccc2CNc2ccnc(C(N)=O)c2)cc1', 'COc1cccc(C(=O)Nc2cc(C3CC3)nn2-c2ccccc2)c1', 'O=C(c1n[nH]c2c1COCC2)N(Cc1ccccc1)c1ccccc1', 'CC(=O)Nc1ccc(/C=C(/C#N)C(=O)Nc2cccc(C)c2C)cc1', 'O=C(c1cccc2ccccc12)N1CCCC(Oc2ccncn2)C1', 'O=C(c1ccc2nc[nH]c2c1)N1CCC[C@H]2c3cc(O)ccc3C[C@H]21', 'O=C(O)c1ccc2c(Nc3ccccc3)cnc(N3CCCC3)c2c1', 'CCn1c(C(N)=O)cc2cc(NC(=O)/C=C/c3ccccc3)ccc21', 'Cc1cccc(N2CCc3nc(COc4ccccc4)cn3C2=O)c1', 'Cc1cc(C)cc(NC(=O)Cn2ncc3c2-c2ccccc2OC3)c1', 'Cc1ccccc1OCC(=O)NCc1ccc(-c2ccccn2)nc1', 'Cc1ccc(NC(=O)c2ccc(-c3noc(C4CC4)n3)cc2)c(C)c1', 'CC(C)Oc1ccc(C(=O)Nc2cnc(-c3ccccc3)nc2)cc1', 'CC(=O)c1ccc(NC(=O)/C(C#N)=C\\\\NCCc2ccccc2)cc1', 'O=C(NC[C@@H]1CCCO1)c1cc(-c2ccncc2)nc2ccccc12', 'Cc1ccccc1-c1noc(C2CC(=O)N(Cc3ccccc3)C2)n1', 'Cc1ccc(-c2nnco2)cc1-c1ccc(C(=O)NCC2CC2)cc1', 'COc1cccc(C(=O)Cc2cccc(N(C)c3cncnc3)c2)c1', 'COc1cccc(C2CCN2C(=O)c2cccc(-c3ncc[nH]3)c2)c1', 'Cc1c(-c2cccc3c2O[C@H](C)CC(=O)N3)cnn1-c1ccccc1', 'O=C(NOCc1ccccc1)c1cc(C2CC2)nn1-c1ccccc1', 'CCn1c(=O)c(C(=O)N2c3ccccc3C[C@H]2C)cc2cccnc21', 'Cc1cnn(-c2ccccc2)c1NC(=O)[C@H]1Oc2ccccc2[C@@H]1C', 'Cn1ccnc1C(=O)c1ccc(NC(=O)CCc2ccccc2)cc1', 'Cc1cccc(CNC(=O)C2CC2C(=O)Nc2cccc(C#N)c2)c1', 'O=C(NCc1cccc(COCc2ccccc2)c1)c1cnccn1', 'Cc1cc(N(Cc2ccccc2)Cc2ccccc2)ncc1[N+](=O)[O-]', 'O=C(c1cccc2[nH]ccc12)N1C[C@@H]2C[C@H](C1)c1cccc(=O)n1C2', 'O=C(Cn1ncc(=O)c2ccccc21)N(Cc1ccccc1)C1CC1', 'NC(=O)[C@@H](CCc1ccccc1)NC(=O)c1cccc2cccnc12', 'CC(=O)N1c2ccccc2NC2=C(C(=O)CCC2)[C@H]1c1cccnc1', 'COc1ccc(C2CCN(C(=O)c3ccnc4ccncc34)C2)cc1', 'O=C(Nc1ccc(C(=O)N2CCCC2)cc1)c1cccc2cc[nH]c12', 'COc1ccc(NC(=O)c2ccc(NCc3ccccc3)cn2)cc1', 'O=C(O)C1CCCN(c2nc(-c3ccccc3)c3ccccc3n2)C1', 'O=C(Cn1ncc(=O)c2ccccc21)NC1CCCc2ccccc21', 'Cc1ccnc2c(NCN3C(=O)[C@@H]4[C@H](C3=O)[C@H]3C=C[C@@H]4C3)cccc12', 'Cc1cc(-c2ccc(C3CCCNC3=O)c(=O)[nH]2)cc2ncccc12', 'CCCc1nc2cc3c(cc2n1Cc1ccc(C#N)cc1)OCCO3', 'Cc1ccc(C)c2c(/N=N/C(=O)C3Cc4ccccc4C3)c(O)[nH]c12', 'Cc1ccc(CN2CC3(C2)OCc2nc(-c4ccccc4)ncc23)o1', 'O=C(Nc1cccc(-n2cccc2)c1)NC1CCOc2ccccc21', 'CN(C)CCN1C(=O)c2cccc3cc4cccc(N)c4c(c23)C1=O', 'CC[C@H]1C(c2ccc3nc(-c4ccccc4)oc3c2)=NNC(=O)C1C', 'N#Cc1cccc(C=CC(=O)N(CC2CCCO2)c2ccncc2)c1', 'CC(C)C[C@@H]1NC(=O)c2ccccc2-n2c1nc1ccccc1c2=O', 'Cc1ccccc1-c1nc(-c2cccc(C(=O)N3CCCC3)c2)no1', 'Cc1c(NC(=O)/C=C\\\\c2ccccc2)c(=O)n(-c2ccccc2)n1C', 'Cc1cccc(CNC(=O)C2CC2C(=O)Nc2ccc(C#N)cc2)c1', 'Cc1ccn2cc(C(=O)N(C)C(C)c3cc4ccccc4o3)nc2c1', 'O=C(Nc1cnc2ccccc2c1)c1ccc(N2CCOCC2)cc1', 'O=C(Nc1cccc2[nH]ccc12)[C@H]1CC(=O)N(Cc2ccccc2)C1', 'O=C(c1nn(-c2ccccc2)cc1O)N1CCC(c2ccccc2)C1', 'Cc1ccc2nc(CNC(=O)c3cc4cc(C)c(C)cc4o3)[nH]c2c1', 'COc1ccccc1Nc1ccnc(C(=O)N(C)c2ccccc2)c1', 'Cc1ccc(-c2ccc(=O)n(CC(=O)NCc3ccccc3)n2)cc1', 'N#Cc1ccc(COc2cccc(C3CCNCC3)n2)c2ccoc12', 'N[C@H]1CCN(Cc2ccc3ccnc(Oc4ccccc4)c3c2)C1=O', 'CC1COc2ccccc2C1NC(=O)C=Cc1ccc2cn[nH]c2c1', 'N#Cc1ccc(C=C(C(=O)N2CCCCC2)n2ccccc2=O)cc1', 'CCc1noc(C)c1C(=O)NN=C(c1ccccc1)c1ccccc1', 'CCOC(=O)c1ccnc(-n2cc(N)c(/C=C/c3ccccc3)c2)c1', 'O=C(c1ccc2ccccc2n1)N1CCCC(Oc2ccncc2)C1', 'CC(=O)N1CCc2cc(NC(=O)c3cn(C)c4ccccc34)ccc21', 'Cc1cc(C#N)ccc1-c1cccc(C(=O)N2CCN(C)C(=O)C2)c1', 'COc1cc2ncc3c(-c4ccc(C)c(C)c4)n[nH]c3c2cc1OC', 'CC(C)c1nc2cc3c(cc2n1Cc1ccccc1C#N)OCCO3', 'C[C@@H](Oc1ccc(C#N)cc1)C(=O)NCCc1c[nH]c2ccccc12', 'COc1ccc(CC(=O)NCc2cccnc2-c2ccncc2)cc1', 'Cc1cc([C@@H]2CN(C(=O)c3ccc4ncccc4c3)CCO2)ccn1', 'O=C(N[C@H]1CCOc2ccccc21)c1cnn(Cc2ccccc2)c1', 'CC1(C)CN=C2C(=O)c3cc(C(=O)Nc4ccccc4)ccc3N2C1', 'O=C(/C=C/c1ccnc2ccccc12)NCCCn1ccccc1=O', 'O=C(NCC1(c2ccccc2)CCC1)c1cc(-c2cccnc2)on1', 'Cc1ccc([C@@H](C)NC(=O)C(=O)Nc2cnc3ccccc3c2)cc1', 'COc1ccccc1N1C(=O)c2ccccc2N[C@@H]1c1cccn1C', 'COc1ccc2cn(-c3ccc4ccc(N(C)C)nc4c3)c(O)c2c1', 'O=C(COc1ccccc1)N1CCc2[nH]cnc2C1c1ccccc1', 'CC(=O)c1cccc(NC(=O)c2ccc3c(c2)nc(C2CC2)n3C)c1', 'Cc1nn(-c2ccccc2)cc1NC(=O)C1Oc2ccccc2C1C', 'O=C(NCC=Cc1ccc(-c2ccn[nH]2)cc1)OCc1ccccc1', 'CC(NC(=O)c1nn(C)c2c1COc1ccccc1-2)c1ccccc1', 'O=C(Cc1c[nH]c2ccccc12)NC1CC(=O)N(c2ccccc2)C1', 'CCc1ccc(N2C[C@H](C(=O)Nc3ccccc3C#N)CC2=O)cc1', 'O=C(Nc1cccc(Cc2n[nH]c(=O)c3ccccc23)c1)C1CCC1', 'O=C(c1ccccc1)c1cc(C(=O)N2CCNCC2)cc2cccn12', 'COc1cccc(-c2nc3c([nH]2)C[C@H](c2ccccc2)CNC3=O)c1', 'Cc1cc(O)cc2c1CC(c1ccc(O)cc1)=C2c1nc(N)cn1C', 'O=C(COc1nncc2ccccc12)NC1CCCc2ccccc21', 'Cc1cccc(OCC(=O)NCc2cccnc2-c2cccnc2)c1', 'CC(C)N(C)Cc1nc2c3c(ccc2[nH]1)C(=O)c1ccccc1C3=O', 'CC(C)=CCn1c(O)c(/N=N/C(=O)c2ccccc2)c2ccccc21', 'NC(=O)c1ccc(Oc2ccc3c(c2)CCN(C2=CC=C2)CC3)nc1', 'CN(Cc1nc2ccccc2c(=O)[nH]1)C(=O)[C@H]1CCc2ccccc21', 'Cc1cccc(C(=O)N2CCCC2)c1NC(=O)c1ccc(C#N)cc1', 'O=C(CCCc1cccnc1)Nc1ccc(Oc2ccncc2)cc1', 'CC(C)C(C)n1cc(-c2ccc(C#N)cc2)c2ccc([N+](=O)[O-])cc21', 'COc1ccc2[nH]cc(C(C)(C)C(=O)Nc3ccc(C#N)cc3)c2c1', 'Cc1cccc(OCC(=O)C(C#N)c2nc3ccccc3n2C)c1C', 'O=C(NCCc1ccccc1)c1ccc(-c2noc(C3CC3)n2)cc1', 'COc1ccc(Cn2cc3c4c([nH]c(=O)c3n2)=CC(C)C=CC=4)cc1', 'Cc1ccc2c(c1)CCCN2C(=O)Cn1ncc2ccccc2c1=O', 'CC(NC(=O)C1CC(=O)N(c2cccc(C#N)c2)C1)c1ccccc1', 'CCOc1ccc(CNC(=O)c2ccc(-c3cccnc3)nc2)cc1', 'Cc1ccc(Oc2cccc(C(=O)NC(C)c3ccccc3)c2)nn1', 'CC(C)(C)n1c(-c2cc3ccc(N)cc3oc2=O)nc2ccccc21', 'COc1ccc(-c2cc(-c3ccc4c(c3)CC(C)O4)nc(N)n2)cc1', 'C=CCn1c(C)c(/C=N\\\\NC(=O)c2ccccc2O)c2ccccc21', 'COCn1cc(NC(=O)/C(=C\\\\c2ccccc2)c2ccccc2)cn1', 'COc1ccc(-c2cccc3c2CCC3=O)n2nc(C3(C)CC3)nc12', 'Cc1nn(-c2ccccc2)c(COc2ccc(C(C)O)cc2)c1C#N', 'N#Cc1ccc(C(=O)NCC(=O)N2CCC[C@@H]2c2ccccc2)cc1', 'COc1cc(OC)cc(C(=CC#N)c2ccc3c(c2)nc(C)n3C)c1', 'CCC1C(c2ccc3nc(-c4ccccc4)oc3c2)=NNC(=O)C1C', 'Cc1ccc(-c2cc(C(=O)N3CCN(C)c4ccccc43)on2)cc1', 'Cc1cc(C)cc(N2CC(c3noc(-c4ccccc4)n3)CC2=O)c1', 'c1ccc(-c2noc(-c3cc(OCC4CC4)c(C4CC4)cn3)n2)cc1', 'CC[C@H]1C(=O)NN=C(c2ccc3nc(-c4ccccc4)oc3c2)[C@@H]1C', 'COc1cccc(NC(=O)c2cc(NCc3ccccc3)ccn2)c1', 'CN(CCc1ccncc1)C(=O)/C=C/c1cc2ccccc2[nH]c1=O', 'Cc1cccc(C)c1C(=O)Nc1ccc(Oc2cccnc2C)nc1', 'COc1ccc(CC(=O)N2CC(c3cnc4ccccc4n3)C2)cc1', 'COc1ccccc1C(=O)Nc1ccc(NCc2ccncc2)cc1', 'Cc1cccc(-c2nn(-c3ccc4c(c3)OCCO4)c3c2CCN3)c1', 'CC(=O)c1ccc(/N=C(\\\\C)c2c(C)[nH]n(-c3ccccc3)c2=O)cc1', 'C[C@H]1Cc2ccccc2N1C(=O)CCn1cnc2ccccc2c1=O', 'C/C=C(/NNC(=O)c1cc(C)nc2ccccc12)c1ccc(O)cc1', 'Oc1ccc2c(c1)CCN(Cc1ccc(Oc3cnccn3)cc1)C2', 'Cc1cc(C)n(-c2ccc(C(=O)OC/C=C/c3ccccc3)cn2)n1', 'CCOc1ccc(-c2cccc(NC(=O)c3ccccc3C)c2)nn1', 'N#Cc1ccc(CCN(CCCC(=O)O)c2cccc(C#N)c2)cc1', 'COc1cccc(Nc2ncccc2C(=O)Nc2cccc(C)c2)c1', 'CCOc1cccc(Cn2cc(C3=COC4N=CC=CC4=C3)cn2)c1', 'Cc1ccccc1NCC(=O)NN=Cc1c(O)ccc2ccccc12', 'CCOC(=O)C1=c2ccc3c(c2N(C)C1Cc1ccccc1)C=NN=3', 'CC(=O)NC(CC(=O)Nc1cccc2cnccc12)c1ccccc1', 'O=C(CCc1ccccc1)N1CC(c2nc(-c3ccccc3)no2)C1', 'Cc1ccc(/C(=N/O)N2CC2C)c(Oc2cccc3ccccc23)n1', 'Cc1ccccc1C1(CNC(=O)c2cnc3ccccn3c2=O)CC1', 'Cc1ccc(-n2nc(C)cc2NC(=O)C2Cc3ccccc3O2)cc1', 'O=C(O)C(Cc1cc2ccccc2[nH]1)NCc1c[nH]c2ccccc12', 'CCCOc1cccc(NC(=O)c2cnc(-c3ccccc3)nc2)c1', 'O=C(CC1CCOc2ccccc21)Nc1ccnn1-c1ccccc1', 'C=CCNC(=O)c1cc(C2CC2)nc2onc(-c3ccc(C)cc3)c12', 'Cc1ccc(NC(=O)c2cc(C)nn2C)c(C(=O)c2ccccc2)c1', 'CN1CC(=O)N[C@@H]2C(=CN(Cc3ccccc3)c3ccccc32)C1=O', 'C/C(=N/NC(=O)c1ccc[nH]1)c1ccccc1OCc1ccccc1', 'Nc1cccc(-c2cc(C(=O)NCCOc3ccccc3)ccn2)c1', 'CC(C)(C)C(=O)OCn1c(-c2cccnc2)cc2cc(C#N)ccc21', 'NC(=O)[C@@H]1Cc2ccccc2CN1CC(=O)c1c[nH]c2ccccc12', 'CCc1nc(-c2ccc(OC)cc2)cnc1NC(=O)c1ccccc1', 'Cc1ncc(O)cc1-c1cc(C)c2cc(NC(=O)C3CC3)ncc2c1', 'COc1ccc(NC(=O)C(Cc2cccnc2)c2ccccc2)cn1', 'Cc1ccc2c(c1)N(C(=O)NCc1c[nH]c(=O)c3ccccc13)CC2', 'COc1ccc(N(C)C(=O)c2ccccc2Nc2ccccc2)cn1', 'CC(NC(=O)Nc1cccc2ccccc12)c1ccc(NC=O)cc1', 'Cc1ccc2c(oc3c4cccnc4oc23)c1N1C=CN(C)C1(C)C', 'COc1cc(-c2cncn2CCc2c[nH]c3ccccc23)ccc1O', 'CN(C)c1ccc(/N=N/c2cccc3c(CC(=O)O)cccc23)cc1', 'COc1cccc(C2CC(=O)Nc3c2cnn3Cc2ccccc2)c1', 'O=C(c1cccc2cn[nH]c12)N1CCOC2(CCc3ccccc32)C1', 'O=C(NCCc1cccnc1)Nc1ccc(Oc2ccccc2)cc1', 'O=C(O)c1c(-c2ccccc2)c(-c2ccccc2)nn1[C@H]1CCNC1', 'O=C(CCc1nc(-c2ccc(-c3ccccc3)cc2)no1)NC1CC1', 'CCN(CC)c1ccc2oc(=O)c(-n3cnc4ccccc43)cc2c1', 'O=C1c2cc(COc3ccccc3)nn2CCN1Cc1ccccc1', 'CC[C@@H]1C(c2ccc3nc(-c4ccccc4)oc3c2)=NNC(=O)[C@@H]1C', 'COc1ccc([C@H]2c3c(n[nH]c3C)C(=O)N2c2ccc(C)cc2)cc1', 'Cc1ccc(N=O)cc1-c1ccc2c(c1)=CNC(NC(=O)C1CC1)C=2', 'C1[C@H]([C@@H]([C@H]([C@@H](O1)O[C@@H](CCC2=CC(=C(C=C2)O)O)CC(=O)CCC3=CC(=C(C=C3)O)O)O)O)O', 'COc1cc(C2Oc3c(O)cc(CCCO)cc3C2COC2OC(O)C(O)C2OC)ccc1O', 'COc1cc(C(CCC(C(=O)O)c2cc(OC)c(OC)c(OC)c2)C(=O)O)cc(OC)c1OC', 'COc1cc2c(c(O[C@@H]3OC(CO)[C@@H](O)[C@H](O)C3O)c1)CCC(c1ccc(OC)c(OC)c1)O2', 'OC[C@H]1O[C@H](O[C@@]2(O)O[C@H](CO)[C@](O)(Cc3ccccc3)[C@H]2O)[C@H](O)[C@@]1(O)Cc1ccccc1', 'CCOC(=O)/C(=C/c1cccc(C)c1)OC1CC(OC(C)=O)C(OC(C)=O)C(COC(C)=O)O1', 'COc1cc2c(c(OC3OC(CO)C(O)C(O)C3O)c1)CCC(c1ccc(OC)c(OC)c1)O2', 'C=C(CO)C(=O)O[C@H]1C[C@@]2(C)OC(=O)/C(=C/C)[C@]23CC[C@@](C)(O)CC(=O)[C@@]1(C(=C)C(=O)OC)O3', 'COc1ccc([C@@H]2COc3cc(O[C@@H]4O[C@H](CO)[C@@H](O)[C@H](O)[C@H]4O)ccc3C2)c(OC)c1OC', 'COCOc1cc(CO)cc(OCOC)c1C(=O)c1c(OCOC)cccc1C1OCCCO1', 'CC(=O)OC(C)C(C)C(=O)O[C@@H]1OC=C2[C@H]3OC(=O)[C@]4(C)[C@@H](C[C@]25[C@H]1C[C@@H](O)[C@@H]45)[C@@H]3OC(C)=O', 'CC(=O)OCC1(O)CCCC2C3(CC(c4ccoc4)OC3=O)C(C)C(=O)C(O)C21COC(C)=O', 'C=C(CO)[C@H]1C[C@H](OC(C)=O)[C@@]23O[C@@H]2[C@@H](C[C@]2(C)O[C@H]2c2cc(C)c(o2)[C@@H]1OC(C)=O)OC3O', 'CC(=O)OCC1=CO[C@@H](OC(=O)C=C(C)C)[C@H]2C1=C[C@H](OC(=O)CC(C)(C)OC(C)=O)[C@]21CO1', 'O=C(CCc1ccc(O)c(O)c1)CC(CCc1ccc(O)c(O)c1)O[C@H]1C(O)OC[C@@H](O)[C@@H]1O', 'COc1cc2c(cc1OC)-c1c(cc(OC3OC(CO)C(O)C(O)C3O)c(OC)c1OC)CC2', 'C[C@]1(O)C[C@@H](OC(=O)C=Cc2ccccc2)[C@@H]2C=CO[C@@H](O[C@@H]3O[C@H](CO)[C@@H](O)[C@H](O)[C@H]3O)[C@@H]21', 'CC1(OC(=O)/C=C/c2ccccc2)CC(O)C2C=COC(OC3OC(CO)C(O)C(O)C3O)C21', 'COc1cc(C(=O)OCC2CC(O)C(O)C(OC)O2)c(OC)c(OC)c1OCc1ccccc1', 'C=C(CO)C(=O)O[C@H]1C[C@@]2(C)OC(=O)/C(=C/C)[C@]2(O)CC[C@@]2(C)CC(=O)[C@@]1(C(=C)C(=O)OC)O2', 'COc1cc(C(=O)OCCO)ccc1OCCCCOc1ccc(C(=O)OCCO)cc1OC', 'C=C1C(=O)O[C@@H]2C3C(C=O)CC[C@@H](O)[C@]3(C)C[C@H](OC(=O)/C(=C\\\\COC(C)=O)COC(C)=O)[C@@H]12', 'CC(=O)OC[C@@]12[C@@H](OC(C)=O)C[C@](C)(O)[C@]3(C[C@@H](c4ccoc4)OC3=O)[C@@]1(O)CCC[C@]21CO1', 'O=C(O)c1ccc(C(O)COCCOCCOCCOCC(O)c2ccc(C(=O)O)cc2)cc1', 'CC=C(C)C(=O)OC1CC(CO)=CC(OC(C)=O)CC(C)(O)C=C2OC(=O)C(COC(C)=O)=C21', 'C=C(CO)C(=O)O[C@H]1C[C@@]2(C)OC(=O)/C(=C/C)[C@]2(O)CC[C@]2(C)CC(=O)[C@@]1(C(=C)C(=O)OC)O2', 'C=C(C)C(=O)OCC(O)COC(=O)/C=C/c1ccc(OC(CO)COC(=O)C(=C)C)c(OC)c1', 'COc1cc2c(cc1OC)-c1c(cc(O[C@@H]3O[C@H](CO)[C@@H](O)[C@H](O)[C@H]3O)c(OC)c1OC)CC2', 'C=C(C)C(=O)OCC(=O)OC1C2CC3C1OC(=O)C3C2C(=O)OCC(=O)OC1(CC)CCCC1', 'CCC(C)(CC(C)(C)C(=O)OC1C2CC3C(=O)OC1C3O2)C(=O)OC1C2CC3C(=O)OC1C3O2', 'COc1ccc(/C=C/c2cc(OC)c(OC)c(OC)c2)c(O[C@@H]2O[C@H](CO)[C@@H](O)[C@H](O)[C@H]2O)c1', 'CC(=O)OCC1=COC(OC(=O)C=C(C)C)C2C1=CC(OC(=O)CC(C)(C)OC(C)=O)C21CO1', 'CC(=O)O[C@H]1[C@@H]2[C@](C)(C=CC(=O)[C@@]2(C)OC(C)=O)[C@@H]2O[C@H]2C/C(CO)=C\\\\[C@H]2OC(=O)[C@H](C)[C@@]21O', 'CC(=O)O[C@]12C([C@@H]3C=C(CO)C[C@]4(O)C(=O)C(C)=C[C@H]4[C@@]3(O)[C@H](C)[C@H]1OC(=O)C(=O)O)C2(C)C', 'C[C@]1(OC(=O)/C=C/c2ccccc2)C[C@@H](O)[C@H]2C=CO[C@@H](O[C@@H]3O[C@H](CO)[C@@H](O)[C@H](O)[C@H]3O)[C@@H]21', 'C=CC(=O)OCCCC(O)COC(=O)c1ccccc1C(=O)OCC(O)CCCOC(=O)C=C', 'COc1ccc2c(c1CCO[C@@H]1O[C@H](CO)[C@@H](O)[C@H](O)[C@H]1O)O[C@H](c1ccc(O)cc1O)CC2', 'C=C(CO)C(=O)O[C@H]1C[C@@]2(C)OC(=O)/C(=C/C)[C@@]2(O)CC[C@]2(C)CC(=O)[C@@]1(C(=C)C(=O)OC)O2', 'C/C=C(\\\\C)C(=O)OC1CC(C)(OC(C)=O)C(=O)CCC2(C)OC2C2OC(=O)C(COC(C)=O)=C12', 'C=CC(=O)OCCCCCCOC(=O)Oc1ccc(C(=O)O[C@H]2COC3C2OC[C@H]3OC)cc1', 'COCCOC(=O)OC[C@H]1OC(Oc2ccccc2Cc2ccc(OC)cc2)[C@H](O)[C@@H](O)[C@@H]1O', 'C=CC(=O)OCCOC(=O)/C=C/c1ccc(OC(=O)OC(C)(C)C)c(OC(=O)OC(C)(C)C)c1', 'COc1cc([C@H]2Oc3c(O)cc(CCCO)cc3[C@H]2CO)ccc1O[C@@H]1OC[C@@H](O)[C@H](O)[C@H]1O', 'COC(=O)C1=COC(OC)C2C(C=O)=CCC12.COC(=O)C1=COC(OC)C2C(CO)=CCC12', 'COc1cc(OC)c(C(=O)CCc2ccc(O[C@@H]3OC(CO)[C@@H](O)[C@H](O)C3O)cc2)c(OC)c1', 'CC(=O)OCC1=C2C(OC(=O)C=C(C)C)C=C(C)C3(OC(C)=O)CC(O)C(C)(CC2OC1=O)O3', 'COc1ccc(CCc2c(O[C@@H]3O[C@H](CO)[C@@H](O)[C@H](O)[C@H]3O)ccc(O)c2C(C)=O)cc1OC', 'CO[C@@H]([C@H](OC)[C@@H](COC(=O)Oc1ccccc1)OC)[C@@H](COC(=O)Oc1ccccc1)OC', 'C=CC[C@]1(OCc2ccccc2)[C@@H](OC(C)=O)C(OC(C)=O)OC1(COC(C)=O)COC(C)=O', 'COCCOC(=O)[C@]1(O)[C@@H](Oc2ccccc2Cc2ccc(OC)cc2)O[C@H](CO)[C@@H](O)[C@@H]1O', 'COc1cc([C@H]2Oc3c(O)cc(CCCO)cc3[C@@H]2CO)ccc1O[C@H]1OC[C@H](O)[C@H](O)[C@@H]1O', 'COc1cc(/C=C/c2cc(OC)cc(OC)c2O[C@H]2O[C@H](CO)[C@@H](O)[C@H](O)[C@H]2O)cc(OC)c1', 'COc1ccc(CCc2c(O)ccc(O[C@@H]3O[C@H](CO)[C@@H](O)[C@H](O)[C@H]3O)c2C(C)=O)cc1OC', 'C[C@]12C[C@@H](O)[C@@H]3C[C@]1(CC1OC(CO)C(O)C(O)C1O)C3(COC(=O)c1ccccc1)C(=O)O2', 'O=C(CCc1ccc(O)cc1)CC(CCc1ccc(O)c(O)c1)O[C@H]1O[C@@H](O)[C@H](O)[C@@H](O)[C@@H]1O', 'C[C@@H]1C[C@@H](C)OC(=O)c2ccccc2C(=O)O[C@H](C)C[C@@H](C)OC(=O)OC/C=C\\\\COC(=O)O1', 'CCC/C=C/C1=C(CC(=O)OCCOC(=O)CC2=C(/C=C/CCC)C(O)OC2=O)C(=O)OC1O', 'C=CC(=O)OCCOCC(CC)(COCCOC(=O)C=C)COC(=O)c1ccccc1C(=O)O', 'C[C@]1(OC(=O)C=Cc2ccccc2)C[C@@H](O)[C@@H]2C=CO[C@@H](O[C@@H]3O[C@H](CO)[C@@H](O)[C@H](O)[C@H]3O)[C@@H]21', 'CC(=O)O[C@H]1[C@@H]2[C@](C)(C=CC(=O)[C@@]2(C)OC(C)=O)[C@H]2O[C@@H]2C/C(CO)=C\\\\[C@@H]2OC(=O)[C@H](C)[C@]21O', 'CC(=O)CC(=O)OC[C@@H](OC(=O)CC(C)=O)[C@H]1O[C@@H]2OC(C)(C)O[C@@H]2[C@H]1OCc1ccccc1', 'O=C(CCc1ccc(O)c(O)c1)CC(CCc1ccc(O)c(O)c1)O[C@H]1[C@H](O)COC(O)[C@@H]1O', 'C/C=C(/C)C(=O)O[C@H]1C[C@@](C)(OC(C)=O)C(=O)CC[C@@]2(C)O[C@@H]2[C@H]2OC(=O)C(COC(C)=O)=C12', 'COc1ccc(Cc2ccc(CO)cc2O[C@@H]2O[C@H](COC(=O)CO)[C@@](C)(O)[C@H](O)[C@H]2O)cc1', 'C[C@]12C[C@@H](O)[C@@H]3CC1(CC1OC(CO)C(O)C(O)C1O)C3(COC(=O)c1ccccc1)C(=O)O2', 'COC(=O)[C@@]1(O)[C@@H](OC(C)=O)CC[C@@H]2[C@]3(C[C@@H](c4ccoc4)OC3=O)[C@@H](C)CC[C@@]21C(=O)OC', 'CC(Cc1ccc(O)c(O)c1)C(C)Cc1ccc(OC2OC(C(=O)O)C(O)C(O)C2O)c(O)c1', 'CC(=O)OC[C@@H](CO)c1c(O)c(O)c2c(c1O)C(=O)C(O)=C1C(C)(C)[C@@H](OC(C)=O)CC[C@@]12C', 'CCCOC(=O)c1ccc(C(=O)OC)cc1.CCOC(=O)c1ccc(C(=O)OC)cc1.OCO', 'CC(=O)O[C@@H](C[C@]12C(=O)OC[C@@]34[C@@H]1CC[C@H](OC(C)=O)[C@]3(O)CO[C@]4(O)C[C@H]2C)c1ccoc1', 'C=C(C)[C@@H]1CC(OC(C)=O)=C2C(=O)O[C@](C)(CC(=O)OC)C[C@H]3OC(=O)[C@H]([C@@H]3OC(C)=O)[C@H]2C1', 'COc1ccc(CCc2c(OC3OC(CO)C(O)C(O)C3O)ccc(O)c2C(C)=O)cc1OC', 'C[C@]12CC[C@@H]3C4=CCC(O)(CC(=O)O)C=C4C(=O)C[C@H]3[C@@H]1C[C@](O)(CC(=O)O)[C@@]2(O)CC(=O)O', 'COc1cc2c(cc1O[C@@H]1O[C@H](CO)[C@H](O)[C@H](O)[C@@H]1O)CCc1cc(OC)c(OC)c(OC)c1-2', 'COc1cc(O[C@H]2O[C@H](CO)[C@@H](O)[C@@H](O)[C@@H]2O)c2c(c1)O[C@@H](c1ccc(OC)c(OC)c1)CC2', 'COc1cc2c(cc1O[C@@H]1OC(CO)[C@@H](O)C(O)C1O)CCc1cc(OC)c(OC)c(OC)c1-2', 'COC(=O)C1(O)C(OC(C)=O)CC[C@@H]2[C@@]3(CC(c4ccoc4)OC3=O)[C@H](C)CC[C@]21C(=O)OC', 'COCCOCOc1cc(C(=O)COC(=O)Cc2cc(OC)c(OC)c(OC)c2)ccc1OC', 'C=CC[C@]1(COC(C)=O)O[C@@H](OC(C)=O)[C@H](OC(C)=O)[C@@H](OCc2ccccc2)[C@@H]1OC(C)=O', 'COc1cc([C@H]2Oc3c(O)cc(CCCO)cc3[C@@H]2CO)ccc1O[C@@H]1OC[C@@H](O)[C@H](O)[C@H]1O', 'CC(=O)OC[C@H]1O[C@@H](Oc2cccc3c2CCCC3)[C@H](OC(C)=O)[C@@H](OC(C)=O)[C@@H]1OC(C)=O', 'CC(=O)OCC(CO)c1c(O)c(O)c2c(c1O)C(=O)C(O)=C1C(C)(C)C[C@H](OC(C)=O)C[C@@]12C', 'CCOc1ccc(C(=O)c2c(OCC)cc(OC)cc2O[C@@H]2O[C@H](CO)[C@@H](O)[C@H](O)[C@H]2O)cc1', 'CC1(C)OC2[C@H]3C[C@]4(C[C@H]2O1)OC(=O)C=C4O3.CC1(C)OC2[C@H]3C[C@]4(C[C@H]2O1)OC(=O)C[C@@H]4O3', 'COc1ccc2c(c1CCO)O[C@@H](c1ccc(O)cc1O[C@@H]1O[C@H](CO)[C@@H](O)[C@H](O)[C@H]1O)CC2', 'C[C@]1(OC(=O)C=Cc2ccccc2)CC[C@@H]2C=COC(O[C@H]3O[C@](O)(CO)[C@@H](O)[C@H](O)[C@H]3O)[C@@H]21', 'COc1ccc([C@@H]2CCc3ccc(O)c(CCO)c3O2)c(O[C@H]2O[C@H](CO)[C@@H](O)[C@H](O)[C@H]2O)c1', 'C=C(CO)C(=O)OC1CC2(C)OC(=O)C(=CC)C23CCC(C)(O)CC(=O)C1(C(=C)C(=O)OC)O3', 'CC(=O)OCC(COC(C)=O)c1c(O)c(O)c2c(c1O)C(=O)C(=O)C1C2(C)CCC(O)C1(C)C', 'C/C=C/C(=O)OCCC(O)COC(=O)c1ccccc1C(=O)OCC(O)CCOC(=O)/C=C/C', 'COc1cc([C@@H]2Oc3ccc(CCCO)cc3[C@H]2O[C@@H]2O[C@H](CO)[C@@H](O)[C@H](O)[C@H]2O)ccc1O', 'C=CC(=O)OC(C)CC(O)COC(=O)c1ccccc1C(=O)OCC(O)CC(C)OC(=O)C=C', 'C=C(C)C(=O)OCCC(O)COC(=O)c1ccccc1C(=O)OCC(O)CCOC(=O)C(=C)C', 'CC(=O)O[C@H]1[C@H](O)[C@@H](O)[C@H]2OC3(CCCCC3)O[C@H]2[C@@H]1OC(=O)[C@@H](OC(C)=O)c1ccccc1', 'C=C(C)C(=O)OC(COC(=O)c1ccccc1C(=O)OCC(OC(=O)C(=C)C)C(C)O)C(C)O', 'CC(=O)OCC1=C2[C@H](C[C@]3(C)O[C@@](OC(C)=O)(C[C@@H]3O)C(C)=C[C@H]2OC(=O)C=C(C)C)OC1=O', 'OCC1CC(OC2OC(CO)C(O)C(O)C2O)C(O)C(c2cccc(Oc3ccccc3)c2)O1', 'C=C(CO)C(=O)O[C@H]1C[C@@]2(C)OC(=O)/C(=C/C)[C@@]23CC[C@@](C)(O)CC(=O)[C@@]1(C(=C)C(=O)OC)O3', 'C=C(C(=C)[C@@H]1C=C[C@@H](OC(C)=O)[C@@H](COC(C)=O)O1)[C@@H]1C=C[C@H](OC(C)=O)[C@@H](COC(C)=O)O1', 'Cc1c(C#CC2OC(CO)C(O)C(O)C2O)ccc(C#CC2OC(CO)C(O)C(O)C2O)c1C', 'O=C(O)[C@H]1O[C@@H](Oc2cccc(CC(CO)C(CO)Cc3cccc(O)c3)c2)[C@H](O)[C@@H](O)[C@@H]1O', 'COc1cc([C@H](O)[C@@H]2CO[C@@H](c3cc(OC)c(O)c(OC)c3)[C@@H]2COC(C)=O)cc(OC)c1O', 'C[C@]1(OC(=O)/C=C/c2ccccc2)C[C@@H](O)C2C=CO[C@@H](O[C@@H]3O[C@H](CO)[C@@H](O)[C@H](O)[C@H]3O)[C@@H]21', 'C=C(C)C(=O)O[C@H]1C[C@@](C)(OC(C)=O)[C@@]2(OC)CC[C@@](C)(/C=C3/OC(=O)C(COC(C)=O)=C31)O2', 'C[C@H](Cc1ccc(O)c(O)c1)[C@@H](C)Cc1ccc(O)c(O[C@@H]2O[C@H](C(=O)O)[C@@H](O)[C@H](O)[C@H]2O)c1', 'COc1cc(C(CCCC(=O)O)(C(=O)O)c2cc(OC)c(OC)c(OC)c2)cc(OC)c1OC', 'COc1cc(C(=O)OCCCCOC(=O)c2cc(OC)c(OC)c(OC)c2)cc(OC)c1OC', 'CC(=O)OCC(COC(C)=O)c1c(O)c(O)c2c(c1O)C(=O)C(=O)[C@H]1C(C)(C)[C@H](O)CC[C@@]21C', 'C=C(C)C(=O)OCCOC(C)OC(=O)c1cccc(C(=O)OC(C)OCCOC(=O)C(=C)C)c1', 'CC(=O)OC[C@@]12C(OC(C)=O)C[C@](C)(O)[C@]3(C[C@H](c4ccoc4)OC3=O)[C@@]1(O)CCC[C@]21CO1', 'COc1c(C)c2c(c(OC(=O)OCC3COC(C)(C)O3)c1C/C=C(\\\\C)CCC(=O)O)C(=O)OC2', 'O=C(CCc1ccc(O)c(O)c1)CC(CCc1ccc(O)cc1)O[C@H]1O[C@@H](O)[C@H](O)[C@@H](O)[C@@H]1O', 'C=CC(=O)OCCCCOC(=O)c1cc(O)c(C(=O)OCCCCOCC(=C)C(C)=O)cc1O', 'C=C1C(=O)[C@@]23C[C@@H]1C[C@H]1O[C@H](O)[C@@H]4[C@](C)(COC(C)=O)[C@H](OC(C)=O)C[C@@H](OC2=O)[C@@]4(CO)[C@H]13', 'O=C(O)CCCC(O)C(O)C(C(=O)O)C(c1ccc(O)cc1)C(O)C(O)Cc1ccc(O)cc1', 'CC(=O)OC[C@@]1(O)CCC[C@@H]2[C@@]3(C[C@@H](c4ccoc4)OC3=O)[C@H](C)C(=O)[C@H](O)[C@]21COC(C)=O', 'CCCC(=O)c1ccc(OC(O)(O)CCCC(O)(O)Oc2cccc(C(=O)O)c2C)c(C)c1O', 'O=C(CCc1ccc(O)cc1)OC[C@@H](O)[C@@H](O)[C@H](O)[C@@H](O)COC(=O)CCc1ccc(O)cc1', 'C=C1C(=O)O[C@@H]2[C@H]1[C@@H](OC(C)=O)[C@H](OC(=O)[C@H](C)CC)C(=C)CC(=O)[C@@H]1O[C@]1(C)[C@H]2OC(C)=O', 'C=CC(=O)OCCC(C)(O)COC(=O)c1ccccc1C(=O)OCC(C)(O)CCOC(=O)C=C', 'CC(=O)OC[C@@]12[C@@H](OC(C)=O)C[C@](C)(O)[C@]3(C[C@H](c4ccoc4)OC3=O)[C@@]1(O)CCC[C@]21CO1', 'COc1cc([C@H]2Oc3ccc(CCCO)cc3O[C@@H]2CO[C@@H]2OC[C@@H](O)[C@H](O)[C@H]2O)ccc1O', 'C=C(C)C(=O)OC(CCCO)OC(=O)c1ccccc1C(=O)OC(CCCO)OC(=O)C(=C)C', 'COc1cc2c(cc1O[C@H]1O[C@@H](CO)[C@H](O)[C@H](O)[C@@H]1O)CCc1cc(OC)c(OC)c(OC)c1-2', 'CC(CC(C)(C)OC(=O)OOC1C2C=CC(C2)C1C(=O)O)OC(=O)C1C2C=CC(C2)C1C(=O)O', 'COC(=O)[C@H]1O[C@@]12[C@H](C(=O)c1ccoc1)CCC1CO[C@@H](C(O)C3C(O)CC(=O)O[C@H]3C)[C@]12C', 'O=C(O)c1ccc(OCCOCCOCCOCCOCCOc2ccc(C(=O)O)cc2)cc1', 'CC1(C)OC(=O)O/C1=C\\\\CCOC(=O)/C=C/CC/C=C/C(=O)OCC/C=C1\\\\OC(=O)OC1(C)C', 'C=C(C)C(=O)O[C@@H]1/C(C(=O)OC)=C\\\\[C@H](O)C/C(CO)=C\\\\[C@H]2OC(=O)C(=C)[C@@H]2[C@@H]1OC(=O)C(C)C', 'C=C(CO)C(=O)O[C@H]1C[C@@]2(C)OC(=O)/C(=C/C)[C@@]23CC[C@@](C)(O)CC(=O)[C@]1(C(=C)C(=O)OC)O3', 'COc1cc(/C=C\\\\c2ccc(OC)c(OC)c2)c(O[C@@H]2O[C@H](CO)[C@H](O)[C@H](O)[C@H]2O)c(OC)c1', 'C[C@@]1(OC(=O)C=Cc2ccccc2)CC[C@@]2(O)C=CO[C@H](O[C@H]3O[C@H](CO)[C@H](O)[C@@H](O)[C@H]3O)[C@@H]12', 'COC(=O)[C@@]1(O)[C@H](OC(C)=O)CC[C@@H]2[C@]3(C[C@H](c4ccoc4)OC3=O)[C@@H](C)CC[C@@]21C(=O)OC', 'COc1ccc(Cc2ccc(COC(=O)CO)cc2[C@@]2(O)O[C@H]([C@H](C)O)[C@@H](O)[C@H](O)[C@H]2O)cc1', 'OC[C@H]1O[C@H](c2ccc(-c3cccc([C@H]4O[C@H](CO)[C@@H](O)[C@H](O)[C@@H]4O)c3)cc2)[C@@H](O)[C@@H](O)[C@@H]1O', 'CC(=O)OCC(CO)c1c(O)c(O)c2c(c1O)C(=O)C(O)=C1C(C)(C)[C@@H](OC(C)=O)CC[C@@]12C', 'COc1cc(OC)c(C(=O)CCc2ccc(O[C@@H]3OC(CO)[C@@H](O)C(O)[C@@H]3O)cc2)c(OC)c1', 'C=C(C(=C)[C@@H]1C=C[C@@H](OC(C)=O)[C@@H](COC(C)=O)O1)[C@@H]1C=C[C@@H](OC(C)=O)[C@@H](COC(C)=O)O1', 'C=CC[C@]1(OCc2ccccc2)[C@@H](OC(C)=O)[C@@H](OC(C)=O)OC1(COC(C)=O)COC(C)=O', 'COc1ccc(Cc2ccc(CO)cc2O[C@@H]2O[C@H](COO)[C@@](C)(O)[C@H](O)[C@H]2OC(C)=O)cc1', 'COc1cc([C@H]2Oc3c(O)cc(CCCO)cc3[C@@H]2CO)ccc1O[C@H]1OC[C@@H](O)[C@H](O)[C@H]1O', 'COc1cc(OC)c(C(=O)CCc2ccc(OC3OC(CO)C(O)C(O)C3O)cc2)c(OC)c1', 'O=C(C=Cc1ccccc1)OCC1=CC(O)C2CCOC(OC3OC(CO)C(O)C(O)C3O)C12', 'COc1ccc(Cc2ccc(CO)cc2O[C@H]2O[C@H](COC(=O)CO)[C@@](C)(O)[C@H](O)[C@H]2O)cc1', 'OC[C@H]1O[C@H](c2ccc(-c3ccc([C@H]4O[C@H](CO)[C@@H](O)[C@H](O)[C@@H]4O)cc3)cc2)[C@@H](O)[C@@H](O)[C@@H]1O', 'CCc1cc(C#CC2OC(CO)C(O)C(O)C2O)ccc1C#CC1OC(CO)C(O)C(O)C1O', 'CC(=O)OCC(COC(C)=O)c1c(O)c(O)c2c(c1O)C(=O)C(=O)[C@H]1C(C)(C)[C@H](O)CC[C@]21C', 'COCCOC(=O)OC[C@H]1O[C@@H](Oc2ccccc2Cc2ccc(OC)cc2)[C@H](O)[C@@H](O)[C@@H]1O', 'COC(=O)c1ccc(C(=O)OC)cc1.COC(=O)c1ccccc1C(=O)OC.OCCCCO', 'COc1c(C)c(O)c(C(C)=O)c(O)c1Cc1c(O)c(C[C@H](O)C(C)(C)O)c(O)c(C(C)=O)c1O', 'C=C[C@H]1CC(C(=O)OC)(C(=O)OC)[C@H](c2cc(OC)c(OC)c(OC)c2)[C@H]1C(=O)C(=O)OCC', 'CCOc1cccc(OCCOCCOCCOc2cccc(OCC)c2C(=O)O)c1C(=O)O', 'C=CC(=O)OC(C)C(C)(O)COC(=O)c1ccccc1C(=O)OCC(C)(O)C(C)OC(=O)C=C', 'COc1cc(C(=O)C(O)CCC(O)C(=O)c2cc(OC)c(OC)c(OC)c2)cc(OC)c1OC', 'CC(=O)OC[C@@]12[C@@H](OC(C)=O)C[C@@H](C)[C@]3(C[C@H](C4=C[C@H](O)OC4=O)OC3=O)[C@H]1CCC[C@]21CO1', 'O=C(OCCCCCCOC(=O)OCCc1ccc(O)c(O)c1)OCCc1ccc(O)c(O)c1', 'COc1c(C)c2c(c(OC(=O)OCC3COC(C)(C)O3)c1CC=C(C)CCC(=O)O)C(=O)OC2', 'CC(Cc1ccc(O)c(O)c1)C(C)Cc1ccc(O)c(O[C@@H]2O[C@H](C(=O)O)[C@@H](O)[C@H](O)[C@H]2O)c1', 'CCOC(=O)/C(=C/c1cccc(C)c1)OC1CC(OC(C)=O)[C@@H](OC(C)=O)C(COC(C)=O)O1', 'CC1(O)CC(OC(=O)C=Cc2ccccc2)C2C=COC(OC3OC(CO)C(O)C(O)C3O)C21', 'CC(=O)OC[C@H](CO)c1c(O)c(O)c2c(c1O)C(=O)C(=O)[C@H]1C(C)(C)[C@@H](OC(C)=O)CC[C@]21C', 'C[C@H](Cc1ccc(O)c(O)c1)[C@@H](C)Cc1ccc(O)c(O[C@H]2O[C@@H](C(=O)O)[C@H](O)[C@@H](O)[C@@H]2O)c1', 'CC(=O)OCC12C(OC(C)=O)CC(C)(O)C3(CC(c4ccoc4)OC3=O)C1(O)CCCC21CO1', 'CC(=O)CCC(CCc1ccc(O)cc1)O[C@]1(O)[C@H](O)CO[C@](O)(c2ccc(O)c(O)c2)[C@@H]1O', 'C=C(C)C(=O)O[C@@H]1/C(C(=O)OC)=C\\\\[C@H](O)C/C(CO)=C\\\\[C@H]2OC(=O)C(=C)[C@H]2[C@@H]1OC(=O)C(C)C', 'C[C@]1(OC(=O)/C=C/c2ccccc2)C[C@H](O)[C@@H]2C=CO[C@@H](O[C@@H]3O[C@H](CO)[C@@H](O)[C@H](O)[C@H]3O)[C@@H]21', 'COc1cc(OC)c(C(=O)CCc2ccc(O[C@@H]3O[C@H](CO)[C@@H](O)[C@H](O)[C@H]3O)cc2)c(OC)c1', 'C=C1C(=O)[C@]23C[C@H]1C[C@H](C(=O)O)[C@H]2[C@]1(C)C[C@H](C(=O)O)[C@H](C(=O)O)C(C)(C)[C@H]1[C@@H](C(=O)O)[C@@H]3O', 'COc1cc([C@@H]2Oc3c(O)cc(CCCO)cc3[C@@H]2CO)ccc1O[C@@H]1OC[C@@H](O)[C@H](O)[C@H]1O', 'C[C@]1(OC(=O)/C=C/c2ccccc2)C[C@@H](O)[C@@H]2C=CO[C@@H](O[C@@H]3O[C@H](CO)[C@@H](O)[C@H](O)[C@H]3O)[C@@H]21', 'O=C(CCc1ccc(O)cc1)OC[C@@H](O)[C@@H](O)[C@H](O)[C@H](O)COC(=O)CCc1ccc(O)cc1', 'CC(=O)OC1CC(O)C(C)=CC2OC(=O)C3(C)OC23C(OC(C)=O)C2C(C)(O)C(=O)C=CC12C', 'COc1ccc([C@@H]2CCc3ccc(O)c(CCO)c3O2)c(O[C@@H]2O[C@H](CO)[C@@H](O)[C@H](O)[C@H]2O)c1', 'C[C@@]1(OC(=O)/C=C/c2ccccc2)CC[C@@]2(O)C=CO[C@H](O[C@H]3O[C@H](CO)[C@H](O)[C@@H](O)[C@H]3O)[C@@H]12', 'CCOC(=O)[C@@]1(O)C[C@@H](OC(=O)/C=C/c2ccc(OC(C)=O)c(OC)c2)[C@@H]2OC(C)(C)O[C@@H]2C1', 'C=C(C)C(=O)O[C@H]1C[C@@](C)(OC(C)=O)[C@]2(OC)CC[C@@](C)(/C=C3/OC(=O)C(COC(C)=O)=C31)O2', 'CC(=O)O[C@@H]1[C@@H]2[C@](C)(C=CC(=O)[C@@]2(C)OC(C)=O)[C@H]2O[C@@H]2C/C(CO)=C\\\\[C@@H]2OC(=O)[C@H](C)[C@]21O', 'COc1cc(OCc2ccccc2)c(OC)c(C)c1C(=O)OC1[C@H](O)C(CO)O[C@H](OC)[C@@H]1O', 'CCCCO[C@H]1C(=O)OC2OC34C(=O)OC5[C@H](O)C(C(C)(C)C)C21C53C(O)C1OC(=O)C(C)=C14', 'COc1cc(C=O)cc(OC)c1OCCOCCOCCOc1c(OC)cc(C=O)cc1OC', 'OCC1O[C@H](c2ccc(-c3ccc([C@H]4OC(CO)[C@@H](O)C(O)C4O)cc3)cc2)C(O)C(O)[C@@H]1O', 'COC(=O)[C@@]1(O)[C@H](OC(C)=O)CC[C@@H]2[C@]3(C[C@@H](c4ccoc4)OC3=O)[C@@H](C)CC[C@@]21C(=O)OC', 'CCc1cc(C#C[C@H]2O[C@H](CO)[C@@H](O)[C@H](O)[C@@H]2O)ccc1C#C[C@H]1O[C@H](CO)[C@@H](O)[C@H](O)[C@@H]1O', 'C=C1C(=O)O[C@@H]2/C=C(/C)[C@@H](OC(C)=O)C[C@@H](OO)C(=C)C[C@@H](OC(=O)/C(C)=C/COC(C)=O)[C@@H]12', 'C[C@H](Cc1ccc(O)c(O[C@@H]2O[C@H](C(=O)O)[C@@H](O)[C@H](O)[C@H]2O)c1)[C@@H](C)Cc1ccc(O)c(O)c1', 'COc1ccc2c(c1CCO)O[C@H](c1ccc(O)cc1O[C@H]1O[C@H](CO)[C@@H](O)[C@H](O)[C@H]1O)CC2', 'C=C1C(=O)C23CC1CC1OC(O)C4C(C)(COC(C)=O)C(OC(C)=O)CC(OC2=O)C4(CO)C13', 'COc1ccc(/C=C/C(=O)O)c(OC)c1OC.COc1ccc(CCC(=O)O)c(OC)c1OC', 'COc1cc(C(=O)OCCCCCCOC(=O)c2cc(OC)c(O)c(OC)c2)cc(OC)c1O', 'CC(=O)OC[C@@H](CO)c1c(O)c(O)c2c(c1O)C(=O)C(O)=C1C(C)(C)[C@@H](OC(C)=O)CC[C@]12C', 'C=C(C)C(=O)OC1C(C(=O)OC)=CC(O)CC(CO)=CC2OC(=O)C(=C)C2C1OC(=O)C(C)C', 'COC(=O)[C@]1(O)[C@H](OC(C)=O)CC[C@@H]2[C@]3(C[C@@H](c4ccoc4)OC3=O)[C@@H](C)CC[C@@]21C(=O)OC', 'CCOC(=O)C1(C(=O)OCC)CC2=C(C1)C1=C(CC(C(=O)OCC)(C(=O)OCC)C1)OC(=O)C2', 'CC1(OC(=O)C=Cc2ccccc2)CCC2(O)C=COC(OC3OC(CO)C(O)C(O)C3O)C21', 'C=C1C(=O)OC2C1C(OC(=O)C(=CCOC(C)=O)COC(C)=O)CC1(C)C(O)CCC(C=O)C21', 'COc1cc([C@@H](O)[C@@H]2CO[C@@H](c3cc(OC)c(O)c(OC)c3)[C@@H]2COC(C)=O)cc(OC)c1O', 'CC(=O)O.CC(=O)O.OC[C@H](Cc1ccc2c(c1)OCO2)[C@H](CO)Cc1ccc2c(c1)OCO2', 'C=C(C)C(=O)OCC(O)COC(=O)/C=C/c1ccc(OCC(O)COC(=O)C(=C)C)c(OC)c1', 'C=C1CC(=O)C2OC2(C)C(OC(C)=O)C2OC(=O)C(=C)C2C(OC(C)=O)C1OC(=O)C(C)CC', 'COc1c(C)c(O)c(C(C)=O)c(O)c1Cc1c(O)c(CC(O)C(C)(C)O)c(O)c(C(C)=O)c1O', 'COC(=O)c1c(C)c(OC)c(OC)c(-c2c(OC)c(OC)c(C)c(C(=O)OC)c2OC)c1OC', 'COc1cc([C@@H]2Oc3c(O)cc(CCCO)cc3[C@H]2CO)ccc1O[C@@H]1OC[C@@H](O)[C@H](O)[C@H]1O', 'COc1cc(/C=C/c2ccc(OC)c(OC)c2)c(O[C@H]2O[C@H](CO)[C@@H](O)[C@H](O)[C@H]2O)c(OC)c1', 'COc1ccc2c(c1CCO[C@@H]1O[C@H](CO)[C@@H](O)[C@H](O)[C@H]1O)O[C@@H](c1ccc(O)cc1O)CC2', 'COc1cc(O[C@@H]2O[C@H](CO)[C@@H](O)[C@H](O)[C@H]2O)c2c(c1)O[C@H](c1ccc(OC)c(OC)c1)CC2', 'CCOC1C(=O)c2c(OCOC)cc(OCOC)cc2OC1c1ccc(OCOC)c(OC)c1', 'CC(=O)OC[C@H]1O[C@@H](Oc2ccc3c(c2)CCCC3)[C@H](OC(C)=O)[C@@H](OC(C)=O)[C@@H]1OC(C)=O', 'COC(=O)[C@@]1(O)[C@@H](OC(C)=O)CC[C@@H]2[C@]3(C[C@H](c4ccoc4)OC3=O)[C@@H](C)CC[C@@]21C(=O)OC', 'Cc1cc(C#CC2OC(CO)C(O)C(O)C2O)cc(C)c1C#CC1OC(CO)C(O)C(O)C1O', 'COc1cc([C@@H]2Oc3c(O)cc(CCCO)cc3[C@H]2CO)ccc1O[C@H]1OC[C@@H](O)[C@H](O)[C@H]1O', 'C=C(CCCC(CCC(C(=O)O)C(CCCc1ccccc1)C(=O)O)(C(=O)O)C(=O)O)C(=O)O', 'CC(=O)OC[C@H](CO)c1c(O)c(O)c2c(c1O)C(=O)C(O)=C1C(C)(C)[C@@H](OC(C)=O)CC[C@]12C', 'Cc1c(C#C[C@H]2O[C@H](CO)[C@@H](O)[C@H](O)[C@@H]2O)ccc(C#C[C@H]2O[C@H](CO)[C@@H](O)[C@H](O)[C@@H]2O)c1C', 'OCC1OC(c2ccc(-c3cccc(C4OC(CO)C(O)C(O)C4O)c3)cc2)C(O)C(O)C1O', 'COc1cc2c(cc1OC)-c1c(cc(O[C@@H]3O[C@H](CO)[C@H](O)[C@H](O)[C@H]3O)c(OC)c1OC)CC2', 'C=C(c1ccc(OC)c(OC2OC(CO)C(O)C(O)C2O)c1)c1cc(OC)c(OC)c(OC)c1', 'O=C(CCCCCCCCCCC(=O)Oc1cc(O)c(O)c(O)c1)Oc1cc(O)c(O)c(O)c1', 'CC(=O)OC[C@H](CO)c1c(O)c(O)c2c(c1O)C(=O)C(O)=C1C(C)(C)C[C@@H](OC(C)=O)C[C@]12C', 'CC(Cc1ccc(O)c(O)c1)C(C)Cc1ccc(O)c(O[C@H]2O[C@@H](C(=O)O)[C@H](O)[C@@H](O)[C@@H]2O)c1', 'COCCOC(=O)OC[C@H]1O[C@H](Oc2ccccc2Cc2ccc(OC)cc2)[C@H](O)[C@@H](O)[C@@H]1O', 'CC(=O)OC[C@@H](CO)c1c(O)c(O)c2c(c1O)C(=O)C(O)=C1C(C)(C)C[C@H](OC(C)=O)C[C@@]12C', 'COc1ccc(/C=C\\\\c2cc(OC)c(OC)c(OC)c2)cc1O[C@H]1O[C@H](CO)[C@@H](O)[C@H](O)[C@@H]1O', 'CCO[C@@H]1C(=O)c2c(OCOC)cc(OCOC)cc2O[C@H]1c1ccc(OCOC)c(OC)c1', 'CCOC(=O)/C(=C/c1ccccc1)O[C@H]1O[C@@H](COC(C)=O)[C@@H](OC(C)=O)[C@@H](OC(C)=O)[C@@H]1C', 'C=C(C(=O)O)C(CCCCCC(C(=O)O)(C(=O)O)C(CCCc1ccccc1)C(=O)O)C(=O)O', 'CC(=O)O.CC(=O)O.COc1cc([C@H]2OC[C@H]3[C@@H]2CO[C@@H]3c2ccc(O)c(OC)c2)ccc1O', 'CCCOc1ccc(CCC(=O)c2c(O)cc(O)c([C@@H]3O[C@H](CO)[C@@H](O)[C@H](O)[C@H]3O)c2O)cc1', 'C[C@]1(OC(=O)/C=C/c2ccccc2)CC[C@]2(O)C=CO[C@@H](O[C@@H]3O[C@H](CO)[C@@H](O)[C@H](O)[C@H]3O)[C@@H]21', 'COc1cc(OC)c(C(=O)CCc2ccc(O[C@@H]3O[C@H](CO)[C@@H](O)[C@H](O)[C@@H]3O)cc2)c(OC)c1', 'COc1cc([C@H]2Oc3c(O)cc(CCCO)cc3[C@H]2CO)ccc1O[C@H]1OC[C@@H](O)[C@H](O)[C@H]1O', 'CCCCCC(OC(=O)c1cc(OC)c(O)c(OC)c1)OC(=O)c1cc(OC)c(O)c(OC)c1', 'COc1cc(COC(C)=O)c(-c2c(C(=O)OC(C)C)cc(OC)c(OC)c2OC)c(O)c1OC', 'OCC1OC(c2ccc(-c3ccc(C4OC(CO)C(O)C(O)C4O)cc3)cc2)C(O)C(O)C1O', 'C/C=C(/C)C(=O)O[C@H]1C/C(CO)=C/[C@@H](OC(C)=O)C[C@](C)(O)/C=C2\\\\OC(=O)C(COC(C)=O)=C21', 'COc1ccc(Cc2ccc(COC(=O)CO)cc2O[C@@H]2O[C@H]([C@@H](C)O)[C@@H](O)[C@H](O)[C@H]2O)cc1', 'CC(C)C(O)C(C)(C)CO.O=C(O)c1ccc(C(=O)O)cc1.O=C(O)c1cccc(C(=O)O)c1', 'COc1ccc([C@H]2OC(O)[C@H]3[C@@H]2C(O)O[C@@H]3c2ccc(OC)c(OC)c2OC)c(OC)c1OC', 'C=CCOCc1cc([C@@H]2OC(OC(C)=O)[C@@H](OC(C)=O)[C@H](OC(C)=O)[C@H]2OC(C)=O)ccc1C', 'C=C(CO)C(=O)O[C@H]1C[C@@]2(C)OC(=O)/C(=C/C)[C@]23CC[C@@](C)(O)CC(=O)[C@]1(C(=C)C(=O)OC)O3', 'CCCCCOC(=O)c1cc(O)c(O)c(O)c1-c1c(C(=O)OCCCCC)cc(O)c(O)c1O', 'COc1cc(C2Oc3c(O)cc(CCCO)cc3C2CO)ccc1O[C@@H]1OC[C@@H](O)[C@H](O)[C@H]1O', 'COC(=O)[C@]1(O)[C@@H](OC(C)=O)CC[C@@H]2[C@]3(C[C@@H](c4ccoc4)OC3=O)[C@@H](C)CC[C@@]21C(=O)OC', 'Cc1cc(C#C[C@H]2O[C@H](CO)[C@@H](O)[C@H](O)[C@@H]2O)cc(C)c1C#C[C@H]1O[C@H](CO)[C@@H](O)[C@H](O)[C@@H]1O', 'COc1ccc(/C=C\\\\c2cc(OC)c(OC)c(OC)c2)cc1O[C@@H]1O[C@H](CO)[C@H](O)[C@H](O)[C@H]1O', 'O=C(O)COCCOCCOc1ccccc1-c1ccccc1OCCOCCOCC(=O)O', 'CCC(=O)OC[C@H]1OC[C@H](O)CC1O.O=C(CCc1ccc(O)cc1)c1c(O)cc(O)cc1O', 'COc1cc2c(cc1O[C@@H]1O[C@H](CO)[C@@H](O)[C@H](O)[C@H]1O)CCc1cc(OC)c(OC)c(OC)c1-2', 'CC(=O)OC[C@H]1O[C@@H](CCc2ccc(C(C)=O)cc2)[C@H](OC(C)=O)[C@@H](OC(C)=O)[C@@H]1OC(C)=O', 'C=C1C(=O)O[C@@H]2/C=C(/C)[C@H](OC(C)=O)C[C@@H](OO)C(=C)C[C@@H](OC(=O)/C(C)=C/COC(C)=O)[C@@H]12', 'CC1(OC(=O)C=Cc2ccccc2)CC(O)C2C=COC(OC3OC(CO)C(O)C(O)C3O)C21', 'C=CCOC(=O)O[C@@H]1[C@@H](OC(=O)OC2CCCC2)[C@@H](OC)O[C@@H]2COC(c3ccccc3)O[C@@H]12', 'C[C@]1(O)C[C@@H](OC(=O)/C=C/c2ccccc2)[C@@H]2C=CO[C@@H](O[C@@H]3O[C@H](CO)[C@@H](O)[C@H](O)[C@H]3O)[C@@H]21', 'C/C=C(\\\\C)C(=O)O[C@H]1C[C@@](C)(OC(C)=O)C(=O)CC[C@@]2(C)O[C@@H]2[C@H]2OC(=O)C(COC(C)=O)=C12', 'O=C(O)CCCCCCCCC(=O)O.O=C(O)c1ccccc1O.O=C(O)c1ccccc1O', 'COC(=O)OC1CCC(C(=O)Oc2ccc(OC(=O)C3CCC(OC(=O)O)CC3)c(C)c2)CC1', 'C[C@H](Cc1ccc(O)c(O)c1)[C@@H](C)Cc1ccc(O[C@@H]2O[C@H](C(=O)O)[C@@H](O)[C@H](O)[C@H]2O)c(O)c1', 'COC1=C(C=C(C=C1)CC2=NC=CC3=CC(=C(C=C32)OC)OC)OC', 'COc1ccc(C2CC=N[C@@H]2C(=O)OCc2ccccc2)cc1OC', 'O=C(O)CN(CCc1ccccc1)C(=O)Cc1ccc2c(c1)CCO2', 'CC(C)C(=O)C(NC(=O)c1ccccc1)C(=O)OCc1ccccc1', 'O=C(O)c1ccc2c(c1)CN(C(=O)CCOCc1ccccc1)CC2', 'CC[C@](C)(NC(=O)OCC1c2ccccc2-c2ccccc21)C(=O)O', 'C=CCOC[C@H]1CN(C(=O)OCc2ccccc2)c2ccccc2O1', 'O=C(c1ccc2c(c1)OCO2)N1CCO[C@H](CCc2ccccc2)C1', 'Cc1cccc(Oc2ccccc2C(=O)N[C@@H]2CC[C@H](C(=O)O)C2)c1', 'CC(C1Cc2ccccc21)N(C)C(=O)c1cccc(OCC(=O)O)c1', 'COc1ccc(CNC(=O)Cc2ccc3c(c2)CCC3)cc1C(=O)O', 'COC(=O)c1ccc(C2CCCN2C(=O)OCc2ccccc2)cc1', 'C=Cc1ccc(CC(NC(=O)OCc2ccccc2)C(=O)OC)cc1', 'CC(C)c1ccc2c(c1)N(C(=O)OCc1ccccc1)[C@H](C(=O)O)C2', 'O=C(O)C1CCN(C(=O)CCOc2ccccc2-c2ccccc2)C1', 'Cc1ccc(/C=C2/Oc3c(ccc(O)c3CN3CCCCC3)C2=O)o1', 'C=C(C)C[C@@H]1N(c2ccc(C)cc2)C(=O)[C@H]2[C@@H](C(=O)O)[C@H]3C=C[C@@]12O3', 'COC(=O)[C@H]1C[C@@H](C)N(C(=O)c2ccc(OC)cc2)c2ccccc21', 'CC(=O)N1CCc2cc(-c3ccc(CCOCC(=O)O)cc3)ccc21', 'Cc1c#cccc1N(C(=O)OCc1ccccc1)C(=O)OC(C)(C)C', 'CCOC(=O)C(=Cc1ccc(OC)cc1)C(=O)Nc1ccc(C)cc1', 'COC(=O)[C@H](Cc1ccccc1)NC(=O)CC1COc2ccccc21', 'COC(=O)c1cccc(NC(=O)COc2ccc3c(c2)CCCC3)c1', 'CCc1cccc(NC(=O)CCC(=O)c2ccc3c(c2)OCCO3)c1', 'CCOc1ccccc1/C=C/C(=O)NC(C)c1ccc2c(c1)OCO2', 'CCCCNC(=O)CC1c2cccc(O)c2C(=O)c2c(O)cccc21', 'C=C(C)c1ccc(C)cc1-c1c(O)cc(C)c(C(=O)NC(C)=O)c1O', 'COc1ccc2c(c1)C1OCCCC1C(c1ccc(C(=O)O)cc1)N2', 'O=C1C=C[C@@]2(O)[C@H]3Cc4ccc(O)c5c4[C@@]2(CCN3CC2CC2)[C@H]1O5', 'C=C(C)C[C@@]1(C(=O)OCC)C(=O)Oc2ccc3ccccc3c2N1C', 'CC(C)OC(=O)c1cccc(N2C(=O)[C@@H]3[C@@H](C2=O)[C@H]2C=C[C@H]3CC2)c1', 'COc1ccc2c(c1OC)-c1c3c(cc4c1C(C2)N(C)CC4)OCO3', 'COc1ccccc1C1(C(=O)NC(Cc2ccccc2)C(=O)O)CC1', 'Cc1ccc(C(=O)N2CC[C@@H](c3ccc4c(c3)OCO4)[C@H](O)C2)cc1', 'CC1=C2C(CCC(=O)N2[C@@H](C)c2ccccc2)C2C(=O)OC(=O)C2C1', 'CO[C@H](C(=O)N[C@H](C/C=C/c1ccccc1)C(=O)O)c1ccccc1', 'O=C(O)CCc1ccc(NC(=O)c2ccccc2OCC2CC2)cc1', 'COc1ccc(-c2cc3cc(OC)c(OC)cc3c(C)n2)cc1OC', 'COc1ccc(C)cc1NC(=O)Cc1c2c(cc3c1OCC3)OCC2', 'Cc1ccc(C(=O)c2ccccc2C(=O)NCC(C)(C)C(=O)O)cc1', 'CCc1ccc(OCC(=O)NC2(C(=O)O)CC2c2ccccc2)cc1', 'CCOc1ccccc1/C=C/C(=O)NCc1ccc(C(=O)OC)cc1', 'CC(C)c1c(CC(=O)O)c2cccc(O)c2n1Cc1ccccc1O', 'O=C(CN1C(=O)[C@@H]2[C@H](C1=O)[C@H]1C=C[C@H]2C1)OCCCc1ccccc1', 'O=C(O)CC(NC(=O)CC1OCCc2ccccc21)c1ccccc1', 'CN(C[C@@H]1COc2ccccc2O1)C(=O)[C@H]1COc2ccccc2C1', 'COC(=O)[C@H]1CCN(C(=O)OCc2ccccc2)[C@@H]1c1ccccc1', 'O=C(CC1COCCN1C(=O)C1CCc2ccccc21)c1ccco1', 'CN(Cc1ccc(C(=O)O)cc1)C(=O)C[C@H]1OCCc2ccccc21', 'O=C(COC(=O)c1ccc(Oc2ccccc2)cc1)NC1CCCC1', 'Cc1ccc2c(c1)C1(OCC(CC(N)C=O)O1)c1cc(C)ccc1O2', 'CN(C)CCOc1ccc(C(=O)/C=C/c2ccc(C(=O)O)cc2)cc1', 'COc1cccc(C(=O)NCC#CCOc2ccccc2C)c1OC', 'COC(=O)C1CC(C)N(C(=O)c2cccc(OC)c2)c2ccccc21', 'CCOc1ccc(NC(=O)C2Cc3cc(CC)ccc3C(=O)O2)cc1', 'COc1ccccc1OC(=O)[C@H]1CC(=O)N([C@@H](C)c2ccccc2)C1', 'C[C@@H](C=CC(=O)O)OC(=O)N(Cc1ccccc1)Cc1ccccc1', 'CCn1c2cc(OCC3CO3)ccc2c2ccc(OCC3CO3)cc21', 'O=C(O)COc1ccc(C(=O)N2CCCC(c3ccccc3)C2)cc1', 'CC1CN(C(=O)Cc2cccc(C(=O)O)c2)CC(c2ccccc2)O1', 'CCOC(=O)/C(=C\\\\c1ccc(OC)cc1)C(=O)Nc1ccc(C)cc1', 'COC(=O)C1(Cc2cccc(OCc3ccccc3)c2)CC1C(N)=O', 'COC(=O)c1ccccc1NC(=O)c1ccc(OC2CCCC2)cc1', 'Cc1ccc2c(CC(=O)OCC(=O)c3cc(C)n(C)c3C)coc2c1', 'Cc1ccc(C)c(OC(=O)CCCn2c(=O)oc3ccccc32)c1C', 'COc1cccc(/C=C/C(=O)OCC(=O)Nc2ccc(C)cc2C)c1', 'O=C(O)CNC1CCC(=O)C1.O=C(c1ccccc1)c1ccccc1', 'O=C(COCCc1ccccc1)N1C(=O)OC[C@@H]1Cc1ccccc1', 'O=C(O)c1ccc(C(=O)NCC2(c3ccccc3)CCOCC2)cc1', 'Cc1ccccc1C1CCN(C(=O)c2cccc(OCC(=O)O)c2)C1', 'Cc1ccc(C(NC(=O)C2COc3ccccc3C2)C(=O)O)cc1C', 'CCOC(=O)c1cc(CCCc2ccc3cc(OC)ccc3c2)on1', 'CN(CC1Cc2ccccc2CO1)C(=O)c1cccc2c1OCCO2', 'COc1cccc(OC)c1N1C(=O)CC(Cc2ccc(C)cc2)C1=O', 'C=C(C)CCc1c(OC)cc(/C=C/c2ccccn2)c(C(=O)O)c1O', 'CCc1cccc(CC)c1N1C(=O)c2ccccc2C(O)(OC)C1=O', 'CCOC(=O)c1ccc(NC(=O)/C=C/c2ccc(OC)cc2)c(C)c1', 'CO[C@@H]1CN(C(=O)OCC2c3ccccc3-c3ccccc32)C[C@H]1O', 'COc1cccc(Cc2ncc(CO)c3cc(OC)c(OC)cc23)c1', 'COc1ccccc1C(=O)O[C@H](C)C(=O)N1c2ccccc2C[C@H]1C', 'Cc1cc(C)cc(COC(=O)CCCn2c(=O)oc3ccccc32)c1', 'CCc1ccc(N2CC(C(=O)Oc3ccc(OC)cc3)CC2=O)cc1', 'COc1ccc(N2C[C@@H](C(=O)Oc3cccc(C)c3C)CC2=O)cc1', 'CCN(CC)CCOc1cc(O)c2c(c1)C(=O)c1ccccc1C2=O', 'CC(C)CC(=O)C1=C(O)C(=O)N(Cc2ccco2)C1c1ccccc1', 'CCOC(=O)c1ccccc1N/C(C)=C/C(=O)c1ccc(OC)cc1', 'COC(=O)c1cccc2oc(Cc3ccc(O)c(C(C)(C)C)c3)nc12', 'CCOc1ccc(NC(=O)COC(=O)/C=C/c2ccc(C)cc2)cc1', 'CC(=O)Oc1cc2c(C(=O)NC(C)(C)C)c(C)oc2c2ccccc12', 'COc1ccccc1OC(=O)[C@@H]1CC(=O)N(c2c(C)cccc2C)C1', 'O=C(Nc1ccc2oc3c(c2c1)CCCC3)[C@H]1CC=CC[C@H]1C(=O)O', 'COc1ccccc1OCC(=O)N[C@@H](C)Cc1cc2ccccc2o1', 'CCOc1ccccc1NC(=O)c1ccc2c(c1)OCC1(CC1)CO2', 'COc1cc2c(cc1O)[C@@H]1CCc3cc4c(cc3CN1CC2)OCO4', 'Cc1cccc(C(=O)OCC(=O)NC2CCCc3ccccc32)c1O', 'O=C(COC(=O)c1ccccc1-c1ccccc1)NC[C@@H]1CCCO1', 'O=C(C[C@H]1CCCN1C(=O)COc1ccccc1O)c1ccccc1', 'C=C(C)C(=O)OCCNc1ccccc1C(=O)c1ccc(OC)cc1', 'COc1cc2c(c(OC)c1C(=O)c1ccccc1N)C=CC(C)(C)O2', 'CCOc1ccc(C=C2Oc3c(ccc(O)c3CN(C)C)C2=O)cc1', 'C=CCc1cc(/C=N/c2cc(C(=O)O)ccc2C)cc(OCC)c1O', 'C[C@H](Cc1ccc(O)cc1)C(=O)N1C(=O)OC[C@H]1Cc1ccccc1', 'CCCOc1ccc(OC(=O)/C=C/c2ccc(NC(C)=O)cc2)cc1', 'COc1ccc2c(c1)N1CCc3cc(OC)c(OC)cc3[C@H]1CC2=O', 'CCOc1ccccc1C=C1Oc2c(ccc(O)c2CN(C)C)C1=O', 'Cc1c(C(C)NC(=O)C2C3C=CC(C3)C2C(=O)O)oc2ccccc12', 'COc1ccc(/C=C/C(=O)N[C@@H](C)C(=O)OCc2ccccc2)cc1', 'Cc1ccc(OCc2ccccc2)cc1NC(=O)[C@@H]1CC[C@@H]1C(=O)O', 'CCCNC(=O)[C@@H](C)OC(=O)c1oc2c(ccc3ccccc32)c1C', 'Cc1ccc(C(=O)c2ccccc2C(=O)O[C@H](C)C(=O)N(C)C)cc1', 'CC(=O)Nc1ccc(C(=O)O[C@H](C)C(=O)c2ccc(C)c(C)c2)cc1', 'C=CC[C@H]1N([C@@H](C)c2ccccc2)C(=O)[C@@H]2[C@@H](C(=O)O)[C@@H]3C=C[C@]21O3', 'C/C=C/C(=O)O[C@H](C(=O)Nc1cc(C)ccc1OC)c1ccccc1', 'O=C(O)CC1CCCN1C(=O)COc1ccccc1-c1ccccc1', 'CCOC(C)O[C@@H]1C(=O)N(C(=O)c2ccccc2)[C@@H]1c1ccccc1', 'Cc1ccccc1OCCC(=O)OCC(=O)N1CCc2ccccc21', 'COc1ccc([C@@H]2C[C@H]2C(=O)N(C)Cc2ccc(C(=O)O)cc2)cc1', 'CCCc1cc(-c2oncc2-c2ccc(OC)cc2)c(O)cc1OC', 'Cc1ccccc1C1CN(C(=O)c2cccc(C(=O)O)c2)C(C)CO1', 'CCCOc1ccccc1NC(=O)COc1cccc2c1CCC2=O', 'Cc1cc(C)cc(C(=O)OCC(=O)NC2CCOc3ccccc32)c1', 'CC(=O)CCC(=O)OCC(=O)NC(c1ccccc1)c1ccccc1', 'CC(C)N(CC(=O)O)C(=O)OCC1c2ccccc2-c2ccccc21', 'COC(=O)CCNC(=O)/C(=C/c1ccccc1OC)c1ccccc1', 'COc1ccc([C@@H](C)C(=O)N2C(=O)OC[C@@H]2Cc2ccccc2)cc1', 'CCCOC(=O)c1ccc2[nH]c3ccc(C(=O)OCCC)cc3c2c1', 'O=C(c1ccc2c(c1)OCCO2)[C@H](c1ccccc1)N1CCOCC1', 'COc1ccccc1OC(=O)[C@@H]1CC(=O)N(c2ccc(C)c(C)c2)C1', 'CCCC1Oc2ccccc2C(=O)C1C(C[N+](=O)[O-])c1ccccc1', 'CC(=O)c1ccccc1NC(=O)[C@H](C)OC(=O)Cc1ccc(C)cc1', 'CC(=O)c1ccc(NC(=O)C(C)OC(=O)c2cccc(C)c2C)cc1', 'COc1cccc(C2CC2C(=O)N(C)Cc2ccc(C(=O)O)cc2)c1', 'CC/N=C1\\\\CC=CC=C(C(=O)/C=C/c2cccc(OC)c2OC)C1=O', 'COc1c(C(C)=O)c(C)c2ncoc2c1OCCCc1ccccc1', 'O=C(c1cccc(Oc2ccccc2)c1)N1C[C@H]2COC[C@@]2(CO)C1', 'CCOC(=O)c1c(C)n(-c2ccc(OC)cc2)c2ccc(OC)cc12', 'CC(=O)O[C@@H]1C(=O)N(C)[C@@H]([C@@H](O)c2ccccc2)[C@H]1c1ccccc1', 'COc1ccc(C=CCCNC(=O)OCc2ccccc2)c(C=O)c1', 'COc1ccc(CN(C)Cc2cc(=O)oc3ccc(OC)cc23)cc1', 'CC(=O)c1cccc(NC(=O)CCC(=O)OCCc2ccccc2)c1', 'O=C(O)C1CC(c2ccccc2)CN(C(=O)COc2ccccc2)C1', 'CCOC(=O)C1=C(C)NC(C)=C(C(=O)OC)[C@H]1C#Cc1ccccc1', 'CCc1ccc(OC(=O)[C@H]2CC(=O)N(c3ccccc3OC)C2)cc1', 'CN(O)C(=O)C(C)(C)Cc1ccc2c(c1)C(=O)c1ccccc1CO2', 'O=C(O)CCC(NC(=O)CCC(=O)c1ccccc1)c1ccccc1', 'CC1CC1c1ccc(/C=C/C(=O)NCC2COc3ccccc3O2)o1', 'CCCCOc1ccc2c(c1)NC(=O)CC2c1ccc(C(=O)O)cc1', 'COc1nc2ccccc2c(C(OC)(OC)c2ccccc2)c1OC', 'COc1ccc(CN(C(=O)Cc2ccccc2C(=O)O)C2CC2)cc1', 'CCCOc1ccc(NC(=O)/C=C/c2ccc3c(c2)OCO3)c(C)c1', 'CC(C(=O)O)C(NC(=O)Cc1ccc2c(c1)CCO2)c1ccccc1', 'COC(=O)C[C@H]1Oc2ccccc2N(Cc2ccc(C)cc2C)C1=O', 'CCOC(=O)[C@@]1(c2ccc(OCc3ccccc3)cc2)CC1C(N)=O', 'CC(=O)c1ccc(C(=O)NC(CCC(=O)O)Cc2ccccc2)cc1', 'CC(C)=CC(=O)OCC(=O)Nc1ccccc1Oc1ccc(C)cc1', 'COc1cc(/C=C/C(=O)Nc2ccccc2C=O)ccc1OC(C)C', 'CCOC(=O)[C@@H]1Cc2ccccc2N(C(=O)OCc2ccccc2)C1', 'C[C@@H](/C=C/C(=O)O)OC(=O)N(Cc1ccccc1)Cc1ccccc1', 'CCc1cc2c(CNCc3ccccc3OC)cc(=O)oc2cc1O', 'CC(=O)Nc1ccc(C(=O)O[C@@H](C)C(=O)c2ccc(C)c(C)c2)cc1', 'COc1cc(C)c(C(=O)NCC2(c3ccccc3)CC2)cc1C(=O)O', 'Cc1ccccc1C1(C(=O)Nc2ccc(C(=O)O)cc2)CCOCC1', 'CC(=O)c1cccc(NC(=O)COc2cccc3c2CCC[C@H]3O)c1', 'COc1cc(CCc2ccc(C(=O)CC#N)cc2)cc(OC)c1OC', 'COc1ccc(N2C(=O)CC[C@H](C(=O)O)[C@@H]2c2ccc(C)cc2)cc1', 'CC(=O)c1ccc2c(c1)[C@H](NC(=O)c1ccccc1)[C@H](O)C(C)(C)O2', 'CCNC(=O)c1ccc(OC(=O)/C=C/c2ccccc2OCC)cc1', 'CCOC(=O)C(N=C(c1ccccc1)c1ccccc1)C(=O)OCC', 'CC(Cc1ccc(NC(=O)Cc2ccc3c(c2)CCO3)cc1)C(=O)O', 'COc1ccccc1NC(=O)[C@@H](C)OC(=O)/C=C/c1ccc(C)cc1', 'O=C(COC(=O)[C@@H](O)c1ccccc1)N[C@H]1CCCc2ccccc21', 'CCC(Oc1cccc(C)c1)C(=O)N1CC(C(=O)O)c2ccccc21', 'CCOc1ccc(NC(=O)C2(C)Cc3ccccc3C(=O)O2)cc1C', 'COc1ccc(C(=O)N(C)C(C)c2cc3ccccc3o2)c(OC)c1', 'CC1(C)COc2c(C(=O)Nc3cccc4c3OCCC4O)cccc21', 'COc1cccc(Cn2cc(CCC(=O)O)c3cc(OC)ccc32)c1', 'COC1CC(C(=O)O)N(C(=O)C2CC2c2ccc3ccccc3c2)C1', 'COCCN1C(=O)c2ccccc2[C@@H](C(=O)O)[C@@H]1c1cccc(C)c1', 'O=C(OC1COC2C(NCc3ccccc3)COC12)c1ccccc1', 'COc1cc(CC(=O)N2C(=O)OCC2Cc2ccccc2)ccc1C', 'COc1ccc(CO[C@@H]2C[C@@H](C=O)N(C(=O)c3ccccc3)C2)cc1', 'Cc1ccc(C)c(C(=O)[C@@H](C)OC(=O)CNC(=O)c2ccccc2)c1', 'Cc1cc(Oc2ccccc2O)c2c(ccn2C(=O)OC(C)(C)C)c1', 'COC(=O)c1cc(C=CCNC(=O)OCc2ccccc2)ccc1C', 'CCOc1ccccc1C(=O)NCC(=O)OC/C=C/c1ccccc1', 'CC[C@H]1C(=O)N(c2ccc(OC)cc2)[C@@H]1c1ccc(C(=O)OC)cc1', 'OCCO.Oc1ccc(N(c2ccccc2)c2ccc(O)cc2)cc1', 'C[C@H]1C[C@H]([N+](=O)[O-])[C@H](c2ccccc2)[C@@H](C(=O)c2ccccc2)[C@H]1O', 'COc1cccc(CCc2ccc(N3CC(C(=O)O)CC3=O)cc2)c1', 'O=C(CC1CCCCC1)c1ccc(-c2c(C(=O)O)ccc[n+]2[O-])cc1', 'COc1ccc(-c2c/c(=N\\\\CC(C)O)c3ccccc3o2)cc1OC', 'CCOC(=O)Cc1c(C)n(-c2ccc(OC)cc2)c2cc(O)ccc12', 'CC(CC(Cc1ccccc1)n1c(O)c2ccccc2c1O)C(=O)O', 'CC(=O)CC1(O)C(=O)N(CCCOc2ccccc2)c2ccccc21', 'CC1[C@H](O)ON(C(=O)OCc2ccccc2)[C@H]1/C=C/c1ccccc1', 'COC(=O)c1ccccc1N(C)C(=O)CC1OCCc2ccccc21', 'C=C(C)CC1N(c2cccc(C)c2)C(=O)C2C(C(=O)O)[C@@H]3C=C[C@@]21O3', 'O=c1c2ccc(O)cc2oc2cc(OCCCN3CCCC3)ccc12', 'CCOC(=O)C1(C(=O)NCC(c2ccccc2)c2ccccc2)CO1', 'COc1c2c(cc3c1C(CC(=O)c1ccccc1)N(C)CC3)OCO2', 'COc1ccc(CN2C(=O)[C@@](O)(CC(C)=O)c3cc(C)ccc32)cc1', 'CC(=O)CC1(O)C(=O)N(CCOc2ccccc2)c2ccc(C)cc21', 'COC(=O)c1ccc(C(=O)N2CCOC(c3ccc(C)cc3)C2)cc1', 'COc1ccc(C(C)=O)cc1C=CCNC(=O)OCc1ccccc1', 'Cc1ccc(OCC(=O)OCC(=O)N2CCc3ccccc32)c(C)c1', 'C[C@@H]1CN(C(=O)c2ccccc2-c2ccccc2C(=O)O)CCCO1', 'COc1cc(C(=O)O)ccc1NC(=O)CC1CC(c2ccccc2)C1', 'COc1cc(C(=O)N2CCCC2c2ccccc2)cc2c1OCCO2', 'COc1ccc(C[C@@H]2[C@@H]3O[C@@H]3CN2C(=O)OCc2ccccc2)cc1', 'COc1ccc(/C=C/C(=O)OCC(=O)NCc2ccccc2C)cc1', 'COC(=O)/C(=C\\\\CCc1ccccc1)NC(=O)OCc1ccccc1', 'CC(=O)NCc1ccc(C(=O)COC(=O)Cc2ccccc2C)cc1', 'COc1cc(C)c(N)c2c1C(=O)O[C@H](C)C/C=C/C=C/C#CC(=O)C2', 'COc1ccc(C)cc1C(C)NC(=O)c1cc2cccc(OC)c2o1', 'Cc1ccccc1OCC(C)NC(=O)/C=C/c1ccc2c(c1)OCO2', 'COc1ccc(C(=O)C(C(=O)Oc2ccccc2)N2CCCC2)cc1', 'CCc1c(-c2coc(CCc3ccccc3)n2)oc(OC)c(C)c1=O', 'CC1(CNC(=O)c2ccccc2-c2ccccc2C(=O)O)CCCO1', 'Cc1cccc(OC(C)C(=O)N2CCc3ccc(C(=O)O)cc3C2)c1', 'N#Cc1ccc2c(c1)[C@H](OC1=CC(=O)CC1)[C@@H](O)C1(CCCCC1)O2', 'CCOc1ccccc1/C=C/C(=O)OCC(=O)NCc1ccccc1', 'C[C@H](OC(=O)c1ccc(OCc2ccccc2)cc1)C(=O)NC1CC1', 'CCOc1ccc(C(=O)C[C@@]2(O)C(=O)Nc3ccc(CC)cc32)cc1', 'C=CCNC(=O)C(C)OC(=O)COc1ccccc1-c1ccccc1', 'C/C(=C\\\\CC(C)OC(=O)Nc1ccccc1-c1ccccc1)C(=O)O', 'COc1ccc(CCC(=O)N2Cc3ccccc3C[C@@H]2C(=O)O)cc1', 'COc1cc2c(cc1OC)-c1cc3c(c4c1C(C2)N(C)CC4)OCO3', 'CCOc1ccc(/C=C/C(=O)OCC(=O)N(C)c2ccccc2)cc1', 'COc1cc2c3c(c1OC)-c1cc(O)ccc1CC3N(C(C)=O)CC2', 'CCc1ccccc1OC1CN(C(=O)c2cccc(C(=O)OC)c2)C1', 'CCc1cc(COc2ccc3[nH]cc(CC(=O)O)c3c2)cc(OC)c1', 'CC(=O)c1ccc2c(c1)oc(=O)n2CCOc1ccc(C(C)C)cc1', 'CCOc1ccc2ccccc2c1C(=O)NCC(OC)c1ccco1', 'COc1cc2c(cc1OC)[C@H]([C@@H]1OC(=O)c3ccccc31)N(C)CC2', 'C/C=C\\\\c1ccc(OCC(=O)Nc2cccc(C(C)=O)c2)c(OC)c1', 'Cc1cccc([C@]2(O)C(=O)N(C(=O)OC(C)(C)C)c3ccccc32)c1', 'CC(Cc1ccccc1)(NC(=O)C1OCCc2ccccc21)C(=O)O', 'O=C(NC(C(=O)O)c1ccc2c(c1)CCCC2)OCc1ccccc1', 'CO/N=C(/C(=O)OC)c1ccccc1COC1CCc2ccccc21', 'O=C(OCC1CCN(C(=O)OCc2ccccc2)C1)c1ccccc1', 'CCOC(=O)[C@H]1CCN(Cc2cccc(Oc3ccccc3)c2)C1=O', 'CCc1ccc(CCC(=O)Nc2cc3c(cc2C(C)=O)OCO3)cc1', 'CCCCN1C(=O)[C@@](O)(CC(=O)c2ccccc2O)c2ccccc21', 'NC(=CCC(=O)OCc1ccccc1)CC(=O)OCc1ccccc1', 'COc1ccc(-c2ccc3c(c2)NC(=O)C32CCOCC2)cc1OC', 'C=C(C)COc1ccccc1[C@H]1CC(=O)Oc2cc(C)n(C)c(=O)c21', 'C[C@@H](CNC(=O)COC1c2ccccc2-c2ccccc21)CC(=O)O', 'Cc1ccccc1[C@@H]1CN(Cc2cccc(C(=O)O)c2)C[C@H]1C(=O)O', 'CCC(NC(=O)/C=C/c1ccc(OCc2ccccc2)cc1)C(=O)O', 'O=C(O)CN(C(=O)COC(c1ccccc1)c1ccccc1)C1CC1', 'CC(C)[C@H](NC(=O)/C=C/c1cccc(Oc2ccccc2)c1)C(=O)O', 'Cc1cccc(C(=O)OCC(=O)N[C@H]2CCCc3ccccc32)c1O', 'O=C(COC(=O)C1(c2ccccc2)CC1)NCCOc1ccccc1', 'O=C(O)[C@@H]1C[C@H](O)CCN1C(=O)C(c1ccccc1)c1ccccc1', 'CCOc1ccc(C=CC(=O)Nc2cccc(C(C)=O)c2)cc1OC', 'O=C(c1ccc(O)cc1)C1CCN(C(=O)Cc2ccccc2O)CC1', 'C/C=C(\\\\C)/C(=O)OC1C(C(C2(C3CCC4(C(OC(=O)CC4=C3CC1(C2=O)O)C5=COC=C5)C)C)C(C(=O)OC)OC(=O)C)(C)C', 'COc1ccc(C(=O)C2(O)CCCCC2C(=O)OCCOCCOC(=O)C2CCCCC2(O)C(=O)c2ccc(OC)cc2)cc1', 'COc1ccc(C(=O)C2(O)CCCCC2C(=O)OCCOCCOC(=O)[C@H]2CCCC[C@]2(O)C(=O)c2ccc(OC)cc2)cc1', 'CO[C@H]1O[C@H](CO)[C@@H](OCc2ccccc2)[C@H](O[C@H]2O[C@H](CO)[C@@H](O)[C@H](O)[C@H]2OCc2ccccc2)[C@H]1OCc1ccccc1', 'C#COCC.CC.COOC(C)OC(C)(C)OCc1c2c(c(-c3ccc4c(c3)OCO4)c3cc(OC)c(OC)cc13)C(=O)OC2', 'C=CC(=O)OCCOCCOC(=O)C=C=CC(=O)OC1CC2CC(/C=C\\\\C(=O)OCC(O)COc3ccccc3)C1(C)C2(C)C', 'CC=C(C)C(=O)O[C@@H]1[C@@H]2C(=O)[C@](C)([C@H]3CC[C@]4(C)[C@@H](CC(=O)O[C@H]4c4ccoc4)[C@]34O[C@H]24)[C@@H]([C@H](OC(C)=O)C(=O)OC)C1(C)C', 'CC=C(C)C(=O)OC1C2C(=O)C(C)(C(C(OC(C)=O)C(=O)OC)C1(C)C)C1CCC3(C)C(c4ccoc4)OC(=O)CC3C13OC23', 'CC[C@H](C)C(=O)O[C@@H]1[C@H]2C[C@H](OC(=O)c3ccco3)[C@]3(C)[C@@H](OC(C)=O)[C@@H](OC(=O)c4ccccc4)C[C@](C)(O)[C@@]13OC2(C)C', 'C/C=C(\\\\C)C(=O)O[C@@H]1[C@H]2[C@@H](OC(C)=O)C(C)(C)[C@H](CC(=O)OC)[C@@]3(C)C4CC[C@]5(C)C(=CC(=O)O[C@H]5c5ccoc5)C41OC23O', 'C=C[C@H]1O[C@H]2CC3OC[C@@]3(OC(C)=O)[C@H]3[C@H](OC(=O)c4ccccc4)[C@]4(O)C[C@H](O)C(C)=C([C@H](OC(C)=O)[C@H](O1)[C@]23C)C4(C)C', 'CC(C)(C)OC(=O)CCCO.CC(C)(C)OC(=O)CCCOc1ccc2ccc(=O)oc2c1.O=c1ccc2ccc(O)cc2o1', 'C=C[C@H]1O[C@H]2C[C@H]3OC[C@@]3(OC(C)=O)[C@H]3[C@H](OC(=O)c4ccccc4)[C@]4(O)C[C@H](O)C(C)=C([C@H](OC(C)=O)[C@H](O1)[C@]23C)C4(C)C', 'CO[C@H]1O[C@H](COCc2ccccc2)[C@@H](OCc2ccccc2)[C@H](O[C@@H]2O[C@H](CO)[C@@H](O)[C@H](O)[C@H]2O)[C@H]1OCc1ccccc1', 'CC(=O)O[C@H]1C(=O)[C@@]2(C)[C@H]([C@H](OC(=O)c3ccccc3)[C@]3(O)C[C@H](OC(C)=O)C(C)=C1C3(C)C)[C@]1(OC(C)=O)CO[C@@H]1C[C@@H]2C', 'C=CCCCOC(=O)c1ccccc1C(=O)OCCOCCOCCOCCOC(=O)c1ccccc1C(=O)OCCCC=C', 'C=C(C)[C@]1(O)C[C@@H](C)[C@@]2(O)C(C(O)[C@@](O)(COC(=O)c3ccccc3)[C@@H](O)[C@@]3(O)C2C[C@H](C)[C@@H]3O)[C@H]1OC(=O)c1ccccc1', 'C/C=C(\\\\C)C(=O)O[C@H]1[C@H]2[C@H](OC(C)=O)C34O[C@@]2(O)[C@](C)([C@H](CC(=O)OC)C1(C)C)[C@@H]3CC[C@@]1(C)C4=CC(=O)O[C@@H]1c1ccoc1', 'CCC1(COc2ccc(Cc3cc([C@@H]4O[C@H](COC(C)=O)[C@@H](OC(C)=O)[C@H](OC(C)=O)[C@H]4OC(C)=O)ccc3C)cc2)COC1', 'CO[C@H]1O[C@H](CO[C@@H]2O[C@@H]([C@@H](O)CO)[C@H](O)[C@H]2O)[C@@H](OCc2ccccc2)[C@H](OCc2ccccc2)[C@@H]1OCc1ccccc1', 'CC=C(C)C(=O)O[C@H]1C(C)(C)[C@H]([C@H](OC(C)=O)C(=O)OC)[C@]2(C)C(=O)[C@@]1(O)C=C1[C@@H]3CC(=O)O[C@@H](c4ccoc4)[C@]3(C)CC[C@@H]12', '[2H]CC(=O)OC[C@H]1OC(O)(c2cc(Cc3ccc(CC)cc3)c(C)c(OC3CCC3)c2)[C@H](OC(=O)C[2H])[C@@H](OC(=O)C[2H])[C@@H]1OC(=O)C[2H]', 'COCOc1cc(OC)cc2c1C(=O)O[C@@H](C)[C@H](C)C=CC(OC(=O)c1ccccc1)[C@H]1OC(C)(C)O[C@H]1C(OCOC)C=C2', 'C/C=C(/C)C(=O)O[C@@H]1[C@@H]2C(=O)[C@](C)([C@H]3CC[C@]4(C)[C@@H](CC(=O)O[C@H]4c4ccoc4)[C@]34O[C@H]24)[C@@H]([C@@H](OC(C)=O)C(=O)OC)C1(C)C', 'CC(=O)O[C@H]1[C@@H](OC(=O)c2ccccc2)C[C@](C)(O)[C@]23OC(C)(C)[C@H](C[C@H](OC(=O)c4ccco4)[C@]12C)[C@H]3OC(=O)C(C)(C)C', 'CC(=O)OC1=C2C(C)C(O)CC(O)(C(OC(=O)c3ccccc3)C3C4(OC(=O)C5CCC5)COC4CC(O)C3(C)C1=O)C2(C)C', 'COCOc1cc(OCC(O)CO)cc2c1C(=O)O[C@@H](C)[C@H](C)C=CC(OC(=O)c1ccccc1)[C@H]1OC(C)(C)O[C@H]1CC=C2', 'C=C[C@H]1O[C@H]2C[C@H]3OC[C@@]3(OC(C)=O)[C@H]3[C@H](OC(=O)c4ccccc4)[C@]4(C(C)(C)O)C[C@H](O)C(C)=C4[C@H](OC(C)=O)[C@H](O1)[C@]23C', 'C/C=C(\\\\C)C(=O)O[C@@H]1[C@H]2C(=O)[C@](C)([C@H]3CC[C@]4(C)[C@@H](CC(=O)O[C@H]4c4ccoc4)[C@]34O[C@H]24)[C@@H]([C@@H](OC(C)=O)C(=O)OC)C1(C)C', 'C/C=C(\\\\C)C(=O)OC1C(C)(C)[C@H]([C@@H](OC(C)=O)C(=O)OC)[C@]2(C)C(=O)[C@@]1(O)C=C1C3CC(=O)O[C@@H](c4ccoc4)[C@]3(C)CCC12', 'C=C(C)[C@]1(O)C[C@@H](C)[C@@]2(O)[C@H]([C@H]1OC(=O)c1ccccc1)[C@H](O)[C@](O)(COC(=O)c1ccccc1)[C@@H](O)[C@@]1(O)[C@H]2C[C@H](C)[C@@H]1O', 'CO[C@H]1O[C@H](CO[C@@H]2O[C@@H]([C@H](O)CO)[C@H](O)[C@H]2O)[C@@H](OCc2ccccc2)[C@H](OCc2ccccc2)[C@H]1OCc1ccccc1', 'CC(=O)OCC1(C)C2C(O)C(OC(=O)Cc3ccccc3)C(C)=CC34OC3(CC(C)C4OC(C)=O)C(=O)C(C)C(OC(C)=O)C21', 'CC(=O)O[C@H]1[C@@H](OC(=O)c2ccccc2)C[C@](C)(O)C23OC(C)(C)C(C[C@H](OC(=O)c4ccco4)[C@]12C)C3OC(=O)C(C)(C)C', 'CCCc1c(OCCOCCOCCOCCOc2ccc3ccc(OCC(=O)OC)cc3c2C(C)=O)ccc(C(C)=O)c1O', 'CC(=O)O[C@H]1C(=O)[C@@]2(C)[C@H]([C@H](OC(=O)c3ccccc3)[C@]3(O)C[C@H](OC(C)=O)C(C)=C1C3(C)C)[C@]1(OC(C)=O)CC[C@@H]1C[C@@H]2O', 'C=CC(=O)OCCOCCOCCOC(=O)Oc1ccc(C(=O)Oc2ccc(C(=O)OC3CC(C)CCC3C(C)C)cc2)cc1', 'CCc1ccc(Cc2cc([C@@H]3O[C@H](COC(C)=O)[C@@H](OC(C)=O)[C@H](OC(C)=O)[C@H]3OC(C)=O)cc(O[C@H]3CCOC3)c2C)cc1', 'C=CC(=O)OCCOCCOCCOC(=O)Oc1ccc(OC(=O)c2ccc(C(=O)OC3CC(C)CCC3C(C)C)cc2)cc1', 'C=C1C(OC(=O)CC)C(OC(C)=O)C(=O)C(C)(C)C=CC(C)C(=O)C2(O)CC(C)C(OC(=O)c3ccccc3)C2C1OC(C)=O', 'CC=C(C)C(=O)OC1C2C(OC(C)=O)C34OC2(O)C(C)(C(CC(=O)OC)C1(C)C)C3CCC1(C)C4=CC(=O)OC1c1ccoc1', 'CC=C(C)C(=O)O[C@H]1[C@H]2[C@H](OC(C)=O)C34O[C@@]2(O)[C@](C)([C@H](CC(=O)OC)C1(C)C)[C@@H]3CC[C@@]1(C)C4=CC(=O)O[C@@H]1c1ccoc1', 'CC(=O)Oc1c(OC(C)C)c2cccc(OC(C)(C)C)c2oc1=O.CC(C)Oc1c(O)c(=O)oc2c(OC(C)(C)C)cccc12', 'CCc1ccc(Cc2cc(C3(O)O[C@H](COC(C)=O)[C@@H](OC(C)=O)[C@H](OC(C)=O)[C@H]3OC(C)=O)cc([C@@H]3CCOC3)c2C)cc1', 'COC1OC(COCc2ccccc2)C(OCc2ccccc2)C(OCc2ccccc2)C1OC1OC(CO)C(O)C(O)C1O', 'CO[C@H]1O[C@H](CO[C@@H]2O[C@H](CO)[C@@H](O)[C@H](O)[C@H]2O)[C@@H](OCc2ccccc2)[C@H](OCc2ccccc2)[C@H]1OCc1ccccc1', 'C=C[C@@H]1O[C@H]2CC3OC[C@@]3(OC(C)=O)[C@H]3[C@H](OC(=O)c4ccccc4)[C@]4(O)C[C@H](O)C(C)=C([C@H](OC(C)=O)[C@H](O1)[C@]23C)C4(C)C', 'CCC(C)C(=O)OC1CC(C)C23OC(C)(C)C(C(OC(=O)c4ccoc4)C(OC(=O)c4ccccc4)C2(C)C1OC(C)=O)C3O', 'C=C1[C@H](OC(C)=O)[C@H]2[C@@H](OC(=O)c3ccccc3)[C@@H](C)C[C@]2(O)C(=O)[C@@H](C)C=CC(C)(C)C(=O)[C@H](OC(C)=O)[C@H]1OC(=O)CC', 'CCc1ccc(Cc2cc([C@]3(O)O[C@H](COC(C)=O)[C@@H](OC(C)=O)[C@H](OC(C)=O)[C@H]3OC(C)=O)cc(C3CCOC3)c2C)cc1', 'C/C=C(\\\\C)C(=O)O[C@@H]1[C@H]2C(=O)[C@@](C)([C@@H]([C@@H](OC(C)=O)C(=O)OC)C1(C)C)[C@@H]1CC[C@@]3(C)[C@H](c4ccoc4)OC(=O)C[C@@H]3[C@]13O[C@H]23', 'COC1C2CC3C(C)(C)OC(CC=C(C)C(=O)O)(C2=O)C32Oc3c(CC(O)C(C)(C)O)c4c(c(O)c3C(=O)C12)C=CC(C)(C)O4', 'C=CC1OC2C[C@H]3OC[C@@]3(OC(C)=O)[C@H]3[C@H](OC(=O)c4ccccc4)[C@]4(O)C[C@H](O)C(C)=C([C@H](OC(C)=O)C(O1)[C@]23C)C4(C)C', 'C/C=C(\\\\C)C(=O)O[C@@H]1[C@@H]2[C@@H](OC(C)=O)C34O[C@]2(O)[C@@](C)([C@@H](CC(=O)OC)C1(C)C)[C@H]3CC[C@]1(C)C4=CC(=O)O[C@H]1c1ccoc1', 'CCOCCC(=O)OCCc1ccc(OC(=O)C2CCC(C(=O)Oc3ccc(CCOC(=O)CC(=O)OCC)cc3)CC2)cc1', 'C=C[C@@H]1O[C@H]2C[C@H]3OC[C@@]3(OC(C)=O)[C@H]3[C@H](OC(=O)c4ccccc4)C4(C(C)(C)O)C[C@H](O)C(C)=C4[C@H](OC(C)=O)[C@H](O1)[C@]23C', 'CC=C(C)C(=O)OC1C2[C@@H](OC(C)=O)C34O[C@]2(O)[C@@](C)([C@@H](CC(=O)OC)C1(C)C)[C@H]3CC[C@]1(C)C4=CC(=O)O[C@H]1c1ccoc1', 'CC=C(C)C(=O)O[C@H]1C(C)(C)[C@H]([C@@H](OC(C)=O)C(=O)OC)[C@]2(C)C(=O)[C@@]1(O)C=C1[C@@H]3CC(=O)O[C@@H](c4ccoc4)[C@]3(C)CC[C@@H]12', 'CO[C@H]1[C@@H](OCc2ccccc2)[C@@H](COCc2ccccc2)O[C@@H](O[C@@H]2[C@H](O)[C@@H](O)[C@@H](O)O[C@@H]2CO)[C@@H]1OCc1ccccc1', 'CO[C@@H]1C[C@@H](C)O[C@H]2O[C@@H]3CC4=CC[C@H]5C6=CC[C@H](C7=CC(=O)OC7)[C@@]6(C)[C@@H](OC(C)=O)C(=O)[C@@H]5[C@@]4(C)C[C@H]3O[C@]21OC(C)=O', 'C/C=C(/C)C(=O)O[C@@H]1[C@H]2C(=O)[C@@](C)([C@@H]([C@@H](OC(C)=O)C(=O)OC)C1(C)C)[C@@H]1CC[C@@]3(C)[C@H](c4ccoc4)OC(=O)C[C@@H]3[C@]13O[C@H]23', 'C=C[C@@H]1O[C@H]2C[C@H]3OC[C@@]3(OC(C)=O)[C@H]3[C@H](OC(=O)c4ccccc4)[C@]4(O)C[C@H](O)C(C)=C([C@H](OC(C)=O)[C@H](O1)[C@]23C)C4(C)C', 'C/C=C(\\\\C)C(=O)O[C@@H]1[C@H]2[C@@H](OC(C)=O)C34OC2(O)[C@@](C)([C@@H](CC(=O)OC)C1(C)C)[C@H]3CC[C@]1(C)C4=CC(=O)O[C@H]1c1ccoc1', '[2H]CC(=O)OC[C@H]1OC(O)(c2cc(Cc3ccc(CC)cc3)c(C)c([C@@H]3CCOC3)c2)[C@H](OC(=O)C[2H])[C@@H](OC(=O)C[2H])[C@@H]1OC(=O)C[2H]', 'C/C=C(\\\\C)C(=O)O[C@H]1C(C)(C)[C@H]([C@H](OC(C)=O)C(=O)OC)[C@]2(C)C(=O)[C@@]1(O)C=C1[C@@H]3CC(=O)O[C@@H](c4ccoc4)[C@]3(C)CC[C@@H]12', 'CC(=O)O[C@H]1[C@@H](OC(=O)c2ccccc2)C[C@@](C)(O)[C@]23OC(C)(C)[C@H](C[C@H](OC(=O)c4ccco4)[C@]12C)[C@H]3OC(=O)C(C)(C)C', 'CCCCOC(=O)CCC(=O)O[C@@H]1[C@]2(C)C(C(=O)c3c(O)cccc3[C@H]2C)C(=O)[C@@]2(O)C(=O)C(C(C)=O)C(=O)C(C(C)C)[C@@]12C', 'OCC(O)CCc1ccc2ccc(OCC(O)CO)cc2c1Cc1c(OCC(O)CO)ccc2ccc(OCC(O)CO)cc12', 'C/C=C(\\\\C)C(=O)O[C@H]1C(C)(C)[C@H](CC(=O)OC)[C@]2(C)C(=O)[C@@]1(OC(C)=O)C[C@]1(O)C3=CC(=O)O[C@@H](c4ccoc4)[C@]3(C)CCC12', 'CCOC(=O)C1C2C=CC(CC2)C1C(=O)O.CCOC(=O)[C@@H]1[C@@H](C(=O)O)[C@H]2C=C[C@@H]1CC2.O=C1OC(=O)[C@H]2C3C=CC(CC3)[C@@H]12', 'CO[C@H]1O[C@@H](COCc2ccccc2)[C@@H](OCc2ccccc2)[C@@H](OCc2ccccc2)[C@H]1O[C@H]1O[C@H](CO)[C@@H](O)[C@H](O)[C@@H]1O', 'CCc1ccc(Cc2cc(C3(O)O[C@H](COC(C)=O)[C@@H](OC(C)=O)[C@H](OC(C)=O)[C@H]3OC(C)=O)cc([C@H]3CCOC3)c2C)cc1', '[2H]CC(=O)OC[C@H]1OC(O)(c2cc(Cc3ccc(CC)cc3)c(C)c([C@H]3CCOC3)c2)[C@H](OC(=O)C[2H])[C@@H](OC(=O)C[2H])[C@@H]1OC(=O)C[2H]', 'C=C1[C@@H]2[C@@H](OC=O)[C@H](OC(=O)[C@H](O)[C@@H](C)CC)[C@@]3(C)[C@H](c4ccoc4)CC(=O)[C@]13O[C@@H]1CC(=O)C[C@]3(C)COC(=O)C[C@@H]3[C@@]21C', 'CO[C@@H]1[C@H]2C[C@@H]3C(C)(C)O[C@](CC=C(C)C(=O)O)(C2=O)[C@@]32Oc3c(C[C@H](O)C(C)(C)O)c4c(c(O)c3C(=O)[C@@H]12)C=CC(C)(C)O4', 'C=CC1O[C@H]2C[C@H]3OC[C@@]3(OC(C)=O)[C@H]3[C@H](OC(=O)c4ccccc4)[C@]4(C(C)(C)O)C[C@H](O)C(C)=C4[C@H](OC(C)=O)[C@H](O1)[C@]23C', 'C=C(C)C1(O)CC(C)C2(O)C(C1OC(=O)c1ccccc1)C(O)C(O)(COC(=O)c1ccccc1)C(O)C1(O)C(O)C(C)CC21', 'COc1cc([C@H](OC(C)=O)[C@H]2C(=O)O[C@@H](O[C@@H]3C[C@H](C)CC[C@H]3C(C)C)[C@@H]2C(=O)c2ccc3c(c2)OCO3)cc(OC)c1OC', 'COCOc1cc(OCC(O)CO)cc2c1C(=O)O[C@@H](C)[C@H](C)/C=C\\\\C(OC(=O)c1ccccc1)[C@H]1OC(C)(C)O[C@H]1C/C=C/2', 'CCCCOC(=O)CCC(=O)O[C@@H]1[C@]2(C)C(=C(O)c3c(O)cccc3[C@H]2C)C(=O)[C@@]2(O)C(O)=C(C(C)=O)C(=O)C(C(C)C)[C@@]12C', 'COCOc1cc(OC)cc2c1C(=O)O[C@@H](C)[C@H](C)/C=C\\\\C(OC(=O)c1ccccc1)[C@H]1OC(C)(C)O[C@H]1C(OCOC)/C=C/2', 'COC(=O)C[C@@]1(C)C2(C)C[C@@]3(OC(=O)C(C)C)[C@]1(C)[C@H]1CC[C@]4(C)C(=C1C(=O)[C@@]3(O)[C@H]2OC(C)=O)CC(=O)O[C@H]4c1ccoc1', 'C=C1[C@H](OC(C)=O)[C@H]2[C@@H](OC(=O)c3ccccc3)[C@@H](C)C[C@]2(O)C(=O)[C@@H](C)/C=C/C(C)(C)C(=O)[C@H](OC(C)=O)[C@H]1OC(=O)CC', 'COCOc1cc(OCC(O)CO)cc2c1C(=O)OC(C)[C@H](C)/C=C\\\\C(OC(=O)c1ccccc1)C1OC(C)(C)OC1C/C=C/2', 'CC=C(C)C(=O)O[C@@H]1[C@@H]2C(=O)[C@](C)([C@H]3CC[C@]4(C)[C@@H](CC(=O)O[C@H]4c4ccoc4)[C@]34O[C@H]24)[C@@H]([C@@H](OC(C)=O)C(=O)OC)C1(C)C', 'C/C=C(/C)C(=O)O[C@H]1[C@H]2[C@@H](OC(C)=O)C(C)(C)[C@@H](CC(=O)OC)[C@@]3(C)[C@@H]4CC[C@@]5(C)C(=CC(=O)O[C@@H]5c5ccoc5)C41O[C@@]23O', 'CO[C@H]1O[C@H](CO[C@@]2(CO)O[C@H](CO)[C@@H](O)[C@@H]2O)[C@@H](OCc2ccccc2)[C@H](OCc2ccccc2)[C@@H]1OCc1ccccc1', 'COCCOC(=O)c1ccc(C(=O)OCCOC2CC3CC(OCCOC(=O)c4ccc(C(C)=O)cc4)C2(C)OC3(C)C)cc1', 'COC1C2C(=O)c3c(O)c4c(c(CC(O)C(C)(C)O)c3O[C@@]23[C@H]2C[C@@H]1C(=O)[C@]3(C/C=C(/C)C(=O)O)OC2(C)C)OC(C)(C)C=C4', 'COc1cc(CC(=O)OCC2=C[C@H]3[C@@H]4C(C)(C)[C@]4(OC(C)=O)C(OC(C)=O)[C@@H](C)C3(O)[C@@H]3C=C(C)C(=O)[C@@]3(OC)C2)ccc1O', 'C=C[C@H]1O[C@H]2C[C@H]3OC[C@@]3(OC(C)=O)[C@H]3[C@H](OC(=O)c4ccccc4)C4(C(C)(C)O)C[C@H](O)C(C)=C4[C@H](OC(C)=O)[C@H](O1)[C@]23C', 'C/C=C(\\\\C)C(=O)O[C@@H]1[C@@H]2[C@@H](OC(C)=O)C(C)(C)[C@H](CC(=O)OC)[C@@]3(C)[C@H]4CC[C@]5(C)C(=CC(=O)O[C@H]5c5ccoc5)C14O[C@@]23O', 'C/C=C(\\\\C)C(=O)O[C@H]1C(C)(C)[C@H]([C@@H](OC(C)=O)C(=O)OC)[C@]2(C)C(=O)[C@@]1(O)C=C1[C@@H]3CC(=O)O[C@@H](c4ccoc4)[C@]3(C)CC[C@@H]12', 'COCOc1cc(OCC(O)CO)cc2c1C(=O)O[C@@H](C)[C@H](C)C=CC(OC(=O)c1ccccc1)C1OC(C)(C)O[C@H]1CC=C2', 'CC(=O)O[C@H]1C(=O)[C@@]2(C)C(C(OC(=O)c3ccccc3)[C@]3(O)C[C@H](O)C(C)=C1C3(C)C)[C@]1(OC(=O)C3CCC3)CO[C@@H]1C[C@@H]2O', 'C=C(C)C(=O)OCCCCC(O)COC(=O)c1ccc(Oc2ccc(C(=O)OC(CO)CCCCOC(=O)C(=C)C)cc2)cc1', 'C/C=C(\\\\C)C(=O)O[C@@H]1[C@@H]2C(=O)[C@](C)([C@H]([C@@H](OC(C)=O)C(=O)OC)C1(C)C)[C@H]1CC[C@@]3(C)[C@H](c4ccoc4)OC(=O)C[C@@H]3[C@]13O[C@H]23', 'CO[C@@H]1[C@H]2C[C@@H]3C(C)(C)O[C@](C/C=C(/C)C(=O)O)(C2=O)[C@@]32Oc3c(C[C@@H](O)C(C)(C)O)c4c(c(O)c3C(=O)[C@@H]12)C=CC(C)(C)O4', 'CO[C@H]1O[C@H](COCc2ccccc2)[C@@H](O[C@@H]2O[C@H](CO)[C@H](O)[C@H](O)[C@H]2O)[C@H](OCc2ccccc2)[C@H]1OCc1ccccc1', 'CCCCCCCCCCC=COC(=O)CCC(=O)O.COC(=O)c1ccc(C(=O)OC(=O)c2ccc(C(=O)OC)cc2)cc1', 'CCc1ccc(Cc2cc([C@@H]3O[C@H](COC(C)=O)[C@@H](OC(C)=O)[C@H](OC(C)=O)[C@H]3OC(C)=O)cc(O[C@@H]3CCOC3)c2C)cc1', 'CC[C@@H](C)C(=O)O[C@H]1C[C@@H](C)[C@]23OC(C)(C)[C@H]([C@@H](OC(=O)c4ccoc4)[C@H](OC(=O)c4ccccc4)[C@]2(C)[C@H]1OC(C)=O)[C@H]3O', 'C=C1C2C(OC=O)C(OC(=O)C(O)C(C)CC)C3(C)C(c4ccoc4)CC(=O)C13OC1CC(=O)CC3(C)COC(=O)CC3C12C', 'CC=C(C)C(=O)OC1C2(O)C=C3C4CC(=O)OC(c5ccoc5)C4(C)CCC3C(C)(C2=O)C(C(OC(C)=O)C(=O)OC)C1(C)C', 'C=C1CC2C(C)(C(=O)c3ccoc3)CCC34OC5(C)OC23C(O1)C1(O)C(OC(=O)C(C)C)C2(C)CC1(O5)C4(C)C2CC(=O)OC', 'CO[C@H]1O[C@H](CO[C@H]2O[C@H](CO)[C@@H](O)[C@H](O)[C@@H]2O)[C@@H](OCc2ccccc2)[C@H](OCc2ccccc2)[C@H]1OCc1ccccc1', 'C=CC(=O)C#CCCCCC(=O)C#C[C@H]1C(C)OC[C@@H](OC(=O)CCCCOC(=O)C=C)[C@@H]1OC(=O)CCCCOC(=O)C=C', 'CO[C@H]1OC(CO[C@@H]2OC(CO)[C@@H](O)C(O)C2O)[C@@H](OCc2ccccc2)C(OCc2ccccc2)C1OCc1ccccc1', 'C=CC1OC2[C@@H](OC(C)=O)C3=C(C)[C@@H](O)C[C@@](O)([C@@H](OC(=O)c4ccccc4)[C@@H]4[C@]5(OC(C)=O)CO[C@@H]5C[C@H](O1)[C@@]24C)C3(C)C', 'CC=C(C)C(=O)OC1C2C(OC(C)=O)C(C)(C)C(CC(=O)OC)C3(C)C4CCC5(C)C(=CC(=O)OC5c5ccoc5)C14OC23O', 'CCc1ccc(Cc2cc(C3(O)O[C@H](COC(C)=O)[C@@H](OC(C)=O)[C@H](OC(C)=O)[C@H]3OC(C)=O)cc(OC3CCC3)c2C)cc1', 'C=CC1O[C@H]2CC3OC[C@@]3(OC(C)=O)[C@H]3[C@H](OC(=O)c4ccccc4)[C@]4(O)C[C@H](O)C(C)=C([C@H](OC(C)=O)[C@H](O1)[C@]23C)C4(C)C', 'COC(=O)c1ccc(OCCOCCOCCOCCOCCOCCOc2ccc(C(=O)OCc3ccccc3)cc2)cc1', 'C/C=C(\\\\C)C(=O)O[C@H]1C(C)(C)[C@H]([C@@H](OC(C)=O)C(=O)OC)[C@]2(C)C(=O)[C@@]1(O)C=C1[C@H]3CC(=O)O[C@@H](c4ccoc4)[C@]3(C)CC[C@@H]12', 'CCC(C)C(=O)OC1CC(C)C23OC(C)(C)C(C(OC(=O)c4ccco4)C(OC(=O)c4ccccc4)C2(C)C1OC(C)=O)C3O', 'CO[C@H]1O[C@H](COCc2ccccc2)[C@@H](O[C@@H]2O[C@H](CO)[C@@H](O)[C@H](O)[C@H]2O)[C@H](OCc2ccccc2)[C@H]1OCc1ccccc1', 'CC(=O)OC(c1ccoc1)C1(C)CCC23OC4(C)OC25C1/C(=C(/O)C(C)C)C(=O)OC5C1(O)CC2(C)CC1(O4)C3(C)C2CC=O', 'CCCc1c(OCCOCCOCCOCCOc2ccc3ccc(OCCC(=O)O)cc3c2C(C)=O)ccc(C(C)=O)c1O', 'CCc1ccc(Cc2cc([C@@H]3OC(COC(C)=O)[C@@H](OC(C)=O)[C@H](OC(C)=O)[C@H]3OC(C)=O)cc(O[C@H]3CCOC3)c2C)cc1', 'CC=C(C)C(=O)O[C@@H]1C2C(OC(C)=O)C(C)(C)[C@H](CC(=O)OC)[C@@]3(C)[C@H]4CC[C@]5(C)C(=CC(=O)O[C@H]5c5ccoc5)C14O[C@@]23O', 'CCOc1cc(OCC)c2c(c1)O[C@H](c1cc(O)c(OCC)c(OCC)c1)[C@H](OC(=O)c1cc(O)c(OCC)c(OCC)c1)C2', 'C=CC1O[C@H]2C[C@H]3OC[C@@]3(OC(C)=O)[C@H]3[C@H](OC(=O)c4ccccc4)[C@]4(O)C[C@H](O)C(C)=C([C@H](OC(C)=O)[C@H](O1)[C@]23C)C4(C)C', 'CO[C@@H]1[C@H]2C[C@@H]3C(C)(C)O[C@](C/C=C(/C)C(=O)O)(C2=O)[C@@]32Oc3c(C[C@H](O)C(C)(C)O)c4c(c(O)c3C(=O)[C@@H]12)C=CC(C)(C)O4', 'CO[C@H]1[C@@H](OCc2ccccc2)[C@@H](COCc2ccccc2)O[C@H](O[C@@H]2[C@H](O)[C@@H](O)[C@H](O)O[C@@H]2CO)[C@@H]1OCc1ccccc1', 'COCOc1cc(OCC(O)CO)cc2c1C(=O)O[C@@H](C)[C@H](C)/C=C\\\\C(OC(=O)c1ccccc1)C1OC(C)(C)O[C@H]1C/C=C/2', 'CCOc1cc(O)cc2c1C[C@@H](OC(=O)c1cc(OCC)c(OCC)c(OCC)c1)[C@@H](c1cc(O)c(OCC)c(OCC)c1)O2', 'COC(=O)CC1C2(C)CC34OC5(C)OC67C(CC(=O)OC6C3(CC(=O)C(C)C)C2O)C(C)(C(=O)c2ccoc2)CCC7(O5)C14C', 'CC(=O)OC[C@]1(C)[C@@H]2[C@H](OC(C)=O)[C@@H](C)C(=O)[C@@]34C[C@H](C)[C@H](OC(C)=O)[C@]3(C=C(C)[C@@H](OC(=O)Cc3ccccc3)[C@@H](O)[C@@H]21)O4', 'CC(=O)O[C@H]1C=C([C@H](C)[C@H]2CC(C)=C(C)C(=O)O2)[C@@]2(C)CC[C@H]3[C@@H](C[C@H]4O[C@]45[C@@H](OC(=O)CCC(=O)O)C=CC(=O)[C@]35C)[C@@]12O', 'CC=C(C)C(=O)O[C@@H]1[C@H]2C(=O)[C@](C)([C@H]3CC[C@]4(C)[C@@H](CC(=O)O[C@H]4c4ccoc4)[C@]34O[C@H]24)[C@@H]([C@@H](OC(C)=O)C(=O)OC)C1(C)C', 'C=C(C)C(=O)OCCOCCOCCOC(=O)Oc1ccc(C(=O)Oc2ccc(C(=O)OC3CC(C)CCC3CC)cc2)cc1', 'CCC(=O)OC(C1=CCOC=C1)C1(C)CCC2=C3OC4(C)OC25C1CC(=O)OC5C1(O)CC2(C)CC1(O4)C3(C)C2CC(=O)OC', 'C/C=C(\\\\C)C(=O)O[C@@H]1[C@H]2C(=O)[C@](C)([C@H]3CC[C@]4(C)[C@@H](CC(=O)O[C@H]4c4ccco4)[C@]34O[C@H]24)[C@@H]([C@@H](OC(C)=O)C(=O)OC)C1(C)C', 'C=C1C(=O)O[C@H]2[C@H]1CC/C(C(=O)OCCOCCOC(=O)/C1=C/CC[C@@]3(C)O[C@H]3[C@H]3OC(=O)C(=C)[C@@H]3CC1)=C\\\\CC[C@@]1(C)O[C@@H]21', 'C/C=C(\\\\C)C(=O)O[C@@H]1[C@H]2[C@@H](OC(C)=O)C34O[C@]2(O)[C@@](C)([C@@H](CC(=O)OC)C1(C)C)[C@H]3CC[C@]1(C)C4=CC(=O)O[C@H]1c1ccoc1', 'C=C1C(=O)O[C@@H]2[C@H]3O[C@]3(C)CC/C=C(/C(=O)OCCOCCOC(=O)/C3=C/CC[C@@]4(C)O[C@@H]4[C@H]4OC(=O)C(=C)[C@@H]4CC3)CC[C@@H]12', 'COC(=O)C[C@@]1(C)C2(C)C[C@@]3(O)[C@]1(C)[C@H]1CC[C@]4(C)C(=C1C(=O)[C@@]3(OC(=O)C(C)C)[C@H]2OC(C)=O)CC(=O)O[C@H]4c1ccoc1', 'CO[C@@H]1[C@H]2C[C@@H]3C(C)(C)O[C@](C/C=C(/C)C(=O)O)(C2=O)[C@@]32Oc3c(CC(O)C(C)(C)O)c4c(c(O)c3C(=O)[C@@H]12)C=CC(C)(C)O4', 'C/C=C(\\\\C)C(=O)O[C@H]1C(C)(COC(C)=O)[C@H](CC(=O)OC)[C@]2(C)C(=O)[C@@]1(O)C=C1C3CC(=O)O[C@@H](c4ccoc4)[C@]3(C)CC[C@@H]12', 'CC(=O)OC1=C2C(C)[C@@H](O)C[C@@](O)(C(OC(=O)c3ccccc3)C3[C@](C)(C1=O)[C@@H](O)C[C@H]1OC[C@@]31OC(=O)C1CCC1)C2(C)C', 'C/C=C(\\\\C)C(=O)O[C@@H]1[C@@H]2C(=O)[C@](C)([C@H]3CC[C@]4(C)[C@@H](CC(=O)O[C@H]4c4ccoc4)[C@]34O[C@H]24)[C@@H]([C@H](OC(C)=O)C(=O)OC)C1(C)C', 'C/C=C(\\\\C)C(=O)O[C@H]1C(C)(C)[C@H](CC(=O)OC)[C@]2(C)C(=O)[C@@]1(OC(C)=O)C[C@@]1(O)C3=CC(=O)O[C@@H](c4ccoc4)[C@]3(C)CC[C@H]21', 'CC=C(C)C(=O)O[C@H]1C(C)(C)[C@H]([C@@H](OC(C)=O)C(=O)OC)[C@]2(C)C(=O)[C@@]1(O)C=C1[C@H]3CC(=O)O[C@@H](c4ccoc4)[C@]3(C)CC[C@@H]12', 'CO[C@H]1O[C@H](COCc2ccccc2)[C@@H](OCc2ccccc2)[C@H](OCc2ccccc2)[C@H]1O[C@@H]1O[C@H](CO)[C@@H](O)[C@H](O)[C@H]1O', 'CO[C@H]1O[C@H](CO)[C@@H](OCc2ccccc2)[C@H](O[C@H]2O[C@H](CO)[C@H](O)[C@H](O)[C@H]2OCc2ccccc2)[C@H]1OCc1ccccc1', 'CC(=O)O[C@@H]1[C@H]2[C@@H](OC(=O)Cc3ccccc3)[C@@H](C)C[C@]2(OC(C)=O)C(=O)[C@@]2(C)[C@@H]3[C@@H](OC=O)C(C)(C)[C@H]3CC[C@@]12COC=O', 'CC1=C2C(=CC=C1)OC(=O)C3(C2=O)C(C(=O)CC3(C)C=C)C(CO)COC(=O)C', 'C=C(C)C(=O)OC1C2CC3C(=O)OC1C3C2.C=C(C)C(=O)Oc1ccc(O)cc1', 'COCCOCOc1ccc(C(=O)CCC(=O)c2ccc3c(c2)OCCO3)cc1', 'COc1ccc(-c2cccc3c2COC3=O)c(OCCOC(=O)C(C)C)c1OC', 'COc1cc(/C=C2\\\\Cc3cc(OC)c(OC)c(OC)c3C2=O)cc(OC)c1OC', 'CCOc1cc(-c2oc3cc(OC)cc(OCC)c3c(=O)c2OC)ccc1OC', 'O=C(OCc1ccccc1)OC[C@H]1[C@H](O)CC[C@@H]1OC(=O)OCc1ccccc1', 'C.COc1cc(/C=C/C(=O)COC(=O)/C=C/c2ccc(O)c(OC)c2)ccc1O', 'COC1=CC2=C(C(OC(C)=O)CC(C)(C)O2)C2Oc3c(OC)cccc3C(=O)C12', 'COc1cc(CC2=COC(=O)C2Cc2cc(OC)c(OC)c(OC)c2)ccc1O', 'COc1c2ccoc2c(OCC=C(C)CC=CC(C)(C)OO)c2oc(=O)ccc12', 'COC(=O)[C@H]1C(OC)c2ccc(O)c(OC)c2C(c2ccccc2)[C@@H]1C(=O)OC', 'COc1cc(C(=O)c2coc3c(OC(C)C)c(OC)ccc23)cc(OC)c1OC', 'CC(=O)OC1CC(OC(=O)c2ccccc2C#CC2CC2)OC(C)[C@]1(O)C(C)=O', 'COc1c(OC)c2c(c(O)c1[C@H](C)CO)C(=O)c1oc(=O)c(C)c3c1[C@]2(C)CC3', 'COC1=C(OC)C(=O)[C@]23COc4c5c(cc(c42)[C@@H]2O[C@@]3(C1)C[C@@H](C)[C@H]2C)OCO5', 'COc1ccc(CC2C(=O)OC(=O)C2Cc2ccc(OC)c(OC)c2)cc1OC', 'Cc1cc(=O)c2c(O)c3c(cc2o1)OC(C)(C)[C@@H]1OC(=O)[C@]2(CCC[C@H]31)O[C@@H]2C', 'COc1ccc(C=CC(=O)O[C@@H](C)C(=O)[C@H]2C[C@@H]2[C@H](O)[C@H]2CC=CC(=O)O2)cc1', 'COc1cc([C@H]2c3cc4c(cc3[C@@H](O)[C@H]3COC[C@H]23)OCO4)cc(OC)c1OC', 'COc1cc(C2Oc3cc(OC)c(CC=C(C)C)c(O)c3C(=O)C2O)ccc1O', 'CC(C)(C)OC(=O)CC(=O)OC1CC2=C(OC1(C)C)c1ccccc1C(=O)C2=O', 'CCOc1ccc(C(=O)[C@H](C)OC(=O)COc2ccc(C(C)=O)cc2OC)cc1', 'CC(=O)O[C@H]1O[C@H](c2ccoc2)C[C@@]12C1CCC=C3C(=O)OC[C@]31CC(=O)[C@@H]2C', 'COc1ccc(-c2oc3c(CCC(C)(C)OC)c(O)cc(O)c3c(=O)c2O)cc1', 'COc1ccc(C=C2Cc3cc(OC)c(OC)c(OC)c3C2=O)c(OC)c1OC', 'COC(=O)c1coc2c(O)c3c(c(O)c12)C(=O)C(OC)=C1C(C)(C)CCC[C@@]13C', 'CC=Cc1ccc(C(=O)OC)c(C)c1O.COC(=O)c1ccc(C=O)c(O)c1C', 'C=C(C)C1=CC(C(=O)OC)(C(=O)OC)C/C1=C(/C(=O)OC)c1ccc(OC)cc1', 'COc1cc([C@@H]2c3cc4c(cc3[C@@H](O)[C@H]3COC[C@H]23)OCO4)cc(OC)c1OC', 'CC(=O)OCOC(COC(=O)Cc1ccccc1)COC(=O)Cc1ccccc1', 'CC1(C)O[C@H]2[C@@H](O1)[C@H](C(=O)Oc1ccc3ccccc3c1)O[C@H]1OC(C)(C)O[C@@H]12', 'CC=Cc1ccc(OCC(=O)OCC(=O)c2ccc(OC)cc2OC)c(OC)c1', 'CC=CC1=CC2=C(CO1)C(=O)[C@](C)(O)[C@@H](OC(=O)c1c(C)cc(OC)cc1O)C2', 'COC(=O)/C=C/c1ccc(OC(=O)CCCOc2ccc(OC)cc2)c(OC)c1', 'CC(=O)O[C@@H]1C[C@@H](C)[C@]2(C[C@@H](c3ccoc3)OC2=O)[C@H]2CCC=C3C(=O)OC[C@]321', 'CC1(C)O[C@H]2[C@@H](O1)[C@@H](C(=O)Oc1ccc3ccccc3c1)O[C@H]1OC(C)(C)O[C@@H]12', 'CCO[C@@H]1O[C@@H]2COC(c3ccccc3)O[C@@H]2[C@H](O)[C@H]1OC(=O)c1ccccc1', 'COc1ccc([C@@H]2OC[C@@H]3O[C@@H](OC)[C@@H](OCc4ccccc4)C(=O)[C@@H]3O2)cc1', 'CCCc1cc(C(=O)OC)ccc1Oc1c(CC(=O)OCC)ccc2c1OCO2', 'COc1c2c(cc3c1[C@H]1C(=CC4=C(OCO4)[C@H]1OC)[C@H]1O[C@@H]3[C@H](C)[C@@H]1C)OCO2', 'COc1cc([C@@H]2c3cc4c(cc3[C@H]3OC[C@@H]2C3CO)OCO4)cc(OC)c1OC', 'COc1ccc(C[C@H]2C(=O)OC[C@H]2Cc2cc(OC)c3c(c2)OCO3)cc1OC', 'CCOC1Oc2cccc(OC(=O)c3ccc(OC(=O)C(C)(C)CC)cc3)c2O1', 'COCOc1cc(CC(=O)O)c(-c2cccc(C=CC(C)=O)c2)c(OCOC)c1', 'COC[C@H]1OC(=O)c2coc3c(O)c4c(c1c23)CCC1(C)[C@H]4CCC12OCCO2', 'Cc1ccccc1C(=O)[C@@]1(O)[C@@H](C(=O)C(O)c2ccccc2C)O[C@H](O)[C@]1(C)O', 'CC(=O)O[C@H]1C[C@]23COC(=O)C2=CCC[C@@H]3[C@@]2(C[C@H](c3ccoc3)OC2=O)[C@@H]1C', 'COc1ccc(C(=O)C2C(C(=O)O)C2c2cc(OC)c(OC)c(OC)c2)cc1C', 'CO[C@H]1O[C@H](COC(=O)c2ccccc2)[C@H](OC(=O)c2ccccc2)[C@]1(C)OC', 'C#CC(OCc1ccccc1)C(C)(C)C(=O)CC(=O)C1C(=O)OC(C)(C)OC1=O', 'CCOOc1c(C)cc(C(C)=O)cc1-c1cc(C(C)=O)cc(CO)c1C.O=C=O', 'COc1c2ccoc2c(OC/C=C(/C)COC(=O)CC(C)C)c2oc(=O)ccc12', 'C=C(C)[C@@H]1Cc2oc(cc2C=O)[C@@H]2O[C@@]2(C)C[C@@H]2C=C(C(=O)O2)[C@@H](OC(C)=O)C1', 'COC1=C(OC)C(=O)[C@]23C(=C1)C[C@@H](C)[C@]2(C)[C@@H](O)c1cc2c(c(OC)c13)OCO2', 'COc1c2c(cc3c1-c1c(cc4c(c1OC)OCO4)[C@@H](O)[C@H](C)[C@H](C)C3)OCO2', 'COC1=C(OC)C(=O)C23C(=C1)C[C@@H](C)[C@]2(C)Cc1c(O)c2c(c(OC)c13)OCO2', 'COc1cc2c(c(OC)c1O)C1OC(c3cc4c(c(OC)c3-2)OCO4)C(C)C1C', 'CCOc1ccc(Oc2cc(=O)c3c(OCC)c(OC)c(OCC)cc3o2)cc1', 'COc1ccc(C2OC[C@H]3O[C@H](OC)[C@H](OCc4ccccc4)C(=O)[C@@H]3O2)cc1', 'CCOCOc1ccccc1/C=C1\\\\COc2cc(OC)c(OC)c(OC)c2C1=O', 'CC(=O)O[C@@H]1C[C@@]23COC(=O)C2=C[C@H](O)C2c4occc4C(=O)C[C@@](C)([C@@H]1C)[C@@H]23', 'COc1ccc([C@@H]2OC[C@H]3[C@H]2CO[C@@H]3c2cc(OC)c3c(c2)OCO3)cc1OC', 'CCC(C)C(=O)c1c(O)cc(O)c2c1oc1c(C(=O)C(C)CC)c(O)cc(O)c12', 'CCCOC(=O)COc1c(-c2cccc3c2COC3=O)ccc(OC)c1OCC', 'CC(=O)OC1C=C2OCO[C@]23Oc2cc4c(cc2[C@@H]2[C@@H](C)[C@H](C)C[C@@H]1[C@@H]23)OCO4', 'CC(=O)OCC(O)(C(O)C(=O)Cc1ccccc1)C(O)C(=O)Cc1ccccc1', 'CCOC(=O)COc1ccc2c(c1)C(=O)C(C)C(c1ccc(OC)c(OC)c1)O2', 'CC(C)(CCCCOc1ccc2c(c1)OCO2)C(=O)Oc1ccc2c(c1)OCO2', 'COCCOCC(=O)Oc1c(-c2ccc3c(c2)CCC3=O)ccc(OC)c1OC', 'COc1cc([C@@H]2OC[C@H]3[C@@H]2CO[C@@H]3c2ccc3c(c2)OCO3)cc(OC)c1OC', 'COc1cc(C[C@H]2CO[C@H](c3ccc4c(c3)OCO4)[C@H]2COC(C)=O)ccc1O', 'CCCOc1ccc(-c2cc(=O)c3c(OC)c(OC)c(OC)c(OC)c3o2)cc1', 'C/C=C/C1=CC2=C(CO1)C(=O)[C@@](C)(O)C(OC(=O)c1c(C)cc(O)cc1OC)C2', 'C#Cc1ccc(Cc2ccc(OC)cc2)c(O[C@@H]2O[C@H](CO)[C@@H](O)[C@H](O)[C@H]2O)c1', '[2H]C[C@]1(O)C(O)O[C@H](COC(=O)c2ccc(C)cc2)[C@H]1OC(=O)c1ccc(C)cc1', 'C=Cc1cc(OC)c(OC)c(OCOCOC)c1-c1cccc(C(=C)C(=O)O)c1', 'C=CC(=O)OCCOCCOCCOc1ccc(-c2ccc(C(=O)O)cc2)cc1', 'COc1cc2c(c(O)c1OC)-c1c(cc3c(c1OC)OCO3)CC1COC2C1C', 'C=C(C)C(=O)OC1C2CC3C1OC(=O)C3C2C(=O)OC1C2CC3C(=O)CC1C3C2', 'CC(=O)O[C@@H]1[C@@]2(C(C)C)O[C@H]2[C@@H]2O[C@@]23[C@@]2(C)CCC4=C(COC4=O)C2=C2C[C@@]13O2', 'CC[C@@]1(O)CCc2c(cc3cc4c(c(O)c3c2O)C(=O)CC[C@H]4O)[C@H]1C(=O)OC', 'COc1c2c(cc3c1-c1c(cc4c(c1O)OCO4)[C@H](OC)[C@@H](C)[C@@H](C)C3)OCO2', 'COc1c2c(cc3c1-c1c(cc4c(c1OC)OCO4)[C@H](O)[C@H](C)[C@H](C)C3)OCO2', 'COc1cc2cc3c(c(OC)c2c(OC)c1/C(C(C)=O)=C(\\\\C)O)C(=O)OC(C)C3', 'COC(=O)/C=C/CC(c1cc(OC)ccc1OC)c1cccc(OC)c1C(=O)O', 'C=CCC12C=C(OC)C(=O)C(OC)=C1OC(C)C2c1cc(OC)c2c(c1)OCO2', 'CCOC(=O)COc1ccc(/C=C/C(=O)c2cc(OC)c(OC)c(OC)c2)cc1', 'COC[C@H]1OC(=O)c2coc3c2C1C1=C(C3=O)[C@@H]2CCC3(OCCO3)C2(C)CC1', 'COc1cc([C@H]2CC(COC(=O)/C=C\\\\c3ccc(O)cc3)CO2)cc(OC)c1O', 'COc1cc2c(c(OCc3ccccc3)c1C[C@H]1O[C@@]1(C)CO)C(OC)OC2=O', 'COc1cc([C@@H]2c3cc4c(cc3[C@@H]3OC[C@@H]2[C@H]3CO)OCO4)cc(OC)c1OC', 'COc1cc([C@H]2OC[C@@H]3[C@@H]2CO[C@H]3c2ccc3c(c2)OCO3)cc(OC)c1OC', 'CCC(=O)OCCCCOC(=O)Oc1ccc(C(=O)Oc2ccc(C)cc2)cc1', 'COc1ccc(C(O)(C(=O)O)c2cccc(OCCCCC3OC=CO3)c2)cc1', 'COc1ccc(C2(O)COc3cc(O)cc(O)c3C2=O)c(OC)c1C(C)=C(C)C', 'CC1(C)O[C@@H]2O[C@H](C(=O)Oc3cccc4ccccc34)[C@@H]3OC(C)(C)O[C@@H]3[C@@H]2O1', 'COc1cc(C(=O)O)ccc1COc1ccc(C(C)=O)c(O)c1CCCC(C)=O', 'COc1cc2c(c(OC)c1OC)C1C=C3OCOC3=CC1C[C@@H]1COC(=O)[C@H]1C2', 'COC(=O)C1=C(c2ccc(OC)c(OC)c2)OC(c2ccc(OC)c(OC)c2)C1', 'COc1ccc(C(=O)C(C)OC(=O)/C=C/c2cc(OC)c(OC)cc2OC)cc1', '[2H]C([2H])Oc1ccc(-c2ccc3c(c2)COC3=O)c(OCC(C)(C)C(=O)OC)c1OC([2H])[2H]', 'COc1cc2c(cc1OC)-c1cc(OC)c(OC)cc1[C@@H](O)[C@H]1COC(=O)[C@@H]1C2', 'Cc1cc(O)c2c3c1OC(C)(C)[C@H](O)CO[C@]31Oc3cccc(O)c3[C@@]2(O)[C@H]1C', 'COC1=C(OC)C(=O)C23C(=C1)CC(C)C2(C)C(O)c1cc2c(c(OC)c13)OCO2', 'CC(=O)OC1C2C(=C(C)C(=O)O[C@@H]2c2ccoc2)[C@]2(C)C1[C@]1(C)CC[C@H]2OC1=O', 'CC(=O)O[C@@]12C=C[C@@H](OC1=O)[C@H]1[C@]3(C)C[C@H](c4ccoc4)OC(=O)[C@@H]3CC[C@]12C', 'O=C1OC[C@@]2(O)[C@H](OCc3ccccc3)[C@@H](COCc3ccccc3)O[C@@]12CO', 'COc1ccc2c(C)cc(=O)oc2c1COC(=O)[C@@]12CC[C@@](C)(C(=O)O1)C2(C)C', 'COC(=O)CCc1cc(OC)c2oc(-c3ccc(OC)c(OC)c3)c(CO)c2c1', 'CCOC(=O)[C@@H]1C[C@H](C)[C@@H]2OC(=O)O[C@@]1(c1ccoc1)[C@H]2OCc1ccccc1', 'Cc1ccc(C(=O)OCC2OC(O)C(C)(O)C2OC(=O)c2ccc(C)cc2)cc1', 'COc1cc([C@H]2O[C@@H](c3cc(OC)c4c(c3)OCO4)[C@@H](C)[C@@H]2C)cc2c1OCO2', 'COC(=O)C1(Cc2cc(OC)c(OC)c(OC)c2)CC(=O)OC1c1ccccc1', 'COc1ccc(-c2oc3c(CC(O)C(C)C)c(O)cc(O)c3c(=O)c2OC)cc1', 'COc1ccc(/C=C/C(=O)O[C@@H](C)C(=O)[C@H]2CC2[C@H](O)[C@H]2CC=CC(=O)O2)cc1', 'C[C@]1(CO)O[C@@](C)(CO)[C@H](OC(=O)c2ccccc2)[C@@H]1OC(=O)c1ccccc1', 'COc1ccc(C(=O)[C@H]2COC[C@@H]2C(=O)c2ccc(OC)c(OC)c2)cc1OC', 'C#Cc1ccc(Cc2ccc(OC)c([C@@]3(O)O[C@H](CO)[C@@H](O)[C@H](O)[C@H]3O)c2)cc1', 'CCCc1c(OCCCOc2ccc(C(=O)C(=O)O)cc2)ccc(C(C)=O)c1O', 'CCCOC1OCC(O)C(OC(=O)c2ccccc2)C1OC(=O)c1ccccc1', 'CCCc1cc(C(=O)OC)ccc1OC(C(=O)OCC)c1ccc2c(c1)OCO2', 'COc1cc([C@H]2c3cc4c(cc3C[C@H]3COC(O)[C@@H]32)OCO4)cc(OC)c1OC', 'C#Cc1ccc(Cc2cc([C@]3(O)O[C@H](CO)[C@@H](O)[C@H](O)[C@H]3O)ccc2OC)cc1', 'COc1c2c(cc3c1-c1c(cc4c(c1OC)OCO4)C(O)C(C)C(C)C3)OCO2', 'COc1ccc(-c2cccc3c2COC3=O)c(OCC(=O)OCC(C)C)c1OC', 'COC(=O)[C@H](OC(=O)c1ccccc1)[C@@H](OC(=O)c1ccccc1)OC(C)(C)C', 'CCCCC(=O)c1c(C/C=C/COC(C)=O)cc2c(c1O)C(=O)C=C(OC)C2=O', 'COCCOc1ccc(C(=O)/C=C/c2cccc(OC(C)C(=O)O)c2)cc1OC', 'CCC.Cc1ccc(OCC(O)COC(=O)c2ccc3c(c2)C(=O)OC3=O)cc1', 'COc1ccc(-c2c(C3OC(=O)C(C)C3C)cc3c(c2OC)OCO3)cc1OC', 'COC1=C(C)C(=O)c2c(cc(O)c3c2O[C@H](C)[C@]3(C)[C@@H]2CC=C(C)[C@H](O)O2)C1=O', 'COC(=O)C1Cc2ccc(OC)c(OC)c2-c2cc3c(cc2CC1OC)OCO3', 'CCCc1c(OCC2COc3cc(CC(=O)O)ccc3O2)ccc(C(C)=O)c1O', 'CC(=O)OC1C2C(=C(C)C(=O)O[C@@H]2c2ccoc2)[C@@]2(C)CC3CC(C)(C(=O)O3)C12', 'CCCOCCOC(=O)C/C(=C(\\\\CC(=O)O)C(=O)O)c1cccc2ccccc12', 'COc1cc(C2CC(OC(=O)c3ccccc3)C(C)C(=O)O2)cc(OC)c1OC', 'C/C=C(/C)CC(=O)O[C@H]1[C@@H](OC(C)=O)c2c(ccc3ccc(=O)oc23)OC1(C)C', 'CCOC(=O)COc1cc(OC)cc(OC)c1C(=O)C=Cc1ccc(OC)cc1', 'CCCOCCOC(=O)CC(C(=O)O)C(=Cc1cccc2ccccc12)C(=O)O', 'COC1O[C@H]([C@H](C)OC(=O)c2ccccc2)[C@@H](OC(=O)c2ccccc2)[C@@]1(C)O', 'O=C1OC[C@]2(O)[C@H](OCc3ccccc3)[C@@H](COCc3ccccc3)O[C@]12CO', 'COc1ccc([C@@H]2OC[C@H]3[C@H]2CO[C@H]3c2cc(OC)c3c(c2)OCO3)cc1OC', 'COc1cc([C@@H]2c3cc4c(cc3O[C@@]3(O)CCC[C@H]23)OCO4)cc(OC)c1OC', 'COC(=O)C1=CC=CC2C1(C(=O)OC)CCC(C)C21CC(c2ccoc2)OC1=O', 'CC(O)(CC(=O)O)CC(=O)OCCC(C(=O)O)(c1ccccc1)c1ccccc1', 'COc1cc(/C=C/C(=O)c2ccc(OCCCC(=O)O)cc2)cc(OC)c1OC', 'O=C(O)CCc1cc(CCC(=O)O)c(OCc2ccccc2)c(CCC(=O)O)c1', 'COc1c2c(cc3c1-c1c(cc4c(c1OC)OCO4)[C@H](O)[C@H](C)[C@@H](C)C3)OCO2', 'CCOC1OC2COC(c3ccccc3)OC2C(O)C1OC(=O)c1ccccc1', 'CCOC(=O)/C(=C\\\\c1c(OC)cc(OC)cc1OC)C(=O)c1cccc(OC)c1', 'C=CCC1=C[C@]2(OC)C(=O)[C@](OC)(C1=O)[C@H](c1cc(OC)c3c(c1)OCO3)[C@H]2C', 'CC(=O)O[C@@H]1C[C@@]23COC(=O)C2=C[C@H](O)[C@H]2c4occc4C(=O)C[C@@](C)([C@@H]1C)[C@@H]23', 'COC1=C(OC)C(=O)[C@@]23C(=C1)C[C@@H](C)[C@@]2(C)[C@@H](O)c1cc2c(c(OC)c13)OCO2', 'COc1cc(C[C@H]2COC(=O)[C@@H]2Cc2ccc3c(c2)OCO3)cc(OC)c1OC', 'C/C=C/C1=CC2=C(CO1)C(=O)[C@](C)(O)[C@@H](OC(=O)c1c(C)cc(OC)cc1O)C2', 'COc1cc2oc(-c3ccc(O)c(O)c3)cc(=O)c2c(OC)c1OCCC(C)C', 'COc1cc(CC2C(=O)OC[C@@H]2Cc2ccc3c(c2)OCO3)cc(OC)c1OC', 'CC(C)(C)OC(=O)C(=Cc1ccc(C(=O)OCc2ccccc2)o1)CCC(=O)O', 'COc1ccc(C(=O)[C@@H](C)OC(=O)/C=C/c2cc(OC)c(OC)c(OC)c2)cc1', 'CC(=O)OC(CC(C)(C)C(=O)C=C(C)C)C1=CC(=O)c2c(O)ccc(O)c2C1=O', 'COc1ccc(C2=C(c3cc(OC)c(OC)c(OC)c3)C(=O)CC2O)cc1OC', 'CCCOc1ccc2c(c1)[C@@H](OCCO)[C@H](C(=O)O)[C@H]2c1ccc2c(c1)OCO2', 'COc1ccc([C@@H]2Oc3ccc(C)cc3[C@@H](OC(C)=O)[C@@H]2OC(C)=O)cc1OC', 'O=C1OC(=O)C2C3CCC(=O)C4(CCCC(C3)C12)CC1CC4C2C(=O)OC(=O)C12', 'COC(O[C@H]1[C@@H]2O[C@H]3O[C@H]([C@H](O)[C@@H]1O3)[C@H]2OCc1ccccc1)c1ccccc1', 'COc1cc(C[C@@H]2C(=O)OC[C@@H]2Cc2ccc3c(c2)OCO3)cc(OC)c1OC', 'COc1c(O)c(OC(=O)CC(C)C)c(OC)c(C(=O)/C=C/c2ccccc2)c1O', 'CCCCOc1cc2oc(Oc3ccc(OC)cc3)cc(=O)c2c(OC)c1OC', 'COc1ccc(C(=O)/C(=C/Cc2cc(OC)c(OC)c(OC)c2)C(=O)O)cc1C', 'COc1ccc(C[C@@H]2C(=O)OC[C@@H]2Cc2cc(OC)c3c(c2)OCO3)cc1OC', 'COc1cc(C)c(COC(=O)/C=C/c2cc(OC)c3c(c2)OCCO3)cc1OC', 'COc1cc(O)c2c(c1)-c1cccc(c1)[C@H](O)[C@H](O)C(=O)CCC[C@H](C)OC2=O', 'CC(=O)OC1CC2C(=O)OC(c3ccoc3)CC2(C)C2CC=CC3C(=O)OCC132', 'COc1ccc([C@@H]2Oc3cc(O)cc(O)c3C(=O)[C@H]2O)c(OC)c1CC=C(C)C', 'C#Cc1ccc([C@]2(O)O[C@H](CO)[C@@H](O)[C@H](O)[C@H]2O)cc1Cc1ccc(OC)cc1', 'C=C(C)C(=O)OCCCCOc1ccccc1.O=C(O)c1ccc(C(=O)O)cc1', 'C[C@@H]1[C@@H](O)[C@H](Oc2ccc3c(c2)OC(c2ccccc2)CC3=O)O[C@H](CO)[C@H]1O', 'COC(=O)c1ccc2c(c1C)O[C@@H](COC(=O)[C@](C)(OC)c1ccccc1)CO2', 'COC(=O)c1cccc(-c2cccc(OCCCCC(=O)CO)c2C(=O)OC)c1', 'C=C(CC(O)C(=O)OCc1ccc(OC)cc1)C(=O)OCc1ccc(OC)cc1', 'COc1c(O)cc2c(c1OC)-c1c(cc3c(c1OC)OCO3)C1OC2C(C)C1C', 'COc1ccc(C(=O)COC(=O)c2ccc(OCC3CCCO3)cc2)c(OC)c1', 'C=C(C=O)C(COC(C)=O)C(c1ccc(O)c(OC)c1)c1ccc(O)c(OC)c1', 'COc1ccc(CO[C@@H]2C(=O)[C@@H](OC)O[C@@H]3CO[C@@H](c4ccccc4)O[C@@H]23)cc1', 'COc1cc(O)c2c(c1)-c1cccc(c1)[C@@H](O)[C@H](O)[C@H](O)/C=C\\\\C[C@H](C)OC2=O', 'COCCOc1ccc(C(=O)Oc2ccc(C(=O)OCC3CCCO3)cc2)cc1', 'C#Cc1ccc(Cc2c(OC)cccc2[C@@]2(O)O[C@H](CO)[C@@H](O)[C@H](O)[C@H]2O)cc1', 'CC(=O)OC1C[C@]2(C)C(=O)CCC2C2C(=O)c3occ4c3[C@@](C)(C12)[C@@H](C)OC4=O', 'CCOC(=O)OC(COCCCc1ccc2ccccc2c1)C1=CC(=O)OC1O', 'CC(=O)O[C@@H]1[C@H](OCc2ccccc2)[C@@H](OC(=O)c2ccccc2)[C@H](C)O[C@H]1O', 'CCCCCCCOC(=O)Oc1ccccc1C(=O)OOC(=O)c1ccccc1', 'COc1ccc([C@H]2Oc3ccc(C)cc3[C@@H](OC(C)=O)[C@@H]2OC(C)=O)cc1OC', 'COc1cc([C@@H]2OC(=O)[C@H](C)[C@@H]2C)c(-c2ccc3c(c2)OCO3)c(OC)c1OC', 'COc1c(C)c(O)c2c(c1OC)OCC(Cc1ccc3c(c1)OC(C)(C)O3)C2=O', 'CC(C)COC(=O)CC(=O)OC1CC2=C(OC1(C)C)c1ccccc1C(=O)C2=O', 'COc1ccc([C@@H]2OC[C@@H]3O[C@H](OC)[C@@H](OCc4ccccc4)C(=O)[C@@H]3O2)cc1', 'COc1cc(C2OC(=O)[C@H](C)[C@H]2C)c(-c2ccc3c(c2)OCO3)c(OC)c1OC', 'COc1cc([C@@H]2OC[C@@H]3[C@H]2CO[C@@H]3c2ccc3c(c2)OCO3)cc(OC)c1OC', 'COc1ccc([C@H]2c3c(cc(OC)c(O)c3OC)C=C(C=O)[C@@H]2CO)cc1OC', 'COc1ccc(C2(O)COc3cc(O)cc(O)c3C2=O)c(OC)c1CC=C(C)C', 'COc1cc([C@@H]2OC[C@H]3[C@H]2CO[C@@H]3c2ccc3c(c2)OCO3)cc(OC)c1OC', 'CO[C@H]1O[C@@H]2CO[C@H](c3ccccc3)O[C@@H]2[C@H](OCOCc2ccccc2)C1=O', 'COC(=O)c1c(O)cc(C)cc1-c1cccc([C@H]2OC(C)(C)O[C@@H]2C(=O)OC)c1', 'Cc1cc(O)cc(O)c1.Cc1cccc(O)c1C(=O)O.Cc1cccc(O)c1O', 'C/C=C/c1ccc(OCC(=O)OCC(=O)c2cc(OC)ccc2OC)c(OC)c1', 'CCOc1cc(C)c(COc2cc(C)ccc2CCC(=O)O)cc1C(=O)C(=O)O', 'CCOC1c2c(cc(O)c3c2OC(c2ccc(O)cc2)=CC3O)OC(C)(C)C1O', 'COC[C@H]1OC(=O)c2c(C)oc3c2C1(C)C1=C(C3=O)[C@@H]2CCC(=O)C2(C)C[C@H]1O', 'C=C1C(=O)O[C@H]2C=C(C)[C@@H](OC(C)=O)CC=C(C)[C@H](C(=O)c3ccco3)[C@@H](O)C12', 'CC(C)(Oc1ccc(OCc2ccc(C(=O)O)cc2)cc1C=O)C(C)(C)C(=O)O', 'CC(=O)OC12CC=CC3C(=O)OCC31CCC1C(=O)OC(c3ccoc3)CC12C', 'COC[C@@H]1[C@@H](COC)[C@H](c2ccc3c(c2)OCO3)O[C@H]1c1ccc2c(c1)OCO2', 'CC[C@H]1O[C@H](OC)[C@H](OC(=O)c2ccccc2)[C@@H](OC(=O)c2ccccc2)[C@H]1O', 'COc1ccc2c(c1)OC[C@@]1(C(=O)c3ccc(OC)c(OC)c3)OC(C)(C)O[C@@H]21', 'COc1ccc(C(=O)COC(=O)c2ccc(OCC3CCCO3)cc2)cc1OC', 'COc1ccc([C@@H]2c3cc(OC)c(OC)cc3C[C@H]3COC(=O)[C@]32O)cc1OC', 'COC1=C(OC)C(=O)C2=C(CCC(CCOc3ccc4c(c3)OCO4)CC2)C1=O', 'COc1cc2c(c(O)c1OC)-c1c(cc3c(c1OC)OCO3)C[C@H]1CO[C@@H]2[C@@H]1C', 'COc1ccc([C@@H]2Oc3ccc(C)cc3[C@H](OC(C)=O)[C@@H]2OC(C)=O)cc1OC', 'C=CCOC(=O)C1=CC(c2coc3ccccc3c2=O)CC(OCCCCO)O1', 'C=C1[C@@H](O)O[C@@H]2c3oc(cc3C)/C=C(/C)C[C@H]3C=C(C(=O)O3)[C@H](OC(C)=O)C[C@@H]12', 'CCOC(=O)[C@@H](O)[C@@H]1OC(=O)[C@H](OCc2ccccc2)[C@H]1OCc1ccccc1', 'C=C1C(=O)O[C@@H]2C3=C(C)C=CC3=C(C)[C@@H](OC(=O)[C@@]3(C)O[C@@H]3C)[C@H](OC(C)=O)[C@@H]12', 'CO.COc1cc(/C=C/C(=O)CC(=O)/C=C/c2ccc(O)c(OC)c2)ccc1O', 'O=C(CC(=O)OC(C(=O)Cc1ccccc1)C(O)(CO)CO)Cc1ccccc1', 'Cc1ccc(/C=C\\\\C(=O)c2c(O)cccc2[C@@H]2O[C@H](CO)[C@@H](O)[C@H](O)[C@H]2O)cc1', 'C=C(C)[C@@H](CCC(C)=CCOc1c2occc2c(OC)c2ccc(=O)oc12)OO', 'CO[C@H]1O[C@H](C)[C@@H](CO)[C@H](OC(=O)c2ccccc2)[C@H]1OC(=O)c1ccccc1', 'COc1ccc(-c2oc3c(OC)c(C)c(C)c(OC)c3c(=O)c2OC)cc1OC', 'COC(=O)[C@@H]1O[C@@H](C(=O)OC)[C@@H](OCc2ccccc2)[C@@H]1OCc1ccccc1', '[2H]C([2H])([2H])Oc1ccc(-c2ccc3c(c2)COC3=O)c(OCC(C)(C)C(=O)OC)c1OC', 'COc1cc([C@H]2O[C@@H](c3cc(OC)c4c(c3)OCO4)[C@H](C)[C@H]2C)cc2c1OCO2', 'COc1ccc(C[C@H]2C(=O)OC[C@@H]2Cc2cc(OC)c3c(c2)OCO3)cc1OC', 'Cc1c(C(=O)OOC(=O)c2ccc3ooc3c2C)cccc1C(C)(C)CC(C)O', 'C=COC(=O)c1cc(OC)cc(Oc2cc(OC)cc(C(=O)OCC)c2C)c1C', 'CCC(=CC(=Cc1ccccc1)C=C(C(=O)O)C(C=CC(=O)O)CCO)C(=O)O', 'CC[C@]12Oc3cccc(O)c3C(=O)c3c(O)cc(C)c(c31)OC(C)(C)[C@H](CO)O2', 'C=C1C(=O)OC2C=C(C)C(OC(C)=O)CC=C(C)CC(OC(=O)c3ccoc3)C12', 'COc1cc([C@@H]2c3cc4c(cc3[C@@H]3OC[C@H]2C3CO)OCO4)cc(OC)c1OC', 'COc1ccc(C(=O)C(/C=C/C(=O)O)c2cc(OC)c(OC)c(OC)c2)cc1C', 'COc1cc(C[C@@H]2C(=O)OC[C@H]2Cc2ccc3c(c2)OCO3)cc(OC)c1OC', 'COc1cc(/C=C/C(=O)/C=C/c2cc(OC)c(OC)c(OC)c2)cc(OC)c1O', 'COC1=CC2=C(C3Oc4c(OC)cccc4C(=O)C13)[C@H](OC(C)=O)CC(C)(C)O2', 'COc1ccc(-c2ccc3c(c2)COC3=O)c(OCCOC(=O)C(C)C)c1OC', 'C=C(C)C(=O)OC1CC(C(=O)OCOC2Cc3ccccc3C2)C2CC1OC2=O', 'CC(C)(OC(=O)c1ccccc1)[C@H]1OC(O)[C@](C)(O)[C@@H]1OC(=O)c1ccccc1', 'COc1cc2c(c(OC)c1O)[C@H]1O[C@@H](c3cc4c(c(OC)c3-2)OCO4)[C@H](C)[C@@H]1C', 'CC1(C)O[C@@H]2O[C@@H](C(=O)Oc3ccc4ccccc4c3)[C@H]3OC(C)(C)O[C@H]3[C@H]2O1', 'COc1cc([C@H]2Oc3c(CC=C(C)C)c(OC)cc(O)c3C(=O)[C@@H]2O)ccc1O', 'COc1ccc([C@H]2Oc3cc(OC)c(CC=C(C)C)c(O)c3C(=O)[C@@H]2O)cc1O', 'COc1ccc([C@H]2COc3cc(O)c(CC=C(C)C)c(O)c3C2=O)c(OC)c1O', 'CCCCC[C@H]1C(=O)Oc2cc(O)c3c(c21)O[C@H](c1ccc(O)c(O)c1)[C@H](O)C3', 'COC(=O)C(CC(=O)COC(=O)CCc1ccc(O)cc1)Cc1ccc(O)cc1', 'COC(=O)[C@@H]1[C@H](Cc2ccc(OC)c(OC)c2)CO[C@H]1c1ccc2c(c1)OCO2', 'CO[C@H]1O[C@H](COC(=O)c2ccccc2)[C@@H](OC(=O)c2ccccc2)[C@@]1(C)OC', 'CC(=CCC1=C(C2=C(C=C1O)OC3=C(C2=O)C(=C(C(=C3)O)O)CC=C(C)C)O)C', 'C[C@@H](C#CC(=O)OCc1ccccc1)OC(=O)/C=C/C1=CCC2(CC1)OCCO2', 'COc1ccc(OC)c(/C=C/C(=O)/C=C(O)/C=C/c2cc(OC)ccc2OC)c1', 'C=C(C)C(=O)OC1C2CC3C1OC(=O)C3C2C(=O)OC1(C)Cc2ccccc2C1', 'CC1(C)OC2=C(OCc3ccccc3)[C@@](C=O)(COCc3ccccc3)O[C@@H]2O1', 'COc1cc2c(cc1OC)[C@@H]1C(=O)c3ccc4c(c3OC1CO2)CC(C(C)C)O4', 'COc1cc(OC)c2c(OC)c(C(C)=O)cc(OC)c2c1OCc1ccccc1', 'CCOC(=O)C(C)Oc1c(-c2ccc(OC)cc2)oc2cc(C)c(C)cc2c1=O', 'COc1cc(OC)c(-c2coc3cc(OCC=C(C)C)ccc3c2=O)cc1OC', 'COc1ccc(/C=C/C(=O)CC(=O)/C=C/c2ccc(OC)c(OC)c2)cc1CO', 'CCCOc1ccc(C(=O)OCc2cc(=O)oc3c(C)c(C)ccc23)cc1OC', 'CCC(C)c1ccc(OC(C)=O)c(C2(OC(C)=O)C(=O)C3=CCCC=C3C2=O)c1', 'CCOC(=O)CC(Cc1ccc2c(c1)OCO2)c1oc2c(OC)cccc2c1C', 'Cc1cc(Oc2coc3cc(OCCCC(=O)O)ccc3c2=O)ccc1C(C)C', 'COC(=O)C1(COc2c(-c3cccc4c3CCC4=O)ccc(OC)c2OC)CC1', 'COc1ccc(-c2coc3c(CC=C(C)C)c(O)c(OC)cc3c2=O)cc1OC', 'Cc1cc2cc3c(c(COc4ccc(CCC(=O)O)c(C)c4C)c2o1)OCCO3', 'COC(=O)C(C[C@@H]1OC(=O)CCC1(c1ccccc1)c1ccccc1)C(=O)OC', 'CCOC(=O)C1(C(C)=O)C(=O)CCc2c1ccc(OC)c2OCc1ccccc1', 'COc1cc(/C=C2\\\\CCC/C(=C\\\\c3ccc(O)c(O)c3)C2=O)cc(OC)c1OC', 'Cc1cc(CO)c(O)c(CO)c1.Cc1cccc(O)c1-c1cccc(O)c1C=O', 'CC(C)=CCc1c(O)c(O)cc2c(=O)c3c(O)c4c(cc3oc12)OC(C)C4(C)C', 'C=CC(=O)OCCCOc1ccc(/C(=C/c2ccc(OCC)cc2)C(=O)O)cc1', 'C[C@H](C#CC(=O)OCc1ccccc1)OC(=O)C=CC1=CCCC2(C1)OCCO2', 'C=C(Oc1ccc(OC(=O)C2CCC(C(=O)O)CC2)cc1)c1ccc(OC)cc1', 'Cc1cc(C(=O)O)cc2cc(COc3ccccc3CC(=O)OC(C)(C)C)oc12', 'CCOc1c(-c2ccc(OC)cc2)oc2c(CC=C(C)C)c(O)cc(O)c2c1=O', 'C=CC(C)(C)c1c(O)cc2oc3cc(O)c(O)c(CC=C(C)C)c3c(=O)c2c1O', 'CC1OC1C(O)(C1OC1c1ccc(CC=O)cc1)C1(c2ccccc2)OC1CO', 'C/C=C(\\\\C)c1cc(O)c(C)c2c1Oc1c(CO)c(O)cc(/C(C)=C/C)c1C(=O)O2', 'COc1cccc(/C=C2\\\\Oc3c(ccc(OC(=O)C(C)(C)C)c3C)C2=O)c1OC', 'Cc1ccc2c3c(oc2c1)C(C)(C)c1cc(OC[C@@H](O)[C@H](O)CO)ccc1C3=O', 'COc1ccc(-c2coc3cc(OC)c(CC=C(C)C)c(O)c3c2=O)c(OC)c1', 'CC1(C)OCC(CCC(=O)Oc2cc(O)c3c(c2)CCc2ccccc2C3=O)O1', 'COCOc1ccccc1C(=Cc1ccc2c(c1O)C=CC(C)(C)O2)C(=O)OC', '[2H]/C(=C\\\\c1ccc(OC([2H])([2H])[2H])c(OC([2H])([2H])[2H])c1)C(=O)CC(=O)/C([2H])=C/c1ccc(OC([2H])([2H])[2H])c(OC([2H])([2H])[2H])c1', 'COc1cc(/C=C/C(=O)O[C@H](C)C(=O)c2cc(C)ccc2C)cc2c1OCCO2', 'COc1ccc(-c2oc3ccc(C)cc3c(=O)c2OCC(=O)OCC(C)C)cc1', 'O=C(CCCCCCCC(=O)OC(=O)c1ccccc1)OC(=O)c1ccccc1', 'COc1cccc(/C=C/C(=O)/C=C(O)/C=C/c2cccc(OC)c2OC)c1OC', 'CCOC(=O)C1(C(=O)OCC)[C@@H](c2ccccc2)OC[C@@]12O[C@@H]2c1ccccc1', 'CCOCc1cc(C(=O)OCc2cc(=O)oc3cc(CC)ccc23)ccc1OC', 'COc1cc(OCc2ccccc2)cc(CO)c1OCc1ccccc1.O=CO', 'COc1ccc(-c2oc3cc(C)ccc3c(=O)c2OC(=O)C(C)(C)C)cc1OC', 'C(=C/c1cc(OCC2CO2)cc(OCC2CO2)c1)\\\\c1cccc(OCC2CO2)c1', 'CCCCC(Oc1ccc2c(=O)c(-c3ccc(O)cc3)coc2c1)C(=O)OCC', 'C=CC(=O)OCCCOc1ccc(OC(=O)/C=C/c2ccc(OCC)cc2)cc1', 'COC(=O)c1ccc(C(=CC(=O)OC(C)(C)C)c2ccc(C(=O)OC)cc2)cc1', 'COc1cc(-c2coc3cc(CO)cc(OC)c3c2=O)ccc1OCC=C(C)C', 'COC(=O)C(=C(/C)c1cc(OC)cc(OC)c1)/C(=C\\\\c1ccccc1)C(=O)OC', 'C=C(C)C(=O)OC(OC(=O)C(=C)C)C(C)(c1ccc(O)cc1)c1ccc(O)cc1', 'CC(=O)Oc1ccccc1C(=O)OC(/C=C/c1ccc2c(c1)OCO2)C(C)(C)C', 'COCOc1ccc(/C=C/C(=O)c2c(OC)cc3c(c2O)C=CC(C)(C)O3)cc1', 'COc1cc2c(cc1C)CC1=C(C(=O)OC1)C2c1cc(OC)c(OC)c(OC)c1', 'COc1c(CC=C(C)C)cc2c(c1OC)OCC1c3cc4c(cc3OC21)OCO4', 'CCOC(=O)C(C)Oc1cc(C)c2c(c1)O/C(=C\\\\c1ccc(OCC)cc1)C2=O', 'COc1cccc(/C=C2\\\\COC/C(=C\\\\c3cccc(OC)c3OC)C2=O)c1OC', '[2H]C([2H])([2H])Oc1ccc(/C=C/C(=O)/C=C(O)/C=C/c2ccc(OC([2H])([2H])[2H])c(OC)c2)cc1OC', 'O=Cc1ccc(OC(=O)CCCCCCCC(=O)Oc2ccc(C=O)cc2)cc1', 'CC#CCc1c(C)c2c(c(O)c1C/C=C1\\\\CCC(=O)CC1CC(=O)O)C(=O)OC2', 'CC(=O)OCC=Cc1ccc2c(c1)[C@@H](COC(C)=O)[C@H](c1ccc(O)c(C)c1)O2', 'Cc1cccc(Oc2coc3cc(O[C@@H](C)C(=O)OCC(C)C)ccc3c2=O)c1', 'CC1(C)CC2(CC(C)(C)c3cc4c(cc3O2)OCO4)Oc2cc3c(cc21)OCO3', 'COc1cc(OC)c(C2COc3c(ccc4c3C=CC(C)(C)O4)C2=O)cc1OC', 'OCC(O)C1OC(c2cc(Cc3cc4cccccc-4c3)ccc2O)C(O)C1O', 'COCCOCCOc1ccc(COc2ccc3cc(C(=O)O)ccc3c2)cc1', 'CCCCOC(=O)C(C)Oc1ccc2c(=O)c(Oc3cccc(C)c3)coc2c1', 'OCc1cc(Cc2ccc(O)c(CO)c2)c(O)c(Cc2ccc(O)c(CO)c2)c1', 'Cc1ccc2c3c(oc2c1)C(C)(C)c1cc(OCC(O)C(O)CO)ccc1C3=O', 'Cc1cc(Oc2coc3cc(OC(C)(C)C(=O)O)ccc3c2=O)ccc1C(C)C', 'COc1ccc2c(COC(=O)COc3cc(C)ccc3C(C)C)cc(=O)oc2c1', 'CCc1ccc(Oc2coc3cc(OCC(=O)O[C@@H](C)CC)ccc3c2=O)cc1', 'CCCCOC(=O)[C@@H](C)Oc1ccc2c(=O)c(-c3ccccc3OC)coc2c1', 'CCOC(=O)[C@@]1(CC)Oc2ccccc2C(c2ccc(OC)cc2)=C1C(=O)OC', '[2H]/C(C(=O)CC(=O)/C([2H])=C(\\\\[2H])c1ccc(OC)c(OC([2H])([2H])[2H])c1)=C(/[2H])c1ccc(OC)c(OC([2H])([2H])[2H])c1', 'Cc1cc(C)cc(Oc2coc3cc(OCC(=O)OCC(C)C)ccc3c2=O)c1', 'CCOC(=O)C1(C(=O)OCC)c2ccccc2C(=O)CC1c1cccc(OC)c1', 'COc1ccc(/C=C/C(=O)/C=C(O)\\\\C=C\\\\c2ccc(OC)c(OC)c2)cc1OC', 'COc1ccc(OCCCC(=O)OCc2cc(=O)oc3c(C)c(C)ccc23)cc1', 'C(=Cc1cc(OCC2CO2)cc(OCC2CO2)c1)c1ccc(OCC2CO2)cc1', 'COCCCCOC(=O)c1ccc(C(=O)CC(=O)c2ccc(C(C)=O)cc2)cc1', 'C[C@H]1O[C@@H]2c3cc(C(=O)O)ccc3OC(C)(C)[C@H]2C[C@@H]1c1ccc2c(c1)OCO2', 'CCCc1cc(=O)oc2cc(OC(=O)CCc3cccc(OC)c3OC)ccc12', 'CC(=O)/C=C/c1ccc(C(=O)OCCOc2ccc(C(=O)C(C)(C)O)cc2)cc1', 'CCCc1cccc2c(OCC(=O)OC)c3ccccc3c(OCC(=O)OC)c12', 'CC(C)=CCC/C(C)=C/Cc1c(O)cc(O)c2c(=O)c3ccc(O)c(O)c3oc12', 'COc1cccc(-c2cc(COc3ccc(OC(C)(C)C(=O)O)cc3)c(C)o2)c1', 'CCc1ccc2c(COC(=O)CCc3cc(OC)cc(OC)c3)cc(=O)oc2c1', 'CC(C)=CCc1c(O)cc2c(c1O)C(=O)C[C@@H](c1ccc3c(c1)OC(C)(C)O3)O2', 'CCCOC(=O)C(CC)Oc1ccc2c(=O)c(Oc3cccc(C)c3)coc2c1', 'CC1(C)CCc2c(c(O)cc3oc4cc(O)c5c(c4c(=O)c23)OC(C)(C)CC5)O1', 'Cc1cc(OC(=O)C(C)C)c(C2(COC(=O)C=Cc3ccccc3)CO2)cc1O', 'COc1cc(-c2c(CO)c(CO)cc3cc4c(cc23)COC4)cc(OC)c1OC', 'CCCCCOC(=O)COc1ccc2c(=O)c(-c3ccccc3OC)coc2c1', 'Cc1cc(C)cc(Oc2c(C)oc3cc(OCC(C)(C)C(=O)O)ccc3c2=O)c1', 'C=C(C)C(=O)OOc1ccc(C(C)(C)c2ccc(OOC(=O)C(=C)C)cc2)cc1', 'COc1cc(CCC(=O)OCc2cc(=O)oc3cc(C)c(C)cc23)cc(OC)c1', 'C=CC(=O)OCCCCCCOc1ccc(C(=O)Oc2ccccc2C=O)cc1', 'CCOCc1c(C(=O)OCc2cc(C(C)=O)ccc2OCC)oc2ccccc12', 'COC(=O)/C=C/c1ccc(-c2ccccc2)cc1[C@H](OC(=O)C(C)(C)C)C(=O)O', 'C=C(C)C(=O)OCCOc1ccc(-c2ccc(OC(=O)C(=C)C)c(OC)c2)cc1', 'COc1ccc(Cc2oc3c(OC(C)=O)c(C)c(C)c(OC(C)=O)c3c2C)cc1', 'C=CC(C)(C)c1c(O)c(CC=C(C)C)c2oc3cc(O)c(O)cc3c(=O)c2c1O', 'COc1cc2c(c(O)c1C(=O)/C=C/c1ccc(OC(C)=O)cc1)CCC(C)(C)O2', 'COc1cc(C=CC(=O)c2ccc(OC)c3c2OC(C)(C)C=C3)cc(OC)c1O', 'CC(C)=CCc1c(O)c(CC=C(C)C)c2oc3cc(O)c(O)cc3c(=O)c2c1O', 'COc1ccc(/C=C/C(O)=CC(=O)/C=C/c2ccc(OC)c(OC)c2)cc1CO', 'COC(=O)CCC1(CC(=O)OC)OCC2(CO1)c1ccccc1-c1ccccc12', 'COCc1c(C=O)cc2cc(OC)c(OC)cc2c1-c1ccc(OC)c(OC)c1', 'C=C/C=C\\\\C=C\\\\C(O)COc1cc(O)c2c(c1)OC(C1=CCC(O)C=C1)CC2=O', 'CC(C)=CCc1c(O)c(O)cc2oc3cc4c(c(O)c3c(=O)c12)CCC(C)(C)O4', 'CC(C)=CCC12OC(C)(C)[C@@H]3C[C@@H](C=C4C(=O)c5c(O)cc(O)cc5O[C@]431)C2=O', 'CCOC(=O)C1(C(=O)OCC)[C@H](C(=O)c2ccccc2)[C@H]1c1ccc(OC)cc1', 'C=C(C(=O)c1ccc(C=CC(=O)OCC(CO)(CO)CO)cc1)c1ccccc1', 'CCCCOC(=O)COc1ccc2c(=O)c(Oc3ccc(CC)cc3)coc2c1', 'C=C(C)C(CC=C(C)C)Cc1c(O)cc(O)c2c(=O)c3ccc(O)c(O)c3oc12', 'C=C(OC)[C@@H]1C[C@]2(C)C(=O)CCC2C2=C1[C@]1(C)c3c(coc3C2=O)C(=O)O[C@@H]1C', 'COc1cc2c(cc1OC)C(=O)C1c3cc(OC)c(OC)cc3CC(=O)C1CC2', 'CCOC(=O)C(C(C)=O)=C(O)C=Cc1ccc(OC)c(OCc2ccccc2)c1', 'CCOC(=O)[C@@]1(C)[C@H]2CC[C@@]3(C)O[C@@]14C(=O)c1ccc(OC)cc1C(=O)C4=C[C@@H]23', 'COc1cc(-c2cccc(-c3cc(OC)c(O)c(OC)c3C)c2)cc(OC)c1O', 'C=C=Cc1ccc(OCCOc2ccc(/C=C/C(=O)OC)cc2OC)c(OC)c1', 'COc1cc2c(cc1OC)C1C(CO2)Oc2c(ccc3c2C=CC(C)(C)O3)C1O', 'C=CC(C)(C)c1c2c(c3oc4c(O)c(O)ccc4c(=O)c3c1O)C(C)(C)C(C)O2', 'Cc1cc(OC(=O)C(C)C)c([C@@]2(COC(=O)C=Cc3ccccc3)CO2)cc1O', 'COc1ccc(/C=C/C(=O)OCCCOC(=O)/C=C/c2ccc(OC)cc2)cc1', 'COc1ccc(/C=C/C(=O)OC[C@H](C)OC(=O)/C=C/c2ccc(OC)cc2)cc1', 'CC(C)(C)c1ccc(OCCCOc2cccc3oc(C(=O)O)cc(=O)c23)cc1', 'C#CCO[C@@H]1O[C@@H]2COC(c3ccccc3)O[C@H]2[C@H](OCc2ccccc2)[C@@H]1O', 'CC(C)=CCc1ccc2oc3c(O)c(O)c(CC=C(C)C)c(O)c3c(=O)c2c1O', 'O=C(/C=C/c1ccccc1)OCC(CO)(CO)COC(=O)/C=C/c1ccccc1', 'O=C1[C@@H]2OC(Cc3ccccc3)(Cc3ccccc3)O[C@@H]2CO[C@]12COCCO2', 'C=CCOC1C[C@@H](OC(=O)c2ccccc2)C[C@@H](COC(=O)c2ccccc2)O1', 'COc1cccc(C(=O)COC(=O)C2(c3ccc4c(c3)OCCO4)CCCC2)c1', 'COC(=O)C1(c2ccc(OC)c(C3CC3(C(=O)OC)c3ccc(O)cc3)c2)CC1', 'C=C(C)C(=O)OCCOc1cc(-c2ccc(OC)cc2)ccc1OC(=O)C(=C)C', 'C=CC(C)(C)c1c(O)cc2oc3c(O)c(O)cc(CC=C(C)C)c3c(=O)c2c1O', 'CCOC(=O)CCC(C)C1CC(=O)c2cc(C(=O)c3ccccc3O)ccc2O1', 'CCC(=O)Oc1c(OC)cc2ccccc2c1-c1cc(OC)c(OC)cc1OC', 'COc1ccc(C=CC(=O)CC(=O)C=Cc2ccc(CO)c(CO)c2)cc1OC', 'COc1ccc2c(c1)C(CC(=O)O)=C(C)/C2=C\\\\c1cc(OC)c(OC)c(OC)c1', 'CCOC(=O)C(C)Oc1ccc2c(=O)c(Oc3ccccc3C(C)C)coc2c1', 'COc1ccc(CCc2ccc(OC)cc2C=C2C(=O)OC(C)(C)OC2=O)cc1', 'CC(=O)Oc1cc(C(C)(C)C)ccc1C1(OC(C)=O)C(=O)C2=CCCC=C2C1=O', 'Cc1ccc(C(=O)C(C)OC(=O)CCC(=O)c2ccc3c(c2)OCCO3)cc1C', 'C=C(C)C(=O)OC(CC)Oc1ccc(/C=C/C(=O)Oc2ccc(OC)cc2)cc1', 'Cc1ccc(/C=C/C(=O)OCC(O)COC(=O)/C=C/c2ccc(O)cc2)cc1C', 'COc1ccccc1/C=C1\\\\Oc2c(ccc(OCC(=O)OC(C)(C)C)c2C)C1=O', 'COc1ccc(-c2cccc3c2CCC3=O)c(OCC2(CC(=O)O)CC2)c1OC', 'CCOc1ccccc1C1CC1(C(=O)O)C1(C(=O)O)CC1c1ccccc1OC', 'COc1cccc(OC)c1/C=C1\\\\COC/C(=C\\\\c2c(OC)cccc2OC)C1=O', 'COc1cc(/C=C2\\\\CCC(C(=O)CCc3ccc(O)c(OC)c3)C2=O)ccc1O', 'C=CC(=O)OCCCCCCOc1ccc(C(=O)Oc2ccc(C=O)cc2)cc1', 'COc1ccc2ccc(OC(=O)CCc3cc(OC)c(OC)c(OC)c3)cc2c1', 'C=CC(C)(C)c1c(O)cc(O)c2c(=O)c3c(CC=C(C)C)c(O)c(O)cc3oc12', 'CCOC(=O)CCCCCOc1ccc2c(=O)c(-c3ccc(O)cc3)coc2c1', 'C=C(C)C(=O)Oc1ccc2oc(=O)c(C3CCC(OC(=O)C(=C)C)CC3)cc2c1', 'COc1c(OC)c(OC)c2c(c1OC)C1=C(CCC2OC)C(=O)c2ccccc21', 'CCCC(=O)OCCCc1cc(OC)c2oc(-c3ccc4c(c3)OCO4)cc2c1', 'O=C(/C=C\\\\[C@@H]1CC[C@@H](CC(=O)OCc2ccccc2)OO1)OCc1ccccc1', 'CCOC(=O)C(CC(=O)c1ccccc1)(CC(=O)c1ccccc1)C(=O)OCC', 'C=C(C)C(=O)Oc1ccc(C(C)(C)c2ccc(OC(=O)C(=C)C)cc2O)c(O)c1', 'OCc1cc(C(c2ccccc2)c2cc(CO)c(O)c(CO)c2)cc(CO)c1O', 'COc1ccc(C=C(C(C)=O)C(=O)/C=C/c2ccc(OC)c(OC)c2)cc1OC', 'C=CCOc1cc(OCC=C)c(C(=O)c2ccc(O)cc2)c(C(CC)C(=O)O)c1', 'CC(C)c1ccccc1Oc1coc2cc(OC(C(=O)O)C(C)C)ccc2c1=O', 'CCCOc1ccc(-c2coc3cc(O[C@H](C)C(=O)OCC)ccc3c2=O)cc1', 'CCCCCCOc1cc2ccc1CO2.O=C1C=CC(=O)c2c(O)ccc(O)c21', 'COC(=O)c1ccc2c(OC)c3c(c(OC)c2c1)C1CC3C2C(O)C=CC(O)C12', '[2H]C([2H])([2H])Oc1ccc(/C=C/C(=O)CC(=O)/C=C/c2ccc(OC([2H])([2H])[2H])c(OC([2H])([2H])[2H])c2)cc1OC([2H])([2H])[2H]', 'COC(=O)c1ccc([C@@H](O)[C@H]2C[C@]3(c4ccccc4)C(=O)CCC[C@]3(O)O2)cc1', 'CC1(C)C2=C(C=CC(OCCC(O)CO)=CC2)C(=O)c2c1oc1cc(O)ccc21', 'COC(=O)CCCCCCc1oc2cc(O)ccc2c(=O)c1-c1ccc(O)cc1', 'COc1ccc2c(c1)C(OC(C)=O)=C(C)/C2=C/c1cc(OC)c(OC)cc1OC', 'CC1(C)O[C@H]2[C@H](OC(=O)c3ccccc3)C[C@H](OC(=O)c3ccccc3)C[C@H]2O1', 'CC(=O)O[C@H]1C(C=O)=CO[C@H](COCc2ccccc2)[C@H]1OCc1ccccc1', 'CC(C)=CCC1C(=O)CC2Oc3cc(O)c4c(c3C(=O)C2C1=O)C=CC(C)(C)O4', 'CCOC(=O)[C@@H](CC)Oc1ccc2c(=O)c(Oc3ccc(CC)cc3)coc2c1', 'CCOc1cc(C=C2C(=O)OC(C)(C)OC2=O)ccc1OCc1cccc(C)c1', 'CC(C)=CCc1c2c(c(O)c3c(=O)c4cc(O)ccc4oc13)CC(C(C)(C)O)O2', 'CCOc1ccccc1CCC(=O)OCc1cc(=O)oc2cc(O)c(CC)cc12', 'CCOC(=O)CCc1c(C)c2ccc(OCc3cccc(OC)c3)cc2oc1=O', 'CC(C)c1cccc(Oc2coc3cc(OC(C(=O)O)C(C)C)ccc3c2=O)c1', 'CCOC(=O)/C=C/c1cccc(C(=O)/C=C/c2cc(OC)c(OC)c(OC)c2)c1', 'CCCC(=O)Oc1c(-c2ccc(OC)c(OC)c2)oc2cc(C)cc(C)c2c1=O', 'CC(C)O[C@@H]1C=C[C@H](OC(=O)c2ccccc2)[C@@H](COC(=O)c2ccccc2)O1', 'CCOc1ccccc1OCCC(=O)OCc1cc(=O)oc2cc(C)c(C)cc12', 'CC(C)Cc1ccc(C(c2ccc(O)c(O)c2O)c2ccc(O)c(O)c2O)cc1', 'CCCc1c(OCCCc2ccc3cc(O)c(O)cc3c2)ccc(C(=O)O)c1O', 'C=C(CO)C(=O)Oc1cc(OC(=O)C(=C)CO)cc(-c2ccc(CCC)cc2)c1', 'C=CC[C@H]1CO[C@H](OC)[C@H](OC(=O)c2ccccc2)[C@H]1OC(=O)c1ccccc1', 'CCOC(=O)/C(C)=C\\\\CC[C@]1(C)C=CC2=C(O1)C(=O)c1ccc(OC)cc1C2=O', 'CC=O.COc1ccc(-c2coc3cc(CC(C)C(C)=O)cc(O)c3c2=O)cc1', 'COc1cc([C@@H]2CC(O)c3cc(OC)c4ccccc4c3O2)cc(OC)c1OC', 'CC(C)Oc1c(OC(=O)c2ccccc2)c2ccc(OC(C)(C)C)cc2oc1=O', 'COc1ccc(/C=C\\\\C(=O)/C=C(O)/C=C\\\\c2ccc(OC)c(OC)c2)cc1OC', 'COc1cc(OC)c(C(=O)C=C(O)c2ccc3c(c2)OCO3)cc1CC=C(C)C', 'CCCCCc1ccc2c(OC(=O)OC)c3ccccc3c(OC(=O)OC)c2c1', 'CCCOC(=O)[C@H](C)Oc1ccc2c(=O)c(Oc3ccc(CC)cc3)coc2c1', 'COc1cccc(C=C2COCC(=Cc3cccc(OC)c3OC)C2=O)c1OC', 'CCOC(=O)C1=C(c2ccccc2)O[C@@H](c2ccc(OC)cc2)[C@H]1C(=O)OCC', 'COc1cccc(OC(Oc2cccc3oc(=O)c4c(c23)CCCC4)C(C)O)c1', 'CCOC(=O)c1cc(OC)c2c(OCc3ccccc3)cc(OC)c(OC)c2c1', 'CCCOC(=O)[C@@H](C)Oc1ccc2c(=O)c(Oc3ccc(CC)cc3)coc2c1', 'COc1cc(C(C)=O)ccc1OCC(=O)OC(C)C(=O)c1ccc2c(c1)CCC2', 'COc1ccccc1OCC(=O)OCc1cc(=O)oc2cc(C)c(C(C)C)cc12', 'Cc1ccc(Oc2coc3cc(OC(C)C(=O)O)ccc3c2=O)c(C(C)(C)C)c1', 'COC(=O)C(CC(C(=O)OC)C(=O)c1ccc(C)cc1)C(=O)c1ccc(C)cc1', 'COC(=O)C1(COc2c(-c3ccc4c(c3)CCC4=O)ccc(OC)c2OC)CC1', 'COc1cc([C@@H]2c3cc4c(cc3[C@@H](C)[C@H]3COC(=O)[C@H]23)OCO4)cc(OC)c1C', 'COc1cc(C)ccc1-c1c([13C](=O)OC)c(OC)c2c(OC)cccc2c1OC', 'CCC(CCC(=O)OC)C1CC(=O)c2cc(C(=O)c3ccccc3O)ccc2O1', 'CCC(C)OC(=O)COc1ccc2c(=O)c(Oc3cc(C)ccc3C)coc2c1', 'COc1ccc(-c2ccc3c(c2)CCC3=O)c(OC(C)C2(C(=O)O)CC2)c1OC', 'CCCCCOC1=C(C(=O)OC)C(c2ccc3c(c2)OCO3)Oc2ccccc21', 'CCOC(=O)C(C(C)=O)C(=O)/C=C/c1ccc(OC)c(OCc2ccccc2)c1', 'COc1cc2c(cc1C)CC1=C(C(=O)OC1)[C@@H]2c1cc(OC)c(OC)c(OC)c1', 'COC(=O)c1c(-c2ccc(C)cc2OC)c(OC)c2cccc(OC)c2c1OC', 'C=CCc1cc(/C=C/C(=O)c2ccc(OCCCC(=O)O)cc2)c(OC)cc1O', 'CCC(=O)Oc1ccc(C=Cc2cc(OC(=O)CC)cc(OC(=O)CC)c2)cc1', 'CC(C)(OC(=O)c1ccccc1)C(=O)CCCC(=O)COC(=O)c1ccccc1', '[2H]C(=Cc1ccc(OC)c(OC)c1)C(=O)CC(=O)C([2H])=C([2H])c1ccc(OC)c(OC)c1', 'COCOc1c(-c2c(OC)cc(C=O)cc2OC)c(C)cc2cccc(OC)c12', 'CCCOc1ccc(OC(=O)CCc2c(C)c3ccc(OC)cc3oc2=O)cc1', 'COc1ccc(C=CC(=O)CC(=O)C=Cc2ccc(OC)c(OC)c2)cc1CO', 'CC(C)C(=O)Oc1cc(CO)ccc1[C@@]1(COC(=O)C=Cc2ccccc2)CO1', 'C=C(C)C(=O)OCCOc1ccc(-c2ccc(OC(=O)C(=C)C)cc2OC)cc1', 'COc1ccccc1OCC(O)COc1cccc2oc(=O)c3c(c12)CCCC3', 'C=C(C)C(=O)OCCOC(O)c1ccc(-c2ccc(OC(=O)C(=C)C)cc2)cc1', 'CC(=O)Oc1ccc(CCOC(=O)/C=C/c2cc(C)c(OC(C)=O)c(C)c2)cc1', 'CCOC(=O)/C(=C/c1ccccc1OCc1ccccc1C)C(=O)COC(C)=O', 'CC(C)=CCc1c(O)cc2c(=O)c3cc(O)c(O)c(CC=C(C)C)c3oc2c1O', 'CCOC(=O)C1=CC=C(O)C(C(=O)OCC)(c2ccc3cccccc2-3)C1OC', 'C=C(C)C(=O)Oc1ccc(OCCCOc2ccc(OC(=O)C(=C)C)cc2)cc1', 'Oc1ccc(CCC(CCc2ccc(O)cc2O)c2ccc(O)cc2O)c(O)c1', 'COC1(C2CC(=O)C(C(=O)CCc3ccc4c(c3)OCO4)C(=O)C2)C=CC=CC1', 'CC(C)=CCc1c(O)c(O)c2oc3c(CC=C(C)C)c(O)ccc3c(=O)c2c1O', 'CC(=O)OCC(=O)[C@@]1(O)[C@H](C)C[C@H]2c3ccc4cc(O)ccc4c3C(=O)C[C@@]21C', 'O=C(O)CCCC(CCC(C(=O)O)C(=O)c1ccccc1)C(=O)c1ccccc1', 'COCOc1cc(C)cc(C=O)c1-c1cc(OC)c2c(OC)cccc2c1OC', 'C/C=C(\\\\O)C(=O)Oc1ccc(C(CC)c2ccc(OC(=O)/C(O)=C/C)cc2)cc1', 'COc1ccc(/C=C/C(O)=C/C(=O)/C=C/c2ccc(OC)c(OC)c2)cc1CO', 'COc1ccc(-c2oc3cc(OC)cc(O)c3c(=O)c2CC=C(C)C)c(OC)c1', 'CCc1ccc(OCc2c3c(cc4cc(C)oc24)OCCO3)c(C)c1C.O=C=O', 'C=C1C(=O)O[C@@H]2C[C@@]3(C)CC[C@@H](OC(=O)c4ccc5c(c4)OCO5)C(=C)[C@@H]3C[C@H]12', 'COc1ccc(C(O)Oc2ccc(OC(O)c3ccc(OC)cc3)c(C)c2)cc1', 'COCCOCCOc1ccc2cc(COc3ccc(C(=O)O)cc3)ccc2c1', 'OCC1OC(c2cc(Cc3cc4cccccc-4c3)ccc2O)C(O)C(O)C1O', 'COc1ccc(C(=O)OCc2cc(=O)oc3cc(C)c(C(C)C)cc23)c(OC)c1', 'COc1ccc(C(=O)COC(=O)CCC(=O)c2ccc3c(c2)CCC3)c(OC)c1', 'CCOC(=O)[C@H](C)Oc1c(-c2ccc(OC)cc2)oc2cc(C)c(C)cc2c1=O', 'CCCCCOC(=O)COc1ccc2oc(-c3ccc(OC)cc3)cc(=O)c2c1', 'C=C(C)[C@H]1Cc2c(ccc(C(=O)C3CCOc4cc(OC)c(OC)cc43)c2O)O1', 'COc1cc(OC)c(C2=COc3c(ccc4c3C=CC(C)(C)O4)C2O)cc1OC', 'COc1ccc2c(c1OC)CCCC1=C2c2cc(OC)c(OC)c(OC)c2C1=O', 'C=CC(=O)OCCOCCOCCOc1c2ccccc2c(O)c2ccccc12', 'C/C=C(\\\\C)/C(=O)OC(COC1=C2C(=C(C3=C1OC(=O)C=C3)OC)C=CO2)C(C)(C)O', 'COc1c(O)cc2oc(-c3ccc(O)c(CC[C@H](C)CO)c3)c(O)c(=O)c2c1OC', 'CC(=O)OCC1O[C@@H](c2c(O)ccc3ccccc23)C[C@@H](OC(C)=O)[C@@H]1OC(C)=O', 'COC(=O)c1ccc(C2OC[C@@]3(O)C(c4ccccc4)O[C@H](C(O)CO)[C@@H]3O2)cc1', 'COc1cc(-c2oc3c(OC)c(OC)cc(OC)c3c(=O)c2OC)cc(C)c1OC', 'COC(=O)CCc1cc(OC)c2c(c1)[C@H](C(=O)OC)[C@@H](c1ccc(O)c(OC)c1)O2', 'C=CCCC(=O)CC12OC(C(C(=O)OC)=C1C(=O)OC)c1cc(OC)c(OC)cc12', 'CC(=O)OC[C@@H](C)c1c(O)c(O)c2c(c1O)C(=O)C1=C3[C@@](C)(CCC[C@@]32C)C(=O)O1', 'COc1ccc([C@H](OC)[C@@H]2COC(=O)[C@@]2(O)Cc2ccc3c(c2)OCO3)cc1OC', 'CCCCOC(=O)[C@@H](Cc1ccc(O)c(O)c1)OC(=O)/C=C/c1ccc(O)c(O)c1', 'CC(=O)c1c(O)cccc1OCC1COC(COc2cccc(O)c2C(C)=O)CO1', 'COc1cc([C@H]2OCOC[C@H]2c2ccc(OC(C)=O)c(OC)c2)ccc1OC(C)=O', 'CCC[C@H]1OC(C)=Cc2cc3c(c(O)c21)C(=O)C([C@H]1OC(CO)[C@@H](O)[C@H]1O)=CC3=O', 'COc1cc(OCCCO)c2c(=O)c(OC)c(-c3ccc(OC)c(OC)c3)oc2c1', 'COc1c(O)cc(C2(O)COc3cc(O)cc(O)c3C2=O)c(OC)c1CC=C(C)C', 'O=Cc1ccc(OCCO[C@@H]2OCCO[C@H]2OCCOc2ccc(C=O)cc2)cc1', 'CCOC(=O)[C@H](Cc1c(O)cc(C)c2c(O)c3c(cc12)[C@@H](O)CCC3=O)C(=O)OC', 'CCOc1ccc(-c2coc3ccc([C@@]4(O)O[C@H](CO)[C@@H](O)[C@H](O)[C@H]4O)cc23)cc1', 'CCCC1OC(C)=Cc2cc3c(c(O)c21)C(=O)C([C@H]1OC[C@@H](O)[C@H](CO)O1)=CC3=O', 'CCOC(=O)[C@@H](Oc1ccc(/C=C/C=O)cc1OC)[C@@H](O)c1ccc(O)c(OC)c1', 'C=CC(=O)OCCc1ccc(C(=O)O)c(CCOC(=O)C=C)c1CCOC(=O)C=C', 'C=CCO[C@@H]1[C@@H](O)[C@H](O)[C@@H](COC(=O)c2ccc(Oc3ccccc3)cc2)O[C@H]1O', 'CCCc1c(-c2cc(=O)c3c(O)cc(OC[C@@H](O)CO)cc3o2)ccc(OC)c1O', 'COc1ccc([C@H]2O[C@@H](O)[C@H]3[C@@H]2C(=O)O[C@@H]3c2ccc(OC)c(OC)c2)cc1OC', 'CCOc1ccc(-c2coc3ccc([C@]4(O)O[C@H](CO)[C@@H](O)[C@H](O)[C@H]4O)cc23)cc1', 'COc1ccc(C=CC(=O)OC(C)C(=O)C2CC2C(O)C2CC=CC(=O)O2)cc1O', 'CC(=O)Oc1ccc(OC(C)=O)c2c(O)c(C(CC=C(C)C)OC(C)=O)cc(O)c12', 'CCCCOC(=O)[C@@H](Cc1ccc(O)c(O)c1)OC(=O)/C=C\\\\c1ccc(O)c(O)c1', 'COc1c(O)cc2c(c1OC)-c1c(cc3c(c1OC)OCO3)C(=O)[C@@](C)(O)[C@@H](C)C2', 'COC(=O)C(Cc1ccc2c(c1)OCO2)C(CC1C=C2OCOC2=CC1)C(=O)OC', 'COc1ccc([C@@H](OC)[C@H]2COC(=O)[C@]2(O)Cc2ccc3c(c2)OCO3)cc1OC', 'O=C(O)Cc1ccc(Cc2ccc3c(c2)[C@]2(OC3)O[C@H](CO)[C@@H](O)[C@H](O)[C@H]2O)cc1', 'C=C1C(=O)OC2C=C(C)C3=CC(=O)C(C)(CC(OC(=O)C(=CC)COC(C)=O)C12)O3', 'CCOC(=O)c1ccc(C(=O)OCC)c2c(C(=O)OCC)ccc(C(=O)OCC)c12', 'CC(=O)[C@H]1CC2=C(C(=O)OC(C)(C)O2)[C@@H]2C(=O)[C@H]3[C@H]4C(=C[C@@H]21)C(=O)O[C@H]4C[C@@]3(C)O', 'CC(=O)OCC12C(=O)C(=O)[C@@H](C)[C@]3(CC(c4ccoc4)OC3=O)[C@H]1CCC[C@]21CO1', 'CC=CC1=CC2=C(CO1)C(=O)C(C)(OC(=O)c1c(C)cc(O)c(O)c1OC)C(O)C2', 'COc1cc(C[C@H]2CO[C@H](c3cc(OC)c4c(c3)OCO4)[C@H]2CO)cc2c1OCO2', 'COc1cc(C(=O)CC(Cc2ccc3c(c2)OCO3)OC(C)=O)cc(OC)c1OC', 'OC[C@H]1O[C@@H](Oc2cccc3occ(CCc4ccc(O)cc4)c23)[C@H](O)[C@@H](O)[C@@H]1O', 'C=C(OOC(=O)c1ccc(OCCC)cc1)OOC(=O)c1ccc(OCCC)cc1', 'COc1ccc2c(c1)O[C@@H](c1ccc(OC)c(OC)c1)[C@@H](OC(C)=O)[C@H]2OC(C)=O', 'COc1c2c(cc3c1-c1c(cc4c(c1OC)OCO4)[C@@H](O)[C@@H](C)[C@@H](C)[C@@H]3O)OCO2', 'C=C(C)[C@@H]1Cc2oc(cc2C=O)[C@@H]2O[C@]2(C)C[C@@H]2OC(=O)[C@]3(O[C@@H]23)[C@@H](OC(C)=O)C1', 'COc1cc([C@@H]2c3cc4c(cc3[C@@H](O)[C@H]3COC(O)[C@H]23)OCO4)cc(OC)c1OC', 'CC[C@H](O)C[C@@H](O)c1c(CC(=O)OC)cc2c(O)c3cccc(O)c3c(O)c2c1O', 'C=CCOC(=O)OCCOc1cccc2c(OCCOC(=O)OCC=C)cccc12', 'C/C=C\\\\C(O)=C/C=C/c1cc(=O)c2c(O)cc(O)c(C3CC(O)CC(CO)O3)c2o1', 'COc1cc(C[C@@H]2COC(=O)/C2=C/c2cc(OC)c(OC)c(OC)c2)cc(O)c1O', 'C=C(C)[C@H]1Cc2oc(cc2C=O)C2O[C@]2(C)C[C@@H]2OC(=O)[C@]3(O[C@@H]23)[C@H](OC(C)=O)C1', 'CO[C@@H]([C@H]1C[C@@H]1C(=O)[C@@H](C)OC(=O)/C=C\\\\c1ccc(O)c(O)c1)[C@H]1CC=CC(=O)O1', 'COc1cc([C@@H]2COCO[C@H]2c2ccc(OC(C)=O)c(OC)c2)ccc1OC(C)=O', 'COc1cc(C(c2cc(OC)c3c(c2)OCO3)[C@@H]2COC(=O)[C@H]2C)cc(OC)c1O', 'C=C1C(=O)O[C@@H]2/C=C(\\\\C)C3=CC(=O)[C@@](C)(C[C@H](OC(=O)/C(C)=C/COC(C)=O)[C@@H]12)O3', 'COc1cc([C@@H]2c3cc4c(cc3OC(C)(O)[C@H]2C(C)=O)OCO4)cc(OC)c1OC', 'CCCc1c(OCCCOc2ccc(C(=O)C(=O)O)cc2)ccc(C(=O)OC)c1O', 'C=C1C(=O)O[C@@H]2/C=C(\\\\C)C3=CC(=O)[C@@](C)(C[C@H](OC(=O)/C(C)=C/COC(C)=O)[C@H]12)O3', 'CC(=O)CCC1=C(C2=CC=C3C(=O)O[C@H]4C[C@@](C)(O)[C@@H](C2=O)[C@@H]34)C(=O)OC(C)(C)O1', 'COCC(C)c1ccc(-c2cc(=O)c3c(O)cc(OC[C@H](O)CO)cc3o2)cc1O', 'CO[C@H]1[C@H](O)[C@@H](O)[C@H](Oc2ccc3c(c2)C(=O)C[C@H](c2ccccc2)O3)O[C@@H]1CO', 'COC1=C(OC)C(=O)[C@@]23C(=C1)[C@H](O)[C@@H](C)[C@]2(C)[C@@H](O)c1cc2c(c(OC)c13)OCO2', 'CO[C@@]1(C[C@H](O)C(=O)O)C(=O)c2c(O)c3c(c4c(C)cc(O)c1c24)O[C@@H](C)C3(C)C', 'C=C(C)[C@H]1Cc2oc(cc2C=O)[C@H]2O[C@]2(C)C[C@@H]2OC(=O)[C@]3(O[C@@H]23)[C@H](OC(C)=O)C1', 'COc1cc(OC)c2c(c1)O[C@H](c1ccc(OC)c(OC(C)=O)c1)[C@@H](OC(C)=O)C2', 'CCC[C@@H]1OC(C)=Cc2cc3c(c(O)c21)C(=O)C([C@H]1OC[C@@H](O)[C@H](CO)O1)=CC3=O', 'CC(=O)OC[C@H]1O[C@@H](Oc2ccc3ccccc3c2)C[C@@H](OC(C)=O)[C@H]1OC(C)=O', 'COc1cc(C2c3cc4c(cc3CC(CO)C2C(=O)O)OCO4)cc(OC)c1OC', 'CC(=O)OC(C(=O)O)C(OC(=O)c1ccc(C)cc1)C(=O)O.Cc1ccc(C)cc1', 'CC(C)(C)OC(=O)[C@@H](Cc1ccc(O)c(O)c1)OC(=O)/C=C/c1ccc(O)c(O)c1', 'COc1cc(OC(C)=O)c(OC)c(OC)c1C1COc2cc(OC(C)=O)ccc2C1', 'COc1ccc2c(c1)O[C@@H](c1ccc(OC)c(OC)c1)[C@H](OC(C)=O)[C@H]2OC(C)=O', 'C=CCOC(=O)OCCOc1ccc2cccc(OCCOC(=O)OCC=C)c2c1', 'CCC1(O)Oc2cc3c(cc2C(c2cc(OC)c(O)c(OC)c2)C1C(C)=O)OCO3', 'COc1cccc(COC(=O)/C=C/c2cc(OC)c(OC(C)=O)c(OC)c2)c1OC', 'C=C1C(=O)O[C@@H]2[C@H]3C(C)=CC(=O)C3=C(C)[C@@H](OC(C)=O)[C@H](OC(=O)[C@@]3(C)O[C@@H]3C)[C@@H]12', 'COc1cc(C(c2cc(OC)c3c(c2)OCO3)[C@@H]2CO[C@@H](O)[C@@H]2C)cc2c1OCO2', 'COc1cc2c(c(OC)c1O)C[C@H]1C(=O)c3cc(OC)c(O)c(OC)c3[C@@H]2[C@H]1CO', 'CCC[C@H]1OC(C)=Cc2cc3c(c(O)c21)C(=O)C(C1OC[C@H](O)[C@@H](CO)O1)=CC3=O', 'COc1cc([C@@H](O)C2C(=O)OC[C@@H]2Cc2ccc3c(c2)OCO3)cc(OC)c1OC', 'COCOc1ccc2c(CCO)c(-c3ccc(OC)c(OC)c3OC)c(=O)oc2c1', 'COc1cc(C(=O)C[C@H](Cc2ccc3c(c2)OCO3)OC(C)=O)cc(OC)c1OC', 'CCOC(=O)c1c(C(=O)OCC)c(C(=O)OCC)c2ccccc2c1C(=O)OCC', 'COc1cc(CC2COC(=O)C2Cc2cc(OC)c3c(c2)OCO3)cc(OC)c1O', 'O=C(CC1CCC(CC(=O)c2cc(O)c(O)c(O)c2)CC1)c1cc(O)c(O)c(O)c1', 'CCC[C@H]1OC(C)=Cc2cc3c(c(O)c21)C(=O)C([C@H]1OC[C@H](O)[C@@H](CO)O1)=CC3=O', 'CCOC(=O)c1cc(OC(=O)COc2ccccc2OCC)cc(C(=O)OCC)c1', 'C/C=C(/C)C(=O)O[C@@H](COc1c2ccoc2c(OC)c2oc(=O)ccc12)C(C)(C)O', 'C1CCCCC1.O=C(O)c1ccc(C(=O)O)cc1.O=C(O)c1ccc(C(=O)O)cc1', 'CC1CCC2(O)C13CC(OC(=O)C3OC(=O)c1ccccc1)C1(O)C(=O)OCC12C', 'C/C=C/C1=CC2=C(CO1)C(=O)[C@](C)(O)[C@H](OC(=O)c1c(O)cc(OC)c(O)c1C)C2', 'COCOc1ccc([C@H]2Oc3ccc(/C=C/C=O)cc3O[C@@H]2CO)cc1OCOC', 'CC(=O)OC1=CC=CC(CCc2cc(OC(C)=O)cc(OC(C)=O)c2)(OC(C)=O)C1', 'COc1cc([C@@H](O)[C@H]2C(=O)OC[C@@H]2Cc2ccc3c(c2)OCO3)cc(OC)c1OC', 'CCC[C@H]1OC(C)=Cc2cc3c(c(O)c21)C(=O)C([C@H]1OC[C@@H](O)[C@@H](CO)O1)=CC3=O', 'COc1ccc(/C=C\\\\c2cc(OC)c(OC)c(OC)c2)cc1OC(=O)CCC(=O)O', 'CC=Cc1cccc(-c2ccccc2O[C@@H]2O[C@H](CO)[C@@H](O)[C@H](O)[C@H]2O)c1C(=O)O', 'C=C(C)[C@@H]1Cc2oc(cc2C=O)[C@@H]2O[C@]2(C)C[C@H]2OC(=O)[C@]3(O[C@H]23)[C@@H](OC(C)=O)C1', 'O=C(/C=C/c1ccccc1)OCc1ccccc1O[C@@H]1O[C@H](CO)[C@@H](O)[C@H](O)[C@H]1O', 'CC(=O)OCC(C)c1c(O)c(O)c2c(c1O)C(=O)C1=C3C(C)(CCCC32C)C(=O)O1', 'COc1ccc(/C=C/C(=O)OC(C)C(=O)C2CC2C(O)C2CC=CC(=O)O2)cc1O', 'COc1cc(C[C@@H]2C(=O)OC[C@@H]2[C@H](O)c2ccc3c(c2)OCO3)cc(OC)c1OC', 'COCOc1cc(-c2oc3cc(C)ccc3c(=O)c2OCOC)ccc1OCCO', 'COc1ccc(COC(=O)/C=C/c2cc(OC)c(OC(C)=O)c(OC)c2)cc1OC', 'CCOC(=O)C(Cc1c(O)cc(C)c2c(O)c3c(cc12)C(O)CCC3=O)C(=O)OC', 'COC(=O)CCc1cc(OC)c2c(c1)C(C(=O)OC)C(c1ccc(O)c(OC)c1)O2', 'CC(=O)OCC(C)OC(=O)c1ccc2cc(C(=O)OCC(C)OC(C)=O)ccc2c1', 'COc1cc([C@H]2c3cc4c(cc3O[C@H](OC(C)=O)[C@H]2C)OCO4)cc(OC)c1OC', 'COc1cc([C@H]2OC[C@@]3(OC(C)=O)[C@@H]2CO[C@H]3c2ccc(O)c(OC)c2)ccc1O', 'COc1cc([C@H](O)[C@H]2C(=O)OC[C@@H]2Cc2ccc3c(c2)OCO3)cc(OC)c1OC', 'CCOC(=O)C1=CC(O)C(/C=C/C(=O)c2cccc(O)c2)(OC)C(C(=O)OCC)=C1', 'CO[C@@H]1O[C@@H]2CO[C@@H](c3ccccc3)O[C@H]2[C@H](O)[C@H]1OC(=O)OCc1ccccc1', 'COc1ccc(C(=O)COC(=O)C=Cc2cc(OC)c(OC)c(OC)c2)c(OC)c1', 'COc1ccc([C@H]2c3cc(OC)c(OC)cc3C[C@@H](C(=O)O)[C@@H]2C(=O)O)cc1OC', 'O=Cc1ccc(OCCO[C@H]2OCCO[C@@H]2OCCOc2ccc(C=O)cc2)cc1', 'CC(=O)O[C@@H]1[C@@H](OC(C)=O)[C@H](C)O[C@@H](Oc2ccc3ccccc3c2)[C@@H]1OC(C)=O', 'COc1cc(C(=O)O[C@@H]2CCCC[C@H]2OC(=O)c2ccc(O)c(OC)c2)ccc1O', 'COc1ccc(C2(O)C(C3=CCOO3)CC(=O)CC2(CC2=CCOC2)C(=O)O)cc1', 'CC1(C)C(=O)[C@@]23O[C@]1(C)C=C2COC(=O)[C@@]12O[C@@](C)(C=C1COC3=O)C(C)(C)C2=O', 'COc1cc(C(=O)O[C@H]2CCCC[C@@H]2OC(=O)c2ccc(O)c(OC)c2)ccc1O', 'C=C1C2(O)CC(C)C3(CC(c4ccoc4)OC3=O)C(=O)C2CC(OC(C)=O)C12CO2', 'COc1cc(CC(C(=O)O)C(C)C(=O)c2ccc3c(c2)OCO3)cc(OC)c1OC', 'COc1cc([C@@H](c2cc(OC)c3c(c2)OCO3)[C@H]2COC(=O)[C@H]2C)cc(O)c1OC', 'CCOc1cc(C(=O)OCC(=O)c2ccc3c(c2)OCO3)cc(OCC)c1OCC', 'C=CCO[C@@H]1O[C@H](COC(=O)c2cccc(Oc3ccccc3)c2)[C@@H](O)[C@H](O)[C@H]1O', 'COc1cc(OOCC2CCC(C(=O)Oc3ccc(O)c(C=O)c3)CC2)ccc1O', 'CCOC(=O)c1ccc(C(=O)OCC)cc1.COC(=O)c1ccc(C(=O)OC)cc1', 'COC(=O)c1ccc(Cc2ccc3c(c2)[C@]2(OC3)O[C@H](CO)[C@@H](O)[C@H](O)[C@H]2O)cc1', 'COc1cc([C@@]2(O)CO[C@H](CO)[C@@H](O)[C@@H]2O)cc(O)c1C=CC(=O)c1ccccc1', 'COc1cc(C(O)C2C(=O)OCC2Cc2ccc3c(c2)OCO3)cc(OC)c1OC', 'CO[C@H]1[C@H](O)[C@@H](O)[C@H](Oc2ccc3c(c2)OC(c2ccccc2)CC3=O)O[C@@H]1CO', 'C=CCOC(=O)C1=C[C@H](c2coc3ccccc3c2=O)C[C@H](OCCOCCO)O1', 'CCOc1cc(O[C@H]2OCCO[C@H]2Oc2ccc(C=O)c(OCC)c2)ccc1C=O', 'CCOC(=O)c1ccc(C(=O)OCC)cc1.COC(=O)c1ccccc1C(=O)OC', 'CCOc1cc(-c2oc3cc(OC)c(OCC)c(O)c3c(=O)c2OC)ccc1OC', 'CC=C(C)C(=O)OC(COc1c2ccoc2c(OC)c2oc(=O)ccc12)C(C)(C)O', 'CCOC(=O)C(=O)OCC.O=C(OCc1ccccc1)C(=O)OCc1ccccc1', 'COc1cc(-c2coc3cc(O)cc(O)c3c2=O)c(O)c(CCC(C)(C)O)c1OC', 'OC[C@H]1O[C@@H](Oc2cccc3occ(CCc4cccc(O)c4)c23)[C@H](O)[C@@H](O)[C@@H]1O', 'COc1cc(-c2c([C@H]3OC(=O)C[C@H]3C)cc3c(c2OC)OCO3)cc(OC)c1OC', 'CCOCCOc1c(O)c2c(c(O)c1OCCOCC)C(=O)c1ccccc1C2=O', 'CO[C@H]1[C@H](O)[C@@H](O)[C@H](Oc2ccc(C3CC(=O)c4ccccc4O3)cc2)O[C@@H]1CO', 'COc1ccc(COC(=O)C=Cc2cc(OC)c(OC(C)=O)c(OC)c2)cc1OC', 'CCOC1[C@@H](O)[C@H](OC(=O)c2ccccc2)C(O)[C@H](OC(=O)c2ccccc2)[C@H]1O', 'COC[C@H]1C(C=O)C(c2cc(OC)c(O)c(OC)c2)c2cc3c(cc2[C@H]1O)OCO3', 'CO[C@@H]1O[C@@H]2CO[C@@H](c3ccccc3)O[C@H]2[C@H](OC(=O)OCc2ccccc2)[C@H]1O', 'COc1ccc(C2c3cc(OC)c(OC)cc3C(CC(=O)O)C2C(=O)O)cc1OC', 'CCCC(=O)Cc1cc(O)cc(O)c1C(=O)Oc1cc(O)c(C(=O)O)c(CCC)c1', 'COc1cc([C@@H]2c3cc4c(cc3[C@@H](O)[C@H]3CO[C@@H](OC)[C@H]23)OCO4)cc(OC)c1O', 'COc1cc([C@H](CC(C)=O)c2cc3c(cc2OC(C)=O)OCO3)cc(OC)c1OC', 'CO[C@H]1C2=CO[C@@H](C)[C@@H]3[C@H]4C5=C([C@H](OC)[C@H]6O[C@H]6C5=O)[C@H](O[C@@H]4C)[C@]23C(=O)[C@@H]2O[C@@H]21', 'C=C1C(=O)OC2C=C(C)C3=CC(=O)C(C)(CC(OC(=O)/C(C)=C/COC(C)=O)C12)O3', 'C=C1C(=O)O[C@H]2[C@@H]3C(C)=CC(=O)C3=C(C)[C@@H](OC(C)=O)[C@H](OC(=O)[C@]3(C)O[C@@H]3C)[C@H]12', 'COc1c(O)cc2oc(-c3ccc(O)c(CC[C@H](C)CO)c3)c(OC)c(=O)c2c1O', 'COc1c2c(cc3c1-c1c(cc4c(c1OC)OCO4)C[C@H](CO)[C@@H](CO)C3)OCO2', 'COC(=O)C[C@H]1c2cc(OC)c(O)cc2[C@H](c2ccc(O)c(OC)c2)[C@H]1C(=O)OC', 'CCCCOC(=O)[C@H](Cc1ccc(O)c(O)c1)OC(=O)/C=C/c1ccc(O)c(O)c1', 'C=C1C[C@H]2OC(=O)C3=C[C@H](O)C[C@H]4[C@@]1(C[C@@H](OC(C)=O)c1ccoc1)[C@@H](O)OC[C@]342', 'O=C(CC1CCC(CC(=O)Oc2ccc(O)c(O)c2)CC1)Oc1ccc(O)c(O)c1', 'COc1cc([C@@H](c2cc(O)c3c(c2)OCO3)[C@@H]2COC(=O)[C@H]2C)cc(OC)c1OC', 'COc1cc([C@@H](c2cc(OC)c3c(c2)OCO3)[C@@H]2COC(=O)[C@H]2C)cc(OC)c1O', 'O=C(O[C@H]1Cc2c(O)cc(O)cc2O[C@@H]1c1ccc(O)c(O)c1)C1CCC(O)CC1', 'COc1cc2c(cc1[C@H]1OC[C@]3(O)[C@@H](c4c(OC)cccc4OC)OC[C@H]13)OCO2', 'COc1cc(C(c2cc(O)c3c(c2)OCO3)C2COC(=O)C2C)cc(OC)c1OC', 'COc1cc([C@@H](CC(C)=O)c2cc3c(cc2OC(C)=O)OCO3)cc(OC)c1OC', 'C=C1C(=O)OC2C=C(C)C3=CC(=O)C(C)(CC(OC(=O)C(C)=CCOC(C)=O)C12)O3', 'COc1c(O)cc2oc(-c3ccc(O)c(CCC(C)(C)O)c3)c(OC)c(=O)c2c1O', 'CO[C@@H]1OC(CO)[C@@H](OC)[C@H](OC(=O)c2ccccc2)C1OC(=O)c1ccccc1', 'COc1cc(C[C@H]2C(=O)OC[C@H]2[C@H](O)c2ccc3c(c2)OCO3)cc(OC)c1OC', 'COc1cc(C[C@H]2C(=O)OC[C@@H]2Cc2cc3c(cc2O)OCO3)cc(OC)c1OC', 'COC(=O)[C@H]1O[C@@H](OC(=O)[C@@H](C)c2ccc(-c3ccccc3)cc2)[C@H](O)[C@@H](O)[C@@H]1O', 'COCOc1ccc(/C=C/c2ccc(C(=O)OC)c(C(=O)OC)c2)cc1OCOC', 'CC=CC1=CC2=C(CO1)C(=O)C(C)(O)C(OC(=O)c1c(C)cc(O)c(O)c1OC)C2', 'COC(C)=CC(=O)OCC1OC1(Cc1cc(OC)cc(=O)o1)c1ccc(OC)cc1', 'COc1cc(C(c2cc(O)c3c(c2)OCO3)[C@@H]2COC(=O)[C@H]2C)cc(OC)c1OC', 'CC(C(=O)OC[C@H]1OC(O)[C@H](O)[C@@H](O)[C@@H]1O)c1cccc(C(=O)c2ccccc2)c1', 'CC1CC(COC(=O)OCc2ccccc2)OC1=O.O=C(O)OCc1ccccc1', 'COc1ccc([C@H]2Oc3c(ccc(OC)c3OC)[C@@H](OC(C)=O)[C@@H]2OC(C)=O)cc1', 'COC(=O)c1ccc(C2O[C@H](C(O)CO)[C@@H]3OC(c4ccccc4)OC[C@@]23O)cc1', 'CO[C@@H]([C@H]1C[C@@H]1C(=O)[C@@H](C)OC(=O)/C=C/c1ccc(O)c(O)c1)[C@H]1CC=CC(=O)O1', 'CC(=O)OCC(O)COC1=CC2OC(=O)C(c3ccc(OCCO)cc3)=CC2C=C1', 'COc1ccc([C@H]2c3cc(OC)c(OC)cc3C[C@H](C(=O)O)[C@@H]2C(=O)O)cc1OC', 'COc1cc([C@@H]2c3cc4c(cc3O[C@@](C)(O)[C@H]2C(C)=O)OCO4)cc(OC)c1OC', 'Cc1ccc(C(=O)O[C@H]2[C@@H](O)[C@@H](CO)O[C@@H](O)[C@H]2OC(=O)c2ccc(C)cc2)cc1', 'COCCOCOC(=O)c1cc(O)c(C)cc1-c1ccc(C(C)=O)cc1C(=O)OC', 'COc1ccc2c(c1)O[C@H](c1ccc(OC)c(OC)c1)[C@H](OC(C)=O)[C@@H]2OC(C)=O', 'C=C1C(=O)O[C@H]2[C@H]1[C@H](OC(=O)/C(=C/C)COC(C)=O)[C@H](O)C(=C)[C@@H]1C(=O)C=C(C)[C@@H]12', 'COc1cc(CCC(=O)OCC(=O)c2ccc3c(c2)OCCO3)cc(OC)c1OC', 'COc1cc([C@@H]2c3cc4c(cc3[C@H](O)C(CO)C2C=O)OCO4)cc(OC)c1OC', 'COc1ccc(/C=C/C(=O)c2ccc(O[C@@H]3O[C@@H](C)[C@H](O)[C@@H](O)[C@H]3O)cc2O)cc1', 'C=CC(=O)OCCOC(=O)c1ccc(CCOC(=O)C=C)c(CCOC(=O)C=C)c1', 'CC(C)(C)C(=O)OC[C@@]12C[C@H](COC(=O)c3ccccc3)[C@H](O1)C1C(=O)OC(=O)C12', 'CO[C@@]1(C[C@@H](O)C(=O)O)C(=O)c2c(O)c3c(c4c(C)cc(O)c1c24)O[C@@H](C)C3(C)C', 'COc1ccc(C2c3cc4c(c(OC)c3CC(CO)C2C(=O)O)OCO4)cc1OC', 'COc1cccc2c1C(O)c1c(O)c3c(c(O)c1C2O)CC(O)(C(C)=O)CC3OC', 'O.O=C1c2cccc3c2C(=O)c2c(cccc21)OCCOCCOCCOCCO3', 'COc1cc2c(c(OC)c1O)CC1C(=O)c3cc(OC)c(O)c(OC)c3C2C1CO', 'CCC[C@H]1OC(C)=Cc2cc3c(c(O)c21)C(=O)C([C@@H]1OC[C@@H](O)[C@H](CO)O1)=CC3=O', 'COc1ccc(C2(O)OC(=O)C=C2C(C2=COCO2)C2(C(=O)O)CCCCC2)cc1', 'O=C(CC1CCCC(CC(=O)Oc2ccc(O)c(O)c2)C1)Oc1ccc(O)c(O)c1', 'C=CCOC(=O)O.C=CCOC(=O)O.Oc1ccc(C=Cc2ccc(O)cc2)cc1', 'CC(=O)OCc1ccc(COC(C)=O)c2c(COC(C)=O)ccc(COC(C)=O)c12', 'CCCC1OC(C)=Cc2cc3c(c(O)c21)C(=O)C([C@@H]1OC[C@@H](C(O)CO)O1)=CC3=O', 'COc1ccc(COC[C@H]2OC(=O)[C@@](C)(O)[C@@H]2OC(=O)OCc2ccccc2)cc1', 'O=C(O)C1(C(=O)O)C=CC(c2ccccc2)=CC1.O=C(O)C1CCC(C(=O)O)CC1', 'COc1cc(C(=O)OC2CCCCC2OC(=O)c2ccc(O)c(OC)c2)ccc1O', 'OC[C@H]1O[C@@H](Oc2cc(O)cc3occ(CCc4ccccc4)c23)[C@H](O)[C@@H](O)[C@@H]1O', 'OC[C@H]1O[C@](O)(c2ccc(OCC3CO3)cc2)[C@@H]2OC(c3ccccc3)O[C@H]1[C@@H]2O', 'O=C(CC1CCC(CC(=O)Oc2cc(O)cc(O)c2)CC1)Oc1cc(O)cc(O)c1', 'CCC(O)c1c(OC)cc(C)c2c1Oc1c(C(=O)OC)cc(OC)c(C)c1OC2=O', 'CCCc1c(OCCCOc2cc(C(=O)O)cc(C(=O)O)c2)ccc(C(C)=O)c1O', 'O=C(OOC(=O)c1cc(O)c2c(c1O)CCCCCCCC2)c1cc(O)ccc1O', 'COc1cc(C(=O)OC2CCCC(OC(=O)c3ccc(O)c(OC)c3)C2)ccc1O', 'COc1ccc(C=Cc2cc(OC)c(OC)c(OC)c2)cc1OC(=O)CCC(=O)O', 'COc1cc([C@@H]2c3cc4c(cc3[C@@H](O)[C@H]3COC(O)[C@@H]23)OCO4)cc(OC)c1OC', 'COc1ccc(COC2CCCOC(=O)CCC3=C(/C=C/OC2)C(=O)OC3=O)cc1', 'COc1cc2c(c(OC)c1OC)[C@H](c1ccc3c(c1)OCO3)[C@H]1CO[C@H](O)[C@@]1(O)C2', 'COc1cc(C[C@H](C(=O)O)[C@H](C)C(=O)c2ccc3c(c2)OCO3)cc(OC)c1OC', 'CCCC1OC(C)=Cc2cc3c(c(O)c21)C(=O)C(C1OCC(O)C(O)C1O)=CC3=O', 'C[C@H](OC(=O)/C=C/c1ccc(O)c(O)c1)[C@H](C)O[C@H](O)/C=C/c1ccc(O)c(O)c1', 'C=CCO[C@@H]1[C@@H](O)[C@H](O)[C@@H](COC(=O)c2cccc(Oc3ccccc3)c2)O[C@H]1O', 'COc1cc([C@H]2c3cc4c(cc3O[C@@](C)(O)[C@H]2C(C)=O)OCO4)cc(OC)c1OC', 'C=C1CC2OC(=O)C3=CC(O)CC4C1(CC(OC(C)=O)c1ccoc1)C(O)OCC324', 'O=C1OCC=CCOC(=O)C2(CC=CC2)C(=O)OCC=CCOC(=O)C12CC=CC2', 'COc1cc(C2c3c(cc(OC)c(O)c3OC)C=C(C=O)C2CO)cc(OC)c1O', 'COC(=O)C1C2C=C(c3ccccc3)C(C1C(=O)OC)C(C(=O)OC)C2C(=O)OC', 'COC(=O)c1ccc(OC(=O)CCCOc2ccc(C(C)=O)cc2OC)c(OC)c1', 'COc1cc([C@@H]2c3cc4c(cc3O[C@H](OC(C)=O)[C@H]2C)OCO4)cc(OC)c1OC', 'CCOc1cc(OC2OCCOC2Oc2ccc(C=O)c(OCC)c2)ccc1C=O', 'CCOC(=O)C(C)OC(=O)c1ccc2cc(C(=O)OC(C)C(=O)OCC)ccc2c1', 'COc1cc([C@@H]2c3cc4c(cc3[C@@H](O)[C@@H](COC=O)[C@@H]2C)OCO4)cc(OC)c1O', 'O=Cc1ccc(OC(=O)C2=COCCOCCOCCOC3C=CC=CC3O2)cc1', 'Cc1c(O)c(C(=O)C(C)C)c(O)c2c3c(oc12)C(C)(O)C(=O)C(C(=O)C(C)C)=C3O', 'COc1cc([C@@H]2c3cc4c(cc3O[C@](C)(O)[C@H]2C(C)=O)OCO4)cc(OC)c1OC', 'COc1cc(C=O)cc(OC)c1OC/C=C/COc1c(OC)cc(C=O)cc1OC', 'C=C1[C@@]2(CO2)[C@@H](OC(C)=O)C[C@H]2C(=O)[C@@]3(C[C@@H](c4ccoc4)OC3=O)[C@H](C)C[C@]12O', 'COc1cc(C2OCC3C(c4cc(OC)c(O)c(OC)c4)OCC23)cc(C=O)c1O', 'O=C(Oc1ccccc1)c1ccc(C(=O)OC2CCCCC2)c(OCO)c1OCO', 'C=C(C)[C@@H]1Cc2oc(cc2C=O)[C@@H]2O[C@@]2(C)C[C@H]2OC(=O)[C@@]3(O[C@H]23)[C@@H](OC(C)=O)C1', 'CCO[C@@H]1c2cc(O)c(O)cc2[C@@H](c2cc(OC)c(O)c(OC)c2)[C@H]2C(=O)OCC12', 'C=CC(=O)OCC(O)COc1ccc(OCC(CO)OC(=O)C=C)c2ccccc12', 'COc1cc(C[C@@H]2C(=O)OC[C@H]2Cc2cc(OC)c3c(c2)OCO3)cc(OC)c1O', 'CC1CCCC(O)C2(O)C(=O)C=CC3OC(/C=C/C=C/C=C/C(=O)O)=C(C(=O)O1)C32', 'CCOC(=O)[C@@H](C)c1cc2cc(C(=O)O)ccc2c([C@H](C)C(=O)OCC)c1C(=O)O', 'CC(C)(Oc1ccc(CCOc2ccc(CC(C(=O)O)C(=O)O)cc2)cc1)C(=O)O', 'COC[C@@H](C)c1ccc(-c2cc(=O)c3c(O)cc(OC[C@H](O)CO)cc3o2)cc1O', 'COc1cc(C(=O)O[C@H]2CCCC[C@H]2OC(=O)c2ccc(O)c(OC)c2)ccc1O', 'COC1=C(OC)C(=O)[C@@]23C(=C1)[C@@H](O)[C@@H](C)[C@]2(C)[C@@H](O)c1cc2c(c(OC)c13)OCO2', 'COC(=O)c1c(O)cc(OC)cc1-c1cccc([C@H]2OC(C)(C)O[C@@H]2C(=O)OC)c1', 'COc1cc(C[C@@H](C(=O)O)[C@@H](C)C(=O)c2ccc3c(c2)OCO3)cc(OC)c1OC', 'CCO[C@@H]1O[C@H](COC(=O)c2ccccc2)[C@H](O)[C@H](O)[C@H]1OC(=O)c1ccccc1', 'COc1cc(OC)c(C(=O)/C=C/c2cc(OC)c(OC)c(OC)c2)c(OC(C)=O)c1', 'COc1cc([C@H]2c3c(cc(OC)c(O)c3OC)C[C@H]3COC(=O)[C@@H]32)cc(OC)c1O', 'C[C@H](C(=O)O[C@H]1O[C@@H](CO)[C@H](O)[C@@H](O)[C@@H]1O)c1cccc(C(=O)c2ccccc2)c1', 'CCCC1OC(C)=Cc2cc3c(c(O)c21)C(=O)C(C1OC[C@@H](O)[C@@H](O)[C@H]1O)=CC3=O', 'COc1cc([C@@H](O)[C@@H]2C(=O)OC[C@H]2Cc2ccc3c(c2)OCO3)cc(OC)c1OC', 'COc1c(C/C=C/Cc2cc3c(c(OC)c2OC)OCO3)cc2c(c1OC)OCO2']}\n"
     ]
    }
   ],
   "source": [
    "tmp_msn = []\n",
    "for batch in train_loader_msn:\n",
    "    print(batch)\n",
    "    tmp_msn = batch\n",
    "    break"
   ]
  },
  {
   "cell_type": "code",
   "execution_count": 33,
   "id": "9e1dd97c544da443",
   "metadata": {
    "ExecuteTime": {
     "end_time": "2025-02-14T14:09:27.772537Z",
     "start_time": "2025-02-14T14:09:27.769268Z"
    }
   },
   "outputs": [
    {
     "name": "stdout",
     "output_type": "stream",
     "text": [
      "dict_keys(['spec', 'mol', 'precursor_mz', 'adduct', 'identifier', 'mol_freq', 'smiles', 'candidates', 'labels', 'batch_ptr', 'candidates_smiles'])\n",
      "batch_ptr is present: tensor([256,  35, 256, 256, 256, 256, 256, 256, 146, 256, 256, 256],\n",
      "       dtype=torch.int32)\n"
     ]
    }
   ],
   "source": [
    "# Check the keys in the batch\n",
    "print(tmp_msn.keys())\n",
    "\n",
    "# Specifically check if 'batch_ptr' is present\n",
    "if 'batch_ptr' in tmp_msn:\n",
    "    print(\"batch_ptr is present:\", tmp_msn['batch_ptr'])\n",
    "else:\n",
    "    print(\"batch_ptr is missing\")"
   ]
  },
  {
   "cell_type": "code",
   "execution_count": 34,
   "id": "f3934a3f-2f70-4faf-ad4a-216e621e3bff",
   "metadata": {},
   "outputs": [
    {
     "name": "stdout",
     "output_type": "stream",
     "text": [
      "Data types in tmp_original:\n",
      "  spec: <class 'torch.Tensor'>\n",
      "  mol: <class 'torch.Tensor'>\n",
      "  precursor_mz: <class 'torch.Tensor'>\n",
      "  adduct: <class 'list'>\n",
      "  mol_freq: <class 'torch.Tensor'>\n",
      "  identifier: <class 'list'>\n",
      "  smiles: <class 'list'>\n",
      "  candidates: <class 'torch.Tensor'>\n",
      "  labels: <class 'torch.Tensor'>\n",
      "  batch_ptr: <class 'torch.Tensor'>\n",
      "  candidates_smiles: <class 'list'>\n",
      "Data types in tmp_msn:\n",
      "  spec: <class 'abc.DataBatch'>\n",
      "  mol: <class 'torch.Tensor'>\n",
      "  precursor_mz: <class 'torch.Tensor'>\n",
      "  adduct: <class 'list'>\n",
      "  identifier: <class 'list'>\n",
      "  mol_freq: <class 'torch.Tensor'>\n",
      "  smiles: <class 'list'>\n",
      "  candidates: <class 'torch.Tensor'>\n",
      "  labels: <class 'torch.Tensor'>\n",
      "  batch_ptr: <class 'torch.Tensor'>\n",
      "  candidates_smiles: <class 'list'>\n"
     ]
    }
   ],
   "source": [
    "def print_key_types(obj, obj_name):\n",
    "    print(f\"Data types in {obj_name}:\")\n",
    "    for key, value in obj.items():\n",
    "        print(f\"  {key}: {type(value)}\")\n",
    "\n",
    "# Print data types for both objects\n",
    "print_key_types(tmp_original, \"tmp_original\")\n",
    "print_key_types(tmp_msn, \"tmp_msn\")"
   ]
  },
  {
   "cell_type": "markdown",
   "id": "ef424072a9118b2d",
   "metadata": {},
   "source": [
    "#### Shold be dict_keys(['spec', 'mol', 'precursor_mz', 'adduct', 'mol_freq', 'identifier', 'smiles', 'candidates', 'labels', 'batch_ptr', 'candidates_smiles'])"
   ]
  },
  {
   "cell_type": "code",
   "execution_count": 35,
   "id": "a4498cf09b5c3638",
   "metadata": {
    "ExecuteTime": {
     "end_time": "2025-01-26T14:09:43.988566Z",
     "start_time": "2025-01-26T14:09:43.986227Z"
    }
   },
   "outputs": [
    {
     "data": {
      "text/plain": [
       "dict_keys(['spec', 'mol', 'precursor_mz', 'adduct', 'identifier', 'mol_freq', 'smiles', 'candidates', 'labels', 'batch_ptr', 'candidates_smiles'])"
      ]
     },
     "execution_count": 35,
     "metadata": {},
     "output_type": "execute_result"
    }
   ],
   "source": [
    "tmp_msn.keys()"
   ]
  },
  {
   "cell_type": "code",
   "execution_count": 36,
   "id": "843fe9326df72b03",
   "metadata": {
    "ExecuteTime": {
     "end_time": "2025-01-26T14:09:44.060212Z",
     "start_time": "2025-01-26T14:09:44.058107Z"
    }
   },
   "outputs": [
    {
     "data": {
      "text/plain": [
       "DataBatch(x=[141, 1039], edge_index=[2, 258], batch=[141], ptr=[13])"
      ]
     },
     "execution_count": 36,
     "metadata": {},
     "output_type": "execute_result"
    }
   ],
   "source": [
    "tmp_msn['spec'] "
   ]
  },
  {
   "cell_type": "code",
   "execution_count": 37,
   "id": "fc8ed10da30f9581",
   "metadata": {
    "ExecuteTime": {
     "end_time": "2025-01-26T14:09:44.116680Z",
     "start_time": "2025-01-26T14:09:44.113941Z"
    }
   },
   "outputs": [
    {
     "data": {
      "text/plain": [
       "tensor([540.2440, 730.2917, 393.1333, 435.1286, 401.1959, 334.1550, 496.2177,\n",
       "        340.1543, 644.3065, 401.1595, 397.1646, 399.1438])"
      ]
     },
     "execution_count": 37,
     "metadata": {},
     "output_type": "execute_result"
    }
   ],
   "source": [
    "tmp_msn['precursor_mz']"
   ]
  },
  {
   "cell_type": "code",
   "execution_count": 38,
   "id": "dfecc66a8137880d",
   "metadata": {
    "ExecuteTime": {
     "end_time": "2025-01-26T14:09:44.542604Z",
     "start_time": "2025-01-26T14:09:44.539467Z"
    }
   },
   "outputs": [
    {
     "data": {
      "text/plain": [
       "tensor([2., 1., 2., 1., 2., 1., 1., 1., 1., 4., 1., 3.])"
      ]
     },
     "execution_count": 38,
     "metadata": {},
     "output_type": "execute_result"
    }
   ],
   "source": [
    "tmp_msn['mol_freq']"
   ]
  },
  {
   "cell_type": "code",
   "execution_count": 39,
   "id": "f3cce6c85a13d606",
   "metadata": {
    "ExecuteTime": {
     "end_time": "2025-01-26T14:09:44.687710Z",
     "start_time": "2025-01-26T14:09:44.685606Z"
    }
   },
   "outputs": [
    {
     "data": {
      "text/plain": [
       "['0000433_0000000',\n",
       " '0000457_0000000',\n",
       " '0000131_0000000',\n",
       " '0000423_0000000',\n",
       " '0000272_0000000',\n",
       " '0000174_0000000',\n",
       " '0000285_0000000',\n",
       " '0000264_0000000',\n",
       " '0000397_0000000',\n",
       " '0000546_0000000',\n",
       " '0000187_0000000',\n",
       " '0000059_0000000']"
      ]
     },
     "execution_count": 39,
     "metadata": {},
     "output_type": "execute_result"
    }
   ],
   "source": [
    "tmp_msn['identifier']"
   ]
  },
  {
   "cell_type": "code",
   "execution_count": 40,
   "id": "f51053f8670e729f",
   "metadata": {
    "ExecuteTime": {
     "end_time": "2025-01-26T14:09:44.850983Z",
     "start_time": "2025-01-26T14:09:44.848292Z"
    }
   },
   "outputs": [
    {
     "data": {
      "text/plain": [
       "['[M+NH4]+',\n",
       " '[M+NH4]+',\n",
       " '[M+H-H2O]+',\n",
       " '[M+H]+',\n",
       " '[M+H]+',\n",
       " '[M+H]+',\n",
       " '[M+NH4]+',\n",
       " '[M+H]+',\n",
       " '[M+NH4]+',\n",
       " '[M+H]+',\n",
       " '[M+H]+',\n",
       " '[M+H-H2O]+']"
      ]
     },
     "execution_count": 40,
     "metadata": {},
     "output_type": "execute_result"
    }
   ],
   "source": [
    "tmp_msn['adduct']"
   ]
  },
  {
   "cell_type": "code",
   "execution_count": 41,
   "id": "1874faafb955f9d4",
   "metadata": {
    "ExecuteTime": {
     "end_time": "2025-01-26T14:09:45.017903Z",
     "start_time": "2025-01-26T14:09:45.015397Z"
    }
   },
   "outputs": [
    {
     "data": {
      "text/plain": [
       "torch.Size([12, 4096])"
      ]
     },
     "execution_count": 41,
     "metadata": {},
     "output_type": "execute_result"
    }
   ],
   "source": [
    "tmp_msn['mol'].shape"
   ]
  },
  {
   "cell_type": "code",
   "execution_count": 42,
   "id": "26e13e52cabf0dac",
   "metadata": {
    "ExecuteTime": {
     "end_time": "2025-01-26T14:09:45.166081Z",
     "start_time": "2025-01-26T14:09:45.163471Z"
    }
   },
   "outputs": [
    {
     "data": {
      "text/plain": [
       "['COC1=C(C=C2C(C(C(CC2=C1)CO)CO[C@H]3[C@@H]([C@H]([C@@H]([C@H](O3)CO)O)O)O)C4=CC(=C(C=C4)O)OC)O',\n",
       " 'COC1=CC(=CC(=C1O)OC)[C@H]2C3CO[C@@H](C3CO2)C4=CC(=C(C(=C4)OC)O[C@H]5[C@@H]([C@H]([C@@H]([C@H](O5)CO)O)O)O[C@H]6[C@@H]([C@](CO6)(CO)O)O)OC',\n",
       " 'CC(=C)[C@@H]1CC2=C(O1)C=CC3=C2O[C@H]4COC5=CC(=C(C=C5[C@]4(C3=O)O)OC)OC',\n",
       " 'C1[C@H](OC2=C(C1=O)C(=C(C(=C2)O)[C@H]3[C@@H]([C@H]([C@@H]([C@H](O3)CO)O)O)O)O)C4=CC=C(C=C4)O',\n",
       " 'CC1CC2=CC3=C(C(=C2C4=C(C(=C(C=C4CC1C)OC)OC)OC)OC)OCO3',\n",
       " 'C1=CC=C(C=C1)CC2C(=O)NC(C(=O)N2)CC3=CNC4=CC=CC=C43',\n",
       " 'C1[C@H]([C@@H]([C@H]([C@@H](O1)O[C@@H](CCC2=CC(=C(C=C2)O)O)CC(=O)CCC3=CC(=C(C=C3)O)O)O)O)O',\n",
       " 'COC1=C(C=C(C=C1)CC2=NC=CC3=CC(=C(C=C32)OC)OC)OC',\n",
       " 'C/C=C(\\\\C)/C(=O)OC1C(C(C2(C3CCC4(C(OC(=O)CC4=C3CC1(C2=O)O)C5=COC=C5)C)C)C(C(=O)OC)OC(=O)C)(C)C',\n",
       " 'CC1=C2C(=CC=C1)OC(=O)C3(C2=O)C(C(=O)CC3(C)C=C)C(CO)COC(=O)C',\n",
       " 'CC(=CCC1=C(C2=C(C=C1O)OC3=C(C2=O)C(=C(C(=C3)O)O)CC=C(C)C)O)C',\n",
       " 'C/C=C(\\\\C)/C(=O)OC(COC1=C2C(=C(C3=C1OC(=O)C=C3)OC)C=CO2)C(C)(C)O']"
      ]
     },
     "execution_count": 42,
     "metadata": {},
     "output_type": "execute_result"
    }
   ],
   "source": [
    "tmp_msn['smiles']"
   ]
  },
  {
   "cell_type": "code",
   "execution_count": 43,
   "id": "e519fe7ed5121dcc",
   "metadata": {
    "ExecuteTime": {
     "end_time": "2025-01-26T14:09:45.345887Z",
     "start_time": "2025-01-26T14:09:45.343339Z"
    }
   },
   "outputs": [
    {
     "data": {
      "text/plain": [
       "tensor([ True, False, False,  ..., False, False, False])"
      ]
     },
     "execution_count": 43,
     "metadata": {},
     "output_type": "execute_result"
    }
   ],
   "source": [
    "tmp_msn['labels']"
   ]
  },
  {
   "cell_type": "code",
   "execution_count": 44,
   "id": "61de3b3ad4572c7a",
   "metadata": {
    "ExecuteTime": {
     "end_time": "2025-01-26T14:09:45.507683Z",
     "start_time": "2025-01-26T14:09:45.499212Z"
    }
   },
   "outputs": [
    {
     "data": {
      "text/plain": [
       "tensor(12)"
      ]
     },
     "execution_count": 44,
     "metadata": {},
     "output_type": "execute_result"
    }
   ],
   "source": [
    "sum(tmp_msn['labels'])"
   ]
  },
  {
   "cell_type": "code",
   "execution_count": 45,
   "id": "86224621a407862f",
   "metadata": {
    "ExecuteTime": {
     "end_time": "2025-01-26T14:09:45.684944Z",
     "start_time": "2025-01-26T14:09:45.681948Z"
    }
   },
   "outputs": [
    {
     "data": {
      "text/plain": [
       "tensor([   0,  256,  291,  547,  803, 1059, 1315, 1571, 1827, 1973, 2229, 2485])"
      ]
     },
     "execution_count": 45,
     "metadata": {},
     "output_type": "execute_result"
    }
   ],
   "source": [
    "torch.nonzero(tmp_msn['labels'], as_tuple=False).squeeze()"
   ]
  },
  {
   "cell_type": "code",
   "execution_count": 46,
   "id": "df3c85be4bd961ae",
   "metadata": {
    "ExecuteTime": {
     "end_time": "2025-01-26T14:09:45.846982Z",
     "start_time": "2025-01-26T14:09:45.844508Z"
    }
   },
   "outputs": [
    {
     "data": {
      "text/plain": [
       "2741"
      ]
     },
     "execution_count": 46,
     "metadata": {},
     "output_type": "execute_result"
    }
   ],
   "source": [
    "len(tmp_msn['labels'])"
   ]
  },
  {
   "cell_type": "code",
   "execution_count": 47,
   "id": "e30895af70b971cf",
   "metadata": {
    "ExecuteTime": {
     "end_time": "2025-01-26T14:09:46.046226Z",
     "start_time": "2025-01-26T14:09:46.043541Z"
    }
   },
   "outputs": [
    {
     "data": {
      "text/plain": [
       "tensor([256,  35, 256, 256, 256, 256, 256, 256, 146, 256, 256, 256],\n",
       "       dtype=torch.int32)"
      ]
     },
     "execution_count": 47,
     "metadata": {},
     "output_type": "execute_result"
    }
   ],
   "source": [
    "tmp_msn['batch_ptr']"
   ]
  },
  {
   "cell_type": "code",
   "execution_count": 48,
   "id": "cd6581b0abe8464d",
   "metadata": {
    "ExecuteTime": {
     "end_time": "2025-01-26T14:09:46.564081Z",
     "start_time": "2025-01-26T14:09:46.561215Z"
    }
   },
   "outputs": [
    {
     "data": {
      "text/plain": [
       "tensor(2741, dtype=torch.int32)"
      ]
     },
     "execution_count": 48,
     "metadata": {},
     "output_type": "execute_result"
    }
   ],
   "source": [
    "sum(tmp_msn['batch_ptr'])"
   ]
  },
  {
   "cell_type": "code",
   "execution_count": 49,
   "id": "bac322d4444ee5ea",
   "metadata": {
    "ExecuteTime": {
     "end_time": "2025-01-26T14:09:46.742119Z",
     "start_time": "2025-01-26T14:09:46.739777Z"
    }
   },
   "outputs": [
    {
     "data": {
      "text/plain": [
       "2741"
      ]
     },
     "execution_count": 49,
     "metadata": {},
     "output_type": "execute_result"
    }
   ],
   "source": [
    "len(tmp_msn['candidates'])"
   ]
  },
  {
   "cell_type": "code",
   "execution_count": 50,
   "id": "5240b59230576227",
   "metadata": {
    "ExecuteTime": {
     "end_time": "2025-01-26T14:09:46.904383Z",
     "start_time": "2025-01-26T14:09:46.902008Z"
    }
   },
   "outputs": [
    {
     "data": {
      "text/plain": [
       "torch.Size([4096])"
      ]
     },
     "execution_count": 50,
     "metadata": {},
     "output_type": "execute_result"
    }
   ],
   "source": [
    "tmp_msn['candidates'][5].shape"
   ]
  },
  {
   "cell_type": "markdown",
   "id": "8fabb6d3fa7fd1ec",
   "metadata": {},
   "source": [
    "### Compare Shapes"
   ]
  },
  {
   "cell_type": "code",
   "execution_count": 51,
   "id": "1569a73db41d79ad",
   "metadata": {
    "ExecuteTime": {
     "end_time": "2025-01-26T14:09:47.239455Z",
     "start_time": "2025-01-26T14:09:47.237177Z"
    }
   },
   "outputs": [
    {
     "data": {
      "text/plain": [
       "True"
      ]
     },
     "execution_count": 51,
     "metadata": {},
     "output_type": "execute_result"
    }
   ],
   "source": [
    "tmp_msn.keys() == tmp_original.keys()"
   ]
  },
  {
   "cell_type": "code",
   "execution_count": 52,
   "id": "e05b0a2b1e4ecf17",
   "metadata": {
    "ExecuteTime": {
     "end_time": "2025-01-26T14:09:47.438583Z",
     "start_time": "2025-01-26T14:09:47.436466Z"
    }
   },
   "outputs": [
    {
     "data": {
      "text/plain": [
       "True"
      ]
     },
     "execution_count": 52,
     "metadata": {},
     "output_type": "execute_result"
    }
   ],
   "source": [
    "tmp_msn['batch_ptr'].shape == tmp_original['batch_ptr'].shape"
   ]
  },
  {
   "cell_type": "code",
   "execution_count": 53,
   "id": "b606c035c765f275",
   "metadata": {
    "ExecuteTime": {
     "end_time": "2025-01-26T14:09:47.602278Z",
     "start_time": "2025-01-26T14:09:47.599955Z"
    }
   },
   "outputs": [
    {
     "data": {
      "text/plain": [
       "False"
      ]
     },
     "execution_count": 53,
     "metadata": {},
     "output_type": "execute_result"
    }
   ],
   "source": [
    "tmp_msn['batch_ptr'].dtype == tmp_original['batch_ptr'].dtype"
   ]
  },
  {
   "cell_type": "code",
   "execution_count": 54,
   "id": "2217b21a37932e30",
   "metadata": {
    "ExecuteTime": {
     "end_time": "2025-01-26T14:13:34.631369Z",
     "start_time": "2025-01-26T14:13:34.629025Z"
    }
   },
   "outputs": [
    {
     "data": {
      "text/plain": [
       "torch.int64"
      ]
     },
     "execution_count": 54,
     "metadata": {},
     "output_type": "execute_result"
    }
   ],
   "source": [
    "tmp_original['batch_ptr'].dtype"
   ]
  },
  {
   "cell_type": "code",
   "execution_count": 55,
   "id": "782a345bcd3a68db",
   "metadata": {
    "ExecuteTime": {
     "end_time": "2025-01-26T14:13:22.931706Z",
     "start_time": "2025-01-26T14:13:22.922641Z"
    }
   },
   "outputs": [
    {
     "data": {
      "text/plain": [
       "torch.int32"
      ]
     },
     "execution_count": 55,
     "metadata": {},
     "output_type": "execute_result"
    }
   ],
   "source": [
    "tmp_msn['batch_ptr'].dtype"
   ]
  },
  {
   "cell_type": "code",
   "execution_count": 56,
   "id": "f9dae4c8aaa7564b",
   "metadata": {
    "ExecuteTime": {
     "end_time": "2025-01-26T14:09:47.774336Z",
     "start_time": "2025-01-26T14:09:47.771485Z"
    }
   },
   "outputs": [
    {
     "data": {
      "text/plain": [
       "(tensor(2741, dtype=torch.int32), 2741)"
      ]
     },
     "execution_count": 56,
     "metadata": {},
     "output_type": "execute_result"
    }
   ],
   "source": [
    "sum(tmp_msn['batch_ptr']), len(tmp_msn['candidates_smiles'])"
   ]
  },
  {
   "cell_type": "code",
   "execution_count": 57,
   "id": "67eeb6830a02639a",
   "metadata": {
    "ExecuteTime": {
     "end_time": "2025-01-26T14:09:47.942548Z",
     "start_time": "2025-01-26T14:09:47.940125Z"
    }
   },
   "outputs": [
    {
     "data": {
      "text/plain": [
       "(tensor(3055), 3055)"
      ]
     },
     "execution_count": 57,
     "metadata": {},
     "output_type": "execute_result"
    }
   ],
   "source": [
    "sum(tmp_original['batch_ptr']), len(tmp_original['candidates_smiles'])"
   ]
  },
  {
   "cell_type": "code",
   "execution_count": 58,
   "id": "da6f7d53ce907f18",
   "metadata": {
    "ExecuteTime": {
     "end_time": "2025-01-26T14:09:48.103318Z",
     "start_time": "2025-01-26T14:09:48.101065Z"
    }
   },
   "outputs": [
    {
     "data": {
      "text/plain": [
       "True"
      ]
     },
     "execution_count": 58,
     "metadata": {},
     "output_type": "execute_result"
    }
   ],
   "source": [
    "tmp_msn['labels'].dtype == tmp_original['labels'].dtype"
   ]
  },
  {
   "cell_type": "code",
   "execution_count": 59,
   "id": "29f2304a3eb0d784",
   "metadata": {
    "ExecuteTime": {
     "end_time": "2025-01-26T14:09:48.260879Z",
     "start_time": "2025-01-26T14:09:48.258837Z"
    }
   },
   "outputs": [
    {
     "data": {
      "text/plain": [
       "True"
      ]
     },
     "execution_count": 59,
     "metadata": {},
     "output_type": "execute_result"
    }
   ],
   "source": [
    "tmp_msn['candidates'].dtype == tmp_original['candidates'].dtype"
   ]
  },
  {
   "cell_type": "code",
   "execution_count": 60,
   "id": "bf61a76af4db9b5a",
   "metadata": {
    "ExecuteTime": {
     "end_time": "2025-01-26T14:09:48.433295Z",
     "start_time": "2025-01-26T14:09:48.430979Z"
    }
   },
   "outputs": [
    {
     "data": {
      "text/plain": [
       "True"
      ]
     },
     "execution_count": 60,
     "metadata": {},
     "output_type": "execute_result"
    }
   ],
   "source": [
    "tmp_msn['candidates'][0].shape == tmp_original['candidates'][0].shape"
   ]
  },
  {
   "cell_type": "code",
   "execution_count": 61,
   "id": "e28ea4d96f687f0f",
   "metadata": {
    "ExecuteTime": {
     "end_time": "2025-01-26T14:09:48.599192Z",
     "start_time": "2025-01-26T14:09:48.597148Z"
    }
   },
   "outputs": [
    {
     "data": {
      "text/plain": [
       "True"
      ]
     },
     "execution_count": 61,
     "metadata": {},
     "output_type": "execute_result"
    }
   ],
   "source": [
    "tmp_msn['candidates'][5].shape == tmp_original['candidates'][5].shape"
   ]
  },
  {
   "cell_type": "code",
   "execution_count": 62,
   "id": "68573c7361e436dd",
   "metadata": {
    "ExecuteTime": {
     "end_time": "2025-01-26T14:09:48.780483Z",
     "start_time": "2025-01-26T14:09:48.778287Z"
    }
   },
   "outputs": [
    {
     "data": {
      "text/plain": [
       "True"
      ]
     },
     "execution_count": 62,
     "metadata": {},
     "output_type": "execute_result"
    }
   ],
   "source": [
    "type(tmp_msn['smiles']) == type(tmp_original['smiles'])"
   ]
  },
  {
   "cell_type": "code",
   "execution_count": 63,
   "id": "44b90cb38ece920e",
   "metadata": {
    "ExecuteTime": {
     "end_time": "2025-01-26T14:09:48.928996Z",
     "start_time": "2025-01-26T14:09:48.926865Z"
    }
   },
   "outputs": [
    {
     "data": {
      "text/plain": [
       "True"
      ]
     },
     "execution_count": 63,
     "metadata": {},
     "output_type": "execute_result"
    }
   ],
   "source": [
    "type(tmp_msn['smiles'][0]) == type(tmp_original['smiles'][0])"
   ]
  },
  {
   "cell_type": "code",
   "execution_count": 64,
   "id": "8493612e08e9479e",
   "metadata": {
    "ExecuteTime": {
     "end_time": "2025-01-26T14:09:49.109966Z",
     "start_time": "2025-01-26T14:09:49.107657Z"
    }
   },
   "outputs": [
    {
     "data": {
      "text/plain": [
       "True"
      ]
     },
     "execution_count": 64,
     "metadata": {},
     "output_type": "execute_result"
    }
   ],
   "source": [
    "len(tmp_msn['smiles']) == len(tmp_original['smiles'])"
   ]
  },
  {
   "cell_type": "code",
   "execution_count": 65,
   "id": "b604f8942bf1362d",
   "metadata": {
    "ExecuteTime": {
     "end_time": "2025-01-26T14:09:49.304870Z",
     "start_time": "2025-01-26T14:09:49.302709Z"
    }
   },
   "outputs": [
    {
     "data": {
      "text/plain": [
       "True"
      ]
     },
     "execution_count": 65,
     "metadata": {},
     "output_type": "execute_result"
    }
   ],
   "source": [
    "type(tmp_msn['candidates_smiles']) == type(tmp_original['candidates_smiles'])"
   ]
  },
  {
   "cell_type": "code",
   "execution_count": 66,
   "id": "1a9910cd68400224",
   "metadata": {
    "ExecuteTime": {
     "end_time": "2025-01-26T14:09:49.476990Z",
     "start_time": "2025-01-26T14:09:49.474772Z"
    }
   },
   "outputs": [
    {
     "data": {
      "text/plain": [
       "True"
      ]
     },
     "execution_count": 66,
     "metadata": {},
     "output_type": "execute_result"
    }
   ],
   "source": [
    "type(tmp_msn['candidates_smiles'][0]) == type(tmp_original['candidates_smiles'][0])"
   ]
  },
  {
   "cell_type": "code",
   "execution_count": 67,
   "id": "65f8205061648068",
   "metadata": {
    "ExecuteTime": {
     "end_time": "2025-01-26T14:09:49.656680Z",
     "start_time": "2025-01-26T14:09:49.654355Z"
    }
   },
   "outputs": [
    {
     "data": {
      "text/plain": [
       "2741"
      ]
     },
     "execution_count": 67,
     "metadata": {},
     "output_type": "execute_result"
    }
   ],
   "source": [
    "len(tmp_msn['candidates_smiles'])"
   ]
  },
  {
   "cell_type": "code",
   "execution_count": null,
   "id": "9be44629-b7da-4a74-b6ec-3521b4b29e5c",
   "metadata": {},
   "outputs": [],
   "source": []
  },
  {
   "cell_type": "code",
   "execution_count": null,
   "id": "95e158cf-3b65-451b-806f-79133f872194",
   "metadata": {},
   "outputs": [],
   "source": []
  },
  {
   "cell_type": "code",
   "execution_count": null,
   "id": "f984125e-a724-4a29-a2b3-37118a34876d",
   "metadata": {},
   "outputs": [],
   "source": []
  }
 ],
 "metadata": {
  "kernelspec": {
   "display_name": "Python 3 (ipykernel)",
   "language": "python",
   "name": "python3"
  },
  "language_info": {
   "codemirror_mode": {
    "name": "ipython",
    "version": 3
   },
   "file_extension": ".py",
   "mimetype": "text/x-python",
   "name": "python",
   "nbconvert_exporter": "python",
   "pygments_lexer": "ipython3",
   "version": "3.11.9"
  }
 },
 "nbformat": 4,
 "nbformat_minor": 5
}
