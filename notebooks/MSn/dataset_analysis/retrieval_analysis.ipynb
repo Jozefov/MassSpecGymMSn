{
 "cells": [
  {
   "cell_type": "code",
   "execution_count": 31,
   "id": "da6a763cea0be904",
   "metadata": {
    "ExecuteTime": {
     "end_time": "2025-02-14T13:39:38.965337Z",
     "start_time": "2025-02-14T13:39:35.571421Z"
    }
   },
   "outputs": [],
   "source": [
    "from massspecgym.data.datasets import MSnDataset, MSnRetrievalDataset, RetrievalDataset\n",
    "import torch"
   ]
  },
  {
   "cell_type": "code",
   "execution_count": 32,
   "id": "22f3a2d12131cd17",
   "metadata": {
    "ExecuteTime": {
     "end_time": "2025-02-14T13:39:51.884938Z",
     "start_time": "2025-02-14T13:39:51.882519Z"
    }
   },
   "outputs": [],
   "source": [
    "file_mgf = \"/Users/macbook/CODE/Majer:MassSpecGym/data/MSn/20241211_msn_library_pos_all_lib_MSn.mgf\"\n",
    "file_json = \"/Users/macbook/CODE/Majer:MassSpecGym/data/Retrieval/MassSpecGym_retrieval_candidates_mass.json\"\n",
    "split_file = \"/Users/macbook/CODE/Majer:MassSpecGym/data/MSn/20241211_split.tsv\""
   ]
  },
  {
   "cell_type": "code",
   "execution_count": 33,
   "id": "c0a04ca978e09c61",
   "metadata": {
    "ExecuteTime": {
     "end_time": "2025-02-14T13:39:52.207660Z",
     "start_time": "2025-02-14T13:39:52.204508Z"
    }
   },
   "outputs": [],
   "source": [
    "from massspecgym.data.transforms import MolFingerprinter, SpecTokenizer\n",
    "from massspecgym.data import RetrievalDataset, MassSpecDataModule"
   ]
  },
  {
   "cell_type": "code",
   "execution_count": 4,
   "id": "db1094d3df48cd7f",
   "metadata": {
    "ExecuteTime": {
     "end_time": "2025-02-14T13:39:54.026800Z",
     "start_time": "2025-02-14T13:39:54.024230Z"
    }
   },
   "outputs": [],
   "source": [
    "pth_massspecgym_original = \"/Users/macbook/CODE/Majer:MassSpecGym/data/MassSpecGym/MassSpecGym.tsv\""
   ]
  },
  {
   "cell_type": "code",
   "execution_count": 5,
   "id": "5346beea048ce5a5",
   "metadata": {
    "ExecuteTime": {
     "end_time": "2025-02-14T13:40:09.021407Z",
     "start_time": "2025-02-14T13:39:55.891926Z"
    }
   },
   "outputs": [],
   "source": [
    "# Init hyperparameters\n",
    "n_peaks = 60\n",
    "fp_size = 4096\n",
    "batch_size = 12\n",
    "\n",
    "# Load dataset\n",
    "dataset_original = RetrievalDataset(\n",
    "    pth=pth_massspecgym_original,\n",
    "    candidates_pth=file_json,\n",
    "    spec_transform=SpecTokenizer(n_peaks=n_peaks),\n",
    "    mol_transform=MolFingerprinter(fp_size=fp_size),\n",
    ")\n"
   ]
  },
  {
   "cell_type": "code",
   "execution_count": 6,
   "id": "d6ceed9debd5cc51",
   "metadata": {
    "ExecuteTime": {
     "end_time": "2025-02-14T13:40:09.027498Z",
     "start_time": "2025-02-14T13:40:09.025542Z"
    }
   },
   "outputs": [],
   "source": [
    "# Init data module\n",
    "data_module_original = MassSpecDataModule(\n",
    "    dataset=dataset_original,\n",
    "    batch_size=batch_size,\n",
    "    num_workers=0,\n",
    ")"
   ]
  },
  {
   "cell_type": "code",
   "execution_count": 7,
   "id": "c4bfe776ab073f74",
   "metadata": {
    "ExecuteTime": {
     "end_time": "2025-02-14T13:40:09.081160Z",
     "start_time": "2025-02-14T13:40:09.034062Z"
    }
   },
   "outputs": [
    {
     "name": "stdout",
     "output_type": "stream",
     "text": [
      "Train dataset size: 194119\n",
      "Val dataset size: 19429\n"
     ]
    }
   ],
   "source": [
    "data_module_original.prepare_data()\n",
    "data_module_original.setup()\n",
    "\n",
    "train_loader_original = data_module_original.train_dataloader()"
   ]
  },
  {
   "cell_type": "code",
   "execution_count": 8,
   "id": "55185d08a14a11ab",
   "metadata": {
    "ExecuteTime": {
     "end_time": "2025-02-14T13:40:10.370715Z",
     "start_time": "2025-02-14T13:40:09.086940Z"
    }
   },
   "outputs": [
    {
     "name": "stdout",
     "output_type": "stream",
     "text": [
      "I am not here\n",
      "{'spec': tensor([[[2.3808e+02, 1.1000e+00],\n",
      "         [5.4034e+01, 6.0060e-03],\n",
      "         [5.5018e+01, 6.0060e-03],\n",
      "         ...,\n",
      "         [0.0000e+00, 0.0000e+00],\n",
      "         [0.0000e+00, 0.0000e+00],\n",
      "         [0.0000e+00, 0.0000e+00]],\n",
      "\n",
      "        [[4.3420e+02, 1.1000e+00],\n",
      "         [8.3049e+01, 8.8240e-02],\n",
      "         [8.3055e+01, 5.3300e-03],\n",
      "         ...,\n",
      "         [0.0000e+00, 0.0000e+00],\n",
      "         [0.0000e+00, 0.0000e+00],\n",
      "         [0.0000e+00, 0.0000e+00]],\n",
      "\n",
      "        [[2.3311e+02, 1.1000e+00],\n",
      "         [1.0901e+02, 1.5496e-02],\n",
      "         [1.1805e+02, 4.9095e-02],\n",
      "         ...,\n",
      "         [0.0000e+00, 0.0000e+00],\n",
      "         [0.0000e+00, 0.0000e+00],\n",
      "         [0.0000e+00, 0.0000e+00]],\n",
      "\n",
      "        ...,\n",
      "\n",
      "        [[4.1509e+02, 1.1000e+00],\n",
      "         [1.1909e+02, 2.4836e-01],\n",
      "         [1.1910e+02, 1.2710e-02],\n",
      "         ...,\n",
      "         [0.0000e+00, 0.0000e+00],\n",
      "         [0.0000e+00, 0.0000e+00],\n",
      "         [0.0000e+00, 0.0000e+00]],\n",
      "\n",
      "        [[5.0315e+02, 1.1000e+00],\n",
      "         [5.2140e+01, 1.2869e-04],\n",
      "         [5.4300e+01, 1.2066e-04],\n",
      "         ...,\n",
      "         [5.0516e+02, 3.1081e-02],\n",
      "         [5.1506e+02, 1.2970e-04],\n",
      "         [5.2605e+02, 1.3664e-04]],\n",
      "\n",
      "        [[3.5917e+02, 1.1000e+00],\n",
      "         [9.1052e+01, 9.3600e-01],\n",
      "         [1.1505e+02, 5.3300e-01],\n",
      "         ...,\n",
      "         [0.0000e+00, 0.0000e+00],\n",
      "         [0.0000e+00, 0.0000e+00],\n",
      "         [0.0000e+00, 0.0000e+00]]]), 'mol': tensor([[0., 0., 0.,  ..., 0., 0., 0.],\n",
      "        [0., 0., 0.,  ..., 0., 0., 0.],\n",
      "        [0., 0., 1.,  ..., 0., 0., 0.],\n",
      "        ...,\n",
      "        [0., 0., 0.,  ..., 0., 0., 0.],\n",
      "        [0., 0., 0.,  ..., 0., 0., 0.],\n",
      "        [0., 0., 0.,  ..., 0., 1., 0.]]), 'precursor_mz': tensor([238.0839, 434.2034, 233.1107, 423.1920, 344.2333, 174.1277, 518.2093,\n",
      "        500.3040, 318.1694, 415.0900, 503.1524, 359.1700]), 'adduct': ['[M+H]+', '[M+H]+', '[M+H]+', '[M+H]+', '[M+H]+', '[M+H]+', '[M+H]+', '[M+H]+', '[M+H]+', '[M+H]+', '[M+Na]+', '[M+Na]+'], 'mol_freq': tensor([ 27.,   3.,  37.,   1., 222.,  33.,   3.,  46.,  18.,   3.,   4., 116.]), 'identifier': ['MassSpecGymID0073949', 'MassSpecGymID0231481', 'MassSpecGymID0042290', 'MassSpecGymID0398839', 'MassSpecGymID0072135', 'MassSpecGymID0043225', 'MassSpecGymID0232465', 'MassSpecGymID0062153', 'MassSpecGymID0183173', 'MassSpecGymID0232451', 'MassSpecGymID0150680', 'MassSpecGymID0133080'], 'smiles': ['CC(=CC(=O)N(C)C)OP(=O)(OC)OC', 'CN1C2=C(C(=O)N(C1=O)C)N(C(=N2)N[C@@H](CO)C3=CC(=C(C=C3)OC)OC)CCOC', 'C1CCC(CC1)NC2=NC3=CC=CC=C3S2', 'CC1=C(C(=O)OC2=C3CCC(OC3=CC(=C12)OCC(=O)NCC4=CC=NC=C4)(C)C)C', 'CCCCOC1=NC2=CC=CC=C2C(=C1)C(=O)NCCN(CC)CC', 'CC(CC1=CC=CC=C1)NCC#C', 'CC1=NC(=NC(=N1)N)C2=C(N=CC(=C2)[C@@H](C)N3CCN(CC3)S(=O)(=O)C)NC4=CC(=C(N=C4)OC)F', 'C[C@H](CCC(=O)NCCS(=O)(=O)O)[C@H]1CC[C@@H]2[C@@]1([C@H](C[C@H]3[C@H]2CC[C@H]4[C@@]3(CC[C@H](C4)O)C)O)C', 'CCOC(=O)[C@@H]1[C@H]2CC[C@H](N2C)C[C@@H]1OC(=O)C3=CC=CC=C3', 'C1=CC=C2C(=C1)C(OC2=O)OC(=O)C3=C(N=CC=C3)NC4=CC=CC(=C4)C(F)(F)F', 'COC(=O)C1=C[C@H]([C@H]([C@@H](C1)O[C@H]2[C@@H]([C@H]([C@@H]([C@H](O2)COC(=O)/C=C/C3=CC=CC=C3)O)O)O)O)O', 'CCC12CC(=C3C4(C1N(CC4)CC=C2)C5=CC=CC=C5N3)C(=O)OC'], 'candidates': tensor([[0., 0., 0.,  ..., 0., 0., 0.],\n",
      "        [0., 0., 0.,  ..., 0., 0., 0.],\n",
      "        [0., 0., 0.,  ..., 0., 0., 0.],\n",
      "        ...,\n",
      "        [0., 0., 0.,  ..., 0., 0., 0.],\n",
      "        [0., 0., 0.,  ..., 0., 0., 0.],\n",
      "        [0., 0., 0.,  ..., 0., 0., 0.]]), 'labels': tensor([ True, False, False,  ..., False, False, False]), 'batch_ptr': tensor([256, 256, 256, 256, 256, 256, 256, 256, 256, 256, 256, 256]), 'candidates_smiles': ['CC(=CC(=O)N(C)C)OP(=O)(OC)OC', 'O=C(O)c1ccn2cccc(-c3ccccc3)c12', 'CCOC(=O)C1(C)C(=O)Nc2[nH]c(=O)ncc21', 'Cn1cnc(CCNc2ccnc(Cl)c2)n1', 'N#CC(O)c1cccc(C(=O)c2ccccc2)c1', 'CC(=O)Oc1cc2cccnc2c2ccccc12', 'NCC[C@@H](O)c1ccc(C(F)(F)F)c(F)c1', '[CH2+]OCCOC(=O)c1ccc(C(=O)OC)cc1', 'O=c1oc2ccccc2c2nc3c(cc12)CCC3', 'c1ccc2[nH]c(-c3ccc4c(c3)OCO4)cc2c1', 'COc1ccc(C(=O)N=[N+]=[N-])c(OC)c1OC', 'CC(Nc1n[nH]c(N)n1)c1ccc(Cl)cc1', 'CC(C)c1nc(-n2cc(Cl)cn2)ncc1N', 'O=C(O)c1ccc(-c2ccc3ccccn23)cc1', 'C=CCOC(=O)Nc1ncncc1CC(=O)O', 'CNC(=O)C1COc2ncccc2N1C(=O)O', 'O=C(O)C1=CN=c2cc3c(cc2C1)=CC=CC=C3', 'N#C[C@H]1[C@@H](O)[C@H](n2ccc(=O)[nH]c2=O)C[C@@H]1O', 'Cc1occc1C(=O)c1cccc2cnccc12', 'COC(=O)c1cc2c(nn1)CCN(C(=O)O)C2', 'Cc1ccc2n1-c1c(cccc1C(F)(F)F)C2', 'Cc1[nH]nc(C2NCCc3[nH]cnc32)c1Cl', 'Oc1c(/C=N/c2ccccc2)oc2ccccc12', 'CCCNc1ncc(Cl)c(-n2cccn2)n1', 'COC(=O)N/C(C)=N/S(=O)(=O)NC(C)C', 'CC1N=C(N)N=C(N)N1c1ccccc1Cl', 'C/C=C1\\\\c2ccccc2-c2ccc([N+](=O)[O-])cc21', 'CC(=O)NCC(=O)Nc1cnccc1C(=O)O', 'COC1(CO)CCCN(C(=O)OCCl)C1', 'N#Cc1cc(NC(CO)CO)ccc1[N+](=O)[O-]', 'Cn1nnc(CNCc2ccc(Cl)cc2)n1', 'O=C(Nc1ccc([N+](=O)[O-])cc1O)C1CNC1', 'Nc1ccnn1-c1nn2c(c1Cl)CCCC2', 'COc1ccccc(-c2cccc(C#N)c2)c1=O', 'O=C(NO)c1ccc2cc3ccccc3cc2c1', 'COC(=O)/C(C)=N/Nc1ccccc1[N+](=O)[O-]', 'CC(=O)/N=C/c1ccc2oc3ccccc3c2c1', 'CCCOP(=O)(OCCC)/C(C=O)=N/O', 'COc1ccc(-c2ccccc2C#N)cc1C=O', 'O=C1Nc2ccccc2/C1=C\\\\c1ccccc1O', 'N[C@@H](Cc1cnc2c(c1)NC(=O)CO2)C(=O)O', 'Cc1nn(-c2ccnc(NN)c2)c(C)c1Cl', 'O=C1c2c(O)c(=O)ccn2NC2COCCN12', 'CCOC(=O)c1c(O)c2cnn(C)c2[nH]c1=O', 'Cc1cc(N)cc2c1C(=O)c1ccccc1C2=O', 'Oc1ccc(-c2nc(-c3ccccc3)co2)cc1', 'Cc1cc(C2=C(O)c3ccccc3C2=O)ccn1', 'COc1ccc(F)c([C@@H](N)CC(F)(F)F)c1', 'CCCn1nncc1-c1cc(Cl)cnc1N', 'NCC(CO)c1ccc(C(F)(F)F)c(F)c1', 'O=C(N[C@@]1(C(=O)O)CCOC1)c1cncnc1', 'NCC(COc1cccc(F)c1)C(F)(F)F', 'Cn1cnc2c(Cl)nc(C3CCCN3)nc21', 'COc1cccc(F)c1[C@@H](N)CC(F)(F)F', 'NCc1cc(F)cc(-c2cccc(F)c2F)c1', 'NCc1ccc(-c2ccc(F)c(F)c2)c(F)c1', 'Clc1nccc(/N=C2/CC(C3CC3)NN2)n1', 'O=C1/C(=C/c2ccccn2)Cc2cccc(O)c21', 'N#Cc1ncn(-c2nc3ccccc3nc2N)n1', 'CCc1nccn1-c1nc(Cl)nc(C)c1N', 'C[C@H](N)c1cccc(F)c1OCC(F)(F)F', 'CC(C1CCC1)n1nnc2c(Cl)ncnc21', 'NC(=O)Nc1ccc(C(=O)NCC(=O)O)cc1', 'C=C[NH+]([O-])OCCCCOC(=O)CCCl', 'CC(=CC(=O)N(C)C)OP(=O)(CO)CO', 'O=c1cc2n(/C=C/c3ccccc3)cccc-2o1', 'CN(Cc1cc(F)ccc1O)CC(F)(F)F', 'Nc1ccc(Cl)nc1NCCc1ncc[nH]1', 'COC1=CC=CC2OC(C#N)=c3ccccc3=C12', 'O=C(O)c1cccc(-c2ccc3c(c2)C=NC3)c1', 'NCC(CO)c1cccc(C(F)(F)F)c1F', 'O=C(O)CN(CC(=O)O)/N=C\\\\c1cccnc1', 'COC(=O)c1coc(CNCc2ncon2)c1', 'Cc1cc(C(=O)N(CCC#N)CC(=O)O)no1', 'Clc1cncnc1NCCCc1ncc[nH]1', 'C#CCOC(=O)C1(C#N)Cc2ccccc2C1=C', 'c1cnc(-c2cnc3[n-][n+]4cccn4c3n2)nc1', 'Cn1ccnc1CCNc1ncc(Cl)cn1', 'Nc1ccccc1-c1ccc(C(F)F)c(F)c1', 'CC(=O)OC(C)/N=N/c1ccccc1[N+](=O)[O-]', 'COC1(CO)CCN(C(=O)OCCl)CC1', 'COCCNc1ccc(F)c(C(F)(F)F)c1', 'NC(CO)Cc1cc(C(F)(F)F)ccc1F', 'COC(=O)NS(=O)(=O)N[C@@H]1CCCNC1', 'CC(c1cccc(Cl)c1)n1nnnc1CN', 'CCCCOOC(=O)c1cccc(C(=O)[O-])c1', 'CCCCCn1ccnn1.O=S(=O)(O)O', 'C/C(=N/NC(=O)C(N)=O)c1ccc(O)cc1O', 'O=CC(C=O)=C(c1ccccc1)c1ccncc1', 'O=C(O)C1(Nc2ccncc2[N+](=O)[O-])CCC1', 'C=C1OCC(=O)N/C1=N/C(=C)N1CCOC1=O', 'Clc1ccc(CN2C=NCC2)cn1.N#CN', 'Cc1ccc2oc(-c3cccnc3)cc(=O)c2c1', 'CCOC(=O)NS(=O)(=O)N1CCCC1N', 'COC(=O)N1CCc2c(ncnc2C(=O)O)C1', 'NC(c1ccccc1)c1cc(F)c(F)cc1F', 'O=C(O)[C@H]1CCCN1C(=O)c1ccc(=O)[nH]n1', 'CNC(=O)c1cncc(OC2CC2)c1[N+](=O)[O-]', 'Cc1ccc(Cl)cc1-n1nnc(CCN)n1', 'C/C=C/c1ccc2cc(C(F)(F)F)ccc2n1', 'O=C(O)c1cnc(NCC2CC2)c([N+](=O)[O-])c1', 'O=[N+]([O-])c1cccc([N+](=O)[O-])c1N1CCCC1', 'Nc1cc2ccccc2cc1C(=O)c1ccco1', 'COc1c2n(ncc1=O)CC1OCCN1C2=O', 'Cc1nn(C)c(N(CC#N)CC#N)c1CCl', 'CO[C@H]1OC2COC(P)O[C@H]2[C@H](O)C1N', '[B]c1sc2cc(C#N)ccc2c1C1CCCC1', 'CCNc1ccc(OC(F)(F)C(F)F)cc1', 'CCCNCc1nnc(OCC(F)F)s1', 'CN(CC(N)=O)c1ccc([N+](=O)[O-])cc1C=O', 'NCc1nnnn1CCc1ccc(Cl)cc1', 'O=c1c2ccccc2ccn1-c1cccc(O)c1', 'CC(N)Cc1nnnn1-c1cccc(Cl)c1', 'COc1ccc([C@H](N)CC(F)(F)F)c(F)c1', 'NC(=O)c1occc1-c1ccc2ccccc2c1', 'C/C=C/CNc1ccc([N+](=O)[O-])cc1[N+](=O)[O-]', 'O=CNc1ccc2c(c1)Oc1ccccc1C=C2', 'Cc1ncc(N2C(=O)OCCC2C(=O)O)cn1', 'COC(=O)c1ccc(C(O)C(C)C(=O)[O-])cc1', 'CCOC(=O)c1c(OC)cn2nc[nH]c(=O)c12', 'Nc1c(N2CC(O)CC2=O)cccc1[N+](=O)[O-]', 'NNC(=O)COc1ccc2c(c1)OCC(=O)N2', 'N[C@H](CCF)c1ccc(OC(F)(F)F)cc1', 'Cc1ccc(C(F)(F)F)cc1-c1ccccn1', 'COC1(OC)N=C(N)c2ccc([N+](=O)[O-])cc21', 'COC[C@@H](N)c1ccc(F)cc1C(F)(F)F', 'Cc1ccnc(N2CC(O)CC2=O)c1[N+](=O)[O-]', 'NC/C=N/CCS(=O)(=O)C[C@H](N)C(=O)O', 'FCc1cccc(C(F)(F)c2ccccc2)n1', 'Nc1cccc(C(=O)c2coc3ccccc23)c1', 'Cc1ccc(C=C(C#N)C(=O)c2ccccc2)o1', 'Cc1ccc(N)cc1-c1cc(F)c(F)cc1F', 'Cc1cc([N+](=O)[O-])cc2cc3ccccc3cc12', 'COCCNc1nc2cc([N+](=O)[O-])ccc2o1', 'Nc1cccc2c(=O)oc(-c3ccccc3)cc12', 'O=c1[nH]c(-c2ccccc2)c2ccccc2c1O', 'COc1ccc(C(=O)c2ccccc2C#N)cc1', 'COc1ccccc1C(=O)c1ccccc1C#N', 'CCOC(=O)c1nc(-c2ocnc2C)oc1N', 'O=C1C=CC=C/C1=C1/C=Cc2ccccc2N1O', 'O=C(O)C1=C/C=C\\\\c2ccc3[nH]ccc3c2/C=C\\\\1', 'NCc1ccc(F)c(-c2cccc(F)c2F)c1', 'O=C1/C(=C\\\\c2ccncc2)Cc2c(O)cccc21', 'Cc1nccc(C(N)c2c(Cl)cnn2C)n1', 'CCOC(=O)c1nn(C)c2[nH]c(=O)cc(O)c12', 'COc1ccc([C@H](O)[C@@H](N=[N+]=[N-])C(=O)O)cc1', 'NCc1ccc(OCCC(F)(F)F)cc1F', 'Clc1cn2cc(N3CCNCC3)ncc2n1', 'CC/C=C/Cn1cnc2nc(N)nc(Cl)c21', 'C#CN=C(Oc1ccccc1)Oc1ccccc1', 'CN(C)c1ccc(F)cc1[C@H](O)C(F)(F)F', 'Cn1ccc(CNc2ncc(Cl)cc2N)n1', 'COC(=O)c1[nH]n(C)c(=O)c1-c1cc(C)no1', 'NC(Cc1cccc(F)c1)C(O)C(F)(F)F', 'COC(=O)N1CCc2ncnc(C(=O)O)c2C1', 'Clc1ccc2nnc(CC3CCCN3)n2n1', 'Cc1cc(OC(F)(F)F)ccc1NC(C)F', 'CCOP(N)(=O)O[C@H]1C(=O)OCC1(C)C', 'COc1cc(OC)c(C(=O)N=[N+]=[N-])cc1OC', 'O=c1onc(Cc2ccccc2)c2ccccc12', 'Nc1ccc(OCCCF)c(C(F)(F)F)c1', 'O=C1Cc2ccc(C(=O)c3ccccc3)cc2N1', 'Cc1ccccc1-c1noc2ccc(C=O)cc12', 'COC(=O)NS(=O)(=O)N1CC(C)C(N)C1', 'Oc1cccc(Oc2ccc3ccccc3n2)c1', 'CCOC(=O)C(=O)NNC(=O)c1cccnc1', 'CNCC(F)(F)C(O)c1cc(F)cc(F)c1', 'NC(=O)CCc1c(C(N)=O)cccc1[N+](=O)[O-]', 'COC(=O)c1cc(N=C(N)N)cc(C(=O)O)c1', 'COP1(=O)OCCN1C(=O)OC(C)(C)C', 'O=C(Nc1ncc([N+](=O)[O-])cc1O)C1CCC1', '[H]/N=C(\\\\N)S[C@@H]1OC(CO)[C@H](O)[C@H](O)C1N', 'CCNC(=O)C(=O)Nc1ccccc1[N+](=O)[O-]', 'CNc1ccc2c(c1)C(=O)c1ccccc1C2=O', 'Cc1cnc(-c2ccc(CF)c(F)c2)c(F)c1', 'CN(C)c1c(CF)cccc1OC(F)(F)F', 'CCOc1cc(C(=O)O)c(N=[N+]=[N-])cc1OC', 'O=C1c2ccccc2C(=O)N1Cc1ccccc1', 'O=C(NCCN1C(=O)CNC1=O)c1ccco1', 'COc1ccc(C(N)C(F)(F)C(F)F)cc1', 'C=Cc1cc2cc(CC(F)(F)F)ccc2cn1', 'COc1cc(F)c(F)cc1CC(N)C(F)F', 'Cn1cc(CCNc2ncncc2Cl)cn1', 'C#Cc1ccccc1C(=O)Nc1ccccc1O', 'CC(=NNC(N)=O)c1ccc(O)c(C(=O)O)c1', 'CCON=C(C(=O)O)c1cccc(NC=O)n1', 'CC(C)(N)c1ccc(OC(F)(F)F)c(F)c1', 'NNC(Cc1cccc(Cl)c1)c1cn[nH]n1', 'O=c1ccn(-c2ccc(O)cc2)c2ccccc12', 'CCCC(=CCC(=O)O)CP(=O)(O)ON', 'COc1ccc(C#Cc2cnccc2C=O)cc1', 'COc1cccc(-c2cccc(C=O)c2)c1C#N', 'O=C(O)[C@@H]1C[C@H](O)CN1C(=O)c1ccnnc1', 'Cc1cc(N)c2c(c1)C(=O)c1ccccc1C2=O', 'Cc1ccc2c(c1N)C(=O)c1ccccc1C2=O', 'NC(=O)[C@@H](CC(=O)O)NC(=O)c1cccnc1', 'O=C(O)c1cccc2c1Cc1ccccc1N=C2', 'CCOc1oc(-c2cnn(C)c2)nc1C(=O)O', 'COc1ccc(C2=NC(=O)c3ccccc32)cc1', '[O-][n+]1coc(-c2ccccc2)c1-c1ccccc1', 'NC(CO)C(=O)Nc1ccc2oc(=O)[nH]c2c1', 'CC(=O)OCCc1cc2c(=O)[nH]c(=O)[nH]c2[nH]1', 'N#Cc1ccc(C(=O)COc2ccccc2)cc1', 'CCNCc1ccc(OC(F)(F)F)cc1F', 'O=C1CCCC2=C1C(=O)c1c2[nH]c2ccccc12', 'O=C1OC(/C=N/c2ccccc2)c2ccccc21', 'Cn1ccc(C=C2C(=O)c3ccccc3C2=O)c1', 'NC(=S)NNC(=O)C1CCC(F)(F)CC1', 'CCC(=O)O[C@H]1CN[C@H](C(=O)OC)C1.Cl', 'Cc1cc(CNCc2ncon2)oc1C(=O)O', 'CON1CCN(c2ccc([N+](=O)[O-])cc2)C1=O', 'COC(=O)c1ccc2c(ccc3cnccc32)c1', 'C[C@H]1[C@@H](CP(=O)(O)O)CCN[C@H]1C(=O)O', 'CCOC(=O)/C(N)=C\\\\C(C)CP(=O)(O)O', 'COC(=O)Cc1ccc([O-])c(CC(=O)OC)c1', 'O=CC(C=O)=C(c1ccccc1)c1ccccn1', '[N-]=[N+]=Nc1[nH]nc2nc(-c3ccccc3)ncc12', '[O-][n+]1ccc2ccccc2c1-c1cccc(O)c1', 'O=C(Cn1nc(C(=O)O)ccc1=O)NC1CC1', 'Clc1cnc(NCCCn2ccnc2)nc1', 'O=Cc1cccnc1C1=CC(O)c2ccccc21', 'O=C=O.[H]/N=C(\\\\C)NOC(=O)c1ccc(C)cn1', 'O=C[C@H]1C(=O)N(c2ccccc2)c2ccccc21', 'Cc1nc(-c2cn[nH]n2)nc(Cl)c1C(C)C', 'O=Cc1cc(-c2ccc3[nH]ccc3c2)ccc1O', 'NC(c1ccc(F)cc1)c1cc(F)cc(F)c1', 'NC(=O)C[C@H](NC(=O)c1ccncc1)C(=O)O', 'Clc1cccnc1NCCCc1ncn[nH]1', 'CCn1ncc(Cl)c1C(N)c1ncccn1', 'c1ccc(C23CCCC[S+]2CCS3)cc1', 'Cc1ccc(-c2ccc(C(F)(F)F)cn2)cc1', 'COc1ccc(F)cc1C(CN)C(F)(F)F', 'NC(CN1C(=O)NC(=O)C2C=CC=C21)C(=O)O', 'O=C1Nc2ccccc2[C@]12COc1ccccc12', 'C[Si](C)(Cl)CN1CCO[Si](C)(C)C1', 'COCC(=O)O.O/N=C1\\\\CCCCC1Cl', 'CCc1c(Cl)ncnc1Nc1ccn(C)n1', 'NC(=O)OCCNS(=O)(=O)C1CCNC1', 'CC(=O)Oc1cc(-c2ccccc2)ccc1C#N', 'CNS(=O)(=O)NC(=O)CN1CCOCC1', 'CO/C(Cc1ccc([N+](=O)[O-])cc1)=N\\\\NC=O', 'Cc1ccc(F)c(Nc2c(F)cccc2F)c1', 'C/C=C1\\\\N=C(c2ccc3ccccc3c2)OC1=O', 'Cc1cccc2cc3ccccc3c([N+](=O)[O-])c12', 'CC(C)(C)c1nc(Cl)cc(-n2cncn2)n1', 'Oc1cccc(C=Cc2nc3ccccc3o2)c1', 'c1cn2ncc(-c3nc4ncncc4[nH]3)c2cn1', 'CCONCc1cc(F)cc(C(F)(F)F)c1', 'O=c1[nH]cc(-c2ccccc2)c2c(O)cccc12', 'Cn1cc(CC(N)c2ccncc2Cl)nn1', 'CN(Cc1ccc(O)c(F)c1)CC(F)(F)F', 'COc1ncc(C=CC(N)=O)c(C)c1[N+](=O)[O-]', 'Clc1ccc(CCCCn2ccnn2)nn1', 'CN1CCC(Oc2cccnc2[N+](=O)[O-])C1=O', 'N#C[C@@]1(c2ccco2)C[C@H]1C(=O)c1ccccc1', 'O.O=P([O-])(O)O.[NH3+]CCc1ccccc1', 'CN1C2=C(C(=O)N(C1=O)C)N(C(=N2)N[C@@H](CO)C3=CC(=C(C=C3)OC)OC)CCOC', 'Nc1nc(=O)n([C@@H]2CCCS2)cc1C#CCn1c(C2CCCCC2)nc2ccccc21', 'COc1ccc(COC2C(N=[N+]=[N-])COC(C)C2OCc2ccc3ccccc3c2)cc1', 'COc1cccc([C@@H]2C(=C(O)c3c[nH]c4ccccc34)C(=O)C(=O)N2CCCN(C)C)c1', 'CC(C)C(NC(=O)c1c(F)cccc1F)C(=O)N1CCCN(c2ccc(F)cc2)CC1', 'CC1CCCC1N1CCC(NC(=O)c2cn(-c3ccc(F)cc3F)nn2)C(C(=O)O)C1', 'CC(C)(C)OC(=O)N1[C@@H](c2ccc(Oc3ccccc3C#N)cc2)CC[C@]12CCNC2=O', 'Cc1cc(OC2CC2)ccc1N1CCC(Oc2ccc(CNC(=O)c3cnco3)cc2)C1', 'CCC1(C)NC(=O)N(NC(=O)CNc2cc(C(=O)N3CCOCC3)ccc2OC)C1=O', 'C[C@@H]1CN(C(=O)C2(C#N)CC2)C[C@@H]1Nc1c(C(N)=O)cnn2cc(-c3cnn(C)c3)nc12', 'C[C@@H](C#Cc1ccc(-c2nc3ccc(OCC4CC4)cc3o2)nc1)NC(=O)OC(C)(C)C', 'Cc1ccc(N2CCOCC2)c(C(=O)N2CCN(c3ccc(C(F)(F)F)cc3)CC2)c1', 'CCCC(=O)N1CCN(C(=O)C(Cc2ccccc2)N2C(=O)c3ccccc3C2=O)CC1', 'Cc1nn(CCC#N)c(C)c1CCC(=O)Nc1nc(-c2ccc3c(c2)CCCC3)cs1', 'Cc1ccc2nc(C)c(C(=O)OCC(=O)Nc3ccc(CN4CCOCC4)cc3)cc2c1', 'CCCOc1ccc(/C=N\\\\NC(=O)c2cccn(Cc3cccc(C)c3)c2=O)cc1OC', 'Cc1ccc(CNC(=O)C2(C)CCCN(C(=O)Nc3ccccc3C(F)(F)F)C2)cc1', 'O=C(CCc1cnn(-c2ccccc2)c1)Nc1nnc(C23CC4CC(CC(C4)C2)C3)s1', 'COc1cccc2c1OC(c1ccc(OCCCN3CCCC3)cc1)C(C)S2(O)O', 'Cc1ccc(N2C(=O)C(c3ccc([N+](=O)[O-])cc3)=C(N3CC(C)CC(C)C3)C2=O)cc1C', 'CCC(C(=O)Nc1ccc(OC)cc1)=C1CCC(c2ncc(C(F)(F)F)cc2N)CC1', 'C=C(/C=N/C)C(=C\\\\CCc1cc(-c2ccc(C)cc2)no1)/N=C(\\\\C)c1cccc(F)c1F', 'Cc1cc(N2CCN(S(=O)(=O)c3ccccc3F)CC2)nc(NC2CCCCC2)n1', 'Cc1ccc(N2CCN(C(=O)c3ccc4c(Cl)c5c(nc4c3)CCCC5)C[C@H]2C)cc1', 'CCc1cc(C(C)NC(=O)c2cc(C)nc(NC(=O)C3CC3)n2)cnc1OCC(F)F', 'CCOc1ccccc1C1c2[nH]c3ccccc3c2C[C@H]2C(=O)N(CCCO)CC(=O)N12', 'Cc1cc(Nc2ccc(C#N)c(NCCOc3cccnc3N(N)C(=O)C3CC3)n2)n[nH]1', 'Cc1nnc(-c2cc3c(OC[C@@H](O)CN4CCC(c5ccccc5)CC4)cccc3o2)o1', 'CC(=O)N(c1ccc(C)cc1)C1CS/C(=N/C23CC4CC(CC(C4)C2)C3)N1C.Cl', 'CCCCCCC#Cc1cncc(-c2nnc(SCC(=O)Nc3ccccc3)n2C)c1', 'CCCCOC(=O)C1=C(C)Nc2c(c(C(C)(C)C)nn2C)C1c1cccc(Cl)c1F', 'CCCCc1nc(C)cc(NCCNC(=O)[C@H]2CCC(=O)N2)n1.O=C(O)C(F)(F)F', 'CSCCC(N)C(=O)NC(CC(N)=O)C(=O)NCC(=O)NC(CC(C)C)C(=O)O', 'CCOc1cc(C(=O)Nc2cccc(NC(=O)C(C)C)c2)ccc1OCc1ccncc1', 'COc1ccccc1OCCCCn1c(C(C)NC(=O)c2ccco2)nc2ccccc21', 'CC(C)(C)CC(N)C(=O)N1CCCC1C(=O)NCc1cc(Cl)ccc1-n1cnnn1', 'CCC(C)(C)Oc1ccc(C(=O)Nc2ccc(OS(=O)(=O)C(C)(C)CC)cc2)cc1', 'O=C(CCCn1ccc(=O)[nH]c1=O)N1CCC[C@H]1C(O)(c1ccccc1)c1ccccc1', 'COc1ccc2c(c1)CC1(C2)OC(N2CCC3(CC2)OC(C)(C)c2ncccc23)=NC1=O', 'Cc1ccc(C2C(c3ccccn3)NC(=S)N2c2ccc(NC(=O)C(C)C)c(C)c2)[nH]1', 'CC(=O)N[C@H]1[C@H](OCCCCCO)O[C@H](COC(C)=O)[C@H](OC(C)=O)[C@@H]1OC(C)=O', 'CC(C)Nc1nc2c(nc1N1CCC(S(=O)(=O)c3cccc(F)c3)CC1)CNCC2', 'CCc1nc2c(s1)Nc1ccccc1N=C2N1CCN[C@H](Cc2ccc(OC)cc2)C1', 'O=C(CC1CS/C(=N\\\\C2CCCCC2)N1C1CCCCC1)Nc1ccc(Cl)cc1', 'Cc1ccc(C)c(NC(=O)CCN2C(=S)N[C@@H](c3ccccn3)[C@@H]2c2ccc(C)[nH]2)c1', 'CCCCn1cnc2c1c(=O)n(CC(=O)Nc1ccc(F)c(F)c1)c(=O)n2CCCC', 'C#Cc1ccc2/c(c1Cl)=C\\\\NC/C=C(/Nc1cccc(O[C@@H]3CCN(C)C3)c1)CC\\\\C=2', 'C/N=C(\\\\N)Nc1ccc(-c2cnc(C3CCC(NC(=O)OC(C)C)CC3)s2)c(F)c1', 'CC(NC(=O)c1ccc(C(C)(C)C)cc1)C(=O)Nc1cccc(NC(=O)c2ccco2)c1', 'COCCNCC(=O)Nc1cc(NC(=O)c2ccc(-c3ccccc3)cc2)ccc1OC', 'O=C(NCc1ccccc1F)[C@@H]1Cc2ccccc2N2CCN(c3ccccc3F)C[C@H]12', 'Cn1cc(Nc2ncc(Cl)c(N3C[C@]4(C)CN(C(=O)C(C)(C)O)C[C@]4(C)C3)n2)cn1', 'CC(C)CC(C(=O)Nn1c(=O)[nH]c(=O)[nH]c1=O)[C@@H](CCCc1ccccc1)C(=O)NO', 'COc1ccc(OC)c(NC(=O)CNc2cccc(NC(=O)CCc3ccccc3)c2)c1', 'COc1ccc(-c2cc(C(=O)N3CCC(NC(C)=O)CC3)c3ccccc3n2)cc1OC', 'Cc1cc(C)c(CNC(=O)c2cc(-c3cccnc3)cc(C)c2/C=P/C(C)C)c(=O)[nH]1', 'CCOC(=O)N(C)c1c(N)nc(-c2nn(Cc3cncc(C)c3)c3ncccc23)nc1N', 'Cc1cccc(N2CCN(CCCCNC(=O)c3ccc(SC(F)F)cc3)CC2)c1', 'COc1ccc(Nc2nc3ccc(N4CCOCC4)cn3c2-c2nc(C)nc(N)n2)cn1', 'C=C[C@@]12CN(CCCCn3cc(C)c(=O)[nH]c3=O)C[C@]1(c1cccc(C(F)(F)F)c1)C2', 'CC(NC(=O)c1ncnc(N)c1CN)c1cc(-c2nc3nc(C4(C)CC4)ccc3[nH]2)no1', 'O=C(NC(C(=O)NO)C1CC1)c1ccc(C#Cc2ccc(CN3CCOCC3)cc2)cc1', 'CCCC(CC)SN(C(=O)Oc1cccc(OCC(OC)OC)c1)c1ccccc1', 'CSCCC(N)C(=O)NC(C(=O)NC(CCC(N)=O)C(=O)NCC(=O)O)C(C)C', 'CNc1nc([C@H]2CCCN(S(=O)(=O)c3ccc(C)c(F)c3)C2)nc2c1CCN(C)C2', 'Cc1ccc(Nc2c(C(=O)N3CC(O)C3C[C@@H]3CCCCN3)ccc(F)c2F)c(F)c1', 'CCOC(=O)c1c(NC(=O)COC(=O)C[C@@H]2C[C@H]3CC[C@H]2C3)sc2c1CC[C@H](C)C2', 'Cc1nc(C(C)(NC(=O)c2ncc(N3CC(F)(F)C3)cc2OCC2CC2)C2CC2)no1', 'Cc1ccc(S(=O)(=O)CCC(COCc2ccccc2)NC(=O)OC(C)(C)C)cc1', 'CC[C@@H](N[C@@H](C)CC(N)=O)c1ccc(Cl)c(Oc2ccc3c(c2)C(C)(C)CN3)c1F', 'O=C(NCc1ccccc1F)[C@H]1Cc2ccccc2N2CCN(c3ccccc3F)C[C@H]12', 'O=[N+]([O-])c1cccc2c3c([nH]c12)CC1CCN(C(c2cccc(O)c2)C2CC2O)CC1C3', 'COc1ccccc1-n1ccc2c(c1=O)c1cccc(OC)c1n2CCN1CCOCC1', 'Nc1ccc(-c2ccsc2)cc1NC(=O)c1ccc(N2CCC3(CCNC3)CC2)nc1', 'CCCc1nc2ccccc2c(C(=O)OC(C)C(=O)Nc2ccc(C(N)=O)cc2)c1CC', 'C[C@@H](Nc1ncnc2sc3c(c12)CCN(C(=O)/C=C/CNC1CC1)C3)c1ccccc1', 'CCn1nnc(-c2ccc(C(C)(c3ccc(OCc4nccs4)cc3)C(C)C)cc2)n1', 'Cc1cc([C@H]2[C@@H](c3ccccn3)NC(=S)N2CCC(=O)Nc2ccccc2C)c(C)[nH]1', 'COc1ccc(C2CCCN2C(=O)C2CCN(c3ccc(C(F)(F)F)cn3)CC2)cc1', 'COc1ccc2c(c1)c(C(=O)N1CC[C@@]3(c4ccccc4)NC(=O)CO[C@@H]3C1)c(C)n2C', 'CC(=O)c1ccc(NC(=O)CN2CCN(Cc3cc(=O)oc4cc(C)ccc34)CC2)cc1', 'CCN1CCN(C2(/C(=C/C(=O)O)C(=O)O)C=C(c3ccccc3)c3ccccc3N2)CC1', 'Cc1cnc(NCC2C[C@@]3(CCC2C(=O)c2nc(C)sc2-c2ccccc2)CN3)nc1', 'NC1NC(=O)C2C(CCc3ccc(C(=O)N[C@@H](CCC(=O)O)C(=O)O)cc3)CNC2N1', 'Cc1ccc(OCCOC(=O)c2cc(N)cc(N)c2)c(C(=O)c2ccc(N(C)C)cc2)c1', 'CCCN(CC(=O)NCC(=O)Nc1ccc(OC)cc1)C(=O)c1ccc2ccccc2c1', 'CCCc1csc(-c2nc(Nc3ccc(CN4CCOCC4)cc3)nc3[nH]ccc23)c1', 'CC(c1c[nH]c2ccccc12)C(NC(=O)C1CCN(C(=O)c2ccccc2)CC1)C(=O)O', 'CCNC(=O)C(N)CCCNC(=O)CSCC(NC(=O)CC)C(=O)NCC(=O)O', 'NC(=O)N1CCCN(c2nc(/C=C/c3ccccc3)nc3sc4c(c23)CCCC4)CC1', 'CCc1c(C(=O)N(C)Cc2ccncc2)sc2ncnc(NCC3CC4C=CC3C4)c12', 'Cc1cc([C@H]2[C@@H](c3ccccn3)NC(=S)N2CCC(=O)Nc2ccccc2)c(C)n1C', 'CC(C)NC(=O)N1C[C@H](c2cccc(C(F)(F)F)c2)[C@H](C(=O)NCc2ccccc2)C1', 'CC(O)C#Cc1ccc2c(c1)OCCN(CC(CN1CCc3ccccc3C1)N=O)C2=O', 'NCC(CCc1ccc(C(F)(F)F)cc1)N[C@H](CC(=O)O)Cc1c[nH]c2ccccc12', 'C[C@@H]1CC(N2CC3(C2)CN(C(C)(C)I)C3)CCN1CC(C)(C)C', 'COc1ccc(CNC(=S)/C(=C(\\\\O)c2cc(C)c(C)cc2C)[n+]2cccc(C)c2)cc1', 'CCCOc1cccc([C@@H]2c3c(-c4ccccc4O)n[nH]c3C(=O)N2C[C@@H]2CCCO2)c1', 'CC(C(=O)Nc1cnc(OCC2CC2)cn1)N1CCC(F)(F)[C@@H](c2ccc(=O)[nH]c2)C1', 'CC12CCC1CC2.NC(=O)CCC1(c2ccc(Cl)cc2)c2ccccc2-c2nccn21', 'C=C(/C=C\\\\C(=C/N)CC(C(=O)O)n1c2c(c3cc(C)ccc31)CN(C)CC2)C(F)(F)F', 'COc1cc(N(Cc2cccnc2)c2cccc(C(=O)OC(C)(C)C)c2)ccc1C(N)=O', 'CCCc1nc(C)nc(Cl)c1Cc1ccc(-c2ccccc2C2=NC(C)(C)CO2)cc1', 'CCn1c(CC(=O)Nc2ccccc2F)nnc1S[C@H](C)C(=O)NC1CCCCC1', 'CN(C)CCC(=O)N1CCN2c3cc(OCc4ccc(F)c(F)c4)nc(=O)n3CC2C1', 'NCCCCC(NC(=O)C1CCCN1)C(=O)NC(CO)C(=O)NC(CS)C(=O)O', 'COc1cccc(/C=C/S(=O)(=O)NCC2C3CCC(C3)C2/C=C/CCCC(=O)O)c1', 'CCCCCCCOc1ccc(-c2c(C)c(-c3ccc(Cl)cc3)nc(N)c2C#N)cc1', 'CCn1c(SCc2nc3c(C)cccc3c(=O)[nH]2)nnc1-c1ccc(C(C)(C)C)cc1', 'NC(=O)c1cccc(CN(C[C@H]2CNC[C@@H]2Cc2ccccc2)c2ccc(Cl)cc2)c1', 'Nn1c(SCC(=O)N2c3ccccc3CCc3ccccc32)nnc1C1CCCCC1', 'CCC(CC)N1CC(C(c2ccccc2)c2ccccc2)n2ncc(=O)c(P)c2C1=O', 'CNC(=O)c1nnc(NC(=O)C2CC2)cc1Nc1cccc2c1N(C)Cc1nn(C)nc1-2', 'COc1cccc(NC(=O)COc2ccc(C(=O)NCCCNc3ccccc3)cc2)c1', 'O=C(O)CCCCCCCCCc1c[nH]c2ncc(-c3ccc(C(F)(F)F)cc3)nc12', 'COc1cc(N(C)C)ccc1C1(c2ccc(N(C)C)cc2OC)OC(=O)c2cccnc21', 'CC.COC(=O)c1cc(C#N)c(O)cc1-c1cc(C(=O)Nc2ccc(C)cc2)c(C)n1C', 'COc1ccc(C)c2c1N(C(=O)CN1C(=O)c3ccccc3N3C(=O)CCC13C)CCC2', 'CC1CC(C)CN(c2cc(NCCCC(=O)O)c3c4c(onc24)-c2ccccc2C3=O)C1', 'FC(F)(F)c1cccc(C2CNNC2C2CCN(Cc3cccc4c3OCO4)CC2)c1', 'CCn1c(CN2CCCCCC2=O)nnc1SC(C)C(=O)NCc1ccc(F)cc1', 'COc1ccc([C@H]2C(=C(O)c3c[nH]c4ccccc34)C(=O)C(=O)N2CCCN(C)C)cc1', 'CCC(=O)c1cc(Oc2ccc(CNC(=O)Nc3cc(C)c(C)cc3OC)cc2)ccn1', 'CC(c1ccccc1)N(Cc1ccccc1)C(=S)NCCCN1CCOCC1.Cl', 'O=C(c1cccnc1)N1C[C@H](c2ccc(F)cc2)[C@H]2CN(Cc3ccc(F)cc3)CC[C@H]21', 'Cc1noc(C)c1COc1cccc(C(=O)Nc2cccc(C(=O)N3CCCC3)c2C)c1', 'Cc1ccc2c(c1)CC(Nc1nc(C(=O)Nc3ccccc3N3CCNCC3)cs1)C2', 'Cc1ccc(C)c(NC(=O)CN(CCC(=O)Nc2ccccc2C(F)(F)F)C2CC2)c1', 'Cc1cc(-c2cc(-c3ccc(OCC(=O)NC4CCCCC4)cc3)[nH]c(=O)n2)ccc1O', 'CCc1cccc2c1NC(=O)[C@@]21N[C@@H]([C@H](C)O)[C@H]2C(=O)N(CCc3ccccc3)C(=O)[C@H]21', 'CCOC(=O)C(C)CC(Cc1ccc(-c2ccccc2)cc1)NC(=O)c1cc(=O)[nH]cn1', 'CCn1cccc1[C@H]1[C@@H](c2ccccn2)NC(=S)N1CCC(=O)Nc1cccc(C)c1', 'Cc1cc2occ(CC(=O)Nc3ccccc3C(=O)N3CCC(C(N)=O)CC3)c2cc1C', 'O=C(CSc1nc(C2CC2)n(-c2ccccc2)n1)Nc1ccc(N2CCCCC2)cc1', 'CC[C@H](c1nnc(SCc2ncc(-c3ccccc3)o2)n1Cc1ccccc1)N(C)C', 'CC(C)Oc1ccc(C2(C(C)C(=O)O)ONC3=C2CCc2cc(CN)ccc23)cc1C#N', 'COC(=O)c1c(-c2ccc(N3CCC(C)CC3)cc2)nn(-c2ccccc2)c1C(=O)OC', 'Cn1c(=O)c2c(-c3ccc(C(C)(C)C)cc3)n3c(c2n(C)c1=O)[C@@H](c1ccco1)OCC3', 'CCN(CCOC)c1ccc(Nc2nc(-c3ccc(-n4ccnc4)cc3)cs2)c(C)c1', 'CC(C)CC(NC(=O)C(C)N)C(=O)NC(CCC(N)=O)C(=O)NC(CS)C(=O)O', 'CCN1C[C@H](CN(C)C(=O)c2ccc(C)c(NC(=O)c3ccco3)c2)Oc2ccccc21', 'Cc1cc(C)cc(NC(=O)C2Sc3nnc(-c4ccccc4)n3NC23CCCCC3)c1', 'Cc1cccc(CN2CCN(C(=O)COc3cccc(NC(=O)c4ccco4)c3)CC2)c1', 'O=C(CN1CCOCC1)N1CCC[C@H](c2cccc(-c3cccc(C(F)(F)F)c3)n2)C1', 'CCC(=O)Oc1c(OC(=O)CCCN=[N+]=[N-])ccc2c1-c1cccc3c1[C@@H](C2)C(C)CC3', 'O=C(C1CC1)N1CC2(C1)OC(=O)N1CCN(Cc3cccc(Oc4ccccc4)c3)CC12', 'COc1ccc(CCC(=O)Nc2cccc(NC(=O)CCc3ccc(OC)cc3)n2)cc1', 'Cc1cccc(NC(=O)CCN2C(=S)NC(c3ccccn3)C2c2ccc(C)n2C)c1', '[H]/N=C1C(=C/c2cc(C)n(-c3ccc(C)cc3C)c2C)/C(=O)N=C2SC(CCCC)=NN2/1', 'CC(C)NC(=O)Nc1ccc(CNC(=O)COc2ccc(Oc3ccccc3)cc2)cc1', 'CCN(CC)Cc1nnn(-c2nonc2N)c1C(=O)NN=Cc1cccc2ccccc12', 'Cc1cnc(NC(=O)N2CCC(C(C)(C)N(C)SOc3cccc(F)c3)CC2)cn1', 'CCCNC1OC(N=[N+]=[N-])C(OC2OC([C@@H](C)O)C(O)C(O)C2N=[N+]=[N-])C(O)C1O', 'Cc1ccc(C)c(N2N=C(C(=O)OCc3ccc(C(=O)N4CCCC4)cc3)CCC2=O)c1', 'COc1cc2c(cc1NC1CCN(C)CC1)CC(Cc1ncccc1C(F)(F)F)C2=O', 'COC(=O)CC1CC(c2ccc(-c3noc(-c4ccc(CC(C)C)cc4)n3)cc2)NC1=O', 'CCOc1ccccc1N1CC(C(=O)N2CCC(c3nc4ccccc4o3)CC2)CC1=O', 'CNc1cccc(CCN2CCC(N3c4cc(Cl)ccc4COc4ccccc43)C2)c1', 'COc1ccc(CN(C(=O)CN2C(=O)c3ccccc3N3C(=O)CCC23C)C2CC2)cc1', 'CCOC(=O)C1CCN(C(=O)c2cc(-c3cccc(OC)c3)nn2-c2ccccc2)CC1', 'COc1ccc(CCNC(=O)[C@@H]2CC=CC[C@@H]2c2nc3ccccc3c(=O)[nH]2)cc1OC', 'O=C(O)C(F)(F)F.c1ccc2c(c1)NCCCC2NCCCn1ccc2ccccc21', 'Cc1cccc(NC(=O)N2CCN(C(=O)CC(C)c3ccc(C(F)(F)F)cc3)CC2)c1', 'Cc1cccc2c(=O)n(CC(=O)NCC3(c4ccc5c(c4)OCCO5)CCCC3)cnc12', 'COc1ccc(N2C[C@@H](C(=O)Nc3ccc(OC)cc3-n3c(C)ccc3C)CC2=O)cc1', 'CCOC(=O)CC1C(=O)N(CCc2c[nH]c3ccccc23)CCN1C(=O)c1ccccc1', 'CCOc1ccccc1NC(=O)C(=O)NC[C@@H](c1ccco1)N1CCc2ccccc2C1', 'CCOc1cc(NC(=O)C2CCN(CCc3ccc4c(c3)COC4=O)CC2)ccc1C#N', 'NCCCCC(N)C(=O)NC(CO)C(=O)N1CCCC1C(=O)NC(CS)C(=O)O', 'CCc1cc(CC)n(CC(NC(=O)OCC2c3ccccc3-c3ccccc32)C(=O)O)n1', 'O=C(Nc1ccc(C2=CCN(C(=O)C3COCCO3)CC2)cc1)N1Cc2ccccc2C1', 'COc1ccccc1-c1nnc2/c(=C\\\\c3ccc(N4CCCC4)s3)c(C(C)(C)C)nn12', 'CCSc1ccc2c(c1)N(c1ncc(-c3cc(C(C)(C)N)ccn3)cn1)CC21COC1', 'N#Cc1ccc(C2CC2)c(-c2nnc(C(=O)NC3C[C@@H](C[NH2+]/C=C\\\\[N-]N)N(C#N)C3)o2)c1', '[H]/N=C(\\\\N)c1ccc2cc(OC(=O)C(CCCC)NC(=O)OCc3ccccc3)ccc2c1', 'CC(C)(C)N1C(=O)c2ccc(C(=O)N3CCCN(C(=O)c4ccccc4)CC3)cc2C1=O', 'CCNC(=O)N1CCN(Cc2c(-c3ccccc3)nc3sc4cc(C)ccc4n23)CC1', 'NC(=O)CN1CCC(SCC2=NC3=C/C(=N/C4CCCC4)C=C(F)C3C(=O)N2)CC1', 'COc1ccccc1N1CCN(C(=O)c2cc(=O)c(OCc3ccccc3)cn2C)CC1', '[H]/N=C1C(=C/c2cc(C)n(-c3ccc(C)cc3)c2C)/C(=O)N=C2SC(CCCCC)=NN2/1', 'CN(CC(C)(C)C)C(=O)c1cccc(C(=O)Nc2ccc3c(c2F)CCNC3)c1.Cl', 'CN(C(=O)c1c(NC(=O)c2nc(C3CC3)cnc2Nc2cncnc2)cnn1C)C1CC1', 'CCOc1ccc(CN(C)C(=O)COC(=O)c2cc(C3CC3)nn2-c2ccccc2)cc1', 'Cc1ccc(NC(=O)C(=O)NCC2CCN(C(=O)c3cc4ccccc4o3)CC2)c(C)c1', 'COCCN1C(=O)[C@H]2[C@@H](C1=O)[C@]1(N[C@@H]2Cc2ccccc2)C(=O)Nc2c(C)cc(C)cc21', 'C[C@@H](OC(=O)c1nn(Cc2ccccc2)c(=O)c2ccccc12)C(=O)N1CCCCCC1', 'COc1cc(NC/C=C/c2ccc(C(=O)Nc3ccccc3N)cc2)cc(OC)c1OC', 'COc1ccccc1C(=O)N1CCCN(C(=O)Cc2nc(-c3ccccc3)oc2C)CC1', 'CC(C)C[C@H](N[C@@H](c1ccc(-c2ccc(CO)cc2)cc1)C(F)(F)F)C(=O)NCC#N', 'CC(=O)NCc1ccc(-c2cccc(NC(=O)C3(c4ccc5c(c4)OCO5)CC3)n2)cc1.[H][H].[H][H]', 'COc1ccc2c(c1)c(C=Cc1oc3ccc(C(N)=O)cc3c1O)cn2CCCN(C)C', 'CCCCC(C(=O)O)n1c(=O)c2ccccc2n(Cc2cn(C)c3cccc(C)c23)c1=O', 'Cc1cc(F)ccc1S(=O)(=O)N1CCC(N(c2cc(N(C)C)ncn2)C2CC2)CC1', 'C[C@@H]1CCCN(CCCNC(=O)CCc2nnc(C(=O)Nc3ccc(F)cc3)s2)C1', 'CC1CC(C)CN(C2=C(c3ccc([N+](=O)[O-])cc3)C(=O)N(CCc3ccccc3)C2=O)C1', 'CN1C(=O)[C@@H](NC(=O)C2=NCC(Cc3ccccc3)=C2)CCc2cc(C(C)(O)O)ccc21', 'CCOc1nc(OCc2cccc(-c3ccccc3)c2C)ncc1CN1CCC1C(=O)O', 'CC1(C)Oc2cccc(Oc3ncccc3NC(=O)Nc3ccc(C(C)(C)C)cc3)c2O1', 'O=C(NCCc1ccc(Cl)cc1)C1CCN(Cc2ccccc2-c2cccnc2)CC1', 'COC(=O)OC[C@@]1(C)O[C@@H](c2ccc3c(/N=C/N(C)C)ncnn23)[C@@H]2OC(C)(C)O[C@@H]21', 'Cc1cc(C(O)C(O)CNC(=O)OCC2c3ccccc3-c3ccccc32)cc(N)c1N', 'O=C(NC1CCN(C(=O)CCCN2C(=O)c3cccc4cccc(c34)C2=O)CC1)C1CC1', 'Cc1cccc(-c2nc(CO)c(N3CCC4(CC3)Cc3ccccc3C4)nc2C)c1Cl', 'Cc1cc(N2C(=S)N[C@H](c3ccccn3)[C@H]2c2ccn(C)c2)ccc1NC(=O)C(C)C', 'CCCCCCOc1ccc(NC(=O)c2c(CC)nc3ccc(C(F)(F)F)cn23)cc1', 'C[C@]12CCC3c4ccc(OS(=O)(=O)N5CCOCC5)cc4CCC3[C@@]13C[C@H]3C[C@@H]2O', 'C#CC/N=C(\\\\N)c1ccc(C(=O)Nc2ccc3c(c2)CC(CC(=O)OCCO)CC3)cc1', 'CCN[C@H]1CCCC[C@@H]1Nc1cc(F)c(S(=O)(=O)Nc2ccncn2)cc1C1CC1', 'CCOC1NC=C(C)C2=C1C(c1ccc(C#N)cc1OC)C(C(=O)OCCC#N)=C(C)C2', 'COC[C@@]12CN(C(=O)C3CC=CC3)CC[C@@H]1CN(c1ccc(C#N)c(C(F)(F)F)c1)C2', 'Cn1nnc(-c2ccc(O[C@H]3CCC[C@H](C(=O)O)C3)cc2)c1CC(=O)Cc1ccccc1', 'CCOC(=O)N1CCC(n2ccc3c(NC(=O)c4ccccc4C)cccc3c2=O)CC1', 'C[C@H](CCc1ncc(F)cc1C1CCCN1C(=O)C(F)(F)F)NC(=O)OC(C)(C)C', 'CCc1cccc(C)c1NC(=O)CN1CCN(C(=O)c2ccccc2C(F)(F)F)CC1', 'COc1cc(/C=C(/C#N)C(=O)NC2CCCC2)ccc1OCC(=O)Nc1ccc(C)cc1', 'C=CC(=O)N1CCC(C(=O)NC2CC(=O)N(c3ccc(Oc4ccccc4)cc3)C2)CC1', 'COc1ccc(CNC(=O)c2cn(Cc3ccccc3)cc(C(=O)NC(C)C)c2=O)cc1', 'CC[C@@H](C(=O)N1CCC(NC(=O)c2cc(C(F)(F)F)ccc2N)CC1)c1ccccc1', 'C[C@H](NC(=O)C1(C)CC1)c1ccc(O[C@@H]2CCN(c3cccc(C(F)(F)F)n3)C2)cc1', '[H]/N=C(\\\\C/C(=N/Cc1ccccc1F)OC)c1ncc(F)c(NCC(C(=O)O)C(C)C)n1', 'CCC1Cc2cc(OCc3ccccc3)c(O)cc2-c2cc(=O)c(C(=O)NCCN)cn21', 'CN1C(=O)OC[C@@H]1Cc1ccc2[nH]cc(C3CC(NC(=O)OCc4ccccc4)C3)c2c1', 'C[C@@H](O)[C@H](NC(=O)[C@@H](N)CCC(N)=O)C(=O)N[C@@H](Cc1c[nH]c2ccccc12)C(=O)O', 'CCCCN1CCc2cc(C=C3C(=O)NC(=O)N(c4ccc(OCC)cc4)C3=O)ccc21', 'CCCCOc1ccc(C(=O)N(Cc2ccc(OS(C)(=O)=O)cc2)CC(C)C)cc1', 'COc1ccc(C(CNC(=O)c2ccc(NC(=O)c3ccco3)cc2)N2CCCC2)cc1', 'COc1c(C)cnc(Cn2c(=O)n(CCCNC(C)C)c3c(Cl)nc(N)nc32)c1C', 'COCc1ccc(C(=O)N2C[C@@H](c3ccc(OC)cc3)[C@H](c3cc(=O)[nH]c(C)n3)C2)cc1', 'O=C(Cc1ccccc1)N1CCC(Oc2ccccc2-c2nc(C3CCOCC3)no2)C1', 'COc1ccccc1C(C)NC(=O)c1cccc(C(=O)NC(C)c2ccccc2OC)n1', 'OCC(O)C(O[C@H]1O[C@H](CO)[C@H](O)[C@H](O)[C@H]1O)C(O)C(O)CNCc1ccccc1', 'OC[C@H]1O[C@H](OCC(O)C(O)C(O)C(O)CNCc2ccccc2)[C@H](O)[C@@H](O)[C@@H]1O', 'C=C(/C=C1\\\\C(=C)N(C(=O)OC)C(C)CN1C(=O)Oc1ccccn1)C1=C(C)CC=CC=C1', 'O=C(C1CCN(c2nc3ccccc3o2)CC1)N1CCC[C@@H]1c1ccc2c(c1)OCCO2', '[H]/N=C1C(=C/c2cc(C)n(-c3cccc(C)c3C)c2C)/C(=O)N=C2SC(CC(C)C)=NN2/1', 'CC12CCC(=O)N1c1ccccc1C(=O)N2CCC(=O)NCC1COc2ccccc2C1', 'O=C(NCC1CCN(Cc2ccccc2Cl)CC1)Nc1ccccc1-c1ccccc1', 'CNC(=O)[C@@H]1CN(C(=O)C2CCN(C(=O)/C=C\\\\c3ccccc3)CC2)c2ccccc2O1', 'COc1ccc(-c2cc(C3(C(=O)N4CCN(c5ccccc5)CC4)CC3)no2)cc1OC', 'C[C@H](O)[C@H](NC(=O)c1ccc(C#CC=Cc2ccc(CNC3CC3)cc2)cc1)C(=O)NO', 'CCOc1ccc(CCNC(=O)Cn2c(=O)c3cccn3c3ccccc32)cc1OCC', 'CC(C)CN1C(=O)C(C)(C)COc2cc(NC(=O)c3cc(-c4ccccc4)on3)ccc21', 'Cc1ccc(-n2c(SCC(=O)NC(C)(C#N)C(C)C)nnc2-c2ccccc2)cc1C', 'CC(C)(C)OC(=O)N1CC2[C@H](C1)C2(C#N)c1ccccc1NC(=O)OCc1ccccc1', 'COc1ccc(CN2CCO[C@@]3(CN(Cc4ccco4)C[C@@H]3c3cccnc3)C2=O)cc1', 'CC(C)(C)OC(=O)NCc1ccc(C(=O)Nc2ccncc2)c(OCc2ccccc2)c1', 'COCCNC(=O)c1cccc(NCC(=O)Nc2ccccc2OCc2ccccc2)c1', 'CN1CCN(Cc2nc(C3(O)CCN(C(=O)Nc4ccc(F)cc4)CC3)cs2)CC1', 'O=C1CCc2cc(OCCCC(=O)N3CCCC(c4nc5ccccc5o4)C3)ccc2N1', 'Cc1ccc(C(=O)N2CC=CCC2)c(C2CCN(C(=O)c3cccc4c3OCO4)CC2)n1', 'Cc1ccc(-c2cnc(CCC(=O)N3CCC(C(=O)Nc4ccccc4O)CC3)o2)cc1', 'CCCN(CC(=O)NCC(=O)Nc1ccc(OC)cc1)C(=O)c1cccc2ccccc12', 'NC(N)=NCCCC(NC(=O)C(N)CC(=O)O)C(=O)NC(CO)C(=O)NCC(=O)O', 'Cc1ccccc1NC(=O)CCN1C(=S)NC(c2ccccn2)C1c1ccc(C)n1C', 'Cc1ccc(-c2sc(C)nc2C(=O)N2CCC3CN(c4nc(C)cc(C)n4)C3C2)cc1', 'CCn1c(C(O)(c2ccccc2)c2ccncn2)nc2nc(OC)c(C3NNNN3)cc21', 'C1CCC(CC1)NC2=NC3=CC=CC=C3S2', 'N#Cc1cc(F)ccc1NC(=O)C1CCCC1', 'O=c1c(-c2ccccc2)cncn1CCCF', 'O=c1[nH]n(-c2cccc(F)c2)c2c1CCCC2', 'Cc1ccc(F)cc1-c1noc(C2CCC2)n1', 'CCCCCc1nnc(-c2ccccc2)s1', 'Nc1ccc(OCc2ccccc2F)cc1N', 'CC(C)N(Cc1ccccc1)[N+]([O-])=NO.[Na+]', 'CC(C)Oc1ccc(F)cc1Cl.CCC', 'N/C(=N\\\\O)C1C2C=C(c3ccccc3F)CC21', 'CNC(CCc1ccncc1)c1cccs1', 'CCc1nc(Cc2ccccc2)sc1CN', 'CNC(c1csc(C)c1)c1ncccc1C', 'C=CCNC(=S)N1c2ccccc2CC1C', 'CCNC(c1ccc(C)cc1)c1cncs1', 'N#CC1CN(Cc2ccccc2)CCC1S', 'Cc1nc(Cc2ccc(F)cc2)[nH]c(=O)c1C', 'Cc1cccc(Cc2cnc(CN)s2)c1C', 'Cc1nn(-c2cc(F)cc(C=O)c2)c(C)c1C', 'Cc1ccc(-c2nc(C)c([C@H](C)N)s2)cc1', 'CCCCn1c(-c2ccccc2)c[nH]c1=S', 'CCCC/N=C/c1cc(-c2cccs2)c[nH]1', 'CC(CS)Cn1ccnc1-c1ccccc1', 'Cc1ccc([C@H](C)NCc2cscn2)cc1', 'Cc1ccc(F)c(C(O)c2cccnc2N)c1', 'Cc1ccc(Oc2ccnc(CN)c2)cc1F', 'CN(CCC#N)CC1Cc2ccccc2S1', 'Cc1cc(=O)cc(C)n1-c1cc(F)ccc1N', 'NC(CCc1ccncc1)Cc1ccsc1', 'Cc1cc(C)cc(NCc2nc(C)cs2)c1', 'Cc1cc(C(O)c2ccc(F)cc2)c(C)nn1', 'CNc1cccc(OCc2ccccc2F)n1', 'Cc1ccc(C(C)C)cc1-c1csc(N)n1', 'Cc1cnc2[nH]c(=S)c(C(C)C)cc2c1C', '[H]/N=C(\\\\C1=C(C)CSC1)N(C)c1ccccc1', 'Nc1cccc2nc(C3CCCCC3)sc12', 'Cc1ccc(C(=O)NCc2cc[nH]c2)c(F)c1', 'CCNC(c1ccc(C)cc1)c1nccs1', 'Cc1cccc2sc(NCC3(C)CC3)nc12', 'Cc1ccsc1CN[C@H](C)c1cccnc1', 'CCSc1ccccc1NCc1cc[nH]c1', 'CC(CC1CC1)Nc1nccc2sccc12', 'CCc1ncc(CNc2cccc(C)c2)s1', 'CC(Oc1ccc(N)cc1F)c1ccncc1', 'NCC(Cc1ccccc1)Cc1cscn1', 'COc1ccc(-c2c(C)ccnc2N)c(F)c1', 'Cn1cc(COc2cccc(B(O)O)c2)cn1', 'Cc1cccc(Cc2nc(CCN)cs2)c1', 'C[Si](C)(C)CNC(=O)c1ccc(C#N)cc1', 'O=c1[nH]c(C2CCCC2)nc2c(F)cccc12', 'Cc1ccc(C(N)Cc2nccs2)c(C)c1', 'NC(=O)C1C=CC=CC1(F)c1ccccc1N', 'O=C(c1c[nH]c2cccc(F)c12)C1CCNC1', 'COc1cccc(NCc2ccccc2F)n1', 'Cc1ccc2c(c1)CCC2NC1=NCCS1', 'Cn1cccc1C(=O)NCc1ccccc1F', 'CC(NCCc1nccs1)c1ccccc1', 'N#Cc1ccc(CNC(=O)CC2CC2)c(F)c1', 'c1ccc(CCCNCc2nccs2)cc1', 'CC(O)(Cc1cccc(F)c1)c1cncnc1', 'O=c1[nH]c2c(F)cccc2cc1C1CCCN1', 'CC1SCCCC1Nc1ccc(C#N)cc1', 'CC(C)(C#N)CCOc1ccc(C#N)c(F)c1', 'O=c1[nH]ccc2c(F)c(NCC3CC3)ccc12', 'Cc1cnc(C(O)c2cc(C)ccc2F)nc1', 'CCc1ccc(CC)c(-c2csc(N)n2)c1', 'CCNC1CC(c2cnc3ccsc3c2)C1', 'Cc1ccc2cc(C(Cl)C(C)C)ccc2c1', 'Cc1cc(C)cc(CC(N)c2cscn2)c1', 'Cc1ccc(C(N)c2ccc(C)s2)c(C)n1', 'C[C@@H](N)c1ccc(Oc2cccc(F)c2)cn1', 'CN(Cc1cc(C#N)ccc1F)C(=O)C1CC1', 'CCc1cn(-c2cccc(C)c2C)c(=S)[nH]1', 'CCSc1cnc(-c2ccccc2)n1CC', 'CC(C)(C)OC(=O)N1CC(C#N)(C(F)F)C1', 'Cc1ccc(-c2csc(CC(C)N)n2)cc1', 'CC(C)c1ccc(C2C=CC(Cl)=CC2)cc1', 'CNC(c1cscn1)c1ccc(C)cc1C', 'Cc1cc(C)cc(C(N)c2scnc2C)c1', 'Cc1ccccc1NC1(C#N)CSC(C)C1', 'O=c1nc2cc(F)ccc2c(C2CCCC2)[nH]1', 'CNC(c1cccc(C)c1)c1nc(C)cs1', 'CC1=CC(NNC(=O)c2ccccc2F)=CC1', 'Cc1ccccc1C(NN)c1sccc1C', 'C=CCNC(=O)Cc1c[nH]c2c(F)cccc12', 'NCc1cccc(F)c1OCc1ccncc1', 'CN(C)c1ccc(C(N)c2cccs2)cc1', 'Cc1cccc(NC(C)c2ccsc2)c1N', 'COc1cc(-n2ccc(C)n2)ccc1B(O)O', 'Cc1ccc(NC(C)c2ccsc2)cc1N', 'CCCSc1ncnc2ccc(CC)cc12', 'COc1cnccc1C(N)c1ccccc1F', 'NCc1cccn(Cc2ccccc2F)c1=O', 'Cc1cc(=O)c(CN)cn1-c1cccc(F)c1', 'CCc1cccnc1C(NC)c1cccs1', 'C=CC1=C(N(C)N)c2ccc(S)cc2CC1', 'CCC(NCc1cncs1)c1ccccc1', 'CSCCNCc1ccc2cnccc2c1', 'C=CC1=CC=C(C(Cl)C2C=CC(CC)=C2)C1', 'CSc1cccc(N(C)CC2CC2)c1C#N', 'C=CCCC(NN)c1csc2ccccc12', 'Cc1cccc(OCc2cc(N)ccn2)c1F', 'CN(Cc1cccc(F)c1)C(=O)c1ccc[nH]1', 'Cc1cccnc1NC(C)Cc1ccsc1', '[H]/N=C(\\\\CN(C)C)c1ccc2sc(C)cc2c1', 'NCCc1cncc(Oc2ccccc2F)c1', 'CCNC(c1cccnc1)c1sccc1C', 'Cc1nc2cc(CC3CCNC3)ccc2s1', 'Cc1cc2cc(C(C)C)c(=S)[nH]c2nc1C', 'CCc1ccc(Cc2csc(NC)n2)cc1', 'Cc1cc2nc3n(c2cc1C)CCCCS3', 'CC(N)(CCc1ccccc1)c1nccs1', 'Cc1cc(=O)cc(C)n1-c1cc(N)ccc1F', 'CC(C)(C)c1cc2c(cc1SC#N)CCN2', 'CCc1ccc(-c2cnn(C(C)=O)c2)cc1F', 'Cc1ncsc1-c1ccc(CN(C)C)cc1', 'CC(Cl)CCCc1cccc2ccccc12', 'CC(NC1CCC1)c1cnc2ccsc2c1', 'CNCc1csc(-c2c(C)cccc2C)n1', 'Cc1ccc(C(NN)c2cccs2)cc1C', 'Cc1cccc2c1[nH]c(=S)n2CC1(C)CC1', 'COc1ccc(NCCOCC(F)F)nc1', 'Cc1cccnc1COc1ccc(F)cc1N', 'NCC(O)(c1ccccc1)c1ccncc1F', 'CCc1nc2ccc3c(c2s1)CCNCC3', 'Nc1onc(CC2CC2)c1-c1cccc(F)c1', 'c1ccc(C2CN=C(NCC3CC3)S2)cc1', 'CCC(N)Cc1ncc(-c2ccccc2)s1', 'CCC(C)c1csc(-c2ccncc2C)n1', 'Cc1nc2c(n1Cc1ccsc1)CCCC2', 'Cc1ccc(-c2nc(CN)c(C)s2)c(C)c1', 'Cc1ccc(C)n1NC(=O)c1ccccc1F', 'CCc1cccc(NCc2csc(C)n2)c1', 'NC(c1ccn(Cc2ccsc2)c1)C1CC1', 'c1ccc2c(c1)ccn2CCN1CCSC1', 'CCC(N)Cc1cccc(-c2ccsc2)n1', 'Cc1ccc(Cc2nc(C)c(F)c(=O)[nH]2)cc1', 'CC(=O)NCC=Cc1c[nH]c2ccc(F)cc12', 'CC(C)(C)c1ccc(-n2cc[nH]c2=S)cc1', 'CCc1ccc(C(=O)c2ccc(F)cc2)n1N', 'Cc1[nH]c2c(F)cccc2c1C(=O)NC1CC1', 'CC1CCCc2c1nc1sc3c(n21)CCC3', 'NC1CCC(c2nc3ccccc3s2)CC1', 'Cc1nc2ccc(CC3(CN)CC3)cc2s1', 'O=C(CNC1CC1)c1c[nH]c2cc(F)ccc12', 'Cc1sc(-c2ccc(N)cc2)nc1C(C)C', 'Cc1cc(-c2ccccc2F)nc(CCO)n1', 'Cc1ccc(NCc2cc(O)cc(F)c2)cn1', 'Cc1cc(C#N)ccc1N(C)C1CCSC1', 'Cc1ccc([C@H](C)NCc2nccs2)cc1', 'CCOC(=O)C(F)(F)Cc1nccn1CC', 'CCCc1ccc(Oc2cc(F)ncn2)cc1', 'C=C(CCc1nc2ccccc2s1)N(C)C', 'COc1cccnc1-c1ccc(CN)c(F)c1', 'Cc1ccc(C2COCc3cncn32)cc1F', 'COc1cc(-c2cccc(N)c2N)ccc1F', 'CC(C)NC(=O)c1cnc2cc(F)ccc2c1', 'CNC(=O)CCc1ccc2cccc(F)c2n1', 'Cc1nc2cc(C3(C(C)N)CC3)ccc2s1', 'CC(=O)c1c(C)nn(-c2cccc(F)c2)c1C', 'Cc1sc(CCCN)nc1-c1ccccc1', 'C=C/C=C(\\\\C=C(/C)N)Sc1cccc(N)c1', 'SCCCCn1ccnc1-c1ccccc1', 'Cn1c(C2CCCC2)nc2cc(S)ccc21', 'CC1CC(=O)N(Cc2ccc(F)c(C#N)c2)C1', 'CCC(C)c1csc(-c2cnccc2C)n1', 'CCNC(Cc1ccccn1)c1ccsc1', 'CC(=O)c1c(C)[nH]c(-c2ccc(F)cc2)c1N', 'Cc1cccc2cnc(C3CCCSC3)n12', 'Cc1ccc(Nc2ccc(F)c(O)c2)cc1N', 'CSc1ccccc1NCc1cccn1C', 'CCOc1ccc(-c2ccnc(C)n2)cc1F', 'COc1cccc(Nc2cccc(F)c2N)c1', 'Cc1ccc(C(C)NCc2cccnc2)s1', 'O=c1[nH]n(-c2ccccc2F)c2c1CCCC2', 'Cc1ccc(C)c(-c2csc(CCN)n2)c1', 'Cc1ccc(NCc2sccc2C)cc1N', 'Cc1cccc2nc(CC3CCCS3)cn12', 'NCC(Oc1cccc(F)c1)c1cccnc1', 'C/C=C1\\\\CNC[C@@H]1Oc1ccc(C#N)c(F)c1', 'COc1ccccc1Nc1c(N)cccc1F', 'COc1cc(NCc2cccc(F)c2)ccn1', 'Cc1cc(C)cc(NCc2csc(C)n2)c1', '[2H]c1c([2H])c([2H])c(C(=O)OCc2ccccc2)c(O)c1[2H]', 'Nc1onc2c1C(c1ccccc1F)CCC2', 'CN1C2CCC1CC(C#N)(c1cccs1)C2', 'C=C(N=O)C1(C(=C)Nc2ccc(F)cc2)CC1', 'CCc1cccc(C)c1NCc1cscn1', 'Cc1ccsc1CCNCc1ccncc1', 'CNc1cccc(Oc2ccc(F)cc2C)n1', 'CSc1c(C)[nH]c2cc3c(nc12)CCCC3', 'Cc1ccsc1CN[C@H](C)c1ccncc1', 'Cc1ccc(CCNc2cnc(C)s2)cc1', 'Cc1cc(C)c(-c2cnc(CS)[nH]2)c(C)c1', 'CCc1ccc(C(N)c2cncc(C)c2)s1', 'O=C(c1c[nH]c2c(F)cccc12)C1CCCN1', 'Cc1cc(C)n(C(=O)Cc2ccccc2F)n1', 'c1ccc2sc(CCN3CCCC3)nc2c1', 'C=CCC(C)n1c(=S)[nH]c2cccc(C)c21', 'CCC(C)c1ccc(-c2ncsc2N)cc1', 'CC(C)(C)C1CN2C(=N1)Sc1ccccc12', 'CC(C)Cc1nc(-c2ccc(N)cc2)cs1', 'CCCCN(c1ccncc1)c1ccsc1', 'Cc1ccc(C(N)c2ccsc2C)c(C)n1', 'CC(O)(Cc1ccccn1)c1cncc(F)c1', 'CCc1ccc(CNCc2cscn2)cc1', 'Fc1cccc(-c2nc(C3CCNC3)co2)c1', 'CCCCC/C=C(/C/C=C(\\\\C)Cl)SC', 'CCNC(c1cccs1)c1cnccc1C', 'Cc1ccc(CN(C)c2cscn2)cc1C', 'Cc1cc(CO)nc(CCOCC(F)F)n1', 'Cc1cc(C(N)c2sccc2C)cc(C)n1', 'Fc1ccc(-c2noc3c2CCCCN3)cc1', 'Cc1ncccc1Oc1cc(F)cc(CN)c1', 'Cc1nc(CNC(C)c2ccccc2)cs1', 'Fc1ccccc1NCCOc1cccnc1', 'S=C=NC1CCCN(Cc2ccccc2)C1', 'Cc1ccc(N)cc1NCCc1ccsc1', 'Cc1ccc(CNc2ncc(C)s2)c(C)c1', 'Cc1ccc(-c2nc(CN)sc2C)cc1C', 'CCCCn1ccc2cc(C(N)=S)ccc21', 'COc1cccc(Nc2cccc(F)c2)c1N', 'NCCCc1csc(Cc2ccccc2)n1', 'OCC(Nc1ccccc1F)c1cccnc1', 'Cc1ccc(C(=O)NC2=C(F)CCC=N2)cc1', 'CNC(CSC)c1cccc2ncccc12', 'CCc1ccc(C(NC)c2cncs2)cc1', 'Cc1cc(CN)c(=O)[nH]c1-c1ccc(F)cc1', 'COc1cc([C@@H](N)CN)ccc1OC(F)F', 'Cc1cccnc1NC(C)Cc1cccs1', 'Cc1cccc2sc(C3CCCNC3)nc12', 'CCNCc1nc(-c2cccc(C)c2)cs1', 'Cc1cc(C)c(CNc2nccs2)cc1C', 'CNCc1ccc(Oc2cccc(F)c2)nc1', 'Cc1ccc(F)c2nc3c(c(N)c12)COCC3', 'Cc1ccc(F)c2c1cc1n2[C@H](C)CNC1=O', 'C=C1c2ccc(Cl)cc2CCC12CCCC2', 'Nc1ccncc1CC(O)c1cccc(F)c1', 'Fc1ccc(-c2coc(C3CCNC3)n2)cc1', 'CC(C)CSc1ccc2cc(N)ccc2n1', 'CN(C(=O)[C@H]1C[C@H](F)CN1)C1CCSC1', 'Cc1ccc(C(N)c2nc(C)c(C)s2)cc1', 'CCC1(c2nc3ccccc3s2)CCCN1', 'NC(COc1ccc(F)cc1)c1ccccn1', 'CC(Nc1cccnc1)c1ccc(O)cc1F', 'CCC(C)c1ccc(-c2cnc(N)s2)cc1', 'O=C(Cc1c[nH]c2cccc(F)c12)NC1CC1', 'C#CCC(N)C(=O)N1CCc2ccc(F)cc21', 'CNc1c2c(nc3cc(F)ccc13)CCOC2', 'COc1cncc(N(C)c2ccc(F)cc2)c1', 'CCc1ccc(-c2nc(C)c(NC)s2)cc1', 'CC(N[C@H](C)c1ccncc1)c1ccsc1', 'CC(=O)NC(F)(F)C1C(=O)C2CCN1CC2', 'Cc1nc(C)c(-c2ccc(CCN)cc2)s1', 'Cc1ccsc1C(N)C(C)c1ccccn1', '[3H]OC(=O)[C@@H](C)c1ccc2cc(OC)ccc2c1', 'CC1=C(C(=O)OC2=C3CCC(OC3=CC(=C12)OCC(=O)NCC4=CC=NC=C4)(C)C)C', 'COc1cccc(C2/C(=C(\\\\[O-])c3ccccc3)C(=O)C(=O)N2CC[NH+]2CCOCC2)c1', 'Cc1ccc(-n2nccc2-c2nc(C(=O)NCCc3ccccc3)c3cnccn23)cc1', 'CCc1c2c(nc3ccc(OC)cc13)-c1cc(C(O)(C=O)CC)c(COC)c(=O)n1C2', 'C[C@H](NC(=O)C(CC1CC1)NC(=O)OCC1c2ccccc2-c2ccccc21)C(=O)O', 'COc1cccc(Nc2nc(NCc3ccccc3)nc3c2cnn3-c2ccccc2)c1', 'CC1(C)COC(c2nc(-c3ccc(F)cc3)cn2-c2ccnc(NCCC#N)n2)OC1', 'N#Cc1ccc(Nc2cccc(C(=O)N3CCCC(c4nnc5ccccn45)C3)c2)cc1', 'CCCCCC1=CCC(c2ccc(-c3ccc(OCC)c(F)c3F)c(F)c2F)OC1', 'CC(C)[C@@H](C(=O)O[C@H](C)C(=O)NCCc1ccccc1)N1C(=O)c2ccccc2C1=O', 'COc1ccc(/C=C/C(=O)N2CCC(NC(=O)c3cccc(OC(C)=O)c3)CC2)cc1', '[H]/N=C1\\\\Oc2ccc(-c3ccccc3)cc2C(CC(=O)N2CCOCC2)C1C(=O)OCC', 'Cc1nc(C(C)(C)F)oc1C(=O)N1CCc2[nH]cnc2C1c1cc2cccc(C)n2n1', 'Cc1nn(-c2ccccc2)c(C)c1C1C(C#N)=C(N)Oc2c1c(C)nn2-c1ccccc1', 'CCC(C)C(N)C(=O)NC(CO)C(=O)NC(C(=O)NC(CS)C(=O)O)C(C)O', 'O=C(COc1ccccc1F)N1CCCC(c2ccc(Cc3cccc(F)c3)cn2)C1', 'O=C1CCC(c2coc3ccc4cc(OCCCN5CCOCC5)ccc4c23)C(=O)N1', 'CS(=O)c1cc(C(=O)NC2CCC(C(=O)O)CC2)ccc1OCC1CCNCC1', 'COc1cc(/C=C/C(=O)OCC(=O)N[C@@H](C)c2ccc(C)c(C)c2)ccc1OCC#N', 'Oc1ccc(CCCc2nccc(-c3cccc(CN4CCNCC4)c3)n2)cc1Cl', 'C[C@]12CCC(=O)C=C1CC[C@@H]1[C@@H]2CC[C@]2(C)C(OCCCCBr)CC[C@@H]12', 'CC(C)NCC(O)COc1ccc(OCn2ccnn2)cc1.O=C(O)/C=C\\\\C(=O)O', 'COc1ccc([C@@H](CNC(=O)c2cc(=O)c3ccc(C)cc3o2)N2CCOCC2)cc1', 'CC(C)(C)C(=O)O.COCCO.COCCOC(=O)C(C)(C)C.ClCCl', 'Cc1nc(NCc2ccc(OCc3ccc(F)cc3)cn2)nc2c1NC(=O)C(C)N2C', 'CCCCCOc1c(OC)cccc1[C@@H]1NC(=S)NC(C)=C1C(=O)OCCOC', 'CC(C)(C)OC(=O)N1CCC(N2CCC(Oc3ccc(C(=O)O)cc3F)C2=O)CC1', 'CC(CC(N)=O)C(C)C(C(=O)NC1C(=O)COC1CC(N)=O)n1ccc(C(=O)O)c1', 'C#CC(=O)N1[C@@H](CCCC)Cc2c([nH]c3c(F)cc(CO)cc23)[C@@H]1c1ccc(F)cc1', 'CN(C1CCCCC1)S(=O)(=O)c1ccc2c(c1)OCC(C(=O)N1CCCCC1)O2', 'C1CCOC1.C=CCCCBr.CCCCC1Cc2cc(C)ccc2C1=O', 'COc1cc(/C=C(\\\\C#N)C(=O)NC(C)C)ccc1OC(=O)COc1cc(C)ccc1C', 'COc1ccc(CC(=O)N2CCC[C@H]2c2cc(-c3ccc(F)cc3)cc(C)n2)cc1F', 'COc1cccc2c1O[C@]1(CCOC(C)(C)C1)N1N=C(c3ccc4c(c3)OCO4)C[C@H]21', 'CCCC[C@H](C(=O)OCC(=O)Nc1cc(C)ccc1C)N1C(=O)c2ccccc2C1=O', 'CCOc1ccc(/C=C/C(=O)NCCC(=O)c2ccc3c(c2)CCN3C=O)cc1OC', 'OCC1(c2nc3c(c(-c4cccc(Cl)c4)c2C2=NN=NC2)CCCCC3)CCCC1', 'O=C(COc1ccccc1F)N1CCC[C@@H](c2ccc(Cc3cccc(F)c3)cn2)C1', 'CC1=C(C(=O)Nc2ccccc2)C(c2cccc(C)c2)n2nc(-c3ccncc3)nc2N1', 'CN(CCCC(=O)N1CCC[C@@H]1c1[nH]ncc1-c1cccc(Cl)c1)c1ccccc1', 'C/N=C(/NCc1ccccc1CS(=O)(=O)NC(C)C)NCC(C)c1cccs1', 'COc1ccc(C2=NN(Cc3ccc(C(=O)O)cc3)C(=O)[C@H]3CCCC[C@@H]23)cc1OC', 'CC[C@H](C)N1C(=O)c2ccc(C(=O)OCC(=O)Nc3ccccc3C(C)C)cc2C1=O', 'CCc1ccc2nc3c(cc2c1OC)Cn1c-3cc([C@](O)(C=O)CC)c(COC)c1=O', 'COc1ccc(/C=C/C(=O)N[C@@H](C)C(=O)OCC(=O)N2c3ccccc3C[C@H]2C)cc1', 'COC(=O)c1cn(CC(=O)N2CCC[C@@H]2c2ccc(OC)cc2OC)c2ccccc12', 'CCN(CC)c1nc(NN=Cc2ccc(O)c([N+](=O)[O-])c2)nc(Nc2ccccc2)n1', 'CCN/C(=N\\\\CCN1C(=O)CNC1=O)NC1CCN(c2cc(Cl)ccc2OC)C1', 'CCCOC(=O)c1ccc(NC(=O)CCCCCN2C(=O)c3ccccc3C2=O)cc1', 'CCOc1ccc(CN(CC)C(=O)COC(=O)c2cccc3cccnc23)cc1OC', 'COc1ccc(C)cc1/C=C/C(=O)N1CCC(C(=O)Nc2ccc3c(c2)OCO3)CC1', 'CC(=O)c1cccc(NC(=O)[C@@H](C)OC(=O)[C@@H]2CC(=O)N(c3cccc(C)c3C)C2)c1', 'CCCc1c(C(=O)C(N)=O)c2c(OCCCC(=O)O)cccc2n1Cc1ccccc1', 'CC[C@H](C)c1ccccc1NC(=O)[C@H](C)OC(=O)C1=C(Nc2ccccc2)OCC1=O', 'CCCc1c(C(=O)O)n(C(C)C)c(=O)n1Cc1ccc(-c2ccccc2C(=O)O)cc1', 'CCOc1ccc(CN(C)C(=O)COC(=O)c2ccccc2NCc2ccco2)cc1', 'O=C1CCC(c2coc3ccc4cc(OCCNC5CCOCC5)ccc4c23)C(=O)N1', 'C=CCN1C(=O)C(Nc2cc(OC)ccc2OC)=C(c2ccc(OC(C)C)cc2)C1=O', 'CN(CC(=O)N1CCCC(C(=O)O)C1)C(=O)OCC1c2ccccc2-c2ccccc21', 'CCCC(NC(=O)C1(NC(=O)OCC2c3ccccc3-c3ccccc32)CC1)C(=O)O', 'C=CCNc1nc(NCC=C)nc(N2CCC(N[C@@H](CSN=O)C(=O)O)CC2)n1', 'C=C(C)COC(=O)Nc1cc(C)c(Oc2ccnc3cc(OC)c(OC)cc23)cc1C', 'CCCCC1(COC(=O)CCC=O)C(=O)N(c2ccccc2)N(c2ccccc2)C1=O', 'Cc1ccc(Oc2ccc(Nc3ncnc(C#Cc4ccc(N)cc4)c3N)cc2C)cn1', 'CCOc1ccccc1C=CC(=O)N1CCC(C(=O)Nc2ccc3c(c2)OCO3)CC1', 'CCCCN1C(=O)c2ccc(C(=O)O[C@@H](C)C(=O)NCCc3ccccc3)cc2C1=O', 'CN1CCN(C(=O)c2ccc(-c3cn4c(-c5ccccc5C#N)cnc4cn3)cc2)CC1', 'CCc1ccc(NC(=O)[C@@H](C)OC(=O)c2ccc3c(c2)C(=O)N([C@H](C)CC)C3=O)cc1', 'C[C@@H]1C[C@H](C)CN(C(=O)C2CCN(S(=O)(=O)c3ccc4c(c3)OCCO4)CC2)C1', 'C[C@@H](NC1CCCc2c1[nH]c1ccc(-c3csc4ccccc34)cc21)c1ccccc1', 'c1cc(-c2ncc3c(n2)N2CCOCC2CN3c2cccc3[nH]ccc23)c2cc[nH]c2c1', 'CCOc1cc(/C=C2/N=C(c3ccccc3C)OC2=O)ccc1O[C@H](C)C(=O)N(C)C', 'O=C(NNc1ccccn1)c1cn(C2CC2)c2cc(N3CCNCC3)c(F)cc2c1=O', 'CCC(CNC(=O)[C@@H](C)OC(=O)c1ccc(N2C(=O)CCC2=O)cc1)c1ccccc1', 'COc1ccc2c(c1)nc(NCCCCNC(=O)c1ccccc1F)c1nnc(C)n12', 'COC(=O)c1sc2ccc(OC)cc2c1N[C@@H](CNC(=O)OC(C)(C)C)C(C)C', 'CN(C)c1ccc(-c2nnnn2[C@H]2CO[C@H]3[C@@H]2OC[C@@H]3NC(=O)c2cncnc2)cc1', 'CCc1cccc(NC(=O)c2cnn(-c3cccc(Cl)c3C)c2C2CCNCC2)c1', 'COC12C(CO)C3=C(C(=O)C(C)=C(N4CCC(O)C4)C3=O)N1CC1NC12.NC(=O)O', 'Cc1nnc2c3cc(-c4ccccc4)c(-c4ccc(CNC(=O)CN)cc4)nc3ccn12', 'COc1ccc(C2=NN(Cc3cccc(C(=O)O)c3)C(=O)[C@H]3CCCC[C@@H]23)cc1OC', 'C#CC[C@H](NC(=O)[C@H](C)NC)C(=O)N1CCC[C@H]1CNC(=O)c1cnccn1.Cl', 'CC(C)C[C@@H](C(=O)OCC(=O)N(C)Cc1ccccc1)N1C(=O)c2ccccc2C1=O', 'CNc1nc(-c2cccnc2)nc2ccc(-c3ccc(OCc4nccn4C)cc3)cc12', 'O=C(c1ccc2c(c1)OCO2)N1[C@@H](c2ccccc2)[C@@H](CO)C[C@]12CCCCNC2=O', 'C[C@@H](CC(=O)O)NC(=O)C1(CNC(=O)OCC2c3ccccc3-c3ccccc32)CC1', 'CCOC(=O)C1CCN(Cc2c(O)cc(C)c3c2O/C(=C/c2ccncc2)C3=O)CC1', 'O=C(CNC(=O)[C@@H]1CCCN1)N[C@@H](Cc1ccc(O)cc1)C(=O)N[C@@H](CO)C(=O)O', 'CCCC(CNC(=O)c1ccc2c(c1)COB2O)NC(=O)c1ccc2c(c1)COB2O', 'CCc1ccccc1NC(=O)COC(=O)c1ccc2c(c1)C(=O)N(CCC(C)C)C2=O', 'NC(CNc1nc(-c2ccncc2)nc2c(-c3ccoc3)nccc12)Cc1ccccc1', 'COc1ccc(C2[NH2+]CCc3c2[nH]c2ccccc32)cc1Cn1nc(C)cc1C.[Cl-]', 'CN1CCN(C)C(C(=O)OCC#Cc2cn([C@H]3CC(O)[C@@H](CO)O3)c(=O)[nH]c2=O)C1', 'O=C(/C=C/c1ccco1)C1=C(O)C(=O)N(CCCN2CCOCC2)[C@@H]1c1ccccc1', 'CCc1cc(=O)oc2c3c(cc(OCC(=O)NCc4ccccn4)c12)OC(C)(C)CC3', 'Cc1ccc(N2C(=O)CC(N(CC3CCCO3)C(=O)COc3ccccc3)C2=O)cc1', 'CC1CCC(C(=O)O)CN1C(=O)CNC(=O)OCC1c2ccccc2-c2ccccc21', 'CC(Nc1ccn2ncc(-c3cnn(C4CCCC4O)c3)c2n1)c1cc(F)ccc1O', 'COc1ccccc1NC(=O)[C@H](C)OC(=O)CSCC(=O)N(C)C1CCCCC1', 'CC(C)C[C@]1(C(=O)O)N[C@H](c2ccccc2O)[C@H]2C(=O)N(Cc3ccccc3)C(=O)[C@@H]21', 'CC(=O)Nc1cccc(Nc2ncnc(N3CCC(Oc4ccc(F)cc4)CC3)n2)c1', 'CCN(CC)C(=O)C1CCCc2c1c1cc(OC)ccc1n2CCOS(C)(=O)=O', 'Cc1cccc(NC(=O)COC(=O)C(CC(C)C)N2C(=O)c3ccccc3C2=O)c1C', 'COc1cc(/C=C/C(=O)O[C@H](C)C(=O)Nc2c(C)cc(C)cc2C)ccc1OCC#N', 'Cc1ccc(-c2nn(-c3ccccc3)cc2C(=O)NCc2nnc3ccccn23)c(C)c1', 'CC(C)=CCCC(C)=CCCC(C)(O)C1Cc2c(O)c(C(=O)O)c(C)c(Cl)c2O1', 'Cc1ccc(-c2nc(COc3cccc(CN4CCOC[C@H]4C(=O)O)c3)c(C)o2)cc1', 'CC(C)C(=O)Cc1cc(C(C)NC(=O)c2ccc(OCCC(F)(F)F)cc2)ccn1', 'CC1(C)OC[C@H]([CH]O)O1.[CH2]CCC.[CH2]CCC.[CH2]CCC.[Sn]', 'O=C1C(Cc2ccccc2)Nc2c(C=CC3C=CC=CC3)nc(-c3ccc(O)cc3)c[n+]21', 'CCOC(=O)[C@]1(C)N[C@@H](c2ccccc2C)[C@H]2C(=O)N(c3cccc(OC)c3)C(=O)[C@@H]21', 'CCOCCCn1c(O)c(C(=O)c2oc3cc(C)cc(C)c3c2C)c(C)c(C#N)c1=O', 'Cc1cccc(NC(=O)C(C)OC(=O)c2ccc3c(c2)C(=O)N(C(C)(C)C)C3=O)c1C', 'CC(C)[C@@H]1[NH2+][C@]2(C(=O)Nc3ccc(F)cc32)[C@@H]2C(=O)N(CCc3ccccc3)C(=O)[C@@H]21', 'Cc1cccc(-c2nn(-c3ccccc3)cc2C(=O)NC(C)c2nnc3ccccn23)c1', 'C#CCCC1(CCN(C(=O)CC)C(C(=O)Nc2ccc(F)cc2)c2cnccn2)N=N1', 'COc1cc(OC)cc([C@H](C)NC(=O)[C@@H]2CNC[C@H]2c2ccc(C(F)(F)F)cc2)c1', 'CC(C)NCC(O)COc1ccc(OCn2ccnn2)cc1.O=C(O)/C=C/C(=O)O', 'C=CC(=O)Nc1cccc(Nc2nc(Nc3ccc(OC(C)(C)C)nc3)ncc2F)c1', 'CCOc1ccc(C(C)=O)cc1COC(=O)c1nn(CC(C)C)c(=O)c2ccccc12', 'COc1cccc(/C=C/C(=O)NCCC2(c3ccc4c(c3)CC(=O)N4C)OCCO2)c1', 'COC(=O)c1cc2c(cc1OC)CCN(C=O)[C@H]2CCc1c[nH]c2ccc(OC)cc12', 'COC(=O)c1ccc(/C=C/C(=O)O[C@H](C)C(=O)N2CCN(c3ccccc3)CC2)cc1', 'C[C@@H](NC(=O)CCCOc1cc(=O)n(C)c2ccccc12)c1ccc2c(c1)OCCO2', 'CC1=C(C(=O)Nc2ccc(F)cc2)[C@H](c2ccc(F)cc2)C2=C(CC(C)(C)CC2=O)N1', 'CCCC1=CCC(c2ccc(CCc3ccc(OCC)c(F)c3F)c(F)c2F)CO1', 'c1cnc2c(C3(c4cnc5ncc(-c6cnn(C7CCOC7)c6)cn45)CC3)cccc2c1', 'Cc1nc([C@@](C)(CC(=O)c2ccc(C3CC3)c(OCC(F)(F)F)c2)CC2CC2)no1', 'CCCCCC(=O)CN(C(=O)C=O)C(=O)NOCC1c2ccccc2-c2ccccc21', 'CCOc1ccc(C2C3=C(OC4CCC(C)CC4C3=O)C(=O)N2c2cc(C)on2)cc1', 'COc1ccc(OCCCC(=O)Nc2ccc(OC)c(OCc3cccnc3)c2)cc1', 'CCc1cccc(C)c1NC(=O)[C@H](C)OC(=O)c1ccc2c(c1)C(=O)N(C(C)C)C2=O', 'CCOC(=O)C1=C(C)N(c2ccccc2)C(=O)C[C@H]1C(=O)Nc1ccccc1OCC', 'CC[C@H](C)c1ccc(C(=O)COC(=O)CN2C(=O)N[C@](C)(c3ccccc3)C2=O)cc1', 'CCN(Cn1nc(-c2ccc(C(C)(C)C)cc2)n(C)c1=S)[C@H]1CCS(=O)(=O)C1', 'COc1cncc(-c2cc3c(N4CC5CCC(C4)N5C(=O)[C@@H]4C[C@H]4F)ccnn3c2)n1', 'O=C1NN2CCOC[C@H]2Cc2ccc(F)cc2[C@H]2CCCN2c2ccn3ncc1c3n2', 'CC(C)(C)C1CCC2(CC1)N=C(c1ccccc1)C(=S)N2C(=O)c1ccc(F)cc1', 'CC1(C)C2CC[C@]1(CS(=O)(=O)NCCNCC1COc3ccccc3O1)C(=O)C2', 'Cl.O=C(c1cn(Cc2ccccc2)nc1-c1ccccc1)N1C2CCNCC1CC2', 'CN(C)CCCN1C(=O)C(=O)/C(=C(/O)c2ccc3c(c2)OCCO3)C1c1ccccc1', '[2H]c1ccc(C(F)(F)F)nc1-c1nc(Nc2ccnc(C)c2)nc(NC([2H])([2H])C(C)(C)O)n1', 'CC(=O)NCc1ccc(C(=O)COC(=O)[C@@H]2CC(=O)N([C@H](C)c3ccccc3)C2)cc1', 'NCC(N)C(=O)O.O=Cc1cc(OCc2ccccc2)cc(OCc2ccccc2)c1', 'Cc1ccc2[nH]c(=O)c(CN(CCO)Cc3nnnn3Cc3ccc(F)cc3)cc2c1', 'CCCCn1c(=O)c(CCC(=O)OC[C@@H]2COc3ccccc3O2)nc2ccccc21', 'COC1=CC=CC(=O)/C1=C1/C=C(C(=O)NCC2CCCCC2)N=[N+]1c1ccc(F)cc1', 'CC(N)C(=O)NC(C)C(=O)NC(Cc1ccccc1)C(=O)NC(CC(=O)O)C(=O)O', 'Cc1nc(CCOc2ccc([C@@H]3CC=CC[C@@H](C)N3C(=O)C(F)(F)F)cc2)c(C)o1', 'CCC(=NN=C1CCc2c(F)cccc21)OCc1c(C)cccc1-n1nnn(C)c1=O', 'CC(OC(=O)CCC1CCCC1)C(=O)Nc1ccc(S(=O)(=O)N2CCCC2)cc1', 'Cc1cccc(C)c1-c1cnc2c3cccc4sc5c(CC(C)(C)C)ccc(c5c43)n12', 'CCOc1ccc(C(=O)N2CCN(Cc3cccc(C(F)(F)F)c3)CC2)cc1OC', 'CCN/C(=N\\\\CC(C)(C)c1cccs1)NCCS(=O)(=O)NCc1ccccc1', 'CCCCCN(Cc1nc(C(=O)OC)co1)S(=O)(=O)c1ccc(C(C)(C)C)cc1', 'CCN(CC)S(=O)(=O)c1ccc(N2C[C@H](C(=O)OC3CCCCC3)CC2=O)cc1', 'COCCN1C(=O)c2ccccc2N2C(=O)CC[C@@]12C(=O)OCc1cc(C)cc(C)c1', 'Cc1cc(NC(=O)CN2CCN(C(=O)c3ccccn3)CC2)n(-c2ccccc2F)n1', 'COc1ccc(C2/C(=C(\\\\[O-])c3ccccc3)C(=O)C(=O)N2CC[NH+]2CCOCC2)cc1', 'O=C(COC(=O)CC1CCCC1)Nc1ccc(S(=O)(=O)N2CCCCCC2)cc1', 'COc1ccc(OCCn2ccc(=O)c(OCC(=O)Nc3ccc(C)cc3)c2C)cc1', 'COc1cccc(OC)c1C(=O)Nc1c(NC2CCCCC2)c2ccccc2oc1=O', 'CN(c1nc(Nc2cnc3ccccc3c2)c(C(N)=O)cc1F)C(CC1CC1)C(N)=O', 'Cc1ccc(COc2ccc(/C=N/Nc3nnc4c(n3)[nH]c3ccc(C)cc34)cc2)cc1', 'CC1=C(C(=O)Nc2c(F)cccc2F)C(c2ccccc2)C2=C(CC(C)(C)CC2=O)N1', 'C/C(=C\\\\CNC(=O)OCC1c2ccccc2-c2ccccc21)C(=O)NC(C)CC(=O)O', 'Cn1ccc2cc(C(=O)NC3COc4nc(N5CC6CC(C5)N6)c(F)cc4C3)cnc21', 'O=C(c1ccc(-n2cncn2)c([N+](=O)[O-])c1)N1CCCC1c1nnc2n1CCCCC2', 'CCn1c(C)c(C(=O)CN(Cc2ccco2)C(=O)c2ccccc2)c(C)c1C(=O)OC', 'CCOC(=O)[C@H]1CCCN(C(=O)[C@@H](CCSC)NC(=O)c2ccccc2OC)C1', 'CCOC(=O)[C@@H](C)Oc1cccc2c(=O)n(CC(=O)Nc3cc(C)ccc3C)ccc12', 'COC(=O)C1CCN(C(=O)C2CCN(S(=O)(=O)Cc3cccc(C)c3)CC2)CC1', 'CC(=O)NC(C)COc1cnc(-c2ccc(Oc3cccc(OCC4CC4)c3)cc2)o1', 'CC[C@@H](C)[C@@H](NC(=O)[C@H](Cc1ccccc1)N1C(=O)c2ccccc2C1=O)C(=O)OC', 'Cc1ccc(-n2nc(C(=O)NCc3ccc4c(c3)CNC4)c3c2CCC3)c(C)c1.Cl', 'C[C@]12C=C/C(=N/O)C=C1CC[C@H]1[C@@H]3C[C@@H](O)[C@](O)(/C(CO)=N\\\\O)[C@@]3(C)CC(=O)[C@@]12F', 'CCC(C)C(N)C(=O)NC(CS)C(=O)NC(CO)C(=O)NC(C(=O)O)C(C)O', 'Cc1cc(OCC(=O)O)c2c(C(=O)C(N)=O)c(CC(C)C)n(Cc3ccccc3)c2c1', 'Cc1ccn(CCC(=O)N2CCC(c3ccc(Cc4cccc(Cl)c4)cn3)CC2)n1', 'COc1cc(/C=C(\\\\C#N)C(=O)NC(C)C)ccc1OC(=O)COc1ccc(C)c(C)c1', 'CC1=C(C(=O)Nc2ccccc2)C(c2ccccn2)n2nc(-c3ccc(C)cc3)nc2N1', 'C=CCN(CC=C)C(=O)COC(=O)CCc1ccc(S(=O)(=O)N(CC)CC)cc1', 'Cc1nn(-c2ccccc2)c(Cl)c1C(=O)Nc1ccc(CN2CCCC(C)C2)cc1', 'CC(C)(C)C1CCc2nc3ccccc3c(C(=O)OCC(=O)NCC(F)(F)F)c2C1', 'C[C@@H](NC(=O)OCC1c2ccccc2-c2ccccc21)C(=O)NC(C)(C(=O)O)C1CC1', 'CCOC(=O)C1=C(C)N(c2ccc(C)cc2)C(=O)C[C@H]1C(=O)Nc1ccccc1OC', 'COCCNS(=O)(=O)c1c(C)c(C)cc2c(C)c(C(=O)N3CCCCCC3)oc12', 'CCN1CCC[C@H]1CNC(=O)COc1cc(O)c2c(=O)cc(-c3ccccc3)oc2c1', 'Cc1cc(O)c(CN2CCN(Cc3ccc4c(c3)OCO4)CC2)c2oc(=O)cc(C)c12', 'COC(=O)[C@@H]1C(=O)C2=C(C[C@H]1C)Nc1ccccc1N[C@@H]2c1ccc(OC)c(OC)c1', 'CCC(=O)NC12C(=O)c3c(N)cccc3C1(OC(=O)CC)Oc1cc(C(C)C)ccc12', 'C=C/N=C/c1cc(-c2csnc2-c2cc(S)c(CC)c(CC)c2)ccc1C.CC', 'Cc1cc(C)n(-c2ccc(CCC(=O)N3CCN(c4cccc(Cl)c4)CC3)cc2)n1', 'COc1ccc(-c2oc3cc(C)oc(=O)c3c2CC(=O)NC2CN3CCC2CC3)cc1', 'Cc1ccc(S(=O)(=O)N[C@H]2C=C[C@@H](CC(=O)NC3CCCCC3)O[C@H]2CO)cc1', 'Cc1ccc(Cn2nc(C(=O)NN3CCCCC3)cc2-c2ccc(Cl)c(C)c2)cc1', 'O=C(CN1CCC(COCc2ccccc2)CC1)Nc1ccc(OC(F)(F)F)cc1', 'O=C1CCCC(O)=C1/C(CCc1noc2c1C(=O)CC(c1ccccc1)C2)=N/CCO', 'OCC[C@@H]1CN(Cc2cnc(-c3ccc(Cl)cc3)nc2)CCN1Cc1ccccc1', 'COc1ccc(C2=NN(C(=O)C[NH+](C)Cc3ccccc3F)[C@H](c3ccco3)C2)cc1', 'OCc1cc(C2CCOCC2)ccc1N1CCC(Oc2ccc(C(F)(F)F)cn2)C1', 'COc1ccc(OC2CNNC2c2ccc(OCc3cccc(OC)c3)cc2O)cc1', 'CCCOc1ccc(/C=C/C(=O)NC2CS(=O)(=O)CC2N2CCCC2)cc1OC', 'CCNC(=O)COC(=O)c1cccc(S(=O)(=O)N2C[C@@]3(C)C[C@H]2CC(C)(C)C3)c1', 'CC(C)CC(=O)NC(C(=O)NCc1cccc(OCC(F)(F)F)c1)c1ccccc1', 'Cc1ccc(NC(=O)CN(C)C(=O)COc2ccc3c(C(C)C)cc(=O)oc3c2)cc1', 'CC(C)[C@H](NC(=O)OCC1c2ccccc2-c2ccccc21)C(=O)NC1(C(=O)O)CC1', 'C=O.CO.Cc1ccc(Oc2cccc(C)c2C)c(S(=O)(=O)N2CCNCC2)c1', 'CC(C)Oc1cccc(/C(O)=C2/C(=O)C(=O)N(CC3CCCO3)C2c2cccnc2)c1', 'Cc1c(C(C)NC(=O)c2cnn3c(-c4ccccc4)ccnc23)cnn1-c1ccccc1', 'C[C@H](NC(=O)CC(NC(=O)OCC1c2ccccc2-c2ccccc21)C1CC1)C(=O)O', 'CCCN1CCC(c2ccc(NS(=O)(=O)c3ccc(C(C)C(F)F)cc3)cc2)C1', 'CC(C)OCC1(OC(=O)C(F)(F)F)NC(c2ccccc2)C(C)(c2ccccc2)N1', 'CCn1cc(OC(=O)NC2CCc3c(C)cccc32)c2cc(OC)c(OC)cc2c1=O', 'CC(=O)Oc1ccc(C2NC(=O)N(Cc3ccccc3)C(C)=C2C(=O)OC(C)C)cc1', 'Cc1ccc2c(c1)C(=O)N(CCCC(=O)OCC(=O)NCCc1ccccc1C)C2=O', 'Cc1ccccc1OCCC(=O)OCC(=O)N1CCC(c2nc3ccccc3o2)CC1', 'N#CCC1(n2cc(C(N)=O)c(Nc3ccc(F)cc3)n2)CCN(Cc2ccco2)CC1', 'CCN(CC)S(=O)(=O)c1ccc(OC)c(NC(=O)C2CC3CCCC(C2)C3=O)c1', 'Cc1cccc(C)c1-n1ncc(C(=O)NCc2ccccc2Cl)c1C1CCNCC1', 'Cc1ccc(C(c2ccc[nH]2)c2ccc(C(c3ccc(C)cc3)c3ccc[nH]3)s2)cc1', 'CCOC(=O)C1=C(CC)N(C(C)OC(=O)c2ccccc2)C(=O)NC1c1ccccc1', 'CC1CCCN(C(=O)COC(=O)c2ccc(S(=O)(=O)N3CCCCCC3)cc2)C1', 'C[C@H](c1ccccc1)N(C)CC(=O)N1CCCc2ccccc21.O=C(O)C(F)(F)F', 'COc1ccc(CCN2C(=O)C(c3ccccc3)=C(N3CCOCC3)C2=O)cc1OC', 'Cc1cccc(C(C)C)c1NC(=O)COC(=O)CCN1C(=O)Cc2ccccc2C1=O', 'COC(=O)c1sc2ccccc2c1OCN[C@H](CNC(=O)OC(C)(C)C)C(C)C', 'CC(C)OC(=O)Cc1ccc(N2C(=O)C(O)=C(C(=O)C(C)C)C2c2cccnc2)cc1', 'COc1ccc(C(O)=C2C(=O)C(=O)N(CCN3CCOCC3)C2c2ccccc2)cc1', 'COc1ccc(C2=NN(C(=O)C3=COC=C(C4=CC=CCC4)O3)CC2(C)C)cc1OC', 'Cc1cc(C)c(C(=O)C(c2ccccc2)P(c2ccccc2)c2ccccc2)c(C)c1', 'Cc1cc(C(C)(C)c2ccc(OCC(O)CCl)c(C)c2)ccc1OCC(O)CO', 'COC(=O)c1cn(CC(=O)N2CCC[C@H]2c2ccc(OC)c(OC)c2)c2ccccc12', 'CC(=O)c1c(C)[nH]c(C(=O)NCCCc2nn(-c3ccc(F)cc3)c(N)c2C#N)c1C', 'O=C(COC(=O)[C@@H]1CC(=O)N(C2CCCC2)C1)Nc1ccc(Oc2ccccc2)cc1', 'Cc1cc2ccc1CCc1ccc(c(P(=O)(c3ccccc3)c3ccccc3)c1)CC2', 'CC(C)c1nc(-c2ccc(F)c(CC(C)(C)c3nc(-c4ccccc4F)co3)c2)co1', 'COCCN(CCOC)C(=O)COC(=O)c1cc(-c2ccccc2)nc2ccccc12', 'CCCCOCc1cccc(-c2nn(-c3ccccc3)c(C(=O)OC)c2C(=O)OC)c1', 'COc1c(Nc2cc(NC(=O)C3CC3)ncc2C(N)=NO)cccc1-c1ncn(C)n1', 'Cl.O=C(c1ccn(C2CCCNC2)n1)N1Cc2ccccc2C(c2ccccc2)C1', 'COc1ccc(S(=O)(=O)N2CCOCC2)cc1CCC(=O)N[C@@H]1C[C@H]2CC[C@@H]1C2', 'COc1ccc(C(=O)NC2(N3C(=O)C[C@@H]3c3ccc4c(c3)OCO4)CCCCC2)cc1', 'CCc1cc(C(c2ccc(F)cc2)N2CCCCC2)c(NC(=O)c2ccccc2)s1', 'C[C@H]1CCCC[C@@H]1NC(=O)NC(=O)COC(=O)c1ccccc1C(=O)c1ccccc1', 'C=C(C)[C@H]1Cc2c(ccc(/C(=N\\\\N)C34CC(C3)Oc3cc(OC)c(OC)cc34)c2O)O1', 'O=c1cc(/C=C/c2ccc(F)cc2)ccn1-c1ccc(OCCN2CC[C@@H](F)C2)cc1', 'O=C(NCc1ccc(F)cc1)C(=O)NC[C@@H](c1ccco1)[NH+]1CCc2ccccc2C1', 'Cc1cccc(NC(=O)[C@H](C)OC(=O)c2ccc3c(c2)C(=O)N(CCC(C)C)C3=O)c1', 'CC1(C)c2ccc(C3CCN(CCN)CC3)cc2-n2c1nc(=O)c1c(Cl)cccc12', 'C[C@@H](OC(=O)[C@H]1Cc2ccccc2C(=O)O1)C(=O)Nc1ccc(N2CCCCC2)cc1', 'C=CCNC(=S)N1CCc2cc(OC)c(OC)cc2C1CNC(=S)NC(C)C', 'CC(C)C(NC(=O)CCN1C(=O)c2ccccc2C1=O)c1ccc2c(c1)OCCCO2', 'COC(=O)c1ccc(Cn2ccc3cc(NC(=O)OC4CCCC4)ccc32)c(OC)c1', 'Cc1ccc(Cn2nc(C)c(C(=O)NC3CCN(Cc4ccccc4)C3)c2Cl)cc1', 'CCC(C)C(N)C(=O)NC(C(=O)NC(CS)C(=O)NC(CO)C(=O)O)C(C)O', 'CCCCOC1=NC2=CC=CC=C2C(=C1)C(=O)NCCN(CC)CC', 'CN(C)C(=O)C1CCCN1CC(=O)NCC1(c2ccccc2)CCC1', 'C[C@@H](c1nc(C(C)(C)C)no1)N1CCC(OCc2ccccc2)CC1', 'CNC(=O)[C@@H](c1ccccc1)N1CCC[C@H]1C(=O)NC1CCCCC1', 'C=CCN1CCC[C@H]1C(=O)Nc1cc(C(=O)NCC(C)C)ccc1C', 'O=C(NC[C@@H]1CN2CCC[C@H]2CO1)N1CC[C@@H](Cc2ccccc2)C1', 'Cc1n[nH]c(C)c1[C@@H](C)N(C)C(=O)c1ccc(CCC(C)(C)O)cc1', 'CCOC1CC(NC(=O)N2CC(C)(C)C2c2cccnc2)C12CCC2', 'CCc1ccc(-c2noc(CN(CC)C3CCOC(C)(C)C3)n2)cc1', 'COc1c(C)cnc(CNC(=O)NC23CC4CC(CC(C4)C2)C3)c1C', 'CC(c1cccc(C#N)c1)N1CCN(CCOC2CCCCO2)CC1', 'Cc1cccc(C(C)C)c1N1CC(C(=O)N2CCN(C)CC2)CC1=O', 'O=C(NC1CCCCC1)NC1CCN(CC(=O)c2ccccc2)CC1', 'CCN1CC2(CCC1=O)CCN(C(=O)C(NC)c1ccccc1)CC2', 'CCOC(=O)c1cnc2c(c1)CCN(C1CC3(CCN(C)CC3)C1)C2', 'Cc1cccc(N2CCN(C(=O)C(=O)N3C(C)CCCC3C)CC2)c1', 'CC(CC(=O)N1CCN(C(=O)c2ccccc2)CC1)C1CCNCC1', 'CCCCN1CCCCC1CNC(=O)C(C)Oc1cccc(C#N)c1', 'CCC[C@H](N)C(=O)NC[C@@H]1CC[C@@H](CCB(O)O)C[C@]1(N)C(=O)O', 'CCc1cccc(CC)c1NC(=O)CNCC(c1ccco1)N(C)C', 'CCCN(CCC)c1ccc(/C=C(\\\\C#N)C(=O)NCC(C)CO)cc1', 'CCN(CC)C(=O)CN1CCN(C(=O)/C=C/c2ccc(C)cc2)CC1', 'CC(CNC(=O)C1CCCN1C(=O)Cc1ccccc1)N(C)C1CC1', 'C[C@H]1NCC[C@@H](C2CCNCC2)[C@@H]1COc1ccc2c(c1)C(=O)NC2', 'CCC(CO)NC(O)C1CC2c3cccc4[nH]cc(c34)CC2N(C)C1', 'C=CCOc1ccc(OCC=C)c2nn(CCCCCCCC)nc12', 'Cn1nccc1Nc1cc(C(C)(C)C)c(CC(=O)O)c(C(C)(C)C)c1', 'CC(C)(C(=O)NC1CCCC1)C(=O)N1CCN(c2ccccc2)CC1', 'CN1CC2(CCNCC2)CC1C(=O)N(Cc1cccc(O)c1)C1CC1', 'CN(C)C(=O)CN1CCN(C(=O)Cc2ccc3c(c2)CCCC3)CC1', 'CCCC(NC(=O)Cc1ccccc1)C(=O)N1CCC2CCC(C1)N2', 'O=C(C1CCN(C2CCOCC2)CC1)N1CCC[C@H]1c1ccccn1', 'CC(C)CC(=O)N1CCN(C(=O)c2ccc(N3CCCC3)cc2)CC1', 'CCC1CCCCN1C(=O)CC(=O)N1CCN(c2ccccc2)CC1', 'CC(C)CN1C(=O)CC[C@H]2CN(C(=O)CCc3cccnc3)CC[C@H]21', 'CC/C=C(\\\\C)C(=O)N1CCN(CC(=O)Nc2c(C)cccc2C)CC1', 'Cn1c(=O)n(CC(C)(C)C)c2ccc(C34CC3(C)C4C(C)(C)O)nc21', 'NC(=O)[C@H]1CCCN(Cc2cccc(CNC(=O)C3CCCC3)c2)C1', 'CCCCCCCCCCNC(=O)c1coc(-c2ccccc2N)n1', 'O=C(Cc1cccnc1)N1CCC2(CC1)CCN(C1CCOC1)CC2', 'CCCN1CCC(NC(=O)N[C@@H](C)c2oc3ccccc3c2C)CC1', 'Cc1nc2n(n1)CC(N/C(=N/Cc1nnc(C)n1C)NC1CC1)CC2', 'O=C(CC1CCCC1)NCC(=O)NC1CCN(Cc2ccccc2)C1', 'Cc1cc2nc(CC3CCN(C(=O)OC(C)(C)C)CC3)[nH]c2cc1C', 'Cc1ccc(CN2CC[C@H]3O[C@H](C(=O)N4CCN(C)CC4)C[C@H]32)cc1', 'CCC(CC)N1CCN(c2ccc3cc(OC)c(OC)cc3n2)CC1', 'CCN(CC)C(=O)C1CC(C)CC2=C1Cc1ccccc1N2CC[18F]', 'CCc1ccc(CN(CCCN2C(=O)NC(C)(C)C2=O)C2CC2)cc1', 'Cn1ncc2c1C(C)(C)CCN(C1C3CC4CC1CC(O)(C4)C3)C2=O', 'Cc1ccccc1CNCC1(NC(=O)C2CCNC(=O)C2)CCCC1', 'CCSC1CCC(N/C(=N/C)NCCCOC2CCOCC2)C1', 'CC(=O)N1CCC[C@H]1C(=O)NC[C@@H]1CCCN(Cc2ccccc2)C1', 'O=C(CCC(=O)c1ccc2c(c1)CCNCC2)NCCN1CCCC1', 'Cc1ccc(C(C)(C)C(=O)N2CCCC(N3CCNCC3=O)C2)cc1', 'Cc1ccc(CC(=O)N2CCN(C(=O)NC3CCCC3)CC2)c(C)c1', 'CC(NC(=O)C1CCC(NC(=O)C2CCCC2)CC1)c1cccnc1', 'O=C(CCC1CCCC1)NCc1cccc(NC(=O)N2CCCC2)c1', 'CCOc1ccccc1NC(=O)N1CC2CCC(C1)N(CC1CC1)C2', 'CCc1nn(C)c(C(=O)Nc2cccc(OCC(CC)CC)c2)c1C', 'CC(=O)Nc1ccc(CN[C@H]2CC(=O)N(C3CCCCCC3)C2)cc1', 'CCN(Cc1ccccc1NC(=O)CC1C[C@H]2CC[C@@H](C1)N2)C(C)=O', 'C[C@H]1CCCC[C@@H]1NC(=O)C1CCN(C(=O)Nc2ccccc2)CC1', 'CC[C@@H](C)C(=O)N1Cc2ccccc2C[C@H]1C(=O)N1CCN(C)CC1', 'Cc1cccc2c(=O)n(CC(=O)NCCCCCCC(C)C)cnc12', 'CNC(=O)c1cccc(N[C@H](C)C(=O)N[C@@H](C)[C@@H]2C[C@H]3CC[C@H]2C3)c1', 'CCOC(=O)CN(CC(=O)OCC)CC1CC(C)(C)N([O])C1(C)C', 'Cc1cc([N+](=O)[O-])ccc1/N=C1/C2CCCC(CCC2)N1CC(C)C', 'CCCN(C(=O)C1CCCN(C(=O)c2ccccc2)C1)C1CCNC1', 'C=C(C)[C@H]1OCC[C@H]1C(=O)NC1CCN(Cc2ccccn2)CC1C', 'O=C(NCCc1ccccn1)[C@H]1CO[C@H]2CCN(C3CCC3)C[C@H]2C1', 'N#C[C@@H]1CCCN(Cc2ccc(OCCCN3CCOCC3)cc2)C1', 'CC[C@H](NC(=O)N1CCCN(C(=O)C2(C)CC2)CC1)c1ccccc1', 'CCCC(=O)N(CCC(C)C)C(C)c1nc2ccccc2c(=O)n1C', 'COc1cccc(CC2(CO)CCN(Cc3cn(C)nc3C)CC2)c1', 'CCCc1nc2cc(/C=C/C(=O)CO)ccc2n1CCN(CC)CC', 'Nc1ccccc1C(=O)N1CCN(C(=O)CCC2CCCCC2)CC1', 'Cc1c(NCC(=O)N[C@H]2CCCC[C@H]2C)cccc1N1CCCC1=O', 'Cc1cc(C(=O)NC2CC3CCC(C2)N3)ccc1NC(=O)CC(C)C', 'Cc1cccc(C)c1NC(=O)CN1CCN(C(=O)C2CCCC2)CC1', 'CCOC(=O)C1CCC(N/C(=N/C)NC2CC2c2ccccc2)CC1', 'CC(CC(=O)Nc1cccc(N2CCCCC2=O)c1)C1CCCNC1', 'O=C1O[C@@H](CCN2CCN(c3cccnc3)CC2)CC12CCCCC2', 'O=C(COc1ccccc1CN1CCC2(CCNC2)C1)NCC1CC1', 'Cc1cnn(C[C@@H]2CCCCN2C[C@H](O)COCc2ccccc2)c1', 'Cc1ccc(CNC(=O)C2CCN(C(=O)C(C)C3CNC3)CC2)cc1', 'CC(NCC1(O)CCCCC1)c1ccc(OCc2nccn2C)cc1', 'C/C(=C\\\\c1ccc(N[C@]2(CC3CCCCC3)CCNC2)nc1)C(=O)O', 'C/C(N)=N\\\\CC/C(F)=C/C[C@H]1COC(C)(C)N1C(=O)OC(C)(C)C', 'C[C@@H](NC(=O)N1CCC(OCc2ccccn2)CC1)C1=CCCCC1', 'C/C(=N/NC(=O)CC(C)C)c1ccc(NC(=O)C2CCCCC2)cc1', 'O=C(NC1CCN(C(=O)CCC2CCNCC2)CC1)c1ccccc1', 'O=C(NC1CCN(CC2CCCO2)CC1)c1cccc2c1NCCC2', 'COc1cccc(CNCCNCCNCc2cccc(OC)c2)c1', 'CN(C(=O)C1(C(N)=O)CC1)C1CCCN(CCCc2ccccc2)C1', 'C[C@H](c1ccccc1)N(CC(N)=O)C(=O)C1CC2CCCC(C1)C2N', 'Cc1cccc(CN2CC[C@@]3(CCC[C@@H]3C(=O)N3CCOCC3)C2)n1', 'CC(NC(=O)C1CCCCC1(C)N)c1ccc(NC(=O)C2CC2)cc1', 'O=C(Cc1cccnc1)N1CCCC2(CCN(CC3CCOC3)C2)C1', 'CN1C(=O)C2(CC(C)(C)Oc3ccc(CCC(C)(C)C)cc32)N=C1N', 'CCN1C(=O)[C@H](c2ccccc2)CC12CCN(C(=O)NC(C)C)CC2', 'Cc1ccccc1C(C)CC(=O)N1CCCC(N2CCNCC2=O)C1', 'Cc1cccc(N2CCN(C(=O)CN3CCCCCC3=O)CC2)c1C', 'CC(C)CCC[C@H](C)NC(=O)CCCn1cnc2ccccc2c1=O', 'O=C(c1ccc(C[C@@H]2CC[C@H](CN3CCCC3)O2)nc1)N1CCCC1', 'Cc1ccc2c(c1)[C@H](NC(=O)N1CC[C@@H]3OCCN(C)[C@H]3C1)[C@@H](C)C2', 'CCN/C(=N\\\\CCCOCC1CCOC1)NC1CCC(SC)C1', 'CC(=O)N1CCc2cc(C(=O)NCCCN3CCCCC3C)ccc21', 'NC(=O)CC1CCN(C(=O)N[C@H]2CCC[C@H]2Cc2ccccc2)CC1', 'C=CC[C@H](NC(=O)[C@H]1CCCN(C(=O)C(C)(C)C)C1)c1ccncc1', 'C[C@@H](C(=O)N1CCN(c2ccccc2)C(=O)C1)N(C)C1CCCCC1', 'CC[C@H](C)[C@H](N)C(=O)N[C@H]1CN[C@@](CCCCB(O)O)(C(=O)O)C1', 'Cc1cc(CCNCCC(C)C)ccc1OC1C=CC(C(N)=O)=CN1', 'CCC(C)NC(=O)c1cccc(CNC(=O)N2CC3C(C2)C3(C)C)c1', 'CC(C)CCC(NCc1cccnc1N1CCOCC1)c1ccoc1', 'Cc1ccccc1CC(=O)N1CCN(C(=O)NC2CCCCC2)CC1', 'Cc1cc(C)c2c(C3CCN(C(=O)OC(C)(C)C)CC3)nn(C)c2c1', 'CCCN(C(=O)c1ccc(NC(=O)C2CC2C)cc1)C1CCNCC1', 'CNC(=O)N1CCC[C@@H](c2cccc(C(=O)N3CCC(C)CC3)c2)C1', 'C1CCNC1.CC.COc1cc(C(=O)NC2CC2)nc2ccccc12', 'CCCc1ccc(-c2cc(NCC3CCOCC3)n(CCO)n2)cc1', 'CC(C)CCC1(C2CCN(Cc3ccccc3)CC2)NC(=O)NC1=O', 'Cc1ccc(NC(=O)N2CCCCC2CCN2CCCC2=O)c(C)c1', 'CCC=C(C)C(=O)NCc1ccc(C(=O)NCCN2CCCC2)cc1', 'CN1CCN(C(=O)C2CCN(C(=O)CCc3ccccc3)CC2)CC1', 'CCC(C)(C)NC(=O)c1ccc(NC(=O)C2C3CCC(C3)C2N)cc1', 'CC(C)C(=O)N1C[C@@H]2C[C@@H](O)CN2C2(CN(Cc3ccccc3)C2)C1', 'CCc1ccnc(C(=O)NC2CCN(C(=O)CC(C)(C)C3CC3)C2)c1', 'COCCN1CCC(CN(C)c2cc(C)c3ccc(OC)cc3n2)C1', 'O=C(NC[C@@H]1CCCN1CCc1ccccc1)N[C@@H]1C[C@H]2CC[C@H]1O2', 'CCCN(C(=O)CN(C)Cc1ccc(C(=O)NC)cc1)C1=CCCC1', 'O=C(CCC1CCNCC1)NCc1ccc(CN2CCCC2=O)cc1', 'COCC1=CCN(C(=O)NC2CC(C)N(Cc3ccccc3)C2)CC1', 'CCCCCCCCCCC(=O)NC1=NN(c2ccccc2)C(=O)C1', 'CCNC(=O)c1cccc(CNC(=O)C2CC3CCCC(C2)C3N)c1', 'Cc1cccc(N2CCC(N3CCCC4(CNC(=O)O4)C3)CC2)c1C', 'CNC(=O)[C@@H]1CCCC[C@@H]1N[C@@H](C)c1ccc(N2CCCC2=O)cc1', 'CCCc1ccccc1C(=O)N1CCC(N2CCCC2C(N)=O)CC1', 'C=CCCC(CN1CCCC1)Oc1ccc(C(=O)N2CCCC2)cn1', 'CCCCOC(=O)NC(c1ccc(C(C)(C)C)cc1)c1nccn1C', 'CN1CCC(Oc2ccc(NC(=O)C3CC34CCNCC4)cc2)CC1', 'CCC(=O)c1cccc(NC(=O)N2CC[C@@H](CN3CCCCC3)C2)c1', 'CC.CC1CCNC1.[H]/N=C/c1c(N)cc(-c2ccc(O)cc2)cc1O', 'CCC(C(=O)NC(C)C(c1ccccc1)N(C)C)c1c(C)noc1C', 'Cc1cccc(N2CCC3(CC2)CCN(C2CCC(O)CC2)C3=O)n1', 'O=C(c1cccc(OC2CCCC2)c1)N1CCC(N2CCNCC2)C1', 'O=C(NC1CCCCC1)NC(C(=O)N1CCCCC1)c1ccccc1', 'CN(Cc1cccnc1)C1CCC[C@@H]2CN(C(=O)C3CCOC3)C[C@H]12', 'CCCCCc1ccc(O)c(NC=O)c1.NCCc1ccc(N)cc1', 'CCNC(=O)N1CCC2(CCCN(CCCc3ccccc3)C2=O)C1', 'Cc1cc(C)nc(-n2nc(C)cc2NC(=O)C[NH+]2CCC[C@@H](C)C2)n1', 'CN(CC(=O)NCc1ccccc1)C(=O)C1CC2CCCC(C1)C2N', 'CCCCNCC(=O)c1c(CCC)[nH]n(-c2ccccc2CC)c1=O', 'COCCn1nc(C)c(CNCc2ccc3c(c2)CC(C)(C)O3)c1C', 'Cc1cc(/C=C(/C#N)C(=O)NCC2CCCC2O)c(C)n1CC(C)C', 'CC(C)CC(=O)N1CC2(CN(C)CC2CNC(=O)c2ccccc2)C1', 'CC(NC(=O)NCCC(=O)N1CCCC1)c1ccc2c(c1)CCCC2', 'Cc1ccc(C(=O)N2CCN(C(=O)CCN3CCCC3)CC2)cc1C', 'CC1(C)[C@H](NC(=O)NC[C@@H]2CCN(c3ccccc3)C2)[C@@H]2CCO[C@@H]21', 'CCn1cc(C(=O)NC[C@@](C)(CC)N2CCOCC2)c2ccccc21', 'Cc1[nH]c2c(C(=O)NCC(O)CN3CCC(C)CC3)cccc2c1C', 'CN1CCC(NC(=O)[C@]2(C)CCCN(C(=O)c3ccccc3)C2)CC1', 'CN1CCCC[C@@H]1C(=O)N1C[C@@H]2OCCN(Cc3ccccc3)[C@@H]2C1', 'CC(C)(C)c1cnc(CN2CCN(C[C@H](O)c3ccccc3)CC2)o1', 'CC(C)CCc1noc(CN2CCCC2CC(O)c2ccccc2)n1', 'C#Cc1cccc(NC(=O)CN(C)CC(O)CN2CCC(C)CC2)c1', 'CCN(CC)C(CNC(=O)CN(C)Cc1ccccc1)c1ccco1', 'CCN1CCC(CNC(=O)c2cccc(NC(=O)C3CC3C)c2)CC1', 'O=C(NC1CCCCCC1)c1ccnc(C(=O)NC2CCCCC2)c1', '[C-]#[N+]C1(c2ccc(N(CC(C)C)CC(C)(C)C)c([N+](=O)[O-])c2)CCC1', 'CCOC(C)c1noc(CN(C2CCCC2)C(C)c2ccccc2)n1', 'O=C(CN1CCc2conc2CC1)NCC12CC3CC(CC(C3)C1)C2', 'COc1ccccc1N1CCC(NC(=O)NCC2(C3CC3)CC2)CC1', 'O=C(NCc1cccc(NC(=O)C2CCCCC2)c1)C1CCNCC1', 'CC(CC(=O)NC1CCCN(c2ccccc2)C1=O)C1CCNCC1', 'CC(=O)N(Cc1cccc(NC(=O)C2CCC2)c1)C1CCCCC1N', 'CCC(C)N/C(=N\\\\CCc1ccco1)NCCc1ccccc1OC', 'C=CC(=O)NCc1ccc(C(=O)NC2CCC(C)(N(C)C)CC2)cc1', 'C[C@@H]1CN(C(C)(C)CNC(=O)Cc2c[nH]c3ccccc23)C[C@@H](C)O1', 'COc1ccc(N2CCC(N3C[C@H]4CC[C@@H](C3)N(C)C4=O)CC2)cc1', 'Cc1ccc2[nH]c(CCNC3CCOC4(CCOCC4)C3)nc2c1C', 'COCc1ccc(CN2CCC[C@H](N(C)CCc3ccccn3)C2)o1', 'Cc1c(C(=O)N2CCC[C@](O)(CN(C)C)C2)n(C)c2c(C)cccc12', 'Cc1ccc(OCCN(C)[C@@H](C)C(=O)NC2(C#N)CCCCC2)cc1', 'CN1CC(CC(=O)O)(N2CCC(N[C@@H]3C[C@H]3c3ccccc3)CC2)C1', 'C=CCN1[C@@H]2CCC[C@H]1CC(NC(=O)Nc1ccccc1OCC)C2', 'COc1ccc(C(=O)Nc2c(C(C)(C)C)nn(C)c2C(C)(C)C)cc1', 'Cc1ccc(N)cc1NC(=O)C1CCC(NC(=O)C2CCCC2)CC1', 'O=C(CN1CCCC[C@@H]1CCN1CCCC1=O)NCc1ccccc1', 'CCCCN(C)C(=O)C(=O)N1CCN(C/C=C/c2ccccc2)CC1', 'CCCc1ccc([C@H](NCc2cc(=O)n(C)c(=O)n2C)C(C)C)cc1', 'Cc1noc(C)c1C[C@@H](C)NC(=O)N[C@@H](CC(C)C)c1ccccc1', 'Cc1ccc(N2CC3C(C(=O)N(C)C3(C)O)C23CCN(C)CC3)cc1', 'O=C(NCc1cccc(N2CC=CC2)c1)NC1CCCCCC1CO', 'CCc1ccc(OC[C@@H](O)C[NH+]2CCN(c3cccc[nH+]3)CC2)cc1', 'CC(C)N(CCOc1cccc2ccccc12)C(=O)NCCN(C)C', 'CCCCN(CC(N)=O)CC(=O)/C=C1\\\\N(C)c2ccccc2C1(C)C', 'CC(C)N(C)C(=O)c1cc2cc(OCCC3CCCN3C)ccc2[nH]1', 'Cc1cc(C(=O)N2CCC(NC(=O)C3CCC3)CC2)c(C)n1C1CC1', 'CCCOc1ccc(CCCN2CCOCC2)cc1Cn1ccnc1', 'O=C(NCCc1ccncc1)[C@H]1C[C@@H]2CCN(CC3CCC3)C[C@H]2O1', 'Cc1ccc(N)cc1C(=O)N1CCN(C(=O)CC2CCCCC2)CC1', 'CCN(Cc1ccccc1)C(=O)CNC(=O)[C@@]12CCCC[C@H]1CNC2', 'CCc1nn(C)c(CC)c1CC(=O)N[C@H](CO)Cc1ccccc1C', 'COc1nc(C(C)C)ccc1-c1nc(C)c(CC(C)CCO)nc1C', 'CN(C)c1ccc(C(=O)N2CCC[C@@H](C(=O)N3CCCCC3)C2)cc1', 'Cc1cc(C)c(N2CC(C(=O)N3CC(CN)CC3C)CC2=O)c(C)c1', 'CC(C)Cc1cc(CC2(NCc3ccc(N(C)C)cc3)COC2)no1', 'COc1ccccc1Nc1nc(N)nc(C[NH+](C)C2CCCCC2)n1', 'CCN/C(=N\\\\CC1(C)CCCS1)NCCCCCCC(=O)OC', 'CN(C(=O)c1ccccc1NC(=O)C1CCNCC1)C1CCCCC1', 'CNCCCNC(=O)C1CC2CCCCC2N1C(=O)c1ccccc1', 'CC1CN(C(=O)CCCN2C(=O)CCc3ccccc32)CC1N(C)C', 'NCC(NC(=O)c1ccc(CN2CCCC2=O)cc1)C1CCCCC1', 'Cc1cccc(CN2C(=O)CCC23CCN(C(=O)C(C)(C)C)CC3)n1', 'CS(=O)(=O)N(CCCN1CCCC1)C1CCCN(C2CCC2)C1', 'CC1(C(=O)N2CCCC(C(=O)NCCN)C2)CCCc2ccccc21', 'O=C1COc2ccccc2N1CCCCN1CCN2CCCCC2C1', 'CCCc1ccc(N2CC(C(=O)NCC3CCCNC3)CC2=O)cc1', 'Cc1cccnc1CN1CCC2(CCCC2C(=O)N2CCCCO2)C1', 'Cc1c(CN2CC3CN(C(=O)O)CC3C2)cccc1N1CCCCC1', 'CCCn1ncc(CN2CCO[C@@H](Cc3cccc(OC)c3)C2)c1C', 'CCN(C(=O)CNc1ccc(NC(=O)C2CC2)cc1)C1CCCCC1', 'O=C(NC1CCCCC1)C1CCCN(C(=O)NCc2ccccc2)C1', 'CCc1ccccc1N1CC(C(=O)N2CCCC(C(C)N)C2)CC1=O', 'CC(=O)NCC(=O)N1Cc2ccccc2C2(CCN(C(C)C)CC2)C1', 'NC(=O)CCCN1CCC[C@]2(CCC(=O)N(Cc3ccccc3)C2)C1', 'CC1CCCCN1CCNC(=O)CN1C(=O)CCCc2ccccc21', 'O=C(C1CCNCC1)N(c1ccccc1)[C@H]1COC2(CCNCC2)C1', 'O=C(NCCCN1CCOCC1)NC[C@@H]1C[C@]12CCc1ccccc12', 'O=C1CC[C@@H](C(=O)N2CCCN(CCCc3ccccc3)CC2)CN1', 'CC1(C)CN(C(=O)C2CCCN(C(=O)c3ccccc3)C2)CCC1N', 'C=CCN.CN(C)CCN.O=Cc1cccc(Oc2ccccc2)c1', 'C/C1=c2\\\\cc[nH]\\\\c2=C\\\\C=C(\\\\N2CCN(C(=O)OC(C)(C)C)CC2)CC1', 'CC(=O)N1CC[C@H](CN(C)CCC(=O)N2CCc3ccccc3C2)C1', 'Cc1ccc(C(=O)N(C)C)cc1NC(=O)C1CC2CCCC(C1)C2N', 'CCCCCCCC[P@](c1ccccc1C(F)F)N(CC)CC', 'COc1ccc(C)cc1CN(C)C(C)C(=O)NC1(C#N)CCCCC1', 'CC(CNC(=O)c1cccc(CN2CCCC2=O)c1)CN1CCCC1', 'Cc1ccc(C)c(CC(=O)N2CCN(C(=O)NC3CCCC3)CC2)c1', 'CCC1CCCCN1C(=O)NCc1cccc(CN2CCCC2=O)c1', 'CC[C@H](N)C(=O)N[C@H](/C=C/C(=O)N1CCc2ccccc21)CC(C)C', 'CN(Cc1ccco1)C1COC2(CCN(Cc3cccn3C)CC2)C1', 'C/C=C1\\\\[C@@H](C(C)CCC=O)C2=C(N=CCCC2)N1C1CCC(=O)NC1', 'O=C(NC1CCCCCC1)c1ccnc(C(=O)N2CCCCCC2)c1', 'O=C(Cc1cccnc1)N1CCC[C@@]2(CCN(C[C@H]3CCOC3)C2)C1', 'CC(=O)c1ccc(N2CCN(C(=O)CN3CCCCCC3)CC2)cc1', 'CC1CCN(c2cccc(NC(=O)N3CC[C@@]4(CCOC4)C3)c2)CC1', 'CCN/C(=N\\\\CC1(c2ccc3c(c2)OCCO3)CCCC1)NC1CC1', 'CN1CCN(C2CN(C(=O)C3(c4ccccc4)CCOCC3)C2)CC1', 'CN.[H]/N=C/c1ccc(OCCCCCOc2ccc(CN)cc2)cc1', 'CCC(CC)Oc1nc(C)nc(Nc2c(C)cc(C)cc2C)c1CO', 'CCN(CC(=O)Nc1ccc(N2CCOCC2)cc1)[C@H]1C=CCCC1', 'CCc1noc(C2CCC(NC(C)C(O)Cc3ccccc3)CC2)n1', 'CC(C)C(=O)N1CCN(C(=O)[C@]2(N(C)C)CCc3ccccc32)CC1', 'COc1cccc(CN2CCN3C(=O)N(C4CCCCC4)CC3C2)c1', 'O[NH+](O)CCCCCCCCCCCCCc1ccccc1.[Cl-]', 'CC(CC1=CC=CC=C1)NCC#C', 'C1=CNCC(Cc2ccccc2)C1', '[C-]#[N+]C(C)c1cc(C)c(C)cc1C', 'Cc1cc(C)cc(C(C)(C)C#N)c1', 'C(=C1/CCCNC1)\\\\c1ccccc1', 'CC(C)N1C2CC1c1ccccc12', 'C=C1Cc2cc(C)c(C)cc2N1C', 'C=C/C(=C\\\\CC)Nc1ccccc1', 'CC1=CC(C)(C)Cc2cccnc21', 'CC#CCNc1cc(C)cc(C)c1', 'c1ccc(C[C@@H]2NC[C@@H]3CC32)cc1', 'CCc1ccc2cc(CC)[nH]c2c1', 'FOCC1CCN1C1CCCC1', 'CCc1ccc2[nH]cc(CC)c2c1', 'Cc1ccncc1C#CC(C)(C)C', 'C1=NCCCC1Cc1ccccc1', 'c1cc(C2CC2)cc(C2CNC2)c1', 'C/C(=C/c1ccccc1)C1CNC1', 'C1=C(C2=C/C=C/CCC\\\\N=C\\\\2)CC1', 'CCC.c1ccc2cnccc2c1', 'C#CCN[C@H](C)c1ccccc1C', 'C1=c2ccncc2=CC2CC12.CC', 'C=N/C(OC)=C(/C)C(=C)F.CC', 'CNC.c1ccc2ccccc2c1', 'CC(C)c1cn(C)c2ccccc12', 'Nc1cc2c(c3c1CCC3)CCC2', 'N[C@@H]1C[C@@]12CCCc1ccccc12', 'C=C(C)/C=N/c1cc(C)ccc1C', 'C=Cc1ccc([C@H]2CCCN2)cc1', 'C#CCCC(NC)c1ccccc1', 'CC1=CC2C3CC(C#N)C(C3)C2C1', 'C/C=C/N=C(\\\\CC)c1ccccc1', 'c1ccc(CC2CN3CCC23)cc1', 'C=C/C(F)=C(\\\\C)N(CC)CCO', 'C1=CCC=c2ccncc2=C1.CC', 'CN(C)C(=O)C1CCC(F)CC1', 'CC(C)(C)C#CCc1ccncc1', 'C1=CCCC(NC2=CC=CCC2)=C1', 'C#CCNc1cc(C)c(C)c(C)c1', 'CCCC1=CCNc2ccccc21', 'C=CCCC(=C)c1ccc(C)cn1', 'CC/C=C1/CCCc2cccnc21', 'CC(C)(C)c1ccc2ccccn12', 'C=CCC(=CCC)c1ccncc1', 'CC1=C2C=CC=CC2C(C)(N)C=C1', 'Cc1ccc(NC2CC=CC2)cc1', 'N[C@@H]1C[C@H]1[C@@H]1C[C@@H]1c1ccccc1', 'C#CC(C)c1ccccc1N(C)C', 'Cc1cc2c(cc1C)CCC(N)=C2', 'C=C(C)CN1CCc2ccccc21', '[C-]#[N+]Cc1ccc(C(C)(C)C)cc1', 'C[C@@H](N)CC1=CCc2ccccc21', '[C-]#[N+]c1cccc(CC(C)(C)C)c1', 'Cc1ccc(C#CCCN)c(C)c1', 'CC1(C)C=Cc2cccnc2CC1', 'CN1c2ccccc2[C@@H]2CCC[C@@H]21', 'CC1=c2cccc(C)c2=NCC1C', 'CC(C)F.Cc1ccc(CN)o1', 'c1cc2c(cc1C1CC1)CCCN2', 'C1=CC2=C3CCCN3CCC2C=C1', 'CCCCC1=N[C@H]1c1ccccc1', 'Cc1ccc2c(c1)C1(CN2)CC1C', 'C=CC[C@H]1CCc2ccccc2N1', 'CC1(F)CCC(CC(N)=O)CC1', 'C[C@@]1(F)CCCN(C2COC2)C1', 'C=C/C=c1\\\\c(=C/C=C\\\\C)ccn1C', 'CC(C)N1C[C@](C)(F)C[C@H]1C=O', 'C=CCNc1ccc(/C=C/C)cc1', 'Cc1ccc(CC(C)CC#N)cc1', 'CCC/N=C/C=Cc1ccccc1', 'NC1(CC2C=CC=C2)C=CC=CC1', 'CCCc1cc(C)cc2[nH]ccc12', 'Cc1cccc(C2C=CCC2)c1N', 'NC1CC=CC[C@H]1c1ccccc1', 'C/C=C/c1ccc(C#N)cc1.CC', 'C#Cc1cccc(C(C)(C)CC)n1', 'C=C(C)/C=c1\\\\nc(C)cc\\\\c1=C\\\\C', 'C#CCC(NC)c1ccc(C)cc1', 'CC1(N)c2ccccc2CC12CC2', 'Cc1ccccc(C)ncc(C)c1', 'CCc1ccc(CC(C)C#N)cc1', 'C[C@@]1(c2ccccc2)C=NCCC1', 'CC(CC#N)CC1=CC=CCC=C1', 'C#CC(C)(NCC)c1ccccc1', 'Cc1ccc(C=C2CCC2)cc1N', 'CCc1ccc2c(C)c(C)cn2c1', 'Cc1ccc(C23CNC(C2)C3)cc1', 'CC(C)(C)c1cc2ccccn2c1', 'CC(C)Cc1c[nH]c2ccccc12', 'c1ccc2c(c1)C[C@H]1CCC[C@@H]1N2', 'CC(C)CNC(=O)C1(F)CCC1', 'Cc1c(C#N)cccc1C(C)(C)C', 'CCc1ccccc1N1C=CCC1', 'C=C/C=C\\\\C(CC)c1ccccn1', 'C=C1c2ccc(CC)cc2CN1C', 'CCCC#Cc1ncc(C)cc1C', 'NC1CC1c1ccc(C2CC2)cc1', 'CC1=CCC(C)(N)c2ccccc21', 'C/C=C/N=C(\\\\C)c1ccc(C)cc1', 'C/C=C/CN1CC(F)CC1CO', 'C=Cc1ccc2c(c1)N[C@@H](C)CC2', 'C=CC1Cc2c(CC)cccc2N1', 'C=CC(=O)N(C(C)C)C(C)CF', 'Cc1ccc(C(C)CC#N)cc1C', 'CC(C)=CC1Cc2ccccc2N1', 'Cc1ccccc1C1CC=NCC1', 'CC1CN2C[C@H](F)C[C@@]2(CO)C1', 'CC1=CC=C2N=CC=CC2(C)CC1', 'C=C(C)N(C(=C)C)c1ccccc1', 'C=CC1CCc2ccccc2C1N', 'C=C(C)c1cccc(C/C=C/N)c1', 'C/C=C\\\\c1ccccc1/C=C\\\\CN', 'C=C(C)Nc1ccccc1C1CC1', 'C=C[C@H]1CCc2ccccc2[C@H]1N', 'CC(C)(C)c1ccc2cc[nH]c2c1', 'NC1CC2CCCc3cccc1c32', 'CC1=CCCC=C1C1=NCCC=C1', 'CN1CCC/C1=C\\\\c1ccccc1', 'CC(C)(N)CC(F)C1=COCC1', 'C=C=C1CC(=C=C)CN(CC=C)C1', 'N#CCCCC#CC1C=CCCC1', 'C=C/C(C)=c1/cc[nH]/c1=C/C=C\\\\C', 'CN1CCC=C(c2ccccc2)C1', 'C[C@@H]1C(c2ccccc2)=NC[C@@H]1C', 'N[C@@H]1C[C@@H]2CC[C@H]1c1ccccc12', 'C=CC[C@@H]1Cc2ccccc2CN1', 'CC(C)C1=c2cccc(N)c2=CC1', 'CCCc1c[nH]c2c(C)cccc12', 'Cc1ccc(C23CNC[C@@H]2C3)cc1', 'c1ccc2c(c1)CCCC1CNC21', 'CC(C)CC(=O)N1CCC(F)C1', 'C#C.C/C=N/c1ccc(C)cc1C', 'CC(C)c1cncc2c1=CCCC=2', 'C/C=C/c1ccc(/C=C/CC)nc1', 'FCCN1CCOC2(CCC2)C1', 'CC(C)C1C=Cc2cc[nH]c2C=C1', 'C=C1CCN(c2ccccc2)CC1', 'COC[C@]12CCN1C[C@@H](F)[C@H]2C', 'CC1=Cc2ccccc2N(C)C1C', 'CCCC(=O)N1CCC(F)CC1', 'CN(CCF)C1CCC(=O)CC1', 'C=Cc1ccccc1C=CCCN', 'Cc1ccccc1C1[C@H]2CNC[C@@H]12', 'CCC(=O)NCC1(F)CCCC1', 'c1ccc(C2CCC3NC3C2)cc1', 'C=C(/C=C\\\\CC)Nc1ccccc1', 'CC1C2CCC1(C)c1cnccc12', 'CC(C)C1CC(F)C(C)NC1=O', 'C(=N/C1CCCC1)\\\\c1ccccc1', 'CC(N)c1cccc2ccccc12.[H][H]', 'C=Nc1cc(C)ccc1C=C(C)C', 'C=CC.Cc1ccc2[nH]ccc2c1', 'C=Nc1cccc(CC2CCC2)c1', '[C-]#[N+]c1cc(C(C)(C)C)ccc1C', 'C=C/C=C(\\\\C=C)NC1=CCCC=C1', 'CCNC=C1CCc2ccccc21', 'Cc1cc(C)c2c(c1)C=CC(C)N2', 'CCCC(N)C#Cc1ccccc1', 'c1ccc2c(c1)C[C@@H]1CCC[C@H]1N2', 'CN(C)CC1=Cc2ccccc2C1', 'C/C=C\\\\C(C)=c1\\\\nccc\\\\c1=C\\\\C', 'N#CCC1=C(C2=CCCC2)CCC1', 'COC[C@@]12CCN1C[C@@H](F)[C@@H]2C', 'C=CCN1C[C@@H](C)c2ccccc21', 'C=C[C@@H](/C=C/C)Nc1ccccc1', 'C#Cc1cn(CC)c2c1CCCC2', 'CNC1=CC(C)Cc2ccccc21', 'C#CC(C)Nc1c(C)cccc1C', 'CCNC(=O)[C@H](C)C1(F)CCC1', 'c1ccc2c(c1)CC1CCCNC21', 'C=CNc1c(C)cc(C)cc1C=C', 'C(=C/C1CCNC1)\\\\c1ccccc1', 'COC[C@]12C[C@H](F)CN1[C@@H](C)C2', 'CC=C=CCNCc1ccccc1', 'CC(C)=C/C=c1/cccc/c1=C/N', 'C=C(C)CC1Cc2ccccc2N1', 'Cc1ccc2c(c1)CCC21CC1N', 'c1ccc2c(c1)C[C@H]1NCCC[C@H]21', 'COC[C@@]12CCN1C[C@@](C)(F)C2', 'CCc1ccccc1C#CCCN', 'C#Cc1cccc(NC(C)(C)C)c1', 'C=CC/C=C\\\\c1c(C)cccc1N', 'C=Cc1c(C)cc2c(c1C)CNC2', 'C=Cc1ccccc1C(N)C1CC1', 'CC1(C2CC2)CNc2ccccc21', '[H]/N=C(C)/C=C(\\\\C)c1ccc(C)cc1', 'CC(C)(C)Cc1ccc(C#N)cc1', 'C=C/C=N/c1ccc(C)c(C)c1C', 'C1=CCCC=C1.Nc1ccccc1', 'CC(C)c1cc2ccccc2n1C', 'C#CCNCc1cc(C)cc(C)c1', 'C=CN(C=C)c1ccc(CC)cc1', 'CCc1ccc(CCCC#N)cc1', 'c1cncc(C23CCC(CC2)C3)c1', 'C1=C(c2ccccc2)CCCNC1', 'CN(C)C1=CCCc2ccccc21', 'CCCCc1ccc2[nH]ccc2c1', 'C=NCc1ccc(/C(C)=C/C)cc1', 'Cc1cccc(N2CC3CC2C3)c1', 'Cc1ccccc1[C@@H](C#N)C(C)C', 'C=CCNC1CCc2ccccc21', 'Cc1ccc2c(c1)N=CCCC2C', 'CCCC#CN(C)c1ccccc1', 'CCn1cc2cc(C)c(C)cc2c1', 'CCc1ccc(C#CC(C)N)cc1', 'C#CN(C)C(C)Cc1ccccc1', 'CCC(/C=C\\\\c1ccccc1)=N\\\\C', 'CN(C)C=C1/C=C\\\\C=C/C=C\\\\C=C/1', 'C=CC/N=C/CCc1ccccc1', '[H]/N=C(\\\\C(=C)C)c1cccc(C)c1C', 'CCC(C)(CC#N)c1ccccc1', 'C=C/C(=N\\\\C)c1c(C)cccc1C', 'CCC(C)(C)C(=O)N1CC(F)C1', 'NC1CCc2c1ccc1c2CCC1', 'C1=CCCN(c2ccccc2)CC1', 'CCCC1(F)CCN(C=O)CC1', 'CC/C=C\\\\C(C)=N\\\\c1ccccc1', 'Cc1cccc(C23CCC(C2)N3)c1', 'c1ccc([C@@H]2CCC23CNC3)cc1', 'C=C1CCCN1Cc1ccccc1', 'CC(C)=C1CN1Cc1ccccc1', 'C=C/N=C(\\\\C)c1cc(C)ccc1C', 'CC=Cc1ccccc1C/C=N/C', 'CC1CCN=C(c2ccccc2)C1', 'C1=CCC(CCc2ccncc2)C1', 'CCn1c(C)c2ccccc2c1C', 'C=CC(C)C1CCc2cccnc21', 'CCc1cn(C)c2c(C)cccc12', 'C#Cc1ccccc1CC[C@H](C)N', 'C=C(NCc1cc#ccc1)C(C)C', 'C=Cc1cncc(C(C)C)c1C=C', 'CC(C)C1=NC2=CC=CC=CC2C1', 'CCCn1ccc2cc(C)ccc21', 'c1ccc(C2NCC23CCC3)cc1', 'CC[C@H]1Cc2c(C)cccc2C=N1', '[H]/N=C(\\\\C)C1CCc2ccccc2C1', 'Nc1ccccc1/C=C\\\\CC1CC1', 'CC1=CC(C(C)N)c2ccccc21', '[C-]#[N+]c1c(C)cccc1CCCC', 'CC1(C)[C@H]2CC=C(/C=C/C#N)[C@@H]1C2', 'CC#Cc1ccc(C)cc1CNC', '[C-]#[N+]c1c(C)cc(CCC)cc1C', 'CC[C@@H](C)c1c[nH]c2ccccc12', 'CC(C)(C)c1ccc2c(c1)C=NC2', 'CC(C)C(=O)[C@@H]1CC(F)CN1C', 'CC=C(C)C=c1ncccc1=CC', 'C=CN(C)/C(=C\\\\C)c1ccccc1', 'CC1(C)[C@H]2CC=C(C=CC#N)[C@@H]1C2', 'C=CN(C=C)c1cccc(CC)c1', 'C=Cc1ccccc1[C@@H]1CCNC1', 'Cc1cc2c(C)[nH]c(C)c2cc1C', 'CCC#CCC(C)c1cccnc1', 'Cc1ccccc1C1=NCCCC1', 'CCC(C)c1cccc2cc[nH]c12', 'C=C(C)/C(=N/C=C\\\\C)OC.CF', 'Cc1cccc(C23CNC(C2)C3)c1', 'CC1=NC(=NC(=N1)N)C2=C(N=CC(=C2)[C@@H](C)N3CCN(CC3)S(=O)(=O)C)NC4=CC(=C(N=C4)OC)F', 'CCCCCc1cc(Oc2ccc(F)cc2)nc2ccc(NC(=O)c3nccc(OC)c3OC(C)=O)cc12', 'C.C[C@H](O)C(=O)N[C@@H](C)[C@H](Oc1ccc2c(cnn2-c2ccc(F)cc2)c1)c1ccc(C(F)(F)F)cc1', 'CCOC(=O)C1=C(c2ccccc2)N=C2SC=C(CC(=O)NC[C@H]3CCCO3)N2[C@H]1c1ccc(C)cc1', 'O=C1c2cccc3c2C(C=CC3)C(=O)N1c1ccc(C(c2ccccc2)(c2ccccc2)c2ccccc2)cc1', 'O=C(NCC(=O)N(c1ccc2c(c1)CCC2)[C@H](C(=O)NC[C@@H]1CCCO1)c1ccccc1)c1cccs1', 'C[C@H](NC(=O)[C@@H](CCc1ccccc1)NC(=O)OC(C)(C)C)C(=O)CCc1cc(Cl)ccc1[N+](=O)[O-]', 'CNC(=O)c1ncc(Nc2cc(-c3ccc4cc(C#N)cnn34)ncc2C(=O)NC[C@@H](F)C(C)(C)O)cn1', 'CN(C(=O)OCc1ccc(NC(=O)Cc2ccc(F)cc2)cc1)C(CCc1ccccc1)C(=O)OCC#N', 'COc1ccc(SCC(C(=O)O)n2c(=O)n3n(c2=O)C(C(=O)NCC2CCC(N)CC2)C=CC3)cc1', 'CCc1ccc(NC(=O)c2cc(C(F)(F)F)nn2-c2ncccc2CC)c(C(=O)NNC(=O)N(C)C)c1', 'CNC(=O)c1c(-c2ccc(F)cc2)oc2ccc(-c3cccc(C(=O)CC4(c5ccccc5)CCC4)c3)cc12', 'CC(=O)c1cccc(N(CC(=O)N(Cc2ccccc2F)[C@H](C)C(=O)NC2CCCC2)S(C)(=O)=O)c1', 'NS(=O)(=O)c1ccccc1-c1ccc(CNC(=O)C2CCCC2C(=O)N2CCCc3ccccc32)cc1', 'COc1cc(C#N)cc2[nH]c(-c3c(N)ncc(-c4cc(F)cc(F)c4)c3N3CCC4NCCOC4C3)nc12', 'COc1cccc(-c2nnc(NS(=O)(=O)[C@@H](C)[C@H](OC)C3CCC3)n2-c2c(OC)cccc2OC)n1', 'CCOC(=O)c1c(-n2c(C)cc(/C=C(/C#N)C(=O)NCc3ccc(OC)cc3)c2C)sc2c1CCCC2', 'COc1c(Nc2ncc(F)c(Nc3ccccc3P(C)(C)=O)n2)ccc(F)c1N1CCC(OC)CC1', 'CC(C)(C)c1ccc2oc3cc(-n4c5c6ccccc6ccc5c5ccc6ccccc6c54)ccc3c(=O)c2c1', 'Cc1ccc([C@H]2c3ccsc3CCN2CC(=O)N2CCN(C(=O)c3ccc4c(c3)OCO4)[C@H](C)C2)cc1', 'COc1ccc(-c2nc3c(c(-c4ccccc4)nn3-c3ccccc3)c3cc(OC)c(OC)cc23)cc1OC', 'CCN/C(=N\\\\Cc1ccnc(N2CCN(C)CC2)c1)NCC(=O)NC(C)(C)C.I', 'C[C@H](O)C(=O)N(CCCN)[C@@H](c1nc(-c2cc(Cl)cc(Cl)c2)nn1Cc1ccccc1)C(C)(C)C', 'COc1ncc(Nc2ncc(CCN3CCN(S(C)(=O)=O)CC3)cc2-c2nc(C)nc(N)n2)cc1F', 'CC(=O)NC[C@H]1CN(c2ccc(N3CCC(CN(C)C(=O)c4ccc([N+](=O)[O-])o4)CC3)c(F)c2)C(=O)O1', 'CCn1cc(NC(=O)Nc2ccc(OC(F)(F)F)cc2)nc1C(=O)N1CCN(c2ccc(C)cn2)CC1', 'CCOC(=O)Cn1c(C)c(/C=N\\\\N2C(=O)[C@@H]3C4c5ccccc5C(c5ccccc54)[C@H]3C2=O)c2ccccc21', 'COC(=O)c1ccccc1CSc1nc(CNC(=O)OC(C)(C)C)cn1Cc1cccc2ccccc12', 'Cl.[H]/N=C(\\\\N)c1ccc(NCc2nc3cc(Cn4c(CCC(=O)O)nc5ccccc54)ccc3n2C)cc1', 'CCCCCc1ccc(S(=O)(=O)NCCc2c(-c3ccc4c(c3)OCO4)n[nH]c2-c2ccccc2)cc1', '[H]/N=C(\\\\N)c1ccc(N2CC(CN3CCC(NS(=O)(=O)c4ccc(OC)c(OC)c4)CC3)OC2=O)cc1', 'Cc1ccc(S(=O)(=O)N2C(=O)CC[C@@H]2C(=O)N2CCN(C(c3ccccc3)c3ccccc3)CC2)cc1', 'Nc1ncc(-c2cc(N3CC(N4CCC(F)(F)CC4)C3)nc(N3CCC(F)(F)C3)n2)cc1OC(F)F', 'CCC1CCCCN1CCCNC(=O)C1CCN(Cc2nc(-c3cccc(Br)c3)no2)CC1', 'COc1c(C(=O)N(C)CCN2CCCCC2)sc2c1c(=O)n(CC(=O)c1ccccc1)c1ccccc21', 'COC(=O)C1C(c2ccccc2)=NN(c2ccccc2)[C@]12C(=O)N(c1ccc(OC)cc1)[C@@H]2c1ccccc1', 'Cc1cc(Nc2cc(Nc3ccc(-c4nn(C)cc4C)cc3S(C)(=O)=O)c3[nH]c(C)nc3n2)nc(C)n1', 'C[C@@H]1CN(c2c(C#N)c(=O)n(C)c3ccc(C#N)nc23)CCN1Cc1ccc(F)cc1-c1ccc(C#N)cc1', 'COC(=O)/C=C/c1ccc(CN(C(=O)OC(C)(C)C)C2CC2c2ccc(-c3ccc(Cl)cc3)cc2)cc1', 'CC(=O)[C@@]1(C)CCC2c3cc([N+](=O)[O-])c(O)c(F)c3CCC2C1C(C)CCC(=O)Nc1ncc(C)s1', 'CCCn1c(NC(C(=O)O)C(C)C)nc2nc(-c3cnn(Cc4cccc(C(F)(F)F)c4)c3)[nH]c2c1=O', 'Cc1c(/C=C2\\\\C([O-])=Nc3ccc(F)cc32)[nH]c2c1C(=O)N(C[C@H](O)N1CCOCC1)CCC2.O=[N+](O)O', 'CC(C)C1(c2ccc(F)cc2)C=C(NC(=O)Nc2ccc(Oc3ccnc(-c4cn[nH]c4)c3)cc2F)NN1', 'C[C@H](NC(=O)c1ccc2c(c1)OCCN2Cc1ccccc1-c1ccc(C(=O)O)cc1)c1ccc(C#N)cc1', 'CCOc1cc(/C=C2/NC(=O)N(CC(=O)Nc3ccccc3CC)C2=O)ccc1OCc1cccc(F)c1', 'C=C(F)CC(F)NC(=O)c1cn2c(c(OCc3ccccc3)c1=O)C(=O)N1C[C@@H]2[C@@](O)(CO)CC[C@@H]1C', 'CC(=O)NCCNC(=O)c1ccc(O)cc1OC[C@@H](O)CN1CCC2(CC1)Cc1cc(Cl)ccc1O2', 'COc1cc(C2c3c(-c4c(C)cc(C)cc4O)n[nH]c3C(=O)N2Cc2ccc(F)cc2)cc(OC)c1OC', 'COC1=CCCC[C@]1(N=C=O)c1ccccc1Cl.[2H]C([2H])([2H])N[C@]1(c2ccccc2Cl)CCCC=C1OC', 'Cl.N#Cc1c(N2CCC[C@H](N)C2)n(Cc2ccccc2)c2c(=O)n(CC(=O)Nc3ccccc3)cnc12', 'CN1CCC[C@H]1COc1nc(N2CCN[C@@H](CC#N)C2)c2cnc(-c3cccc4ccsc34)c(F)c2n1', 'C1CC1.O=C(O)CCc1cccc(OC2CCN(Cc3cc(C(F)(F)F)ccc3C(F)(F)F)CC2)c1', 'CCOc1ccc(N2C(=S)N[C@@H]3c4cccc(OC)c4O[C@@]2(C)[C@@H]3C(=O)Nc2ccc(C)cc2C)cc1', 'CCOC(=O)C1=C(C)N=c2s/c(=C/c3ccc(N4CCCC4)c(C)c3)c(=O)n2[C@H]1c1ccccc1OC', 'COC(=O)[C@H](CC(=O)C[C@@H]1C[C@H](c2ccc(/C=N/N)cc2)N(C)O1)N(N)S(=O)(=O)c1cccc(C)c1', 'CCN1CCCC1CN/C(=N/Cc1cccc(N(C)C)n1)NCC(=O)N(C)C.I', 'CC(c1oc(=O)c2ccccc2c1-c1ccc(CN2CCNCC2)cc1)n1ncc2c(N)ncnc21.Cl', 'CC[C@@H](C(=O)NCC(C)C)N(Cc1ccc(F)cc1)C(=O)CCCN1C(=O)c2ccccc2S1(=O)=O', 'COc1cc2c(cc1OC)C(=O)C1(C2)C(c2ccncc2)C(c2ccccc2)NC12C(=O)Nc1ccccc12', 'CCCCCOc1ccc(C2c3c(oc4ccc(C)cc4c3=O)C(=O)N2c2nnc(CC(C)C)s2)cc1', 'CCOC(=O)NCC(O)COc1ccc(C2c3[nH]c4ccc(Cl)cc4c3CCN2C(O)OCC)cc1', 'COc1cnn(N(c2ccccc2)c2nc(Nc3ccc4c(c3)C(C)(C)CCC(=O)N4C)ncc2Cl)c1', 'CC(C)[C@H](NC(=O)Cc1cccc2ccccc12)C(=O)OCC(=O)Nc1sc2c(c1C#N)CC[C@@H](C)C2', 'COc1ccc(CC(=O)Nc2c(C(=O)N3CCN(c4ccccc4F)CC3)oc3ccccc23)cc1OC', 'N[C@@H](Cc1ccccc1)C(=O)Nc1ccc2nn(CC(O)(Cn3cncn3)c3ccc(F)cc3F)cc2c1', 'CN(C(=O)CCc1cccc(F)c1F)[C@@H](COC[C@@H](O)CO)COC(=O)Nc1cc2ccccc2cn1', '[H]/N=C(\\\\N)c1ccc(-c2ccc(OC[C@@H]3C[C@@H](CC(=O)OC)C(=O)N3CCSc3ccccc3)cc2)cc1', 'CCCc1nc(C)n2nc(S(=O)(=O)N(C)C)nc2c1Cc1ccc(-c2ccccc2-c2nn[nH]n2)cc1', 'CC.Cc1cc(N)nc(C)c1CNC(=O)c1nn(Cc2ccc3ncc(Cl)cc3c2)c2ccc(=O)[nH]c12', 'O=[Re]=O.[CH2-]C(C)(C)C.[CH2-]C(C)(C)C.[c-]1ccccc1.c1ccncc1', 'CC(C)(C)OC(=O)N1CCc2ccc(Cl)c(SCc3ccc(OCC(=O)C(C)(C)C)cc3)c2CC1', 'C=C(C)COc1ccc2c(C)c(CCC(=O)N3CCN(c4nsc5ccccc45)CC3)c(=O)oc2c1C', 'C=C1CC(N(C)CCF)CC1Oc1cc(F)ccc1C(=O)N1CC(N)=C(c2nc(C)c(Cl)c(C)n2)C1', 'C=C(Nc1cncc(-c2ccc3[nH]nc(-c4nc5c(-c6cccs6)cccc5[nH]4)c3n2)c1)C1CCCCC1', 'CN1CCN(c2ccc(S(=O)(=O)N3CCCCC3)cc2NC(=O)COc2ccc([N+](=O)[O-])cc2)CC1', 'c1ccc(-c2c(-c3ccc(CN4CCC(c5nc(-c6nccs6)n[nH]5)CC4)cc3)nc3ccccn23)cc1', 'CCN(CC)C(=O)Oc1ccc2c(ccn2Cc2cccc(F)c2)c1NC(=O)[C@@H]1COc2ccccc2O1', 'CC(C)CC(C(=O)N1CCC2C1C(=O)CN2S(=O)(=O)c1ccccn1)c1cccc(-c2ccccc2)c1', 'CCCCN1C(=O)NC(c2cccc(NC(=O)Cc3cccs3)c2)C(C(=O)OCC)=C1c1ccccc1', 'CCN/C(=N\\\\CCN(CC1CC1)C1CC1)NC1CCc2nc(COC)nn2C1.I', 'CC(C)(C)Cn1c(=O)c(C(=O)NC2CC2)c(N=O)n2nc(Nc3cnc(C(=O)NCC(F)F)cn3)cc12', 'CCCCCCC#Cc1ccc(C(=O)Nc2ccccc2S(=O)(=O)NC(C)=O)c(Nc2ccccc2)c1', 'COc1ccc(-c2nc3cc(C(C)C)ccc3o2)cc1NC(=S)NC(=O)c1ccc(OCC(C)C)cc1', 'CCOc1cc([C@H]2[C@H]([N+](=O)[O-])[C@]3(C(=O)Nc4ccccc43)N3CCC[C@@H]23)ccc1OCc1ccc(F)cc1', 'CCCCCCc1nc(C(F)(F)F)ccc1CNC(=O)C(C)c1ccc(NS(=O)(=O)CC)c(F)c1', 'Cc1c(COc2ccc(-c3ncc4c(n3)CCN(CC(C)CC(=O)O)C4)c(F)c2)cccc1C(F)(F)F', '[C-]#[N+]c1c(-c2ccc(F)cc2)c(=O)c(C(=O)Nc2ccc(B3OC(C)(C)C(C)(C)O3)c(F)c2)cn1C1CC1', 'O=c1ccn(-c2ccc(CNCC3CC3)cc2)c2c(Cl)c(N3CCN(c4ccccn4)CC3)c(F)cc12', 'COc1ccc(C(C(=O)NCC2CCCO2)N(CC2CCCO2)C(=O)c2snc(C(N)=O)c2N)cc1', 'CCOC(=O)N1CCc2c(sc3c2c(=O)n(-c2ccc(CC)cc2)c(=O)n3Cc2cc(C)ccc2C)C1', 'CN(C=O)c1ccc(Cl)cc1C1CC1.O=CNc1cc(NCc2cn3cc(C4CC4)ccc3n2)ncn1', 'CC(=O)N1CCC(OC(N)=O)(c2ccc(CN3C(C)CCC(c4ccccc4)S3(=O)=O)c(F)c2)CC1', 'CC(=O)/C(C(N)=O)=C(/O)[C@@]1(O)C(=O)C2=C(O)c3c(O)c(C(=O)NCCO)cc(N(C)C)c3C[C@H]2C[C@H]1C', 'CN1CCN(c2ccc(Nc3ncc(Cl)c(Oc4ccc(C=C(C#N)C(=O)N(C)C)cc4)n3)cc2)CC1', 'COc1cc(CNC(=O)c2cc(C3=NOC(C4COC(CNC(=O)CO)CO4)C3)nc(C)n2)ccc1F', 'CC1(C)NC(=O)N(CCOc2ccc(CN3CCOC[C@](O)(COc4ccc(Cl)cc4)C3)cc2)C1=O', 'CC(COc1ccnc(N(C)C(=O)N2c3nc(C(=O)O)ccc3N3CCC2C3)c1)COC(C)(C)OS', 'CC1CC=C(c2ccc3[nH]c4ccc(-c5cccc6c5oc5ccccc56)cc4c3c2)c2oc3ccccc3c21.[H][H]', 'COC(=O)[C@H](CNC(=O)CC1CC(c2ccc(/C=N/N)cc2)N(C)O1)NS(=O)(=O)c1cccc(C)c1', 'C[C@@H](O[C@H]1CCN(C(=O)OC(C)(C)C)CC1c1ccccc1)c1cc(C(F)(F)F)cc(C(F)(F)F)c1', 'COc1ccc(C(=O)Nc2cccc(C3OC(=O)N(Cc4ccc(F)cc4)C3C(=O)NCC3CC3)c2)cc1', 'CCOC(=O)C1=C(C)N=C2SC=C(CC(=O)NCC3CC3)N2C1c1cccc(OCc2ccccc2)c1', 'COc1ccc(-n2cnnn2)c(CCC(=O)c2cn(Cc3cn4cc(C5CC5)cc(CO)c4n3)nn2)c1F', 'CCOC(=O)C1=C(c2ccccc2)N=C2SC=C(CC(=O)NC[C@H]3CCCO3)N2[C@@H]1c1cccc(C)c1', 'C[C@@H](O)[C@H](NC(=O)[C@H](Cc1ccc(O)cc1)NC(=O)[C@@H](NC(=O)OCc1ccccc1)[C@@H](C)O)C(=O)O', 'COc1ccc(N(C)C[C@@H]2Cc3cccc(c3)CS(=O)(=O)Cc3[nH]c4ccccc4c3CC(=O)N2)cc1', 'O=C(Nc1cccc(-c2c(C(=O)c3ccccc3)cnc3c(C(F)(F)F)cccc23)c1)NC1CCCCC1', 'CCCOc1cccc(/C(O)=C2/C(=O)C(=O)N(c3ccc(N4CCN(C)CC4)cc3)C2c2cccs2)c1', 'CCNC(=O)c1ccc(-c2cc(C(F)(F)F)c3c(N)ncnn23)cc1N1CCN(C(C)=O)C(C)(C)C1=O', 'C=Cc1ccc(-c2nc(-c3ccc(F)cc3)nn2CON2CCC(CCc3ccc(Cl)cn3)CC2)cc1', 'CC(C)N(C(C)C)P(C(=[N-])c1[c]cccc1)N(C(C)C)C(C)C.[H][H].[NH-]c1ccccc1.[Zr+2]', 'CCC(C)c1ccc2oc(-c3ccc(OC)c(NC(=S)NC(=O)c4cccc(OC(C)C)c4)c3)nc2c1', 'CN(C)c1ccc2oc(-c3cc(-c4cnn(C5CCNCC5)c4)cnc3N)nc2c1.O=C(O)C(F)(F)F', 'Cc1noc(-c2ccc(CNC(Cc3ccccc3F)C(=O)O)cc2)c1NC(=O)OC(C)c1ccccc1', 'CCCCc1nc(O)c(S(=O)(=O)c2ccc(-c3ccncc3C)cc2)c(=O)n1[C@@H](CC)c1ccccc1', 'COc1cc(CN2CCN(c3cccc4c3C(=O)N(CCc3ccccc3F)C4=O)CC2)cc2c1OCO2', 'CN1CCN(c2nc3c(C(=O)NC4CN5CCC4CC5)cccc3o2)C(c2ccccc2)C1.Cl.Cl', 'Cc1nc(Nc2cc(-c3cncs3)ccc2NC(=O)Nc2cc(C3CC3)on2)cc(N2CCNCC2)n1', 'CCOC(=O)COc1ccc(/C=N/NC(=O)C(CC(C)C)NC(=O)c2ccc(Cl)cc2)cc1OCC', 'CCOOCc1cnc(N2CCn3c(nc4cc(C(=O)OC)c(S(C)(=O)=O)cc43)[C@H]2C(C)C)nc1C', 'CCC(C(=O)NC(C)(C)C)N(Cc1ccc(F)cc1)C(=O)CCCN1C(=O)c2ccccc2S1(=O)=O', 'CC[C@H](C)Oc1ccc2ccccc2c1C=Nn1c(-c2cc3c(OC)cccc3o2)nc2ccccc2c1=O', 'CC1CCC(C(=O)N(c2cc(-c3ccc(-c4nc5c(N)cccc5o4)cc3)sc2C(=O)O)C(C)C)CC1', 'C[C@]12C=CC(=O)C=C1CC[C@@H]1[C@@H]2CC[C@]2(C)C(c3csc(NC(=O)c4ccc([N+](=O)[O-])cc4)n3)CC[C@@H]12', 'CC1C=Cc2c(n(-c3ccccc3)c3c2c(-c2ccc4oc5c(c4c2)CCC=C5)cc2c4ccccc4oc23)C1', 'C[Si]1(C)c2ccccc2-c2cccc(-c3nc(-c4ccccc4)nc(-c4ccccc4-c4ccccc4)n3)c21', 'COc1ccc([C@@H](C(=O)NC[C@@H]2CCCO2)N(C[C@@H]2CCCO2)C(=O)c2snc(C(N)=O)c2N)cc1', 'C=C(C)CN(C[C@@H](O)[C@H](Cc1ccccc1)N(C(=O)[O-])[C@H]1CCOC1)S(=O)(=O)c1ccc(OC)cc1', 'C#CN(C(=O)C(CS)NC(=O)OC(C)(C)C)C(C(=O)Nc1ccc2ccccc2c1)c1ccc(C)cc1', 'O=C(O)C[C@H]1CCCN(Cc2cccc3c(C(F)(F)F)c(OC4CCC(C(F)(F)F)CC4)ccc23)C1', 'O=C(Nc1ccc(-c2ccc3c(c2)CC2(CCN(S(=O)c4ccccc4)CC2)O3)cc1)N1CCOCC1', 'O=C(N1CCC(O)CC1)N1CC(c2cccc(C(F)(F)F)c2)CC(c2nc(-c3cccc(F)c3)co2)C1', 'CC(C)[C@@H]1Cn2c(N)c(/C(=N/Cc3ccc(C(F)(F)F)cc3)Nc3ccc(O)cc3)c(=S)[n+](C)c2N1', 'CCN(CCOC)CCOC(=O)c1cc2c3ccccc3n(Cc3ccc(F)c(C(F)(F)F)c3)c2cn1', 'CC1(C(=O)O)CC2CC(C1)C(=O)N(c1ccc(-c3cc(-c4ccccn4)cc(-c4ccccn4)c3)cc1)C2=O', 'Cc1oc2cc3oc(=O)c(CC(=O)N[C@H](C(=O)N[C@@H](C(=O)[O-])c4ccccc4)C(C)C)c(C)c3cc2c1C', 'CC1NCCO[C@@H]1c1ccc2c(-c3nc(N[C@@H]4CCC45CN(C(=O)O)C5)ncc3C(F)(F)F)c[nH]c2n1', 'C=Cc1c(/C=C\\\\C)oc2c(-c3ccc4[nH]c5ccc(-c6cccc7c6oc6ccccc67)cc5c4c3)cccc12.[H][H]', 'O=C(O)C1CCC(NCc2ccc3c(C(F)(F)F)c(OC4CCC(C(F)(F)F)CC4)ccc3c2)CC1', 'COc1c(C)cc(C)cc1/C(O)=C1\\\\C(=O)C(=O)N(c2cccc(Cl)c2C)C1c1ccc(C(C)(C)C)cc1', 'CC(C)(C)OC(=O)N1CCN(c2ccc(NS(=O)(=O)c3cccc4ccccc34)c3ccccc23)CC1', 'CN1/C(=C\\\\C(/C=C2/N(C)c3ccc(Cl)cc3C2(C)C)c2ccc(N)cc2)C(C)(C)c2cc(Cl)ccc21', 'COc1c(-c2ccc(N3CC(C)OC(C)C3)cc2)c(C(F)(F)F)nc2c(-c3ccc(C#N)cc3)cccc12', 'Cc1cccc(-c2sc(C3CC3)nc2C(=O)N2CCCC[C@H]2CNC(=O)Oc2cccc3c2CCO3)c1', 'C=CC(=O)N1CC[C@H](n2nc(C#Cc3c(Cl)cc(C4CC4)n4c(C5CC5)ncc34)c(C(N)=O)c2NC)C1', 'CCC(C)OC(=O)C(CCC(=O)O)NC(=O)c1cscc1CCCCc1cc2c(=O)[nH]c(N)nc2[nH]1', 'C1CC1.COC(=O)C(C)Cc1cccc(OC2CN(Cc3cc(C(F)(F)F)ccc3C(F)(F)F)C2)c1', 'C/N=C(\\\\NCc1nccn1CC(C)C)N1CCN(CC(=O)N2CCCC2)CC1.I', 'CN(C)CC[C@H]1COC(Nc2ccc3ncnc(Nc4ccc(OCc5ccccn5)c(Cl)c4)c3c2)=N1', 'COc1ccc2c(c1Nc1ncc(Cl)c(Nc3ccccc3-c3nccn3C)n1)NC(=O)CCC2(C)C', 'CCN/C(=N\\\\Cc1cccnc1N1CCN(C)CC1)NCCN1CCOCC1.I', 'O=C(NCC(=O)N(c1ccc2c(c1)CCC2)[C@@H](C(=O)NC[C@@H]1CCCO1)c1ccccc1)c1cccs1', 'CC[C@@H](C)Oc1ccc2ccccc2c1C=Nn1c(-c2cc3c(OC)cccc3o2)nc2ccccc2c1=O', 'COc1cc(CN2CCc3cc(C=O)ccc32)cc(OC)c1OC.Nc1ccc(-c2cccs2)cc1N', 'CCOc1ccc2c(c1)s/c(=N\\\\C(=O)c1ccc(S(=O)(=O)N(CC(C)C)CC(C)C)cc1)n2CC', 'Cc1ccc(-n2c(-c3ccccc3)c(C(=O)c3ccccc3)c(C(=O)c3ccccc3)c2-c2ccccc2)cc1', 'Cc1cc(F)c(COc2nsc(NC(=O)NCCCCCC(O)CN(C)C)c2C(N)=O)c(F)c1F', 'Cn1nncc1-c1cccc(OC(F)F)c1[C@H]1CCc2nc3ccc(-c4cnc(C(C)(C)O)nc4)cc3n21', 'COc1ccc(Cl)cc1NC(=O)[C@@H](C)Nc1nc(Nc2ccc(C)cc2)nc(Nc2ccc(C)cc2)n1', 'CC(C)OC(=O)[C@@H](C)NP(C)(=S)OC[C@]1(F)C[C@H](C)[C@H](n2cnc3c(N(C)C)nc(N)nc32)O1', 'Cc1ccc(NC(=O)c2ccccc2NC(=S)NC(=O)CCC(=O)OCCCc2ccccc2)cc1C', 'COc1c(NSC)cc(C(C)(C)C)cc1NC(=O)c1cc2cccc(OC(=O)c3ccccc3)c2n1C', 'Cl.[H]/N=C1/c2cc(C(=O)NC)c(OCC)cc2CN1CC(=O)c1cc(C(C)(C)C)ccc1OCC(=O)O', 'C#CC#CC.O=C(NO)[C@H]1NC(=O)[C@@H]1Cc1ccc(OCc2cc(-c3ccccc3)nc3ccccc23)cc1', 'Cc1cc(CN(C)C(=O)N2[C@H]3CC[C@@H]2[C@@H](C(=O)O)N(C(=O)C(c2ccccc2)c2ccccc2)C3)cs1', 'Cc1ccccc1C(=O)N(Cc1ccc(C(F)(F)F)cc1)c1ccc(CC(=O)NCc2ccncc2)cc1', 'CC(=O)N[C@@H](CC(=O)O)C(=O)NCCCOc1cccc2c(OCCCC(=O)NCC(=O)O)cccc12', 'CCOc1cc2c(=O)n(CCN3CCN(c4ccccc4OC)CC3)c(=O)[nH]c2cc1NS(C)(=O)=O', 'Cc1cc(F)c(CNC(=O)c2cn3c(c(O)c2=O)C(=O)N2C[C@@H]3[C@@]3(CC[C@@H]2C)CC(C)OCO3)c(F)c1', 'O=C(O)CC1CCCN(Cc2ccc3ccc(OC4CCC(C(F)(F)F)CC4)c(C(F)(F)F)c3c2)C1', 'CC1CCc2c(sc(NC(=O)COC(=O)[C@@H](NC(=O)Cc3cccc4ccccc34)C(C)C)c2C#N)C1', 'O=C(NC(=S)Nc1cccc(C(=O)NC2CCCCC2)c1)c1cccc(OCCOc2ccccc2)c1', '[H]/N=C(\\\\C)c1c(N)nc(-c2ccc(NS(=O)(=O)c3cc(F)ccc3F)cc2)nc1NCCN(CC)CC', 'COCCc1ccc(Cl)c(CN(C(=O)C2CN(C(=O)O)CCC2(OC)c2cc[nH]c(=O)c2)C2CC2)c1', 'CSCC[C@H](NC(=O)C1CCN(S(=O)(=O)c2ccc(C)cc2)CC1)C(=O)Nc1cc(C)ccc1C', 'NS(=O)(=O)c1c(CC2CCNCC2(F)F)ccc(-c2ccc(C3CCNCC3)cc2)c1-c1nn[nH]n1', 'CC1=NC2=C3CN(C(=O)c4ccc(F)cc4OC4CC5CCC(C4)N5CCF)CC3NN2C(C)=C1Cl', 'Cn1cc(C2=C(c3cc(OC4CCN(Cc5ccccc5)C4)cc4ccoc34)C(=O)NC2=O)c2ccccc21', 'COC(=O)C1=C(C)N=C(C)C(C(=O)OC)C1c1ccccc1Nc1nc(-c2c(C)cc(C)cc2C)cs1', 'CCOC(=O)c1nn(-c2ccc(C(C)C)cc2)c(=O)c2c(NC(=O)c3ccc(C(C)(C)C)cc3)scc12', 'Nc1nc2c(ncn2[C@H]2C=C[C@@H](CO)O2)c(=O)[nH]1.OC[C@H]1O[C@@H](n2cnc3c2NC=NC[C@H]3O)C[C@@H]1O', 'CC(=O)NC[C@H]1CN(c2ccc(-c3ccc(CCC(=O)/C=C/c4ccc(=O)n(C)c4)cc3)c(F)c2)C(=O)O1', 'CSCCC(NC(=O)C1CCN(S(=O)(=O)c2ccc(C)cc2)CC1)C(=O)NCCc1ccccc1', 'Cc1ccc(N2C(=O)C(=C(c3ccccc3)c3ccccc3)C(C(=O)c3ccccc3)=C2c2ccccc2)cc1', 'COc1ccc(NC(=O)CN2C(=O)c3ccccc3[C@H]2c2c(-c3cccc(OC)c3)[nH]c3ccccc23)cc1', 'C=C(N[C@H]1c2ccccc2C[C@H]1O)[C@H](Cc1ccccc1)CC(O)CNS(=O)(=O)c1ccc(C#N)cc1', 'CC(C)(C)OC(=O)NCCCCC=Cc1ccccc1OCc1cc(C(F)(F)F)cc(C(F)(F)F)c1', 'CCN(CC)c1ccc(/C=N\\\\Nc2nc3c(=O)[nH]c(N)nc3n2[C@@H]2O[C@H](CO)[C@@H](O)[C@H]2O)cc1[N+](=O)[O-]', 'CCOC(=O)C1=C(C)NC(C)=C(C(=O)OCC)C1c1cccc(Nc2nc(-c3ccccc3)c(C)s2)c1', 'COc1ccc(SN2[C@H](C(=O)NOCc3ccccc3)C[C@@H]3CCN(C(=O)c4ccccc4)C[C@@H]32)cc1', 'CS(C)(=O)=Nc1cccc(-n2c(C3CC3)c(F)c3cnc(Nc4ccc(C5=CCNCC5)cc4)nc32)n1', 'COc1ccc(C(=O)Oc2ccccc2C=NNC(=O)c2[nH]c3c(C)cc(C)cc3c2-c2ccccc2)cc1', 'CC(C)(C)c1ccc(-c2ccc3cnc(-c4cc(C(F)(F)F)c5cc(C(C)(C)C)sc5c4)cc3c2)cc1', 'O=C(NC1CCCCC1)c1c(N=Cc2ccc(OCc3ccc([N+](=O)[O-])cc3)cc2)sc2c1CCCC2', 'C[C@@H](NC(=O)c1ccc2c(c1)OCCN2Cc1ccc(-c2ccccc2C(=O)O)cc1)c1ccc(C#N)cc1', 'Cn1ncc2c1CN(CC1CCC1)CC2COCC1CC1.O=C(O)C(F)(F)F.O=C(O)C(F)(F)F', 'CCOC(=O)c1ccc(Nc2ccnc(OC3C4COCC3CN(C(=O)OC3(C)CC3)C4)c2F)c(F)c1', 'COC(=O)CC[C@H](NC(=O)c1ccc(CCCc2cc3c(=O)[nH]c(N)nc3[nH]2)s1)C(=O)OC(C)(C)C', 'C/C=C(OC(C)C)\\\\C(/C=C(\\\\C)c1ncc(-c2cccc3c2CCC3NS(=O)(=O)CCOC)s1)=N/C', 'Cc1cc(C2CC(CN[C@H](C)c3cccc4ccccc34)Oc3ccccc32)ccc1OCC(=O)O.Cl', 'Cc1cc(NC(=S)NC(=O)CCCC(=O)OCCCc2ccccc2)ccc1NC(=O)c1ccccc1', 'c1ccc(-c2nc3scnn3c2-c2ccc(CN3CCC(c4cc(-c5ccccn5)n[nH]4)CC3)cc2)cc1', 'CC(C)OC(=O)Cc1nn([C@H]2CN(S(=O)(=O)c3ccc(OC(C)C)cc3)C[C@@H]2C)c2cc(F)ccc12', 'Cc1cccc(F)c1-c1c(Cl)cc2c(N3CCN(C=O)C(C)C3)nc(OCCCN(C)C)nc2c1F', 'Nc1cccc2c(NC(=O)c3ccc(COc4ccccc4C(F)(F)F)cc3C3=CCNCC3)cccc12', 'Cc1cc(Nc2nc(Nc3cc(C)c(C4CCN(CCS(C)(=O)=O)CC4)cc3C)ncc2Cl)n[nH]1', 'C=CC(F)(F)c1cn(C)c(-c2ccc(Cn3c(=O)ccc4cnc(C5=C(C)NCN=C5OC)nc43)cc2)n1', 'CCCCOC(=O)N1CCC(COCc2cc(C(F)(F)F)cc(C(F)(F)F)c2)(c2ccccc2)CC1', 'CCCn1nc(Cc2ccccc2)c(C(=O)OCC)c1Cc1ccc(-c2ccccc2S(N)(=O)=O)cc1', 'C/C(=N\\\\O)c1ccc(N(c2ccc(C(=O)c3ccccc3C)cc2)c2ccc(C3=NOC(=O)C3C)cc2)cc1', 'C=CC(=O)N1CCCC(c2nc(-c3ccc(C(=O)Nc4cc(C#N)ccn4)c(C#N)c3)n3c(N)nccc23)C1', 'NC(=O)CN1CCC(CNc2ncnc(N(Cc3ccc(C(F)(F)F)cn3)C3CC3)c2F)C(F)(F)C1', 'Cc1cc(CC(=O)CC2CCC(F)(CCN3CCc4nc(OCC(F)(F)F)sc4CC3)CC2)on1', 'CC[C@@H](Cn1cc(-c2cccc(C(=O)C(N)=O)c2)c2ccccc21)NS(=O)(=O)c1c(C)cc(C)cc1C', 'Cc1nnc(C/N=C(\\\\NCC2CCCO2)NC2CCN(C3CCCC3)C2)n1C.I', 'CCC(C)(C)C/C=C\\\\N(N)c1cc(-n2c(C)cc(OCc3ncc(F)cc3F)c(Cl)c2=O)c(C)cn1', 'c1ccc(-c2c(-c3ccc(CN4CCC(c5nc(-c6ccccn6)n[nH]5)CC4)cc3)nc3sccn23)cc1', 'COCCN1CC2CCC(C(=O)NO)(C1)N2S(=O)N1CCC(Oc2ccc(F)cn2)CC1.O=CO', 'C/N=C(/NCCN1CCN(c2ncccn2)CC1)NCC1(CCOC)CCC1.I', 'N#Cc1ccc(N2CCN(C(=O)CCCC[C@@H]3c4ccccc4CN3c3cn[nH]c(=O)c3Cl)CC2)nc1', 'Cc1ccc(-c2c(NS(=O)(=O)c3ccc(C(C)(C)C)cc3)nc(-c3ccccc3)nc2OCCO)cc1', 'CCC[C@H](C)c1nc(O)c(NS(=O)(=O)CCc2ncc(C)cn2)c(=O)n1-c1c(OC)cccc1OC', 'NC(=O)[C@H](Cc1ccccc1)NC(=O)CCCNc1cc(-c2cccnc2)nn1-c1ccc(N)c(Cl)c1', 'O=C1c2ccccc2C(=O)N1OCCCCCCCCO[C@@H]1[C@H](O)[C@@H](CO)O[C@H]1n1ccc(=O)[nH]c1=O', '[2H][C@](Nc1cc(Cl)c2ncc(C#N)c(NCC(C)(C)C#N)c2c1)(C1=CN(C2CC2)NN1)c1ccc(F)cc1', 'COc1ccc(N2CCN(C(=O)Cn3cc(S(=O)(=O)Cc4ccccc4C)c4ccccc43)CC2)cc1', 'CC[n+]1c(/C=C/N(C)c2ccccc2)n(-c2ccc(OC)cc2)c2ccc(-c3nc4ccccc4s3)cc21', 'CCNC(=O)c1c(C)c(Cl)cc(C(C)n2nc(-c3ccc4[nH]ccc4c3)c3c(N)ncnc32)c1OCC', 'CC(C)CNC(=O)c1ccc(OCC(N)=O)c(C(NC(=O)c2coc3ccccc23)c2ccc(F)cc2)c1', 'COc1ccc(C(NC2C(F)[C@@H](n3ccc(=O)[nH]c3=O)O[C@H]2CO)(c2ccccc2)c2ccccc2)cc1', 'CCC(OC(=O)c1ccccc1-c1nc2ccccc2o1)C(=O)Nc1ccc2c(c1)c1ccccc1n2CC', '[C-]#[N+]c1c(Nc2ccc(N3CCNCC3)cc2)ncnc1Oc1cc(F)c2c(cc(C)n2C(=O)CC)c1F', 'COc1c(OCc2ccccc2)ccc(CCNCC(O)c2ccc(OCc3ccccc3)cc2)c1Cl', 'CCOc1ccc(/C=C/C(=O)c2ccc(NC(=O)/C(=C/c3cccnc3)NC(=O)c3ccccc3)cc2)cc1', 'Cc1ccccc1C(=O)N1[C@@H](C(=O)N[C@@H](C)c2ccccc2)COC12CCN(C(=O)c1cccs1)CC2', 'Cc1ccc(C(=O)CSc2nc3cc(C(=O)NCc4ccco4)ccc3c(=O)n2CCC(C)C)c(C)c1', 'CC1(C)C[C@H](N2CC(F)C2)CN1c1nc(-c2ccccc2F)c(Cl)c2c1C(=O)N1CCNC[C@@H]1CO2', 'Cc1cc(Cl)cc(C)c1-c1cccc(C(O)/C=C/C2CCC(=O)N2CCCc2ccc(C(=O)O)cc2)c1', 'COc1c([C@H]2[C@H](C(=O)Nc3ccnc([C@@H](O)CN(C)C)c3)O[C@@](C)(C(F)(F)F)[C@H]2C)ccc(F)c1F', 'Cl.Cl.O=CNCC(CCCN1CCN(c2ccc(F)cc2)CC1)(c1ccccc1)c1ccccc1', 'CN1CC(=O)N(CCCOc2ccc(CN3CCOCC(O)(COc4ccc(Cl)cc4)C3)cc2)C1=O', 'CCCCOC(=O)OC(c1ccccc1)C(OS(=O)(=O)CCCNC(C)=O)C(C)(C)[C@@H](O)C(=O)O', 'CCOC(=O)C1=C(C)NC(C)=C(C(=O)OCC)C1c1cccc(Nc2nc(C)c(-c3ccccc3)s2)c1', 'O=C(NC(COCc1ccccc1)C(=O)Nc1ccc(Oc2ccccc2)cc1)c1cccc2cccnc12', 'COCCNS(=O)(=O)c1ccc(/C(=N\\\\O[C@@H]2CC[C@@H](OC)C2)C(=O)Nc2cnc(C3CC3)cn2)cc1', 'COCOC[C@@](C)(O)c1ccccc1CC[C@H](O)c1cccc(/C=C/c2ccc3ccc(Cl)cc3n2)c1', 'C=CNc1cc(OCCF)c(NC(=O)/C=C/CN2CCCCC2)cc1/C(N)=N/c1ccc(F)c(Cl)c1', 'Cc1nc(Nc2ccc(Oc3ccc(NC(=O)C(F)(F)F)cc3)cc2)nc(N2CCN(CCO)CC2)n1', 'CC(=O)N[C@H]1CCN(c2nnc(-c3cnc(-c4ccc5cc(C#N)cnn45)cc3NC(C)C)s2)C[C@H]1O', 'Cc1ccc(S(=O)(=O)N2C(=O)[C@@](CC(C)C)(NC(=O)c3ccccc3)[C@H]3c4ccccc4CCN32)cc1', 'CC(=O)Nc1ccc(S(=O)(=O)N2CCC(CNC[C@H](O)COc3cccc4[nH]c(=O)[nH]c34)CC2)cc1', 'C[NH2+]C1C(CO[C@@H]2OC(C(=O)O)[C@H](O)[C@H](O)C2O)[C@@H](O)C(COC(=O)c2cc(N)ccc2O)O[C@H]1C', 'CCc1cccc2c(-c3ccccc3)c(C(=O)NN=Cc3ccccc3OC(=O)c3ccc(OC)cc3)[nH]c12', 'CC[C@@H](C)C(=O)N[C@H](C(=O)N1CC[C@@H]2[C@H]1[C@@H](Oc1ccc(F)c(F)c1)CN2S(C)(=O)=O)[C@@H](C)OC', 'COc1ncc(-c2cccc3nc(C4CCCN4c4ncnc(N)c4C#N)n(-c4ccccc4)c(=O)c23)cn1', 'Cc1ccc(C2=NN(c3nc(-c4ccccc4)c4cc(Cl)ccc4n3)[C@@H](c3ccc(N(C)C)cc3)C2)cc1', 'C[C@H](CCC(=O)NCCS(=O)(=O)O)[C@H]1CC[C@@H]2[C@@]1([C@H](C[C@H]3[C@H]2CC[C@H]4[C@@]3(CC[C@H](C4)O)C)O)C', 'C/C=C1C(=C/C)\\\\c2c(-c3nc(-c4ccccc4)nc(-c4ccccc4)n3)cccc2C\\\\12CCCCC2.CC', 'CCC(C)[C@H](NC(=O)N1CCCCCC1)C(=O)NCCCC(c1ccc(F)cc1)c1ccc(F)cc1', 'CCCCCCCCCCCCCCCCC(Cl)(Cl)C(=O)Oc1ccc(CCCC)cc1N', 'Cc1ncncc1C(=O)N1CCC2(CCCCc3ccccc3OCCN(Cc3ccncc3)C2)CC1', 'CCCN(CCC)C(=O)c1cc(-c2nnc([C@](C)(N)Cc3ccccc3)o2)cc(C2(C#N)CCCC2)c1', 'CCC/C=C(/C(=O)Nc1ccc(N2CCOCC2)nc1)c1cc(-c2cncc(CN(C)C)c2)ccc1C', 'C#CCC1C[C@@H](C)O[C@@H](OC[C@@]23C[C@@H]4[C@H](C)CC[C@H]4[C@@]4(C=O)C[C@@H]2C=C(C(C)C)[C@@]34C(=O)O)[C@@H](O)N1', 'Cc1nc(C(F)(F)F)ccc1CNCC1CCC(CCCc2nc(N(C)C)c3ccccc3n2)CC1', 'CC(C)c1ccc(NC(=O)C(NCCN(C)C)c2ccc(/C=C/C(=O)Nc3ccccc3N)cc2)cc1', 'C[C@H](CCC(=O)NCCS(=O)(=O)O)[C@H]1CC[C@@H]2[C@H]3[C@H](O)C[C@@H]4C[C@H](O)CC[C@]4(C)[C@@H]3CC[C@@]21C', 'Cc1ccnc(C)c1-c1ccc(NC(=O)C(NC(=O)c2ccn3c2CNCC3)C2CCCCCC2)cc1', 'CCc1ncnc2c1ccn2[C@@H]1C[C@H](CCc2ccc3ccc(NC(C)C)nc3c2)[C@H]2OC(C)(C)O[C@H]21', 'CN(C)c1nc(NC2CCC(NC(=O)Cc3cccc(Oc4ccccc4)c3)CC2)nc2c1CCCC2', 'CCCCCCCCCCCCOc1ccc(C=NNc2nc(-c3ccccc3)c(C#N)c(=O)[nH]2)cc1', 'CC(C)NCCNC(=O)CN(CC(=O)N(C)N1Cc2ccccc2C1)c1cccc(-c2ccccc2)c1', 'CCCN1CCCCC(CC)(c2cccc(Oc3cc(C(N)Cc4cncn4C)ccc3C#N)c2)C1=O', '[H]/N=C1\\\\N(C)C2C(C)NC(C3CCCCC3Cl)NC2N1CC1CCC(C2NC(Cl)CN2C)CC1', 'CC(C)(C)COCCN1CCN(CC(=O)N2CCCC(c3ccc(F)cc3)c3ccc(F)cc32)CC1', 'CC(C)=CCC/C(C)=C/CC[C@@]1(C)Oc2c(c(O)cc3c2CN(C(CC(C)C)C(=O)O)C3=O)C[C@H]1O', '[C-]#[N+]c1ccc2c(n1)c(N1C[C@@H](CC)N(C(CC)c3ccc(OCC4CC4)cc3)C[C@@H]1C)cc(=O)n2C', 'CCCCOc1ccc2c3c1O[C@H]1C4(CC[C@@]5(OCCCO)[C@@H](C2)N(CC2CC2)CC[C@]315)OCCO4', 'C[C@H](CCC(=O)NCCS(=O)(=O)O)C1CC[C@H]2[C@@H]3[C@@H](O)CC4C[C@H](O)CC[C@]4(C)[C@H]3CC[C@]12C', 'CCC(=O)N1CC(C(=O)N[C@@H](CCN2C3CCC2CC(n2cnc4ccccc42)C3)c2ccccc2)C1', 'CC(Nc1ccc(N2CCN(Cc3ccccc3)CC2)cc1)C(=O)Nc1ccc(N2CCOCC2)cc1', 'CC[C@]12CC[C@@](C)(O)C[C@H]1CC[C@H]1[C@@H]3CC[C@H](C(=O)Cn4nnc5ccc(F)c(F)c54)[C@@]3(C)CC[C@@H]12', 'Cc1ccc(C(C)NC(=O)c2ccc(CN3CCc4c(c(C(=O)N5CCCC5)nn4C)C3)cc2)c(C)c1', 'CCn1c(=O)cc(C#CC2(O)CCCCC2)c2cnc(N3CCC(NCCc4ccccc4)CC3)nc21', 'CCCCCCCCCCOc1ccc(-n2c(C)c(C(=O)OCC)c(=O)c(C(=O)OCC)c2C)cc1', 'C[C@@H](CCC(=O)NCCS(=O)(=O)O)[C@@H]1CC[C@@H]2[C@H]3[C@H](O)C[C@H]4C[C@@H](O)CC[C@]4(C)[C@@H]3CC[C@]21C', 'CC(c1cc(-c2ccccc2)n[nH]1)N(C)Cc1ccc(C(=O)NCC2C3CC4CC(C3)CC2C4)c(=O)[nH]1', 'C.COc1ccc(OCCC(=O)C[C@H](CN2[C@H](C)CC[C@H]2C)[C@H](O)c2ccc3c(c2)OCCO3)cc1', 'CC(C)[Si](Sc1cccc(C(COC(=O)NC(C)(C)C)Cc2ccccc2)c1)(C(C)C)C(C)C', 'O=C(Nc1cccnc1)NC1CCCC[C@@H]1C(O)N1CC[C@@H]2[C@H](C3C=CC=CC3)Nc3ccccc3[C@@H]21', 'CC(C)(C)c1nnc2ccc(OCCCN3CCC(OC(c4ccccc4)c4ccccc4)CC3)nn12', 'CCOc1ccc(C=Cc2cc[n+](CCCC(=O)NCCSC(C)(CC)CC)cc2)c(OCC)c1', 'COc1ccc(C(O)(CCCN(CC(C)C)CC(C)C)c2ccccc2)cc1.O=C(O)/C=C\\\\C(=O)O', 'CCCCC1CCCN(C)C(=O)C1c1cccc(Oc2cc(C(C)(N)c3cncn3C)ccc2C#N)c1', 'C/C=C\\\\C(=N/C(Nc1ccc2[nH]c(C(=O)N(C)CC3(C)CCC3)cc2c1)=C(C)C)c1cc(OC)ccn1', 'CN1CCN(c2ccc(CN3C(=O)C(CCC4CCCCC4)n4c3nc3ccccc3c4=O)cc2)CC1', 'CCCCCCN(CCOc1ccc(CC(OCC)C(=O)O)cc1)C(=O)Oc1cc(C)c(C)cc1C', 'CC(C)(C)C1=CCC(c2cc(-c3ccc(C(C)(C)C)cc3)nc(-c3ccc(-c4ccccc4)nc3)n2)C=C1', 'C[C@H](CCC(=O)NCCS(=O)(=O)O)[C@H]1CC[C@H]2[C@@H]3[C@H](O)CC4[C@H](O)CCC[C@]4(C)[C@H]3CC[C@]12C', 'CCCCCCCCN(CCOc1ccc(CC(OCC)C(=O)O)cc1)C(=O)Oc1ccccc1C', 'COC1[C@H](OC(=O)/C=C/c2ccc(OCCN(C)C)cc2)CC[C@]2(CO2)[C@H]1[C@@]1(C)O[C@@H]1CC=C(C)C', 'CCN(CCCCCCOC(=O)c1ccc(OC)c(OC)c1)C1CCc2cc(OC)c(OC)cc2C1', 'C=C(C)/C=C(\\\\C)N(Cc1nc(N(C)CC2CCOC2)c2ccccc2n1)C(=O)c1cccnc1CCC', 'CCOC(Cc1ccc(OCCN(CCCC(C)C)C(=O)Oc2c(C)cc(C)cc2C)cc1)C(=O)O', 'C1OCC2OC12.N[C@@H]1COC[C@H]1O.N[C@H]1COC[C@@H]1O.N[C@H]1COC[C@@H]1O.[NH3+][C@H]1COC[C@@H]1O', 'CC(C)(C)CC1=CCC=C(c2nnc(CC3=CC=C(Cc4ccccc4)CC=C3)n2-c2ccccc2)C=C1', 'CC(CCC(=O)NCCS(=O)(=O)O)[C@H]1CC[C@H]2[C@@H]3[C@H](O)C[C@@H]4C[C@H](O)CC[C@]4(C)[C@H]3CC[C@]12C', 'CC1CCCC(CCC2=CCCc3c(-c4ccc(Nc5ncc(O)cc5F)cc4)c[nH]c3C=C2)CCC1', 'CC(NOCc1nn(-c2ccc(F)cc2)c2c1CCCC2c1ccccc1)C12CC3CC(CC(C3)C1)C2', 'C[C@H](CCC(=O)NCCS(=O)(=O)O)[C@H]1CC[C@@H]2[C@H]3[C@H](O)C[C@H]4C[C@H](O)CC[C@]4(C)[C@H]3CC[C@@]21C', 'CCOCCCn1c(Cn2cc(C(=O)N3CCN(C)CC3)c(-c3cccc4ccccc34)c2)cnc1C', 'CC(C)c1ccc(NC(=O)N(Cc2nc(C(=O)NCCCN3CCCCC3C)cs2)C(C)C)cc1', 'C=CCC(C(N)=O)C(CC(C)C)C(=O)NC1CCCCn2c(-c3ccc(-c4ccccc4)cc3)nnc21', 'CN(C)[C@H]1C[C@]2(O)CCC3=C(C=C2[C@@H](CC=O)[C@@H]1CC=O)C(CC=O)C[C@@]1(C)[C@H]3CCC12OCCO2', 'CN(C)c1cc(C#N)cc(-c2ccccc2)c1-n1c2ccc(C(C)(C)C)cc2c2cc(C(C)(C)C)ccc21', 'CCc1cccc(C(Nc2ccc(CNC(=O)OC(C)(C)C)cc2)C2N=C(c3ccccc3)NN2C)c1', 'Cc1ccc(NC(=O)C(=O)NCC(c2ccc(N(C)C)cc2)N2CCN(c3ccccc3)CC2)cc1C', 'CNCC(CC(C)(C)C)NC(=O)N1CCCC([C@@](O)(CCCCOC)c2cccc(F)c2Cl)C1', 'CC[C@]12CC[C@@](C)(O)C[C@@H]1CC[C@H]1[C@@H]3CC[C@H](C(=O)Cn4nnc5ccc(F)c(F)c54)[C@@]3(C)CC[C@@H]12', 'CC(C)(C)C1=NC2(CCCCCC2)N(C/C=C/c2cnc3c(c2)CC2(C3)C(=O)NC3=C2C=CCN3)C1=O', 'Cc1c(C(=O)NC2CCN(c3ccc(CN4CC(C)OC(C)C4)cn3)CC2)cccc1-c1cccnc1', 'CCCCCCN(CCCCCC)c1ccc(C#Cc2cc[n+](CCCCS(=O)(=O)O)cc2)cc1', 'CN1CC=C(C(C(=O)N2CCN(CCCCc3cccc4ccccc34)CC2)c2ccc(F)cc2)CC1', 'Cc1ccc(-n2ncc(C(=O)Cc3cnc(C4=CCC(N(C)C(=O)C(C)(C)C)CC4)c(C)c3)c2C)nc1', 'O=C(C[C@@H]1CCCN(Cc2ccccc2N2CCOCC2)C1)N1CCC2=C(C1)C(c1ccncc1)=NC2', 'CCC(C)C(=O)OCCNC(=O)OCCCCCCCCCCOC(=O)c1ccc2ccccc2c1', 'C[N+](C)(C)c1ccc(CC(=O)OCCCCCCn2ccc3cc(OCc4ccccc4)ccc32)cc1', 'CCN1CCCC1CCc1cccc(-c2c[nH]c(=O)c(NC(=O)c3ccc(N4CCCCC4)cc3)c2)n1', 'C1=CCCCC1.CCOCc1nc2c(N)nc3cc(-c4ccccc4)ccc3c2n1CC(C)(C)C(N)=O', 'C=C=C(OC(=O)N(C(C)C)C(C)C)C(O)CC1(CC#CCOCc2ccccc2)COC(C)(C)OC1', 'C=C/C(=N\\\\C=C/C)c1ccccc1/C=C\\\\C=C\\\\N/C(C)=C/CN(c1ccccc1)c1ccccc1C(=C)C', 'COC(=O)CC1c2ccccc2N=C(N(C)CCCCCN(C)C)N1c1ccc(-c2ccccn2)cc1', 'CC(=O)N1CCC[C@@H]1C(=O)N1CCC2(CC1)C[C@H](CCN1CCN(c3ccc(F)cc3)CC1)NC2=O', 'CC1=NCC(CNC(=O)c2cc(-c3ccc(N4CCOCC4)nc3)cc3c2c(C)cn3C(C)C)=C(C)C1', 'C=C(C)C(=O)N(c1c(C)cnc2ccc(-c3ccc(N4CC(N(C)C)C4)nc3)cc12)[C@H]1CC[C@H](OC)C1', 'CCC(=O)NC(C(=O)N1CCCC1CN(CCc1ccc(F)cc1)C(=O)c1cncn1C)C(C)(C)C', 'CCNC(=O)N1CCCN(c2ccc(C(=O)NCCCc3ccccc3)cc2Nc2ccccc2)CC1', 'COc1cc(-c2ccc(-c3ccc(N(C4CC4)[C@@H]4C[C@@]5(C)CC[C@](C)(C5)[C@@H]4C)nn3)c(O)c2)nnc1C', 'CCOC(=O)N1CC[C@]23c4c5ccc(OC)c4O[C@H]2C2(OC)CCC3(C[C@@H]2C(C)(O)C(C)(C)C)C1C5', 'CC(=O)N1CCCCCCCN(CC(C)C)Cc2cc(C(=O)NCc3snnc3C(C)C)ccc21', 'CCOC(Cc1ccc(OCCN(CCC(C)(C)C)C(=O)Oc2ccc(C(C)C)cc2)cc1)C(=O)O', 'CC(=O)Nc1ccc2nc(N3CCC(C(=O)N4CCN(c5cccc(C)c5)[C@H](C)C4)CC3)cc(C)c2c1', 'CCN(CC)C(=O)OCCCCCCS[C@@H]1O[C@@H]2O[C@]3(C)CC[C@H]4[C@H](C)CC[C@@H]([C@H]1C)[C@@]24OO3', 'CN1CCC[C@H]1COc1nc2c(c(C3CC4CCC(C3)N4)n1)CCN(c1cc(O)cc3ccccc13)C2', 'NCCCCCCCCCCCCCCCCCCCCCCCCC[Si](Cl)(Cl)Cl', 'CC[C@@H](C)[C@@H](C(=O)O)N1Cc2c(cc(O)c3c2O[C@@](C)(CC/C=C(\\\\C)CCC=C(C)C)[C@@H](O)C3)C1=O', 'Cc1c(NC(C)C)cccc1-c1ccc(C(N)=O)c2[nH]c3c(c12)C=CC(C)(C(=O)N1CCN(C)CC1)C3', 'CCCCOC(=O)c1ccccc1-c1c2ccc(=[N+](CC)CC)cc-2oc2cc(C(C)NCC)ccc12', 'CCCCn1c(-c2ccccc2)nc(-c2ccccc2)c1CN(Cc1ccccc1)Cc1ccccc1C', 'CC1(OC(=O)C(C)(C)C)CC(CNc2cc(N3CCc4ccccc4CC3)nc(-c3ccccn3)n2)C1', 'CC(CCC(=O)NCCS(=O)(=O)O)C1CCC2C3C(O)C[C@@H]4C[C@H](O)CC[C@]4(C)C3CC[C@]12C', 'CCc1cccc(CC)c1NC(C)(C)c1cccc(-c2c(CNc3ccccc3)ccc3ccccc23)n1', 'CC(CCC(=O)NCCS(=O)(=O)O)C1CCC2C3C(O)CC4CCCCC4(C)C3CC(O)C12C', 'C[C@H](CCC(=O)NCCS(=O)(=O)O)[C@H]1CC[C@H]2[C@@H]3[C@H](O)C[C@H]4C[C@H](O)CC[C@]4(C)[C@H]3CC[C@]12C', 'O=c1n(CCCCc2cccc(F)c2)c2ccccc2n1C1CCN(CCCCc2ccccc2)CC1', 'CCCCC1[CH-]C=C(CCc2ccc(O)c(OCC(O)[C+]3C=C(C(C)CCC(O)C(C)O)C=N3)c2)O1', 'CC(=O)Nc1c(C)nn(-c2ccccc2)c1N1CCC(C(=O)N2CCC(Cc3ccccc3)CC2)CC1', 'Cc1ccc(CNC(=O)C(=O)NCC(c2ccc(N(C)C)cc2)N2CCN(c3ccccc3)CC2)cc1', 'C=C(Nc1cc(C(C)(C)C)cc(C#N)c1OC)c1ccc(C)c(-n2cc(C(=O)NCC(C)(C)C)cn2)c1', 'CC[C@H]1CCCCN1C(=O)CC(NC(=O)C1CC(C)(C)C1)C(=O)NC(C)c1nc2c(F)cccc2[nH]1', 'COC(=O)N1[C@@H]2C=C[C@H](C(OC)OC)[C@H]1C[C@@H]2C(=O)O[C@@H]1C[C@H](C)CC[C@H]1C(C)(C)c1ccccc1', 'CCCCC(CC)C(=O)N1CCN(C(=O)CCCSc2nnc(-c3ccccc3)n2CC)CC1C', 'CC(=O)C1C[C@@]2(C)[C@@H](CCC23OCCO3)C2=C1C=C1C(C(C)=O)[C@H](C(C)=O)[C@@H](N(C)C)C[C@]1(O)CC2', 'CC(C)N(CCOc1ccc2c(c1)nc(Cl)c1cc(OCCN(C(C)C)C(C)C)ccc12)C(C)C', 'CCCCC(c1c(F)cc(NC2CN(CCCF)C2)cc1P)c1cc2ccccc2n1CC(C)C', 'CCN(CC)c1ccc(/C=C/c2ccc3c(C#N)c(/C=C/c4ccc(N(CC)CC)cc4)ccc3c2)cc1', 'Cc1ccc(/C=C/C(=O)N2CCC(C(NC3CCC(c4c[nH]c5ccncc45)CC3)C(N)=O)CC2)cc1', 'CC(C)(C)C(NC(=O)c1cn(COCC[Si](C)(C)C)c2ncc(C3CC3)nc12)C(=O)N1CCCC1', 'CCOC(=O)C1CCN(c2nc(-c3cc(NC4CCCCC4)ncc3C3CC3)cc3cnccc23)CC1', 'Cn1c(-c2nc3cc(C(=O)N4CCC[C@H](NC(=O)CCC(C)(C)C)C4)ccc3n2C)cc2ccccc21', 'CCCc1cccc(C(=O)N(CCCN)C(CC)c2nc3c(c(=O)n2Cc2ccccc2)C(C)=NC3)c1', 'CC(C)n1nc(C(C)(C)C)c2cnc(Nc3nc(N4CCCC4)cc(N4CCNCC4)n3)cc21.Cl', '[H][O+]=C1C(C(C)(C)C)=CC(=C(c2cc(C)c3cccccc2-3)c2cc(C)c3cccccc2-3)C=C1C(C)(C)C', 'CCO[Si](CCCNCC(O)COCCC[Si](OCC)(OCC)OCC)(OCC)OCC', 'O=c1cncc(-c2nc3ccccc3n(C3CC4CCCCC3CN4C3CC4CCCC(C4)C3)c2=O)[nH]1', 'C=C[C@H](C)c1ncc(-c2ccc(-c3ccc4nc([C@@H](NC(=O)OC(C)(C)C)C(C)(C)C)[nH]c4c3)cc2)[nH]1', 'CCc1cnc(N2CCC(CCCOc3ccc(C(=O)N[C@@H](C(N)=O)[C@H](C)CC)c(F)c3)CC2)nc1', 'Cc1cc(-c2[nH]c3cc(-c4ccc(N5CCN(C(=O)OC(C)(C)C)CC5)nc4)ccc3c2C)cc(C)n1.[H][H]', 'CN(C)Cc1ccc(/C=C/C2NNC3CC([C@@H]4C[C@@]45C(=O)N(CC(N)=O)c4ccccc45)CCC23)cc1', 'CC[C@@H](C)N(CC(=O)N1CCCN(c2ccc(-c3ccc(C)cc3)nn2)CC1)C(=O)c1ccc(C)cc1', 'CCCC[C@H]1C(=O)N(Cc2cccc3ccccc23)C[C@H]2N1CCN(C)N2C(=O)NCc1ccccc1', 'CC(C)c1cccc(C(C)C)c1NC(c1ccccc1)c1nc(-c2ccccc2)n(C)c1-c1ccccc1', 'CCN1c2cc3c(cc2C(C)CC1(C)C)C(C(F)(F)F)=c1cc2c(cc1O3)=[N+](CC)C(C)(C)CC2C', 'CC1=C[C@]23C(=O)[C@@H](C=C(CO)[C@@H](O)[C@]2(O)[C@H]1OC(=O)c1cc(C)n(C)c1C)[C@@H](C)C(C)(C)CC[C@@H]3C', 'COc1cc(OC)nc(CN2CCC(c3ccc4[nH]c(-c5cc(C)nc(C)c5)c(C(C)C)c4c3)CC2)n1', 'CC(C)(C)[C@@H](NC(=O)c1cn(COCC[Si](C)(C)C)c2ncc(C3CC3)nc12)C(=O)N1CCCC1', 'CC(=O)N1CCCN(Cc2ccccn2)CCCN(C(=O)CCCc2ccncc2)Cc2ccccc21', 'C[C@H]1CC[C@H]2[C@H](CCC3C4[C@@H]5C[C@@H]5[C@H](C(=O)Cn5cc(C(=O)N6CC(F)(F)C6)cn5)[C@@]4(C)CC[C@@H]32)C1', 'Cc1cc(C)n(-c2cccc(C(CC(=O)O)N3CC4(CC(CCc5ccc6c(n5)NCCC6)C4)C3)c2)n1', 'CN[C@@H](C)C(=O)N[C@H](C(=O)N1CC[C@@H]2[C@H]1[C@H](c1c[nH]c3cc(F)ccc13)CN2C1CCCC1)[C@@H](C)O', 'COC(=O)[C@H]1CCCN1C(=O)CCC(=O)O[C@H]1CC[C@H]2[C@@H]3CCC4=CC(=O)CC[C@]4(C)[C@H]3CC[C@]12C', 'C=C1[C@@H](NC(=C)C(C)(CC)C(=C)NCC(C)(F)F)[C@@H](CC)Cc2ccc(C)cc2N1CC(F)(F)F', 'CCCCCCCCCC(=O)ON=C(CCCCCC)c1cc(OC)c2c(c1OC)C(=O)C=CC2=O', 'CC.CCCN(CCCC(F)F)Cc1c(OC)cc(C)c2[nH]ccc12.O=c1[nH]ccc2ccccc12', 'CC(=O)N(C)C1CCN(C2CCC(NC(=O)c3cc4c(C)nn(C5CCCCC5)c4s3)CC2)CC1', 'CCCCC(CC(=O)Nc1cc(C(=O)O)ccc1C(C)(C)C)c1ccc(OCCCOC)cc1OC', 'COCCCC1CCC(Cc2cc(-c3cccc(NCC4C[C@@H](C)O[C@@H](C)C4)n3)c(Cl)cn2)CC1', 'CCC(C)[C@H](NC(=O)C(C)(C)[N+](C)(C)C)C(=O)N(C)[C@H](C[C@@H](O)c1nc(C(=O)O)cs1)C(C)C', 'Cc1cc(NC(=O)NCCN2CCC(C(=O)N(C)Cc3ccccc3)(c3ccccc3)CC2)cc(C)n1', 'CC(C)=CCC(C)(C)[C@H](O)/C=C/[C@@H]1[C@H]2C[C@@H](CCCC(C(N)=O)S(=O)(=O)C(C)C)O[C@H]2C[C@H]1O', 'CC(CCC(=O)NCCS(=O)(=O)O)[C@H]1CC[C@H]2[C@@H]3[C@@H](O)C[C@@H]4C[C@H](O)CC[C@]4(C)[C@H]3CC[C@]12C', 'Cc1ccc(NC(=O)N2CCC3(CC2)CCN(C(=O)c2cc(C)n(Cc4ccncc4)c2C)C3)c(C)c1', 'CCCC1CCC(C(=O)Nc2ccc(-c3nc4cc(NC(=O)C5CC6CCC5C6)ncc4[nH]3)cc2)CC1', 'CC(CCC(=O)C(CN)S(=O)O)C1CCC2C3C(O)CC4CC(O)CCC4(C)C3CC(O)C12C', 'CC(=O)O[C@H]1CC[C@@]2(C)C(=CC[C@H]3[C@@H]4C[C@@H](OC(C)=O)[C@H]([C@@](C)(O)c5cc(C)no5)[C@@]4(C)CC[C@@H]32)C1', 'CC.CC1CCCC2(C)C1CCC1(C)Oc3cc(-c4cccnc4)oc(=O)c3C(O)C12.COC(C)=O', 'CCCC(CCC)CN(CCOc1ccc(CC(OCC)C(=O)O)cc1)C(=O)Oc1cccc(C)c1', 'Cc1cc(O[C@H]2O[C@@H]3O[C@]4(C)CC5[C@H](C)CCC([C@H]2C)[C@]53OO4)c(C)cc1CC(=O)N1CCCCC1', 'O=c1n(CCCCc2ccc(F)cc2)c2ccccc2n1C1CCN(CCCCc2ccccc2)CC1', 'CN1CCN(C(C(=O)N(C)CCC2CC(C(F)(F)F)CC(C(F)(F)F)C2)C2CCCCC2)CC1', 'CC(C)CCN(c1ccc(OCc2ccc(Cl)cc2)cc1)[C@H]1CCCN(C(=O)C(N)CC(C)C)C1', 'CCCCCCCCCCCCCCCCCCNC(=O)CC12CC3SC(C1)SC(C2)S3', 'Cc1[nH]c2c(C(=O)N3CCC[C@@H](COc4cccc(CN(C)Cc5cnn(C)c5)c4)C3)cccc2c1C', 'COc1cccc(CN2C(=O)N(c3ccc(-c4cn[nH]c4)cc3)CC23CCN(CC2CCCC2)CC3)c1', 'Cc1ccc(F)c([C@H]2CNC[C@@]2(NC(=O)OC(C)(C)C)c2ncc(OCCN3CCCCC3)cn2)c1', 'CCN(CC)CCCC(C)N(Cc1cccc(Oc2ccc(Cl)cc2)c1)C(=O)NC1CCCCC1', 'COc1cccc2c1C(Nc1ccc3cc(NC(=O)NC4CC5CCCC(C4)N5C)ccc3n1)CCC2', 'CCc1cccc(CC)c1NC(=O)N1Cc2[nH]cc(CC(=O)c3ccc(N4CCN(C)CC4)cc3)c2C1', 'C=CC[C@H](C(N)=O)[C@@H](CC(C)C)C(=O)N[C@H]1CCCCn2c(-c3ccc(-c4ccccc4)cc3)nnc21', 'Cc1cc[n+]([O-])c(C)c1C(=O)N1CCC(C)(N2CCC(N(c3ccccc3)c3ccccn3)CC2)CC1', 'CN[C@@H](C)C(=O)N[C@H]1Cc2c([nH]c3ccccc23)[C@H]2CCC(C(=O)N[C@@H]3CCCc4ccccc43)N2C1', 'Cc1ccc(C(=O)Nc2cccc(N3CCOCC3)c2)cc1Nc1cccc(CN2CCN(C)CC2)c1', 'CC1CCCC(NC(=O)CN2CCN(CC(=O)O)CCN(CC(=O)O)CCN(CC(=O)O)CC2)C1', 'Cc1cc(CC(=O)c2cnn(-c3ccc(C4CC4)cn3)c2C)cnc1C1CCC(N2CCOCC2)CC1', 'CN[C@@H](C)C(=O)N[C@@H](COC)C(=O)N1CC[C@@H]2[C@H]1[C@H](c1c[nH]c3cc(F)ccc13)CN2C1CCCC1', 'CC(NC(=O)C1CCCc2c1nn(Cc1ccccc1)c2-c1cccc(F)c1)C1(C)CC2CCC(C2)C1', 'CN.[H]/N=C/c1ccc2cc(C(=O)N(CCO)C3CCC(N)CC3)n(Cc3cccc4ccccc34)c2c1', 'C[C@H](Oc1cc(-n2nc3n(c2=O)CCCC3)c(F)cc1C(=O)NC1CCN(C)CC1)C1CCCCC1', 'CCCN(CCC)C(=O)C1=Cc2ccc(C(=O)N3CC4CCC(C3)N4c3ccccc3)cc2N=C(N)C1', 'O=C(NCCC1CCN(Cc2ccccc2)CC1)C1CCN(c2cnn(Cc3ccccc3)c(=O)c2)C1', 'CCCCCCN(CCOc1ccc(CC(OCC)C(=O)O)cc1)C(=O)Oc1c(C)cc(C)cc1C', 'CN1CCC[C@H]1COc1nc2c(c(C3C[C@H]4CC[C@@H](C3)N4)n1)CCN(c1cc(O)cc3ccccc13)C2', 'C[C@@H](CCC(=O)NCCS(=O)(=O)O)[C@@H]1CC[C@@H]2[C@H]3[C@H](O)C[C@H]4C[C@@H](O)CC[C@]4(C)[C@@H]3CC[C@@]21C', 'CCCCOCCCCOc1cc2ccc(-c3ncc(CCCCC(C)CC)cn3)c(F)c2c(F)n1', 'CCCN(CCC)CCCCOc1cc(OC)cc(OC)c1C(=O)C=Cc1ccc(OC)c(OC)c1', 'Cc1cc(C)c(/N=C2\\\\P(C(C)(C)C)CCC2(c2cccc(-c3ccccc3)c2O)C(C)(C)C)c(C)c1', 'C=CC(=O)C[C@H](C)N(C)c1nc(OC[C@@H]2CCCN2C)nc2c1CCN(c1cccc3ccccc13)C2', 'CC[C@H](C)N(CC(=O)N1CCCN(c2ccc(-c3ccc(C)cc3)nn2)CC1)C(=O)c1ccc(C)cc1', 'C[C@H](CCC(=O)NCCS(=O)(=O)O)[C@H]1CC[C@H]2[C@@H]3[C@@H](O)C[C@H]4C[C@H](O)CC[C@]4(C)[C@H]3CC[C@]12C', 'C[C@@H](CCC(=O)NCCS(=O)(=O)O)[C@H]1CC[C@H]2[C@@H]3[C@H](O)C[C@@H]4C[C@H](O)CC[C@]4(C)[C@H]3CC[C@]12C', 'C/C=C\\\\C(Nc1nc2c(c(=O)[nH]1)CN(Cc1ccccc1)CC2)Oc1cccc(CN2CCCCC2)c1', 'C.COc1ccc(OCCC(=O)CC(CN2[C@H](C)CC[C@H]2C)[C@H](O)c2ccc3c(c2)OCCO3)cc1', 'CCOc1ccc(-n2c(C)c3c(C)nnc(N4CCN(c5ccc(C)cc5C)CC4)c3c2C)c(OC)c1', 'CCCCC[Si]1CCC(CCC2CCC(c3ccc(-c4ccc(C(F)(F)F)cc4)cc3)CC2)CC1', 'Cc1ccc(CSC2=NNC3N(CCC(C)C)C(=O)C4CCC(C(=O)NCC(C)C)CC4N23)cc1', 'CCOC1CCCC1.CNCCCOc1ccc(F)c(-c2nc(N)c(C)c(-c3c(C)noc3C)n2)c1', 'Cc1ccc(NC(=O)N(CCCN2CC3CCCC2CC3Cc2ccccc2)c2cccc(F)c2)cc1', 'CC(=O)N1CC[C@@H]1C(=O)N[C@@H](CCN1[C@@H]2CC[C@H]1CC(n1c(C)nc3ccccc31)C2)c1ccccc1', 'CCCCCCN(CCCCCC)c1ccc(C#CC(CCC[n+]2ccccc2)S(=O)(=O)O)cc1', 'CN(C)CCCOC1=CCC(c2c[nH]c3ncc(-c4ccc5c(c4)OCC4CN(C)CCN54)cc23)C=C1', 'Cc1ccc(-c2cccc(CCCCc3nc(-c4cc(C)cc(C)c4)c4ccc(C(C)C)cc4n3)n2)cc1', 'C[C@H](CCC(=O)NCCS(=O)(=O)O)[C@H]1C[C@@H](O)[C@H]2[C@@H]3CC[C@@H]4C[C@H](O)CC[C@]4(C)[C@H]3CC[C@@]21C', 'CC(C)Cn1cc(C(=O)NCCN2CCN(Cc3ccccc3)CC2)c2c3ccccc3n(C)c2c1=O', 'C=C/C=C\\\\C(=C/N(C)CCC(N)=O)c1ccncc1/C=C/C(=C)Nc1ccc(CN2CCOCC2)cc1', 'CC(=O)CC(Cc1cc(OCCc2ccc3c(n2)NCCC3)n(C)n1)c1cc(C(C)(C)C)ccc1C#N', 'CCCC1=C([C@H](O)CC/C(C)=C/c2ccc(CO)o2)[C@H](CO)[C@@H]2C(=O)N(C3CCCCC3)C(=O)[C@@H]2C1', 'Cn1c(=O)n(CC(C)(C)C)c2ccc(C3CCC(C)(C)C(NC(=O)c4ccc5ncccc5c4)C3)nc21', 'Cc1cccc([C@H](Nc2nccn(-c3cc(C(=O)NC4CC4)ccc3C)c2=O)[C@@H](C)CN2CCCC2)c1', 'CCC(C)N(CC(=O)N1CCCN(c2ccc(-c3ccc(C)cc3)nn2)CC1)C(=O)c1ccccc1C', 'Cc1nc(N2CCC(N3CCCC3)CC2)nc2ccc(NC(=O)C=Cc3ccc(OC(C)C)cc3)cc12', 'C=C.C=CC.CCC[C@]1(C(=O)N2CC(OC(C)C)C2)CCCc2cc(-c3c(F)cccc3F)nnc21', 'CCN(CC)C(=O)OCCCCCCS[C@@H]1O[C@@H]2OC3(C)CC[C@H]4[C@H](C)CC[C@@H]([C@H]1C)[C@@]24OO3', 'CCOC(=O)C[N+]12CCC(CC1)[C@H](NCc1ccccc1OC)[C@@H]2C(c1ccccc1)c1ccccc1', 'CCCCC(=O)Nc1ccc2c(N(C)CCCN(C)Cc3ccncc3)c3cc(OC)ccc3nc2c1', 'COCCCOc1cc(C2NC(C(=O)OCC34CC5CC(CC(C5)C3)C4)CC2C(C)=O)ccc1OC', 'COCC[C@H](Cc1ccc(C)cc1)[C@@H](Oc1ccccc1)[C@H](C)OC(=O)[C@H](C)NC(=O)OC(C)(C)C', 'C/C(=C\\\\C=C(/C)C1=C(c2cccc3[nH]ccc23)CCCc2cc(N)ccc21)O[C@H]1CCN(CCCF)C1', 'COc1ccc([C@H](CCN2C3CCC2CC(n2c(C)nnc2C(C)C)C3)NC(=O)C2CCCC2)s1', 'COc1cc(N2CCN(C(C)c3ccc(OCCCNC4CCCC4)c(C)c3C)CC2)ccc1Cl', 'CC1CN(C)CCN1c1ccc(C[C@@H](C#N)NC(=O)[C@@H]2[C@H]3CC[C@H](C3)N2C(=O)OC(C)(C)C)c(F)c1', 'COCCOCCOCCOCCn1cc(COC(=O)[C@H](C)NC(=O)[C@H](C)/N=C(\\\\C)C(C)C)nn1', 'CC1/C=C\\\\C(c2nnc([C@@H]3CCCN(CC4CCCCC4)C3)o2)=C/C/C(c2ccc3occc3c2)=N\\\\N1', 'CCCCCCCCOc1cnc(-c2ccc3cc(OCCCCCCCC)nc(F)c3c2F)nc1', 'CCN(CC)CCOc1ccc(Nc2ncc3cc(-c4ccc(C(C)(C)C)cc4)c(=O)n(C)c3n2)cc1', 'COc1cc(C2(C(=O)O)CC[C@H]3[C@@H]4CCC5N(C)C(=O)CC[C@]5(C)[C@@H]4CC[C@@]32C)cc(OC)c1OC', 'CC(C)Oc1cc(-c2ccc(CN3CCN(C[C@H](C)CN4CCc5ccccc5C4)C3=O)nc2)ccn1', 'CCOC(=O)c1ccc(CCN(C)CCCC(C(=O)OC)(c2ccc(OC)c(OC)c2)C(C)C)cc1', 'CC(C)=CCC/C(C)=C/CC[C@]1(C)Oc2c(c(O)cc3c2CN(CCC[C@H](C)C(=O)O)C3=O)C[C@@H]1O', 'CCN1C(=O)C(C)(C)C(=O)N(C)c2cc(CN(Cc3cccnc3C)Cc3ccc(C)nc3C)ccc21', 'COCC12CCC(C)CC1CCC1C3CCC(C(=O)Cn4nc5cc(F)cc(F)c5n4)C3(C)CCC12', 'CCN1CCN(C(=O)CC2CCN(C(=O)c3cn(-c4ccc(C)cc4)nc3-c3ccccc3)CC2)CC1', 'CCc1cnc(N2CCC(COc3ccc(C4=CCC(C(=O)N5CCCC5C#N)CC4)cc3)CC2)nc1', 'C[C@H](CCC(=O)NCCS(=O)(=O)O)C1CCC2C3C(O)CC4C[C@H](O)CC[C@]4(C)C3CC[C@@]21C', 'C=C/C(C)=C\\\\C=C/C.C=CC(C)CC1CC1.O=CNc1ccc(-c2nc3cc(NC=O)ncc3[nH]2)cc1', 'C=CCN1C[C@H](C(=O)N(CCCN(C)C)C(=O)Nc2ccccc2)C[C@@H]2c3cccc4[nH]cc(c34)C[C@H]21', 'C/C=N\\\\N1C=CC(Oc2ccc(Nc3ncnc4ccc(C)c(OCC(C)CCCC)c34)cc2C)=CC1', 'O=C(CC1CCC(CCN2CCN(c3nccc4c3OCC4)CC2)CC1)c1ccc(-n2cccn2)cc1', 'CCCCC1C(c2ccc(C)cc2)=NN(c2ccc(F)cc2F)C1(C)C(=O)NCCCCC(C)(C)O', 'CCN(CCN(C)C)C(=O)CN(Cc1ncccc1CNC(=O)C(F)(F)CC)C(=O)OC(C)(C)C', 'C[C@H](CCC(O)C(N)C(=O)S(=O)(=O)O)[C@H]1CCC2C3C[C@H](O)C4CCCC[C@]4(C)C3CC[C@@]21C', 'CCCCCCCCCCCCCCCCOCC(COCC(F)(F)F)OP(=O)(O)OC.[Li]', 'CCCCCCCCCCCCC(OC(=O)NCCCS(C)(=O)=O)c1ccc(OC)c(OC)c1', 'CC(C)[C@H](NC(=O)[C@@H](N)[C@@H](C)O)C(=O)N1CCC[C@H]1C(=O)N(C)CC(=O)N(C)[C@H](C(=O)O)C(C)C', 'CC(C)(C)OC(O)N1CCCC1c1nc2ccc(CN(Cc3ccc(N)cc3)c3ccccc3)cc2[nH]1', 'CC1(C)O[C@@](C)(C(O)CCCCOC2CCCCO2)CC[C@@H]1OC(=O)Nc1cccc2ccccc12', 'C=Cc1cc(-c2cc(N)c(N3CCN(C(=O)CCOC)[C@H](CCC)C3)nc2C2CC2)c2ccccc2n1', 'CC(C)(C)C(c1nc(-c2ccccc2)cn1Cc1ccccc1)N(CCCN)C(=O)NCc1ccco1', 'CCCOCCC.CN[C@H]1[C@H](O)C[C@H]2[C@@H]3CCc4cc(O)ccc4[C@H]3CC[C@@]21C.CS(=O)(=O)O', 'COC1CCN(c2ccc(N3CCN(Cc4ccco4)CC3)c(C3=CCC(C)(C)CC3)c2)CC1.Cl', 'CC(C)[Si](Sc1ccc(CCN(Cc2ccccc2)C(=O)OC(C)(C)C)cc1)(C(C)C)C(C)C', 'CC(=O)OCC(=O)N[C@H](C)CCC1=CC(=O)C=C2CC[C@@H]3[C@H](CC[C@]4(C)[C@@H](OC(C)=O)CC[C@@H]34)[C@]21C', 'CCCCCC(CC(=O)Nc1cc(C(=O)OC)ccc1C(C)(C)C)c1ccc(OC)c(OC)c1OC', 'C/C=C\\\\C[C@@H](C(O)c1c(O)cc(OCC)cc1OCC)[C@H](c1ccccc1)[C@@H](C(=O)N(C)C)[C@H](C)O', 'CC1C=C([C@@H](N)Cn2c3c(c4ccccc42)C(C)Cc2c-3n(-c3ccccc3)c3ccccc23)CC(C)C1', 'COC[C@]12CCC(C)CC1CCC1C3CC[C@H](C(=O)Cn4nc5cc(F)cc(F)c5n4)C3(C)CCC12', 'CCN1CCN(c2ccc(Nc3ncc(CCc4cc(OC)cc(C(=O)CC5CC5)c4)cn3)cc2)CC1', 'CC(=O)N1CCCN(Cc2cccnc2)CCCN(C(=O)CCCc2ccncc2)Cc2ccccc21', 'CCOC(Cc1ccc(OCCN(CCCCc2ccccc2)C(=O)OCC(C)(C)C)cc1)C(=O)O', 'CCOC(=O)COc1ccc(C(CC)(CC)c2ccc(OCC(O)C(C)(C)C)c(C)c2)cc1C(N)=O', 'Cc1cc2c(cc1Cc1ccc(C(=O)NNc3cnc4c(c(C)nn4C)c3C)o1)C(C)(C)CCC2(C)C', 'CNCC(C)CCC1(O)CC2CC3C4CCC5CC(O[Ga])CCC5(C)C4CCC3(C)C2C1', 'CC(C)(C)OC(=O)NCCCCN(Cc1nccc2c1[nH]c1ccccc12)C1CCCc2cccnc21', 'CCOC(=O)[C@@H]1[C@H]2CC[C@H](N2C)C[C@@H]1OC(=O)C3=CC=CC=C3', 'COc1cc(CO[C@H]2CNCC[C@@H]2c2ccoc2)cc(OC)c1', 'O=C(Cc1ccccc1C(=O)O)NC1CCOC2(CCCC2)C1', 'COCCN1C(=O)C(O)=C(C(C)=O)[C@@H]1c1ccc(C(C)C)cc1', 'O=C(NCC1(C(=O)O)CCCCC1)C1CCOc2ccccc21', 'COC(=O)[C@@H]1CCCN1C(=O)CC1Cc2ccc(OC)cc2C1', 'Clc1ccc2[nH]cc(C3CCN(N4CCCCC4)CC3)c2c1', 'NC(CCCCC(F)(F)F)c1ccc(CCCC(=O)O)cc1', 'CCC1CCCN1C(=O)CCC(=O)c1ccc2c(c1)OCCO2', 'CC(C)[C@H]1C(=O)OCCCCCC2(O)c3ccccc3C(=O)N12', 'COC(=O)[C@@]12C=C[C@@H](CC1)[C@H]1C(=O)N(C3CCCCC3)C(=O)[C@H]12', 'COc1c(C)c2c(OCCCN(C)C)ccccc-2c1C(=O)O', '[H]/N=C(/c1ccc(NC(=O)NCC2=CC=C(F)CC2)nc1)N(C)C', 'CN(C(=O)CC1CC2CCC1C2)c1ccc(OCC(=O)O)cc1', 'c1ccc2c(c1)CCN(c1nccc(NCc3ccncc3)n1)C2', 'C[NH+]1CCN(NC(=O)CCN2C(=O)c3ccccc3C2=O)CC1', 'CCc1c(C(=O)O)c(=O)c2ccccc2n1[C@H](CO)C(C)(C)C', 'CCC(CC(=O)NC(CO)c1cc(F)c(F)c(F)c1)C(C)C', 'CC1CN(C(=O)c2cn(Cc3cccc(F)c3)nn2)CC(C)N1', 'CCCCc1nc2c([nH]1)c(N)nc1cc(-c3ccncc3)ccc12', 'COc1cc2c(cc1OC)C13CC(O)CCC1=CCN3CC2O', 'O=C(NC1(C(=O)O)CCOC1)C1CCC(c2ccccc2)CC1', 'COc1cccc([C@@H]2CC(=O)NC(C)=C2C(=O)OC(C)(C)C)c1', 'O=C(O)[C@@H]1CC[C@H](C(=O)NCc2ccccc2OCC2CC2)C1', 'Cc1ccc([C@H](C)NC(=O)[C@H]2[C@H](C(=O)O)[C@@H]3CC[C@H]2O3)c(C)c1', 'CN(C)Cc1ccc(-c2ccccc2CO)c(CO)c1.O=CO', 'COc1cccc(F)c1C1CCN(c2cc(NN)ncn2)CC1', 'CCC1(CC)C(=O)N(C(=O)OC(C)(C)C)c2ccc(C=O)cc21', 'COc1cccc(C(C)(CC(=O)O)NC(=O)C2CC=CCC2)c1', 'C=C[C@H]1C(=O)N(C(=O)OC(C)(C)C)[C@@H]1COCc1ccccc1', 'C#CCOc1ccc(C(=O)NCC2(O)CCCCC2)cc1OC', 'CCOC(=O)C1=C[C@@H](C(C)C)N(C)[C@H]1c1ccc(C(=O)O)cc1', 'COC12CCC(C(=O)Nc3cc(C)c(O)c(C)c3)(CC1)C(=O)C2', 'CCCCOC(=O)C1C(=O)c2ccccc2OC12CCNCC2', 'CC(C)(C)OC(=O)N[C@@H]1C=C[C@H](OC(=O)c2ccccc2)CC1', 'CCOC(=O)C(C)OC(=O)Nc1c2c(cc3c1CCC3)CCC2', 'C#Cc1ccc(C[C@H](NC(=O)OC(C)(C)C)C(=O)OCC)cc1', 'C[C@@H](NC(=O)NC1(c2ccc(F)cc2)CCC1)c1nncn1C', 'COc1cccc(C2CCCN2C(=O)CC2(C(=O)O)CCC2)c1', 'COc1ccc2cc1OC1C(=O)CC[C@]3(O)[C@@H]1CCN(C)[C@H]3C2', 'OC1CN(CN2CCOCC2)c2nnc(-c3cnccn3)n2C1', 'COC(=O)C1(C(=O)OC)CC/C=C\\\\CN(Cc2ccccc2)C1', 'O=C(O)c1ccccc1CC1CCN(C(=O)C2CCOC2)CC1', 'COc1ccccc1C1(C(=O)N2CCC3(CC2)OCCO3)CC1', 'Cc1[nH]cnc1C(=O)NCC1CCCN(C(=O)c2cn[nH]n2)C1', 'CNC1(C)Cc2ccc(O)c3c2C2(C)[C@@H](O3)C(=O)CC[C@@]12OC', 'COC(=O)/C=C/c1ccc2c(c1)CCC2NC(=O)OC(C)(C)C', 'C=C1CCC(=O)[C@H]([C@H](Nc2ccc(OC)cc2)C(=O)OCC)C1', '[CH]=C1[C@H](O)C[C@@H](OCOC)[C@H]2O[C@](C)(OC)[C@@](C)(OC)O[C@H]12', 'COC(=O)C12CCCCC1CN(C(=O)OCc1ccccc1)C2', 'N/C(=N\\\\Cc1ccc(-n2ccnc2)c(F)c1)NCC1CCCO1', 'Cc1cnc(CN(C)C(=O)C2CNNC2c2cccc(F)c2)[nH]1', 'C=CCN(C(=O)c1cc(OC)c(OC)c(OC)c1)[C@@H]1C=CCC1', 'COC(=O)C(C(=O)OC1CC2CCC(C1)N2C)c1ccccc1', 'Cc1ncnc(OCC2CCN(c3ncc(F)cn3)CC2)c1C', 'CCc1nn(C)c(CN(CCOC)CCC(N)=NO)c1Cl', 'CCCNc1nc(NCCS(=O)(=O)NC)nc(N(C)C)n1', 'CC(O)CC1CCCN1Cc1cccc(OCC(F)(F)F)c1', 'CCC(=O)c1ccc(CCC(NC(C)=O)(C(C)=O)C(C)=O)cc1', 'C=CCC1(N2C[C@@]34C=C[C@@H](O3)C(C(=O)O)[C@H]4C2=O)CCCCC1', 'Nc1nc(Nc2ccccc2)cc(N2CCc3ccccc3C2)n1', 'CC(C)(C)c1nc(C2(c3ccccc3F)CCCCC2)cs1', 'CC(C)c1nnc2n1CCN(C(=O)Nc1cccc(F)c1)C2C', 'CCOC(=O)Oc1ccc(C(=O)N2CC3CCCCC3C2)cc1', 'CC1CN(C(=O)[C@@H]2CC[C@H](C(=O)O)O2)CCC1c1ccccc1', 'C[C@@H]1CCC[C@@H](C)N1C(=O)Cn1nnc(-c2cccc(F)c2)n1', 'c1cncc(-c2cc(N3CCCCC3)nc(-c3ccncc3)n2)c1', 'CCC(CC)NC(=O)CN1CCC(SC)(C(N)=S)CC1', 'CCOc1ccc(OCc2ccc(C(=O)NC(C)CC)o2)cc1', 'Cc1cc2c(cc1C(=O)N1CCO[C@@H]3CCCC[C@H]31)OCCO2', 'CCCCOc1cccc2cc(C(=O)NC(C)(C)C)c(=O)oc12', '[SiH3]NCCC(c1ccccc1)(c1ccccc1)c1ccccc1', 'O=C(O)C1CCCC(C(=O)N2CCOCC2c2ccccc2)C1', 'CCn1c(C(C)Nc2cnc3ccccc3n2)nc2ccccc21', 'COc1ccc2c3c1O[C@@H]1C(O)CC[C@]4(O)[C@H](C2)N(C)CC[C@@]314', '[H]/N=C/c1ccc(OCC(CCCC)C(C)O)cc1C(F)(F)F', 'CCOC(=O)C(C)(C)C(Nc1ccc(OC)cc1)c1ccco1', 'CCOC(=O)CCCCCOc1ccnc2ccc(OC)cc12', 'CCCCOC(=O)C(C#N)=Cc1ccc(OCCC)c(OC)c1', 'CC1CN(Cc2cccc(-c3ccncc3)c2)C(C)CN1.Cl', 'Cc1cc(-n2ncc(CN)c2-n2cccc2)nc2c(C)cccc12', 'CCOc1ccc2c(c1)c(C=O)cn2CC(=O)OCCC(C)C', 'C=CCN(CC(C)C(=O)OC)C(=O)/C=C/c1cccc(OC)c1', 'CCN(CC)CCCNC(=O)CC(CN)OC.Cl.Cl', 'C/C=C/CC1CCCN(C(=O)c2cccc(OCC(=O)O)c2)C1', 'CCN/C(=N\\\\CC1(O)CCSC1)NC1CCC(SC)C1', 'CC1C(=O)Nc2cnn(C)c2-c2ccnc(c2)C(N)CCC1F', 'COc1ccccc1CC(CNC(=O)C1C2CCCC21)C(=O)O', 'COc1cccc(CCC(=O)N2C[C@@H]3CCC[C@@]3(C(=O)O)C2)c1', 'CCc1oc(C(=O)N2CC3CC4CC(C3)CC2C4)cc1C(=O)O', 'COc1ccc(C2(C(=O)N3CCCC(C(=O)O)C3)CCC2)cc1', 'CC(C)(CNC(=O)CCC(=O)c1ccc2c(c1)CCC2)C(=O)O', 'CCCCC(Oc1cccc2c(=O)n(CCC)ccc12)C(=O)O', 'Cc1ccccc1-c1nnc2c3ccccc3nc(NC(C)C)n12', 'C#C.CC1(C)C[C@H]1c1cccc(Cl)c1.Cc1nc(N)[nH]c1C', 'CCCCNCC(O)c1ccc(O)c(O)c1Oc1ccccc1', 'O=C(Nc1ccccc1F)N1CCN(CCn2ccnc2)CC1', 'NC(=O)C1CCC(CNc2nc(N)c3cc(F)ccc3n2)CC1', 'CCCC(C)CC(=O)NCCOc1ccc(C(F)(F)F)cc1', 'CN(C)CCCNc1ccc(NC(=O)c2ccccc2F)nn1', 'CCN(CC)C(=O)c1cccc(OC(=O)C2=C(C)OCCC2)c1', 'Cc1ccc(/C(O)=C2\\\\C(=O)C(=O)N(CC(C)O)C2C(C)C)cc1', 'CNc1nc(NC(C)C2CC2)nc(-c2cc(OC)ccc2F)n1', 'COC(=O)C1CCCCC1C1CC(c2ccc(OC)cc2)=NO1', 'CCCOC(=O)N(CC)C(C)Cc1cccc(C(F)(F)F)c1', 'CC(O)C#Cc1ccc(C=C(F)B2OC(C)(C)C(C)(C)O2)cn1', 'Cc1ccc(C2CCCCN2C(=O)[C@@H]2CC[C@H](C(=O)O)O2)cc1', 'CC(O)C#Cc1ncccc1C=C(F)B1OC(C)(C)C(C)(C)O1', 'COc1cccc(C(C)C(=O)N2CCC3(CC2)CC3C(=O)O)c1', 'COC(CNC(=O)COc1ccc(C(C)C)cc1)c1ccco1', 'CCN(C)c1nc2ccccc2c2nnc(-c3ccc(C)cc3)n12', 'OC1CCC(NCCCOc2ccccc2C(F)(F)F)CC1', 'CC1C(C(=O)O)CCN1C(=O)c1cccc(OC2CCCC2)c1', 'C=CCC1(C(=O)O)CCCN(CC2COc3ccccc3O2)C1', 'CCC1=NOC(C(=O)OC(C)(C)C)(c2ccc(C(C)=O)cc2)C1', 'Cc1ccccc1C1CCCN1C(=O)C1=C[C@@H](O)[C@@H](O)[C@H](O)C1', 'C=CC[C@@H](CN(CC=C)C(=O)OCc1ccccc1)C(=O)OC', 'COc1ccc(CN2CC[C@]3(CCC[C@H](C(=O)O)C3)C2=O)cc1', 'COC(=O)c1ccc2c(c1)CCC21CC1NC(=O)OC(C)(C)C', 'C.C=CC(Cc1cc(F)c(F)cc1F)NC(=O)OC(C)(C)C', 'c1cnc2[nH]c(C3CCCC(c4cc5cccnc5[nH]4)N3)cc2c1', 'CC.COc1ccc(NCc2ccc(C(=O)O)cc2)cc1OC', 'CC1(C)C2CC1[C@@](C)(O)[C@H]2OC(=O)/C=N\\\\OCc1ccccc1', 'CCN(CC)c1ccc(/C=N\\\\N=C(N)c2nonc2N)c(O)c1', 'COc1cc(CCNC2CCCC(C(F)(F)F)C2)ccc1O', 'CC(C)(C)OC(=O)[C@H]1C=C[C@@H](NC(=O)OCc2ccccc2)C1', 'COCC1(C(=O)O)CCN(C(=O)C2CC2c2ccccc2C)C1', 'Cn1cc(-c2ccccc2CNCc2ccc3nc[nH]c3c2)cn1', 'CC1(c2ccccc2)CCCN(C(=O)[C@@H]2CC[C@H](C(=O)O)O2)C1', 'COC(=O)[C@@H]1C[C@@H]2CCCC[C@H]2N1C(=O)COc1ccccc1', 'Cc1ccc2c(=O)oc(CCCCC(=O)OC(C)(C)C)nc2c1', 'C#CCC[C@H](NC(=O)OC(C)(C)C)C(=O)OCc1ccccc1', 'Cc1cc(Nc2ccc3c(c2)nc(C2CC2)n3C)c(C#N)c(C)n1', 'CC(C)(C)c1ccccc1OCC(=O)NC(CO)c1ccco1', 'CC1(C)[C@H](C(=O)O)[C@H]2CCCN(C(=O)OCc3ccccc3)[C@@H]21', 'COc1cc(CCN[C@H]2CCC[C@H](C(F)(F)F)C2)ccc1O', 'COCCOc1ccc(N2CCC3(CCC(=O)CC3)C2=O)cc1', 'COc1ccc2c3c1O[C@H]1[C@H](O)CC[C@@]4(O)C(C2)N(C)CC[C@]314', 'CCC(C(=O)c1ccc2occc2c1)N(C)C(=O)OC(C)(C)C', 'C[Si](C)(c1ccccc1)C(Nc1ccccc1)c1ccccc1', 'CCc1ccccc1OCC(=O)N(CCOC)Cc1ccco1', 'Cc1nn(Cc2ccccc2)c(C)c1CNc1ccc(C#N)nc1', 'CC(C)Oc1ccc(C(=O)O)cc1NC(=O)CC1=CCCCC1', 'O=C(O)[C@@H]1CC[C@H](C(=O)NC[C@H]2CCO[C@@H]2c2ccccc2)C1', 'CCOc1ccc2oc(C(=O)N3CC(C)OC(C)C3)c(C)c2c1', 'COC(=O)[C@H](O)C1CCN(Cc2cc3cc(C)ccc3o2)CC1', 'CC(C)(C)c1ccc(C(=O)NC(=O)COC(=O)C2CCC2)cc1', 'Cc1cccc(Nc2cnnc(N3CCc4ccccc43)n2)c1C', 'COC(=O)CCCCCNC(=O)c1ccc2c(c1)CCCC2=O', 'CC(C)c1cnc(-c2ccc3cc(C#N)cnn23)cc1NC1CC1', 'COc1ccccc1OCC(O)CNCCOc1ccccc1', 'CC1CCCC(C)N1C(=O)Cn1nnc(-c2cccc(F)c2)n1', 'CC(=O)CCCCC(C(=O)N1CCOC1=O)c1ccc(C)cc1', 'COC(c1ccccc1)N1C(=O)C(C(=O)OC(C)(C)C)=CC1C', 'CC(COc1ccccc1)NCC(O)COc1cccc(O)c1', 'c1ccc(-c2cc(N3CCCCC3)nc(-c3ccncc3)n2)nc1', 'CCCCCCCCNC(=O)c1cc(=O)c2ccc(O)cc2o1', 'CCC(CO)(CCCSc1ccc(F)c(F)c1)NC(C)C', 'CC(C)(C)OC(=O)C1=CCCCN1C(=O)OCc1ccccc1', 'COc1ccc2c(CC(=O)N3CCCCC3C(C)O)coc2c1', 'CC(C)(C)c1cc2n(n1)CCN(C(=O)Nc1cncc(F)c1)C2', 'Cn1cccc(CCC2(C3CCCC3)CC(=O)CC(=O)O2)c1=O', 'NCC[n+]1ccccc1/C=C/c1cccc(Oc2ccccc2)c1', 'Nc1cc(N2CCN(Cc3ncc[nH]3)CC(C(=O)O)C2)ncn1', 'CCN/C(=N\\\\CC1(c2cccc(Cl)c2)CC1)NC1CC=CC1', 'CCCOc1ccc(/C=C2\\\\N=C(C(C)(C)C)OC2=O)cc1OC', 'COc1ccc(C2=NO[C@@]3(CCOC3)C2)cc1OC1CCCC1', 'CN1CC[C@]23c4c5ccc(O)c4O[C@H]2[C@@H](O)C=C[C@H]3[C@H]1C5.CO', 'COC(=O)c1ccc2c(c1)CCN2C(=O)CCC1CCCOC1', 'CCOc1cc(NCc2nnc3n2CCN(C)C3=O)nc(C)n1', 'CCCCOCc1cc(C(=O)NCc2ccco2)ccc1OC', 'COc1cc(C(C)=CC=CC(C)=CC(=O)O)cc(OC(C)C)n1', 'COc1ccc(C)cc1NC(=O)[C@@]12CC[C@](C)(C(=O)O1)C2(C)C', 'COc1ccc(NC(=O)C2CC=CCC2C(=O)OC(C)C)cc1', 'CC1(C)C=CC=C2C(=C1)CN(C(=O)OC(C)(C)C)/C2=C\\\\C(=O)O', 'N#CN1CCC(CNc2ccnc(-n3cc4ccccc4c3)c2)C1', 'Cn1nc(Cc2ccccc2)c(-c2nc3ccccc3n2C)c1N', 'CCOCCCNc1nc(Cl)nc(NCCCOCC)n1', 'N#Cc1ccc2cc(-c3cccc(N4CCCNCC4)n3)[nH]c2c1', 'Cc1cccc(OCC(=O)NCCC(O)c2cc(C)oc2C)c1', 'O=C(O)C1CN(C(=O)OCc2ccccc2)CC1C1CCCC1', 'C=C/C(=C\\\\NC)c1cnc2[nH]cc(-c3ccc4nccn4c3)c2c1.[H][H]', 'COc1cc(CC(O)c2nccc(C)c2C)cc(OC)c1OC', 'C[C@@H]1CC(N[C@H](C)c2ccccc2OC(F)(F)F)C[C@@H](C)O1', 'CCC[C@]1(CO)CCN(C(=O)c2cc3ccccc3o2)C[C@H]1O', 'Cc1c(C#N)cnc(C(=O)NC2CC(F)C3NNCC3C2)c1C', 'COC1CC2C3Cc4ccc(O)c5c4C2(CCN3C)C(O5)C1O', 'CC(CC(=O)NC(C)C(C)CO)c1ccc(C(F)(F)F)cc1', 'C#CC1(c2cc(NC(=O)OC(C)(C)C)c(OC)c(OC)c2)CC1', 'O=C(O)c1ccccc1CC(=O)N1CCCC2(CCOCC2)C1', 'Cc1ccc(Nc2nncc(N3CCCc4ccccc43)n2)cc1', 'CC(C)(C)c1ccc(=O)n(CC2CN(c3ncncc3F)C2)n1', 'CC(C)C(=C=O)[C@H]1[C@H](C=O)OC(C)(C)N1OCc1ccccc1', 'COc1ccc2c(c1)c(C=O)cn2C(C)C(=O)OCCC(C)C', 'Cc1ccc(C)c(Cn2ccc3c4c(N)nc(N)nc4ccc32)c1', 'COc1cccc(C2(N=C=O)CCCC2)c1OC1CCCOC1', 'O=C(COC(=O)COc1ccccc1)NCCC1=CCCCC1', 'CCN1CC=Cc2cnc(Nc3ccc(-n4cccc4)cc3)nc21', 'COc1ccc(C=CCN2C[C@@H]3CCOC[C@]3(C(=O)O)C2)cc1', 'c1ccc(CN2CCc3ncnc(-c4cccnc4)c3CC2)nc1', 'COc1ccc(CCC(N)C(O)c2cccc(O)c2)cc1OC', 'COc1ccccc1N(c1ccccc1OC)C(CO)CCO', 'O=C(O)CCCCNC(=O)CCC(=O)c1ccc2c(c1)CCC2', 'COc1nc(C(=O)N2CCC(c3ccnc(N)n3)CC2)nn1C', 'CCCOc1cc(C(F)(F)F)ccc1O[C@H]1CCNC[C@@H]1C', 'CC(C)Oc1cccc(CC(=O)NCC(C)(O)c2ccco2)c1', 'C[C@@H]1C[C@@]2(O)c3ccccc3C(=O)N[C@H](C(=O)OC(C)(C)C)[C@@H]12', 'C[C@]1(C(=O)O)CCN(C(=O)[C@H]2CCCO[C@H]2c2ccccc2)C1', 'CC[C@H](O)CN(CC)C(=O)c1cc(CN=[N+]=[N-])cc(N=[N+]=[N-])c1', 'CCc1nnc2c(NC(C)c3ccccc3)nc3ccccc3n12', 'CCC(CCCOCC(F)(F)C(F)F)(NC(C)C)C(=O)O', 'CCOC(=O)C1=C(C)NC(C)=C(C(=O)OCC)C1C1=CCC=C1', 'CN(CCCCSc1ccc(F)cc1)CCc1ccccc1', 'COc1ccc([C@H](N)Cc2cc(OC)c(OC)c(OC)c2)cc1', 'O=C(O)CCC(Cc1ccccc1)NC(=O)C1CC2CCC1O2', 'CCC[C@]1(CO)CCN(Cc2c(F)cc(F)cc2F)C[C@H]1O', 'C=C(C)O[SiH]C([Si](C)(C)C)([Si](C)(C)C)[Si](C)(C)C', 'CCOC(=O)C1CCCN(C(=O)CC2COc3ccccc32)C1', 'Cc1ccc(Nc2ncnc(NNC(C)(C)C)c2[N+](=O)[O-])nc1', 'CCOC(=O)C(=C/C=C(/c1ccccc1)N(C)C)C(=O)OCC', 'O=C(NCCCCc1ccccc1)C1C(C(=O)O)[C@H]2CC[C@@H]1O2', 'C[NH2+]CC[C@@H](O)c1ccccc1.O=C([O-])[C@@H](O)c1ccccc1', 'Cc1ccc2cc(/C(N)=C(/N=C(N)N)c3ccccc3)ccc2n1', 'CC1CCCCN1Cc1ccc(-c2n[nH]nc2C(N)=O)cc1F', 'O=C(O)C1CCC1C(=O)N1CCC(OCc2ccccc2)CC1', 'CCOC(=O)C1CCN(C(=O)CCc2cccc(C)c2)CC1=O', 'O=C1[C@H]2CCCC[C@H]2C(=O)N1C[C@@H](O)COCc1ccccc1', 'CC(C)(C)C(=O)N(CCc1ccccc1)CC(O)C(F)(F)F', 'O=C([C@H]1CCCCn2nnnc21)N1CCC(c2ncon2)CC1', 'COc1ccc(C2(C(=O)NC3CC(C(=O)O)C3)CCCC2)cc1', 'CN(C)C(=O)CCc1ccccc1NC(=O)NCc1nn[nH]n1', 'COCCN(Cc1ccc(C)o1)C(=O)Cc1ccc(OC)cc1', 'c1ccc([C@@H]2CN(c3nccc(-c4ccccn4)n3)CCN2)cc1', 'O=C(CC1(C(=O)O)CCC1)Nc1ccccc1OC1CCCC1', 'C=C(C)C(=O)OC12CC3(C)CC(C#N)(C1)CC(C(=O)OC)(C3)C2', 'COc1ccc(-n2c(=O)cc(N3CC[NH+](C)CC3)[nH]c2=O)cc1', 'Cc1cc(C)c(C)c(OCCC(=O)NC(CO)c2ccco2)c1', 'Cc1ccc(C(C)(O)CNC(=O)C(C)OCc2ccccc2)o1', 'CCC(=O)C[C@@H]1[C@@H](O)[C@H](O)[C@@H](CO)N1CC#Cc1ccccc1', 'CC(C)(C)OC(=O)NC[C@H](O)OCc1cccc2ccccc12', 'CC(C)c1cnc(-n2ncc3cc(C#N)cnc32)cc1CC1CC1', 'COc1ccccc1C1(CNC(=O)CC2(C(=O)O)CCC2)CC1', 'CCOC(=O)C(C#N)CCC[Si](OCC)(OCC)OCC', '[H]/N=C/C=C(\\\\C=C)N1c2ncncc2N2c3ccccc3C(C)(C)C12', 'O=C(C1CCOCC1)N1CCCC1c1ccc2c(c1)OCCO2', 'Fc1cnc(N2CCCn3cnc(COCC4CC4)c3C2)nc1', 'COC(=O)c1cc2ccccc2cc1NC[C@H](O)COC(C)C', 'Cc1nc2n(n1)CCCC2NC(=O)c1ccc(N(C)C)c(F)c1', 'COc1cc(C(F)(F)F)ccc1C(C(C)CO)N1CCCC1', 'CCCCOc1ccc2c(=O)n(CCCCC(=O)O)ccc2c1', 'COc1c2c(cc3c1C(C#CCC(C)(C)O)N(C)CC3)OCO2', 'CCCCOC(=O)c1cc2ccc(N(CC)CC)cc2oc1=O', 'Cc1c(C2CCNCC2)oc2c(C)c(OCO)cc(C)c2c1=O', 'C[C@@H]1CCC[C@H](C)N1CCc1c[nH]c2ccc(C#N)cc12.Cl', 'Cc1ccc(C)c(Nc2nncc(N3CCc4ccccc43)n2)c1', 'CC1CCCC(CCNCc2ccc(CSC(F)F)o2)C1', 'C1=CC=C2C(=C1)C(OC2=O)OC(=O)C3=C(N=CC=C3)NC4=CC=CC(=C4)C(F)(F)F', 'Cc1cccc(NS(=O)(=O)c2cc(C(=O)Nc3ccccc3)ccc2Cl)c1C', 'COC(COS(=O)(=O)c1ccc(C)cc1)(OC)c1ccc(S(C)(=O)=O)cc1', 'CCc1ccc([C@@H]2O[C@H](SC)[C@@H](C)[C@H](C)[C@H]2OC(C)=O)cc1CBr', 'CCN(CC)C(=O)C(C)c1sccc1NS(=O)(=O)c1cccc(Cl)c1C', 'O=C(COC(=O)c1ccsc1)Nc1cc(C(F)(F)F)ccc1N1CCOCC1', 'O=C(O)N1CCC(C(=O)N2CCN(C(=O)Nc3ccc(Cl)c(Cl)c3)CC2)C1', 'CN1CCc2nc(NC(=O)CCCN(C)S(=O)(=O)c3cccs3)sc2C1', 'CCOC(=O)C=Cc1cccc(-c2cc(C(F)(F)F)cc(S(=O)(=O)NC)c2)n1', 'CCC#N.CS(=O)(=O)c1cc(C(F)(F)F)ccc1C(=O)C(C#N)C(=O)C1CC1', 'CC(C)NC(=O)CNC(=O)CN1C(=O)N[C@@](C)(c2ccc(Cl)cc2Cl)C1=O', 'CCCN1C(=O)/C(=C/c2ccc(C(=O)OC)cc2)S/C1=N/c1ccc(Cl)cc1', 'COc1ccc(N(CC(=O)N[C@H](C)c2ccc(F)cc2)S(C)(=O)=O)cc1Cl', 'COC(=O)CCCNC(=O)CN1c2c(O)cc(Br)cc2C(C)(C)C1O', 'COC(=O)c1c(N)c(C#N)cn1-c1ccc(S(=O)(=O)Nc2ccccc2F)cc1', 'CC(C)(C)OC(=O)Nc1cccc(C#Cc2cnc(C(O)(O)C(F)(F)F)s2)c1', 'C[C@]1(c2nc(NC(=O)c3ncc(Cl)cc3N)ccc2F)N=C(N)OCC1(F)F', 'Cc1nn(Cc2cccc(Br)c2)c(C)c1C(=O)NCC(C)CN.Cl', 'Cc1ccsc1/C(=N/OCC[NH+]1CCC[C@@H](C(=O)O)C1)c1cccs1.[Cl-]', 'CSc1ccc([C@H](O)CNC(=O)C(=O)Nc2ccc(OC(F)(F)F)cc2)cc1', 'O=C(c1ccc(O)cc1)N1CCN(S(=O)(=O)c2ccccc2C(F)(F)F)CC1', 'CCCn1cnc2sc(C(=O)Nc3nc4ccc(OC)cc4s3)c(C)c2c1=O', 'O=C(O)COc1ccc(C=NNC(=O)Cn2nnc(-c3ccccc3Cl)n2)cc1', 'CCCNc1nnc(SCc2cccc(S(=O)(=O)N3CCOCC3)c2)s1', 'O=C(Nc1nnc(CN2C(=O)c3ccccc3C2=O)s1)c1cccc2ccccc12', 'O=c1c2ccc3c4c(ccc(c24)c2nc4cnccc4n12)c(=O)n1c2ccncc2nc31', 'O=C(O)CNC(=O)c1c(O)c2c(n(Cc3ncc(C(F)(F)F)cn3)c1=O)COC2', 'O=C(NCc1ccccc1)c1ccccc1NS(=O)(=O)Cc1ccc(Cl)cc1', 'NC[C@H]1CCN(c2c(Br)cnc3[nH]cc(NC(=O)c4cccnc4)c23)C1', 'CCCCC(=O)Oc1cccc2[nH]c(I)c(CCN(C)C)c12', 'O=C(NC(=S)Nc1cccc(-c2nc3ncccc3o2)c1)c1cc2ccccc2o1', 'COc1ccc(OCC2c3cnsc3CCN2C(=O)c2cccc(Cl)c2)cc1', 'Cc1cc2c(c(O)c(Sc3cccc(Cl)c3)c(=O)n2C2CC2)c(=O)n1C1CC1', 'CCCCNC(=O)COc1ccc(S(=O)(=O)Nc2ccc(F)cc2)cc1Cl', 'O=C1S/C(=C/c2c3ccccc3nc3ccccc23)C(=O)N1Cc1ccc(F)cc1', 'COc1ccc(CN(c2nc3ncccn3c2-c2cccs2)S(C)(=O)=O)cc1', 'COC[C@H](C)n1c(SCc2cc(=O)n3ccsc3n2)nc2ccccc2c1=O', 'CC(C)(CO)[C@@H](O)C(=O)NCCC(=O)C(=O)NCc1ccc(Br)cc1', 'CCOC(=O)COc1cc(Cl)c(Cc2ccc(O)c(C(C)C)c2)c(Cl)c1F', 'COc1ccc(Nc2nc(/C=C3/SCCN3C(=O)c3coc(C)n3)cs2)cc1', 'C=C(C)C(=O)O[N+](CC)(OC(=O)C(=C)C)S(=O)(=O)Oc1ccccc1C(=O)O', 'COc1ccc(/C=N/CC(=O)c2sc(-c3cccc(Cl)c3C)nc2C)cc1O', 'COc1ccccc1Cn1c(=O)c2sccc2n(Cc2cc(F)ccc2F)c1=O', 'C=CCn1cnn(C[NH+]2CCN(S(=O)(=O)c3ccccc3Cl)CC2)c1=S', 'CCOC(=O)c1sc(NC(=O)CSc2ccc(-c3ccccc3)nn2)nc1C', 'CCn1c(I)cc2cc(CNCC(C)(C)C(=O)OC)ccc21', 'CC1(NC(=O)c2cc(-c3ccc(Cl)cc3)nc3ccccc23)CCS(=O)(=O)C1', 'O=C(Nc1nc(-c2cccnc2)cs1)c1ccc(S(=O)(=O)N2CCCC2)cc1', 'CCOC(=S)SC(CCC(=O)C1CC1)CN(C(C)=O)c1cccc(Cl)n1', 'CC(=O)N(c1ccc(Cl)c(Cl)c1)c1nc(C[NH+]2C[C@H](C)O[C@@H](C)C2)cs1', 'Cc1ccc(S(=O)(=O)N/N=C/c2ccc(OCc3ccccc3Cl)cc2)cc1', 'C[C@H](NC(=O)c1ccc(Cl)c(S(N)(=O)=O)c1)c1ccc(-c2ccccc2)cc1', 'C=CCN1C(=O)/C(=C/c2c(N3CCOCC3)nc3ccccn3c2=O)SC1=S', 'O=C(CSc1nc2ccccc2s1)N1CCN(C(=O)c2ccc(=O)[nH]c2)CC1', 'C/C(=N\\\\NC(=O)CSc1cccc2cccnc12)c1ccc(S(N)(=O)=O)cc1', '[NH-]N(C(=O)C1CCOCC1)C(=O)[C@@H]1CC[C@@H]2CN1C(=O)N2OS(=O)(=O)O.[Na+]', 'CCOc1cc(/C=N\\\\Nc2ccc(C(F)(F)F)cc2[N+](=O)[O-])cc([N+](=O)[O-])c1O', 'O=C([O-])CCCCC(=O)Nc1c(C(=O)Nc2ccc(Cl)cn2)oc2ccccc12', 'CCOC(=O)c1sc(NC(=O)C(C)Sc2nc3ccccc3[nH]2)c(C#N)c1C', 'N#CCC1CCCN(c2ncnc3c(F)ccc(-c4ccc(Cl)c(Cl)c4)c23)C1', 'CCc1ccccc1NC(=O)c1ccc(S(=O)(=O)Nc2ccc(Cl)cc2)cc1', 'O=C(CSCc1ccccc1Cl)Nc1ccccc1C(=O)NCc1ccco1', 'Cc1cccnc1[C@@H](Cc1ccsc1)NS(=O)(=O)c1ccc2[nH]c(=O)[nH]c2c1', 'CN(CC(=O)Nc1ccc2c3c(cccc13)CC2)S(=O)(=O)c1ccc(Cl)cc1', 'CC(C)N(C)S(=O)(=O)c1ccc(NC(=O)COc2ccc(F)cc2Cl)cc1', 'Cn1ccnc1C(NS(=O)(=O)c1ccc2c(c1)C(=O)NC2=O)c1cccc(F)c1', 'N#Cc1ccc(O)c(S(=O)(=O)N(Cc2ccc(F)cc2)Cc2ccc(F)cc2)c1', 'CS(=O)(=O)c1cc(-c2nc(N3CCOCC3)c3ccsc3n2)c2cc[nH]c2c1', 'O=C([O-])COc1ccc(/C=C(/C(=O)c2ccccc2)c2nc3ccccc3s2)cc1', 'CCN1CCN(c2ncnc3scc(-c4ccccc4F)c23)CC1.Cl.Cl', 'Cc1cccc(N(CC(=O)Nc2cccc(Cl)c2)S(=O)(=O)c2ccccc2)c1', 'CC(C)(C)NC(=O)NC(=O)COC(=O)CCCOc1cccc(Br)c1', 'CCOC(=O)Cc1csc(SC(C)/C(O)=C(\\\\C#N)c2nc3ccccc3[nH]2)n1', 'COc1ccc(Nc2ncnc(NNC(=O)c3cccc(Cl)c3)c2[N+](=O)[O-])cc1', 'CNC(=O)C1Cc2ccccc2CN1S(=O)(=O)c1ccc(OC(F)(F)F)cc1', 'COc1ccc(CC(=O)c2ccc(OP(=O)(O)Oc3ccccc3)cc2O)cc1', 'Cc1ccccc1NS(=O)(=O)c1ccc(C(=O)Nc2nnc(C3CC3)s2)cc1', 'FC(F)(F)c1c2cc3ccccc3cc2c(C(F)(F)F)c2cc3ccccc3cc12', 'CCN(CC)S(=O)(=O)c1cc(C(=O)Nc2ccc(Cl)c(F)c2)ccc1OC', 'COC(=O)c1c(NC(=O)Nc2ccc(C)cc2)sc(C)c1-c1ccc(Cl)cc1', 'Cn1nc(Br)c2c(N3CCCC(C(=O)Nc4ccccc4)C3)ncnc21', 'CC1(c2nc(NC(=O)c3ncc(Cl)cc3N)ccc2F)N=C(N)OCC1(F)F', 'CCOC(=O)[C@@]1(COc2nnnn2C)CC=C(OS(=O)(=O)C(F)(F)F)CC1', 'COc1ccc(S(=O)(=O)N(C)CC(=O)N(C)Cc2ccccc2F)cc1Cl', 'O=C(NC1CN(c2ccc(S(=O)(=O)Nc3nccs3)cc2)C1)c1ccccc1', 'O=C(Cc1cccc2ccccc12)Nc1ccc(Cl)c(N2CCCS2(=O)=O)c1', 'COC[C@@H](C)NC(=O)c1ccccc1Sc1ccc(C(F)(F)F)cc1[N+](=O)[O-]', 'COC(=O)C1=C(O)/C(=C\\\\c2ccc(N(C)C)cc2)S/C1=N\\\\c1ccccc1Cl', 'COc1cccc(Nc2nnc(SCC(=O)Nc3ccc(C(C)=O)cc3)s2)c1', 'O=C(Nc1nccs1)c1cn(-c2ccccc2)nc1-c1cc2ccccc2oc1=O', 'N#C[C@]1(CO)O[C@@H](c2csc3c(NC(=O)c4ccccc4)ncnc23)[C@H](F)[C@@H]1O', 'CC(C)C(C(=O)OC(C#N)c1cccc(OCSC#N)c1)c1ccc(Cl)cc1', 'Cc1cc(Cl)ccc1N1C(=O)C(Sc2ccccc2)=C(N2CCOCC2)C1=O', 'CCS(=O)(=O)c1ccc(C(N)=O)c(C)c1-c1ccc(Cl)c(-c2ccccn2)c1', 'CO/N=C\\\\Cc1c(C#N)c(=O)ncn1CCNc1ncc(C(F)(F)F)cc1Cl', 'CC(C)c1nc(CC(=O)Oc2ccc(NC(=O)c3ccc(Cl)cc3)cc2)cs1', 'O=C1O[C@@H]2[C@H]3[C@@H]([C@H]1C[C@H]2O)N(c1ccc(Cl)cc1)C(=S)N3Cc1ccccc1', 'Cc1ccc2nc(NC(=O)C3CC(=O)N(c4ccc(F)c([N+](=O)[O-])c4)C3)sc2c1', 'NS(=O)(=O)c1ccc(NC(=O)CSc2nc(C3CC3)nc3ccccc23)cc1', 'CC(=O)NCc1ccc(C(=O)Nc2nc(-c3ccc(NC(C)=O)cc3)cs2)s1', 'CCN(CC)S(=O)(=O)c1cc(NC(=O)[C@H](C)Sc2nncs2)ccc1C', 'Cc1ccc(N(CC(=O)Nc2nnc(SCC(C)C)s2)S(C)(=O)=O)cc1', 'CCN1C(=O)c2cccc3c(S(=O)(=O)NCCc4ccccc4Cl)ccc1c23', 'Cc1cc(C)cc(NS(=O)(=O)c2ccc(NC(=O)c3cccc(Cl)c3)cc2)c1', 'N#Cc1ccnc(Oc2ccc3nc(N4C(=O)[C@@H]5C6C=CC(C6)[C@@H]5C4=O)sc3c2)c1', 'O=S(=O)(NCC1(N2CCSCC2)CCOCC1)c1cccc2nsnc12', 'CN(CCOc1ccccc1)C(=O)c1ccc(Cl)c(NC(=O)c2cccs2)c1', 'CCCN(C(=O)c1ccc(S(=O)(=O)c2ccccc2)s1)C1CCNC1.Cl', 'C/C(=N/NC(=O)c1ccccc1NS(=O)(=O)c1cccs1)c1cccc(N)c1', 'COC(=O)C1=C(C(=O)OC)[N+](C)(C(=O)Nc2nc(OC)cc(OC)n2)N=C1Cl', 'CC1(C)Cc2cc(C(=NN)c3ccc(OS(=O)(=O)C(F)(F)F)cc3)ccc2O1', 'C=CCn1c(S[C@H](C)C(=O)c2ccc(OC)cc2)nc2ccc(Cl)cc2c1=O', 'O=[N+]([O-])c1cccc(C2=NN=C/C2=C\\\\c2sc(=S)n(C3CCCCC3)c2O)c1', 'CCN(CC)S(=O)(=O)c1ccc(Cl)c(NC(=O)COc2ccccc2F)c1', 'C[C@@H](c1nc2ccccc2s1)N(C)C(=O)COC(=O)/C=C/c1ccccc1Cl', '[C-]#[N+]/N=c1/c2cc(C)ccc2c2nc3/c(=N/C#N)c4cc(C(F)(F)F)ccc4c3nc12', 'CCO[N+](=O)c1ccc(Nc2nc(N)c(C(=O)c3ccccc3[N+](=O)[O-])s2)cc1', 'COc1cccc(-c2csc3nc(NS(=O)(=O)c4ccc(C)cc4C)nn23)c1', 'CC(C)Oc1ccc(N(CC(=O)Nc2ccc(F)c(Cl)c2)S(C)(=O)=O)cc1', 'CN(CC(=O)Nc1ccccc1OC(F)(F)F)S(=O)(=O)/C=C/c1ccccc1', 'O=C(Nc1nc2ccc(Br)c(NC3CCCCC3)n2n1)c1cccnc1', 'Cc1nc(CSCC(=O)N2CCN(S(=O)(=O)c3ccccc3F)CC2)no1', 'CC(=O)c1ccc(N2CCN(c3ncnc4c3c(Br)nn4C)CC2)cc1', 'O=C(CCc1ccccc1Cl)Nc1ccccc1NS(=O)(=O)c1ccccc1', 'COc1cccc(CNc2ncc(Br)c(Nc3cc(C4CC4)[nH]n3)n2)c1', 'C#CC(=O)[C@@H]1CCc2c(cn(C)c2C(=O)Nc2ccc(F)c(C#N)c2)S(=O)(=O)N1', 'COc1ccc(C(=O)N2CCN(S(=O)(=O)c3c(F)cccc3F)CC2)cc1F', 'O=C(CNCCCc1ccc(Cl)c(Cl)c1)C[P+](O)(O)Cc1ccccc1', 'C=C(C)CSc1nnc(SCC2=C(C(=O)OCC)C(CC)NC(=O)N2)s1', 'CC(C)c1ccc(C(=O)/C=C/c2ccc(COc3cccc(Cl)c3Cl)o2)cc1', 'O=C(Nc1ccc(CNS(=O)(=O)c2ccc(OC(F)(F)F)cc2)cc1)C1CC1', 'CC1(C(=O)Nc2ncc(Cc3ccc(F)cc3)s2)Cc2cc(F)ccc2C(=O)O1', 'Cn1cc(C(=O)NCc2ccc(Cl)cc2)c(=O)c2cc(C#CCCCO)sc21', 'COc1ccc(C(C)NC(=O)c2cc(S(=O)(=O)N(C)C)ccc2Cl)cc1F', 'CS(=O)Cc1ccc(C(=O)Nc2ccc(Cl)c(-c3ccc(CO)cn3)c2)cc1', 'CCc1nc(C)cn1-c1cc2c(cc1C(F)(F)F)[nH]c(=O)c1n[nH]c(=O)n12.Cl', 'O=C(COC(=O)C=Cc1cccc2cccnc12)Nc1ccccc1SC(F)F', 'CC(C)(CCC(C)(C)OOC(=O)CCC(=O)Cl)OOC(=O)CCC(=O)Cl', 'CCC(=O)c1ccc(OCC(=O)Nc2nc(-c3ccc(Cl)cc3)c(C)s2)cc1', 'CCOc1cc(C=NNC(=O)CSc2nnc(-c3ccccc3)s2)ccc1O', 'C[C@@H]1CCc2c(sc3nc([C@@H](C)Sc4nnc(-c5ccco5)o4)[nH]c(=O)c23)C1', 'COC(=O)c1c(NC(=O)Cc2cccs2)sc2c1CCN(C(C)C)C2.Cl', 'NS(=O)(=O)c1ccc(C(=O)OCc2cn([C@@H]3OC[C@@H](O)[C@@H](O)[C@@H]3O)nn2)cc1', 'O=S1(=O)c2ccccc2[C@H](O)[C@@H](Cc2ccc(Cl)cc2)N1Cc1ccncc1', 'CC(=O)O[C@H]1CS[C@@H](c2cccc(Cl)c2)[C@]12C(=O)N(c1ccccc1)N=C2C', 'CN(C)c1ccc([N+](=O)[O-])cc1/C=C1/C(=O)NC(=S)N(c2cccc(F)c2)C1=O', 'CCCc1nnc(NC(=O)c2ccc(F)c(S(=O)(=O)N3CCOCC3)c2)s1', 'CCC(=O)c1ccc(OCC(=O)Nc2ncc(Cc3ccc(Cl)cc3)s2)cc1', 'CC(C)Cc1nnc(NC(=O)Cc2ccc(S(=O)(=O)N3CCCC3)s2)s1', 'CC(Nc1ccc(C(F)(F)F)cc1[N+](=O)[O-])C(=O)OCC(=O)c1ccc(F)cc1', 'C=C1C(O)=C(O)C=C2N1CCC21C(=S)N(CC2=CCC(Cl)O2)c2ccccc21', 'Cc1sc2nc(SCc3cccc4ccccc34)[nH]c(=O)c2c1-c1ccccc1', 'COC(=O)c1ccc(/C=C/C(=O)N(C2=N[C@H](C)CS2)c2ccc(Cl)cc2)cc1', 'C=CCn1c(SCC(=O)NC(=O)c2cccs2)nnc1-c1ccc(OC)cc1', 'CS(=O)(=O)Nc1ccc(C2CCn3c(C(=O)c4ccccc4)ccc32)c(Cl)c1', 'COc1ccc(-n2c(S[C@H]3CCCCC3=O)nc3ccccc3c2=O)cc1Cl', 'O=C1SC(=Cc2ccc(N3CCOCC3)cc2)C(=O)N1Cc1ccccc1Cl', 'O=C1c2ccccc2C(=O)C12O[C@@]1(O)c3ccccc3C(=O)[C@@]1(O)[C@@H]2c1ccncn1', 'CCN1c2ccc(C(=O)Nc3ccc(F)cc3F)cc2-c2ccccc2S1(=O)=O', 'CCOc1ccc(-c2c[n+](CC(=O)c3cccc(Br)c3)c(N)n2C)cc1', 'CS(=O)(=O)N1CC[C@@H](C(=O)Nc2cccc(C(F)(F)F)c2)Oc2ccccc21', 'Cc1cccc(N2C(=O)N(Cc3cc(F)cc(F)c3)c3ccccc3S2(=O)=O)c1', 'COc1ccccc1OCC(=O)N/N=C\\\\c1cc(Cl)c(OC(F)F)c(OC)c1', 'O=C1N=C(N2CCOCC2)SC1=Cc1cccc(OCc2ccc(Cl)cc2)c1', 'O=C(OC(C(F)(F)F)C(F)(F)F)N1CCC(c2noc3ccc(F)cc23)CC1', 'CCc1ccc(-c2nc(C(=O)NNC(=O)CNC(=O)c3cccs3)cs2)cc1', 'O=C(NCCCNC(=O)c1ccc(-c2ccc(Cl)cc2)s1)c1cccc(O)c1', 'CC1CSC(N(C(=O)/C=C/c2ccc3c(c2)OCCO3)c2ccc(Cl)cc2)=N1', 'Cc1ccc(C(=O)Nc2nnc(S(=O)(=O)N3CCc4ccccc4C3)s2)cc1', 'Cc1cc(Br)ccc1NC(=O)CNc1ccc(C)c(-n2nnnc2C)c1', 'Cc1cccc(N2C(=O)N(Cc3cc(F)ccc3F)c3ccccc3S2(=O)=O)c1', 'Cc1cnc(-c2nc(C(=O)NCc3ccc(C(=O)NO)cc3)c(C3CC3)s2)s1', 'O=C1/C(=C/c2ccoc2)CCCN1Cc1ccccc1NS(=O)(=O)C(F)(F)F', 'O=C(CNS(=O)(=O)c1c(F)cccc1F)NCCNc1ccc([N+](=O)[O-])cc1', 'O=S1(=O)c2ccccc2[C@H](O)[C@H](Cc2ccc(Cl)cc2)N1Cc1ccncc1', 'C#CC(O)[C@@H]1C=Cc2c(cn(C)c2C(=O)Nc2ccc(F)c(C#N)c2)S(=O)(=O)N1', 'Cc1cc(Br)ccc1NC(=O)C[NH+](C)Cc1cc(-c2ccccc2)on1', 'COc1cccc(OC)c1C(=O)NCCc1csc2nc(-c3cccs3)nn12', 'COc1ccc(/C=N\\\\NC(=O)c2ccccc2Cl)cc1Cn1cnc([N+](=O)[O-])n1', 'CC(=O)NC(CC(=O)OCc1csc(-c2ccccc2)n1)c1ccccc1Cl', 'CC(=O)c1ccc(NC(=O)C(C)SCc2coc(-c3ccc(Cl)cc3)n2)cc1', 'Cc1ccc(S(=O)(=O)O)c(CCOCCc2cc(C)ccc2S(=O)(=O)O)c1', 'O=C(Nc1ccc(OC(F)(F)F)cc1)c1cccc(S(=O)(=O)N2CCCC2)c1', 'Cc1cc(C(=O)NCc2ccc(Cl)cc2)ccc1NS(=O)(=O)c1ccccc1', 'CSc1cccc2sc(N3CCN(C(=O)CN(C)S(C)(=O)=O)CC3)nc12', 'COc1ccc(NS(=O)(=O)c2ccc(/C=C/C(=O)NCC(F)(F)F)cc2)cc1', 'CC(=O)N1c2ccccc2N(S(=O)(=O)c2ccc(OC(F)(F)F)cc2)CC1C', 'Cc1ccc(Nc2nc(N)nc(COC(=O)c3ccc([N+](=O)[O-])cc3Cl)n2)cc1', 'Cc1cc(C)c(NC(=O)CN2C(=O)S/C(=C/c3ccccc3Cl)C2=O)c(C)c1', 'CCOc1cc(/C=N/NC(=O)c2cccs2)ccc1OCc1ccc(Cl)cc1', 'Cc1c(Cl)cccc1NC(=O)C(C)Sc1cccc(NC(=O)c2ccco2)c1', '[H]/N=C1C(=C\\\\c2coc3ccccc3c2=O)/C(=O)N=C2SC(c3cccc(C)c3)=NN2/1', 'COc1cc(CNC(=O)COC(=O)c2ccc(Cl)c(N)c2)ccc1OC(F)F', 'CCOc1ccc(/C=C2\\\\C(=O)NC(=S)N(c3ccc(CC)cc3)C2=O)cc1Cl', 'COc1cc(Sc2c(-c3ccc[nH]3)[nH]c3ccc(Cl)cc23)cc(OC)c1OC', 'COCCCNS(=O)(=O)c1ccc(NC(=O)Cc2c(F)cccc2Cl)cc1', 'CCOc1ccc(/C=C2\\\\C(=O)NC(=S)N(c3cc(C)cc(C)c3)C2=O)cc1Cl', 'CC(=O)Nc1nc(SCc2ccc(C)cc2)[nH]c(=O)c1NC(=O)c1cccs1', 'C=C/C=C\\\\C1=C(C)c2ccc(C3=CCC(I)C=C3)cc2C1(C)C', 'CS(=O)(=O)c1cc([N+](=O)[O-])ccc1NCC1(c2cccc(C(F)(F)F)c2)CC1', 'CS(=O)(=O)Cc1cccc(C(=O)Nc2ccc(C(=O)NCC(F)(F)F)cc2)c1', 'CC12N=C(C#N)C(C#N)=NC1c1nc(C#N)c(C#N)nc1C1=C2N2CC2(C#N)C(C#N)=N1', 'O=C(/C=C/c1ccccc1OC(F)F)Nc1cccc(NC(=O)c2cccs2)c1', 'COc1cc(-c2nc(C)c(-c3cc4cc(Cl)ccc4[nH]3)s2)cc(OC)c1OC', 'CS(=O)(=O)N1CC(C(=O)NCc2cccc(C(F)(F)F)c2)Oc2ccccc21', 'O=C(O)c1cccc(-c2ccc3c(c2)C(=O)Nc2cc(OC(F)(F)F)ccc2N3)c1', 'COc1ccc(S(=O)(=O)N2CCc3ccccc32)cc1C(=O)NCC(F)(F)F', 'O=C1S/C(=C\\\\c2ccc(N3CCOCC3)cc2)C(=O)N1Cc1cccc(Cl)c1', 'O=C(Nc1cccc(-c2ccc(=O)[nH]n2)c1)c1ccc(-c2nc3ccccc3s2)o1', 'C1=CC2[CH-]CCC2C=C1.C1=CC2[CH-]CCC2C=C1.C[Si](C)=[Ti+2].[Cl-].[Cl-]', 'Fc1cccc(Cl)c1COc1ccc(C=[NH+]NC(=S)Nc2ccccc2)cc1', 'O=C(O)CCCCCN1C(=O)C(=Cc2cccc(-c3cncnc3)n2)SC1=S', 'CCCn1nc(-c2ncc[nH]2)c2c1CCN(C(=O)c1cncc(Br)c1)C2', 'O=C(NN=C(c1ccccc1)c1ccccc1)c1ccc(S(=O)(=O)C(F)F)cc1', 'COC(=O)NC(=O)[C@H](C)OC(=O)c1ccc2c(c1)C(=O)N(c1ccc(F)cc1)C2=O', 'COCOOCCSCCCC(c1ccc(Cl)cc1)c1ccc(Cl)cc1', 'C=CCN1C(=O)c2ccc(C(=O)NCCSCc3ccc(Cl)cc3)cc2C1=O', 'C/C=C/C(=O)OP(=O)([O-])OC[C@H]1O[C@@H](n2cnc3c(N)ncnc32)[C@H](O)[C@@H]1O', 'COc1ccc(NC(=O)C=Cc2cccc(OCc3csc(C)n3)c2)c(Cl)c1', 'COc1ccc(NC(=O)CSCC(=O)Nc2ccc(OC(F)(F)F)cc2)cc1', 'CN(CC(=O)O)c1ccc(C(=O)O)cc1.O=C1N=c2ccc([N+](=O)[O-])cc2=NC1=O', 'Cc1nc(CSc2ccc(C(=O)OC(C)C(=O)Nc3ncccn3)cc2)cs1', 'C=C/C=C\\\\C1C(C)c2ccc(-c3ccc(I)cc3)cc2C1(C)C', 'Cc1sc2ncnc(SCC(=O)Nc3ccc4c(c3)NC(=O)[C@H](C)O4)c2c1C', 'O=C(Nc1nnc(-c2ccccc2)s1)c1ccc(S(=O)(=O)N2CCCC2)cc1', 'Cc1cccc(NC(=O)c2cccc(S(=O)(=O)Nc3cccc(Cl)c3)c2)c1C', 'Cc1cc(O)cc(C)c1NC(=NS(=O)(=O)c1ccc(Cl)cc1)c1ccccc1', 'CC1(C(c2ccccc2)c2ccccc2)S[C@@H]2C(N)C(=O)N2C(C(=O)O)=C1Cl', 'C[C@H](C(=O)NCCc1cccs1)[NH+](C)CC(=O)Nc1ccc(Cl)c(Cl)c1', 'CCN(CC)S(=O)(=O)c1cc(C(=O)Nc2cccc(Cl)c2F)ccc1OC', 'C#C.Nc1nc(-c2cc(-c3ccon3)n(Cc3ccccc3F)n2)nc(Cl)c1F', 'CNc1nc(N)nc(-c2cc(OC)c(-c3nnc(C)o3)cc2Cl)c1C(F)(F)F', 'O=C(OCc1nc2ccccc2s1)c1cc(-c2ccc(F)cc2)nc2ccccc12', 'CCCN(Cc1nc2ccsc2c(=O)[nH]1)C(=O)Cc1csc(-c2ccco2)n1', 'CCSc1nnc(NC(=O)[C@@H](C)N(c2ccc(CC)cc2)S(C)(=O)=O)s1', 'COc1ccc(Cl)cc1NC(=O)CCCN(c1ccc(F)cc1)S(C)(=O)=O', 'O=C(CSc1nc(=O)n(Cc2ccco2)c2c1CCCC2)c1ccc(Cl)cc1', 'CCC(C(=O)Nc1ccc(F)c(Cl)c1)N(c1cccc(OC)c1)S(C)(=O)=O', 'Cc1ccc(-c2nc(N(CCC(=O)O)Cc3ccccc3)sc2C=O)cc1Cl', 'CCN(Cc1ccc(Cl)s1)C(=O)c1ccc(S(=O)(=O)N(CC)CC)cc1', 'Cc1ccccc1-c1nnc(SCCN2C(=O)c3ccccc3S2(=O)=O)n1C', 'Cc1cc(Cl)ccc1N(CC(=O)NCCOc1ccc(F)cc1)S(C)(=O)=O', 'CCC(C(=O)Nc1cc(Cl)ccc1OC)N(c1ccc(F)cc1)S(C)(=O)=O', 'Cc1cc(C(=O)COC(=O)C2(c3ccc(Cl)cc3)CC2)c(C)n1-c1nccs1', 'CC(C)S(=O)(=O)c1csc(NC(=O)Nc2ccc(C(C)(C)C)cc2)c1Cl', 'CCC1SC(=S)N(CCCCCC(=O)Nc2ccc(OC)c(Cl)c2)C1=O', 'O=C(CN1CCCC1=O)Nc1cccc(OCc2sc3ccccc3c2Cl)c1', 'O=C(NCc1cccc(C(F)(F)F)c1)c1coc(-c2ccc(C(F)(F)F)cc2)n1', 'O=C([O-])[C@@H]1CSc2c(-c3cccnc3)c(Cc3ccc4c(c3)OCO4)cc(=O)n21.[Li+]', 'CCN(CCCNC(=O)CSc1cccc2cccc(Cl)c12)S(C)(=O)=O', 'C=CCn1c(SCC(=O)NC(N)=O)nc2sc(-c3ccccc3)c(C)c2c1=O', 'CC(CC(C)(C)OOC(C)(C)CC(C)OC(=O)C(=O)Cl)OC(=O)C(=O)Cl', 'FC(F)(F)c1ccccc1NC(=S)N/N=C/c1ccc(N2CCOCC2)s1', 'O=C(CCc1ccsc1)NNC(=O)c1ccc(COc2ccc(Cl)cc2)cc1', 'Cc1ccccc1CN(C)C(=O)COC(=O)c1csc(-c2cccc(Cl)c2)n1', 'O=C(NCc1ccc(Cl)s1)C1CCCN1C(=O)c1ccc2ccccc2c1O', 'COC(=O)C1=C[C@H]([C@H]([C@@H](C1)O[C@H]2[C@@H]([C@H]([C@@H]([C@H](O2)COC(=O)/C=C/C3=CC=CC=C3)O)O)O)O)O', 'CNCC1Cc2cc(F)c(OCCNS(=O)(=O)C3CCC3)cc2C1Cc1cccc(Cl)c1', 'C=CC(=O)N1C[C@@H](n2nc(C#Cc3cc4ncn(C)c4cc3F)c3c(N)ncnc32)CC1C(F)F', 'CCCCCCC1=C(Cc2ccc(Br)cc2)N(C(=O)OCC)N(C(=O)OCC)C1C', 'Cc1ncc(-c2cnc(C)c(CCC(=O)[C@@H]3C4CC(C4)N3S(=O)(=O)c3ccc(F)cc3)c2)cn1', 'CC1=C(C(=O)OC2CCCCC2)C(c2sccc2C)n2nc(SCc3ccccc3)nc2N1', 'O=C(NCCNC(=O)C1(NC(=O)c2cnc3ccccc3n2)CCNCC1)c1ccc(Cl)cc1', 'CCOc1ccc2c[n+](-c3ccc4ncn(C)c4c3)c(C=O)c(C3=CC=C(C(F)(F)F)NC3)c2n1', 'CC(C)(C)[C@H](NC(=O)c1nn(Cc2ccc(C#N)cc2)c2ccc(Cl)cc12)C(=O)NCC(N)=O', 'CCc1c(C(=O)C(N)=O)c2c(OCc3ccccc3)cccn2c1Cc1cccc(C(F)(F)F)c1', 'C[C@H]1CN(S(=O)(=O)N2CCN(CN3C(=O)C(=O)c4cc5c(cc43)OCCO5)CC2)C[C@H](C)O1', 'COc1ccc(-c2noc(C3=C(C)N(CC4CCCO4)C(=S)NC3c3cccc(F)c3)n2)cc1', 'CC(=O)c1c(OS(=O)(=O)c2ccc(C)cc2)cc2c(c1OCc1ccccc1)CCC(C)(C)O2', 'CCOC(=O)c1ccc(Oc2c(C(F)(F)F)oc3c(C[NH+](CC)CC)c(O)ccc3c2=O)cc1', 'CN(C)[C@@H]1C(=O)C(C(N)=O)=C(O)[C@@]2(O)C(=O)C3=C(O)c4c(O)ccc(-c5cn[nH]c5)c4CC3CC12', 'C/N=c1\\\\ncc2cc(-c3cc(NC(=O)c4cc(C(F)(F)F)cnn4)ccc3C)c3n(c-2n1)CCN3', 'Cn1c(O)c([C@@H]2O[C@H](CO)[C@@H](O[C@@H]3O[C@H](CO)[C@H](O)[C@H](O)[C@H]3O)[C@H](O)[C@H]2O)c(=O)n(C)c1=O', 'CCCCSc1nnc2c(n1)O[C@H](c1ccc(SC)cc1)N(C(C)=O)c1c(C)cc(C)cc1-2', 'CCCn1c(NCCc2ccccc2)c(/C=C2/SC(=S)N(C(C)C)C2=O)c(C)c(C#N)c1=O', 'COc1cc(CN2CCN(Cc3cccc(Cl)c3)CC2)cc(OC)c1OC.O=C(O)C(=O)O', 'N#Cc1ccc2c(c1)CN(S(=O)(=O)c1ccccc1)[C@H](Cc1ccccc1)CC2=Cc1cnc[nH]1', 'CC(=O)N1CC(O)CC1c1nc(-c2ccc(N3CCOCC3)cc2)c2cnc3[nH]cc(Cl)c3n12', 'Cc1cnc(N2CCN(C(=O)c3c(F)cc(N4[C@H](CO)CCS4(=O)=O)cc3F)CC2)c(C)c1', 'CN(C)CCNc1ccc2c(c1)Sc1cccc(-c3cc(N4CCOCC4)cc(=O)[nH]3)c1S2', 'Cc1ccc(-c2cc(C/N=C(\\\\N)NS(=O)(=O)c3ccccc3)ccc2-c2ccc(C#N)cc2)cc1', 'CC1=C(C(=O)OCCCO[N+](=O)O)C(c2cccc([N+](=O)[O-])c2)C(C(=O)OCC(C)O)=C(C)N1', 'N#CC(=C1C=CC(=NO[Si](c2ccccc2)(c2ccccc2)c2ccccc2)C=C1)c1ccccc1', 'O=c1c(OC2CCCC2)c(N2CCN(S(=O)(=O)C3CC3)CC2)cnn1-c1cc(F)cc(F)c1', 'CCOC(CCN(C)C)CN/C(N)=N/Cc1ccc(OC)c(OC)c1.I', 'O=C(NO)c1ccc2oc(-c3ccc(NC4CCCCCC4)nc3)nc2c1.O=C(O)C(F)(F)F', 'CCOc1cc(/C=C(\\\\C#N)C(=O)Nc2cccc(C(F)(F)F)c2)ccc1OCc1cccc(C)c1', 'O=C(NCC(=O)N(c1ccc(F)cc1)C(C(=O)NC1CCCC1)c1ccncc1)c1cccs1', 'CCCCCCCCCCCOC(=O)c1ccccc1C(=O)OC(CC)S(=O)(=O)[O-].[K+]', 'CCOc1nc(N)nc2c1ncn2[C@@H]1O[C@@H]2COP(=O)(OC3CCCC3)O[C@H]2[C@@]1(C)N=[N+]=[N-]', 'C=C/C=C(\\\\C(=C)F)[C@H](C)/N=C1/NS(=O)(=O)[C@H](c2ccc(-c3ccnc(C#N)c3)cc2)C(C)(C)O1', 'CCOc1ccc(C(=O)N2CCN(c3cccc(Cl)c3)CC2)cc1CSc1ccc(C)cc1', 'Cc1cc(C)c(NC(=O)CSc2nc3c(sc4ncccc43)c(=O)n2CCC(C)C)c(C)c1', 'CN(Cc1cccs1)C(=O)CSc1nnc(-c2ccc(C(C)(C)C)cc2)n1Cc1ccco1', 'CN(C)CCC[C@](O)(c1ccc(F)cc1)c1ccc(C#N)cc1COC(=O)c1ccc(Cl)cc1', 'CCCOc1ccc([As](c2ccc(OCCC)cc2)c2ccc(OCCC)cc2)cc1', 'C=CCOC(=O)N[C@@H]1C(=O)N2C(C(=O)OCC=C)=C(/C=C3\\\\CCN(c4ccccn4)C3=O)OC[C@H]12', 'Cc1nc(NC(=O)CN2CCCC(O)(COc3cccc(Cl)c3)CC2)sc1C(=O)N(C)C', 'CCN/C(=N\\\\CCN1C(=O)CCCC1=O)NC1CC(C)(OC)C1(C)C.I', 'Cc1nc(CSc2ccc(C(=O)Nc3cccc(CN4CCC(C(N)=O)CC4)c3)cc2)cs1', 'CCOP(=O)(CO[C@H]1C[C@@H](n2cc(C)c(=O)n(C(=O)c3ccccc3)c2=O)C[C@@H]1O)OCC', 'COC(=O)C1=C(C)Nc2nc(SCc3ccccc3F)[nH]c(=O)c2C1c1ccc(N(C)C)cc1', 'O=C(CN1CC2CC(C1)N2CC(=O)NC1(C(F)(F)F)CC1)Nc1ccc(F)c(OC(F)F)c1', 'CNS(=O)(=O)Nc1ccc2cc(C(=O)Nc3cccc(C(C)(C)c4ccc(F)cc4)c3)[nH]c2c1', 'NCc1cc2cc(-c3ccc(C(=O)N4CCC(F)(F)CC4)cc3)cc(Oc3cccc(F)c3)c2o1', 'COc1ccc(-c2ccccc2C#N)cc1-c1cc(-c2ccccc2C#N)c(=O)n(-c2cccnc2)c1', 'COc1ccc2c(c1)C(CC(=O)c1ccc(NC(=O)c3cc(F)c(F)c(F)c3)cc1)=NC(C)(C)C2', 'CSc1ccc(C2Oc3nc(SCC(C)C)nnc3-c3cc(C)cc(C)c3N2C(C)=O)cc1', 'CC(C)OC(=O)Nc1cnccc1CN1C(=O)N(c2ccc(OC(F)(F)F)cc2)C(=O)C1(C)C', 'CCCCSCCCNC(=O)CN1C(=O)/C(=C/c2cccc(Cl)c2)SC2CCCCC21', 'CC(=O)OCOC(=O)c1ccc(C(=O)N/N=C\\\\c2c(CO)cnc(C)c2O)cc1-n1cccc1C', 'CC(C)CCn1c(SCC(=O)N(C)[C@H](C)c2nc3ccccc3s2)nc2ccccc2c1=O', 'CCN(CCOC(=O)C(C)(C)S(=O)C(=O)N(CC)CC)C(=O)S(=O)C(C(=O)O)C1CC1', 'COc1cc(OC)cc([C@@H](NC(=O)/C=C/c2cc([N+](=O)[O-])cc3c2OCOC3)c2nccn2C)c1', 'COc1cccc(Cc2nsc(N(CCC(=O)NCc3ccc(F)cc3)Cc3ccco3)n2)c1', 'COc1cc2ccccc2cc1-c1[nH]c2cc(C(F)(F)F)cc(C(F)(F)F)c2c1CCCCN', 'COCCOc1cc2c(NC(C)c3cc(N)cc(C(F)(F)F)c3)nc(C(=O)O)nc2cc1OC', 'C[C@@H](Nc1nc(Cl)nc2c1CN(C(=O)N1CC3CCC(C1)N3)C2)c1cccc(C(F)F)c1F', 'COC(C)[n+]1cnn(CC(c2cc(F)ccc2F)C(C)c2nc(-c3ccc(C#N)cc3)cs2)c1', 'CCCN1C(=S)NC(c2ccc(SC)cc2)C(c2nc(-c3ccc(OCC)cc3)no2)=C1C', 'O=C(O)CCCc1cn(Cc2cccc(/C=C/c3ccc4ccc(Cl)cc4n3)c2)c2ccccc12', 'Cc1ccc(NC(=O)c2c(NC(=O)c3cccc(Cl)c3)sc3c2CC[C@@H](C(C)(C)C)C3)cc1', 'CCCCNC(=O)[C@@H](C)N(Cc1cccc(OC)c1)C(=O)CSCc1c(F)cccc1Cl', 'COc1cccc(CN(C(=O)CSCc2c(F)cccc2Cl)[C@@H](C)C(=O)NC(C)(C)C)c1', 'CCCCC1(C(=O)On2c(O)ccc2O)NC(=O)[C@@]2(CCCCC1=O)SC[C@@H]1NC(=O)N[C@@H]12', 'CN(C)C(=O)CNC(=O)c1cccc(-c2cccc3oc(Cc4cccc(C(F)(F)F)c4)cc23)c1', 'COc1cc(/C=C(\\\\C#N)C(=O)Nc2c(C)cccc2C)ccc1OCc1cccc(C(F)(F)F)c1', 'CO[C@@H]1C(S(=O)(=O)c2ccccc2)=C[C@H](OCc2ccccc2)[C@H](OCc2ccccc2)[C@@H]1O', 'CC(C)(Oc1ccc(F)c(F)c1)C(=O)NC1C[C@H]2CC[C@@H](C1)N2c1ccc(S(N)(=O)=O)cn1', 'CCOc1cc(-c2cc(NCCc3c(F)cc4ncccc4c3F)ncn2)ccc1OCC(=O)O', 'Cc1ccc(SC(F)(F)CN[C@@H](CC(F)(F)Cc2cccnc2)C(=O)NC2(C#N)CC2)cc1', 'CCOC(=O)c1sc(Nc2ccc(NC(=O)CC(NCCOCCO)C(=O)O)cc2)nc1C', 'CCN/C(=N\\\\CC(C)(O)c1ccco1)NCCN(CCOC)C1CC1.I', 'CCN(CC)Cc1ccc(-c2c(O)[nH]c3ccc(C(=O)NCCS(C)(=O)=O)cc23)nc1.Cl', 'CC(C)(Cn1c(=O)[nH]c2cc(C(F)(F)F)ccc21)NCC(O)c1cc(O)cc2c1OCC(=O)N2', 'CCOC(=O)C(=CC=C(C)c1ccc2c(c1)C(C)(C)CCC2(C)C)c1cccc(Br)c1', 'Cc1cc(C)cc(-n2c(=O)/c(=C/c3ccccn3)s/c2=C(/C#N)C(=O)NC(C)c2ccccc2)c1', 'Cc1ccc(-c2csc(NC(=O)CSCC(=O)N3CCN(c4ccccc4)CC3)n2)cc1C', 'CC12CC(O)C3CC1(O[C@@H]1O[C@H](CO)[C@@H](O)[C@H](O)[C@@H]1O)C3(COC(=O)c1ccccc1)C(=O)O2', 'CCC(=O)NC1CC(n2cnc3c(NCc4cccc5ccccc45)nc(Cl)nc32)C(O)C1O', 'Cc1ccn2nc(Cn3nc(-c4cc(O)cc(O)c4)c4c(N)ncnc43)n(-c3ccccc3)c(=O)c12', 'N#CN/C(=N\\\\C1CCCCC1C(F)(F)F)N1CC(N2CCCC2=O)C(c2ccc(Cl)cc2)=N1', 'CC1(C(=O)Nc2nnc(CCCCc3nnc(NC(=O)C4(C)CCCO4)s3)s2)CCCO1', 'CCCC1NC(C)=C(C#N)C(c2ccc(F)cc2C(F)(F)F)C1(CCCC(F)(F)F)C(=O)O', 'O=C(Nc1cccnc1)N1CCC[C@@H](CNc2nc(-c3c[nH]c4ncc(Cl)cc34)ncc2F)C1', 'C=CC(=O)N1CCC[C@H]1COc1cnccc1-c1[nH]c2cccnc2c1-c1ccc2ccsc2c1', 'CC(C)(C#N)c1cc(-c2cccc(C=C3c4ccccc4Sc4ccccc43)c2)c2ncccc2c1', 'COc1ccc(-c2nn(-c3ccccc3)cc2/C=C2\\\\SC(=O)N\\\\C2=N/c2ccc(C)c(C)c2)cc1', 'CCOC(=O)N[C@@H](CC(=O)N/N=C\\\\c1ccc(-c2ccc(OC)cc2[N+](=O)[O-])o1)c1ccccc1', 'Cc1cccc(COc2ccccc2C2CC(=O)Nc3c2c(C)nn3-c2nc3ccccc3s2)c1', 'Cc1ccc(C)c(S(=O)(=O)N2CCN(C(=O)CSc3nnnn3C[C@H]3CCCO3)CC2)c1', 'CCCCN1C(=O)/C(=C\\\\c2c(C)c(C#N)c(=O)n(CCC)c2NCc2ccccc2)SC1=S', 'C=CC(=O)O[C@@H]1C[C@](O)(C(=O)OC(C)C(C)O)C[C@@H](OC(=O)/C=C/c2ccc(O)c(O)c2)[C@H]1O', 'C=CCn1/c(=N/C(=O)CSCC(=O)N2CCN(c3ccccc3)CC2)sc2cc(C)ccc21', 'CCOP(=O)(CO[C@H]1C[C@@H](Oc2ncc(C)c(=O)n2C(=O)c2ccccc2)C[C@@H]1O)OCC', 'Cc1ccc(-c2csc(N(C(=O)Cn3ncc(=O)c4ccccc43)c3cc(C)ccc3C)n2)cc1', 'CSc1ccc([C@@H]2Oc3nc(SCCC(C)C)nnc3-c3cc(C)ccc3N2C(C)=O)cc1', 'CSc1ccc([C@@H]2Oc3nc(SCC(C)C)nnc3-c3cc(C)cc(C)c3N2C(C)=O)cc1', 'CCN1C(=O)C2(CCc3c2ccc(O)c3C)C(=O)N(c2ccccc2)c2cc(C(F)(F)F)ccc21', 'CN1CCN(c2ccc(NC(=O)c3ccc(NCc4ccccc4Cl)c([N+](=O)[O-])c3)nc2)CC1', 'CCOC(=O)COC1(c2ccc(OCc3cccc(-c4ccc(S(C)=O)cc4)c3)cc2)COC1', 'COCc1nnc(NS(=O)(=O)[C@@H](C)[C@H](C)c2ncc(F)cn2)n1-c1c(OC)cccc1OC', 'CC(C)CCNC(=O)CSc1nc2c(sc3ncccc32)c(=O)n1C[C@@H](C)c1ccccc1', 'Cc1cccc(NC(=O)/C(C#N)=C/c2cc(Cl)ccc2OCc2c(C)ccc3ccccc23)c1C', 'CC(N1Cc2cc(Cl)ccc2-n2c(nnc2N2CC3(CN(C(=O)C4CC4)C3)C2)C1)C(F)(F)F', 'COc1ccccc1-n1c(COc2ccccc2-c2ccccc2)nnc1SCc1ccccn1', 'CCN/C(=N\\\\Cc1cc(C(CC)CC)no1)NCC(=O)OC(C)(C)C.I', 'Cc1csc(SCc2ccc(C(=O)N3CCN(CC(=O)NCc4ccccc4)CC3)cc2)n1', 'C[C@@]12C[C@@]3(O)OC(O1)C1(COC(=O)c4ccccc4)[C@H]3C[C@@]12OC1OC(CO)C(O)C(O)C1O', 'CCNc1ccc2cc1/N=c1/s/c(=C/N3CCc4ccccc43)c(=O)n1Cc1ccccc1C2=O', 'CCC(C)N(CC(=O)N1CCc2sccc2C1c1ccc(Cl)cc1)C(=O)c1ccccc1C', 'COc1ccc(C(=O)N2CC(=O)N(Cc3ccc(Cl)c(F)c3)[C@@H](CCc3ccccc3)C2)cc1', 'CCOC(=O)C1=C(COC(=O)c2cc(S(=O)(=O)N(C)C)ccc2N2CCCC2)NC(=O)NC1', 'CC1(C)O[C@@H]2[C@H](O1)[C@@H](CO)O[C@H]2n1cnc2c(NC(=O)NC(CCC(=O)O)C(=O)O)ncnc21', 'C[C@]1(O[C@H]2O[C@H](CO)[C@H](O)[C@@H](O)[C@H]2O)O[C@H]2CC(=O)[C@H]3C[C@]1(O)[C@]23COC(=O)c1ccccc1', 'COc1ccc(N2N=C(C)C(C(=O)Nc3cccc(C(C)(F)F)c3)C2=O)cc1-c1ccc[n+]([O-])c1', 'Cc1occc1-c1nnc(SC(C)C(=O)Nc2ccccc2-c2ccccc2)n1-c1ccccc1', 'C=CN(C)CC.Cc1cc(-c2ccc(F)cc2)c(Oc2ccc(Cl)c(C(F)(F)F)c2)nc1C', 'CNC(=O)[C@@H](Cc1ccccc1)N(Cc1ccc(Cl)cc1)C(=O)CSCc1ccccc1C', 'O=C(CSc1nnc(-c2ccco2)n1Cc1ccccc1)NC(c1ccccc1)c1ccccc1', 'CC(C)[C@@H](NC(=O)C1CCN(c2ccc3nnc(C(F)(F)F)n3n2)CC1)c1ccc(Cl)cc1', 'COC(=O)C(=C(C)NC(C)C1CCN(C(=O)OC(C)(C)C)CC1)c1ccccc1Br', 'C/N=C(/NCCc1ccc(OC)c(OC)c1)NCCN(C)CCOC.I', 'C=CCC(F)(F)C1=CCCCN(C)C(c2ccc(NC(=O)c3c(F)cc(F)cc3F)cc2F)=C1', 'CCN(C(=O)[C@@H]1C[C@@H](C)N(C(=O)c2ccc(OC)c(F)c2)c2ccccc21)c1ccc(Cl)cc1', 'O=C(COC(=O)C1CCN(C(=O)c2ccc(C(F)(F)F)cc2)CC1)NCCc1ccc(F)cc1', 'Clc1nc(NC2CCC(Oc3nc(N4CCOCC4)cc4ncccc34)CC2)c2occc2n1', 'COc1ccc2c(c1)/C(=C/C(=O)c1cccc(NC(=O)c3c(F)ccc(F)c3F)c1)NC(C)(C)C2', 'CCN(CC)CCCC(C)Nc1c2ccccc2nc2c1[nH]c1ccc(Cl)cc12.Cl.Cl', 'Cc1cc2c(cc1C#N)cc(C)n2S(=O)(=O)c1ccccc1.Cc1cc2cc(C#N)c(C)cc2[nH]1', 'CCOC(=O)[C@H](C)NC(=O)c1nc(-c2ccc(OC)c3nc(C(F)(F)F)ccc23)oc1[C@H](C)N', 'CC(C)Oc1cc([C@@H]2CC(=O)N(CC(=O)N(C)c3nnc(C4CC4)s3)C2)ccc1OC(F)F', 'Cl.Cl.Fc1ccc(N(CCCN2CCN(c3ccccn3)CC2)c2ccc(F)cc2)cc1', 'O=C(CSC1=N/C(=C/c2ccccc2)C(=O)N1c1ccc(F)cc1)NC(=O)NC1CCCCC1', 'CC12CCC(C(=O)Nc3ccccc3)(C/C1=N\\\\OC(=O)c1cc([N+](=O)[O-])cc([N+](=O)[O-])c1)C2(C)C', 'C[C@H](Oc1ccncc1C1(O)CCC1)C(F)(F)F.Cc1nc(C(C)(N)CS(C)(=O)=O)no1', 'O=C(Nc1ccccc1-n1cccc1)c1csc(C2CCN(C(=O)C#Cc3ccccc3)CC2)n1', 'COc1cc(/C=C(\\\\C#N)C(=O)NCCc2ccccc2)ccc1OCc1cccc(C(F)(F)F)c1', 'Cc1ccc(-c2csc3ncn(CC(=O)Nc4ccc(Nc5ccccc5)cc4)c(=O)c23)c(C)c1', 'Cc1nn(-c2ccc(F)cc2)c(Cl)c1/C=C/C(=O)OCC(=O)c1ccc(C2CCCCC2)cc1', 'CC(O)C(=O)N1CCN2C(=O)c3cnc(C(=CC(=[NH2+])c4ccc(F)cc4)C(F)(F)F)n3C2(C)C1', 'CCN(CC)c1ccc(C2/C(=C(\\\\O)c3ccc(F)cc3)C(=O)C(=O)N2c2ccc(F)cc2F)cc1', 'CCc1ccc(F)cc1C(C)(C)CC(O)(C(=O)Nc1ccc2c(=O)onc(C)c2c1)C(F)(F)F', 'CC1(C)CNC(=O)NC1=C(C=Cc1ccc(C(F)(F)F)cc1)C=Cc1ccc(C(F)(F)F)cc1', 'CCCCOCCOCCN/C(=N\\\\C)NCc1ccnc(OCC)c1.I', 'CO[C@@H](C)COc1ccc(C(C)NC(=O)Cn2cnc3cccc([N+](=O)[O-])c32)cc1C(F)(F)F', 'CNC(=O)[C@@H](Cc1ccccc1)N(Cc1cccc(C)c1)C(=O)CCSc1ccc(Cl)cc1', 'CCC(C)(C)[C@@H]1CCc2c(sc(NC(=O)CSc3nnc(Cc4ccccc4)o3)c2C#N)C1', 'CC(C)CCc1cc(F)cc(S(=O)(=O)c2ccc(CNC(=O)c3cnc4[nH]ncc4c3)cc2)c1', 'Cc1nc(N2CCN(CCF)CC2)c2nc(-c3ccccc3Cl)n([C@H]3CCOC3)c2n1.Cl', 'Nc1ncnc2c1c(-c1cc(-c3ccccn3)nnc1-c1ccccn1)cn2[C@H]1CC(O)=C(CO)O1', 'CC1(C)c2nccnc2-c2ccccc2-c2c1sc1c(-c3ccccc3-c3ccccc3)cccc21', 'Cc1nn(-c2ccc(Cl)cc2)cc1C(=O)NCC(C)CNC(=O)C1CC(c2cccnc2)=NO1', 'CC(C)[N+](C)(CCC(C(N)=O)(c1ccccc1)c1ccccc1)C(C)C.[I-]', 'CC12CC(O)C3CC1(OC1OC(CO)C(O)C(O)C1O)C3(COC(=O)c1ccccc1)C(=O)O2', 'Cn1c(=O)n(C)c2cc(NC(=O)C3CCN(Cc4nc(-c5ccccc5Cl)no4)CC3)ccc21', 'CCCCCCCSc1nc2c(c(=O)[nH]c(=O)n2C)n1C[C@H](O)COc1ccc(Cl)cc1', 'CC/C(=C/c1ccc(SCCNC)nc1)c1ccc2oc(Cl)cc2c1.Cc1ccc(O)cc1', 'N#Cc1cc2cc3c(-c4ccccc4)c4cc5ccccc5cc4c(-c4ccccc4)c3cc2cc1C#N', 'NC(CC(=O)O)C(=O)NC(Cc1ccccc1)C(=O)N1CCCC1C(=O)NC(CS)C(=O)O', 'Cc1nc2ccc(-c3ccc4c(c3)CN(C(=O)c3cccc(-c5csc(C)n5)c3)CCO4)cc2[nH]1', 'O=C(CN1C[C@@H](C(=O)N2CCCCC2)Oc2ccccc21)Nc1cc(Cl)ccc1-n1cncn1', 'CON=C(N)c1ccc(-c2ccc(-c3ccc(C(N)=NOC)cc3)o2)cc1.O=C(O)C=CC(=O)O', 'CCCNC(=O)C1CC(=O)C(/C=N/c2cccc3c2C(=O)N(C2CCC(=O)NC2=O)C3=O)=C(O)C1', 'CCOC(=O)c1sc(Nc2ccc(NC(=O)C[C@H](NCCOCCO)C(=O)O)cc2)nc1C', 'CCOC(=O)c1c(C)oc2nc(COC(=O)[C@H](C(C)C)N3C(=O)c4ccccc4C3=O)nc(N)c12', 'CC(C)(C)OC(=O)CN(CCBr)[C@@H](Cc1c[nH]c2ccccc12)C(=O)OC(C)(C)C', 'O=C(O)c1cc(NS(=O)(=O)c2cc(F)ccc2F)cnc1N1CCC[C@H](CN2CCCC2)C1', 'CCCCCCCCCCOC(=O)c1ccccc1C(=O)OCC(CC)S(=O)(=O)[O-].[K+]', 'CNC(=O)C(Cc1ccccc1)N(Cc1ccccc1Cl)C(=O)CSCc1ccccc1C', 'CC(C)N(C(=O)Cn1c(Cl)nc2c1c(=O)n(C)c(=O)n2C)c1ccc(Nc2ccccc2)cc1', 'CCN(CC)CC(O)C/[N+](CC)=c1/ccc2nc3ccc(C)cc3sc-2c1.O=S([O-])O[O-]', 'CCNC(=O)C(Cc1ccccc1)N(Cc1ccccc1Cl)C(=O)CCSc1ccccc1', 'CC(C)C(NC(=O)Oc1ccc2c3c1O[C@@H]1C(=O)CCC4(O)[C@@H](C2)N(C)CC[C@]314)C(=O)O.Cl', 'CCCN(Cc1cccn1Cc1nc(C(=O)NCc2ccco2)cs1)C(=O)c1ccc(F)cc1', 'COc1cccc(-n2c(=O)n(Cc3ccccc3F)c(=O)n(CC(N)c3ccccc3)c2=O)c1F', 'COCCN1C(=S)NC(c2ccc(C)c(C)c2)C(c2nc(-c3ccc(SC)cc3)no2)=C1C', 'CC(C)C[C@@H](C(N)=O)N(C(=O)c1cc2ccccc2s1)C1C=NC(c2ccccc2F)NC1=O', 'CC(c1ccccc1F)N(C)C(=O)c1c[nH]c2ncc(-c3ccc(S(=O)(=O)C(C)C)cc3)nc12', 'CCc1ccc2nc(NC(=O)c3c(-c4ccccc4)c(-c4ccccc4)nn(CC)c3=O)sc2c1', 'CCOC(=O)c1cnc(N2CCC(c3cc4c(-c5cc(F)ccc5OC)ccnc4[nH]3)CC2)s1', 'O=C1[C@@H]2[C@H](Cc3c[nH]c4ccccc34)N[C@]3(C(=O)Nc4ccccc43)[C@@H]2C(=O)N1c1ccc(F)cc1', 'CCOC(=O)N1CCN(C(=O)c2ccc(CSc3ccc(-c4ccc(F)cc4)nn3)cc2)CC1', 'CC1CCN(C(=O)CSc2nc(CN3CCOCC3)nc3ccccc23)c2ccccc2S1', 'Cc1ccccc1/N=C1\\\\S[C@H](CC(=O)Nc2ccc3ccccc3c2)C(=O)N1Cc1ccccn1', 'CCOC(=O)c1cc(C)n(Cc2cc(-c3ccccc3F)cc3sc(N4CCOCC4)nc23)n1', 'NS(=O)(=O)c1ccc(/N=N/c2c(-c3ccc(CCc4ccccc4)cc3)[nH]c3ccccc23)cc1', 'CC(CC(C)(C)c1ccccc1)NC(=O)C1CCN(S(=O)(=O)c2ccc(F)c(Cl)c2)CC1', 'CCOC(CNC(=O)c1nonc1NC(=O)OCC1c2ccccc2-c2ccccc21)CC(=O)O', 'Cc1cnc(C2CCC2c2nc3c(c(C#N)nn3[C@@H](C)c3ccc(C(F)(F)F)nc3)c(=O)[nH]2)nc1', 'C/N=C(\\\\NCCOCCC(C)C)NCc1cccnc1OCCOC.I', 'CCOc1ccc(CN(CC)C(=O)CCNc2ccc(S(N)(=O)=O)cc2[N+](=O)[O-])cc1OC', 'Cc1cc2n(n1)C1(CCN(S(=O)(=O)c3ccc(OC(F)F)cc3)CC1)CC(=O)N2CC1CC1', 'CC(C)Oc1ccccc1[As](c1ccccc1OC(C)C)c1ccccc1OC(C)C', 'NC(CS)C(=O)N1CCCC1C(=O)NC(Cc1ccccc1)C(=O)NC(CC(=O)O)C(=O)O', 'C/N=C(\\\\NCCCN(C)CCOC)NCc1ccc(OC)c(OC)c1.I', 'COc1ccc(C=Nc2sc3c(c2C(=O)Nc2ccc(Cl)cc2)CC[C@@H](C(C)(C)C)C3)cc1', '[H]/N=C(\\\\c1ccc(Cl)cc1)C(CNc1nc(OCC)ncc1C(=O)NCC(N)=O)c1ccccc1', 'C/N=C(/NCC(=O)N1CCCCC1)N1CCC(C(=O)OC(C)(C)C)C1.I', 'CC1(C)c2ccccc2Sc2ccc(-c3ccc4ccc5ccc(-c6ccccc6)nc5c4n3)cc21', 'CCCCN(CCCC)c1c([N+](=O)[O-])cc(S(=O)(=O)Nc2ccc(OC)cc2)cc1[N+](=O)[O-]', 'Cc1ccc(Sc2ccc(C3C(c4ccccn4)NC(=S)N3CCN3CCOCC3)o2)cc1', 'CCc1csc([C@H](Cc2ccc([N+](=O)[O-])cc2)NC(=O)C(CC)(Cc2ccccc2)C(=O)[O-])n1', 'CN(C)CCCn1c(SCC(=O)c2c[nH]c3ccccc23)nc2sc3c(c2c1=O)CCCC3', 'CC(=O)OCOC(=O)SC(C)(C)C(=O)N[C@@H](CS)C(=O)OCCCCN1CCOCC1', 'CNC(=O)C(Cc1ccccc1)N(Cc1cccc(C)c1)C(=O)CSCc1ccc(Cl)cc1', 'COc1cccc(NC(=O)c2cc(C)c3nn(CC4CCOC4)cc3c2)n1.O=C(O)C(F)(F)F', 'N#Cc1ccc(C2(O)CCN(C(=O)c3ccc(NSc4cccc5cccnc45)cc3)CC2)cc1', 'Cc1ccc(-c2ncn[nH]2)cc1[N+](=O)[O-].Cl.NNC=O.[H]/N=C(\\\\C)c1ccc(C)c([N+](=O)[O-])c1.[H][H]', 'CC(C)C(=O)CCc1ccc(C(F)F)c(C(=O)Nc2ncc(-c3ccc(C(F)(F)F)nc3)[nH]2)c1', 'CCOc1ccc(C(=O)N2CCN(Cc3ccccc3)CC2)cc1CSc1ccc(Cl)cc1', '[C-]#[N+]c1ccc(-c2ccc3c(c2)c2ccccc2c2cc(-c4ccc(C#N)cc4)c4ccccc4c32)cc1', 'CC(C)(C)[Si](C)(C)OC[C@H]1O[C@@H](n2cc3ccc4c(=O)[nH]nc(Cl)c(n2)c34)[C@](C)(O)[C@@H]1O', 'CCC(c1cc(C(F)(F)F)cc(C(F)(F)F)c1)N1CCOc2nccc(-c3ccccc3)c2C1', 'C=C1/C=C(CCCN2CCO2)\\\\C=N/N/C=C\\\\1C(=O)c1c(F)ccc(NS(=O)(=O)CCC)c1F', 'Cl.O=C(N[C@@H]1CCNC[C@H]1F)c1cnn2ccc(N3CCC[C@@H]3c3cc(F)ccc3F)nc12', 'CCN(CC)C(=S)c1ccc(-c2c3ccc(=[N+](C)C)cc-3sc3cc(N(C)C)ccc23)s1', 'O=S(=O)(NCCCCN1CCN(c2nsc3ccccc23)CC1)c1cccc2ccccc12', 'Cc1ccc(C2c3ccsc3CCN2C(=O)CN(C(=O)c2ccc(Cl)cc2)C(C)(C)C)cc1', 'CS(=O)(=O)N1CCN(C(=O)CN2CCN(Cc3ccc(-c4cccc(F)c4)s3)CC2)CC1', 'Nc1cc(Oc2ccc(-c3nc(NC4=CC(C(F)(F)F)CC=C4)n[nH]3)c3ccccc23)nc(N)n1', 'CC(C)C(=O)N[C@@]1(C)C[C@@H](c2cc(Br)ccc2OCC(N)=O)O[C@H]2C[C@@H](C)CC[C@@H]21', 'CC(C)C(/C=C/c1ccccc1C(F)(F)F)C(=O)OC(C#N)c1cccc(Oc2ccccc2)n1', 'O[C@H](c1ccc(-c2cc(Nc3nccc(C(F)(F)F)n3)cc(N3CCOCC3)c2)cc1)C(F)F', 'COc1ccc(COC2C(O)C(Sc3ccccc3)OC3COC(c4ccccc4)OC32)cc1', 'Cc1cc(C)cc(-n2c(SCC(=O)N3CCc4ccccc43)nc3c([nH]c4ccccc43)c2=O)c1', 'C[C@H](NC(=O)c1ccccc1C(F)(F)F)C(=O)Nc1cc(C(C)(C)c2cc(F)cc(F)c2)[nH]n1', 'C[C@@]12C[C@@H](O)[C@@H]3C[C@@]1(O[C@@H]1O[C@H](CO)[C@@H](O)[C@H](O)[C@H]1O)[C@@]3(COC(=O)c1ccccc1)C(=O)O2', 'COC(=O)C(OC(C)(C)C)c1c(C)cc2nc(-c3cccc(-c4ccc(F)cc4)c3)cn2c1Cl', 'CC(O)COc1cnc(/C(F)=C/c2ccc(F)c(C3(C)CS(=O)(=O)C(C)(C)C(N)=N3)c2)cn1', 'CCC(c1cn(-c2ccc(F)cc2F)nn1)n1cc(-c2cc(F)cnc2OC)c2c(N)ncnc21', 'CC(C)c1nc(N(C)S(C)(=O)=O)nc(-c2ccc(F)cc2)c1/C=C/C(O)CC(O)CC(=O)[O-]', 'CC(C)(C)OC(=O)N1CCc2cc3c(c(Br)c2CC1)N(CCCCCO)C(=O)CC3', '[C-]#[N+]c1cnc(N)nc1N[C@@H](C)c1cc2cccc(-c3ccc(=O)n(C)c3)c2c(=O)n1-c1ccon1', 'CNC(=O)c1ccccc1Nc1nc(Nc2ccc(OC)c3c2N(C)C(=O)CCC3)ncc1Cl', '[C-]#[N+]c1ccc2c3ccc(C#N)cc3n(-c3cccc4c3C(=O)N(c3c(C)cc(C)cc3C)C4=O)c2c1', 'C[C@@]12C[C@@]3(O)O[C@@H](O1)[C@]1(COC(=O)c4ccccc4)[C@@H]3C[C@@]12O[C@@H]1O[C@H](CO)[C@@H](O)[C@H](O)[C@@H]1O', '[C-]#[N+]c1cc(CNC(=O)c2cc(C(=O)N[C@H]3CCc4cc(C(C)=O)ccc43)n3ncnc3n2)ccn1', 'CC(c1nc(-c2cccc(C(F)(F)F)c2)no1)N1CC2CCC(N)C2C1.O=C(O)C(F)(F)F', 'COC(=O)C1O[C@@H](Sc2ccccc2)C(OCc2ccccc2)[C@H](OCc2ccccc2)[C@@H]1O', 'CCOC(=O)c1sc2cccc(F)c2c1CN1CCN(Cc2cc(=O)n3ccccc3n2)CC1', 'CS(=O)(=O)Nc1cccc(C(=O)NCCNC(=O)CC(N)C2CCc3cc(F)c(F)cc32)c1', 'Cc1cc(C)cc(COc2ccc3ccccc3c2/C=C(\\\\C#N)C(=O)Nc2ccc(C)c(Cl)c2)c1', 'Cc1ccc([C@H]2C[C@H](C(F)(F)F)n3nc(C(=O)NCc4c(C)nn(C)c4C)c(Cl)c3N2)cc1', 'COc1cc(OC)cc(C(=O)N2CCN(C(=O)[C@H](C)NS(=O)(=O)c3c(C)noc3C)CC2)c1', 'O=C(O)c1cccc([C@H]2C[C@@H](N[C@@H]3CCc4ccccc43)C(=O)N2c2ccc(C(F)(F)F)cc2)c1', 'Cc1ccc(C(=O)NC[C@H](c2cccs2)[NH+]2CCOCC2)cc1S(=O)(=O)N1CCOCC1', 'O=C(Cc1ccccc1)NC(=S)Nc1ccccc1C(=O)Nc1ccc(Nc2ccccc2)cc1', 'Cc1cccc(COc2ccc([C@H]3CC(=O)Nc4c3c(C)nn4-c3nc4ccccc4s3)cc2)c1', 'CC(=O)N1CC(NC(=O)c2ccccc2)C(=O)N(CC(=O)NC(C=O)CC(=O)O)c2ccccc21', 'Cc1nc(-c2ccc(CCNC(=O)/C(C#N)=C/c3cc(C)n(CC4CCCO4)c3C)s2)cs1', 'CCCCOc1cc(C)cc(F)c1-c1cccc(-c2cn3c(Cl)c(C(=O)O)c(C)c(C)c3n2)c1', 'CCC12CC(=C3C4(C1N(CC4)CC=C2)C5=CC=CC=C5N3)C(=O)OC', 'CCc1cccc(N2C[C@H](C(=O)Nc3ccc(C)cc3C)CC2=O)c1', 'C=CCN(CC=C)CC(=O)Nc1ccccc1OCc1ccccc1', 'CC1CC(C(=O)O)CN(C(=O)NCC(C)(C)c2cccc(F)c2)C1', 'Cc1cccc(NC(=O)C(C)(C)C(=O)N2c3ccccc3CC2C)c1', 'CCc1ccc(N2CC[C@H](C(=O)Nc3cccc(CC)c3)C2=O)cc1', '[H]/N=C/N1CCC(OC(=O)C(C)(c2ccccc2)c2ccccc2)CC1', 'CCCC(CCO)CNC(=O)c1cc(N2CCCC2=O)ccc1F', 'c1cnc(-n2cncn2)c(CNc2cc(C3CCNCC3)ncn2)c1', 'Cc1cc(NC(=O)C23CC4CC(C2)CC(c2ccccc2)(C4)C3)no1', 'Cc1ccc(C(=O)N2CCCN(C(=O)Cc3ccccc3)CC2)cc1', 'CCCCc1ccc(NC(=O)/C=C/c2ccc(NC(C)=O)cc2)cc1', 'Cc1cc(C)c(NC(=O)C2(C(=O)NCc3ccccc3)CC2)c(C)c1', 'CCN(C(=O)c1cccc(N2CCCC2=O)c1)c1ccc(C)cc1C', 'Cc1cccc(CNC(=O)C2(C(=O)Nc3cc(C)ccc3C)CC2)c1', 'Cc1cc(C)cc(N2CC[C@H](NC(=O)c3ccc(C)cc3C)C2=O)c1', 'CCc1ccc(N2CC(C(=O)Nc3cc(C)ccc3C)CC2=O)cc1', 'Oc1c2cccc1CCCCCc1cccc(c1O)/C=N\\\\CC/N=C\\\\2', 'CCc1ccc(NC(=O)[C@@H]2CC(=O)N(c3cccc(C)c3C)C2)cc1', 'Cc1ccc(N2CCN(C(=O)c3ccccc3C)[C@@H](C)C2=O)cc1C', 'CC[C@]12C=CCN3CC[C@@]4(c5ccccc5[N-][C@H]4[C+](C(=O)OC)C1)[C@@H]32', 'CC(C)(C)c1ccc(CN2C(=O)N[C@@](C)(c3ccccc3)C2=O)cc1', 'O=C(c1cc2c([nH]c1=O)CCC2)N1CCCC[C@@H]1Cc1ccccc1', 'Cc1ccccc1[C@H](OC[C@H](O)Cn1ccnc1C)c1ccccc1', 'CCc1ccc(NC(=O)C2(C(=O)Nc3cc(C)ccc3C)CC2)cc1', 'O=C(N/N=C\\\\c1cccc(OCc2ccccc2)c1)C1CCCCC1', 'O=C(N[C@H](Cc1ccccn1)C1CC(O)C1)c1ccc2c(c1)CCC2', 'COc1cc(F)ccc1N1CCN(C(=O)CCC2CCCO2)CC1', 'CC(C)CCC(C)(O)CNC(=O)/C=C/C(=O)Nc1ccc(F)cc1', 'C[C@]12CCC3C(CC=C4C[C@@H](O)CC[C@@]43/C=C\\\\Cl)C1CC[C@@H]2O', 'O=C(Nc1ccc(N2CCc3ccccc3C2)cc1)C1CCOCC1', 'CCC(CC)C(=O)N1CCN(C(=O)c2cc(F)ccc2OC)CC1', 'CCCn1cnc2c(-c3ccc(OC4CCCCO4)cc3)cccc21', 'Cc1ccc(NC(=O)[C@H]2CC(=O)N(c3cccc(C)c3C)C2)c(C)c1', 'COc1ccc(C(NC(=O)CN2CCc3ccccc32)C2CC2)cc1', 'Cc1ccc(C(=O)Nc2ccc(C)c(N3CCCCC3=O)c2)c(C)c1', 'c1cnc(Nc2cnc(C3CCCN(Cc4cnc[nH]4)C3)cn2)cn1', 'Cc1ccc(C(=O)N2CC[C@@H](CNC(=O)OC(C)(C)C)C2)cc1F', 'CCc1ccccc1N1C[C@@H](C(=O)Nc2c(C)cccc2C)CC1=O', 'COc1cccc(/C(N)=C/C(=C\\\\C(=O)c2ccccc2)NC(C)C)c1', 'Cc1cccc(CCNC2CCc3cc(/C=C/C(=O)NO)ccc32)c1', 'Cc1ccccc1[C@H](OC[C@@H](O)Cn1ccnc1C)c1ccccc1', 'Cc1cc(C)c(C(=O)OCCN(CCC#N)c2ccccc2)c(C)c1', 'CC(C)c1ccc2oc(-c3ccc(NC(=O)C(C)(C)C)cc3)nc2c1', 'O=C(CNC(=O)c1ccc(-c2ccccc2)cc1)NCC1CCCC1', 'O=C(O)[C@@]12CCCC[C@@H]1CN(Cc1cccc(-c3ccncc3)c1)C2', 'CCCCC(=O)NCc1ccc(-c2nc3cc(C)c(C)cc3o2)cc1', 'CC[C@@H](NC(=O)c1ccc(N2CCCC2=O)cc1)c1ccc(C)cc1', 'COCC(=O)NCCC1CCOC12CN(Cc1ccccc1F)C2', 'CC(O)CC(CNC(=O)c1cc2ccccc2n1C)c1ccccc1', 'Cc1cc(C)cc(C(=O)N2CC(=O)N(c3ccccc3C)C[C@H]2C)c1', 'COc1ccc2[nH]cc(C(C)(C)C(=O)NCc3cccc(C)c3)c2c1', 'O=C(Nc1cccc2ccccc12)C1=C(N2CCOCC2)CCCC1', 'O=C(C1CCNCC1)N1CCC[C@@](O)(COc2ccc(F)cc2)C1', 'O=C(c1ccc[n+]([O-])c1)N1CC[C@H](c2ccccc2)[C@H]2CCCC[C@H]21', 'COCC(=O)N1C[C@@H]2CCN(Cc3ccc(F)cc3)C[C@]2(CO)C1', 'c1ccc(-c2noc3cc(OCCCN4CCCCC4)ccc23)cc1', 'COc1ccc(CCNCc2cc3ccc(C)c(C)c3[nH]c2=O)cc1', 'CC(C)c1ccc(C=C(C(=O)N2CCCC2)n2ccccc2=O)cc1', 'CCCCN(Cc1cccn1Cc1ccccc1)C(=O)c1ccco1', 'COc1ccc(CCNC(=O)CN2CCCCCCC2=O)cc1F', 'C[C@@H](NCc1ccc2c(c1)CCO2)c1ccc(N2CCCC2=O)cc1', 'COc1cccc([C@@H](C)N2CCC[C@@H](c3nc4ccccc4o3)C2)c1', 'Cc1ccc(C(=O)CN2CCN(C(=O)c3cccc(C)c3)CC2)cc1', 'CCO/C(=N\\\\[C@@H]1CCCc2ccccc21)NC(=O)c1cccc(C)c1', 'Cc1ccc(O)c(C(CC(=O)NC2[C@H]3CNC[C@@H]23)c2ccccc2)c1', 'CCc1ccc(NC(=O)CN2C(=O)C(C)(C)c3cc(C)ccc32)cc1', 'CC1CCCN(CCC(=O)NC(Cc2ccccc2F)C(=O)O)C1', 'CN1CCC(CC(=O)Nc2ccccc2C(=O)c2ccccc2)CC1', 'C/C=C(\\\\Nc1ccccc1)c1cc(O)c(NC)c(C2(C=O)CCC2)c1', 'CCN(CCO)C(=O)[C@@H]1CCC(=O)N(CCc2cccc(F)c2)C1', 'COc1ccccc1[C@H]1C2=C(Cc3n[nH]c(C)c31)CC(C)(C)CC2=O', 'CC1CNC(OCC2CC2)C(C)N1C(=O)OCc1ccccc1F', 'O=C(CN1CCC(O)(COc2ccc(F)cc2)C1)NC1CCCC1', 'COCCNc1ncc(B2OC(C)(C)C(C)(C)O2)cc1C(=O)OC', 'N#CCCC1(CCC#N)C(=O)c2ccccc2OC1C1CCCCC1', 'C/C=C1/CN2[C@H]3Cc4c(n(C)c5ccccc45)[C@@H]2C[C@@H]1[C@@]3(C=O)CO', 'O=C(NCC(c1ccccc1)c1ccccc1)N[C@@H]1C=C[C@H](CO)C1', 'CCCOC1CCCN(C(=O)CCNC(=O)c2ccc(F)cc2)C1', 'O=C(c1ccc2c(c1)CCCC2)N1CCN(c2ccc(O)cc2)CC1', 'COC(=O)CCCCNC(=O)N1CCCC1Cc1cccc(F)c1', 'O=C(C[C@H]1CCc2ccccc21)N1CCN(c2cccc(O)c2)CC1', 'CC1CCN(Cc2cccc(-c3ccc4c(c3)NC(=O)CO4)c2)CC1', 'Cc1ccc(C(=O)Nc2ccc(CCC(=O)N3CCCC3)cc2)cc1', 'CC(C)(C)OC(=O)N1C2CCC1CC(OCc1cccnc1F)C2', 'COc1ccccc1CN(Cc1cccnc1)C(=O)[C@@H]1CC=CCC1', 'CCCC(=O)Nc1ccccc1C(=O)N1CCC(c2ccccc2)C1', 'NC(=O)c1cccc(C2(O)C3CCC2CN(Cc2ccccc2)C3)c1', 'CC1CCCN(C(=O)C2CC(=O)N(c3cccc4ccccc34)C2)C1', 'COc1ccc(C(CC(C)C)C(=O)Nc2ccc3c(c2)C=NC3)cc1', 'C[C@H](NC(=O)c1ccccc1NC(=O)C1CCCC1)c1ccccc1', 'Cc1ccccc1CC1C(=O)N(C)[C@@H](Cc2ccccc2)C(=O)N1C', 'COc1ccc2[nH]c3c(c2c1)CCc1ccc(OCCN(C)C)cc1-3', 'Cc1nnc2ccc(NCC3CN(c4ccc(C5CC5)nn4)C3)nn12', 'CCN(CC(O)c1ccc(C)cc1)C(=O)c1cccc2c1ccn2C', 'CCc1ccc(N2C[C@H](C(=O)Nc3c(C)cccc3C)CC2=O)cc1', 'C/C=C1/CN2CCc3c([nH]c4ccccc34)[C@]3(C(=O)OC)CC13CC2', 'CC(C)C(NC(=O)Cc1ccccc1)C(=O)N1CCc2ccccc21', 'CCCCC(=O)N1CC(=O)Nc2ccc(C)cc2[C@@H]1c1ccccc1', 'CCN(Cc1ccccc1)C(=O)C1(C(=O)Nc2cccc(C)c2)CC1', 'CC1CC(C)CN(C(=O)c2ccc(NC(=O)c3ccccc3)cc2)C1', 'Cc1cc(C)c(NC(=O)CN(C)C(=O)/C=C/c2ccccc2)c(C)c1', 'C=CCN(CCO)C(=O)NCC1(c2ccc(F)cc2)CCOCC1', 'O=C(c1ccccc1)N1C[C@@H]2CCC[C@]2(COCc2ccccn2)C1', 'O=C(Cc1ccccc1F)N1CC[C@H](O)[C@@H](N2CCOCC2)CC1', 'CCC(=O)N1CCCc2cc(NC(=O)c3cc(C)cc(C)c3)ccc21', 'CCC(C)c1ccccc1NC(=O)C(=O)N1CCc2ccccc2C1', 'CCNc1nc(NCC)n2c(=S)n(CN3CCCCC3)nc2n1', 'Cc1cc(=O)cc(C2CCCN(C(=O)C3(c4ccccc4)CC3)C2)[nH]1', 'O=C(N[C@@H]1CCc2ccccc2C1)c1ccccc1N1CCOCC1', 'Cc1ccc(C)c(N(C)C(=O)c2ccc(NC(=O)[C@@H]3C[C@H]3C)cc2)c1', 'Cc1ccc(NC(=O)[C@H]2CC(=O)N(CCc3ccccc3)C2)c(C)c1', 'COC(=O)[C@@H]1Cc2c([nH]c3ccccc23)[C@H]2C[C@H]3CC=CC[C@H]3CN21', 'COc1cccc2c1C(C(=O)N1CCN(C)c3ccccc3C1)CC2', 'CC(C(=O)O)N(C)CC(=O)NC(c1ccc(F)cc1)C1CCCC1', 'CCO[C@@]1(c2ccccc2)C[C@@H]1C(=O)N/N=C\\\\[C@@H](C)c1ccccc1', 'C[C@@H](C(=O)N[C@@H]1CCOc2ccccc21)N1CCc2ccccc2C1', 'CCN(CC)C(=O)c1ccc(CNC(=O)[C@H]2Cc3ccccc32)cc1', 'COc1ccccc1NC(=O)C(C)N1CC=C(c2ccccc2)CC1', 'COc1ccc(F)c2c1cc(C)n2CC(C)NC(=O)OC(C)(C)C', 'CC(=O)NC(C)Cc1ccc(C#Cc2ccc(OC(C)C)cn2)cc1', 'Cc1cc(C(=O)N(C)Cc2ccco2)c(C)n1C(C)c1ccccc1', 'CCOC[C@H]1CCN(C(=O)N[C@@H]2CCCOc3c(F)cccc32)C1', 'CC(C)(C(=O)NC1CCCOc2cc(F)ccc21)N1CCOCC1', 'CC(C)N1CCC(C(=O)N[C@@H](CC(=O)O)c2ccc(F)cc2)CC1', 'O=C1NCc2ccccc2CC12CCN(Cc1cccc(O)c1)CC2', 'CCc1ccc(NC(=O)[C@@H]2CC(=O)N([C@H](C)c3ccccc3)C2)cc1', 'COc1cccc(C=C/C=N/c2ccccc2N)c1OC1CCCC1', 'CN(C)C(=O)C1C(C(=O)N(C)C)C1(c1ccccc1)c1ccccc1', 'Cc1cccc(C)c1N1C[C@@H](C(=O)N[C@@H](C)c2ccccc2)CC1=O', 'C[C@H](CNC(=O)N[C@H]1C[C@@H]1c1ccccc1F)CC1(C)OCCO1', 'CCCc1nnc(C(Cc2ccc(-c3ccccc3)cc2)OCC)o1', 'CC1(C)Cc2c(ccc3ccccc23)/C(=C/C(=O)N2CCOCC2)N1', 'Cc1ccc2cc3cc(C(=O)NC4CCCC(C)C4C)oc3nc2c1', 'Cc1ccc(C(=O)c2ccccc2C(=O)N2CCN(C)CC2)cc1C', 'Cc1ccc(CN(Cc2cccc3cccnc23)CC2CCCO2)o1', 'COc1ccc2c(c1)CCCN2C(=O)CN1c2ccccc2CC1C', 'O=C(NC1CCCNCC1)OCC1c2ccccc2-c2ccccc21', 'CCNC(=O)NC1CCC(OC(=O)[C@@H](C)c2cccc(F)c2)CC1', 'CCCCN(C(=O)[C@H]1CC(=O)N(c2ccccc2)C1)c1ccccc1', 'CCc1ccc(C(=O)N2CCC(C(=O)Nc3ccccc3)CC2)cc1', 'Cc1cc(C)cc(N2C[C@@H](C(=O)N[C@H](C)c3ccccc3)CC2=O)c1', 'CC(C)c1ccc(CN(C)CCN2C(=O)c3ccccc3C2=O)cc1', 'CCCC(=O)N1CCCC(C(=O)NCc2ccc(F)c(CO)c2)C1', 'C1CC2(CCN1)COC2.O=C1Cc2ccccc2-c2ccccc2N1', 'CN1C[C@]2(CCCN(Cc3ccc(-c4ccccc4)cc3)C2)OC1=O', 'C[C@H](Oc1cccnc1)C(=O)NC[C@@H]1C[C@@]12CCCc1ccccc12', 'O=C(CN1CCCC2CCc3cccnc3C21)OCc1ccccc1', 'Nc1ccc(CCNCC(O)COc2ccc3ccccc3c2)cc1', 'CCC(=O)N1CC(=O)N(c2ccc(C)cc2)CC1Cc1ccccc1', 'COc1ccccc1NCc1ccc(CNC2=C(O)CCC=C2)cc1', 'O=C(c1ccccn1)N1CCC(O)(c2ccccc2)[C@H]2CCCC[C@@H]21', 'O=C(c1ccccc1O)N1CCC2(CCN(Cc3ccccc3)C2)C1', 'CO[C@@H]1CCN(c2ccc(C(=O)N3CCc4ccccc4C3)cc2)C1', 'Cc1ccc(C)c(CN2C(=O)NC(C)(CCc3ccccc3)C2=O)c1', 'C(#CC1CC1)c1ccc(C2=CC(OCC3CCCCO3)=CNN2)cc1', 'Cc1ccc(C(CNCC(=O)c2cc3ccccc3o2)N(C)C)cc1', 'CCCOc1cc(C#Cc2ccc(CC(C)NC(C)=O)cc2)ccn1', 'COc1ccc(C(C)N(C)C(=O)CCc2c[nH]c3ccccc23)cc1', 'CC(C)(C)OC(=O)NC[C@H]1CCN(C(=O)Cc2cccc(F)c2)C1', 'CC(NCc1ccc2c(c1)CCO2)c1ccc(N2CCCC2=O)cc1', 'CCCN(CCc1ccccn1)C(=O)C(C)c1cc2ccccc2o1', 'CC(C)Cn1cc(-c2cccc(C(=O)N(C)C)c2)c2c(c1=O)CC=C2', 'CCOc1cccn2c(C(=O)C[C@@H](CC)c3ccccc3)c(C)nc12', 'CCc1cccc(CC)c1NC(=O)/C=C/c1ccc(NC(C)=O)cc1', 'CCN(Cc1ccccc1C)C(=O)c1ccc2c(c1)CCN2C(C)=O', 'CCC(C)(N)c1ccc(-c2c(OC)cc3cnccc3c2OC)cc1', 'CCc1ccc(/C=C/C(=O)Nc2ccc(N3CCOCC3)cc2)cc1', 'COc1ccc(F)cc1C(=O)N[C@@H]1CCCC(N2CCCC2)[C@@H]1O', 'CC(C)(C)OC(=O)N1CCC(C#Cc2ccc3ncccc3c2)CC1', 'O=C1OCCN1CCCN1Cc2ccccc2[C@@H](c2ccccc2)C1', 'CC(C)C[C@H](NC(=O)c1ccc(F)cc1)C1CCN(C(=O)O)CC1', 'COc1ccc2[nH]cc(C(C)(C)C(=O)NCCc3ccccc3)c2c1', 'Cc1cc(C)c2oc(Cc3ccc(NC(=O)CC(C)C)cc3)nc2c1', 'O=C(c1cccnc1C[C@@H]1COc2ccccc2C1)N1CCCCC1', 'CC[C@@H](C)NC(=O)c1ccc2c(c1)CCCN2C(=O)c1ccccc1', 'CCc1ccc(C(=O)N2CCC(NC(=O)c3ccccc3)CC2)cc1', 'NC(=O)c1ccc(CC2CCN(C(=O)Cc3ccccc3)CC2)cc1', 'CCCCCCNC(=O)COc1ccc(-c2ccc(C#N)cc2)cc1', 'CCCc1nc2ccc(C(=O)OCC)cc2n1Cc1cccc(C)c1', 'COc1ccc(C(C)(C)CNC(=O)Cc2c[nH]c3ccccc23)cc1', 'NC(=O)[C@H](NC(=O)c1ccc(-c2ccccc2)cc1)C1CCCCC1', 'CC(=O)N(CCC(=O)N1CCc2ccccc21)c1ccc(C)cc1C', 'O=C(CCc1ccccc1)N1C2CCC1CC(Oc1ccncc1)C2', 'C=C(C)C(=O)NCCCCCCCOP(=O)([O-])O[N+](C)(C)C', 'CC(C)CCOC(=O)c1ccc(C(c2ccc[nH]2)c2ccc[nH]2)cc1', 'COc1cc(CN2CC[C@@]3(C(=O)O)CCCN(C)[C@@H]3C2)ccc1F', 'O=C1OC(CN2CCC(c3ccccc3)CC2)CN1c1ccccc1', 'CCc1ccc(CCC(=O)Nc2cccc3c2N(C(C)=O)CC3)cc1', 'C=CCn1c(=O)c2cnccc2c2ccc(OCCCC(C)C)cc21', 'Cc1ccc(CNC(=O)C2CC(=O)N(c3ccc(C)cc3C)C2)cc1', 'O=C(Nc1cccc(COCC2CC2)c1)NC1CC1c1ccccc1', 'CCOC(=O)C(CCCCC(C#N)c1ccccc1)c1ccccn1', 'C[C@H](C(=O)NC1CCCC1)[NH+]1CCN(c2ccccc2Cl)CC1', 'CC(=O)N1CC=C2[C@@](C)(CC(C#N)=C(O)[C@@]2(C)Cc2ccccc2)C1', 'CN1CCCN(C(=O)c2cccc([C@H]3CCOC3)c2)c2ccccc21', 'C#CCOc1ccccc1CNCC(=O)N(CC)Cc1ccccc1', 'CN(C)C(C(=O)N1CCC(CCC(=O)O)CC1)c1ccc(F)cc1', 'O=C(Nc1ccc(N2CCCCC2)cc1)[C@@H]1COc2ccccc2C1', 'C#CC1=C(N2CCC3(CCC3)CC2)c2nc(C(C)O)ccc2CC1=O', 'CC(C)c1ccc(NC(=O)c2ccc(CNC(=O)C3CC3)cc2)cc1', 'CC(C)(C)OC(=O)N1CCC[C@@H](C(=O)NCc2cccc(F)c2)C1', 'O=C([C@H]1C[C@H]2CC[C@H]1O2)N(c1cccc2cccnc12)C1CCCC1', 'COc1cc(F)ccc1N1CCN(C(=O)[C@@H]2CCCO[C@H]2C)CC1', 'COc1cc(/C=C2/CCCN=C2c2cccnc2)ccc1OC(C)C', 'O=C(N[C@@H](CCCCO)C(=O)N1CCCCC1)c1ccc(F)cc1', 'COc1cc(F)cc(CNC2CC(N(CC(=O)O)CC3CC3)C2)c1', 'CC(C)c1ccc(C(=O)N2CCCN(c3ccccc3)C(=O)C2)cc1', 'Cc1ccc(C)c(NC(=O)C2(C(=O)Nc3cccc(C)c3C)CC2)c1', 'COC(=O)[C@@H]1C[C@@]23C=CCN4CC[C@@]5(c6ccccc6N[C@]15[C@@H]2C)[C@H]43', 'Cc1cccc(C(=O)Nc2cccc(NC(=O)C3CCCCC3)c2)c1', 'COCCNC(=O)[C@@H]1CC[C@H](C)N(C(=O)Cc2ccc(F)cc2)C1', 'CC(C)(C)OC(=O)N1CCC(C#N)(c2ccc3ccccc3c2)CC1', 'COc1cccc2c1N1C(=O)CN([C@@H](C)c3ccccc3)C[C@H]1CC2', 'C[C@@H](NC(=O)CCC(=O)c1ccc2c(c1)CCCC2)c1ccccn1', 'COc1cccc(-c2cccc(C(=O)N3C[C@H](C4CC4)[C@@H](N)C3)c2)c1', 'O=C(C1Cc2ccccc2CN1)N1CCC(Oc2ccccc2)CC1', 'CCn1cc(C(=O)N(C)C(C)c2ccccc2OC)c2ccccc21', 'Cc1ccccc1NC(=O)C1(C(=O)Nc2ccc(C(C)C)cc2)CC1', 'Cc1ccccc1CNC(=O)C1(C(=O)NC(C)c2ccccc2)CC1', 'CC[C@H](Oc1ccccc1)C(=O)NCCc1c[nH]c2ccc(C)cc12', 'O=C(Nc1ccc(OC2CCCC2)c(F)c1)N1CCC(CO)CC1', 'CC(=O)N(CCC(=O)N1CCc2ccccc21)c1cc(C)cc(C)c1', 'O=C(NCC1CC1c1ccccc1)c1ccccc1N1CCOCC1', 'Cc1ccc(N2CCN(C(=O)c3ccccc3C)C(C)C2=O)cc1C', 'Cc1ccc(CC(=O)N2CCN(C(=O)c3ccccc3)CC2)c(C)c1', 'CCC(C(=O)N1C[C@H]2C[C@H](C1)c1cccc(=O)n1C2)c1ccccc1', 'CCc1ccc(NC(=O)[C@@H]2CC(=O)N([C@@H](C)c3ccccc3)C2)cc1', 'CC(C)(C=NO)CN(C/C=C/c1ccccc1)C(=O)c1ccccc1', 'C[C@@H]1C[C@H](NC(=O)OCc2ccccc2)c2cc3c(cc2N1)CCC3', 'O=C1NC[C@@]2(CCCN(CCc3ccccc3)C2)Oc2ccccc21', 'Cc1cccc2[nH]cc(CC(=O)NCC(CCO)c3ccccc3)c12', 'Cc1cccc(Cn2c(C(=O)NC3CCCCC3)cc3ccoc32)c1', '[C-]#[N+]c1ccc(-c2ccc(OCCCCCCC(=O)NC)cc2)cc1', 'CON=C(C#N)c1ccccc1COc1cc(C)ccc1C(C)(C)C', 'Nc1nc(NCc2ccccc2)nc(N2CCCn3cncc3C2)n1', 'O=C1Nc2ccccc2OC2(CCCCC2)C1NCc1ccccc1', 'COC1(C(=O)Nc2ccc(OC3CCCC3)c(F)c2)CCNCC1', 'Cc1cc(C)cc(N2CC[C@@H](NC(=O)c3ccc(C)cc3C)C2=O)c1', 'COC(=O)[C@H]1CN(Cc2c(F)cccc2N2CCCC2)C[C@@H](C)O1', 'CN(C(=O)c1cccc(C(=O)N2CCCCCC2)c1)c1ccccc1', 'CCc1cccc(CC)c1NC(=O)c1ccc(N2CCCC2=O)cc1', 'Cc1cc(C)c(C(=O)Nc2ccc(CC(=O)NC3CC3)cc2)c(C)c1', 'CC1=C(C=O)[C@@H]2CC3c4c(c5ccccc5n4C)C[C@@H]([C@@H]2CO1)N3C', 'C=CCN1C(=O)c2cccc3c(NCCCCCC)ccc(c23)C1=O', 'O=C(C1CC1)N1CC[C@H](Oc2cccnc2)[C@H](Cc2ccccc2)C1', 'CN(CCC(=O)O)C(=O)NCC1(c2ccc(F)cc2)CCCCC1', 'CN(C)c1cccc(C(=O)N2CCC(C(=O)c3ccccc3)CC2)c1', 'CC(CNC(=O)CN1C(=O)CCCc2ccccc21)c1ccccc1', 'COc1ccc(C(O)CNC2CCc3[nH]c4ccccc4c3C2)cc1', 'CCc1cccc2c(CC(=O)N(CCO)Cc3ccccc3)c[nH]c12', 'O=C(CCN1CCC(NC(=O)c2ccccc2)CC1)c1ccccc1', 'O=C(c1cccc(F)c1O)N1CCC(N2CCCC(CO)C2)CC1', 'CC(=O)N1CC[C@H]2[C@@H]1c1cc(-c3ccccc3)ccc1N(C)[C@H]2CO', 'O=C(C[C@H]1CCCO1)Nc1ccccc1CN1CCc2ccccc21', 'CCOc1c(OC)cccc1C1NCCc2c1[nH]c1ccc(C)cc21']}\n"
     ]
    }
   ],
   "source": [
    "tmp_original = []\n",
    "for batch in train_loader_original:\n",
    "    print(batch)\n",
    "    tmp_original = batch\n",
    "    break"
   ]
  },
  {
   "cell_type": "code",
   "execution_count": 9,
   "id": "f279211477cf5d0b",
   "metadata": {
    "ExecuteTime": {
     "end_time": "2025-02-14T13:40:10.389867Z",
     "start_time": "2025-02-14T13:40:10.387361Z"
    }
   },
   "outputs": [
    {
     "name": "stdout",
     "output_type": "stream",
     "text": [
      "dict_keys(['spec', 'mol', 'precursor_mz', 'adduct', 'mol_freq', 'identifier', 'smiles', 'candidates', 'labels', 'batch_ptr', 'candidates_smiles'])\n",
      "batch_ptr is present: tensor([256, 256, 256, 256, 256, 256, 256, 256, 256, 256, 256, 256])\n"
     ]
    }
   ],
   "source": [
    "# Check the keys in the batch\n",
    "print(tmp_original.keys())\n",
    "\n",
    "# Specifically check if 'batch_ptr' is present\n",
    "if 'batch_ptr' in tmp_original:\n",
    "    print(\"batch_ptr is present:\", tmp_original['batch_ptr'])\n",
    "else:\n",
    "    print(\"batch_ptr is missing\")"
   ]
  },
  {
   "cell_type": "code",
   "execution_count": 10,
   "id": "82cf5fad037c8ffe",
   "metadata": {
    "ExecuteTime": {
     "end_time": "2025-02-14T13:40:10.399490Z",
     "start_time": "2025-02-14T13:40:10.396421Z"
    }
   },
   "outputs": [
    {
     "data": {
      "text/plain": [
       "dict_keys(['spec', 'mol', 'precursor_mz', 'adduct', 'mol_freq', 'identifier', 'smiles', 'candidates', 'labels', 'batch_ptr', 'candidates_smiles'])"
      ]
     },
     "execution_count": 10,
     "metadata": {},
     "output_type": "execute_result"
    }
   ],
   "source": [
    "tmp_original.keys()"
   ]
  },
  {
   "cell_type": "code",
   "execution_count": 11,
   "id": "8a967c5745662a1f",
   "metadata": {
    "ExecuteTime": {
     "end_time": "2025-02-14T13:40:10.408912Z",
     "start_time": "2025-02-14T13:40:10.406565Z"
    }
   },
   "outputs": [
    {
     "data": {
      "text/plain": [
       "(torch.Size([12, 61, 2]), torch.Size([12, 4096]))"
      ]
     },
     "execution_count": 11,
     "metadata": {},
     "output_type": "execute_result"
    }
   ],
   "source": [
    "tmp_original['spec'].shape, tmp_original['mol'].shape, "
   ]
  },
  {
   "cell_type": "code",
   "execution_count": 12,
   "id": "f4541b8ff18abfc5",
   "metadata": {
    "ExecuteTime": {
     "end_time": "2025-02-14T13:40:10.417149Z",
     "start_time": "2025-02-14T13:40:10.414576Z"
    }
   },
   "outputs": [
    {
     "data": {
      "text/plain": [
       "tensor([238.0839, 434.2034, 233.1107, 423.1920, 344.2333, 174.1277, 518.2093,\n",
       "        500.3040, 318.1694, 415.0900, 503.1524, 359.1700])"
      ]
     },
     "execution_count": 12,
     "metadata": {},
     "output_type": "execute_result"
    }
   ],
   "source": [
    "tmp_original['precursor_mz']"
   ]
  },
  {
   "cell_type": "code",
   "execution_count": 13,
   "id": "d33f02e95d06defc",
   "metadata": {
    "ExecuteTime": {
     "end_time": "2025-02-14T13:40:10.425076Z",
     "start_time": "2025-02-14T13:40:10.422770Z"
    }
   },
   "outputs": [
    {
     "data": {
      "text/plain": [
       "(['[M+H]+',\n",
       "  '[M+H]+',\n",
       "  '[M+H]+',\n",
       "  '[M+H]+',\n",
       "  '[M+H]+',\n",
       "  '[M+H]+',\n",
       "  '[M+H]+',\n",
       "  '[M+H]+',\n",
       "  '[M+H]+',\n",
       "  '[M+H]+',\n",
       "  '[M+Na]+',\n",
       "  '[M+Na]+'],)"
      ]
     },
     "execution_count": 13,
     "metadata": {},
     "output_type": "execute_result"
    }
   ],
   "source": [
    "tmp_original['adduct'], "
   ]
  },
  {
   "cell_type": "code",
   "execution_count": 14,
   "id": "f2246bafe4c779ae",
   "metadata": {
    "ExecuteTime": {
     "end_time": "2025-02-14T13:40:10.433390Z",
     "start_time": "2025-02-14T13:40:10.430658Z"
    }
   },
   "outputs": [
    {
     "data": {
      "text/plain": [
       "tensor([ 27.,   3.,  37.,   1., 222.,  33.,   3.,  46.,  18.,   3.,   4., 116.])"
      ]
     },
     "execution_count": 14,
     "metadata": {},
     "output_type": "execute_result"
    }
   ],
   "source": [
    "tmp_original['mol_freq']"
   ]
  },
  {
   "cell_type": "code",
   "execution_count": 15,
   "id": "69b44a8f863047a4",
   "metadata": {
    "ExecuteTime": {
     "end_time": "2025-02-14T13:40:10.441171Z",
     "start_time": "2025-02-14T13:40:10.438617Z"
    }
   },
   "outputs": [
    {
     "data": {
      "text/plain": [
       "tensor([ True, False, False,  ..., False, False, False])"
      ]
     },
     "execution_count": 15,
     "metadata": {},
     "output_type": "execute_result"
    }
   ],
   "source": [
    "tmp_original['labels']"
   ]
  },
  {
   "cell_type": "code",
   "execution_count": 16,
   "id": "6514ce8596d69758",
   "metadata": {
    "ExecuteTime": {
     "end_time": "2025-02-14T13:40:10.462893Z",
     "start_time": "2025-02-14T13:40:10.446655Z"
    }
   },
   "outputs": [
    {
     "data": {
      "text/plain": [
       "tensor(12)"
      ]
     },
     "execution_count": 16,
     "metadata": {},
     "output_type": "execute_result"
    }
   ],
   "source": [
    "sum(tmp_original['labels'])"
   ]
  },
  {
   "cell_type": "code",
   "execution_count": 17,
   "id": "2c9d2d7a5c16ed90",
   "metadata": {
    "ExecuteTime": {
     "end_time": "2025-02-14T13:40:10.471626Z",
     "start_time": "2025-02-14T13:40:10.468421Z"
    }
   },
   "outputs": [
    {
     "data": {
      "text/plain": [
       "tensor([   0,  256,  512,  768, 1024, 1280, 1536, 1792, 2048, 2304, 2560, 2816])"
      ]
     },
     "execution_count": 17,
     "metadata": {},
     "output_type": "execute_result"
    }
   ],
   "source": [
    "torch.nonzero(tmp_original['labels'], as_tuple=False).squeeze()"
   ]
  },
  {
   "cell_type": "code",
   "execution_count": 18,
   "id": "2e83bcb489cae86a",
   "metadata": {
    "ExecuteTime": {
     "end_time": "2025-02-14T13:40:10.479076Z",
     "start_time": "2025-02-14T13:40:10.476830Z"
    }
   },
   "outputs": [
    {
     "data": {
      "text/plain": [
       "3072"
      ]
     },
     "execution_count": 18,
     "metadata": {},
     "output_type": "execute_result"
    }
   ],
   "source": [
    "len(tmp_original['labels'])"
   ]
  },
  {
   "cell_type": "code",
   "execution_count": 19,
   "id": "8623ad0307ee1f18",
   "metadata": {
    "ExecuteTime": {
     "end_time": "2025-02-14T13:40:10.487175Z",
     "start_time": "2025-02-14T13:40:10.484579Z"
    }
   },
   "outputs": [
    {
     "data": {
      "text/plain": [
       "tensor([256, 256, 256, 256, 256, 256, 256, 256, 256, 256, 256, 256])"
      ]
     },
     "execution_count": 19,
     "metadata": {},
     "output_type": "execute_result"
    }
   ],
   "source": [
    "tmp_original['batch_ptr']"
   ]
  },
  {
   "cell_type": "code",
   "execution_count": 20,
   "id": "153e8fd767c6cc73",
   "metadata": {
    "ExecuteTime": {
     "end_time": "2025-02-14T13:40:10.495288Z",
     "start_time": "2025-02-14T13:40:10.492793Z"
    }
   },
   "outputs": [
    {
     "data": {
      "text/plain": [
       "tensor(3072)"
      ]
     },
     "execution_count": 20,
     "metadata": {},
     "output_type": "execute_result"
    }
   ],
   "source": [
    "sum(tmp_original['batch_ptr'])"
   ]
  },
  {
   "cell_type": "code",
   "execution_count": 21,
   "id": "57abe1cdad7d1e03",
   "metadata": {
    "ExecuteTime": {
     "end_time": "2025-02-14T13:40:10.502829Z",
     "start_time": "2025-02-14T13:40:10.500508Z"
    }
   },
   "outputs": [
    {
     "data": {
      "text/plain": [
       "3072"
      ]
     },
     "execution_count": 21,
     "metadata": {},
     "output_type": "execute_result"
    }
   ],
   "source": [
    "len(tmp_original['candidates'])"
   ]
  },
  {
   "cell_type": "code",
   "execution_count": 22,
   "id": "6a5c6ecd1c18994e",
   "metadata": {
    "ExecuteTime": {
     "end_time": "2025-02-14T13:40:10.510475Z",
     "start_time": "2025-02-14T13:40:10.508246Z"
    }
   },
   "outputs": [
    {
     "data": {
      "text/plain": [
       "torch.Size([4096])"
      ]
     },
     "execution_count": 22,
     "metadata": {},
     "output_type": "execute_result"
    }
   ],
   "source": [
    "tmp_original['candidates'][5].shape"
   ]
  },
  {
   "cell_type": "code",
   "execution_count": 23,
   "id": "3f7ec6537b665b0c",
   "metadata": {
    "ExecuteTime": {
     "end_time": "2025-02-14T13:40:10.518392Z",
     "start_time": "2025-02-14T13:40:10.516067Z"
    }
   },
   "outputs": [
    {
     "data": {
      "text/plain": [
       "3072"
      ]
     },
     "execution_count": 23,
     "metadata": {},
     "output_type": "execute_result"
    }
   ],
   "source": [
    "len(tmp_original['candidates_smiles'])"
   ]
  },
  {
   "cell_type": "markdown",
   "id": "effa503f7496c1bb",
   "metadata": {},
   "source": [
    "# MSnRetrieval"
   ]
  },
  {
   "cell_type": "code",
   "execution_count": 34,
   "id": "81578a73d8e57643",
   "metadata": {
    "ExecuteTime": {
     "end_time": "2025-02-14T13:40:10.525352Z",
     "start_time": "2025-02-14T13:40:10.523697Z"
    }
   },
   "outputs": [],
   "source": [
    "from massspecgym.featurize import SpectrumFeaturizer"
   ]
  },
  {
   "cell_type": "code",
   "execution_count": 35,
   "id": "5df6778634ce3906",
   "metadata": {
    "ExecuteTime": {
     "end_time": "2025-02-14T13:40:10.532965Z",
     "start_time": "2025-02-14T13:40:10.530883Z"
    }
   },
   "outputs": [],
   "source": [
    "config = {\n",
    "    'features': ['collision_energy', 'ionmode', 'adduct', 'spectrum_stats', 'atom_counts', 'value', \"retention_time\", 'ion_source', 'binned_peaks'],\n",
    "    'feature_attributes': {\n",
    "        'atom_counts': {\n",
    "            'top_n_atoms': 12,\n",
    "            'include_other': True,\n",
    "        },\n",
    "    },\n",
    "}"
   ]
  },
  {
   "cell_type": "code",
   "execution_count": 36,
   "id": "3e4d2d35f3c5e077",
   "metadata": {
    "ExecuteTime": {
     "end_time": "2025-02-14T13:40:10.539961Z",
     "start_time": "2025-02-14T13:40:10.538129Z"
    }
   },
   "outputs": [],
   "source": [
    "featurizer = SpectrumFeaturizer(config, mode='torch')"
   ]
  },
  {
   "cell_type": "code",
   "execution_count": 37,
   "id": "b1baf406d4a19229",
   "metadata": {
    "ExecuteTime": {
     "end_time": "2025-02-14T13:40:10.547084Z",
     "start_time": "2025-02-14T13:40:10.545373Z"
    }
   },
   "outputs": [],
   "source": [
    "file_json = \"/Users/macbook/CODE/Majer:MassSpecGym/data/candidates_generation/MassSpecGymMSn_retrieval_candidates_formula.json\""
   ]
  },
  {
   "cell_type": "code",
   "execution_count": 28,
   "id": "0c55c72b-6998-47c0-81ed-d1ac015f04c5",
   "metadata": {},
   "outputs": [],
   "source": [
    "# file_mgf = \"/Users/macbook/CODE/Majer:MassSpecGym/data/MSn/min_sample_trees.mgf\"\n"
   ]
  },
  {
   "cell_type": "code",
   "execution_count": 38,
   "id": "4abdab9e026ffb09",
   "metadata": {
    "ExecuteTime": {
     "end_time": "2025-02-14T14:09:13.165710Z",
     "start_time": "2025-02-14T13:40:10.552565Z"
    }
   },
   "outputs": [
    {
     "name": "stdout",
     "output_type": "stream",
     "text": [
      "Total valid indices: 16476\n",
      "MSnRetrievalDataset length: 16476\n",
      "Precomputing candidate-side transformations using multiprocessing.Pool with chunking and writing to HDF5...\n",
      "Using 8 worker processes for precomputation.\n"
     ]
    },
    {
     "name": "stderr",
     "output_type": "stream",
     "text": [
      "Processing chunks: 100%|██████████| 33/33 [08:49<00:00, 16.05s/it]  \n"
     ]
    },
    {
     "name": "stdout",
     "output_type": "stream",
     "text": [
      "Precomputation complete. Cache saved to /Users/macbook/CODE/Majer:MassSpecGym/data/candidates_generation/MassSpecGymMSn_retrieval_candidates_formula.h5\n"
     ]
    }
   ],
   "source": [
    "# Init hyperparameters\n",
    "n_peaks = 60\n",
    "fp_size = 4096\n",
    "batch_size = 12\n",
    "\n",
    "# Load dataset\n",
    "dataset_msn = MSnRetrievalDataset(\n",
    "    pth=file_mgf,\n",
    "    candidates_pth=file_json,\n",
    "    featurizer=featurizer,\n",
    "    mol_transform=MolFingerprinter(fp_size=fp_size),\n",
    "    max_allowed_deviation=0.005\n",
    ")\n"
   ]
  },
  {
   "cell_type": "code",
   "execution_count": 39,
   "id": "313e58fab0155c4b",
   "metadata": {
    "ExecuteTime": {
     "end_time": "2025-02-14T14:09:13.184801Z",
     "start_time": "2025-02-14T14:09:13.182586Z"
    }
   },
   "outputs": [],
   "source": [
    "# Init data module\n",
    "data_module_msn = MassSpecDataModule(\n",
    "    dataset=dataset_msn,\n",
    "    batch_size=batch_size,\n",
    "    split_pth=split_file,\n",
    "    num_workers=0,\n",
    ")"
   ]
  },
  {
   "cell_type": "code",
   "execution_count": 77,
   "id": "af9eb30cc9d0b54f",
   "metadata": {
    "ExecuteTime": {
     "end_time": "2025-02-14T14:09:21.055827Z",
     "start_time": "2025-02-14T14:09:20.937795Z"
    }
   },
   "outputs": [
    {
     "name": "stdout",
     "output_type": "stream",
     "text": [
      "Train dataset size: 12536\n",
      "Val dataset size: 1952\n"
     ]
    }
   ],
   "source": [
    "data_module_msn.prepare_data()\n",
    "data_module_msn.setup()\n",
    "\n",
    "train_loader_msn = data_module_msn.train_dataloader()"
   ]
  },
  {
   "cell_type": "code",
   "execution_count": 78,
   "id": "511d947bf9b25fcd",
   "metadata": {
    "ExecuteTime": {
     "end_time": "2025-02-14T14:09:24.598290Z",
     "start_time": "2025-02-14T14:09:23.587363Z"
    }
   },
   "outputs": [
    {
     "name": "stdout",
     "output_type": "stream",
     "text": [
      "[PROFILE] __getitem__ took 0.532142 seconds\n",
      "[PROFILE] __getitem__ took 0.031780 seconds\n",
      "[PROFILE] __getitem__ took 0.037800 seconds\n",
      "[PROFILE] __getitem__ took 0.038638 seconds\n",
      "[PROFILE] __getitem__ took 0.027755 seconds\n",
      "[PROFILE] __getitem__ took 0.035815 seconds\n",
      "[PROFILE] __getitem__ took 0.040279 seconds\n",
      "[PROFILE] __getitem__ took 0.039242 seconds\n",
      "[PROFILE] __getitem__ took 0.041408 seconds\n",
      "[PROFILE] __getitem__ took 0.040312 seconds\n",
      "[PROFILE] __getitem__ took 0.038661 seconds\n",
      "[PROFILE] __getitem__ took 0.025656 seconds\n",
      "[PROFILE] collate_fn took 0.006148 seconds\n",
      "{'spec': DataBatch(x=[141, 1039], edge_index=[2, 258], batch=[141], ptr=[13]), 'mol': tensor([[0., 0., 0.,  ..., 0., 0., 0.],\n",
      "        [0., 0., 0.,  ..., 0., 0., 0.],\n",
      "        [0., 0., 0.,  ..., 0., 0., 0.],\n",
      "        ...,\n",
      "        [0., 0., 0.,  ..., 0., 0., 0.],\n",
      "        [0., 0., 0.,  ..., 0., 0., 0.],\n",
      "        [0., 0., 0.,  ..., 0., 0., 0.]]), 'precursor_mz': tensor([949.5002, 574.2258, 269.0808, 405.2748, 589.1893, 436.1059, 324.1958,\n",
      "        216.0655, 322.1332, 469.2001, 244.0903, 850.5020]), 'adduct': ['[M+H]+', '[M+H]+', '[M+H]+', '[M+H]+', '[M+H]+', '[M+H]+', '[M+H]+', '[M+H]+', '[M+H]+', '[M+H]+', '[M+H]+', '[M+NH4]+'], 'identifier': ['0001594_0000000', '0081112_0000000', '0076845_0000000', '0081351_0000000', '0100014_0000000', '0075818_0000000', '0071113_0000000', '0084945_0000000', '0022953_0000000', '0032029_0000000', '0087941_0000000', '0006315_0000000'], 'mol_freq': tensor([2., 1., 1., 2., 1., 1., 3., 1., 1., 1., 1., 3.]), 'smiles': ['C[C@@H]1C[C@@H]([C@@]2([C@@H]([C@@]1(C)CC[C@@](C)(C=C)O[C@H]3[C@@H]([C@H]([C@H]([C@H](O3)C)O[C@H]4[C@@H]([C@@H]([C@H]([C@@H](O4)C)O)O)O)O)O)CCC=C2C)C)O[C@H]5[C@@H]([C@@H]([C@H]([C@@H](O5)C)O[C@H]6[C@@H]([C@H]([C@@H]([C@H](O6)COC(=O)C)O)O)O)O)O', 'CC(C)C1=CC=CC=C1CC2=CC(=C(C(=C2O)O)O)C(=O)NC3=CC=C(C=C3)S(=O)(=O)C4=CC=CC=C4C(C)(C)C', 'COC1=CC=CC(=C1)C2=C(C(=O)C3=CC=CC=C3O2)O', 'CCCCCCCC(=O)N[C@H](CN1CCCC1)[C@@H](C2=CC3=C(C=C2)OCCO3)O', 'CC(C)N1C=C(C(=O)N(C1=O)C2=CC=C(C=C2)F)C(=O)NC3=CC(=C(C=C3)OC4=C5C=C(C(=CC5=NC=C4)OC)OC)F', 'C1=CC=C(C(=C1)C(C2=CC(=C3C=CC=NC3=C2O)Cl)NC4=CC=CC=N4)OCC(=O)O', 'CCN1CCCC(C1)OC(=O)C(C2=CC=CC=C2)C3=CC=CC=C3', 'COC1=C2C=COC2=NC3=C1C=CC=C3O', 'CC1=NC2=C(C=CN=C2)C(=N1)N3CC(C3)CN(C)S(=O)(=O)C', 'CN1CCN(CC1)C(=O)C2CCN(CC2)C(=O)C3=CC4=C(N3CC5=CC=C(C=C5)Cl)C=CO4', 'CCCC1=NC2=C(S1)C3=CC=CC=C3N=C2N', 'CC(C)C(C(=O)OC(C)C(=O)NC(C(C)C)C(=O)OC(C(C)C)C(=O)NC(C(C)C)C(=O)OCC(CO)O)NC(=O)C(C)OC(=O)C(C(C)C)NC(=O)C(C(C)C)O'], 'candidates': tensor([[0., 0., 0.,  ..., 0., 0., 0.],\n",
      "        [1., 0., 0.,  ..., 0., 0., 0.],\n",
      "        [1., 0., 0.,  ..., 0., 0., 0.],\n",
      "        ...,\n",
      "        [0., 0., 0.,  ..., 0., 0., 0.],\n",
      "        [0., 0., 0.,  ..., 0., 0., 0.],\n",
      "        [0., 0., 0.,  ..., 0., 0., 0.]]), 'labels': tensor([ True, False, False,  ..., False, False, False]), 'batch_ptr': tensor([ 25,  80, 256, 256,  45, 256, 256, 256, 256, 256, 256,  10],\n",
      "       dtype=torch.int32), 'candidates_smiles': ['C[C@@H]1C[C@@H]([C@@]2([C@@H]([C@@]1(C)CC[C@@](C)(C=C)O[C@H]3[C@@H]([C@H]([C@H]([C@H](O3)C)O[C@H]4[C@@H]([C@@H]([C@H]([C@@H](O4)C)O)O)O)O)O)CCC=C2C)C)O[C@H]5[C@@H]([C@@H]([C@H]([C@@H](O5)C)O[C@H]6[C@@H]([C@H]([C@@H]([C@H](O6)COC(=O)C)O)O)O)O)O', 'C=C(CCC1(OC)OC2CC3C4CCC5CC(OC6OC(CO)C(O)C(O)C6OC6OC(CO)C(O)C(O)C6O)CCC5(C)C4CC(O)C3(C)C2C1C)COC1OC(CO)C(O)C(O)C1O', 'COC1(CCC(C)CO[C@@H]2O[C@H](CO)[C@@H](O)[C@H](O)[C@H]2O)OC2CC3C4CC=C5CC(O[C@@H]6O[C@H](CO)[C@H](O[C@@H]7O[C@H](CO)[C@@H](O)[C@H](O)[C@H]7O)[C@H](O)[C@H]6O)CC(O)C5(C)C4CCC3(C)C2C1C', 'CO[C@]1(CC[C@@H](C)CO[C@@H]2O[C@H](CO)[C@@H](O)[C@H](O)[C@H]2O)O[C@H]2C[C@H]3[C@@H]4CC=C5C[C@@H](O[C@@H]6O[C@H](CO)[C@@H](O)[C@H](O)[C@H]6O[C@H]6O[C@@H](C)[C@H](O)[C@@H](O)[C@H]6O)C[C@@H](O)[C@]5(C)[C@H]4[C@H](O)C[C@]3(C)[C@H]2[C@@H]1C', 'CO[C@]1(CC[C@H](C)CO[C@@H]2O[C@H](CO)[C@@H](O)[C@H](O)[C@H]2O)O[C@H]2C[C@H]3[C@@H]4CC=C5C[C@@H](O[C@@H]6O[C@H](CO)[C@H](O[C@@H]7O[C@H](CO)[C@@H](O)[C@H](O)[C@H]7O)[C@H](O)[C@H]6O)C[C@@H](O)[C@]5(C)[C@H]4CC[C@]3(C)[C@H]2[C@@H]1C', 'C=C[C@](C)(CC[C@]1(C)[C@@H](C)C[C@H](O[C@@H]2O[C@@H](C)[C@H](O[C@@H]3O[C@H](COC(C)=O)[C@@H](O)[C@H](O)[C@H]3O)[C@@H](O)[C@H]2O)[C@]2(C)C(C)=CCC[C@@H]12)O[C@@H]1O[C@H](C)[C@H](O)[C@H](O[C@@H]2O[C@@H](C)[C@H](O)[C@@H](O)[C@H]2O)[C@H]1O', 'CO[C@]1(CC[C@H](C)CO[C@H]2O[C@@H](CO)[C@H](O)[C@@H](O)[C@@H]2O)O[C@H]2C[C@]3(O)[C@H]4CC=C5C[C@@H](O[C@H]6O[C@@H](CO)[C@H](O[C@H]7O[C@@H](CO)[C@H](O)[C@@H](O)[C@@H]7O)[C@@H](O)[C@@H]6O)CC[C@]5(C)[C@H]4CC[C@@]3(C)[C@H]2[C@@H]1C', 'CO[C@]1(CC[C@H](C)CO[C@@H]2O[C@H](CO)[C@@H](O)[C@H](O)[C@H]2O)O[C@H]2C[C@H]3[C@@H]4CC=C5C[C@@H](O[C@@H]6O[C@H](CO)[C@H](O[C@@H]7O[C@H](CO)[C@@H](O)[C@H](O)[C@H]7O)[C@H](O)[C@H]6O)[C@H](O)C[C@]5(C)[C@H]4CC[C@]3(C)[C@H]2[C@@H]1C', 'COC1(CCC(C)COC2OC(CO)C(O)C(O)C2O)OC2CC3C4CC=C5CC(OC6OC(CO)C(O)C(O)C6OC6OC(C)C(O)C(O)C6O)CC(O)C5(C)C4C(O)CC3(C)C2C1C', 'COC1(CCC(C)CO[C@@H]2O[C@H](CO)[C@@H](O)[C@H](O)[C@H]2O)OC2CC3C4CC=C5CC(O[C@@H]6O[C@H](CO)[C@H](O[C@@H]7O[C@H](CO)[C@@H](O)[C@@H](O)[C@H]7O)[C@@H](O)[C@H]6O)CC(O)C5(C)C4CCC3(C)C2C1C', 'COC1(CCC(C)COC2OC(CO)C(O)C(O)C2O)OC2CC3C4CC=C5CC(OC6OC(CO)C(OC7OC(CO)C(O)C(O)C7O)C(O)C6O)C(O)CC5(C)C4CCC3(C)C2C1C', 'CO[C@@]1(CC[C@@H](C)CO[C@@H]2O[C@H](CO)[C@@H](O)[C@H](O)[C@H]2O)O[C@H]2C[C@@]3(O)[C@@H]4CC=C5C[C@@H](O[C@@H]6O[C@H](CO)[C@H](O[C@@H]7O[C@H](CO)[C@@H](O)[C@H](O)[C@H]7O)[C@H](O)[C@H]6O)CC[C@]5(C)[C@H]4CC[C@]3(C)[C@H]2[C@@H]1C', 'CO[C@]1(CCC(C)CO[C@@H]2O[C@H](CO)[C@@H](O)[C@H](O)[C@H]2O)O[C@H]2C[C@H]3[C@@H]4CC=C5C[C@@H](O[C@@H]6O[C@H](CO)[C@H](O[C@@H]7O[C@H](CO)[C@@H](O)[C@H](O)[C@H]7O)[C@H](O)[C@H]6O)[C@H](O)C[C@]5(C)[C@H]4CC[C@]3(C)[C@H]2[C@@H]1C', 'C=C(CC[C@@]1(OC)O[C@H]2C[C@H]3[C@@H]4CC[C@@H]5C[C@@H](O[C@@H]6O[C@H](CO)[C@H](O)[C@H](O)[C@H]6O[C@@H]6O[C@H](CO)[C@@H](O)[C@H](O)[C@H]6O)CC[C@]5(C)[C@H]4C[C@@H](O)[C@]3(C)[C@H]2[C@@H]1C)CO[C@@H]1O[C@H](CO)[C@@H](O)[C@H](O)[C@H]1O', 'CCCCCCCCCCCCCCCCOC[C@H](CO[C@@H]1O[C@H](COC(C)=O)[C@@H](O[C@H]2O[C@H](COC(C)=O)[C@@H](OC(C)=O)[C@H](OC(C)=O)[C@H]2OC(C)=O)[C@H](OC(C)=O)[C@H]1OC(C)=O)OC', 'C=CC(C)(CCC1(C)C(C)CC(OC2OC(C)C(OC3OC(COC(C)=O)C(O)C(O)C3O)C(O)C2O)C2(C)C(C)=CCCC12)OC1OC(C)C(O)C(OC2OC(C)C(O)C(O)C2O)C1O', 'CO[C@@H]1[C@@H](O)[C@H]([C@H]2CC[C@@]3(C)C(=CC[C@@H]4[C@@H]3CC[C@]3(C)[C@@H]([C@@H](C)[C@@H]5O[C@H](CO)[C@@H](O)[C@H](O)[C@H]5O)CC[C@]43O)C2)O[C@H](C)[C@@H]1O[C@@H]1O[C@H](CO[C@@H]2O[C@H](CO)[C@@H](O)[C@H](O)[C@H]2O)[C@@H](O)[C@H](O)[C@H]1O', 'C=C(CCC1(OC)O[C@H]2C[C@H]3[C@@H]4CC[C@@H]5C[C@@H](O[C@@H]6O[C@H](CO)[C@H](O)[C@H](O)[C@H]6O[C@@H]6O[C@H](CO)[C@@H](O)[C@H](O)[C@H]6O)CC[C@]5(C)[C@H]4C[C@@H](O)[C@]3(C)[C@H]2[C@@H]1C)CO[C@@H]1O[C@H](CO)[C@@H](O)[C@H](O)[C@H]1O', 'CC(=O)OC[C@H]1O[C@@H](O[C@H]2[C@H](OC(C)CCCCCC/C=C\\\\CCCCCCCC(=O)OC[C@H]3O[C@@H]4OC(C)(C)O[C@@H]4[C@H]4OC(C)(C)O[C@H]43)O[C@H](COC(C)=O)[C@@H](O)[C@@H]2O)[C@H](O)[C@@H](O)[C@@H]1O', 'C=C(CC[C@@]1(OC)O[C@H]2C[C@H]3[C@@H]4CC[C@H]5C[C@@H](O[C@H]6O[C@@H](CO)[C@H](O)[C@@H](O)[C@@H]6O[C@H]6O[C@@H](CO)[C@H](O)[C@@H](O)[C@@H]6O)CC[C@]5(C)[C@H]4C[C@H](O)[C@@]3(C)[C@H]2[C@@H]1C)CO[C@H]1O[C@@H](CO)[C@H](O)[C@@H](O)[C@@H]1O', 'CC(C)=C(C)CC(O)C(C)C1CCC2C3C4OC4C4(O)CC(OC5OC(CO)C(OC6OC(CO)C(OC7OC(CO)C(O)C(O)C7O)C(O)C6O)C(O)C5O)CC(O)C4(C)C3CCC12C', 'COC1(CCC(C)COC2OC(CO)C(O)C(O)C2O)OC2CC3C4CC=C5CC(OC6OC(CO)C(OC7OC(CO)C(O)C(O)C7O)C(O)C6O)CC(O)C5(C)C4CCC3(C)C2C1C', 'COC1(CCC(C)COC2OC(CO)C(O)C(O)C2O)OC2CC3(O)C4CC=C5CC(OC6OC(CO)C(OC7OC(CO)C(O)C(O)C7O)C(O)C6O)CCC5(C)C4CCC3(C)C2C1C', 'CCCCCCCCCCCCCCCCOC[C@H](CO[C@@H]1O[C@H](COC(C)=O)[C@@H](O[C@@H]2O[C@H](COC(C)=O)[C@H](OC(C)=O)[C@H](OC(C)=O)[C@H]2OC(C)=O)[C@H](OC(C)=O)[C@H]1OC(C)=O)OC', 'C=C1C[C@@]23CC[C@@H]4[C@](C)([C@@H](C)O[C@@H]5O[C@H](CO)[C@@H](O)[C@H](O)[C@H]5OC5C[C@@H](C)[C@H](O)[C@@H](O)[C@H]5O)CCC[C@@]4(C)C2CC[C@]1(O[C@@H]1O[C@H](CO)[C@@H](O)[C@H](O)[C@H]1O[C@@H]1O[C@H](CO)[C@@H](O)[C@H](O)[C@H]1O)C3', 'CC(C)C1=CC=CC=C1CC2=CC(=C(C(=C2O)O)O)C(=O)NC3=CC=C(C=C3)S(=O)(=O)C4=CC=CC=C4C(C)(C)C', 'COc1ccc(CN2C[C@H](COCc3ccccc3)Oc3cccc(Oc4ccc(C(C)C)cc4)c3S2(=O)=O)cc1', 'COCC1=C([C@H](O)CC/C(=C/c2cccc(O)c2)c2ccccc2)[C@H](CO)[C@@H]2C(=O)N(Cc3cccs3)C(=O)[C@@H]2C1', 'COC(=O)CCCOc1ccc(-c2sc3ccccc3c2C(O)c2ccc(OCCN3CCCC3)cc2)cc1C=O', 'COc1ccc(C(O[C@@H]2CN(Cc3ccccc3)C[C@H]2OS(C)(=O)=O)(c2ccccc2)c2ccc(OC)cc2)cc1', 'Cc1cc(OCC=C(c2ccc(C#CCN3CCC(O)CC3)cc2)c2ccc(S(C)=O)cc2)ccc1OCC(=O)O', 'Cc1cc(NS(=O)(=O)c2ccc3ccccc3c2)c(C)c(C(OC(C)(C)C)C(=O)O)c1-c1ccc2c(c1)CCCO2', 'CCO[C@H](COS(=O)(=O)c1ccc(C)cc1)Cc1ccc(OCCn2c(C)ccc2-c2cc3ccccc3o2)cc1', 'O=C(O)C1CCC(C(=O)N2CC[C@@]3(S(=O)(=O)c4ccccc4)c4ccc(OCc5ccccc5)cc4CC[C@@H]23)CC1', 'CC#C[C@@H](CC(=O)OC)c1ccc(OCc2ccc3c(c2)-c2ccc(OC4CCS(=O)(=O)CC4)nc2CCC3)cc1', 'C[C@]12CC[C@@H]3c4ccc(OC(=O)c5ccc(S(N)(=O)=O)cc5)cc4CC[C@@]3(C)[C@@H]1CC[C@@H]2OC(=O)c1ccccc1', 'CC(C)(C)c1ccc(C2C(C(=O)c3cccs3)C(c3ccc4c(c3)OCO4)N(C(=O)C3CCC3)C2(C)C(=O)O)cc1', 'COc1ccc(C2Cc3ccc(OC)c(OCc4ccccc4)c3CN2S(=O)(=O)c2ccc(C)cc2)c(C)c1OC', 'C/C(=C\\\\c1ccccc1O)CC[C@@H](O)C1=C(COc2ccccc2)C[C@H]2C(=O)N(Cc3cccs3)C(=O)[C@H]2[C@H]1CO', 'C=CCOC(=O)N1CC(SC(c2ccccc2)(c2ccccc2)c2ccccc2)CC1C(CC(=O)OCC)C(=O)O', 'CC(C)(C)OC(=O)NC(C(=O)O)[C@@H](CO[C@H]1C=CC=CO1)SC(c1ccccc1)(c1ccccc1)c1ccccc1', 'Cc1c(-c2c(C(OC(C)(C)C)C(=O)O)n(C)c(=O)c3cc(OCC4=CC=CCC4=S)ccc23)ccc2c1CCCO2', 'COc1cc([O-])c(Cc2ccccc2)cc1S(=O)(=O)O.Cc1ccc(C(=O)[N+]2(c3ccccc3)CCCCC2)cc1', 'C[C@]12CC[C@@H]3c4ccc(OC(=O)c5ccccc5)cc4CC[C@@]3(C)[C@@H]1CC[C@@H]2OC(=O)c1ccc(S(N)(=O)=O)cc1', 'CC(C)c1ccccc1Cc1cc(C(=O)Nc2cccc(S(=O)(=O)c3ccccc3C(C)(C)C)c2)c(O)c(O)c1O', 'COC(OC)(C(=O)c1ccc(Sc2ccc(C(=O)/C(CC3CCCCC3)=N/OC(C)=O)cc2)cc1)c1ccccc1', 'CC#C[C@@H](CC(=O)O)c1ccc(OCc2ccc3c(c2)-c2ccc(OCC4CCS(=O)(=O)CC4)nc2CCC3)cc1', 'COC(OC)(OC(c1ccccc1)(c1ccccc1)c1ccccc1)C1CC(O)CN1S(=O)(=O)c1ccc(C)cc1', 'COc1cccc([C@H]2C[C@@]3(C)[C@@H](CC[C@@]3(O)C#Cc3ccc(NS(=O)(=O)O)cc3)[C@@H]3CCC4=CC(=O)CCC4=C32)c1', 'COc1cc(C)cc(OC)c1CC(C1CCN(c2ccc(C(=O)O)cc2)CC1)S(=O)(=O)c1ccc2ccccc2c1', 'C[C@]12CC[C@@H]3c4ccc(OC(=O)c5cccc(S(N)(=O)=O)c5)cc4CC[C@@]3(C)[C@@H]1CC[C@@H]2OC(=O)c1ccccc1', 'COC(=O)/C(NS(=O)(=O)c1ccc(C)cc1)=C1\\\\C=C[C@](Cc2ccccc2)(C(=O)OC(C)(C)C)[C@H]1c1ccccc1', 'CCC(Oc1c(-c2ccc(C(C)(C)C)cc2)oc2ccccc2c1=O)C(=O)Nc1sc2c(c1C(=O)OC)CCCC2', 'COC(=O)c1ccc2c(C3CCCCC3)c3n(c2c1)C[C@@H](COS(=O)(=O)c1ccc(C)cc1)COc1ccccc1-3', 'CC(C)c1ccccc1Cc1cc(C(=O)Nc2ccccc2S(=O)(=O)c2ccccc2C(C)(C)C)c(O)c(O)c1O', 'CC(C)c1ccccc1Cc1c(O)c(O)c(O)c(C(N)=O)c1-c1ccc(S(=O)(=O)c2ccccc2C(C)(C)C)cc1', 'O=S(=O)(Cc1ccccc1)N[C@@H]1O[C@H](COCc2ccccc2)[C@@H](OCc2ccccc2)[C@H]1OCc1ccccc1', 'CCOC(=O)COc1cccc(CC(SC(C)C(=O)OCC)c2cccc(OCc3ccc4ccccc4n3)c2)c1', 'COC(=O)C(CCSC)NC(=O)c1ccc(COCc2ccc(-c3ccccc3OC)o2)cc1-c1ccccc1C', 'COc1c(C)cc2c(c1OCc1ccccc1)[C@H](COCc1ccccc1)N(S(=O)(=O)c1ccc(C)cc1)[C@@H](O)C2', 'C=CCOC(=O)N1C[C@@H](SC(c2ccccc2)(c2ccccc2)c2ccccc2)C[C@H]1C(CC(=O)OCC)C(=O)O', 'COc1cc(C)cc(-c2ccc(OC)c(S(=O)(=O)Cc3cccc(CCCNC(=O)c4ccccc4OC)c3)c2)c1', 'O=C(O)N1CCC(c2ccc(OCCCC3(c4ccccc4)OCCO3)cc2)C(OCc2ccc3sccc3c2)C1', 'COc1ccc(-c2cc3c(n2S(=O)(=O)c2ccc(C)cc2)[C@H](O)[C@H]2[C@@H](c4ccc(OC)cc4)C[C@H]3[C@]2(C)OC)cc1', 'COC(=O)CCCOc1ccc(-c2sc3ccc(OC)cc3c2C(=O)c2ccc(CN3CCCC3)c(OC)c2)cc1', 'COC(=O)c1ccc2c(C3CCCCC3)c3n(c2c1)CC(COS(=O)(=O)c1ccc(C)cc1)COc1ccccc1-3', 'CCCCCCc1cc2c3c(c(=O)oc2cc1OC(=O)[C@@H](NS(=O)(=O)c1ccc(C)cc1)c1ccccc1)CCC3', 'Cc1cc(C)c(OCCCCOc2ccc(C=Cc3cccc4c(SCC(=O)O)cn(CC(=O)O)c34)cc2)c(C)c1', 'COC(OC)(C(=O)c1ccc(Sc2ccc(C(=O)/C(CC3CCCCC3)=N\\\\OC(C)=O)cc2)cc1)c1ccccc1', 'CC(C)(C1=CC2(S(C)(=O)=O)OCOC2(OCc2ccccc2)C=C1)N(CC(=O)c1ccccc1)Cc1ccccc1', 'CCSCC(OCc1ccc(C(=O)NC(CCO)C(=O)O)c(-c2ccccc2C)c1)c1ccc(-c2ccccc2)o1', 'CC(C)COC(=O)Oc1ccc2c(C(=O)c3ccc(OCCN4CCC(C)C4)cc3)c(-c3ccc(O)cc3)sc2c1', 'Cc1cc(NS(=O)(=O)c2cccc3ccccc23)c(C)c(C(OC(C)(C)C)C(=O)O)c1-c1ccc2c(c1)CCCO2', 'C/C(=C\\\\c1ccc(O)cc1)CC[C@@H](O)C1=C(COc2ccccc2)C[C@H]2C(=O)N(Cc3cccs3)C(=O)[C@H]2[C@H]1CO', 'COc1ccc2c3c1OC1C(=O)CCC4(OS(=O)OCCCc5ccc(-c6ccccc6)cc5)C(C2)C(N)CCC314', 'CC(C)c1c(C(O)(O)NC(=O)c2ccccc2)ccc(-c2ccc(S(=O)(=O)c3ccccc3C(C)(C)C)cc2)c1O', 'CCOC(=O)c1ccc2c(C(=O)c3ccc(OCCN4CCCCC4)cc3)c(-c3ccc(OC)c(OC)c3)sc2c1', 'CCOc1cc(C)ccc1S(=O)(=O)OCCCc1ccc(OCCn2c(C)ccc2-c2cc3ccccc3o2)cc1', 'CCCCCCc1cc2c3c(c(=O)oc2cc1OC(=O)C(NS(=O)(=O)c1ccc(C)cc1)c1ccccc1)CCC3', 'C[C@]12CC[C@@H]3c4ccc(OC(=O)c5ccccc5)cc4CC[C@@]3(C)[C@@H]1CC[C@@H]2OC(=O)c1cccc(S(N)(=O)=O)c1', 'COc1cc(C(=O)CS(=O)(=O)c2ccccc2C)ccc1Cc1cn(C)c2ccc(CC(=O)OC3CCCC3)cc12', 'COc1ccccc1C(OCC1CC(O)CN1S(=O)(=O)c1ccccc1C)(c1ccccc1)c1ccccc1OC', 'CC(=O)Oc1ccc(C(c2ccc(OC(C)=O)cc2)c2ccccc2S(=O)(=O)NC2C3CC4CC(C3)CC2C4)cc1', 'COCC1=C([C@H](O)CC/C(=C/c2ccccc2O)c2ccccc2)[C@H](CO)[C@@H]2C(=O)N(Cc3cccs3)C(=O)[C@@H]2C1', 'COCC1=C([C@H](O)CC/C(=C/c2ccc(O)cc2)c2ccccc2)[C@H](CO)[C@@H]2C(=O)N(Cc3cccs3)C(=O)[C@@H]2C1', 'COC(=O)c1c(NC(=O)COc2c(-c3ccc(C(C)(C)C)cc3)oc3cc(C)c(C)cc3c2=O)sc2c1CCCC2', 'COC(=O)CCCC(O)C(Sc1ccc2cc(C(=O)OC)c(OC)nc2c1)c1ccc(CCc2ccccc2)cc1', 'O=S(=O)(Cc1ccccc1)N[C@H]1O[C@H](COCc2ccccc2)[C@@H](OCc2ccccc2)[C@H]1OCc1ccccc1', 'C[C@H]1C=C2C(=O)C=C3C4=C(C5=C(CCC5)C4)N(Cc4ccccc4)O[C@]3(C(=O)CSC3CCOC3=O)[C@@]2(C)C[C@@H]1O', 'CC/C(=C\\\\c1ccc(CO)o1)CC[C@H]1OC[C@H]2C1=C(COc1ccccc1)C[C@H]1C(=O)N(Cc3cccs3)C(=O)[C@H]12', 'Cc1cc(OC/C=C(\\\\c2ccc(C#CCN3CCC(O)CC3)cc2)c2ccc(S(C)=O)cc2)ccc1OCC(=O)O', 'CCCCCCc1cc2c3c(c(=O)oc2cc1OC(=O)[C@H](NS(=O)(=O)c1ccc(C)cc1)c1ccccc1)CCC3', 'C/C(=C\\\\c1cccc(O)c1)CC[C@@H](O)C1=C(COc2ccccc2)C[C@H]2C(=O)N(Cc3cccs3)C(=O)[C@H]2[C@H]1CO', 'COc1ccc(SCCC(=O)NOC(c2ccc(OCc3ccc(C)cc3)cc2)c2ccc(OC)cc2OC)cc1', 'C#CC1(CC(=O)C2(NC(=O)c3cc4ccc(-c5ccc(C6(O)CCS(=O)(=O)CC6)cc5)cc4o3)CCCCC2)CC1', 'COc1cccc(C(OCC2CC(O)CN2S(=O)(=O)Cc2ccccc2)(c2ccccc2)c2ccccc2)c1OC', 'CC#CC(CC(=O)OC)c1ccc(OCc2ccc3c(c2)-c2ccc(OC4CCS(=O)(=O)CC4)nc2CCC3)cc1', 'COc1cc([O-])c(C(=O)c2ccccc2)cc1S(=O)(=O)O.Cc1ccc(C[N+]2(c3ccccc3)CCCCC2)cc1', 'CCOC(=O)c1c(NC(=O)C(C)Oc2c(-c3ccc(C(C)(C)C)cc3)oc3ccccc3c2=O)sc2c1CCCC2', 'COc1c(C)ccc(C(COCc2ccccc2)N(CC=O)S(=O)(=O)c2ccc(C)cc2)c1OCc1ccccc1', 'CC(C)COC(=O)Oc1ccc2c(C(=O)c3ccc(OCCN4CCCCC4)cc3)c(-c3ccc(O)cc3)sc2c1', 'Cc1cc(C)c(OCCCCOc2ccc(/C=C/c3cccc4c(SCC(=O)O)cn(CC(=O)O)c34)cc2)c(C)c1', 'C=CCOC(=O)N1C[C@@H](SC(c2ccccc2)(c2ccccc2)c2ccccc2)C[C@@H]1CC(C(=O)OC)C(=O)OC', 'CCOC(=O)CCSC(Cc1cccc(OCC(=O)OCC)c1)c1cccc(OCc2ccc3ccccc3n2)c1', 'COc1cc(O)c(C(=O)c2ccccc2)cc1S(=O)(=O)[O-].Cc1ccc(C[N+]2(c3ccccc3)CCCCC2)cc1', 'COC1=CC=CC(=C1)C2=C(C(=O)C3=CC=CC=C3O2)O', 'CCOc1ccc2c(c1O)C(=O)c1ccccc1C2=O', 'C=CC(=O)Oc1ccccc1OC(=O)c1ccccc1', 'O=C(O)c1ccc(C=Cc2ccccc2)cc1C(=O)O', 'OC(c1ccc2c(c1)OCO2)c1cc2ccccc2o1', 'O=C(O)C1=COC(c2cccc(-c3ccccc3)c2)O1', 'OC1=CC(O)=C2C=Cc3c(O)cc(O)c4c3C2C1=CC4', 'COc1c(-c2ccccc2)oc2ccc(O)cc2c1=O', 'O=C(O)C1=C(C(=O)O)c2ccc3ccccc3c2CC1', 'C#CC(C)(C)Oc1c2occc2cc2ccc(=O)oc12', 'COc1ccc(-c2cc(=O)c3ccccc3o2)cc1O', 'O=C(O)C(C#Cc1ccccc1)Oc1ccc(O)cc1', 'O=C(O)c1oc2ccccc2c1COc1ccccc1', 'O=C1C(c2ccccc2)Oc2cccc3c2C1OCO3', 'Cc1ccc2c(=O)c(O)c(-c3cccc(O)c3)oc2c1', 'O=C1c2ccccc2C(=O)c2c(OCCO)cccc21', 'C=C(C(=O)O)c1ccc(C(=C)C(=O)O)c2ccccc12', 'Oc1ccc(O)c(-c2ccc3cc(O)ccc3c2O)c1', 'COC(=O)c1oc2ccc(-c3ccccc3)cc2c1O', 'COc1cccc(O)c1-c1cc(=O)c2ccccc2o1', 'O=C(c1ccco1)c1ccccc1[C@H](O)c1ccco1', 'Cc1cccc2c1ccc1c3c(c(=O)oc12)C(O)CO3', 'O=C(c1ccco1)C(O)(c1ccccc1)c1ccco1', 'O=C(c1ccccc1)[C@@H]1O[C@H]1c1ccc2c(c1)OCO2', 'O=COC(C(=O)c1ccccc1)C(=O)c1ccccc1', 'COc1ccccc1/C=C1\\\\OC2=CC=CC(=O)C2C1=O', 'O=C(O)c1cccc(/C=C\\\\c2cccc(C(=O)O)c2)c1', 'COc1ccc(C(=O)C2Oc3ccccc3C2=O)cc1', 'O=C1CC(c2ccccc2)c2ccccc2O1.O=C=O', 'O=C1CCC(=O)Oc2c(cccc2-c2ccccc2)O1', 'CC(=O)Oc1cc(C)cc2oc3ccccc3c(=O)c12', 'O=C1/C(=C/c2ccc(O)c(O)c2)Cc2ccc(O)cc21', 'COc1cc(O)cc2oc(-c3ccccc3)cc(=O)c12', 'COc1c(CO)ccc2c1C(=O)c1ccccc1C2=O', 'Cc1ccccc1C(=O)Oc1ccccc1C(=O)C=O', 'C=C(C(=O)O)C(=O)c1ccc(Oc2ccccc2)cc1', 'CC(=O)c1c2c(O)cccc2cc2ccc(O)c(O)c12', 'Cc1cc(O)cc2c3c(oc12)-c1ccc(O)cc1OC3', 'O=C(O)c1ccc2c(c1C(=O)O)[C@H]1C=C[C@@H]3C=C[C@@H]2[C@H]31', 'COc1cc2c3c(c1)oc(=O)c1cc(O)cc(c13)CC2', 'CCC(=O)c1c(O)ccc2c(=O)c3ccccc3oc12', 'Oc1cccc(OOc2cccc3c(O)cccc23)c1', 'C=CC(=O)Oc1ccc(-c2ccc(C(=O)O)cc2)cc1', 'CC1C=Cc2c(oc(=O)c3ccccc3c2=O)C(O)=C1', 'COc1cccc(-c2c(O)c3ccccc3oc2=O)c1', 'COc1ccc2c(c1)OC(=Cc1cccc(O)c1)C2=O', 'CCOC(=O)C#Cc1cccc2c(C(=O)O)cccc12', 'COc1cccc(C=C2Oc3cc(O)ccc3C2=O)c1', 'C=CC(=O)Oc1ccccc1C(=O)Oc1ccccc1', 'O=C(O)/C(C(=O)c1ccccc1)=C(\\\\O)c1ccccc1', 'O=C(O)c1ccc(OCc2cc3ccccc3o2)cc1', 'O=C(O)c1cccc(O)c1C(=O)/C=C/c1ccccc1', 'Oc1ccc(Cc2cc3cc4c(cc3o2)OCO4)cc1', 'O=C(O)c1cc2c(c3ccccc13)CC=CC2C(=O)O', 'Cc1cccc2oc3c(CC(=O)O)cccc3c(=O)c12', 'O=C1O[C@H]([C@]2(O)OCc3ccccc32)c2ccccc21', 'CC(=O)COc1cc(=O)oc2c1ccc1ccccc12', 'O=C1C=CC2=C3c4ccc(O)cc4CC3(O)COC2=C1', 'CC(=O)Oc1cccc2c1C(=O)/C(=C/c1ccco1)C2', 'O=c1cc(-c2ccc(O)cc2)oc2ccc(CO)cc12', 'O=C(/C=C/c1ccccc1)c1ccc(O)c(C(=O)O)c1', 'COc1ccc2c(c1)C(=O)c1cc(C)cc(O)c1C2=O', 'O=C(O)c1cccc2c1C(=O)CC(c1ccccc1)O2', 'O=C(O)C(=Cc1ccc(C(=O)O)cc1)c1ccccc1', 'C=C(C(=O)O)c1ccc(-c2ccc(C(=O)O)cc2)cc1', 'O=C(O)CC(=O)C1c2ccccc2Oc2ccccc21', 'O=c1ccc2ccc(OCc3ccccc3)c(O)c2o1', 'O=C1OC(c2ccccc2)C(C(=O)O)c2ccccc21', 'O=C(O)C1C(=O)c2cc(O)ccc2C1c1ccccc1', 'CC(=O)COc1ccc2c(=O)c3ccccc3oc2c1', 'O=C1c2ccccc2[C@H](O)[C@]12O[C@@H](O)c1ccccc12', 'O=C(/C=C/c1ccc2c(c1O)OCO2)c1ccccc1', 'O=C(C=Cc1cccc(O)c1)c1ccc2c(c1)OCO2', 'COc1cccc(C(=O)c2c(O)oc3ccccc23)c1', 'COc1ccccc1C=C1C=CC=C2C(=O)OC(=O)C21', 'O=Cc1ccc(C=O)cc1.O=Cc1ccc(C=O)cc1', 'O=c1oc2cccc(O)c2cc1Cc1ccc(O)cc1', 'COc1ccc2c(c1)O[C@H]1C2=COc2cc(O)ccc21', 'O=c1oc2cc(O)ccc2c(O)c1Cc1ccccc1', 'C/C(=C\\\\c1cc2c(c(=O)o1)C(=O)CO2)c1ccccc1', 'COc1ccccc1Oc1cc(=O)c2ccccc2o1', 'O=C(O)c1ccc(/C=C/C(=O)c2ccccc2O)cc1', 'C=CC(=O)Oc1c(O)cccc1C(=O)c1ccccc1', 'COC(=O)C1=CC2C3C(=O)c4ccccc4C(=O)C3C12', 'Cc1ccc2c(=O)c3cccc(CC(=O)O)c3oc2c1', 'O=C(O)c1ccoc1COc1cccc2ccccc12', 'COc1ccccc1-c1cc2cc(O)ccc2oc1=O', 'COC(=O)c1cccc2oc3ccc(C)cc3c(=O)c12', 'O=C1CC[C@@H](c2coc3ccc4ccoc4c23)C(=O)C1', 'O=C1c2ccc(CO)cc2C(=O)c2ccc(CO)cc21', 'O=C(O)/C(=C\\\\c1ccc2c(c1)OCO2)c1ccccc1', 'O=C(C=C(O)c1ccccc1)C(=O)Oc1ccccc1', 'O=C1C=CC2=C3c4cccc(O)c4OCC3(O)CC2=C1', 'COc1cccc(C(=O)c2coc3ccc(O)cc23)c1', 'CCOC(=O)c1ccc2c(c1)oc(=O)c1ccccc12', 'CC(=O)c1cc2c(oc(=O)c3ccccc32)c(C)c1O', 'COC(=O)C(=O)c1ccccc1C(=O)c1ccccc1', 'COc1ccc(C=C2OC(=O)c3ccccc32)cc1O', 'COc1ccc2c(c1)O/C(=C/c1ccccc1O)C2=O', 'O=CCC(C(=O)O)c1cccc2oc3ccccc3c12', 'Cc1ccc(C2(O)C(=O)c3ccccc3C2=O)cc1O', 'O=C(O)c1ccc(C=CC(=O)c2ccc(O)cc2)cc1', 'O=C(O)c1ccc(/C=C\\\\c2ccccc2)cc1C(=O)O', 'O=C(O)C=Cc1ccc2cccc(C=CC(=O)O)c2c1', 'O=C(CO)c1ccc2cc(-c3cccc(O)c3)oc2c1', 'COC(=O)c1ccc(-c2ccccc2-c2ccco2)o1', 'O=C(O)c1c2ccccc2c(C(O)O)c2ccccc12', 'CC(=C1Oc2c(ccc(O)c2O)C1=O)c1ccccc1', 'CC(=O)OC(=O)c1ccccc1C(=O)c1ccccc1', 'C#Cc1cc(O)ccc1O.C#Cc1cc(O)ccc1O', 'O=C(O)C(=C(C(=O)O)c1ccccc1)c1ccccc1', 'O=C(O)C(=O)[C@H]1CCc2c(ccc3ccccc23)C1=O', 'O=C(O)c1cc2ccccc2cc1OCc1ccoc1', 'COc1ccc2c(c1)C(=O)c1cc(CO)ccc1C2=O', 'O=C1c2ccccc2OC2OCOC12c1ccccc1', 'O=C(O)/C=C/c1ccc2ccccc2c1/C=C/C(=O)O', 'COc1cc(C(=O)O)ccc1C#Cc1ccc(O)cc1', 'COc1cc2c(-c3ccccc3)cc(=O)oc2cc1O', 'O=C1/C(=C/c2ccc(O)cc2)COc2ccc(O)cc21', 'COC(=O)c1cc(-c2ccoc2)c2ccc(O)cc2c1', 'O=c1cc(Cc2ccc(O)cc2)oc2ccc(O)cc12', 'OC1=C2C=CCc3c(O)c(O)c4cccc(c4c32)C1O', 'Cc1cccc(Oc2ccc3c(c2)C(=O)OC3=O)c1C', 'O=C(O)C(O)c1cccc2c1ccc1cccc(O)c12', 'COc1cc2c(cc1OC)-c1ccccc1C(=O)C2=O', 'O=C(c1ccc2c(c1)OCO2)[C@@H]1O[C@@H]1c1ccccc1', 'O=C(O)c1ccccc1C(=O)C=Cc1cccc(O)c1', 'O=C1OC(C(=O)Oc2ccccc2)Cc2ccccc21', 'O=C1O[C@@H](c2ccccc2)c2cc3c(cc21)OCCO3', 'O=C(O)C=Cc1ccccc1-c1ccccc1C(=O)O', 'COC(=O)C1(c2ccccc2)C(=O)Oc2ccccc21', 'O=Cc1cccc(-c2cccc(=C/O)/c2=C/O)c1C=O', 'Cc1ccc(-c2cc3c(O)cc(O)cc3oc2=O)cc1', 'COc1cc(O)c2c(=O)oc(-c3ccccc3)cc2c1', 'COc1ccc(C#CC(=O)Oc2ccc(O)cc2)cc1', 'Cc1ccccc1-c1cc(=O)c2c(o1)CC(=O)C=C2O', 'O=C1OC(=O)c2ccc(C=CCCO)c3cccc1c23', 'O=C(CC(=O)c1ccc2cc1OCO2)c1ccccc1', 'O=c1c(OCO)c(-c2ccccc2)oc2ccccc12', 'O=C(O)c1ccccc1C(=O)/C=C/c1ccccc1O', 'CC1=Cc2occ(C(O)c3ccccc3)c2C(=O)C1=O', 'O=C1C=CC(=O)C2=C1CC1(CCc3ccccc3O1)O2', 'O=C(O)C(=O)O.c1ccc2cc3ccccc3cc2c1', 'O=C1C=CC(=O)C1C1=CC(C2C(=O)C=CC2=O)CC=C1', 'O=C1O[C@H]([C@@]2(O)OCc3ccccc32)c2ccccc21', 'Cc1ccc2oc(=O)c3c4c(c(=O)oc3c2c1)CCC4', 'Cc1cc2oc(-c3ccccc3)cc(=O)c2c(O)c1O', 'O=C1C(O)=C(c2ccccc2)OC1(O)c1ccccc1', 'CC(C)C(=O)c1cc2c(o1)C(=O)c1ccccc1C2=O', 'C1=C(C2COc3ccccc3O2)Oc2ccccc2O1', 'O=c1oc2ccccc2cc1-c1cccc(C(O)O)c1', 'COC(=O)c1ccc(C2OC(=O)c3ccccc32)cc1', 'COc1cc(O)cc2c1C(=O)c1ccc(C)cc1C2=O', 'O=C(O)C1=CO[C@H](c2cccc(-c3ccccc3)c2)O1', 'OCOC1=C(OCO)c2ccc3c4c(ccc1c24)C=C3', 'COc1cccc2oc(-c3ccc(O)cc3)cc(=O)c12', 'CCOC(=O)C(=O)C1C(=O)c2cccc3cccc1c23', 'Cc1ccc2c3c1C(=O)c1ccccc1C3(O)OCO2', 'Cc1cc(O)c(O)c2c1CC(=O)c1ccccc1C2=O', 'COC(=O)c1ccc2c(c1)=c1cc(C(=O)OC)ccc1=2', 'c1c2c(cc3c1OCO3)Cc1cc3c(cc1C2)OCO3', 'Cc1coc2ccc(C(=O)/C=C/c3ccco3)c(O)c12', 'O=C(O)c1coc(COc2ccc3ccccc3c2)c1', 'O=C1/C(=C/c2ccc(O)c(O)c2)Cc2cc(O)ccc21', 'COc1c2c(cc3ccc4cc(O)ccc4c13)OCO2', 'O=C(O)c1c(-c2ccc(CO)cc2)oc2ccccc12', 'Cc1cc2ccc1OC(=O)c1ccc(cc1C)C(=O)O2', 'Cc1c(-c2ccc(O)cc2)oc2ccc(O)cc2c1=O', 'O=C(O)c1cccc(/C=C/c2ccccc2)c1C(=O)O', 'O=C1OCc2ccc(cc2)COC(=O)c2ccc1cc2', 'COc1cc2oc(=O)cc(-c3ccccc3)c2cc1O', 'C[C@@]1(C(=O)Oc2ccccc2)C(=O)Oc2ccccc21', 'O=CC(=O)OC(C(=O)c1ccccc1)c1ccccc1', 'O=C1c2ccccc2C(=O)c2cc(CO)c(CO)cc21', 'O=C(C[C@H]1OC(=O)c2ccccc21)c1cccc(O)c1', 'Oc1ccc2cc(-c3ccc(O)c(O)c3O)ccc2c1', 'O=C(O)C(=O)/C=C(\\\\O)c1cccc(-c2ccccc2)c1', 'O=C(O)COc1ccccc1-c1cc2ccccc2o1', 'O=C(/C=C/c1ccc2c(c1)OCO2)c1ccc(O)cc1', 'Cc1oc2cc(O)ccc2c(=O)c1Oc1ccccc1', 'CCc1cccc2c1C(=O)c1c(O)ccc(O)c1C2=O', 'O=C(O)CCC(=O)c1ccc2c(c1)oc1ccccc12', 'O=c1oc2c(O)cccc2c(O)c1Cc1ccccc1', 'C=C1c2ccccc2C(=O)C1C1C(=O)CC(=O)CC1=O', 'O=C(O)c1cccc2c1OC(c1ccccc1)CC2=O', 'O=C1c2ccccc2C(=O)C1(CO)c1ccc(O)cc1', 'Cc1ccc2oc(C)c(C(=O)c3ccco3)c(=O)c2c1', 'O=C1CC(C(=O)O)(c2ccccc2)Oc2ccccc21', 'CC(=O)c1ccccc1OC(=O)C(=O)c1ccccc1', 'O=C(O)C(=Cc1ccccc1-c1ccccc1)C(=O)O', 'O=C(O)C(C(=O)O)=C(c1ccccc1)c1ccccc1', 'Cc1cc2occ(-c3ccccc3C)c(=O)c2c(=O)o1', 'O=C(O)c1ccc2c(c1C(=O)O)[C@@H]1C=C[C@H]3C=C[C@@H]2[C@H]31', 'O=C(OC(=O)c1ccccc1)C(O)=Cc1ccccc1', 'O=C(O)C(=CC=Cc1cccc2ccccc12)C(=O)O', 'COc1ccc2cc(OC(=O)c3ccccc3)oc2c1', 'C=C(O)C(=O)Oc1ccc(C(=O)c2ccccc2)cc1', 'CC(=O)c1cc(O)cc2cc(-c3ccc(O)cc3)oc12', 'COc1cccc2c1C(=O)c1c(O)cc(C)cc1C2=O', 'Cc1cc2c(cc1-c1cc3ccc(O)cc3o1)OCO2', 'O=C(OCCO)c1ccc2c(c1)C(=O)c1ccccc1-2', 'COc1ccc(Oc2cc(=O)c3ccccc3o2)cc1', 'O=C1OC(c2ccccc2)c2cc3c(cc21)OCCO3', 'O=C1CC[C@H](c2coc3ccc4ccoc4c23)C(=O)C1', 'O=C1C=CC2(O)C3CC34CC23c2c4ccc(O)c2OC13', 'O=C(O)C1=CCCc2c1ccc1ccc(C(=O)O)cc21', 'O=C1C=C(c2ccccc2)Cc2c(O)c(O)cc(O)c21', 'Cc1cccc(-c2coc3cc(O)c(O)cc3c2=O)c1', 'COc1ccc(O)c2c(=O)cc(-c3ccccc3)oc12', 'O=C(O)c1cccc(/C=C\\\\c2ccccc2C(=O)O)c1', 'Cc1ccc(-c2coc3cc(O)ccc3c2=O)cc1O', 'O=C(O)C1C(=O)c2ccccc2C1c1ccc(O)cc1', 'COC(=O)C1OC(=O)c2cc(-c3ccccc3)ccc21', 'COc1ccc2oc(-c3ccccc3C(=O)O)cc2c1', 'O=C(/C=C/c1ccc2c(c1)OCO2)c1ccccc1O', 'COc1ccc(O/C=C2\\\\OC(=O)c3ccccc32)cc1', 'O=c1cc(-c2ccccc2OCO)oc2ccccc12', 'O=C1c2ccccc2OCC1c1ccc2c(c1)OCO2', 'O=C(O)C1=COC(c2ccc(-c3ccccc3)cc2)O1', 'O=C(/C=C/c1ccc(O)cc1)c1ccc2c(c1)OCO2', 'COc1ccc(-c2cc(=O)oc3cc(O)ccc23)cc1', 'O=C1Cc2cccc(OCc3ccccc3)c2C(=O)O1', 'Cc1ccc(Oc2c(O)c3ccccc3oc2=O)cc1', 'COc1ccc(-c2cc3ccccc3o2)c(C(=O)O)c1', 'COc1ccc(/C=C2\\\\OC(=O)c3ccccc32)cc1O', 'Cc1ccc2c(c1)C(=O)c1cc(C)ccc1OC(=O)O2', 'COc1ccc(-c2cc(=O)c3cc(O)ccc3o2)cc1', 'COc1ccc2oc(C(=O)O)c(-c3ccccc3)c2c1', 'O=C(O)c1ccc2c(c1)C(=O)c1ccc(O)cc1CC2', 'COc1ccc2oc(=O)c(-c3ccccc3O)cc2c1', 'COc1ccc(-c2ccc(C(=O)O)o2)c2ccccc12', 'COC(=O)c1oc2cccc(O)c2c1-c1ccccc1', 'C#Cc1ccc(-c2ccc(OC)cc2)c(C(=O)O)c1O', 'Cc1ccc(OCc2ccccc2)c2c1C(=O)OC2=O', 'Cc1cc2c(c(O)c1C)C(=O)c1c(O)cccc1C2=O', 'O=C(O)/C=C/c1cccc2cccc(/C=C/C(=O)O)c12', 'CC(=O)Oc1cccc2c1C(=O)/C(=C\\\\c1ccco1)C2', 'O=C(C=Cc1ccc(O)cc1)c1ccc2c(c1)OCO2', 'COc1c(O)c(C)cc2cc3c(cc12)C(=O)C(=O)C=C3', 'CCC(=O)Oc1cccc2oc3ccccc3c(=O)c12', 'O=C1/C(=C/c2cccc(O)c2)COc2cc(O)ccc21', 'Cc1cc2c(o1)c1cc(C)oc1c1c(C)cc(=O)oc21', 'O=C1OOC(=O)C(c2ccccc2)C1c1ccccc1', 'O=C(O)c1ccccc1CC1Oc2ccccc2C1=O', 'O=C(O)CC1c2ccccc2-c2ccc(C(=O)O)cc21', 'O=C(O)/C=C/c1ccc(-c2ccccc2C(=O)O)cc1', 'Oc1ccc(O)c(-c2cc3c(O)cccc3cc2O)c1', 'COc1cc(C)c2c(c1O)C(=O)c1ccccc1C2=O', 'O=C1OOC(=O)[C@@H](c2ccccc2)[C@@H]1c1ccccc1', 'COC(=O)Cc1cccc2c(=O)c3ccccc3oc12', 'O=C(O)c1ccc(OCc2ccco2)c2ccccc12', 'O=C1C(=O)C(c2ccccc2)Cc2cc(O)cc(O)c21', 'C=Cc1c(C(=O)O)ccc(-c2ccccc2)c1C(=O)O', 'CC(=O)Oc1cc(C#Cc2ccc(O)cc2)ccc1O', 'O=C(O)CC(=O)c1ccc(C(=O)c2ccccc2)cc1', 'OC1=C(c2ccccc2)OC(c2ccccc2)=C(O)O1', 'CCCCCCCC(=O)N[C@H](CN1CCCC1)[C@@H](C2=CC3=C(C=C2)OCCO3)O', 'CC(C)(C)NCC(O)CO/N=C1/c2ccccc2C2CCCCCC12OCCO', 'Cc1cc(OC2CN(C(=O)OC(C)(C)C)C2)ccc1CN1CCC(C)(CO)CC1', 'CC(N)CON=C1CC[C@@]2(C)C(C1)[C@@H](CO)C(=O)[C@H]1[C@@H]3CCC(=O)[C@]3(C)CC[C@@H]12', 'CCCc1c(C(=O)O)cccc1N(CC)C1CCC(NC(=O)OC(C)(C)C)CC1', 'CCCCCCCCCCC(=O)[C@H](CC(N)=O)NC(=O)OCCc1ccccc1', 'CC(C)CN(CC(=O)N(Cc1ccco1)CC1CCCO1)C(=O)C1CCCCC1', 'COCCN(C[C@H]1CC2(CCN(C(=O)c3cc(C)ccc3O)CC2)CO1)C(C)C', 'CCCCCCCCCCCCCC(=O)N/N=C/c1ccc(OCC(=O)O)cc1', 'CC(C)C(CC(O)C(N)CC(C)(C)CC(=O)N1CCCc2ccccc21)C(=O)O', 'COc1cc(CNCC2([C@@H](C)CCO)CCC2)ccc1OCC(=O)N1CCCC1', 'C=CCCCCC[C@H](C)C(=O)N1CCC[C@H]1C(=O)N[C@]1(C(=O)OCC)CC1C=C', 'C#CC12CC1CCN2C(=O)OC(C)(C)C.CCCCCC12CC1CCN2C(=O)O', 'COc1ccccc1C[C@H]1CCCN(C(=O)CC[C@H](C)NC(=O)OC(C)(C)C)C1', 'CC1(C)COC2(CN(Cc3ccccc3)CC2(C)CNC(=O)OC(C)(C)C)OC1', 'COc1cc(CNCCC2=CCCCC2)ccc1OCC(O)CN1CCOCC1', 'CCCCNC(=O)CN1CC[C@@]2(O)CCCC[C@@H]2[C@@H]1c1cc(OC)ccc1OC', 'COC(=O)C(N)COc1cccc(CCNC(=O)[C@@H]2CC(C)CC[C@H]2C(C)C)c1', 'CC(C)[C@H](C)C(=O)OCc1cccc(CN2CCN(C(=O)OC(C)(C)C)CC2)c1', 'CNCCC(=O)O[C@H]1CC[C@@]2(C)C(C1)C(N=O)C[C@@H]1[C@@H]2CC[C@]2(C)C(=O)CC[C@@H]12', 'CC1(C)/C(=N/OCCN)CC[C@]2(C)[C@@H]3CC[C@]4(C)C(=O)CC[C@H]4[C@@H]3CC(=O)C12O', 'COc1cc(CNC(=O)CCCC/C=C/C(C)C)ccc1OC(=O)C(N)C(C)C', 'CCOc1cc(CN2CCOC3(CCCCN(C(C)C)C3=O)C2)c(C)cc1OC', 'CON(C)C(=O)[C@H](CCOCc1ccccc1)NC(=O)C1CCC(C(C)C)CC1', 'CO/N=C(\\\\C)[C@H]1[C@H](C[N+](=O)[O-])C[C@H]2[C@H]3CC=C4C[C@@H](O)CC[C@]4(C)[C@H]3CC[C@@]21C', 'CCCCCCCCCCCCCC(=O)Nc1ccc(C(=O)NCC(=O)O)cc1', 'CC(C)[C@H](NC(=O)c1ccc(C(C)(C)C)cc1)C(=O)OCC(=O)N[C@H](C)C(C)C', 'COc1ccc(C2CCCC(NC(=O)[C@@H](NC(=O)OC(C)(C)C)C(C)C)C2)cc1', 'CC(=O)C(C)(C)CC(C)(C)c1ccc(NC(=O)CCCCCCC(=O)NO)cc1', 'C=CCN(C(=O)CCCCCC)C(C)C(=O)c1c(C)c(C(=O)OCC)n(C)c1C', 'CCC(CC(=O)OC)c1ccc(NC(CC(C)C)C2CCCCC2)c([N+](=O)[O-])c1', 'C[C@]1(NC(=O)CCCCc2ccccc2)CCOC2(CCN(CCO)CC2)[C@@H]1O', 'Cc1cc(OCCN2CCOCC2)c(C)c2c1CCC(C(C)C(=O)NCCO)C2', 'Cc1ccc(OCC(=O)NC2CCN(C(=O)OCC(C)C)CC2)c(C(C)(C)C)c1', 'CCC.Cc1c(O)ccc2c(CCC3CCN(C(=O)OC(C)(C)C)CC3)noc12', 'CC.CC(c1ccccc1)N1CC2(CCCN(C(=O)OC(C)(C)C)CC2)OC1=O', 'COCCCCN1CCOc2cc3c(c(C)c21)CCN(C(=O)OC(C)(C)C)CC3', 'CCCC(NC(=O)CCC1CCCC1)C(=O)NCCc1ccc(OC)c(OC)c1', 'O=C(C1CCOCC1)N1CCC(N2C(=O)C(OCC3CC3)C23CCCCC3)CC1', 'C[C@H](OC(=O)CNC(=O)CC12CC3CC(CC(C3)C1)C2)C(=O)N1CCCCCC1', 'COC1=N[C@@H](C(C)(C)C)N(C(=O)OCc2ccccc2)[C@@H](C)[C@@H]1[C@H](O)C(C)(C)C', 'O=C(CCC1CCC2(CC1)OOC1(O2)C2CC3CC(C2)CC1C3)N1CCNCC1', 'C[C@H]1CN(C(=O)OC(C)(C)C)[C@@]1(CCNCc1ccccc1)C(=O)OC(C)(C)C', 'COC(=O)CCCCCCCCOc1ccc(C2=NC(C)(C)C(C)(C)N2O)cc1', 'CCCC[C@@](C)(OCCC)C(=O)Nc1ccc(OCC(=O)N2CCCCC2)cc1', 'CC[C@H]1C(O)C2C3CCC(c4noc(=O)[nH]4)C3(C)CCC2C2(C)CC[C@@H](O)CC12', 'C[C@@H](OCc1ccccc1)[C@@H](NC(=O)OC(C)(C)C)C(=O)NC1CCCCCC1', 'C[C@@H](N)CC(=O)O[C@H]1CC[C@@]2(C)[C@H](C1)C(N=O)C[C@@H]1[C@@H]2CC[C@]2(C)C(=O)CC[C@@H]12', 'COC(C(C)C(=O)NC(Cc1ccccc1)C(=O)OC(C)(C)C)C1CCCN1C', 'CC[C@@]1(Cc2ccc(OC)cc2)C(OC)=N[C@H](C(C)(C)C)N1C(=O)OC(C)(C)C', 'CN(CCCC(=O)OC(C)(C)C)C(=O)CCNC(=O)c1ccc(C(C)(C)C)cc1', 'CCOC(=O)c1[nH]c(C)c(C(=O)CN(C(=O)C[C@H](C)CC(C)(C)C)C2CC2)c1C', 'CCC1CCc2c(ccnc2C[C@]2(OCOC)C(=O)N(COC)[C@H]2CC(C)C)C1', 'CC(=O)NC1CC(C)(C)N(OC(C)c2ccc(C(C)OC(C)=O)cc2)C(C)(C)C1', 'CCCCN(CC(=O)N(Cc1ccco1)C[C@@H]1CCCO1)C(=O)C1CCCCC1', 'COc1cc(CNC(=O)CCCCC=CC(C)C)ccc1OC(=O)C(N)C(C)C', 'COCC1(CN[C@@H]2C[C@H]2c2ccccc2)CCN(CC2(C(=O)O)CCC2)CC1.O', 'CC(C)(NC(=O)C1CC[C@H]2[C@@H]3CCC4NC(=O)CC[C@]4(C)[C@@H]3CC[C@]12C)C(=O)O', 'Cc1ccccc1CN(CCC(C)(C)C)C1CCNCC1.O=C(O)/C=C/C(=O)O', 'COC(=O)[C@H]1C[C@@H]2[C@H](CC[C@]3(C)C(=O)CC[C@@H]23)[C@@]2(C)CC/C(=N\\\\OCCN)C[C@H]12', 'CCCCCCCCCCCCCC(=O)N/N=C\\\\c1ccc(OCC(=O)O)cc1', 'CNC(=O)[C@H](CCc1ccccc1)NC(=O)[C@H](CC(=O)OC(C)(C)C)CC(C)C', 'CCC(c1cccc(OC(=O)OC(=O)C2(CN)CCCCC2)c1)C(C)CN(C)C', 'COC[C@@H]1CC(C)(C)CN1C(=O)C(NC(=O)OCC(C)C)[C@H](C)c1ccccc1', 'COc1ccc(C(CNC(=O)CCC2CCCCC2)N2CCOCC2)cc1OC', 'CC[C@H](COC)NC(=O)c1cc(OC)ccc1OC1CCN(C2CCCC2)CC1', 'COC(=O)c1c(C)c(C(=O)C(C)N(CC2CCCCC2)C(=O)C(C)C)c(C)n1C', 'COc1ccc(C(=O)N(C)CC2CCCCO2)cc1OC1CCN(C(C)C)CC1', 'CC(C)(C)OC(=O)NCC1CCN(CC(C)(C)C(=O)OCc2ccccc2)CC1', 'COc1ccc([C@H](C)N2CC(C)(NC(=O)OC(C)(C)CCC(C)C)CC2=O)cc1', 'COc1cc(C(=O)NCC2(N3CCOCC3)CCCCC2)ccc1OCC(C)C', 'COc1cc2c(cc1OC)[C@H]1C[C@@H](OC(=O)NC(C)C)[C@H](CC(C)C)CN1CC2', 'COc1ccc(CCN2CC(C(=O)NC(C)(C)CC(C)(C)C)CC2=O)cc1OC', 'CC(C)CC(C(=O)OC1CCCC1)N(Cc1ccc(N)cc1)C(=O)OC(C)(C)C', 'CC[C@@]12C[C@H](O)[C@@](C)(O)C[C@H]1CCc1cc(OC(=O)N(C)CCN(C)C)ccc12', 'CN(C)CCNC(=O)C(C)(C)CC(=O)Cc1ccc(COC2CCCCO2)cc1', 'COc1ccc(C2CCCN2C(=O)CN2CCC(OCC(C)C)CC2)c(OC)c1', 'CCC(CC)C[C@H](NC(C)=O)[C@H]1[C@H](COC)C[C@H](C(=O)O)N1Cc1ccccc1', 'C=C/C(CCNC=O)=C(\\\\C=C)[C@@H](OCC1(N(C)C(=O)OC(C)(C)C)CC1)C(=C)C', 'CN(CCOc1cccc(CNC(=O)COC2CCCCC2)c1)C1CCOCC1', 'CC(C)Oc1cc([C@@H]2CCN(C(=O)OC(C)(C)C)[C@H](C(C)C)C2)ccc1NC=O', 'COCCNC(=O)c1ccc(OC)cc1OC1CCN([C@H](C)CC2(C)CC2)CC1', 'CCOC(=O)CN1CCCCC[C@H](N[C@@H](CCc2ccccc2)C(=O)OCC)C1', 'CCOC(=O)c1c(C)c(C(=O)CN(C(=O)CCC2CCCC2)C(C)C)c(C)n1C', 'CCOc1ccc(CCC(=O)NC2CCN(C(=O)C(CC)CC)CC2)cc1OC', 'CC1CC2C=CCC(C2)C1OC(=O)N1CC2[C@H](CCCN2C(=O)OC(C)(C)C)C1', 'CCC(CCC1CCN(C(=O)OC(C)(C)C)CC1)NC(=O)OCc1ccccc1', 'CCCCCCOc1ccc(C(=O)N2CCN(C(=O)C(C)(C)C)CC2)cc1OC', 'CCCCCN(CC1(C)CC(NC(=O)O)CC(C)(C)C1)C(=O)Oc1ccccc1', 'CCC[C@H](C)C(=O)N(C)[C@H](C)C(=O)N[C@H](Cc1ccccc1)C(=O)OC(C)(C)C', 'CCc1ccc2c(c1OC)C(COC)N(C(=O)CNCC1(O)CCCCC1)CC2', 'COCC1CCN(C(=O)c2ccc(OC)c(OC3CCN(C(C)C)CC3)c2)CC1', 'C#CC12CC1CCN2C(=O)OC(C)(C)C.CCCCCOC(=O)N1CCC2CC21', 'CC(C)(C)OC(=O)N1CCC(C(=O)NCCOc2ccc(C(C)(C)C)cc2)CC1', 'CCNCCCCCc1c(OCCCC(=O)O)ccc2c(CC(C)(C)C)noc12', 'CCCCCC(=O)N[C@@H]1CCN(C(=O)OC2C3CC4CC2CC(C(C)=O)(C4)C3)C1', 'CC(C)C(CNC(=O)OC(C)(C)C)C(=O)N1CCCC1COCc1ccccc1', 'CCOC(=O)NN=C1CC[C@H]2[C@@H](CC[C@@H]3[C@@H]2CC[C@]2(C)[C@@H](OC(C)=O)CC[C@@H]32)C1', 'CCCCC(C)(OCCC)C(=O)Nc1ccc(OCC(=O)N2CCCCC2)cc1', 'COc1cc(/C=C/C(=O)N(CCCCN(C)C)C2CCC(OC)CC2)ccc1O', 'CCN(C(=O)COC(=O)C12C[C@@H]3C[C@H](CC(NC(C)=O)(C3)C1)C2)C1CCCCC1', 'CCc1c(C)cc(C(=O)NC(C(=O)OC)C(C)(C)C)c(=O)n1CC1CCCCC1', 'Cc1cccc(OCCC(=O)NCCC2CCCN(C(=O)OC(C)(C)C)C2)c1C', 'CCOCCN1CCC2(CC1)OCC[C@](C)(NC(=O)Cc1cccc(C)c1)[C@H]2O', 'CCCCCCCC(=O)NC(Cc1ccc2c(c1)OCCO2)CN1CC[C@@H](O)C1', 'C[C@@H]1CCCC[C@@H]1NC(=O)[C@@H](NC(=O)OC(C)(C)C)[C@H](C)OCc1ccccc1', 'CC(C)(N)CNC(=O)CC1CCC2(CC1)OOC1(O2)C2CC3CC4CC1CC34C2', 'CNC(=O)[C@@H](NC(=O)[C@H](CCCc1ccccc1)CC(=O)OC(C)(C)C)C(C)C', 'CCCC[C@H](CC)C(=O)N(CC(=O)c1c(C)c(C(=O)OCC)n(C)c1C)C1CC1', 'CC1=CC(OC2([NH+]([O-])O)CC2)=CC(C)C1CC1C=CC(O)C(C2CCCCC2)N1', 'CO/N=C1\\\\C=C2CC[C@@H]3[C@H](CC[C@@]4(C)[C@H]3CC[C@]4(O)/C(CO)=N\\\\OC)[C@@]2(C)CC1', 'CCC(CC)CC(NC(C)=O)C1C(COC)C[C@@H](C(=O)O)N1Cc1ccccc1', 'COc1ccc(OC)c(C(C)NC(=O)CN2CCC(OC3CCCCC3)CC2)c1', 'COCCN1CCC[C@]12CCCN(C(=O)CCc1ccc(OC)cc1OC)CC2', 'CCCCCCNC(=O)C1CCCN(C(=O)C(C)OCc2cccc(OC)c2)C1', 'CCCCCCCCCC(=O)NC(C)C(=O)NC(Cc1ccccc1)C(=O)OC', 'COCCOc1ccc(C(=O)NC2CN(CC3CCCCC3)CCCC2O)cc1', 'CCCCCCCOc1cccc(NC(=O)CN2CCC(C(=O)OCC)CC2)c1', 'CN(CCc1cccc(OCCN2CC3(CCCOC3)C2)c1)C(=O)OC(C)(C)C', 'CCC(C1CCC(N)CC1)C1CCC(N)CC1.O=C(O)c1ccc(C(=O)O)cc1', 'CCCCn1c(CCC)c(CC)cc(C(=O)NC2(C(=O)OC)CCCCC2)c1=O', 'COc1ccccc1OCC(=O)N(CCC(=O)N(CC(C)C)CC(C)C)C1CC1', 'COc1cccc(CCC(=O)N2CCC(CN3CC(C)OC(C)C3)CC2)c1OC', 'CCCC[C@H](NC(=O)[C@H](CC(C)C)NC(=O)CCCc1ccccc1)C(=O)OC', 'COCCCOc1cc([C@@H](C)N(C(=O)[C@H]2CNCCO2)C2CC2)ccc1C(C)C', 'O=C(CCC/C=C\\\\C/C=C\\\\C/C=C\\\\C/C=C\\\\CCCCCO[N+](=O)[O-])NC1CC1', 'COC(C)(C)C(=O)NC[C@]1(c2ccccc2)CC[C@@H](O)[C@@H](N2CCOCC2)CC1', 'CC[C@H](CN1CCOc2cc3c(c(C)c21)CCN(C(=O)OC(C)(C)C)CC3)OC', 'CC(C)(CC(=O)O)NC(=O)c1ncc(C2CCCCCCCCCCC2)cc1O', 'CCCCNC(=O)CN1CCC2(O)CCCCC2C1c1ccc(OC)c(OC)c1', 'CCCc1c(CC)cc(C(=O)N[C@H](C(=O)O)C(C)C)c(=O)n1CC1CCCCC1', 'C=C(O[C@@H]1CC[C@]2(CO2)[C@@H]([C@@]2(C)O[C@@H]2CC=C(C)C)[C@@H]1OC)N1CC2CC1CN2', 'C[C@H]1C[C@@H](Nc2ccc(CCC(=O)OC3(C)COCCO3)cc2N)CC(C)(C)C1', 'C/C=C/C=C/COC(=O)NC1CC(C)(C)CC(C)(NC(=O)OC/C=C/C=C/C)C1', 'O=C(N1CCCN(C(=O)C2(C3CC3)CCOCC2)CC1)C1(C2CC2)CCOCC1', 'COC(=O)c1ccc(CNCC[C@H]2CCC(=O)N2[C@@H](C)CCCC(C)(C)O)cc1', 'COc1cc(CC(=O)N[C@H]2CCCN(C3CCCCCC3)C2)cc(OC)c1OC', 'COCCOCCN(C)C(=O)Oc1ccc2c(c1)[C@@]1(C)CCCCCC(C2)[C@@H]1N', 'CCCC[C@H](NC[C@@H](CC(C)C)NC(=O)OCc1ccccc1)C(O)C1CC1=O', 'COCCN1CCC(CN(C[C@@H]2CCCO2)C(=O)Cc2ccccc2OC)CC1', 'CCN(c1cc(OCCN2CCOCC2)cc(C(=O)OC)c1C)C1CCCCC1', 'CCCC(CCC)C(=O)Nc1cc(NC(=O)C(CCC)CCC)cc(C(=O)O)c1', 'COc1ccc(C2(CNC(=O)CCCNC(=O)OC(C)(C)C)CCCCC2)cc1', 'CCCCCCCC[C@H](NC(=O)CCC(=O)N[C@H](C)c1ccccc1)C(=O)OC', 'C[C@@H]1C[C@H](C)CN(C(=O)[C@H](C)OC(=O)CNC(=O)C23CC4CC(CC(C4)C2)C3)C1', 'CCN(CC)C(=O)c1ccc(C2CC(C(C)(C)C)N(C(=O)O)CCC2CO)cc1', 'CCCN(CC(=O)N(Cc1ccco1)C[C@H]1CCCO1)C(=O)CCC1CCCC1', 'CCCCCCCN1C(=O)C(C)=C(C)C1=O.CCCCN1C(=O)C(C)=C(C)C1=O', 'Cc1ccc2c(c1)CC(=O)N(C(C)C)C[C@@H](C)[C@H](CN(C)C(=O)OC(C)(C)C)O2', 'CCCCCCCc1ccc(C(=O)NC(C(=O)NCC(=O)OCC)C(C)C)cc1', 'CO/N=C(\\\\C)[C@H]1[C@H](C[N+](=O)[O-])C[C@H]2[C@H]3CC=C4C[C@@H](O)CC[C@]4(C)[C@@H]3CC[C@@]21C', 'CCN(c1cccc(C(=O)OC)c1C)C1CCC(N(C)C(=O)OC(C)(C)C)CC1', 'CC(C)OC(=O)N1CCC(CCCCCOc2ccc(C(=O)N(C)C)cc2)CC1', 'C1CCC([NH2+]C2CCCCC2)CC1.CC1(CC(C#N)C(=O)[O-])C(=O)CCCC1=O', 'COCCOC1CCC(C)(N2CCC(Nc3cc(C(C)=O)ccc3O)CC2)CC1', 'OC[C@]12COCC[C@H]1CN(Cc1ccccc1OCCCCN1CCOCC1)C2', 'COc1cc2c(cc1OC1CCN(C)C1)CCN1C[C@@H](OC(C)(C)C)[C@H](O)C[C@H]21', 'CC(C)C[C@@H](C(=O)NN)[C@@H](C(=O)OC(C)(C)C)C(/C=C/c1ccccc1)CCO', 'CCOC(=O)C(CCc1ccccc1)NC1CCCCCC(C)N(CC(=O)O)C1', 'C[C@H]([C@H](CCCc1ccccc1)C(=O)C[C@H](C(=O)N(C)C)C(C)(C)C)N(O)C=O', 'CC(=O)N1CCC(O)CC1.CC(=O)N1CCC(OCCCc2ccccc2)CC1', 'C=CCCCCC[C@H](C)C(=O)N1CCC[C@H]1C(=O)N[C@]1(C(=O)OCC)C[C@H]1C=C', 'COCCCc1cc(CN(C(=O)C2CCCNC2)C2CC2)cc(OCCOC)c1', 'CN1CCN(C(=O)CC2CCCC3(C2)OOC2(O3)C3CC4CC(C3)CC2C4)CC1', 'CO/N=C(\\\\C)[C@H]1[C@H](C[N+](=O)[O-])C[C@@H]2[C@H]3CC=C4C[C@@H](O)CC[C@]4(C)[C@H]3CC[C@@]21C', 'NC1CCN(C(=O)C[C@@H]2CCC[C@]3(C2)OOC2(O3)C3CC4CC(C3)CC2C4)CC1', 'CCCCCCCC(=O)N[C@H](CNCCCC)C(=O)c1ccc2c(c1)OCCO2', 'CC(C)(C)OC(=O)N1C[C@@H]2CCCC[C@@H]2C[C@H]1C(=O)O.C[C@@H](N)c1ccccc1', 'COc1ccc(CN2CCC3(CC[C@@H](CNC(=O)C(C)C)O3)CC2)c(OC)c1C', 'CCCCCCCCCCCCC#Cc1cn([C@H]2CC[C@@H](CO)O2)c(=O)[nH]c1=O', 'CC(C)c1ccc(OCCC(=O)NCC2CCCN(C(=O)OC(C)(C)C)C2)cc1', 'C=C(C)C(=O)CNC(=O)C(Cc1ccccc1)NC(=O)OC(C)(C)C.CC(C)C', 'CN(CCNC(=O)OC(C)(C)C)/C(C=O)=C1/C=CC=C(OCCCC2CCC2)C1', 'COCCCN1CCOc2cc3c(cc21)CCN(C(=O)OC(C)(C)C)CCCC3', 'CC(C)(C)OC(=O)NCC1CCCCN1C(=O)CCCOCCc1ccccc1', 'COCCN(CC1CC2(CCN(C(=O)Cc3ccc(O)cc3)CC2)CO1)C(C)C', 'COc1ccc(CN2CCC3(CCC(CNC(=O)C(C)C)O3)CC2)c(OC)c1C', 'CCCCCCC(=O)N(CC(=O)c1c(C)c(C(=O)OCC)n(CC)c1C)C1CC1', 'COc1cc2c(cc1OC)[C@H]1C[C@@H](COC(=O)N(C)C)[C@H](CC(C)C)CN1CC2', 'CCC[C@H]1C[C@@H]1c1ccnc(C[C@@]2(OCOC)C(=O)N(COC)[C@H]2CC(C)C)c1', 'C/C=C/C=C/C=C(\\\\C)CCCC(C)C(N=O)(OC)C(=O)C(=O)N1CCCCC1C', 'CCC(CC)C(=O)NC(CCCCOCCc1ccc2c(n1)CCCC2)C(=O)O', 'CCCCNC(=O)CN1CC[C@@]2(O)CCCC[C@@H]2[C@@H]1c1ccc(OC)c(OC)c1', 'C[C@]12CC[C@H](OC(=O)CCCN)CC1/C(=N/O)C[C@@H]1[C@@H]2CC[C@]2(C)C(=O)CC[C@@H]12', 'Cc1cc(C)cc(OCCC(=O)N2CCCC(CN(C)C(=O)OC(C)(C)C)C2)c1', 'CCCCCC1=C(C(O)O)C(O)=C(C2C=C(C)CCCC2(N)CC)C(N=O)=CC1', 'CCN(CC)CC1CCCCC1NC(=O)/C=C/c1cc(OC)c(OC)c(OC)c1', 'CCCCCCOc1ccc(C(=O)NCCNC(=O)C2CCCCC2)cc1OC', 'CNC(Cc1ccccc1)C(=O)OC1CCCC(CC(NC(C)C)C(=O)OC)C1', 'C=C1CC2CC(C(NC(=O)OC(C)(C)C)C(=O)N3C(C)C[C@@H]4C[C@@H]43)CC(O)(C1)C2', 'CC1CC2C3C(=O)[C@H](CO)C4CC(=NOCCN)CC[C@]4(C)C3CC[C@]2(C)C1=O', 'CCOC(=O)C(C)=C[C@@H](C(C)C)N(C)C(=O)[C@H](Cc1ccc(OC)c(C)c1)NC', 'CC(C)[C@H](NC(=O)C12CC3CC(CC(C3)C1)C2)C(=O)OCC(=O)NC1CCCC1', 'CCOCCN1C(C)(C)CC(NC(=O)c2ccc(C)cc2)(C(=O)OC)CC1(C)C', 'C[C@H](C(=O)N1CC2[C@@H]([C@H]1CO)C21CC1)C(C)(C)C.O=C1N[C@H](CO)[C@@H]2C1C21CC1', 'C[C@@H]1CCCC[C@H]1NC(=O)COC(=O)CNC(=O)CC12CC3CC(CC(C3)C1)C2', 'COCCOc1cc(C)c2c(c1C)C(O)C(C(C)C(=O)N1CCN(C)CC1)CC2', 'COC(=O)CNC(=O)[C@H]1CC[C@H]2[C@@H]3CC[C@H]4N(C)C(=O)CC[C@]4(C)[C@H]3CC[C@]12C', 'COc1cc(CCC(=O)NC2CCC(C)CC2)ccc1OCCN1CCOCC1', 'CCCc1c(CC)cc(C(=O)NC2(C(=O)O)CCCCC2)c(=O)n1CCC(C)C', 'CCCC(=O)[C@H](CC(C)C)NN[C@@H](Cc1ccccc1)C(=O)C(=O)OC(C)(C)C', 'CCC(C)(C)C1CCCN1N1CCC(Cc2cc(OC)c(OC)c(OC)c2)C1=O', 'CC(C)(C)OC(=O)NCCC(CCCCCO)CCOc1ccc2[nH]ccc2c1', 'O=C(O)CCCCCCCCCCN1CCN(C(=O)OCc2ccccc2)CC1', 'CC(C)(C)OC(=O)N1CC[C@H](C(C)(Cc2cccc(N)c2)C(=O)OC(C)(C)C)C1', 'CCn1c(C)c(C(=O)CN(C(=O)C(C)(C)C)C2CCCCC2)c(C)c1C(=O)OC', 'CC1CCCCC1(C)C(N)(N)C1CCCCC1.O=C(O)c1cccc(C(=O)O)c1', 'NC1CCN(C(=O)CC2CCCC3(C2)OOC2(O3)C3CC4CC(C3)CC2C4)CC1', 'COCC(=O)N1CCC(C(Cc2cccc(OC)c2)N(C)C(=O)CC(C)C)CC1', 'CCCN(C(=O)C1CCCC1)C(C)C(=O)c1c(C)c(C(=O)OCC)n(CC)c1C', 'C/C=C(\\\\C)C[C@H](NC(=O)OCc1ccccc1)C(C)N[C@@H](CC(C)(C)C)C(=O)O', 'CC(C)(CC(=O)N1CCC(OCCc2ccccc2)CC1)NC(=O)OC(C)(C)C', 'CCc1c(C)cc(C(=O)NCC2(CC(=O)O)CCCCC2)c(=O)n1CCC(C)C', 'C[C@@H]1CCC[C@@H](C)N1C(=O)COC(=O)CNC(=O)CC12CC3CC(CC(C3)C1)C2', 'CC1CCC[C@](C)(O)CCCN(C)C(=O)C[C@H](O)[C@H](Cc2ccccc2)NC1=O', 'C1CCC(NC2CCCCC2)CC1.COC(=O)OC(=O)[C@H](N)Cc1ccccc1', 'COc1ccc(OC2CCN(C3CCCC3)CC2)c(C(=O)NCCOC(C)C)c1', 'c1cc(C2(CN3CCOCC3)CCOCC2)ccc1OCCCN1CCOCC1', 'C[C@@H]1C[C@@H](C)CN(C(=O)[C@@H](C)OC(=O)CNC(=O)C23CC4CC(CC(C4)C2)C3)C1', 'CCC(CC)(NC(=O)C1CCN(C(=O)OC(C)(C)C)CC1)c1ccc(OC)cc1', 'CCCCC(CC)COC(=O)N1CCCN(CC(=O)OCc2ccccc2)CC1', 'CCCN(CC(=O)Nc1cc(OC)ccc1OC)C1CC(OCC)C12CCCC2', 'CCCCCCCOc1cccc(NCC(=O)N2CCC(C(=O)OCC)CC2)c1', 'CC(C)(C)OC(=O)[C@@H](Cc1cccc(CN)c1)[C@H]1CCN(C(=O)OC(C)(C)C)C1', 'Cc1cc(C(C)(C)C)ccc1OC[C@@H](O)CN1CCN(C(=O)[C@H]2CCCO2)CC1', 'CCCCNC(=O)CN1CC[C@]2(O)CCCC[C@H]2[C@H]1c1cc(OC)ccc1OC', 'CC(C)(C)OC(=O)C[C@@H]1[C@@H](NCc2ccccc2)CCCN1C(=O)OC(C)(C)C', 'Cc1ccccc1[C@H]1CC[C@@H](OCC2NCCCC2NC(=O)OC(C)(C)C)CO1', 'CCCC(CCCC(=O)OC(C)(C)C)C/N=C/c1c(N)ccc(C(=O)O)c1CC', 'C=CCC(CCCCCOC(=O)N(CC=C)CC=C)OC(=O)N(CC=C)CC=C', 'COc1cc(C(C)=O)ccc1OCCCC(=O)NC(C)CN1CC(C)CC(C)C1', 'CCCCN(CCCC)C(=O)c1cccc(C(=O)C(C)NC(=O)OC(C)(C)C)c1', 'CCCCC[C@@](C)(OCC)C(=O)Nc1ccc(OCC(=O)N2CCCCC2)cc1', 'COc1ccccc1C1(CC(=O)NCCCN2CCOCC2)CCOC(C)(C)C1', 'CCOC(=O)C1=C(CN2CCOCC2)NC2=C(C(=O)CC(C)(CC)C2)C1C(C)C', 'O=C(O)C1(CCN2CCCCC2)C2C=CC(C2)C1(CCN1CCCCC1)C(=O)O', 'CC(C)[C@@H]1CC[C@@H](C)C[C@H]1OCC1=NN(C(=O)OC(C)(C)C)C[C@@H]1c1ccco1', 'CCOc1ccc(CCC2CCN(C(=O)CCNC(=O)OC(C)(C)C)CC2)cc1', 'CCCO[C@@]1(C(=O)Nc2ccc(OCCN3CCOCC3)cc2)CCC[C@H](C)C1', 'CC(C)NCC(O)COc1ccc(OCC(O)CNC(C)C)c2c1C1C=CC2C1', 'CCCCCCCCOc1ccc2[nH]cc(C(COC)C(N)C(=O)OCC)c2c1', 'COC(CN(C)C(=O)CCOc1ccc(CCN2C[C@H]3CCC[C@H]3C2)cc1)OC', 'COc1ccccc1C[C@@H]1CCCN(C(=O)CC[C@H](C)NC(=O)OC(C)(C)C)C1', 'C1CCCCC1.CN1CCCC1C=O.COC.N#Cc1cccc(OCC=O)c1', 'C=CCCCCNc1ccc(C(=O)OCC)c(N(CC)C(=O)COCCCC)c1', 'C=CCCCCCC(=O)NCCC/C=C1\\\\C(OC)=CC(=O)N1C(=O)CCCCC', 'C1CCC(NC2CCCCC2)CC1.COC(=O)N[C@H](Cc1ccccc1)C(=O)O', 'CCOc1ccc(C2(CNC(=O)CCCC(=O)N(CC)CC)CCOCC2)cc1', 'C[C@@H](OC(=O)CNC(=O)C12CC3CC(CC(C3)C1)C2)C(=O)NCC1CCCCC1', 'CCCC(=O)N1CCC(C(=O)NCc2ccc(OCCC(C)C)c(OC)c2)CC1', 'CCCC#Cc1ccc(C(=O)NCCOCCOCCOCCNCCC)cc1', 'CCCC(C)C#Cc1ccc(C(=O)NCCOCCOCCOCCNC)cc1', 'CCCCCCCCCCCCCC(=O)NC(NC(=O)c1ccccc1)C(=O)O', 'COCCOc1cc(C)c2c(c1C)[C@H](O)[C@@H]([C@H](C)C(=O)N1CCN(C)CC1)CC2', 'NC(=O)CC[C@H](NC(=O)CCCCCCCCCCCc1ccccc1)C(=O)O', 'C[C@]12CC[C@H](OC(=O)[C@@H](N)CC(N)=O)CC1CC[C@@H]1[C@@H]2CC[C@]2(C)C(=O)CC[C@@H]12', 'CC(C)N1C=C(C(=O)N(C1=O)C2=CC=C(C=C2)F)C(=O)NC3=CC(=C(C=C3)OC4=C5C=C(C(=CC5=NC=C4)OC)OC)F', 'COc1cc(-c2c(C)[nH]c(C)c(C(=O)Nc3ccc(Oc4ccnc5cc(OC)c(OC)nc45)c(F)c3)c2=O)ccc1F', 'CCn1cc(C(=O)Nc2ccc(Oc3ccnc4cc(OC)c(OC)nc34)c(F)c2)c(=O)c(-c2ccc(F)cc2)c1CO', 'C=CC(=O)OCCOC(C)=O.Cc1cccc(-c2noc(-c3cccc(-c4nc(-c5cccc(C)c5F)no4)c3)n2)c1F', 'C=CCN1CC(C(=O)Nc2ccc(Oc3ccnc4cc(OC)c(OC)cc34)c(F)c2)C(=O)N(c2ccc(F)cc2)C1=O', 'COCCOc1nc2c(Oc3ccc(NC(=O)c4ccc(C)n(-c5ccc(F)cc5)c4=O)cc3F)ccnc2cc1OC', 'CCOc1c(C)cn(-c2ccc(F)cc2)c(=O)c1C(=O)Nc1ccc(Oc2ccnc3cc(OC)c(OC)nc23)c(F)c1', 'Cn1cc(-c2cc(C(C)(C)O)ccc2Oc2ccc(F)cc2F)c2cc(C(=O)Nc3ccc(C(=O)NO)cc3)[nH]c2c1=O', 'COc1cc(NC(=O)c2cn(C)c(C)c(-c3ccc(F)cc3)c2=O)c(F)cc1Oc1ccnc2cc(OC)c(OC)nc12', 'COCc1c(-c2ccc(F)cc2)c(=O)c(C(=O)Nc2ccc(Oc3ccnc4cc(OC)c(OC)nc34)c(F)c2)cn1C', 'COc1cc2nccc(Oc3ccc(NC(=O)c4c(C)[nH]c(C)c(-c5ccc(F)cc5CO)c4=O)cc3F)c2nc1OC', 'COc1cc2nccc(Oc3ccc(NC(=O)c4cn(C)c(CO)c(-c5ccc(F)cc5C)c4=O)cc3F)c2nc1OC', 'CCn1c(C)c(C(=O)Nc2ccc(Oc3ccnc4cc(OC)c(OC)cc34)c(F)c2)c(=O)n(-c2ccc(F)cc2)c1=O', 'COc1cc2nccc(Oc3ccc(C4(C(N)=O)CN(C)C(C(N)=O)=C(c5ccc(F)cc5)C4=O)cc3F)c2cc1OC', 'CCCn1cc(C(=O)Nc2ccc(Oc3ccnc4cc(OC)c(OC)cc34)c(F)c2)c(=O)n(-c2ccc(F)cc2)c1=O', 'CCOc1[nH]c(C)c(-c2ccc(F)cc2)c(=O)c1C(=O)Nc1ccc(Oc2ccnc3cc(OC)c(OC)nc23)c(F)c1', 'CCOC(=O)c1cn(/C=C(/Cn2ccnc2)Cn2cc(C(=O)OCC)c(=O)c3cc(F)ccc32)c2ccc(F)cc2c1=O', 'CC(C)OC(=O)Oc1c2n(ccc1=O)N(C1c3ccccc3-n3cccc3-c3c1ccc(F)c3F)C1COCCN1C2=O', 'COc1cc2nccc(Oc3ccc(NC(=O)c4c(OC)n(C)c(C)c(-c5ccc(F)cc5)c4=O)cc3F)c2nc1OC', 'COc1ccc(Cn2c(C(=O)c3c(F)c(OC)cc(OC)c3F)cc3cc(Nc4c(C)cccc4[N+](=O)[O-])ncc32)cc1', 'COc1cc2nccc(Oc3ccc(NC(=O)c4cn(CCO)c(C)c(-c5ccc(F)cc5)c4=O)cc3F)c2nc1OC', 'COCCOc1cc2nccc(Oc3ccc(NC(=O)c4c(C)ccn(-c5ccc(F)cc5)c4=O)cc3F)c2nc1OC', 'CCn1cc(C(=O)N(C)c2ccc(Oc3ccnc4cc(OC)c(OC)cc34)c(F)c2)c(=O)n(-c2ccc(F)cc2)c1=O', 'C=CCN1C=C(C(=O)Nc2ccc(Oc3ccnc4cc(OC)c(OC)cc34)c(F)c2)C(=O)N(c2ccc(F)cc2)C1O', 'COc1cc(Oc2ccnc3cc(OC)c(OC)nc23)c(F)cc1NC(=O)c1cn(C)c(C)c(-c2ccc(F)cc2)c1=O', 'CC(C)OC(=O)Oc1c2n(ccc1=O)N([C@@H]1c3ccccc3-n3cccc3-c3c1ccc(F)c3F)[C@@H]1COCCN1C2=O', 'CC[C@@]1(O)C(=O)OCc2c1cc1n(c2=O)Cc2c-1nc1cc(F)c(C)c3c1c2[C@@H](NC(=O)C(O)c1cnccc1F)CC3', 'COc1cc2nccc(Oc3ccc(NC(=O)c4c(C)nc(OC)c(-c5ccc(F)cc5)c4OC)cc3F)c2nc1OC', 'COCCOc1nc2c(Oc3ccc(CC(=O)c4ccc(C)n(-c5ccc(F)cc5)c4=O)cc3F)ncnc2cc1OC', 'CCOc1cn(-c2ccc(F)cc2C)nc1C(=O)Nc1ccc(Oc2ccnc3cc(OC)c4c(c23)OCCO4)c(F)c1', 'O=C(Nc1ccc(Nc2ccnc3cc(OCCOCCO)c(O)cc23)c(F)c1)c1c[nH]cc(-c2ccc(F)cc2)c1=O', 'COc1cc2nccc(Oc3ccc(NC(=O)c4cc(C(C)O)c(C)n(-c5ccc(F)cc5)c4=O)cc3F)c2nc1OC', 'C=CCN1CC(C(=O)Nc2ccc(Oc3ccnc4cc(OC)c(OC)cc34)cc2F)C(=O)N(c2ccc(F)cc2)C1=O', 'O=C(CCc1ccc(F)cc1F)c1cn2c(c(O)c1=O)C(=O)N(Cc1ccc3c(c1)OCCO3)CN2Cc1ccccn1', 'COCc1[nH]c(C)c(-c2ccc(F)cc2)c(=O)c1C(=O)Nc1ccc(Oc2ccnc3cc(OC)c(OC)nc23)c(F)c1', 'C=CC(=O)OCCOC(C)=O.Cc1ccc(F)c(-c2noc(-c3cccc(-c4nc(-c5cc(C)ccc5F)no4)c3)n2)c1', 'CCOC(=O)c1cn(CC(=Cn2ccnc2)Cn2cc(C(=O)OCC)c(=O)c3cc(F)ccc32)c2ccc(F)cc2c1=O', 'N#CCCCOc1cc2[nH]cc(Oc3ccc(NC(=O)C4(C(=O)Nc5ccc(F)cc5)CC4)cc3F)c2c2c1OCCO2', 'COCCOc1nc2c(Oc3ccc(NC(=O)c4c[nH]c(C)c(-c5ccc(F)cc5)c4=O)cc3F)ccnc2cc1OC', 'COCCOc1cc2nccc(Oc3ccc(NC(=O)c4ccc(C)n(-c5ccc(F)cc5)c4=O)cc3F)c2nc1OC', 'COc1cc(OC)c2c(Oc3ccc(NC(=O)c4cn(C(C)C)c(=O)n(-c5ccc(F)cc5)c4=O)cc3F)ccnc2c1', 'CCOC(=O)c1cn(/C=C(\\\\Cn2ccnc2)Cn2cc(C(=O)OCC)c(=O)c3cc(F)ccc32)c2ccc(F)cc2c1=O', 'C=CC(=O)OCCOC(C)=O.Cc1cc(-c2noc(-c3cccc(-c4nc(-c5ccc(F)c(C)c5)no4)c3)n2)ccc1F', 'CCN(C(=O)/C(=C\\\\NC=O)C(=O)Nc1cc(F)c(Oc2ccnc3ccc4c(c23)OCCO4)cc1C)c1ccc(F)cc1', 'COCCOc1cc2ncnc(Oc3ccc(CC(=O)c4ccc(C)n(-c5ccc(F)cc5)c4=O)cc3F)c2nc1OC', 'C1=CC=C(C(=C1)C(C2=CC(=C3C=CC=NC3=C2O)Cl)NC4=CC=CC=N4)OCC(=O)O', 'Cc1cccc(-n2c(=O)[nH]c(=O)n(-c3ccc(Oc4ccccc4)c(CCl)c3)c2=O)c1', 'CCOc1ccc2cc(C3CC(c4ccco4)=NN3C(=O)c3ccco3)c(Cl)nc2c1', 'O=C(O)c1ccc(CN2C(=O)c3ccc(Cl)cc3NC(=O)[C@H]2Cc2ccncc2)cc1', 'O=c1[nH]c(=O)n(Cc2ccc3c(c2)OCCCO3)c2nccc(-c3ccccc3Cl)c12', 'O=C(NCc1nc2cc(O)ccc2c(=O)n1-c1ccc(Cl)cc1)OCc1ccccc1', 'CCOC(=O)c1oc2cc(-c3cccc(C(=O)Nc4ccc(Cl)cc4)c3)cnc2c1N', 'COc1cccc(C2=NN3[C@H](C2)c2cc(Cl)ccc2O[C@H]3c2ccc([N+](=O)[O-])cc2)c1', 'COc1ccc(Oc2ccc(Cl)cc2NC(=O)Cn2ncc3ccccc3c2=O)cc1', 'Cc1cccc(NC(=O)C(=O)NN=Cc2cccc(OC(=O)c3ccc(Cl)cc3)c2)c1', 'C[C@H](Oc1cccc(Cn2cc(C(=O)c3ccc(Cl)cc3)c3nccnc32)c1)C(=O)O', 'COc1cc(Cl)cc2c1O[C@H](c1ccc([N+](=O)[O-])cc1)N1N=C(c3ccccc3)C[C@@H]21', 'CCc1ccc2oc(-c3ccc(Cl)c(NC(=O)c4cccc([N+](=O)[O-])c4C)c3)nc2c1', 'Cc1ccccc1C(=O)Oc1ccc(/C=N\\\\NC(=O)C(=O)Nc2ccc(Cl)cc2)cc1', 'COc1cccc(C2=NN3[C@H](C2)c2cc(Cl)ccc2O[C@H]3c2cccc([N+](=O)[O-])c2)c1', 'COc1ccc2c(c1)[C@]1(COC(N)=N1)c1cc(CC(=O)c3ccc(Cl)cn3)ccc1O2', 'Cn1c2c(c(=O)n(C)c1=O)[C@H]1c3ccccc3OC[C@@]1(C#N)[C@H](c1ccccc1Cl)O2', 'Cc1ccccc1NC(=O)C(=O)N/N=C\\\\c1ccc(OC(=O)c2ccc(Cl)cc2)cc1', 'CN(Cc1cc([N+](=O)[O-])ccc1Cl)C(=O)Cn1c2ccccc2c(=O)c2ccccc21', 'O=C(C=Cc1cc(Cl)c2c(c1)OCO2)Nc1cccc(C(=O)NCc2ccccn2)c1', 'O=C(O)CNC(=O)c1nc2ccc(-c3cccc(OCc4cccc(Cl)c4)c3)cc2[nH]1', 'COc1ccc(Cl)cc1C(O)=C1C(=O)C(=O)N(Cc2cccnc2)[C@@H]1c1ccncc1', 'COc1ccc(C(=O)[C@H]2[C@H]3C(=O)N(c4cccc(Cl)c4)C(=O)[C@@H]3[C@H]3C=CC=NN32)cc1', 'Cc1cc(/C=N/NC(=O)c2cc3ccccc3o2)c(C)n1-c1cc(C(=O)O)ccc1Cl', 'O=C(O)[C@@H]1C[C@H](Oc2nc3nc(-c4ccc(-c5ccccc5)cc4)c(Cl)cc3[nH]2)CO1', 'COc1ccc(C(=O)[C@@H]2[C@@H]3C(=O)N(c4ccc(Cl)cc4)C(=O)[C@@H]3C3C=CC=NN32)cc1', 'COc1ccc(-c2nnc(-c3ccc(NC(=O)COc4ccccc4Cl)cc3)o2)cc1', 'O=C(Nc1cccc([N+](=O)[O-])c1)c1ccc2c(c1)CCCN2C(=O)c1cccc(Cl)c1', 'O=c1[nH]c(=O)n(Cc2ccc3c(c2)OCCCO3)c2nccc(-c3ccc(Cl)cc3)c12', 'O=C(Nc1ccc(C(=O)CC2(O)C(=O)Nc3ccccc32)cc1)Nc1cccc(Cl)c1', 'Cc1cccc(NC(=O)C(=O)N/N=C\\\\c2ccc(OC(=O)c3cccc(Cl)c3)cc2)c1', 'Nc1c(C(=O)NCCO)cc(Nc2cccc(Cl)c2)c2c1C(=O)c1ccccc1C2=O', 'Cc1ccc(NC(=O)C(=O)N/N=C\\\\c2ccc(OC(=O)c3cccc(Cl)c3)cc2)cc1', 'Cc1ccc2nc(-c3cccc(/N=C/c4c(C)c(Cl)c(C)c([N+](=O)[O-])c4O)c3)oc2c1', 'Cc1ccc(NC(=O)/C(=C/c2cccc([N+](=O)[O-])c2)NC(=O)c2ccc(Cl)cc2)cc1', 'Cc1ccccc1C(=O)Oc1cccc(/C=N/NC(=O)C(=O)Nc2ccccc2Cl)c1', 'COc1cccc(-c2nc(-c3ccccc3OCC(=O)Nc3ccc(Cl)cc3)no2)c1', 'COc1cc(C=NNC(=O)c2ccc(O)c(Cl)c2)cc(C#Cc2ccccn2)c1OC', 'Cc1cc(/C=C2\\\\C(=O)NC(=O)N(c3ccc(Cl)cc3)C2=O)c(C)n1-c1ccc(O)cc1', 'COc1ccc(Cl)cc1/C(O)=C1\\\\C(=O)C(=O)N(Cc2cccnc2)C1c1ccncc1', 'Cc1cccc(-c2nc3cc(/N=C/c4c(C)c(Cl)c(C)c([N+](=O)[O-])c4O)ccc3o2)c1', 'C[C@@H](Nc1c(Nc2ccc(O)c(-c3cc(Cl)ccn3)c2)c(=O)c1=O)c1cccc(O)c1', 'COc1ccc(-c2noc(COc3ccc(Cl)cc3C(=O)Nc3ccccc3)n2)cc1', 'Cn1c(C(=O)Nc2ccc(Oc3ccc(CC(=O)O)cc3Cl)nc2)cc2ccccc21', 'COc1ccc(-c2nc(-c3cccc(OCC(=O)Nc4ccc(Cl)cc4)c3)no2)cc1', 'CCn1c(=O)c(=O)[nH]c2cc(C(=O)Nc3ccc(Oc4ccccc4Cl)cc3)ccc21', 'COc1ccc(-c2nc3ccccc3c(=O)n2NC(=O)c2ccc(Cl)cc2)cc1OC', 'Cc1ccc(C=CC(=O)Nc2cccc(OCc3nnc(-c4ccc(Cl)cc4)o3)c2)o1', 'O=C(CN1C(=O)COc2ccc(NC(=O)c3ccccc3Cl)cc21)Nc1ccccc1', 'COc1ccc(C(=O)Nc2ccc(OCc3cc(=O)n4cc(Cl)ccc4n3)cc2)cc1', 'O=C(NCCc1ccc2c(c1)OCO2)c1cc(-c2ccco2)n(-c2ccc(Cl)cc2)n1', 'COc1ccc(C(=O)Cn2c(=O)n(Cc3ccc(Cl)cc3)c(=O)c3ncccc32)cc1', 'Cc1ccc(C(=O)N2CC(=O)Nc3ccc(Cl)cc3[C@@H]2c2ccccc2)cc1[N+](=O)[O-]', 'CCC(OC(=O)c1ccccc1-c1nc2ccccc2o1)C(=O)Nc1ccc(Cl)cn1', 'COc1ccc(-c2nc(-c3ccc(Cl)cc3)nc(-c3ccc(OC)cc3O)n2)c(O)c1', 'Cc1cc(OCc2ccc(-c3nc(-c4ccc([N+](=O)[O-])cc4)no3)cc2)cc(C)c1Cl', 'COc1ccc(-n2c(C)ccc2/C=C2\\\\C(=O)NC(=O)N(c3ccc(Cl)cc3)C2=O)cc1', 'COc1ccc(Cl)c(-c2ccc3c(=O)n(-c4cncc5c4CCCO5)c(=O)[nH]c3c2)c1', 'CCc1cc2oc(=O)cc(CN3C(=O)N[C@](C)(c4ccc(C#N)cc4)C3=O)c2cc1Cl', 'COc1ccc(Cl)cc1/C(O)=C1\\\\C(=O)C(=O)N(Cc2cccnc2)[C@H]1c1cccnc1', 'O=C1c2ccccc2N2C(=O)CC[C@]2(C(=O)Nc2cccc(Cl)c2)N1Cc1ccco1', 'COc1ccc2cc(COC(=O)c3ccc4c(=O)n5c(nc4c3)CCC5)c(Cl)nc2c1', 'COc1ccc(C2=NN3C(C2)c2cc([N+](=O)[O-])ccc2OC3c2ccc(Cl)cc2)cc1', 'CC(C)c1ccc2oc(-c3ccc(Cl)c(NC(=O)c4cccc([N+](=O)[O-])c4)c3)nc2c1', 'COc1ccc(NC(=O)COc2cccc(-c3noc(-c4ccccc4Cl)n3)c2)cc1', 'O=C(CCc1nc(-c2ccc(Cl)cc2)no1)OCc1ccccc1Oc1cccnc1', 'COc1ccc(C(=O)[C@@H]2[C@@H]3C(=O)N(c4cccc(Cl)c4)C(=O)[C@H]3[C@H]3C=CC=NN32)cc1', 'COc1ccccc1NC(=O)COc1ccccc1-c1noc(-c2cccc(Cl)c2)n1', 'O=C(Nc1ccc(=O)n(Cc2ccccc2Cl)c1)c1ccc(N2C(=O)CCC2=O)cc1', 'Cc1cc2nc(-c3ccc(CNC(=O)c4cc([N+](=O)[O-])ccc4Cl)cc3)oc2cc1C', 'COc1ccc(Oc2ccc(Cl)cc2NC(=O)Cn2cnc3ccccc3c2=O)cc1', 'O=C(CNC(=O)c1ccc(Cl)cc1)N/N=C/c1ccc(OC(=O)c2ccccc2)cc1', 'Cc1cc(OCC(=O)[NH+]([O-])c2ccc(-c3nc(-c4ccccc4)no3)cc2)ccc1Cl', 'O=C(NN[C@@H]1CC(=O)N(c2ccc(Oc3ccccc3)cc2)C1=O)c1ccccc1Cl', 'Cc1cc2nc(-c3ccc(CNC(=O)c4ccc(Cl)c([N+](=O)[O-])c4)cc3)oc2cc1C', 'COc1ccc(C(=O)[C@H]2[C@H]3C(=O)N(c4ccc(Cl)cc4)C(=O)[C@H]3C3C=CC=NN32)cc1', 'COc1ccc(NC(=O)c2ccc3c(=O)n(-c4cccc(Cl)c4)cnc3c2)c(OC)c1', 'O=C(CCc1nc(-c2ccc(Oc3ccc(Cl)cn3)cc2)no1)OCc1ccccc1', 'COC(=O)C1=C(C)OC(N)=C(C#N)[C@@]12C(=O)N(Cc1ccccc1Cl)c1ccccc12', 'N#Cc1nc(-c2ccc(COc3ccccc3Cl)o2)oc1NCCOc1ccccc1', 'O=C(NCc1ccccc1)C(=O)N/N=C/c1cccc(OC(=O)c2ccccc2Cl)c1', 'COc1cc(/C=N\\\\NC(=O)c2ccc(O)c(Cl)c2)cc(C#Cc2ccccn2)c1OC', 'CC(C)c1ccc2oc(-c3ccc(NC(=O)c4ccc(Cl)c([N+](=O)[O-])c4)cc3)nc2c1', 'O=C(c1ccc(-n2cccc2)cc1)N1CCc2noc(-c3cc(Cl)c(O)cc3O)c2C1', 'Cc1c(-c2ccc(Cl)cc2)[nH]c2c(-c3ccccc3)nc(C(=O)NCC(=O)O)c(O)c12', 'COc1cc(NC(=O)c2ccccc2Cl)c(-c2nc(-c3ccccc3)no2)cc1OC', 'Cc1cc(NC(=O)C(C)n2ccc(-c3cc(Cl)ccc3C#N)cc2=O)ccc1C(=O)O', 'N#C/C(=C/c1ccc(-c2cc([N+](=O)[O-])ccc2Cl)o1)C(=O)NCCCc1ccccc1', 'O=C(NCc1ccccc1)C(=Cc1ccc(Cl)cc1)NC(=O)c1ccc([N+](=O)[O-])cc1', 'O=C1NC(=O)C(c2cn(CC(O)CO)c3cc(Cl)ccc23)=C1c1c[nH]c2ccccc12', 'Cc1ccc(Oc2nc3c([nH]2)=CC(Cl)C(c2ccc4onc(C)c4c2)C=3)cc1C(=O)O', 'Cc1ccccc1NC(=O)C(=O)N/N=C/c1ccc(OC(=O)c2ccccc2Cl)cc1', 'COc1cccc2c1O[C@@H](c1ccc([N+](=O)[O-])cc1)N1N=C(c3ccc(Cl)cc3)C[C@@H]21', 'COc1ccccc1OCC(=O)Nc1ccc(-c2nc(-c3ccc(Cl)cc3)no2)cc1', 'C[C@@H](OC(=O)Cn1c2ccccc2c(=O)c2ccccc21)C(=O)Nc1cccnc1Cl', 'COCc1c(C(=O)Nc2ccc(Cl)cc2C(=O)Nc2ccncc2)oc2ccccc12', 'COc1cc(/C=C(/C#N)C(=O)NC(N)=O)cc(Cl)c1OCc1ccc2ccccc2c1', 'Cc1cc(C=NNC(=O)c2cc3cc(Cl)ccc3o2)c(C)n1-c1ccc2c(c1)OCO2', 'COc1ccc(-n2nc(C(=O)Nc3ccc(OC)c(Cl)c3)c3ccccc3c2=O)cc1', 'CC1Oc2cc(/C=N/NC(=O)c3ccc(O)c(Cl)c3)cc(/C=C/c3ccccn3)c2O1', 'COc1ccc(-c2noc(-c3ccccc3NC(=O)c3ccc(Cl)cc3)n2)cc1OC', 'Cc1c(Cl)c(C)c([N+](=O)[O-])c(O)c1/C=N/c1ccc(-c2nc3c(C)cccc3o2)cc1', 'Cc1cc(=O)c(C(=O)OC(C)C(=O)c2c[nH]c3ccccc23)nn1-c1ccc(Cl)cc1', 'Cc1cc(C)c2oc(-c3ccc(C)c(NC(=O)c4ccc(Cl)c([N+](=O)[O-])c4)c3)nc2c1', 'COC(=O)c1cc(C)nc2c1c(=O)n(Cc1ccccc1Cl)c(=O)n2-c1ccccc1', 'Cc1ccc(C(=O)Oc2ccc(/C=N\\\\NC(=O)C(=O)Nc3ccccc3Cl)cc2)cc1', 'COc1ccc(Cl)cc1NC(=O)COc1ccc(-c2nnc(-c3ccccc3)o2)cc1', 'O=C(NCc1cn(-c2ccccc2)c2cc(Cl)ccc2c1=O)Oc1ccc(NO)cc1', 'Nc1cc(-c2ccc3c(CC(=O)O)cn(Cc4cccc(Cl)c4)c3c2)cc([N+](=O)[O-])c1', 'N/C(=N\\\\O)c1cc2cc(-c3cc(CC(=O)O)cc(-c4ccccc4)c3O)[nH]c2cc1Cl', 'CC(C(=O)N1CCc2c(noc2-c2ccc(Cl)cc2)C1)N1C(=O)c2ccccc2C1=O', 'CCc1cc2oc(=O)cc(CN3C(=O)NC(C)(c4ccc(C#N)cc4)C3=O)c2cc1Cl', 'COc1ccc(C(=O)C2C3C(=O)N(c4ccc(Cl)cc4)C(=O)C3C3C=CC=NN32)cc1', 'C/C(=N\\\\NC(=O)c1ccc2c(c1)OCO2)c1cccc(NC(=O)c2ccc(Cl)cc2)c1', 'COc1ccccc1NC(=O)c1cc2ccc(O)cc2o/c1=N\\\\Nc1ccc(Cl)cc1', 'COc1ccc([C@H]2CC(c3ccccc3)=NN2C(=O)c2ccc(Cl)c([N+](=O)[O-])c2)cc1', 'COc1ccc(CNc2oc(-c3ccc(COc4ccc(Cl)cc4)o3)nc2C#N)cc1', 'N#Cc1ccc(C2C=CCC2N2CC3COc4cc(OC(=O)O)ccc4C3=N2)cc1Cl', 'O=C(Nc1ccc(Cl)c(C2=Nc3ncc(CC(=O)C4(O)CC4)cc3C2)c1)c1ccco1', 'Cc1ccc(NC(=O)CN2C(=O)N/C(=C\\\\c3ccc(-c4ccc(Cl)cc4)o3)C2=O)cc1', 'CC(C)c1ccc2oc(-c3ccc(NC(=O)c4cc([N+](=O)[O-])ccc4Cl)cc3)nc2c1', 'COc1ccc(C(=O)[C@@H]2[C@@H]3C(=O)N(c4cccc(Cl)c4)C(=O)[C@@H]3[C@H]3C=CC=NN32)cc1', 'COc1ccc(-c2noc(-c3ccccc3C(=O)Nc3ccccc3Cl)n2)cc1OC', 'C/C(=N\\\\NC(=O)C(=O)Nc1ccccc1Cl)c1ccc(OC(=O)c2ccccc2)cc1', 'COc1cc2nc(OCCn3ccnc3)c3c(c2cc1OC)C(=O)c1cc(Cl)ccc1-3', 'COc1ccc(Cl)cc1/N=c1\\\\oc2c(OC)cccc2cc1C(=O)Nc1ccccn1', 'COc1ccc(C2=NN(C(=O)c3ccccc3Cl)[C@@H](c3cccc([N+](=O)[O-])c3)C2)cc1', 'O=C(COc1ccccc1Cl)Nc1ccc2nc(-c3ccc4c(c3)OCCO4)cn2c1', 'Cc1ccc2nc(-c3ccc(/N=C/c4c(C)c(Cl)c(C)c([N+](=O)[O-])c4O)cc3)oc2c1', 'Cc1ccc(C(=O)Oc2cccc(/C=N/NC(=O)C(=O)Nc3ccccc3Cl)c2)cc1', 'O=C(NO)c1c(Cl)c(-c2ccc(-c3ccc(OCCO)cc3)cc2)nc2ccncc12', 'Cc1c(Cl)cccc1NC(=O)C(=O)NN=Cc1ccc(OC(=O)c2ccccc2)cc1', 'COc1ccc(Cl)cc1C(O)=C1C(=O)C(=O)N(Cc2cccnc2)[C@H]1c1ccncc1', 'COc1ccc(C(=O)Nn2c(-c3cccc(Cl)c3)nc3ccccc3c2=O)c(OC)c1', 'Cc1cc(C=C2C(=O)NC(=O)N(c3ccc(Cl)cc3)C2=O)c(C)n1-c1cccc(O)c1', 'COc1ccc(C2=NN3[C@@H](C2)c2ccccc2O[C@H]3c2ccc(Cl)c([N+](=O)[O-])c2)cc1', 'COc1cc(Cl)ccc1C(=O)NNC(=O)Cn1c2ccccc2c(=O)c2ccccc21', 'O=C1c2ccccc2N2C(=O)CC[C@@]2(C(=O)Nc2cccc(Cl)c2)N1Cc1ccco1', 'Cc1cc(C)c2oc(-c3ccc(C)c(NC(=O)c4ccc([N+](=O)[O-])cc4Cl)c3)nc2c1', 'O=C(NCc1ccccc1)/C(=C\\\\c1cccc([N+](=O)[O-])c1)NC(=O)c1ccccc1Cl', 'CCOc1ccc(/C(O)=C2\\\\C(=O)C(=O)N(c3ncccn3)C2c2cccc(Cl)c2)cc1', 'O=C(NC(C(=O)NCc1ccc(Cl)cc1)c1ccccc1)c1cccc2[nH]c(=O)oc12', 'COc1ccc(Cl)cc1/C(O)=C1\\\\C(=O)C(=O)N(Cc2ccccn2)C1c1ccncc1', 'O=C(COC(=O)CCc1nc(-c2ccc(Cl)cc2)no1)Nc1cccc2ccccc12', 'CCOc1ccc(Nc2oc(-c3ccc(COc4ccc(Cl)cc4)o3)nc2C#N)cc1', 'COc1ccc(C(=O)NC(CC(=O)O)c2ccccc2Cl)nc1-c1cccc(C#N)c1', 'O=C(/C=C/c1cc(Cl)c2c(c1)OCO2)NCc1ccc(C(=O)Nc2ccncc2)cc1', 'COc1cccc2c1O[C@H](c1ccc([N+](=O)[O-])cc1)N1N=C(c3ccc(Cl)cc3)C[C@H]21', 'O=C(COc1ccccc1Cl)Nc1cccc(-c2nc3cc4c(cc3[nH]2)OCCO4)c1', 'COc1cccc2c1O[C@@H](c1cccc([N+](=O)[O-])c1)N1N=C(c3ccc(Cl)cc3)C[C@@H]21', 'Cc1cc2nc(-c3ccc(C)c(NC(=O)c4ccc(Cl)c([N+](=O)[O-])c4)c3)oc2cc1C', 'COc1cccc(C(=O)Nn2c(-c3cccc(Cl)c3)nc3ccccc3c2=O)c1OC', 'COc1ccc(C2=NN3[C@H](C2)c2cc(Cl)ccc2O[C@@H]3c2cccc([N+](=O)[O-])c2)cc1', 'Cc1ccc(C(=O)Oc2ccc(/C=N/NC(=O)C(=O)Nc3ccc(Cl)cc3)cc2)cc1', 'COc1ccc(-c2nc(-c3ccccc3OCC(=O)Nc3ccc(Cl)cc3)no2)cc1', 'COc1cc2c3c(c(=O)n(CCn4ccnc4)c2cc1OC)-c1ccc(Cl)cc1C3=O', 'Cc1ccc(N2C(=O)C(Cl)=C(Nc3cccc(C(=O)NCc4ccco4)c3)C2=O)cc1', 'COc1ccc(Oc2ccc(Cl)cc2NC(=O)Cn2ncc(=O)c3ccccc32)cc1', 'COc1c(Cl)cccc1COc1ccc(Nc2ncc3cc4c(cc3n2)OCO4)cc1', 'O=C(Nc1ccc2c(c1)N(C(=O)c1ccccc1)CCC2)c1ccc(Cl)c([N+](=O)[O-])c1', 'O=c1ccc(=O)oc2cccc3nc(N4CCNCC4)c(o1)c(-c1ccc(Cl)cc1)c32', 'Cc1cc2nc(COc3cc(Cl)ccc3NC(=O)/C=C/c3ccccc3)cc(=O)n2o1', 'Cc1ccccc1C(=O)Oc1ccccc1/C=N/NC(=O)C(=O)Nc1ccc(Cl)cc1', 'CC(=O)Nc1ccc(NC2=C(c3ccc(Cl)cc3)C(=O)N(Cc3ccco3)C2=O)cc1', 'O=C(/N=N/c1c(O)n(CCOc2ccc(Cl)cc2)c2ccccc12)c1ccccc1O', 'COc1ccc(-n2nc(C(=O)Nc3cccc(Cl)c3)c3ccccc3c2=O)c(OC)c1', 'Cc1ccc(NC(=O)C(=O)N/N=C\\\\c2ccc(OC(=O)c3ccccc3Cl)cc2)cc1', 'COc1ccc(OCc2ccc(-c3nc(C#N)c(NCc4ccccc4Cl)o3)o2)cc1', 'COC(=O)c1cc(C)nc2c1c(=O)n(Cc1ccc(Cl)cc1)c(=O)n2-c1ccccc1', 'COc1ccc(Cl)cc1/C(O)=C1\\\\C(=O)C(=O)N(Cc2cccnc2)C1c1cccnc1', 'O=C(CCn1[nH]c(=O)c2ccccc2c1=O)Nc1ccccc1Oc1ccccc1Cl', 'C[C@@H](CO)n1cnc2c(-c3cccc4c3OCO4)nc(-c3ccc(Cl)cc3)cc2c1=O', 'O=C(/N=N/c1c(O)n(CCOc2ccc(Cl)cc2)c2ccccc12)c1ccc(O)cc1', 'O=C1CCC(C(=O)OC2c3ccccc3C(=O)N2c2ccc3ccc(Cl)nc3n2)CC1', 'Cc1cc(/C=N/NC(=O)c2cc3cc(Cl)ccc3o2)c(C)n1-c1ccc2c(c1)OCO2', 'Cc1ccc(C2=NN(C(=O)Cn3c(=O)oc4cc(Cl)ccc43)[C@H](c3ccco3)C2)cc1', 'Cc1c(OC(=O)OC(C)C)ncc2[nH]c3ccc(Oc4cccc(Cl)c4C#N)cc3c12', 'COc1ccc(Cl)c(/C(O)=C2\\\\C(=O)C(=O)N(Cc3ccncc3)C2c2cccnc2)c1', 'O=C(C[C@H]1C(=O)Oc2ccccc2N1C(=O)Nc1cccc(Cl)c1)Nc1ccccc1', 'COc1cc(Cl)cc2c1O[C@@H](c1ccc([N+](=O)[O-])cc1)N1N=C(c3ccccc3)C[C@H]21', 'COc1ccc(Cl)c(/C(O)=C2\\\\C(=O)C(=O)N(Cc3cccnc3)C2c2ccncc2)c1', 'Cc1ccc(C(=O)Oc2cccc(/C=N/NC(=O)C(=O)Nc3cccc(Cl)c3)c2)cc1', 'COC(=O)C1=C(C)OC(N)=C(C#N)[C@@]12C(=O)N(Cc1cccc(Cl)c1)c1ccccc12', 'Cc1ccc2c(=O)c(C(=O)c3ccc(Cl)cc3)cn(CC(=O)NCc3ccco3)c2n1', 'CCOc1ccc(/C(O)=C2\\\\C(=O)C(=O)N(c3ncccn3)[C@@H]2c2cccc(Cl)c2)cc1', 'COc1ccc(NC(=O)COc2cccc(-c3noc(-c4cccc(Cl)c4)n3)c2)cc1', 'COCCn1c2c(c(=O)[nH]c1=O)C(c1ccc(Cl)cc1)C1=C(N2)c2ccccc2C1=O', 'COC(=O)C1=C(C)OC(N)=C(C#N)[C@]12C(=O)N(Cc1cccc(Cl)c1)c1ccccc12', 'CC(=O)Cc1ccc(-c2nc3nc(Oc4ccc(C)c(C(=O)O)c4)[nH]c3cc2Cl)cc1', 'O=C(O)c1ccnc(-n2nccc2OCc2ccc(Cl)cc2OCc2ccccc2)c1', 'COc1cccc(C(=O)Nc2cccc(OCc3cc(=O)n4cc(Cl)ccc4n3)c2)c1', 'Cc1cc(C)c(NC(=O)/C(C#N)=C/c2ccc(-c3ccc(Cl)c([N+](=O)[O-])c3)o2)c(C)c1', 'COc1ccc(Cl)cc1C(=O)NNC(=O)Cn1c2ccccc2c(=O)c2ccccc21', 'COc1cc(-c2noc(-c3ccccc3)n2)ccc1OCC(=O)Nc1cccc(Cl)c1', 'COc1cc(-c2nc3ccccc3c(=O)[nH]2)ccc1OCC(=O)Nc1ccccc1Cl', 'Cc1nc(COc2ccc(C(=O)Nc3ccc(Oc4ccccc4Cl)cc3)cc2)no1', 'COc1ccc(C(=O)C2C3C(=O)N(c4cccc(Cl)c4)C(=O)C3C3C=CC=NN32)cc1', 'Cc1ccccc1C(=O)Oc1ccc(/C=N\\\\NC(=O)C(=O)Nc2ccccc2Cl)cc1', 'COc1ccc2[nH]c(C(=O)N3CC(CCl)c4c3cc([N+](=O)[O-])c3ccccc43)cc2c1', 'O=C(O)CC(c1ccccc1)n1cnc2ccc(NC(=O)c3cc(Cl)ccc3O)cc21', 'COc1cc2c(cc1-c1c(C)noc1C)ncc1oc(=O)n(Cc3ccccc3Cl)c12', 'COc1ccccc1NC(=O)Cn1c(=O)n(-c2ccc(Cl)cc2)c(=O)c2ccccc21', 'COc1ccccc1-c1nc(-c2cccc(NC(=O)COc3ccc(Cl)cc3)c2)no1', 'COc1ccc(/C(O)=C2/C(=O)C(=O)N(Cc3ccncc3)C2c2cccnc2)cc1Cl', 'CC(C)c1ccc(-c2nc3cc(NC(=O)c4ccc(Cl)c([N+](=O)[O-])c4)ccc3o2)cc1', 'CN(C(=O)c1ccc(Cl)c(-n2c(=O)[nH]c3cccc(CO)c3c2=O)c1)c1ccccc1', 'COc1cccc(C2=NN3[C@@H](C2)c2cc(Cl)ccc2O[C@H]3c2cccc([N+](=O)[O-])c2)c1', 'Cc1ccccc1NC(=O)C(=O)N/N=C/c1ccccc1OC(=O)c1ccc(Cl)cc1', 'Cc1cc(/C=C2/C(=O)NC(=O)N(c3ccc(Cl)cc3)C2=O)c(C)n1-c1ccc(O)cc1', 'CC(=NNC(=O)c1ccc2c(c1)OCO2)c1cccc(NC(=O)c2ccc(Cl)cc2)c1', 'COCCn1c2c(c(=O)[nH]c1=O)[C@H](c1ccc(Cl)cc1)C1=C(N2)c2ccccc2C1=O', 'COc1ccc(C(=O)[C@H]2[C@H]3C(=O)N(c4cccc(Cl)c4)C(=O)[C@H]3C3C=CC=NN32)cc1', 'C[C@@H](Nc1c(Nc2ccc(O)c(-c3cccc(Cl)n3)c2)c(=O)c1=O)c1cccc(O)c1', 'COc1cc(-c2nc(-c3ccccc3)c(-c3ccc(Cl)cc3)[nH]2)c([N+](=O)[O-])cc1OC', 'Cc1ccc(NC(=O)C(=O)N/N=C/c2ccc(OC(=O)c3ccccc3)cc2)cc1Cl', 'O=C1CCN(C(=O)c2ccc(Cl)c([N+](=O)[O-])c2)c2ccccc2N1Cc1ccccc1', 'COC(=O)c1ccc(Cn2cc(/C=N\\\\NC(=O)c3ccccc3Cl)c3ccccc32)o1', 'Cc1cc(=O)c(C(=O)O[C@@H](C)C(=O)c2c[nH]c3ccccc23)nn1-c1ccc(Cl)cc1', 'COc1ccccc1NC(=O)Cn1c(=O)n(-c2cccc(Cl)c2)c(=O)c2ccccc21', 'Cc1cccc(NC(=O)C(=O)NN=Cc2ccc(OC(=O)c3ccc(Cl)cc3)cc2)c1', 'COc1ccc(-c2noc(-c3ccc(NC(=O)COc4ccc(Cl)cc4)cc3)n2)cc1', 'Cc1c(Cl)cccc1NC(=O)C(=O)NN=Cc1ccccc1OC(=O)c1ccccc1', 'Cc1cc(C)c(NC(=O)/C(C#N)=C/c2ccc(-c3ccc([N+](=O)[O-])cc3Cl)o2)c(C)c1', 'O=C(Nc1ccc2c(c1)CN(C(=O)c1ccccc1)CC2)c1ccc([N+](=O)[O-])cc1Cl', 'COc1cc(C=Nn2c(=O)[nH]c3ccccc3c2=O)cc(Cl)c1OCc1ccccc1', 'Cc1ccccc1NC(=O)C(=O)NN=Cc1ccc(OC(=O)c2cccc(Cl)c2)cc1', 'O=C(CNC(=O)c1ccccc1Cl)NN=Cc1cccc(OC(=O)c2ccccc2)c1', 'COc1ccc(Cl)cc1/C(O)=C1\\\\C(=O)C(=O)N(Cc2cccnc2)[C@H]1c1ccccn1', 'COc1ccc(C(=O)[C@@H]2[C@@H]3C(=O)N(c4cccc(Cl)c4)C(=O)[C@@H]3C3C=CC=NN32)cc1', 'COc1cc(OC)cc(C(=O)Nc2ccccc2-c2nc(-c3ccc(Cl)cc3)no2)c1', 'O=C(NCc1cc(-c2cc3ccccc3o2)on1)C1CC(=O)N(c2ccc(Cl)cc2)C1', 'Cc1ccc(NC(=O)/C(=C/c2cccc([N+](=O)[O-])c2)NC(=O)c2cccc(Cl)c2)cc1', 'COc1ccc(Oc2ncccc2NC(=O)COc2ccc(Cl)c3cccnc23)cc1', 'COc1ccc(C2=NN(C(=O)c3ccc(Cl)cc3)[C@@H](c3cccc([N+](=O)[O-])c3)C2)cc1', 'COc1ccc(Cl)c(/C(O)=C2\\\\C(=O)C(=O)N(Cc3ccccn3)C2c2ccncc2)c1', 'CC(=O)Nc1ccc(C(=O)N/N=C/c2cc(Cl)ccc2OC(=O)c2ccccc2)cc1', 'COc1ccc(NC(=O)c2nn(-c3ccc(Cl)cc3)c(=O)c3ccccc23)cc1OC', 'O=C(/C=C\\\\c1cc(Cl)c2c(c1)OCO2)NCc1ccc(C(=O)Nc2ccncc2)cc1', 'COc1cc(-n2cccc2)c(Cl)cc1C(=O)Nc1ccc(NC(=O)c2ccco2)cc1', 'COc1ccc(C(=O)Nn2c(-c3cccc(Cl)c3)nc3ccccc3c2=O)cc1OC', 'Cc1nn(Cc2ccccc2)c(Cl)c1C=CC(=O)OCN1C(=O)c2ccccc2C1=O', 'O=C(COc1cccc(-c2noc(COc3ccccc3)n2)c1)Nc1ccccc1Cl', 'COc1ccc(C(=O)Nc2ccccc2-c2nc(-c3ccccc3Cl)no2)cc1OC', 'C=C(NC(=O)c1ccc(-c2ccc(NC(=O)Nc3ccccc3Cl)cc2)cc1)C(=O)O', 'COc1ccc(Cn2c(=O)c3ncccc3n(CC(=O)c3ccc(Cl)cc3)c2=O)cc1', 'N#Cc1cccc(OCC(=O)NNC(=O)c2ccc(COc3ccc(Cl)cc3)cc2)c1', 'COc1ccc(-c2noc(-c3cccc(NC(=O)c4ccccc4Cl)c3)n2)cc1OC', 'CNC(=O)Nc1ccc(Cl)c(OCC#CC#CCOc2ccc(/C(C#N)=C/O)cc2)c1', 'COC(=O)c1ccc(Cn2cc(/C=N\\\\NC(=O)c3ccc(Cl)cc3)c3ccccc32)o1', 'COc1ccc(NC(=O)Cn2c(=O)n(-c3ccc(Cl)cc3)c(=O)c3ccccc32)cc1', 'COc1ccc(Cl)cc1C(=O)Nc1cccc(-c2noc(-c3ccccc3OC)n2)c1', 'COc1ccc(NC(=O)c2ccccc2-c2nc(-c3ccc(Cl)cc3)no2)cc1OC', 'COc1ccc(/C(O)=C2/C(=O)C(=O)N(Cc3ccccn3)C2c2ccccn2)cc1Cl', 'Cc1ccc(NC(=O)C(=O)N/N=C/c2cccc(OC(=O)c3ccccc3Cl)c2)cc1', 'COc1ccc(NC(=O)Cn2ccn(-c3cccc4ccccc34)c(=O)c2=O)cc1Cl', 'COc1cccc2c1O[C@@H](c1ccc([N+](=O)[O-])cc1)N1N=C(c3ccc(Cl)cc3)C[C@H]21', 'CCN1CCCC(C1)OC(=O)C(C2=CC=CC=C2)C3=CC=CC=C3', 'CC(C)(O)CCc1ccc(C(=O)NC2CC2c2ccccc2)cc1', 'CC(C)=C1C(=O)OC(C)(C)/C1=C(/C)c1c(C)n(C)c2ccccc12', 'OC[C@]12CCOC[C@H]1CN(Cc1ccccc1-c1ccccc1)C2', 'CN(C)CC/C=C1/C2=C(C=CC1CC=O)OCc1ccccc1C2', 'CC[C@H](NC(=O)/C=C/c1ccccc1OC)c1ccc(C)c(C)c1', 'COc1cc(C=Cc2ccccc2)cc(OCN)c1CC=C(C)C', 'OC(Cc1ccccc1)c1ccc(/C=C/CN2CCOCC2)cc1', 'C=CCOc1ccc(-c2ccc(/C=C/CCCC(C)O)nc2)cc1', 'Cc1cccc(OCC(=O)N[C@@H](C)c2ccc3c(c2)CCCC3)c1', 'C[C@@H](c1cccc(OC(=O)C[C@H]2C[C@@H]2c2ccccc2)c1)N(C)C', 'COc1cccc(C2CCCN2C(=O)CC(C)c2ccccc2)c1', 'COC(=O)[C@H](c1ccccc1)[C@@H]1CCCCN1Cc1ccccc1', 'COc1ccc(CCN(C=O)C2(c3ccccc3)CCCC2)cc1', 'C[C@H](NC(=O)CCCOc1ccccc1)c1ccc2c(c1)CCC2', 'CC[C@@H](C)c1ccccc1NC(=O)/C=C/c1cc(C)ccc1OC', 'C[C@@H]1[C@H]2OC(C)(C)O[C@H]2[C@H](c2ccccc2)N1Cc1ccccc1', 'CCC1(C)CN(Cc2ccccc2)C(Cc2ccccc2)C(=O)O1', 'Cc1ccccc1[C@H](C)NC(=O)COc1cccc2c1CCCC2', 'O=C(NCC1CCCCC1)c1ccccc1COc1ccccc1', 'C#C[C@]1(O)CC[C@H]2[C@@H]3CCC4=C/C(=N\\\\O)CCC4=C3C=C[C@@]21CC', 'CC(C)(C)c1ccc(N2OC[C@@H]3CO[C@@H](c4ccccc4)[C@@H]32)cc1', 'C=Cc1c([C@H]2C[C@@H](OCc3ccccc3)CCO2)c[nH]c1/C=C\\\\C', 'COc1ccccc1[C@@H]1CCC2CC[C@@H](c3ccccc3OC)N21', 'CC(O)C1CCCN(C(=O)C2CC2c2ccc3ccccc3c2)C1', 'c1ccc(C(Cc2ccc3c(c2)OCCO3)N2CCCCC2)cc1', 'C#CC1=CC2=CC(=O)CC[C@]2(C)[C@H]2CC[C@]3(CN)C(=O)CC[C@H]3[C@H]12', 'Cc1ccccc1C(=O)NC[C@@H]1Cc2cc(C(C)(C)C)ccc2O1', 'CC(C)(C)C1=CC(=O)C(C(C)(C)C)c2c(-c3ccccc3)noc21', 'CC[C@H](Oc1ccc2ccccc2c1)C(=O)NCC1=CCCCC1', 'CC[C@]12CCCN3C(=O)/C(=C(/C)O)[C@H](c4ccccc4)C(=C31)CC2', 'Cc1cc(C)c(N(C=O)C(=O)[C@H]2[C@H](C)[C@@H]3C=C[C@@H]2C32CC2)c(C)c1', 'CO[C@H](C)c1ccc(-c2cccc(C(=O)N3CCCCC3)c2)cc1', 'CC[C@@H](NC(=O)/C=C\\\\c1ccc(OC(C)C)cc1)c1ccccc1', 'C/C(CCCO)=C(/c1ccc(O)cc1)c1ccc(C2CNC2)cc1', 'C=CCOc1ccc(-c2ccc(/C=C/CCCC(C)O)cc2)nc1', 'Cc1ccc(C=CC(=O)Nc2ccc(OCCC(C)C)cc2)cc1', 'CC(C)c1ccc(OCc2ccc(C(=O)N3CCCC3)cc2)cc1', 'CCCN1Cc2c(C)cccc2[C@H]2c3cc(O)c(O)cc3CC[C@@H]21', 'C=Cc1ccc(NC(=O)CC)c(COc2ccc(CC)cc2C)c1', 'C/C=C\\\\C=C/c1ccc(C(=O)Nc2ccc(C)cc2)c(O)c1.CC', 'O=C1[C@@H]2[C@H]3C=C[C@@H]([C@@H]4C[C@@H]34)[C@@H]2C(=O)N1C12CC3CC(CC(C3)C1)C2', 'COC(=O)C(Cc1ccccc1)/N=C(\\\\c1ccccc1)C(C)(C)C', 'CC1(C)CC(C(C)(C)c2ccccc2)Nc2ccc(C(=O)O)cc21', 'COCc1ccc(C(=O)N(Cc2ccccc2)C(C)C2CC2)cc1', 'COc1ccc2c(c1)C13CCN(CC4CC4)C(C2)C1C=CC(=O)C3', 'CC1(C)CCC(C)(C)c2cc(C(=O)Nc3ccc(O)cc3)ccc21', 'CC1(C)CC(=O)c2ccn(-c3ccc(C(=O)C(C)(C)C)cc3)c2C1', 'Cc1ccccc1C1CC(C)N(C(=O)CC(O)c2ccccc2)C1', 'C=C(C)COc1cccc(C(=O)N[C@H](C)CCc2ccccc2)c1', 'CCCCC1=CCOC(Cc2ccccn2)C(O)c2ccccc21', 'CCCCCCNC(=O)OCC1c2ccccc2-c2ccccc21', 'CCCN1Cc2cc(C)ccc2[C@@H]2c3cc(O)c(O)cc3CC[C@H]21', 'Cc1ccc([C@@H](NC(=O)COc2cc(C)cc(C)c2)C2CC2)cc1', 'COc1ccccc1C1Nc2c(C)cc(C)cc2C2OCCCC12', 'Cc1ccc(C)c(NC(=O)[C@H](C)Oc2ccc3c(c2)CCCC3)c1', 'CCN(CC)CCOC(=O)C1c2ccccc2Cc2ccccc21', 'C[C@]12CC1C1C3CCc4cc(O)c(C#N)cc4C3CC[C@]1(C)[C@H]2O', 'CCC[C@H](OC1CC(CCc2ccccc2)=NO1)c1ccccc1', 'C/C(=C/C(=O)NCCc1ccc(CO)cc1)CCc1ccccc1', 'CCCCCCNC(=O)C1Cc2ccccc2Oc2ccccc21', 'COC1Cc2ccccc2C2(CCN(Cc3ccccc3)CC2)O1', 'CCCCOc1ccccc1C=CC(=O)Nc1ccccc1CC', 'CC(C)[C@@H]1[C@H](c2ccccc2)C[C@@H]2O[C@@]1(O)CN2c1ccccc1', 'C=C(C)COc1cccc(C(=O)N[C@@H](CC)c2ccc(C)cc2)c1', 'C=CC1C(=C(C)C)C(C)CC12CC(=O)N(c1ccc(C)cc1)C2=O', 'COC(=O)c1ccc(C[C@@H]2CC[C@H]([C@H](C)c3cccnc3)C2)cc1', 'CC1(C)C(=O)C(C#N)=C[C@]2(C)C[C@](O)(Cc3ccccc3)CC[C@H]12', 'CC(C)(C)c1ccc(OCC(=O)N[C@@H]2CCc3ccccc32)cc1', 'CC(C)c1ccccc1OCC(=O)N[C@H](c1ccccc1)C1CC1', 'COc1cc2c(cc1OC)[C@H]1c3cc(C)ccc3CN[C@]1(C)CC2', 'CCc1ccccc1O[C@@H](C)C(=O)N[C@@H]1CCCc2ccccc21', 'Cc1ccc(OC[C@@H](C)NC(=O)c2ccc3c(c2)CCCC3)cc1', 'COc1ccc(/N=C/c2cccc(C3CCC(C)CC3)c2O)cc1', 'Cc1cc(C)cc(C(c2ccccc2C)N2CCCC2C(=O)O)c1', 'C=C1C=CC=C(C)C12c1c(C)cc(C)cc1N(C)C2C(=O)OCC', 'COc1ccc2c(c1)CC[C@@H]1[C@@H]2CCC2(C)[C@H]1C=C[C@@]2(O)CC#N', 'CC(C)c1ccc(-c2c(NCCC3=CCCCC3)c(=O)c2=O)cc1', 'CCc1ccc(CC(C(=O)O)c2ccc(N3CCCC3)cc2)cc1', 'CC(C)(C)OC(=O)NC(c1ccccc1)C1Cc2ccccc2C1', 'CCCCCC=Cc1ccc2ccc(C=CC(=O)N(C)O)cc2c1', 'C[C@@H]1CC2=C3C=C[C@@]4(C)[C@@H](CC[C@@]4(O)CC#N)[C@@H]3CCC2=CC1=O', 'NC(c1cccc(OCC2CC2)c1)c1cccc(OCC2CC2)c1', 'Cc1cc(C)c(C)c(O[C@@H](C)C(=O)N2CCc3ccccc3C2)c1', 'CCOc1ccc(NC(=O)C2(c3cccc(C)c3)CCCC2)cc1', 'C[C@@H](CC(=O)N1[C@H](c2ccccc2)COC1(C)C)c1ccccc1', 'Cc1cc(N)c2c(c1CC(=O)c1ccc(O)c(C(C)C)c1)CCC2', 'CNCCC1c2ccc(-c3ccc4c(c3)OCO4)cc2C(C)[C@H]1C', 'Cc1cccc(C(=O)N2CCC(C(O)c3ccccc3)CC2)c1C', 'C=C[C@@H](c1cccc(OCc2ccccc2)c1)[C@@H](C)C(=O)N(C)C', 'COc1ccc(C2CCCCN(C(=O)c3cccc(C)c3)C2)cc1', 'C=C(C)COc1cccc(C(=O)NC(C)CCc2ccccc2)c1', 'CCc1ccccc1NC(=O)[C@H](C)Oc1ccc2c(c1)CCCC2', 'COc1cc2c(cc1O)C(C1(c3ccccc3)CCC1)N(C)CC2', 'CC1(C)C(=O)N(Cc2ccccc2)C(O)(c2ccccc2)C1(C)C', 'CCOc1ccc2cc(COc3ccccc3)n(CC(C)C)c2c1', 'CCOc1ccccc1CCC(=O)N(Cc1ccccc1)C1CC1', 'Cc1ccccc1[C@H](O)[C@](C#N)(Cc1ccccc1)OC(C)(C)C', 'CCCCCCCNC(=O)C1c2ccccc2Oc2ccccc21', 'CCOc1ccc2c(c1)C(C)=CC(C)(C)N2c1ccc(OC)cc1', 'C=Cc1cccc2c1-c1c(C)cccc1C2NCCOCCOC', 'CCC=CC(C)OC(=O)CNC(c1ccccc1)c1ccccc1', 'CCCCOCC(O)CNc1cc2ccccc2c2ccccc12', 'CCOC(=O)C1CCCCCc2cccc(c2)-c2ncccc2C1', 'CC1CN(Cc2ccccc2)CC(COCc2ccccc2)C1=O', 'COc1ccc(C2(C(=O)Nc3c(C)cccc3C(C)C)CC2)cc1', 'CC[C@H](Oc1cc(C)ccc1C)C(=O)N1CCCc2ccccc21', 'CCN1CCO[C@@H]2c3ccc(OCc4ccccc4)cc3CC[C@H]21', 'Cc1ccc(C)c(C2CCCN2C(=O)CC(O)c2ccccc2)c1', 'CC[C@]1(CCCc2ccccc2)CN(c2ccc(OC)cc2)C1=O', 'CN(C)CCOc1ccc2c(c1)OC(C)(C)C=C2c1ccccc1', 'Cc1ccccc1N1C(=O)[C@@H]2[C@H](C1=O)[C@@]1(C)C=C[C@@]2(C(C)C)CC1', 'COCCN(CCOC)Cc1c2ccccc2cc2ccccc12', 'O=C(NCC1(O)Cc2ccccc2C1)C1=CC2CC/C=C\\\\CCC12', 'COc1c(C)c(C)cc2c1CC[C@H](NC(C)=O)c1cc(C)ccc1-2', '[H]/N=C(\\\\CCCCCC)c1cc(C)ccc1OC(=O)c1ccccc1', 'CCC/C(=C/NC(c1ccccc1)c1ccccc1)C(=O)OCC', 'CCCCOc1cccc(-c2ccoc2C2=CN3CCC2CC3)c1', 'Cc1ccc2c(c1)[C@@H]1[C@@H](O)[C@@H](CO)[C@@](C)(C[C@H]1c1ccccc1)N2', 'CCCCCc1ccc(/C=C/C(=O)c2c(N)cccc2O)c(C)c1', 'CC(C)CCOc1ccc2ccccc2c1CNCc1ccco1', 'CC(NC(=O)COc1ccc2ccccc2c1)C1CC2CCC1C2', 'CC[C@H](Oc1ccc(C)c(C)c1)C(=O)N1c2ccccc2C[C@@H]1C', 'Cc1cc(C)cc(O[C@H](C)C(=O)N[C@H]2CCCc3ccccc32)c1', 'CCC(=O)N1CCC[C@H]1C(OC)(c1ccccc1)c1ccccc1', 'Cc1cccc(CCC(=O)N2CCC(c3ccc(O)cc3)CC2)c1', 'CCCCC(C(=O)NCCc1ccccc1)C(=O)c1ccccc1', 'CCCOCc1ccccc1CNC(=O)C1CC1c1ccccc1', 'CCC1(CC)Cc2cc(OC)c(OC)cc2C(c2ccccc2)=N1', 'C=CCOc1ccc(C(=O)N[C@@H](CC)c2ccc(C)c(C)c2)cc1', 'O=C(NCc1ccccc1CO)C1CCC(c2ccccc2)CC1', 'Cc1ccc(C)c(CC(=O)N[C@H]2CC(C)(C)Oc3ccccc32)c1', 'CCCOc1ccc(/C=C/C(=O)Nc2ccc(C(C)C)cc2)cc1', 'O=C(c1ccccc1)c1ccc(CCCON2CCCCC2)cc1', 'CN(CC(O)C1CC1)C(=O)CC(c1ccccc1)c1ccccc1', 'COc1cccc(CCC(=O)N2CC[C@H](c3ccccc3)[C@H]2C)c1', 'COc1ccc(C(CC(=O)NC(C)c2ccccc2)C2CC2)cc1', 'c1ccc(CC2(c3ccccc3)OCC(C3CCCCN3)O2)cc1', 'C[C@H](OC(=O)C(c1ccccc1)N1CCCCC1)c1ccccc1', 'CCc1ccc(C2CN(C(=O)CCc3ccccc3)CCO2)cc1', 'CC(Oc1ccc2c(c1)CCCC2)C(=O)NCCc1ccccc1', 'C=C1CCC2[C@H]3Cc4ccc(O)c5c4[C@@]2(CCN3CC2CC2)C1O5', 'COCCN(Cc1ccccc1)C(=O)c1ccc2c(c1)CCCC2', 'O=C(O)C1(c2ccccc2)CCN(CCCc2ccccc2)CC1', 'O=C(Cc1cccc2ccccc12)N1CC[C@]2(O)CCCC[C@@H]2C1', 'CCCC[C@@H](CC)C(=O)Nc1ccc(C(=O)c2ccccc2)cc1', 'Cc1ccc(C)c(C(=O)N[C@@H]2CC(C)(C)Oc3ccc(C)cc32)c1', 'CC(CC(C(=O)N1CCOCC1)c1ccccc1)c1ccccc1', 'CN(CCC1CCOCC1)C(=O)c1ccc(-c2ccccc2)cc1', 'C[C@H](NC(=O)[C@H]1CCCC[C@@H]1c1ccc(O)cc1)c1ccccc1', 'O=C(c1ccccc1)C(OCCN1CCCCC1)c1ccccc1', 'CCCCCOc1ccc(/C=C/C(=O)NC)c(-c2ccccc2)c1', 'COC(=O)c1c(C2CCCC2)nc2ccccc2c1C1CCCC1', 'CC.CCOC(=O)c1[nH]c(-c2ccccc2)cc1-c1ccccc1.[H][H]', 'C[C@@H]1[C@H](C)CCC[C@H]1NC(=O)c1cccc(Oc2ccccc2)c1', 'O=C(O)C1CC2CCCCC2N1CCc1ccc2ccccc2c1', 'CC1=CCC(N)c2cc(C3=CC=C(C4=CCC(O)CC4)C3C)oc21', 'c1ccc(CN2CCCC3(CC2)OC[C@@H](c2ccccc2)O3)cc1', 'CCOc1ccccc1CCC(=O)N1CCCC1c1ccccc1', 'CCN(CC)Cc1ccccc1COC(=O)/C=C/c1ccccc1', 'CCOC(=O)CCCCCN1c2ccccc2Cc2ccccc21', 'O=C(O[C@H](CCN1CCCCC1)c1ccccc1)c1ccccc1', 'O=C(O)[C@@H](NCC1CCC(c2ccccc2)CC1)c1ccccc1', 'Cc1ccc(C(=O)C(C)N(C)C(=O)c2ccc(C)c(C)c2)cc1C', 'O=C(Cc1ccccc1)N1CCCC(COCc2ccccc2)C1', 'CCCOc1ccc(/C=C/C(=O)N(CC)Cc2ccccc2)cc1', 'CC(C)(C)c1cccc(OCC(=O)N2CCCc3ccccc32)c1', 'Cc1ccc(CCC(=O)OC2(c3ccccc3)CCNCC2)cc1', 'Cc1ccc(C(=O)N2CC(Cc3ccccc3)OCC2(C)C)cc1', 'CC[C@@H](C)c1ccccc1OCC(=O)N[C@@H]1CCc2ccccc21', 'C[C@@H]1C[C@H](CO)CCN1C(=O)Cc1ccc(-c2ccccc2)cc1', 'CC1(C(=O)NCCc2ccc(CO)cc2)CCCc2ccccc21', 'CCc1ccc(-c2c(CNCCOC)oc3ccc(C)cc23)cc1', 'C[C@H](OC(=O)/C=C/[C@@H](C)N(C)Cc1ccccc1)c1ccccc1', 'C=CC(=O)NC(CC)(CC(C)(O)c1ccccc1)c1ccccc1', 'CCCCc1ccc(-c2ccc3c(c2)CCCC3NC(=O)O)cc1', 'O=C(CCN1CCC(Cc2ccccc2)CC1)c1ccc(O)cc1', 'C[C@@H]1C[C@H](N(Cc2ccccc2)Cc2ccccc2)C[C@@H]1C(=O)O', 'OC1(c2ccc(OC3CC3)cc2)CCCN(Cc2ccccc2)C1', 'COc1ccc(C(=O)CN2CCCC(C)C2)cc1-c1ccccc1', 'CCC(=NOC)[C@@H]1[C@@H]2CCC(C[C@H]1c1ccc3ccccc3c1)O2', 'CN(CC1CCCC1O)C(=O)C1CC1c1ccc2ccccc2c1', 'COc1ccc(C=O)cc1-c1cc2c(cc1C)N(C(C)C)CCC2', 'c1ccc(C[C@H](NC2CCCCC2)c2ccc3c(c2)OCO3)cc1', 'COc1ccc(C2(C(=O)Nc3ccc(C(C)(C)C)cc3)CC2)cc1', 'COCc1cccc(NC(=O)/C=C/c2ccc(C(C)(C)C)cc2)c1', 'C[C@@H]1[C@H](C)CCC[C@H]1NC(=O)c1ccc(Oc2ccccc2)cc1', 'CCCNC[C@@H](O)c1oc2ccccc2c1CCc1ccccc1', 'CCCCOc1ccc(C(=O)N[C@H]2CCCc3ccccc32)cc1', 'CC(C)(C)OC(=O)N1c2ccccc2CCC1(C)c1ccccc1', 'CCc1ccc(CC(=O)N[C@@H]2CCCc3cc(OC)ccc32)cc1', 'C[C@H]1CN(Cc2cc3c(cc2O)CCC3)C[C@H](c2ccccc2)O1', 'CC(C)(C)c1ccc2c(c1)C1OCCC1C(c1cccc(O)c1)N2', 'COc1cc(C(=O)N2CCC(c3ccccc3)CC2)cc(C)c1C', 'O=C(NC1CCCCCC1)c1ccc(COc2ccccc2)cc1', '[C-]#[N+]c1ccc(Cc2c(C)cc(OC)c(CC(C)C)c2OC)cc1', 'COc1cc(C)c(C(=O)N2c3ccccc3C[C@@H]2C)cc1C(C)C', 'CCOC(=O)CC1CC(c2ccccc2)N(Cc2ccccc2)C1', 'Cc1ccc(C2CNC(=O)C(Cc3ccc(O)c(C)c3)C2)cc1C', 'CC(C)(C)CC(C)(C)NC(=O)c1cc2c(ccc3ccccc32)o1', 'O=C(Cc1ccc(-c2ccccc2)cc1)NC1CCC(CO)CC1', 'c1ccc(C(Oc2ccccc2CC2CC2)[C@@H]2CNCCO2)cc1', 'Cc1ccc2ccccc2c1CN1CC[C@]2(CCCO2)CCC1=O', 'CC(NC(=O)COCc1ccccc1)c1ccc2c(c1)CCCC2', 'CCOc1ccccc1NC(=O)C=Cc1ccc(C(C)(C)C)cc1', 'CN1CCC[C@@H](OC(=O)C(C)(c2ccccc2)c2ccccc2)C1', 'COc1ccc(C2(CNC(=O)c3cccc(C)c3)CCCC2)cc1', 'C=C/C=C(C)\\\\C=C/C.Cc1ccccc1CNc1c(C)c(=O)c1=O', 'CC[C@@H](Oc1ccccc1C)C(=O)N[C@@H]1CCCc2ccccc21', 'c1ccc2c3c(ccc2c1)OC1(N2CCOCC2)CCCCC1C3', 'O=C(COc1ccc(-c2ccccc2)cc1)NC1CCCCCC1', 'OC1c2ccccc2CCC1N1CCC(O)(c2ccccc2)CC1', 'C[C@@H](CC1CC[C@H](c2ccc(=O)[nH]c2)C1)c1ccc2c(c1)CCO2', 'COc1ccc2cc(C(=O)[C@@H]3CCCN(C4CCC4)C3)ccc2c1', 'Cc1cccc(CNC(=O)[C@@H](C)Oc2ccc3c(c2)CCCC3)c1', 'Cc1cc(C2CCC(N(C)C(=O)c3ccccc3)CC2)ccc1O', 'CC(Oc1ccccc1)C(=O)N1CCCCC(c2ccccc2)C1', 'COc1ccccc1CCNC(=O)Cc1ccc2c(c1)CCCC2', 'O[C@H](COc1ccc2c(c1)CCC2)CN1CCc2ccccc2C1', 'CCC(NC(=O)c1cccc(OC)c1)c1ccc2c(c1)CCCC2', 'CCOc1ccc2c(c1)C(C)=CC(C)(C)N2.O=Cc1ccccc1', 'CCc1ccc(C(C)(C(=O)O)c2ccc(N3CCCC3)cc2)cc1', 'CC(Oc1ccc(Cc2ccccc2)cc1)C(=O)N1CCCCC1', 'C[C@H](Oc1ccc2c(c1)CCCC2)C(=O)NCCc1ccccc1', 'Cc1cccc(/C=C/C(=O)NCc2ccccc2COC(C)C)c1', 'Cc1cccc(C(N)=O)c1C(c1ccccc1)C1(O)CCCCC1', 'CN1CCCC[C@H]1[C@H]1COC(c2ccccc2)(c2ccccc2)O1', 'CCOc1ccc(C(C)NC(=O)C2CCCc3ccccc32)cc1', 'Cc1cc(C)c(N(C=O)C(=O)[C@@H]2[C@@H](C)[C@H]3C=C[C@H]2C32CC2)c(C)c1', 'CC1CNCCC12OCC(C)(c1cccc(-c3ccccc3)c1)O2', 'Cc1c(COC(=O)NC2CCCCC2)cccc1-c1ccccc1', 'CCN(CC)c1c(OC)ccc2c1C=Cc1ccccc1C2(C)O', 'COCc1cccc(C(=O)N2CCCC2c2cc(C)cc(C)c2)c1', 'CCOC(=O)[C@H]1CCCN(Cc2ccc(-c3ccccc3)cc2)C1', 'CCN(C[C@@H]1CCOC1)C(=O)[C@@H]1C[C@@H]1c1ccc2ccccc2c1', 'CCOC(=O)C1Cc2ccccc2CN1Cc1ccc(CC)cc1', 'COc1cc2c(cc1[C@H](C)N(C)c1ccccc1)C=CC(C)(C)O2', 'CC1(c2ccccc2)CCC(NCc2ccc(C(=O)O)cc2)CC1', 'CCOC(=O)C1CN(Cc2ccccc2)CC1c1ccccc1C', 'CCN(CC)C(=O)OCC1=c2ccccc2=CC2(C)C=CC=CC12', 'COc1cccc(C2CCN2Cc2cc3c(cc2OC)CCC3)c1', 'Cc1ccccc1CN1CCCC1c1ccc2c(c1)OCCCO2', 'COC(CN1CCCCC1)(C(=O)c1ccccc1)c1ccccc1', 'CC/C(=C/C(=O)N(C)Cc1cccc(OC)c1)c1ccc(C)cc1', 'C=C1CC23C=C(C)CCC2Oc2c(OC)cc(C)c(c23)C(=C)N1C', 'COc1ccc(CC[C@@H]2CCN([C@@H](C)c3ccccc3)C2=O)cc1', 'Cc1ccc(OCC(=O)N2CCC(c3ccccc3)CC2)c(C)c1', 'Cc1ccc(C(c2cccc(C)c2)N2CCCCC2C(=O)O)cc1', 'CCc1cccc(CC)c1NC(=O)/C=C/c1cc(C)ccc1OC', 'CCOC(=O)N1CCCCC1C(c1ccccc1)c1ccccc1', 'CCOc1ccc(NC(=O)c2ccc(C3CCCCC3)cc2)cc1', 'Oc1ccc2c(c1O)CCC1C2CCCN1CCc1ccccc1', 'Cc1ccc(OCCN(C)C(=O)C2(c3ccccc3)CCC2)cc1', 'C=CCN1CC[C@@]23c4c5ccc(OC)c4OC2C(=C)CC[C@@H]3[C@@H]1C5', 'COC(c1ccccc1)C1CCN(C(=O)c2cccc(C)c2)CC1', 'COCc1cccc(C(=O)N(Cc2ccccc2)C(C)C2CC2)c1', 'COC1=C2C=COC2=NC3=C1C=CC=C3O', 'O=C(O)C1C(=O)C=CN=C1c1ccccc1', 'Nc1ccc2c(c1)Oc1cc(O)ccc1O2', 'O=[N+]([O-])c1ccc(C=Cc2ccco2)cc1', 'Oc1[nH]c(O)c2c1C=COc1ccccc1-2', 'CC(=O)c1ccc2cc(C(=O)O)cnc2c1', 'O=c1cc(C=Cc2ccccc2)oc(=O)[nH]1', 'Cc1nc(-c2ccco2)c(-c2ccco2)o1', 'O=[N+]([O-])c1cccc(-c2ccccc2O)c1', 'O=C(O)c1cccn1C(=O)c1ccccc1', 'O=C(O)c1ccc(-c2ccc[nH]c2=O)cc1', 'COC(=O)C1(C#N)Cc2ccccc2C1=O', 'N#CC1=Cc2cc3c(cc2OC1)OCCO3', 'C/N=C1\\\\C(=O)C(C(=O)O)=Cc2ccccc21', 'O=Cc1cccn1C(=O)Oc1ccccc1', 'Cc1cc2c(ccc3cc(C(=O)O)oc32)[nH]1', 'COC(=O)c1c(C=O)cnc2ccccc12', '[H]/N=C1\\\\C=C=Cc2oc(C)c(C(C)=O)c2C1=O', 'CC1=CC(=O)c2cc3c(cc21)oc(=O)n3C', 'N#Cc1ccc([C@@H](O)[C@@H]2C=CC(=O)O2)cc1', 'O=C(O)c1c(O)cccc1-c1ccccn1', 'O=Cc1cccn1-c1cccc(C(=O)O)c1', '[H]/N=C/C1=C(OC)C(=O)c2ccccc2C1=O', 'Cc1ccc2c(c1)[nH]c1cc(C(=O)O)oc12', 'O=C(O)/C=C/c1cc2ccccc2c(=O)[nH]1', 'O=C(O)/C=C/c1ccc2cccc(O)c2n1', 'COc1cc(C#CC#N)c(C=O)cc1OC', 'CC(=O)c1nc2ccccc2cc1C(=O)O', 'O=C(CC(=O)c1ccoc1)c1ccncc1', 'O=C(O)c1cc(-c2ccccc2)c[n+]([O-])c1', 'O=c1cc(-c2ccc3c(c2)OCO3)cc[nH]1', 'CCc1noc2c1ccc1oc(=O)ccc12', 'C=Cn1cc(C(=O)O)c(=O)c2ccccc21', 'COC(=O)c1ccc(O)c(C#CCC#N)c1', 'O=Cc1ccc(NC(=O)c2ccoc2)cc1', 'NC(=O)c1cccc2c(C(=O)O)cccc12', 'Cc1cc2c(C)c3ccc(=O)oc3nc2o1', 'O=C1OC(=O)C2C3NC(c4ccccc43)C12', 'N#CCOC(=O)C1=Cc2ccccc2OC1', 'CC1=CCC(=O)c2cc3oc(=O)[nH]c3cc21', 'N#CC(=CC=CC=Cc1ccoc1)C(=O)O', 'O=C(c1cccnc1)c1c(O)cccc1O', 'CC1=C[C@@H](Oc2ccc(C#N)cc2)OC1=O', 'Cn1c(C=O)cc2oc3c(O)cccc3c21', 'Cn1c(C=O)cc2oc3ccc(O)cc3c21', 'N#Cc1ccc(C2CC(O)=CC(=O)O2)cc1', 'O=C(O)c1cc(-c2ccncc2)ccc1O', 'COc1cc(C=O)cc(C#CCC#N)c1O', 'O=C(O)c1ccn(-c2ccccc2)c(=O)c1', 'O=[N+]([O-])C=Cc1cc2ccccc2cc1O', 'COc1c2[nH]ccc2cc2ccc(=O)oc12', 'O=C(O)c1ccccc1C(=O)n1cccc1', 'O=C(O)c1ccc(C=NO)c2ccccc12', 'O=C1CC(=O)/C(=C\\\\c2ccccc2)C(=O)N1', 'O=C1C2=C(CN(O)C2)C(=O)c2ccccc21', 'O=C(O)c1ccccc1-c1ccc(=O)[nH]c1', 'NC(=O)c1ccoc1C(=O)c1ccccc1', 'O=C(Oc1cc(=O)cc[nH]1)c1ccccc1', 'CC(=O)c1ccc2ccc(C(=O)O)nc2c1', 'CC1=CC(=O)N(c2cccc(C=O)c2)C1=O', 'Cc1ccc2c(c1)oc1cc(C(=O)O)[nH]c12', 'COc1c2ccoc2nc2cccc(O)c12', 'O=C(O)C(=O)Nc1cccc2ccccc12', 'C#Cc1cccc(NC(=O)/C=C\\\\C(=O)O)c1', 'N#C/C(=C\\\\c1ccc(C=O)cc1)COC=O', 'COc1ccc(C#N)c(C#CCC(=O)O)c1', 'O=C(O)c1cnc2cc3c(cc2c1)OCC3', 'O=C1CC(c2ccc3[nH]ccc3c2)C(=O)O1', 'C=c1onc(-c2ccc(C(=O)O)cc2)c1=C', 'CC#CC(O)N1C(=O)c2ccccc2C1=O', 'NOC(=O)c1ccc2cc(C=O)ccc2c1', 'O=C(O)c1cccc(-c2cccc[n+]2[O-])c1', 'O=C(Oc1cccc(O)c1)c1cccnc1', 'Cc1cc(C#N)c(C=O)c(/C=C/C(=O)O)c1', 'Oc1ccc2c(c1)Oc1cc(O)ccc1N2', 'NCc1cc2cc3ccc(=O)oc3cc2o1', 'O=C(O)Oc1cncc(-c2ccccc2)c1', 'O=C1C=C(c2ccc3c(c2)COC3)C(=O)N1', 'COC(=O)c1ccc2nc(C=O)ccc2c1', 'O=C(O)c1cn2c3c(cccc3c1=O)CC2', 'O=C(O)C=Cc1cc2ccccc2c(=O)[nH]1', 'N#CC1(c2ccc3c(c2)OCO3)CC(=O)C1', 'O=C(O)c1cccc(/C=C/c2ncco2)c1', 'O=Cc1cccc(NC(=O)c2ccoc2)c1', 'Cc1cc(Oc2ccc3occc3c2)no1', 'CC1=C/C(=N/C(=O)c2ccco2)C=CC1=O', 'O=CC=Cc1ccc2cc(C(=O)O)[nH]c2c1', 'Cc1oc2nc3oc(=O)ccc3cc2c1C', 'Cc1coc2nc3oc(=O)ccc3c(C)c12', 'C=C/C=c1\\\\c(=C)oc(=O)c2cc(C=O)[nH]c12', 'O=Cc1c[nH]c2cccc(C=CC(=O)O)c12', 'O=[N+]([O-])c1ccc(Oc2ccccc2)cc1', 'O=C(O)C=Cc1ccc2cccc(O)c2n1', 'O=C(O)C1N=CC2=C1c1ccccc1OC2', 'O=C1C=CC(=O)N1c1cccc2c1OCC2', 'CC(=O)C1=CC(=O)N(c2ccccc2)C1=O', 'O=C(O)c1cccc(-c2ccc[nH]c2=O)c1', 'COc1cc(C#CCC#N)cc(C=O)c1O', 'O=C1Nc2ccccc2C1(O)c1ccoc1', 'O=[N+]([O-])c1ccc(/C=C/c2ccco2)cc1', 'COc1ccc(CC(=O)O)cc1C#CC#N', 'O=C(Oc1cc[nH]c(=O)c1)c1ccccc1', 'N#CCC(=O)c1ccc(C=CC(=O)O)cc1', 'O=C(/C=C\\\\c1ccccn1)c1occc1O', 'COc1ccc2ccc(N=O)c(C=O)c2c1', 'O=C(O)c1ccc(-n2ccccc2=O)cc1', 'O=CNc1cc2ccccc2cc1C(=O)O', 'C=CCN1C(=O)C(=O)c2ccccc2C1=O', 'O=C(O)c1c[nH]c(C(=O)c2ccccc2)c1', 'Cn1c(C=O)cc2c3ccc(O)cc3oc21', 'N#Cc1ccc2c(CCC(=O)O)occ2c1', 'O=CC1=NCCC12OC(=O)c1ccccc12', 'N#CC(C=Cc1ccccc1)=COC(=O)O', 'C#Cc1cccc(NC(=O)/C=C/C(=O)O)c1', 'N#Cc1ccc2c(c1)C=C(C(=O)O)CCO2', 'CC#CC#CC(=O)Nc1cccc(O)c1O', 'O=C(Oc1ccccc1)Oc1ccccn1', 'Cn1c(=O)c2c(c3ccccc31)OC(=O)C2', 'Cc1nc2ccccc2c2c1C(O)OC2=O', 'O=Nc1cccc(O)c1-c1ccccc1O', 'C=C1CC(=O)N(c2ccc(C=O)cc2)C1=O', 'COc1cccc2c(=O)c3ccoc3[nH]c12', 'O=[N+]([O-])c1ccc2c(c1)OC1CC=CC=C21', 'COC(=O)C#Cc1ccc(OC)c(C#N)c1', 'Cc1ccc2c(O)c(C#N)c(=O)oc2c1C', 'COC(=O)c1ccc2c(C)c(C#N)oc2c1', 'C#CC(=O)N1Cc2ccc(C(=O)O)cc2C1', 'CC(=O)c1c([N+](=O)[O-])ccc2ccccc12', 'O=C1Nc2ccc(O)cc2C1c1ccoc1', 'COC(=O)C(=O)C=Cc1ccc(C#N)cc1', 'O=C1C(=O)c2cccc3c2N(CCC3)C1=O', 'O=c1ccccn1-c1ccc2c(c1)OCO2', 'O=c1ccccn1C1Oc2ccccc2O1', 'Oc1ccc(-c2ccc3c(c2)OCO3)nc1', 'O=C(O)c1ncccc1-c1ccccc1O', 'O=C1C2=C(OCCN2)C(=O)c2ccccc21', 'CNCC#Cc1ccc2c(c1)C(=O)OC2=O', 'O=C(O)c1ccccc1/N=C/c1ccco1', 'O=[N+]([O-])c1ccccc1C=Cc1ccco1', 'O=C(O)c1cc(O)cnc1-c1ccccc1', 'O=C(O)c1ccc(-c2cc[n+]([O-])cc2)cc1', 'C#CCCC#COc1ccc([N+](=O)[O-])cc1', 'O=C(C#Cc1cccc([N+](=O)[O-])c1)C1CC1', 'COc1ccc2nc3c(cc2c1)COC3=O', 'Oc1cc2c([nH]c3ccccc32)c(O)c1O', 'C1=COC(c2ccc(-c3ccccn3)o2)O1', 'NC(=O)c1ccc(-c2ccc(C=O)o2)cc1', '[H]/N=c1\\\\cc(/C(C=O)=C/O)oc2ccccc12', 'O=C(O)c1ccnc(-c2cccc(O)c2)c1', 'O=[N+]([O-])c1ccc(/C=C/c2ccoc2)cc1', 'O=C(O)c1cncc(-c2ccc(O)cc2)c1', 'C=Cc1cccc2c1C(=O)C(C(=O)O)C=N2', 'O=C1NOC(c2ccc3ccccc3c2)O1', 'O=C(OC(=O)c1cc[nH]c1)c1ccccc1', 'N#Cc1ccccc1C=CC(=O)CC(=O)O', 'Oc1ccc2c(c1)OC1=CC(O)C=CC1=N2', 'O=CCc1ccc2ccccc2c1[N+](=O)[O-]', 'C=C1C=c2ccc(C(=O)OC)cc2=NC1=O', 'O=C1CC=CN=C1c1ccc(C(=O)O)cc1', 'O=C(O)c1cc(=O)cc(-c2ccccc2)[nH]1', 'CC(=O)c1ccc2ncc(C(=O)O)cc2c1', 'NC(=O)c1ccc2ccccc2c1C(=O)O', 'O=C(c1ccccc1)c1cc[nH]c1C(=O)O', 'CC1=CC(=O)c2cc3oc(=O)n(C)c3cc21', 'Cc1cc(C#N)c(/C=C/C(=O)O)c(C=O)c1', '[CH]c1cccc(-c2nc(C(=O)OC)co2)c1', 'CC#CC#CC(=O)Nc1cc(O)ccc1O', '[O-][n+]1cccc(C2Oc3ccccc3O2)c1', 'O=C=NC1(C(=O)O)C=Cc2ccccc2C1', 'COc1ccc(C#N)cc1C#CCC(=O)O', 'Nc1ccc2ccccc2c1C(=O)C(=O)O', 'O=[N+]([O-])/C(=C/c1ccco1)c1ccccc1', 'N#CCc1cc2c(cc1C#CCO)OCO2', 'NC(=O)/C=C(\\\\C(=O)O)C1=Cc2ccccc21', 'O=Cc1nccc2cc3c(cc12)OCCO3', 'O=C(O)C(=O)N1C=CC=c2ccccc2=C1', '[3H]O/C(=C/[N+](=O)[O-])c1ccc2ccccc2c1', 'N#C/C(=C\\\\C=C\\\\C=C\\\\c1ccco1)C(=O)O', 'ON(O)c1cccc2c1oc1ccccc12', 'CC(=O)Oc1ccc2ccnc(C=O)c2c1', 'Cc1cc(=O)c2c(ccc3c(C)noc32)o1', 'O=C(O)c1ccc(/N=C/c2ccco2)cc1', 'Cn1c2c(c3ccccc31)C(O)=C(O)C2=O', 'O=C(O)c1cc2cc3c(cc2[nH]1)OCC=C3', 'O=C=C1c2ccccc2C=CN1CC(=O)O', 'C=Cc1cccc2[nH]c(C(=O)O)cc(=O)c12', 'NC(=O)c1ccc2cc(C(=O)O)ccc2c1', 'O=c1[nH]c2c(cc1O)-c1ccccc1CO2', 'COC1(C#N)C(=O)C=Cc2cccc(O)c21', 'NC(=O)c1cc(=O)cc(-c2ccccc2)o1', 'Cc1nc2c(ccc3c(C)cc(=O)oc32)o1', 'NC(=O)CC#Cc1cc(C=O)cc(C=O)c1', 'CCOc1ccc2c(=O)c(C#N)coc2c1', 'CN1C(=O)C2(C=CC(=O)O2)c2ccccc21', 'O=C1C=C(CC(=O)c2ccccc2)C(=O)N1', 'COc1cc(C=O)cc(C#CC#N)c1OC', 'O=C(O)c1noc2c1CCc1ccccc1-2', 'N#Cc1ccc([C@H](O)[C@H]2C=CC(=O)O2)cc1', 'O=C1CCc2c[nH]c3cccc(c23)C(=O)O1', 'O=CCC=Cc1cccc2c1C(=O)C(=O)N2', 'O=C1NC(=O)[C@H]2[C@@H]1[C@@H]1O[C@H]2c2ccccc21', 'COC1OC(=O)c2cc3ccccc3nc21', 'N#CC(=CC1=C2C=COC=C2CC1)C(=O)O', 'NC1=Cc2oc3ccc(C(=O)O)cc3c2C1', 'COC(=O)c1cc(C#CCC#N)ccc1O', 'O=C(O)c1ccc(C(=O)c2ccc[nH]2)cc1', 'O=C(c1ccccc1O)c1ccc[nH]c1=O', 'O=C(O)N1C=Cc2c(oc3ccccc23)C1', 'O=Cc1ccc(NC(=O)c2ccccc2)o1', 'O=[N+]([O-])c1cccc(-c2cccc(O)c2)c1', 'O=CNC(=O)c1cc2ccccc2cc1O', 'O=C(O)c1cc[n+]([O-])c(-c2ccccc2)c1', 'N#CC1(C(=O)c2ccc3c(c2)OCO3)CC1', 'O=C(O)c1cc2cccc3c2n(c1=O)CC3', 'Oc1ccc2c(c1O)Nc1ccccc1O2', 'O=C(O)c1ccc(-c2cncc(O)c2)cc1', 'O=C(O)c1cccnc1-c1ccccc1O', 'Cc1cc(-c2ccco2)cc(C=O)c1N=O', 'COC(=O)C#Cc1cccc2c1CNC2=O', 'N#C/C(=C\\\\c1ccc2c(c1)CCO2)C(=O)O', 'C[C@@H](C#N)Oc1ccc2ccc(=O)oc2c1', 'Cc1ccc2c(c1)oc(=O)c1c(C)noc12', 'O=C(O)c1onc2c1CCc1ccccc1-2', 'O=[N+]([O-])/C(=C\\\\c1ccco1)c1ccccc1', 'NCC(=O)c1cc2ccoc2c2occc12', 'O=N[C@H](C(=O)O)c1ccc2ccccc2c1', 'O=C(O)c1cc(-c2ccccc2O)ccn1', 'CC1=C2C=C3OC(=O)NC3C=C2C(=O)C=C1', 'O=C(O)C(=O)Cc1cc2ccccc2cn1', 'Cc1occ2c1c(=O)n(O)c1ccccc21', 'O=C(O)c1[nH]c(=O)ccc1-c1ccccc1', 'O=C(O)c1cccc(-c2cc(=O)cc[nH]2)c1', 'NCC(=O)C1=CC(=O)c2ccccc2C1=O', 'CCOc1cc(C=O)cc(C#CC#N)c1O', 'CNCC#Cc1cccc2c1C(=O)OC2=O', 'C=C(C(=O)c1ccco1)c1ccc(=O)[nH]c1', 'O=Cc1ccc(C23CC2C(=O)NC3=O)cc1', 'Cc1c(C=O)cc(C#N)cc1/C=C/C(=O)O', 'Cc1cccc2[nH]c3oc(C(=O)O)cc3c12', 'O=CCC=Cc1ccc2c(c1)C(=O)NC2=O', 'O=c1[nH]c(=O)c2c(o1)-c1ccccc1CC2', 'O=C(O)c1ccc2n1-c1ccccc1OC2', 'CC(=O)c1cc(C)c(O)c2oc(C#N)cc12', 'NC(=O)C=C(C(=O)O)C1=c2ccccc2=C1', 'O=C1c2c([nH]c3ccccc23)[C@H]2CO[C@@H]1O2', 'O=C(c1ccccc1)c1c[nH]c(C(=O)O)c1', 'COC(=O)c1cccc2c(C=O)ccnc12', 'O=c1ccc2ccccc2o1.c1cnoc1', 'N#CCC#Cc1ccc(OCC(=O)O)cc1', 'O=C(O)c1coc(C2Cc3ccccc32)n1', 'COC(=O)C#Cc1ccc2nc(C)oc2c1', 'C=CC(=O)n1ccc2cc(C(=O)O)ccc21', 'O=Cc1ccc(C(=O)c2ccc(O)cc2)[nH]1', 'O=Cc1occc1C(=O)Nc1ccccc1', 'C=CC(=O)Nc1cc2ccccc2oc1=O', 'O=C(O)c1ccc(C(=O)c2ccccc2)[nH]1', 'CC1=NC2=C(C=CN=C2)C(=N1)N3CC(C3)CN(C)S(=O)(=O)C', 'COCc1nc(C(=O)N2CCN(c3nccn3C)CC2)cs1', 'Cc1cc(N2CCC[C@@H](c3[nH]ncc3S(C)(=O)=O)C2)ncn1', 'CCc1nnsc1C(=O)N1CCN(Cc2cc(C)no2)CC1', 'CCCc1sc(C(=O)OCc2nc(N)nc(N)n2)cc1CC', 'CC(N)C(=O)N1CCN(Cc2cc(=O)n3ccsc3n2)CC1', 'CSCC[C@H](CO)NC(=O)[C@H](c1ccccc1)n1cnnn1', 'CCn1nccc1CN1CCc2nc(S(C)(=O)=O)ncc2C1', 'CCCCCNc1nc(SCC)nc2ncc([N+](=O)[O-])cc12', 'CNc1snc(C)c1C(=O)N1CCCC(c2noc(C)n2)C1', 'O=C(NCCN1CCOCC1)Nc1nc2ccc(S)cc2[nH]1', 'Cc1cc([N+](=O)[O-])cnc1N1CCN(C2=NCC(C)S2)CC1', 'COCCc1cnc(NC(=O)N2CCCc3n[nH]c(C)c32)s1', 'CCN(CC)C(=O)Cn1cc(C(=O)NCc2ccsc2)nn1', 'CCn1cnnc1CNC(=O)CC(NC(C)=O)c1cccs1', 'CSCC[C@@H](CO)NC(=O)c1ccc(Cn2cnnn2)cc1', 'C[C@@H](c1nnnn1C1CCCCC1)S(=O)(=O)c1ccccn1', 'CSc1ncnn2ccc(CNC3CCN(C(=O)O)CC3)c12', 'CCn1ncc(S(=O)(=O)N2CCCC2c2cnccn2)c1C', 'Cc1nnc(SCc2ccc(OCC(=O)N(C)C)cc2)n1N', 'Cn1cnn(CC(=O)Nc2nc3c(s2)CC(C)(C)CC3)c1=O', 'CCc1nnsc1C(=O)N1CCOC(c2nc(C)cn2C)C1', 'CN(C)Cc1nc(C2(NC(=O)c3ccns3)CCCC2)no1', 'C=C1C=CC(=N/N=c2/sc(N(C)CCO)nn2C)C=C1OC', 'Cc1nn(C)c2ncc(S(=O)(=O)N3C[C@H]4CNC[C@H]4C3)cc12', 'Cc1occc1-c1nnc(SCC(=O)N2CCCCC2)n1N', 'CCN1CCN(S(=O)(=O)c2cccnc2)C[C@H]1c1ncc[nH]1', 'C/N=C(\\\\NCCNC(=O)c1ccco1)NCc1ncc(C)s1', 'CCOc1ccccc1NC(=O)CSc1nnc(CC)n1N', 'CC(NC(=O)CSc1nnnn1C1CCCC1)c1ccco1', 'Cc1sc(=O)n(CCC(=O)Nc2cncnc2N(C)C)c1C', 'CC(=O)Nc1nc(C)nc(NC(C)COCc2ccsc2)n1', 'CSCCC(=O)Nc1cc(N2CCOCC2)n2nccc2n1', 'Cc1nc(CN2CCc3nc(S(C)(=O)=O)ncc3C2)[nH]c1C', 'CC(=O)NCc1cnc([C@@H]2CN(Cc3cncs3)CCO2)[nH]1', 'Cc1cc(C)n(CC(=O)NCCCc2csc(N)n2)c(=O)n1', 'Cc1cc(-c2ncc(C)[nH]2)nc([C@@H]2CCCN2S(C)(=O)=O)n1', 'CCCn1nnnc1C[S@](=O)[C@H](C)C(=O)Nc1ccccc1', 'Cc1nnc(CN2CCCC(c3ccn(CC(=O)O)n3)C2)s1', 'CC(C)(C)OC(=O)C1(CNc2nc(N)c3ncsc3n2)CC1', 'CCN1CCN(S(=O)(=O)c2cnn(-c3ccccn3)c2)CC1', 'COc1ccc(CNC(=O)CSc2nncn2C(C)C)cn1', 'Cn1cc(-c2nsc(NC(=O)CC3(O)CCCCC3)n2)cn1', 'Cc1nc(-c2ccc(NS(=O)(=O)N3CCCC3C)cc2)n[nH]1', 'CN(Cc1ncc[nH]1)c1ccc(S(=O)(=O)N2CCCC2)cn1', 'CC1CCCN(S(=O)(=O)c2ccc(-n3cnnn3)cc2)CC1', 'Cc1csc(CC(=O)NCC2(c3nn[nH]n3)CCOCC2)c1', 'NC(=O)c1cccnc1N1CCN(C(=O)C2CSCN2)CC1', 'Cc1ccnc([C@@H]2CCCN(S(=O)(=O)c3cn(C)cn3)C2)n1', 'Cn1cnc(S(=O)(=O)N[C@@H]2CCCN(c3ccccn3)C2)c1', 'Cc1nc(SCC(=O)NCCCn2c(C)cccc2=O)n[nH]1', 'CC(C)(NC(=O)c1cccc(OCCN)c1)c1nnc(N)s1', 'CC(C)CC(NC(=O)c1cnn(C)c1)C(=O)Nc1nccs1', 'Cn1c(-c2ccco2)nn(CN2CCC[C@@H](C(N)=O)C2)c1=S', 'COc1ccc(Cn2nnnc2SC(C)C(=O)N(C)C)cc1', 'CC(=O)NCCNC(=O)CCNc1ncnc2sc(C)cc12', 'CC(O)CCN(C)Cc1nnc2n(C)c(=O)c3sccc3n12', 'CN(c1cnccn1)S(=O)(=O)c1cn(C)nc1C1CCCC1', 'O=S(=O)(c1cccnc1)N1CCN(CCn2ccnc2)CC1', 'Cc1noc(C2CCN(C(C)C(=O)Nc3nccs3)CC2)n1', 'Cc1c(S(=O)(=O)N2CCC[C@@H](c3cnccn3)C2)cnn1C', 'Cc1nc(-c2ccncc2)ncc1[C@@H](C)NS(=O)(=O)N(C)C', 'Cc1cc(-c2cncc(C[C@@H]3CCN(S(C)(=O)=O)C3)n2)n[nH]1', 'OCCn1c(-c2ccncc2)nn(CN2CCOCC2)c1=S', 'CC(=O)N(C)c1nc(CN2CCC[C@H]2c2noc(C)n2)cs1', 'Cc1ccnc(N2CCN(C3=NC[C@@H](C)S3)CC2)c1[N+](=O)[O-]', 'CCN(CC)C(=O)CSc1nncn1-c1ccc(OC)nc1', 'CCn1cnnc1CNC(=O)C[C@H](NC(C)=O)c1cccs1', 'N#C/C(=C/NC1=NCCS1)C(=O)NCCCN1CCCC1=O', 'NO/C(=N\\\\Sc1ccc(N)cc1)N1CC2(C=N1)CCOCC2', 'Cc1cc(-c2nccn2C)nc([C@H]2CCCN2S(C)(=O)=O)n1', 'CCN1CCN(S(=O)(=O)c2cccnc2)CC1c1ncc[nH]1', 'O=C(Nc1ccsc1)N[C@H]1CCCC[C@H]1n1cc(CO)nn1', 'CCn1ccnc1[C@H]1OCCC[C@@H]1NC(=O)c1nnc(C)s1', 'CNS(=O)(=O)c1ccccc1N1CCCC(n2cncn2)C1', 'CC(Sc1nnnn1-c1ccc(O)cc1)C(=O)NC(C)(C)C', 'CCOc1ncccc1C(=O)Nc1nnc(CCN(C)C)s1', 'CC(Sc1nnnn1C1CCCC1)C(=O)NCc1ccco1', 'CC(C)OCCCNc1ccc(C(=O)Nc2nncs2)cn1', 'CC(C)NC(=O)C1CCN(c2nc3nc[nH]c(=O)c3s2)CC1', 'CCN(CC)c1ccc(/N=N/C2SC=CN2C)c([N+](=O)[O-])c1', 'CCN(CC)C(=O)CCSc1nnnn1-c1ccccc1O', 'CC(C)c1nsc(N2CCC(n3cc(C(=O)O)cn3)CC2)n1', 'Cc1cc(C)cc(Nc2ccc(NS(=O)(=O)N(C)C)nn2)c1', 'CCc1nnc(SCC(=O)Nc2cc(C)ccc2OC)n1N', 'Cc1cc(NC(=O)CN2CCN(c3nccs3)[C@@H](C)C2)on1', 'CCS(=O)(=O)N1CCc2ncnc(-c3cnn(C)c3)c2CC1', 'CS(=O)(=O)N1CCN(Cn2nccc2-c2ccncc2)CC1', 'Cc1cc(-c2cc(C)[nH]n2)nc(C2CCN(S(C)(=O)=O)C2)n1', 'CCCCNC(=O)c1cc(=O)nc2sc(N3CCCC3)nn12', 'NCCC(=O)N1CCN(Cc2nc(-c3cccs3)no2)CC1', 'CN(C)S(=O)(=O)N1CCN(c2cnc3ccccc3n2)CC1', 'Cc1nn(C)cc1-c1ccnc(NCC2CCS(=O)(=O)C2)n1', 'Cc1nc(-c2ncc[nH]2)cc(C2CCCN(S(C)(=O)=O)C2)n1', 'Cc1cc(-n2ccnc2)nc([C@H]2CCCN(S(C)(=O)=O)C2)n1', 'Cc1nnc(C/N=C2/C=C(OCC3CC3)NN(C)C(=O)C2)s1', 'CCN1CCc2nc(NC(=O)C3=NN(C)C(=O)CC3)sc2C1', 'Cc1nccc(CN2CC[C@H](c3[nH]ncc3S(C)(=O)=O)C2)n1', 'Cc1nc(N(C)C(=O)OC(C)(C)C)sc1-c1ccnc(N)n1', 'COCC(C)NC(=O)CSc1nnc(-c2ccccc2)n1N', 'Cn1cc(C(=O)NC[C@H](c2ccco2)N2CCSCC2)nn1', 'Cn1ccc2nccc(N3CC4(CC(NS(N)(=O)=O)C4)C3)c21', 'CCc1nnc(CNC(=O)N(C)Cc2cc(C3CC3)on2)s1', 'C[C@@H](C(=O)Nc1nccs1)N1CCO[C@H](Cn2cccn2)C1', 'C[C@@H](C(=O)Nc1nccs1)N1CCO[C@@H](Cn2cccn2)C1', 'COc1ccc(Cn2nnnc2SCC(=O)NC(C)C)cc1', 'Cc1c(CN2C[C@@H](O)[C@H](NC(=O)c3cscn3)C2)cnn1C', 'CC1CCC(NC(=O)Cn2nnn(-c3cccs3)c2=O)CC1', 'CN(Cc1nnc2n(C)c(=O)c3sccc3n12)CC(C)(C)O', 'Cc1cnn(CCNC(C)C(=O)Nc2sccc2C(N)=O)c1', 'CNc1cccc([C@H]2CCCN(S(=O)(=O)c3cn[nH]c3)C2)n1', 'Cc1cc(-c2cnc([C@@H]3CCCN(S(C)(=O)=O)C3)cn2)n[nH]1', 'CC(NCc1nnnn1C1CC1)c1ccc(S(C)(=O)=O)cc1', 'Cc1cc(S(=O)(=O)N2CCCC[C@@H]2C)ccc1-n1cnnn1', 'Cc1cc(C)n2c(SCC(=O)NC(=O)C(C)(C)C)nnc2n1', 'Cc1cccc(CS(=O)(=O)Cc2nc(N)nc(N(C)C)n2)c1', 'CSN1CCC(Nc2ncc3cc(CO)c(=O)[nH]c3n2)CC1', 'CC(C)NC(=O)[C@H]1CCCN(c2nc3nc[nH]c(=O)c3s2)C1', 'COCc1ncsc1C(=O)N1CCNCC1c1nccn1C', 'CC(=O)Nc1nc(C(=O)Nc2cc(CC(C)(C)C)[nH]n2)cs1', 'CC(C)c1scnc1C(=O)N1CCC[C@H](c2n[nH]c(=O)[nH]2)C1', 'CNCCC1CCN(c2ncnc3sc([N+](=O)[O-])cc23)CC1', 'Cc1cc(C)nc([C@@H]2CCCN2S(=O)(=O)c2cn(C)cn2)n1', 'CN(C)CCn1ccc(NC(=O)CNC(=O)c2cccs2)n1', 'O=S(=O)(NCc1cn(-c2cccnc2)nn1)C1CCCCC1', 'Cc1nc(S(=O)(=O)N2CCC(Nc3cccnc3)C2)cn1C', 'CCCc1nc([C@H]2CN(C(=O)c3cnc(C)s3)CCO2)n[nH]1', 'Cc1cc(-n2ccnc2)nc([C@H]2CCCCN2S(C)(=O)=O)n1', 'CCCNC(=O)C(C)Sc1nnnn1-c1ccccc1OC', 'Cc1nc2c(s1)CCC[C@H]2CNC(=O)Cn1ncn(C)c1=O', 'COc1ccc(C)cc1NC(=O)CSc1nnnn1C(C)C', 'Cc1nc(C2(NC(=O)c3csc(CCN)n3)CCCC2)no1', 'CCOc1nnc(CN2CCc3nn(CC)c(=O)cc3C2)s1', 'CN(C)S(=O)(=O)N1CCC[C@@H]1c1cccc(-n2ccnc2)n1', 'Cc1cnc(NC(C)C)nc1Nc1cccc(S(N)(=O)=O)c1', 'Cc1cc(=O)[nH]c(SC(C)C(=O)N(C)Cc2cn[nH]c2C)n1', 'COc1ccc(/C=N/Nc2nc(SC(C)C)n[nH]2)cc1OC', 'Cn1c(SCCCCCC(=O)NO)nnc1-c1ccncc1', 'Cc1nc(C)n(C2CN(C(=O)CCn3c(C)csc3=O)C2)n1', 'Cc1nc(-c2ncc[nH]2)cc(C2CCCCN2S(C)(=O)=O)n1', 'Cc1nc(-c2ccnn2C)cc([C@H]2CCCN2S(C)(=O)=O)n1', 'Cc1cnc(N)c(S(=O)(=O)N2CCC(c3nccn3C)C2)c1', 'C[C@@H](NC(=O)NC1(C(N)=O)CCCC1)c1cn2ccsc2n1', 'CN(C)S(=O)(=O)N(Cc1ccc(-n2cncn2)cc1)C1CC1', 'Cc1nc(N2CCN(C(=O)C3=NNC(=O)CC3)CC2)sc1C', 'CCc1ccc(Nc2ccc(NS(=O)(=O)N(C)C)nn2)cc1', 'CCN(CC)CCNc1nnc(-c2cccc([N+](=O)[O-])c2)s1', 'O=S(=O)(NCc1ccnc(-n2cccn2)c1)N1CCCCC1', 'CNc1ccnc(NCc2ccc(S(=O)(=O)N(C)C)cc2)n1', 'Cc1ccnc(N2CCN(C3=NCC(C)S3)CC2)c1[N+](=O)[O-]', 'CN(C)[C@H](CNC(=O)Nc1nnc(C2CC2)s1)c1ccco1', 'c1ncn(Cc2nnc(SCC3CCC4(CCCC4)O3)o2)n1', 'Cn1nccc1-c1nccnc1C1CCCN(S(C)(=O)=O)C1', 'CC[C@H]1O[C@@H](n2cnc3c(N)ncnc32)[C@@]2(O)C(C)(C)[C@@]12S', 'CSCCC(CO)NC(=O)C(c1ccccc1)n1cnnn1', 'Cn1cc(S(=O)(=O)N2CCn3nccc32)c(C2CCCC2)n1', 'O=S(=O)(NCc1ccccc1)NCc1nnc2n1CCCC2', 'CSCC[C@@H](CO)NC(=O)[C@H](c1ccccc1)n1cnnn1', 'Cc1nc(N(C)C)ncc1C(=O)N(CCO)Cc1nccs1', 'CS(=O)(=O)N1CCCC(Cc2cc(-c3ncc[nH]3)ncn2)C1', 'Cc1cc(C)nc(CNC(=O)N(CCO)Cc2nccs2)n1', 'CC(C)c1nnc(CN2CCCC2C(=O)Nc2nccs2)o1', 'Cc1cc(N2CCC[C@H](c3[nH]ncc3S(C)(=O)=O)C2)ncn1', 'CN(C)S(=O)(=O)Nc1ccc2c(c1)N(Cc1cnc[nH]1)CC2', 'CS(=O)(=O)N1CCC[C@@H]1CCc1cc(-n2ccnc2)ncn1', 'C/N=C(/NCc1ccc(C(N)=O)o1)NCc1sc(C)nc1C', 'Cc1ccc(NCCn2c(C(C)C)n[nH]c2=S)c([N+](=O)[O-])c1', 'COc1cnc(OC2CCN(c3nc(C(C)C)ns3)C2)nc1', 'CCc1nnsc1C(=O)N1CCO[C@H](c2nc(C)cn2C)C1', 'COC(=O)c1sc(N2CCC[C@@H](C)C2)nc1-c1ncnn1C', 'CCOC(=O)C(=N/Nc1ccc(C)cc1)/C(C)=N\\\\NC(N)=S', 'CCOc1ccc(NC(=O)[C@H](C)Sc2nnc(C)n2N)cc1', 'CN1CCC(N(C)c2nccc(/C=C3\\\\SC(=O)NC3O)n2)C1', 'CC(=O)c1c(C)[nH]c(C(=O)NCCc2n[nH]c(=S)n2C)c1C', 'O=S(=O)(c1ccccc1)N1CCN(CCn2nccn2)CC1', 'O=C(CN1CCSC1=O)NC1CCCN(c2ncccn2)C1', 'O=C1CCSCC(C(=O)N2CCN(c3ncccn3)CC2)N1', 'CS(=O)(=O)N1CCCC(Cc2nccnc2-c2cn[nH]c2)C1', 'CSc1nc(C)c(CC(=O)NCCn2ccc(C)n2)c(=O)[nH]1', 'CCOc1nnc(CN2CCC[C@@H]2c2noc(C3CC3)n2)s1', 'CCCc1cc(=O)n2nc(NCCNC(=O)C3CC3)sc2n1', 'Cn1cc(-c2cncc(C3CCN(S(C)(=O)=O)CC3)n2)cn1', 'CCOc1ccccc1NC(=O)C(C)Sc1nnc(C)n1N', 'OCC1CN(C(=S)N/N=C2/CCOc3cccnc32)CCN1', 'Cc1nc(CC(=O)N2CCN(Cc3nonc3C)CC2)cs1', 'CCCCc1nc2c(c(=O)n(C)c(=O)n2C)n1CCSC#N', 'Cc1cc(C)n2nc(SCC(=O)NCC3CCCO3)nc2n1', 'N#CCN(CC#N)C(=O)CCCC[C@@H]1SC[C@@H]2NC(=O)N[C@@H]21', 'CC(C)c1ncsc1C(=O)N1CCC[C@H](c2n[nH]c(=O)[nH]2)C1', 'CCC(C)Nc1ncnc(NCCc2cccs2)c1[N+](=O)[O-]', 'CC[C@@H](C)[C@@H](NC(=O)c1cnc(-c2cnn(C)c2)s1)C(N)=O', 'CCC=C(C)C(=O)N1CSCC1C(=O)NNc1ncccn1', 'Cc1ccc(S(=O)(=O)n2ncc3c2CCN(CNN)C3)cc1', 'CS(=O)(=O)c1cccc(C2CCC(N)CC2)c1-c1nn[nH]n1', 'CN(C1CCCCC1)S(=O)(=O)c1ccc(-n2cnnn2)cc1', 'Cc1sc(C(=O)O)cc1CN1CCN(c2nncn2C)CC1', 'CNc1nc(C(=O)NCCc2noc(C3CCCC3)n2)cs1', 'O=S(=O)(c1ncc[nH]1)N1CCN(CCc2ccncc2)CC1', 'CS(=O)(=O)NCc1cn2c(n1)CN(Cc1cccnc1)CC2', 'COc1ccccc1-n1nnnc1S[C@H](C)C(=O)NC(C)C', 'CCN(CC)c1ccc(NNc2ncc([N+](=O)[O-])s2)c(C)c1', 'CCCCN(CC(N)=O)C(=O)c1cnc(-c2cnn(C)c2)s1', 'Cc1cc(NC(=O)CN2CCN(Cc3cscn3)CC2)on1', 'CCCC(N=C(N)N)NS(=O)(=O)c1cccc2cnccc12', 'CCn1cnc(S(=O)(=O)N2CCNCC2c2cccnc2)c1', 'CC1CCCCN1S(=O)(=O)Nc1ccccc1-n1ccnn1', 'CCCn1nnnc1SCC(=O)Nc1cc(C)ccc1OC', 'Cc1csc([C@H]2COCCN2C(=O)NCCn2ccnc2)n1', 'COCCNC(=O)CSc1nnc(-c2ccc(C)cc2)n1N', 'CCn1cc(S(=O)(=O)N2CCc3c(ncn3C3CC3)C2)cn1', 'CS(=O)(=O)N1CCC[C@@H](Cc2cc(-n3ccnc3)ncn2)C1', 'CS(=O)(=O)N1CCC(Cc2cncc(-c3ncc[nH]3)n2)CC1', 'C[C@@H]1c2ncc(Cn3cccn3)n2CCN1S(=O)(=O)C1CC1', 'Cc1ccc2ncnc(N3CC(CCNS(N)(=O)=O)C3)c2c1', 'Cn1nnnc1SCCCNCc1ccc2c(c1)OCCO2', 'CCCNC(=O)c1cnc2sc(N3CCCCC3)nn2c1=O', 'O=S(=O)(CC1CCCC1)NCc1nc(-c2ccncc2)n[nH]1', 'CCc1nc(C)c(C(=O)N2CCO[C@@H](c3n[nH]c(C)n3)C2)s1', 'CN(C)c1ccc(S(=O)(=O)N2CCCc3cnn(C)c32)cn1', 'C[C@H](NC(=O)N1CCO[C@H](c2nncn2C)C1)c1cccs1', 'CC(Sc1nnc(C2CC2)n1C1CC1)C(=O)N1CCNC1=O', 'Cc1cc(CN2CCc3nc(S(C)(=O)=O)ncc3C2)nn1C', 'CSC[C@H]1CN(Cc2c[nH]c3c(N)ncnc23)C[C@@H]1OC=O', 'CC(=O)NCCNC(=O)CNc1ncnc2sc(C)c(C)c12', 'C[C@H](NC[C@@H]1CCCS1(=O)=O)c1ccc(-n2cnnn2)cc1', 'Cc1ccc(N(C)S(=O)(=O)c2cn3c(n2)CCC[C@H]3C)nn1', 'C=C(C=C1SC(=O)NC1=O)/N=C(\\\\N=CC)N1CCCC(N)C1', 'Cc1cnc(NC(=O)N2CCOCC2c2c(C)n[nH]c2C)s1', 'CCN(CC)c1ncnc(NCCc2cccs2)c1[N+](=O)[O-]', 'Nc1cc2sc(N3CCOCC3)nc2nc1N1CC[C@H](O)C1', 'CS(=O)(=O)N1CCC[C@@H](Cn2nnc(-c3ccccc3)n2)C1', 'Cn1nccc1-c1nccnc1C[C@@H]1CCN(S(C)(=O)=O)C1', 'CCN(CCc1nccs1)C(=O)C(=O)Nc1cc(C)nn1C', 'Nc1ncc(CN2CCC[C@@H](c3ccn(CC(=O)O)n3)C2)s1', 'Cn1cnnc1C1CCN(S(=O)(=O)c2cccc(N)c2)CC1', 'COc1cccc(NC(=O)CSc2nnc(C(C)C)n2N)c1', 'CC(C)n1cc(S(=O)(=O)N2CCCC2c2ncccn2)cn1', 'CN(C)CCn1cc(NC(=O)CNC(=O)c2cccs2)cn1', 'O=c1scc(O)n1CCCN1CCN(c2ncccn2)CC1', 'CN(C1CC1)S(=O)(=O)NCCn1cc(-c2ccccc2)nn1', 'Cc1ccc(-c2nnnn2C)cc1S(=O)(=O)NC1CCCC1', 'N#CCSc1nc(N2CCOCC2)cc(N2CCOCC2)n1', 'CCOCc1ccccc1NC(=O)CCSc1nnnn1C', 'CCn1nccc1-c1cnc([C@H]2CCCN2S(C)(=O)=O)cn1', 'C=C(C)CN(CC)C(=O)CSc1nnnn1Cc1ccco1', 'Cc1noc(CC2CCCN(C(=O)NCc3cscn3)C2)n1', 'CS(=O)(=O)N1CCN(Cc2cnn(-c3ccccc3)n2)CC1', 'COC(=O)c1sc(N2CCCC(C)C2)nc1-c1ncnn1C', 'CC(C)c1ccc(OCc2nnc(SCC(N)=O)n2N)cc1', 'CSCc1ccc(C(=O)N2CCC(c3nc(N)n[nH]3)CC2)o1', 'CC(O)CC(C)CNc1ccc(C(=O)Nc2nncs2)cn1', 'C[C@@H](Sc1nnc2ccccn12)C(=O)NC(=O)NC(C)(C)C', 'CC1(c2[nH]ncc2S(C)(=O)=O)CCCN(c2ncccn2)C1', 'Cc1cc(N[C@@H]2C[C@H]2c2cnn(C)c2C)nc(S(C)(=O)=O)n1', 'CC(C(=O)NC(C)(C)c1nn[nH]n1)C1OCCc2sccc21', 'CNS(=O)(=O)c1ccc(NCc2cn3c(n2)CCCC3)nc1', 'CN1CCN(CC1)C(=O)C2CCN(CC2)C(=O)C3=CC4=C(N3CC5=CC=C(C=C5)Cl)C=CO4', 'N#Cc1ccc(Cl)c(C(=O)NC(CCCCCCCc2ccc3c(n2)NCCC3)C(=O)O)c1', 'CCCc1ccc(C2(C)NC(=O)N(CC(=O)N3CCN(c4cccc(Cl)c4)CC3)C2=O)cc1', 'CCN(CC)CC(O)CNC(=O)c1oc(C#Cc2c(N)ncc3ccc(Cl)cc23)c(C)c1C', 'CCOC(=O)CCNC(=O)C1CCN(c2ccc(Cl)c(-c3nc4ccccn4c3C)c2)CC1', 'Cc1[nH]c(C=C2C(=O)Nc3ccc(Cl)cc32)c(C)c1C(=O)N1CC(N2C[C@@H](C)O[C@@H](C)C2)C1', 'Cc1ccc(N2C(=O)N(CC(=O)NC[C@@H](c3ccccc3Cl)N3CCCC3)C(=O)[C@H]2C)cc1', 'COc1ccc(CNC(=O)C2CCC3NCC4C(=O)N(c5ccc(Cl)cc5)NC4C3C2)cc1', 'CCOc1ccc([C@@H]2CC(c3ccccc3Cl)=NN2C(=O)CN2CCC(C(N)=O)CC2)cc1', 'Cc1ccc(N2CCC(C(=O)NCC(=O)N3CCN(c4ccc(Cl)cc4)CC3)C2=O)cc1C', 'COC(=O)c1[nH]c2ccc(Cl)cc2c1NC(=O)[C@H](C)N1CCN(c2cccc(C)c2C)CC1', 'C[C@H]1CCCCN1CCNC(=O)Cn1c(=O)c(=O)n(Cc2ccc(Cl)cc2)c2ccccc21', 'Cc1c(Cl)nc(NC(C(C)c2ccccc2)N(C)C)c(=O)n1CC(=O)OCc1ccccc1', 'Cn1nccc1-c1cc(NC(=O)COc2cccc(Cl)c2)ccc1OCCC1CCCCN1', 'COC(=O)c1cccc(OC2CCN(c3nnc(C4(c5ccccc5)CC4)n3C)CC2)c1.Cl', 'COc1ccc([C@@H](CNC(=O)c2c(C)nn(Cc3ccccc3)c2Cl)N2CCOCC2)cc1', 'CC(C)CN(C(=O)NC(=O)c1ccc(Cl)cc1)[C@H](CO)Cc1cn(Cc2ccccc2)cn1', 'CCOC(=O)C1=C(CN2CCN(c3ccccc3C)CC2)NC(=O)N[C@@H]1c1cccc(Cl)c1', 'CCOC(=O)C1=C(CN2CCN(c3cccc(C)c3)CC2)NC(=O)N[C@@H]1c1ccccc1Cl', 'CCOC(=O)C1=C(CN2CCN(c3cccc(C)c3)CC2)NC(=O)N[C@H]1c1cccc(Cl)c1', 'CN(Cc1c(C2CC2)cc(Cl)c(=O)n1CCc1ccc(-c2n[nH]c(=O)o2)cc1)C1CCCC1', 'COc1ccc(CCCNC(=O)C2CCN(Cc3nc(-c4ccccc4Cl)no3)CC2)cc1', 'CCOC(=O)c1cccc(Nc2c(C(=O)N3CCCCCC3)cnc3nc(C)ccc23)c1.Cl', 'COc1ccc(-c2noc(CN3CCC(C(=O)NCCCc4ccc(Cl)cc4)CC3)n2)cc1', 'CCOC(=O)C1=C(CN2CCN(c3ccccc3Cl)CC2)NC(=O)NC1c1ccc(C)cc1', 'Cl.[H]/N=C(\\\\N)c1cccc(N(CC(=O)Nc2ccc(OC(C)C)cc2)Cc2cccc(O)c2)c1', 'O=C(NC1CCCCC1)[C@H]1Cc2cc([N+](=O)[O-])ccc2N2CCN(c3cccc(Cl)c3)C[C@@H]12', 'CCOc1ccc(N(CCC#N)C(=O)CN2CCN(C(=O)Cc3ccccc3Cl)CC2)cc1', 'Cc1[nH]c2c(c1C(=O)NCC(O)CN1CCCC1)CCCC2=C1C(=O)Nc2ccc(Cl)cc21', 'CC(C(=O)Nc1ccc(N2CC(CNC(=O)c3ccc(Cl)cc3)CC2=O)cc1)N1CCCC1', 'Cl.[H]/N=C(\\\\N)c1ccc(N(Cc2ccccc2)C(C(N)=O)c2cc(OC)c(C)c(OC)c2)cc1', 'Cc1cc(C)c2cc(CN(CCN3CCOCC3)C(=O)Nc3ccc(Cl)cc3)c(=O)[nH]c2c1', 'CC(C)Cn1nc(C(=O)N2CCN(CCOc3ccccc3Cl)CC2)c2ccccc2c1=O', 'CC(C)Oc1cccc(CNC(=O)C2CCN(Cc3nc(-c4cccc(Cl)c4)no3)CC2)c1', 'CC(C)(C)OC(=O)N1CCC(Nc2cc(=O)n(Cc3ccncc3)c3ccc(Cl)cc23)CC1', 'Cc1cc(C)c(NC(=O)CN2C(=O)N(Cc3ccc(Cl)cc3)C(=O)C3NCCCC32)c(C)c1', 'Cc1c(Cl)nc(NC[C@H](CN(C)C)c2ccccc2)c(=O)n1CC(=O)OCc1ccccc1', 'O=C1Nc2ccc(Cl)cc2C12CCN(CCOc1ccc3c(c1)CC1CNC(O)N1C3)CC2', 'CCOC(=O)C1=C(CN2CCN(Cc3ccccc3)CC2)NC(=O)NC1c1ccccc1Cl', 'COc1c(C(=O)N[C@H]2CCCC[C@@H]2O)cc(Cc2ccc(-c3ccn(C)n3)nc2)c(C)c1Cl', 'CCc1c(Cl)[nH]c2ncc(-c3cc4c(c([C@@H]5COCCN5)c3)CN(C(=O)COC)CC4)cc12', 'CC(C)c1cc2[nH]c(-c3ccc(N4CCC5(CCC(C(=O)O)CO5)CC4)nc3)nc2cc1Cl', 'CCCc1ccccc1NC(=O)N1CCC2(CC1)CC(C(=O)NCc1ccc(Cl)cc1)=NO2', 'CCN(Cc1nc2cc(Cl)ccc2c(=O)[nH]1)C(=O)c1ccc(CN2C[C@@H](C)O[C@H](C)C2)cc1', 'Cc1ccc(-c2noc(CCN(CCCN3CCOCC3)C(=O)c3ccccc3Cl)n2)cc1', 'Cc1ccc(N2C(=O)N(CC(=O)NC[C@H](c3ccccc3Cl)N3CCCC3)C(=O)[C@@H]2C)cc1', 'CC(C)(C)OC(=O)N1CCOCC1c1cc(-c2cnc3[nH]cc(Cl)c3c2)cc2c1CNCC2', 'CC(C)C(=O)Nc1ccc2[nH]cc([C@@H](C(=O)O)N3CCN(Cc4cccc(Cl)c4)CC3)c2c1', 'Cc1cccc(NC(=O)CN2CN(c3ccccc3)C3(CCN(C(=O)C(C)Cl)CC3)C2=O)c1', 'Cc1noc(C)c1COc1ccc(CC(=O)Nc2cc(Cl)ccc2N2CCN(C)CC2)cc1', 'CCN1C2=C(C(=O)Nc3ccc(OC[C@@H]4CCCN4)cc3)C(=O)CCN2c2ccccc21.Cl', 'CCOC(=O)C1=C(CN2CCN(c3ccccc3C)CC2)NC(=O)NC1c1cccc(Cl)c1', 'Cc1cc(-c2ccnc(NC(=O)C3CC3)c2)ccc1CCC(=O)c1nc(C(C)(C)C)no1.Cl', 'CCNC(=O)N(Cc1c(C)nn(-c2ccccc2)c1Oc1ccc(Cl)cc1)C[C@H]1CCCO1', '[2H]C([2H])([2H])OC([2H])([2H])C([2H])([2H])NC(=O)c1ccc2nn(CC3CCN(C(=O)c4ccc(Cl)cc4)CC3)cc2c1C', 'CC(=O)Nc1ccc(C2OC(C3CCNCC3)=NC2(C)C(=O)N(C)c2ccc(Cl)cc2)cc1', 'CCCCN(CC(=O)Nc1cc(-c2ccccc2)nn1-c1ccc(OC)cc1)C(=O)C(C)Cl', 'CCC(=O)COc1cc2cc(Nc3cc(N4CCCCC4)ncc3Cl)ccc2n(CC)c1=O', 'CN(CCN1CCN(c2cccc(Cl)c2)CC1)Cc1cc(-c2ccc3c(c2)OCCO3)no1', 'CN(C)c1ccc(C(=O)CCC(=O)N2CCC(N3Cc4ccccc4NC3=O)CC2)cc1Cl', 'CCOC(=O)C1=C(CN2CCN(c3cccc(C)c3)CC2)NC(=O)N[C@@H]1c1cccc(Cl)c1', 'CCc1ccc2c(-c3ncnc4cc(OCCCN5CCOCC5)ccc34)c(O)[nH]c2c1.Cl', 'CC.Cc1cncc(CNC(=O)c2cc3cc(Cl)c4c(c3o2)C2(CCCCC2)NC(=O)N4)c1', 'COc1ccc(N2NC3C(CNC4CCC(C(=O)NCc5ccccc5Cl)CC43)C2=O)cc1', 'CN(CCC(=O)O)C(=O)c1ccc(NC(c2cc3cc(Cl)ccc3n2C)C2CCCC2)nc1', 'O=C(NC1CC1)c1ccccc1C[C@H](O)CN1CCC(n2c(=O)[nH]c3cc(Cl)ccc32)CC1', 'COCCn1c(C)cc(O)c(C(c2ccccc2Cl)N2CCN(c3ccccn3)CC2)c1=O', 'CCOC(=O)C1=C(CN2CCN(Cc3ccccc3)CC2)NC(=O)N[C@H]1c1ccc(Cl)cc1', 'CCOC(=O)C1=C(CN2CCN(c3ccccc3C)CC2)NC(=O)N[C@H]1c1ccc(Cl)cc1', 'CON1c2cc(Cl)ccc2CNCCCCC=CCCCOc2ccc3ncnc1c3c2O', 'N#Cc1ccc(OC2CCC(NC(=O)c3ccc(N4CCC(CO)CC4)nc3)CC2)cc1Cl', 'CC1=CC=CN2C1=NC(=O)C[C@@]2(C)C(=O)N(CC(=O)NC1CCCC1)Cc1ccc(Cl)cc1', 'CCN1CCCC1CN(Cc1cc2cc(OC)ccc2[nH]c1=O)C(=O)Nc1ccc(Cl)cc1', 'CCC(=O)OC[C@@H](NC(=O)c1cc(-c2cc(NC(C)C)ncc2Cl)c[nH]1)c1cccc(C)c1', 'O=C(Nc1ccc(Cl)cc1)NC1(C(=O)Nc2ccc(N3CCCCC3=O)cc2)CCCCC1', 'C=C1CN(C)CCc2ccc(NC(=O)C3CC(OC)CN3C(=O)Nc3ccc(Cl)cc3)cc21', 'Cc1[nH]c2c(c1C(=O)NCC(O)CN1CCCC1)CCC=C2c1c(O)[nH]c2ccc(Cl)cc12', 'CCN(Cc1nc2cc(Cl)ccc2c(=O)[nH]1)C(=O)c1ccc(CN2C[C@H](C)O[C@@H](C)C2)cc1', 'COc1ccc(CCC(=O)N2CCCN(C(C)C(=O)Nc3ccc(C#N)c(Cl)c3)CC2)cc1', 'CCC(=O)COc1cc2cc(Nc3cc(N4CCC(C)CC4)ncc3Cl)ccc2n(C)c1=O', 'CC(C)NC(=O)CN1CN(c2ccccc2)C2(CCN(C(=O)c3ccccc3Cl)CC2)C1=O', 'CCN(CC)C(=O)COc1ccc(NC(=O)c2ccc(Cn3nc(C)cc3C)cc2)cc1Cl', 'Cc1ccc(CN2CC(C(=O)N3CCCN(C(=O)Nc4cccc(Cl)c4)CC3)CC2=O)cc1', 'CC1CCN(C(=O)Cn2c(C(C)NC(=O)COc3ccc(Cl)cc3)nc3ccccc32)CC1', 'Cl.[H]/N=C(\\\\N)c1ccc(NC(C(=O)NCc2ccccc2)c2cc(OC)c(C)c(OC)c2)cc1', 'Cc1ccc(C(=O)NC2CCN(C(=O)Cc3c(C)nn(-c4ccc(C)c(Cl)c4)c3C)CC2)o1', 'CCCCc1ncc(C(=O)N[C@H](C)C(=O)N(O)Cc2cccc(Cl)c2)n1Cc1ccccc1', 'C[C@H](NCc1ccc(Cl)cc1Oc1ccc(-c2cnc(CN3CCCC3)n2C)cc1)C(=O)O', 'Cc1ccc(C)c2[nH]c(=O)c(CN(CCN3CCOCC3)C(=O)Nc3ccc(Cl)cc3)cc12', 'CCOC(=O)C1=C(CN2CCN(c3ccc(Cl)cc3)CC2)NC(=O)N[C@@H]1c1ccc(C)cc1', 'O=C(COc1ccc(Cl)cc1)NCCCc1nc2ccccc2n1CC(=O)N1CCCCC1', 'COc1ccc(N2CCN(CCCNC(=O)c3c(-c4ccccc4Cl)noc3C)CC2)cc1', 'CC(C)(C)C(=O)NCc1ccc(Cl)c(C(=O)Nc2cccc3c2cnn3C2CCOCC2)c1', 'COCC(C)n1c(C)cc(/C=C(/C#N)C(=O)N2CCN(C(=O)c3ccc(Cl)cc3)CC2)c1C', 'COc1ccc(CCC(=O)N2CCCN(CCC(=O)Nc3ccc(C#N)c(Cl)c3)CC2)cc1', 'CCOCCCn1c(NC(=O)C2CCCN(C(=O)c3ccc(Cl)cc3)C2)nc2ccccc21', 'CC.CN(Cc1cccnc1)C(=O)c1cc2cc(Cl)c3c(c2o1)C1(CCCCC1)NC(=O)N3', 'CC(C)N1CCC(NC(=O)c2nc3c(C(=O)O)cccc3n2CCc2ccc(Cl)cc2)CC1', 'CCOC(=O)C1=C(CN2CCN(Cc3ccccc3)CC2)NC(=O)N[C@H]1c1ccccc1Cl', 'CCc1cnc(N2CCC(N3CC[C@H](Cc4cc5c(cc4Cl)C(=O)CCO5)C3=O)CC2)nc1', 'CC(=O)N1CCN(C(=O)C2CC(c3ccccc3)CN(C(=O)Nc3cccc(Cl)c3)C2)CC1', 'CCNC(=O)N(Cc1c(C)nn(-c2ccccc2)c1Oc1ccc(Cl)cc1)C[C@@H]1CCCO1', 'Cc1cc(C)c2cc(CN(CCN3CCOCC3)C(=O)Nc3ccccc3Cl)c(=O)[nH]c2c1', 'COc1ccc(-c2nc3n(c2NC(C)(C)C)CCN(Cc2cc4c(cc2Cl)OCO4)C3)cc1', 'O=C(C1CCN(c2nc3ccccc3o2)CC1)N1CCN(CCOc2ccc(Cl)cc2)CC1', 'CC(C)(C)OC(=O)N1C2COCC1CN(Cc1c(-c3ccc(Cl)cc3)nc3ccccn13)C2', 'O=C(COc1ccc(Cl)cc1)NCc1nc2ccccc2n1CCC(=O)N1CCCCCC1', 'O=C(CNc1cc(Cl)ccc1C(=O)N1CCCC1)NCc1ccc(C(=O)N2CCCC2)cc1', 'Cl.O=C1CCN(c2ccccc2C(=O)N2CC3CNCC3(CCc3ccccc3)C2)C(=O)N1', 'C=CC(=O)N1CCCC1.CCc1c(OC)cc(OC)c(Cl)c1-c1ccc2nc(N)ncc2c1', 'COc1ccc(CCN2C[C@H](CCOc3nc(Cl)cc4ncn(C5(C)CC5)c34)CC2=O)cc1', 'C=C1CN(CC(=O)N2CCN(c3cccc(Cl)c3)CC2)CC1C(=O)Nc1ccc(O)c(C)c1', 'CC1CCCCN1CCNC(=O)Cn1c(=O)c(=O)n(Cc2ccc(Cl)cc2)c2ccccc21', 'COc1cc(C(=O)Nc2cccc(-c3nnc4n3CCCCC4)c2)cc(Cl)c1OCC(C)C', 'CN(CCOc1cccc(CNC(=O)c2ccn(-c3ccccc3Cl)n2)c1)C1CCOCC1', 'COc1ccccc1CNC(=O)C1CCC2NCC3C(=O)N(c4ccc(Cl)cc4)NC3C2C1', 'CCOC(=O)N1CCC(NC(=O)CCCn2nc(-c3ccccc3)c3cc(Cl)ccc32)CC1', 'CC(c1ccccc1)N1CC(C(=O)N2CCN(CC(=O)Nc3ccccc3Cl)CC2)CC1=O', 'O=C(CN1CCN(CC(=O)N2CCCC2)CC1)Nc1ccc(Cl)cc1C(=O)c1ccccc1', 'CCNC(=O)N(Cc1c(C)nn(-c2ccccc2)c1Oc1ccc(Cl)cc1)CC1CCCO1', 'CC(C)C(=O)Nc1ccc2c([C@H](C(=O)O)N3CCN(Cc4cccc(Cl)c4)CC3)c[nH]c2c1', 'Cc1ccc(C(CNC(=O)c2cnn(-c3ccc(C)c(Cl)c3)c2C2CC2)N2CCOCC2)o1', 'C=C(C(N)=O)/C(=C\\\\C(Cl)=C\\\\CC)Nc1cc(C)cc(-c2cnc(C3(O)CCC3)cn2)c1OC', 'CCN(CC(=O)Nc1nc(-c2ccc(Cl)cc2)cn1-c1cccc(OC)c1)C(=O)CC(C)C', 'CCC1(CC)CC(=O)N(Cc2cccc(C(=O)N[C@H]3CCOc4ccc(Cl)cc43)c2)C(N)=N1', 'COc1cccc2c(C(=O)NCC3(c4ccc(Cl)cc4)CC3)nn(CCN3CCOCC3)c12', 'CCN1CCC[C@@H]1CN(Cc1cc2cc(OC)ccc2[nH]c1=O)C(=O)Nc1cccc(Cl)c1', 'CCOC(=O)C1=C(CN2CCN(c3cccc(C)c3)CC2)NC(=O)NC1c1ccccc1Cl', 'COc1ccccc1C(C)CC(=O)Nc1ccc(NC(=O)C(C)n2nc(C)cc2C)c(Cl)c1', 'COC(=O)C1=C(CN2CCN(c3cccc(C)c3C)CC2)NC(=O)N[C@H]1c1ccccc1Cl', 'CCOc1ccc(OCC(=O)Nc2ccc3nc(N4CCN(C)CC4)cc(C)c3c2)c(Cl)c1', 'Cc1cccc2cc(CN(CCCN3CCOCC3)C(=O)Nc3ccccc3Cl)c(=O)[nH]c12', 'Cc1ccc2cc(CN(CCCN3CCOCC3)C(=O)Nc3ccccc3Cl)c(=O)[nH]c2c1', 'Cc1ccc(OCC(C)NC(=O)C2CCCN(Cc3nc(-c4cccc(Cl)c4)no3)C2)cc1', 'CCC(c1nc2ccccc2c(=O)n1CC)N1CCN(C(=O)COc2ccc(Cl)cc2)CC1', 'COCCn1c(C)cc(O)c([C@H](c2ccccc2Cl)N2CCN(c3ccccn3)CC2)c1=O', 'Cl.[H]/N=C(\\\\N)c1ccc(N2CC(N3CCCC3)=C(c3ccc(CCC(=O)OC)cc3)C2=O)cc1', 'CCC(=O)N(CCOC)CC(=O)Nc1nc(-c2ccc(Cl)cc2)cn1-c1ccc(C)c(C)c1', 'C[C@H](Nc1ccc(NC(=O)CN2C(=O)N[C@@]3(CCCC[C@@H]3C)C2=O)cc1Cl)c1ccccc1', 'COC(=O)N1CCN(c2ccc(OC(CCc3ccc(Cl)cc3)Cn3ccnc3)cc2)CC1', 'CCn1cc(NC(=O)c2ccc(COc3cc(C)ccc3Cl)cc2)c(C(=O)NCC(C)C)n1', 'CC.CC.Cc1cnc(-c2cnc(Nc3ccc(O)cc3)n(Cc3ccc(Cl)cc3)c2=O)o1', 'CCC1CCCCN1C(=O)c1cnc2nc(C)ccc2c1Nc1cccc(C(=O)OC)c1.Cl', 'O=C1COC2CCN(C(=O)N3CCN(C(c4ccccc4)c4ccc(Cl)cc4)CC3)C[C@H]2N1', 'CCCCC1(c2ccccc2)NC(=O)N(CC(=O)N2CCN(c3cccc(Cl)c3)CC2)C1=O', 'CCC1CCCCN1C(=O)c1cnc2nc(C)ccc2c1Nc1cc(OC)c(Cl)cc1OC', 'CCOC(=O)c1ccccc1NC(=O)c1cnn(-c2ccc(C)cc2)c1C1CCNCC1.Cl', 'Cc1ccc(OCC(C)NC(=O)C2CCN(Cc3nc(-c4cccc(Cl)c4)no3)CC2)cc1', 'CCOc1ccc(CN2CCN(C(=O)CCCc3nc(-c4ccc(Cl)cc4)no3)CC2)cc1', 'COc1ccc(C(CNC(=O)c2ccc(-n3nc(C)c(Cl)c3C)cc2)N2CCOCC2)cc1', 'Cc1nc(N[C@@H]2CC[C@H](NC(=O)OC(C)(C)C)C2)nc2ccc(-c3c(O)cccc3Cl)cc12', 'CC(C)N1CC(C(=O)Nc2ccc(C(=O)N3CCN(c4cccc(Cl)c4)CC3)cc2)CC1=O', 'Cc1cccc2cc(CN(CCCN3CCOCC3)C(=O)Nc3cccc(Cl)c3)c(=O)[nH]c12', 'O=C1C=CC(N2CCN(c3ccc(NC(O)C4CCOC4)cc3Cl)CC2)c2ccccc2N1', 'CCCC(CO)(CCC)C(=O)NCc1ccc(Cl)c(-c2nc(-c3ccccc3)nc(=O)[nH]2)c1', 'COc1ccc(-c2noc(CN3CCC(C(=O)NCCCc4ccccc4Cl)CC3)n2)cc1', 'O=C(c1cc(Cl)c[nH]c1=O)N1CCC(c2nccn2CCCCOCc2ccccc2)CC1', 'C=CC=O.COc1cc2ncnc(NCc3cccc(Cl)c3)c2cc1OC1CCN(C)CC1', 'CC.CC(=O)COc1cc2cc(Nc3nc(C4=CCCCC4)ncc3Cl)ccc2n(C)c1=O', 'CCN1CCN(CCCNC(=O)c2ccc3c(c2)NC(=O)C(=Cc2cccc(Cl)c2)O3)CC1', 'N#Cc1cccc(N2CCN(CCCCN)CC2)c1.O=C(O)C1=Cc2cc(Cl)ccc2OC1', 'CCOc1nc(Cl)c(N)cc1C(=O)CCC1CCN(Cc2cc(-c3ccccc3)no2)CC1', 'CCN1CCN(c2ccc(Cl)cc2NC(=O)CCCN2C(=O)c3ccc(C)cc3C2=O)CC1', 'CNC(=O)NCc1ccccc1-c1cccc2cc(C(=O)N[C@H]3CN4CCC3CC4)oc12.Cl', 'COCCNC(=O)c1ccc2nn(CC3CCN(C(=O)c4cccc(Cl)c4)CC3)cc2c1C', 'CC(NC(=O)COc1ccc(Cl)cc1)c1nc2ccccc2n1CC(=O)N1CCCCCC1', 'CC(C)(C)OC(=O)c1ccc2nc(CN3CCc4cnc(Cl)cc4C3)n(C[C@@H]3CCO3)c2c1', 'CCOC(=O)CCc1cccc(-n2nc(CC(C)C)cc2NC(=O)Nc2ccc(Cl)cc2)c1', 'CC(C)(C)OC(=O)N1CC2(C1)CN(c1cncc(N3C(=O)c4ccc(Cl)cc4C3(C)C)c1)C2', 'COc1ccc([C@@H](C)N2C[C@H]([C@@H](C)Oc3nc(Cl)cc4ncn(C5(C)CC5)c34)CC2=O)cc1', 'Cc1nn(-c2ccc(NC(=O)c3ccc(OCCCN4CCOCC4)cc3)cc2)c(C)c1Cl', 'Clc1cc(CCCN2CCCC2)ccc1OC1CC1.NC(=O)C(=O)c1ccc2[nH]ncc2c1', 'CCOC(=O)c1ccccc1NC(=O)/C(C#N)=C\\\\N1CCN(c2cccc(C)c2C)CC1.Cl', 'COc1cc(NC(=O)c2cc(-c3ccc(Cl)cc3)cn2N=CN(C)C)ccc1OCC(C)C', 'CCC(NC(=O)C1CCCN(Cc2nc(-c3cccc(Cl)c3)no2)C1)c1ccc(OC)cc1', 'Cc1cccc(C)c1NC(=O)CN1CCN(C(=O)C2CC(=O)N(c3cccc(Cl)c3)C2)CC1', 'COc1ccc(Cl)cc1C(=O)N1CCC(CCCCNC(=O)c2ccc3nccn3c2)CC1', 'CC.Cn1ncc2c(-c3cc(COC(C)(C)C(=O)O)nn3Cc3ccccc3Cl)cccc21', 'CCOC(=O)C1=C(CN2CCN(c3ccc(C)cc3)CC2)NC(=O)NC1c1ccc(Cl)cc1', 'O=C(NCC(=O)N1CCN(c2cccc(Cl)c2)CC1)[C@H]1CC(=O)N(CCc2ccccc2)C1', 'O=C(O)C12CC3CC(C1)CC(n1ncc(N4CCN(c5ccccc5)CC4)c(Cl)c1=O)(C3)C2', 'CC(COc1ccc(NC(=O)Cc2ccc(Cl)cc2)cc1-c1ccnn1C)N1CCOCC1', 'O=C1CC[C@@H](CN(Cc2cccnc2)C(=O)CC[C@]2(Cc3ccc(Cl)cc3)CCC(=O)N2)N1', 'CCC(NCCc1ccc(C(=O)N(C)Cc2cccc(=O)[nH]2)cc1)C(O)c1ccc(Cl)nc1', 'CCc1ccc([C@H]2NC(=O)NC(CN3CCN(c4ccc(Cl)cc4)CC3)=C2C(=O)OC)cc1', 'O=C(c1cc(-c2ccco2)n(-c2ccc(Cl)cc2)n1)N1CCC(CCN2CCOCC2)CC1', 'CCOC(=O)C1=C(CN2CCN(c3ccc(C)cc3)CC2)NC(=O)N[C@H]1c1cccc(Cl)c1', 'COc1ccc(CN2CCN(C(=O)c3c(C)nn(Cc4ccccc4)c3Cl)CC2)cc1OC', 'Cc1cccc(C)c1NC(=O)CN1CCN(C(=O)C2CC(=O)N(c3ccccc3Cl)C2)CC1', 'COCCn1c(C)cc(O)c([C@@H](c2ccc(Cl)cc2)N2CCN(c3ccccn3)CC2)c1=O', 'CC(C)CCn1c(Cn2c(=O)n(C(=O)OC(C)(C)C)c3ccc(Cl)cc32)nc2ccccc21', 'CC(C)Oc1ccc(CNC(=O)C2CCCN(Cc3nc(-c4ccccc4Cl)no3)C2)cc1', 'CCOC(=O)CCN(Cc1cccnc1)C(=O)Cc1c(C)nn(-c2ccc(C)c(Cl)c2)c1C', 'CC(Nc1ccccc1C(=O)O)c1cc(Cl)cc2c(=O)n(C)c(N3CCC(C)(C)CC3)nc12', 'CCC1(c2ccc(Cl)cc2)NC(=O)N(CC(=O)Nc2ccc(N3CCCCCC3)cc2)C1=O', 'Cc1c(Cl)nc(NC([C@H](C)c2ccccc2)N(C)C)c(=O)n1CC(=O)OCc1ccccc1', 'CC1CN(C(=O)/C(=C2\\\\C(=O)Nc3ccc(Cl)cc32)c2ccc[nH]2)C1N1C(C)COCC1(C)C', 'Cc1[nH]c(C=C2C(=O)Nc3ccc(Cl)cc32)c(C)c1C(=O)NCCCN1CCCCCC1=O', 'N#Cc1ccc(CNC(=O)CN2CC3CN(CCOCc4ccc(Cl)cc4)CC(C2)O3)cc1', 'COc1cccc(C2=NOC3(CCC(C(=O)N4CCN(c5ncccc5Cl)CC4)CC3)C2)c1', 'CCC1CCCCN1C(=O)c1cnc2nc(C)ccc2c1Nc1ccc2c(c1)OCCO2.Cl', 'CC1CCC(=O)N1Cc1ccc(NC(=O)N(Cc2ccc(Cl)cc2)N2C(=O)CCC2C)cc1', 'CCN1CCCC1CN(Cc1cc2ccc(OC)cc2[nH]c1=O)C(=O)Nc1ccc(Cl)cc1', 'C[C@H](Cc1cccc(C(Cc2cc(O)cc(Cl)c2)C(N)=O)c1)NC[C@H](O)c1ccc(N)nc1', 'C=CC(=CC=C(C)Cl)C1=NC(CC(=O)OCCCC)c2nnc(C)n2-c2ccc(OC)cc21', 'Cc1cc(C)cc(-c2c(OCCC3CCCCN3)c3cc(NC(N)=O)c(Cl)cc3[nH]c2=O)c1', 'CCc1ccccc1NC(=O)CN1CCN(C(=O)c2ccc(Cl)cc2N2CCCC2=O)CC1', 'COc1c(Cl)cccc1N1CCN(CC(O)CCNC(=O)c2cnc3ccccc3c2)CC1', 'CC(C)Cn1c(=O)c(CCC(=O)N2CCN(c3ccccc3O)CC2)nc2cc(Cl)ccc21', 'CCOc1ccc(C(=O)NC2CCN(c3cc(-c4ccc(Cl)cc4)[nH]n3)CC2)cc1OCC', 'CN(CCOc1cccc(CNC(=O)c2cnn(-c3ccc(Cl)cc3)c2)c1)C1CCOCC1', 'Cc1ccc(NC(=O)NCC2CCCN(C(=O)C3CC(=O)N(c4cccc(Cl)c4)C3)C2)cc1', 'CCOc1ccc(C(=O)N2CCCN(c3cc(-c4ccc(Cl)cc4)[nH]n3)CC2)cc1OCC', 'Cc1ccc(-c2c(OCCC3CCCCN3)c3cc(NC(N)=O)c(Cl)cc3[nH]c2=O)cc1C', 'CN(Cc1ccc(=O)[nH]c1)C(O)c1ccc(C[C@@H]2CC[C@H]([C@H](O)c3ccc(Cl)nc3)N2)cc1', 'Cl.O=C(NC1CN2CCC1CC2)c1cccc2oc(N3CCOC[C@@H]3c3ccccc3)nc12', 'CC(C)c1ccc(C2(C)NC(=O)N(CC(=O)N3CCN(c4cccc(Cl)c4)CC3)C2=O)cc1', 'CCCOc1ccc(-c2ccc(-c3ccccc3Cl)n2CC(=O)N/C=N\\\\NCCCO)cc1', 'COc1ccc2ncc(Cl)c(N3CCC(CCNCc4cc5c(cn4)OCCO5)CC3)c2c1', 'Cc1cc(O)c(C(c2ccccc2Cl)N2CCN(CCO)CC2)c(=O)n1Cc1cccnc1', 'CC(=O)N1CCc2ccccc2C1CC(=O)N1CCN(CC(=O)Nc2ccccc2Cl)CC1', 'Cl.O=C(O)CC1CC(CNC(=O)CCNCc2nc3ccccc3[nH]2)=CCc2ccccc21', 'CC(C)(C)OCC1CC(c2ccc3c(N[C@@H]4CCc5ccccc54)nc(Cl)nn23)C(O)=C1O', 'Cc1cc(C)cc(N(CCC#N)C(=O)CN2CCC(C(=O)Nc3cc(Cl)ccc3O)CC2)c1', 'CCC(NC(=O)C1CCCN(Cc2nc(-c3ccccc3Cl)no2)C1)c1ccc(OC)cc1', 'CNc1ccc2c(n1)C=CCC2(Cl)O[C@@H](C)C(=O)N1CCN(C(=O)c2ccccc2)C[C@H]1C', 'CCOc1ccc(C(=O)N[C@H]2CCCN(c3cc(-c4ccc(Cl)cc4)[nH]n3)C2)cc1OCC', 'CNC(=O)N1CCc2cc(OCCN3CCC4(CC3)C(=O)Nc3ccc(Cl)cc34)ccc2C1', 'COCCN(CC(=O)Nc1cc(C(C)(C)C)nn1-c1ccccc1Cl)C(=O)c1ccccc1', 'COc1ccc(CCNC(=O)c2cnn(-c3ccccc3Cl)c2C2CCNCC2)c(OC)c1', 'C[C@H](Nc1ccc(NC(=O)CN2C(=O)N[C@]3(CCCC[C@H]3C)C2=O)cc1Cl)c1ccccc1', 'CC(C)N1CCC(NC(=O)c2nc3cc(C(=O)O)ccc3n2CCc2ccc(Cl)cc2)CC1', 'Cc1cc(O)c(C(c2cccc(Cl)c2)N2CCN(CCO)CC2)c(=O)n1Cc1ccccn1', 'CCOCCOc1c(N2CCN(Cc3ccccc3)CC2)cnn(-c2cccc(Cl)c2)c1=O', 'CC(C)(C)C1N(C(=O)O)CC12CN(c1cncc(N3C(=O)c4ccc(Cl)cc4C3(C)C)c1)C2', 'COc1ccc(C2(C(=O)N3CCCN(Cc4noc(-c5ccccc5)n4)CC3)CC2)cc1.Cl', 'CC(C)CC(CNC(=O)c1cccn2nc(C(=O)N3CCOCC3)cc12)c1ccc(Cl)cc1', 'CCOC(=O)c1nn(CC(=O)N2CCN(c3cccc(Cl)c3C)CC23CC3)c2c1[C@@H]1CC1C2', 'CC(c1ccc(Cl)cc1)N(CC(=O)NN1C(=O)NC(C)(CCc2ccccc2)C1=O)C1CC1', 'COc1cc(NC(C)=O)c(Cl)cc1C(=O)NCCN1CCC(c2c[nH]c3ccccc23)CC1', 'O=C(c1cc(-c2ccco2)n(-c2cccc(Cl)c2)n1)N1CCC(CCN2CCOCC2)CC1', 'CC(Oc1cccc(Cl)c1)C(=O)N(C)C1CCC2(CC1)N=C(N)N(Cc1ccccc1)C2=O', 'Cc1cc(O)c([C@@H](c2cccc(Cl)c2)N2CCN(CCO)CC2)c(=O)n1Cc1ccccn1', 'CCOC(=O)CCc1cccc(-n2nc(C(C)(C)C)cc2NC(=O)Nc2ccc(Cl)cc2)c1', 'CCOC(Cc1ccc(Cl)cc1)Cn1c(=NC(=O)NC=O)c(C)nc2cc(CC)c(C)cc21', 'CCOC(=O)C1=C(CN2CCN(c3ccccc3C)CC2)NC(=O)N[C@@H]1c1ccccc1Cl', 'Cl.O=C1Nc2ccc(CN3CCOC3=O)cc2C1=Cc1ccc(CN2C[C@H]3CCC[C@H]3C2)[nH]1', 'Cc1cc(C)nc(N2CCC(C(=O)N3CCC4(CC3)CC(=O)c3cc(Cl)ccc3O4)CC2)n1', 'CCOC(=O)c1cnc2cc(OC)c(N3CCN(C)CC3)cc2c1Nc1cccc(Cl)c1C', 'CCc1ccc([C@H]2NC(=O)NC(CN3CCN(c4ccccc4Cl)CC3)=C2C(=O)OC)cc1', 'Cc1ccc2cc(CN(CCN3CCOCC3)C(=O)Nc3cccc(Cl)c3)c(=O)[nH]c2c1C', 'COC(=O)C1=C(CN2CCN(c3cc(C)ccc3C)CC2)NC(=O)N[C@@H]1c1cccc(Cl)c1', 'CCOC(=O)C1CCN(c2ccc(CNC(=O)c3c(CC)nc4cc(Cl)ccn34)cc2)CC1', 'Cc1ccc(N(CNCc2ccc3c(c2)CN(C2CCC(=O)NC2=O)C3=O)C(C)C)cc1Cl', 'COc1cccc(CCCNC(=O)C2CCCN(Cc3nc(-c4cccc(Cl)c4)no3)C2)c1', 'Cc1ccc2cc(CN(CCCN3CCOCC3)C(=O)Nc3ccc(Cl)cc3)c(=O)[nH]c2c1', 'CCCC1=NC2=C(S1)C3=CC=CC=C3N=C2N', '[H]/N=C1/C=C2Sc3cc(CN)ccc3N=C2CC1', 'CCc1c(C)nc(-c2ccc(C)s2)nc1C#N', 'NCCc1nc(-c2cccs2)n2ccccc12', 'Cc1ccc(-n2ccnc2SCC#N)cc1C', 'Cc1cn(Cc2csc3ccccc23)nc1N', 'NN(Cc1ccncc1)C(=S)c1ccccc1', 'Cc1ccccc1CNc1snc(C)c1C#N', 'Cc1ncc(CNc2ccc(CC#N)cc2)s1', 'CC(C=NNc1nccs1)=Cc1ccccc1', 'CN(c1cccnc1)c1ccccc1C(N)=S', 'CC(C)Cc1c(C#N)cccc1-c1cnns1', 'Cc1ccsc1CNc1cccc2cn[nH]c12', '[H]/N=C(\\\\N)c1ccc(CSc2ccncc2)cc1', 'Cc1ccc(Nc2snc(C)c2C#N)cc1C', 'Cc1csc(NC(C)c2ccc(C#N)cc2)n1', 'Cc1ccc(-c2csc3cnc(N)n23)c(C)c1', 'Cc1cccc(Nc2ccc(C(N)=S)nc2)c1', 'C[C@@H](NCc1ccc(C#N)s1)c1ccncc1', 'CC(Cc1cc(C#N)c(N)s1)c1ccccn1', 'CN(C)c1ccc(-c2csc3nccn23)cc1', 'CC(c1cc2ccccc2s1)n1nccc1N', 'CSc1ccc(C(C#N)c2nccn2C)cc1', 'Cc1ccc(Nc2ccc(C(N)=S)cn2)cc1', '[H]/N=C(\\\\N)c1ccncc1SCc1ccccc1', 'C[C@@H](c1cccs1)n1c(N)nc2ccccc21', 'C#CCNC1CCc2cc3sc(N)nc3cc21', 'c1ccc(-c2nnc(C3C4CNCC43)s2)cc1', 'Cc1nc(C)c(-c2cn3c(C)cccc3n2)s1', 'CCc1nc2cccnc2n1-c1cc(C)cs1', 'CC(C)Sc1ccc(-c2cc(C#N)n[nH]2)cc1', 'CSCc1nc2cc(C#N)ccc2n1C1CC1', 'c1cc2ccc(CNCc3cscn3)cc2[nH]1', 'Cc1sc(C(C)(C)C#N)nc1-c1ccncc1', 'CC(CNc1cccc(C#N)c1)c1nccs1', 'CCC(Nc1cc(C#N)ccn1)c1cccs1', 'c1csc(CNCc2nc3ccccc3[nH]2)c1', 'CC(C)(Nc1cccc(C#N)c1)c1nccs1', 'Cc1sc(-c2ccc3[nH]cc(C)c3c2)nc1N', '[H]/N=C(\\\\N)c1cccnc1Sc1ccccc1C', 'CC(C)(Nc1ccc(C#N)cc1)c1nccs1', 'N#CCC1(CSc2nc3ccccc3[nH]2)CC1', 'CC(C)c1c[nH]c(=S)n1-c1ccc(C#N)cc1', 'Cc1ccc2nc(N)n(Cc3cccs3)c2c1', 'Cc1ccc(-c2nc3sccn3c2CN)cc1', 'CCc1cccc2c(-c3csc(N)n3)c[nH]c12', 'NC(=S)c1ccccc1NCc1ccccn1', 'CC(C)n1c(-c2nccs2)nc2ccccc21', 'NC(=S)c1ccc(-n2ccc(C3CC3)n2)cc1', 'CC(C)c1csc(Nc2ccccc2C#N)n1', 'N#CCc1cc(-c2ccsc2)nn1CC1CC1', 'CCc1cnc(-c2cccc3nn(C)cc23)s1', 'CN(c1ccc(C(N)=S)cc1)c1cccnc1', 'Cc1cc(C)c2nc(-c3ccsc3N)[nH]c2c1', 'CC(/C=N\\\\Nc1nccs1)=C/c1ccccc1', 'CC(Cc1ccsc1)Nc1ccnc(C#N)c1', 'N#CC1(Cc2ccc3nc(N)sc3c2)CCC1', 'Cc1ccsc1-c1nc2n(c1C#N)CCCC2', 'CN1CCc2c(sc(-n3cccc3)c2C#N)C1', 'CCc1c(N)n[nH]c1-c1cc2ccccc2s1', 'Cc1cc(C)n2cc(-c3ccc(C)s3)nc2n1', 'Cn1cccc/c1=N\\\\C(=S)Nc1ccccc1', 'Cc1cc(C)n2c(C)c(-c3cccs3)nc2n1', 'Cc1cccc(-c2ccc(C(=S)CN)nc2)n1', 'CC(c1ccsc1)n1cnc2cc(N)ccc21', 'CCCn1cnnc1-c1csc2ccccc12', 'Cc1nc(C)c(-c2c(C)nc3ccccn23)s1', 'Cc1cccc(-c2cnc(N3CSC3)nc2)c1', 'Cc1ccncc1-c1ccc2c(c1)N(C)SN2', 'Cc1nc(-c2ccc3c(c2)ncn3C)sc1C', 'N#Cc1ccc(NCCc2ccsc2)c(N)c1', 'Cc1ccc(NCc2scnc2C)c(C#N)c1', 'Cc1sc(-c2c[nH]c3ccccc23)nc1CN', 'NC(=S)c1cccn1-c1ccc2c(n1)CCC2', 'Cc1ccc(Nc2cccnc2)c(C(N)=S)c1', 'c1cn2c(n1)sc1cc(C3CCNC3)ccc12', 'CSC(=C(C#N)C#N)c1ccc(N(C)C)cc1', 'c1ccc(N2CNN=C2Cc2cccs2)cc1', 'CNC(=S)N/N=C/c1ccc2ccccc2c1', 'Cc1ccc2cc(-c3nc(CN)cs3)[nH]c2c1', 'Cc1cnc(C(C#N)NCc2ccccc2)s1', 'CNc1ncc(Cc2c[nH]c3ccccc23)s1', 'Cc1cc(NC(C)c2nccs2)ccc1C#N', 'N#Cc1cc(CNCCc2cccs2)ccn1', 'S=c1nc(Cc2ccccn2)[nH]c2c1CCC2', 'Cc1cc(C)n(Cc2nc3ccccc3s2)n1', 'CN(Cc1ccnc(C#N)c1)Cc1cccs1', 'Cc1cc(C)n2cc(-c3sccc3C)nc2n1', 'Cc1cc(C#N)cc(NCc2sccc2C)n1', 'S=C(NCc1ccccc1)Nc1ccncc1', 'Cc1cc(C#N)cc(NCCc2cccs2)n1', 'Cc1ccc(C)c(-c2cn3nc(C)sc3n2)c1', 'C=C/C=C/Nc1nc(C2=CC=NC=CC2)cs1', 'CC(NCc1cncs1)c1cccc(C#N)c1', 'Cc1ccc(-c2ccc(NC(N)=S)cc2)nc1', 'Cc1cc(CNc2ccc(C#N)nc2)sc1C', 'CSc1cccc(-n2cnc(C)c2C)c1C#N', 'Cc1nc(CNc2cccc(C#N)c2)sc1C', 'C=N/C(=N/c1ccc(C#N)c(C2CC2)c1)SC', 'c1ccc(C2CNN(c3cccnc3)S2)cc1', 'Cc1sccc1C(N)c1cnn2ccccc12', 'Cc1[nH]c2ccccc2c1-c1nc(N)sc1C', 'CCCn1c(-c2cscn2)nc2ccccc21', 'Cc1cnc(-c2cc3c(N)ccc(C)c3[nH]2)s1', 'Cc1cccc(C#N)c1NCCc1cscn1', 'CCc1ccc(-c2csc3cnc(N)n23)cc1', 'c1cc(-c2nc3c(c(C4CC4)n2)CNC3)cs1', '[H]/N=C(\\\\N)c1ccc(C)nc1Sc1ccccc1', 'CC(C)(c1nsc2ccccc12)n1ccnc1', 'Cc1nc(CNc2ccccc2C#N)sc1C', 'Cc1nc2sc(C)c(-c3ccccc3)n2c1N', 'c1cnc2c(CSC3=NCCN3)cccc2c1', 'CC1CSC(Nc2cccc3cnccc23)=N1', 'CCc1ccc(-c2cn3nc(C)sc3n2)cc1', 'N#Cc1sc2nc3c(cc2c1N)CCCCC3', 'CN(c1ccccc1)c1cnccc1C(N)=S', 'Cc1ccc2nc(-c3cc(C)sc3N)[nH]c2c1', 'N#CCCc1c(-c2ccsc2)n[nH]c1C1CC1', 'CC(C)c1nc2c(s1)Nc1ccccc1N=C2', 'C#CCSCCNc1nncc2ccccc12', 'NCCc1cc(-c2c[nH]c3ccccc23)ns1', 'Cc1cscc1CNc1ccc(C#N)c(N)c1', 'NC(=S)c1nccn1CC1Cc2ccccc21', 'Cc1ccnc(-c2nc(=S)cc(C3CC3)[nH]2)c1', 'NC1(Cc2ccc3c(c2)sc2nccn23)CC1', 'Cc1cc(C)c2[nH]cc(-c3ncsc3N)c2c1', 'C=CCC(C)Nc1ncc(C#N)c2ccsc12', 'CNc1ccc(-c2cc3[nH]ncc3cc2C)s1', 'CCn1ccnc1SCc1ccccc1C#N', 'Cc1ccsc1-c1nc2ccc(CN)cc2[nH]1', 'Cc1ccc(N(C)c2ncc(C#N)s2)c(C)c1', 'Cc1cc(C)c2c(c1)c(C)cc1n[nH]c(=S)n12', 'CCn1cc(-c2csc(N)n2)c2ccccc21', 'Cc1csc(N(CCC#N)c2ccccc2)n1', 'Cc1ccc(-c2cnc(SCC#N)n2C)cc1', 'CSc1ccc(/N=C(\\\\N)c2ccncc2)cc1', 'Cc1ccc2nc(NCc3cccs3)[nH]c2c1', 'CCN(Cc1ccccc1)c1ncc(C#N)s1', 'C#CC(C)NCc1csc(-c2ccccn2)n1', 'Cc1ccc(CNc2cccc3[nH]ncc23)s1', 'CC(C#N)Sc1ncc(-c2ccccc2)n1C', 'c1cnc2[nH]cc(CNCc3ccsc3)c2c1', 'C=N/C=C\\\\c1cc(-c2nsc(C)n2)ccc1C', 'CC(=S)N/N=C\\\\c1nccc2c(C)cccc12', 'Cc1ccc(C)n1Nc1nc2ccccc2s1', 'N#Cc1ccc(SC2CCCCC2)c(C#N)n1', 'Cc1nc2ccc(NCc3ccc[nH]3)cc2s1', 'S=c1[nH]ccnc1C1CCCc2cccnc21', 'Cc1csc(C(C)Nc2ccccc2C#N)n1', 'c1csc(-c2nc3c(c(C4CC4)n2)CNC3)c1', 'CC=CC/N=N/c1nc(-c2ccccc2)cs1', 'Cc1ccc(C(N)c2cnn3ccccc23)s1', 'Cc1ccc(-c2nc3cccc(C)n3c2N)s1', 'NCc1[nH]ncc1Cc1csc2ccccc12', 'CCc1c(C)nc(-c2sccc2C)nc1C#N', 'CCCc1nc(-c2ccccn2)sc1CC#N', 'S=C(Nc1cccc2cnccc12)NC1CC1', 'NCc1cn(Cc2cccs2)c2ncccc12', 'Cc1nc(-c2ccc3c(ccn3C)c2)sc1N', 'Cc1ccnc(NCCc2cccs2)c1C#N', 'C#CCNc1nc(C)nc2sc3c(c12)CCC3', 'c1ccc2c(c1)CC(c1nc(C3CC3)n[nH]1)S2', 'CCc1sc2ncc(N)n2c1-c1ccccc1', 'Cc1ccc(NC(=S)Nc2ccccc2)nc1', 'Cn1c(-c2csc3ccccc23)cnc1CN', 'N#CCN1CCC[C@@H]1c1nc2ccccc2s1', 'CCC(Nc1ncccc1C#N)c1cccs1', 'NCc1cn(Cc2ccsc2)c2ncccc12', 'CC(Cc1cccs1)Nc1cccc(C#N)n1', 'CCc1ccccc1Nc1snc(C)c1C#N', 'Cc1c(-c2ccc(CN)cc2)nc2sccn12', 'Cc1nc2ccccc2nc1C(C)(C#N)CS', 'CC(Nc1cc(N)c(C#N)s1)c1ccccc1', 'CC(C)c1ccc(Nc2ncc(C#N)s2)cc1', 'CN1c2ccccc2Sc2c1ccc(N)c2N', 'CC(C)c1ccc2nc(-c3cscn3)[nH]c2c1', 'Cc1csc(C(C)Nc2cccc(C#N)c2)n1', 'Cc1cc(C)c(-c2cn3ncsc3n2)c(C)c1', 'CNCc1cc(-c2cccc3nccn23)cs1', 'NCc1cccc2ccn(Cc3nccs3)c12', 'Cc1csc2nc(-c3ccc(CN)cc3)cn12', 'CC(=NN=Nc1ccc(C)s1)c1ccccc1', 'CC(CC#N)(Sc1ccccc1)n1ccnc1', '[H]/N=C(\\\\N)c1cccc(Sc2ccccc2C)n1', 'CC1(C)CCNc2cc3sc(C#N)nc3cc21', 'CCC(Nc1ccc(C#N)cn1)c1cccs1', 'Cn1c(NCc2ccsc2)nc2ccccc21', 'NCc1cccn2cc(Cc3cccs3)nc12', 'Cn1ccc(CNc2ccc3ncsc3c2)c1', 'Cc1ccc2ccccc2c1C=NNC(N)=S', 'Cc1ccc(C#N)cc1NC(C)c1cscn1', 'CCc1ccsc1-c1nc2nc(C)ccc2[nH]1', 'Cc1nc(-c2ccc(N(C)C)cc2)sc1C#N', 'CNC1NN=C(c2cccc3ccccc23)S1', 'Cc1ccc(C#N)c(NCc2csc(C)n2)c1', 'NCC#Cc1ccccc1CSc1ncc[nH]1', 'CCc1sc(N)cc1-c1ccc2[nH]ncc2c1', 'Cn1ccc2cc(-c3ccc(CN)s3)cnc21', 'Cc1nc2c(c(Nc3ccccc3)n1)CSC2', 'CCc1ccc(-c2nc3c(N)cccc3[nH]2)s1', 'Nc1cccc2c1NC(N)(c1ccccc1)S2', 'NCc1cn(Cc2cscn2)c2ccccc12', '[H]/N=C(\\\\N)c1ccccc1CSc1ccccn1', 'CCN(Cc1cccs1)c1cnccc1C#N', 'Cc1ccc2[nH]c(-c3cc(C)c(C)s3)nc2n1', 'CCc1ccc(-c2cn3cc(N)ccc3n2)s1', 'CCc1ccc(-c2cn3c(N)csc3n2)cc1', 'Cc1csc(CNCc2ccc(C#N)cc2)n1', 'CN(c1ccncc1)c1ccc(C(N)=S)cc1', 'N#Cc1cccc(-c2csc(CCCN)n2)c1', 'NC(Cc1ccc2[nH]ccc2c1)c1cnsc1', 'C#CCN[C@H]1CCc2cc3sc(N)nc3cc21', 'NCCc1cn[nH]c1-c1csc2ccccc12', 'CSc1ccc(/C=N\\\\Nc2ccccn2)cc1', 'CC(NCc1cc(C#N)cs1)c1cccnc1', 'CC(C)(C#N)c1nc(-c2ccc(N)cc2)cs1', 'Cc1csc(C(C#N)NCc2ccccc2)n1', 'CCc1ccccc1-c1sc2ncnn2c1C', 'Cc1csc(CCc2nc3ccccc3[nH]2)n1', 'Cc1cc(C#N)cc(N(C)Cc2ccsc2)n1', 'CCc1ccc(-c2nc3scnn3c2C)cc1', 'c1csc(CCNc2nc3ccccc3[nH]2)c1', 'NCc1cn(Cc2cncs2)c2ccccc12', 'N#Cc1cccc(NC2=NCC(C3CC3)S2)c1', 'CC(Nc1ccc(C#N)c(N)c1)c1ccsc1', '[H]/N=C(\\\\N)c1cccnc1SCc1ccccc1', 'CC(Nc1ccc2[nH]ncc2c1)c1ccsc1', 'C=C(Sc1ccnc2c1CCC2)c1ncc[nH]1', 'CN(CCc1ccccc1)c1ncc(C#N)s1', 'Nc1ccccc1S.c1ccc2c(c1)CN=N2', 'Cc1ccsc1N(C)c1ccc(C#N)cc1N', 'Cn1c(Cc2cccs2)nc2ccc(N)cc21', 'CC(c1cccs1)N(C)c1ccc(C#N)nc1', 'Cc1ccc(C#N)c(NCCc2cccs2)n1', 'CN(Cc1cccs1)c1ccc(N)cc1C#N', 'S=C1NCCCc2cnn(-c3ccccc3)c21', 'Nc1ccnc(Sc2ccc3c(c2)CCC3)n1', 'Cc1cncc(-c2cc(=S)nc(C3CC3)[nH]2)c1', 'C#CCSC1=NCCN1/N=C/c1ccccc1', 'Cc1ccc2nc(C(N)c3cccs3)[nH]c2c1', 'NCCc1ccc(-c2cn3ccsc3n2)cc1', 'CSC1=NC=CC2=CC(c3ccccc3)NN21', 'CC(C)c1cc(=S)n(-c2cccc(C#N)c2)[nH]1', 'Cc1ccc(-c2ncc3cccc(CN)n23)s1', 'CC(C)c1csc(Nc2cccc(C#N)c2)n1', 'CN1CCc2c([nH]cnc2=S)-c2ccccc21', '[H]/N=C(\\\\N)c1ccc(Sc2ccccn2)c(C)c1', 'N#CCCN(c1snc2ccccc12)C1CC1', 'CCc1csc2nc(-c3ccccc3N)cn12', 'N#Cc1nccn1CC(CS)c1ccccc1', 'Cc1ccc(NCc2ccc(C#N)s2)c(C)n1', 'Cc1cc(NCCc2cscn2)ccc1C#N', 'CC1CN=C(Nc2cnc3ccccc3c2)S1', 'c1cc(CNCc2cncs2)c2cc[nH]c2c1', 'CCNc1c(C#N)c(SC)nc2ccccc12', 'C=CCCCn1c(=S)[nH]c2ccc(C#N)cc21', 'CC(C)C(C(=O)OC(C)C(=O)NC(C(C)C)C(=O)OC(C(C)C)C(=O)NC(C(C)C)C(=O)OCC(CO)O)NC(=O)C(C)OC(=O)C(C(C)C)NC(=O)C(C(C)C)O', 'O=C(O)CCCCCCCCCCCCCCCCC(=O)N[C@@H](CCC(=O)NCCOCCOCC(=O)NCCOCCOCC(=O)ON1C(=O)CCC1O)C(=O)O', 'CC(=O)COCCOCCNC(=O)COCCOCCNC(=O)CC[C@H](NC(=O)CCC(NC(=O)CCCCCCCCCCCCCCC(=O)O)C(=O)O)C(=O)O', 'CC(=O)CC[C@H](NC(=O)COCCOCCNC(=O)COCCOCCNC(=O)CCC(NC(=O)CCCCCCCCCCCCCCC(=O)O)C(=O)O)C(=O)O', 'CC(=O)CCC(NC(=O)COCCOCCNC(=O)COCCOCCNC(=O)CCC(NC(=O)CCCCCCCCCCCCCCC(=O)O)C(=O)O)C(=O)O', 'CC(=O)CC[C@H](NC(=O)COCCOCCNC(=O)COCCOCCNC(=O)CC[C@H](NC(=O)CCCCCCCCCCCCCCC(=O)O)C(=O)O)C(=O)O', 'O=C(O)CCCCCCCCCCCCCCCCC(=O)N[C@@H](CCC(O)NCCOCCOCC(=O)NCCOCCOCC(=O)ON1C(=O)CCC1=O)C(=O)O', 'CCC(C)(CC(C)(CC)C(=O)OC[C@H]([NH3+])C(=O)N[C@@H](COC(=O)C(C)(CC)C(C)(C)C(=O)OCC[N+](C)(C)CCC(=O)[O-])C(=O)[O-])C(=O)OCC[N+](C)(C)CC(=O)[O-]', 'CC(C)C(=O)COCCOCCNC(=O)COCCOCCNC(=O)CC[C@H](NC(=O)CC[C@H](NC(=O)CCCCCCCCCCCCC(=O)O)C(=O)O)C(=O)O', 'CC(=O)COCCOCCNC(=O)COCCOCCNC(=O)CC[C@H](NC(=O)CC[C@H](NC(=O)CCCCCCCCCCCCCCC(=O)O)C(=O)O)C(=O)O']}\n"
     ]
    }
   ],
   "source": [
    "tmp_msn = []\n",
    "for batch in train_loader_msn:\n",
    "    print(batch)\n",
    "    tmp_msn = batch\n",
    "    break"
   ]
  },
  {
   "cell_type": "code",
   "execution_count": 79,
   "id": "9e1dd97c544da443",
   "metadata": {
    "ExecuteTime": {
     "end_time": "2025-02-14T14:09:27.772537Z",
     "start_time": "2025-02-14T14:09:27.769268Z"
    }
   },
   "outputs": [
    {
     "name": "stdout",
     "output_type": "stream",
     "text": [
      "dict_keys(['spec', 'mol', 'precursor_mz', 'adduct', 'identifier', 'mol_freq', 'smiles', 'candidates', 'labels', 'batch_ptr', 'candidates_smiles'])\n",
      "batch_ptr is present: tensor([ 25,  80, 256, 256,  45, 256, 256, 256, 256, 256, 256,  10],\n",
      "       dtype=torch.int32)\n"
     ]
    }
   ],
   "source": [
    "# Check the keys in the batch\n",
    "print(tmp_msn.keys())\n",
    "\n",
    "# Specifically check if 'batch_ptr' is present\n",
    "if 'batch_ptr' in tmp_msn:\n",
    "    print(\"batch_ptr is present:\", tmp_msn['batch_ptr'])\n",
    "else:\n",
    "    print(\"batch_ptr is missing\")"
   ]
  },
  {
   "cell_type": "code",
   "execution_count": 80,
   "id": "f3934a3f-2f70-4faf-ad4a-216e621e3bff",
   "metadata": {},
   "outputs": [
    {
     "name": "stdout",
     "output_type": "stream",
     "text": [
      "Data types in tmp_original:\n",
      "  spec: <class 'torch.Tensor'>\n",
      "  mol: <class 'torch.Tensor'>\n",
      "  precursor_mz: <class 'torch.Tensor'>\n",
      "  adduct: <class 'list'>\n",
      "  mol_freq: <class 'torch.Tensor'>\n",
      "  identifier: <class 'list'>\n",
      "  smiles: <class 'list'>\n",
      "  candidates: <class 'torch.Tensor'>\n",
      "  labels: <class 'torch.Tensor'>\n",
      "  batch_ptr: <class 'torch.Tensor'>\n",
      "  candidates_smiles: <class 'list'>\n",
      "Data types in tmp_msn:\n",
      "  spec: <class 'abc.DataBatch'>\n",
      "  mol: <class 'torch.Tensor'>\n",
      "  precursor_mz: <class 'torch.Tensor'>\n",
      "  adduct: <class 'list'>\n",
      "  identifier: <class 'list'>\n",
      "  mol_freq: <class 'torch.Tensor'>\n",
      "  smiles: <class 'list'>\n",
      "  candidates: <class 'torch.Tensor'>\n",
      "  labels: <class 'torch.Tensor'>\n",
      "  batch_ptr: <class 'torch.Tensor'>\n",
      "  candidates_smiles: <class 'list'>\n"
     ]
    }
   ],
   "source": [
    "def print_key_types(obj, obj_name):\n",
    "    print(f\"Data types in {obj_name}:\")\n",
    "    for key, value in obj.items():\n",
    "        print(f\"  {key}: {type(value)}\")\n",
    "\n",
    "# Print data types for both objects\n",
    "print_key_types(tmp_original, \"tmp_original\")\n",
    "print_key_types(tmp_msn, \"tmp_msn\")"
   ]
  },
  {
   "cell_type": "markdown",
   "id": "ef424072a9118b2d",
   "metadata": {},
   "source": [
    "#### Shold be dict_keys(['spec', 'mol', 'precursor_mz', 'adduct', 'mol_freq', 'identifier', 'smiles', 'candidates', 'labels', 'batch_ptr', 'candidates_smiles'])"
   ]
  },
  {
   "cell_type": "code",
   "execution_count": 81,
   "id": "a4498cf09b5c3638",
   "metadata": {
    "ExecuteTime": {
     "end_time": "2025-01-26T14:09:43.988566Z",
     "start_time": "2025-01-26T14:09:43.986227Z"
    }
   },
   "outputs": [
    {
     "data": {
      "text/plain": [
       "dict_keys(['spec', 'mol', 'precursor_mz', 'adduct', 'identifier', 'mol_freq', 'smiles', 'candidates', 'labels', 'batch_ptr', 'candidates_smiles'])"
      ]
     },
     "execution_count": 81,
     "metadata": {},
     "output_type": "execute_result"
    }
   ],
   "source": [
    "tmp_msn.keys()"
   ]
  },
  {
   "cell_type": "code",
   "execution_count": 82,
   "id": "843fe9326df72b03",
   "metadata": {
    "ExecuteTime": {
     "end_time": "2025-01-26T14:09:44.060212Z",
     "start_time": "2025-01-26T14:09:44.058107Z"
    }
   },
   "outputs": [
    {
     "data": {
      "text/plain": [
       "DataBatch(x=[141, 1039], edge_index=[2, 258], batch=[141], ptr=[13])"
      ]
     },
     "execution_count": 82,
     "metadata": {},
     "output_type": "execute_result"
    }
   ],
   "source": [
    "tmp_msn['spec'] "
   ]
  },
  {
   "cell_type": "code",
   "execution_count": 83,
   "id": "fc8ed10da30f9581",
   "metadata": {
    "ExecuteTime": {
     "end_time": "2025-01-26T14:09:44.116680Z",
     "start_time": "2025-01-26T14:09:44.113941Z"
    }
   },
   "outputs": [
    {
     "data": {
      "text/plain": [
       "tensor([949.5002, 574.2258, 269.0808, 405.2748, 589.1893, 436.1059, 324.1958,\n",
       "        216.0655, 322.1332, 469.2001, 244.0903, 850.5020])"
      ]
     },
     "execution_count": 83,
     "metadata": {},
     "output_type": "execute_result"
    }
   ],
   "source": [
    "tmp_msn['precursor_mz']"
   ]
  },
  {
   "cell_type": "code",
   "execution_count": 84,
   "id": "dfecc66a8137880d",
   "metadata": {
    "ExecuteTime": {
     "end_time": "2025-01-26T14:09:44.542604Z",
     "start_time": "2025-01-26T14:09:44.539467Z"
    }
   },
   "outputs": [
    {
     "data": {
      "text/plain": [
       "tensor([2., 1., 1., 2., 1., 1., 3., 1., 1., 1., 1., 3.])"
      ]
     },
     "execution_count": 84,
     "metadata": {},
     "output_type": "execute_result"
    }
   ],
   "source": [
    "tmp_msn['mol_freq']"
   ]
  },
  {
   "cell_type": "code",
   "execution_count": 85,
   "id": "f3cce6c85a13d606",
   "metadata": {
    "ExecuteTime": {
     "end_time": "2025-01-26T14:09:44.687710Z",
     "start_time": "2025-01-26T14:09:44.685606Z"
    }
   },
   "outputs": [
    {
     "data": {
      "text/plain": [
       "['0001594_0000000',\n",
       " '0081112_0000000',\n",
       " '0076845_0000000',\n",
       " '0081351_0000000',\n",
       " '0100014_0000000',\n",
       " '0075818_0000000',\n",
       " '0071113_0000000',\n",
       " '0084945_0000000',\n",
       " '0022953_0000000',\n",
       " '0032029_0000000',\n",
       " '0087941_0000000',\n",
       " '0006315_0000000']"
      ]
     },
     "execution_count": 85,
     "metadata": {},
     "output_type": "execute_result"
    }
   ],
   "source": [
    "tmp_msn['identifier']"
   ]
  },
  {
   "cell_type": "code",
   "execution_count": 86,
   "id": "f51053f8670e729f",
   "metadata": {
    "ExecuteTime": {
     "end_time": "2025-01-26T14:09:44.850983Z",
     "start_time": "2025-01-26T14:09:44.848292Z"
    }
   },
   "outputs": [
    {
     "data": {
      "text/plain": [
       "['[M+H]+',\n",
       " '[M+H]+',\n",
       " '[M+H]+',\n",
       " '[M+H]+',\n",
       " '[M+H]+',\n",
       " '[M+H]+',\n",
       " '[M+H]+',\n",
       " '[M+H]+',\n",
       " '[M+H]+',\n",
       " '[M+H]+',\n",
       " '[M+H]+',\n",
       " '[M+NH4]+']"
      ]
     },
     "execution_count": 86,
     "metadata": {},
     "output_type": "execute_result"
    }
   ],
   "source": [
    "tmp_msn['adduct']"
   ]
  },
  {
   "cell_type": "code",
   "execution_count": 87,
   "id": "1874faafb955f9d4",
   "metadata": {
    "ExecuteTime": {
     "end_time": "2025-01-26T14:09:45.017903Z",
     "start_time": "2025-01-26T14:09:45.015397Z"
    }
   },
   "outputs": [
    {
     "data": {
      "text/plain": [
       "torch.Size([12, 4096])"
      ]
     },
     "execution_count": 87,
     "metadata": {},
     "output_type": "execute_result"
    }
   ],
   "source": [
    "tmp_msn['mol'].shape"
   ]
  },
  {
   "cell_type": "code",
   "execution_count": 88,
   "id": "26e13e52cabf0dac",
   "metadata": {
    "ExecuteTime": {
     "end_time": "2025-01-26T14:09:45.166081Z",
     "start_time": "2025-01-26T14:09:45.163471Z"
    }
   },
   "outputs": [
    {
     "data": {
      "text/plain": [
       "['C[C@@H]1C[C@@H]([C@@]2([C@@H]([C@@]1(C)CC[C@@](C)(C=C)O[C@H]3[C@@H]([C@H]([C@H]([C@H](O3)C)O[C@H]4[C@@H]([C@@H]([C@H]([C@@H](O4)C)O)O)O)O)O)CCC=C2C)C)O[C@H]5[C@@H]([C@@H]([C@H]([C@@H](O5)C)O[C@H]6[C@@H]([C@H]([C@@H]([C@H](O6)COC(=O)C)O)O)O)O)O',\n",
       " 'CC(C)C1=CC=CC=C1CC2=CC(=C(C(=C2O)O)O)C(=O)NC3=CC=C(C=C3)S(=O)(=O)C4=CC=CC=C4C(C)(C)C',\n",
       " 'COC1=CC=CC(=C1)C2=C(C(=O)C3=CC=CC=C3O2)O',\n",
       " 'CCCCCCCC(=O)N[C@H](CN1CCCC1)[C@@H](C2=CC3=C(C=C2)OCCO3)O',\n",
       " 'CC(C)N1C=C(C(=O)N(C1=O)C2=CC=C(C=C2)F)C(=O)NC3=CC(=C(C=C3)OC4=C5C=C(C(=CC5=NC=C4)OC)OC)F',\n",
       " 'C1=CC=C(C(=C1)C(C2=CC(=C3C=CC=NC3=C2O)Cl)NC4=CC=CC=N4)OCC(=O)O',\n",
       " 'CCN1CCCC(C1)OC(=O)C(C2=CC=CC=C2)C3=CC=CC=C3',\n",
       " 'COC1=C2C=COC2=NC3=C1C=CC=C3O',\n",
       " 'CC1=NC2=C(C=CN=C2)C(=N1)N3CC(C3)CN(C)S(=O)(=O)C',\n",
       " 'CN1CCN(CC1)C(=O)C2CCN(CC2)C(=O)C3=CC4=C(N3CC5=CC=C(C=C5)Cl)C=CO4',\n",
       " 'CCCC1=NC2=C(S1)C3=CC=CC=C3N=C2N',\n",
       " 'CC(C)C(C(=O)OC(C)C(=O)NC(C(C)C)C(=O)OC(C(C)C)C(=O)NC(C(C)C)C(=O)OCC(CO)O)NC(=O)C(C)OC(=O)C(C(C)C)NC(=O)C(C(C)C)O']"
      ]
     },
     "execution_count": 88,
     "metadata": {},
     "output_type": "execute_result"
    }
   ],
   "source": [
    "tmp_msn['smiles']"
   ]
  },
  {
   "cell_type": "code",
   "execution_count": 89,
   "id": "e519fe7ed5121dcc",
   "metadata": {
    "ExecuteTime": {
     "end_time": "2025-01-26T14:09:45.345887Z",
     "start_time": "2025-01-26T14:09:45.343339Z"
    }
   },
   "outputs": [
    {
     "data": {
      "text/plain": [
       "tensor([ True, False, False,  ..., False, False, False])"
      ]
     },
     "execution_count": 89,
     "metadata": {},
     "output_type": "execute_result"
    }
   ],
   "source": [
    "tmp_msn['labels']"
   ]
  },
  {
   "cell_type": "code",
   "execution_count": 90,
   "id": "61de3b3ad4572c7a",
   "metadata": {
    "ExecuteTime": {
     "end_time": "2025-01-26T14:09:45.507683Z",
     "start_time": "2025-01-26T14:09:45.499212Z"
    }
   },
   "outputs": [
    {
     "data": {
      "text/plain": [
       "tensor(12)"
      ]
     },
     "execution_count": 90,
     "metadata": {},
     "output_type": "execute_result"
    }
   ],
   "source": [
    "sum(tmp_msn['labels'])"
   ]
  },
  {
   "cell_type": "code",
   "execution_count": 91,
   "id": "86224621a407862f",
   "metadata": {
    "ExecuteTime": {
     "end_time": "2025-01-26T14:09:45.684944Z",
     "start_time": "2025-01-26T14:09:45.681948Z"
    }
   },
   "outputs": [
    {
     "data": {
      "text/plain": [
       "tensor([   0,   25,  105,  361,  617,  662,  918, 1174, 1430, 1686, 1942, 2198])"
      ]
     },
     "execution_count": 91,
     "metadata": {},
     "output_type": "execute_result"
    }
   ],
   "source": [
    "torch.nonzero(tmp_msn['labels'], as_tuple=False).squeeze()"
   ]
  },
  {
   "cell_type": "code",
   "execution_count": 92,
   "id": "df3c85be4bd961ae",
   "metadata": {
    "ExecuteTime": {
     "end_time": "2025-01-26T14:09:45.846982Z",
     "start_time": "2025-01-26T14:09:45.844508Z"
    }
   },
   "outputs": [
    {
     "data": {
      "text/plain": [
       "2208"
      ]
     },
     "execution_count": 92,
     "metadata": {},
     "output_type": "execute_result"
    }
   ],
   "source": [
    "len(tmp_msn['labels'])"
   ]
  },
  {
   "cell_type": "code",
   "execution_count": 93,
   "id": "e30895af70b971cf",
   "metadata": {
    "ExecuteTime": {
     "end_time": "2025-01-26T14:09:46.046226Z",
     "start_time": "2025-01-26T14:09:46.043541Z"
    }
   },
   "outputs": [
    {
     "data": {
      "text/plain": [
       "tensor([ 25,  80, 256, 256,  45, 256, 256, 256, 256, 256, 256,  10],\n",
       "       dtype=torch.int32)"
      ]
     },
     "execution_count": 93,
     "metadata": {},
     "output_type": "execute_result"
    }
   ],
   "source": [
    "tmp_msn['batch_ptr']"
   ]
  },
  {
   "cell_type": "code",
   "execution_count": 94,
   "id": "cd6581b0abe8464d",
   "metadata": {
    "ExecuteTime": {
     "end_time": "2025-01-26T14:09:46.564081Z",
     "start_time": "2025-01-26T14:09:46.561215Z"
    }
   },
   "outputs": [
    {
     "data": {
      "text/plain": [
       "tensor(2208, dtype=torch.int32)"
      ]
     },
     "execution_count": 94,
     "metadata": {},
     "output_type": "execute_result"
    }
   ],
   "source": [
    "sum(tmp_msn['batch_ptr'])"
   ]
  },
  {
   "cell_type": "code",
   "execution_count": 95,
   "id": "bac322d4444ee5ea",
   "metadata": {
    "ExecuteTime": {
     "end_time": "2025-01-26T14:09:46.742119Z",
     "start_time": "2025-01-26T14:09:46.739777Z"
    }
   },
   "outputs": [
    {
     "data": {
      "text/plain": [
       "2208"
      ]
     },
     "execution_count": 95,
     "metadata": {},
     "output_type": "execute_result"
    }
   ],
   "source": [
    "len(tmp_msn['candidates'])"
   ]
  },
  {
   "cell_type": "code",
   "execution_count": 96,
   "id": "5240b59230576227",
   "metadata": {
    "ExecuteTime": {
     "end_time": "2025-01-26T14:09:46.904383Z",
     "start_time": "2025-01-26T14:09:46.902008Z"
    }
   },
   "outputs": [
    {
     "data": {
      "text/plain": [
       "torch.Size([4096])"
      ]
     },
     "execution_count": 96,
     "metadata": {},
     "output_type": "execute_result"
    }
   ],
   "source": [
    "tmp_msn['candidates'][5].shape"
   ]
  },
  {
   "cell_type": "markdown",
   "id": "8fabb6d3fa7fd1ec",
   "metadata": {},
   "source": [
    "### Compare Shapes"
   ]
  },
  {
   "cell_type": "code",
   "execution_count": 97,
   "id": "1569a73db41d79ad",
   "metadata": {
    "ExecuteTime": {
     "end_time": "2025-01-26T14:09:47.239455Z",
     "start_time": "2025-01-26T14:09:47.237177Z"
    }
   },
   "outputs": [
    {
     "data": {
      "text/plain": [
       "True"
      ]
     },
     "execution_count": 97,
     "metadata": {},
     "output_type": "execute_result"
    }
   ],
   "source": [
    "tmp_msn.keys() == tmp_original.keys()"
   ]
  },
  {
   "cell_type": "code",
   "execution_count": 98,
   "id": "e05b0a2b1e4ecf17",
   "metadata": {
    "ExecuteTime": {
     "end_time": "2025-01-26T14:09:47.438583Z",
     "start_time": "2025-01-26T14:09:47.436466Z"
    }
   },
   "outputs": [
    {
     "data": {
      "text/plain": [
       "True"
      ]
     },
     "execution_count": 98,
     "metadata": {},
     "output_type": "execute_result"
    }
   ],
   "source": [
    "tmp_msn['batch_ptr'].shape == tmp_original['batch_ptr'].shape"
   ]
  },
  {
   "cell_type": "code",
   "execution_count": 99,
   "id": "b606c035c765f275",
   "metadata": {
    "ExecuteTime": {
     "end_time": "2025-01-26T14:09:47.602278Z",
     "start_time": "2025-01-26T14:09:47.599955Z"
    }
   },
   "outputs": [
    {
     "data": {
      "text/plain": [
       "False"
      ]
     },
     "execution_count": 99,
     "metadata": {},
     "output_type": "execute_result"
    }
   ],
   "source": [
    "tmp_msn['batch_ptr'].dtype == tmp_original['batch_ptr'].dtype"
   ]
  },
  {
   "cell_type": "code",
   "execution_count": 100,
   "id": "2217b21a37932e30",
   "metadata": {
    "ExecuteTime": {
     "end_time": "2025-01-26T14:13:34.631369Z",
     "start_time": "2025-01-26T14:13:34.629025Z"
    }
   },
   "outputs": [
    {
     "data": {
      "text/plain": [
       "torch.int64"
      ]
     },
     "execution_count": 100,
     "metadata": {},
     "output_type": "execute_result"
    }
   ],
   "source": [
    "tmp_original['batch_ptr'].dtype"
   ]
  },
  {
   "cell_type": "code",
   "execution_count": 101,
   "id": "782a345bcd3a68db",
   "metadata": {
    "ExecuteTime": {
     "end_time": "2025-01-26T14:13:22.931706Z",
     "start_time": "2025-01-26T14:13:22.922641Z"
    }
   },
   "outputs": [
    {
     "data": {
      "text/plain": [
       "torch.int32"
      ]
     },
     "execution_count": 101,
     "metadata": {},
     "output_type": "execute_result"
    }
   ],
   "source": [
    "tmp_msn['batch_ptr'].dtype"
   ]
  },
  {
   "cell_type": "code",
   "execution_count": 102,
   "id": "f9dae4c8aaa7564b",
   "metadata": {
    "ExecuteTime": {
     "end_time": "2025-01-26T14:09:47.774336Z",
     "start_time": "2025-01-26T14:09:47.771485Z"
    }
   },
   "outputs": [
    {
     "data": {
      "text/plain": [
       "(tensor(2208, dtype=torch.int32), 2208)"
      ]
     },
     "execution_count": 102,
     "metadata": {},
     "output_type": "execute_result"
    }
   ],
   "source": [
    "sum(tmp_msn['batch_ptr']), len(tmp_msn['candidates_smiles'])"
   ]
  },
  {
   "cell_type": "code",
   "execution_count": 103,
   "id": "67eeb6830a02639a",
   "metadata": {
    "ExecuteTime": {
     "end_time": "2025-01-26T14:09:47.942548Z",
     "start_time": "2025-01-26T14:09:47.940125Z"
    }
   },
   "outputs": [
    {
     "data": {
      "text/plain": [
       "(tensor(3072), 3072)"
      ]
     },
     "execution_count": 103,
     "metadata": {},
     "output_type": "execute_result"
    }
   ],
   "source": [
    "sum(tmp_original['batch_ptr']), len(tmp_original['candidates_smiles'])"
   ]
  },
  {
   "cell_type": "code",
   "execution_count": 104,
   "id": "da6f7d53ce907f18",
   "metadata": {
    "ExecuteTime": {
     "end_time": "2025-01-26T14:09:48.103318Z",
     "start_time": "2025-01-26T14:09:48.101065Z"
    }
   },
   "outputs": [
    {
     "data": {
      "text/plain": [
       "True"
      ]
     },
     "execution_count": 104,
     "metadata": {},
     "output_type": "execute_result"
    }
   ],
   "source": [
    "tmp_msn['labels'].dtype == tmp_original['labels'].dtype"
   ]
  },
  {
   "cell_type": "code",
   "execution_count": 105,
   "id": "29f2304a3eb0d784",
   "metadata": {
    "ExecuteTime": {
     "end_time": "2025-01-26T14:09:48.260879Z",
     "start_time": "2025-01-26T14:09:48.258837Z"
    }
   },
   "outputs": [
    {
     "data": {
      "text/plain": [
       "True"
      ]
     },
     "execution_count": 105,
     "metadata": {},
     "output_type": "execute_result"
    }
   ],
   "source": [
    "tmp_msn['candidates'].dtype == tmp_original['candidates'].dtype"
   ]
  },
  {
   "cell_type": "code",
   "execution_count": 106,
   "id": "bf61a76af4db9b5a",
   "metadata": {
    "ExecuteTime": {
     "end_time": "2025-01-26T14:09:48.433295Z",
     "start_time": "2025-01-26T14:09:48.430979Z"
    }
   },
   "outputs": [
    {
     "data": {
      "text/plain": [
       "True"
      ]
     },
     "execution_count": 106,
     "metadata": {},
     "output_type": "execute_result"
    }
   ],
   "source": [
    "tmp_msn['candidates'][0].shape == tmp_original['candidates'][0].shape"
   ]
  },
  {
   "cell_type": "code",
   "execution_count": 107,
   "id": "e28ea4d96f687f0f",
   "metadata": {
    "ExecuteTime": {
     "end_time": "2025-01-26T14:09:48.599192Z",
     "start_time": "2025-01-26T14:09:48.597148Z"
    }
   },
   "outputs": [
    {
     "data": {
      "text/plain": [
       "True"
      ]
     },
     "execution_count": 107,
     "metadata": {},
     "output_type": "execute_result"
    }
   ],
   "source": [
    "tmp_msn['candidates'][5].shape == tmp_original['candidates'][5].shape"
   ]
  },
  {
   "cell_type": "code",
   "execution_count": 108,
   "id": "68573c7361e436dd",
   "metadata": {
    "ExecuteTime": {
     "end_time": "2025-01-26T14:09:48.780483Z",
     "start_time": "2025-01-26T14:09:48.778287Z"
    }
   },
   "outputs": [
    {
     "data": {
      "text/plain": [
       "True"
      ]
     },
     "execution_count": 108,
     "metadata": {},
     "output_type": "execute_result"
    }
   ],
   "source": [
    "type(tmp_msn['smiles']) == type(tmp_original['smiles'])"
   ]
  },
  {
   "cell_type": "code",
   "execution_count": 109,
   "id": "44b90cb38ece920e",
   "metadata": {
    "ExecuteTime": {
     "end_time": "2025-01-26T14:09:48.928996Z",
     "start_time": "2025-01-26T14:09:48.926865Z"
    }
   },
   "outputs": [
    {
     "data": {
      "text/plain": [
       "True"
      ]
     },
     "execution_count": 109,
     "metadata": {},
     "output_type": "execute_result"
    }
   ],
   "source": [
    "type(tmp_msn['smiles'][0]) == type(tmp_original['smiles'][0])"
   ]
  },
  {
   "cell_type": "code",
   "execution_count": 110,
   "id": "8493612e08e9479e",
   "metadata": {
    "ExecuteTime": {
     "end_time": "2025-01-26T14:09:49.109966Z",
     "start_time": "2025-01-26T14:09:49.107657Z"
    }
   },
   "outputs": [
    {
     "data": {
      "text/plain": [
       "True"
      ]
     },
     "execution_count": 110,
     "metadata": {},
     "output_type": "execute_result"
    }
   ],
   "source": [
    "len(tmp_msn['smiles']) == len(tmp_original['smiles'])"
   ]
  },
  {
   "cell_type": "code",
   "execution_count": 111,
   "id": "b604f8942bf1362d",
   "metadata": {
    "ExecuteTime": {
     "end_time": "2025-01-26T14:09:49.304870Z",
     "start_time": "2025-01-26T14:09:49.302709Z"
    }
   },
   "outputs": [
    {
     "data": {
      "text/plain": [
       "True"
      ]
     },
     "execution_count": 111,
     "metadata": {},
     "output_type": "execute_result"
    }
   ],
   "source": [
    "type(tmp_msn['candidates_smiles']) == type(tmp_original['candidates_smiles'])"
   ]
  },
  {
   "cell_type": "code",
   "execution_count": 66,
   "id": "1a9910cd68400224",
   "metadata": {
    "ExecuteTime": {
     "end_time": "2025-01-26T14:09:49.476990Z",
     "start_time": "2025-01-26T14:09:49.474772Z"
    }
   },
   "outputs": [
    {
     "data": {
      "text/plain": [
       "True"
      ]
     },
     "execution_count": 66,
     "metadata": {},
     "output_type": "execute_result"
    }
   ],
   "source": [
    "type(tmp_msn['candidates_smiles'][0]) == type(tmp_original['candidates_smiles'][0])"
   ]
  },
  {
   "cell_type": "code",
   "execution_count": 67,
   "id": "65f8205061648068",
   "metadata": {
    "ExecuteTime": {
     "end_time": "2025-01-26T14:09:49.656680Z",
     "start_time": "2025-01-26T14:09:49.654355Z"
    }
   },
   "outputs": [
    {
     "data": {
      "text/plain": [
       "2598"
      ]
     },
     "execution_count": 67,
     "metadata": {},
     "output_type": "execute_result"
    }
   ],
   "source": [
    "len(tmp_msn['candidates_smiles'])"
   ]
  },
  {
   "cell_type": "code",
   "execution_count": null,
   "id": "9be44629-b7da-4a74-b6ec-3521b4b29e5c",
   "metadata": {},
   "outputs": [],
   "source": []
  },
  {
   "cell_type": "code",
   "execution_count": null,
   "id": "95e158cf-3b65-451b-806f-79133f872194",
   "metadata": {},
   "outputs": [],
   "source": []
  },
  {
   "cell_type": "code",
   "execution_count": null,
   "id": "f984125e-a724-4a29-a2b3-37118a34876d",
   "metadata": {},
   "outputs": [],
   "source": []
  }
 ],
 "metadata": {
  "kernelspec": {
   "display_name": "Python 3 (ipykernel)",
   "language": "python",
   "name": "python3"
  },
  "language_info": {
   "codemirror_mode": {
    "name": "ipython",
    "version": 3
   },
   "file_extension": ".py",
   "mimetype": "text/x-python",
   "name": "python",
   "nbconvert_exporter": "python",
   "pygments_lexer": "ipython3",
   "version": "3.11.9"
  }
 },
 "nbformat": 4,
 "nbformat_minor": 5
}
