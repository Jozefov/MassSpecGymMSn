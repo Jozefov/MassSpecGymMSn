{
 "cells": [
  {
   "cell_type": "code",
   "execution_count": 1,
   "id": "da6a763cea0be904",
   "metadata": {
    "ExecuteTime": {
     "end_time": "2025-02-14T13:39:38.965337Z",
     "start_time": "2025-02-14T13:39:35.571421Z"
    }
   },
   "outputs": [],
   "source": [
    "from massspecgym.data.datasets import MSnDataset, MSnRetrievalDataset, RetrievalDataset\n",
    "import torch"
   ]
  },
  {
   "cell_type": "code",
   "execution_count": 68,
   "id": "22f3a2d12131cd17",
   "metadata": {
    "ExecuteTime": {
     "end_time": "2025-02-14T13:39:51.884938Z",
     "start_time": "2025-02-14T13:39:51.882519Z"
    }
   },
   "outputs": [],
   "source": [
    "file_mgf = \"/Users/macbook/CODE/Majer:MassSpecGym/data/MSn/20241211_msn_library_pos_all_lib_MSn.mgf\"\n",
    "file_json = \"/Users/macbook/CODE/Majer:MassSpecGym/data/Retrieval/MassSpecGym_retrieval_candidates_mass.json\"\n",
    "split_file = \"/Users/macbook/CODE/Majer:MassSpecGym/data/MSn/20241211_split.tsv\""
   ]
  },
  {
   "cell_type": "code",
   "execution_count": 3,
   "id": "c0a04ca978e09c61",
   "metadata": {
    "ExecuteTime": {
     "end_time": "2025-02-14T13:39:52.207660Z",
     "start_time": "2025-02-14T13:39:52.204508Z"
    }
   },
   "outputs": [],
   "source": [
    "from massspecgym.data.transforms import MolFingerprinter, SpecTokenizer\n",
    "from massspecgym.data import RetrievalDataset, MassSpecDataModule"
   ]
  },
  {
   "cell_type": "code",
   "execution_count": 4,
   "id": "db1094d3df48cd7f",
   "metadata": {
    "ExecuteTime": {
     "end_time": "2025-02-14T13:39:54.026800Z",
     "start_time": "2025-02-14T13:39:54.024230Z"
    }
   },
   "outputs": [],
   "source": [
    "pth_massspecgym_original = \"/Users/macbook/CODE/Majer:MassSpecGym/data/MassSpecGym/MassSpecGym.tsv\""
   ]
  },
  {
   "cell_type": "code",
   "execution_count": 5,
   "id": "5346beea048ce5a5",
   "metadata": {
    "ExecuteTime": {
     "end_time": "2025-02-14T13:40:09.021407Z",
     "start_time": "2025-02-14T13:39:55.891926Z"
    }
   },
   "outputs": [],
   "source": [
    "# Init hyperparameters\n",
    "n_peaks = 60\n",
    "fp_size = 4096\n",
    "batch_size = 12\n",
    "\n",
    "# Load dataset\n",
    "dataset_original = RetrievalDataset(\n",
    "    pth=pth_massspecgym_original,\n",
    "    candidates_pth=file_json,\n",
    "    spec_transform=SpecTokenizer(n_peaks=n_peaks),\n",
    "    mol_transform=MolFingerprinter(fp_size=fp_size),\n",
    ")\n"
   ]
  },
  {
   "cell_type": "code",
   "execution_count": 6,
   "id": "d6ceed9debd5cc51",
   "metadata": {
    "ExecuteTime": {
     "end_time": "2025-02-14T13:40:09.027498Z",
     "start_time": "2025-02-14T13:40:09.025542Z"
    }
   },
   "outputs": [],
   "source": [
    "# Init data module\n",
    "data_module_original = MassSpecDataModule(\n",
    "    dataset=dataset_original,\n",
    "    batch_size=batch_size,\n",
    "    num_workers=0,\n",
    ")"
   ]
  },
  {
   "cell_type": "code",
   "execution_count": 7,
   "id": "c4bfe776ab073f74",
   "metadata": {
    "ExecuteTime": {
     "end_time": "2025-02-14T13:40:09.081160Z",
     "start_time": "2025-02-14T13:40:09.034062Z"
    }
   },
   "outputs": [
    {
     "name": "stdout",
     "output_type": "stream",
     "text": [
      "Train dataset size: 194119\n",
      "Val dataset size: 19429\n"
     ]
    }
   ],
   "source": [
    "data_module_original.prepare_data()\n",
    "data_module_original.setup()\n",
    "\n",
    "train_loader_original = data_module_original.train_dataloader()"
   ]
  },
  {
   "cell_type": "code",
   "execution_count": 8,
   "id": "55185d08a14a11ab",
   "metadata": {
    "ExecuteTime": {
     "end_time": "2025-02-14T13:40:10.370715Z",
     "start_time": "2025-02-14T13:40:09.086940Z"
    }
   },
   "outputs": [
    {
     "name": "stdout",
     "output_type": "stream",
     "text": [
      "I am not here\n",
      "{'spec': tensor([[[1.6011e+02, 1.1000e+00],\n",
      "         [5.6049e+01, 1.4410e-02],\n",
      "         [6.5039e+01, 3.7226e-03],\n",
      "         ...,\n",
      "         [0.0000e+00, 0.0000e+00],\n",
      "         [0.0000e+00, 0.0000e+00],\n",
      "         [0.0000e+00, 0.0000e+00]],\n",
      "\n",
      "        [[3.0301e+02, 1.1000e+00],\n",
      "         [1.4704e+02, 2.0000e-02],\n",
      "         [1.7301e+02, 6.3000e-02],\n",
      "         ...,\n",
      "         [0.0000e+00, 0.0000e+00],\n",
      "         [0.0000e+00, 0.0000e+00],\n",
      "         [0.0000e+00, 0.0000e+00]],\n",
      "\n",
      "        [[2.8915e+02, 1.1000e+00],\n",
      "         [7.7038e+01, 5.4000e-02],\n",
      "         [7.8043e+01, 6.0000e-03],\n",
      "         ...,\n",
      "         [0.0000e+00, 0.0000e+00],\n",
      "         [0.0000e+00, 0.0000e+00],\n",
      "         [0.0000e+00, 0.0000e+00]],\n",
      "\n",
      "        ...,\n",
      "\n",
      "        [[1.5207e+02, 1.1000e+00],\n",
      "         [1.1006e+02, 1.0000e+00],\n",
      "         [1.1104e+02, 1.2939e-02],\n",
      "         ...,\n",
      "         [0.0000e+00, 0.0000e+00],\n",
      "         [0.0000e+00, 0.0000e+00],\n",
      "         [0.0000e+00, 0.0000e+00]],\n",
      "\n",
      "        [[3.4617e+02, 1.1000e+00],\n",
      "         [6.0576e+01, 1.4650e-03],\n",
      "         [6.4359e+01, 1.1143e-03],\n",
      "         ...,\n",
      "         [0.0000e+00, 0.0000e+00],\n",
      "         [0.0000e+00, 0.0000e+00],\n",
      "         [0.0000e+00, 0.0000e+00]],\n",
      "\n",
      "        [[2.8709e+02, 1.1000e+00],\n",
      "         [8.5065e+01, 9.0000e-03],\n",
      "         [9.1054e+01, 1.1000e-02],\n",
      "         ...,\n",
      "         [0.0000e+00, 0.0000e+00],\n",
      "         [0.0000e+00, 0.0000e+00],\n",
      "         [0.0000e+00, 0.0000e+00]]]), 'mol': tensor([[0., 0., 0.,  ..., 0., 0., 0.],\n",
      "        [0., 0., 0.,  ..., 0., 0., 0.],\n",
      "        [0., 0., 0.,  ..., 0., 0., 0.],\n",
      "        ...,\n",
      "        [0., 0., 0.,  ..., 0., 0., 0.],\n",
      "        [0., 0., 0.,  ..., 0., 0., 0.],\n",
      "        [0., 0., 0.,  ..., 0., 0., 0.]]), 'precursor_mz': tensor([160.1121, 303.0100, 289.1547, 292.0654, 413.1730, 120.0700, 351.2166,\n",
      "        383.1100, 123.0440, 152.0706, 346.1650, 287.0900]), 'adduct': ['[M+H]+', '[M+H]+', '[M+H]+', '[M+H]+', '[M+Na]+', '[M+H]+', '[M+H]+', '[M+Na]+', '[M+H]+', '[M+H]+', '[M+H]+', '[M+H]+'], 'mol_freq': tensor([ 38., 322.,  26.,  34.,  15.,  77.,   8.,   8.,   7.,  83.,   2.,  33.]), 'identifier': ['MassSpecGymID0073209', 'MassSpecGymID0167164', 'MassSpecGymID0104947', 'MassSpecGymID0074392', 'MassSpecGymID0359401', 'MassSpecGymID0139818', 'MassSpecGymID0156509', 'MassSpecGymID0277002', 'MassSpecGymID0184090', 'MassSpecGymID0018616', 'MassSpecGymID0240515', 'MassSpecGymID0288806'], 'smiles': ['CN(CC#C)CC1=CC=CC=C1', 'C1=C2C3=C(C(=C1O)O)OC(=O)C4=CC(=C(C(=C43)OC2=O)O)O', 'CC[C@H](C)[C@@H](C(=O)O)NC(=O)CC1=CNC2=CC=CC=C21', 'C1CC(C2=CC=CC=C2C1C3=CC(=C(C=C3)Cl)Cl)N', 'CC(=CCC1=CC2=C(C=C1O)OC(=CC2=O)C3=CC(=C(C=C3)O)CC=C(C)C)C', 'CC(C(C(=O)O)N)O', 'CC1CCC2(C(C1(C)CCC(C)CC(=O)O)CC(=O)C=C2C(=O)O)C', 'CC1(CC(OC1=O)CC2(C(O2)COC3=CC4=C(C=C3)C=CC(=O)O4)C)O', 'C1=CC(=CC(=C1)O)C=O', 'CC(=O)NC1=CC=C(C=C1)O', 'CC(C)OC1=CC=CC=C1NC(=O)C2=CC(=C(C(=C2)OC)OC)OC', 'COC1=C(C=CC(=C1O)O)C=CC(=O)C2=CC=C(C=C2)O'], 'candidates': tensor([[0., 0., 0.,  ..., 0., 0., 0.],\n",
      "        [0., 0., 0.,  ..., 0., 0., 0.],\n",
      "        [0., 0., 0.,  ..., 0., 0., 0.],\n",
      "        ...,\n",
      "        [0., 0., 0.,  ..., 0., 0., 0.],\n",
      "        [0., 0., 0.,  ..., 0., 0., 0.],\n",
      "        [0., 0., 0.,  ..., 0., 0., 0.]]), 'labels': tensor([ True, False, False,  ..., False, False, False]), 'batch_ptr': tensor([256, 256, 256, 256, 256, 256, 256, 256, 256, 256, 256, 256]), 'candidates_smiles': ['CN(CC#C)CC1=CC=CC=C1', 'c1cc2c3c(c1)CNCC3CC2', 'CN1CC=CC2=C1C=CCC=C2', 'CCC#CCCc1ccccn1', 'CC(C#N)CCc1ccccc1', 'CCc1ccc(CC#N)cc1C', 'CC#CCC(C)c1ccncc1', 'C=C(N/C=C\\\\C)c1ccccc1', 'C=c1nc(C)cc/c1=C/C=C\\\\C', 'CCC(=O)NCC1(F)CCC1', '[C-]#[N+]c1cccc(CC(C)C)c1', 'O=C1NCCCCC1CCF', 'CCc1ccccc1C(C)C#N', 'CC(=C1CC1)c1ccccc1N', 'C=C/C(C)=c1/ccnc/c1=C/C', 'C1=Cc2ccccc2NCCC1', 'CC=C/C(=N\\\\C)c1ccccc1', 'CC1c2ccccc2C=C[C@@H]1N', 'CC1=C(C)c2c(ccnc2C)C1', 'C=Cc1ccccc1/C=C(\\\\C)N', 'CN1C2Cc3ccccc3CC21', 'C(Nc1ccccc1)=C1CCC1', 'Cc1ccc(C#CC(C)C)cn1', 'C1=CC(Cc2ccncc2)CC1', 'C=CCc1ccc(C(=C)N)cc1', 'Cc1ccc2c(c1)C1CNC2C1', 'Cc1cc(N)cc(C2=CCC2)c1', '[H]/N=[P+]1\\\\CCCCCNCC1', 'C/C=N/C=C/c1ccc(C)cc1', 'NC1CC2CCc3cccc1c32', 'C=C=Cn1ccc2c1CCCC2', 'CC(=O)[C@@H]1C[C@@](C)(F)CN1C', 'CCc1cc(C)c(C#N)cc1C', 'C/C=C\\\\C=C1\\\\C=CC=C\\\\C1=N/C', 'Cc1ccc(C)c(CCC#N)c1', 'c1ccc2c(c1)[C@H]1CC[C@@H]2NC1', 'C=Cc1ccnc(C2CCC2)c1', 'Cc1ccc2c(c1)c(C)cn2C', 'CC1CC=C(c2ccccc2)N1', 'C=C(C)c1c[nH]c2c1C=CCC2', 'C=Cc1c(CC)cccc1N=C', 'CC1(c2ccccc2)CCC=N1', '[C-]#[N+]c1ccccc1CCCC', '[H]/N=C(C(\\\\C)=C\\\\C)/c1ccccc1', 'CC[C@H](C#N)Cc1ccccc1', 'CC1(C)N2CC21c1ccccc1', 'CC#Cc1cc(C(C)C)ccn1', 'CCC12CNCC3=C1C=C2C=C3', 'C=Cc1ccccc1C1CNC1', 'CC1(C)C=Cc2ccccc2N1', 'C=Cc1ccncc1/C=C\\\\CC', 'CNCC1=Cc2ccccc2C1', 'Cc1ccc2c(c1)C1(CC1)NC2', 'CC#Cc1cc(C)c(C)c(N)c1', 'CC(C)c1cc2ccccn2c1', 'C=C/C=C(\\\\C)c1cccc(C)n1', 'C=C/C=C(\\\\C=C)C(C#N)CC=C', 'C=C/C=C\\\\C(=C)C(=C)/N=C/C=C', 'CCC1CN=Cc2ccccc21', 'C/C=C\\\\C=C/Nc1ccccc1', 'C=C(F)C(CC)[C@@H](C)C(N)=O', 'CC1C=Cc2ccncc2C1C', 'CNC1=Cc2ccc(C)cc2C1', 'CC(C)C(F)C(=O)NC1CC1', 'C=C/C(=C\\\\C)Nc1ccccc1', 'Cc1ccc(C)c2c1CCC=N2', 'O=CC(F)CC1CCNCC1', '[C-]#[N+]CCCCc1ccccc1', 'c1cnc2c(c1)CC1(CC2)CC1', 'C=C/C(C)=C/C=C\\\\c1ccc[nH]1', 'CC(C)Cc1ccc2c(c1)N=C2', 'C1=NCCC1Cc1ccccc1', 'CC(C)(C=O)N1CC[C@H](F)C1', 'C=CC1=CCC2=C(C=CC2)CN1', 'Cc1cc2c(cc1C)C1C[C@H]1N2', 'CC(C)/C=C(\\\\C#N)C1C=CC=C1', 'C=CC1CNc2ccccc2C1', 'C=C/C(=C\\\\C)c1ccnc(C)c1', 'CCCCc1ccc(C#N)cc1', 'C=CC1=CCC2=CCC=C2CN1', 'C=C/C=C(/N)c1ccccc1C', 'C#Cc1cc(C(C)(C)C)ccn1', 'CCc1cc2c(cc1C)N=CC2', 'Nc1ccccc1C1=CCCC1', 'C=Cc1ccc(C(=C)NC)cc1', 'C=N/C(C)=C\\\\c1ccc(C)cc1', 'CN/C(F)=C\\\\C(OC)=C(C)C', 'C#CC[C@@H](N)Cc1ccccc1', 'Cc1ccccc1N1CC=CC1', 'CC1=CC(C)c2cncc(C)c21', '[H]/N=C(\\\\C=C)C(C)c1ccccc1', '[H]/N=C(\\\\C)c1ccc(CC=C)cc1', 'Cc1cccc(C)c1CCC#N', 'Cc1ccc(N=C2CCC2)cc1', 'CC1=CC2=C(C)C(C)=C(C)C2=N1', 'N[C@@H]1CCc2cc3c(cc21)CC3', 'CCn1cc2ccc(C)cc2c1', '[H]/N=C(\\\\C)C(=C)Cc1ccccc1', 'C=C(C)c1ccccc1C(=C)N', 'CC(C)=C/C=N/c1ccccc1', 'Cc1[nH]cc2c1[C@@H]1C=C[C@H]2CC1', 'C=C/C=C\\\\c1cc(C)ccc1N', 'C#CC1=CN(C)C=C(CC)C1=C', 'c1ccc(C23CCC(C2)C3)nc1', 'Cc1cc2c(cn1)C=CC(C)C2', 'C=Cc1cccc2c1C(C)NC2', 'c1cc(C2CC2)cc(C2CC2)n1', 'CCCCC#Cc1cccnc1', 'C#C/C=C(\\\\C#CC)N(C=C)CC', 'Cc1c(C#N)cccc1C(C)C', 'Cc1cc(C#N)c(C)c(C)c1C', 'CCc1ccc2[nH]cc(C)c2c1', 'CCc1c[nH]c2cc(C)ccc12', 'C1=C[C@@H](c2ccccn2)CCC1', 'CC(C)C1=CCN2C=C=CC2=C1', 'CC(C)c1ccc2c(c1)CC=N2', 'C=C1CCN1c1ccc(C)cc1', 'C(=C1CCNC1)c1ccccc1', 'C=CCc1ccc(/N=C/C)cc1', '[C-]#[N+]c1ccc(C(C)CC)cc1', 'C1=c2ccn3c2=C(CC1)CCC3', 'Cc1ccc(C)c(C#CCN)c1', 'CC1C(=CCC#N)C2C=CC1C2', 'C/C=C/N=C(\\\\C)c1ccccc1', 'C1=C(Cc2ccccc2)CCN1', 'CC=C=CC(N)c1ccccc1', 'CCc1ccc2cc(C)cn2c1', 'C=c1cc(C)cn/c1=C/C=C\\\\C', 'CC1C=Cc2ccccc2N1C', 'C#CCCN(C)c1ccccc1', 'c1ccc2c(c1)CCC1CNC21', 'C=C(/C=C\\\\NC)c1ccccc1', 'C=C/C=C/Cc1ccccc1N', 'CC1C=Cc2cc(N)ccc2C1', 'C1=CCCC(C2=CCCN=C2)=C1', 'CC(=O)C(F)C1CCCNC1', 'C=Cc1ccc(C2CCN2)cc1', 'C=Cc1ccc(N)cc1C(=C)C', 'CN(C)C1=CCc2ccccc21', 'C=C=CCCNc1ccccc1', 'C=CC1=CC2=CCC=C2CCN1', 'C=C(N)c1cccc(C2CC2)c1', 'c1cc2c3c(c1)CNC3CCC2', 'OC(CF)CNC1CC=CC1', 'CC1C=c2cccnc2=CC1C', 'CC1C(C)C(C)(F)C(=O)N1C', 'C=CCC(N)=Cc1ccccc1', 'NC1CC12CCc1ccccc12', 'C1=CC2=C3CCNC3CCC2=C1', 'CC#CC(C)Cc1ccncc1', 'C=Cc1ccc(C)cc1C(=C)N', 'c1ccc2c(c1)NCC1CC[C@@H]21', 'COC[C@@]12CCN1CC[C@H]2F', 'Cc1cnc(C)c2c1=CCCC=2', 'C=CN(C=C)c1ccccc1C', 'Cc1cccccc(N)ccc1', 'C=CCN1CC1c1ccccc1', '[H]/[C+]=C1\\\\C=C[CH-]C=C1N1CCCC1', 'CC1(C)C=c2ncccc2=CC1', '[H]/N=C1\\\\CCc2ccccc2C1C', 'C#C.C=C(C#N)/C=C\\\\C(C)=C/C', 'CCc1cc(C)cc2cc[nH]c12', 'C=C1c2ccccc2CCN1C', 'Cc1ccc2c(c1)CC=CN2C', '[C-]#[N+]CC(C)c1ccccc1C', 'CC(C)c1ccc2cccn2c1', 'CC1C=CC(N)c2ccccc21', 'CCc1ccc(C#N)c(C)c1C', 'C#Cc1ccc(C(C)(C)C)cn1', 'FC1(C[C@H]2CCOC2)CNC1', 'C1=C(Cc2ccccn2)CCC1', 'C#CC(N)Cc1ccccc1C', 'NC1CCCC2=C1C=CCC#C2', 'CC1=CC2C=CC(N)=CC2C=C1', 'CN(C(=O)F)C1CCCCC1', '[C-]#[N+]Cc1ccccc1C(C)C', 'C=Cc1ccncc1/C(C)=C\\\\C', 'C1=CC[C@@H](c2ccccc2)NC1', 'CCc1ccc(C)c(CC#N)c1', '[H]/N=C(\\\\CC=C)c1ccc(C)cc1', 'CNC1C=c2ccccc2=CC1', 'Cc1ccccc1C12CC(C1)N2', '[C-]#[N+]CCC(C)c1ccccc1', 'CC#CNCc1ccc(C)cc1', 'CC1=CCCc2ncc(C)cc21', 'C=Cc1ccc(C)cc1/N=C/C', 'CCC1C=CN2C=CC=CC2=C1', 'CC1C=C(N)c2ccccc2C1', 'c1ccc(C2C3CCCN32)cc1', 'C1=CCC(CCc2ccc[nH]2)=C1', 'C=Cc1ncc#cc1C(C)(C)C', 'CCc1ccc2c(n1)CCC=C2', 'Cc1cccc2ccccc12.N', 'CCCC1C=Cc2cccnc21', 'c1cc(C2CC2)nc(C2CC2)c1', 'NC1CC=CCc2ccccc21', 'CC(C)(C#N)Cc1ccccc1', 'CC1N=CCC1c1ccccc1', 'CCc1c[nH]c2c(C)cccc12', '[C-]#[N+]c1cc(C)cc(C(C)C)c1', 'c1ccc2c(c1)CC1CCCN21', 'NCCCC#Cc1ccccc1', 'CCC#CNCc1ccccc1', 'C=CC(=C)NCc1ccccc1', 'CC1=NC(C)c2cc(C)ccc21', 'c1cc2c3c(c1)CCC3NCC2', 'CNCc1cccc2c1CC=C2', 'NC1CC1/C=C/c1ccccc1', 'CC1=C(C)c2c(C)ccnc2C1', 'C/C=C\\\\N=C1/C=CC=C/C1=C/C', 'C/C=C\\\\c1ncccc1/C=C/C', 'c1ccc2c(c1)[C@@H]1CC[C@@H]2NC1', 'NC1CC(F)(C2CCOC2)C1', 'CC1/C=c2/[nH]cc/c2=C/C=CC1', 'COC[C@]12CCN1C[C@H](F)C2', 'Nc1ccc2c(c1)C=CCCC2', 'Cc1cccc2c1NCCC=C2', 'COC[C@@]12CCN1C[C@H](F)C2', 'C=CCc1cccc2c1CNC2', 'CCC1=NCc2cc(C)ccc21', 'C=c1cccn/c1=C(C)/C=C\\\\C', 'CC1=NCCC1c1ccccc1', 'CC1=c2c(C)nccc2=CCC1', 'CCc1cc(C)cc2c1N=CC2', 'C=CCC/C=C/c1ccccn1', 'Cc1cnc2c(c1)C=CC(C)C2', 'CC1=CN2C=CCC(C)=C2C=C1', 'CC(C)NC(=O)C(F)C1CC1', 'C=C=Cc1c(C)cn(C)c1C=C', 'C/C=C1/CCc2cncc(C)c21', 'c1ccc(C2[C@H]3CN[C@@H]2C3)cc1', 'CC[C@@]1(C)C=Nc2ccccc21', 'CCc1c(C)ccc(C#N)c1C', 'CCC1=NCc2ccc(C)cc21', 'NC1=C(c2ccccc2)CCC1', 'CC(=C1CNC1)c1ccccc1', 'CC1=CC2=CC=NC(C)C2C=C1', 'CCC1=CC=CC2=CC=CCN21', 'C#CC(C)(C)c1ccncc1C', 'CNC1=CC=C2C=CC=C[C@@H]2C1', '[C-]#[N+]C(c1ccccc1)C(C)C', 'C=CC(CC)=c1cccnc1=C', '[H]/N=C(\\\\C)c1ccc(C=C)c(C)c1', 'CCC1=CCc2cc(N)ccc21', 'Cc1ccc2c(c1)N(C)C1C[C@H]21', 'CC1=CC2=C(C=C=C1)CCN2C', 'C/C=C/C=c1/cccc/c1=C/N', 'CC#CC(C)c1cnccc1C', 'C=C1CN1C(C)c1ccccc1', 'C#CC(N)c1cc(C)cc(C)c1', 'CC1=C(C)c2nccc(C)c2C1', 'CC(C)c1cnc2c(c1)C=CC2', 'CCc1cccc2c1ccn2C', 'CCc1cccc2c1C(C)=NC2', 'CCN1CC(CCF)CC1=O', 'C=C(C)/C=C/C=C/C(C#N)=C/C', 'C1=C2C3=C(C(=C1O)O)OC(=O)C4=CC(=C(C(=C43)OC2=O)O)O', 'CC(C)C1S/C(=N\\\\c2c(Cl)cccc2Cl)NC1=O', 'CCCCCC(Br)C(=O)c1cccc(Cl)c1', 'Brc1ccc2oc(CCc3ccccc3)nc2n1', 'C=Cc1cccc(-c2cn[nH]c(=O)c2Br)c1C=C', 'CN1CCC(NC(=O)c2csc(Br)c2)CC1', 'O=C(c1cncs1)N1CCCC1CCCBr', 'OC(Cc1cccc(F)c1Cl)c1c(F)cccc1Cl', 'CCSCC(C)NC(=O)c1ccc(Br)nc1', 'Oc1cccc(Cc2ncc3ccc(Br)cn23)c1', 'O=C(Cc1ccc(Br)s1)NC1CCNCC1', 'C=C(Br)CNC(=O)N(CC)Cc1cccs1', 'Brc1cncc(NCc2cc3ccccc3o2)c1', 'CC1CN=C(SCc2ccc(Cl)cc2Cl)NC1=O', 'Clc1snnc1CN1CCOC(c2nccs2)C1', 'OC(c1ccc(Br)cc1)c1nc2ccccc2[nH]1', 'Fc1ccc(OCc2cc(Cl)ccc2F)c(CCl)c1', 'OCCCSc1nc(CCl)nc2cc(Cl)ccc12', 'COC(=O)C1(NCc2ccnc(Br)c2F)CC1', 'Cn1c(CO)cnc1SCc1cc(Cl)ccc1Cl', 'COc1cc(C(N)CC(=O)[O-])cc(Br)c1OC', 'Brc1cccc2ccc(NCc3ccco3)nc12', 'O=C1Nc2ccccc2N[C@@H]1c1cccc(Br)c1', 'CN(C(=O)c1csc(Br)c1)C1CCCNC1', 'Brc1ncc2cc(OCc3ccccc3)ccn12', 'OC(Cc1cccc(F)c1F)c1cccc(Cl)c1Cl', 'O=C(Nc1ccc(F)c(Br)c1)NC1CCOC1', 'ClCCOc1cccc(NCc2cnc(Cl)s2)c1', 'N#Cc1ccc(NCc2ccc(O)c(Br)c2)cc1', 'Cc1ccc(Br)cc1Oc1cc(C#N)ccc1N', 'COc1ccccc1-n1cnc2cc(Br)ccc21', 'OC(Cc1cc(F)cc(F)c1)c1c(Cl)cccc1Cl', 'CN(C(=O)CC1CCNC1)c1cc(Br)cs1', 'CCC(Br)c1ccc(CC(=O)CCCl)cc1', 'N#Cc1cccc(NCc2ccc(O)c(Br)c2)c1', 'CCc1cc(Cl)cc2sc(NC(=O)[C@H](C)Cl)nc12', 'CCCc1cc(=O)[nH]c(SCc2nnsc2Cl)n1', 'COc1ccc(C#N)c(Nc2cccc(Br)c2)c1', 'CNC(c1cc(Cl)sc1Cl)c1ncccc1OC', 'Oc1cccn2c(Cc3ccccc3)nc(Br)c12', 'Cc1nc(C(C)Nc2cc(Cl)c(O)c(Cl)c2)cs1', 'Cc1cc(O)c(-c2nc3ccccc3[nH]2)cc1Br', 'O=[N+]([O-])c1cc(C2(C(F)(F)F)N=N2)ccc1CN=C=S', 'Cc1ccc(Br)c2c(C#N)cc(C(=O)C3CC3)n12', 'OC(Cc1ccc(F)c(Cl)c1)c1cccc(Cl)c1F', 'CCCCCCC(=O)c1cccc(Br)c1Cl', 'O=C1Nc2ccccc2CN1c1ccc(Br)cc1', 'Cc1cc(C(O)c2cc(Cl)ccc2F)c(Cl)cc1F', 'N#Cc1cc(OCc2cccc(Br)c2)ccc1N', 'Cc1ncn(CC2(CS)CCC2)c(=O)c1Br', 'Nc1c(F)cc(Br)cc1N1C(=O)CCC1CO', 'COc1cccc(-c2nc3ccc(Br)cc3[nH]2)c1', 'Cc1ccc(N)c(Oc2ccc(Br)cc2C#N)c1', 'Cc1cc(Oc2ccc(C#N)c(Br)c2)ccc1N', 'Fc1ccc(COc2ccc(F)cc2CCl)c(Cl)c1', 'CC(Cl)C1(CCOc2ccc(Br)cc2)CC1', 'O=C(Nc1ccc(Br)c(F)c1)N1CCOCC1', 'O=C(O)c1cc(Cl)nc(Nc2cc(F)cc(F)c2F)c1', 'COc1ccc(Br)cc1-c1ncc2ccccn12', 'CC(=O)N1CCC(c2nc(C)c(Br)s2)CC1', 'CC(=O)CC(Cl)c1ccc(CC(C)Br)cc1', 'OC(Cc1ccc(F)cc1Cl)c1cc(F)ccc1Cl', 'CCNC(=O)C(C)Sc1ccc(Br)cc1N', 'ClCC1(Cc2ccc(Br)cc2)CCCOC1', 'CCC(CSC)NC(=O)c1cccc(Br)n1', 'NCc1ncc(-c2ccc3cc(Br)ccc3c2)o1', 'CNCCNC(=O)c1sc2cc(Cl)ccc2c1Cl', 'Cc1cscc1OCCn1cc[n+](C)c1.[Br-]', 'COc1nc(SC2CCCCC2)ncc1Br', 'O=C1NC2(CC2)c2cccc(Br)c2-n2cccc21', 'Cc1cc2c(=O)[nH]c(-c3ccc(Br)cc3)cn2c1', 'CC1OCCC1(CCl)Cc1cccc(Br)c1', 'N#CC(Nc1cccc(Br)c1)c1ccc(O)cc1', 'CC(C)SC(C#N)NC(=O)c1c(Cl)cccc1Cl', 'CCC1(C)C(Cl)CC1Oc1ccc(Br)cc1', 'CCNC(=O)CNC(=O)c1ccc(F)c(Br)c1', 'CC(=O)NC1CCN(Cc2sccc2Br)C1', 'Cc1c(Br)cccc1COc1ccc(C#N)cn1', 'CN1CCC(Oc2cc(F)c(Br)cc2N)C1=O', 'N#Cc1cc(COc2cccc(CBr)c2)ccn1', 'O=C(NC1CCCCC1CBr)c1cncs1', 'Fc1ccc2c(c1)-c1ccc3cc(Cl)cnc3c1NS2', 'Cc1cccc2nc(-c3ccc(N)c(Br)c3)oc12', 'OCc1ccc(-n2ncc3ccccc32)c(Br)c1', 'CCOC(=O)C=C(C)Nc1cnc(Br)c(F)c1', 'CC(Sc1cccc(Br)c1)C(C)C(=O)NN', 'Clc1c(Br)cccc1OCC1CCCCC1', 'Cc1cc(C(=O)N2CCNC[C@H]2C)sc1Br', 'Oc1cccc(Cc2c[nH]c3ncc(Br)cc23)c1', 'Cc1c(Br)cccc1/N=C1\\\\OCc2ccncc21', 'Brc1ccc2c(COc3cccnc3)c[nH]c2c1', 'CNCc1nc(-c2cc(Cl)cc(Cl)c2OC)cs1', 'NCc1cc(Br)cc(N2CCS(=O)CC2)c1', 'Oc1ccc2nc(Cc3ccc(Br)cc3)[nH]c2c1', 'CCNc1ncc(COc2ccc(Cl)cc2Cl)s1', 'Cc1cccc2[nH]c(=O)n(-c3ccc(Br)cc3)c12', 'CCOC(=O)OP(=S)(OCC)SC(=O)OCC', 'CCNc1ncc(COc2ccc(Cl)c(Cl)c2)s1', 'Cc1cc(C)c(C#N)c(Oc2ccccc2Br)n1', 'CCc1nc(CCN2CC(Br)CC2=O)cs1', 'CC1(C)C(=O)NCCN1Cc1sccc1Br', '[H]/N=C(\\\\N)c1cc(Br)ccc1SCCCOC', 'CC(CBr)CCc1cc(Cl)cc2c1OCC2', 'COc1cccc(-n2cc(Br)c3ccccc32)n1', 'COc1ccccc1C(Cl)c1cc(F)c(F)cc1Cl', 'CN(Cc1ccc(Cl)cc1)C1=NC(Cl)C(C=O)S1', 'OC(Cc1c(Cl)cccc1Cl)c1c(F)cccc1F', 'CCCCC(=O)N/N=C(\\\\C)c1ccc(Br)s1', 'O=C(Nc1ccc(Br)c(F)c1)NC1CCOC1', 'Cc1cccc2oc(-c3cc(Br)ccc3N)nc12', 'OC1(CSc2ccc(Br)cn2)CCNCC1', 'NC(CNC(=O)Cc1ccc(Br)s1)C1CC1', 'Cc1nc(COc2cc(Cl)c(Cl)cc2N)sc1C', 'Cc1cnc(NC2CCS(=O)CC2)c(Br)c1', 'O=C(O)c1cnc(Cl)cc1-c1ccc(C(F)(F)F)nc1', 'OCc1c(-c2ccccc2)nc2cc(Br)ccn12', 'Cc1cc(C(=O)N(C)C2CCNC2)sc1Br', 'Cc1cc(C=NS(=O)C(C)(C)C)ncc1Br', 'NC(c1ccncc1)c1cc2cc(Br)ccc2o1', 'COC(=O)C1CC(C=C(Cl)C(F)(Cl)Cl)C1(C)C', 'O=C([O-])/C=C/c1cc(C(=O)[O-])c(/C=C/C(=O)[O-])cc1C(=O)[O-]', 'O=C1CN(CP(=O)(O)O)C(=O)CN1CP(=O)(O)O', 'CCCCCC(=O)NN=Cc1ccc(Br)s1', 'O=C(O)c1coc(CS(=O)(=O)c2cc(F)ccc2F)c1', 'CC(C(=O)c1ccc(Br)cc1)n1cccc1C#N', 'ClC(Cc1cccc(Br)c1)C1CCCOC1', 'Brc1ccc(CNc2cccc3cccnc23)o1', 'CNC1CCCN(C(=O)c2csc(Br)c2)C1', 'Fc1cccc(COc2c(F)cccc2CCl)c1Cl', 'O=[N+]([O-])c1cc(F)c(Cl)cc1NCC(O)C(F)(F)F', 'OCc1nc(-c2ccc(Br)cc2)n2ccccc12', 'Clc1cccc(C(CBr)OCC2CCC2)c1', 'CCOC(=O)C(C)/N=N/c1ccc(F)cc1Br', 'Cc1cccc(Oc2ccc(Br)c(CC#N)c2)n1', 'Cn1c(Oc2ccccc2)nc2c(Br)cccc21', 'CCN1CCN(C(=O)c2cc(Br)cs2)CC1', 'Brc1cncc(C2=N[C@H](c3ccccc3)CO2)c1', 'CC1(C)CC(N)CN1C(=O)c1ccc(Br)s1', 'COc1cccc(C(F)F)c1-c1ccc(Cl)c(Cl)c1', 'CC(=O)c1ccc(/N=N/c2ccc(Br)cc2)cc1', 'Nc1cccc(F)c1S(=O)(=O)Nc1nccc(Cl)n1', 'Cc1cccc2c1[nH]c(=O)n2-c1cccc(Br)c1', 'NCCCSCC(=O)Nc1ccccc1Br', 'O=C(c1cncs1)N1CCCCC1CCBr', 'Cc1cc(C=O)c(C)n1-c1cc(Br)ccc1C#N', 'Cc1cc(CBr)cnc1Oc1ccc(C#N)cc1', 'Cc1cccn2c(-c3cccc(O)c3)nc(Br)c12', 'Brc1cnc2c(NCc3ccoc3)cccc2c1', 'O=C(/C=C/Nc1ccccn1)c1ccc(Br)cc1', 'O=C(O)c1cnc(-c2ccc(F)cc2Cl)nc1C(F)F', 'CC(C)CSc1ccc(/C(N)=N/O)cc1Br', 'NC1CCN(C(=O)Cc2ccc(Br)s2)CC1', 'Cc1cc(C(=O)N2CCC(N)CC2)sc1Br', 'O=C(C=Cc1cccnc1)Nc1cccc(Br)c1', 'O=C(O)N1CCN(c2ccc(Br)cc2F)CC1', 'NCC1CCCCN1C(=O)c1cc(Br)cs1', 'CC(C(=O)NC1=NCCS1)c1c(Cl)cccc1Cl', 'CSCC(C)N(C)C(=O)c1cncc(Br)c1', 'CN(CC1CCNC1)C(=O)c1ccc(Br)s1', 'CSCCC(C#N)NC(=O)c1cc(Cl)cc(Cl)c1', 'NC1CCC(NC(=O)c2sccc2Br)CC1', 'Clc1ccc(C(Br)CCC2CCCO2)cc1', 'Oc1cccc(CNCCc2nc(Cl)sc2Cl)c1', 'Cc1cc(Cl)ccc1CC(Br)C(=O)C(C)C', 'Cc1cc(C(=O)CCCCCCl)ccc1Br', 'CCCC(Sc1ccc(Br)cc1)C(=O)NN', 'NCC1CCCCN1C(=O)c1sccc1Br', 'Cc1csc(C(=O)c2c(Cl)cnn2C(C)C)c1Cl', 'O=C1C(Cl)=CC=C(C(F)F)C1C(Cl)c1ccccc1', 'Oc1cccc(Cc2cn3ccc(Br)cc3n2)c1', 'O=C(CNCc1ccc(Br)s1)NCC1CC1', 'CNCC1CCN(C(=O)c2cc(Br)cs2)C1', 'CCNc1ncc(COc2cccc(Cl)c2Cl)s1', 'CC(C)=CCNc1cc(F)c(Br)cc1[N+](=O)[O-]', 'Oc1ccccc1/C=N\\\\N=C\\\\c1ccc(Br)cc1', 'Cc1ccc(C#N)cc1Oc1cc(Br)ccc1N', 'Fc1cc(CCl)cc(F)c1OCc1ccc(Cl)cc1', 'COC(=O)c1cc2cc(C(F)S(C)(=O)=O)ccc2s1', 'NNC(=O)C1(c2cc(Br)cs2)CCCCC1', 'Cc1[c-]cccc1F.[Ir]', 'CC(C)CCCC(=O)c1ccc(Cl)cc1Br', 'COCc1nc(Cl)cc(Sc2ccc(F)c(F)c2)n1', 'O=C1NCCCCC1NCc1sccc1Br', 'CCOC(=O)c1ccc(C(=O)C(F)(F)C(F)(F)F)s1', 'FC(F)(F)COCCCOc1cc(Cl)ccc1Cl', 'CCOP(OCC)/C(=C/Br)c1ccccc1', 'O=C(c1cscn1)N(CCCBr)C1CCC1', 'Cc1nc(C(=O)NC2(CBr)CCCC2)cs1', 'CC(O)(Cc1ccc(Br)cc1Cl)C1(C)CC1', 'O=C(NC1CCCNCC1)c1ccc(Br)s1', 'CCCSCc1ccc(C(=O)NN)cc1Br', 'CC1CCNCC1NC(=O)c1sccc1Br', 'Fc1ccc(COc2ccc(Cl)cc2CCl)c(F)c1', 'NCc1c(Br)cccc1N1CCS(=O)CC1', 'CCOc1cc(Br)c2c(c1)C(Cl)CCCC2', 'NCCCNC(=O)c1sc2cc(Cl)ccc2c1Cl', 'O=[N+]([O-])c1cnc(Cl)c(-c2ccccc2C(F)(F)F)c1', 'O=C(O)CC(OC(=O)C(O)COP(=O)(O)O)C(=O)O', 'Cc1cc(Br)cc2[nH]c(-c3ccccc3O)nc12', 'Fc1ccc2cc(-c3nc4c(Cl)cccc4[nH]3)sc2c1', 'COc1ccccc1-n1ncc2cc(Br)ccc21', 'Nc1ccc2nc(Cc3ccc(Br)cc3)oc2c1', 'O=C(O)c1cnc(Nc2cc(F)cc(F)c2F)c(Cl)c1', 'Cn1c(Oc2ccc(Br)cc2)nc2ccccc21', 'Clc1ccc(Br)cc1OCC1CCCCC1', 'OC(Cc1cc(F)cc(F)c1)c1cccc(Cl)c1Cl', 'CCC(Br)C(=O)c1ccc(CCCCl)cc1', 'CC(C)NC(=O)C(C)Sc1ncccc1Br', 'Cc1cc(C)c(C(=O)C(Br)CCCl)c(C)c1', 'Cc1cccc(C=CC(=O)c2cncc(Br)c2)n1', 'Oc1ccn2c(Cc3ccccc3)nc(Br)c2c1', 'O=[N+]([O-])c1ccc(F)c(F)c1Nc1ccc(F)c(Cl)c1', 'Fc1c(F)c(F)c(-c2cc(C(F)(F)F)[nH]n2)c(F)c1F', 'O=C(Nc1ccc(F)c(Br)c1)N1CC[C@H](O)C1', 'Nc1ncc(S(=O)(=O)Nc2ccncc2F)cc1Cl', 'Cc1cc(CNC2CCC(=O)NC2)sc1Br', 'CN(C)CCNC(=O)c1cc(S)ccc1Br', 'O=Cc1ccccc1O.O=Cc1ccccc1O.[Ni+2]', 'O=C(O)c1cnc(Nc2cc(F)c(F)c(F)c2)c(Cl)c1', 'CCCCC(=O)N/N=C(/C)c1ccc(Br)s1', 'Cc1c(N)cccc1Oc1ccc(Br)cc1C#N', 'FP(F)OP(Oc1ccccc1)Oc1ccccc1', 'CN(CC(=O)NC1CC1)Cc1sccc1Br', 'CC(C)(C(=O)Cl)C(C)(C)c1ccccc1Br', 'CC(C)C1S/C(=N\\\\c2ccc(Cl)cc2Cl)NC1=O', 'N#CN(CCOCCO)c1ccc(F)c(Br)c1', 'Oc1ccn2c(Cc3cccc(Br)c3)ncc2c1', 'O=C1NCCCC[C@H]1NCc1csc(Br)c1', 'CC(C)CC[Se][Se]CCC(C)C', 'OCc1ccc2ccc3ccc(CBr)nc3c2n1', 'Cc1oc(N=Cc2cccc(Br)c2)c(C#N)c1C', 'CNC1CCOCC1Sc1ncccc1Br', 'Cc1cc(C(NN)C2=COCCC2)sc1Br', 'C#CCCC(=O)Nc1cccc2cc(Br)cnc12', 'CC1CNCC(C)N1C(=O)c1csc(Br)c1', 'Cc1ncc(C(=O)NCC2(CCBr)CC2)s1', 'Brc1ccc(C2=NC(c3ccccc3)CO2)nc1', 'NC[C@H](COc1cc(Cl)ccc1Cl)c1nccs1', 'NCCCSCC(=O)Nc1cccc(Br)c1', 'C[C@H]1CN(C)CCN1C(=O)c1csc(Br)c1', 'COc1ccc(Cl)cc1C1CCC(Br)C1C', 'CC(=O)N1[C@@H](C(=O)[O-])CS[C@H]1c1c(F)cccc1Cl', 'CC(O)(Cc1ccc(Br)cc1Cl)CC1CC1', 'Cc1ccc2c(Br)nc(-c3ccccc3O)n2c1', 'Fc1ccc2c(c1)-c1cc(Cl)c3cccnc3c1NS2', 'O=C(F)C(F)(OCCCCS(=O)(=O)F)C(F)(F)F', 'O=C(c1ccc(Br)cn1)N1Cc2ccccc2C1', 'Cc1cc(C#N)ccc1COc1cncc(Br)c1', 'Cc1cc(Br)ccc1Oc1cc(C#N)ccc1N', 'Cc1ccc(Oc2nccc(C)c2C#N)c(Br)c1', 'NCC1CCCN(C(=O)c2csc(Br)c2)C1', '[H]/N=c1\\\\oc2ccc(-c3ccc(Br)cc3)cc2n1C', 'O=C1NCCN1CCOc1cc(F)ccc1Br', 'C/C(=N\\\\[S@@](=O)C(C)(C)C)c1ccc(Br)cn1', 'Nc1cc(Br)c(F)cc1N1CC(CO)CC1=O', 'O=C(NCc1ccc(Br)s1)[C@H]1CCCCN1', 'CC[C@H](C)[C@@H](C(=O)O)NC(=O)CC1=CNC2=CC=CC=C21', 'CCC(c1noc2ccccc12)C1CCCCN1C(=O)O', 'COc1cc(F)c([C@@H]2CN(CCF)CCC2N)c(F)c1', 'CCCCOc1ccc(-n2nc(C(=O)O)cc2CC)cc1', 'CN(C)Cc1ccc(NCc2ccc(O)c(O)c2O)cc1', 'CNc1cc(C2CCN(C)CC2)ccc1OC(F)(F)F', 'O=C(O)/C=C/c1ccc(NC(=O)CC2CCCNC2)cc1', 'CCCCCCNC(=O)c1c(O)c2ccccc2[nH]c1=O', 'CC[C@H](C)[C@@H](NC(=O)c1ccc2[nH]ccc2c1)C(=O)OC', 'CC(C)N(CCC(=O)O)Cc1coc(-c2ccccc2)n1', 'CCC1(C(=O)O)CCCN1CCOc1ccc(C#N)cc1', 'CC1Cc2ccccc2N1C(=O)N1CCCCC1C(=O)O', 'Cc1cccc(NC(=O)C2C3CCC(C3)C2N)c1C(=O)O', 'CC1COC(CO)CN1c1ncc(CO)c2ccccc12', 'CCCN(CC(F)(F)F)C(=O)c1ccc(NC)cc1C', 'C=CCNC(CC(=O)OC)Cc1ccc2c(c1)CC(=O)N2', 'CCc1ccnc(C(=O)N2C[C@@H]3CCC[C@@]3(C(=O)O)C2)c1', 'COC(=O)[C@H](CCCC#N)NC(=O)CCc1ccccc1', 'Cc1ccc(C#CCCO)c(C(=O)NC(C)(C)C(N)=O)c1', 'CC(C)(C)C(CN)NC(=O)c1ccc(C(F)(F)F)cc1', 'C[C@@H]1CN(c2ccc(CN)c(C(F)(F)F)c2)C[C@H](C)O1', 'Cc1nc(COc2cccc(NC(=O)C(C)C)c2)oc1C', 'O=C(O)Cc1ccccc1NC(=O)C1CC12CCNCC2', 'COc1cccc2c(NC(=O)COC(C)C)cc(C)nc12', 'C#CCN(CCC)C(=O)N(CCC(=O)O)c1ccccc1', 'CCC(CCO)CNc1cc(C(=O)O)c2ccccc2n1', 'CN(C(=O)CCc1c[nH]c2ccccc12)C(C)(C)C(=O)O', 'CCC(=O)c1ccc(O[C@H](C)c2nc(C(C)C)no2)cc1', 'CC1CCCC(n2c(=O)[nH]c3cc(C(=O)O)ccc32)C1C', 'CCC1CCCC(c2noc(-c3ccc(O)c(O)c3)n2)C1', 'CCc1nc2cc(C(=O)O)ccc2n1CC1CCC(O)C1', 'Cc1[nH]c2ccccc2c1C(=O)N(CC(=O)O)C(C)(C)C', 'CN(CC1(O)CCCC1)C(=O)c1ccc(C#CCO)cn1', 'COc1ccc(C(O)C(C)NC(=O)C2(C#N)CCC2)cc1', 'CNCc1c(C)c(C)c2c(=O)c(C(=O)O)cn(C)c2c1C', 'C[C@@H]1CCCC/C1=N/NC(=O)[C@H]1COc2ccccc2O1', 'COC(=O)c1cc2[nH]c(CN3CCOCC3)cc2cc1C', 'CC1CCCCC1Cn1c(=O)[nH]c2cc(C(=O)O)ccc21', '[H]/N=C(\\\\N)C(COc1cc(C(C)C)ccc1C)C(F)(F)F', 'CCN(C)C(=O)C(C)NCc1cccc(C(F)(F)F)c1', 'CC1COCCN1CC(N)c1ccc(C(F)(F)F)cc1', 'COc1cc(OC)c(OC)cc1CNc1ccc(C)nc1', 'C[C@H](NC(=O)CN(Cc1ccco1)C1CC1)c1ccco1', 'CCC(C)C(NC(=O)Cn1ccc2ccccc21)C(=O)O', 'O=C(O)[C@H]1Cc2ccccc2CN1C(=O)NCCC1CC1', 'CC(C)CC(O)CNC(=O)c1ccc(-c2cnco2)cc1', 'O=C(O)[C@H]1CCCN(C(=O)NC2CC2c2ccccc2)C1', 'COc1ccc(C)cc1NC(=O)C1CC(=O)N(C2CC2)C1', 'CCN(C(=O)c1cc(C)no1)[C@H](C)c1cccc(OC)c1', 'CC1CCC(C(Cc2ccc(C(F)(F)F)cc2)NN)O1', 'CC1(NC(=O)N2CC(C(=O)O)c3ccccc32)CCCC1', 'COc1ccc(NCC2CCNCC2)c(C(F)(F)F)c1', 'CNC(C)(C)C(=O)N(Cc1ccccc1)CC(F)(F)F', 'C[C@H]1CCCCN1C(=O)CN1C(=O)COc2ccccc21', 'CC1=C(C(=O)N2CCNC(c3ccccc3)C2)OCCO1', 'NCCN1CCC(Oc2ccccc2C(F)(F)F)CC1', 'NC1CCC(C(=O)N2CCCc3c(C(=O)O)cccc32)C1', 'CCc1c(C)nn(Cc2cc(C(=O)O)ccc2OC)c1C', 'COc1ccc2[nH]cc(CCNC(=O)[C@H]3CCCO3)c2c1', 'O=C1Cc2cc(C(=O)N3CCCC3CCCO)ccc2N1', 'CCOC(=O)N1[C@H]2CC[C@H](NC(=O)C2)[C@H]1c1ccccc1', 'CC1(NC(=O)c2ncccc2C#CCCO)CCCOC1', 'CCC(C)[C@H](N)C(=O)Nc1cc(C(F)(F)F)ccc1C', 'COc1cccc([C@@H]2C[C@H](O)CN2Cc2cc(C)on2)c1', 'N#Cc1ccccc1OCC(=O)NCC1(CO)CCCC1', 'COC(=O)c1cccc(C(C)C)c1COc1ccn(C)n1', 'C/N=N/C(c1ccccc1)(c1ccccc1)[n+]1ccccc1', 'COc1ccc2oc(C(C)NC(=O)C3CNC3)c(C)c2c1', 'Cc1cc(C)cc(OCC(=O)N/N=C2\\\\CCCC(=O)C2)c1', 'COC(=O)c1ccc(NC(=O)C2CC2)cc1N1CCCC1', 'CCCN1C(=O)CC(NCC2Cc3ccccc3O2)C1=O', 'O=C(NCC1=CCNCC1)c1ccc2c(c1)OCCCO2', 'COc1cccc(OC)c1C(COc1ccccc1)NN', 'COc1ccnc(COc2c(C)cc(C)cc2N)c1OC', 'CCc1cc(COc2c(C=O)cccc2OC)n(CC)n1', 'CCC(CC)c1noc(N)c1-c1ccc2c(c1)OCCO2', 'COCC1CCCN(C(=O)c2ncccc2C#CCO)C1', 'CC(OCC1CCCCO1)C(=O)Nc1ccccc1C#N', 'CCC(=O)c1ccc2c(c1)nc(CC)n2CCCC(=O)O', 'Cc1ccc(C(=O)OCCOCCn2cccn2)cc1C', 'O=C(O)C1CCCN(C(=O)[C@H]2Cc3ccccc3CN2)C1', 'COCC1CCN(c2ccc(C(F)(F)F)cc2N)CC1', 'O=C(NCCN1CCC[C@H](O)C1)c1ccc2occc2c1', 'CCOC(=O)c1cnc2ccc(C)cc2c1N(C)CCO', 'CNc1nc(N2CCNC(=O)CC2)nc(-n2cccn2)n1', 'O=C(NC1CCOCC1)C(=CO)/C=N/Cc1ccccc1', 'CCN(Cc1ccco1)C(=O)CCOc1ccc(N)cc1', 'O=C(N[C@H]1CC[C@@H](C(=O)O)C1)c1ccc2c(c1)CCCN2', 'COC(=O)C1(C(=O)N2CC[C@H](Nc3ccccc3)C2)CC1', 'NCC1CCCC1Nc1ccccc1OCC(F)(F)F', 'CCN1CC(=O)N(CCCC(=O)c2ccccc2)CC1=O', 'COc1ccccc1NCN1C(=O)[C@@H]2CCCC[C@H]2C1=O', 'CN(CC1CCOCC1)C(=O)Cc1noc2ccccc12', 'COC(=O)C(N)Cc1c[nH]c2ccc(OCC3CC3)cc12', 'Cc1ccc(C(=O)NN2CCOCC2)cc1C#CCCO', 'CCc1noc(CC)c1CNC(=O)c1ccc(O)cc1C', 'CCC(C)(CNc1nccc2cc(OC)ccc12)C(=O)O', 'COc1ccc2c(c1)[C@@H](O)CC(c1cnn(C(C)C)c1)O2', 'CCC(CO)NC(=O)Cc1nc(-c2ccccc2)oc1C', 'COCCCN1C(=O)C(C2CC2)NC(=O)c2ccccc21', 'CC(CN1CCOC(C#N)C1)C(=O)OCc1ccccc1', 'CCOC(=O)CCN(C)Cc1ncc(-c2ccccc2)o1', 'CCCc1noc(COc2ccc3c(c2)[C@@H](O)CCC3)n1', 'CC1=C(CC(=O)O)C(=O)N(NCCc2ccccc2)CC1', 'Cc1cccc2c1-n1c(nc3c1-c1c(ccc(C)[n+]1C)C3)C2', '[2H]Cc1cc2ncc([N+]#[C-])c(Nc3ccccc3)c2cc1CC', 'CC1(Cn2c(=O)[nH]c3cccc(C(=O)O)c32)CCCCC1', 'CCc1nc2c(OCC3CCC3)cccn2c1C(=O)OC', 'CNCC(C)CNC(=O)Cc1ccc(C(F)(F)F)cc1', 'CCC(=O)N/C(N)=[NH+]/c1nc(C)c2ccc(OC)cc2n1', 'Cc1cccc(C(=O)N2CC3(CC(O)CNC3=O)C2)c1C', 'CCOC1CC(CC(N)c2cnccc2C(F)(F)F)C1', 'Cc1cccc(NC(=O)NCC2CC=CCC2)c1C(=O)O', 'Cc1cc(C=O)ccc1OCCN1C(=O)N(C)C=CC1C', 'CN(C(=O)CN1CCC(C(=O)O)c2ccccc21)C1CC1', 'COC(=O)N(C)c1[nH]c2ccccc2c1C[C@@H](C)C(C)=O', 'CCCC(CC(=O)O)n1ccc2cc(NC(C)=O)ccc21', 'CC1CC(C)CN(C(=O)Cn2c(=O)oc3ccccc32)C1', 'COC(=O)Nc1ccc2occ(C3CCN(C)CC3)c2c1', 'COC(=O)Cc1ccccc1OC(C)(C)c1nccn1C', 'COc1cc(C2(N=C=O)CC2)c(OC)cc1N1CCCC1', 'CN1C(=O)CCOc2ccc(C(=O)NC3CCCC3)cc21', 'CN(CCCCCN)C(=O)c1cccc(C(F)(F)F)c1', 'CCC(C)C(c1ccccc1)c1nnc(CCC(=O)O)o1', 'COc1ccc(NC(C)=O)cc1NC(=O)[C@@H]1CC=CCC1', 'COC(=O)C(NCc1coc(-c2ccccc2)n1)C(C)C', 'CCOc1ccccc1OC1CCCC1NC(=O)CC#N', 'CCOC(=O)C1(c2nc3cc(OC)ccc3n2C)CCC1', 'CCCc1cc2c(OC)c3c(c(OC)c2o1)CC=CN3N', 'CCC[C@H](NC(=O)Cc1c(C)[nH]c2ccccc12)C(=O)O', 'COc1ccc(N2CCN(C(=O)C3CC3)[C@H](C)C2=O)cc1', 'COc1cc(C(C)(C)C)c(OC)cc1-c1[nH]ncc1C=O', 'Cn1c(=O)oc2cc(NC(=O)C3CCCCCC3)ccc21', 'O=C1Cc2ccc(C(=O)NCCOC3CCCC3)cc2N1', 'CN1CC(CCC(=O)N2CCCc3ccccc32)OC1=O', 'Cc1cccc(C)c1OCCN1C(=O)C2CCCN2C1=O', 'COc1ccc2c(ccn2CC(=O)NCC2(CO)CC2)c1', 'CCN1B(N=C=O)N(CC)B(N=C=O)N(CC)B1N=C=O', 'CCCNC(Cc1cccc(C)c1)c1ccc([N+](=O)[O-])o1', 'COc1cc2ccnc(N3CCC(O)CC3)c2cc1OC', 'NC(=O)c1ccc(/C=C/C(=O)NC2CCCCC2O)cc1', 'CCOC(=O)C(CC1CCCCC1)C(OCC)P=O', 'Cc1cccc(C)c1OCC(=O)NC1(C#N)CCOCC1', 'COc1ccc(C2=NNC(=O)[C@@H]3CCCC[C@H]23)cc1OC', 'Cc1c(C(=O)O)c2ccccc2c(=O)n1NCC(C)(C)C', 'CCN1C(=O)NC(c2ccc(C)cc2)C(C(=O)OC)=C1C', 'O=C(NCC1(C(=O)O)CCCC1)C1Cc2ccccc2N1', 'Cc1ccc(B(c2ccc(C)cc2)c2ccc(F)cc2)cc1', 'CC(C)=CC(=O)NCc1ccc(C(=O)N2CC(O)C2)cc1', 'COc1cccc2ccc(CN3CCOCC3CO)nc12', 'CC1CCC(n2c(=O)[nH]c3ccc(C(=O)O)cc32)C(C)C1', 'CCc1ccc(CCC(=O)N2CC(=O)NC(=O)C2C)cc1', 'Cc1cccc(C2C(=O)NCCN2CC2(C(=O)O)CC2)c1', 'CN(C)C(CNCc1ccc2c(c1)OCO2)c1ccco1', 'C=CCN(CCC)C(=O)N1c2ccccc2CC1C(=O)O', 'CCCn1cc(N)cc1C(=O)OCc1cccc(OC)c1', '[C-]#[N+]CC1(OC)CCN(C(=O)OCc2ccccc2)CC1', 'COCC(=O)Nc1cccc(NC(=O)C2CC=CCC2)c1', 'CCC(=O)N1CCc2cc(N3CC(CC)OC3=O)ccc21', 'CCNc1nc(NCCc2noc(C)n2)c2cn[nH]c2n1', 'Cc1cccc(OCC(=O)NNC(=O)CC2C=CCC2)c1', 'CCCCCCCOC(=O)C1CCC(C(=O)Cl)CC1', 'COc1cccc(CN(C)C(=O)Cc2c(C)noc2C)c1', 'CC(CC(=O)O)Cc1nc(C(C)(C)c2ccccc2)no1', 'COC(=O)C(C)(N)CCOc1cccc2ccc(C)nc12', 'CC(C)CCC(=O)O[C@H](C)C(=O)Nc1ccccc1C#N', 'O=C(c1ccc(C#CCCO)cn1)N1CCCCC1CO', 'COc1cc(C)nc(COc2cc(OC)ccc2CN)c1', 'COc1ccc(/C=C/C(=O)N2CC(C)NC(=O)C2C)cc1', 'COc1ccc(C2=NN(C(C)=O)C3(CCCCC3)O2)cc1', 'COc1ccc2c(n1)c(CCCC(=O)O)c1n2CCCC1', 'CCN(CC)CCSc1c(F)cc(CNC)cc1F', 'CCC(C)(C)NC(=O)CN1C(=O)C(=O)c2cc(C)ccc21', 'C/C=C/c1ccc(OCC(=O)N(C)CCC#N)c(OC)c1', 'CCCCNC(=O)CO/N=C(/C)c1cc2ccccc2o1', 'COC(=O)c1cccc(NC(C)CCc2ccco2)c1N', 'Cc1ccc(C)c(OCc2nc(C3CCOC3)no2)c1C', 'C[C@H]1CCCC[C@H]1NC(=O)Cn1c(=O)oc2ccccc21', 'Cc1ccc(C)c(CC(=O)N2CC(=O)NC(=O)C2(C)C)c1', 'COc1nc(N)nc(N2CCN(c3ncccn3)CC2)n1', 'CCO[C@H]1COC[C@@H]1NC(=O)Cn1ccc2ccccc21', 'COC(=O)CCC1N=C(c2ccccc2)C(C)(C)NC1=O', 'CC1(C)CC(O)CC(C)(C)N1[O].O=C([O-])CCC(=O)[O-]', 'COc1ccc2oc(CN3CCN(C(C)=O)CC3)cc2c1', 'c1ccc(OCCOCc2cc(CNC3CC3)no2)cc1', 'CC(=O)NC(=Cc1ccccc1)C(=O)NC[C@@H]1CCCO1', 'CC(=O)Nc1ccc(C=CC(=O)NCC2(O)CCC2)cc1', 'COCCN(Cc1ccoc1)C(=O)NCc1ccccc1', 'COc1cc(CN2CCCC3(C2)OCCO3)ccc1C#N', 'O=C(O)C1CCCN(C(=O)c2ccc3c(c2)CCCN3)C1', 'C[C@H]1Cc2ccccc2N1C(=O)CN1CCC[C@@H]1C(=O)O', 'O=C(c1ccc2c(c1)OCCCO2)N1C[C@H]2CNC[C@H]2C1', 'O=C1CCC(c2cccc(OC3CCNCC3)c2)C(=O)N1', 'COc1c(C)ccc(-c2cc(C(=O)O)nn2C)c1C(C)C', 'CC(Oc1ccc(C#N)cc1)C(=O)N(CCO)C1CCC1', 'N#Cc1ccc(OCC(=O)NCCC2CCCCO2)cc1', 'O=C(CN(Cc1ccco1)Cc1ccco1)N1CCCC1', 'COc1ccc(OC)c(-c2cc(C)c(CN)c(=O)n2C)c1', 'O=C(NCC1(CO)CCOCC1)c1c[nH]c2ccccc12', 'COc1cc(CNc2ccc(C)nc2C)cc(OC)c1O', 'NC(=O)CCCCNC(CC(F)(F)F)c1ccccc1', 'COCC(O)CN1CCN(CC(F)(F)C(F)F)CC1', 'Cc1cc(CC(=O)C2CCCCC2C(F)(F)F)n(C)n1', 'CCOc1ccccc1N1CC(=O)N2CCCCC2C1=O', 'COc1ccc2cc(NC(=O)CC(O)C(C)C)ccc2n1', 'O=C1CN(C(=O)CC2CCCCO2)Cc2ccccc2N1', 'CC(C)NC(=O)CCNC(=O)c1cccc(C#CCO)c1', 'O=C(CN1CCN(CCO)CC1)c1cc2ccccc2o1', 'CN1C(=O)CCOc2ccc(C(=O)N3CCCCC3)cc21', 'COc1ccc([C@@H](C)N)c(OCc2cccnc2OC)c1', 'CC(C)N1CC2CC(C1)N2C(=O)c1ccc2c(c1)OCO2', 'COc1c(C)ccc(C(C)C)c1-c1cc(C(=O)O)nn1C', 'CC(=O)c1nn(CC(=O)OC(C)(C)C)c2cc(C)ccc12', 'Cc1cc(NC(C)CCc2ccco2)c(C(=O)O)c(C)n1', 'N#CCOc1ccc(CC(=O)NCC2(O)CCCC2)cc1', 'CCCc1nc2ccc(C(=O)O)cc2n1CC1CCOC1', 'CC1CCC(C(O)Nc2ccc(C(F)(F)F)cn2)CC1', 'COC(=O)C1=C(C)NC(=O)N[C@@H]1c1c(C)cc(C)cc1C', 'CCNCc1cccnc1Oc1c(OC)cccc1OC', 'CC(CCCC(F)(F)F)Nc1ccccc1CC(N)=O', 'CCOc1ccc(OCC)c2nc3c(cc12)CNCCO3', 'COc1ccccc1N(CCCN)C(=O)c1coc(C)c1', 'COC(=O)c1cccc2nc(C3CCN(C(C)C)C3)oc12', 'CC1(C)C(=O)/C(=C\\\\O)C[C@]2(C)c3[nH]c(=O)ncc3CC[C@@H]12', 'N#CCOc1ccccc1NC(=O)CCC1CCCCO1', 'C#CCNC(=O)C(C)Oc1ccc2c(c1)OCC2NCC', 'CCN(Cc1cc(F)cc(B(O)O)c1)Cc1ccccn1', 'O=C(c1coc2ccccc12)N(CCO)CC1CCCN1', 'CC(C)n1cccc(NC(O)OCc2ccccc2)c1=O', 'CCOC(=O)c1[nH]c2ccccc2c1/N=C(\\\\CC)OCC', 'CC(C)CC(CN)CC(=O)Nc1cc(F)c(F)cc1F', 'CCC1(C(=O)O)CCCN1C(=O)[C@@H]1Cc2ccccc2N1', 'COc1ccc(N)cc1N1C(=O)CC2(CCCC2)CC1=O', 'C=CC1=C(C)C(=O)NC1(C=C1NC(=O)C(CC)=C1C)OC', 'CCc1ccc(C(C)C)c(-c2cc(C(=O)O)nn2C)c1O', 'O=C(NC1CC2CCC(C1)N2)c1cccc2c1OCCO2', 'NC1CCCC1C(=O)N1CC(C(=O)O)Cc2ccccc21', 'COc1ccc(CN/N=C(/C)c2ccc(C)o2)cc1OC', 'CCn1nc(-c2cc(C(C)C)ccc2OC)cc1C(=O)O', 'COC[C@@H](C)OC(=O)c1cncn1[C@H](C)c1ccccc1', 'C#CCN1CCN(C(=O)c2cc(OC)cc(OC)c2)CC1', 'CCN(CC(F)(F)F)C(=O)c1ccccc1CCNC', 'CC1=C(C=O)C(C)c2ccc(OC(=O)N(C)C)cc2N1C', 'CC(C)CCC(=O)O[C@H](C)c1nc2ccccc2c(=O)[nH]1', 'COc1cc(N)c(C(=O)c2[nH]c(C)c(C)c2C)cc1OC', 'COc1cc(=O)[nH]c2ccc3c(c12)C(C)C(C)N3CCO', 'CCC(=O)N1CCOc2ccc(NC(=O)C3CC3)cc2C1', 'COc1ccc(C#CCO)c(CN2CCNC(=O)CC2)c1', 'COc1cc(CNC(C)c2ccccn2)cc(OC)c1O', 'CCN(CC1CC1)C(=O)N1CC(C(=O)O)c2ccccc21', 'Nc1cc(C(F)(F)F)ccc1NCCC1CCCCO1', 'O=C(NC1CCc2ccccc2C1)NC(C(=O)O)C1CC1', 'Cc1ccoc1CN1CCC(n2cccc2C(=O)O)CC1', 'Cc1ccccc1CN(C)C(C)C(=O)NCC(F)(F)F', 'NC1C2CCC(C2)C1C(=O)Nc1cccc(CC(=O)O)c1', 'Cc1cc(C)cc(OCCC(=O)N2CCOC[C@H]2C#N)c1', 'C1CC(C2=CC=CC=C2C1C3=CC(=C(C=C3)Cl)Cl)N', 'COC(=O)c1c(NC(=O)Oc2ccccc2)csc1C', 'N[C@@H](C(=O)O)c1ccc(S(=O)(=O)c2ccccc2)cc1', 'Nc1ccc2c(c1)nc(CO)n2-c1ccc(Cl)cc1F', 'NCC1=CN=C(C2=CC=CCC2)c2cc(Cl)sc2N1', 'CCCCC(C)NS(=O)(=O)c1cc(C(=O)O)cs1', 'Cc1ccsc1Cn1c(C(C)Cl)nc2cnccc21', 'Cc1nonc1C(=O)N/N=C\\\\c1ccc(O)c([N+](=O)[O-])c1', 'Cc1ccc(CN2CC(S)C2)cc1.O=S(=O)(O)O', 'Cc1c(Cl)cccc1NC1CCc2cc(Cl)ccc21', 'CO/[N+]([O-])=N/c1no[n+]([O-])c1/N=[N+](\\\\[O-])C(C)(C)[N+](=O)[O-]', 'COC(=O)c1ccc(-c2cccc(S(N)(=O)=O)c2)cc1', 'CC(N)=O.O=C(O)/C=C\\\\C(=O)O.O=C(O)/C=C\\\\C(=O)O', 'O=C(O)/C=C/c1ccn(S(=O)(=O)Cc2ccccc2)c1', 'CNC(c1ccc(Cl)cc1Cl)C1Cc2ccccc21', 'C=CCC(Nc1ccccc1Cl)c1ccc(Cl)cc1', 'CCS(=O)(=O)CCS(=O)(=O)c1cccc(N)c1C', 'C=Cc1ccc(NS(=O)(=O)c2ccc(O)cc2O)cc1', 'Cc1sc(C(=O)OCCC(C)C)cc1S(N)(=O)=O', 'Cc1ccc(S(=O)(=O)Oc2ccccc2/C=N\\\\O)cc1', 'C=CCn1c(C)csc1=NN=Cc1ccccc1Cl', 'CC1OC2=C(C#CC3=CC=CC[C@H]32)/C1=N/OS(C)(=O)=O', 'COC(=O)c1cc(C)c(S(=O)(=O)NC(C)(C)C)s1', 'CCOc1ccc(-c2csc(NC=O)c2C(=O)O)cc1', 'CC(Nc1cnccc1C(N)=S)c1ccccc1Cl', 'Cc1ccc2nc(C(C)Cl)n(Cc3cccs3)c2n1', 'CCC(C)N(CC(=O)O)S(=O)(=O)c1ccc(C)s1', 'C/C=C\\\\C(SC)=C(/C)c1nc(Cl)nc2cnccc12', 'N#Cc1ccc(C[n+]2cccc(C(N)=O)c2)c(F)c1.[Cl-]', 'N#Cc1c(F)cccc1NCCNC(=O)c1cnsn1', 'C=C(Br)CNC(=O)C(NC(N)=O)C(C)CC', 'O=C(O)C1(NS(=O)(=O)c2cccc3ccccc23)CC1', 'O=C(O)C1COCCN1C(=O)c1cc2ccccc2s1', 'Cc1cscc1Cn1c(C(C)Cl)nc2cnccc21', 'COc1ccc(OC)c(-c2nc(/C=C/C(=O)O)cs2)c1', 'CC(C)(CCCl)CNC(=O)c1cccc(F)c1Cl', 'CCc1ccc(Cn2c(CCl)nc3cccnc32)s1', 'O=C(N/N=C\\\\c1ccccc1F)Nc1cccc(Cl)c1', 'COC(=O)c1cccc2c1N=C(SC)C(C(C)=O)C2=O', 'CCOC(=O)[C@@H](N)CCCl.CCOP(C)Cl', 'CCn1nc(C)c(Br)c1CNC(CO)CO', 'CCC(CO)NS(=O)(=O)c1cc(C(=O)O)ccc1F', 'CCc1ccc(Cn2c(N)nc3cccc(Cl)c32)s1', 'C[C@H](NC(=O)Nc1ccc(OC(F)(F)F)cc1)C(=O)[O-]', 'CSc1nc(C)c2c(n1)N(c1ccc(Cl)cc1)CC2', 'CS(=O)(=O)c1cc(O)c(C(N)CCC(=O)O)cc1F', 'Cc1c(C(=O)O)cccc1S(=O)(=O)Nc1ccccc1', 'O=C1CCCc2ccc(Nc3nc(Cl)ncc3F)cc21', 'Cc1ccc2c(c1)nc(N)n2C(C)c1ccc(Cl)s1', 'CCCn1c(-c2ccsc2N)nc2cccc(Cl)c21', 'CC(C)CC(CNS(=O)(=O)c1cccs1)C(=O)O', 'Cc1ccc(S(=O)(=O)OCC(=O)c2ccccn2)cc1', 'CCC(CNS(=O)(=O)c1ccc(C)s1)CC(=O)O', 'CN1Cc2cc(F)ccc2-n2cnc(C=CCl)c2C1=O', 'O=S(=O)(NCc1ccco1)c1ccccc1C#CCO', 'CC(Nc1ccc(C(N)=S)c(Cl)c1)c1cccnc1', 'CN(c1ccccc1)S(=O)(=O)c1ccc(C(=O)O)cc1', 'O=C(O)Nc1cc(Cl)c(N2CCC(F)(F)CC2)cn1', 'CCCS(=O)(=O)Cc1nc(CC)c(CC(=O)O)s1', 'Cc1ccc(S(=O)(=O)N(CC(=O)O)C(C)(C)C)s1', 'O=C(O)c1ccc(C(=O)N(Cc2cccs2)C2CC2)o1', 'O=C(NCCc1nn2cnnc2s1)c1cccc(F)c1', 'C=CCOC(=O)NCc1c(C(=O)O)sc2ccccc12', 'Clc1cc(Cl)cc(CN[C@H]2C[C@@H]2c2ccccc2)c1', 'CNC(Cc1cn2ccsc2n1)c1ccc(Cl)cc1', 'Cc1nc(C)c(CCNc2c(Cl)cccc2C#N)s1', 'O=C(O)c1ccc(S(=O)(=O)NCc2ccccc2)cc1', 'COC(=O)c1nc(-c2ccc(OC)cc2)sc1C(C)=O', 'CN(Cc1ccccn1)c1ccc(C(N)=S)c(Cl)c1', 'CCSc1cccc(-n2nc(C)c(Cl)c2C)c1C#N', 'Clc1cc(Cl)cc(NC2CC(c3ccccc3)C2)c1', 'CN(Cc1cccc(Cl)c1)c1ccnc(C(N)=S)c1', 'COC(=O)c1ccc([N+](=O)[O-])c(-n2cc(C(N)=O)cn2)n1', 'C=Cc1ccc(S(=O)(=O)Nc2cc(O)ccc2O)cc1', 'Nc1ccc(C(=O)N/N=C/c2c(F)cccc2Cl)cc1', 'Cc1cc(F)ccc1S(=O)(=O)N[C@H](C(=O)O)[C@@H](C)O', 'O=C(O)c1ccccc1CNS(=O)(=O)c1ccccc1', 'COC1=C(OC)C(=O)C(Sc2ccc(N)cc2)=CC1=O', 'CCC(Br)c1cn(CCOCCOC)nn1', 'CCS(=O)(=O)c1ccccc1NCCS(C)(=O)=O', 'COc1csc(C(=O)Nc2ccccc2CC(=O)O)c1', 'NC1(c2cccc(Cl)c2Cl)CCCc2ccccc21', 'O=C(Nc1c(C(=O)O)sc2c1CCCC2)c1ccco1', 'Cc1cccc(Nc2nc(Cl)nc3c2SCC3)c1C', 'COc1cc(-n2c(N)nc3cc(Cl)ccc32)ccc1F', 'CCC1(CC)C(Br)=NC(C(=O)O)N1CCN', 'CCOC(=O)c1c(N2C(=O)C=CC2=O)sc2c1CCC2', 'CCC(CCl)(CCl)NC(=O)c1ccc(C)c(F)c1', 'CSCCn1c(CCl)nc2cnc3ccccc3c21', 'Cc1cc(S(=O)(=O)NC[C@H](C)O)cc(C(=O)O)c1F', 'ClCCc1nc2ccccc2n1CCc1nccs1', 'Clc1cccnc1Sc1ncccc1CNC1CC1', 'CC(=O)SC1CC(=O)N([C@H](C(=O)O)C(C)(C)S)C1', 'Cc1ccc2c(c1)C(=O)C(CC1SC(=O)NC1=O)CO2', 'Nc1c(Cn2cc([N+](=O)[O-])cnc2=O)cccc1[N+](=O)[O-]', 'Cc1ncc(Cn2c(CCCl)nc3ccccc32)s1', 'Cl.N/N=c1\\\\sc2ccccc2n1Cc1ccccc1', 'OC(Cc1cccc(Cl)c1F)c1cnn2ccncc12', 'N#Cc1ccnc(NCC(O)c2ccc(Cl)c(F)c2)c1', 'CCOC(=O)/C=C/C(=O)OCc1nc2ccccc2s1', 'COc1cccn2c(N)c(-c3cc(F)cc(Cl)c3)nc12', 'Cc1ccc(S(=O)(=O)NC(C)(C)CCC(=O)O)s1', 'Clc1nc(-c2ccncc2)c2ccc3ccccc3c2n1', 'CN(C)c1c(Cl)cccc1NCc1ccc(C#N)s1', 'COC(=O)c1ccc(F)cc1S(=O)(=O)N[C@H](C)CO', 'Nc1cc(Cl)c(F)cc1N1CC(=O)Nc2ccccc21', 'Cc1cc(OCc2cccc(C(N)=O)c2)c(C(=O)O)s1', 'Cc1nc2sccn2c1CNc1cccc(Cl)c1C', 'O=C(COc1csc(C(=O)O)c1)NCc1ccccc1', 'CC/C=C\\\\C(=N/C)c1c(Cl)cc2ccccc2c1Cl', 'CCC1(C)CNCC(c2cc(F)c(Cl)cc2Cl)O1', 'COc1cc(F)c(S(=O)(=O)N2CCCO2)cc1OC', 'CS(=O)(=O)N1CCN(c2cc(Cl)nc(N)n2)CC1', 'N#Cc1ccccc1-c1cc(-c2ccccc2)nc(Cl)n1', 'O=C(O)[C@@H]1[C@@H]2C=C[C@]3(CN(Cc4cccs4)C(=O)[C@@H]13)O2', 'Cc1ccsc1C(=O)Nc1ccccc1OCC(=O)O', 'O=S(=O)(NCCC1CCOC1)c1ccsc1CO', 'O=S(=O)(c1ccc(CCO)s1)N1CCCOCC1', 'Cc1ccc(Cl)cc1NC(=S)NCc1ccccn1', 'Cc1cccc(Oc2nc(N)ncc2[N+](=O)[O-])c1[N+](=O)[O-]', 'CC(Nc1cnccc1C(N)=S)c1ccc(Cl)cc1', 'CCc1csc(Oc2ccc3c(c2)OC(C(=O)O)C3)n1', 'Cc1oc(CO)cc1S(=O)(=O)N1CCCSCC1', 'N#Cc1ccc2c(c1)[C@@H]1OC1C1(CCS(=O)(=O)CC1)O2', 'CS(=O)(=O)Nc1cccc(-c2ccccc2C(=O)O)c1', 'COC(=O)c1ccc(F)cc1S(=O)(=O)NC[C@H](C)O', 'NC(Cc1c(Cl)cccc1Cl)C1Cc2ccccc21', 'NC(c1ccc2c(c1)CCC2)c1cccc(Cl)c1Cl', 'Cc1ccc2nc(CCl)n(Cc3nc(C)cs3)c2c1', 'CC(=O)CN1C(=O)S/C(=C\\\\c2ccc(CO)cc2)C1=O', 'C#CCN1C(=O)CS(=O)(=O)c2cc(C(=O)CC)ccc21', 'Cc1ccoc1C(=O)NCc1ccc(C=CC(=O)O)s1', 'C/C(=N/N=C1/NC(=O)[C@@H](CC(=O)[O-])S1)c1cccnc1', 'Cc1csc(-c2nc3cc(CN)ccc3n2C)c1Cl', 'O=C(O)c1ccc(CS(=O)(=O)Nc2ccccc2)cc1', 'C[n+]1ccccc1SCc1nc2ccccc2[nH]1.[Cl-]', 'O=C1CCc2ccc(F)cc2N1Cc1ccc(Cl)nn1', 'COc1ccc(C)cc1C(=O)Nc1sccc1C(=O)O', 'COCCOCCC(N)c1c(Br)cnn1C', 'O=C(N/C=C/c1cccc(F)c1)Nc1cccnc1Cl', 'COc1cccc(OC(C)=O)c1S(=O)c1ccccn1', 'O=C(O)c1coc(C(=O)N2CCCC2c2ccsc2)c1', 'COc1ccsc1C(=O)NCc1ccc(C(=O)O)cc1', 'CS/C(N)=N/N=C/C(/C=N/N=C(\\\\N)SC)[N+](=O)[O-]', 'Cc1ccc(/C=N/C(C)c2cccc(Cl)c2Cl)cc1', 'COC(=O)C(O)CNS(=O)(=O)c1cc(F)ccc1C', 'C=Cc1cc(NCc2cc(C)cc(Cl)c2)ccc1Cl', 'Cc1ccc(S(=O)(=O)N2C(=O)C[C@@H]3C=CC(=O)[C@@H]32)cc1', 'CCc1cnc(C(C)Nc2cccc(Cl)c2C#N)s1', 'COCC1CCN(S(=O)(=O)c2csc(CO)c2)C1', 'Nc1ccc(Cl)cc1C(=O)N/N=C/c1cccc(F)c1', 'COC(=O)Cc1csc(COc2ccc(C=O)cc2)n1', 'COc1cccc(C[S@@](=O)c2ccc(C(=O)O)nc2)c1', 'Nc1cc(C(F)(F)F)cc(NCC(F)(F)C(F)F)n1', 'Cc1ccc(C(=O)Cn2c(C)c(C(=O)O)sc2=O)cc1', 'CC(Cl)C(C)(C)NC(=O)Cc1c(F)cccc1Cl', '[H]/N=C(\\\\N)c1ccnc(Sc2ccc(C)c(C)c2)c1Cl', 'Cc1nc2ccccc2n1CCc1nc(CCl)cs1', 'CC(C)CCCNS(=O)(=O)c1cc(C(=O)O)cs1', 'COCCCOCCSc1nc(CC(=O)O)cs1', 'CCCN(CCC)S(=O)(=O)c1csc(C(=O)O)c1', '[H]/N=C(\\\\N)c1cc(-c2ccon2)n(Cc2ccc(F)s2)n1', 'CCc1nc(Cn2nnc(C(=O)O)c2C(F)(F)F)no1', 'CC1CN(S(=O)(=O)c2cc(CO)cs2)C(C)CO1', 'Clc1cccc(NCc2cccc(C3CC3)c2)c1Cl', 'COCC(NS(=O)(=O)Cc1ccc(F)cc1)C(=O)O', 'COc1ccc2c(c1)OS(=O)(=O)N[C@@H]2c1ccccc1', 'CCOC(=S)SCCC(=O)N1CCC[C@H]1C(=O)O', 'C=CC(=C(F)C(=C)Cl)n1c(=O)[nH]c2cnc(=C)c(=C)c21', 'CS(=O)(=O)CCS(=O)(=O)Cc1ccccc1CN', 'COc1ccc(Cn2cc3c(Cl)ncc(F)c3n2)cc1', 'Cc1ccc(S(=O)(=O)/N=C\\\\c2ccc(O)c(O)c2)cc1', 'O=C(O)COc1ccc(NC(=O)Cc2cccs2)cc1', 'CS(=O)(=O)Nc1ccc(-c2cccc(C(=O)O)c2)cc1', 'O=C(CSCc1ccc(C(=O)O)o1)Nc1ccccc1', 'C[C@H](CCc1ccccc1)Nc1nc(Cl)c(C#N)s1', 'CSc1nc(Cl)cc(N2CCc3ccccc3C2)n1', 'NC(C(=O)O)c1ccc(S(=O)(=O)c2ccccc2)cc1', 'CCOC(=O)c1sc(-c2ccc(O)c(C=O)c2)nc1C', 'Cc1c(Cl)cccc1C(N)Cc1cn2ccsc2n1', 'COc1ccc(CSc2ccc(O)cc2)cc1[N+](=O)[O-]', 'C/N=c1\\\\ccc2nc3ccc(NC)cc3sc-2c1.Cl', 'Cc1ccc(/N=N/c2c(O)[nH]c(=O)[nH]c2=O)c([N+](=O)[O-])c1', 'Cc1nc2scc(C)n2c1CNc1ccccc1Cl', 'CN(CC1(O)CCOCC1)S(=O)(=O)c1cccs1', 'C#CCNC(=O)CNc1ccc2c(Cl)ccnc2c1F', 'Cc1ncc(-c2ccccc2)c2ccccc12.Cl.Cl', 'COC1CCN(S(=O)(=O)c2ccc(CCO)s2)C1', 'C=C(C)Cc1ccccc1Nc1c(Cl)cccc1Cl', 'Nc1[nH]ncc1-c1nc(CSc2ccccc2F)no1', 'Cc1cnc(Cn2c(CCl)nc3cccc(C)c32)s1', 'Cc1ccc(/C=C(\\\\C(N)=O)S(=O)(=O)c2ccccc2)o1', 'COc1ccsc1C(O)c1ccc2c(c1)oc(=O)n2C', 'CSC(=C[C@H](C[C@@]1(C)CCOC1=O)[N+](=O)[O-])SC', 'CC1=CC(=O)N(c2sc3c(c2C(=O)O)CCCC3)C1=O', 'N#Cc1ccccc1CSc1nc(N)c(C#N)cc1C#N', '[H]/N=C(\\\\N)c1sc(Cc2cccc(Cl)c2)nc1C1CC1', 'CN(Cc1cccnc1)c1ccc(C(N)=S)cc1Cl', 'NC(c1ccc(F)c(Cl)c1)c1ccc2[nH]c(=O)[nH]c2c1', 'Cc1cc(Cl)cnc1NC(=S)NCc1ccccc1', 'CSCC1CNCC1SC.O=C(O)C(F)(F)F', 'CS(=O)(=O)c1ccccc1NC(=O)C=Cc1ccco1', 'COCCC(NS(=O)(=O)c1cccc(F)c1)C(=O)O', 'CCC(Sc1nccc2cc3c(cc12)OCO3)C(=O)O', 'Cc1ccc(S(=O)(=O)OCc2ccc(N=O)cc2)cc1', 'Nc1nc2nc(SCc3cccc(F)c3)[nH]c2c(=O)[nH]1', 'COC1=CC(=O)C=C/C1=N\\\\S(=O)(=O)c1ccc(C)cc1', 'COCC1CCN(S(=O)(=O)c2ccc(CO)s2)C1', 'COc1ccc(F)c(-n2c(CCl)nc3cnccc32)c1', 'O=C(O)C1CCC(C(=O)Nc2ccc3sccc3c2)O1', 'Cc1ccc(Cl)cc1C(N)Cc1cn2ccsc2n1', 'CC.Clc1[nH]c2cccc-2c(Cl)c1-c1ccccc1', 'Cn1nc(-c2ccoc2Cl)c(-c2cccc(F)c2)c1N', 'CC(C)N(CCCl)C(=O)Cc1c(F)cccc1Cl', 'Clc1cc(-c2ccc3ncccc3c2)c2nccnc2c1', 'CCCCCCCCC(C(=O)[O-])C(=O)CBr', 'CC(C)NCc1cc(F)cc(OC/C(Cl)=C/Cl)c1', 'Cc1ccc(C(=O)NCc2sccc2/C=C/C(=O)O)o1', 'COc1ccc(S(=O)(=O)NC(C)CC(=O)O)cc1F', '[C-]#[N+]c1ccc(-c2cc(-c3ccccc3)nc(Cl)n2)cc1', 'CSCCNS(=O)(=O)c1ccc(OCCO)cc1', 'Cc1onc2c(=O)n(CC(=O)NCC#N)nc(C(=O)O)c12', 'CC1CN(S(=O)(=O)c2ccc(CCO)s2)CCO1', 'NC1(Cc2c(Cl)cccc2Cl)CCc2ccccc21', 'C[Si](C)(C)c1cc2c(s1)C(c1cccs1)=NCC2', 'Fc1ccccc1.O=C(O)COCCNC=S(=O)=O', 'O=C(Cc1c(F)cccc1Cl)N/N=C/c1cccnc1', 'O=C(NCc1cc2cc(F)ccc2[nH]1)Nc1nncs1', 'CS(=O)(=O)Nc1ccccc1OC(=O)c1ccccc1', 'CC(NC(=O)c1cc2ccc(F)cc2s1)c1nn[nH]n1', 'Cc1ccc(NC(=O)c2[nH]ncc2[N+](=O)[O-])c([N+](=O)[O-])c1', 'NNc1ncc(Cl)c(NCC2CCCS2(=O)=O)n1', 'Cc1cccc(C=C2SC(=O)N(CCC(=O)O)C2=O)c1', 'CC(O)CN(CC(=O)O)S(=O)(=O)c1ccc(F)cc1', 'COC1CCCC(Nc2c(Cl)cc(F)cc2Cl)C1', 'COC(=O)CCSc1nc(C(=O)O)cc2ccccc12', 'COc1ccc(OCc2cscn2)c(/C=C/C(=O)O)c1', 'CN(Cc1ccc(Cl)cc1)c1ccc(C(N)=S)cn1', 'COC1CCCC1NS(=O)(=O)c1ccc(CO)s1', 'COC(=O)C(=O)Cc1ccc(-c2nn[nH]n2)cc1[N+](=O)[O-]', 'Cc1ccsc1C(=O)Nc1cccc(OCC(=O)O)c1', 'CC(Nc1cccc(C(N)=S)n1)c1ccccc1Cl', 'CC(CO)N(C)S(=O)(=O)c1ccc(C(=O)O)cc1F', 'COC(=O)C(C)NS(=O)(=O)c1ccc(OC)c(F)c1', 'Cc1nc(C(=O)NCCN2CCC(F)C2)c(Cl)s1', 'COc1ccccc1Sc1ccc([N+](=O)[O-])c(CO)c1', 'NC(=S)CCN(c1ccccc1)c1ccncc1Cl', 'C=CCOc1cc(F)c(Cl)cc1C1CC1CN.Cl', 'Nc1n[nH]c(C(=O)Nc2cc(C(=O)O)cc(C(=O)O)c2)n1', 'CN(Cc1ccc(Cl)cc1)c1cnccc1C(N)=S', 'CCOC(=O)c1nc(-c2cccc(O)c2)sc1C(C)=O', 'Cc1ccc2c(c1C)-c1cc(Cl)cc(Cl)c1C2CN', 'CCCCCN(C)S(=O)(=O)c1ccc(C(=O)O)s1', 'Cc1ccc(C)c2c1CC(c1cc(Cl)ccc1Cl)N2', 'Clc1ccc(-c2ccc(CNC3CC3)cc2Cl)cc1', 'Cc1ccccc1CS(=O)(=O)NCCS(C)(=O)=O', 'CC(=CCC1=CC2=C(C=C1O)OC(=CC2=O)C3=CC(=C(C=C3)O)CC=C(C)C)C', 'c1ccc(CP(Cc2ccccc2)(=Nc2ccccc2)N2CCOCC2)cc1', 'Oc1ccc(C(c2ccccc2)(c2ccccc2)[C@H]2CC[C@@H](O)[C@@H](O)C2)cc1O', 'CC1CN(c2cccc(Cl)c2)CCN1CCCN1C(=O)C2CCCN2C1=O', 'CC1CC1c1cn(-c2ncn3c2c(=O)n(C2CCOC2C)c2ccccc23)nn1', 'Cc1ccc(S(=O)(=O)NCc2nc(N(C)C)nc(N3CCCC3)n2)cc1C', 'C=C(c1ccc(-c2ccccc2)c(F)c1)c1cc(/N=C(\\\\N)N2CCCCC2)no1', 'CC(C)Cc1nnc(C2CC3(CN(C(=O)c4cc(F)ccc4F)C3)CN2C)o1', 'CC1C[C@H]2[C@@H]3CCC4=CC(=O)C=C[C@]4(C)[C@@]3(F)C(O)C[C@]2(C)[C@@]1(O)C(=O)C=O', 'CC1=C(C(N)=O)C(c2cccc(O)c2)n2nc(-c3ccc(N(C)C)cc3)nc2N1', 'C[C@@H]1COCCN1c1nc(-c2ccnc3[nH]ccc23)nc2c1cc1n2CCOC1', 'Cc1cnccc1C1CNNC1c1ccc(CNC(=O)c2ccccc2F)cc1', 'O=C1[C@H]2CCCN2C(=O)N1CCCCN1CCN(c2cccc(Cl)c2)CC1', 'O=C(NC1CCN(C(=O)Nc2ccccc2)CC1)c1ccc(-n2cncn2)cc1', 'Cc1ccccc1NC(=O)C1CCN(c2ccc(-c3cccc(F)c3)nn2)CC1', 'COc1cc(Nc2nc(C)cc(NC3CCCCCC3)n2)c(OC)cc1Cl', 'CC(=O)c1cccc(Nc2cnnc(Nc3ccccc3N3CCOCC3)n2)c1', 'Cc1nnc(NCC2CCCCN2c2ccc(=O)n(C3CCCC3O)n2)s1', 'Cc1ccc(N2CCC(/N=C/C(=C\\\\N)Oc3nc4cnccc4c(=O)[nH]3)C2)cc1', 'Cc1nc2cccc3c2nc1N[C@H](C)CNC(=O)C[C@@H]1CNC(=O)c2cc-3cn21', 'Cc1cnn(-c2cc(N3CC[C@@]4(c5ccccc5)NC(=O)CO[C@@H]4C3)ncn2)c1', 'O=C(Nc1ccccc1N1CCOCC1)c1ccc(NCc2cccnc2)nn1', 'Cc1cccc(-n2cc(CN(C)[C@H](C)c3ccon3)c(-c3cccc(F)c3)n2)c1', '[C-]#[N+]c1cccc2c1CN(CC)c1ccn3nc(C)c(c3n1)C(=O)NC[C@H](C)O2', 'O=C(c1cnccn1)N1CCCC(CC2CC2)(c2noc(-c3ccccn3)n2)C1', 'Clc1ccc(-c2noc(CN3CCCCC3CCN3CCOCC3)n2)cc1', 'O=C(NC12C[C@H]3C[C@@H](C1)CC(n1ncnn1)(C3)C2)c1c[nH]c(=O)c2ccccc12', 'CCn1c(CO)nnc1C1CC(NC(=O)c2cnc(CN3CCCC3)s2)C1', 'CCCCCCc1ccc2c(sc3c(F)c(OCCCCC)ccc32)c1F', 'CC(C)=CC1C(C)(C(=O)O)C1(C)c1ccoc1-c1coc(Cc2ccccc2)c1', 'Nc1nc2c(c(=O)[nH]1)CCC21CCN(C(=O)c2ccccc2-c2ncc[nH]2)CC1', 'CC(C)(O)Cn1nc(-c2ccc3nc(OC4CC4)ccc3c2)c2c(N)ncnc21', 'CC(O)CN1CCCN(c2ccc(NC(=O)c3cc(F)cc(F)c3)cn2)CC1', 'CCOC(=O)CCc1ccc(OCC=Cc2c(OC)ccc3ccccc23)cc1', 'O=C(NCc1ccc(F)cc1)c1ccc(N2CCN(c3ccccc3)CC2)nc1', 'COc1ccc(NC(=O)/C(C#N)=C\\\\N2C(C)(C)CC(N)CC2(C)C)cc1Cl', 'CCn1ncc(-c2cc(C(=O)Nc3cccc(Cn4ccnc4C)c3)on2)c1C', 'Cc1cc2c(cc1C)Oc1c(C)c(C)cc(O)c1CC(c1ccc(O)cc1O)C2', 'NC(=O)c1ccc(-c2cc(Nc3ccc(N4CCOCC4)cc3)nc(N)n2)cc1', 'CCN/C(=N\\\\CCc1cc(OC)ccc1OC)NCCc1ccc(Cl)nc1', 'CCCn1nc(C(=O)NC2CC3CCC(C2)N3C)c(=O)c2ccccc21.Cl', 'COc1ccc(C(/C=C/CO)(c2ccc(OC)cc2)c2ccc(OC)cc2)cc1', 'COc1c(C)cc([C@H]2c3ccc(O)c(C)c3OC[C@H]2c2ccc(O)cc2)cc1C', 'Cc1nonc1CC(=O)N(C)CC1CCN(CCc2ccc(Cl)cc2)CC1', 'CCC(=O)OCCCCCCCCCCOc1cc(=O)sc2ccccc12', 'CN1CCN(c2ccc(NC(=O)NCCOc3ccc(F)c(F)c3)cc2)CC1', 'CC.CCc1ccc(N2/C(=N/c3ccccc3)CC2c2ccc(Cl)cc2)cc1', 'Cc1nn(C)c2ncc(NC(=O)c3nn(CC(C)C)c(=O)c4ccccc34)cc12', 'Nc1ncc(-c2cnn(C3CCNCC3)c2)cc1-c1nc2cccc(CO)c2o1', 'Cc1cccc(NC(=O)C2CCN(c3ccc(-c4ccc(F)cc4)nn3)CC2)c1', 'COc1cc(C(=O)Nc2cnc(N3CCN(c4ccccc4)CC3)nc2)ccn1', 'Cc1cnc([C@](C)(CO[Si](C)(C)C(C)(C)C)NS(=O)C(C)(C)C)s1', 'Fc1ccc(-c2nnn3c2CO[C@@H]2CN(CCC4CCOCC4)C[C@H]23)c(F)c1', 'Cc1nc2ccc(C3=CC4C=CC(c5ccc6nc(C)[nH]c6c5)=CC4C=C3)cc2[nH]1', 'Fc1cc(-c2ccc(C3CCC3)cc2)ccc1-c1ccc(CCC2CCC2)s1', 'Cc1cc(Cc2ccccc2F)cc(C2CCCN(C(=O)c3cnccn3)C2)n1', 'O=C(O)C=CC12CC3CC(CC(C3)C1(c1ccccc1O)c1ccccc1O)C2', 'Cc1ccc(NC(=O)c2cccc(N3CCN(c4ccncc4)CC3)c2)cc1F', 'CCN/C(=N\\\\CCCNC(=O)c1occc1C)NC(C)c1ccccc1Cl', 'Nc1nc(N2CCOCC2)c2nc(-c3ccc(CC(=O)C4CC4)cc3)cnc2n1', 'C[C@H]1CN(c2cc(-c3ccccc3O)nnc2N)CCN1C(=O)c1cccnc1', '[C-]#[N+]C1=C(C)N=C(C)C(C#N)C1c1ccc2c(c1)c(N)nn2C(=O)OC(C)(C)C', 'CC1(C)C=Cc2c(ccc([C@H]3COc4c(ccc5c4C=CC(C)(C)O5)C3)c2O)O1', 'Cn1cccc1-c1noc(C2CCN(C(=O)c3nn(C)c4ccccc34)CC2)n1', 'COc1ccc(-c2nc(-c3nc(C)n(Cc4cccc(N(C)C)c4)n3)no2)cc1', 'COc1ccc(C(NC(=O)c2ccn(C3CCCNC3)n2)C2CC2)cc1.Cl', 'O=C(c1ccc(Cn2ccnc2)cc1)N1Cc2cnc(N3CCOCC3)nc2C1', 'CCn1c(=O)n(CC(=O)N2CCN(c3cc(C#N)ccn3)CC2)c2ccccc21', 'CCc1cnc(N2CCC(Cc3noc(-c4cc5cnccc5o4)n3)CC2)nc1', 'Cc1ccc(CC(=O)N2CCN(c3cc(-c4ccc(F)cc4)ncn3)CC2)cc1', 'O=C1OC(CCCCc2ccccc2)C(=O)C(O)=C1C(c1ccccc1)C1CC1', 'Cc1ncc(CN2CCCC2C(=O)Nc2cccc(-c3ccc(F)cc3)c2)cn1', 'N#Cc1c(CCCNC(=O)CCn2ccccc2=O)nn(-c2ccccc2)c1N', 'Cc1cc(NCc2ccc(N3CCCC3)nc2)nc(-c2cccc([N+](=O)[O-])c2)n1', 'COC(=O)c1c(F)cc2cc(C3CCC4CC(C)CCC4C3)cc(F)c2c1F', 'Cc1ccc(-c2cnn(CC3(F)CCCC3)c2)c(-c2ccc3c(c2)C(=O)NC3)n1', 'CCOC(=O)c1c(NC(=O)C[NH+]2CCC[C@H]2c2cccn2C)sc(C)c1C', 'C=C/C=C\\\\c1c(C)ccc2c1ccc1oc3c(-c4cccc[n+]4C)c(C)ccc3c12', 'CCOC(=O)[C@@H]1CCC[NH+](CC(=O)N(C)[C@@H](C)c2nc3ccccc3s2)C1', 'Cc1ccc(NC(=O)c2ccnc(N3CCN(c4ccc(F)cc4)CC3)c2)cc1', 'C[C@@H]1C[C@H]2[C@@H]3C[C@H](F)C4=CC(=O)C=C[C@]4(C)[C@H]3[C@H](O)C[C@]2(C)[C@H]1C(=O)C(=O)O', 'COc1cccnc1Nc1cccc2nn3c(C4CCNCC4)cc(=O)[nH]c3c12', 'CCC(C)(C)Oc1ccc(S(=O)(=O)c2ccc(OC(C)(C)CC)cc2)cc1', 'CCN(CC)S(=O)(=O)c1ccc([C@H](C)[NH2+]CC(=O)Nc2ccccc2)cc1', 'Cc1nn(CC(=O)Nc2ccc(-c3cnccn3)cn2)c(C)c1C1=CCOCC1', 'CC(C)S(=O)(=O)Oc1ccc2c(c1)CC[C@@H]1[C@@H]2CC[C@]23CO[C@@]2(C)CC[C@@H]13', 'C=C1C(COC(=O)c2ccccc2)CCC1(OC=O)O[Si](C)(C)CCCC', 'Cc1ccc(-n2nc(C)c(NC(=O)Cn3nc(C)c(C)c(C#N)c3=O)c2C)cc1', 'Cc1cc(F)c(NC(=O)N2CCCCC2C(C)(C)O)cc1-c1ncc(F)cn1', 'NCc1cc(-c2ccccc2)c2ccc3c(-c4ccccc4)cc(CN)nc3c2n1', 'COc1ccc(-c2c[n+](CC(=O)Nc3ccc(C(C)=O)cc3)c3n2CCC3)cc1', 'CCC(=O)N1CC[C@H](Oc2ncnc3c2nc(-c2ccc4cc[nH]c4c2)n3C)C1', 'O=C(Nc1ccc(N2CCCCC2)cc1)c1ccc(Nc2ccccc2F)cn1', 'c1ccc(CCOc2ccc(OCC3CO3)cc2OCCc2ccccc2)cc1', 'COc1ccc(C2c3[nH]c4ccccc4c3CCN2Cc2cnn(C)c2)c(F)c1', 'O=C(C[NH2+][C@H](c1ccccc1)c1ccco1)Nc1ccc(N2CCCC2=O)cc1', 'CCOc1ncccc1C(=O)N1CCN(c2ccc(-c3ccncc3)nn2)CC1', 'Cc1cccc(P(c2cccc(C)c2)c2cccc(NC(=O)C(C)(C)C)n2)c1', 'CC(c1ccccn1)N(C(=O)c1nn(-c2ccc(F)cc2)c2c1CCC2)C1CC1', 'C=Nc1c(/C(N)=N/C)c2c(n1-c1cccnc1)CCC(O)c1c-2noc1C1CC1', 'O=C(NCc1ccc(F)cc1)c1cccc(-c2cnc(N3CCCCC3)nc2)c1', 'Fc1cc(-c2ccc(C3CCCC3)cc2)ccc1-c1ccc(CC2CCC2)s1', 'CCCC(C)(N)C(=O)NCc1ccc(N(C)C(=O)c2ccncc2)cc1.Cl', 'Cc1cccc(S(=O)(=O)NCCC(=O)NC[C@H](c2ccccc2)[NH+](C)C)c1', 'CC(=O)N1CCC(Cn2cc3ccc(-c4c[nH]c5cc(F)ccc45)cc3n2)CC1', 'CCCN(CC(=O)Nc1cc(C(C)(C)C)nn1-c1ccccc1Cl)C(C)=O', 'CCO[C@@H]1C[C@H]2C(=O)[C@@H]3C(c4ccccc4)(c4ccccc4)[C@]3(C)C(=O)[C@@]12OC', 'Cn1cc(C(=O)N2CCC[C@H](c3ccc(-c4cnc(N)nc4)cn3)C2)ccc1=O', 'COc1ccc(-c2nc(NCc3ccccc3)nc3nn(C)c(N)c23)cc1OC', 'Cc1cc2c(cc1-c1cc(C=O)ccc1OC(F)(F)F)C(C)C(C)CC2(C)C', 'C=C(/N=C/C)c1ccc(C2(c3noc(-c4cnn(C5COC5)c4)n3)CCC2)cn1', 'COc1ccc(Cl)cc1CN1CCN(C(=O)Cc2c(C)nn(C)c2C)CC1', 'O=C(NCCN1CCOCC1)c1ccc2nc(-c3n[nH]c4ccccc34)[nH]c2c1', 'CCCc1ccc(N2CC(c3nc(C4(N)CCCC4)no3)CC2=O)cc1.Cl', 'CCN(CC(=O)O)C1CC(NCc2c(C)nn(-c3ccc(Cl)cc3)c2C)C1', 'CCN1CCN(CCCNC(=O)c2c(-c3ccccc3Cl)noc2C)CC1', 'CC(=S)N[C@@H]1c2cc(C#N)ccc2OC(C)(C)[C@H]1O[Si](C)(C)C(C)(C)C', 'C[C@@H]1Cn2ncc(C(=O)CC(C)(C)C)c2CN1C(=O)Nc1ccc(F)c(F)c1', 'COc1ccccc1CN(C)C(=O)CN1CCNCC1c1cccnc1.Cl', 'Cc1cccc(C)c1Nc1nc2ccc(N3C[C@H](O)[C@@H](O)C3)nc2n2cncc12', 'CCc1ccc(/N=N/Cc2cc(N3CCOCC3)nc(OCCNC)n2)s1', 'O=C(C/C=C1/CN(Cc2cc3ccccc3n2CCc2ccncc2)N=N1)NO', 'C[C@@H]1CN(c2cc(=O)[nH]c(N3CCC(F)(F)[C@@H]3Cc3ccccc3)n2)CCO1', 'N#Cc1coc(N2CCN(Cc3ccc4c5c(c(=O)[nH]c4c3)CCCN5)CC2)n1', 'CC(Cn1ncc2ccccc2c1=O)NC(=O)NC1CCC2(CC1)CC2(F)F', 'CNC(=O)c1nc(N2C(=O)C(C)(C)c3ccc(-c4cnc(C)nc4)cc32)cn1C', 'O=C(c1ncc[nH]1)N1CC[C@@]2(COCc3cnc(NCc4ccccc4)nc32)C1', 'CC(C)(C)S(=O)(=O)CC1CCC(C(=O)Cc2ccc3c(c2)CCC3=O)CC1', 'O=[N+]([O-])c1ccc(CNc2cc(-c3cccnc3)nc(NC3CCCC3)n2)cc1', 'O=C(NC1CCCCC1)c1cccc(Nc2cc(-c3cccc(F)c3)ncn2)c1', 'CSC(C)CC1OC(=O)/C(=C(\\\\O)C(C)Cc2ccc(C(C)(C)C)cc2)C1=O', 'O=C(NCc1ccccc1)c1cc(N2CCN(c3ccccc3F)CC2)ccn1', 'C#CCOc1cnc(C)cn1.Nc1ncccc1NCc1cccc(NC=O)c1', 'Cc1ccc(Cn2nc(C)c(C(=O)NCC(C)N3CCOCC3)c2Cl)cc1', 'O=C(OC1CC2C3CCC(CC3)C2C1OC(=O)c1ccccc1)c1ccccc1', 'Cc1cccc(C(=O)N2CCC(n3ccnn3)CC2)c1NC(=O)c1ccncc1', 'COC(=O)CCOCCOS(c1ccccc1)(c1ccccc1)C(C)(C)C', 'CC(C)C[C@H]1CC(=O)Oc2ccc3c(c21)O/C(=C\\\\c1ccc(C(C)C)cc1)C3=O', 'C[C@H]1C[C@H]2[C@@H]3CCC4=C(F)C(=O)C=C[C@]4(C)[C@]34OC4C[C@]2(C)[C@@]1(O)C(=O)CO', 'CCC(C)c1ccc(OCOc2ccccc2-c2ccccc2OC(C)=O)cc1', 'Cc1nc2c3ccccc3nn2c(C)c1CCC(=O)N(C)Cc1ccccc1F', 'CC(C)(C)OC(=O)NC1CCC(NC(=O)C2CCC(S(=O)(=O)O)C2)CC1', 'O=C(CCO)CCc1ccc(OCc2ccccc2)c(OCc2ccccc2)c1', 'Cc1cc(C)nc(Nc2ccc([C@@H]3CCCN(S(=O)(=O)N(C)C)C3)nc2)n1', 'Cc1cc(C)cc(-c2cc(C(=O)O)cc(-c3cc(C)cc(C)c3)c2OCCO)c1', 'O=C(CN(C(=O)c1cccc(-n2cnnn2)c1)c1ccccc1)N1CCCCC1', 'CNCCNC(=O)C(CC(=O)CC=NP)N(C)C(=O)CCCCCS', 'Cc1cc(Nc2nccc(C3CC3)n2)cc(-c2cnn(CN3CCOC3=O)c2)c1', 'CC(C)C(=O)C[C@H]1Cc2cccc(C(=O)OCOC(=O)C(C)(C)C)c2OB1O', 'CC(=O)Oc1ccc(C(=C2[C@H]3CC[C@H](C3)[C@@H]2C)c2ccc(OC(C)=O)cc2)cc1', 'CC(O)C(NC(=O)C(N)CCCN=C(N)N)C(=O)NC(CC(=O)O)C(=O)O', 'CCCOc1cccc(C2C(C(=O)Nc3ccccc3)=C(C)Nc3nnnn32)c1', 'O=C(C1CCc2ccccc2O1)N1CCN(c2cc(-n3ccnc3)ncn2)CC1', 'Cn1c(N2CCC3(CCOC3)CC2)nc2n[nH]c(C#Cc3ccccn3)c2c1=O', 'Cc1cc(C)cc(-n2ncc3c(OCC(=O)NC4(C#N)CCCC4)ncnc32)c1', 'O=C(NCc1nncn1-c1ccccc1)C(=O)Nc1ccc2c(c1)CNCCC2', 'CC(=O)N1CCC(Nc2nc3c(c(NC4CCN(C(C)=O)C4)n2)SCC3)C1', 'CN1CCc2nc(C3CCN(C(=O)c4n[nH]c(=O)c5ccccc45)C3)ncc2C1', 'COC(=O)c1ccc(Nc2nncc(N3CCN(c4ccccc4)CC3)n2)cc1', 'CCC(C)(C)NC(=O)c1ccc(NCC(=O)NC(C)(C#N)C2CC2)cc1Cl', 'CC[Si](CC)(CC)O[Si](c1ccccc1)(c1ccccc1)c1ccccc1', 'CC1CCC(C(=O)N2CC[C@H](C)C2)n2c1nn(Cc1ccc(F)cc1F)c2=O', 'CCCCCCCCCCOc1ccc(S(=O)(=O)c2ccc(O)cc2)cc1', 'CCCCCOc1cc2ccccc2cc1C(O)CC#CCCCC(=O)[O-].[Na+]', 'CCN(CC)S(=O)(=O)N1CCCC1c1cc(Nc2cnccn2)cc(C)n1', 'O=c1[nH]c(C2CC2)nc2c1CN(c1ncnc3ccc(N4CCOCC4)cc13)C2', 'C/N=C(/NCc1ccc2c(c1)OCO2)NCC(c1c(F)cccc1F)N(C)C', 'CCc1ccc([C@H](C)NC(=O)Cn2c(=O)c3nnc(C)n3c3ncccc32)cc1', 'O=S(=O)(CCNC1CCCn2ccnc21)N1CCN(c2ccccn2)CC1', 'Cc1ccc(-n2nccn2)c(C(=O)N2CC3CN(c4cccc(=O)[nH]4)CC3C2)c1', 'Cc1ccccc1-n1cc(-c2ccccc2)c2c(NCc3ccccc3)ncnc21', 'O=C(CC1CCNCC1)NCC1CCN(c2nc3cc(Cl)ccc3o2)CC1', 'CCN1Cc2cc(-c3ccn4nc(N)c(C(=O)NC5CC5)c4n3)cc(C)c2C1=O', 'C=CC(=O)OCCCOP(=O)(CCCCCC)OCCCOC(=O)C=C', 'CN1C(=O)C2C(NC3N(CCCO)N=C(c4ccc(F)cc4)CN23)N(C)C1=O', 'CCCn1c(C)c(C)c(-c2nc3ccccc3[nH]2)c1NC(=O)c1ccc(F)cc1', 'Cc1cc(Nc2cc(N)ncn2)c(=O)n2c1C(=O)N(Cc1ccccc1)CCC2', 'C[C@H](C(=O)N1CCC2(CC1)NC(=O)c1ccccc1N2)n1nc2ccccc2n1', 'CC1(C)N=C(N)N=C(N)N1c1cccc(C=CC=Cc2cccc([N+](=O)[O-])c2)c1', 'COC(=O)c1cc(OCc2ccccc2)c(C(C)C)c(OCc2ccccc2)c1', 'Cc1nonc1CC(=O)N(C)C[C@@H]1CCCN(CCc2ccc(Cl)cc2)C1', 'CNCCCC(=O)NCc1cccc(NC(=O)Nc2cccc(C)c2)c1.Cl', '[H]/N=C/c1c(N)ccc2c1c(=O)c1c(NCCN3CCOCC3)ccc3ncn2c31', 'C=CCn1c(=O)c2c(nc3n2CC(C)=NN3CC=Cc2ccccc2)n(C)c1=O', 'COc1ccc(Nc2ccnc(C(=O)N3CCN(c4ncccn4)CC3)c2)cc1', 'Nc1ccc(-c2ccc(N)c(/N=C/c3ccccc3)c2)cc1/N=C/c1ccccc1', 'COc1cnc(-c2cccc(C(C)C3=C(O)C=CN(c4cnn(C)c4)N3)c2)nc1', 'Cc1ccc(-c2c(C)nn3c(-c4cccc(F)c4)cc(N(C)CCO)nc23)cc1', 'COc1ccc(-c2nc(N3CCOCC3)nc3c2CCN3c2ccncc2)cn1', 'Cn1ccnc1C(=O)c1ccc(NC(=O)C2CCCN(c3ncccn3)C2)cc1', 'O=C(CCc1c[nH]c2ccccc12)Nc1cc(N2CCOCC2)n2nccc2n1', 'CC[C@@H](C)[C@@H](NC(=O)Cn1nnc2ccccc2c1=O)c1nc2ccccc2[nH]1', 'CCCc1noc(-c2cccn3c(CC(=O)Nc4ccc(C)c(C)c4)nnc23)n1', 'O=C(c1cccn2cnnc12)N1CCCC12CCCN(Cc1ccccn1)C2=O', 'COc1cc(C)ccc1OCCCCOc1ccc(C(=O)c2ccccc2)cc1', 'CCC(C)c1cc(Sc2cc(OC)c(O)c(C(C)CC)c2)cc(OC)c1O', 'CCC(C)COc1ccc(OC(=O)c2ccc(OCc3ccccc3)cc2)cc1', 'CCC1=C2C(=C(c3c(F)cccc3F)N=CC(=O)N2CCN(CC)CC)NO1', 'Cc1cc(C#N)nc(N2CCN(C(=O)C3CCC(=O)N3c3ccccc3)CC2)n1', 'COc1cccc2c1C1c3cccc[n+]3C2CC1(c1ccccc1)c1ccccc1', 'CC(O)(CO)CNc1nc(Nc2ccccc2)nc2cc(-c3ccn[nH]3)ccc12', 'COc1cc2c3c([nH]c2cc1-c1c(C)noc1C)NCN=C3c1c(C)n[nH]c1C', 'O=C(NCc1ccccc1)c1cn(CC2CCCN2C(=O)c2ccncc2)nn1', 'COc1cccc2c1CC(NC(=O)C(C)CCCN(C)C)CC2.Cl.Cl', 'O=C[C@@H](OCc1ccccc1)[C@H](COCc1ccccc1)OCc1ccccc1', 'CC(C)(O)CN1CCC(CNC(=O)c2cc(Cl)c(N)c3cccnc23)CC1', 'NC(C1CCN(C(=O)C2CCCCC2)CC1)C1CC(Cl)C(Cl)CC1O', 'COc1ccc(OCCn2c(C)nc3ccc(-c4cc(N)nc(N)c4)nc32)cc1', 'CN1CCC(NC(=O)CC2CCCN(c3nc4ccc(Cl)cc4o3)C2)CC1', 'O=C(C1CCc2ccccc2O1)N1CCN(c2ccc(-n3cccn3)nn2)CC1', 'O=C(Nc1ccc2[nH]cc(C3=CCN4CCCCC4C3)c2n1)c1ccc(F)cc1', 'O=C(Nc1ccc(N2CCCC2)cc1)c1ccnc(NCc2ccccc2F)c1', 'O=C(Nc1ccccc1N1CCOCC1)c1cnc(NCc2cccnc2)nc1', 'Cc1ccccc1NC(=O)c1cncc(N2CCN(c3ccccc3F)CC2)c1', 'Nc1nc(N2CCC3(CCc4c3nc(-c3ccccc3)[nH]c4=O)CC2)cc(=O)[nH]1', 'CCCCc1c(O)nc(SCC[NH+]2CCOCC2)n(-c2ccccc2)c1=O', 'CC(C)(C)CNC(=O)N1CCN2C(Cl)=C(c3ccccc3)C(C(N)=O)C2C1', 'COc1ccc(-n2c(=O)c3cc(-c4nn[nH]n4)ccc3n2C2CCCCC2)cc1', 'CCn1c(-c2ccnc3ccccc23)nc(-c2ccncc2)c1-c1ccc(C)cc1', 'CCOc1ccc(C[NH+](C)Cn2c(C)cc(C)c(C(N)=O)c2=S)cc1OC', 'C=CCOc1ccc(C2CCC(OCc3ccc(C)c(F)c3F)CC2)c(F)c1', 'Cl.[H]/N=C(\\\\N)c1ccc(NC(C(=O)O)c2cc(C)cc(N(CC)CC)c2)cc1', 'CCCn1c(SCC(=O)NC(=O)NCCC(C)C)nnc1-c1ccncc1', 'CNS(=O)(=O)c1cc(NC(=O)C[NH2+][C@H](c2ccccc2)C(C)C)ccc1C', 'Cc1ccc2c(oc3c4c(ccc32)C(C)(C)c2ccccc2-4)c1-c1cccc[n+]1C', 'CC(C)C(Nc1cc(N2CCNCC2)ccc1[N+](=O)[O-])c1ccccc1.Cl', 'Cc1[nH]c(-c2ccc(-c3nc(-c4ccccc4)c(C)[nH]3)cc2)nc1-c1ccccc1', 'Nc1cncc(C2=NN(Cc3ccccc3)Cc3c2cccc3-c2ccccc2)c1', 'O=C(CCCNC(=O)c1ccc(F)cc1F)Nc1ccnn1C1CCCCC1', 'COCCn1cncc1CN1CCC[C@@H](CNC(=O)c2ccccc2Cl)C1', 'Nc1c(NNC(=O)COc2ccccc2)ncnc1N1CCc2ccccc2C1', 'O=C(NCc1ccncc1)c1nc(C(=O)NCc2ccccn2)n2c1CCCC2', 'CCn1nc(C)c(S(=O)(=O)N2CCN(c3cc4c(nn3)CCC4)CC2)c1C', 'C=C(/C=C\\\\C=C(C)C)CNC(=C)c1c(/N=C(\\\\C)Cl)cccc1-c1ccccc1', 'CCOC(=O)N(c1cccc(-c2cnn3ccc(C#N)cc23)n1)C1CCCNC1', 'COc1ccc(C(C(=O)OCc2cccc(Oc3ccccc3)c2)C(C)C)cc1', 'COc1cccc(NC(=O)c2cnc(N3CCN(c4ccccn4)CC3)cn2)c1', 'COC(=O)/C=C1\\\\CC(C)=CCCC12O[C@H](c1ccccc1)[C@@H](c1ccccc1)O2', 'O=C(Nc1ccc(-c2cccc(F)c2)cc1)[C@@H]1CCCN(Cc2ncccn2)C1', 'CCc1ccc(-c2noc(CCC(=O)Nc3cnc4c(c3)c(C)nn4C)n2)cc1', 'Cc1ccnn1CCC(=O)Nc1cccc([C@@H]2NC(=O)c3cccnc3N2C)c1', 'CCc1nn2c3ccccc3n(CCN3CCCCC3)c2c1C(=O)OC.Cl', 'C/C=C1/C(=O)OC2(/C1=C/C)c1ccc(C)cc1Oc1cc(C)ccc12.CC(C)=O', 'CCC1(OC(=O)C2C3c4ccccc4C(c4ccccc43)C2C(=O)O)CCCC1', 'CNCCNC(=O)[C@H](CC(=O)C/C=N/P)N(C)C(=O)CCCCCS', 'O=C(NCCC1C2CN(C(=O)Nc3ccccc3)CC12)c1cnc2nccn2c1', 'CC(NC(=O)CC1CC2CCC(C1)N2)c1nc(Cc2ccccc2)no1.Cl', 'CN(C)c1ccc(-c2cn3c(=O)c4ncn([C@H]5C=C[C@@H](CO)C5)c4nc3[nH]2)cc1', 'Cc1cnc(/C=C\\\\c2ccc(-c3ccccc3)cc2)cc1N1CCCCC1.Cl', 'COc1ccc(-c2cc(C(=O)NC(C)Cn3cccn3)c3cnn(C)c3n2)cc1', 'COc1ccc(NC(=O)CN(C)c2nc(-c3ccccn3)nc3c2CCC3)cn1', 'O=c1n(Cc2nc(NCCCO)c3ccccc3n2)c2cnccc2n1C1CC1', 'CCCCCOc1ccc(-c2ccc(-c3ccc(OC(=O)OC)cc3)cc2)cc1', 'Cc1cccc(-c2noc([C@H](C)NC(=O)c3cc(C)nc4c3c(C)nn4C)n2)c1', 'CC(C)c1nc2cc(NC(=O)[C@H](C)n3nnc4ccccc4c3=O)ccc2n1C', 'Cc1ccccc1-n1ncc(C(=O)N2CCN(C(=O)c3cccnc3)CC2)c1N', 'CC(C(C(=O)O)N)O', 'CN(CCO)C(=O)O', 'CCC(N)C(=O)OO', 'COC[C@H](O)C(N)=O', 'CCONOC(C)=O', 'C=NO.CCC(=O)O', 'CC(C)N([SiH3])[SiH3]', 'C[C@H](N)[C@H](O)C(=O)O', 'CC(O)C(=O)C(N)O', 'CC(CO)OC(N)=O', 'C=C(O)C(O)(O)CN', 'OC[C@@H]1CC(O)NO1', 'CNC(=O)[C@@H](O)CO', 'COC(=O)COCN', 'C=CC[NH2+]C(=O)O.[OH-]', 'CC(N)COC(=O)O', '[2H]c1cc2cccnc2[nH]1', 'CCOCC(=O)ON', 'CC(=O)O[C@@H](N)CO', 'NCC(O)CC(=O)O', 'NC(O)COCC=O', 'COC(=O)[C@@H](C)ON', 'CCC=O.NC(=O)O', 'CC(N)(CO)C(=O)O', 'C=C(O)C(N)(O)CO', 'COC(=O)[C@H](C)NO', 'C[N+](C)([O-])COC=O', 'NOCC1OCCO1', 'CCOC(C)[N+](=O)[O-]', 'CC(C)(O)OC(N)=O', 'COC(=O)C[NH+](C)[O-]', 'COC(C=NO)OC', 'CON(O)CC(C)=O', 'CON(C)OC(C)=O', 'CO[13C](=O)[13CH2][13C](C)=O', 'NC1CC1.O=C(O)O', 'CNC(=O)CC(O)O', 'CC([C@H](C)O)[N+](=O)[O-]', 'OC[C@H]1CNC(O)O1', 'CC(C)=O.O=CNO', 'CCOCCON=O', 'NC1CC(O)OC1O', 'C[C@@](O)(CN)C(=O)O', 'CCC(O)CON=O', 'O=C[O-].[NH3+]C/C=C/O', '[2H]c1ccnc(CC#C)n1', 'C[C@@H](O)[C@H](N)C(=[O+])O', 'CCON(C)C(=O)O', 'CNC(C)C(=O)OO', 'NC(C=O)CC(O)O', 'CON(C=O)CCO', 'CNC(=O)COOC', 'CCN(O)OC(C)=O', 'COCOC(=O)CN', 'OC1(O)CNCCO1', 'CNC(=O)C(O)CO', '[2H]c1cnc2ccccn12', 'O[C@@H]1[C@@H](O)CN[C@@H]1O', 'CCC(C)(O)[N+](=O)[O-]', 'NC(=O)C(CO)CO', 'COOC(=O)N(C)C', 'NC/C(O)=C/C(O)O', 'CC(C)=O.N.O=C=O', 'NOC1COCCO1', 'C[N+](C)([O-])CC(=O)O', 'NC(=O)COCCO', 'NCC(O)/C(O)=C/O', 'CC(C(=O)O)N(C)O', 'COC(=O)C(C)ON', 'CCOC(=O)N(C)O', 'CC(O)CC[N+](=O)[O-]', 'CCOC(=O)ONC', 'CC(=O)N(O)CCO', 'CC(O)CONC=O', 'CNC(C)(O)C(=O)O', 'O[C@@H]1CNOC[C@@H]1O', 'C[C@H](NCO)C(=O)O', '[2H]n1ccc2cccnc21', 'ONCC1COCO1', 'CONC1OCCO1', 'C=CC(O)OCON', 'COC(=O)[C@](C)(N)O', '[2H]c1cc2cnccc2[nH]1', 'COCCC(=O)ON', 'O=C(CCO)CNO', 'N[C@H](C=O)[C@@H](O)CO', 'CN(O)C(=O)CCO', '[2H]c1ccc2nc[nH]c2c1', 'CCC(=O)O.NC=O', 'C1CCOONOC1', 'CC(=O)OCC(N)O', 'C=CC(O)C(=O)O.N', 'CC(N)(O)CC(=O)O', 'CCC(OC)[N+](=O)[O-]', 'C1CNC1.O=C(O)O', 'CCOC(=O)CNO', 'CC(C)(CO)[N+](=O)[O-]', 'C[C@@H](O)COC(N)=O', '[O-][N+]1(O)CCCC1O', 'CCCOOC(N)=O', 'CC(=O)NC(O)CO', 'CN(C)C(O)C(=O)O', '[2H]c1nc2ccccc2[nH]1', 'NOC(=O)CCCO', 'COCCNC(=O)O', 'C[N-][N+]([NH-])=C(O)ON', 'C=NOCC(O)CO', 'N[C@H](C=O)CC(O)O', 'CO[C@H](CO)C(N)=O', 'CC(O)CC(=O)NO', 'N[C@@H](CO)[C@H](O)C=O', 'C[SiH2][SiH2]N(C)C', '[2H]c1cn2ccccc2n1', 'CCCOC(=O)ON', '[NH3+][C@H](CCO)C(=O)[O-]', 'COOC(=O)[C@H](C)N', 'CC(CON)C(=O)O', 'NCCCOC(=O)O', 'NCC[C@@H](O)C(=O)O', 'CCC(=O)ONOC', 'NC(O)OCC1CO1', 'CC(C)([NH2+]O)C(=O)[O-]', 'O=CNOCCCO', 'NCC(CO)C(=O)O', 'COC[C@@H]([NH3+])C(=O)[O-]', 'COC(=O)[C@@H](C)NO', 'N[C@@H]1C(O)OC[C@H]1O', 'C[C@@H](C(=O)O)N(C)O', 'CO/N=C/C(O)CO', 'CCOOC(=O)CN', 'C[C@@H](O)CC[N+](=O)[O-]', 'O=NCCC(O)CO', 'CC#N.CO.O=CO', 'COC1(OC)CN1O', 'C[C@@H](O)CC(=O)ON', 'COC/C(C)=N/OO', 'C[C@H](O)N(C)C(=O)O', 'C[C@@H](O)CNC(=O)O', 'CCCC(O)[N+](=O)[O-]', 'CC(=O)OC(N)CO', 'CCOC(C)ON=O', 'CC(CO)C(=O)NO', '[NH3+][C@@H](CO)CC(=O)[O-]', 'COCC(=O)NOC', 'CN(C)OC(=O)CO', 'O=CCC[C@@H](O)NO', 'COC(C)OC(N)=O', 'NC1OC1OCCO', 'C[C@](N)(CO)C(=O)O', 'CON[C@H](C)C(=O)O', 'CCCCO[N+](=O)[O-]', 'CC(O)(C[NH3+])C(=O)[O-]', 'CC[C@@H](ON)C(=O)O', 'O=[N+]([O-])CCCCO', 'CNCC(O)C(=O)O', 'NOC1CC(O)CO1', '[2H]n1cnc2ccccc21', 'CC.NC(=O)C(=O)O', 'O[C@@H]1[C@H](O)CN[C@H]1O', 'NCC[C@H](O)C(=O)O', 'C=C(O)C(O)(O)NC', 'CC(C)C(=O)N(O)O', 'CC(O)(CO)NC=O', 'O=NOCCCCO', 'OCC1N[C@@]1(O)CO', 'CO[N+](C)(C)C(=O)[O-]', 'CCC(O)C(=O)NO', 'CC(O)N(C=O)CO', 'COC(=O)[C@H](O)CN', 'COCOCC(N)=O', 'CN(C)C(O)=C(O)O', 'N[C@H](O)CCC(=O)O', 'OC1CNCOC1O', 'O=CO.[H]/N=C/OCC', 'NC(=O)CCCOO', 'CC(=O)OC(C)ON', 'COC(=O)OC(C)N', 'NC(CCO)C(=O)O', 'CC(C)(O)C[N+](=O)[O-]', 'C=CC(=O)OC.NO', 'CC(C)ONC(=O)O', 'NC1(C(=O)O)CC1.O', 'CC(C)C(O)[N+](=O)[O-]', 'CCC(O)C[N+](=O)[O-]', 'CC(C)=O.NC(=O)O', 'O=NCOCCCO', 'COCC(O)NC=O', '[2H]c1cc(C)cnc1C#N', 'OC[C@@H]1C[C@H](O)NO1', 'CC(N)[C@@H](O)C(=O)O', '[2H]C(C#N)c1cccnc1', 'COCCOCN=O', 'CC(=O)C(=O)O.CN', 'NC(=O)O.OC1CC1', 'O=C(CO)NCCO', 'CC(OCN)C(=O)O', 'O=C[C@H](CO)NCO', 'NO[C@@H]1COC[C@H]1O', 'CCC(N)OC(=O)O', 'CC(=O)NOCCO', 'CCON(C=O)OC', 'CC(C)COON=O', 'CC(CCO)[N+](=O)[O-]', 'OCN1COCOC1', 'CN(C)OCC(=O)O', 'COCN(C)C(=O)O', 'COC(=O)C(N)OC', 'C/C=N/O.CC(=O)O', 'NC(=O)C(O)CCO', 'CC(NC=O)C(O)O', 'CC[C@@H](N)C(=O)OO', 'C=CCOC(=O)[O-].[NH4+]', 'C1CCC1.O=[N+]([O-])O', 'C[C@H](N)C(O)C(=O)O', 'OCC(C=NO)CO', 'CCC(N)(O)C(=O)O', 'OC[C@@H]1CNC(O)O1', 'NCC(CO)OC=O', 'CCC(O)/C=[N+](/[O-])O', 'COC(O)N1OC1C', '[2H]c1c[nH]c2ncccc12', 'CCCN(O)C(=O)O', 'CC[C@@](N)(O)C(=O)O', 'O=CNC(O)CCO', 'COCCO/C=N/O', 'CNC(O)CC(=O)O', 'CC=O.COC(N)=O', 'CO[C@@H](CO)C(N)=O', 'CC(C)NC(=O)OO', 'N[C@@H]1CO[C@H](O)[C@@H]1O', 'OCCN1OC1CO', 'CCNOCC(=O)O', 'CCC(O)OC(N)=O', 'C[C@H](OCN)C(=O)O', 'CC(=O)O.CC(N)=O', 'CC(N)C1(O)OC1O', 'C=CCOC([NH3+])=O.[OH-]', 'C[C@@H](O)[C@@H](C=O)NO', 'C=C(C)C(=O)O.NO', 'CC(O)(CN)C(=O)O', 'C[C@@H](O)[C@@H](CO)N=O', 'CCCOC[N+](=O)[O-]', 'C/C=C/N.O=C(O)O', 'COCC(O)C(N)=O', '[H]/N=C(\\\\C)COOOC', 'CN(O)CCC(=O)O', 'CC(O)C(=O)N(C)O', 'CN(CO)CC(=O)O', 'NC1(CO)COOC1', 'CN(C)[SiH2]C[SiH3]', 'NCC(=O)[C@H](O)CO', 'CCOC(=O)NCO', 'CCN(O)CC(=O)O', 'C[N+]1(C)CC1OO[O-]', 'CC(O)NC(=O)CO', 'OC1CN(O)CC1O', 'CC1CCC2(C(C1(C)CCC(C)CC(=O)O)CC(=O)C=C2C(=O)O)C', 'CCN(CC)CC(=O)Cc1cc2cc(-c3cnc(C)n3C)ccc2cn1', 'C[C@H]1C[C@H](O)[C@H]2[C@](C)(CCC[C@]2(C)C(=O)O)[C@]1(O)CCc1ccoc1', 'O=C1c2ccccc2CCN1CCCN1CCN(c2ccccn2)CC1', 'COc1ccccc1-c1nc2ccc(N)cn2c1CN1CCCCCC1', 'CC[C@@H](C)c1n[nH]c([C@@H](C)NC(=O)CCc2ccc3ccccc3c2)n1', 'CCCCOc1nc(N)c2[nH]c(=O)n(CCCN[C@@H]3CCCO3)c2n1', 'CC(C)n1ccnc1/C=C/C=C/C(=O)/C=C/C=C/c1nccn1C(C)C', 'COc1ccc(-c2nc3cc(C)ccn3c2CN2CCCNCC2)cc1', 'CCCCCNC1N=C(N2CCOCC2)c2ncn(CC(=O)O)c2N1', 'Cc1cc2nc(-c3ccc(N)cc3)n(CCN3CCOCC3)c2cc1C', 'CN(c1ccccc1)c1ccc(C(=O)N(C)C2CC3CCC(C2)N3)cn1', 'C=C1C(=O)[C@@]23[C@H](O)C[C@@H]4C(C)(C)CC[C@H](O)[C@@]4(CO)[C@@H]2CC[C@@H]1[C@H]3O', 'CCN(c1ccc(NC(=O)CCc2nc3ccccc3[nH]2)cc1)C(C)C', 'CCOC(=O)N1CCN(C(=O)c2cn(CC3CCCNC3)nn2)CC1', 'Cc1ccn2c(NCCN3CCCCC3)c(-c3ccccc3O)nc2c1', 'CC(C)(CCNc1ccncc1)CCOc1ccccc1-c1cnc[nH]1', 'C[C@]12CC[C@H]3[C@@H](CC[C@H]4CCCC[C@@]43C)[C@@H]1CC1(C2)SCCS1', 'CC(C)(CO)C(=O)O.CC(C)(CO[Si](C)(C)C(C)(C)C)C(=O)O', 'Cc1cc2nc(C)c(CCC(=O)N(C)Cc3ccccc3C)c(C)n2n1', 'Cc1cccc(C)c1NC(=O)C12C[C@H]3C[C@H](C1)CC(n1cncn1)(C3)C2', 'C[C@]1(CO)[C@H]2CC=C(CO)[C@@H](CCC3=CCOC3=O)[C@]2(C)CC[C@H]1O', 'CCCc1noc(CN2CC(N(CC)Cc3nnc(C)o3)[C@H](O)C2)n1', 'CCn1c(C)cc(C(=O)N2CCCC(c3nc4ccccc4[nH]3)C2)c1C', 'CCn1nc(C)c(C#N)c1/C(O)=C(\\\\C#N)CC1C=CC(C(C)(C)C)=CC1', 'Cc1ncc(-c2ccncc2)c([C@@H]2CCCN(C(=O)C3CCCC3)C2)n1', 'C[C@@]12CCC[C@@](C)(C(=O)O)[C@H]1[C@H](C(=O)O)[C@@]13CC[C@@H](C[C@@H]21)[C@@H](CO)C3', 'C=C1C(=O)[C@]23C(O)[C@H]1CC[C@H]2[C@]1(CO)CCC[C@](C)(CO)[C@H]1C[C@H]3O', 'CCN1CCN(c2cc(N3CCCCCC3)c([N+](=O)[O-])cc2F)CC1', 'CC1=C2CC/C(C)=C/CC[C@@](C)(O)[C@@H](O)CC[C@](C)(O)/C=C\\\\2OC1=O', 'CC(C)CCC(C)NC(=O)c1ccc(Cn2nnc3ccccc32)cc1', 'COc1ccc(OC)c([C@H](C)NC(=O)C[NH+](C)CC(=O)NC2CC2)c1', 'CCSOCC(C)OCC(O)COC(=O)C(C)(C)CC(C)(C)C', 'Cc1nc2cc([C@@H]3CCN(C[C@@H](C)c4ccccc4)C3)[nH]n2c(=O)c1C', 'CCC(C)N(Cc1ccccc1)C(=O)CC1CC2CCC(C1)N2.Cl', 'C[C@@H]1CCCN(c2nc(N)c([N+](=O)[O-])c(N3C[C@@H](C)O[C@@H](C)C3)n2)C1', 'C=C(CC[C@H]1C(=C)CC[C@@H]2[C@]1(C)CC[C@@H](O)[C@]2(C)C(=O)O)C(=O)CO', 'C[C@]12CCC(O)C=C1CCC1C2C(O)C[C@@]2(C)C1CC[C@]2(O)C(=O)O', 'CC1=C2C(O)C3(O)CC[C@@H]4C(C)(C)CCCC4(C)[C@@H]3C(O)[C@@H]2OC1=O', 'C[C@@H](O)CCCCCCCCC[C@@H]1Cc2cc(O)cc(O)c2C(=O)O1', 'Cc1ccc(C(=O)N2CCC(Nc3ccnc(C4CCC4)n3)CC2)cc1', 'CC[NH+]1CC[NH+](C(c2cccnc2)c2ccc3cccnc3c2O)CC1', 'CCCCCNC(=O)c1cnc2cc(-c3ccccc3)nn2c1C(C)C', 'CCCCCC(O)/C=C/C#C/C=C/C=C/C(O)C(O)CCCC(=O)O', 'c1coc(C(CNCc2ccc(-n3ccnc3)cc2)N2CCCCC2)c1', '[H]/N=C(\\\\N)N1CC(=O)N(C(C)C)C[C@@H]1C(c1ccccc1)c1ccccc1', 'C[C@H]1CCN(C[C@@H]2CN(c3ccc(C#N)c4ncccc34)C[C@@H](C)O2)C1', 'O=C(NC1CCN(Cc2ccccc2)CC1)c1cccnc1NC1CC1', 'CN(C)c1ccc(-c2cncc(C(=O)NC3CC4CCC(C3)N4)c2)cc1', 'CCc1cc(Cl)c(OCC2CC2)c(CCCN2CCN(C)CC2)c1', 'CCn1c(C)nc2cc(C(=O)N/N=C\\\\C3=CC[C@H]4C[C@@H]3C4(C)C)ccc21', 'CC1(C)CCC[C@@]2(C)C1C[C@@H](O)[C@@]13C2CC[C@H]2C(=O)OC(O[C@H]1O)[C@H]23', 'CC/C=C\\\\C[C@H](O)/C=C/C=C/C=C\\\\C=C/[C@@H](O)[C@@H](O)CCCC(=O)O', 'CC(NC(=O)/C(C#N)=C\\\\Nc1cccnc1)C12CC3CC(CC(C3)C1)C2', 'CNC(CNc1nc(-c2ccccc2O)nc2ccccc12)CC(C)C', 'CSCCCCCCCCCCC(=O)Cc1cccc(B(O)O)c1', 'CC(C)[C@]1(O)C=C[C@](C)(O)CC=C[C@](C)(O)C[C@H]2C=C(CC1)C(=O)O2', 'C[C@@]1(C(=O)O)[C@H](O)CC[C@@]2(C)[C@H]1CCC1=C[C@@H]3C[C@@]12CC[C@]3(O)CO', 'CC(C)=CCC(O)C1(O)C(O)=C(C(=O)C(C)C)C(=O)[C@H]1CC=C(C)C', 'Cc1cnc(C)c(-c2ccc(C(=O)N3CC[C@@H]4CC[C@H](C3)N4C)cc2)n1', 'CC(C)=C[C@@H]1O[C@]2(C)C[C@@H]3O[C@]14[C@H](C)[C@H]1CC[C@@H](C)[C@@]1(O)[C@@](O)(O3)[C@H]42', 'Cc1cc(C)c2ncc(C#N)c(NC3CCN(C(=O)C(C)C)CC3)c2c1', 'COc1cccc2[nH]cc(CCN/C(=N/Cc3ccccc3)N(C)C)c12', 'CN(C)c1ccccc1C/N=C1\\\\Nc2ccccc2NC12CCOCC2', 'CCCCN(C(=O)c1cc(C)nc2c1cnn2C(C)C)c1ccccc1', 'Cc1ccc2c(c1)c1c(n2C(N)(O)Cc2ccc(C)nc2)CCN(C)C1', 'CC(C)CN(CC(C)C)C(=O)C1CCN(c2cccc(Cl)c2)CC1', 'Cc1ccc([C@H](C)C(=O)N2CCc3nc([C@@H]4CCNC4)ncc3C2)cc1', 'Cc1ccc(CNC(=O)N2CCN(CC(=O)NC(C)C)CC2)cc1F', 'c1ccc2c(c1)CCC21CN(c2cc(N3CCCCC3)ncn2)CCO1', 'COc1ccccc1-c1cnn2c(N3C[C@H](C)C[C@H](C)C3)cc(C)nc12', 'Cc1ccccc1-n1nc(C(=O)N2CCC3CCC(C2)N3)c2c1CCC2', 'C[C@H]1C[C@@H](O)[C@H]2[C@](C)(CCC[C@]2(C)C(=O)O)[C@@]1(O)CCc1ccoc1', 'NC(=O)CC[C@H]1CCCN(c2nc(-c3ccccc3)nc3c2CCC3)C1', 'CC1=C(CC[C@]2(O)COC(=O)C2)[C@@]2(C)CCCC(C)(C)[C@@H]2[C@H](O)C1=O', 'O=C(c1ccc(N2CCCCC2)cc1)N1CCN(c2cccnc2)CC1', 'O=C(C1[C@H]2CNC[C@@H]12)N1CCC(c2cc(Cc3ccccc3)[nH]n2)CC1', 'O=C(Nc1ccc(-c2cn3c(n2)CCCC3)cc1)C1CC12CCNCC2', 'C=C(C)[C@@H]1C[C@@H]1CO[Si](c1ccccc1)(c1ccccc1)C(C)(C)C', 'N/C(=N\\\\Cc1ccc(OC2CCCC2)nc1)Nc1ccc2c(c1)CCC2', 'Cl.O=C(CCC1CCNCC1)N1CCCCCC1c1ccccc1', 'CC[C@H]1CN(c2ncnc3c2CCC3)CCC(=O)N1Cc1ccccc1', 'CCn1c(C)nc2cc(C(=O)NN=C3C4CC5CC(C4)CC3C5)ccc21', 'C[C@@H](O)CCCCCCCCC[C@H]1Cc2cc(O)cc(O)c2C(=O)O1', 'CCN/C(=N\\\\Cc1ccc(C)cc1)NCC(=O)N1CCc2ccccc21', 'CC(C)(CCCc1ccccc1)C(=O)N1C2CCNCC1CC2.Cl', 'c1ccc(C[NH+]2CCC([NH2+]Cc3nnc(-c4ccccc4)o3)CC2)cc1', 'NC(=O)NCCCC(N)C(=O)N1CCC(Cc2ccc(F)cc2)CC1', 'C/N=C(/NCc1cccc(C(N)=O)c1)NCC1(c2ccccc2)CCC1', 'CCNc1cc([C@H]2CCCN2CC2=Cc3ccccc3OC2)nc(C)n1', 'Cc1cncc(N2CC[C@@H](NC(=O)C(N)c3ccc(C4CC4)cc3)C2)c1', 'CCOc1ccc(NC(=O)C[NH+]2CCC[C@H](C(N)=O)C2)cc1OCC', 'Cc1ccn2c(NC[C@@H]3CCCO3)c(-c3ccc(N(C)C)cc3)nc2c1', 'COc1ccccc1CN1[C@@H]2CC[C@@H]1c1cnc(N3CCCC3)nc1C2', 'CC1(C)C(=O)[C@@H](O)C[C@]2(C)[C@@H]1CC[C@]1(C)O[C@@](C)([C@@H]3CO3)C(=O)C[C@@H]21', 'CC1CCc2[nH]c3c(C(=O)NCC(C)Cn4cccn4)cccc3c2C1', 'O=C1Nc2ncccc2CN1CCC1CCN(Cc2ccccc2)CC1', 'c1coc(C(CNCc2ccc(-n3cccn3)cc2)N2CCCCC2)c1', 'CN1C[C@@H](NC(=O)C2=C(c3ccccc3)CCC2)[C@H](c2cncn2C)C1', 'Cc1ccccc1Nc1nccc([C@@H]2CCCN(C(=O)C3CCC3)C2)n1', 'C=C1C2CC3(C1O)C(CC2O)C12CCCC(C)(C)C1C(O)C3(O)OC2', 'CC(C)(C)c1ccc(N2CC3CN(C(=O)c4ccccc4)CC3C2)nn1', 'CC(C)(C)c1cc(NC(=O)/C=C/c2ccccc2C#N)n(C(C)(C)C)n1', 'CCOc1cc(CN(c2cc(C#N)ccn2)C2CCNCC2)ccc1C', 'Cc1cc(C)cc(N/C(N)=N/Cc2ccc(CN3CCCC3=O)cc2)c1', 'CC[C@@H]1C2Cc3ncnc(N(C)Cc4ccccc4)c3C=C2CON1C', 'Cc1cccc(N2CCN(c3cc(C(=O)NC4CC4)ccn3)CC2)c1C', 'C=CCC(CCCC)P(=O)(C(=O)C(O)CO)C(O)C[N+](C)(C)C', 'C[N+]1(C)[C@@H]2CC[C@H]1CC(C=C(c1ccccc1O)c1ccccc1O)C2', 'CNC(=O)c1cccnc1N1C[C@@H]2CC[C@H](C1)N(Cc1ccccc1)C2', 'CC(C)NC(=O)CN1CCN(C(C)C(=O)Nc2ccccc2F)CC1', 'CN1C[C@H](c2ccccc2)CC12CCN(C(=O)Cc1cnccn1)CC2', '[H]/N=N/c1cccnc1CCCCc1ccc(C(C)=O)c(C2CCNC2)c1', 'C=C1CC[C@@H]2[C@](C)(CO)[C@H](O)CC[C@@]2(C)[C@@H]1/C=C/[C@@H]1C(=O)OC[C@H]1O', 'Cc1ccc(-n2nc(N3CCOC(CN)C3)c3/c2=C\\\\CC/C=C\\\\C=3)cc1', 'COC[n+]1ccc2cc(C(C)C)ccc2c1-c1cc(C)ccc1CCO', 'CC(C)c1ccc(C=NNC(=O)N/N=C/c2ccc(C(C)C)cc2)cc1', 'O=C(Cc1cccnc1)N1CCC[C@H]1c1ccc(CN2CCCC2)cn1', 'Cc1cccc(NC(=O)c2cnc(NCCC3=CCCCC3)nc2)c1C', 'C/C=C(/C)C(=O)O[C@H]1CC[C@]2(C)CC(=O)C(C(C)(C)O)=C[C@H]2[C@]1(C)O', 'CN(CC[C@H]1CCCCO1)Cc1c(-c2ccccc2)nc2ncccn12', 'C=C1[C@H]2C[C@H](O)C(C)(C)C(=O)[C@]2(O)CC23C[C@](C)(O)[C@H](CC[C@@H]12)[C@H]3O', 'Cn1ccc2c(OC3CCN(Cc4cn[nH]c4C4CC4)CC3)cccc21', 'c1ccc(Cn2c(NCCCN3CCOCC3)nc3ccccc32)cc1', 'C[C@]12CC[C@@H](O)C[C@H]1CC[C@H]1[C@@H]3CC[C@](O)(C(=O)CO)[C@@H]3CC(=O)[C@@H]12', 'CC(C)(C)[Si](CC1=CCCC(O)C1)(c1ccccc1)c1ccccc1', 'COc1ccccc1CN1C2CCC1c1cnc(N3CCCC3)nc1C2', 'C=CCCC(CN1CCCC1)Oc1ncc(F)c(N2CCOCC2)n1', 'O=CNC1CCCc2ccccc21.[H]/N=C/C(NC)=C(\\\\N)c1ccccc1', 'CCC(=O)[C@@H](CC1(C)OCCO1)[C@H](O)[C@H](C)COCc1ccccc1', 'C[C@@]1(C(=O)O)CCC[C@]2(C)C1CC[C@@]13C[C@@](O)(CC[C@]12O)[C@@]1(CO1)C3', 'c1ccc(-c2nc3c(c(N4CCC(C5CCCO5)CC4)n2)CCC3)nc1', 'CNC(=O)N1CCCCC1CCn1cc(C(=O)N2CCOCC2)nn1', 'CCCCCNC(=O)c1cc(-c2cccn2C)nn1-c1cccc(C)c1', 'CC(c1ccccc1)C(O)CN1CCC(c2nnc3ccccn23)CC1', 'Cc1ccccc1CC(=O)N1C[C@H]2CC[C@@H](N(C)c3cnccn3)[C@H]2C1', 'CC(C)c1cc(CNCCN2CC=C(c3cccc(C#N)c3)CC2)on1', 'CCCc1nc2ccc(C)cn2c1C(=O)N(CC)CCc1ccncc1', 'CC(NC(=O)C12CC3CC(CC(C3)C1)C2)c1ccc(-n2cncn2)cc1', 'Cc1cccc(CN2CCC3(CC2)CC(=O)NCc2ccccc2N3)n1', 'Cc1cccc(Cn2nc(CNCCCCO)c(-c3ccccc3)n2)c1', 'C=C(C)C(=O)OCCCCC=COC=CCCCCOC(=O)C(=C)C', 'CCc1cn[nH]c1[C@H]1CCCN(c2nc3c(C)cccc3cc2CO)C1', 'O=C(c1ccnc(N2CCNC(c3ccccc3)C2)c1)N1CCCCC1', 'CC(=O)NC1CC(c2cc(N3CCC(c4ccccc4)CC3)ncn2)C1', 'CC(CC(=O)NC(c1ccccc1)C1CCC1)C1CCCNC1.Cl', 'CC(C)[C@]1(O)/C=C\\\\[C@](C)(O)C/C=C\\\\[C@](C)(O)C[C@H]2C=C(CC1)C(=O)O2', 'CNC(=O)Cc1ccc2c(C)cc(-c3c(C)nn(C(C)C)c3C)nc2c1', 'CC1(C)CCC[C@]23[C@@H](CCC4=CC(=O)OC4O)[C@](C)(CC[C@@H]12)O[C@@H]3O', 'CC(C)C1C(O)=CCc2cnc(N(c3ccccc3)C3CCNC3)nc21', 'CN(CC1CCCN(CCc2ccc(Cl)cc2)C1)C1CCOCC1', 'CO.CO.Cc1cc([C@@H](C)[C@H]2O[C@@H](C)C[C@H]2C)cc(C(F)(F)F)c1', 'CCN[C@H](C)CNC(=O)C1CCCN(C(=O)Nc2ccccc2F)C1', 'Cn1cnnc1CCNC(=O)[C@H]1CNC[C@@H](C(=O)N2CCOCC2)C1', 'CC[C@@H](C)N(Cc1ccccc1)C(=O)c1cnc2c(cnn2C(C)C)c1', 'NOCCC(=O)NC(CCCN=C(N)N)C(=O)NCc1ccccc1', 'Cn1nccc1CCCCCCCNC(=O)c1ccnc2ccccc12', 'CCN/C(=N\\\\CC(O)c1ccccc1F)N1CCCC(CC(N)=O)C1', 'CCCn1ccnc1CNC(=O)C1CCCc2c1[nH]c1ccc(C)cc21', 'CNC1CCN(C(=O)C2(c3ccccc3C)CCCCC2)CC1.Cl', 'NOC1(Cc2nc3ccccc3[nH]2)CCCN(Cc2ccccc2)CC1', 'CCC(O)C(=O)[C@H]1C(C)(C)CCC[C@]1(C)C(=O)CCC1=CCOC1=O', 'CCCNCc1cccc(-n2c(=O)c3c(c4cnn(C)c42)CCCC3)c1', 'CCCCO[C@](CCc1ccccc1)(CC(=O)OC(C)(C)C)C(=O)O', 'Cc1ccc(CCC2CCN(C(=O)C(C)C3CNC3)CC2)cc1.Cl', 'CCOCCN1CCN(c2cccc(-c3nc4ccccc4[nH]3)c2)CC1', 'CCC(C)NC(=O)c1c(C2CC2)c(-c2ccc(C#N)cc2)nn1C(C)C', 'CNC(=O)c1cccnc1NC1CC2CCC(C1)N2Cc1ccccc1', 'CCC[C@@H](NC(=O)c1cc(C)nc2c1cnn2C(C)C)c1ccccc1', 'Cc1cc(C(=O)NCCNC(C2=CCCC=C2)c2ccccc2)nn1C', 'CCN(c1ccc(C(=O)NCc2nc3ccccc3n2C)cc1)C(C)C', 'CCN1CCC[C@@H]1CN1C(=O)CCc2c(C)nc(-c3ccccc3)nc21', 'CC1Cc2ccccc2N1c1ccc(NC(=O)NC2CCCCC2)cn1', 'CCN/C(=N\\\\Cc1nc(C)c(C)o1)NCCc1cccc2ccccc12', 'CCN1CCN(C(=O)c2cccc(N3c4ccccc4CC3C)n2)CC1', 'CN1CCC(N(C)C(=O)CCc2cc3c(cn2)[nH]c2ccccc23)CC1', 'Cc1cccc(N2CCN(C(=O)c3ccc(N4CCCC4)nc3)CC2)c1', 'C[C@@H]1CCCN1C[C@@H]1CCCN1C(=O)c1ccc(-c2ncccn2)cc1', 'C[Al]C.[CH2-]/C(C)=C(/C)[C-](C)C.[CH2-]/C(C)=C(/C)[C-](C)C.[CH3-].[Ni]', 'CCN(CC(=O)NC(C)C)Cc1c(-c2ccccc2)nc2ccccn12', 'CCCCCCCCO[C@H]1C[C@@H](O)[C@@H](COC(=O)c2ccccc2)O1', 'C#CC.C=S1CC(C)(C)C=C(c2ccccc2)c2ccccc21.CC', 'CC(=O)N1CCN(c2ccc(NC3CC(c4cccnc4)C3)cc2)CC1', 'Cc1nn(CCC#N)c(C)c1CCC(=O)NCC1(c2ccccc2)CC1', 'CCCC(CC)CC1CC(Nc2ccc(C(=O)N(C)C)c(Cl)c2)C1', 'CC(C(=O)NC(=O)NC(C)(C)C)N1CCN(c2ccc(F)cc2)CC1', 'CNc1nc(C)c2c(n1)N(C1CCCC1)CC(c1cccc(CO)c1)=C2', 'CC1=C(CC[C@@]2(O)COC(=O)C2)[C@]2(C)CCCC(C)(C)[C@H]2[C@@H](O)C1=O', 'O=C(NC1CCCC1)c1cc(Nc2ccc(N3CCCC3)cc2)ccn1', 'C[C@]1(CC/C(=C/CO)CO)[C@H](CO)CC[C@@]23COC(=O)C2=CCC[C@@H]31', 'CN(C)CCNc1nc(-c2ccccc2)c2c(c1C#N)CC(C)(C)OC2', 'Cn1c(N2CCN(CCCOc3ccccc3)CC2)nc2ccccc21', 'CC1(C(=O)O)CCCC2(C)C1C(C(=O)O)C13CCC(CC21)C(CO)C3', 'CCCCOc1nc(N)c2[nH]c(=O)n(CCN3CCCC3OC)c2n1', 'O=C(NCc1ccc2c(c1)CNC2)N1CCC(Cc2ccncc2)CC1', 'CCc1nc2ccccc2n1CC(=O)NCCCN(C)c1ccccc1', 'COc1ccc(-n2ccnc2CN(C)[C@H](C)Cc2cc(C)ccn2)cc1', 'Cc1[nH]c2c(C)ccc(C)c2c1CC(=O)NCCCNc1cccnc1', 'CCOC(=O)CCCN/C(=N\\\\C)N1CCN(c2ccc(F)cc2)CC1', 'CC(C)CNC(=O)CN1CCN([C@H](C(N)=O)c2ccc(F)cc2)CC1', 'Cc1cc(C)c2[nH]c(C)c(CC(=O)NCCNc3ncccc3C)c2c1', 'CC(=O)N1c2ccc(C)cc2C(Nc2nccc(C)n2)[C@@H](C)[C@@H]1C1CC1', 'CCN/C(=N\\\\Cc1ccc(C)cc1OC)NCc1cc2ccccc2[nH]1', 'CCCNC(=O)CN1CCN([C@@H](C)C(=O)Nc2ccccc2F)CC1', 'O=C(O)CCC/C=C\\\\C[C@H]1[C@@H](COC2CCCCC2)[C@@H]2O[C@H]1[C@@H]1O[C@@H]12', 'Cc1cnccc1N1CCCN(CC(=O)N2CCc3ccccc32)CC1', 'CCCCCCCCCCCCCOS(=O)OCC(=O)OCC', 'CCCCn1c(=O)[nH]c(=O)c2c1nc(CN(C)CC(=O)NC)n2CC', 'NCCCCCCN(N=C=O)N1c2ccccc2CCc2ccccc21', 'C[C@]1(CO)[C@H]2CC[C@@]3(C)OC(C4=CCOC4=O)C[C@H]3[C@]2(C)CC[C@H]1O', 'C=C1CC[C@@H]2[C@](C)(CO)[C@@H](O)CC[C@@]2(C)[C@@H]1C/C=C1\\\\C(=O)OC[C@H]1O', 'CNc1cc(N2CCCC2CNC(=O)N(C)CC(C)C(=O)O)ncn1', 'COc1cccc(N2CCN(CCCc3c[nH]c4ncccc34)CC2)c1', 'CC1(C)CCC[C@@]2(C)C1C[C@@H](O)[C@@]13C2CC[C@H]2C(=O)O[C@@H](O[C@H]1O)[C@H]23', 'c1ccc(N2CCC(Oc3cncc(N4CC5CC(C4)N5)c3)CC2)cc1', 'Cc1ccc(-c2ccc3cc(C(=O)NC[C@@H](N)CCCN)[nH]c3c2)cc1', 'Cc1ccccc1C(CC(C)C)NC(=O)C1CC12CCNCC2.Cl', 'N#Cc1ccnc(N2CCN(C(=O)C34CC5CC(CC(C5)C3)C4)CC2)c1', 'Cc1cc(C)nc(N2CCC(C(=O)N3CCc4ccccc4C3)CC2)n1', 'O=C(NCc1nn(-c2ccccc2)c2c1CCC2)C1CC12CCNCC2', 'Cc1ccccc1[C@@H]1[C@H]2CNC[C@H]2CN1C(=O)C1(Cn2cccn2)CC1', 'Cc1cccc(CC(=O)N2CC[C@@H](c3ncc4c(n3)CCN(C)C4)C2)c1', 'C=C1CC[C@H]2[C@](C)(CO)[C@@H](O)CC[C@@]2(C)[C@H]1C/C=C1/C(=O)OC[C@H]1O', 'CCC(/N=C1\\\\COc2ccccc2N1)N1CCN(c2ccccc2)CC1', 'Nc1nccnc1C[C@@H]1CCCN(C(=O)Cc2ccc3c(c2)CCC3)C1', 'C/N=C(\\\\NCCC(=O)N(C)Cc1ccccc1)N1CCc2ccccc21', 'CCOc1cc(CN2CCC(Nc3ccc(C#N)cn3)CC2)ccc1C', 'Cc1cc(C)cc(Nc2cnc(C(=O)NCCC3=CCCCC3)cn2)c1', 'CC(C)(C)c1cc(Cn2cnc(-c3ccccc3)c2C2CCOC2)[nH]n1', 'CCc1nc2c(N)nc3c(c2n1CCc1ccc(CO)cc1)CCCC3', 'CCCCCCCCOC(=O)C(O)CCC(=O)OCc1ccccc1', 'COc1ccc(N(C)Cc2cc(N3CCN(C)CC3)ccc2C#N)cc1', 'CCN(C(=O)c1cc(-c2cnn(C)c2)nc2c(C)c(C)ccc12)C(C)C', 'COc1cccc2ccc(CN3CCCCC3CCn3cccn3)nc12', 'Cc1cccc(C)c1NC(=O)c1cc(NCCC2=CCCCC2)ncn1', 'COC1=C(OC)C(=O)C(C(C)(C)C/C=C(/CC(C)C)OC)=C(C)C1=O', 'CCCCCCCCCCCSC1OC(C(O)CO)C(O)C1O', 'C/N=C(/NCCNC(=O)Cc1cccc(F)c1)NCC1(C)CCCO1', 'Cc1nc(-c2ccc(C(=O)N3CCCNCC3)cc2)nc2c1CCCC2', 'C=CCNC(=O)c1ccc(N2CCN(c3cccc(C)c3C)CC2)cn1', 'O=C(O)CCC1(CC2CCOC2)C=C(CO)C=C(CC2CCOC2)C1', 'CN(C)c1ncccc1C(=O)N1CCCc2ccc(N3CCCC3)cc21', 'CC(C(=O)NCC1(c2ccccc2)CCCC1)N1CCCCC1.Cl', 'CNC(=O)N[C@H]1C[C@H]2CN(Cc3ccccc3)c3ccccc3CN2C1', 'Cc1ccc(-n2nc(C(=O)NCC3=CCNCC3)c3c2CCCC3)cc1', 'CCOC(=O)CCc1ccc(OCCOC)cc1OC1CCCCC1', 'CC(C)c1nccn1[C@H](C)C(=O)N1CCC(C#N)(c2ccccc2)CC1', 'COCc1c(CO)cc(OC)c(CC=C(C)CC=CC(C)(C)O)c1O', 'CCCCCCCOc1ccc(C(=O)OCCCCCC(=O)O)cc1', 'CC(C)CCn1ccc(N2CCN(c3ccccc3)CC2)c(C#N)c1=O', 'Cc1cc(C(=O)NC(c2ccccc2)C(C)C)c2cnn(C(C)C)c2n1', 'C/N=C(/NCc1cc2ccccc2[nH]1)NCC(C)Oc1ccccc1C', 'CN(CCOc1ccccc1C#N)C[C@@H]1CCN(C)[C@H]1c1cccnc1', 'CC(C)(C)c1nc(C#N)c(NN=Cc2ccc(C3CCCCC3)cc2)o1', 'CCOC(=O)CC(O)CC(O)CCc1c(C)ccc2c1OC(C)(C)C2', 'Cc1cccc(CN2CCC3(CCCN(c4cccc(C)n4)C3)C2=O)n1', 'CC1(CC(OC1=O)CC2(C(O2)COC3=CC4=C(C=C3)C=CC(=O)O4)C)O', 'CCOC(=O)c1ccccc1NC(=O)CCNc1ccc(C)c(Cl)c1', 'Cc1cc(NC(=O)Cn2nc(-c3ccc4ccccc4c3)ccc2=O)on1', 'COC1=C(OC)C(=O)C(COc2ccc(C(C)C(=O)O)cc2)=C(C)C1=O', 'Nc1c2c(cc(=O)n1-c1ccccc1CCc1ccncc1)C(=O)NC2=O', 'CCOC(=O)c1cc(C)n(Cc2cc(Cl)cc3cc(C(C)C)oc23)n1', 'O=C(Cc1ccccc1)[C@H]1CCCN(C(=O)CCc2cc(Cl)no2)C1', 'CC(C)c1ccc(CCNC(=O)COC(=O)c2ccc(Cl)nc2)cc1', 'CCC[C@H](C)NC(=O)C[NH+](C)CC(=O)Nc1c(Cl)cccc1Cl', 'Fc1cc(F)c2nccc(NCCc3csc(N4CCCC4)n3)c2c1', 'CCOC(=O)C(O)(C(=O)OCC)c1cc(Oc2ccccc2)ccc1O', 'C=CCC(=O)N1CC[C@H](NC(=O)CSC2CCS(=O)(=O)C2)[C@H]1C', 'Cc1cc(S(C)(=O)=O)c(C)c(S(=O)(=O)N[C@H]2CCC[C@H]2CN)c1', 'C[C@@H](c1ncncc1F)[C@](O)(Cc1cncnc1)c1ccc(F)cc1F', 'CC(C)(C)NC(=O)c1cc(CC(=O)Cc2ccc(Cl)c(O)c2)ccn1', 'COc1ccccc1CNC(=O)CN(C(C)=O)c1ccc(Cl)cc1C', 'Cc1nc(C#Cc2nc(-c3ccccc3)cn2C)c2c(F)ccc(F)c2n1', 'NCc1ccc(Nc2ncnc(-c3ccccc3C(F)(F)F)c2O)cc1', 'O=C(NCc1ccc(NC(=O)c2ccco2)cc1)c1cn2ccccc2n1', 'C#CCCCCC(=O)c1c(O)c2c(OC)c(OC)c(OC)cc2oc1=O', 'Cc1[nH]n(-c2ccccc2)c(=O)c1/C=C1\\\\NC(=O)N(c2ccccc2)C1=O', 'Nc1nc(-c2ccccc2)nc2c(F)c(N3CCOCC3)c(F)c(F)c12', 'CCCOc1c(Cl)cc(/C=C/C(=O)Nc2cnccc2C)cc1OC', 'CC[C@@](C)(Sc1ccccc1)[C@@H](O)[C@H](C)C(=O)Sc1ccccc1', 'CC1(Nc2ccc(C#N)c(C(F)(F)F)c2)CN(c2ccccc2)C(=O)N1', 'COc1ccc2c(c1)[C@]1(COC(N)=N1)c1cc(-c3cncnc3)ccc1O2', 'C/N=C/c1n[nH]nc1-c1cccc(OCc2cccc(C(F)(F)F)c2)c1', 'O=C(O)[C@H]1C[C@@H](C(=O)Nc2ccc(F)cc2)CN(C(=O)c2ccn[nH]2)C1', 'CCCNC(=O)c1ccccc1NC(=O)[C@@H](C)Oc1ccc(Cl)cc1', 'CC(=O)Nc1cccc2c1N=C(N)CN=C2c1ccc(C(F)(F)F)cc1', 'Cc1cc(NC(=O)c2cc3cccnc3n(Cc3ccccc3)c2=O)no1', 'O=C(/C=C/c1ccc(Cl)cc1)NC[C@H](c1ccco1)N1CCOCC1', 'Cc1c(C(=O)N(C)Cc2ccc(Cl)nc2)oc2c1C(=O)CC(C)(C)C2', 'Cc1cccc(-n2nc3ccccc3n2)c1OCc1ccccc1[N+](=O)[O-]', 'Cc1nc(CN2CCC(CNc3cc(Cl)ccc3C#N)CC2)cs1', 'Cc1cccc(C)c1NC(=O)CN(C)C(=O)COc1cccc(Cl)c1', 'COc1cc(C)c(C(=O)Oc2cc(C)c(C(=O)O)c(O)c2)c(OC)c1C', 'COc1cccc(C(=O)N2CCN(c3cc(Cl)ccc3OC)CC2)c1', 'Cc1ccc2nc(N(CCC[NH+](C)C)C(=O)c3cccs3)sc2c1', 'CN(C)C1CCCN(c2ccc(S(C)(=O)=O)cc2S(C)(=O)=O)C1', 'CC(Cc1ccc(Cl)cc1)C(=O)N1CCN(C(=O)c2ccco2)CC1', 'Cc1nc(=O)on1-c1ccc(Cc2cc3ccccc3nc2C(N)=O)cc1', 'C=CCOc1ccc(/C=C/C(=O)c2ccc(OC(F)F)c(OC)c2)cc1', 'CC(C)CCC12CCN(C(=O)O)C1ON=C2C#Cc1cccc(Cl)c1', 'COC(=O)Nc1ccc(Nc2ccccc2-c2ccccc2)c2nonc12', 'Cc1nn(-c2ccccc2)c(C)c1NC(=O)c1ccc(C(F)(F)F)nc1', 'COCc1ccc(Oc2cc3nc(-c4ccccn4)[nH]c3cc2C=O)cn1', 'CCS(=O)(=O)N1CC2(C1)OCC[C@@H]2CCOCc1csc(C)n1', 'COc1ccc(-n2ncc3c2NC(=O)C[C@@]32C(=O)Nc3ccccc32)cc1', 'Cn1cccc1Cn1c(=O)nc(-c2ccccc2)c2cc([N+](=O)[O-])ccc21', 'Cl.O=C(CC1COCCN1)Nc1cccc(C(=O)c2ccccc2)c1', 'Cc1c(C2=NOC3C(=O)N(c4ccc5ccccc5c4)C(=O)C23)cnn1C', 'COc1cccc(NC(=O)C(C)(C)C(=O)NCc2ccc(Cl)cc2)c1', 'COc1ccc(Cl)cc1NC(=O)CC(=O)Nc1ccc(C(C)C)cc1', 'CCN1c2ccccc2C2C1C=C(C#N)C(=O)N2c1ccc([N+](=O)[O-])cc1', 'CCCNC(=O)c1ccccc1NC(=O)[C@@H](C)Oc1cccc(Cl)c1', 'COc1ncccc1-c1ccc(O)c(-c2nc3ccc(C(N)=O)cc3[nH]2)c1', 'Cc1ccc(S(C)(=O)=O)cc1S(=O)(=O)NCC[C@@H]1CCCNC1', 'C=C(C)C(=O)Cc1cc(C(=O)OCC(C)=O)cc(C(=O)OCC(C)=O)c1', 'COc1ccc(-c2cc(C(=O)O)c3c(C)nn(-c4ccccn4)c3n2)cc1', 'CCCCC(=O)Oc1cc(Cl)nnc1Oc1c(C)cccc1C1CC1', 'O=C(NC1CCCc2occc21)N1CCOC(c2ccc(Cl)cc2)C1', 'Cc1nn(-c2ccc([N+](=O)[O-])cc2)c2c1c(=O)n1c3c(cccc23)CCC1', 'CCOc1ccc(CC(=O)N/N=C/c2cc(Cl)ccc2OCC)cc1', 'Cc1ccc(/N=N/c2c(C)[nH]n(-c3ccc(C(F)(F)F)cc3)c2=O)cc1', 'COc1ccc(Cc2nc3ccc(Cl)cc3n2CCCO)cc1OC', 'Cc1c(N2CC3(CB(C#N)C3)C2)sc2nnc(-c3ccccc3O)cc12', 'Cc1cc(C)c(NC(=O)[C@H](C)OC(=O)c2ccc(Cl)cc2N)c(C)c1', 'CCc1ccccc1OCC(=O)NNC(=O)CCc1ccccc1Cl', 'Cc1c(F)cccc1-n1nnc(C(=O)NCc2ccc(F)cc2F)c1C', 'CC(C)N(Cc1ccccc1)C(=O)COC(=O)c1ccc(Cl)c(N)c1', 'COc1ccc([C@H](CC(=O)NCc2cccc(Cl)c2)NC(C)=O)cc1', 'O=C(NC1CN2CCC1CC2)c1ccc(COc2ccccc2Cl)o1', 'O=C(NCc1ncc(-c2ccccc2)[nH]1)Nc1cccc(C(F)(F)F)c1', 'O=C(CNC(=O)c1cc(-c2ccccc2)on1)Nc1ccc2[nH]ccc2c1', 'Cc1cc(C)c(S(=O)(=O)NCCN[C@H]2CCS(=O)(=O)C2)cc1C', 'CCc1ccc(/C=N\\\\O[C@H](C)C(=O)Nc2cc(Cl)ccc2OC)cc1', '[H]/N=C/C(=N\\\\C(N)=N\\\\Cc1nc(C)c(C)s1)c1ccccc1NSC', 'CC(c1cccc(Cl)c1)N(C)C(=O)C1CC(=O)N(Cc2ccco2)C1', 'O=C1CC(=O)N(C23CCC(CC2)C3)C(=O)N1CCc1ccc(Cl)cc1', 'O=C(O)CNc1nc(-c2cccc([N+](=O)[O-])c2)nc(N2CCOCC2)n1', 'COc1ccc(Cl)cc1CN(C)C(=O)C(C)NC(=O)c1ccccc1', 'CC(C)NC(=O)NC(=O)[C@@H](C)Oc1ccc(-c2ccccc2)cc1Cl', 'C=CCOC(=O)COc1ccc2c(C)c(CC(=O)OC)c(=O)oc2c1C', 'Cc1cnc(C(=O)OCC(=O)N(CCC(N)=O)c2ccc(F)cc2)cn1', 'CCN(CC(=O)Nc1cccc(OC)c1)C(=O)Cc1ccccc1Cl', 'Cc1ccc(/N=C/c2cc(/N=N/c3ccc([N+](=O)[O-])cc3)ccc2O)cc1', 'COC(=O)c1ccc(CC(=O)[C@H]2NCC[C@@H]2c2ccccc2)nc1.Cl', 'CCN(C(=O)CN(C(C)=O)c1cc(Cl)ccc1OC)c1ccccc1', 'C[n+]1noc([O-])c1CN(C1CC1)C1CC(=O)N(c2ccc(F)cc2)C1=O', 'CC(C)(COS(=O)(=O)O)c1ccc(OC2CCCCC2(O)O)cc1', 'C=C(C)COc1ccc(NC(=O)CNc2ccc(OC)c(Cl)c2)cc1', 'Cc1cccc(NC(=O)c2cnn(-c3cccc(C(F)(F)F)c3)c2C)n1', '[N-]=[N+]=N[C@H]1[C@@H](O)[C@@H](CO)O[C@@H](S[C@@H]2CCC[C@H](N=[N+]=[N-])[C@H]2O)[C@@H]1O', 'Cc1ccc([N+](=O)[O-])cc1NC(=O)CNC(=O)NCc1ccc(F)cc1', 'Cc1nc2c(Cc3ccc(-c4ccccc4C(=O)O)cc3)n[nH]c(=O)c2[nH]1', 'CCOc1ccc([C@H](O)CCC(=O)N/N=C\\\\c2ccccc2Cl)cc1', 'COC[C@@H](C)n1c(C)cc(C(=O)COc2ccc(C#N)cc2Cl)c1C', '[H]/N=c1/nc(-c2cccc(-c3n/c(=N/[H])sn3CCC)c2)n(CCC)s1', 'Cc1cc(Cl)ccc1OCC(=O)Nc1ccc(CC(=O)N(C)C)cc1', 'CCOC(=O)C1=C(N)OC(C(C)(C)C)=C(C#N)C1c1cccc(Cl)c1', 'CCOC(=O)C(O)c1cc(OC)c(OC)cc1OC(=O)c1ccccc1', 'C[NH+]1CC2([N+](=O)[O-])C=CC(=O)C([N+](=O)[O-])(C1)C2CC(=O)c1ccccc1', 'C=C(C)C(=O)OC1C=C(CO)C2=CC(=O)C(C)(CC3OC(=O)C(=C)C13)O2', 'Oc1cccc2c(CSCC(c3ccccc3)c3ccccc3)coc12', 'COC(=O)c1scc(C)c1S(=O)(=O)NC(CN)C1CCCCC1', 'COc1cccc(C2CC(=O)Nc3c2c(=O)[nH]c2nc4ccccc4n32)c1', 'COc1ccc(-c2ccc3ncnc(C4=CC(C(=O)O)CN=C4)c3c2)cn1', 'Cc1ccc(NC(=O)C(=O)NCc2ccc(OC(C)C)cc2)cc1Cl', 'C=C(C(Cc1ccc(C(F)(F)F)cc1)C(=O)OCC)P1NCCN1', 'NCC(=O)N1CCCC1P(=O)(Oc1ccccc1)Oc1ccccc1', 'Cn1nc(-c2ccc(NC(=O)COc3ccccc3C#N)cc2)ccc1=O', 'O=c1c2ncc(-c3ccccn3)cc2nc2n1CCCC(C(F)(F)F)C2', 'COc1cc(OC)cc(C(=O)N2CCN(c3ccc(Cl)cc3)CC2)c1', 'CCCN1C(=O)COc2ccc(-c3noc(-c4ccc(C#N)cc4)n3)cc21', 'COc1ccc(Nc2ccnc(Nc3ccc(C(F)(F)F)cc3)n2)cc1', 'COc1cc(C=C(C#N)c2nnc(-c3ccccc3)n2C)cc2c1OCO2', 'Oc1ccc(/C=C/c2cc(O)cc(O[C@@H]3OC[C@H](O)[C@H](O)[C@H]3O)c2)cc1', 'CCOc1cc2ccccc2cc1C(=O)Oc1ccc(-n2cnnn2)cc1', 'COc1ccc(OC)c(C2NCCC23C(=O)Nc2ccccc23)c1.Cl', 'Cc1ccc(CC(=O)NNC(=O)COc2ccc(Cl)c(C)c2)cc1C', 'C=C(C)C(=O)OC(CC)CCCc1cc(C(=O)O)cc2c1C(=O)OC2=O', 'O=C(Nc1ccccc1C(=O)NCc1cn2ccccc2n1)c1ccco1', 'CCNC(=O)c1ccc(NC(=O)COc2cc(C)c(Cl)c(C)c2)cc1', 'O=C(c1ccccc1)c1cccc(OC2OC(CO)C(O)C(O)C2O)c1', 'Cc1ccc(Cl)cc1-c1cc(B2OC(C)(C)C(C)(C)O2)cn1C(=O)[O-]', 'O=C(CNc1cccc(C(F)(F)F)c1)N/N=C/c1c[nH]c2ccccc12', 'COc1ccc(Cl)cc1NC(=O)CN(C(C)=O)c1cc(C)ccc1C', 'O=C(/C=C/c1ccco1)NCC(c1ccccc1Cl)N1CCOCC1', 'C=C(C)C(=O)O[C@H]1/C=C(/CO)C2=CC(=O)[C@@](C)(C[C@H]3OC(=O)C(=C)[C@@H]13)O2', 'COc1cccc(-n2ccc(=O)c(-c3nc(-c4cccc(C)c4)no3)n2)c1', 'COc1cc(O)c2c(c1)/C=C/C[C@H](O)[C@H](O)C(=O)C#CC[C@H](C)OC2=O', 'CN(CCOc1ccc(Cl)cc1)CC(O)COc1ccc(C#N)cc1', 'CC(C)NC(=O)c1ccccc1NC(=O)[C@@H](C)Oc1ccccc1Cl', 'O=C(NC1CCC(Oc2ncc(F)cn2)CC1)c1ccc([N+](=O)[O-])cc1', 'COc1ccc(CNC(=O)c2c(Cl)ccnc2OCC2CC2)cc1C', 'CC(C)(C)N/N=C/c1cn(-c2cccs2)nc1-c1ccccc1.Cl', 'CC1C(NC(=O)c2ccc(Oc3cccc(Cl)c3)o2)C2CCN1CC2', 'Nc1nc(C(=O)N2Cc3ccccc3C2)c2cc(/C=C/C(=O)O)ccc2n1', 'CCCCNC(=O)c1ccccc1NC(=O)COc1ccccc1Cl', 'Cn1nc(CNC(=O)c2cc3ccccc3oc2=O)cc1-c1ccncc1', 'COc1cccc(-c2ccc(C(=O)Nc3ccc4[nH]c(=O)[nH]c4c3)cn2)c1', 'CC1(C)CN(c2c(Cl)ccc3c2CCN(C(=O)C(F)(F)F)CC3)C1', 'CCN(CC)P(=S)(O[P@](C)(=S)OC(C)C)N(CC)CC', 'Cn1nccc1-c1cncc(CNC(=O)c2cc(=O)c3ccccc3o2)c1', 'COc1cc(N)c(Cl)cc1C(=O)NCc1ccccc1OC1CCC1', 'Cc1cc(N/C=C(/C#N)C(=O)Nc2ccc(Oc3ccccc3)cc2)no1', 'Cc1nc2ccc(C(=O)OCC(=O)Nc3ccccc3C#N)cc2nc1C', 'O/N=C(\\\\Cn1ncc2ncc(-c3ccc(F)c(C(F)F)c3)cc21)C1CC1', 'CC(=O)ON=C(N)c1ccc2[nH]c(O)c(-c3ccc4ccccc4n3)c2c1', 'CN(CC(=O)NCCc1cccc(Cl)c1)Cc1ccc2c(c1)OCO2', 'COc1ccc(N(CCC(=O)Nc2cccc(Cl)c2C)C(C)=O)cc1', 'CCOc1ccc(Cl)c(Oc2ccc(C=C[C@H](C)NC(C)=O)cn2)c1', 'Cc1ccc(C(C)C)c(OCC(=O)NNC(=O)c2ccccc2Cl)c1', 'COc1ccc(NC(=O)C2(c3ccc(Cl)cc3)CCOCC2)c(C)n1', 'CC(Oc1cccc(Cl)c1)C(=O)N(CCC(N)=O)Cc1ccccc1', 'NC(=O)c1cnn2ccc(N3CC(F)(F)CC3c3cccc(F)c3)cc12', 'CCOC(=O)C12CCC(c3ccccc3)(O1)C(C(=O)OC)=C2C(=O)OC', 'COc1ccccc1N1CCN(C(=O)COc2ccc(Cl)cc2)CC1', 'CCCNC(=O)Nc1cccc(OC(=O)CCc2ccccc2Cl)c1', 'CCOc1ccc(N/C(=C\\\\C(N)C=O)Cc2ccc(O)cc2)c(Cl)c1', 'C=CCn1c(C)c(C(N)=O)c(-c2ccccc2Cl)c1CCC(=O)OC', 'CCCCNN(CCCC)S(=O)(=O)c1cc(C(=O)O)ccc1S', 'O=C(O)[C@@H]1C[C@@H]2CCCC[C@H]2N1Cc1coc(-c2cccc(Cl)c2)n1', 'COc1ccc(NC(=O)C(C)(C)C(=O)Nc2ccc(Cl)cc2C)cc1', 'CC(C)C(=O)Nc1ccc(CNC(=O)COc2ccc(Cl)cc2)cc1', 'COc1ccc(Nc2ncc(C(F)(F)F)c(Nc3ccccc3)n2)cc1', 'Cc1ccc(NC(=O)Oc2ccc(-n3nc4ccccc4n3)c(O)c2)cc1', 'COCc1nc2ccc(Cl)cc2n1CCc1ccc(OC)c(OC)c1', 'CCCCN(Cc1ccsc1)S(=O)(=O)N1CCC(C(=O)O)CC1', 'CCOc1ccc(C(=O)N[C@@H]2COC[C@H]2Cc2ccncc2)cc1Cl', 'CN(CC(=O)NCc1ccc(Cl)cc1)CC1COc2ccccc2O1', 'O=C(Nc1ccc2c(c1)OCO2)c1cnc(N2CCc3ccccc32)nc1', 'O=C(Nc1ccc(C(F)(F)F)cc1)c1ccnn1CCc1ccncc1', 'COc1cc(NC(=O)N2CCC[C@H]2c2ccccc2Cl)cc(OC)c1', 'Cc1cc(OCC(=O)NCCNC(=O)c2ccccc2)cc(C)c1Cl', 'COc1ccc(NC(=O)c2cccc(C(=O)NC(C)(C)C)c2)cc1Cl', 'O=C(CCN1CCC(=O)NC1=O)NCc1cc(-c2ccc(F)cc2)on1', 'Cc1cccc(C)c1O[C@H](C)C(=O)NNC(=O)Cc1ccc(Cl)cc1', 'CCN(Cc1noc(C)n1)C(=O)NCc1cc(F)cc(C(F)(F)F)c1', 'CC1(C)NC(=O)N(CCCCOc2ccc3ccccc3c2Cl)C1=O', 'COC(=O)C(C(=O)c1ccc(OC)cc1OC)c1ccc(OC)cc1O', 'Cc1cn(N=Cc2ccccc2COc2cc(F)c(F)c(F)c2)c(N)n1', 'CCOc1c(Cl)cc(/C=C/C(=O)N(C)Cc2ccncc2)cc1OC', 'CCCC(=O)Nc1ccc(Cl)c(NC(=O)c2ccccc2OCC)c1', 'Cc1nc2ccc(O)cc2c(=O)n1CC(=O)Nc1cccc2ncccc12', 'CCc1ccc(S(=O)(=O)N2CCN(CCS(C)(=O)=O)CC2)cc1', 'Cn1c(=O)n(CCCC(F)(F)F)c2ccc(-c3cncc(C#N)c3)cc21', 'COc1cccc(-c2ncc(-c3ccc(NC(=O)c4cocn4)cc3)[nH]2)c1', 'CC[C@@]1(O)C(=O)OCC2=C1C=C1c3nc4ccccc4cc3C3NN=C2N13', 'COc1ccc(NC(=O)C(c2ccccc2)N2CCOCC2)cc1Cl', 'COC(CNC(=O)C(=O)Nc1cccc(C)c1C)c1ccccc1Cl', 'N/C(=N\\\\O)c1ccc(NC(=O)OC2c3ccccc3-c3ccccc32)cn1', 'CCOC(=O)c1ccc(NCCC(=O)NCc2ccc(Cl)cc2)cc1', 'C[C@H](Nc1ccc(NC(=O)[C@@H]2COCCO2)cc1Cl)c1ccccc1', 'Cc1cc2n(n1)C(C(F)(F)F)CCN2C(=O)c1ccc2ncccc2c1', 'Cc1cc(C(=O)O[C@@H](C)C(=O)Nc2ccc(Cl)cc2)c(C)n1C1CC1', 'COc1ccccc1-c1noc2ncnc(Nc3cccc(C(C)=O)c3)c12', 'C[C@H](Oc1cccc(Cl)c1)C(=O)Nc1ccc(N2CCOCC2)cc1', 'COc1ccccc1CCNC(=O)CCNC(=O)c1ccc(Cl)cc1', 'COc1cc2c(cc1-c1cc(-c3cccnc3)nc(N)c1C#N)OCCO2', 'Cc1coc(-c2cccc(NC(=O)Cc3n[nH]c(=O)c4ccccc34)c2)n1', 'CC1CN(S(=O)(=O)NC(C)c2ccc(S(C)=O)cc2)CC(C)O1', 'CCCCC(=O)OCC(=O)OC1C2OS(=O)(=O)C3CC1C(C)(C)C23', 'O=C(NCCn1ccc(-c2ccccn2)n1)c1cccc(C(F)(F)F)c1', 'CNC(=O)c1cc(Oc2ccc3oc(Nc4ccccc4)nc3c2)ccn1', 'Oc1ccc(/C=C/c2cc(O)cc(O[C@H]3OC[C@@H](O)[C@H](O)[C@H]3O)c2)cc1', 'COC(=O)c1ccc(Cl)c(NC(=O)CNc2ccc(C(C)C)cc2)c1', 'Cc1nnnn1-c1cccc(NC(=O)c2n[nH]c3c2CNCC3)c1.Cl', 'Cc1ccc(CNC(=O)[C@@H](C)OC(=O)c2c(C)cc(C)nc2Cl)cc1', 'COc1ccc(Nc2cc(Nc3ccc(C(F)(F)F)cc3)ncn2)cc1', 'O=c1n(Cc2ccccc2)c2ccc([N+](=O)[O-])nc2n1Cc1ccccc1', 'O=C(COc1ccccc1Cl)NCc1ccc(N2CCOCC2)cc1', 'CCCN(c1ccc(S(C)(=O)=O)cc1S(C)(=O)=O)C1CCNC1', 'COc1ccc(Cl)cc1NC(=O)c1cccc(C(=O)NCC(C)C)c1', 'CCOC(=O)C(C(=O)OCC)[C@H](CC(=O)c1ccccc1)C(F)(F)F', 'FC(F)(F)c1ccc(/C=N\\\\NC(=S)NCCN2CCOCC2)cc1', 'CCOc1cc(/C=N\\\\NC(=O)c2ccc(C)c(Cl)c2)c(C)cc1OC', 'Cc1ccc(-n2nnc(C(=O)NCc3ccc(F)cc3F)c2C)cc1F', 'Cc1cc(C)c(C(=O)COC(=O)/C=C/c2c(C)nn(C)c2Cl)cc1C', 'O=C(C=Cc1ccccc1)Nc1nonc1NC(=O)C=Cc1ccccc1', 'COC(CNC(=O)C(=O)NC(C)c1ccccc1)c1ccccc1Cl', 'CC1(C(=O)O)CCN(Cc2cc(Cl)ccc2OCc2cccnc2)C1', 'CNC(=O)C(C#N)=Cc1c(Oc2ccc(C)cc2)nc2ccccn2c1=O', 'C[C@]12C(=O)O[C@@H]3C[C@@]4(O)c5occc5C(=O)C[C@H]4[C@@]4(CC[C@@]1(O)OC4)[C@@H]32', 'COc1cc(C)cc(C(=O)SCC2c3ccccc3-c3ccccc32)c1', 'N#Cc1ccc(OCOC(=O)c2ccc(-c3ccc(CN)cn3)cc2)nc1', 'CC[C@H](N)C(=O)N1CCOc2c(O)cc(-c3cccc(Cl)c3)cc2C1', 'CCCS(=O)(=O)N1CCCN(S(=O)(=O)c2ccc(C)cc2)CC1', '[H]/N=C1\\\\Oc2cc(C)n(Cc3cccnc3)c(=O)c2C(c2ccco2)C1C#N', 'Cc1cccc(C)c1Oc1cc(Nc2ccc(C#N)cc2)ncc1[N+](=O)[O-]', 'CCOC(=O)c1ccccc1NC(=O)CCNCc1ccccc1Cl', 'O=C(NCCCc1ccccc1)c1cnc(OC2CCOC2)c(Cl)c1', 'CCC(C)NC(=O)c1ccccc1NC(=O)COc1ccccc1Cl', 'CC(C)Cc1ccc(C(C)C(=O)Nc2ccc(Cl)c([N+](=O)[O-])c2)cc1', 'CN(CCCC(=O)NCCC1CCCO1)S(=O)(=O)c1cccs1', 'COC(=O)c1c(COc2ccc(C3CC3)cc2Cl)nn2c1CCCC2', 'CCOC(=O)c1ccccc1NCCC(=O)NCc1ccccc1Cl', 'O=C(O)/C=C/c1c[nH]c2nc(NC(=O)Cc3c[nH]c4ccccc34)ccc12', 'COc1ccc(NC(=O)CCN(C(C)=O)c2ccc(C)c(Cl)c2)cc1', 'COc1ccc([C@@]2(OC)Oc3ccccc3C(=O)[C@]2(O)OC)cc1OC', 'CC(C)CC(S)C(=O)N[C@H]1CCS[C@H]2CC[C@@H](C(=O)O)N2C1=O', 'COc1ccc(Nc2cc(C(F)(F)F)nc(N[C@H](C)CO)n2)cc1F', 'Cc1cccc(O[C@@H](C)C(=O)N(C)CC(=O)Nc2ccccc2Cl)c1', 'Cc1nccn1-c1cccc(NC(=O)Nc2ccc(C(F)(F)F)cc2)c1', 'O=C(CCCN1CCN2CCCC2C1)c1ccc(F)cc1.[Cl-].[Cl-]', 'Cc1ccc2cc(CN[C@@H](C)c3ccc(F)cc3F)c(Cl)nc2c1C', 'COc1ccc(C(=O)Oc2c(C(C)=O)ccc(OC)c2OC)c(OC)c1', 'O=C(O)c1ccc(-c2cc(NCc3ccncc3)nc3[nH]ccc23)c(O)c1', 'COc1cc(C2Oc3c(OC)cc(C=O)cc3C2CO)cc(OC)c1O', 'Cc1cc(Cl)ccc1OCC(=O)Nc1ccc(N2CCOCC2)cc1', 'C[C@H](Oc1ccccc1Cl)C(=O)Nc1ccc(N2CCOCC2)cc1', 'O=C(Cn1cc(-c2ccccc2C(F)(F)F)nn1)NCc1ccccc1', 'COC1=CC=C2C(=C3CCC[NH+]3c3c2ccc2cc4c(cc32)OCO4)C1=O', 'CC(C(N)=O)C1OC(=O)N(F)C1c1ccc(-n2ccc(/C=N/O)c2)cc1', 'CCS(=O)(=O)N1CCN(S(=O)(=O)c2ccc(C(C)C)cc2)CC1', 'C1=CC(=CC(=C1)O)C=O', 'CC(C)(N)[P+](=O)O', 'O=C1C=CC(=O)C12CC2', 'C#CC1=CC(=O)OCC1', 'O=C1C=CC2(C=C1)CO2', 'O=C1C(=O)[C@H]2CC23C[C@H]13', 'Cc1occ2ccoc12', 'O[C@@H]1COC[C@@]1(O)F', 'C=C1C=CC(C(=O)O)=C1', 'O=C1C(=O)C2CC=CC12', 'O=C/C=C1\\\\C=CC=CO1', 'O[C@@H]1COC[C@]1(O)F', 'O=C1C=CC(=C2CC2)O1', 'C1=CC2=CCOOC2=C1', 'O=C=C1CC2C=CC1O2', 'COC(=O)C1=[C-]C=C[CH]1', 'O=C/C=C1\\\\C=CC(=O)C1', '[O-]/[O+]=C/c1ccccc1', 'O=CC1=CC(=O)C=CC1', 'O=C1CC2=C(CC=C2)O1', 'O=C=CCc1ccco1', 'COC(C)(F)C(=O)O', 'CC1=CC(=O)C=CC1=O', 'C[C@H](O)[C@@H](F)C(=O)O', 'O=CC1=CCC(=O)C=C1', 'COCOC(=O)CF', '[CH]c1ccc(O)c(O)c1', 'C1=Cc2ccoc2CO1', 'C#CC1C=C(C)C(=O)O1', 'O=C(O)C(F)CCO', 'C1=COC2OC=CC2=C1', 'O=C(O)C(O)CCF', 'O[C@@H]1COC(F)[C@@H]1O', 'C/C=C/F.O=C(O)O', 'C#CC1=CCOC(=O)C1', 'O[C@@H]1CCNC1.[Cl-]', 'COP([O-])N(C)C', 'O=C1CC23OC=CC2C13', 'C#CCCC#CC(=O)O', 'O=C1C=CC2C=C[C@]12O', 'C1=COC2=CCOC2=C1', 'COC1=CC(=C=O)C=C1', 'C=C1CC(=O)C(=C)C1=O', 'O=C(O)CCCOF', '[CH]C(=O)c1occc1C', 'CC#CC=C[CH+]C(=O)[O-]', 'CC(=O)N(C)C.[Cl-]', '[Cl-].[H]/N=C(\\\\C)OCC', 'NNC1NN[C@H]1Cl', '[CH]CC(=O)c1ccco1', 'CC(=O)OCC(O)F', 'O=CC1=CCC(C=O)=C1', 'CC(F)(CO)C(=O)O', 'Cl.NC1=CNNN1', 'C[C@H](O)[C@H](F)C(=O)O', 'Oc1ccc(O)c2c1C2', '[2H]C([2H])(C[N+](=O)[O-])[13C](=O)O', 'CC(N)C[P+](=O)O', 'CC=Cc1coc2c1O2', 'FC1CC1.O=C(O)O', 'COc1c#cccc1O', 'O=C1CCc2cocc21', 'O=C1C(=O)C2CC23CC13', 'Cc1cc2cocc2o1', 'C#CC1C=CCC(=O)O1', 'CCCOP(N)[O-]', 'OC1=C2C=CC=C2OC1', 'c1cc2ccc1OCO2', 'CCP(=O)([O-])NC', 'O=C1CC(=O)C2C=CC12', 'C[Si]CCC(F)F', 'C#CC(O)c1ccoc1', 'C=CCF.O=C(O)O', 'O=C[C@@]12C=CC(=CC1)O2', 'Cl.[H]/N=C(\\\\[O-])C(C)C', 'O=C([O-])C1=C[CH+]C=CC1', 'O=CC1=CC=COC=C1', 'Cc1c2cccc1OO2', 'O=C(O)CCC(O)F', 'O=C(O)C[C@@H](O)CF', 'C[C@](F)(CO)C(=O)O', 'C#CCC(=O)C(=O)C=C', 'c1cnc2nn[15n]n2c1', 'CC=C[Si](C)(F)F', 'OC1=C2C=CC2OC=C1', 'O=CC1(C=O)C=CC=C1', 'COc1cccc2c1O2', '[NH3+]CC=C(Cl)CO', 'C#CC1=C(C)CC(=O)O1', 'C#CC#CCC(=O)OC', 'NOCC1CC1.[Cl-]', 'C=CCc1occ2c1O2', 'CC(=O)OC(C)=O.F', '[B]c1ccc(CC)s1', 'O=C/C=C\\\\c1ccco1', 'O=C1OC12C1C=CC2C1', 'Cc1cc(N=C=[N-])on1', 'O=C1C=CC(=O)[C@@H]2C[C@H]12', 'C[N+](C)(C)C(=O)Cl', 'O=CC=C=CC=CC=O', 'CCOC(=O)C(O)F', 'O=CC1=C([O-])C=C[CH+]C1', 'C#CC1=CC(=O)OC1C', 'BSc1ccccc1', '[B]c1ccsc1CC', 'O=C1C(=O)[C@@H]2CC23C[C@@H]13', 'O=[12C](O)[12c]1[12cH][12cH][12cH][12cH][12cH]1', '[CH]C(=O)c1ccc(C)o1', 'C=NN=C(N)N.Cl', 'CC(C)([NH3+])C(=O)Cl', '[O+]=C(O)c1ccccc1', 'COC(=O)[C@@H](O)CF', 'CC=CF.O=C(O)O', 'C=C1OC(=O)C(=C)C1=C', 'O=C(O)[C@@H](O)CCF', 'C=c1ccc(=O)oc1=C', 'CCCOC(=O)OF', 'N#C[B-](C#N)(C#N)C#N.[Li+]', 'C1=Cc2cocc2OC1', 'Cc1cccc2ooc12', 'FC(F)CC=C[SiH3]', 'F[Si]1(F)CCCC1', 'CC1(O)OCC(F)O1', 'C#CC#C[C@@H]1OC1CO', 'O=CC1C=CC=CC1=O', 'O=C=C1C=CC(=O)CC1', 'OC(O)c1ccc2cc1-2', '[B]c1sccc1CC', 'C=C1C=C(O)C=CC1=O', 'C=Cc1ccoc1C=O', 'C=C1C=CC=C1C(=O)O', 'NCCC[P+](=O)O', 'Cc1cccc([O-])c1[O-]', 'C[C@H](O)C(F)C(=O)O', 'O=CC1=C[CH+]C([O-])=CC1', 'c1ccc2c(c1)COO2', 'N/N=C\\\\C(Cl)NN', 'Cc1cc2cc(O)c1o2', 'O=C1C=CC=C[C@]12CO2', 'C[NH+](C)CC(=O)Cl', 'Cc1ccc([O-])c([O-])c1', '[N-]=C=O.c1cncnc1', 'CN(C)P(C)(=O)[O-]', 'O=c1ccccc(O)c1', 'O=C1CC(=O)C2C=C1C2', 'COC(=O)OCCF', 'C=C.[B]c1ccsc1', 'C#CC(=O)OCC#CC', 'CC(C)(N)P([O-])O', 'C#CCOC(=O)C#CC', 'O=C1C(=O)[C@H]2C=CC1C2', 'C=Cc1occc1C=O', 'C#CCOC(=O)CC#C', 'CC(=O)OC(C)OF', 'C#CC#C[C@@H]1O[C@H]1CO', 'O=C1C=C2COCC2=C1', 'C#CC(C#C)C(=O)OC', 'Cc1cc([O-])ccc1[O-]', 'C=Bc1ccc(C)s1', 'C=CC[P+](=O)O.N', 'O=C1C2OC3C4CC12C43', 'O=CC=C1C=COC=C1', 'O=CC=Cc1ccco1', 'Cc1coc2cocc12', 'COCC(F)C(=O)O', 'O=CO.c1cc2cc-2c1', 'CC(C)(O)C(=O)OF', 'C=C1C(=O)C=CCC1=O', 'O=C/C=C/c1ccoc1', 'O=CC1=CC=CCC1=O', 'O=CC=Cc1ccoc1', 'C#CC1=COC(=O)C1C', 'O=C(O)CC(O)CF', 'Oc1ccc2c(c1O)C2', 'O=CC=C=C=CCC=O', 'O=C1C=CCC=CC1=O', 'CC1(C#CC(=O)O)C=C1', 'CCOC(=O)COF', 'c1ccc(C2OO2)cc1', 'O=C1C=CC=CC2OC12', '[CH]C(=O)c1ccoc1C', 'O=C1OC2=CCCC=C12', 'CC(=O)OCCOF', 'C#CC1C=CC(=O)OC1', 'C=[P+](O)OCCN', 'C=Cc1cccoc1=O', 'O=c1cccc(O)cc1', 'CC1=C(C)C(=C=O)C1=O', 'O=C=C1CCCC1=C=O', 'N#[13C]c1ccc(F)cc1', 'O=C([O-])c1ccccc1.[H+]', '[B]c1cc(C)c(C)s1', 'Oc1c2cccc1OC2', 'COC(=O)OC(C)F', 'O=C1C=CC2C=CC1O2', 'C=CC[Si](C)(F)F', 'ClCC1NNNN1', 'Cc1ccc2cc1OO2', 'CCN(C)C=O.[Cl-]', '[NH-]CCC(O)CCl', 'CC(C)(F)OC(=O)O', 'COc1ccc2c(c1)O2', 'C1=COc2cocc2C1', 'C=C.O=C(O)OCF', 'Cl.[N-]=[N+]=NCCN', 'C=C(C)C(=O)O.OF', 'CC(F)C(O)C(=O)O', 'CNCO[P+](C)=O', 'OOc1cccc2c1C2', 'c1ccc2c(c1)OCO2', 'C=C1OC=CC1C=C=O', 'C#C[C@@H](O)c1ccco1', 'O=C1CC2=C(C=CC2)O1', 'CCCN[P+](=O)O', 'O=CC=C1C=CC=CO1', 'O=CC(O)=C1C=CC=C1', 'C1=CC2=CCOC2=CO1', 'C1=CC2OC=COC2=C1', 'O=C=CC1=CCCC1=O', 'O=C1C=CC2C=C[C@@]12O', 'OCC#Cc1ccco1', 'C=C1C=CCC(=O)C1=O', 'CC/N=C(\\\\C)[O-].Cl', 'O=[C-][OH+]c1ccccc1', 'COC(=O)C(C)(O)F', 'O=CC1=CC=C/C1=C/O', 'Oc1ccccc1.[C-]#[O+]', 'CC(O)COC(=O)F', 'C1=Cc2ooc2C=CC1', 'CCOC(=O)OCF', 'CC1=CC(=O)C(=O)C=C1', 'FOCC1OCCO1', 'C=CC[P+](=O)[O-].[NH4+]', 'COC(=O)C(F)OC', 'O=CC1=CC=CC(=O)C1', '[2H]c1c[c-]c(F)nc1F.[Li+]', 'O=C1CC2C=CC=C2O1', 'CC#CC#COC(C)=O', '[O-]/N=N/c1ccccn1', 'C1=Cc2occc2CO1', 'C1=CC2=C(C=1)OCCO2', 'O=C=C1C[C@H]2C=C[C@@H]1O2', 'C#CC#CCCC(=O)O', 'CCC(N)[P+](=O)O', 'OCc1ccc2c(c1)O2', 'ON1CCCC1.[Cl-]', 'O=C(O)COCCF', 'CC#CC#CCOC=O', 'O=C1C=CCC(=O)C=C1', 'O=C1C=C[C@@H]2C=C[C@]12O', 'CCPON(C)[O-]', 'O=C=C1C=CCCC1=O', 'CC(=O)OCOCF', 'C=C1C=CC(=O)C(O)=C1', 'C=C=CC(=O)C(=O)C=C', 'COC(=O)C(F)CO', 'CC(=O)NC1=CC=C(C=C1)O', 'O=C(c1ccco1)N1CCC1', 'Cc1ccc(C)c([N+](=O)[O-])c1', 'CC(=O)NC(=O)C1C=CC=C1', 'CC(=O)N1C=CC(C=O)=CC1', 'COc1cc(C)ccc1N=O', 'C[C@@H]1Oc2cccnc2[C@H]1O', 'Cc1cccc2oc(=O)[nH]c12.[H][H]', 'C=CC(=O)N1CCC=CC1=O', 'COc1c(C)cncc1C=O', 'CN1CCc2ccoc2C1=O', 'OCC1OC1c1ccccn1', 'COC1CC(=O)n2cccc21', 'CCC/N=C(\\\\[O-])CN.Cl', 'NC1C(CO)OC(O)C1F', '[C-]#[N+]C(CC=C)C(=C)C(=O)O', 'O=C1NC(=O)C2C3CCC3C12', 'O=Nc1cccc(CCO)c1', 'O/C=C(\\\\O)Cc1ccccn1', 'C=CCC(=O)c1coc(C)n1', 'Cc1oc(N=C=O)c(C)c1C', 'Nc1ccccc1CC(=O)O', '[H]/N=C(\\\\C)c1cc(O)ccc1O', 'Nc1cc(C=O)ccc1CO', 'C#CCC1C(=C)OC(=O)N1C', 'Cc1ccc2c(c1N)OCO2', 'CC(=O)c1cc(C)[nH]c(=O)c1', 'CC1(N2C(=O)C=CC2=O)CC1', 'CNC1Oc2ccccc2O1', 'CC(=O)C1(C#N)CCCC1=O', 'C=CC1CC1(C#N)C(=O)OC', '[H]/N=C1\\\\C(C)=CC(=O)C=C1OC', 'CC1=NC(=O)C(C)=C(C)C1=O', 'O=C(O)C1CNC2=C1CC=C2', 'CC(=O)N1C=CC=CCC1=O', 'Cc1cc(O)ccc1/C=N\\\\O', 'O=C1N[C@@H]2C3C=CC(C3)[C@@H]2O1', 'O=Cc1ccn2c1C(O)CC2', 'O=C1N[C@@H]2[C@H](O1)[C@@H]1C=C[C@H]2C1', 'Cc1onc2c1C(=O)CCC2', 'COc1nccc2c1OCC2', 'C[C@@](O)(CF)[C@H](N)C(=O)O', 'NCC#CC#CCCC(=O)O', 'Oc1ccc(OC2CC2)nc1', 'COc1cccc([C@@H]2CO2)n1', 'O=c1[nH]cccc1C=CCO', 'Cc1[nH]c(C=O)c(C=O)c1C', 'NC1OCOc2ccccc21', 'COc1cc(N)ccc1C=O', 'C/N=C/c1ccc(O)cc1O', 'CC1=CC(=O)C(N)=C(C)C1=O', 'OC1COc2ccccc2N1', 'C=C(O)C1=CCC=NC(O)=C1', 'CC=CC=CC1C=NC(=O)O1', 'CC(=O)c1ccc2n1CCO2', '[H]/N=C1\\\\C=CC(=O)C(COC)=C1', 'C#CCOC(=O)C1C=NCC1', 'Nc1ccc([C@@]2(O)CO2)cc1', 'C=CC1=C(C=C)NC(=O)OC1', 'CN(O)/C=C1\\\\C=CC=CC1=O', 'COC(=O)c1ccncc1C', 'NC1COc2ccc(O)cc21', 'c1cc([C@H]2COCO2)ccn1', 'C#C[C@@](C)(O)c1cc(C)no1', 'CN1CC(/C=C/C=O)=CC1=O', 'C/C(C=O)=C\\\\c1coc(C)n1', 'OC1Cc2ccccc2ON1', 'c1nc(C2CO2)oc1C1CC1', 'O=NC(=O)C1CC2C=CC1C2', 'C[C@@H](O)c1ccccc1N=O', 'O=Cc1ccn2c1COCC2', '[H]/N=C(\\\\N)N([O-])c1ccncc1', 'CC1(C)CC(=O)C(C#N)=CO1', 'C=C(C#N)C(C(C)=O)C(C)=O', 'Cc1cc(C2CC(=O)C2)on1', 'O=C(O)NCc1ccccc1', 'CC1=CC2NC(=O)OC2C=C1', 'Cc1ccc2c(n1)OCOC2', 'C=C/C=C/C=C(\\\\C=C)[N+](=O)[O-]', 'CC1Cn2c(cccc2=O)O1', 'Cc1ccc2c(n1)OCC2O', 'Cc1nc(C2CC2)c(C=O)o1', 'CCOc1cc(C=O)ccn1', 'OCc1ccccc1/C=N\\\\O', 'O=c1ccc2c([nH]1)CCOC2', 'N#CC=C1CCCC1C(=O)O', 'Cc1cc(C2(C=O)CC2)no1', 'O=C1COC2C=CC=CC2N1', '[NH3+][C@@H](C(=O)[O-])c1ccccc1', 'CN(C=O)c1ccccc1O', 'Cc1ccc(OC(N)=O)cc1', 'O=C1C=CN2C(=O)CC[C@H]2C1', 'C=C(O)c1cc(N)ccc1O', '[C-]#[N+]Cc1occc1COC', 'O=CC(O)Cc1cccnc1', 'C=C(C#N)C(=C)C(=O)OCC', 'CC[C@H]1[C@@H]2COC(=O)[C@]12C#N', 'C/C(=C\\\\C(=O)O)c1ccc[nH]1', 'CNc1ccccc(=O)c1O', 'CN1Cc2cccc(O)c2O1', 'COc1c(N)ccccc1=O', 'C=Cc1[nH]c(=O)oc1C(=C)C', 'Cc1cccc(C(=O)ON)c1', 'NC(=O)C1=CC(O)=CCC=C1', 'CC(=O)C1=C(C)OC(C#N)C1', 'COc1cccc(C=O)c1N', 'O=Cc1cc2c([nH]1)CCOC2', 'N#CC[C@@H]1C=CC[C@@H]1C(=O)O', 'COC(=O)C1CC(=CC#N)C1', 'C=C(O)Cc1ccc[nH]c1=O', 'C#CCCCn1occc1=O', 'C=CCNC(=O)c1ccco1', 'COc1ccc(N=O)cc1C', 'O=C(O)C1CNC2=CC=CC21', 'ON1CCOc2ccccc21', 'c1ccc(C2NOCO2)cc1', 'CC#C[C@H](O)c1ncc(C)o1', '[H]/N=C(\\\\OC)c1ccccc1O', 'CC1(C(=O)O)C=CC=CN=C1', 'CCc1nc(C=O)ccc1O', 'O=C1NC(=O)C2C=C1CCC2', 'CC(=O)OC1=CCC=CN=C1', 'O=Cc1conc1C1CCC1', 'C#C[C@@](C)(O)c1cc(C)on1', 'COc1cccnc1C(C)=O', 'CC(=O)C1=CC=CC/C1=N\\\\O', 'CN(C)P(=O)([O-])N(C)C', 'O=c1cc(O)ccn1C1CC1', 'O=c1ocnc2c1CCCC2', 'COc1ccc(N)cc1C=O', 'O=C1C=CNC2C=COCC12', 'NCCC1=CC(=O)C(=O)C=C1', 'C=C/C(OC)=c1/cnoc1=C', 'COc1ccnc(C=O)c1C', 'O=CCCC(=O)c1ccc[nH]1', 'OC1(O)Cc2ccccc2N1', 'CC(/C=C/c1ccco1)=NO', '[H]/N=C(\\\\C)c1c(O)cccc1O', 'Nc1ccc2c(c1)CC(O)O2', 'O=CC(=O)NC1=CC=CCC1', 'O=Cc1ccn2c1[C@H](O)CC2', 'CN(F)CCC(O)C(=O)O', 'O=CC1=NO[C@H]2C=CC[C@H]2C1', 'CC(=O)NC1=CCC=CC1=O', 'COc1ncccc1[C@@H]1CO1', 'O=CC(O)Cc1ccccn1', 'CCC(=O)c1ccc(O)cn1', 'Oc1ccc(O)c(N2CC2)c1', 'OCCc1cc2occc2[nH]1', 'COC1Cc2c1cc[nH]c2=O', 'CNCc1ccc2ooc2c1', 'N[C@H]1CO[C@@H](O)[C@@H](F)[C@@H]1O', 'Cc1oc(C=O)nc1C1CC1', 'C=C(C)c1cc(C(C)=O)on1', 'C=CC1(C(=O)OC)CC1C#N', 'O=C(O)C1CCc2cccn21', 'Cc1nc2c(o1)C=C(O)CC2', 'CC(=O)C1C=CC=CNC1=O', 'CC1=NC2C=CC(O)=CC2O1', 'O=C(O)C1=CCC2(C=C1)CN2', 'CC(C#N)C(O)c1ccco1', 'CCOc1ncccc1C=O', 'C=C=CCN1C(=O)CCC1=O', 'Cc1nc2c(o1)CCC(=O)C2', 'C=C/C=C\\\\c1[nH]c(=O)oc1C', 'NC[C@@H](F)C[C@H](O)C(=O)O', '[O-][n+]1cccc2c1C(O)CC2', 'O=C1CCOC2=CC=CNC12', 'c1ccc(OCC2CO2)nc1', 'COC=Cc1ccc(=O)[nH]c1', 'Cc1nc2c(C)c(c1C)OO2', 'O=S([O-])[O-].[NH4+].[NH4+].[NH4+].[OH-]', 'CC#CC(C)(O)c1ccon1', 'C=C1OC(=O)N(C)C(=C)C1=C', 'Cc1cc(N)c(O)c(C=O)c1', 'O=C(O)C1=CC(C2CC2)=NC1', 'O=C1C/C=C\\\\C=C/CC(=O)N1', 'Cc1ccccc1NC(=O)O', 'O=C1CCCN1c1ccco1', 'N#Cc1ccc(CCCO)o1', 'Cc1cnc(C(=O)O)cc1C', 'C=C(C)C(=O)Nc1ccoc1', 'O=c1[nH]cccc1OC1CC1', 'CCC(=O)n1ccc(=O)cc1', 'O=CNCOc1ccccc1', 'C1=CC2=NOC3(CC3)C2CO1', 'COCC(=O)c1ccncc1', 'Cn1cccc1/C=C\\\\C(=O)O', 'CC(=O)Cc1ccncc1O', 'C=NOCc1ccccc1O', 'CCC(C(O)CF)[N+](=O)[O-]', 'O=C(O)C1CC12C=NC=CC2', 'C=C(O)C#CC(=O)NC1CC1', 'OC1(c2ccncc2)COC1', 'CCc1ccc(C=O)[nH]c1=O', 'O=c1cc2c(c(O)[nH]1)CCC2', 'CN1COc2ccc(O)cc21', 'CC1(C)C=C(C#N)C(=O)OC1', 'CC1=NC(C)=C(C)C(=O)C1=O', 'Cc1cncc(C2OC2O)c1', 'O=c1ccn(C2CC2)cc1O', 'CNc1cccc2c1OCO2', 'O[C@H]1Nc2ccccc2[C@@H]1O', 'CN1CCc2cocc2C1=O', 'N#C/C=C1/C=C[C@H](O)C[C@@H]1O', 'N#CC=C1C=C[C@H](O)C[C@@H]1O', 'CCn1ccc(C=O)cc1=O', 'CNC(=O)c1ccccc1O', 'CO/N=C\\\\c1ccccc1O', 'C#CN[C@H]1C=C[C@@H](C(=O)O)C1', 'C#CC(C=C)OC1CC(=O)N1', '[H]/N=C/c1ccc(OC)cc1O', 'O=CCc1cc(C2CC2)on1', 'C/C=N/c1cc(O)ccc1O', '[H]/N=C(\\\\C)CC(=O)c1ccco1', 'C=C1C(C(=O)O)=CC=CN1C', 'CC(=O)c1ncccc1CO', 'C/C(=C/c1ccco1)C(N)=O', 'CC/C=C/C1=CN=C1C(=O)O', 'CCC(=O)c1ccc(C=O)[nH]1', 'C#CC(C)(O)c1cc(C)no1', 'COc1ccnc([C@@H]2CO2)c1', 'N[C@@H](COO)C1=C=C=CC=C1', 'O=C/C=C/C=C/C1=NCCO1', 'O=NC1CCCc2occc21', 'CC1C=CC(C(=O)O)=CN=C1', 'CC1=CC(C)=NC(=O)C1C=O', 'CCC=C(C=O)c1ncco1', 'COc1cc([C@H]2CO2)ccn1', 'CCc1cccc(ON=O)c1', 'COc1ccc(C2CO2)cn1', 'NC1COc2c(O)cccc21', 'COc1ncccc1CC=O', 'CN[C@H](C(=O)O)[C@H](O)CF', 'Cl.[2H]N[C@H]1CCC(=O)NC1', 'ON=C1CCCc2occc21', 'C[C@@H](O)C(=O)c1cccnc1', 'CCOc1ccc(N=O)cc1', 'C#CC1=CCN(C(=O)OC)C1', 'C=C/C=C/C=C/C=C/[N+](=O)[O-]', 'O=C1NC(=O)[C@@H]2C=CCC[C@H]12', 'CNC(=O)Oc1ccccc1', 'Cc1ccc(C)nc1.O=C=O', 'C/C(C=O)=C/c1cc(C)no1', 'CC(F)(CO)CNC(=O)O', 'CC(=O)c1cncc(CO)c1', 'Cc1cc(NC=O)ccc1O', 'O/N=C1/CCCc2ccoc21', 'NC1=C2OCOC2=CC=CC1', 'C/C=C\\\\C1=C(N)C(=O)CC1=O', 'O[C@@H]1N[C@H](O)c2ccccc21', 'O=C1c2cc[nH]c2CC[C@H]1O', 'NC(=O)OCCOCCF', 'C[C@H]1O[C@H]1c1cccc[n+]1[O-]', 'COC(=O)N1C2C=CC1C=C2', 'Cn1c(O)c2c(c1O)CC=C2', 'CC(C)OC1=CC=CC=C1NC(=O)C2=CC(=C(C(=C2)OC)OC)OC', 'COCCOC(=O)C1=C(C)NC(C)=C(C(=O)OC)C1c1ccccc1', 'C=C=CCO[C@H]1C(=O)N(c2ccc(OC)cc2)[C@H]1[C@H]1COC(C)(C)O1', 'CNC(=O)C[C@H]1C(=O)NCCN1Cc1cn[nH]c1-c1ccc(F)cc1', 'Cc1ccc[n+](CC(=O)c2ccc(NC(=O)c3ccccc3)cc2)c1C', 'CC(C)n1cc(-c2ccnc(Nc3ccc(O)cc3)n2)c2ccncc21', 'CC(C)c1cc(NC2CCC(O)CC2)nc(-c2ccc(Cl)cc2)n1', 'CC(C)c1ccc(C(C)c2ccc3c(c2)Nc2ccccc2S3)cc1', 'CC1CCN(C(N)=N/C(N)=N/c2ccc(C(F)(F)F)c(F)c2)CC1', 'CCOC(=O)C(Cc1c(C)[nH]c2c(C)cccc2c1=O)C(=O)OCC', 'Cn1c([C@H]2CCCN2C(=O)c2n[nH]c3ccccc23)nc2ccccc21', 'COC(=O)C1=C(c2ccc(O)cc2)C2CCC1N2C(=O)OC(C)(C)C', 'COC(=O)C1CCC2(CCN(C(=O)OCc3ccccc3)CC2)C1=O', 'Cc1cc(NC(=O)Cn2cc(-c3cccc4ccccc34)cn2)nn1C', 'Cc1cc(C)n2ncc(-c3nccn3Cc3ccc4c(c3)CCO4)c2n1', 'O=C(c1cncnc1-c1ccccc1)N1CCN(c2ccccn2)CC1', 'COc1ccccc1[C@H]1CC(=O)NC(C)=C1C(=O)OC[C@@H]1CCCO1', '[C-]#[N+]C1=C(C)N=C(C)C(C#N)C1c1ccc2[nH]nc(OCC3CC3)c2c1', 'COc1ccc(C(CC(N)=O)c2ccc(OC)c(OC)c2)cc1OC', 'c1ccc2ncc(CNC[C@H]3COCc4nc5cccnc5n43)cc2c1', 'CCCCCCCCCCCC(=O)NC(C)(O)S(=O)(=O)[O-].[Na+]', 'CCN(CC)c1cc(C(=O)NC(C)Cc2ccccc2)cc(Cl)n1', 'O=C(NNc1ncccn1)c1ccc(N2CCc3ccccc3C2)cc1', 'O=C(NC(C(=O)O)C12CC3CC(CC(O)(C3)C1)C2)Oc1ccccc1', 'CN1Cc2ccc(NC(=O)c3cccc(Nc4cnccn4)c3)cc2C1', 'NC(=O)CN1CCCN(C(=O)c2ccn(-c3cccc(F)c3)n2)CC1', 'Cc1cc(-c2ccnc3ccccc23)nc2cnn(CCCC(N)=O)c12', 'CCOCCCN/C(N)=N/Cc1ccccc1-c1ccc(Cl)cc1', 'CCOc1cc2c(cc1C=CC(=O)N1CCC(C(=O)O)C1)OC(C)C2', 'Cc1nn(-c2ccccc2)c(Cl)c1C(=O)N(C)CC1CCCCC1', 'CCC(CC)(CNC(=O)CC(c1ccccc1)C(F)(F)F)C(=O)O', 'CCCOc1cccc(C(=O)N2CCC(C(O)C(F)(F)F)CC2)c1', 'C[C@@H]1CN(CCCCOc2ccccc2C(F)(F)F)C[C@H]1C(=O)O', 'N#Cc1ccccc1Cn1cc(C2OCCN2Cc2ccccc2)nn1', 'CCOC(=O)CCCOc1cc(C(F)(F)F)ccc1C1CCNC1', 'Cc1ccc(-c2c(-c3ccc4c(=O)[nH]nc(CN)c4c3)cnn2C)cc1', 'C[C@@H](C(=O)Nc1ccc(F)cc1)[NH+](C)Cc1ccc2c(c1)OCCO2', 'Cc1nn(-c2ccccc2)c(Cl)c1C(=O)NC1CCCCCCC1', 'CCOc1ccccc1Nc1nc(C)cc(Nc2cccc(C#N)c2)n1', 'COC(=O)c1ccccc1-c1ccc(CN[C@@H](CC(C)C)C(=O)O)o1', 'CC(C)(C)c1ccc(CN(CCCC(=O)O)C(=O)C(F)(F)F)cc1', 'O=C(Cc1c[nH]c2ccccc12)NCCn1ccnc1-c1ccccn1', 'C=C1C=C(C)C=C1c1cnc2c(Nc3cccc(N(C)O)c3)nccn12', 'CCc1cc(C)c2[nH]ccc2c1C(C)(O)c1nc2ncc(C#N)cc2[nH]1', 'O=C(O)C1CC2CCCCC2N1S(=O)(=O)CCC1CCOCC1', 'O=C(Cn1cnc2ccccc21)N(Cc1cnc2ccccn12)C1CC1', 'CC(C)(C)OC(=O)CCc1cccc(NC(=O)CCC(F)(F)F)c1', 'c1ccc2c(c1)ncn2Cc1ccc(-c2noc([C@H]3CCNC3)n2)cc1', 'O=C(NCc1ccccc1)c1cccc(NC2=NC=NC3C=CNC23)c1', 'c1ccc(C[C@H]2c3nc[nH]c3CCN2Cc2cccc3nonc23)cc1', 'CCCCc1[nH]nc2c1C(c1ccnc3ccccc13)C(C#N)=C(N)O2', 'CC(C)(C)OC(=O)NC12CC3CC1CC(COS(C)(=O)=O)(C3)C2', 'C=CCc1cc(C(=O)N2C[C@@H]3CCOC[C@]3(C(=O)O)C2)ccc1OC', 'Clc1ccccc1-c1cc(C2CCN(C[C@@H]3CCOC3)CC2)[nH]n1', 'C[C@H](OC[C@@H]1CCCO1)C(=O)N[C@H](C)c1cccc(C(F)(F)F)c1', 'Cc1cc(C)c(OCC(=O)N(C)Cc2cc(C(=O)O)c(C)o2)c(C)c1', 'C[C@H]1C[C@@H](C(=O)/N=c2\\\\ccccn2Cc2ccccc2)CCN1.Cl', 'CC1(C)OB(C(=Cc2ccc3c(c2)CCC(=O)N3)CS)OC1(C)C', 'CN1CCOC(C(NCCc2cccnc2)c2ccc(Cl)cc2)C1', 'Cc1nn(CCC(=O)NC2CCNCC2C)c(C)c1[N+](=O)[O-].Cl', 'O=C(COC(=O)C[C@H]1C[C@H]2CC[C@@H]1C2)NCc1ccc2c(c1)OCO2', 'CC(C)C[C@H]([NH2+]Cc1c(O)ccc2c3c(c(=O)oc12)CCC3)C(=O)[O-]', 'COc1ccc2c3c1O[C@H]1C(=O)CC[C@H]4[C@@H](C2)N(C)CC[C@]314.O=CO', 'Nc1ncc2c(n1)CCN(c1ccnc(C(=O)Cc3ccccc3)c1)C2', 'CCOC(=O)C1CCN(C(=O)c2cc(OCC)c3ccoc3c2)CC1', 'Cc1nn(-c2ccc(F)cc2)c2n[nH]c(NC(=O)COC(C)(C)C)c12', 'CCCN(CCC)C(=O)c1ccc(NCc2ccc(Cl)cc2)cn1', 'CCN/C(=N\\\\Cc1cccs1)NCC(C)(C)CCS(C)(=O)=O', 'CC(C)Oc1ccc(Nc2nccc(Nc3ccccc3C#N)n2)cc1', 'O=C(C1CCn2nccc2C1)N1Cc2cnc(-c3ccccc3)nc2C1', 'Cc1ccc(-c2cc(C(=O)N(C)Cc3cn4ccccc4n3)[nH]n2)cc1', 'COC(=O)c1cn(CC2CCCN2c2nc(N)c3c(n2)COC3)nn1', 'O=C(NCCc1c[nH]c2ccccc12)c1ccc(Cn2cncn2)cc1', 'Cc1ccc2nc(-c3ccc(NC(=O)c4c(C)n[nH]c4C)cc3)[nH]c2c1', 'CC(=O)c1cccc(F)c1.CCC/C(=N\\\\C)c1ccc(SC)cc1', 'CC(Nc1n[nH]c(=O)[nH]c1=O)C(=O)NN=Cc1ccc(N(C)C)cc1', 'CCOCCOc1ccc(NC(=O)COc2ccc(OC)cc2)cc1', 'CC(Cc1cccc(Oc2ccccc2)c1)[NH2+]C1=NCCCN1.[Cl-]', 'O=C(NCCN1CCNCC1)c1ccc(=O)n(-c2ccc(F)cc2)n1', 'NCCC(O)C1=CC=CC(S(=O)(=O)C(O)(O)C2CCCCC2)C1', 'CN1CCC(N(C)CC(C)(C)NS(=O)(=O)c2cccs2)CC1', 'O=C(c1ccccn1)N1CCC[C@@H]1c1ccc(Nc2ccccn2)cn1', 'CCNCC1CN(c2ccc(C3(C#N)CC3)c(F)c2)C(=O)O1.N#CN', 'CCN(CC)C(=O)N1CC/C(=C\\\\C#Cc2cc(Cl)ccn2)C1(C)C', 'COc1nccnc1N1CCC(NC(=O)NCc2cccc(F)c2)C1', 'CC(=O)OCC(=O)O[C@H]1NC(=O)[C@@H]1[C@@H](C)O[Si](C)(C)C(C)(C)C', 'O=C(C1CCCO1)N1CCC(n2nnc(-c3ccc(F)cc3)n2)CC1', 'O=C1CCCN1c1ccc(CNc2nccc(-c3ccncc3)n2)cc1', 'CCO[C@@H]1COCC[C@H]1NC(=O)c1ccc(-c2cccc(OC)c2)o1', 'CCc1ccc(O)c(C(=O)NCc2c(OC)cc(OC)cc2OC)c1', 'Cn1ncc2ccc(Cc3[nH]nc4ccc(C(=O)NC5CC5)cc34)cc21', 'COc1ccc(Cc2cnn3c(Nc4cccc(C)c4)ccnc23)cn1', 'C[C@@H]1COCCN1c1nc(-c2cccc3[nH]ccc23)nc2cnccc12', 'CC1CC(NC(=O)c2n[nH]c3c2COCC3)CN1C(=O)c1cn[nH]n1', 'CNC(=O)c1ccn(C2CCCN(C(=O)Cc3ccc(F)cn3)C2)n1', 'COC(=O)c1ccccc1-c1ccc(CNCCC(C)(C)C(=O)O)o1', 'CC(C)(C)c1nccc(N2CCC(Oc3ccccc3Cl)CC2)n1', 'COc1ccc(C(O)CNC(=O)COc2cccc(C)c2)cc1OC', 'CN(C(=O)CCn1cnc2c1c(=O)n(C)c(=O)n2C)c1nccn1C', 'CCOc1cc(-c2cncc(C3COB(O)C3)c2C)c(F)cc1OC', 'CCC1N(C)c2nccnc2N1c1c(C)ccc2c1oc1ncccc12', 'CCCOCCOC(=O)c1[nH]c2c(c1C)C(=O)C[C@@H](c1ccco1)C2', 'CCc1oc(C(=O)O)cc1CN1CCOC[C@H]1c1ccc(OC)cc1', 'COc1cccc([C@H](O)CNC(=O)[C@@H]2CCCC[C@H]2C(F)(F)F)c1', 'Cc1ccc(-c2ncco2)cc1NCc1nnc(-c2ccccc2)n1C', 'COC(=O)[C@H]1[C@H](/C=C/COC(=O)c2ccccc2)ON2CCCC[C@@H]12', 'Cc1nn(-c2ccccc2Cl)cc1CNCC(O)(C1CC1)C1CC1', 'CC.Cn1ccc(C2CCC(Oc3ccc(C#N)c(Cl)c3)CC2)n1', 'O=C(/C=C/c1cnc2ccccc2n1)N1CCN(c2ccncc2)CC1', 'CCCn1c(C)cc(C(=O)COC(=O)c2ccc(C)c(O)c2O)c1C', 'Cc1c(C(=O)N2C(C(=O)O)CC3CCCCC32)oc2c1C(=O)CCC2', 'CCOC(=O)C1(C(=O)OCC)C[C@@H]2CON=C2[C@H]1c1ccc(C)cc1', 'Cc1cc(C(=O)/C(C#N)=C\\\\c2cn[nH]n2)c(C)n1CCc1ccccc1', 'O=C1CC=CCOC(=O)c2c(O)cc(NCCO)cc2C=CCCC1', 'CCCCCN(CCC(=O)OCC)C(=O)c1ccc(F)c(F)c1F', 'COc1ccc(OCCNC(=O)CCOc2ccc(OC)cc2)cc1', 'Cc1nc(-c2cccc(C#N)c2)nc2c(C(=O)NC(C)C3CC3)ccn12', 'O=C(NCc1ccccn1)c1ccc(N2CCc3ccccc3C2)nn1', 'C=C(N)c1ccc(Oc2ccc(CNCCCCC)cc2Cl)cn1', 'Cc1nc(C)n(CCCNC(=O)C2CC(=O)Nc3ccc(F)cc32)n1', 'Cc1ccc2nc(CNC(=O)Cn3ccnc3-c3ccccc3)cn2c1', 'Cc1cccc(C)c1NC(=O)CCCSC(C)c1ccc(F)cc1', 'COc1ccc(C(O)CN(C)C(=O)COc2ccccc2)cc1OC', 'COc1ccc(C)cc1C(=O)NCc1cc(OC)c(OC)c(OC)c1', 'COc1cc(OC)c(C(=O)Nc2ccc(OC(C)C)cc2)c(OC)c1', 'COc1ccccc1C1(N)N=C(N)NC=C1c1ccc2ncccc2c1', 'COCc1ccc(C(=O)N2CCOC(Cc3cccc(OC)c3)C2)o1', 'COc1ccccc1-n1nc(C#N)c(N2CC[C@H](c3ccccc3)C2)n1', 'Cc1ccc(-c2nnc3c4ccccc4nc(N4CCOCC4)n23)cc1', 'Cc1cc(O)cc(-c2cn(C(C)C)c3ncnc(Cl)c23)c1.[2H]S([2H])([2H])([2H])([2H])[2H]', 'C/C=C/C=C/C(=O)OCC(=O)Nc1ccc(C(=O)OCCCC)cc1', 'CCOC(=O)C1=C(C(=O)OCC)N=C(OCC)C(c2ccccc2)C1', 'COc1ccc2[nH]cc(CCNc3ncncc3-c3cccnc3)c2c1', 'O=C(NC1(C(=O)O)C2CC3CC1CC(O)(C3)C2)OCc1ccccc1', 'Cc1ccc(-n2c(-c3ccccn3)nc3cc(OC(C)C)cnc32)cn1', 'CCn1c(=O)n([C@H](CCNC)c2ccccc2)c2ccccc21.Cl', 'COc1ccccc1CNC(=O)COc1c(OC)cc(C)cc1OC', 'COc1ccc(CCNCc2ccccc2C)cc1.O=C(O)C(=O)O', 'CC(C)Oc1cncc(-c2ccc3[nH]cc(-c4ccnc(N)c4)c3c2)n1', 'Cc1cc(C)c(-c2cc3c(cc2F)NC(C)(C)C2OCCC32C)s1', 'CC(C)(C)[C@@H](OC(=O)c1cc2c([nH]c1=O)CCCCC2)C(F)(F)F', 'CON=C(Cc1ccc(OC)cc1)c1ccc(OC)c(OC)c1OC', 'CC(Nc1nccn2nc(C3CC3)cc12)c1ncc(-c2ccccc2)o1', 'CCN(CC(C)(C)O)C(=O)C1CC1c1ccccc1OC(F)(F)F', 'COc1ccc(CNc2nccc3c2c(N)nn3-c2ccccc2)cc1', 'CCC(CC)C(=O)Nc1ccc(NCCc2ccc(Cl)cc2)cn1', 'CC1CCCN(/C(N)=N/C(N)=N/c2ccc(C(F)(F)F)c(F)c2)C1', 'Cc1nc(C)n(CCNC(=O)C2ON=C(c3ccc(F)cc3)C2C)n1', 'CC(C)(C)OC(=O)N1CCC(O)(c2ccccc2C(F)(F)F)CC1', 'CCOC(=O)[C@H]1CCCN(Cc2cc(=O)oc3c(C)c(O)ccc23)C1', 'N#CC1=CN(c2ccc(N3CCOCC3)nc2)CN=C1c1ccccc1', 'CCCNc1n[nH]c2ccc(-c3cc(-c4ccccc4)[nH]c(=O)n3)cc12', 'CCCCOC(=O)c1ccc(NC(=O)[C@@H]2CC=CC[C@H]2C(=O)O)cc1', 'CN(C[C@@]1(O)CCCN(c2ccc(F)cn2)C1)C(=O)c1ccncn1', 'COC(=O)C1CC12CCN(S(=O)(=O)CCC1CCCCO1)CC2', 'NC(=O)C1(C2(Cc3ccccc3)OC=C(C(=O)O)O2)CCCCCC1', 'N#Cc1cc(N2CCC(COc3ncccn3)CC2)nc2ccccc12', 'CCN(CC)c1ccc(NC(=O)NCCc2ccccc2Cl)cc1', 'CC.COP.Cc1cc2c(Nc3ccccc3)ncnc2cc1O', 'COCCN(c1ccccc1)c1nccc(-c2ccnc3[nH]ccc23)n1', 'Cc1cc(C)c2cc(C#N)c(NCCNC(=O)c3ccccn3)nc2c1', 'COC(=O)C1=CN(C(C)C)C=C(C(=O)OC)C1c1ccccc1OC', 'C[C@H](Cc1cccc(Cl)c1)C(=O)N1CCC(c2ccnn2C)CC1', 'CC(=O)O[C@H]1[C@H]2[C@@H](OC(C)=O)C=CCN2C[C@H]1OCc1ccccc1', 'Cc1cc(Nc2ccn[nH]2)nc(N2C[C@@H]3[C@@H](C2)OCCN3C(=O)O)n1', 'CCN(CC)c1ccc(NC(=O)CNCc2ccc(Cl)cc2)cc1', 'CC(c1ccc(Cl)cc1)c1ccccn1.O=CNC1CCNCC1', 'Cc1c(F)c(N)nc(Nc2ccc(N3CCOCC3)cc2)c1C(N)=O', 'CCO/N=C(/C)c1ccc2c(c1)ncn2-c1cccc(-n2ccnc2)c1', 'COc1ccc(CC(N)C(O)C(=O)OCc2ccccc2)cc1OC', 'Cc1ccc(C)c(N(C(=O)/C=C/c2c(C)nn(C)c2Cl)C(C)C)c1', 'Cc1cc(C(=O)N(C)C2CCNCC2)c(C)n1-c1ccc(Cl)cc1', 'Cc1ccc(-c2noc(-c3cc(C)n(Cc4ccc(C)nc4)n3)n2)cc1', 'CC(C)=Cc1[nH]nc2ccc(NC(=O)c3ncc(C#N)c(C)c3C)cc12', 'O=C(c1cccc(Nc2ncccn2)c1)N(Cc1cccnc1)C1CC1', 'Clc1ccc(CC2CC3(CCN(Cc4ncc[nH]4)CC3)CO2)cc1', 'COc1ccccc1-c1nn(-c2nc3ccccc3[nH]2)c2c1CNCC2', 'Cc1[nH]c2ccc(C(=O)Nc3ccc(-n4ccnc4C)nc3)cc2c1C', 'O=C(O)C[C@@H]1CCCN(CCOc2ccc(C(F)(F)F)cc2)CC1', 'CNC(=O)OC1=C(c2c(C)cc(C)cc2C)C(=O)OC12CCOCC2', 'COC(=O)c1ccccc1NC(=O)COC(=O)C[C@H]1C[C@@H]2CC[C@@H]1C2', 'CCCCS(=O)(=O)NCC(c1cccs1)N1CCN(C)CC1', 'O=C(Nc1ccccc1)O[C@@H](CCCO)c1ccc(OCCO)cc1', 'C=Cc1cc(CN(CC)C(=O)OC(C)(C)C)cc(OC(F)(F)F)c1', 'CC(CCOc1ccccc1)C(=O)N1CCC(O)(C(F)(F)F)CC1', 'O=C(O)c1ccccc1C(=O)OC1CCCC1CN1CCCCC1=O', 'Nc1nc(CCCc2ccccc2)nc2cn(-c3ccccc3O)nc12', 'COc1cc2c(c(NC(=O)C[C@H]3C[C@H]4CC[C@@H]3C4)c1OC)C(=O)OC2', 'COc1ccc(C(=O)NCC(OC)c2ccccc2OC)cc1OC', 'CCCCCCOC(=O)C(O)(CC(=O)[O-])CC(=O)OC(=O)CCC', 'CCCC(C)N(C(=O)C(F)(F)F)C(Cc1ccccc1)C(=O)OC', 'Cc1ccc(OCc2ccc(C(=O)N[C@@H](C(=O)O)C(C)C)o2)c(C)c1', 'CN1c2ccccc2C(=O)N[C@@H]1/C=C/c1cn(Cc2ccccc2)nn1', 'CC(O)(c1ccc(C(=O)N2CCCCC2CCO)cc1)C(F)(F)F', 'O=C(O)C1(C(=O)NCC2(c3ccc4c(c3)OCO4)CCCCC2)CC1', 'CCC(=O)C(F)(F)c1cccc([C@@H](C)NC(=O)OC(C)(C)C)c1F', 'COc1cnc2[nH]cc(-c3cc(N[C@H](C)c4ccccc4)ncn3)c2c1', 'CC1Cc2ccccc2N1C(=O)c1cnc(NCc2ccncc2)nc1', 'COc1cccc2cc(C(=O)NC[C@@H]3COC4(CCCCC4)O3)oc12', 'CCC(Oc1ccccc1C)C(=O)N(C)Cc1cc(C(=O)O)c(C)o1', 'COCCOCc1nc(C)ccc1C(=O)C1C(=O)C2CCC(C2)C1=O', '[H]/N=N/N(/C=C/c1ccc(OC(C)C)c(Cl)c1)/C(C=C)=C/C=C(C)C', 'c1cc(Cn2cnc3ccccc32)cc(-c2noc([C@@H]3CCNC3)n2)c1', 'Cc1ncccc1C(=O)N[C@H]1CCCc2nc(-c3cccnc3)ncc21', 'CCOc1nc2nc(CC)n3c4ccccc4nc3c2c(CC)c1C#N', 'O=C(O)[C@@H]1CC[C@H](C(=O)N2CCCC2c2ccc3c(c2)OCCO3)C1', 'C=CCOC(=O)C1(C(N)C(=O)OCc2ccccc2)CCCCC1=O', 'C1=CC(c2cc(N3CCOCC3)nc3c(C4=CC=NC4)nccc23)=NC1', 'Cc1[nH]c2ccccc2c1CC(=O)NCc1ccnc(-n2ccnc2)c1', 'COc1ccc(-c2ncnc(N3CC(N(C)CC(N)=O)C3)c2F)cc1', 'c1cc(-c2ccc3nc([C@@H]4CCN(Cc5ccoc5)C4)nn3c2)ccn1', 'CC(C)Oc1cc(-c2ccc(Cl)cc2)c(CN2CCNCC2)cn1', 'Cc1cccc(-c2n[nH]c(C(C)C)c2-c2ccc3ncc(C=O)n3c2)n1', 'C=CCO[C@@H]1[C@H]2CC[C@H]1OCCN2C(=O)c1cccc2c1OCCO2', 'CCCCC[C@H](C(=O)OC)[C@H](N[S@@](=O)C(C)(C)C)C(F)(F)F', 'COc1ccc(C)cc1Nc1nc(C)cc(Nc2ccc(C#N)cc2)n1', 'CCC(NC(=O)CSCc1ccc(F)cc1)c1ccc(C)c(C)c1', 'COc1ccc(OCCNC(=O)[C@H](C)Oc2cccc(OC)c2)cc1', 'Cn1cnc2c(NC(=O)C3CC3)cc(Nc3ccc(CC#N)cc3)cc21', 'OCC(CNC1CCN(c2ccc(Cl)cc2)CC1)c1cccnc1', 'Cc1cc(C)c([C@@H](C)NC(=O)CSCc2ccc(F)cc2)cc1C', 'CCC(CC)(CNC(=O)c1occc1COc1ccccc1)C(=O)O', 'C=C(C)C(=O)ON1CCC[C@H]1C(=O)[Si](OCC)(OCC)OCC', 'C[C@@H](c1ccccc1Cl)N(CC(=O)NC1(C#N)CCCC1)C1CC1', 'CC(C)C(=O)N1CCCN(Cc2c(Cl)ccc3cccnc23)CC1', 'Cc1nn(C)c(C)c1[C@@H](C)C(=O)N1CCC[C@@H]1c1cccc(Cl)c1', 'CCC(=O)N1CCCC(C(=O)Nc2n[nH]c(-c3ccccc3F)n2)C1', 'CCCCCCOc1ccc2nc(C(=O)OC)cc(C(=O)OC)c2c1', 'CN(C)c1nc(NCc2ccccn2)c2c(-c3ccccc3)coc2n1', 'O=C(Cn1cc(NC(=O)C2CCC2)nn1)NCCc1cccc(F)c1', 'CN1CCc2c(c3cc(Cl)ccc3n2CC(=O)NC2CCCC2)C1', 'Cc1ccccc1C(O)CNc1ccnc(Nc2ccc(C#N)cc2)n1', 'Cc1cn(C)c([C@H]2CCCN(C(=O)CCc3ccc(Cl)cc3)C2)n1', 'O=C(c1ccccc1)N1CCN(c2ccc(-c3ccccn3)nn2)CC1', 'Cc1ccc(Cl)cc1NC(C(=O)NCCN(C)C)c1ccccc1', 'CCc1cc(C(=O)NCCc2ccc(OCC(=O)O)cc2)oc1CC', 'CC1=C(C(=O)NCc2ccccc2)C(c2ccccc2)n2ncnc2N1', 'Cc1nc2c3ccccc3nn2c(C)c1CCC(=O)Nc1ccncc1', 'CCN(CC)C(CNC(=O)c1ccc(Cl)nc1)Cc1ccccc1', 'Cc1cc(C)n(-c2ccc(CC(=O)Nc3ncc4ccccn34)cc2)n1', 'CC(C)(C)C1CCc2c(C(=O)NCc3ccccc3F)csc2C1', 'CC(Cc1ccc(C(F)(F)F)cc1)C(=O)NCC1(O)CCOCC1', 'CCOC(=O)C(NC(=O)C1CCS(=O)(=O)C1)C1CCCCCC1', 'Cc1nnc([C@@H](C)c2ccc(F)cc2)c(NC2CCN(C(=O)O)C2)n1', 'N#Cc1cnc2ccccc2c1NCc1cccnc1N1CCOCC1', 'COC(=O)NC(CO)Cc1cc(C)c(Oc2ccc(O)cc2)c(C)c1', 'COc1cc(C)nc(N2CCN(c3cccc(F)c3C(N)=O)CC2)n1', 'CN(C)C(=O)C1CCCN1C(=O)Nc1cc(F)ccc1-n1cccn1', 'C=C(C#N)[C@@]1(C(=O)OC(C)(C)C)Cc2cc(OC)c(OC)cc2[C@@H]1O', 'Cc1cc([C@H]2CCCN(C(=O)CCCc3ccc(Cl)cc3)C2)n[nH]1', 'Cc1nn(-c2ccccc2)c(Cl)c1CN1CCOC2CCCCC21', 'CC[C@H](Cc1ccccc1C(F)(F)F)NC(=O)C1(O)CCOCC1', 'CC(C)(C)OC(=O)N1CCCC(Oc2cccc(C(F)(F)F)c2)C1', 'Cc1cc(C)cc(-n2nnc3c(=O)n(Cc4ccccc4C)cnc32)c1', 'CC1=C(C(=O)NCc2ccccc2)[C@@H](c2ccccc2)n2ncnc2N1', 'Cc1cc(O)c2c(c1)/C=C/CC(O)C(O)C(=O)/C=C\\\\CC(C)NC2=O', 'COC1=C(C=CC(=C1O)O)C=CC(=O)C2=CC=C(C=C2)O', 'O=C(Cn1cc(Cl)c([N+](=O)[O-])n1)N1CCCCCC1', 'O=C(O)Cc1ccccc1Oc1ccccc1CC(=O)O', 'Cc1nc(Cn2nnc(C(=O)O)c2-c2cccnc2)no1', 'CNC(=O)Nc1ccc(F)c(-c2nc3ncccc3o2)c1', 'COc1cccc(OCC(=O)Oc2cccc(C=O)c2)c1', 'CCOc1cccc(C(=O)Oc2cccc(C(=O)O)c2)c1', 'COc1cc(C=NN=C(N)N)c(Cl)c(OC)c1OC', 'Cn1cnc2c(Nc3ccc(C(=O)O)cc3F)nccc21', 'COc1cccc(C(=O)O)c1NC=C(C#N)c1nn[nH]n1', 'C#CC/C(=C\\\\C=C(/C)C(=O)O)Oc1ccc(C(=O)O)cc1', 'CCCCCC[C@H](O)C[Se]c1ccccc1', 'O=C(O)CNc1ccc(-c2cnc3cnccn23)c(F)c1', 'Cc1cc(F)ccc1C(O)Cc1csc2ccccc12', 'COc1cc(O)c(C(=O)/C=C/c2ccccc2O)c(O)c1', 'C[C@H](C(=O)O)c1ccc(OC(=O)c2ccccc2)cc1O', 'COc1ccc(Oc2cc(O)ccc2C=CC(=O)O)cc1', 'CC(N)C1CN(c2ncc(Cl)cc2[N+](=O)[O-])CCO1', 'O=C(O)C1CCCCCC1Sc1ccc(F)cc1F', 'Cc1c(NC(=O)Cn2cnc(C#N)n2)cccc1[N+](=O)[O-]', 'O=[N+]([O-])c1cnc(Cl)nc1NCC1CCCC(O)C1', 'COCCn1c(=O)n(C)c(=O)c2c1nc(CCl)n2C', 'O=[N+]([O-])c1c(Cl)ncnc1NCC1CCCC(O)C1', 'O=C(O)c1ccc(C=Cc2ccc(C(O)(O)O)cc2)cc1', 'CCc1nc(C(=O)Nc2ccc(C#N)cc2[N+](=O)[O-])n[nH]1', 'O=C(O)CCCCCCCCCCC(=O)O.[Fe]', 'Cc1cc(F)cc(Nc2cc(N)nc(C(F)(F)F)n2)c1', 'COc1ccc2c(c1)O[C@H](c1ccc3c(c1)OCO3)CO2', 'N#Cc1cnc(NCCc2cccc(F)c2)c([N+](=O)[O-])c1', 'Cn1cc(-c2nnc(Nc3ccc4c(c3)OCO4)o2)nn1', 'CCNc1cc(C(=O)NCCOC(N)=O)cc(Cl)n1', 'CC(CN)C(=O)N1CCN(S(N)(=O)=O)CC1.Cl', 'COc1cc(OC)cc(-c2cc3occ(C)c3c(=O)o2)c1', 'O=C(Cc1c[nH]c2ccc(F)cc12)Nc1ccc(=O)[nH]n1', 'CCN(CC(C)(O)CC(F)(F)F)C(C)C.[Co]', 'C=C(C)C(=O)O.O=C1C=C(C=Cc2ccccc2)C(=O)O1', 'NNc1ncc(C(=O)N2CCOC(CO)C2)cc1Cl', 'CC(=O)OCCC1(c2ccccc2C(F)(F)F)CC1=O', 'CC(C)OC(=O)C1(C(F)F)Cc2cc(F)ccc2C1=O', 'O=C(C[n+]1ccncc1C(=O)C[N+](=O)[O-])c1ccccc1', 'COC(=O)Oc1cc(C(=O)c2ccccc2)ccc1OC', 'C[C@@H](Oc1ccccc1)C(=O)Oc1ccc2c(c1)OCO2', 'O=C(O)COc1cccc(C(=O)Cc2cccc(O)c2)c1', 'CCOc1n[nH]c(NS(=O)(=O)c2cn(CC)cn2)n1', 'O=C1c2c(O)cccc2OC[C@H]1Cc1ccc(O)c(O)c1', 'CCOC(=O)C1=C(C(F)F)OC(c2ccc(F)cc2)C1', 'CC(=O)O[C@@H]1C=CC[C@@H]2C(=O)c3cccc(O)c3C(=O)[C@H]21', 'CC(=S)Sc1ccccc1C(C)(C)c1ccccc1', 'CC(=O)N(c1ccc(F)c(C#N)c1)c1cc(NO)ccn1', 'COC(=O)c1ccccc1OCc1ccccc1C(=O)O', 'O=C1C[C@@H](O)C[C@H](/C=C/c2cccc(C(F)(F)F)c2)O1', 'CNc1cc(C(=O)NCCOCC(N)=O)c(Cl)cn1', 'CC.CC(C)Cl.CC1(OC=O)CSCCS1', 'Cc1ccc(C(O)COc2ccccc2C(F)(F)F)o1', 'CC1(c2ccc(O)cc2)Oc2cc(O)cc(O)c2C=C1O', 'O=C(O)C(=O)OCc1ccc(OCc2ccccc2)cc1', 'C=CCCc1cc(OC(F)(F)F)ccc1C1OC=CO1', 'O=[N+]=O.[N-]=C=O.[N-]=C=O.c1ccccc1.c1ccccc1', 'CCc1cc(O)ccc1C(=O)Oc1ccccc1C(=O)O', 'Cc1[nH]nc(CO)c1S(=O)(=O)NCCc1ncn[nH]1', 'C1=C2N=C(c3ccco3)N=C2Cc2nc3ccccc3nc21', 'CCOC(=O)C(=O)c1c(F)c(OC)cc(OC)c1OC', 'Cc1nc(NN)c(C)c(OCC(F)(F)C(F)(F)F)n1', 'CC(Nc1ncc(C#N)cc1[N+](=O)[O-])c1ccccc1F', 'Cn1cncc1-c1noc(-c2ccc([N+](=O)[O-])cc2N)n1', 'Cc1ccc(-c2ccn3nc(N)nc3c2)c(F)c1C(=O)O', 'CC1(C)C=C(OSOOC(F)(F)F)CC(C)(C)C1', 'Cl.NCCC[C@H](N)c1ccc(F)cc1C(F)(F)F', 'Cc1ccc(F)cc1Nc1cc(C(F)(F)F)nc(N)n1', 'COC(=O)C1=C(O)C[C@H]([C@@H]2C=CC(=O)O2)c2ccccc21', 'O=C(O)CN1CCCN(C(=O)Nc2nnns2)CC1', 'Cn1ccc(Nc2cc3nc[nH]c(=O)c3cc2[N+](=O)[O-])n1', 'COC1CCCN(c2nc(Cl)nc(C)c2[N+](=O)[O-])C1', 'O=C(c1ccc(SCc2ccc(F)cc2)cc1)C1CC1', 'Cc1ccc(COc2ccc3oc(C)c(C(=O)O)c3c2)o1', 'O=C(CSc1ccccc1F)CC1Cc2ccccc21', 'COC(=O)c1c[nH]c2ncnc(-c3ccc(F)c(N)c3)c12', 'Cc1nc(Cl)c([N+](=O)[O-])c(N2CCOC(C)(C)C2)n1', 'CC(C)(C)C(OC(=O)/C=C/C(=O)O)C(F)(F)C(F)F', 'Cc1[nH]nc(S(=O)(=O)NCCc2ncn[nH]2)c1CO', 'c1ccc(-c2ccc(-c3cccc4ccccc34)s2)cc1', 'O=[N+]([O-])c1cnc(Cl)nc1NCCC1CCCCO1', 'COC(=O)COc1ccc(O)c(C(=O)c2ccccc2)c1', 'COc1cccc2c1OC(C(=O)O)Oc1ccccc1C2', 'COC(=O)c1ccc(Oc2cc(C=O)ccc2OC)cc1', 'SCCCSC=C(c1ccccc1)c1ccccc1', 'C=C(C)C(=O)OCOC(=O)c1cccc2c(O)cccc12', 'O=C1CCC(C(=O)O)(c2ccc(C(F)(F)F)cc2)CC1', 'COc1cc2c(c(O)c1C1=CC(=O)CC1)C1C=COC1O2', 'COc1c(O)cc(O)c2c1O[C@@H](c1ccccc1)CC2=O', 'C#CCOc1cc(C)c(C(=O)OC)c(OCC#C)c1C=O', 'COc1ccc2c(c1OC)CO/C(=C\\\\c1ccco1)C2=O', 'C[C@@H]1c2cc3c(cc2C=C(S)C1S)C1C=CC3CC1', 'COc1ccc(C(=O)CC(=O)Oc2ccccc2O)cc1', 'COc1cc2c(cc1O)C1c3ccc(O)cc3OCC1O2', 'C=C1C(F)=CN(C(=O)Nc2cccc(C#N)c2)C(=O)N1C', 'COC(=O)c1cc(N)cc(Cl)c1NCCNC(N)=O', 'O=[N+]([O-])c1cnc(Cl)nc1NC1CCCCC1CO', 'COc1ccc2c(c1)OC1c3ccc(O)cc3OCC21O', 'CN(CCO)c1ncc(Cl)c(N2CC(C(=O)O)C2)n1', 'O=C(COn1nnc2ccccc21)Nc1cccc(F)c1', 'C=C(C)[C@@H](O)COc1c2occc2cc2ccc(=O)oc12', 'OCC(Cc1csc2ccccc12)c1ccc(F)cc1', 'CC(=O)c1ccc(OCc2cccc(O)c2)cc1C(=O)O', 'N#Cc1cnc(NCCc2ccc(F)cc2)c([N+](=O)[O-])c1', 'CCOC(=O)c1oc2ccc3c(C)cc(=O)oc3c2c1C', 'COc1ccc(C(=O)/C=C/c2c(O)cc(O)cc2O)cc1', 'Cc1nc(N)nc(N2CC(CS(N)(=O)=O)CC2=O)n1', 'CC(C(=O)O)(C(=O)O)c1ccc(-c2ccccc2)c(O)c1', 'Cc1nnc(COC(=O)c2ccc(-n3cnnn3)cc2)o1', 'Cc1ccc(F)c(C(C)(O)c2cc3ccccc3s2)c1', 'Cc1[nH]cnc1C(=O)N/N=C/c1ccc2no[n+]([O-])c2c1', 'CCCC[N+]1(C)C(F)(F)C(F)(F)C(F)(F)C1(F)F', 'COC(=O)/C=C/c1ccc(-c2ccccc2C(=O)OC)o1', 'CC(CO)Nc1ncc(Cl)c(NC2(C(=O)O)CC2)n1', 'COc1ccc2ccccc2c1/C=C(\\\\CC(=O)O)C(=O)O', 'Nc1cc(O)c2c(Nc3ccc(F)cc3O)ncnc2c1', 'Cc1nc(Cl)nc(NC2(C)CCCOC2)c1[N+](=O)[O-]', 'COc1cc(Cl)c(NC(=O)N=C(N)N)c(C)c1OC', 'CNc1ncc(F)c(Nc2ccc(C(F)(F)F)cc2)n1', 'CC(=O)OC/C=C/C1OC1C1OC1C#CC#CC#CCO', 'COc1cc(O)c2c(c1O)OC(c1ccccc1)C(=O)C2', 'CCCCCC/C=C(/[S-])[Se]CC(C)C.[Li+]', 'COC(Cn1nnnc1SCc1noc(C)n1)OC', 'N#Cc1n[nH]nc1-c1cccc(-c2cc3ccccc3o2)c1', 'O=C(CC(=O)c1ccco1)c1ccc2c(c1)OCCCO2', 'Cl.NCCC[C@@H](N)c1c(F)cccc1C(F)(F)F', 'CSSCCCP(=O)(CCCO)CCCO', 'COc1cc(O)c2c(c1)Cc1c(O)c(C)cc(O)c1C2=O', 'Cc1ccc(Nc2cc(C(F)(F)F)nc(N)n2)c(F)c1', 'O=c1[nH]nc2cc(NCc3ccc([N+](=O)[O-])cc3)ncn12', 'COc1ccc(C(=O)Nc2cccn3cnnc23)cc1F', 'CC1=CC(=O)C2=C(C1=O)[C@]1(CC[C@@H]2C)OC(=O)C=CC1=O', 'CC(C)(CO)Nc1nc(C2CC2)nc(Cl)c1[N+](=O)[O-]', 'COc1cc(OC)cc(C(=O)c2ccc3c(c2)OCO3)c1', 'O=C(O)c1cc(-c2cccc(CO)c2)cc2c1OCCO2', 'O=C1NC=NC2C1N=CN2C1CC(CCl)C(O)C1O', 'OC(C1=CCCSc2ccccc21)c1ccc(F)cc1', 'C(#Cc1ccccc1Sc1ccccc1)c1ccccc1', 'CC(C(=O)[O-])c1ccccc1.O=C(O)c1ccccc1[O-]', 'COc1cccc2c1OCC(CC(=O)c1ccco1)C2=O', 'O=C1CCCC(C(=O)O)(c2ccc(C(F)(F)F)cc2)C1', 'C(=C/CSc1ccccc1)\\\\CCSc1ccccc1', 'COC(=O)c1ccc(OC(=O)c2ccccc2)c(OC)c1', 'COC(=O)Cn1ncc(NC2CCNC2)c(Cl)c1=O', 'Cc1c(O)cc2c(c1O)C(=O)[C@H](O)[C@@H](c1ccccc1)O2', 'c1cc2c(cc1Oc1ccc3c(c1)OCCO3)OCCO2', 'COc1cc(OC)c2c(c1)C1=CC(=O)C=C[C@]1(C)OC2=O', 'CC1=CC(O/C=C(/C(=O)O)C2Cc3ccccc32)OC1=O', 'NNc1cc(C(=O)N2CCOCC2CO)cc(Cl)n1', 'C/C(=C\\\\SCc1ccccc1)SCc1ccccc1', 'CCCC(C(=S)S)(c1ccccc1)c1ccccc1', 'CN1CCN(C(=O)Cn2cc(Cl)c(=O)[nH]c2=O)CC1', 'CCCOCC(COP(=O)(O)C(=O)O)(OC)OC', 'Cc1cccc(C(=O)OCc2ccc3c(c2)OCO3)c1O', 'Cc1nn(C)cc1S(=O)(=O)N1CCC[C@@H](C(=O)[O-])C1', 'CC(=O)C1(Cc2ccc(C(F)(F)F)cc2)CCOC1=O', 'C=C(C)C(=O)OC(CC)COC(=O)C(F)(F)C(F)F', 'COc1cc(NS(=O)(=O)[13c]2[13cH][13cH][13c](N)[13cH][13cH]2)ncn1', 'COc1cc(/C=C/C(=O)c2ccc(O)cc2O)ccc1O', 'COC(=O)C1=C(O)CC(c2c(F)ccc(F)c2F)CC1', 'CCCCCCC(O)C[Se]c1ccccc1', 'O=C(Nc1nccnn1)c1cc(F)ccc1C#CCCO', 'CNC(=O)C(C)CN(C)c1cc([N+](=O)[O-])cc(Cl)n1', 'Cn1nc(Nc2cnccc2C(=O)O)c2cc(F)ccc21', 'Cc1nnc(Cn2nnc(C(=O)O)c2-c2ccncc2)o1', 'Cc1c(S(=O)(=O)N2CCC[C@@H](C(=O)[O-])C2)cnn1C', 'COC(=O)c1ccc(-c2cccc(O)c2C(=O)OC)cc1', 'O=[N+]([O-])c1cc(F)ccc1NCc1cnn2ccccc12', 'O=P(O)(O)CCC[C@H]1O[C@H](CO)[C@H](O)[C@H](O)[C@H]1O', 'O=C(O)C1CC=CCC1C(O)c1cc(F)c(F)cc1F', 'C/C1=C\\\\CC[C@]23O[C@H]2[C@@H](OC3=O)C2=C(C1)C(=O)C=CC2=O', 'O=[N+]([O-])c1ccc(NCc2c[nH]c3ncccc23)c(F)c1', 'NCc1ccc(-c2nc(-c3ccc(O)c(F)c3)no2)nc1', 'O=[N+]([O-])c1ccc(F)cc1NCc1cn2ccccc2n1', 'COc1ccc(OC(=O)/C=C/c2ccc(O)cc2O)cc1', 'N#Cc1ccc2c(ccc(=O)n2-c2nc3ccccc3[nH]2)c1', 'Cl.NCCC[C@H](N)c1c(F)cccc1C(F)(F)F', 'CCOC(=O)/C=C/C=C/c1ccc(OC(F)(F)F)cc1', 'Cc1ccc(C)c(SCC2Cc3ccccc3S2)c1', 'O=C(NN=Cc1ccncc1)C(=O)Nc1ccccc1F', 'Cc1nc(Cl)nc(N(C)C2CCOCC2)c1[N+](=O)[O-]', 'CCc1cc(C(=O)c2ccccc2C(=O)O)c(O)cc1O', 'CCSc1ccc2c(c1)-c1c(cccc1SCC)C2', 'O=c1[nH]cnc2nc(NN=Cc3ccc(O)c(O)c3)[nH]c12', 'O=C(NCc1cc(-c2ccccc2F)on1)c1ccn[nH]1', 'COc1cccc(C(=O)c2c(OC)cccc2C(=O)O)c1', 'O=[N+]([O-])c1cnc(Cl)nc1NCC1CCCCC1O', 'CSc1cc(F)cc(C2(C(=O)O)CCCCC2)c1F', 'Cc1nc(Cl)nc(N(C)CC2CCCO2)c1[N+](=O)[O-]', 'O=C(O)c1cccc(-c2ccccc2)c1C(=O)OCCO', 'CCOC(=O)C1(O)CC(=O)c2ccc3ccccc3c2O1', 'Cc1ccc2c(c1)OC(c1cccc(O)c1O)C(O)C2=O', 'Fc1cc(F)c(F)c(-n2cc(CNC3CC3)nn2)c1F', 'O=[N+]([O-])c1cc(NCc2cn3ccccc3n2)ccc1F', 'COc1ccc2oc3cccc(OC)c3c(=O)c2c1OC', 'Cl.NCCCC[C@@H](N)c1c(F)c(F)cc(F)c1F', 'O=c1nc2nc[nH]c2c(N/N=C\\\\c2ccc(O)c(O)c2)[nH]1', 'CC(C)(Cc1coc2cc(C(F)(F)F)ccc12)C(=O)O', '[C-]#[N+]c1cccc2c(C=c3ccc4c(c3)N=NC=4)c(O)[nH]c12', 'C=CCc1cc(CC=C)c2oc(C(=O)O)cc(=O)c2c1O', 'O=C(NCc1cc(-c2ccccc2)on1)c1cc(F)[nH]n1', 'Cc1nc(NN)nc2oc(-c3cccc([N+](=O)[O-])c3)nc12', 'Cc1noc(CCNS(=O)(=O)c2[nH]ncc2CN)n1', 'CCOC1COC(=O)c2c(ccc3ccccc23)C(=O)O1', 'Cn1c([N+](=O)[O-])cnc1C1=CNN(NCCCO)S1', 'Cc1ccc(C2(c3ccc(C)cc3)SCCS2)cc1', 'COC(=O)c1cccc(COC(=O)c2cccc(O)c2)c1', 'CCOC(=O)c1ccc(C#CC(F)(F)F)cc1OCC', 'CC(C)=CC(Sc1ccccc1)Sc1ccccc1', 'COC(Cn1nnnc1SCc1nonc1C)OC', 'COC(=O)/C=C(\\\\C)c1ccc(-c2cccc(C(=O)O)c2)o1', 'COc1c(O)cc(O)c2c1OC(c1ccccc1)CC2=O', 'Fc1ccc(C2CCNc3nc(C(F)(F)F)nn32)cc1', 'COC1=CC2=c3ccccc3=C(C(O)C(=O)O)OC2C=C1', 'CCOC(=O)C1=COC2=C(OCc3ccccc3)[C@H]2C1=O', 'Cn1c(=O)cnc2c(Oc3ccc(N)c(F)c3)ccnc21', 'Cc1c(-c2ccc(F)cc2)nn2c(N)c(C(=O)O)cnc12', 'CCOc1cc(C=O)ccc1OC(=O)c1ccccc1O', 'COC(=O)C1Cc2cc(OC)c(OC)cc2CN1.[Cl-]', 'C=C(C)C(=O)OC1(C(F)(F)F)OC(C)(C)C(C)(F)O1', 'CCc1cc2c(cc1C)C=C(C(=O)O)C(C(F)(F)F)O2', 'CP(O)OCC1OC(OCCO)C(O)C(O)C1O', 'O=C(c1ncc2ccccc2n1)c1ncc2ccccc2n1', 'COc1cc(O)c(C(=O)C=Cc2ccccc2O)c(O)c1', 'Nc1ccc(Nc2cc(C(F)(F)F)ccc2F)nc1N', 'CC(=O)OC/C=C/[C@@H]1O[C@H]1[C@H]1O[C@@H]1C#CC#CC#CCO', 'Cc1ccccc1OCC(=O)Oc1cccc(C(=O)O)c1', 'CCCNC(=O)CN(C)c1cc([N+](=O)[O-])cc(Cl)n1', 'O=S(=O)([O-])CC(F)C(F)C(F)CCCCCF.[Li+]', 'O=C1CCN(C(=O)c2ccc(F)nc2)c2ncccc2N1', 'Cc1ccc(-c2ccnc3nc(CC(=O)O)nn23)cc1F', 'CCOC(=O)[C@@H]1C(=O)Oc2ccccc2[C@H]1c1ccco1', 'Cc1cc(C)c2oc(C)c(Sc3ccc(F)cc3)c2c1', 'CC1(C)CC(Nc2nc(Cl)ncc2[N+](=O)[O-])CCO1', 'Nc1ncc(/C=N\\\\NC(=O)c2ccccc2[N+](=O)[O-])cn1', 'Cc1ccncc1-n1c(=O)[nH]c(=O)c2cc(F)c(C)nc21', 'COc1cccc(O)c1C(=O)COC(=O)c1ccccc1', 'CC(C)(SC(=S)Cc1ccccc1)c1ccccc1', 'COC1=CC(CC(=O)c2ccccc2)C(=O)C(C(=O)O)=C1', 'O=Cc1ccc(OCCOc2cccc(C(=O)O)c2)cc1', 'Nc1[nH]ncc1S(=O)(=O)N1CCN2C(=O)NCC2C1', 'COc1cccc2c1C(=O)OCc1cc(C)cc(O)c1O2', 'COc1cc([C@@H]2CC(=O)c3ccc(O)cc3O2)ccc1O', 'CC12C=CCC=C(/C(S)=C(/S)c3ccccc3)C1C2', 'COc1ccc(C2Cc3cc(O)cc(O)c3C(=O)O2)cc1', 'COc1cc2ccccc2cc1-c1oc(CO)c(O)c1O', 'COc1cc(C=O)ccc1Oc1ccc(C=O)cc1OC', 'CNc1nc(Oc2cccc([N+](=O)[O-])c2)c2[nH]cnc2n1', 'CC1=CC(=O)C2=C(C1=O)[C@@]1(CC[C@@H]2C)OC(=O)C=CC1=O', 'CC(=O)Oc1ccccc1-c1ccc(C(O)C(=O)O)cc1', 'Cc1cccc(C(=O)O)c1OCc1ccc(C(=O)O)cc1', 'C#CC#C[C@@H](OC(C)=O)c1cccc(OC)c1C(=O)OC', 'Cn1c([N+](=O)[O-])cnc1C1=CSNN1NCCCO', 'C/C([O-])=N\\\\c1ccc(Oc2cc(N)cc([N+](=O)[O-])c2)cc1', 'O=C1C(=O)C2CCC(c3ccc4c(c3)OCO4)CC2C1=O']}\n"
     ]
    }
   ],
   "source": [
    "tmp_original = []\n",
    "for batch in train_loader_original:\n",
    "    print(batch)\n",
    "    tmp_original = batch\n",
    "    break"
   ]
  },
  {
   "cell_type": "code",
   "execution_count": 9,
   "id": "f279211477cf5d0b",
   "metadata": {
    "ExecuteTime": {
     "end_time": "2025-02-14T13:40:10.389867Z",
     "start_time": "2025-02-14T13:40:10.387361Z"
    }
   },
   "outputs": [
    {
     "name": "stdout",
     "output_type": "stream",
     "text": [
      "dict_keys(['spec', 'mol', 'precursor_mz', 'adduct', 'mol_freq', 'identifier', 'smiles', 'candidates', 'labels', 'batch_ptr', 'candidates_smiles'])\n",
      "batch_ptr is present: tensor([256, 256, 256, 256, 256, 256, 256, 256, 256, 256, 256, 256])\n"
     ]
    }
   ],
   "source": [
    "# Check the keys in the batch\n",
    "print(tmp_original.keys())\n",
    "\n",
    "# Specifically check if 'batch_ptr' is present\n",
    "if 'batch_ptr' in tmp_original:\n",
    "    print(\"batch_ptr is present:\", tmp_original['batch_ptr'])\n",
    "else:\n",
    "    print(\"batch_ptr is missing\")"
   ]
  },
  {
   "cell_type": "code",
   "execution_count": 10,
   "id": "82cf5fad037c8ffe",
   "metadata": {
    "ExecuteTime": {
     "end_time": "2025-02-14T13:40:10.399490Z",
     "start_time": "2025-02-14T13:40:10.396421Z"
    }
   },
   "outputs": [
    {
     "data": {
      "text/plain": [
       "dict_keys(['spec', 'mol', 'precursor_mz', 'adduct', 'mol_freq', 'identifier', 'smiles', 'candidates', 'labels', 'batch_ptr', 'candidates_smiles'])"
      ]
     },
     "execution_count": 10,
     "metadata": {},
     "output_type": "execute_result"
    }
   ],
   "source": [
    "tmp_original.keys()"
   ]
  },
  {
   "cell_type": "code",
   "execution_count": 11,
   "id": "8a967c5745662a1f",
   "metadata": {
    "ExecuteTime": {
     "end_time": "2025-02-14T13:40:10.408912Z",
     "start_time": "2025-02-14T13:40:10.406565Z"
    }
   },
   "outputs": [
    {
     "data": {
      "text/plain": [
       "(torch.Size([12, 61, 2]), torch.Size([12, 4096]))"
      ]
     },
     "execution_count": 11,
     "metadata": {},
     "output_type": "execute_result"
    }
   ],
   "source": [
    "tmp_original['spec'].shape, tmp_original['mol'].shape, "
   ]
  },
  {
   "cell_type": "code",
   "execution_count": 12,
   "id": "f4541b8ff18abfc5",
   "metadata": {
    "ExecuteTime": {
     "end_time": "2025-02-14T13:40:10.417149Z",
     "start_time": "2025-02-14T13:40:10.414576Z"
    }
   },
   "outputs": [
    {
     "data": {
      "text/plain": [
       "tensor([160.1121, 303.0100, 289.1547, 292.0654, 413.1730, 120.0700, 351.2166,\n",
       "        383.1100, 123.0440, 152.0706, 346.1650, 287.0900])"
      ]
     },
     "execution_count": 12,
     "metadata": {},
     "output_type": "execute_result"
    }
   ],
   "source": [
    "tmp_original['precursor_mz']"
   ]
  },
  {
   "cell_type": "code",
   "execution_count": 13,
   "id": "d33f02e95d06defc",
   "metadata": {
    "ExecuteTime": {
     "end_time": "2025-02-14T13:40:10.425076Z",
     "start_time": "2025-02-14T13:40:10.422770Z"
    }
   },
   "outputs": [
    {
     "data": {
      "text/plain": [
       "(['[M+H]+',\n",
       "  '[M+H]+',\n",
       "  '[M+H]+',\n",
       "  '[M+H]+',\n",
       "  '[M+Na]+',\n",
       "  '[M+H]+',\n",
       "  '[M+H]+',\n",
       "  '[M+Na]+',\n",
       "  '[M+H]+',\n",
       "  '[M+H]+',\n",
       "  '[M+H]+',\n",
       "  '[M+H]+'],)"
      ]
     },
     "execution_count": 13,
     "metadata": {},
     "output_type": "execute_result"
    }
   ],
   "source": [
    "tmp_original['adduct'], "
   ]
  },
  {
   "cell_type": "code",
   "execution_count": 14,
   "id": "f2246bafe4c779ae",
   "metadata": {
    "ExecuteTime": {
     "end_time": "2025-02-14T13:40:10.433390Z",
     "start_time": "2025-02-14T13:40:10.430658Z"
    }
   },
   "outputs": [
    {
     "data": {
      "text/plain": [
       "tensor([ 38., 322.,  26.,  34.,  15.,  77.,   8.,   8.,   7.,  83.,   2.,  33.])"
      ]
     },
     "execution_count": 14,
     "metadata": {},
     "output_type": "execute_result"
    }
   ],
   "source": [
    "tmp_original['mol_freq']"
   ]
  },
  {
   "cell_type": "code",
   "execution_count": 15,
   "id": "69b44a8f863047a4",
   "metadata": {
    "ExecuteTime": {
     "end_time": "2025-02-14T13:40:10.441171Z",
     "start_time": "2025-02-14T13:40:10.438617Z"
    }
   },
   "outputs": [
    {
     "data": {
      "text/plain": [
       "tensor([ True, False, False,  ..., False, False, False])"
      ]
     },
     "execution_count": 15,
     "metadata": {},
     "output_type": "execute_result"
    }
   ],
   "source": [
    "tmp_original['labels']"
   ]
  },
  {
   "cell_type": "code",
   "execution_count": 16,
   "id": "6514ce8596d69758",
   "metadata": {
    "ExecuteTime": {
     "end_time": "2025-02-14T13:40:10.462893Z",
     "start_time": "2025-02-14T13:40:10.446655Z"
    }
   },
   "outputs": [
    {
     "data": {
      "text/plain": [
       "tensor(12)"
      ]
     },
     "execution_count": 16,
     "metadata": {},
     "output_type": "execute_result"
    }
   ],
   "source": [
    "sum(tmp_original['labels'])"
   ]
  },
  {
   "cell_type": "code",
   "execution_count": 17,
   "id": "2c9d2d7a5c16ed90",
   "metadata": {
    "ExecuteTime": {
     "end_time": "2025-02-14T13:40:10.471626Z",
     "start_time": "2025-02-14T13:40:10.468421Z"
    }
   },
   "outputs": [
    {
     "data": {
      "text/plain": [
       "tensor([   0,  256,  512,  768, 1024, 1280, 1536, 1792, 2048, 2304, 2560, 2816])"
      ]
     },
     "execution_count": 17,
     "metadata": {},
     "output_type": "execute_result"
    }
   ],
   "source": [
    "torch.nonzero(tmp_original['labels'], as_tuple=False).squeeze()"
   ]
  },
  {
   "cell_type": "code",
   "execution_count": 18,
   "id": "2e83bcb489cae86a",
   "metadata": {
    "ExecuteTime": {
     "end_time": "2025-02-14T13:40:10.479076Z",
     "start_time": "2025-02-14T13:40:10.476830Z"
    }
   },
   "outputs": [
    {
     "data": {
      "text/plain": [
       "3072"
      ]
     },
     "execution_count": 18,
     "metadata": {},
     "output_type": "execute_result"
    }
   ],
   "source": [
    "len(tmp_original['labels'])"
   ]
  },
  {
   "cell_type": "code",
   "execution_count": 19,
   "id": "8623ad0307ee1f18",
   "metadata": {
    "ExecuteTime": {
     "end_time": "2025-02-14T13:40:10.487175Z",
     "start_time": "2025-02-14T13:40:10.484579Z"
    }
   },
   "outputs": [
    {
     "data": {
      "text/plain": [
       "tensor([256, 256, 256, 256, 256, 256, 256, 256, 256, 256, 256, 256])"
      ]
     },
     "execution_count": 19,
     "metadata": {},
     "output_type": "execute_result"
    }
   ],
   "source": [
    "tmp_original['batch_ptr']"
   ]
  },
  {
   "cell_type": "code",
   "execution_count": 20,
   "id": "153e8fd767c6cc73",
   "metadata": {
    "ExecuteTime": {
     "end_time": "2025-02-14T13:40:10.495288Z",
     "start_time": "2025-02-14T13:40:10.492793Z"
    }
   },
   "outputs": [
    {
     "data": {
      "text/plain": [
       "tensor(3072)"
      ]
     },
     "execution_count": 20,
     "metadata": {},
     "output_type": "execute_result"
    }
   ],
   "source": [
    "sum(tmp_original['batch_ptr'])"
   ]
  },
  {
   "cell_type": "code",
   "execution_count": 21,
   "id": "57abe1cdad7d1e03",
   "metadata": {
    "ExecuteTime": {
     "end_time": "2025-02-14T13:40:10.502829Z",
     "start_time": "2025-02-14T13:40:10.500508Z"
    }
   },
   "outputs": [
    {
     "data": {
      "text/plain": [
       "3072"
      ]
     },
     "execution_count": 21,
     "metadata": {},
     "output_type": "execute_result"
    }
   ],
   "source": [
    "len(tmp_original['candidates'])"
   ]
  },
  {
   "cell_type": "code",
   "execution_count": 22,
   "id": "6a5c6ecd1c18994e",
   "metadata": {
    "ExecuteTime": {
     "end_time": "2025-02-14T13:40:10.510475Z",
     "start_time": "2025-02-14T13:40:10.508246Z"
    }
   },
   "outputs": [
    {
     "data": {
      "text/plain": [
       "torch.Size([4096])"
      ]
     },
     "execution_count": 22,
     "metadata": {},
     "output_type": "execute_result"
    }
   ],
   "source": [
    "tmp_original['candidates'][5].shape"
   ]
  },
  {
   "cell_type": "code",
   "execution_count": 23,
   "id": "3f7ec6537b665b0c",
   "metadata": {
    "ExecuteTime": {
     "end_time": "2025-02-14T13:40:10.518392Z",
     "start_time": "2025-02-14T13:40:10.516067Z"
    }
   },
   "outputs": [
    {
     "data": {
      "text/plain": [
       "3072"
      ]
     },
     "execution_count": 23,
     "metadata": {},
     "output_type": "execute_result"
    }
   ],
   "source": [
    "len(tmp_original['candidates_smiles'])"
   ]
  },
  {
   "cell_type": "markdown",
   "id": "effa503f7496c1bb",
   "metadata": {},
   "source": [
    "# MSnRetrieval"
   ]
  },
  {
   "cell_type": "code",
   "execution_count": 69,
   "id": "81578a73d8e57643",
   "metadata": {
    "ExecuteTime": {
     "end_time": "2025-02-14T13:40:10.525352Z",
     "start_time": "2025-02-14T13:40:10.523697Z"
    }
   },
   "outputs": [],
   "source": [
    "from massspecgym.featurize import SpectrumFeaturizer"
   ]
  },
  {
   "cell_type": "code",
   "execution_count": 70,
   "id": "5df6778634ce3906",
   "metadata": {
    "ExecuteTime": {
     "end_time": "2025-02-14T13:40:10.532965Z",
     "start_time": "2025-02-14T13:40:10.530883Z"
    }
   },
   "outputs": [],
   "source": [
    "config = {\n",
    "    'features': ['collision_energy', 'ionmode', 'adduct', 'spectrum_stats', 'atom_counts', 'value', \"retention_time\", 'ion_source', 'binned_peaks'],\n",
    "    'feature_attributes': {\n",
    "        'atom_counts': {\n",
    "            'top_n_atoms': 12,\n",
    "            'include_other': True,\n",
    "        },\n",
    "    },\n",
    "}"
   ]
  },
  {
   "cell_type": "code",
   "execution_count": 71,
   "id": "3e4d2d35f3c5e077",
   "metadata": {
    "ExecuteTime": {
     "end_time": "2025-02-14T13:40:10.539961Z",
     "start_time": "2025-02-14T13:40:10.538129Z"
    }
   },
   "outputs": [],
   "source": [
    "featurizer = SpectrumFeaturizer(config, mode='torch')"
   ]
  },
  {
   "cell_type": "code",
   "execution_count": 72,
   "id": "b1baf406d4a19229",
   "metadata": {
    "ExecuteTime": {
     "end_time": "2025-02-14T13:40:10.547084Z",
     "start_time": "2025-02-14T13:40:10.545373Z"
    }
   },
   "outputs": [],
   "source": [
    "file_json = \"/Users/macbook/CODE/Majer:MassSpecGym/data/candidates_generation/MassSpecGymMSn_retrieval_candidates_formula.json\""
   ]
  },
  {
   "cell_type": "code",
   "execution_count": 73,
   "id": "0c55c72b-6998-47c0-81ed-d1ac015f04c5",
   "metadata": {},
   "outputs": [],
   "source": [
    "# file_mgf = \"/Users/macbook/CODE/Majer:MassSpecGym/data/MSn/min_sample_trees.mgf\"\n"
   ]
  },
  {
   "cell_type": "code",
   "execution_count": 74,
   "id": "4abdab9e026ffb09",
   "metadata": {
    "ExecuteTime": {
     "end_time": "2025-02-14T14:09:13.165710Z",
     "start_time": "2025-02-14T13:40:10.552565Z"
    }
   },
   "outputs": [
    {
     "name": "stdout",
     "output_type": "stream",
     "text": [
      "Total valid indices: 16476\n",
      "MSnRetrievalDataset length: 16476\n",
      "Precomputing candidate-side transformations using multiprocessing with chunking...\n",
      "Using 8 processes for precomputation.\n"
     ]
    },
    {
     "name": "stderr",
     "output_type": "stream",
     "text": [
      "Processing chunks: 100%|██████████| 33/33 [41:23<00:00, 75.26s/it]\n"
     ]
    },
    {
     "name": "stdout",
     "output_type": "stream",
     "text": [
      "Precomputation complete. Cache saved to /Users/macbook/CODE/Majer:MassSpecGym/data/candidates_generation/MassSpecGymMSn_retrieval_candidates_formula.h5\n"
     ]
    }
   ],
   "source": [
    "# Init hyperparameters\n",
    "n_peaks = 60\n",
    "fp_size = 4096\n",
    "batch_size = 12\n",
    "\n",
    "# Load dataset\n",
    "dataset_msn = MSnRetrievalDataset(\n",
    "    pth=file_mgf,\n",
    "    candidates_pth=file_json,\n",
    "    featurizer=featurizer,\n",
    "    mol_transform=MolFingerprinter(fp_size=fp_size),\n",
    "    max_allowed_deviation=0.005\n",
    ")\n"
   ]
  },
  {
   "cell_type": "code",
   "execution_count": 76,
   "id": "313e58fab0155c4b",
   "metadata": {
    "ExecuteTime": {
     "end_time": "2025-02-14T14:09:13.184801Z",
     "start_time": "2025-02-14T14:09:13.182586Z"
    }
   },
   "outputs": [],
   "source": [
    "# Init data module\n",
    "data_module_msn = MassSpecDataModule(\n",
    "    dataset=dataset_msn,\n",
    "    batch_size=batch_size,\n",
    "    split_pth=split_file,\n",
    "    num_workers=0,\n",
    ")"
   ]
  },
  {
   "cell_type": "code",
   "execution_count": 77,
   "id": "af9eb30cc9d0b54f",
   "metadata": {
    "ExecuteTime": {
     "end_time": "2025-02-14T14:09:21.055827Z",
     "start_time": "2025-02-14T14:09:20.937795Z"
    }
   },
   "outputs": [
    {
     "name": "stdout",
     "output_type": "stream",
     "text": [
      "Train dataset size: 12536\n",
      "Val dataset size: 1952\n"
     ]
    }
   ],
   "source": [
    "data_module_msn.prepare_data()\n",
    "data_module_msn.setup()\n",
    "\n",
    "train_loader_msn = data_module_msn.train_dataloader()"
   ]
  },
  {
   "cell_type": "code",
   "execution_count": 78,
   "id": "511d947bf9b25fcd",
   "metadata": {
    "ExecuteTime": {
     "end_time": "2025-02-14T14:09:24.598290Z",
     "start_time": "2025-02-14T14:09:23.587363Z"
    }
   },
   "outputs": [
    {
     "name": "stdout",
     "output_type": "stream",
     "text": [
      "[PROFILE] __getitem__ took 0.532142 seconds\n",
      "[PROFILE] __getitem__ took 0.031780 seconds\n",
      "[PROFILE] __getitem__ took 0.037800 seconds\n",
      "[PROFILE] __getitem__ took 0.038638 seconds\n",
      "[PROFILE] __getitem__ took 0.027755 seconds\n",
      "[PROFILE] __getitem__ took 0.035815 seconds\n",
      "[PROFILE] __getitem__ took 0.040279 seconds\n",
      "[PROFILE] __getitem__ took 0.039242 seconds\n",
      "[PROFILE] __getitem__ took 0.041408 seconds\n",
      "[PROFILE] __getitem__ took 0.040312 seconds\n",
      "[PROFILE] __getitem__ took 0.038661 seconds\n",
      "[PROFILE] __getitem__ took 0.025656 seconds\n",
      "[PROFILE] collate_fn took 0.006148 seconds\n",
      "{'spec': DataBatch(x=[141, 1039], edge_index=[2, 258], batch=[141], ptr=[13]), 'mol': tensor([[0., 0., 0.,  ..., 0., 0., 0.],\n",
      "        [0., 0., 0.,  ..., 0., 0., 0.],\n",
      "        [0., 0., 0.,  ..., 0., 0., 0.],\n",
      "        ...,\n",
      "        [0., 0., 0.,  ..., 0., 0., 0.],\n",
      "        [0., 0., 0.,  ..., 0., 0., 0.],\n",
      "        [0., 0., 0.,  ..., 0., 0., 0.]]), 'precursor_mz': tensor([949.5002, 574.2258, 269.0808, 405.2748, 589.1893, 436.1059, 324.1958,\n",
      "        216.0655, 322.1332, 469.2001, 244.0903, 850.5020]), 'adduct': ['[M+H]+', '[M+H]+', '[M+H]+', '[M+H]+', '[M+H]+', '[M+H]+', '[M+H]+', '[M+H]+', '[M+H]+', '[M+H]+', '[M+H]+', '[M+NH4]+'], 'identifier': ['0001594_0000000', '0081112_0000000', '0076845_0000000', '0081351_0000000', '0100014_0000000', '0075818_0000000', '0071113_0000000', '0084945_0000000', '0022953_0000000', '0032029_0000000', '0087941_0000000', '0006315_0000000'], 'mol_freq': tensor([2., 1., 1., 2., 1., 1., 3., 1., 1., 1., 1., 3.]), 'smiles': ['C[C@@H]1C[C@@H]([C@@]2([C@@H]([C@@]1(C)CC[C@@](C)(C=C)O[C@H]3[C@@H]([C@H]([C@H]([C@H](O3)C)O[C@H]4[C@@H]([C@@H]([C@H]([C@@H](O4)C)O)O)O)O)O)CCC=C2C)C)O[C@H]5[C@@H]([C@@H]([C@H]([C@@H](O5)C)O[C@H]6[C@@H]([C@H]([C@@H]([C@H](O6)COC(=O)C)O)O)O)O)O', 'CC(C)C1=CC=CC=C1CC2=CC(=C(C(=C2O)O)O)C(=O)NC3=CC=C(C=C3)S(=O)(=O)C4=CC=CC=C4C(C)(C)C', 'COC1=CC=CC(=C1)C2=C(C(=O)C3=CC=CC=C3O2)O', 'CCCCCCCC(=O)N[C@H](CN1CCCC1)[C@@H](C2=CC3=C(C=C2)OCCO3)O', 'CC(C)N1C=C(C(=O)N(C1=O)C2=CC=C(C=C2)F)C(=O)NC3=CC(=C(C=C3)OC4=C5C=C(C(=CC5=NC=C4)OC)OC)F', 'C1=CC=C(C(=C1)C(C2=CC(=C3C=CC=NC3=C2O)Cl)NC4=CC=CC=N4)OCC(=O)O', 'CCN1CCCC(C1)OC(=O)C(C2=CC=CC=C2)C3=CC=CC=C3', 'COC1=C2C=COC2=NC3=C1C=CC=C3O', 'CC1=NC2=C(C=CN=C2)C(=N1)N3CC(C3)CN(C)S(=O)(=O)C', 'CN1CCN(CC1)C(=O)C2CCN(CC2)C(=O)C3=CC4=C(N3CC5=CC=C(C=C5)Cl)C=CO4', 'CCCC1=NC2=C(S1)C3=CC=CC=C3N=C2N', 'CC(C)C(C(=O)OC(C)C(=O)NC(C(C)C)C(=O)OC(C(C)C)C(=O)NC(C(C)C)C(=O)OCC(CO)O)NC(=O)C(C)OC(=O)C(C(C)C)NC(=O)C(C(C)C)O'], 'candidates': tensor([[0., 0., 0.,  ..., 0., 0., 0.],\n",
      "        [1., 0., 0.,  ..., 0., 0., 0.],\n",
      "        [1., 0., 0.,  ..., 0., 0., 0.],\n",
      "        ...,\n",
      "        [0., 0., 0.,  ..., 0., 0., 0.],\n",
      "        [0., 0., 0.,  ..., 0., 0., 0.],\n",
      "        [0., 0., 0.,  ..., 0., 0., 0.]]), 'labels': tensor([ True, False, False,  ..., False, False, False]), 'batch_ptr': tensor([ 25,  80, 256, 256,  45, 256, 256, 256, 256, 256, 256,  10],\n",
      "       dtype=torch.int32), 'candidates_smiles': ['C[C@@H]1C[C@@H]([C@@]2([C@@H]([C@@]1(C)CC[C@@](C)(C=C)O[C@H]3[C@@H]([C@H]([C@H]([C@H](O3)C)O[C@H]4[C@@H]([C@@H]([C@H]([C@@H](O4)C)O)O)O)O)O)CCC=C2C)C)O[C@H]5[C@@H]([C@@H]([C@H]([C@@H](O5)C)O[C@H]6[C@@H]([C@H]([C@@H]([C@H](O6)COC(=O)C)O)O)O)O)O', 'C=C(CCC1(OC)OC2CC3C4CCC5CC(OC6OC(CO)C(O)C(O)C6OC6OC(CO)C(O)C(O)C6O)CCC5(C)C4CC(O)C3(C)C2C1C)COC1OC(CO)C(O)C(O)C1O', 'COC1(CCC(C)CO[C@@H]2O[C@H](CO)[C@@H](O)[C@H](O)[C@H]2O)OC2CC3C4CC=C5CC(O[C@@H]6O[C@H](CO)[C@H](O[C@@H]7O[C@H](CO)[C@@H](O)[C@H](O)[C@H]7O)[C@H](O)[C@H]6O)CC(O)C5(C)C4CCC3(C)C2C1C', 'CO[C@]1(CC[C@@H](C)CO[C@@H]2O[C@H](CO)[C@@H](O)[C@H](O)[C@H]2O)O[C@H]2C[C@H]3[C@@H]4CC=C5C[C@@H](O[C@@H]6O[C@H](CO)[C@@H](O)[C@H](O)[C@H]6O[C@H]6O[C@@H](C)[C@H](O)[C@@H](O)[C@H]6O)C[C@@H](O)[C@]5(C)[C@H]4[C@H](O)C[C@]3(C)[C@H]2[C@@H]1C', 'CO[C@]1(CC[C@H](C)CO[C@@H]2O[C@H](CO)[C@@H](O)[C@H](O)[C@H]2O)O[C@H]2C[C@H]3[C@@H]4CC=C5C[C@@H](O[C@@H]6O[C@H](CO)[C@H](O[C@@H]7O[C@H](CO)[C@@H](O)[C@H](O)[C@H]7O)[C@H](O)[C@H]6O)C[C@@H](O)[C@]5(C)[C@H]4CC[C@]3(C)[C@H]2[C@@H]1C', 'C=C[C@](C)(CC[C@]1(C)[C@@H](C)C[C@H](O[C@@H]2O[C@@H](C)[C@H](O[C@@H]3O[C@H](COC(C)=O)[C@@H](O)[C@H](O)[C@H]3O)[C@@H](O)[C@H]2O)[C@]2(C)C(C)=CCC[C@@H]12)O[C@@H]1O[C@H](C)[C@H](O)[C@H](O[C@@H]2O[C@@H](C)[C@H](O)[C@@H](O)[C@H]2O)[C@H]1O', 'CO[C@]1(CC[C@H](C)CO[C@H]2O[C@@H](CO)[C@H](O)[C@@H](O)[C@@H]2O)O[C@H]2C[C@]3(O)[C@H]4CC=C5C[C@@H](O[C@H]6O[C@@H](CO)[C@H](O[C@H]7O[C@@H](CO)[C@H](O)[C@@H](O)[C@@H]7O)[C@@H](O)[C@@H]6O)CC[C@]5(C)[C@H]4CC[C@@]3(C)[C@H]2[C@@H]1C', 'CO[C@]1(CC[C@H](C)CO[C@@H]2O[C@H](CO)[C@@H](O)[C@H](O)[C@H]2O)O[C@H]2C[C@H]3[C@@H]4CC=C5C[C@@H](O[C@@H]6O[C@H](CO)[C@H](O[C@@H]7O[C@H](CO)[C@@H](O)[C@H](O)[C@H]7O)[C@H](O)[C@H]6O)[C@H](O)C[C@]5(C)[C@H]4CC[C@]3(C)[C@H]2[C@@H]1C', 'COC1(CCC(C)COC2OC(CO)C(O)C(O)C2O)OC2CC3C4CC=C5CC(OC6OC(CO)C(O)C(O)C6OC6OC(C)C(O)C(O)C6O)CC(O)C5(C)C4C(O)CC3(C)C2C1C', 'COC1(CCC(C)CO[C@@H]2O[C@H](CO)[C@@H](O)[C@H](O)[C@H]2O)OC2CC3C4CC=C5CC(O[C@@H]6O[C@H](CO)[C@H](O[C@@H]7O[C@H](CO)[C@@H](O)[C@@H](O)[C@H]7O)[C@@H](O)[C@H]6O)CC(O)C5(C)C4CCC3(C)C2C1C', 'COC1(CCC(C)COC2OC(CO)C(O)C(O)C2O)OC2CC3C4CC=C5CC(OC6OC(CO)C(OC7OC(CO)C(O)C(O)C7O)C(O)C6O)C(O)CC5(C)C4CCC3(C)C2C1C', 'CO[C@@]1(CC[C@@H](C)CO[C@@H]2O[C@H](CO)[C@@H](O)[C@H](O)[C@H]2O)O[C@H]2C[C@@]3(O)[C@@H]4CC=C5C[C@@H](O[C@@H]6O[C@H](CO)[C@H](O[C@@H]7O[C@H](CO)[C@@H](O)[C@H](O)[C@H]7O)[C@H](O)[C@H]6O)CC[C@]5(C)[C@H]4CC[C@]3(C)[C@H]2[C@@H]1C', 'CO[C@]1(CCC(C)CO[C@@H]2O[C@H](CO)[C@@H](O)[C@H](O)[C@H]2O)O[C@H]2C[C@H]3[C@@H]4CC=C5C[C@@H](O[C@@H]6O[C@H](CO)[C@H](O[C@@H]7O[C@H](CO)[C@@H](O)[C@H](O)[C@H]7O)[C@H](O)[C@H]6O)[C@H](O)C[C@]5(C)[C@H]4CC[C@]3(C)[C@H]2[C@@H]1C', 'C=C(CC[C@@]1(OC)O[C@H]2C[C@H]3[C@@H]4CC[C@@H]5C[C@@H](O[C@@H]6O[C@H](CO)[C@H](O)[C@H](O)[C@H]6O[C@@H]6O[C@H](CO)[C@@H](O)[C@H](O)[C@H]6O)CC[C@]5(C)[C@H]4C[C@@H](O)[C@]3(C)[C@H]2[C@@H]1C)CO[C@@H]1O[C@H](CO)[C@@H](O)[C@H](O)[C@H]1O', 'CCCCCCCCCCCCCCCCOC[C@H](CO[C@@H]1O[C@H](COC(C)=O)[C@@H](O[C@H]2O[C@H](COC(C)=O)[C@@H](OC(C)=O)[C@H](OC(C)=O)[C@H]2OC(C)=O)[C@H](OC(C)=O)[C@H]1OC(C)=O)OC', 'C=CC(C)(CCC1(C)C(C)CC(OC2OC(C)C(OC3OC(COC(C)=O)C(O)C(O)C3O)C(O)C2O)C2(C)C(C)=CCCC12)OC1OC(C)C(O)C(OC2OC(C)C(O)C(O)C2O)C1O', 'CO[C@@H]1[C@@H](O)[C@H]([C@H]2CC[C@@]3(C)C(=CC[C@@H]4[C@@H]3CC[C@]3(C)[C@@H]([C@@H](C)[C@@H]5O[C@H](CO)[C@@H](O)[C@H](O)[C@H]5O)CC[C@]43O)C2)O[C@H](C)[C@@H]1O[C@@H]1O[C@H](CO[C@@H]2O[C@H](CO)[C@@H](O)[C@H](O)[C@H]2O)[C@@H](O)[C@H](O)[C@H]1O', 'C=C(CCC1(OC)O[C@H]2C[C@H]3[C@@H]4CC[C@@H]5C[C@@H](O[C@@H]6O[C@H](CO)[C@H](O)[C@H](O)[C@H]6O[C@@H]6O[C@H](CO)[C@@H](O)[C@H](O)[C@H]6O)CC[C@]5(C)[C@H]4C[C@@H](O)[C@]3(C)[C@H]2[C@@H]1C)CO[C@@H]1O[C@H](CO)[C@@H](O)[C@H](O)[C@H]1O', 'CC(=O)OC[C@H]1O[C@@H](O[C@H]2[C@H](OC(C)CCCCCC/C=C\\\\CCCCCCCC(=O)OC[C@H]3O[C@@H]4OC(C)(C)O[C@@H]4[C@H]4OC(C)(C)O[C@H]43)O[C@H](COC(C)=O)[C@@H](O)[C@@H]2O)[C@H](O)[C@@H](O)[C@@H]1O', 'C=C(CC[C@@]1(OC)O[C@H]2C[C@H]3[C@@H]4CC[C@H]5C[C@@H](O[C@H]6O[C@@H](CO)[C@H](O)[C@@H](O)[C@@H]6O[C@H]6O[C@@H](CO)[C@H](O)[C@@H](O)[C@@H]6O)CC[C@]5(C)[C@H]4C[C@H](O)[C@@]3(C)[C@H]2[C@@H]1C)CO[C@H]1O[C@@H](CO)[C@H](O)[C@@H](O)[C@@H]1O', 'CC(C)=C(C)CC(O)C(C)C1CCC2C3C4OC4C4(O)CC(OC5OC(CO)C(OC6OC(CO)C(OC7OC(CO)C(O)C(O)C7O)C(O)C6O)C(O)C5O)CC(O)C4(C)C3CCC12C', 'COC1(CCC(C)COC2OC(CO)C(O)C(O)C2O)OC2CC3C4CC=C5CC(OC6OC(CO)C(OC7OC(CO)C(O)C(O)C7O)C(O)C6O)CC(O)C5(C)C4CCC3(C)C2C1C', 'COC1(CCC(C)COC2OC(CO)C(O)C(O)C2O)OC2CC3(O)C4CC=C5CC(OC6OC(CO)C(OC7OC(CO)C(O)C(O)C7O)C(O)C6O)CCC5(C)C4CCC3(C)C2C1C', 'CCCCCCCCCCCCCCCCOC[C@H](CO[C@@H]1O[C@H](COC(C)=O)[C@@H](O[C@@H]2O[C@H](COC(C)=O)[C@H](OC(C)=O)[C@H](OC(C)=O)[C@H]2OC(C)=O)[C@H](OC(C)=O)[C@H]1OC(C)=O)OC', 'C=C1C[C@@]23CC[C@@H]4[C@](C)([C@@H](C)O[C@@H]5O[C@H](CO)[C@@H](O)[C@H](O)[C@H]5OC5C[C@@H](C)[C@H](O)[C@@H](O)[C@H]5O)CCC[C@@]4(C)C2CC[C@]1(O[C@@H]1O[C@H](CO)[C@@H](O)[C@H](O)[C@H]1O[C@@H]1O[C@H](CO)[C@@H](O)[C@H](O)[C@H]1O)C3', 'CC(C)C1=CC=CC=C1CC2=CC(=C(C(=C2O)O)O)C(=O)NC3=CC=C(C=C3)S(=O)(=O)C4=CC=CC=C4C(C)(C)C', 'COc1ccc(CN2C[C@H](COCc3ccccc3)Oc3cccc(Oc4ccc(C(C)C)cc4)c3S2(=O)=O)cc1', 'COCC1=C([C@H](O)CC/C(=C/c2cccc(O)c2)c2ccccc2)[C@H](CO)[C@@H]2C(=O)N(Cc3cccs3)C(=O)[C@@H]2C1', 'COC(=O)CCCOc1ccc(-c2sc3ccccc3c2C(O)c2ccc(OCCN3CCCC3)cc2)cc1C=O', 'COc1ccc(C(O[C@@H]2CN(Cc3ccccc3)C[C@H]2OS(C)(=O)=O)(c2ccccc2)c2ccc(OC)cc2)cc1', 'Cc1cc(OCC=C(c2ccc(C#CCN3CCC(O)CC3)cc2)c2ccc(S(C)=O)cc2)ccc1OCC(=O)O', 'Cc1cc(NS(=O)(=O)c2ccc3ccccc3c2)c(C)c(C(OC(C)(C)C)C(=O)O)c1-c1ccc2c(c1)CCCO2', 'CCO[C@H](COS(=O)(=O)c1ccc(C)cc1)Cc1ccc(OCCn2c(C)ccc2-c2cc3ccccc3o2)cc1', 'O=C(O)C1CCC(C(=O)N2CC[C@@]3(S(=O)(=O)c4ccccc4)c4ccc(OCc5ccccc5)cc4CC[C@@H]23)CC1', 'CC#C[C@@H](CC(=O)OC)c1ccc(OCc2ccc3c(c2)-c2ccc(OC4CCS(=O)(=O)CC4)nc2CCC3)cc1', 'C[C@]12CC[C@@H]3c4ccc(OC(=O)c5ccc(S(N)(=O)=O)cc5)cc4CC[C@@]3(C)[C@@H]1CC[C@@H]2OC(=O)c1ccccc1', 'CC(C)(C)c1ccc(C2C(C(=O)c3cccs3)C(c3ccc4c(c3)OCO4)N(C(=O)C3CCC3)C2(C)C(=O)O)cc1', 'COc1ccc(C2Cc3ccc(OC)c(OCc4ccccc4)c3CN2S(=O)(=O)c2ccc(C)cc2)c(C)c1OC', 'C/C(=C\\\\c1ccccc1O)CC[C@@H](O)C1=C(COc2ccccc2)C[C@H]2C(=O)N(Cc3cccs3)C(=O)[C@H]2[C@H]1CO', 'C=CCOC(=O)N1CC(SC(c2ccccc2)(c2ccccc2)c2ccccc2)CC1C(CC(=O)OCC)C(=O)O', 'CC(C)(C)OC(=O)NC(C(=O)O)[C@@H](CO[C@H]1C=CC=CO1)SC(c1ccccc1)(c1ccccc1)c1ccccc1', 'Cc1c(-c2c(C(OC(C)(C)C)C(=O)O)n(C)c(=O)c3cc(OCC4=CC=CCC4=S)ccc23)ccc2c1CCCO2', 'COc1cc([O-])c(Cc2ccccc2)cc1S(=O)(=O)O.Cc1ccc(C(=O)[N+]2(c3ccccc3)CCCCC2)cc1', 'C[C@]12CC[C@@H]3c4ccc(OC(=O)c5ccccc5)cc4CC[C@@]3(C)[C@@H]1CC[C@@H]2OC(=O)c1ccc(S(N)(=O)=O)cc1', 'CC(C)c1ccccc1Cc1cc(C(=O)Nc2cccc(S(=O)(=O)c3ccccc3C(C)(C)C)c2)c(O)c(O)c1O', 'COC(OC)(C(=O)c1ccc(Sc2ccc(C(=O)/C(CC3CCCCC3)=N/OC(C)=O)cc2)cc1)c1ccccc1', 'CC#C[C@@H](CC(=O)O)c1ccc(OCc2ccc3c(c2)-c2ccc(OCC4CCS(=O)(=O)CC4)nc2CCC3)cc1', 'COC(OC)(OC(c1ccccc1)(c1ccccc1)c1ccccc1)C1CC(O)CN1S(=O)(=O)c1ccc(C)cc1', 'COc1cccc([C@H]2C[C@@]3(C)[C@@H](CC[C@@]3(O)C#Cc3ccc(NS(=O)(=O)O)cc3)[C@@H]3CCC4=CC(=O)CCC4=C32)c1', 'COc1cc(C)cc(OC)c1CC(C1CCN(c2ccc(C(=O)O)cc2)CC1)S(=O)(=O)c1ccc2ccccc2c1', 'C[C@]12CC[C@@H]3c4ccc(OC(=O)c5cccc(S(N)(=O)=O)c5)cc4CC[C@@]3(C)[C@@H]1CC[C@@H]2OC(=O)c1ccccc1', 'COC(=O)/C(NS(=O)(=O)c1ccc(C)cc1)=C1\\\\C=C[C@](Cc2ccccc2)(C(=O)OC(C)(C)C)[C@H]1c1ccccc1', 'CCC(Oc1c(-c2ccc(C(C)(C)C)cc2)oc2ccccc2c1=O)C(=O)Nc1sc2c(c1C(=O)OC)CCCC2', 'COC(=O)c1ccc2c(C3CCCCC3)c3n(c2c1)C[C@@H](COS(=O)(=O)c1ccc(C)cc1)COc1ccccc1-3', 'CC(C)c1ccccc1Cc1cc(C(=O)Nc2ccccc2S(=O)(=O)c2ccccc2C(C)(C)C)c(O)c(O)c1O', 'CC(C)c1ccccc1Cc1c(O)c(O)c(O)c(C(N)=O)c1-c1ccc(S(=O)(=O)c2ccccc2C(C)(C)C)cc1', 'O=S(=O)(Cc1ccccc1)N[C@@H]1O[C@H](COCc2ccccc2)[C@@H](OCc2ccccc2)[C@H]1OCc1ccccc1', 'CCOC(=O)COc1cccc(CC(SC(C)C(=O)OCC)c2cccc(OCc3ccc4ccccc4n3)c2)c1', 'COC(=O)C(CCSC)NC(=O)c1ccc(COCc2ccc(-c3ccccc3OC)o2)cc1-c1ccccc1C', 'COc1c(C)cc2c(c1OCc1ccccc1)[C@H](COCc1ccccc1)N(S(=O)(=O)c1ccc(C)cc1)[C@@H](O)C2', 'C=CCOC(=O)N1C[C@@H](SC(c2ccccc2)(c2ccccc2)c2ccccc2)C[C@H]1C(CC(=O)OCC)C(=O)O', 'COc1cc(C)cc(-c2ccc(OC)c(S(=O)(=O)Cc3cccc(CCCNC(=O)c4ccccc4OC)c3)c2)c1', 'O=C(O)N1CCC(c2ccc(OCCCC3(c4ccccc4)OCCO3)cc2)C(OCc2ccc3sccc3c2)C1', 'COc1ccc(-c2cc3c(n2S(=O)(=O)c2ccc(C)cc2)[C@H](O)[C@H]2[C@@H](c4ccc(OC)cc4)C[C@H]3[C@]2(C)OC)cc1', 'COC(=O)CCCOc1ccc(-c2sc3ccc(OC)cc3c2C(=O)c2ccc(CN3CCCC3)c(OC)c2)cc1', 'COC(=O)c1ccc2c(C3CCCCC3)c3n(c2c1)CC(COS(=O)(=O)c1ccc(C)cc1)COc1ccccc1-3', 'CCCCCCc1cc2c3c(c(=O)oc2cc1OC(=O)[C@@H](NS(=O)(=O)c1ccc(C)cc1)c1ccccc1)CCC3', 'Cc1cc(C)c(OCCCCOc2ccc(C=Cc3cccc4c(SCC(=O)O)cn(CC(=O)O)c34)cc2)c(C)c1', 'COC(OC)(C(=O)c1ccc(Sc2ccc(C(=O)/C(CC3CCCCC3)=N\\\\OC(C)=O)cc2)cc1)c1ccccc1', 'CC(C)(C1=CC2(S(C)(=O)=O)OCOC2(OCc2ccccc2)C=C1)N(CC(=O)c1ccccc1)Cc1ccccc1', 'CCSCC(OCc1ccc(C(=O)NC(CCO)C(=O)O)c(-c2ccccc2C)c1)c1ccc(-c2ccccc2)o1', 'CC(C)COC(=O)Oc1ccc2c(C(=O)c3ccc(OCCN4CCC(C)C4)cc3)c(-c3ccc(O)cc3)sc2c1', 'Cc1cc(NS(=O)(=O)c2cccc3ccccc23)c(C)c(C(OC(C)(C)C)C(=O)O)c1-c1ccc2c(c1)CCCO2', 'C/C(=C\\\\c1ccc(O)cc1)CC[C@@H](O)C1=C(COc2ccccc2)C[C@H]2C(=O)N(Cc3cccs3)C(=O)[C@H]2[C@H]1CO', 'COc1ccc2c3c1OC1C(=O)CCC4(OS(=O)OCCCc5ccc(-c6ccccc6)cc5)C(C2)C(N)CCC314', 'CC(C)c1c(C(O)(O)NC(=O)c2ccccc2)ccc(-c2ccc(S(=O)(=O)c3ccccc3C(C)(C)C)cc2)c1O', 'CCOC(=O)c1ccc2c(C(=O)c3ccc(OCCN4CCCCC4)cc3)c(-c3ccc(OC)c(OC)c3)sc2c1', 'CCOc1cc(C)ccc1S(=O)(=O)OCCCc1ccc(OCCn2c(C)ccc2-c2cc3ccccc3o2)cc1', 'CCCCCCc1cc2c3c(c(=O)oc2cc1OC(=O)C(NS(=O)(=O)c1ccc(C)cc1)c1ccccc1)CCC3', 'C[C@]12CC[C@@H]3c4ccc(OC(=O)c5ccccc5)cc4CC[C@@]3(C)[C@@H]1CC[C@@H]2OC(=O)c1cccc(S(N)(=O)=O)c1', 'COc1cc(C(=O)CS(=O)(=O)c2ccccc2C)ccc1Cc1cn(C)c2ccc(CC(=O)OC3CCCC3)cc12', 'COc1ccccc1C(OCC1CC(O)CN1S(=O)(=O)c1ccccc1C)(c1ccccc1)c1ccccc1OC', 'CC(=O)Oc1ccc(C(c2ccc(OC(C)=O)cc2)c2ccccc2S(=O)(=O)NC2C3CC4CC(C3)CC2C4)cc1', 'COCC1=C([C@H](O)CC/C(=C/c2ccccc2O)c2ccccc2)[C@H](CO)[C@@H]2C(=O)N(Cc3cccs3)C(=O)[C@@H]2C1', 'COCC1=C([C@H](O)CC/C(=C/c2ccc(O)cc2)c2ccccc2)[C@H](CO)[C@@H]2C(=O)N(Cc3cccs3)C(=O)[C@@H]2C1', 'COC(=O)c1c(NC(=O)COc2c(-c3ccc(C(C)(C)C)cc3)oc3cc(C)c(C)cc3c2=O)sc2c1CCCC2', 'COC(=O)CCCC(O)C(Sc1ccc2cc(C(=O)OC)c(OC)nc2c1)c1ccc(CCc2ccccc2)cc1', 'O=S(=O)(Cc1ccccc1)N[C@H]1O[C@H](COCc2ccccc2)[C@@H](OCc2ccccc2)[C@H]1OCc1ccccc1', 'C[C@H]1C=C2C(=O)C=C3C4=C(C5=C(CCC5)C4)N(Cc4ccccc4)O[C@]3(C(=O)CSC3CCOC3=O)[C@@]2(C)C[C@@H]1O', 'CC/C(=C\\\\c1ccc(CO)o1)CC[C@H]1OC[C@H]2C1=C(COc1ccccc1)C[C@H]1C(=O)N(Cc3cccs3)C(=O)[C@H]12', 'Cc1cc(OC/C=C(\\\\c2ccc(C#CCN3CCC(O)CC3)cc2)c2ccc(S(C)=O)cc2)ccc1OCC(=O)O', 'CCCCCCc1cc2c3c(c(=O)oc2cc1OC(=O)[C@H](NS(=O)(=O)c1ccc(C)cc1)c1ccccc1)CCC3', 'C/C(=C\\\\c1cccc(O)c1)CC[C@@H](O)C1=C(COc2ccccc2)C[C@H]2C(=O)N(Cc3cccs3)C(=O)[C@H]2[C@H]1CO', 'COc1ccc(SCCC(=O)NOC(c2ccc(OCc3ccc(C)cc3)cc2)c2ccc(OC)cc2OC)cc1', 'C#CC1(CC(=O)C2(NC(=O)c3cc4ccc(-c5ccc(C6(O)CCS(=O)(=O)CC6)cc5)cc4o3)CCCCC2)CC1', 'COc1cccc(C(OCC2CC(O)CN2S(=O)(=O)Cc2ccccc2)(c2ccccc2)c2ccccc2)c1OC', 'CC#CC(CC(=O)OC)c1ccc(OCc2ccc3c(c2)-c2ccc(OC4CCS(=O)(=O)CC4)nc2CCC3)cc1', 'COc1cc([O-])c(C(=O)c2ccccc2)cc1S(=O)(=O)O.Cc1ccc(C[N+]2(c3ccccc3)CCCCC2)cc1', 'CCOC(=O)c1c(NC(=O)C(C)Oc2c(-c3ccc(C(C)(C)C)cc3)oc3ccccc3c2=O)sc2c1CCCC2', 'COc1c(C)ccc(C(COCc2ccccc2)N(CC=O)S(=O)(=O)c2ccc(C)cc2)c1OCc1ccccc1', 'CC(C)COC(=O)Oc1ccc2c(C(=O)c3ccc(OCCN4CCCCC4)cc3)c(-c3ccc(O)cc3)sc2c1', 'Cc1cc(C)c(OCCCCOc2ccc(/C=C/c3cccc4c(SCC(=O)O)cn(CC(=O)O)c34)cc2)c(C)c1', 'C=CCOC(=O)N1C[C@@H](SC(c2ccccc2)(c2ccccc2)c2ccccc2)C[C@@H]1CC(C(=O)OC)C(=O)OC', 'CCOC(=O)CCSC(Cc1cccc(OCC(=O)OCC)c1)c1cccc(OCc2ccc3ccccc3n2)c1', 'COc1cc(O)c(C(=O)c2ccccc2)cc1S(=O)(=O)[O-].Cc1ccc(C[N+]2(c3ccccc3)CCCCC2)cc1', 'COC1=CC=CC(=C1)C2=C(C(=O)C3=CC=CC=C3O2)O', 'CCOc1ccc2c(c1O)C(=O)c1ccccc1C2=O', 'C=CC(=O)Oc1ccccc1OC(=O)c1ccccc1', 'O=C(O)c1ccc(C=Cc2ccccc2)cc1C(=O)O', 'OC(c1ccc2c(c1)OCO2)c1cc2ccccc2o1', 'O=C(O)C1=COC(c2cccc(-c3ccccc3)c2)O1', 'OC1=CC(O)=C2C=Cc3c(O)cc(O)c4c3C2C1=CC4', 'COc1c(-c2ccccc2)oc2ccc(O)cc2c1=O', 'O=C(O)C1=C(C(=O)O)c2ccc3ccccc3c2CC1', 'C#CC(C)(C)Oc1c2occc2cc2ccc(=O)oc12', 'COc1ccc(-c2cc(=O)c3ccccc3o2)cc1O', 'O=C(O)C(C#Cc1ccccc1)Oc1ccc(O)cc1', 'O=C(O)c1oc2ccccc2c1COc1ccccc1', 'O=C1C(c2ccccc2)Oc2cccc3c2C1OCO3', 'Cc1ccc2c(=O)c(O)c(-c3cccc(O)c3)oc2c1', 'O=C1c2ccccc2C(=O)c2c(OCCO)cccc21', 'C=C(C(=O)O)c1ccc(C(=C)C(=O)O)c2ccccc12', 'Oc1ccc(O)c(-c2ccc3cc(O)ccc3c2O)c1', 'COC(=O)c1oc2ccc(-c3ccccc3)cc2c1O', 'COc1cccc(O)c1-c1cc(=O)c2ccccc2o1', 'O=C(c1ccco1)c1ccccc1[C@H](O)c1ccco1', 'Cc1cccc2c1ccc1c3c(c(=O)oc12)C(O)CO3', 'O=C(c1ccco1)C(O)(c1ccccc1)c1ccco1', 'O=C(c1ccccc1)[C@@H]1O[C@H]1c1ccc2c(c1)OCO2', 'O=COC(C(=O)c1ccccc1)C(=O)c1ccccc1', 'COc1ccccc1/C=C1\\\\OC2=CC=CC(=O)C2C1=O', 'O=C(O)c1cccc(/C=C\\\\c2cccc(C(=O)O)c2)c1', 'COc1ccc(C(=O)C2Oc3ccccc3C2=O)cc1', 'O=C1CC(c2ccccc2)c2ccccc2O1.O=C=O', 'O=C1CCC(=O)Oc2c(cccc2-c2ccccc2)O1', 'CC(=O)Oc1cc(C)cc2oc3ccccc3c(=O)c12', 'O=C1/C(=C/c2ccc(O)c(O)c2)Cc2ccc(O)cc21', 'COc1cc(O)cc2oc(-c3ccccc3)cc(=O)c12', 'COc1c(CO)ccc2c1C(=O)c1ccccc1C2=O', 'Cc1ccccc1C(=O)Oc1ccccc1C(=O)C=O', 'C=C(C(=O)O)C(=O)c1ccc(Oc2ccccc2)cc1', 'CC(=O)c1c2c(O)cccc2cc2ccc(O)c(O)c12', 'Cc1cc(O)cc2c3c(oc12)-c1ccc(O)cc1OC3', 'O=C(O)c1ccc2c(c1C(=O)O)[C@H]1C=C[C@@H]3C=C[C@@H]2[C@H]31', 'COc1cc2c3c(c1)oc(=O)c1cc(O)cc(c13)CC2', 'CCC(=O)c1c(O)ccc2c(=O)c3ccccc3oc12', 'Oc1cccc(OOc2cccc3c(O)cccc23)c1', 'C=CC(=O)Oc1ccc(-c2ccc(C(=O)O)cc2)cc1', 'CC1C=Cc2c(oc(=O)c3ccccc3c2=O)C(O)=C1', 'COc1cccc(-c2c(O)c3ccccc3oc2=O)c1', 'COc1ccc2c(c1)OC(=Cc1cccc(O)c1)C2=O', 'CCOC(=O)C#Cc1cccc2c(C(=O)O)cccc12', 'COc1cccc(C=C2Oc3cc(O)ccc3C2=O)c1', 'C=CC(=O)Oc1ccccc1C(=O)Oc1ccccc1', 'O=C(O)/C(C(=O)c1ccccc1)=C(\\\\O)c1ccccc1', 'O=C(O)c1ccc(OCc2cc3ccccc3o2)cc1', 'O=C(O)c1cccc(O)c1C(=O)/C=C/c1ccccc1', 'Oc1ccc(Cc2cc3cc4c(cc3o2)OCO4)cc1', 'O=C(O)c1cc2c(c3ccccc13)CC=CC2C(=O)O', 'Cc1cccc2oc3c(CC(=O)O)cccc3c(=O)c12', 'O=C1O[C@H]([C@]2(O)OCc3ccccc32)c2ccccc21', 'CC(=O)COc1cc(=O)oc2c1ccc1ccccc12', 'O=C1C=CC2=C3c4ccc(O)cc4CC3(O)COC2=C1', 'CC(=O)Oc1cccc2c1C(=O)/C(=C/c1ccco1)C2', 'O=c1cc(-c2ccc(O)cc2)oc2ccc(CO)cc12', 'O=C(/C=C/c1ccccc1)c1ccc(O)c(C(=O)O)c1', 'COc1ccc2c(c1)C(=O)c1cc(C)cc(O)c1C2=O', 'O=C(O)c1cccc2c1C(=O)CC(c1ccccc1)O2', 'O=C(O)C(=Cc1ccc(C(=O)O)cc1)c1ccccc1', 'C=C(C(=O)O)c1ccc(-c2ccc(C(=O)O)cc2)cc1', 'O=C(O)CC(=O)C1c2ccccc2Oc2ccccc21', 'O=c1ccc2ccc(OCc3ccccc3)c(O)c2o1', 'O=C1OC(c2ccccc2)C(C(=O)O)c2ccccc21', 'O=C(O)C1C(=O)c2cc(O)ccc2C1c1ccccc1', 'CC(=O)COc1ccc2c(=O)c3ccccc3oc2c1', 'O=C1c2ccccc2[C@H](O)[C@]12O[C@@H](O)c1ccccc12', 'O=C(/C=C/c1ccc2c(c1O)OCO2)c1ccccc1', 'O=C(C=Cc1cccc(O)c1)c1ccc2c(c1)OCO2', 'COc1cccc(C(=O)c2c(O)oc3ccccc23)c1', 'COc1ccccc1C=C1C=CC=C2C(=O)OC(=O)C21', 'O=Cc1ccc(C=O)cc1.O=Cc1ccc(C=O)cc1', 'O=c1oc2cccc(O)c2cc1Cc1ccc(O)cc1', 'COc1ccc2c(c1)O[C@H]1C2=COc2cc(O)ccc21', 'O=c1oc2cc(O)ccc2c(O)c1Cc1ccccc1', 'C/C(=C\\\\c1cc2c(c(=O)o1)C(=O)CO2)c1ccccc1', 'COc1ccccc1Oc1cc(=O)c2ccccc2o1', 'O=C(O)c1ccc(/C=C/C(=O)c2ccccc2O)cc1', 'C=CC(=O)Oc1c(O)cccc1C(=O)c1ccccc1', 'COC(=O)C1=CC2C3C(=O)c4ccccc4C(=O)C3C12', 'Cc1ccc2c(=O)c3cccc(CC(=O)O)c3oc2c1', 'O=C(O)c1ccoc1COc1cccc2ccccc12', 'COc1ccccc1-c1cc2cc(O)ccc2oc1=O', 'COC(=O)c1cccc2oc3ccc(C)cc3c(=O)c12', 'O=C1CC[C@@H](c2coc3ccc4ccoc4c23)C(=O)C1', 'O=C1c2ccc(CO)cc2C(=O)c2ccc(CO)cc21', 'O=C(O)/C(=C\\\\c1ccc2c(c1)OCO2)c1ccccc1', 'O=C(C=C(O)c1ccccc1)C(=O)Oc1ccccc1', 'O=C1C=CC2=C3c4cccc(O)c4OCC3(O)CC2=C1', 'COc1cccc(C(=O)c2coc3ccc(O)cc23)c1', 'CCOC(=O)c1ccc2c(c1)oc(=O)c1ccccc12', 'CC(=O)c1cc2c(oc(=O)c3ccccc32)c(C)c1O', 'COC(=O)C(=O)c1ccccc1C(=O)c1ccccc1', 'COc1ccc(C=C2OC(=O)c3ccccc32)cc1O', 'COc1ccc2c(c1)O/C(=C/c1ccccc1O)C2=O', 'O=CCC(C(=O)O)c1cccc2oc3ccccc3c12', 'Cc1ccc(C2(O)C(=O)c3ccccc3C2=O)cc1O', 'O=C(O)c1ccc(C=CC(=O)c2ccc(O)cc2)cc1', 'O=C(O)c1ccc(/C=C\\\\c2ccccc2)cc1C(=O)O', 'O=C(O)C=Cc1ccc2cccc(C=CC(=O)O)c2c1', 'O=C(CO)c1ccc2cc(-c3cccc(O)c3)oc2c1', 'COC(=O)c1ccc(-c2ccccc2-c2ccco2)o1', 'O=C(O)c1c2ccccc2c(C(O)O)c2ccccc12', 'CC(=C1Oc2c(ccc(O)c2O)C1=O)c1ccccc1', 'CC(=O)OC(=O)c1ccccc1C(=O)c1ccccc1', 'C#Cc1cc(O)ccc1O.C#Cc1cc(O)ccc1O', 'O=C(O)C(=C(C(=O)O)c1ccccc1)c1ccccc1', 'O=C(O)C(=O)[C@H]1CCc2c(ccc3ccccc23)C1=O', 'O=C(O)c1cc2ccccc2cc1OCc1ccoc1', 'COc1ccc2c(c1)C(=O)c1cc(CO)ccc1C2=O', 'O=C1c2ccccc2OC2OCOC12c1ccccc1', 'O=C(O)/C=C/c1ccc2ccccc2c1/C=C/C(=O)O', 'COc1cc(C(=O)O)ccc1C#Cc1ccc(O)cc1', 'COc1cc2c(-c3ccccc3)cc(=O)oc2cc1O', 'O=C1/C(=C/c2ccc(O)cc2)COc2ccc(O)cc21', 'COC(=O)c1cc(-c2ccoc2)c2ccc(O)cc2c1', 'O=c1cc(Cc2ccc(O)cc2)oc2ccc(O)cc12', 'OC1=C2C=CCc3c(O)c(O)c4cccc(c4c32)C1O', 'Cc1cccc(Oc2ccc3c(c2)C(=O)OC3=O)c1C', 'O=C(O)C(O)c1cccc2c1ccc1cccc(O)c12', 'COc1cc2c(cc1OC)-c1ccccc1C(=O)C2=O', 'O=C(c1ccc2c(c1)OCO2)[C@@H]1O[C@@H]1c1ccccc1', 'O=C(O)c1ccccc1C(=O)C=Cc1cccc(O)c1', 'O=C1OC(C(=O)Oc2ccccc2)Cc2ccccc21', 'O=C1O[C@@H](c2ccccc2)c2cc3c(cc21)OCCO3', 'O=C(O)C=Cc1ccccc1-c1ccccc1C(=O)O', 'COC(=O)C1(c2ccccc2)C(=O)Oc2ccccc21', 'O=Cc1cccc(-c2cccc(=C/O)/c2=C/O)c1C=O', 'Cc1ccc(-c2cc3c(O)cc(O)cc3oc2=O)cc1', 'COc1cc(O)c2c(=O)oc(-c3ccccc3)cc2c1', 'COc1ccc(C#CC(=O)Oc2ccc(O)cc2)cc1', 'Cc1ccccc1-c1cc(=O)c2c(o1)CC(=O)C=C2O', 'O=C1OC(=O)c2ccc(C=CCCO)c3cccc1c23', 'O=C(CC(=O)c1ccc2cc1OCO2)c1ccccc1', 'O=c1c(OCO)c(-c2ccccc2)oc2ccccc12', 'O=C(O)c1ccccc1C(=O)/C=C/c1ccccc1O', 'CC1=Cc2occ(C(O)c3ccccc3)c2C(=O)C1=O', 'O=C1C=CC(=O)C2=C1CC1(CCc3ccccc3O1)O2', 'O=C(O)C(=O)O.c1ccc2cc3ccccc3cc2c1', 'O=C1C=CC(=O)C1C1=CC(C2C(=O)C=CC2=O)CC=C1', 'O=C1O[C@H]([C@@]2(O)OCc3ccccc32)c2ccccc21', 'Cc1ccc2oc(=O)c3c4c(c(=O)oc3c2c1)CCC4', 'Cc1cc2oc(-c3ccccc3)cc(=O)c2c(O)c1O', 'O=C1C(O)=C(c2ccccc2)OC1(O)c1ccccc1', 'CC(C)C(=O)c1cc2c(o1)C(=O)c1ccccc1C2=O', 'C1=C(C2COc3ccccc3O2)Oc2ccccc2O1', 'O=c1oc2ccccc2cc1-c1cccc(C(O)O)c1', 'COC(=O)c1ccc(C2OC(=O)c3ccccc32)cc1', 'COc1cc(O)cc2c1C(=O)c1ccc(C)cc1C2=O', 'O=C(O)C1=CO[C@H](c2cccc(-c3ccccc3)c2)O1', 'OCOC1=C(OCO)c2ccc3c4c(ccc1c24)C=C3', 'COc1cccc2oc(-c3ccc(O)cc3)cc(=O)c12', 'CCOC(=O)C(=O)C1C(=O)c2cccc3cccc1c23', 'Cc1ccc2c3c1C(=O)c1ccccc1C3(O)OCO2', 'Cc1cc(O)c(O)c2c1CC(=O)c1ccccc1C2=O', 'COC(=O)c1ccc2c(c1)=c1cc(C(=O)OC)ccc1=2', 'c1c2c(cc3c1OCO3)Cc1cc3c(cc1C2)OCO3', 'Cc1coc2ccc(C(=O)/C=C/c3ccco3)c(O)c12', 'O=C(O)c1coc(COc2ccc3ccccc3c2)c1', 'O=C1/C(=C/c2ccc(O)c(O)c2)Cc2cc(O)ccc21', 'COc1c2c(cc3ccc4cc(O)ccc4c13)OCO2', 'O=C(O)c1c(-c2ccc(CO)cc2)oc2ccccc12', 'Cc1cc2ccc1OC(=O)c1ccc(cc1C)C(=O)O2', 'Cc1c(-c2ccc(O)cc2)oc2ccc(O)cc2c1=O', 'O=C(O)c1cccc(/C=C/c2ccccc2)c1C(=O)O', 'O=C1OCc2ccc(cc2)COC(=O)c2ccc1cc2', 'COc1cc2oc(=O)cc(-c3ccccc3)c2cc1O', 'C[C@@]1(C(=O)Oc2ccccc2)C(=O)Oc2ccccc21', 'O=CC(=O)OC(C(=O)c1ccccc1)c1ccccc1', 'O=C1c2ccccc2C(=O)c2cc(CO)c(CO)cc21', 'O=C(C[C@H]1OC(=O)c2ccccc21)c1cccc(O)c1', 'Oc1ccc2cc(-c3ccc(O)c(O)c3O)ccc2c1', 'O=C(O)C(=O)/C=C(\\\\O)c1cccc(-c2ccccc2)c1', 'O=C(O)COc1ccccc1-c1cc2ccccc2o1', 'O=C(/C=C/c1ccc2c(c1)OCO2)c1ccc(O)cc1', 'Cc1oc2cc(O)ccc2c(=O)c1Oc1ccccc1', 'CCc1cccc2c1C(=O)c1c(O)ccc(O)c1C2=O', 'O=C(O)CCC(=O)c1ccc2c(c1)oc1ccccc12', 'O=c1oc2c(O)cccc2c(O)c1Cc1ccccc1', 'C=C1c2ccccc2C(=O)C1C1C(=O)CC(=O)CC1=O', 'O=C(O)c1cccc2c1OC(c1ccccc1)CC2=O', 'O=C1c2ccccc2C(=O)C1(CO)c1ccc(O)cc1', 'Cc1ccc2oc(C)c(C(=O)c3ccco3)c(=O)c2c1', 'O=C1CC(C(=O)O)(c2ccccc2)Oc2ccccc21', 'CC(=O)c1ccccc1OC(=O)C(=O)c1ccccc1', 'O=C(O)C(=Cc1ccccc1-c1ccccc1)C(=O)O', 'O=C(O)C(C(=O)O)=C(c1ccccc1)c1ccccc1', 'Cc1cc2occ(-c3ccccc3C)c(=O)c2c(=O)o1', 'O=C(O)c1ccc2c(c1C(=O)O)[C@@H]1C=C[C@H]3C=C[C@@H]2[C@H]31', 'O=C(OC(=O)c1ccccc1)C(O)=Cc1ccccc1', 'O=C(O)C(=CC=Cc1cccc2ccccc12)C(=O)O', 'COc1ccc2cc(OC(=O)c3ccccc3)oc2c1', 'C=C(O)C(=O)Oc1ccc(C(=O)c2ccccc2)cc1', 'CC(=O)c1cc(O)cc2cc(-c3ccc(O)cc3)oc12', 'COc1cccc2c1C(=O)c1c(O)cc(C)cc1C2=O', 'Cc1cc2c(cc1-c1cc3ccc(O)cc3o1)OCO2', 'O=C(OCCO)c1ccc2c(c1)C(=O)c1ccccc1-2', 'COc1ccc(Oc2cc(=O)c3ccccc3o2)cc1', 'O=C1OC(c2ccccc2)c2cc3c(cc21)OCCO3', 'O=C1CC[C@H](c2coc3ccc4ccoc4c23)C(=O)C1', 'O=C1C=CC2(O)C3CC34CC23c2c4ccc(O)c2OC13', 'O=C(O)C1=CCCc2c1ccc1ccc(C(=O)O)cc21', 'O=C1C=C(c2ccccc2)Cc2c(O)c(O)cc(O)c21', 'Cc1cccc(-c2coc3cc(O)c(O)cc3c2=O)c1', 'COc1ccc(O)c2c(=O)cc(-c3ccccc3)oc12', 'O=C(O)c1cccc(/C=C\\\\c2ccccc2C(=O)O)c1', 'Cc1ccc(-c2coc3cc(O)ccc3c2=O)cc1O', 'O=C(O)C1C(=O)c2ccccc2C1c1ccc(O)cc1', 'COC(=O)C1OC(=O)c2cc(-c3ccccc3)ccc21', 'COc1ccc2oc(-c3ccccc3C(=O)O)cc2c1', 'O=C(/C=C/c1ccc2c(c1)OCO2)c1ccccc1O', 'COc1ccc(O/C=C2\\\\OC(=O)c3ccccc32)cc1', 'O=c1cc(-c2ccccc2OCO)oc2ccccc12', 'O=C1c2ccccc2OCC1c1ccc2c(c1)OCO2', 'O=C(O)C1=COC(c2ccc(-c3ccccc3)cc2)O1', 'O=C(/C=C/c1ccc(O)cc1)c1ccc2c(c1)OCO2', 'COc1ccc(-c2cc(=O)oc3cc(O)ccc23)cc1', 'O=C1Cc2cccc(OCc3ccccc3)c2C(=O)O1', 'Cc1ccc(Oc2c(O)c3ccccc3oc2=O)cc1', 'COc1ccc(-c2cc3ccccc3o2)c(C(=O)O)c1', 'COc1ccc(/C=C2\\\\OC(=O)c3ccccc32)cc1O', 'Cc1ccc2c(c1)C(=O)c1cc(C)ccc1OC(=O)O2', 'COc1ccc(-c2cc(=O)c3cc(O)ccc3o2)cc1', 'COc1ccc2oc(C(=O)O)c(-c3ccccc3)c2c1', 'O=C(O)c1ccc2c(c1)C(=O)c1ccc(O)cc1CC2', 'COc1ccc2oc(=O)c(-c3ccccc3O)cc2c1', 'COc1ccc(-c2ccc(C(=O)O)o2)c2ccccc12', 'COC(=O)c1oc2cccc(O)c2c1-c1ccccc1', 'C#Cc1ccc(-c2ccc(OC)cc2)c(C(=O)O)c1O', 'Cc1ccc(OCc2ccccc2)c2c1C(=O)OC2=O', 'Cc1cc2c(c(O)c1C)C(=O)c1c(O)cccc1C2=O', 'O=C(O)/C=C/c1cccc2cccc(/C=C/C(=O)O)c12', 'CC(=O)Oc1cccc2c1C(=O)/C(=C\\\\c1ccco1)C2', 'O=C(C=Cc1ccc(O)cc1)c1ccc2c(c1)OCO2', 'COc1c(O)c(C)cc2cc3c(cc12)C(=O)C(=O)C=C3', 'CCC(=O)Oc1cccc2oc3ccccc3c(=O)c12', 'O=C1/C(=C/c2cccc(O)c2)COc2cc(O)ccc21', 'Cc1cc2c(o1)c1cc(C)oc1c1c(C)cc(=O)oc21', 'O=C1OOC(=O)C(c2ccccc2)C1c1ccccc1', 'O=C(O)c1ccccc1CC1Oc2ccccc2C1=O', 'O=C(O)CC1c2ccccc2-c2ccc(C(=O)O)cc21', 'O=C(O)/C=C/c1ccc(-c2ccccc2C(=O)O)cc1', 'Oc1ccc(O)c(-c2cc3c(O)cccc3cc2O)c1', 'COc1cc(C)c2c(c1O)C(=O)c1ccccc1C2=O', 'O=C1OOC(=O)[C@@H](c2ccccc2)[C@@H]1c1ccccc1', 'COC(=O)Cc1cccc2c(=O)c3ccccc3oc12', 'O=C(O)c1ccc(OCc2ccco2)c2ccccc12', 'O=C1C(=O)C(c2ccccc2)Cc2cc(O)cc(O)c21', 'C=Cc1c(C(=O)O)ccc(-c2ccccc2)c1C(=O)O', 'CC(=O)Oc1cc(C#Cc2ccc(O)cc2)ccc1O', 'O=C(O)CC(=O)c1ccc(C(=O)c2ccccc2)cc1', 'OC1=C(c2ccccc2)OC(c2ccccc2)=C(O)O1', 'CCCCCCCC(=O)N[C@H](CN1CCCC1)[C@@H](C2=CC3=C(C=C2)OCCO3)O', 'CC(C)(C)NCC(O)CO/N=C1/c2ccccc2C2CCCCCC12OCCO', 'Cc1cc(OC2CN(C(=O)OC(C)(C)C)C2)ccc1CN1CCC(C)(CO)CC1', 'CC(N)CON=C1CC[C@@]2(C)C(C1)[C@@H](CO)C(=O)[C@H]1[C@@H]3CCC(=O)[C@]3(C)CC[C@@H]12', 'CCCc1c(C(=O)O)cccc1N(CC)C1CCC(NC(=O)OC(C)(C)C)CC1', 'CCCCCCCCCCC(=O)[C@H](CC(N)=O)NC(=O)OCCc1ccccc1', 'CC(C)CN(CC(=O)N(Cc1ccco1)CC1CCCO1)C(=O)C1CCCCC1', 'COCCN(C[C@H]1CC2(CCN(C(=O)c3cc(C)ccc3O)CC2)CO1)C(C)C', 'CCCCCCCCCCCCCC(=O)N/N=C/c1ccc(OCC(=O)O)cc1', 'CC(C)C(CC(O)C(N)CC(C)(C)CC(=O)N1CCCc2ccccc21)C(=O)O', 'COc1cc(CNCC2([C@@H](C)CCO)CCC2)ccc1OCC(=O)N1CCCC1', 'C=CCCCCC[C@H](C)C(=O)N1CCC[C@H]1C(=O)N[C@]1(C(=O)OCC)CC1C=C', 'C#CC12CC1CCN2C(=O)OC(C)(C)C.CCCCCC12CC1CCN2C(=O)O', 'COc1ccccc1C[C@H]1CCCN(C(=O)CC[C@H](C)NC(=O)OC(C)(C)C)C1', 'CC1(C)COC2(CN(Cc3ccccc3)CC2(C)CNC(=O)OC(C)(C)C)OC1', 'COc1cc(CNCCC2=CCCCC2)ccc1OCC(O)CN1CCOCC1', 'CCCCNC(=O)CN1CC[C@@]2(O)CCCC[C@@H]2[C@@H]1c1cc(OC)ccc1OC', 'COC(=O)C(N)COc1cccc(CCNC(=O)[C@@H]2CC(C)CC[C@H]2C(C)C)c1', 'CC(C)[C@H](C)C(=O)OCc1cccc(CN2CCN(C(=O)OC(C)(C)C)CC2)c1', 'CNCCC(=O)O[C@H]1CC[C@@]2(C)C(C1)C(N=O)C[C@@H]1[C@@H]2CC[C@]2(C)C(=O)CC[C@@H]12', 'CC1(C)/C(=N/OCCN)CC[C@]2(C)[C@@H]3CC[C@]4(C)C(=O)CC[C@H]4[C@@H]3CC(=O)C12O', 'COc1cc(CNC(=O)CCCC/C=C/C(C)C)ccc1OC(=O)C(N)C(C)C', 'CCOc1cc(CN2CCOC3(CCCCN(C(C)C)C3=O)C2)c(C)cc1OC', 'CON(C)C(=O)[C@H](CCOCc1ccccc1)NC(=O)C1CCC(C(C)C)CC1', 'CO/N=C(\\\\C)[C@H]1[C@H](C[N+](=O)[O-])C[C@H]2[C@H]3CC=C4C[C@@H](O)CC[C@]4(C)[C@H]3CC[C@@]21C', 'CCCCCCCCCCCCCC(=O)Nc1ccc(C(=O)NCC(=O)O)cc1', 'CC(C)[C@H](NC(=O)c1ccc(C(C)(C)C)cc1)C(=O)OCC(=O)N[C@H](C)C(C)C', 'COc1ccc(C2CCCC(NC(=O)[C@@H](NC(=O)OC(C)(C)C)C(C)C)C2)cc1', 'CC(=O)C(C)(C)CC(C)(C)c1ccc(NC(=O)CCCCCCC(=O)NO)cc1', 'C=CCN(C(=O)CCCCCC)C(C)C(=O)c1c(C)c(C(=O)OCC)n(C)c1C', 'CCC(CC(=O)OC)c1ccc(NC(CC(C)C)C2CCCCC2)c([N+](=O)[O-])c1', 'C[C@]1(NC(=O)CCCCc2ccccc2)CCOC2(CCN(CCO)CC2)[C@@H]1O', 'Cc1cc(OCCN2CCOCC2)c(C)c2c1CCC(C(C)C(=O)NCCO)C2', 'Cc1ccc(OCC(=O)NC2CCN(C(=O)OCC(C)C)CC2)c(C(C)(C)C)c1', 'CCC.Cc1c(O)ccc2c(CCC3CCN(C(=O)OC(C)(C)C)CC3)noc12', 'CC.CC(c1ccccc1)N1CC2(CCCN(C(=O)OC(C)(C)C)CC2)OC1=O', 'COCCCCN1CCOc2cc3c(c(C)c21)CCN(C(=O)OC(C)(C)C)CC3', 'CCCC(NC(=O)CCC1CCCC1)C(=O)NCCc1ccc(OC)c(OC)c1', 'O=C(C1CCOCC1)N1CCC(N2C(=O)C(OCC3CC3)C23CCCCC3)CC1', 'C[C@H](OC(=O)CNC(=O)CC12CC3CC(CC(C3)C1)C2)C(=O)N1CCCCCC1', 'COC1=N[C@@H](C(C)(C)C)N(C(=O)OCc2ccccc2)[C@@H](C)[C@@H]1[C@H](O)C(C)(C)C', 'O=C(CCC1CCC2(CC1)OOC1(O2)C2CC3CC(C2)CC1C3)N1CCNCC1', 'C[C@H]1CN(C(=O)OC(C)(C)C)[C@@]1(CCNCc1ccccc1)C(=O)OC(C)(C)C', 'COC(=O)CCCCCCCCOc1ccc(C2=NC(C)(C)C(C)(C)N2O)cc1', 'CCCC[C@@](C)(OCCC)C(=O)Nc1ccc(OCC(=O)N2CCCCC2)cc1', 'CC[C@H]1C(O)C2C3CCC(c4noc(=O)[nH]4)C3(C)CCC2C2(C)CC[C@@H](O)CC12', 'C[C@@H](OCc1ccccc1)[C@@H](NC(=O)OC(C)(C)C)C(=O)NC1CCCCCC1', 'C[C@@H](N)CC(=O)O[C@H]1CC[C@@]2(C)[C@H](C1)C(N=O)C[C@@H]1[C@@H]2CC[C@]2(C)C(=O)CC[C@@H]12', 'COC(C(C)C(=O)NC(Cc1ccccc1)C(=O)OC(C)(C)C)C1CCCN1C', 'CC[C@@]1(Cc2ccc(OC)cc2)C(OC)=N[C@H](C(C)(C)C)N1C(=O)OC(C)(C)C', 'CN(CCCC(=O)OC(C)(C)C)C(=O)CCNC(=O)c1ccc(C(C)(C)C)cc1', 'CCOC(=O)c1[nH]c(C)c(C(=O)CN(C(=O)C[C@H](C)CC(C)(C)C)C2CC2)c1C', 'CCC1CCc2c(ccnc2C[C@]2(OCOC)C(=O)N(COC)[C@H]2CC(C)C)C1', 'CC(=O)NC1CC(C)(C)N(OC(C)c2ccc(C(C)OC(C)=O)cc2)C(C)(C)C1', 'CCCCN(CC(=O)N(Cc1ccco1)C[C@@H]1CCCO1)C(=O)C1CCCCC1', 'COc1cc(CNC(=O)CCCCC=CC(C)C)ccc1OC(=O)C(N)C(C)C', 'COCC1(CN[C@@H]2C[C@H]2c2ccccc2)CCN(CC2(C(=O)O)CCC2)CC1.O', 'CC(C)(NC(=O)C1CC[C@H]2[C@@H]3CCC4NC(=O)CC[C@]4(C)[C@@H]3CC[C@]12C)C(=O)O', 'Cc1ccccc1CN(CCC(C)(C)C)C1CCNCC1.O=C(O)/C=C/C(=O)O', 'COC(=O)[C@H]1C[C@@H]2[C@H](CC[C@]3(C)C(=O)CC[C@@H]23)[C@@]2(C)CC/C(=N\\\\OCCN)C[C@H]12', 'CCCCCCCCCCCCCC(=O)N/N=C\\\\c1ccc(OCC(=O)O)cc1', 'CNC(=O)[C@H](CCc1ccccc1)NC(=O)[C@H](CC(=O)OC(C)(C)C)CC(C)C', 'CCC(c1cccc(OC(=O)OC(=O)C2(CN)CCCCC2)c1)C(C)CN(C)C', 'COC[C@@H]1CC(C)(C)CN1C(=O)C(NC(=O)OCC(C)C)[C@H](C)c1ccccc1', 'COc1ccc(C(CNC(=O)CCC2CCCCC2)N2CCOCC2)cc1OC', 'CC[C@H](COC)NC(=O)c1cc(OC)ccc1OC1CCN(C2CCCC2)CC1', 'COC(=O)c1c(C)c(C(=O)C(C)N(CC2CCCCC2)C(=O)C(C)C)c(C)n1C', 'COc1ccc(C(=O)N(C)CC2CCCCO2)cc1OC1CCN(C(C)C)CC1', 'CC(C)(C)OC(=O)NCC1CCN(CC(C)(C)C(=O)OCc2ccccc2)CC1', 'COc1ccc([C@H](C)N2CC(C)(NC(=O)OC(C)(C)CCC(C)C)CC2=O)cc1', 'COc1cc(C(=O)NCC2(N3CCOCC3)CCCCC2)ccc1OCC(C)C', 'COc1cc2c(cc1OC)[C@H]1C[C@@H](OC(=O)NC(C)C)[C@H](CC(C)C)CN1CC2', 'COc1ccc(CCN2CC(C(=O)NC(C)(C)CC(C)(C)C)CC2=O)cc1OC', 'CC(C)CC(C(=O)OC1CCCC1)N(Cc1ccc(N)cc1)C(=O)OC(C)(C)C', 'CC[C@@]12C[C@H](O)[C@@](C)(O)C[C@H]1CCc1cc(OC(=O)N(C)CCN(C)C)ccc12', 'CN(C)CCNC(=O)C(C)(C)CC(=O)Cc1ccc(COC2CCCCO2)cc1', 'COc1ccc(C2CCCN2C(=O)CN2CCC(OCC(C)C)CC2)c(OC)c1', 'CCC(CC)C[C@H](NC(C)=O)[C@H]1[C@H](COC)C[C@H](C(=O)O)N1Cc1ccccc1', 'C=C/C(CCNC=O)=C(\\\\C=C)[C@@H](OCC1(N(C)C(=O)OC(C)(C)C)CC1)C(=C)C', 'CN(CCOc1cccc(CNC(=O)COC2CCCCC2)c1)C1CCOCC1', 'CC(C)Oc1cc([C@@H]2CCN(C(=O)OC(C)(C)C)[C@H](C(C)C)C2)ccc1NC=O', 'COCCNC(=O)c1ccc(OC)cc1OC1CCN([C@H](C)CC2(C)CC2)CC1', 'CCOC(=O)CN1CCCCC[C@H](N[C@@H](CCc2ccccc2)C(=O)OCC)C1', 'CCOC(=O)c1c(C)c(C(=O)CN(C(=O)CCC2CCCC2)C(C)C)c(C)n1C', 'CCOc1ccc(CCC(=O)NC2CCN(C(=O)C(CC)CC)CC2)cc1OC', 'CC1CC2C=CCC(C2)C1OC(=O)N1CC2[C@H](CCCN2C(=O)OC(C)(C)C)C1', 'CCC(CCC1CCN(C(=O)OC(C)(C)C)CC1)NC(=O)OCc1ccccc1', 'CCCCCCOc1ccc(C(=O)N2CCN(C(=O)C(C)(C)C)CC2)cc1OC', 'CCCCCN(CC1(C)CC(NC(=O)O)CC(C)(C)C1)C(=O)Oc1ccccc1', 'CCC[C@H](C)C(=O)N(C)[C@H](C)C(=O)N[C@H](Cc1ccccc1)C(=O)OC(C)(C)C', 'CCc1ccc2c(c1OC)C(COC)N(C(=O)CNCC1(O)CCCCC1)CC2', 'COCC1CCN(C(=O)c2ccc(OC)c(OC3CCN(C(C)C)CC3)c2)CC1', 'C#CC12CC1CCN2C(=O)OC(C)(C)C.CCCCCOC(=O)N1CCC2CC21', 'CC(C)(C)OC(=O)N1CCC(C(=O)NCCOc2ccc(C(C)(C)C)cc2)CC1', 'CCNCCCCCc1c(OCCCC(=O)O)ccc2c(CC(C)(C)C)noc12', 'CCCCCC(=O)N[C@@H]1CCN(C(=O)OC2C3CC4CC2CC(C(C)=O)(C4)C3)C1', 'CC(C)C(CNC(=O)OC(C)(C)C)C(=O)N1CCCC1COCc1ccccc1', 'CCOC(=O)NN=C1CC[C@H]2[C@@H](CC[C@@H]3[C@@H]2CC[C@]2(C)[C@@H](OC(C)=O)CC[C@@H]32)C1', 'CCCCC(C)(OCCC)C(=O)Nc1ccc(OCC(=O)N2CCCCC2)cc1', 'COc1cc(/C=C/C(=O)N(CCCCN(C)C)C2CCC(OC)CC2)ccc1O', 'CCN(C(=O)COC(=O)C12C[C@@H]3C[C@H](CC(NC(C)=O)(C3)C1)C2)C1CCCCC1', 'CCc1c(C)cc(C(=O)NC(C(=O)OC)C(C)(C)C)c(=O)n1CC1CCCCC1', 'Cc1cccc(OCCC(=O)NCCC2CCCN(C(=O)OC(C)(C)C)C2)c1C', 'CCOCCN1CCC2(CC1)OCC[C@](C)(NC(=O)Cc1cccc(C)c1)[C@H]2O', 'CCCCCCCC(=O)NC(Cc1ccc2c(c1)OCCO2)CN1CC[C@@H](O)C1', 'C[C@@H]1CCCC[C@@H]1NC(=O)[C@@H](NC(=O)OC(C)(C)C)[C@H](C)OCc1ccccc1', 'CC(C)(N)CNC(=O)CC1CCC2(CC1)OOC1(O2)C2CC3CC4CC1CC34C2', 'CNC(=O)[C@@H](NC(=O)[C@H](CCCc1ccccc1)CC(=O)OC(C)(C)C)C(C)C', 'CCCC[C@H](CC)C(=O)N(CC(=O)c1c(C)c(C(=O)OCC)n(C)c1C)C1CC1', 'CC1=CC(OC2([NH+]([O-])O)CC2)=CC(C)C1CC1C=CC(O)C(C2CCCCC2)N1', 'CO/N=C1\\\\C=C2CC[C@@H]3[C@H](CC[C@@]4(C)[C@H]3CC[C@]4(O)/C(CO)=N\\\\OC)[C@@]2(C)CC1', 'CCC(CC)CC(NC(C)=O)C1C(COC)C[C@@H](C(=O)O)N1Cc1ccccc1', 'COc1ccc(OC)c(C(C)NC(=O)CN2CCC(OC3CCCCC3)CC2)c1', 'COCCN1CCC[C@]12CCCN(C(=O)CCc1ccc(OC)cc1OC)CC2', 'CCCCCCNC(=O)C1CCCN(C(=O)C(C)OCc2cccc(OC)c2)C1', 'CCCCCCCCCC(=O)NC(C)C(=O)NC(Cc1ccccc1)C(=O)OC', 'COCCOc1ccc(C(=O)NC2CN(CC3CCCCC3)CCCC2O)cc1', 'CCCCCCCOc1cccc(NC(=O)CN2CCC(C(=O)OCC)CC2)c1', 'CN(CCc1cccc(OCCN2CC3(CCCOC3)C2)c1)C(=O)OC(C)(C)C', 'CCC(C1CCC(N)CC1)C1CCC(N)CC1.O=C(O)c1ccc(C(=O)O)cc1', 'CCCCn1c(CCC)c(CC)cc(C(=O)NC2(C(=O)OC)CCCCC2)c1=O', 'COc1ccccc1OCC(=O)N(CCC(=O)N(CC(C)C)CC(C)C)C1CC1', 'COc1cccc(CCC(=O)N2CCC(CN3CC(C)OC(C)C3)CC2)c1OC', 'CCCC[C@H](NC(=O)[C@H](CC(C)C)NC(=O)CCCc1ccccc1)C(=O)OC', 'COCCCOc1cc([C@@H](C)N(C(=O)[C@H]2CNCCO2)C2CC2)ccc1C(C)C', 'O=C(CCC/C=C\\\\C/C=C\\\\C/C=C\\\\C/C=C\\\\CCCCCO[N+](=O)[O-])NC1CC1', 'COC(C)(C)C(=O)NC[C@]1(c2ccccc2)CC[C@@H](O)[C@@H](N2CCOCC2)CC1', 'CC[C@H](CN1CCOc2cc3c(c(C)c21)CCN(C(=O)OC(C)(C)C)CC3)OC', 'CC(C)(CC(=O)O)NC(=O)c1ncc(C2CCCCCCCCCCC2)cc1O', 'CCCCNC(=O)CN1CCC2(O)CCCCC2C1c1ccc(OC)c(OC)c1', 'CCCc1c(CC)cc(C(=O)N[C@H](C(=O)O)C(C)C)c(=O)n1CC1CCCCC1', 'C=C(O[C@@H]1CC[C@]2(CO2)[C@@H]([C@@]2(C)O[C@@H]2CC=C(C)C)[C@@H]1OC)N1CC2CC1CN2', 'C[C@H]1C[C@@H](Nc2ccc(CCC(=O)OC3(C)COCCO3)cc2N)CC(C)(C)C1', 'C/C=C/C=C/COC(=O)NC1CC(C)(C)CC(C)(NC(=O)OC/C=C/C=C/C)C1', 'O=C(N1CCCN(C(=O)C2(C3CC3)CCOCC2)CC1)C1(C2CC2)CCOCC1', 'COC(=O)c1ccc(CNCC[C@H]2CCC(=O)N2[C@@H](C)CCCC(C)(C)O)cc1', 'COc1cc(CC(=O)N[C@H]2CCCN(C3CCCCCC3)C2)cc(OC)c1OC', 'COCCOCCN(C)C(=O)Oc1ccc2c(c1)[C@@]1(C)CCCCCC(C2)[C@@H]1N', 'CCCC[C@H](NC[C@@H](CC(C)C)NC(=O)OCc1ccccc1)C(O)C1CC1=O', 'COCCN1CCC(CN(C[C@@H]2CCCO2)C(=O)Cc2ccccc2OC)CC1', 'CCN(c1cc(OCCN2CCOCC2)cc(C(=O)OC)c1C)C1CCCCC1', 'CCCC(CCC)C(=O)Nc1cc(NC(=O)C(CCC)CCC)cc(C(=O)O)c1', 'COc1ccc(C2(CNC(=O)CCCNC(=O)OC(C)(C)C)CCCCC2)cc1', 'CCCCCCCC[C@H](NC(=O)CCC(=O)N[C@H](C)c1ccccc1)C(=O)OC', 'C[C@@H]1C[C@H](C)CN(C(=O)[C@H](C)OC(=O)CNC(=O)C23CC4CC(CC(C4)C2)C3)C1', 'CCN(CC)C(=O)c1ccc(C2CC(C(C)(C)C)N(C(=O)O)CCC2CO)cc1', 'CCCN(CC(=O)N(Cc1ccco1)C[C@H]1CCCO1)C(=O)CCC1CCCC1', 'CCCCCCCN1C(=O)C(C)=C(C)C1=O.CCCCN1C(=O)C(C)=C(C)C1=O', 'Cc1ccc2c(c1)CC(=O)N(C(C)C)C[C@@H](C)[C@H](CN(C)C(=O)OC(C)(C)C)O2', 'CCCCCCCc1ccc(C(=O)NC(C(=O)NCC(=O)OCC)C(C)C)cc1', 'CO/N=C(\\\\C)[C@H]1[C@H](C[N+](=O)[O-])C[C@H]2[C@H]3CC=C4C[C@@H](O)CC[C@]4(C)[C@@H]3CC[C@@]21C', 'CCN(c1cccc(C(=O)OC)c1C)C1CCC(N(C)C(=O)OC(C)(C)C)CC1', 'CC(C)OC(=O)N1CCC(CCCCCOc2ccc(C(=O)N(C)C)cc2)CC1', 'C1CCC([NH2+]C2CCCCC2)CC1.CC1(CC(C#N)C(=O)[O-])C(=O)CCCC1=O', 'COCCOC1CCC(C)(N2CCC(Nc3cc(C(C)=O)ccc3O)CC2)CC1', 'OC[C@]12COCC[C@H]1CN(Cc1ccccc1OCCCCN1CCOCC1)C2', 'COc1cc2c(cc1OC1CCN(C)C1)CCN1C[C@@H](OC(C)(C)C)[C@H](O)C[C@H]21', 'CC(C)C[C@@H](C(=O)NN)[C@@H](C(=O)OC(C)(C)C)C(/C=C/c1ccccc1)CCO', 'CCOC(=O)C(CCc1ccccc1)NC1CCCCCC(C)N(CC(=O)O)C1', 'C[C@H]([C@H](CCCc1ccccc1)C(=O)C[C@H](C(=O)N(C)C)C(C)(C)C)N(O)C=O', 'CC(=O)N1CCC(O)CC1.CC(=O)N1CCC(OCCCc2ccccc2)CC1', 'C=CCCCCC[C@H](C)C(=O)N1CCC[C@H]1C(=O)N[C@]1(C(=O)OCC)C[C@H]1C=C', 'COCCCc1cc(CN(C(=O)C2CCCNC2)C2CC2)cc(OCCOC)c1', 'CN1CCN(C(=O)CC2CCCC3(C2)OOC2(O3)C3CC4CC(C3)CC2C4)CC1', 'CO/N=C(\\\\C)[C@H]1[C@H](C[N+](=O)[O-])C[C@@H]2[C@H]3CC=C4C[C@@H](O)CC[C@]4(C)[C@H]3CC[C@@]21C', 'NC1CCN(C(=O)C[C@@H]2CCC[C@]3(C2)OOC2(O3)C3CC4CC(C3)CC2C4)CC1', 'CCCCCCCC(=O)N[C@H](CNCCCC)C(=O)c1ccc2c(c1)OCCO2', 'CC(C)(C)OC(=O)N1C[C@@H]2CCCC[C@@H]2C[C@H]1C(=O)O.C[C@@H](N)c1ccccc1', 'COc1ccc(CN2CCC3(CC[C@@H](CNC(=O)C(C)C)O3)CC2)c(OC)c1C', 'CCCCCCCCCCCCC#Cc1cn([C@H]2CC[C@@H](CO)O2)c(=O)[nH]c1=O', 'CC(C)c1ccc(OCCC(=O)NCC2CCCN(C(=O)OC(C)(C)C)C2)cc1', 'C=C(C)C(=O)CNC(=O)C(Cc1ccccc1)NC(=O)OC(C)(C)C.CC(C)C', 'CN(CCNC(=O)OC(C)(C)C)/C(C=O)=C1/C=CC=C(OCCCC2CCC2)C1', 'COCCCN1CCOc2cc3c(cc21)CCN(C(=O)OC(C)(C)C)CCCC3', 'CC(C)(C)OC(=O)NCC1CCCCN1C(=O)CCCOCCc1ccccc1', 'COCCN(CC1CC2(CCN(C(=O)Cc3ccc(O)cc3)CC2)CO1)C(C)C', 'COc1ccc(CN2CCC3(CCC(CNC(=O)C(C)C)O3)CC2)c(OC)c1C', 'CCCCCCC(=O)N(CC(=O)c1c(C)c(C(=O)OCC)n(CC)c1C)C1CC1', 'COc1cc2c(cc1OC)[C@H]1C[C@@H](COC(=O)N(C)C)[C@H](CC(C)C)CN1CC2', 'CCC[C@H]1C[C@@H]1c1ccnc(C[C@@]2(OCOC)C(=O)N(COC)[C@H]2CC(C)C)c1', 'C/C=C/C=C/C=C(\\\\C)CCCC(C)C(N=O)(OC)C(=O)C(=O)N1CCCCC1C', 'CCC(CC)C(=O)NC(CCCCOCCc1ccc2c(n1)CCCC2)C(=O)O', 'CCCCNC(=O)CN1CC[C@@]2(O)CCCC[C@@H]2[C@@H]1c1ccc(OC)c(OC)c1', 'C[C@]12CC[C@H](OC(=O)CCCN)CC1/C(=N/O)C[C@@H]1[C@@H]2CC[C@]2(C)C(=O)CC[C@@H]12', 'Cc1cc(C)cc(OCCC(=O)N2CCCC(CN(C)C(=O)OC(C)(C)C)C2)c1', 'CCCCCC1=C(C(O)O)C(O)=C(C2C=C(C)CCCC2(N)CC)C(N=O)=CC1', 'CCN(CC)CC1CCCCC1NC(=O)/C=C/c1cc(OC)c(OC)c(OC)c1', 'CCCCCCOc1ccc(C(=O)NCCNC(=O)C2CCCCC2)cc1OC', 'CNC(Cc1ccccc1)C(=O)OC1CCCC(CC(NC(C)C)C(=O)OC)C1', 'C=C1CC2CC(C(NC(=O)OC(C)(C)C)C(=O)N3C(C)C[C@@H]4C[C@@H]43)CC(O)(C1)C2', 'CC1CC2C3C(=O)[C@H](CO)C4CC(=NOCCN)CC[C@]4(C)C3CC[C@]2(C)C1=O', 'CCOC(=O)C(C)=C[C@@H](C(C)C)N(C)C(=O)[C@H](Cc1ccc(OC)c(C)c1)NC', 'CC(C)[C@H](NC(=O)C12CC3CC(CC(C3)C1)C2)C(=O)OCC(=O)NC1CCCC1', 'CCOCCN1C(C)(C)CC(NC(=O)c2ccc(C)cc2)(C(=O)OC)CC1(C)C', 'C[C@H](C(=O)N1CC2[C@@H]([C@H]1CO)C21CC1)C(C)(C)C.O=C1N[C@H](CO)[C@@H]2C1C21CC1', 'C[C@@H]1CCCC[C@H]1NC(=O)COC(=O)CNC(=O)CC12CC3CC(CC(C3)C1)C2', 'COCCOc1cc(C)c2c(c1C)C(O)C(C(C)C(=O)N1CCN(C)CC1)CC2', 'COC(=O)CNC(=O)[C@H]1CC[C@H]2[C@@H]3CC[C@H]4N(C)C(=O)CC[C@]4(C)[C@H]3CC[C@]12C', 'COc1cc(CCC(=O)NC2CCC(C)CC2)ccc1OCCN1CCOCC1', 'CCCc1c(CC)cc(C(=O)NC2(C(=O)O)CCCCC2)c(=O)n1CCC(C)C', 'CCCC(=O)[C@H](CC(C)C)NN[C@@H](Cc1ccccc1)C(=O)C(=O)OC(C)(C)C', 'CCC(C)(C)C1CCCN1N1CCC(Cc2cc(OC)c(OC)c(OC)c2)C1=O', 'CC(C)(C)OC(=O)NCCC(CCCCCO)CCOc1ccc2[nH]ccc2c1', 'O=C(O)CCCCCCCCCCN1CCN(C(=O)OCc2ccccc2)CC1', 'CC(C)(C)OC(=O)N1CC[C@H](C(C)(Cc2cccc(N)c2)C(=O)OC(C)(C)C)C1', 'CCn1c(C)c(C(=O)CN(C(=O)C(C)(C)C)C2CCCCC2)c(C)c1C(=O)OC', 'CC1CCCCC1(C)C(N)(N)C1CCCCC1.O=C(O)c1cccc(C(=O)O)c1', 'NC1CCN(C(=O)CC2CCCC3(C2)OOC2(O3)C3CC4CC(C3)CC2C4)CC1', 'COCC(=O)N1CCC(C(Cc2cccc(OC)c2)N(C)C(=O)CC(C)C)CC1', 'CCCN(C(=O)C1CCCC1)C(C)C(=O)c1c(C)c(C(=O)OCC)n(CC)c1C', 'C/C=C(\\\\C)C[C@H](NC(=O)OCc1ccccc1)C(C)N[C@@H](CC(C)(C)C)C(=O)O', 'CC(C)(CC(=O)N1CCC(OCCc2ccccc2)CC1)NC(=O)OC(C)(C)C', 'CCc1c(C)cc(C(=O)NCC2(CC(=O)O)CCCCC2)c(=O)n1CCC(C)C', 'C[C@@H]1CCC[C@@H](C)N1C(=O)COC(=O)CNC(=O)CC12CC3CC(CC(C3)C1)C2', 'CC1CCC[C@](C)(O)CCCN(C)C(=O)C[C@H](O)[C@H](Cc2ccccc2)NC1=O', 'C1CCC(NC2CCCCC2)CC1.COC(=O)OC(=O)[C@H](N)Cc1ccccc1', 'COc1ccc(OC2CCN(C3CCCC3)CC2)c(C(=O)NCCOC(C)C)c1', 'c1cc(C2(CN3CCOCC3)CCOCC2)ccc1OCCCN1CCOCC1', 'C[C@@H]1C[C@@H](C)CN(C(=O)[C@@H](C)OC(=O)CNC(=O)C23CC4CC(CC(C4)C2)C3)C1', 'CCC(CC)(NC(=O)C1CCN(C(=O)OC(C)(C)C)CC1)c1ccc(OC)cc1', 'CCCCC(CC)COC(=O)N1CCCN(CC(=O)OCc2ccccc2)CC1', 'CCCN(CC(=O)Nc1cc(OC)ccc1OC)C1CC(OCC)C12CCCC2', 'CCCCCCCOc1cccc(NCC(=O)N2CCC(C(=O)OCC)CC2)c1', 'CC(C)(C)OC(=O)[C@@H](Cc1cccc(CN)c1)[C@H]1CCN(C(=O)OC(C)(C)C)C1', 'Cc1cc(C(C)(C)C)ccc1OC[C@@H](O)CN1CCN(C(=O)[C@H]2CCCO2)CC1', 'CCCCNC(=O)CN1CC[C@]2(O)CCCC[C@H]2[C@H]1c1cc(OC)ccc1OC', 'CC(C)(C)OC(=O)C[C@@H]1[C@@H](NCc2ccccc2)CCCN1C(=O)OC(C)(C)C', 'Cc1ccccc1[C@H]1CC[C@@H](OCC2NCCCC2NC(=O)OC(C)(C)C)CO1', 'CCCC(CCCC(=O)OC(C)(C)C)C/N=C/c1c(N)ccc(C(=O)O)c1CC', 'C=CCC(CCCCCOC(=O)N(CC=C)CC=C)OC(=O)N(CC=C)CC=C', 'COc1cc(C(C)=O)ccc1OCCCC(=O)NC(C)CN1CC(C)CC(C)C1', 'CCCCN(CCCC)C(=O)c1cccc(C(=O)C(C)NC(=O)OC(C)(C)C)c1', 'CCCCC[C@@](C)(OCC)C(=O)Nc1ccc(OCC(=O)N2CCCCC2)cc1', 'COc1ccccc1C1(CC(=O)NCCCN2CCOCC2)CCOC(C)(C)C1', 'CCOC(=O)C1=C(CN2CCOCC2)NC2=C(C(=O)CC(C)(CC)C2)C1C(C)C', 'O=C(O)C1(CCN2CCCCC2)C2C=CC(C2)C1(CCN1CCCCC1)C(=O)O', 'CC(C)[C@@H]1CC[C@@H](C)C[C@H]1OCC1=NN(C(=O)OC(C)(C)C)C[C@@H]1c1ccco1', 'CCOc1ccc(CCC2CCN(C(=O)CCNC(=O)OC(C)(C)C)CC2)cc1', 'CCCO[C@@]1(C(=O)Nc2ccc(OCCN3CCOCC3)cc2)CCC[C@H](C)C1', 'CC(C)NCC(O)COc1ccc(OCC(O)CNC(C)C)c2c1C1C=CC2C1', 'CCCCCCCCOc1ccc2[nH]cc(C(COC)C(N)C(=O)OCC)c2c1', 'COC(CN(C)C(=O)CCOc1ccc(CCN2C[C@H]3CCC[C@H]3C2)cc1)OC', 'COc1ccccc1C[C@@H]1CCCN(C(=O)CC[C@H](C)NC(=O)OC(C)(C)C)C1', 'C1CCCCC1.CN1CCCC1C=O.COC.N#Cc1cccc(OCC=O)c1', 'C=CCCCCNc1ccc(C(=O)OCC)c(N(CC)C(=O)COCCCC)c1', 'C=CCCCCCC(=O)NCCC/C=C1\\\\C(OC)=CC(=O)N1C(=O)CCCCC', 'C1CCC(NC2CCCCC2)CC1.COC(=O)N[C@H](Cc1ccccc1)C(=O)O', 'CCOc1ccc(C2(CNC(=O)CCCC(=O)N(CC)CC)CCOCC2)cc1', 'C[C@@H](OC(=O)CNC(=O)C12CC3CC(CC(C3)C1)C2)C(=O)NCC1CCCCC1', 'CCCC(=O)N1CCC(C(=O)NCc2ccc(OCCC(C)C)c(OC)c2)CC1', 'CCCC#Cc1ccc(C(=O)NCCOCCOCCOCCNCCC)cc1', 'CCCC(C)C#Cc1ccc(C(=O)NCCOCCOCCOCCNC)cc1', 'CCCCCCCCCCCCCC(=O)NC(NC(=O)c1ccccc1)C(=O)O', 'COCCOc1cc(C)c2c(c1C)[C@H](O)[C@@H]([C@H](C)C(=O)N1CCN(C)CC1)CC2', 'NC(=O)CC[C@H](NC(=O)CCCCCCCCCCCc1ccccc1)C(=O)O', 'C[C@]12CC[C@H](OC(=O)[C@@H](N)CC(N)=O)CC1CC[C@@H]1[C@@H]2CC[C@]2(C)C(=O)CC[C@@H]12', 'CC(C)N1C=C(C(=O)N(C1=O)C2=CC=C(C=C2)F)C(=O)NC3=CC(=C(C=C3)OC4=C5C=C(C(=CC5=NC=C4)OC)OC)F', 'COc1cc(-c2c(C)[nH]c(C)c(C(=O)Nc3ccc(Oc4ccnc5cc(OC)c(OC)nc45)c(F)c3)c2=O)ccc1F', 'CCn1cc(C(=O)Nc2ccc(Oc3ccnc4cc(OC)c(OC)nc34)c(F)c2)c(=O)c(-c2ccc(F)cc2)c1CO', 'C=CC(=O)OCCOC(C)=O.Cc1cccc(-c2noc(-c3cccc(-c4nc(-c5cccc(C)c5F)no4)c3)n2)c1F', 'C=CCN1CC(C(=O)Nc2ccc(Oc3ccnc4cc(OC)c(OC)cc34)c(F)c2)C(=O)N(c2ccc(F)cc2)C1=O', 'COCCOc1nc2c(Oc3ccc(NC(=O)c4ccc(C)n(-c5ccc(F)cc5)c4=O)cc3F)ccnc2cc1OC', 'CCOc1c(C)cn(-c2ccc(F)cc2)c(=O)c1C(=O)Nc1ccc(Oc2ccnc3cc(OC)c(OC)nc23)c(F)c1', 'Cn1cc(-c2cc(C(C)(C)O)ccc2Oc2ccc(F)cc2F)c2cc(C(=O)Nc3ccc(C(=O)NO)cc3)[nH]c2c1=O', 'COc1cc(NC(=O)c2cn(C)c(C)c(-c3ccc(F)cc3)c2=O)c(F)cc1Oc1ccnc2cc(OC)c(OC)nc12', 'COCc1c(-c2ccc(F)cc2)c(=O)c(C(=O)Nc2ccc(Oc3ccnc4cc(OC)c(OC)nc34)c(F)c2)cn1C', 'COc1cc2nccc(Oc3ccc(NC(=O)c4c(C)[nH]c(C)c(-c5ccc(F)cc5CO)c4=O)cc3F)c2nc1OC', 'COc1cc2nccc(Oc3ccc(NC(=O)c4cn(C)c(CO)c(-c5ccc(F)cc5C)c4=O)cc3F)c2nc1OC', 'CCn1c(C)c(C(=O)Nc2ccc(Oc3ccnc4cc(OC)c(OC)cc34)c(F)c2)c(=O)n(-c2ccc(F)cc2)c1=O', 'COc1cc2nccc(Oc3ccc(C4(C(N)=O)CN(C)C(C(N)=O)=C(c5ccc(F)cc5)C4=O)cc3F)c2cc1OC', 'CCCn1cc(C(=O)Nc2ccc(Oc3ccnc4cc(OC)c(OC)cc34)c(F)c2)c(=O)n(-c2ccc(F)cc2)c1=O', 'CCOc1[nH]c(C)c(-c2ccc(F)cc2)c(=O)c1C(=O)Nc1ccc(Oc2ccnc3cc(OC)c(OC)nc23)c(F)c1', 'CCOC(=O)c1cn(/C=C(/Cn2ccnc2)Cn2cc(C(=O)OCC)c(=O)c3cc(F)ccc32)c2ccc(F)cc2c1=O', 'CC(C)OC(=O)Oc1c2n(ccc1=O)N(C1c3ccccc3-n3cccc3-c3c1ccc(F)c3F)C1COCCN1C2=O', 'COc1cc2nccc(Oc3ccc(NC(=O)c4c(OC)n(C)c(C)c(-c5ccc(F)cc5)c4=O)cc3F)c2nc1OC', 'COc1ccc(Cn2c(C(=O)c3c(F)c(OC)cc(OC)c3F)cc3cc(Nc4c(C)cccc4[N+](=O)[O-])ncc32)cc1', 'COc1cc2nccc(Oc3ccc(NC(=O)c4cn(CCO)c(C)c(-c5ccc(F)cc5)c4=O)cc3F)c2nc1OC', 'COCCOc1cc2nccc(Oc3ccc(NC(=O)c4c(C)ccn(-c5ccc(F)cc5)c4=O)cc3F)c2nc1OC', 'CCn1cc(C(=O)N(C)c2ccc(Oc3ccnc4cc(OC)c(OC)cc34)c(F)c2)c(=O)n(-c2ccc(F)cc2)c1=O', 'C=CCN1C=C(C(=O)Nc2ccc(Oc3ccnc4cc(OC)c(OC)cc34)c(F)c2)C(=O)N(c2ccc(F)cc2)C1O', 'COc1cc(Oc2ccnc3cc(OC)c(OC)nc23)c(F)cc1NC(=O)c1cn(C)c(C)c(-c2ccc(F)cc2)c1=O', 'CC(C)OC(=O)Oc1c2n(ccc1=O)N([C@@H]1c3ccccc3-n3cccc3-c3c1ccc(F)c3F)[C@@H]1COCCN1C2=O', 'CC[C@@]1(O)C(=O)OCc2c1cc1n(c2=O)Cc2c-1nc1cc(F)c(C)c3c1c2[C@@H](NC(=O)C(O)c1cnccc1F)CC3', 'COc1cc2nccc(Oc3ccc(NC(=O)c4c(C)nc(OC)c(-c5ccc(F)cc5)c4OC)cc3F)c2nc1OC', 'COCCOc1nc2c(Oc3ccc(CC(=O)c4ccc(C)n(-c5ccc(F)cc5)c4=O)cc3F)ncnc2cc1OC', 'CCOc1cn(-c2ccc(F)cc2C)nc1C(=O)Nc1ccc(Oc2ccnc3cc(OC)c4c(c23)OCCO4)c(F)c1', 'O=C(Nc1ccc(Nc2ccnc3cc(OCCOCCO)c(O)cc23)c(F)c1)c1c[nH]cc(-c2ccc(F)cc2)c1=O', 'COc1cc2nccc(Oc3ccc(NC(=O)c4cc(C(C)O)c(C)n(-c5ccc(F)cc5)c4=O)cc3F)c2nc1OC', 'C=CCN1CC(C(=O)Nc2ccc(Oc3ccnc4cc(OC)c(OC)cc34)cc2F)C(=O)N(c2ccc(F)cc2)C1=O', 'O=C(CCc1ccc(F)cc1F)c1cn2c(c(O)c1=O)C(=O)N(Cc1ccc3c(c1)OCCO3)CN2Cc1ccccn1', 'COCc1[nH]c(C)c(-c2ccc(F)cc2)c(=O)c1C(=O)Nc1ccc(Oc2ccnc3cc(OC)c(OC)nc23)c(F)c1', 'C=CC(=O)OCCOC(C)=O.Cc1ccc(F)c(-c2noc(-c3cccc(-c4nc(-c5cc(C)ccc5F)no4)c3)n2)c1', 'CCOC(=O)c1cn(CC(=Cn2ccnc2)Cn2cc(C(=O)OCC)c(=O)c3cc(F)ccc32)c2ccc(F)cc2c1=O', 'N#CCCCOc1cc2[nH]cc(Oc3ccc(NC(=O)C4(C(=O)Nc5ccc(F)cc5)CC4)cc3F)c2c2c1OCCO2', 'COCCOc1nc2c(Oc3ccc(NC(=O)c4c[nH]c(C)c(-c5ccc(F)cc5)c4=O)cc3F)ccnc2cc1OC', 'COCCOc1cc2nccc(Oc3ccc(NC(=O)c4ccc(C)n(-c5ccc(F)cc5)c4=O)cc3F)c2nc1OC', 'COc1cc(OC)c2c(Oc3ccc(NC(=O)c4cn(C(C)C)c(=O)n(-c5ccc(F)cc5)c4=O)cc3F)ccnc2c1', 'CCOC(=O)c1cn(/C=C(\\\\Cn2ccnc2)Cn2cc(C(=O)OCC)c(=O)c3cc(F)ccc32)c2ccc(F)cc2c1=O', 'C=CC(=O)OCCOC(C)=O.Cc1cc(-c2noc(-c3cccc(-c4nc(-c5ccc(F)c(C)c5)no4)c3)n2)ccc1F', 'CCN(C(=O)/C(=C\\\\NC=O)C(=O)Nc1cc(F)c(Oc2ccnc3ccc4c(c23)OCCO4)cc1C)c1ccc(F)cc1', 'COCCOc1cc2ncnc(Oc3ccc(CC(=O)c4ccc(C)n(-c5ccc(F)cc5)c4=O)cc3F)c2nc1OC', 'C1=CC=C(C(=C1)C(C2=CC(=C3C=CC=NC3=C2O)Cl)NC4=CC=CC=N4)OCC(=O)O', 'Cc1cccc(-n2c(=O)[nH]c(=O)n(-c3ccc(Oc4ccccc4)c(CCl)c3)c2=O)c1', 'CCOc1ccc2cc(C3CC(c4ccco4)=NN3C(=O)c3ccco3)c(Cl)nc2c1', 'O=C(O)c1ccc(CN2C(=O)c3ccc(Cl)cc3NC(=O)[C@H]2Cc2ccncc2)cc1', 'O=c1[nH]c(=O)n(Cc2ccc3c(c2)OCCCO3)c2nccc(-c3ccccc3Cl)c12', 'O=C(NCc1nc2cc(O)ccc2c(=O)n1-c1ccc(Cl)cc1)OCc1ccccc1', 'CCOC(=O)c1oc2cc(-c3cccc(C(=O)Nc4ccc(Cl)cc4)c3)cnc2c1N', 'COc1cccc(C2=NN3[C@H](C2)c2cc(Cl)ccc2O[C@H]3c2ccc([N+](=O)[O-])cc2)c1', 'COc1ccc(Oc2ccc(Cl)cc2NC(=O)Cn2ncc3ccccc3c2=O)cc1', 'Cc1cccc(NC(=O)C(=O)NN=Cc2cccc(OC(=O)c3ccc(Cl)cc3)c2)c1', 'C[C@H](Oc1cccc(Cn2cc(C(=O)c3ccc(Cl)cc3)c3nccnc32)c1)C(=O)O', 'COc1cc(Cl)cc2c1O[C@H](c1ccc([N+](=O)[O-])cc1)N1N=C(c3ccccc3)C[C@@H]21', 'CCc1ccc2oc(-c3ccc(Cl)c(NC(=O)c4cccc([N+](=O)[O-])c4C)c3)nc2c1', 'Cc1ccccc1C(=O)Oc1ccc(/C=N\\\\NC(=O)C(=O)Nc2ccc(Cl)cc2)cc1', 'COc1cccc(C2=NN3[C@H](C2)c2cc(Cl)ccc2O[C@H]3c2cccc([N+](=O)[O-])c2)c1', 'COc1ccc2c(c1)[C@]1(COC(N)=N1)c1cc(CC(=O)c3ccc(Cl)cn3)ccc1O2', 'Cn1c2c(c(=O)n(C)c1=O)[C@H]1c3ccccc3OC[C@@]1(C#N)[C@H](c1ccccc1Cl)O2', 'Cc1ccccc1NC(=O)C(=O)N/N=C\\\\c1ccc(OC(=O)c2ccc(Cl)cc2)cc1', 'CN(Cc1cc([N+](=O)[O-])ccc1Cl)C(=O)Cn1c2ccccc2c(=O)c2ccccc21', 'O=C(C=Cc1cc(Cl)c2c(c1)OCO2)Nc1cccc(C(=O)NCc2ccccn2)c1', 'O=C(O)CNC(=O)c1nc2ccc(-c3cccc(OCc4cccc(Cl)c4)c3)cc2[nH]1', 'COc1ccc(Cl)cc1C(O)=C1C(=O)C(=O)N(Cc2cccnc2)[C@@H]1c1ccncc1', 'COc1ccc(C(=O)[C@H]2[C@H]3C(=O)N(c4cccc(Cl)c4)C(=O)[C@@H]3[C@H]3C=CC=NN32)cc1', 'Cc1cc(/C=N/NC(=O)c2cc3ccccc3o2)c(C)n1-c1cc(C(=O)O)ccc1Cl', 'O=C(O)[C@@H]1C[C@H](Oc2nc3nc(-c4ccc(-c5ccccc5)cc4)c(Cl)cc3[nH]2)CO1', 'COc1ccc(C(=O)[C@@H]2[C@@H]3C(=O)N(c4ccc(Cl)cc4)C(=O)[C@@H]3C3C=CC=NN32)cc1', 'COc1ccc(-c2nnc(-c3ccc(NC(=O)COc4ccccc4Cl)cc3)o2)cc1', 'O=C(Nc1cccc([N+](=O)[O-])c1)c1ccc2c(c1)CCCN2C(=O)c1cccc(Cl)c1', 'O=c1[nH]c(=O)n(Cc2ccc3c(c2)OCCCO3)c2nccc(-c3ccc(Cl)cc3)c12', 'O=C(Nc1ccc(C(=O)CC2(O)C(=O)Nc3ccccc32)cc1)Nc1cccc(Cl)c1', 'Cc1cccc(NC(=O)C(=O)N/N=C\\\\c2ccc(OC(=O)c3cccc(Cl)c3)cc2)c1', 'Nc1c(C(=O)NCCO)cc(Nc2cccc(Cl)c2)c2c1C(=O)c1ccccc1C2=O', 'Cc1ccc(NC(=O)C(=O)N/N=C\\\\c2ccc(OC(=O)c3cccc(Cl)c3)cc2)cc1', 'Cc1ccc2nc(-c3cccc(/N=C/c4c(C)c(Cl)c(C)c([N+](=O)[O-])c4O)c3)oc2c1', 'Cc1ccc(NC(=O)/C(=C/c2cccc([N+](=O)[O-])c2)NC(=O)c2ccc(Cl)cc2)cc1', 'Cc1ccccc1C(=O)Oc1cccc(/C=N/NC(=O)C(=O)Nc2ccccc2Cl)c1', 'COc1cccc(-c2nc(-c3ccccc3OCC(=O)Nc3ccc(Cl)cc3)no2)c1', 'COc1cc(C=NNC(=O)c2ccc(O)c(Cl)c2)cc(C#Cc2ccccn2)c1OC', 'Cc1cc(/C=C2\\\\C(=O)NC(=O)N(c3ccc(Cl)cc3)C2=O)c(C)n1-c1ccc(O)cc1', 'COc1ccc(Cl)cc1/C(O)=C1\\\\C(=O)C(=O)N(Cc2cccnc2)C1c1ccncc1', 'Cc1cccc(-c2nc3cc(/N=C/c4c(C)c(Cl)c(C)c([N+](=O)[O-])c4O)ccc3o2)c1', 'C[C@@H](Nc1c(Nc2ccc(O)c(-c3cc(Cl)ccn3)c2)c(=O)c1=O)c1cccc(O)c1', 'COc1ccc(-c2noc(COc3ccc(Cl)cc3C(=O)Nc3ccccc3)n2)cc1', 'Cn1c(C(=O)Nc2ccc(Oc3ccc(CC(=O)O)cc3Cl)nc2)cc2ccccc21', 'COc1ccc(-c2nc(-c3cccc(OCC(=O)Nc4ccc(Cl)cc4)c3)no2)cc1', 'CCn1c(=O)c(=O)[nH]c2cc(C(=O)Nc3ccc(Oc4ccccc4Cl)cc3)ccc21', 'COc1ccc(-c2nc3ccccc3c(=O)n2NC(=O)c2ccc(Cl)cc2)cc1OC', 'Cc1ccc(C=CC(=O)Nc2cccc(OCc3nnc(-c4ccc(Cl)cc4)o3)c2)o1', 'O=C(CN1C(=O)COc2ccc(NC(=O)c3ccccc3Cl)cc21)Nc1ccccc1', 'COc1ccc(C(=O)Nc2ccc(OCc3cc(=O)n4cc(Cl)ccc4n3)cc2)cc1', 'O=C(NCCc1ccc2c(c1)OCO2)c1cc(-c2ccco2)n(-c2ccc(Cl)cc2)n1', 'COc1ccc(C(=O)Cn2c(=O)n(Cc3ccc(Cl)cc3)c(=O)c3ncccc32)cc1', 'Cc1ccc(C(=O)N2CC(=O)Nc3ccc(Cl)cc3[C@@H]2c2ccccc2)cc1[N+](=O)[O-]', 'CCC(OC(=O)c1ccccc1-c1nc2ccccc2o1)C(=O)Nc1ccc(Cl)cn1', 'COc1ccc(-c2nc(-c3ccc(Cl)cc3)nc(-c3ccc(OC)cc3O)n2)c(O)c1', 'Cc1cc(OCc2ccc(-c3nc(-c4ccc([N+](=O)[O-])cc4)no3)cc2)cc(C)c1Cl', 'COc1ccc(-n2c(C)ccc2/C=C2\\\\C(=O)NC(=O)N(c3ccc(Cl)cc3)C2=O)cc1', 'COc1ccc(Cl)c(-c2ccc3c(=O)n(-c4cncc5c4CCCO5)c(=O)[nH]c3c2)c1', 'CCc1cc2oc(=O)cc(CN3C(=O)N[C@](C)(c4ccc(C#N)cc4)C3=O)c2cc1Cl', 'COc1ccc(Cl)cc1/C(O)=C1\\\\C(=O)C(=O)N(Cc2cccnc2)[C@H]1c1cccnc1', 'O=C1c2ccccc2N2C(=O)CC[C@]2(C(=O)Nc2cccc(Cl)c2)N1Cc1ccco1', 'COc1ccc2cc(COC(=O)c3ccc4c(=O)n5c(nc4c3)CCC5)c(Cl)nc2c1', 'COc1ccc(C2=NN3C(C2)c2cc([N+](=O)[O-])ccc2OC3c2ccc(Cl)cc2)cc1', 'CC(C)c1ccc2oc(-c3ccc(Cl)c(NC(=O)c4cccc([N+](=O)[O-])c4)c3)nc2c1', 'COc1ccc(NC(=O)COc2cccc(-c3noc(-c4ccccc4Cl)n3)c2)cc1', 'O=C(CCc1nc(-c2ccc(Cl)cc2)no1)OCc1ccccc1Oc1cccnc1', 'COc1ccc(C(=O)[C@@H]2[C@@H]3C(=O)N(c4cccc(Cl)c4)C(=O)[C@H]3[C@H]3C=CC=NN32)cc1', 'COc1ccccc1NC(=O)COc1ccccc1-c1noc(-c2cccc(Cl)c2)n1', 'O=C(Nc1ccc(=O)n(Cc2ccccc2Cl)c1)c1ccc(N2C(=O)CCC2=O)cc1', 'Cc1cc2nc(-c3ccc(CNC(=O)c4cc([N+](=O)[O-])ccc4Cl)cc3)oc2cc1C', 'COc1ccc(Oc2ccc(Cl)cc2NC(=O)Cn2cnc3ccccc3c2=O)cc1', 'O=C(CNC(=O)c1ccc(Cl)cc1)N/N=C/c1ccc(OC(=O)c2ccccc2)cc1', 'Cc1cc(OCC(=O)[NH+]([O-])c2ccc(-c3nc(-c4ccccc4)no3)cc2)ccc1Cl', 'O=C(NN[C@@H]1CC(=O)N(c2ccc(Oc3ccccc3)cc2)C1=O)c1ccccc1Cl', 'Cc1cc2nc(-c3ccc(CNC(=O)c4ccc(Cl)c([N+](=O)[O-])c4)cc3)oc2cc1C', 'COc1ccc(C(=O)[C@H]2[C@H]3C(=O)N(c4ccc(Cl)cc4)C(=O)[C@H]3C3C=CC=NN32)cc1', 'COc1ccc(NC(=O)c2ccc3c(=O)n(-c4cccc(Cl)c4)cnc3c2)c(OC)c1', 'O=C(CCc1nc(-c2ccc(Oc3ccc(Cl)cn3)cc2)no1)OCc1ccccc1', 'COC(=O)C1=C(C)OC(N)=C(C#N)[C@@]12C(=O)N(Cc1ccccc1Cl)c1ccccc12', 'N#Cc1nc(-c2ccc(COc3ccccc3Cl)o2)oc1NCCOc1ccccc1', 'O=C(NCc1ccccc1)C(=O)N/N=C/c1cccc(OC(=O)c2ccccc2Cl)c1', 'COc1cc(/C=N\\\\NC(=O)c2ccc(O)c(Cl)c2)cc(C#Cc2ccccn2)c1OC', 'CC(C)c1ccc2oc(-c3ccc(NC(=O)c4ccc(Cl)c([N+](=O)[O-])c4)cc3)nc2c1', 'O=C(c1ccc(-n2cccc2)cc1)N1CCc2noc(-c3cc(Cl)c(O)cc3O)c2C1', 'Cc1c(-c2ccc(Cl)cc2)[nH]c2c(-c3ccccc3)nc(C(=O)NCC(=O)O)c(O)c12', 'COc1cc(NC(=O)c2ccccc2Cl)c(-c2nc(-c3ccccc3)no2)cc1OC', 'Cc1cc(NC(=O)C(C)n2ccc(-c3cc(Cl)ccc3C#N)cc2=O)ccc1C(=O)O', 'N#C/C(=C/c1ccc(-c2cc([N+](=O)[O-])ccc2Cl)o1)C(=O)NCCCc1ccccc1', 'O=C(NCc1ccccc1)C(=Cc1ccc(Cl)cc1)NC(=O)c1ccc([N+](=O)[O-])cc1', 'O=C1NC(=O)C(c2cn(CC(O)CO)c3cc(Cl)ccc23)=C1c1c[nH]c2ccccc12', 'Cc1ccc(Oc2nc3c([nH]2)=CC(Cl)C(c2ccc4onc(C)c4c2)C=3)cc1C(=O)O', 'Cc1ccccc1NC(=O)C(=O)N/N=C/c1ccc(OC(=O)c2ccccc2Cl)cc1', 'COc1cccc2c1O[C@@H](c1ccc([N+](=O)[O-])cc1)N1N=C(c3ccc(Cl)cc3)C[C@@H]21', 'COc1ccccc1OCC(=O)Nc1ccc(-c2nc(-c3ccc(Cl)cc3)no2)cc1', 'C[C@@H](OC(=O)Cn1c2ccccc2c(=O)c2ccccc21)C(=O)Nc1cccnc1Cl', 'COCc1c(C(=O)Nc2ccc(Cl)cc2C(=O)Nc2ccncc2)oc2ccccc12', 'COc1cc(/C=C(/C#N)C(=O)NC(N)=O)cc(Cl)c1OCc1ccc2ccccc2c1', 'Cc1cc(C=NNC(=O)c2cc3cc(Cl)ccc3o2)c(C)n1-c1ccc2c(c1)OCO2', 'COc1ccc(-n2nc(C(=O)Nc3ccc(OC)c(Cl)c3)c3ccccc3c2=O)cc1', 'CC1Oc2cc(/C=N/NC(=O)c3ccc(O)c(Cl)c3)cc(/C=C/c3ccccn3)c2O1', 'COc1ccc(-c2noc(-c3ccccc3NC(=O)c3ccc(Cl)cc3)n2)cc1OC', 'Cc1c(Cl)c(C)c([N+](=O)[O-])c(O)c1/C=N/c1ccc(-c2nc3c(C)cccc3o2)cc1', 'Cc1cc(=O)c(C(=O)OC(C)C(=O)c2c[nH]c3ccccc23)nn1-c1ccc(Cl)cc1', 'Cc1cc(C)c2oc(-c3ccc(C)c(NC(=O)c4ccc(Cl)c([N+](=O)[O-])c4)c3)nc2c1', 'COC(=O)c1cc(C)nc2c1c(=O)n(Cc1ccccc1Cl)c(=O)n2-c1ccccc1', 'Cc1ccc(C(=O)Oc2ccc(/C=N\\\\NC(=O)C(=O)Nc3ccccc3Cl)cc2)cc1', 'COc1ccc(Cl)cc1NC(=O)COc1ccc(-c2nnc(-c3ccccc3)o2)cc1', 'O=C(NCc1cn(-c2ccccc2)c2cc(Cl)ccc2c1=O)Oc1ccc(NO)cc1', 'Nc1cc(-c2ccc3c(CC(=O)O)cn(Cc4cccc(Cl)c4)c3c2)cc([N+](=O)[O-])c1', 'N/C(=N\\\\O)c1cc2cc(-c3cc(CC(=O)O)cc(-c4ccccc4)c3O)[nH]c2cc1Cl', 'CC(C(=O)N1CCc2c(noc2-c2ccc(Cl)cc2)C1)N1C(=O)c2ccccc2C1=O', 'CCc1cc2oc(=O)cc(CN3C(=O)NC(C)(c4ccc(C#N)cc4)C3=O)c2cc1Cl', 'COc1ccc(C(=O)C2C3C(=O)N(c4ccc(Cl)cc4)C(=O)C3C3C=CC=NN32)cc1', 'C/C(=N\\\\NC(=O)c1ccc2c(c1)OCO2)c1cccc(NC(=O)c2ccc(Cl)cc2)c1', 'COc1ccccc1NC(=O)c1cc2ccc(O)cc2o/c1=N\\\\Nc1ccc(Cl)cc1', 'COc1ccc([C@H]2CC(c3ccccc3)=NN2C(=O)c2ccc(Cl)c([N+](=O)[O-])c2)cc1', 'COc1ccc(CNc2oc(-c3ccc(COc4ccc(Cl)cc4)o3)nc2C#N)cc1', 'N#Cc1ccc(C2C=CCC2N2CC3COc4cc(OC(=O)O)ccc4C3=N2)cc1Cl', 'O=C(Nc1ccc(Cl)c(C2=Nc3ncc(CC(=O)C4(O)CC4)cc3C2)c1)c1ccco1', 'Cc1ccc(NC(=O)CN2C(=O)N/C(=C\\\\c3ccc(-c4ccc(Cl)cc4)o3)C2=O)cc1', 'CC(C)c1ccc2oc(-c3ccc(NC(=O)c4cc([N+](=O)[O-])ccc4Cl)cc3)nc2c1', 'COc1ccc(C(=O)[C@@H]2[C@@H]3C(=O)N(c4cccc(Cl)c4)C(=O)[C@@H]3[C@H]3C=CC=NN32)cc1', 'COc1ccc(-c2noc(-c3ccccc3C(=O)Nc3ccccc3Cl)n2)cc1OC', 'C/C(=N\\\\NC(=O)C(=O)Nc1ccccc1Cl)c1ccc(OC(=O)c2ccccc2)cc1', 'COc1cc2nc(OCCn3ccnc3)c3c(c2cc1OC)C(=O)c1cc(Cl)ccc1-3', 'COc1ccc(Cl)cc1/N=c1\\\\oc2c(OC)cccc2cc1C(=O)Nc1ccccn1', 'COc1ccc(C2=NN(C(=O)c3ccccc3Cl)[C@@H](c3cccc([N+](=O)[O-])c3)C2)cc1', 'O=C(COc1ccccc1Cl)Nc1ccc2nc(-c3ccc4c(c3)OCCO4)cn2c1', 'Cc1ccc2nc(-c3ccc(/N=C/c4c(C)c(Cl)c(C)c([N+](=O)[O-])c4O)cc3)oc2c1', 'Cc1ccc(C(=O)Oc2cccc(/C=N/NC(=O)C(=O)Nc3ccccc3Cl)c2)cc1', 'O=C(NO)c1c(Cl)c(-c2ccc(-c3ccc(OCCO)cc3)cc2)nc2ccncc12', 'Cc1c(Cl)cccc1NC(=O)C(=O)NN=Cc1ccc(OC(=O)c2ccccc2)cc1', 'COc1ccc(Cl)cc1C(O)=C1C(=O)C(=O)N(Cc2cccnc2)[C@H]1c1ccncc1', 'COc1ccc(C(=O)Nn2c(-c3cccc(Cl)c3)nc3ccccc3c2=O)c(OC)c1', 'Cc1cc(C=C2C(=O)NC(=O)N(c3ccc(Cl)cc3)C2=O)c(C)n1-c1cccc(O)c1', 'COc1ccc(C2=NN3[C@@H](C2)c2ccccc2O[C@H]3c2ccc(Cl)c([N+](=O)[O-])c2)cc1', 'COc1cc(Cl)ccc1C(=O)NNC(=O)Cn1c2ccccc2c(=O)c2ccccc21', 'O=C1c2ccccc2N2C(=O)CC[C@@]2(C(=O)Nc2cccc(Cl)c2)N1Cc1ccco1', 'Cc1cc(C)c2oc(-c3ccc(C)c(NC(=O)c4ccc([N+](=O)[O-])cc4Cl)c3)nc2c1', 'O=C(NCc1ccccc1)/C(=C\\\\c1cccc([N+](=O)[O-])c1)NC(=O)c1ccccc1Cl', 'CCOc1ccc(/C(O)=C2\\\\C(=O)C(=O)N(c3ncccn3)C2c2cccc(Cl)c2)cc1', 'O=C(NC(C(=O)NCc1ccc(Cl)cc1)c1ccccc1)c1cccc2[nH]c(=O)oc12', 'COc1ccc(Cl)cc1/C(O)=C1\\\\C(=O)C(=O)N(Cc2ccccn2)C1c1ccncc1', 'O=C(COC(=O)CCc1nc(-c2ccc(Cl)cc2)no1)Nc1cccc2ccccc12', 'CCOc1ccc(Nc2oc(-c3ccc(COc4ccc(Cl)cc4)o3)nc2C#N)cc1', 'COc1ccc(C(=O)NC(CC(=O)O)c2ccccc2Cl)nc1-c1cccc(C#N)c1', 'O=C(/C=C/c1cc(Cl)c2c(c1)OCO2)NCc1ccc(C(=O)Nc2ccncc2)cc1', 'COc1cccc2c1O[C@H](c1ccc([N+](=O)[O-])cc1)N1N=C(c3ccc(Cl)cc3)C[C@H]21', 'O=C(COc1ccccc1Cl)Nc1cccc(-c2nc3cc4c(cc3[nH]2)OCCO4)c1', 'COc1cccc2c1O[C@@H](c1cccc([N+](=O)[O-])c1)N1N=C(c3ccc(Cl)cc3)C[C@@H]21', 'Cc1cc2nc(-c3ccc(C)c(NC(=O)c4ccc(Cl)c([N+](=O)[O-])c4)c3)oc2cc1C', 'COc1cccc(C(=O)Nn2c(-c3cccc(Cl)c3)nc3ccccc3c2=O)c1OC', 'COc1ccc(C2=NN3[C@H](C2)c2cc(Cl)ccc2O[C@@H]3c2cccc([N+](=O)[O-])c2)cc1', 'Cc1ccc(C(=O)Oc2ccc(/C=N/NC(=O)C(=O)Nc3ccc(Cl)cc3)cc2)cc1', 'COc1ccc(-c2nc(-c3ccccc3OCC(=O)Nc3ccc(Cl)cc3)no2)cc1', 'COc1cc2c3c(c(=O)n(CCn4ccnc4)c2cc1OC)-c1ccc(Cl)cc1C3=O', 'Cc1ccc(N2C(=O)C(Cl)=C(Nc3cccc(C(=O)NCc4ccco4)c3)C2=O)cc1', 'COc1ccc(Oc2ccc(Cl)cc2NC(=O)Cn2ncc(=O)c3ccccc32)cc1', 'COc1c(Cl)cccc1COc1ccc(Nc2ncc3cc4c(cc3n2)OCO4)cc1', 'O=C(Nc1ccc2c(c1)N(C(=O)c1ccccc1)CCC2)c1ccc(Cl)c([N+](=O)[O-])c1', 'O=c1ccc(=O)oc2cccc3nc(N4CCNCC4)c(o1)c(-c1ccc(Cl)cc1)c32', 'Cc1cc2nc(COc3cc(Cl)ccc3NC(=O)/C=C/c3ccccc3)cc(=O)n2o1', 'Cc1ccccc1C(=O)Oc1ccccc1/C=N/NC(=O)C(=O)Nc1ccc(Cl)cc1', 'CC(=O)Nc1ccc(NC2=C(c3ccc(Cl)cc3)C(=O)N(Cc3ccco3)C2=O)cc1', 'O=C(/N=N/c1c(O)n(CCOc2ccc(Cl)cc2)c2ccccc12)c1ccccc1O', 'COc1ccc(-n2nc(C(=O)Nc3cccc(Cl)c3)c3ccccc3c2=O)c(OC)c1', 'Cc1ccc(NC(=O)C(=O)N/N=C\\\\c2ccc(OC(=O)c3ccccc3Cl)cc2)cc1', 'COc1ccc(OCc2ccc(-c3nc(C#N)c(NCc4ccccc4Cl)o3)o2)cc1', 'COC(=O)c1cc(C)nc2c1c(=O)n(Cc1ccc(Cl)cc1)c(=O)n2-c1ccccc1', 'COc1ccc(Cl)cc1/C(O)=C1\\\\C(=O)C(=O)N(Cc2cccnc2)C1c1cccnc1', 'O=C(CCn1[nH]c(=O)c2ccccc2c1=O)Nc1ccccc1Oc1ccccc1Cl', 'C[C@@H](CO)n1cnc2c(-c3cccc4c3OCO4)nc(-c3ccc(Cl)cc3)cc2c1=O', 'O=C(/N=N/c1c(O)n(CCOc2ccc(Cl)cc2)c2ccccc12)c1ccc(O)cc1', 'O=C1CCC(C(=O)OC2c3ccccc3C(=O)N2c2ccc3ccc(Cl)nc3n2)CC1', 'Cc1cc(/C=N/NC(=O)c2cc3cc(Cl)ccc3o2)c(C)n1-c1ccc2c(c1)OCO2', 'Cc1ccc(C2=NN(C(=O)Cn3c(=O)oc4cc(Cl)ccc43)[C@H](c3ccco3)C2)cc1', 'Cc1c(OC(=O)OC(C)C)ncc2[nH]c3ccc(Oc4cccc(Cl)c4C#N)cc3c12', 'COc1ccc(Cl)c(/C(O)=C2\\\\C(=O)C(=O)N(Cc3ccncc3)C2c2cccnc2)c1', 'O=C(C[C@H]1C(=O)Oc2ccccc2N1C(=O)Nc1cccc(Cl)c1)Nc1ccccc1', 'COc1cc(Cl)cc2c1O[C@@H](c1ccc([N+](=O)[O-])cc1)N1N=C(c3ccccc3)C[C@H]21', 'COc1ccc(Cl)c(/C(O)=C2\\\\C(=O)C(=O)N(Cc3cccnc3)C2c2ccncc2)c1', 'Cc1ccc(C(=O)Oc2cccc(/C=N/NC(=O)C(=O)Nc3cccc(Cl)c3)c2)cc1', 'COC(=O)C1=C(C)OC(N)=C(C#N)[C@@]12C(=O)N(Cc1cccc(Cl)c1)c1ccccc12', 'Cc1ccc2c(=O)c(C(=O)c3ccc(Cl)cc3)cn(CC(=O)NCc3ccco3)c2n1', 'CCOc1ccc(/C(O)=C2\\\\C(=O)C(=O)N(c3ncccn3)[C@@H]2c2cccc(Cl)c2)cc1', 'COc1ccc(NC(=O)COc2cccc(-c3noc(-c4cccc(Cl)c4)n3)c2)cc1', 'COCCn1c2c(c(=O)[nH]c1=O)C(c1ccc(Cl)cc1)C1=C(N2)c2ccccc2C1=O', 'COC(=O)C1=C(C)OC(N)=C(C#N)[C@]12C(=O)N(Cc1cccc(Cl)c1)c1ccccc12', 'CC(=O)Cc1ccc(-c2nc3nc(Oc4ccc(C)c(C(=O)O)c4)[nH]c3cc2Cl)cc1', 'O=C(O)c1ccnc(-n2nccc2OCc2ccc(Cl)cc2OCc2ccccc2)c1', 'COc1cccc(C(=O)Nc2cccc(OCc3cc(=O)n4cc(Cl)ccc4n3)c2)c1', 'Cc1cc(C)c(NC(=O)/C(C#N)=C/c2ccc(-c3ccc(Cl)c([N+](=O)[O-])c3)o2)c(C)c1', 'COc1ccc(Cl)cc1C(=O)NNC(=O)Cn1c2ccccc2c(=O)c2ccccc21', 'COc1cc(-c2noc(-c3ccccc3)n2)ccc1OCC(=O)Nc1cccc(Cl)c1', 'COc1cc(-c2nc3ccccc3c(=O)[nH]2)ccc1OCC(=O)Nc1ccccc1Cl', 'Cc1nc(COc2ccc(C(=O)Nc3ccc(Oc4ccccc4Cl)cc3)cc2)no1', 'COc1ccc(C(=O)C2C3C(=O)N(c4cccc(Cl)c4)C(=O)C3C3C=CC=NN32)cc1', 'Cc1ccccc1C(=O)Oc1ccc(/C=N\\\\NC(=O)C(=O)Nc2ccccc2Cl)cc1', 'COc1ccc2[nH]c(C(=O)N3CC(CCl)c4c3cc([N+](=O)[O-])c3ccccc43)cc2c1', 'O=C(O)CC(c1ccccc1)n1cnc2ccc(NC(=O)c3cc(Cl)ccc3O)cc21', 'COc1cc2c(cc1-c1c(C)noc1C)ncc1oc(=O)n(Cc3ccccc3Cl)c12', 'COc1ccccc1NC(=O)Cn1c(=O)n(-c2ccc(Cl)cc2)c(=O)c2ccccc21', 'COc1ccccc1-c1nc(-c2cccc(NC(=O)COc3ccc(Cl)cc3)c2)no1', 'COc1ccc(/C(O)=C2/C(=O)C(=O)N(Cc3ccncc3)C2c2cccnc2)cc1Cl', 'CC(C)c1ccc(-c2nc3cc(NC(=O)c4ccc(Cl)c([N+](=O)[O-])c4)ccc3o2)cc1', 'CN(C(=O)c1ccc(Cl)c(-n2c(=O)[nH]c3cccc(CO)c3c2=O)c1)c1ccccc1', 'COc1cccc(C2=NN3[C@@H](C2)c2cc(Cl)ccc2O[C@H]3c2cccc([N+](=O)[O-])c2)c1', 'Cc1ccccc1NC(=O)C(=O)N/N=C/c1ccccc1OC(=O)c1ccc(Cl)cc1', 'Cc1cc(/C=C2/C(=O)NC(=O)N(c3ccc(Cl)cc3)C2=O)c(C)n1-c1ccc(O)cc1', 'CC(=NNC(=O)c1ccc2c(c1)OCO2)c1cccc(NC(=O)c2ccc(Cl)cc2)c1', 'COCCn1c2c(c(=O)[nH]c1=O)[C@H](c1ccc(Cl)cc1)C1=C(N2)c2ccccc2C1=O', 'COc1ccc(C(=O)[C@H]2[C@H]3C(=O)N(c4cccc(Cl)c4)C(=O)[C@H]3C3C=CC=NN32)cc1', 'C[C@@H](Nc1c(Nc2ccc(O)c(-c3cccc(Cl)n3)c2)c(=O)c1=O)c1cccc(O)c1', 'COc1cc(-c2nc(-c3ccccc3)c(-c3ccc(Cl)cc3)[nH]2)c([N+](=O)[O-])cc1OC', 'Cc1ccc(NC(=O)C(=O)N/N=C/c2ccc(OC(=O)c3ccccc3)cc2)cc1Cl', 'O=C1CCN(C(=O)c2ccc(Cl)c([N+](=O)[O-])c2)c2ccccc2N1Cc1ccccc1', 'COC(=O)c1ccc(Cn2cc(/C=N\\\\NC(=O)c3ccccc3Cl)c3ccccc32)o1', 'Cc1cc(=O)c(C(=O)O[C@@H](C)C(=O)c2c[nH]c3ccccc23)nn1-c1ccc(Cl)cc1', 'COc1ccccc1NC(=O)Cn1c(=O)n(-c2cccc(Cl)c2)c(=O)c2ccccc21', 'Cc1cccc(NC(=O)C(=O)NN=Cc2ccc(OC(=O)c3ccc(Cl)cc3)cc2)c1', 'COc1ccc(-c2noc(-c3ccc(NC(=O)COc4ccc(Cl)cc4)cc3)n2)cc1', 'Cc1c(Cl)cccc1NC(=O)C(=O)NN=Cc1ccccc1OC(=O)c1ccccc1', 'Cc1cc(C)c(NC(=O)/C(C#N)=C/c2ccc(-c3ccc([N+](=O)[O-])cc3Cl)o2)c(C)c1', 'O=C(Nc1ccc2c(c1)CN(C(=O)c1ccccc1)CC2)c1ccc([N+](=O)[O-])cc1Cl', 'COc1cc(C=Nn2c(=O)[nH]c3ccccc3c2=O)cc(Cl)c1OCc1ccccc1', 'Cc1ccccc1NC(=O)C(=O)NN=Cc1ccc(OC(=O)c2cccc(Cl)c2)cc1', 'O=C(CNC(=O)c1ccccc1Cl)NN=Cc1cccc(OC(=O)c2ccccc2)c1', 'COc1ccc(Cl)cc1/C(O)=C1\\\\C(=O)C(=O)N(Cc2cccnc2)[C@H]1c1ccccn1', 'COc1ccc(C(=O)[C@@H]2[C@@H]3C(=O)N(c4cccc(Cl)c4)C(=O)[C@@H]3C3C=CC=NN32)cc1', 'COc1cc(OC)cc(C(=O)Nc2ccccc2-c2nc(-c3ccc(Cl)cc3)no2)c1', 'O=C(NCc1cc(-c2cc3ccccc3o2)on1)C1CC(=O)N(c2ccc(Cl)cc2)C1', 'Cc1ccc(NC(=O)/C(=C/c2cccc([N+](=O)[O-])c2)NC(=O)c2cccc(Cl)c2)cc1', 'COc1ccc(Oc2ncccc2NC(=O)COc2ccc(Cl)c3cccnc23)cc1', 'COc1ccc(C2=NN(C(=O)c3ccc(Cl)cc3)[C@@H](c3cccc([N+](=O)[O-])c3)C2)cc1', 'COc1ccc(Cl)c(/C(O)=C2\\\\C(=O)C(=O)N(Cc3ccccn3)C2c2ccncc2)c1', 'CC(=O)Nc1ccc(C(=O)N/N=C/c2cc(Cl)ccc2OC(=O)c2ccccc2)cc1', 'COc1ccc(NC(=O)c2nn(-c3ccc(Cl)cc3)c(=O)c3ccccc23)cc1OC', 'O=C(/C=C\\\\c1cc(Cl)c2c(c1)OCO2)NCc1ccc(C(=O)Nc2ccncc2)cc1', 'COc1cc(-n2cccc2)c(Cl)cc1C(=O)Nc1ccc(NC(=O)c2ccco2)cc1', 'COc1ccc(C(=O)Nn2c(-c3cccc(Cl)c3)nc3ccccc3c2=O)cc1OC', 'Cc1nn(Cc2ccccc2)c(Cl)c1C=CC(=O)OCN1C(=O)c2ccccc2C1=O', 'O=C(COc1cccc(-c2noc(COc3ccccc3)n2)c1)Nc1ccccc1Cl', 'COc1ccc(C(=O)Nc2ccccc2-c2nc(-c3ccccc3Cl)no2)cc1OC', 'C=C(NC(=O)c1ccc(-c2ccc(NC(=O)Nc3ccccc3Cl)cc2)cc1)C(=O)O', 'COc1ccc(Cn2c(=O)c3ncccc3n(CC(=O)c3ccc(Cl)cc3)c2=O)cc1', 'N#Cc1cccc(OCC(=O)NNC(=O)c2ccc(COc3ccc(Cl)cc3)cc2)c1', 'COc1ccc(-c2noc(-c3cccc(NC(=O)c4ccccc4Cl)c3)n2)cc1OC', 'CNC(=O)Nc1ccc(Cl)c(OCC#CC#CCOc2ccc(/C(C#N)=C/O)cc2)c1', 'COC(=O)c1ccc(Cn2cc(/C=N\\\\NC(=O)c3ccc(Cl)cc3)c3ccccc32)o1', 'COc1ccc(NC(=O)Cn2c(=O)n(-c3ccc(Cl)cc3)c(=O)c3ccccc32)cc1', 'COc1ccc(Cl)cc1C(=O)Nc1cccc(-c2noc(-c3ccccc3OC)n2)c1', 'COc1ccc(NC(=O)c2ccccc2-c2nc(-c3ccc(Cl)cc3)no2)cc1OC', 'COc1ccc(/C(O)=C2/C(=O)C(=O)N(Cc3ccccn3)C2c2ccccn2)cc1Cl', 'Cc1ccc(NC(=O)C(=O)N/N=C/c2cccc(OC(=O)c3ccccc3Cl)c2)cc1', 'COc1ccc(NC(=O)Cn2ccn(-c3cccc4ccccc34)c(=O)c2=O)cc1Cl', 'COc1cccc2c1O[C@@H](c1ccc([N+](=O)[O-])cc1)N1N=C(c3ccc(Cl)cc3)C[C@H]21', 'CCN1CCCC(C1)OC(=O)C(C2=CC=CC=C2)C3=CC=CC=C3', 'CC(C)(O)CCc1ccc(C(=O)NC2CC2c2ccccc2)cc1', 'CC(C)=C1C(=O)OC(C)(C)/C1=C(/C)c1c(C)n(C)c2ccccc12', 'OC[C@]12CCOC[C@H]1CN(Cc1ccccc1-c1ccccc1)C2', 'CN(C)CC/C=C1/C2=C(C=CC1CC=O)OCc1ccccc1C2', 'CC[C@H](NC(=O)/C=C/c1ccccc1OC)c1ccc(C)c(C)c1', 'COc1cc(C=Cc2ccccc2)cc(OCN)c1CC=C(C)C', 'OC(Cc1ccccc1)c1ccc(/C=C/CN2CCOCC2)cc1', 'C=CCOc1ccc(-c2ccc(/C=C/CCCC(C)O)nc2)cc1', 'Cc1cccc(OCC(=O)N[C@@H](C)c2ccc3c(c2)CCCC3)c1', 'C[C@@H](c1cccc(OC(=O)C[C@H]2C[C@@H]2c2ccccc2)c1)N(C)C', 'COc1cccc(C2CCCN2C(=O)CC(C)c2ccccc2)c1', 'COC(=O)[C@H](c1ccccc1)[C@@H]1CCCCN1Cc1ccccc1', 'COc1ccc(CCN(C=O)C2(c3ccccc3)CCCC2)cc1', 'C[C@H](NC(=O)CCCOc1ccccc1)c1ccc2c(c1)CCC2', 'CC[C@@H](C)c1ccccc1NC(=O)/C=C/c1cc(C)ccc1OC', 'C[C@@H]1[C@H]2OC(C)(C)O[C@H]2[C@H](c2ccccc2)N1Cc1ccccc1', 'CCC1(C)CN(Cc2ccccc2)C(Cc2ccccc2)C(=O)O1', 'Cc1ccccc1[C@H](C)NC(=O)COc1cccc2c1CCCC2', 'O=C(NCC1CCCCC1)c1ccccc1COc1ccccc1', 'C#C[C@]1(O)CC[C@H]2[C@@H]3CCC4=C/C(=N\\\\O)CCC4=C3C=C[C@@]21CC', 'CC(C)(C)c1ccc(N2OC[C@@H]3CO[C@@H](c4ccccc4)[C@@H]32)cc1', 'C=Cc1c([C@H]2C[C@@H](OCc3ccccc3)CCO2)c[nH]c1/C=C\\\\C', 'COc1ccccc1[C@@H]1CCC2CC[C@@H](c3ccccc3OC)N21', 'CC(O)C1CCCN(C(=O)C2CC2c2ccc3ccccc3c2)C1', 'c1ccc(C(Cc2ccc3c(c2)OCCO3)N2CCCCC2)cc1', 'C#CC1=CC2=CC(=O)CC[C@]2(C)[C@H]2CC[C@]3(CN)C(=O)CC[C@H]3[C@H]12', 'Cc1ccccc1C(=O)NC[C@@H]1Cc2cc(C(C)(C)C)ccc2O1', 'CC(C)(C)C1=CC(=O)C(C(C)(C)C)c2c(-c3ccccc3)noc21', 'CC[C@H](Oc1ccc2ccccc2c1)C(=O)NCC1=CCCCC1', 'CC[C@]12CCCN3C(=O)/C(=C(/C)O)[C@H](c4ccccc4)C(=C31)CC2', 'Cc1cc(C)c(N(C=O)C(=O)[C@H]2[C@H](C)[C@@H]3C=C[C@@H]2C32CC2)c(C)c1', 'CO[C@H](C)c1ccc(-c2cccc(C(=O)N3CCCCC3)c2)cc1', 'CC[C@@H](NC(=O)/C=C\\\\c1ccc(OC(C)C)cc1)c1ccccc1', 'C/C(CCCO)=C(/c1ccc(O)cc1)c1ccc(C2CNC2)cc1', 'C=CCOc1ccc(-c2ccc(/C=C/CCCC(C)O)cc2)nc1', 'Cc1ccc(C=CC(=O)Nc2ccc(OCCC(C)C)cc2)cc1', 'CC(C)c1ccc(OCc2ccc(C(=O)N3CCCC3)cc2)cc1', 'CCCN1Cc2c(C)cccc2[C@H]2c3cc(O)c(O)cc3CC[C@@H]21', 'C=Cc1ccc(NC(=O)CC)c(COc2ccc(CC)cc2C)c1', 'C/C=C\\\\C=C/c1ccc(C(=O)Nc2ccc(C)cc2)c(O)c1.CC', 'O=C1[C@@H]2[C@H]3C=C[C@@H]([C@@H]4C[C@@H]34)[C@@H]2C(=O)N1C12CC3CC(CC(C3)C1)C2', 'COC(=O)C(Cc1ccccc1)/N=C(\\\\c1ccccc1)C(C)(C)C', 'CC1(C)CC(C(C)(C)c2ccccc2)Nc2ccc(C(=O)O)cc21', 'COCc1ccc(C(=O)N(Cc2ccccc2)C(C)C2CC2)cc1', 'COc1ccc2c(c1)C13CCN(CC4CC4)C(C2)C1C=CC(=O)C3', 'CC1(C)CCC(C)(C)c2cc(C(=O)Nc3ccc(O)cc3)ccc21', 'CC1(C)CC(=O)c2ccn(-c3ccc(C(=O)C(C)(C)C)cc3)c2C1', 'Cc1ccccc1C1CC(C)N(C(=O)CC(O)c2ccccc2)C1', 'C=C(C)COc1cccc(C(=O)N[C@H](C)CCc2ccccc2)c1', 'CCCCC1=CCOC(Cc2ccccn2)C(O)c2ccccc21', 'CCCCCCNC(=O)OCC1c2ccccc2-c2ccccc21', 'CCCN1Cc2cc(C)ccc2[C@@H]2c3cc(O)c(O)cc3CC[C@H]21', 'Cc1ccc([C@@H](NC(=O)COc2cc(C)cc(C)c2)C2CC2)cc1', 'COc1ccccc1C1Nc2c(C)cc(C)cc2C2OCCCC12', 'Cc1ccc(C)c(NC(=O)[C@H](C)Oc2ccc3c(c2)CCCC3)c1', 'CCN(CC)CCOC(=O)C1c2ccccc2Cc2ccccc21', 'C[C@]12CC1C1C3CCc4cc(O)c(C#N)cc4C3CC[C@]1(C)[C@H]2O', 'CCC[C@H](OC1CC(CCc2ccccc2)=NO1)c1ccccc1', 'C/C(=C/C(=O)NCCc1ccc(CO)cc1)CCc1ccccc1', 'CCCCCCNC(=O)C1Cc2ccccc2Oc2ccccc21', 'COC1Cc2ccccc2C2(CCN(Cc3ccccc3)CC2)O1', 'CCCCOc1ccccc1C=CC(=O)Nc1ccccc1CC', 'CC(C)[C@@H]1[C@H](c2ccccc2)C[C@@H]2O[C@@]1(O)CN2c1ccccc1', 'C=C(C)COc1cccc(C(=O)N[C@@H](CC)c2ccc(C)cc2)c1', 'C=CC1C(=C(C)C)C(C)CC12CC(=O)N(c1ccc(C)cc1)C2=O', 'COC(=O)c1ccc(C[C@@H]2CC[C@H]([C@H](C)c3cccnc3)C2)cc1', 'CC1(C)C(=O)C(C#N)=C[C@]2(C)C[C@](O)(Cc3ccccc3)CC[C@H]12', 'CC(C)(C)c1ccc(OCC(=O)N[C@@H]2CCc3ccccc32)cc1', 'CC(C)c1ccccc1OCC(=O)N[C@H](c1ccccc1)C1CC1', 'COc1cc2c(cc1OC)[C@H]1c3cc(C)ccc3CN[C@]1(C)CC2', 'CCc1ccccc1O[C@@H](C)C(=O)N[C@@H]1CCCc2ccccc21', 'Cc1ccc(OC[C@@H](C)NC(=O)c2ccc3c(c2)CCCC3)cc1', 'COc1ccc(/N=C/c2cccc(C3CCC(C)CC3)c2O)cc1', 'Cc1cc(C)cc(C(c2ccccc2C)N2CCCC2C(=O)O)c1', 'C=C1C=CC=C(C)C12c1c(C)cc(C)cc1N(C)C2C(=O)OCC', 'COc1ccc2c(c1)CC[C@@H]1[C@@H]2CCC2(C)[C@H]1C=C[C@@]2(O)CC#N', 'CC(C)c1ccc(-c2c(NCCC3=CCCCC3)c(=O)c2=O)cc1', 'CCc1ccc(CC(C(=O)O)c2ccc(N3CCCC3)cc2)cc1', 'CC(C)(C)OC(=O)NC(c1ccccc1)C1Cc2ccccc2C1', 'CCCCCC=Cc1ccc2ccc(C=CC(=O)N(C)O)cc2c1', 'C[C@@H]1CC2=C3C=C[C@@]4(C)[C@@H](CC[C@@]4(O)CC#N)[C@@H]3CCC2=CC1=O', 'NC(c1cccc(OCC2CC2)c1)c1cccc(OCC2CC2)c1', 'Cc1cc(C)c(C)c(O[C@@H](C)C(=O)N2CCc3ccccc3C2)c1', 'CCOc1ccc(NC(=O)C2(c3cccc(C)c3)CCCC2)cc1', 'C[C@@H](CC(=O)N1[C@H](c2ccccc2)COC1(C)C)c1ccccc1', 'Cc1cc(N)c2c(c1CC(=O)c1ccc(O)c(C(C)C)c1)CCC2', 'CNCCC1c2ccc(-c3ccc4c(c3)OCO4)cc2C(C)[C@H]1C', 'Cc1cccc(C(=O)N2CCC(C(O)c3ccccc3)CC2)c1C', 'C=C[C@@H](c1cccc(OCc2ccccc2)c1)[C@@H](C)C(=O)N(C)C', 'COc1ccc(C2CCCCN(C(=O)c3cccc(C)c3)C2)cc1', 'C=C(C)COc1cccc(C(=O)NC(C)CCc2ccccc2)c1', 'CCc1ccccc1NC(=O)[C@H](C)Oc1ccc2c(c1)CCCC2', 'COc1cc2c(cc1O)C(C1(c3ccccc3)CCC1)N(C)CC2', 'CC1(C)C(=O)N(Cc2ccccc2)C(O)(c2ccccc2)C1(C)C', 'CCOc1ccc2cc(COc3ccccc3)n(CC(C)C)c2c1', 'CCOc1ccccc1CCC(=O)N(Cc1ccccc1)C1CC1', 'Cc1ccccc1[C@H](O)[C@](C#N)(Cc1ccccc1)OC(C)(C)C', 'CCCCCCCNC(=O)C1c2ccccc2Oc2ccccc21', 'CCOc1ccc2c(c1)C(C)=CC(C)(C)N2c1ccc(OC)cc1', 'C=Cc1cccc2c1-c1c(C)cccc1C2NCCOCCOC', 'CCC=CC(C)OC(=O)CNC(c1ccccc1)c1ccccc1', 'CCCCOCC(O)CNc1cc2ccccc2c2ccccc12', 'CCOC(=O)C1CCCCCc2cccc(c2)-c2ncccc2C1', 'CC1CN(Cc2ccccc2)CC(COCc2ccccc2)C1=O', 'COc1ccc(C2(C(=O)Nc3c(C)cccc3C(C)C)CC2)cc1', 'CC[C@H](Oc1cc(C)ccc1C)C(=O)N1CCCc2ccccc21', 'CCN1CCO[C@@H]2c3ccc(OCc4ccccc4)cc3CC[C@H]21', 'Cc1ccc(C)c(C2CCCN2C(=O)CC(O)c2ccccc2)c1', 'CC[C@]1(CCCc2ccccc2)CN(c2ccc(OC)cc2)C1=O', 'CN(C)CCOc1ccc2c(c1)OC(C)(C)C=C2c1ccccc1', 'Cc1ccccc1N1C(=O)[C@@H]2[C@H](C1=O)[C@@]1(C)C=C[C@@]2(C(C)C)CC1', 'COCCN(CCOC)Cc1c2ccccc2cc2ccccc12', 'O=C(NCC1(O)Cc2ccccc2C1)C1=CC2CC/C=C\\\\CCC12', 'COc1c(C)c(C)cc2c1CC[C@H](NC(C)=O)c1cc(C)ccc1-2', '[H]/N=C(\\\\CCCCCC)c1cc(C)ccc1OC(=O)c1ccccc1', 'CCC/C(=C/NC(c1ccccc1)c1ccccc1)C(=O)OCC', 'CCCCOc1cccc(-c2ccoc2C2=CN3CCC2CC3)c1', 'Cc1ccc2c(c1)[C@@H]1[C@@H](O)[C@@H](CO)[C@@](C)(C[C@H]1c1ccccc1)N2', 'CCCCCc1ccc(/C=C/C(=O)c2c(N)cccc2O)c(C)c1', 'CC(C)CCOc1ccc2ccccc2c1CNCc1ccco1', 'CC(NC(=O)COc1ccc2ccccc2c1)C1CC2CCC1C2', 'CC[C@H](Oc1ccc(C)c(C)c1)C(=O)N1c2ccccc2C[C@@H]1C', 'Cc1cc(C)cc(O[C@H](C)C(=O)N[C@H]2CCCc3ccccc32)c1', 'CCC(=O)N1CCC[C@H]1C(OC)(c1ccccc1)c1ccccc1', 'Cc1cccc(CCC(=O)N2CCC(c3ccc(O)cc3)CC2)c1', 'CCCCC(C(=O)NCCc1ccccc1)C(=O)c1ccccc1', 'CCCOCc1ccccc1CNC(=O)C1CC1c1ccccc1', 'CCC1(CC)Cc2cc(OC)c(OC)cc2C(c2ccccc2)=N1', 'C=CCOc1ccc(C(=O)N[C@@H](CC)c2ccc(C)c(C)c2)cc1', 'O=C(NCc1ccccc1CO)C1CCC(c2ccccc2)CC1', 'Cc1ccc(C)c(CC(=O)N[C@H]2CC(C)(C)Oc3ccccc32)c1', 'CCCOc1ccc(/C=C/C(=O)Nc2ccc(C(C)C)cc2)cc1', 'O=C(c1ccccc1)c1ccc(CCCON2CCCCC2)cc1', 'CN(CC(O)C1CC1)C(=O)CC(c1ccccc1)c1ccccc1', 'COc1cccc(CCC(=O)N2CC[C@H](c3ccccc3)[C@H]2C)c1', 'COc1ccc(C(CC(=O)NC(C)c2ccccc2)C2CC2)cc1', 'c1ccc(CC2(c3ccccc3)OCC(C3CCCCN3)O2)cc1', 'C[C@H](OC(=O)C(c1ccccc1)N1CCCCC1)c1ccccc1', 'CCc1ccc(C2CN(C(=O)CCc3ccccc3)CCO2)cc1', 'CC(Oc1ccc2c(c1)CCCC2)C(=O)NCCc1ccccc1', 'C=C1CCC2[C@H]3Cc4ccc(O)c5c4[C@@]2(CCN3CC2CC2)C1O5', 'COCCN(Cc1ccccc1)C(=O)c1ccc2c(c1)CCCC2', 'O=C(O)C1(c2ccccc2)CCN(CCCc2ccccc2)CC1', 'O=C(Cc1cccc2ccccc12)N1CC[C@]2(O)CCCC[C@@H]2C1', 'CCCC[C@@H](CC)C(=O)Nc1ccc(C(=O)c2ccccc2)cc1', 'Cc1ccc(C)c(C(=O)N[C@@H]2CC(C)(C)Oc3ccc(C)cc32)c1', 'CC(CC(C(=O)N1CCOCC1)c1ccccc1)c1ccccc1', 'CN(CCC1CCOCC1)C(=O)c1ccc(-c2ccccc2)cc1', 'C[C@H](NC(=O)[C@H]1CCCC[C@@H]1c1ccc(O)cc1)c1ccccc1', 'O=C(c1ccccc1)C(OCCN1CCCCC1)c1ccccc1', 'CCCCCOc1ccc(/C=C/C(=O)NC)c(-c2ccccc2)c1', 'COC(=O)c1c(C2CCCC2)nc2ccccc2c1C1CCCC1', 'CC.CCOC(=O)c1[nH]c(-c2ccccc2)cc1-c1ccccc1.[H][H]', 'C[C@@H]1[C@H](C)CCC[C@H]1NC(=O)c1cccc(Oc2ccccc2)c1', 'O=C(O)C1CC2CCCCC2N1CCc1ccc2ccccc2c1', 'CC1=CCC(N)c2cc(C3=CC=C(C4=CCC(O)CC4)C3C)oc21', 'c1ccc(CN2CCCC3(CC2)OC[C@@H](c2ccccc2)O3)cc1', 'CCOc1ccccc1CCC(=O)N1CCCC1c1ccccc1', 'CCN(CC)Cc1ccccc1COC(=O)/C=C/c1ccccc1', 'CCOC(=O)CCCCCN1c2ccccc2Cc2ccccc21', 'O=C(O[C@H](CCN1CCCCC1)c1ccccc1)c1ccccc1', 'O=C(O)[C@@H](NCC1CCC(c2ccccc2)CC1)c1ccccc1', 'Cc1ccc(C(=O)C(C)N(C)C(=O)c2ccc(C)c(C)c2)cc1C', 'O=C(Cc1ccccc1)N1CCCC(COCc2ccccc2)C1', 'CCCOc1ccc(/C=C/C(=O)N(CC)Cc2ccccc2)cc1', 'CC(C)(C)c1cccc(OCC(=O)N2CCCc3ccccc32)c1', 'Cc1ccc(CCC(=O)OC2(c3ccccc3)CCNCC2)cc1', 'Cc1ccc(C(=O)N2CC(Cc3ccccc3)OCC2(C)C)cc1', 'CC[C@@H](C)c1ccccc1OCC(=O)N[C@@H]1CCc2ccccc21', 'C[C@@H]1C[C@H](CO)CCN1C(=O)Cc1ccc(-c2ccccc2)cc1', 'CC1(C(=O)NCCc2ccc(CO)cc2)CCCc2ccccc21', 'CCc1ccc(-c2c(CNCCOC)oc3ccc(C)cc23)cc1', 'C[C@H](OC(=O)/C=C/[C@@H](C)N(C)Cc1ccccc1)c1ccccc1', 'C=CC(=O)NC(CC)(CC(C)(O)c1ccccc1)c1ccccc1', 'CCCCc1ccc(-c2ccc3c(c2)CCCC3NC(=O)O)cc1', 'O=C(CCN1CCC(Cc2ccccc2)CC1)c1ccc(O)cc1', 'C[C@@H]1C[C@H](N(Cc2ccccc2)Cc2ccccc2)C[C@@H]1C(=O)O', 'OC1(c2ccc(OC3CC3)cc2)CCCN(Cc2ccccc2)C1', 'COc1ccc(C(=O)CN2CCCC(C)C2)cc1-c1ccccc1', 'CCC(=NOC)[C@@H]1[C@@H]2CCC(C[C@H]1c1ccc3ccccc3c1)O2', 'CN(CC1CCCC1O)C(=O)C1CC1c1ccc2ccccc2c1', 'COc1ccc(C=O)cc1-c1cc2c(cc1C)N(C(C)C)CCC2', 'c1ccc(C[C@H](NC2CCCCC2)c2ccc3c(c2)OCO3)cc1', 'COc1ccc(C2(C(=O)Nc3ccc(C(C)(C)C)cc3)CC2)cc1', 'COCc1cccc(NC(=O)/C=C/c2ccc(C(C)(C)C)cc2)c1', 'C[C@@H]1[C@H](C)CCC[C@H]1NC(=O)c1ccc(Oc2ccccc2)cc1', 'CCCNC[C@@H](O)c1oc2ccccc2c1CCc1ccccc1', 'CCCCOc1ccc(C(=O)N[C@H]2CCCc3ccccc32)cc1', 'CC(C)(C)OC(=O)N1c2ccccc2CCC1(C)c1ccccc1', 'CCc1ccc(CC(=O)N[C@@H]2CCCc3cc(OC)ccc32)cc1', 'C[C@H]1CN(Cc2cc3c(cc2O)CCC3)C[C@H](c2ccccc2)O1', 'CC(C)(C)c1ccc2c(c1)C1OCCC1C(c1cccc(O)c1)N2', 'COc1cc(C(=O)N2CCC(c3ccccc3)CC2)cc(C)c1C', 'O=C(NC1CCCCCC1)c1ccc(COc2ccccc2)cc1', '[C-]#[N+]c1ccc(Cc2c(C)cc(OC)c(CC(C)C)c2OC)cc1', 'COc1cc(C)c(C(=O)N2c3ccccc3C[C@@H]2C)cc1C(C)C', 'CCOC(=O)CC1CC(c2ccccc2)N(Cc2ccccc2)C1', 'Cc1ccc(C2CNC(=O)C(Cc3ccc(O)c(C)c3)C2)cc1C', 'CC(C)(C)CC(C)(C)NC(=O)c1cc2c(ccc3ccccc32)o1', 'O=C(Cc1ccc(-c2ccccc2)cc1)NC1CCC(CO)CC1', 'c1ccc(C(Oc2ccccc2CC2CC2)[C@@H]2CNCCO2)cc1', 'Cc1ccc2ccccc2c1CN1CC[C@]2(CCCO2)CCC1=O', 'CC(NC(=O)COCc1ccccc1)c1ccc2c(c1)CCCC2', 'CCOc1ccccc1NC(=O)C=Cc1ccc(C(C)(C)C)cc1', 'CN1CCC[C@@H](OC(=O)C(C)(c2ccccc2)c2ccccc2)C1', 'COc1ccc(C2(CNC(=O)c3cccc(C)c3)CCCC2)cc1', 'C=C/C=C(C)\\\\C=C/C.Cc1ccccc1CNc1c(C)c(=O)c1=O', 'CC[C@@H](Oc1ccccc1C)C(=O)N[C@@H]1CCCc2ccccc21', 'c1ccc2c3c(ccc2c1)OC1(N2CCOCC2)CCCCC1C3', 'O=C(COc1ccc(-c2ccccc2)cc1)NC1CCCCCC1', 'OC1c2ccccc2CCC1N1CCC(O)(c2ccccc2)CC1', 'C[C@@H](CC1CC[C@H](c2ccc(=O)[nH]c2)C1)c1ccc2c(c1)CCO2', 'COc1ccc2cc(C(=O)[C@@H]3CCCN(C4CCC4)C3)ccc2c1', 'Cc1cccc(CNC(=O)[C@@H](C)Oc2ccc3c(c2)CCCC3)c1', 'Cc1cc(C2CCC(N(C)C(=O)c3ccccc3)CC2)ccc1O', 'CC(Oc1ccccc1)C(=O)N1CCCCC(c2ccccc2)C1', 'COc1ccccc1CCNC(=O)Cc1ccc2c(c1)CCCC2', 'O[C@H](COc1ccc2c(c1)CCC2)CN1CCc2ccccc2C1', 'CCC(NC(=O)c1cccc(OC)c1)c1ccc2c(c1)CCCC2', 'CCOc1ccc2c(c1)C(C)=CC(C)(C)N2.O=Cc1ccccc1', 'CCc1ccc(C(C)(C(=O)O)c2ccc(N3CCCC3)cc2)cc1', 'CC(Oc1ccc(Cc2ccccc2)cc1)C(=O)N1CCCCC1', 'C[C@H](Oc1ccc2c(c1)CCCC2)C(=O)NCCc1ccccc1', 'Cc1cccc(/C=C/C(=O)NCc2ccccc2COC(C)C)c1', 'Cc1cccc(C(N)=O)c1C(c1ccccc1)C1(O)CCCCC1', 'CN1CCCC[C@H]1[C@H]1COC(c2ccccc2)(c2ccccc2)O1', 'CCOc1ccc(C(C)NC(=O)C2CCCc3ccccc32)cc1', 'Cc1cc(C)c(N(C=O)C(=O)[C@@H]2[C@@H](C)[C@H]3C=C[C@H]2C32CC2)c(C)c1', 'CC1CNCCC12OCC(C)(c1cccc(-c3ccccc3)c1)O2', 'Cc1c(COC(=O)NC2CCCCC2)cccc1-c1ccccc1', 'CCN(CC)c1c(OC)ccc2c1C=Cc1ccccc1C2(C)O', 'COCc1cccc(C(=O)N2CCCC2c2cc(C)cc(C)c2)c1', 'CCOC(=O)[C@H]1CCCN(Cc2ccc(-c3ccccc3)cc2)C1', 'CCN(C[C@@H]1CCOC1)C(=O)[C@@H]1C[C@@H]1c1ccc2ccccc2c1', 'CCOC(=O)C1Cc2ccccc2CN1Cc1ccc(CC)cc1', 'COc1cc2c(cc1[C@H](C)N(C)c1ccccc1)C=CC(C)(C)O2', 'CC1(c2ccccc2)CCC(NCc2ccc(C(=O)O)cc2)CC1', 'CCOC(=O)C1CN(Cc2ccccc2)CC1c1ccccc1C', 'CCN(CC)C(=O)OCC1=c2ccccc2=CC2(C)C=CC=CC12', 'COc1cccc(C2CCN2Cc2cc3c(cc2OC)CCC3)c1', 'Cc1ccccc1CN1CCCC1c1ccc2c(c1)OCCCO2', 'COC(CN1CCCCC1)(C(=O)c1ccccc1)c1ccccc1', 'CC/C(=C/C(=O)N(C)Cc1cccc(OC)c1)c1ccc(C)cc1', 'C=C1CC23C=C(C)CCC2Oc2c(OC)cc(C)c(c23)C(=C)N1C', 'COc1ccc(CC[C@@H]2CCN([C@@H](C)c3ccccc3)C2=O)cc1', 'Cc1ccc(OCC(=O)N2CCC(c3ccccc3)CC2)c(C)c1', 'Cc1ccc(C(c2cccc(C)c2)N2CCCCC2C(=O)O)cc1', 'CCc1cccc(CC)c1NC(=O)/C=C/c1cc(C)ccc1OC', 'CCOC(=O)N1CCCCC1C(c1ccccc1)c1ccccc1', 'CCOc1ccc(NC(=O)c2ccc(C3CCCCC3)cc2)cc1', 'Oc1ccc2c(c1O)CCC1C2CCCN1CCc1ccccc1', 'Cc1ccc(OCCN(C)C(=O)C2(c3ccccc3)CCC2)cc1', 'C=CCN1CC[C@@]23c4c5ccc(OC)c4OC2C(=C)CC[C@@H]3[C@@H]1C5', 'COC(c1ccccc1)C1CCN(C(=O)c2cccc(C)c2)CC1', 'COCc1cccc(C(=O)N(Cc2ccccc2)C(C)C2CC2)c1', 'COC1=C2C=COC2=NC3=C1C=CC=C3O', 'O=C(O)C1C(=O)C=CN=C1c1ccccc1', 'Nc1ccc2c(c1)Oc1cc(O)ccc1O2', 'O=[N+]([O-])c1ccc(C=Cc2ccco2)cc1', 'Oc1[nH]c(O)c2c1C=COc1ccccc1-2', 'CC(=O)c1ccc2cc(C(=O)O)cnc2c1', 'O=c1cc(C=Cc2ccccc2)oc(=O)[nH]1', 'Cc1nc(-c2ccco2)c(-c2ccco2)o1', 'O=[N+]([O-])c1cccc(-c2ccccc2O)c1', 'O=C(O)c1cccn1C(=O)c1ccccc1', 'O=C(O)c1ccc(-c2ccc[nH]c2=O)cc1', 'COC(=O)C1(C#N)Cc2ccccc2C1=O', 'N#CC1=Cc2cc3c(cc2OC1)OCCO3', 'C/N=C1\\\\C(=O)C(C(=O)O)=Cc2ccccc21', 'O=Cc1cccn1C(=O)Oc1ccccc1', 'Cc1cc2c(ccc3cc(C(=O)O)oc32)[nH]1', 'COC(=O)c1c(C=O)cnc2ccccc12', '[H]/N=C1\\\\C=C=Cc2oc(C)c(C(C)=O)c2C1=O', 'CC1=CC(=O)c2cc3c(cc21)oc(=O)n3C', 'N#Cc1ccc([C@@H](O)[C@@H]2C=CC(=O)O2)cc1', 'O=C(O)c1c(O)cccc1-c1ccccn1', 'O=Cc1cccn1-c1cccc(C(=O)O)c1', '[H]/N=C/C1=C(OC)C(=O)c2ccccc2C1=O', 'Cc1ccc2c(c1)[nH]c1cc(C(=O)O)oc12', 'O=C(O)/C=C/c1cc2ccccc2c(=O)[nH]1', 'O=C(O)/C=C/c1ccc2cccc(O)c2n1', 'COc1cc(C#CC#N)c(C=O)cc1OC', 'CC(=O)c1nc2ccccc2cc1C(=O)O', 'O=C(CC(=O)c1ccoc1)c1ccncc1', 'O=C(O)c1cc(-c2ccccc2)c[n+]([O-])c1', 'O=c1cc(-c2ccc3c(c2)OCO3)cc[nH]1', 'CCc1noc2c1ccc1oc(=O)ccc12', 'C=Cn1cc(C(=O)O)c(=O)c2ccccc21', 'COC(=O)c1ccc(O)c(C#CCC#N)c1', 'O=Cc1ccc(NC(=O)c2ccoc2)cc1', 'NC(=O)c1cccc2c(C(=O)O)cccc12', 'Cc1cc2c(C)c3ccc(=O)oc3nc2o1', 'O=C1OC(=O)C2C3NC(c4ccccc43)C12', 'N#CCOC(=O)C1=Cc2ccccc2OC1', 'CC1=CCC(=O)c2cc3oc(=O)[nH]c3cc21', 'N#CC(=CC=CC=Cc1ccoc1)C(=O)O', 'O=C(c1cccnc1)c1c(O)cccc1O', 'CC1=C[C@@H](Oc2ccc(C#N)cc2)OC1=O', 'Cn1c(C=O)cc2oc3c(O)cccc3c21', 'Cn1c(C=O)cc2oc3ccc(O)cc3c21', 'N#Cc1ccc(C2CC(O)=CC(=O)O2)cc1', 'O=C(O)c1cc(-c2ccncc2)ccc1O', 'COc1cc(C=O)cc(C#CCC#N)c1O', 'O=C(O)c1ccn(-c2ccccc2)c(=O)c1', 'O=[N+]([O-])C=Cc1cc2ccccc2cc1O', 'COc1c2[nH]ccc2cc2ccc(=O)oc12', 'O=C(O)c1ccccc1C(=O)n1cccc1', 'O=C(O)c1ccc(C=NO)c2ccccc12', 'O=C1CC(=O)/C(=C\\\\c2ccccc2)C(=O)N1', 'O=C1C2=C(CN(O)C2)C(=O)c2ccccc21', 'O=C(O)c1ccccc1-c1ccc(=O)[nH]c1', 'NC(=O)c1ccoc1C(=O)c1ccccc1', 'O=C(Oc1cc(=O)cc[nH]1)c1ccccc1', 'CC(=O)c1ccc2ccc(C(=O)O)nc2c1', 'CC1=CC(=O)N(c2cccc(C=O)c2)C1=O', 'Cc1ccc2c(c1)oc1cc(C(=O)O)[nH]c12', 'COc1c2ccoc2nc2cccc(O)c12', 'O=C(O)C(=O)Nc1cccc2ccccc12', 'C#Cc1cccc(NC(=O)/C=C\\\\C(=O)O)c1', 'N#C/C(=C\\\\c1ccc(C=O)cc1)COC=O', 'COc1ccc(C#N)c(C#CCC(=O)O)c1', 'O=C(O)c1cnc2cc3c(cc2c1)OCC3', 'O=C1CC(c2ccc3[nH]ccc3c2)C(=O)O1', 'C=c1onc(-c2ccc(C(=O)O)cc2)c1=C', 'CC#CC(O)N1C(=O)c2ccccc2C1=O', 'NOC(=O)c1ccc2cc(C=O)ccc2c1', 'O=C(O)c1cccc(-c2cccc[n+]2[O-])c1', 'O=C(Oc1cccc(O)c1)c1cccnc1', 'Cc1cc(C#N)c(C=O)c(/C=C/C(=O)O)c1', 'Oc1ccc2c(c1)Oc1cc(O)ccc1N2', 'NCc1cc2cc3ccc(=O)oc3cc2o1', 'O=C(O)Oc1cncc(-c2ccccc2)c1', 'O=C1C=C(c2ccc3c(c2)COC3)C(=O)N1', 'COC(=O)c1ccc2nc(C=O)ccc2c1', 'O=C(O)c1cn2c3c(cccc3c1=O)CC2', 'O=C(O)C=Cc1cc2ccccc2c(=O)[nH]1', 'N#CC1(c2ccc3c(c2)OCO3)CC(=O)C1', 'O=C(O)c1cccc(/C=C/c2ncco2)c1', 'O=Cc1cccc(NC(=O)c2ccoc2)c1', 'Cc1cc(Oc2ccc3occc3c2)no1', 'CC1=C/C(=N/C(=O)c2ccco2)C=CC1=O', 'O=CC=Cc1ccc2cc(C(=O)O)[nH]c2c1', 'Cc1oc2nc3oc(=O)ccc3cc2c1C', 'Cc1coc2nc3oc(=O)ccc3c(C)c12', 'C=C/C=c1\\\\c(=C)oc(=O)c2cc(C=O)[nH]c12', 'O=Cc1c[nH]c2cccc(C=CC(=O)O)c12', 'O=[N+]([O-])c1ccc(Oc2ccccc2)cc1', 'O=C(O)C=Cc1ccc2cccc(O)c2n1', 'O=C(O)C1N=CC2=C1c1ccccc1OC2', 'O=C1C=CC(=O)N1c1cccc2c1OCC2', 'CC(=O)C1=CC(=O)N(c2ccccc2)C1=O', 'O=C(O)c1cccc(-c2ccc[nH]c2=O)c1', 'COc1cc(C#CCC#N)cc(C=O)c1O', 'O=C1Nc2ccccc2C1(O)c1ccoc1', 'O=[N+]([O-])c1ccc(/C=C/c2ccco2)cc1', 'COc1ccc(CC(=O)O)cc1C#CC#N', 'O=C(Oc1cc[nH]c(=O)c1)c1ccccc1', 'N#CCC(=O)c1ccc(C=CC(=O)O)cc1', 'O=C(/C=C\\\\c1ccccn1)c1occc1O', 'COc1ccc2ccc(N=O)c(C=O)c2c1', 'O=C(O)c1ccc(-n2ccccc2=O)cc1', 'O=CNc1cc2ccccc2cc1C(=O)O', 'C=CCN1C(=O)C(=O)c2ccccc2C1=O', 'O=C(O)c1c[nH]c(C(=O)c2ccccc2)c1', 'Cn1c(C=O)cc2c3ccc(O)cc3oc21', 'N#Cc1ccc2c(CCC(=O)O)occ2c1', 'O=CC1=NCCC12OC(=O)c1ccccc12', 'N#CC(C=Cc1ccccc1)=COC(=O)O', 'C#Cc1cccc(NC(=O)/C=C/C(=O)O)c1', 'N#Cc1ccc2c(c1)C=C(C(=O)O)CCO2', 'CC#CC#CC(=O)Nc1cccc(O)c1O', 'O=C(Oc1ccccc1)Oc1ccccn1', 'Cn1c(=O)c2c(c3ccccc31)OC(=O)C2', 'Cc1nc2ccccc2c2c1C(O)OC2=O', 'O=Nc1cccc(O)c1-c1ccccc1O', 'C=C1CC(=O)N(c2ccc(C=O)cc2)C1=O', 'COc1cccc2c(=O)c3ccoc3[nH]c12', 'O=[N+]([O-])c1ccc2c(c1)OC1CC=CC=C21', 'COC(=O)C#Cc1ccc(OC)c(C#N)c1', 'Cc1ccc2c(O)c(C#N)c(=O)oc2c1C', 'COC(=O)c1ccc2c(C)c(C#N)oc2c1', 'C#CC(=O)N1Cc2ccc(C(=O)O)cc2C1', 'CC(=O)c1c([N+](=O)[O-])ccc2ccccc12', 'O=C1Nc2ccc(O)cc2C1c1ccoc1', 'COC(=O)C(=O)C=Cc1ccc(C#N)cc1', 'O=C1C(=O)c2cccc3c2N(CCC3)C1=O', 'O=c1ccccn1-c1ccc2c(c1)OCO2', 'O=c1ccccn1C1Oc2ccccc2O1', 'Oc1ccc(-c2ccc3c(c2)OCO3)nc1', 'O=C(O)c1ncccc1-c1ccccc1O', 'O=C1C2=C(OCCN2)C(=O)c2ccccc21', 'CNCC#Cc1ccc2c(c1)C(=O)OC2=O', 'O=C(O)c1ccccc1/N=C/c1ccco1', 'O=[N+]([O-])c1ccccc1C=Cc1ccco1', 'O=C(O)c1cc(O)cnc1-c1ccccc1', 'O=C(O)c1ccc(-c2cc[n+]([O-])cc2)cc1', 'C#CCCC#COc1ccc([N+](=O)[O-])cc1', 'O=C(C#Cc1cccc([N+](=O)[O-])c1)C1CC1', 'COc1ccc2nc3c(cc2c1)COC3=O', 'Oc1cc2c([nH]c3ccccc32)c(O)c1O', 'C1=COC(c2ccc(-c3ccccn3)o2)O1', 'NC(=O)c1ccc(-c2ccc(C=O)o2)cc1', '[H]/N=c1\\\\cc(/C(C=O)=C/O)oc2ccccc12', 'O=C(O)c1ccnc(-c2cccc(O)c2)c1', 'O=[N+]([O-])c1ccc(/C=C/c2ccoc2)cc1', 'O=C(O)c1cncc(-c2ccc(O)cc2)c1', 'C=Cc1cccc2c1C(=O)C(C(=O)O)C=N2', 'O=C1NOC(c2ccc3ccccc3c2)O1', 'O=C(OC(=O)c1cc[nH]c1)c1ccccc1', 'N#Cc1ccccc1C=CC(=O)CC(=O)O', 'Oc1ccc2c(c1)OC1=CC(O)C=CC1=N2', 'O=CCc1ccc2ccccc2c1[N+](=O)[O-]', 'C=C1C=c2ccc(C(=O)OC)cc2=NC1=O', 'O=C1CC=CN=C1c1ccc(C(=O)O)cc1', 'O=C(O)c1cc(=O)cc(-c2ccccc2)[nH]1', 'CC(=O)c1ccc2ncc(C(=O)O)cc2c1', 'NC(=O)c1ccc2ccccc2c1C(=O)O', 'O=C(c1ccccc1)c1cc[nH]c1C(=O)O', 'CC1=CC(=O)c2cc3oc(=O)n(C)c3cc21', 'Cc1cc(C#N)c(/C=C/C(=O)O)c(C=O)c1', '[CH]c1cccc(-c2nc(C(=O)OC)co2)c1', 'CC#CC#CC(=O)Nc1cc(O)ccc1O', '[O-][n+]1cccc(C2Oc3ccccc3O2)c1', 'O=C=NC1(C(=O)O)C=Cc2ccccc2C1', 'COc1ccc(C#N)cc1C#CCC(=O)O', 'Nc1ccc2ccccc2c1C(=O)C(=O)O', 'O=[N+]([O-])/C(=C/c1ccco1)c1ccccc1', 'N#CCc1cc2c(cc1C#CCO)OCO2', 'NC(=O)/C=C(\\\\C(=O)O)C1=Cc2ccccc21', 'O=Cc1nccc2cc3c(cc12)OCCO3', 'O=C(O)C(=O)N1C=CC=c2ccccc2=C1', '[3H]O/C(=C/[N+](=O)[O-])c1ccc2ccccc2c1', 'N#C/C(=C\\\\C=C\\\\C=C\\\\c1ccco1)C(=O)O', 'ON(O)c1cccc2c1oc1ccccc12', 'CC(=O)Oc1ccc2ccnc(C=O)c2c1', 'Cc1cc(=O)c2c(ccc3c(C)noc32)o1', 'O=C(O)c1ccc(/N=C/c2ccco2)cc1', 'Cn1c2c(c3ccccc31)C(O)=C(O)C2=O', 'O=C(O)c1cc2cc3c(cc2[nH]1)OCC=C3', 'O=C=C1c2ccccc2C=CN1CC(=O)O', 'C=Cc1cccc2[nH]c(C(=O)O)cc(=O)c12', 'NC(=O)c1ccc2cc(C(=O)O)ccc2c1', 'O=c1[nH]c2c(cc1O)-c1ccccc1CO2', 'COC1(C#N)C(=O)C=Cc2cccc(O)c21', 'NC(=O)c1cc(=O)cc(-c2ccccc2)o1', 'Cc1nc2c(ccc3c(C)cc(=O)oc32)o1', 'NC(=O)CC#Cc1cc(C=O)cc(C=O)c1', 'CCOc1ccc2c(=O)c(C#N)coc2c1', 'CN1C(=O)C2(C=CC(=O)O2)c2ccccc21', 'O=C1C=C(CC(=O)c2ccccc2)C(=O)N1', 'COc1cc(C=O)cc(C#CC#N)c1OC', 'O=C(O)c1noc2c1CCc1ccccc1-2', 'N#Cc1ccc([C@H](O)[C@H]2C=CC(=O)O2)cc1', 'O=C1CCc2c[nH]c3cccc(c23)C(=O)O1', 'O=CCC=Cc1cccc2c1C(=O)C(=O)N2', 'O=C1NC(=O)[C@H]2[C@@H]1[C@@H]1O[C@H]2c2ccccc21', 'COC1OC(=O)c2cc3ccccc3nc21', 'N#CC(=CC1=C2C=COC=C2CC1)C(=O)O', 'NC1=Cc2oc3ccc(C(=O)O)cc3c2C1', 'COC(=O)c1cc(C#CCC#N)ccc1O', 'O=C(O)c1ccc(C(=O)c2ccc[nH]2)cc1', 'O=C(c1ccccc1O)c1ccc[nH]c1=O', 'O=C(O)N1C=Cc2c(oc3ccccc23)C1', 'O=Cc1ccc(NC(=O)c2ccccc2)o1', 'O=[N+]([O-])c1cccc(-c2cccc(O)c2)c1', 'O=CNC(=O)c1cc2ccccc2cc1O', 'O=C(O)c1cc[n+]([O-])c(-c2ccccc2)c1', 'N#CC1(C(=O)c2ccc3c(c2)OCO3)CC1', 'O=C(O)c1cc2cccc3c2n(c1=O)CC3', 'Oc1ccc2c(c1O)Nc1ccccc1O2', 'O=C(O)c1ccc(-c2cncc(O)c2)cc1', 'O=C(O)c1cccnc1-c1ccccc1O', 'Cc1cc(-c2ccco2)cc(C=O)c1N=O', 'COC(=O)C#Cc1cccc2c1CNC2=O', 'N#C/C(=C\\\\c1ccc2c(c1)CCO2)C(=O)O', 'C[C@@H](C#N)Oc1ccc2ccc(=O)oc2c1', 'Cc1ccc2c(c1)oc(=O)c1c(C)noc12', 'O=C(O)c1onc2c1CCc1ccccc1-2', 'O=[N+]([O-])/C(=C\\\\c1ccco1)c1ccccc1', 'NCC(=O)c1cc2ccoc2c2occc12', 'O=N[C@H](C(=O)O)c1ccc2ccccc2c1', 'O=C(O)c1cc(-c2ccccc2O)ccn1', 'CC1=C2C=C3OC(=O)NC3C=C2C(=O)C=C1', 'O=C(O)C(=O)Cc1cc2ccccc2cn1', 'Cc1occ2c1c(=O)n(O)c1ccccc21', 'O=C(O)c1[nH]c(=O)ccc1-c1ccccc1', 'O=C(O)c1cccc(-c2cc(=O)cc[nH]2)c1', 'NCC(=O)C1=CC(=O)c2ccccc2C1=O', 'CCOc1cc(C=O)cc(C#CC#N)c1O', 'CNCC#Cc1cccc2c1C(=O)OC2=O', 'C=C(C(=O)c1ccco1)c1ccc(=O)[nH]c1', 'O=Cc1ccc(C23CC2C(=O)NC3=O)cc1', 'Cc1c(C=O)cc(C#N)cc1/C=C/C(=O)O', 'Cc1cccc2[nH]c3oc(C(=O)O)cc3c12', 'O=CCC=Cc1ccc2c(c1)C(=O)NC2=O', 'O=c1[nH]c(=O)c2c(o1)-c1ccccc1CC2', 'O=C(O)c1ccc2n1-c1ccccc1OC2', 'CC(=O)c1cc(C)c(O)c2oc(C#N)cc12', 'NC(=O)C=C(C(=O)O)C1=c2ccccc2=C1', 'O=C1c2c([nH]c3ccccc23)[C@H]2CO[C@@H]1O2', 'O=C(c1ccccc1)c1c[nH]c(C(=O)O)c1', 'COC(=O)c1cccc2c(C=O)ccnc12', 'O=c1ccc2ccccc2o1.c1cnoc1', 'N#CCC#Cc1ccc(OCC(=O)O)cc1', 'O=C(O)c1coc(C2Cc3ccccc32)n1', 'COC(=O)C#Cc1ccc2nc(C)oc2c1', 'C=CC(=O)n1ccc2cc(C(=O)O)ccc21', 'O=Cc1ccc(C(=O)c2ccc(O)cc2)[nH]1', 'O=Cc1occc1C(=O)Nc1ccccc1', 'C=CC(=O)Nc1cc2ccccc2oc1=O', 'O=C(O)c1ccc(C(=O)c2ccccc2)[nH]1', 'CC1=NC2=C(C=CN=C2)C(=N1)N3CC(C3)CN(C)S(=O)(=O)C', 'COCc1nc(C(=O)N2CCN(c3nccn3C)CC2)cs1', 'Cc1cc(N2CCC[C@@H](c3[nH]ncc3S(C)(=O)=O)C2)ncn1', 'CCc1nnsc1C(=O)N1CCN(Cc2cc(C)no2)CC1', 'CCCc1sc(C(=O)OCc2nc(N)nc(N)n2)cc1CC', 'CC(N)C(=O)N1CCN(Cc2cc(=O)n3ccsc3n2)CC1', 'CSCC[C@H](CO)NC(=O)[C@H](c1ccccc1)n1cnnn1', 'CCn1nccc1CN1CCc2nc(S(C)(=O)=O)ncc2C1', 'CCCCCNc1nc(SCC)nc2ncc([N+](=O)[O-])cc12', 'CNc1snc(C)c1C(=O)N1CCCC(c2noc(C)n2)C1', 'O=C(NCCN1CCOCC1)Nc1nc2ccc(S)cc2[nH]1', 'Cc1cc([N+](=O)[O-])cnc1N1CCN(C2=NCC(C)S2)CC1', 'COCCc1cnc(NC(=O)N2CCCc3n[nH]c(C)c32)s1', 'CCN(CC)C(=O)Cn1cc(C(=O)NCc2ccsc2)nn1', 'CCn1cnnc1CNC(=O)CC(NC(C)=O)c1cccs1', 'CSCC[C@@H](CO)NC(=O)c1ccc(Cn2cnnn2)cc1', 'C[C@@H](c1nnnn1C1CCCCC1)S(=O)(=O)c1ccccn1', 'CSc1ncnn2ccc(CNC3CCN(C(=O)O)CC3)c12', 'CCn1ncc(S(=O)(=O)N2CCCC2c2cnccn2)c1C', 'Cc1nnc(SCc2ccc(OCC(=O)N(C)C)cc2)n1N', 'Cn1cnn(CC(=O)Nc2nc3c(s2)CC(C)(C)CC3)c1=O', 'CCc1nnsc1C(=O)N1CCOC(c2nc(C)cn2C)C1', 'CN(C)Cc1nc(C2(NC(=O)c3ccns3)CCCC2)no1', 'C=C1C=CC(=N/N=c2/sc(N(C)CCO)nn2C)C=C1OC', 'Cc1nn(C)c2ncc(S(=O)(=O)N3C[C@H]4CNC[C@H]4C3)cc12', 'Cc1occc1-c1nnc(SCC(=O)N2CCCCC2)n1N', 'CCN1CCN(S(=O)(=O)c2cccnc2)C[C@H]1c1ncc[nH]1', 'C/N=C(\\\\NCCNC(=O)c1ccco1)NCc1ncc(C)s1', 'CCOc1ccccc1NC(=O)CSc1nnc(CC)n1N', 'CC(NC(=O)CSc1nnnn1C1CCCC1)c1ccco1', 'Cc1sc(=O)n(CCC(=O)Nc2cncnc2N(C)C)c1C', 'CC(=O)Nc1nc(C)nc(NC(C)COCc2ccsc2)n1', 'CSCCC(=O)Nc1cc(N2CCOCC2)n2nccc2n1', 'Cc1nc(CN2CCc3nc(S(C)(=O)=O)ncc3C2)[nH]c1C', 'CC(=O)NCc1cnc([C@@H]2CN(Cc3cncs3)CCO2)[nH]1', 'Cc1cc(C)n(CC(=O)NCCCc2csc(N)n2)c(=O)n1', 'Cc1cc(-c2ncc(C)[nH]2)nc([C@@H]2CCCN2S(C)(=O)=O)n1', 'CCCn1nnnc1C[S@](=O)[C@H](C)C(=O)Nc1ccccc1', 'Cc1nnc(CN2CCCC(c3ccn(CC(=O)O)n3)C2)s1', 'CC(C)(C)OC(=O)C1(CNc2nc(N)c3ncsc3n2)CC1', 'CCN1CCN(S(=O)(=O)c2cnn(-c3ccccn3)c2)CC1', 'COc1ccc(CNC(=O)CSc2nncn2C(C)C)cn1', 'Cn1cc(-c2nsc(NC(=O)CC3(O)CCCCC3)n2)cn1', 'Cc1nc(-c2ccc(NS(=O)(=O)N3CCCC3C)cc2)n[nH]1', 'CN(Cc1ncc[nH]1)c1ccc(S(=O)(=O)N2CCCC2)cn1', 'CC1CCCN(S(=O)(=O)c2ccc(-n3cnnn3)cc2)CC1', 'Cc1csc(CC(=O)NCC2(c3nn[nH]n3)CCOCC2)c1', 'NC(=O)c1cccnc1N1CCN(C(=O)C2CSCN2)CC1', 'Cc1ccnc([C@@H]2CCCN(S(=O)(=O)c3cn(C)cn3)C2)n1', 'Cn1cnc(S(=O)(=O)N[C@@H]2CCCN(c3ccccn3)C2)c1', 'Cc1nc(SCC(=O)NCCCn2c(C)cccc2=O)n[nH]1', 'CC(C)(NC(=O)c1cccc(OCCN)c1)c1nnc(N)s1', 'CC(C)CC(NC(=O)c1cnn(C)c1)C(=O)Nc1nccs1', 'Cn1c(-c2ccco2)nn(CN2CCC[C@@H](C(N)=O)C2)c1=S', 'COc1ccc(Cn2nnnc2SC(C)C(=O)N(C)C)cc1', 'CC(=O)NCCNC(=O)CCNc1ncnc2sc(C)cc12', 'CC(O)CCN(C)Cc1nnc2n(C)c(=O)c3sccc3n12', 'CN(c1cnccn1)S(=O)(=O)c1cn(C)nc1C1CCCC1', 'O=S(=O)(c1cccnc1)N1CCN(CCn2ccnc2)CC1', 'Cc1noc(C2CCN(C(C)C(=O)Nc3nccs3)CC2)n1', 'Cc1c(S(=O)(=O)N2CCC[C@@H](c3cnccn3)C2)cnn1C', 'Cc1nc(-c2ccncc2)ncc1[C@@H](C)NS(=O)(=O)N(C)C', 'Cc1cc(-c2cncc(C[C@@H]3CCN(S(C)(=O)=O)C3)n2)n[nH]1', 'OCCn1c(-c2ccncc2)nn(CN2CCOCC2)c1=S', 'CC(=O)N(C)c1nc(CN2CCC[C@H]2c2noc(C)n2)cs1', 'Cc1ccnc(N2CCN(C3=NC[C@@H](C)S3)CC2)c1[N+](=O)[O-]', 'CCN(CC)C(=O)CSc1nncn1-c1ccc(OC)nc1', 'CCn1cnnc1CNC(=O)C[C@H](NC(C)=O)c1cccs1', 'N#C/C(=C/NC1=NCCS1)C(=O)NCCCN1CCCC1=O', 'NO/C(=N\\\\Sc1ccc(N)cc1)N1CC2(C=N1)CCOCC2', 'Cc1cc(-c2nccn2C)nc([C@H]2CCCN2S(C)(=O)=O)n1', 'CCN1CCN(S(=O)(=O)c2cccnc2)CC1c1ncc[nH]1', 'O=C(Nc1ccsc1)N[C@H]1CCCC[C@H]1n1cc(CO)nn1', 'CCn1ccnc1[C@H]1OCCC[C@@H]1NC(=O)c1nnc(C)s1', 'CNS(=O)(=O)c1ccccc1N1CCCC(n2cncn2)C1', 'CC(Sc1nnnn1-c1ccc(O)cc1)C(=O)NC(C)(C)C', 'CCOc1ncccc1C(=O)Nc1nnc(CCN(C)C)s1', 'CC(Sc1nnnn1C1CCCC1)C(=O)NCc1ccco1', 'CC(C)OCCCNc1ccc(C(=O)Nc2nncs2)cn1', 'CC(C)NC(=O)C1CCN(c2nc3nc[nH]c(=O)c3s2)CC1', 'CCN(CC)c1ccc(/N=N/C2SC=CN2C)c([N+](=O)[O-])c1', 'CCN(CC)C(=O)CCSc1nnnn1-c1ccccc1O', 'CC(C)c1nsc(N2CCC(n3cc(C(=O)O)cn3)CC2)n1', 'Cc1cc(C)cc(Nc2ccc(NS(=O)(=O)N(C)C)nn2)c1', 'CCc1nnc(SCC(=O)Nc2cc(C)ccc2OC)n1N', 'Cc1cc(NC(=O)CN2CCN(c3nccs3)[C@@H](C)C2)on1', 'CCS(=O)(=O)N1CCc2ncnc(-c3cnn(C)c3)c2CC1', 'CS(=O)(=O)N1CCN(Cn2nccc2-c2ccncc2)CC1', 'Cc1cc(-c2cc(C)[nH]n2)nc(C2CCN(S(C)(=O)=O)C2)n1', 'CCCCNC(=O)c1cc(=O)nc2sc(N3CCCC3)nn12', 'NCCC(=O)N1CCN(Cc2nc(-c3cccs3)no2)CC1', 'CN(C)S(=O)(=O)N1CCN(c2cnc3ccccc3n2)CC1', 'Cc1nn(C)cc1-c1ccnc(NCC2CCS(=O)(=O)C2)n1', 'Cc1nc(-c2ncc[nH]2)cc(C2CCCN(S(C)(=O)=O)C2)n1', 'Cc1cc(-n2ccnc2)nc([C@H]2CCCN(S(C)(=O)=O)C2)n1', 'Cc1nnc(C/N=C2/C=C(OCC3CC3)NN(C)C(=O)C2)s1', 'CCN1CCc2nc(NC(=O)C3=NN(C)C(=O)CC3)sc2C1', 'Cc1nccc(CN2CC[C@H](c3[nH]ncc3S(C)(=O)=O)C2)n1', 'Cc1nc(N(C)C(=O)OC(C)(C)C)sc1-c1ccnc(N)n1', 'COCC(C)NC(=O)CSc1nnc(-c2ccccc2)n1N', 'Cn1cc(C(=O)NC[C@H](c2ccco2)N2CCSCC2)nn1', 'Cn1ccc2nccc(N3CC4(CC(NS(N)(=O)=O)C4)C3)c21', 'CCc1nnc(CNC(=O)N(C)Cc2cc(C3CC3)on2)s1', 'C[C@@H](C(=O)Nc1nccs1)N1CCO[C@H](Cn2cccn2)C1', 'C[C@@H](C(=O)Nc1nccs1)N1CCO[C@@H](Cn2cccn2)C1', 'COc1ccc(Cn2nnnc2SCC(=O)NC(C)C)cc1', 'Cc1c(CN2C[C@@H](O)[C@H](NC(=O)c3cscn3)C2)cnn1C', 'CC1CCC(NC(=O)Cn2nnn(-c3cccs3)c2=O)CC1', 'CN(Cc1nnc2n(C)c(=O)c3sccc3n12)CC(C)(C)O', 'Cc1cnn(CCNC(C)C(=O)Nc2sccc2C(N)=O)c1', 'CNc1cccc([C@H]2CCCN(S(=O)(=O)c3cn[nH]c3)C2)n1', 'Cc1cc(-c2cnc([C@@H]3CCCN(S(C)(=O)=O)C3)cn2)n[nH]1', 'CC(NCc1nnnn1C1CC1)c1ccc(S(C)(=O)=O)cc1', 'Cc1cc(S(=O)(=O)N2CCCC[C@@H]2C)ccc1-n1cnnn1', 'Cc1cc(C)n2c(SCC(=O)NC(=O)C(C)(C)C)nnc2n1', 'Cc1cccc(CS(=O)(=O)Cc2nc(N)nc(N(C)C)n2)c1', 'CSN1CCC(Nc2ncc3cc(CO)c(=O)[nH]c3n2)CC1', 'CC(C)NC(=O)[C@H]1CCCN(c2nc3nc[nH]c(=O)c3s2)C1', 'COCc1ncsc1C(=O)N1CCNCC1c1nccn1C', 'CC(=O)Nc1nc(C(=O)Nc2cc(CC(C)(C)C)[nH]n2)cs1', 'CC(C)c1scnc1C(=O)N1CCC[C@H](c2n[nH]c(=O)[nH]2)C1', 'CNCCC1CCN(c2ncnc3sc([N+](=O)[O-])cc23)CC1', 'Cc1cc(C)nc([C@@H]2CCCN2S(=O)(=O)c2cn(C)cn2)n1', 'CN(C)CCn1ccc(NC(=O)CNC(=O)c2cccs2)n1', 'O=S(=O)(NCc1cn(-c2cccnc2)nn1)C1CCCCC1', 'Cc1nc(S(=O)(=O)N2CCC(Nc3cccnc3)C2)cn1C', 'CCCc1nc([C@H]2CN(C(=O)c3cnc(C)s3)CCO2)n[nH]1', 'Cc1cc(-n2ccnc2)nc([C@H]2CCCCN2S(C)(=O)=O)n1', 'CCCNC(=O)C(C)Sc1nnnn1-c1ccccc1OC', 'Cc1nc2c(s1)CCC[C@H]2CNC(=O)Cn1ncn(C)c1=O', 'COc1ccc(C)cc1NC(=O)CSc1nnnn1C(C)C', 'Cc1nc(C2(NC(=O)c3csc(CCN)n3)CCCC2)no1', 'CCOc1nnc(CN2CCc3nn(CC)c(=O)cc3C2)s1', 'CN(C)S(=O)(=O)N1CCC[C@@H]1c1cccc(-n2ccnc2)n1', 'Cc1cnc(NC(C)C)nc1Nc1cccc(S(N)(=O)=O)c1', 'Cc1cc(=O)[nH]c(SC(C)C(=O)N(C)Cc2cn[nH]c2C)n1', 'COc1ccc(/C=N/Nc2nc(SC(C)C)n[nH]2)cc1OC', 'Cn1c(SCCCCCC(=O)NO)nnc1-c1ccncc1', 'Cc1nc(C)n(C2CN(C(=O)CCn3c(C)csc3=O)C2)n1', 'Cc1nc(-c2ncc[nH]2)cc(C2CCCCN2S(C)(=O)=O)n1', 'Cc1nc(-c2ccnn2C)cc([C@H]2CCCN2S(C)(=O)=O)n1', 'Cc1cnc(N)c(S(=O)(=O)N2CCC(c3nccn3C)C2)c1', 'C[C@@H](NC(=O)NC1(C(N)=O)CCCC1)c1cn2ccsc2n1', 'CN(C)S(=O)(=O)N(Cc1ccc(-n2cncn2)cc1)C1CC1', 'Cc1nc(N2CCN(C(=O)C3=NNC(=O)CC3)CC2)sc1C', 'CCc1ccc(Nc2ccc(NS(=O)(=O)N(C)C)nn2)cc1', 'CCN(CC)CCNc1nnc(-c2cccc([N+](=O)[O-])c2)s1', 'O=S(=O)(NCc1ccnc(-n2cccn2)c1)N1CCCCC1', 'CNc1ccnc(NCc2ccc(S(=O)(=O)N(C)C)cc2)n1', 'Cc1ccnc(N2CCN(C3=NCC(C)S3)CC2)c1[N+](=O)[O-]', 'CN(C)[C@H](CNC(=O)Nc1nnc(C2CC2)s1)c1ccco1', 'c1ncn(Cc2nnc(SCC3CCC4(CCCC4)O3)o2)n1', 'Cn1nccc1-c1nccnc1C1CCCN(S(C)(=O)=O)C1', 'CC[C@H]1O[C@@H](n2cnc3c(N)ncnc32)[C@@]2(O)C(C)(C)[C@@]12S', 'CSCCC(CO)NC(=O)C(c1ccccc1)n1cnnn1', 'Cn1cc(S(=O)(=O)N2CCn3nccc32)c(C2CCCC2)n1', 'O=S(=O)(NCc1ccccc1)NCc1nnc2n1CCCC2', 'CSCC[C@@H](CO)NC(=O)[C@H](c1ccccc1)n1cnnn1', 'Cc1nc(N(C)C)ncc1C(=O)N(CCO)Cc1nccs1', 'CS(=O)(=O)N1CCCC(Cc2cc(-c3ncc[nH]3)ncn2)C1', 'Cc1cc(C)nc(CNC(=O)N(CCO)Cc2nccs2)n1', 'CC(C)c1nnc(CN2CCCC2C(=O)Nc2nccs2)o1', 'Cc1cc(N2CCC[C@H](c3[nH]ncc3S(C)(=O)=O)C2)ncn1', 'CN(C)S(=O)(=O)Nc1ccc2c(c1)N(Cc1cnc[nH]1)CC2', 'CS(=O)(=O)N1CCC[C@@H]1CCc1cc(-n2ccnc2)ncn1', 'C/N=C(/NCc1ccc(C(N)=O)o1)NCc1sc(C)nc1C', 'Cc1ccc(NCCn2c(C(C)C)n[nH]c2=S)c([N+](=O)[O-])c1', 'COc1cnc(OC2CCN(c3nc(C(C)C)ns3)C2)nc1', 'CCc1nnsc1C(=O)N1CCO[C@H](c2nc(C)cn2C)C1', 'COC(=O)c1sc(N2CCC[C@@H](C)C2)nc1-c1ncnn1C', 'CCOC(=O)C(=N/Nc1ccc(C)cc1)/C(C)=N\\\\NC(N)=S', 'CCOc1ccc(NC(=O)[C@H](C)Sc2nnc(C)n2N)cc1', 'CN1CCC(N(C)c2nccc(/C=C3\\\\SC(=O)NC3O)n2)C1', 'CC(=O)c1c(C)[nH]c(C(=O)NCCc2n[nH]c(=S)n2C)c1C', 'O=S(=O)(c1ccccc1)N1CCN(CCn2nccn2)CC1', 'O=C(CN1CCSC1=O)NC1CCCN(c2ncccn2)C1', 'O=C1CCSCC(C(=O)N2CCN(c3ncccn3)CC2)N1', 'CS(=O)(=O)N1CCCC(Cc2nccnc2-c2cn[nH]c2)C1', 'CSc1nc(C)c(CC(=O)NCCn2ccc(C)n2)c(=O)[nH]1', 'CCOc1nnc(CN2CCC[C@@H]2c2noc(C3CC3)n2)s1', 'CCCc1cc(=O)n2nc(NCCNC(=O)C3CC3)sc2n1', 'Cn1cc(-c2cncc(C3CCN(S(C)(=O)=O)CC3)n2)cn1', 'CCOc1ccccc1NC(=O)C(C)Sc1nnc(C)n1N', 'OCC1CN(C(=S)N/N=C2/CCOc3cccnc32)CCN1', 'Cc1nc(CC(=O)N2CCN(Cc3nonc3C)CC2)cs1', 'CCCCc1nc2c(c(=O)n(C)c(=O)n2C)n1CCSC#N', 'Cc1cc(C)n2nc(SCC(=O)NCC3CCCO3)nc2n1', 'N#CCN(CC#N)C(=O)CCCC[C@@H]1SC[C@@H]2NC(=O)N[C@@H]21', 'CC(C)c1ncsc1C(=O)N1CCC[C@H](c2n[nH]c(=O)[nH]2)C1', 'CCC(C)Nc1ncnc(NCCc2cccs2)c1[N+](=O)[O-]', 'CC[C@@H](C)[C@@H](NC(=O)c1cnc(-c2cnn(C)c2)s1)C(N)=O', 'CCC=C(C)C(=O)N1CSCC1C(=O)NNc1ncccn1', 'Cc1ccc(S(=O)(=O)n2ncc3c2CCN(CNN)C3)cc1', 'CS(=O)(=O)c1cccc(C2CCC(N)CC2)c1-c1nn[nH]n1', 'CN(C1CCCCC1)S(=O)(=O)c1ccc(-n2cnnn2)cc1', 'Cc1sc(C(=O)O)cc1CN1CCN(c2nncn2C)CC1', 'CNc1nc(C(=O)NCCc2noc(C3CCCC3)n2)cs1', 'O=S(=O)(c1ncc[nH]1)N1CCN(CCc2ccncc2)CC1', 'CS(=O)(=O)NCc1cn2c(n1)CN(Cc1cccnc1)CC2', 'COc1ccccc1-n1nnnc1S[C@H](C)C(=O)NC(C)C', 'CCN(CC)c1ccc(NNc2ncc([N+](=O)[O-])s2)c(C)c1', 'CCCCN(CC(N)=O)C(=O)c1cnc(-c2cnn(C)c2)s1', 'Cc1cc(NC(=O)CN2CCN(Cc3cscn3)CC2)on1', 'CCCC(N=C(N)N)NS(=O)(=O)c1cccc2cnccc12', 'CCn1cnc(S(=O)(=O)N2CCNCC2c2cccnc2)c1', 'CC1CCCCN1S(=O)(=O)Nc1ccccc1-n1ccnn1', 'CCCn1nnnc1SCC(=O)Nc1cc(C)ccc1OC', 'Cc1csc([C@H]2COCCN2C(=O)NCCn2ccnc2)n1', 'COCCNC(=O)CSc1nnc(-c2ccc(C)cc2)n1N', 'CCn1cc(S(=O)(=O)N2CCc3c(ncn3C3CC3)C2)cn1', 'CS(=O)(=O)N1CCC[C@@H](Cc2cc(-n3ccnc3)ncn2)C1', 'CS(=O)(=O)N1CCC(Cc2cncc(-c3ncc[nH]3)n2)CC1', 'C[C@@H]1c2ncc(Cn3cccn3)n2CCN1S(=O)(=O)C1CC1', 'Cc1ccc2ncnc(N3CC(CCNS(N)(=O)=O)C3)c2c1', 'Cn1nnnc1SCCCNCc1ccc2c(c1)OCCO2', 'CCCNC(=O)c1cnc2sc(N3CCCCC3)nn2c1=O', 'O=S(=O)(CC1CCCC1)NCc1nc(-c2ccncc2)n[nH]1', 'CCc1nc(C)c(C(=O)N2CCO[C@@H](c3n[nH]c(C)n3)C2)s1', 'CN(C)c1ccc(S(=O)(=O)N2CCCc3cnn(C)c32)cn1', 'C[C@H](NC(=O)N1CCO[C@H](c2nncn2C)C1)c1cccs1', 'CC(Sc1nnc(C2CC2)n1C1CC1)C(=O)N1CCNC1=O', 'Cc1cc(CN2CCc3nc(S(C)(=O)=O)ncc3C2)nn1C', 'CSC[C@H]1CN(Cc2c[nH]c3c(N)ncnc23)C[C@@H]1OC=O', 'CC(=O)NCCNC(=O)CNc1ncnc2sc(C)c(C)c12', 'C[C@H](NC[C@@H]1CCCS1(=O)=O)c1ccc(-n2cnnn2)cc1', 'Cc1ccc(N(C)S(=O)(=O)c2cn3c(n2)CCC[C@H]3C)nn1', 'C=C(C=C1SC(=O)NC1=O)/N=C(\\\\N=CC)N1CCCC(N)C1', 'Cc1cnc(NC(=O)N2CCOCC2c2c(C)n[nH]c2C)s1', 'CCN(CC)c1ncnc(NCCc2cccs2)c1[N+](=O)[O-]', 'Nc1cc2sc(N3CCOCC3)nc2nc1N1CC[C@H](O)C1', 'CS(=O)(=O)N1CCC[C@@H](Cn2nnc(-c3ccccc3)n2)C1', 'Cn1nccc1-c1nccnc1C[C@@H]1CCN(S(C)(=O)=O)C1', 'CCN(CCc1nccs1)C(=O)C(=O)Nc1cc(C)nn1C', 'Nc1ncc(CN2CCC[C@@H](c3ccn(CC(=O)O)n3)C2)s1', 'Cn1cnnc1C1CCN(S(=O)(=O)c2cccc(N)c2)CC1', 'COc1cccc(NC(=O)CSc2nnc(C(C)C)n2N)c1', 'CC(C)n1cc(S(=O)(=O)N2CCCC2c2ncccn2)cn1', 'CN(C)CCn1cc(NC(=O)CNC(=O)c2cccs2)cn1', 'O=c1scc(O)n1CCCN1CCN(c2ncccn2)CC1', 'CN(C1CC1)S(=O)(=O)NCCn1cc(-c2ccccc2)nn1', 'Cc1ccc(-c2nnnn2C)cc1S(=O)(=O)NC1CCCC1', 'N#CCSc1nc(N2CCOCC2)cc(N2CCOCC2)n1', 'CCOCc1ccccc1NC(=O)CCSc1nnnn1C', 'CCn1nccc1-c1cnc([C@H]2CCCN2S(C)(=O)=O)cn1', 'C=C(C)CN(CC)C(=O)CSc1nnnn1Cc1ccco1', 'Cc1noc(CC2CCCN(C(=O)NCc3cscn3)C2)n1', 'CS(=O)(=O)N1CCN(Cc2cnn(-c3ccccc3)n2)CC1', 'COC(=O)c1sc(N2CCCC(C)C2)nc1-c1ncnn1C', 'CC(C)c1ccc(OCc2nnc(SCC(N)=O)n2N)cc1', 'CSCc1ccc(C(=O)N2CCC(c3nc(N)n[nH]3)CC2)o1', 'CC(O)CC(C)CNc1ccc(C(=O)Nc2nncs2)cn1', 'C[C@@H](Sc1nnc2ccccn12)C(=O)NC(=O)NC(C)(C)C', 'CC1(c2[nH]ncc2S(C)(=O)=O)CCCN(c2ncccn2)C1', 'Cc1cc(N[C@@H]2C[C@H]2c2cnn(C)c2C)nc(S(C)(=O)=O)n1', 'CC(C(=O)NC(C)(C)c1nn[nH]n1)C1OCCc2sccc21', 'CNS(=O)(=O)c1ccc(NCc2cn3c(n2)CCCC3)nc1', 'CN1CCN(CC1)C(=O)C2CCN(CC2)C(=O)C3=CC4=C(N3CC5=CC=C(C=C5)Cl)C=CO4', 'N#Cc1ccc(Cl)c(C(=O)NC(CCCCCCCc2ccc3c(n2)NCCC3)C(=O)O)c1', 'CCCc1ccc(C2(C)NC(=O)N(CC(=O)N3CCN(c4cccc(Cl)c4)CC3)C2=O)cc1', 'CCN(CC)CC(O)CNC(=O)c1oc(C#Cc2c(N)ncc3ccc(Cl)cc23)c(C)c1C', 'CCOC(=O)CCNC(=O)C1CCN(c2ccc(Cl)c(-c3nc4ccccn4c3C)c2)CC1', 'Cc1[nH]c(C=C2C(=O)Nc3ccc(Cl)cc32)c(C)c1C(=O)N1CC(N2C[C@@H](C)O[C@@H](C)C2)C1', 'Cc1ccc(N2C(=O)N(CC(=O)NC[C@@H](c3ccccc3Cl)N3CCCC3)C(=O)[C@H]2C)cc1', 'COc1ccc(CNC(=O)C2CCC3NCC4C(=O)N(c5ccc(Cl)cc5)NC4C3C2)cc1', 'CCOc1ccc([C@@H]2CC(c3ccccc3Cl)=NN2C(=O)CN2CCC(C(N)=O)CC2)cc1', 'Cc1ccc(N2CCC(C(=O)NCC(=O)N3CCN(c4ccc(Cl)cc4)CC3)C2=O)cc1C', 'COC(=O)c1[nH]c2ccc(Cl)cc2c1NC(=O)[C@H](C)N1CCN(c2cccc(C)c2C)CC1', 'C[C@H]1CCCCN1CCNC(=O)Cn1c(=O)c(=O)n(Cc2ccc(Cl)cc2)c2ccccc21', 'Cc1c(Cl)nc(NC(C(C)c2ccccc2)N(C)C)c(=O)n1CC(=O)OCc1ccccc1', 'Cn1nccc1-c1cc(NC(=O)COc2cccc(Cl)c2)ccc1OCCC1CCCCN1', 'COC(=O)c1cccc(OC2CCN(c3nnc(C4(c5ccccc5)CC4)n3C)CC2)c1.Cl', 'COc1ccc([C@@H](CNC(=O)c2c(C)nn(Cc3ccccc3)c2Cl)N2CCOCC2)cc1', 'CC(C)CN(C(=O)NC(=O)c1ccc(Cl)cc1)[C@H](CO)Cc1cn(Cc2ccccc2)cn1', 'CCOC(=O)C1=C(CN2CCN(c3ccccc3C)CC2)NC(=O)N[C@@H]1c1cccc(Cl)c1', 'CCOC(=O)C1=C(CN2CCN(c3cccc(C)c3)CC2)NC(=O)N[C@@H]1c1ccccc1Cl', 'CCOC(=O)C1=C(CN2CCN(c3cccc(C)c3)CC2)NC(=O)N[C@H]1c1cccc(Cl)c1', 'CN(Cc1c(C2CC2)cc(Cl)c(=O)n1CCc1ccc(-c2n[nH]c(=O)o2)cc1)C1CCCC1', 'COc1ccc(CCCNC(=O)C2CCN(Cc3nc(-c4ccccc4Cl)no3)CC2)cc1', 'CCOC(=O)c1cccc(Nc2c(C(=O)N3CCCCCC3)cnc3nc(C)ccc23)c1.Cl', 'COc1ccc(-c2noc(CN3CCC(C(=O)NCCCc4ccc(Cl)cc4)CC3)n2)cc1', 'CCOC(=O)C1=C(CN2CCN(c3ccccc3Cl)CC2)NC(=O)NC1c1ccc(C)cc1', 'Cl.[H]/N=C(\\\\N)c1cccc(N(CC(=O)Nc2ccc(OC(C)C)cc2)Cc2cccc(O)c2)c1', 'O=C(NC1CCCCC1)[C@H]1Cc2cc([N+](=O)[O-])ccc2N2CCN(c3cccc(Cl)c3)C[C@@H]12', 'CCOc1ccc(N(CCC#N)C(=O)CN2CCN(C(=O)Cc3ccccc3Cl)CC2)cc1', 'Cc1[nH]c2c(c1C(=O)NCC(O)CN1CCCC1)CCCC2=C1C(=O)Nc2ccc(Cl)cc21', 'CC(C(=O)Nc1ccc(N2CC(CNC(=O)c3ccc(Cl)cc3)CC2=O)cc1)N1CCCC1', 'Cl.[H]/N=C(\\\\N)c1ccc(N(Cc2ccccc2)C(C(N)=O)c2cc(OC)c(C)c(OC)c2)cc1', 'Cc1cc(C)c2cc(CN(CCN3CCOCC3)C(=O)Nc3ccc(Cl)cc3)c(=O)[nH]c2c1', 'CC(C)Cn1nc(C(=O)N2CCN(CCOc3ccccc3Cl)CC2)c2ccccc2c1=O', 'CC(C)Oc1cccc(CNC(=O)C2CCN(Cc3nc(-c4cccc(Cl)c4)no3)CC2)c1', 'CC(C)(C)OC(=O)N1CCC(Nc2cc(=O)n(Cc3ccncc3)c3ccc(Cl)cc23)CC1', 'Cc1cc(C)c(NC(=O)CN2C(=O)N(Cc3ccc(Cl)cc3)C(=O)C3NCCCC32)c(C)c1', 'Cc1c(Cl)nc(NC[C@H](CN(C)C)c2ccccc2)c(=O)n1CC(=O)OCc1ccccc1', 'O=C1Nc2ccc(Cl)cc2C12CCN(CCOc1ccc3c(c1)CC1CNC(O)N1C3)CC2', 'CCOC(=O)C1=C(CN2CCN(Cc3ccccc3)CC2)NC(=O)NC1c1ccccc1Cl', 'COc1c(C(=O)N[C@H]2CCCC[C@@H]2O)cc(Cc2ccc(-c3ccn(C)n3)nc2)c(C)c1Cl', 'CCc1c(Cl)[nH]c2ncc(-c3cc4c(c([C@@H]5COCCN5)c3)CN(C(=O)COC)CC4)cc12', 'CC(C)c1cc2[nH]c(-c3ccc(N4CCC5(CCC(C(=O)O)CO5)CC4)nc3)nc2cc1Cl', 'CCCc1ccccc1NC(=O)N1CCC2(CC1)CC(C(=O)NCc1ccc(Cl)cc1)=NO2', 'CCN(Cc1nc2cc(Cl)ccc2c(=O)[nH]1)C(=O)c1ccc(CN2C[C@@H](C)O[C@H](C)C2)cc1', 'Cc1ccc(-c2noc(CCN(CCCN3CCOCC3)C(=O)c3ccccc3Cl)n2)cc1', 'Cc1ccc(N2C(=O)N(CC(=O)NC[C@H](c3ccccc3Cl)N3CCCC3)C(=O)[C@@H]2C)cc1', 'CC(C)(C)OC(=O)N1CCOCC1c1cc(-c2cnc3[nH]cc(Cl)c3c2)cc2c1CNCC2', 'CC(C)C(=O)Nc1ccc2[nH]cc([C@@H](C(=O)O)N3CCN(Cc4cccc(Cl)c4)CC3)c2c1', 'Cc1cccc(NC(=O)CN2CN(c3ccccc3)C3(CCN(C(=O)C(C)Cl)CC3)C2=O)c1', 'Cc1noc(C)c1COc1ccc(CC(=O)Nc2cc(Cl)ccc2N2CCN(C)CC2)cc1', 'CCN1C2=C(C(=O)Nc3ccc(OC[C@@H]4CCCN4)cc3)C(=O)CCN2c2ccccc21.Cl', 'CCOC(=O)C1=C(CN2CCN(c3ccccc3C)CC2)NC(=O)NC1c1cccc(Cl)c1', 'Cc1cc(-c2ccnc(NC(=O)C3CC3)c2)ccc1CCC(=O)c1nc(C(C)(C)C)no1.Cl', 'CCNC(=O)N(Cc1c(C)nn(-c2ccccc2)c1Oc1ccc(Cl)cc1)C[C@H]1CCCO1', '[2H]C([2H])([2H])OC([2H])([2H])C([2H])([2H])NC(=O)c1ccc2nn(CC3CCN(C(=O)c4ccc(Cl)cc4)CC3)cc2c1C', 'CC(=O)Nc1ccc(C2OC(C3CCNCC3)=NC2(C)C(=O)N(C)c2ccc(Cl)cc2)cc1', 'CCCCN(CC(=O)Nc1cc(-c2ccccc2)nn1-c1ccc(OC)cc1)C(=O)C(C)Cl', 'CCC(=O)COc1cc2cc(Nc3cc(N4CCCCC4)ncc3Cl)ccc2n(CC)c1=O', 'CN(CCN1CCN(c2cccc(Cl)c2)CC1)Cc1cc(-c2ccc3c(c2)OCCO3)no1', 'CN(C)c1ccc(C(=O)CCC(=O)N2CCC(N3Cc4ccccc4NC3=O)CC2)cc1Cl', 'CCOC(=O)C1=C(CN2CCN(c3cccc(C)c3)CC2)NC(=O)N[C@@H]1c1cccc(Cl)c1', 'CCc1ccc2c(-c3ncnc4cc(OCCCN5CCOCC5)ccc34)c(O)[nH]c2c1.Cl', 'CC.Cc1cncc(CNC(=O)c2cc3cc(Cl)c4c(c3o2)C2(CCCCC2)NC(=O)N4)c1', 'COc1ccc(N2NC3C(CNC4CCC(C(=O)NCc5ccccc5Cl)CC43)C2=O)cc1', 'CN(CCC(=O)O)C(=O)c1ccc(NC(c2cc3cc(Cl)ccc3n2C)C2CCCC2)nc1', 'O=C(NC1CC1)c1ccccc1C[C@H](O)CN1CCC(n2c(=O)[nH]c3cc(Cl)ccc32)CC1', 'COCCn1c(C)cc(O)c(C(c2ccccc2Cl)N2CCN(c3ccccn3)CC2)c1=O', 'CCOC(=O)C1=C(CN2CCN(Cc3ccccc3)CC2)NC(=O)N[C@H]1c1ccc(Cl)cc1', 'CCOC(=O)C1=C(CN2CCN(c3ccccc3C)CC2)NC(=O)N[C@H]1c1ccc(Cl)cc1', 'CON1c2cc(Cl)ccc2CNCCCCC=CCCCOc2ccc3ncnc1c3c2O', 'N#Cc1ccc(OC2CCC(NC(=O)c3ccc(N4CCC(CO)CC4)nc3)CC2)cc1Cl', 'CC1=CC=CN2C1=NC(=O)C[C@@]2(C)C(=O)N(CC(=O)NC1CCCC1)Cc1ccc(Cl)cc1', 'CCN1CCCC1CN(Cc1cc2cc(OC)ccc2[nH]c1=O)C(=O)Nc1ccc(Cl)cc1', 'CCC(=O)OC[C@@H](NC(=O)c1cc(-c2cc(NC(C)C)ncc2Cl)c[nH]1)c1cccc(C)c1', 'O=C(Nc1ccc(Cl)cc1)NC1(C(=O)Nc2ccc(N3CCCCC3=O)cc2)CCCCC1', 'C=C1CN(C)CCc2ccc(NC(=O)C3CC(OC)CN3C(=O)Nc3ccc(Cl)cc3)cc21', 'Cc1[nH]c2c(c1C(=O)NCC(O)CN1CCCC1)CCC=C2c1c(O)[nH]c2ccc(Cl)cc12', 'CCN(Cc1nc2cc(Cl)ccc2c(=O)[nH]1)C(=O)c1ccc(CN2C[C@H](C)O[C@@H](C)C2)cc1', 'COc1ccc(CCC(=O)N2CCCN(C(C)C(=O)Nc3ccc(C#N)c(Cl)c3)CC2)cc1', 'CCC(=O)COc1cc2cc(Nc3cc(N4CCC(C)CC4)ncc3Cl)ccc2n(C)c1=O', 'CC(C)NC(=O)CN1CN(c2ccccc2)C2(CCN(C(=O)c3ccccc3Cl)CC2)C1=O', 'CCN(CC)C(=O)COc1ccc(NC(=O)c2ccc(Cn3nc(C)cc3C)cc2)cc1Cl', 'Cc1ccc(CN2CC(C(=O)N3CCCN(C(=O)Nc4cccc(Cl)c4)CC3)CC2=O)cc1', 'CC1CCN(C(=O)Cn2c(C(C)NC(=O)COc3ccc(Cl)cc3)nc3ccccc32)CC1', 'Cl.[H]/N=C(\\\\N)c1ccc(NC(C(=O)NCc2ccccc2)c2cc(OC)c(C)c(OC)c2)cc1', 'Cc1ccc(C(=O)NC2CCN(C(=O)Cc3c(C)nn(-c4ccc(C)c(Cl)c4)c3C)CC2)o1', 'CCCCc1ncc(C(=O)N[C@H](C)C(=O)N(O)Cc2cccc(Cl)c2)n1Cc1ccccc1', 'C[C@H](NCc1ccc(Cl)cc1Oc1ccc(-c2cnc(CN3CCCC3)n2C)cc1)C(=O)O', 'Cc1ccc(C)c2[nH]c(=O)c(CN(CCN3CCOCC3)C(=O)Nc3ccc(Cl)cc3)cc12', 'CCOC(=O)C1=C(CN2CCN(c3ccc(Cl)cc3)CC2)NC(=O)N[C@@H]1c1ccc(C)cc1', 'O=C(COc1ccc(Cl)cc1)NCCCc1nc2ccccc2n1CC(=O)N1CCCCC1', 'COc1ccc(N2CCN(CCCNC(=O)c3c(-c4ccccc4Cl)noc3C)CC2)cc1', 'CC(C)(C)C(=O)NCc1ccc(Cl)c(C(=O)Nc2cccc3c2cnn3C2CCOCC2)c1', 'COCC(C)n1c(C)cc(/C=C(/C#N)C(=O)N2CCN(C(=O)c3ccc(Cl)cc3)CC2)c1C', 'COc1ccc(CCC(=O)N2CCCN(CCC(=O)Nc3ccc(C#N)c(Cl)c3)CC2)cc1', 'CCOCCCn1c(NC(=O)C2CCCN(C(=O)c3ccc(Cl)cc3)C2)nc2ccccc21', 'CC.CN(Cc1cccnc1)C(=O)c1cc2cc(Cl)c3c(c2o1)C1(CCCCC1)NC(=O)N3', 'CC(C)N1CCC(NC(=O)c2nc3c(C(=O)O)cccc3n2CCc2ccc(Cl)cc2)CC1', 'CCOC(=O)C1=C(CN2CCN(Cc3ccccc3)CC2)NC(=O)N[C@H]1c1ccccc1Cl', 'CCc1cnc(N2CCC(N3CC[C@H](Cc4cc5c(cc4Cl)C(=O)CCO5)C3=O)CC2)nc1', 'CC(=O)N1CCN(C(=O)C2CC(c3ccccc3)CN(C(=O)Nc3cccc(Cl)c3)C2)CC1', 'CCNC(=O)N(Cc1c(C)nn(-c2ccccc2)c1Oc1ccc(Cl)cc1)C[C@@H]1CCCO1', 'Cc1cc(C)c2cc(CN(CCN3CCOCC3)C(=O)Nc3ccccc3Cl)c(=O)[nH]c2c1', 'COc1ccc(-c2nc3n(c2NC(C)(C)C)CCN(Cc2cc4c(cc2Cl)OCO4)C3)cc1', 'O=C(C1CCN(c2nc3ccccc3o2)CC1)N1CCN(CCOc2ccc(Cl)cc2)CC1', 'CC(C)(C)OC(=O)N1C2COCC1CN(Cc1c(-c3ccc(Cl)cc3)nc3ccccn13)C2', 'O=C(COc1ccc(Cl)cc1)NCc1nc2ccccc2n1CCC(=O)N1CCCCCC1', 'O=C(CNc1cc(Cl)ccc1C(=O)N1CCCC1)NCc1ccc(C(=O)N2CCCC2)cc1', 'Cl.O=C1CCN(c2ccccc2C(=O)N2CC3CNCC3(CCc3ccccc3)C2)C(=O)N1', 'C=CC(=O)N1CCCC1.CCc1c(OC)cc(OC)c(Cl)c1-c1ccc2nc(N)ncc2c1', 'COc1ccc(CCN2C[C@H](CCOc3nc(Cl)cc4ncn(C5(C)CC5)c34)CC2=O)cc1', 'C=C1CN(CC(=O)N2CCN(c3cccc(Cl)c3)CC2)CC1C(=O)Nc1ccc(O)c(C)c1', 'CC1CCCCN1CCNC(=O)Cn1c(=O)c(=O)n(Cc2ccc(Cl)cc2)c2ccccc21', 'COc1cc(C(=O)Nc2cccc(-c3nnc4n3CCCCC4)c2)cc(Cl)c1OCC(C)C', 'CN(CCOc1cccc(CNC(=O)c2ccn(-c3ccccc3Cl)n2)c1)C1CCOCC1', 'COc1ccccc1CNC(=O)C1CCC2NCC3C(=O)N(c4ccc(Cl)cc4)NC3C2C1', 'CCOC(=O)N1CCC(NC(=O)CCCn2nc(-c3ccccc3)c3cc(Cl)ccc32)CC1', 'CC(c1ccccc1)N1CC(C(=O)N2CCN(CC(=O)Nc3ccccc3Cl)CC2)CC1=O', 'O=C(CN1CCN(CC(=O)N2CCCC2)CC1)Nc1ccc(Cl)cc1C(=O)c1ccccc1', 'CCNC(=O)N(Cc1c(C)nn(-c2ccccc2)c1Oc1ccc(Cl)cc1)CC1CCCO1', 'CC(C)C(=O)Nc1ccc2c([C@H](C(=O)O)N3CCN(Cc4cccc(Cl)c4)CC3)c[nH]c2c1', 'Cc1ccc(C(CNC(=O)c2cnn(-c3ccc(C)c(Cl)c3)c2C2CC2)N2CCOCC2)o1', 'C=C(C(N)=O)/C(=C\\\\C(Cl)=C\\\\CC)Nc1cc(C)cc(-c2cnc(C3(O)CCC3)cn2)c1OC', 'CCN(CC(=O)Nc1nc(-c2ccc(Cl)cc2)cn1-c1cccc(OC)c1)C(=O)CC(C)C', 'CCC1(CC)CC(=O)N(Cc2cccc(C(=O)N[C@H]3CCOc4ccc(Cl)cc43)c2)C(N)=N1', 'COc1cccc2c(C(=O)NCC3(c4ccc(Cl)cc4)CC3)nn(CCN3CCOCC3)c12', 'CCN1CCC[C@@H]1CN(Cc1cc2cc(OC)ccc2[nH]c1=O)C(=O)Nc1cccc(Cl)c1', 'CCOC(=O)C1=C(CN2CCN(c3cccc(C)c3)CC2)NC(=O)NC1c1ccccc1Cl', 'COc1ccccc1C(C)CC(=O)Nc1ccc(NC(=O)C(C)n2nc(C)cc2C)c(Cl)c1', 'COC(=O)C1=C(CN2CCN(c3cccc(C)c3C)CC2)NC(=O)N[C@H]1c1ccccc1Cl', 'CCOc1ccc(OCC(=O)Nc2ccc3nc(N4CCN(C)CC4)cc(C)c3c2)c(Cl)c1', 'Cc1cccc2cc(CN(CCCN3CCOCC3)C(=O)Nc3ccccc3Cl)c(=O)[nH]c12', 'Cc1ccc2cc(CN(CCCN3CCOCC3)C(=O)Nc3ccccc3Cl)c(=O)[nH]c2c1', 'Cc1ccc(OCC(C)NC(=O)C2CCCN(Cc3nc(-c4cccc(Cl)c4)no3)C2)cc1', 'CCC(c1nc2ccccc2c(=O)n1CC)N1CCN(C(=O)COc2ccc(Cl)cc2)CC1', 'COCCn1c(C)cc(O)c([C@H](c2ccccc2Cl)N2CCN(c3ccccn3)CC2)c1=O', 'Cl.[H]/N=C(\\\\N)c1ccc(N2CC(N3CCCC3)=C(c3ccc(CCC(=O)OC)cc3)C2=O)cc1', 'CCC(=O)N(CCOC)CC(=O)Nc1nc(-c2ccc(Cl)cc2)cn1-c1ccc(C)c(C)c1', 'C[C@H](Nc1ccc(NC(=O)CN2C(=O)N[C@@]3(CCCC[C@@H]3C)C2=O)cc1Cl)c1ccccc1', 'COC(=O)N1CCN(c2ccc(OC(CCc3ccc(Cl)cc3)Cn3ccnc3)cc2)CC1', 'CCn1cc(NC(=O)c2ccc(COc3cc(C)ccc3Cl)cc2)c(C(=O)NCC(C)C)n1', 'CC.CC.Cc1cnc(-c2cnc(Nc3ccc(O)cc3)n(Cc3ccc(Cl)cc3)c2=O)o1', 'CCC1CCCCN1C(=O)c1cnc2nc(C)ccc2c1Nc1cccc(C(=O)OC)c1.Cl', 'O=C1COC2CCN(C(=O)N3CCN(C(c4ccccc4)c4ccc(Cl)cc4)CC3)C[C@H]2N1', 'CCCCC1(c2ccccc2)NC(=O)N(CC(=O)N2CCN(c3cccc(Cl)c3)CC2)C1=O', 'CCC1CCCCN1C(=O)c1cnc2nc(C)ccc2c1Nc1cc(OC)c(Cl)cc1OC', 'CCOC(=O)c1ccccc1NC(=O)c1cnn(-c2ccc(C)cc2)c1C1CCNCC1.Cl', 'Cc1ccc(OCC(C)NC(=O)C2CCN(Cc3nc(-c4cccc(Cl)c4)no3)CC2)cc1', 'CCOc1ccc(CN2CCN(C(=O)CCCc3nc(-c4ccc(Cl)cc4)no3)CC2)cc1', 'COc1ccc(C(CNC(=O)c2ccc(-n3nc(C)c(Cl)c3C)cc2)N2CCOCC2)cc1', 'Cc1nc(N[C@@H]2CC[C@H](NC(=O)OC(C)(C)C)C2)nc2ccc(-c3c(O)cccc3Cl)cc12', 'CC(C)N1CC(C(=O)Nc2ccc(C(=O)N3CCN(c4cccc(Cl)c4)CC3)cc2)CC1=O', 'Cc1cccc2cc(CN(CCCN3CCOCC3)C(=O)Nc3cccc(Cl)c3)c(=O)[nH]c12', 'O=C1C=CC(N2CCN(c3ccc(NC(O)C4CCOC4)cc3Cl)CC2)c2ccccc2N1', 'CCCC(CO)(CCC)C(=O)NCc1ccc(Cl)c(-c2nc(-c3ccccc3)nc(=O)[nH]2)c1', 'COc1ccc(-c2noc(CN3CCC(C(=O)NCCCc4ccccc4Cl)CC3)n2)cc1', 'O=C(c1cc(Cl)c[nH]c1=O)N1CCC(c2nccn2CCCCOCc2ccccc2)CC1', 'C=CC=O.COc1cc2ncnc(NCc3cccc(Cl)c3)c2cc1OC1CCN(C)CC1', 'CC.CC(=O)COc1cc2cc(Nc3nc(C4=CCCCC4)ncc3Cl)ccc2n(C)c1=O', 'CCN1CCN(CCCNC(=O)c2ccc3c(c2)NC(=O)C(=Cc2cccc(Cl)c2)O3)CC1', 'N#Cc1cccc(N2CCN(CCCCN)CC2)c1.O=C(O)C1=Cc2cc(Cl)ccc2OC1', 'CCOc1nc(Cl)c(N)cc1C(=O)CCC1CCN(Cc2cc(-c3ccccc3)no2)CC1', 'CCN1CCN(c2ccc(Cl)cc2NC(=O)CCCN2C(=O)c3ccc(C)cc3C2=O)CC1', 'CNC(=O)NCc1ccccc1-c1cccc2cc(C(=O)N[C@H]3CN4CCC3CC4)oc12.Cl', 'COCCNC(=O)c1ccc2nn(CC3CCN(C(=O)c4cccc(Cl)c4)CC3)cc2c1C', 'CC(NC(=O)COc1ccc(Cl)cc1)c1nc2ccccc2n1CC(=O)N1CCCCCC1', 'CC(C)(C)OC(=O)c1ccc2nc(CN3CCc4cnc(Cl)cc4C3)n(C[C@@H]3CCO3)c2c1', 'CCOC(=O)CCc1cccc(-n2nc(CC(C)C)cc2NC(=O)Nc2ccc(Cl)cc2)c1', 'CC(C)(C)OC(=O)N1CC2(C1)CN(c1cncc(N3C(=O)c4ccc(Cl)cc4C3(C)C)c1)C2', 'COc1ccc([C@@H](C)N2C[C@H]([C@@H](C)Oc3nc(Cl)cc4ncn(C5(C)CC5)c34)CC2=O)cc1', 'Cc1nn(-c2ccc(NC(=O)c3ccc(OCCCN4CCOCC4)cc3)cc2)c(C)c1Cl', 'Clc1cc(CCCN2CCCC2)ccc1OC1CC1.NC(=O)C(=O)c1ccc2[nH]ncc2c1', 'CCOC(=O)c1ccccc1NC(=O)/C(C#N)=C\\\\N1CCN(c2cccc(C)c2C)CC1.Cl', 'COc1cc(NC(=O)c2cc(-c3ccc(Cl)cc3)cn2N=CN(C)C)ccc1OCC(C)C', 'CCC(NC(=O)C1CCCN(Cc2nc(-c3cccc(Cl)c3)no2)C1)c1ccc(OC)cc1', 'Cc1cccc(C)c1NC(=O)CN1CCN(C(=O)C2CC(=O)N(c3cccc(Cl)c3)C2)CC1', 'COc1ccc(Cl)cc1C(=O)N1CCC(CCCCNC(=O)c2ccc3nccn3c2)CC1', 'CC.Cn1ncc2c(-c3cc(COC(C)(C)C(=O)O)nn3Cc3ccccc3Cl)cccc21', 'CCOC(=O)C1=C(CN2CCN(c3ccc(C)cc3)CC2)NC(=O)NC1c1ccc(Cl)cc1', 'O=C(NCC(=O)N1CCN(c2cccc(Cl)c2)CC1)[C@H]1CC(=O)N(CCc2ccccc2)C1', 'O=C(O)C12CC3CC(C1)CC(n1ncc(N4CCN(c5ccccc5)CC4)c(Cl)c1=O)(C3)C2', 'CC(COc1ccc(NC(=O)Cc2ccc(Cl)cc2)cc1-c1ccnn1C)N1CCOCC1', 'O=C1CC[C@@H](CN(Cc2cccnc2)C(=O)CC[C@]2(Cc3ccc(Cl)cc3)CCC(=O)N2)N1', 'CCC(NCCc1ccc(C(=O)N(C)Cc2cccc(=O)[nH]2)cc1)C(O)c1ccc(Cl)nc1', 'CCc1ccc([C@H]2NC(=O)NC(CN3CCN(c4ccc(Cl)cc4)CC3)=C2C(=O)OC)cc1', 'O=C(c1cc(-c2ccco2)n(-c2ccc(Cl)cc2)n1)N1CCC(CCN2CCOCC2)CC1', 'CCOC(=O)C1=C(CN2CCN(c3ccc(C)cc3)CC2)NC(=O)N[C@H]1c1cccc(Cl)c1', 'COc1ccc(CN2CCN(C(=O)c3c(C)nn(Cc4ccccc4)c3Cl)CC2)cc1OC', 'Cc1cccc(C)c1NC(=O)CN1CCN(C(=O)C2CC(=O)N(c3ccccc3Cl)C2)CC1', 'COCCn1c(C)cc(O)c([C@@H](c2ccc(Cl)cc2)N2CCN(c3ccccn3)CC2)c1=O', 'CC(C)CCn1c(Cn2c(=O)n(C(=O)OC(C)(C)C)c3ccc(Cl)cc32)nc2ccccc21', 'CC(C)Oc1ccc(CNC(=O)C2CCCN(Cc3nc(-c4ccccc4Cl)no3)C2)cc1', 'CCOC(=O)CCN(Cc1cccnc1)C(=O)Cc1c(C)nn(-c2ccc(C)c(Cl)c2)c1C', 'CC(Nc1ccccc1C(=O)O)c1cc(Cl)cc2c(=O)n(C)c(N3CCC(C)(C)CC3)nc12', 'CCC1(c2ccc(Cl)cc2)NC(=O)N(CC(=O)Nc2ccc(N3CCCCCC3)cc2)C1=O', 'Cc1c(Cl)nc(NC([C@H](C)c2ccccc2)N(C)C)c(=O)n1CC(=O)OCc1ccccc1', 'CC1CN(C(=O)/C(=C2\\\\C(=O)Nc3ccc(Cl)cc32)c2ccc[nH]2)C1N1C(C)COCC1(C)C', 'Cc1[nH]c(C=C2C(=O)Nc3ccc(Cl)cc32)c(C)c1C(=O)NCCCN1CCCCCC1=O', 'N#Cc1ccc(CNC(=O)CN2CC3CN(CCOCc4ccc(Cl)cc4)CC(C2)O3)cc1', 'COc1cccc(C2=NOC3(CCC(C(=O)N4CCN(c5ncccc5Cl)CC4)CC3)C2)c1', 'CCC1CCCCN1C(=O)c1cnc2nc(C)ccc2c1Nc1ccc2c(c1)OCCO2.Cl', 'CC1CCC(=O)N1Cc1ccc(NC(=O)N(Cc2ccc(Cl)cc2)N2C(=O)CCC2C)cc1', 'CCN1CCCC1CN(Cc1cc2ccc(OC)cc2[nH]c1=O)C(=O)Nc1ccc(Cl)cc1', 'C[C@H](Cc1cccc(C(Cc2cc(O)cc(Cl)c2)C(N)=O)c1)NC[C@H](O)c1ccc(N)nc1', 'C=CC(=CC=C(C)Cl)C1=NC(CC(=O)OCCCC)c2nnc(C)n2-c2ccc(OC)cc21', 'Cc1cc(C)cc(-c2c(OCCC3CCCCN3)c3cc(NC(N)=O)c(Cl)cc3[nH]c2=O)c1', 'CCc1ccccc1NC(=O)CN1CCN(C(=O)c2ccc(Cl)cc2N2CCCC2=O)CC1', 'COc1c(Cl)cccc1N1CCN(CC(O)CCNC(=O)c2cnc3ccccc3c2)CC1', 'CC(C)Cn1c(=O)c(CCC(=O)N2CCN(c3ccccc3O)CC2)nc2cc(Cl)ccc21', 'CCOc1ccc(C(=O)NC2CCN(c3cc(-c4ccc(Cl)cc4)[nH]n3)CC2)cc1OCC', 'CN(CCOc1cccc(CNC(=O)c2cnn(-c3ccc(Cl)cc3)c2)c1)C1CCOCC1', 'Cc1ccc(NC(=O)NCC2CCCN(C(=O)C3CC(=O)N(c4cccc(Cl)c4)C3)C2)cc1', 'CCOc1ccc(C(=O)N2CCCN(c3cc(-c4ccc(Cl)cc4)[nH]n3)CC2)cc1OCC', 'Cc1ccc(-c2c(OCCC3CCCCN3)c3cc(NC(N)=O)c(Cl)cc3[nH]c2=O)cc1C', 'CN(Cc1ccc(=O)[nH]c1)C(O)c1ccc(C[C@@H]2CC[C@H]([C@H](O)c3ccc(Cl)nc3)N2)cc1', 'Cl.O=C(NC1CN2CCC1CC2)c1cccc2oc(N3CCOC[C@@H]3c3ccccc3)nc12', 'CC(C)c1ccc(C2(C)NC(=O)N(CC(=O)N3CCN(c4cccc(Cl)c4)CC3)C2=O)cc1', 'CCCOc1ccc(-c2ccc(-c3ccccc3Cl)n2CC(=O)N/C=N\\\\NCCCO)cc1', 'COc1ccc2ncc(Cl)c(N3CCC(CCNCc4cc5c(cn4)OCCO5)CC3)c2c1', 'Cc1cc(O)c(C(c2ccccc2Cl)N2CCN(CCO)CC2)c(=O)n1Cc1cccnc1', 'CC(=O)N1CCc2ccccc2C1CC(=O)N1CCN(CC(=O)Nc2ccccc2Cl)CC1', 'Cl.O=C(O)CC1CC(CNC(=O)CCNCc2nc3ccccc3[nH]2)=CCc2ccccc21', 'CC(C)(C)OCC1CC(c2ccc3c(N[C@@H]4CCc5ccccc54)nc(Cl)nn23)C(O)=C1O', 'Cc1cc(C)cc(N(CCC#N)C(=O)CN2CCC(C(=O)Nc3cc(Cl)ccc3O)CC2)c1', 'CCC(NC(=O)C1CCCN(Cc2nc(-c3ccccc3Cl)no2)C1)c1ccc(OC)cc1', 'CNc1ccc2c(n1)C=CCC2(Cl)O[C@@H](C)C(=O)N1CCN(C(=O)c2ccccc2)C[C@H]1C', 'CCOc1ccc(C(=O)N[C@H]2CCCN(c3cc(-c4ccc(Cl)cc4)[nH]n3)C2)cc1OCC', 'CNC(=O)N1CCc2cc(OCCN3CCC4(CC3)C(=O)Nc3ccc(Cl)cc34)ccc2C1', 'COCCN(CC(=O)Nc1cc(C(C)(C)C)nn1-c1ccccc1Cl)C(=O)c1ccccc1', 'COc1ccc(CCNC(=O)c2cnn(-c3ccccc3Cl)c2C2CCNCC2)c(OC)c1', 'C[C@H](Nc1ccc(NC(=O)CN2C(=O)N[C@]3(CCCC[C@H]3C)C2=O)cc1Cl)c1ccccc1', 'CC(C)N1CCC(NC(=O)c2nc3cc(C(=O)O)ccc3n2CCc2ccc(Cl)cc2)CC1', 'Cc1cc(O)c(C(c2cccc(Cl)c2)N2CCN(CCO)CC2)c(=O)n1Cc1ccccn1', 'CCOCCOc1c(N2CCN(Cc3ccccc3)CC2)cnn(-c2cccc(Cl)c2)c1=O', 'CC(C)(C)C1N(C(=O)O)CC12CN(c1cncc(N3C(=O)c4ccc(Cl)cc4C3(C)C)c1)C2', 'COc1ccc(C2(C(=O)N3CCCN(Cc4noc(-c5ccccc5)n4)CC3)CC2)cc1.Cl', 'CC(C)CC(CNC(=O)c1cccn2nc(C(=O)N3CCOCC3)cc12)c1ccc(Cl)cc1', 'CCOC(=O)c1nn(CC(=O)N2CCN(c3cccc(Cl)c3C)CC23CC3)c2c1[C@@H]1CC1C2', 'CC(c1ccc(Cl)cc1)N(CC(=O)NN1C(=O)NC(C)(CCc2ccccc2)C1=O)C1CC1', 'COc1cc(NC(C)=O)c(Cl)cc1C(=O)NCCN1CCC(c2c[nH]c3ccccc23)CC1', 'O=C(c1cc(-c2ccco2)n(-c2cccc(Cl)c2)n1)N1CCC(CCN2CCOCC2)CC1', 'CC(Oc1cccc(Cl)c1)C(=O)N(C)C1CCC2(CC1)N=C(N)N(Cc1ccccc1)C2=O', 'Cc1cc(O)c([C@@H](c2cccc(Cl)c2)N2CCN(CCO)CC2)c(=O)n1Cc1ccccn1', 'CCOC(=O)CCc1cccc(-n2nc(C(C)(C)C)cc2NC(=O)Nc2ccc(Cl)cc2)c1', 'CCOC(Cc1ccc(Cl)cc1)Cn1c(=NC(=O)NC=O)c(C)nc2cc(CC)c(C)cc21', 'CCOC(=O)C1=C(CN2CCN(c3ccccc3C)CC2)NC(=O)N[C@@H]1c1ccccc1Cl', 'Cl.O=C1Nc2ccc(CN3CCOC3=O)cc2C1=Cc1ccc(CN2C[C@H]3CCC[C@H]3C2)[nH]1', 'Cc1cc(C)nc(N2CCC(C(=O)N3CCC4(CC3)CC(=O)c3cc(Cl)ccc3O4)CC2)n1', 'CCOC(=O)c1cnc2cc(OC)c(N3CCN(C)CC3)cc2c1Nc1cccc(Cl)c1C', 'CCc1ccc([C@H]2NC(=O)NC(CN3CCN(c4ccccc4Cl)CC3)=C2C(=O)OC)cc1', 'Cc1ccc2cc(CN(CCN3CCOCC3)C(=O)Nc3cccc(Cl)c3)c(=O)[nH]c2c1C', 'COC(=O)C1=C(CN2CCN(c3cc(C)ccc3C)CC2)NC(=O)N[C@@H]1c1cccc(Cl)c1', 'CCOC(=O)C1CCN(c2ccc(CNC(=O)c3c(CC)nc4cc(Cl)ccn34)cc2)CC1', 'Cc1ccc(N(CNCc2ccc3c(c2)CN(C2CCC(=O)NC2=O)C3=O)C(C)C)cc1Cl', 'COc1cccc(CCCNC(=O)C2CCCN(Cc3nc(-c4cccc(Cl)c4)no3)C2)c1', 'Cc1ccc2cc(CN(CCCN3CCOCC3)C(=O)Nc3ccc(Cl)cc3)c(=O)[nH]c2c1', 'CCCC1=NC2=C(S1)C3=CC=CC=C3N=C2N', '[H]/N=C1/C=C2Sc3cc(CN)ccc3N=C2CC1', 'CCc1c(C)nc(-c2ccc(C)s2)nc1C#N', 'NCCc1nc(-c2cccs2)n2ccccc12', 'Cc1ccc(-n2ccnc2SCC#N)cc1C', 'Cc1cn(Cc2csc3ccccc23)nc1N', 'NN(Cc1ccncc1)C(=S)c1ccccc1', 'Cc1ccccc1CNc1snc(C)c1C#N', 'Cc1ncc(CNc2ccc(CC#N)cc2)s1', 'CC(C=NNc1nccs1)=Cc1ccccc1', 'CN(c1cccnc1)c1ccccc1C(N)=S', 'CC(C)Cc1c(C#N)cccc1-c1cnns1', 'Cc1ccsc1CNc1cccc2cn[nH]c12', '[H]/N=C(\\\\N)c1ccc(CSc2ccncc2)cc1', 'Cc1ccc(Nc2snc(C)c2C#N)cc1C', 'Cc1csc(NC(C)c2ccc(C#N)cc2)n1', 'Cc1ccc(-c2csc3cnc(N)n23)c(C)c1', 'Cc1cccc(Nc2ccc(C(N)=S)nc2)c1', 'C[C@@H](NCc1ccc(C#N)s1)c1ccncc1', 'CC(Cc1cc(C#N)c(N)s1)c1ccccn1', 'CN(C)c1ccc(-c2csc3nccn23)cc1', 'CC(c1cc2ccccc2s1)n1nccc1N', 'CSc1ccc(C(C#N)c2nccn2C)cc1', 'Cc1ccc(Nc2ccc(C(N)=S)cn2)cc1', '[H]/N=C(\\\\N)c1ccncc1SCc1ccccc1', 'C[C@@H](c1cccs1)n1c(N)nc2ccccc21', 'C#CCNC1CCc2cc3sc(N)nc3cc21', 'c1ccc(-c2nnc(C3C4CNCC43)s2)cc1', 'Cc1nc(C)c(-c2cn3c(C)cccc3n2)s1', 'CCc1nc2cccnc2n1-c1cc(C)cs1', 'CC(C)Sc1ccc(-c2cc(C#N)n[nH]2)cc1', 'CSCc1nc2cc(C#N)ccc2n1C1CC1', 'c1cc2ccc(CNCc3cscn3)cc2[nH]1', 'Cc1sc(C(C)(C)C#N)nc1-c1ccncc1', 'CC(CNc1cccc(C#N)c1)c1nccs1', 'CCC(Nc1cc(C#N)ccn1)c1cccs1', 'c1csc(CNCc2nc3ccccc3[nH]2)c1', 'CC(C)(Nc1cccc(C#N)c1)c1nccs1', 'Cc1sc(-c2ccc3[nH]cc(C)c3c2)nc1N', '[H]/N=C(\\\\N)c1cccnc1Sc1ccccc1C', 'CC(C)(Nc1ccc(C#N)cc1)c1nccs1', 'N#CCC1(CSc2nc3ccccc3[nH]2)CC1', 'CC(C)c1c[nH]c(=S)n1-c1ccc(C#N)cc1', 'Cc1ccc2nc(N)n(Cc3cccs3)c2c1', 'Cc1ccc(-c2nc3sccn3c2CN)cc1', 'CCc1cccc2c(-c3csc(N)n3)c[nH]c12', 'NC(=S)c1ccccc1NCc1ccccn1', 'CC(C)n1c(-c2nccs2)nc2ccccc21', 'NC(=S)c1ccc(-n2ccc(C3CC3)n2)cc1', 'CC(C)c1csc(Nc2ccccc2C#N)n1', 'N#CCc1cc(-c2ccsc2)nn1CC1CC1', 'CCc1cnc(-c2cccc3nn(C)cc23)s1', 'CN(c1ccc(C(N)=S)cc1)c1cccnc1', 'Cc1cc(C)c2nc(-c3ccsc3N)[nH]c2c1', 'CC(/C=N\\\\Nc1nccs1)=C/c1ccccc1', 'CC(Cc1ccsc1)Nc1ccnc(C#N)c1', 'N#CC1(Cc2ccc3nc(N)sc3c2)CCC1', 'Cc1ccsc1-c1nc2n(c1C#N)CCCC2', 'CN1CCc2c(sc(-n3cccc3)c2C#N)C1', 'CCc1c(N)n[nH]c1-c1cc2ccccc2s1', 'Cc1cc(C)n2cc(-c3ccc(C)s3)nc2n1', 'Cn1cccc/c1=N\\\\C(=S)Nc1ccccc1', 'Cc1cc(C)n2c(C)c(-c3cccs3)nc2n1', 'Cc1cccc(-c2ccc(C(=S)CN)nc2)n1', 'CC(c1ccsc1)n1cnc2cc(N)ccc21', 'CCCn1cnnc1-c1csc2ccccc12', 'Cc1nc(C)c(-c2c(C)nc3ccccn23)s1', 'Cc1cccc(-c2cnc(N3CSC3)nc2)c1', 'Cc1ccncc1-c1ccc2c(c1)N(C)SN2', 'Cc1nc(-c2ccc3c(c2)ncn3C)sc1C', 'N#Cc1ccc(NCCc2ccsc2)c(N)c1', 'Cc1ccc(NCc2scnc2C)c(C#N)c1', 'Cc1sc(-c2c[nH]c3ccccc23)nc1CN', 'NC(=S)c1cccn1-c1ccc2c(n1)CCC2', 'Cc1ccc(Nc2cccnc2)c(C(N)=S)c1', 'c1cn2c(n1)sc1cc(C3CCNC3)ccc12', 'CSC(=C(C#N)C#N)c1ccc(N(C)C)cc1', 'c1ccc(N2CNN=C2Cc2cccs2)cc1', 'CNC(=S)N/N=C/c1ccc2ccccc2c1', 'Cc1ccc2cc(-c3nc(CN)cs3)[nH]c2c1', 'Cc1cnc(C(C#N)NCc2ccccc2)s1', 'CNc1ncc(Cc2c[nH]c3ccccc23)s1', 'Cc1cc(NC(C)c2nccs2)ccc1C#N', 'N#Cc1cc(CNCCc2cccs2)ccn1', 'S=c1nc(Cc2ccccn2)[nH]c2c1CCC2', 'Cc1cc(C)n(Cc2nc3ccccc3s2)n1', 'CN(Cc1ccnc(C#N)c1)Cc1cccs1', 'Cc1cc(C)n2cc(-c3sccc3C)nc2n1', 'Cc1cc(C#N)cc(NCc2sccc2C)n1', 'S=C(NCc1ccccc1)Nc1ccncc1', 'Cc1cc(C#N)cc(NCCc2cccs2)n1', 'Cc1ccc(C)c(-c2cn3nc(C)sc3n2)c1', 'C=C/C=C/Nc1nc(C2=CC=NC=CC2)cs1', 'CC(NCc1cncs1)c1cccc(C#N)c1', 'Cc1ccc(-c2ccc(NC(N)=S)cc2)nc1', 'Cc1cc(CNc2ccc(C#N)nc2)sc1C', 'CSc1cccc(-n2cnc(C)c2C)c1C#N', 'Cc1nc(CNc2cccc(C#N)c2)sc1C', 'C=N/C(=N/c1ccc(C#N)c(C2CC2)c1)SC', 'c1ccc(C2CNN(c3cccnc3)S2)cc1', 'Cc1sccc1C(N)c1cnn2ccccc12', 'Cc1[nH]c2ccccc2c1-c1nc(N)sc1C', 'CCCn1c(-c2cscn2)nc2ccccc21', 'Cc1cnc(-c2cc3c(N)ccc(C)c3[nH]2)s1', 'Cc1cccc(C#N)c1NCCc1cscn1', 'CCc1ccc(-c2csc3cnc(N)n23)cc1', 'c1cc(-c2nc3c(c(C4CC4)n2)CNC3)cs1', '[H]/N=C(\\\\N)c1ccc(C)nc1Sc1ccccc1', 'CC(C)(c1nsc2ccccc12)n1ccnc1', 'Cc1nc(CNc2ccccc2C#N)sc1C', 'Cc1nc2sc(C)c(-c3ccccc3)n2c1N', 'c1cnc2c(CSC3=NCCN3)cccc2c1', 'CC1CSC(Nc2cccc3cnccc23)=N1', 'CCc1ccc(-c2cn3nc(C)sc3n2)cc1', 'N#Cc1sc2nc3c(cc2c1N)CCCCC3', 'CN(c1ccccc1)c1cnccc1C(N)=S', 'Cc1ccc2nc(-c3cc(C)sc3N)[nH]c2c1', 'N#CCCc1c(-c2ccsc2)n[nH]c1C1CC1', 'CC(C)c1nc2c(s1)Nc1ccccc1N=C2', 'C#CCSCCNc1nncc2ccccc12', 'NCCc1cc(-c2c[nH]c3ccccc23)ns1', 'Cc1cscc1CNc1ccc(C#N)c(N)c1', 'NC(=S)c1nccn1CC1Cc2ccccc21', 'Cc1ccnc(-c2nc(=S)cc(C3CC3)[nH]2)c1', 'NC1(Cc2ccc3c(c2)sc2nccn23)CC1', 'Cc1cc(C)c2[nH]cc(-c3ncsc3N)c2c1', 'C=CCC(C)Nc1ncc(C#N)c2ccsc12', 'CNc1ccc(-c2cc3[nH]ncc3cc2C)s1', 'CCn1ccnc1SCc1ccccc1C#N', 'Cc1ccsc1-c1nc2ccc(CN)cc2[nH]1', 'Cc1ccc(N(C)c2ncc(C#N)s2)c(C)c1', 'Cc1cc(C)c2c(c1)c(C)cc1n[nH]c(=S)n12', 'CCn1cc(-c2csc(N)n2)c2ccccc21', 'Cc1csc(N(CCC#N)c2ccccc2)n1', 'Cc1ccc(-c2cnc(SCC#N)n2C)cc1', 'CSc1ccc(/N=C(\\\\N)c2ccncc2)cc1', 'Cc1ccc2nc(NCc3cccs3)[nH]c2c1', 'CCN(Cc1ccccc1)c1ncc(C#N)s1', 'C#CC(C)NCc1csc(-c2ccccn2)n1', 'Cc1ccc(CNc2cccc3[nH]ncc23)s1', 'CC(C#N)Sc1ncc(-c2ccccc2)n1C', 'c1cnc2[nH]cc(CNCc3ccsc3)c2c1', 'C=N/C=C\\\\c1cc(-c2nsc(C)n2)ccc1C', 'CC(=S)N/N=C\\\\c1nccc2c(C)cccc12', 'Cc1ccc(C)n1Nc1nc2ccccc2s1', 'N#Cc1ccc(SC2CCCCC2)c(C#N)n1', 'Cc1nc2ccc(NCc3ccc[nH]3)cc2s1', 'S=c1[nH]ccnc1C1CCCc2cccnc21', 'Cc1csc(C(C)Nc2ccccc2C#N)n1', 'c1csc(-c2nc3c(c(C4CC4)n2)CNC3)c1', 'CC=CC/N=N/c1nc(-c2ccccc2)cs1', 'Cc1ccc(C(N)c2cnn3ccccc23)s1', 'Cc1ccc(-c2nc3cccc(C)n3c2N)s1', 'NCc1[nH]ncc1Cc1csc2ccccc12', 'CCc1c(C)nc(-c2sccc2C)nc1C#N', 'CCCc1nc(-c2ccccn2)sc1CC#N', 'S=C(Nc1cccc2cnccc12)NC1CC1', 'NCc1cn(Cc2cccs2)c2ncccc12', 'Cc1nc(-c2ccc3c(ccn3C)c2)sc1N', 'Cc1ccnc(NCCc2cccs2)c1C#N', 'C#CCNc1nc(C)nc2sc3c(c12)CCC3', 'c1ccc2c(c1)CC(c1nc(C3CC3)n[nH]1)S2', 'CCc1sc2ncc(N)n2c1-c1ccccc1', 'Cc1ccc(NC(=S)Nc2ccccc2)nc1', 'Cn1c(-c2csc3ccccc23)cnc1CN', 'N#CCN1CCC[C@@H]1c1nc2ccccc2s1', 'CCC(Nc1ncccc1C#N)c1cccs1', 'NCc1cn(Cc2ccsc2)c2ncccc12', 'CC(Cc1cccs1)Nc1cccc(C#N)n1', 'CCc1ccccc1Nc1snc(C)c1C#N', 'Cc1c(-c2ccc(CN)cc2)nc2sccn12', 'Cc1nc2ccccc2nc1C(C)(C#N)CS', 'CC(Nc1cc(N)c(C#N)s1)c1ccccc1', 'CC(C)c1ccc(Nc2ncc(C#N)s2)cc1', 'CN1c2ccccc2Sc2c1ccc(N)c2N', 'CC(C)c1ccc2nc(-c3cscn3)[nH]c2c1', 'Cc1csc(C(C)Nc2cccc(C#N)c2)n1', 'Cc1cc(C)c(-c2cn3ncsc3n2)c(C)c1', 'CNCc1cc(-c2cccc3nccn23)cs1', 'NCc1cccc2ccn(Cc3nccs3)c12', 'Cc1csc2nc(-c3ccc(CN)cc3)cn12', 'CC(=NN=Nc1ccc(C)s1)c1ccccc1', 'CC(CC#N)(Sc1ccccc1)n1ccnc1', '[H]/N=C(\\\\N)c1cccc(Sc2ccccc2C)n1', 'CC1(C)CCNc2cc3sc(C#N)nc3cc21', 'CCC(Nc1ccc(C#N)cn1)c1cccs1', 'Cn1c(NCc2ccsc2)nc2ccccc21', 'NCc1cccn2cc(Cc3cccs3)nc12', 'Cn1ccc(CNc2ccc3ncsc3c2)c1', 'Cc1ccc2ccccc2c1C=NNC(N)=S', 'Cc1ccc(C#N)cc1NC(C)c1cscn1', 'CCc1ccsc1-c1nc2nc(C)ccc2[nH]1', 'Cc1nc(-c2ccc(N(C)C)cc2)sc1C#N', 'CNC1NN=C(c2cccc3ccccc23)S1', 'Cc1ccc(C#N)c(NCc2csc(C)n2)c1', 'NCC#Cc1ccccc1CSc1ncc[nH]1', 'CCc1sc(N)cc1-c1ccc2[nH]ncc2c1', 'Cn1ccc2cc(-c3ccc(CN)s3)cnc21', 'Cc1nc2c(c(Nc3ccccc3)n1)CSC2', 'CCc1ccc(-c2nc3c(N)cccc3[nH]2)s1', 'Nc1cccc2c1NC(N)(c1ccccc1)S2', 'NCc1cn(Cc2cscn2)c2ccccc12', '[H]/N=C(\\\\N)c1ccccc1CSc1ccccn1', 'CCN(Cc1cccs1)c1cnccc1C#N', 'Cc1ccc2[nH]c(-c3cc(C)c(C)s3)nc2n1', 'CCc1ccc(-c2cn3cc(N)ccc3n2)s1', 'CCc1ccc(-c2cn3c(N)csc3n2)cc1', 'Cc1csc(CNCc2ccc(C#N)cc2)n1', 'CN(c1ccncc1)c1ccc(C(N)=S)cc1', 'N#Cc1cccc(-c2csc(CCCN)n2)c1', 'NC(Cc1ccc2[nH]ccc2c1)c1cnsc1', 'C#CCN[C@H]1CCc2cc3sc(N)nc3cc21', 'NCCc1cn[nH]c1-c1csc2ccccc12', 'CSc1ccc(/C=N\\\\Nc2ccccn2)cc1', 'CC(NCc1cc(C#N)cs1)c1cccnc1', 'CC(C)(C#N)c1nc(-c2ccc(N)cc2)cs1', 'Cc1csc(C(C#N)NCc2ccccc2)n1', 'CCc1ccccc1-c1sc2ncnn2c1C', 'Cc1csc(CCc2nc3ccccc3[nH]2)n1', 'Cc1cc(C#N)cc(N(C)Cc2ccsc2)n1', 'CCc1ccc(-c2nc3scnn3c2C)cc1', 'c1csc(CCNc2nc3ccccc3[nH]2)c1', 'NCc1cn(Cc2cncs2)c2ccccc12', 'N#Cc1cccc(NC2=NCC(C3CC3)S2)c1', 'CC(Nc1ccc(C#N)c(N)c1)c1ccsc1', '[H]/N=C(\\\\N)c1cccnc1SCc1ccccc1', 'CC(Nc1ccc2[nH]ncc2c1)c1ccsc1', 'C=C(Sc1ccnc2c1CCC2)c1ncc[nH]1', 'CN(CCc1ccccc1)c1ncc(C#N)s1', 'Nc1ccccc1S.c1ccc2c(c1)CN=N2', 'Cc1ccsc1N(C)c1ccc(C#N)cc1N', 'Cn1c(Cc2cccs2)nc2ccc(N)cc21', 'CC(c1cccs1)N(C)c1ccc(C#N)nc1', 'Cc1ccc(C#N)c(NCCc2cccs2)n1', 'CN(Cc1cccs1)c1ccc(N)cc1C#N', 'S=C1NCCCc2cnn(-c3ccccc3)c21', 'Nc1ccnc(Sc2ccc3c(c2)CCC3)n1', 'Cc1cncc(-c2cc(=S)nc(C3CC3)[nH]2)c1', 'C#CCSC1=NCCN1/N=C/c1ccccc1', 'Cc1ccc2nc(C(N)c3cccs3)[nH]c2c1', 'NCCc1ccc(-c2cn3ccsc3n2)cc1', 'CSC1=NC=CC2=CC(c3ccccc3)NN21', 'CC(C)c1cc(=S)n(-c2cccc(C#N)c2)[nH]1', 'Cc1ccc(-c2ncc3cccc(CN)n23)s1', 'CC(C)c1csc(Nc2cccc(C#N)c2)n1', 'CN1CCc2c([nH]cnc2=S)-c2ccccc21', '[H]/N=C(\\\\N)c1ccc(Sc2ccccn2)c(C)c1', 'N#CCCN(c1snc2ccccc12)C1CC1', 'CCc1csc2nc(-c3ccccc3N)cn12', 'N#Cc1nccn1CC(CS)c1ccccc1', 'Cc1ccc(NCc2ccc(C#N)s2)c(C)n1', 'Cc1cc(NCCc2cscn2)ccc1C#N', 'CC1CN=C(Nc2cnc3ccccc3c2)S1', 'c1cc(CNCc2cncs2)c2cc[nH]c2c1', 'CCNc1c(C#N)c(SC)nc2ccccc12', 'C=CCCCn1c(=S)[nH]c2ccc(C#N)cc21', 'CC(C)C(C(=O)OC(C)C(=O)NC(C(C)C)C(=O)OC(C(C)C)C(=O)NC(C(C)C)C(=O)OCC(CO)O)NC(=O)C(C)OC(=O)C(C(C)C)NC(=O)C(C(C)C)O', 'O=C(O)CCCCCCCCCCCCCCCCC(=O)N[C@@H](CCC(=O)NCCOCCOCC(=O)NCCOCCOCC(=O)ON1C(=O)CCC1O)C(=O)O', 'CC(=O)COCCOCCNC(=O)COCCOCCNC(=O)CC[C@H](NC(=O)CCC(NC(=O)CCCCCCCCCCCCCCC(=O)O)C(=O)O)C(=O)O', 'CC(=O)CC[C@H](NC(=O)COCCOCCNC(=O)COCCOCCNC(=O)CCC(NC(=O)CCCCCCCCCCCCCCC(=O)O)C(=O)O)C(=O)O', 'CC(=O)CCC(NC(=O)COCCOCCNC(=O)COCCOCCNC(=O)CCC(NC(=O)CCCCCCCCCCCCCCC(=O)O)C(=O)O)C(=O)O', 'CC(=O)CC[C@H](NC(=O)COCCOCCNC(=O)COCCOCCNC(=O)CC[C@H](NC(=O)CCCCCCCCCCCCCCC(=O)O)C(=O)O)C(=O)O', 'O=C(O)CCCCCCCCCCCCCCCCC(=O)N[C@@H](CCC(O)NCCOCCOCC(=O)NCCOCCOCC(=O)ON1C(=O)CCC1=O)C(=O)O', 'CCC(C)(CC(C)(CC)C(=O)OC[C@H]([NH3+])C(=O)N[C@@H](COC(=O)C(C)(CC)C(C)(C)C(=O)OCC[N+](C)(C)CCC(=O)[O-])C(=O)[O-])C(=O)OCC[N+](C)(C)CC(=O)[O-]', 'CC(C)C(=O)COCCOCCNC(=O)COCCOCCNC(=O)CC[C@H](NC(=O)CC[C@H](NC(=O)CCCCCCCCCCCCC(=O)O)C(=O)O)C(=O)O', 'CC(=O)COCCOCCNC(=O)COCCOCCNC(=O)CC[C@H](NC(=O)CC[C@H](NC(=O)CCCCCCCCCCCCCCC(=O)O)C(=O)O)C(=O)O']}\n"
     ]
    }
   ],
   "source": [
    "tmp_msn = []\n",
    "for batch in train_loader_msn:\n",
    "    print(batch)\n",
    "    tmp_msn = batch\n",
    "    break"
   ]
  },
  {
   "cell_type": "code",
   "execution_count": 79,
   "id": "9e1dd97c544da443",
   "metadata": {
    "ExecuteTime": {
     "end_time": "2025-02-14T14:09:27.772537Z",
     "start_time": "2025-02-14T14:09:27.769268Z"
    }
   },
   "outputs": [
    {
     "name": "stdout",
     "output_type": "stream",
     "text": [
      "dict_keys(['spec', 'mol', 'precursor_mz', 'adduct', 'identifier', 'mol_freq', 'smiles', 'candidates', 'labels', 'batch_ptr', 'candidates_smiles'])\n",
      "batch_ptr is present: tensor([ 25,  80, 256, 256,  45, 256, 256, 256, 256, 256, 256,  10],\n",
      "       dtype=torch.int32)\n"
     ]
    }
   ],
   "source": [
    "# Check the keys in the batch\n",
    "print(tmp_msn.keys())\n",
    "\n",
    "# Specifically check if 'batch_ptr' is present\n",
    "if 'batch_ptr' in tmp_msn:\n",
    "    print(\"batch_ptr is present:\", tmp_msn['batch_ptr'])\n",
    "else:\n",
    "    print(\"batch_ptr is missing\")"
   ]
  },
  {
   "cell_type": "code",
   "execution_count": 80,
   "id": "f3934a3f-2f70-4faf-ad4a-216e621e3bff",
   "metadata": {},
   "outputs": [
    {
     "name": "stdout",
     "output_type": "stream",
     "text": [
      "Data types in tmp_original:\n",
      "  spec: <class 'torch.Tensor'>\n",
      "  mol: <class 'torch.Tensor'>\n",
      "  precursor_mz: <class 'torch.Tensor'>\n",
      "  adduct: <class 'list'>\n",
      "  mol_freq: <class 'torch.Tensor'>\n",
      "  identifier: <class 'list'>\n",
      "  smiles: <class 'list'>\n",
      "  candidates: <class 'torch.Tensor'>\n",
      "  labels: <class 'torch.Tensor'>\n",
      "  batch_ptr: <class 'torch.Tensor'>\n",
      "  candidates_smiles: <class 'list'>\n",
      "Data types in tmp_msn:\n",
      "  spec: <class 'abc.DataBatch'>\n",
      "  mol: <class 'torch.Tensor'>\n",
      "  precursor_mz: <class 'torch.Tensor'>\n",
      "  adduct: <class 'list'>\n",
      "  identifier: <class 'list'>\n",
      "  mol_freq: <class 'torch.Tensor'>\n",
      "  smiles: <class 'list'>\n",
      "  candidates: <class 'torch.Tensor'>\n",
      "  labels: <class 'torch.Tensor'>\n",
      "  batch_ptr: <class 'torch.Tensor'>\n",
      "  candidates_smiles: <class 'list'>\n"
     ]
    }
   ],
   "source": [
    "def print_key_types(obj, obj_name):\n",
    "    print(f\"Data types in {obj_name}:\")\n",
    "    for key, value in obj.items():\n",
    "        print(f\"  {key}: {type(value)}\")\n",
    "\n",
    "# Print data types for both objects\n",
    "print_key_types(tmp_original, \"tmp_original\")\n",
    "print_key_types(tmp_msn, \"tmp_msn\")"
   ]
  },
  {
   "cell_type": "markdown",
   "id": "ef424072a9118b2d",
   "metadata": {},
   "source": [
    "#### Shold be dict_keys(['spec', 'mol', 'precursor_mz', 'adduct', 'mol_freq', 'identifier', 'smiles', 'candidates', 'labels', 'batch_ptr', 'candidates_smiles'])"
   ]
  },
  {
   "cell_type": "code",
   "execution_count": 81,
   "id": "a4498cf09b5c3638",
   "metadata": {
    "ExecuteTime": {
     "end_time": "2025-01-26T14:09:43.988566Z",
     "start_time": "2025-01-26T14:09:43.986227Z"
    }
   },
   "outputs": [
    {
     "data": {
      "text/plain": [
       "dict_keys(['spec', 'mol', 'precursor_mz', 'adduct', 'identifier', 'mol_freq', 'smiles', 'candidates', 'labels', 'batch_ptr', 'candidates_smiles'])"
      ]
     },
     "execution_count": 81,
     "metadata": {},
     "output_type": "execute_result"
    }
   ],
   "source": [
    "tmp_msn.keys()"
   ]
  },
  {
   "cell_type": "code",
   "execution_count": 82,
   "id": "843fe9326df72b03",
   "metadata": {
    "ExecuteTime": {
     "end_time": "2025-01-26T14:09:44.060212Z",
     "start_time": "2025-01-26T14:09:44.058107Z"
    }
   },
   "outputs": [
    {
     "data": {
      "text/plain": [
       "DataBatch(x=[141, 1039], edge_index=[2, 258], batch=[141], ptr=[13])"
      ]
     },
     "execution_count": 82,
     "metadata": {},
     "output_type": "execute_result"
    }
   ],
   "source": [
    "tmp_msn['spec'] "
   ]
  },
  {
   "cell_type": "code",
   "execution_count": 83,
   "id": "fc8ed10da30f9581",
   "metadata": {
    "ExecuteTime": {
     "end_time": "2025-01-26T14:09:44.116680Z",
     "start_time": "2025-01-26T14:09:44.113941Z"
    }
   },
   "outputs": [
    {
     "data": {
      "text/plain": [
       "tensor([949.5002, 574.2258, 269.0808, 405.2748, 589.1893, 436.1059, 324.1958,\n",
       "        216.0655, 322.1332, 469.2001, 244.0903, 850.5020])"
      ]
     },
     "execution_count": 83,
     "metadata": {},
     "output_type": "execute_result"
    }
   ],
   "source": [
    "tmp_msn['precursor_mz']"
   ]
  },
  {
   "cell_type": "code",
   "execution_count": 84,
   "id": "dfecc66a8137880d",
   "metadata": {
    "ExecuteTime": {
     "end_time": "2025-01-26T14:09:44.542604Z",
     "start_time": "2025-01-26T14:09:44.539467Z"
    }
   },
   "outputs": [
    {
     "data": {
      "text/plain": [
       "tensor([2., 1., 1., 2., 1., 1., 3., 1., 1., 1., 1., 3.])"
      ]
     },
     "execution_count": 84,
     "metadata": {},
     "output_type": "execute_result"
    }
   ],
   "source": [
    "tmp_msn['mol_freq']"
   ]
  },
  {
   "cell_type": "code",
   "execution_count": 85,
   "id": "f3cce6c85a13d606",
   "metadata": {
    "ExecuteTime": {
     "end_time": "2025-01-26T14:09:44.687710Z",
     "start_time": "2025-01-26T14:09:44.685606Z"
    }
   },
   "outputs": [
    {
     "data": {
      "text/plain": [
       "['0001594_0000000',\n",
       " '0081112_0000000',\n",
       " '0076845_0000000',\n",
       " '0081351_0000000',\n",
       " '0100014_0000000',\n",
       " '0075818_0000000',\n",
       " '0071113_0000000',\n",
       " '0084945_0000000',\n",
       " '0022953_0000000',\n",
       " '0032029_0000000',\n",
       " '0087941_0000000',\n",
       " '0006315_0000000']"
      ]
     },
     "execution_count": 85,
     "metadata": {},
     "output_type": "execute_result"
    }
   ],
   "source": [
    "tmp_msn['identifier']"
   ]
  },
  {
   "cell_type": "code",
   "execution_count": 86,
   "id": "f51053f8670e729f",
   "metadata": {
    "ExecuteTime": {
     "end_time": "2025-01-26T14:09:44.850983Z",
     "start_time": "2025-01-26T14:09:44.848292Z"
    }
   },
   "outputs": [
    {
     "data": {
      "text/plain": [
       "['[M+H]+',\n",
       " '[M+H]+',\n",
       " '[M+H]+',\n",
       " '[M+H]+',\n",
       " '[M+H]+',\n",
       " '[M+H]+',\n",
       " '[M+H]+',\n",
       " '[M+H]+',\n",
       " '[M+H]+',\n",
       " '[M+H]+',\n",
       " '[M+H]+',\n",
       " '[M+NH4]+']"
      ]
     },
     "execution_count": 86,
     "metadata": {},
     "output_type": "execute_result"
    }
   ],
   "source": [
    "tmp_msn['adduct']"
   ]
  },
  {
   "cell_type": "code",
   "execution_count": 87,
   "id": "1874faafb955f9d4",
   "metadata": {
    "ExecuteTime": {
     "end_time": "2025-01-26T14:09:45.017903Z",
     "start_time": "2025-01-26T14:09:45.015397Z"
    }
   },
   "outputs": [
    {
     "data": {
      "text/plain": [
       "torch.Size([12, 4096])"
      ]
     },
     "execution_count": 87,
     "metadata": {},
     "output_type": "execute_result"
    }
   ],
   "source": [
    "tmp_msn['mol'].shape"
   ]
  },
  {
   "cell_type": "code",
   "execution_count": 88,
   "id": "26e13e52cabf0dac",
   "metadata": {
    "ExecuteTime": {
     "end_time": "2025-01-26T14:09:45.166081Z",
     "start_time": "2025-01-26T14:09:45.163471Z"
    }
   },
   "outputs": [
    {
     "data": {
      "text/plain": [
       "['C[C@@H]1C[C@@H]([C@@]2([C@@H]([C@@]1(C)CC[C@@](C)(C=C)O[C@H]3[C@@H]([C@H]([C@H]([C@H](O3)C)O[C@H]4[C@@H]([C@@H]([C@H]([C@@H](O4)C)O)O)O)O)O)CCC=C2C)C)O[C@H]5[C@@H]([C@@H]([C@H]([C@@H](O5)C)O[C@H]6[C@@H]([C@H]([C@@H]([C@H](O6)COC(=O)C)O)O)O)O)O',\n",
       " 'CC(C)C1=CC=CC=C1CC2=CC(=C(C(=C2O)O)O)C(=O)NC3=CC=C(C=C3)S(=O)(=O)C4=CC=CC=C4C(C)(C)C',\n",
       " 'COC1=CC=CC(=C1)C2=C(C(=O)C3=CC=CC=C3O2)O',\n",
       " 'CCCCCCCC(=O)N[C@H](CN1CCCC1)[C@@H](C2=CC3=C(C=C2)OCCO3)O',\n",
       " 'CC(C)N1C=C(C(=O)N(C1=O)C2=CC=C(C=C2)F)C(=O)NC3=CC(=C(C=C3)OC4=C5C=C(C(=CC5=NC=C4)OC)OC)F',\n",
       " 'C1=CC=C(C(=C1)C(C2=CC(=C3C=CC=NC3=C2O)Cl)NC4=CC=CC=N4)OCC(=O)O',\n",
       " 'CCN1CCCC(C1)OC(=O)C(C2=CC=CC=C2)C3=CC=CC=C3',\n",
       " 'COC1=C2C=COC2=NC3=C1C=CC=C3O',\n",
       " 'CC1=NC2=C(C=CN=C2)C(=N1)N3CC(C3)CN(C)S(=O)(=O)C',\n",
       " 'CN1CCN(CC1)C(=O)C2CCN(CC2)C(=O)C3=CC4=C(N3CC5=CC=C(C=C5)Cl)C=CO4',\n",
       " 'CCCC1=NC2=C(S1)C3=CC=CC=C3N=C2N',\n",
       " 'CC(C)C(C(=O)OC(C)C(=O)NC(C(C)C)C(=O)OC(C(C)C)C(=O)NC(C(C)C)C(=O)OCC(CO)O)NC(=O)C(C)OC(=O)C(C(C)C)NC(=O)C(C(C)C)O']"
      ]
     },
     "execution_count": 88,
     "metadata": {},
     "output_type": "execute_result"
    }
   ],
   "source": [
    "tmp_msn['smiles']"
   ]
  },
  {
   "cell_type": "code",
   "execution_count": 89,
   "id": "e519fe7ed5121dcc",
   "metadata": {
    "ExecuteTime": {
     "end_time": "2025-01-26T14:09:45.345887Z",
     "start_time": "2025-01-26T14:09:45.343339Z"
    }
   },
   "outputs": [
    {
     "data": {
      "text/plain": [
       "tensor([ True, False, False,  ..., False, False, False])"
      ]
     },
     "execution_count": 89,
     "metadata": {},
     "output_type": "execute_result"
    }
   ],
   "source": [
    "tmp_msn['labels']"
   ]
  },
  {
   "cell_type": "code",
   "execution_count": 90,
   "id": "61de3b3ad4572c7a",
   "metadata": {
    "ExecuteTime": {
     "end_time": "2025-01-26T14:09:45.507683Z",
     "start_time": "2025-01-26T14:09:45.499212Z"
    }
   },
   "outputs": [
    {
     "data": {
      "text/plain": [
       "tensor(12)"
      ]
     },
     "execution_count": 90,
     "metadata": {},
     "output_type": "execute_result"
    }
   ],
   "source": [
    "sum(tmp_msn['labels'])"
   ]
  },
  {
   "cell_type": "code",
   "execution_count": 91,
   "id": "86224621a407862f",
   "metadata": {
    "ExecuteTime": {
     "end_time": "2025-01-26T14:09:45.684944Z",
     "start_time": "2025-01-26T14:09:45.681948Z"
    }
   },
   "outputs": [
    {
     "data": {
      "text/plain": [
       "tensor([   0,   25,  105,  361,  617,  662,  918, 1174, 1430, 1686, 1942, 2198])"
      ]
     },
     "execution_count": 91,
     "metadata": {},
     "output_type": "execute_result"
    }
   ],
   "source": [
    "torch.nonzero(tmp_msn['labels'], as_tuple=False).squeeze()"
   ]
  },
  {
   "cell_type": "code",
   "execution_count": 92,
   "id": "df3c85be4bd961ae",
   "metadata": {
    "ExecuteTime": {
     "end_time": "2025-01-26T14:09:45.846982Z",
     "start_time": "2025-01-26T14:09:45.844508Z"
    }
   },
   "outputs": [
    {
     "data": {
      "text/plain": [
       "2208"
      ]
     },
     "execution_count": 92,
     "metadata": {},
     "output_type": "execute_result"
    }
   ],
   "source": [
    "len(tmp_msn['labels'])"
   ]
  },
  {
   "cell_type": "code",
   "execution_count": 93,
   "id": "e30895af70b971cf",
   "metadata": {
    "ExecuteTime": {
     "end_time": "2025-01-26T14:09:46.046226Z",
     "start_time": "2025-01-26T14:09:46.043541Z"
    }
   },
   "outputs": [
    {
     "data": {
      "text/plain": [
       "tensor([ 25,  80, 256, 256,  45, 256, 256, 256, 256, 256, 256,  10],\n",
       "       dtype=torch.int32)"
      ]
     },
     "execution_count": 93,
     "metadata": {},
     "output_type": "execute_result"
    }
   ],
   "source": [
    "tmp_msn['batch_ptr']"
   ]
  },
  {
   "cell_type": "code",
   "execution_count": 94,
   "id": "cd6581b0abe8464d",
   "metadata": {
    "ExecuteTime": {
     "end_time": "2025-01-26T14:09:46.564081Z",
     "start_time": "2025-01-26T14:09:46.561215Z"
    }
   },
   "outputs": [
    {
     "data": {
      "text/plain": [
       "tensor(2208, dtype=torch.int32)"
      ]
     },
     "execution_count": 94,
     "metadata": {},
     "output_type": "execute_result"
    }
   ],
   "source": [
    "sum(tmp_msn['batch_ptr'])"
   ]
  },
  {
   "cell_type": "code",
   "execution_count": 95,
   "id": "bac322d4444ee5ea",
   "metadata": {
    "ExecuteTime": {
     "end_time": "2025-01-26T14:09:46.742119Z",
     "start_time": "2025-01-26T14:09:46.739777Z"
    }
   },
   "outputs": [
    {
     "data": {
      "text/plain": [
       "2208"
      ]
     },
     "execution_count": 95,
     "metadata": {},
     "output_type": "execute_result"
    }
   ],
   "source": [
    "len(tmp_msn['candidates'])"
   ]
  },
  {
   "cell_type": "code",
   "execution_count": 96,
   "id": "5240b59230576227",
   "metadata": {
    "ExecuteTime": {
     "end_time": "2025-01-26T14:09:46.904383Z",
     "start_time": "2025-01-26T14:09:46.902008Z"
    }
   },
   "outputs": [
    {
     "data": {
      "text/plain": [
       "torch.Size([4096])"
      ]
     },
     "execution_count": 96,
     "metadata": {},
     "output_type": "execute_result"
    }
   ],
   "source": [
    "tmp_msn['candidates'][5].shape"
   ]
  },
  {
   "cell_type": "markdown",
   "id": "8fabb6d3fa7fd1ec",
   "metadata": {},
   "source": [
    "### Compare Shapes"
   ]
  },
  {
   "cell_type": "code",
   "execution_count": 97,
   "id": "1569a73db41d79ad",
   "metadata": {
    "ExecuteTime": {
     "end_time": "2025-01-26T14:09:47.239455Z",
     "start_time": "2025-01-26T14:09:47.237177Z"
    }
   },
   "outputs": [
    {
     "data": {
      "text/plain": [
       "True"
      ]
     },
     "execution_count": 97,
     "metadata": {},
     "output_type": "execute_result"
    }
   ],
   "source": [
    "tmp_msn.keys() == tmp_original.keys()"
   ]
  },
  {
   "cell_type": "code",
   "execution_count": 98,
   "id": "e05b0a2b1e4ecf17",
   "metadata": {
    "ExecuteTime": {
     "end_time": "2025-01-26T14:09:47.438583Z",
     "start_time": "2025-01-26T14:09:47.436466Z"
    }
   },
   "outputs": [
    {
     "data": {
      "text/plain": [
       "True"
      ]
     },
     "execution_count": 98,
     "metadata": {},
     "output_type": "execute_result"
    }
   ],
   "source": [
    "tmp_msn['batch_ptr'].shape == tmp_original['batch_ptr'].shape"
   ]
  },
  {
   "cell_type": "code",
   "execution_count": 99,
   "id": "b606c035c765f275",
   "metadata": {
    "ExecuteTime": {
     "end_time": "2025-01-26T14:09:47.602278Z",
     "start_time": "2025-01-26T14:09:47.599955Z"
    }
   },
   "outputs": [
    {
     "data": {
      "text/plain": [
       "False"
      ]
     },
     "execution_count": 99,
     "metadata": {},
     "output_type": "execute_result"
    }
   ],
   "source": [
    "tmp_msn['batch_ptr'].dtype == tmp_original['batch_ptr'].dtype"
   ]
  },
  {
   "cell_type": "code",
   "execution_count": 100,
   "id": "2217b21a37932e30",
   "metadata": {
    "ExecuteTime": {
     "end_time": "2025-01-26T14:13:34.631369Z",
     "start_time": "2025-01-26T14:13:34.629025Z"
    }
   },
   "outputs": [
    {
     "data": {
      "text/plain": [
       "torch.int64"
      ]
     },
     "execution_count": 100,
     "metadata": {},
     "output_type": "execute_result"
    }
   ],
   "source": [
    "tmp_original['batch_ptr'].dtype"
   ]
  },
  {
   "cell_type": "code",
   "execution_count": 101,
   "id": "782a345bcd3a68db",
   "metadata": {
    "ExecuteTime": {
     "end_time": "2025-01-26T14:13:22.931706Z",
     "start_time": "2025-01-26T14:13:22.922641Z"
    }
   },
   "outputs": [
    {
     "data": {
      "text/plain": [
       "torch.int32"
      ]
     },
     "execution_count": 101,
     "metadata": {},
     "output_type": "execute_result"
    }
   ],
   "source": [
    "tmp_msn['batch_ptr'].dtype"
   ]
  },
  {
   "cell_type": "code",
   "execution_count": 102,
   "id": "f9dae4c8aaa7564b",
   "metadata": {
    "ExecuteTime": {
     "end_time": "2025-01-26T14:09:47.774336Z",
     "start_time": "2025-01-26T14:09:47.771485Z"
    }
   },
   "outputs": [
    {
     "data": {
      "text/plain": [
       "(tensor(2208, dtype=torch.int32), 2208)"
      ]
     },
     "execution_count": 102,
     "metadata": {},
     "output_type": "execute_result"
    }
   ],
   "source": [
    "sum(tmp_msn['batch_ptr']), len(tmp_msn['candidates_smiles'])"
   ]
  },
  {
   "cell_type": "code",
   "execution_count": 103,
   "id": "67eeb6830a02639a",
   "metadata": {
    "ExecuteTime": {
     "end_time": "2025-01-26T14:09:47.942548Z",
     "start_time": "2025-01-26T14:09:47.940125Z"
    }
   },
   "outputs": [
    {
     "data": {
      "text/plain": [
       "(tensor(3072), 3072)"
      ]
     },
     "execution_count": 103,
     "metadata": {},
     "output_type": "execute_result"
    }
   ],
   "source": [
    "sum(tmp_original['batch_ptr']), len(tmp_original['candidates_smiles'])"
   ]
  },
  {
   "cell_type": "code",
   "execution_count": 104,
   "id": "da6f7d53ce907f18",
   "metadata": {
    "ExecuteTime": {
     "end_time": "2025-01-26T14:09:48.103318Z",
     "start_time": "2025-01-26T14:09:48.101065Z"
    }
   },
   "outputs": [
    {
     "data": {
      "text/plain": [
       "True"
      ]
     },
     "execution_count": 104,
     "metadata": {},
     "output_type": "execute_result"
    }
   ],
   "source": [
    "tmp_msn['labels'].dtype == tmp_original['labels'].dtype"
   ]
  },
  {
   "cell_type": "code",
   "execution_count": 105,
   "id": "29f2304a3eb0d784",
   "metadata": {
    "ExecuteTime": {
     "end_time": "2025-01-26T14:09:48.260879Z",
     "start_time": "2025-01-26T14:09:48.258837Z"
    }
   },
   "outputs": [
    {
     "data": {
      "text/plain": [
       "True"
      ]
     },
     "execution_count": 105,
     "metadata": {},
     "output_type": "execute_result"
    }
   ],
   "source": [
    "tmp_msn['candidates'].dtype == tmp_original['candidates'].dtype"
   ]
  },
  {
   "cell_type": "code",
   "execution_count": 106,
   "id": "bf61a76af4db9b5a",
   "metadata": {
    "ExecuteTime": {
     "end_time": "2025-01-26T14:09:48.433295Z",
     "start_time": "2025-01-26T14:09:48.430979Z"
    }
   },
   "outputs": [
    {
     "data": {
      "text/plain": [
       "True"
      ]
     },
     "execution_count": 106,
     "metadata": {},
     "output_type": "execute_result"
    }
   ],
   "source": [
    "tmp_msn['candidates'][0].shape == tmp_original['candidates'][0].shape"
   ]
  },
  {
   "cell_type": "code",
   "execution_count": 107,
   "id": "e28ea4d96f687f0f",
   "metadata": {
    "ExecuteTime": {
     "end_time": "2025-01-26T14:09:48.599192Z",
     "start_time": "2025-01-26T14:09:48.597148Z"
    }
   },
   "outputs": [
    {
     "data": {
      "text/plain": [
       "True"
      ]
     },
     "execution_count": 107,
     "metadata": {},
     "output_type": "execute_result"
    }
   ],
   "source": [
    "tmp_msn['candidates'][5].shape == tmp_original['candidates'][5].shape"
   ]
  },
  {
   "cell_type": "code",
   "execution_count": 108,
   "id": "68573c7361e436dd",
   "metadata": {
    "ExecuteTime": {
     "end_time": "2025-01-26T14:09:48.780483Z",
     "start_time": "2025-01-26T14:09:48.778287Z"
    }
   },
   "outputs": [
    {
     "data": {
      "text/plain": [
       "True"
      ]
     },
     "execution_count": 108,
     "metadata": {},
     "output_type": "execute_result"
    }
   ],
   "source": [
    "type(tmp_msn['smiles']) == type(tmp_original['smiles'])"
   ]
  },
  {
   "cell_type": "code",
   "execution_count": 109,
   "id": "44b90cb38ece920e",
   "metadata": {
    "ExecuteTime": {
     "end_time": "2025-01-26T14:09:48.928996Z",
     "start_time": "2025-01-26T14:09:48.926865Z"
    }
   },
   "outputs": [
    {
     "data": {
      "text/plain": [
       "True"
      ]
     },
     "execution_count": 109,
     "metadata": {},
     "output_type": "execute_result"
    }
   ],
   "source": [
    "type(tmp_msn['smiles'][0]) == type(tmp_original['smiles'][0])"
   ]
  },
  {
   "cell_type": "code",
   "execution_count": 110,
   "id": "8493612e08e9479e",
   "metadata": {
    "ExecuteTime": {
     "end_time": "2025-01-26T14:09:49.109966Z",
     "start_time": "2025-01-26T14:09:49.107657Z"
    }
   },
   "outputs": [
    {
     "data": {
      "text/plain": [
       "True"
      ]
     },
     "execution_count": 110,
     "metadata": {},
     "output_type": "execute_result"
    }
   ],
   "source": [
    "len(tmp_msn['smiles']) == len(tmp_original['smiles'])"
   ]
  },
  {
   "cell_type": "code",
   "execution_count": 111,
   "id": "b604f8942bf1362d",
   "metadata": {
    "ExecuteTime": {
     "end_time": "2025-01-26T14:09:49.304870Z",
     "start_time": "2025-01-26T14:09:49.302709Z"
    }
   },
   "outputs": [
    {
     "data": {
      "text/plain": [
       "True"
      ]
     },
     "execution_count": 111,
     "metadata": {},
     "output_type": "execute_result"
    }
   ],
   "source": [
    "type(tmp_msn['candidates_smiles']) == type(tmp_original['candidates_smiles'])"
   ]
  },
  {
   "cell_type": "code",
   "execution_count": 66,
   "id": "1a9910cd68400224",
   "metadata": {
    "ExecuteTime": {
     "end_time": "2025-01-26T14:09:49.476990Z",
     "start_time": "2025-01-26T14:09:49.474772Z"
    }
   },
   "outputs": [
    {
     "data": {
      "text/plain": [
       "True"
      ]
     },
     "execution_count": 66,
     "metadata": {},
     "output_type": "execute_result"
    }
   ],
   "source": [
    "type(tmp_msn['candidates_smiles'][0]) == type(tmp_original['candidates_smiles'][0])"
   ]
  },
  {
   "cell_type": "code",
   "execution_count": 67,
   "id": "65f8205061648068",
   "metadata": {
    "ExecuteTime": {
     "end_time": "2025-01-26T14:09:49.656680Z",
     "start_time": "2025-01-26T14:09:49.654355Z"
    }
   },
   "outputs": [
    {
     "data": {
      "text/plain": [
       "2598"
      ]
     },
     "execution_count": 67,
     "metadata": {},
     "output_type": "execute_result"
    }
   ],
   "source": [
    "len(tmp_msn['candidates_smiles'])"
   ]
  },
  {
   "cell_type": "code",
   "execution_count": null,
   "id": "9be44629-b7da-4a74-b6ec-3521b4b29e5c",
   "metadata": {},
   "outputs": [],
   "source": []
  },
  {
   "cell_type": "code",
   "execution_count": null,
   "id": "95e158cf-3b65-451b-806f-79133f872194",
   "metadata": {},
   "outputs": [],
   "source": []
  },
  {
   "cell_type": "code",
   "execution_count": null,
   "id": "f984125e-a724-4a29-a2b3-37118a34876d",
   "metadata": {},
   "outputs": [],
   "source": []
  }
 ],
 "metadata": {
  "kernelspec": {
   "display_name": "Python 3 (ipykernel)",
   "language": "python",
   "name": "python3"
  },
  "language_info": {
   "codemirror_mode": {
    "name": "ipython",
    "version": 3
   },
   "file_extension": ".py",
   "mimetype": "text/x-python",
   "name": "python",
   "nbconvert_exporter": "python",
   "pygments_lexer": "ipython3",
   "version": "3.11.9"
  }
 },
 "nbformat": 4,
 "nbformat_minor": 5
}
