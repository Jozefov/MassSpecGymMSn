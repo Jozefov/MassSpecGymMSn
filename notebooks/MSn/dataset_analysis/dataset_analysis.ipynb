{
 "cells": [
  {
   "cell_type": "code",
   "id": "initial_id",
   "metadata": {
    "collapsed": true,
    "ExecuteTime": {
     "end_time": "2024-12-28T11:26:37.178912Z",
     "start_time": "2024-12-28T11:26:37.176786Z"
    }
   },
   "source": [
    "from massspecgym.data.datasets import MSnDataset, MassSpecDataset\n",
    "from massspecgym.data.transforms import MolFingerprinter, SpecTokenizer\n",
    "from massspecgym.data import MassSpecDataModule\n",
    "from massspecgym.featurize import SpectrumFeaturizer"
   ],
   "outputs": [],
   "execution_count": 4
  },
  {
   "metadata": {
    "ExecuteTime": {
     "end_time": "2024-12-28T11:26:38.390047Z",
     "start_time": "2024-12-28T11:26:38.387572Z"
    }
   },
   "cell_type": "code",
   "source": [
    "file_mgf = \"/Users/macbook/CODE/Majer:MassSpecGym/data/MSn/20241211_msn_library_pos_all_lib_MSn.mgf\"\n",
    "split_file = \"/Users/macbook/CODE/Majer:MassSpecGym/data/MSn/20241211_split.tsv\""
   ],
   "id": "cec178ce42a723d4",
   "outputs": [],
   "execution_count": 5
  },
  {
   "metadata": {
    "ExecuteTime": {
     "end_time": "2024-12-28T12:04:11.975509Z",
     "start_time": "2024-12-28T12:04:11.973193Z"
    }
   },
   "cell_type": "code",
   "source": [
    "config = {\n",
    "    'features': ['binned_peaks'],\n",
    "    'feature_attributes': {\n",
    "        'binned_peaks': {\n",
    "            'max_mz': 1005,\n",
    "            'bin_width': 1.0,\n",
    "        },\n",
    "    },\n",
    "}"
   ],
   "id": "5e0a207b6e9975ae",
   "outputs": [],
   "execution_count": 14
  },
  {
   "metadata": {
    "ExecuteTime": {
     "end_time": "2024-12-28T12:04:12.110899Z",
     "start_time": "2024-12-28T12:04:12.108640Z"
    }
   },
   "cell_type": "code",
   "source": "featurizer = SpectrumFeaturizer(config, mode='torch')",
   "id": "32fced3d8c7f5aa6",
   "outputs": [],
   "execution_count": 15
  },
  {
   "metadata": {
    "ExecuteTime": {
     "end_time": "2024-12-28T12:11:14.366019Z",
     "start_time": "2024-12-28T12:04:12.263553Z"
    }
   },
   "cell_type": "code",
   "source": [
    "# Init hyperparameters\n",
    "n_peaks = 60\n",
    "fp_size = 4096\n",
    "batch_size = 12\n",
    "\n",
    "msn_dataset = MSnDataset(\n",
    "    pth=file_mgf,\n",
    "    featurizer=featurizer,\n",
    "    mol_transform=MolFingerprinter(fp_size=fp_size),\n",
    "    max_allowed_deviation=0.005\n",
    ")"
   ],
   "id": "d35d91688c23c26f",
   "outputs": [],
   "execution_count": 16
  },
  {
   "metadata": {
    "ExecuteTime": {
     "end_time": "2024-12-28T12:11:14.448922Z",
     "start_time": "2024-12-28T12:11:14.417114Z"
    }
   },
   "cell_type": "code",
   "source": "msn_dataset[0]",
   "id": "29074b87eadc58ef",
   "outputs": [
    {
     "data": {
      "text/plain": [
       "{'spec': Data(x=[14, 1005], edge_index=[2, 13]),\n",
       " 'mol': tensor([0., 0., 0.,  ..., 0., 0., 0.]),\n",
       " 'precursor_mz': tensor(347.1489),\n",
       " 'adduct': '[M+H]+',\n",
       " 'identifier': '0000002_0000000',\n",
       " 'mol_freq': tensor(1.)}"
      ]
     },
     "execution_count": 17,
     "metadata": {},
     "output_type": "execute_result"
    }
   ],
   "execution_count": 17
  },
  {
   "metadata": {
    "ExecuteTime": {
     "end_time": "2024-12-28T12:11:14.598957Z",
     "start_time": "2024-12-28T12:11:14.595845Z"
    }
   },
   "cell_type": "code",
   "source": "len(msn_dataset)",
   "id": "18823f12f8aea5b",
   "outputs": [
    {
     "data": {
      "text/plain": [
       "16476"
      ]
     },
     "execution_count": 18,
     "metadata": {},
     "output_type": "execute_result"
    }
   ],
   "execution_count": 18
  },
  {
   "metadata": {
    "ExecuteTime": {
     "end_time": "2024-12-28T12:11:14.684118Z",
     "start_time": "2024-12-28T12:11:14.680284Z"
    }
   },
   "cell_type": "code",
   "source": "len(msn_dataset.trees)",
   "id": "b9c9807a830350bd",
   "outputs": [
    {
     "data": {
      "text/plain": [
       "16476"
      ]
     },
     "execution_count": 19,
     "metadata": {},
     "output_type": "execute_result"
    }
   ],
   "execution_count": 19
  },
  {
   "metadata": {
    "ExecuteTime": {
     "end_time": "2024-12-28T12:11:14.724511Z",
     "start_time": "2024-12-28T12:11:14.720679Z"
    }
   },
   "cell_type": "code",
   "source": "msn_dataset.trees[0]",
   "id": "a31e94b39f143698",
   "outputs": [
    {
     "data": {
      "text/plain": [
       "347.14891\n",
       "  329.139404296875\n",
       "    175.075592041016\n",
       "    160.051956176758\n",
       "  193.086303710938\n",
       "    151.075317382813\n",
       "    107.049133300781\n",
       "  175.076354980469\n",
       "  155.070388793945\n",
       "    112.051902770996\n",
       "    95.049163818359\n",
       "  151.075546264648\n",
       "    135.044143676758\n",
       "    107.049140930176"
      ]
     },
     "execution_count": 20,
     "metadata": {},
     "output_type": "execute_result"
    }
   ],
   "execution_count": 20
  },
  {
   "metadata": {},
   "cell_type": "markdown",
   "source": "## Node similarities",
   "id": "32e8d36a6c2fad"
  },
  {
   "metadata": {
    "ExecuteTime": {
     "end_time": "2024-12-28T12:21:37.566887Z",
     "start_time": "2024-12-28T12:21:37.564282Z"
    }
   },
   "cell_type": "code",
   "source": [
    "import random\n",
    "import numpy as np\n",
    "import torch\n",
    "from typing import List, Dict, Tuple, Optional\n",
    "from matchms import Spectrum"
   ],
   "id": "14fe53dfa2d1d97a",
   "outputs": [],
   "execution_count": 21
  },
  {
   "metadata": {
    "ExecuteTime": {
     "end_time": "2024-12-28T12:22:18.645799Z",
     "start_time": "2024-12-28T12:22:18.620817Z"
    }
   },
   "cell_type": "code",
   "source": [
    "import random\n",
    "import numpy as np\n",
    "import torch\n",
    "from typing import List, Dict, Tuple, Optional\n",
    "from matchms import Spectrum\n",
    "\n",
    "############################################################\n",
    "## 1) Classical Cosine Similarity (Spectrum-based)\n",
    "############################################################\n",
    "\n",
    "def classical_cosine_similarity(specA: Spectrum, specB: Spectrum) -> float:\n",
    "    \"\"\"\n",
    "    Computes a simple vector-based cosine similarity between\n",
    "    two matchms.Spectrum objects, using binned intensities\n",
    "    or any other vector representation you define.\n",
    "\n",
    "    NOTE: This example uses a naive approach:\n",
    "      1) Extract the 'mz' and 'intensity' arrays from each spectrum\n",
    "      2) Create a shared binned representation (like 0.1 Da bins) or a dictionary-based\n",
    "         representation for the intensities\n",
    "      3) Compute the dot-product / norm-based cosine.\n",
    "\n",
    "    For a more robust approach, consider matchms functions or MS2DeepScore, etc.\n",
    "    \"\"\"\n",
    "    if specA is None or specB is None:\n",
    "        return np.nan  # or 0.0\n",
    "    mzA, intA = specA.peaks.mz, specA.peaks.intensities\n",
    "    mzB, intB = specB.peaks.mz, specB.peaks.intensities\n",
    "\n",
    "    # Example approach: convert to a dictionary {mz_rounded: intensity}\n",
    "    # then unify keys and compute dot product.\n",
    "    # (More advanced binning or tolerance is recommended in practice.)\n",
    "    dictA = {round(m, 2): i for m, i in zip(mzA, intA)}\n",
    "    dictB = {round(m, 2): i for m, i in zip(mzB, intB)}\n",
    "\n",
    "    common_mzs = set(dictA.keys()).intersection(set(dictB.keys()))\n",
    "    dotprod = sum([dictA[m]*dictB[m] for m in common_mzs])\n",
    "\n",
    "    normA = np.sqrt(sum(val*val for val in dictA.values()))\n",
    "    normB = np.sqrt(sum(val*val for val in dictB.values()))\n",
    "    if normA == 0.0 or normB == 0.0:\n",
    "        return 0.0\n",
    "\n",
    "    cos = dotprod / (normA * normB)\n",
    "    return cos\n",
    "\n",
    "\n",
    "############################################################\n",
    "## 2) DreaMS Embedding Similarity (vector-based)\n",
    "############################################################\n",
    "\n",
    "def dreams_embedding_similarity(embeddingA: torch.Tensor,\n",
    "                               embeddingB: torch.Tensor,\n",
    "                               sim_type: str = \"cosine\") -> float:\n",
    "    \"\"\"\n",
    "    If you have a precomputed DreaMS (or other model) embedding for each node,\n",
    "    compute the similarity (e.g. cosine). Assumes each embedding is a 1D torch.Tensor.\n",
    "    \"\"\"\n",
    "    if embeddingA is None or embeddingB is None:\n",
    "        return float('nan')\n",
    "\n",
    "    if sim_type == \"cosine\":\n",
    "        # Dot-product normalized\n",
    "        dot = torch.dot(embeddingA, embeddingB).item()\n",
    "        normA = torch.norm(embeddingA).item()\n",
    "        normB = torch.norm(embeddingB).item()\n",
    "        if normA == 0.0 or normB == 0.0:\n",
    "            return 0.0\n",
    "        return float(dot / (normA*normB))\n",
    "    else:\n",
    "        raise ValueError(f\"Unknown sim_type: {sim_type}\")\n",
    "\n",
    "\n",
    "############################################################\n",
    "## 3) Gathering Node Embeddings or Spectra\n",
    "############################################################\n",
    "\n",
    "def get_node_spectrum(node) -> Optional[Spectrum]:\n",
    "    \"\"\"\n",
    "    A small helper that returns the matchms.Spectrum from a TreeNode.\n",
    "    node.spectrum is likely already a Spectrum object.\n",
    "    \"\"\"\n",
    "    return node.spectrum\n",
    "\n",
    "def get_node_embedding(node, embed_dict=None) -> Optional[torch.Tensor]:\n",
    "    \"\"\"\n",
    "    If you have a dictionary of precomputed embeddings for each node identifier,\n",
    "    this function looks them up. Alternatively, you might call some model directly.\n",
    "\n",
    "    node.spectrum.get('identifier') is the unique ID.\n",
    "    \"\"\"\n",
    "    if node.spectrum is None:\n",
    "        return None\n",
    "    node_id = node.spectrum.get('identifier')\n",
    "    if embed_dict is None:\n",
    "        return None\n",
    "    return embed_dict.get(node_id, None)\n",
    "\n",
    "\n",
    "############################################################\n",
    "## 4) Relationship-based Similarity Computations\n",
    "##\n",
    "##   These are the main analyses for:\n",
    "##   (a) ancestor-descendant\n",
    "##   (b) siblings, grandparents/cousins\n",
    "##   (c) chimeric or cross-branch merges\n",
    "############################################################\n",
    "\n",
    "def compute_ancestor_descendant_similarity(tree,\n",
    "                                           use_embedding: bool = False,\n",
    "                                           embed_dict=None,\n",
    "                                           sim_fn=None) -> List[float]:\n",
    "    \"\"\"\n",
    "    For each node in the tree (except the root), compute similarity to its parent.\n",
    "    Return the list of all parent-child similarities.\n",
    "\n",
    "    If use_embedding is True, we fetch the node embeddings from embed_dict\n",
    "    (embeddingA, embeddingB). Then we pass them to dreams_embedding_similarity\n",
    "    or a custom `sim_fn`.\n",
    "\n",
    "    If use_embedding is False, we do classical spectral-based similarity\n",
    "    with `classical_cosine_similarity` or your chosen function.\n",
    "    \"\"\"\n",
    "    similarities = []\n",
    "\n",
    "    # BFS over the tree\n",
    "    from collections import deque\n",
    "    queue = deque([tree.root])\n",
    "    while queue:\n",
    "        parent_node = queue.popleft()\n",
    "        for child_node in parent_node.children.values():\n",
    "            # Compute similarity parent vs. child\n",
    "            if use_embedding:\n",
    "                if sim_fn is None:\n",
    "                    sim_fn = dreams_embedding_similarity\n",
    "                embA = get_node_embedding(parent_node, embed_dict=embed_dict)\n",
    "                embB = get_node_embedding(child_node, embed_dict=embed_dict)\n",
    "                sim = sim_fn(embA, embB) if (embA is not None and embB is not None) else float('nan')\n",
    "            else:\n",
    "                if sim_fn is None:\n",
    "                    sim_fn = classical_cosine_similarity\n",
    "                specA = get_node_spectrum(parent_node)\n",
    "                specB = get_node_spectrum(child_node)\n",
    "                sim = sim_fn(specA, specB)\n",
    "\n",
    "            similarities.append(sim)\n",
    "            queue.append(child_node)\n",
    "\n",
    "    return similarities\n",
    "\n",
    "\n",
    "def compute_sibling_similarity(tree,\n",
    "                               use_embedding: bool = False,\n",
    "                               embed_dict=None,\n",
    "                               sim_fn=None) -> List[float]:\n",
    "    \"\"\"\n",
    "    For each parent, get all children. Compute pairwise similarities\n",
    "    among these siblings, collect them all, and return as a list.\n",
    "    \"\"\"\n",
    "    sib_sims = []\n",
    "\n",
    "    from collections import deque\n",
    "    queue = deque([tree.root])\n",
    "    while queue:\n",
    "        parent_node = queue.popleft()\n",
    "        child_values = list(parent_node.children.values())\n",
    "        # All pairwise among siblings\n",
    "        for i in range(len(child_values)):\n",
    "            for j in range(i+1, len(child_values)):\n",
    "                nodeA = child_values[i]\n",
    "                nodeB = child_values[j]\n",
    "                if use_embedding:\n",
    "                    if sim_fn is None:\n",
    "                        sim_fn = dreams_embedding_similarity\n",
    "                    embA = get_node_embedding(nodeA, embed_dict=embed_dict)\n",
    "                    embB = get_node_embedding(nodeB, embed_dict=embed_dict)\n",
    "                    sim = sim_fn(embA, embB) if (embA is not None and embB is not None) else float('nan')\n",
    "                else:\n",
    "                    if sim_fn is None:\n",
    "                        sim_fn = classical_cosine_similarity\n",
    "                    specA = get_node_spectrum(nodeA)\n",
    "                    specB = get_node_spectrum(nodeB)\n",
    "                    sim = sim_fn(specA, specB)\n",
    "                sib_sims.append(sim)\n",
    "\n",
    "        # Continue BFS\n",
    "        for child_node in parent_node.children.values():\n",
    "            queue.append(child_node)\n",
    "\n",
    "    return sib_sims\n",
    "\n",
    "\n",
    "def detect_chimeric_branches(tree,\n",
    "                             use_embedding: bool = False,\n",
    "                             embed_dict=None,\n",
    "                             sim_fn=None) -> Dict[str, bool]:\n",
    "    \"\"\"\n",
    "    For each node, compare similarity to:\n",
    "       - its parent\n",
    "       - all other nodes in the tree\n",
    "    Then check if there's a different node (in a different branch) that has\n",
    "    significantly higher similarity than the parent's similarity -> might indicate\n",
    "    \"chimeric\" or misassigned fragmentation path.\n",
    "\n",
    "    Return a dictionary node_id -> True/False indicating if that node is \"chimeric\".\n",
    "    \"\"\"\n",
    "    # 1) Gather all nodes\n",
    "    from collections import deque\n",
    "    all_nodes = []\n",
    "    queue = deque([tree.root])\n",
    "    while queue:\n",
    "        n = queue.popleft()\n",
    "        all_nodes.append(n)\n",
    "        for c in n.children.values():\n",
    "            queue.append(c)\n",
    "\n",
    "    # 2) For each node, compute similarity to parent vs. to others\n",
    "    if sim_fn is None:\n",
    "        sim_fn = dreams_embedding_similarity if use_embedding else classical_cosine_similarity\n",
    "\n",
    "    node_is_chimeric = {}\n",
    "    for node in all_nodes:\n",
    "        if node is tree.root or node.spectrum is None:\n",
    "            node_is_chimeric[node.spectrum.get('identifier', 'root')] = False\n",
    "            continue\n",
    "        # get parent's similarity\n",
    "        parent = _find_parent_of_node(tree.root, node)\n",
    "        if parent is None:\n",
    "            node_is_chimeric[node.spectrum.get('identifier','???')] = False\n",
    "            continue\n",
    "\n",
    "        # node's parent-child sim\n",
    "        sim_parent = _compute_node_to_node_similarity(node, parent,\n",
    "                                                      use_embedding, embed_dict, sim_fn)\n",
    "\n",
    "        # node's best sim to any other node except itself or parent\n",
    "        best_sim = -1.0\n",
    "        best_sim_node = None\n",
    "        for n2 in all_nodes:\n",
    "            if n2 is node or n2 is parent: \n",
    "                continue\n",
    "            sim_candidate = _compute_node_to_node_similarity(node, n2,\n",
    "                                                             use_embedding, embed_dict, sim_fn)\n",
    "            if sim_candidate > best_sim:\n",
    "                best_sim = sim_candidate\n",
    "                best_sim_node = n2\n",
    "\n",
    "        # If the best_sim is significantly greater than sim_parent,\n",
    "        # we might call it chimeric. You can define a threshold or margin.\n",
    "        # Example: if best_sim is 0.2 higher than sim_parent => chimeric\n",
    "        margin = 0.2\n",
    "        if best_sim - sim_parent > margin:\n",
    "            # Potentially chimeric\n",
    "            node_id = node.spectrum.get('identifier','???')\n",
    "            node_is_chimeric[node_id] = True\n",
    "        else:\n",
    "            node_id = node.spectrum.get('identifier','???')\n",
    "            node_is_chimeric[node_id] = False\n",
    "\n",
    "    return node_is_chimeric\n",
    "\n",
    "\n",
    "def _find_parent_of_node(root_node, target_node):\n",
    "    \"\"\"\n",
    "    BFS or DFS to find parent of target_node starting from root_node.\n",
    "    Return the parent node or None if not found or if target_node is root.\n",
    "    \"\"\"\n",
    "    from collections import deque\n",
    "    queue = deque([root_node])\n",
    "    while queue:\n",
    "        current = queue.popleft()\n",
    "        for child in current.children.values():\n",
    "            if child is target_node:\n",
    "                return current\n",
    "            queue.append(child)\n",
    "    return None\n",
    "\n",
    "\n",
    "def _compute_node_to_node_similarity(nodeA, nodeB,\n",
    "                                     use_embedding: bool,\n",
    "                                     embed_dict=None,\n",
    "                                     sim_fn=None) -> float:\n",
    "    \"\"\"Helper to compute similarity between any two nodes, \n",
    "       either embeddings or classical spectral cosine.\"\"\"\n",
    "    if sim_fn is None:\n",
    "        sim_fn = dreams_embedding_similarity if use_embedding else classical_cosine_similarity\n",
    "    if use_embedding:\n",
    "        embA = get_node_embedding(nodeA, embed_dict)\n",
    "        embB = get_node_embedding(nodeB, embed_dict)\n",
    "        if embA is None or embB is None:\n",
    "            return float('nan')\n",
    "        return sim_fn(embA, embB)\n",
    "    else:\n",
    "        specA = get_node_spectrum(nodeA)\n",
    "        specB = get_node_spectrum(nodeB)\n",
    "        return sim_fn(specA, specB)\n",
    "\n",
    "\n",
    "############################################################\n",
    "## 5) Global or Random Pair Comparisons\n",
    "############################################################\n",
    "\n",
    "def random_node_pairs(dataset,\n",
    "                      num_pairs: int = 1000,\n",
    "                      use_embedding: bool = False,\n",
    "                      embed_dict=None,\n",
    "                      sim_fn=None) -> List[float]:\n",
    "    \"\"\"\n",
    "    For a dataset of multiple trees, sample random pairs of nodes \n",
    "    from any tree in the dataset. This helps build a baseline distribution \n",
    "    of \"unrelated\" or random pairs.\n",
    "\n",
    "    Return a list of similarities.\n",
    "    \"\"\"\n",
    "    # Gather all nodes from all trees\n",
    "    all_nodes = []\n",
    "    for tree in dataset.trees:\n",
    "        # BFS\n",
    "        from collections import deque\n",
    "        queue = deque([tree.root])\n",
    "        while queue:\n",
    "            n = queue.popleft()\n",
    "            all_nodes.append(n)\n",
    "            for c in n.children.values():\n",
    "                queue.append(c)\n",
    "\n",
    "    if len(all_nodes) < 2:\n",
    "        return []\n",
    "\n",
    "    all_sims = []\n",
    "    if sim_fn is None:\n",
    "        sim_fn = dreams_embedding_similarity if use_embedding else classical_cosine_similarity\n",
    "\n",
    "    # Sample random pairs\n",
    "    for _ in range(num_pairs):\n",
    "        nodeA = random.choice(all_nodes)\n",
    "        nodeB = random.choice(all_nodes)\n",
    "        if nodeA is nodeB:\n",
    "            # skip if same node\n",
    "            continue\n",
    "        sim = _compute_node_to_node_similarity(nodeA, nodeB,\n",
    "                                               use_embedding, embed_dict, sim_fn)\n",
    "        all_sims.append(sim)\n",
    "\n",
    "    return all_sims\n",
    "\n",
    "\n",
    "############################################################\n",
    "## 6) Summaries / Plots\n",
    "############################################################\n",
    "\n",
    "def summarize_similarity_distribution(sim_values: List[float]) -> dict:\n",
    "    \"\"\"\n",
    "    Given a list of similarity values, compute summary stats (mean, std, median).\n",
    "    Return as a dict. You can expand with quartiles, etc.\n",
    "    \"\"\"\n",
    "    array = np.array(sim_values)\n",
    "    array = array[~np.isnan(array)]  # remove NaNs\n",
    "    if len(array) == 0:\n",
    "        return {\"mean\": np.nan, \"std\": np.nan, \"median\": np.nan, \"count\": 0}\n",
    "    return {\n",
    "        \"mean\": float(np.mean(array)),\n",
    "        \"std\": float(np.std(array)),\n",
    "        \"median\": float(np.median(array)),\n",
    "        \"count\": len(array)\n",
    "    }"
   ],
   "id": "b46e23003236112e",
   "outputs": [],
   "execution_count": 23
  },
  {
   "metadata": {
    "ExecuteTime": {
     "end_time": "2024-12-28T12:22:43.279416Z",
     "start_time": "2024-12-28T12:22:43.277538Z"
    }
   },
   "cell_type": "code",
   "source": [
    "import numpy as np\n",
    "import matplotlib.pyplot as plt"
   ],
   "id": "5a510b7ba02d4817",
   "outputs": [],
   "execution_count": 24
  },
  {
   "metadata": {
    "ExecuteTime": {
     "end_time": "2024-12-28T12:39:29.028715Z",
     "start_time": "2024-12-28T12:38:04.583106Z"
    }
   },
   "cell_type": "code",
   "source": [
    "ad_sims = []\n",
    "for tree in msn_dataset.trees:\n",
    "    sims = compute_ancestor_descendant_similarity(tree,\n",
    "                                                  use_embedding=False,\n",
    "                                                  sim_fn=None)  # default classical cosine\n",
    "    ad_sims.extend(sims)\n",
    "\n",
    "stats_ad = summarize_similarity_distribution(ad_sims)\n",
    "print(\"Ancestor-Descendant similarity stats:\", stats_ad)\n",
    "\n",
    "# Example 2: Sibling Similarities (Using classical cosine)\n",
    "sib_sims = []\n",
    "for tree in msn_dataset.trees:\n",
    "    sims = compute_sibling_similarity(tree, use_embedding=False)\n",
    "    sib_sims.extend(sims)\n",
    "\n",
    "stats_sib = summarize_similarity_distribution(sib_sims)\n",
    "print(\"Sibling similarity stats:\", stats_sib)\n",
    "\n",
    "# Example 3: Compare with random pairs\n",
    "rand_sims = random_node_pairs(msn_dataset, num_pairs=15000)\n",
    "stats_rand = summarize_similarity_distribution(rand_sims)\n",
    "print(\"Random pairs similarity stats:\", stats_rand)\n",
    "\n",
    "# Plot distributions\n",
    "plt.figure(figsize=(6,4))\n",
    "plt.hist(ad_sims, bins=50, alpha=0.5, label='Ancestor-Descendant')\n",
    "plt.hist(sib_sims, bins=50, alpha=0.5, label='Siblings')\n",
    "plt.hist(rand_sims, bins=50, alpha=0.5, label='Random')\n",
    "plt.xlabel(\"Cosine Similarity\")\n",
    "plt.ylabel(\"# of pairs\")\n",
    "plt.legend()\n",
    "plt.title(\"Histogram of Similarities (Classical Cosine)\")\n",
    "plt.show()\n",
    "\n",
    "# Example 4: Detect possible chimeric nodes in one particular tree\n",
    "tree0 = msn_dataset.trees[0]\n",
    "chimeric_dict = detect_chimeric_branches(tree0, use_embedding=False)\n",
    "print(\"Chimeric detection for tree0:\", chimeric_dict)"
   ],
   "id": "b9fd2b3e7e43e83c",
   "outputs": [
    {
     "name": "stdout",
     "output_type": "stream",
     "text": [
      "Ancestor-Descendant similarity stats: {'mean': 0.3699364625527902, 'std': 0.2835879364185114, 'median': 0.3002427253177061, 'count': 166808}\n",
      "Sibling similarity stats: {'mean': 0.23387913655790224, 'std': 0.2927818910121449, 'median': 0.0919686032629337, 'count': 173661}\n",
      "Random pairs similarity stats: {'mean': 0.01660495204884054, 'std': 0.07000186369712876, 'median': 0.0, 'count': 150000}\n"
     ]
    },
    {
     "data": {
      "text/plain": [
       "<Figure size 600x400 with 1 Axes>"
      ],
      "image/png": "[encoded data removed]"
     },
     "metadata": {},
     "output_type": "display_data"
    },
    {
     "name": "stdout",
     "output_type": "stream",
     "text": [
      "Chimeric detection for tree0: {'0000002_0000000': False, '0000008_0000001': True, '0000008_0000010': False, '0000008_0000028': True, '0000008_0000030': False, '0000008_0000045': True, '0000008_0000005': True, '0000008_0000007': True, '0000008_0000017': True, '0000008_0000024': True, '0000008_0000037': False, '0000008_0000041': True, '0000008_0000052': False, '0000008_0000059': True}\n"
     ]
    }
   ],
   "execution_count": 27
  },
  {
   "metadata": {
    "ExecuteTime": {
     "end_time": "2024-12-28T12:40:53.640385Z",
     "start_time": "2024-12-28T12:39:29.032398Z"
    }
   },
   "cell_type": "code",
   "source": [
    "ad_sims = []\n",
    "for tree in msn_dataset.trees:\n",
    "    sims = compute_ancestor_descendant_similarity(tree,\n",
    "                                                  use_embedding=False,\n",
    "                                                  sim_fn=None)  # default classical cosine\n",
    "    ad_sims.extend(sims)\n",
    "\n",
    "stats_ad = summarize_similarity_distribution(ad_sims)\n",
    "print(\"Ancestor-Descendant similarity stats:\", stats_ad)\n",
    "\n",
    "# Example 2: Sibling Similarities (Using classical cosine)\n",
    "sib_sims = []\n",
    "for tree in msn_dataset.trees:\n",
    "    sims = compute_sibling_similarity(tree, use_embedding=False)\n",
    "    sib_sims.extend(sims)\n",
    "\n",
    "stats_sib = summarize_similarity_distribution(sib_sims)\n",
    "print(\"Sibling similarity stats:\", stats_sib)\n",
    "\n",
    "# Example 3: Compare with random pairs\n",
    "rand_sims = random_node_pairs(msn_dataset, num_pairs=15000)\n",
    "stats_rand = summarize_similarity_distribution(rand_sims)\n",
    "print(\"Random pairs similarity stats:\", stats_rand)\n",
    "\n",
    "# Plot distributions\n",
    "plt.figure(figsize=(6,4))\n",
    "plt.hist(ad_sims, bins=50, alpha=0.5, label='Ancestor-Descendant')\n",
    "plt.hist(sib_sims, bins=50, alpha=0.5, label='Siblings')\n",
    "plt.hist(rand_sims, bins=50, alpha=0.5, label='Random')\n",
    "plt.xlabel(\"Cosine Similarity\")\n",
    "plt.ylabel(\"# of pairs\")\n",
    "plt.legend()\n",
    "plt.title(\"Histogram of Similarities (Classical Cosine)\")\n",
    "plt.show()\n",
    "\n",
    "# Example 4: Detect possible chimeric nodes in one particular tree\n",
    "tree0 = msn_dataset.trees[0]\n",
    "chimeric_dict = detect_chimeric_branches(tree0, use_embedding=False)\n",
    "print(\"Chimeric detection for tree0:\", chimeric_dict)"
   ],
   "id": "1382cb764d62bd49",
   "outputs": [
    {
     "name": "stdout",
     "output_type": "stream",
     "text": [
      "Ancestor-Descendant similarity stats: {'mean': 0.3699364625527902, 'std': 0.2835879364185114, 'median': 0.3002427253177061, 'count': 166808}\n",
      "Sibling similarity stats: {'mean': 0.23387913655790224, 'std': 0.2927818910121449, 'median': 0.0919686032629337, 'count': 173661}\n",
      "Random pairs similarity stats: {'mean': 0.016621280594866714, 'std': 0.07010088590509665, 'median': 0.0, 'count': 150000}\n"
     ]
    },
    {
     "data": {
      "text/plain": [
       "<Figure size 600x400 with 1 Axes>"
      ],
      "image/png": "[encoded data removed]"
     },
     "metadata": {},
     "output_type": "display_data"
    },
    {
     "name": "stdout",
     "output_type": "stream",
     "text": [
      "Chimeric detection for tree0: {'0000002_0000000': False, '0000008_0000001': True, '0000008_0000010': False, '0000008_0000028': True, '0000008_0000030': False, '0000008_0000045': True, '0000008_0000005': True, '0000008_0000007': True, '0000008_0000017': True, '0000008_0000024': True, '0000008_0000037': False, '0000008_0000041': True, '0000008_0000052': False, '0000008_0000059': True}\n"
     ]
    }
   ],
   "execution_count": 28
  },
  {
   "metadata": {
    "ExecuteTime": {
     "end_time": "2024-12-28T12:11:14.751562Z",
     "start_time": "2024-12-28T12:11:14.749953Z"
    }
   },
   "cell_type": "code",
   "source": "",
   "id": "dc55d1f49f50b7f4",
   "outputs": [],
   "execution_count": null
  },
  {
   "metadata": {},
   "cell_type": "code",
   "outputs": [],
   "execution_count": null,
   "source": "",
   "id": "d9e6bf9e6138fea4"
  }
 ],
 "metadata": {
  "kernelspec": {
   "display_name": "Python 3",
   "language": "python",
   "name": "python3"
  },
  "language_info": {
   "codemirror_mode": {
    "name": "ipython",
    "version": 2
   },
   "file_extension": ".py",
   "mimetype": "text/x-python",
   "name": "python",
   "nbconvert_exporter": "python",
   "pygments_lexer": "ipython2",
   "version": "2.7.6"
  }
 },
 "nbformat": 4,
 "nbformat_minor": 5
}
