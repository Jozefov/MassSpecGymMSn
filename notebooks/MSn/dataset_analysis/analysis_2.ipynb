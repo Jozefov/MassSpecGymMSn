{
 "cells": [
  {
   "cell_type": "code",
   "id": "initial_id",
   "metadata": {
    "collapsed": true,
    "ExecuteTime": {
     "end_time": "2024-12-31T22:06:30.161564Z",
     "start_time": "2024-12-31T22:06:30.157580Z"
    }
   },
   "source": [
    "from massspecgym.data.datasets import MSnDataset, MassSpecDataset\n",
    "from massspecgym.data.transforms import MolFingerprinter, SpecTokenizer\n",
    "from massspecgym.data import MassSpecDataModule\n",
    "from massspecgym.featurize import SpectrumFeaturizer\n",
    "\n",
    "\n",
    "import pandas as pd"
   ],
   "outputs": [],
   "execution_count": 8
  },
  {
   "metadata": {
    "ExecuteTime": {
     "end_time": "2024-12-31T21:55:36.392803Z",
     "start_time": "2024-12-31T21:55:36.390803Z"
    }
   },
   "cell_type": "code",
   "source": [
    "file_mgf = \"/Users/macbook/CODE/Majer:MassSpecGym/data/MSn/20241211_msn_library_pos_all_lib_MSn.mgf\"\n",
    "split_file = \"/Users/macbook/CODE/Majer:MassSpecGym/data/MSn/20241211_split.tsv\""
   ],
   "id": "2ec1e24a0f27028d",
   "outputs": [],
   "execution_count": 2
  },
  {
   "metadata": {
    "ExecuteTime": {
     "end_time": "2024-12-31T21:55:42.248181Z",
     "start_time": "2024-12-31T21:55:42.245986Z"
    }
   },
   "cell_type": "code",
   "source": [
    "config = {\n",
    "    'features': ['binned_peaks'],\n",
    "    'feature_attributes': {\n",
    "        'binned_peaks': {\n",
    "            'max_mz': 1,\n",
    "            'bin_width': 1.0,\n",
    "        },\n",
    "    },\n",
    "}\n",
    "\n",
    "featurizer = SpectrumFeaturizer(config, mode='torch')"
   ],
   "id": "a2d207566a791695",
   "outputs": [],
   "execution_count": 3
  },
  {
   "metadata": {
    "ExecuteTime": {
     "end_time": "2024-12-31T22:02:47.522761Z",
     "start_time": "2024-12-31T21:55:46.506771Z"
    }
   },
   "cell_type": "code",
   "source": [
    "# Init hyperparameters\n",
    "n_peaks = 60\n",
    "fp_size = 4096\n",
    "batch_size = 12\n",
    "\n",
    "msn_dataset = MSnDataset(\n",
    "    pth=file_mgf,\n",
    "    featurizer=featurizer,\n",
    "    mol_transform=MolFingerprinter(fp_size=fp_size),\n",
    "    max_allowed_deviation=0.005\n",
    ")"
   ],
   "id": "164954d149948b7",
   "outputs": [],
   "execution_count": 4
  },
  {
   "metadata": {
    "ExecuteTime": {
     "end_time": "2024-12-31T22:25:16.533610Z",
     "start_time": "2024-12-31T22:25:16.530140Z"
    }
   },
   "cell_type": "code",
   "source": "all_smiles = msn_dataset.smiles",
   "id": "22545ebde9e2ee73",
   "outputs": [],
   "execution_count": 36
  },
  {
   "metadata": {
    "ExecuteTime": {
     "end_time": "2024-12-31T22:25:16.903160Z",
     "start_time": "2024-12-31T22:25:16.899352Z"
    }
   },
   "cell_type": "code",
   "source": "len(all_smiles)",
   "id": "e8ae3d345c793148",
   "outputs": [
    {
     "data": {
      "text/plain": [
       "16476"
      ]
     },
     "execution_count": 37,
     "metadata": {},
     "output_type": "execute_result"
    }
   ],
   "execution_count": 37
  },
  {
   "metadata": {
    "ExecuteTime": {
     "end_time": "2024-12-31T22:25:24.002815Z",
     "start_time": "2024-12-31T22:25:23.987943Z"
    }
   },
   "cell_type": "code",
   "source": [
    "\n",
    "unique_smiles = list(set(all_smiles))\n",
    "print(f\"Unique SMILES entries: {len(unique_smiles)}\")"
   ],
   "id": "29eb8622858d542d",
   "outputs": [
    {
     "name": "stdout",
     "output_type": "stream",
     "text": [
      "Unique SMILES entries: 13984\n"
     ]
    }
   ],
   "execution_count": 39
  },
  {
   "metadata": {
    "ExecuteTime": {
     "end_time": "2024-12-31T22:25:50.731379Z",
     "start_time": "2024-12-31T22:25:50.727622Z"
    }
   },
   "cell_type": "code",
   "source": [
    "# Define the maximum number of SMILES per file\n",
    "max_per_file = 1000\n",
    "\n",
    "# Calculate the number of files needed\n",
    "num_files = (len(unique_smiles) + max_per_file - 1) // max_per_file\n",
    "print(f\"Number of TSV files to create: {num_files}\")"
   ],
   "id": "f1900874affebeb8",
   "outputs": [
    {
     "name": "stdout",
     "output_type": "stream",
     "text": [
      "Number of TSV files to create: 14\n"
     ]
    }
   ],
   "execution_count": 40
  },
  {
   "metadata": {
    "ExecuteTime": {
     "end_time": "2024-12-31T22:26:35.953224Z",
     "start_time": "2024-12-31T22:26:35.950430Z"
    }
   },
   "cell_type": "code",
   "source": "import os",
   "id": "724689e3939e98b6",
   "outputs": [],
   "execution_count": 41
  },
  {
   "metadata": {
    "ExecuteTime": {
     "end_time": "2024-12-31T22:26:47.321054Z",
     "start_time": "2024-12-31T22:26:47.288619Z"
    }
   },
   "cell_type": "code",
   "source": [
    "# Define the output directory\n",
    "output_dir = '/Users/macbook/CODE/Majer:MassSpecGym/data/ClassyFire'\n",
    "os.makedirs(output_dir, exist_ok=True)  # Create the directory if it doesn't exist\n",
    "\n",
    "# Split the SMILES list and save each chunk\n",
    "for i in range(num_files):\n",
    "    start_idx = i * max_per_file\n",
    "    end_idx = start_idx + max_per_file\n",
    "    chunk = unique_smiles[start_idx:end_idx]\n",
    "    \n",
    "    # Define the filename\n",
    "    filename = f'classyfire_upload_{i+1}.tsv'\n",
    "    filepath = os.path.join(output_dir, filename)\n",
    "    \n",
    "    # Save the chunk to TSV without headers and without index\n",
    "    pd.Series(chunk).to_csv(filepath, sep='\\t', index=False, header=False)\n",
    "    \n",
    "    print(f\"Saved {len(chunk)} SMILES to {filepath}\")"
   ],
   "id": "e2cb8d88977f8f14",
   "outputs": [
    {
     "name": "stdout",
     "output_type": "stream",
     "text": [
      "Saved 1000 SMILES to /Users/macbook/CODE/Majer:MassSpecGym/data/ClassyFire/classyfire_upload_1.tsv\n",
      "Saved 1000 SMILES to /Users/macbook/CODE/Majer:MassSpecGym/data/ClassyFire/classyfire_upload_2.tsv\n",
      "Saved 1000 SMILES to /Users/macbook/CODE/Majer:MassSpecGym/data/ClassyFire/classyfire_upload_3.tsv\n",
      "Saved 1000 SMILES to /Users/macbook/CODE/Majer:MassSpecGym/data/ClassyFire/classyfire_upload_4.tsv\n",
      "Saved 1000 SMILES to /Users/macbook/CODE/Majer:MassSpecGym/data/ClassyFire/classyfire_upload_5.tsv\n",
      "Saved 1000 SMILES to /Users/macbook/CODE/Majer:MassSpecGym/data/ClassyFire/classyfire_upload_6.tsv\n",
      "Saved 1000 SMILES to /Users/macbook/CODE/Majer:MassSpecGym/data/ClassyFire/classyfire_upload_7.tsv\n",
      "Saved 1000 SMILES to /Users/macbook/CODE/Majer:MassSpecGym/data/ClassyFire/classyfire_upload_8.tsv\n",
      "Saved 1000 SMILES to /Users/macbook/CODE/Majer:MassSpecGym/data/ClassyFire/classyfire_upload_9.tsv\n",
      "Saved 1000 SMILES to /Users/macbook/CODE/Majer:MassSpecGym/data/ClassyFire/classyfire_upload_10.tsv\n",
      "Saved 1000 SMILES to /Users/macbook/CODE/Majer:MassSpecGym/data/ClassyFire/classyfire_upload_11.tsv\n",
      "Saved 1000 SMILES to /Users/macbook/CODE/Majer:MassSpecGym/data/ClassyFire/classyfire_upload_12.tsv\n",
      "Saved 1000 SMILES to /Users/macbook/CODE/Majer:MassSpecGym/data/ClassyFire/classyfire_upload_13.tsv\n",
      "Saved 984 SMILES to /Users/macbook/CODE/Majer:MassSpecGym/data/ClassyFire/classyfire_upload_14.tsv\n"
     ]
    }
   ],
   "execution_count": 42
  },
  {
   "metadata": {},
   "cell_type": "code",
   "outputs": [],
   "execution_count": null,
   "source": "",
   "id": "b637b69ddcc3bc7f"
  },
  {
   "metadata": {},
   "cell_type": "code",
   "outputs": [],
   "execution_count": null,
   "source": "",
   "id": "f65f292d2a76039f"
  },
  {
   "metadata": {},
   "cell_type": "code",
   "outputs": [],
   "execution_count": null,
   "source": "",
   "id": "a39eb258d1fd46ca"
  },
  {
   "metadata": {
    "ExecuteTime": {
     "end_time": "2024-12-31T22:29:20.805605Z",
     "start_time": "2024-12-31T22:29:20.780964Z"
    }
   },
   "cell_type": "code",
   "source": [
    "# Create a DataFrame with ID and SMILES columns\n",
    "df_unique = pd.DataFrame({\n",
    "    'SMILES': unique_smiles\n",
    "})\n",
    "\n",
    "# Display the first few entries to verify\n",
    "df_unique.head()"
   ],
   "id": "b19e769d0071da86",
   "outputs": [
    {
     "data": {
      "text/plain": [
       "                                              SMILES\n",
       "0  COC1=C(C=CC(=C1)C(=O)O)O[C@H]2[C@@H]([C@H]([C@...\n",
       "1               CCCCC(=O)O[C@H](CC(=O)O)C[N+](C)(C)C\n",
       "2    CCN1C=C(C(=N1)C(=O)N)NC(=S)NC2=C(C=CC(=C2)Cl)OC\n",
       "3  COC1=C(C=CC(=C1)/C=N\\NC2=CC=CC=C2C(=O)O)OCC3=C...\n",
       "4               CCOC(=O)CSC1=NN=C(N1C)C2=CN(N=C2OC)C"
      ],
      "text/html": [
       "<div>\n",
       "<style scoped>\n",
       "    .dataframe tbody tr th:only-of-type {\n",
       "        vertical-align: middle;\n",
       "    }\n",
       "\n",
       "    .dataframe tbody tr th {\n",
       "        vertical-align: top;\n",
       "    }\n",
       "\n",
       "    .dataframe thead th {\n",
       "        text-align: right;\n",
       "    }\n",
       "</style>\n",
       "<table border=\"1\" class=\"dataframe\">\n",
       "  <thead>\n",
       "    <tr style=\"text-align: right;\">\n",
       "      <th></th>\n",
       "      <th>SMILES</th>\n",
       "    </tr>\n",
       "  </thead>\n",
       "  <tbody>\n",
       "    <tr>\n",
       "      <th>0</th>\n",
       "      <td>COC1=C(C=CC(=C1)C(=O)O)O[C@H]2[C@@H]([C@H]([C@...</td>\n",
       "    </tr>\n",
       "    <tr>\n",
       "      <th>1</th>\n",
       "      <td>CCCCC(=O)O[C@H](CC(=O)O)C[N+](C)(C)C</td>\n",
       "    </tr>\n",
       "    <tr>\n",
       "      <th>2</th>\n",
       "      <td>CCN1C=C(C(=N1)C(=O)N)NC(=S)NC2=C(C=CC(=C2)Cl)OC</td>\n",
       "    </tr>\n",
       "    <tr>\n",
       "      <th>3</th>\n",
       "      <td>COC1=C(C=CC(=C1)/C=N\\NC2=CC=CC=C2C(=O)O)OCC3=C...</td>\n",
       "    </tr>\n",
       "    <tr>\n",
       "      <th>4</th>\n",
       "      <td>CCOC(=O)CSC1=NN=C(N1C)C2=CN(N=C2OC)C</td>\n",
       "    </tr>\n",
       "  </tbody>\n",
       "</table>\n",
       "</div>"
      ]
     },
     "execution_count": 43,
     "metadata": {},
     "output_type": "execute_result"
    }
   ],
   "execution_count": 43
  },
  {
   "metadata": {
    "ExecuteTime": {
     "end_time": "2024-12-31T22:29:29.732517Z",
     "start_time": "2024-12-31T22:29:29.705288Z"
    }
   },
   "cell_type": "code",
   "source": [
    "output_file = '/Users/macbook/CODE/Majer:MassSpecGym/data/ClassyFire/unique_smiles.tsv'\n",
    "# df_unique.to_csv(output_file, sep='\\t', index=False)\n",
    "\n",
    "print(f\"TSV file saved as {output_file}\")"
   ],
   "id": "a37fdecb5d3e3338",
   "outputs": [
    {
     "name": "stdout",
     "output_type": "stream",
     "text": [
      "TSV file saved as /Users/macbook/CODE/Majer:MassSpecGym/data/ClassyFire/unique_smiles.tsv\n"
     ]
    }
   ],
   "execution_count": 44
  },
  {
   "metadata": {
    "ExecuteTime": {
     "end_time": "2024-12-31T22:32:31.942689Z",
     "start_time": "2024-12-31T22:32:31.900522Z"
    }
   },
   "cell_type": "code",
   "source": [
    "output_file_no_header = '/Users/macbook/CODE/Majer:MassSpecGym/data/ClassyFire/unique_valid_smiles_no_header.tsv'\n",
    "df_unique.to_csv(output_file_no_header, sep='\\t', index=False, header=False)\n",
    "print(f\"TSV file saved as '{output_file_no_header}' without headers.\")"
   ],
   "id": "dd310fc78760a6b6",
   "outputs": [
    {
     "name": "stdout",
     "output_type": "stream",
     "text": [
      "TSV file saved as '/Users/macbook/CODE/Majer:MassSpecGym/data/ClassyFire/unique_valid_smiles_no_header.tsv' without headers.\n"
     ]
    }
   ],
   "execution_count": 45
  },
  {
   "metadata": {
    "ExecuteTime": {
     "end_time": "2024-12-31T22:16:22.131290Z",
     "start_time": "2024-12-31T22:16:22.123087Z"
    }
   },
   "cell_type": "code",
   "source": [
    "# Read the TSV file back to verify\n",
    "df_check = pd.read_csv(output_file, sep='\\t')\n",
    "print(df_check.head())\n",
    "print(f\"Total entries in TSV: {len(df_check)}\")"
   ],
   "id": "c54cc97aed389d38",
   "outputs": [
    {
     "name": "stdout",
     "output_type": "stream",
     "text": [
      "                                              SMILES\n",
      "0  COC1=C(C=CC(=C1)C(=O)O)O[C@H]2[C@@H]([C@H]([C@...\n",
      "1               CCCCC(=O)O[C@H](CC(=O)O)C[N+](C)(C)C\n",
      "2    CCN1C=C(C(=N1)C(=O)N)NC(=S)NC2=C(C=CC(=C2)Cl)OC\n",
      "3  COC1=C(C=CC(=C1)/C=N\\NC2=CC=CC=C2C(=O)O)OCC3=C...\n",
      "4               CCOC(=O)CSC1=NN=C(N1C)C2=CN(N=C2OC)C\n",
      "Total entries in TSV: 100\n"
     ]
    }
   ],
   "execution_count": 25
  },
  {
   "metadata": {
    "ExecuteTime": {
     "end_time": "2024-12-31T22:08:52.379510Z",
     "start_time": "2024-12-31T22:08:52.377331Z"
    }
   },
   "cell_type": "code",
   "source": "",
   "id": "7f1f55e9e1d5e213",
   "outputs": [
    {
     "name": "stdout",
     "output_type": "stream",
     "text": [
      "TSV file size: 0.93 MB\n"
     ]
    }
   ],
   "execution_count": 13
  },
  {
   "metadata": {},
   "cell_type": "code",
   "outputs": [],
   "execution_count": null,
   "source": "",
   "id": "453294d8942187b7"
  }
 ],
 "metadata": {
  "kernelspec": {
   "display_name": "Python 3",
   "language": "python",
   "name": "python3"
  },
  "language_info": {
   "codemirror_mode": {
    "name": "ipython",
    "version": 2
   },
   "file_extension": ".py",
   "mimetype": "text/x-python",
   "name": "python",
   "nbconvert_exporter": "python",
   "pygments_lexer": "ipython2",
   "version": "2.7.6"
  }
 },
 "nbformat": 4,
 "nbformat_minor": 5
}
