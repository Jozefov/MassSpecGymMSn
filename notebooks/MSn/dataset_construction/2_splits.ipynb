{
 "cells": [
  {
   "cell_type": "code",
   "id": "initial_id",
   "metadata": {
    "collapsed": true,
    "ExecuteTime": {
     "end_time": "2024-09-30T04:50:11.038975Z",
     "start_time": "2024-09-30T04:50:07.423818Z"
    }
   },
   "source": [
    "import pandas as pd\n",
    "from matchms.importing import load_from_mgf\n",
    "from matchms.exporting import save_as_mgf\n",
    "from datetime import datetime\n",
    "import os\n",
    "from collections import Counter\n",
    "\n",
    "\n",
    "from massspecgym.data.transforms import MolFingerprinter\n",
    "from massspecgym.data.datasets import MSnDataset\n",
    "\n",
    "from massspecgym.tools.analyzers import compute_fold_statistics\n",
    "from massspecgym.tools.plots import evaluate_split\n",
    "from massspecgym.tools.data import compute_murcko_histograms, group_by_murcko_histograms, split_by_murcko_histograms"
   ],
   "outputs": [],
   "execution_count": 1
  },
  {
   "metadata": {},
   "cell_type": "markdown",
   "source": "## Muracko algo",
   "id": "8f619cf651b419da"
  },
  {
   "metadata": {
    "ExecuteTime": {
     "end_time": "2024-09-30T04:59:04.416130Z",
     "start_time": "2024-09-30T04:50:11.051160Z"
    }
   },
   "cell_type": "code",
   "source": [
    "fingerprinter = MolFingerprinter()\n",
    "msn_dataset = MSnDataset(pth=\"/Users/macbook/CODE/Majer:MassSpecGym/data/MSn/20240917_msn_library_pos_all_lib_MSn.mgf\",\n",
    "                         mol_transform=MolFingerprinter.from_smiles,\n",
    "                         max_allowed_deviation=0.005)\n",
    "print(len(msn_dataset))"
   ],
   "id": "698237e3a5274ad8",
   "outputs": [
    {
     "name": "stdout",
     "output_type": "stream",
     "text": [
      "16476\n"
     ]
    }
   ],
   "execution_count": 2
  },
  {
   "metadata": {
    "ExecuteTime": {
     "end_time": "2024-09-30T05:00:43.817930Z",
     "start_time": "2024-09-30T04:59:04.460916Z"
    }
   },
   "cell_type": "code",
   "source": [
    "df = msn_dataset.metadata \n",
    "\n",
    "# Compute Murcko histograms\n",
    "df_us = compute_murcko_histograms(df)\n",
    "\n",
    "# Group by Murcko histograms\n",
    "df_gb = group_by_murcko_histograms(df_us)"
   ],
   "id": "601dee3c2396798e",
   "outputs": [
    {
     "name": "stdout",
     "output_type": "stream",
     "text": [
      "Computing Murcko histograms...\n"
     ]
    },
    {
     "data": {
      "text/plain": [
       "  0%|          | 0/13996 [00:00<?, ?it/s]"
      ],
      "application/vnd.jupyter.widget-view+json": {
       "version_major": 2,
       "version_minor": 0,
       "model_id": "4535fa0fbbf44245a039dab6c6a3fac3"
      }
     },
     "metadata": {},
     "output_type": "display_data"
    }
   ],
   "execution_count": 3
  },
  {
   "metadata": {
    "ExecuteTime": {
     "end_time": "2024-09-30T05:01:45.003560Z",
     "start_time": "2024-09-30T05:01:44.909411Z"
    }
   },
   "cell_type": "code",
   "source": [
    "# Split into training, validation, and test sets\n",
    "smiles_to_fold = split_by_murcko_histograms(\n",
    "    df_us,\n",
    "    df_gb,\n",
    "    val_fraction=0.10,      \n",
    "    test_fraction=0.10,\n",
    "    k=3,\n",
    "    d=4,\n",
    "    seed=42       \n",
    ")"
   ],
   "id": "a0752d0c99a22b5a",
   "outputs": [],
   "execution_count": 4
  },
  {
   "metadata": {
    "ExecuteTime": {
     "end_time": "2024-09-30T05:01:46.656249Z",
     "start_time": "2024-09-30T05:01:46.653016Z"
    }
   },
   "cell_type": "code",
   "source": [
    "fold_counts = Counter(smiles_to_fold.values())\n",
    "print(fold_counts)"
   ],
   "id": "59e3f13321ef0910",
   "outputs": [
    {
     "name": "stdout",
     "output_type": "stream",
     "text": [
      "Counter({'train': 10551, 'val': 1737, 'test': 1708})\n"
     ]
    }
   ],
   "execution_count": 5
  },
  {
   "metadata": {},
   "cell_type": "code",
   "outputs": [],
   "execution_count": null,
   "source": "",
   "id": "a6ddb57606dff96c"
  },
  {
   "metadata": {
    "ExecuteTime": {
     "end_time": "2024-09-30T05:01:48.234052Z",
     "start_time": "2024-09-30T05:01:48.162339Z"
    }
   },
   "cell_type": "code",
   "source": [
    "df['fold'] = df['smiles'].map(smiles_to_fold)\n",
    "\n",
    "\n",
    "print('Distribution of spectra:')\n",
    "print(df['fold'].value_counts(normalize=True))\n",
    "print('Distribution of SMILES:')\n",
    "print(df.drop_duplicates(subset=['smiles'])['fold'].value_counts(normalize=True))"
   ],
   "id": "5ac99dd669cc3a22",
   "outputs": [
    {
     "name": "stdout",
     "output_type": "stream",
     "text": [
      "Distribution of spectra:\n",
      "fold\n",
      "train    0.751703\n",
      "val      0.125204\n",
      "test     0.123093\n",
      "Name: proportion, dtype: float64\n",
      "Distribution of SMILES:\n",
      "fold\n",
      "train    0.753858\n",
      "val      0.124107\n",
      "test     0.122035\n",
      "Name: proportion, dtype: float64\n"
     ]
    }
   ],
   "execution_count": 6
  },
  {
   "metadata": {
    "ExecuteTime": {
     "end_time": "2024-09-30T05:01:54.947654Z",
     "start_time": "2024-09-30T05:01:52.625728Z"
    }
   },
   "cell_type": "code",
   "source": "fold_stats_standard = compute_fold_statistics(msn_dataset, smiles_to_fold)",
   "id": "4afc857ed84bce93",
   "outputs": [
    {
     "name": "stdout",
     "output_type": "stream",
     "text": [
      "All trees have been matched to folds.\n",
      "Statistics for fold 'test':\n",
      "  Number of trees: 1988\n",
      "  Average depth: 2.13\n",
      "  Average branching factor: 4.54\n",
      "  Average precursor m/z: 352.45\n",
      "  Average retention time: 72.39\n",
      "  Average total nodes per tree: 11.35\n",
      "  Relative abundances of adducts:\n",
      "    [M+H]+: 83.95% (1669 occurrences)\n",
      "    [M+NH4]+: 5.53% (110 occurrences)\n",
      "    [M+H-H2O]+: 4.73% (94 occurrences)\n",
      "    [M+Na]+: 2.82% (56 occurrences)\n",
      "    [M]+: 2.36% (47 occurrences)\n",
      "    [M+H-2H2O]+: 0.55% (11 occurrences)\n",
      "    [M-H2O]+: 0.05% (1 occurrences)\n",
      "\n",
      "Statistics for fold 'train':\n",
      "  Number of trees: 12550\n",
      "  Average depth: 2.12\n",
      "  Average branching factor: 4.32\n",
      "  Average precursor m/z: 433.13\n",
      "  Average retention time: 75.83\n",
      "  Average total nodes per tree: 10.98\n",
      "  Relative abundances of adducts:\n",
      "    [M+H]+: 82.14% (10309 occurrences)\n",
      "    [M+NH4]+: 8.08% (1014 occurrences)\n",
      "    [M+H-H2O]+: 4.06% (509 occurrences)\n",
      "    [M+Na]+: 2.43% (305 occurrences)\n",
      "    [M]+: 2.23% (280 occurrences)\n",
      "    [M+H-2H2O]+: 0.94% (118 occurrences)\n",
      "    [M-H2O]+: 0.12% (15 occurrences)\n",
      "\n",
      "Statistics for fold 'val':\n",
      "  Number of trees: 1938\n",
      "  Average depth: 2.20\n",
      "  Average branching factor: 4.59\n",
      "  Average precursor m/z: 409.08\n",
      "  Average retention time: 75.92\n",
      "  Average total nodes per tree: 11.85\n",
      "  Relative abundances of adducts:\n",
      "    [M+H]+: 86.64% (1679 occurrences)\n",
      "    [M+NH4]+: 8.15% (158 occurrences)\n",
      "    [M+H-H2O]+: 2.63% (51 occurrences)\n",
      "    [M+Na]+: 1.60% (31 occurrences)\n",
      "    [M]+: 0.62% (12 occurrences)\n",
      "    [M+H-2H2O]+: 0.26% (5 occurrences)\n",
      "    [M-H2O]+: 0.10% (2 occurrences)\n",
      "\n"
     ]
    }
   ],
   "execution_count": 7
  },
  {
   "metadata": {
    "ExecuteTime": {
     "end_time": "2024-09-30T05:02:01.666337Z",
     "start_time": "2024-09-30T05:01:56.430877Z"
    }
   },
   "cell_type": "code",
   "source": [
    "max_tanimoto_similarities = evaluate_split(\n",
    "    df_split=df,\n",
    "    train_fold='train',\n",
    "    val_fold='val',\n",
    "    smiles_col='smiles',\n",
    "    radius=2,\n",
    "    n_bits=2048\n",
    ")"
   ],
   "id": "bb9110011254a9be",
   "outputs": [
    {
     "name": "stdout",
     "output_type": "stream",
     "text": [
      "Computing Morgan fingerprints for training set...\n",
      "Computing Morgan fingerprints for validation set...\n",
      "Computing maximum Tanimoto similarities for validation set...\n",
      "Plotting histogram of maximum Tanimoto similarities...\n"
     ]
    },
    {
     "data": {
      "text/plain": [
       "<Figure size 600x400 with 1 Axes>"
      ],
      "image/png": "[encoded data removed]"
     },
     "metadata": {},
     "output_type": "display_data"
    }
   ],
   "execution_count": 8
  },
  {
   "metadata": {
    "ExecuteTime": {
     "end_time": "2024-09-30T05:02:06.713641Z",
     "start_time": "2024-09-30T05:02:01.700305Z"
    }
   },
   "cell_type": "code",
   "source": [
    "max_tanimoto_similarities = evaluate_split(\n",
    "    df_split=df,\n",
    "    train_fold='train',\n",
    "    val_fold='test',\n",
    "    smiles_col='smiles',\n",
    "    radius=2,\n",
    "    n_bits=2048\n",
    ")"
   ],
   "id": "c6e6890ee8dc0226",
   "outputs": [
    {
     "name": "stdout",
     "output_type": "stream",
     "text": [
      "Computing Morgan fingerprints for training set...\n",
      "Computing Morgan fingerprints for validation set...\n",
      "Computing maximum Tanimoto similarities for validation set...\n",
      "Plotting histogram of maximum Tanimoto similarities...\n"
     ]
    },
    {
     "data": {
      "text/plain": [
       "<Figure size 600x400 with 1 Axes>"
      ],
      "image/png": "[encoded data removed]"
     },
     "metadata": {},
     "output_type": "display_data"
    }
   ],
   "execution_count": 9
  },
  {
   "metadata": {
    "ExecuteTime": {
     "end_time": "2024-09-30T05:02:07.938389Z",
     "start_time": "2024-09-30T05:02:06.908971Z"
    }
   },
   "cell_type": "code",
   "source": [
    "max_tanimoto_similarities = evaluate_split(\n",
    "    df_split=df,\n",
    "    train_fold='val',\n",
    "    val_fold='test',\n",
    "    smiles_col='smiles',\n",
    "    radius=2,\n",
    "    n_bits=2048\n",
    ")"
   ],
   "id": "2a7c5d31f1b2107e",
   "outputs": [
    {
     "name": "stdout",
     "output_type": "stream",
     "text": [
      "Computing Morgan fingerprints for training set...\n",
      "Computing Morgan fingerprints for validation set...\n",
      "Computing maximum Tanimoto similarities for validation set...\n",
      "Plotting histogram of maximum Tanimoto similarities...\n"
     ]
    },
    {
     "data": {
      "text/plain": [
       "<Figure size 600x400 with 1 Axes>"
      ],
      "image/png": "[encoded data removed]"
     },
     "metadata": {},
     "output_type": "display_data"
    }
   ],
   "execution_count": 10
  },
  {
   "metadata": {},
   "cell_type": "markdown",
   "source": "## Saving Results",
   "id": "12dbfee90162c952"
  },
  {
   "metadata": {
    "ExecuteTime": {
     "end_time": "2024-09-30T05:02:15.113461Z",
     "start_time": "2024-09-30T05:02:15.111585Z"
    }
   },
   "cell_type": "code",
   "source": [
    "SPECTRA_PATH = \"../../../data/MSn/20240917_msn_library_pos_all_lib_MSn.mgf\"\n",
    "SAVE_PATH = \"../../../data/MSn\""
   ],
   "id": "21922496faa52499",
   "outputs": [],
   "execution_count": 11
  },
  {
   "metadata": {
    "ExecuteTime": {
     "end_time": "2024-09-29T15:10:16.391534Z",
     "start_time": "2024-09-29T13:50:06.005489Z"
    }
   },
   "cell_type": "code",
   "source": "all_spectra = list(load_from_mgf(SPECTRA_PATH ))",
   "id": "f8c2f5c21c2a6fda",
   "outputs": [],
   "execution_count": 13
  },
  {
   "metadata": {
    "ExecuteTime": {
     "end_time": "2024-09-29T15:10:16.391623Z",
     "start_time": "2024-09-29T13:55:05.026615Z"
    }
   },
   "cell_type": "code",
   "source": [
    "for spectrum in all_spectra:\n",
    "    smiles = spectrum.get('smiles')\n",
    "    fold = smiles_to_fold.get(smiles, 'unknown')\n",
    "    spectrum.set('fold', fold)"
   ],
   "id": "e4d07de930daa341",
   "outputs": [],
   "execution_count": 14
  },
  {
   "metadata": {
    "ExecuteTime": {
     "end_time": "2024-09-29T15:10:16.391813Z",
     "start_time": "2024-09-29T13:56:31.697154Z"
    }
   },
   "cell_type": "code",
   "source": [
    "current_date = datetime.now().strftime(\"%Y%m%d\")\n",
    "output_file_name = f\"{current_date}_msn_library_pos_all_lib_MSn.mgf\"\n",
    "output_file_path = os.path.join(SAVE_PATH, output_file_name)\n",
    "\n",
    "# save_as_mgf(all_spectra, output_file_path)"
   ],
   "id": "ca75b7aebf490740",
   "outputs": [
    {
     "name": "stdout",
     "output_type": "stream",
     "text": [
      "dict_keys(['spectra'])\n"
     ]
    }
   ],
   "execution_count": 15
  },
  {
   "metadata": {},
   "cell_type": "markdown",
   "source": "#### Saving tsv fold identifiers",
   "id": "7a5d276ea10219bc"
  },
  {
   "metadata": {
    "ExecuteTime": {
     "end_time": "2024-09-29T15:10:16.392075Z",
     "start_time": "2024-09-29T13:58:04.712405Z"
    }
   },
   "cell_type": "code",
   "source": [
    "identifier_to_fold = {}\n",
    "\n",
    "for tree in msn_dataset.trees:\n",
    "    root_identifier = tree.root.spectrum.get('identifier')\n",
    "    smiles = tree.root.spectrum.get('smiles')\n",
    "    fold = smiles_to_fold.get(smiles, 'unknown')\n",
    "    identifier_to_fold[root_identifier] = fold"
   ],
   "id": "2a38c799936af00d",
   "outputs": [],
   "execution_count": 16
  },
  {
   "metadata": {
    "ExecuteTime": {
     "end_time": "2024-09-29T15:10:16.392191Z",
     "start_time": "2024-09-29T13:58:07.651906Z"
    }
   },
   "cell_type": "code",
   "source": [
    "split_df = pd.DataFrame(list(identifier_to_fold.items()), columns=['identifier', 'fold'])\n",
    "\n",
    "output_file_name = f\"{current_date}_split.tsv\"\n",
    "output_file_path = os.path.join(SAVE_PATH, output_file_name)\n",
    "\n",
    "# split_df.to_csv(output_file_path, sep='\\t', index=False)#%%\n"
   ],
   "id": "5a2adb52a9499a51",
   "outputs": [],
   "execution_count": 17
  },
  {
   "metadata": {},
   "cell_type": "code",
   "outputs": [],
   "execution_count": null,
   "source": "",
   "id": "32674e10a7493161"
  }
 ],
 "metadata": {
  "kernelspec": {
   "display_name": "Python 3",
   "language": "python",
   "name": "python3"
  },
  "language_info": {
   "codemirror_mode": {
    "name": "ipython",
    "version": 2
   },
   "file_extension": ".py",
   "mimetype": "text/x-python",
   "name": "python",
   "nbconvert_exporter": "python",
   "pygments_lexer": "ipython2",
   "version": "2.7.6"
  }
 },
 "nbformat": 4,
 "nbformat_minor": 5
}
