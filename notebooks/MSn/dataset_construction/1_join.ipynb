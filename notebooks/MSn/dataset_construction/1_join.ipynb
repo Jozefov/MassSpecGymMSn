{
 "cells": [
  {
   "cell_type": "code",
   "id": "initial_id",
   "metadata": {
    "collapsed": true,
    "ExecuteTime": {
     "end_time": "2024-09-29T09:54:17.008600Z",
     "start_time": "2024-09-29T09:54:16.319880Z"
    }
   },
   "source": [
    "import os\n",
    "import numpy as np\n",
    "from datetime import datetime\n",
    "from matchms import Spectrum\n",
    "from matchms.importing import load_from_mgf\n",
    "from matchms.exporting import save_as_mgf\n",
    "from collections import Counter"
   ],
   "outputs": [],
   "execution_count": 1
  },
  {
   "metadata": {
    "ExecuteTime": {
     "end_time": "2024-09-29T09:54:17.018492Z",
     "start_time": "2024-09-29T09:54:17.016395Z"
    }
   },
   "cell_type": "code",
   "source": [
    "FILE_1 = \"20231031_nihnp_library_pos_all_lib_MSn.mgf\"\n",
    "FILE_2 = \"20231130_mcescaf_library_pos_all_lib_MSn.mgf\"\n",
    "FILE_3 = \"20231130_otavapep_library_pos_all_lib_MSn.mgf\"\n",
    "FILE_4 = \"20240411_mcebio_library_pos_all_lib_MSn.mgf\""
   ],
   "id": "9e01f8d4b514313f",
   "outputs": [],
   "execution_count": 2
  },
  {
   "metadata": {
    "ExecuteTime": {
     "end_time": "2024-09-17T10:09:21.224797Z",
     "start_time": "2024-09-17T10:09:21.221017Z"
    }
   },
   "cell_type": "code",
   "source": [
    "BASE_PATH = \"/Users/macbook/CODE/MS/data/MSn/ALL\"\n",
    "SAVE_PATH = \"../../../data/MSn\""
   ],
   "id": "63a25e487519ac23",
   "outputs": [],
   "execution_count": 3
  },
  {
   "metadata": {
    "ExecuteTime": {
     "end_time": "2024-09-17T10:09:22.194484Z",
     "start_time": "2024-09-17T10:09:22.191444Z"
    }
   },
   "cell_type": "code",
   "source": [
    "file_paths = [os.path.join(BASE_PATH, FILE_1),\n",
    "              os.path.join(BASE_PATH, FILE_2),\n",
    "              os.path.join(BASE_PATH, FILE_3),\n",
    "              os.path.join(BASE_PATH, FILE_4)]"
   ],
   "id": "79450dc5b534fe44",
   "outputs": [],
   "execution_count": 4
  },
  {
   "metadata": {
    "ExecuteTime": {
     "end_time": "2024-09-17T10:15:23.793929Z",
     "start_time": "2024-09-17T10:09:23.867373Z"
    }
   },
   "cell_type": "code",
   "source": [
    "all_spectra = []\n",
    "spectra_counts = {}\n",
    "\n",
    "# Initialize counters\n",
    "root_id_counter = 0  # Counter for root MS2 spectra\n",
    "fragment_id_counter = 0  # Counter for fragments under each root\n",
    "\n",
    "\n",
    "for file_path in file_paths:\n",
    "    spectra = list(load_from_mgf(file_path))\n",
    "    spectra_counts[file_path] = len(spectra)\n",
    "    idx_list = []  # To store IDENTIFIERs for validation\n",
    "\n",
    "    for spectrum in spectra:\n",
    "        ms_level = int(spectrum.get('ms_level'))\n",
    "        if ms_level == 2:\n",
    "            root_id_counter += 1\n",
    "            fragment_id_counter = 0  # Reset fragment counter for new root\n",
    "            # First part of IDENTIFIER: root ID\n",
    "            root_id = f\"{root_id_counter:07d}\"\n",
    "            # Second part of IDENTIFIER: fragment ID (for root, it's '0000000')\n",
    "            fragment_id = f\"{fragment_id_counter:07d}\"\n",
    "            idx = f\"{root_id}_{fragment_id}\"\n",
    "            spectrum.set('IDENTIFIER', idx)\n",
    "        else:\n",
    "            fragment_id_counter += 1\n",
    "            # Use the current root_id and increment fragment_id_counter\n",
    "            fragment_id = f\"{fragment_id_counter:07d}\"\n",
    "            idx = f\"{root_id}_{fragment_id}\"\n",
    "            spectrum.set('IDENTIFIER', idx)\n",
    "        idx_list.append(idx)\n",
    "\n",
    "    all_spectra.extend(spectra)\n",
    "\n",
    "for file, count in spectra_counts.items():\n",
    "    print(f\"{file}: {count} spectra\")\n",
    "\n",
    "combined_count = len(all_spectra)\n",
    "print(f\"Total combined spectra: {combined_count}\")"
   ],
   "id": "1b64ce33939d06b9",
   "outputs": [
    {
     "name": "stdout",
     "output_type": "stream",
     "text": [
      "/Users/macbook/CODE/MS/data/MSn/ALL/20231031_nihnp_library_pos_all_lib_MSn.mgf: 122837 spectra\n",
      "/Users/macbook/CODE/MS/data/MSn/ALL/20231130_mcescaf_library_pos_all_lib_MSn.mgf: 243033 spectra\n",
      "/Users/macbook/CODE/MS/data/MSn/ALL/20231130_otavapep_library_pos_all_lib_MSn.mgf: 63123 spectra\n",
      "/Users/macbook/CODE/MS/data/MSn/ALL/20240411_mcebio_library_pos_all_lib_MSn.mgf: 374412 spectra\n",
      "Total combined spectra: 803405\n"
     ]
    }
   ],
   "execution_count": 5
  },
  {
   "metadata": {
    "ExecuteTime": {
     "end_time": "2024-09-17T10:16:52.370160Z",
     "start_time": "2024-09-17T10:15:23.865058Z"
    }
   },
   "cell_type": "code",
   "source": [
    "# Define the output file name with the current date\n",
    "current_date = datetime.now().strftime(\"%Y%m%d\")\n",
    "output_file_name = f\"{current_date}_msn_library_pos_all_lib_MSn.mgf\"\n",
    "output_file_path = os.path.join(SAVE_PATH, output_file_name)\n",
    "\n",
    "# save_as_mgf(all_spectra, output_file_path)"
   ],
   "id": "1b2bd0f10807b27e",
   "outputs": [
    {
     "name": "stdout",
     "output_type": "stream",
     "text": [
      "dict_keys(['spectra'])\n"
     ]
    }
   ],
   "execution_count": 6
  },
  {
   "metadata": {
    "ExecuteTime": {
     "end_time": "2024-09-17T10:27:42.705475Z",
     "start_time": "2024-09-17T10:16:52.378269Z"
    }
   },
   "cell_type": "code",
   "source": [
    "# Load the saved file to verify the number of spectra\n",
    "loaded_spectra = list(load_from_mgf(output_file_path))\n",
    "loaded_count = len(loaded_spectra)\n",
    "\n",
    "# Compare counts\n",
    "print(f\"Loaded spectra from saved file: {loaded_count}\")\n",
    "\n",
    "if combined_count == loaded_count:\n",
    "    print(\"Validation successful: Combined and loaded spectra counts match.\")\n",
    "else:\n",
    "    print(\"Validation failed: Counts do not match!\")\n",
    "    print(f\"Combined count: {combined_count}, Loaded count: {loaded_count}\")"
   ],
   "id": "3aaa70aee6671333",
   "outputs": [
    {
     "name": "stdout",
     "output_type": "stream",
     "text": [
      "Loaded spectra from saved file: 803405\n",
      "Validation successful: Combined and loaded spectra counts match.\n"
     ]
    }
   ],
   "execution_count": 7
  },
  {
   "metadata": {
    "ExecuteTime": {
     "end_time": "2024-09-17T10:30:09.223663Z",
     "start_time": "2024-09-17T10:30:09.218647Z"
    }
   },
   "cell_type": "code",
   "source": "loaded_spectra[0].metadata_dict()",
   "id": "e9e9589726894444",
   "outputs": [
    {
     "data": {
      "text/plain": [
       "{'charge': 1,\n",
       " 'description': 'NIH NPAC ACONN collection of NP',\n",
       " 'formula': 'C19H22O6',\n",
       " 'inchi': 'InChI=1S/C19H22O6/c1-22-13-10-15(21)19(18(11-13)25-4)14(20)7-5-12-6-8-16(23-2)17(9-12)24-3/h6,8-11,21H,5,7H2,1-4H3',\n",
       " 'smiles': 'COc1cc(O)c(C(=O)CCc2cc(OC)c(OC)cc2)c(OC)c1',\n",
       " 'feature_id': '-1',\n",
       " 'adduct': '[M+H]+',\n",
       " 'spectype': 'ALL_MSN_TO_PSEUDO_MS2',\n",
       " 'fragmentation_method': 'HCD',\n",
       " 'isolation_window': '1.2000000476840569',\n",
       " 'acquisition': 'Crude',\n",
       " 'instrument_type': 'Orbitrap',\n",
       " 'ims_type': 'none',\n",
       " 'ion_source': 'ESI',\n",
       " 'ionmode': 'positive',\n",
       " 'dataset_id': 'MSVPLACEHOLDERID',\n",
       " 'usi': 'mzspec:MSVPLACEHOLDERID:20230404_pluskal_nih_01P_A3_id_positive.mzML:-1',\n",
       " 'scans': '-1',\n",
       " 'precursor_purity': '1.0',\n",
       " 'quality_chimeric': 'PASSED',\n",
       " 'quality_explained_intensity': '0.97712445',\n",
       " 'quality_explained_signals': '0.8',\n",
       " 'collision_energy': '60.0',\n",
       " 'num_peaks': '135',\n",
       " 'compound_name': 'MEGxp0_001769',\n",
       " 'parent_mass': '346.141638',\n",
       " 'inchi_aux': 'MQEOTHTYNCMSAN-UHFFFAOYSA-N',\n",
       " 'ms_level': '2',\n",
       " 'retention_time': 37.17,\n",
       " 'principal_investigator': 'Tomas Pluskal',\n",
       " 'data_collector': 'Corinna Brungs',\n",
       " 'precursor_mz': 347.14891,\n",
       " 'identifier': '0000001_0000000'}"
      ]
     },
     "execution_count": 8,
     "metadata": {},
     "output_type": "execute_result"
    }
   ],
   "execution_count": 8
  }
 ],
 "metadata": {
  "kernelspec": {
   "display_name": "Python 3",
   "language": "python",
   "name": "python3"
  },
  "language_info": {
   "codemirror_mode": {
    "name": "ipython",
    "version": 2
   },
   "file_extension": ".py",
   "mimetype": "text/x-python",
   "name": "python",
   "nbconvert_exporter": "python",
   "pygments_lexer": "ipython2",
   "version": "2.7.6"
  }
 },
 "nbformat": 4,
 "nbformat_minor": 5
}
