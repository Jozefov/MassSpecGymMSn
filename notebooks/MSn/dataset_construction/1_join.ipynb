{
 "cells": [
  {
   "cell_type": "code",
   "id": "initial_id",
   "metadata": {
    "collapsed": true,
    "ExecuteTime": {
     "end_time": "2024-09-16T06:59:32.402805Z",
     "start_time": "2024-09-16T06:59:31.722215Z"
    }
   },
   "source": [
    "import os\n",
    "import numpy as np\n",
    "from datetime import datetime\n",
    "from matchms import Spectrum\n",
    "from matchms.importing import load_from_mgf\n",
    "from matchms.exporting import save_as_mgf\n",
    "from collections import Counter"
   ],
   "outputs": [],
   "execution_count": 1
  },
  {
   "metadata": {
    "ExecuteTime": {
     "end_time": "2024-09-16T06:59:46.625365Z",
     "start_time": "2024-09-16T06:59:46.622835Z"
    }
   },
   "cell_type": "code",
   "source": [
    "FILE_1 = \"20231031_nihnp_library_pos_all_lib_MSn.mgf\"\n",
    "FILE_2 = \"20231130_mcescaf_library_pos_all_lib_MSn.mgf\"\n",
    "FILE_3 = \"20231130_otavapep_library_pos_all_lib_MSn.mgf\"\n",
    "FILE_4 = \"20240411_mcebio_library_pos_all_lib_MSn.mgf\""
   ],
   "id": "9e01f8d4b514313f",
   "outputs": [],
   "execution_count": 2
  },
  {
   "metadata": {
    "ExecuteTime": {
     "end_time": "2024-09-16T07:03:25.665389Z",
     "start_time": "2024-09-16T07:03:25.662585Z"
    }
   },
   "cell_type": "code",
   "source": [
    "BASE_PATH = \"/Users/macbook/CODE/MS/data/MSn/ALL\"\n",
    "SAVE_PATH = \"../../../data/MSn\""
   ],
   "id": "63a25e487519ac23",
   "outputs": [],
   "execution_count": 3
  },
  {
   "metadata": {
    "ExecuteTime": {
     "end_time": "2024-09-16T07:03:26.488384Z",
     "start_time": "2024-09-16T07:03:26.485278Z"
    }
   },
   "cell_type": "code",
   "source": [
    "file_paths = [os.path.join(BASE_PATH, FILE_1),\n",
    "              os.path.join(BASE_PATH, FILE_2),\n",
    "              os.path.join(BASE_PATH, FILE_3),\n",
    "              os.path.join(BASE_PATH, FILE_4)]"
   ],
   "id": "79450dc5b534fe44",
   "outputs": [],
   "execution_count": 4
  },
  {
   "metadata": {
    "ExecuteTime": {
     "end_time": "2024-09-16T07:08:17.548897Z",
     "start_time": "2024-09-16T07:03:29.715266Z"
    }
   },
   "cell_type": "code",
   "source": [
    "all_spectra = []\n",
    "spectra_counts = {}\n",
    "\n",
    "for file_path in file_paths:\n",
    "    spectra = list(load_from_mgf(file_path))\n",
    "    spectra_counts[file_path] = len(spectra)\n",
    "    all_spectra.extend(spectra)\n",
    "\n",
    "for file, count in spectra_counts.items():\n",
    "    print(f\"{file}: {count} spectra\")\n",
    "\n",
    "combined_count = len(all_spectra)\n",
    "print(f\"Total combined spectra: {combined_count}\")"
   ],
   "id": "1b64ce33939d06b9",
   "outputs": [
    {
     "name": "stdout",
     "output_type": "stream",
     "text": [
      "/Users/macbook/CODE/MS/data/MSn/ALL/20231031_nihnp_library_pos_all_lib_MSn.mgf: 122837 spectra\n",
      "/Users/macbook/CODE/MS/data/MSn/ALL/20231130_mcescaf_library_pos_all_lib_MSn.mgf: 243033 spectra\n",
      "/Users/macbook/CODE/MS/data/MSn/ALL/20231130_otavapep_library_pos_all_lib_MSn.mgf: 63123 spectra\n",
      "/Users/macbook/CODE/MS/data/MSn/ALL/20240411_mcebio_library_pos_all_lib_MSn.mgf: 374412 spectra\n",
      "Total combined spectra: 803405\n"
     ]
    }
   ],
   "execution_count": 5
  },
  {
   "metadata": {
    "ExecuteTime": {
     "end_time": "2024-09-16T07:09:45.917058Z",
     "start_time": "2024-09-16T07:08:17.552281Z"
    }
   },
   "cell_type": "code",
   "source": [
    "# Define the output file name with the current date\n",
    "current_date = datetime.now().strftime(\"%Y%m%d\")\n",
    "output_file_name = f\"{current_date}_msn_library_pos_all_lib_MSn.mgf\"\n",
    "output_file_path = os.path.join(SAVE_PATH, output_file_name)\n",
    "\n",
    "# save_as_mgf(all_spectra, output_file_path)"
   ],
   "id": "1b2bd0f10807b27e",
   "outputs": [
    {
     "name": "stdout",
     "output_type": "stream",
     "text": [
      "dict_keys(['spectra'])\n"
     ]
    }
   ],
   "execution_count": 6
  },
  {
   "metadata": {
    "ExecuteTime": {
     "end_time": "2024-09-16T07:14:20.937569Z",
     "start_time": "2024-09-16T07:09:45.924535Z"
    }
   },
   "cell_type": "code",
   "source": [
    "# Load the saved file to verify the number of spectra\n",
    "loaded_spectra = list(load_from_mgf(output_file_path))\n",
    "loaded_count = len(loaded_spectra)\n",
    "\n",
    "# Compare counts\n",
    "print(f\"Loaded spectra from saved file: {loaded_count}\")\n",
    "\n",
    "if combined_count == loaded_count:\n",
    "    print(\"Validation successful: Combined and loaded spectra counts match.\")\n",
    "else:\n",
    "    print(\"Validation failed: Counts do not match!\")\n",
    "    print(f\"Combined count: {combined_count}, Loaded count: {loaded_count}\")"
   ],
   "id": "3aaa70aee6671333",
   "outputs": [
    {
     "name": "stdout",
     "output_type": "stream",
     "text": [
      "Loaded spectra from saved file: 803405\n",
      "Validation successful: Combined and loaded spectra counts match.\n"
     ]
    }
   ],
   "execution_count": 7
  }
 ],
 "metadata": {
  "kernelspec": {
   "display_name": "Python 3",
   "language": "python",
   "name": "python3"
  },
  "language_info": {
   "codemirror_mode": {
    "name": "ipython",
    "version": 2
   },
   "file_extension": ".py",
   "mimetype": "text/x-python",
   "name": "python",
   "nbconvert_exporter": "python",
   "pygments_lexer": "ipython2",
   "version": "2.7.6"
  }
 },
 "nbformat": 4,
 "nbformat_minor": 5
}
