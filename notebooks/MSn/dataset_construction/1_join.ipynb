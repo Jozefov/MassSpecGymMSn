{
 "cells": [
  {
   "cell_type": "code",
   "id": "initial_id",
   "metadata": {
    "collapsed": true,
    "ExecuteTime": {
     "end_time": "2024-12-04T15:25:46.374764Z",
     "start_time": "2024-12-04T15:25:44.936087Z"
    }
   },
   "source": [
    "import os\n",
    "import numpy as np\n",
    "from datetime import datetime\n",
    "from matchms import Spectrum\n",
    "from matchms.importing import load_from_mgf\n",
    "from matchms.exporting import save_as_mgf\n",
    "from collections import Counter"
   ],
   "outputs": [],
   "execution_count": 1
  },
  {
   "metadata": {
    "ExecuteTime": {
     "end_time": "2024-12-04T15:25:46.380913Z",
     "start_time": "2024-12-04T15:25:46.378539Z"
    }
   },
   "cell_type": "code",
   "source": [
    "FILE_1 = \"20231031_nihnp_library_pos_all_lib_MSn.mgf\"\n",
    "FILE_2 = \"20231130_mcescaf_library_pos_all_lib_MSn.mgf\"\n",
    "FILE_3 = \"20231130_otavapep_library_pos_all_lib_MSn.mgf\"\n",
    "FILE_4 = \"20240411_mcebio_library_pos_all_lib_MSn.mgf\""
   ],
   "id": "9e01f8d4b514313f",
   "outputs": [],
   "execution_count": 2
  },
  {
   "metadata": {
    "ExecuteTime": {
     "end_time": "2024-12-04T15:30:03.802440Z",
     "start_time": "2024-12-04T15:30:03.800499Z"
    }
   },
   "cell_type": "code",
   "source": [
    "BASE_PATH = \"/Users/macbook/CODE/MS/data/MSn/ALL\"\n",
    "SAVE_PATH = \"../../../data/MSn\""
   ],
   "id": "63a25e487519ac23",
   "outputs": [],
   "execution_count": 3
  },
  {
   "metadata": {
    "ExecuteTime": {
     "end_time": "2024-12-04T15:30:05.418587Z",
     "start_time": "2024-12-04T15:30:05.416517Z"
    }
   },
   "cell_type": "code",
   "source": [
    "file_paths = [os.path.join(BASE_PATH, FILE_1),\n",
    "              os.path.join(BASE_PATH, FILE_2),\n",
    "              os.path.join(BASE_PATH, FILE_3),\n",
    "              os.path.join(BASE_PATH, FILE_4)]"
   ],
   "id": "79450dc5b534fe44",
   "outputs": [],
   "execution_count": 4
  },
  {
   "metadata": {
    "ExecuteTime": {
     "end_time": "2024-12-04T15:36:32.096492Z",
     "start_time": "2024-12-04T15:30:27.071758Z"
    }
   },
   "cell_type": "code",
   "source": [
    "all_spectra = []\n",
    "spectra_counts = {}\n",
    "\n",
    "# Initialize counters\n",
    "root_id_counter = 0  # Counter for root MS2 spectra\n",
    "fragment_id_counter = 0  # Counter for fragments under each root\n",
    "\n",
    "\n",
    "for file_path in file_paths:\n",
    "    spectra = list(load_from_mgf(file_path))\n",
    "    spectra_counts[file_path] = len(spectra)\n",
    "    idx_list = []  # To store IDENTIFIERs for validation\n",
    "\n",
    "    for spectrum in spectra:\n",
    "        ms_level = int(spectrum.get('ms_level'))\n",
    "        if ms_level == 2:\n",
    "            root_id_counter += 1\n",
    "            fragment_id_counter = 0  # Reset fragment counter for new root\n",
    "            # First part of IDENTIFIER: root ID\n",
    "            root_id = f\"{root_id_counter:07d}\"\n",
    "            # Second part of IDENTIFIER: fragment ID (for root, it's '0000000')\n",
    "            fragment_id = f\"{fragment_id_counter:07d}\"\n",
    "            idx = f\"{root_id}_{fragment_id}\"\n",
    "            spectrum.set('IDENTIFIER', idx)\n",
    "        else:\n",
    "            fragment_id_counter += 1\n",
    "            # Use the current root_id and increment fragment_id_counter\n",
    "            fragment_id = f\"{fragment_id_counter:07d}\"\n",
    "            idx = f\"{root_id}_{fragment_id}\"\n",
    "            spectrum.set('IDENTIFIER', idx)\n",
    "        idx_list.append(idx)\n",
    "\n",
    "    all_spectra.extend(spectra)\n",
    "\n",
    "for file, count in spectra_counts.items():\n",
    "    print(f\"{file}: {count} spectra\")\n",
    "\n",
    "combined_count = len(all_spectra)\n",
    "print(f\"Total combined spectra: {combined_count}\")"
   ],
   "id": "1b64ce33939d06b9",
   "outputs": [
    {
     "name": "stdout",
     "output_type": "stream",
     "text": [
      "/Users/macbook/CODE/MS/data/MSn/ALL/20231031_nihnp_library_pos_all_lib_MSn.mgf: 122837 spectra\n",
      "/Users/macbook/CODE/MS/data/MSn/ALL/20231130_mcescaf_library_pos_all_lib_MSn.mgf: 243033 spectra\n",
      "/Users/macbook/CODE/MS/data/MSn/ALL/20231130_otavapep_library_pos_all_lib_MSn.mgf: 63123 spectra\n",
      "/Users/macbook/CODE/MS/data/MSn/ALL/20240411_mcebio_library_pos_all_lib_MSn.mgf: 374412 spectra\n",
      "Total combined spectra: 803405\n"
     ]
    }
   ],
   "execution_count": 5
  },
  {
   "metadata": {
    "ExecuteTime": {
     "end_time": "2024-12-04T15:44:27.420129Z",
     "start_time": "2024-12-04T15:44:27.416062Z"
    }
   },
   "cell_type": "code",
   "source": "all_spectra[0].metadata.get(\"smiles\")",
   "id": "1bd75280fab9778b",
   "outputs": [
    {
     "data": {
      "text/plain": [
       "'COc1cc(O)c(C(=O)CCc2cc(OC)c(OC)cc2)c(OC)c1'"
      ]
     },
     "execution_count": 7,
     "metadata": {},
     "output_type": "execute_result"
    }
   ],
   "execution_count": 7
  },
  {
   "metadata": {
    "ExecuteTime": {
     "end_time": "2024-12-04T15:46:02.915897Z",
     "start_time": "2024-12-04T15:46:02.912333Z"
    }
   },
   "cell_type": "code",
   "source": "all_spectra[0].set(\"smiles\", \"fijip\")",
   "id": "adccc73d5974c8b3",
   "outputs": [
    {
     "data": {
      "text/plain": [
       "Spectrum(precursor m/z=347.15, 135 fragments between 41.0 and 347.1)"
      ]
     },
     "execution_count": 9,
     "metadata": {},
     "output_type": "execute_result"
    }
   ],
   "execution_count": 9
  },
  {
   "metadata": {
    "ExecuteTime": {
     "end_time": "2024-12-04T15:46:11.332463Z",
     "start_time": "2024-12-04T15:46:11.329269Z"
    }
   },
   "cell_type": "code",
   "source": "all_spectra[0].metadata.get(\"smiles\")",
   "id": "43c030eae807084a",
   "outputs": [
    {
     "data": {
      "text/plain": [
       "'fijip'"
      ]
     },
     "execution_count": 10,
     "metadata": {},
     "output_type": "execute_result"
    }
   ],
   "execution_count": 10
  },
  {
   "metadata": {
    "ExecuteTime": {
     "end_time": "2024-09-17T10:16:52.370160Z",
     "start_time": "2024-09-17T10:15:23.865058Z"
    }
   },
   "cell_type": "code",
   "source": [
    "# Define the output file name with the current date\n",
    "current_date = datetime.now().strftime(\"%Y%m%d\")\n",
    "output_file_name = f\"{current_date}_msn_library_pos_all_lib_MSn.mgf\"\n",
    "output_file_path = os.path.join(SAVE_PATH, output_file_name)\n",
    "\n",
    "# save_as_mgf(all_spectra, output_file_path)"
   ],
   "id": "1b2bd0f10807b27e",
   "outputs": [
    {
     "name": "stdout",
     "output_type": "stream",
     "text": [
      "dict_keys(['spectra'])\n"
     ]
    }
   ],
   "execution_count": 6
  },
  {
   "metadata": {
    "ExecuteTime": {
     "end_time": "2024-09-17T10:27:42.705475Z",
     "start_time": "2024-09-17T10:16:52.378269Z"
    }
   },
   "cell_type": "code",
   "source": [
    "# Load the saved file to verify the number of spectra\n",
    "loaded_spectra = list(load_from_mgf(output_file_path))\n",
    "loaded_count = len(loaded_spectra)\n",
    "\n",
    "# Compare counts\n",
    "print(f\"Loaded spectra from saved file: {loaded_count}\")\n",
    "\n",
    "if combined_count == loaded_count:\n",
    "    print(\"Validation successful: Combined and loaded spectra counts match.\")\n",
    "else:\n",
    "    print(\"Validation failed: Counts do not match!\")\n",
    "    print(f\"Combined count: {combined_count}, Loaded count: {loaded_count}\")"
   ],
   "id": "3aaa70aee6671333",
   "outputs": [
    {
     "name": "stdout",
     "output_type": "stream",
     "text": [
      "Loaded spectra from saved file: 803405\n",
      "Validation successful: Combined and loaded spectra counts match.\n"
     ]
    }
   ],
   "execution_count": 7
  },
  {
   "metadata": {
    "ExecuteTime": {
     "end_time": "2024-09-17T10:30:09.223663Z",
     "start_time": "2024-09-17T10:30:09.218647Z"
    }
   },
   "cell_type": "code",
   "source": "loaded_spectra[0].metadata_dict()",
   "id": "e9e9589726894444",
   "outputs": [
    {
     "data": {
      "text/plain": [
       "{'charge': 1,\n",
       " 'description': 'NIH NPAC ACONN collection of NP',\n",
       " 'formula': 'C19H22O6',\n",
       " 'inchi': 'InChI=1S/C19H22O6/c1-22-13-10-15(21)19(18(11-13)25-4)14(20)7-5-12-6-8-16(23-2)17(9-12)24-3/h6,8-11,21H,5,7H2,1-4H3',\n",
       " 'smiles': 'COc1cc(O)c(C(=O)CCc2cc(OC)c(OC)cc2)c(OC)c1',\n",
       " 'feature_id': '-1',\n",
       " 'adduct': '[M+H]+',\n",
       " 'spectype': 'ALL_MSN_TO_PSEUDO_MS2',\n",
       " 'fragmentation_method': 'HCD',\n",
       " 'isolation_window': '1.2000000476840569',\n",
       " 'acquisition': 'Crude',\n",
       " 'instrument_type': 'Orbitrap',\n",
       " 'ims_type': 'none',\n",
       " 'ion_source': 'ESI',\n",
       " 'ionmode': 'positive',\n",
       " 'dataset_id': 'MSVPLACEHOLDERID',\n",
       " 'usi': 'mzspec:MSVPLACEHOLDERID:20230404_pluskal_nih_01P_A3_id_positive.mzML:-1',\n",
       " 'scans': '-1',\n",
       " 'precursor_purity': '1.0',\n",
       " 'quality_chimeric': 'PASSED',\n",
       " 'quality_explained_intensity': '0.97712445',\n",
       " 'quality_explained_signals': '0.8',\n",
       " 'collision_energy': '60.0',\n",
       " 'num_peaks': '135',\n",
       " 'compound_name': 'MEGxp0_001769',\n",
       " 'parent_mass': '346.141638',\n",
       " 'inchi_aux': 'MQEOTHTYNCMSAN-UHFFFAOYSA-N',\n",
       " 'ms_level': '2',\n",
       " 'retention_time': 37.17,\n",
       " 'principal_investigator': 'Tomas Pluskal',\n",
       " 'data_collector': 'Corinna Brungs',\n",
       " 'precursor_mz': 347.14891,\n",
       " 'identifier': '0000001_0000000'}"
      ]
     },
     "execution_count": 8,
     "metadata": {},
     "output_type": "execute_result"
    }
   ],
   "execution_count": 8
  },
  {
   "metadata": {},
   "cell_type": "code",
   "outputs": [],
   "execution_count": null,
   "source": "",
   "id": "b517d44276eae7bf"
  },
  {
   "metadata": {},
   "cell_type": "code",
   "outputs": [],
   "execution_count": null,
   "source": [
    "import os\n",
    "import json\n",
    "import time\n",
    "import typing as T\n",
    "from pathlib import Path\n",
    "from rdkit import Chem\n",
    "from matchms import Spectrum\n",
    "\n",
    "def canonicalize_smiles_in_spectra(\n",
    "    spectra_list: T.List[Spectrum],\n",
    "    standardize_smiles_func: T.Callable[[str], str],\n",
    "    save_path: str,\n",
    "    batch_size: int = 500,\n",
    "    max_retries: int = 10,\n",
    "    delay_between_retries: int = 60  # in seconds\n",
    ") -> T.Dict[str, str]:\n",
    "    \"\"\"\n",
    "    Canonicalize SMILES in a list of spectrum objects.\n",
    "\n",
    "    Args:\n",
    "        spectra_list: List of Spectrum objects.\n",
    "        standardize_smiles_func: Function to standardize SMILES.\n",
    "        save_path: Path to save the progress dictionary.\n",
    "        batch_size: Number of SMILES to process before saving progress.\n",
    "        max_retries: Maximum number of retries if the database is not reachable.\n",
    "        delay_between_retries: Delay between retries in seconds.\n",
    "\n",
    "    Returns:\n",
    "        Dictionary mapping original SMILES to canonical SMILES.\n",
    "    \"\"\"\n",
    "    # Extract all unique SMILES from spectra\n",
    "    all_smiles = set()\n",
    "    for spectrum in spectra_list:\n",
    "        smiles = spectrum.get('smiles')\n",
    "        if smiles:\n",
    "            all_smiles.add(smiles)\n",
    "\n",
    "    print(f\"Total unique SMILES to process: {len(all_smiles)}\")\n",
    "\n",
    "    # Check if there's a saved progress file\n",
    "    if os.path.exists(save_path):\n",
    "        print(f\"Resuming from saved progress at {save_path}\")\n",
    "        with open(save_path, 'r') as f:\n",
    "            smiles_dict = json.load(f)\n",
    "    else:\n",
    "        smiles_dict = {}\n",
    "\n",
    "    processed_smiles = set(smiles_dict.keys())\n",
    "    remaining_smiles = all_smiles - processed_smiles\n",
    "    print(f\"SMILES remaining to process: {len(remaining_smiles)}\")\n",
    "\n",
    "    smiles_list = list(remaining_smiles)\n",
    "    total_smiles = len(smiles_list)\n",
    "\n",
    "    for idx, original_smiles in enumerate(smiles_list, 1):\n",
    "        retries = 0\n",
    "        success = False\n",
    "        while retries < max_retries and not success:\n",
    "            try:\n",
    "                # Canonicalize the SMILES\n",
    "                canonical_smiles = standardize_smiles_func(original_smiles)\n",
    "                if not canonical_smiles:\n",
    "                    print(f\"Warning: Invalid SMILES '{original_smiles}'. Skipping.\")\n",
    "                    canonical_smiles = None\n",
    "                smiles_dict[original_smiles] = canonical_smiles\n",
    "                success = True\n",
    "            except Exception as e:\n",
    "                retries += 1\n",
    "                print(f\"Error processing SMILES '{original_smiles}': {e}\")\n",
    "                if retries < max_retries:\n",
    "                    print(f\"Retrying in {delay_between_retries} seconds... (Attempt {retries}/{max_retries})\")\n",
    "                    time.sleep(delay_between_retries)\n",
    "                else:\n",
    "                    print(f\"Max retries reached for SMILES '{original_smiles}'. Skipping.\")\n",
    "                    smiles_dict[original_smiles] = None  # Mark as failed\n",
    "\n",
    "        # Save progress every batch_size SMILES\n",
    "        if idx % batch_size == 0 or idx == total_smiles:\n",
    "            print(f\"Processing progress: {idx}/{total_smiles} SMILES\")\n",
    "            with open(save_path, 'w') as f:\n",
    "                json.dump(smiles_dict, f)\n",
    "            print(f\"Progress saved to {save_path}\")\n",
    "\n",
    "    print(\"Canonicalization completed.\")\n",
    "    return smiles_dict"
   ],
   "id": "c543fb11849a4661"
  },
  {
   "metadata": {},
   "cell_type": "code",
   "outputs": [],
   "execution_count": null,
   "source": "",
   "id": "1299d617ff198dd3"
  },
  {
   "metadata": {},
   "cell_type": "code",
   "outputs": [],
   "execution_count": null,
   "source": "",
   "id": "d39949548d692ab8"
  }
 ],
 "metadata": {
  "kernelspec": {
   "display_name": "Python 3",
   "language": "python",
   "name": "python3"
  },
  "language_info": {
   "codemirror_mode": {
    "name": "ipython",
    "version": 2
   },
   "file_extension": ".py",
   "mimetype": "text/x-python",
   "name": "python",
   "nbconvert_exporter": "python",
   "pygments_lexer": "ipython2",
   "version": "2.7.6"
  }
 },
 "nbformat": 4,
 "nbformat_minor": 5
}
