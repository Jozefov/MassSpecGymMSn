{
 "cells": [
  {
   "cell_type": "code",
   "id": "initial_id",
   "metadata": {
    "collapsed": true,
    "ExecuteTime": {
     "end_time": "2024-12-05T14:50:45.330700Z",
     "start_time": "2024-12-05T14:50:41.962725Z"
    }
   },
   "source": [
    "import os\n",
    "import numpy as np\n",
    "from datetime import datetime\n",
    "from matchms import Spectrum\n",
    "from matchms.importing import load_from_mgf\n",
    "from matchms.exporting import save_as_mgf\n",
    "from collections import Counter\n",
    "from massspecgym.utils import standardize_smiles\n",
    "import os\n",
    "import json\n",
    "import time\n",
    "import typing as T\n",
    "from pathlib import Path\n",
    "from matchms import Spectrum\n",
    "from rdkit import Chem"
   ],
   "outputs": [],
   "execution_count": 1
  },
  {
   "metadata": {
    "ExecuteTime": {
     "end_time": "2024-12-05T14:50:45.335859Z",
     "start_time": "2024-12-05T14:50:45.333854Z"
    }
   },
   "cell_type": "code",
   "source": [
    "FILE_1 = \"20231031_nihnp_library_pos_all_lib_MSn.mgf\"\n",
    "FILE_2 = \"20231130_mcescaf_library_pos_all_lib_MSn.mgf\"\n",
    "FILE_3 = \"20231130_otavapep_library_pos_all_lib_MSn.mgf\"\n",
    "FILE_4 = \"20240411_mcebio_library_pos_all_lib_MSn.mgf\""
   ],
   "id": "9e01f8d4b514313f",
   "outputs": [],
   "execution_count": 2
  },
  {
   "metadata": {
    "ExecuteTime": {
     "end_time": "2024-12-05T14:50:45.378838Z",
     "start_time": "2024-12-05T14:50:45.377022Z"
    }
   },
   "cell_type": "code",
   "source": [
    "BASE_PATH = \"/Users/macbook/CODE/MS/data/MSn/ALL\"\n",
    "SAVE_PATH = \"../../../data/MSn\""
   ],
   "id": "63a25e487519ac23",
   "outputs": [],
   "execution_count": 3
  },
  {
   "metadata": {
    "ExecuteTime": {
     "end_time": "2024-12-05T14:50:45.855689Z",
     "start_time": "2024-12-05T14:50:45.852064Z"
    }
   },
   "cell_type": "code",
   "source": [
    "file_paths = [os.path.join(BASE_PATH, FILE_1),\n",
    "              os.path.join(BASE_PATH, FILE_2),\n",
    "              os.path.join(BASE_PATH, FILE_3),\n",
    "              os.path.join(BASE_PATH, FILE_4)]"
   ],
   "id": "79450dc5b534fe44",
   "outputs": [],
   "execution_count": 4
  },
  {
   "metadata": {
    "ExecuteTime": {
     "end_time": "2024-12-05T14:56:55.274519Z",
     "start_time": "2024-12-05T14:50:49.435702Z"
    }
   },
   "cell_type": "code",
   "source": [
    "all_spectra = []\n",
    "spectra_counts = {}\n",
    "\n",
    "# Initialize counters\n",
    "root_id_counter = 0  # Counter for root MS2 spectra\n",
    "fragment_id_counter = 0  # Counter for fragments under each root\n",
    "\n",
    "\n",
    "for file_path in file_paths:\n",
    "    spectra = list(load_from_mgf(file_path))\n",
    "    spectra_counts[file_path] = len(spectra)\n",
    "    idx_list = []  # To store IDENTIFIERs for validation\n",
    "\n",
    "    for spectrum in spectra:\n",
    "        ms_level = int(spectrum.get('ms_level'))\n",
    "        if ms_level == 2:\n",
    "            root_id_counter += 1\n",
    "            fragment_id_counter = 0  # Reset fragment counter for new root\n",
    "            # First part of IDENTIFIER: root ID\n",
    "            root_id = f\"{root_id_counter:07d}\"\n",
    "            # Second part of IDENTIFIER: fragment ID (for root, it's '0000000')\n",
    "            fragment_id = f\"{fragment_id_counter:07d}\"\n",
    "            idx = f\"{root_id}_{fragment_id}\"\n",
    "            spectrum.set('IDENTIFIER', idx)\n",
    "        else:\n",
    "            fragment_id_counter += 1\n",
    "            # Use the current root_id and increment fragment_id_counter\n",
    "            fragment_id = f\"{fragment_id_counter:07d}\"\n",
    "            idx = f\"{root_id}_{fragment_id}\"\n",
    "            spectrum.set('IDENTIFIER', idx)\n",
    "        idx_list.append(idx)\n",
    "\n",
    "    all_spectra.extend(spectra)\n",
    "\n",
    "for file, count in spectra_counts.items():\n",
    "    print(f\"{file}: {count} spectra\")\n",
    "\n",
    "combined_count = len(all_spectra)\n",
    "print(f\"Total combined spectra: {combined_count}\")"
   ],
   "id": "1b64ce33939d06b9",
   "outputs": [
    {
     "name": "stdout",
     "output_type": "stream",
     "text": [
      "/Users/macbook/CODE/MS/data/MSn/ALL/20231031_nihnp_library_pos_all_lib_MSn.mgf: 122837 spectra\n",
      "/Users/macbook/CODE/MS/data/MSn/ALL/20231130_mcescaf_library_pos_all_lib_MSn.mgf: 243033 spectra\n",
      "/Users/macbook/CODE/MS/data/MSn/ALL/20231130_otavapep_library_pos_all_lib_MSn.mgf: 63123 spectra\n",
      "/Users/macbook/CODE/MS/data/MSn/ALL/20240411_mcebio_library_pos_all_lib_MSn.mgf: 374412 spectra\n",
      "Total combined spectra: 803405\n"
     ]
    }
   ],
   "execution_count": 5
  },
  {
   "metadata": {
    "ExecuteTime": {
     "end_time": "2024-12-04T15:44:27.420129Z",
     "start_time": "2024-12-04T15:44:27.416062Z"
    }
   },
   "cell_type": "code",
   "source": "# all_spectra[0].metadata.get(\"smiles\")",
   "id": "1bd75280fab9778b",
   "outputs": [
    {
     "data": {
      "text/plain": [
       "'COc1cc(O)c(C(=O)CCc2cc(OC)c(OC)cc2)c(OC)c1'"
      ]
     },
     "execution_count": 7,
     "metadata": {},
     "output_type": "execute_result"
    }
   ],
   "execution_count": 7
  },
  {
   "metadata": {
    "ExecuteTime": {
     "end_time": "2024-12-04T15:46:02.915897Z",
     "start_time": "2024-12-04T15:46:02.912333Z"
    }
   },
   "cell_type": "code",
   "source": "# all_spectra[0].set(\"smiles\", \"fijip\")",
   "id": "adccc73d5974c8b3",
   "outputs": [
    {
     "data": {
      "text/plain": [
       "Spectrum(precursor m/z=347.15, 135 fragments between 41.0 and 347.1)"
      ]
     },
     "execution_count": 9,
     "metadata": {},
     "output_type": "execute_result"
    }
   ],
   "execution_count": 9
  },
  {
   "metadata": {
    "ExecuteTime": {
     "end_time": "2024-12-04T15:46:11.332463Z",
     "start_time": "2024-12-04T15:46:11.329269Z"
    }
   },
   "cell_type": "code",
   "source": "# all_spectra[0].metadata.get(\"smiles\")",
   "id": "43c030eae807084a",
   "outputs": [
    {
     "data": {
      "text/plain": [
       "'fijip'"
      ]
     },
     "execution_count": 10,
     "metadata": {},
     "output_type": "execute_result"
    }
   ],
   "execution_count": 10
  },
  {
   "metadata": {},
   "cell_type": "markdown",
   "source": "# Retrieve canonical version",
   "id": "30671730993c24d5"
  },
  {
   "metadata": {
    "ExecuteTime": {
     "end_time": "2024-12-05T14:56:55.308145Z",
     "start_time": "2024-12-05T14:56:55.294700Z"
    }
   },
   "cell_type": "code",
   "source": [
    "def canonicalize_smiles_in_spectra(\n",
    "    spectra_list: T.List[Spectrum],\n",
    "    standardize_smiles_func: T.Callable[[T.Union[str, T.List[str]]], T.Union[str, T.List[str]]],\n",
    "    save_path: str,\n",
    "    batch_size: int = 500,\n",
    "    max_retries: int = 10,\n",
    "    delay_between_retries: int = 60  # in seconds\n",
    ") -> T.Dict[str, str]:\n",
    "    \"\"\"\n",
    "    Canonicalize SMILES in a list of spectrum objects.\n",
    "\n",
    "    Args:\n",
    "        spectra_list: List of Spectrum objects.\n",
    "        standardize_smiles_func: Function to standardize SMILES.\n",
    "        save_path: Path to save the progress dictionary.\n",
    "        batch_size: Number of SMILES to process before saving progress.\n",
    "        max_retries: Maximum number of retries if the database is not reachable.\n",
    "        delay_between_retries: Delay between retries in seconds.\n",
    "\n",
    "    Returns:\n",
    "        Dictionary mapping original SMILES to canonical SMILES.\n",
    "    \"\"\"\n",
    "    # Extract all unique SMILES from spectra\n",
    "    all_smiles = set()\n",
    "    for spectrum in spectra_list:\n",
    "        smiles = spectrum.metadata.get('smiles')\n",
    "        if smiles:\n",
    "            all_smiles.add(smiles)\n",
    "\n",
    "    print(f\"Total unique SMILES to process: {len(all_smiles)}\")\n",
    "\n",
    "    # Check if there is a saved progress file\n",
    "    if os.path.exists(save_path):\n",
    "        print(f\"Resuming from saved progress at {save_path}\")\n",
    "        with open(save_path, 'r') as f:\n",
    "            smiles_dict = json.load(f)\n",
    "    else:\n",
    "        smiles_dict = {}\n",
    "\n",
    "    processed_smiles = set(smiles_dict.keys())\n",
    "    remaining_smiles = all_smiles - processed_smiles\n",
    "    print(f\"SMILES remaining to process: {len(remaining_smiles)}\")\n",
    "\n",
    "    smiles_list = list(remaining_smiles)\n",
    "    total_smiles = len(smiles_list)\n",
    "\n",
    "    # For saving progress\n",
    "    batch_counter = 0\n",
    "    for idx, original_smiles in enumerate(smiles_list, 1):\n",
    "        retries = 0\n",
    "        success = False\n",
    "        while retries < max_retries and not success:\n",
    "            try:\n",
    "                # Canonicalize the SMILES\n",
    "                canonical_smiles = standardize_smiles_func(original_smiles)\n",
    "                if not canonical_smiles:\n",
    "                    print(f\"Warning: Invalid SMILES '{original_smiles}'. Skipping.\")\n",
    "                    canonical_smiles = None\n",
    "                else:\n",
    "                    # If the function returns a list, extract the first element\n",
    "                    if isinstance(canonical_smiles, list):\n",
    "                        canonical_smiles = canonical_smiles[0]\n",
    "                smiles_dict[original_smiles] = canonical_smiles\n",
    "                success = True\n",
    "            except Exception as e:\n",
    "                retries += 1\n",
    "                print(f\"Error processing SMILES '{original_smiles}': {e}\")\n",
    "                if retries < max_retries:\n",
    "                    print(f\"Retrying in {delay_between_retries} seconds... (Attempt {retries}/{max_retries})\")\n",
    "                    time.sleep(delay_between_retries)\n",
    "                else:\n",
    "                    print(f\"Max retries reached for SMILES '{original_smiles}'. Skipping.\")\n",
    "                    smiles_dict[original_smiles] = None  # Mark as failed\n",
    "\n",
    "        batch_counter += 1\n",
    "        # Save progress every batch_size SMILES or at the end\n",
    "        if batch_counter >= batch_size or idx == total_smiles:\n",
    "            print(f\"Processing progress: {idx}/{total_smiles} SMILES\")\n",
    "            with open(save_path, 'w') as f:\n",
    "                json.dump(smiles_dict, f)\n",
    "            print(f\"Progress saved to {save_path}\")\n",
    "            batch_counter = 0 \n",
    "\n",
    "    print(\"Canonicalization completed.\")\n",
    "    return smiles_dict"
   ],
   "id": "c543fb11849a4661",
   "outputs": [],
   "execution_count": 6
  },
  {
   "metadata": {
    "ExecuteTime": {
     "end_time": "2024-12-05T14:57:47.326987Z",
     "start_time": "2024-12-05T14:56:55.330484Z"
    }
   },
   "cell_type": "code",
   "source": [
    "save_progress_path = \"/Users/macbook/CODE/Majer:MassSpecGym/data/MSn/smiles_canonicalization_all.json\"\n",
    "\n",
    "smiles_canonical_dict = canonicalize_smiles_in_spectra(\n",
    "    spectra_list=all_spectra,\n",
    "    standardize_smiles_func=standardize_smiles,\n",
    "    save_path=save_progress_path,\n",
    "    batch_size=500,\n",
    "    max_retries=30,\n",
    "    delay_between_retries=20\n",
    ")"
   ],
   "id": "20805c0035872343",
   "outputs": [
    {
     "name": "stdout",
     "output_type": "stream",
     "text": [
      "Total unique SMILES to process: 14008\n",
      "Resuming from saved progress at /Users/macbook/CODE/Majer:MassSpecGym/data/MSn/smiles_canonicalization_all.json\n",
      "SMILES remaining to process: 0\n",
      "Canonicalization completed.\n"
     ]
    }
   ],
   "execution_count": 7
  },
  {
   "metadata": {},
   "cell_type": "code",
   "outputs": [],
   "execution_count": null,
   "source": [
    "# # Update spectra with canonical SMILES\n",
    "# for spectrum in all_spectra:\n",
    "#     original_smiles = spectrum.metadata.get('smiles')\n",
    "#     if original_smiles:\n",
    "#         canonical_smiles = smiles_canonical_dict.get(original_smiles)\n",
    "#         if canonical_smiles:\n",
    "#             spectrum.set('smiles', canonical_smiles)\n",
    "#         else:\n",
    "#             print(f\"Warning: Could not canonicalize SMILES '{original_smiles}'.\")"
   ],
   "id": "3a06f2bd70dfabdf"
  },
  {
   "metadata": {
    "ExecuteTime": {
     "end_time": "2024-12-05T14:59:30.460760Z",
     "start_time": "2024-12-05T14:57:47.350740Z"
    }
   },
   "cell_type": "code",
   "source": [
    "problematic_smiles = []\n",
    "\n",
    "for spectrum in all_spectra:\n",
    "    original_smiles = spectrum.metadata.get('smiles')\n",
    "    if original_smiles:\n",
    "        canonical_smiles = smiles_canonical_dict.get(original_smiles)\n",
    "        if canonical_smiles:\n",
    "            spectrum.set('smiles', canonical_smiles)\n",
    "        else:\n",
    "            # Keep the original SMILES\n",
    "            # spectrum.set('smiles', original_smiles)\n",
    "\n",
    "            problematic_smiles.append(original_smiles)\n",
    "            print(f\"Warning: Could not canonicalize SMILES '{original_smiles}'. Keeping the original SMILES.\")"
   ],
   "id": "71ffb27ef6a92636",
   "outputs": [],
   "execution_count": 8
  },
  {
   "metadata": {
    "ExecuteTime": {
     "end_time": "2024-12-05T14:59:30.466354Z",
     "start_time": "2024-12-05T14:59:30.464144Z"
    }
   },
   "cell_type": "code",
   "source": [
    "# Initialize lists to categorize SMILES\n",
    "valid_smiles = []\n",
    "invalid_smiles = []\n",
    "\n",
    "for smi in problematic_smiles:\n",
    "    mol = Chem.MolFromSmiles(smi)\n",
    "    if mol:\n",
    "        valid_smiles.append(smi)\n",
    "    else:\n",
    "        invalid_smiles.append(smi)"
   ],
   "id": "dae8aae4ff07e644",
   "outputs": [],
   "execution_count": 9
  },
  {
   "metadata": {
    "ExecuteTime": {
     "end_time": "2024-12-05T14:59:30.479426Z",
     "start_time": "2024-12-05T14:59:30.477428Z"
    }
   },
   "cell_type": "code",
   "source": [
    "# Report the results\n",
    "print(\"\\nValidation Results:\")\n",
    "print(f\"Total problematic SMILES: {len(problematic_smiles)}\")\n",
    "print(f\"Total unqiue problematic SMILES: {len(set(problematic_smiles))}\")\n",
    "print(f\"Valid SMILES that couldn't be canonicalized: {len(valid_smiles)}\")\n",
    "print(f\"Invalid SMILES: {len(invalid_smiles)}\")"
   ],
   "id": "14272b58597a2470",
   "outputs": [
    {
     "name": "stdout",
     "output_type": "stream",
     "text": [
      "\n",
      "Validation Results:\n",
      "Total problematic SMILES: 0\n",
      "Total unqiue problematic SMILES: 0\n",
      "Valid SMILES that couldn't be canonicalized: 0\n",
      "Invalid SMILES: 0\n"
     ]
    }
   ],
   "execution_count": 10
  },
  {
   "metadata": {
    "ExecuteTime": {
     "end_time": "2024-12-05T14:59:48.524221Z",
     "start_time": "2024-12-05T14:59:48.521404Z"
    }
   },
   "cell_type": "code",
   "source": [
    "problematic_smiles_canonized = []\n",
    "for smi in set(problematic_smiles):\n",
    "    mol = Chem.MolFromSmiles(smi)\n",
    "    if mol:\n",
    "        canonical_smi = Chem.MolToSmiles(mol, canonical=True)\n",
    "        # Optionally, update the spectrum with the RDKit canonical SMILES\n",
    "        # spectrum.set('smiles', canonical_smi)\n",
    "        print(f\"Canonicalized '{smi}' to '{canonical_smi}'\")\n",
    "        problematic_smiles_canonized.append(canonical_smi)\n",
    "    else:\n",
    "        print(f\"Cannot canonicalize invalid SMILES '{smi}'.\")"
   ],
   "id": "300fef1ce17a53b8",
   "outputs": [],
   "execution_count": 12
  },
  {
   "metadata": {},
   "cell_type": "markdown",
   "source": [
    "# Corrected\n",
    "\n",
    "Canonicalized 'CC(C)CN(CC(=O)N1CCN(CC(OCc2cc3ccccc3cc2)c2c(Cl)cc(Cl)cc2)CC1)CC(C)C' to 'CC(C)CN(CC(=O)N1CCN(CC(OCc2ccc3ccccc3c2)c2ccc(Cl)cc2Cl)CC1)CC(C)C'\n",
    "Canonicalized 'CC1CCC2(O1)C(C)(C)CC(O[C@@H]1O[C@H](CO[C@@H]3OC[C@](O)(CO)[C@H]3O)[C@@H](O)[C@H](O)[C@H]1O)CC2(C)O' to 'CC1CCC2(O1)C(C)(C)CC(O[C@@H]1O[C@H](CO[C@@H]3OC[C@](O)(CO)[C@H]3O)[C@@H](O)[C@H](O)[C@H]1O)CC2(C)O'\n",
    "Canonicalized 'CCN(CC)CCOC(=O)C1(c2cc(OC)c(OC)cc2)CCCC1' to 'CCN(CC)CCOC(=O)C1(c2ccc(OC)c(OC)c2)CCCC1'"
   ],
   "id": "25f60a1d67264a0a"
  },
  {
   "metadata": {
    "ExecuteTime": {
     "end_time": "2024-12-05T14:11:56.024939Z",
     "start_time": "2024-12-05T14:11:53.698145Z"
    }
   },
   "cell_type": "code",
   "source": "problematic_pubchcem_canonical = standardize_smiles(problematic_smiles_canonized)",
   "id": "9c2d2e4e2c961c0b",
   "outputs": [],
   "execution_count": 15
  },
  {
   "metadata": {
    "ExecuteTime": {
     "end_time": "2024-12-05T14:12:28.936861Z",
     "start_time": "2024-12-05T14:12:28.931998Z"
    }
   },
   "cell_type": "code",
   "source": "problematic_pubchcem_canonical",
   "id": "5cdb7cdd6454289",
   "outputs": [
    {
     "data": {
      "text/plain": [
       "['CC(C)CN(CC(C)C)CC(=O)N1CCN(CC1)CC(C2=C(C=C(C=C2)Cl)Cl)OCC3=CC4=CC=CC=C4C=C3',\n",
       " 'CC1CCC2(O1)C(CC(CC2(C)O)O[C@H]3[C@@H]([C@H]([C@@H]([C@H](O3)CO[C@H]4[C@@H]([C@](CO4)(CO)O)O)O)O)O)(C)C',\n",
       " 'CCN(CC)CCOC(=O)C1(CCCC1)C2=CC(=C(C=C2)OC)OC']"
      ]
     },
     "execution_count": 18,
     "metadata": {},
     "output_type": "execute_result"
    }
   ],
   "execution_count": 18
  },
  {
   "metadata": {},
   "cell_type": "code",
   "outputs": [],
   "execution_count": null,
   "source": "",
   "id": "536faec2d02e4b30"
  },
  {
   "metadata": {
    "ExecuteTime": {
     "end_time": "2024-12-05T14:12:34.446517Z",
     "start_time": "2024-12-05T14:12:34.442562Z"
    }
   },
   "cell_type": "code",
   "source": "problematic_smiles_canonized",
   "id": "dd98817bcfdc3e8b",
   "outputs": [
    {
     "data": {
      "text/plain": [
       "['CC(C)CN(CC(=O)N1CCN(CC(OCc2ccc3ccccc3c2)c2ccc(Cl)cc2Cl)CC1)CC(C)C',\n",
       " 'CC1CCC2(O1)C(C)(C)CC(O[C@@H]1O[C@H](CO[C@@H]3OC[C@](O)(CO)[C@H]3O)[C@@H](O)[C@H](O)[C@H]1O)CC2(C)O',\n",
       " 'CCN(CC)CCOC(=O)C1(c2ccc(OC)c(OC)c2)CCCC1']"
      ]
     },
     "execution_count": 19,
     "metadata": {},
     "output_type": "execute_result"
    }
   ],
   "execution_count": 19
  },
  {
   "metadata": {
    "ExecuteTime": {
     "end_time": "2024-12-05T14:27:40.258091Z",
     "start_time": "2024-12-05T14:27:40.254289Z"
    }
   },
   "cell_type": "code",
   "source": [
    "def handle_problematic_smiles(problematic_smiles):\n",
    "    \"\"\"\n",
    "    Takes a list of problematic SMILES strings, validates and canonicalizes them using RDKit,\n",
    "    then sends the RDKit-canonicalized SMILES to PubChem for standardization.\n",
    "    Returns a dictionary mapping the original problematic SMILES to the PubChem-canonicalized SMILES.\n",
    "    Args:\n",
    "        problematic_smiles: List of SMILES strings that could not be canonicalized initially.\n",
    "\n",
    "    Returns:\n",
    "        Dictionary mapping original problematic SMILES to PubChem-canonicalized SMILES.\n",
    "    \"\"\"\n",
    "\n",
    "    unique_problematic_smiles = set(problematic_smiles)\n",
    "    mapping_dict = {}\n",
    "\n",
    "    for smi in unique_problematic_smiles:\n",
    "        mol = Chem.MolFromSmiles(smi)\n",
    "        if mol:\n",
    "            rdkit_canonical_smi = Chem.MolToSmiles(mol, canonical=True)\n",
    "            try:\n",
    "                pubchem_canonical_smi = standardize_smiles(rdkit_canonical_smi)\n",
    "                if isinstance(pubchem_canonical_smi, list):\n",
    "                    pubchem_canonical_smi = pubchem_canonical_smi[0]\n",
    "                mapping_dict[smi] = pubchem_canonical_smi\n",
    "                print(f\"Canonicalized '{smi}' to '{pubchem_canonical_smi}'\")\n",
    "            except Exception as e:\n",
    "                print(f\"Error standardizing SMILES '{smi}' after RDKit canonicalization: {e}\")\n",
    "                mapping_dict[smi] = None\n",
    "        else:\n",
    "            print(f\"Cannot canonicalize invalid SMILES '{smi}'.\")\n",
    "            mapping_dict[smi] = None\n",
    "\n",
    "    return mapping_dict"
   ],
   "id": "6a485cfbc77754ae",
   "outputs": [],
   "execution_count": 20
  },
  {
   "metadata": {
    "ExecuteTime": {
     "end_time": "2024-12-05T14:28:40.328769Z",
     "start_time": "2024-12-05T14:28:33.400495Z"
    }
   },
   "cell_type": "code",
   "source": "problematic_mapping_dict = handle_problematic_smiles(problematic_smiles)",
   "id": "11e23f6e35d0a4ca",
   "outputs": [
    {
     "name": "stdout",
     "output_type": "stream",
     "text": [
      "Canonicalized 'CC(C)CN(CC(=O)N1CCN(CC(OCc2cc3ccccc3cc2)c2c(Cl)cc(Cl)cc2)CC1)CC(C)C' to 'CC(C)CN(CC(C)C)CC(=O)N1CCN(CC1)CC(C2=C(C=C(C=C2)Cl)Cl)OCC3=CC4=CC=CC=C4C=C3'\n",
      "Canonicalized 'CC1CCC2(O1)C(C)(C)CC(O[C@@H]1O[C@H](CO[C@@H]3OC[C@](O)(CO)[C@H]3O)[C@@H](O)[C@H](O)[C@H]1O)CC2(C)O' to 'CC1CCC2(O1)C(CC(CC2(C)O)O[C@H]3[C@@H]([C@H]([C@@H]([C@H](O3)CO[C@H]4[C@@H]([C@](CO4)(CO)O)O)O)O)O)(C)C'\n",
      "Canonicalized 'CCN(CC)CCOC(=O)C1(c2cc(OC)c(OC)cc2)CCCC1' to 'CCN(CC)CCOC(=O)C1(CCCC1)C2=CC(=C(C=C2)OC)OC'\n"
     ]
    }
   ],
   "execution_count": 21
  },
  {
   "metadata": {
    "ExecuteTime": {
     "end_time": "2024-12-05T14:38:00.842277Z",
     "start_time": "2024-12-05T14:38:00.838973Z"
    }
   },
   "cell_type": "code",
   "source": [
    "# Create a copy of the larger dictionary to avoid modifying the original\n",
    "merged_canonical = smiles_canonical_dict.copy()"
   ],
   "id": "58ac0ce49db7ebff",
   "outputs": [],
   "execution_count": 22
  },
  {
   "metadata": {
    "ExecuteTime": {
     "end_time": "2024-12-05T14:38:01.690410Z",
     "start_time": "2024-12-05T14:38:01.687161Z"
    }
   },
   "cell_type": "code",
   "source": "merged_canonical.update(problematic_mapping_dict)",
   "id": "522021951583fb42",
   "outputs": [],
   "execution_count": 23
  },
  {
   "metadata": {
    "ExecuteTime": {
     "end_time": "2024-12-05T14:38:02.608307Z",
     "start_time": "2024-12-05T14:38:02.586656Z"
    }
   },
   "cell_type": "code",
   "source": [
    "output_merged_path = \"/Users/macbook/CODE/Majer:MassSpecGym/data/MSn/smiles_canonicalization_all.json\"\n",
    "# with open(output_merged_path, 'w') as outfile:\n",
    "#     json.dump(merged_canonical, outfile, indent=4)"
   ],
   "id": "10fbbab80ca35032",
   "outputs": [],
   "execution_count": 24
  },
  {
   "metadata": {
    "ExecuteTime": {
     "end_time": "2024-12-05T14:38:13.444182Z",
     "start_time": "2024-12-05T14:38:13.441489Z"
    }
   },
   "cell_type": "code",
   "source": "len(merged_canonical)",
   "id": "ba4e406be78756bb",
   "outputs": [
    {
     "data": {
      "text/plain": [
       "14008"
      ]
     },
     "execution_count": 25,
     "metadata": {},
     "output_type": "execute_result"
    }
   ],
   "execution_count": 25
  },
  {
   "metadata": {
    "ExecuteTime": {
     "end_time": "2024-12-05T15:04:04.839138Z",
     "start_time": "2024-12-05T15:02:34.677921Z"
    }
   },
   "cell_type": "code",
   "source": [
    "# Define the output file name with the current date\n",
    "current_date = datetime.now().strftime(\"%Y%m%d\")\n",
    "output_file_name = f\"{current_date}_msn_library_pos_all_lib_MSn.mgf\"\n",
    "output_file_path = os.path.join(SAVE_PATH, output_file_name)\n",
    "\n",
    "# save_as_mgf(all_spectra, output_file_path)"
   ],
   "id": "1b2bd0f10807b27e",
   "outputs": [
    {
     "name": "stdout",
     "output_type": "stream",
     "text": [
      "dict_keys(['spectra'])\n"
     ]
    }
   ],
   "execution_count": 13
  },
  {
   "metadata": {
    "ExecuteTime": {
     "end_time": "2024-09-17T10:27:42.705475Z",
     "start_time": "2024-09-17T10:16:52.378269Z"
    }
   },
   "cell_type": "code",
   "outputs": [
    {
     "name": "stdout",
     "output_type": "stream",
     "text": [
      "Loaded spectra from saved file: 803405\n",
      "Validation successful: Combined and loaded spectra counts match.\n"
     ]
    }
   ],
   "execution_count": 7,
   "source": [
    "# Load the saved file to verify the number of spectra\n",
    "loaded_spectra = list(load_from_mgf(output_file_path))\n",
    "loaded_count = len(loaded_spectra)\n",
    "\n",
    "# Compare counts\n",
    "print(f\"Loaded spectra from saved file: {loaded_count}\")\n",
    "\n",
    "if combined_count == loaded_count:\n",
    "    print(\"Validation successful: Combined and loaded spectra counts match.\")\n",
    "else:\n",
    "    print(\"Validation failed: Counts do not match!\")\n",
    "    print(f\"Combined count: {combined_count}, Loaded count: {loaded_count}\")"
   ],
   "id": "3aaa70aee6671333"
  },
  {
   "metadata": {
    "ExecuteTime": {
     "end_time": "2024-09-17T10:30:09.223663Z",
     "start_time": "2024-09-17T10:30:09.218647Z"
    }
   },
   "cell_type": "code",
   "outputs": [
    {
     "data": {
      "text/plain": [
       "{'charge': 1,\n",
       " 'description': 'NIH NPAC ACONN collection of NP',\n",
       " 'formula': 'C19H22O6',\n",
       " 'inchi': 'InChI=1S/C19H22O6/c1-22-13-10-15(21)19(18(11-13)25-4)14(20)7-5-12-6-8-16(23-2)17(9-12)24-3/h6,8-11,21H,5,7H2,1-4H3',\n",
       " 'smiles': 'COc1cc(O)c(C(=O)CCc2cc(OC)c(OC)cc2)c(OC)c1',\n",
       " 'feature_id': '-1',\n",
       " 'adduct': '[M+H]+',\n",
       " 'spectype': 'ALL_MSN_TO_PSEUDO_MS2',\n",
       " 'fragmentation_method': 'HCD',\n",
       " 'isolation_window': '1.2000000476840569',\n",
       " 'acquisition': 'Crude',\n",
       " 'instrument_type': 'Orbitrap',\n",
       " 'ims_type': 'none',\n",
       " 'ion_source': 'ESI',\n",
       " 'ionmode': 'positive',\n",
       " 'dataset_id': 'MSVPLACEHOLDERID',\n",
       " 'usi': 'mzspec:MSVPLACEHOLDERID:20230404_pluskal_nih_01P_A3_id_positive.mzML:-1',\n",
       " 'scans': '-1',\n",
       " 'precursor_purity': '1.0',\n",
       " 'quality_chimeric': 'PASSED',\n",
       " 'quality_explained_intensity': '0.97712445',\n",
       " 'quality_explained_signals': '0.8',\n",
       " 'collision_energy': '60.0',\n",
       " 'num_peaks': '135',\n",
       " 'compound_name': 'MEGxp0_001769',\n",
       " 'parent_mass': '346.141638',\n",
       " 'inchi_aux': 'MQEOTHTYNCMSAN-UHFFFAOYSA-N',\n",
       " 'ms_level': '2',\n",
       " 'retention_time': 37.17,\n",
       " 'principal_investigator': 'Tomas Pluskal',\n",
       " 'data_collector': 'Corinna Brungs',\n",
       " 'precursor_mz': 347.14891,\n",
       " 'identifier': '0000001_0000000'}"
      ]
     },
     "execution_count": 8,
     "metadata": {},
     "output_type": "execute_result"
    }
   ],
   "execution_count": 8,
   "source": "loaded_spectra[0].metadata_dict()",
   "id": "e9e9589726894444"
  },
  {
   "metadata": {
    "ExecuteTime": {
     "end_time": "2024-12-05T07:11:11.287004Z",
     "start_time": "2024-12-05T07:11:09.734433Z"
    }
   },
   "cell_type": "code",
   "outputs": [],
   "execution_count": 11,
   "source": "",
   "id": "b517d44276eae7bf"
  },
  {
   "metadata": {},
   "cell_type": "code",
   "outputs": [],
   "execution_count": null,
   "source": "\n",
   "id": "1299d617ff198dd3"
  },
  {
   "metadata": {},
   "cell_type": "code",
   "outputs": [],
   "execution_count": null,
   "source": "",
   "id": "d39949548d692ab8"
  }
 ],
 "metadata": {
  "kernelspec": {
   "display_name": "Python 3",
   "language": "python",
   "name": "python3"
  },
  "language_info": {
   "codemirror_mode": {
    "name": "ipython",
    "version": 2
   },
   "file_extension": ".py",
   "mimetype": "text/x-python",
   "name": "python",
   "nbconvert_exporter": "python",
   "pygments_lexer": "ipython2",
   "version": "2.7.6"
  }
 },
 "nbformat": 4,
 "nbformat_minor": 5
}
