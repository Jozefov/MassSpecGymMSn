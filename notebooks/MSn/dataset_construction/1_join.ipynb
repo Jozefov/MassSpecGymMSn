{
 "cells": [
  {
   "cell_type": "code",
   "id": "initial_id",
   "metadata": {
    "collapsed": true,
    "ExecuteTime": {
     "end_time": "2024-12-11T15:50:13.298475Z",
     "start_time": "2024-12-11T15:50:10.308984Z"
    }
   },
   "source": [
    "import os\n",
    "import numpy as np\n",
    "from datetime import datetime\n",
    "from matchms import Spectrum\n",
    "from matchms.importing import load_from_mgf\n",
    "from matchms.exporting import save_as_mgf\n",
    "from collections import Counter\n",
    "from massspecgym.utils import standardize_smiles\n",
    "from massspecgym.tools.data import canonicalize_smiles_in_spectra, handle_problematic_smiles\n",
    "import os\n",
    "import json\n",
    "import time\n",
    "import typing as T\n",
    "from pathlib import Path\n",
    "from matchms import Spectrum\n",
    "from rdkit import Chem"
   ],
   "outputs": [],
   "execution_count": 1
  },
  {
   "metadata": {
    "ExecuteTime": {
     "end_time": "2024-12-11T15:50:13.304791Z",
     "start_time": "2024-12-11T15:50:13.302977Z"
    }
   },
   "cell_type": "code",
   "source": [
    "FILE_1 = \"20231031_nihnp_library_pos_all_lib_MSn.mgf\"\n",
    "FILE_2 = \"20231130_mcescaf_library_pos_all_lib_MSn.mgf\"\n",
    "FILE_3 = \"20231130_otavapep_library_pos_all_lib_MSn.mgf\"\n",
    "FILE_4 = \"20240411_mcebio_library_pos_all_lib_MSn.mgf\""
   ],
   "id": "9e01f8d4b514313f",
   "outputs": [],
   "execution_count": 2
  },
  {
   "metadata": {
    "ExecuteTime": {
     "end_time": "2024-12-11T15:50:13.342071Z",
     "start_time": "2024-12-11T15:50:13.340394Z"
    }
   },
   "cell_type": "code",
   "source": [
    "BASE_PATH = \"/Users/macbook/CODE/MS/data/MSn/ALL\"\n",
    "SAVE_PATH = \"../../../data/MSn\""
   ],
   "id": "63a25e487519ac23",
   "outputs": [],
   "execution_count": 3
  },
  {
   "metadata": {
    "ExecuteTime": {
     "end_time": "2024-12-11T15:50:14.490766Z",
     "start_time": "2024-12-11T15:50:14.488764Z"
    }
   },
   "cell_type": "code",
   "source": [
    "file_paths = [os.path.join(BASE_PATH, FILE_1),\n",
    "              os.path.join(BASE_PATH, FILE_2),\n",
    "              os.path.join(BASE_PATH, FILE_3),\n",
    "              os.path.join(BASE_PATH, FILE_4)]"
   ],
   "id": "79450dc5b534fe44",
   "outputs": [],
   "execution_count": 4
  },
  {
   "metadata": {},
   "cell_type": "code",
   "source": [
    "all_spectra = []\n",
    "spectra_counts = {}\n",
    "\n",
    "# Initialize counters\n",
    "root_id_counter = 0  # Counter for root MS2 spectra\n",
    "fragment_id_counter = 0  # Counter for fragments under each root\n",
    "\n",
    "\n",
    "for file_path in file_paths:\n",
    "    spectra = list(load_from_mgf(file_path))\n",
    "    spectra_counts[file_path] = len(spectra)\n",
    "    idx_list = []  # To store IDENTIFIERs for validation\n",
    "\n",
    "    for spectrum in spectra:\n",
    "        ms_level = int(spectrum.get('ms_level'))\n",
    "        if ms_level == 2:\n",
    "            root_id_counter += 1\n",
    "            fragment_id_counter = 0  # Reset fragment counter for new root\n",
    "            # First part of IDENTIFIER: root ID\n",
    "            root_id = f\"{root_id_counter:07d}\"\n",
    "            # Second part of IDENTIFIER: fragment ID (for root, it's '0000000')\n",
    "            fragment_id = f\"{fragment_id_counter:07d}\"\n",
    "            idx = f\"{root_id}_{fragment_id}\"\n",
    "            spectrum.set('IDENTIFIER', idx)\n",
    "        else:\n",
    "            fragment_id_counter += 1\n",
    "            # Use the current root_id and increment fragment_id_counter\n",
    "            fragment_id = f\"{fragment_id_counter:07d}\"\n",
    "            idx = f\"{root_id}_{fragment_id}\"\n",
    "            spectrum.set('IDENTIFIER', idx)\n",
    "        idx_list.append(idx)\n",
    "\n",
    "    all_spectra.extend(spectra)\n",
    "\n",
    "for file, count in spectra_counts.items():\n",
    "    print(f\"{file}: {count} spectra\")\n",
    "\n",
    "combined_count = len(all_spectra)\n",
    "print(f\"Total combined spectra: {combined_count}\")"
   ],
   "id": "1b64ce33939d06b9",
   "outputs": [],
   "execution_count": null
  },
  {
   "metadata": {},
   "cell_type": "markdown",
   "source": "# Retrieve canonical version",
   "id": "30671730993c24d5"
  },
  {
   "metadata": {
    "ExecuteTime": {
     "end_time": "2024-12-11T15:56:03.126767Z",
     "start_time": "2024-12-11T15:55:19.377278Z"
    }
   },
   "cell_type": "code",
   "source": [
    "save_progress_path = \"/Users/macbook/CODE/Majer:MassSpecGym/data/MSn/smiles_canonicalization_all.json\"\n",
    "\n",
    "smiles_canonical_dict = canonicalize_smiles_in_spectra(\n",
    "    spectra_list=all_spectra,\n",
    "    standardize_smiles_func=standardize_smiles,\n",
    "    save_path=save_progress_path,\n",
    "    batch_size=500,\n",
    "    max_retries=30,\n",
    "    delay_between_retries=20\n",
    ")"
   ],
   "id": "20805c0035872343",
   "outputs": [
    {
     "name": "stdout",
     "output_type": "stream",
     "text": [
      "Total unique SMILES to process: 14008\n",
      "Resuming from saved progress at /Users/macbook/CODE/Majer:MassSpecGym/data/MSn/smiles_canonicalization_all.json\n",
      "SMILES remaining to process: 0\n",
      "Canonicalization completed.\n"
     ]
    }
   ],
   "execution_count": 6
  },
  {
   "metadata": {
    "ExecuteTime": {
     "end_time": "2024-12-11T15:57:29.548562Z",
     "start_time": "2024-12-11T15:56:03.136859Z"
    }
   },
   "cell_type": "code",
   "source": [
    "problematic_smiles = []\n",
    "\n",
    "for spectrum in all_spectra:\n",
    "    original_smiles = spectrum.metadata.get('smiles')\n",
    "    if original_smiles:\n",
    "        canonical_smiles = smiles_canonical_dict.get(original_smiles)\n",
    "        if canonical_smiles:\n",
    "            spectrum.set('smiles', canonical_smiles)\n",
    "        else:\n",
    "            # Keep the original SMILES\n",
    "            # spectrum.set('smiles', original_smiles)\n",
    "\n",
    "            problematic_smiles.append(original_smiles)\n",
    "            print(f\"Warning: Could not canonicalize SMILES '{original_smiles}'. Keeping the original SMILES.\")"
   ],
   "id": "71ffb27ef6a92636",
   "outputs": [],
   "execution_count": 7
  },
  {
   "metadata": {
    "ExecuteTime": {
     "end_time": "2024-12-11T15:57:29.560743Z",
     "start_time": "2024-12-11T15:57:29.558803Z"
    }
   },
   "cell_type": "code",
   "source": [
    "# Initialize lists to categorize SMILES\n",
    "valid_smiles = []\n",
    "invalid_smiles = []\n",
    "\n",
    "for smi in problematic_smiles:\n",
    "    mol = Chem.MolFromSmiles(smi)\n",
    "    if mol:\n",
    "        valid_smiles.append(smi)\n",
    "    else:\n",
    "        invalid_smiles.append(smi)"
   ],
   "id": "dae8aae4ff07e644",
   "outputs": [],
   "execution_count": 8
  },
  {
   "metadata": {
    "ExecuteTime": {
     "end_time": "2024-12-11T15:57:29.601546Z",
     "start_time": "2024-12-11T15:57:29.599392Z"
    }
   },
   "cell_type": "code",
   "source": [
    "# Report the results\n",
    "print(\"\\nValidation Results:\")\n",
    "print(f\"Total problematic SMILES: {len(problematic_smiles)}\")\n",
    "print(f\"Total unqiue problematic SMILES: {len(set(problematic_smiles))}\")\n",
    "print(f\"Valid SMILES that couldn't be canonicalized: {len(valid_smiles)}\")\n",
    "print(f\"Invalid SMILES: {len(invalid_smiles)}\")"
   ],
   "id": "14272b58597a2470",
   "outputs": [
    {
     "name": "stdout",
     "output_type": "stream",
     "text": [
      "\n",
      "Validation Results:\n",
      "Total problematic SMILES: 0\n",
      "Total unqiue problematic SMILES: 0\n",
      "Valid SMILES that couldn't be canonicalized: 0\n",
      "Invalid SMILES: 0\n"
     ]
    }
   ],
   "execution_count": 9
  },
  {
   "metadata": {
    "ExecuteTime": {
     "end_time": "2024-12-11T15:57:29.619198Z",
     "start_time": "2024-12-11T15:57:29.617084Z"
    }
   },
   "cell_type": "code",
   "source": [
    "# PubChem non canonized go to RDKit, undergo canonization and returned to PubChem to undergo canonization again with PubChem\n",
    "problematic_smiles_canonized = []\n",
    "for smi in set(problematic_smiles):\n",
    "    mol = Chem.MolFromSmiles(smi)\n",
    "    if mol:\n",
    "        canonical_smi = Chem.MolToSmiles(mol, canonical=True)\n",
    "        print(f\"Canonicalized '{smi}' to '{canonical_smi}'\")\n",
    "        problematic_smiles_canonized.append(canonical_smi)\n",
    "    else:\n",
    "        print(f\"Cannot canonicalize invalid SMILES '{smi}'.\")"
   ],
   "id": "300fef1ce17a53b8",
   "outputs": [],
   "execution_count": 10
  },
  {
   "metadata": {},
   "cell_type": "markdown",
   "source": [
    "# Corrected\n",
    "Problematic for PubChem, original to RDKit canonized:\n",
    "\n",
    "Canonicalized ```CC(C)CN(CC(=O)N1CCN(CC(OCc2cc3ccccc3cc2)c2c(Cl)cc(Cl)cc2)CC1)CC(C)C to CC(C)CN(CC(=O)N1CCN(CC(OCc2ccc3ccccc3c2)c2ccc(Cl)cc2Cl)CC1)CC(C)C```\n",
    "\n",
    "Canonicalized ```CC1CCC2(O1)C(C)(C)CC(O[C@@H]1O[C@H](CO[C@@H]3OC[C@](O)(CO)[C@H]3O)[C@@H](O)[C@H](O)[C@H]1O)CC2(C)O to CC1CCC2(O1)C(C)(C)CC(O[C@@H]1O[C@H](CO[C@@H]3OC[C@](O)(CO)[C@H]3O)[C@@H](O)[C@H](O)[C@H]1O)CC2(C)O```\n",
    "\n",
    "Canonicalized ```CCN(CC)CCOC(=O)C1(c2cc(OC)c(OC)cc2)CCCC1 to CCN(CC)CCOC(=O)C1(c2ccc(OC)c(OC)c2)CCCC1```"
   ],
   "id": "25f60a1d67264a0a"
  },
  {
   "metadata": {
    "ExecuteTime": {
     "end_time": "2024-12-05T14:11:56.024939Z",
     "start_time": "2024-12-05T14:11:53.698145Z"
    }
   },
   "cell_type": "code",
   "source": [
    "# Undergo PubChem canonization\n",
    "problematic_pubchcem_canonical = standardize_smiles(problematic_smiles_canonized)"
   ],
   "id": "9c2d2e4e2c961c0b",
   "outputs": [],
   "execution_count": 15
  },
  {
   "metadata": {
    "ExecuteTime": {
     "end_time": "2024-12-05T14:12:28.936861Z",
     "start_time": "2024-12-05T14:12:28.931998Z"
    }
   },
   "cell_type": "code",
   "source": [
    "# PubChem canonized\n",
    "# problematic_pubchcem_canonical"
   ],
   "id": "5cdb7cdd6454289",
   "outputs": [
    {
     "data": {
      "text/plain": [
       "['CC(C)CN(CC(C)C)CC(=O)N1CCN(CC1)CC(C2=C(C=C(C=C2)Cl)Cl)OCC3=CC4=CC=CC=C4C=C3',\n",
       " 'CC1CCC2(O1)C(CC(CC2(C)O)O[C@H]3[C@@H]([C@H]([C@@H]([C@H](O3)CO[C@H]4[C@@H]([C@](CO4)(CO)O)O)O)O)O)(C)C',\n",
       " 'CCN(CC)CCOC(=O)C1(CCCC1)C2=CC(=C(C=C2)OC)OC']"
      ]
     },
     "execution_count": 18,
     "metadata": {},
     "output_type": "execute_result"
    }
   ],
   "execution_count": 18
  },
  {
   "metadata": {},
   "cell_type": "markdown",
   "source": [
    "```CC(C)CN(CC(C)C)CC(=O)N1CCN(CC1)CC(C2=C(C=C(C=C2)Cl)Cl)OCC3=CC4=CC=CC=C4C=C3```\n",
    "\n",
    " ```CC1CCC2(O1)C(CC(CC2(C)O)O[C@H]3[C@@H]([C@H]([C@@H]([C@H](O3)CO[C@H]4[C@@H]([C@](CO4)(CO)O)O)O)O)O)(C)C```\n",
    " \n",
    " ```CCN(CC)CCOC(=O)C1(CCCC1)C2=CC(=C(C=C2)OC)OC```"
   ],
   "id": "bd0cffcae2bfd019"
  },
  {
   "metadata": {
    "ExecuteTime": {
     "end_time": "2024-12-05T14:12:34.446517Z",
     "start_time": "2024-12-05T14:12:34.442562Z"
    }
   },
   "cell_type": "code",
   "source": [
    "# RDKit canonized\n",
    "# problematic_smiles_canonized"
   ],
   "id": "dd98817bcfdc3e8b",
   "outputs": [
    {
     "data": {
      "text/plain": [
       "['CC(C)CN(CC(=O)N1CCN(CC(OCc2ccc3ccccc3c2)c2ccc(Cl)cc2Cl)CC1)CC(C)C',\n",
       " 'CC1CCC2(O1)C(C)(C)CC(O[C@@H]1O[C@H](CO[C@@H]3OC[C@](O)(CO)[C@H]3O)[C@@H](O)[C@H](O)[C@H]1O)CC2(C)O',\n",
       " 'CCN(CC)CCOC(=O)C1(c2ccc(OC)c(OC)c2)CCCC1']"
      ]
     },
     "execution_count": 19,
     "metadata": {},
     "output_type": "execute_result"
    }
   ],
   "execution_count": 19
  },
  {
   "metadata": {},
   "cell_type": "markdown",
   "source": [
    "``` CC(C)CN(CC(=O)N1CCN(CC(OCc2ccc3ccccc3c2)c2ccc(Cl)cc2Cl)CC1)CC(C)C```\n",
    "\n",
    " ```CC1CCC2(O1)C(C)(C)CC(O[C@@H]1O[C@H](CO[C@@H]3OC[C@](O)(CO)[C@H]3O)[C@@H](O)[C@H](O)[C@H]1O)CC2(C)O```\n",
    " \n",
    " ```CCN(CC)CCOC(=O)C1(c2ccc(OC)c(OC)c2)CCCC1```"
   ],
   "id": "cc7b73b0d136f39d"
  },
  {
   "metadata": {
    "ExecuteTime": {
     "end_time": "2024-12-11T15:58:03.419245Z",
     "start_time": "2024-12-11T15:58:03.416955Z"
    }
   },
   "cell_type": "code",
   "source": "problematic_mapping_dict = handle_problematic_smiles(problematic_smiles, standardize_smiles)",
   "id": "11e23f6e35d0a4ca",
   "outputs": [],
   "execution_count": 13
  },
  {
   "metadata": {},
   "cell_type": "markdown",
   "source": [
    "#### Result:\n",
    "\n",
    "Canonicalized ```CC(C)CN(CC(=O)N1CCN(CC(OCc2cc3ccccc3cc2)c2c(Cl)cc(Cl)cc2)CC1)CC(C)C``` to ```CC(C)CN(CC(C)C)CC(=O)N1CCN(CC1)CC(C2=C(C=C(C=C2)Cl)Cl)OCC3=CC4=CC=CC=C4C=C3```\n",
    "\n",
    "Canonicalized ```CC1CCC2(O1)C(C)(C)CC(O[C@@H]1O[C@H](CO[C@@H]3OC[C@](O)(CO)[C@H]3O)[C@@H](O)[C@H](O)[C@H]1O)CC2(C)O``` to ```CC1CCC2(O1)C(CC(CC2(C)O)O[C@H]3[C@@H]([C@H]([C@@H]([C@H](O3)CO[C@H]4[C@@H]([C@](CO4)(CO)O)O)O)O)O)(C)C```\n",
    "\n",
    "Canonicalized ```CCN(CC)CCOC(=O)C1(c2cc(OC)c(OC)cc2)CCCC1``` to ```CCN(CC)CCOC(=O)C1(CCCC1)C2=CC(=C(C=C2)OC)OC```\n"
   ],
   "id": "d6912a8ad0cbb5b0"
  },
  {
   "metadata": {
    "ExecuteTime": {
     "end_time": "2024-12-11T15:58:05.784774Z",
     "start_time": "2024-12-11T15:58:05.781961Z"
    }
   },
   "cell_type": "code",
   "source": [
    "# Create a copy of the larger dictionary to avoid modifying the original\n",
    "merged_canonical = smiles_canonical_dict.copy()"
   ],
   "id": "58ac0ce49db7ebff",
   "outputs": [],
   "execution_count": 14
  },
  {
   "metadata": {
    "ExecuteTime": {
     "end_time": "2024-12-11T15:58:06.207171Z",
     "start_time": "2024-12-11T15:58:06.205603Z"
    }
   },
   "cell_type": "code",
   "source": "merged_canonical.update(problematic_mapping_dict)",
   "id": "522021951583fb42",
   "outputs": [],
   "execution_count": 15
  },
  {
   "metadata": {
    "ExecuteTime": {
     "end_time": "2024-12-11T15:58:14.394699Z",
     "start_time": "2024-12-11T15:58:14.391624Z"
    }
   },
   "cell_type": "code",
   "source": [
    "output_merged_path = \"/Users/macbook/CODE/Majer:MassSpecGym/data/MSn/smiles_canonicalization_all.json\"\n",
    "# with open(output_merged_path, 'w') as outfile:\n",
    "#     json.dump(merged_canonical, outfile, indent=4)"
   ],
   "id": "10fbbab80ca35032",
   "outputs": [],
   "execution_count": 16
  },
  {
   "metadata": {
    "ExecuteTime": {
     "end_time": "2024-12-11T15:58:16.055090Z",
     "start_time": "2024-12-11T15:58:16.050227Z"
    }
   },
   "cell_type": "code",
   "source": "len(merged_canonical)",
   "id": "ba4e406be78756bb",
   "outputs": [
    {
     "data": {
      "text/plain": [
       "14008"
      ]
     },
     "execution_count": 17,
     "metadata": {},
     "output_type": "execute_result"
    }
   ],
   "execution_count": 17
  },
  {
   "metadata": {
    "ExecuteTime": {
     "end_time": "2024-12-11T15:59:03.345002Z",
     "start_time": "2024-12-11T15:58:19.015797Z"
    }
   },
   "cell_type": "code",
   "source": [
    "# Update again spectra object with canonized SMILES\n",
    "problematic_smiles = []\n",
    "\n",
    "for spectrum in all_spectra:\n",
    "    original_smiles = spectrum.metadata.get('smiles')\n",
    "    if original_smiles:\n",
    "        canonical_smiles = problematic_mapping_dict.get(original_smiles)\n",
    "        if canonical_smiles:\n",
    "            spectrum.set('smiles', canonical_smiles)\n",
    "            print(f\"Canonicalize SMILES '{original_smiles}' to PubChem-canonicalized SMILES {canonical_smiles}\")\n"
   ],
   "id": "b97196a61c7c49e7",
   "outputs": [],
   "execution_count": 18
  },
  {
   "metadata": {
    "ExecuteTime": {
     "end_time": "2024-12-11T16:00:20.621563Z",
     "start_time": "2024-12-11T15:59:03.350045Z"
    }
   },
   "cell_type": "code",
   "source": [
    "# Define the output file name with the current date\n",
    "current_date = datetime.now().strftime(\"%Y%m%d\")\n",
    "output_file_name = f\"{current_date}_msn_library_pos_all_lib_MSn.mgf\"\n",
    "output_file_path = os.path.join(SAVE_PATH, output_file_name)\n",
    "\n",
    "# save_as_mgf(all_spectra, output_file_path)"
   ],
   "id": "1b2bd0f10807b27e",
   "outputs": [
    {
     "name": "stdout",
     "output_type": "stream",
     "text": [
      "dict_keys(['spectra'])\n"
     ]
    }
   ],
   "execution_count": 19
  },
  {
   "metadata": {
    "ExecuteTime": {
     "end_time": "2024-09-17T10:27:42.705475Z",
     "start_time": "2024-09-17T10:16:52.378269Z"
    }
   },
   "cell_type": "code",
   "outputs": [
    {
     "name": "stdout",
     "output_type": "stream",
     "text": [
      "Loaded spectra from saved file: 803405\n",
      "Validation successful: Combined and loaded spectra counts match.\n"
     ]
    }
   ],
   "execution_count": 7,
   "source": [
    "# Load the saved file to verify the number of spectra\n",
    "loaded_spectra = list(load_from_mgf(output_file_path))\n",
    "loaded_count = len(loaded_spectra)\n",
    "\n",
    "# Compare counts\n",
    "print(f\"Loaded spectra from saved file: {loaded_count}\")\n",
    "\n",
    "if combined_count == loaded_count:\n",
    "    print(\"Validation successful: Combined and loaded spectra counts match.\")\n",
    "else:\n",
    "    print(\"Validation failed: Counts do not match!\")\n",
    "    print(f\"Combined count: {combined_count}, Loaded count: {loaded_count}\")"
   ],
   "id": "3aaa70aee6671333"
  },
  {
   "metadata": {
    "ExecuteTime": {
     "end_time": "2024-09-17T10:30:09.223663Z",
     "start_time": "2024-09-17T10:30:09.218647Z"
    }
   },
   "cell_type": "code",
   "outputs": [
    {
     "data": {
      "text/plain": [
       "{'charge': 1,\n",
       " 'description': 'NIH NPAC ACONN collection of NP',\n",
       " 'formula': 'C19H22O6',\n",
       " 'inchi': 'InChI=1S/C19H22O6/c1-22-13-10-15(21)19(18(11-13)25-4)14(20)7-5-12-6-8-16(23-2)17(9-12)24-3/h6,8-11,21H,5,7H2,1-4H3',\n",
       " 'smiles': 'COc1cc(O)c(C(=O)CCc2cc(OC)c(OC)cc2)c(OC)c1',\n",
       " 'feature_id': '-1',\n",
       " 'adduct': '[M+H]+',\n",
       " 'spectype': 'ALL_MSN_TO_PSEUDO_MS2',\n",
       " 'fragmentation_method': 'HCD',\n",
       " 'isolation_window': '1.2000000476840569',\n",
       " 'acquisition': 'Crude',\n",
       " 'instrument_type': 'Orbitrap',\n",
       " 'ims_type': 'none',\n",
       " 'ion_source': 'ESI',\n",
       " 'ionmode': 'positive',\n",
       " 'dataset_id': 'MSVPLACEHOLDERID',\n",
       " 'usi': 'mzspec:MSVPLACEHOLDERID:20230404_pluskal_nih_01P_A3_id_positive.mzML:-1',\n",
       " 'scans': '-1',\n",
       " 'precursor_purity': '1.0',\n",
       " 'quality_chimeric': 'PASSED',\n",
       " 'quality_explained_intensity': '0.97712445',\n",
       " 'quality_explained_signals': '0.8',\n",
       " 'collision_energy': '60.0',\n",
       " 'num_peaks': '135',\n",
       " 'compound_name': 'MEGxp0_001769',\n",
       " 'parent_mass': '346.141638',\n",
       " 'inchi_aux': 'MQEOTHTYNCMSAN-UHFFFAOYSA-N',\n",
       " 'ms_level': '2',\n",
       " 'retention_time': 37.17,\n",
       " 'principal_investigator': 'Tomas Pluskal',\n",
       " 'data_collector': 'Corinna Brungs',\n",
       " 'precursor_mz': 347.14891,\n",
       " 'identifier': '0000001_0000000'}"
      ]
     },
     "execution_count": 8,
     "metadata": {},
     "output_type": "execute_result"
    }
   ],
   "execution_count": 8,
   "source": "loaded_spectra[0].metadata_dict()",
   "id": "e9e9589726894444"
  },
  {
   "metadata": {
    "ExecuteTime": {
     "end_time": "2024-12-05T07:11:11.287004Z",
     "start_time": "2024-12-05T07:11:09.734433Z"
    }
   },
   "cell_type": "code",
   "outputs": [],
   "execution_count": 11,
   "source": "",
   "id": "b517d44276eae7bf"
  },
  {
   "metadata": {},
   "cell_type": "code",
   "outputs": [],
   "execution_count": null,
   "source": "\n",
   "id": "1299d617ff198dd3"
  },
  {
   "metadata": {},
   "cell_type": "code",
   "outputs": [],
   "execution_count": null,
   "source": "",
   "id": "d39949548d692ab8"
  }
 ],
 "metadata": {
  "kernelspec": {
   "display_name": "Python 3",
   "language": "python",
   "name": "python3"
  },
  "language_info": {
   "codemirror_mode": {
    "name": "ipython",
    "version": 2
   },
   "file_extension": ".py",
   "mimetype": "text/x-python",
   "name": "python",
   "nbconvert_exporter": "python",
   "pygments_lexer": "ipython2",
   "version": "2.7.6"
  }
 },
 "nbformat": 4,
 "nbformat_minor": 5
}
